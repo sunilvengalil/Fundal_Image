{
 "cells": [
  {
   "cell_type": "code",
   "execution_count": 1,
   "metadata": {},
   "outputs": [],
   "source": [
    "import cv2\n",
    "import os\n",
    "import matplotlib.pyplot as plt\n",
    "\n",
    "directory = \"Drive_OD_Images/\"\n",
    "\n",
    "dir1 = \"Drive_OD_groundtruth/\"\n",
    "\n",
    "dir2 = \"Drive_OD_Predictions/\""
   ]
  },
  {
   "cell_type": "code",
   "execution_count": 2,
   "metadata": {},
   "outputs": [],
   "source": [
    "#scikit learn\n",
    "from sklearn.metrics import roc_curve\n",
    "from sklearn.metrics import roc_auc_score\n",
    "from sklearn.metrics import confusion_matrix\n",
    "from sklearn.metrics import precision_recall_curve\n",
    "from sklearn.metrics import f1_score"
   ]
  },
  {
   "cell_type": "code",
   "execution_count": 3,
   "metadata": {},
   "outputs": [
    {
     "name": "stdout",
     "output_type": "stream",
     "text": [
      "Number of samples: 36\n",
      "Drive_OD_groundtruth/1.jpg | Drive_OD_Predictions/1.jpg\n",
      "Drive_OD_groundtruth/10.jpg | Drive_OD_Predictions/10.jpg\n",
      "Drive_OD_groundtruth/11.jpg | Drive_OD_Predictions/11.jpg\n",
      "Drive_OD_groundtruth/12.jpg | Drive_OD_Predictions/12.jpg\n",
      "Drive_OD_groundtruth/13.jpg | Drive_OD_Predictions/13.jpg\n",
      "Drive_OD_groundtruth/14.jpg | Drive_OD_Predictions/14.jpg\n",
      "Drive_OD_groundtruth/15.jpg | Drive_OD_Predictions/15.jpg\n",
      "Drive_OD_groundtruth/16.jpg | Drive_OD_Predictions/16.jpg\n",
      "Drive_OD_groundtruth/17.jpg | Drive_OD_Predictions/17.jpg\n",
      "Drive_OD_groundtruth/18.jpg | Drive_OD_Predictions/18.jpg\n"
     ]
    }
   ],
   "source": [
    "import os\n",
    "\n",
    "input_dir = dir1\n",
    "target_dir = dir2\n",
    "img_size = (608, 400)\n",
    "num_classes = 2\n",
    "batch_size = 4\n",
    "\n",
    "input_img_paths = sorted(\n",
    "    [\n",
    "        os.path.join(input_dir, fname)\n",
    "        for fname in os.listdir(input_dir)\n",
    "        if fname.endswith(\".jpg\")\n",
    "    ]\n",
    ")\n",
    "target_img_paths = sorted(\n",
    "    [\n",
    "        os.path.join(target_dir, fname)\n",
    "        for fname in os.listdir(target_dir)\n",
    "        if fname.endswith(\".jpg\") and not fname.startswith(\".\")\n",
    "    ]\n",
    ")\n",
    "\n",
    "print(\"Number of samples:\", len(input_img_paths))\n",
    "\n",
    "for input_path, target_path in zip(input_img_paths[:10], target_img_paths[:10]):\n",
    "    print(input_path, \"|\", target_path)"
   ]
  },
  {
   "cell_type": "code",
   "execution_count": 4,
   "metadata": {},
   "outputs": [
    {
     "name": "stdout",
     "output_type": "stream",
     "text": [
      "<class 'numpy.ndarray'>\n",
      "(400, 608, 3)\n"
     ]
    }
   ],
   "source": [
    "# Import the necessary libraries\n",
    "from PIL import Image\n",
    "import numpy as np\n",
    "\n",
    "# load the image and convert into numpy array\n",
    "\n",
    "img1 = Image.open(dir1 + \"1.jpg\")\n",
    "img2 = Image.open(dir2 + \"1.jpg\")\n",
    "  \n",
    "# asarray() class is used to convert\n",
    "# PIL images into NumPy arrays\n",
    "numpy_data1 = np.asarray(img1)\n",
    "numpy_data2 = np.asarray(img2)\n",
    "  \n",
    "# <class 'numpy.ndarray'>\n",
    "print(type(numpy_data1))\n",
    "  \n",
    "#  shape\n",
    "print(numpy_data1.shape)"
   ]
  },
  {
   "cell_type": "code",
   "execution_count": 5,
   "metadata": {},
   "outputs": [
    {
     "name": "stdout",
     "output_type": "stream",
     "text": [
      "(36, 400, 608, 3)\n",
      "(36, 400, 608, 3)\n"
     ]
    }
   ],
   "source": [
    "data1 = []\n",
    "data2 = []\n",
    "\n",
    "for i in range(36):\n",
    "    img1 = Image.open(dir1 + str(i+1) + \".jpg\")\n",
    "    img2 = Image.open(dir2 + str(i+1) + \".jpg\")\n",
    "    \n",
    "    np_data1 = np.asarray(img1)\n",
    "    np_data2 = np.asarray(img2)\n",
    "    \n",
    "    data1.append(np_data1)\n",
    "    data2.append(np_data2)\n",
    "    \n",
    "data1 = np.array(data1)\n",
    "data2 = np.array(data2)\n",
    "\n",
    "print(data1.shape)\n",
    "print(data2.shape)"
   ]
  },
  {
   "cell_type": "code",
   "execution_count": 6,
   "metadata": {},
   "outputs": [
    {
     "name": "stdout",
     "output_type": "stream",
     "text": [
      "The Accuracy for a single image = 100.0 %\n"
     ]
    }
   ],
   "source": [
    "# Print the accuracy of a single image\n",
    "\n",
    "import sklearn\n",
    "\n",
    "acc = sklearn.metrics.accuracy_score(np.array(numpy_data1)[:, 2, :], np.array(numpy_data2)[:, 2, :])\n",
    "print (f\"The Accuracy for a single image = {acc*100} %\")"
   ]
  },
  {
   "cell_type": "code",
   "execution_count": 7,
   "metadata": {},
   "outputs": [
    {
     "name": "stdout",
     "output_type": "stream",
     "text": [
      "The Overall Accuracy for the images = 100.0 %\n",
      "The Overall Accuracy for the images with tolerance = 96.05263157894737 %\n"
     ]
    }
   ],
   "source": [
    "acc_list = []\n",
    "\n",
    "for i, j in zip(os.listdir(dir1), os.listdir(dir2)):\n",
    "    \n",
    "    img1 = Image.open(dir1 + i)\n",
    "    img2 = Image.open(dir2 + j)\n",
    "\n",
    "    numpy_data1 = np.asarray(img1)\n",
    "    numpy_data2 = np.asarray(img2)\n",
    "    \n",
    "    acc = sklearn.metrics.accuracy_score(np.array(numpy_data2)[:, 2, :], np.array(numpy_data1)[:, 2, :])\n",
    "    acc_list.append(acc)\n",
    "\n",
    "acc_list = np.array(acc_list)\n",
    "acc1 = acc_list.mean()\n",
    "print (f\"The Overall Accuracy for the images = {acc1*100} %\")\n",
    "\n",
    "tolerance = 1e-10 \n",
    "accuracy = (np.abs(numpy_data1 - numpy_data2) < tolerance ).all(axis=(0,2)).mean()\n",
    "print (f\"The Overall Accuracy for the images with tolerance = {(1-accuracy)*100} %\")"
   ]
  },
  {
   "cell_type": "code",
   "execution_count": 8,
   "metadata": {},
   "outputs": [
    {
     "name": "stdout",
     "output_type": "stream",
     "text": [
      "False\n"
     ]
    }
   ],
   "source": [
    "print(np.array_equal(numpy_data1, numpy_data2))"
   ]
  },
  {
   "cell_type": "code",
   "execution_count": 9,
   "metadata": {},
   "outputs": [
    {
     "name": "stdout",
     "output_type": "stream",
     "text": [
      "False\n"
     ]
    }
   ],
   "source": [
    "print(np.array_equiv(numpy_data1, numpy_data2))"
   ]
  },
  {
   "cell_type": "code",
   "execution_count": 10,
   "metadata": {},
   "outputs": [
    {
     "data": {
      "text/plain": [
       "array([1., 1., 1., ..., 1., 1., 1.])"
      ]
     },
     "execution_count": 10,
     "metadata": {},
     "output_type": "execute_result"
    }
   ],
   "source": [
    "final_shape = numpy_data1.shape[0]*numpy_data1.shape[1]*numpy_data1.shape[2]\n",
    "\n",
    "a = np.reshape(numpy_data1, final_shape)\n",
    "b = np.reshape(numpy_data2, final_shape)\n",
    "\n",
    "y_score = np.empty((a.shape[0]))\n",
    "\n",
    "for i in range(a.shape[0]):\n",
    "    if a[i] == b[i]:\n",
    "        y_score[i] = 1\n",
    "    else:\n",
    "        y_score[i] = 0\n",
    "        \n",
    "y_score"
   ]
  },
  {
   "cell_type": "code",
   "execution_count": 11,
   "metadata": {},
   "outputs": [
    {
     "data": {
      "text/plain": [
       "array([1., 1., 1., ..., 1., 1., 1.])"
      ]
     },
     "execution_count": 11,
     "metadata": {},
     "output_type": "execute_result"
    }
   ],
   "source": [
    "threshold_value = 0.5\n",
    "y_true = np.empty((a.shape[0]))\n",
    "\n",
    "for i in range(a.shape[0]):\n",
    "    if np.float32(int(a[i])-int(b[i]))/255.0 > 0.5:\n",
    "        y_true[i] = 0\n",
    "    else:\n",
    "        y_true[i] = 1\n",
    "        \n",
    "y_true"
   ]
  },
  {
   "cell_type": "code",
   "execution_count": 12,
   "metadata": {},
   "outputs": [
    {
     "name": "stdout",
     "output_type": "stream",
     "text": [
      "The Confusion Matrix = \n"
     ]
    },
    {
     "data": {
      "text/plain": [
       "array([[ 17265,      0],\n",
       "       [ 47853, 664482]], dtype=int64)"
      ]
     },
     "execution_count": 12,
     "metadata": {},
     "output_type": "execute_result"
    }
   ],
   "source": [
    "print(\"The Confusion Matrix = \")\n",
    "confusion_matrix(y_true, y_score)"
   ]
  },
  {
   "cell_type": "code",
   "execution_count": 13,
   "metadata": {},
   "outputs": [],
   "source": [
    "confusion = confusion_matrix(y_true, y_score)"
   ]
  },
  {
   "cell_type": "code",
   "execution_count": 14,
   "metadata": {},
   "outputs": [
    {
     "name": "stdout",
     "output_type": "stream",
     "text": [
      "\n",
      "Area under the ROC curve: 0.9664111689022721\n"
     ]
    },
    {
     "data": {
      "text/plain": [
       "<matplotlib.legend.Legend at 0x29ad84a2d08>"
      ]
     },
     "execution_count": 14,
     "metadata": {},
     "output_type": "execute_result"
    },
    {
     "data": {
      "image/png": "[encoded data removed]",
      "text/plain": [
       "<Figure size 432x288 with 1 Axes>"
      ]
     },
     "metadata": {
      "needs_background": "light"
     },
     "output_type": "display_data"
    }
   ],
   "source": [
    "# Area under the ROC curve\n",
    "fpr, tpr, thresholds = roc_curve((y_true), y_score)\n",
    "AUC_ROC = roc_auc_score(y_true, y_score)\n",
    "# test_integral = np.trapz(tpr,fpr) #trapz is numpy integration\n",
    "print(\"\\nArea under the ROC curve: \" +str(AUC_ROC))\n",
    "roc_curve =plt.figure()\n",
    "plt.plot(fpr,tpr,'-',label='Area Under the Curve (AUC = %0.4f)' % AUC_ROC)\n",
    "plt.title('ROC curve')\n",
    "plt.xlabel(\"FPR (False Positive Rate)\")\n",
    "plt.ylabel(\"TPR (True Positive Rate)\")\n",
    "plt.legend(loc=\"lower right\")"
   ]
  },
  {
   "cell_type": "code",
   "execution_count": 15,
   "metadata": {},
   "outputs": [
    {
     "name": "stdout",
     "output_type": "stream",
     "text": [
      "\n",
      "Area under Precision-Recall curve: 0.9992051656127984\n"
     ]
    },
    {
     "data": {
      "text/plain": [
       "<matplotlib.legend.Legend at 0x205559e49c8>"
      ]
     },
     "execution_count": 15,
     "metadata": {},
     "output_type": "execute_result"
    },
    {
     "data": {
      "image/png": "[encoded data removed]",
      "text/plain": [
       "<Figure size 432x288 with 1 Axes>"
      ]
     },
     "metadata": {
      "needs_background": "light"
     },
     "output_type": "display_data"
    }
   ],
   "source": [
    "precision, recall, thresholds = precision_recall_curve(y_true, y_score)\n",
    "precision = np.fliplr([precision])[0]  #so the array is increasing (you won't get negative AUC)\n",
    "recall = np.fliplr([recall])[0]  #so the array is increasing (you won't get negative AUC)\n",
    "AUC_prec_rec = np.trapz(precision,recall)\n",
    "\n",
    "print(\"\\nArea under Precision-Recall curve: \" +str(AUC_prec_rec))\n",
    "\n",
    "prec_rec_curve = plt.figure()\n",
    "plt.plot(recall,precision,'-',label='Area Under the Curve (AUC = %0.4f)' % AUC_prec_rec)\n",
    "plt.title('Precision - Recall curve')\n",
    "plt.xlabel(\"Recall\")\n",
    "plt.ylabel(\"Precision\")\n",
    "plt.legend(loc=\"lower right\")"
   ]
  },
  {
   "cell_type": "code",
   "execution_count": 16,
   "metadata": {},
   "outputs": [
    {
     "name": "stdout",
     "output_type": "stream",
     "text": [
      "Specificity: 1.0\n",
      "Sensitivity: 0.9328223378045442\n",
      "Precision: 1.0\n",
      "\n",
      "F1 score (F-measure): 0.9652437469903408\n"
     ]
    }
   ],
   "source": [
    "# confusion = confusion_matrix(y_true, y_score)\n",
    "\n",
    "specificity = 0\n",
    "if float(confusion[0,0]+confusion[0,1])!=0:\n",
    "    specificity = float(confusion[0,0])/float(confusion[0,0]+confusion[0,1])\n",
    "print(\"Specificity: \" +str(specificity))\n",
    "\n",
    "sensitivity = 0\n",
    "if float(confusion[1,1]+confusion[1,0])!=0:\n",
    "    sensitivity = float(confusion[1,1])/float(confusion[1,1]+confusion[1,0])\n",
    "print(\"Sensitivity: \" +str(sensitivity))\n",
    "\n",
    "precision = 0\n",
    "if float(confusion[1,1]+confusion[0,1])!=0:\n",
    "    precision = float(confusion[1,1])/float(confusion[1,1]+confusion[0,1])\n",
    "    \n",
    "print(\"Precision: \" +str(precision))\n",
    "\n",
    "# F1 score\n",
    "F1_score = f1_score(y_true, y_score, labels=None, average='binary', sample_weight=None)\n",
    "print(\"\\nF1 score (F-measure): \" +str(F1_score))"
   ]
  },
  {
   "cell_type": "code",
   "execution_count": 17,
   "metadata": {},
   "outputs": [],
   "source": [
    "# Compute The IoU Scores:\n",
    "\n",
    "intersection_values = 0\n",
    "union_values = 0\n",
    "\n",
    "for i, j in zip(y_true, y_score):\n",
    "    if i and j == 1:\n",
    "        intersection_values += 1\n",
    "        \n",
    "for i, j in zip(y_true, y_score):\n",
    "    if i or j == 1:\n",
    "        union_values += 1"
   ]
  },
  {
   "cell_type": "code",
   "execution_count": 18,
   "metadata": {},
   "outputs": [
    {
     "name": "stdout",
     "output_type": "stream",
     "text": [
      "The IoU Score for the single image =  0.93282235\n"
     ]
    }
   ],
   "source": [
    "print(\"The IoU Score for the single image = \", np.float32(intersection_values/union_values))"
   ]
  },
  {
   "cell_type": "markdown",
   "metadata": {},
   "source": [
    "## Individual Blocks:"
   ]
  },
  {
   "cell_type": "code",
   "execution_count": 19,
   "metadata": {},
   "outputs": [],
   "source": [
    "import pandas as pd\n",
    "\n",
    "df = pd.DataFrame(columns = ['Recall', 'Precision', 'Accuracy', 'F1-Score'])"
   ]
  },
  {
   "cell_type": "code",
   "execution_count": 20,
   "metadata": {},
   "outputs": [
    {
     "name": "stdout",
     "output_type": "stream",
     "text": [
      "\n",
      " Image1\n",
      "Sensitivity: 0.9767310855263158\n",
      "Precision: 1.0\n",
      "Accuracy: 1.0\n",
      "F1 score (F-measure): 0.9882285887827333\n",
      "\n",
      " Image2\n",
      "Sensitivity: 0.9472124921570827\n",
      "Precision: 1.0\n",
      "Accuracy: 0.9895682565789473\n",
      "F1 score (F-measure): 0.9728907306955287\n",
      "\n",
      " Image3\n",
      "Sensitivity: 0.9501933795456616\n",
      "Precision: 1.0\n",
      "Accuracy: 0.9929851973684211\n",
      "F1 score (F-measure): 0.9744606760659079\n",
      "\n",
      " Image4\n",
      "Sensitivity: 0.9406827131636026\n",
      "Precision: 1.0\n",
      "Accuracy: 0.9762952302631579\n",
      "F1 score (F-measure): 0.9694348352597518\n",
      "\n",
      " Image5\n",
      "Sensitivity: 0.939721799336823\n",
      "Precision: 1.0\n",
      "Accuracy: 0.9858347039473684\n",
      "F1 score (F-measure): 0.9689243062155688\n",
      "\n",
      " Image6\n",
      "Sensitivity: 0.9469675869150409\n",
      "Precision: 1.0\n",
      "Accuracy: 0.9891077302631579\n",
      "F1 score (F-measure): 0.9727615326308597\n",
      "\n",
      " Image7\n",
      "Sensitivity: 0.9555983514362676\n",
      "Precision: 1.0\n",
      "Accuracy: 0.9906949013157895\n",
      "F1 score (F-measure): 0.9772951084095964\n",
      "\n",
      " Image8\n",
      "Sensitivity: 0.9334230281424605\n",
      "Precision: 1.0\n",
      "Accuracy: 0.9596381578947368\n",
      "F1 score (F-measure): 0.9655652328081022\n",
      "\n",
      " Image9\n",
      "Sensitivity: 0.9501993533580152\n",
      "Precision: 1.0\n",
      "Accuracy: 0.9817927631578948\n",
      "F1 score (F-measure): 0.9744638174778214\n",
      "\n",
      " Image10\n",
      "Sensitivity: 0.9246655604215136\n",
      "Precision: 1.0\n",
      "Accuracy: 0.9614473684210526\n",
      "F1 score (F-measure): 0.9608584259376534\n",
      "\n",
      " Image11\n",
      "Sensitivity: 0.9492334357651827\n",
      "Precision: 1.0\n",
      "Accuracy: 0.9821463815789474\n",
      "F1 score (F-measure): 0.9739556261947208\n",
      "\n",
      " Image12\n",
      "Sensitivity: 0.9301391442437933\n",
      "Precision: 1.0\n",
      "Accuracy: 0.9683840460526316\n",
      "F1 score (F-measure): 0.9638052748867608\n",
      "\n",
      " Image13\n",
      "Sensitivity: 0.935082053368596\n",
      "Precision: 1.0\n",
      "Accuracy: 0.9701644736842105\n",
      "F1 score (F-measure): 0.9664520961690515\n",
      "\n",
      " Image14\n",
      "Sensitivity: 0.9377258272751692\n",
      "Precision: 1.0\n",
      "Accuracy: 0.9490871710526316\n",
      "F1 score (F-measure): 0.9678622373463428\n",
      "\n",
      " Image15\n",
      "Sensitivity: 0.9422356651543368\n",
      "Precision: 1.0\n",
      "Accuracy: 0.986953125\n",
      "F1 score (F-measure): 0.9702588435162564\n",
      "\n",
      " Image16\n",
      "Sensitivity: 0.9154436748424567\n",
      "Precision: 1.0\n",
      "Accuracy: 0.9741735197368421\n",
      "F1 score (F-measure): 0.9558554885909145\n",
      "\n",
      " Image17\n",
      "Sensitivity: 0.9400391796601353\n",
      "Precision: 1.0\n",
      "Accuracy: 0.980217927631579\n",
      "F1 score (F-measure): 0.9690929848383943\n",
      "\n",
      " Image18\n",
      "Sensitivity: 0.9203332765086941\n",
      "Precision: 1.0\n",
      "Accuracy: 0.9648026315789474\n",
      "F1 score (F-measure): 0.9585141160308664\n",
      "\n",
      " Image19\n",
      "Sensitivity: 0.9464146660702155\n",
      "Precision: 1.0\n",
      "Accuracy: 0.9927138157894737\n",
      "F1 score (F-measure): 0.9724697235055403\n",
      "\n",
      " Image20\n",
      "Sensitivity: 0.9504146603015033\n",
      "Precision: 1.0\n",
      "Accuracy: 0.9931044407894737\n",
      "F1 score (F-measure): 0.9745770267688454\n",
      "\n",
      " Image21\n",
      "Sensitivity: 0.9046508402778654\n",
      "Precision: 1.0\n",
      "Accuracy: 0.9784416118421052\n",
      "F1 score (F-measure): 0.9499387721330466\n",
      "\n",
      " Image22\n",
      "Sensitivity: 0.927367066750182\n",
      "Precision: 1.0\n",
      "Accuracy: 0.9715625\n",
      "F1 score (F-measure): 0.9623149453454719\n",
      "\n",
      " Image23\n",
      "Sensitivity: 0.9226632873240401\n",
      "Precision: 1.0\n",
      "Accuracy: 0.9604276315789474\n",
      "F1 score (F-measure): 0.9597762576599687\n",
      "\n",
      " Image24\n",
      "Sensitivity: 0.942444936758844\n",
      "Precision: 1.0\n",
      "Accuracy: 0.9892557565789474\n",
      "F1 score (F-measure): 0.9703697838986406\n",
      "\n",
      " Image25\n",
      "Sensitivity: 0.9470761763290583\n",
      "Precision: 1.0\n",
      "Accuracy: 0.9826685855263158\n",
      "F1 score (F-measure): 0.9728188222349254\n",
      "\n",
      " Image26\n",
      "Sensitivity: 0.9497096571975321\n",
      "Precision: 1.0\n",
      "Accuracy: 0.9970065789473684\n",
      "F1 score (F-measure): 0.9742062400846113\n",
      "\n",
      " Image27\n",
      "Sensitivity: 0.9525187087183472\n",
      "Precision: 1.0\n",
      "Accuracy: 0.9736348684210526\n",
      "F1 score (F-measure): 0.9756820300519323\n",
      "\n",
      " Image28\n",
      "Sensitivity: 0.9347141554670089\n",
      "Precision: 1.0\n",
      "Accuracy: 0.9741447368421052\n",
      "F1 score (F-measure): 0.9662555606219606\n",
      "\n",
      " Image29\n",
      "Sensitivity: 0.9383075355305149\n",
      "Precision: 1.0\n",
      "Accuracy: 0.9804975328947368\n",
      "F1 score (F-measure): 0.9681719936910838\n",
      "\n",
      " Image30\n",
      "Sensitivity: 0.9349921977141411\n",
      "Precision: 1.0\n",
      "Accuracy: 0.9749588815789474\n",
      "F1 score (F-measure): 0.9664041010797592\n",
      "\n",
      " Image31\n",
      "Sensitivity: 0.9274582166793925\n",
      "Precision: 1.0\n",
      "Accuracy: 0.9693256578947368\n",
      "F1 score (F-measure): 0.962364017703283\n",
      "\n",
      " Image32\n",
      "Sensitivity: 0.9489210461623077\n",
      "Precision: 1.0\n",
      "Accuracy: 0.9868462171052632\n",
      "F1 score (F-measure): 0.9737911630959737\n",
      "\n",
      " Image33\n",
      "Sensitivity: 0.9342849026542115\n",
      "Precision: 1.0\n",
      "Accuracy: 0.9987541118421053\n",
      "F1 score (F-measure): 0.9660261540295255\n",
      "\n",
      " Image34\n",
      "Sensitivity: 0.9301604250883482\n",
      "Precision: 1.0\n",
      "Accuracy: 0.9703865131578947\n",
      "F1 score (F-measure): 0.9638166993769676\n",
      "\n",
      " Image35\n",
      "Sensitivity: 0.9499060531565312\n",
      "Precision: 1.0\n",
      "Accuracy: 0.9935279605263158\n",
      "F1 score (F-measure): 0.9743095587798315\n",
      "\n",
      " Image36\n",
      "Sensitivity: 0.9328223378045442\n",
      "Precision: 1.0\n",
      "Accuracy: 0.9763363486842105\n",
      "F1 score (F-measure): 0.9652437469903408\n"
     ]
    }
   ],
   "source": [
    "count = 0\n",
    "\n",
    "for i, j in zip(os.listdir(dir1), os.listdir(dir2)):\n",
    "    \n",
    "    append_list = []\n",
    "    \n",
    "    img1 = Image.open(dir1 + i)\n",
    "    img2 = Image.open(dir2 + j)\n",
    "\n",
    "    numpy_data1 = np.asarray(img1)\n",
    "    numpy_data2 = np.asarray(img2)\n",
    "    \n",
    "    final_shape = numpy_data1.shape[0]*numpy_data1.shape[1]*numpy_data1.shape[2]\n",
    "\n",
    "    a = np.reshape(numpy_data1, final_shape)\n",
    "    b = np.reshape(numpy_data2, final_shape)\n",
    "\n",
    "    y_score = np.empty((a.shape[0]))\n",
    "\n",
    "    for i in range(a.shape[0]):\n",
    "        if a[i] == b[i]:\n",
    "            y_score[i] = 1\n",
    "        else:\n",
    "            y_score[i] = 0\n",
    "\n",
    "    threshold_value = 0.5\n",
    "    y_true = np.empty((a.shape[0]))\n",
    "\n",
    "    for i in range(a.shape[0]):\n",
    "        if np.float32(int(a[i])-int(b[i]))/255.0 > 0.5:\n",
    "            y_true[i] = 0\n",
    "        else:\n",
    "            y_true[i] = 1\n",
    "            \n",
    "    count += 1\n",
    "    \n",
    "    print(f\"\\n Image{count}\")\n",
    "            \n",
    "#     print(\"The Confusion Matrix = \")\n",
    "#     print(confusion_matrix(y_true, y_score))\n",
    "    \n",
    "    confusion = confusion_matrix(y_true, y_score)\n",
    "    \n",
    "    # confusion = confusion_matrix(y_true, y_score)\n",
    "\n",
    "    specificity = 0\n",
    "    if float(confusion[0,0]+confusion[0,1])!=0:\n",
    "        specificity = float(confusion[0,0])/float(confusion[0,0]+confusion[0,1])\n",
    "#     print(\"Specificity: \" +str(specificity))\n",
    "\n",
    "    sensitivity = 0\n",
    "    if float(confusion[1,1]+confusion[1,0])!=0:\n",
    "        sensitivity = float(confusion[1,1])/float(confusion[1,1]+confusion[1,0])\n",
    "    print(\"Sensitivity: \" +str(sensitivity))\n",
    "    append_list.append(sensitivity)\n",
    "    \n",
    "    precision = 0\n",
    "    if float(confusion[1,1]+confusion[0,1])!=0:\n",
    "        precision = float(confusion[1,1])/float(confusion[1,1]+confusion[0,1])\n",
    "\n",
    "    print(\"Precision: \" +str(precision))\n",
    "    append_list.append(precision)\n",
    "    \n",
    "    # Accuracy\n",
    "    \n",
    "    accuracy = 0\n",
    "\n",
    "    accuracy = float(confusion[1,0]+confusion[1,1])/float(confusion[0,0]+confusion[0,1]+confusion[1,0]+confusion[1,1])\n",
    "    print(\"Accuracy: \" +str(accuracy))\n",
    "    append_list.append(accuracy)\n",
    "\n",
    "    # F1 score\n",
    "    F1_score = f1_score(y_true, y_score, labels=None, average='binary', sample_weight=None)\n",
    "    print(\"F1 score (F-measure): \" +str(F1_score))\n",
    "    append_list.append(F1_score)\n",
    "    \n",
    "    df.loc[len(df)] = append_list\n",
    "        \n",
    "#     if count == 10:\n",
    "#         break"
   ]
  },
  {
   "cell_type": "code",
   "execution_count": 21,
   "metadata": {},
   "outputs": [],
   "source": [
    "df.to_csv('values.csv')"
   ]
  },
  {
   "cell_type": "markdown",
   "metadata": {},
   "source": [
    "## GLOBAL:"
   ]
  },
  {
   "cell_type": "code",
   "execution_count": 22,
   "metadata": {},
   "outputs": [
    {
     "data": {
      "text/plain": [
       "array([1., 1., 1., ..., 1., 1., 1.])"
      ]
     },
     "execution_count": 22,
     "metadata": {},
     "output_type": "execute_result"
    }
   ],
   "source": [
    "final_shape = data1.shape[0]*data1.shape[1]*data1.shape[2]*data1.shape[3]\n",
    "\n",
    "c = np.reshape(data1, final_shape)\n",
    "d = np.reshape(data2, final_shape)\n",
    "\n",
    "y_score_all = np.empty((c.shape[0]))\n",
    "\n",
    "for i in range(c.shape[0]):\n",
    "    if c[i] == d[i]:\n",
    "        y_score_all[i] = 1\n",
    "    else:\n",
    "        y_score_all[i] = 0\n",
    "        \n",
    "y_score_all"
   ]
  },
  {
   "cell_type": "code",
   "execution_count": 23,
   "metadata": {},
   "outputs": [
    {
     "data": {
      "text/plain": [
       "array([1., 1., 1., ..., 1., 1., 1.])"
      ]
     },
     "execution_count": 23,
     "metadata": {},
     "output_type": "execute_result"
    }
   ],
   "source": [
    "threshold_value = 0.5\n",
    "y_true_all = np.empty((c.shape[0]))\n",
    "\n",
    "for i in range(c.shape[0]):\n",
    "    if np.float32(int(c[i])-int(d[i]))/255.0 > 0.5:\n",
    "        y_true_all[i] = 0\n",
    "    else:\n",
    "        y_true_all[i] = 1\n",
    "        \n",
    "y_true_all"
   ]
  },
  {
   "cell_type": "code",
   "execution_count": 24,
   "metadata": {},
   "outputs": [
    {
     "name": "stdout",
     "output_type": "stream",
     "text": [
      "The Global Confusion Matrix = \n"
     ]
    },
    {
     "data": {
      "text/plain": [
       "array([[  534879,        0],\n",
       "       [ 1562376, 24168345]], dtype=int64)"
      ]
     },
     "execution_count": 24,
     "metadata": {},
     "output_type": "execute_result"
    }
   ],
   "source": [
    "print(\"The Global Confusion Matrix = \")\n",
    "confusion_matrix(y_true_all, y_score_all)"
   ]
  },
  {
   "cell_type": "code",
   "execution_count": 25,
   "metadata": {},
   "outputs": [],
   "source": [
    "confusion = confusion_matrix(y_true_all, y_score_all)"
   ]
  },
  {
   "cell_type": "code",
   "execution_count": 26,
   "metadata": {},
   "outputs": [
    {
     "name": "stdout",
     "output_type": "stream",
     "text": [
      "\n",
      "Area under the ROC curve: 0.9696398713428979\n"
     ]
    },
    {
     "data": {
      "text/plain": [
       "<matplotlib.legend.Legend at 0x20556d64f08>"
      ]
     },
     "execution_count": 26,
     "metadata": {},
     "output_type": "execute_result"
    },
    {
     "data": {
      "image/png": "[encoded data removed]",
      "text/plain": [
       "<Figure size 432x288 with 1 Axes>"
      ]
     },
     "metadata": {
      "needs_background": "light"
     },
     "output_type": "display_data"
    }
   ],
   "source": [
    "# Area under the ROC curve\n",
    "fpr, tpr, thresholds = roc_curve((y_true_all), y_score_all)\n",
    "AUC_ROC = roc_auc_score(y_true_all, y_score_all)\n",
    "# test_integral = np.trapz(tpr,fpr) #trapz is numpy integration\n",
    "print(\"\\nArea under the ROC curve: \" +str(AUC_ROC))\n",
    "roc_curve =plt.figure()\n",
    "plt.plot(fpr,tpr,'-',label='Area Under the Curve (AUC = %0.4f)' % AUC_ROC)\n",
    "plt.title('ROC curve')\n",
    "plt.xlabel(\"FPR (False Positive Rate)\")\n",
    "plt.ylabel(\"TPR (True Positive Rate)\")\n",
    "plt.legend(loc=\"lower right\")"
   ]
  },
  {
   "cell_type": "code",
   "execution_count": 27,
   "metadata": {},
   "outputs": [
    {
     "name": "stdout",
     "output_type": "stream",
     "text": [
      "\n",
      "Area under Precision-Recall curve: 0.9993817390329564\n"
     ]
    },
    {
     "data": {
      "text/plain": [
       "<matplotlib.legend.Legend at 0x20500052f08>"
      ]
     },
     "execution_count": 27,
     "metadata": {},
     "output_type": "execute_result"
    },
    {
     "data": {
      "image/png": "[encoded data removed]",
      "text/plain": [
       "<Figure size 432x288 with 1 Axes>"
      ]
     },
     "metadata": {
      "needs_background": "light"
     },
     "output_type": "display_data"
    }
   ],
   "source": [
    "precision, recall, thresholds = precision_recall_curve(y_true_all, y_score_all)\n",
    "precision = np.fliplr([precision])[0]  #so the array is increasing (you won't get negative AUC)\n",
    "recall = np.fliplr([recall])[0]  #so the array is increasing (you won't get negative AUC)\n",
    "AUC_prec_rec = np.trapz(precision,recall)\n",
    "\n",
    "print(\"\\nArea under Precision-Recall curve: \" +str(AUC_prec_rec))\n",
    "\n",
    "prec_rec_curve = plt.figure()\n",
    "plt.plot(recall,precision,'-',label='Area Under the Curve (AUC = %0.4f)' % AUC_prec_rec)\n",
    "plt.title('Precision - Recall curve')\n",
    "plt.xlabel(\"Recall\")\n",
    "plt.ylabel(\"Precision\")\n",
    "plt.legend(loc=\"lower right\")"
   ]
  },
  {
   "cell_type": "code",
   "execution_count": 28,
   "metadata": {},
   "outputs": [
    {
     "name": "stdout",
     "output_type": "stream",
     "text": [
      "Specificity: 1.0\n",
      "Sensitivity: 0.9392797426857957\n",
      "Precision: 1.0\n",
      "\n",
      "F1 score (F-measure): 0.9652437469903408\n"
     ]
    }
   ],
   "source": [
    "# confusion = confusion_matrix(y_true, y_score)\n",
    "\n",
    "specificity = 0\n",
    "if float(confusion[0,0]+confusion[0,1])!=0:\n",
    "    specificity = float(confusion[0,0])/float(confusion[0,0]+confusion[0,1])\n",
    "print(\"Specificity: \" +str(specificity))\n",
    "\n",
    "sensitivity = 0\n",
    "if float(confusion[1,1]+confusion[1,0])!=0:\n",
    "    sensitivity = float(confusion[1,1])/float(confusion[1,1]+confusion[1,0])\n",
    "print(\"Sensitivity: \" +str(sensitivity))\n",
    "\n",
    "precision = 0\n",
    "if float(confusion[1,1]+confusion[0,1])!=0:\n",
    "    precision = float(confusion[1,1])/float(confusion[1,1]+confusion[0,1])\n",
    "    \n",
    "print(\"Precision: \" +str(precision))\n",
    "\n",
    "# F1 score\n",
    "F1_score = f1_score(y_true, y_score, labels=None, average='binary', sample_weight=None)\n",
    "print(\"\\nF1 score (F-measure): \" +str(F1_score))"
   ]
  },
  {
   "cell_type": "code",
   "execution_count": 29,
   "metadata": {},
   "outputs": [
    {
     "name": "stdout",
     "output_type": "stream",
     "text": [
      "Accuracy: 0.9796357593201754\n"
     ]
    }
   ],
   "source": [
    "accuracy = 0\n",
    "\n",
    "accuracy = float(confusion[1,0]+confusion[1,1])/float(confusion[0,0]+confusion[0,1]+confusion[1,0]+confusion[1,1])\n",
    "print(\"Accuracy: \" +str(accuracy))"
   ]
  },
  {
   "cell_type": "code",
   "execution_count": 30,
   "metadata": {},
   "outputs": [
    {
     "name": "stdout",
     "output_type": "stream",
     "text": [
      "The IoU Score for the images =  0.93927974\n"
     ]
    }
   ],
   "source": [
    "# Compute The IoU Scores:\n",
    "\n",
    "intersection_values = 0\n",
    "union_values = 0\n",
    "\n",
    "for i, j in zip(y_true_all, y_score_all):\n",
    "    if i and j == 1:\n",
    "        intersection_values += 1\n",
    "        \n",
    "for i, j in zip(y_true_all, y_score_all):\n",
    "    if i or j == 1:\n",
    "        union_values += 1\n",
    "        \n",
    "print(\"The IoU Score for the images = \", np.float32(intersection_values/union_values))"
   ]
  }
 ],
 "metadata": {
  "kernelspec": {
   "display_name": "Python 3",
   "language": "python",
   "name": "python3"
  },
  "language_info": {
   "codemirror_mode": {
    "name": "ipython",
    "version": 3
   },
   "file_extension": ".py",
   "mimetype": "text/x-python",
   "name": "python",
   "nbconvert_exporter": "python",
   "pygments_lexer": "ipython3",
   "version": "3.7.7"
  }
 },
 "nbformat": 4,
 "nbformat_minor": 2
}
