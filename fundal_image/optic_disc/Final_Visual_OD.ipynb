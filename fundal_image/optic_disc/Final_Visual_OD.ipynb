{
 "cells": [
  {
   "cell_type": "code",
   "execution_count": 1,
   "metadata": {},
   "outputs": [],
   "source": [
    "import numpy as np\n",
    "from PIL import Image\n",
    "import PIL\n",
    "import os"
   ]
  },
  {
   "cell_type": "code",
   "execution_count": 2,
   "metadata": {},
   "outputs": [],
   "source": [
    "dir3 = \"Final Vis/\"\n",
    "\n",
    "if not os.path.exists(dir3):\n",
    "    os.mkdir(dir3)"
   ]
  },
  {
   "cell_type": "code",
   "execution_count": 3,
   "metadata": {},
   "outputs": [],
   "source": [
    "dir1 = \"ground_red/\"\n",
    "dir2 = \"pred_blue/\""
   ]
  },
  {
   "cell_type": "code",
   "execution_count": 4,
   "metadata": {},
   "outputs": [],
   "source": [
    "count = 0\n",
    "\n",
    "for i, j in zip(os.listdir(dir1), os.listdir(dir2)):\n",
    "    img1 = Image.open(dir1 + i)\n",
    "    img2 = Image.open(dir2 + j)\n",
    "    \n",
    "    np_data1 = np.asarray(img1)\n",
    "    np_data2 = np.asarray(img2)\n",
    "    \n",
    "    final_arr = np.add(np_data1, np_data2)\n",
    "    \n",
    "    data = Image.fromarray(final_arr)\n",
    "    \n",
    "    data.save(dir3 + str(count) + \".png\")\n",
    "    count += 1"
   ]
  },
  {
   "cell_type": "code",
   "execution_count": null,
   "metadata": {},
   "outputs": [],
   "source": []
  }
 ],
 "metadata": {
  "kernelspec": {
   "display_name": "Python 3",
   "language": "python",
   "name": "python3"
  },
  "language_info": {
   "codemirror_mode": {
    "name": "ipython",
    "version": 3
   },
   "file_extension": ".py",
   "mimetype": "text/x-python",
   "name": "python",
   "nbconvert_exporter": "python",
   "pygments_lexer": "ipython3",
   "version": "3.7.7"
  }
 },
 "nbformat": 4,
 "nbformat_minor": 2
}
