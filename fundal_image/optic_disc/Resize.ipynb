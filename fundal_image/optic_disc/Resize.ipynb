{
 "cells": [
  {
   "cell_type": "code",
   "execution_count": 1,
   "metadata": {},
   "outputs": [],
   "source": [
    "import cv2\n",
    "import os\n",
    "\n",
    "directory = \"images/\"\n",
    "path = os.listdir(directory)\n",
    "count = 0\n",
    "\n",
    "for i in path:\n",
    "    \n",
    "    img_path = directory + i\n",
    "    image = cv2.imread(img_path)\n",
    "    image = cv2.resize(image, (608, 400))\n",
    "    count += 1\n",
    "    new_path = \"image1/\" + str(count) +\".jpg\"\n",
    "    cv2.imwrite(new_path, image)"
   ]
  },
  {
   "cell_type": "code",
   "execution_count": 2,
   "metadata": {},
   "outputs": [],
   "source": [
    "import cv2\n",
    "import os\n",
    "\n",
    "directory = \"groundtruth/expert1/\"\n",
    "path = os.listdir(directory)\n",
    "count = 0\n",
    "\n",
    "for i in path:\n",
    "    \n",
    "    img_path = directory + i\n",
    "    image = cv2.imread(img_path)\n",
    "    image = cv2.resize(image, (608, 400))\n",
    "    count += 1\n",
    "    new_path = \"groundtruth1/\" + str(count) +\".jpg\"\n",
    "    cv2.imwrite(new_path, image)"
   ]
  }
 ],
 "metadata": {
  "kernelspec": {
   "display_name": "Python 3",
   "language": "python",
   "name": "python3"
  },
  "language_info": {
   "codemirror_mode": {
    "name": "ipython",
    "version": 3
   },
   "file_extension": ".py",
   "mimetype": "text/x-python",
   "name": "python",
   "nbconvert_exporter": "python",
   "pygments_lexer": "ipython3",
   "version": "3.7.7"
  }
 },
 "nbformat": 4,
 "nbformat_minor": 2
}
