{
  "nbformat": 4,
  "nbformat_minor": 0,
  "metadata": {
    "colab": {
      "name": "drive_patches_256_256_0_4_dice.ipynb",
      "provenance": [],
      "collapsed_sections": [],
      "machine_shape": "hm"
    },
    "kernelspec": {
      "name": "python3",
      "display_name": "Python 3"
    },
    "language_info": {
      "name": "python"
    },
    "accelerator": "GPU"
  },
  "cells": [
    {
      "cell_type": "markdown",
      "metadata": {
        "id": "ZIUz94YO5Y0x"
      },
      "source": [
        "### Import the required libraries and modules:"
      ]
    },
    {
      "cell_type": "code",
      "metadata": {
        "id": "RN5vXWIK27Lr"
      },
      "source": [
        "import tensorflow as tf\n",
        "from tensorflow.keras.layers import Conv2D, BatchNormalization, Activation, MaxPool2D, Conv2DTranspose, Concatenate, Input\n",
        "from tensorflow.keras.models import Model\n",
        "from tensorflow.keras import backend as K\n",
        "import os\n",
        "os.environ[\"TF_CPP_MIN_LOG_LEVEL\"] = \"2\"\n",
        "import numpy as np\n",
        "import cv2\n",
        "from glob import glob\n",
        "from sklearn.utils import shuffle\n",
        "import tensorflow as tf\n",
        "from tensorflow.keras.callbacks import ModelCheckpoint, CSVLogger, ReduceLROnPlateau, EarlyStopping, TensorBoard\n",
        "from tensorflow.keras.optimizers import Adam\n",
        "from tensorflow.keras.metrics import Recall, Precision\n",
        "import numpy as np"
      ],
      "execution_count": null,
      "outputs": []
    },
    {
      "cell_type": "code",
      "metadata": {
        "id": "DguMtoH4ZJA9",
        "colab": {
          "base_uri": "https://localhost:8080/"
        },
        "outputId": "dfacb724-e880-424f-a108-167113bf037f"
      },
      "source": [
        "from google.colab import drive\n",
        "drive.mount(\"/content/gdrive\", force_remount=True)\n",
        "%cd /content/gdrive/MyDrive/medical_image_processing/"
      ],
      "execution_count": null,
      "outputs": [
        {
          "output_type": "stream",
          "name": "stdout",
          "text": [
            "Mounted at /content/gdrive\n",
            "/content/gdrive/MyDrive/medical_image_processing\n"
          ]
        }
      ]
    },
    {
      "cell_type": "code",
      "source": [
        "from fundal_image.utils import create_dir, get_filenames_sorted\n",
        "from patches import generate_patches_images_only, reconstruct_patches\n",
        "from metrics import iou, dice_coef, dice_loss, DiceBCELoss, bce\n",
        "from metrics import compute_metrics, save_results\n",
        "from utils import read_image_train, read_mask_train"
      ],
      "metadata": {
        "id": "sT9NcAXcN4MK"
      },
      "execution_count": null,
      "outputs": []
    },
    {
      "cell_type": "code",
      "source": [
        "image_sizes = {\"HRF\": (2336, 3504), \"drive\": (584, 565), \"chase_db\": (960, 999)}\n",
        "patch_size = {\"HRF\": (768, 768),\n",
        "              \"drive\":(256, 256)\n",
        "              }\n",
        "\n",
        "dataset_name = \"drive\"\n",
        "patch_size = patch_size[dataset_name]\n",
        "patch_height = patch_size[0]\n",
        "patch_width = patch_size[1]"
      ],
      "metadata": {
        "id": "-u2FCjiRfHBT"
      },
      "execution_count": null,
      "outputs": []
    },
    {
      "cell_type": "code",
      "source": [
        "loss_str = \"dice_loss\"\n",
        "with_augmentation = False\n",
        "stride=256\n",
        "seed = 42\n",
        "run_id = 1\n",
        "test_percentage = 0.4\n",
        "class_weight = 0.4\n",
        "class_weight_str = str(class_weight).replace(\".\", \"_\")\n",
        "aug_string = \"\"\n",
        "if with_augmentation:\n",
        "    aug_string = \"_hvr\"\n",
        "test_percentage_str = str(test_percentage).replace(\".\", \"_\")\n",
        "root_path = f\"/content/datasets/{dataset_name}_{patch_height}_{stride}_{loss_str}_{class_weight_str}_{aug_string}_{test_percentage_str}_{run_id}/\"\n",
        "\n",
        "images_path_train = f\"{root_path}/training/images/\"\n",
        "gt_path_train = f\"{root_path}/training/1st_manual/\"\n",
        "images_path_test = f\"{root_path}/test/images/\"\n",
        "gt_path_test = f\"{root_path}/test/1st_manual/\"\n",
        "\n",
        "create_dir(images_path_train)\n",
        "create_dir(gt_path_train)\n",
        "create_dir(images_path_test)\n",
        "create_dir(gt_path_test)"
      ],
      "metadata": {
        "id": "U_UlvLm25iVS"
      },
      "execution_count": null,
      "outputs": []
    },
    {
      "cell_type": "code",
      "source": [
        "def wbce(actual, predicted):\n",
        "    y_pred = K.clip(predicted, K.epsilon(), 1 - K.epsilon())\n",
        "    term_0 = (1 - actual) * K.log(1 - y_pred)\n",
        "    term_1 = class_weight * actual * K.log(y_pred + K.epsilon())\n",
        "    return -K.mean(term_0 + term_1, axis=0)"
      ],
      "metadata": {
        "id": "K9UW2Mt2kh_m"
      },
      "execution_count": null,
      "outputs": []
    },
    {
      "cell_type": "code",
      "source": [
        "root_path"
      ],
      "metadata": {
        "colab": {
          "base_uri": "https://localhost:8080/",
          "height": 35
        },
        "id": "lFCH4PBbSW4R",
        "outputId": "21fe5779-c954-470b-c41c-c0b4a9814263"
      },
      "execution_count": null,
      "outputs": [
        {
          "output_type": "execute_result",
          "data": {
            "application/vnd.google.colaboratory.intrinsic+json": {
              "type": "string"
            },
            "text/plain": [
              "'/content/datasets/drive_256_256_dice_bce_0_4__0_4_1/'"
            ]
          },
          "metadata": {},
          "execution_count": 7
        }
      ]
    },
    {
      "cell_type": "code",
      "source": [
        "images_path_train"
      ],
      "metadata": {
        "colab": {
          "base_uri": "https://localhost:8080/",
          "height": 35
        },
        "id": "SAWhPu-m--qT",
        "outputId": "7a215385-ae3b-4d53-b79d-82d143c5a9d3"
      },
      "execution_count": null,
      "outputs": [
        {
          "output_type": "execute_result",
          "data": {
            "application/vnd.google.colaboratory.intrinsic+json": {
              "type": "string"
            },
            "text/plain": [
              "'/content/datasets/drive_256_256_dice_bce_0_4__0_4_1//training/images/'"
            ]
          },
          "metadata": {},
          "execution_count": 8
        }
      ]
    },
    {
      "cell_type": "code",
      "source": [
        "!cp /content/gdrive/MyDrive/medical_image_processing/fundal_image/datasets/drive/training/images/*.* {images_path_train}\n",
        "!cp /content/gdrive/MyDrive/medical_image_processing/fundal_image/datasets/drive/training/1st_manual/*.* {gt_path_train}"
      ],
      "metadata": {
        "id": "cNZJSlaoCLUx"
      },
      "execution_count": null,
      "outputs": []
    },
    {
      "cell_type": "code",
      "source": [
        "!cp /content/gdrive/MyDrive/medical_image_processing/fundal_image/datasets/drive/test/images/*.* {images_path_test}\n",
        "!cp /content/gdrive/MyDrive/medical_image_processing/fundal_image/datasets/drive/test/1st_manual/*.* {gt_path_test}"
      ],
      "metadata": {
        "id": "mJ_FsHnH_9Lh"
      },
      "execution_count": null,
      "outputs": []
    },
    {
      "cell_type": "code",
      "source": [
        "!ls /content/gdrive/MyDrive/medical_image_processing/fundal_image/datasets/drive/training/images"
      ],
      "metadata": {
        "colab": {
          "base_uri": "https://localhost:8080/"
        },
        "id": "ZZT5_8bp-rLQ",
        "outputId": "3ae15a83-b0cc-4eac-fd62-7e546db24e1f"
      },
      "execution_count": null,
      "outputs": [
        {
          "output_type": "stream",
          "name": "stdout",
          "text": [
            "21_training.tif  26_training.tif  31_training.tif  36_training.tif\n",
            "22_training.tif  27_training.tif  32_training.tif  37_training.tif\n",
            "23_training.tif  28_training.tif  33_training.tif  38_training.tif\n",
            "24_training.tif  29_training.tif  34_training.tif  39_training.tif\n",
            "25_training.tif  30_training.tif  35_training.tif  40_training.tif\n"
          ]
        }
      ]
    },
    {
      "cell_type": "code",
      "source": [
        "# images_files, gt_files = get_filenames_sorted(images_path, gt_path)\n",
        "# print(len(images_files), len(gt_files))\n",
        "# # train_test_split\n",
        "# from sklearn.model_selection import train_test_split\n",
        "# label = [_xtrain.rsplit(\"/\", 1)[1].rsplit(\".\", 1)[0].rsplit(\"_\", 1)[1] for _xtrain in images_files] \n",
        "# xtrain, xtest, ytrain, ytest = train_test_split(images_files, gt_files, stratify=label,  test_size=test_percentage, random_state=seed)"
      ],
      "metadata": {
        "id": "FkGqIQ7m68Jc"
      },
      "execution_count": null,
      "outputs": []
    },
    {
      "cell_type": "code",
      "source": [
        "xtrain, ytrain = get_filenames_sorted(images_path_train, gt_path_train)\n",
        "xtest, ytest = get_filenames_sorted(images_path_test, gt_path_test)"
      ],
      "metadata": {
        "id": "MNEcaT4MGrDE"
      },
      "execution_count": null,
      "outputs": []
    },
    {
      "cell_type": "code",
      "source": [
        "print(len(xtrain), len(xtest))\n",
        "# print(label)"
      ],
      "metadata": {
        "colab": {
          "base_uri": "https://localhost:8080/"
        },
        "id": "kz1zp1UAd188",
        "outputId": "1497ee28-f4a1-4a64-bb4c-3e6d262b8501"
      },
      "execution_count": null,
      "outputs": [
        {
          "output_type": "stream",
          "name": "stdout",
          "text": [
            "20 20\n"
          ]
        }
      ]
    },
    {
      "cell_type": "code",
      "source": [
        "xtrain[:5]"
      ],
      "metadata": {
        "colab": {
          "base_uri": "https://localhost:8080/"
        },
        "id": "-7XwsJsOOsqE",
        "outputId": "88895b0c-4214-4f09-e1a6-69b726cac89e"
      },
      "execution_count": null,
      "outputs": [
        {
          "output_type": "execute_result",
          "data": {
            "text/plain": [
              "['/content/datasets/drive_256_256_dice_bce_0_4__0_4_1//training/images/21_training.tif',\n",
              " '/content/datasets/drive_256_256_dice_bce_0_4__0_4_1//training/images/22_training.tif',\n",
              " '/content/datasets/drive_256_256_dice_bce_0_4__0_4_1//training/images/23_training.tif',\n",
              " '/content/datasets/drive_256_256_dice_bce_0_4__0_4_1//training/images/24_training.tif',\n",
              " '/content/datasets/drive_256_256_dice_bce_0_4__0_4_1//training/images/25_training.tif']"
            ]
          },
          "metadata": {},
          "execution_count": 15
        }
      ]
    },
    {
      "cell_type": "code",
      "source": [
        "print(len(ytrain), len(ytest))\n",
        "ytrain[:5]"
      ],
      "metadata": {
        "colab": {
          "base_uri": "https://localhost:8080/"
        },
        "id": "Ybo3_b3GQT5c",
        "outputId": "3e796267-8bde-4c85-8dbd-c5c4be068dfc"
      },
      "execution_count": null,
      "outputs": [
        {
          "output_type": "stream",
          "name": "stdout",
          "text": [
            "20 20\n"
          ]
        },
        {
          "output_type": "execute_result",
          "data": {
            "text/plain": [
              "['/content/datasets/drive_256_256_dice_bce_0_4__0_4_1//training/1st_manual/21_manual1.gif',\n",
              " '/content/datasets/drive_256_256_dice_bce_0_4__0_4_1//training/1st_manual/22_manual1.gif',\n",
              " '/content/datasets/drive_256_256_dice_bce_0_4__0_4_1//training/1st_manual/23_manual1.gif',\n",
              " '/content/datasets/drive_256_256_dice_bce_0_4__0_4_1//training/1st_manual/24_manual1.gif',\n",
              " '/content/datasets/drive_256_256_dice_bce_0_4__0_4_1//training/1st_manual/25_manual1.gif']"
            ]
          },
          "metadata": {},
          "execution_count": 16
        }
      ]
    },
    {
      "cell_type": "code",
      "source": [
        "from tqdm import tqdm\n",
        "import pandas as pd"
      ],
      "metadata": {
        "id": "U0r-aJAjXNIU"
      },
      "execution_count": null,
      "outputs": []
    },
    {
      "cell_type": "code",
      "source": [
        "num_pixels_to_add = [0, 0]\n",
        "if (image_sizes[dataset_name][0] % patch_size[0]) > 0:\n",
        "    num_pixels_to_add[0] = ((image_sizes[\"drive\"][0] // patch_size[0]) + 1) * patch_size[0]\n",
        "    num_pixels_to_add[1] = ((image_sizes[\"drive\"][1] // patch_size[1]) + 1) * patch_size[1]\n",
        "\n",
        "split_name = \"split_2\"\n",
        "data_path = root_path\n",
        "splits =[\"train\",\"test\"]\n",
        "\n",
        "\n",
        "split = \"train\"\n",
        "#for split in splits:\n",
        "image_patches_path = f\"{data_path}/{split_name}/{split}/image/\"\n",
        "create_dir(image_patches_path)\n",
        "gt_patches_path = f\"{data_path}/{split_name}/{split}/mask/\"\n",
        "create_dir(gt_patches_path)\n",
        "im_patches_dict_train, metadata_train_df, gt_patches_dict_train = generate_patches_images_only(xtrain,\n",
        "                                                                image_patches_path,\n",
        "                                                                patch_size=patch_size,\n",
        "                                                                stride=stride,\n",
        "                                                                zero_padding_size=num_pixels_to_add,\n",
        "                                                                gt_files=ytrain,\n",
        "                                                                save_path_gt=gt_patches_path)\n",
        "metadata_train_df.to_csv(f\"{data_path}/{split_name}/image_patches_{stride}_{stride}_{split}.csv\", index=False)\n",
        "\n"
      ],
      "metadata": {
        "colab": {
          "base_uri": "https://localhost:8080/"
        },
        "id": "n8qZpZY_CNP0",
        "outputId": "b45cd197-72bb-4ea3-f5cb-87188951f6c6"
      },
      "execution_count": null,
      "outputs": [
        {
          "output_type": "stream",
          "name": "stdout",
          "text": [
            "Generating patches for 20 images\n"
          ]
        },
        {
          "output_type": "stream",
          "name": "stderr",
          "text": [
            "100%|██████████| 20/20 [00:00<00:00, 24.47it/s]\n"
          ]
        }
      ]
    },
    {
      "cell_type": "code",
      "source": [
        "split = \"test\"\n",
        "#for split in splits:\n",
        "image_patches_path = f\"{data_path}/{split_name}/{split}/image/\"\n",
        "create_dir(image_patches_path)\n",
        "gt_patches_path = f\"{data_path}/{split_name}/{split}/mask/\"\n",
        "create_dir(gt_patches_path)\n",
        "im_patches_dict_test, metadata_test_df, gt_patches_dict_test = generate_patches_images_only(xtest,\n",
        "                                                                image_patches_path,\n",
        "                                                                patch_size=patch_size,\n",
        "                                                                stride=stride,\n",
        "                                                                zero_padding_size=num_pixels_to_add,\n",
        "                                                                gt_files=ytest,\n",
        "                                                                save_path_gt=gt_patches_path)\n",
        "metadata_test_df.to_csv(f\"{data_path}/{split_name}/image_patches_{patch_height}_{stride}_{split}.csv\", index=False)\n"
      ],
      "metadata": {
        "colab": {
          "base_uri": "https://localhost:8080/"
        },
        "id": "T1Bd3CHcow_C",
        "outputId": "4eaef8fd-fff4-41bb-8ef8-c11d35e023d5"
      },
      "execution_count": null,
      "outputs": [
        {
          "output_type": "stream",
          "name": "stdout",
          "text": [
            "Generating patches for 20 images\n"
          ]
        },
        {
          "output_type": "stream",
          "name": "stderr",
          "text": [
            "100%|██████████| 20/20 [00:00<00:00, 26.77it/s]\n"
          ]
        }
      ]
    },
    {
      "cell_type": "code",
      "source": [
        "metadata_test_df.shape"
      ],
      "metadata": {
        "colab": {
          "base_uri": "https://localhost:8080/"
        },
        "id": "97Y2QDV0V30I",
        "outputId": "5c7ccd83-6c01-4fb5-add4-f8069ac98875"
      },
      "execution_count": null,
      "outputs": [
        {
          "output_type": "execute_result",
          "data": {
            "text/plain": [
              "(180, 7)"
            ]
          },
          "metadata": {},
          "execution_count": 20
        }
      ]
    },
    {
      "cell_type": "code",
      "source": [
        "metadata_train_df.shape"
      ],
      "metadata": {
        "colab": {
          "base_uri": "https://localhost:8080/"
        },
        "id": "LwBcnfocO3Bj",
        "outputId": "44567233-527f-443d-a016-943b507c7082"
      },
      "execution_count": null,
      "outputs": [
        {
          "output_type": "execute_result",
          "data": {
            "text/plain": [
              "(180, 7)"
            ]
          },
          "metadata": {},
          "execution_count": 21
        }
      ]
    },
    {
      "cell_type": "code",
      "source": [
        "metadata_train_df.head()"
      ],
      "metadata": {
        "colab": {
          "base_uri": "https://localhost:8080/",
          "height": 206
        },
        "id": "IxsMtp6lLESy",
        "outputId": "091cf189-5bdb-472e-f0f2-d352fc1c92ad"
      },
      "execution_count": null,
      "outputs": [
        {
          "output_type": "execute_result",
          "data": {
            "text/html": [
              "\n",
              "  <div id=\"df-db55db88-46f2-412b-a4e1-4fd507d94b04\">\n",
              "    <div class=\"colab-df-container\">\n",
              "      <div>\n",
              "<style scoped>\n",
              "    .dataframe tbody tr th:only-of-type {\n",
              "        vertical-align: middle;\n",
              "    }\n",
              "\n",
              "    .dataframe tbody tr th {\n",
              "        vertical-align: top;\n",
              "    }\n",
              "\n",
              "    .dataframe thead th {\n",
              "        text-align: right;\n",
              "    }\n",
              "</style>\n",
              "<table border=\"1\" class=\"dataframe\">\n",
              "  <thead>\n",
              "    <tr style=\"text-align: right;\">\n",
              "      <th></th>\n",
              "      <th>image_filename</th>\n",
              "      <th>row</th>\n",
              "      <th>col</th>\n",
              "      <th>patch_height</th>\n",
              "      <th>patch_width</th>\n",
              "      <th>stride</th>\n",
              "      <th>num_fg_pixels</th>\n",
              "    </tr>\n",
              "  </thead>\n",
              "  <tbody>\n",
              "    <tr>\n",
              "      <th>0</th>\n",
              "      <td>/content/datasets/drive_256_256_dice_bce_0_4__...</td>\n",
              "      <td>0</td>\n",
              "      <td>0</td>\n",
              "      <td>256</td>\n",
              "      <td>256</td>\n",
              "      <td>256</td>\n",
              "      <td>24179</td>\n",
              "    </tr>\n",
              "    <tr>\n",
              "      <th>1</th>\n",
              "      <td>/content/datasets/drive_256_256_dice_bce_0_4__...</td>\n",
              "      <td>0</td>\n",
              "      <td>256</td>\n",
              "      <td>256</td>\n",
              "      <td>256</td>\n",
              "      <td>256</td>\n",
              "      <td>39808</td>\n",
              "    </tr>\n",
              "    <tr>\n",
              "      <th>2</th>\n",
              "      <td>/content/datasets/drive_256_256_dice_bce_0_4__...</td>\n",
              "      <td>0</td>\n",
              "      <td>512</td>\n",
              "      <td>256</td>\n",
              "      <td>256</td>\n",
              "      <td>256</td>\n",
              "      <td>24058</td>\n",
              "    </tr>\n",
              "    <tr>\n",
              "      <th>3</th>\n",
              "      <td>/content/datasets/drive_256_256_dice_bce_0_4__...</td>\n",
              "      <td>256</td>\n",
              "      <td>0</td>\n",
              "      <td>256</td>\n",
              "      <td>256</td>\n",
              "      <td>256</td>\n",
              "      <td>39680</td>\n",
              "    </tr>\n",
              "    <tr>\n",
              "      <th>4</th>\n",
              "      <td>/content/datasets/drive_256_256_dice_bce_0_4__...</td>\n",
              "      <td>256</td>\n",
              "      <td>256</td>\n",
              "      <td>256</td>\n",
              "      <td>256</td>\n",
              "      <td>256</td>\n",
              "      <td>65536</td>\n",
              "    </tr>\n",
              "  </tbody>\n",
              "</table>\n",
              "</div>\n",
              "      <button class=\"colab-df-convert\" onclick=\"convertToInteractive('df-db55db88-46f2-412b-a4e1-4fd507d94b04')\"\n",
              "              title=\"Convert this dataframe to an interactive table.\"\n",
              "              style=\"display:none;\">\n",
              "        \n",
              "  <svg xmlns=\"http://www.w3.org/2000/svg\" height=\"24px\"viewBox=\"0 0 24 24\"\n",
              "       width=\"24px\">\n",
              "    <path d=\"M0 0h24v24H0V0z\" fill=\"none\"/>\n",
              "    <path d=\"M18.56 5.44l.94 2.06.94-2.06 2.06-.94-2.06-.94-.94-2.06-.94 2.06-2.06.94zm-11 1L8.5 8.5l.94-2.06 2.06-.94-2.06-.94L8.5 2.5l-.94 2.06-2.06.94zm10 10l.94 2.06.94-2.06 2.06-.94-2.06-.94-.94-2.06-.94 2.06-2.06.94z\"/><path d=\"M17.41 7.96l-1.37-1.37c-.4-.4-.92-.59-1.43-.59-.52 0-1.04.2-1.43.59L10.3 9.45l-7.72 7.72c-.78.78-.78 2.05 0 2.83L4 21.41c.39.39.9.59 1.41.59.51 0 1.02-.2 1.41-.59l7.78-7.78 2.81-2.81c.8-.78.8-2.07 0-2.86zM5.41 20L4 18.59l7.72-7.72 1.47 1.35L5.41 20z\"/>\n",
              "  </svg>\n",
              "      </button>\n",
              "      \n",
              "  <style>\n",
              "    .colab-df-container {\n",
              "      display:flex;\n",
              "      flex-wrap:wrap;\n",
              "      gap: 12px;\n",
              "    }\n",
              "\n",
              "    .colab-df-convert {\n",
              "      background-color: #E8F0FE;\n",
              "      border: none;\n",
              "      border-radius: 50%;\n",
              "      cursor: pointer;\n",
              "      display: none;\n",
              "      fill: #1967D2;\n",
              "      height: 32px;\n",
              "      padding: 0 0 0 0;\n",
              "      width: 32px;\n",
              "    }\n",
              "\n",
              "    .colab-df-convert:hover {\n",
              "      background-color: #E2EBFA;\n",
              "      box-shadow: 0px 1px 2px rgba(60, 64, 67, 0.3), 0px 1px 3px 1px rgba(60, 64, 67, 0.15);\n",
              "      fill: #174EA6;\n",
              "    }\n",
              "\n",
              "    [theme=dark] .colab-df-convert {\n",
              "      background-color: #3B4455;\n",
              "      fill: #D2E3FC;\n",
              "    }\n",
              "\n",
              "    [theme=dark] .colab-df-convert:hover {\n",
              "      background-color: #434B5C;\n",
              "      box-shadow: 0px 1px 3px 1px rgba(0, 0, 0, 0.15);\n",
              "      filter: drop-shadow(0px 1px 2px rgba(0, 0, 0, 0.3));\n",
              "      fill: #FFFFFF;\n",
              "    }\n",
              "  </style>\n",
              "\n",
              "      <script>\n",
              "        const buttonEl =\n",
              "          document.querySelector('#df-db55db88-46f2-412b-a4e1-4fd507d94b04 button.colab-df-convert');\n",
              "        buttonEl.style.display =\n",
              "          google.colab.kernel.accessAllowed ? 'block' : 'none';\n",
              "\n",
              "        async function convertToInteractive(key) {\n",
              "          const element = document.querySelector('#df-db55db88-46f2-412b-a4e1-4fd507d94b04');\n",
              "          const dataTable =\n",
              "            await google.colab.kernel.invokeFunction('convertToInteractive',\n",
              "                                                     [key], {});\n",
              "          if (!dataTable) return;\n",
              "\n",
              "          const docLinkHtml = 'Like what you see? Visit the ' +\n",
              "            '<a target=\"_blank\" href=https://colab.research.google.com/notebooks/data_table.ipynb>data table notebook</a>'\n",
              "            + ' to learn more about interactive tables.';\n",
              "          element.innerHTML = '';\n",
              "          dataTable['output_type'] = 'display_data';\n",
              "          await google.colab.output.renderOutput(dataTable, element);\n",
              "          const docLink = document.createElement('div');\n",
              "          docLink.innerHTML = docLinkHtml;\n",
              "          element.appendChild(docLink);\n",
              "        }\n",
              "      </script>\n",
              "    </div>\n",
              "  </div>\n",
              "  "
            ],
            "text/plain": [
              "                                      image_filename  ...  num_fg_pixels\n",
              "0  /content/datasets/drive_256_256_dice_bce_0_4__...  ...          24179\n",
              "1  /content/datasets/drive_256_256_dice_bce_0_4__...  ...          39808\n",
              "2  /content/datasets/drive_256_256_dice_bce_0_4__...  ...          24058\n",
              "3  /content/datasets/drive_256_256_dice_bce_0_4__...  ...          39680\n",
              "4  /content/datasets/drive_256_256_dice_bce_0_4__...  ...          65536\n",
              "\n",
              "[5 rows x 7 columns]"
            ]
          },
          "metadata": {},
          "execution_count": 22
        }
      ]
    },
    {
      "cell_type": "code",
      "source": [
        "import glob\n",
        "split = \"test\"\n",
        "image_patches_path = f\"{data_path}/{split_name}/{split}/image/\"\n",
        "\n",
        "reconstructed_original_path = f\"{data_path}/{split_name}/reconstructed/{split}/image\"\n",
        "create_dir(reconstructed_original_path)\n",
        "reconstruct_patches(im_patches_dict_test,\n",
        "                    metadata_test_df,\n",
        "                    reconstructed_original_path\n",
        "                    )\n"
      ],
      "metadata": {
        "id": "DLrslUO4gvQp"
      },
      "execution_count": null,
      "outputs": []
    },
    {
      "cell_type": "code",
      "source": [
        "print(list(gt_patches_dict_test.keys()))"
      ],
      "metadata": {
        "colab": {
          "base_uri": "https://localhost:8080/"
        },
        "id": "n8gpCUhvZY8m",
        "outputId": "96450453-978b-49c4-cfd0-84a6cf96eb8c"
      },
      "execution_count": null,
      "outputs": [
        {
          "output_type": "stream",
          "name": "stdout",
          "text": [
            "['01_test', '02_test', '03_test', '04_test', '05_test', '06_test', '07_test', '08_test', '09_test', '10_test', '11_test', '12_test', '13_test', '14_test', '15_test', '16_test', '17_test', '18_test', '19_test', '20_test']\n"
          ]
        }
      ]
    },
    {
      "cell_type": "code",
      "source": [
        "type(gt_patches_dict_test[\"01_test\"])"
      ],
      "metadata": {
        "colab": {
          "base_uri": "https://localhost:8080/"
        },
        "id": "tNONp29kZm8q",
        "outputId": "0bfd9914-ca4d-4380-a051-4203224603e3"
      },
      "execution_count": null,
      "outputs": [
        {
          "output_type": "execute_result",
          "data": {
            "text/plain": [
              "numpy.ndarray"
            ]
          },
          "metadata": {},
          "execution_count": 25
        }
      ]
    },
    {
      "cell_type": "code",
      "source": [
        "reconstructed_gt_path = f\"{data_path}/{split_name}/reconstructed/{split}/mask\"\n",
        "\n",
        "create_dir(reconstructed_gt_path)\n",
        "reconstruct_patches(gt_patches_dict_test,\n",
        "                    metadata_test_df,\n",
        "                    reconstructed_gt_path,\n",
        "                    )\n"
      ],
      "metadata": {
        "id": "_TkWlhCKF7o5"
      },
      "execution_count": null,
      "outputs": []
    },
    {
      "cell_type": "code",
      "source": [
        "print([k for k in im_patches_dict_test.keys()])"
      ],
      "metadata": {
        "colab": {
          "base_uri": "https://localhost:8080/"
        },
        "id": "Y5NJeG-731yQ",
        "outputId": "e48bf91b-b9c7-4cf0-8dbd-b11458e3c970"
      },
      "execution_count": null,
      "outputs": [
        {
          "output_type": "stream",
          "name": "stdout",
          "text": [
            "['01_test', '02_test', '03_test', '04_test', '05_test', '06_test', '07_test', '08_test', '09_test', '10_test', '11_test', '12_test', '13_test', '14_test', '15_test', '16_test', '17_test', '18_test', '19_test', '20_test']\n"
          ]
        }
      ]
    },
    {
      "cell_type": "markdown",
      "metadata": {
        "id": "_WctlpFt6hx4"
      },
      "source": [
        "### Construct the Model:"
      ]
    },
    {
      "cell_type": "code",
      "metadata": {
        "colab": {
          "base_uri": "https://localhost:8080/"
        },
        "id": "epeNiZGQ5gSW",
        "outputId": "f1bd9e0a-fbb4-4c2d-ac27-a71a894a53a7"
      },
      "source": [
        "def conv_block(inputs, num_filters):\n",
        "    x = Conv2D(num_filters, 3, padding=\"same\")(inputs)\n",
        "    x = BatchNormalization()(x)\n",
        "    x = Activation(\"relu\")(x)\n",
        "\n",
        "    x = Conv2D(num_filters, 3, padding=\"same\")(x)\n",
        "    x = BatchNormalization()(x)\n",
        "    x = Activation(\"relu\")(x)\n",
        "\n",
        "    return x\n",
        "\n",
        "def encoder_block(inputs, num_filters):\n",
        "    x = conv_block(inputs, num_filters)\n",
        "    p = MaxPool2D((2, 2))(x)\n",
        "    return x, p\n",
        "\n",
        "def decoder_block(inputs, skip_features, num_filters):\n",
        "    x = Conv2DTranspose(num_filters, (2, 2), strides=2, padding=\"same\")(inputs)\n",
        "    x = Concatenate()([x, skip_features])\n",
        "    x = conv_block(x, num_filters)\n",
        "    return x\n",
        "\n",
        "def build_unet(input_shape):\n",
        "    inputs = Input(input_shape)\n",
        "\n",
        "    s1, p1 = encoder_block(inputs, 64)\n",
        "    s2, p2 = encoder_block(p1, 128)\n",
        "    s3, p3 = encoder_block(p2, 256)\n",
        "    s4, p4 = encoder_block(p3, 512)\n",
        "\n",
        "    b1 = conv_block(p4, 1024)\n",
        "\n",
        "    d1 = decoder_block(b1, s4, 512)\n",
        "    d2 = decoder_block(d1, s3, 256)\n",
        "    d3 = decoder_block(d2, s2, 128)\n",
        "    d4 = decoder_block(d3, s1, 64)\n",
        "\n",
        "    outputs = Conv2D(1, 1, padding=\"same\", activation=\"sigmoid\")(d4)\n",
        "\n",
        "    model = Model(inputs, outputs, name=\"UNET\")\n",
        "    return model\n",
        "\n",
        "input_shape = (512, 512, 3)\n",
        "model = build_unet(input_shape)\n",
        "model.summary()"
      ],
      "execution_count": null,
      "outputs": [
        {
          "output_type": "stream",
          "name": "stdout",
          "text": [
            "Model: \"UNET\"\n",
            "__________________________________________________________________________________________________\n",
            " Layer (type)                   Output Shape         Param #     Connected to                     \n",
            "==================================================================================================\n",
            " input_1 (InputLayer)           [(None, 512, 512, 3  0           []                               \n",
            "                                )]                                                                \n",
            "                                                                                                  \n",
            " conv2d (Conv2D)                (None, 512, 512, 64  1792        ['input_1[0][0]']                \n",
            "                                )                                                                 \n",
            "                                                                                                  \n",
            " batch_normalization (BatchNorm  (None, 512, 512, 64  256        ['conv2d[0][0]']                 \n",
            " alization)                     )                                                                 \n",
            "                                                                                                  \n",
            " activation (Activation)        (None, 512, 512, 64  0           ['batch_normalization[0][0]']    \n",
            "                                )                                                                 \n",
            "                                                                                                  \n",
            " conv2d_1 (Conv2D)              (None, 512, 512, 64  36928       ['activation[0][0]']             \n",
            "                                )                                                                 \n",
            "                                                                                                  \n",
            " batch_normalization_1 (BatchNo  (None, 512, 512, 64  256        ['conv2d_1[0][0]']               \n",
            " rmalization)                   )                                                                 \n",
            "                                                                                                  \n",
            " activation_1 (Activation)      (None, 512, 512, 64  0           ['batch_normalization_1[0][0]']  \n",
            "                                )                                                                 \n",
            "                                                                                                  \n",
            " max_pooling2d (MaxPooling2D)   (None, 256, 256, 64  0           ['activation_1[0][0]']           \n",
            "                                )                                                                 \n",
            "                                                                                                  \n",
            " conv2d_2 (Conv2D)              (None, 256, 256, 12  73856       ['max_pooling2d[0][0]']          \n",
            "                                8)                                                                \n",
            "                                                                                                  \n",
            " batch_normalization_2 (BatchNo  (None, 256, 256, 12  512        ['conv2d_2[0][0]']               \n",
            " rmalization)                   8)                                                                \n",
            "                                                                                                  \n",
            " activation_2 (Activation)      (None, 256, 256, 12  0           ['batch_normalization_2[0][0]']  \n",
            "                                8)                                                                \n",
            "                                                                                                  \n",
            " conv2d_3 (Conv2D)              (None, 256, 256, 12  147584      ['activation_2[0][0]']           \n",
            "                                8)                                                                \n",
            "                                                                                                  \n",
            " batch_normalization_3 (BatchNo  (None, 256, 256, 12  512        ['conv2d_3[0][0]']               \n",
            " rmalization)                   8)                                                                \n",
            "                                                                                                  \n",
            " activation_3 (Activation)      (None, 256, 256, 12  0           ['batch_normalization_3[0][0]']  \n",
            "                                8)                                                                \n",
            "                                                                                                  \n",
            " max_pooling2d_1 (MaxPooling2D)  (None, 128, 128, 12  0          ['activation_3[0][0]']           \n",
            "                                8)                                                                \n",
            "                                                                                                  \n",
            " conv2d_4 (Conv2D)              (None, 128, 128, 25  295168      ['max_pooling2d_1[0][0]']        \n",
            "                                6)                                                                \n",
            "                                                                                                  \n",
            " batch_normalization_4 (BatchNo  (None, 128, 128, 25  1024       ['conv2d_4[0][0]']               \n",
            " rmalization)                   6)                                                                \n",
            "                                                                                                  \n",
            " activation_4 (Activation)      (None, 128, 128, 25  0           ['batch_normalization_4[0][0]']  \n",
            "                                6)                                                                \n",
            "                                                                                                  \n",
            " conv2d_5 (Conv2D)              (None, 128, 128, 25  590080      ['activation_4[0][0]']           \n",
            "                                6)                                                                \n",
            "                                                                                                  \n",
            " batch_normalization_5 (BatchNo  (None, 128, 128, 25  1024       ['conv2d_5[0][0]']               \n",
            " rmalization)                   6)                                                                \n",
            "                                                                                                  \n",
            " activation_5 (Activation)      (None, 128, 128, 25  0           ['batch_normalization_5[0][0]']  \n",
            "                                6)                                                                \n",
            "                                                                                                  \n",
            " max_pooling2d_2 (MaxPooling2D)  (None, 64, 64, 256)  0          ['activation_5[0][0]']           \n",
            "                                                                                                  \n",
            " conv2d_6 (Conv2D)              (None, 64, 64, 512)  1180160     ['max_pooling2d_2[0][0]']        \n",
            "                                                                                                  \n",
            " batch_normalization_6 (BatchNo  (None, 64, 64, 512)  2048       ['conv2d_6[0][0]']               \n",
            " rmalization)                                                                                     \n",
            "                                                                                                  \n",
            " activation_6 (Activation)      (None, 64, 64, 512)  0           ['batch_normalization_6[0][0]']  \n",
            "                                                                                                  \n",
            " conv2d_7 (Conv2D)              (None, 64, 64, 512)  2359808     ['activation_6[0][0]']           \n",
            "                                                                                                  \n",
            " batch_normalization_7 (BatchNo  (None, 64, 64, 512)  2048       ['conv2d_7[0][0]']               \n",
            " rmalization)                                                                                     \n",
            "                                                                                                  \n",
            " activation_7 (Activation)      (None, 64, 64, 512)  0           ['batch_normalization_7[0][0]']  \n",
            "                                                                                                  \n",
            " max_pooling2d_3 (MaxPooling2D)  (None, 32, 32, 512)  0          ['activation_7[0][0]']           \n",
            "                                                                                                  \n",
            " conv2d_8 (Conv2D)              (None, 32, 32, 1024  4719616     ['max_pooling2d_3[0][0]']        \n",
            "                                )                                                                 \n",
            "                                                                                                  \n",
            " batch_normalization_8 (BatchNo  (None, 32, 32, 1024  4096       ['conv2d_8[0][0]']               \n",
            " rmalization)                   )                                                                 \n",
            "                                                                                                  \n",
            " activation_8 (Activation)      (None, 32, 32, 1024  0           ['batch_normalization_8[0][0]']  \n",
            "                                )                                                                 \n",
            "                                                                                                  \n",
            " conv2d_9 (Conv2D)              (None, 32, 32, 1024  9438208     ['activation_8[0][0]']           \n",
            "                                )                                                                 \n",
            "                                                                                                  \n",
            " batch_normalization_9 (BatchNo  (None, 32, 32, 1024  4096       ['conv2d_9[0][0]']               \n",
            " rmalization)                   )                                                                 \n",
            "                                                                                                  \n",
            " activation_9 (Activation)      (None, 32, 32, 1024  0           ['batch_normalization_9[0][0]']  \n",
            "                                )                                                                 \n",
            "                                                                                                  \n",
            " conv2d_transpose (Conv2DTransp  (None, 64, 64, 512)  2097664    ['activation_9[0][0]']           \n",
            " ose)                                                                                             \n",
            "                                                                                                  \n",
            " concatenate (Concatenate)      (None, 64, 64, 1024  0           ['conv2d_transpose[0][0]',       \n",
            "                                )                                 'activation_7[0][0]']           \n",
            "                                                                                                  \n",
            " conv2d_10 (Conv2D)             (None, 64, 64, 512)  4719104     ['concatenate[0][0]']            \n",
            "                                                                                                  \n",
            " batch_normalization_10 (BatchN  (None, 64, 64, 512)  2048       ['conv2d_10[0][0]']              \n",
            " ormalization)                                                                                    \n",
            "                                                                                                  \n",
            " activation_10 (Activation)     (None, 64, 64, 512)  0           ['batch_normalization_10[0][0]'] \n",
            "                                                                                                  \n",
            " conv2d_11 (Conv2D)             (None, 64, 64, 512)  2359808     ['activation_10[0][0]']          \n",
            "                                                                                                  \n",
            " batch_normalization_11 (BatchN  (None, 64, 64, 512)  2048       ['conv2d_11[0][0]']              \n",
            " ormalization)                                                                                    \n",
            "                                                                                                  \n",
            " activation_11 (Activation)     (None, 64, 64, 512)  0           ['batch_normalization_11[0][0]'] \n",
            "                                                                                                  \n",
            " conv2d_transpose_1 (Conv2DTran  (None, 128, 128, 25  524544     ['activation_11[0][0]']          \n",
            " spose)                         6)                                                                \n",
            "                                                                                                  \n",
            " concatenate_1 (Concatenate)    (None, 128, 128, 51  0           ['conv2d_transpose_1[0][0]',     \n",
            "                                2)                                'activation_5[0][0]']           \n",
            "                                                                                                  \n",
            " conv2d_12 (Conv2D)             (None, 128, 128, 25  1179904     ['concatenate_1[0][0]']          \n",
            "                                6)                                                                \n",
            "                                                                                                  \n",
            " batch_normalization_12 (BatchN  (None, 128, 128, 25  1024       ['conv2d_12[0][0]']              \n",
            " ormalization)                  6)                                                                \n",
            "                                                                                                  \n",
            " activation_12 (Activation)     (None, 128, 128, 25  0           ['batch_normalization_12[0][0]'] \n",
            "                                6)                                                                \n",
            "                                                                                                  \n",
            " conv2d_13 (Conv2D)             (None, 128, 128, 25  590080      ['activation_12[0][0]']          \n",
            "                                6)                                                                \n",
            "                                                                                                  \n",
            " batch_normalization_13 (BatchN  (None, 128, 128, 25  1024       ['conv2d_13[0][0]']              \n",
            " ormalization)                  6)                                                                \n",
            "                                                                                                  \n",
            " activation_13 (Activation)     (None, 128, 128, 25  0           ['batch_normalization_13[0][0]'] \n",
            "                                6)                                                                \n",
            "                                                                                                  \n",
            " conv2d_transpose_2 (Conv2DTran  (None, 256, 256, 12  131200     ['activation_13[0][0]']          \n",
            " spose)                         8)                                                                \n",
            "                                                                                                  \n",
            " concatenate_2 (Concatenate)    (None, 256, 256, 25  0           ['conv2d_transpose_2[0][0]',     \n",
            "                                6)                                'activation_3[0][0]']           \n",
            "                                                                                                  \n",
            " conv2d_14 (Conv2D)             (None, 256, 256, 12  295040      ['concatenate_2[0][0]']          \n",
            "                                8)                                                                \n",
            "                                                                                                  \n",
            " batch_normalization_14 (BatchN  (None, 256, 256, 12  512        ['conv2d_14[0][0]']              \n",
            " ormalization)                  8)                                                                \n",
            "                                                                                                  \n",
            " activation_14 (Activation)     (None, 256, 256, 12  0           ['batch_normalization_14[0][0]'] \n",
            "                                8)                                                                \n",
            "                                                                                                  \n",
            " conv2d_15 (Conv2D)             (None, 256, 256, 12  147584      ['activation_14[0][0]']          \n",
            "                                8)                                                                \n",
            "                                                                                                  \n",
            " batch_normalization_15 (BatchN  (None, 256, 256, 12  512        ['conv2d_15[0][0]']              \n",
            " ormalization)                  8)                                                                \n",
            "                                                                                                  \n",
            " activation_15 (Activation)     (None, 256, 256, 12  0           ['batch_normalization_15[0][0]'] \n",
            "                                8)                                                                \n",
            "                                                                                                  \n",
            " conv2d_transpose_3 (Conv2DTran  (None, 512, 512, 64  32832      ['activation_15[0][0]']          \n",
            " spose)                         )                                                                 \n",
            "                                                                                                  \n",
            " concatenate_3 (Concatenate)    (None, 512, 512, 12  0           ['conv2d_transpose_3[0][0]',     \n",
            "                                8)                                'activation_1[0][0]']           \n",
            "                                                                                                  \n",
            " conv2d_16 (Conv2D)             (None, 512, 512, 64  73792       ['concatenate_3[0][0]']          \n",
            "                                )                                                                 \n",
            "                                                                                                  \n",
            " batch_normalization_16 (BatchN  (None, 512, 512, 64  256        ['conv2d_16[0][0]']              \n",
            " ormalization)                  )                                                                 \n",
            "                                                                                                  \n",
            " activation_16 (Activation)     (None, 512, 512, 64  0           ['batch_normalization_16[0][0]'] \n",
            "                                )                                                                 \n",
            "                                                                                                  \n",
            " conv2d_17 (Conv2D)             (None, 512, 512, 64  36928       ['activation_16[0][0]']          \n",
            "                                )                                                                 \n",
            "                                                                                                  \n",
            " batch_normalization_17 (BatchN  (None, 512, 512, 64  256        ['conv2d_17[0][0]']              \n",
            " ormalization)                  )                                                                 \n",
            "                                                                                                  \n",
            " activation_17 (Activation)     (None, 512, 512, 64  0           ['batch_normalization_17[0][0]'] \n",
            "                                )                                                                 \n",
            "                                                                                                  \n",
            " conv2d_18 (Conv2D)             (None, 512, 512, 1)  65          ['activation_17[0][0]']          \n",
            "                                                                                                  \n",
            "==================================================================================================\n",
            "Total params: 31,055,297\n",
            "Trainable params: 31,043,521\n",
            "Non-trainable params: 11,776\n",
            "__________________________________________________________________________________________________\n"
          ]
        }
      ]
    },
    {
      "cell_type": "markdown",
      "metadata": {
        "id": "TWKUCE3_6vBv"
      },
      "source": [
        "### Adding the Metrics:"
      ]
    },
    {
      "cell_type": "code",
      "metadata": {
        "id": "s5HXET5Z6uZX"
      },
      "source": [
        "def iou(y_true, y_pred):\n",
        "    def f(y_true, y_pred):\n",
        "        intersection = (y_true * y_pred).sum()\n",
        "        union = y_true.sum() + y_pred.sum() - intersection\n",
        "        x = (intersection + 1e-15) / (union + 1e-15)\n",
        "        x = x.astype(np.float32)\n",
        "        return x\n",
        "    return tf.numpy_function(f, [y_true, y_pred], tf.float32)\n",
        "\n",
        "smooth = 1e-15\n",
        "def dice_coef(y_true, y_pred):\n",
        "    y_true = tf.keras.layers.Flatten()(y_true)\n",
        "    y_pred = tf.keras.layers.Flatten()(y_pred)\n",
        "    intersection = tf.reduce_sum(y_true * y_pred)\n",
        "    return (2. * intersection + smooth) / (tf.reduce_sum(y_true) + tf.reduce_sum(y_pred) + smooth)\n",
        "\n",
        "def dice_loss(y_true, y_pred):\n",
        "    return 1.0 - dice_coef(y_true, y_pred)\n",
        "\n",
        "def DiceBCELoss(y_true, y_pred):\n",
        "    \n",
        "    inputs = tf.keras.layers.Flatten()(y_true)\n",
        "    targets = tf.keras.layers.Flatten()(y_pred)\n",
        "\n",
        "    intersection = tf.reduce_sum(inputs * targets)\n",
        "    dice_loss = 1 - (2.*intersection + smooth)/(tf.reduce_sum(y_true) + tf.reduce_sum(y_pred) + smooth)\n",
        "    BCE = tf.keras.losses.BinaryCrossentropy()\n",
        "    Dice_BCE = BCE(inputs, targets) + dice_loss\n",
        "\n",
        "    return Dice_BCE\n",
        "\n",
        "def bce(y_true, y_pred):\n",
        "    \n",
        "    inputs = tf.keras.layers.Flatten()(y_true)\n",
        "    targets = tf.keras.layers.Flatten()(y_pred)\n",
        "    BCE = tf.keras.losses.BinaryCrossentropy()\n",
        "    Dice_BCE = BCE(inputs, targets)\n",
        "\n",
        "    return Dice_BCE"
      ],
      "execution_count": null,
      "outputs": []
    },
    {
      "cell_type": "markdown",
      "metadata": {
        "id": "fuGIkqEH65dX"
      },
      "source": [
        "\n",
        "\n",
        "### Training the Model:"
      ]
    },
    {
      "cell_type": "code",
      "source": [
        "if loss_str == \"bce\":\n",
        "    loss = bce\n",
        "elif loss_str == \"dice_bce\":\n",
        "    loss = DiceBCELoss\n",
        "elif loss_str == \"dice_loss\":\n",
        "    loss = dice_loss\n",
        "elif loss_str == \"wbce\":\n",
        "    loss = wbce\n",
        "else:\n",
        "    raise Exception(\"Invalid value for loss_str\")\n",
        "    \n",
        "print(loss)"
      ],
      "metadata": {
        "id": "1FT9iAYkUaeR",
        "colab": {
          "base_uri": "https://localhost:8080/"
        },
        "outputId": "37eff924-66f9-43c1-8352-4cca786435b9"
      },
      "execution_count": null,
      "outputs": [
        {
          "output_type": "stream",
          "name": "stdout",
          "text": [
            "<function DiceBCELoss at 0x7fad604d3dd0>\n"
          ]
        }
      ]
    },
    {
      "cell_type": "code",
      "metadata": {
        "id": "NNdxwX_-5udw"
      },
      "source": [
        "H = patch_height\n",
        "W = patch_width\n",
        "loss = dice_loss\n",
        "\n",
        "def create_dir(path):\n",
        "    if not os.path.exists(path):\n",
        "        os.makedirs(path)\n",
        "\n",
        "def load_data(path):\n",
        "    x = sorted(glob(os.path.join(path, \"image\", \"*.png\")))\n",
        "    y = sorted(glob(os.path.join(path, \"mask\", \"*.png\")))\n",
        "    return x, y\n",
        "\n",
        "def shuffling(x, y):\n",
        "    x, y = shuffle(x, y, random_state=42)\n",
        "    return x, y\n",
        "\n",
        "def read_image(path):\n",
        "    path = path.decode()\n",
        "    x = cv2.imread(path, cv2.IMREAD_COLOR)\n",
        "    # x = cv2.resize(x, (W, H))\n",
        "    x = x/255.0\n",
        "    x = x.astype(np.float32)\n",
        "    return x\n",
        "\n",
        "def read_mask(path):\n",
        "    path = path.decode()\n",
        "    x = cv2.imread(path, cv2.IMREAD_GRAYSCALE)  ## (512, 512)\n",
        "    # x = cv2.resize(x, (W, H))\n",
        "    x = x/255.0\n",
        "    x = x.astype(np.float32)\n",
        "    x = np.expand_dims(x, axis=-1)              ## (512, 512, 1)\n",
        "    return x\n",
        "\n",
        "def tf_parse(x, y):\n",
        "    def _parse(x, y):\n",
        "        x = read_image(x)\n",
        "        y = read_mask(y)\n",
        "        return x, y\n",
        "\n",
        "    x, y = tf.numpy_function(_parse, [x, y], [tf.float32, tf.float32])\n",
        "    x.set_shape([H, W, 3])\n",
        "    y.set_shape([H, W, 1])\n",
        "    return x, y\n",
        "\n",
        "def tf_dataset(X, Y, batch_size=2):\n",
        "    dataset = tf.data.Dataset.from_tensor_slices((X, Y))\n",
        "    dataset = dataset.map(tf_parse)\n",
        "    dataset = dataset.batch(batch_size)\n",
        "    dataset = dataset.prefetch(4)\n",
        "    return dataset"
      ],
      "execution_count": null,
      "outputs": []
    },
    {
      "cell_type": "code",
      "source": [
        "from keras.metrics import AUC"
      ],
      "metadata": {
        "id": "54fnwa9lJESj"
      },
      "execution_count": null,
      "outputs": []
    },
    {
      "cell_type": "code",
      "source": [
        "model_dir = f\"{root_path}/trained_models/\""
      ],
      "metadata": {
        "id": "ZKS1beyfSUHc"
      },
      "execution_count": null,
      "outputs": []
    },
    {
      "cell_type": "code",
      "source": [
        "create_dir(model_dir)"
      ],
      "metadata": {
        "id": "q0GnRCID3HdL"
      },
      "execution_count": null,
      "outputs": []
    },
    {
      "cell_type": "code",
      "source": [
        "!ls {model_dir}"
      ],
      "metadata": {
        "id": "H4nNDNkuHTot"
      },
      "execution_count": null,
      "outputs": []
    },
    {
      "cell_type": "code",
      "source": [
        "%cd /content/datasets"
      ],
      "metadata": {
        "colab": {
          "base_uri": "https://localhost:8080/"
        },
        "id": "nCnFXz7Xpvzi",
        "outputId": "8a96f31b-0325-44a1-c5f0-4362f5fe8ee7"
      },
      "execution_count": null,
      "outputs": [
        {
          "output_type": "stream",
          "name": "stdout",
          "text": [
            "/content/datasets\n"
          ]
        }
      ]
    },
    {
      "cell_type": "code",
      "source": [
        "from glob import glob"
      ],
      "metadata": {
        "id": "OxDh2J2zGsNE"
      },
      "execution_count": null,
      "outputs": []
    },
    {
      "cell_type": "code",
      "metadata": {
        "colab": {
          "base_uri": "https://localhost:8080/"
        },
        "id": "R9oxQCQo7Jnw",
        "outputId": "6f451807-605c-4cb8-9e97-8cc187c84a71"
      },
      "source": [
        "\"\"\" Seeding \"\"\"\n",
        "np.random.seed(42)\n",
        "tf.random.set_seed(42)\n",
        "\n",
        "\"\"\" Directory to save files \"\"\"\n",
        "create_dir(model_dir)\n",
        "\n",
        "\"\"\" Hyperparameters \"\"\"\n",
        "batch_size = 8\n",
        "lr = 1e-4\n",
        "num_epochs = 50\n",
        "model_path = os.path.join(f\"{model_dir}\", \"model.h5\")\n",
        "csv_path = os.path.join(f\"{model_dir}\", \"data.csv\")\n",
        "\n",
        "\"\"\" Dataset \"\"\"\n",
        "dataset_path = f\"{data_path}/{split_name}\"\n",
        "train_path = os.path.join(dataset_path, \"train\")\n",
        "valid_path = os.path.join(dataset_path, \"test\")\n",
        "\n",
        "train_x, train_y = load_data(train_path)\n",
        "# train_x, train_y = shuffling(train_x, train_y)\n",
        "valid_x, valid_y = load_data(valid_path)\n",
        "\n",
        "print(f\"Train: {len(train_x)} - {len(train_y)}\")\n",
        "print(f\"Valid: {len(valid_x)} - {len(valid_y)}\")\n",
        "\n",
        "train_dataset = tf_dataset(train_x, train_y, batch_size=batch_size)\n",
        "valid_dataset = tf_dataset(valid_x, valid_y, batch_size=batch_size)\n",
        "\n",
        "train_steps = len(train_x)//batch_size\n",
        "valid_setps = len(valid_x)//batch_size\n",
        "\n",
        "if len(train_x) % batch_size != 0:\n",
        "    train_steps += 1\n",
        "if len(valid_x) % batch_size != 0:\n",
        "    valid_setps += 1\n",
        "\n",
        "\"\"\" Model \"\"\"\n",
        "model = build_unet((H, W, 3))\n",
        "model.compile(loss=loss, optimizer=Adam(lr), metrics=[dice_coef, iou, Recall(), Precision(), AUC()])\n",
        "\n",
        "callbacks = [\n",
        "    ModelCheckpoint(model_path, verbose=1, save_best_only=True),\n",
        "    ReduceLROnPlateau(monitor=\"val_loss\", factor=0.1, patience=5, min_lr=1e-6, verbose=1),\n",
        "    CSVLogger(csv_path),\n",
        "    TensorBoard(),\n",
        "    EarlyStopping(monitor=\"val_loss\", patience=10, restore_best_weights=False)\n",
        "]\n",
        "\n",
        "model.fit(\n",
        "    train_dataset,\n",
        "    epochs=num_epochs,\n",
        "    validation_data=valid_dataset,\n",
        "    steps_per_epoch=train_steps,\n",
        "    validation_steps=valid_setps,\n",
        "    callbacks=callbacks\n",
        ")"
      ],
      "execution_count": null,
      "outputs": [
        {
          "output_type": "stream",
          "name": "stdout",
          "text": [
            "Train: 180 - 180\n",
            "Valid: 180 - 180\n",
            "Epoch 1/50\n",
            "23/23 [==============================] - ETA: 0s - loss: 0.8148 - dice_coef: 0.1863 - iou: 0.1033 - recall: 0.9575 - precision: 0.1185 - auc: 0.8749\n",
            "Epoch 1: val_loss improved from inf to 0.90840, saving model to /content/datasets/drive_256_256_dice_bce_0_4__0_4_1//trained_models/model.h5\n",
            "23/23 [==============================] - 22s 315ms/step - loss: 0.8148 - dice_coef: 0.1863 - iou: 0.1033 - recall: 0.9575 - precision: 0.1185 - auc: 0.8749 - val_loss: 0.9084 - val_dice_coef: 0.0915 - val_iou: 0.0480 - val_recall: 1.0000 - val_precision: 0.0963 - val_auc: 0.8298 - lr: 1.0000e-04\n",
            "Epoch 2/50\n",
            "23/23 [==============================] - ETA: 0s - loss: 0.7485 - dice_coef: 0.2534 - iou: 0.1459 - recall: 0.9317 - precision: 0.1659 - auc: 0.9268\n",
            "Epoch 2: val_loss improved from 0.90840 to 0.90747, saving model to /content/datasets/drive_256_256_dice_bce_0_4__0_4_1//trained_models/model.h5\n",
            "23/23 [==============================] - 5s 229ms/step - loss: 0.7485 - dice_coef: 0.2534 - iou: 0.1459 - recall: 0.9317 - precision: 0.1659 - auc: 0.9268 - val_loss: 0.9075 - val_dice_coef: 0.0925 - val_iou: 0.0485 - val_recall: 0.9983 - val_precision: 0.1221 - val_auc: 0.8359 - lr: 1.0000e-04\n",
            "Epoch 3/50\n",
            "23/23 [==============================] - ETA: 0s - loss: 0.6404 - dice_coef: 0.3613 - iou: 0.2217 - recall: 0.8303 - precision: 0.3998 - auc: 0.9609\n",
            "Epoch 3: val_loss improved from 0.90747 to 0.90339, saving model to /content/datasets/drive_256_256_dice_bce_0_4__0_4_1//trained_models/model.h5\n",
            "23/23 [==============================] - 5s 229ms/step - loss: 0.6404 - dice_coef: 0.3613 - iou: 0.2217 - recall: 0.8303 - precision: 0.3998 - auc: 0.9609 - val_loss: 0.9034 - val_dice_coef: 0.0966 - val_iou: 0.0508 - val_recall: 0.9079 - val_precision: 0.1298 - val_auc: 0.8348 - lr: 1.0000e-04\n",
            "Epoch 4/50\n",
            "23/23 [==============================] - ETA: 0s - loss: 0.5815 - dice_coef: 0.4196 - iou: 0.2665 - recall: 0.8094 - precision: 0.5442 - auc: 0.9696\n",
            "Epoch 4: val_loss improved from 0.90339 to 0.90169, saving model to /content/datasets/drive_256_256_dice_bce_0_4__0_4_1//trained_models/model.h5\n",
            "23/23 [==============================] - 6s 259ms/step - loss: 0.5815 - dice_coef: 0.4196 - iou: 0.2665 - recall: 0.8094 - precision: 0.5442 - auc: 0.9696 - val_loss: 0.9017 - val_dice_coef: 0.0983 - val_iou: 0.0517 - val_recall: 0.6392 - val_precision: 0.1364 - val_auc: 0.8277 - lr: 1.0000e-04\n",
            "Epoch 5/50\n",
            "23/23 [==============================] - ETA: 0s - loss: 0.5479 - dice_coef: 0.4531 - iou: 0.2940 - recall: 0.8181 - precision: 0.5897 - auc: 0.9736\n",
            "Epoch 5: val_loss improved from 0.90169 to 0.90068, saving model to /content/datasets/drive_256_256_dice_bce_0_4__0_4_1//trained_models/model.h5\n",
            "23/23 [==============================] - 5s 230ms/step - loss: 0.5479 - dice_coef: 0.4531 - iou: 0.2940 - recall: 0.8181 - precision: 0.5897 - auc: 0.9736 - val_loss: 0.9007 - val_dice_coef: 0.0993 - val_iou: 0.0523 - val_recall: 0.2361 - val_precision: 0.1482 - val_auc: 0.8209 - lr: 1.0000e-04\n",
            "Epoch 6/50\n",
            "23/23 [==============================] - ETA: 0s - loss: 0.5230 - dice_coef: 0.4780 - iou: 0.3151 - recall: 0.8262 - precision: 0.6220 - auc: 0.9764\n",
            "Epoch 6: val_loss improved from 0.90068 to 0.89764, saving model to /content/datasets/drive_256_256_dice_bce_0_4__0_4_1//trained_models/model.h5\n",
            "23/23 [==============================] - 6s 244ms/step - loss: 0.5230 - dice_coef: 0.4780 - iou: 0.3151 - recall: 0.8262 - precision: 0.6220 - auc: 0.9764 - val_loss: 0.8976 - val_dice_coef: 0.1024 - val_iou: 0.0540 - val_recall: 0.0077 - val_precision: 0.1566 - val_auc: 0.8268 - lr: 1.0000e-04\n",
            "Epoch 7/50\n",
            "23/23 [==============================] - ETA: 0s - loss: 0.5059 - dice_coef: 0.4951 - iou: 0.3301 - recall: 0.8252 - precision: 0.6456 - auc: 0.9781\n",
            "Epoch 7: val_loss improved from 0.89764 to 0.89330, saving model to /content/datasets/drive_256_256_dice_bce_0_4__0_4_1//trained_models/model.h5\n",
            "23/23 [==============================] - 5s 242ms/step - loss: 0.5059 - dice_coef: 0.4951 - iou: 0.3301 - recall: 0.8252 - precision: 0.6456 - auc: 0.9781 - val_loss: 0.8933 - val_dice_coef: 0.1068 - val_iou: 0.0564 - val_recall: 0.0000e+00 - val_precision: 0.0000e+00 - val_auc: 0.8312 - lr: 1.0000e-04\n",
            "Epoch 8/50\n",
            "23/23 [==============================] - ETA: 0s - loss: 0.4873 - dice_coef: 0.5137 - iou: 0.3467 - recall: 0.8351 - precision: 0.6651 - auc: 0.9801\n",
            "Epoch 8: val_loss improved from 0.89330 to 0.89102, saving model to /content/datasets/drive_256_256_dice_bce_0_4__0_4_1//trained_models/model.h5\n",
            "23/23 [==============================] - 5s 229ms/step - loss: 0.4873 - dice_coef: 0.5137 - iou: 0.3467 - recall: 0.8351 - precision: 0.6651 - auc: 0.9801 - val_loss: 0.8910 - val_dice_coef: 0.1091 - val_iou: 0.0577 - val_recall: 0.0000e+00 - val_precision: 0.0000e+00 - val_auc: 0.8296 - lr: 1.0000e-04\n",
            "Epoch 9/50\n",
            "23/23 [==============================] - ETA: 0s - loss: 0.4728 - dice_coef: 0.5283 - iou: 0.3601 - recall: 0.8403 - precision: 0.6770 - auc: 0.9809\n",
            "Epoch 9: val_loss did not improve from 0.89102\n",
            "23/23 [==============================] - 4s 187ms/step - loss: 0.4728 - dice_coef: 0.5283 - iou: 0.3601 - recall: 0.8403 - precision: 0.6770 - auc: 0.9809 - val_loss: 0.8941 - val_dice_coef: 0.1059 - val_iou: 0.0560 - val_recall: 1.5572e-05 - val_precision: 0.4091 - val_auc: 0.8275 - lr: 1.0000e-04\n",
            "Epoch 10/50\n",
            "23/23 [==============================] - ETA: 0s - loss: 0.4572 - dice_coef: 0.5439 - iou: 0.3747 - recall: 0.8445 - precision: 0.6942 - auc: 0.9820\n",
            "Epoch 10: val_loss did not improve from 0.89102\n",
            "23/23 [==============================] - 4s 187ms/step - loss: 0.4572 - dice_coef: 0.5439 - iou: 0.3747 - recall: 0.8445 - precision: 0.6942 - auc: 0.9820 - val_loss: 0.8991 - val_dice_coef: 0.1010 - val_iou: 0.0532 - val_recall: 2.0590e-04 - val_precision: 0.7532 - val_auc: 0.8236 - lr: 1.0000e-04\n",
            "Epoch 11/50\n",
            "23/23 [==============================] - ETA: 0s - loss: 0.4415 - dice_coef: 0.5596 - iou: 0.3897 - recall: 0.8516 - precision: 0.7103 - auc: 0.9830\n",
            "Epoch 11: val_loss did not improve from 0.89102\n",
            "23/23 [==============================] - 4s 188ms/step - loss: 0.4415 - dice_coef: 0.5596 - iou: 0.3897 - recall: 0.8516 - precision: 0.7103 - auc: 0.9830 - val_loss: 0.8987 - val_dice_coef: 0.1014 - val_iou: 0.0534 - val_recall: 0.0023 - val_precision: 0.1707 - val_auc: 0.8295 - lr: 1.0000e-04\n",
            "Epoch 12/50\n",
            "23/23 [==============================] - ETA: 0s - loss: 0.4266 - dice_coef: 0.5746 - iou: 0.4043 - recall: 0.8589 - precision: 0.7234 - auc: 0.9839\n",
            "Epoch 12: val_loss did not improve from 0.89102\n",
            "23/23 [==============================] - 4s 188ms/step - loss: 0.4266 - dice_coef: 0.5746 - iou: 0.4043 - recall: 0.8589 - precision: 0.7234 - auc: 0.9839 - val_loss: 0.8943 - val_dice_coef: 0.1058 - val_iou: 0.0559 - val_recall: 0.0150 - val_precision: 0.3500 - val_auc: 0.8364 - lr: 1.0000e-04\n",
            "Epoch 13/50\n",
            "23/23 [==============================] - ETA: 0s - loss: 0.4129 - dice_coef: 0.5883 - iou: 0.4180 - recall: 0.8641 - precision: 0.7348 - auc: 0.9847\n",
            "Epoch 13: val_loss improved from 0.89102 to 0.88908, saving model to /content/datasets/drive_256_256_dice_bce_0_4__0_4_1//trained_models/model.h5\n",
            "23/23 [==============================] - 5s 233ms/step - loss: 0.4129 - dice_coef: 0.5883 - iou: 0.4180 - recall: 0.8641 - precision: 0.7348 - auc: 0.9847 - val_loss: 0.8891 - val_dice_coef: 0.1110 - val_iou: 0.0589 - val_recall: 0.0310 - val_precision: 0.3738 - val_auc: 0.8427 - lr: 1.0000e-04\n",
            "Epoch 14/50\n",
            "23/23 [==============================] - ETA: 0s - loss: 0.4006 - dice_coef: 0.6006 - iou: 0.4304 - recall: 0.8668 - precision: 0.7454 - auc: 0.9854\n",
            "Epoch 14: val_loss improved from 0.88908 to 0.87180, saving model to /content/datasets/drive_256_256_dice_bce_0_4__0_4_1//trained_models/model.h5\n",
            "23/23 [==============================] - 5s 230ms/step - loss: 0.4006 - dice_coef: 0.6006 - iou: 0.4304 - recall: 0.8668 - precision: 0.7454 - auc: 0.9854 - val_loss: 0.8718 - val_dice_coef: 0.1283 - val_iou: 0.0688 - val_recall: 0.0523 - val_precision: 0.5424 - val_auc: 0.8556 - lr: 1.0000e-04\n",
            "Epoch 15/50\n",
            "23/23 [==============================] - ETA: 0s - loss: 0.3888 - dice_coef: 0.6124 - iou: 0.4426 - recall: 0.8697 - precision: 0.7529 - auc: 0.9856\n",
            "Epoch 15: val_loss improved from 0.87180 to 0.81113, saving model to /content/datasets/drive_256_256_dice_bce_0_4__0_4_1//trained_models/model.h5\n",
            "23/23 [==============================] - 6s 249ms/step - loss: 0.3888 - dice_coef: 0.6124 - iou: 0.4426 - recall: 0.8697 - precision: 0.7529 - auc: 0.9856 - val_loss: 0.8111 - val_dice_coef: 0.1893 - val_iou: 0.1051 - val_recall: 0.1316 - val_precision: 0.6774 - val_auc: 0.8796 - lr: 1.0000e-04\n",
            "Epoch 16/50\n",
            "23/23 [==============================] - ETA: 0s - loss: 0.3766 - dice_coef: 0.6246 - iou: 0.4555 - recall: 0.8749 - precision: 0.7620 - auc: 0.9860\n",
            "Epoch 16: val_loss improved from 0.81113 to 0.75766, saving model to /content/datasets/drive_256_256_dice_bce_0_4__0_4_1//trained_models/model.h5\n",
            "23/23 [==============================] - 5s 232ms/step - loss: 0.3766 - dice_coef: 0.6246 - iou: 0.4555 - recall: 0.8749 - precision: 0.7620 - auc: 0.9860 - val_loss: 0.7577 - val_dice_coef: 0.2429 - val_iou: 0.1390 - val_recall: 0.1960 - val_precision: 0.7250 - val_auc: 0.8972 - lr: 1.0000e-04\n",
            "Epoch 17/50\n",
            "23/23 [==============================] - ETA: 0s - loss: 0.3669 - dice_coef: 0.6343 - iou: 0.4658 - recall: 0.8770 - precision: 0.7652 - auc: 0.9863\n",
            "Epoch 17: val_loss did not improve from 0.75766\n",
            "23/23 [==============================] - 4s 188ms/step - loss: 0.3669 - dice_coef: 0.6343 - iou: 0.4658 - recall: 0.8770 - precision: 0.7652 - auc: 0.9863 - val_loss: 0.7689 - val_dice_coef: 0.2316 - val_iou: 0.1320 - val_recall: 0.1721 - val_precision: 0.8155 - val_auc: 0.8885 - lr: 1.0000e-04\n",
            "Epoch 18/50\n",
            "23/23 [==============================] - ETA: 0s - loss: 0.3608 - dice_coef: 0.6405 - iou: 0.4724 - recall: 0.8690 - precision: 0.7694 - auc: 0.9860\n",
            "Epoch 18: val_loss improved from 0.75766 to 0.63923, saving model to /content/datasets/drive_256_256_dice_bce_0_4__0_4_1//trained_models/model.h5\n",
            "23/23 [==============================] - 5s 232ms/step - loss: 0.3608 - dice_coef: 0.6405 - iou: 0.4724 - recall: 0.8690 - precision: 0.7694 - auc: 0.9860 - val_loss: 0.6392 - val_dice_coef: 0.3616 - val_iou: 0.2223 - val_recall: 0.3475 - val_precision: 0.8586 - val_auc: 0.9348 - lr: 1.0000e-04\n",
            "Epoch 19/50\n",
            "23/23 [==============================] - ETA: 0s - loss: 0.3526 - dice_coef: 0.6487 - iou: 0.4814 - recall: 0.8684 - precision: 0.7728 - auc: 0.9859\n",
            "Epoch 19: val_loss improved from 0.63923 to 0.53093, saving model to /content/datasets/drive_256_256_dice_bce_0_4__0_4_1//trained_models/model.h5\n",
            "23/23 [==============================] - 7s 292ms/step - loss: 0.3526 - dice_coef: 0.6487 - iou: 0.4814 - recall: 0.8684 - precision: 0.7728 - auc: 0.9859 - val_loss: 0.5309 - val_dice_coef: 0.4703 - val_iou: 0.3083 - val_recall: 0.5572 - val_precision: 0.7204 - val_auc: 0.9572 - lr: 1.0000e-04\n",
            "Epoch 20/50\n",
            "23/23 [==============================] - ETA: 0s - loss: 0.3431 - dice_coef: 0.6582 - iou: 0.4919 - recall: 0.8707 - precision: 0.7780 - auc: 0.9866\n",
            "Epoch 20: val_loss did not improve from 0.53093\n",
            "23/23 [==============================] - 4s 188ms/step - loss: 0.3431 - dice_coef: 0.6582 - iou: 0.4919 - recall: 0.8707 - precision: 0.7780 - auc: 0.9866 - val_loss: 0.5522 - val_dice_coef: 0.4488 - val_iou: 0.2905 - val_recall: 0.4623 - val_precision: 0.8107 - val_auc: 0.9530 - lr: 1.0000e-04\n",
            "Epoch 21/50\n",
            "23/23 [==============================] - ETA: 0s - loss: 0.3347 - dice_coef: 0.6666 - iou: 0.5013 - recall: 0.8726 - precision: 0.7806 - auc: 0.9866\n",
            "Epoch 21: val_loss improved from 0.53093 to 0.51540, saving model to /content/datasets/drive_256_256_dice_bce_0_4__0_4_1//trained_models/model.h5\n",
            "23/23 [==============================] - 5s 231ms/step - loss: 0.3347 - dice_coef: 0.6666 - iou: 0.5013 - recall: 0.8726 - precision: 0.7806 - auc: 0.9866 - val_loss: 0.5154 - val_dice_coef: 0.4854 - val_iou: 0.3216 - val_recall: 0.5212 - val_precision: 0.8217 - val_auc: 0.9537 - lr: 1.0000e-04\n",
            "Epoch 22/50\n",
            "23/23 [==============================] - ETA: 0s - loss: 0.3247 - dice_coef: 0.6767 - iou: 0.5127 - recall: 0.8746 - precision: 0.7900 - auc: 0.9870\n",
            "Epoch 22: val_loss improved from 0.51540 to 0.49354, saving model to /content/datasets/drive_256_256_dice_bce_0_4__0_4_1//trained_models/model.h5\n",
            "23/23 [==============================] - 5s 242ms/step - loss: 0.3247 - dice_coef: 0.6767 - iou: 0.5127 - recall: 0.8746 - precision: 0.7900 - auc: 0.9870 - val_loss: 0.4935 - val_dice_coef: 0.5074 - val_iou: 0.3411 - val_recall: 0.5499 - val_precision: 0.8453 - val_auc: 0.9593 - lr: 1.0000e-04\n",
            "Epoch 23/50\n",
            "23/23 [==============================] - ETA: 0s - loss: 0.3142 - dice_coef: 0.6871 - iou: 0.5246 - recall: 0.8779 - precision: 0.7975 - auc: 0.9875\n",
            "Epoch 23: val_loss improved from 0.49354 to 0.47395, saving model to /content/datasets/drive_256_256_dice_bce_0_4__0_4_1//trained_models/model.h5\n",
            "23/23 [==============================] - 5s 233ms/step - loss: 0.3142 - dice_coef: 0.6871 - iou: 0.5246 - recall: 0.8779 - precision: 0.7975 - auc: 0.9875 - val_loss: 0.4739 - val_dice_coef: 0.5270 - val_iou: 0.3593 - val_recall: 0.5658 - val_precision: 0.8510 - val_auc: 0.9523 - lr: 1.0000e-04\n",
            "Epoch 24/50\n",
            "23/23 [==============================] - ETA: 0s - loss: 0.3045 - dice_coef: 0.6969 - iou: 0.5361 - recall: 0.8821 - precision: 0.8027 - auc: 0.9880\n",
            "Epoch 24: val_loss did not improve from 0.47395\n",
            "23/23 [==============================] - 4s 188ms/step - loss: 0.3045 - dice_coef: 0.6969 - iou: 0.5361 - recall: 0.8821 - precision: 0.8027 - auc: 0.9880 - val_loss: 0.5008 - val_dice_coef: 0.5001 - val_iou: 0.3351 - val_recall: 0.5271 - val_precision: 0.9016 - val_auc: 0.9327 - lr: 1.0000e-04\n",
            "Epoch 25/50\n",
            "23/23 [==============================] - ETA: 0s - loss: 0.2969 - dice_coef: 0.7043 - iou: 0.5448 - recall: 0.8815 - precision: 0.8070 - auc: 0.9881\n",
            "Epoch 25: val_loss improved from 0.47395 to 0.42155, saving model to /content/datasets/drive_256_256_dice_bce_0_4__0_4_1//trained_models/model.h5\n",
            "23/23 [==============================] - 5s 232ms/step - loss: 0.2969 - dice_coef: 0.7043 - iou: 0.5448 - recall: 0.8815 - precision: 0.8070 - auc: 0.9881 - val_loss: 0.4215 - val_dice_coef: 0.5792 - val_iou: 0.4089 - val_recall: 0.6095 - val_precision: 0.8462 - val_auc: 0.9672 - lr: 1.0000e-04\n",
            "Epoch 26/50\n",
            "23/23 [==============================] - ETA: 0s - loss: 0.2876 - dice_coef: 0.7137 - iou: 0.5561 - recall: 0.8819 - precision: 0.8149 - auc: 0.9882\n",
            "Epoch 26: val_loss did not improve from 0.42155\n",
            "23/23 [==============================] - 4s 188ms/step - loss: 0.2876 - dice_coef: 0.7137 - iou: 0.5561 - recall: 0.8819 - precision: 0.8149 - auc: 0.9882 - val_loss: 0.4235 - val_dice_coef: 0.5775 - val_iou: 0.4073 - val_recall: 0.6078 - val_precision: 0.8513 - val_auc: 0.9661 - lr: 1.0000e-04\n",
            "Epoch 27/50\n",
            "23/23 [==============================] - ETA: 0s - loss: 0.2769 - dice_coef: 0.7244 - iou: 0.5691 - recall: 0.8894 - precision: 0.8202 - auc: 0.9888\n",
            "Epoch 27: val_loss did not improve from 0.42155\n",
            "23/23 [==============================] - 4s 188ms/step - loss: 0.2769 - dice_coef: 0.7244 - iou: 0.5691 - recall: 0.8894 - precision: 0.8202 - auc: 0.9888 - val_loss: 0.4437 - val_dice_coef: 0.5572 - val_iou: 0.3878 - val_recall: 0.5836 - val_precision: 0.8855 - val_auc: 0.9611 - lr: 1.0000e-04\n",
            "Epoch 28/50\n",
            "23/23 [==============================] - ETA: 0s - loss: 0.2699 - dice_coef: 0.7314 - iou: 0.5779 - recall: 0.8920 - precision: 0.8210 - auc: 0.9889\n",
            "Epoch 28: val_loss improved from 0.42155 to 0.40428, saving model to /content/datasets/drive_256_256_dice_bce_0_4__0_4_1//trained_models/model.h5\n",
            "23/23 [==============================] - 5s 233ms/step - loss: 0.2699 - dice_coef: 0.7314 - iou: 0.5779 - recall: 0.8920 - precision: 0.8210 - auc: 0.9889 - val_loss: 0.4043 - val_dice_coef: 0.5969 - val_iou: 0.4272 - val_recall: 0.5939 - val_precision: 0.8869 - val_auc: 0.9673 - lr: 1.0000e-04\n",
            "Epoch 29/50\n",
            "23/23 [==============================] - ETA: 0s - loss: 0.2658 - dice_coef: 0.7355 - iou: 0.5830 - recall: 0.8869 - precision: 0.8230 - auc: 0.9887\n",
            "Epoch 29: val_loss improved from 0.40428 to 0.38428, saving model to /content/datasets/drive_256_256_dice_bce_0_4__0_4_1//trained_models/model.h5\n",
            "23/23 [==============================] - 5s 233ms/step - loss: 0.2658 - dice_coef: 0.7355 - iou: 0.5830 - recall: 0.8869 - precision: 0.8230 - auc: 0.9887 - val_loss: 0.3843 - val_dice_coef: 0.6169 - val_iou: 0.4478 - val_recall: 0.6441 - val_precision: 0.8538 - val_auc: 0.9693 - lr: 1.0000e-04\n",
            "Epoch 30/50\n",
            "23/23 [==============================] - ETA: 0s - loss: 0.2575 - dice_coef: 0.7437 - iou: 0.5932 - recall: 0.8874 - precision: 0.8309 - auc: 0.9892\n",
            "Epoch 30: val_loss did not improve from 0.38428\n",
            "23/23 [==============================] - 4s 188ms/step - loss: 0.2575 - dice_coef: 0.7437 - iou: 0.5932 - recall: 0.8874 - precision: 0.8309 - auc: 0.9892 - val_loss: 0.4019 - val_dice_coef: 0.5989 - val_iou: 0.4293 - val_recall: 0.6293 - val_precision: 0.8030 - val_auc: 0.9605 - lr: 1.0000e-04\n",
            "Epoch 31/50\n",
            "23/23 [==============================] - ETA: 0s - loss: 0.2531 - dice_coef: 0.7482 - iou: 0.5990 - recall: 0.8881 - precision: 0.8304 - auc: 0.9891\n",
            "Epoch 31: val_loss improved from 0.38428 to 0.37676, saving model to /content/datasets/drive_256_256_dice_bce_0_4__0_4_1//trained_models/model.h5\n",
            "23/23 [==============================] - 5s 232ms/step - loss: 0.2531 - dice_coef: 0.7482 - iou: 0.5990 - recall: 0.8881 - precision: 0.8304 - auc: 0.9891 - val_loss: 0.3768 - val_dice_coef: 0.6243 - val_iou: 0.4557 - val_recall: 0.6189 - val_precision: 0.8817 - val_auc: 0.9631 - lr: 1.0000e-04\n",
            "Epoch 32/50\n",
            "23/23 [==============================] - ETA: 0s - loss: 0.2468 - dice_coef: 0.7546 - iou: 0.6073 - recall: 0.8907 - precision: 0.8324 - auc: 0.9887\n",
            "Epoch 32: val_loss did not improve from 0.37676\n",
            "23/23 [==============================] - 4s 188ms/step - loss: 0.2468 - dice_coef: 0.7546 - iou: 0.6073 - recall: 0.8907 - precision: 0.8324 - auc: 0.9887 - val_loss: 0.4115 - val_dice_coef: 0.5905 - val_iou: 0.4221 - val_recall: 0.5531 - val_precision: 0.9183 - val_auc: 0.9654 - lr: 1.0000e-04\n",
            "Epoch 33/50\n",
            "23/23 [==============================] - ETA: 0s - loss: 0.2394 - dice_coef: 0.7621 - iou: 0.6170 - recall: 0.8932 - precision: 0.8379 - auc: 0.9895\n",
            "Epoch 33: val_loss did not improve from 0.37676\n",
            "23/23 [==============================] - 4s 188ms/step - loss: 0.2394 - dice_coef: 0.7621 - iou: 0.6170 - recall: 0.8932 - precision: 0.8379 - auc: 0.9895 - val_loss: 0.4332 - val_dice_coef: 0.5683 - val_iou: 0.3998 - val_recall: 0.5223 - val_precision: 0.9138 - val_auc: 0.9512 - lr: 1.0000e-04\n",
            "Epoch 34/50\n",
            "23/23 [==============================] - ETA: 0s - loss: 0.2350 - dice_coef: 0.7664 - iou: 0.6225 - recall: 0.8920 - precision: 0.8404 - auc: 0.9894\n",
            "Epoch 34: val_loss improved from 0.37676 to 0.37642, saving model to /content/datasets/drive_256_256_dice_bce_0_4__0_4_1//trained_models/model.h5\n",
            "23/23 [==============================] - 5s 234ms/step - loss: 0.2350 - dice_coef: 0.7664 - iou: 0.6225 - recall: 0.8920 - precision: 0.8404 - auc: 0.9894 - val_loss: 0.3764 - val_dice_coef: 0.6246 - val_iou: 0.4560 - val_recall: 0.6122 - val_precision: 0.8886 - val_auc: 0.9621 - lr: 1.0000e-04\n",
            "Epoch 35/50\n",
            "23/23 [==============================] - ETA: 0s - loss: 0.2319 - dice_coef: 0.7693 - iou: 0.6261 - recall: 0.8905 - precision: 0.8396 - auc: 0.9889\n",
            "Epoch 35: val_loss did not improve from 0.37642\n",
            "23/23 [==============================] - 4s 188ms/step - loss: 0.2319 - dice_coef: 0.7693 - iou: 0.6261 - recall: 0.8905 - precision: 0.8396 - auc: 0.9889 - val_loss: 0.3791 - val_dice_coef: 0.6221 - val_iou: 0.4535 - val_recall: 0.6152 - val_precision: 0.8724 - val_auc: 0.9613 - lr: 1.0000e-04\n",
            "Epoch 36/50\n",
            "23/23 [==============================] - ETA: 0s - loss: 0.2261 - dice_coef: 0.7750 - iou: 0.6338 - recall: 0.8869 - precision: 0.8481 - auc: 0.9890\n",
            "Epoch 36: val_loss improved from 0.37642 to 0.37092, saving model to /content/datasets/drive_256_256_dice_bce_0_4__0_4_1//trained_models/model.h5\n",
            "23/23 [==============================] - 5s 231ms/step - loss: 0.2261 - dice_coef: 0.7750 - iou: 0.6338 - recall: 0.8869 - precision: 0.8481 - auc: 0.9890 - val_loss: 0.3709 - val_dice_coef: 0.6307 - val_iou: 0.4630 - val_recall: 0.6269 - val_precision: 0.8704 - val_auc: 0.9623 - lr: 1.0000e-04\n",
            "Epoch 37/50\n",
            "23/23 [==============================] - ETA: 0s - loss: 0.2187 - dice_coef: 0.7825 - iou: 0.6438 - recall: 0.8894 - precision: 0.8548 - auc: 0.9884\n",
            "Epoch 37: val_loss improved from 0.37092 to 0.34179, saving model to /content/datasets/drive_256_256_dice_bce_0_4__0_4_1//trained_models/model.h5\n",
            "23/23 [==============================] - 6s 253ms/step - loss: 0.2187 - dice_coef: 0.7825 - iou: 0.6438 - recall: 0.8894 - precision: 0.8548 - auc: 0.9884 - val_loss: 0.3418 - val_dice_coef: 0.6593 - val_iou: 0.4932 - val_recall: 0.7074 - val_precision: 0.7999 - val_auc: 0.9680 - lr: 1.0000e-04\n",
            "Epoch 38/50\n",
            "23/23 [==============================] - ETA: 0s - loss: 0.2136 - dice_coef: 0.7876 - iou: 0.6507 - recall: 0.8888 - precision: 0.8572 - auc: 0.9884\n",
            "Epoch 38: val_loss did not improve from 0.34179\n",
            "23/23 [==============================] - 4s 188ms/step - loss: 0.2136 - dice_coef: 0.7876 - iou: 0.6507 - recall: 0.8888 - precision: 0.8572 - auc: 0.9884 - val_loss: 0.3448 - val_dice_coef: 0.6558 - val_iou: 0.4894 - val_recall: 0.6837 - val_precision: 0.8328 - val_auc: 0.9656 - lr: 1.0000e-04\n",
            "Epoch 39/50\n",
            "23/23 [==============================] - ETA: 0s - loss: 0.2087 - dice_coef: 0.7925 - iou: 0.6575 - recall: 0.8872 - precision: 0.8622 - auc: 0.9882\n",
            "Epoch 39: val_loss did not improve from 0.34179\n",
            "23/23 [==============================] - 4s 189ms/step - loss: 0.2087 - dice_coef: 0.7925 - iou: 0.6575 - recall: 0.8872 - precision: 0.8622 - auc: 0.9882 - val_loss: 0.3434 - val_dice_coef: 0.6571 - val_iou: 0.4909 - val_recall: 0.7037 - val_precision: 0.8128 - val_auc: 0.9696 - lr: 1.0000e-04\n",
            "Epoch 40/50\n",
            "23/23 [==============================] - ETA: 0s - loss: 0.2016 - dice_coef: 0.7995 - iou: 0.6670 - recall: 0.8915 - precision: 0.8647 - auc: 0.9879\n",
            "Epoch 40: val_loss improved from 0.34179 to 0.33384, saving model to /content/datasets/drive_256_256_dice_bce_0_4__0_4_1//trained_models/model.h5\n",
            "23/23 [==============================] - 5s 233ms/step - loss: 0.2016 - dice_coef: 0.7995 - iou: 0.6670 - recall: 0.8915 - precision: 0.8647 - auc: 0.9879 - val_loss: 0.3338 - val_dice_coef: 0.6664 - val_iou: 0.5011 - val_recall: 0.7768 - val_precision: 0.7129 - val_auc: 0.9753 - lr: 1.0000e-04\n",
            "Epoch 41/50\n",
            "23/23 [==============================] - ETA: 0s - loss: 0.1959 - dice_coef: 0.8051 - iou: 0.6747 - recall: 0.8908 - precision: 0.8654 - auc: 0.9872\n",
            "Epoch 41: val_loss improved from 0.33384 to 0.30053, saving model to /content/datasets/drive_256_256_dice_bce_0_4__0_4_1//trained_models/model.h5\n",
            "23/23 [==============================] - 5s 233ms/step - loss: 0.1959 - dice_coef: 0.8051 - iou: 0.6747 - recall: 0.8908 - precision: 0.8654 - auc: 0.9872 - val_loss: 0.3005 - val_dice_coef: 0.7000 - val_iou: 0.5398 - val_recall: 0.7465 - val_precision: 0.7742 - val_auc: 0.9644 - lr: 1.0000e-04\n",
            "Epoch 42/50\n",
            "23/23 [==============================] - ETA: 0s - loss: 0.1887 - dice_coef: 0.8123 - iou: 0.6849 - recall: 0.8926 - precision: 0.8690 - auc: 0.9854\n",
            "Epoch 42: val_loss improved from 0.30053 to 0.29482, saving model to /content/datasets/drive_256_256_dice_bce_0_4__0_4_1//trained_models/model.h5\n",
            "23/23 [==============================] - 5s 233ms/step - loss: 0.1887 - dice_coef: 0.8123 - iou: 0.6849 - recall: 0.8926 - precision: 0.8690 - auc: 0.9854 - val_loss: 0.2948 - val_dice_coef: 0.7056 - val_iou: 0.5462 - val_recall: 0.7573 - val_precision: 0.7831 - val_auc: 0.9739 - lr: 1.0000e-04\n",
            "Epoch 43/50\n",
            "23/23 [==============================] - ETA: 0s - loss: 0.1828 - dice_coef: 0.8184 - iou: 0.6937 - recall: 0.8951 - precision: 0.8734 - auc: 0.9852\n",
            "Epoch 43: val_loss did not improve from 0.29482\n",
            "23/23 [==============================] - 4s 188ms/step - loss: 0.1828 - dice_coef: 0.8184 - iou: 0.6937 - recall: 0.8951 - precision: 0.8734 - auc: 0.9852 - val_loss: 0.3000 - val_dice_coef: 0.7009 - val_iou: 0.5408 - val_recall: 0.7096 - val_precision: 0.8241 - val_auc: 0.9604 - lr: 1.0000e-04\n",
            "Epoch 44/50\n",
            "23/23 [==============================] - ETA: 0s - loss: 0.1765 - dice_coef: 0.8245 - iou: 0.7023 - recall: 0.8974 - precision: 0.8788 - auc: 0.9858\n",
            "Epoch 44: val_loss did not improve from 0.29482\n",
            "23/23 [==============================] - 4s 188ms/step - loss: 0.1765 - dice_coef: 0.8245 - iou: 0.7023 - recall: 0.8974 - precision: 0.8788 - auc: 0.9858 - val_loss: 0.3296 - val_dice_coef: 0.6719 - val_iou: 0.5080 - val_recall: 0.6416 - val_precision: 0.8422 - val_auc: 0.9369 - lr: 1.0000e-04\n",
            "Epoch 45/50\n",
            "23/23 [==============================] - ETA: 0s - loss: 0.1731 - dice_coef: 0.8277 - iou: 0.7068 - recall: 0.8992 - precision: 0.8800 - auc: 0.9856\n",
            "Epoch 45: val_loss did not improve from 0.29482\n",
            "23/23 [==============================] - 4s 189ms/step - loss: 0.1731 - dice_coef: 0.8277 - iou: 0.7068 - recall: 0.8992 - precision: 0.8800 - auc: 0.9856 - val_loss: 0.3246 - val_dice_coef: 0.6770 - val_iou: 0.5138 - val_recall: 0.6382 - val_precision: 0.8647 - val_auc: 0.9423 - lr: 1.0000e-04\n",
            "Epoch 46/50\n",
            "23/23 [==============================] - ETA: 0s - loss: 0.1724 - dice_coef: 0.8285 - iou: 0.7081 - recall: 0.8971 - precision: 0.8787 - auc: 0.9854\n",
            "Epoch 46: val_loss did not improve from 0.29482\n",
            "23/23 [==============================] - 4s 189ms/step - loss: 0.1724 - dice_coef: 0.8285 - iou: 0.7081 - recall: 0.8971 - precision: 0.8787 - auc: 0.9854 - val_loss: 0.3252 - val_dice_coef: 0.6761 - val_iou: 0.5129 - val_recall: 0.6390 - val_precision: 0.8607 - val_auc: 0.9413 - lr: 1.0000e-04\n",
            "Epoch 47/50\n",
            "23/23 [==============================] - ETA: 0s - loss: 0.1737 - dice_coef: 0.8273 - iou: 0.7063 - recall: 0.8935 - precision: 0.8745 - auc: 0.9856\n",
            "Epoch 47: val_loss did not improve from 0.29482\n",
            "\n",
            "Epoch 47: ReduceLROnPlateau reducing learning rate to 9.999999747378752e-06.\n",
            "23/23 [==============================] - 4s 189ms/step - loss: 0.1737 - dice_coef: 0.8273 - iou: 0.7063 - recall: 0.8935 - precision: 0.8745 - auc: 0.9856 - val_loss: 0.3138 - val_dice_coef: 0.6871 - val_iou: 0.5245 - val_recall: 0.6927 - val_precision: 0.7956 - val_auc: 0.9507 - lr: 1.0000e-04\n",
            "Epoch 48/50\n",
            "23/23 [==============================] - ETA: 0s - loss: 0.1948 - dice_coef: 0.8068 - iou: 0.6784 - recall: 0.8732 - precision: 0.8455 - auc: 0.9819\n",
            "Epoch 48: val_loss improved from 0.29482 to 0.27800, saving model to /content/datasets/drive_256_256_dice_bce_0_4__0_4_1//trained_models/model.h5\n",
            "23/23 [==============================] - 5s 232ms/step - loss: 0.1948 - dice_coef: 0.8068 - iou: 0.6784 - recall: 0.8732 - precision: 0.8455 - auc: 0.9819 - val_loss: 0.2780 - val_dice_coef: 0.7229 - val_iou: 0.5675 - val_recall: 0.7153 - val_precision: 0.8442 - val_auc: 0.9564 - lr: 1.0000e-05\n",
            "Epoch 49/50\n",
            "23/23 [==============================] - ETA: 0s - loss: 0.1617 - dice_coef: 0.8390 - iou: 0.7235 - recall: 0.9056 - precision: 0.8844 - auc: 0.9882\n",
            "Epoch 49: val_loss did not improve from 0.27800\n",
            "23/23 [==============================] - 4s 188ms/step - loss: 0.1617 - dice_coef: 0.8390 - iou: 0.7235 - recall: 0.9056 - precision: 0.8844 - auc: 0.9882 - val_loss: 0.2788 - val_dice_coef: 0.7221 - val_iou: 0.5667 - val_recall: 0.7022 - val_precision: 0.8578 - val_auc: 0.9645 - lr: 1.0000e-05\n",
            "Epoch 50/50\n",
            "23/23 [==============================] - ETA: 0s - loss: 0.1545 - dice_coef: 0.8462 - iou: 0.7343 - recall: 0.9113 - precision: 0.8960 - auc: 0.9887\n",
            "Epoch 50: val_loss did not improve from 0.27800\n",
            "23/23 [==============================] - 4s 189ms/step - loss: 0.1545 - dice_coef: 0.8462 - iou: 0.7343 - recall: 0.9113 - precision: 0.8960 - auc: 0.9887 - val_loss: 0.2780 - val_dice_coef: 0.7230 - val_iou: 0.5678 - val_recall: 0.7006 - val_precision: 0.8609 - val_auc: 0.9714 - lr: 1.0000e-05\n"
          ]
        },
        {
          "output_type": "execute_result",
          "data": {
            "text/plain": [
              "<keras.callbacks.History at 0x7fad60614750>"
            ]
          },
          "metadata": {},
          "execution_count": 38
        }
      ]
    },
    {
      "cell_type": "markdown",
      "metadata": {
        "id": "z0HWQPIv6F3u"
      },
      "source": [
        "### Evaluating the Model:"
      ]
    },
    {
      "cell_type": "code",
      "metadata": {
        "id": "Ptl8ug8uby3R"
      },
      "source": [
        "import os\n",
        "os.environ[\"TF_CPP_MIN_LOG_LEVEL\"] = \"2\"\n",
        "import numpy as np\n",
        "import pandas as pd\n",
        "import cv2\n",
        "from glob import glob\n",
        "from tqdm import tqdm\n",
        "import tensorflow as tf\n",
        "from tensorflow.keras.utils import CustomObjectScope\n",
        "from sklearn.metrics import accuracy_score, f1_score, jaccard_score, precision_score, recall_score\n",
        "from tensorflow.keras.models import load_model"
      ],
      "execution_count": null,
      "outputs": []
    },
    {
      "cell_type": "code",
      "metadata": {
        "id": "HmFXTEtz6Rhn"
      },
      "source": [
        "\n",
        "def create_dir(path):\n",
        "    if not os.path.exists(path):\n",
        "        os.makedirs(path)\n",
        "\n",
        "def read_image(path):\n",
        "    x = cv2.imread(path, cv2.IMREAD_COLOR)\n",
        "    # x = cv2.resize(x, (W, H))\n",
        "    ori_x = x\n",
        "    x = x/255.0\n",
        "    x = x.astype(np.float32)\n",
        "    return ori_x, x\n",
        "\n",
        "def read_mask(path):\n",
        "    x = cv2.imread(path, cv2.IMREAD_GRAYSCALE)  ## (512, 512)\n",
        "    # x = cv2.resize(x, (W, H))\n",
        "    ori_x = x\n",
        "    x = x/255.0\n",
        "    x = x.astype(np.int32)\n",
        "    return ori_x, x\n",
        "\n",
        "def load_data(path):\n",
        "    x = sorted(glob(os.path.join(path, \"image\", \"*.png\")))\n",
        "    y = sorted(glob(os.path.join(path, \"mask\", \"*.png\")))\n",
        "    return x, y\n",
        "\n",
        "def save_results(ori_x, ori_y, y_pred, save_image_path):\n",
        "    line = np.ones((H, 10, 3)) * 255\n",
        "\n",
        "    ori_y = np.expand_dims(ori_y, axis=-1)\n",
        "    ori_y = np.concatenate([ori_y, ori_y, ori_y], axis=-1)\n",
        "\n",
        "    y_pred = np.expand_dims(y_pred, axis=-1)\n",
        "    y_pred = np.concatenate([y_pred, y_pred, y_pred], axis=-1) * 255\n",
        "\n",
        "    cat_images = np.concatenate([ori_x, line, ori_y, line, y_pred], axis=1)\n",
        "    cv2.imwrite(save_image_path, cat_images)"
      ],
      "execution_count": null,
      "outputs": []
    },
    {
      "cell_type": "code",
      "source": [
        "import glob\n",
        "supported_extensions = [\"png\", \"jpg\", \"tif\", \"jpeg\", \"gif\", \"bmp\"]\n",
        "\n",
        "def image_files(path, file_prefix=None):\n",
        "    all_image_files = []\n",
        "    # print(\"path\", path)\n",
        "    # print(\"file_prefix\", file_prefix)\n",
        "    if file_prefix is None:\n",
        "        file_names = list(glob.glob(path + \"/*.*\" ))\n",
        "    else:\n",
        "        prefix___ = path + \"/\" + file_prefix + \".*\"\n",
        "        #print(\"prefix\", prefix___)\n",
        "        file_names = list(glob.glob(prefix___))\n",
        "\n",
        "    # print(\"filenames\", file_names)\n",
        "\n",
        "    for filename in file_names:\n",
        "        ext = filename.rsplit(\".\", 1)[1]\n",
        "        if ext.lower() in supported_extensions:\n",
        "            all_image_files.append(filename)\n",
        "    # print(\"All Image files\", all_image_files)\n",
        "    return sorted(all_image_files)\n"
      ],
      "metadata": {
        "id": "AVfRbYagZChd"
      },
      "execution_count": null,
      "outputs": []
    },
    {
      "cell_type": "code",
      "source": [
        "results_path = f\"{root_path}/results/\"\n",
        "prediction_path = f\"{root_path}/predictions/\"\n",
        "prediction_np_path = f\"{root_path}/predictions_np/\"\n",
        "create_dir(prediction_path)\n",
        "create_dir(prediction_np_path)\n",
        "create_dir(results_path)"
      ],
      "metadata": {
        "id": "41UgJB8nD_XH"
      },
      "execution_count": null,
      "outputs": []
    },
    {
      "cell_type": "code",
      "source": [
        "results_path"
      ],
      "metadata": {
        "id": "BJYCeRNgZOHE",
        "colab": {
          "base_uri": "https://localhost:8080/",
          "height": 35
        },
        "outputId": "daa04524-2bdf-48c4-cd34-1936f325ae69"
      },
      "execution_count": null,
      "outputs": [
        {
          "output_type": "execute_result",
          "data": {
            "application/vnd.google.colaboratory.intrinsic+json": {
              "type": "string"
            },
            "text/plain": [
              "'/content/datasets/drive_256_256_dice_bce_0_4__0_4_1//results/'"
            ]
          },
          "metadata": {},
          "execution_count": 43
        }
      ]
    },
    {
      "cell_type": "code",
      "source": [
        "from glob import glob"
      ],
      "metadata": {
        "id": "R9b3W24IZwQO"
      },
      "execution_count": null,
      "outputs": []
    },
    {
      "cell_type": "code",
      "metadata": {
        "id": "bVTFZdxa6TuQ",
        "colab": {
          "base_uri": "https://localhost:8080/"
        },
        "outputId": "2edd5be5-5518-4c65-a3f1-a859ff59f3c4"
      },
      "source": [
        "from copy import deepcopy\n",
        "from sklearn.metrics import roc_auc_score\n",
        "# prediction_path = \"predictions\"\n",
        "\n",
        "\"\"\" Save the results in this folder \"\"\"\n",
        "# create_dir(\"results_sunil_test\")\n",
        "# create_dir(prediction_path)\n",
        "\n",
        "\"\"\" Load the model \"\"\"\n",
        "# with CustomObjectScope({'iou': iou, 'dice_coef': dice_coef}):\n",
        "model_path = os.path.join(f\"{model_dir}\", \"model.h5\")\n",
        "\n",
        "model = load_model(model_path, compile=False)\n",
        "\n",
        "\"\"\" Load the dataset \"\"\"\n",
        "dataset_path = os.path.join(f\"{data_path}/{split_name}\", \"test\")\n",
        "test_x, test_y = load_data(dataset_path)\n",
        "\n",
        "\"\"\" Make the prediction and calculate the metrics values \"\"\"\n",
        "SCORE = []\n",
        "for x, y in tqdm(zip(test_x, test_y), total=len(test_x)):\n",
        "    \"\"\" Extracting name \"\"\"\n",
        "    name = x.split(\"/\")[-1].split(\".\")[0]\n",
        "\n",
        "    \"\"\" Read the image and mask \"\"\"\n",
        "    ori_x, x = read_image(x)\n",
        "    ori_y, y = read_mask(y)\n",
        "    y = y.astype(np.int)\n",
        "\n",
        "    \"\"\" Prediction \"\"\"\n",
        "    y_pred = model.predict(np.expand_dims(x, axis=0))[0]\n",
        "    np.save(f\"{prediction_np_path}/{name}.npy\", y_pred)\n",
        "    y_prob = deepcopy(y_pred).flatten()\n",
        "    y_pred = y_pred > 0.5\n",
        "    y_pred = y_pred.astype(np.int32)\n",
        "    y_pred = np.squeeze(y_pred, axis=-1)\n",
        "\n",
        "    \"\"\" Saving the images \"\"\"\n",
        "    save_image_path = f\"{results_path}/{name}.png\"\n",
        "#    print(ori_x.shape, ori_y.shape, y_pred.shape)\n",
        "    save_results(ori_x, ori_y, y_pred, save_image_path)\n",
        "    cv2.imwrite(f\"{prediction_path}/{name}.png\", y_pred * 255)\n",
        "    \n",
        "\n",
        "    \"\"\" Flatten the array \"\"\"\n",
        "    y = y.flatten()\n",
        "    y_pred = y_pred.flatten()\n",
        "\n",
        "    \"\"\" Calculate the metrics \"\"\"\n",
        "    acc_value = accuracy_score(y, y_pred)\n",
        "    f1_value = f1_score(y, y_pred, labels=[0, 1], average=\"binary\")\n",
        "    jac_value = jaccard_score(y, y_pred, labels=[0, 1], average=\"binary\")\n",
        "    recall_value = recall_score(y, y_pred, labels=[0, 1], average=\"binary\")\n",
        "    precision_value = precision_score(y, y_pred, labels=[0, 1], average=\"binary\")\n",
        "    if np.sum(y) == 0 or np.sum(y) == H * W:\n",
        "        auc_value = 1\n",
        "    else:\n",
        "        auc_value = roc_auc_score(y, y_prob)\n",
        "    dice_value = dice_coef(y.astype(np.float64), y_prob)\n",
        "\n",
        "    SCORE.append([name, acc_value, f1_value, jac_value, recall_value, precision_value, auc_value, dice_value])\n",
        "\n",
        "score = [s[1:] for s in SCORE]\n",
        "score = np.mean(score, axis=0)\n",
        "print(f\"Accuracy: {score[0]:0.5f}\")\n",
        "print(f\"F1: {score[1]:0.5f}\")\n",
        "print(f\"Jaccard: {score[2]:0.5f}\")\n",
        "print(f\"Recall: {score[3]:0.5f}\")\n",
        "print(f\"Precision: {score[4]:0.5f}\")\n",
        "print(f\"AUC: {score[5]:0.5f}\")\n",
        "print(f\"Dice Coeff: {score[6]:0.5f}\")\n",
        "\"\"\" Saving \"\"\"\n",
        "df = pd.DataFrame(SCORE, columns=[\"Image\", \"Acc\", \"F1\", \"Jaccard\", \"Recall\", \"Precision\", \"AUC\", \"Dice Coeff\"])\n",
        "df.to_csv(f\"{results_path}/score.csv\")"
      ],
      "execution_count": null,
      "outputs": [
        {
          "output_type": "stream",
          "name": "stderr",
          "text": [
            "\r  0%|          | 0/180 [00:00<?, ?it/s]/usr/local/lib/python3.7/dist-packages/ipykernel_launcher.py:28: DeprecationWarning: `np.int` is a deprecated alias for the builtin `int`. To silence this warning, use `int` by itself. Doing this will not modify any behavior and is safe. When replacing `np.int`, you may wish to use e.g. `np.int64` or `np.int32` to specify the precision. If you wish to review your current use, check the release note link for additional information.\n",
            "Deprecated in NumPy 1.20; for more details and guidance: https://numpy.org/devdocs/release/1.20.0-notes.html#deprecations\n",
            "  1%|          | 1/180 [00:00<02:58,  1.00it/s]/usr/local/lib/python3.7/dist-packages/ipykernel_launcher.py:28: DeprecationWarning: `np.int` is a deprecated alias for the builtin `int`. To silence this warning, use `int` by itself. Doing this will not modify any behavior and is safe. When replacing `np.int`, you may wish to use e.g. `np.int64` or `np.int32` to specify the precision. If you wish to review your current use, check the release note link for additional information.\n",
            "Deprecated in NumPy 1.20; for more details and guidance: https://numpy.org/devdocs/release/1.20.0-notes.html#deprecations\n",
            "  1%|          | 2/180 [00:01<01:31,  1.95it/s]/usr/local/lib/python3.7/dist-packages/ipykernel_launcher.py:28: DeprecationWarning: `np.int` is a deprecated alias for the builtin `int`. To silence this warning, use `int` by itself. Doing this will not modify any behavior and is safe. When replacing `np.int`, you may wish to use e.g. `np.int64` or `np.int32` to specify the precision. If you wish to review your current use, check the release note link for additional information.\n",
            "Deprecated in NumPy 1.20; for more details and guidance: https://numpy.org/devdocs/release/1.20.0-notes.html#deprecations\n",
            "  2%|▏         | 3/180 [00:01<01:02,  2.83it/s]/usr/local/lib/python3.7/dist-packages/ipykernel_launcher.py:28: DeprecationWarning: `np.int` is a deprecated alias for the builtin `int`. To silence this warning, use `int` by itself. Doing this will not modify any behavior and is safe. When replacing `np.int`, you may wish to use e.g. `np.int64` or `np.int32` to specify the precision. If you wish to review your current use, check the release note link for additional information.\n",
            "Deprecated in NumPy 1.20; for more details and guidance: https://numpy.org/devdocs/release/1.20.0-notes.html#deprecations\n",
            "  2%|▏         | 4/180 [00:01<00:49,  3.54it/s]/usr/local/lib/python3.7/dist-packages/ipykernel_launcher.py:28: DeprecationWarning: `np.int` is a deprecated alias for the builtin `int`. To silence this warning, use `int` by itself. Doing this will not modify any behavior and is safe. When replacing `np.int`, you may wish to use e.g. `np.int64` or `np.int32` to specify the precision. If you wish to review your current use, check the release note link for additional information.\n",
            "Deprecated in NumPy 1.20; for more details and guidance: https://numpy.org/devdocs/release/1.20.0-notes.html#deprecations\n",
            "  3%|▎         | 5/180 [00:01<00:42,  4.09it/s]/usr/local/lib/python3.7/dist-packages/ipykernel_launcher.py:28: DeprecationWarning: `np.int` is a deprecated alias for the builtin `int`. To silence this warning, use `int` by itself. Doing this will not modify any behavior and is safe. When replacing `np.int`, you may wish to use e.g. `np.int64` or `np.int32` to specify the precision. If you wish to review your current use, check the release note link for additional information.\n",
            "Deprecated in NumPy 1.20; for more details and guidance: https://numpy.org/devdocs/release/1.20.0-notes.html#deprecations\n",
            "  3%|▎         | 6/180 [00:01<00:38,  4.54it/s]/usr/local/lib/python3.7/dist-packages/ipykernel_launcher.py:28: DeprecationWarning: `np.int` is a deprecated alias for the builtin `int`. To silence this warning, use `int` by itself. Doing this will not modify any behavior and is safe. When replacing `np.int`, you may wish to use e.g. `np.int64` or `np.int32` to specify the precision. If you wish to review your current use, check the release note link for additional information.\n",
            "Deprecated in NumPy 1.20; for more details and guidance: https://numpy.org/devdocs/release/1.20.0-notes.html#deprecations\n",
            "  4%|▍         | 7/180 [00:02<00:35,  4.93it/s]/usr/local/lib/python3.7/dist-packages/ipykernel_launcher.py:28: DeprecationWarning: `np.int` is a deprecated alias for the builtin `int`. To silence this warning, use `int` by itself. Doing this will not modify any behavior and is safe. When replacing `np.int`, you may wish to use e.g. `np.int64` or `np.int32` to specify the precision. If you wish to review your current use, check the release note link for additional information.\n",
            "Deprecated in NumPy 1.20; for more details and guidance: https://numpy.org/devdocs/release/1.20.0-notes.html#deprecations\n",
            "  4%|▍         | 8/180 [00:02<00:33,  5.16it/s]/usr/local/lib/python3.7/dist-packages/ipykernel_launcher.py:28: DeprecationWarning: `np.int` is a deprecated alias for the builtin `int`. To silence this warning, use `int` by itself. Doing this will not modify any behavior and is safe. When replacing `np.int`, you may wish to use e.g. `np.int64` or `np.int32` to specify the precision. If you wish to review your current use, check the release note link for additional information.\n",
            "Deprecated in NumPy 1.20; for more details and guidance: https://numpy.org/devdocs/release/1.20.0-notes.html#deprecations\n",
            "  5%|▌         | 9/180 [00:02<00:31,  5.38it/s]/usr/local/lib/python3.7/dist-packages/ipykernel_launcher.py:28: DeprecationWarning: `np.int` is a deprecated alias for the builtin `int`. To silence this warning, use `int` by itself. Doing this will not modify any behavior and is safe. When replacing `np.int`, you may wish to use e.g. `np.int64` or `np.int32` to specify the precision. If you wish to review your current use, check the release note link for additional information.\n",
            "Deprecated in NumPy 1.20; for more details and guidance: https://numpy.org/devdocs/release/1.20.0-notes.html#deprecations\n",
            "  6%|▌         | 10/180 [00:02<00:30,  5.61it/s]/usr/local/lib/python3.7/dist-packages/ipykernel_launcher.py:28: DeprecationWarning: `np.int` is a deprecated alias for the builtin `int`. To silence this warning, use `int` by itself. Doing this will not modify any behavior and is safe. When replacing `np.int`, you may wish to use e.g. `np.int64` or `np.int32` to specify the precision. If you wish to review your current use, check the release note link for additional information.\n",
            "Deprecated in NumPy 1.20; for more details and guidance: https://numpy.org/devdocs/release/1.20.0-notes.html#deprecations\n",
            "  6%|▌         | 11/180 [00:02<00:29,  5.68it/s]/usr/local/lib/python3.7/dist-packages/ipykernel_launcher.py:28: DeprecationWarning: `np.int` is a deprecated alias for the builtin `int`. To silence this warning, use `int` by itself. Doing this will not modify any behavior and is safe. When replacing `np.int`, you may wish to use e.g. `np.int64` or `np.int32` to specify the precision. If you wish to review your current use, check the release note link for additional information.\n",
            "Deprecated in NumPy 1.20; for more details and guidance: https://numpy.org/devdocs/release/1.20.0-notes.html#deprecations\n",
            "  7%|▋         | 12/180 [00:02<00:28,  5.81it/s]/usr/local/lib/python3.7/dist-packages/ipykernel_launcher.py:28: DeprecationWarning: `np.int` is a deprecated alias for the builtin `int`. To silence this warning, use `int` by itself. Doing this will not modify any behavior and is safe. When replacing `np.int`, you may wish to use e.g. `np.int64` or `np.int32` to specify the precision. If you wish to review your current use, check the release note link for additional information.\n",
            "Deprecated in NumPy 1.20; for more details and guidance: https://numpy.org/devdocs/release/1.20.0-notes.html#deprecations\n",
            "  7%|▋         | 13/180 [00:03<00:28,  5.84it/s]/usr/local/lib/python3.7/dist-packages/ipykernel_launcher.py:28: DeprecationWarning: `np.int` is a deprecated alias for the builtin `int`. To silence this warning, use `int` by itself. Doing this will not modify any behavior and is safe. When replacing `np.int`, you may wish to use e.g. `np.int64` or `np.int32` to specify the precision. If you wish to review your current use, check the release note link for additional information.\n",
            "Deprecated in NumPy 1.20; for more details and guidance: https://numpy.org/devdocs/release/1.20.0-notes.html#deprecations\n",
            "  8%|▊         | 14/180 [00:03<00:28,  5.75it/s]/usr/local/lib/python3.7/dist-packages/ipykernel_launcher.py:28: DeprecationWarning: `np.int` is a deprecated alias for the builtin `int`. To silence this warning, use `int` by itself. Doing this will not modify any behavior and is safe. When replacing `np.int`, you may wish to use e.g. `np.int64` or `np.int32` to specify the precision. If you wish to review your current use, check the release note link for additional information.\n",
            "Deprecated in NumPy 1.20; for more details and guidance: https://numpy.org/devdocs/release/1.20.0-notes.html#deprecations\n",
            "  8%|▊         | 15/180 [00:03<00:28,  5.79it/s]/usr/local/lib/python3.7/dist-packages/ipykernel_launcher.py:28: DeprecationWarning: `np.int` is a deprecated alias for the builtin `int`. To silence this warning, use `int` by itself. Doing this will not modify any behavior and is safe. When replacing `np.int`, you may wish to use e.g. `np.int64` or `np.int32` to specify the precision. If you wish to review your current use, check the release note link for additional information.\n",
            "Deprecated in NumPy 1.20; for more details and guidance: https://numpy.org/devdocs/release/1.20.0-notes.html#deprecations\n",
            "  9%|▉         | 16/180 [00:03<00:28,  5.79it/s]/usr/local/lib/python3.7/dist-packages/ipykernel_launcher.py:28: DeprecationWarning: `np.int` is a deprecated alias for the builtin `int`. To silence this warning, use `int` by itself. Doing this will not modify any behavior and is safe. When replacing `np.int`, you may wish to use e.g. `np.int64` or `np.int32` to specify the precision. If you wish to review your current use, check the release note link for additional information.\n",
            "Deprecated in NumPy 1.20; for more details and guidance: https://numpy.org/devdocs/release/1.20.0-notes.html#deprecations\n",
            "  9%|▉         | 17/180 [00:03<00:28,  5.81it/s]/usr/local/lib/python3.7/dist-packages/ipykernel_launcher.py:28: DeprecationWarning: `np.int` is a deprecated alias for the builtin `int`. To silence this warning, use `int` by itself. Doing this will not modify any behavior and is safe. When replacing `np.int`, you may wish to use e.g. `np.int64` or `np.int32` to specify the precision. If you wish to review your current use, check the release note link for additional information.\n",
            "Deprecated in NumPy 1.20; for more details and guidance: https://numpy.org/devdocs/release/1.20.0-notes.html#deprecations\n",
            " 10%|█         | 18/180 [00:03<00:27,  5.80it/s]/usr/local/lib/python3.7/dist-packages/ipykernel_launcher.py:28: DeprecationWarning: `np.int` is a deprecated alias for the builtin `int`. To silence this warning, use `int` by itself. Doing this will not modify any behavior and is safe. When replacing `np.int`, you may wish to use e.g. `np.int64` or `np.int32` to specify the precision. If you wish to review your current use, check the release note link for additional information.\n",
            "Deprecated in NumPy 1.20; for more details and guidance: https://numpy.org/devdocs/release/1.20.0-notes.html#deprecations\n",
            " 11%|█         | 19/180 [00:04<00:27,  5.85it/s]/usr/local/lib/python3.7/dist-packages/ipykernel_launcher.py:28: DeprecationWarning: `np.int` is a deprecated alias for the builtin `int`. To silence this warning, use `int` by itself. Doing this will not modify any behavior and is safe. When replacing `np.int`, you may wish to use e.g. `np.int64` or `np.int32` to specify the precision. If you wish to review your current use, check the release note link for additional information.\n",
            "Deprecated in NumPy 1.20; for more details and guidance: https://numpy.org/devdocs/release/1.20.0-notes.html#deprecations\n",
            " 11%|█         | 20/180 [00:04<00:27,  5.82it/s]/usr/local/lib/python3.7/dist-packages/ipykernel_launcher.py:28: DeprecationWarning: `np.int` is a deprecated alias for the builtin `int`. To silence this warning, use `int` by itself. Doing this will not modify any behavior and is safe. When replacing `np.int`, you may wish to use e.g. `np.int64` or `np.int32` to specify the precision. If you wish to review your current use, check the release note link for additional information.\n",
            "Deprecated in NumPy 1.20; for more details and guidance: https://numpy.org/devdocs/release/1.20.0-notes.html#deprecations\n",
            " 12%|█▏        | 21/180 [00:04<00:27,  5.86it/s]/usr/local/lib/python3.7/dist-packages/ipykernel_launcher.py:28: DeprecationWarning: `np.int` is a deprecated alias for the builtin `int`. To silence this warning, use `int` by itself. Doing this will not modify any behavior and is safe. When replacing `np.int`, you may wish to use e.g. `np.int64` or `np.int32` to specify the precision. If you wish to review your current use, check the release note link for additional information.\n",
            "Deprecated in NumPy 1.20; for more details and guidance: https://numpy.org/devdocs/release/1.20.0-notes.html#deprecations\n",
            " 12%|█▏        | 22/180 [00:04<00:26,  5.86it/s]/usr/local/lib/python3.7/dist-packages/ipykernel_launcher.py:28: DeprecationWarning: `np.int` is a deprecated alias for the builtin `int`. To silence this warning, use `int` by itself. Doing this will not modify any behavior and is safe. When replacing `np.int`, you may wish to use e.g. `np.int64` or `np.int32` to specify the precision. If you wish to review your current use, check the release note link for additional information.\n",
            "Deprecated in NumPy 1.20; for more details and guidance: https://numpy.org/devdocs/release/1.20.0-notes.html#deprecations\n",
            " 13%|█▎        | 23/180 [00:04<00:27,  5.78it/s]/usr/local/lib/python3.7/dist-packages/ipykernel_launcher.py:28: DeprecationWarning: `np.int` is a deprecated alias for the builtin `int`. To silence this warning, use `int` by itself. Doing this will not modify any behavior and is safe. When replacing `np.int`, you may wish to use e.g. `np.int64` or `np.int32` to specify the precision. If you wish to review your current use, check the release note link for additional information.\n",
            "Deprecated in NumPy 1.20; for more details and guidance: https://numpy.org/devdocs/release/1.20.0-notes.html#deprecations\n",
            " 13%|█▎        | 24/180 [00:04<00:27,  5.75it/s]/usr/local/lib/python3.7/dist-packages/ipykernel_launcher.py:28: DeprecationWarning: `np.int` is a deprecated alias for the builtin `int`. To silence this warning, use `int` by itself. Doing this will not modify any behavior and is safe. When replacing `np.int`, you may wish to use e.g. `np.int64` or `np.int32` to specify the precision. If you wish to review your current use, check the release note link for additional information.\n",
            "Deprecated in NumPy 1.20; for more details and guidance: https://numpy.org/devdocs/release/1.20.0-notes.html#deprecations\n",
            " 14%|█▍        | 25/180 [00:05<00:26,  5.80it/s]/usr/local/lib/python3.7/dist-packages/ipykernel_launcher.py:28: DeprecationWarning: `np.int` is a deprecated alias for the builtin `int`. To silence this warning, use `int` by itself. Doing this will not modify any behavior and is safe. When replacing `np.int`, you may wish to use e.g. `np.int64` or `np.int32` to specify the precision. If you wish to review your current use, check the release note link for additional information.\n",
            "Deprecated in NumPy 1.20; for more details and guidance: https://numpy.org/devdocs/release/1.20.0-notes.html#deprecations\n",
            " 14%|█▍        | 26/180 [00:05<00:26,  5.81it/s]/usr/local/lib/python3.7/dist-packages/ipykernel_launcher.py:28: DeprecationWarning: `np.int` is a deprecated alias for the builtin `int`. To silence this warning, use `int` by itself. Doing this will not modify any behavior and is safe. When replacing `np.int`, you may wish to use e.g. `np.int64` or `np.int32` to specify the precision. If you wish to review your current use, check the release note link for additional information.\n",
            "Deprecated in NumPy 1.20; for more details and guidance: https://numpy.org/devdocs/release/1.20.0-notes.html#deprecations\n",
            " 15%|█▌        | 27/180 [00:05<00:26,  5.85it/s]/usr/local/lib/python3.7/dist-packages/ipykernel_launcher.py:28: DeprecationWarning: `np.int` is a deprecated alias for the builtin `int`. To silence this warning, use `int` by itself. Doing this will not modify any behavior and is safe. When replacing `np.int`, you may wish to use e.g. `np.int64` or `np.int32` to specify the precision. If you wish to review your current use, check the release note link for additional information.\n",
            "Deprecated in NumPy 1.20; for more details and guidance: https://numpy.org/devdocs/release/1.20.0-notes.html#deprecations\n",
            " 16%|█▌        | 28/180 [00:05<00:26,  5.85it/s]/usr/local/lib/python3.7/dist-packages/ipykernel_launcher.py:28: DeprecationWarning: `np.int` is a deprecated alias for the builtin `int`. To silence this warning, use `int` by itself. Doing this will not modify any behavior and is safe. When replacing `np.int`, you may wish to use e.g. `np.int64` or `np.int32` to specify the precision. If you wish to review your current use, check the release note link for additional information.\n",
            "Deprecated in NumPy 1.20; for more details and guidance: https://numpy.org/devdocs/release/1.20.0-notes.html#deprecations\n",
            " 16%|█▌        | 29/180 [00:05<00:25,  5.84it/s]/usr/local/lib/python3.7/dist-packages/ipykernel_launcher.py:28: DeprecationWarning: `np.int` is a deprecated alias for the builtin `int`. To silence this warning, use `int` by itself. Doing this will not modify any behavior and is safe. When replacing `np.int`, you may wish to use e.g. `np.int64` or `np.int32` to specify the precision. If you wish to review your current use, check the release note link for additional information.\n",
            "Deprecated in NumPy 1.20; for more details and guidance: https://numpy.org/devdocs/release/1.20.0-notes.html#deprecations\n",
            " 17%|█▋        | 30/180 [00:05<00:25,  5.86it/s]/usr/local/lib/python3.7/dist-packages/ipykernel_launcher.py:28: DeprecationWarning: `np.int` is a deprecated alias for the builtin `int`. To silence this warning, use `int` by itself. Doing this will not modify any behavior and is safe. When replacing `np.int`, you may wish to use e.g. `np.int64` or `np.int32` to specify the precision. If you wish to review your current use, check the release note link for additional information.\n",
            "Deprecated in NumPy 1.20; for more details and guidance: https://numpy.org/devdocs/release/1.20.0-notes.html#deprecations\n",
            " 17%|█▋        | 31/180 [00:06<00:25,  5.88it/s]/usr/local/lib/python3.7/dist-packages/ipykernel_launcher.py:28: DeprecationWarning: `np.int` is a deprecated alias for the builtin `int`. To silence this warning, use `int` by itself. Doing this will not modify any behavior and is safe. When replacing `np.int`, you may wish to use e.g. `np.int64` or `np.int32` to specify the precision. If you wish to review your current use, check the release note link for additional information.\n",
            "Deprecated in NumPy 1.20; for more details and guidance: https://numpy.org/devdocs/release/1.20.0-notes.html#deprecations\n",
            " 18%|█▊        | 32/180 [00:06<00:25,  5.77it/s]/usr/local/lib/python3.7/dist-packages/ipykernel_launcher.py:28: DeprecationWarning: `np.int` is a deprecated alias for the builtin `int`. To silence this warning, use `int` by itself. Doing this will not modify any behavior and is safe. When replacing `np.int`, you may wish to use e.g. `np.int64` or `np.int32` to specify the precision. If you wish to review your current use, check the release note link for additional information.\n",
            "Deprecated in NumPy 1.20; for more details and guidance: https://numpy.org/devdocs/release/1.20.0-notes.html#deprecations\n",
            " 18%|█▊        | 33/180 [00:06<00:25,  5.79it/s]/usr/local/lib/python3.7/dist-packages/ipykernel_launcher.py:28: DeprecationWarning: `np.int` is a deprecated alias for the builtin `int`. To silence this warning, use `int` by itself. Doing this will not modify any behavior and is safe. When replacing `np.int`, you may wish to use e.g. `np.int64` or `np.int32` to specify the precision. If you wish to review your current use, check the release note link for additional information.\n",
            "Deprecated in NumPy 1.20; for more details and guidance: https://numpy.org/devdocs/release/1.20.0-notes.html#deprecations\n",
            " 19%|█▉        | 34/180 [00:06<00:25,  5.83it/s]/usr/local/lib/python3.7/dist-packages/ipykernel_launcher.py:28: DeprecationWarning: `np.int` is a deprecated alias for the builtin `int`. To silence this warning, use `int` by itself. Doing this will not modify any behavior and is safe. When replacing `np.int`, you may wish to use e.g. `np.int64` or `np.int32` to specify the precision. If you wish to review your current use, check the release note link for additional information.\n",
            "Deprecated in NumPy 1.20; for more details and guidance: https://numpy.org/devdocs/release/1.20.0-notes.html#deprecations\n",
            " 19%|█▉        | 35/180 [00:06<00:24,  5.83it/s]/usr/local/lib/python3.7/dist-packages/ipykernel_launcher.py:28: DeprecationWarning: `np.int` is a deprecated alias for the builtin `int`. To silence this warning, use `int` by itself. Doing this will not modify any behavior and is safe. When replacing `np.int`, you may wish to use e.g. `np.int64` or `np.int32` to specify the precision. If you wish to review your current use, check the release note link for additional information.\n",
            "Deprecated in NumPy 1.20; for more details and guidance: https://numpy.org/devdocs/release/1.20.0-notes.html#deprecations\n",
            " 20%|██        | 36/180 [00:06<00:24,  5.78it/s]/usr/local/lib/python3.7/dist-packages/ipykernel_launcher.py:28: DeprecationWarning: `np.int` is a deprecated alias for the builtin `int`. To silence this warning, use `int` by itself. Doing this will not modify any behavior and is safe. When replacing `np.int`, you may wish to use e.g. `np.int64` or `np.int32` to specify the precision. If you wish to review your current use, check the release note link for additional information.\n",
            "Deprecated in NumPy 1.20; for more details and guidance: https://numpy.org/devdocs/release/1.20.0-notes.html#deprecations\n",
            " 21%|██        | 37/180 [00:07<00:24,  5.84it/s]/usr/local/lib/python3.7/dist-packages/ipykernel_launcher.py:28: DeprecationWarning: `np.int` is a deprecated alias for the builtin `int`. To silence this warning, use `int` by itself. Doing this will not modify any behavior and is safe. When replacing `np.int`, you may wish to use e.g. `np.int64` or `np.int32` to specify the precision. If you wish to review your current use, check the release note link for additional information.\n",
            "Deprecated in NumPy 1.20; for more details and guidance: https://numpy.org/devdocs/release/1.20.0-notes.html#deprecations\n",
            " 21%|██        | 38/180 [00:07<00:24,  5.77it/s]/usr/local/lib/python3.7/dist-packages/ipykernel_launcher.py:28: DeprecationWarning: `np.int` is a deprecated alias for the builtin `int`. To silence this warning, use `int` by itself. Doing this will not modify any behavior and is safe. When replacing `np.int`, you may wish to use e.g. `np.int64` or `np.int32` to specify the precision. If you wish to review your current use, check the release note link for additional information.\n",
            "Deprecated in NumPy 1.20; for more details and guidance: https://numpy.org/devdocs/release/1.20.0-notes.html#deprecations\n",
            " 22%|██▏       | 39/180 [00:07<00:24,  5.78it/s]/usr/local/lib/python3.7/dist-packages/ipykernel_launcher.py:28: DeprecationWarning: `np.int` is a deprecated alias for the builtin `int`. To silence this warning, use `int` by itself. Doing this will not modify any behavior and is safe. When replacing `np.int`, you may wish to use e.g. `np.int64` or `np.int32` to specify the precision. If you wish to review your current use, check the release note link for additional information.\n",
            "Deprecated in NumPy 1.20; for more details and guidance: https://numpy.org/devdocs/release/1.20.0-notes.html#deprecations\n",
            " 22%|██▏       | 40/180 [00:07<00:24,  5.73it/s]/usr/local/lib/python3.7/dist-packages/ipykernel_launcher.py:28: DeprecationWarning: `np.int` is a deprecated alias for the builtin `int`. To silence this warning, use `int` by itself. Doing this will not modify any behavior and is safe. When replacing `np.int`, you may wish to use e.g. `np.int64` or `np.int32` to specify the precision. If you wish to review your current use, check the release note link for additional information.\n",
            "Deprecated in NumPy 1.20; for more details and guidance: https://numpy.org/devdocs/release/1.20.0-notes.html#deprecations\n",
            " 23%|██▎       | 41/180 [00:07<00:24,  5.65it/s]/usr/local/lib/python3.7/dist-packages/ipykernel_launcher.py:28: DeprecationWarning: `np.int` is a deprecated alias for the builtin `int`. To silence this warning, use `int` by itself. Doing this will not modify any behavior and is safe. When replacing `np.int`, you may wish to use e.g. `np.int64` or `np.int32` to specify the precision. If you wish to review your current use, check the release note link for additional information.\n",
            "Deprecated in NumPy 1.20; for more details and guidance: https://numpy.org/devdocs/release/1.20.0-notes.html#deprecations\n",
            " 23%|██▎       | 42/180 [00:08<00:24,  5.69it/s]/usr/local/lib/python3.7/dist-packages/ipykernel_launcher.py:28: DeprecationWarning: `np.int` is a deprecated alias for the builtin `int`. To silence this warning, use `int` by itself. Doing this will not modify any behavior and is safe. When replacing `np.int`, you may wish to use e.g. `np.int64` or `np.int32` to specify the precision. If you wish to review your current use, check the release note link for additional information.\n",
            "Deprecated in NumPy 1.20; for more details and guidance: https://numpy.org/devdocs/release/1.20.0-notes.html#deprecations\n",
            " 24%|██▍       | 43/180 [00:08<00:23,  5.76it/s]/usr/local/lib/python3.7/dist-packages/ipykernel_launcher.py:28: DeprecationWarning: `np.int` is a deprecated alias for the builtin `int`. To silence this warning, use `int` by itself. Doing this will not modify any behavior and is safe. When replacing `np.int`, you may wish to use e.g. `np.int64` or `np.int32` to specify the precision. If you wish to review your current use, check the release note link for additional information.\n",
            "Deprecated in NumPy 1.20; for more details and guidance: https://numpy.org/devdocs/release/1.20.0-notes.html#deprecations\n",
            " 24%|██▍       | 44/180 [00:08<00:23,  5.78it/s]/usr/local/lib/python3.7/dist-packages/ipykernel_launcher.py:28: DeprecationWarning: `np.int` is a deprecated alias for the builtin `int`. To silence this warning, use `int` by itself. Doing this will not modify any behavior and is safe. When replacing `np.int`, you may wish to use e.g. `np.int64` or `np.int32` to specify the precision. If you wish to review your current use, check the release note link for additional information.\n",
            "Deprecated in NumPy 1.20; for more details and guidance: https://numpy.org/devdocs/release/1.20.0-notes.html#deprecations\n",
            " 25%|██▌       | 45/180 [00:08<00:23,  5.80it/s]/usr/local/lib/python3.7/dist-packages/ipykernel_launcher.py:28: DeprecationWarning: `np.int` is a deprecated alias for the builtin `int`. To silence this warning, use `int` by itself. Doing this will not modify any behavior and is safe. When replacing `np.int`, you may wish to use e.g. `np.int64` or `np.int32` to specify the precision. If you wish to review your current use, check the release note link for additional information.\n",
            "Deprecated in NumPy 1.20; for more details and guidance: https://numpy.org/devdocs/release/1.20.0-notes.html#deprecations\n",
            " 26%|██▌       | 46/180 [00:08<00:22,  5.86it/s]/usr/local/lib/python3.7/dist-packages/ipykernel_launcher.py:28: DeprecationWarning: `np.int` is a deprecated alias for the builtin `int`. To silence this warning, use `int` by itself. Doing this will not modify any behavior and is safe. When replacing `np.int`, you may wish to use e.g. `np.int64` or `np.int32` to specify the precision. If you wish to review your current use, check the release note link for additional information.\n",
            "Deprecated in NumPy 1.20; for more details and guidance: https://numpy.org/devdocs/release/1.20.0-notes.html#deprecations\n",
            " 26%|██▌       | 47/180 [00:08<00:23,  5.78it/s]/usr/local/lib/python3.7/dist-packages/ipykernel_launcher.py:28: DeprecationWarning: `np.int` is a deprecated alias for the builtin `int`. To silence this warning, use `int` by itself. Doing this will not modify any behavior and is safe. When replacing `np.int`, you may wish to use e.g. `np.int64` or `np.int32` to specify the precision. If you wish to review your current use, check the release note link for additional information.\n",
            "Deprecated in NumPy 1.20; for more details and guidance: https://numpy.org/devdocs/release/1.20.0-notes.html#deprecations\n",
            " 27%|██▋       | 48/180 [00:09<00:23,  5.74it/s]/usr/local/lib/python3.7/dist-packages/ipykernel_launcher.py:28: DeprecationWarning: `np.int` is a deprecated alias for the builtin `int`. To silence this warning, use `int` by itself. Doing this will not modify any behavior and is safe. When replacing `np.int`, you may wish to use e.g. `np.int64` or `np.int32` to specify the precision. If you wish to review your current use, check the release note link for additional information.\n",
            "Deprecated in NumPy 1.20; for more details and guidance: https://numpy.org/devdocs/release/1.20.0-notes.html#deprecations\n",
            " 27%|██▋       | 49/180 [00:09<00:22,  5.72it/s]/usr/local/lib/python3.7/dist-packages/ipykernel_launcher.py:28: DeprecationWarning: `np.int` is a deprecated alias for the builtin `int`. To silence this warning, use `int` by itself. Doing this will not modify any behavior and is safe. When replacing `np.int`, you may wish to use e.g. `np.int64` or `np.int32` to specify the precision. If you wish to review your current use, check the release note link for additional information.\n",
            "Deprecated in NumPy 1.20; for more details and guidance: https://numpy.org/devdocs/release/1.20.0-notes.html#deprecations\n",
            " 28%|██▊       | 50/180 [00:09<00:23,  5.63it/s]/usr/local/lib/python3.7/dist-packages/ipykernel_launcher.py:28: DeprecationWarning: `np.int` is a deprecated alias for the builtin `int`. To silence this warning, use `int` by itself. Doing this will not modify any behavior and is safe. When replacing `np.int`, you may wish to use e.g. `np.int64` or `np.int32` to specify the precision. If you wish to review your current use, check the release note link for additional information.\n",
            "Deprecated in NumPy 1.20; for more details and guidance: https://numpy.org/devdocs/release/1.20.0-notes.html#deprecations\n",
            " 28%|██▊       | 51/180 [00:09<00:22,  5.69it/s]/usr/local/lib/python3.7/dist-packages/ipykernel_launcher.py:28: DeprecationWarning: `np.int` is a deprecated alias for the builtin `int`. To silence this warning, use `int` by itself. Doing this will not modify any behavior and is safe. When replacing `np.int`, you may wish to use e.g. `np.int64` or `np.int32` to specify the precision. If you wish to review your current use, check the release note link for additional information.\n",
            "Deprecated in NumPy 1.20; for more details and guidance: https://numpy.org/devdocs/release/1.20.0-notes.html#deprecations\n",
            " 29%|██▉       | 52/180 [00:09<00:22,  5.80it/s]/usr/local/lib/python3.7/dist-packages/ipykernel_launcher.py:28: DeprecationWarning: `np.int` is a deprecated alias for the builtin `int`. To silence this warning, use `int` by itself. Doing this will not modify any behavior and is safe. When replacing `np.int`, you may wish to use e.g. `np.int64` or `np.int32` to specify the precision. If you wish to review your current use, check the release note link for additional information.\n",
            "Deprecated in NumPy 1.20; for more details and guidance: https://numpy.org/devdocs/release/1.20.0-notes.html#deprecations\n",
            " 29%|██▉       | 53/180 [00:09<00:21,  5.80it/s]/usr/local/lib/python3.7/dist-packages/ipykernel_launcher.py:28: DeprecationWarning: `np.int` is a deprecated alias for the builtin `int`. To silence this warning, use `int` by itself. Doing this will not modify any behavior and is safe. When replacing `np.int`, you may wish to use e.g. `np.int64` or `np.int32` to specify the precision. If you wish to review your current use, check the release note link for additional information.\n",
            "Deprecated in NumPy 1.20; for more details and guidance: https://numpy.org/devdocs/release/1.20.0-notes.html#deprecations\n",
            " 30%|███       | 54/180 [00:10<00:21,  5.82it/s]/usr/local/lib/python3.7/dist-packages/ipykernel_launcher.py:28: DeprecationWarning: `np.int` is a deprecated alias for the builtin `int`. To silence this warning, use `int` by itself. Doing this will not modify any behavior and is safe. When replacing `np.int`, you may wish to use e.g. `np.int64` or `np.int32` to specify the precision. If you wish to review your current use, check the release note link for additional information.\n",
            "Deprecated in NumPy 1.20; for more details and guidance: https://numpy.org/devdocs/release/1.20.0-notes.html#deprecations\n",
            " 31%|███       | 55/180 [00:10<00:21,  5.84it/s]/usr/local/lib/python3.7/dist-packages/ipykernel_launcher.py:28: DeprecationWarning: `np.int` is a deprecated alias for the builtin `int`. To silence this warning, use `int` by itself. Doing this will not modify any behavior and is safe. When replacing `np.int`, you may wish to use e.g. `np.int64` or `np.int32` to specify the precision. If you wish to review your current use, check the release note link for additional information.\n",
            "Deprecated in NumPy 1.20; for more details and guidance: https://numpy.org/devdocs/release/1.20.0-notes.html#deprecations\n",
            " 31%|███       | 56/180 [00:10<00:21,  5.81it/s]/usr/local/lib/python3.7/dist-packages/ipykernel_launcher.py:28: DeprecationWarning: `np.int` is a deprecated alias for the builtin `int`. To silence this warning, use `int` by itself. Doing this will not modify any behavior and is safe. When replacing `np.int`, you may wish to use e.g. `np.int64` or `np.int32` to specify the precision. If you wish to review your current use, check the release note link for additional information.\n",
            "Deprecated in NumPy 1.20; for more details and guidance: https://numpy.org/devdocs/release/1.20.0-notes.html#deprecations\n",
            " 32%|███▏      | 57/180 [00:10<00:21,  5.83it/s]/usr/local/lib/python3.7/dist-packages/ipykernel_launcher.py:28: DeprecationWarning: `np.int` is a deprecated alias for the builtin `int`. To silence this warning, use `int` by itself. Doing this will not modify any behavior and is safe. When replacing `np.int`, you may wish to use e.g. `np.int64` or `np.int32` to specify the precision. If you wish to review your current use, check the release note link for additional information.\n",
            "Deprecated in NumPy 1.20; for more details and guidance: https://numpy.org/devdocs/release/1.20.0-notes.html#deprecations\n",
            " 32%|███▏      | 58/180 [00:10<00:21,  5.77it/s]/usr/local/lib/python3.7/dist-packages/ipykernel_launcher.py:28: DeprecationWarning: `np.int` is a deprecated alias for the builtin `int`. To silence this warning, use `int` by itself. Doing this will not modify any behavior and is safe. When replacing `np.int`, you may wish to use e.g. `np.int64` or `np.int32` to specify the precision. If you wish to review your current use, check the release note link for additional information.\n",
            "Deprecated in NumPy 1.20; for more details and guidance: https://numpy.org/devdocs/release/1.20.0-notes.html#deprecations\n",
            " 33%|███▎      | 59/180 [00:10<00:21,  5.71it/s]/usr/local/lib/python3.7/dist-packages/ipykernel_launcher.py:28: DeprecationWarning: `np.int` is a deprecated alias for the builtin `int`. To silence this warning, use `int` by itself. Doing this will not modify any behavior and is safe. When replacing `np.int`, you may wish to use e.g. `np.int64` or `np.int32` to specify the precision. If you wish to review your current use, check the release note link for additional information.\n",
            "Deprecated in NumPy 1.20; for more details and guidance: https://numpy.org/devdocs/release/1.20.0-notes.html#deprecations\n",
            " 33%|███▎      | 60/180 [00:11<00:20,  5.72it/s]/usr/local/lib/python3.7/dist-packages/ipykernel_launcher.py:28: DeprecationWarning: `np.int` is a deprecated alias for the builtin `int`. To silence this warning, use `int` by itself. Doing this will not modify any behavior and is safe. When replacing `np.int`, you may wish to use e.g. `np.int64` or `np.int32` to specify the precision. If you wish to review your current use, check the release note link for additional information.\n",
            "Deprecated in NumPy 1.20; for more details and guidance: https://numpy.org/devdocs/release/1.20.0-notes.html#deprecations\n",
            " 34%|███▍      | 61/180 [00:11<00:20,  5.80it/s]/usr/local/lib/python3.7/dist-packages/ipykernel_launcher.py:28: DeprecationWarning: `np.int` is a deprecated alias for the builtin `int`. To silence this warning, use `int` by itself. Doing this will not modify any behavior and is safe. When replacing `np.int`, you may wish to use e.g. `np.int64` or `np.int32` to specify the precision. If you wish to review your current use, check the release note link for additional information.\n",
            "Deprecated in NumPy 1.20; for more details and guidance: https://numpy.org/devdocs/release/1.20.0-notes.html#deprecations\n",
            " 34%|███▍      | 62/180 [00:11<00:20,  5.80it/s]/usr/local/lib/python3.7/dist-packages/ipykernel_launcher.py:28: DeprecationWarning: `np.int` is a deprecated alias for the builtin `int`. To silence this warning, use `int` by itself. Doing this will not modify any behavior and is safe. When replacing `np.int`, you may wish to use e.g. `np.int64` or `np.int32` to specify the precision. If you wish to review your current use, check the release note link for additional information.\n",
            "Deprecated in NumPy 1.20; for more details and guidance: https://numpy.org/devdocs/release/1.20.0-notes.html#deprecations\n",
            " 35%|███▌      | 63/180 [00:11<00:20,  5.80it/s]/usr/local/lib/python3.7/dist-packages/ipykernel_launcher.py:28: DeprecationWarning: `np.int` is a deprecated alias for the builtin `int`. To silence this warning, use `int` by itself. Doing this will not modify any behavior and is safe. When replacing `np.int`, you may wish to use e.g. `np.int64` or `np.int32` to specify the precision. If you wish to review your current use, check the release note link for additional information.\n",
            "Deprecated in NumPy 1.20; for more details and guidance: https://numpy.org/devdocs/release/1.20.0-notes.html#deprecations\n",
            " 36%|███▌      | 64/180 [00:11<00:19,  5.80it/s]/usr/local/lib/python3.7/dist-packages/ipykernel_launcher.py:28: DeprecationWarning: `np.int` is a deprecated alias for the builtin `int`. To silence this warning, use `int` by itself. Doing this will not modify any behavior and is safe. When replacing `np.int`, you may wish to use e.g. `np.int64` or `np.int32` to specify the precision. If you wish to review your current use, check the release note link for additional information.\n",
            "Deprecated in NumPy 1.20; for more details and guidance: https://numpy.org/devdocs/release/1.20.0-notes.html#deprecations\n",
            " 36%|███▌      | 65/180 [00:12<00:19,  5.77it/s]/usr/local/lib/python3.7/dist-packages/ipykernel_launcher.py:28: DeprecationWarning: `np.int` is a deprecated alias for the builtin `int`. To silence this warning, use `int` by itself. Doing this will not modify any behavior and is safe. When replacing `np.int`, you may wish to use e.g. `np.int64` or `np.int32` to specify the precision. If you wish to review your current use, check the release note link for additional information.\n",
            "Deprecated in NumPy 1.20; for more details and guidance: https://numpy.org/devdocs/release/1.20.0-notes.html#deprecations\n",
            " 37%|███▋      | 66/180 [00:12<00:19,  5.82it/s]/usr/local/lib/python3.7/dist-packages/ipykernel_launcher.py:28: DeprecationWarning: `np.int` is a deprecated alias for the builtin `int`. To silence this warning, use `int` by itself. Doing this will not modify any behavior and is safe. When replacing `np.int`, you may wish to use e.g. `np.int64` or `np.int32` to specify the precision. If you wish to review your current use, check the release note link for additional information.\n",
            "Deprecated in NumPy 1.20; for more details and guidance: https://numpy.org/devdocs/release/1.20.0-notes.html#deprecations\n",
            " 37%|███▋      | 67/180 [00:12<00:19,  5.77it/s]/usr/local/lib/python3.7/dist-packages/ipykernel_launcher.py:28: DeprecationWarning: `np.int` is a deprecated alias for the builtin `int`. To silence this warning, use `int` by itself. Doing this will not modify any behavior and is safe. When replacing `np.int`, you may wish to use e.g. `np.int64` or `np.int32` to specify the precision. If you wish to review your current use, check the release note link for additional information.\n",
            "Deprecated in NumPy 1.20; for more details and guidance: https://numpy.org/devdocs/release/1.20.0-notes.html#deprecations\n",
            " 38%|███▊      | 68/180 [00:12<00:19,  5.68it/s]/usr/local/lib/python3.7/dist-packages/ipykernel_launcher.py:28: DeprecationWarning: `np.int` is a deprecated alias for the builtin `int`. To silence this warning, use `int` by itself. Doing this will not modify any behavior and is safe. When replacing `np.int`, you may wish to use e.g. `np.int64` or `np.int32` to specify the precision. If you wish to review your current use, check the release note link for additional information.\n",
            "Deprecated in NumPy 1.20; for more details and guidance: https://numpy.org/devdocs/release/1.20.0-notes.html#deprecations\n",
            " 38%|███▊      | 69/180 [00:12<00:19,  5.72it/s]/usr/local/lib/python3.7/dist-packages/ipykernel_launcher.py:28: DeprecationWarning: `np.int` is a deprecated alias for the builtin `int`. To silence this warning, use `int` by itself. Doing this will not modify any behavior and is safe. When replacing `np.int`, you may wish to use e.g. `np.int64` or `np.int32` to specify the precision. If you wish to review your current use, check the release note link for additional information.\n",
            "Deprecated in NumPy 1.20; for more details and guidance: https://numpy.org/devdocs/release/1.20.0-notes.html#deprecations\n",
            " 39%|███▉      | 70/180 [00:12<00:18,  5.79it/s]/usr/local/lib/python3.7/dist-packages/ipykernel_launcher.py:28: DeprecationWarning: `np.int` is a deprecated alias for the builtin `int`. To silence this warning, use `int` by itself. Doing this will not modify any behavior and is safe. When replacing `np.int`, you may wish to use e.g. `np.int64` or `np.int32` to specify the precision. If you wish to review your current use, check the release note link for additional information.\n",
            "Deprecated in NumPy 1.20; for more details and guidance: https://numpy.org/devdocs/release/1.20.0-notes.html#deprecations\n",
            " 39%|███▉      | 71/180 [00:13<00:18,  5.79it/s]/usr/local/lib/python3.7/dist-packages/ipykernel_launcher.py:28: DeprecationWarning: `np.int` is a deprecated alias for the builtin `int`. To silence this warning, use `int` by itself. Doing this will not modify any behavior and is safe. When replacing `np.int`, you may wish to use e.g. `np.int64` or `np.int32` to specify the precision. If you wish to review your current use, check the release note link for additional information.\n",
            "Deprecated in NumPy 1.20; for more details and guidance: https://numpy.org/devdocs/release/1.20.0-notes.html#deprecations\n",
            " 40%|████      | 72/180 [00:13<00:18,  5.83it/s]/usr/local/lib/python3.7/dist-packages/ipykernel_launcher.py:28: DeprecationWarning: `np.int` is a deprecated alias for the builtin `int`. To silence this warning, use `int` by itself. Doing this will not modify any behavior and is safe. When replacing `np.int`, you may wish to use e.g. `np.int64` or `np.int32` to specify the precision. If you wish to review your current use, check the release note link for additional information.\n",
            "Deprecated in NumPy 1.20; for more details and guidance: https://numpy.org/devdocs/release/1.20.0-notes.html#deprecations\n",
            " 41%|████      | 73/180 [00:13<00:18,  5.80it/s]/usr/local/lib/python3.7/dist-packages/ipykernel_launcher.py:28: DeprecationWarning: `np.int` is a deprecated alias for the builtin `int`. To silence this warning, use `int` by itself. Doing this will not modify any behavior and is safe. When replacing `np.int`, you may wish to use e.g. `np.int64` or `np.int32` to specify the precision. If you wish to review your current use, check the release note link for additional information.\n",
            "Deprecated in NumPy 1.20; for more details and guidance: https://numpy.org/devdocs/release/1.20.0-notes.html#deprecations\n",
            " 41%|████      | 74/180 [00:13<00:18,  5.79it/s]/usr/local/lib/python3.7/dist-packages/ipykernel_launcher.py:28: DeprecationWarning: `np.int` is a deprecated alias for the builtin `int`. To silence this warning, use `int` by itself. Doing this will not modify any behavior and is safe. When replacing `np.int`, you may wish to use e.g. `np.int64` or `np.int32` to specify the precision. If you wish to review your current use, check the release note link for additional information.\n",
            "Deprecated in NumPy 1.20; for more details and guidance: https://numpy.org/devdocs/release/1.20.0-notes.html#deprecations\n",
            " 42%|████▏     | 75/180 [00:13<00:18,  5.83it/s]/usr/local/lib/python3.7/dist-packages/ipykernel_launcher.py:28: DeprecationWarning: `np.int` is a deprecated alias for the builtin `int`. To silence this warning, use `int` by itself. Doing this will not modify any behavior and is safe. When replacing `np.int`, you may wish to use e.g. `np.int64` or `np.int32` to specify the precision. If you wish to review your current use, check the release note link for additional information.\n",
            "Deprecated in NumPy 1.20; for more details and guidance: https://numpy.org/devdocs/release/1.20.0-notes.html#deprecations\n",
            " 42%|████▏     | 76/180 [00:13<00:17,  5.82it/s]/usr/local/lib/python3.7/dist-packages/ipykernel_launcher.py:28: DeprecationWarning: `np.int` is a deprecated alias for the builtin `int`. To silence this warning, use `int` by itself. Doing this will not modify any behavior and is safe. When replacing `np.int`, you may wish to use e.g. `np.int64` or `np.int32` to specify the precision. If you wish to review your current use, check the release note link for additional information.\n",
            "Deprecated in NumPy 1.20; for more details and guidance: https://numpy.org/devdocs/release/1.20.0-notes.html#deprecations\n",
            " 43%|████▎     | 77/180 [00:14<00:17,  5.75it/s]/usr/local/lib/python3.7/dist-packages/ipykernel_launcher.py:28: DeprecationWarning: `np.int` is a deprecated alias for the builtin `int`. To silence this warning, use `int` by itself. Doing this will not modify any behavior and is safe. When replacing `np.int`, you may wish to use e.g. `np.int64` or `np.int32` to specify the precision. If you wish to review your current use, check the release note link for additional information.\n",
            "Deprecated in NumPy 1.20; for more details and guidance: https://numpy.org/devdocs/release/1.20.0-notes.html#deprecations\n",
            " 43%|████▎     | 78/180 [00:14<00:17,  5.73it/s]/usr/local/lib/python3.7/dist-packages/ipykernel_launcher.py:28: DeprecationWarning: `np.int` is a deprecated alias for the builtin `int`. To silence this warning, use `int` by itself. Doing this will not modify any behavior and is safe. When replacing `np.int`, you may wish to use e.g. `np.int64` or `np.int32` to specify the precision. If you wish to review your current use, check the release note link for additional information.\n",
            "Deprecated in NumPy 1.20; for more details and guidance: https://numpy.org/devdocs/release/1.20.0-notes.html#deprecations\n",
            " 44%|████▍     | 79/180 [00:14<00:17,  5.80it/s]/usr/local/lib/python3.7/dist-packages/ipykernel_launcher.py:28: DeprecationWarning: `np.int` is a deprecated alias for the builtin `int`. To silence this warning, use `int` by itself. Doing this will not modify any behavior and is safe. When replacing `np.int`, you may wish to use e.g. `np.int64` or `np.int32` to specify the precision. If you wish to review your current use, check the release note link for additional information.\n",
            "Deprecated in NumPy 1.20; for more details and guidance: https://numpy.org/devdocs/release/1.20.0-notes.html#deprecations\n",
            " 44%|████▍     | 80/180 [00:14<00:17,  5.81it/s]/usr/local/lib/python3.7/dist-packages/ipykernel_launcher.py:28: DeprecationWarning: `np.int` is a deprecated alias for the builtin `int`. To silence this warning, use `int` by itself. Doing this will not modify any behavior and is safe. When replacing `np.int`, you may wish to use e.g. `np.int64` or `np.int32` to specify the precision. If you wish to review your current use, check the release note link for additional information.\n",
            "Deprecated in NumPy 1.20; for more details and guidance: https://numpy.org/devdocs/release/1.20.0-notes.html#deprecations\n",
            " 45%|████▌     | 81/180 [00:14<00:16,  5.86it/s]/usr/local/lib/python3.7/dist-packages/ipykernel_launcher.py:28: DeprecationWarning: `np.int` is a deprecated alias for the builtin `int`. To silence this warning, use `int` by itself. Doing this will not modify any behavior and is safe. When replacing `np.int`, you may wish to use e.g. `np.int64` or `np.int32` to specify the precision. If you wish to review your current use, check the release note link for additional information.\n",
            "Deprecated in NumPy 1.20; for more details and guidance: https://numpy.org/devdocs/release/1.20.0-notes.html#deprecations\n",
            " 46%|████▌     | 82/180 [00:14<00:16,  5.89it/s]/usr/local/lib/python3.7/dist-packages/ipykernel_launcher.py:28: DeprecationWarning: `np.int` is a deprecated alias for the builtin `int`. To silence this warning, use `int` by itself. Doing this will not modify any behavior and is safe. When replacing `np.int`, you may wish to use e.g. `np.int64` or `np.int32` to specify the precision. If you wish to review your current use, check the release note link for additional information.\n",
            "Deprecated in NumPy 1.20; for more details and guidance: https://numpy.org/devdocs/release/1.20.0-notes.html#deprecations\n",
            " 46%|████▌     | 83/180 [00:15<00:16,  5.87it/s]/usr/local/lib/python3.7/dist-packages/ipykernel_launcher.py:28: DeprecationWarning: `np.int` is a deprecated alias for the builtin `int`. To silence this warning, use `int` by itself. Doing this will not modify any behavior and is safe. When replacing `np.int`, you may wish to use e.g. `np.int64` or `np.int32` to specify the precision. If you wish to review your current use, check the release note link for additional information.\n",
            "Deprecated in NumPy 1.20; for more details and guidance: https://numpy.org/devdocs/release/1.20.0-notes.html#deprecations\n",
            " 47%|████▋     | 84/180 [00:15<00:16,  5.90it/s]/usr/local/lib/python3.7/dist-packages/ipykernel_launcher.py:28: DeprecationWarning: `np.int` is a deprecated alias for the builtin `int`. To silence this warning, use `int` by itself. Doing this will not modify any behavior and is safe. When replacing `np.int`, you may wish to use e.g. `np.int64` or `np.int32` to specify the precision. If you wish to review your current use, check the release note link for additional information.\n",
            "Deprecated in NumPy 1.20; for more details and guidance: https://numpy.org/devdocs/release/1.20.0-notes.html#deprecations\n",
            " 47%|████▋     | 85/180 [00:15<00:16,  5.86it/s]/usr/local/lib/python3.7/dist-packages/ipykernel_launcher.py:28: DeprecationWarning: `np.int` is a deprecated alias for the builtin `int`. To silence this warning, use `int` by itself. Doing this will not modify any behavior and is safe. When replacing `np.int`, you may wish to use e.g. `np.int64` or `np.int32` to specify the precision. If you wish to review your current use, check the release note link for additional information.\n",
            "Deprecated in NumPy 1.20; for more details and guidance: https://numpy.org/devdocs/release/1.20.0-notes.html#deprecations\n",
            " 48%|████▊     | 86/180 [00:15<00:16,  5.78it/s]/usr/local/lib/python3.7/dist-packages/ipykernel_launcher.py:28: DeprecationWarning: `np.int` is a deprecated alias for the builtin `int`. To silence this warning, use `int` by itself. Doing this will not modify any behavior and is safe. When replacing `np.int`, you may wish to use e.g. `np.int64` or `np.int32` to specify the precision. If you wish to review your current use, check the release note link for additional information.\n",
            "Deprecated in NumPy 1.20; for more details and guidance: https://numpy.org/devdocs/release/1.20.0-notes.html#deprecations\n",
            " 48%|████▊     | 87/180 [00:15<00:16,  5.73it/s]/usr/local/lib/python3.7/dist-packages/ipykernel_launcher.py:28: DeprecationWarning: `np.int` is a deprecated alias for the builtin `int`. To silence this warning, use `int` by itself. Doing this will not modify any behavior and is safe. When replacing `np.int`, you may wish to use e.g. `np.int64` or `np.int32` to specify the precision. If you wish to review your current use, check the release note link for additional information.\n",
            "Deprecated in NumPy 1.20; for more details and guidance: https://numpy.org/devdocs/release/1.20.0-notes.html#deprecations\n",
            " 49%|████▉     | 88/180 [00:15<00:16,  5.74it/s]/usr/local/lib/python3.7/dist-packages/ipykernel_launcher.py:28: DeprecationWarning: `np.int` is a deprecated alias for the builtin `int`. To silence this warning, use `int` by itself. Doing this will not modify any behavior and is safe. When replacing `np.int`, you may wish to use e.g. `np.int64` or `np.int32` to specify the precision. If you wish to review your current use, check the release note link for additional information.\n",
            "Deprecated in NumPy 1.20; for more details and guidance: https://numpy.org/devdocs/release/1.20.0-notes.html#deprecations\n",
            " 49%|████▉     | 89/180 [00:16<00:15,  5.75it/s]/usr/local/lib/python3.7/dist-packages/ipykernel_launcher.py:28: DeprecationWarning: `np.int` is a deprecated alias for the builtin `int`. To silence this warning, use `int` by itself. Doing this will not modify any behavior and is safe. When replacing `np.int`, you may wish to use e.g. `np.int64` or `np.int32` to specify the precision. If you wish to review your current use, check the release note link for additional information.\n",
            "Deprecated in NumPy 1.20; for more details and guidance: https://numpy.org/devdocs/release/1.20.0-notes.html#deprecations\n",
            " 50%|█████     | 90/180 [00:16<00:15,  5.79it/s]/usr/local/lib/python3.7/dist-packages/ipykernel_launcher.py:28: DeprecationWarning: `np.int` is a deprecated alias for the builtin `int`. To silence this warning, use `int` by itself. Doing this will not modify any behavior and is safe. When replacing `np.int`, you may wish to use e.g. `np.int64` or `np.int32` to specify the precision. If you wish to review your current use, check the release note link for additional information.\n",
            "Deprecated in NumPy 1.20; for more details and guidance: https://numpy.org/devdocs/release/1.20.0-notes.html#deprecations\n",
            " 51%|█████     | 91/180 [00:16<00:15,  5.80it/s]/usr/local/lib/python3.7/dist-packages/ipykernel_launcher.py:28: DeprecationWarning: `np.int` is a deprecated alias for the builtin `int`. To silence this warning, use `int` by itself. Doing this will not modify any behavior and is safe. When replacing `np.int`, you may wish to use e.g. `np.int64` or `np.int32` to specify the precision. If you wish to review your current use, check the release note link for additional information.\n",
            "Deprecated in NumPy 1.20; for more details and guidance: https://numpy.org/devdocs/release/1.20.0-notes.html#deprecations\n",
            " 51%|█████     | 92/180 [00:16<00:15,  5.79it/s]/usr/local/lib/python3.7/dist-packages/ipykernel_launcher.py:28: DeprecationWarning: `np.int` is a deprecated alias for the builtin `int`. To silence this warning, use `int` by itself. Doing this will not modify any behavior and is safe. When replacing `np.int`, you may wish to use e.g. `np.int64` or `np.int32` to specify the precision. If you wish to review your current use, check the release note link for additional information.\n",
            "Deprecated in NumPy 1.20; for more details and guidance: https://numpy.org/devdocs/release/1.20.0-notes.html#deprecations\n",
            " 52%|█████▏    | 93/180 [00:16<00:14,  5.82it/s]/usr/local/lib/python3.7/dist-packages/ipykernel_launcher.py:28: DeprecationWarning: `np.int` is a deprecated alias for the builtin `int`. To silence this warning, use `int` by itself. Doing this will not modify any behavior and is safe. When replacing `np.int`, you may wish to use e.g. `np.int64` or `np.int32` to specify the precision. If you wish to review your current use, check the release note link for additional information.\n",
            "Deprecated in NumPy 1.20; for more details and guidance: https://numpy.org/devdocs/release/1.20.0-notes.html#deprecations\n",
            " 52%|█████▏    | 94/180 [00:17<00:14,  5.78it/s]/usr/local/lib/python3.7/dist-packages/ipykernel_launcher.py:28: DeprecationWarning: `np.int` is a deprecated alias for the builtin `int`. To silence this warning, use `int` by itself. Doing this will not modify any behavior and is safe. When replacing `np.int`, you may wish to use e.g. `np.int64` or `np.int32` to specify the precision. If you wish to review your current use, check the release note link for additional information.\n",
            "Deprecated in NumPy 1.20; for more details and guidance: https://numpy.org/devdocs/release/1.20.0-notes.html#deprecations\n",
            " 53%|█████▎    | 95/180 [00:17<00:14,  5.71it/s]/usr/local/lib/python3.7/dist-packages/ipykernel_launcher.py:28: DeprecationWarning: `np.int` is a deprecated alias for the builtin `int`. To silence this warning, use `int` by itself. Doing this will not modify any behavior and is safe. When replacing `np.int`, you may wish to use e.g. `np.int64` or `np.int32` to specify the precision. If you wish to review your current use, check the release note link for additional information.\n",
            "Deprecated in NumPy 1.20; for more details and guidance: https://numpy.org/devdocs/release/1.20.0-notes.html#deprecations\n",
            " 53%|█████▎    | 96/180 [00:17<00:14,  5.74it/s]/usr/local/lib/python3.7/dist-packages/ipykernel_launcher.py:28: DeprecationWarning: `np.int` is a deprecated alias for the builtin `int`. To silence this warning, use `int` by itself. Doing this will not modify any behavior and is safe. When replacing `np.int`, you may wish to use e.g. `np.int64` or `np.int32` to specify the precision. If you wish to review your current use, check the release note link for additional information.\n",
            "Deprecated in NumPy 1.20; for more details and guidance: https://numpy.org/devdocs/release/1.20.0-notes.html#deprecations\n",
            " 54%|█████▍    | 97/180 [00:17<00:14,  5.79it/s]/usr/local/lib/python3.7/dist-packages/ipykernel_launcher.py:28: DeprecationWarning: `np.int` is a deprecated alias for the builtin `int`. To silence this warning, use `int` by itself. Doing this will not modify any behavior and is safe. When replacing `np.int`, you may wish to use e.g. `np.int64` or `np.int32` to specify the precision. If you wish to review your current use, check the release note link for additional information.\n",
            "Deprecated in NumPy 1.20; for more details and guidance: https://numpy.org/devdocs/release/1.20.0-notes.html#deprecations\n",
            " 54%|█████▍    | 98/180 [00:17<00:14,  5.76it/s]/usr/local/lib/python3.7/dist-packages/ipykernel_launcher.py:28: DeprecationWarning: `np.int` is a deprecated alias for the builtin `int`. To silence this warning, use `int` by itself. Doing this will not modify any behavior and is safe. When replacing `np.int`, you may wish to use e.g. `np.int64` or `np.int32` to specify the precision. If you wish to review your current use, check the release note link for additional information.\n",
            "Deprecated in NumPy 1.20; for more details and guidance: https://numpy.org/devdocs/release/1.20.0-notes.html#deprecations\n",
            " 55%|█████▌    | 99/180 [00:17<00:13,  5.82it/s]/usr/local/lib/python3.7/dist-packages/ipykernel_launcher.py:28: DeprecationWarning: `np.int` is a deprecated alias for the builtin `int`. To silence this warning, use `int` by itself. Doing this will not modify any behavior and is safe. When replacing `np.int`, you may wish to use e.g. `np.int64` or `np.int32` to specify the precision. If you wish to review your current use, check the release note link for additional information.\n",
            "Deprecated in NumPy 1.20; for more details and guidance: https://numpy.org/devdocs/release/1.20.0-notes.html#deprecations\n",
            " 56%|█████▌    | 100/180 [00:18<00:13,  5.82it/s]/usr/local/lib/python3.7/dist-packages/ipykernel_launcher.py:28: DeprecationWarning: `np.int` is a deprecated alias for the builtin `int`. To silence this warning, use `int` by itself. Doing this will not modify any behavior and is safe. When replacing `np.int`, you may wish to use e.g. `np.int64` or `np.int32` to specify the precision. If you wish to review your current use, check the release note link for additional information.\n",
            "Deprecated in NumPy 1.20; for more details and guidance: https://numpy.org/devdocs/release/1.20.0-notes.html#deprecations\n",
            " 56%|█████▌    | 101/180 [00:18<00:13,  5.80it/s]/usr/local/lib/python3.7/dist-packages/ipykernel_launcher.py:28: DeprecationWarning: `np.int` is a deprecated alias for the builtin `int`. To silence this warning, use `int` by itself. Doing this will not modify any behavior and is safe. When replacing `np.int`, you may wish to use e.g. `np.int64` or `np.int32` to specify the precision. If you wish to review your current use, check the release note link for additional information.\n",
            "Deprecated in NumPy 1.20; for more details and guidance: https://numpy.org/devdocs/release/1.20.0-notes.html#deprecations\n",
            " 57%|█████▋    | 102/180 [00:18<00:13,  5.85it/s]/usr/local/lib/python3.7/dist-packages/ipykernel_launcher.py:28: DeprecationWarning: `np.int` is a deprecated alias for the builtin `int`. To silence this warning, use `int` by itself. Doing this will not modify any behavior and is safe. When replacing `np.int`, you may wish to use e.g. `np.int64` or `np.int32` to specify the precision. If you wish to review your current use, check the release note link for additional information.\n",
            "Deprecated in NumPy 1.20; for more details and guidance: https://numpy.org/devdocs/release/1.20.0-notes.html#deprecations\n",
            " 57%|█████▋    | 103/180 [00:18<00:13,  5.85it/s]/usr/local/lib/python3.7/dist-packages/ipykernel_launcher.py:28: DeprecationWarning: `np.int` is a deprecated alias for the builtin `int`. To silence this warning, use `int` by itself. Doing this will not modify any behavior and is safe. When replacing `np.int`, you may wish to use e.g. `np.int64` or `np.int32` to specify the precision. If you wish to review your current use, check the release note link for additional information.\n",
            "Deprecated in NumPy 1.20; for more details and guidance: https://numpy.org/devdocs/release/1.20.0-notes.html#deprecations\n",
            " 58%|█████▊    | 104/180 [00:18<00:13,  5.76it/s]/usr/local/lib/python3.7/dist-packages/ipykernel_launcher.py:28: DeprecationWarning: `np.int` is a deprecated alias for the builtin `int`. To silence this warning, use `int` by itself. Doing this will not modify any behavior and is safe. When replacing `np.int`, you may wish to use e.g. `np.int64` or `np.int32` to specify the precision. If you wish to review your current use, check the release note link for additional information.\n",
            "Deprecated in NumPy 1.20; for more details and guidance: https://numpy.org/devdocs/release/1.20.0-notes.html#deprecations\n",
            " 58%|█████▊    | 105/180 [00:18<00:12,  5.78it/s]/usr/local/lib/python3.7/dist-packages/ipykernel_launcher.py:28: DeprecationWarning: `np.int` is a deprecated alias for the builtin `int`. To silence this warning, use `int` by itself. Doing this will not modify any behavior and is safe. When replacing `np.int`, you may wish to use e.g. `np.int64` or `np.int32` to specify the precision. If you wish to review your current use, check the release note link for additional information.\n",
            "Deprecated in NumPy 1.20; for more details and guidance: https://numpy.org/devdocs/release/1.20.0-notes.html#deprecations\n",
            " 59%|█████▉    | 106/180 [00:19<00:12,  5.80it/s]/usr/local/lib/python3.7/dist-packages/ipykernel_launcher.py:28: DeprecationWarning: `np.int` is a deprecated alias for the builtin `int`. To silence this warning, use `int` by itself. Doing this will not modify any behavior and is safe. When replacing `np.int`, you may wish to use e.g. `np.int64` or `np.int32` to specify the precision. If you wish to review your current use, check the release note link for additional information.\n",
            "Deprecated in NumPy 1.20; for more details and guidance: https://numpy.org/devdocs/release/1.20.0-notes.html#deprecations\n",
            " 59%|█████▉    | 107/180 [00:19<00:12,  5.81it/s]/usr/local/lib/python3.7/dist-packages/ipykernel_launcher.py:28: DeprecationWarning: `np.int` is a deprecated alias for the builtin `int`. To silence this warning, use `int` by itself. Doing this will not modify any behavior and is safe. When replacing `np.int`, you may wish to use e.g. `np.int64` or `np.int32` to specify the precision. If you wish to review your current use, check the release note link for additional information.\n",
            "Deprecated in NumPy 1.20; for more details and guidance: https://numpy.org/devdocs/release/1.20.0-notes.html#deprecations\n",
            " 60%|██████    | 108/180 [00:19<00:12,  5.76it/s]/usr/local/lib/python3.7/dist-packages/ipykernel_launcher.py:28: DeprecationWarning: `np.int` is a deprecated alias for the builtin `int`. To silence this warning, use `int` by itself. Doing this will not modify any behavior and is safe. When replacing `np.int`, you may wish to use e.g. `np.int64` or `np.int32` to specify the precision. If you wish to review your current use, check the release note link for additional information.\n",
            "Deprecated in NumPy 1.20; for more details and guidance: https://numpy.org/devdocs/release/1.20.0-notes.html#deprecations\n",
            " 61%|██████    | 109/180 [00:19<00:16,  4.36it/s]/usr/local/lib/python3.7/dist-packages/ipykernel_launcher.py:28: DeprecationWarning: `np.int` is a deprecated alias for the builtin `int`. To silence this warning, use `int` by itself. Doing this will not modify any behavior and is safe. When replacing `np.int`, you may wish to use e.g. `np.int64` or `np.int32` to specify the precision. If you wish to review your current use, check the release note link for additional information.\n",
            "Deprecated in NumPy 1.20; for more details and guidance: https://numpy.org/devdocs/release/1.20.0-notes.html#deprecations\n",
            " 61%|██████    | 110/180 [00:19<00:14,  4.71it/s]/usr/local/lib/python3.7/dist-packages/ipykernel_launcher.py:28: DeprecationWarning: `np.int` is a deprecated alias for the builtin `int`. To silence this warning, use `int` by itself. Doing this will not modify any behavior and is safe. When replacing `np.int`, you may wish to use e.g. `np.int64` or `np.int32` to specify the precision. If you wish to review your current use, check the release note link for additional information.\n",
            "Deprecated in NumPy 1.20; for more details and guidance: https://numpy.org/devdocs/release/1.20.0-notes.html#deprecations\n",
            " 62%|██████▏   | 111/180 [00:20<00:13,  5.03it/s]/usr/local/lib/python3.7/dist-packages/ipykernel_launcher.py:28: DeprecationWarning: `np.int` is a deprecated alias for the builtin `int`. To silence this warning, use `int` by itself. Doing this will not modify any behavior and is safe. When replacing `np.int`, you may wish to use e.g. `np.int64` or `np.int32` to specify the precision. If you wish to review your current use, check the release note link for additional information.\n",
            "Deprecated in NumPy 1.20; for more details and guidance: https://numpy.org/devdocs/release/1.20.0-notes.html#deprecations\n",
            " 62%|██████▏   | 112/180 [00:20<00:12,  5.26it/s]/usr/local/lib/python3.7/dist-packages/ipykernel_launcher.py:28: DeprecationWarning: `np.int` is a deprecated alias for the builtin `int`. To silence this warning, use `int` by itself. Doing this will not modify any behavior and is safe. When replacing `np.int`, you may wish to use e.g. `np.int64` or `np.int32` to specify the precision. If you wish to review your current use, check the release note link for additional information.\n",
            "Deprecated in NumPy 1.20; for more details and guidance: https://numpy.org/devdocs/release/1.20.0-notes.html#deprecations\n",
            " 63%|██████▎   | 113/180 [00:20<00:12,  5.31it/s]/usr/local/lib/python3.7/dist-packages/ipykernel_launcher.py:28: DeprecationWarning: `np.int` is a deprecated alias for the builtin `int`. To silence this warning, use `int` by itself. Doing this will not modify any behavior and is safe. When replacing `np.int`, you may wish to use e.g. `np.int64` or `np.int32` to specify the precision. If you wish to review your current use, check the release note link for additional information.\n",
            "Deprecated in NumPy 1.20; for more details and guidance: https://numpy.org/devdocs/release/1.20.0-notes.html#deprecations\n",
            " 63%|██████▎   | 114/180 [00:20<00:12,  5.42it/s]/usr/local/lib/python3.7/dist-packages/ipykernel_launcher.py:28: DeprecationWarning: `np.int` is a deprecated alias for the builtin `int`. To silence this warning, use `int` by itself. Doing this will not modify any behavior and is safe. When replacing `np.int`, you may wish to use e.g. `np.int64` or `np.int32` to specify the precision. If you wish to review your current use, check the release note link for additional information.\n",
            "Deprecated in NumPy 1.20; for more details and guidance: https://numpy.org/devdocs/release/1.20.0-notes.html#deprecations\n",
            " 64%|██████▍   | 115/180 [00:20<00:11,  5.57it/s]/usr/local/lib/python3.7/dist-packages/ipykernel_launcher.py:28: DeprecationWarning: `np.int` is a deprecated alias for the builtin `int`. To silence this warning, use `int` by itself. Doing this will not modify any behavior and is safe. When replacing `np.int`, you may wish to use e.g. `np.int64` or `np.int32` to specify the precision. If you wish to review your current use, check the release note link for additional information.\n",
            "Deprecated in NumPy 1.20; for more details and guidance: https://numpy.org/devdocs/release/1.20.0-notes.html#deprecations\n",
            " 64%|██████▍   | 116/180 [00:21<00:11,  5.61it/s]/usr/local/lib/python3.7/dist-packages/ipykernel_launcher.py:28: DeprecationWarning: `np.int` is a deprecated alias for the builtin `int`. To silence this warning, use `int` by itself. Doing this will not modify any behavior and is safe. When replacing `np.int`, you may wish to use e.g. `np.int64` or `np.int32` to specify the precision. If you wish to review your current use, check the release note link for additional information.\n",
            "Deprecated in NumPy 1.20; for more details and guidance: https://numpy.org/devdocs/release/1.20.0-notes.html#deprecations\n",
            " 65%|██████▌   | 117/180 [00:21<00:11,  5.63it/s]/usr/local/lib/python3.7/dist-packages/ipykernel_launcher.py:28: DeprecationWarning: `np.int` is a deprecated alias for the builtin `int`. To silence this warning, use `int` by itself. Doing this will not modify any behavior and is safe. When replacing `np.int`, you may wish to use e.g. `np.int64` or `np.int32` to specify the precision. If you wish to review your current use, check the release note link for additional information.\n",
            "Deprecated in NumPy 1.20; for more details and guidance: https://numpy.org/devdocs/release/1.20.0-notes.html#deprecations\n",
            " 66%|██████▌   | 118/180 [00:21<00:11,  5.62it/s]/usr/local/lib/python3.7/dist-packages/ipykernel_launcher.py:28: DeprecationWarning: `np.int` is a deprecated alias for the builtin `int`. To silence this warning, use `int` by itself. Doing this will not modify any behavior and is safe. When replacing `np.int`, you may wish to use e.g. `np.int64` or `np.int32` to specify the precision. If you wish to review your current use, check the release note link for additional information.\n",
            "Deprecated in NumPy 1.20; for more details and guidance: https://numpy.org/devdocs/release/1.20.0-notes.html#deprecations\n",
            " 66%|██████▌   | 119/180 [00:21<00:10,  5.58it/s]/usr/local/lib/python3.7/dist-packages/ipykernel_launcher.py:28: DeprecationWarning: `np.int` is a deprecated alias for the builtin `int`. To silence this warning, use `int` by itself. Doing this will not modify any behavior and is safe. When replacing `np.int`, you may wish to use e.g. `np.int64` or `np.int32` to specify the precision. If you wish to review your current use, check the release note link for additional information.\n",
            "Deprecated in NumPy 1.20; for more details and guidance: https://numpy.org/devdocs/release/1.20.0-notes.html#deprecations\n",
            " 67%|██████▋   | 120/180 [00:21<00:10,  5.62it/s]/usr/local/lib/python3.7/dist-packages/ipykernel_launcher.py:28: DeprecationWarning: `np.int` is a deprecated alias for the builtin `int`. To silence this warning, use `int` by itself. Doing this will not modify any behavior and is safe. When replacing `np.int`, you may wish to use e.g. `np.int64` or `np.int32` to specify the precision. If you wish to review your current use, check the release note link for additional information.\n",
            "Deprecated in NumPy 1.20; for more details and guidance: https://numpy.org/devdocs/release/1.20.0-notes.html#deprecations\n",
            " 67%|██████▋   | 121/180 [00:21<00:10,  5.64it/s]/usr/local/lib/python3.7/dist-packages/ipykernel_launcher.py:28: DeprecationWarning: `np.int` is a deprecated alias for the builtin `int`. To silence this warning, use `int` by itself. Doing this will not modify any behavior and is safe. When replacing `np.int`, you may wish to use e.g. `np.int64` or `np.int32` to specify the precision. If you wish to review your current use, check the release note link for additional information.\n",
            "Deprecated in NumPy 1.20; for more details and guidance: https://numpy.org/devdocs/release/1.20.0-notes.html#deprecations\n",
            " 68%|██████▊   | 122/180 [00:22<00:10,  5.60it/s]/usr/local/lib/python3.7/dist-packages/ipykernel_launcher.py:28: DeprecationWarning: `np.int` is a deprecated alias for the builtin `int`. To silence this warning, use `int` by itself. Doing this will not modify any behavior and is safe. When replacing `np.int`, you may wish to use e.g. `np.int64` or `np.int32` to specify the precision. If you wish to review your current use, check the release note link for additional information.\n",
            "Deprecated in NumPy 1.20; for more details and guidance: https://numpy.org/devdocs/release/1.20.0-notes.html#deprecations\n",
            " 68%|██████▊   | 123/180 [00:22<00:10,  5.65it/s]/usr/local/lib/python3.7/dist-packages/ipykernel_launcher.py:28: DeprecationWarning: `np.int` is a deprecated alias for the builtin `int`. To silence this warning, use `int` by itself. Doing this will not modify any behavior and is safe. When replacing `np.int`, you may wish to use e.g. `np.int64` or `np.int32` to specify the precision. If you wish to review your current use, check the release note link for additional information.\n",
            "Deprecated in NumPy 1.20; for more details and guidance: https://numpy.org/devdocs/release/1.20.0-notes.html#deprecations\n",
            " 69%|██████▉   | 124/180 [00:22<00:09,  5.71it/s]/usr/local/lib/python3.7/dist-packages/ipykernel_launcher.py:28: DeprecationWarning: `np.int` is a deprecated alias for the builtin `int`. To silence this warning, use `int` by itself. Doing this will not modify any behavior and is safe. When replacing `np.int`, you may wish to use e.g. `np.int64` or `np.int32` to specify the precision. If you wish to review your current use, check the release note link for additional information.\n",
            "Deprecated in NumPy 1.20; for more details and guidance: https://numpy.org/devdocs/release/1.20.0-notes.html#deprecations\n",
            " 69%|██████▉   | 125/180 [00:22<00:09,  5.69it/s]/usr/local/lib/python3.7/dist-packages/ipykernel_launcher.py:28: DeprecationWarning: `np.int` is a deprecated alias for the builtin `int`. To silence this warning, use `int` by itself. Doing this will not modify any behavior and is safe. When replacing `np.int`, you may wish to use e.g. `np.int64` or `np.int32` to specify the precision. If you wish to review your current use, check the release note link for additional information.\n",
            "Deprecated in NumPy 1.20; for more details and guidance: https://numpy.org/devdocs/release/1.20.0-notes.html#deprecations\n",
            " 70%|███████   | 126/180 [00:22<00:09,  5.76it/s]/usr/local/lib/python3.7/dist-packages/ipykernel_launcher.py:28: DeprecationWarning: `np.int` is a deprecated alias for the builtin `int`. To silence this warning, use `int` by itself. Doing this will not modify any behavior and is safe. When replacing `np.int`, you may wish to use e.g. `np.int64` or `np.int32` to specify the precision. If you wish to review your current use, check the release note link for additional information.\n",
            "Deprecated in NumPy 1.20; for more details and guidance: https://numpy.org/devdocs/release/1.20.0-notes.html#deprecations\n",
            " 71%|███████   | 127/180 [00:22<00:09,  5.72it/s]/usr/local/lib/python3.7/dist-packages/ipykernel_launcher.py:28: DeprecationWarning: `np.int` is a deprecated alias for the builtin `int`. To silence this warning, use `int` by itself. Doing this will not modify any behavior and is safe. When replacing `np.int`, you may wish to use e.g. `np.int64` or `np.int32` to specify the precision. If you wish to review your current use, check the release note link for additional information.\n",
            "Deprecated in NumPy 1.20; for more details and guidance: https://numpy.org/devdocs/release/1.20.0-notes.html#deprecations\n",
            " 71%|███████   | 128/180 [00:23<00:09,  5.67it/s]/usr/local/lib/python3.7/dist-packages/ipykernel_launcher.py:28: DeprecationWarning: `np.int` is a deprecated alias for the builtin `int`. To silence this warning, use `int` by itself. Doing this will not modify any behavior and is safe. When replacing `np.int`, you may wish to use e.g. `np.int64` or `np.int32` to specify the precision. If you wish to review your current use, check the release note link for additional information.\n",
            "Deprecated in NumPy 1.20; for more details and guidance: https://numpy.org/devdocs/release/1.20.0-notes.html#deprecations\n",
            " 72%|███████▏  | 129/180 [00:23<00:08,  5.74it/s]/usr/local/lib/python3.7/dist-packages/ipykernel_launcher.py:28: DeprecationWarning: `np.int` is a deprecated alias for the builtin `int`. To silence this warning, use `int` by itself. Doing this will not modify any behavior and is safe. When replacing `np.int`, you may wish to use e.g. `np.int64` or `np.int32` to specify the precision. If you wish to review your current use, check the release note link for additional information.\n",
            "Deprecated in NumPy 1.20; for more details and guidance: https://numpy.org/devdocs/release/1.20.0-notes.html#deprecations\n",
            " 72%|███████▏  | 130/180 [00:23<00:08,  5.80it/s]/usr/local/lib/python3.7/dist-packages/ipykernel_launcher.py:28: DeprecationWarning: `np.int` is a deprecated alias for the builtin `int`. To silence this warning, use `int` by itself. Doing this will not modify any behavior and is safe. When replacing `np.int`, you may wish to use e.g. `np.int64` or `np.int32` to specify the precision. If you wish to review your current use, check the release note link for additional information.\n",
            "Deprecated in NumPy 1.20; for more details and guidance: https://numpy.org/devdocs/release/1.20.0-notes.html#deprecations\n",
            " 73%|███████▎  | 131/180 [00:23<00:08,  5.76it/s]/usr/local/lib/python3.7/dist-packages/ipykernel_launcher.py:28: DeprecationWarning: `np.int` is a deprecated alias for the builtin `int`. To silence this warning, use `int` by itself. Doing this will not modify any behavior and is safe. When replacing `np.int`, you may wish to use e.g. `np.int64` or `np.int32` to specify the precision. If you wish to review your current use, check the release note link for additional information.\n",
            "Deprecated in NumPy 1.20; for more details and guidance: https://numpy.org/devdocs/release/1.20.0-notes.html#deprecations\n",
            " 73%|███████▎  | 132/180 [00:23<00:08,  5.85it/s]/usr/local/lib/python3.7/dist-packages/ipykernel_launcher.py:28: DeprecationWarning: `np.int` is a deprecated alias for the builtin `int`. To silence this warning, use `int` by itself. Doing this will not modify any behavior and is safe. When replacing `np.int`, you may wish to use e.g. `np.int64` or `np.int32` to specify the precision. If you wish to review your current use, check the release note link for additional information.\n",
            "Deprecated in NumPy 1.20; for more details and guidance: https://numpy.org/devdocs/release/1.20.0-notes.html#deprecations\n",
            " 74%|███████▍  | 133/180 [00:23<00:07,  5.91it/s]/usr/local/lib/python3.7/dist-packages/ipykernel_launcher.py:28: DeprecationWarning: `np.int` is a deprecated alias for the builtin `int`. To silence this warning, use `int` by itself. Doing this will not modify any behavior and is safe. When replacing `np.int`, you may wish to use e.g. `np.int64` or `np.int32` to specify the precision. If you wish to review your current use, check the release note link for additional information.\n",
            "Deprecated in NumPy 1.20; for more details and guidance: https://numpy.org/devdocs/release/1.20.0-notes.html#deprecations\n",
            " 74%|███████▍  | 134/180 [00:24<00:07,  5.86it/s]/usr/local/lib/python3.7/dist-packages/ipykernel_launcher.py:28: DeprecationWarning: `np.int` is a deprecated alias for the builtin `int`. To silence this warning, use `int` by itself. Doing this will not modify any behavior and is safe. When replacing `np.int`, you may wish to use e.g. `np.int64` or `np.int32` to specify the precision. If you wish to review your current use, check the release note link for additional information.\n",
            "Deprecated in NumPy 1.20; for more details and guidance: https://numpy.org/devdocs/release/1.20.0-notes.html#deprecations\n",
            " 75%|███████▌  | 135/180 [00:24<00:07,  5.89it/s]/usr/local/lib/python3.7/dist-packages/ipykernel_launcher.py:28: DeprecationWarning: `np.int` is a deprecated alias for the builtin `int`. To silence this warning, use `int` by itself. Doing this will not modify any behavior and is safe. When replacing `np.int`, you may wish to use e.g. `np.int64` or `np.int32` to specify the precision. If you wish to review your current use, check the release note link for additional information.\n",
            "Deprecated in NumPy 1.20; for more details and guidance: https://numpy.org/devdocs/release/1.20.0-notes.html#deprecations\n",
            " 76%|███████▌  | 136/180 [00:24<00:07,  5.85it/s]/usr/local/lib/python3.7/dist-packages/ipykernel_launcher.py:28: DeprecationWarning: `np.int` is a deprecated alias for the builtin `int`. To silence this warning, use `int` by itself. Doing this will not modify any behavior and is safe. When replacing `np.int`, you may wish to use e.g. `np.int64` or `np.int32` to specify the precision. If you wish to review your current use, check the release note link for additional information.\n",
            "Deprecated in NumPy 1.20; for more details and guidance: https://numpy.org/devdocs/release/1.20.0-notes.html#deprecations\n",
            " 76%|███████▌  | 137/180 [00:24<00:07,  5.75it/s]/usr/local/lib/python3.7/dist-packages/ipykernel_launcher.py:28: DeprecationWarning: `np.int` is a deprecated alias for the builtin `int`. To silence this warning, use `int` by itself. Doing this will not modify any behavior and is safe. When replacing `np.int`, you may wish to use e.g. `np.int64` or `np.int32` to specify the precision. If you wish to review your current use, check the release note link for additional information.\n",
            "Deprecated in NumPy 1.20; for more details and guidance: https://numpy.org/devdocs/release/1.20.0-notes.html#deprecations\n",
            " 77%|███████▋  | 138/180 [00:24<00:07,  5.78it/s]/usr/local/lib/python3.7/dist-packages/ipykernel_launcher.py:28: DeprecationWarning: `np.int` is a deprecated alias for the builtin `int`. To silence this warning, use `int` by itself. Doing this will not modify any behavior and is safe. When replacing `np.int`, you may wish to use e.g. `np.int64` or `np.int32` to specify the precision. If you wish to review your current use, check the release note link for additional information.\n",
            "Deprecated in NumPy 1.20; for more details and guidance: https://numpy.org/devdocs/release/1.20.0-notes.html#deprecations\n",
            " 77%|███████▋  | 139/180 [00:25<00:07,  5.78it/s]/usr/local/lib/python3.7/dist-packages/ipykernel_launcher.py:28: DeprecationWarning: `np.int` is a deprecated alias for the builtin `int`. To silence this warning, use `int` by itself. Doing this will not modify any behavior and is safe. When replacing `np.int`, you may wish to use e.g. `np.int64` or `np.int32` to specify the precision. If you wish to review your current use, check the release note link for additional information.\n",
            "Deprecated in NumPy 1.20; for more details and guidance: https://numpy.org/devdocs/release/1.20.0-notes.html#deprecations\n",
            " 78%|███████▊  | 140/180 [00:25<00:07,  5.68it/s]/usr/local/lib/python3.7/dist-packages/ipykernel_launcher.py:28: DeprecationWarning: `np.int` is a deprecated alias for the builtin `int`. To silence this warning, use `int` by itself. Doing this will not modify any behavior and is safe. When replacing `np.int`, you may wish to use e.g. `np.int64` or `np.int32` to specify the precision. If you wish to review your current use, check the release note link for additional information.\n",
            "Deprecated in NumPy 1.20; for more details and guidance: https://numpy.org/devdocs/release/1.20.0-notes.html#deprecations\n",
            " 78%|███████▊  | 141/180 [00:25<00:06,  5.70it/s]/usr/local/lib/python3.7/dist-packages/ipykernel_launcher.py:28: DeprecationWarning: `np.int` is a deprecated alias for the builtin `int`. To silence this warning, use `int` by itself. Doing this will not modify any behavior and is safe. When replacing `np.int`, you may wish to use e.g. `np.int64` or `np.int32` to specify the precision. If you wish to review your current use, check the release note link for additional information.\n",
            "Deprecated in NumPy 1.20; for more details and guidance: https://numpy.org/devdocs/release/1.20.0-notes.html#deprecations\n",
            " 79%|███████▉  | 142/180 [00:25<00:06,  5.75it/s]/usr/local/lib/python3.7/dist-packages/ipykernel_launcher.py:28: DeprecationWarning: `np.int` is a deprecated alias for the builtin `int`. To silence this warning, use `int` by itself. Doing this will not modify any behavior and is safe. When replacing `np.int`, you may wish to use e.g. `np.int64` or `np.int32` to specify the precision. If you wish to review your current use, check the release note link for additional information.\n",
            "Deprecated in NumPy 1.20; for more details and guidance: https://numpy.org/devdocs/release/1.20.0-notes.html#deprecations\n",
            " 79%|███████▉  | 143/180 [00:25<00:06,  5.72it/s]/usr/local/lib/python3.7/dist-packages/ipykernel_launcher.py:28: DeprecationWarning: `np.int` is a deprecated alias for the builtin `int`. To silence this warning, use `int` by itself. Doing this will not modify any behavior and is safe. When replacing `np.int`, you may wish to use e.g. `np.int64` or `np.int32` to specify the precision. If you wish to review your current use, check the release note link for additional information.\n",
            "Deprecated in NumPy 1.20; for more details and guidance: https://numpy.org/devdocs/release/1.20.0-notes.html#deprecations\n",
            " 80%|████████  | 144/180 [00:25<00:06,  5.81it/s]/usr/local/lib/python3.7/dist-packages/ipykernel_launcher.py:28: DeprecationWarning: `np.int` is a deprecated alias for the builtin `int`. To silence this warning, use `int` by itself. Doing this will not modify any behavior and is safe. When replacing `np.int`, you may wish to use e.g. `np.int64` or `np.int32` to specify the precision. If you wish to review your current use, check the release note link for additional information.\n",
            "Deprecated in NumPy 1.20; for more details and guidance: https://numpy.org/devdocs/release/1.20.0-notes.html#deprecations\n",
            " 81%|████████  | 145/180 [00:26<00:06,  5.82it/s]/usr/local/lib/python3.7/dist-packages/ipykernel_launcher.py:28: DeprecationWarning: `np.int` is a deprecated alias for the builtin `int`. To silence this warning, use `int` by itself. Doing this will not modify any behavior and is safe. When replacing `np.int`, you may wish to use e.g. `np.int64` or `np.int32` to specify the precision. If you wish to review your current use, check the release note link for additional information.\n",
            "Deprecated in NumPy 1.20; for more details and guidance: https://numpy.org/devdocs/release/1.20.0-notes.html#deprecations\n",
            " 81%|████████  | 146/180 [00:26<00:05,  5.80it/s]/usr/local/lib/python3.7/dist-packages/ipykernel_launcher.py:28: DeprecationWarning: `np.int` is a deprecated alias for the builtin `int`. To silence this warning, use `int` by itself. Doing this will not modify any behavior and is safe. When replacing `np.int`, you may wish to use e.g. `np.int64` or `np.int32` to specify the precision. If you wish to review your current use, check the release note link for additional information.\n",
            "Deprecated in NumPy 1.20; for more details and guidance: https://numpy.org/devdocs/release/1.20.0-notes.html#deprecations\n",
            " 82%|████████▏ | 147/180 [00:26<00:05,  5.76it/s]/usr/local/lib/python3.7/dist-packages/ipykernel_launcher.py:28: DeprecationWarning: `np.int` is a deprecated alias for the builtin `int`. To silence this warning, use `int` by itself. Doing this will not modify any behavior and is safe. When replacing `np.int`, you may wish to use e.g. `np.int64` or `np.int32` to specify the precision. If you wish to review your current use, check the release note link for additional information.\n",
            "Deprecated in NumPy 1.20; for more details and guidance: https://numpy.org/devdocs/release/1.20.0-notes.html#deprecations\n",
            " 82%|████████▏ | 148/180 [00:26<00:05,  5.75it/s]/usr/local/lib/python3.7/dist-packages/ipykernel_launcher.py:28: DeprecationWarning: `np.int` is a deprecated alias for the builtin `int`. To silence this warning, use `int` by itself. Doing this will not modify any behavior and is safe. When replacing `np.int`, you may wish to use e.g. `np.int64` or `np.int32` to specify the precision. If you wish to review your current use, check the release note link for additional information.\n",
            "Deprecated in NumPy 1.20; for more details and guidance: https://numpy.org/devdocs/release/1.20.0-notes.html#deprecations\n",
            " 83%|████████▎ | 149/180 [00:26<00:05,  5.72it/s]/usr/local/lib/python3.7/dist-packages/ipykernel_launcher.py:28: DeprecationWarning: `np.int` is a deprecated alias for the builtin `int`. To silence this warning, use `int` by itself. Doing this will not modify any behavior and is safe. When replacing `np.int`, you may wish to use e.g. `np.int64` or `np.int32` to specify the precision. If you wish to review your current use, check the release note link for additional information.\n",
            "Deprecated in NumPy 1.20; for more details and guidance: https://numpy.org/devdocs/release/1.20.0-notes.html#deprecations\n",
            " 83%|████████▎ | 150/180 [00:26<00:05,  5.73it/s]/usr/local/lib/python3.7/dist-packages/ipykernel_launcher.py:28: DeprecationWarning: `np.int` is a deprecated alias for the builtin `int`. To silence this warning, use `int` by itself. Doing this will not modify any behavior and is safe. When replacing `np.int`, you may wish to use e.g. `np.int64` or `np.int32` to specify the precision. If you wish to review your current use, check the release note link for additional information.\n",
            "Deprecated in NumPy 1.20; for more details and guidance: https://numpy.org/devdocs/release/1.20.0-notes.html#deprecations\n",
            " 84%|████████▍ | 151/180 [00:27<00:04,  5.81it/s]/usr/local/lib/python3.7/dist-packages/ipykernel_launcher.py:28: DeprecationWarning: `np.int` is a deprecated alias for the builtin `int`. To silence this warning, use `int` by itself. Doing this will not modify any behavior and is safe. When replacing `np.int`, you may wish to use e.g. `np.int64` or `np.int32` to specify the precision. If you wish to review your current use, check the release note link for additional information.\n",
            "Deprecated in NumPy 1.20; for more details and guidance: https://numpy.org/devdocs/release/1.20.0-notes.html#deprecations\n",
            " 84%|████████▍ | 152/180 [00:27<00:04,  5.85it/s]/usr/local/lib/python3.7/dist-packages/ipykernel_launcher.py:28: DeprecationWarning: `np.int` is a deprecated alias for the builtin `int`. To silence this warning, use `int` by itself. Doing this will not modify any behavior and is safe. When replacing `np.int`, you may wish to use e.g. `np.int64` or `np.int32` to specify the precision. If you wish to review your current use, check the release note link for additional information.\n",
            "Deprecated in NumPy 1.20; for more details and guidance: https://numpy.org/devdocs/release/1.20.0-notes.html#deprecations\n",
            " 85%|████████▌ | 153/180 [00:27<00:04,  5.89it/s]/usr/local/lib/python3.7/dist-packages/ipykernel_launcher.py:28: DeprecationWarning: `np.int` is a deprecated alias for the builtin `int`. To silence this warning, use `int` by itself. Doing this will not modify any behavior and is safe. When replacing `np.int`, you may wish to use e.g. `np.int64` or `np.int32` to specify the precision. If you wish to review your current use, check the release note link for additional information.\n",
            "Deprecated in NumPy 1.20; for more details and guidance: https://numpy.org/devdocs/release/1.20.0-notes.html#deprecations\n",
            " 86%|████████▌ | 154/180 [00:27<00:04,  5.86it/s]/usr/local/lib/python3.7/dist-packages/ipykernel_launcher.py:28: DeprecationWarning: `np.int` is a deprecated alias for the builtin `int`. To silence this warning, use `int` by itself. Doing this will not modify any behavior and is safe. When replacing `np.int`, you may wish to use e.g. `np.int64` or `np.int32` to specify the precision. If you wish to review your current use, check the release note link for additional information.\n",
            "Deprecated in NumPy 1.20; for more details and guidance: https://numpy.org/devdocs/release/1.20.0-notes.html#deprecations\n",
            " 86%|████████▌ | 155/180 [00:27<00:04,  5.85it/s]/usr/local/lib/python3.7/dist-packages/ipykernel_launcher.py:28: DeprecationWarning: `np.int` is a deprecated alias for the builtin `int`. To silence this warning, use `int` by itself. Doing this will not modify any behavior and is safe. When replacing `np.int`, you may wish to use e.g. `np.int64` or `np.int32` to specify the precision. If you wish to review your current use, check the release note link for additional information.\n",
            "Deprecated in NumPy 1.20; for more details and guidance: https://numpy.org/devdocs/release/1.20.0-notes.html#deprecations\n",
            " 87%|████████▋ | 156/180 [00:27<00:04,  5.87it/s]/usr/local/lib/python3.7/dist-packages/ipykernel_launcher.py:28: DeprecationWarning: `np.int` is a deprecated alias for the builtin `int`. To silence this warning, use `int` by itself. Doing this will not modify any behavior and is safe. When replacing `np.int`, you may wish to use e.g. `np.int64` or `np.int32` to specify the precision. If you wish to review your current use, check the release note link for additional information.\n",
            "Deprecated in NumPy 1.20; for more details and guidance: https://numpy.org/devdocs/release/1.20.0-notes.html#deprecations\n",
            " 87%|████████▋ | 157/180 [00:28<00:03,  5.78it/s]/usr/local/lib/python3.7/dist-packages/ipykernel_launcher.py:28: DeprecationWarning: `np.int` is a deprecated alias for the builtin `int`. To silence this warning, use `int` by itself. Doing this will not modify any behavior and is safe. When replacing `np.int`, you may wish to use e.g. `np.int64` or `np.int32` to specify the precision. If you wish to review your current use, check the release note link for additional information.\n",
            "Deprecated in NumPy 1.20; for more details and guidance: https://numpy.org/devdocs/release/1.20.0-notes.html#deprecations\n",
            " 88%|████████▊ | 158/180 [00:28<00:03,  5.75it/s]/usr/local/lib/python3.7/dist-packages/ipykernel_launcher.py:28: DeprecationWarning: `np.int` is a deprecated alias for the builtin `int`. To silence this warning, use `int` by itself. Doing this will not modify any behavior and is safe. When replacing `np.int`, you may wish to use e.g. `np.int64` or `np.int32` to specify the precision. If you wish to review your current use, check the release note link for additional information.\n",
            "Deprecated in NumPy 1.20; for more details and guidance: https://numpy.org/devdocs/release/1.20.0-notes.html#deprecations\n",
            " 88%|████████▊ | 159/180 [00:28<00:03,  5.77it/s]/usr/local/lib/python3.7/dist-packages/ipykernel_launcher.py:28: DeprecationWarning: `np.int` is a deprecated alias for the builtin `int`. To silence this warning, use `int` by itself. Doing this will not modify any behavior and is safe. When replacing `np.int`, you may wish to use e.g. `np.int64` or `np.int32` to specify the precision. If you wish to review your current use, check the release note link for additional information.\n",
            "Deprecated in NumPy 1.20; for more details and guidance: https://numpy.org/devdocs/release/1.20.0-notes.html#deprecations\n",
            " 89%|████████▉ | 160/180 [00:28<00:03,  5.84it/s]/usr/local/lib/python3.7/dist-packages/ipykernel_launcher.py:28: DeprecationWarning: `np.int` is a deprecated alias for the builtin `int`. To silence this warning, use `int` by itself. Doing this will not modify any behavior and is safe. When replacing `np.int`, you may wish to use e.g. `np.int64` or `np.int32` to specify the precision. If you wish to review your current use, check the release note link for additional information.\n",
            "Deprecated in NumPy 1.20; for more details and guidance: https://numpy.org/devdocs/release/1.20.0-notes.html#deprecations\n",
            " 89%|████████▉ | 161/180 [00:28<00:03,  5.85it/s]/usr/local/lib/python3.7/dist-packages/ipykernel_launcher.py:28: DeprecationWarning: `np.int` is a deprecated alias for the builtin `int`. To silence this warning, use `int` by itself. Doing this will not modify any behavior and is safe. When replacing `np.int`, you may wish to use e.g. `np.int64` or `np.int32` to specify the precision. If you wish to review your current use, check the release note link for additional information.\n",
            "Deprecated in NumPy 1.20; for more details and guidance: https://numpy.org/devdocs/release/1.20.0-notes.html#deprecations\n",
            " 90%|█████████ | 162/180 [00:28<00:03,  5.92it/s]/usr/local/lib/python3.7/dist-packages/ipykernel_launcher.py:28: DeprecationWarning: `np.int` is a deprecated alias for the builtin `int`. To silence this warning, use `int` by itself. Doing this will not modify any behavior and is safe. When replacing `np.int`, you may wish to use e.g. `np.int64` or `np.int32` to specify the precision. If you wish to review your current use, check the release note link for additional information.\n",
            "Deprecated in NumPy 1.20; for more details and guidance: https://numpy.org/devdocs/release/1.20.0-notes.html#deprecations\n",
            " 91%|█████████ | 163/180 [00:29<00:02,  5.92it/s]/usr/local/lib/python3.7/dist-packages/ipykernel_launcher.py:28: DeprecationWarning: `np.int` is a deprecated alias for the builtin `int`. To silence this warning, use `int` by itself. Doing this will not modify any behavior and is safe. When replacing `np.int`, you may wish to use e.g. `np.int64` or `np.int32` to specify the precision. If you wish to review your current use, check the release note link for additional information.\n",
            "Deprecated in NumPy 1.20; for more details and guidance: https://numpy.org/devdocs/release/1.20.0-notes.html#deprecations\n",
            " 91%|█████████ | 164/180 [00:29<00:02,  5.88it/s]/usr/local/lib/python3.7/dist-packages/ipykernel_launcher.py:28: DeprecationWarning: `np.int` is a deprecated alias for the builtin `int`. To silence this warning, use `int` by itself. Doing this will not modify any behavior and is safe. When replacing `np.int`, you may wish to use e.g. `np.int64` or `np.int32` to specify the precision. If you wish to review your current use, check the release note link for additional information.\n",
            "Deprecated in NumPy 1.20; for more details and guidance: https://numpy.org/devdocs/release/1.20.0-notes.html#deprecations\n",
            " 92%|█████████▏| 165/180 [00:29<00:02,  5.89it/s]/usr/local/lib/python3.7/dist-packages/ipykernel_launcher.py:28: DeprecationWarning: `np.int` is a deprecated alias for the builtin `int`. To silence this warning, use `int` by itself. Doing this will not modify any behavior and is safe. When replacing `np.int`, you may wish to use e.g. `np.int64` or `np.int32` to specify the precision. If you wish to review your current use, check the release note link for additional information.\n",
            "Deprecated in NumPy 1.20; for more details and guidance: https://numpy.org/devdocs/release/1.20.0-notes.html#deprecations\n",
            " 92%|█████████▏| 166/180 [00:29<00:02,  5.71it/s]/usr/local/lib/python3.7/dist-packages/ipykernel_launcher.py:28: DeprecationWarning: `np.int` is a deprecated alias for the builtin `int`. To silence this warning, use `int` by itself. Doing this will not modify any behavior and is safe. When replacing `np.int`, you may wish to use e.g. `np.int64` or `np.int32` to specify the precision. If you wish to review your current use, check the release note link for additional information.\n",
            "Deprecated in NumPy 1.20; for more details and guidance: https://numpy.org/devdocs/release/1.20.0-notes.html#deprecations\n",
            " 93%|█████████▎| 167/180 [00:29<00:02,  5.68it/s]/usr/local/lib/python3.7/dist-packages/ipykernel_launcher.py:28: DeprecationWarning: `np.int` is a deprecated alias for the builtin `int`. To silence this warning, use `int` by itself. Doing this will not modify any behavior and is safe. When replacing `np.int`, you may wish to use e.g. `np.int64` or `np.int32` to specify the precision. If you wish to review your current use, check the release note link for additional information.\n",
            "Deprecated in NumPy 1.20; for more details and guidance: https://numpy.org/devdocs/release/1.20.0-notes.html#deprecations\n",
            " 93%|█████████▎| 168/180 [00:30<00:02,  5.71it/s]/usr/local/lib/python3.7/dist-packages/ipykernel_launcher.py:28: DeprecationWarning: `np.int` is a deprecated alias for the builtin `int`. To silence this warning, use `int` by itself. Doing this will not modify any behavior and is safe. When replacing `np.int`, you may wish to use e.g. `np.int64` or `np.int32` to specify the precision. If you wish to review your current use, check the release note link for additional information.\n",
            "Deprecated in NumPy 1.20; for more details and guidance: https://numpy.org/devdocs/release/1.20.0-notes.html#deprecations\n",
            " 94%|█████████▍| 169/180 [00:30<00:01,  5.72it/s]/usr/local/lib/python3.7/dist-packages/ipykernel_launcher.py:28: DeprecationWarning: `np.int` is a deprecated alias for the builtin `int`. To silence this warning, use `int` by itself. Doing this will not modify any behavior and is safe. When replacing `np.int`, you may wish to use e.g. `np.int64` or `np.int32` to specify the precision. If you wish to review your current use, check the release note link for additional information.\n",
            "Deprecated in NumPy 1.20; for more details and guidance: https://numpy.org/devdocs/release/1.20.0-notes.html#deprecations\n",
            " 94%|█████████▍| 170/180 [00:30<00:01,  5.79it/s]/usr/local/lib/python3.7/dist-packages/ipykernel_launcher.py:28: DeprecationWarning: `np.int` is a deprecated alias for the builtin `int`. To silence this warning, use `int` by itself. Doing this will not modify any behavior and is safe. When replacing `np.int`, you may wish to use e.g. `np.int64` or `np.int32` to specify the precision. If you wish to review your current use, check the release note link for additional information.\n",
            "Deprecated in NumPy 1.20; for more details and guidance: https://numpy.org/devdocs/release/1.20.0-notes.html#deprecations\n",
            " 95%|█████████▌| 171/180 [00:30<00:01,  5.82it/s]/usr/local/lib/python3.7/dist-packages/ipykernel_launcher.py:28: DeprecationWarning: `np.int` is a deprecated alias for the builtin `int`. To silence this warning, use `int` by itself. Doing this will not modify any behavior and is safe. When replacing `np.int`, you may wish to use e.g. `np.int64` or `np.int32` to specify the precision. If you wish to review your current use, check the release note link for additional information.\n",
            "Deprecated in NumPy 1.20; for more details and guidance: https://numpy.org/devdocs/release/1.20.0-notes.html#deprecations\n",
            " 96%|█████████▌| 172/180 [00:30<00:01,  5.80it/s]/usr/local/lib/python3.7/dist-packages/ipykernel_launcher.py:28: DeprecationWarning: `np.int` is a deprecated alias for the builtin `int`. To silence this warning, use `int` by itself. Doing this will not modify any behavior and is safe. When replacing `np.int`, you may wish to use e.g. `np.int64` or `np.int32` to specify the precision. If you wish to review your current use, check the release note link for additional information.\n",
            "Deprecated in NumPy 1.20; for more details and guidance: https://numpy.org/devdocs/release/1.20.0-notes.html#deprecations\n",
            " 96%|█████████▌| 173/180 [00:30<00:01,  5.78it/s]/usr/local/lib/python3.7/dist-packages/ipykernel_launcher.py:28: DeprecationWarning: `np.int` is a deprecated alias for the builtin `int`. To silence this warning, use `int` by itself. Doing this will not modify any behavior and is safe. When replacing `np.int`, you may wish to use e.g. `np.int64` or `np.int32` to specify the precision. If you wish to review your current use, check the release note link for additional information.\n",
            "Deprecated in NumPy 1.20; for more details and guidance: https://numpy.org/devdocs/release/1.20.0-notes.html#deprecations\n",
            " 97%|█████████▋| 174/180 [00:31<00:01,  5.80it/s]/usr/local/lib/python3.7/dist-packages/ipykernel_launcher.py:28: DeprecationWarning: `np.int` is a deprecated alias for the builtin `int`. To silence this warning, use `int` by itself. Doing this will not modify any behavior and is safe. When replacing `np.int`, you may wish to use e.g. `np.int64` or `np.int32` to specify the precision. If you wish to review your current use, check the release note link for additional information.\n",
            "Deprecated in NumPy 1.20; for more details and guidance: https://numpy.org/devdocs/release/1.20.0-notes.html#deprecations\n",
            " 97%|█████████▋| 175/180 [00:31<00:00,  5.82it/s]/usr/local/lib/python3.7/dist-packages/ipykernel_launcher.py:28: DeprecationWarning: `np.int` is a deprecated alias for the builtin `int`. To silence this warning, use `int` by itself. Doing this will not modify any behavior and is safe. When replacing `np.int`, you may wish to use e.g. `np.int64` or `np.int32` to specify the precision. If you wish to review your current use, check the release note link for additional information.\n",
            "Deprecated in NumPy 1.20; for more details and guidance: https://numpy.org/devdocs/release/1.20.0-notes.html#deprecations\n",
            " 98%|█████████▊| 176/180 [00:31<00:00,  5.70it/s]/usr/local/lib/python3.7/dist-packages/ipykernel_launcher.py:28: DeprecationWarning: `np.int` is a deprecated alias for the builtin `int`. To silence this warning, use `int` by itself. Doing this will not modify any behavior and is safe. When replacing `np.int`, you may wish to use e.g. `np.int64` or `np.int32` to specify the precision. If you wish to review your current use, check the release note link for additional information.\n",
            "Deprecated in NumPy 1.20; for more details and guidance: https://numpy.org/devdocs/release/1.20.0-notes.html#deprecations\n",
            " 98%|█████████▊| 177/180 [00:31<00:00,  5.75it/s]/usr/local/lib/python3.7/dist-packages/ipykernel_launcher.py:28: DeprecationWarning: `np.int` is a deprecated alias for the builtin `int`. To silence this warning, use `int` by itself. Doing this will not modify any behavior and is safe. When replacing `np.int`, you may wish to use e.g. `np.int64` or `np.int32` to specify the precision. If you wish to review your current use, check the release note link for additional information.\n",
            "Deprecated in NumPy 1.20; for more details and guidance: https://numpy.org/devdocs/release/1.20.0-notes.html#deprecations\n",
            " 99%|█████████▉| 178/180 [00:31<00:00,  5.77it/s]/usr/local/lib/python3.7/dist-packages/ipykernel_launcher.py:28: DeprecationWarning: `np.int` is a deprecated alias for the builtin `int`. To silence this warning, use `int` by itself. Doing this will not modify any behavior and is safe. When replacing `np.int`, you may wish to use e.g. `np.int64` or `np.int32` to specify the precision. If you wish to review your current use, check the release note link for additional information.\n",
            "Deprecated in NumPy 1.20; for more details and guidance: https://numpy.org/devdocs/release/1.20.0-notes.html#deprecations\n",
            " 99%|█████████▉| 179/180 [00:31<00:00,  5.81it/s]/usr/local/lib/python3.7/dist-packages/ipykernel_launcher.py:28: DeprecationWarning: `np.int` is a deprecated alias for the builtin `int`. To silence this warning, use `int` by itself. Doing this will not modify any behavior and is safe. When replacing `np.int`, you may wish to use e.g. `np.int64` or `np.int32` to specify the precision. If you wish to review your current use, check the release note link for additional information.\n",
            "Deprecated in NumPy 1.20; for more details and guidance: https://numpy.org/devdocs/release/1.20.0-notes.html#deprecations\n",
            "100%|██████████| 180/180 [00:32<00:00,  5.61it/s]\n"
          ]
        },
        {
          "output_type": "stream",
          "name": "stdout",
          "text": [
            "Accuracy: 0.97959\n",
            "F1: 0.73496\n",
            "Jaccard: 0.59586\n",
            "Recall: 0.67999\n",
            "Precision: 0.83246\n",
            "AUC: 0.97096\n",
            "Dice Coeff: 0.64095\n"
          ]
        }
      ]
    },
    {
      "cell_type": "markdown",
      "source": [
        "# Reconstruct original image"
      ],
      "metadata": {
        "id": "PzqpDXW0Kcyu"
      }
    },
    {
      "cell_type": "code",
      "source": [
        "prediction_np_path"
      ],
      "metadata": {
        "id": "NJaxhmgEvs9i",
        "colab": {
          "base_uri": "https://localhost:8080/",
          "height": 35
        },
        "outputId": "d5f64985-0c33-4473-8859-c00c2b652006"
      },
      "execution_count": null,
      "outputs": [
        {
          "output_type": "execute_result",
          "data": {
            "application/vnd.google.colaboratory.intrinsic+json": {
              "type": "string"
            },
            "text/plain": [
              "'/content/datasets/drive_256_256_dice_bce_0_4__0_4_1//predictions_np/'"
            ]
          },
          "metadata": {},
          "execution_count": 46
        }
      ]
    },
    {
      "cell_type": "code",
      "source": [
        "from glob import glob"
      ],
      "metadata": {
        "id": "gwjhBM8y1Bf_"
      },
      "execution_count": null,
      "outputs": []
    },
    {
      "cell_type": "code",
      "source": [
        "# Create patches dictionary\n",
        "predicted_patches_dict = dict()\n",
        "for file in glob(f\"{prediction_np_path}/*.npy\"):\n",
        "    print(\"file\", file)\n",
        "    patch = np.load(file)\n",
        "    fname_without_ext = file.rsplit(\"/\", 1)[1].rsplit(\".\", 1)[0]\n",
        "    fname_without_ext = fname_without_ext[1:]\n",
        "    patch_number = int(fname_without_ext.rsplit(\"_\", 1)[1])\n",
        "    image_file = fname_without_ext.rsplit(\"_\", 1)[0]\n",
        "    print(image_file, patch_number )\n",
        "\n",
        "    if image_file in predicted_patches_dict.keys():\n",
        "        predicted_patches_dict[image_file][patch_number] = np.load(file)\n",
        "    else:\n",
        "        patches = [None] * 140\n",
        "        patches[patch_number] = np.load(file)\n",
        "        predicted_patches_dict[image_file] = patches"
      ],
      "metadata": {
        "id": "s7p1_eLnI51P",
        "colab": {
          "base_uri": "https://localhost:8080/"
        },
        "outputId": "d6958467-7503-439c-a9fd-7b621bb5d488"
      },
      "execution_count": null,
      "outputs": [
        {
          "output_type": "stream",
          "name": "stdout",
          "text": [
            "file /content/datasets/drive_256_256_dice_bce_0_4__0_4_1//predictions_np/_20_test_7.npy\n",
            "20_test 7\n",
            "file /content/datasets/drive_256_256_dice_bce_0_4__0_4_1//predictions_np/_17_test_8.npy\n",
            "17_test 8\n",
            "file /content/datasets/drive_256_256_dice_bce_0_4__0_4_1//predictions_np/_03_test_5.npy\n",
            "03_test 5\n",
            "file /content/datasets/drive_256_256_dice_bce_0_4__0_4_1//predictions_np/_03_test_0.npy\n",
            "03_test 0\n",
            "file /content/datasets/drive_256_256_dice_bce_0_4__0_4_1//predictions_np/_15_test_8.npy\n",
            "15_test 8\n",
            "file /content/datasets/drive_256_256_dice_bce_0_4__0_4_1//predictions_np/_13_test_7.npy\n",
            "13_test 7\n",
            "file /content/datasets/drive_256_256_dice_bce_0_4__0_4_1//predictions_np/_20_test_6.npy\n",
            "20_test 6\n",
            "file /content/datasets/drive_256_256_dice_bce_0_4__0_4_1//predictions_np/_11_test_4.npy\n",
            "11_test 4\n",
            "file /content/datasets/drive_256_256_dice_bce_0_4__0_4_1//predictions_np/_01_test_7.npy\n",
            "01_test 7\n",
            "file /content/datasets/drive_256_256_dice_bce_0_4__0_4_1//predictions_np/_14_test_1.npy\n",
            "14_test 1\n",
            "file /content/datasets/drive_256_256_dice_bce_0_4__0_4_1//predictions_np/_11_test_7.npy\n",
            "11_test 7\n",
            "file /content/datasets/drive_256_256_dice_bce_0_4__0_4_1//predictions_np/_16_test_2.npy\n",
            "16_test 2\n",
            "file /content/datasets/drive_256_256_dice_bce_0_4__0_4_1//predictions_np/_11_test_5.npy\n",
            "11_test 5\n",
            "file /content/datasets/drive_256_256_dice_bce_0_4__0_4_1//predictions_np/_10_test_1.npy\n",
            "10_test 1\n",
            "file /content/datasets/drive_256_256_dice_bce_0_4__0_4_1//predictions_np/_09_test_8.npy\n",
            "09_test 8\n",
            "file /content/datasets/drive_256_256_dice_bce_0_4__0_4_1//predictions_np/_11_test_6.npy\n",
            "11_test 6\n",
            "file /content/datasets/drive_256_256_dice_bce_0_4__0_4_1//predictions_np/_15_test_3.npy\n",
            "15_test 3\n",
            "file /content/datasets/drive_256_256_dice_bce_0_4__0_4_1//predictions_np/_06_test_2.npy\n",
            "06_test 2\n",
            "file /content/datasets/drive_256_256_dice_bce_0_4__0_4_1//predictions_np/_20_test_0.npy\n",
            "20_test 0\n",
            "file /content/datasets/drive_256_256_dice_bce_0_4__0_4_1//predictions_np/_09_test_2.npy\n",
            "09_test 2\n",
            "file /content/datasets/drive_256_256_dice_bce_0_4__0_4_1//predictions_np/_11_test_8.npy\n",
            "11_test 8\n",
            "file /content/datasets/drive_256_256_dice_bce_0_4__0_4_1//predictions_np/_13_test_2.npy\n",
            "13_test 2\n",
            "file /content/datasets/drive_256_256_dice_bce_0_4__0_4_1//predictions_np/_14_test_8.npy\n",
            "14_test 8\n",
            "file /content/datasets/drive_256_256_dice_bce_0_4__0_4_1//predictions_np/_10_test_8.npy\n",
            "10_test 8\n",
            "file /content/datasets/drive_256_256_dice_bce_0_4__0_4_1//predictions_np/_03_test_1.npy\n",
            "03_test 1\n",
            "file /content/datasets/drive_256_256_dice_bce_0_4__0_4_1//predictions_np/_01_test_8.npy\n",
            "01_test 8\n",
            "file /content/datasets/drive_256_256_dice_bce_0_4__0_4_1//predictions_np/_06_test_7.npy\n",
            "06_test 7\n",
            "file /content/datasets/drive_256_256_dice_bce_0_4__0_4_1//predictions_np/_15_test_5.npy\n",
            "15_test 5\n",
            "file /content/datasets/drive_256_256_dice_bce_0_4__0_4_1//predictions_np/_15_test_2.npy\n",
            "15_test 2\n",
            "file /content/datasets/drive_256_256_dice_bce_0_4__0_4_1//predictions_np/_08_test_7.npy\n",
            "08_test 7\n",
            "file /content/datasets/drive_256_256_dice_bce_0_4__0_4_1//predictions_np/_19_test_6.npy\n",
            "19_test 6\n",
            "file /content/datasets/drive_256_256_dice_bce_0_4__0_4_1//predictions_np/_02_test_1.npy\n",
            "02_test 1\n",
            "file /content/datasets/drive_256_256_dice_bce_0_4__0_4_1//predictions_np/_13_test_0.npy\n",
            "13_test 0\n",
            "file /content/datasets/drive_256_256_dice_bce_0_4__0_4_1//predictions_np/_07_test_7.npy\n",
            "07_test 7\n",
            "file /content/datasets/drive_256_256_dice_bce_0_4__0_4_1//predictions_np/_14_test_4.npy\n",
            "14_test 4\n",
            "file /content/datasets/drive_256_256_dice_bce_0_4__0_4_1//predictions_np/_09_test_0.npy\n",
            "09_test 0\n",
            "file /content/datasets/drive_256_256_dice_bce_0_4__0_4_1//predictions_np/_01_test_1.npy\n",
            "01_test 1\n",
            "file /content/datasets/drive_256_256_dice_bce_0_4__0_4_1//predictions_np/_17_test_1.npy\n",
            "17_test 1\n",
            "file /content/datasets/drive_256_256_dice_bce_0_4__0_4_1//predictions_np/_06_test_4.npy\n",
            "06_test 4\n",
            "file /content/datasets/drive_256_256_dice_bce_0_4__0_4_1//predictions_np/_20_test_8.npy\n",
            "20_test 8\n",
            "file /content/datasets/drive_256_256_dice_bce_0_4__0_4_1//predictions_np/_09_test_6.npy\n",
            "09_test 6\n",
            "file /content/datasets/drive_256_256_dice_bce_0_4__0_4_1//predictions_np/_02_test_4.npy\n",
            "02_test 4\n",
            "file /content/datasets/drive_256_256_dice_bce_0_4__0_4_1//predictions_np/_05_test_4.npy\n",
            "05_test 4\n",
            "file /content/datasets/drive_256_256_dice_bce_0_4__0_4_1//predictions_np/_07_test_3.npy\n",
            "07_test 3\n",
            "file /content/datasets/drive_256_256_dice_bce_0_4__0_4_1//predictions_np/_03_test_6.npy\n",
            "03_test 6\n",
            "file /content/datasets/drive_256_256_dice_bce_0_4__0_4_1//predictions_np/_07_test_0.npy\n",
            "07_test 0\n",
            "file /content/datasets/drive_256_256_dice_bce_0_4__0_4_1//predictions_np/_12_test_0.npy\n",
            "12_test 0\n",
            "file /content/datasets/drive_256_256_dice_bce_0_4__0_4_1//predictions_np/_02_test_6.npy\n",
            "02_test 6\n",
            "file /content/datasets/drive_256_256_dice_bce_0_4__0_4_1//predictions_np/_12_test_1.npy\n",
            "12_test 1\n",
            "file /content/datasets/drive_256_256_dice_bce_0_4__0_4_1//predictions_np/_08_test_2.npy\n",
            "08_test 2\n",
            "file /content/datasets/drive_256_256_dice_bce_0_4__0_4_1//predictions_np/_08_test_4.npy\n",
            "08_test 4\n",
            "file /content/datasets/drive_256_256_dice_bce_0_4__0_4_1//predictions_np/_02_test_8.npy\n",
            "02_test 8\n",
            "file /content/datasets/drive_256_256_dice_bce_0_4__0_4_1//predictions_np/_19_test_4.npy\n",
            "19_test 4\n",
            "file /content/datasets/drive_256_256_dice_bce_0_4__0_4_1//predictions_np/_10_test_7.npy\n",
            "10_test 7\n",
            "file /content/datasets/drive_256_256_dice_bce_0_4__0_4_1//predictions_np/_19_test_3.npy\n",
            "19_test 3\n",
            "file /content/datasets/drive_256_256_dice_bce_0_4__0_4_1//predictions_np/_06_test_6.npy\n",
            "06_test 6\n",
            "file /content/datasets/drive_256_256_dice_bce_0_4__0_4_1//predictions_np/_19_test_7.npy\n",
            "19_test 7\n",
            "file /content/datasets/drive_256_256_dice_bce_0_4__0_4_1//predictions_np/_11_test_0.npy\n",
            "11_test 0\n",
            "file /content/datasets/drive_256_256_dice_bce_0_4__0_4_1//predictions_np/_08_test_8.npy\n",
            "08_test 8\n",
            "file /content/datasets/drive_256_256_dice_bce_0_4__0_4_1//predictions_np/_04_test_1.npy\n",
            "04_test 1\n",
            "file /content/datasets/drive_256_256_dice_bce_0_4__0_4_1//predictions_np/_12_test_6.npy\n",
            "12_test 6\n",
            "file /content/datasets/drive_256_256_dice_bce_0_4__0_4_1//predictions_np/_11_test_3.npy\n",
            "11_test 3\n",
            "file /content/datasets/drive_256_256_dice_bce_0_4__0_4_1//predictions_np/_04_test_3.npy\n",
            "04_test 3\n",
            "file /content/datasets/drive_256_256_dice_bce_0_4__0_4_1//predictions_np/_12_test_4.npy\n",
            "12_test 4\n",
            "file /content/datasets/drive_256_256_dice_bce_0_4__0_4_1//predictions_np/_10_test_6.npy\n",
            "10_test 6\n",
            "file /content/datasets/drive_256_256_dice_bce_0_4__0_4_1//predictions_np/_05_test_8.npy\n",
            "05_test 8\n",
            "file /content/datasets/drive_256_256_dice_bce_0_4__0_4_1//predictions_np/_06_test_0.npy\n",
            "06_test 0\n",
            "file /content/datasets/drive_256_256_dice_bce_0_4__0_4_1//predictions_np/_04_test_4.npy\n",
            "04_test 4\n",
            "file /content/datasets/drive_256_256_dice_bce_0_4__0_4_1//predictions_np/_13_test_3.npy\n",
            "13_test 3\n",
            "file /content/datasets/drive_256_256_dice_bce_0_4__0_4_1//predictions_np/_07_test_2.npy\n",
            "07_test 2\n",
            "file /content/datasets/drive_256_256_dice_bce_0_4__0_4_1//predictions_np/_10_test_2.npy\n",
            "10_test 2\n",
            "file /content/datasets/drive_256_256_dice_bce_0_4__0_4_1//predictions_np/_16_test_4.npy\n",
            "16_test 4\n",
            "file /content/datasets/drive_256_256_dice_bce_0_4__0_4_1//predictions_np/_01_test_2.npy\n",
            "01_test 2\n",
            "file /content/datasets/drive_256_256_dice_bce_0_4__0_4_1//predictions_np/_17_test_6.npy\n",
            "17_test 6\n",
            "file /content/datasets/drive_256_256_dice_bce_0_4__0_4_1//predictions_np/_07_test_1.npy\n",
            "07_test 1\n",
            "file /content/datasets/drive_256_256_dice_bce_0_4__0_4_1//predictions_np/_03_test_7.npy\n",
            "03_test 7\n",
            "file /content/datasets/drive_256_256_dice_bce_0_4__0_4_1//predictions_np/_01_test_6.npy\n",
            "01_test 6\n",
            "file /content/datasets/drive_256_256_dice_bce_0_4__0_4_1//predictions_np/_15_test_0.npy\n",
            "15_test 0\n",
            "file /content/datasets/drive_256_256_dice_bce_0_4__0_4_1//predictions_np/_13_test_1.npy\n",
            "13_test 1\n",
            "file /content/datasets/drive_256_256_dice_bce_0_4__0_4_1//predictions_np/_18_test_0.npy\n",
            "18_test 0\n",
            "file /content/datasets/drive_256_256_dice_bce_0_4__0_4_1//predictions_np/_18_test_5.npy\n",
            "18_test 5\n",
            "file /content/datasets/drive_256_256_dice_bce_0_4__0_4_1//predictions_np/_17_test_7.npy\n",
            "17_test 7\n",
            "file /content/datasets/drive_256_256_dice_bce_0_4__0_4_1//predictions_np/_09_test_5.npy\n",
            "09_test 5\n",
            "file /content/datasets/drive_256_256_dice_bce_0_4__0_4_1//predictions_np/_09_test_3.npy\n",
            "09_test 3\n",
            "file /content/datasets/drive_256_256_dice_bce_0_4__0_4_1//predictions_np/_07_test_8.npy\n",
            "07_test 8\n",
            "file /content/datasets/drive_256_256_dice_bce_0_4__0_4_1//predictions_np/_06_test_1.npy\n",
            "06_test 1\n",
            "file /content/datasets/drive_256_256_dice_bce_0_4__0_4_1//predictions_np/_05_test_7.npy\n",
            "05_test 7\n",
            "file /content/datasets/drive_256_256_dice_bce_0_4__0_4_1//predictions_np/_14_test_0.npy\n",
            "14_test 0\n",
            "file /content/datasets/drive_256_256_dice_bce_0_4__0_4_1//predictions_np/_03_test_3.npy\n",
            "03_test 3\n",
            "file /content/datasets/drive_256_256_dice_bce_0_4__0_4_1//predictions_np/_05_test_2.npy\n",
            "05_test 2\n",
            "file /content/datasets/drive_256_256_dice_bce_0_4__0_4_1//predictions_np/_18_test_6.npy\n",
            "18_test 6\n",
            "file /content/datasets/drive_256_256_dice_bce_0_4__0_4_1//predictions_np/_19_test_8.npy\n",
            "19_test 8\n",
            "file /content/datasets/drive_256_256_dice_bce_0_4__0_4_1//predictions_np/_18_test_8.npy\n",
            "18_test 8\n",
            "file /content/datasets/drive_256_256_dice_bce_0_4__0_4_1//predictions_np/_13_test_5.npy\n",
            "13_test 5\n",
            "file /content/datasets/drive_256_256_dice_bce_0_4__0_4_1//predictions_np/_05_test_6.npy\n",
            "05_test 6\n",
            "file /content/datasets/drive_256_256_dice_bce_0_4__0_4_1//predictions_np/_04_test_7.npy\n",
            "04_test 7\n",
            "file /content/datasets/drive_256_256_dice_bce_0_4__0_4_1//predictions_np/_13_test_4.npy\n",
            "13_test 4\n",
            "file /content/datasets/drive_256_256_dice_bce_0_4__0_4_1//predictions_np/_08_test_6.npy\n",
            "08_test 6\n",
            "file /content/datasets/drive_256_256_dice_bce_0_4__0_4_1//predictions_np/_16_test_3.npy\n",
            "16_test 3\n",
            "file /content/datasets/drive_256_256_dice_bce_0_4__0_4_1//predictions_np/_08_test_1.npy\n",
            "08_test 1\n",
            "file /content/datasets/drive_256_256_dice_bce_0_4__0_4_1//predictions_np/_01_test_3.npy\n",
            "01_test 3\n",
            "file /content/datasets/drive_256_256_dice_bce_0_4__0_4_1//predictions_np/_16_test_7.npy\n",
            "16_test 7\n",
            "file /content/datasets/drive_256_256_dice_bce_0_4__0_4_1//predictions_np/_15_test_1.npy\n",
            "15_test 1\n",
            "file /content/datasets/drive_256_256_dice_bce_0_4__0_4_1//predictions_np/_16_test_0.npy\n",
            "16_test 0\n",
            "file /content/datasets/drive_256_256_dice_bce_0_4__0_4_1//predictions_np/_12_test_2.npy\n",
            "12_test 2\n",
            "file /content/datasets/drive_256_256_dice_bce_0_4__0_4_1//predictions_np/_17_test_2.npy\n",
            "17_test 2\n",
            "file /content/datasets/drive_256_256_dice_bce_0_4__0_4_1//predictions_np/_12_test_3.npy\n",
            "12_test 3\n",
            "file /content/datasets/drive_256_256_dice_bce_0_4__0_4_1//predictions_np/_19_test_1.npy\n",
            "19_test 1\n",
            "file /content/datasets/drive_256_256_dice_bce_0_4__0_4_1//predictions_np/_15_test_7.npy\n",
            "15_test 7\n",
            "file /content/datasets/drive_256_256_dice_bce_0_4__0_4_1//predictions_np/_05_test_0.npy\n",
            "05_test 0\n",
            "file /content/datasets/drive_256_256_dice_bce_0_4__0_4_1//predictions_np/_19_test_2.npy\n",
            "19_test 2\n",
            "file /content/datasets/drive_256_256_dice_bce_0_4__0_4_1//predictions_np/_02_test_3.npy\n",
            "02_test 3\n",
            "file /content/datasets/drive_256_256_dice_bce_0_4__0_4_1//predictions_np/_17_test_0.npy\n",
            "17_test 0\n",
            "file /content/datasets/drive_256_256_dice_bce_0_4__0_4_1//predictions_np/_04_test_0.npy\n",
            "04_test 0\n",
            "file /content/datasets/drive_256_256_dice_bce_0_4__0_4_1//predictions_np/_20_test_2.npy\n",
            "20_test 2\n",
            "file /content/datasets/drive_256_256_dice_bce_0_4__0_4_1//predictions_np/_02_test_5.npy\n",
            "02_test 5\n",
            "file /content/datasets/drive_256_256_dice_bce_0_4__0_4_1//predictions_np/_14_test_6.npy\n",
            "14_test 6\n",
            "file /content/datasets/drive_256_256_dice_bce_0_4__0_4_1//predictions_np/_17_test_3.npy\n",
            "17_test 3\n",
            "file /content/datasets/drive_256_256_dice_bce_0_4__0_4_1//predictions_np/_06_test_3.npy\n",
            "06_test 3\n",
            "file /content/datasets/drive_256_256_dice_bce_0_4__0_4_1//predictions_np/_18_test_7.npy\n",
            "18_test 7\n",
            "file /content/datasets/drive_256_256_dice_bce_0_4__0_4_1//predictions_np/_20_test_1.npy\n",
            "20_test 1\n",
            "file /content/datasets/drive_256_256_dice_bce_0_4__0_4_1//predictions_np/_07_test_4.npy\n",
            "07_test 4\n",
            "file /content/datasets/drive_256_256_dice_bce_0_4__0_4_1//predictions_np/_16_test_5.npy\n",
            "16_test 5\n",
            "file /content/datasets/drive_256_256_dice_bce_0_4__0_4_1//predictions_np/_14_test_5.npy\n",
            "14_test 5\n",
            "file /content/datasets/drive_256_256_dice_bce_0_4__0_4_1//predictions_np/_20_test_3.npy\n",
            "20_test 3\n",
            "file /content/datasets/drive_256_256_dice_bce_0_4__0_4_1//predictions_np/_02_test_2.npy\n",
            "02_test 2\n",
            "file /content/datasets/drive_256_256_dice_bce_0_4__0_4_1//predictions_np/_02_test_7.npy\n",
            "02_test 7\n",
            "file /content/datasets/drive_256_256_dice_bce_0_4__0_4_1//predictions_np/_11_test_2.npy\n",
            "11_test 2\n",
            "file /content/datasets/drive_256_256_dice_bce_0_4__0_4_1//predictions_np/_18_test_2.npy\n",
            "18_test 2\n",
            "file /content/datasets/drive_256_256_dice_bce_0_4__0_4_1//predictions_np/_06_test_5.npy\n",
            "06_test 5\n",
            "file /content/datasets/drive_256_256_dice_bce_0_4__0_4_1//predictions_np/_12_test_8.npy\n",
            "12_test 8\n",
            "file /content/datasets/drive_256_256_dice_bce_0_4__0_4_1//predictions_np/_06_test_8.npy\n",
            "06_test 8\n",
            "file /content/datasets/drive_256_256_dice_bce_0_4__0_4_1//predictions_np/_09_test_4.npy\n",
            "09_test 4\n",
            "file /content/datasets/drive_256_256_dice_bce_0_4__0_4_1//predictions_np/_03_test_4.npy\n",
            "03_test 4\n",
            "file /content/datasets/drive_256_256_dice_bce_0_4__0_4_1//predictions_np/_13_test_6.npy\n",
            "13_test 6\n",
            "file /content/datasets/drive_256_256_dice_bce_0_4__0_4_1//predictions_np/_20_test_5.npy\n",
            "20_test 5\n",
            "file /content/datasets/drive_256_256_dice_bce_0_4__0_4_1//predictions_np/_20_test_4.npy\n",
            "20_test 4\n",
            "file /content/datasets/drive_256_256_dice_bce_0_4__0_4_1//predictions_np/_04_test_6.npy\n",
            "04_test 6\n",
            "file /content/datasets/drive_256_256_dice_bce_0_4__0_4_1//predictions_np/_17_test_4.npy\n",
            "17_test 4\n",
            "file /content/datasets/drive_256_256_dice_bce_0_4__0_4_1//predictions_np/_11_test_1.npy\n",
            "11_test 1\n",
            "file /content/datasets/drive_256_256_dice_bce_0_4__0_4_1//predictions_np/_08_test_3.npy\n",
            "08_test 3\n",
            "file /content/datasets/drive_256_256_dice_bce_0_4__0_4_1//predictions_np/_14_test_2.npy\n",
            "14_test 2\n",
            "file /content/datasets/drive_256_256_dice_bce_0_4__0_4_1//predictions_np/_01_test_5.npy\n",
            "01_test 5\n",
            "file /content/datasets/drive_256_256_dice_bce_0_4__0_4_1//predictions_np/_04_test_2.npy\n",
            "04_test 2\n",
            "file /content/datasets/drive_256_256_dice_bce_0_4__0_4_1//predictions_np/_08_test_5.npy\n",
            "08_test 5\n",
            "file /content/datasets/drive_256_256_dice_bce_0_4__0_4_1//predictions_np/_18_test_4.npy\n",
            "18_test 4\n",
            "file /content/datasets/drive_256_256_dice_bce_0_4__0_4_1//predictions_np/_16_test_1.npy\n",
            "16_test 1\n",
            "file /content/datasets/drive_256_256_dice_bce_0_4__0_4_1//predictions_np/_16_test_6.npy\n",
            "16_test 6\n",
            "file /content/datasets/drive_256_256_dice_bce_0_4__0_4_1//predictions_np/_05_test_1.npy\n",
            "05_test 1\n",
            "file /content/datasets/drive_256_256_dice_bce_0_4__0_4_1//predictions_np/_05_test_3.npy\n",
            "05_test 3\n",
            "file /content/datasets/drive_256_256_dice_bce_0_4__0_4_1//predictions_np/_12_test_7.npy\n",
            "12_test 7\n",
            "file /content/datasets/drive_256_256_dice_bce_0_4__0_4_1//predictions_np/_10_test_0.npy\n",
            "10_test 0\n",
            "file /content/datasets/drive_256_256_dice_bce_0_4__0_4_1//predictions_np/_10_test_3.npy\n",
            "10_test 3\n",
            "file /content/datasets/drive_256_256_dice_bce_0_4__0_4_1//predictions_np/_10_test_4.npy\n",
            "10_test 4\n",
            "file /content/datasets/drive_256_256_dice_bce_0_4__0_4_1//predictions_np/_01_test_4.npy\n",
            "01_test 4\n",
            "file /content/datasets/drive_256_256_dice_bce_0_4__0_4_1//predictions_np/_15_test_4.npy\n",
            "15_test 4\n",
            "file /content/datasets/drive_256_256_dice_bce_0_4__0_4_1//predictions_np/_03_test_8.npy\n",
            "03_test 8\n",
            "file /content/datasets/drive_256_256_dice_bce_0_4__0_4_1//predictions_np/_09_test_1.npy\n",
            "09_test 1\n",
            "file /content/datasets/drive_256_256_dice_bce_0_4__0_4_1//predictions_np/_05_test_5.npy\n",
            "05_test 5\n",
            "file /content/datasets/drive_256_256_dice_bce_0_4__0_4_1//predictions_np/_10_test_5.npy\n",
            "10_test 5\n",
            "file /content/datasets/drive_256_256_dice_bce_0_4__0_4_1//predictions_np/_12_test_5.npy\n",
            "12_test 5\n",
            "file /content/datasets/drive_256_256_dice_bce_0_4__0_4_1//predictions_np/_14_test_3.npy\n",
            "14_test 3\n",
            "file /content/datasets/drive_256_256_dice_bce_0_4__0_4_1//predictions_np/_16_test_8.npy\n",
            "16_test 8\n",
            "file /content/datasets/drive_256_256_dice_bce_0_4__0_4_1//predictions_np/_15_test_6.npy\n",
            "15_test 6\n",
            "file /content/datasets/drive_256_256_dice_bce_0_4__0_4_1//predictions_np/_03_test_2.npy\n",
            "03_test 2\n",
            "file /content/datasets/drive_256_256_dice_bce_0_4__0_4_1//predictions_np/_18_test_1.npy\n",
            "18_test 1\n",
            "file /content/datasets/drive_256_256_dice_bce_0_4__0_4_1//predictions_np/_13_test_8.npy\n",
            "13_test 8\n",
            "file /content/datasets/drive_256_256_dice_bce_0_4__0_4_1//predictions_np/_14_test_7.npy\n",
            "14_test 7\n",
            "file /content/datasets/drive_256_256_dice_bce_0_4__0_4_1//predictions_np/_02_test_0.npy\n",
            "02_test 0\n",
            "file /content/datasets/drive_256_256_dice_bce_0_4__0_4_1//predictions_np/_01_test_0.npy\n",
            "01_test 0\n",
            "file /content/datasets/drive_256_256_dice_bce_0_4__0_4_1//predictions_np/_18_test_3.npy\n",
            "18_test 3\n",
            "file /content/datasets/drive_256_256_dice_bce_0_4__0_4_1//predictions_np/_04_test_5.npy\n",
            "04_test 5\n",
            "file /content/datasets/drive_256_256_dice_bce_0_4__0_4_1//predictions_np/_04_test_8.npy\n",
            "04_test 8\n",
            "file /content/datasets/drive_256_256_dice_bce_0_4__0_4_1//predictions_np/_08_test_0.npy\n",
            "08_test 0\n",
            "file /content/datasets/drive_256_256_dice_bce_0_4__0_4_1//predictions_np/_19_test_5.npy\n",
            "19_test 5\n",
            "file /content/datasets/drive_256_256_dice_bce_0_4__0_4_1//predictions_np/_07_test_6.npy\n",
            "07_test 6\n",
            "file /content/datasets/drive_256_256_dice_bce_0_4__0_4_1//predictions_np/_07_test_5.npy\n",
            "07_test 5\n",
            "file /content/datasets/drive_256_256_dice_bce_0_4__0_4_1//predictions_np/_17_test_5.npy\n",
            "17_test 5\n",
            "file /content/datasets/drive_256_256_dice_bce_0_4__0_4_1//predictions_np/_09_test_7.npy\n",
            "09_test 7\n",
            "file /content/datasets/drive_256_256_dice_bce_0_4__0_4_1//predictions_np/_19_test_0.npy\n",
            "19_test 0\n"
          ]
        }
      ]
    },
    {
      "cell_type": "code",
      "source": [
        "reconstructed_predictions_path = f\"{data_path}/{split_name}/reconstructed/{split}/predictions_reconstructed\"\n",
        "create_dir(reconstructed_predictions_path)\n",
        "reconstruct_patches(predicted_patches_dict,\n",
        "                    metadata_test_df,\n",
        "                    reconstructed_predictions_path,\n",
        "                    mfactor=255\n",
        "                    )\n"
      ],
      "metadata": {
        "id": "2kB-A6HbLNsv"
      },
      "execution_count": null,
      "outputs": []
    },
    {
      "cell_type": "code",
      "source": [
        "!pwd"
      ],
      "metadata": {
        "id": "z_uMeATOLyQP",
        "colab": {
          "base_uri": "https://localhost:8080/"
        },
        "outputId": "56b6b4b1-a832-40d5-929e-ca97aaf8f12e"
      },
      "execution_count": null,
      "outputs": [
        {
          "output_type": "stream",
          "name": "stdout",
          "text": [
            "/content/datasets\n"
          ]
        }
      ]
    },
    {
      "cell_type": "code",
      "source": [
        "def read_mask(path):\n",
        "    print(path)\n",
        "    x = cv2.imread(path, cv2.IMREAD_GRAYSCALE)  ## (512, 512)\n",
        "    # x = cv2.resize(x, (W, H))\n",
        "    ori_x = x\n",
        "    x = x/255.0\n",
        "#    x = x.astype(np.int32)\n",
        "    return ori_x, x"
      ],
      "metadata": {
        "id": "2OzcJGOQg4Dy"
      },
      "execution_count": null,
      "outputs": []
    },
    {
      "cell_type": "code",
      "source": [
        "def save_results(ori_x, ori_y, y_pred, save_image_path):\n",
        "    line = np.ones((ori_x.shape[0], 10, 3)) * 255\n",
        "\n",
        "    ori_y = np.expand_dims(ori_y, axis=-1)\n",
        "    ori_y = np.concatenate([ori_y, ori_y, ori_y], axis=-1)\n",
        "\n",
        "    y_pred = np.expand_dims(y_pred, axis=-1)\n",
        "    y_pred = np.concatenate([y_pred, y_pred, y_pred], axis=-1) * 255\n",
        "\n",
        "    cat_images = np.concatenate([ori_x, line, ori_y, line, y_pred], axis=1)\n",
        "    print(f\"Saving image of size {cat_images.shape} to {save_image_path}\")\n",
        "    cv2.imwrite(save_image_path, cat_images)"
      ],
      "metadata": {
        "id": "M5ILDoicjTef"
      },
      "execution_count": null,
      "outputs": []
    },
    {
      "cell_type": "code",
      "source": [
        "results_path_reconstructed = f\"{root_path}/results_reconstructed/\"\n",
        "create_dir(results_path_reconstructed)"
      ],
      "metadata": {
        "id": "bS5LTt4QXwQi"
      },
      "execution_count": null,
      "outputs": []
    },
    {
      "cell_type": "code",
      "source": [
        "from glob import glob"
      ],
      "metadata": {
        "id": "6sKjdzsaNloF"
      },
      "execution_count": null,
      "outputs": []
    },
    {
      "cell_type": "code",
      "source": [
        "dataset_path = f\"{root_path}/{split_name}/{split}/\"\n",
        "df_0_4, score_0_4 = compute_metrics(dataset_path,\n",
        "                    results_path=results_path,\n",
        "                    threshold=0.4,\n",
        "                    model=model,\n",
        "                    predictions_path=prediction_path,\n",
        "                    prediction_np_path=prediction_np_path)"
      ],
      "metadata": {
        "id": "_iqapJ3ITb7l",
        "colab": {
          "base_uri": "https://localhost:8080/"
        },
        "outputId": "95c9bc02-f3dd-4947-ecb5-09658aaa6ca7"
      },
      "execution_count": null,
      "outputs": [
        {
          "output_type": "stream",
          "name": "stdout",
          "text": [
            "Threshold 0.4\n"
          ]
        },
        {
          "output_type": "stream",
          "name": "stderr",
          "text": [
            "\r  0%|          | 0/180 [00:00<?, ?it/s]"
          ]
        },
        {
          "output_type": "stream",
          "name": "stdout",
          "text": [
            "_01_test_0\n",
            "(256, 256, 1) 1.0 0.0017256661\n",
            "(256, 256, 3) (256, 256) (256, 256)\n"
          ]
        },
        {
          "output_type": "stream",
          "name": "stderr",
          "text": [
            "\r  1%|          | 1/180 [00:00<00:33,  5.40it/s]"
          ]
        },
        {
          "output_type": "stream",
          "name": "stdout",
          "text": [
            "_01_test_1\n"
          ]
        },
        {
          "output_type": "stream",
          "name": "stderr",
          "text": [
            "\r  1%|          | 2/180 [00:00<00:32,  5.44it/s]"
          ]
        },
        {
          "output_type": "stream",
          "name": "stdout",
          "text": [
            "(256, 256, 1) 1.0 0.0020369026\n",
            "(256, 256, 3) (256, 256) (256, 256)\n",
            "_01_test_2\n",
            "(256, 256, 1) 1.0 0.002152618\n",
            "(256, 256, 3) (256, 256) (256, 256)\n"
          ]
        },
        {
          "output_type": "stream",
          "name": "stderr",
          "text": [
            "\r  2%|▏         | 3/180 [00:00<00:31,  5.64it/s]"
          ]
        },
        {
          "output_type": "stream",
          "name": "stdout",
          "text": [
            "_01_test_3\n",
            "(256, 256, 1) 1.0 0.0016759018\n",
            "(256, 256, 3) (256, 256) (256, 256)\n"
          ]
        },
        {
          "output_type": "stream",
          "name": "stderr",
          "text": [
            "\r  2%|▏         | 4/180 [00:00<00:31,  5.65it/s]"
          ]
        },
        {
          "output_type": "stream",
          "name": "stdout",
          "text": [
            "_01_test_4\n"
          ]
        },
        {
          "output_type": "stream",
          "name": "stderr",
          "text": [
            "\r  3%|▎         | 5/180 [00:00<00:31,  5.61it/s]"
          ]
        },
        {
          "output_type": "stream",
          "name": "stdout",
          "text": [
            "(256, 256, 1) 1.0 0.001604261\n",
            "(256, 256, 3) (256, 256) (256, 256)\n",
            "_01_test_5\n",
            "(256, 256, 1) 1.0 0.0017435929\n",
            "(256, 256, 3) (256, 256) (256, 256)\n"
          ]
        },
        {
          "output_type": "stream",
          "name": "stderr",
          "text": [
            "\r  3%|▎         | 6/180 [00:01<00:31,  5.54it/s]"
          ]
        },
        {
          "output_type": "stream",
          "name": "stdout",
          "text": [
            "_01_test_6\n",
            "(256, 256, 1) 1.0 0.0025877478\n",
            "(256, 256, 3) (256, 256) (256, 256)\n"
          ]
        },
        {
          "output_type": "stream",
          "name": "stderr",
          "text": [
            "\r  4%|▍         | 7/180 [00:01<00:30,  5.65it/s]"
          ]
        },
        {
          "output_type": "stream",
          "name": "stdout",
          "text": [
            "_01_test_7\n"
          ]
        },
        {
          "output_type": "stream",
          "name": "stderr",
          "text": [
            "\r  4%|▍         | 8/180 [00:01<00:30,  5.62it/s]"
          ]
        },
        {
          "output_type": "stream",
          "name": "stdout",
          "text": [
            "(256, 256, 1) 1.0 0.0023314562\n",
            "(256, 256, 3) (256, 256) (256, 256)\n",
            "_01_test_8\n",
            "(256, 256, 1) 1.0 0.0017791559\n",
            "(256, 256, 3) (256, 256) (256, 256)\n"
          ]
        },
        {
          "output_type": "stream",
          "name": "stderr",
          "text": [
            "\r  5%|▌         | 9/180 [00:01<00:30,  5.68it/s]"
          ]
        },
        {
          "output_type": "stream",
          "name": "stdout",
          "text": [
            "_02_test_0\n",
            "(256, 256, 1) 1.0 0.0017755901\n",
            "(256, 256, 3) (256, 256) (256, 256)\n"
          ]
        },
        {
          "output_type": "stream",
          "name": "stderr",
          "text": [
            "\r  6%|▌         | 10/180 [00:01<00:29,  5.75it/s]"
          ]
        },
        {
          "output_type": "stream",
          "name": "stdout",
          "text": [
            "_02_test_1\n"
          ]
        },
        {
          "output_type": "stream",
          "name": "stderr",
          "text": [
            "\r  6%|▌         | 11/180 [00:01<00:29,  5.74it/s]"
          ]
        },
        {
          "output_type": "stream",
          "name": "stdout",
          "text": [
            "(256, 256, 1) 1.0 0.0016452193\n",
            "(256, 256, 3) (256, 256) (256, 256)\n",
            "_02_test_2\n",
            "(256, 256, 1) 1.0 0.002341969\n",
            "(256, 256, 3) (256, 256) (256, 256)\n"
          ]
        },
        {
          "output_type": "stream",
          "name": "stderr",
          "text": [
            "\r  7%|▋         | 12/180 [00:02<00:29,  5.67it/s]"
          ]
        },
        {
          "output_type": "stream",
          "name": "stdout",
          "text": [
            "_02_test_3\n",
            "(256, 256, 1) 1.0 0.0023959489\n",
            "(256, 256, 3) (256, 256) (256, 256)\n"
          ]
        },
        {
          "output_type": "stream",
          "name": "stderr",
          "text": [
            "\r  7%|▋         | 13/180 [00:02<00:29,  5.71it/s]"
          ]
        },
        {
          "output_type": "stream",
          "name": "stdout",
          "text": [
            "_02_test_4\n"
          ]
        },
        {
          "output_type": "stream",
          "name": "stderr",
          "text": [
            "\r  8%|▊         | 14/180 [00:02<00:29,  5.64it/s]"
          ]
        },
        {
          "output_type": "stream",
          "name": "stdout",
          "text": [
            "(256, 256, 1) 1.0 0.002384911\n",
            "(256, 256, 3) (256, 256) (256, 256)\n",
            "_02_test_5\n",
            "(256, 256, 1) 1.0 0.0021416966\n",
            "(256, 256, 3) (256, 256) (256, 256)\n"
          ]
        },
        {
          "output_type": "stream",
          "name": "stderr",
          "text": [
            "\r  8%|▊         | 15/180 [00:02<00:29,  5.60it/s]"
          ]
        },
        {
          "output_type": "stream",
          "name": "stdout",
          "text": [
            "_02_test_6\n",
            "(256, 256, 1) 1.0 0.0033286328\n",
            "(256, 256, 3) (256, 256) (256, 256)\n"
          ]
        },
        {
          "output_type": "stream",
          "name": "stderr",
          "text": [
            "\r  9%|▉         | 16/180 [00:02<00:28,  5.69it/s]"
          ]
        },
        {
          "output_type": "stream",
          "name": "stdout",
          "text": [
            "_02_test_7\n"
          ]
        },
        {
          "output_type": "stream",
          "name": "stderr",
          "text": [
            "\r  9%|▉         | 17/180 [00:03<00:28,  5.69it/s]"
          ]
        },
        {
          "output_type": "stream",
          "name": "stdout",
          "text": [
            "(256, 256, 1) 1.0 0.0023116264\n",
            "(256, 256, 3) (256, 256) (256, 256)\n",
            "_02_test_8\n",
            "(256, 256, 1) 1.0 0.002646284\n",
            "(256, 256, 3) (256, 256) (256, 256)\n"
          ]
        },
        {
          "output_type": "stream",
          "name": "stderr",
          "text": [
            "\r 10%|█         | 18/180 [00:03<00:28,  5.73it/s]"
          ]
        },
        {
          "output_type": "stream",
          "name": "stdout",
          "text": [
            "_03_test_0\n",
            "(256, 256, 1) 1.0 0.0018097726\n",
            "(256, 256, 3) (256, 256) (256, 256)\n"
          ]
        },
        {
          "output_type": "stream",
          "name": "stderr",
          "text": [
            "\r 11%|█         | 19/180 [00:03<00:27,  5.77it/s]"
          ]
        },
        {
          "output_type": "stream",
          "name": "stdout",
          "text": [
            "_03_test_1\n"
          ]
        },
        {
          "output_type": "stream",
          "name": "stderr",
          "text": [
            "\r 11%|█         | 20/180 [00:03<00:28,  5.71it/s]"
          ]
        },
        {
          "output_type": "stream",
          "name": "stdout",
          "text": [
            "(256, 256, 1) 1.0 0.0025355031\n",
            "(256, 256, 3) (256, 256) (256, 256)\n",
            "_03_test_2\n",
            "(256, 256, 1) 1.0 0.0020465907\n",
            "(256, 256, 3) (256, 256) (256, 256)\n"
          ]
        },
        {
          "output_type": "stream",
          "name": "stderr",
          "text": [
            "\r 12%|█▏        | 21/180 [00:03<00:27,  5.72it/s]"
          ]
        },
        {
          "output_type": "stream",
          "name": "stdout",
          "text": [
            "_03_test_3\n",
            "(256, 256, 1) 1.0 0.0025028072\n",
            "(256, 256, 3) (256, 256) (256, 256)\n"
          ]
        },
        {
          "output_type": "stream",
          "name": "stderr",
          "text": [
            "\r 12%|█▏        | 22/180 [00:03<00:28,  5.61it/s]"
          ]
        },
        {
          "output_type": "stream",
          "name": "stdout",
          "text": [
            "_03_test_4\n"
          ]
        },
        {
          "output_type": "stream",
          "name": "stderr",
          "text": [
            "\r 13%|█▎        | 23/180 [00:04<00:28,  5.54it/s]"
          ]
        },
        {
          "output_type": "stream",
          "name": "stdout",
          "text": [
            "(256, 256, 1) 1.0 0.0025430021\n",
            "(256, 256, 3) (256, 256) (256, 256)\n",
            "_03_test_5\n",
            "(256, 256, 1) 1.0 0.0021588749\n",
            "(256, 256, 3) (256, 256) (256, 256)\n"
          ]
        },
        {
          "output_type": "stream",
          "name": "stderr",
          "text": [
            "\r 13%|█▎        | 24/180 [00:04<00:28,  5.56it/s]"
          ]
        },
        {
          "output_type": "stream",
          "name": "stdout",
          "text": [
            "_03_test_6\n",
            "(256, 256, 1) 1.0 0.0031320327\n",
            "(256, 256, 3) (256, 256) (256, 256)\n"
          ]
        },
        {
          "output_type": "stream",
          "name": "stderr",
          "text": [
            "\r 14%|█▍        | 25/180 [00:04<00:27,  5.65it/s]"
          ]
        },
        {
          "output_type": "stream",
          "name": "stdout",
          "text": [
            "_03_test_7\n"
          ]
        },
        {
          "output_type": "stream",
          "name": "stderr",
          "text": [
            "\r 14%|█▍        | 26/180 [00:04<00:27,  5.69it/s]"
          ]
        },
        {
          "output_type": "stream",
          "name": "stdout",
          "text": [
            "(256, 256, 1) 1.0 0.0028383336\n",
            "(256, 256, 3) (256, 256) (256, 256)\n",
            "_03_test_8\n",
            "(256, 256, 1) 1.0 0.0024908672\n",
            "(256, 256, 3) (256, 256) (256, 256)\n"
          ]
        },
        {
          "output_type": "stream",
          "name": "stderr",
          "text": [
            "\r 15%|█▌        | 27/180 [00:04<00:26,  5.70it/s]"
          ]
        },
        {
          "output_type": "stream",
          "name": "stdout",
          "text": [
            "_04_test_0\n",
            "(256, 256, 1) 1.0 0.0012829596\n",
            "(256, 256, 3) (256, 256) (256, 256)\n"
          ]
        },
        {
          "output_type": "stream",
          "name": "stderr",
          "text": [
            "\r 16%|█▌        | 28/180 [00:04<00:26,  5.76it/s]"
          ]
        },
        {
          "output_type": "stream",
          "name": "stdout",
          "text": [
            "_04_test_1\n"
          ]
        },
        {
          "output_type": "stream",
          "name": "stderr",
          "text": [
            "\r 16%|█▌        | 29/180 [00:05<00:26,  5.72it/s]"
          ]
        },
        {
          "output_type": "stream",
          "name": "stdout",
          "text": [
            "(256, 256, 1) 1.0 0.0014706979\n",
            "(256, 256, 3) (256, 256) (256, 256)\n",
            "_04_test_2\n",
            "(256, 256, 1) 1.0 0.0022802567\n",
            "(256, 256, 3) (256, 256) (256, 256)\n"
          ]
        },
        {
          "output_type": "stream",
          "name": "stderr",
          "text": [
            "\r 17%|█▋        | 30/180 [00:05<00:26,  5.72it/s]"
          ]
        },
        {
          "output_type": "stream",
          "name": "stdout",
          "text": [
            "_04_test_3\n",
            "(256, 256, 1) 1.0 0.0017599494\n",
            "(256, 256, 3) (256, 256) (256, 256)\n"
          ]
        },
        {
          "output_type": "stream",
          "name": "stderr",
          "text": [
            "\r 17%|█▋        | 31/180 [00:05<00:26,  5.73it/s]"
          ]
        },
        {
          "output_type": "stream",
          "name": "stdout",
          "text": [
            "_04_test_4\n"
          ]
        },
        {
          "output_type": "stream",
          "name": "stderr",
          "text": [
            "\r 18%|█▊        | 32/180 [00:05<00:26,  5.60it/s]"
          ]
        },
        {
          "output_type": "stream",
          "name": "stdout",
          "text": [
            "(256, 256, 1) 1.0 0.0012744246\n",
            "(256, 256, 3) (256, 256) (256, 256)\n",
            "_04_test_5\n",
            "(256, 256, 1) 1.0 0.002054777\n",
            "(256, 256, 3) (256, 256) (256, 256)\n"
          ]
        },
        {
          "output_type": "stream",
          "name": "stderr",
          "text": [
            "\r 18%|█▊        | 33/180 [00:05<00:26,  5.58it/s]"
          ]
        },
        {
          "output_type": "stream",
          "name": "stdout",
          "text": [
            "_04_test_6\n",
            "(256, 256, 1) 0.99999857 0.0028648216\n",
            "(256, 256, 3) (256, 256) (256, 256)\n"
          ]
        },
        {
          "output_type": "stream",
          "name": "stderr",
          "text": [
            "\r 19%|█▉        | 34/180 [00:06<00:26,  5.59it/s]"
          ]
        },
        {
          "output_type": "stream",
          "name": "stdout",
          "text": [
            "_04_test_7\n"
          ]
        },
        {
          "output_type": "stream",
          "name": "stderr",
          "text": [
            "\r 19%|█▉        | 35/180 [00:06<00:25,  5.60it/s]"
          ]
        },
        {
          "output_type": "stream",
          "name": "stdout",
          "text": [
            "(256, 256, 1) 1.0 0.0027964541\n",
            "(256, 256, 3) (256, 256) (256, 256)\n",
            "_04_test_8\n",
            "(256, 256, 1) 1.0 0.0019611155\n",
            "(256, 256, 3) (256, 256) (256, 256)\n"
          ]
        },
        {
          "output_type": "stream",
          "name": "stderr",
          "text": [
            "\r 20%|██        | 36/180 [00:06<00:25,  5.66it/s]"
          ]
        },
        {
          "output_type": "stream",
          "name": "stdout",
          "text": [
            "_05_test_0\n",
            "(256, 256, 1) 1.0 0.002165124\n",
            "(256, 256, 3) (256, 256) (256, 256)\n"
          ]
        },
        {
          "output_type": "stream",
          "name": "stderr",
          "text": [
            "\r 21%|██        | 37/180 [00:06<00:25,  5.68it/s]"
          ]
        },
        {
          "output_type": "stream",
          "name": "stdout",
          "text": [
            "_05_test_1\n"
          ]
        },
        {
          "output_type": "stream",
          "name": "stderr",
          "text": [
            "\r 21%|██        | 38/180 [00:06<00:25,  5.65it/s]"
          ]
        },
        {
          "output_type": "stream",
          "name": "stdout",
          "text": [
            "(256, 256, 1) 1.0 0.002417236\n",
            "(256, 256, 3) (256, 256) (256, 256)\n",
            "_05_test_2\n",
            "(256, 256, 1) 0.9999999 0.0023038173\n",
            "(256, 256, 3) (256, 256) (256, 256)\n"
          ]
        },
        {
          "output_type": "stream",
          "name": "stderr",
          "text": [
            "\r 22%|██▏       | 39/180 [00:06<00:24,  5.72it/s]"
          ]
        },
        {
          "output_type": "stream",
          "name": "stdout",
          "text": [
            "_05_test_3\n",
            "(256, 256, 1) 1.0 0.002237788\n",
            "(256, 256, 3) (256, 256) (256, 256)\n"
          ]
        },
        {
          "output_type": "stream",
          "name": "stderr",
          "text": [
            "\r 22%|██▏       | 40/180 [00:07<00:24,  5.68it/s]"
          ]
        },
        {
          "output_type": "stream",
          "name": "stdout",
          "text": [
            "_05_test_4\n"
          ]
        },
        {
          "output_type": "stream",
          "name": "stderr",
          "text": [
            "\r 23%|██▎       | 41/180 [00:07<00:24,  5.56it/s]"
          ]
        },
        {
          "output_type": "stream",
          "name": "stdout",
          "text": [
            "(256, 256, 1) 1.0 0.003301608\n",
            "(256, 256, 3) (256, 256) (256, 256)\n",
            "_05_test_5\n",
            "(256, 256, 1) 1.0 0.002166299\n",
            "(256, 256, 3) (256, 256) (256, 256)\n"
          ]
        },
        {
          "output_type": "stream",
          "name": "stderr",
          "text": [
            "\r 23%|██▎       | 42/180 [00:07<00:24,  5.61it/s]"
          ]
        },
        {
          "output_type": "stream",
          "name": "stdout",
          "text": [
            "_05_test_6\n",
            "(256, 256, 1) 1.0 0.0033726399\n",
            "(256, 256, 3) (256, 256) (256, 256)\n"
          ]
        },
        {
          "output_type": "stream",
          "name": "stderr",
          "text": [
            "\r 24%|██▍       | 43/180 [00:07<00:24,  5.67it/s]"
          ]
        },
        {
          "output_type": "stream",
          "name": "stdout",
          "text": [
            "_05_test_7\n"
          ]
        },
        {
          "output_type": "stream",
          "name": "stderr",
          "text": [
            "\r 24%|██▍       | 44/180 [00:07<00:24,  5.66it/s]"
          ]
        },
        {
          "output_type": "stream",
          "name": "stdout",
          "text": [
            "(256, 256, 1) 1.0 0.0028968523\n",
            "(256, 256, 3) (256, 256) (256, 256)\n",
            "_05_test_8\n",
            "(256, 256, 1) 1.0 0.0022604223\n",
            "(256, 256, 3) (256, 256) (256, 256)\n"
          ]
        },
        {
          "output_type": "stream",
          "name": "stderr",
          "text": [
            "\r 25%|██▌       | 45/180 [00:07<00:23,  5.71it/s]"
          ]
        },
        {
          "output_type": "stream",
          "name": "stdout",
          "text": [
            "_06_test_0\n",
            "(256, 256, 1) 1.0 0.002033931\n",
            "(256, 256, 3) (256, 256) (256, 256)\n"
          ]
        },
        {
          "output_type": "stream",
          "name": "stderr",
          "text": [
            "\r 26%|██▌       | 46/180 [00:08<00:23,  5.80it/s]"
          ]
        },
        {
          "output_type": "stream",
          "name": "stdout",
          "text": [
            "_06_test_1\n"
          ]
        },
        {
          "output_type": "stream",
          "name": "stderr",
          "text": [
            "\r 26%|██▌       | 47/180 [00:08<00:22,  5.78it/s]"
          ]
        },
        {
          "output_type": "stream",
          "name": "stdout",
          "text": [
            "(256, 256, 1) 1.0 0.0023675053\n",
            "(256, 256, 3) (256, 256) (256, 256)\n",
            "_06_test_2\n",
            "(256, 256, 1) 1.0 0.0021209419\n",
            "(256, 256, 3) (256, 256) (256, 256)\n"
          ]
        },
        {
          "output_type": "stream",
          "name": "stderr",
          "text": [
            "\r 27%|██▋       | 48/180 [00:08<00:22,  5.81it/s]"
          ]
        },
        {
          "output_type": "stream",
          "name": "stdout",
          "text": [
            "_06_test_3\n",
            "(256, 256, 1) 1.0 0.0027505804\n",
            "(256, 256, 3) (256, 256) (256, 256)\n"
          ]
        },
        {
          "output_type": "stream",
          "name": "stderr",
          "text": [
            "\r 27%|██▋       | 49/180 [00:08<00:22,  5.78it/s]"
          ]
        },
        {
          "output_type": "stream",
          "name": "stdout",
          "text": [
            "_06_test_4\n"
          ]
        },
        {
          "output_type": "stream",
          "name": "stderr",
          "text": [
            "\r 28%|██▊       | 50/180 [00:08<00:22,  5.67it/s]"
          ]
        },
        {
          "output_type": "stream",
          "name": "stdout",
          "text": [
            "(256, 256, 1) 1.0 0.0019893735\n",
            "(256, 256, 3) (256, 256) (256, 256)\n",
            "_06_test_5\n",
            "(256, 256, 1) 1.0 0.0014280683\n",
            "(256, 256, 3) (256, 256) (256, 256)\n"
          ]
        },
        {
          "output_type": "stream",
          "name": "stderr",
          "text": [
            "\r 28%|██▊       | 51/180 [00:09<00:23,  5.57it/s]"
          ]
        },
        {
          "output_type": "stream",
          "name": "stdout",
          "text": [
            "_06_test_6\n",
            "(256, 256, 1) 1.0 0.0025323986\n",
            "(256, 256, 3) (256, 256) (256, 256)\n"
          ]
        },
        {
          "output_type": "stream",
          "name": "stderr",
          "text": [
            "\r 29%|██▉       | 52/180 [00:09<00:22,  5.64it/s]"
          ]
        },
        {
          "output_type": "stream",
          "name": "stdout",
          "text": [
            "_06_test_7\n"
          ]
        },
        {
          "output_type": "stream",
          "name": "stderr",
          "text": [
            "\r 29%|██▉       | 53/180 [00:09<00:22,  5.65it/s]"
          ]
        },
        {
          "output_type": "stream",
          "name": "stdout",
          "text": [
            "(256, 256, 1) 1.0 0.0027085221\n",
            "(256, 256, 3) (256, 256) (256, 256)\n",
            "_06_test_8\n",
            "(256, 256, 1) 1.0 0.0023341775\n",
            "(256, 256, 3) (256, 256) (256, 256)\n"
          ]
        },
        {
          "output_type": "stream",
          "name": "stderr",
          "text": [
            "\r 30%|███       | 54/180 [00:09<00:22,  5.66it/s]"
          ]
        },
        {
          "output_type": "stream",
          "name": "stdout",
          "text": [
            "_07_test_0\n",
            "(256, 256, 1) 1.0 0.0018980202\n",
            "(256, 256, 3) (256, 256) (256, 256)\n"
          ]
        },
        {
          "output_type": "stream",
          "name": "stderr",
          "text": [
            "\r 31%|███       | 55/180 [00:09<00:21,  5.75it/s]"
          ]
        },
        {
          "output_type": "stream",
          "name": "stdout",
          "text": [
            "_07_test_1\n"
          ]
        },
        {
          "output_type": "stream",
          "name": "stderr",
          "text": [
            "\r 31%|███       | 56/180 [00:09<00:21,  5.68it/s]"
          ]
        },
        {
          "output_type": "stream",
          "name": "stdout",
          "text": [
            "(256, 256, 1) 1.0 0.0020291882\n",
            "(256, 256, 3) (256, 256) (256, 256)\n",
            "_07_test_2\n",
            "(256, 256, 1) 1.0 0.002134434\n",
            "(256, 256, 3) (256, 256) (256, 256)\n"
          ]
        },
        {
          "output_type": "stream",
          "name": "stderr",
          "text": [
            "\r 32%|███▏      | 57/180 [00:10<00:21,  5.73it/s]"
          ]
        },
        {
          "output_type": "stream",
          "name": "stdout",
          "text": [
            "_07_test_3\n",
            "(256, 256, 1) 1.0 0.0029366326\n",
            "(256, 256, 3) (256, 256) (256, 256)\n"
          ]
        },
        {
          "output_type": "stream",
          "name": "stderr",
          "text": [
            "\r 32%|███▏      | 58/180 [00:10<00:21,  5.65it/s]"
          ]
        },
        {
          "output_type": "stream",
          "name": "stdout",
          "text": [
            "_07_test_4\n"
          ]
        },
        {
          "output_type": "stream",
          "name": "stderr",
          "text": [
            "\r 33%|███▎      | 59/180 [00:10<00:21,  5.62it/s]"
          ]
        },
        {
          "output_type": "stream",
          "name": "stdout",
          "text": [
            "(256, 256, 1) 1.0 0.0033602347\n",
            "(256, 256, 3) (256, 256) (256, 256)\n",
            "_07_test_5\n",
            "(256, 256, 1) 1.0 0.0022956075\n",
            "(256, 256, 3) (256, 256) (256, 256)\n"
          ]
        },
        {
          "output_type": "stream",
          "name": "stderr",
          "text": [
            "\r 33%|███▎      | 60/180 [00:10<00:21,  5.61it/s]"
          ]
        },
        {
          "output_type": "stream",
          "name": "stdout",
          "text": [
            "_07_test_6\n",
            "(256, 256, 1) 1.0 0.0028522382\n",
            "(256, 256, 3) (256, 256) (256, 256)\n"
          ]
        },
        {
          "output_type": "stream",
          "name": "stderr",
          "text": [
            "\r 34%|███▍      | 61/180 [00:10<00:21,  5.57it/s]"
          ]
        },
        {
          "output_type": "stream",
          "name": "stdout",
          "text": [
            "_07_test_7\n"
          ]
        },
        {
          "output_type": "stream",
          "name": "stderr",
          "text": [
            "\r 34%|███▍      | 62/180 [00:10<00:20,  5.67it/s]"
          ]
        },
        {
          "output_type": "stream",
          "name": "stdout",
          "text": [
            "(256, 256, 1) 1.0 0.0031234513\n",
            "(256, 256, 3) (256, 256) (256, 256)\n",
            "_07_test_8\n",
            "(256, 256, 1) 1.0 0.0026930815\n",
            "(256, 256, 3) (256, 256) (256, 256)\n"
          ]
        },
        {
          "output_type": "stream",
          "name": "stderr",
          "text": [
            "\r 35%|███▌      | 63/180 [00:11<00:20,  5.68it/s]"
          ]
        },
        {
          "output_type": "stream",
          "name": "stdout",
          "text": [
            "_08_test_0\n",
            "(256, 256, 1) 1.0 0.00195812\n",
            "(256, 256, 3) (256, 256) (256, 256)\n"
          ]
        },
        {
          "output_type": "stream",
          "name": "stderr",
          "text": [
            "\r 36%|███▌      | 64/180 [00:11<00:20,  5.71it/s]"
          ]
        },
        {
          "output_type": "stream",
          "name": "stdout",
          "text": [
            "_08_test_1\n"
          ]
        },
        {
          "output_type": "stream",
          "name": "stderr",
          "text": [
            "\r 36%|███▌      | 65/180 [00:11<00:20,  5.73it/s]"
          ]
        },
        {
          "output_type": "stream",
          "name": "stdout",
          "text": [
            "(256, 256, 1) 1.0 0.0025560558\n",
            "(256, 256, 3) (256, 256) (256, 256)\n",
            "_08_test_2\n",
            "(256, 256, 1) 1.0 0.0026134255\n",
            "(256, 256, 3) (256, 256) (256, 256)\n"
          ]
        },
        {
          "output_type": "stream",
          "name": "stderr",
          "text": [
            "\r 37%|███▋      | 66/180 [00:11<00:19,  5.75it/s]"
          ]
        },
        {
          "output_type": "stream",
          "name": "stdout",
          "text": [
            "_08_test_3\n",
            "(256, 256, 1) 1.0 0.0024467187\n",
            "(256, 256, 3) (256, 256) (256, 256)\n"
          ]
        },
        {
          "output_type": "stream",
          "name": "stderr",
          "text": [
            "\r 37%|███▋      | 67/180 [00:11<00:19,  5.76it/s]"
          ]
        },
        {
          "output_type": "stream",
          "name": "stdout",
          "text": [
            "_08_test_4\n"
          ]
        },
        {
          "output_type": "stream",
          "name": "stderr",
          "text": [
            "\r 38%|███▊      | 68/180 [00:11<00:19,  5.70it/s]"
          ]
        },
        {
          "output_type": "stream",
          "name": "stdout",
          "text": [
            "(256, 256, 1) 1.0 0.003832755\n",
            "(256, 256, 3) (256, 256) (256, 256)\n",
            "_08_test_5\n",
            "(256, 256, 1) 1.0 0.0016224417\n",
            "(256, 256, 3) (256, 256) (256, 256)\n"
          ]
        },
        {
          "output_type": "stream",
          "name": "stderr",
          "text": [
            "\r 38%|███▊      | 69/180 [00:12<00:19,  5.67it/s]"
          ]
        },
        {
          "output_type": "stream",
          "name": "stdout",
          "text": [
            "_08_test_6\n",
            "(256, 256, 1) 1.0 0.0032911408\n",
            "(256, 256, 3) (256, 256) (256, 256)\n"
          ]
        },
        {
          "output_type": "stream",
          "name": "stderr",
          "text": [
            "\r 39%|███▉      | 70/180 [00:12<00:19,  5.68it/s]"
          ]
        },
        {
          "output_type": "stream",
          "name": "stdout",
          "text": [
            "_08_test_7\n"
          ]
        },
        {
          "output_type": "stream",
          "name": "stderr",
          "text": [
            "\r 39%|███▉      | 71/180 [00:12<00:19,  5.64it/s]"
          ]
        },
        {
          "output_type": "stream",
          "name": "stdout",
          "text": [
            "(256, 256, 1) 1.0 0.0029218476\n",
            "(256, 256, 3) (256, 256) (256, 256)\n",
            "_08_test_8\n",
            "(256, 256, 1) 1.0 0.0022228411\n",
            "(256, 256, 3) (256, 256) (256, 256)\n"
          ]
        },
        {
          "output_type": "stream",
          "name": "stderr",
          "text": [
            "\r 40%|████      | 72/180 [00:12<00:19,  5.65it/s]"
          ]
        },
        {
          "output_type": "stream",
          "name": "stdout",
          "text": [
            "_09_test_0\n",
            "(256, 256, 1) 1.0 0.001996552\n",
            "(256, 256, 3) (256, 256) (256, 256)\n"
          ]
        },
        {
          "output_type": "stream",
          "name": "stderr",
          "text": [
            "\r 41%|████      | 73/180 [00:12<00:18,  5.72it/s]"
          ]
        },
        {
          "output_type": "stream",
          "name": "stdout",
          "text": [
            "_09_test_1\n"
          ]
        },
        {
          "output_type": "stream",
          "name": "stderr",
          "text": [
            "\r 41%|████      | 74/180 [00:13<00:18,  5.68it/s]"
          ]
        },
        {
          "output_type": "stream",
          "name": "stdout",
          "text": [
            "(256, 256, 1) 1.0 0.001981949\n",
            "(256, 256, 3) (256, 256) (256, 256)\n",
            "_09_test_2\n",
            "(256, 256, 1) 0.9962674 0.0020765332\n",
            "(256, 256, 3) (256, 256) (256, 256)\n"
          ]
        },
        {
          "output_type": "stream",
          "name": "stderr",
          "text": [
            "\r 42%|████▏     | 75/180 [00:13<00:18,  5.70it/s]"
          ]
        },
        {
          "output_type": "stream",
          "name": "stdout",
          "text": [
            "_09_test_3\n",
            "(256, 256, 1) 1.0 0.0017800448\n",
            "(256, 256, 3) (256, 256) (256, 256)\n"
          ]
        },
        {
          "output_type": "stream",
          "name": "stderr",
          "text": [
            "\r 42%|████▏     | 76/180 [00:13<00:18,  5.64it/s]"
          ]
        },
        {
          "output_type": "stream",
          "name": "stdout",
          "text": [
            "_09_test_4\n"
          ]
        },
        {
          "output_type": "stream",
          "name": "stderr",
          "text": [
            "\r 43%|████▎     | 77/180 [00:13<00:18,  5.59it/s]"
          ]
        },
        {
          "output_type": "stream",
          "name": "stdout",
          "text": [
            "(256, 256, 1) 1.0 0.0024476885\n",
            "(256, 256, 3) (256, 256) (256, 256)\n",
            "_09_test_5\n",
            "(256, 256, 1) 1.0 0.002433619\n",
            "(256, 256, 3) (256, 256) (256, 256)\n"
          ]
        },
        {
          "output_type": "stream",
          "name": "stderr",
          "text": [
            "\r 43%|████▎     | 78/180 [00:13<00:18,  5.57it/s]"
          ]
        },
        {
          "output_type": "stream",
          "name": "stdout",
          "text": [
            "_09_test_6\n",
            "(256, 256, 1) 0.9999999 0.0033199296\n",
            "(256, 256, 3) (256, 256) (256, 256)\n"
          ]
        },
        {
          "output_type": "stream",
          "name": "stderr",
          "text": [
            "\r 44%|████▍     | 79/180 [00:13<00:18,  5.60it/s]"
          ]
        },
        {
          "output_type": "stream",
          "name": "stdout",
          "text": [
            "_09_test_7\n"
          ]
        },
        {
          "output_type": "stream",
          "name": "stderr",
          "text": [
            "\r 44%|████▍     | 80/180 [00:14<00:17,  5.61it/s]"
          ]
        },
        {
          "output_type": "stream",
          "name": "stdout",
          "text": [
            "(256, 256, 1) 1.0 0.0026057567\n",
            "(256, 256, 3) (256, 256) (256, 256)\n",
            "_09_test_8\n",
            "(256, 256, 1) 1.0 0.0023643677\n",
            "(256, 256, 3) (256, 256) (256, 256)\n"
          ]
        },
        {
          "output_type": "stream",
          "name": "stderr",
          "text": [
            "\r 45%|████▌     | 81/180 [00:14<00:17,  5.60it/s]"
          ]
        },
        {
          "output_type": "stream",
          "name": "stdout",
          "text": [
            "_10_test_0\n",
            "(256, 256, 1) 1.0 0.0020979294\n",
            "(256, 256, 3) (256, 256) (256, 256)\n"
          ]
        },
        {
          "output_type": "stream",
          "name": "stderr",
          "text": [
            "\r 46%|████▌     | 82/180 [00:14<00:17,  5.71it/s]"
          ]
        },
        {
          "output_type": "stream",
          "name": "stdout",
          "text": [
            "_10_test_1\n"
          ]
        },
        {
          "output_type": "stream",
          "name": "stderr",
          "text": [
            "\r 46%|████▌     | 83/180 [00:14<00:16,  5.73it/s]"
          ]
        },
        {
          "output_type": "stream",
          "name": "stdout",
          "text": [
            "(256, 256, 1) 1.0 0.002435685\n",
            "(256, 256, 3) (256, 256) (256, 256)\n",
            "_10_test_2\n",
            "(256, 256, 1) 1.0 0.0021756368\n",
            "(256, 256, 3) (256, 256) (256, 256)\n"
          ]
        },
        {
          "output_type": "stream",
          "name": "stderr",
          "text": [
            "\r 47%|████▋     | 84/180 [00:14<00:16,  5.78it/s]"
          ]
        },
        {
          "output_type": "stream",
          "name": "stdout",
          "text": [
            "_10_test_3\n",
            "(256, 256, 1) 1.0 0.0023094523\n",
            "(256, 256, 3) (256, 256) (256, 256)\n"
          ]
        },
        {
          "output_type": "stream",
          "name": "stderr",
          "text": [
            "\r 47%|████▋     | 85/180 [00:14<00:16,  5.84it/s]"
          ]
        },
        {
          "output_type": "stream",
          "name": "stdout",
          "text": [
            "_10_test_4\n"
          ]
        },
        {
          "output_type": "stream",
          "name": "stderr",
          "text": [
            "\r 48%|████▊     | 86/180 [00:15<00:16,  5.74it/s]"
          ]
        },
        {
          "output_type": "stream",
          "name": "stdout",
          "text": [
            "(256, 256, 1) 1.0 0.0024569412\n",
            "(256, 256, 3) (256, 256) (256, 256)\n",
            "_10_test_5\n",
            "(256, 256, 1) 1.0 0.0019849555\n",
            "(256, 256, 3) (256, 256) (256, 256)\n"
          ]
        },
        {
          "output_type": "stream",
          "name": "stderr",
          "text": [
            "\r 48%|████▊     | 87/180 [00:15<00:16,  5.73it/s]"
          ]
        },
        {
          "output_type": "stream",
          "name": "stdout",
          "text": [
            "_10_test_6\n",
            "(256, 256, 1) 1.0 0.003122881\n",
            "(256, 256, 3) (256, 256) (256, 256)\n"
          ]
        },
        {
          "output_type": "stream",
          "name": "stderr",
          "text": [
            "\r 49%|████▉     | 88/180 [00:15<00:15,  5.83it/s]"
          ]
        },
        {
          "output_type": "stream",
          "name": "stdout",
          "text": [
            "_10_test_7\n"
          ]
        },
        {
          "output_type": "stream",
          "name": "stderr",
          "text": [
            "\r 49%|████▉     | 89/180 [00:15<00:15,  5.90it/s]"
          ]
        },
        {
          "output_type": "stream",
          "name": "stdout",
          "text": [
            "(256, 256, 1) 1.0 0.002601944\n",
            "(256, 256, 3) (256, 256) (256, 256)\n",
            "_10_test_8\n",
            "(256, 256, 1) 1.0 0.0020508813\n",
            "(256, 256, 3) (256, 256) (256, 256)\n"
          ]
        },
        {
          "output_type": "stream",
          "name": "stderr",
          "text": [
            "\r 50%|█████     | 90/180 [00:15<00:15,  5.96it/s]"
          ]
        },
        {
          "output_type": "stream",
          "name": "stdout",
          "text": [
            "_11_test_0\n",
            "(256, 256, 1) 1.0 0.0018979568\n",
            "(256, 256, 3) (256, 256) (256, 256)\n"
          ]
        },
        {
          "output_type": "stream",
          "name": "stderr",
          "text": [
            "\r 51%|█████     | 91/180 [00:15<00:14,  5.93it/s]"
          ]
        },
        {
          "output_type": "stream",
          "name": "stdout",
          "text": [
            "_11_test_1\n"
          ]
        },
        {
          "output_type": "stream",
          "name": "stderr",
          "text": [
            "\r 51%|█████     | 92/180 [00:16<00:15,  5.86it/s]"
          ]
        },
        {
          "output_type": "stream",
          "name": "stdout",
          "text": [
            "(256, 256, 1) 1.0 0.0016603367\n",
            "(256, 256, 3) (256, 256) (256, 256)\n",
            "_11_test_2\n",
            "(256, 256, 1) 1.0 0.0023465257\n",
            "(256, 256, 3) (256, 256) (256, 256)\n"
          ]
        },
        {
          "output_type": "stream",
          "name": "stderr",
          "text": [
            "\r 52%|█████▏    | 93/180 [00:16<00:14,  5.86it/s]"
          ]
        },
        {
          "output_type": "stream",
          "name": "stdout",
          "text": [
            "_11_test_3\n",
            "(256, 256, 1) 1.0 0.0011769235\n",
            "(256, 256, 3) (256, 256) (256, 256)\n"
          ]
        },
        {
          "output_type": "stream",
          "name": "stderr",
          "text": [
            "\r 52%|█████▏    | 94/180 [00:16<00:14,  5.84it/s]"
          ]
        },
        {
          "output_type": "stream",
          "name": "stdout",
          "text": [
            "_11_test_4\n"
          ]
        },
        {
          "output_type": "stream",
          "name": "stderr",
          "text": [
            "\r 53%|█████▎    | 95/180 [00:16<00:14,  5.78it/s]"
          ]
        },
        {
          "output_type": "stream",
          "name": "stdout",
          "text": [
            "(256, 256, 1) 1.0 0.0029465829\n",
            "(256, 256, 3) (256, 256) (256, 256)\n",
            "_11_test_5\n",
            "(256, 256, 1) 1.0 0.0021242413\n",
            "(256, 256, 3) (256, 256) (256, 256)\n"
          ]
        },
        {
          "output_type": "stream",
          "name": "stderr",
          "text": [
            "\r 53%|█████▎    | 96/180 [00:16<00:14,  5.76it/s]"
          ]
        },
        {
          "output_type": "stream",
          "name": "stdout",
          "text": [
            "_11_test_6\n",
            "(256, 256, 1) 1.0 0.003308813\n",
            "(256, 256, 3) (256, 256) (256, 256)\n"
          ]
        },
        {
          "output_type": "stream",
          "name": "stderr",
          "text": [
            "\r 54%|█████▍    | 97/180 [00:17<00:14,  5.86it/s]"
          ]
        },
        {
          "output_type": "stream",
          "name": "stdout",
          "text": [
            "_11_test_7\n"
          ]
        },
        {
          "output_type": "stream",
          "name": "stderr",
          "text": [
            "\r 54%|█████▍    | 98/180 [00:17<00:13,  5.86it/s]"
          ]
        },
        {
          "output_type": "stream",
          "name": "stdout",
          "text": [
            "(256, 256, 1) 1.0 0.002217034\n",
            "(256, 256, 3) (256, 256) (256, 256)\n",
            "_11_test_8\n",
            "(256, 256, 1) 1.0 0.0018999841\n",
            "(256, 256, 3) (256, 256) (256, 256)\n"
          ]
        },
        {
          "output_type": "stream",
          "name": "stderr",
          "text": [
            "\r 55%|█████▌    | 99/180 [00:17<00:13,  5.87it/s]"
          ]
        },
        {
          "output_type": "stream",
          "name": "stdout",
          "text": [
            "_12_test_0\n",
            "(256, 256, 1) 1.0 0.0019829792\n",
            "(256, 256, 3) (256, 256) (256, 256)\n"
          ]
        },
        {
          "output_type": "stream",
          "name": "stderr",
          "text": [
            "\r 56%|█████▌    | 100/180 [00:17<00:13,  5.91it/s]"
          ]
        },
        {
          "output_type": "stream",
          "name": "stdout",
          "text": [
            "_12_test_1\n"
          ]
        },
        {
          "output_type": "stream",
          "name": "stderr",
          "text": [
            "\r 56%|█████▌    | 101/180 [00:17<00:13,  5.83it/s]"
          ]
        },
        {
          "output_type": "stream",
          "name": "stdout",
          "text": [
            "(256, 256, 1) 1.0 0.0021681192\n",
            "(256, 256, 3) (256, 256) (256, 256)\n",
            "_12_test_2\n",
            "(256, 256, 1) 0.9999999 0.0024866918\n",
            "(256, 256, 3) (256, 256) (256, 256)\n"
          ]
        },
        {
          "output_type": "stream",
          "name": "stderr",
          "text": [
            "\r 57%|█████▋    | 102/180 [00:17<00:13,  5.89it/s]"
          ]
        },
        {
          "output_type": "stream",
          "name": "stdout",
          "text": [
            "_12_test_3\n",
            "(256, 256, 1) 1.0 0.002270675\n",
            "(256, 256, 3) (256, 256) (256, 256)\n"
          ]
        },
        {
          "output_type": "stream",
          "name": "stderr",
          "text": [
            "\r 57%|█████▋    | 103/180 [00:18<00:13,  5.90it/s]"
          ]
        },
        {
          "output_type": "stream",
          "name": "stdout",
          "text": [
            "_12_test_4\n"
          ]
        },
        {
          "output_type": "stream",
          "name": "stderr",
          "text": [
            "\r 58%|█████▊    | 104/180 [00:18<00:13,  5.80it/s]"
          ]
        },
        {
          "output_type": "stream",
          "name": "stdout",
          "text": [
            "(256, 256, 1) 1.0 0.0024207053\n",
            "(256, 256, 3) (256, 256) (256, 256)\n",
            "_12_test_5\n",
            "(256, 256, 1) 1.0 0.002084702\n",
            "(256, 256, 3) (256, 256) (256, 256)\n"
          ]
        },
        {
          "output_type": "stream",
          "name": "stderr",
          "text": [
            "\r 58%|█████▊    | 105/180 [00:18<00:12,  5.78it/s]"
          ]
        },
        {
          "output_type": "stream",
          "name": "stdout",
          "text": [
            "_12_test_6\n",
            "(256, 256, 1) 1.0 0.002919247\n",
            "(256, 256, 3) (256, 256) (256, 256)\n"
          ]
        },
        {
          "output_type": "stream",
          "name": "stderr",
          "text": [
            "\r 59%|█████▉    | 106/180 [00:18<00:12,  5.85it/s]"
          ]
        },
        {
          "output_type": "stream",
          "name": "stdout",
          "text": [
            "_12_test_7\n"
          ]
        },
        {
          "output_type": "stream",
          "name": "stderr",
          "text": [
            "\r 59%|█████▉    | 107/180 [00:18<00:12,  5.89it/s]"
          ]
        },
        {
          "output_type": "stream",
          "name": "stdout",
          "text": [
            "(256, 256, 1) 1.0 0.0023765776\n",
            "(256, 256, 3) (256, 256) (256, 256)\n",
            "_12_test_8\n",
            "(256, 256, 1) 1.0 0.002581519\n",
            "(256, 256, 3) (256, 256) (256, 256)\n"
          ]
        },
        {
          "output_type": "stream",
          "name": "stderr",
          "text": [
            "\r 60%|██████    | 108/180 [00:18<00:12,  5.93it/s]"
          ]
        },
        {
          "output_type": "stream",
          "name": "stdout",
          "text": [
            "_13_test_0\n",
            "(256, 256, 1) 1.0 0.0015597882\n",
            "(256, 256, 3) (256, 256) (256, 256)\n"
          ]
        },
        {
          "output_type": "stream",
          "name": "stderr",
          "text": [
            "\r 61%|██████    | 109/180 [00:19<00:11,  5.95it/s]"
          ]
        },
        {
          "output_type": "stream",
          "name": "stdout",
          "text": [
            "_13_test_1\n"
          ]
        },
        {
          "output_type": "stream",
          "name": "stderr",
          "text": [
            "\r 61%|██████    | 110/180 [00:19<00:12,  5.80it/s]"
          ]
        },
        {
          "output_type": "stream",
          "name": "stdout",
          "text": [
            "(256, 256, 1) 1.0 0.0016139785\n",
            "(256, 256, 3) (256, 256) (256, 256)\n",
            "_13_test_2\n",
            "(256, 256, 1) 1.0 0.0020804736\n",
            "(256, 256, 3) (256, 256) (256, 256)\n"
          ]
        },
        {
          "output_type": "stream",
          "name": "stderr",
          "text": [
            "\r 62%|██████▏   | 111/180 [00:19<00:11,  5.86it/s]"
          ]
        },
        {
          "output_type": "stream",
          "name": "stdout",
          "text": [
            "_13_test_3\n",
            "(256, 256, 1) 1.0 0.001866967\n",
            "(256, 256, 3) (256, 256) (256, 256)\n"
          ]
        },
        {
          "output_type": "stream",
          "name": "stderr",
          "text": [
            "\r 62%|██████▏   | 112/180 [00:19<00:11,  5.87it/s]"
          ]
        },
        {
          "output_type": "stream",
          "name": "stdout",
          "text": [
            "_13_test_4\n"
          ]
        },
        {
          "output_type": "stream",
          "name": "stderr",
          "text": [
            "\r 63%|██████▎   | 113/180 [00:19<00:11,  5.79it/s]"
          ]
        },
        {
          "output_type": "stream",
          "name": "stdout",
          "text": [
            "(256, 256, 1) 1.0 0.0022424562\n",
            "(256, 256, 3) (256, 256) (256, 256)\n",
            "_13_test_5\n",
            "(256, 256, 1) 1.0 0.0021213575\n",
            "(256, 256, 3) (256, 256) (256, 256)\n"
          ]
        },
        {
          "output_type": "stream",
          "name": "stderr",
          "text": [
            "\r 63%|██████▎   | 114/180 [00:19<00:11,  5.79it/s]"
          ]
        },
        {
          "output_type": "stream",
          "name": "stdout",
          "text": [
            "_13_test_6\n",
            "(256, 256, 1) 1.0 0.0028813495\n",
            "(256, 256, 3) (256, 256) (256, 256)\n"
          ]
        },
        {
          "output_type": "stream",
          "name": "stderr",
          "text": [
            "\r 64%|██████▍   | 115/180 [00:20<00:11,  5.89it/s]"
          ]
        },
        {
          "output_type": "stream",
          "name": "stdout",
          "text": [
            "_13_test_7\n"
          ]
        },
        {
          "output_type": "stream",
          "name": "stderr",
          "text": [
            "\r 64%|██████▍   | 116/180 [00:20<00:10,  5.89it/s]"
          ]
        },
        {
          "output_type": "stream",
          "name": "stdout",
          "text": [
            "(256, 256, 1) 1.0 0.002653202\n",
            "(256, 256, 3) (256, 256) (256, 256)\n",
            "_13_test_8\n",
            "(256, 256, 1) 1.0 0.0020142377\n",
            "(256, 256, 3) (256, 256) (256, 256)\n"
          ]
        },
        {
          "output_type": "stream",
          "name": "stderr",
          "text": [
            "\r 65%|██████▌   | 117/180 [00:20<00:10,  5.89it/s]"
          ]
        },
        {
          "output_type": "stream",
          "name": "stdout",
          "text": [
            "_14_test_0\n",
            "(256, 256, 1) 1.0 0.0018340982\n",
            "(256, 256, 3) (256, 256) (256, 256)\n"
          ]
        },
        {
          "output_type": "stream",
          "name": "stderr",
          "text": [
            "\r 66%|██████▌   | 118/180 [00:20<00:10,  6.00it/s]"
          ]
        },
        {
          "output_type": "stream",
          "name": "stdout",
          "text": [
            "_14_test_1\n"
          ]
        },
        {
          "output_type": "stream",
          "name": "stderr",
          "text": [
            "\r 66%|██████▌   | 119/180 [00:20<00:10,  6.00it/s]"
          ]
        },
        {
          "output_type": "stream",
          "name": "stdout",
          "text": [
            "(256, 256, 1) 1.0 0.002047284\n",
            "(256, 256, 3) (256, 256) (256, 256)\n",
            "_14_test_2\n",
            "(256, 256, 1) 1.0 0.0019722017\n",
            "(256, 256, 3) (256, 256) (256, 256)\n"
          ]
        },
        {
          "output_type": "stream",
          "name": "stderr",
          "text": [
            "\r 67%|██████▋   | 120/180 [00:20<00:10,  5.88it/s]"
          ]
        },
        {
          "output_type": "stream",
          "name": "stdout",
          "text": [
            "_14_test_3\n",
            "(256, 256, 1) 1.0 0.002595966\n",
            "(256, 256, 3) (256, 256) (256, 256)\n"
          ]
        },
        {
          "output_type": "stream",
          "name": "stderr",
          "text": [
            "\r 67%|██████▋   | 121/180 [00:21<00:10,  5.87it/s]"
          ]
        },
        {
          "output_type": "stream",
          "name": "stdout",
          "text": [
            "_14_test_4\n"
          ]
        },
        {
          "output_type": "stream",
          "name": "stderr",
          "text": [
            "\r 68%|██████▊   | 122/180 [00:21<00:09,  5.80it/s]"
          ]
        },
        {
          "output_type": "stream",
          "name": "stdout",
          "text": [
            "(256, 256, 1) 1.0 0.0035197758\n",
            "(256, 256, 3) (256, 256) (256, 256)\n",
            "_14_test_5\n",
            "(256, 256, 1) 1.0 0.002210343\n",
            "(256, 256, 3) (256, 256) (256, 256)\n"
          ]
        },
        {
          "output_type": "stream",
          "name": "stderr",
          "text": [
            "\r 68%|██████▊   | 123/180 [00:21<00:09,  5.78it/s]"
          ]
        },
        {
          "output_type": "stream",
          "name": "stdout",
          "text": [
            "_14_test_6\n",
            "(256, 256, 1) 1.0 0.0032330637\n",
            "(256, 256, 3) (256, 256) (256, 256)\n"
          ]
        },
        {
          "output_type": "stream",
          "name": "stderr",
          "text": [
            "\r 69%|██████▉   | 124/180 [00:21<00:09,  5.87it/s]"
          ]
        },
        {
          "output_type": "stream",
          "name": "stdout",
          "text": [
            "_14_test_7\n"
          ]
        },
        {
          "output_type": "stream",
          "name": "stderr",
          "text": [
            "\r 69%|██████▉   | 125/180 [00:21<00:09,  5.88it/s]"
          ]
        },
        {
          "output_type": "stream",
          "name": "stdout",
          "text": [
            "(256, 256, 1) 1.0 0.0025291112\n",
            "(256, 256, 3) (256, 256) (256, 256)\n",
            "_14_test_8\n",
            "(256, 256, 1) 1.0 0.0022633658\n",
            "(256, 256, 3) (256, 256) (256, 256)\n"
          ]
        },
        {
          "output_type": "stream",
          "name": "stderr",
          "text": [
            "\r 70%|███████   | 126/180 [00:21<00:09,  5.94it/s]"
          ]
        },
        {
          "output_type": "stream",
          "name": "stdout",
          "text": [
            "_15_test_0\n",
            "(256, 256, 1) 1.0 0.0019729102\n",
            "(256, 256, 3) (256, 256) (256, 256)\n"
          ]
        },
        {
          "output_type": "stream",
          "name": "stderr",
          "text": [
            "\r 71%|███████   | 127/180 [00:22<00:08,  5.99it/s]"
          ]
        },
        {
          "output_type": "stream",
          "name": "stdout",
          "text": [
            "_15_test_1\n"
          ]
        },
        {
          "output_type": "stream",
          "name": "stderr",
          "text": [
            "\r 71%|███████   | 128/180 [00:22<00:08,  5.97it/s]"
          ]
        },
        {
          "output_type": "stream",
          "name": "stdout",
          "text": [
            "(256, 256, 1) 1.0 0.0027562343\n",
            "(256, 256, 3) (256, 256) (256, 256)\n",
            "_15_test_2\n",
            "(256, 256, 1) 1.0 0.0020573295\n",
            "(256, 256, 3) (256, 256) (256, 256)\n"
          ]
        },
        {
          "output_type": "stream",
          "name": "stderr",
          "text": [
            "\r 72%|███████▏  | 129/180 [00:22<00:08,  5.96it/s]"
          ]
        },
        {
          "output_type": "stream",
          "name": "stdout",
          "text": [
            "_15_test_3\n",
            "(256, 256, 1) 1.0 0.0015944093\n",
            "(256, 256, 3) (256, 256) (256, 256)\n"
          ]
        },
        {
          "output_type": "stream",
          "name": "stderr",
          "text": [
            "\r 72%|███████▏  | 130/180 [00:22<00:08,  5.91it/s]"
          ]
        },
        {
          "output_type": "stream",
          "name": "stdout",
          "text": [
            "_15_test_4\n"
          ]
        },
        {
          "output_type": "stream",
          "name": "stderr",
          "text": [
            "\r 73%|███████▎  | 131/180 [00:22<00:08,  5.91it/s]"
          ]
        },
        {
          "output_type": "stream",
          "name": "stdout",
          "text": [
            "(256, 256, 1) 1.0 0.0016669616\n",
            "(256, 256, 3) (256, 256) (256, 256)\n",
            "_15_test_5\n",
            "(256, 256, 1) 1.0 0.0021197048\n",
            "(256, 256, 3) (256, 256) (256, 256)\n"
          ]
        },
        {
          "output_type": "stream",
          "name": "stderr",
          "text": [
            "\r 73%|███████▎  | 132/180 [00:22<00:08,  5.93it/s]"
          ]
        },
        {
          "output_type": "stream",
          "name": "stdout",
          "text": [
            "_15_test_6\n",
            "(256, 256, 1) 1.0 0.0033264474\n",
            "(256, 256, 3) (256, 256) (256, 256)\n"
          ]
        },
        {
          "output_type": "stream",
          "name": "stderr",
          "text": [
            "\r 74%|███████▍  | 133/180 [00:23<00:07,  5.92it/s]"
          ]
        },
        {
          "output_type": "stream",
          "name": "stdout",
          "text": [
            "_15_test_7\n"
          ]
        },
        {
          "output_type": "stream",
          "name": "stderr",
          "text": [
            "\r 74%|███████▍  | 134/180 [00:23<00:07,  5.86it/s]"
          ]
        },
        {
          "output_type": "stream",
          "name": "stdout",
          "text": [
            "(256, 256, 1) 1.0 0.002759069\n",
            "(256, 256, 3) (256, 256) (256, 256)\n",
            "_15_test_8\n",
            "(256, 256, 1) 1.0 0.0023402404\n",
            "(256, 256, 3) (256, 256) (256, 256)\n"
          ]
        },
        {
          "output_type": "stream",
          "name": "stderr",
          "text": [
            "\r 75%|███████▌  | 135/180 [00:23<00:07,  5.87it/s]"
          ]
        },
        {
          "output_type": "stream",
          "name": "stdout",
          "text": [
            "_16_test_0\n",
            "(256, 256, 1) 1.0 0.0018541868\n",
            "(256, 256, 3) (256, 256) (256, 256)\n"
          ]
        },
        {
          "output_type": "stream",
          "name": "stderr",
          "text": [
            "\r 76%|███████▌  | 136/180 [00:23<00:07,  5.94it/s]"
          ]
        },
        {
          "output_type": "stream",
          "name": "stdout",
          "text": [
            "_16_test_1\n"
          ]
        },
        {
          "output_type": "stream",
          "name": "stderr",
          "text": [
            "\r 76%|███████▌  | 137/180 [00:23<00:07,  5.92it/s]"
          ]
        },
        {
          "output_type": "stream",
          "name": "stdout",
          "text": [
            "(256, 256, 1) 1.0 0.0016773257\n",
            "(256, 256, 3) (256, 256) (256, 256)\n",
            "_16_test_2\n",
            "(256, 256, 1) 1.0 0.001940977\n",
            "(256, 256, 3) (256, 256) (256, 256)\n"
          ]
        },
        {
          "output_type": "stream",
          "name": "stderr",
          "text": [
            "\r 77%|███████▋  | 138/180 [00:23<00:07,  5.93it/s]"
          ]
        },
        {
          "output_type": "stream",
          "name": "stdout",
          "text": [
            "_16_test_3\n",
            "(256, 256, 1) 1.0 0.001955624\n",
            "(256, 256, 3) (256, 256) (256, 256)\n"
          ]
        },
        {
          "output_type": "stream",
          "name": "stderr",
          "text": [
            "\r 77%|███████▋  | 139/180 [00:24<00:06,  5.90it/s]"
          ]
        },
        {
          "output_type": "stream",
          "name": "stdout",
          "text": [
            "_16_test_4\n"
          ]
        },
        {
          "output_type": "stream",
          "name": "stderr",
          "text": [
            "\r 78%|███████▊  | 140/180 [00:24<00:07,  5.71it/s]"
          ]
        },
        {
          "output_type": "stream",
          "name": "stdout",
          "text": [
            "(256, 256, 1) 1.0 0.0020852338\n",
            "(256, 256, 3) (256, 256) (256, 256)\n",
            "_16_test_5\n",
            "(256, 256, 1) 1.0 0.0015063967\n",
            "(256, 256, 3) (256, 256) (256, 256)\n"
          ]
        },
        {
          "output_type": "stream",
          "name": "stderr",
          "text": [
            "\r 78%|███████▊  | 141/180 [00:24<00:06,  5.69it/s]"
          ]
        },
        {
          "output_type": "stream",
          "name": "stdout",
          "text": [
            "_16_test_6\n",
            "(256, 256, 1) 1.0 0.0030946822\n",
            "(256, 256, 3) (256, 256) (256, 256)\n"
          ]
        },
        {
          "output_type": "stream",
          "name": "stderr",
          "text": [
            "\r 79%|███████▉  | 142/180 [00:24<00:06,  5.82it/s]"
          ]
        },
        {
          "output_type": "stream",
          "name": "stdout",
          "text": [
            "_16_test_7\n"
          ]
        },
        {
          "output_type": "stream",
          "name": "stderr",
          "text": [
            "\r 79%|███████▉  | 143/180 [00:24<00:06,  5.87it/s]"
          ]
        },
        {
          "output_type": "stream",
          "name": "stdout",
          "text": [
            "(256, 256, 1) 1.0 0.0022285995\n",
            "(256, 256, 3) (256, 256) (256, 256)\n",
            "_16_test_8\n",
            "(256, 256, 1) 1.0 0.0026327544\n",
            "(256, 256, 3) (256, 256) (256, 256)\n"
          ]
        },
        {
          "output_type": "stream",
          "name": "stderr",
          "text": [
            "\r 80%|████████  | 144/180 [00:25<00:06,  5.89it/s]"
          ]
        },
        {
          "output_type": "stream",
          "name": "stdout",
          "text": [
            "_17_test_0\n",
            "(256, 256, 1) 1.0 0.0014607788\n",
            "(256, 256, 3) (256, 256) (256, 256)\n"
          ]
        },
        {
          "output_type": "stream",
          "name": "stderr",
          "text": [
            "\r 81%|████████  | 145/180 [00:25<00:05,  5.94it/s]"
          ]
        },
        {
          "output_type": "stream",
          "name": "stdout",
          "text": [
            "_17_test_1\n"
          ]
        },
        {
          "output_type": "stream",
          "name": "stderr",
          "text": [
            "\r 81%|████████  | 146/180 [00:25<00:05,  5.97it/s]"
          ]
        },
        {
          "output_type": "stream",
          "name": "stdout",
          "text": [
            "(256, 256, 1) 1.0 0.0013071651\n",
            "(256, 256, 3) (256, 256) (256, 256)\n",
            "_17_test_2\n",
            "(256, 256, 1) 1.0 0.001549658\n",
            "(256, 256, 3) (256, 256) (256, 256)\n"
          ]
        },
        {
          "output_type": "stream",
          "name": "stderr",
          "text": [
            "\r 82%|████████▏ | 147/180 [00:25<00:05,  5.94it/s]"
          ]
        },
        {
          "output_type": "stream",
          "name": "stdout",
          "text": [
            "_17_test_3\n",
            "(256, 256, 1) 1.0 0.0013887917\n",
            "(256, 256, 3) (256, 256) (256, 256)\n"
          ]
        },
        {
          "output_type": "stream",
          "name": "stderr",
          "text": [
            "\r 82%|████████▏ | 148/180 [00:25<00:05,  5.91it/s]"
          ]
        },
        {
          "output_type": "stream",
          "name": "stdout",
          "text": [
            "_17_test_4\n"
          ]
        },
        {
          "output_type": "stream",
          "name": "stderr",
          "text": [
            "\r 83%|████████▎ | 149/180 [00:25<00:05,  5.89it/s]"
          ]
        },
        {
          "output_type": "stream",
          "name": "stdout",
          "text": [
            "(256, 256, 1) 1.0 0.0023421939\n",
            "(256, 256, 3) (256, 256) (256, 256)\n",
            "_17_test_5\n",
            "(256, 256, 1) 1.0 0.0018883519\n",
            "(256, 256, 3) (256, 256) (256, 256)\n"
          ]
        },
        {
          "output_type": "stream",
          "name": "stderr",
          "text": [
            "\r 83%|████████▎ | 150/180 [00:26<00:05,  5.82it/s]"
          ]
        },
        {
          "output_type": "stream",
          "name": "stdout",
          "text": [
            "_17_test_6\n",
            "(256, 256, 1) 0.9999999 0.001787872\n",
            "(256, 256, 3) (256, 256) (256, 256)\n"
          ]
        },
        {
          "output_type": "stream",
          "name": "stderr",
          "text": [
            "\r 84%|████████▍ | 151/180 [00:26<00:04,  5.89it/s]"
          ]
        },
        {
          "output_type": "stream",
          "name": "stdout",
          "text": [
            "_17_test_7\n"
          ]
        },
        {
          "output_type": "stream",
          "name": "stderr",
          "text": [
            "\r 84%|████████▍ | 152/180 [00:26<00:04,  5.90it/s]"
          ]
        },
        {
          "output_type": "stream",
          "name": "stdout",
          "text": [
            "(256, 256, 1) 1.0 0.0019747561\n",
            "(256, 256, 3) (256, 256) (256, 256)\n",
            "_17_test_8\n",
            "(256, 256, 1) 1.0 0.0019750993\n",
            "(256, 256, 3) (256, 256) (256, 256)\n"
          ]
        },
        {
          "output_type": "stream",
          "name": "stderr",
          "text": [
            "\r 85%|████████▌ | 153/180 [00:26<00:04,  5.97it/s]"
          ]
        },
        {
          "output_type": "stream",
          "name": "stdout",
          "text": [
            "_18_test_0\n",
            "(256, 256, 1) 1.0 0.001801262\n",
            "(256, 256, 3) (256, 256) (256, 256)\n"
          ]
        },
        {
          "output_type": "stream",
          "name": "stderr",
          "text": [
            "\r 86%|████████▌ | 154/180 [00:26<00:04,  6.03it/s]"
          ]
        },
        {
          "output_type": "stream",
          "name": "stdout",
          "text": [
            "_18_test_1\n"
          ]
        },
        {
          "output_type": "stream",
          "name": "stderr",
          "text": [
            "\r 86%|████████▌ | 155/180 [00:26<00:04,  6.04it/s]"
          ]
        },
        {
          "output_type": "stream",
          "name": "stdout",
          "text": [
            "(256, 256, 1) 1.0 0.0013191634\n",
            "(256, 256, 3) (256, 256) (256, 256)\n",
            "_18_test_2\n",
            "(256, 256, 1) 1.0 0.0018264228\n",
            "(256, 256, 3) (256, 256) (256, 256)\n"
          ]
        },
        {
          "output_type": "stream",
          "name": "stderr",
          "text": [
            "\r 87%|████████▋ | 156/180 [00:27<00:03,  6.01it/s]"
          ]
        },
        {
          "output_type": "stream",
          "name": "stdout",
          "text": [
            "_18_test_3\n",
            "(256, 256, 1) 1.0 0.0026090713\n",
            "(256, 256, 3) (256, 256) (256, 256)\n"
          ]
        },
        {
          "output_type": "stream",
          "name": "stderr",
          "text": [
            "\r 87%|████████▋ | 157/180 [00:27<00:03,  5.97it/s]"
          ]
        },
        {
          "output_type": "stream",
          "name": "stdout",
          "text": [
            "_18_test_4\n"
          ]
        },
        {
          "output_type": "stream",
          "name": "stderr",
          "text": [
            "\r 88%|████████▊ | 158/180 [00:27<00:03,  5.96it/s]"
          ]
        },
        {
          "output_type": "stream",
          "name": "stdout",
          "text": [
            "(256, 256, 1) 1.0 0.00238112\n",
            "(256, 256, 3) (256, 256) (256, 256)\n",
            "_18_test_5\n",
            "(256, 256, 1) 1.0 0.0014784391\n",
            "(256, 256, 3) (256, 256) (256, 256)\n"
          ]
        },
        {
          "output_type": "stream",
          "name": "stderr",
          "text": [
            "\r 88%|████████▊ | 159/180 [00:27<00:03,  5.95it/s]"
          ]
        },
        {
          "output_type": "stream",
          "name": "stdout",
          "text": [
            "_18_test_6\n",
            "(256, 256, 1) 1.0 0.0032293655\n",
            "(256, 256, 3) (256, 256) (256, 256)\n"
          ]
        },
        {
          "output_type": "stream",
          "name": "stderr",
          "text": [
            "\r 89%|████████▉ | 160/180 [00:27<00:03,  5.94it/s]"
          ]
        },
        {
          "output_type": "stream",
          "name": "stdout",
          "text": [
            "_18_test_7\n"
          ]
        },
        {
          "output_type": "stream",
          "name": "stderr",
          "text": [
            "\r 89%|████████▉ | 161/180 [00:27<00:03,  5.93it/s]"
          ]
        },
        {
          "output_type": "stream",
          "name": "stdout",
          "text": [
            "(256, 256, 1) 1.0 0.0027937216\n",
            "(256, 256, 3) (256, 256) (256, 256)\n",
            "_18_test_8\n",
            "(256, 256, 1) 1.0 0.002410105\n",
            "(256, 256, 3) (256, 256) (256, 256)\n"
          ]
        },
        {
          "output_type": "stream",
          "name": "stderr",
          "text": [
            "\r 90%|█████████ | 162/180 [00:28<00:03,  5.97it/s]"
          ]
        },
        {
          "output_type": "stream",
          "name": "stdout",
          "text": [
            "_19_test_0\n",
            "(256, 256, 1) 1.0 0.0021724054\n",
            "(256, 256, 3) (256, 256) (256, 256)\n"
          ]
        },
        {
          "output_type": "stream",
          "name": "stderr",
          "text": [
            "\r 91%|█████████ | 163/180 [00:28<00:02,  6.01it/s]"
          ]
        },
        {
          "output_type": "stream",
          "name": "stdout",
          "text": [
            "_19_test_1\n"
          ]
        },
        {
          "output_type": "stream",
          "name": "stderr",
          "text": [
            "\r 91%|█████████ | 164/180 [00:28<00:02,  5.99it/s]"
          ]
        },
        {
          "output_type": "stream",
          "name": "stdout",
          "text": [
            "(256, 256, 1) 1.0 0.0020639098\n",
            "(256, 256, 3) (256, 256) (256, 256)\n",
            "_19_test_2\n",
            "(256, 256, 1) 1.0 0.0019796886\n",
            "(256, 256, 3) (256, 256) (256, 256)\n"
          ]
        },
        {
          "output_type": "stream",
          "name": "stderr",
          "text": [
            "\r 92%|█████████▏| 165/180 [00:28<00:02,  6.01it/s]"
          ]
        },
        {
          "output_type": "stream",
          "name": "stdout",
          "text": [
            "_19_test_3\n",
            "(256, 256, 1) 1.0 0.0027033696\n",
            "(256, 256, 3) (256, 256) (256, 256)\n"
          ]
        },
        {
          "output_type": "stream",
          "name": "stderr",
          "text": [
            "\r 92%|█████████▏| 166/180 [00:28<00:02,  6.03it/s]"
          ]
        },
        {
          "output_type": "stream",
          "name": "stdout",
          "text": [
            "_19_test_4\n"
          ]
        },
        {
          "output_type": "stream",
          "name": "stderr",
          "text": [
            "\r 93%|█████████▎| 167/180 [00:28<00:02,  5.97it/s]"
          ]
        },
        {
          "output_type": "stream",
          "name": "stdout",
          "text": [
            "(256, 256, 1) 1.0 0.0018910321\n",
            "(256, 256, 3) (256, 256) (256, 256)\n",
            "_19_test_5\n",
            "(256, 256, 1) 1.0 0.0018416151\n",
            "(256, 256, 3) (256, 256) (256, 256)\n"
          ]
        },
        {
          "output_type": "stream",
          "name": "stderr",
          "text": [
            "\r 93%|█████████▎| 168/180 [00:29<00:02,  5.92it/s]"
          ]
        },
        {
          "output_type": "stream",
          "name": "stdout",
          "text": [
            "_19_test_6\n",
            "(256, 256, 1) 1.0 0.0028500655\n",
            "(256, 256, 3) (256, 256) (256, 256)\n"
          ]
        },
        {
          "output_type": "stream",
          "name": "stderr",
          "text": [
            "\r 94%|█████████▍| 169/180 [00:29<00:01,  5.97it/s]"
          ]
        },
        {
          "output_type": "stream",
          "name": "stdout",
          "text": [
            "_19_test_7\n"
          ]
        },
        {
          "output_type": "stream",
          "name": "stderr",
          "text": [
            "\r 94%|█████████▍| 170/180 [00:29<00:01,  5.88it/s]"
          ]
        },
        {
          "output_type": "stream",
          "name": "stdout",
          "text": [
            "(256, 256, 1) 1.0 0.0022239455\n",
            "(256, 256, 3) (256, 256) (256, 256)\n",
            "_19_test_8\n",
            "(256, 256, 1) 1.0 0.0022269047\n",
            "(256, 256, 3) (256, 256) (256, 256)\n"
          ]
        },
        {
          "output_type": "stream",
          "name": "stderr",
          "text": [
            "\r 95%|█████████▌| 171/180 [00:29<00:01,  5.89it/s]"
          ]
        },
        {
          "output_type": "stream",
          "name": "stdout",
          "text": [
            "_20_test_0\n",
            "(256, 256, 1) 1.0 0.0020112253\n",
            "(256, 256, 3) (256, 256) (256, 256)\n"
          ]
        },
        {
          "output_type": "stream",
          "name": "stderr",
          "text": [
            "\r 96%|█████████▌| 172/180 [00:29<00:01,  5.96it/s]"
          ]
        },
        {
          "output_type": "stream",
          "name": "stdout",
          "text": [
            "_20_test_1\n"
          ]
        },
        {
          "output_type": "stream",
          "name": "stderr",
          "text": [
            "\r 96%|█████████▌| 173/180 [00:29<00:01,  6.00it/s]"
          ]
        },
        {
          "output_type": "stream",
          "name": "stdout",
          "text": [
            "(256, 256, 1) 1.0 0.0019200396\n",
            "(256, 256, 3) (256, 256) (256, 256)\n",
            "_20_test_2\n",
            "(256, 256, 1) 1.0 0.0022866293\n",
            "(256, 256, 3) (256, 256) (256, 256)\n"
          ]
        },
        {
          "output_type": "stream",
          "name": "stderr",
          "text": [
            "\r 97%|█████████▋| 174/180 [00:30<00:00,  6.02it/s]"
          ]
        },
        {
          "output_type": "stream",
          "name": "stdout",
          "text": [
            "_20_test_3\n",
            "(256, 256, 1) 1.0 0.0027631368\n",
            "(256, 256, 3) (256, 256) (256, 256)\n"
          ]
        },
        {
          "output_type": "stream",
          "name": "stderr",
          "text": [
            "\r 97%|█████████▋| 175/180 [00:30<00:00,  6.01it/s]"
          ]
        },
        {
          "output_type": "stream",
          "name": "stdout",
          "text": [
            "_20_test_4\n"
          ]
        },
        {
          "output_type": "stream",
          "name": "stderr",
          "text": [
            "\r 98%|█████████▊| 176/180 [00:30<00:00,  6.00it/s]"
          ]
        },
        {
          "output_type": "stream",
          "name": "stdout",
          "text": [
            "(256, 256, 1) 1.0 0.0034838826\n",
            "(256, 256, 3) (256, 256) (256, 256)\n",
            "_20_test_5\n",
            "(256, 256, 1) 1.0 0.0017709276\n",
            "(256, 256, 3) (256, 256) (256, 256)\n"
          ]
        },
        {
          "output_type": "stream",
          "name": "stderr",
          "text": [
            "\r 98%|█████████▊| 177/180 [00:30<00:00,  5.96it/s]"
          ]
        },
        {
          "output_type": "stream",
          "name": "stdout",
          "text": [
            "_20_test_6\n",
            "(256, 256, 1) 1.0 0.0028372165\n",
            "(256, 256, 3) (256, 256) (256, 256)\n"
          ]
        },
        {
          "output_type": "stream",
          "name": "stderr",
          "text": [
            "\r 99%|█████████▉| 178/180 [00:30<00:00,  5.97it/s]"
          ]
        },
        {
          "output_type": "stream",
          "name": "stdout",
          "text": [
            "_20_test_7\n"
          ]
        },
        {
          "output_type": "stream",
          "name": "stderr",
          "text": [
            "\r 99%|█████████▉| 179/180 [00:30<00:00,  5.92it/s]"
          ]
        },
        {
          "output_type": "stream",
          "name": "stdout",
          "text": [
            "(256, 256, 1) 1.0 0.0032679993\n",
            "(256, 256, 3) (256, 256) (256, 256)\n",
            "_20_test_8\n",
            "(256, 256, 1) 1.0 0.0020802678\n",
            "(256, 256, 3) (256, 256) (256, 256)\n"
          ]
        },
        {
          "output_type": "stream",
          "name": "stderr",
          "text": [
            "100%|██████████| 180/180 [00:31<00:00,  5.79it/s]"
          ]
        },
        {
          "output_type": "stream",
          "name": "stdout",
          "text": [
            "Threshold: 0.40000\n",
            "Accuracy: 0.97960\n",
            "F1: 0.73813\n",
            "Jaccard: 0.59939\n",
            "Recall: 0.68923\n",
            "Precision: 0.82610\n",
            "AUC: 0.97096\n",
            "Dice Coeff: 0.64095\n"
          ]
        },
        {
          "output_type": "stream",
          "name": "stderr",
          "text": [
            "\n"
          ]
        }
      ]
    },
    {
      "cell_type": "code",
      "source": [
        "dataset_path = f\"{root_path}/{split_name}/{split}/\"\n",
        "df_0_5, score_0_5 = compute_metrics(dataset_path,\n",
        "                    results_path=results_path,\n",
        "                    threshold=0.5,\n",
        "                    model=model,\n",
        "                    predictions_path=prediction_path,\n",
        "                    prediction_np_path=prediction_np_path)"
      ],
      "metadata": {
        "id": "awC6MfPbujiZ",
        "colab": {
          "base_uri": "https://localhost:8080/"
        },
        "outputId": "21394442-78af-455b-d2cc-ccb8ee813adb"
      },
      "execution_count": null,
      "outputs": [
        {
          "output_type": "stream",
          "name": "stdout",
          "text": [
            "Threshold 0.5\n"
          ]
        },
        {
          "output_type": "stream",
          "name": "stderr",
          "text": [
            "\r  0%|          | 0/180 [00:00<?, ?it/s]"
          ]
        },
        {
          "output_type": "stream",
          "name": "stdout",
          "text": [
            "_01_test_0\n"
          ]
        },
        {
          "output_type": "stream",
          "name": "stderr",
          "text": [
            "\r  1%|          | 1/180 [00:00<00:29,  6.15it/s]"
          ]
        },
        {
          "output_type": "stream",
          "name": "stdout",
          "text": [
            "(256, 256, 1) 1.0 0.0017256661\n",
            "(256, 256, 3) (256, 256) (256, 256)\n",
            "_01_test_1\n",
            "(256, 256, 1) 1.0 0.0020369026\n",
            "(256, 256, 3) (256, 256) (256, 256)\n"
          ]
        },
        {
          "output_type": "stream",
          "name": "stderr",
          "text": [
            "\r  1%|          | 2/180 [00:00<00:29,  6.00it/s]"
          ]
        },
        {
          "output_type": "stream",
          "name": "stdout",
          "text": [
            "_01_test_2\n",
            "(256, 256, 1) 1.0 0.002152618\n",
            "(256, 256, 3) (256, 256) (256, 256)\n"
          ]
        },
        {
          "output_type": "stream",
          "name": "stderr",
          "text": [
            "\r  2%|▏         | 3/180 [00:00<00:29,  6.07it/s]"
          ]
        },
        {
          "output_type": "stream",
          "name": "stdout",
          "text": [
            "_01_test_3\n"
          ]
        },
        {
          "output_type": "stream",
          "name": "stderr",
          "text": [
            "\r  2%|▏         | 4/180 [00:00<00:29,  6.03it/s]"
          ]
        },
        {
          "output_type": "stream",
          "name": "stdout",
          "text": [
            "(256, 256, 1) 1.0 0.0016759018\n",
            "(256, 256, 3) (256, 256) (256, 256)\n",
            "_01_test_4\n",
            "(256, 256, 1) 1.0 0.001604261\n",
            "(256, 256, 3) (256, 256) (256, 256)\n"
          ]
        },
        {
          "output_type": "stream",
          "name": "stderr",
          "text": [
            "\r  3%|▎         | 5/180 [00:00<00:29,  5.94it/s]"
          ]
        },
        {
          "output_type": "stream",
          "name": "stdout",
          "text": [
            "_01_test_5\n",
            "(256, 256, 1) 1.0 0.0017435929\n",
            "(256, 256, 3) (256, 256) (256, 256)\n"
          ]
        },
        {
          "output_type": "stream",
          "name": "stderr",
          "text": [
            "\r  3%|▎         | 6/180 [00:01<00:29,  5.94it/s]"
          ]
        },
        {
          "output_type": "stream",
          "name": "stdout",
          "text": [
            "_01_test_6\n"
          ]
        },
        {
          "output_type": "stream",
          "name": "stderr",
          "text": [
            "\r  4%|▍         | 7/180 [00:01<00:29,  5.95it/s]"
          ]
        },
        {
          "output_type": "stream",
          "name": "stdout",
          "text": [
            "(256, 256, 1) 1.0 0.0025877478\n",
            "(256, 256, 3) (256, 256) (256, 256)\n",
            "_01_test_7\n",
            "(256, 256, 1) 1.0 0.0023314562\n",
            "(256, 256, 3) (256, 256) (256, 256)\n"
          ]
        },
        {
          "output_type": "stream",
          "name": "stderr",
          "text": [
            "\r  4%|▍         | 8/180 [00:01<00:29,  5.83it/s]"
          ]
        },
        {
          "output_type": "stream",
          "name": "stdout",
          "text": [
            "_01_test_8\n",
            "(256, 256, 1) 1.0 0.0017791559\n",
            "(256, 256, 3) (256, 256) (256, 256)\n"
          ]
        },
        {
          "output_type": "stream",
          "name": "stderr",
          "text": [
            "\r  5%|▌         | 9/180 [00:01<00:29,  5.82it/s]"
          ]
        },
        {
          "output_type": "stream",
          "name": "stdout",
          "text": [
            "_02_test_0\n"
          ]
        },
        {
          "output_type": "stream",
          "name": "stderr",
          "text": [
            "\r  6%|▌         | 10/180 [00:01<00:28,  5.88it/s]"
          ]
        },
        {
          "output_type": "stream",
          "name": "stdout",
          "text": [
            "(256, 256, 1) 1.0 0.0017755901\n",
            "(256, 256, 3) (256, 256) (256, 256)\n",
            "_02_test_1\n",
            "(256, 256, 1) 1.0 0.0016452193\n",
            "(256, 256, 3) (256, 256) (256, 256)\n"
          ]
        },
        {
          "output_type": "stream",
          "name": "stderr",
          "text": [
            "\r  6%|▌         | 11/180 [00:01<00:28,  5.87it/s]"
          ]
        },
        {
          "output_type": "stream",
          "name": "stdout",
          "text": [
            "_02_test_2\n",
            "(256, 256, 1) 1.0 0.002341969\n",
            "(256, 256, 3) (256, 256) (256, 256)\n"
          ]
        },
        {
          "output_type": "stream",
          "name": "stderr",
          "text": [
            "\r  7%|▋         | 12/180 [00:02<00:28,  5.97it/s]"
          ]
        },
        {
          "output_type": "stream",
          "name": "stdout",
          "text": [
            "_02_test_3\n"
          ]
        },
        {
          "output_type": "stream",
          "name": "stderr",
          "text": [
            "\r  7%|▋         | 13/180 [00:02<00:27,  5.99it/s]"
          ]
        },
        {
          "output_type": "stream",
          "name": "stdout",
          "text": [
            "(256, 256, 1) 1.0 0.0023959489\n",
            "(256, 256, 3) (256, 256) (256, 256)\n",
            "_02_test_4\n",
            "(256, 256, 1) 1.0 0.002384911\n",
            "(256, 256, 3) (256, 256) (256, 256)\n"
          ]
        },
        {
          "output_type": "stream",
          "name": "stderr",
          "text": [
            "\r  8%|▊         | 14/180 [00:02<00:28,  5.83it/s]"
          ]
        },
        {
          "output_type": "stream",
          "name": "stdout",
          "text": [
            "_02_test_5\n",
            "(256, 256, 1) 1.0 0.0021416966\n",
            "(256, 256, 3) (256, 256) (256, 256)\n"
          ]
        },
        {
          "output_type": "stream",
          "name": "stderr",
          "text": [
            "\r  8%|▊         | 15/180 [00:02<00:28,  5.77it/s]"
          ]
        },
        {
          "output_type": "stream",
          "name": "stdout",
          "text": [
            "_02_test_6\n"
          ]
        },
        {
          "output_type": "stream",
          "name": "stderr",
          "text": [
            "\r  9%|▉         | 16/180 [00:02<00:28,  5.77it/s]"
          ]
        },
        {
          "output_type": "stream",
          "name": "stdout",
          "text": [
            "(256, 256, 1) 1.0 0.0033286328\n",
            "(256, 256, 3) (256, 256) (256, 256)\n",
            "_02_test_7\n",
            "(256, 256, 1) 1.0 0.0023116264\n",
            "(256, 256, 3) (256, 256) (256, 256)\n"
          ]
        },
        {
          "output_type": "stream",
          "name": "stderr",
          "text": [
            "\r  9%|▉         | 17/180 [00:02<00:28,  5.72it/s]"
          ]
        },
        {
          "output_type": "stream",
          "name": "stdout",
          "text": [
            "_02_test_8\n",
            "(256, 256, 1) 1.0 0.002646284\n",
            "(256, 256, 3) (256, 256) (256, 256)\n"
          ]
        },
        {
          "output_type": "stream",
          "name": "stderr",
          "text": [
            "\r 10%|█         | 18/180 [00:03<00:28,  5.68it/s]"
          ]
        },
        {
          "output_type": "stream",
          "name": "stdout",
          "text": [
            "_03_test_0\n"
          ]
        },
        {
          "output_type": "stream",
          "name": "stderr",
          "text": [
            "\r 11%|█         | 19/180 [00:03<00:28,  5.72it/s]"
          ]
        },
        {
          "output_type": "stream",
          "name": "stdout",
          "text": [
            "(256, 256, 1) 1.0 0.0018097726\n",
            "(256, 256, 3) (256, 256) (256, 256)\n",
            "_03_test_1\n",
            "(256, 256, 1) 1.0 0.0025355031\n",
            "(256, 256, 3) (256, 256) (256, 256)\n"
          ]
        },
        {
          "output_type": "stream",
          "name": "stderr",
          "text": [
            "\r 11%|█         | 20/180 [00:03<00:27,  5.75it/s]"
          ]
        },
        {
          "output_type": "stream",
          "name": "stdout",
          "text": [
            "_03_test_2\n",
            "(256, 256, 1) 1.0 0.0020465907\n",
            "(256, 256, 3) (256, 256) (256, 256)\n"
          ]
        },
        {
          "output_type": "stream",
          "name": "stderr",
          "text": [
            "\r 12%|█▏        | 21/180 [00:03<00:27,  5.87it/s]"
          ]
        },
        {
          "output_type": "stream",
          "name": "stdout",
          "text": [
            "_03_test_3\n"
          ]
        },
        {
          "output_type": "stream",
          "name": "stderr",
          "text": [
            "\r 12%|█▏        | 22/180 [00:03<00:26,  5.87it/s]"
          ]
        },
        {
          "output_type": "stream",
          "name": "stdout",
          "text": [
            "(256, 256, 1) 1.0 0.0025028072\n",
            "(256, 256, 3) (256, 256) (256, 256)\n",
            "_03_test_4\n",
            "(256, 256, 1) 1.0 0.0025430021\n",
            "(256, 256, 3) (256, 256) (256, 256)\n"
          ]
        },
        {
          "output_type": "stream",
          "name": "stderr",
          "text": [
            "\r 13%|█▎        | 23/180 [00:03<00:26,  5.82it/s]"
          ]
        },
        {
          "output_type": "stream",
          "name": "stdout",
          "text": [
            "_03_test_5\n",
            "(256, 256, 1) 1.0 0.0021588749\n",
            "(256, 256, 3) (256, 256) (256, 256)\n"
          ]
        },
        {
          "output_type": "stream",
          "name": "stderr",
          "text": [
            "\r 13%|█▎        | 24/180 [00:04<00:26,  5.80it/s]"
          ]
        },
        {
          "output_type": "stream",
          "name": "stdout",
          "text": [
            "_03_test_6\n"
          ]
        },
        {
          "output_type": "stream",
          "name": "stderr",
          "text": [
            "\r 14%|█▍        | 25/180 [00:04<00:26,  5.80it/s]"
          ]
        },
        {
          "output_type": "stream",
          "name": "stdout",
          "text": [
            "(256, 256, 1) 1.0 0.0031320327\n",
            "(256, 256, 3) (256, 256) (256, 256)\n",
            "_03_test_7\n",
            "(256, 256, 1) 1.0 0.0028383336\n",
            "(256, 256, 3) (256, 256) (256, 256)\n"
          ]
        },
        {
          "output_type": "stream",
          "name": "stderr",
          "text": [
            "\r 14%|█▍        | 26/180 [00:04<00:26,  5.80it/s]"
          ]
        },
        {
          "output_type": "stream",
          "name": "stdout",
          "text": [
            "_03_test_8\n",
            "(256, 256, 1) 1.0 0.0024908672\n",
            "(256, 256, 3) (256, 256) (256, 256)\n"
          ]
        },
        {
          "output_type": "stream",
          "name": "stderr",
          "text": [
            "\r 15%|█▌        | 27/180 [00:04<00:26,  5.85it/s]"
          ]
        },
        {
          "output_type": "stream",
          "name": "stdout",
          "text": [
            "_04_test_0\n"
          ]
        },
        {
          "output_type": "stream",
          "name": "stderr",
          "text": [
            "\r 16%|█▌        | 28/180 [00:04<00:25,  5.87it/s]"
          ]
        },
        {
          "output_type": "stream",
          "name": "stdout",
          "text": [
            "(256, 256, 1) 1.0 0.0012829596\n",
            "(256, 256, 3) (256, 256) (256, 256)\n",
            "_04_test_1\n",
            "(256, 256, 1) 1.0 0.0014706979\n",
            "(256, 256, 3) (256, 256) (256, 256)\n"
          ]
        },
        {
          "output_type": "stream",
          "name": "stderr",
          "text": [
            "\r 16%|█▌        | 29/180 [00:04<00:25,  5.82it/s]"
          ]
        },
        {
          "output_type": "stream",
          "name": "stdout",
          "text": [
            "_04_test_2\n",
            "(256, 256, 1) 1.0 0.0022802567\n",
            "(256, 256, 3) (256, 256) (256, 256)\n"
          ]
        },
        {
          "output_type": "stream",
          "name": "stderr",
          "text": [
            "\r 17%|█▋        | 30/180 [00:05<00:25,  5.82it/s]"
          ]
        },
        {
          "output_type": "stream",
          "name": "stdout",
          "text": [
            "_04_test_3\n"
          ]
        },
        {
          "output_type": "stream",
          "name": "stderr",
          "text": [
            "\r 17%|█▋        | 31/180 [00:05<00:25,  5.81it/s]"
          ]
        },
        {
          "output_type": "stream",
          "name": "stdout",
          "text": [
            "(256, 256, 1) 1.0 0.0017599494\n",
            "(256, 256, 3) (256, 256) (256, 256)\n",
            "_04_test_4\n",
            "(256, 256, 1) 1.0 0.0012744246\n",
            "(256, 256, 3) (256, 256) (256, 256)\n"
          ]
        },
        {
          "output_type": "stream",
          "name": "stderr",
          "text": [
            "\r 18%|█▊        | 32/180 [00:05<00:25,  5.73it/s]"
          ]
        },
        {
          "output_type": "stream",
          "name": "stdout",
          "text": [
            "_04_test_5\n",
            "(256, 256, 1) 1.0 0.002054777\n",
            "(256, 256, 3) (256, 256) (256, 256)\n"
          ]
        },
        {
          "output_type": "stream",
          "name": "stderr",
          "text": [
            "\r 18%|█▊        | 33/180 [00:05<00:25,  5.71it/s]"
          ]
        },
        {
          "output_type": "stream",
          "name": "stdout",
          "text": [
            "_04_test_6\n"
          ]
        },
        {
          "output_type": "stream",
          "name": "stderr",
          "text": [
            "\r 19%|█▉        | 34/180 [00:05<00:25,  5.73it/s]"
          ]
        },
        {
          "output_type": "stream",
          "name": "stdout",
          "text": [
            "(256, 256, 1) 0.99999857 0.0028648216\n",
            "(256, 256, 3) (256, 256) (256, 256)\n",
            "_04_test_7\n",
            "(256, 256, 1) 1.0 0.0027964541\n",
            "(256, 256, 3) (256, 256) (256, 256)\n"
          ]
        },
        {
          "output_type": "stream",
          "name": "stderr",
          "text": [
            "\r 19%|█▉        | 35/180 [00:06<00:25,  5.75it/s]"
          ]
        },
        {
          "output_type": "stream",
          "name": "stdout",
          "text": [
            "_04_test_8\n",
            "(256, 256, 1) 1.0 0.0019611155\n",
            "(256, 256, 3) (256, 256) (256, 256)\n"
          ]
        },
        {
          "output_type": "stream",
          "name": "stderr",
          "text": [
            "\r 20%|██        | 36/180 [00:06<00:24,  5.81it/s]"
          ]
        },
        {
          "output_type": "stream",
          "name": "stdout",
          "text": [
            "_05_test_0\n"
          ]
        },
        {
          "output_type": "stream",
          "name": "stderr",
          "text": [
            "\r 21%|██        | 37/180 [00:06<00:24,  5.84it/s]"
          ]
        },
        {
          "output_type": "stream",
          "name": "stdout",
          "text": [
            "(256, 256, 1) 1.0 0.002165124\n",
            "(256, 256, 3) (256, 256) (256, 256)\n",
            "_05_test_1\n",
            "(256, 256, 1) 1.0 0.002417236\n",
            "(256, 256, 3) (256, 256) (256, 256)\n"
          ]
        },
        {
          "output_type": "stream",
          "name": "stderr",
          "text": [
            "\r 21%|██        | 38/180 [00:06<00:24,  5.86it/s]"
          ]
        },
        {
          "output_type": "stream",
          "name": "stdout",
          "text": [
            "_05_test_2\n",
            "(256, 256, 1) 0.9999999 0.0023038173\n",
            "(256, 256, 3) (256, 256) (256, 256)\n"
          ]
        },
        {
          "output_type": "stream",
          "name": "stderr",
          "text": [
            "\r 22%|██▏       | 39/180 [00:06<00:24,  5.83it/s]"
          ]
        },
        {
          "output_type": "stream",
          "name": "stdout",
          "text": [
            "_05_test_3\n"
          ]
        },
        {
          "output_type": "stream",
          "name": "stderr",
          "text": [
            "\r 22%|██▏       | 40/180 [00:06<00:24,  5.83it/s]"
          ]
        },
        {
          "output_type": "stream",
          "name": "stdout",
          "text": [
            "(256, 256, 1) 1.0 0.002237788\n",
            "(256, 256, 3) (256, 256) (256, 256)\n",
            "_05_test_4\n",
            "(256, 256, 1) 1.0 0.003301608\n",
            "(256, 256, 3) (256, 256) (256, 256)\n"
          ]
        },
        {
          "output_type": "stream",
          "name": "stderr",
          "text": [
            "\r 23%|██▎       | 41/180 [00:07<00:23,  5.81it/s]"
          ]
        },
        {
          "output_type": "stream",
          "name": "stdout",
          "text": [
            "_05_test_5\n",
            "(256, 256, 1) 1.0 0.002166299\n",
            "(256, 256, 3) (256, 256) (256, 256)\n"
          ]
        },
        {
          "output_type": "stream",
          "name": "stderr",
          "text": [
            "\r 23%|██▎       | 42/180 [00:07<00:23,  5.88it/s]"
          ]
        },
        {
          "output_type": "stream",
          "name": "stdout",
          "text": [
            "_05_test_6\n"
          ]
        },
        {
          "output_type": "stream",
          "name": "stderr",
          "text": [
            "\r 24%|██▍       | 43/180 [00:07<00:23,  5.94it/s]"
          ]
        },
        {
          "output_type": "stream",
          "name": "stdout",
          "text": [
            "(256, 256, 1) 1.0 0.0033726399\n",
            "(256, 256, 3) (256, 256) (256, 256)\n",
            "_05_test_7\n",
            "(256, 256, 1) 1.0 0.0028968523\n",
            "(256, 256, 3) (256, 256) (256, 256)\n"
          ]
        },
        {
          "output_type": "stream",
          "name": "stderr",
          "text": [
            "\r 24%|██▍       | 44/180 [00:07<00:22,  5.95it/s]"
          ]
        },
        {
          "output_type": "stream",
          "name": "stdout",
          "text": [
            "_05_test_8\n",
            "(256, 256, 1) 1.0 0.0022604223\n",
            "(256, 256, 3) (256, 256) (256, 256)\n"
          ]
        },
        {
          "output_type": "stream",
          "name": "stderr",
          "text": [
            "\r 25%|██▌       | 45/180 [00:07<00:22,  5.96it/s]"
          ]
        },
        {
          "output_type": "stream",
          "name": "stdout",
          "text": [
            "_06_test_0\n"
          ]
        },
        {
          "output_type": "stream",
          "name": "stderr",
          "text": [
            "\r 26%|██▌       | 46/180 [00:07<00:22,  6.00it/s]"
          ]
        },
        {
          "output_type": "stream",
          "name": "stdout",
          "text": [
            "(256, 256, 1) 1.0 0.002033931\n",
            "(256, 256, 3) (256, 256) (256, 256)\n",
            "_06_test_1\n",
            "(256, 256, 1) 1.0 0.0023675053\n",
            "(256, 256, 3) (256, 256) (256, 256)\n"
          ]
        },
        {
          "output_type": "stream",
          "name": "stderr",
          "text": [
            "\r 26%|██▌       | 47/180 [00:08<00:22,  5.99it/s]"
          ]
        },
        {
          "output_type": "stream",
          "name": "stdout",
          "text": [
            "_06_test_2\n",
            "(256, 256, 1) 1.0 0.0021209419\n",
            "(256, 256, 3) (256, 256) (256, 256)\n"
          ]
        },
        {
          "output_type": "stream",
          "name": "stderr",
          "text": [
            "\r 27%|██▋       | 48/180 [00:08<00:22,  5.93it/s]"
          ]
        },
        {
          "output_type": "stream",
          "name": "stdout",
          "text": [
            "_06_test_3\n"
          ]
        },
        {
          "output_type": "stream",
          "name": "stderr",
          "text": [
            "\r 27%|██▋       | 49/180 [00:08<00:22,  5.87it/s]"
          ]
        },
        {
          "output_type": "stream",
          "name": "stdout",
          "text": [
            "(256, 256, 1) 1.0 0.0027505804\n",
            "(256, 256, 3) (256, 256) (256, 256)\n",
            "_06_test_4\n",
            "(256, 256, 1) 1.0 0.0019893735\n",
            "(256, 256, 3) (256, 256) (256, 256)\n"
          ]
        },
        {
          "output_type": "stream",
          "name": "stderr",
          "text": [
            "\r 28%|██▊       | 50/180 [00:08<00:22,  5.81it/s]"
          ]
        },
        {
          "output_type": "stream",
          "name": "stdout",
          "text": [
            "_06_test_5\n",
            "(256, 256, 1) 1.0 0.0014280683\n",
            "(256, 256, 3) (256, 256) (256, 256)\n"
          ]
        },
        {
          "output_type": "stream",
          "name": "stderr",
          "text": [
            "\r 28%|██▊       | 51/180 [00:08<00:22,  5.82it/s]"
          ]
        },
        {
          "output_type": "stream",
          "name": "stdout",
          "text": [
            "_06_test_6\n"
          ]
        },
        {
          "output_type": "stream",
          "name": "stderr",
          "text": [
            "\r 29%|██▉       | 52/180 [00:08<00:21,  5.93it/s]"
          ]
        },
        {
          "output_type": "stream",
          "name": "stdout",
          "text": [
            "(256, 256, 1) 1.0 0.0025323986\n",
            "(256, 256, 3) (256, 256) (256, 256)\n",
            "_06_test_7\n",
            "(256, 256, 1) 1.0 0.0027085221\n",
            "(256, 256, 3) (256, 256) (256, 256)\n"
          ]
        },
        {
          "output_type": "stream",
          "name": "stderr",
          "text": [
            "\r 29%|██▉       | 53/180 [00:09<00:21,  5.93it/s]"
          ]
        },
        {
          "output_type": "stream",
          "name": "stdout",
          "text": [
            "_06_test_8\n",
            "(256, 256, 1) 1.0 0.0023341775\n",
            "(256, 256, 3) (256, 256) (256, 256)\n"
          ]
        },
        {
          "output_type": "stream",
          "name": "stderr",
          "text": [
            "\r 30%|███       | 54/180 [00:09<00:21,  5.98it/s]"
          ]
        },
        {
          "output_type": "stream",
          "name": "stdout",
          "text": [
            "_07_test_0\n"
          ]
        },
        {
          "output_type": "stream",
          "name": "stderr",
          "text": [
            "\r 31%|███       | 55/180 [00:09<00:21,  5.94it/s]"
          ]
        },
        {
          "output_type": "stream",
          "name": "stdout",
          "text": [
            "(256, 256, 1) 1.0 0.0018980202\n",
            "(256, 256, 3) (256, 256) (256, 256)\n",
            "_07_test_1\n",
            "(256, 256, 1) 1.0 0.0020291882\n",
            "(256, 256, 3) (256, 256) (256, 256)\n"
          ]
        },
        {
          "output_type": "stream",
          "name": "stderr",
          "text": [
            "\r 31%|███       | 56/180 [00:09<00:21,  5.87it/s]"
          ]
        },
        {
          "output_type": "stream",
          "name": "stdout",
          "text": [
            "_07_test_2\n",
            "(256, 256, 1) 1.0 0.002134434\n",
            "(256, 256, 3) (256, 256) (256, 256)\n"
          ]
        },
        {
          "output_type": "stream",
          "name": "stderr",
          "text": [
            "\r 32%|███▏      | 57/180 [00:09<00:21,  5.80it/s]"
          ]
        },
        {
          "output_type": "stream",
          "name": "stdout",
          "text": [
            "_07_test_3\n"
          ]
        },
        {
          "output_type": "stream",
          "name": "stderr",
          "text": [
            "\r 32%|███▏      | 58/180 [00:09<00:21,  5.77it/s]"
          ]
        },
        {
          "output_type": "stream",
          "name": "stdout",
          "text": [
            "(256, 256, 1) 1.0 0.0029366326\n",
            "(256, 256, 3) (256, 256) (256, 256)\n",
            "_07_test_4\n",
            "(256, 256, 1) 1.0 0.0033602347\n",
            "(256, 256, 3) (256, 256) (256, 256)\n"
          ]
        },
        {
          "output_type": "stream",
          "name": "stderr",
          "text": [
            "\r 33%|███▎      | 59/180 [00:10<00:21,  5.70it/s]"
          ]
        },
        {
          "output_type": "stream",
          "name": "stdout",
          "text": [
            "_07_test_5\n",
            "(256, 256, 1) 1.0 0.0022956075\n",
            "(256, 256, 3) (256, 256) (256, 256)\n"
          ]
        },
        {
          "output_type": "stream",
          "name": "stderr",
          "text": [
            "\r 33%|███▎      | 60/180 [00:10<00:20,  5.79it/s]"
          ]
        },
        {
          "output_type": "stream",
          "name": "stdout",
          "text": [
            "_07_test_6\n"
          ]
        },
        {
          "output_type": "stream",
          "name": "stderr",
          "text": [
            "\r 34%|███▍      | 61/180 [00:10<00:20,  5.93it/s]"
          ]
        },
        {
          "output_type": "stream",
          "name": "stdout",
          "text": [
            "(256, 256, 1) 1.0 0.0028522382\n",
            "(256, 256, 3) (256, 256) (256, 256)\n",
            "_07_test_7\n",
            "(256, 256, 1) 1.0 0.0031234513\n",
            "(256, 256, 3) (256, 256) (256, 256)\n"
          ]
        },
        {
          "output_type": "stream",
          "name": "stderr",
          "text": [
            "\r 34%|███▍      | 62/180 [00:10<00:19,  5.93it/s]"
          ]
        },
        {
          "output_type": "stream",
          "name": "stdout",
          "text": [
            "_07_test_8\n",
            "(256, 256, 1) 1.0 0.0026930815\n",
            "(256, 256, 3) (256, 256) (256, 256)\n"
          ]
        },
        {
          "output_type": "stream",
          "name": "stderr",
          "text": [
            "\r 35%|███▌      | 63/180 [00:10<00:19,  5.92it/s]"
          ]
        },
        {
          "output_type": "stream",
          "name": "stdout",
          "text": [
            "_08_test_0\n"
          ]
        },
        {
          "output_type": "stream",
          "name": "stderr",
          "text": [
            "\r 36%|███▌      | 64/180 [00:10<00:19,  5.92it/s]"
          ]
        },
        {
          "output_type": "stream",
          "name": "stdout",
          "text": [
            "(256, 256, 1) 1.0 0.00195812\n",
            "(256, 256, 3) (256, 256) (256, 256)\n",
            "_08_test_1\n",
            "(256, 256, 1) 1.0 0.0025560558\n",
            "(256, 256, 3) (256, 256) (256, 256)\n"
          ]
        },
        {
          "output_type": "stream",
          "name": "stderr",
          "text": [
            "\r 36%|███▌      | 65/180 [00:11<00:19,  5.86it/s]"
          ]
        },
        {
          "output_type": "stream",
          "name": "stdout",
          "text": [
            "_08_test_2\n",
            "(256, 256, 1) 1.0 0.0026134255\n",
            "(256, 256, 3) (256, 256) (256, 256)\n"
          ]
        },
        {
          "output_type": "stream",
          "name": "stderr",
          "text": [
            "\r 37%|███▋      | 66/180 [00:11<00:19,  5.83it/s]"
          ]
        },
        {
          "output_type": "stream",
          "name": "stdout",
          "text": [
            "_08_test_3\n"
          ]
        },
        {
          "output_type": "stream",
          "name": "stderr",
          "text": [
            "\r 37%|███▋      | 67/180 [00:11<00:19,  5.77it/s]"
          ]
        },
        {
          "output_type": "stream",
          "name": "stdout",
          "text": [
            "(256, 256, 1) 1.0 0.0024467187\n",
            "(256, 256, 3) (256, 256) (256, 256)\n",
            "_08_test_4\n",
            "(256, 256, 1) 1.0 0.003832755\n",
            "(256, 256, 3) (256, 256) (256, 256)\n"
          ]
        },
        {
          "output_type": "stream",
          "name": "stderr",
          "text": [
            "\r 38%|███▊      | 68/180 [00:11<00:19,  5.68it/s]"
          ]
        },
        {
          "output_type": "stream",
          "name": "stdout",
          "text": [
            "_08_test_5\n",
            "(256, 256, 1) 1.0 0.0016224417\n",
            "(256, 256, 3) (256, 256) (256, 256)\n"
          ]
        },
        {
          "output_type": "stream",
          "name": "stderr",
          "text": [
            "\r 38%|███▊      | 69/180 [00:11<00:19,  5.69it/s]"
          ]
        },
        {
          "output_type": "stream",
          "name": "stdout",
          "text": [
            "_08_test_6\n"
          ]
        },
        {
          "output_type": "stream",
          "name": "stderr",
          "text": [
            "\r 39%|███▉      | 70/180 [00:11<00:19,  5.78it/s]"
          ]
        },
        {
          "output_type": "stream",
          "name": "stdout",
          "text": [
            "(256, 256, 1) 1.0 0.0032911408\n",
            "(256, 256, 3) (256, 256) (256, 256)\n",
            "_08_test_7\n",
            "(256, 256, 1) 1.0 0.0029218476\n",
            "(256, 256, 3) (256, 256) (256, 256)\n"
          ]
        },
        {
          "output_type": "stream",
          "name": "stderr",
          "text": [
            "\r 39%|███▉      | 71/180 [00:12<00:18,  5.78it/s]"
          ]
        },
        {
          "output_type": "stream",
          "name": "stdout",
          "text": [
            "_08_test_8\n",
            "(256, 256, 1) 1.0 0.0022228411\n",
            "(256, 256, 3) (256, 256) (256, 256)\n"
          ]
        },
        {
          "output_type": "stream",
          "name": "stderr",
          "text": [
            "\r 40%|████      | 72/180 [00:12<00:18,  5.84it/s]"
          ]
        },
        {
          "output_type": "stream",
          "name": "stdout",
          "text": [
            "_09_test_0\n"
          ]
        },
        {
          "output_type": "stream",
          "name": "stderr",
          "text": [
            "\r 41%|████      | 73/180 [00:12<00:18,  5.85it/s]"
          ]
        },
        {
          "output_type": "stream",
          "name": "stdout",
          "text": [
            "(256, 256, 1) 1.0 0.001996552\n",
            "(256, 256, 3) (256, 256) (256, 256)\n",
            "_09_test_1\n",
            "(256, 256, 1) 1.0 0.001981949\n",
            "(256, 256, 3) (256, 256) (256, 256)\n"
          ]
        },
        {
          "output_type": "stream",
          "name": "stderr",
          "text": [
            "\r 41%|████      | 74/180 [00:12<00:18,  5.81it/s]"
          ]
        },
        {
          "output_type": "stream",
          "name": "stdout",
          "text": [
            "_09_test_2\n",
            "(256, 256, 1) 0.9962674 0.0020765332\n",
            "(256, 256, 3) (256, 256) (256, 256)\n"
          ]
        },
        {
          "output_type": "stream",
          "name": "stderr",
          "text": [
            "\r 42%|████▏     | 75/180 [00:12<00:17,  5.87it/s]"
          ]
        },
        {
          "output_type": "stream",
          "name": "stdout",
          "text": [
            "_09_test_3\n"
          ]
        },
        {
          "output_type": "stream",
          "name": "stderr",
          "text": [
            "\r 42%|████▏     | 76/180 [00:13<00:17,  5.82it/s]"
          ]
        },
        {
          "output_type": "stream",
          "name": "stdout",
          "text": [
            "(256, 256, 1) 1.0 0.0017800448\n",
            "(256, 256, 3) (256, 256) (256, 256)\n",
            "_09_test_4\n",
            "(256, 256, 1) 1.0 0.0024476885\n",
            "(256, 256, 3) (256, 256) (256, 256)\n"
          ]
        },
        {
          "output_type": "stream",
          "name": "stderr",
          "text": [
            "\r 43%|████▎     | 77/180 [00:13<00:17,  5.78it/s]"
          ]
        },
        {
          "output_type": "stream",
          "name": "stdout",
          "text": [
            "_09_test_5\n",
            "(256, 256, 1) 1.0 0.002433619\n",
            "(256, 256, 3) (256, 256) (256, 256)\n"
          ]
        },
        {
          "output_type": "stream",
          "name": "stderr",
          "text": [
            "\r 43%|████▎     | 78/180 [00:13<00:17,  5.79it/s]"
          ]
        },
        {
          "output_type": "stream",
          "name": "stdout",
          "text": [
            "_09_test_6\n"
          ]
        },
        {
          "output_type": "stream",
          "name": "stderr",
          "text": [
            "\r 44%|████▍     | 79/180 [00:13<00:17,  5.84it/s]"
          ]
        },
        {
          "output_type": "stream",
          "name": "stdout",
          "text": [
            "(256, 256, 1) 0.9999999 0.0033199296\n",
            "(256, 256, 3) (256, 256) (256, 256)\n",
            "_09_test_7\n",
            "(256, 256, 1) 1.0 0.0026057567\n",
            "(256, 256, 3) (256, 256) (256, 256)\n"
          ]
        },
        {
          "output_type": "stream",
          "name": "stderr",
          "text": [
            "\r 44%|████▍     | 80/180 [00:13<00:17,  5.82it/s]"
          ]
        },
        {
          "output_type": "stream",
          "name": "stdout",
          "text": [
            "_09_test_8\n",
            "(256, 256, 1) 1.0 0.0023643677\n",
            "(256, 256, 3) (256, 256) (256, 256)\n"
          ]
        },
        {
          "output_type": "stream",
          "name": "stderr",
          "text": [
            "\r 45%|████▌     | 81/180 [00:13<00:16,  5.91it/s]"
          ]
        },
        {
          "output_type": "stream",
          "name": "stdout",
          "text": [
            "_10_test_0\n"
          ]
        },
        {
          "output_type": "stream",
          "name": "stderr",
          "text": [
            "\r 46%|████▌     | 82/180 [00:14<00:16,  5.94it/s]"
          ]
        },
        {
          "output_type": "stream",
          "name": "stdout",
          "text": [
            "(256, 256, 1) 1.0 0.0020979294\n",
            "(256, 256, 3) (256, 256) (256, 256)\n",
            "_10_test_1\n",
            "(256, 256, 1) 1.0 0.002435685\n",
            "(256, 256, 3) (256, 256) (256, 256)\n"
          ]
        },
        {
          "output_type": "stream",
          "name": "stderr",
          "text": [
            "\r 46%|████▌     | 83/180 [00:14<00:16,  5.89it/s]"
          ]
        },
        {
          "output_type": "stream",
          "name": "stdout",
          "text": [
            "_10_test_2\n",
            "(256, 256, 1) 1.0 0.0021756368\n",
            "(256, 256, 3) (256, 256) (256, 256)\n"
          ]
        },
        {
          "output_type": "stream",
          "name": "stderr",
          "text": [
            "\r 47%|████▋     | 84/180 [00:14<00:16,  5.92it/s]"
          ]
        },
        {
          "output_type": "stream",
          "name": "stdout",
          "text": [
            "_10_test_3\n"
          ]
        },
        {
          "output_type": "stream",
          "name": "stderr",
          "text": [
            "\r 47%|████▋     | 85/180 [00:14<00:16,  5.82it/s]"
          ]
        },
        {
          "output_type": "stream",
          "name": "stdout",
          "text": [
            "(256, 256, 1) 1.0 0.0023094523\n",
            "(256, 256, 3) (256, 256) (256, 256)\n",
            "_10_test_4\n",
            "(256, 256, 1) 1.0 0.0024569412\n",
            "(256, 256, 3) (256, 256) (256, 256)\n"
          ]
        },
        {
          "output_type": "stream",
          "name": "stderr",
          "text": [
            "\r 48%|████▊     | 86/180 [00:14<00:16,  5.66it/s]"
          ]
        },
        {
          "output_type": "stream",
          "name": "stdout",
          "text": [
            "_10_test_5\n",
            "(256, 256, 1) 1.0 0.0019849555\n",
            "(256, 256, 3) (256, 256) (256, 256)\n"
          ]
        },
        {
          "output_type": "stream",
          "name": "stderr",
          "text": [
            "\r 48%|████▊     | 87/180 [00:14<00:16,  5.66it/s]"
          ]
        },
        {
          "output_type": "stream",
          "name": "stdout",
          "text": [
            "_10_test_6\n"
          ]
        },
        {
          "output_type": "stream",
          "name": "stderr",
          "text": [
            "\r 49%|████▉     | 88/180 [00:15<00:15,  5.78it/s]"
          ]
        },
        {
          "output_type": "stream",
          "name": "stdout",
          "text": [
            "(256, 256, 1) 1.0 0.003122881\n",
            "(256, 256, 3) (256, 256) (256, 256)\n",
            "_10_test_7\n",
            "(256, 256, 1) 1.0 0.002601944\n",
            "(256, 256, 3) (256, 256) (256, 256)\n"
          ]
        },
        {
          "output_type": "stream",
          "name": "stderr",
          "text": [
            "\r 49%|████▉     | 89/180 [00:15<00:15,  5.74it/s]"
          ]
        },
        {
          "output_type": "stream",
          "name": "stdout",
          "text": [
            "_10_test_8\n",
            "(256, 256, 1) 1.0 0.0020508813\n",
            "(256, 256, 3) (256, 256) (256, 256)\n"
          ]
        },
        {
          "output_type": "stream",
          "name": "stderr",
          "text": [
            "\r 50%|█████     | 90/180 [00:15<00:15,  5.82it/s]"
          ]
        },
        {
          "output_type": "stream",
          "name": "stdout",
          "text": [
            "_11_test_0\n"
          ]
        },
        {
          "output_type": "stream",
          "name": "stderr",
          "text": [
            "\r 51%|█████     | 91/180 [00:15<00:15,  5.82it/s]"
          ]
        },
        {
          "output_type": "stream",
          "name": "stdout",
          "text": [
            "(256, 256, 1) 1.0 0.0018979568\n",
            "(256, 256, 3) (256, 256) (256, 256)\n",
            "_11_test_1\n",
            "(256, 256, 1) 1.0 0.0016603367\n",
            "(256, 256, 3) (256, 256) (256, 256)\n"
          ]
        },
        {
          "output_type": "stream",
          "name": "stderr",
          "text": [
            "\r 51%|█████     | 92/180 [00:15<00:15,  5.76it/s]"
          ]
        },
        {
          "output_type": "stream",
          "name": "stdout",
          "text": [
            "_11_test_2\n",
            "(256, 256, 1) 1.0 0.0023465257\n",
            "(256, 256, 3) (256, 256) (256, 256)\n"
          ]
        },
        {
          "output_type": "stream",
          "name": "stderr",
          "text": [
            "\r 52%|█████▏    | 93/180 [00:15<00:14,  5.83it/s]"
          ]
        },
        {
          "output_type": "stream",
          "name": "stdout",
          "text": [
            "_11_test_3\n"
          ]
        },
        {
          "output_type": "stream",
          "name": "stderr",
          "text": [
            "\r 52%|█████▏    | 94/180 [00:16<00:14,  5.80it/s]"
          ]
        },
        {
          "output_type": "stream",
          "name": "stdout",
          "text": [
            "(256, 256, 1) 1.0 0.0011769235\n",
            "(256, 256, 3) (256, 256) (256, 256)\n",
            "_11_test_4\n",
            "(256, 256, 1) 1.0 0.0029465829\n",
            "(256, 256, 3) (256, 256) (256, 256)\n"
          ]
        },
        {
          "output_type": "stream",
          "name": "stderr",
          "text": [
            "\r 53%|█████▎    | 95/180 [00:16<00:14,  5.73it/s]"
          ]
        },
        {
          "output_type": "stream",
          "name": "stdout",
          "text": [
            "_11_test_5\n",
            "(256, 256, 1) 1.0 0.0021242413\n",
            "(256, 256, 3) (256, 256) (256, 256)\n"
          ]
        },
        {
          "output_type": "stream",
          "name": "stderr",
          "text": [
            "\r 53%|█████▎    | 96/180 [00:16<00:14,  5.73it/s]"
          ]
        },
        {
          "output_type": "stream",
          "name": "stdout",
          "text": [
            "_11_test_6\n"
          ]
        },
        {
          "output_type": "stream",
          "name": "stderr",
          "text": [
            "\r 54%|█████▍    | 97/180 [00:16<00:14,  5.76it/s]"
          ]
        },
        {
          "output_type": "stream",
          "name": "stdout",
          "text": [
            "(256, 256, 1) 1.0 0.003308813\n",
            "(256, 256, 3) (256, 256) (256, 256)\n",
            "_11_test_7\n",
            "(256, 256, 1) 1.0 0.002217034\n",
            "(256, 256, 3) (256, 256) (256, 256)\n"
          ]
        },
        {
          "output_type": "stream",
          "name": "stderr",
          "text": [
            "\r 54%|█████▍    | 98/180 [00:16<00:14,  5.73it/s]"
          ]
        },
        {
          "output_type": "stream",
          "name": "stdout",
          "text": [
            "_11_test_8\n",
            "(256, 256, 1) 1.0 0.0018999841\n",
            "(256, 256, 3) (256, 256) (256, 256)\n"
          ]
        },
        {
          "output_type": "stream",
          "name": "stderr",
          "text": [
            "\r 55%|█████▌    | 99/180 [00:16<00:14,  5.72it/s]"
          ]
        },
        {
          "output_type": "stream",
          "name": "stdout",
          "text": [
            "_12_test_0\n"
          ]
        },
        {
          "output_type": "stream",
          "name": "stderr",
          "text": [
            "\r 56%|█████▌    | 100/180 [00:17<00:13,  5.76it/s]"
          ]
        },
        {
          "output_type": "stream",
          "name": "stdout",
          "text": [
            "(256, 256, 1) 1.0 0.0019829792\n",
            "(256, 256, 3) (256, 256) (256, 256)\n",
            "_12_test_1\n",
            "(256, 256, 1) 1.0 0.0021681192\n",
            "(256, 256, 3) (256, 256) (256, 256)\n"
          ]
        },
        {
          "output_type": "stream",
          "name": "stderr",
          "text": [
            "\r 56%|█████▌    | 101/180 [00:17<00:13,  5.76it/s]"
          ]
        },
        {
          "output_type": "stream",
          "name": "stdout",
          "text": [
            "_12_test_2\n",
            "(256, 256, 1) 0.9999999 0.0024866918\n",
            "(256, 256, 3) (256, 256) (256, 256)\n"
          ]
        },
        {
          "output_type": "stream",
          "name": "stderr",
          "text": [
            "\r 57%|█████▋    | 102/180 [00:17<00:13,  5.82it/s]"
          ]
        },
        {
          "output_type": "stream",
          "name": "stdout",
          "text": [
            "_12_test_3\n"
          ]
        },
        {
          "output_type": "stream",
          "name": "stderr",
          "text": [
            "\r 57%|█████▋    | 103/180 [00:17<00:13,  5.84it/s]"
          ]
        },
        {
          "output_type": "stream",
          "name": "stdout",
          "text": [
            "(256, 256, 1) 1.0 0.002270675\n",
            "(256, 256, 3) (256, 256) (256, 256)\n",
            "_12_test_4\n",
            "(256, 256, 1) 1.0 0.0024207053\n",
            "(256, 256, 3) (256, 256) (256, 256)\n"
          ]
        },
        {
          "output_type": "stream",
          "name": "stderr",
          "text": [
            "\r 58%|█████▊    | 104/180 [00:17<00:13,  5.79it/s]"
          ]
        },
        {
          "output_type": "stream",
          "name": "stdout",
          "text": [
            "_12_test_5\n",
            "(256, 256, 1) 1.0 0.002084702\n",
            "(256, 256, 3) (256, 256) (256, 256)\n"
          ]
        },
        {
          "output_type": "stream",
          "name": "stderr",
          "text": [
            "\r 58%|█████▊    | 105/180 [00:18<00:12,  5.77it/s]"
          ]
        },
        {
          "output_type": "stream",
          "name": "stdout",
          "text": [
            "_12_test_6\n"
          ]
        },
        {
          "output_type": "stream",
          "name": "stderr",
          "text": [
            "\r 59%|█████▉    | 106/180 [00:18<00:12,  5.79it/s]"
          ]
        },
        {
          "output_type": "stream",
          "name": "stdout",
          "text": [
            "(256, 256, 1) 1.0 0.002919247\n",
            "(256, 256, 3) (256, 256) (256, 256)\n",
            "_12_test_7\n",
            "(256, 256, 1) 1.0 0.0023765776\n",
            "(256, 256, 3) (256, 256) (256, 256)\n"
          ]
        },
        {
          "output_type": "stream",
          "name": "stderr",
          "text": [
            "\r 59%|█████▉    | 107/180 [00:18<00:12,  5.76it/s]"
          ]
        },
        {
          "output_type": "stream",
          "name": "stdout",
          "text": [
            "_12_test_8\n",
            "(256, 256, 1) 1.0 0.002581519\n",
            "(256, 256, 3) (256, 256) (256, 256)\n"
          ]
        },
        {
          "output_type": "stream",
          "name": "stderr",
          "text": [
            "\r 60%|██████    | 108/180 [00:18<00:12,  5.83it/s]"
          ]
        },
        {
          "output_type": "stream",
          "name": "stdout",
          "text": [
            "_13_test_0\n"
          ]
        },
        {
          "output_type": "stream",
          "name": "stderr",
          "text": [
            "\r 61%|██████    | 109/180 [00:18<00:12,  5.81it/s]"
          ]
        },
        {
          "output_type": "stream",
          "name": "stdout",
          "text": [
            "(256, 256, 1) 1.0 0.0015597882\n",
            "(256, 256, 3) (256, 256) (256, 256)\n",
            "_13_test_1\n",
            "(256, 256, 1) 1.0 0.0016139785\n",
            "(256, 256, 3) (256, 256) (256, 256)\n"
          ]
        },
        {
          "output_type": "stream",
          "name": "stderr",
          "text": [
            "\r 61%|██████    | 110/180 [00:18<00:12,  5.79it/s]"
          ]
        },
        {
          "output_type": "stream",
          "name": "stdout",
          "text": [
            "_13_test_2\n",
            "(256, 256, 1) 1.0 0.0020804736\n",
            "(256, 256, 3) (256, 256) (256, 256)\n"
          ]
        },
        {
          "output_type": "stream",
          "name": "stderr",
          "text": [
            "\r 62%|██████▏   | 111/180 [00:19<00:11,  5.84it/s]"
          ]
        },
        {
          "output_type": "stream",
          "name": "stdout",
          "text": [
            "_13_test_3\n"
          ]
        },
        {
          "output_type": "stream",
          "name": "stderr",
          "text": [
            "\r 62%|██████▏   | 112/180 [00:19<00:11,  5.82it/s]"
          ]
        },
        {
          "output_type": "stream",
          "name": "stdout",
          "text": [
            "(256, 256, 1) 1.0 0.001866967\n",
            "(256, 256, 3) (256, 256) (256, 256)\n",
            "_13_test_4\n",
            "(256, 256, 1) 1.0 0.0022424562\n",
            "(256, 256, 3) (256, 256) (256, 256)\n"
          ]
        },
        {
          "output_type": "stream",
          "name": "stderr",
          "text": [
            "\r 63%|██████▎   | 113/180 [00:19<00:11,  5.75it/s]"
          ]
        },
        {
          "output_type": "stream",
          "name": "stdout",
          "text": [
            "_13_test_5\n",
            "(256, 256, 1) 1.0 0.0021213575\n",
            "(256, 256, 3) (256, 256) (256, 256)\n"
          ]
        },
        {
          "output_type": "stream",
          "name": "stderr",
          "text": [
            "\r 63%|██████▎   | 114/180 [00:19<00:11,  5.77it/s]"
          ]
        },
        {
          "output_type": "stream",
          "name": "stdout",
          "text": [
            "_13_test_6\n"
          ]
        },
        {
          "output_type": "stream",
          "name": "stderr",
          "text": [
            "\r 64%|██████▍   | 115/180 [00:19<00:11,  5.79it/s]"
          ]
        },
        {
          "output_type": "stream",
          "name": "stdout",
          "text": [
            "(256, 256, 1) 1.0 0.0028813495\n",
            "(256, 256, 3) (256, 256) (256, 256)\n",
            "_13_test_7\n",
            "(256, 256, 1) 1.0 0.002653202\n",
            "(256, 256, 3) (256, 256) (256, 256)\n"
          ]
        },
        {
          "output_type": "stream",
          "name": "stderr",
          "text": [
            "\r 64%|██████▍   | 116/180 [00:19<00:11,  5.80it/s]"
          ]
        },
        {
          "output_type": "stream",
          "name": "stdout",
          "text": [
            "_13_test_8\n",
            "(256, 256, 1) 1.0 0.0020142377\n",
            "(256, 256, 3) (256, 256) (256, 256)\n"
          ]
        },
        {
          "output_type": "stream",
          "name": "stderr",
          "text": [
            "\r 65%|██████▌   | 117/180 [00:20<00:10,  5.84it/s]"
          ]
        },
        {
          "output_type": "stream",
          "name": "stdout",
          "text": [
            "_14_test_0\n"
          ]
        },
        {
          "output_type": "stream",
          "name": "stderr",
          "text": [
            "\r 66%|██████▌   | 118/180 [00:20<00:10,  5.88it/s]"
          ]
        },
        {
          "output_type": "stream",
          "name": "stdout",
          "text": [
            "(256, 256, 1) 1.0 0.0018340982\n",
            "(256, 256, 3) (256, 256) (256, 256)\n",
            "_14_test_1\n",
            "(256, 256, 1) 1.0 0.002047284\n",
            "(256, 256, 3) (256, 256) (256, 256)\n"
          ]
        },
        {
          "output_type": "stream",
          "name": "stderr",
          "text": [
            "\r 66%|██████▌   | 119/180 [00:20<00:10,  5.94it/s]"
          ]
        },
        {
          "output_type": "stream",
          "name": "stdout",
          "text": [
            "_14_test_2\n",
            "(256, 256, 1) 1.0 0.0019722017\n",
            "(256, 256, 3) (256, 256) (256, 256)\n"
          ]
        },
        {
          "output_type": "stream",
          "name": "stderr",
          "text": [
            "\r 67%|██████▋   | 120/180 [00:20<00:10,  5.96it/s]"
          ]
        },
        {
          "output_type": "stream",
          "name": "stdout",
          "text": [
            "_14_test_3\n"
          ]
        },
        {
          "output_type": "stream",
          "name": "stderr",
          "text": [
            "\r 67%|██████▋   | 121/180 [00:20<00:09,  5.99it/s]"
          ]
        },
        {
          "output_type": "stream",
          "name": "stdout",
          "text": [
            "(256, 256, 1) 1.0 0.002595966\n",
            "(256, 256, 3) (256, 256) (256, 256)\n",
            "_14_test_4\n",
            "(256, 256, 1) 1.0 0.0035197758\n",
            "(256, 256, 3) (256, 256) (256, 256)\n"
          ]
        },
        {
          "output_type": "stream",
          "name": "stderr",
          "text": [
            "\r 68%|██████▊   | 122/180 [00:20<00:09,  5.88it/s]"
          ]
        },
        {
          "output_type": "stream",
          "name": "stdout",
          "text": [
            "_14_test_5\n",
            "(256, 256, 1) 1.0 0.002210343\n",
            "(256, 256, 3) (256, 256) (256, 256)\n"
          ]
        },
        {
          "output_type": "stream",
          "name": "stderr",
          "text": [
            "\r 68%|██████▊   | 123/180 [00:21<00:09,  5.81it/s]"
          ]
        },
        {
          "output_type": "stream",
          "name": "stdout",
          "text": [
            "_14_test_6\n"
          ]
        },
        {
          "output_type": "stream",
          "name": "stderr",
          "text": [
            "\r 69%|██████▉   | 124/180 [00:21<00:09,  5.84it/s]"
          ]
        },
        {
          "output_type": "stream",
          "name": "stdout",
          "text": [
            "(256, 256, 1) 1.0 0.0032330637\n",
            "(256, 256, 3) (256, 256) (256, 256)\n",
            "_14_test_7\n",
            "(256, 256, 1) 1.0 0.0025291112\n",
            "(256, 256, 3) (256, 256) (256, 256)\n"
          ]
        },
        {
          "output_type": "stream",
          "name": "stderr",
          "text": [
            "\r 69%|██████▉   | 125/180 [00:21<00:09,  5.80it/s]"
          ]
        },
        {
          "output_type": "stream",
          "name": "stdout",
          "text": [
            "_14_test_8\n",
            "(256, 256, 1) 1.0 0.0022633658\n",
            "(256, 256, 3) (256, 256) (256, 256)\n"
          ]
        },
        {
          "output_type": "stream",
          "name": "stderr",
          "text": [
            "\r 70%|███████   | 126/180 [00:21<00:09,  5.84it/s]"
          ]
        },
        {
          "output_type": "stream",
          "name": "stdout",
          "text": [
            "_15_test_0\n"
          ]
        },
        {
          "output_type": "stream",
          "name": "stderr",
          "text": [
            "\r 71%|███████   | 127/180 [00:21<00:09,  5.88it/s]"
          ]
        },
        {
          "output_type": "stream",
          "name": "stdout",
          "text": [
            "(256, 256, 1) 1.0 0.0019729102\n",
            "(256, 256, 3) (256, 256) (256, 256)\n",
            "_15_test_1\n",
            "(256, 256, 1) 1.0 0.0027562343\n",
            "(256, 256, 3) (256, 256) (256, 256)\n"
          ]
        },
        {
          "output_type": "stream",
          "name": "stderr",
          "text": [
            "\r 71%|███████   | 128/180 [00:21<00:08,  5.83it/s]"
          ]
        },
        {
          "output_type": "stream",
          "name": "stdout",
          "text": [
            "_15_test_2\n",
            "(256, 256, 1) 1.0 0.0020573295\n",
            "(256, 256, 3) (256, 256) (256, 256)\n"
          ]
        },
        {
          "output_type": "stream",
          "name": "stderr",
          "text": [
            "\r 72%|███████▏  | 129/180 [00:22<00:08,  5.93it/s]"
          ]
        },
        {
          "output_type": "stream",
          "name": "stdout",
          "text": [
            "_15_test_3\n"
          ]
        },
        {
          "output_type": "stream",
          "name": "stderr",
          "text": [
            "\r 72%|███████▏  | 130/180 [00:22<00:08,  5.96it/s]"
          ]
        },
        {
          "output_type": "stream",
          "name": "stdout",
          "text": [
            "(256, 256, 1) 1.0 0.0015944093\n",
            "(256, 256, 3) (256, 256) (256, 256)\n",
            "_15_test_4\n",
            "(256, 256, 1) 1.0 0.0016669616\n",
            "(256, 256, 3) (256, 256) (256, 256)\n"
          ]
        },
        {
          "output_type": "stream",
          "name": "stderr",
          "text": [
            "\r 73%|███████▎  | 131/180 [00:22<00:08,  5.87it/s]"
          ]
        },
        {
          "output_type": "stream",
          "name": "stdout",
          "text": [
            "_15_test_5\n",
            "(256, 256, 1) 1.0 0.0021197048\n",
            "(256, 256, 3) (256, 256) (256, 256)\n"
          ]
        },
        {
          "output_type": "stream",
          "name": "stderr",
          "text": [
            "\r 73%|███████▎  | 132/180 [00:22<00:08,  5.87it/s]"
          ]
        },
        {
          "output_type": "stream",
          "name": "stdout",
          "text": [
            "_15_test_6\n"
          ]
        },
        {
          "output_type": "stream",
          "name": "stderr",
          "text": [
            "\r 74%|███████▍  | 133/180 [00:22<00:07,  5.88it/s]"
          ]
        },
        {
          "output_type": "stream",
          "name": "stdout",
          "text": [
            "(256, 256, 1) 1.0 0.0033264474\n",
            "(256, 256, 3) (256, 256) (256, 256)\n",
            "_15_test_7\n",
            "(256, 256, 1) 1.0 0.002759069\n",
            "(256, 256, 3) (256, 256) (256, 256)\n"
          ]
        },
        {
          "output_type": "stream",
          "name": "stderr",
          "text": [
            "\r 74%|███████▍  | 134/180 [00:22<00:07,  5.82it/s]"
          ]
        },
        {
          "output_type": "stream",
          "name": "stdout",
          "text": [
            "_15_test_8\n",
            "(256, 256, 1) 1.0 0.0023402404\n",
            "(256, 256, 3) (256, 256) (256, 256)\n"
          ]
        },
        {
          "output_type": "stream",
          "name": "stderr",
          "text": [
            "\r 75%|███████▌  | 135/180 [00:23<00:07,  5.89it/s]"
          ]
        },
        {
          "output_type": "stream",
          "name": "stdout",
          "text": [
            "_16_test_0\n"
          ]
        },
        {
          "output_type": "stream",
          "name": "stderr",
          "text": [
            "\r 76%|███████▌  | 136/180 [00:23<00:07,  5.93it/s]"
          ]
        },
        {
          "output_type": "stream",
          "name": "stdout",
          "text": [
            "(256, 256, 1) 1.0 0.0018541868\n",
            "(256, 256, 3) (256, 256) (256, 256)\n",
            "_16_test_1\n",
            "(256, 256, 1) 1.0 0.0016773257\n",
            "(256, 256, 3) (256, 256) (256, 256)\n"
          ]
        },
        {
          "output_type": "stream",
          "name": "stderr",
          "text": [
            "\r 76%|███████▌  | 137/180 [00:23<00:07,  5.86it/s]"
          ]
        },
        {
          "output_type": "stream",
          "name": "stdout",
          "text": [
            "_16_test_2\n",
            "(256, 256, 1) 1.0 0.001940977\n",
            "(256, 256, 3) (256, 256) (256, 256)\n"
          ]
        },
        {
          "output_type": "stream",
          "name": "stderr",
          "text": [
            "\r 77%|███████▋  | 138/180 [00:23<00:07,  5.84it/s]"
          ]
        },
        {
          "output_type": "stream",
          "name": "stdout",
          "text": [
            "_16_test_3\n"
          ]
        },
        {
          "output_type": "stream",
          "name": "stderr",
          "text": [
            "\r 77%|███████▋  | 139/180 [00:23<00:06,  5.89it/s]"
          ]
        },
        {
          "output_type": "stream",
          "name": "stdout",
          "text": [
            "(256, 256, 1) 1.0 0.001955624\n",
            "(256, 256, 3) (256, 256) (256, 256)\n",
            "_16_test_4\n",
            "(256, 256, 1) 1.0 0.0020852338\n",
            "(256, 256, 3) (256, 256) (256, 256)\n"
          ]
        },
        {
          "output_type": "stream",
          "name": "stderr",
          "text": [
            "\r 78%|███████▊  | 140/180 [00:23<00:06,  5.83it/s]"
          ]
        },
        {
          "output_type": "stream",
          "name": "stdout",
          "text": [
            "_16_test_5\n",
            "(256, 256, 1) 1.0 0.0015063967\n",
            "(256, 256, 3) (256, 256) (256, 256)\n"
          ]
        },
        {
          "output_type": "stream",
          "name": "stderr",
          "text": [
            "\r 78%|███████▊  | 141/180 [00:24<00:06,  5.84it/s]"
          ]
        },
        {
          "output_type": "stream",
          "name": "stdout",
          "text": [
            "_16_test_6\n"
          ]
        },
        {
          "output_type": "stream",
          "name": "stderr",
          "text": [
            "\r 79%|███████▉  | 142/180 [00:24<00:06,  5.91it/s]"
          ]
        },
        {
          "output_type": "stream",
          "name": "stdout",
          "text": [
            "(256, 256, 1) 1.0 0.0030946822\n",
            "(256, 256, 3) (256, 256) (256, 256)\n",
            "_16_test_7\n",
            "(256, 256, 1) 1.0 0.0022285995\n",
            "(256, 256, 3) (256, 256) (256, 256)\n"
          ]
        },
        {
          "output_type": "stream",
          "name": "stderr",
          "text": [
            "\r 79%|███████▉  | 143/180 [00:24<00:06,  5.90it/s]"
          ]
        },
        {
          "output_type": "stream",
          "name": "stdout",
          "text": [
            "_16_test_8\n",
            "(256, 256, 1) 1.0 0.0026327544\n",
            "(256, 256, 3) (256, 256) (256, 256)\n"
          ]
        },
        {
          "output_type": "stream",
          "name": "stderr",
          "text": [
            "\r 80%|████████  | 144/180 [00:24<00:06,  5.97it/s]"
          ]
        },
        {
          "output_type": "stream",
          "name": "stdout",
          "text": [
            "_17_test_0\n"
          ]
        },
        {
          "output_type": "stream",
          "name": "stderr",
          "text": [
            "\r 81%|████████  | 145/180 [00:24<00:05,  6.02it/s]"
          ]
        },
        {
          "output_type": "stream",
          "name": "stdout",
          "text": [
            "(256, 256, 1) 1.0 0.0014607788\n",
            "(256, 256, 3) (256, 256) (256, 256)\n",
            "_17_test_1\n",
            "(256, 256, 1) 1.0 0.0013071651\n",
            "(256, 256, 3) (256, 256) (256, 256)\n"
          ]
        },
        {
          "output_type": "stream",
          "name": "stderr",
          "text": [
            "\r 81%|████████  | 146/180 [00:24<00:05,  5.95it/s]"
          ]
        },
        {
          "output_type": "stream",
          "name": "stdout",
          "text": [
            "_17_test_2\n",
            "(256, 256, 1) 1.0 0.001549658\n",
            "(256, 256, 3) (256, 256) (256, 256)\n"
          ]
        },
        {
          "output_type": "stream",
          "name": "stderr",
          "text": [
            "\r 82%|████████▏ | 147/180 [00:25<00:05,  5.94it/s]"
          ]
        },
        {
          "output_type": "stream",
          "name": "stdout",
          "text": [
            "_17_test_3\n"
          ]
        },
        {
          "output_type": "stream",
          "name": "stderr",
          "text": [
            "\r 82%|████████▏ | 148/180 [00:25<00:05,  5.86it/s]"
          ]
        },
        {
          "output_type": "stream",
          "name": "stdout",
          "text": [
            "(256, 256, 1) 1.0 0.0013887917\n",
            "(256, 256, 3) (256, 256) (256, 256)\n",
            "_17_test_4\n",
            "(256, 256, 1) 1.0 0.0023421939\n",
            "(256, 256, 3) (256, 256) (256, 256)\n"
          ]
        },
        {
          "output_type": "stream",
          "name": "stderr",
          "text": [
            "\r 83%|████████▎ | 149/180 [00:25<00:05,  5.86it/s]"
          ]
        },
        {
          "output_type": "stream",
          "name": "stdout",
          "text": [
            "_17_test_5\n",
            "(256, 256, 1) 1.0 0.0018883519\n",
            "(256, 256, 3) (256, 256) (256, 256)\n"
          ]
        },
        {
          "output_type": "stream",
          "name": "stderr",
          "text": [
            "\r 83%|████████▎ | 150/180 [00:25<00:05,  5.87it/s]"
          ]
        },
        {
          "output_type": "stream",
          "name": "stdout",
          "text": [
            "_17_test_6\n"
          ]
        },
        {
          "output_type": "stream",
          "name": "stderr",
          "text": [
            "\r 84%|████████▍ | 151/180 [00:25<00:04,  5.88it/s]"
          ]
        },
        {
          "output_type": "stream",
          "name": "stdout",
          "text": [
            "(256, 256, 1) 0.9999999 0.001787872\n",
            "(256, 256, 3) (256, 256) (256, 256)\n",
            "_17_test_7\n",
            "(256, 256, 1) 1.0 0.0019747561\n",
            "(256, 256, 3) (256, 256) (256, 256)\n"
          ]
        },
        {
          "output_type": "stream",
          "name": "stderr",
          "text": [
            "\r 84%|████████▍ | 152/180 [00:26<00:04,  5.91it/s]"
          ]
        },
        {
          "output_type": "stream",
          "name": "stdout",
          "text": [
            "_17_test_8\n",
            "(256, 256, 1) 1.0 0.0019750993\n",
            "(256, 256, 3) (256, 256) (256, 256)\n"
          ]
        },
        {
          "output_type": "stream",
          "name": "stderr",
          "text": [
            "\r 85%|████████▌ | 153/180 [00:26<00:04,  5.94it/s]"
          ]
        },
        {
          "output_type": "stream",
          "name": "stdout",
          "text": [
            "_18_test_0\n"
          ]
        },
        {
          "output_type": "stream",
          "name": "stderr",
          "text": [
            "\r 86%|████████▌ | 154/180 [00:26<00:04,  5.97it/s]"
          ]
        },
        {
          "output_type": "stream",
          "name": "stdout",
          "text": [
            "(256, 256, 1) 1.0 0.001801262\n",
            "(256, 256, 3) (256, 256) (256, 256)\n",
            "_18_test_1\n",
            "(256, 256, 1) 1.0 0.0013191634\n",
            "(256, 256, 3) (256, 256) (256, 256)\n"
          ]
        },
        {
          "output_type": "stream",
          "name": "stderr",
          "text": [
            "\r 86%|████████▌ | 155/180 [00:26<00:04,  5.95it/s]"
          ]
        },
        {
          "output_type": "stream",
          "name": "stdout",
          "text": [
            "_18_test_2\n",
            "(256, 256, 1) 1.0 0.0018264228\n",
            "(256, 256, 3) (256, 256) (256, 256)\n"
          ]
        },
        {
          "output_type": "stream",
          "name": "stderr",
          "text": [
            "\r 87%|████████▋ | 156/180 [00:26<00:04,  5.93it/s]"
          ]
        },
        {
          "output_type": "stream",
          "name": "stdout",
          "text": [
            "_18_test_3\n"
          ]
        },
        {
          "output_type": "stream",
          "name": "stderr",
          "text": [
            "\r 87%|████████▋ | 157/180 [00:26<00:03,  5.91it/s]"
          ]
        },
        {
          "output_type": "stream",
          "name": "stdout",
          "text": [
            "(256, 256, 1) 1.0 0.0026090713\n",
            "(256, 256, 3) (256, 256) (256, 256)\n",
            "_18_test_4\n",
            "(256, 256, 1) 1.0 0.00238112\n",
            "(256, 256, 3) (256, 256) (256, 256)\n"
          ]
        },
        {
          "output_type": "stream",
          "name": "stderr",
          "text": [
            "\r 88%|████████▊ | 158/180 [00:27<00:03,  5.76it/s]"
          ]
        },
        {
          "output_type": "stream",
          "name": "stdout",
          "text": [
            "_18_test_5\n",
            "(256, 256, 1) 1.0 0.0014784391\n",
            "(256, 256, 3) (256, 256) (256, 256)\n"
          ]
        },
        {
          "output_type": "stream",
          "name": "stderr",
          "text": [
            "\r 88%|████████▊ | 159/180 [00:27<00:03,  5.84it/s]"
          ]
        },
        {
          "output_type": "stream",
          "name": "stdout",
          "text": [
            "_18_test_6\n"
          ]
        },
        {
          "output_type": "stream",
          "name": "stderr",
          "text": [
            "\r 89%|████████▉ | 160/180 [00:27<00:03,  5.94it/s]"
          ]
        },
        {
          "output_type": "stream",
          "name": "stdout",
          "text": [
            "(256, 256, 1) 1.0 0.0032293655\n",
            "(256, 256, 3) (256, 256) (256, 256)\n",
            "_18_test_7\n",
            "(256, 256, 1) 1.0 0.0027937216\n",
            "(256, 256, 3) (256, 256) (256, 256)\n"
          ]
        },
        {
          "output_type": "stream",
          "name": "stderr",
          "text": [
            "\r 89%|████████▉ | 161/180 [00:27<00:03,  5.90it/s]"
          ]
        },
        {
          "output_type": "stream",
          "name": "stdout",
          "text": [
            "_18_test_8\n",
            "(256, 256, 1) 1.0 0.002410105\n",
            "(256, 256, 3) (256, 256) (256, 256)\n"
          ]
        },
        {
          "output_type": "stream",
          "name": "stderr",
          "text": [
            "\r 90%|█████████ | 162/180 [00:27<00:03,  5.87it/s]"
          ]
        },
        {
          "output_type": "stream",
          "name": "stdout",
          "text": [
            "_19_test_0\n"
          ]
        },
        {
          "output_type": "stream",
          "name": "stderr",
          "text": [
            "\r 91%|█████████ | 163/180 [00:27<00:02,  5.88it/s]"
          ]
        },
        {
          "output_type": "stream",
          "name": "stdout",
          "text": [
            "(256, 256, 1) 1.0 0.0021724054\n",
            "(256, 256, 3) (256, 256) (256, 256)\n",
            "_19_test_1\n",
            "(256, 256, 1) 1.0 0.0020639098\n",
            "(256, 256, 3) (256, 256) (256, 256)\n"
          ]
        },
        {
          "output_type": "stream",
          "name": "stderr",
          "text": [
            "\r 91%|█████████ | 164/180 [00:28<00:02,  5.89it/s]"
          ]
        },
        {
          "output_type": "stream",
          "name": "stdout",
          "text": [
            "_19_test_2\n",
            "(256, 256, 1) 1.0 0.0019796886\n",
            "(256, 256, 3) (256, 256) (256, 256)\n"
          ]
        },
        {
          "output_type": "stream",
          "name": "stderr",
          "text": [
            "\r 92%|█████████▏| 165/180 [00:28<00:02,  5.89it/s]"
          ]
        },
        {
          "output_type": "stream",
          "name": "stdout",
          "text": [
            "_19_test_3\n"
          ]
        },
        {
          "output_type": "stream",
          "name": "stderr",
          "text": [
            "\r 92%|█████████▏| 166/180 [00:28<00:02,  5.86it/s]"
          ]
        },
        {
          "output_type": "stream",
          "name": "stdout",
          "text": [
            "(256, 256, 1) 1.0 0.0027033696\n",
            "(256, 256, 3) (256, 256) (256, 256)\n",
            "_19_test_4\n",
            "(256, 256, 1) 1.0 0.0018910321\n",
            "(256, 256, 3) (256, 256) (256, 256)\n"
          ]
        },
        {
          "output_type": "stream",
          "name": "stderr",
          "text": [
            "\r 93%|█████████▎| 167/180 [00:28<00:02,  5.76it/s]"
          ]
        },
        {
          "output_type": "stream",
          "name": "stdout",
          "text": [
            "_19_test_5\n",
            "(256, 256, 1) 1.0 0.0018416151\n",
            "(256, 256, 3) (256, 256) (256, 256)\n"
          ]
        },
        {
          "output_type": "stream",
          "name": "stderr",
          "text": [
            "\r 93%|█████████▎| 168/180 [00:28<00:02,  5.72it/s]"
          ]
        },
        {
          "output_type": "stream",
          "name": "stdout",
          "text": [
            "_19_test_6\n"
          ]
        },
        {
          "output_type": "stream",
          "name": "stderr",
          "text": [
            "\r 94%|█████████▍| 169/180 [00:28<00:01,  5.81it/s]"
          ]
        },
        {
          "output_type": "stream",
          "name": "stdout",
          "text": [
            "(256, 256, 1) 1.0 0.0028500655\n",
            "(256, 256, 3) (256, 256) (256, 256)\n",
            "_19_test_7\n",
            "(256, 256, 1) 1.0 0.0022239455\n",
            "(256, 256, 3) (256, 256) (256, 256)\n"
          ]
        },
        {
          "output_type": "stream",
          "name": "stderr",
          "text": [
            "\r 94%|█████████▍| 170/180 [00:29<00:01,  5.78it/s]"
          ]
        },
        {
          "output_type": "stream",
          "name": "stdout",
          "text": [
            "_19_test_8\n",
            "(256, 256, 1) 1.0 0.0022269047\n",
            "(256, 256, 3) (256, 256) (256, 256)\n"
          ]
        },
        {
          "output_type": "stream",
          "name": "stderr",
          "text": [
            "\r 95%|█████████▌| 171/180 [00:29<00:01,  5.82it/s]"
          ]
        },
        {
          "output_type": "stream",
          "name": "stdout",
          "text": [
            "_20_test_0\n"
          ]
        },
        {
          "output_type": "stream",
          "name": "stderr",
          "text": [
            "\r 96%|█████████▌| 172/180 [00:29<00:01,  5.87it/s]"
          ]
        },
        {
          "output_type": "stream",
          "name": "stdout",
          "text": [
            "(256, 256, 1) 1.0 0.0020112253\n",
            "(256, 256, 3) (256, 256) (256, 256)\n",
            "_20_test_1\n",
            "(256, 256, 1) 1.0 0.0019200396\n",
            "(256, 256, 3) (256, 256) (256, 256)\n"
          ]
        },
        {
          "output_type": "stream",
          "name": "stderr",
          "text": [
            "\r 96%|█████████▌| 173/180 [00:29<00:01,  5.86it/s]"
          ]
        },
        {
          "output_type": "stream",
          "name": "stdout",
          "text": [
            "_20_test_2\n",
            "(256, 256, 1) 1.0 0.0022866293\n",
            "(256, 256, 3) (256, 256) (256, 256)\n"
          ]
        },
        {
          "output_type": "stream",
          "name": "stderr",
          "text": [
            "\r 97%|█████████▋| 174/180 [00:29<00:01,  5.95it/s]"
          ]
        },
        {
          "output_type": "stream",
          "name": "stdout",
          "text": [
            "_20_test_3\n"
          ]
        },
        {
          "output_type": "stream",
          "name": "stderr",
          "text": [
            "\r 97%|█████████▋| 175/180 [00:29<00:00,  5.92it/s]"
          ]
        },
        {
          "output_type": "stream",
          "name": "stdout",
          "text": [
            "(256, 256, 1) 1.0 0.0027631368\n",
            "(256, 256, 3) (256, 256) (256, 256)\n",
            "_20_test_4\n",
            "(256, 256, 1) 1.0 0.0034838826\n",
            "(256, 256, 3) (256, 256) (256, 256)\n"
          ]
        },
        {
          "output_type": "stream",
          "name": "stderr",
          "text": [
            "\r 98%|█████████▊| 176/180 [00:30<00:00,  5.87it/s]"
          ]
        },
        {
          "output_type": "stream",
          "name": "stdout",
          "text": [
            "_20_test_5\n",
            "(256, 256, 1) 1.0 0.0017709276\n",
            "(256, 256, 3) (256, 256) (256, 256)\n"
          ]
        },
        {
          "output_type": "stream",
          "name": "stderr",
          "text": [
            "\r 98%|█████████▊| 177/180 [00:30<00:00,  5.85it/s]"
          ]
        },
        {
          "output_type": "stream",
          "name": "stdout",
          "text": [
            "_20_test_6\n"
          ]
        },
        {
          "output_type": "stream",
          "name": "stderr",
          "text": [
            "\r 99%|█████████▉| 178/180 [00:30<00:00,  5.85it/s]"
          ]
        },
        {
          "output_type": "stream",
          "name": "stdout",
          "text": [
            "(256, 256, 1) 1.0 0.0028372165\n",
            "(256, 256, 3) (256, 256) (256, 256)\n",
            "_20_test_7\n",
            "(256, 256, 1) 1.0 0.0032679993\n",
            "(256, 256, 3) (256, 256) (256, 256)\n"
          ]
        },
        {
          "output_type": "stream",
          "name": "stderr",
          "text": [
            "\r 99%|█████████▉| 179/180 [00:30<00:00,  5.89it/s]"
          ]
        },
        {
          "output_type": "stream",
          "name": "stdout",
          "text": [
            "_20_test_8\n",
            "(256, 256, 1) 1.0 0.0020802678\n",
            "(256, 256, 3) (256, 256) (256, 256)\n"
          ]
        },
        {
          "output_type": "stream",
          "name": "stderr",
          "text": [
            "100%|██████████| 180/180 [00:30<00:00,  5.85it/s]"
          ]
        },
        {
          "output_type": "stream",
          "name": "stdout",
          "text": [
            "Threshold: 0.50000\n",
            "Accuracy: 0.97959\n",
            "F1: 0.73496\n",
            "Jaccard: 0.59586\n",
            "Recall: 0.67999\n",
            "Precision: 0.83246\n",
            "AUC: 0.97096\n",
            "Dice Coeff: 0.64095\n"
          ]
        },
        {
          "output_type": "stream",
          "name": "stderr",
          "text": [
            "\n"
          ]
        }
      ]
    },
    {
      "cell_type": "code",
      "source": [
        "dataset_path = f\"{root_path}/{split_name}/{split}/\"\n",
        "df_0_6, score_0_6 = compute_metrics(dataset_path,\n",
        "                    results_path=results_path,\n",
        "                    threshold=0.6,\n",
        "                    model=model,\n",
        "                    predictions_path=prediction_path,\n",
        "                    prediction_np_path=prediction_np_path)"
      ],
      "metadata": {
        "id": "a5lvUqu1uoxt",
        "colab": {
          "base_uri": "https://localhost:8080/"
        },
        "outputId": "988a54c0-25bd-45a4-e7a7-df3d2341a862"
      },
      "execution_count": null,
      "outputs": [
        {
          "output_type": "stream",
          "name": "stdout",
          "text": [
            "Threshold 0.6\n"
          ]
        },
        {
          "output_type": "stream",
          "name": "stderr",
          "text": [
            "  1%|          | 1/180 [00:00<00:30,  5.91it/s]"
          ]
        },
        {
          "output_type": "stream",
          "name": "stdout",
          "text": [
            "_01_test_0\n",
            "(256, 256, 1) 1.0 0.0017256661\n",
            "(256, 256, 3) (256, 256) (256, 256)\n",
            "_01_test_1\n"
          ]
        },
        {
          "output_type": "stream",
          "name": "stderr",
          "text": [
            "\r  1%|          | 2/180 [00:00<00:30,  5.85it/s]"
          ]
        },
        {
          "output_type": "stream",
          "name": "stdout",
          "text": [
            "(256, 256, 1) 1.0 0.0020369026\n",
            "(256, 256, 3) (256, 256) (256, 256)\n",
            "_01_test_2\n",
            "(256, 256, 1) 1.0 0.002152618\n",
            "(256, 256, 3) (256, 256) (256, 256)\n"
          ]
        },
        {
          "output_type": "stream",
          "name": "stderr",
          "text": [
            "  2%|▏         | 4/180 [00:00<00:30,  5.78it/s]"
          ]
        },
        {
          "output_type": "stream",
          "name": "stdout",
          "text": [
            "_01_test_3\n",
            "(256, 256, 1) 1.0 0.0016759018\n",
            "(256, 256, 3) (256, 256) (256, 256)\n",
            "_01_test_4\n"
          ]
        },
        {
          "output_type": "stream",
          "name": "stderr",
          "text": [
            "\r  3%|▎         | 5/180 [00:00<00:30,  5.70it/s]"
          ]
        },
        {
          "output_type": "stream",
          "name": "stdout",
          "text": [
            "(256, 256, 1) 1.0 0.001604261\n",
            "(256, 256, 3) (256, 256) (256, 256)\n",
            "_01_test_5\n",
            "(256, 256, 1) 1.0 0.0017435929\n",
            "(256, 256, 3) (256, 256) (256, 256)\n"
          ]
        },
        {
          "output_type": "stream",
          "name": "stderr",
          "text": [
            "  4%|▍         | 7/180 [00:01<00:29,  5.83it/s]"
          ]
        },
        {
          "output_type": "stream",
          "name": "stdout",
          "text": [
            "_01_test_6\n",
            "(256, 256, 1) 1.0 0.0025877478\n",
            "(256, 256, 3) (256, 256) (256, 256)\n",
            "_01_test_7\n"
          ]
        },
        {
          "output_type": "stream",
          "name": "stderr",
          "text": [
            "\r  4%|▍         | 8/180 [00:01<00:29,  5.80it/s]"
          ]
        },
        {
          "output_type": "stream",
          "name": "stdout",
          "text": [
            "(256, 256, 1) 1.0 0.0023314562\n",
            "(256, 256, 3) (256, 256) (256, 256)\n",
            "_01_test_8\n",
            "(256, 256, 1) 1.0 0.0017791559\n",
            "(256, 256, 3) (256, 256) (256, 256)\n"
          ]
        },
        {
          "output_type": "stream",
          "name": "stderr",
          "text": [
            "  6%|▌         | 10/180 [00:01<00:28,  5.92it/s]"
          ]
        },
        {
          "output_type": "stream",
          "name": "stdout",
          "text": [
            "_02_test_0\n",
            "(256, 256, 1) 1.0 0.0017755901\n",
            "(256, 256, 3) (256, 256) (256, 256)\n",
            "_02_test_1\n"
          ]
        },
        {
          "output_type": "stream",
          "name": "stderr",
          "text": [
            "\r  6%|▌         | 11/180 [00:01<00:28,  5.90it/s]"
          ]
        },
        {
          "output_type": "stream",
          "name": "stdout",
          "text": [
            "(256, 256, 1) 1.0 0.0016452193\n",
            "(256, 256, 3) (256, 256) (256, 256)\n",
            "_02_test_2\n",
            "(256, 256, 1) 1.0 0.002341969\n",
            "(256, 256, 3) (256, 256) (256, 256)\n"
          ]
        },
        {
          "output_type": "stream",
          "name": "stderr",
          "text": [
            "  7%|▋         | 13/180 [00:02<00:28,  5.83it/s]"
          ]
        },
        {
          "output_type": "stream",
          "name": "stdout",
          "text": [
            "_02_test_3\n",
            "(256, 256, 1) 1.0 0.0023959489\n",
            "(256, 256, 3) (256, 256) (256, 256)\n",
            "_02_test_4\n"
          ]
        },
        {
          "output_type": "stream",
          "name": "stderr",
          "text": [
            "\r  8%|▊         | 14/180 [00:02<00:28,  5.75it/s]"
          ]
        },
        {
          "output_type": "stream",
          "name": "stdout",
          "text": [
            "(256, 256, 1) 1.0 0.002384911\n",
            "(256, 256, 3) (256, 256) (256, 256)\n",
            "_02_test_5\n",
            "(256, 256, 1) 1.0 0.0021416966\n",
            "(256, 256, 3) (256, 256) (256, 256)\n"
          ]
        },
        {
          "output_type": "stream",
          "name": "stderr",
          "text": [
            "  9%|▉         | 16/180 [00:02<00:28,  5.76it/s]"
          ]
        },
        {
          "output_type": "stream",
          "name": "stdout",
          "text": [
            "_02_test_6\n",
            "(256, 256, 1) 1.0 0.0033286328\n",
            "(256, 256, 3) (256, 256) (256, 256)\n",
            "_02_test_7\n"
          ]
        },
        {
          "output_type": "stream",
          "name": "stderr",
          "text": [
            "\r  9%|▉         | 17/180 [00:02<00:28,  5.75it/s]"
          ]
        },
        {
          "output_type": "stream",
          "name": "stdout",
          "text": [
            "(256, 256, 1) 1.0 0.0023116264\n",
            "(256, 256, 3) (256, 256) (256, 256)\n",
            "_02_test_8\n",
            "(256, 256, 1) 1.0 0.002646284\n",
            "(256, 256, 3) (256, 256) (256, 256)\n"
          ]
        },
        {
          "output_type": "stream",
          "name": "stderr",
          "text": [
            " 11%|█         | 19/180 [00:03<00:27,  5.80it/s]"
          ]
        },
        {
          "output_type": "stream",
          "name": "stdout",
          "text": [
            "_03_test_0\n",
            "(256, 256, 1) 1.0 0.0018097726\n",
            "(256, 256, 3) (256, 256) (256, 256)\n",
            "_03_test_1\n"
          ]
        },
        {
          "output_type": "stream",
          "name": "stderr",
          "text": [
            "\r 11%|█         | 20/180 [00:03<00:27,  5.78it/s]"
          ]
        },
        {
          "output_type": "stream",
          "name": "stdout",
          "text": [
            "(256, 256, 1) 1.0 0.0025355031\n",
            "(256, 256, 3) (256, 256) (256, 256)\n",
            "_03_test_2\n",
            "(256, 256, 1) 1.0 0.0020465907\n",
            "(256, 256, 3) (256, 256) (256, 256)\n"
          ]
        },
        {
          "output_type": "stream",
          "name": "stderr",
          "text": [
            " 12%|█▏        | 22/180 [00:03<00:27,  5.80it/s]"
          ]
        },
        {
          "output_type": "stream",
          "name": "stdout",
          "text": [
            "_03_test_3\n",
            "(256, 256, 1) 1.0 0.0025028072\n",
            "(256, 256, 3) (256, 256) (256, 256)\n",
            "_03_test_4\n"
          ]
        },
        {
          "output_type": "stream",
          "name": "stderr",
          "text": [
            "\r 13%|█▎        | 23/180 [00:03<00:27,  5.75it/s]"
          ]
        },
        {
          "output_type": "stream",
          "name": "stdout",
          "text": [
            "(256, 256, 1) 1.0 0.0025430021\n",
            "(256, 256, 3) (256, 256) (256, 256)\n",
            "_03_test_5\n",
            "(256, 256, 1) 1.0 0.0021588749\n",
            "(256, 256, 3) (256, 256) (256, 256)\n"
          ]
        },
        {
          "output_type": "stream",
          "name": "stderr",
          "text": [
            " 14%|█▍        | 25/180 [00:04<00:26,  5.79it/s]"
          ]
        },
        {
          "output_type": "stream",
          "name": "stdout",
          "text": [
            "_03_test_6\n",
            "(256, 256, 1) 1.0 0.0031320327\n",
            "(256, 256, 3) (256, 256) (256, 256)\n",
            "_03_test_7\n"
          ]
        },
        {
          "output_type": "stream",
          "name": "stderr",
          "text": [
            "\r 14%|█▍        | 26/180 [00:04<00:26,  5.78it/s]"
          ]
        },
        {
          "output_type": "stream",
          "name": "stdout",
          "text": [
            "(256, 256, 1) 1.0 0.0028383336\n",
            "(256, 256, 3) (256, 256) (256, 256)\n",
            "_03_test_8\n",
            "(256, 256, 1) 1.0 0.0024908672\n",
            "(256, 256, 3) (256, 256) (256, 256)\n"
          ]
        },
        {
          "output_type": "stream",
          "name": "stderr",
          "text": [
            " 16%|█▌        | 28/180 [00:04<00:26,  5.81it/s]"
          ]
        },
        {
          "output_type": "stream",
          "name": "stdout",
          "text": [
            "_04_test_0\n",
            "(256, 256, 1) 1.0 0.0012829596\n",
            "(256, 256, 3) (256, 256) (256, 256)\n",
            "_04_test_1\n"
          ]
        },
        {
          "output_type": "stream",
          "name": "stderr",
          "text": [
            "\r 16%|█▌        | 29/180 [00:05<00:25,  5.83it/s]"
          ]
        },
        {
          "output_type": "stream",
          "name": "stdout",
          "text": [
            "(256, 256, 1) 1.0 0.0014706979\n",
            "(256, 256, 3) (256, 256) (256, 256)\n",
            "_04_test_2\n",
            "(256, 256, 1) 1.0 0.0022802567\n",
            "(256, 256, 3) (256, 256) (256, 256)\n"
          ]
        },
        {
          "output_type": "stream",
          "name": "stderr",
          "text": [
            " 17%|█▋        | 31/180 [00:05<00:25,  5.91it/s]"
          ]
        },
        {
          "output_type": "stream",
          "name": "stdout",
          "text": [
            "_04_test_3\n",
            "(256, 256, 1) 1.0 0.0017599494\n",
            "(256, 256, 3) (256, 256) (256, 256)\n",
            "_04_test_4\n"
          ]
        },
        {
          "output_type": "stream",
          "name": "stderr",
          "text": [
            "\r 18%|█▊        | 32/180 [00:05<00:25,  5.82it/s]"
          ]
        },
        {
          "output_type": "stream",
          "name": "stdout",
          "text": [
            "(256, 256, 1) 1.0 0.0012744246\n",
            "(256, 256, 3) (256, 256) (256, 256)\n",
            "_04_test_5\n",
            "(256, 256, 1) 1.0 0.002054777\n",
            "(256, 256, 3) (256, 256) (256, 256)\n"
          ]
        },
        {
          "output_type": "stream",
          "name": "stderr",
          "text": [
            " 19%|█▉        | 34/180 [00:05<00:24,  5.91it/s]"
          ]
        },
        {
          "output_type": "stream",
          "name": "stdout",
          "text": [
            "_04_test_6\n",
            "(256, 256, 1) 0.99999857 0.0028648216\n",
            "(256, 256, 3) (256, 256) (256, 256)\n",
            "_04_test_7\n"
          ]
        },
        {
          "output_type": "stream",
          "name": "stderr",
          "text": [
            "\r 19%|█▉        | 35/180 [00:06<00:24,  5.86it/s]"
          ]
        },
        {
          "output_type": "stream",
          "name": "stdout",
          "text": [
            "(256, 256, 1) 1.0 0.0027964541\n",
            "(256, 256, 3) (256, 256) (256, 256)\n",
            "_04_test_8\n",
            "(256, 256, 1) 1.0 0.0019611155\n",
            "(256, 256, 3) (256, 256) (256, 256)\n"
          ]
        },
        {
          "output_type": "stream",
          "name": "stderr",
          "text": [
            " 21%|██        | 37/180 [00:06<00:24,  5.85it/s]"
          ]
        },
        {
          "output_type": "stream",
          "name": "stdout",
          "text": [
            "_05_test_0\n",
            "(256, 256, 1) 1.0 0.002165124\n",
            "(256, 256, 3) (256, 256) (256, 256)\n",
            "_05_test_1\n"
          ]
        },
        {
          "output_type": "stream",
          "name": "stderr",
          "text": [
            "\r 21%|██        | 38/180 [00:06<00:24,  5.85it/s]"
          ]
        },
        {
          "output_type": "stream",
          "name": "stdout",
          "text": [
            "(256, 256, 1) 1.0 0.002417236\n",
            "(256, 256, 3) (256, 256) (256, 256)\n",
            "_05_test_2\n",
            "(256, 256, 1) 0.9999999 0.0023038173\n",
            "(256, 256, 3) (256, 256) (256, 256)\n"
          ]
        },
        {
          "output_type": "stream",
          "name": "stderr",
          "text": [
            " 22%|██▏       | 40/180 [00:06<00:23,  5.87it/s]"
          ]
        },
        {
          "output_type": "stream",
          "name": "stdout",
          "text": [
            "_05_test_3\n",
            "(256, 256, 1) 1.0 0.002237788\n",
            "(256, 256, 3) (256, 256) (256, 256)\n",
            "_05_test_4\n"
          ]
        },
        {
          "output_type": "stream",
          "name": "stderr",
          "text": [
            "\r 23%|██▎       | 41/180 [00:07<00:23,  5.81it/s]"
          ]
        },
        {
          "output_type": "stream",
          "name": "stdout",
          "text": [
            "(256, 256, 1) 1.0 0.003301608\n",
            "(256, 256, 3) (256, 256) (256, 256)\n",
            "_05_test_5\n",
            "(256, 256, 1) 1.0 0.002166299\n",
            "(256, 256, 3) (256, 256) (256, 256)\n"
          ]
        },
        {
          "output_type": "stream",
          "name": "stderr",
          "text": [
            " 24%|██▍       | 43/180 [00:07<00:23,  5.91it/s]"
          ]
        },
        {
          "output_type": "stream",
          "name": "stdout",
          "text": [
            "_05_test_6\n",
            "(256, 256, 1) 1.0 0.0033726399\n",
            "(256, 256, 3) (256, 256) (256, 256)\n",
            "_05_test_7\n"
          ]
        },
        {
          "output_type": "stream",
          "name": "stderr",
          "text": [
            "\r 24%|██▍       | 44/180 [00:07<00:22,  5.92it/s]"
          ]
        },
        {
          "output_type": "stream",
          "name": "stdout",
          "text": [
            "(256, 256, 1) 1.0 0.0028968523\n",
            "(256, 256, 3) (256, 256) (256, 256)\n",
            "_05_test_8\n",
            "(256, 256, 1) 1.0 0.0022604223\n",
            "(256, 256, 3) (256, 256) (256, 256)\n"
          ]
        },
        {
          "output_type": "stream",
          "name": "stderr",
          "text": [
            " 26%|██▌       | 46/180 [00:07<00:22,  5.94it/s]"
          ]
        },
        {
          "output_type": "stream",
          "name": "stdout",
          "text": [
            "_06_test_0\n",
            "(256, 256, 1) 1.0 0.002033931\n",
            "(256, 256, 3) (256, 256) (256, 256)\n",
            "_06_test_1\n"
          ]
        },
        {
          "output_type": "stream",
          "name": "stderr",
          "text": [
            "\r 26%|██▌       | 47/180 [00:08<00:22,  5.82it/s]"
          ]
        },
        {
          "output_type": "stream",
          "name": "stdout",
          "text": [
            "(256, 256, 1) 1.0 0.0023675053\n",
            "(256, 256, 3) (256, 256) (256, 256)\n",
            "_06_test_2\n",
            "(256, 256, 1) 1.0 0.0021209419\n",
            "(256, 256, 3) (256, 256) (256, 256)\n"
          ]
        },
        {
          "output_type": "stream",
          "name": "stderr",
          "text": [
            " 27%|██▋       | 49/180 [00:08<00:22,  5.90it/s]"
          ]
        },
        {
          "output_type": "stream",
          "name": "stdout",
          "text": [
            "_06_test_3\n",
            "(256, 256, 1) 1.0 0.0027505804\n",
            "(256, 256, 3) (256, 256) (256, 256)\n",
            "_06_test_4\n"
          ]
        },
        {
          "output_type": "stream",
          "name": "stderr",
          "text": [
            "\r 28%|██▊       | 50/180 [00:08<00:22,  5.84it/s]"
          ]
        },
        {
          "output_type": "stream",
          "name": "stdout",
          "text": [
            "(256, 256, 1) 1.0 0.0019893735\n",
            "(256, 256, 3) (256, 256) (256, 256)\n",
            "_06_test_5\n",
            "(256, 256, 1) 1.0 0.0014280683\n",
            "(256, 256, 3) (256, 256) (256, 256)\n"
          ]
        },
        {
          "output_type": "stream",
          "name": "stderr",
          "text": [
            " 29%|██▉       | 52/180 [00:08<00:21,  5.84it/s]"
          ]
        },
        {
          "output_type": "stream",
          "name": "stdout",
          "text": [
            "_06_test_6\n",
            "(256, 256, 1) 1.0 0.0025323986\n",
            "(256, 256, 3) (256, 256) (256, 256)\n",
            "_06_test_7\n"
          ]
        },
        {
          "output_type": "stream",
          "name": "stderr",
          "text": [
            "\r 29%|██▉       | 53/180 [00:09<00:21,  5.78it/s]"
          ]
        },
        {
          "output_type": "stream",
          "name": "stdout",
          "text": [
            "(256, 256, 1) 1.0 0.0027085221\n",
            "(256, 256, 3) (256, 256) (256, 256)\n",
            "_06_test_8\n",
            "(256, 256, 1) 1.0 0.0023341775\n",
            "(256, 256, 3) (256, 256) (256, 256)\n"
          ]
        },
        {
          "output_type": "stream",
          "name": "stderr",
          "text": [
            " 31%|███       | 55/180 [00:09<00:21,  5.73it/s]"
          ]
        },
        {
          "output_type": "stream",
          "name": "stdout",
          "text": [
            "_07_test_0\n",
            "(256, 256, 1) 1.0 0.0018980202\n",
            "(256, 256, 3) (256, 256) (256, 256)\n",
            "_07_test_1\n"
          ]
        },
        {
          "output_type": "stream",
          "name": "stderr",
          "text": [
            "\r 31%|███       | 56/180 [00:09<00:21,  5.64it/s]"
          ]
        },
        {
          "output_type": "stream",
          "name": "stdout",
          "text": [
            "(256, 256, 1) 1.0 0.0020291882\n",
            "(256, 256, 3) (256, 256) (256, 256)\n",
            "_07_test_2\n",
            "(256, 256, 1) 1.0 0.002134434\n",
            "(256, 256, 3) (256, 256) (256, 256)\n"
          ]
        },
        {
          "output_type": "stream",
          "name": "stderr",
          "text": [
            " 32%|███▏      | 58/180 [00:09<00:21,  5.68it/s]"
          ]
        },
        {
          "output_type": "stream",
          "name": "stdout",
          "text": [
            "_07_test_3\n",
            "(256, 256, 1) 1.0 0.0029366326\n",
            "(256, 256, 3) (256, 256) (256, 256)\n",
            "_07_test_4\n"
          ]
        },
        {
          "output_type": "stream",
          "name": "stderr",
          "text": [
            "\r 33%|███▎      | 59/180 [00:10<00:21,  5.68it/s]"
          ]
        },
        {
          "output_type": "stream",
          "name": "stdout",
          "text": [
            "(256, 256, 1) 1.0 0.0033602347\n",
            "(256, 256, 3) (256, 256) (256, 256)\n",
            "_07_test_5\n",
            "(256, 256, 1) 1.0 0.0022956075\n",
            "(256, 256, 3) (256, 256) (256, 256)\n"
          ]
        },
        {
          "output_type": "stream",
          "name": "stderr",
          "text": [
            " 34%|███▍      | 61/180 [00:10<00:20,  5.79it/s]"
          ]
        },
        {
          "output_type": "stream",
          "name": "stdout",
          "text": [
            "_07_test_6\n",
            "(256, 256, 1) 1.0 0.0028522382\n",
            "(256, 256, 3) (256, 256) (256, 256)\n",
            "_07_test_7\n"
          ]
        },
        {
          "output_type": "stream",
          "name": "stderr",
          "text": [
            "\r 34%|███▍      | 62/180 [00:10<00:20,  5.79it/s]"
          ]
        },
        {
          "output_type": "stream",
          "name": "stdout",
          "text": [
            "(256, 256, 1) 1.0 0.0031234513\n",
            "(256, 256, 3) (256, 256) (256, 256)\n",
            "_07_test_8\n",
            "(256, 256, 1) 1.0 0.0026930815\n",
            "(256, 256, 3) (256, 256) (256, 256)\n"
          ]
        },
        {
          "output_type": "stream",
          "name": "stderr",
          "text": [
            " 36%|███▌      | 64/180 [00:11<00:19,  5.88it/s]"
          ]
        },
        {
          "output_type": "stream",
          "name": "stdout",
          "text": [
            "_08_test_0\n",
            "(256, 256, 1) 1.0 0.00195812\n",
            "(256, 256, 3) (256, 256) (256, 256)\n",
            "_08_test_1\n"
          ]
        },
        {
          "output_type": "stream",
          "name": "stderr",
          "text": [
            "\r 36%|███▌      | 65/180 [00:11<00:19,  5.87it/s]"
          ]
        },
        {
          "output_type": "stream",
          "name": "stdout",
          "text": [
            "(256, 256, 1) 1.0 0.0025560558\n",
            "(256, 256, 3) (256, 256) (256, 256)\n",
            "_08_test_2\n",
            "(256, 256, 1) 1.0 0.0026134255\n",
            "(256, 256, 3) (256, 256) (256, 256)\n"
          ]
        },
        {
          "output_type": "stream",
          "name": "stderr",
          "text": [
            " 37%|███▋      | 67/180 [00:11<00:19,  5.82it/s]"
          ]
        },
        {
          "output_type": "stream",
          "name": "stdout",
          "text": [
            "_08_test_3\n",
            "(256, 256, 1) 1.0 0.0024467187\n",
            "(256, 256, 3) (256, 256) (256, 256)\n",
            "_08_test_4\n"
          ]
        },
        {
          "output_type": "stream",
          "name": "stderr",
          "text": [
            "\r 38%|███▊      | 68/180 [00:11<00:19,  5.73it/s]"
          ]
        },
        {
          "output_type": "stream",
          "name": "stdout",
          "text": [
            "(256, 256, 1) 1.0 0.003832755\n",
            "(256, 256, 3) (256, 256) (256, 256)\n",
            "_08_test_5\n",
            "(256, 256, 1) 1.0 0.0016224417\n",
            "(256, 256, 3) (256, 256) (256, 256)\n"
          ]
        },
        {
          "output_type": "stream",
          "name": "stderr",
          "text": [
            " 39%|███▉      | 70/180 [00:12<00:19,  5.79it/s]"
          ]
        },
        {
          "output_type": "stream",
          "name": "stdout",
          "text": [
            "_08_test_6\n",
            "(256, 256, 1) 1.0 0.0032911408\n",
            "(256, 256, 3) (256, 256) (256, 256)\n",
            "_08_test_7\n"
          ]
        },
        {
          "output_type": "stream",
          "name": "stderr",
          "text": [
            "\r 39%|███▉      | 71/180 [00:12<00:18,  5.83it/s]"
          ]
        },
        {
          "output_type": "stream",
          "name": "stdout",
          "text": [
            "(256, 256, 1) 1.0 0.0029218476\n",
            "(256, 256, 3) (256, 256) (256, 256)\n",
            "_08_test_8\n",
            "(256, 256, 1) 1.0 0.0022228411\n",
            "(256, 256, 3) (256, 256) (256, 256)\n"
          ]
        },
        {
          "output_type": "stream",
          "name": "stderr",
          "text": [
            " 41%|████      | 73/180 [00:12<00:18,  5.84it/s]"
          ]
        },
        {
          "output_type": "stream",
          "name": "stdout",
          "text": [
            "_09_test_0\n",
            "(256, 256, 1) 1.0 0.001996552\n",
            "(256, 256, 3) (256, 256) (256, 256)\n",
            "_09_test_1\n"
          ]
        },
        {
          "output_type": "stream",
          "name": "stderr",
          "text": [
            "\r 41%|████      | 74/180 [00:12<00:18,  5.83it/s]"
          ]
        },
        {
          "output_type": "stream",
          "name": "stdout",
          "text": [
            "(256, 256, 1) 1.0 0.001981949\n",
            "(256, 256, 3) (256, 256) (256, 256)\n",
            "_09_test_2\n",
            "(256, 256, 1) 0.9962674 0.0020765332\n",
            "(256, 256, 3) (256, 256) (256, 256)\n"
          ]
        },
        {
          "output_type": "stream",
          "name": "stderr",
          "text": [
            " 42%|████▏     | 76/180 [00:13<00:17,  5.79it/s]"
          ]
        },
        {
          "output_type": "stream",
          "name": "stdout",
          "text": [
            "_09_test_3\n",
            "(256, 256, 1) 1.0 0.0017800448\n",
            "(256, 256, 3) (256, 256) (256, 256)\n",
            "_09_test_4\n"
          ]
        },
        {
          "output_type": "stream",
          "name": "stderr",
          "text": [
            "\r 43%|████▎     | 77/180 [00:13<00:18,  5.69it/s]"
          ]
        },
        {
          "output_type": "stream",
          "name": "stdout",
          "text": [
            "(256, 256, 1) 1.0 0.0024476885\n",
            "(256, 256, 3) (256, 256) (256, 256)\n",
            "_09_test_5\n",
            "(256, 256, 1) 1.0 0.002433619\n",
            "(256, 256, 3) (256, 256) (256, 256)\n"
          ]
        },
        {
          "output_type": "stream",
          "name": "stderr",
          "text": [
            " 44%|████▍     | 79/180 [00:13<00:17,  5.79it/s]"
          ]
        },
        {
          "output_type": "stream",
          "name": "stdout",
          "text": [
            "_09_test_6\n",
            "(256, 256, 1) 0.9999999 0.0033199296\n",
            "(256, 256, 3) (256, 256) (256, 256)\n",
            "_09_test_7\n"
          ]
        },
        {
          "output_type": "stream",
          "name": "stderr",
          "text": [
            "\r 44%|████▍     | 80/180 [00:13<00:17,  5.85it/s]"
          ]
        },
        {
          "output_type": "stream",
          "name": "stdout",
          "text": [
            "(256, 256, 1) 1.0 0.0026057567\n",
            "(256, 256, 3) (256, 256) (256, 256)\n",
            "_09_test_8\n",
            "(256, 256, 1) 1.0 0.0023643677\n",
            "(256, 256, 3) (256, 256) (256, 256)\n"
          ]
        },
        {
          "output_type": "stream",
          "name": "stderr",
          "text": [
            " 46%|████▌     | 82/180 [00:14<00:16,  5.87it/s]"
          ]
        },
        {
          "output_type": "stream",
          "name": "stdout",
          "text": [
            "_10_test_0\n",
            "(256, 256, 1) 1.0 0.0020979294\n",
            "(256, 256, 3) (256, 256) (256, 256)\n",
            "_10_test_1\n"
          ]
        },
        {
          "output_type": "stream",
          "name": "stderr",
          "text": [
            "\r 46%|████▌     | 83/180 [00:14<00:16,  5.88it/s]"
          ]
        },
        {
          "output_type": "stream",
          "name": "stdout",
          "text": [
            "(256, 256, 1) 1.0 0.002435685\n",
            "(256, 256, 3) (256, 256) (256, 256)\n",
            "_10_test_2\n",
            "(256, 256, 1) 1.0 0.0021756368\n",
            "(256, 256, 3) (256, 256) (256, 256)\n"
          ]
        },
        {
          "output_type": "stream",
          "name": "stderr",
          "text": [
            " 47%|████▋     | 85/180 [00:14<00:16,  5.83it/s]"
          ]
        },
        {
          "output_type": "stream",
          "name": "stdout",
          "text": [
            "_10_test_3\n",
            "(256, 256, 1) 1.0 0.0023094523\n",
            "(256, 256, 3) (256, 256) (256, 256)\n",
            "_10_test_4\n"
          ]
        },
        {
          "output_type": "stream",
          "name": "stderr",
          "text": [
            "\r 48%|████▊     | 86/180 [00:14<00:16,  5.64it/s]"
          ]
        },
        {
          "output_type": "stream",
          "name": "stdout",
          "text": [
            "(256, 256, 1) 1.0 0.0024569412\n",
            "(256, 256, 3) (256, 256) (256, 256)\n",
            "_10_test_5\n",
            "(256, 256, 1) 1.0 0.0019849555\n",
            "(256, 256, 3) (256, 256) (256, 256)\n"
          ]
        },
        {
          "output_type": "stream",
          "name": "stderr",
          "text": [
            " 49%|████▉     | 88/180 [00:15<00:16,  5.70it/s]"
          ]
        },
        {
          "output_type": "stream",
          "name": "stdout",
          "text": [
            "_10_test_6\n",
            "(256, 256, 1) 1.0 0.003122881\n",
            "(256, 256, 3) (256, 256) (256, 256)\n",
            "_10_test_7\n"
          ]
        },
        {
          "output_type": "stream",
          "name": "stderr",
          "text": [
            "\r 49%|████▉     | 89/180 [00:15<00:15,  5.76it/s]"
          ]
        },
        {
          "output_type": "stream",
          "name": "stdout",
          "text": [
            "(256, 256, 1) 1.0 0.002601944\n",
            "(256, 256, 3) (256, 256) (256, 256)\n",
            "_10_test_8\n",
            "(256, 256, 1) 1.0 0.0020508813\n",
            "(256, 256, 3) (256, 256) (256, 256)\n"
          ]
        },
        {
          "output_type": "stream",
          "name": "stderr",
          "text": [
            " 51%|█████     | 91/180 [00:15<00:15,  5.92it/s]"
          ]
        },
        {
          "output_type": "stream",
          "name": "stdout",
          "text": [
            "_11_test_0\n",
            "(256, 256, 1) 1.0 0.0018979568\n",
            "(256, 256, 3) (256, 256) (256, 256)\n",
            "_11_test_1\n"
          ]
        },
        {
          "output_type": "stream",
          "name": "stderr",
          "text": [
            "\r 51%|█████     | 92/180 [00:15<00:14,  5.91it/s]"
          ]
        },
        {
          "output_type": "stream",
          "name": "stdout",
          "text": [
            "(256, 256, 1) 1.0 0.0016603367\n",
            "(256, 256, 3) (256, 256) (256, 256)\n",
            "_11_test_2\n",
            "(256, 256, 1) 1.0 0.0023465257\n",
            "(256, 256, 3) (256, 256) (256, 256)\n"
          ]
        },
        {
          "output_type": "stream",
          "name": "stderr",
          "text": [
            " 52%|█████▏    | 94/180 [00:16<00:14,  5.82it/s]"
          ]
        },
        {
          "output_type": "stream",
          "name": "stdout",
          "text": [
            "_11_test_3\n",
            "(256, 256, 1) 1.0 0.0011769235\n",
            "(256, 256, 3) (256, 256) (256, 256)\n",
            "_11_test_4\n"
          ]
        },
        {
          "output_type": "stream",
          "name": "stderr",
          "text": [
            "\r 53%|█████▎    | 95/180 [00:16<00:14,  5.78it/s]"
          ]
        },
        {
          "output_type": "stream",
          "name": "stdout",
          "text": [
            "(256, 256, 1) 1.0 0.0029465829\n",
            "(256, 256, 3) (256, 256) (256, 256)\n",
            "_11_test_5\n",
            "(256, 256, 1) 1.0 0.0021242413\n",
            "(256, 256, 3) (256, 256) (256, 256)\n"
          ]
        },
        {
          "output_type": "stream",
          "name": "stderr",
          "text": [
            " 54%|█████▍    | 97/180 [00:16<00:14,  5.80it/s]"
          ]
        },
        {
          "output_type": "stream",
          "name": "stdout",
          "text": [
            "_11_test_6\n",
            "(256, 256, 1) 1.0 0.003308813\n",
            "(256, 256, 3) (256, 256) (256, 256)\n",
            "_11_test_7\n"
          ]
        },
        {
          "output_type": "stream",
          "name": "stderr",
          "text": [
            "\r 54%|█████▍    | 98/180 [00:16<00:14,  5.76it/s]"
          ]
        },
        {
          "output_type": "stream",
          "name": "stdout",
          "text": [
            "(256, 256, 1) 1.0 0.002217034\n",
            "(256, 256, 3) (256, 256) (256, 256)\n",
            "_11_test_8\n",
            "(256, 256, 1) 1.0 0.0018999841\n",
            "(256, 256, 3) (256, 256) (256, 256)\n"
          ]
        },
        {
          "output_type": "stream",
          "name": "stderr",
          "text": [
            " 56%|█████▌    | 100/180 [00:17<00:13,  5.72it/s]"
          ]
        },
        {
          "output_type": "stream",
          "name": "stdout",
          "text": [
            "_12_test_0\n",
            "(256, 256, 1) 1.0 0.0019829792\n",
            "(256, 256, 3) (256, 256) (256, 256)\n",
            "_12_test_1\n"
          ]
        },
        {
          "output_type": "stream",
          "name": "stderr",
          "text": [
            "\r 56%|█████▌    | 101/180 [00:17<00:14,  5.64it/s]"
          ]
        },
        {
          "output_type": "stream",
          "name": "stdout",
          "text": [
            "(256, 256, 1) 1.0 0.0021681192\n",
            "(256, 256, 3) (256, 256) (256, 256)\n",
            "_12_test_2\n",
            "(256, 256, 1) 0.9999999 0.0024866918\n",
            "(256, 256, 3) (256, 256) (256, 256)\n"
          ]
        },
        {
          "output_type": "stream",
          "name": "stderr",
          "text": [
            " 57%|█████▋    | 103/180 [00:17<00:13,  5.73it/s]"
          ]
        },
        {
          "output_type": "stream",
          "name": "stdout",
          "text": [
            "_12_test_3\n",
            "(256, 256, 1) 1.0 0.002270675\n",
            "(256, 256, 3) (256, 256) (256, 256)\n",
            "_12_test_4\n"
          ]
        },
        {
          "output_type": "stream",
          "name": "stderr",
          "text": [
            "\r 58%|█████▊    | 104/180 [00:17<00:13,  5.67it/s]"
          ]
        },
        {
          "output_type": "stream",
          "name": "stdout",
          "text": [
            "(256, 256, 1) 1.0 0.0024207053\n",
            "(256, 256, 3) (256, 256) (256, 256)\n",
            "_12_test_5\n",
            "(256, 256, 1) 1.0 0.002084702\n",
            "(256, 256, 3) (256, 256) (256, 256)\n"
          ]
        },
        {
          "output_type": "stream",
          "name": "stderr",
          "text": [
            " 59%|█████▉    | 106/180 [00:18<00:12,  5.77it/s]"
          ]
        },
        {
          "output_type": "stream",
          "name": "stdout",
          "text": [
            "_12_test_6\n",
            "(256, 256, 1) 1.0 0.002919247\n",
            "(256, 256, 3) (256, 256) (256, 256)\n",
            "_12_test_7\n"
          ]
        },
        {
          "output_type": "stream",
          "name": "stderr",
          "text": [
            "\r 59%|█████▉    | 107/180 [00:18<00:12,  5.71it/s]"
          ]
        },
        {
          "output_type": "stream",
          "name": "stdout",
          "text": [
            "(256, 256, 1) 1.0 0.0023765776\n",
            "(256, 256, 3) (256, 256) (256, 256)\n",
            "_12_test_8\n",
            "(256, 256, 1) 1.0 0.002581519\n",
            "(256, 256, 3) (256, 256) (256, 256)\n"
          ]
        },
        {
          "output_type": "stream",
          "name": "stderr",
          "text": [
            " 61%|██████    | 109/180 [00:18<00:12,  5.86it/s]"
          ]
        },
        {
          "output_type": "stream",
          "name": "stdout",
          "text": [
            "_13_test_0\n",
            "(256, 256, 1) 1.0 0.0015597882\n",
            "(256, 256, 3) (256, 256) (256, 256)\n",
            "_13_test_1\n"
          ]
        },
        {
          "output_type": "stream",
          "name": "stderr",
          "text": [
            "\r 61%|██████    | 110/180 [00:18<00:12,  5.79it/s]"
          ]
        },
        {
          "output_type": "stream",
          "name": "stdout",
          "text": [
            "(256, 256, 1) 1.0 0.0016139785\n",
            "(256, 256, 3) (256, 256) (256, 256)\n",
            "_13_test_2\n",
            "(256, 256, 1) 1.0 0.0020804736\n",
            "(256, 256, 3) (256, 256) (256, 256)\n"
          ]
        },
        {
          "output_type": "stream",
          "name": "stderr",
          "text": [
            " 62%|██████▏   | 112/180 [00:19<00:11,  5.79it/s]"
          ]
        },
        {
          "output_type": "stream",
          "name": "stdout",
          "text": [
            "_13_test_3\n",
            "(256, 256, 1) 1.0 0.001866967\n",
            "(256, 256, 3) (256, 256) (256, 256)\n",
            "_13_test_4\n"
          ]
        },
        {
          "output_type": "stream",
          "name": "stderr",
          "text": [
            "\r 63%|██████▎   | 113/180 [00:19<00:11,  5.65it/s]"
          ]
        },
        {
          "output_type": "stream",
          "name": "stdout",
          "text": [
            "(256, 256, 1) 1.0 0.0022424562\n",
            "(256, 256, 3) (256, 256) (256, 256)\n",
            "_13_test_5\n",
            "(256, 256, 1) 1.0 0.0021213575\n",
            "(256, 256, 3) (256, 256) (256, 256)\n"
          ]
        },
        {
          "output_type": "stream",
          "name": "stderr",
          "text": [
            " 64%|██████▍   | 115/180 [00:19<00:11,  5.75it/s]"
          ]
        },
        {
          "output_type": "stream",
          "name": "stdout",
          "text": [
            "_13_test_6\n",
            "(256, 256, 1) 1.0 0.0028813495\n",
            "(256, 256, 3) (256, 256) (256, 256)\n",
            "_13_test_7\n"
          ]
        },
        {
          "output_type": "stream",
          "name": "stderr",
          "text": [
            "\r 64%|██████▍   | 116/180 [00:20<00:11,  5.65it/s]"
          ]
        },
        {
          "output_type": "stream",
          "name": "stdout",
          "text": [
            "(256, 256, 1) 1.0 0.002653202\n",
            "(256, 256, 3) (256, 256) (256, 256)\n",
            "_13_test_8\n",
            "(256, 256, 1) 1.0 0.0020142377\n",
            "(256, 256, 3) (256, 256) (256, 256)\n"
          ]
        },
        {
          "output_type": "stream",
          "name": "stderr",
          "text": [
            " 66%|██████▌   | 118/180 [00:20<00:10,  5.80it/s]"
          ]
        },
        {
          "output_type": "stream",
          "name": "stdout",
          "text": [
            "_14_test_0\n",
            "(256, 256, 1) 1.0 0.0018340982\n",
            "(256, 256, 3) (256, 256) (256, 256)\n",
            "_14_test_1\n"
          ]
        },
        {
          "output_type": "stream",
          "name": "stderr",
          "text": [
            "\r 66%|██████▌   | 119/180 [00:20<00:10,  5.76it/s]"
          ]
        },
        {
          "output_type": "stream",
          "name": "stdout",
          "text": [
            "(256, 256, 1) 1.0 0.002047284\n",
            "(256, 256, 3) (256, 256) (256, 256)\n",
            "_14_test_2\n",
            "(256, 256, 1) 1.0 0.0019722017\n",
            "(256, 256, 3) (256, 256) (256, 256)\n"
          ]
        },
        {
          "output_type": "stream",
          "name": "stderr",
          "text": [
            " 67%|██████▋   | 121/180 [00:20<00:10,  5.83it/s]"
          ]
        },
        {
          "output_type": "stream",
          "name": "stdout",
          "text": [
            "_14_test_3\n",
            "(256, 256, 1) 1.0 0.002595966\n",
            "(256, 256, 3) (256, 256) (256, 256)\n",
            "_14_test_4\n"
          ]
        },
        {
          "output_type": "stream",
          "name": "stderr",
          "text": [
            "\r 68%|██████▊   | 122/180 [00:21<00:10,  5.74it/s]"
          ]
        },
        {
          "output_type": "stream",
          "name": "stdout",
          "text": [
            "(256, 256, 1) 1.0 0.0035197758\n",
            "(256, 256, 3) (256, 256) (256, 256)\n",
            "_14_test_5\n",
            "(256, 256, 1) 1.0 0.002210343\n",
            "(256, 256, 3) (256, 256) (256, 256)\n"
          ]
        },
        {
          "output_type": "stream",
          "name": "stderr",
          "text": [
            " 69%|██████▉   | 124/180 [00:21<00:09,  5.84it/s]"
          ]
        },
        {
          "output_type": "stream",
          "name": "stdout",
          "text": [
            "_14_test_6\n",
            "(256, 256, 1) 1.0 0.0032330637\n",
            "(256, 256, 3) (256, 256) (256, 256)\n",
            "_14_test_7\n"
          ]
        },
        {
          "output_type": "stream",
          "name": "stderr",
          "text": [
            "\r 69%|██████▉   | 125/180 [00:21<00:09,  5.78it/s]"
          ]
        },
        {
          "output_type": "stream",
          "name": "stdout",
          "text": [
            "(256, 256, 1) 1.0 0.0025291112\n",
            "(256, 256, 3) (256, 256) (256, 256)\n",
            "_14_test_8\n",
            "(256, 256, 1) 1.0 0.0022633658\n",
            "(256, 256, 3) (256, 256) (256, 256)\n"
          ]
        },
        {
          "output_type": "stream",
          "name": "stderr",
          "text": [
            " 71%|███████   | 127/180 [00:21<00:09,  5.88it/s]"
          ]
        },
        {
          "output_type": "stream",
          "name": "stdout",
          "text": [
            "_15_test_0\n",
            "(256, 256, 1) 1.0 0.0019729102\n",
            "(256, 256, 3) (256, 256) (256, 256)\n",
            "_15_test_1\n"
          ]
        },
        {
          "output_type": "stream",
          "name": "stderr",
          "text": [
            "\r 71%|███████   | 128/180 [00:22<00:08,  5.85it/s]"
          ]
        },
        {
          "output_type": "stream",
          "name": "stdout",
          "text": [
            "(256, 256, 1) 1.0 0.0027562343\n",
            "(256, 256, 3) (256, 256) (256, 256)\n",
            "_15_test_2\n",
            "(256, 256, 1) 1.0 0.0020573295\n",
            "(256, 256, 3) (256, 256) (256, 256)\n"
          ]
        },
        {
          "output_type": "stream",
          "name": "stderr",
          "text": [
            " 72%|███████▏  | 130/180 [00:22<00:08,  5.86it/s]"
          ]
        },
        {
          "output_type": "stream",
          "name": "stdout",
          "text": [
            "_15_test_3\n",
            "(256, 256, 1) 1.0 0.0015944093\n",
            "(256, 256, 3) (256, 256) (256, 256)\n",
            "_15_test_4\n"
          ]
        },
        {
          "output_type": "stream",
          "name": "stderr",
          "text": [
            "\r 73%|███████▎  | 131/180 [00:22<00:08,  5.74it/s]"
          ]
        },
        {
          "output_type": "stream",
          "name": "stdout",
          "text": [
            "(256, 256, 1) 1.0 0.0016669616\n",
            "(256, 256, 3) (256, 256) (256, 256)\n",
            "_15_test_5\n",
            "(256, 256, 1) 1.0 0.0021197048\n",
            "(256, 256, 3) (256, 256) (256, 256)\n"
          ]
        },
        {
          "output_type": "stream",
          "name": "stderr",
          "text": [
            " 74%|███████▍  | 133/180 [00:22<00:08,  5.80it/s]"
          ]
        },
        {
          "output_type": "stream",
          "name": "stdout",
          "text": [
            "_15_test_6\n",
            "(256, 256, 1) 1.0 0.0033264474\n",
            "(256, 256, 3) (256, 256) (256, 256)\n",
            "_15_test_7\n"
          ]
        },
        {
          "output_type": "stream",
          "name": "stderr",
          "text": [
            "\r 74%|███████▍  | 134/180 [00:23<00:07,  5.78it/s]"
          ]
        },
        {
          "output_type": "stream",
          "name": "stdout",
          "text": [
            "(256, 256, 1) 1.0 0.002759069\n",
            "(256, 256, 3) (256, 256) (256, 256)\n",
            "_15_test_8\n",
            "(256, 256, 1) 1.0 0.0023402404\n",
            "(256, 256, 3) (256, 256) (256, 256)\n"
          ]
        },
        {
          "output_type": "stream",
          "name": "stderr",
          "text": [
            " 76%|███████▌  | 136/180 [00:23<00:07,  5.85it/s]"
          ]
        },
        {
          "output_type": "stream",
          "name": "stdout",
          "text": [
            "_16_test_0\n",
            "(256, 256, 1) 1.0 0.0018541868\n",
            "(256, 256, 3) (256, 256) (256, 256)\n",
            "_16_test_1\n"
          ]
        },
        {
          "output_type": "stream",
          "name": "stderr",
          "text": [
            "\r 76%|███████▌  | 137/180 [00:23<00:07,  5.82it/s]"
          ]
        },
        {
          "output_type": "stream",
          "name": "stdout",
          "text": [
            "(256, 256, 1) 1.0 0.0016773257\n",
            "(256, 256, 3) (256, 256) (256, 256)\n",
            "_16_test_2\n",
            "(256, 256, 1) 1.0 0.001940977\n",
            "(256, 256, 3) (256, 256) (256, 256)\n"
          ]
        },
        {
          "output_type": "stream",
          "name": "stderr",
          "text": [
            " 77%|███████▋  | 139/180 [00:23<00:06,  5.89it/s]"
          ]
        },
        {
          "output_type": "stream",
          "name": "stdout",
          "text": [
            "_16_test_3\n",
            "(256, 256, 1) 1.0 0.001955624\n",
            "(256, 256, 3) (256, 256) (256, 256)\n",
            "_16_test_4\n"
          ]
        },
        {
          "output_type": "stream",
          "name": "stderr",
          "text": [
            "\r 78%|███████▊  | 140/180 [00:24<00:06,  5.76it/s]"
          ]
        },
        {
          "output_type": "stream",
          "name": "stdout",
          "text": [
            "(256, 256, 1) 1.0 0.0020852338\n",
            "(256, 256, 3) (256, 256) (256, 256)\n",
            "_16_test_5\n",
            "(256, 256, 1) 1.0 0.0015063967\n",
            "(256, 256, 3) (256, 256) (256, 256)\n"
          ]
        },
        {
          "output_type": "stream",
          "name": "stderr",
          "text": [
            " 79%|███████▉  | 142/180 [00:24<00:06,  5.85it/s]"
          ]
        },
        {
          "output_type": "stream",
          "name": "stdout",
          "text": [
            "_16_test_6\n",
            "(256, 256, 1) 1.0 0.0030946822\n",
            "(256, 256, 3) (256, 256) (256, 256)\n",
            "_16_test_7\n"
          ]
        },
        {
          "output_type": "stream",
          "name": "stderr",
          "text": [
            "\r 79%|███████▉  | 143/180 [00:24<00:06,  5.82it/s]"
          ]
        },
        {
          "output_type": "stream",
          "name": "stdout",
          "text": [
            "(256, 256, 1) 1.0 0.0022285995\n",
            "(256, 256, 3) (256, 256) (256, 256)\n",
            "_16_test_8\n",
            "(256, 256, 1) 1.0 0.0026327544\n",
            "(256, 256, 3) (256, 256) (256, 256)\n"
          ]
        },
        {
          "output_type": "stream",
          "name": "stderr",
          "text": [
            " 81%|████████  | 145/180 [00:24<00:05,  5.86it/s]"
          ]
        },
        {
          "output_type": "stream",
          "name": "stdout",
          "text": [
            "_17_test_0\n",
            "(256, 256, 1) 1.0 0.0014607788\n",
            "(256, 256, 3) (256, 256) (256, 256)\n",
            "_17_test_1\n"
          ]
        },
        {
          "output_type": "stream",
          "name": "stderr",
          "text": [
            "\r 81%|████████  | 146/180 [00:25<00:05,  5.76it/s]"
          ]
        },
        {
          "output_type": "stream",
          "name": "stdout",
          "text": [
            "(256, 256, 1) 1.0 0.0013071651\n",
            "(256, 256, 3) (256, 256) (256, 256)\n",
            "_17_test_2\n",
            "(256, 256, 1) 1.0 0.001549658\n",
            "(256, 256, 3) (256, 256) (256, 256)\n"
          ]
        },
        {
          "output_type": "stream",
          "name": "stderr",
          "text": [
            " 82%|████████▏ | 148/180 [00:25<00:05,  5.80it/s]"
          ]
        },
        {
          "output_type": "stream",
          "name": "stdout",
          "text": [
            "_17_test_3\n",
            "(256, 256, 1) 1.0 0.0013887917\n",
            "(256, 256, 3) (256, 256) (256, 256)\n",
            "_17_test_4\n"
          ]
        },
        {
          "output_type": "stream",
          "name": "stderr",
          "text": [
            "\r 83%|████████▎ | 149/180 [00:25<00:05,  5.73it/s]"
          ]
        },
        {
          "output_type": "stream",
          "name": "stdout",
          "text": [
            "(256, 256, 1) 1.0 0.0023421939\n",
            "(256, 256, 3) (256, 256) (256, 256)\n",
            "_17_test_5\n",
            "(256, 256, 1) 1.0 0.0018883519\n",
            "(256, 256, 3) (256, 256) (256, 256)\n"
          ]
        },
        {
          "output_type": "stream",
          "name": "stderr",
          "text": [
            " 84%|████████▍ | 151/180 [00:26<00:05,  5.78it/s]"
          ]
        },
        {
          "output_type": "stream",
          "name": "stdout",
          "text": [
            "_17_test_6\n",
            "(256, 256, 1) 0.9999999 0.001787872\n",
            "(256, 256, 3) (256, 256) (256, 256)\n",
            "_17_test_7\n"
          ]
        },
        {
          "output_type": "stream",
          "name": "stderr",
          "text": [
            "\r 84%|████████▍ | 152/180 [00:26<00:04,  5.80it/s]"
          ]
        },
        {
          "output_type": "stream",
          "name": "stdout",
          "text": [
            "(256, 256, 1) 1.0 0.0019747561\n",
            "(256, 256, 3) (256, 256) (256, 256)\n",
            "_17_test_8\n",
            "(256, 256, 1) 1.0 0.0019750993\n",
            "(256, 256, 3) (256, 256) (256, 256)\n"
          ]
        },
        {
          "output_type": "stream",
          "name": "stderr",
          "text": [
            " 86%|████████▌ | 154/180 [00:26<00:04,  5.84it/s]"
          ]
        },
        {
          "output_type": "stream",
          "name": "stdout",
          "text": [
            "_18_test_0\n",
            "(256, 256, 1) 1.0 0.001801262\n",
            "(256, 256, 3) (256, 256) (256, 256)\n",
            "_18_test_1\n"
          ]
        },
        {
          "output_type": "stream",
          "name": "stderr",
          "text": [
            "\r 86%|████████▌ | 155/180 [00:26<00:04,  5.80it/s]"
          ]
        },
        {
          "output_type": "stream",
          "name": "stdout",
          "text": [
            "(256, 256, 1) 1.0 0.0013191634\n",
            "(256, 256, 3) (256, 256) (256, 256)\n",
            "_18_test_2\n",
            "(256, 256, 1) 1.0 0.0018264228\n",
            "(256, 256, 3) (256, 256) (256, 256)\n"
          ]
        },
        {
          "output_type": "stream",
          "name": "stderr",
          "text": [
            " 87%|████████▋ | 157/180 [00:27<00:03,  5.76it/s]"
          ]
        },
        {
          "output_type": "stream",
          "name": "stdout",
          "text": [
            "_18_test_3\n",
            "(256, 256, 1) 1.0 0.0026090713\n",
            "(256, 256, 3) (256, 256) (256, 256)\n",
            "_18_test_4\n"
          ]
        },
        {
          "output_type": "stream",
          "name": "stderr",
          "text": [
            "\r 88%|████████▊ | 158/180 [00:27<00:03,  5.74it/s]"
          ]
        },
        {
          "output_type": "stream",
          "name": "stdout",
          "text": [
            "(256, 256, 1) 1.0 0.00238112\n",
            "(256, 256, 3) (256, 256) (256, 256)\n",
            "_18_test_5\n",
            "(256, 256, 1) 1.0 0.0014784391\n",
            "(256, 256, 3) (256, 256) (256, 256)\n"
          ]
        },
        {
          "output_type": "stream",
          "name": "stderr",
          "text": [
            " 89%|████████▉ | 160/180 [00:27<00:03,  5.80it/s]"
          ]
        },
        {
          "output_type": "stream",
          "name": "stdout",
          "text": [
            "_18_test_6\n",
            "(256, 256, 1) 1.0 0.0032293655\n",
            "(256, 256, 3) (256, 256) (256, 256)\n",
            "_18_test_7\n"
          ]
        },
        {
          "output_type": "stream",
          "name": "stderr",
          "text": [
            "\r 89%|████████▉ | 161/180 [00:27<00:03,  5.81it/s]"
          ]
        },
        {
          "output_type": "stream",
          "name": "stdout",
          "text": [
            "(256, 256, 1) 1.0 0.0027937216\n",
            "(256, 256, 3) (256, 256) (256, 256)\n",
            "_18_test_8\n",
            "(256, 256, 1) 1.0 0.002410105\n",
            "(256, 256, 3) (256, 256) (256, 256)\n"
          ]
        },
        {
          "output_type": "stream",
          "name": "stderr",
          "text": [
            " 91%|█████████ | 163/180 [00:28<00:02,  5.73it/s]"
          ]
        },
        {
          "output_type": "stream",
          "name": "stdout",
          "text": [
            "_19_test_0\n",
            "(256, 256, 1) 1.0 0.0021724054\n",
            "(256, 256, 3) (256, 256) (256, 256)\n",
            "_19_test_1\n"
          ]
        },
        {
          "output_type": "stream",
          "name": "stderr",
          "text": [
            "\r 91%|█████████ | 164/180 [00:28<00:02,  5.69it/s]"
          ]
        },
        {
          "output_type": "stream",
          "name": "stdout",
          "text": [
            "(256, 256, 1) 1.0 0.0020639098\n",
            "(256, 256, 3) (256, 256) (256, 256)\n",
            "_19_test_2\n",
            "(256, 256, 1) 1.0 0.0019796886\n",
            "(256, 256, 3) (256, 256) (256, 256)\n"
          ]
        },
        {
          "output_type": "stream",
          "name": "stderr",
          "text": [
            " 92%|█████████▏| 166/180 [00:28<00:02,  5.67it/s]"
          ]
        },
        {
          "output_type": "stream",
          "name": "stdout",
          "text": [
            "_19_test_3\n",
            "(256, 256, 1) 1.0 0.0027033696\n",
            "(256, 256, 3) (256, 256) (256, 256)\n",
            "_19_test_4\n"
          ]
        },
        {
          "output_type": "stream",
          "name": "stderr",
          "text": [
            "\r 93%|█████████▎| 167/180 [00:28<00:02,  5.62it/s]"
          ]
        },
        {
          "output_type": "stream",
          "name": "stdout",
          "text": [
            "(256, 256, 1) 1.0 0.0018910321\n",
            "(256, 256, 3) (256, 256) (256, 256)\n",
            "_19_test_5\n",
            "(256, 256, 1) 1.0 0.0018416151\n",
            "(256, 256, 3) (256, 256) (256, 256)\n"
          ]
        },
        {
          "output_type": "stream",
          "name": "stderr",
          "text": [
            " 94%|█████████▍| 169/180 [00:29<00:01,  5.71it/s]"
          ]
        },
        {
          "output_type": "stream",
          "name": "stdout",
          "text": [
            "_19_test_6\n",
            "(256, 256, 1) 1.0 0.0028500655\n",
            "(256, 256, 3) (256, 256) (256, 256)\n",
            "_19_test_7\n"
          ]
        },
        {
          "output_type": "stream",
          "name": "stderr",
          "text": [
            "\r 94%|█████████▍| 170/180 [00:29<00:01,  5.76it/s]"
          ]
        },
        {
          "output_type": "stream",
          "name": "stdout",
          "text": [
            "(256, 256, 1) 1.0 0.0022239455\n",
            "(256, 256, 3) (256, 256) (256, 256)\n",
            "_19_test_8\n",
            "(256, 256, 1) 1.0 0.0022269047\n",
            "(256, 256, 3) (256, 256) (256, 256)\n"
          ]
        },
        {
          "output_type": "stream",
          "name": "stderr",
          "text": [
            " 96%|█████████▌| 172/180 [00:29<00:01,  5.80it/s]"
          ]
        },
        {
          "output_type": "stream",
          "name": "stdout",
          "text": [
            "_20_test_0\n",
            "(256, 256, 1) 1.0 0.0020112253\n",
            "(256, 256, 3) (256, 256) (256, 256)\n",
            "_20_test_1\n"
          ]
        },
        {
          "output_type": "stream",
          "name": "stderr",
          "text": [
            "\r 96%|█████████▌| 173/180 [00:29<00:01,  5.76it/s]"
          ]
        },
        {
          "output_type": "stream",
          "name": "stdout",
          "text": [
            "(256, 256, 1) 1.0 0.0019200396\n",
            "(256, 256, 3) (256, 256) (256, 256)\n",
            "_20_test_2\n",
            "(256, 256, 1) 1.0 0.0022866293\n",
            "(256, 256, 3) (256, 256) (256, 256)\n"
          ]
        },
        {
          "output_type": "stream",
          "name": "stderr",
          "text": [
            " 97%|█████████▋| 175/180 [00:30<00:00,  5.80it/s]"
          ]
        },
        {
          "output_type": "stream",
          "name": "stdout",
          "text": [
            "_20_test_3\n",
            "(256, 256, 1) 1.0 0.0027631368\n",
            "(256, 256, 3) (256, 256) (256, 256)\n",
            "_20_test_4\n"
          ]
        },
        {
          "output_type": "stream",
          "name": "stderr",
          "text": [
            "\r 98%|█████████▊| 176/180 [00:30<00:00,  5.71it/s]"
          ]
        },
        {
          "output_type": "stream",
          "name": "stdout",
          "text": [
            "(256, 256, 1) 1.0 0.0034838826\n",
            "(256, 256, 3) (256, 256) (256, 256)\n",
            "_20_test_5\n",
            "(256, 256, 1) 1.0 0.0017709276\n",
            "(256, 256, 3) (256, 256) (256, 256)\n"
          ]
        },
        {
          "output_type": "stream",
          "name": "stderr",
          "text": [
            " 99%|█████████▉| 178/180 [00:30<00:00,  5.78it/s]"
          ]
        },
        {
          "output_type": "stream",
          "name": "stdout",
          "text": [
            "_20_test_6\n",
            "(256, 256, 1) 1.0 0.0028372165\n",
            "(256, 256, 3) (256, 256) (256, 256)\n",
            "_20_test_7\n"
          ]
        },
        {
          "output_type": "stream",
          "name": "stderr",
          "text": [
            "\r 99%|█████████▉| 179/180 [00:30<00:00,  5.79it/s]"
          ]
        },
        {
          "output_type": "stream",
          "name": "stdout",
          "text": [
            "(256, 256, 1) 1.0 0.0032679993\n",
            "(256, 256, 3) (256, 256) (256, 256)\n",
            "_20_test_8\n",
            "(256, 256, 1) 1.0 0.0020802678\n",
            "(256, 256, 3) (256, 256) (256, 256)\n"
          ]
        },
        {
          "output_type": "stream",
          "name": "stderr",
          "text": [
            "100%|██████████| 180/180 [00:31<00:00,  5.79it/s]"
          ]
        },
        {
          "output_type": "stream",
          "name": "stdout",
          "text": [
            "Threshold: 0.60000\n",
            "Accuracy: 0.97956\n",
            "F1: 0.73185\n",
            "Jaccard: 0.59239\n",
            "Recall: 0.67131\n",
            "Precision: 0.83861\n",
            "AUC: 0.97096\n",
            "Dice Coeff: 0.64095\n"
          ]
        },
        {
          "output_type": "stream",
          "name": "stderr",
          "text": [
            "\n"
          ]
        }
      ]
    },
    {
      "cell_type": "code",
      "source": [
        "results_path_reconstructed"
      ],
      "metadata": {
        "id": "braGlLM9Wgr9",
        "colab": {
          "base_uri": "https://localhost:8080/",
          "height": 35
        },
        "outputId": "46e00aab-a8cd-4751-b66e-48ad9ad0773e"
      },
      "execution_count": null,
      "outputs": [
        {
          "output_type": "execute_result",
          "data": {
            "application/vnd.google.colaboratory.intrinsic+json": {
              "type": "string"
            },
            "text/plain": [
              "'/content/datasets/drive_256_256_dice_bce_0_4__0_4_1//results_reconstructed/'"
            ]
          },
          "metadata": {},
          "execution_count": 58
        }
      ]
    },
    {
      "cell_type": "code",
      "source": [
        "!ls "
      ],
      "metadata": {
        "id": "ATVyvynpSGYQ",
        "colab": {
          "base_uri": "https://localhost:8080/"
        },
        "outputId": "af949257-bfe8-421a-a595-57a4ce243f3e"
      },
      "execution_count": null,
      "outputs": [
        {
          "output_type": "stream",
          "name": "stdout",
          "text": [
            "drive_256_256_dice_bce_0_4__0_4_1  logs\n"
          ]
        }
      ]
    },
    {
      "cell_type": "code",
      "source": [
        "folder_name = root_path.split(\"/\")[3]\n",
        "print(folder_name)"
      ],
      "metadata": {
        "colab": {
          "base_uri": "https://localhost:8080/"
        },
        "id": "NwV0hgRzjBbR",
        "outputId": "b7bd2423-c947-415d-8af8-26c240c7f8af"
      },
      "execution_count": null,
      "outputs": [
        {
          "output_type": "stream",
          "name": "stdout",
          "text": [
            "drive_256_256_dice_bce_0_4__0_4_1\n"
          ]
        }
      ]
    },
    {
      "cell_type": "code",
      "source": [
        "!zip -r {folder_name}.zip  {folder_name}/"
      ],
      "metadata": {
        "colab": {
          "base_uri": "https://localhost:8080/"
        },
        "id": "tGxzllboKasD",
        "outputId": "262a2c0d-d311-4491-e6c5-c26c04639a69"
      },
      "execution_count": null,
      "outputs": [
        {
          "output_type": "stream",
          "name": "stdout",
          "text": [
            "  adding: drive_256_256_dice_bce_0_4__0_4_1/ (stored 0%)\n",
            "  adding: drive_256_256_dice_bce_0_4__0_4_1/training/ (stored 0%)\n",
            "  adding: drive_256_256_dice_bce_0_4__0_4_1/training/1st_manual/ (stored 0%)\n",
            "  adding: drive_256_256_dice_bce_0_4__0_4_1/training/1st_manual/31_manual1.gif (stored 0%)\n",
            "  adding: drive_256_256_dice_bce_0_4__0_4_1/training/1st_manual/22_manual1.gif (stored 0%)\n",
            "  adding: drive_256_256_dice_bce_0_4__0_4_1/training/1st_manual/23_manual1.gif (stored 0%)\n",
            "  adding: drive_256_256_dice_bce_0_4__0_4_1/training/1st_manual/24_manual1.gif (stored 0%)\n",
            "  adding: drive_256_256_dice_bce_0_4__0_4_1/training/1st_manual/32_manual1.gif (stored 0%)\n",
            "  adding: drive_256_256_dice_bce_0_4__0_4_1/training/1st_manual/40_manual1.gif (stored 0%)\n",
            "  adding: drive_256_256_dice_bce_0_4__0_4_1/training/1st_manual/27_manual1.gif (stored 0%)\n",
            "  adding: drive_256_256_dice_bce_0_4__0_4_1/training/1st_manual/34_manual1.gif (stored 0%)\n",
            "  adding: drive_256_256_dice_bce_0_4__0_4_1/training/1st_manual/38_manual1.gif (stored 0%)\n",
            "  adding: drive_256_256_dice_bce_0_4__0_4_1/training/1st_manual/29_manual1.gif (stored 0%)\n",
            "  adding: drive_256_256_dice_bce_0_4__0_4_1/training/1st_manual/25_manual1.gif (stored 0%)\n",
            "  adding: drive_256_256_dice_bce_0_4__0_4_1/training/1st_manual/33_manual1.gif (stored 0%)\n",
            "  adding: drive_256_256_dice_bce_0_4__0_4_1/training/1st_manual/37_manual1.gif (stored 0%)\n",
            "  adding: drive_256_256_dice_bce_0_4__0_4_1/training/1st_manual/39_manual1.gif (stored 0%)\n",
            "  adding: drive_256_256_dice_bce_0_4__0_4_1/training/1st_manual/21_manual1.gif (stored 0%)\n",
            "  adding: drive_256_256_dice_bce_0_4__0_4_1/training/1st_manual/36_manual1.gif (stored 0%)\n",
            "  adding: drive_256_256_dice_bce_0_4__0_4_1/training/1st_manual/35_manual1.gif (stored 0%)\n",
            "  adding: drive_256_256_dice_bce_0_4__0_4_1/training/1st_manual/30_manual1.gif (stored 0%)\n",
            "  adding: drive_256_256_dice_bce_0_4__0_4_1/training/1st_manual/28_manual1.gif (stored 0%)\n",
            "  adding: drive_256_256_dice_bce_0_4__0_4_1/training/1st_manual/26_manual1.gif (stored 0%)\n",
            "  adding: drive_256_256_dice_bce_0_4__0_4_1/training/images/ (stored 0%)\n",
            "  adding: drive_256_256_dice_bce_0_4__0_4_1/training/images/21_training.tif (deflated 2%)\n",
            "  adding: drive_256_256_dice_bce_0_4__0_4_1/training/images/27_training.tif (deflated 2%)\n",
            "  adding: drive_256_256_dice_bce_0_4__0_4_1/training/images/24_training.tif (deflated 2%)\n",
            "  adding: drive_256_256_dice_bce_0_4__0_4_1/training/images/23_training.tif (deflated 1%)\n",
            "  adding: drive_256_256_dice_bce_0_4__0_4_1/training/images/40_training.tif (deflated 3%)\n",
            "  adding: drive_256_256_dice_bce_0_4__0_4_1/training/images/33_training.tif (deflated 2%)\n",
            "  adding: drive_256_256_dice_bce_0_4__0_4_1/training/images/35_training.tif (deflated 3%)\n",
            "  adding: drive_256_256_dice_bce_0_4__0_4_1/training/images/26_training.tif (deflated 3%)\n",
            "  adding: drive_256_256_dice_bce_0_4__0_4_1/training/images/29_training.tif (deflated 3%)\n",
            "  adding: drive_256_256_dice_bce_0_4__0_4_1/training/images/22_training.tif (deflated 2%)\n",
            "  adding: drive_256_256_dice_bce_0_4__0_4_1/training/images/37_training.tif (deflated 3%)\n",
            "  adding: drive_256_256_dice_bce_0_4__0_4_1/training/images/32_training.tif (deflated 2%)\n",
            "  adding: drive_256_256_dice_bce_0_4__0_4_1/training/images/38_training.tif (deflated 2%)\n",
            "  adding: drive_256_256_dice_bce_0_4__0_4_1/training/images/31_training.tif (deflated 2%)\n",
            "  adding: drive_256_256_dice_bce_0_4__0_4_1/training/images/28_training.tif (deflated 3%)\n",
            "  adding: drive_256_256_dice_bce_0_4__0_4_1/training/images/30_training.tif (deflated 3%)\n",
            "  adding: drive_256_256_dice_bce_0_4__0_4_1/training/images/36_training.tif (deflated 3%)\n",
            "  adding: drive_256_256_dice_bce_0_4__0_4_1/training/images/34_training.tif (deflated 4%)\n",
            "  adding: drive_256_256_dice_bce_0_4__0_4_1/training/images/39_training.tif (deflated 3%)\n",
            "  adding: drive_256_256_dice_bce_0_4__0_4_1/training/images/25_training.tif (deflated 2%)\n",
            "  adding: drive_256_256_dice_bce_0_4__0_4_1/trained_models/ (stored 0%)\n",
            "  adding: drive_256_256_dice_bce_0_4__0_4_1/trained_models/model.h5 (deflated 8%)\n",
            "  adding: drive_256_256_dice_bce_0_4__0_4_1/trained_models/data.csv (deflated 52%)\n",
            "  adding: drive_256_256_dice_bce_0_4__0_4_1/predictions/ (stored 0%)\n",
            "  adding: drive_256_256_dice_bce_0_4__0_4_1/predictions/_09_test_2.png (deflated 68%)\n",
            "  adding: drive_256_256_dice_bce_0_4__0_4_1/predictions/_06_test_2.png (deflated 34%)\n",
            "  adding: drive_256_256_dice_bce_0_4__0_4_1/predictions/_07_test_5.png (deflated 11%)\n",
            "  adding: drive_256_256_dice_bce_0_4__0_4_1/predictions/_10_test_4.png (deflated 9%)\n",
            "  adding: drive_256_256_dice_bce_0_4__0_4_1/predictions/_03_test_6.png (deflated 41%)\n",
            "  adding: drive_256_256_dice_bce_0_4__0_4_1/predictions/_15_test_0.png (deflated 29%)\n",
            "  adding: drive_256_256_dice_bce_0_4__0_4_1/predictions/_03_test_2.png (deflated 68%)\n",
            "  adding: drive_256_256_dice_bce_0_4__0_4_1/predictions/_16_test_7.png (deflated 14%)\n",
            "  adding: drive_256_256_dice_bce_0_4__0_4_1/predictions/_11_test_8.png (deflated 44%)\n",
            "  adding: drive_256_256_dice_bce_0_4__0_4_1/predictions/_11_test_5.png (deflated 8%)\n",
            "  adding: drive_256_256_dice_bce_0_4__0_4_1/predictions/_10_test_5.png (deflated 12%)\n",
            "  adding: drive_256_256_dice_bce_0_4__0_4_1/predictions/_06_test_8.png (deflated 38%)\n",
            "  adding: drive_256_256_dice_bce_0_4__0_4_1/predictions/_02_test_7.png (deflated 15%)\n",
            "  adding: drive_256_256_dice_bce_0_4__0_4_1/predictions/_14_test_0.png (deflated 40%)\n",
            "  adding: drive_256_256_dice_bce_0_4__0_4_1/predictions/_18_test_7.png (deflated 15%)\n",
            "  adding: drive_256_256_dice_bce_0_4__0_4_1/predictions/_09_test_5.png (deflated 7%)\n",
            "  adding: drive_256_256_dice_bce_0_4__0_4_1/predictions/_15_test_3.png (deflated 7%)\n",
            "  adding: drive_256_256_dice_bce_0_4__0_4_1/predictions/_03_test_0.png (deflated 29%)\n",
            "  adding: drive_256_256_dice_bce_0_4__0_4_1/predictions/_02_test_0.png (deflated 39%)\n",
            "  adding: drive_256_256_dice_bce_0_4__0_4_1/predictions/_20_test_3.png (deflated 9%)\n",
            "  adding: drive_256_256_dice_bce_0_4__0_4_1/predictions/_09_test_3.png (deflated 10%)\n",
            "  adding: drive_256_256_dice_bce_0_4__0_4_1/predictions/_01_test_7.png (deflated 16%)\n",
            "  adding: drive_256_256_dice_bce_0_4__0_4_1/predictions/_03_test_5.png (deflated 14%)\n",
            "  adding: drive_256_256_dice_bce_0_4__0_4_1/predictions/_01_test_5.png (deflated 7%)\n",
            "  adding: drive_256_256_dice_bce_0_4__0_4_1/predictions/_12_test_7.png (deflated 15%)\n",
            "  adding: drive_256_256_dice_bce_0_4__0_4_1/predictions/_16_test_4.png (deflated 9%)\n",
            "  adding: drive_256_256_dice_bce_0_4__0_4_1/predictions/_12_test_4.png (deflated 9%)\n",
            "  adding: drive_256_256_dice_bce_0_4__0_4_1/predictions/_20_test_1.png (deflated 16%)\n",
            "  adding: drive_256_256_dice_bce_0_4__0_4_1/predictions/_13_test_7.png (deflated 14%)\n",
            "  adding: drive_256_256_dice_bce_0_4__0_4_1/predictions/_07_test_3.png (deflated 9%)\n",
            "  adding: drive_256_256_dice_bce_0_4__0_4_1/predictions/_12_test_8.png (deflated 29%)\n",
            "  adding: drive_256_256_dice_bce_0_4__0_4_1/predictions/_08_test_3.png (deflated 11%)\n",
            "  adding: drive_256_256_dice_bce_0_4__0_4_1/predictions/_12_test_2.png (deflated 70%)\n",
            "  adding: drive_256_256_dice_bce_0_4__0_4_1/predictions/_11_test_2.png (deflated 32%)\n",
            "  adding: drive_256_256_dice_bce_0_4__0_4_1/predictions/_09_test_0.png (deflated 37%)\n",
            "  adding: drive_256_256_dice_bce_0_4__0_4_1/predictions/_05_test_0.png (deflated 49%)\n",
            "  adding: drive_256_256_dice_bce_0_4__0_4_1/predictions/_19_test_4.png (deflated 10%)\n",
            "  adding: drive_256_256_dice_bce_0_4__0_4_1/predictions/_15_test_4.png (deflated 12%)\n",
            "  adding: drive_256_256_dice_bce_0_4__0_4_1/predictions/_03_test_3.png (deflated 10%)\n",
            "  adding: drive_256_256_dice_bce_0_4__0_4_1/predictions/_17_test_4.png (deflated 8%)\n",
            "  adding: drive_256_256_dice_bce_0_4__0_4_1/predictions/_17_test_2.png (deflated 34%)\n",
            "  adding: drive_256_256_dice_bce_0_4__0_4_1/predictions/_13_test_1.png (deflated 15%)\n",
            "  adding: drive_256_256_dice_bce_0_4__0_4_1/predictions/_15_test_1.png (deflated 17%)\n",
            "  adding: drive_256_256_dice_bce_0_4__0_4_1/predictions/_11_test_6.png (deflated 26%)\n",
            "  adding: drive_256_256_dice_bce_0_4__0_4_1/predictions/_17_test_8.png (deflated 35%)\n",
            "  adding: drive_256_256_dice_bce_0_4__0_4_1/predictions/_05_test_3.png (deflated 11%)\n",
            "  adding: drive_256_256_dice_bce_0_4__0_4_1/predictions/_14_test_8.png (deflated 26%)\n",
            "  adding: drive_256_256_dice_bce_0_4__0_4_1/predictions/_17_test_3.png (deflated 11%)\n",
            "  adding: drive_256_256_dice_bce_0_4__0_4_1/predictions/_20_test_6.png (deflated 41%)\n",
            "  adding: drive_256_256_dice_bce_0_4__0_4_1/predictions/_20_test_7.png (deflated 15%)\n",
            "  adding: drive_256_256_dice_bce_0_4__0_4_1/predictions/_07_test_2.png (deflated 45%)\n",
            "  adding: drive_256_256_dice_bce_0_4__0_4_1/predictions/_19_test_2.png (deflated 37%)\n",
            "  adding: drive_256_256_dice_bce_0_4__0_4_1/predictions/_07_test_1.png (deflated 19%)\n",
            "  adding: drive_256_256_dice_bce_0_4__0_4_1/predictions/_07_test_7.png (deflated 14%)\n",
            "  adding: drive_256_256_dice_bce_0_4__0_4_1/predictions/_04_test_0.png (deflated 35%)\n",
            "  adding: drive_256_256_dice_bce_0_4__0_4_1/predictions/_19_test_3.png (deflated 7%)\n",
            "  adding: drive_256_256_dice_bce_0_4__0_4_1/predictions/_15_test_5.png (deflated 7%)\n",
            "  adding: drive_256_256_dice_bce_0_4__0_4_1/predictions/_13_test_3.png (deflated 9%)\n",
            "  adding: drive_256_256_dice_bce_0_4__0_4_1/predictions/_20_test_0.png (deflated 52%)\n",
            "  adding: drive_256_256_dice_bce_0_4__0_4_1/predictions/_03_test_7.png (deflated 17%)\n",
            "  adding: drive_256_256_dice_bce_0_4__0_4_1/predictions/_10_test_8.png (deflated 44%)\n",
            "  adding: drive_256_256_dice_bce_0_4__0_4_1/predictions/_04_test_2.png (deflated 34%)\n",
            "  adding: drive_256_256_dice_bce_0_4__0_4_1/predictions/_02_test_1.png (deflated 17%)\n",
            "  adding: drive_256_256_dice_bce_0_4__0_4_1/predictions/_07_test_4.png (deflated 7%)\n",
            "  adding: drive_256_256_dice_bce_0_4__0_4_1/predictions/_16_test_6.png (deflated 43%)\n",
            "  adding: drive_256_256_dice_bce_0_4__0_4_1/predictions/_18_test_6.png (deflated 69%)\n",
            "  adding: drive_256_256_dice_bce_0_4__0_4_1/predictions/_16_test_0.png (deflated 29%)\n",
            "  adding: drive_256_256_dice_bce_0_4__0_4_1/predictions/_06_test_5.png (deflated 10%)\n",
            "  adding: drive_256_256_dice_bce_0_4__0_4_1/predictions/_02_test_8.png (deflated 31%)\n",
            "  adding: drive_256_256_dice_bce_0_4__0_4_1/predictions/_07_test_0.png (deflated 36%)\n",
            "  adding: drive_256_256_dice_bce_0_4__0_4_1/predictions/_10_test_2.png (deflated 40%)\n",
            "  adding: drive_256_256_dice_bce_0_4__0_4_1/predictions/_12_test_5.png (deflated 4%)\n",
            "  adding: drive_256_256_dice_bce_0_4__0_4_1/predictions/_09_test_6.png (deflated 62%)\n",
            "  adding: drive_256_256_dice_bce_0_4__0_4_1/predictions/_10_test_7.png (deflated 15%)\n",
            "  adding: drive_256_256_dice_bce_0_4__0_4_1/predictions/_18_test_3.png (deflated 7%)\n",
            "  adding: drive_256_256_dice_bce_0_4__0_4_1/predictions/_16_test_5.png (deflated 12%)\n",
            "  adding: drive_256_256_dice_bce_0_4__0_4_1/predictions/_20_test_8.png (deflated 43%)\n",
            "  adding: drive_256_256_dice_bce_0_4__0_4_1/predictions/_04_test_3.png (deflated 10%)\n",
            "  adding: drive_256_256_dice_bce_0_4__0_4_1/predictions/_02_test_5.png (deflated 11%)\n",
            "  adding: drive_256_256_dice_bce_0_4__0_4_1/predictions/_14_test_7.png (deflated 14%)\n",
            "  adding: drive_256_256_dice_bce_0_4__0_4_1/predictions/_08_test_0.png (deflated 46%)\n",
            "  adding: drive_256_256_dice_bce_0_4__0_4_1/predictions/_13_test_8.png (deflated 25%)\n",
            "  adding: drive_256_256_dice_bce_0_4__0_4_1/predictions/_18_test_4.png (deflated 7%)\n",
            "  adding: drive_256_256_dice_bce_0_4__0_4_1/predictions/_14_test_6.png (deflated 54%)\n",
            "  adding: drive_256_256_dice_bce_0_4__0_4_1/predictions/_08_test_1.png (deflated 15%)\n",
            "  adding: drive_256_256_dice_bce_0_4__0_4_1/predictions/_01_test_3.png (deflated 11%)\n",
            "  adding: drive_256_256_dice_bce_0_4__0_4_1/predictions/_11_test_3.png (deflated 10%)\n",
            "  adding: drive_256_256_dice_bce_0_4__0_4_1/predictions/_10_test_0.png (deflated 39%)\n",
            "  adding: drive_256_256_dice_bce_0_4__0_4_1/predictions/_16_test_3.png (deflated 10%)\n",
            "  adding: drive_256_256_dice_bce_0_4__0_4_1/predictions/_04_test_1.png (deflated 18%)\n",
            "  adding: drive_256_256_dice_bce_0_4__0_4_1/predictions/_17_test_1.png (deflated 16%)\n",
            "  adding: drive_256_256_dice_bce_0_4__0_4_1/predictions/_08_test_2.png (deflated 40%)\n",
            "  adding: drive_256_256_dice_bce_0_4__0_4_1/predictions/_04_test_6.png (deflated 74%)\n",
            "  adding: drive_256_256_dice_bce_0_4__0_4_1/predictions/_13_test_6.png (deflated 29%)\n",
            "  adding: drive_256_256_dice_bce_0_4__0_4_1/predictions/_18_test_5.png (deflated 11%)\n",
            "  adding: drive_256_256_dice_bce_0_4__0_4_1/predictions/_18_test_1.png (deflated 15%)\n",
            "  adding: drive_256_256_dice_bce_0_4__0_4_1/predictions/_16_test_2.png (deflated 33%)\n",
            "  adding: drive_256_256_dice_bce_0_4__0_4_1/predictions/_13_test_5.png (deflated 10%)\n",
            "  adding: drive_256_256_dice_bce_0_4__0_4_1/predictions/_15_test_7.png (deflated 17%)\n",
            "  adding: drive_256_256_dice_bce_0_4__0_4_1/predictions/_09_test_8.png (deflated 40%)\n",
            "  adding: drive_256_256_dice_bce_0_4__0_4_1/predictions/_19_test_0.png (deflated 32%)\n",
            "  adding: drive_256_256_dice_bce_0_4__0_4_1/predictions/_14_test_5.png (deflated 12%)\n",
            "  adding: drive_256_256_dice_bce_0_4__0_4_1/predictions/_11_test_4.png (deflated 10%)\n",
            "  adding: drive_256_256_dice_bce_0_4__0_4_1/predictions/_17_test_7.png (deflated 16%)\n",
            "  adding: drive_256_256_dice_bce_0_4__0_4_1/predictions/_04_test_5.png (deflated 4%)\n",
            "  adding: drive_256_256_dice_bce_0_4__0_4_1/predictions/_16_test_8.png (deflated 33%)\n",
            "  adding: drive_256_256_dice_bce_0_4__0_4_1/predictions/_18_test_0.png (deflated 38%)\n",
            "  adding: drive_256_256_dice_bce_0_4__0_4_1/predictions/_02_test_3.png (deflated 8%)\n",
            "  adding: drive_256_256_dice_bce_0_4__0_4_1/predictions/_01_test_4.png (deflated 7%)\n",
            "  adding: drive_256_256_dice_bce_0_4__0_4_1/predictions/_18_test_2.png (deflated 27%)\n",
            "  adding: drive_256_256_dice_bce_0_4__0_4_1/predictions/_03_test_4.png (deflated 7%)\n",
            "  adding: drive_256_256_dice_bce_0_4__0_4_1/predictions/_08_test_8.png (deflated 32%)\n",
            "  adding: drive_256_256_dice_bce_0_4__0_4_1/predictions/_16_test_1.png (deflated 15%)\n",
            "  adding: drive_256_256_dice_bce_0_4__0_4_1/predictions/_09_test_7.png (deflated 15%)\n",
            "  adding: drive_256_256_dice_bce_0_4__0_4_1/predictions/_11_test_1.png (deflated 14%)\n",
            "  adding: drive_256_256_dice_bce_0_4__0_4_1/predictions/_01_test_0.png (deflated 29%)\n",
            "  adding: drive_256_256_dice_bce_0_4__0_4_1/predictions/_08_test_5.png (deflated 11%)\n",
            "  adding: drive_256_256_dice_bce_0_4__0_4_1/predictions/_15_test_6.png (deflated 21%)\n",
            "  adding: drive_256_256_dice_bce_0_4__0_4_1/predictions/_05_test_6.png (deflated 41%)\n",
            "  adding: drive_256_256_dice_bce_0_4__0_4_1/predictions/_01_test_8.png (deflated 37%)\n",
            "  adding: drive_256_256_dice_bce_0_4__0_4_1/predictions/_13_test_0.png (deflated 39%)\n",
            "  adding: drive_256_256_dice_bce_0_4__0_4_1/predictions/_20_test_5.png (deflated 11%)\n",
            "  adding: drive_256_256_dice_bce_0_4__0_4_1/predictions/_17_test_0.png (deflated 46%)\n",
            "  adding: drive_256_256_dice_bce_0_4__0_4_1/predictions/_19_test_5.png (deflated 13%)\n",
            "  adding: drive_256_256_dice_bce_0_4__0_4_1/predictions/_11_test_0.png (deflated 24%)\n",
            "  adding: drive_256_256_dice_bce_0_4__0_4_1/predictions/_19_test_1.png (deflated 16%)\n",
            "  adding: drive_256_256_dice_bce_0_4__0_4_1/predictions/_01_test_6.png (deflated 49%)\n",
            "  adding: drive_256_256_dice_bce_0_4__0_4_1/predictions/_06_test_3.png (deflated 6%)\n",
            "  adding: drive_256_256_dice_bce_0_4__0_4_1/predictions/_10_test_3.png (deflated 8%)\n",
            "  adding: drive_256_256_dice_bce_0_4__0_4_1/predictions/_17_test_5.png (deflated 10%)\n",
            "  adding: drive_256_256_dice_bce_0_4__0_4_1/predictions/_02_test_6.png (deflated 43%)\n",
            "  adding: drive_256_256_dice_bce_0_4__0_4_1/predictions/_04_test_8.png (deflated 31%)\n",
            "  adding: drive_256_256_dice_bce_0_4__0_4_1/predictions/_13_test_4.png (deflated 10%)\n",
            "  adding: drive_256_256_dice_bce_0_4__0_4_1/predictions/_09_test_4.png (deflated 9%)\n",
            "  adding: drive_256_256_dice_bce_0_4__0_4_1/predictions/_17_test_6.png (deflated 65%)\n",
            "  adding: drive_256_256_dice_bce_0_4__0_4_1/predictions/_14_test_1.png (deflated 16%)\n",
            "  adding: drive_256_256_dice_bce_0_4__0_4_1/predictions/_02_test_2.png (deflated 33%)\n",
            "  adding: drive_256_256_dice_bce_0_4__0_4_1/predictions/_19_test_7.png (deflated 15%)\n",
            "  adding: drive_256_256_dice_bce_0_4__0_4_1/predictions/_19_test_6.png (deflated 35%)\n",
            "  adding: drive_256_256_dice_bce_0_4__0_4_1/predictions/_20_test_2.png (deflated 28%)\n",
            "  adding: drive_256_256_dice_bce_0_4__0_4_1/predictions/_10_test_1.png (deflated 16%)\n",
            "  adding: drive_256_256_dice_bce_0_4__0_4_1/predictions/_05_test_7.png (deflated 15%)\n",
            "  adding: drive_256_256_dice_bce_0_4__0_4_1/predictions/_06_test_1.png (deflated 15%)\n",
            "  adding: drive_256_256_dice_bce_0_4__0_4_1/predictions/_08_test_6.png (deflated 39%)\n",
            "  adding: drive_256_256_dice_bce_0_4__0_4_1/predictions/_06_test_6.png (deflated 61%)\n",
            "  adding: drive_256_256_dice_bce_0_4__0_4_1/predictions/_06_test_7.png (deflated 15%)\n",
            "  adding: drive_256_256_dice_bce_0_4__0_4_1/predictions/_19_test_8.png (deflated 27%)\n",
            "  adding: drive_256_256_dice_bce_0_4__0_4_1/predictions/_13_test_2.png (deflated 53%)\n",
            "  adding: drive_256_256_dice_bce_0_4__0_4_1/predictions/_03_test_1.png (deflated 16%)\n",
            "  adding: drive_256_256_dice_bce_0_4__0_4_1/predictions/_06_test_0.png (deflated 53%)\n",
            "  adding: drive_256_256_dice_bce_0_4__0_4_1/predictions/_15_test_2.png (deflated 55%)\n",
            "  adding: drive_256_256_dice_bce_0_4__0_4_1/predictions/_15_test_8.png (deflated 36%)\n",
            "  adding: drive_256_256_dice_bce_0_4__0_4_1/predictions/_05_test_4.png (deflated 10%)\n",
            "  adding: drive_256_256_dice_bce_0_4__0_4_1/predictions/_05_test_8.png (deflated 59%)\n",
            "  adding: drive_256_256_dice_bce_0_4__0_4_1/predictions/_12_test_0.png (deflated 31%)\n",
            "  adding: drive_256_256_dice_bce_0_4__0_4_1/predictions/_20_test_4.png (deflated 7%)\n",
            "  adding: drive_256_256_dice_bce_0_4__0_4_1/predictions/_05_test_5.png (deflated 10%)\n",
            "  adding: drive_256_256_dice_bce_0_4__0_4_1/predictions/_04_test_4.png (deflated 12%)\n",
            "  adding: drive_256_256_dice_bce_0_4__0_4_1/predictions/_12_test_1.png (deflated 15%)\n",
            "  adding: drive_256_256_dice_bce_0_4__0_4_1/predictions/_07_test_8.png (deflated 22%)\n",
            "  adding: drive_256_256_dice_bce_0_4__0_4_1/predictions/_03_test_8.png (deflated 45%)\n",
            "  adding: drive_256_256_dice_bce_0_4__0_4_1/predictions/_09_test_1.png (deflated 14%)\n",
            "  adding: drive_256_256_dice_bce_0_4__0_4_1/predictions/_12_test_6.png (deflated 30%)\n",
            "  adding: drive_256_256_dice_bce_0_4__0_4_1/predictions/_05_test_1.png (deflated 15%)\n",
            "  adding: drive_256_256_dice_bce_0_4__0_4_1/predictions/_11_test_7.png (deflated 15%)\n",
            "  adding: drive_256_256_dice_bce_0_4__0_4_1/predictions/_02_test_4.png (deflated 8%)\n",
            "  adding: drive_256_256_dice_bce_0_4__0_4_1/predictions/_08_test_7.png (deflated 15%)\n",
            "  adding: drive_256_256_dice_bce_0_4__0_4_1/predictions/_12_test_3.png (deflated 11%)\n",
            "  adding: drive_256_256_dice_bce_0_4__0_4_1/predictions/_01_test_1.png (deflated 15%)\n",
            "  adding: drive_256_256_dice_bce_0_4__0_4_1/predictions/_14_test_2.png (deflated 24%)\n",
            "  adding: drive_256_256_dice_bce_0_4__0_4_1/predictions/_14_test_3.png (deflated 8%)\n",
            "  adding: drive_256_256_dice_bce_0_4__0_4_1/predictions/_07_test_6.png (deflated 25%)\n",
            "  adding: drive_256_256_dice_bce_0_4__0_4_1/predictions/_14_test_4.png (deflated 11%)\n",
            "  adding: drive_256_256_dice_bce_0_4__0_4_1/predictions/_08_test_4.png (deflated 9%)\n",
            "  adding: drive_256_256_dice_bce_0_4__0_4_1/predictions/_01_test_2.png (deflated 51%)\n",
            "  adding: drive_256_256_dice_bce_0_4__0_4_1/predictions/_10_test_6.png (deflated 39%)\n",
            "  adding: drive_256_256_dice_bce_0_4__0_4_1/predictions/_05_test_2.png (deflated 70%)\n",
            "  adding: drive_256_256_dice_bce_0_4__0_4_1/predictions/_06_test_4.png (deflated 10%)\n",
            "  adding: drive_256_256_dice_bce_0_4__0_4_1/predictions/_18_test_8.png (deflated 33%)\n",
            "  adding: drive_256_256_dice_bce_0_4__0_4_1/predictions/_04_test_7.png (deflated 22%)\n",
            "  adding: drive_256_256_dice_bce_0_4__0_4_1/split_2/ (stored 0%)\n",
            "  adding: drive_256_256_dice_bce_0_4__0_4_1/split_2/reconstructed/ (stored 0%)\n",
            "  adding: drive_256_256_dice_bce_0_4__0_4_1/split_2/reconstructed/test/ (stored 0%)\n",
            "  adding: drive_256_256_dice_bce_0_4__0_4_1/split_2/reconstructed/test/mask/ (stored 0%)\n",
            "  adding: drive_256_256_dice_bce_0_4__0_4_1/split_2/reconstructed/test/mask/15_test.png (deflated 16%)\n",
            "  adding: drive_256_256_dice_bce_0_4__0_4_1/split_2/reconstructed/test/mask/03_test.png (deflated 14%)\n",
            "  adding: drive_256_256_dice_bce_0_4__0_4_1/split_2/reconstructed/test/mask/06_test.png (deflated 14%)\n",
            "  adding: drive_256_256_dice_bce_0_4__0_4_1/split_2/reconstructed/test/mask/18_test.png (deflated 17%)\n",
            "  adding: drive_256_256_dice_bce_0_4__0_4_1/split_2/reconstructed/test/mask/10_test.png (deflated 14%)\n",
            "  adding: drive_256_256_dice_bce_0_4__0_4_1/split_2/reconstructed/test/mask/17_test.png (deflated 16%)\n",
            "  adding: drive_256_256_dice_bce_0_4__0_4_1/split_2/reconstructed/test/mask/20_test.png (deflated 17%)\n",
            "  adding: drive_256_256_dice_bce_0_4__0_4_1/split_2/reconstructed/test/mask/04_test.png (deflated 15%)\n",
            "  adding: drive_256_256_dice_bce_0_4__0_4_1/split_2/reconstructed/test/mask/14_test.png (deflated 16%)\n",
            "  adding: drive_256_256_dice_bce_0_4__0_4_1/split_2/reconstructed/test/mask/09_test.png (deflated 16%)\n",
            "  adding: drive_256_256_dice_bce_0_4__0_4_1/split_2/reconstructed/test/mask/12_test.png (deflated 15%)\n",
            "  adding: drive_256_256_dice_bce_0_4__0_4_1/split_2/reconstructed/test/mask/05_test.png (deflated 14%)\n",
            "  adding: drive_256_256_dice_bce_0_4__0_4_1/split_2/reconstructed/test/mask/11_test.png (deflated 16%)\n",
            "  adding: drive_256_256_dice_bce_0_4__0_4_1/split_2/reconstructed/test/mask/07_test.png (deflated 13%)\n",
            "  adding: drive_256_256_dice_bce_0_4__0_4_1/split_2/reconstructed/test/mask/16_test.png (deflated 17%)\n",
            "  adding: drive_256_256_dice_bce_0_4__0_4_1/split_2/reconstructed/test/mask/19_test.png (deflated 15%)\n",
            "  adding: drive_256_256_dice_bce_0_4__0_4_1/split_2/reconstructed/test/mask/01_test.png (deflated 15%)\n",
            "  adding: drive_256_256_dice_bce_0_4__0_4_1/split_2/reconstructed/test/mask/02_test.png (deflated 15%)\n",
            "  adding: drive_256_256_dice_bce_0_4__0_4_1/split_2/reconstructed/test/mask/13_test.png (deflated 16%)\n",
            "  adding: drive_256_256_dice_bce_0_4__0_4_1/split_2/reconstructed/test/mask/08_test.png (deflated 16%)\n",
            "  adding: drive_256_256_dice_bce_0_4__0_4_1/split_2/reconstructed/test/predictions_reconstructed/ (stored 0%)\n",
            "  adding: drive_256_256_dice_bce_0_4__0_4_1/split_2/reconstructed/test/predictions_reconstructed/15_test.png (deflated 20%)\n",
            "  adding: drive_256_256_dice_bce_0_4__0_4_1/split_2/reconstructed/test/predictions_reconstructed/03_test.png (deflated 25%)\n",
            "  adding: drive_256_256_dice_bce_0_4__0_4_1/split_2/reconstructed/test/predictions_reconstructed/06_test.png (deflated 23%)\n",
            "  adding: drive_256_256_dice_bce_0_4__0_4_1/split_2/reconstructed/test/predictions_reconstructed/18_test.png (deflated 25%)\n",
            "  adding: drive_256_256_dice_bce_0_4__0_4_1/split_2/reconstructed/test/predictions_reconstructed/10_test.png (deflated 26%)\n",
            "  adding: drive_256_256_dice_bce_0_4__0_4_1/split_2/reconstructed/test/predictions_reconstructed/17_test.png (deflated 24%)\n",
            "  adding: drive_256_256_dice_bce_0_4__0_4_1/split_2/reconstructed/test/predictions_reconstructed/20_test.png (deflated 26%)\n",
            "  adding: drive_256_256_dice_bce_0_4__0_4_1/split_2/reconstructed/test/predictions_reconstructed/04_test.png (deflated 25%)\n",
            "  adding: drive_256_256_dice_bce_0_4__0_4_1/split_2/reconstructed/test/predictions_reconstructed/14_test.png (deflated 25%)\n",
            "  adding: drive_256_256_dice_bce_0_4__0_4_1/split_2/reconstructed/test/predictions_reconstructed/09_test.png (deflated 28%)\n",
            "  adding: drive_256_256_dice_bce_0_4__0_4_1/split_2/reconstructed/test/predictions_reconstructed/12_test.png (deflated 27%)\n",
            "  adding: drive_256_256_dice_bce_0_4__0_4_1/split_2/reconstructed/test/predictions_reconstructed/05_test.png (deflated 22%)\n",
            "  adding: drive_256_256_dice_bce_0_4__0_4_1/split_2/reconstructed/test/predictions_reconstructed/11_test.png (deflated 23%)\n",
            "  adding: drive_256_256_dice_bce_0_4__0_4_1/split_2/reconstructed/test/predictions_reconstructed/07_test.png (deflated 25%)\n",
            "  adding: drive_256_256_dice_bce_0_4__0_4_1/split_2/reconstructed/test/predictions_reconstructed/16_test.png (deflated 24%)\n",
            "  adding: drive_256_256_dice_bce_0_4__0_4_1/split_2/reconstructed/test/predictions_reconstructed/19_test.png (deflated 22%)\n",
            "  adding: drive_256_256_dice_bce_0_4__0_4_1/split_2/reconstructed/test/predictions_reconstructed/01_test.png (deflated 23%)\n",
            "  adding: drive_256_256_dice_bce_0_4__0_4_1/split_2/reconstructed/test/predictions_reconstructed/02_test.png (deflated 23%)\n",
            "  adding: drive_256_256_dice_bce_0_4__0_4_1/split_2/reconstructed/test/predictions_reconstructed/13_test.png (deflated 23%)\n",
            "  adding: drive_256_256_dice_bce_0_4__0_4_1/split_2/reconstructed/test/predictions_reconstructed/08_test.png (deflated 26%)\n",
            "  adding: drive_256_256_dice_bce_0_4__0_4_1/split_2/reconstructed/test/image/ (stored 0%)\n",
            "  adding: drive_256_256_dice_bce_0_4__0_4_1/split_2/reconstructed/test/image/15_test.png (deflated 3%)\n",
            "  adding: drive_256_256_dice_bce_0_4__0_4_1/split_2/reconstructed/test/image/03_test.png (deflated 5%)\n",
            "  adding: drive_256_256_dice_bce_0_4__0_4_1/split_2/reconstructed/test/image/06_test.png (deflated 3%)\n",
            "  adding: drive_256_256_dice_bce_0_4__0_4_1/split_2/reconstructed/test/image/18_test.png (deflated 3%)\n",
            "  adding: drive_256_256_dice_bce_0_4__0_4_1/split_2/reconstructed/test/image/10_test.png (deflated 3%)\n",
            "  adding: drive_256_256_dice_bce_0_4__0_4_1/split_2/reconstructed/test/image/17_test.png (deflated 3%)\n",
            "  adding: drive_256_256_dice_bce_0_4__0_4_1/split_2/reconstructed/test/image/20_test.png (deflated 3%)\n",
            "  adding: drive_256_256_dice_bce_0_4__0_4_1/split_2/reconstructed/test/image/04_test.png (deflated 2%)\n",
            "  adding: drive_256_256_dice_bce_0_4__0_4_1/split_2/reconstructed/test/image/14_test.png (deflated 3%)\n",
            "  adding: drive_256_256_dice_bce_0_4__0_4_1/split_2/reconstructed/test/image/09_test.png (deflated 3%)\n",
            "  adding: drive_256_256_dice_bce_0_4__0_4_1/split_2/reconstructed/test/image/12_test.png (deflated 2%)\n",
            "  adding: drive_256_256_dice_bce_0_4__0_4_1/split_2/reconstructed/test/image/05_test.png (deflated 3%)\n",
            "  adding: drive_256_256_dice_bce_0_4__0_4_1/split_2/reconstructed/test/image/11_test.png (deflated 2%)\n",
            "  adding: drive_256_256_dice_bce_0_4__0_4_1/split_2/reconstructed/test/image/07_test.png (deflated 2%)\n",
            "  adding: drive_256_256_dice_bce_0_4__0_4_1/split_2/reconstructed/test/image/16_test.png (deflated 3%)\n",
            "  adding: drive_256_256_dice_bce_0_4__0_4_1/split_2/reconstructed/test/image/19_test.png (deflated 3%)\n",
            "  adding: drive_256_256_dice_bce_0_4__0_4_1/split_2/reconstructed/test/image/01_test.png (deflated 3%)\n",
            "  adding: drive_256_256_dice_bce_0_4__0_4_1/split_2/reconstructed/test/image/02_test.png (deflated 2%)\n",
            "  adding: drive_256_256_dice_bce_0_4__0_4_1/split_2/reconstructed/test/image/13_test.png (deflated 3%)\n",
            "  adding: drive_256_256_dice_bce_0_4__0_4_1/split_2/reconstructed/test/image/08_test.png (deflated 3%)\n",
            "  adding: drive_256_256_dice_bce_0_4__0_4_1/split_2/image_patches_256_256_test.csv (deflated 94%)\n",
            "  adding: drive_256_256_dice_bce_0_4__0_4_1/split_2/test/ (stored 0%)\n",
            "  adding: drive_256_256_dice_bce_0_4__0_4_1/split_2/test/mask/ (stored 0%)\n",
            "  adding: drive_256_256_dice_bce_0_4__0_4_1/split_2/test/mask/_09_test_2.png (deflated 37%)\n",
            "  adding: drive_256_256_dice_bce_0_4__0_4_1/split_2/test/mask/_06_test_2.png (deflated 29%)\n",
            "  adding: drive_256_256_dice_bce_0_4__0_4_1/split_2/test/mask/_07_test_5.png (deflated 10%)\n",
            "  adding: drive_256_256_dice_bce_0_4__0_4_1/split_2/test/mask/_10_test_4.png (deflated 13%)\n",
            "  adding: drive_256_256_dice_bce_0_4__0_4_1/split_2/test/mask/_03_test_6.png (deflated 32%)\n",
            "  adding: drive_256_256_dice_bce_0_4__0_4_1/split_2/test/mask/_15_test_0.png (deflated 26%)\n",
            "  adding: drive_256_256_dice_bce_0_4__0_4_1/split_2/test/mask/_03_test_2.png (deflated 42%)\n",
            "  adding: drive_256_256_dice_bce_0_4__0_4_1/split_2/test/mask/_16_test_7.png (deflated 14%)\n",
            "  adding: drive_256_256_dice_bce_0_4__0_4_1/split_2/test/mask/_11_test_8.png (deflated 32%)\n",
            "  adding: drive_256_256_dice_bce_0_4__0_4_1/split_2/test/mask/_11_test_5.png (deflated 12%)\n",
            "  adding: drive_256_256_dice_bce_0_4__0_4_1/split_2/test/mask/_10_test_5.png (deflated 10%)\n",
            "  adding: drive_256_256_dice_bce_0_4__0_4_1/split_2/test/mask/_06_test_8.png (deflated 25%)\n",
            "  adding: drive_256_256_dice_bce_0_4__0_4_1/split_2/test/mask/_02_test_7.png (deflated 13%)\n",
            "  adding: drive_256_256_dice_bce_0_4__0_4_1/split_2/test/mask/_14_test_0.png (deflated 40%)\n",
            "  adding: drive_256_256_dice_bce_0_4__0_4_1/split_2/test/mask/_18_test_7.png (deflated 16%)\n",
            "  adding: drive_256_256_dice_bce_0_4__0_4_1/split_2/test/mask/_09_test_5.png (deflated 11%)\n",
            "  adding: drive_256_256_dice_bce_0_4__0_4_1/split_2/test/mask/_15_test_3.png (deflated 5%)\n",
            "  adding: drive_256_256_dice_bce_0_4__0_4_1/split_2/test/mask/_03_test_0.png (deflated 28%)\n",
            "  adding: drive_256_256_dice_bce_0_4__0_4_1/split_2/test/mask/_02_test_0.png (deflated 37%)\n",
            "  adding: drive_256_256_dice_bce_0_4__0_4_1/split_2/test/mask/_20_test_3.png (deflated 10%)\n",
            "  adding: drive_256_256_dice_bce_0_4__0_4_1/split_2/test/mask/_09_test_3.png (deflated 12%)\n",
            "  adding: drive_256_256_dice_bce_0_4__0_4_1/split_2/test/mask/_01_test_7.png (deflated 15%)\n",
            "  adding: drive_256_256_dice_bce_0_4__0_4_1/split_2/test/mask/_03_test_5.png (deflated 12%)\n",
            "  adding: drive_256_256_dice_bce_0_4__0_4_1/split_2/test/mask/_01_test_5.png (deflated 10%)\n",
            "  adding: drive_256_256_dice_bce_0_4__0_4_1/split_2/test/mask/_12_test_7.png (deflated 14%)\n",
            "  adding: drive_256_256_dice_bce_0_4__0_4_1/split_2/test/mask/_16_test_4.png (deflated 12%)\n",
            "  adding: drive_256_256_dice_bce_0_4__0_4_1/split_2/test/mask/_12_test_4.png (deflated 12%)\n",
            "  adding: drive_256_256_dice_bce_0_4__0_4_1/split_2/test/mask/_20_test_1.png (deflated 15%)\n",
            "  adding: drive_256_256_dice_bce_0_4__0_4_1/split_2/test/mask/_13_test_7.png (deflated 14%)\n",
            "  adding: drive_256_256_dice_bce_0_4__0_4_1/split_2/test/mask/_07_test_3.png (deflated 7%)\n",
            "  adding: drive_256_256_dice_bce_0_4__0_4_1/split_2/test/mask/_12_test_8.png (deflated 27%)\n",
            "  adding: drive_256_256_dice_bce_0_4__0_4_1/split_2/test/mask/_08_test_3.png (deflated 10%)\n",
            "  adding: drive_256_256_dice_bce_0_4__0_4_1/split_2/test/mask/_12_test_2.png (deflated 69%)\n",
            "  adding: drive_256_256_dice_bce_0_4__0_4_1/split_2/test/mask/_11_test_2.png (deflated 26%)\n",
            "  adding: drive_256_256_dice_bce_0_4__0_4_1/split_2/test/mask/_09_test_0.png (deflated 36%)\n",
            "  adding: drive_256_256_dice_bce_0_4__0_4_1/split_2/test/mask/_05_test_0.png (deflated 46%)\n",
            "  adding: drive_256_256_dice_bce_0_4__0_4_1/split_2/test/mask/_19_test_4.png (deflated 10%)\n",
            "  adding: drive_256_256_dice_bce_0_4__0_4_1/split_2/test/mask/_15_test_4.png (deflated 11%)\n",
            "  adding: drive_256_256_dice_bce_0_4__0_4_1/split_2/test/mask/_03_test_3.png (deflated 12%)\n",
            "  adding: drive_256_256_dice_bce_0_4__0_4_1/split_2/test/mask/_17_test_4.png (deflated 11%)\n",
            "  adding: drive_256_256_dice_bce_0_4__0_4_1/split_2/test/mask/_17_test_2.png (deflated 36%)\n",
            "  adding: drive_256_256_dice_bce_0_4__0_4_1/split_2/test/mask/_13_test_1.png (deflated 16%)\n",
            "  adding: drive_256_256_dice_bce_0_4__0_4_1/split_2/test/mask/_15_test_1.png (deflated 17%)\n",
            "  adding: drive_256_256_dice_bce_0_4__0_4_1/split_2/test/mask/_11_test_6.png (deflated 25%)\n",
            "  adding: drive_256_256_dice_bce_0_4__0_4_1/split_2/test/mask/_17_test_8.png (deflated 28%)\n",
            "  adding: drive_256_256_dice_bce_0_4__0_4_1/split_2/test/mask/_05_test_3.png (deflated 13%)\n",
            "  adding: drive_256_256_dice_bce_0_4__0_4_1/split_2/test/mask/_14_test_8.png (deflated 28%)\n",
            "  adding: drive_256_256_dice_bce_0_4__0_4_1/split_2/test/mask/_17_test_3.png (deflated 6%)\n",
            "  adding: drive_256_256_dice_bce_0_4__0_4_1/split_2/test/mask/_20_test_6.png (deflated 30%)\n",
            "  adding: drive_256_256_dice_bce_0_4__0_4_1/split_2/test/mask/_20_test_7.png (deflated 16%)\n",
            "  adding: drive_256_256_dice_bce_0_4__0_4_1/split_2/test/mask/_07_test_2.png (deflated 32%)\n",
            "  adding: drive_256_256_dice_bce_0_4__0_4_1/split_2/test/mask/_19_test_2.png (deflated 31%)\n",
            "  adding: drive_256_256_dice_bce_0_4__0_4_1/split_2/test/mask/_07_test_1.png (deflated 16%)\n",
            "  adding: drive_256_256_dice_bce_0_4__0_4_1/split_2/test/mask/_07_test_7.png (deflated 14%)\n",
            "  adding: drive_256_256_dice_bce_0_4__0_4_1/split_2/test/mask/_04_test_0.png (deflated 27%)\n",
            "  adding: drive_256_256_dice_bce_0_4__0_4_1/split_2/test/mask/_19_test_3.png (deflated 7%)\n",
            "  adding: drive_256_256_dice_bce_0_4__0_4_1/split_2/test/mask/_15_test_5.png (deflated 9%)\n",
            "  adding: drive_256_256_dice_bce_0_4__0_4_1/split_2/test/mask/_13_test_3.png (deflated 10%)\n",
            "  adding: drive_256_256_dice_bce_0_4__0_4_1/split_2/test/mask/_20_test_0.png (deflated 51%)\n",
            "  adding: drive_256_256_dice_bce_0_4__0_4_1/split_2/test/mask/_03_test_7.png (deflated 15%)\n",
            "  adding: drive_256_256_dice_bce_0_4__0_4_1/split_2/test/mask/_10_test_8.png (deflated 36%)\n",
            "  adding: drive_256_256_dice_bce_0_4__0_4_1/split_2/test/mask/_04_test_2.png (deflated 23%)\n",
            "  adding: drive_256_256_dice_bce_0_4__0_4_1/split_2/test/mask/_02_test_1.png (deflated 16%)\n",
            "  adding: drive_256_256_dice_bce_0_4__0_4_1/split_2/test/mask/_07_test_4.png (deflated 12%)\n",
            "  adding: drive_256_256_dice_bce_0_4__0_4_1/split_2/test/mask/_16_test_6.png (deflated 32%)\n",
            "  adding: drive_256_256_dice_bce_0_4__0_4_1/split_2/test/mask/_18_test_6.png (deflated 42%)\n",
            "  adding: drive_256_256_dice_bce_0_4__0_4_1/split_2/test/mask/_16_test_0.png (deflated 27%)\n",
            "  adding: drive_256_256_dice_bce_0_4__0_4_1/split_2/test/mask/_06_test_5.png (deflated 12%)\n",
            "  adding: drive_256_256_dice_bce_0_4__0_4_1/split_2/test/mask/_02_test_8.png (deflated 33%)\n",
            "  adding: drive_256_256_dice_bce_0_4__0_4_1/split_2/test/mask/_07_test_0.png (deflated 28%)\n",
            "  adding: drive_256_256_dice_bce_0_4__0_4_1/split_2/test/mask/_10_test_2.png (deflated 34%)\n",
            "  adding: drive_256_256_dice_bce_0_4__0_4_1/split_2/test/mask/_12_test_5.png (deflated 8%)\n",
            "  adding: drive_256_256_dice_bce_0_4__0_4_1/split_2/test/mask/_09_test_6.png (deflated 39%)\n",
            "  adding: drive_256_256_dice_bce_0_4__0_4_1/split_2/test/mask/_10_test_7.png (deflated 17%)\n",
            "  adding: drive_256_256_dice_bce_0_4__0_4_1/split_2/test/mask/_18_test_3.png (deflated 6%)\n",
            "  adding: drive_256_256_dice_bce_0_4__0_4_1/split_2/test/mask/_16_test_5.png (deflated 13%)\n",
            "  adding: drive_256_256_dice_bce_0_4__0_4_1/split_2/test/mask/_20_test_8.png (deflated 43%)\n",
            "  adding: drive_256_256_dice_bce_0_4__0_4_1/split_2/test/mask/_04_test_3.png (deflated 8%)\n",
            "  adding: drive_256_256_dice_bce_0_4__0_4_1/split_2/test/mask/_02_test_5.png (deflated 12%)\n",
            "  adding: drive_256_256_dice_bce_0_4__0_4_1/split_2/test/mask/_14_test_7.png (deflated 13%)\n",
            "  adding: drive_256_256_dice_bce_0_4__0_4_1/split_2/test/mask/_08_test_0.png (deflated 44%)\n",
            "  adding: drive_256_256_dice_bce_0_4__0_4_1/split_2/test/mask/_13_test_8.png (deflated 24%)\n",
            "  adding: drive_256_256_dice_bce_0_4__0_4_1/split_2/test/mask/_18_test_4.png (deflated 9%)\n",
            "  adding: drive_256_256_dice_bce_0_4__0_4_1/split_2/test/mask/_14_test_6.png (deflated 52%)\n",
            "  adding: drive_256_256_dice_bce_0_4__0_4_1/split_2/test/mask/_08_test_1.png (deflated 15%)\n",
            "  adding: drive_256_256_dice_bce_0_4__0_4_1/split_2/test/mask/_01_test_3.png (deflated 12%)\n",
            "  adding: drive_256_256_dice_bce_0_4__0_4_1/split_2/test/mask/_11_test_3.png (deflated 10%)\n",
            "  adding: drive_256_256_dice_bce_0_4__0_4_1/split_2/test/mask/_10_test_0.png (deflated 36%)\n",
            "  adding: drive_256_256_dice_bce_0_4__0_4_1/split_2/test/mask/_16_test_3.png (deflated 9%)\n",
            "  adding: drive_256_256_dice_bce_0_4__0_4_1/split_2/test/mask/_04_test_1.png (deflated 16%)\n",
            "  adding: drive_256_256_dice_bce_0_4__0_4_1/split_2/test/mask/_17_test_1.png (deflated 16%)\n",
            "  adding: drive_256_256_dice_bce_0_4__0_4_1/split_2/test/mask/_08_test_2.png (deflated 31%)\n",
            "  adding: drive_256_256_dice_bce_0_4__0_4_1/split_2/test/mask/_04_test_6.png (deflated 31%)\n",
            "  adding: drive_256_256_dice_bce_0_4__0_4_1/split_2/test/mask/_13_test_6.png (deflated 25%)\n",
            "  adding: drive_256_256_dice_bce_0_4__0_4_1/split_2/test/mask/_18_test_5.png (deflated 12%)\n",
            "  adding: drive_256_256_dice_bce_0_4__0_4_1/split_2/test/mask/_18_test_1.png (deflated 16%)\n",
            "  adding: drive_256_256_dice_bce_0_4__0_4_1/split_2/test/mask/_16_test_2.png (deflated 30%)\n",
            "  adding: drive_256_256_dice_bce_0_4__0_4_1/split_2/test/mask/_13_test_5.png (deflated 9%)\n",
            "  adding: drive_256_256_dice_bce_0_4__0_4_1/split_2/test/mask/_15_test_7.png (deflated 18%)\n",
            "  adding: drive_256_256_dice_bce_0_4__0_4_1/split_2/test/mask/_09_test_8.png (deflated 31%)\n",
            "  adding: drive_256_256_dice_bce_0_4__0_4_1/split_2/test/mask/_19_test_0.png (deflated 36%)\n",
            "  adding: drive_256_256_dice_bce_0_4__0_4_1/split_2/test/mask/_14_test_5.png (deflated 11%)\n",
            "  adding: drive_256_256_dice_bce_0_4__0_4_1/split_2/test/mask/_11_test_4.png (deflated 12%)\n",
            "  adding: drive_256_256_dice_bce_0_4__0_4_1/split_2/test/mask/_17_test_7.png (deflated 15%)\n",
            "  adding: drive_256_256_dice_bce_0_4__0_4_1/split_2/test/mask/_04_test_5.png (deflated 7%)\n",
            "  adding: drive_256_256_dice_bce_0_4__0_4_1/split_2/test/mask/_16_test_8.png (deflated 35%)\n",
            "  adding: drive_256_256_dice_bce_0_4__0_4_1/split_2/test/mask/_18_test_0.png (deflated 35%)\n",
            "  adding: drive_256_256_dice_bce_0_4__0_4_1/split_2/test/mask/_02_test_3.png (deflated 9%)\n",
            "  adding: drive_256_256_dice_bce_0_4__0_4_1/split_2/test/mask/_01_test_4.png (deflated 9%)\n",
            "  adding: drive_256_256_dice_bce_0_4__0_4_1/split_2/test/mask/_18_test_2.png (deflated 24%)\n",
            "  adding: drive_256_256_dice_bce_0_4__0_4_1/split_2/test/mask/_03_test_4.png (deflated 10%)\n",
            "  adding: drive_256_256_dice_bce_0_4__0_4_1/split_2/test/mask/_08_test_8.png (deflated 30%)\n",
            "  adding: drive_256_256_dice_bce_0_4__0_4_1/split_2/test/mask/_16_test_1.png (deflated 15%)\n",
            "  adding: drive_256_256_dice_bce_0_4__0_4_1/split_2/test/mask/_09_test_7.png (deflated 14%)\n",
            "  adding: drive_256_256_dice_bce_0_4__0_4_1/split_2/test/mask/_11_test_1.png (deflated 15%)\n",
            "  adding: drive_256_256_dice_bce_0_4__0_4_1/split_2/test/mask/_01_test_0.png (deflated 30%)\n",
            "  adding: drive_256_256_dice_bce_0_4__0_4_1/split_2/test/mask/_08_test_5.png (deflated 12%)\n",
            "  adding: drive_256_256_dice_bce_0_4__0_4_1/split_2/test/mask/_15_test_6.png (deflated 24%)\n",
            "  adding: drive_256_256_dice_bce_0_4__0_4_1/split_2/test/mask/_05_test_6.png (deflated 44%)\n",
            "  adding: drive_256_256_dice_bce_0_4__0_4_1/split_2/test/mask/_01_test_8.png (deflated 29%)\n",
            "  adding: drive_256_256_dice_bce_0_4__0_4_1/split_2/test/mask/_13_test_0.png (deflated 36%)\n",
            "  adding: drive_256_256_dice_bce_0_4__0_4_1/split_2/test/mask/_20_test_5.png (deflated 11%)\n",
            "  adding: drive_256_256_dice_bce_0_4__0_4_1/split_2/test/mask/_17_test_0.png (deflated 35%)\n",
            "  adding: drive_256_256_dice_bce_0_4__0_4_1/split_2/test/mask/_19_test_5.png (deflated 13%)\n",
            "  adding: drive_256_256_dice_bce_0_4__0_4_1/split_2/test/mask/_11_test_0.png (deflated 23%)\n",
            "  adding: drive_256_256_dice_bce_0_4__0_4_1/split_2/test/mask/_19_test_1.png (deflated 14%)\n",
            "  adding: drive_256_256_dice_bce_0_4__0_4_1/split_2/test/mask/_01_test_6.png (deflated 42%)\n",
            "  adding: drive_256_256_dice_bce_0_4__0_4_1/split_2/test/mask/_06_test_3.png (deflated 7%)\n",
            "  adding: drive_256_256_dice_bce_0_4__0_4_1/split_2/test/mask/_10_test_3.png (deflated 7%)\n",
            "  adding: drive_256_256_dice_bce_0_4__0_4_1/split_2/test/mask/_17_test_5.png (deflated 10%)\n",
            "  adding: drive_256_256_dice_bce_0_4__0_4_1/split_2/test/mask/_02_test_6.png (deflated 32%)\n",
            "  adding: drive_256_256_dice_bce_0_4__0_4_1/split_2/test/mask/_04_test_8.png (deflated 25%)\n",
            "  adding: drive_256_256_dice_bce_0_4__0_4_1/split_2/test/mask/_13_test_4.png (deflated 13%)\n",
            "  adding: drive_256_256_dice_bce_0_4__0_4_1/split_2/test/mask/_09_test_4.png (deflated 11%)\n",
            "  adding: drive_256_256_dice_bce_0_4__0_4_1/split_2/test/mask/_17_test_6.png (deflated 29%)\n",
            "  adding: drive_256_256_dice_bce_0_4__0_4_1/split_2/test/mask/_14_test_1.png (deflated 14%)\n",
            "  adding: drive_256_256_dice_bce_0_4__0_4_1/split_2/test/mask/_02_test_2.png (deflated 34%)\n",
            "  adding: drive_256_256_dice_bce_0_4__0_4_1/split_2/test/mask/_19_test_7.png (deflated 13%)\n",
            "  adding: drive_256_256_dice_bce_0_4__0_4_1/split_2/test/mask/_19_test_6.png (deflated 32%)\n",
            "  adding: drive_256_256_dice_bce_0_4__0_4_1/split_2/test/mask/_20_test_2.png (deflated 30%)\n",
            "  adding: drive_256_256_dice_bce_0_4__0_4_1/split_2/test/mask/_10_test_1.png (deflated 14%)\n",
            "  adding: drive_256_256_dice_bce_0_4__0_4_1/split_2/test/mask/_05_test_7.png (deflated 16%)\n",
            "  adding: drive_256_256_dice_bce_0_4__0_4_1/split_2/test/mask/_06_test_1.png (deflated 15%)\n",
            "  adding: drive_256_256_dice_bce_0_4__0_4_1/split_2/test/mask/_08_test_6.png (deflated 30%)\n",
            "  adding: drive_256_256_dice_bce_0_4__0_4_1/split_2/test/mask/_06_test_6.png (deflated 31%)\n",
            "  adding: drive_256_256_dice_bce_0_4__0_4_1/split_2/test/mask/_06_test_7.png (deflated 15%)\n",
            "  adding: drive_256_256_dice_bce_0_4__0_4_1/split_2/test/mask/_19_test_8.png (deflated 27%)\n",
            "  adding: drive_256_256_dice_bce_0_4__0_4_1/split_2/test/mask/_13_test_2.png (deflated 40%)\n",
            "  adding: drive_256_256_dice_bce_0_4__0_4_1/split_2/test/mask/_03_test_1.png (deflated 14%)\n",
            "  adding: drive_256_256_dice_bce_0_4__0_4_1/split_2/test/mask/_06_test_0.png (deflated 30%)\n",
            "  adding: drive_256_256_dice_bce_0_4__0_4_1/split_2/test/mask/_15_test_2.png (deflated 46%)\n",
            "  adding: drive_256_256_dice_bce_0_4__0_4_1/split_2/test/mask/_15_test_8.png (deflated 45%)\n",
            "  adding: drive_256_256_dice_bce_0_4__0_4_1/split_2/test/mask/_05_test_4.png (deflated 10%)\n",
            "  adding: drive_256_256_dice_bce_0_4__0_4_1/split_2/test/mask/_05_test_8.png (deflated 37%)\n",
            "  adding: drive_256_256_dice_bce_0_4__0_4_1/split_2/test/mask/_12_test_0.png (deflated 28%)\n",
            "  adding: drive_256_256_dice_bce_0_4__0_4_1/split_2/test/mask/_20_test_4.png (deflated 8%)\n",
            "  adding: drive_256_256_dice_bce_0_4__0_4_1/split_2/test/mask/_05_test_5.png (deflated 8%)\n",
            "  adding: drive_256_256_dice_bce_0_4__0_4_1/split_2/test/mask/_04_test_4.png (deflated 11%)\n",
            "  adding: drive_256_256_dice_bce_0_4__0_4_1/split_2/test/mask/_12_test_1.png (deflated 14%)\n",
            "  adding: drive_256_256_dice_bce_0_4__0_4_1/split_2/test/mask/_07_test_8.png (deflated 22%)\n",
            "  adding: drive_256_256_dice_bce_0_4__0_4_1/split_2/test/mask/_03_test_8.png (deflated 36%)\n",
            "  adding: drive_256_256_dice_bce_0_4__0_4_1/split_2/test/mask/_09_test_1.png (deflated 14%)\n",
            "  adding: drive_256_256_dice_bce_0_4__0_4_1/split_2/test/mask/_12_test_6.png (deflated 28%)\n",
            "  adding: drive_256_256_dice_bce_0_4__0_4_1/split_2/test/mask/_05_test_1.png (deflated 14%)\n",
            "  adding: drive_256_256_dice_bce_0_4__0_4_1/split_2/test/mask/_11_test_7.png (deflated 14%)\n",
            "  adding: drive_256_256_dice_bce_0_4__0_4_1/split_2/test/mask/_02_test_4.png (deflated 9%)\n",
            "  adding: drive_256_256_dice_bce_0_4__0_4_1/split_2/test/mask/_08_test_7.png (deflated 15%)\n",
            "  adding: drive_256_256_dice_bce_0_4__0_4_1/split_2/test/mask/_12_test_3.png (deflated 10%)\n",
            "  adding: drive_256_256_dice_bce_0_4__0_4_1/split_2/test/mask/_01_test_1.png (deflated 15%)\n",
            "  adding: drive_256_256_dice_bce_0_4__0_4_1/split_2/test/mask/_14_test_2.png (deflated 23%)\n",
            "  adding: drive_256_256_dice_bce_0_4__0_4_1/split_2/test/mask/_14_test_3.png (deflated 7%)\n",
            "  adding: drive_256_256_dice_bce_0_4__0_4_1/split_2/test/mask/_07_test_6.png (deflated 29%)\n",
            "  adding: drive_256_256_dice_bce_0_4__0_4_1/split_2/test/mask/_14_test_4.png (deflated 12%)\n",
            "  adding: drive_256_256_dice_bce_0_4__0_4_1/split_2/test/mask/_08_test_4.png (deflated 12%)\n",
            "  adding: drive_256_256_dice_bce_0_4__0_4_1/split_2/test/mask/_01_test_2.png (deflated 45%)\n",
            "  adding: drive_256_256_dice_bce_0_4__0_4_1/split_2/test/mask/_10_test_6.png (deflated 34%)\n",
            "  adding: drive_256_256_dice_bce_0_4__0_4_1/split_2/test/mask/_05_test_2.png (deflated 42%)\n",
            "  adding: drive_256_256_dice_bce_0_4__0_4_1/split_2/test/mask/_06_test_4.png (deflated 11%)\n",
            "  adding: drive_256_256_dice_bce_0_4__0_4_1/split_2/test/mask/_18_test_8.png (deflated 27%)\n",
            "  adding: drive_256_256_dice_bce_0_4__0_4_1/split_2/test/mask/_04_test_7.png (deflated 18%)\n",
            "  adding: drive_256_256_dice_bce_0_4__0_4_1/split_2/test/image/ (stored 0%)\n",
            "  adding: drive_256_256_dice_bce_0_4__0_4_1/split_2/test/image/_09_test_2.png (deflated 5%)\n",
            "  adding: drive_256_256_dice_bce_0_4__0_4_1/split_2/test/image/_06_test_2.png (deflated 5%)\n",
            "  adding: drive_256_256_dice_bce_0_4__0_4_1/split_2/test/image/_07_test_5.png (deflated 1%)\n",
            "  adding: drive_256_256_dice_bce_0_4__0_4_1/split_2/test/image/_10_test_4.png (deflated 2%)\n",
            "  adding: drive_256_256_dice_bce_0_4__0_4_1/split_2/test/image/_03_test_6.png (deflated 10%)\n",
            "  adding: drive_256_256_dice_bce_0_4__0_4_1/split_2/test/image/_15_test_0.png (deflated 6%)\n",
            "  adding: drive_256_256_dice_bce_0_4__0_4_1/split_2/test/image/_03_test_2.png (deflated 9%)\n",
            "  adding: drive_256_256_dice_bce_0_4__0_4_1/split_2/test/image/_16_test_7.png (deflated 2%)\n",
            "  adding: drive_256_256_dice_bce_0_4__0_4_1/split_2/test/image/_11_test_8.png (deflated 4%)\n",
            "  adding: drive_256_256_dice_bce_0_4__0_4_1/split_2/test/image/_11_test_5.png (deflated 2%)\n",
            "  adding: drive_256_256_dice_bce_0_4__0_4_1/split_2/test/image/_10_test_5.png (deflated 2%)\n",
            "  adding: drive_256_256_dice_bce_0_4__0_4_1/split_2/test/image/_06_test_8.png (deflated 4%)\n",
            "  adding: drive_256_256_dice_bce_0_4__0_4_1/split_2/test/image/_02_test_7.png (deflated 1%)\n",
            "  adding: drive_256_256_dice_bce_0_4__0_4_1/split_2/test/image/_14_test_0.png (deflated 7%)\n",
            "  adding: drive_256_256_dice_bce_0_4__0_4_1/split_2/test/image/_18_test_7.png (deflated 2%)\n",
            "  adding: drive_256_256_dice_bce_0_4__0_4_1/split_2/test/image/_09_test_5.png (deflated 3%)\n",
            "  adding: drive_256_256_dice_bce_0_4__0_4_1/split_2/test/image/_15_test_3.png (deflated 2%)\n",
            "  adding: drive_256_256_dice_bce_0_4__0_4_1/split_2/test/image/_03_test_0.png (deflated 10%)\n",
            "  adding: drive_256_256_dice_bce_0_4__0_4_1/split_2/test/image/_02_test_0.png (deflated 5%)\n",
            "  adding: drive_256_256_dice_bce_0_4__0_4_1/split_2/test/image/_20_test_3.png (deflated 2%)\n",
            "  adding: drive_256_256_dice_bce_0_4__0_4_1/split_2/test/image/_09_test_3.png (deflated 1%)\n",
            "  adding: drive_256_256_dice_bce_0_4__0_4_1/split_2/test/image/_01_test_7.png (deflated 3%)\n",
            "  adding: drive_256_256_dice_bce_0_4__0_4_1/split_2/test/image/_03_test_5.png (deflated 3%)\n",
            "  adding: drive_256_256_dice_bce_0_4__0_4_1/split_2/test/image/_01_test_5.png (deflated 3%)\n",
            "  adding: drive_256_256_dice_bce_0_4__0_4_1/split_2/test/image/_12_test_7.png (deflated 2%)\n",
            "  adding: drive_256_256_dice_bce_0_4__0_4_1/split_2/test/image/_16_test_4.png (deflated 2%)\n",
            "  adding: drive_256_256_dice_bce_0_4__0_4_1/split_2/test/image/_12_test_4.png (deflated 1%)\n",
            "  adding: drive_256_256_dice_bce_0_4__0_4_1/split_2/test/image/_20_test_1.png (deflated 3%)\n",
            "  adding: drive_256_256_dice_bce_0_4__0_4_1/split_2/test/image/_13_test_7.png (deflated 2%)\n",
            "  adding: drive_256_256_dice_bce_0_4__0_4_1/split_2/test/image/_07_test_3.png (deflated 2%)\n",
            "  adding: drive_256_256_dice_bce_0_4__0_4_1/split_2/test/image/_12_test_8.png (deflated 4%)\n",
            "  adding: drive_256_256_dice_bce_0_4__0_4_1/split_2/test/image/_08_test_3.png (deflated 2%)\n",
            "  adding: drive_256_256_dice_bce_0_4__0_4_1/split_2/test/image/_12_test_2.png (deflated 5%)\n",
            "  adding: drive_256_256_dice_bce_0_4__0_4_1/split_2/test/image/_11_test_2.png (deflated 7%)\n",
            "  adding: drive_256_256_dice_bce_0_4__0_4_1/split_2/test/image/_09_test_0.png (deflated 5%)\n",
            "  adding: drive_256_256_dice_bce_0_4__0_4_1/split_2/test/image/_05_test_0.png (deflated 6%)\n",
            "  adding: drive_256_256_dice_bce_0_4__0_4_1/split_2/test/image/_19_test_4.png (deflated 2%)\n",
            "  adding: drive_256_256_dice_bce_0_4__0_4_1/split_2/test/image/_15_test_4.png (deflated 1%)\n",
            "  adding: drive_256_256_dice_bce_0_4__0_4_1/split_2/test/image/_03_test_3.png (deflated 2%)\n",
            "  adding: drive_256_256_dice_bce_0_4__0_4_1/split_2/test/image/_17_test_4.png (deflated 2%)\n",
            "  adding: drive_256_256_dice_bce_0_4__0_4_1/split_2/test/image/_17_test_2.png (deflated 5%)\n",
            "  adding: drive_256_256_dice_bce_0_4__0_4_1/split_2/test/image/_13_test_1.png (deflated 3%)\n",
            "  adding: drive_256_256_dice_bce_0_4__0_4_1/split_2/test/image/_15_test_1.png (deflated 2%)\n",
            "  adding: drive_256_256_dice_bce_0_4__0_4_1/split_2/test/image/_11_test_6.png (deflated 4%)\n",
            "  adding: drive_256_256_dice_bce_0_4__0_4_1/split_2/test/image/_17_test_8.png (deflated 4%)\n",
            "  adding: drive_256_256_dice_bce_0_4__0_4_1/split_2/test/image/_05_test_3.png (deflated 1%)\n",
            "  adding: drive_256_256_dice_bce_0_4__0_4_1/split_2/test/image/_14_test_8.png (deflated 4%)\n",
            "  adding: drive_256_256_dice_bce_0_4__0_4_1/split_2/test/image/_17_test_3.png (deflated 2%)\n",
            "  adding: drive_256_256_dice_bce_0_4__0_4_1/split_2/test/image/_20_test_6.png (deflated 4%)\n",
            "  adding: drive_256_256_dice_bce_0_4__0_4_1/split_2/test/image/_20_test_7.png (deflated 3%)\n",
            "  adding: drive_256_256_dice_bce_0_4__0_4_1/split_2/test/image/_07_test_2.png (deflated 5%)\n",
            "  adding: drive_256_256_dice_bce_0_4__0_4_1/split_2/test/image/_19_test_2.png (deflated 5%)\n",
            "  adding: drive_256_256_dice_bce_0_4__0_4_1/split_2/test/image/_07_test_1.png (deflated 2%)\n",
            "  adding: drive_256_256_dice_bce_0_4__0_4_1/split_2/test/image/_07_test_7.png (deflated 2%)\n",
            "  adding: drive_256_256_dice_bce_0_4__0_4_1/split_2/test/image/_04_test_0.png (deflated 5%)\n",
            "  adding: drive_256_256_dice_bce_0_4__0_4_1/split_2/test/image/_19_test_3.png (deflated 2%)\n",
            "  adding: drive_256_256_dice_bce_0_4__0_4_1/split_2/test/image/_15_test_5.png (deflated 3%)\n",
            "  adding: drive_256_256_dice_bce_0_4__0_4_1/split_2/test/image/_13_test_3.png (deflated 2%)\n",
            "  adding: drive_256_256_dice_bce_0_4__0_4_1/split_2/test/image/_20_test_0.png (deflated 6%)\n",
            "  adding: drive_256_256_dice_bce_0_4__0_4_1/split_2/test/image/_03_test_7.png (deflated 3%)\n",
            "  adding: drive_256_256_dice_bce_0_4__0_4_1/split_2/test/image/_10_test_8.png (deflated 5%)\n",
            "  adding: drive_256_256_dice_bce_0_4__0_4_1/split_2/test/image/_04_test_2.png (deflated 5%)\n",
            "  adding: drive_256_256_dice_bce_0_4__0_4_1/split_2/test/image/_02_test_1.png (deflated 2%)\n",
            "  adding: drive_256_256_dice_bce_0_4__0_4_1/split_2/test/image/_07_test_4.png (deflated 2%)\n",
            "  adding: drive_256_256_dice_bce_0_4__0_4_1/split_2/test/image/_16_test_6.png (deflated 5%)\n",
            "  adding: drive_256_256_dice_bce_0_4__0_4_1/split_2/test/image/_18_test_6.png (deflated 4%)\n",
            "  adding: drive_256_256_dice_bce_0_4__0_4_1/split_2/test/image/_16_test_0.png (deflated 5%)\n",
            "  adding: drive_256_256_dice_bce_0_4__0_4_1/split_2/test/image/_06_test_5.png (deflated 2%)\n",
            "  adding: drive_256_256_dice_bce_0_4__0_4_1/split_2/test/image/_02_test_8.png (deflated 4%)\n",
            "  adding: drive_256_256_dice_bce_0_4__0_4_1/split_2/test/image/_07_test_0.png (deflated 4%)\n",
            "  adding: drive_256_256_dice_bce_0_4__0_4_1/split_2/test/image/_10_test_2.png (deflated 6%)\n",
            "  adding: drive_256_256_dice_bce_0_4__0_4_1/split_2/test/image/_12_test_5.png (deflated 2%)\n",
            "  adding: drive_256_256_dice_bce_0_4__0_4_1/split_2/test/image/_09_test_6.png (deflated 4%)\n",
            "  adding: drive_256_256_dice_bce_0_4__0_4_1/split_2/test/image/_10_test_7.png (deflated 2%)\n",
            "  adding: drive_256_256_dice_bce_0_4__0_4_1/split_2/test/image/_18_test_3.png (deflated 2%)\n",
            "  adding: drive_256_256_dice_bce_0_4__0_4_1/split_2/test/image/_16_test_5.png (deflated 1%)\n",
            "  adding: drive_256_256_dice_bce_0_4__0_4_1/split_2/test/image/_20_test_8.png (deflated 5%)\n",
            "  adding: drive_256_256_dice_bce_0_4__0_4_1/split_2/test/image/_04_test_3.png (deflated 2%)\n",
            "  adding: drive_256_256_dice_bce_0_4__0_4_1/split_2/test/image/_02_test_5.png (deflated 1%)\n",
            "  adding: drive_256_256_dice_bce_0_4__0_4_1/split_2/test/image/_14_test_7.png (deflated 1%)\n",
            "  adding: drive_256_256_dice_bce_0_4__0_4_1/split_2/test/image/_08_test_0.png (deflated 5%)\n",
            "  adding: drive_256_256_dice_bce_0_4__0_4_1/split_2/test/image/_13_test_8.png (deflated 4%)\n",
            "  adding: drive_256_256_dice_bce_0_4__0_4_1/split_2/test/image/_18_test_4.png (deflated 2%)\n",
            "  adding: drive_256_256_dice_bce_0_4__0_4_1/split_2/test/image/_14_test_6.png (deflated 5%)\n",
            "  adding: drive_256_256_dice_bce_0_4__0_4_1/split_2/test/image/_08_test_1.png (deflated 3%)\n",
            "  adding: drive_256_256_dice_bce_0_4__0_4_1/split_2/test/image/_01_test_3.png (deflated 1%)\n",
            "  adding: drive_256_256_dice_bce_0_4__0_4_1/split_2/test/image/_11_test_3.png (deflated 1%)\n",
            "  adding: drive_256_256_dice_bce_0_4__0_4_1/split_2/test/image/_10_test_0.png (deflated 6%)\n",
            "  adding: drive_256_256_dice_bce_0_4__0_4_1/split_2/test/image/_16_test_3.png (deflated 2%)\n",
            "  adding: drive_256_256_dice_bce_0_4__0_4_1/split_2/test/image/_04_test_1.png (deflated 2%)\n",
            "  adding: drive_256_256_dice_bce_0_4__0_4_1/split_2/test/image/_17_test_1.png (deflated 2%)\n",
            "  adding: drive_256_256_dice_bce_0_4__0_4_1/split_2/test/image/_08_test_2.png (deflated 6%)\n",
            "  adding: drive_256_256_dice_bce_0_4__0_4_1/split_2/test/image/_04_test_6.png (deflated 5%)\n",
            "  adding: drive_256_256_dice_bce_0_4__0_4_1/split_2/test/image/_13_test_6.png (deflated 5%)\n",
            "  adding: drive_256_256_dice_bce_0_4__0_4_1/split_2/test/image/_18_test_5.png (deflated 1%)\n",
            "  adding: drive_256_256_dice_bce_0_4__0_4_1/split_2/test/image/_18_test_1.png (deflated 3%)\n",
            "  adding: drive_256_256_dice_bce_0_4__0_4_1/split_2/test/image/_16_test_2.png (deflated 5%)\n",
            "  adding: drive_256_256_dice_bce_0_4__0_4_1/split_2/test/image/_13_test_5.png (deflated 1%)\n",
            "  adding: drive_256_256_dice_bce_0_4__0_4_1/split_2/test/image/_15_test_7.png (deflated 1%)\n",
            "  adding: drive_256_256_dice_bce_0_4__0_4_1/split_2/test/image/_09_test_8.png (deflated 4%)\n",
            "  adding: drive_256_256_dice_bce_0_4__0_4_1/split_2/test/image/_19_test_0.png (deflated 5%)\n",
            "  adding: drive_256_256_dice_bce_0_4__0_4_1/split_2/test/image/_14_test_5.png (deflated 1%)\n",
            "  adding: drive_256_256_dice_bce_0_4__0_4_1/split_2/test/image/_11_test_4.png (deflated 1%)\n",
            "  adding: drive_256_256_dice_bce_0_4__0_4_1/split_2/test/image/_17_test_7.png (deflated 1%)\n",
            "  adding: drive_256_256_dice_bce_0_4__0_4_1/split_2/test/image/_04_test_5.png (deflated 2%)\n",
            "  adding: drive_256_256_dice_bce_0_4__0_4_1/split_2/test/image/_16_test_8.png (deflated 4%)\n",
            "  adding: drive_256_256_dice_bce_0_4__0_4_1/split_2/test/image/_18_test_0.png (deflated 5%)\n",
            "  adding: drive_256_256_dice_bce_0_4__0_4_1/split_2/test/image/_02_test_3.png (deflated 1%)\n",
            "  adding: drive_256_256_dice_bce_0_4__0_4_1/split_2/test/image/_01_test_4.png (deflated 2%)\n",
            "  adding: drive_256_256_dice_bce_0_4__0_4_1/split_2/test/image/_18_test_2.png (deflated 5%)\n",
            "  adding: drive_256_256_dice_bce_0_4__0_4_1/split_2/test/image/_03_test_4.png (deflated 3%)\n",
            "  adding: drive_256_256_dice_bce_0_4__0_4_1/split_2/test/image/_08_test_8.png (deflated 5%)\n",
            "  adding: drive_256_256_dice_bce_0_4__0_4_1/split_2/test/image/_16_test_1.png (deflated 3%)\n",
            "  adding: drive_256_256_dice_bce_0_4__0_4_1/split_2/test/image/_09_test_7.png (deflated 2%)\n",
            "  adding: drive_256_256_dice_bce_0_4__0_4_1/split_2/test/image/_11_test_1.png (deflated 2%)\n",
            "  adding: drive_256_256_dice_bce_0_4__0_4_1/split_2/test/image/_01_test_0.png (deflated 5%)\n",
            "  adding: drive_256_256_dice_bce_0_4__0_4_1/split_2/test/image/_08_test_5.png (deflated 1%)\n",
            "  adding: drive_256_256_dice_bce_0_4__0_4_1/split_2/test/image/_15_test_6.png (deflated 5%)\n",
            "  adding: drive_256_256_dice_bce_0_4__0_4_1/split_2/test/image/_05_test_6.png (deflated 4%)\n",
            "  adding: drive_256_256_dice_bce_0_4__0_4_1/split_2/test/image/_01_test_8.png (deflated 5%)\n",
            "  adding: drive_256_256_dice_bce_0_4__0_4_1/split_2/test/image/_13_test_0.png (deflated 5%)\n",
            "  adding: drive_256_256_dice_bce_0_4__0_4_1/split_2/test/image/_20_test_5.png (deflated 2%)\n",
            "  adding: drive_256_256_dice_bce_0_4__0_4_1/split_2/test/image/_17_test_0.png (deflated 5%)\n",
            "  adding: drive_256_256_dice_bce_0_4__0_4_1/split_2/test/image/_19_test_5.png (deflated 2%)\n",
            "  adding: drive_256_256_dice_bce_0_4__0_4_1/split_2/test/image/_11_test_0.png (deflated 5%)\n",
            "  adding: drive_256_256_dice_bce_0_4__0_4_1/split_2/test/image/_19_test_1.png (deflated 3%)\n",
            "  adding: drive_256_256_dice_bce_0_4__0_4_1/split_2/test/image/_01_test_6.png (deflated 5%)\n",
            "  adding: drive_256_256_dice_bce_0_4__0_4_1/split_2/test/image/_06_test_3.png (deflated 2%)\n",
            "  adding: drive_256_256_dice_bce_0_4__0_4_1/split_2/test/image/_10_test_3.png (deflated 2%)\n",
            "  adding: drive_256_256_dice_bce_0_4__0_4_1/split_2/test/image/_17_test_5.png (deflated 1%)\n",
            "  adding: drive_256_256_dice_bce_0_4__0_4_1/split_2/test/image/_02_test_6.png (deflated 5%)\n",
            "  adding: drive_256_256_dice_bce_0_4__0_4_1/split_2/test/image/_04_test_8.png (deflated 5%)\n",
            "  adding: drive_256_256_dice_bce_0_4__0_4_1/split_2/test/image/_13_test_4.png (deflated 2%)\n",
            "  adding: drive_256_256_dice_bce_0_4__0_4_1/split_2/test/image/_09_test_4.png (deflated 2%)\n",
            "  adding: drive_256_256_dice_bce_0_4__0_4_1/split_2/test/image/_17_test_6.png (deflated 4%)\n",
            "  adding: drive_256_256_dice_bce_0_4__0_4_1/split_2/test/image/_14_test_1.png (deflated 3%)\n",
            "  adding: drive_256_256_dice_bce_0_4__0_4_1/split_2/test/image/_02_test_2.png (deflated 6%)\n",
            "  adding: drive_256_256_dice_bce_0_4__0_4_1/split_2/test/image/_19_test_7.png (deflated 2%)\n",
            "  adding: drive_256_256_dice_bce_0_4__0_4_1/split_2/test/image/_19_test_6.png (deflated 5%)\n",
            "  adding: drive_256_256_dice_bce_0_4__0_4_1/split_2/test/image/_20_test_2.png (deflated 6%)\n",
            "  adding: drive_256_256_dice_bce_0_4__0_4_1/split_2/test/image/_10_test_1.png (deflated 3%)\n",
            "  adding: drive_256_256_dice_bce_0_4__0_4_1/split_2/test/image/_05_test_7.png (deflated 2%)\n",
            "  adding: drive_256_256_dice_bce_0_4__0_4_1/split_2/test/image/_06_test_1.png (deflated 3%)\n",
            "  adding: drive_256_256_dice_bce_0_4__0_4_1/split_2/test/image/_08_test_6.png (deflated 5%)\n",
            "  adding: drive_256_256_dice_bce_0_4__0_4_1/split_2/test/image/_06_test_6.png (deflated 4%)\n",
            "  adding: drive_256_256_dice_bce_0_4__0_4_1/split_2/test/image/_06_test_7.png (deflated 2%)\n",
            "  adding: drive_256_256_dice_bce_0_4__0_4_1/split_2/test/image/_19_test_8.png (deflated 4%)\n",
            "  adding: drive_256_256_dice_bce_0_4__0_4_1/split_2/test/image/_13_test_2.png (deflated 5%)\n",
            "  adding: drive_256_256_dice_bce_0_4__0_4_1/split_2/test/image/_03_test_1.png (deflated 4%)\n",
            "  adding: drive_256_256_dice_bce_0_4__0_4_1/split_2/test/image/_06_test_0.png (deflated 5%)\n",
            "  adding: drive_256_256_dice_bce_0_4__0_4_1/split_2/test/image/_15_test_2.png (deflated 6%)\n",
            "  adding: drive_256_256_dice_bce_0_4__0_4_1/split_2/test/image/_15_test_8.png (deflated 5%)\n",
            "  adding: drive_256_256_dice_bce_0_4__0_4_1/split_2/test/image/_05_test_4.png (deflated 2%)\n",
            "  adding: drive_256_256_dice_bce_0_4__0_4_1/split_2/test/image/_05_test_8.png (deflated 5%)\n",
            "  adding: drive_256_256_dice_bce_0_4__0_4_1/split_2/test/image/_12_test_0.png (deflated 4%)\n",
            "  adding: drive_256_256_dice_bce_0_4__0_4_1/split_2/test/image/_20_test_4.png (deflated 3%)\n",
            "  adding: drive_256_256_dice_bce_0_4__0_4_1/split_2/test/image/_05_test_5.png (deflated 3%)\n",
            "  adding: drive_256_256_dice_bce_0_4__0_4_1/split_2/test/image/_04_test_4.png (deflated 0%)\n",
            "  adding: drive_256_256_dice_bce_0_4__0_4_1/split_2/test/image/_12_test_1.png (deflated 2%)\n",
            "  adding: drive_256_256_dice_bce_0_4__0_4_1/split_2/test/image/_07_test_8.png (deflated 4%)\n",
            "  adding: drive_256_256_dice_bce_0_4__0_4_1/split_2/test/image/_03_test_8.png (deflated 8%)\n",
            "  adding: drive_256_256_dice_bce_0_4__0_4_1/split_2/test/image/_09_test_1.png (deflated 3%)\n",
            "  adding: drive_256_256_dice_bce_0_4__0_4_1/split_2/test/image/_12_test_6.png (deflated 4%)\n",
            "  adding: drive_256_256_dice_bce_0_4__0_4_1/split_2/test/image/_05_test_1.png (deflated 3%)\n",
            "  adding: drive_256_256_dice_bce_0_4__0_4_1/split_2/test/image/_11_test_7.png (deflated 2%)\n",
            "  adding: drive_256_256_dice_bce_0_4__0_4_1/split_2/test/image/_02_test_4.png (deflated 2%)\n",
            "  adding: drive_256_256_dice_bce_0_4__0_4_1/split_2/test/image/_08_test_7.png (deflated 3%)\n",
            "  adding: drive_256_256_dice_bce_0_4__0_4_1/split_2/test/image/_12_test_3.png (deflated 1%)\n",
            "  adding: drive_256_256_dice_bce_0_4__0_4_1/split_2/test/image/_01_test_1.png (deflated 3%)\n",
            "  adding: drive_256_256_dice_bce_0_4__0_4_1/split_2/test/image/_14_test_2.png (deflated 5%)\n",
            "  adding: drive_256_256_dice_bce_0_4__0_4_1/split_2/test/image/_14_test_3.png (deflated 2%)\n",
            "  adding: drive_256_256_dice_bce_0_4__0_4_1/split_2/test/image/_07_test_6.png (deflated 5%)\n",
            "  adding: drive_256_256_dice_bce_0_4__0_4_1/split_2/test/image/_14_test_4.png (deflated 2%)\n",
            "  adding: drive_256_256_dice_bce_0_4__0_4_1/split_2/test/image/_08_test_4.png (deflated 2%)\n",
            "  adding: drive_256_256_dice_bce_0_4__0_4_1/split_2/test/image/_01_test_2.png (deflated 6%)\n",
            "  adding: drive_256_256_dice_bce_0_4__0_4_1/split_2/test/image/_10_test_6.png (deflated 5%)\n",
            "  adding: drive_256_256_dice_bce_0_4__0_4_1/split_2/test/image/_05_test_2.png (deflated 7%)\n",
            "  adding: drive_256_256_dice_bce_0_4__0_4_1/split_2/test/image/_06_test_4.png (deflated 2%)\n",
            "  adding: drive_256_256_dice_bce_0_4__0_4_1/split_2/test/image/_18_test_8.png (deflated 4%)\n",
            "  adding: drive_256_256_dice_bce_0_4__0_4_1/split_2/test/image/_04_test_7.png (deflated 1%)\n",
            "  adding: drive_256_256_dice_bce_0_4__0_4_1/split_2/image_patches_256_256_train.csv (deflated 95%)\n",
            "  adding: drive_256_256_dice_bce_0_4__0_4_1/split_2/train/ (stored 0%)\n",
            "  adding: drive_256_256_dice_bce_0_4__0_4_1/split_2/train/mask/ (stored 0%)\n",
            "  adding: drive_256_256_dice_bce_0_4__0_4_1/split_2/train/mask/_23_training_2.png (deflated 22%)\n",
            "  adding: drive_256_256_dice_bce_0_4__0_4_1/split_2/train/mask/_24_training_4.png (deflated 12%)\n",
            "  adding: drive_256_256_dice_bce_0_4__0_4_1/split_2/train/mask/_25_training_2.png (deflated 32%)\n",
            "  adding: drive_256_256_dice_bce_0_4__0_4_1/split_2/train/mask/_31_training_2.png (deflated 33%)\n",
            "  adding: drive_256_256_dice_bce_0_4__0_4_1/split_2/train/mask/_24_training_2.png (deflated 34%)\n",
            "  adding: drive_256_256_dice_bce_0_4__0_4_1/split_2/train/mask/_31_training_7.png (deflated 16%)\n",
            "  adding: drive_256_256_dice_bce_0_4__0_4_1/split_2/train/mask/_26_training_5.png (deflated 8%)\n",
            "  adding: drive_256_256_dice_bce_0_4__0_4_1/split_2/train/mask/_36_training_6.png (deflated 21%)\n",
            "  adding: drive_256_256_dice_bce_0_4__0_4_1/split_2/train/mask/_23_training_0.png (deflated 59%)\n",
            "  adding: drive_256_256_dice_bce_0_4__0_4_1/split_2/train/mask/_28_training_7.png (deflated 14%)\n",
            "  adding: drive_256_256_dice_bce_0_4__0_4_1/split_2/train/mask/_24_training_6.png (deflated 34%)\n",
            "  adding: drive_256_256_dice_bce_0_4__0_4_1/split_2/train/mask/_31_training_0.png (deflated 32%)\n",
            "  adding: drive_256_256_dice_bce_0_4__0_4_1/split_2/train/mask/_36_training_1.png (deflated 16%)\n",
            "  adding: drive_256_256_dice_bce_0_4__0_4_1/split_2/train/mask/_26_training_8.png (deflated 30%)\n",
            "  adding: drive_256_256_dice_bce_0_4__0_4_1/split_2/train/mask/_21_training_5.png (deflated 9%)\n",
            "  adding: drive_256_256_dice_bce_0_4__0_4_1/split_2/train/mask/_30_training_5.png (deflated 11%)\n",
            "  adding: drive_256_256_dice_bce_0_4__0_4_1/split_2/train/mask/_40_training_3.png (deflated 8%)\n",
            "  adding: drive_256_256_dice_bce_0_4__0_4_1/split_2/train/mask/_34_training_3.png (deflated 3%)\n",
            "  adding: drive_256_256_dice_bce_0_4__0_4_1/split_2/train/mask/_35_training_0.png (deflated 27%)\n",
            "  adding: drive_256_256_dice_bce_0_4__0_4_1/split_2/train/mask/_38_training_1.png (deflated 16%)\n",
            "  adding: drive_256_256_dice_bce_0_4__0_4_1/split_2/train/mask/_26_training_4.png (deflated 8%)\n",
            "  adding: drive_256_256_dice_bce_0_4__0_4_1/split_2/train/mask/_28_training_0.png (deflated 31%)\n",
            "  adding: drive_256_256_dice_bce_0_4__0_4_1/split_2/train/mask/_29_training_4.png (deflated 11%)\n",
            "  adding: drive_256_256_dice_bce_0_4__0_4_1/split_2/train/mask/_32_training_0.png (deflated 34%)\n",
            "  adding: drive_256_256_dice_bce_0_4__0_4_1/split_2/train/mask/_39_training_0.png (deflated 37%)\n",
            "  adding: drive_256_256_dice_bce_0_4__0_4_1/split_2/train/mask/_39_training_5.png (deflated 5%)\n",
            "  adding: drive_256_256_dice_bce_0_4__0_4_1/split_2/train/mask/_37_training_5.png (deflated 13%)\n",
            "  adding: drive_256_256_dice_bce_0_4__0_4_1/split_2/train/mask/_34_training_0.png (deflated 38%)\n",
            "  adding: drive_256_256_dice_bce_0_4__0_4_1/split_2/train/mask/_36_training_0.png (deflated 23%)\n",
            "  adding: drive_256_256_dice_bce_0_4__0_4_1/split_2/train/mask/_37_training_4.png (deflated 10%)\n",
            "  adding: drive_256_256_dice_bce_0_4__0_4_1/split_2/train/mask/_39_training_6.png (deflated 33%)\n",
            "  adding: drive_256_256_dice_bce_0_4__0_4_1/split_2/train/mask/_22_training_2.png (deflated 31%)\n",
            "  adding: drive_256_256_dice_bce_0_4__0_4_1/split_2/train/mask/_34_training_7.png (deflated 16%)\n",
            "  adding: drive_256_256_dice_bce_0_4__0_4_1/split_2/train/mask/_38_training_3.png (deflated 7%)\n",
            "  adding: drive_256_256_dice_bce_0_4__0_4_1/split_2/train/mask/_32_training_4.png (deflated 13%)\n",
            "  adding: drive_256_256_dice_bce_0_4__0_4_1/split_2/train/mask/_33_training_1.png (deflated 15%)\n",
            "  adding: drive_256_256_dice_bce_0_4__0_4_1/split_2/train/mask/_38_training_8.png (deflated 45%)\n",
            "  adding: drive_256_256_dice_bce_0_4__0_4_1/split_2/train/mask/_24_training_0.png (deflated 32%)\n",
            "  adding: drive_256_256_dice_bce_0_4__0_4_1/split_2/train/mask/_33_training_2.png (deflated 27%)\n",
            "  adding: drive_256_256_dice_bce_0_4__0_4_1/split_2/train/mask/_27_training_8.png (deflated 28%)\n",
            "  adding: drive_256_256_dice_bce_0_4__0_4_1/split_2/train/mask/_25_training_8.png (deflated 44%)\n",
            "  adding: drive_256_256_dice_bce_0_4__0_4_1/split_2/train/mask/_24_training_1.png (deflated 15%)\n",
            "  adding: drive_256_256_dice_bce_0_4__0_4_1/split_2/train/mask/_32_training_8.png (deflated 31%)\n",
            "  adding: drive_256_256_dice_bce_0_4__0_4_1/split_2/train/mask/_29_training_2.png (deflated 27%)\n",
            "  adding: drive_256_256_dice_bce_0_4__0_4_1/split_2/train/mask/_29_training_5.png (deflated 9%)\n",
            "  adding: drive_256_256_dice_bce_0_4__0_4_1/split_2/train/mask/_25_training_3.png (deflated 6%)\n",
            "  adding: drive_256_256_dice_bce_0_4__0_4_1/split_2/train/mask/_36_training_5.png (deflated 14%)\n",
            "  adding: drive_256_256_dice_bce_0_4__0_4_1/split_2/train/mask/_23_training_8.png (deflated 33%)\n",
            "  adding: drive_256_256_dice_bce_0_4__0_4_1/split_2/train/mask/_36_training_8.png (deflated 28%)\n",
            "  adding: drive_256_256_dice_bce_0_4__0_4_1/split_2/train/mask/_39_training_4.png (deflated 10%)\n",
            "  adding: drive_256_256_dice_bce_0_4__0_4_1/split_2/train/mask/_21_training_3.png (deflated 9%)\n",
            "  adding: drive_256_256_dice_bce_0_4__0_4_1/split_2/train/mask/_24_training_3.png (deflated 7%)\n",
            "  adding: drive_256_256_dice_bce_0_4__0_4_1/split_2/train/mask/_39_training_2.png (deflated 31%)\n",
            "  adding: drive_256_256_dice_bce_0_4__0_4_1/split_2/train/mask/_22_training_4.png (deflated 10%)\n",
            "  adding: drive_256_256_dice_bce_0_4__0_4_1/split_2/train/mask/_29_training_0.png (deflated 30%)\n",
            "  adding: drive_256_256_dice_bce_0_4__0_4_1/split_2/train/mask/_30_training_6.png (deflated 34%)\n",
            "  adding: drive_256_256_dice_bce_0_4__0_4_1/split_2/train/mask/_35_training_1.png (deflated 15%)\n",
            "  adding: drive_256_256_dice_bce_0_4__0_4_1/split_2/train/mask/_40_training_6.png (deflated 24%)\n",
            "  adding: drive_256_256_dice_bce_0_4__0_4_1/split_2/train/mask/_31_training_3.png (deflated 9%)\n",
            "  adding: drive_256_256_dice_bce_0_4__0_4_1/split_2/train/mask/_23_training_1.png (deflated 17%)\n",
            "  adding: drive_256_256_dice_bce_0_4__0_4_1/split_2/train/mask/_25_training_1.png (deflated 14%)\n",
            "  adding: drive_256_256_dice_bce_0_4__0_4_1/split_2/train/mask/_29_training_8.png (deflated 36%)\n",
            "  adding: drive_256_256_dice_bce_0_4__0_4_1/split_2/train/mask/_31_training_6.png (deflated 44%)\n",
            "  adding: drive_256_256_dice_bce_0_4__0_4_1/split_2/train/mask/_23_training_4.png (deflated 8%)\n",
            "  adding: drive_256_256_dice_bce_0_4__0_4_1/split_2/train/mask/_38_training_5.png (deflated 13%)\n",
            "  adding: drive_256_256_dice_bce_0_4__0_4_1/split_2/train/mask/_33_training_5.png (deflated 11%)\n",
            "  adding: drive_256_256_dice_bce_0_4__0_4_1/split_2/train/mask/_38_training_7.png (deflated 16%)\n",
            "  adding: drive_256_256_dice_bce_0_4__0_4_1/split_2/train/mask/_36_training_7.png (deflated 16%)\n",
            "  adding: drive_256_256_dice_bce_0_4__0_4_1/split_2/train/mask/_28_training_3.png (deflated 7%)\n",
            "  adding: drive_256_256_dice_bce_0_4__0_4_1/split_2/train/mask/_34_training_1.png (deflated 17%)\n",
            "  adding: drive_256_256_dice_bce_0_4__0_4_1/split_2/train/mask/_29_training_6.png (deflated 47%)\n",
            "  adding: drive_256_256_dice_bce_0_4__0_4_1/split_2/train/mask/_23_training_6.png (deflated 58%)\n",
            "  adding: drive_256_256_dice_bce_0_4__0_4_1/split_2/train/mask/_33_training_6.png (deflated 36%)\n",
            "  adding: drive_256_256_dice_bce_0_4__0_4_1/split_2/train/mask/_27_training_2.png (deflated 33%)\n",
            "  adding: drive_256_256_dice_bce_0_4__0_4_1/split_2/train/mask/_40_training_0.png (deflated 27%)\n",
            "  adding: drive_256_256_dice_bce_0_4__0_4_1/split_2/train/mask/_22_training_5.png (deflated 10%)\n",
            "  adding: drive_256_256_dice_bce_0_4__0_4_1/split_2/train/mask/_35_training_7.png (deflated 15%)\n",
            "  adding: drive_256_256_dice_bce_0_4__0_4_1/split_2/train/mask/_31_training_5.png (deflated 3%)\n",
            "  adding: drive_256_256_dice_bce_0_4__0_4_1/split_2/train/mask/_31_training_1.png (deflated 16%)\n",
            "  adding: drive_256_256_dice_bce_0_4__0_4_1/split_2/train/mask/_36_training_2.png (deflated 25%)\n",
            "  adding: drive_256_256_dice_bce_0_4__0_4_1/split_2/train/mask/_33_training_3.png (deflated 9%)\n",
            "  adding: drive_256_256_dice_bce_0_4__0_4_1/split_2/train/mask/_22_training_1.png (deflated 18%)\n",
            "  adding: drive_256_256_dice_bce_0_4__0_4_1/split_2/train/mask/_27_training_4.png (deflated 12%)\n",
            "  adding: drive_256_256_dice_bce_0_4__0_4_1/split_2/train/mask/_28_training_4.png (deflated 11%)\n",
            "  adding: drive_256_256_dice_bce_0_4__0_4_1/split_2/train/mask/_30_training_7.png (deflated 14%)\n",
            "  adding: drive_256_256_dice_bce_0_4__0_4_1/split_2/train/mask/_21_training_6.png (deflated 45%)\n",
            "  adding: drive_256_256_dice_bce_0_4__0_4_1/split_2/train/mask/_40_training_1.png (deflated 15%)\n",
            "  adding: drive_256_256_dice_bce_0_4__0_4_1/split_2/train/mask/_35_training_4.png (deflated 9%)\n",
            "  adding: drive_256_256_dice_bce_0_4__0_4_1/split_2/train/mask/_30_training_2.png (deflated 35%)\n",
            "  adding: drive_256_256_dice_bce_0_4__0_4_1/split_2/train/mask/_33_training_4.png (deflated 11%)\n",
            "  adding: drive_256_256_dice_bce_0_4__0_4_1/split_2/train/mask/_34_training_4.png (deflated 14%)\n",
            "  adding: drive_256_256_dice_bce_0_4__0_4_1/split_2/train/mask/_22_training_7.png (deflated 14%)\n",
            "  adding: drive_256_256_dice_bce_0_4__0_4_1/split_2/train/mask/_35_training_5.png (deflated 8%)\n",
            "  adding: drive_256_256_dice_bce_0_4__0_4_1/split_2/train/mask/_29_training_1.png (deflated 14%)\n",
            "  adding: drive_256_256_dice_bce_0_4__0_4_1/split_2/train/mask/_22_training_0.png (deflated 30%)\n",
            "  adding: drive_256_256_dice_bce_0_4__0_4_1/split_2/train/mask/_22_training_8.png (deflated 31%)\n",
            "  adding: drive_256_256_dice_bce_0_4__0_4_1/split_2/train/mask/_26_training_7.png (deflated 13%)\n",
            "  adding: drive_256_256_dice_bce_0_4__0_4_1/split_2/train/mask/_21_training_4.png (deflated 7%)\n",
            "  adding: drive_256_256_dice_bce_0_4__0_4_1/split_2/train/mask/_40_training_2.png (deflated 29%)\n",
            "  adding: drive_256_256_dice_bce_0_4__0_4_1/split_2/train/mask/_24_training_7.png (deflated 14%)\n",
            "  adding: drive_256_256_dice_bce_0_4__0_4_1/split_2/train/mask/_32_training_3.png (deflated 10%)\n",
            "  adding: drive_256_256_dice_bce_0_4__0_4_1/split_2/train/mask/_38_training_0.png (deflated 35%)\n",
            "  adding: drive_256_256_dice_bce_0_4__0_4_1/split_2/train/mask/_37_training_8.png (deflated 31%)\n",
            "  adding: drive_256_256_dice_bce_0_4__0_4_1/split_2/train/mask/_32_training_1.png (deflated 14%)\n",
            "  adding: drive_256_256_dice_bce_0_4__0_4_1/split_2/train/mask/_21_training_0.png (deflated 35%)\n",
            "  adding: drive_256_256_dice_bce_0_4__0_4_1/split_2/train/mask/_40_training_5.png (deflated 12%)\n",
            "  adding: drive_256_256_dice_bce_0_4__0_4_1/split_2/train/mask/_27_training_5.png (deflated 11%)\n",
            "  adding: drive_256_256_dice_bce_0_4__0_4_1/split_2/train/mask/_30_training_4.png (deflated 10%)\n",
            "  adding: drive_256_256_dice_bce_0_4__0_4_1/split_2/train/mask/_24_training_8.png (deflated 27%)\n",
            "  adding: drive_256_256_dice_bce_0_4__0_4_1/split_2/train/mask/_35_training_3.png (deflated 11%)\n",
            "  adding: drive_256_256_dice_bce_0_4__0_4_1/split_2/train/mask/_21_training_1.png (deflated 16%)\n",
            "  adding: drive_256_256_dice_bce_0_4__0_4_1/split_2/train/mask/_26_training_1.png (deflated 15%)\n",
            "  adding: drive_256_256_dice_bce_0_4__0_4_1/split_2/train/mask/_33_training_8.png (deflated 33%)\n",
            "  adding: drive_256_256_dice_bce_0_4__0_4_1/split_2/train/mask/_27_training_0.png (deflated 38%)\n",
            "  adding: drive_256_256_dice_bce_0_4__0_4_1/split_2/train/mask/_30_training_0.png (deflated 50%)\n",
            "  adding: drive_256_256_dice_bce_0_4__0_4_1/split_2/train/mask/_25_training_7.png (deflated 15%)\n",
            "  adding: drive_256_256_dice_bce_0_4__0_4_1/split_2/train/mask/_28_training_8.png (deflated 23%)\n",
            "  adding: drive_256_256_dice_bce_0_4__0_4_1/split_2/train/mask/_40_training_4.png (deflated 12%)\n",
            "  adding: drive_256_256_dice_bce_0_4__0_4_1/split_2/train/mask/_25_training_6.png (deflated 27%)\n",
            "  adding: drive_256_256_dice_bce_0_4__0_4_1/split_2/train/mask/_32_training_2.png (deflated 37%)\n",
            "  adding: drive_256_256_dice_bce_0_4__0_4_1/split_2/train/mask/_32_training_7.png (deflated 13%)\n",
            "  adding: drive_256_256_dice_bce_0_4__0_4_1/split_2/train/mask/_30_training_8.png (deflated 36%)\n",
            "  adding: drive_256_256_dice_bce_0_4__0_4_1/split_2/train/mask/_31_training_8.png (deflated 46%)\n",
            "  adding: drive_256_256_dice_bce_0_4__0_4_1/split_2/train/mask/_26_training_2.png (deflated 25%)\n",
            "  adding: drive_256_256_dice_bce_0_4__0_4_1/split_2/train/mask/_23_training_7.png (deflated 20%)\n",
            "  adding: drive_256_256_dice_bce_0_4__0_4_1/split_2/train/mask/_28_training_1.png (deflated 15%)\n",
            "  adding: drive_256_256_dice_bce_0_4__0_4_1/split_2/train/mask/_27_training_7.png (deflated 14%)\n",
            "  adding: drive_256_256_dice_bce_0_4__0_4_1/split_2/train/mask/_38_training_2.png (deflated 29%)\n",
            "  adding: drive_256_256_dice_bce_0_4__0_4_1/split_2/train/mask/_28_training_5.png (deflated 12%)\n",
            "  adding: drive_256_256_dice_bce_0_4__0_4_1/split_2/train/mask/_32_training_5.png (deflated 13%)\n",
            "  adding: drive_256_256_dice_bce_0_4__0_4_1/split_2/train/mask/_26_training_0.png (deflated 23%)\n",
            "  adding: drive_256_256_dice_bce_0_4__0_4_1/split_2/train/mask/_37_training_0.png (deflated 32%)\n",
            "  adding: drive_256_256_dice_bce_0_4__0_4_1/split_2/train/mask/_34_training_5.png (deflated 10%)\n",
            "  adding: drive_256_256_dice_bce_0_4__0_4_1/split_2/train/mask/_35_training_6.png (deflated 28%)\n",
            "  adding: drive_256_256_dice_bce_0_4__0_4_1/split_2/train/mask/_40_training_7.png (deflated 13%)\n",
            "  adding: drive_256_256_dice_bce_0_4__0_4_1/split_2/train/mask/_27_training_1.png (deflated 14%)\n",
            "  adding: drive_256_256_dice_bce_0_4__0_4_1/split_2/train/mask/_26_training_3.png (deflated 10%)\n",
            "  adding: drive_256_256_dice_bce_0_4__0_4_1/split_2/train/mask/_21_training_7.png (deflated 14%)\n",
            "  adding: drive_256_256_dice_bce_0_4__0_4_1/split_2/train/mask/_37_training_3.png (deflated 7%)\n",
            "  adding: drive_256_256_dice_bce_0_4__0_4_1/split_2/train/mask/_24_training_5.png (deflated 13%)\n",
            "  adding: drive_256_256_dice_bce_0_4__0_4_1/split_2/train/mask/_36_training_3.png (deflated 8%)\n",
            "  adding: drive_256_256_dice_bce_0_4__0_4_1/split_2/train/mask/_40_training_8.png (deflated 22%)\n",
            "  adding: drive_256_256_dice_bce_0_4__0_4_1/split_2/train/mask/_35_training_8.png (deflated 34%)\n",
            "  adding: drive_256_256_dice_bce_0_4__0_4_1/split_2/train/mask/_34_training_8.png (deflated 26%)\n",
            "  adding: drive_256_256_dice_bce_0_4__0_4_1/split_2/train/mask/_26_training_6.png (deflated 28%)\n",
            "  adding: drive_256_256_dice_bce_0_4__0_4_1/split_2/train/mask/_22_training_3.png (deflated 8%)\n",
            "  adding: drive_256_256_dice_bce_0_4__0_4_1/split_2/train/mask/_38_training_6.png (deflated 31%)\n",
            "  adding: drive_256_256_dice_bce_0_4__0_4_1/split_2/train/mask/_35_training_2.png (deflated 33%)\n",
            "  adding: drive_256_256_dice_bce_0_4__0_4_1/split_2/train/mask/_25_training_4.png (deflated 9%)\n",
            "  adding: drive_256_256_dice_bce_0_4__0_4_1/split_2/train/mask/_37_training_6.png (deflated 27%)\n",
            "  adding: drive_256_256_dice_bce_0_4__0_4_1/split_2/train/mask/_30_training_3.png (deflated 8%)\n",
            "  adding: drive_256_256_dice_bce_0_4__0_4_1/split_2/train/mask/_22_training_6.png (deflated 27%)\n",
            "  adding: drive_256_256_dice_bce_0_4__0_4_1/split_2/train/mask/_37_training_1.png (deflated 15%)\n",
            "  adding: drive_256_256_dice_bce_0_4__0_4_1/split_2/train/mask/_21_training_2.png (deflated 33%)\n",
            "  adding: drive_256_256_dice_bce_0_4__0_4_1/split_2/train/mask/_39_training_8.png (deflated 28%)\n",
            "  adding: drive_256_256_dice_bce_0_4__0_4_1/split_2/train/mask/_28_training_2.png (deflated 41%)\n",
            "  adding: drive_256_256_dice_bce_0_4__0_4_1/split_2/train/mask/_21_training_8.png (deflated 29%)\n",
            "  adding: drive_256_256_dice_bce_0_4__0_4_1/split_2/train/mask/_29_training_3.png (deflated 10%)\n",
            "  adding: drive_256_256_dice_bce_0_4__0_4_1/split_2/train/mask/_39_training_3.png (deflated 12%)\n",
            "  adding: drive_256_256_dice_bce_0_4__0_4_1/split_2/train/mask/_34_training_6.png (deflated 44%)\n",
            "  adding: drive_256_256_dice_bce_0_4__0_4_1/split_2/train/mask/_32_training_6.png (deflated 27%)\n",
            "  adding: drive_256_256_dice_bce_0_4__0_4_1/split_2/train/mask/_23_training_5.png (deflated 8%)\n",
            "  adding: drive_256_256_dice_bce_0_4__0_4_1/split_2/train/mask/_33_training_0.png (deflated 41%)\n",
            "  adding: drive_256_256_dice_bce_0_4__0_4_1/split_2/train/mask/_37_training_2.png (deflated 27%)\n",
            "  adding: drive_256_256_dice_bce_0_4__0_4_1/split_2/train/mask/_37_training_7.png (deflated 14%)\n",
            "  adding: drive_256_256_dice_bce_0_4__0_4_1/split_2/train/mask/_36_training_4.png (deflated 13%)\n",
            "  adding: drive_256_256_dice_bce_0_4__0_4_1/split_2/train/mask/_25_training_0.png (deflated 28%)\n",
            "  adding: drive_256_256_dice_bce_0_4__0_4_1/split_2/train/mask/_33_training_7.png (deflated 14%)\n",
            "  adding: drive_256_256_dice_bce_0_4__0_4_1/split_2/train/mask/_25_training_5.png (deflated 11%)\n",
            "  adding: drive_256_256_dice_bce_0_4__0_4_1/split_2/train/mask/_23_training_3.png (deflated 12%)\n",
            "  adding: drive_256_256_dice_bce_0_4__0_4_1/split_2/train/mask/_31_training_4.png (deflated 11%)\n",
            "  adding: drive_256_256_dice_bce_0_4__0_4_1/split_2/train/mask/_29_training_7.png (deflated 14%)\n",
            "  adding: drive_256_256_dice_bce_0_4__0_4_1/split_2/train/mask/_38_training_4.png (deflated 13%)\n",
            "  adding: drive_256_256_dice_bce_0_4__0_4_1/split_2/train/mask/_39_training_1.png (deflated 16%)\n",
            "  adding: drive_256_256_dice_bce_0_4__0_4_1/split_2/train/mask/_27_training_3.png (deflated 8%)\n",
            "  adding: drive_256_256_dice_bce_0_4__0_4_1/split_2/train/mask/_34_training_2.png (deflated 30%)\n",
            "  adding: drive_256_256_dice_bce_0_4__0_4_1/split_2/train/mask/_39_training_7.png (deflated 16%)\n",
            "  adding: drive_256_256_dice_bce_0_4__0_4_1/split_2/train/mask/_28_training_6.png (deflated 22%)\n",
            "  adding: drive_256_256_dice_bce_0_4__0_4_1/split_2/train/mask/_30_training_1.png (deflated 14%)\n",
            "  adding: drive_256_256_dice_bce_0_4__0_4_1/split_2/train/mask/_27_training_6.png (deflated 35%)\n",
            "  adding: drive_256_256_dice_bce_0_4__0_4_1/split_2/train/image/ (stored 0%)\n",
            "  adding: drive_256_256_dice_bce_0_4__0_4_1/split_2/train/image/_23_training_2.png (deflated 5%)\n",
            "  adding: drive_256_256_dice_bce_0_4__0_4_1/split_2/train/image/_24_training_4.png (deflated 3%)\n",
            "  adding: drive_256_256_dice_bce_0_4__0_4_1/split_2/train/image/_25_training_2.png (deflated 6%)\n",
            "  adding: drive_256_256_dice_bce_0_4__0_4_1/split_2/train/image/_31_training_2.png (deflated 4%)\n",
            "  adding: drive_256_256_dice_bce_0_4__0_4_1/split_2/train/image/_24_training_2.png (deflated 5%)\n",
            "  adding: drive_256_256_dice_bce_0_4__0_4_1/split_2/train/image/_31_training_7.png (deflated 1%)\n",
            "  adding: drive_256_256_dice_bce_0_4__0_4_1/split_2/train/image/_26_training_5.png (deflated 3%)\n",
            "  adding: drive_256_256_dice_bce_0_4__0_4_1/split_2/train/image/_36_training_6.png (deflated 5%)\n",
            "  adding: drive_256_256_dice_bce_0_4__0_4_1/split_2/train/image/_23_training_0.png (deflated 5%)\n",
            "  adding: drive_256_256_dice_bce_0_4__0_4_1/split_2/train/image/_28_training_7.png (deflated 2%)\n",
            "  adding: drive_256_256_dice_bce_0_4__0_4_1/split_2/train/image/_24_training_6.png (deflated 5%)\n",
            "  adding: drive_256_256_dice_bce_0_4__0_4_1/split_2/train/image/_31_training_0.png (deflated 5%)\n",
            "  adding: drive_256_256_dice_bce_0_4__0_4_1/split_2/train/image/_36_training_1.png (deflated 2%)\n",
            "  adding: drive_256_256_dice_bce_0_4__0_4_1/split_2/train/image/_26_training_8.png (deflated 5%)\n",
            "  adding: drive_256_256_dice_bce_0_4__0_4_1/split_2/train/image/_21_training_5.png (deflated 3%)\n",
            "  adding: drive_256_256_dice_bce_0_4__0_4_1/split_2/train/image/_30_training_5.png (deflated 2%)\n",
            "  adding: drive_256_256_dice_bce_0_4__0_4_1/split_2/train/image/_40_training_3.png (deflated 2%)\n",
            "  adding: drive_256_256_dice_bce_0_4__0_4_1/split_2/train/image/_34_training_3.png (deflated 1%)\n",
            "  adding: drive_256_256_dice_bce_0_4__0_4_1/split_2/train/image/_35_training_0.png (deflated 5%)\n",
            "  adding: drive_256_256_dice_bce_0_4__0_4_1/split_2/train/image/_38_training_1.png (deflated 3%)\n",
            "  adding: drive_256_256_dice_bce_0_4__0_4_1/split_2/train/image/_26_training_4.png (deflated 3%)\n",
            "  adding: drive_256_256_dice_bce_0_4__0_4_1/split_2/train/image/_28_training_0.png (deflated 6%)\n",
            "  adding: drive_256_256_dice_bce_0_4__0_4_1/split_2/train/image/_29_training_4.png (deflated 2%)\n",
            "  adding: drive_256_256_dice_bce_0_4__0_4_1/split_2/train/image/_32_training_0.png (deflated 5%)\n",
            "  adding: drive_256_256_dice_bce_0_4__0_4_1/split_2/train/image/_39_training_0.png (deflated 5%)\n",
            "  adding: drive_256_256_dice_bce_0_4__0_4_1/split_2/train/image/_39_training_5.png (deflated 3%)\n",
            "  adding: drive_256_256_dice_bce_0_4__0_4_1/split_2/train/image/_37_training_5.png (deflated 2%)\n",
            "  adding: drive_256_256_dice_bce_0_4__0_4_1/split_2/train/image/_34_training_0.png (deflated 5%)\n",
            "  adding: drive_256_256_dice_bce_0_4__0_4_1/split_2/train/image/_36_training_0.png (deflated 5%)\n",
            "  adding: drive_256_256_dice_bce_0_4__0_4_1/split_2/train/image/_37_training_4.png (deflated 2%)\n",
            "  adding: drive_256_256_dice_bce_0_4__0_4_1/split_2/train/image/_39_training_6.png (deflated 5%)\n",
            "  adding: drive_256_256_dice_bce_0_4__0_4_1/split_2/train/image/_22_training_2.png (deflated 5%)\n",
            "  adding: drive_256_256_dice_bce_0_4__0_4_1/split_2/train/image/_34_training_7.png (deflated 2%)\n",
            "  adding: drive_256_256_dice_bce_0_4__0_4_1/split_2/train/image/_38_training_3.png (deflated 3%)\n",
            "  adding: drive_256_256_dice_bce_0_4__0_4_1/split_2/train/image/_32_training_4.png (deflated 2%)\n",
            "  adding: drive_256_256_dice_bce_0_4__0_4_1/split_2/train/image/_33_training_1.png (deflated 2%)\n",
            "  adding: drive_256_256_dice_bce_0_4__0_4_1/split_2/train/image/_38_training_8.png (deflated 5%)\n",
            "  adding: drive_256_256_dice_bce_0_4__0_4_1/split_2/train/image/_24_training_0.png (deflated 5%)\n",
            "  adding: drive_256_256_dice_bce_0_4__0_4_1/split_2/train/image/_33_training_2.png (deflated 5%)\n",
            "  adding: drive_256_256_dice_bce_0_4__0_4_1/split_2/train/image/_27_training_8.png (deflated 5%)\n",
            "  adding: drive_256_256_dice_bce_0_4__0_4_1/split_2/train/image/_25_training_8.png (deflated 5%)\n",
            "  adding: drive_256_256_dice_bce_0_4__0_4_1/split_2/train/image/_24_training_1.png (deflated 2%)\n",
            "  adding: drive_256_256_dice_bce_0_4__0_4_1/split_2/train/image/_32_training_8.png (deflated 5%)\n",
            "  adding: drive_256_256_dice_bce_0_4__0_4_1/split_2/train/image/_29_training_2.png (deflated 6%)\n",
            "  adding: drive_256_256_dice_bce_0_4__0_4_1/split_2/train/image/_29_training_5.png (deflated 1%)\n",
            "  adding: drive_256_256_dice_bce_0_4__0_4_1/split_2/train/image/_25_training_3.png (deflated 2%)\n",
            "  adding: drive_256_256_dice_bce_0_4__0_4_1/split_2/train/image/_36_training_5.png (deflated 2%)\n",
            "  adding: drive_256_256_dice_bce_0_4__0_4_1/split_2/train/image/_23_training_8.png (deflated 4%)\n",
            "  adding: drive_256_256_dice_bce_0_4__0_4_1/split_2/train/image/_36_training_8.png (deflated 5%)\n",
            "  adding: drive_256_256_dice_bce_0_4__0_4_1/split_2/train/image/_39_training_4.png (deflated 2%)\n",
            "  adding: drive_256_256_dice_bce_0_4__0_4_1/split_2/train/image/_21_training_3.png (deflated 1%)\n",
            "  adding: drive_256_256_dice_bce_0_4__0_4_1/split_2/train/image/_24_training_3.png (deflated 2%)\n",
            "  adding: drive_256_256_dice_bce_0_4__0_4_1/split_2/train/image/_39_training_2.png (deflated 5%)\n",
            "  adding: drive_256_256_dice_bce_0_4__0_4_1/split_2/train/image/_22_training_4.png (deflated 1%)\n",
            "  adding: drive_256_256_dice_bce_0_4__0_4_1/split_2/train/image/_29_training_0.png (deflated 6%)\n",
            "  adding: drive_256_256_dice_bce_0_4__0_4_1/split_2/train/image/_30_training_6.png (deflated 5%)\n",
            "  adding: drive_256_256_dice_bce_0_4__0_4_1/split_2/train/image/_35_training_1.png (deflated 2%)\n",
            "  adding: drive_256_256_dice_bce_0_4__0_4_1/split_2/train/image/_40_training_6.png (deflated 5%)\n",
            "  adding: drive_256_256_dice_bce_0_4__0_4_1/split_2/train/image/_31_training_3.png (deflated 2%)\n",
            "  adding: drive_256_256_dice_bce_0_4__0_4_1/split_2/train/image/_23_training_1.png (deflated 2%)\n",
            "  adding: drive_256_256_dice_bce_0_4__0_4_1/split_2/train/image/_25_training_1.png (deflated 3%)\n",
            "  adding: drive_256_256_dice_bce_0_4__0_4_1/split_2/train/image/_29_training_8.png (deflated 5%)\n",
            "  adding: drive_256_256_dice_bce_0_4__0_4_1/split_2/train/image/_31_training_6.png (deflated 4%)\n",
            "  adding: drive_256_256_dice_bce_0_4__0_4_1/split_2/train/image/_23_training_4.png (deflated 3%)\n",
            "  adding: drive_256_256_dice_bce_0_4__0_4_1/split_2/train/image/_38_training_5.png (deflated 1%)\n",
            "  adding: drive_256_256_dice_bce_0_4__0_4_1/split_2/train/image/_33_training_5.png (deflated 1%)\n",
            "  adding: drive_256_256_dice_bce_0_4__0_4_1/split_2/train/image/_38_training_7.png (deflated 2%)\n",
            "  adding: drive_256_256_dice_bce_0_4__0_4_1/split_2/train/image/_36_training_7.png (deflated 2%)\n",
            "  adding: drive_256_256_dice_bce_0_4__0_4_1/split_2/train/image/_28_training_3.png (deflated 3%)\n",
            "  adding: drive_256_256_dice_bce_0_4__0_4_1/split_2/train/image/_34_training_1.png (deflated 2%)\n",
            "  adding: drive_256_256_dice_bce_0_4__0_4_1/split_2/train/image/_29_training_6.png (deflated 5%)\n",
            "  adding: drive_256_256_dice_bce_0_4__0_4_1/split_2/train/image/_23_training_6.png (deflated 5%)\n",
            "  adding: drive_256_256_dice_bce_0_4__0_4_1/split_2/train/image/_33_training_6.png (deflated 5%)\n",
            "  adding: drive_256_256_dice_bce_0_4__0_4_1/split_2/train/image/_27_training_2.png (deflated 6%)\n",
            "  adding: drive_256_256_dice_bce_0_4__0_4_1/split_2/train/image/_40_training_0.png (deflated 5%)\n",
            "  adding: drive_256_256_dice_bce_0_4__0_4_1/split_2/train/image/_22_training_5.png (deflated 1%)\n",
            "  adding: drive_256_256_dice_bce_0_4__0_4_1/split_2/train/image/_35_training_7.png (deflated 2%)\n",
            "  adding: drive_256_256_dice_bce_0_4__0_4_1/split_2/train/image/_31_training_5.png (deflated 1%)\n",
            "  adding: drive_256_256_dice_bce_0_4__0_4_1/split_2/train/image/_31_training_1.png (deflated 2%)\n",
            "  adding: drive_256_256_dice_bce_0_4__0_4_1/split_2/train/image/_36_training_2.png (deflated 5%)\n",
            "  adding: drive_256_256_dice_bce_0_4__0_4_1/split_2/train/image/_33_training_3.png (deflated 2%)\n",
            "  adding: drive_256_256_dice_bce_0_4__0_4_1/split_2/train/image/_22_training_1.png (deflated 3%)\n",
            "  adding: drive_256_256_dice_bce_0_4__0_4_1/split_2/train/image/_27_training_4.png (deflated 1%)\n",
            "  adding: drive_256_256_dice_bce_0_4__0_4_1/split_2/train/image/_28_training_4.png (deflated 2%)\n",
            "  adding: drive_256_256_dice_bce_0_4__0_4_1/split_2/train/image/_30_training_7.png (deflated 2%)\n",
            "  adding: drive_256_256_dice_bce_0_4__0_4_1/split_2/train/image/_21_training_6.png (deflated 4%)\n",
            "  adding: drive_256_256_dice_bce_0_4__0_4_1/split_2/train/image/_40_training_1.png (deflated 3%)\n",
            "  adding: drive_256_256_dice_bce_0_4__0_4_1/split_2/train/image/_35_training_4.png (deflated 2%)\n",
            "  adding: drive_256_256_dice_bce_0_4__0_4_1/split_2/train/image/_30_training_2.png (deflated 6%)\n",
            "  adding: drive_256_256_dice_bce_0_4__0_4_1/split_2/train/image/_33_training_4.png (deflated 2%)\n",
            "  adding: drive_256_256_dice_bce_0_4__0_4_1/split_2/train/image/_34_training_4.png (deflated 0%)\n",
            "  adding: drive_256_256_dice_bce_0_4__0_4_1/split_2/train/image/_22_training_7.png (deflated 2%)\n",
            "  adding: drive_256_256_dice_bce_0_4__0_4_1/split_2/train/image/_35_training_5.png (deflated 3%)\n",
            "  adding: drive_256_256_dice_bce_0_4__0_4_1/split_2/train/image/_29_training_1.png (deflated 3%)\n",
            "  adding: drive_256_256_dice_bce_0_4__0_4_1/split_2/train/image/_22_training_0.png (deflated 5%)\n",
            "  adding: drive_256_256_dice_bce_0_4__0_4_1/split_2/train/image/_22_training_8.png (deflated 4%)\n",
            "  adding: drive_256_256_dice_bce_0_4__0_4_1/split_2/train/image/_26_training_7.png (deflated 2%)\n",
            "  adding: drive_256_256_dice_bce_0_4__0_4_1/split_2/train/image/_21_training_4.png (deflated 2%)\n",
            "  adding: drive_256_256_dice_bce_0_4__0_4_1/split_2/train/image/_40_training_2.png (deflated 5%)\n",
            "  adding: drive_256_256_dice_bce_0_4__0_4_1/split_2/train/image/_24_training_7.png (deflated 1%)\n",
            "  adding: drive_256_256_dice_bce_0_4__0_4_1/split_2/train/image/_32_training_3.png (deflated 2%)\n",
            "  adding: drive_256_256_dice_bce_0_4__0_4_1/split_2/train/image/_38_training_0.png (deflated 5%)\n",
            "  adding: drive_256_256_dice_bce_0_4__0_4_1/split_2/train/image/_37_training_8.png (deflated 5%)\n",
            "  adding: drive_256_256_dice_bce_0_4__0_4_1/split_2/train/image/_32_training_1.png (deflated 3%)\n",
            "  adding: drive_256_256_dice_bce_0_4__0_4_1/split_2/train/image/_21_training_0.png (deflated 4%)\n",
            "  adding: drive_256_256_dice_bce_0_4__0_4_1/split_2/train/image/_40_training_5.png (deflated 2%)\n",
            "  adding: drive_256_256_dice_bce_0_4__0_4_1/split_2/train/image/_27_training_5.png (deflated 1%)\n",
            "  adding: drive_256_256_dice_bce_0_4__0_4_1/split_2/train/image/_30_training_4.png (deflated 2%)\n",
            "  adding: drive_256_256_dice_bce_0_4__0_4_1/split_2/train/image/_24_training_8.png (deflated 4%)\n",
            "  adding: drive_256_256_dice_bce_0_4__0_4_1/split_2/train/image/_35_training_3.png (deflated 1%)\n",
            "  adding: drive_256_256_dice_bce_0_4__0_4_1/split_2/train/image/_21_training_1.png (deflated 2%)\n",
            "  adding: drive_256_256_dice_bce_0_4__0_4_1/split_2/train/image/_26_training_1.png (deflated 3%)\n",
            "  adding: drive_256_256_dice_bce_0_4__0_4_1/split_2/train/image/_33_training_8.png (deflated 4%)\n",
            "  adding: drive_256_256_dice_bce_0_4__0_4_1/split_2/train/image/_27_training_0.png (deflated 6%)\n",
            "  adding: drive_256_256_dice_bce_0_4__0_4_1/split_2/train/image/_30_training_0.png (deflated 6%)\n",
            "  adding: drive_256_256_dice_bce_0_4__0_4_1/split_2/train/image/_25_training_7.png (deflated 2%)\n",
            "  adding: drive_256_256_dice_bce_0_4__0_4_1/split_2/train/image/_28_training_8.png (deflated 4%)\n",
            "  adding: drive_256_256_dice_bce_0_4__0_4_1/split_2/train/image/_40_training_4.png (deflated 2%)\n",
            "  adding: drive_256_256_dice_bce_0_4__0_4_1/split_2/train/image/_25_training_6.png (deflated 5%)\n",
            "  adding: drive_256_256_dice_bce_0_4__0_4_1/split_2/train/image/_32_training_2.png (deflated 6%)\n",
            "  adding: drive_256_256_dice_bce_0_4__0_4_1/split_2/train/image/_32_training_7.png (deflated 2%)\n",
            "  adding: drive_256_256_dice_bce_0_4__0_4_1/split_2/train/image/_30_training_8.png (deflated 5%)\n",
            "  adding: drive_256_256_dice_bce_0_4__0_4_1/split_2/train/image/_31_training_8.png (deflated 4%)\n",
            "  adding: drive_256_256_dice_bce_0_4__0_4_1/split_2/train/image/_26_training_2.png (deflated 6%)\n",
            "  adding: drive_256_256_dice_bce_0_4__0_4_1/split_2/train/image/_23_training_7.png (deflated 1%)\n",
            "  adding: drive_256_256_dice_bce_0_4__0_4_1/split_2/train/image/_28_training_1.png (deflated 2%)\n",
            "  adding: drive_256_256_dice_bce_0_4__0_4_1/split_2/train/image/_27_training_7.png (deflated 1%)\n",
            "  adding: drive_256_256_dice_bce_0_4__0_4_1/split_2/train/image/_38_training_2.png (deflated 5%)\n",
            "  adding: drive_256_256_dice_bce_0_4__0_4_1/split_2/train/image/_28_training_5.png (deflated 1%)\n",
            "  adding: drive_256_256_dice_bce_0_4__0_4_1/split_2/train/image/_32_training_5.png (deflated 1%)\n",
            "  adding: drive_256_256_dice_bce_0_4__0_4_1/split_2/train/image/_26_training_0.png (deflated 5%)\n",
            "  adding: drive_256_256_dice_bce_0_4__0_4_1/split_2/train/image/_37_training_0.png (deflated 5%)\n",
            "  adding: drive_256_256_dice_bce_0_4__0_4_1/split_2/train/image/_34_training_5.png (deflated 2%)\n",
            "  adding: drive_256_256_dice_bce_0_4__0_4_1/split_2/train/image/_35_training_6.png (deflated 4%)\n",
            "  adding: drive_256_256_dice_bce_0_4__0_4_1/split_2/train/image/_40_training_7.png (deflated 3%)\n",
            "  adding: drive_256_256_dice_bce_0_4__0_4_1/split_2/train/image/_27_training_1.png (deflated 3%)\n",
            "  adding: drive_256_256_dice_bce_0_4__0_4_1/split_2/train/image/_26_training_3.png (deflated 1%)\n",
            "  adding: drive_256_256_dice_bce_0_4__0_4_1/split_2/train/image/_21_training_7.png (deflated 2%)\n",
            "  adding: drive_256_256_dice_bce_0_4__0_4_1/split_2/train/image/_37_training_3.png (deflated 2%)\n",
            "  adding: drive_256_256_dice_bce_0_4__0_4_1/split_2/train/image/_24_training_5.png (deflated 1%)\n",
            "  adding: drive_256_256_dice_bce_0_4__0_4_1/split_2/train/image/_36_training_3.png (deflated 2%)\n",
            "  adding: drive_256_256_dice_bce_0_4__0_4_1/split_2/train/image/_40_training_8.png (deflated 5%)\n",
            "  adding: drive_256_256_dice_bce_0_4__0_4_1/split_2/train/image/_35_training_8.png (deflated 5%)\n",
            "  adding: drive_256_256_dice_bce_0_4__0_4_1/split_2/train/image/_34_training_8.png (deflated 5%)\n",
            "  adding: drive_256_256_dice_bce_0_4__0_4_1/split_2/train/image/_26_training_6.png (deflated 5%)\n",
            "  adding: drive_256_256_dice_bce_0_4__0_4_1/split_2/train/image/_22_training_3.png (deflated 2%)\n",
            "  adding: drive_256_256_dice_bce_0_4__0_4_1/split_2/train/image/_38_training_6.png (deflated 5%)\n",
            "  adding: drive_256_256_dice_bce_0_4__0_4_1/split_2/train/image/_35_training_2.png (deflated 6%)\n",
            "  adding: drive_256_256_dice_bce_0_4__0_4_1/split_2/train/image/_25_training_4.png (deflated 2%)\n",
            "  adding: drive_256_256_dice_bce_0_4__0_4_1/split_2/train/image/_37_training_6.png (deflated 4%)\n",
            "  adding: drive_256_256_dice_bce_0_4__0_4_1/split_2/train/image/_30_training_3.png (deflated 2%)\n",
            "  adding: drive_256_256_dice_bce_0_4__0_4_1/split_2/train/image/_22_training_6.png (deflated 5%)\n",
            "  adding: drive_256_256_dice_bce_0_4__0_4_1/split_2/train/image/_37_training_1.png (deflated 2%)\n",
            "  adding: drive_256_256_dice_bce_0_4__0_4_1/split_2/train/image/_21_training_2.png (deflated 5%)\n",
            "  adding: drive_256_256_dice_bce_0_4__0_4_1/split_2/train/image/_39_training_8.png (deflated 5%)\n",
            "  adding: drive_256_256_dice_bce_0_4__0_4_1/split_2/train/image/_28_training_2.png (deflated 5%)\n",
            "  adding: drive_256_256_dice_bce_0_4__0_4_1/split_2/train/image/_21_training_8.png (deflated 5%)\n",
            "  adding: drive_256_256_dice_bce_0_4__0_4_1/split_2/train/image/_29_training_3.png (deflated 3%)\n",
            "  adding: drive_256_256_dice_bce_0_4__0_4_1/split_2/train/image/_39_training_3.png (deflated 1%)\n",
            "  adding: drive_256_256_dice_bce_0_4__0_4_1/split_2/train/image/_34_training_6.png (deflated 5%)\n",
            "  adding: drive_256_256_dice_bce_0_4__0_4_1/split_2/train/image/_32_training_6.png (deflated 4%)\n",
            "  adding: drive_256_256_dice_bce_0_4__0_4_1/split_2/train/image/_23_training_5.png (deflated 1%)\n",
            "  adding: drive_256_256_dice_bce_0_4__0_4_1/split_2/train/image/_33_training_0.png (deflated 5%)\n",
            "  adding: drive_256_256_dice_bce_0_4__0_4_1/split_2/train/image/_37_training_2.png (deflated 6%)\n",
            "  adding: drive_256_256_dice_bce_0_4__0_4_1/split_2/train/image/_37_training_7.png (deflated 2%)\n",
            "  adding: drive_256_256_dice_bce_0_4__0_4_1/split_2/train/image/_36_training_4.png (deflated 2%)\n",
            "  adding: drive_256_256_dice_bce_0_4__0_4_1/split_2/train/image/_25_training_0.png (deflated 6%)\n",
            "  adding: drive_256_256_dice_bce_0_4__0_4_1/split_2/train/image/_33_training_7.png (deflated 2%)\n",
            "  adding: drive_256_256_dice_bce_0_4__0_4_1/split_2/train/image/_25_training_5.png (deflated 1%)\n",
            "  adding: drive_256_256_dice_bce_0_4__0_4_1/split_2/train/image/_23_training_3.png (deflated 3%)\n",
            "  adding: drive_256_256_dice_bce_0_4__0_4_1/split_2/train/image/_31_training_4.png (deflated 0%)\n",
            "  adding: drive_256_256_dice_bce_0_4__0_4_1/split_2/train/image/_29_training_7.png (deflated 3%)\n",
            "  adding: drive_256_256_dice_bce_0_4__0_4_1/split_2/train/image/_38_training_4.png (deflated 2%)\n",
            "  adding: drive_256_256_dice_bce_0_4__0_4_1/split_2/train/image/_39_training_1.png (deflated 2%)\n",
            "  adding: drive_256_256_dice_bce_0_4__0_4_1/split_2/train/image/_27_training_3.png (deflated 2%)\n",
            "  adding: drive_256_256_dice_bce_0_4__0_4_1/split_2/train/image/_34_training_2.png (deflated 6%)\n",
            "  adding: drive_256_256_dice_bce_0_4__0_4_1/split_2/train/image/_39_training_7.png (deflated 2%)\n",
            "  adding: drive_256_256_dice_bce_0_4__0_4_1/split_2/train/image/_28_training_6.png (deflated 5%)\n",
            "  adding: drive_256_256_dice_bce_0_4__0_4_1/split_2/train/image/_30_training_1.png (deflated 2%)\n",
            "  adding: drive_256_256_dice_bce_0_4__0_4_1/split_2/train/image/_27_training_6.png (deflated 4%)\n",
            "  adding: drive_256_256_dice_bce_0_4__0_4_1/results_reconstructed/ (stored 0%)\n",
            "  adding: drive_256_256_dice_bce_0_4__0_4_1/test/ (stored 0%)\n",
            "  adding: drive_256_256_dice_bce_0_4__0_4_1/test/1st_manual/ (stored 0%)\n",
            "  adding: drive_256_256_dice_bce_0_4__0_4_1/test/1st_manual/15_manual1.gif (stored 0%)\n",
            "  adding: drive_256_256_dice_bce_0_4__0_4_1/test/1st_manual/03_manual1.gif (stored 0%)\n",
            "  adding: drive_256_256_dice_bce_0_4__0_4_1/test/1st_manual/08_manual1.gif (stored 0%)\n",
            "  adding: drive_256_256_dice_bce_0_4__0_4_1/test/1st_manual/01_manual1.gif (stored 0%)\n",
            "  adding: drive_256_256_dice_bce_0_4__0_4_1/test/1st_manual/06_manual1.gif (stored 0%)\n",
            "  adding: drive_256_256_dice_bce_0_4__0_4_1/test/1st_manual/05_manual1.gif (stored 0%)\n",
            "  adding: drive_256_256_dice_bce_0_4__0_4_1/test/1st_manual/19_manual1.gif (stored 0%)\n",
            "  adding: drive_256_256_dice_bce_0_4__0_4_1/test/1st_manual/10_manual1.gif (stored 0%)\n",
            "  adding: drive_256_256_dice_bce_0_4__0_4_1/test/1st_manual/02_manual1.gif (stored 0%)\n",
            "  adding: drive_256_256_dice_bce_0_4__0_4_1/test/1st_manual/20_manual1.gif (stored 0%)\n",
            "  adding: drive_256_256_dice_bce_0_4__0_4_1/test/1st_manual/04_manual1.gif (stored 0%)\n",
            "  adding: drive_256_256_dice_bce_0_4__0_4_1/test/1st_manual/13_manual1.gif (stored 0%)\n",
            "  adding: drive_256_256_dice_bce_0_4__0_4_1/test/1st_manual/07_manual1.gif (stored 0%)\n",
            "  adding: drive_256_256_dice_bce_0_4__0_4_1/test/1st_manual/12_manual1.gif (stored 0%)\n",
            "  adding: drive_256_256_dice_bce_0_4__0_4_1/test/1st_manual/18_manual1.gif (stored 0%)\n",
            "  adding: drive_256_256_dice_bce_0_4__0_4_1/test/1st_manual/14_manual1.gif (stored 0%)\n",
            "  adding: drive_256_256_dice_bce_0_4__0_4_1/test/1st_manual/17_manual1.gif (stored 0%)\n",
            "  adding: drive_256_256_dice_bce_0_4__0_4_1/test/1st_manual/16_manual1.gif (stored 0%)\n",
            "  adding: drive_256_256_dice_bce_0_4__0_4_1/test/1st_manual/11_manual1.gif (stored 0%)\n",
            "  adding: drive_256_256_dice_bce_0_4__0_4_1/test/1st_manual/09_manual1.gif (stored 0%)\n",
            "  adding: drive_256_256_dice_bce_0_4__0_4_1/test/images/ (stored 0%)\n",
            "  adding: drive_256_256_dice_bce_0_4__0_4_1/test/images/11_test.tif (deflated 2%)\n",
            "  adding: drive_256_256_dice_bce_0_4__0_4_1/test/images/20_test.tif (deflated 2%)\n",
            "  adding: drive_256_256_dice_bce_0_4__0_4_1/test/images/06_test.tif (deflated 2%)\n",
            "  adding: drive_256_256_dice_bce_0_4__0_4_1/test/images/13_test.tif (deflated 2%)\n",
            "  adding: drive_256_256_dice_bce_0_4__0_4_1/test/images/17_test.tif (deflated 2%)\n",
            "  adding: drive_256_256_dice_bce_0_4__0_4_1/test/images/09_test.tif (deflated 2%)\n",
            "  adding: drive_256_256_dice_bce_0_4__0_4_1/test/images/02_test.tif (deflated 2%)\n",
            "  adding: drive_256_256_dice_bce_0_4__0_4_1/test/images/07_test.tif (deflated 3%)\n",
            "  adding: drive_256_256_dice_bce_0_4__0_4_1/test/images/19_test.tif (deflated 3%)\n",
            "  adding: drive_256_256_dice_bce_0_4__0_4_1/test/images/08_test.tif (deflated 2%)\n",
            "  adding: drive_256_256_dice_bce_0_4__0_4_1/test/images/01_test.tif (deflated 2%)\n",
            "  adding: drive_256_256_dice_bce_0_4__0_4_1/test/images/05_test.tif (deflated 2%)\n",
            "  adding: drive_256_256_dice_bce_0_4__0_4_1/test/images/18_test.tif (deflated 2%)\n",
            "  adding: drive_256_256_dice_bce_0_4__0_4_1/test/images/10_test.tif (deflated 3%)\n",
            "  adding: drive_256_256_dice_bce_0_4__0_4_1/test/images/04_test.tif (deflated 3%)\n",
            "  adding: drive_256_256_dice_bce_0_4__0_4_1/test/images/03_test.tif (deflated 3%)\n",
            "  adding: drive_256_256_dice_bce_0_4__0_4_1/test/images/15_test.tif (deflated 3%)\n",
            "  adding: drive_256_256_dice_bce_0_4__0_4_1/test/images/12_test.tif (deflated 2%)\n",
            "  adding: drive_256_256_dice_bce_0_4__0_4_1/test/images/14_test.tif (deflated 2%)\n",
            "  adding: drive_256_256_dice_bce_0_4__0_4_1/test/images/16_test.tif (deflated 2%)\n",
            "  adding: drive_256_256_dice_bce_0_4__0_4_1/results/ (stored 0%)\n",
            "  adding: drive_256_256_dice_bce_0_4__0_4_1/results/_09_test_2.png (deflated 13%)\n",
            "  adding: drive_256_256_dice_bce_0_4__0_4_1/results/_06_test_2.png (deflated 13%)\n",
            "  adding: drive_256_256_dice_bce_0_4__0_4_1/results/_07_test_5.png (deflated 6%)\n",
            "  adding: drive_256_256_dice_bce_0_4__0_4_1/results/_10_test_4.png (deflated 6%)\n",
            "  adding: drive_256_256_dice_bce_0_4__0_4_1/results/_03_test_6.png (deflated 17%)\n",
            "  adding: drive_256_256_dice_bce_0_4__0_4_1/results/_15_test_0.png (deflated 12%)\n",
            "  adding: drive_256_256_dice_bce_0_4__0_4_1/results/_03_test_2.png (deflated 18%)\n",
            "  adding: drive_256_256_dice_bce_0_4__0_4_1/results/_16_test_7.png (deflated 6%)\n",
            "  adding: drive_256_256_dice_bce_0_4__0_4_1/results/_11_test_8.png (deflated 11%)\n",
            "  adding: drive_256_256_dice_bce_0_4__0_4_1/results/_11_test_5.png (deflated 7%)\n",
            "  adding: drive_256_256_dice_bce_0_4__0_4_1/results/_10_test_5.png (deflated 7%)\n",
            "  adding: drive_256_256_dice_bce_0_4__0_4_1/results/_06_test_8.png (deflated 11%)\n",
            "  adding: drive_256_256_dice_bce_0_4__0_4_1/results/_02_test_7.png (deflated 6%)\n",
            "  adding: drive_256_256_dice_bce_0_4__0_4_1/results/_14_test_0.png (deflated 13%)\n",
            "  adding: drive_256_256_dice_bce_0_4__0_4_1/results/_18_test_7.png (deflated 6%)\n",
            "  adding: drive_256_256_dice_bce_0_4__0_4_1/results/_09_test_5.png (deflated 6%)\n",
            "  adding: drive_256_256_dice_bce_0_4__0_4_1/results/_15_test_3.png (deflated 5%)\n",
            "  adding: drive_256_256_dice_bce_0_4__0_4_1/results/_03_test_0.png (deflated 17%)\n",
            "  adding: drive_256_256_dice_bce_0_4__0_4_1/results/_02_test_0.png (deflated 11%)\n",
            "  adding: drive_256_256_dice_bce_0_4__0_4_1/results/_20_test_3.png (deflated 6%)\n",
            "  adding: drive_256_256_dice_bce_0_4__0_4_1/results/_09_test_3.png (deflated 6%)\n",
            "  adding: drive_256_256_dice_bce_0_4__0_4_1/results/_01_test_7.png (deflated 8%)\n",
            "  adding: drive_256_256_dice_bce_0_4__0_4_1/results/_03_test_5.png (deflated 7%)\n",
            "  adding: drive_256_256_dice_bce_0_4__0_4_1/results/_01_test_5.png (deflated 7%)\n",
            "  adding: drive_256_256_dice_bce_0_4__0_4_1/results/_12_test_7.png (deflated 6%)\n",
            "  adding: drive_256_256_dice_bce_0_4__0_4_1/results/_16_test_4.png (deflated 6%)\n",
            "  adding: drive_256_256_dice_bce_0_4__0_4_1/results/_12_test_4.png (deflated 6%)\n",
            "  adding: drive_256_256_dice_bce_0_4__0_4_1/results/_20_test_1.png (deflated 7%)\n",
            "  adding: drive_256_256_dice_bce_0_4__0_4_1/results/_13_test_7.png (deflated 7%)\n",
            "  adding: drive_256_256_dice_bce_0_4__0_4_1/results/_07_test_3.png (deflated 5%)\n",
            "  adding: drive_256_256_dice_bce_0_4__0_4_1/results/_12_test_8.png (deflated 11%)\n",
            "  adding: drive_256_256_dice_bce_0_4__0_4_1/results/_08_test_3.png (deflated 5%)\n",
            "  adding: drive_256_256_dice_bce_0_4__0_4_1/results/_12_test_2.png (deflated 13%)\n",
            "  adding: drive_256_256_dice_bce_0_4__0_4_1/results/_11_test_2.png (deflated 14%)\n",
            "  adding: drive_256_256_dice_bce_0_4__0_4_1/results/_09_test_0.png (deflated 12%)\n",
            "  adding: drive_256_256_dice_bce_0_4__0_4_1/results/_05_test_0.png (deflated 13%)\n",
            "  adding: drive_256_256_dice_bce_0_4__0_4_1/results/_19_test_4.png (deflated 6%)\n",
            "  adding: drive_256_256_dice_bce_0_4__0_4_1/results/_15_test_4.png (deflated 4%)\n",
            "  adding: drive_256_256_dice_bce_0_4__0_4_1/results/_03_test_3.png (deflated 7%)\n",
            "  adding: drive_256_256_dice_bce_0_4__0_4_1/results/_17_test_4.png (deflated 5%)\n",
            "  adding: drive_256_256_dice_bce_0_4__0_4_1/results/_17_test_2.png (deflated 13%)\n",
            "  adding: drive_256_256_dice_bce_0_4__0_4_1/results/_13_test_1.png (deflated 7%)\n",
            "  adding: drive_256_256_dice_bce_0_4__0_4_1/results/_15_test_1.png (deflated 8%)\n",
            "  adding: drive_256_256_dice_bce_0_4__0_4_1/results/_11_test_6.png (deflated 10%)\n",
            "  adding: drive_256_256_dice_bce_0_4__0_4_1/results/_17_test_8.png (deflated 11%)\n",
            "  adding: drive_256_256_dice_bce_0_4__0_4_1/results/_05_test_3.png (deflated 6%)\n",
            "  adding: drive_256_256_dice_bce_0_4__0_4_1/results/_14_test_8.png (deflated 11%)\n",
            "  adding: drive_256_256_dice_bce_0_4__0_4_1/results/_17_test_3.png (deflated 5%)\n",
            "  adding: drive_256_256_dice_bce_0_4__0_4_1/results/_20_test_6.png (deflated 11%)\n",
            "  adding: drive_256_256_dice_bce_0_4__0_4_1/results/_20_test_7.png (deflated 7%)\n",
            "  adding: drive_256_256_dice_bce_0_4__0_4_1/results/_07_test_2.png (deflated 12%)\n",
            "  adding: drive_256_256_dice_bce_0_4__0_4_1/results/_19_test_2.png (deflated 13%)\n",
            "  adding: drive_256_256_dice_bce_0_4__0_4_1/results/_07_test_1.png (deflated 8%)\n",
            "  adding: drive_256_256_dice_bce_0_4__0_4_1/results/_07_test_7.png (deflated 6%)\n",
            "  adding: drive_256_256_dice_bce_0_4__0_4_1/results/_04_test_0.png (deflated 12%)\n",
            "  adding: drive_256_256_dice_bce_0_4__0_4_1/results/_19_test_3.png (deflated 6%)\n",
            "  adding: drive_256_256_dice_bce_0_4__0_4_1/results/_15_test_5.png (deflated 6%)\n",
            "  adding: drive_256_256_dice_bce_0_4__0_4_1/results/_13_test_3.png (deflated 6%)\n",
            "  adding: drive_256_256_dice_bce_0_4__0_4_1/results/_20_test_0.png (deflated 13%)\n",
            "  adding: drive_256_256_dice_bce_0_4__0_4_1/results/_03_test_7.png (deflated 8%)\n",
            "  adding: drive_256_256_dice_bce_0_4__0_4_1/results/_10_test_8.png (deflated 11%)\n",
            "  adding: drive_256_256_dice_bce_0_4__0_4_1/results/_04_test_2.png (deflated 12%)\n",
            "  adding: drive_256_256_dice_bce_0_4__0_4_1/results/score.csv (deflated 63%)\n",
            "  adding: drive_256_256_dice_bce_0_4__0_4_1/results/_02_test_1.png (deflated 7%)\n",
            "  adding: drive_256_256_dice_bce_0_4__0_4_1/results/_07_test_4.png (deflated 5%)\n",
            "  adding: drive_256_256_dice_bce_0_4__0_4_1/results/_16_test_6.png (deflated 11%)\n",
            "  adding: drive_256_256_dice_bce_0_4__0_4_1/results/_18_test_6.png (deflated 12%)\n",
            "  adding: drive_256_256_dice_bce_0_4__0_4_1/results/_16_test_0.png (deflated 12%)\n",
            "  adding: drive_256_256_dice_bce_0_4__0_4_1/results/_06_test_5.png (deflated 7%)\n",
            "  adding: drive_256_256_dice_bce_0_4__0_4_1/results/_02_test_8.png (deflated 11%)\n",
            "  adding: drive_256_256_dice_bce_0_4__0_4_1/results/_07_test_0.png (deflated 11%)\n",
            "  adding: drive_256_256_dice_bce_0_4__0_4_1/results/_10_test_2.png (deflated 14%)\n",
            "  adding: drive_256_256_dice_bce_0_4__0_4_1/results/score_full_0_5.csv (deflated 64%)\n",
            "  adding: drive_256_256_dice_bce_0_4__0_4_1/results/_12_test_5.png (deflated 6%)\n",
            "  adding: drive_256_256_dice_bce_0_4__0_4_1/results/_09_test_6.png (deflated 12%)\n",
            "  adding: drive_256_256_dice_bce_0_4__0_4_1/results/_10_test_7.png (deflated 7%)\n",
            "  adding: drive_256_256_dice_bce_0_4__0_4_1/results/_18_test_3.png (deflated 5%)\n",
            "  adding: drive_256_256_dice_bce_0_4__0_4_1/results/_16_test_5.png (deflated 7%)\n",
            "  adding: drive_256_256_dice_bce_0_4__0_4_1/results/_20_test_8.png (deflated 12%)\n",
            "  adding: drive_256_256_dice_bce_0_4__0_4_1/results/_04_test_3.png (deflated 5%)\n",
            "  adding: drive_256_256_dice_bce_0_4__0_4_1/results/_02_test_5.png (deflated 6%)\n",
            "  adding: drive_256_256_dice_bce_0_4__0_4_1/results/_14_test_7.png (deflated 5%)\n",
            "  adding: drive_256_256_dice_bce_0_4__0_4_1/results/_08_test_0.png (deflated 12%)\n",
            "  adding: drive_256_256_dice_bce_0_4__0_4_1/results/_13_test_8.png (deflated 10%)\n",
            "  adding: drive_256_256_dice_bce_0_4__0_4_1/results/_18_test_4.png (deflated 5%)\n",
            "  adding: drive_256_256_dice_bce_0_4__0_4_1/results/_14_test_6.png (deflated 12%)\n",
            "  adding: drive_256_256_dice_bce_0_4__0_4_1/results/_08_test_1.png (deflated 7%)\n",
            "  adding: drive_256_256_dice_bce_0_4__0_4_1/results/_01_test_3.png (deflated 7%)\n",
            "  adding: drive_256_256_dice_bce_0_4__0_4_1/results/_11_test_3.png (deflated 5%)\n",
            "  adding: drive_256_256_dice_bce_0_4__0_4_1/results/_10_test_0.png (deflated 13%)\n",
            "  adding: drive_256_256_dice_bce_0_4__0_4_1/results/_16_test_3.png (deflated 6%)\n",
            "  adding: drive_256_256_dice_bce_0_4__0_4_1/results/_04_test_1.png (deflated 8%)\n",
            "  adding: drive_256_256_dice_bce_0_4__0_4_1/results/_17_test_1.png (deflated 7%)\n",
            "  adding: drive_256_256_dice_bce_0_4__0_4_1/results/_08_test_2.png (deflated 14%)\n",
            "  adding: drive_256_256_dice_bce_0_4__0_4_1/results/_04_test_6.png (deflated 12%)\n",
            "  adding: drive_256_256_dice_bce_0_4__0_4_1/results/_13_test_6.png (deflated 11%)\n",
            "  adding: drive_256_256_dice_bce_0_4__0_4_1/results/_18_test_5.png (deflated 6%)\n",
            "  adding: drive_256_256_dice_bce_0_4__0_4_1/results/_18_test_1.png (deflated 7%)\n",
            "  adding: drive_256_256_dice_bce_0_4__0_4_1/results/_16_test_2.png (deflated 13%)\n",
            "  adding: drive_256_256_dice_bce_0_4__0_4_1/results/score_full_0_6.csv (deflated 64%)\n",
            "  adding: drive_256_256_dice_bce_0_4__0_4_1/results/_13_test_5.png (deflated 6%)\n",
            "  adding: drive_256_256_dice_bce_0_4__0_4_1/results/_15_test_7.png (deflated 7%)\n",
            "  adding: drive_256_256_dice_bce_0_4__0_4_1/results/_09_test_8.png (deflated 12%)\n",
            "  adding: drive_256_256_dice_bce_0_4__0_4_1/results/score_full_0_4.csv (deflated 64%)\n",
            "  adding: drive_256_256_dice_bce_0_4__0_4_1/results/_19_test_0.png (deflated 12%)\n",
            "  adding: drive_256_256_dice_bce_0_4__0_4_1/results/_14_test_5.png (deflated 6%)\n",
            "  adding: drive_256_256_dice_bce_0_4__0_4_1/results/_11_test_4.png (deflated 5%)\n",
            "  adding: drive_256_256_dice_bce_0_4__0_4_1/results/_17_test_7.png (deflated 6%)\n",
            "  adding: drive_256_256_dice_bce_0_4__0_4_1/results/_04_test_5.png (deflated 5%)\n",
            "  adding: drive_256_256_dice_bce_0_4__0_4_1/results/_16_test_8.png (deflated 12%)\n",
            "  adding: drive_256_256_dice_bce_0_4__0_4_1/results/_18_test_0.png (deflated 12%)\n",
            "  adding: drive_256_256_dice_bce_0_4__0_4_1/results/_02_test_3.png (deflated 5%)\n",
            "  adding: drive_256_256_dice_bce_0_4__0_4_1/results/_01_test_4.png (deflated 6%)\n",
            "  adding: drive_256_256_dice_bce_0_4__0_4_1/results/_18_test_2.png (deflated 12%)\n",
            "  adding: drive_256_256_dice_bce_0_4__0_4_1/results/_03_test_4.png (deflated 6%)\n",
            "  adding: drive_256_256_dice_bce_0_4__0_4_1/results/_08_test_8.png (deflated 12%)\n",
            "  adding: drive_256_256_dice_bce_0_4__0_4_1/results/_16_test_1.png (deflated 7%)\n",
            "  adding: drive_256_256_dice_bce_0_4__0_4_1/results/_09_test_7.png (deflated 6%)\n",
            "  adding: drive_256_256_dice_bce_0_4__0_4_1/results/_11_test_1.png (deflated 7%)\n",
            "  adding: drive_256_256_dice_bce_0_4__0_4_1/results/_01_test_0.png (deflated 12%)\n",
            "  adding: drive_256_256_dice_bce_0_4__0_4_1/results/_08_test_5.png (deflated 6%)\n",
            "  adding: drive_256_256_dice_bce_0_4__0_4_1/results/_15_test_6.png (deflated 10%)\n",
            "  adding: drive_256_256_dice_bce_0_4__0_4_1/results/_05_test_6.png (deflated 11%)\n",
            "  adding: drive_256_256_dice_bce_0_4__0_4_1/results/_01_test_8.png (deflated 11%)\n",
            "  adding: drive_256_256_dice_bce_0_4__0_4_1/results/_13_test_0.png (deflated 12%)\n",
            "  adding: drive_256_256_dice_bce_0_4__0_4_1/results/_20_test_5.png (deflated 7%)\n",
            "  adding: drive_256_256_dice_bce_0_4__0_4_1/results/_17_test_0.png (deflated 12%)\n",
            "  adding: drive_256_256_dice_bce_0_4__0_4_1/results/_19_test_5.png (deflated 8%)\n",
            "  adding: drive_256_256_dice_bce_0_4__0_4_1/results/_11_test_0.png (deflated 11%)\n",
            "  adding: drive_256_256_dice_bce_0_4__0_4_1/results/_19_test_1.png (deflated 7%)\n",
            "  adding: drive_256_256_dice_bce_0_4__0_4_1/results/_01_test_6.png (deflated 11%)\n",
            "  adding: drive_256_256_dice_bce_0_4__0_4_1/results/_06_test_3.png (deflated 5%)\n",
            "  adding: drive_256_256_dice_bce_0_4__0_4_1/results/_10_test_3.png (deflated 6%)\n",
            "  adding: drive_256_256_dice_bce_0_4__0_4_1/results/_17_test_5.png (deflated 6%)\n",
            "  adding: drive_256_256_dice_bce_0_4__0_4_1/results/_02_test_6.png (deflated 10%)\n",
            "  adding: drive_256_256_dice_bce_0_4__0_4_1/results/_04_test_8.png (deflated 11%)\n",
            "  adding: drive_256_256_dice_bce_0_4__0_4_1/results/_13_test_4.png (deflated 7%)\n",
            "  adding: drive_256_256_dice_bce_0_4__0_4_1/results/_09_test_4.png (deflated 6%)\n",
            "  adding: drive_256_256_dice_bce_0_4__0_4_1/results/_17_test_6.png (deflated 11%)\n",
            "  adding: drive_256_256_dice_bce_0_4__0_4_1/results/_14_test_1.png (deflated 7%)\n",
            "  adding: drive_256_256_dice_bce_0_4__0_4_1/results/_02_test_2.png (deflated 13%)\n",
            "  adding: drive_256_256_dice_bce_0_4__0_4_1/results/_19_test_7.png (deflated 6%)\n",
            "  adding: drive_256_256_dice_bce_0_4__0_4_1/results/_19_test_6.png (deflated 11%)\n",
            "  adding: drive_256_256_dice_bce_0_4__0_4_1/results/_20_test_2.png (deflated 13%)\n",
            "  adding: drive_256_256_dice_bce_0_4__0_4_1/results/_10_test_1.png (deflated 7%)\n",
            "  adding: drive_256_256_dice_bce_0_4__0_4_1/results/_05_test_7.png (deflated 7%)\n",
            "  adding: drive_256_256_dice_bce_0_4__0_4_1/results/_06_test_1.png (deflated 7%)\n",
            "  adding: drive_256_256_dice_bce_0_4__0_4_1/results/_08_test_6.png (deflated 11%)\n",
            "  adding: drive_256_256_dice_bce_0_4__0_4_1/results/_06_test_6.png (deflated 12%)\n",
            "  adding: drive_256_256_dice_bce_0_4__0_4_1/results/_06_test_7.png (deflated 6%)\n",
            "  adding: drive_256_256_dice_bce_0_4__0_4_1/results/_19_test_8.png (deflated 11%)\n",
            "  adding: drive_256_256_dice_bce_0_4__0_4_1/results/_13_test_2.png (deflated 13%)\n",
            "  adding: drive_256_256_dice_bce_0_4__0_4_1/results/_03_test_1.png (deflated 8%)\n",
            "  adding: drive_256_256_dice_bce_0_4__0_4_1/results/_06_test_0.png (deflated 12%)\n",
            "  adding: drive_256_256_dice_bce_0_4__0_4_1/results/_15_test_2.png (deflated 14%)\n",
            "  adding: drive_256_256_dice_bce_0_4__0_4_1/results/_15_test_8.png (deflated 12%)\n",
            "  adding: drive_256_256_dice_bce_0_4__0_4_1/results/_05_test_4.png (deflated 6%)\n",
            "  adding: drive_256_256_dice_bce_0_4__0_4_1/results/_05_test_8.png (deflated 12%)\n",
            "  adding: drive_256_256_dice_bce_0_4__0_4_1/results/_12_test_0.png (deflated 12%)\n",
            "  adding: drive_256_256_dice_bce_0_4__0_4_1/results/_20_test_4.png (deflated 6%)\n",
            "  adding: drive_256_256_dice_bce_0_4__0_4_1/results/_05_test_5.png (deflated 6%)\n",
            "  adding: drive_256_256_dice_bce_0_4__0_4_1/results/_04_test_4.png (deflated 4%)\n",
            "  adding: drive_256_256_dice_bce_0_4__0_4_1/results/_12_test_1.png (deflated 7%)\n",
            "  adding: drive_256_256_dice_bce_0_4__0_4_1/results/_07_test_8.png (deflated 10%)\n",
            "  adding: drive_256_256_dice_bce_0_4__0_4_1/results/_03_test_8.png (deflated 15%)\n",
            "  adding: drive_256_256_dice_bce_0_4__0_4_1/results/_09_test_1.png (deflated 7%)\n",
            "  adding: drive_256_256_dice_bce_0_4__0_4_1/results/_12_test_6.png (deflated 11%)\n",
            "  adding: drive_256_256_dice_bce_0_4__0_4_1/results/_05_test_1.png (deflated 7%)\n",
            "  adding: drive_256_256_dice_bce_0_4__0_4_1/results/_11_test_7.png (deflated 7%)\n",
            "  adding: drive_256_256_dice_bce_0_4__0_4_1/results/_02_test_4.png (deflated 6%)\n",
            "  adding: drive_256_256_dice_bce_0_4__0_4_1/results/_08_test_7.png (deflated 7%)\n",
            "  adding: drive_256_256_dice_bce_0_4__0_4_1/results/_12_test_3.png (deflated 7%)\n",
            "  adding: drive_256_256_dice_bce_0_4__0_4_1/results/_01_test_1.png (deflated 8%)\n",
            "  adding: drive_256_256_dice_bce_0_4__0_4_1/results/_14_test_2.png (deflated 11%)\n",
            "  adding: drive_256_256_dice_bce_0_4__0_4_1/results/_14_test_3.png (deflated 6%)\n",
            "  adding: drive_256_256_dice_bce_0_4__0_4_1/results/_07_test_6.png (deflated 11%)\n",
            "  adding: drive_256_256_dice_bce_0_4__0_4_1/results/_14_test_4.png (deflated 6%)\n",
            "  adding: drive_256_256_dice_bce_0_4__0_4_1/results/_08_test_4.png (deflated 5%)\n",
            "  adding: drive_256_256_dice_bce_0_4__0_4_1/results/_01_test_2.png (deflated 14%)\n",
            "  adding: drive_256_256_dice_bce_0_4__0_4_1/results/_10_test_6.png (deflated 12%)\n",
            "  adding: drive_256_256_dice_bce_0_4__0_4_1/results/_05_test_2.png (deflated 14%)\n",
            "  adding: drive_256_256_dice_bce_0_4__0_4_1/results/_06_test_4.png (deflated 6%)\n",
            "  adding: drive_256_256_dice_bce_0_4__0_4_1/results/_18_test_8.png (deflated 10%)\n",
            "  adding: drive_256_256_dice_bce_0_4__0_4_1/results/_04_test_7.png (deflated 6%)\n",
            "  adding: drive_256_256_dice_bce_0_4__0_4_1/predictions_np/ (stored 0%)\n",
            "  adding: drive_256_256_dice_bce_0_4__0_4_1/predictions_np/_20_test_7.npy (deflated 19%)\n",
            "  adding: drive_256_256_dice_bce_0_4__0_4_1/predictions_np/_17_test_8.npy (deflated 20%)\n",
            "  adding: drive_256_256_dice_bce_0_4__0_4_1/predictions_np/_03_test_5.npy (deflated 14%)\n",
            "  adding: drive_256_256_dice_bce_0_4__0_4_1/predictions_np/_03_test_0.npy (deflated 20%)\n",
            "  adding: drive_256_256_dice_bce_0_4__0_4_1/predictions_np/_15_test_8.npy (deflated 20%)\n",
            "  adding: drive_256_256_dice_bce_0_4__0_4_1/predictions_np/_13_test_7.npy (deflated 21%)\n",
            "  adding: drive_256_256_dice_bce_0_4__0_4_1/predictions_np/_20_test_6.npy (deflated 20%)\n",
            "  adding: drive_256_256_dice_bce_0_4__0_4_1/predictions_np/_11_test_4.npy (deflated 17%)\n",
            "  adding: drive_256_256_dice_bce_0_4__0_4_1/predictions_np/_01_test_7.npy (deflated 20%)\n",
            "  adding: drive_256_256_dice_bce_0_4__0_4_1/predictions_np/_14_test_1.npy (deflated 20%)\n",
            "  adding: drive_256_256_dice_bce_0_4__0_4_1/predictions_np/_11_test_7.npy (deflated 20%)\n",
            "  adding: drive_256_256_dice_bce_0_4__0_4_1/predictions_np/_16_test_2.npy (deflated 21%)\n",
            "  adding: drive_256_256_dice_bce_0_4__0_4_1/predictions_np/_11_test_5.npy (deflated 15%)\n",
            "  adding: drive_256_256_dice_bce_0_4__0_4_1/predictions_np/_10_test_1.npy (deflated 21%)\n",
            "  adding: drive_256_256_dice_bce_0_4__0_4_1/predictions_np/_09_test_8.npy (deflated 20%)\n",
            "  adding: drive_256_256_dice_bce_0_4__0_4_1/predictions_np/_11_test_6.npy (deflated 20%)\n",
            "  adding: drive_256_256_dice_bce_0_4__0_4_1/predictions_np/_15_test_3.npy (deflated 14%)\n",
            "  adding: drive_256_256_dice_bce_0_4__0_4_1/predictions_np/_06_test_2.npy (deflated 21%)\n",
            "  adding: drive_256_256_dice_bce_0_4__0_4_1/predictions_np/_20_test_0.npy (deflated 20%)\n",
            "  adding: drive_256_256_dice_bce_0_4__0_4_1/predictions_np/_09_test_2.npy (deflated 20%)\n",
            "  adding: drive_256_256_dice_bce_0_4__0_4_1/predictions_np/_11_test_8.npy (deflated 20%)\n",
            "  adding: drive_256_256_dice_bce_0_4__0_4_1/predictions_np/_13_test_2.npy (deflated 20%)\n",
            "  adding: drive_256_256_dice_bce_0_4__0_4_1/predictions_np/_14_test_8.npy (deflated 20%)\n",
            "  adding: drive_256_256_dice_bce_0_4__0_4_1/predictions_np/_10_test_8.npy (deflated 20%)\n",
            "  adding: drive_256_256_dice_bce_0_4__0_4_1/predictions_np/_03_test_1.npy (deflated 19%)\n",
            "  adding: drive_256_256_dice_bce_0_4__0_4_1/predictions_np/_01_test_8.npy (deflated 20%)\n",
            "  adding: drive_256_256_dice_bce_0_4__0_4_1/predictions_np/_06_test_7.npy (deflated 19%)\n",
            "  adding: drive_256_256_dice_bce_0_4__0_4_1/predictions_np/_15_test_5.npy (deflated 15%)\n",
            "  adding: drive_256_256_dice_bce_0_4__0_4_1/predictions_np/_15_test_2.npy (deflated 20%)\n",
            "  adding: drive_256_256_dice_bce_0_4__0_4_1/predictions_np/_08_test_7.npy (deflated 18%)\n",
            "  adding: drive_256_256_dice_bce_0_4__0_4_1/predictions_np/_19_test_6.npy (deflated 20%)\n",
            "  adding: drive_256_256_dice_bce_0_4__0_4_1/predictions_np/_02_test_1.npy (deflated 21%)\n",
            "  adding: drive_256_256_dice_bce_0_4__0_4_1/predictions_np/_13_test_0.npy (deflated 21%)\n",
            "  adding: drive_256_256_dice_bce_0_4__0_4_1/predictions_np/_07_test_7.npy (deflated 19%)\n",
            "  adding: drive_256_256_dice_bce_0_4__0_4_1/predictions_np/_14_test_4.npy (deflated 14%)\n",
            "  adding: drive_256_256_dice_bce_0_4__0_4_1/predictions_np/_09_test_0.npy (deflated 20%)\n",
            "  adding: drive_256_256_dice_bce_0_4__0_4_1/predictions_np/_01_test_1.npy (deflated 21%)\n",
            "  adding: drive_256_256_dice_bce_0_4__0_4_1/predictions_np/_17_test_1.npy (deflated 19%)\n",
            "  adding: drive_256_256_dice_bce_0_4__0_4_1/predictions_np/_06_test_4.npy (deflated 15%)\n",
            "  adding: drive_256_256_dice_bce_0_4__0_4_1/predictions_np/_20_test_8.npy (deflated 20%)\n",
            "  adding: drive_256_256_dice_bce_0_4__0_4_1/predictions_np/_09_test_6.npy (deflated 20%)\n",
            "  adding: drive_256_256_dice_bce_0_4__0_4_1/predictions_np/_02_test_4.npy (deflated 16%)\n",
            "  adding: drive_256_256_dice_bce_0_4__0_4_1/predictions_np/_05_test_4.npy (deflated 15%)\n",
            "  adding: drive_256_256_dice_bce_0_4__0_4_1/predictions_np/_07_test_3.npy (deflated 14%)\n",
            "  adding: drive_256_256_dice_bce_0_4__0_4_1/predictions_np/_03_test_6.npy (deflated 20%)\n",
            "  adding: drive_256_256_dice_bce_0_4__0_4_1/predictions_np/_07_test_0.npy (deflated 20%)\n",
            "  adding: drive_256_256_dice_bce_0_4__0_4_1/predictions_np/_12_test_0.npy (deflated 21%)\n",
            "  adding: drive_256_256_dice_bce_0_4__0_4_1/predictions_np/_02_test_6.npy (deflated 20%)\n",
            "  adding: drive_256_256_dice_bce_0_4__0_4_1/predictions_np/_12_test_1.npy (deflated 20%)\n",
            "  adding: drive_256_256_dice_bce_0_4__0_4_1/predictions_np/_08_test_2.npy (deflated 21%)\n",
            "  adding: drive_256_256_dice_bce_0_4__0_4_1/predictions_np/_08_test_4.npy (deflated 14%)\n",
            "  adding: drive_256_256_dice_bce_0_4__0_4_1/predictions_np/_02_test_8.npy (deflated 20%)\n",
            "  adding: drive_256_256_dice_bce_0_4__0_4_1/predictions_np/_19_test_4.npy (deflated 17%)\n",
            "  adding: drive_256_256_dice_bce_0_4__0_4_1/predictions_np/_10_test_7.npy (deflated 19%)\n",
            "  adding: drive_256_256_dice_bce_0_4__0_4_1/predictions_np/_19_test_3.npy (deflated 15%)\n",
            "  adding: drive_256_256_dice_bce_0_4__0_4_1/predictions_np/_06_test_6.npy (deflated 19%)\n",
            "  adding: drive_256_256_dice_bce_0_4__0_4_1/predictions_np/_19_test_7.npy (deflated 19%)\n",
            "  adding: drive_256_256_dice_bce_0_4__0_4_1/predictions_np/_11_test_0.npy (deflated 21%)\n",
            "  adding: drive_256_256_dice_bce_0_4__0_4_1/predictions_np/_08_test_8.npy (deflated 20%)\n",
            "  adding: drive_256_256_dice_bce_0_4__0_4_1/predictions_np/_04_test_1.npy (deflated 19%)\n",
            "  adding: drive_256_256_dice_bce_0_4__0_4_1/predictions_np/_12_test_6.npy (deflated 20%)\n",
            "  adding: drive_256_256_dice_bce_0_4__0_4_1/predictions_np/_11_test_3.npy (deflated 19%)\n",
            "  adding: drive_256_256_dice_bce_0_4__0_4_1/predictions_np/_04_test_3.npy (deflated 15%)\n",
            "  adding: drive_256_256_dice_bce_0_4__0_4_1/predictions_np/_12_test_4.npy (deflated 15%)\n",
            "  adding: drive_256_256_dice_bce_0_4__0_4_1/predictions_np/_10_test_6.npy (deflated 20%)\n",
            "  adding: drive_256_256_dice_bce_0_4__0_4_1/predictions_np/_05_test_8.npy (deflated 20%)\n",
            "  adding: drive_256_256_dice_bce_0_4__0_4_1/predictions_np/_06_test_0.npy (deflated 20%)\n",
            "  adding: drive_256_256_dice_bce_0_4__0_4_1/predictions_np/_04_test_4.npy (deflated 21%)\n",
            "  adding: drive_256_256_dice_bce_0_4__0_4_1/predictions_np/_13_test_3.npy (deflated 14%)\n",
            "  adding: drive_256_256_dice_bce_0_4__0_4_1/predictions_np/_07_test_2.npy (deflated 20%)\n",
            "  adding: drive_256_256_dice_bce_0_4__0_4_1/predictions_np/_10_test_2.npy (deflated 21%)\n",
            "  adding: drive_256_256_dice_bce_0_4__0_4_1/predictions_np/_16_test_4.npy (deflated 15%)\n",
            "  adding: drive_256_256_dice_bce_0_4__0_4_1/predictions_np/_01_test_2.npy (deflated 20%)\n",
            "  adding: drive_256_256_dice_bce_0_4__0_4_1/predictions_np/_17_test_6.npy (deflated 19%)\n",
            "  adding: drive_256_256_dice_bce_0_4__0_4_1/predictions_np/_07_test_1.npy (deflated 20%)\n",
            "  adding: drive_256_256_dice_bce_0_4__0_4_1/predictions_np/_03_test_7.npy (deflated 18%)\n",
            "  adding: drive_256_256_dice_bce_0_4__0_4_1/predictions_np/_01_test_6.npy (deflated 20%)\n",
            "  adding: drive_256_256_dice_bce_0_4__0_4_1/predictions_np/_15_test_0.npy (deflated 21%)\n",
            "  adding: drive_256_256_dice_bce_0_4__0_4_1/predictions_np/_13_test_1.npy (deflated 21%)\n",
            "  adding: drive_256_256_dice_bce_0_4__0_4_1/predictions_np/_18_test_0.npy (deflated 21%)\n",
            "  adding: drive_256_256_dice_bce_0_4__0_4_1/predictions_np/_18_test_5.npy (deflated 19%)\n",
            "  adding: drive_256_256_dice_bce_0_4__0_4_1/predictions_np/_17_test_7.npy (deflated 18%)\n",
            "  adding: drive_256_256_dice_bce_0_4__0_4_1/predictions_np/_09_test_5.npy (deflated 14%)\n",
            "  adding: drive_256_256_dice_bce_0_4__0_4_1/predictions_np/_09_test_3.npy (deflated 15%)\n",
            "  adding: drive_256_256_dice_bce_0_4__0_4_1/predictions_np/_07_test_8.npy (deflated 20%)\n",
            "  adding: drive_256_256_dice_bce_0_4__0_4_1/predictions_np/_06_test_1.npy (deflated 21%)\n",
            "  adding: drive_256_256_dice_bce_0_4__0_4_1/predictions_np/_05_test_7.npy (deflated 19%)\n",
            "  adding: drive_256_256_dice_bce_0_4__0_4_1/predictions_np/_14_test_0.npy (deflated 20%)\n",
            "  adding: drive_256_256_dice_bce_0_4__0_4_1/predictions_np/_03_test_3.npy (deflated 15%)\n",
            "  adding: drive_256_256_dice_bce_0_4__0_4_1/predictions_np/_05_test_2.npy (deflated 20%)\n",
            "  adding: drive_256_256_dice_bce_0_4__0_4_1/predictions_np/_18_test_6.npy (deflated 20%)\n",
            "  adding: drive_256_256_dice_bce_0_4__0_4_1/predictions_np/_19_test_8.npy (deflated 20%)\n",
            "  adding: drive_256_256_dice_bce_0_4__0_4_1/predictions_np/_18_test_8.npy (deflated 20%)\n",
            "  adding: drive_256_256_dice_bce_0_4__0_4_1/predictions_np/_13_test_5.npy (deflated 18%)\n",
            "  adding: drive_256_256_dice_bce_0_4__0_4_1/predictions_np/_05_test_6.npy (deflated 20%)\n",
            "  adding: drive_256_256_dice_bce_0_4__0_4_1/predictions_np/_04_test_7.npy (deflated 18%)\n",
            "  adding: drive_256_256_dice_bce_0_4__0_4_1/predictions_np/_13_test_4.npy (deflated 16%)\n",
            "  adding: drive_256_256_dice_bce_0_4__0_4_1/predictions_np/_08_test_6.npy (deflated 20%)\n",
            "  adding: drive_256_256_dice_bce_0_4__0_4_1/predictions_np/_16_test_3.npy (deflated 14%)\n",
            "  adding: drive_256_256_dice_bce_0_4__0_4_1/predictions_np/_08_test_1.npy (deflated 19%)\n",
            "  adding: drive_256_256_dice_bce_0_4__0_4_1/predictions_np/_01_test_3.npy (deflated 18%)\n",
            "  adding: drive_256_256_dice_bce_0_4__0_4_1/predictions_np/_16_test_7.npy (deflated 19%)\n",
            "  adding: drive_256_256_dice_bce_0_4__0_4_1/predictions_np/_15_test_1.npy (deflated 18%)\n",
            "  adding: drive_256_256_dice_bce_0_4__0_4_1/predictions_np/_16_test_0.npy (deflated 21%)\n",
            "  adding: drive_256_256_dice_bce_0_4__0_4_1/predictions_np/_12_test_2.npy (deflated 20%)\n",
            "  adding: drive_256_256_dice_bce_0_4__0_4_1/predictions_np/_17_test_2.npy (deflated 20%)\n",
            "  adding: drive_256_256_dice_bce_0_4__0_4_1/predictions_np/_12_test_3.npy (deflated 18%)\n",
            "  adding: drive_256_256_dice_bce_0_4__0_4_1/predictions_np/_19_test_1.npy (deflated 21%)\n",
            "  adding: drive_256_256_dice_bce_0_4__0_4_1/predictions_np/_15_test_7.npy (deflated 17%)\n",
            "  adding: drive_256_256_dice_bce_0_4__0_4_1/predictions_np/_05_test_0.npy (deflated 21%)\n",
            "  adding: drive_256_256_dice_bce_0_4__0_4_1/predictions_np/_19_test_2.npy (deflated 21%)\n",
            "  adding: drive_256_256_dice_bce_0_4__0_4_1/predictions_np/_02_test_3.npy (deflated 15%)\n",
            "  adding: drive_256_256_dice_bce_0_4__0_4_1/predictions_np/_17_test_0.npy (deflated 20%)\n",
            "  adding: drive_256_256_dice_bce_0_4__0_4_1/predictions_np/_04_test_0.npy (deflated 20%)\n",
            "  adding: drive_256_256_dice_bce_0_4__0_4_1/predictions_np/_20_test_2.npy (deflated 21%)\n",
            "  adding: drive_256_256_dice_bce_0_4__0_4_1/predictions_np/_02_test_5.npy (deflated 19%)\n",
            "  adding: drive_256_256_dice_bce_0_4__0_4_1/predictions_np/_14_test_6.npy (deflated 20%)\n",
            "  adding: drive_256_256_dice_bce_0_4__0_4_1/predictions_np/_17_test_3.npy (deflated 14%)\n",
            "  adding: drive_256_256_dice_bce_0_4__0_4_1/predictions_np/_06_test_3.npy (deflated 14%)\n",
            "  adding: drive_256_256_dice_bce_0_4__0_4_1/predictions_np/_18_test_7.npy (deflated 19%)\n",
            "  adding: drive_256_256_dice_bce_0_4__0_4_1/predictions_np/_20_test_1.npy (deflated 21%)\n",
            "  adding: drive_256_256_dice_bce_0_4__0_4_1/predictions_np/_07_test_4.npy (deflated 15%)\n",
            "  adding: drive_256_256_dice_bce_0_4__0_4_1/predictions_np/_16_test_5.npy (deflated 18%)\n",
            "  adding: drive_256_256_dice_bce_0_4__0_4_1/predictions_np/_14_test_5.npy (deflated 18%)\n",
            "  adding: drive_256_256_dice_bce_0_4__0_4_1/predictions_np/_20_test_3.npy (deflated 14%)\n",
            "  adding: drive_256_256_dice_bce_0_4__0_4_1/predictions_np/_02_test_2.npy (deflated 20%)\n",
            "  adding: drive_256_256_dice_bce_0_4__0_4_1/predictions_np/_02_test_7.npy (deflated 20%)\n",
            "  adding: drive_256_256_dice_bce_0_4__0_4_1/predictions_np/_11_test_2.npy (deflated 21%)\n",
            "  adding: drive_256_256_dice_bce_0_4__0_4_1/predictions_np/_18_test_2.npy (deflated 21%)\n",
            "  adding: drive_256_256_dice_bce_0_4__0_4_1/predictions_np/_06_test_5.npy (deflated 17%)\n",
            "  adding: drive_256_256_dice_bce_0_4__0_4_1/predictions_np/_12_test_8.npy (deflated 20%)\n",
            "  adding: drive_256_256_dice_bce_0_4__0_4_1/predictions_np/_06_test_8.npy (deflated 20%)\n",
            "  adding: drive_256_256_dice_bce_0_4__0_4_1/predictions_np/_09_test_4.npy (deflated 14%)\n",
            "  adding: drive_256_256_dice_bce_0_4__0_4_1/predictions_np/_03_test_4.npy (deflated 14%)\n",
            "  adding: drive_256_256_dice_bce_0_4__0_4_1/predictions_np/_13_test_6.npy (deflated 20%)\n",
            "  adding: drive_256_256_dice_bce_0_4__0_4_1/predictions_np/_20_test_5.npy (deflated 18%)\n",
            "  adding: drive_256_256_dice_bce_0_4__0_4_1/predictions_np/_20_test_4.npy (deflated 15%)\n",
            "  adding: drive_256_256_dice_bce_0_4__0_4_1/predictions_np/_04_test_6.npy (deflated 20%)\n",
            "  adding: drive_256_256_dice_bce_0_4__0_4_1/predictions_np/_17_test_4.npy (deflated 14%)\n",
            "  adding: drive_256_256_dice_bce_0_4__0_4_1/predictions_np/_11_test_1.npy (deflated 20%)\n",
            "  adding: drive_256_256_dice_bce_0_4__0_4_1/predictions_np/_08_test_3.npy (deflated 14%)\n",
            "  adding: drive_256_256_dice_bce_0_4__0_4_1/predictions_np/_14_test_2.npy (deflated 20%)\n",
            "  adding: drive_256_256_dice_bce_0_4__0_4_1/predictions_np/_01_test_5.npy (deflated 15%)\n",
            "  adding: drive_256_256_dice_bce_0_4__0_4_1/predictions_np/_04_test_2.npy (deflated 21%)\n",
            "  adding: drive_256_256_dice_bce_0_4__0_4_1/predictions_np/_08_test_5.npy (deflated 18%)\n",
            "  adding: drive_256_256_dice_bce_0_4__0_4_1/predictions_np/_18_test_4.npy (deflated 15%)\n",
            "  adding: drive_256_256_dice_bce_0_4__0_4_1/predictions_np/_16_test_1.npy (deflated 20%)\n",
            "  adding: drive_256_256_dice_bce_0_4__0_4_1/predictions_np/_16_test_6.npy (deflated 20%)\n",
            "  adding: drive_256_256_dice_bce_0_4__0_4_1/predictions_np/_05_test_1.npy (deflated 20%)\n",
            "  adding: drive_256_256_dice_bce_0_4__0_4_1/predictions_np/_05_test_3.npy (deflated 18%)\n",
            "  adding: drive_256_256_dice_bce_0_4__0_4_1/predictions_np/_12_test_7.npy (deflated 20%)\n",
            "  adding: drive_256_256_dice_bce_0_4__0_4_1/predictions_np/_10_test_0.npy (deflated 21%)\n",
            "  adding: drive_256_256_dice_bce_0_4__0_4_1/predictions_np/_10_test_3.npy (deflated 14%)\n",
            "  adding: drive_256_256_dice_bce_0_4__0_4_1/predictions_np/_10_test_4.npy (deflated 15%)\n",
            "  adding: drive_256_256_dice_bce_0_4__0_4_1/predictions_np/_01_test_4.npy (deflated 15%)\n",
            "  adding: drive_256_256_dice_bce_0_4__0_4_1/predictions_np/_15_test_4.npy (deflated 18%)\n",
            "  adding: drive_256_256_dice_bce_0_4__0_4_1/predictions_np/_03_test_8.npy (deflated 19%)\n",
            "  adding: drive_256_256_dice_bce_0_4__0_4_1/predictions_np/_09_test_1.npy (deflated 20%)\n",
            "  adding: drive_256_256_dice_bce_0_4__0_4_1/predictions_np/_05_test_5.npy (deflated 15%)\n",
            "  adding: drive_256_256_dice_bce_0_4__0_4_1/predictions_np/_10_test_5.npy (deflated 18%)\n",
            "  adding: drive_256_256_dice_bce_0_4__0_4_1/predictions_np/_12_test_5.npy (deflated 14%)\n",
            "  adding: drive_256_256_dice_bce_0_4__0_4_1/predictions_np/_14_test_3.npy (deflated 14%)\n",
            "  adding: drive_256_256_dice_bce_0_4__0_4_1/predictions_np/_16_test_8.npy (deflated 20%)\n",
            "  adding: drive_256_256_dice_bce_0_4__0_4_1/predictions_np/_15_test_6.npy (deflated 20%)\n",
            "  adding: drive_256_256_dice_bce_0_4__0_4_1/predictions_np/_03_test_2.npy (deflated 19%)\n",
            "  adding: drive_256_256_dice_bce_0_4__0_4_1/predictions_np/_18_test_1.npy (deflated 19%)\n",
            "  adding: drive_256_256_dice_bce_0_4__0_4_1/predictions_np/_13_test_8.npy (deflated 20%)\n",
            "  adding: drive_256_256_dice_bce_0_4__0_4_1/predictions_np/_14_test_7.npy (deflated 19%)\n",
            "  adding: drive_256_256_dice_bce_0_4__0_4_1/predictions_np/_02_test_0.npy (deflated 20%)\n",
            "  adding: drive_256_256_dice_bce_0_4__0_4_1/predictions_np/_01_test_0.npy (deflated 21%)\n",
            "  adding: drive_256_256_dice_bce_0_4__0_4_1/predictions_np/_18_test_3.npy (deflated 14%)\n",
            "  adding: drive_256_256_dice_bce_0_4__0_4_1/predictions_np/_04_test_5.npy (deflated 15%)\n",
            "  adding: drive_256_256_dice_bce_0_4__0_4_1/predictions_np/_04_test_8.npy (deflated 21%)\n",
            "  adding: drive_256_256_dice_bce_0_4__0_4_1/predictions_np/_08_test_0.npy (deflated 20%)\n",
            "  adding: drive_256_256_dice_bce_0_4__0_4_1/predictions_np/_19_test_5.npy (deflated 19%)\n",
            "  adding: drive_256_256_dice_bce_0_4__0_4_1/predictions_np/_07_test_6.npy (deflated 20%)\n",
            "  adding: drive_256_256_dice_bce_0_4__0_4_1/predictions_np/_07_test_5.npy (deflated 19%)\n",
            "  adding: drive_256_256_dice_bce_0_4__0_4_1/predictions_np/_17_test_5.npy (deflated 16%)\n",
            "  adding: drive_256_256_dice_bce_0_4__0_4_1/predictions_np/_09_test_7.npy (deflated 18%)\n",
            "  adding: drive_256_256_dice_bce_0_4__0_4_1/predictions_np/_19_test_0.npy (deflated 21%)\n"
          ]
        }
      ]
    },
    {
      "cell_type": "code",
      "source": [
        "!ls -ltrh\n"
      ],
      "metadata": {
        "id": "8L9ewIL3ach6",
        "colab": {
          "base_uri": "https://localhost:8080/"
        },
        "outputId": "055c2032-25ed-4291-99f7-499c0cd01c49"
      },
      "execution_count": null,
      "outputs": [
        {
          "output_type": "stream",
          "name": "stdout",
          "text": [
            "total 427M\n",
            "drwxr-xr-x  4 root root 4.0K Feb 24 05:38 logs\n",
            "drwxr-xr-x 10 root root 4.0K Feb 24 05:43 drive_256_256_dice_bce_0_4__0_4_1\n",
            "-rw-r--r--  1 root root 427M Feb 24 05:45 drive_256_256_dice_bce_0_4__0_4_1.zip\n"
          ]
        }
      ]
    },
    {
      "cell_type": "code",
      "source": [
        "!ls /content/gdrive/MyDrive/Blood_Vessel_Results/hrf_patches/"
      ],
      "metadata": {
        "colab": {
          "base_uri": "https://localhost:8080/"
        },
        "id": "HgeR9u--S9HC",
        "outputId": "670706b3-3b4c-45d8-c0ab-167c086ce8d8"
      },
      "execution_count": null,
      "outputs": [
        {
          "output_type": "stream",
          "name": "stdout",
          "text": [
            "02_g_test.png\n",
            "drive_128_128_dice_bce_0_4__0_4_1\n",
            "drive_128_128_dice_bce_0_4__0_4_1.zip\n",
            "drive_64_64_dice_bce_0_4__0_4_1\n",
            "drive_64_64_dice_bce_0_4__0_4_1.zip\n",
            "hrf_256_256_dice_loss_1\n",
            "hrf_256_256_dice_loss_1.zip\n",
            "hrf_256_256_dice_loss_hvr_1.zip\n",
            "hrf_256_256_dice_loss_hvr_2.zip\n",
            "hrf_512_256_bce_hvr_xval_10_42.zip\n",
            "hrf_512_512\n",
            "hrf_512_512_bce\n",
            "hrf_512_512_bce_1\n",
            "hrf_512_512_bce_1.zip\n",
            "hrf_512_512_bce_2\n",
            "hrf_512_512_bce_2.zip\n",
            "hrf_512_512_bce_hvr\n",
            "hrf_512_512_bce_hvr_0_3\n",
            "hrf_512_512_bce_hvr_0_33_42.zip\n",
            "hrf_512_512_bce_hvr_0_33_43\n",
            "hrf_512_512_bce_hvr_0_33_43.zip\n",
            "hrf_512_512_bce_hvr_0_3_44\n",
            "hrf_512_512_bce_hvr_0_3_44.zip\n",
            "hrf_512_512_bce_hvr_feb_3_1.zip\n",
            "hrf_512_512_bce_hvr_feb_5_1.zip\n",
            "hrf_512_512_bce_hvr_xval_2_42.zip\n",
            "hrf_512_512_bce_hvr_xval_5_42\n",
            "hrf_512_512_bce_hvr_xval_5_42_10epochs\n",
            "hrf_512_512_bce_hvr_xval_5_42.csv\n",
            "hrf_512_512_bce_hvr.zip\n",
            "hrf_512_512_bce.zip\n",
            "hrf_512_512_dice\n",
            "hrf_512_512_dice_bce\n",
            "hrf_512_512_dice_bce_0_4_2\n",
            "hrf_512_512_dice_bce_0_4_2.zip\n",
            "hrf_512_512_dice_bce_1\n",
            "hrf_512_512_dice_bce_1.zip\n",
            "hrf_512_512_dice_bce_hvr\n",
            "hrf_512_512_dice_bce_hvr_0_3_feb4.zip\n",
            "hrf_512_512_dice_bce_hvr_2.zip\n",
            "hrf_512_512_dice_bce_hvr_jan_31_2.zip\n",
            "hrf_512_512_dice_bce_hvr_jan_31.zip\n",
            "hrf_512_512_dice_bce_hvr_xval_5_42.zip\n",
            "hrf_512_512_dice_bce_hvr_xval_9_42_10epochs.zip\n",
            "hrf_512_512_dice_bce_hvr.zip\n",
            "hrf_512_512_DiceBCELoss\n",
            "hrf_512_512_dice_loss_0_4_1\n",
            "hrf_512_512_dice_loss_0_4_1.zip\n",
            "hrf_512_512_dice_loss_2\n",
            "hrf_512_512_dice_loss_2.zip\n",
            "hrf_512_512_dice_loss_3\n",
            "hrf_512_512_dice_loss_3.zip\n",
            "hrf_512_512_dice_loss_hvr_0_3_feb_3.zip\n",
            "hrf_512_512_dice_loss_hvr_0_4_feb4.zip\n",
            "hrf_512_512_dice_loss_hvr_3.zip\n",
            "hrf_512_512_dice_loss_hvr_xval_5_42.zip\n",
            "hrf_512_512_dice.zip\n",
            "hrf_512_512.zip\n",
            "hrf_768_768_bce_0_4_1\n",
            "hrf_768_768_bce_0_4_1.zip\n",
            "hrf_768_768_bce_hvr_1.zip\n",
            "hrf_768_768_dice_bce_0_4_1\n",
            "hrf_768_768_dice_bce_0_4_1.zip\n",
            "hrf_768_768_dice_bce_hvr_1.zip\n",
            "hrf_768_768_dice_loss_0_4_1\n",
            "hrf_768_768_dice_loss_0_4_1.zip\n",
            "hrf_768_768_dice_loss_hvr_2.zip\n",
            "hrf_768_768_wbce_0_4__0_3_1\n",
            "hrf_768_768_wbce_0_4__0_3_1.zip\n",
            "hrf_768_768_wbce_0_4__0_4_1\n",
            "hrf_768_768_wbce_0_4__0_4_1.zip\n",
            "hrf_768_768_wbce_0_5__0_3_1\n",
            "hrf_768_768_wbce_0_5__0_3_1.zip\n",
            "hrf_768_768_wbce_0_6__0_3_1\n",
            "hrf_768_768_wbce_0_6__0_3_1.zip\n",
            "hrf_768_768_wbce_0_6__0_4_1\n",
            "hrf_768_768_wbce_0_6__0_4_1.zip\n",
            "hrf_768_768_wbce_0_6__hvr_1.zip\n",
            "hrf_patches_512.zip\n",
            "hrf.zip\n",
            "non_overlapping_512\n",
            "split_2.zip\n"
          ]
        }
      ]
    },
    {
      "cell_type": "code",
      "source": [
        "!cp {folder_name}.zip /content/gdrive/MyDrive/Blood_Vessel_Results/hrf_patches/"
      ],
      "metadata": {
        "id": "uxv_dah3MAdT"
      },
      "execution_count": null,
      "outputs": []
    },
    {
      "cell_type": "code",
      "source": [
        "%cd /content/gdrive/MyDrive/Blood_Vessel_Results/hrf_patches/"
      ],
      "metadata": {
        "colab": {
          "base_uri": "https://localhost:8080/"
        },
        "id": "LDtPmTRvTZEg",
        "outputId": "76f51214-2e16-47fb-f7b2-2b22a7322f90"
      },
      "execution_count": null,
      "outputs": [
        {
          "output_type": "stream",
          "name": "stdout",
          "text": [
            "/content/gdrive/MyDrive/Blood_Vessel_Results/hrf_patches\n"
          ]
        }
      ]
    },
    {
      "cell_type": "code",
      "source": [
        "!pwd"
      ],
      "metadata": {
        "colab": {
          "base_uri": "https://localhost:8080/"
        },
        "id": "l9g3FzQFUzN1",
        "outputId": "78d348d0-f75e-4307-c25b-ad74c4b0ff51"
      },
      "execution_count": null,
      "outputs": [
        {
          "output_type": "stream",
          "name": "stdout",
          "text": [
            "/content/gdrive/MyDrive/Blood_Vessel_Results/hrf_patches\n"
          ]
        }
      ]
    },
    {
      "cell_type": "code",
      "source": [
        "!ls"
      ],
      "metadata": {
        "colab": {
          "base_uri": "https://localhost:8080/"
        },
        "id": "AnpquhqmU1gr",
        "outputId": "cc70250e-68d9-4616-d511-d8cd62b9e07b"
      },
      "execution_count": null,
      "outputs": [
        {
          "output_type": "stream",
          "name": "stdout",
          "text": [
            "02_g_test.png\n",
            "drive_128_128_dice_bce_0_4__0_4_1\n",
            "drive_128_128_dice_bce_0_4__0_4_1.zip\n",
            "drive_256_256_dice_bce_0_4__0_4_1.zip\n",
            "drive_64_64_dice_bce_0_4__0_4_1\n",
            "drive_64_64_dice_bce_0_4__0_4_1.zip\n",
            "hrf_256_256_dice_loss_1\n",
            "hrf_256_256_dice_loss_1.zip\n",
            "hrf_256_256_dice_loss_hvr_1.zip\n",
            "hrf_256_256_dice_loss_hvr_2.zip\n",
            "hrf_512_256_bce_hvr_xval_10_42.zip\n",
            "hrf_512_512\n",
            "hrf_512_512_bce\n",
            "hrf_512_512_bce_1\n",
            "hrf_512_512_bce_1.zip\n",
            "hrf_512_512_bce_2\n",
            "hrf_512_512_bce_2.zip\n",
            "hrf_512_512_bce_hvr\n",
            "hrf_512_512_bce_hvr_0_3\n",
            "hrf_512_512_bce_hvr_0_33_42.zip\n",
            "hrf_512_512_bce_hvr_0_33_43\n",
            "hrf_512_512_bce_hvr_0_33_43.zip\n",
            "hrf_512_512_bce_hvr_0_3_44\n",
            "hrf_512_512_bce_hvr_0_3_44.zip\n",
            "hrf_512_512_bce_hvr_feb_3_1.zip\n",
            "hrf_512_512_bce_hvr_feb_5_1.zip\n",
            "hrf_512_512_bce_hvr_xval_2_42.zip\n",
            "hrf_512_512_bce_hvr_xval_5_42\n",
            "hrf_512_512_bce_hvr_xval_5_42_10epochs\n",
            "hrf_512_512_bce_hvr_xval_5_42.csv\n",
            "hrf_512_512_bce_hvr.zip\n",
            "hrf_512_512_bce.zip\n",
            "hrf_512_512_dice\n",
            "hrf_512_512_dice_bce\n",
            "hrf_512_512_dice_bce_0_4_2\n",
            "hrf_512_512_dice_bce_0_4_2.zip\n",
            "hrf_512_512_dice_bce_1\n",
            "hrf_512_512_dice_bce_1.zip\n",
            "hrf_512_512_dice_bce_hvr\n",
            "hrf_512_512_dice_bce_hvr_0_3_feb4.zip\n",
            "hrf_512_512_dice_bce_hvr_2.zip\n",
            "hrf_512_512_dice_bce_hvr_jan_31_2.zip\n",
            "hrf_512_512_dice_bce_hvr_jan_31.zip\n",
            "hrf_512_512_dice_bce_hvr_xval_5_42.zip\n",
            "hrf_512_512_dice_bce_hvr_xval_9_42_10epochs.zip\n",
            "hrf_512_512_dice_bce_hvr.zip\n",
            "hrf_512_512_DiceBCELoss\n",
            "hrf_512_512_dice_loss_0_4_1\n",
            "hrf_512_512_dice_loss_0_4_1.zip\n",
            "hrf_512_512_dice_loss_2\n",
            "hrf_512_512_dice_loss_2.zip\n",
            "hrf_512_512_dice_loss_3\n",
            "hrf_512_512_dice_loss_3.zip\n",
            "hrf_512_512_dice_loss_hvr_0_3_feb_3.zip\n",
            "hrf_512_512_dice_loss_hvr_0_4_feb4.zip\n",
            "hrf_512_512_dice_loss_hvr_3.zip\n",
            "hrf_512_512_dice_loss_hvr_xval_5_42.zip\n",
            "hrf_512_512_dice.zip\n",
            "hrf_512_512.zip\n",
            "hrf_768_768_bce_0_4_1\n",
            "hrf_768_768_bce_0_4_1.zip\n",
            "hrf_768_768_bce_hvr_1.zip\n",
            "hrf_768_768_dice_bce_0_4_1\n",
            "hrf_768_768_dice_bce_0_4_1.zip\n",
            "hrf_768_768_dice_bce_hvr_1.zip\n",
            "hrf_768_768_dice_loss_0_4_1\n",
            "hrf_768_768_dice_loss_0_4_1.zip\n",
            "hrf_768_768_dice_loss_hvr_2.zip\n",
            "hrf_768_768_wbce_0_4__0_3_1\n",
            "hrf_768_768_wbce_0_4__0_3_1.zip\n",
            "hrf_768_768_wbce_0_4__0_4_1\n",
            "hrf_768_768_wbce_0_4__0_4_1.zip\n",
            "hrf_768_768_wbce_0_5__0_3_1\n",
            "hrf_768_768_wbce_0_5__0_3_1.zip\n",
            "hrf_768_768_wbce_0_6__0_3_1\n",
            "hrf_768_768_wbce_0_6__0_3_1.zip\n",
            "hrf_768_768_wbce_0_6__0_4_1\n",
            "hrf_768_768_wbce_0_6__0_4_1.zip\n",
            "hrf_768_768_wbce_0_6__hvr_1.zip\n",
            "hrf_patches_512.zip\n",
            "hrf.zip\n",
            "non_overlapping_512\n",
            "split_2.zip\n"
          ]
        }
      ]
    },
    {
      "cell_type": "code",
      "source": [
        "!unzip {folder_name}.zip\n"
      ],
      "metadata": {
        "colab": {
          "base_uri": "https://localhost:8080/"
        },
        "id": "QjOj2UhYTmPO",
        "outputId": "461c8f55-8f3e-46db-9c1e-e7849a2f0444"
      },
      "execution_count": null,
      "outputs": [
        {
          "output_type": "stream",
          "name": "stdout",
          "text": [
            "Archive:  drive_256_256_dice_bce_0_4__0_4_1.zip\n",
            "   creating: drive_256_256_dice_bce_0_4__0_4_1/\n",
            "   creating: drive_256_256_dice_bce_0_4__0_4_1/training/\n",
            "   creating: drive_256_256_dice_bce_0_4__0_4_1/training/1st_manual/\n",
            " extracting: drive_256_256_dice_bce_0_4__0_4_1/training/1st_manual/31_manual1.gif  \n",
            " extracting: drive_256_256_dice_bce_0_4__0_4_1/training/1st_manual/22_manual1.gif  \n",
            " extracting: drive_256_256_dice_bce_0_4__0_4_1/training/1st_manual/23_manual1.gif  \n",
            " extracting: drive_256_256_dice_bce_0_4__0_4_1/training/1st_manual/24_manual1.gif  \n",
            " extracting: drive_256_256_dice_bce_0_4__0_4_1/training/1st_manual/32_manual1.gif  \n",
            " extracting: drive_256_256_dice_bce_0_4__0_4_1/training/1st_manual/40_manual1.gif  \n",
            " extracting: drive_256_256_dice_bce_0_4__0_4_1/training/1st_manual/27_manual1.gif  \n",
            " extracting: drive_256_256_dice_bce_0_4__0_4_1/training/1st_manual/34_manual1.gif  \n",
            " extracting: drive_256_256_dice_bce_0_4__0_4_1/training/1st_manual/38_manual1.gif  \n",
            " extracting: drive_256_256_dice_bce_0_4__0_4_1/training/1st_manual/29_manual1.gif  \n",
            " extracting: drive_256_256_dice_bce_0_4__0_4_1/training/1st_manual/25_manual1.gif  \n",
            " extracting: drive_256_256_dice_bce_0_4__0_4_1/training/1st_manual/33_manual1.gif  \n",
            " extracting: drive_256_256_dice_bce_0_4__0_4_1/training/1st_manual/37_manual1.gif  \n",
            " extracting: drive_256_256_dice_bce_0_4__0_4_1/training/1st_manual/39_manual1.gif  \n",
            " extracting: drive_256_256_dice_bce_0_4__0_4_1/training/1st_manual/21_manual1.gif  \n",
            " extracting: drive_256_256_dice_bce_0_4__0_4_1/training/1st_manual/36_manual1.gif  \n",
            " extracting: drive_256_256_dice_bce_0_4__0_4_1/training/1st_manual/35_manual1.gif  \n",
            " extracting: drive_256_256_dice_bce_0_4__0_4_1/training/1st_manual/30_manual1.gif  \n",
            " extracting: drive_256_256_dice_bce_0_4__0_4_1/training/1st_manual/28_manual1.gif  \n",
            " extracting: drive_256_256_dice_bce_0_4__0_4_1/training/1st_manual/26_manual1.gif  \n",
            "   creating: drive_256_256_dice_bce_0_4__0_4_1/training/images/\n",
            "  inflating: drive_256_256_dice_bce_0_4__0_4_1/training/images/21_training.tif  \n",
            "  inflating: drive_256_256_dice_bce_0_4__0_4_1/training/images/27_training.tif  \n",
            "  inflating: drive_256_256_dice_bce_0_4__0_4_1/training/images/24_training.tif  \n",
            "  inflating: drive_256_256_dice_bce_0_4__0_4_1/training/images/23_training.tif  \n",
            "  inflating: drive_256_256_dice_bce_0_4__0_4_1/training/images/40_training.tif  \n",
            "  inflating: drive_256_256_dice_bce_0_4__0_4_1/training/images/33_training.tif  \n",
            "  inflating: drive_256_256_dice_bce_0_4__0_4_1/training/images/35_training.tif  \n",
            "  inflating: drive_256_256_dice_bce_0_4__0_4_1/training/images/26_training.tif  \n",
            "  inflating: drive_256_256_dice_bce_0_4__0_4_1/training/images/29_training.tif  \n",
            "  inflating: drive_256_256_dice_bce_0_4__0_4_1/training/images/22_training.tif  \n",
            "  inflating: drive_256_256_dice_bce_0_4__0_4_1/training/images/37_training.tif  \n",
            "  inflating: drive_256_256_dice_bce_0_4__0_4_1/training/images/32_training.tif  \n",
            "  inflating: drive_256_256_dice_bce_0_4__0_4_1/training/images/38_training.tif  \n",
            "  inflating: drive_256_256_dice_bce_0_4__0_4_1/training/images/31_training.tif  \n",
            "  inflating: drive_256_256_dice_bce_0_4__0_4_1/training/images/28_training.tif  \n",
            "  inflating: drive_256_256_dice_bce_0_4__0_4_1/training/images/30_training.tif  \n",
            "  inflating: drive_256_256_dice_bce_0_4__0_4_1/training/images/36_training.tif  \n",
            "  inflating: drive_256_256_dice_bce_0_4__0_4_1/training/images/34_training.tif  \n",
            "  inflating: drive_256_256_dice_bce_0_4__0_4_1/training/images/39_training.tif  \n",
            "  inflating: drive_256_256_dice_bce_0_4__0_4_1/training/images/25_training.tif  \n",
            "   creating: drive_256_256_dice_bce_0_4__0_4_1/trained_models/\n",
            "  inflating: drive_256_256_dice_bce_0_4__0_4_1/trained_models/model.h5  \n",
            "  inflating: drive_256_256_dice_bce_0_4__0_4_1/trained_models/data.csv  \n",
            "   creating: drive_256_256_dice_bce_0_4__0_4_1/predictions/\n",
            "  inflating: drive_256_256_dice_bce_0_4__0_4_1/predictions/_09_test_2.png  \n",
            "  inflating: drive_256_256_dice_bce_0_4__0_4_1/predictions/_06_test_2.png  \n",
            "  inflating: drive_256_256_dice_bce_0_4__0_4_1/predictions/_07_test_5.png  \n",
            "  inflating: drive_256_256_dice_bce_0_4__0_4_1/predictions/_10_test_4.png  \n",
            "  inflating: drive_256_256_dice_bce_0_4__0_4_1/predictions/_03_test_6.png  \n",
            "  inflating: drive_256_256_dice_bce_0_4__0_4_1/predictions/_15_test_0.png  \n",
            "  inflating: drive_256_256_dice_bce_0_4__0_4_1/predictions/_03_test_2.png  \n",
            "  inflating: drive_256_256_dice_bce_0_4__0_4_1/predictions/_16_test_7.png  \n",
            "  inflating: drive_256_256_dice_bce_0_4__0_4_1/predictions/_11_test_8.png  \n",
            "  inflating: drive_256_256_dice_bce_0_4__0_4_1/predictions/_11_test_5.png  \n",
            "  inflating: drive_256_256_dice_bce_0_4__0_4_1/predictions/_10_test_5.png  \n",
            "  inflating: drive_256_256_dice_bce_0_4__0_4_1/predictions/_06_test_8.png  \n",
            "  inflating: drive_256_256_dice_bce_0_4__0_4_1/predictions/_02_test_7.png  \n",
            "  inflating: drive_256_256_dice_bce_0_4__0_4_1/predictions/_14_test_0.png  \n",
            "  inflating: drive_256_256_dice_bce_0_4__0_4_1/predictions/_18_test_7.png  \n",
            "  inflating: drive_256_256_dice_bce_0_4__0_4_1/predictions/_09_test_5.png  \n",
            "  inflating: drive_256_256_dice_bce_0_4__0_4_1/predictions/_15_test_3.png  \n",
            "  inflating: drive_256_256_dice_bce_0_4__0_4_1/predictions/_03_test_0.png  \n",
            "  inflating: drive_256_256_dice_bce_0_4__0_4_1/predictions/_02_test_0.png  \n",
            "  inflating: drive_256_256_dice_bce_0_4__0_4_1/predictions/_20_test_3.png  \n",
            "  inflating: drive_256_256_dice_bce_0_4__0_4_1/predictions/_09_test_3.png  \n",
            "  inflating: drive_256_256_dice_bce_0_4__0_4_1/predictions/_01_test_7.png  \n",
            "  inflating: drive_256_256_dice_bce_0_4__0_4_1/predictions/_03_test_5.png  \n",
            "  inflating: drive_256_256_dice_bce_0_4__0_4_1/predictions/_01_test_5.png  \n",
            "  inflating: drive_256_256_dice_bce_0_4__0_4_1/predictions/_12_test_7.png  \n",
            "  inflating: drive_256_256_dice_bce_0_4__0_4_1/predictions/_16_test_4.png  \n",
            "  inflating: drive_256_256_dice_bce_0_4__0_4_1/predictions/_12_test_4.png  \n",
            "  inflating: drive_256_256_dice_bce_0_4__0_4_1/predictions/_20_test_1.png  \n",
            "  inflating: drive_256_256_dice_bce_0_4__0_4_1/predictions/_13_test_7.png  \n",
            "  inflating: drive_256_256_dice_bce_0_4__0_4_1/predictions/_07_test_3.png  \n",
            "  inflating: drive_256_256_dice_bce_0_4__0_4_1/predictions/_12_test_8.png  \n",
            "  inflating: drive_256_256_dice_bce_0_4__0_4_1/predictions/_08_test_3.png  \n",
            "  inflating: drive_256_256_dice_bce_0_4__0_4_1/predictions/_12_test_2.png  \n",
            "  inflating: drive_256_256_dice_bce_0_4__0_4_1/predictions/_11_test_2.png  \n",
            "  inflating: drive_256_256_dice_bce_0_4__0_4_1/predictions/_09_test_0.png  \n",
            "  inflating: drive_256_256_dice_bce_0_4__0_4_1/predictions/_05_test_0.png  \n",
            "  inflating: drive_256_256_dice_bce_0_4__0_4_1/predictions/_19_test_4.png  \n",
            "  inflating: drive_256_256_dice_bce_0_4__0_4_1/predictions/_15_test_4.png  \n",
            "  inflating: drive_256_256_dice_bce_0_4__0_4_1/predictions/_03_test_3.png  \n",
            "  inflating: drive_256_256_dice_bce_0_4__0_4_1/predictions/_17_test_4.png  \n",
            "  inflating: drive_256_256_dice_bce_0_4__0_4_1/predictions/_17_test_2.png  \n",
            "  inflating: drive_256_256_dice_bce_0_4__0_4_1/predictions/_13_test_1.png  \n",
            "  inflating: drive_256_256_dice_bce_0_4__0_4_1/predictions/_15_test_1.png  \n",
            "  inflating: drive_256_256_dice_bce_0_4__0_4_1/predictions/_11_test_6.png  \n",
            "  inflating: drive_256_256_dice_bce_0_4__0_4_1/predictions/_17_test_8.png  \n",
            "  inflating: drive_256_256_dice_bce_0_4__0_4_1/predictions/_05_test_3.png  \n",
            "  inflating: drive_256_256_dice_bce_0_4__0_4_1/predictions/_14_test_8.png  \n",
            "  inflating: drive_256_256_dice_bce_0_4__0_4_1/predictions/_17_test_3.png  \n",
            "  inflating: drive_256_256_dice_bce_0_4__0_4_1/predictions/_20_test_6.png  \n",
            "  inflating: drive_256_256_dice_bce_0_4__0_4_1/predictions/_20_test_7.png  \n",
            "  inflating: drive_256_256_dice_bce_0_4__0_4_1/predictions/_07_test_2.png  \n",
            "  inflating: drive_256_256_dice_bce_0_4__0_4_1/predictions/_19_test_2.png  \n",
            "  inflating: drive_256_256_dice_bce_0_4__0_4_1/predictions/_07_test_1.png  \n",
            "  inflating: drive_256_256_dice_bce_0_4__0_4_1/predictions/_07_test_7.png  \n",
            "  inflating: drive_256_256_dice_bce_0_4__0_4_1/predictions/_04_test_0.png  \n",
            "  inflating: drive_256_256_dice_bce_0_4__0_4_1/predictions/_19_test_3.png  \n",
            "  inflating: drive_256_256_dice_bce_0_4__0_4_1/predictions/_15_test_5.png  \n",
            "  inflating: drive_256_256_dice_bce_0_4__0_4_1/predictions/_13_test_3.png  \n",
            "  inflating: drive_256_256_dice_bce_0_4__0_4_1/predictions/_20_test_0.png  \n",
            "  inflating: drive_256_256_dice_bce_0_4__0_4_1/predictions/_03_test_7.png  \n",
            "  inflating: drive_256_256_dice_bce_0_4__0_4_1/predictions/_10_test_8.png  \n",
            "  inflating: drive_256_256_dice_bce_0_4__0_4_1/predictions/_04_test_2.png  \n",
            "  inflating: drive_256_256_dice_bce_0_4__0_4_1/predictions/_02_test_1.png  \n",
            "  inflating: drive_256_256_dice_bce_0_4__0_4_1/predictions/_07_test_4.png  \n",
            "  inflating: drive_256_256_dice_bce_0_4__0_4_1/predictions/_16_test_6.png  \n",
            "  inflating: drive_256_256_dice_bce_0_4__0_4_1/predictions/_18_test_6.png  \n",
            "  inflating: drive_256_256_dice_bce_0_4__0_4_1/predictions/_16_test_0.png  \n",
            "  inflating: drive_256_256_dice_bce_0_4__0_4_1/predictions/_06_test_5.png  \n",
            "  inflating: drive_256_256_dice_bce_0_4__0_4_1/predictions/_02_test_8.png  \n",
            "  inflating: drive_256_256_dice_bce_0_4__0_4_1/predictions/_07_test_0.png  \n",
            "  inflating: drive_256_256_dice_bce_0_4__0_4_1/predictions/_10_test_2.png  \n",
            "  inflating: drive_256_256_dice_bce_0_4__0_4_1/predictions/_12_test_5.png  \n",
            "  inflating: drive_256_256_dice_bce_0_4__0_4_1/predictions/_09_test_6.png  \n",
            "  inflating: drive_256_256_dice_bce_0_4__0_4_1/predictions/_10_test_7.png  \n",
            "  inflating: drive_256_256_dice_bce_0_4__0_4_1/predictions/_18_test_3.png  \n",
            "  inflating: drive_256_256_dice_bce_0_4__0_4_1/predictions/_16_test_5.png  \n",
            "  inflating: drive_256_256_dice_bce_0_4__0_4_1/predictions/_20_test_8.png  \n",
            "  inflating: drive_256_256_dice_bce_0_4__0_4_1/predictions/_04_test_3.png  \n",
            "  inflating: drive_256_256_dice_bce_0_4__0_4_1/predictions/_02_test_5.png  \n",
            "  inflating: drive_256_256_dice_bce_0_4__0_4_1/predictions/_14_test_7.png  \n",
            "  inflating: drive_256_256_dice_bce_0_4__0_4_1/predictions/_08_test_0.png  \n",
            "  inflating: drive_256_256_dice_bce_0_4__0_4_1/predictions/_13_test_8.png  \n",
            "  inflating: drive_256_256_dice_bce_0_4__0_4_1/predictions/_18_test_4.png  \n",
            "  inflating: drive_256_256_dice_bce_0_4__0_4_1/predictions/_14_test_6.png  \n",
            "  inflating: drive_256_256_dice_bce_0_4__0_4_1/predictions/_08_test_1.png  \n",
            "  inflating: drive_256_256_dice_bce_0_4__0_4_1/predictions/_01_test_3.png  \n",
            "  inflating: drive_256_256_dice_bce_0_4__0_4_1/predictions/_11_test_3.png  \n",
            "  inflating: drive_256_256_dice_bce_0_4__0_4_1/predictions/_10_test_0.png  \n",
            "  inflating: drive_256_256_dice_bce_0_4__0_4_1/predictions/_16_test_3.png  \n",
            "  inflating: drive_256_256_dice_bce_0_4__0_4_1/predictions/_04_test_1.png  \n",
            "  inflating: drive_256_256_dice_bce_0_4__0_4_1/predictions/_17_test_1.png  \n",
            "  inflating: drive_256_256_dice_bce_0_4__0_4_1/predictions/_08_test_2.png  \n",
            "  inflating: drive_256_256_dice_bce_0_4__0_4_1/predictions/_04_test_6.png  \n",
            "  inflating: drive_256_256_dice_bce_0_4__0_4_1/predictions/_13_test_6.png  \n",
            "  inflating: drive_256_256_dice_bce_0_4__0_4_1/predictions/_18_test_5.png  \n",
            "  inflating: drive_256_256_dice_bce_0_4__0_4_1/predictions/_18_test_1.png  \n",
            "  inflating: drive_256_256_dice_bce_0_4__0_4_1/predictions/_16_test_2.png  \n",
            "  inflating: drive_256_256_dice_bce_0_4__0_4_1/predictions/_13_test_5.png  \n",
            "  inflating: drive_256_256_dice_bce_0_4__0_4_1/predictions/_15_test_7.png  \n",
            "  inflating: drive_256_256_dice_bce_0_4__0_4_1/predictions/_09_test_8.png  \n",
            "  inflating: drive_256_256_dice_bce_0_4__0_4_1/predictions/_19_test_0.png  \n",
            "  inflating: drive_256_256_dice_bce_0_4__0_4_1/predictions/_14_test_5.png  \n",
            "  inflating: drive_256_256_dice_bce_0_4__0_4_1/predictions/_11_test_4.png  \n",
            "  inflating: drive_256_256_dice_bce_0_4__0_4_1/predictions/_17_test_7.png  \n",
            "  inflating: drive_256_256_dice_bce_0_4__0_4_1/predictions/_04_test_5.png  \n",
            "  inflating: drive_256_256_dice_bce_0_4__0_4_1/predictions/_16_test_8.png  \n",
            "  inflating: drive_256_256_dice_bce_0_4__0_4_1/predictions/_18_test_0.png  \n",
            "  inflating: drive_256_256_dice_bce_0_4__0_4_1/predictions/_02_test_3.png  \n",
            "  inflating: drive_256_256_dice_bce_0_4__0_4_1/predictions/_01_test_4.png  \n",
            "  inflating: drive_256_256_dice_bce_0_4__0_4_1/predictions/_18_test_2.png  \n",
            "  inflating: drive_256_256_dice_bce_0_4__0_4_1/predictions/_03_test_4.png  \n",
            "  inflating: drive_256_256_dice_bce_0_4__0_4_1/predictions/_08_test_8.png  \n",
            "  inflating: drive_256_256_dice_bce_0_4__0_4_1/predictions/_16_test_1.png  \n",
            "  inflating: drive_256_256_dice_bce_0_4__0_4_1/predictions/_09_test_7.png  \n",
            "  inflating: drive_256_256_dice_bce_0_4__0_4_1/predictions/_11_test_1.png  \n",
            "  inflating: drive_256_256_dice_bce_0_4__0_4_1/predictions/_01_test_0.png  \n",
            "  inflating: drive_256_256_dice_bce_0_4__0_4_1/predictions/_08_test_5.png  \n",
            "  inflating: drive_256_256_dice_bce_0_4__0_4_1/predictions/_15_test_6.png  \n",
            "  inflating: drive_256_256_dice_bce_0_4__0_4_1/predictions/_05_test_6.png  \n",
            "  inflating: drive_256_256_dice_bce_0_4__0_4_1/predictions/_01_test_8.png  \n",
            "  inflating: drive_256_256_dice_bce_0_4__0_4_1/predictions/_13_test_0.png  \n",
            "  inflating: drive_256_256_dice_bce_0_4__0_4_1/predictions/_20_test_5.png  \n",
            "  inflating: drive_256_256_dice_bce_0_4__0_4_1/predictions/_17_test_0.png  \n",
            "  inflating: drive_256_256_dice_bce_0_4__0_4_1/predictions/_19_test_5.png  \n",
            "  inflating: drive_256_256_dice_bce_0_4__0_4_1/predictions/_11_test_0.png  \n",
            "  inflating: drive_256_256_dice_bce_0_4__0_4_1/predictions/_19_test_1.png  \n",
            "  inflating: drive_256_256_dice_bce_0_4__0_4_1/predictions/_01_test_6.png  \n",
            "  inflating: drive_256_256_dice_bce_0_4__0_4_1/predictions/_06_test_3.png  \n",
            "  inflating: drive_256_256_dice_bce_0_4__0_4_1/predictions/_10_test_3.png  \n",
            "  inflating: drive_256_256_dice_bce_0_4__0_4_1/predictions/_17_test_5.png  \n",
            "  inflating: drive_256_256_dice_bce_0_4__0_4_1/predictions/_02_test_6.png  \n",
            "  inflating: drive_256_256_dice_bce_0_4__0_4_1/predictions/_04_test_8.png  \n",
            "  inflating: drive_256_256_dice_bce_0_4__0_4_1/predictions/_13_test_4.png  \n",
            "  inflating: drive_256_256_dice_bce_0_4__0_4_1/predictions/_09_test_4.png  \n",
            "  inflating: drive_256_256_dice_bce_0_4__0_4_1/predictions/_17_test_6.png  \n",
            "  inflating: drive_256_256_dice_bce_0_4__0_4_1/predictions/_14_test_1.png  \n",
            "  inflating: drive_256_256_dice_bce_0_4__0_4_1/predictions/_02_test_2.png  \n",
            "  inflating: drive_256_256_dice_bce_0_4__0_4_1/predictions/_19_test_7.png  \n",
            "  inflating: drive_256_256_dice_bce_0_4__0_4_1/predictions/_19_test_6.png  \n",
            "  inflating: drive_256_256_dice_bce_0_4__0_4_1/predictions/_20_test_2.png  \n",
            "  inflating: drive_256_256_dice_bce_0_4__0_4_1/predictions/_10_test_1.png  \n",
            "  inflating: drive_256_256_dice_bce_0_4__0_4_1/predictions/_05_test_7.png  \n",
            "  inflating: drive_256_256_dice_bce_0_4__0_4_1/predictions/_06_test_1.png  \n",
            "  inflating: drive_256_256_dice_bce_0_4__0_4_1/predictions/_08_test_6.png  \n",
            "  inflating: drive_256_256_dice_bce_0_4__0_4_1/predictions/_06_test_6.png  \n",
            "  inflating: drive_256_256_dice_bce_0_4__0_4_1/predictions/_06_test_7.png  \n",
            "  inflating: drive_256_256_dice_bce_0_4__0_4_1/predictions/_19_test_8.png  \n",
            "  inflating: drive_256_256_dice_bce_0_4__0_4_1/predictions/_13_test_2.png  \n",
            "  inflating: drive_256_256_dice_bce_0_4__0_4_1/predictions/_03_test_1.png  \n",
            "  inflating: drive_256_256_dice_bce_0_4__0_4_1/predictions/_06_test_0.png  \n",
            "  inflating: drive_256_256_dice_bce_0_4__0_4_1/predictions/_15_test_2.png  \n",
            "  inflating: drive_256_256_dice_bce_0_4__0_4_1/predictions/_15_test_8.png  \n",
            "  inflating: drive_256_256_dice_bce_0_4__0_4_1/predictions/_05_test_4.png  \n",
            "  inflating: drive_256_256_dice_bce_0_4__0_4_1/predictions/_05_test_8.png  \n",
            "  inflating: drive_256_256_dice_bce_0_4__0_4_1/predictions/_12_test_0.png  \n",
            "  inflating: drive_256_256_dice_bce_0_4__0_4_1/predictions/_20_test_4.png  \n",
            "  inflating: drive_256_256_dice_bce_0_4__0_4_1/predictions/_05_test_5.png  \n",
            "  inflating: drive_256_256_dice_bce_0_4__0_4_1/predictions/_04_test_4.png  \n",
            "  inflating: drive_256_256_dice_bce_0_4__0_4_1/predictions/_12_test_1.png  \n",
            "  inflating: drive_256_256_dice_bce_0_4__0_4_1/predictions/_07_test_8.png  \n",
            "  inflating: drive_256_256_dice_bce_0_4__0_4_1/predictions/_03_test_8.png  \n",
            "  inflating: drive_256_256_dice_bce_0_4__0_4_1/predictions/_09_test_1.png  \n",
            "  inflating: drive_256_256_dice_bce_0_4__0_4_1/predictions/_12_test_6.png  \n",
            "  inflating: drive_256_256_dice_bce_0_4__0_4_1/predictions/_05_test_1.png  \n",
            "  inflating: drive_256_256_dice_bce_0_4__0_4_1/predictions/_11_test_7.png  \n",
            "  inflating: drive_256_256_dice_bce_0_4__0_4_1/predictions/_02_test_4.png  \n",
            "  inflating: drive_256_256_dice_bce_0_4__0_4_1/predictions/_08_test_7.png  \n",
            "  inflating: drive_256_256_dice_bce_0_4__0_4_1/predictions/_12_test_3.png  \n",
            "  inflating: drive_256_256_dice_bce_0_4__0_4_1/predictions/_01_test_1.png  \n",
            "  inflating: drive_256_256_dice_bce_0_4__0_4_1/predictions/_14_test_2.png  \n",
            "  inflating: drive_256_256_dice_bce_0_4__0_4_1/predictions/_14_test_3.png  \n",
            "  inflating: drive_256_256_dice_bce_0_4__0_4_1/predictions/_07_test_6.png  \n",
            "  inflating: drive_256_256_dice_bce_0_4__0_4_1/predictions/_14_test_4.png  \n",
            "  inflating: drive_256_256_dice_bce_0_4__0_4_1/predictions/_08_test_4.png  \n",
            "  inflating: drive_256_256_dice_bce_0_4__0_4_1/predictions/_01_test_2.png  \n",
            "  inflating: drive_256_256_dice_bce_0_4__0_4_1/predictions/_10_test_6.png  \n",
            "  inflating: drive_256_256_dice_bce_0_4__0_4_1/predictions/_05_test_2.png  \n",
            "  inflating: drive_256_256_dice_bce_0_4__0_4_1/predictions/_06_test_4.png  \n",
            "  inflating: drive_256_256_dice_bce_0_4__0_4_1/predictions/_18_test_8.png  \n",
            "  inflating: drive_256_256_dice_bce_0_4__0_4_1/predictions/_04_test_7.png  \n",
            "   creating: drive_256_256_dice_bce_0_4__0_4_1/split_2/\n",
            "   creating: drive_256_256_dice_bce_0_4__0_4_1/split_2/reconstructed/\n",
            "   creating: drive_256_256_dice_bce_0_4__0_4_1/split_2/reconstructed/test/\n",
            "   creating: drive_256_256_dice_bce_0_4__0_4_1/split_2/reconstructed/test/mask/\n",
            "  inflating: drive_256_256_dice_bce_0_4__0_4_1/split_2/reconstructed/test/mask/15_test.png  \n",
            "  inflating: drive_256_256_dice_bce_0_4__0_4_1/split_2/reconstructed/test/mask/03_test.png  \n",
            "  inflating: drive_256_256_dice_bce_0_4__0_4_1/split_2/reconstructed/test/mask/06_test.png  \n",
            "  inflating: drive_256_256_dice_bce_0_4__0_4_1/split_2/reconstructed/test/mask/18_test.png  \n",
            "  inflating: drive_256_256_dice_bce_0_4__0_4_1/split_2/reconstructed/test/mask/10_test.png  \n",
            "  inflating: drive_256_256_dice_bce_0_4__0_4_1/split_2/reconstructed/test/mask/17_test.png  \n",
            "  inflating: drive_256_256_dice_bce_0_4__0_4_1/split_2/reconstructed/test/mask/20_test.png  \n",
            "  inflating: drive_256_256_dice_bce_0_4__0_4_1/split_2/reconstructed/test/mask/04_test.png  \n",
            "  inflating: drive_256_256_dice_bce_0_4__0_4_1/split_2/reconstructed/test/mask/14_test.png  \n",
            "  inflating: drive_256_256_dice_bce_0_4__0_4_1/split_2/reconstructed/test/mask/09_test.png  \n",
            "  inflating: drive_256_256_dice_bce_0_4__0_4_1/split_2/reconstructed/test/mask/12_test.png  \n",
            "  inflating: drive_256_256_dice_bce_0_4__0_4_1/split_2/reconstructed/test/mask/05_test.png  \n",
            "  inflating: drive_256_256_dice_bce_0_4__0_4_1/split_2/reconstructed/test/mask/11_test.png  \n",
            "  inflating: drive_256_256_dice_bce_0_4__0_4_1/split_2/reconstructed/test/mask/07_test.png  \n",
            "  inflating: drive_256_256_dice_bce_0_4__0_4_1/split_2/reconstructed/test/mask/16_test.png  \n",
            "  inflating: drive_256_256_dice_bce_0_4__0_4_1/split_2/reconstructed/test/mask/19_test.png  \n",
            "  inflating: drive_256_256_dice_bce_0_4__0_4_1/split_2/reconstructed/test/mask/01_test.png  \n",
            "  inflating: drive_256_256_dice_bce_0_4__0_4_1/split_2/reconstructed/test/mask/02_test.png  \n",
            "  inflating: drive_256_256_dice_bce_0_4__0_4_1/split_2/reconstructed/test/mask/13_test.png  \n",
            "  inflating: drive_256_256_dice_bce_0_4__0_4_1/split_2/reconstructed/test/mask/08_test.png  \n",
            "   creating: drive_256_256_dice_bce_0_4__0_4_1/split_2/reconstructed/test/predictions_reconstructed/\n",
            "  inflating: drive_256_256_dice_bce_0_4__0_4_1/split_2/reconstructed/test/predictions_reconstructed/15_test.png  \n",
            "  inflating: drive_256_256_dice_bce_0_4__0_4_1/split_2/reconstructed/test/predictions_reconstructed/03_test.png  \n",
            "  inflating: drive_256_256_dice_bce_0_4__0_4_1/split_2/reconstructed/test/predictions_reconstructed/06_test.png  \n",
            "  inflating: drive_256_256_dice_bce_0_4__0_4_1/split_2/reconstructed/test/predictions_reconstructed/18_test.png  \n",
            "  inflating: drive_256_256_dice_bce_0_4__0_4_1/split_2/reconstructed/test/predictions_reconstructed/10_test.png  \n",
            "  inflating: drive_256_256_dice_bce_0_4__0_4_1/split_2/reconstructed/test/predictions_reconstructed/17_test.png  \n",
            "  inflating: drive_256_256_dice_bce_0_4__0_4_1/split_2/reconstructed/test/predictions_reconstructed/20_test.png  \n",
            "  inflating: drive_256_256_dice_bce_0_4__0_4_1/split_2/reconstructed/test/predictions_reconstructed/04_test.png  \n",
            "  inflating: drive_256_256_dice_bce_0_4__0_4_1/split_2/reconstructed/test/predictions_reconstructed/14_test.png  \n",
            "  inflating: drive_256_256_dice_bce_0_4__0_4_1/split_2/reconstructed/test/predictions_reconstructed/09_test.png  \n",
            "  inflating: drive_256_256_dice_bce_0_4__0_4_1/split_2/reconstructed/test/predictions_reconstructed/12_test.png  \n",
            "  inflating: drive_256_256_dice_bce_0_4__0_4_1/split_2/reconstructed/test/predictions_reconstructed/05_test.png  \n",
            "  inflating: drive_256_256_dice_bce_0_4__0_4_1/split_2/reconstructed/test/predictions_reconstructed/11_test.png  \n",
            "  inflating: drive_256_256_dice_bce_0_4__0_4_1/split_2/reconstructed/test/predictions_reconstructed/07_test.png  \n",
            "  inflating: drive_256_256_dice_bce_0_4__0_4_1/split_2/reconstructed/test/predictions_reconstructed/16_test.png  \n",
            "  inflating: drive_256_256_dice_bce_0_4__0_4_1/split_2/reconstructed/test/predictions_reconstructed/19_test.png  \n",
            "  inflating: drive_256_256_dice_bce_0_4__0_4_1/split_2/reconstructed/test/predictions_reconstructed/01_test.png  \n",
            "  inflating: drive_256_256_dice_bce_0_4__0_4_1/split_2/reconstructed/test/predictions_reconstructed/02_test.png  \n",
            "  inflating: drive_256_256_dice_bce_0_4__0_4_1/split_2/reconstructed/test/predictions_reconstructed/13_test.png  \n",
            "  inflating: drive_256_256_dice_bce_0_4__0_4_1/split_2/reconstructed/test/predictions_reconstructed/08_test.png  \n",
            "   creating: drive_256_256_dice_bce_0_4__0_4_1/split_2/reconstructed/test/image/\n",
            "  inflating: drive_256_256_dice_bce_0_4__0_4_1/split_2/reconstructed/test/image/15_test.png  \n",
            "  inflating: drive_256_256_dice_bce_0_4__0_4_1/split_2/reconstructed/test/image/03_test.png  \n",
            "  inflating: drive_256_256_dice_bce_0_4__0_4_1/split_2/reconstructed/test/image/06_test.png  \n",
            "  inflating: drive_256_256_dice_bce_0_4__0_4_1/split_2/reconstructed/test/image/18_test.png  \n",
            "  inflating: drive_256_256_dice_bce_0_4__0_4_1/split_2/reconstructed/test/image/10_test.png  \n",
            "  inflating: drive_256_256_dice_bce_0_4__0_4_1/split_2/reconstructed/test/image/17_test.png  \n",
            "  inflating: drive_256_256_dice_bce_0_4__0_4_1/split_2/reconstructed/test/image/20_test.png  \n",
            "  inflating: drive_256_256_dice_bce_0_4__0_4_1/split_2/reconstructed/test/image/04_test.png  \n",
            "  inflating: drive_256_256_dice_bce_0_4__0_4_1/split_2/reconstructed/test/image/14_test.png  \n",
            "  inflating: drive_256_256_dice_bce_0_4__0_4_1/split_2/reconstructed/test/image/09_test.png  \n",
            "  inflating: drive_256_256_dice_bce_0_4__0_4_1/split_2/reconstructed/test/image/12_test.png  \n",
            "  inflating: drive_256_256_dice_bce_0_4__0_4_1/split_2/reconstructed/test/image/05_test.png  \n",
            "  inflating: drive_256_256_dice_bce_0_4__0_4_1/split_2/reconstructed/test/image/11_test.png  \n",
            "  inflating: drive_256_256_dice_bce_0_4__0_4_1/split_2/reconstructed/test/image/07_test.png  \n",
            "  inflating: drive_256_256_dice_bce_0_4__0_4_1/split_2/reconstructed/test/image/16_test.png  \n",
            "  inflating: drive_256_256_dice_bce_0_4__0_4_1/split_2/reconstructed/test/image/19_test.png  \n",
            "  inflating: drive_256_256_dice_bce_0_4__0_4_1/split_2/reconstructed/test/image/01_test.png  \n",
            "  inflating: drive_256_256_dice_bce_0_4__0_4_1/split_2/reconstructed/test/image/02_test.png  \n",
            "  inflating: drive_256_256_dice_bce_0_4__0_4_1/split_2/reconstructed/test/image/13_test.png  \n",
            "  inflating: drive_256_256_dice_bce_0_4__0_4_1/split_2/reconstructed/test/image/08_test.png  \n",
            "  inflating: drive_256_256_dice_bce_0_4__0_4_1/split_2/image_patches_256_256_test.csv  \n",
            "   creating: drive_256_256_dice_bce_0_4__0_4_1/split_2/test/\n",
            "   creating: drive_256_256_dice_bce_0_4__0_4_1/split_2/test/mask/\n",
            "  inflating: drive_256_256_dice_bce_0_4__0_4_1/split_2/test/mask/_09_test_2.png  \n",
            "  inflating: drive_256_256_dice_bce_0_4__0_4_1/split_2/test/mask/_06_test_2.png  \n",
            "  inflating: drive_256_256_dice_bce_0_4__0_4_1/split_2/test/mask/_07_test_5.png  \n",
            "  inflating: drive_256_256_dice_bce_0_4__0_4_1/split_2/test/mask/_10_test_4.png  \n",
            "  inflating: drive_256_256_dice_bce_0_4__0_4_1/split_2/test/mask/_03_test_6.png  \n",
            "  inflating: drive_256_256_dice_bce_0_4__0_4_1/split_2/test/mask/_15_test_0.png  \n",
            "  inflating: drive_256_256_dice_bce_0_4__0_4_1/split_2/test/mask/_03_test_2.png  \n",
            "  inflating: drive_256_256_dice_bce_0_4__0_4_1/split_2/test/mask/_16_test_7.png  \n",
            "  inflating: drive_256_256_dice_bce_0_4__0_4_1/split_2/test/mask/_11_test_8.png  \n",
            "  inflating: drive_256_256_dice_bce_0_4__0_4_1/split_2/test/mask/_11_test_5.png  \n",
            "  inflating: drive_256_256_dice_bce_0_4__0_4_1/split_2/test/mask/_10_test_5.png  \n",
            "  inflating: drive_256_256_dice_bce_0_4__0_4_1/split_2/test/mask/_06_test_8.png  \n",
            "  inflating: drive_256_256_dice_bce_0_4__0_4_1/split_2/test/mask/_02_test_7.png  \n",
            "  inflating: drive_256_256_dice_bce_0_4__0_4_1/split_2/test/mask/_14_test_0.png  \n",
            "  inflating: drive_256_256_dice_bce_0_4__0_4_1/split_2/test/mask/_18_test_7.png  \n",
            "  inflating: drive_256_256_dice_bce_0_4__0_4_1/split_2/test/mask/_09_test_5.png  \n",
            "  inflating: drive_256_256_dice_bce_0_4__0_4_1/split_2/test/mask/_15_test_3.png  \n",
            "  inflating: drive_256_256_dice_bce_0_4__0_4_1/split_2/test/mask/_03_test_0.png  \n",
            "  inflating: drive_256_256_dice_bce_0_4__0_4_1/split_2/test/mask/_02_test_0.png  \n",
            "  inflating: drive_256_256_dice_bce_0_4__0_4_1/split_2/test/mask/_20_test_3.png  \n",
            "  inflating: drive_256_256_dice_bce_0_4__0_4_1/split_2/test/mask/_09_test_3.png  \n",
            "  inflating: drive_256_256_dice_bce_0_4__0_4_1/split_2/test/mask/_01_test_7.png  \n",
            "  inflating: drive_256_256_dice_bce_0_4__0_4_1/split_2/test/mask/_03_test_5.png  \n",
            "  inflating: drive_256_256_dice_bce_0_4__0_4_1/split_2/test/mask/_01_test_5.png  \n",
            "  inflating: drive_256_256_dice_bce_0_4__0_4_1/split_2/test/mask/_12_test_7.png  \n",
            "  inflating: drive_256_256_dice_bce_0_4__0_4_1/split_2/test/mask/_16_test_4.png  \n",
            "  inflating: drive_256_256_dice_bce_0_4__0_4_1/split_2/test/mask/_12_test_4.png  \n",
            "  inflating: drive_256_256_dice_bce_0_4__0_4_1/split_2/test/mask/_20_test_1.png  \n",
            "  inflating: drive_256_256_dice_bce_0_4__0_4_1/split_2/test/mask/_13_test_7.png  \n",
            "  inflating: drive_256_256_dice_bce_0_4__0_4_1/split_2/test/mask/_07_test_3.png  \n",
            "  inflating: drive_256_256_dice_bce_0_4__0_4_1/split_2/test/mask/_12_test_8.png  \n",
            "  inflating: drive_256_256_dice_bce_0_4__0_4_1/split_2/test/mask/_08_test_3.png  \n",
            "  inflating: drive_256_256_dice_bce_0_4__0_4_1/split_2/test/mask/_12_test_2.png  \n",
            "  inflating: drive_256_256_dice_bce_0_4__0_4_1/split_2/test/mask/_11_test_2.png  \n",
            "  inflating: drive_256_256_dice_bce_0_4__0_4_1/split_2/test/mask/_09_test_0.png  \n",
            "  inflating: drive_256_256_dice_bce_0_4__0_4_1/split_2/test/mask/_05_test_0.png  \n",
            "  inflating: drive_256_256_dice_bce_0_4__0_4_1/split_2/test/mask/_19_test_4.png  \n",
            "  inflating: drive_256_256_dice_bce_0_4__0_4_1/split_2/test/mask/_15_test_4.png  \n",
            "  inflating: drive_256_256_dice_bce_0_4__0_4_1/split_2/test/mask/_03_test_3.png  \n",
            "  inflating: drive_256_256_dice_bce_0_4__0_4_1/split_2/test/mask/_17_test_4.png  \n",
            "  inflating: drive_256_256_dice_bce_0_4__0_4_1/split_2/test/mask/_17_test_2.png  \n",
            "  inflating: drive_256_256_dice_bce_0_4__0_4_1/split_2/test/mask/_13_test_1.png  \n",
            "  inflating: drive_256_256_dice_bce_0_4__0_4_1/split_2/test/mask/_15_test_1.png  \n",
            "  inflating: drive_256_256_dice_bce_0_4__0_4_1/split_2/test/mask/_11_test_6.png  \n",
            "  inflating: drive_256_256_dice_bce_0_4__0_4_1/split_2/test/mask/_17_test_8.png  \n",
            "  inflating: drive_256_256_dice_bce_0_4__0_4_1/split_2/test/mask/_05_test_3.png  \n",
            "  inflating: drive_256_256_dice_bce_0_4__0_4_1/split_2/test/mask/_14_test_8.png  \n",
            "  inflating: drive_256_256_dice_bce_0_4__0_4_1/split_2/test/mask/_17_test_3.png  \n",
            "  inflating: drive_256_256_dice_bce_0_4__0_4_1/split_2/test/mask/_20_test_6.png  \n",
            "  inflating: drive_256_256_dice_bce_0_4__0_4_1/split_2/test/mask/_20_test_7.png  \n",
            "  inflating: drive_256_256_dice_bce_0_4__0_4_1/split_2/test/mask/_07_test_2.png  \n",
            "  inflating: drive_256_256_dice_bce_0_4__0_4_1/split_2/test/mask/_19_test_2.png  \n",
            "  inflating: drive_256_256_dice_bce_0_4__0_4_1/split_2/test/mask/_07_test_1.png  \n",
            "  inflating: drive_256_256_dice_bce_0_4__0_4_1/split_2/test/mask/_07_test_7.png  \n",
            "  inflating: drive_256_256_dice_bce_0_4__0_4_1/split_2/test/mask/_04_test_0.png  \n",
            "  inflating: drive_256_256_dice_bce_0_4__0_4_1/split_2/test/mask/_19_test_3.png  \n",
            "  inflating: drive_256_256_dice_bce_0_4__0_4_1/split_2/test/mask/_15_test_5.png  \n",
            "  inflating: drive_256_256_dice_bce_0_4__0_4_1/split_2/test/mask/_13_test_3.png  \n",
            "  inflating: drive_256_256_dice_bce_0_4__0_4_1/split_2/test/mask/_20_test_0.png  \n",
            "  inflating: drive_256_256_dice_bce_0_4__0_4_1/split_2/test/mask/_03_test_7.png  \n",
            "  inflating: drive_256_256_dice_bce_0_4__0_4_1/split_2/test/mask/_10_test_8.png  \n",
            "  inflating: drive_256_256_dice_bce_0_4__0_4_1/split_2/test/mask/_04_test_2.png  \n",
            "  inflating: drive_256_256_dice_bce_0_4__0_4_1/split_2/test/mask/_02_test_1.png  \n",
            "  inflating: drive_256_256_dice_bce_0_4__0_4_1/split_2/test/mask/_07_test_4.png  \n",
            "  inflating: drive_256_256_dice_bce_0_4__0_4_1/split_2/test/mask/_16_test_6.png  \n",
            "  inflating: drive_256_256_dice_bce_0_4__0_4_1/split_2/test/mask/_18_test_6.png  \n",
            "  inflating: drive_256_256_dice_bce_0_4__0_4_1/split_2/test/mask/_16_test_0.png  \n",
            "  inflating: drive_256_256_dice_bce_0_4__0_4_1/split_2/test/mask/_06_test_5.png  \n",
            "  inflating: drive_256_256_dice_bce_0_4__0_4_1/split_2/test/mask/_02_test_8.png  \n",
            "  inflating: drive_256_256_dice_bce_0_4__0_4_1/split_2/test/mask/_07_test_0.png  \n",
            "  inflating: drive_256_256_dice_bce_0_4__0_4_1/split_2/test/mask/_10_test_2.png  \n",
            "  inflating: drive_256_256_dice_bce_0_4__0_4_1/split_2/test/mask/_12_test_5.png  \n",
            "  inflating: drive_256_256_dice_bce_0_4__0_4_1/split_2/test/mask/_09_test_6.png  \n",
            "  inflating: drive_256_256_dice_bce_0_4__0_4_1/split_2/test/mask/_10_test_7.png  \n",
            "  inflating: drive_256_256_dice_bce_0_4__0_4_1/split_2/test/mask/_18_test_3.png  \n",
            "  inflating: drive_256_256_dice_bce_0_4__0_4_1/split_2/test/mask/_16_test_5.png  \n",
            "  inflating: drive_256_256_dice_bce_0_4__0_4_1/split_2/test/mask/_20_test_8.png  \n",
            "  inflating: drive_256_256_dice_bce_0_4__0_4_1/split_2/test/mask/_04_test_3.png  \n",
            "  inflating: drive_256_256_dice_bce_0_4__0_4_1/split_2/test/mask/_02_test_5.png  \n",
            "  inflating: drive_256_256_dice_bce_0_4__0_4_1/split_2/test/mask/_14_test_7.png  \n",
            "  inflating: drive_256_256_dice_bce_0_4__0_4_1/split_2/test/mask/_08_test_0.png  \n",
            "  inflating: drive_256_256_dice_bce_0_4__0_4_1/split_2/test/mask/_13_test_8.png  \n",
            "  inflating: drive_256_256_dice_bce_0_4__0_4_1/split_2/test/mask/_18_test_4.png  \n",
            "  inflating: drive_256_256_dice_bce_0_4__0_4_1/split_2/test/mask/_14_test_6.png  \n",
            "  inflating: drive_256_256_dice_bce_0_4__0_4_1/split_2/test/mask/_08_test_1.png  \n",
            "  inflating: drive_256_256_dice_bce_0_4__0_4_1/split_2/test/mask/_01_test_3.png  \n",
            "  inflating: drive_256_256_dice_bce_0_4__0_4_1/split_2/test/mask/_11_test_3.png  \n",
            "  inflating: drive_256_256_dice_bce_0_4__0_4_1/split_2/test/mask/_10_test_0.png  \n",
            "  inflating: drive_256_256_dice_bce_0_4__0_4_1/split_2/test/mask/_16_test_3.png  \n",
            "  inflating: drive_256_256_dice_bce_0_4__0_4_1/split_2/test/mask/_04_test_1.png  \n",
            "  inflating: drive_256_256_dice_bce_0_4__0_4_1/split_2/test/mask/_17_test_1.png  \n",
            "  inflating: drive_256_256_dice_bce_0_4__0_4_1/split_2/test/mask/_08_test_2.png  \n",
            "  inflating: drive_256_256_dice_bce_0_4__0_4_1/split_2/test/mask/_04_test_6.png  \n",
            "  inflating: drive_256_256_dice_bce_0_4__0_4_1/split_2/test/mask/_13_test_6.png  \n",
            "  inflating: drive_256_256_dice_bce_0_4__0_4_1/split_2/test/mask/_18_test_5.png  \n",
            "  inflating: drive_256_256_dice_bce_0_4__0_4_1/split_2/test/mask/_18_test_1.png  \n",
            "  inflating: drive_256_256_dice_bce_0_4__0_4_1/split_2/test/mask/_16_test_2.png  \n",
            "  inflating: drive_256_256_dice_bce_0_4__0_4_1/split_2/test/mask/_13_test_5.png  \n",
            "  inflating: drive_256_256_dice_bce_0_4__0_4_1/split_2/test/mask/_15_test_7.png  \n",
            "  inflating: drive_256_256_dice_bce_0_4__0_4_1/split_2/test/mask/_09_test_8.png  \n",
            "  inflating: drive_256_256_dice_bce_0_4__0_4_1/split_2/test/mask/_19_test_0.png  \n",
            "  inflating: drive_256_256_dice_bce_0_4__0_4_1/split_2/test/mask/_14_test_5.png  \n",
            "  inflating: drive_256_256_dice_bce_0_4__0_4_1/split_2/test/mask/_11_test_4.png  \n",
            "  inflating: drive_256_256_dice_bce_0_4__0_4_1/split_2/test/mask/_17_test_7.png  \n",
            "  inflating: drive_256_256_dice_bce_0_4__0_4_1/split_2/test/mask/_04_test_5.png  \n",
            "  inflating: drive_256_256_dice_bce_0_4__0_4_1/split_2/test/mask/_16_test_8.png  \n",
            "  inflating: drive_256_256_dice_bce_0_4__0_4_1/split_2/test/mask/_18_test_0.png  \n",
            "  inflating: drive_256_256_dice_bce_0_4__0_4_1/split_2/test/mask/_02_test_3.png  \n",
            "  inflating: drive_256_256_dice_bce_0_4__0_4_1/split_2/test/mask/_01_test_4.png  \n",
            "  inflating: drive_256_256_dice_bce_0_4__0_4_1/split_2/test/mask/_18_test_2.png  \n",
            "  inflating: drive_256_256_dice_bce_0_4__0_4_1/split_2/test/mask/_03_test_4.png  \n",
            "  inflating: drive_256_256_dice_bce_0_4__0_4_1/split_2/test/mask/_08_test_8.png  \n",
            "  inflating: drive_256_256_dice_bce_0_4__0_4_1/split_2/test/mask/_16_test_1.png  \n",
            "  inflating: drive_256_256_dice_bce_0_4__0_4_1/split_2/test/mask/_09_test_7.png  \n",
            "  inflating: drive_256_256_dice_bce_0_4__0_4_1/split_2/test/mask/_11_test_1.png  \n",
            "  inflating: drive_256_256_dice_bce_0_4__0_4_1/split_2/test/mask/_01_test_0.png  \n",
            "  inflating: drive_256_256_dice_bce_0_4__0_4_1/split_2/test/mask/_08_test_5.png  \n",
            "  inflating: drive_256_256_dice_bce_0_4__0_4_1/split_2/test/mask/_15_test_6.png  \n",
            "  inflating: drive_256_256_dice_bce_0_4__0_4_1/split_2/test/mask/_05_test_6.png  \n",
            "  inflating: drive_256_256_dice_bce_0_4__0_4_1/split_2/test/mask/_01_test_8.png  \n",
            "  inflating: drive_256_256_dice_bce_0_4__0_4_1/split_2/test/mask/_13_test_0.png  \n",
            "  inflating: drive_256_256_dice_bce_0_4__0_4_1/split_2/test/mask/_20_test_5.png  \n",
            "  inflating: drive_256_256_dice_bce_0_4__0_4_1/split_2/test/mask/_17_test_0.png  \n",
            "  inflating: drive_256_256_dice_bce_0_4__0_4_1/split_2/test/mask/_19_test_5.png  \n",
            "  inflating: drive_256_256_dice_bce_0_4__0_4_1/split_2/test/mask/_11_test_0.png  \n",
            "  inflating: drive_256_256_dice_bce_0_4__0_4_1/split_2/test/mask/_19_test_1.png  \n",
            "  inflating: drive_256_256_dice_bce_0_4__0_4_1/split_2/test/mask/_01_test_6.png  \n",
            "  inflating: drive_256_256_dice_bce_0_4__0_4_1/split_2/test/mask/_06_test_3.png  \n",
            "  inflating: drive_256_256_dice_bce_0_4__0_4_1/split_2/test/mask/_10_test_3.png  \n",
            "  inflating: drive_256_256_dice_bce_0_4__0_4_1/split_2/test/mask/_17_test_5.png  \n",
            "  inflating: drive_256_256_dice_bce_0_4__0_4_1/split_2/test/mask/_02_test_6.png  \n",
            "  inflating: drive_256_256_dice_bce_0_4__0_4_1/split_2/test/mask/_04_test_8.png  \n",
            "  inflating: drive_256_256_dice_bce_0_4__0_4_1/split_2/test/mask/_13_test_4.png  \n",
            "  inflating: drive_256_256_dice_bce_0_4__0_4_1/split_2/test/mask/_09_test_4.png  \n",
            "  inflating: drive_256_256_dice_bce_0_4__0_4_1/split_2/test/mask/_17_test_6.png  \n",
            "  inflating: drive_256_256_dice_bce_0_4__0_4_1/split_2/test/mask/_14_test_1.png  \n",
            "  inflating: drive_256_256_dice_bce_0_4__0_4_1/split_2/test/mask/_02_test_2.png  \n",
            "  inflating: drive_256_256_dice_bce_0_4__0_4_1/split_2/test/mask/_19_test_7.png  \n",
            "  inflating: drive_256_256_dice_bce_0_4__0_4_1/split_2/test/mask/_19_test_6.png  \n",
            "  inflating: drive_256_256_dice_bce_0_4__0_4_1/split_2/test/mask/_20_test_2.png  \n",
            "  inflating: drive_256_256_dice_bce_0_4__0_4_1/split_2/test/mask/_10_test_1.png  \n",
            "  inflating: drive_256_256_dice_bce_0_4__0_4_1/split_2/test/mask/_05_test_7.png  \n",
            "  inflating: drive_256_256_dice_bce_0_4__0_4_1/split_2/test/mask/_06_test_1.png  \n",
            "  inflating: drive_256_256_dice_bce_0_4__0_4_1/split_2/test/mask/_08_test_6.png  \n",
            "  inflating: drive_256_256_dice_bce_0_4__0_4_1/split_2/test/mask/_06_test_6.png  \n",
            "  inflating: drive_256_256_dice_bce_0_4__0_4_1/split_2/test/mask/_06_test_7.png  \n",
            "  inflating: drive_256_256_dice_bce_0_4__0_4_1/split_2/test/mask/_19_test_8.png  \n",
            "  inflating: drive_256_256_dice_bce_0_4__0_4_1/split_2/test/mask/_13_test_2.png  \n",
            "  inflating: drive_256_256_dice_bce_0_4__0_4_1/split_2/test/mask/_03_test_1.png  \n",
            "  inflating: drive_256_256_dice_bce_0_4__0_4_1/split_2/test/mask/_06_test_0.png  \n",
            "  inflating: drive_256_256_dice_bce_0_4__0_4_1/split_2/test/mask/_15_test_2.png  \n",
            "  inflating: drive_256_256_dice_bce_0_4__0_4_1/split_2/test/mask/_15_test_8.png  \n",
            "  inflating: drive_256_256_dice_bce_0_4__0_4_1/split_2/test/mask/_05_test_4.png  \n",
            "  inflating: drive_256_256_dice_bce_0_4__0_4_1/split_2/test/mask/_05_test_8.png  \n",
            "  inflating: drive_256_256_dice_bce_0_4__0_4_1/split_2/test/mask/_12_test_0.png  \n",
            "  inflating: drive_256_256_dice_bce_0_4__0_4_1/split_2/test/mask/_20_test_4.png  \n",
            "  inflating: drive_256_256_dice_bce_0_4__0_4_1/split_2/test/mask/_05_test_5.png  \n",
            "  inflating: drive_256_256_dice_bce_0_4__0_4_1/split_2/test/mask/_04_test_4.png  \n",
            "  inflating: drive_256_256_dice_bce_0_4__0_4_1/split_2/test/mask/_12_test_1.png  \n",
            "  inflating: drive_256_256_dice_bce_0_4__0_4_1/split_2/test/mask/_07_test_8.png  \n",
            "  inflating: drive_256_256_dice_bce_0_4__0_4_1/split_2/test/mask/_03_test_8.png  \n",
            "  inflating: drive_256_256_dice_bce_0_4__0_4_1/split_2/test/mask/_09_test_1.png  \n",
            "  inflating: drive_256_256_dice_bce_0_4__0_4_1/split_2/test/mask/_12_test_6.png  \n",
            "  inflating: drive_256_256_dice_bce_0_4__0_4_1/split_2/test/mask/_05_test_1.png  \n",
            "  inflating: drive_256_256_dice_bce_0_4__0_4_1/split_2/test/mask/_11_test_7.png  \n",
            "  inflating: drive_256_256_dice_bce_0_4__0_4_1/split_2/test/mask/_02_test_4.png  \n",
            "  inflating: drive_256_256_dice_bce_0_4__0_4_1/split_2/test/mask/_08_test_7.png  \n",
            "  inflating: drive_256_256_dice_bce_0_4__0_4_1/split_2/test/mask/_12_test_3.png  \n",
            "  inflating: drive_256_256_dice_bce_0_4__0_4_1/split_2/test/mask/_01_test_1.png  \n",
            "  inflating: drive_256_256_dice_bce_0_4__0_4_1/split_2/test/mask/_14_test_2.png  \n",
            "  inflating: drive_256_256_dice_bce_0_4__0_4_1/split_2/test/mask/_14_test_3.png  \n",
            "  inflating: drive_256_256_dice_bce_0_4__0_4_1/split_2/test/mask/_07_test_6.png  \n",
            "  inflating: drive_256_256_dice_bce_0_4__0_4_1/split_2/test/mask/_14_test_4.png  \n",
            "  inflating: drive_256_256_dice_bce_0_4__0_4_1/split_2/test/mask/_08_test_4.png  \n",
            "  inflating: drive_256_256_dice_bce_0_4__0_4_1/split_2/test/mask/_01_test_2.png  \n",
            "  inflating: drive_256_256_dice_bce_0_4__0_4_1/split_2/test/mask/_10_test_6.png  \n",
            "  inflating: drive_256_256_dice_bce_0_4__0_4_1/split_2/test/mask/_05_test_2.png  \n",
            "  inflating: drive_256_256_dice_bce_0_4__0_4_1/split_2/test/mask/_06_test_4.png  \n",
            "  inflating: drive_256_256_dice_bce_0_4__0_4_1/split_2/test/mask/_18_test_8.png  \n",
            "  inflating: drive_256_256_dice_bce_0_4__0_4_1/split_2/test/mask/_04_test_7.png  \n",
            "   creating: drive_256_256_dice_bce_0_4__0_4_1/split_2/test/image/\n",
            "  inflating: drive_256_256_dice_bce_0_4__0_4_1/split_2/test/image/_09_test_2.png  \n",
            "  inflating: drive_256_256_dice_bce_0_4__0_4_1/split_2/test/image/_06_test_2.png  \n",
            "  inflating: drive_256_256_dice_bce_0_4__0_4_1/split_2/test/image/_07_test_5.png  \n",
            "  inflating: drive_256_256_dice_bce_0_4__0_4_1/split_2/test/image/_10_test_4.png  \n",
            "  inflating: drive_256_256_dice_bce_0_4__0_4_1/split_2/test/image/_03_test_6.png  \n",
            "  inflating: drive_256_256_dice_bce_0_4__0_4_1/split_2/test/image/_15_test_0.png  \n",
            "  inflating: drive_256_256_dice_bce_0_4__0_4_1/split_2/test/image/_03_test_2.png  \n",
            "  inflating: drive_256_256_dice_bce_0_4__0_4_1/split_2/test/image/_16_test_7.png  \n",
            "  inflating: drive_256_256_dice_bce_0_4__0_4_1/split_2/test/image/_11_test_8.png  \n",
            "  inflating: drive_256_256_dice_bce_0_4__0_4_1/split_2/test/image/_11_test_5.png  \n",
            "  inflating: drive_256_256_dice_bce_0_4__0_4_1/split_2/test/image/_10_test_5.png  \n",
            "  inflating: drive_256_256_dice_bce_0_4__0_4_1/split_2/test/image/_06_test_8.png  \n",
            "  inflating: drive_256_256_dice_bce_0_4__0_4_1/split_2/test/image/_02_test_7.png  \n",
            "  inflating: drive_256_256_dice_bce_0_4__0_4_1/split_2/test/image/_14_test_0.png  \n",
            "  inflating: drive_256_256_dice_bce_0_4__0_4_1/split_2/test/image/_18_test_7.png  \n",
            "  inflating: drive_256_256_dice_bce_0_4__0_4_1/split_2/test/image/_09_test_5.png  \n",
            "  inflating: drive_256_256_dice_bce_0_4__0_4_1/split_2/test/image/_15_test_3.png  \n",
            "  inflating: drive_256_256_dice_bce_0_4__0_4_1/split_2/test/image/_03_test_0.png  \n",
            "  inflating: drive_256_256_dice_bce_0_4__0_4_1/split_2/test/image/_02_test_0.png  \n",
            "  inflating: drive_256_256_dice_bce_0_4__0_4_1/split_2/test/image/_20_test_3.png  \n",
            "  inflating: drive_256_256_dice_bce_0_4__0_4_1/split_2/test/image/_09_test_3.png  \n",
            "  inflating: drive_256_256_dice_bce_0_4__0_4_1/split_2/test/image/_01_test_7.png  \n",
            "  inflating: drive_256_256_dice_bce_0_4__0_4_1/split_2/test/image/_03_test_5.png  \n",
            "  inflating: drive_256_256_dice_bce_0_4__0_4_1/split_2/test/image/_01_test_5.png  \n",
            "  inflating: drive_256_256_dice_bce_0_4__0_4_1/split_2/test/image/_12_test_7.png  \n",
            "  inflating: drive_256_256_dice_bce_0_4__0_4_1/split_2/test/image/_16_test_4.png  \n",
            "  inflating: drive_256_256_dice_bce_0_4__0_4_1/split_2/test/image/_12_test_4.png  \n",
            "  inflating: drive_256_256_dice_bce_0_4__0_4_1/split_2/test/image/_20_test_1.png  \n",
            "  inflating: drive_256_256_dice_bce_0_4__0_4_1/split_2/test/image/_13_test_7.png  \n",
            "  inflating: drive_256_256_dice_bce_0_4__0_4_1/split_2/test/image/_07_test_3.png  \n",
            "  inflating: drive_256_256_dice_bce_0_4__0_4_1/split_2/test/image/_12_test_8.png  \n",
            "  inflating: drive_256_256_dice_bce_0_4__0_4_1/split_2/test/image/_08_test_3.png  \n",
            "  inflating: drive_256_256_dice_bce_0_4__0_4_1/split_2/test/image/_12_test_2.png  \n",
            "  inflating: drive_256_256_dice_bce_0_4__0_4_1/split_2/test/image/_11_test_2.png  \n",
            "  inflating: drive_256_256_dice_bce_0_4__0_4_1/split_2/test/image/_09_test_0.png  \n",
            "  inflating: drive_256_256_dice_bce_0_4__0_4_1/split_2/test/image/_05_test_0.png  \n",
            "  inflating: drive_256_256_dice_bce_0_4__0_4_1/split_2/test/image/_19_test_4.png  \n",
            "  inflating: drive_256_256_dice_bce_0_4__0_4_1/split_2/test/image/_15_test_4.png  \n",
            "  inflating: drive_256_256_dice_bce_0_4__0_4_1/split_2/test/image/_03_test_3.png  \n",
            "  inflating: drive_256_256_dice_bce_0_4__0_4_1/split_2/test/image/_17_test_4.png  \n",
            "  inflating: drive_256_256_dice_bce_0_4__0_4_1/split_2/test/image/_17_test_2.png  \n",
            "  inflating: drive_256_256_dice_bce_0_4__0_4_1/split_2/test/image/_13_test_1.png  \n",
            "  inflating: drive_256_256_dice_bce_0_4__0_4_1/split_2/test/image/_15_test_1.png  \n",
            "  inflating: drive_256_256_dice_bce_0_4__0_4_1/split_2/test/image/_11_test_6.png  \n",
            "  inflating: drive_256_256_dice_bce_0_4__0_4_1/split_2/test/image/_17_test_8.png  \n",
            "  inflating: drive_256_256_dice_bce_0_4__0_4_1/split_2/test/image/_05_test_3.png  \n",
            "  inflating: drive_256_256_dice_bce_0_4__0_4_1/split_2/test/image/_14_test_8.png  \n",
            "  inflating: drive_256_256_dice_bce_0_4__0_4_1/split_2/test/image/_17_test_3.png  \n",
            "  inflating: drive_256_256_dice_bce_0_4__0_4_1/split_2/test/image/_20_test_6.png  \n",
            "  inflating: drive_256_256_dice_bce_0_4__0_4_1/split_2/test/image/_20_test_7.png  \n",
            "  inflating: drive_256_256_dice_bce_0_4__0_4_1/split_2/test/image/_07_test_2.png  \n",
            "  inflating: drive_256_256_dice_bce_0_4__0_4_1/split_2/test/image/_19_test_2.png  \n",
            "  inflating: drive_256_256_dice_bce_0_4__0_4_1/split_2/test/image/_07_test_1.png  \n",
            "  inflating: drive_256_256_dice_bce_0_4__0_4_1/split_2/test/image/_07_test_7.png  \n",
            "  inflating: drive_256_256_dice_bce_0_4__0_4_1/split_2/test/image/_04_test_0.png  \n",
            "  inflating: drive_256_256_dice_bce_0_4__0_4_1/split_2/test/image/_19_test_3.png  \n",
            "  inflating: drive_256_256_dice_bce_0_4__0_4_1/split_2/test/image/_15_test_5.png  \n",
            "  inflating: drive_256_256_dice_bce_0_4__0_4_1/split_2/test/image/_13_test_3.png  \n",
            "  inflating: drive_256_256_dice_bce_0_4__0_4_1/split_2/test/image/_20_test_0.png  \n",
            "  inflating: drive_256_256_dice_bce_0_4__0_4_1/split_2/test/image/_03_test_7.png  \n",
            "  inflating: drive_256_256_dice_bce_0_4__0_4_1/split_2/test/image/_10_test_8.png  \n",
            "  inflating: drive_256_256_dice_bce_0_4__0_4_1/split_2/test/image/_04_test_2.png  \n",
            "  inflating: drive_256_256_dice_bce_0_4__0_4_1/split_2/test/image/_02_test_1.png  \n",
            "  inflating: drive_256_256_dice_bce_0_4__0_4_1/split_2/test/image/_07_test_4.png  \n",
            "  inflating: drive_256_256_dice_bce_0_4__0_4_1/split_2/test/image/_16_test_6.png  \n",
            "  inflating: drive_256_256_dice_bce_0_4__0_4_1/split_2/test/image/_18_test_6.png  \n",
            "  inflating: drive_256_256_dice_bce_0_4__0_4_1/split_2/test/image/_16_test_0.png  \n",
            "  inflating: drive_256_256_dice_bce_0_4__0_4_1/split_2/test/image/_06_test_5.png  \n",
            "  inflating: drive_256_256_dice_bce_0_4__0_4_1/split_2/test/image/_02_test_8.png  \n",
            "  inflating: drive_256_256_dice_bce_0_4__0_4_1/split_2/test/image/_07_test_0.png  \n",
            "  inflating: drive_256_256_dice_bce_0_4__0_4_1/split_2/test/image/_10_test_2.png  \n",
            "  inflating: drive_256_256_dice_bce_0_4__0_4_1/split_2/test/image/_12_test_5.png  \n",
            "  inflating: drive_256_256_dice_bce_0_4__0_4_1/split_2/test/image/_09_test_6.png  \n",
            "  inflating: drive_256_256_dice_bce_0_4__0_4_1/split_2/test/image/_10_test_7.png  \n",
            "  inflating: drive_256_256_dice_bce_0_4__0_4_1/split_2/test/image/_18_test_3.png  \n",
            "  inflating: drive_256_256_dice_bce_0_4__0_4_1/split_2/test/image/_16_test_5.png  \n",
            "  inflating: drive_256_256_dice_bce_0_4__0_4_1/split_2/test/image/_20_test_8.png  \n",
            "  inflating: drive_256_256_dice_bce_0_4__0_4_1/split_2/test/image/_04_test_3.png  \n",
            "  inflating: drive_256_256_dice_bce_0_4__0_4_1/split_2/test/image/_02_test_5.png  \n",
            "  inflating: drive_256_256_dice_bce_0_4__0_4_1/split_2/test/image/_14_test_7.png  \n",
            "  inflating: drive_256_256_dice_bce_0_4__0_4_1/split_2/test/image/_08_test_0.png  \n",
            "  inflating: drive_256_256_dice_bce_0_4__0_4_1/split_2/test/image/_13_test_8.png  \n",
            "  inflating: drive_256_256_dice_bce_0_4__0_4_1/split_2/test/image/_18_test_4.png  \n",
            "  inflating: drive_256_256_dice_bce_0_4__0_4_1/split_2/test/image/_14_test_6.png  \n",
            "  inflating: drive_256_256_dice_bce_0_4__0_4_1/split_2/test/image/_08_test_1.png  \n",
            "  inflating: drive_256_256_dice_bce_0_4__0_4_1/split_2/test/image/_01_test_3.png  \n",
            "  inflating: drive_256_256_dice_bce_0_4__0_4_1/split_2/test/image/_11_test_3.png  \n",
            "  inflating: drive_256_256_dice_bce_0_4__0_4_1/split_2/test/image/_10_test_0.png  \n",
            "  inflating: drive_256_256_dice_bce_0_4__0_4_1/split_2/test/image/_16_test_3.png  \n",
            "  inflating: drive_256_256_dice_bce_0_4__0_4_1/split_2/test/image/_04_test_1.png  \n",
            "  inflating: drive_256_256_dice_bce_0_4__0_4_1/split_2/test/image/_17_test_1.png  \n",
            "  inflating: drive_256_256_dice_bce_0_4__0_4_1/split_2/test/image/_08_test_2.png  \n",
            "  inflating: drive_256_256_dice_bce_0_4__0_4_1/split_2/test/image/_04_test_6.png  \n",
            "  inflating: drive_256_256_dice_bce_0_4__0_4_1/split_2/test/image/_13_test_6.png  \n",
            "  inflating: drive_256_256_dice_bce_0_4__0_4_1/split_2/test/image/_18_test_5.png  \n",
            "  inflating: drive_256_256_dice_bce_0_4__0_4_1/split_2/test/image/_18_test_1.png  \n",
            "  inflating: drive_256_256_dice_bce_0_4__0_4_1/split_2/test/image/_16_test_2.png  \n",
            "  inflating: drive_256_256_dice_bce_0_4__0_4_1/split_2/test/image/_13_test_5.png  \n",
            "  inflating: drive_256_256_dice_bce_0_4__0_4_1/split_2/test/image/_15_test_7.png  \n",
            "  inflating: drive_256_256_dice_bce_0_4__0_4_1/split_2/test/image/_09_test_8.png  \n",
            "  inflating: drive_256_256_dice_bce_0_4__0_4_1/split_2/test/image/_19_test_0.png  \n",
            "  inflating: drive_256_256_dice_bce_0_4__0_4_1/split_2/test/image/_14_test_5.png  \n",
            "  inflating: drive_256_256_dice_bce_0_4__0_4_1/split_2/test/image/_11_test_4.png  \n",
            "  inflating: drive_256_256_dice_bce_0_4__0_4_1/split_2/test/image/_17_test_7.png  \n",
            "  inflating: drive_256_256_dice_bce_0_4__0_4_1/split_2/test/image/_04_test_5.png  \n",
            "  inflating: drive_256_256_dice_bce_0_4__0_4_1/split_2/test/image/_16_test_8.png  \n",
            "  inflating: drive_256_256_dice_bce_0_4__0_4_1/split_2/test/image/_18_test_0.png  \n",
            "  inflating: drive_256_256_dice_bce_0_4__0_4_1/split_2/test/image/_02_test_3.png  \n",
            "  inflating: drive_256_256_dice_bce_0_4__0_4_1/split_2/test/image/_01_test_4.png  \n",
            "  inflating: drive_256_256_dice_bce_0_4__0_4_1/split_2/test/image/_18_test_2.png  \n",
            "  inflating: drive_256_256_dice_bce_0_4__0_4_1/split_2/test/image/_03_test_4.png  \n",
            "  inflating: drive_256_256_dice_bce_0_4__0_4_1/split_2/test/image/_08_test_8.png  \n",
            "  inflating: drive_256_256_dice_bce_0_4__0_4_1/split_2/test/image/_16_test_1.png  \n",
            "  inflating: drive_256_256_dice_bce_0_4__0_4_1/split_2/test/image/_09_test_7.png  \n",
            "  inflating: drive_256_256_dice_bce_0_4__0_4_1/split_2/test/image/_11_test_1.png  \n",
            "  inflating: drive_256_256_dice_bce_0_4__0_4_1/split_2/test/image/_01_test_0.png  \n",
            "  inflating: drive_256_256_dice_bce_0_4__0_4_1/split_2/test/image/_08_test_5.png  \n",
            "  inflating: drive_256_256_dice_bce_0_4__0_4_1/split_2/test/image/_15_test_6.png  \n",
            "  inflating: drive_256_256_dice_bce_0_4__0_4_1/split_2/test/image/_05_test_6.png  \n",
            "  inflating: drive_256_256_dice_bce_0_4__0_4_1/split_2/test/image/_01_test_8.png  \n",
            "  inflating: drive_256_256_dice_bce_0_4__0_4_1/split_2/test/image/_13_test_0.png  \n",
            "  inflating: drive_256_256_dice_bce_0_4__0_4_1/split_2/test/image/_20_test_5.png  \n",
            "  inflating: drive_256_256_dice_bce_0_4__0_4_1/split_2/test/image/_17_test_0.png  \n",
            "  inflating: drive_256_256_dice_bce_0_4__0_4_1/split_2/test/image/_19_test_5.png  \n",
            "  inflating: drive_256_256_dice_bce_0_4__0_4_1/split_2/test/image/_11_test_0.png  \n",
            "  inflating: drive_256_256_dice_bce_0_4__0_4_1/split_2/test/image/_19_test_1.png  \n",
            "  inflating: drive_256_256_dice_bce_0_4__0_4_1/split_2/test/image/_01_test_6.png  \n",
            "  inflating: drive_256_256_dice_bce_0_4__0_4_1/split_2/test/image/_06_test_3.png  \n",
            "  inflating: drive_256_256_dice_bce_0_4__0_4_1/split_2/test/image/_10_test_3.png  \n",
            "  inflating: drive_256_256_dice_bce_0_4__0_4_1/split_2/test/image/_17_test_5.png  \n",
            "  inflating: drive_256_256_dice_bce_0_4__0_4_1/split_2/test/image/_02_test_6.png  \n",
            "  inflating: drive_256_256_dice_bce_0_4__0_4_1/split_2/test/image/_04_test_8.png  \n",
            "  inflating: drive_256_256_dice_bce_0_4__0_4_1/split_2/test/image/_13_test_4.png  \n",
            "  inflating: drive_256_256_dice_bce_0_4__0_4_1/split_2/test/image/_09_test_4.png  \n",
            "  inflating: drive_256_256_dice_bce_0_4__0_4_1/split_2/test/image/_17_test_6.png  \n",
            "  inflating: drive_256_256_dice_bce_0_4__0_4_1/split_2/test/image/_14_test_1.png  \n",
            "  inflating: drive_256_256_dice_bce_0_4__0_4_1/split_2/test/image/_02_test_2.png  \n",
            "  inflating: drive_256_256_dice_bce_0_4__0_4_1/split_2/test/image/_19_test_7.png  \n",
            "  inflating: drive_256_256_dice_bce_0_4__0_4_1/split_2/test/image/_19_test_6.png  \n",
            "  inflating: drive_256_256_dice_bce_0_4__0_4_1/split_2/test/image/_20_test_2.png  \n",
            "  inflating: drive_256_256_dice_bce_0_4__0_4_1/split_2/test/image/_10_test_1.png  \n",
            "  inflating: drive_256_256_dice_bce_0_4__0_4_1/split_2/test/image/_05_test_7.png  \n",
            "  inflating: drive_256_256_dice_bce_0_4__0_4_1/split_2/test/image/_06_test_1.png  \n",
            "  inflating: drive_256_256_dice_bce_0_4__0_4_1/split_2/test/image/_08_test_6.png  \n",
            "  inflating: drive_256_256_dice_bce_0_4__0_4_1/split_2/test/image/_06_test_6.png  \n",
            "  inflating: drive_256_256_dice_bce_0_4__0_4_1/split_2/test/image/_06_test_7.png  \n",
            "  inflating: drive_256_256_dice_bce_0_4__0_4_1/split_2/test/image/_19_test_8.png  \n",
            "  inflating: drive_256_256_dice_bce_0_4__0_4_1/split_2/test/image/_13_test_2.png  \n",
            "  inflating: drive_256_256_dice_bce_0_4__0_4_1/split_2/test/image/_03_test_1.png  \n",
            "  inflating: drive_256_256_dice_bce_0_4__0_4_1/split_2/test/image/_06_test_0.png  \n",
            "  inflating: drive_256_256_dice_bce_0_4__0_4_1/split_2/test/image/_15_test_2.png  \n",
            "  inflating: drive_256_256_dice_bce_0_4__0_4_1/split_2/test/image/_15_test_8.png  \n",
            "  inflating: drive_256_256_dice_bce_0_4__0_4_1/split_2/test/image/_05_test_4.png  \n",
            "  inflating: drive_256_256_dice_bce_0_4__0_4_1/split_2/test/image/_05_test_8.png  \n",
            "  inflating: drive_256_256_dice_bce_0_4__0_4_1/split_2/test/image/_12_test_0.png  \n",
            "  inflating: drive_256_256_dice_bce_0_4__0_4_1/split_2/test/image/_20_test_4.png  \n",
            "  inflating: drive_256_256_dice_bce_0_4__0_4_1/split_2/test/image/_05_test_5.png  \n",
            "  inflating: drive_256_256_dice_bce_0_4__0_4_1/split_2/test/image/_04_test_4.png  \n",
            "  inflating: drive_256_256_dice_bce_0_4__0_4_1/split_2/test/image/_12_test_1.png  \n",
            "  inflating: drive_256_256_dice_bce_0_4__0_4_1/split_2/test/image/_07_test_8.png  \n",
            "  inflating: drive_256_256_dice_bce_0_4__0_4_1/split_2/test/image/_03_test_8.png  \n",
            "  inflating: drive_256_256_dice_bce_0_4__0_4_1/split_2/test/image/_09_test_1.png  \n",
            "  inflating: drive_256_256_dice_bce_0_4__0_4_1/split_2/test/image/_12_test_6.png  \n",
            "  inflating: drive_256_256_dice_bce_0_4__0_4_1/split_2/test/image/_05_test_1.png  \n",
            "  inflating: drive_256_256_dice_bce_0_4__0_4_1/split_2/test/image/_11_test_7.png  \n",
            "  inflating: drive_256_256_dice_bce_0_4__0_4_1/split_2/test/image/_02_test_4.png  \n",
            "  inflating: drive_256_256_dice_bce_0_4__0_4_1/split_2/test/image/_08_test_7.png  \n",
            "  inflating: drive_256_256_dice_bce_0_4__0_4_1/split_2/test/image/_12_test_3.png  \n",
            "  inflating: drive_256_256_dice_bce_0_4__0_4_1/split_2/test/image/_01_test_1.png  \n",
            "  inflating: drive_256_256_dice_bce_0_4__0_4_1/split_2/test/image/_14_test_2.png  \n",
            "  inflating: drive_256_256_dice_bce_0_4__0_4_1/split_2/test/image/_14_test_3.png  \n",
            "  inflating: drive_256_256_dice_bce_0_4__0_4_1/split_2/test/image/_07_test_6.png  \n",
            "  inflating: drive_256_256_dice_bce_0_4__0_4_1/split_2/test/image/_14_test_4.png  \n",
            "  inflating: drive_256_256_dice_bce_0_4__0_4_1/split_2/test/image/_08_test_4.png  \n",
            "  inflating: drive_256_256_dice_bce_0_4__0_4_1/split_2/test/image/_01_test_2.png  \n",
            "  inflating: drive_256_256_dice_bce_0_4__0_4_1/split_2/test/image/_10_test_6.png  \n",
            "  inflating: drive_256_256_dice_bce_0_4__0_4_1/split_2/test/image/_05_test_2.png  \n",
            "  inflating: drive_256_256_dice_bce_0_4__0_4_1/split_2/test/image/_06_test_4.png  \n",
            "  inflating: drive_256_256_dice_bce_0_4__0_4_1/split_2/test/image/_18_test_8.png  \n",
            "  inflating: drive_256_256_dice_bce_0_4__0_4_1/split_2/test/image/_04_test_7.png  \n",
            "  inflating: drive_256_256_dice_bce_0_4__0_4_1/split_2/image_patches_256_256_train.csv  \n",
            "   creating: drive_256_256_dice_bce_0_4__0_4_1/split_2/train/\n",
            "   creating: drive_256_256_dice_bce_0_4__0_4_1/split_2/train/mask/\n",
            "  inflating: drive_256_256_dice_bce_0_4__0_4_1/split_2/train/mask/_23_training_2.png  \n",
            "  inflating: drive_256_256_dice_bce_0_4__0_4_1/split_2/train/mask/_24_training_4.png  \n",
            "  inflating: drive_256_256_dice_bce_0_4__0_4_1/split_2/train/mask/_25_training_2.png  \n",
            "  inflating: drive_256_256_dice_bce_0_4__0_4_1/split_2/train/mask/_31_training_2.png  \n",
            "  inflating: drive_256_256_dice_bce_0_4__0_4_1/split_2/train/mask/_24_training_2.png  \n",
            "  inflating: drive_256_256_dice_bce_0_4__0_4_1/split_2/train/mask/_31_training_7.png  \n",
            "  inflating: drive_256_256_dice_bce_0_4__0_4_1/split_2/train/mask/_26_training_5.png  \n",
            "  inflating: drive_256_256_dice_bce_0_4__0_4_1/split_2/train/mask/_36_training_6.png  \n",
            "  inflating: drive_256_256_dice_bce_0_4__0_4_1/split_2/train/mask/_23_training_0.png  \n",
            "  inflating: drive_256_256_dice_bce_0_4__0_4_1/split_2/train/mask/_28_training_7.png  \n",
            "  inflating: drive_256_256_dice_bce_0_4__0_4_1/split_2/train/mask/_24_training_6.png  \n",
            "  inflating: drive_256_256_dice_bce_0_4__0_4_1/split_2/train/mask/_31_training_0.png  \n",
            "  inflating: drive_256_256_dice_bce_0_4__0_4_1/split_2/train/mask/_36_training_1.png  \n",
            "  inflating: drive_256_256_dice_bce_0_4__0_4_1/split_2/train/mask/_26_training_8.png  \n",
            "  inflating: drive_256_256_dice_bce_0_4__0_4_1/split_2/train/mask/_21_training_5.png  \n",
            "  inflating: drive_256_256_dice_bce_0_4__0_4_1/split_2/train/mask/_30_training_5.png  \n",
            "  inflating: drive_256_256_dice_bce_0_4__0_4_1/split_2/train/mask/_40_training_3.png  \n",
            "  inflating: drive_256_256_dice_bce_0_4__0_4_1/split_2/train/mask/_34_training_3.png  \n",
            "  inflating: drive_256_256_dice_bce_0_4__0_4_1/split_2/train/mask/_35_training_0.png  \n",
            "  inflating: drive_256_256_dice_bce_0_4__0_4_1/split_2/train/mask/_38_training_1.png  \n",
            "  inflating: drive_256_256_dice_bce_0_4__0_4_1/split_2/train/mask/_26_training_4.png  \n",
            "  inflating: drive_256_256_dice_bce_0_4__0_4_1/split_2/train/mask/_28_training_0.png  \n",
            "  inflating: drive_256_256_dice_bce_0_4__0_4_1/split_2/train/mask/_29_training_4.png  \n",
            "  inflating: drive_256_256_dice_bce_0_4__0_4_1/split_2/train/mask/_32_training_0.png  \n",
            "  inflating: drive_256_256_dice_bce_0_4__0_4_1/split_2/train/mask/_39_training_0.png  \n",
            "  inflating: drive_256_256_dice_bce_0_4__0_4_1/split_2/train/mask/_39_training_5.png  \n",
            "  inflating: drive_256_256_dice_bce_0_4__0_4_1/split_2/train/mask/_37_training_5.png  \n",
            "  inflating: drive_256_256_dice_bce_0_4__0_4_1/split_2/train/mask/_34_training_0.png  \n",
            "  inflating: drive_256_256_dice_bce_0_4__0_4_1/split_2/train/mask/_36_training_0.png  \n",
            "  inflating: drive_256_256_dice_bce_0_4__0_4_1/split_2/train/mask/_37_training_4.png  \n",
            "  inflating: drive_256_256_dice_bce_0_4__0_4_1/split_2/train/mask/_39_training_6.png  \n",
            "  inflating: drive_256_256_dice_bce_0_4__0_4_1/split_2/train/mask/_22_training_2.png  \n",
            "  inflating: drive_256_256_dice_bce_0_4__0_4_1/split_2/train/mask/_34_training_7.png  \n",
            "  inflating: drive_256_256_dice_bce_0_4__0_4_1/split_2/train/mask/_38_training_3.png  \n",
            "  inflating: drive_256_256_dice_bce_0_4__0_4_1/split_2/train/mask/_32_training_4.png  \n",
            "  inflating: drive_256_256_dice_bce_0_4__0_4_1/split_2/train/mask/_33_training_1.png  \n",
            "  inflating: drive_256_256_dice_bce_0_4__0_4_1/split_2/train/mask/_38_training_8.png  \n",
            "  inflating: drive_256_256_dice_bce_0_4__0_4_1/split_2/train/mask/_24_training_0.png  \n",
            "  inflating: drive_256_256_dice_bce_0_4__0_4_1/split_2/train/mask/_33_training_2.png  \n",
            "  inflating: drive_256_256_dice_bce_0_4__0_4_1/split_2/train/mask/_27_training_8.png  \n",
            "  inflating: drive_256_256_dice_bce_0_4__0_4_1/split_2/train/mask/_25_training_8.png  \n",
            "  inflating: drive_256_256_dice_bce_0_4__0_4_1/split_2/train/mask/_24_training_1.png  \n",
            "  inflating: drive_256_256_dice_bce_0_4__0_4_1/split_2/train/mask/_32_training_8.png  \n",
            "  inflating: drive_256_256_dice_bce_0_4__0_4_1/split_2/train/mask/_29_training_2.png  \n",
            "  inflating: drive_256_256_dice_bce_0_4__0_4_1/split_2/train/mask/_29_training_5.png  \n",
            "  inflating: drive_256_256_dice_bce_0_4__0_4_1/split_2/train/mask/_25_training_3.png  \n",
            "  inflating: drive_256_256_dice_bce_0_4__0_4_1/split_2/train/mask/_36_training_5.png  \n",
            "  inflating: drive_256_256_dice_bce_0_4__0_4_1/split_2/train/mask/_23_training_8.png  \n",
            "  inflating: drive_256_256_dice_bce_0_4__0_4_1/split_2/train/mask/_36_training_8.png  \n",
            "  inflating: drive_256_256_dice_bce_0_4__0_4_1/split_2/train/mask/_39_training_4.png  \n",
            "  inflating: drive_256_256_dice_bce_0_4__0_4_1/split_2/train/mask/_21_training_3.png  \n",
            "  inflating: drive_256_256_dice_bce_0_4__0_4_1/split_2/train/mask/_24_training_3.png  \n",
            "  inflating: drive_256_256_dice_bce_0_4__0_4_1/split_2/train/mask/_39_training_2.png  \n",
            "  inflating: drive_256_256_dice_bce_0_4__0_4_1/split_2/train/mask/_22_training_4.png  \n",
            "  inflating: drive_256_256_dice_bce_0_4__0_4_1/split_2/train/mask/_29_training_0.png  \n",
            "  inflating: drive_256_256_dice_bce_0_4__0_4_1/split_2/train/mask/_30_training_6.png  \n",
            "  inflating: drive_256_256_dice_bce_0_4__0_4_1/split_2/train/mask/_35_training_1.png  \n",
            "  inflating: drive_256_256_dice_bce_0_4__0_4_1/split_2/train/mask/_40_training_6.png  \n",
            "  inflating: drive_256_256_dice_bce_0_4__0_4_1/split_2/train/mask/_31_training_3.png  \n",
            "  inflating: drive_256_256_dice_bce_0_4__0_4_1/split_2/train/mask/_23_training_1.png  \n",
            "  inflating: drive_256_256_dice_bce_0_4__0_4_1/split_2/train/mask/_25_training_1.png  \n",
            "  inflating: drive_256_256_dice_bce_0_4__0_4_1/split_2/train/mask/_29_training_8.png  \n",
            "  inflating: drive_256_256_dice_bce_0_4__0_4_1/split_2/train/mask/_31_training_6.png  \n",
            "  inflating: drive_256_256_dice_bce_0_4__0_4_1/split_2/train/mask/_23_training_4.png  \n",
            "  inflating: drive_256_256_dice_bce_0_4__0_4_1/split_2/train/mask/_38_training_5.png  \n",
            "  inflating: drive_256_256_dice_bce_0_4__0_4_1/split_2/train/mask/_33_training_5.png  \n",
            "  inflating: drive_256_256_dice_bce_0_4__0_4_1/split_2/train/mask/_38_training_7.png  \n",
            "  inflating: drive_256_256_dice_bce_0_4__0_4_1/split_2/train/mask/_36_training_7.png  \n",
            "  inflating: drive_256_256_dice_bce_0_4__0_4_1/split_2/train/mask/_28_training_3.png  \n",
            "  inflating: drive_256_256_dice_bce_0_4__0_4_1/split_2/train/mask/_34_training_1.png  \n",
            "  inflating: drive_256_256_dice_bce_0_4__0_4_1/split_2/train/mask/_29_training_6.png  \n",
            "  inflating: drive_256_256_dice_bce_0_4__0_4_1/split_2/train/mask/_23_training_6.png  \n",
            "  inflating: drive_256_256_dice_bce_0_4__0_4_1/split_2/train/mask/_33_training_6.png  \n",
            "  inflating: drive_256_256_dice_bce_0_4__0_4_1/split_2/train/mask/_27_training_2.png  \n",
            "  inflating: drive_256_256_dice_bce_0_4__0_4_1/split_2/train/mask/_40_training_0.png  \n",
            "  inflating: drive_256_256_dice_bce_0_4__0_4_1/split_2/train/mask/_22_training_5.png  \n",
            "  inflating: drive_256_256_dice_bce_0_4__0_4_1/split_2/train/mask/_35_training_7.png  \n",
            "  inflating: drive_256_256_dice_bce_0_4__0_4_1/split_2/train/mask/_31_training_5.png  \n",
            "  inflating: drive_256_256_dice_bce_0_4__0_4_1/split_2/train/mask/_31_training_1.png  \n",
            "  inflating: drive_256_256_dice_bce_0_4__0_4_1/split_2/train/mask/_36_training_2.png  \n",
            "  inflating: drive_256_256_dice_bce_0_4__0_4_1/split_2/train/mask/_33_training_3.png  \n",
            "  inflating: drive_256_256_dice_bce_0_4__0_4_1/split_2/train/mask/_22_training_1.png  \n",
            "  inflating: drive_256_256_dice_bce_0_4__0_4_1/split_2/train/mask/_27_training_4.png  \n",
            "  inflating: drive_256_256_dice_bce_0_4__0_4_1/split_2/train/mask/_28_training_4.png  \n",
            "  inflating: drive_256_256_dice_bce_0_4__0_4_1/split_2/train/mask/_30_training_7.png  \n",
            "  inflating: drive_256_256_dice_bce_0_4__0_4_1/split_2/train/mask/_21_training_6.png  \n",
            "  inflating: drive_256_256_dice_bce_0_4__0_4_1/split_2/train/mask/_40_training_1.png  \n",
            "  inflating: drive_256_256_dice_bce_0_4__0_4_1/split_2/train/mask/_35_training_4.png  \n",
            "  inflating: drive_256_256_dice_bce_0_4__0_4_1/split_2/train/mask/_30_training_2.png  \n",
            "  inflating: drive_256_256_dice_bce_0_4__0_4_1/split_2/train/mask/_33_training_4.png  \n",
            "  inflating: drive_256_256_dice_bce_0_4__0_4_1/split_2/train/mask/_34_training_4.png  \n",
            "  inflating: drive_256_256_dice_bce_0_4__0_4_1/split_2/train/mask/_22_training_7.png  \n",
            "  inflating: drive_256_256_dice_bce_0_4__0_4_1/split_2/train/mask/_35_training_5.png  \n",
            "  inflating: drive_256_256_dice_bce_0_4__0_4_1/split_2/train/mask/_29_training_1.png  \n",
            "  inflating: drive_256_256_dice_bce_0_4__0_4_1/split_2/train/mask/_22_training_0.png  \n",
            "  inflating: drive_256_256_dice_bce_0_4__0_4_1/split_2/train/mask/_22_training_8.png  \n",
            "  inflating: drive_256_256_dice_bce_0_4__0_4_1/split_2/train/mask/_26_training_7.png  \n",
            "  inflating: drive_256_256_dice_bce_0_4__0_4_1/split_2/train/mask/_21_training_4.png  \n",
            "  inflating: drive_256_256_dice_bce_0_4__0_4_1/split_2/train/mask/_40_training_2.png  \n",
            "  inflating: drive_256_256_dice_bce_0_4__0_4_1/split_2/train/mask/_24_training_7.png  \n",
            "  inflating: drive_256_256_dice_bce_0_4__0_4_1/split_2/train/mask/_32_training_3.png  \n",
            "  inflating: drive_256_256_dice_bce_0_4__0_4_1/split_2/train/mask/_38_training_0.png  \n",
            "  inflating: drive_256_256_dice_bce_0_4__0_4_1/split_2/train/mask/_37_training_8.png  \n",
            "  inflating: drive_256_256_dice_bce_0_4__0_4_1/split_2/train/mask/_32_training_1.png  \n",
            "  inflating: drive_256_256_dice_bce_0_4__0_4_1/split_2/train/mask/_21_training_0.png  \n",
            "  inflating: drive_256_256_dice_bce_0_4__0_4_1/split_2/train/mask/_40_training_5.png  \n",
            "  inflating: drive_256_256_dice_bce_0_4__0_4_1/split_2/train/mask/_27_training_5.png  \n",
            "  inflating: drive_256_256_dice_bce_0_4__0_4_1/split_2/train/mask/_30_training_4.png  \n",
            "  inflating: drive_256_256_dice_bce_0_4__0_4_1/split_2/train/mask/_24_training_8.png  \n",
            "  inflating: drive_256_256_dice_bce_0_4__0_4_1/split_2/train/mask/_35_training_3.png  \n",
            "  inflating: drive_256_256_dice_bce_0_4__0_4_1/split_2/train/mask/_21_training_1.png  \n",
            "  inflating: drive_256_256_dice_bce_0_4__0_4_1/split_2/train/mask/_26_training_1.png  \n",
            "  inflating: drive_256_256_dice_bce_0_4__0_4_1/split_2/train/mask/_33_training_8.png  \n",
            "  inflating: drive_256_256_dice_bce_0_4__0_4_1/split_2/train/mask/_27_training_0.png  \n",
            "  inflating: drive_256_256_dice_bce_0_4__0_4_1/split_2/train/mask/_30_training_0.png  \n",
            "  inflating: drive_256_256_dice_bce_0_4__0_4_1/split_2/train/mask/_25_training_7.png  \n",
            "  inflating: drive_256_256_dice_bce_0_4__0_4_1/split_2/train/mask/_28_training_8.png  \n",
            "  inflating: drive_256_256_dice_bce_0_4__0_4_1/split_2/train/mask/_40_training_4.png  \n",
            "  inflating: drive_256_256_dice_bce_0_4__0_4_1/split_2/train/mask/_25_training_6.png  \n",
            "  inflating: drive_256_256_dice_bce_0_4__0_4_1/split_2/train/mask/_32_training_2.png  \n",
            "  inflating: drive_256_256_dice_bce_0_4__0_4_1/split_2/train/mask/_32_training_7.png  \n",
            "  inflating: drive_256_256_dice_bce_0_4__0_4_1/split_2/train/mask/_30_training_8.png  \n",
            "  inflating: drive_256_256_dice_bce_0_4__0_4_1/split_2/train/mask/_31_training_8.png  \n",
            "  inflating: drive_256_256_dice_bce_0_4__0_4_1/split_2/train/mask/_26_training_2.png  \n",
            "  inflating: drive_256_256_dice_bce_0_4__0_4_1/split_2/train/mask/_23_training_7.png  \n",
            "  inflating: drive_256_256_dice_bce_0_4__0_4_1/split_2/train/mask/_28_training_1.png  \n",
            "  inflating: drive_256_256_dice_bce_0_4__0_4_1/split_2/train/mask/_27_training_7.png  \n",
            "  inflating: drive_256_256_dice_bce_0_4__0_4_1/split_2/train/mask/_38_training_2.png  \n",
            "  inflating: drive_256_256_dice_bce_0_4__0_4_1/split_2/train/mask/_28_training_5.png  \n",
            "  inflating: drive_256_256_dice_bce_0_4__0_4_1/split_2/train/mask/_32_training_5.png  \n",
            "  inflating: drive_256_256_dice_bce_0_4__0_4_1/split_2/train/mask/_26_training_0.png  \n",
            "  inflating: drive_256_256_dice_bce_0_4__0_4_1/split_2/train/mask/_37_training_0.png  \n",
            "  inflating: drive_256_256_dice_bce_0_4__0_4_1/split_2/train/mask/_34_training_5.png  \n",
            "  inflating: drive_256_256_dice_bce_0_4__0_4_1/split_2/train/mask/_35_training_6.png  \n",
            "  inflating: drive_256_256_dice_bce_0_4__0_4_1/split_2/train/mask/_40_training_7.png  \n",
            "  inflating: drive_256_256_dice_bce_0_4__0_4_1/split_2/train/mask/_27_training_1.png  \n",
            "  inflating: drive_256_256_dice_bce_0_4__0_4_1/split_2/train/mask/_26_training_3.png  \n",
            "  inflating: drive_256_256_dice_bce_0_4__0_4_1/split_2/train/mask/_21_training_7.png  \n",
            "  inflating: drive_256_256_dice_bce_0_4__0_4_1/split_2/train/mask/_37_training_3.png  \n",
            "  inflating: drive_256_256_dice_bce_0_4__0_4_1/split_2/train/mask/_24_training_5.png  \n",
            "  inflating: drive_256_256_dice_bce_0_4__0_4_1/split_2/train/mask/_36_training_3.png  \n",
            "  inflating: drive_256_256_dice_bce_0_4__0_4_1/split_2/train/mask/_40_training_8.png  \n",
            "  inflating: drive_256_256_dice_bce_0_4__0_4_1/split_2/train/mask/_35_training_8.png  \n",
            "  inflating: drive_256_256_dice_bce_0_4__0_4_1/split_2/train/mask/_34_training_8.png  \n",
            "  inflating: drive_256_256_dice_bce_0_4__0_4_1/split_2/train/mask/_26_training_6.png  \n",
            "  inflating: drive_256_256_dice_bce_0_4__0_4_1/split_2/train/mask/_22_training_3.png  \n",
            "  inflating: drive_256_256_dice_bce_0_4__0_4_1/split_2/train/mask/_38_training_6.png  \n",
            "  inflating: drive_256_256_dice_bce_0_4__0_4_1/split_2/train/mask/_35_training_2.png  \n",
            "  inflating: drive_256_256_dice_bce_0_4__0_4_1/split_2/train/mask/_25_training_4.png  \n",
            "  inflating: drive_256_256_dice_bce_0_4__0_4_1/split_2/train/mask/_37_training_6.png  \n",
            "  inflating: drive_256_256_dice_bce_0_4__0_4_1/split_2/train/mask/_30_training_3.png  \n",
            "  inflating: drive_256_256_dice_bce_0_4__0_4_1/split_2/train/mask/_22_training_6.png  \n",
            "  inflating: drive_256_256_dice_bce_0_4__0_4_1/split_2/train/mask/_37_training_1.png  \n",
            "  inflating: drive_256_256_dice_bce_0_4__0_4_1/split_2/train/mask/_21_training_2.png  \n",
            "  inflating: drive_256_256_dice_bce_0_4__0_4_1/split_2/train/mask/_39_training_8.png  \n",
            "  inflating: drive_256_256_dice_bce_0_4__0_4_1/split_2/train/mask/_28_training_2.png  \n",
            "  inflating: drive_256_256_dice_bce_0_4__0_4_1/split_2/train/mask/_21_training_8.png  \n",
            "  inflating: drive_256_256_dice_bce_0_4__0_4_1/split_2/train/mask/_29_training_3.png  \n",
            "  inflating: drive_256_256_dice_bce_0_4__0_4_1/split_2/train/mask/_39_training_3.png  \n",
            "  inflating: drive_256_256_dice_bce_0_4__0_4_1/split_2/train/mask/_34_training_6.png  \n",
            "  inflating: drive_256_256_dice_bce_0_4__0_4_1/split_2/train/mask/_32_training_6.png  \n",
            "  inflating: drive_256_256_dice_bce_0_4__0_4_1/split_2/train/mask/_23_training_5.png  \n",
            "  inflating: drive_256_256_dice_bce_0_4__0_4_1/split_2/train/mask/_33_training_0.png  \n",
            "  inflating: drive_256_256_dice_bce_0_4__0_4_1/split_2/train/mask/_37_training_2.png  \n",
            "  inflating: drive_256_256_dice_bce_0_4__0_4_1/split_2/train/mask/_37_training_7.png  \n",
            "  inflating: drive_256_256_dice_bce_0_4__0_4_1/split_2/train/mask/_36_training_4.png  \n",
            "  inflating: drive_256_256_dice_bce_0_4__0_4_1/split_2/train/mask/_25_training_0.png  \n",
            "  inflating: drive_256_256_dice_bce_0_4__0_4_1/split_2/train/mask/_33_training_7.png  \n",
            "  inflating: drive_256_256_dice_bce_0_4__0_4_1/split_2/train/mask/_25_training_5.png  \n",
            "  inflating: drive_256_256_dice_bce_0_4__0_4_1/split_2/train/mask/_23_training_3.png  \n",
            "  inflating: drive_256_256_dice_bce_0_4__0_4_1/split_2/train/mask/_31_training_4.png  \n",
            "  inflating: drive_256_256_dice_bce_0_4__0_4_1/split_2/train/mask/_29_training_7.png  \n",
            "  inflating: drive_256_256_dice_bce_0_4__0_4_1/split_2/train/mask/_38_training_4.png  \n",
            "  inflating: drive_256_256_dice_bce_0_4__0_4_1/split_2/train/mask/_39_training_1.png  \n",
            "  inflating: drive_256_256_dice_bce_0_4__0_4_1/split_2/train/mask/_27_training_3.png  \n",
            "  inflating: drive_256_256_dice_bce_0_4__0_4_1/split_2/train/mask/_34_training_2.png  \n",
            "  inflating: drive_256_256_dice_bce_0_4__0_4_1/split_2/train/mask/_39_training_7.png  \n",
            "  inflating: drive_256_256_dice_bce_0_4__0_4_1/split_2/train/mask/_28_training_6.png  \n",
            "  inflating: drive_256_256_dice_bce_0_4__0_4_1/split_2/train/mask/_30_training_1.png  \n",
            "  inflating: drive_256_256_dice_bce_0_4__0_4_1/split_2/train/mask/_27_training_6.png  \n",
            "   creating: drive_256_256_dice_bce_0_4__0_4_1/split_2/train/image/\n",
            "  inflating: drive_256_256_dice_bce_0_4__0_4_1/split_2/train/image/_23_training_2.png  \n",
            "  inflating: drive_256_256_dice_bce_0_4__0_4_1/split_2/train/image/_24_training_4.png  \n",
            "  inflating: drive_256_256_dice_bce_0_4__0_4_1/split_2/train/image/_25_training_2.png  \n",
            "  inflating: drive_256_256_dice_bce_0_4__0_4_1/split_2/train/image/_31_training_2.png  \n",
            "  inflating: drive_256_256_dice_bce_0_4__0_4_1/split_2/train/image/_24_training_2.png  \n",
            "  inflating: drive_256_256_dice_bce_0_4__0_4_1/split_2/train/image/_31_training_7.png  \n",
            "  inflating: drive_256_256_dice_bce_0_4__0_4_1/split_2/train/image/_26_training_5.png  \n",
            "  inflating: drive_256_256_dice_bce_0_4__0_4_1/split_2/train/image/_36_training_6.png  \n",
            "  inflating: drive_256_256_dice_bce_0_4__0_4_1/split_2/train/image/_23_training_0.png  \n",
            "  inflating: drive_256_256_dice_bce_0_4__0_4_1/split_2/train/image/_28_training_7.png  \n",
            "  inflating: drive_256_256_dice_bce_0_4__0_4_1/split_2/train/image/_24_training_6.png  \n",
            "  inflating: drive_256_256_dice_bce_0_4__0_4_1/split_2/train/image/_31_training_0.png  \n",
            "  inflating: drive_256_256_dice_bce_0_4__0_4_1/split_2/train/image/_36_training_1.png  \n",
            "  inflating: drive_256_256_dice_bce_0_4__0_4_1/split_2/train/image/_26_training_8.png  \n",
            "  inflating: drive_256_256_dice_bce_0_4__0_4_1/split_2/train/image/_21_training_5.png  \n",
            "  inflating: drive_256_256_dice_bce_0_4__0_4_1/split_2/train/image/_30_training_5.png  \n",
            "  inflating: drive_256_256_dice_bce_0_4__0_4_1/split_2/train/image/_40_training_3.png  \n",
            "  inflating: drive_256_256_dice_bce_0_4__0_4_1/split_2/train/image/_34_training_3.png  \n",
            "  inflating: drive_256_256_dice_bce_0_4__0_4_1/split_2/train/image/_35_training_0.png  \n",
            "  inflating: drive_256_256_dice_bce_0_4__0_4_1/split_2/train/image/_38_training_1.png  \n",
            "  inflating: drive_256_256_dice_bce_0_4__0_4_1/split_2/train/image/_26_training_4.png  \n",
            "  inflating: drive_256_256_dice_bce_0_4__0_4_1/split_2/train/image/_28_training_0.png  \n",
            "  inflating: drive_256_256_dice_bce_0_4__0_4_1/split_2/train/image/_29_training_4.png  \n",
            "  inflating: drive_256_256_dice_bce_0_4__0_4_1/split_2/train/image/_32_training_0.png  \n",
            "  inflating: drive_256_256_dice_bce_0_4__0_4_1/split_2/train/image/_39_training_0.png  \n",
            "  inflating: drive_256_256_dice_bce_0_4__0_4_1/split_2/train/image/_39_training_5.png  \n",
            "  inflating: drive_256_256_dice_bce_0_4__0_4_1/split_2/train/image/_37_training_5.png  \n",
            "  inflating: drive_256_256_dice_bce_0_4__0_4_1/split_2/train/image/_34_training_0.png  \n",
            "  inflating: drive_256_256_dice_bce_0_4__0_4_1/split_2/train/image/_36_training_0.png  \n",
            "  inflating: drive_256_256_dice_bce_0_4__0_4_1/split_2/train/image/_37_training_4.png  \n",
            "  inflating: drive_256_256_dice_bce_0_4__0_4_1/split_2/train/image/_39_training_6.png  \n",
            "  inflating: drive_256_256_dice_bce_0_4__0_4_1/split_2/train/image/_22_training_2.png  \n",
            "  inflating: drive_256_256_dice_bce_0_4__0_4_1/split_2/train/image/_34_training_7.png  \n",
            "  inflating: drive_256_256_dice_bce_0_4__0_4_1/split_2/train/image/_38_training_3.png  \n",
            "  inflating: drive_256_256_dice_bce_0_4__0_4_1/split_2/train/image/_32_training_4.png  \n",
            "  inflating: drive_256_256_dice_bce_0_4__0_4_1/split_2/train/image/_33_training_1.png  \n",
            "  inflating: drive_256_256_dice_bce_0_4__0_4_1/split_2/train/image/_38_training_8.png  \n",
            "  inflating: drive_256_256_dice_bce_0_4__0_4_1/split_2/train/image/_24_training_0.png  \n",
            "  inflating: drive_256_256_dice_bce_0_4__0_4_1/split_2/train/image/_33_training_2.png  \n",
            "  inflating: drive_256_256_dice_bce_0_4__0_4_1/split_2/train/image/_27_training_8.png  \n",
            "  inflating: drive_256_256_dice_bce_0_4__0_4_1/split_2/train/image/_25_training_8.png  \n",
            "  inflating: drive_256_256_dice_bce_0_4__0_4_1/split_2/train/image/_24_training_1.png  \n",
            "  inflating: drive_256_256_dice_bce_0_4__0_4_1/split_2/train/image/_32_training_8.png  \n",
            "  inflating: drive_256_256_dice_bce_0_4__0_4_1/split_2/train/image/_29_training_2.png  \n",
            "  inflating: drive_256_256_dice_bce_0_4__0_4_1/split_2/train/image/_29_training_5.png  \n",
            "  inflating: drive_256_256_dice_bce_0_4__0_4_1/split_2/train/image/_25_training_3.png  \n",
            "  inflating: drive_256_256_dice_bce_0_4__0_4_1/split_2/train/image/_36_training_5.png  \n",
            "  inflating: drive_256_256_dice_bce_0_4__0_4_1/split_2/train/image/_23_training_8.png  \n",
            "  inflating: drive_256_256_dice_bce_0_4__0_4_1/split_2/train/image/_36_training_8.png  \n",
            "  inflating: drive_256_256_dice_bce_0_4__0_4_1/split_2/train/image/_39_training_4.png  \n",
            "  inflating: drive_256_256_dice_bce_0_4__0_4_1/split_2/train/image/_21_training_3.png  \n",
            "  inflating: drive_256_256_dice_bce_0_4__0_4_1/split_2/train/image/_24_training_3.png  \n",
            "  inflating: drive_256_256_dice_bce_0_4__0_4_1/split_2/train/image/_39_training_2.png  \n",
            "  inflating: drive_256_256_dice_bce_0_4__0_4_1/split_2/train/image/_22_training_4.png  \n",
            "  inflating: drive_256_256_dice_bce_0_4__0_4_1/split_2/train/image/_29_training_0.png  \n",
            "  inflating: drive_256_256_dice_bce_0_4__0_4_1/split_2/train/image/_30_training_6.png  \n",
            "  inflating: drive_256_256_dice_bce_0_4__0_4_1/split_2/train/image/_35_training_1.png  \n",
            "  inflating: drive_256_256_dice_bce_0_4__0_4_1/split_2/train/image/_40_training_6.png  \n",
            "  inflating: drive_256_256_dice_bce_0_4__0_4_1/split_2/train/image/_31_training_3.png  \n",
            "  inflating: drive_256_256_dice_bce_0_4__0_4_1/split_2/train/image/_23_training_1.png  \n",
            "  inflating: drive_256_256_dice_bce_0_4__0_4_1/split_2/train/image/_25_training_1.png  \n",
            "  inflating: drive_256_256_dice_bce_0_4__0_4_1/split_2/train/image/_29_training_8.png  \n",
            "  inflating: drive_256_256_dice_bce_0_4__0_4_1/split_2/train/image/_31_training_6.png  \n",
            "  inflating: drive_256_256_dice_bce_0_4__0_4_1/split_2/train/image/_23_training_4.png  \n",
            "  inflating: drive_256_256_dice_bce_0_4__0_4_1/split_2/train/image/_38_training_5.png  \n",
            "  inflating: drive_256_256_dice_bce_0_4__0_4_1/split_2/train/image/_33_training_5.png  \n",
            "  inflating: drive_256_256_dice_bce_0_4__0_4_1/split_2/train/image/_38_training_7.png  \n",
            "  inflating: drive_256_256_dice_bce_0_4__0_4_1/split_2/train/image/_36_training_7.png  \n",
            "  inflating: drive_256_256_dice_bce_0_4__0_4_1/split_2/train/image/_28_training_3.png  \n",
            "  inflating: drive_256_256_dice_bce_0_4__0_4_1/split_2/train/image/_34_training_1.png  \n",
            "  inflating: drive_256_256_dice_bce_0_4__0_4_1/split_2/train/image/_29_training_6.png  \n",
            "  inflating: drive_256_256_dice_bce_0_4__0_4_1/split_2/train/image/_23_training_6.png  \n",
            "  inflating: drive_256_256_dice_bce_0_4__0_4_1/split_2/train/image/_33_training_6.png  \n",
            "  inflating: drive_256_256_dice_bce_0_4__0_4_1/split_2/train/image/_27_training_2.png  \n",
            "  inflating: drive_256_256_dice_bce_0_4__0_4_1/split_2/train/image/_40_training_0.png  \n",
            "  inflating: drive_256_256_dice_bce_0_4__0_4_1/split_2/train/image/_22_training_5.png  \n",
            "  inflating: drive_256_256_dice_bce_0_4__0_4_1/split_2/train/image/_35_training_7.png  \n",
            "  inflating: drive_256_256_dice_bce_0_4__0_4_1/split_2/train/image/_31_training_5.png  \n",
            "  inflating: drive_256_256_dice_bce_0_4__0_4_1/split_2/train/image/_31_training_1.png  \n",
            "  inflating: drive_256_256_dice_bce_0_4__0_4_1/split_2/train/image/_36_training_2.png  \n",
            "  inflating: drive_256_256_dice_bce_0_4__0_4_1/split_2/train/image/_33_training_3.png  \n",
            "  inflating: drive_256_256_dice_bce_0_4__0_4_1/split_2/train/image/_22_training_1.png  \n",
            "  inflating: drive_256_256_dice_bce_0_4__0_4_1/split_2/train/image/_27_training_4.png  \n",
            "  inflating: drive_256_256_dice_bce_0_4__0_4_1/split_2/train/image/_28_training_4.png  \n",
            "  inflating: drive_256_256_dice_bce_0_4__0_4_1/split_2/train/image/_30_training_7.png  \n",
            "  inflating: drive_256_256_dice_bce_0_4__0_4_1/split_2/train/image/_21_training_6.png  \n",
            "  inflating: drive_256_256_dice_bce_0_4__0_4_1/split_2/train/image/_40_training_1.png  \n",
            "  inflating: drive_256_256_dice_bce_0_4__0_4_1/split_2/train/image/_35_training_4.png  \n",
            "  inflating: drive_256_256_dice_bce_0_4__0_4_1/split_2/train/image/_30_training_2.png  \n",
            "  inflating: drive_256_256_dice_bce_0_4__0_4_1/split_2/train/image/_33_training_4.png  \n",
            "  inflating: drive_256_256_dice_bce_0_4__0_4_1/split_2/train/image/_34_training_4.png  \n",
            "  inflating: drive_256_256_dice_bce_0_4__0_4_1/split_2/train/image/_22_training_7.png  \n",
            "  inflating: drive_256_256_dice_bce_0_4__0_4_1/split_2/train/image/_35_training_5.png  \n",
            "  inflating: drive_256_256_dice_bce_0_4__0_4_1/split_2/train/image/_29_training_1.png  \n",
            "  inflating: drive_256_256_dice_bce_0_4__0_4_1/split_2/train/image/_22_training_0.png  \n",
            "  inflating: drive_256_256_dice_bce_0_4__0_4_1/split_2/train/image/_22_training_8.png  \n",
            "  inflating: drive_256_256_dice_bce_0_4__0_4_1/split_2/train/image/_26_training_7.png  \n",
            "  inflating: drive_256_256_dice_bce_0_4__0_4_1/split_2/train/image/_21_training_4.png  \n",
            "  inflating: drive_256_256_dice_bce_0_4__0_4_1/split_2/train/image/_40_training_2.png  \n",
            "  inflating: drive_256_256_dice_bce_0_4__0_4_1/split_2/train/image/_24_training_7.png  \n",
            "  inflating: drive_256_256_dice_bce_0_4__0_4_1/split_2/train/image/_32_training_3.png  \n",
            "  inflating: drive_256_256_dice_bce_0_4__0_4_1/split_2/train/image/_38_training_0.png  \n",
            "  inflating: drive_256_256_dice_bce_0_4__0_4_1/split_2/train/image/_37_training_8.png  \n",
            "  inflating: drive_256_256_dice_bce_0_4__0_4_1/split_2/train/image/_32_training_1.png  \n",
            "  inflating: drive_256_256_dice_bce_0_4__0_4_1/split_2/train/image/_21_training_0.png  \n",
            "  inflating: drive_256_256_dice_bce_0_4__0_4_1/split_2/train/image/_40_training_5.png  \n",
            "  inflating: drive_256_256_dice_bce_0_4__0_4_1/split_2/train/image/_27_training_5.png  \n",
            "  inflating: drive_256_256_dice_bce_0_4__0_4_1/split_2/train/image/_30_training_4.png  \n",
            "  inflating: drive_256_256_dice_bce_0_4__0_4_1/split_2/train/image/_24_training_8.png  \n",
            "  inflating: drive_256_256_dice_bce_0_4__0_4_1/split_2/train/image/_35_training_3.png  \n",
            "  inflating: drive_256_256_dice_bce_0_4__0_4_1/split_2/train/image/_21_training_1.png  \n",
            "  inflating: drive_256_256_dice_bce_0_4__0_4_1/split_2/train/image/_26_training_1.png  \n",
            "  inflating: drive_256_256_dice_bce_0_4__0_4_1/split_2/train/image/_33_training_8.png  \n",
            "  inflating: drive_256_256_dice_bce_0_4__0_4_1/split_2/train/image/_27_training_0.png  \n",
            "  inflating: drive_256_256_dice_bce_0_4__0_4_1/split_2/train/image/_30_training_0.png  \n",
            "  inflating: drive_256_256_dice_bce_0_4__0_4_1/split_2/train/image/_25_training_7.png  \n",
            "  inflating: drive_256_256_dice_bce_0_4__0_4_1/split_2/train/image/_28_training_8.png  \n",
            "  inflating: drive_256_256_dice_bce_0_4__0_4_1/split_2/train/image/_40_training_4.png  \n",
            "  inflating: drive_256_256_dice_bce_0_4__0_4_1/split_2/train/image/_25_training_6.png  \n",
            "  inflating: drive_256_256_dice_bce_0_4__0_4_1/split_2/train/image/_32_training_2.png  \n",
            "  inflating: drive_256_256_dice_bce_0_4__0_4_1/split_2/train/image/_32_training_7.png  \n",
            "  inflating: drive_256_256_dice_bce_0_4__0_4_1/split_2/train/image/_30_training_8.png  \n",
            "  inflating: drive_256_256_dice_bce_0_4__0_4_1/split_2/train/image/_31_training_8.png  \n",
            "  inflating: drive_256_256_dice_bce_0_4__0_4_1/split_2/train/image/_26_training_2.png  \n",
            "  inflating: drive_256_256_dice_bce_0_4__0_4_1/split_2/train/image/_23_training_7.png  \n",
            "  inflating: drive_256_256_dice_bce_0_4__0_4_1/split_2/train/image/_28_training_1.png  \n",
            "  inflating: drive_256_256_dice_bce_0_4__0_4_1/split_2/train/image/_27_training_7.png  \n",
            "  inflating: drive_256_256_dice_bce_0_4__0_4_1/split_2/train/image/_38_training_2.png  \n",
            "  inflating: drive_256_256_dice_bce_0_4__0_4_1/split_2/train/image/_28_training_5.png  \n",
            "  inflating: drive_256_256_dice_bce_0_4__0_4_1/split_2/train/image/_32_training_5.png  \n",
            "  inflating: drive_256_256_dice_bce_0_4__0_4_1/split_2/train/image/_26_training_0.png  \n",
            "  inflating: drive_256_256_dice_bce_0_4__0_4_1/split_2/train/image/_37_training_0.png  \n",
            "  inflating: drive_256_256_dice_bce_0_4__0_4_1/split_2/train/image/_34_training_5.png  \n",
            "  inflating: drive_256_256_dice_bce_0_4__0_4_1/split_2/train/image/_35_training_6.png  \n",
            "  inflating: drive_256_256_dice_bce_0_4__0_4_1/split_2/train/image/_40_training_7.png  \n",
            "  inflating: drive_256_256_dice_bce_0_4__0_4_1/split_2/train/image/_27_training_1.png  \n",
            "  inflating: drive_256_256_dice_bce_0_4__0_4_1/split_2/train/image/_26_training_3.png  \n",
            "  inflating: drive_256_256_dice_bce_0_4__0_4_1/split_2/train/image/_21_training_7.png  \n",
            "  inflating: drive_256_256_dice_bce_0_4__0_4_1/split_2/train/image/_37_training_3.png  \n",
            "  inflating: drive_256_256_dice_bce_0_4__0_4_1/split_2/train/image/_24_training_5.png  \n",
            "  inflating: drive_256_256_dice_bce_0_4__0_4_1/split_2/train/image/_36_training_3.png  \n",
            "  inflating: drive_256_256_dice_bce_0_4__0_4_1/split_2/train/image/_40_training_8.png  \n",
            "  inflating: drive_256_256_dice_bce_0_4__0_4_1/split_2/train/image/_35_training_8.png  \n",
            "  inflating: drive_256_256_dice_bce_0_4__0_4_1/split_2/train/image/_34_training_8.png  \n",
            "  inflating: drive_256_256_dice_bce_0_4__0_4_1/split_2/train/image/_26_training_6.png  \n",
            "  inflating: drive_256_256_dice_bce_0_4__0_4_1/split_2/train/image/_22_training_3.png  \n",
            "  inflating: drive_256_256_dice_bce_0_4__0_4_1/split_2/train/image/_38_training_6.png  \n",
            "  inflating: drive_256_256_dice_bce_0_4__0_4_1/split_2/train/image/_35_training_2.png  \n",
            "  inflating: drive_256_256_dice_bce_0_4__0_4_1/split_2/train/image/_25_training_4.png  \n",
            "  inflating: drive_256_256_dice_bce_0_4__0_4_1/split_2/train/image/_37_training_6.png  \n",
            "  inflating: drive_256_256_dice_bce_0_4__0_4_1/split_2/train/image/_30_training_3.png  \n",
            "  inflating: drive_256_256_dice_bce_0_4__0_4_1/split_2/train/image/_22_training_6.png  \n",
            "  inflating: drive_256_256_dice_bce_0_4__0_4_1/split_2/train/image/_37_training_1.png  \n",
            "  inflating: drive_256_256_dice_bce_0_4__0_4_1/split_2/train/image/_21_training_2.png  \n",
            "  inflating: drive_256_256_dice_bce_0_4__0_4_1/split_2/train/image/_39_training_8.png  \n",
            "  inflating: drive_256_256_dice_bce_0_4__0_4_1/split_2/train/image/_28_training_2.png  \n",
            "  inflating: drive_256_256_dice_bce_0_4__0_4_1/split_2/train/image/_21_training_8.png  \n",
            "  inflating: drive_256_256_dice_bce_0_4__0_4_1/split_2/train/image/_29_training_3.png  \n",
            "  inflating: drive_256_256_dice_bce_0_4__0_4_1/split_2/train/image/_39_training_3.png  \n",
            "  inflating: drive_256_256_dice_bce_0_4__0_4_1/split_2/train/image/_34_training_6.png  \n",
            "  inflating: drive_256_256_dice_bce_0_4__0_4_1/split_2/train/image/_32_training_6.png  \n",
            "  inflating: drive_256_256_dice_bce_0_4__0_4_1/split_2/train/image/_23_training_5.png  \n",
            "  inflating: drive_256_256_dice_bce_0_4__0_4_1/split_2/train/image/_33_training_0.png  \n",
            "  inflating: drive_256_256_dice_bce_0_4__0_4_1/split_2/train/image/_37_training_2.png  \n",
            "  inflating: drive_256_256_dice_bce_0_4__0_4_1/split_2/train/image/_37_training_7.png  \n",
            "  inflating: drive_256_256_dice_bce_0_4__0_4_1/split_2/train/image/_36_training_4.png  \n",
            "  inflating: drive_256_256_dice_bce_0_4__0_4_1/split_2/train/image/_25_training_0.png  \n",
            "  inflating: drive_256_256_dice_bce_0_4__0_4_1/split_2/train/image/_33_training_7.png  \n",
            "  inflating: drive_256_256_dice_bce_0_4__0_4_1/split_2/train/image/_25_training_5.png  \n",
            "  inflating: drive_256_256_dice_bce_0_4__0_4_1/split_2/train/image/_23_training_3.png  \n",
            "  inflating: drive_256_256_dice_bce_0_4__0_4_1/split_2/train/image/_31_training_4.png  \n",
            "  inflating: drive_256_256_dice_bce_0_4__0_4_1/split_2/train/image/_29_training_7.png  \n",
            "  inflating: drive_256_256_dice_bce_0_4__0_4_1/split_2/train/image/_38_training_4.png  \n",
            "  inflating: drive_256_256_dice_bce_0_4__0_4_1/split_2/train/image/_39_training_1.png  \n",
            "  inflating: drive_256_256_dice_bce_0_4__0_4_1/split_2/train/image/_27_training_3.png  \n",
            "  inflating: drive_256_256_dice_bce_0_4__0_4_1/split_2/train/image/_34_training_2.png  \n",
            "  inflating: drive_256_256_dice_bce_0_4__0_4_1/split_2/train/image/_39_training_7.png  \n",
            "  inflating: drive_256_256_dice_bce_0_4__0_4_1/split_2/train/image/_28_training_6.png  \n",
            "  inflating: drive_256_256_dice_bce_0_4__0_4_1/split_2/train/image/_30_training_1.png  \n",
            "  inflating: drive_256_256_dice_bce_0_4__0_4_1/split_2/train/image/_27_training_6.png  \n",
            "   creating: drive_256_256_dice_bce_0_4__0_4_1/results_reconstructed/\n",
            "   creating: drive_256_256_dice_bce_0_4__0_4_1/test/\n",
            "   creating: drive_256_256_dice_bce_0_4__0_4_1/test/1st_manual/\n",
            " extracting: drive_256_256_dice_bce_0_4__0_4_1/test/1st_manual/15_manual1.gif  \n",
            " extracting: drive_256_256_dice_bce_0_4__0_4_1/test/1st_manual/03_manual1.gif  \n",
            " extracting: drive_256_256_dice_bce_0_4__0_4_1/test/1st_manual/08_manual1.gif  \n",
            " extracting: drive_256_256_dice_bce_0_4__0_4_1/test/1st_manual/01_manual1.gif  \n",
            " extracting: drive_256_256_dice_bce_0_4__0_4_1/test/1st_manual/06_manual1.gif  \n",
            " extracting: drive_256_256_dice_bce_0_4__0_4_1/test/1st_manual/05_manual1.gif  \n",
            " extracting: drive_256_256_dice_bce_0_4__0_4_1/test/1st_manual/19_manual1.gif  \n",
            " extracting: drive_256_256_dice_bce_0_4__0_4_1/test/1st_manual/10_manual1.gif  \n",
            " extracting: drive_256_256_dice_bce_0_4__0_4_1/test/1st_manual/02_manual1.gif  \n",
            " extracting: drive_256_256_dice_bce_0_4__0_4_1/test/1st_manual/20_manual1.gif  \n",
            " extracting: drive_256_256_dice_bce_0_4__0_4_1/test/1st_manual/04_manual1.gif  \n",
            " extracting: drive_256_256_dice_bce_0_4__0_4_1/test/1st_manual/13_manual1.gif  \n",
            " extracting: drive_256_256_dice_bce_0_4__0_4_1/test/1st_manual/07_manual1.gif  \n",
            " extracting: drive_256_256_dice_bce_0_4__0_4_1/test/1st_manual/12_manual1.gif  \n",
            " extracting: drive_256_256_dice_bce_0_4__0_4_1/test/1st_manual/18_manual1.gif  \n",
            " extracting: drive_256_256_dice_bce_0_4__0_4_1/test/1st_manual/14_manual1.gif  \n",
            " extracting: drive_256_256_dice_bce_0_4__0_4_1/test/1st_manual/17_manual1.gif  \n",
            " extracting: drive_256_256_dice_bce_0_4__0_4_1/test/1st_manual/16_manual1.gif  \n",
            " extracting: drive_256_256_dice_bce_0_4__0_4_1/test/1st_manual/11_manual1.gif  \n",
            " extracting: drive_256_256_dice_bce_0_4__0_4_1/test/1st_manual/09_manual1.gif  \n",
            "   creating: drive_256_256_dice_bce_0_4__0_4_1/test/images/\n",
            "  inflating: drive_256_256_dice_bce_0_4__0_4_1/test/images/11_test.tif  \n",
            "  inflating: drive_256_256_dice_bce_0_4__0_4_1/test/images/20_test.tif  \n",
            "  inflating: drive_256_256_dice_bce_0_4__0_4_1/test/images/06_test.tif  \n",
            "  inflating: drive_256_256_dice_bce_0_4__0_4_1/test/images/13_test.tif  \n",
            "  inflating: drive_256_256_dice_bce_0_4__0_4_1/test/images/17_test.tif  \n",
            "  inflating: drive_256_256_dice_bce_0_4__0_4_1/test/images/09_test.tif  \n",
            "  inflating: drive_256_256_dice_bce_0_4__0_4_1/test/images/02_test.tif  \n",
            "  inflating: drive_256_256_dice_bce_0_4__0_4_1/test/images/07_test.tif  \n",
            "  inflating: drive_256_256_dice_bce_0_4__0_4_1/test/images/19_test.tif  \n",
            "  inflating: drive_256_256_dice_bce_0_4__0_4_1/test/images/08_test.tif  \n",
            "  inflating: drive_256_256_dice_bce_0_4__0_4_1/test/images/01_test.tif  \n",
            "  inflating: drive_256_256_dice_bce_0_4__0_4_1/test/images/05_test.tif  \n",
            "  inflating: drive_256_256_dice_bce_0_4__0_4_1/test/images/18_test.tif  \n",
            "  inflating: drive_256_256_dice_bce_0_4__0_4_1/test/images/10_test.tif  \n",
            "  inflating: drive_256_256_dice_bce_0_4__0_4_1/test/images/04_test.tif  \n",
            "  inflating: drive_256_256_dice_bce_0_4__0_4_1/test/images/03_test.tif  \n",
            "  inflating: drive_256_256_dice_bce_0_4__0_4_1/test/images/15_test.tif  \n",
            "  inflating: drive_256_256_dice_bce_0_4__0_4_1/test/images/12_test.tif  \n",
            "  inflating: drive_256_256_dice_bce_0_4__0_4_1/test/images/14_test.tif  \n",
            "  inflating: drive_256_256_dice_bce_0_4__0_4_1/test/images/16_test.tif  \n",
            "   creating: drive_256_256_dice_bce_0_4__0_4_1/results/\n",
            "  inflating: drive_256_256_dice_bce_0_4__0_4_1/results/_09_test_2.png  \n",
            "  inflating: drive_256_256_dice_bce_0_4__0_4_1/results/_06_test_2.png  \n",
            "  inflating: drive_256_256_dice_bce_0_4__0_4_1/results/_07_test_5.png  \n",
            "  inflating: drive_256_256_dice_bce_0_4__0_4_1/results/_10_test_4.png  \n",
            "  inflating: drive_256_256_dice_bce_0_4__0_4_1/results/_03_test_6.png  \n",
            "  inflating: drive_256_256_dice_bce_0_4__0_4_1/results/_15_test_0.png  \n",
            "  inflating: drive_256_256_dice_bce_0_4__0_4_1/results/_03_test_2.png  \n",
            "  inflating: drive_256_256_dice_bce_0_4__0_4_1/results/_16_test_7.png  \n",
            "  inflating: drive_256_256_dice_bce_0_4__0_4_1/results/_11_test_8.png  \n",
            "  inflating: drive_256_256_dice_bce_0_4__0_4_1/results/_11_test_5.png  \n",
            "  inflating: drive_256_256_dice_bce_0_4__0_4_1/results/_10_test_5.png  \n",
            "  inflating: drive_256_256_dice_bce_0_4__0_4_1/results/_06_test_8.png  \n",
            "  inflating: drive_256_256_dice_bce_0_4__0_4_1/results/_02_test_7.png  \n",
            "  inflating: drive_256_256_dice_bce_0_4__0_4_1/results/_14_test_0.png  \n",
            "  inflating: drive_256_256_dice_bce_0_4__0_4_1/results/_18_test_7.png  \n",
            "  inflating: drive_256_256_dice_bce_0_4__0_4_1/results/_09_test_5.png  \n",
            "  inflating: drive_256_256_dice_bce_0_4__0_4_1/results/_15_test_3.png  \n",
            "  inflating: drive_256_256_dice_bce_0_4__0_4_1/results/_03_test_0.png  \n",
            "  inflating: drive_256_256_dice_bce_0_4__0_4_1/results/_02_test_0.png  \n",
            "  inflating: drive_256_256_dice_bce_0_4__0_4_1/results/_20_test_3.png  \n",
            "  inflating: drive_256_256_dice_bce_0_4__0_4_1/results/_09_test_3.png  \n",
            "  inflating: drive_256_256_dice_bce_0_4__0_4_1/results/_01_test_7.png  \n",
            "  inflating: drive_256_256_dice_bce_0_4__0_4_1/results/_03_test_5.png  \n",
            "  inflating: drive_256_256_dice_bce_0_4__0_4_1/results/_01_test_5.png  \n",
            "  inflating: drive_256_256_dice_bce_0_4__0_4_1/results/_12_test_7.png  \n",
            "  inflating: drive_256_256_dice_bce_0_4__0_4_1/results/_16_test_4.png  \n",
            "  inflating: drive_256_256_dice_bce_0_4__0_4_1/results/_12_test_4.png  \n",
            "  inflating: drive_256_256_dice_bce_0_4__0_4_1/results/_20_test_1.png  \n",
            "  inflating: drive_256_256_dice_bce_0_4__0_4_1/results/_13_test_7.png  \n",
            "  inflating: drive_256_256_dice_bce_0_4__0_4_1/results/_07_test_3.png  \n",
            "  inflating: drive_256_256_dice_bce_0_4__0_4_1/results/_12_test_8.png  \n",
            "  inflating: drive_256_256_dice_bce_0_4__0_4_1/results/_08_test_3.png  \n",
            "  inflating: drive_256_256_dice_bce_0_4__0_4_1/results/_12_test_2.png  \n",
            "  inflating: drive_256_256_dice_bce_0_4__0_4_1/results/_11_test_2.png  \n",
            "  inflating: drive_256_256_dice_bce_0_4__0_4_1/results/_09_test_0.png  \n",
            "  inflating: drive_256_256_dice_bce_0_4__0_4_1/results/_05_test_0.png  \n",
            "  inflating: drive_256_256_dice_bce_0_4__0_4_1/results/_19_test_4.png  \n",
            "  inflating: drive_256_256_dice_bce_0_4__0_4_1/results/_15_test_4.png  \n",
            "  inflating: drive_256_256_dice_bce_0_4__0_4_1/results/_03_test_3.png  \n",
            "  inflating: drive_256_256_dice_bce_0_4__0_4_1/results/_17_test_4.png  \n",
            "  inflating: drive_256_256_dice_bce_0_4__0_4_1/results/_17_test_2.png  \n",
            "  inflating: drive_256_256_dice_bce_0_4__0_4_1/results/_13_test_1.png  \n",
            "  inflating: drive_256_256_dice_bce_0_4__0_4_1/results/_15_test_1.png  \n",
            "  inflating: drive_256_256_dice_bce_0_4__0_4_1/results/_11_test_6.png  \n",
            "  inflating: drive_256_256_dice_bce_0_4__0_4_1/results/_17_test_8.png  \n",
            "  inflating: drive_256_256_dice_bce_0_4__0_4_1/results/_05_test_3.png  \n",
            "  inflating: drive_256_256_dice_bce_0_4__0_4_1/results/_14_test_8.png  \n",
            "  inflating: drive_256_256_dice_bce_0_4__0_4_1/results/_17_test_3.png  \n",
            "  inflating: drive_256_256_dice_bce_0_4__0_4_1/results/_20_test_6.png  \n",
            "  inflating: drive_256_256_dice_bce_0_4__0_4_1/results/_20_test_7.png  \n",
            "  inflating: drive_256_256_dice_bce_0_4__0_4_1/results/_07_test_2.png  \n",
            "  inflating: drive_256_256_dice_bce_0_4__0_4_1/results/_19_test_2.png  \n",
            "  inflating: drive_256_256_dice_bce_0_4__0_4_1/results/_07_test_1.png  \n",
            "  inflating: drive_256_256_dice_bce_0_4__0_4_1/results/_07_test_7.png  \n",
            "  inflating: drive_256_256_dice_bce_0_4__0_4_1/results/_04_test_0.png  \n",
            "  inflating: drive_256_256_dice_bce_0_4__0_4_1/results/_19_test_3.png  \n",
            "  inflating: drive_256_256_dice_bce_0_4__0_4_1/results/_15_test_5.png  \n",
            "  inflating: drive_256_256_dice_bce_0_4__0_4_1/results/_13_test_3.png  \n",
            "  inflating: drive_256_256_dice_bce_0_4__0_4_1/results/_20_test_0.png  \n",
            "  inflating: drive_256_256_dice_bce_0_4__0_4_1/results/_03_test_7.png  \n",
            "  inflating: drive_256_256_dice_bce_0_4__0_4_1/results/_10_test_8.png  \n",
            "  inflating: drive_256_256_dice_bce_0_4__0_4_1/results/_04_test_2.png  \n",
            "  inflating: drive_256_256_dice_bce_0_4__0_4_1/results/score.csv  \n",
            "  inflating: drive_256_256_dice_bce_0_4__0_4_1/results/_02_test_1.png  \n",
            "  inflating: drive_256_256_dice_bce_0_4__0_4_1/results/_07_test_4.png  \n",
            "  inflating: drive_256_256_dice_bce_0_4__0_4_1/results/_16_test_6.png  \n",
            "  inflating: drive_256_256_dice_bce_0_4__0_4_1/results/_18_test_6.png  \n",
            "  inflating: drive_256_256_dice_bce_0_4__0_4_1/results/_16_test_0.png  \n",
            "  inflating: drive_256_256_dice_bce_0_4__0_4_1/results/_06_test_5.png  \n",
            "  inflating: drive_256_256_dice_bce_0_4__0_4_1/results/_02_test_8.png  \n",
            "  inflating: drive_256_256_dice_bce_0_4__0_4_1/results/_07_test_0.png  \n",
            "  inflating: drive_256_256_dice_bce_0_4__0_4_1/results/_10_test_2.png  \n",
            "  inflating: drive_256_256_dice_bce_0_4__0_4_1/results/score_full_0_5.csv  \n",
            "  inflating: drive_256_256_dice_bce_0_4__0_4_1/results/_12_test_5.png  \n",
            "  inflating: drive_256_256_dice_bce_0_4__0_4_1/results/_09_test_6.png  \n",
            "  inflating: drive_256_256_dice_bce_0_4__0_4_1/results/_10_test_7.png  \n",
            "  inflating: drive_256_256_dice_bce_0_4__0_4_1/results/_18_test_3.png  \n",
            "  inflating: drive_256_256_dice_bce_0_4__0_4_1/results/_16_test_5.png  \n",
            "  inflating: drive_256_256_dice_bce_0_4__0_4_1/results/_20_test_8.png  \n",
            "  inflating: drive_256_256_dice_bce_0_4__0_4_1/results/_04_test_3.png  \n",
            "  inflating: drive_256_256_dice_bce_0_4__0_4_1/results/_02_test_5.png  \n",
            "  inflating: drive_256_256_dice_bce_0_4__0_4_1/results/_14_test_7.png  \n",
            "  inflating: drive_256_256_dice_bce_0_4__0_4_1/results/_08_test_0.png  \n",
            "  inflating: drive_256_256_dice_bce_0_4__0_4_1/results/_13_test_8.png  \n",
            "  inflating: drive_256_256_dice_bce_0_4__0_4_1/results/_18_test_4.png  \n",
            "  inflating: drive_256_256_dice_bce_0_4__0_4_1/results/_14_test_6.png  \n",
            "  inflating: drive_256_256_dice_bce_0_4__0_4_1/results/_08_test_1.png  \n",
            "  inflating: drive_256_256_dice_bce_0_4__0_4_1/results/_01_test_3.png  \n",
            "  inflating: drive_256_256_dice_bce_0_4__0_4_1/results/_11_test_3.png  \n",
            "  inflating: drive_256_256_dice_bce_0_4__0_4_1/results/_10_test_0.png  \n",
            "  inflating: drive_256_256_dice_bce_0_4__0_4_1/results/_16_test_3.png  \n",
            "  inflating: drive_256_256_dice_bce_0_4__0_4_1/results/_04_test_1.png  \n",
            "  inflating: drive_256_256_dice_bce_0_4__0_4_1/results/_17_test_1.png  \n",
            "  inflating: drive_256_256_dice_bce_0_4__0_4_1/results/_08_test_2.png  \n",
            "  inflating: drive_256_256_dice_bce_0_4__0_4_1/results/_04_test_6.png  \n",
            "  inflating: drive_256_256_dice_bce_0_4__0_4_1/results/_13_test_6.png  \n",
            "  inflating: drive_256_256_dice_bce_0_4__0_4_1/results/_18_test_5.png  \n",
            "  inflating: drive_256_256_dice_bce_0_4__0_4_1/results/_18_test_1.png  \n",
            "  inflating: drive_256_256_dice_bce_0_4__0_4_1/results/_16_test_2.png  \n",
            "  inflating: drive_256_256_dice_bce_0_4__0_4_1/results/score_full_0_6.csv  \n",
            "  inflating: drive_256_256_dice_bce_0_4__0_4_1/results/_13_test_5.png  \n",
            "  inflating: drive_256_256_dice_bce_0_4__0_4_1/results/_15_test_7.png  \n",
            "  inflating: drive_256_256_dice_bce_0_4__0_4_1/results/_09_test_8.png  \n",
            "  inflating: drive_256_256_dice_bce_0_4__0_4_1/results/score_full_0_4.csv  \n",
            "  inflating: drive_256_256_dice_bce_0_4__0_4_1/results/_19_test_0.png  \n",
            "  inflating: drive_256_256_dice_bce_0_4__0_4_1/results/_14_test_5.png  \n",
            "  inflating: drive_256_256_dice_bce_0_4__0_4_1/results/_11_test_4.png  \n",
            "  inflating: drive_256_256_dice_bce_0_4__0_4_1/results/_17_test_7.png  \n",
            "  inflating: drive_256_256_dice_bce_0_4__0_4_1/results/_04_test_5.png  \n",
            "  inflating: drive_256_256_dice_bce_0_4__0_4_1/results/_16_test_8.png  \n",
            "  inflating: drive_256_256_dice_bce_0_4__0_4_1/results/_18_test_0.png  \n",
            "  inflating: drive_256_256_dice_bce_0_4__0_4_1/results/_02_test_3.png  \n",
            "  inflating: drive_256_256_dice_bce_0_4__0_4_1/results/_01_test_4.png  \n",
            "  inflating: drive_256_256_dice_bce_0_4__0_4_1/results/_18_test_2.png  \n",
            "  inflating: drive_256_256_dice_bce_0_4__0_4_1/results/_03_test_4.png  \n",
            "  inflating: drive_256_256_dice_bce_0_4__0_4_1/results/_08_test_8.png  \n",
            "  inflating: drive_256_256_dice_bce_0_4__0_4_1/results/_16_test_1.png  \n",
            "  inflating: drive_256_256_dice_bce_0_4__0_4_1/results/_09_test_7.png  \n",
            "  inflating: drive_256_256_dice_bce_0_4__0_4_1/results/_11_test_1.png  \n",
            "  inflating: drive_256_256_dice_bce_0_4__0_4_1/results/_01_test_0.png  \n",
            "  inflating: drive_256_256_dice_bce_0_4__0_4_1/results/_08_test_5.png  \n",
            "  inflating: drive_256_256_dice_bce_0_4__0_4_1/results/_15_test_6.png  \n",
            "  inflating: drive_256_256_dice_bce_0_4__0_4_1/results/_05_test_6.png  \n",
            "  inflating: drive_256_256_dice_bce_0_4__0_4_1/results/_01_test_8.png  \n",
            "  inflating: drive_256_256_dice_bce_0_4__0_4_1/results/_13_test_0.png  \n",
            "  inflating: drive_256_256_dice_bce_0_4__0_4_1/results/_20_test_5.png  \n",
            "  inflating: drive_256_256_dice_bce_0_4__0_4_1/results/_17_test_0.png  \n",
            "  inflating: drive_256_256_dice_bce_0_4__0_4_1/results/_19_test_5.png  \n",
            "  inflating: drive_256_256_dice_bce_0_4__0_4_1/results/_11_test_0.png  \n",
            "  inflating: drive_256_256_dice_bce_0_4__0_4_1/results/_19_test_1.png  \n",
            "  inflating: drive_256_256_dice_bce_0_4__0_4_1/results/_01_test_6.png  \n",
            "  inflating: drive_256_256_dice_bce_0_4__0_4_1/results/_06_test_3.png  \n",
            "  inflating: drive_256_256_dice_bce_0_4__0_4_1/results/_10_test_3.png  \n",
            "  inflating: drive_256_256_dice_bce_0_4__0_4_1/results/_17_test_5.png  \n",
            "  inflating: drive_256_256_dice_bce_0_4__0_4_1/results/_02_test_6.png  \n",
            "  inflating: drive_256_256_dice_bce_0_4__0_4_1/results/_04_test_8.png  \n",
            "  inflating: drive_256_256_dice_bce_0_4__0_4_1/results/_13_test_4.png  \n",
            "  inflating: drive_256_256_dice_bce_0_4__0_4_1/results/_09_test_4.png  \n",
            "  inflating: drive_256_256_dice_bce_0_4__0_4_1/results/_17_test_6.png  \n",
            "  inflating: drive_256_256_dice_bce_0_4__0_4_1/results/_14_test_1.png  \n",
            "  inflating: drive_256_256_dice_bce_0_4__0_4_1/results/_02_test_2.png  \n",
            "  inflating: drive_256_256_dice_bce_0_4__0_4_1/results/_19_test_7.png  \n",
            "  inflating: drive_256_256_dice_bce_0_4__0_4_1/results/_19_test_6.png  \n",
            "  inflating: drive_256_256_dice_bce_0_4__0_4_1/results/_20_test_2.png  \n",
            "  inflating: drive_256_256_dice_bce_0_4__0_4_1/results/_10_test_1.png  \n",
            "  inflating: drive_256_256_dice_bce_0_4__0_4_1/results/_05_test_7.png  \n",
            "  inflating: drive_256_256_dice_bce_0_4__0_4_1/results/_06_test_1.png  \n",
            "  inflating: drive_256_256_dice_bce_0_4__0_4_1/results/_08_test_6.png  \n",
            "  inflating: drive_256_256_dice_bce_0_4__0_4_1/results/_06_test_6.png  \n",
            "  inflating: drive_256_256_dice_bce_0_4__0_4_1/results/_06_test_7.png  \n",
            "  inflating: drive_256_256_dice_bce_0_4__0_4_1/results/_19_test_8.png  \n",
            "  inflating: drive_256_256_dice_bce_0_4__0_4_1/results/_13_test_2.png  \n",
            "  inflating: drive_256_256_dice_bce_0_4__0_4_1/results/_03_test_1.png  \n",
            "  inflating: drive_256_256_dice_bce_0_4__0_4_1/results/_06_test_0.png  \n",
            "  inflating: drive_256_256_dice_bce_0_4__0_4_1/results/_15_test_2.png  \n",
            "  inflating: drive_256_256_dice_bce_0_4__0_4_1/results/_15_test_8.png  \n",
            "  inflating: drive_256_256_dice_bce_0_4__0_4_1/results/_05_test_4.png  \n",
            "  inflating: drive_256_256_dice_bce_0_4__0_4_1/results/_05_test_8.png  \n",
            "  inflating: drive_256_256_dice_bce_0_4__0_4_1/results/_12_test_0.png  \n",
            "  inflating: drive_256_256_dice_bce_0_4__0_4_1/results/_20_test_4.png  \n",
            "  inflating: drive_256_256_dice_bce_0_4__0_4_1/results/_05_test_5.png  \n",
            "  inflating: drive_256_256_dice_bce_0_4__0_4_1/results/_04_test_4.png  \n",
            "  inflating: drive_256_256_dice_bce_0_4__0_4_1/results/_12_test_1.png  \n",
            "  inflating: drive_256_256_dice_bce_0_4__0_4_1/results/_07_test_8.png  \n",
            "  inflating: drive_256_256_dice_bce_0_4__0_4_1/results/_03_test_8.png  \n",
            "  inflating: drive_256_256_dice_bce_0_4__0_4_1/results/_09_test_1.png  \n",
            "  inflating: drive_256_256_dice_bce_0_4__0_4_1/results/_12_test_6.png  \n",
            "  inflating: drive_256_256_dice_bce_0_4__0_4_1/results/_05_test_1.png  \n",
            "  inflating: drive_256_256_dice_bce_0_4__0_4_1/results/_11_test_7.png  \n",
            "  inflating: drive_256_256_dice_bce_0_4__0_4_1/results/_02_test_4.png  \n",
            "  inflating: drive_256_256_dice_bce_0_4__0_4_1/results/_08_test_7.png  \n",
            "  inflating: drive_256_256_dice_bce_0_4__0_4_1/results/_12_test_3.png  \n",
            "  inflating: drive_256_256_dice_bce_0_4__0_4_1/results/_01_test_1.png  \n",
            "  inflating: drive_256_256_dice_bce_0_4__0_4_1/results/_14_test_2.png  \n",
            "  inflating: drive_256_256_dice_bce_0_4__0_4_1/results/_14_test_3.png  \n",
            "  inflating: drive_256_256_dice_bce_0_4__0_4_1/results/_07_test_6.png  \n",
            "  inflating: drive_256_256_dice_bce_0_4__0_4_1/results/_14_test_4.png  \n",
            "  inflating: drive_256_256_dice_bce_0_4__0_4_1/results/_08_test_4.png  \n",
            "  inflating: drive_256_256_dice_bce_0_4__0_4_1/results/_01_test_2.png  \n",
            "  inflating: drive_256_256_dice_bce_0_4__0_4_1/results/_10_test_6.png  \n",
            "  inflating: drive_256_256_dice_bce_0_4__0_4_1/results/_05_test_2.png  \n",
            "  inflating: drive_256_256_dice_bce_0_4__0_4_1/results/_06_test_4.png  \n",
            "  inflating: drive_256_256_dice_bce_0_4__0_4_1/results/_18_test_8.png  \n",
            "  inflating: drive_256_256_dice_bce_0_4__0_4_1/results/_04_test_7.png  \n",
            "   creating: drive_256_256_dice_bce_0_4__0_4_1/predictions_np/\n",
            "  inflating: drive_256_256_dice_bce_0_4__0_4_1/predictions_np/_20_test_7.npy  \n",
            "  inflating: drive_256_256_dice_bce_0_4__0_4_1/predictions_np/_17_test_8.npy  \n",
            "  inflating: drive_256_256_dice_bce_0_4__0_4_1/predictions_np/_03_test_5.npy  \n",
            "  inflating: drive_256_256_dice_bce_0_4__0_4_1/predictions_np/_03_test_0.npy  \n",
            "  inflating: drive_256_256_dice_bce_0_4__0_4_1/predictions_np/_15_test_8.npy  \n",
            "  inflating: drive_256_256_dice_bce_0_4__0_4_1/predictions_np/_13_test_7.npy  \n",
            "  inflating: drive_256_256_dice_bce_0_4__0_4_1/predictions_np/_20_test_6.npy  \n",
            "  inflating: drive_256_256_dice_bce_0_4__0_4_1/predictions_np/_11_test_4.npy  \n",
            "  inflating: drive_256_256_dice_bce_0_4__0_4_1/predictions_np/_01_test_7.npy  \n",
            "  inflating: drive_256_256_dice_bce_0_4__0_4_1/predictions_np/_14_test_1.npy  \n",
            "  inflating: drive_256_256_dice_bce_0_4__0_4_1/predictions_np/_11_test_7.npy  \n",
            "  inflating: drive_256_256_dice_bce_0_4__0_4_1/predictions_np/_16_test_2.npy  \n",
            "  inflating: drive_256_256_dice_bce_0_4__0_4_1/predictions_np/_11_test_5.npy  \n",
            "  inflating: drive_256_256_dice_bce_0_4__0_4_1/predictions_np/_10_test_1.npy  \n",
            "  inflating: drive_256_256_dice_bce_0_4__0_4_1/predictions_np/_09_test_8.npy  \n",
            "  inflating: drive_256_256_dice_bce_0_4__0_4_1/predictions_np/_11_test_6.npy  \n",
            "  inflating: drive_256_256_dice_bce_0_4__0_4_1/predictions_np/_15_test_3.npy  \n",
            "  inflating: drive_256_256_dice_bce_0_4__0_4_1/predictions_np/_06_test_2.npy  \n",
            "  inflating: drive_256_256_dice_bce_0_4__0_4_1/predictions_np/_20_test_0.npy  \n",
            "  inflating: drive_256_256_dice_bce_0_4__0_4_1/predictions_np/_09_test_2.npy  \n",
            "  inflating: drive_256_256_dice_bce_0_4__0_4_1/predictions_np/_11_test_8.npy  \n",
            "  inflating: drive_256_256_dice_bce_0_4__0_4_1/predictions_np/_13_test_2.npy  \n",
            "  inflating: drive_256_256_dice_bce_0_4__0_4_1/predictions_np/_14_test_8.npy  \n",
            "  inflating: drive_256_256_dice_bce_0_4__0_4_1/predictions_np/_10_test_8.npy  \n",
            "  inflating: drive_256_256_dice_bce_0_4__0_4_1/predictions_np/_03_test_1.npy  \n",
            "  inflating: drive_256_256_dice_bce_0_4__0_4_1/predictions_np/_01_test_8.npy  \n",
            "  inflating: drive_256_256_dice_bce_0_4__0_4_1/predictions_np/_06_test_7.npy  \n",
            "  inflating: drive_256_256_dice_bce_0_4__0_4_1/predictions_np/_15_test_5.npy  \n",
            "  inflating: drive_256_256_dice_bce_0_4__0_4_1/predictions_np/_15_test_2.npy  \n",
            "  inflating: drive_256_256_dice_bce_0_4__0_4_1/predictions_np/_08_test_7.npy  \n",
            "  inflating: drive_256_256_dice_bce_0_4__0_4_1/predictions_np/_19_test_6.npy  \n",
            "  inflating: drive_256_256_dice_bce_0_4__0_4_1/predictions_np/_02_test_1.npy  \n",
            "  inflating: drive_256_256_dice_bce_0_4__0_4_1/predictions_np/_13_test_0.npy  \n",
            "  inflating: drive_256_256_dice_bce_0_4__0_4_1/predictions_np/_07_test_7.npy  \n",
            "  inflating: drive_256_256_dice_bce_0_4__0_4_1/predictions_np/_14_test_4.npy  \n",
            "  inflating: drive_256_256_dice_bce_0_4__0_4_1/predictions_np/_09_test_0.npy  \n",
            "  inflating: drive_256_256_dice_bce_0_4__0_4_1/predictions_np/_01_test_1.npy  \n",
            "  inflating: drive_256_256_dice_bce_0_4__0_4_1/predictions_np/_17_test_1.npy  \n",
            "  inflating: drive_256_256_dice_bce_0_4__0_4_1/predictions_np/_06_test_4.npy  \n",
            "  inflating: drive_256_256_dice_bce_0_4__0_4_1/predictions_np/_20_test_8.npy  \n",
            "  inflating: drive_256_256_dice_bce_0_4__0_4_1/predictions_np/_09_test_6.npy  \n",
            "  inflating: drive_256_256_dice_bce_0_4__0_4_1/predictions_np/_02_test_4.npy  \n",
            "  inflating: drive_256_256_dice_bce_0_4__0_4_1/predictions_np/_05_test_4.npy  \n",
            "  inflating: drive_256_256_dice_bce_0_4__0_4_1/predictions_np/_07_test_3.npy  \n",
            "  inflating: drive_256_256_dice_bce_0_4__0_4_1/predictions_np/_03_test_6.npy  \n",
            "  inflating: drive_256_256_dice_bce_0_4__0_4_1/predictions_np/_07_test_0.npy  \n",
            "  inflating: drive_256_256_dice_bce_0_4__0_4_1/predictions_np/_12_test_0.npy  \n",
            "  inflating: drive_256_256_dice_bce_0_4__0_4_1/predictions_np/_02_test_6.npy  \n",
            "  inflating: drive_256_256_dice_bce_0_4__0_4_1/predictions_np/_12_test_1.npy  \n",
            "  inflating: drive_256_256_dice_bce_0_4__0_4_1/predictions_np/_08_test_2.npy  \n",
            "  inflating: drive_256_256_dice_bce_0_4__0_4_1/predictions_np/_08_test_4.npy  \n",
            "  inflating: drive_256_256_dice_bce_0_4__0_4_1/predictions_np/_02_test_8.npy  \n",
            "  inflating: drive_256_256_dice_bce_0_4__0_4_1/predictions_np/_19_test_4.npy  \n",
            "  inflating: drive_256_256_dice_bce_0_4__0_4_1/predictions_np/_10_test_7.npy  \n",
            "  inflating: drive_256_256_dice_bce_0_4__0_4_1/predictions_np/_19_test_3.npy  \n",
            "  inflating: drive_256_256_dice_bce_0_4__0_4_1/predictions_np/_06_test_6.npy  \n",
            "  inflating: drive_256_256_dice_bce_0_4__0_4_1/predictions_np/_19_test_7.npy  \n",
            "  inflating: drive_256_256_dice_bce_0_4__0_4_1/predictions_np/_11_test_0.npy  \n",
            "  inflating: drive_256_256_dice_bce_0_4__0_4_1/predictions_np/_08_test_8.npy  \n",
            "  inflating: drive_256_256_dice_bce_0_4__0_4_1/predictions_np/_04_test_1.npy  \n",
            "  inflating: drive_256_256_dice_bce_0_4__0_4_1/predictions_np/_12_test_6.npy  \n",
            "  inflating: drive_256_256_dice_bce_0_4__0_4_1/predictions_np/_11_test_3.npy  \n",
            "  inflating: drive_256_256_dice_bce_0_4__0_4_1/predictions_np/_04_test_3.npy  \n",
            "  inflating: drive_256_256_dice_bce_0_4__0_4_1/predictions_np/_12_test_4.npy  \n",
            "  inflating: drive_256_256_dice_bce_0_4__0_4_1/predictions_np/_10_test_6.npy  \n",
            "  inflating: drive_256_256_dice_bce_0_4__0_4_1/predictions_np/_05_test_8.npy  \n",
            "  inflating: drive_256_256_dice_bce_0_4__0_4_1/predictions_np/_06_test_0.npy  \n",
            "  inflating: drive_256_256_dice_bce_0_4__0_4_1/predictions_np/_04_test_4.npy  \n",
            "  inflating: drive_256_256_dice_bce_0_4__0_4_1/predictions_np/_13_test_3.npy  \n",
            "  inflating: drive_256_256_dice_bce_0_4__0_4_1/predictions_np/_07_test_2.npy  \n",
            "  inflating: drive_256_256_dice_bce_0_4__0_4_1/predictions_np/_10_test_2.npy  \n",
            "  inflating: drive_256_256_dice_bce_0_4__0_4_1/predictions_np/_16_test_4.npy  \n",
            "  inflating: drive_256_256_dice_bce_0_4__0_4_1/predictions_np/_01_test_2.npy  \n",
            "  inflating: drive_256_256_dice_bce_0_4__0_4_1/predictions_np/_17_test_6.npy  \n",
            "  inflating: drive_256_256_dice_bce_0_4__0_4_1/predictions_np/_07_test_1.npy  \n",
            "  inflating: drive_256_256_dice_bce_0_4__0_4_1/predictions_np/_03_test_7.npy  \n",
            "  inflating: drive_256_256_dice_bce_0_4__0_4_1/predictions_np/_01_test_6.npy  \n",
            "  inflating: drive_256_256_dice_bce_0_4__0_4_1/predictions_np/_15_test_0.npy  \n",
            "  inflating: drive_256_256_dice_bce_0_4__0_4_1/predictions_np/_13_test_1.npy  \n",
            "  inflating: drive_256_256_dice_bce_0_4__0_4_1/predictions_np/_18_test_0.npy  \n",
            "  inflating: drive_256_256_dice_bce_0_4__0_4_1/predictions_np/_18_test_5.npy  \n",
            "  inflating: drive_256_256_dice_bce_0_4__0_4_1/predictions_np/_17_test_7.npy  \n",
            "  inflating: drive_256_256_dice_bce_0_4__0_4_1/predictions_np/_09_test_5.npy  \n",
            "  inflating: drive_256_256_dice_bce_0_4__0_4_1/predictions_np/_09_test_3.npy  \n",
            "  inflating: drive_256_256_dice_bce_0_4__0_4_1/predictions_np/_07_test_8.npy  \n",
            "  inflating: drive_256_256_dice_bce_0_4__0_4_1/predictions_np/_06_test_1.npy  \n",
            "  inflating: drive_256_256_dice_bce_0_4__0_4_1/predictions_np/_05_test_7.npy  \n",
            "  inflating: drive_256_256_dice_bce_0_4__0_4_1/predictions_np/_14_test_0.npy  \n",
            "  inflating: drive_256_256_dice_bce_0_4__0_4_1/predictions_np/_03_test_3.npy  \n",
            "  inflating: drive_256_256_dice_bce_0_4__0_4_1/predictions_np/_05_test_2.npy  \n",
            "  inflating: drive_256_256_dice_bce_0_4__0_4_1/predictions_np/_18_test_6.npy  \n",
            "  inflating: drive_256_256_dice_bce_0_4__0_4_1/predictions_np/_19_test_8.npy  \n",
            "  inflating: drive_256_256_dice_bce_0_4__0_4_1/predictions_np/_18_test_8.npy  \n",
            "  inflating: drive_256_256_dice_bce_0_4__0_4_1/predictions_np/_13_test_5.npy  \n",
            "  inflating: drive_256_256_dice_bce_0_4__0_4_1/predictions_np/_05_test_6.npy  \n",
            "  inflating: drive_256_256_dice_bce_0_4__0_4_1/predictions_np/_04_test_7.npy  \n",
            "  inflating: drive_256_256_dice_bce_0_4__0_4_1/predictions_np/_13_test_4.npy  \n",
            "  inflating: drive_256_256_dice_bce_0_4__0_4_1/predictions_np/_08_test_6.npy  \n",
            "  inflating: drive_256_256_dice_bce_0_4__0_4_1/predictions_np/_16_test_3.npy  \n",
            "  inflating: drive_256_256_dice_bce_0_4__0_4_1/predictions_np/_08_test_1.npy  \n",
            "  inflating: drive_256_256_dice_bce_0_4__0_4_1/predictions_np/_01_test_3.npy  \n",
            "  inflating: drive_256_256_dice_bce_0_4__0_4_1/predictions_np/_16_test_7.npy  \n",
            "  inflating: drive_256_256_dice_bce_0_4__0_4_1/predictions_np/_15_test_1.npy  \n",
            "  inflating: drive_256_256_dice_bce_0_4__0_4_1/predictions_np/_16_test_0.npy  \n",
            "  inflating: drive_256_256_dice_bce_0_4__0_4_1/predictions_np/_12_test_2.npy  \n",
            "  inflating: drive_256_256_dice_bce_0_4__0_4_1/predictions_np/_17_test_2.npy  \n",
            "  inflating: drive_256_256_dice_bce_0_4__0_4_1/predictions_np/_12_test_3.npy  \n",
            "  inflating: drive_256_256_dice_bce_0_4__0_4_1/predictions_np/_19_test_1.npy  \n",
            "  inflating: drive_256_256_dice_bce_0_4__0_4_1/predictions_np/_15_test_7.npy  \n",
            "  inflating: drive_256_256_dice_bce_0_4__0_4_1/predictions_np/_05_test_0.npy  \n",
            "  inflating: drive_256_256_dice_bce_0_4__0_4_1/predictions_np/_19_test_2.npy  \n",
            "  inflating: drive_256_256_dice_bce_0_4__0_4_1/predictions_np/_02_test_3.npy  \n",
            "  inflating: drive_256_256_dice_bce_0_4__0_4_1/predictions_np/_17_test_0.npy  \n",
            "  inflating: drive_256_256_dice_bce_0_4__0_4_1/predictions_np/_04_test_0.npy  \n",
            "  inflating: drive_256_256_dice_bce_0_4__0_4_1/predictions_np/_20_test_2.npy  \n",
            "  inflating: drive_256_256_dice_bce_0_4__0_4_1/predictions_np/_02_test_5.npy  \n",
            "  inflating: drive_256_256_dice_bce_0_4__0_4_1/predictions_np/_14_test_6.npy  \n",
            "  inflating: drive_256_256_dice_bce_0_4__0_4_1/predictions_np/_17_test_3.npy  \n",
            "  inflating: drive_256_256_dice_bce_0_4__0_4_1/predictions_np/_06_test_3.npy  \n",
            "  inflating: drive_256_256_dice_bce_0_4__0_4_1/predictions_np/_18_test_7.npy  \n",
            "  inflating: drive_256_256_dice_bce_0_4__0_4_1/predictions_np/_20_test_1.npy  \n",
            "  inflating: drive_256_256_dice_bce_0_4__0_4_1/predictions_np/_07_test_4.npy  \n",
            "  inflating: drive_256_256_dice_bce_0_4__0_4_1/predictions_np/_16_test_5.npy  \n",
            "  inflating: drive_256_256_dice_bce_0_4__0_4_1/predictions_np/_14_test_5.npy  \n",
            "  inflating: drive_256_256_dice_bce_0_4__0_4_1/predictions_np/_20_test_3.npy  \n",
            "  inflating: drive_256_256_dice_bce_0_4__0_4_1/predictions_np/_02_test_2.npy  \n",
            "  inflating: drive_256_256_dice_bce_0_4__0_4_1/predictions_np/_02_test_7.npy  \n",
            "  inflating: drive_256_256_dice_bce_0_4__0_4_1/predictions_np/_11_test_2.npy  \n",
            "  inflating: drive_256_256_dice_bce_0_4__0_4_1/predictions_np/_18_test_2.npy  \n",
            "  inflating: drive_256_256_dice_bce_0_4__0_4_1/predictions_np/_06_test_5.npy  \n",
            "  inflating: drive_256_256_dice_bce_0_4__0_4_1/predictions_np/_12_test_8.npy  \n",
            "  inflating: drive_256_256_dice_bce_0_4__0_4_1/predictions_np/_06_test_8.npy  \n",
            "  inflating: drive_256_256_dice_bce_0_4__0_4_1/predictions_np/_09_test_4.npy  \n",
            "  inflating: drive_256_256_dice_bce_0_4__0_4_1/predictions_np/_03_test_4.npy  \n",
            "  inflating: drive_256_256_dice_bce_0_4__0_4_1/predictions_np/_13_test_6.npy  \n",
            "  inflating: drive_256_256_dice_bce_0_4__0_4_1/predictions_np/_20_test_5.npy  \n",
            "  inflating: drive_256_256_dice_bce_0_4__0_4_1/predictions_np/_20_test_4.npy  \n",
            "  inflating: drive_256_256_dice_bce_0_4__0_4_1/predictions_np/_04_test_6.npy  \n",
            "  inflating: drive_256_256_dice_bce_0_4__0_4_1/predictions_np/_17_test_4.npy  \n",
            "  inflating: drive_256_256_dice_bce_0_4__0_4_1/predictions_np/_11_test_1.npy  \n",
            "  inflating: drive_256_256_dice_bce_0_4__0_4_1/predictions_np/_08_test_3.npy  \n",
            "  inflating: drive_256_256_dice_bce_0_4__0_4_1/predictions_np/_14_test_2.npy  \n",
            "  inflating: drive_256_256_dice_bce_0_4__0_4_1/predictions_np/_01_test_5.npy  \n",
            "  inflating: drive_256_256_dice_bce_0_4__0_4_1/predictions_np/_04_test_2.npy  \n",
            "  inflating: drive_256_256_dice_bce_0_4__0_4_1/predictions_np/_08_test_5.npy  \n",
            "  inflating: drive_256_256_dice_bce_0_4__0_4_1/predictions_np/_18_test_4.npy  \n",
            "  inflating: drive_256_256_dice_bce_0_4__0_4_1/predictions_np/_16_test_1.npy  \n",
            "  inflating: drive_256_256_dice_bce_0_4__0_4_1/predictions_np/_16_test_6.npy  \n",
            "  inflating: drive_256_256_dice_bce_0_4__0_4_1/predictions_np/_05_test_1.npy  \n",
            "  inflating: drive_256_256_dice_bce_0_4__0_4_1/predictions_np/_05_test_3.npy  \n",
            "  inflating: drive_256_256_dice_bce_0_4__0_4_1/predictions_np/_12_test_7.npy  \n",
            "  inflating: drive_256_256_dice_bce_0_4__0_4_1/predictions_np/_10_test_0.npy  \n",
            "  inflating: drive_256_256_dice_bce_0_4__0_4_1/predictions_np/_10_test_3.npy  \n",
            "  inflating: drive_256_256_dice_bce_0_4__0_4_1/predictions_np/_10_test_4.npy  \n",
            "  inflating: drive_256_256_dice_bce_0_4__0_4_1/predictions_np/_01_test_4.npy  \n",
            "  inflating: drive_256_256_dice_bce_0_4__0_4_1/predictions_np/_15_test_4.npy  \n",
            "  inflating: drive_256_256_dice_bce_0_4__0_4_1/predictions_np/_03_test_8.npy  \n",
            "  inflating: drive_256_256_dice_bce_0_4__0_4_1/predictions_np/_09_test_1.npy  \n",
            "  inflating: drive_256_256_dice_bce_0_4__0_4_1/predictions_np/_05_test_5.npy  \n",
            "  inflating: drive_256_256_dice_bce_0_4__0_4_1/predictions_np/_10_test_5.npy  \n",
            "  inflating: drive_256_256_dice_bce_0_4__0_4_1/predictions_np/_12_test_5.npy  \n",
            "  inflating: drive_256_256_dice_bce_0_4__0_4_1/predictions_np/_14_test_3.npy  \n",
            "  inflating: drive_256_256_dice_bce_0_4__0_4_1/predictions_np/_16_test_8.npy  \n",
            "  inflating: drive_256_256_dice_bce_0_4__0_4_1/predictions_np/_15_test_6.npy  \n",
            "  inflating: drive_256_256_dice_bce_0_4__0_4_1/predictions_np/_03_test_2.npy  \n",
            "  inflating: drive_256_256_dice_bce_0_4__0_4_1/predictions_np/_18_test_1.npy  \n",
            "  inflating: drive_256_256_dice_bce_0_4__0_4_1/predictions_np/_13_test_8.npy  \n",
            "  inflating: drive_256_256_dice_bce_0_4__0_4_1/predictions_np/_14_test_7.npy  \n",
            "  inflating: drive_256_256_dice_bce_0_4__0_4_1/predictions_np/_02_test_0.npy  \n",
            "  inflating: drive_256_256_dice_bce_0_4__0_4_1/predictions_np/_01_test_0.npy  \n",
            "  inflating: drive_256_256_dice_bce_0_4__0_4_1/predictions_np/_18_test_3.npy  \n",
            "  inflating: drive_256_256_dice_bce_0_4__0_4_1/predictions_np/_04_test_5.npy  \n",
            "  inflating: drive_256_256_dice_bce_0_4__0_4_1/predictions_np/_04_test_8.npy  \n",
            "  inflating: drive_256_256_dice_bce_0_4__0_4_1/predictions_np/_08_test_0.npy  \n",
            "  inflating: drive_256_256_dice_bce_0_4__0_4_1/predictions_np/_19_test_5.npy  \n",
            "  inflating: drive_256_256_dice_bce_0_4__0_4_1/predictions_np/_07_test_6.npy  \n",
            "  inflating: drive_256_256_dice_bce_0_4__0_4_1/predictions_np/_07_test_5.npy  \n",
            "  inflating: drive_256_256_dice_bce_0_4__0_4_1/predictions_np/_17_test_5.npy  \n",
            "  inflating: drive_256_256_dice_bce_0_4__0_4_1/predictions_np/_09_test_7.npy  \n",
            "  inflating: drive_256_256_dice_bce_0_4__0_4_1/predictions_np/_19_test_0.npy  \n"
          ]
        }
      ]
    },
    {
      "cell_type": "code",
      "source": [
        "drive.flush_and_unmount()"
      ],
      "metadata": {
        "id": "uUc7rHJNeI-p"
      },
      "execution_count": null,
      "outputs": []
    },
    {
      "cell_type": "code",
      "source": [
        ""
      ],
      "metadata": {
        "id": "fXp07gx1AtsF"
      },
      "execution_count": null,
      "outputs": []
    }
  ]
}