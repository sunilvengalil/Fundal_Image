{
  "nbformat": 4,
  "nbformat_minor": 0,
  "metadata": {
    "colab": {
      "name": "drive_patches_256_256_0_4_dice_bce.ipynb",
      "provenance": [],
      "collapsed_sections": [],
      "machine_shape": "hm"
    },
    "kernelspec": {
      "name": "python3",
      "display_name": "Python 3"
    },
    "language_info": {
      "name": "python"
    },
    "accelerator": "GPU"
  },
  "cells": [
    {
      "cell_type": "markdown",
      "metadata": {
        "id": "ZIUz94YO5Y0x"
      },
      "source": [
        "### Import the required libraries and modules:"
      ]
    },
    {
      "cell_type": "code",
      "metadata": {
        "id": "RN5vXWIK27Lr"
      },
      "source": [
        "import tensorflow as tf\n",
        "from tensorflow.keras.layers import Conv2D, BatchNormalization, Activation, MaxPool2D, Conv2DTranspose, Concatenate, Input\n",
        "from tensorflow.keras.models import Model\n",
        "from tensorflow.keras import backend as K\n",
        "import os\n",
        "os.environ[\"TF_CPP_MIN_LOG_LEVEL\"] = \"2\"\n",
        "import numpy as np\n",
        "import cv2\n",
        "from glob import glob\n",
        "from sklearn.utils import shuffle\n",
        "import tensorflow as tf\n",
        "from tensorflow.keras.callbacks import ModelCheckpoint, CSVLogger, ReduceLROnPlateau, EarlyStopping, TensorBoard\n",
        "from tensorflow.keras.optimizers import Adam\n",
        "from tensorflow.keras.metrics import Recall, Precision\n",
        "import numpy as np"
      ],
      "execution_count": null,
      "outputs": []
    },
    {
      "cell_type": "code",
      "metadata": {
        "id": "DguMtoH4ZJA9",
        "colab": {
          "base_uri": "https://localhost:8080/"
        },
        "outputId": "5f690e87-61af-4346-bb10-91c5fac479ee"
      },
      "source": [
        "from google.colab import drive\n",
        "drive.mount(\"/content/gdrive\", force_remount=True)\n",
        "%cd /content/gdrive/MyDrive/medical_image_processing/"
      ],
      "execution_count": null,
      "outputs": [
        {
          "output_type": "stream",
          "name": "stdout",
          "text": [
            "Mounted at /content/gdrive\n",
            "/content/gdrive/MyDrive/medical_image_processing\n"
          ]
        }
      ]
    },
    {
      "cell_type": "code",
      "source": [
        "from fundal_image.utils import create_dir, get_filenames_sorted\n",
        "from patches import generate_patches_images_only, reconstruct_patches\n",
        "from metrics import iou, dice_coef, dice_loss, DiceBCELoss, bce\n",
        "from metrics import compute_metrics, save_results\n",
        "from utils import read_image_train, read_mask_train"
      ],
      "metadata": {
        "id": "sT9NcAXcN4MK"
      },
      "execution_count": null,
      "outputs": []
    },
    {
      "cell_type": "code",
      "source": [
        "image_sizes = {\"HRF\": (2336, 3504), \"drive\": (584, 565), \"chase_db\": (960, 999)}\n",
        "patch_size = {\"HRF\": (768, 768),\n",
        "              \"drive\":(256, 256)\n",
        "              }\n",
        "\n",
        "dataset_name = \"drive\"\n",
        "patch_size = patch_size[dataset_name]\n",
        "patch_height = patch_size[0]\n",
        "patch_width = patch_size[1]"
      ],
      "metadata": {
        "id": "-u2FCjiRfHBT"
      },
      "execution_count": null,
      "outputs": []
    },
    {
      "cell_type": "code",
      "source": [
        "loss_str = \"dice_bce\"\n",
        "with_augmentation = False\n",
        "stride=256\n",
        "seed = 42\n",
        "run_id = 1\n",
        "test_percentage = 0.4\n",
        "class_weight = 0.4\n",
        "class_weight_str = str(class_weight).replace(\".\", \"_\")\n",
        "aug_string = \"\"\n",
        "if with_augmentation:\n",
        "    aug_string = \"_hvr\"\n",
        "test_percentage_str = str(test_percentage).replace(\".\", \"_\")\n",
        "root_path = f\"/content/datasets/{dataset_name}_{patch_height}_{stride}_{loss_str}_{class_weight_str}_{aug_string}_{test_percentage_str}_{run_id}/\"\n",
        "\n",
        "images_path_train = f\"{root_path}/training/images/\"\n",
        "gt_path_train = f\"{root_path}/training/1st_manual/\"\n",
        "images_path_test = f\"{root_path}/test/images/\"\n",
        "gt_path_test = f\"{root_path}/test/1st_manual/\"\n",
        "\n",
        "create_dir(images_path_train)\n",
        "create_dir(gt_path_train)\n",
        "create_dir(images_path_test)\n",
        "create_dir(gt_path_test)"
      ],
      "metadata": {
        "id": "U_UlvLm25iVS"
      },
      "execution_count": null,
      "outputs": []
    },
    {
      "cell_type": "code",
      "source": [
        "def wbce(actual, predicted):\n",
        "    y_pred = K.clip(predicted, K.epsilon(), 1 - K.epsilon())\n",
        "    term_0 = (1 - actual) * K.log(1 - y_pred)\n",
        "    term_1 = class_weight * actual * K.log(y_pred + K.epsilon())\n",
        "    return -K.mean(term_0 + term_1, axis=0)"
      ],
      "metadata": {
        "id": "K9UW2Mt2kh_m"
      },
      "execution_count": null,
      "outputs": []
    },
    {
      "cell_type": "code",
      "source": [
        "root_path"
      ],
      "metadata": {
        "colab": {
          "base_uri": "https://localhost:8080/",
          "height": 35
        },
        "id": "lFCH4PBbSW4R",
        "outputId": "08225bcc-23e9-47ab-b122-1b0cc999d157"
      },
      "execution_count": null,
      "outputs": [
        {
          "output_type": "execute_result",
          "data": {
            "application/vnd.google.colaboratory.intrinsic+json": {
              "type": "string"
            },
            "text/plain": [
              "'/content/datasets/drive_256_256_dice_loss_0_4__0_4_1/'"
            ]
          },
          "metadata": {},
          "execution_count": 7
        }
      ]
    },
    {
      "cell_type": "code",
      "source": [
        "images_path_train"
      ],
      "metadata": {
        "colab": {
          "base_uri": "https://localhost:8080/",
          "height": 35
        },
        "id": "SAWhPu-m--qT",
        "outputId": "9da0c8e5-d2d9-4872-914f-badf7bba5398"
      },
      "execution_count": null,
      "outputs": [
        {
          "output_type": "execute_result",
          "data": {
            "application/vnd.google.colaboratory.intrinsic+json": {
              "type": "string"
            },
            "text/plain": [
              "'/content/datasets/drive_256_256_dice_loss_0_4__0_4_1//training/images/'"
            ]
          },
          "metadata": {},
          "execution_count": 8
        }
      ]
    },
    {
      "cell_type": "code",
      "source": [
        "!cp /content/gdrive/MyDrive/medical_image_processing/fundal_image/datasets/drive/training/images/*.* {images_path_train}\n",
        "!cp /content/gdrive/MyDrive/medical_image_processing/fundal_image/datasets/drive/training/1st_manual/*.* {gt_path_train}"
      ],
      "metadata": {
        "id": "cNZJSlaoCLUx"
      },
      "execution_count": null,
      "outputs": []
    },
    {
      "cell_type": "code",
      "source": [
        "!cp /content/gdrive/MyDrive/medical_image_processing/fundal_image/datasets/drive/test/images/*.* {images_path_test}\n",
        "!cp /content/gdrive/MyDrive/medical_image_processing/fundal_image/datasets/drive/test/1st_manual/*.* {gt_path_test}"
      ],
      "metadata": {
        "id": "mJ_FsHnH_9Lh"
      },
      "execution_count": null,
      "outputs": []
    },
    {
      "cell_type": "code",
      "source": [
        "!ls /content/gdrive/MyDrive/medical_image_processing/fundal_image/datasets/drive/training/images"
      ],
      "metadata": {
        "colab": {
          "base_uri": "https://localhost:8080/"
        },
        "id": "ZZT5_8bp-rLQ",
        "outputId": "c4fc37e5-815b-4757-afef-f5307eb983f4"
      },
      "execution_count": null,
      "outputs": [
        {
          "output_type": "stream",
          "name": "stdout",
          "text": [
            "21_training.tif  26_training.tif  31_training.tif  36_training.tif\n",
            "22_training.tif  27_training.tif  32_training.tif  37_training.tif\n",
            "23_training.tif  28_training.tif  33_training.tif  38_training.tif\n",
            "24_training.tif  29_training.tif  34_training.tif  39_training.tif\n",
            "25_training.tif  30_training.tif  35_training.tif  40_training.tif\n"
          ]
        }
      ]
    },
    {
      "cell_type": "code",
      "source": [
        "# images_files, gt_files = get_filenames_sorted(images_path, gt_path)\n",
        "# print(len(images_files), len(gt_files))\n",
        "# # train_test_split\n",
        "# from sklearn.model_selection import train_test_split\n",
        "# label = [_xtrain.rsplit(\"/\", 1)[1].rsplit(\".\", 1)[0].rsplit(\"_\", 1)[1] for _xtrain in images_files] \n",
        "# xtrain, xtest, ytrain, ytest = train_test_split(images_files, gt_files, stratify=label,  test_size=test_percentage, random_state=seed)"
      ],
      "metadata": {
        "id": "FkGqIQ7m68Jc"
      },
      "execution_count": null,
      "outputs": []
    },
    {
      "cell_type": "code",
      "source": [
        "xtrain, ytrain = get_filenames_sorted(images_path_train, gt_path_train)\n",
        "xtest, ytest = get_filenames_sorted(images_path_test, gt_path_test)"
      ],
      "metadata": {
        "id": "MNEcaT4MGrDE"
      },
      "execution_count": null,
      "outputs": []
    },
    {
      "cell_type": "code",
      "source": [
        "print(len(xtrain), len(xtest))\n",
        "# print(label)"
      ],
      "metadata": {
        "colab": {
          "base_uri": "https://localhost:8080/"
        },
        "id": "kz1zp1UAd188",
        "outputId": "f9e0723f-80fd-4c46-d5ff-3622d9c30b9c"
      },
      "execution_count": null,
      "outputs": [
        {
          "output_type": "stream",
          "name": "stdout",
          "text": [
            "20 20\n"
          ]
        }
      ]
    },
    {
      "cell_type": "code",
      "source": [
        "xtrain[:5]"
      ],
      "metadata": {
        "colab": {
          "base_uri": "https://localhost:8080/"
        },
        "id": "-7XwsJsOOsqE",
        "outputId": "39458a7d-5930-42f6-e9f3-88d98f548d35"
      },
      "execution_count": null,
      "outputs": [
        {
          "output_type": "execute_result",
          "data": {
            "text/plain": [
              "['/content/datasets/drive_256_256_dice_loss_0_4__0_4_1//training/images/21_training.tif',\n",
              " '/content/datasets/drive_256_256_dice_loss_0_4__0_4_1//training/images/22_training.tif',\n",
              " '/content/datasets/drive_256_256_dice_loss_0_4__0_4_1//training/images/23_training.tif',\n",
              " '/content/datasets/drive_256_256_dice_loss_0_4__0_4_1//training/images/24_training.tif',\n",
              " '/content/datasets/drive_256_256_dice_loss_0_4__0_4_1//training/images/25_training.tif']"
            ]
          },
          "metadata": {},
          "execution_count": 15
        }
      ]
    },
    {
      "cell_type": "code",
      "source": [
        "print(len(ytrain), len(ytest))\n",
        "ytrain[:5]"
      ],
      "metadata": {
        "colab": {
          "base_uri": "https://localhost:8080/"
        },
        "id": "Ybo3_b3GQT5c",
        "outputId": "fbec123a-ab2f-41fc-f1e9-4526eb2d6188"
      },
      "execution_count": null,
      "outputs": [
        {
          "output_type": "stream",
          "name": "stdout",
          "text": [
            "20 20\n"
          ]
        },
        {
          "output_type": "execute_result",
          "data": {
            "text/plain": [
              "['/content/datasets/drive_256_256_dice_loss_0_4__0_4_1//training/1st_manual/21_manual1.gif',\n",
              " '/content/datasets/drive_256_256_dice_loss_0_4__0_4_1//training/1st_manual/22_manual1.gif',\n",
              " '/content/datasets/drive_256_256_dice_loss_0_4__0_4_1//training/1st_manual/23_manual1.gif',\n",
              " '/content/datasets/drive_256_256_dice_loss_0_4__0_4_1//training/1st_manual/24_manual1.gif',\n",
              " '/content/datasets/drive_256_256_dice_loss_0_4__0_4_1//training/1st_manual/25_manual1.gif']"
            ]
          },
          "metadata": {},
          "execution_count": 16
        }
      ]
    },
    {
      "cell_type": "code",
      "source": [
        "from tqdm import tqdm\n",
        "import pandas as pd"
      ],
      "metadata": {
        "id": "U0r-aJAjXNIU"
      },
      "execution_count": null,
      "outputs": []
    },
    {
      "cell_type": "code",
      "source": [
        "num_pixels_to_add = [0, 0]\n",
        "if (image_sizes[dataset_name][0] % patch_size[0]) > 0:\n",
        "    num_pixels_to_add[0] = ((image_sizes[\"drive\"][0] // patch_size[0]) + 1) * patch_size[0]\n",
        "    num_pixels_to_add[1] = ((image_sizes[\"drive\"][1] // patch_size[1]) + 1) * patch_size[1]\n",
        "\n",
        "split_name = \"split_2\"\n",
        "data_path = root_path\n",
        "splits =[\"train\",\"test\"]\n",
        "\n",
        "\n",
        "split = \"train\"\n",
        "#for split in splits:\n",
        "image_patches_path = f\"{data_path}/{split_name}/{split}/image/\"\n",
        "create_dir(image_patches_path)\n",
        "gt_patches_path = f\"{data_path}/{split_name}/{split}/mask/\"\n",
        "create_dir(gt_patches_path)\n",
        "im_patches_dict_train, metadata_train_df, gt_patches_dict_train = generate_patches_images_only(xtrain,\n",
        "                                                                image_patches_path,\n",
        "                                                                patch_size=patch_size,\n",
        "                                                                stride=stride,\n",
        "                                                                zero_padding_size=num_pixels_to_add,\n",
        "                                                                gt_files=ytrain,\n",
        "                                                                save_path_gt=gt_patches_path)\n",
        "metadata_train_df.to_csv(f\"{data_path}/{split_name}/image_patches_{stride}_{stride}_{split}.csv\", index=False)\n",
        "\n"
      ],
      "metadata": {
        "colab": {
          "base_uri": "https://localhost:8080/"
        },
        "id": "n8qZpZY_CNP0",
        "outputId": "9db01163-cb8c-4095-c1a9-7d135419fae9"
      },
      "execution_count": null,
      "outputs": [
        {
          "output_type": "stream",
          "name": "stdout",
          "text": [
            "Generating patches for 20 images\n"
          ]
        },
        {
          "output_type": "stream",
          "name": "stderr",
          "text": [
            "100%|██████████| 20/20 [00:00<00:00, 24.92it/s]\n"
          ]
        }
      ]
    },
    {
      "cell_type": "code",
      "source": [
        "split = \"test\"\n",
        "#for split in splits:\n",
        "image_patches_path = f\"{data_path}/{split_name}/{split}/image/\"\n",
        "create_dir(image_patches_path)\n",
        "gt_patches_path = f\"{data_path}/{split_name}/{split}/mask/\"\n",
        "create_dir(gt_patches_path)\n",
        "im_patches_dict_test, metadata_test_df, gt_patches_dict_test = generate_patches_images_only(xtest,\n",
        "                                                                image_patches_path,\n",
        "                                                                patch_size=patch_size,\n",
        "                                                                stride=stride,\n",
        "                                                                zero_padding_size=num_pixels_to_add,\n",
        "                                                                gt_files=ytest,\n",
        "                                                                save_path_gt=gt_patches_path)\n",
        "metadata_test_df.to_csv(f\"{data_path}/{split_name}/image_patches_{patch_height}_{stride}_{split}.csv\", index=False)\n"
      ],
      "metadata": {
        "colab": {
          "base_uri": "https://localhost:8080/"
        },
        "id": "T1Bd3CHcow_C",
        "outputId": "d4d24a2b-95f0-432f-99b1-f181df7350b1"
      },
      "execution_count": null,
      "outputs": [
        {
          "output_type": "stream",
          "name": "stdout",
          "text": [
            "Generating patches for 20 images\n"
          ]
        },
        {
          "output_type": "stream",
          "name": "stderr",
          "text": [
            "100%|██████████| 20/20 [00:00<00:00, 27.27it/s]\n"
          ]
        }
      ]
    },
    {
      "cell_type": "code",
      "source": [
        "metadata_test_df.shape"
      ],
      "metadata": {
        "colab": {
          "base_uri": "https://localhost:8080/"
        },
        "id": "97Y2QDV0V30I",
        "outputId": "13a9c965-3270-4c62-da87-724220def368"
      },
      "execution_count": null,
      "outputs": [
        {
          "output_type": "execute_result",
          "data": {
            "text/plain": [
              "(180, 7)"
            ]
          },
          "metadata": {},
          "execution_count": 20
        }
      ]
    },
    {
      "cell_type": "code",
      "source": [
        "metadata_train_df.shape"
      ],
      "metadata": {
        "colab": {
          "base_uri": "https://localhost:8080/"
        },
        "id": "LwBcnfocO3Bj",
        "outputId": "2af050e5-f304-43f7-d7c6-f6f02fcb9e21"
      },
      "execution_count": null,
      "outputs": [
        {
          "output_type": "execute_result",
          "data": {
            "text/plain": [
              "(180, 7)"
            ]
          },
          "metadata": {},
          "execution_count": 21
        }
      ]
    },
    {
      "cell_type": "code",
      "source": [
        "metadata_train_df.head()"
      ],
      "metadata": {
        "colab": {
          "base_uri": "https://localhost:8080/",
          "height": 206
        },
        "id": "IxsMtp6lLESy",
        "outputId": "e9b5afc0-2890-4363-eead-6de310860561"
      },
      "execution_count": null,
      "outputs": [
        {
          "output_type": "execute_result",
          "data": {
            "text/html": [
              "\n",
              "  <div id=\"df-49ff0cf1-2241-4bf3-9b13-9873a7b0185d\">\n",
              "    <div class=\"colab-df-container\">\n",
              "      <div>\n",
              "<style scoped>\n",
              "    .dataframe tbody tr th:only-of-type {\n",
              "        vertical-align: middle;\n",
              "    }\n",
              "\n",
              "    .dataframe tbody tr th {\n",
              "        vertical-align: top;\n",
              "    }\n",
              "\n",
              "    .dataframe thead th {\n",
              "        text-align: right;\n",
              "    }\n",
              "</style>\n",
              "<table border=\"1\" class=\"dataframe\">\n",
              "  <thead>\n",
              "    <tr style=\"text-align: right;\">\n",
              "      <th></th>\n",
              "      <th>image_filename</th>\n",
              "      <th>row</th>\n",
              "      <th>col</th>\n",
              "      <th>patch_height</th>\n",
              "      <th>patch_width</th>\n",
              "      <th>stride</th>\n",
              "      <th>num_fg_pixels</th>\n",
              "    </tr>\n",
              "  </thead>\n",
              "  <tbody>\n",
              "    <tr>\n",
              "      <th>0</th>\n",
              "      <td>/content/datasets/drive_256_256_dice_loss_0_4_...</td>\n",
              "      <td>0</td>\n",
              "      <td>0</td>\n",
              "      <td>256</td>\n",
              "      <td>256</td>\n",
              "      <td>256</td>\n",
              "      <td>24179</td>\n",
              "    </tr>\n",
              "    <tr>\n",
              "      <th>1</th>\n",
              "      <td>/content/datasets/drive_256_256_dice_loss_0_4_...</td>\n",
              "      <td>0</td>\n",
              "      <td>256</td>\n",
              "      <td>256</td>\n",
              "      <td>256</td>\n",
              "      <td>256</td>\n",
              "      <td>39808</td>\n",
              "    </tr>\n",
              "    <tr>\n",
              "      <th>2</th>\n",
              "      <td>/content/datasets/drive_256_256_dice_loss_0_4_...</td>\n",
              "      <td>0</td>\n",
              "      <td>512</td>\n",
              "      <td>256</td>\n",
              "      <td>256</td>\n",
              "      <td>256</td>\n",
              "      <td>24058</td>\n",
              "    </tr>\n",
              "    <tr>\n",
              "      <th>3</th>\n",
              "      <td>/content/datasets/drive_256_256_dice_loss_0_4_...</td>\n",
              "      <td>256</td>\n",
              "      <td>0</td>\n",
              "      <td>256</td>\n",
              "      <td>256</td>\n",
              "      <td>256</td>\n",
              "      <td>39680</td>\n",
              "    </tr>\n",
              "    <tr>\n",
              "      <th>4</th>\n",
              "      <td>/content/datasets/drive_256_256_dice_loss_0_4_...</td>\n",
              "      <td>256</td>\n",
              "      <td>256</td>\n",
              "      <td>256</td>\n",
              "      <td>256</td>\n",
              "      <td>256</td>\n",
              "      <td>65536</td>\n",
              "    </tr>\n",
              "  </tbody>\n",
              "</table>\n",
              "</div>\n",
              "      <button class=\"colab-df-convert\" onclick=\"convertToInteractive('df-49ff0cf1-2241-4bf3-9b13-9873a7b0185d')\"\n",
              "              title=\"Convert this dataframe to an interactive table.\"\n",
              "              style=\"display:none;\">\n",
              "        \n",
              "  <svg xmlns=\"http://www.w3.org/2000/svg\" height=\"24px\"viewBox=\"0 0 24 24\"\n",
              "       width=\"24px\">\n",
              "    <path d=\"M0 0h24v24H0V0z\" fill=\"none\"/>\n",
              "    <path d=\"M18.56 5.44l.94 2.06.94-2.06 2.06-.94-2.06-.94-.94-2.06-.94 2.06-2.06.94zm-11 1L8.5 8.5l.94-2.06 2.06-.94-2.06-.94L8.5 2.5l-.94 2.06-2.06.94zm10 10l.94 2.06.94-2.06 2.06-.94-2.06-.94-.94-2.06-.94 2.06-2.06.94z\"/><path d=\"M17.41 7.96l-1.37-1.37c-.4-.4-.92-.59-1.43-.59-.52 0-1.04.2-1.43.59L10.3 9.45l-7.72 7.72c-.78.78-.78 2.05 0 2.83L4 21.41c.39.39.9.59 1.41.59.51 0 1.02-.2 1.41-.59l7.78-7.78 2.81-2.81c.8-.78.8-2.07 0-2.86zM5.41 20L4 18.59l7.72-7.72 1.47 1.35L5.41 20z\"/>\n",
              "  </svg>\n",
              "      </button>\n",
              "      \n",
              "  <style>\n",
              "    .colab-df-container {\n",
              "      display:flex;\n",
              "      flex-wrap:wrap;\n",
              "      gap: 12px;\n",
              "    }\n",
              "\n",
              "    .colab-df-convert {\n",
              "      background-color: #E8F0FE;\n",
              "      border: none;\n",
              "      border-radius: 50%;\n",
              "      cursor: pointer;\n",
              "      display: none;\n",
              "      fill: #1967D2;\n",
              "      height: 32px;\n",
              "      padding: 0 0 0 0;\n",
              "      width: 32px;\n",
              "    }\n",
              "\n",
              "    .colab-df-convert:hover {\n",
              "      background-color: #E2EBFA;\n",
              "      box-shadow: 0px 1px 2px rgba(60, 64, 67, 0.3), 0px 1px 3px 1px rgba(60, 64, 67, 0.15);\n",
              "      fill: #174EA6;\n",
              "    }\n",
              "\n",
              "    [theme=dark] .colab-df-convert {\n",
              "      background-color: #3B4455;\n",
              "      fill: #D2E3FC;\n",
              "    }\n",
              "\n",
              "    [theme=dark] .colab-df-convert:hover {\n",
              "      background-color: #434B5C;\n",
              "      box-shadow: 0px 1px 3px 1px rgba(0, 0, 0, 0.15);\n",
              "      filter: drop-shadow(0px 1px 2px rgba(0, 0, 0, 0.3));\n",
              "      fill: #FFFFFF;\n",
              "    }\n",
              "  </style>\n",
              "\n",
              "      <script>\n",
              "        const buttonEl =\n",
              "          document.querySelector('#df-49ff0cf1-2241-4bf3-9b13-9873a7b0185d button.colab-df-convert');\n",
              "        buttonEl.style.display =\n",
              "          google.colab.kernel.accessAllowed ? 'block' : 'none';\n",
              "\n",
              "        async function convertToInteractive(key) {\n",
              "          const element = document.querySelector('#df-49ff0cf1-2241-4bf3-9b13-9873a7b0185d');\n",
              "          const dataTable =\n",
              "            await google.colab.kernel.invokeFunction('convertToInteractive',\n",
              "                                                     [key], {});\n",
              "          if (!dataTable) return;\n",
              "\n",
              "          const docLinkHtml = 'Like what you see? Visit the ' +\n",
              "            '<a target=\"_blank\" href=https://colab.research.google.com/notebooks/data_table.ipynb>data table notebook</a>'\n",
              "            + ' to learn more about interactive tables.';\n",
              "          element.innerHTML = '';\n",
              "          dataTable['output_type'] = 'display_data';\n",
              "          await google.colab.output.renderOutput(dataTable, element);\n",
              "          const docLink = document.createElement('div');\n",
              "          docLink.innerHTML = docLinkHtml;\n",
              "          element.appendChild(docLink);\n",
              "        }\n",
              "      </script>\n",
              "    </div>\n",
              "  </div>\n",
              "  "
            ],
            "text/plain": [
              "                                      image_filename  ...  num_fg_pixels\n",
              "0  /content/datasets/drive_256_256_dice_loss_0_4_...  ...          24179\n",
              "1  /content/datasets/drive_256_256_dice_loss_0_4_...  ...          39808\n",
              "2  /content/datasets/drive_256_256_dice_loss_0_4_...  ...          24058\n",
              "3  /content/datasets/drive_256_256_dice_loss_0_4_...  ...          39680\n",
              "4  /content/datasets/drive_256_256_dice_loss_0_4_...  ...          65536\n",
              "\n",
              "[5 rows x 7 columns]"
            ]
          },
          "metadata": {},
          "execution_count": 22
        }
      ]
    },
    {
      "cell_type": "code",
      "source": [
        "import glob\n",
        "split = \"test\"\n",
        "image_patches_path = f\"{data_path}/{split_name}/{split}/image/\"\n",
        "\n",
        "reconstructed_original_path = f\"{data_path}/{split_name}/reconstructed/{split}/image\"\n",
        "create_dir(reconstructed_original_path)\n",
        "reconstruct_patches(im_patches_dict_test,\n",
        "                    metadata_test_df,\n",
        "                    reconstructed_original_path\n",
        "                    )\n"
      ],
      "metadata": {
        "id": "DLrslUO4gvQp"
      },
      "execution_count": null,
      "outputs": []
    },
    {
      "cell_type": "code",
      "source": [
        "print(list(gt_patches_dict_test.keys()))"
      ],
      "metadata": {
        "colab": {
          "base_uri": "https://localhost:8080/"
        },
        "id": "n8gpCUhvZY8m",
        "outputId": "4d35e4ed-ea5c-4c7c-a2d6-4296ebc10ad3"
      },
      "execution_count": null,
      "outputs": [
        {
          "output_type": "stream",
          "name": "stdout",
          "text": [
            "['01_test', '02_test', '03_test', '04_test', '05_test', '06_test', '07_test', '08_test', '09_test', '10_test', '11_test', '12_test', '13_test', '14_test', '15_test', '16_test', '17_test', '18_test', '19_test', '20_test']\n"
          ]
        }
      ]
    },
    {
      "cell_type": "code",
      "source": [
        "type(gt_patches_dict_test[\"01_test\"])"
      ],
      "metadata": {
        "colab": {
          "base_uri": "https://localhost:8080/"
        },
        "id": "tNONp29kZm8q",
        "outputId": "8e42db51-9b60-4f1f-c31a-b15b51a31072"
      },
      "execution_count": null,
      "outputs": [
        {
          "output_type": "execute_result",
          "data": {
            "text/plain": [
              "numpy.ndarray"
            ]
          },
          "metadata": {},
          "execution_count": 25
        }
      ]
    },
    {
      "cell_type": "code",
      "source": [
        "reconstructed_gt_path = f\"{data_path}/{split_name}/reconstructed/{split}/mask\"\n",
        "\n",
        "create_dir(reconstructed_gt_path)\n",
        "reconstruct_patches(gt_patches_dict_test,\n",
        "                    metadata_test_df,\n",
        "                    reconstructed_gt_path,\n",
        "                    )\n"
      ],
      "metadata": {
        "id": "_TkWlhCKF7o5"
      },
      "execution_count": null,
      "outputs": []
    },
    {
      "cell_type": "code",
      "source": [
        "print([k for k in im_patches_dict_test.keys()])"
      ],
      "metadata": {
        "colab": {
          "base_uri": "https://localhost:8080/"
        },
        "id": "Y5NJeG-731yQ",
        "outputId": "fdd31c20-564c-4e5e-e9da-710a8442c07d"
      },
      "execution_count": null,
      "outputs": [
        {
          "output_type": "stream",
          "name": "stdout",
          "text": [
            "['01_test', '02_test', '03_test', '04_test', '05_test', '06_test', '07_test', '08_test', '09_test', '10_test', '11_test', '12_test', '13_test', '14_test', '15_test', '16_test', '17_test', '18_test', '19_test', '20_test']\n"
          ]
        }
      ]
    },
    {
      "cell_type": "markdown",
      "metadata": {
        "id": "_WctlpFt6hx4"
      },
      "source": [
        "### Construct the Model:"
      ]
    },
    {
      "cell_type": "code",
      "metadata": {
        "colab": {
          "base_uri": "https://localhost:8080/"
        },
        "id": "epeNiZGQ5gSW",
        "outputId": "da23ffcc-75f7-45cd-c00d-3896390bda13"
      },
      "source": [
        "def conv_block(inputs, num_filters):\n",
        "    x = Conv2D(num_filters, 3, padding=\"same\")(inputs)\n",
        "    x = BatchNormalization()(x)\n",
        "    x = Activation(\"relu\")(x)\n",
        "\n",
        "    x = Conv2D(num_filters, 3, padding=\"same\")(x)\n",
        "    x = BatchNormalization()(x)\n",
        "    x = Activation(\"relu\")(x)\n",
        "\n",
        "    return x\n",
        "\n",
        "def encoder_block(inputs, num_filters):\n",
        "    x = conv_block(inputs, num_filters)\n",
        "    p = MaxPool2D((2, 2))(x)\n",
        "    return x, p\n",
        "\n",
        "def decoder_block(inputs, skip_features, num_filters):\n",
        "    x = Conv2DTranspose(num_filters, (2, 2), strides=2, padding=\"same\")(inputs)\n",
        "    x = Concatenate()([x, skip_features])\n",
        "    x = conv_block(x, num_filters)\n",
        "    return x\n",
        "\n",
        "def build_unet(input_shape):\n",
        "    inputs = Input(input_shape)\n",
        "\n",
        "    s1, p1 = encoder_block(inputs, 64)\n",
        "    s2, p2 = encoder_block(p1, 128)\n",
        "    s3, p3 = encoder_block(p2, 256)\n",
        "    s4, p4 = encoder_block(p3, 512)\n",
        "\n",
        "    b1 = conv_block(p4, 1024)\n",
        "\n",
        "    d1 = decoder_block(b1, s4, 512)\n",
        "    d2 = decoder_block(d1, s3, 256)\n",
        "    d3 = decoder_block(d2, s2, 128)\n",
        "    d4 = decoder_block(d3, s1, 64)\n",
        "\n",
        "    outputs = Conv2D(1, 1, padding=\"same\", activation=\"sigmoid\")(d4)\n",
        "\n",
        "    model = Model(inputs, outputs, name=\"UNET\")\n",
        "    return model\n",
        "\n",
        "input_shape = (512, 512, 3)\n",
        "model = build_unet(input_shape)\n",
        "model.summary()"
      ],
      "execution_count": null,
      "outputs": [
        {
          "output_type": "stream",
          "name": "stdout",
          "text": [
            "Model: \"UNET\"\n",
            "__________________________________________________________________________________________________\n",
            " Layer (type)                   Output Shape         Param #     Connected to                     \n",
            "==================================================================================================\n",
            " input_1 (InputLayer)           [(None, 512, 512, 3  0           []                               \n",
            "                                )]                                                                \n",
            "                                                                                                  \n",
            " conv2d (Conv2D)                (None, 512, 512, 64  1792        ['input_1[0][0]']                \n",
            "                                )                                                                 \n",
            "                                                                                                  \n",
            " batch_normalization (BatchNorm  (None, 512, 512, 64  256        ['conv2d[0][0]']                 \n",
            " alization)                     )                                                                 \n",
            "                                                                                                  \n",
            " activation (Activation)        (None, 512, 512, 64  0           ['batch_normalization[0][0]']    \n",
            "                                )                                                                 \n",
            "                                                                                                  \n",
            " conv2d_1 (Conv2D)              (None, 512, 512, 64  36928       ['activation[0][0]']             \n",
            "                                )                                                                 \n",
            "                                                                                                  \n",
            " batch_normalization_1 (BatchNo  (None, 512, 512, 64  256        ['conv2d_1[0][0]']               \n",
            " rmalization)                   )                                                                 \n",
            "                                                                                                  \n",
            " activation_1 (Activation)      (None, 512, 512, 64  0           ['batch_normalization_1[0][0]']  \n",
            "                                )                                                                 \n",
            "                                                                                                  \n",
            " max_pooling2d (MaxPooling2D)   (None, 256, 256, 64  0           ['activation_1[0][0]']           \n",
            "                                )                                                                 \n",
            "                                                                                                  \n",
            " conv2d_2 (Conv2D)              (None, 256, 256, 12  73856       ['max_pooling2d[0][0]']          \n",
            "                                8)                                                                \n",
            "                                                                                                  \n",
            " batch_normalization_2 (BatchNo  (None, 256, 256, 12  512        ['conv2d_2[0][0]']               \n",
            " rmalization)                   8)                                                                \n",
            "                                                                                                  \n",
            " activation_2 (Activation)      (None, 256, 256, 12  0           ['batch_normalization_2[0][0]']  \n",
            "                                8)                                                                \n",
            "                                                                                                  \n",
            " conv2d_3 (Conv2D)              (None, 256, 256, 12  147584      ['activation_2[0][0]']           \n",
            "                                8)                                                                \n",
            "                                                                                                  \n",
            " batch_normalization_3 (BatchNo  (None, 256, 256, 12  512        ['conv2d_3[0][0]']               \n",
            " rmalization)                   8)                                                                \n",
            "                                                                                                  \n",
            " activation_3 (Activation)      (None, 256, 256, 12  0           ['batch_normalization_3[0][0]']  \n",
            "                                8)                                                                \n",
            "                                                                                                  \n",
            " max_pooling2d_1 (MaxPooling2D)  (None, 128, 128, 12  0          ['activation_3[0][0]']           \n",
            "                                8)                                                                \n",
            "                                                                                                  \n",
            " conv2d_4 (Conv2D)              (None, 128, 128, 25  295168      ['max_pooling2d_1[0][0]']        \n",
            "                                6)                                                                \n",
            "                                                                                                  \n",
            " batch_normalization_4 (BatchNo  (None, 128, 128, 25  1024       ['conv2d_4[0][0]']               \n",
            " rmalization)                   6)                                                                \n",
            "                                                                                                  \n",
            " activation_4 (Activation)      (None, 128, 128, 25  0           ['batch_normalization_4[0][0]']  \n",
            "                                6)                                                                \n",
            "                                                                                                  \n",
            " conv2d_5 (Conv2D)              (None, 128, 128, 25  590080      ['activation_4[0][0]']           \n",
            "                                6)                                                                \n",
            "                                                                                                  \n",
            " batch_normalization_5 (BatchNo  (None, 128, 128, 25  1024       ['conv2d_5[0][0]']               \n",
            " rmalization)                   6)                                                                \n",
            "                                                                                                  \n",
            " activation_5 (Activation)      (None, 128, 128, 25  0           ['batch_normalization_5[0][0]']  \n",
            "                                6)                                                                \n",
            "                                                                                                  \n",
            " max_pooling2d_2 (MaxPooling2D)  (None, 64, 64, 256)  0          ['activation_5[0][0]']           \n",
            "                                                                                                  \n",
            " conv2d_6 (Conv2D)              (None, 64, 64, 512)  1180160     ['max_pooling2d_2[0][0]']        \n",
            "                                                                                                  \n",
            " batch_normalization_6 (BatchNo  (None, 64, 64, 512)  2048       ['conv2d_6[0][0]']               \n",
            " rmalization)                                                                                     \n",
            "                                                                                                  \n",
            " activation_6 (Activation)      (None, 64, 64, 512)  0           ['batch_normalization_6[0][0]']  \n",
            "                                                                                                  \n",
            " conv2d_7 (Conv2D)              (None, 64, 64, 512)  2359808     ['activation_6[0][0]']           \n",
            "                                                                                                  \n",
            " batch_normalization_7 (BatchNo  (None, 64, 64, 512)  2048       ['conv2d_7[0][0]']               \n",
            " rmalization)                                                                                     \n",
            "                                                                                                  \n",
            " activation_7 (Activation)      (None, 64, 64, 512)  0           ['batch_normalization_7[0][0]']  \n",
            "                                                                                                  \n",
            " max_pooling2d_3 (MaxPooling2D)  (None, 32, 32, 512)  0          ['activation_7[0][0]']           \n",
            "                                                                                                  \n",
            " conv2d_8 (Conv2D)              (None, 32, 32, 1024  4719616     ['max_pooling2d_3[0][0]']        \n",
            "                                )                                                                 \n",
            "                                                                                                  \n",
            " batch_normalization_8 (BatchNo  (None, 32, 32, 1024  4096       ['conv2d_8[0][0]']               \n",
            " rmalization)                   )                                                                 \n",
            "                                                                                                  \n",
            " activation_8 (Activation)      (None, 32, 32, 1024  0           ['batch_normalization_8[0][0]']  \n",
            "                                )                                                                 \n",
            "                                                                                                  \n",
            " conv2d_9 (Conv2D)              (None, 32, 32, 1024  9438208     ['activation_8[0][0]']           \n",
            "                                )                                                                 \n",
            "                                                                                                  \n",
            " batch_normalization_9 (BatchNo  (None, 32, 32, 1024  4096       ['conv2d_9[0][0]']               \n",
            " rmalization)                   )                                                                 \n",
            "                                                                                                  \n",
            " activation_9 (Activation)      (None, 32, 32, 1024  0           ['batch_normalization_9[0][0]']  \n",
            "                                )                                                                 \n",
            "                                                                                                  \n",
            " conv2d_transpose (Conv2DTransp  (None, 64, 64, 512)  2097664    ['activation_9[0][0]']           \n",
            " ose)                                                                                             \n",
            "                                                                                                  \n",
            " concatenate (Concatenate)      (None, 64, 64, 1024  0           ['conv2d_transpose[0][0]',       \n",
            "                                )                                 'activation_7[0][0]']           \n",
            "                                                                                                  \n",
            " conv2d_10 (Conv2D)             (None, 64, 64, 512)  4719104     ['concatenate[0][0]']            \n",
            "                                                                                                  \n",
            " batch_normalization_10 (BatchN  (None, 64, 64, 512)  2048       ['conv2d_10[0][0]']              \n",
            " ormalization)                                                                                    \n",
            "                                                                                                  \n",
            " activation_10 (Activation)     (None, 64, 64, 512)  0           ['batch_normalization_10[0][0]'] \n",
            "                                                                                                  \n",
            " conv2d_11 (Conv2D)             (None, 64, 64, 512)  2359808     ['activation_10[0][0]']          \n",
            "                                                                                                  \n",
            " batch_normalization_11 (BatchN  (None, 64, 64, 512)  2048       ['conv2d_11[0][0]']              \n",
            " ormalization)                                                                                    \n",
            "                                                                                                  \n",
            " activation_11 (Activation)     (None, 64, 64, 512)  0           ['batch_normalization_11[0][0]'] \n",
            "                                                                                                  \n",
            " conv2d_transpose_1 (Conv2DTran  (None, 128, 128, 25  524544     ['activation_11[0][0]']          \n",
            " spose)                         6)                                                                \n",
            "                                                                                                  \n",
            " concatenate_1 (Concatenate)    (None, 128, 128, 51  0           ['conv2d_transpose_1[0][0]',     \n",
            "                                2)                                'activation_5[0][0]']           \n",
            "                                                                                                  \n",
            " conv2d_12 (Conv2D)             (None, 128, 128, 25  1179904     ['concatenate_1[0][0]']          \n",
            "                                6)                                                                \n",
            "                                                                                                  \n",
            " batch_normalization_12 (BatchN  (None, 128, 128, 25  1024       ['conv2d_12[0][0]']              \n",
            " ormalization)                  6)                                                                \n",
            "                                                                                                  \n",
            " activation_12 (Activation)     (None, 128, 128, 25  0           ['batch_normalization_12[0][0]'] \n",
            "                                6)                                                                \n",
            "                                                                                                  \n",
            " conv2d_13 (Conv2D)             (None, 128, 128, 25  590080      ['activation_12[0][0]']          \n",
            "                                6)                                                                \n",
            "                                                                                                  \n",
            " batch_normalization_13 (BatchN  (None, 128, 128, 25  1024       ['conv2d_13[0][0]']              \n",
            " ormalization)                  6)                                                                \n",
            "                                                                                                  \n",
            " activation_13 (Activation)     (None, 128, 128, 25  0           ['batch_normalization_13[0][0]'] \n",
            "                                6)                                                                \n",
            "                                                                                                  \n",
            " conv2d_transpose_2 (Conv2DTran  (None, 256, 256, 12  131200     ['activation_13[0][0]']          \n",
            " spose)                         8)                                                                \n",
            "                                                                                                  \n",
            " concatenate_2 (Concatenate)    (None, 256, 256, 25  0           ['conv2d_transpose_2[0][0]',     \n",
            "                                6)                                'activation_3[0][0]']           \n",
            "                                                                                                  \n",
            " conv2d_14 (Conv2D)             (None, 256, 256, 12  295040      ['concatenate_2[0][0]']          \n",
            "                                8)                                                                \n",
            "                                                                                                  \n",
            " batch_normalization_14 (BatchN  (None, 256, 256, 12  512        ['conv2d_14[0][0]']              \n",
            " ormalization)                  8)                                                                \n",
            "                                                                                                  \n",
            " activation_14 (Activation)     (None, 256, 256, 12  0           ['batch_normalization_14[0][0]'] \n",
            "                                8)                                                                \n",
            "                                                                                                  \n",
            " conv2d_15 (Conv2D)             (None, 256, 256, 12  147584      ['activation_14[0][0]']          \n",
            "                                8)                                                                \n",
            "                                                                                                  \n",
            " batch_normalization_15 (BatchN  (None, 256, 256, 12  512        ['conv2d_15[0][0]']              \n",
            " ormalization)                  8)                                                                \n",
            "                                                                                                  \n",
            " activation_15 (Activation)     (None, 256, 256, 12  0           ['batch_normalization_15[0][0]'] \n",
            "                                8)                                                                \n",
            "                                                                                                  \n",
            " conv2d_transpose_3 (Conv2DTran  (None, 512, 512, 64  32832      ['activation_15[0][0]']          \n",
            " spose)                         )                                                                 \n",
            "                                                                                                  \n",
            " concatenate_3 (Concatenate)    (None, 512, 512, 12  0           ['conv2d_transpose_3[0][0]',     \n",
            "                                8)                                'activation_1[0][0]']           \n",
            "                                                                                                  \n",
            " conv2d_16 (Conv2D)             (None, 512, 512, 64  73792       ['concatenate_3[0][0]']          \n",
            "                                )                                                                 \n",
            "                                                                                                  \n",
            " batch_normalization_16 (BatchN  (None, 512, 512, 64  256        ['conv2d_16[0][0]']              \n",
            " ormalization)                  )                                                                 \n",
            "                                                                                                  \n",
            " activation_16 (Activation)     (None, 512, 512, 64  0           ['batch_normalization_16[0][0]'] \n",
            "                                )                                                                 \n",
            "                                                                                                  \n",
            " conv2d_17 (Conv2D)             (None, 512, 512, 64  36928       ['activation_16[0][0]']          \n",
            "                                )                                                                 \n",
            "                                                                                                  \n",
            " batch_normalization_17 (BatchN  (None, 512, 512, 64  256        ['conv2d_17[0][0]']              \n",
            " ormalization)                  )                                                                 \n",
            "                                                                                                  \n",
            " activation_17 (Activation)     (None, 512, 512, 64  0           ['batch_normalization_17[0][0]'] \n",
            "                                )                                                                 \n",
            "                                                                                                  \n",
            " conv2d_18 (Conv2D)             (None, 512, 512, 1)  65          ['activation_17[0][0]']          \n",
            "                                                                                                  \n",
            "==================================================================================================\n",
            "Total params: 31,055,297\n",
            "Trainable params: 31,043,521\n",
            "Non-trainable params: 11,776\n",
            "__________________________________________________________________________________________________\n"
          ]
        }
      ]
    },
    {
      "cell_type": "markdown",
      "metadata": {
        "id": "TWKUCE3_6vBv"
      },
      "source": [
        "### Adding the Metrics:"
      ]
    },
    {
      "cell_type": "code",
      "metadata": {
        "id": "s5HXET5Z6uZX"
      },
      "source": [
        "def iou(y_true, y_pred):\n",
        "    def f(y_true, y_pred):\n",
        "        intersection = (y_true * y_pred).sum()\n",
        "        union = y_true.sum() + y_pred.sum() - intersection\n",
        "        x = (intersection + 1e-15) / (union + 1e-15)\n",
        "        x = x.astype(np.float32)\n",
        "        return x\n",
        "    return tf.numpy_function(f, [y_true, y_pred], tf.float32)\n",
        "\n",
        "smooth = 1e-15\n",
        "def dice_coef(y_true, y_pred):\n",
        "    y_true = tf.keras.layers.Flatten()(y_true)\n",
        "    y_pred = tf.keras.layers.Flatten()(y_pred)\n",
        "    intersection = tf.reduce_sum(y_true * y_pred)\n",
        "    return (2. * intersection + smooth) / (tf.reduce_sum(y_true) + tf.reduce_sum(y_pred) + smooth)\n",
        "\n",
        "def dice_loss(y_true, y_pred):\n",
        "    return 1.0 - dice_coef(y_true, y_pred)\n",
        "\n",
        "def DiceBCELoss(y_true, y_pred):\n",
        "    \n",
        "    inputs = tf.keras.layers.Flatten()(y_true)\n",
        "    targets = tf.keras.layers.Flatten()(y_pred)\n",
        "\n",
        "    intersection = tf.reduce_sum(inputs * targets)\n",
        "    dice_loss = 1 - (2.*intersection + smooth)/(tf.reduce_sum(y_true) + tf.reduce_sum(y_pred) + smooth)\n",
        "    BCE = tf.keras.losses.BinaryCrossentropy()\n",
        "    Dice_BCE = BCE(inputs, targets) + dice_loss\n",
        "\n",
        "    return Dice_BCE\n",
        "\n",
        "def bce(y_true, y_pred):\n",
        "    \n",
        "    inputs = tf.keras.layers.Flatten()(y_true)\n",
        "    targets = tf.keras.layers.Flatten()(y_pred)\n",
        "    BCE = tf.keras.losses.BinaryCrossentropy()\n",
        "    Dice_BCE = BCE(inputs, targets)\n",
        "\n",
        "    return Dice_BCE"
      ],
      "execution_count": null,
      "outputs": []
    },
    {
      "cell_type": "markdown",
      "metadata": {
        "id": "fuGIkqEH65dX"
      },
      "source": [
        "\n",
        "\n",
        "### Training the Model:"
      ]
    },
    {
      "cell_type": "code",
      "source": [
        "if loss_str == \"bce\":\n",
        "    loss = bce\n",
        "elif loss_str == \"dice_bce\":\n",
        "    loss = DiceBCELoss\n",
        "elif loss_str == \"dice_loss\":\n",
        "    loss = dice_loss\n",
        "elif loss_str == \"wbce\":\n",
        "    loss = wbce\n",
        "else:\n",
        "    raise Exception(\"Invalid value for loss_str\")\n",
        "    \n",
        "print(loss)"
      ],
      "metadata": {
        "id": "1FT9iAYkUaeR",
        "colab": {
          "base_uri": "https://localhost:8080/"
        },
        "outputId": "c76a452c-f482-45da-b3d1-4b7e0c75cc40"
      },
      "execution_count": null,
      "outputs": [
        {
          "output_type": "stream",
          "name": "stdout",
          "text": [
            "<function dice_loss at 0x7fbcf0572d40>\n"
          ]
        }
      ]
    },
    {
      "cell_type": "code",
      "metadata": {
        "id": "NNdxwX_-5udw"
      },
      "source": [
        "H = patch_height\n",
        "W = patch_width\n",
        "\n",
        "def create_dir(path):\n",
        "    if not os.path.exists(path):\n",
        "        os.makedirs(path)\n",
        "\n",
        "def load_data(path):\n",
        "    x = sorted(glob(os.path.join(path, \"image\", \"*.png\")))\n",
        "    y = sorted(glob(os.path.join(path, \"mask\", \"*.png\")))\n",
        "    return x, y\n",
        "\n",
        "def shuffling(x, y):\n",
        "    x, y = shuffle(x, y, random_state=42)\n",
        "    return x, y\n",
        "\n",
        "def read_image(path):\n",
        "    path = path.decode()\n",
        "    x = cv2.imread(path, cv2.IMREAD_COLOR)\n",
        "    # x = cv2.resize(x, (W, H))\n",
        "    x = x/255.0\n",
        "    x = x.astype(np.float32)\n",
        "    return x\n",
        "\n",
        "def read_mask(path):\n",
        "    path = path.decode()\n",
        "    x = cv2.imread(path, cv2.IMREAD_GRAYSCALE)  ## (512, 512)\n",
        "    # x = cv2.resize(x, (W, H))\n",
        "    x = x/255.0\n",
        "    x = x.astype(np.float32)\n",
        "    x = np.expand_dims(x, axis=-1)              ## (512, 512, 1)\n",
        "    return x\n",
        "\n",
        "def tf_parse(x, y):\n",
        "    def _parse(x, y):\n",
        "        x = read_image(x)\n",
        "        y = read_mask(y)\n",
        "        return x, y\n",
        "\n",
        "    x, y = tf.numpy_function(_parse, [x, y], [tf.float32, tf.float32])\n",
        "    x.set_shape([H, W, 3])\n",
        "    y.set_shape([H, W, 1])\n",
        "    return x, y\n",
        "\n",
        "def tf_dataset(X, Y, batch_size=2):\n",
        "    dataset = tf.data.Dataset.from_tensor_slices((X, Y))\n",
        "    dataset = dataset.map(tf_parse)\n",
        "    dataset = dataset.batch(batch_size)\n",
        "    dataset = dataset.prefetch(4)\n",
        "    return dataset"
      ],
      "execution_count": null,
      "outputs": []
    },
    {
      "cell_type": "code",
      "source": [
        "from keras.metrics import AUC"
      ],
      "metadata": {
        "id": "54fnwa9lJESj"
      },
      "execution_count": null,
      "outputs": []
    },
    {
      "cell_type": "code",
      "source": [
        "model_dir = f\"{root_path}/trained_models/\""
      ],
      "metadata": {
        "id": "ZKS1beyfSUHc"
      },
      "execution_count": null,
      "outputs": []
    },
    {
      "cell_type": "code",
      "source": [
        "create_dir(model_dir)"
      ],
      "metadata": {
        "id": "q0GnRCID3HdL"
      },
      "execution_count": null,
      "outputs": []
    },
    {
      "cell_type": "code",
      "source": [
        "!ls {model_dir}"
      ],
      "metadata": {
        "id": "H4nNDNkuHTot"
      },
      "execution_count": null,
      "outputs": []
    },
    {
      "cell_type": "code",
      "source": [
        "%cd /content/datasets"
      ],
      "metadata": {
        "colab": {
          "base_uri": "https://localhost:8080/"
        },
        "id": "nCnFXz7Xpvzi",
        "outputId": "3f8b6614-f671-4614-d6dd-48b0b4fa3f51"
      },
      "execution_count": null,
      "outputs": [
        {
          "output_type": "stream",
          "name": "stdout",
          "text": [
            "/content/datasets\n"
          ]
        }
      ]
    },
    {
      "cell_type": "code",
      "source": [
        "from glob import glob"
      ],
      "metadata": {
        "id": "OxDh2J2zGsNE"
      },
      "execution_count": null,
      "outputs": []
    },
    {
      "cell_type": "code",
      "metadata": {
        "colab": {
          "base_uri": "https://localhost:8080/"
        },
        "id": "R9oxQCQo7Jnw",
        "outputId": "8359d5d7-0da7-4b4c-fc10-efe6aebdcb6a"
      },
      "source": [
        "\"\"\" Seeding \"\"\"\n",
        "np.random.seed(42)\n",
        "tf.random.set_seed(42)\n",
        "\n",
        "\"\"\" Directory to save files \"\"\"\n",
        "create_dir(model_dir)\n",
        "\n",
        "\"\"\" Hyperparameters \"\"\"\n",
        "batch_size = 8\n",
        "lr = 1e-4\n",
        "num_epochs = 50\n",
        "model_path = os.path.join(f\"{model_dir}\", \"model.h5\")\n",
        "csv_path = os.path.join(f\"{model_dir}\", \"data.csv\")\n",
        "\n",
        "\"\"\" Dataset \"\"\"\n",
        "dataset_path = f\"{data_path}/{split_name}\"\n",
        "train_path = os.path.join(dataset_path, \"train\")\n",
        "valid_path = os.path.join(dataset_path, \"test\")\n",
        "\n",
        "train_x, train_y = load_data(train_path)\n",
        "# train_x, train_y = shuffling(train_x, train_y)\n",
        "valid_x, valid_y = load_data(valid_path)\n",
        "\n",
        "print(f\"Train: {len(train_x)} - {len(train_y)}\")\n",
        "print(f\"Valid: {len(valid_x)} - {len(valid_y)}\")\n",
        "\n",
        "train_dataset = tf_dataset(train_x, train_y, batch_size=batch_size)\n",
        "valid_dataset = tf_dataset(valid_x, valid_y, batch_size=batch_size)\n",
        "\n",
        "train_steps = len(train_x)//batch_size\n",
        "valid_setps = len(valid_x)//batch_size\n",
        "\n",
        "if len(train_x) % batch_size != 0:\n",
        "    train_steps += 1\n",
        "if len(valid_x) % batch_size != 0:\n",
        "    valid_setps += 1\n",
        "\n",
        "\"\"\" Model \"\"\"\n",
        "model = build_unet((H, W, 3))\n",
        "model.compile(loss=loss, optimizer=Adam(lr), metrics=[dice_coef, iou, Recall(), Precision(), AUC()])\n",
        "\n",
        "callbacks = [\n",
        "    ModelCheckpoint(model_path, verbose=1, save_best_only=True),\n",
        "    ReduceLROnPlateau(monitor=\"val_loss\", factor=0.1, patience=5, min_lr=1e-6, verbose=1),\n",
        "    CSVLogger(csv_path),\n",
        "    TensorBoard(),\n",
        "    EarlyStopping(monitor=\"val_loss\", patience=10, restore_best_weights=False)\n",
        "]\n",
        "\n",
        "model.fit(\n",
        "    train_dataset,\n",
        "    epochs=num_epochs,\n",
        "    validation_data=valid_dataset,\n",
        "    steps_per_epoch=train_steps,\n",
        "    validation_steps=valid_setps,\n",
        "    callbacks=callbacks\n",
        ")"
      ],
      "execution_count": null,
      "outputs": [
        {
          "output_type": "stream",
          "name": "stdout",
          "text": [
            "Train: 180 - 180\n",
            "Valid: 180 - 180\n",
            "Epoch 1/50\n",
            "23/23 [==============================] - ETA: 0s - loss: 1.3206 - dice_coef: 0.1555 - iou: 0.0848 - recall: 0.7265 - precision: 0.1838 - auc: 0.8676\n",
            "Epoch 1: val_loss improved from inf to 1.62412, saving model to /content/datasets/drive_256_256_dice_loss_0_4__0_4_1//trained_models/model.h5\n",
            "23/23 [==============================] - 23s 313ms/step - loss: 1.3206 - dice_coef: 0.1555 - iou: 0.0848 - recall: 0.7265 - precision: 0.1838 - auc: 0.8676 - val_loss: 1.6241 - val_dice_coef: 0.0886 - val_iou: 0.0464 - val_recall: 0.9952 - val_precision: 0.0489 - val_auc: 0.2752 - lr: 1.0000e-04\n",
            "Epoch 2/50\n",
            "23/23 [==============================] - ETA: 0s - loss: 1.0242 - dice_coef: 0.2487 - iou: 0.1428 - recall: 0.7576 - precision: 0.4575 - auc: 0.9473\n",
            "Epoch 2: val_loss did not improve from 1.62412\n",
            "23/23 [==============================] - 4s 185ms/step - loss: 1.0242 - dice_coef: 0.2487 - iou: 0.1428 - recall: 0.7576 - precision: 0.4575 - auc: 0.9473 - val_loss: 1.6330 - val_dice_coef: 0.0894 - val_iou: 0.0468 - val_recall: 0.9944 - val_precision: 0.0489 - val_auc: 0.5357 - lr: 1.0000e-04\n",
            "Epoch 3/50\n",
            "23/23 [==============================] - ETA: 0s - loss: 0.8750 - dice_coef: 0.3207 - iou: 0.1918 - recall: 0.7443 - precision: 0.5891 - auc: 0.9527\n",
            "Epoch 3: val_loss did not improve from 1.62412\n",
            "23/23 [==============================] - 4s 185ms/step - loss: 0.8750 - dice_coef: 0.3207 - iou: 0.1918 - recall: 0.7443 - precision: 0.5891 - auc: 0.9527 - val_loss: 1.6319 - val_dice_coef: 0.0899 - val_iou: 0.0471 - val_recall: 0.9763 - val_precision: 0.0542 - val_auc: 0.5921 - lr: 1.0000e-04\n",
            "Epoch 4/50\n",
            "23/23 [==============================] - ETA: 0s - loss: 0.7907 - dice_coef: 0.3716 - iou: 0.2292 - recall: 0.7481 - precision: 0.6511 - auc: 0.9580\n",
            "Epoch 4: val_loss improved from 1.62412 to 1.59855, saving model to /content/datasets/drive_256_256_dice_loss_0_4__0_4_1//trained_models/model.h5\n",
            "23/23 [==============================] - 5s 226ms/step - loss: 0.7907 - dice_coef: 0.3716 - iou: 0.2292 - recall: 0.7481 - precision: 0.6511 - auc: 0.9580 - val_loss: 1.5985 - val_dice_coef: 0.0882 - val_iou: 0.0462 - val_recall: 0.3260 - val_precision: 0.0336 - val_auc: 0.4127 - lr: 1.0000e-04\n",
            "Epoch 5/50\n",
            "23/23 [==============================] - ETA: 0s - loss: 0.7382 - dice_coef: 0.4052 - iou: 0.2550 - recall: 0.7465 - precision: 0.6830 - auc: 0.9619\n",
            "Epoch 5: val_loss improved from 1.59855 to 1.52667, saving model to /content/datasets/drive_256_256_dice_loss_0_4__0_4_1//trained_models/model.h5\n",
            "23/23 [==============================] - 5s 228ms/step - loss: 0.7382 - dice_coef: 0.4052 - iou: 0.2550 - recall: 0.7465 - precision: 0.6830 - auc: 0.9619 - val_loss: 1.5267 - val_dice_coef: 0.0856 - val_iou: 0.0447 - val_recall: 0.0163 - val_precision: 0.0715 - val_auc: 0.3471 - lr: 1.0000e-04\n",
            "Epoch 6/50\n",
            "23/23 [==============================] - ETA: 0s - loss: 0.7005 - dice_coef: 0.4326 - iou: 0.2770 - recall: 0.7645 - precision: 0.6968 - auc: 0.9648\n",
            "Epoch 6: val_loss improved from 1.52667 to 1.44484, saving model to /content/datasets/drive_256_256_dice_loss_0_4__0_4_1//trained_models/model.h5\n",
            "23/23 [==============================] - 5s 228ms/step - loss: 0.7005 - dice_coef: 0.4326 - iou: 0.2770 - recall: 0.7645 - precision: 0.6968 - auc: 0.9648 - val_loss: 1.4448 - val_dice_coef: 0.0815 - val_iou: 0.0425 - val_recall: 0.0013 - val_precision: 0.0887 - val_auc: 0.2966 - lr: 1.0000e-04\n",
            "Epoch 7/50\n",
            "23/23 [==============================] - ETA: 0s - loss: 0.6818 - dice_coef: 0.4456 - iou: 0.2877 - recall: 0.7643 - precision: 0.7068 - auc: 0.9642\n",
            "Epoch 7: val_loss improved from 1.44484 to 1.37086, saving model to /content/datasets/drive_256_256_dice_loss_0_4__0_4_1//trained_models/model.h5\n",
            "23/23 [==============================] - 5s 226ms/step - loss: 0.6818 - dice_coef: 0.4456 - iou: 0.2877 - recall: 0.7643 - precision: 0.7068 - auc: 0.9642 - val_loss: 1.3709 - val_dice_coef: 0.0746 - val_iou: 0.0388 - val_recall: 1.3842e-05 - val_precision: 0.1194 - val_auc: 0.2496 - lr: 1.0000e-04\n",
            "Epoch 8/50\n",
            "23/23 [==============================] - ETA: 0s - loss: 0.6556 - dice_coef: 0.4647 - iou: 0.3036 - recall: 0.7669 - precision: 0.7183 - auc: 0.9664\n",
            "Epoch 8: val_loss improved from 1.37086 to 1.30787, saving model to /content/datasets/drive_256_256_dice_loss_0_4__0_4_1//trained_models/model.h5\n",
            "23/23 [==============================] - 5s 227ms/step - loss: 0.6556 - dice_coef: 0.4647 - iou: 0.3036 - recall: 0.7669 - precision: 0.7183 - auc: 0.9664 - val_loss: 1.3079 - val_dice_coef: 0.0706 - val_iou: 0.0366 - val_recall: 0.0000e+00 - val_precision: 0.0000e+00 - val_auc: 0.2522 - lr: 1.0000e-04\n",
            "Epoch 9/50\n",
            "23/23 [==============================] - ETA: 0s - loss: 0.6332 - dice_coef: 0.4809 - iou: 0.3175 - recall: 0.7747 - precision: 0.7290 - auc: 0.9693\n",
            "Epoch 9: val_loss improved from 1.30787 to 1.25944, saving model to /content/datasets/drive_256_256_dice_loss_0_4__0_4_1//trained_models/model.h5\n",
            "23/23 [==============================] - 5s 226ms/step - loss: 0.6332 - dice_coef: 0.4809 - iou: 0.3175 - recall: 0.7747 - precision: 0.7290 - auc: 0.9693 - val_loss: 1.2594 - val_dice_coef: 0.0652 - val_iou: 0.0337 - val_recall: 0.0000e+00 - val_precision: 0.0000e+00 - val_auc: 0.2493 - lr: 1.0000e-04\n",
            "Epoch 10/50\n",
            "23/23 [==============================] - ETA: 0s - loss: 0.6156 - dice_coef: 0.4943 - iou: 0.3292 - recall: 0.7762 - precision: 0.7370 - auc: 0.9705\n",
            "Epoch 10: val_loss improved from 1.25944 to 1.22899, saving model to /content/datasets/drive_256_256_dice_loss_0_4__0_4_1//trained_models/model.h5\n",
            "23/23 [==============================] - 6s 267ms/step - loss: 0.6156 - dice_coef: 0.4943 - iou: 0.3292 - recall: 0.7762 - precision: 0.7370 - auc: 0.9705 - val_loss: 1.2290 - val_dice_coef: 0.0626 - val_iou: 0.0323 - val_recall: 1.9033e-05 - val_precision: 0.9167 - val_auc: 0.2611 - lr: 1.0000e-04\n",
            "Epoch 11/50\n",
            "23/23 [==============================] - ETA: 0s - loss: 0.5963 - dice_coef: 0.5089 - iou: 0.3423 - recall: 0.7848 - precision: 0.7425 - auc: 0.9717\n",
            "Epoch 11: val_loss improved from 1.22899 to 1.19957, saving model to /content/datasets/drive_256_256_dice_loss_0_4__0_4_1//trained_models/model.h5\n",
            "23/23 [==============================] - 5s 224ms/step - loss: 0.5963 - dice_coef: 0.5089 - iou: 0.3423 - recall: 0.7848 - precision: 0.7425 - auc: 0.9717 - val_loss: 1.1996 - val_dice_coef: 0.0620 - val_iou: 0.0320 - val_recall: 3.0107e-04 - val_precision: 0.6304 - val_auc: 0.2952 - lr: 1.0000e-04\n",
            "Epoch 12/50\n",
            "23/23 [==============================] - ETA: 0s - loss: 0.5795 - dice_coef: 0.5220 - iou: 0.3542 - recall: 0.7902 - precision: 0.7505 - auc: 0.9728\n",
            "Epoch 12: val_loss improved from 1.19957 to 1.17414, saving model to /content/datasets/drive_256_256_dice_loss_0_4__0_4_1//trained_models/model.h5\n",
            "23/23 [==============================] - 7s 293ms/step - loss: 0.5795 - dice_coef: 0.5220 - iou: 0.3542 - recall: 0.7902 - precision: 0.7505 - auc: 0.9728 - val_loss: 1.1741 - val_dice_coef: 0.0647 - val_iou: 0.0334 - val_recall: 0.0024 - val_precision: 0.4521 - val_auc: 0.3709 - lr: 1.0000e-04\n",
            "Epoch 13/50\n",
            "23/23 [==============================] - ETA: 0s - loss: 0.5657 - dice_coef: 0.5329 - iou: 0.3643 - recall: 0.7935 - precision: 0.7543 - auc: 0.9724\n",
            "Epoch 13: val_loss improved from 1.17414 to 1.14958, saving model to /content/datasets/drive_256_256_dice_loss_0_4__0_4_1//trained_models/model.h5\n",
            "23/23 [==============================] - 5s 224ms/step - loss: 0.5657 - dice_coef: 0.5329 - iou: 0.3643 - recall: 0.7935 - precision: 0.7543 - auc: 0.9724 - val_loss: 1.1496 - val_dice_coef: 0.0688 - val_iou: 0.0357 - val_recall: 0.0092 - val_precision: 0.6735 - val_auc: 0.4539 - lr: 1.0000e-04\n",
            "Epoch 14/50\n",
            "23/23 [==============================] - ETA: 0s - loss: 0.5539 - dice_coef: 0.5419 - iou: 0.3726 - recall: 0.7910 - precision: 0.7609 - auc: 0.9737\n",
            "Epoch 14: val_loss improved from 1.14958 to 1.11496, saving model to /content/datasets/drive_256_256_dice_loss_0_4__0_4_1//trained_models/model.h5\n",
            "23/23 [==============================] - 5s 225ms/step - loss: 0.5539 - dice_coef: 0.5419 - iou: 0.3726 - recall: 0.7910 - precision: 0.7609 - auc: 0.9737 - val_loss: 1.1150 - val_dice_coef: 0.0876 - val_iou: 0.0460 - val_recall: 0.0374 - val_precision: 0.5838 - val_auc: 0.5706 - lr: 1.0000e-04\n",
            "Epoch 15/50\n",
            "23/23 [==============================] - ETA: 0s - loss: 0.5375 - dice_coef: 0.5548 - iou: 0.3849 - recall: 0.7986 - precision: 0.7652 - auc: 0.9748\n",
            "Epoch 15: val_loss improved from 1.11496 to 1.08379, saving model to /content/datasets/drive_256_256_dice_loss_0_4__0_4_1//trained_models/model.h5\n",
            "23/23 [==============================] - 5s 225ms/step - loss: 0.5375 - dice_coef: 0.5548 - iou: 0.3849 - recall: 0.7986 - precision: 0.7652 - auc: 0.9748 - val_loss: 1.0838 - val_dice_coef: 0.1041 - val_iou: 0.0552 - val_recall: 0.0561 - val_precision: 0.7210 - val_auc: 0.6806 - lr: 1.0000e-04\n",
            "Epoch 16/50\n",
            "23/23 [==============================] - ETA: 0s - loss: 0.5234 - dice_coef: 0.5661 - iou: 0.3958 - recall: 0.8032 - precision: 0.7712 - auc: 0.9757\n",
            "Epoch 16: val_loss improved from 1.08379 to 1.01619, saving model to /content/datasets/drive_256_256_dice_loss_0_4__0_4_1//trained_models/model.h5\n",
            "23/23 [==============================] - 6s 264ms/step - loss: 0.5234 - dice_coef: 0.5661 - iou: 0.3958 - recall: 0.8032 - precision: 0.7712 - auc: 0.9757 - val_loss: 1.0162 - val_dice_coef: 0.1535 - val_iou: 0.0837 - val_recall: 0.1148 - val_precision: 0.7277 - val_auc: 0.8420 - lr: 1.0000e-04\n",
            "Epoch 17/50\n",
            "23/23 [==============================] - ETA: 0s - loss: 0.5082 - dice_coef: 0.5781 - iou: 0.4076 - recall: 0.8098 - precision: 0.7769 - auc: 0.9767\n",
            "Epoch 17: val_loss improved from 1.01619 to 0.94816, saving model to /content/datasets/drive_256_256_dice_loss_0_4__0_4_1//trained_models/model.h5\n",
            "23/23 [==============================] - 5s 224ms/step - loss: 0.5082 - dice_coef: 0.5781 - iou: 0.4076 - recall: 0.8098 - precision: 0.7769 - auc: 0.9767 - val_loss: 0.9482 - val_dice_coef: 0.2051 - val_iou: 0.1151 - val_recall: 0.1726 - val_precision: 0.8516 - val_auc: 0.8941 - lr: 1.0000e-04\n",
            "Epoch 18/50\n",
            "23/23 [==============================] - ETA: 0s - loss: 0.5069 - dice_coef: 0.5804 - iou: 0.4105 - recall: 0.8127 - precision: 0.7725 - auc: 0.9758\n",
            "Epoch 18: val_loss improved from 0.94816 to 0.88240, saving model to /content/datasets/drive_256_256_dice_loss_0_4__0_4_1//trained_models/model.h5\n",
            "23/23 [==============================] - 5s 225ms/step - loss: 0.5069 - dice_coef: 0.5804 - iou: 0.4105 - recall: 0.8127 - precision: 0.7725 - auc: 0.9758 - val_loss: 0.8824 - val_dice_coef: 0.2552 - val_iou: 0.1473 - val_recall: 0.2274 - val_precision: 0.8387 - val_auc: 0.9436 - lr: 1.0000e-04\n",
            "Epoch 19/50\n",
            "23/23 [==============================] - ETA: 0s - loss: 0.5047 - dice_coef: 0.5827 - iou: 0.4124 - recall: 0.7917 - precision: 0.7742 - auc: 0.9733\n",
            "Epoch 19: val_loss improved from 0.88240 to 0.72327, saving model to /content/datasets/drive_256_256_dice_loss_0_4__0_4_1//trained_models/model.h5\n",
            "23/23 [==============================] - 5s 223ms/step - loss: 0.5047 - dice_coef: 0.5827 - iou: 0.4124 - recall: 0.7917 - precision: 0.7742 - auc: 0.9733 - val_loss: 0.7233 - val_dice_coef: 0.3905 - val_iou: 0.2439 - val_recall: 0.4432 - val_precision: 0.8591 - val_auc: 0.9574 - lr: 1.0000e-04\n",
            "Epoch 20/50\n",
            "23/23 [==============================] - ETA: 0s - loss: 0.4870 - dice_coef: 0.5966 - iou: 0.4262 - recall: 0.8013 - precision: 0.7807 - auc: 0.9763\n",
            "Epoch 20: val_loss improved from 0.72327 to 0.69534, saving model to /content/datasets/drive_256_256_dice_loss_0_4__0_4_1//trained_models/model.h5\n",
            "23/23 [==============================] - 5s 224ms/step - loss: 0.4870 - dice_coef: 0.5966 - iou: 0.4262 - recall: 0.8013 - precision: 0.7807 - auc: 0.9763 - val_loss: 0.6953 - val_dice_coef: 0.4147 - val_iou: 0.2632 - val_recall: 0.4626 - val_precision: 0.8219 - val_auc: 0.9617 - lr: 1.0000e-04\n",
            "Epoch 21/50\n",
            "23/23 [==============================] - ETA: 0s - loss: 0.4733 - dice_coef: 0.6078 - iou: 0.4375 - recall: 0.8042 - precision: 0.7868 - auc: 0.9762\n",
            "Epoch 21: val_loss improved from 0.69534 to 0.64499, saving model to /content/datasets/drive_256_256_dice_loss_0_4__0_4_1//trained_models/model.h5\n",
            "23/23 [==============================] - 5s 222ms/step - loss: 0.4733 - dice_coef: 0.6078 - iou: 0.4375 - recall: 0.8042 - precision: 0.7868 - auc: 0.9762 - val_loss: 0.6450 - val_dice_coef: 0.4557 - val_iou: 0.2965 - val_recall: 0.5194 - val_precision: 0.8549 - val_auc: 0.9676 - lr: 1.0000e-04\n",
            "Epoch 22/50\n",
            "23/23 [==============================] - ETA: 0s - loss: 0.4598 - dice_coef: 0.6185 - iou: 0.4486 - recall: 0.8099 - precision: 0.7917 - auc: 0.9777\n",
            "Epoch 22: val_loss improved from 0.64499 to 0.60791, saving model to /content/datasets/drive_256_256_dice_loss_0_4__0_4_1//trained_models/model.h5\n",
            "23/23 [==============================] - 5s 224ms/step - loss: 0.4598 - dice_coef: 0.6185 - iou: 0.4486 - recall: 0.8099 - precision: 0.7917 - auc: 0.9777 - val_loss: 0.6079 - val_dice_coef: 0.4888 - val_iou: 0.3250 - val_recall: 0.5599 - val_precision: 0.8539 - val_auc: 0.9680 - lr: 1.0000e-04\n",
            "Epoch 23/50\n",
            "23/23 [==============================] - ETA: 0s - loss: 0.4451 - dice_coef: 0.6298 - iou: 0.4606 - recall: 0.8182 - precision: 0.7983 - auc: 0.9794\n",
            "Epoch 23: val_loss improved from 0.60791 to 0.60267, saving model to /content/datasets/drive_256_256_dice_loss_0_4__0_4_1//trained_models/model.h5\n",
            "23/23 [==============================] - 5s 218ms/step - loss: 0.4451 - dice_coef: 0.6298 - iou: 0.4606 - recall: 0.8182 - precision: 0.7983 - auc: 0.9794 - val_loss: 0.6027 - val_dice_coef: 0.4917 - val_iou: 0.3274 - val_recall: 0.5411 - val_precision: 0.9021 - val_auc: 0.9686 - lr: 1.0000e-04\n",
            "Epoch 24/50\n",
            "23/23 [==============================] - ETA: 0s - loss: 0.4338 - dice_coef: 0.6396 - iou: 0.4712 - recall: 0.8222 - precision: 0.8027 - auc: 0.9789\n",
            "Epoch 24: val_loss improved from 0.60267 to 0.56450, saving model to /content/datasets/drive_256_256_dice_loss_0_4__0_4_1//trained_models/model.h5\n",
            "23/23 [==============================] - 5s 225ms/step - loss: 0.4338 - dice_coef: 0.6396 - iou: 0.4712 - recall: 0.8222 - precision: 0.8027 - auc: 0.9789 - val_loss: 0.5645 - val_dice_coef: 0.5243 - val_iou: 0.3569 - val_recall: 0.5770 - val_precision: 0.8952 - val_auc: 0.9734 - lr: 1.0000e-04\n",
            "Epoch 25/50\n",
            "23/23 [==============================] - ETA: 0s - loss: 0.4235 - dice_coef: 0.6482 - iou: 0.4806 - recall: 0.8269 - precision: 0.8045 - auc: 0.9799\n",
            "Epoch 25: val_loss improved from 0.56450 to 0.54381, saving model to /content/datasets/drive_256_256_dice_loss_0_4__0_4_1//trained_models/model.h5\n",
            "23/23 [==============================] - 5s 227ms/step - loss: 0.4235 - dice_coef: 0.6482 - iou: 0.4806 - recall: 0.8269 - precision: 0.8045 - auc: 0.9799 - val_loss: 0.5438 - val_dice_coef: 0.5421 - val_iou: 0.3732 - val_recall: 0.5902 - val_precision: 0.8922 - val_auc: 0.9743 - lr: 1.0000e-04\n",
            "Epoch 26/50\n",
            "23/23 [==============================] - ETA: 0s - loss: 0.4153 - dice_coef: 0.6551 - iou: 0.4881 - recall: 0.8261 - precision: 0.8086 - auc: 0.9798\n",
            "Epoch 26: val_loss improved from 0.54381 to 0.49230, saving model to /content/datasets/drive_256_256_dice_loss_0_4__0_4_1//trained_models/model.h5\n",
            "23/23 [==============================] - 5s 227ms/step - loss: 0.4153 - dice_coef: 0.6551 - iou: 0.4881 - recall: 0.8261 - precision: 0.8086 - auc: 0.9798 - val_loss: 0.4923 - val_dice_coef: 0.5868 - val_iou: 0.4163 - val_recall: 0.6787 - val_precision: 0.8488 - val_auc: 0.9802 - lr: 1.0000e-04\n",
            "Epoch 27/50\n",
            "23/23 [==============================] - ETA: 0s - loss: 0.4067 - dice_coef: 0.6626 - iou: 0.4965 - recall: 0.8265 - precision: 0.8131 - auc: 0.9797\n",
            "Epoch 27: val_loss improved from 0.49230 to 0.48235, saving model to /content/datasets/drive_256_256_dice_loss_0_4__0_4_1//trained_models/model.h5\n",
            "23/23 [==============================] - 6s 254ms/step - loss: 0.4067 - dice_coef: 0.6626 - iou: 0.4965 - recall: 0.8265 - precision: 0.8131 - auc: 0.9797 - val_loss: 0.4823 - val_dice_coef: 0.5974 - val_iou: 0.4270 - val_recall: 0.7017 - val_precision: 0.8195 - val_auc: 0.9795 - lr: 1.0000e-04\n",
            "Epoch 28/50\n",
            "23/23 [==============================] - ETA: 0s - loss: 0.3987 - dice_coef: 0.6694 - iou: 0.5041 - recall: 0.8285 - precision: 0.8139 - auc: 0.9799\n",
            "Epoch 28: val_loss did not improve from 0.48235\n",
            "23/23 [==============================] - 4s 185ms/step - loss: 0.3987 - dice_coef: 0.6694 - iou: 0.5041 - recall: 0.8285 - precision: 0.8139 - auc: 0.9799 - val_loss: 0.4876 - val_dice_coef: 0.5920 - val_iou: 0.4217 - val_recall: 0.6758 - val_precision: 0.8410 - val_auc: 0.9760 - lr: 1.0000e-04\n",
            "Epoch 29/50\n",
            "23/23 [==============================] - ETA: 0s - loss: 0.3893 - dice_coef: 0.6770 - iou: 0.5128 - recall: 0.8310 - precision: 0.8190 - auc: 0.9802\n",
            "Epoch 29: val_loss improved from 0.48235 to 0.47212, saving model to /content/datasets/drive_256_256_dice_loss_0_4__0_4_1//trained_models/model.h5\n",
            "23/23 [==============================] - 5s 234ms/step - loss: 0.3893 - dice_coef: 0.6770 - iou: 0.5128 - recall: 0.8310 - precision: 0.8190 - auc: 0.9802 - val_loss: 0.4721 - val_dice_coef: 0.6076 - val_iou: 0.4375 - val_recall: 0.6936 - val_precision: 0.8295 - val_auc: 0.9767 - lr: 1.0000e-04\n",
            "Epoch 30/50\n",
            "23/23 [==============================] - ETA: 0s - loss: 0.3816 - dice_coef: 0.6836 - iou: 0.5204 - recall: 0.8335 - precision: 0.8211 - auc: 0.9810\n",
            "Epoch 30: val_loss improved from 0.47212 to 0.45870, saving model to /content/datasets/drive_256_256_dice_loss_0_4__0_4_1//trained_models/model.h5\n",
            "23/23 [==============================] - 5s 225ms/step - loss: 0.3816 - dice_coef: 0.6836 - iou: 0.5204 - recall: 0.8335 - precision: 0.8211 - auc: 0.9810 - val_loss: 0.4587 - val_dice_coef: 0.6194 - val_iou: 0.4499 - val_recall: 0.6916 - val_precision: 0.8435 - val_auc: 0.9767 - lr: 1.0000e-04\n",
            "Epoch 31/50\n",
            "23/23 [==============================] - ETA: 0s - loss: 0.3749 - dice_coef: 0.6895 - iou: 0.5272 - recall: 0.8328 - precision: 0.8241 - auc: 0.9809\n",
            "Epoch 31: val_loss did not improve from 0.45870\n",
            "23/23 [==============================] - 4s 185ms/step - loss: 0.3749 - dice_coef: 0.6895 - iou: 0.5272 - recall: 0.8328 - precision: 0.8241 - auc: 0.9809 - val_loss: 0.4621 - val_dice_coef: 0.6168 - val_iou: 0.4475 - val_recall: 0.6703 - val_precision: 0.8603 - val_auc: 0.9775 - lr: 1.0000e-04\n",
            "Epoch 32/50\n",
            "23/23 [==============================] - ETA: 0s - loss: 0.3628 - dice_coef: 0.6991 - iou: 0.5385 - recall: 0.8406 - precision: 0.8292 - auc: 0.9821\n",
            "Epoch 32: val_loss improved from 0.45870 to 0.44384, saving model to /content/datasets/drive_256_256_dice_loss_0_4__0_4_1//trained_models/model.h5\n",
            "23/23 [==============================] - 5s 225ms/step - loss: 0.3628 - dice_coef: 0.6991 - iou: 0.5385 - recall: 0.8406 - precision: 0.8292 - auc: 0.9821 - val_loss: 0.4438 - val_dice_coef: 0.6351 - val_iou: 0.4664 - val_recall: 0.6969 - val_precision: 0.8436 - val_auc: 0.9725 - lr: 1.0000e-04\n",
            "Epoch 33/50\n",
            "23/23 [==============================] - ETA: 0s - loss: 0.3500 - dice_coef: 0.7097 - iou: 0.5511 - recall: 0.8492 - precision: 0.8336 - auc: 0.9824\n",
            "Epoch 33: val_loss improved from 0.44384 to 0.44168, saving model to /content/datasets/drive_256_256_dice_loss_0_4__0_4_1//trained_models/model.h5\n",
            "23/23 [==============================] - 6s 264ms/step - loss: 0.3500 - dice_coef: 0.7097 - iou: 0.5511 - recall: 0.8492 - precision: 0.8336 - auc: 0.9824 - val_loss: 0.4417 - val_dice_coef: 0.6346 - val_iou: 0.4663 - val_recall: 0.6704 - val_precision: 0.8701 - val_auc: 0.9691 - lr: 1.0000e-04\n",
            "Epoch 34/50\n",
            "23/23 [==============================] - ETA: 0s - loss: 0.3410 - dice_coef: 0.7168 - iou: 0.5597 - recall: 0.8515 - precision: 0.8386 - auc: 0.9830\n",
            "Epoch 34: val_loss improved from 0.44168 to 0.43373, saving model to /content/datasets/drive_256_256_dice_loss_0_4__0_4_1//trained_models/model.h5\n",
            "23/23 [==============================] - 5s 224ms/step - loss: 0.3410 - dice_coef: 0.7168 - iou: 0.5597 - recall: 0.8515 - precision: 0.8386 - auc: 0.9830 - val_loss: 0.4337 - val_dice_coef: 0.6430 - val_iou: 0.4758 - val_recall: 0.7049 - val_precision: 0.8199 - val_auc: 0.9728 - lr: 1.0000e-04\n",
            "Epoch 35/50\n",
            "23/23 [==============================] - ETA: 0s - loss: 0.3355 - dice_coef: 0.7220 - iou: 0.5660 - recall: 0.8504 - precision: 0.8402 - auc: 0.9824\n",
            "Epoch 35: val_loss improved from 0.43373 to 0.42531, saving model to /content/datasets/drive_256_256_dice_loss_0_4__0_4_1//trained_models/model.h5\n",
            "23/23 [==============================] - 6s 270ms/step - loss: 0.3355 - dice_coef: 0.7220 - iou: 0.5660 - recall: 0.8504 - precision: 0.8402 - auc: 0.9824 - val_loss: 0.4253 - val_dice_coef: 0.6503 - val_iou: 0.4832 - val_recall: 0.6959 - val_precision: 0.8443 - val_auc: 0.9769 - lr: 1.0000e-04\n",
            "Epoch 36/50\n",
            "23/23 [==============================] - ETA: 0s - loss: 0.3323 - dice_coef: 0.7250 - iou: 0.5696 - recall: 0.8465 - precision: 0.8432 - auc: 0.9822\n",
            "Epoch 36: val_loss improved from 0.42531 to 0.41858, saving model to /content/datasets/drive_256_256_dice_loss_0_4__0_4_1//trained_models/model.h5\n",
            "23/23 [==============================] - 5s 219ms/step - loss: 0.3323 - dice_coef: 0.7250 - iou: 0.5696 - recall: 0.8465 - precision: 0.8432 - auc: 0.9822 - val_loss: 0.4186 - val_dice_coef: 0.6594 - val_iou: 0.4930 - val_recall: 0.7397 - val_precision: 0.8044 - val_auc: 0.9784 - lr: 1.0000e-04\n",
            "Epoch 37/50\n",
            "23/23 [==============================] - ETA: 0s - loss: 0.3210 - dice_coef: 0.7338 - iou: 0.5806 - recall: 0.8518 - precision: 0.8503 - auc: 0.9837\n",
            "Epoch 37: val_loss improved from 0.41858 to 0.41796, saving model to /content/datasets/drive_256_256_dice_loss_0_4__0_4_1//trained_models/model.h5\n",
            "23/23 [==============================] - 6s 245ms/step - loss: 0.3210 - dice_coef: 0.7338 - iou: 0.5806 - recall: 0.8518 - precision: 0.8503 - auc: 0.9837 - val_loss: 0.4180 - val_dice_coef: 0.6669 - val_iou: 0.5013 - val_recall: 0.7599 - val_precision: 0.7766 - val_auc: 0.9725 - lr: 1.0000e-04\n",
            "Epoch 38/50\n",
            "23/23 [==============================] - ETA: 0s - loss: 0.3098 - dice_coef: 0.7427 - iou: 0.5918 - recall: 0.8636 - precision: 0.8511 - auc: 0.9844\n",
            "Epoch 38: val_loss did not improve from 0.41796\n",
            "23/23 [==============================] - 4s 185ms/step - loss: 0.3098 - dice_coef: 0.7427 - iou: 0.5918 - recall: 0.8636 - precision: 0.8511 - auc: 0.9844 - val_loss: 0.4306 - val_dice_coef: 0.6552 - val_iou: 0.4884 - val_recall: 0.7159 - val_precision: 0.7986 - val_auc: 0.9680 - lr: 1.0000e-04\n",
            "Epoch 39/50\n",
            "23/23 [==============================] - ETA: 0s - loss: 0.3074 - dice_coef: 0.7459 - iou: 0.5958 - recall: 0.8617 - precision: 0.8499 - auc: 0.9844\n",
            "Epoch 39: val_loss improved from 0.41796 to 0.40402, saving model to /content/datasets/drive_256_256_dice_loss_0_4__0_4_1//trained_models/model.h5\n",
            "23/23 [==============================] - 5s 228ms/step - loss: 0.3074 - dice_coef: 0.7459 - iou: 0.5958 - recall: 0.8617 - precision: 0.8499 - auc: 0.9844 - val_loss: 0.4040 - val_dice_coef: 0.6778 - val_iou: 0.5139 - val_recall: 0.7352 - val_precision: 0.8075 - val_auc: 0.9635 - lr: 1.0000e-04\n",
            "Epoch 40/50\n",
            "23/23 [==============================] - ETA: 0s - loss: 0.3049 - dice_coef: 0.7480 - iou: 0.5985 - recall: 0.8545 - precision: 0.8546 - auc: 0.9842\n",
            "Epoch 40: val_loss did not improve from 0.40402\n",
            "23/23 [==============================] - 4s 185ms/step - loss: 0.3049 - dice_coef: 0.7480 - iou: 0.5985 - recall: 0.8545 - precision: 0.8546 - auc: 0.9842 - val_loss: 0.4233 - val_dice_coef: 0.6663 - val_iou: 0.5006 - val_recall: 0.7545 - val_precision: 0.7649 - val_auc: 0.9685 - lr: 1.0000e-04\n",
            "Epoch 41/50\n",
            "23/23 [==============================] - ETA: 0s - loss: 0.2948 - dice_coef: 0.7563 - iou: 0.6092 - recall: 0.8649 - precision: 0.8554 - auc: 0.9848\n",
            "Epoch 41: val_loss did not improve from 0.40402\n",
            "23/23 [==============================] - 4s 185ms/step - loss: 0.2948 - dice_coef: 0.7563 - iou: 0.6092 - recall: 0.8649 - precision: 0.8554 - auc: 0.9848 - val_loss: 0.4241 - val_dice_coef: 0.6586 - val_iou: 0.4924 - val_recall: 0.6913 - val_precision: 0.8221 - val_auc: 0.9566 - lr: 1.0000e-04\n",
            "Epoch 42/50\n",
            "23/23 [==============================] - ETA: 0s - loss: 0.2857 - dice_coef: 0.7637 - iou: 0.6189 - recall: 0.8691 - precision: 0.8602 - auc: 0.9850\n",
            "Epoch 42: val_loss improved from 0.40402 to 0.40151, saving model to /content/datasets/drive_256_256_dice_loss_0_4__0_4_1//trained_models/model.h5\n",
            "23/23 [==============================] - 5s 228ms/step - loss: 0.2857 - dice_coef: 0.7637 - iou: 0.6189 - recall: 0.8691 - precision: 0.8602 - auc: 0.9850 - val_loss: 0.4015 - val_dice_coef: 0.6770 - val_iou: 0.5135 - val_recall: 0.7222 - val_precision: 0.8067 - val_auc: 0.9714 - lr: 1.0000e-04\n",
            "Epoch 43/50\n",
            "23/23 [==============================] - ETA: 0s - loss: 0.2832 - dice_coef: 0.7662 - iou: 0.6221 - recall: 0.8659 - precision: 0.8626 - auc: 0.9855\n",
            "Epoch 43: val_loss did not improve from 0.40151\n",
            "23/23 [==============================] - 4s 185ms/step - loss: 0.2832 - dice_coef: 0.7662 - iou: 0.6221 - recall: 0.8659 - precision: 0.8626 - auc: 0.9855 - val_loss: 0.4176 - val_dice_coef: 0.6687 - val_iou: 0.5044 - val_recall: 0.6702 - val_precision: 0.8525 - val_auc: 0.9314 - lr: 1.0000e-04\n",
            "Epoch 44/50\n",
            "23/23 [==============================] - ETA: 0s - loss: 0.2791 - dice_coef: 0.7698 - iou: 0.6268 - recall: 0.8681 - precision: 0.8625 - auc: 0.9845\n",
            "Epoch 44: val_loss did not improve from 0.40151\n",
            "23/23 [==============================] - 4s 185ms/step - loss: 0.2791 - dice_coef: 0.7698 - iou: 0.6268 - recall: 0.8681 - precision: 0.8625 - auc: 0.9845 - val_loss: 0.4346 - val_dice_coef: 0.6518 - val_iou: 0.4853 - val_recall: 0.6511 - val_precision: 0.8567 - val_auc: 0.9371 - lr: 1.0000e-04\n",
            "Epoch 45/50\n",
            "23/23 [==============================] - ETA: 0s - loss: 0.2799 - dice_coef: 0.7699 - iou: 0.6271 - recall: 0.8618 - precision: 0.8624 - auc: 0.9842\n",
            "Epoch 45: val_loss did not improve from 0.40151\n",
            "23/23 [==============================] - 4s 186ms/step - loss: 0.2799 - dice_coef: 0.7699 - iou: 0.6271 - recall: 0.8618 - precision: 0.8624 - auc: 0.9842 - val_loss: 0.4617 - val_dice_coef: 0.6341 - val_iou: 0.4664 - val_recall: 0.6126 - val_precision: 0.8488 - val_auc: 0.9209 - lr: 1.0000e-04\n",
            "Epoch 46/50\n",
            "23/23 [==============================] - ETA: 0s - loss: 0.2710 - dice_coef: 0.7771 - iou: 0.6366 - recall: 0.8665 - precision: 0.8665 - auc: 0.9854\n",
            "Epoch 46: val_loss did not improve from 0.40151\n",
            "23/23 [==============================] - 4s 186ms/step - loss: 0.2710 - dice_coef: 0.7771 - iou: 0.6366 - recall: 0.8665 - precision: 0.8665 - auc: 0.9854 - val_loss: 0.4245 - val_dice_coef: 0.6655 - val_iou: 0.5009 - val_recall: 0.6432 - val_precision: 0.8645 - val_auc: 0.9400 - lr: 1.0000e-04\n",
            "Epoch 47/50\n",
            "23/23 [==============================] - ETA: 0s - loss: 0.2646 - dice_coef: 0.7822 - iou: 0.6435 - recall: 0.8707 - precision: 0.8693 - auc: 0.9857\n",
            "Epoch 47: val_loss did not improve from 0.40151\n",
            "\n",
            "Epoch 47: ReduceLROnPlateau reducing learning rate to 9.999999747378752e-06.\n",
            "23/23 [==============================] - 4s 186ms/step - loss: 0.2646 - dice_coef: 0.7822 - iou: 0.6435 - recall: 0.8707 - precision: 0.8693 - auc: 0.9857 - val_loss: 0.4237 - val_dice_coef: 0.6672 - val_iou: 0.5034 - val_recall: 0.6332 - val_precision: 0.8704 - val_auc: 0.9307 - lr: 1.0000e-04\n",
            "Epoch 48/50\n",
            "23/23 [==============================] - ETA: 0s - loss: 0.2708 - dice_coef: 0.7769 - iou: 0.6368 - recall: 0.8419 - precision: 0.8857 - auc: 0.9840\n",
            "Epoch 48: val_loss improved from 0.40151 to 0.36630, saving model to /content/datasets/drive_256_256_dice_loss_0_4__0_4_1//trained_models/model.h5\n",
            "23/23 [==============================] - 5s 228ms/step - loss: 0.2708 - dice_coef: 0.7769 - iou: 0.6368 - recall: 0.8419 - precision: 0.8857 - auc: 0.9840 - val_loss: 0.3663 - val_dice_coef: 0.7160 - val_iou: 0.5586 - val_recall: 0.7587 - val_precision: 0.8101 - val_auc: 0.9659 - lr: 1.0000e-05\n",
            "Epoch 49/50\n",
            "23/23 [==============================] - ETA: 0s - loss: 0.2433 - dice_coef: 0.7983 - iou: 0.6655 - recall: 0.8904 - precision: 0.8790 - auc: 0.9882\n",
            "Epoch 49: val_loss did not improve from 0.36630\n",
            "23/23 [==============================] - 4s 186ms/step - loss: 0.2433 - dice_coef: 0.7983 - iou: 0.6655 - recall: 0.8904 - precision: 0.8790 - auc: 0.9882 - val_loss: 0.3671 - val_dice_coef: 0.7108 - val_iou: 0.5527 - val_recall: 0.7355 - val_precision: 0.8331 - val_auc: 0.9655 - lr: 1.0000e-05\n",
            "Epoch 50/50\n",
            "23/23 [==============================] - ETA: 0s - loss: 0.2374 - dice_coef: 0.8022 - iou: 0.6709 - recall: 0.8903 - precision: 0.8903 - auc: 0.9885\n",
            "Epoch 50: val_loss did not improve from 0.36630\n",
            "23/23 [==============================] - 4s 186ms/step - loss: 0.2374 - dice_coef: 0.8022 - iou: 0.6709 - recall: 0.8903 - precision: 0.8903 - auc: 0.9885 - val_loss: 0.3676 - val_dice_coef: 0.7095 - val_iou: 0.5512 - val_recall: 0.7312 - val_precision: 0.8377 - val_auc: 0.9653 - lr: 1.0000e-05\n"
          ]
        },
        {
          "output_type": "execute_result",
          "data": {
            "text/plain": [
              "<keras.callbacks.History at 0x7fbcf05928d0>"
            ]
          },
          "metadata": {},
          "execution_count": 38
        }
      ]
    },
    {
      "cell_type": "markdown",
      "metadata": {
        "id": "z0HWQPIv6F3u"
      },
      "source": [
        "### Evaluating the Model:"
      ]
    },
    {
      "cell_type": "code",
      "metadata": {
        "id": "Ptl8ug8uby3R"
      },
      "source": [
        "import os\n",
        "os.environ[\"TF_CPP_MIN_LOG_LEVEL\"] = \"2\"\n",
        "import numpy as np\n",
        "import pandas as pd\n",
        "import cv2\n",
        "from glob import glob\n",
        "from tqdm import tqdm\n",
        "import tensorflow as tf\n",
        "from tensorflow.keras.utils import CustomObjectScope\n",
        "from sklearn.metrics import accuracy_score, f1_score, jaccard_score, precision_score, recall_score\n",
        "from tensorflow.keras.models import load_model"
      ],
      "execution_count": null,
      "outputs": []
    },
    {
      "cell_type": "code",
      "metadata": {
        "id": "HmFXTEtz6Rhn"
      },
      "source": [
        "\n",
        "def create_dir(path):\n",
        "    if not os.path.exists(path):\n",
        "        os.makedirs(path)\n",
        "\n",
        "def read_image(path):\n",
        "    x = cv2.imread(path, cv2.IMREAD_COLOR)\n",
        "    # x = cv2.resize(x, (W, H))\n",
        "    ori_x = x\n",
        "    x = x/255.0\n",
        "    x = x.astype(np.float32)\n",
        "    return ori_x, x\n",
        "\n",
        "def read_mask(path):\n",
        "    x = cv2.imread(path, cv2.IMREAD_GRAYSCALE)  ## (512, 512)\n",
        "    # x = cv2.resize(x, (W, H))\n",
        "    ori_x = x\n",
        "    x = x/255.0\n",
        "    x = x.astype(np.int32)\n",
        "    return ori_x, x\n",
        "\n",
        "def load_data(path):\n",
        "    x = sorted(glob(os.path.join(path, \"image\", \"*.png\")))\n",
        "    y = sorted(glob(os.path.join(path, \"mask\", \"*.png\")))\n",
        "    return x, y\n",
        "\n",
        "def save_results(ori_x, ori_y, y_pred, save_image_path):\n",
        "    line = np.ones((H, 10, 3)) * 255\n",
        "\n",
        "    ori_y = np.expand_dims(ori_y, axis=-1)\n",
        "    ori_y = np.concatenate([ori_y, ori_y, ori_y], axis=-1)\n",
        "\n",
        "    y_pred = np.expand_dims(y_pred, axis=-1)\n",
        "    y_pred = np.concatenate([y_pred, y_pred, y_pred], axis=-1) * 255\n",
        "\n",
        "    cat_images = np.concatenate([ori_x, line, ori_y, line, y_pred], axis=1)\n",
        "    cv2.imwrite(save_image_path, cat_images)"
      ],
      "execution_count": null,
      "outputs": []
    },
    {
      "cell_type": "code",
      "source": [
        "import glob\n",
        "supported_extensions = [\"png\", \"jpg\", \"tif\", \"jpeg\", \"gif\", \"bmp\"]\n",
        "\n",
        "def image_files(path, file_prefix=None):\n",
        "    all_image_files = []\n",
        "    # print(\"path\", path)\n",
        "    # print(\"file_prefix\", file_prefix)\n",
        "    if file_prefix is None:\n",
        "        file_names = list(glob.glob(path + \"/*.*\" ))\n",
        "    else:\n",
        "        prefix___ = path + \"/\" + file_prefix + \".*\"\n",
        "        #print(\"prefix\", prefix___)\n",
        "        file_names = list(glob.glob(prefix___))\n",
        "\n",
        "    # print(\"filenames\", file_names)\n",
        "\n",
        "    for filename in file_names:\n",
        "        ext = filename.rsplit(\".\", 1)[1]\n",
        "        if ext.lower() in supported_extensions:\n",
        "            all_image_files.append(filename)\n",
        "    # print(\"All Image files\", all_image_files)\n",
        "    return sorted(all_image_files)\n"
      ],
      "metadata": {
        "id": "AVfRbYagZChd"
      },
      "execution_count": null,
      "outputs": []
    },
    {
      "cell_type": "code",
      "source": [
        "results_path = f\"{root_path}/results/\"\n",
        "prediction_path = f\"{root_path}/predictions/\"\n",
        "prediction_np_path = f\"{root_path}/predictions_np/\"\n",
        "create_dir(prediction_path)\n",
        "create_dir(prediction_np_path)\n",
        "create_dir(results_path)"
      ],
      "metadata": {
        "id": "41UgJB8nD_XH"
      },
      "execution_count": null,
      "outputs": []
    },
    {
      "cell_type": "code",
      "source": [
        "results_path"
      ],
      "metadata": {
        "id": "BJYCeRNgZOHE",
        "colab": {
          "base_uri": "https://localhost:8080/",
          "height": 35
        },
        "outputId": "c3645fe7-29e4-414d-98d2-b569c8467272"
      },
      "execution_count": null,
      "outputs": [
        {
          "output_type": "execute_result",
          "data": {
            "application/vnd.google.colaboratory.intrinsic+json": {
              "type": "string"
            },
            "text/plain": [
              "'/content/datasets/drive_256_256_dice_loss_0_4__0_4_1//results/'"
            ]
          },
          "metadata": {},
          "execution_count": 43
        }
      ]
    },
    {
      "cell_type": "code",
      "source": [
        "from glob import glob"
      ],
      "metadata": {
        "id": "R9b3W24IZwQO"
      },
      "execution_count": null,
      "outputs": []
    },
    {
      "cell_type": "code",
      "metadata": {
        "id": "bVTFZdxa6TuQ",
        "colab": {
          "base_uri": "https://localhost:8080/"
        },
        "outputId": "d2a68413-2b8d-4225-d582-497a131c8aca"
      },
      "source": [
        "from copy import deepcopy\n",
        "from sklearn.metrics import roc_auc_score\n",
        "# prediction_path = \"predictions\"\n",
        "\n",
        "\"\"\" Save the results in this folder \"\"\"\n",
        "# create_dir(\"results_sunil_test\")\n",
        "# create_dir(prediction_path)\n",
        "\n",
        "\"\"\" Load the model \"\"\"\n",
        "# with CustomObjectScope({'iou': iou, 'dice_coef': dice_coef}):\n",
        "model_path = os.path.join(f\"{model_dir}\", \"model.h5\")\n",
        "\n",
        "model = load_model(model_path, compile=False)\n",
        "\n",
        "\"\"\" Load the dataset \"\"\"\n",
        "dataset_path = os.path.join(f\"{data_path}/{split_name}\", \"test\")\n",
        "test_x, test_y = load_data(dataset_path)\n",
        "\n",
        "\"\"\" Make the prediction and calculate the metrics values \"\"\"\n",
        "SCORE = []\n",
        "for x, y in tqdm(zip(test_x, test_y), total=len(test_x)):\n",
        "    \"\"\" Extracting name \"\"\"\n",
        "    name = x.split(\"/\")[-1].split(\".\")[0]\n",
        "\n",
        "    \"\"\" Read the image and mask \"\"\"\n",
        "    ori_x, x = read_image(x)\n",
        "    ori_y, y = read_mask(y)\n",
        "    y = y.astype(np.int)\n",
        "\n",
        "    \"\"\" Prediction \"\"\"\n",
        "    y_pred = model.predict(np.expand_dims(x, axis=0))[0]\n",
        "    np.save(f\"{prediction_np_path}/{name}.npy\", y_pred)\n",
        "    y_prob = deepcopy(y_pred).flatten()\n",
        "    y_pred = y_pred > 0.5\n",
        "    y_pred = y_pred.astype(np.int32)\n",
        "    y_pred = np.squeeze(y_pred, axis=-1)\n",
        "\n",
        "    \"\"\" Saving the images \"\"\"\n",
        "    save_image_path = f\"{results_path}/{name}.png\"\n",
        "#    print(ori_x.shape, ori_y.shape, y_pred.shape)\n",
        "    save_results(ori_x, ori_y, y_pred, save_image_path)\n",
        "    cv2.imwrite(f\"{prediction_path}/{name}.png\", y_pred * 255)\n",
        "    \n",
        "\n",
        "    \"\"\" Flatten the array \"\"\"\n",
        "    y = y.flatten()\n",
        "    y_pred = y_pred.flatten()\n",
        "\n",
        "    \"\"\" Calculate the metrics \"\"\"\n",
        "    acc_value = accuracy_score(y, y_pred)\n",
        "    f1_value = f1_score(y, y_pred, labels=[0, 1], average=\"binary\")\n",
        "    jac_value = jaccard_score(y, y_pred, labels=[0, 1], average=\"binary\")\n",
        "    recall_value = recall_score(y, y_pred, labels=[0, 1], average=\"binary\")\n",
        "    precision_value = precision_score(y, y_pred, labels=[0, 1], average=\"binary\")\n",
        "    if np.sum(y) == 0 or np.sum(y) == H * W:\n",
        "        auc_value = 1\n",
        "    else:\n",
        "        auc_value = roc_auc_score(y, y_prob)\n",
        "    dice_value = dice_coef(y.astype(np.float64), y_prob)\n",
        "\n",
        "    SCORE.append([name, acc_value, f1_value, jac_value, recall_value, precision_value, auc_value, dice_value])\n",
        "\n",
        "score = [s[1:] for s in SCORE]\n",
        "score = np.mean(score, axis=0)\n",
        "print(f\"Accuracy: {score[0]:0.5f}\")\n",
        "print(f\"F1: {score[1]:0.5f}\")\n",
        "print(f\"Jaccard: {score[2]:0.5f}\")\n",
        "print(f\"Recall: {score[3]:0.5f}\")\n",
        "print(f\"Precision: {score[4]:0.5f}\")\n",
        "print(f\"AUC: {score[5]:0.5f}\")\n",
        "print(f\"Dice Coeff: {score[6]:0.5f}\")\n",
        "\"\"\" Saving \"\"\"\n",
        "df = pd.DataFrame(SCORE, columns=[\"Image\", \"Acc\", \"F1\", \"Jaccard\", \"Recall\", \"Precision\", \"AUC\", \"Dice Coeff\"])\n",
        "df.to_csv(f\"{results_path}/score.csv\")"
      ],
      "execution_count": null,
      "outputs": [
        {
          "output_type": "stream",
          "name": "stderr",
          "text": [
            "\r  0%|          | 0/180 [00:00<?, ?it/s]/usr/local/lib/python3.7/dist-packages/ipykernel_launcher.py:28: DeprecationWarning: `np.int` is a deprecated alias for the builtin `int`. To silence this warning, use `int` by itself. Doing this will not modify any behavior and is safe. When replacing `np.int`, you may wish to use e.g. `np.int64` or `np.int32` to specify the precision. If you wish to review your current use, check the release note link for additional information.\n",
            "Deprecated in NumPy 1.20; for more details and guidance: https://numpy.org/devdocs/release/1.20.0-notes.html#deprecations\n",
            "  1%|          | 1/180 [00:01<03:02,  1.02s/it]/usr/local/lib/python3.7/dist-packages/ipykernel_launcher.py:28: DeprecationWarning: `np.int` is a deprecated alias for the builtin `int`. To silence this warning, use `int` by itself. Doing this will not modify any behavior and is safe. When replacing `np.int`, you may wish to use e.g. `np.int64` or `np.int32` to specify the precision. If you wish to review your current use, check the release note link for additional information.\n",
            "Deprecated in NumPy 1.20; for more details and guidance: https://numpy.org/devdocs/release/1.20.0-notes.html#deprecations\n",
            "  1%|          | 2/180 [00:01<01:32,  1.92it/s]/usr/local/lib/python3.7/dist-packages/ipykernel_launcher.py:28: DeprecationWarning: `np.int` is a deprecated alias for the builtin `int`. To silence this warning, use `int` by itself. Doing this will not modify any behavior and is safe. When replacing `np.int`, you may wish to use e.g. `np.int64` or `np.int32` to specify the precision. If you wish to review your current use, check the release note link for additional information.\n",
            "Deprecated in NumPy 1.20; for more details and guidance: https://numpy.org/devdocs/release/1.20.0-notes.html#deprecations\n",
            "  2%|▏         | 3/180 [00:01<01:03,  2.81it/s]/usr/local/lib/python3.7/dist-packages/ipykernel_launcher.py:28: DeprecationWarning: `np.int` is a deprecated alias for the builtin `int`. To silence this warning, use `int` by itself. Doing this will not modify any behavior and is safe. When replacing `np.int`, you may wish to use e.g. `np.int64` or `np.int32` to specify the precision. If you wish to review your current use, check the release note link for additional information.\n",
            "Deprecated in NumPy 1.20; for more details and guidance: https://numpy.org/devdocs/release/1.20.0-notes.html#deprecations\n",
            "  2%|▏         | 4/180 [00:01<00:49,  3.52it/s]/usr/local/lib/python3.7/dist-packages/ipykernel_launcher.py:28: DeprecationWarning: `np.int` is a deprecated alias for the builtin `int`. To silence this warning, use `int` by itself. Doing this will not modify any behavior and is safe. When replacing `np.int`, you may wish to use e.g. `np.int64` or `np.int32` to specify the precision. If you wish to review your current use, check the release note link for additional information.\n",
            "Deprecated in NumPy 1.20; for more details and guidance: https://numpy.org/devdocs/release/1.20.0-notes.html#deprecations\n",
            "  3%|▎         | 5/180 [00:01<00:43,  4.06it/s]/usr/local/lib/python3.7/dist-packages/ipykernel_launcher.py:28: DeprecationWarning: `np.int` is a deprecated alias for the builtin `int`. To silence this warning, use `int` by itself. Doing this will not modify any behavior and is safe. When replacing `np.int`, you may wish to use e.g. `np.int64` or `np.int32` to specify the precision. If you wish to review your current use, check the release note link for additional information.\n",
            "Deprecated in NumPy 1.20; for more details and guidance: https://numpy.org/devdocs/release/1.20.0-notes.html#deprecations\n",
            "  3%|▎         | 6/180 [00:01<00:38,  4.54it/s]/usr/local/lib/python3.7/dist-packages/ipykernel_launcher.py:28: DeprecationWarning: `np.int` is a deprecated alias for the builtin `int`. To silence this warning, use `int` by itself. Doing this will not modify any behavior and is safe. When replacing `np.int`, you may wish to use e.g. `np.int64` or `np.int32` to specify the precision. If you wish to review your current use, check the release note link for additional information.\n",
            "Deprecated in NumPy 1.20; for more details and guidance: https://numpy.org/devdocs/release/1.20.0-notes.html#deprecations\n",
            "  4%|▍         | 7/180 [00:02<00:35,  4.93it/s]/usr/local/lib/python3.7/dist-packages/ipykernel_launcher.py:28: DeprecationWarning: `np.int` is a deprecated alias for the builtin `int`. To silence this warning, use `int` by itself. Doing this will not modify any behavior and is safe. When replacing `np.int`, you may wish to use e.g. `np.int64` or `np.int32` to specify the precision. If you wish to review your current use, check the release note link for additional information.\n",
            "Deprecated in NumPy 1.20; for more details and guidance: https://numpy.org/devdocs/release/1.20.0-notes.html#deprecations\n",
            "  4%|▍         | 8/180 [00:02<00:33,  5.15it/s]/usr/local/lib/python3.7/dist-packages/ipykernel_launcher.py:28: DeprecationWarning: `np.int` is a deprecated alias for the builtin `int`. To silence this warning, use `int` by itself. Doing this will not modify any behavior and is safe. When replacing `np.int`, you may wish to use e.g. `np.int64` or `np.int32` to specify the precision. If you wish to review your current use, check the release note link for additional information.\n",
            "Deprecated in NumPy 1.20; for more details and guidance: https://numpy.org/devdocs/release/1.20.0-notes.html#deprecations\n",
            "  5%|▌         | 9/180 [00:02<00:31,  5.35it/s]/usr/local/lib/python3.7/dist-packages/ipykernel_launcher.py:28: DeprecationWarning: `np.int` is a deprecated alias for the builtin `int`. To silence this warning, use `int` by itself. Doing this will not modify any behavior and is safe. When replacing `np.int`, you may wish to use e.g. `np.int64` or `np.int32` to specify the precision. If you wish to review your current use, check the release note link for additional information.\n",
            "Deprecated in NumPy 1.20; for more details and guidance: https://numpy.org/devdocs/release/1.20.0-notes.html#deprecations\n",
            "  6%|▌         | 10/180 [00:02<00:30,  5.50it/s]/usr/local/lib/python3.7/dist-packages/ipykernel_launcher.py:28: DeprecationWarning: `np.int` is a deprecated alias for the builtin `int`. To silence this warning, use `int` by itself. Doing this will not modify any behavior and is safe. When replacing `np.int`, you may wish to use e.g. `np.int64` or `np.int32` to specify the precision. If you wish to review your current use, check the release note link for additional information.\n",
            "Deprecated in NumPy 1.20; for more details and guidance: https://numpy.org/devdocs/release/1.20.0-notes.html#deprecations\n",
            "  6%|▌         | 11/180 [00:02<00:30,  5.52it/s]/usr/local/lib/python3.7/dist-packages/ipykernel_launcher.py:28: DeprecationWarning: `np.int` is a deprecated alias for the builtin `int`. To silence this warning, use `int` by itself. Doing this will not modify any behavior and is safe. When replacing `np.int`, you may wish to use e.g. `np.int64` or `np.int32` to specify the precision. If you wish to review your current use, check the release note link for additional information.\n",
            "Deprecated in NumPy 1.20; for more details and guidance: https://numpy.org/devdocs/release/1.20.0-notes.html#deprecations\n",
            "  7%|▋         | 12/180 [00:02<00:29,  5.62it/s]/usr/local/lib/python3.7/dist-packages/ipykernel_launcher.py:28: DeprecationWarning: `np.int` is a deprecated alias for the builtin `int`. To silence this warning, use `int` by itself. Doing this will not modify any behavior and is safe. When replacing `np.int`, you may wish to use e.g. `np.int64` or `np.int32` to specify the precision. If you wish to review your current use, check the release note link for additional information.\n",
            "Deprecated in NumPy 1.20; for more details and guidance: https://numpy.org/devdocs/release/1.20.0-notes.html#deprecations\n",
            "  7%|▋         | 13/180 [00:03<00:29,  5.64it/s]/usr/local/lib/python3.7/dist-packages/ipykernel_launcher.py:28: DeprecationWarning: `np.int` is a deprecated alias for the builtin `int`. To silence this warning, use `int` by itself. Doing this will not modify any behavior and is safe. When replacing `np.int`, you may wish to use e.g. `np.int64` or `np.int32` to specify the precision. If you wish to review your current use, check the release note link for additional information.\n",
            "Deprecated in NumPy 1.20; for more details and guidance: https://numpy.org/devdocs/release/1.20.0-notes.html#deprecations\n",
            "  8%|▊         | 14/180 [00:03<00:29,  5.57it/s]/usr/local/lib/python3.7/dist-packages/ipykernel_launcher.py:28: DeprecationWarning: `np.int` is a deprecated alias for the builtin `int`. To silence this warning, use `int` by itself. Doing this will not modify any behavior and is safe. When replacing `np.int`, you may wish to use e.g. `np.int64` or `np.int32` to specify the precision. If you wish to review your current use, check the release note link for additional information.\n",
            "Deprecated in NumPy 1.20; for more details and guidance: https://numpy.org/devdocs/release/1.20.0-notes.html#deprecations\n",
            "  8%|▊         | 15/180 [00:03<00:29,  5.66it/s]/usr/local/lib/python3.7/dist-packages/ipykernel_launcher.py:28: DeprecationWarning: `np.int` is a deprecated alias for the builtin `int`. To silence this warning, use `int` by itself. Doing this will not modify any behavior and is safe. When replacing `np.int`, you may wish to use e.g. `np.int64` or `np.int32` to specify the precision. If you wish to review your current use, check the release note link for additional information.\n",
            "Deprecated in NumPy 1.20; for more details and guidance: https://numpy.org/devdocs/release/1.20.0-notes.html#deprecations\n",
            "  9%|▉         | 16/180 [00:03<00:28,  5.78it/s]/usr/local/lib/python3.7/dist-packages/ipykernel_launcher.py:28: DeprecationWarning: `np.int` is a deprecated alias for the builtin `int`. To silence this warning, use `int` by itself. Doing this will not modify any behavior and is safe. When replacing `np.int`, you may wish to use e.g. `np.int64` or `np.int32` to specify the precision. If you wish to review your current use, check the release note link for additional information.\n",
            "Deprecated in NumPy 1.20; for more details and guidance: https://numpy.org/devdocs/release/1.20.0-notes.html#deprecations\n",
            "  9%|▉         | 17/180 [00:03<00:27,  5.86it/s]/usr/local/lib/python3.7/dist-packages/ipykernel_launcher.py:28: DeprecationWarning: `np.int` is a deprecated alias for the builtin `int`. To silence this warning, use `int` by itself. Doing this will not modify any behavior and is safe. When replacing `np.int`, you may wish to use e.g. `np.int64` or `np.int32` to specify the precision. If you wish to review your current use, check the release note link for additional information.\n",
            "Deprecated in NumPy 1.20; for more details and guidance: https://numpy.org/devdocs/release/1.20.0-notes.html#deprecations\n",
            " 10%|█         | 18/180 [00:03<00:27,  5.98it/s]/usr/local/lib/python3.7/dist-packages/ipykernel_launcher.py:28: DeprecationWarning: `np.int` is a deprecated alias for the builtin `int`. To silence this warning, use `int` by itself. Doing this will not modify any behavior and is safe. When replacing `np.int`, you may wish to use e.g. `np.int64` or `np.int32` to specify the precision. If you wish to review your current use, check the release note link for additional information.\n",
            "Deprecated in NumPy 1.20; for more details and guidance: https://numpy.org/devdocs/release/1.20.0-notes.html#deprecations\n",
            " 11%|█         | 19/180 [00:04<00:26,  6.12it/s]/usr/local/lib/python3.7/dist-packages/ipykernel_launcher.py:28: DeprecationWarning: `np.int` is a deprecated alias for the builtin `int`. To silence this warning, use `int` by itself. Doing this will not modify any behavior and is safe. When replacing `np.int`, you may wish to use e.g. `np.int64` or `np.int32` to specify the precision. If you wish to review your current use, check the release note link for additional information.\n",
            "Deprecated in NumPy 1.20; for more details and guidance: https://numpy.org/devdocs/release/1.20.0-notes.html#deprecations\n",
            " 11%|█         | 20/180 [00:04<00:26,  6.14it/s]/usr/local/lib/python3.7/dist-packages/ipykernel_launcher.py:28: DeprecationWarning: `np.int` is a deprecated alias for the builtin `int`. To silence this warning, use `int` by itself. Doing this will not modify any behavior and is safe. When replacing `np.int`, you may wish to use e.g. `np.int64` or `np.int32` to specify the precision. If you wish to review your current use, check the release note link for additional information.\n",
            "Deprecated in NumPy 1.20; for more details and guidance: https://numpy.org/devdocs/release/1.20.0-notes.html#deprecations\n",
            " 12%|█▏        | 21/180 [00:04<00:25,  6.21it/s]/usr/local/lib/python3.7/dist-packages/ipykernel_launcher.py:28: DeprecationWarning: `np.int` is a deprecated alias for the builtin `int`. To silence this warning, use `int` by itself. Doing this will not modify any behavior and is safe. When replacing `np.int`, you may wish to use e.g. `np.int64` or `np.int32` to specify the precision. If you wish to review your current use, check the release note link for additional information.\n",
            "Deprecated in NumPy 1.20; for more details and guidance: https://numpy.org/devdocs/release/1.20.0-notes.html#deprecations\n",
            " 12%|█▏        | 22/180 [00:04<00:25,  6.13it/s]/usr/local/lib/python3.7/dist-packages/ipykernel_launcher.py:28: DeprecationWarning: `np.int` is a deprecated alias for the builtin `int`. To silence this warning, use `int` by itself. Doing this will not modify any behavior and is safe. When replacing `np.int`, you may wish to use e.g. `np.int64` or `np.int32` to specify the precision. If you wish to review your current use, check the release note link for additional information.\n",
            "Deprecated in NumPy 1.20; for more details and guidance: https://numpy.org/devdocs/release/1.20.0-notes.html#deprecations\n",
            " 13%|█▎        | 23/180 [00:04<00:26,  6.03it/s]/usr/local/lib/python3.7/dist-packages/ipykernel_launcher.py:28: DeprecationWarning: `np.int` is a deprecated alias for the builtin `int`. To silence this warning, use `int` by itself. Doing this will not modify any behavior and is safe. When replacing `np.int`, you may wish to use e.g. `np.int64` or `np.int32` to specify the precision. If you wish to review your current use, check the release note link for additional information.\n",
            "Deprecated in NumPy 1.20; for more details and guidance: https://numpy.org/devdocs/release/1.20.0-notes.html#deprecations\n",
            " 13%|█▎        | 24/180 [00:04<00:26,  5.88it/s]/usr/local/lib/python3.7/dist-packages/ipykernel_launcher.py:28: DeprecationWarning: `np.int` is a deprecated alias for the builtin `int`. To silence this warning, use `int` by itself. Doing this will not modify any behavior and is safe. When replacing `np.int`, you may wish to use e.g. `np.int64` or `np.int32` to specify the precision. If you wish to review your current use, check the release note link for additional information.\n",
            "Deprecated in NumPy 1.20; for more details and guidance: https://numpy.org/devdocs/release/1.20.0-notes.html#deprecations\n",
            " 14%|█▍        | 25/180 [00:05<00:26,  5.96it/s]/usr/local/lib/python3.7/dist-packages/ipykernel_launcher.py:28: DeprecationWarning: `np.int` is a deprecated alias for the builtin `int`. To silence this warning, use `int` by itself. Doing this will not modify any behavior and is safe. When replacing `np.int`, you may wish to use e.g. `np.int64` or `np.int32` to specify the precision. If you wish to review your current use, check the release note link for additional information.\n",
            "Deprecated in NumPy 1.20; for more details and guidance: https://numpy.org/devdocs/release/1.20.0-notes.html#deprecations\n",
            " 14%|█▍        | 26/180 [00:05<00:25,  6.00it/s]/usr/local/lib/python3.7/dist-packages/ipykernel_launcher.py:28: DeprecationWarning: `np.int` is a deprecated alias for the builtin `int`. To silence this warning, use `int` by itself. Doing this will not modify any behavior and is safe. When replacing `np.int`, you may wish to use e.g. `np.int64` or `np.int32` to specify the precision. If you wish to review your current use, check the release note link for additional information.\n",
            "Deprecated in NumPy 1.20; for more details and guidance: https://numpy.org/devdocs/release/1.20.0-notes.html#deprecations\n",
            " 15%|█▌        | 27/180 [00:05<00:25,  6.06it/s]/usr/local/lib/python3.7/dist-packages/ipykernel_launcher.py:28: DeprecationWarning: `np.int` is a deprecated alias for the builtin `int`. To silence this warning, use `int` by itself. Doing this will not modify any behavior and is safe. When replacing `np.int`, you may wish to use e.g. `np.int64` or `np.int32` to specify the precision. If you wish to review your current use, check the release note link for additional information.\n",
            "Deprecated in NumPy 1.20; for more details and guidance: https://numpy.org/devdocs/release/1.20.0-notes.html#deprecations\n",
            " 16%|█▌        | 28/180 [00:05<00:24,  6.09it/s]/usr/local/lib/python3.7/dist-packages/ipykernel_launcher.py:28: DeprecationWarning: `np.int` is a deprecated alias for the builtin `int`. To silence this warning, use `int` by itself. Doing this will not modify any behavior and is safe. When replacing `np.int`, you may wish to use e.g. `np.int64` or `np.int32` to specify the precision. If you wish to review your current use, check the release note link for additional information.\n",
            "Deprecated in NumPy 1.20; for more details and guidance: https://numpy.org/devdocs/release/1.20.0-notes.html#deprecations\n",
            " 16%|█▌        | 29/180 [00:05<00:24,  6.07it/s]/usr/local/lib/python3.7/dist-packages/ipykernel_launcher.py:28: DeprecationWarning: `np.int` is a deprecated alias for the builtin `int`. To silence this warning, use `int` by itself. Doing this will not modify any behavior and is safe. When replacing `np.int`, you may wish to use e.g. `np.int64` or `np.int32` to specify the precision. If you wish to review your current use, check the release note link for additional information.\n",
            "Deprecated in NumPy 1.20; for more details and guidance: https://numpy.org/devdocs/release/1.20.0-notes.html#deprecations\n",
            " 17%|█▋        | 30/180 [00:05<00:24,  6.12it/s]/usr/local/lib/python3.7/dist-packages/ipykernel_launcher.py:28: DeprecationWarning: `np.int` is a deprecated alias for the builtin `int`. To silence this warning, use `int` by itself. Doing this will not modify any behavior and is safe. When replacing `np.int`, you may wish to use e.g. `np.int64` or `np.int32` to specify the precision. If you wish to review your current use, check the release note link for additional information.\n",
            "Deprecated in NumPy 1.20; for more details and guidance: https://numpy.org/devdocs/release/1.20.0-notes.html#deprecations\n",
            " 17%|█▋        | 31/180 [00:06<00:24,  6.10it/s]/usr/local/lib/python3.7/dist-packages/ipykernel_launcher.py:28: DeprecationWarning: `np.int` is a deprecated alias for the builtin `int`. To silence this warning, use `int` by itself. Doing this will not modify any behavior and is safe. When replacing `np.int`, you may wish to use e.g. `np.int64` or `np.int32` to specify the precision. If you wish to review your current use, check the release note link for additional information.\n",
            "Deprecated in NumPy 1.20; for more details and guidance: https://numpy.org/devdocs/release/1.20.0-notes.html#deprecations\n",
            " 18%|█▊        | 32/180 [00:06<00:24,  6.01it/s]/usr/local/lib/python3.7/dist-packages/ipykernel_launcher.py:28: DeprecationWarning: `np.int` is a deprecated alias for the builtin `int`. To silence this warning, use `int` by itself. Doing this will not modify any behavior and is safe. When replacing `np.int`, you may wish to use e.g. `np.int64` or `np.int32` to specify the precision. If you wish to review your current use, check the release note link for additional information.\n",
            "Deprecated in NumPy 1.20; for more details and guidance: https://numpy.org/devdocs/release/1.20.0-notes.html#deprecations\n",
            " 18%|█▊        | 33/180 [00:06<00:24,  5.97it/s]/usr/local/lib/python3.7/dist-packages/ipykernel_launcher.py:28: DeprecationWarning: `np.int` is a deprecated alias for the builtin `int`. To silence this warning, use `int` by itself. Doing this will not modify any behavior and is safe. When replacing `np.int`, you may wish to use e.g. `np.int64` or `np.int32` to specify the precision. If you wish to review your current use, check the release note link for additional information.\n",
            "Deprecated in NumPy 1.20; for more details and guidance: https://numpy.org/devdocs/release/1.20.0-notes.html#deprecations\n",
            " 19%|█▉        | 34/180 [00:06<00:24,  5.90it/s]/usr/local/lib/python3.7/dist-packages/ipykernel_launcher.py:28: DeprecationWarning: `np.int` is a deprecated alias for the builtin `int`. To silence this warning, use `int` by itself. Doing this will not modify any behavior and is safe. When replacing `np.int`, you may wish to use e.g. `np.int64` or `np.int32` to specify the precision. If you wish to review your current use, check the release note link for additional information.\n",
            "Deprecated in NumPy 1.20; for more details and guidance: https://numpy.org/devdocs/release/1.20.0-notes.html#deprecations\n",
            " 19%|█▉        | 35/180 [00:06<00:24,  5.89it/s]/usr/local/lib/python3.7/dist-packages/ipykernel_launcher.py:28: DeprecationWarning: `np.int` is a deprecated alias for the builtin `int`. To silence this warning, use `int` by itself. Doing this will not modify any behavior and is safe. When replacing `np.int`, you may wish to use e.g. `np.int64` or `np.int32` to specify the precision. If you wish to review your current use, check the release note link for additional information.\n",
            "Deprecated in NumPy 1.20; for more details and guidance: https://numpy.org/devdocs/release/1.20.0-notes.html#deprecations\n",
            " 20%|██        | 36/180 [00:06<00:24,  5.88it/s]/usr/local/lib/python3.7/dist-packages/ipykernel_launcher.py:28: DeprecationWarning: `np.int` is a deprecated alias for the builtin `int`. To silence this warning, use `int` by itself. Doing this will not modify any behavior and is safe. When replacing `np.int`, you may wish to use e.g. `np.int64` or `np.int32` to specify the precision. If you wish to review your current use, check the release note link for additional information.\n",
            "Deprecated in NumPy 1.20; for more details and guidance: https://numpy.org/devdocs/release/1.20.0-notes.html#deprecations\n",
            " 21%|██        | 37/180 [00:07<00:24,  5.91it/s]/usr/local/lib/python3.7/dist-packages/ipykernel_launcher.py:28: DeprecationWarning: `np.int` is a deprecated alias for the builtin `int`. To silence this warning, use `int` by itself. Doing this will not modify any behavior and is safe. When replacing `np.int`, you may wish to use e.g. `np.int64` or `np.int32` to specify the precision. If you wish to review your current use, check the release note link for additional information.\n",
            "Deprecated in NumPy 1.20; for more details and guidance: https://numpy.org/devdocs/release/1.20.0-notes.html#deprecations\n",
            " 21%|██        | 38/180 [00:07<00:23,  5.94it/s]/usr/local/lib/python3.7/dist-packages/ipykernel_launcher.py:28: DeprecationWarning: `np.int` is a deprecated alias for the builtin `int`. To silence this warning, use `int` by itself. Doing this will not modify any behavior and is safe. When replacing `np.int`, you may wish to use e.g. `np.int64` or `np.int32` to specify the precision. If you wish to review your current use, check the release note link for additional information.\n",
            "Deprecated in NumPy 1.20; for more details and guidance: https://numpy.org/devdocs/release/1.20.0-notes.html#deprecations\n",
            " 22%|██▏       | 39/180 [00:07<00:23,  6.02it/s]/usr/local/lib/python3.7/dist-packages/ipykernel_launcher.py:28: DeprecationWarning: `np.int` is a deprecated alias for the builtin `int`. To silence this warning, use `int` by itself. Doing this will not modify any behavior and is safe. When replacing `np.int`, you may wish to use e.g. `np.int64` or `np.int32` to specify the precision. If you wish to review your current use, check the release note link for additional information.\n",
            "Deprecated in NumPy 1.20; for more details and guidance: https://numpy.org/devdocs/release/1.20.0-notes.html#deprecations\n",
            " 22%|██▏       | 40/180 [00:07<00:23,  5.96it/s]/usr/local/lib/python3.7/dist-packages/ipykernel_launcher.py:28: DeprecationWarning: `np.int` is a deprecated alias for the builtin `int`. To silence this warning, use `int` by itself. Doing this will not modify any behavior and is safe. When replacing `np.int`, you may wish to use e.g. `np.int64` or `np.int32` to specify the precision. If you wish to review your current use, check the release note link for additional information.\n",
            "Deprecated in NumPy 1.20; for more details and guidance: https://numpy.org/devdocs/release/1.20.0-notes.html#deprecations\n",
            " 23%|██▎       | 41/180 [00:07<00:23,  5.82it/s]/usr/local/lib/python3.7/dist-packages/ipykernel_launcher.py:28: DeprecationWarning: `np.int` is a deprecated alias for the builtin `int`. To silence this warning, use `int` by itself. Doing this will not modify any behavior and is safe. When replacing `np.int`, you may wish to use e.g. `np.int64` or `np.int32` to specify the precision. If you wish to review your current use, check the release note link for additional information.\n",
            "Deprecated in NumPy 1.20; for more details and guidance: https://numpy.org/devdocs/release/1.20.0-notes.html#deprecations\n",
            " 23%|██▎       | 42/180 [00:07<00:23,  5.80it/s]/usr/local/lib/python3.7/dist-packages/ipykernel_launcher.py:28: DeprecationWarning: `np.int` is a deprecated alias for the builtin `int`. To silence this warning, use `int` by itself. Doing this will not modify any behavior and is safe. When replacing `np.int`, you may wish to use e.g. `np.int64` or `np.int32` to specify the precision. If you wish to review your current use, check the release note link for additional information.\n",
            "Deprecated in NumPy 1.20; for more details and guidance: https://numpy.org/devdocs/release/1.20.0-notes.html#deprecations\n",
            " 24%|██▍       | 43/180 [00:08<00:23,  5.84it/s]/usr/local/lib/python3.7/dist-packages/ipykernel_launcher.py:28: DeprecationWarning: `np.int` is a deprecated alias for the builtin `int`. To silence this warning, use `int` by itself. Doing this will not modify any behavior and is safe. When replacing `np.int`, you may wish to use e.g. `np.int64` or `np.int32` to specify the precision. If you wish to review your current use, check the release note link for additional information.\n",
            "Deprecated in NumPy 1.20; for more details and guidance: https://numpy.org/devdocs/release/1.20.0-notes.html#deprecations\n",
            " 24%|██▍       | 44/180 [00:08<00:23,  5.83it/s]/usr/local/lib/python3.7/dist-packages/ipykernel_launcher.py:28: DeprecationWarning: `np.int` is a deprecated alias for the builtin `int`. To silence this warning, use `int` by itself. Doing this will not modify any behavior and is safe. When replacing `np.int`, you may wish to use e.g. `np.int64` or `np.int32` to specify the precision. If you wish to review your current use, check the release note link for additional information.\n",
            "Deprecated in NumPy 1.20; for more details and guidance: https://numpy.org/devdocs/release/1.20.0-notes.html#deprecations\n",
            " 25%|██▌       | 45/180 [00:08<00:22,  5.95it/s]/usr/local/lib/python3.7/dist-packages/ipykernel_launcher.py:28: DeprecationWarning: `np.int` is a deprecated alias for the builtin `int`. To silence this warning, use `int` by itself. Doing this will not modify any behavior and is safe. When replacing `np.int`, you may wish to use e.g. `np.int64` or `np.int32` to specify the precision. If you wish to review your current use, check the release note link for additional information.\n",
            "Deprecated in NumPy 1.20; for more details and guidance: https://numpy.org/devdocs/release/1.20.0-notes.html#deprecations\n",
            " 26%|██▌       | 46/180 [00:08<00:22,  6.05it/s]/usr/local/lib/python3.7/dist-packages/ipykernel_launcher.py:28: DeprecationWarning: `np.int` is a deprecated alias for the builtin `int`. To silence this warning, use `int` by itself. Doing this will not modify any behavior and is safe. When replacing `np.int`, you may wish to use e.g. `np.int64` or `np.int32` to specify the precision. If you wish to review your current use, check the release note link for additional information.\n",
            "Deprecated in NumPy 1.20; for more details and guidance: https://numpy.org/devdocs/release/1.20.0-notes.html#deprecations\n",
            " 26%|██▌       | 47/180 [00:08<00:21,  6.08it/s]/usr/local/lib/python3.7/dist-packages/ipykernel_launcher.py:28: DeprecationWarning: `np.int` is a deprecated alias for the builtin `int`. To silence this warning, use `int` by itself. Doing this will not modify any behavior and is safe. When replacing `np.int`, you may wish to use e.g. `np.int64` or `np.int32` to specify the precision. If you wish to review your current use, check the release note link for additional information.\n",
            "Deprecated in NumPy 1.20; for more details and guidance: https://numpy.org/devdocs/release/1.20.0-notes.html#deprecations\n",
            " 27%|██▋       | 48/180 [00:08<00:21,  6.11it/s]/usr/local/lib/python3.7/dist-packages/ipykernel_launcher.py:28: DeprecationWarning: `np.int` is a deprecated alias for the builtin `int`. To silence this warning, use `int` by itself. Doing this will not modify any behavior and is safe. When replacing `np.int`, you may wish to use e.g. `np.int64` or `np.int32` to specify the precision. If you wish to review your current use, check the release note link for additional information.\n",
            "Deprecated in NumPy 1.20; for more details and guidance: https://numpy.org/devdocs/release/1.20.0-notes.html#deprecations\n",
            " 27%|██▋       | 49/180 [00:09<00:21,  6.15it/s]/usr/local/lib/python3.7/dist-packages/ipykernel_launcher.py:28: DeprecationWarning: `np.int` is a deprecated alias for the builtin `int`. To silence this warning, use `int` by itself. Doing this will not modify any behavior and is safe. When replacing `np.int`, you may wish to use e.g. `np.int64` or `np.int32` to specify the precision. If you wish to review your current use, check the release note link for additional information.\n",
            "Deprecated in NumPy 1.20; for more details and guidance: https://numpy.org/devdocs/release/1.20.0-notes.html#deprecations\n",
            " 28%|██▊       | 50/180 [00:09<00:21,  6.08it/s]/usr/local/lib/python3.7/dist-packages/ipykernel_launcher.py:28: DeprecationWarning: `np.int` is a deprecated alias for the builtin `int`. To silence this warning, use `int` by itself. Doing this will not modify any behavior and is safe. When replacing `np.int`, you may wish to use e.g. `np.int64` or `np.int32` to specify the precision. If you wish to review your current use, check the release note link for additional information.\n",
            "Deprecated in NumPy 1.20; for more details and guidance: https://numpy.org/devdocs/release/1.20.0-notes.html#deprecations\n",
            " 28%|██▊       | 51/180 [00:09<00:21,  6.04it/s]/usr/local/lib/python3.7/dist-packages/ipykernel_launcher.py:28: DeprecationWarning: `np.int` is a deprecated alias for the builtin `int`. To silence this warning, use `int` by itself. Doing this will not modify any behavior and is safe. When replacing `np.int`, you may wish to use e.g. `np.int64` or `np.int32` to specify the precision. If you wish to review your current use, check the release note link for additional information.\n",
            "Deprecated in NumPy 1.20; for more details and guidance: https://numpy.org/devdocs/release/1.20.0-notes.html#deprecations\n",
            " 29%|██▉       | 52/180 [00:09<00:21,  6.09it/s]/usr/local/lib/python3.7/dist-packages/ipykernel_launcher.py:28: DeprecationWarning: `np.int` is a deprecated alias for the builtin `int`. To silence this warning, use `int` by itself. Doing this will not modify any behavior and is safe. When replacing `np.int`, you may wish to use e.g. `np.int64` or `np.int32` to specify the precision. If you wish to review your current use, check the release note link for additional information.\n",
            "Deprecated in NumPy 1.20; for more details and guidance: https://numpy.org/devdocs/release/1.20.0-notes.html#deprecations\n",
            " 29%|██▉       | 53/180 [00:09<00:20,  6.14it/s]/usr/local/lib/python3.7/dist-packages/ipykernel_launcher.py:28: DeprecationWarning: `np.int` is a deprecated alias for the builtin `int`. To silence this warning, use `int` by itself. Doing this will not modify any behavior and is safe. When replacing `np.int`, you may wish to use e.g. `np.int64` or `np.int32` to specify the precision. If you wish to review your current use, check the release note link for additional information.\n",
            "Deprecated in NumPy 1.20; for more details and guidance: https://numpy.org/devdocs/release/1.20.0-notes.html#deprecations\n",
            " 30%|███       | 54/180 [00:09<00:20,  6.08it/s]/usr/local/lib/python3.7/dist-packages/ipykernel_launcher.py:28: DeprecationWarning: `np.int` is a deprecated alias for the builtin `int`. To silence this warning, use `int` by itself. Doing this will not modify any behavior and is safe. When replacing `np.int`, you may wish to use e.g. `np.int64` or `np.int32` to specify the precision. If you wish to review your current use, check the release note link for additional information.\n",
            "Deprecated in NumPy 1.20; for more details and guidance: https://numpy.org/devdocs/release/1.20.0-notes.html#deprecations\n",
            " 31%|███       | 55/180 [00:10<00:20,  6.09it/s]/usr/local/lib/python3.7/dist-packages/ipykernel_launcher.py:28: DeprecationWarning: `np.int` is a deprecated alias for the builtin `int`. To silence this warning, use `int` by itself. Doing this will not modify any behavior and is safe. When replacing `np.int`, you may wish to use e.g. `np.int64` or `np.int32` to specify the precision. If you wish to review your current use, check the release note link for additional information.\n",
            "Deprecated in NumPy 1.20; for more details and guidance: https://numpy.org/devdocs/release/1.20.0-notes.html#deprecations\n",
            " 31%|███       | 56/180 [00:10<00:20,  6.11it/s]/usr/local/lib/python3.7/dist-packages/ipykernel_launcher.py:28: DeprecationWarning: `np.int` is a deprecated alias for the builtin `int`. To silence this warning, use `int` by itself. Doing this will not modify any behavior and is safe. When replacing `np.int`, you may wish to use e.g. `np.int64` or `np.int32` to specify the precision. If you wish to review your current use, check the release note link for additional information.\n",
            "Deprecated in NumPy 1.20; for more details and guidance: https://numpy.org/devdocs/release/1.20.0-notes.html#deprecations\n",
            " 32%|███▏      | 57/180 [00:10<00:19,  6.17it/s]/usr/local/lib/python3.7/dist-packages/ipykernel_launcher.py:28: DeprecationWarning: `np.int` is a deprecated alias for the builtin `int`. To silence this warning, use `int` by itself. Doing this will not modify any behavior and is safe. When replacing `np.int`, you may wish to use e.g. `np.int64` or `np.int32` to specify the precision. If you wish to review your current use, check the release note link for additional information.\n",
            "Deprecated in NumPy 1.20; for more details and guidance: https://numpy.org/devdocs/release/1.20.0-notes.html#deprecations\n",
            " 32%|███▏      | 58/180 [00:10<00:19,  6.14it/s]/usr/local/lib/python3.7/dist-packages/ipykernel_launcher.py:28: DeprecationWarning: `np.int` is a deprecated alias for the builtin `int`. To silence this warning, use `int` by itself. Doing this will not modify any behavior and is safe. When replacing `np.int`, you may wish to use e.g. `np.int64` or `np.int32` to specify the precision. If you wish to review your current use, check the release note link for additional information.\n",
            "Deprecated in NumPy 1.20; for more details and guidance: https://numpy.org/devdocs/release/1.20.0-notes.html#deprecations\n",
            " 33%|███▎      | 59/180 [00:10<00:19,  6.07it/s]/usr/local/lib/python3.7/dist-packages/ipykernel_launcher.py:28: DeprecationWarning: `np.int` is a deprecated alias for the builtin `int`. To silence this warning, use `int` by itself. Doing this will not modify any behavior and is safe. When replacing `np.int`, you may wish to use e.g. `np.int64` or `np.int32` to specify the precision. If you wish to review your current use, check the release note link for additional information.\n",
            "Deprecated in NumPy 1.20; for more details and guidance: https://numpy.org/devdocs/release/1.20.0-notes.html#deprecations\n",
            " 33%|███▎      | 60/180 [00:10<00:19,  6.09it/s]/usr/local/lib/python3.7/dist-packages/ipykernel_launcher.py:28: DeprecationWarning: `np.int` is a deprecated alias for the builtin `int`. To silence this warning, use `int` by itself. Doing this will not modify any behavior and is safe. When replacing `np.int`, you may wish to use e.g. `np.int64` or `np.int32` to specify the precision. If you wish to review your current use, check the release note link for additional information.\n",
            "Deprecated in NumPy 1.20; for more details and guidance: https://numpy.org/devdocs/release/1.20.0-notes.html#deprecations\n",
            " 34%|███▍      | 61/180 [00:11<00:19,  6.09it/s]/usr/local/lib/python3.7/dist-packages/ipykernel_launcher.py:28: DeprecationWarning: `np.int` is a deprecated alias for the builtin `int`. To silence this warning, use `int` by itself. Doing this will not modify any behavior and is safe. When replacing `np.int`, you may wish to use e.g. `np.int64` or `np.int32` to specify the precision. If you wish to review your current use, check the release note link for additional information.\n",
            "Deprecated in NumPy 1.20; for more details and guidance: https://numpy.org/devdocs/release/1.20.0-notes.html#deprecations\n",
            " 34%|███▍      | 62/180 [00:11<00:19,  6.03it/s]/usr/local/lib/python3.7/dist-packages/ipykernel_launcher.py:28: DeprecationWarning: `np.int` is a deprecated alias for the builtin `int`. To silence this warning, use `int` by itself. Doing this will not modify any behavior and is safe. When replacing `np.int`, you may wish to use e.g. `np.int64` or `np.int32` to specify the precision. If you wish to review your current use, check the release note link for additional information.\n",
            "Deprecated in NumPy 1.20; for more details and guidance: https://numpy.org/devdocs/release/1.20.0-notes.html#deprecations\n",
            " 35%|███▌      | 63/180 [00:11<00:19,  6.08it/s]/usr/local/lib/python3.7/dist-packages/ipykernel_launcher.py:28: DeprecationWarning: `np.int` is a deprecated alias for the builtin `int`. To silence this warning, use `int` by itself. Doing this will not modify any behavior and is safe. When replacing `np.int`, you may wish to use e.g. `np.int64` or `np.int32` to specify the precision. If you wish to review your current use, check the release note link for additional information.\n",
            "Deprecated in NumPy 1.20; for more details and guidance: https://numpy.org/devdocs/release/1.20.0-notes.html#deprecations\n",
            " 36%|███▌      | 64/180 [00:11<00:25,  4.59it/s]/usr/local/lib/python3.7/dist-packages/ipykernel_launcher.py:28: DeprecationWarning: `np.int` is a deprecated alias for the builtin `int`. To silence this warning, use `int` by itself. Doing this will not modify any behavior and is safe. When replacing `np.int`, you may wish to use e.g. `np.int64` or `np.int32` to specify the precision. If you wish to review your current use, check the release note link for additional information.\n",
            "Deprecated in NumPy 1.20; for more details and guidance: https://numpy.org/devdocs/release/1.20.0-notes.html#deprecations\n",
            " 36%|███▌      | 65/180 [00:11<00:23,  4.93it/s]/usr/local/lib/python3.7/dist-packages/ipykernel_launcher.py:28: DeprecationWarning: `np.int` is a deprecated alias for the builtin `int`. To silence this warning, use `int` by itself. Doing this will not modify any behavior and is safe. When replacing `np.int`, you may wish to use e.g. `np.int64` or `np.int32` to specify the precision. If you wish to review your current use, check the release note link for additional information.\n",
            "Deprecated in NumPy 1.20; for more details and guidance: https://numpy.org/devdocs/release/1.20.0-notes.html#deprecations\n",
            " 37%|███▋      | 66/180 [00:12<00:21,  5.26it/s]/usr/local/lib/python3.7/dist-packages/ipykernel_launcher.py:28: DeprecationWarning: `np.int` is a deprecated alias for the builtin `int`. To silence this warning, use `int` by itself. Doing this will not modify any behavior and is safe. When replacing `np.int`, you may wish to use e.g. `np.int64` or `np.int32` to specify the precision. If you wish to review your current use, check the release note link for additional information.\n",
            "Deprecated in NumPy 1.20; for more details and guidance: https://numpy.org/devdocs/release/1.20.0-notes.html#deprecations\n",
            " 37%|███▋      | 67/180 [00:12<00:20,  5.45it/s]/usr/local/lib/python3.7/dist-packages/ipykernel_launcher.py:28: DeprecationWarning: `np.int` is a deprecated alias for the builtin `int`. To silence this warning, use `int` by itself. Doing this will not modify any behavior and is safe. When replacing `np.int`, you may wish to use e.g. `np.int64` or `np.int32` to specify the precision. If you wish to review your current use, check the release note link for additional information.\n",
            "Deprecated in NumPy 1.20; for more details and guidance: https://numpy.org/devdocs/release/1.20.0-notes.html#deprecations\n",
            " 38%|███▊      | 68/180 [00:12<00:20,  5.57it/s]/usr/local/lib/python3.7/dist-packages/ipykernel_launcher.py:28: DeprecationWarning: `np.int` is a deprecated alias for the builtin `int`. To silence this warning, use `int` by itself. Doing this will not modify any behavior and is safe. When replacing `np.int`, you may wish to use e.g. `np.int64` or `np.int32` to specify the precision. If you wish to review your current use, check the release note link for additional information.\n",
            "Deprecated in NumPy 1.20; for more details and guidance: https://numpy.org/devdocs/release/1.20.0-notes.html#deprecations\n",
            " 38%|███▊      | 69/180 [00:12<00:19,  5.69it/s]/usr/local/lib/python3.7/dist-packages/ipykernel_launcher.py:28: DeprecationWarning: `np.int` is a deprecated alias for the builtin `int`. To silence this warning, use `int` by itself. Doing this will not modify any behavior and is safe. When replacing `np.int`, you may wish to use e.g. `np.int64` or `np.int32` to specify the precision. If you wish to review your current use, check the release note link for additional information.\n",
            "Deprecated in NumPy 1.20; for more details and guidance: https://numpy.org/devdocs/release/1.20.0-notes.html#deprecations\n",
            " 39%|███▉      | 70/180 [00:12<00:19,  5.77it/s]/usr/local/lib/python3.7/dist-packages/ipykernel_launcher.py:28: DeprecationWarning: `np.int` is a deprecated alias for the builtin `int`. To silence this warning, use `int` by itself. Doing this will not modify any behavior and is safe. When replacing `np.int`, you may wish to use e.g. `np.int64` or `np.int32` to specify the precision. If you wish to review your current use, check the release note link for additional information.\n",
            "Deprecated in NumPy 1.20; for more details and guidance: https://numpy.org/devdocs/release/1.20.0-notes.html#deprecations\n",
            " 39%|███▉      | 71/180 [00:12<00:18,  5.84it/s]/usr/local/lib/python3.7/dist-packages/ipykernel_launcher.py:28: DeprecationWarning: `np.int` is a deprecated alias for the builtin `int`. To silence this warning, use `int` by itself. Doing this will not modify any behavior and is safe. When replacing `np.int`, you may wish to use e.g. `np.int64` or `np.int32` to specify the precision. If you wish to review your current use, check the release note link for additional information.\n",
            "Deprecated in NumPy 1.20; for more details and guidance: https://numpy.org/devdocs/release/1.20.0-notes.html#deprecations\n",
            " 40%|████      | 72/180 [00:13<00:18,  5.94it/s]/usr/local/lib/python3.7/dist-packages/ipykernel_launcher.py:28: DeprecationWarning: `np.int` is a deprecated alias for the builtin `int`. To silence this warning, use `int` by itself. Doing this will not modify any behavior and is safe. When replacing `np.int`, you may wish to use e.g. `np.int64` or `np.int32` to specify the precision. If you wish to review your current use, check the release note link for additional information.\n",
            "Deprecated in NumPy 1.20; for more details and guidance: https://numpy.org/devdocs/release/1.20.0-notes.html#deprecations\n",
            " 41%|████      | 73/180 [00:13<00:17,  5.97it/s]/usr/local/lib/python3.7/dist-packages/ipykernel_launcher.py:28: DeprecationWarning: `np.int` is a deprecated alias for the builtin `int`. To silence this warning, use `int` by itself. Doing this will not modify any behavior and is safe. When replacing `np.int`, you may wish to use e.g. `np.int64` or `np.int32` to specify the precision. If you wish to review your current use, check the release note link for additional information.\n",
            "Deprecated in NumPy 1.20; for more details and guidance: https://numpy.org/devdocs/release/1.20.0-notes.html#deprecations\n",
            " 41%|████      | 74/180 [00:13<00:17,  5.94it/s]/usr/local/lib/python3.7/dist-packages/ipykernel_launcher.py:28: DeprecationWarning: `np.int` is a deprecated alias for the builtin `int`. To silence this warning, use `int` by itself. Doing this will not modify any behavior and is safe. When replacing `np.int`, you may wish to use e.g. `np.int64` or `np.int32` to specify the precision. If you wish to review your current use, check the release note link for additional information.\n",
            "Deprecated in NumPy 1.20; for more details and guidance: https://numpy.org/devdocs/release/1.20.0-notes.html#deprecations\n",
            " 42%|████▏     | 75/180 [00:13<00:17,  6.03it/s]/usr/local/lib/python3.7/dist-packages/ipykernel_launcher.py:28: DeprecationWarning: `np.int` is a deprecated alias for the builtin `int`. To silence this warning, use `int` by itself. Doing this will not modify any behavior and is safe. When replacing `np.int`, you may wish to use e.g. `np.int64` or `np.int32` to specify the precision. If you wish to review your current use, check the release note link for additional information.\n",
            "Deprecated in NumPy 1.20; for more details and guidance: https://numpy.org/devdocs/release/1.20.0-notes.html#deprecations\n",
            " 42%|████▏     | 76/180 [00:13<00:17,  5.98it/s]/usr/local/lib/python3.7/dist-packages/ipykernel_launcher.py:28: DeprecationWarning: `np.int` is a deprecated alias for the builtin `int`. To silence this warning, use `int` by itself. Doing this will not modify any behavior and is safe. When replacing `np.int`, you may wish to use e.g. `np.int64` or `np.int32` to specify the precision. If you wish to review your current use, check the release note link for additional information.\n",
            "Deprecated in NumPy 1.20; for more details and guidance: https://numpy.org/devdocs/release/1.20.0-notes.html#deprecations\n",
            " 43%|████▎     | 77/180 [00:13<00:17,  5.93it/s]/usr/local/lib/python3.7/dist-packages/ipykernel_launcher.py:28: DeprecationWarning: `np.int` is a deprecated alias for the builtin `int`. To silence this warning, use `int` by itself. Doing this will not modify any behavior and is safe. When replacing `np.int`, you may wish to use e.g. `np.int64` or `np.int32` to specify the precision. If you wish to review your current use, check the release note link for additional information.\n",
            "Deprecated in NumPy 1.20; for more details and guidance: https://numpy.org/devdocs/release/1.20.0-notes.html#deprecations\n",
            " 43%|████▎     | 78/180 [00:14<00:17,  5.99it/s]/usr/local/lib/python3.7/dist-packages/ipykernel_launcher.py:28: DeprecationWarning: `np.int` is a deprecated alias for the builtin `int`. To silence this warning, use `int` by itself. Doing this will not modify any behavior and is safe. When replacing `np.int`, you may wish to use e.g. `np.int64` or `np.int32` to specify the precision. If you wish to review your current use, check the release note link for additional information.\n",
            "Deprecated in NumPy 1.20; for more details and guidance: https://numpy.org/devdocs/release/1.20.0-notes.html#deprecations\n",
            " 44%|████▍     | 79/180 [00:14<00:16,  6.06it/s]/usr/local/lib/python3.7/dist-packages/ipykernel_launcher.py:28: DeprecationWarning: `np.int` is a deprecated alias for the builtin `int`. To silence this warning, use `int` by itself. Doing this will not modify any behavior and is safe. When replacing `np.int`, you may wish to use e.g. `np.int64` or `np.int32` to specify the precision. If you wish to review your current use, check the release note link for additional information.\n",
            "Deprecated in NumPy 1.20; for more details and guidance: https://numpy.org/devdocs/release/1.20.0-notes.html#deprecations\n",
            " 44%|████▍     | 80/180 [00:14<00:16,  6.06it/s]/usr/local/lib/python3.7/dist-packages/ipykernel_launcher.py:28: DeprecationWarning: `np.int` is a deprecated alias for the builtin `int`. To silence this warning, use `int` by itself. Doing this will not modify any behavior and is safe. When replacing `np.int`, you may wish to use e.g. `np.int64` or `np.int32` to specify the precision. If you wish to review your current use, check the release note link for additional information.\n",
            "Deprecated in NumPy 1.20; for more details and guidance: https://numpy.org/devdocs/release/1.20.0-notes.html#deprecations\n",
            " 45%|████▌     | 81/180 [00:14<00:16,  6.08it/s]/usr/local/lib/python3.7/dist-packages/ipykernel_launcher.py:28: DeprecationWarning: `np.int` is a deprecated alias for the builtin `int`. To silence this warning, use `int` by itself. Doing this will not modify any behavior and is safe. When replacing `np.int`, you may wish to use e.g. `np.int64` or `np.int32` to specify the precision. If you wish to review your current use, check the release note link for additional information.\n",
            "Deprecated in NumPy 1.20; for more details and guidance: https://numpy.org/devdocs/release/1.20.0-notes.html#deprecations\n",
            " 46%|████▌     | 82/180 [00:14<00:16,  6.06it/s]/usr/local/lib/python3.7/dist-packages/ipykernel_launcher.py:28: DeprecationWarning: `np.int` is a deprecated alias for the builtin `int`. To silence this warning, use `int` by itself. Doing this will not modify any behavior and is safe. When replacing `np.int`, you may wish to use e.g. `np.int64` or `np.int32` to specify the precision. If you wish to review your current use, check the release note link for additional information.\n",
            "Deprecated in NumPy 1.20; for more details and guidance: https://numpy.org/devdocs/release/1.20.0-notes.html#deprecations\n",
            " 46%|████▌     | 83/180 [00:14<00:15,  6.08it/s]/usr/local/lib/python3.7/dist-packages/ipykernel_launcher.py:28: DeprecationWarning: `np.int` is a deprecated alias for the builtin `int`. To silence this warning, use `int` by itself. Doing this will not modify any behavior and is safe. When replacing `np.int`, you may wish to use e.g. `np.int64` or `np.int32` to specify the precision. If you wish to review your current use, check the release note link for additional information.\n",
            "Deprecated in NumPy 1.20; for more details and guidance: https://numpy.org/devdocs/release/1.20.0-notes.html#deprecations\n",
            " 47%|████▋     | 84/180 [00:15<00:15,  6.03it/s]/usr/local/lib/python3.7/dist-packages/ipykernel_launcher.py:28: DeprecationWarning: `np.int` is a deprecated alias for the builtin `int`. To silence this warning, use `int` by itself. Doing this will not modify any behavior and is safe. When replacing `np.int`, you may wish to use e.g. `np.int64` or `np.int32` to specify the precision. If you wish to review your current use, check the release note link for additional information.\n",
            "Deprecated in NumPy 1.20; for more details and guidance: https://numpy.org/devdocs/release/1.20.0-notes.html#deprecations\n",
            " 47%|████▋     | 85/180 [00:15<00:15,  6.03it/s]/usr/local/lib/python3.7/dist-packages/ipykernel_launcher.py:28: DeprecationWarning: `np.int` is a deprecated alias for the builtin `int`. To silence this warning, use `int` by itself. Doing this will not modify any behavior and is safe. When replacing `np.int`, you may wish to use e.g. `np.int64` or `np.int32` to specify the precision. If you wish to review your current use, check the release note link for additional information.\n",
            "Deprecated in NumPy 1.20; for more details and guidance: https://numpy.org/devdocs/release/1.20.0-notes.html#deprecations\n",
            " 48%|████▊     | 86/180 [00:15<00:15,  5.93it/s]/usr/local/lib/python3.7/dist-packages/ipykernel_launcher.py:28: DeprecationWarning: `np.int` is a deprecated alias for the builtin `int`. To silence this warning, use `int` by itself. Doing this will not modify any behavior and is safe. When replacing `np.int`, you may wish to use e.g. `np.int64` or `np.int32` to specify the precision. If you wish to review your current use, check the release note link for additional information.\n",
            "Deprecated in NumPy 1.20; for more details and guidance: https://numpy.org/devdocs/release/1.20.0-notes.html#deprecations\n",
            " 48%|████▊     | 87/180 [00:15<00:15,  5.94it/s]/usr/local/lib/python3.7/dist-packages/ipykernel_launcher.py:28: DeprecationWarning: `np.int` is a deprecated alias for the builtin `int`. To silence this warning, use `int` by itself. Doing this will not modify any behavior and is safe. When replacing `np.int`, you may wish to use e.g. `np.int64` or `np.int32` to specify the precision. If you wish to review your current use, check the release note link for additional information.\n",
            "Deprecated in NumPy 1.20; for more details and guidance: https://numpy.org/devdocs/release/1.20.0-notes.html#deprecations\n",
            " 49%|████▉     | 88/180 [00:15<00:15,  6.00it/s]/usr/local/lib/python3.7/dist-packages/ipykernel_launcher.py:28: DeprecationWarning: `np.int` is a deprecated alias for the builtin `int`. To silence this warning, use `int` by itself. Doing this will not modify any behavior and is safe. When replacing `np.int`, you may wish to use e.g. `np.int64` or `np.int32` to specify the precision. If you wish to review your current use, check the release note link for additional information.\n",
            "Deprecated in NumPy 1.20; for more details and guidance: https://numpy.org/devdocs/release/1.20.0-notes.html#deprecations\n",
            " 49%|████▉     | 89/180 [00:15<00:15,  6.01it/s]/usr/local/lib/python3.7/dist-packages/ipykernel_launcher.py:28: DeprecationWarning: `np.int` is a deprecated alias for the builtin `int`. To silence this warning, use `int` by itself. Doing this will not modify any behavior and is safe. When replacing `np.int`, you may wish to use e.g. `np.int64` or `np.int32` to specify the precision. If you wish to review your current use, check the release note link for additional information.\n",
            "Deprecated in NumPy 1.20; for more details and guidance: https://numpy.org/devdocs/release/1.20.0-notes.html#deprecations\n",
            " 50%|█████     | 90/180 [00:16<00:14,  6.07it/s]/usr/local/lib/python3.7/dist-packages/ipykernel_launcher.py:28: DeprecationWarning: `np.int` is a deprecated alias for the builtin `int`. To silence this warning, use `int` by itself. Doing this will not modify any behavior and is safe. When replacing `np.int`, you may wish to use e.g. `np.int64` or `np.int32` to specify the precision. If you wish to review your current use, check the release note link for additional information.\n",
            "Deprecated in NumPy 1.20; for more details and guidance: https://numpy.org/devdocs/release/1.20.0-notes.html#deprecations\n",
            " 51%|█████     | 91/180 [00:16<00:14,  6.11it/s]/usr/local/lib/python3.7/dist-packages/ipykernel_launcher.py:28: DeprecationWarning: `np.int` is a deprecated alias for the builtin `int`. To silence this warning, use `int` by itself. Doing this will not modify any behavior and is safe. When replacing `np.int`, you may wish to use e.g. `np.int64` or `np.int32` to specify the precision. If you wish to review your current use, check the release note link for additional information.\n",
            "Deprecated in NumPy 1.20; for more details and guidance: https://numpy.org/devdocs/release/1.20.0-notes.html#deprecations\n",
            " 51%|█████     | 92/180 [00:16<00:14,  6.10it/s]/usr/local/lib/python3.7/dist-packages/ipykernel_launcher.py:28: DeprecationWarning: `np.int` is a deprecated alias for the builtin `int`. To silence this warning, use `int` by itself. Doing this will not modify any behavior and is safe. When replacing `np.int`, you may wish to use e.g. `np.int64` or `np.int32` to specify the precision. If you wish to review your current use, check the release note link for additional information.\n",
            "Deprecated in NumPy 1.20; for more details and guidance: https://numpy.org/devdocs/release/1.20.0-notes.html#deprecations\n",
            " 52%|█████▏    | 93/180 [00:16<00:14,  6.08it/s]/usr/local/lib/python3.7/dist-packages/ipykernel_launcher.py:28: DeprecationWarning: `np.int` is a deprecated alias for the builtin `int`. To silence this warning, use `int` by itself. Doing this will not modify any behavior and is safe. When replacing `np.int`, you may wish to use e.g. `np.int64` or `np.int32` to specify the precision. If you wish to review your current use, check the release note link for additional information.\n",
            "Deprecated in NumPy 1.20; for more details and guidance: https://numpy.org/devdocs/release/1.20.0-notes.html#deprecations\n",
            " 52%|█████▏    | 94/180 [00:16<00:14,  6.03it/s]/usr/local/lib/python3.7/dist-packages/ipykernel_launcher.py:28: DeprecationWarning: `np.int` is a deprecated alias for the builtin `int`. To silence this warning, use `int` by itself. Doing this will not modify any behavior and is safe. When replacing `np.int`, you may wish to use e.g. `np.int64` or `np.int32` to specify the precision. If you wish to review your current use, check the release note link for additional information.\n",
            "Deprecated in NumPy 1.20; for more details and guidance: https://numpy.org/devdocs/release/1.20.0-notes.html#deprecations\n",
            " 53%|█████▎    | 95/180 [00:16<00:14,  5.89it/s]/usr/local/lib/python3.7/dist-packages/ipykernel_launcher.py:28: DeprecationWarning: `np.int` is a deprecated alias for the builtin `int`. To silence this warning, use `int` by itself. Doing this will not modify any behavior and is safe. When replacing `np.int`, you may wish to use e.g. `np.int64` or `np.int32` to specify the precision. If you wish to review your current use, check the release note link for additional information.\n",
            "Deprecated in NumPy 1.20; for more details and guidance: https://numpy.org/devdocs/release/1.20.0-notes.html#deprecations\n",
            " 53%|█████▎    | 96/180 [00:17<00:14,  5.89it/s]/usr/local/lib/python3.7/dist-packages/ipykernel_launcher.py:28: DeprecationWarning: `np.int` is a deprecated alias for the builtin `int`. To silence this warning, use `int` by itself. Doing this will not modify any behavior and is safe. When replacing `np.int`, you may wish to use e.g. `np.int64` or `np.int32` to specify the precision. If you wish to review your current use, check the release note link for additional information.\n",
            "Deprecated in NumPy 1.20; for more details and guidance: https://numpy.org/devdocs/release/1.20.0-notes.html#deprecations\n",
            " 54%|█████▍    | 97/180 [00:17<00:13,  5.93it/s]/usr/local/lib/python3.7/dist-packages/ipykernel_launcher.py:28: DeprecationWarning: `np.int` is a deprecated alias for the builtin `int`. To silence this warning, use `int` by itself. Doing this will not modify any behavior and is safe. When replacing `np.int`, you may wish to use e.g. `np.int64` or `np.int32` to specify the precision. If you wish to review your current use, check the release note link for additional information.\n",
            "Deprecated in NumPy 1.20; for more details and guidance: https://numpy.org/devdocs/release/1.20.0-notes.html#deprecations\n",
            " 54%|█████▍    | 98/180 [00:17<00:13,  5.96it/s]/usr/local/lib/python3.7/dist-packages/ipykernel_launcher.py:28: DeprecationWarning: `np.int` is a deprecated alias for the builtin `int`. To silence this warning, use `int` by itself. Doing this will not modify any behavior and is safe. When replacing `np.int`, you may wish to use e.g. `np.int64` or `np.int32` to specify the precision. If you wish to review your current use, check the release note link for additional information.\n",
            "Deprecated in NumPy 1.20; for more details and guidance: https://numpy.org/devdocs/release/1.20.0-notes.html#deprecations\n",
            " 55%|█████▌    | 99/180 [00:17<00:13,  6.04it/s]/usr/local/lib/python3.7/dist-packages/ipykernel_launcher.py:28: DeprecationWarning: `np.int` is a deprecated alias for the builtin `int`. To silence this warning, use `int` by itself. Doing this will not modify any behavior and is safe. When replacing `np.int`, you may wish to use e.g. `np.int64` or `np.int32` to specify the precision. If you wish to review your current use, check the release note link for additional information.\n",
            "Deprecated in NumPy 1.20; for more details and guidance: https://numpy.org/devdocs/release/1.20.0-notes.html#deprecations\n",
            " 56%|█████▌    | 100/180 [00:17<00:13,  6.05it/s]/usr/local/lib/python3.7/dist-packages/ipykernel_launcher.py:28: DeprecationWarning: `np.int` is a deprecated alias for the builtin `int`. To silence this warning, use `int` by itself. Doing this will not modify any behavior and is safe. When replacing `np.int`, you may wish to use e.g. `np.int64` or `np.int32` to specify the precision. If you wish to review your current use, check the release note link for additional information.\n",
            "Deprecated in NumPy 1.20; for more details and guidance: https://numpy.org/devdocs/release/1.20.0-notes.html#deprecations\n",
            " 56%|█████▌    | 101/180 [00:17<00:12,  6.12it/s]/usr/local/lib/python3.7/dist-packages/ipykernel_launcher.py:28: DeprecationWarning: `np.int` is a deprecated alias for the builtin `int`. To silence this warning, use `int` by itself. Doing this will not modify any behavior and is safe. When replacing `np.int`, you may wish to use e.g. `np.int64` or `np.int32` to specify the precision. If you wish to review your current use, check the release note link for additional information.\n",
            "Deprecated in NumPy 1.20; for more details and guidance: https://numpy.org/devdocs/release/1.20.0-notes.html#deprecations\n",
            " 57%|█████▋    | 102/180 [00:18<00:12,  6.08it/s]/usr/local/lib/python3.7/dist-packages/ipykernel_launcher.py:28: DeprecationWarning: `np.int` is a deprecated alias for the builtin `int`. To silence this warning, use `int` by itself. Doing this will not modify any behavior and is safe. When replacing `np.int`, you may wish to use e.g. `np.int64` or `np.int32` to specify the precision. If you wish to review your current use, check the release note link for additional information.\n",
            "Deprecated in NumPy 1.20; for more details and guidance: https://numpy.org/devdocs/release/1.20.0-notes.html#deprecations\n",
            " 57%|█████▋    | 103/180 [00:18<00:13,  5.89it/s]/usr/local/lib/python3.7/dist-packages/ipykernel_launcher.py:28: DeprecationWarning: `np.int` is a deprecated alias for the builtin `int`. To silence this warning, use `int` by itself. Doing this will not modify any behavior and is safe. When replacing `np.int`, you may wish to use e.g. `np.int64` or `np.int32` to specify the precision. If you wish to review your current use, check the release note link for additional information.\n",
            "Deprecated in NumPy 1.20; for more details and guidance: https://numpy.org/devdocs/release/1.20.0-notes.html#deprecations\n",
            " 58%|█████▊    | 104/180 [00:18<00:13,  5.81it/s]/usr/local/lib/python3.7/dist-packages/ipykernel_launcher.py:28: DeprecationWarning: `np.int` is a deprecated alias for the builtin `int`. To silence this warning, use `int` by itself. Doing this will not modify any behavior and is safe. When replacing `np.int`, you may wish to use e.g. `np.int64` or `np.int32` to specify the precision. If you wish to review your current use, check the release note link for additional information.\n",
            "Deprecated in NumPy 1.20; for more details and guidance: https://numpy.org/devdocs/release/1.20.0-notes.html#deprecations\n",
            " 58%|█████▊    | 105/180 [00:18<00:12,  5.86it/s]/usr/local/lib/python3.7/dist-packages/ipykernel_launcher.py:28: DeprecationWarning: `np.int` is a deprecated alias for the builtin `int`. To silence this warning, use `int` by itself. Doing this will not modify any behavior and is safe. When replacing `np.int`, you may wish to use e.g. `np.int64` or `np.int32` to specify the precision. If you wish to review your current use, check the release note link for additional information.\n",
            "Deprecated in NumPy 1.20; for more details and guidance: https://numpy.org/devdocs/release/1.20.0-notes.html#deprecations\n",
            " 59%|█████▉    | 106/180 [00:18<00:12,  5.96it/s]/usr/local/lib/python3.7/dist-packages/ipykernel_launcher.py:28: DeprecationWarning: `np.int` is a deprecated alias for the builtin `int`. To silence this warning, use `int` by itself. Doing this will not modify any behavior and is safe. When replacing `np.int`, you may wish to use e.g. `np.int64` or `np.int32` to specify the precision. If you wish to review your current use, check the release note link for additional information.\n",
            "Deprecated in NumPy 1.20; for more details and guidance: https://numpy.org/devdocs/release/1.20.0-notes.html#deprecations\n",
            " 59%|█████▉    | 107/180 [00:18<00:12,  6.01it/s]/usr/local/lib/python3.7/dist-packages/ipykernel_launcher.py:28: DeprecationWarning: `np.int` is a deprecated alias for the builtin `int`. To silence this warning, use `int` by itself. Doing this will not modify any behavior and is safe. When replacing `np.int`, you may wish to use e.g. `np.int64` or `np.int32` to specify the precision. If you wish to review your current use, check the release note link for additional information.\n",
            "Deprecated in NumPy 1.20; for more details and guidance: https://numpy.org/devdocs/release/1.20.0-notes.html#deprecations\n",
            " 60%|██████    | 108/180 [00:19<00:11,  6.01it/s]/usr/local/lib/python3.7/dist-packages/ipykernel_launcher.py:28: DeprecationWarning: `np.int` is a deprecated alias for the builtin `int`. To silence this warning, use `int` by itself. Doing this will not modify any behavior and is safe. When replacing `np.int`, you may wish to use e.g. `np.int64` or `np.int32` to specify the precision. If you wish to review your current use, check the release note link for additional information.\n",
            "Deprecated in NumPy 1.20; for more details and guidance: https://numpy.org/devdocs/release/1.20.0-notes.html#deprecations\n",
            " 61%|██████    | 109/180 [00:19<00:11,  6.03it/s]/usr/local/lib/python3.7/dist-packages/ipykernel_launcher.py:28: DeprecationWarning: `np.int` is a deprecated alias for the builtin `int`. To silence this warning, use `int` by itself. Doing this will not modify any behavior and is safe. When replacing `np.int`, you may wish to use e.g. `np.int64` or `np.int32` to specify the precision. If you wish to review your current use, check the release note link for additional information.\n",
            "Deprecated in NumPy 1.20; for more details and guidance: https://numpy.org/devdocs/release/1.20.0-notes.html#deprecations\n",
            " 61%|██████    | 110/180 [00:19<00:11,  6.05it/s]/usr/local/lib/python3.7/dist-packages/ipykernel_launcher.py:28: DeprecationWarning: `np.int` is a deprecated alias for the builtin `int`. To silence this warning, use `int` by itself. Doing this will not modify any behavior and is safe. When replacing `np.int`, you may wish to use e.g. `np.int64` or `np.int32` to specify the precision. If you wish to review your current use, check the release note link for additional information.\n",
            "Deprecated in NumPy 1.20; for more details and guidance: https://numpy.org/devdocs/release/1.20.0-notes.html#deprecations\n",
            " 62%|██████▏   | 111/180 [00:19<00:11,  6.04it/s]/usr/local/lib/python3.7/dist-packages/ipykernel_launcher.py:28: DeprecationWarning: `np.int` is a deprecated alias for the builtin `int`. To silence this warning, use `int` by itself. Doing this will not modify any behavior and is safe. When replacing `np.int`, you may wish to use e.g. `np.int64` or `np.int32` to specify the precision. If you wish to review your current use, check the release note link for additional information.\n",
            "Deprecated in NumPy 1.20; for more details and guidance: https://numpy.org/devdocs/release/1.20.0-notes.html#deprecations\n",
            " 62%|██████▏   | 112/180 [00:19<00:11,  6.01it/s]/usr/local/lib/python3.7/dist-packages/ipykernel_launcher.py:28: DeprecationWarning: `np.int` is a deprecated alias for the builtin `int`. To silence this warning, use `int` by itself. Doing this will not modify any behavior and is safe. When replacing `np.int`, you may wish to use e.g. `np.int64` or `np.int32` to specify the precision. If you wish to review your current use, check the release note link for additional information.\n",
            "Deprecated in NumPy 1.20; for more details and guidance: https://numpy.org/devdocs/release/1.20.0-notes.html#deprecations\n",
            " 63%|██████▎   | 113/180 [00:19<00:11,  5.88it/s]/usr/local/lib/python3.7/dist-packages/ipykernel_launcher.py:28: DeprecationWarning: `np.int` is a deprecated alias for the builtin `int`. To silence this warning, use `int` by itself. Doing this will not modify any behavior and is safe. When replacing `np.int`, you may wish to use e.g. `np.int64` or `np.int32` to specify the precision. If you wish to review your current use, check the release note link for additional information.\n",
            "Deprecated in NumPy 1.20; for more details and guidance: https://numpy.org/devdocs/release/1.20.0-notes.html#deprecations\n",
            " 63%|██████▎   | 114/180 [00:20<00:11,  5.85it/s]/usr/local/lib/python3.7/dist-packages/ipykernel_launcher.py:28: DeprecationWarning: `np.int` is a deprecated alias for the builtin `int`. To silence this warning, use `int` by itself. Doing this will not modify any behavior and is safe. When replacing `np.int`, you may wish to use e.g. `np.int64` or `np.int32` to specify the precision. If you wish to review your current use, check the release note link for additional information.\n",
            "Deprecated in NumPy 1.20; for more details and guidance: https://numpy.org/devdocs/release/1.20.0-notes.html#deprecations\n",
            " 64%|██████▍   | 115/180 [00:20<00:10,  5.92it/s]/usr/local/lib/python3.7/dist-packages/ipykernel_launcher.py:28: DeprecationWarning: `np.int` is a deprecated alias for the builtin `int`. To silence this warning, use `int` by itself. Doing this will not modify any behavior and is safe. When replacing `np.int`, you may wish to use e.g. `np.int64` or `np.int32` to specify the precision. If you wish to review your current use, check the release note link for additional information.\n",
            "Deprecated in NumPy 1.20; for more details and guidance: https://numpy.org/devdocs/release/1.20.0-notes.html#deprecations\n",
            " 64%|██████▍   | 116/180 [00:20<00:10,  5.93it/s]/usr/local/lib/python3.7/dist-packages/ipykernel_launcher.py:28: DeprecationWarning: `np.int` is a deprecated alias for the builtin `int`. To silence this warning, use `int` by itself. Doing this will not modify any behavior and is safe. When replacing `np.int`, you may wish to use e.g. `np.int64` or `np.int32` to specify the precision. If you wish to review your current use, check the release note link for additional information.\n",
            "Deprecated in NumPy 1.20; for more details and guidance: https://numpy.org/devdocs/release/1.20.0-notes.html#deprecations\n",
            " 65%|██████▌   | 117/180 [00:20<00:10,  6.03it/s]/usr/local/lib/python3.7/dist-packages/ipykernel_launcher.py:28: DeprecationWarning: `np.int` is a deprecated alias for the builtin `int`. To silence this warning, use `int` by itself. Doing this will not modify any behavior and is safe. When replacing `np.int`, you may wish to use e.g. `np.int64` or `np.int32` to specify the precision. If you wish to review your current use, check the release note link for additional information.\n",
            "Deprecated in NumPy 1.20; for more details and guidance: https://numpy.org/devdocs/release/1.20.0-notes.html#deprecations\n",
            " 66%|██████▌   | 118/180 [00:20<00:10,  6.06it/s]/usr/local/lib/python3.7/dist-packages/ipykernel_launcher.py:28: DeprecationWarning: `np.int` is a deprecated alias for the builtin `int`. To silence this warning, use `int` by itself. Doing this will not modify any behavior and is safe. When replacing `np.int`, you may wish to use e.g. `np.int64` or `np.int32` to specify the precision. If you wish to review your current use, check the release note link for additional information.\n",
            "Deprecated in NumPy 1.20; for more details and guidance: https://numpy.org/devdocs/release/1.20.0-notes.html#deprecations\n",
            " 66%|██████▌   | 119/180 [00:20<00:10,  6.02it/s]/usr/local/lib/python3.7/dist-packages/ipykernel_launcher.py:28: DeprecationWarning: `np.int` is a deprecated alias for the builtin `int`. To silence this warning, use `int` by itself. Doing this will not modify any behavior and is safe. When replacing `np.int`, you may wish to use e.g. `np.int64` or `np.int32` to specify the precision. If you wish to review your current use, check the release note link for additional information.\n",
            "Deprecated in NumPy 1.20; for more details and guidance: https://numpy.org/devdocs/release/1.20.0-notes.html#deprecations\n",
            " 67%|██████▋   | 120/180 [00:21<00:09,  6.09it/s]/usr/local/lib/python3.7/dist-packages/ipykernel_launcher.py:28: DeprecationWarning: `np.int` is a deprecated alias for the builtin `int`. To silence this warning, use `int` by itself. Doing this will not modify any behavior and is safe. When replacing `np.int`, you may wish to use e.g. `np.int64` or `np.int32` to specify the precision. If you wish to review your current use, check the release note link for additional information.\n",
            "Deprecated in NumPy 1.20; for more details and guidance: https://numpy.org/devdocs/release/1.20.0-notes.html#deprecations\n",
            " 67%|██████▋   | 121/180 [00:21<00:09,  6.10it/s]/usr/local/lib/python3.7/dist-packages/ipykernel_launcher.py:28: DeprecationWarning: `np.int` is a deprecated alias for the builtin `int`. To silence this warning, use `int` by itself. Doing this will not modify any behavior and is safe. When replacing `np.int`, you may wish to use e.g. `np.int64` or `np.int32` to specify the precision. If you wish to review your current use, check the release note link for additional information.\n",
            "Deprecated in NumPy 1.20; for more details and guidance: https://numpy.org/devdocs/release/1.20.0-notes.html#deprecations\n",
            " 68%|██████▊   | 122/180 [00:21<00:09,  6.00it/s]/usr/local/lib/python3.7/dist-packages/ipykernel_launcher.py:28: DeprecationWarning: `np.int` is a deprecated alias for the builtin `int`. To silence this warning, use `int` by itself. Doing this will not modify any behavior and is safe. When replacing `np.int`, you may wish to use e.g. `np.int64` or `np.int32` to specify the precision. If you wish to review your current use, check the release note link for additional information.\n",
            "Deprecated in NumPy 1.20; for more details and guidance: https://numpy.org/devdocs/release/1.20.0-notes.html#deprecations\n",
            " 68%|██████▊   | 123/180 [00:21<00:09,  5.93it/s]/usr/local/lib/python3.7/dist-packages/ipykernel_launcher.py:28: DeprecationWarning: `np.int` is a deprecated alias for the builtin `int`. To silence this warning, use `int` by itself. Doing this will not modify any behavior and is safe. When replacing `np.int`, you may wish to use e.g. `np.int64` or `np.int32` to specify the precision. If you wish to review your current use, check the release note link for additional information.\n",
            "Deprecated in NumPy 1.20; for more details and guidance: https://numpy.org/devdocs/release/1.20.0-notes.html#deprecations\n",
            " 69%|██████▉   | 124/180 [00:21<00:09,  5.99it/s]/usr/local/lib/python3.7/dist-packages/ipykernel_launcher.py:28: DeprecationWarning: `np.int` is a deprecated alias for the builtin `int`. To silence this warning, use `int` by itself. Doing this will not modify any behavior and is safe. When replacing `np.int`, you may wish to use e.g. `np.int64` or `np.int32` to specify the precision. If you wish to review your current use, check the release note link for additional information.\n",
            "Deprecated in NumPy 1.20; for more details and guidance: https://numpy.org/devdocs/release/1.20.0-notes.html#deprecations\n",
            " 69%|██████▉   | 125/180 [00:21<00:09,  6.06it/s]/usr/local/lib/python3.7/dist-packages/ipykernel_launcher.py:28: DeprecationWarning: `np.int` is a deprecated alias for the builtin `int`. To silence this warning, use `int` by itself. Doing this will not modify any behavior and is safe. When replacing `np.int`, you may wish to use e.g. `np.int64` or `np.int32` to specify the precision. If you wish to review your current use, check the release note link for additional information.\n",
            "Deprecated in NumPy 1.20; for more details and guidance: https://numpy.org/devdocs/release/1.20.0-notes.html#deprecations\n",
            " 70%|███████   | 126/180 [00:22<00:08,  6.06it/s]/usr/local/lib/python3.7/dist-packages/ipykernel_launcher.py:28: DeprecationWarning: `np.int` is a deprecated alias for the builtin `int`. To silence this warning, use `int` by itself. Doing this will not modify any behavior and is safe. When replacing `np.int`, you may wish to use e.g. `np.int64` or `np.int32` to specify the precision. If you wish to review your current use, check the release note link for additional information.\n",
            "Deprecated in NumPy 1.20; for more details and guidance: https://numpy.org/devdocs/release/1.20.0-notes.html#deprecations\n",
            " 71%|███████   | 127/180 [00:22<00:08,  6.17it/s]/usr/local/lib/python3.7/dist-packages/ipykernel_launcher.py:28: DeprecationWarning: `np.int` is a deprecated alias for the builtin `int`. To silence this warning, use `int` by itself. Doing this will not modify any behavior and is safe. When replacing `np.int`, you may wish to use e.g. `np.int64` or `np.int32` to specify the precision. If you wish to review your current use, check the release note link for additional information.\n",
            "Deprecated in NumPy 1.20; for more details and guidance: https://numpy.org/devdocs/release/1.20.0-notes.html#deprecations\n",
            " 71%|███████   | 128/180 [00:22<00:08,  6.15it/s]/usr/local/lib/python3.7/dist-packages/ipykernel_launcher.py:28: DeprecationWarning: `np.int` is a deprecated alias for the builtin `int`. To silence this warning, use `int` by itself. Doing this will not modify any behavior and is safe. When replacing `np.int`, you may wish to use e.g. `np.int64` or `np.int32` to specify the precision. If you wish to review your current use, check the release note link for additional information.\n",
            "Deprecated in NumPy 1.20; for more details and guidance: https://numpy.org/devdocs/release/1.20.0-notes.html#deprecations\n",
            " 72%|███████▏  | 129/180 [00:22<00:08,  6.14it/s]/usr/local/lib/python3.7/dist-packages/ipykernel_launcher.py:28: DeprecationWarning: `np.int` is a deprecated alias for the builtin `int`. To silence this warning, use `int` by itself. Doing this will not modify any behavior and is safe. When replacing `np.int`, you may wish to use e.g. `np.int64` or `np.int32` to specify the precision. If you wish to review your current use, check the release note link for additional information.\n",
            "Deprecated in NumPy 1.20; for more details and guidance: https://numpy.org/devdocs/release/1.20.0-notes.html#deprecations\n",
            " 72%|███████▏  | 130/180 [00:22<00:08,  6.16it/s]/usr/local/lib/python3.7/dist-packages/ipykernel_launcher.py:28: DeprecationWarning: `np.int` is a deprecated alias for the builtin `int`. To silence this warning, use `int` by itself. Doing this will not modify any behavior and is safe. When replacing `np.int`, you may wish to use e.g. `np.int64` or `np.int32` to specify the precision. If you wish to review your current use, check the release note link for additional information.\n",
            "Deprecated in NumPy 1.20; for more details and guidance: https://numpy.org/devdocs/release/1.20.0-notes.html#deprecations\n",
            " 73%|███████▎  | 131/180 [00:22<00:08,  6.04it/s]/usr/local/lib/python3.7/dist-packages/ipykernel_launcher.py:28: DeprecationWarning: `np.int` is a deprecated alias for the builtin `int`. To silence this warning, use `int` by itself. Doing this will not modify any behavior and is safe. When replacing `np.int`, you may wish to use e.g. `np.int64` or `np.int32` to specify the precision. If you wish to review your current use, check the release note link for additional information.\n",
            "Deprecated in NumPy 1.20; for more details and guidance: https://numpy.org/devdocs/release/1.20.0-notes.html#deprecations\n",
            " 73%|███████▎  | 132/180 [00:23<00:08,  5.99it/s]/usr/local/lib/python3.7/dist-packages/ipykernel_launcher.py:28: DeprecationWarning: `np.int` is a deprecated alias for the builtin `int`. To silence this warning, use `int` by itself. Doing this will not modify any behavior and is safe. When replacing `np.int`, you may wish to use e.g. `np.int64` or `np.int32` to specify the precision. If you wish to review your current use, check the release note link for additional information.\n",
            "Deprecated in NumPy 1.20; for more details and guidance: https://numpy.org/devdocs/release/1.20.0-notes.html#deprecations\n",
            " 74%|███████▍  | 133/180 [00:23<00:07,  5.91it/s]/usr/local/lib/python3.7/dist-packages/ipykernel_launcher.py:28: DeprecationWarning: `np.int` is a deprecated alias for the builtin `int`. To silence this warning, use `int` by itself. Doing this will not modify any behavior and is safe. When replacing `np.int`, you may wish to use e.g. `np.int64` or `np.int32` to specify the precision. If you wish to review your current use, check the release note link for additional information.\n",
            "Deprecated in NumPy 1.20; for more details and guidance: https://numpy.org/devdocs/release/1.20.0-notes.html#deprecations\n",
            " 74%|███████▍  | 134/180 [00:23<00:07,  5.95it/s]/usr/local/lib/python3.7/dist-packages/ipykernel_launcher.py:28: DeprecationWarning: `np.int` is a deprecated alias for the builtin `int`. To silence this warning, use `int` by itself. Doing this will not modify any behavior and is safe. When replacing `np.int`, you may wish to use e.g. `np.int64` or `np.int32` to specify the precision. If you wish to review your current use, check the release note link for additional information.\n",
            "Deprecated in NumPy 1.20; for more details and guidance: https://numpy.org/devdocs/release/1.20.0-notes.html#deprecations\n",
            " 75%|███████▌  | 135/180 [00:23<00:07,  6.03it/s]/usr/local/lib/python3.7/dist-packages/ipykernel_launcher.py:28: DeprecationWarning: `np.int` is a deprecated alias for the builtin `int`. To silence this warning, use `int` by itself. Doing this will not modify any behavior and is safe. When replacing `np.int`, you may wish to use e.g. `np.int64` or `np.int32` to specify the precision. If you wish to review your current use, check the release note link for additional information.\n",
            "Deprecated in NumPy 1.20; for more details and guidance: https://numpy.org/devdocs/release/1.20.0-notes.html#deprecations\n",
            " 76%|███████▌  | 136/180 [00:23<00:07,  6.04it/s]/usr/local/lib/python3.7/dist-packages/ipykernel_launcher.py:28: DeprecationWarning: `np.int` is a deprecated alias for the builtin `int`. To silence this warning, use `int` by itself. Doing this will not modify any behavior and is safe. When replacing `np.int`, you may wish to use e.g. `np.int64` or `np.int32` to specify the precision. If you wish to review your current use, check the release note link for additional information.\n",
            "Deprecated in NumPy 1.20; for more details and guidance: https://numpy.org/devdocs/release/1.20.0-notes.html#deprecations\n",
            " 76%|███████▌  | 137/180 [00:23<00:07,  6.07it/s]/usr/local/lib/python3.7/dist-packages/ipykernel_launcher.py:28: DeprecationWarning: `np.int` is a deprecated alias for the builtin `int`. To silence this warning, use `int` by itself. Doing this will not modify any behavior and is safe. When replacing `np.int`, you may wish to use e.g. `np.int64` or `np.int32` to specify the precision. If you wish to review your current use, check the release note link for additional information.\n",
            "Deprecated in NumPy 1.20; for more details and guidance: https://numpy.org/devdocs/release/1.20.0-notes.html#deprecations\n",
            " 77%|███████▋  | 138/180 [00:24<00:06,  6.08it/s]/usr/local/lib/python3.7/dist-packages/ipykernel_launcher.py:28: DeprecationWarning: `np.int` is a deprecated alias for the builtin `int`. To silence this warning, use `int` by itself. Doing this will not modify any behavior and is safe. When replacing `np.int`, you may wish to use e.g. `np.int64` or `np.int32` to specify the precision. If you wish to review your current use, check the release note link for additional information.\n",
            "Deprecated in NumPy 1.20; for more details and guidance: https://numpy.org/devdocs/release/1.20.0-notes.html#deprecations\n",
            " 77%|███████▋  | 139/180 [00:24<00:06,  6.07it/s]/usr/local/lib/python3.7/dist-packages/ipykernel_launcher.py:28: DeprecationWarning: `np.int` is a deprecated alias for the builtin `int`. To silence this warning, use `int` by itself. Doing this will not modify any behavior and is safe. When replacing `np.int`, you may wish to use e.g. `np.int64` or `np.int32` to specify the precision. If you wish to review your current use, check the release note link for additional information.\n",
            "Deprecated in NumPy 1.20; for more details and guidance: https://numpy.org/devdocs/release/1.20.0-notes.html#deprecations\n",
            " 78%|███████▊  | 140/180 [00:24<00:06,  6.00it/s]/usr/local/lib/python3.7/dist-packages/ipykernel_launcher.py:28: DeprecationWarning: `np.int` is a deprecated alias for the builtin `int`. To silence this warning, use `int` by itself. Doing this will not modify any behavior and is safe. When replacing `np.int`, you may wish to use e.g. `np.int64` or `np.int32` to specify the precision. If you wish to review your current use, check the release note link for additional information.\n",
            "Deprecated in NumPy 1.20; for more details and guidance: https://numpy.org/devdocs/release/1.20.0-notes.html#deprecations\n",
            " 78%|███████▊  | 141/180 [00:24<00:06,  6.01it/s]/usr/local/lib/python3.7/dist-packages/ipykernel_launcher.py:28: DeprecationWarning: `np.int` is a deprecated alias for the builtin `int`. To silence this warning, use `int` by itself. Doing this will not modify any behavior and is safe. When replacing `np.int`, you may wish to use e.g. `np.int64` or `np.int32` to specify the precision. If you wish to review your current use, check the release note link for additional information.\n",
            "Deprecated in NumPy 1.20; for more details and guidance: https://numpy.org/devdocs/release/1.20.0-notes.html#deprecations\n",
            " 79%|███████▉  | 142/180 [00:24<00:06,  6.07it/s]/usr/local/lib/python3.7/dist-packages/ipykernel_launcher.py:28: DeprecationWarning: `np.int` is a deprecated alias for the builtin `int`. To silence this warning, use `int` by itself. Doing this will not modify any behavior and is safe. When replacing `np.int`, you may wish to use e.g. `np.int64` or `np.int32` to specify the precision. If you wish to review your current use, check the release note link for additional information.\n",
            "Deprecated in NumPy 1.20; for more details and guidance: https://numpy.org/devdocs/release/1.20.0-notes.html#deprecations\n",
            " 79%|███████▉  | 143/180 [00:24<00:06,  6.03it/s]/usr/local/lib/python3.7/dist-packages/ipykernel_launcher.py:28: DeprecationWarning: `np.int` is a deprecated alias for the builtin `int`. To silence this warning, use `int` by itself. Doing this will not modify any behavior and is safe. When replacing `np.int`, you may wish to use e.g. `np.int64` or `np.int32` to specify the precision. If you wish to review your current use, check the release note link for additional information.\n",
            "Deprecated in NumPy 1.20; for more details and guidance: https://numpy.org/devdocs/release/1.20.0-notes.html#deprecations\n",
            " 80%|████████  | 144/180 [00:25<00:05,  6.05it/s]/usr/local/lib/python3.7/dist-packages/ipykernel_launcher.py:28: DeprecationWarning: `np.int` is a deprecated alias for the builtin `int`. To silence this warning, use `int` by itself. Doing this will not modify any behavior and is safe. When replacing `np.int`, you may wish to use e.g. `np.int64` or `np.int32` to specify the precision. If you wish to review your current use, check the release note link for additional information.\n",
            "Deprecated in NumPy 1.20; for more details and guidance: https://numpy.org/devdocs/release/1.20.0-notes.html#deprecations\n",
            " 81%|████████  | 145/180 [00:25<00:05,  6.10it/s]/usr/local/lib/python3.7/dist-packages/ipykernel_launcher.py:28: DeprecationWarning: `np.int` is a deprecated alias for the builtin `int`. To silence this warning, use `int` by itself. Doing this will not modify any behavior and is safe. When replacing `np.int`, you may wish to use e.g. `np.int64` or `np.int32` to specify the precision. If you wish to review your current use, check the release note link for additional information.\n",
            "Deprecated in NumPy 1.20; for more details and guidance: https://numpy.org/devdocs/release/1.20.0-notes.html#deprecations\n",
            " 81%|████████  | 146/180 [00:25<00:05,  6.12it/s]/usr/local/lib/python3.7/dist-packages/ipykernel_launcher.py:28: DeprecationWarning: `np.int` is a deprecated alias for the builtin `int`. To silence this warning, use `int` by itself. Doing this will not modify any behavior and is safe. When replacing `np.int`, you may wish to use e.g. `np.int64` or `np.int32` to specify the precision. If you wish to review your current use, check the release note link for additional information.\n",
            "Deprecated in NumPy 1.20; for more details and guidance: https://numpy.org/devdocs/release/1.20.0-notes.html#deprecations\n",
            " 82%|████████▏ | 147/180 [00:25<00:05,  6.12it/s]/usr/local/lib/python3.7/dist-packages/ipykernel_launcher.py:28: DeprecationWarning: `np.int` is a deprecated alias for the builtin `int`. To silence this warning, use `int` by itself. Doing this will not modify any behavior and is safe. When replacing `np.int`, you may wish to use e.g. `np.int64` or `np.int32` to specify the precision. If you wish to review your current use, check the release note link for additional information.\n",
            "Deprecated in NumPy 1.20; for more details and guidance: https://numpy.org/devdocs/release/1.20.0-notes.html#deprecations\n",
            " 82%|████████▏ | 148/180 [00:25<00:05,  6.09it/s]/usr/local/lib/python3.7/dist-packages/ipykernel_launcher.py:28: DeprecationWarning: `np.int` is a deprecated alias for the builtin `int`. To silence this warning, use `int` by itself. Doing this will not modify any behavior and is safe. When replacing `np.int`, you may wish to use e.g. `np.int64` or `np.int32` to specify the precision. If you wish to review your current use, check the release note link for additional information.\n",
            "Deprecated in NumPy 1.20; for more details and guidance: https://numpy.org/devdocs/release/1.20.0-notes.html#deprecations\n",
            " 83%|████████▎ | 149/180 [00:25<00:05,  6.03it/s]/usr/local/lib/python3.7/dist-packages/ipykernel_launcher.py:28: DeprecationWarning: `np.int` is a deprecated alias for the builtin `int`. To silence this warning, use `int` by itself. Doing this will not modify any behavior and is safe. When replacing `np.int`, you may wish to use e.g. `np.int64` or `np.int32` to specify the precision. If you wish to review your current use, check the release note link for additional information.\n",
            "Deprecated in NumPy 1.20; for more details and guidance: https://numpy.org/devdocs/release/1.20.0-notes.html#deprecations\n",
            " 83%|████████▎ | 150/180 [00:26<00:04,  6.03it/s]/usr/local/lib/python3.7/dist-packages/ipykernel_launcher.py:28: DeprecationWarning: `np.int` is a deprecated alias for the builtin `int`. To silence this warning, use `int` by itself. Doing this will not modify any behavior and is safe. When replacing `np.int`, you may wish to use e.g. `np.int64` or `np.int32` to specify the precision. If you wish to review your current use, check the release note link for additional information.\n",
            "Deprecated in NumPy 1.20; for more details and guidance: https://numpy.org/devdocs/release/1.20.0-notes.html#deprecations\n",
            " 84%|████████▍ | 151/180 [00:26<00:04,  6.07it/s]/usr/local/lib/python3.7/dist-packages/ipykernel_launcher.py:28: DeprecationWarning: `np.int` is a deprecated alias for the builtin `int`. To silence this warning, use `int` by itself. Doing this will not modify any behavior and is safe. When replacing `np.int`, you may wish to use e.g. `np.int64` or `np.int32` to specify the precision. If you wish to review your current use, check the release note link for additional information.\n",
            "Deprecated in NumPy 1.20; for more details and guidance: https://numpy.org/devdocs/release/1.20.0-notes.html#deprecations\n",
            " 84%|████████▍ | 152/180 [00:26<00:04,  6.06it/s]/usr/local/lib/python3.7/dist-packages/ipykernel_launcher.py:28: DeprecationWarning: `np.int` is a deprecated alias for the builtin `int`. To silence this warning, use `int` by itself. Doing this will not modify any behavior and is safe. When replacing `np.int`, you may wish to use e.g. `np.int64` or `np.int32` to specify the precision. If you wish to review your current use, check the release note link for additional information.\n",
            "Deprecated in NumPy 1.20; for more details and guidance: https://numpy.org/devdocs/release/1.20.0-notes.html#deprecations\n",
            " 85%|████████▌ | 153/180 [00:26<00:04,  6.03it/s]/usr/local/lib/python3.7/dist-packages/ipykernel_launcher.py:28: DeprecationWarning: `np.int` is a deprecated alias for the builtin `int`. To silence this warning, use `int` by itself. Doing this will not modify any behavior and is safe. When replacing `np.int`, you may wish to use e.g. `np.int64` or `np.int32` to specify the precision. If you wish to review your current use, check the release note link for additional information.\n",
            "Deprecated in NumPy 1.20; for more details and guidance: https://numpy.org/devdocs/release/1.20.0-notes.html#deprecations\n",
            " 86%|████████▌ | 154/180 [00:26<00:04,  6.06it/s]/usr/local/lib/python3.7/dist-packages/ipykernel_launcher.py:28: DeprecationWarning: `np.int` is a deprecated alias for the builtin `int`. To silence this warning, use `int` by itself. Doing this will not modify any behavior and is safe. When replacing `np.int`, you may wish to use e.g. `np.int64` or `np.int32` to specify the precision. If you wish to review your current use, check the release note link for additional information.\n",
            "Deprecated in NumPy 1.20; for more details and guidance: https://numpy.org/devdocs/release/1.20.0-notes.html#deprecations\n",
            " 86%|████████▌ | 155/180 [00:26<00:04,  6.04it/s]/usr/local/lib/python3.7/dist-packages/ipykernel_launcher.py:28: DeprecationWarning: `np.int` is a deprecated alias for the builtin `int`. To silence this warning, use `int` by itself. Doing this will not modify any behavior and is safe. When replacing `np.int`, you may wish to use e.g. `np.int64` or `np.int32` to specify the precision. If you wish to review your current use, check the release note link for additional information.\n",
            "Deprecated in NumPy 1.20; for more details and guidance: https://numpy.org/devdocs/release/1.20.0-notes.html#deprecations\n",
            " 87%|████████▋ | 156/180 [00:27<00:03,  6.07it/s]/usr/local/lib/python3.7/dist-packages/ipykernel_launcher.py:28: DeprecationWarning: `np.int` is a deprecated alias for the builtin `int`. To silence this warning, use `int` by itself. Doing this will not modify any behavior and is safe. When replacing `np.int`, you may wish to use e.g. `np.int64` or `np.int32` to specify the precision. If you wish to review your current use, check the release note link for additional information.\n",
            "Deprecated in NumPy 1.20; for more details and guidance: https://numpy.org/devdocs/release/1.20.0-notes.html#deprecations\n",
            " 87%|████████▋ | 157/180 [00:27<00:03,  6.01it/s]/usr/local/lib/python3.7/dist-packages/ipykernel_launcher.py:28: DeprecationWarning: `np.int` is a deprecated alias for the builtin `int`. To silence this warning, use `int` by itself. Doing this will not modify any behavior and is safe. When replacing `np.int`, you may wish to use e.g. `np.int64` or `np.int32` to specify the precision. If you wish to review your current use, check the release note link for additional information.\n",
            "Deprecated in NumPy 1.20; for more details and guidance: https://numpy.org/devdocs/release/1.20.0-notes.html#deprecations\n",
            " 88%|████████▊ | 158/180 [00:27<00:03,  5.96it/s]/usr/local/lib/python3.7/dist-packages/ipykernel_launcher.py:28: DeprecationWarning: `np.int` is a deprecated alias for the builtin `int`. To silence this warning, use `int` by itself. Doing this will not modify any behavior and is safe. When replacing `np.int`, you may wish to use e.g. `np.int64` or `np.int32` to specify the precision. If you wish to review your current use, check the release note link for additional information.\n",
            "Deprecated in NumPy 1.20; for more details and guidance: https://numpy.org/devdocs/release/1.20.0-notes.html#deprecations\n",
            " 88%|████████▊ | 159/180 [00:27<00:03,  5.92it/s]/usr/local/lib/python3.7/dist-packages/ipykernel_launcher.py:28: DeprecationWarning: `np.int` is a deprecated alias for the builtin `int`. To silence this warning, use `int` by itself. Doing this will not modify any behavior and is safe. When replacing `np.int`, you may wish to use e.g. `np.int64` or `np.int32` to specify the precision. If you wish to review your current use, check the release note link for additional information.\n",
            "Deprecated in NumPy 1.20; for more details and guidance: https://numpy.org/devdocs/release/1.20.0-notes.html#deprecations\n",
            " 89%|████████▉ | 160/180 [00:27<00:03,  5.97it/s]/usr/local/lib/python3.7/dist-packages/ipykernel_launcher.py:28: DeprecationWarning: `np.int` is a deprecated alias for the builtin `int`. To silence this warning, use `int` by itself. Doing this will not modify any behavior and is safe. When replacing `np.int`, you may wish to use e.g. `np.int64` or `np.int32` to specify the precision. If you wish to review your current use, check the release note link for additional information.\n",
            "Deprecated in NumPy 1.20; for more details and guidance: https://numpy.org/devdocs/release/1.20.0-notes.html#deprecations\n",
            " 89%|████████▉ | 161/180 [00:27<00:03,  6.00it/s]/usr/local/lib/python3.7/dist-packages/ipykernel_launcher.py:28: DeprecationWarning: `np.int` is a deprecated alias for the builtin `int`. To silence this warning, use `int` by itself. Doing this will not modify any behavior and is safe. When replacing `np.int`, you may wish to use e.g. `np.int64` or `np.int32` to specify the precision. If you wish to review your current use, check the release note link for additional information.\n",
            "Deprecated in NumPy 1.20; for more details and guidance: https://numpy.org/devdocs/release/1.20.0-notes.html#deprecations\n",
            " 90%|█████████ | 162/180 [00:28<00:02,  6.05it/s]/usr/local/lib/python3.7/dist-packages/ipykernel_launcher.py:28: DeprecationWarning: `np.int` is a deprecated alias for the builtin `int`. To silence this warning, use `int` by itself. Doing this will not modify any behavior and is safe. When replacing `np.int`, you may wish to use e.g. `np.int64` or `np.int32` to specify the precision. If you wish to review your current use, check the release note link for additional information.\n",
            "Deprecated in NumPy 1.20; for more details and guidance: https://numpy.org/devdocs/release/1.20.0-notes.html#deprecations\n",
            " 91%|█████████ | 163/180 [00:28<00:02,  6.02it/s]/usr/local/lib/python3.7/dist-packages/ipykernel_launcher.py:28: DeprecationWarning: `np.int` is a deprecated alias for the builtin `int`. To silence this warning, use `int` by itself. Doing this will not modify any behavior and is safe. When replacing `np.int`, you may wish to use e.g. `np.int64` or `np.int32` to specify the precision. If you wish to review your current use, check the release note link for additional information.\n",
            "Deprecated in NumPy 1.20; for more details and guidance: https://numpy.org/devdocs/release/1.20.0-notes.html#deprecations\n",
            " 91%|█████████ | 164/180 [00:28<00:02,  5.98it/s]/usr/local/lib/python3.7/dist-packages/ipykernel_launcher.py:28: DeprecationWarning: `np.int` is a deprecated alias for the builtin `int`. To silence this warning, use `int` by itself. Doing this will not modify any behavior and is safe. When replacing `np.int`, you may wish to use e.g. `np.int64` or `np.int32` to specify the precision. If you wish to review your current use, check the release note link for additional information.\n",
            "Deprecated in NumPy 1.20; for more details and guidance: https://numpy.org/devdocs/release/1.20.0-notes.html#deprecations\n",
            " 92%|█████████▏| 165/180 [00:28<00:02,  6.03it/s]/usr/local/lib/python3.7/dist-packages/ipykernel_launcher.py:28: DeprecationWarning: `np.int` is a deprecated alias for the builtin `int`. To silence this warning, use `int` by itself. Doing this will not modify any behavior and is safe. When replacing `np.int`, you may wish to use e.g. `np.int64` or `np.int32` to specify the precision. If you wish to review your current use, check the release note link for additional information.\n",
            "Deprecated in NumPy 1.20; for more details and guidance: https://numpy.org/devdocs/release/1.20.0-notes.html#deprecations\n",
            " 92%|█████████▏| 166/180 [00:28<00:02,  6.03it/s]/usr/local/lib/python3.7/dist-packages/ipykernel_launcher.py:28: DeprecationWarning: `np.int` is a deprecated alias for the builtin `int`. To silence this warning, use `int` by itself. Doing this will not modify any behavior and is safe. When replacing `np.int`, you may wish to use e.g. `np.int64` or `np.int32` to specify the precision. If you wish to review your current use, check the release note link for additional information.\n",
            "Deprecated in NumPy 1.20; for more details and guidance: https://numpy.org/devdocs/release/1.20.0-notes.html#deprecations\n",
            " 93%|█████████▎| 167/180 [00:28<00:02,  5.99it/s]/usr/local/lib/python3.7/dist-packages/ipykernel_launcher.py:28: DeprecationWarning: `np.int` is a deprecated alias for the builtin `int`. To silence this warning, use `int` by itself. Doing this will not modify any behavior and is safe. When replacing `np.int`, you may wish to use e.g. `np.int64` or `np.int32` to specify the precision. If you wish to review your current use, check the release note link for additional information.\n",
            "Deprecated in NumPy 1.20; for more details and guidance: https://numpy.org/devdocs/release/1.20.0-notes.html#deprecations\n",
            " 93%|█████████▎| 168/180 [00:29<00:02,  5.98it/s]/usr/local/lib/python3.7/dist-packages/ipykernel_launcher.py:28: DeprecationWarning: `np.int` is a deprecated alias for the builtin `int`. To silence this warning, use `int` by itself. Doing this will not modify any behavior and is safe. When replacing `np.int`, you may wish to use e.g. `np.int64` or `np.int32` to specify the precision. If you wish to review your current use, check the release note link for additional information.\n",
            "Deprecated in NumPy 1.20; for more details and guidance: https://numpy.org/devdocs/release/1.20.0-notes.html#deprecations\n",
            " 94%|█████████▍| 169/180 [00:29<00:01,  6.02it/s]/usr/local/lib/python3.7/dist-packages/ipykernel_launcher.py:28: DeprecationWarning: `np.int` is a deprecated alias for the builtin `int`. To silence this warning, use `int` by itself. Doing this will not modify any behavior and is safe. When replacing `np.int`, you may wish to use e.g. `np.int64` or `np.int32` to specify the precision. If you wish to review your current use, check the release note link for additional information.\n",
            "Deprecated in NumPy 1.20; for more details and guidance: https://numpy.org/devdocs/release/1.20.0-notes.html#deprecations\n",
            " 94%|█████████▍| 170/180 [00:29<00:01,  6.03it/s]/usr/local/lib/python3.7/dist-packages/ipykernel_launcher.py:28: DeprecationWarning: `np.int` is a deprecated alias for the builtin `int`. To silence this warning, use `int` by itself. Doing this will not modify any behavior and is safe. When replacing `np.int`, you may wish to use e.g. `np.int64` or `np.int32` to specify the precision. If you wish to review your current use, check the release note link for additional information.\n",
            "Deprecated in NumPy 1.20; for more details and guidance: https://numpy.org/devdocs/release/1.20.0-notes.html#deprecations\n",
            " 95%|█████████▌| 171/180 [00:29<00:01,  6.09it/s]/usr/local/lib/python3.7/dist-packages/ipykernel_launcher.py:28: DeprecationWarning: `np.int` is a deprecated alias for the builtin `int`. To silence this warning, use `int` by itself. Doing this will not modify any behavior and is safe. When replacing `np.int`, you may wish to use e.g. `np.int64` or `np.int32` to specify the precision. If you wish to review your current use, check the release note link for additional information.\n",
            "Deprecated in NumPy 1.20; for more details and guidance: https://numpy.org/devdocs/release/1.20.0-notes.html#deprecations\n",
            " 96%|█████████▌| 172/180 [00:29<00:01,  6.07it/s]/usr/local/lib/python3.7/dist-packages/ipykernel_launcher.py:28: DeprecationWarning: `np.int` is a deprecated alias for the builtin `int`. To silence this warning, use `int` by itself. Doing this will not modify any behavior and is safe. When replacing `np.int`, you may wish to use e.g. `np.int64` or `np.int32` to specify the precision. If you wish to review your current use, check the release note link for additional information.\n",
            "Deprecated in NumPy 1.20; for more details and guidance: https://numpy.org/devdocs/release/1.20.0-notes.html#deprecations\n",
            " 96%|█████████▌| 173/180 [00:29<00:01,  6.06it/s]/usr/local/lib/python3.7/dist-packages/ipykernel_launcher.py:28: DeprecationWarning: `np.int` is a deprecated alias for the builtin `int`. To silence this warning, use `int` by itself. Doing this will not modify any behavior and is safe. When replacing `np.int`, you may wish to use e.g. `np.int64` or `np.int32` to specify the precision. If you wish to review your current use, check the release note link for additional information.\n",
            "Deprecated in NumPy 1.20; for more details and guidance: https://numpy.org/devdocs/release/1.20.0-notes.html#deprecations\n",
            " 97%|█████████▋| 174/180 [00:29<00:00,  6.13it/s]/usr/local/lib/python3.7/dist-packages/ipykernel_launcher.py:28: DeprecationWarning: `np.int` is a deprecated alias for the builtin `int`. To silence this warning, use `int` by itself. Doing this will not modify any behavior and is safe. When replacing `np.int`, you may wish to use e.g. `np.int64` or `np.int32` to specify the precision. If you wish to review your current use, check the release note link for additional information.\n",
            "Deprecated in NumPy 1.20; for more details and guidance: https://numpy.org/devdocs/release/1.20.0-notes.html#deprecations\n",
            " 97%|█████████▋| 175/180 [00:30<00:00,  6.11it/s]/usr/local/lib/python3.7/dist-packages/ipykernel_launcher.py:28: DeprecationWarning: `np.int` is a deprecated alias for the builtin `int`. To silence this warning, use `int` by itself. Doing this will not modify any behavior and is safe. When replacing `np.int`, you may wish to use e.g. `np.int64` or `np.int32` to specify the precision. If you wish to review your current use, check the release note link for additional information.\n",
            "Deprecated in NumPy 1.20; for more details and guidance: https://numpy.org/devdocs/release/1.20.0-notes.html#deprecations\n",
            " 98%|█████████▊| 176/180 [00:30<00:00,  6.01it/s]/usr/local/lib/python3.7/dist-packages/ipykernel_launcher.py:28: DeprecationWarning: `np.int` is a deprecated alias for the builtin `int`. To silence this warning, use `int` by itself. Doing this will not modify any behavior and is safe. When replacing `np.int`, you may wish to use e.g. `np.int64` or `np.int32` to specify the precision. If you wish to review your current use, check the release note link for additional information.\n",
            "Deprecated in NumPy 1.20; for more details and guidance: https://numpy.org/devdocs/release/1.20.0-notes.html#deprecations\n",
            " 98%|█████████▊| 177/180 [00:30<00:00,  5.95it/s]/usr/local/lib/python3.7/dist-packages/ipykernel_launcher.py:28: DeprecationWarning: `np.int` is a deprecated alias for the builtin `int`. To silence this warning, use `int` by itself. Doing this will not modify any behavior and is safe. When replacing `np.int`, you may wish to use e.g. `np.int64` or `np.int32` to specify the precision. If you wish to review your current use, check the release note link for additional information.\n",
            "Deprecated in NumPy 1.20; for more details and guidance: https://numpy.org/devdocs/release/1.20.0-notes.html#deprecations\n",
            " 99%|█████████▉| 178/180 [00:30<00:00,  6.01it/s]/usr/local/lib/python3.7/dist-packages/ipykernel_launcher.py:28: DeprecationWarning: `np.int` is a deprecated alias for the builtin `int`. To silence this warning, use `int` by itself. Doing this will not modify any behavior and is safe. When replacing `np.int`, you may wish to use e.g. `np.int64` or `np.int32` to specify the precision. If you wish to review your current use, check the release note link for additional information.\n",
            "Deprecated in NumPy 1.20; for more details and guidance: https://numpy.org/devdocs/release/1.20.0-notes.html#deprecations\n",
            " 99%|█████████▉| 179/180 [00:30<00:00,  6.06it/s]/usr/local/lib/python3.7/dist-packages/ipykernel_launcher.py:28: DeprecationWarning: `np.int` is a deprecated alias for the builtin `int`. To silence this warning, use `int` by itself. Doing this will not modify any behavior and is safe. When replacing `np.int`, you may wish to use e.g. `np.int64` or `np.int32` to specify the precision. If you wish to review your current use, check the release note link for additional information.\n",
            "Deprecated in NumPy 1.20; for more details and guidance: https://numpy.org/devdocs/release/1.20.0-notes.html#deprecations\n",
            "100%|██████████| 180/180 [00:30<00:00,  5.81it/s]"
          ]
        },
        {
          "output_type": "stream",
          "name": "stdout",
          "text": [
            "Accuracy: 0.97947\n",
            "F1: 0.75070\n",
            "Jaccard: 0.61400\n",
            "Recall: 0.72675\n",
            "Precision: 0.80298\n",
            "AUC: 0.96830\n",
            "Dice Coeff: 0.62750\n"
          ]
        },
        {
          "output_type": "stream",
          "name": "stderr",
          "text": [
            "\n"
          ]
        }
      ]
    },
    {
      "cell_type": "markdown",
      "source": [
        "# Reconstruct original image"
      ],
      "metadata": {
        "id": "PzqpDXW0Kcyu"
      }
    },
    {
      "cell_type": "code",
      "source": [
        "prediction_np_path"
      ],
      "metadata": {
        "id": "NJaxhmgEvs9i",
        "colab": {
          "base_uri": "https://localhost:8080/",
          "height": 35
        },
        "outputId": "572388a1-bc1b-446e-b41b-6fd990317e67"
      },
      "execution_count": null,
      "outputs": [
        {
          "output_type": "execute_result",
          "data": {
            "application/vnd.google.colaboratory.intrinsic+json": {
              "type": "string"
            },
            "text/plain": [
              "'/content/datasets/drive_256_256_dice_loss_0_4__0_4_1//predictions_np/'"
            ]
          },
          "metadata": {},
          "execution_count": 46
        }
      ]
    },
    {
      "cell_type": "code",
      "source": [
        "from glob import glob"
      ],
      "metadata": {
        "id": "gwjhBM8y1Bf_"
      },
      "execution_count": null,
      "outputs": []
    },
    {
      "cell_type": "code",
      "source": [
        "# Create patches dictionary\n",
        "predicted_patches_dict = dict()\n",
        "for file in glob(f\"{prediction_np_path}/*.npy\"):\n",
        "    print(\"file\", file)\n",
        "    patch = np.load(file)\n",
        "    fname_without_ext = file.rsplit(\"/\", 1)[1].rsplit(\".\", 1)[0]\n",
        "    fname_without_ext = fname_without_ext[1:]\n",
        "    patch_number = int(fname_without_ext.rsplit(\"_\", 1)[1])\n",
        "    image_file = fname_without_ext.rsplit(\"_\", 1)[0]\n",
        "    print(image_file, patch_number )\n",
        "\n",
        "    if image_file in predicted_patches_dict.keys():\n",
        "        predicted_patches_dict[image_file][patch_number] = np.load(file)\n",
        "    else:\n",
        "        patches = [None] * 140\n",
        "        patches[patch_number] = np.load(file)\n",
        "        predicted_patches_dict[image_file] = patches"
      ],
      "metadata": {
        "id": "s7p1_eLnI51P",
        "colab": {
          "base_uri": "https://localhost:8080/"
        },
        "outputId": "1bb9ef3a-8d6e-4582-c609-91fd049e7364"
      },
      "execution_count": null,
      "outputs": [
        {
          "output_type": "stream",
          "name": "stdout",
          "text": [
            "file /content/datasets/drive_256_256_dice_loss_0_4__0_4_1//predictions_np/_20_test_7.npy\n",
            "20_test 7\n",
            "file /content/datasets/drive_256_256_dice_loss_0_4__0_4_1//predictions_np/_17_test_8.npy\n",
            "17_test 8\n",
            "file /content/datasets/drive_256_256_dice_loss_0_4__0_4_1//predictions_np/_03_test_5.npy\n",
            "03_test 5\n",
            "file /content/datasets/drive_256_256_dice_loss_0_4__0_4_1//predictions_np/_03_test_0.npy\n",
            "03_test 0\n",
            "file /content/datasets/drive_256_256_dice_loss_0_4__0_4_1//predictions_np/_15_test_8.npy\n",
            "15_test 8\n",
            "file /content/datasets/drive_256_256_dice_loss_0_4__0_4_1//predictions_np/_13_test_7.npy\n",
            "13_test 7\n",
            "file /content/datasets/drive_256_256_dice_loss_0_4__0_4_1//predictions_np/_20_test_6.npy\n",
            "20_test 6\n",
            "file /content/datasets/drive_256_256_dice_loss_0_4__0_4_1//predictions_np/_11_test_4.npy\n",
            "11_test 4\n",
            "file /content/datasets/drive_256_256_dice_loss_0_4__0_4_1//predictions_np/_01_test_7.npy\n",
            "01_test 7\n",
            "file /content/datasets/drive_256_256_dice_loss_0_4__0_4_1//predictions_np/_14_test_1.npy\n",
            "14_test 1\n",
            "file /content/datasets/drive_256_256_dice_loss_0_4__0_4_1//predictions_np/_11_test_7.npy\n",
            "11_test 7\n",
            "file /content/datasets/drive_256_256_dice_loss_0_4__0_4_1//predictions_np/_16_test_2.npy\n",
            "16_test 2\n",
            "file /content/datasets/drive_256_256_dice_loss_0_4__0_4_1//predictions_np/_11_test_5.npy\n",
            "11_test 5\n",
            "file /content/datasets/drive_256_256_dice_loss_0_4__0_4_1//predictions_np/_10_test_1.npy\n",
            "10_test 1\n",
            "file /content/datasets/drive_256_256_dice_loss_0_4__0_4_1//predictions_np/_09_test_8.npy\n",
            "09_test 8\n",
            "file /content/datasets/drive_256_256_dice_loss_0_4__0_4_1//predictions_np/_11_test_6.npy\n",
            "11_test 6\n",
            "file /content/datasets/drive_256_256_dice_loss_0_4__0_4_1//predictions_np/_15_test_3.npy\n",
            "15_test 3\n",
            "file /content/datasets/drive_256_256_dice_loss_0_4__0_4_1//predictions_np/_06_test_2.npy\n",
            "06_test 2\n",
            "file /content/datasets/drive_256_256_dice_loss_0_4__0_4_1//predictions_np/_20_test_0.npy\n",
            "20_test 0\n",
            "file /content/datasets/drive_256_256_dice_loss_0_4__0_4_1//predictions_np/_09_test_2.npy\n",
            "09_test 2\n",
            "file /content/datasets/drive_256_256_dice_loss_0_4__0_4_1//predictions_np/_11_test_8.npy\n",
            "11_test 8\n",
            "file /content/datasets/drive_256_256_dice_loss_0_4__0_4_1//predictions_np/_13_test_2.npy\n",
            "13_test 2\n",
            "file /content/datasets/drive_256_256_dice_loss_0_4__0_4_1//predictions_np/_14_test_8.npy\n",
            "14_test 8\n",
            "file /content/datasets/drive_256_256_dice_loss_0_4__0_4_1//predictions_np/_10_test_8.npy\n",
            "10_test 8\n",
            "file /content/datasets/drive_256_256_dice_loss_0_4__0_4_1//predictions_np/_03_test_1.npy\n",
            "03_test 1\n",
            "file /content/datasets/drive_256_256_dice_loss_0_4__0_4_1//predictions_np/_01_test_8.npy\n",
            "01_test 8\n",
            "file /content/datasets/drive_256_256_dice_loss_0_4__0_4_1//predictions_np/_06_test_7.npy\n",
            "06_test 7\n",
            "file /content/datasets/drive_256_256_dice_loss_0_4__0_4_1//predictions_np/_15_test_5.npy\n",
            "15_test 5\n",
            "file /content/datasets/drive_256_256_dice_loss_0_4__0_4_1//predictions_np/_15_test_2.npy\n",
            "15_test 2\n",
            "file /content/datasets/drive_256_256_dice_loss_0_4__0_4_1//predictions_np/_08_test_7.npy\n",
            "08_test 7\n",
            "file /content/datasets/drive_256_256_dice_loss_0_4__0_4_1//predictions_np/_19_test_6.npy\n",
            "19_test 6\n",
            "file /content/datasets/drive_256_256_dice_loss_0_4__0_4_1//predictions_np/_02_test_1.npy\n",
            "02_test 1\n",
            "file /content/datasets/drive_256_256_dice_loss_0_4__0_4_1//predictions_np/_13_test_0.npy\n",
            "13_test 0\n",
            "file /content/datasets/drive_256_256_dice_loss_0_4__0_4_1//predictions_np/_07_test_7.npy\n",
            "07_test 7\n",
            "file /content/datasets/drive_256_256_dice_loss_0_4__0_4_1//predictions_np/_14_test_4.npy\n",
            "14_test 4\n",
            "file /content/datasets/drive_256_256_dice_loss_0_4__0_4_1//predictions_np/_09_test_0.npy\n",
            "09_test 0\n",
            "file /content/datasets/drive_256_256_dice_loss_0_4__0_4_1//predictions_np/_01_test_1.npy\n",
            "01_test 1\n",
            "file /content/datasets/drive_256_256_dice_loss_0_4__0_4_1//predictions_np/_17_test_1.npy\n",
            "17_test 1\n",
            "file /content/datasets/drive_256_256_dice_loss_0_4__0_4_1//predictions_np/_06_test_4.npy\n",
            "06_test 4\n",
            "file /content/datasets/drive_256_256_dice_loss_0_4__0_4_1//predictions_np/_20_test_8.npy\n",
            "20_test 8\n",
            "file /content/datasets/drive_256_256_dice_loss_0_4__0_4_1//predictions_np/_09_test_6.npy\n",
            "09_test 6\n",
            "file /content/datasets/drive_256_256_dice_loss_0_4__0_4_1//predictions_np/_02_test_4.npy\n",
            "02_test 4\n",
            "file /content/datasets/drive_256_256_dice_loss_0_4__0_4_1//predictions_np/_05_test_4.npy\n",
            "05_test 4\n",
            "file /content/datasets/drive_256_256_dice_loss_0_4__0_4_1//predictions_np/_07_test_3.npy\n",
            "07_test 3\n",
            "file /content/datasets/drive_256_256_dice_loss_0_4__0_4_1//predictions_np/_03_test_6.npy\n",
            "03_test 6\n",
            "file /content/datasets/drive_256_256_dice_loss_0_4__0_4_1//predictions_np/_07_test_0.npy\n",
            "07_test 0\n",
            "file /content/datasets/drive_256_256_dice_loss_0_4__0_4_1//predictions_np/_12_test_0.npy\n",
            "12_test 0\n",
            "file /content/datasets/drive_256_256_dice_loss_0_4__0_4_1//predictions_np/_02_test_6.npy\n",
            "02_test 6\n",
            "file /content/datasets/drive_256_256_dice_loss_0_4__0_4_1//predictions_np/_12_test_1.npy\n",
            "12_test 1\n",
            "file /content/datasets/drive_256_256_dice_loss_0_4__0_4_1//predictions_np/_08_test_2.npy\n",
            "08_test 2\n",
            "file /content/datasets/drive_256_256_dice_loss_0_4__0_4_1//predictions_np/_08_test_4.npy\n",
            "08_test 4\n",
            "file /content/datasets/drive_256_256_dice_loss_0_4__0_4_1//predictions_np/_02_test_8.npy\n",
            "02_test 8\n",
            "file /content/datasets/drive_256_256_dice_loss_0_4__0_4_1//predictions_np/_19_test_4.npy\n",
            "19_test 4\n",
            "file /content/datasets/drive_256_256_dice_loss_0_4__0_4_1//predictions_np/_10_test_7.npy\n",
            "10_test 7\n",
            "file /content/datasets/drive_256_256_dice_loss_0_4__0_4_1//predictions_np/_19_test_3.npy\n",
            "19_test 3\n",
            "file /content/datasets/drive_256_256_dice_loss_0_4__0_4_1//predictions_np/_06_test_6.npy\n",
            "06_test 6\n",
            "file /content/datasets/drive_256_256_dice_loss_0_4__0_4_1//predictions_np/_19_test_7.npy\n",
            "19_test 7\n",
            "file /content/datasets/drive_256_256_dice_loss_0_4__0_4_1//predictions_np/_11_test_0.npy\n",
            "11_test 0\n",
            "file /content/datasets/drive_256_256_dice_loss_0_4__0_4_1//predictions_np/_08_test_8.npy\n",
            "08_test 8\n",
            "file /content/datasets/drive_256_256_dice_loss_0_4__0_4_1//predictions_np/_04_test_1.npy\n",
            "04_test 1\n",
            "file /content/datasets/drive_256_256_dice_loss_0_4__0_4_1//predictions_np/_12_test_6.npy\n",
            "12_test 6\n",
            "file /content/datasets/drive_256_256_dice_loss_0_4__0_4_1//predictions_np/_11_test_3.npy\n",
            "11_test 3\n",
            "file /content/datasets/drive_256_256_dice_loss_0_4__0_4_1//predictions_np/_04_test_3.npy\n",
            "04_test 3\n",
            "file /content/datasets/drive_256_256_dice_loss_0_4__0_4_1//predictions_np/_12_test_4.npy\n",
            "12_test 4\n",
            "file /content/datasets/drive_256_256_dice_loss_0_4__0_4_1//predictions_np/_10_test_6.npy\n",
            "10_test 6\n",
            "file /content/datasets/drive_256_256_dice_loss_0_4__0_4_1//predictions_np/_05_test_8.npy\n",
            "05_test 8\n",
            "file /content/datasets/drive_256_256_dice_loss_0_4__0_4_1//predictions_np/_06_test_0.npy\n",
            "06_test 0\n",
            "file /content/datasets/drive_256_256_dice_loss_0_4__0_4_1//predictions_np/_04_test_4.npy\n",
            "04_test 4\n",
            "file /content/datasets/drive_256_256_dice_loss_0_4__0_4_1//predictions_np/_13_test_3.npy\n",
            "13_test 3\n",
            "file /content/datasets/drive_256_256_dice_loss_0_4__0_4_1//predictions_np/_07_test_2.npy\n",
            "07_test 2\n",
            "file /content/datasets/drive_256_256_dice_loss_0_4__0_4_1//predictions_np/_10_test_2.npy\n",
            "10_test 2\n",
            "file /content/datasets/drive_256_256_dice_loss_0_4__0_4_1//predictions_np/_16_test_4.npy\n",
            "16_test 4\n",
            "file /content/datasets/drive_256_256_dice_loss_0_4__0_4_1//predictions_np/_01_test_2.npy\n",
            "01_test 2\n",
            "file /content/datasets/drive_256_256_dice_loss_0_4__0_4_1//predictions_np/_17_test_6.npy\n",
            "17_test 6\n",
            "file /content/datasets/drive_256_256_dice_loss_0_4__0_4_1//predictions_np/_07_test_1.npy\n",
            "07_test 1\n",
            "file /content/datasets/drive_256_256_dice_loss_0_4__0_4_1//predictions_np/_03_test_7.npy\n",
            "03_test 7\n",
            "file /content/datasets/drive_256_256_dice_loss_0_4__0_4_1//predictions_np/_01_test_6.npy\n",
            "01_test 6\n",
            "file /content/datasets/drive_256_256_dice_loss_0_4__0_4_1//predictions_np/_15_test_0.npy\n",
            "15_test 0\n",
            "file /content/datasets/drive_256_256_dice_loss_0_4__0_4_1//predictions_np/_13_test_1.npy\n",
            "13_test 1\n",
            "file /content/datasets/drive_256_256_dice_loss_0_4__0_4_1//predictions_np/_18_test_0.npy\n",
            "18_test 0\n",
            "file /content/datasets/drive_256_256_dice_loss_0_4__0_4_1//predictions_np/_18_test_5.npy\n",
            "18_test 5\n",
            "file /content/datasets/drive_256_256_dice_loss_0_4__0_4_1//predictions_np/_17_test_7.npy\n",
            "17_test 7\n",
            "file /content/datasets/drive_256_256_dice_loss_0_4__0_4_1//predictions_np/_09_test_5.npy\n",
            "09_test 5\n",
            "file /content/datasets/drive_256_256_dice_loss_0_4__0_4_1//predictions_np/_09_test_3.npy\n",
            "09_test 3\n",
            "file /content/datasets/drive_256_256_dice_loss_0_4__0_4_1//predictions_np/_07_test_8.npy\n",
            "07_test 8\n",
            "file /content/datasets/drive_256_256_dice_loss_0_4__0_4_1//predictions_np/_06_test_1.npy\n",
            "06_test 1\n",
            "file /content/datasets/drive_256_256_dice_loss_0_4__0_4_1//predictions_np/_05_test_7.npy\n",
            "05_test 7\n",
            "file /content/datasets/drive_256_256_dice_loss_0_4__0_4_1//predictions_np/_14_test_0.npy\n",
            "14_test 0\n",
            "file /content/datasets/drive_256_256_dice_loss_0_4__0_4_1//predictions_np/_03_test_3.npy\n",
            "03_test 3\n",
            "file /content/datasets/drive_256_256_dice_loss_0_4__0_4_1//predictions_np/_05_test_2.npy\n",
            "05_test 2\n",
            "file /content/datasets/drive_256_256_dice_loss_0_4__0_4_1//predictions_np/_18_test_6.npy\n",
            "18_test 6\n",
            "file /content/datasets/drive_256_256_dice_loss_0_4__0_4_1//predictions_np/_19_test_8.npy\n",
            "19_test 8\n",
            "file /content/datasets/drive_256_256_dice_loss_0_4__0_4_1//predictions_np/_18_test_8.npy\n",
            "18_test 8\n",
            "file /content/datasets/drive_256_256_dice_loss_0_4__0_4_1//predictions_np/_13_test_5.npy\n",
            "13_test 5\n",
            "file /content/datasets/drive_256_256_dice_loss_0_4__0_4_1//predictions_np/_05_test_6.npy\n",
            "05_test 6\n",
            "file /content/datasets/drive_256_256_dice_loss_0_4__0_4_1//predictions_np/_04_test_7.npy\n",
            "04_test 7\n",
            "file /content/datasets/drive_256_256_dice_loss_0_4__0_4_1//predictions_np/_13_test_4.npy\n",
            "13_test 4\n",
            "file /content/datasets/drive_256_256_dice_loss_0_4__0_4_1//predictions_np/_08_test_6.npy\n",
            "08_test 6\n",
            "file /content/datasets/drive_256_256_dice_loss_0_4__0_4_1//predictions_np/_16_test_3.npy\n",
            "16_test 3\n",
            "file /content/datasets/drive_256_256_dice_loss_0_4__0_4_1//predictions_np/_08_test_1.npy\n",
            "08_test 1\n",
            "file /content/datasets/drive_256_256_dice_loss_0_4__0_4_1//predictions_np/_01_test_3.npy\n",
            "01_test 3\n",
            "file /content/datasets/drive_256_256_dice_loss_0_4__0_4_1//predictions_np/_16_test_7.npy\n",
            "16_test 7\n",
            "file /content/datasets/drive_256_256_dice_loss_0_4__0_4_1//predictions_np/_15_test_1.npy\n",
            "15_test 1\n",
            "file /content/datasets/drive_256_256_dice_loss_0_4__0_4_1//predictions_np/_16_test_0.npy\n",
            "16_test 0\n",
            "file /content/datasets/drive_256_256_dice_loss_0_4__0_4_1//predictions_np/_12_test_2.npy\n",
            "12_test 2\n",
            "file /content/datasets/drive_256_256_dice_loss_0_4__0_4_1//predictions_np/_17_test_2.npy\n",
            "17_test 2\n",
            "file /content/datasets/drive_256_256_dice_loss_0_4__0_4_1//predictions_np/_12_test_3.npy\n",
            "12_test 3\n",
            "file /content/datasets/drive_256_256_dice_loss_0_4__0_4_1//predictions_np/_19_test_1.npy\n",
            "19_test 1\n",
            "file /content/datasets/drive_256_256_dice_loss_0_4__0_4_1//predictions_np/_15_test_7.npy\n",
            "15_test 7\n",
            "file /content/datasets/drive_256_256_dice_loss_0_4__0_4_1//predictions_np/_05_test_0.npy\n",
            "05_test 0\n",
            "file /content/datasets/drive_256_256_dice_loss_0_4__0_4_1//predictions_np/_19_test_2.npy\n",
            "19_test 2\n",
            "file /content/datasets/drive_256_256_dice_loss_0_4__0_4_1//predictions_np/_02_test_3.npy\n",
            "02_test 3\n",
            "file /content/datasets/drive_256_256_dice_loss_0_4__0_4_1//predictions_np/_17_test_0.npy\n",
            "17_test 0\n",
            "file /content/datasets/drive_256_256_dice_loss_0_4__0_4_1//predictions_np/_04_test_0.npy\n",
            "04_test 0\n",
            "file /content/datasets/drive_256_256_dice_loss_0_4__0_4_1//predictions_np/_20_test_2.npy\n",
            "20_test 2\n",
            "file /content/datasets/drive_256_256_dice_loss_0_4__0_4_1//predictions_np/_02_test_5.npy\n",
            "02_test 5\n",
            "file /content/datasets/drive_256_256_dice_loss_0_4__0_4_1//predictions_np/_14_test_6.npy\n",
            "14_test 6\n",
            "file /content/datasets/drive_256_256_dice_loss_0_4__0_4_1//predictions_np/_17_test_3.npy\n",
            "17_test 3\n",
            "file /content/datasets/drive_256_256_dice_loss_0_4__0_4_1//predictions_np/_06_test_3.npy\n",
            "06_test 3\n",
            "file /content/datasets/drive_256_256_dice_loss_0_4__0_4_1//predictions_np/_18_test_7.npy\n",
            "18_test 7\n",
            "file /content/datasets/drive_256_256_dice_loss_0_4__0_4_1//predictions_np/_20_test_1.npy\n",
            "20_test 1\n",
            "file /content/datasets/drive_256_256_dice_loss_0_4__0_4_1//predictions_np/_07_test_4.npy\n",
            "07_test 4\n",
            "file /content/datasets/drive_256_256_dice_loss_0_4__0_4_1//predictions_np/_16_test_5.npy\n",
            "16_test 5\n",
            "file /content/datasets/drive_256_256_dice_loss_0_4__0_4_1//predictions_np/_14_test_5.npy\n",
            "14_test 5\n",
            "file /content/datasets/drive_256_256_dice_loss_0_4__0_4_1//predictions_np/_20_test_3.npy\n",
            "20_test 3\n",
            "file /content/datasets/drive_256_256_dice_loss_0_4__0_4_1//predictions_np/_02_test_2.npy\n",
            "02_test 2\n",
            "file /content/datasets/drive_256_256_dice_loss_0_4__0_4_1//predictions_np/_02_test_7.npy\n",
            "02_test 7\n",
            "file /content/datasets/drive_256_256_dice_loss_0_4__0_4_1//predictions_np/_11_test_2.npy\n",
            "11_test 2\n",
            "file /content/datasets/drive_256_256_dice_loss_0_4__0_4_1//predictions_np/_18_test_2.npy\n",
            "18_test 2\n",
            "file /content/datasets/drive_256_256_dice_loss_0_4__0_4_1//predictions_np/_06_test_5.npy\n",
            "06_test 5\n",
            "file /content/datasets/drive_256_256_dice_loss_0_4__0_4_1//predictions_np/_12_test_8.npy\n",
            "12_test 8\n",
            "file /content/datasets/drive_256_256_dice_loss_0_4__0_4_1//predictions_np/_06_test_8.npy\n",
            "06_test 8\n",
            "file /content/datasets/drive_256_256_dice_loss_0_4__0_4_1//predictions_np/_09_test_4.npy\n",
            "09_test 4\n",
            "file /content/datasets/drive_256_256_dice_loss_0_4__0_4_1//predictions_np/_03_test_4.npy\n",
            "03_test 4\n",
            "file /content/datasets/drive_256_256_dice_loss_0_4__0_4_1//predictions_np/_13_test_6.npy\n",
            "13_test 6\n",
            "file /content/datasets/drive_256_256_dice_loss_0_4__0_4_1//predictions_np/_20_test_5.npy\n",
            "20_test 5\n",
            "file /content/datasets/drive_256_256_dice_loss_0_4__0_4_1//predictions_np/_20_test_4.npy\n",
            "20_test 4\n",
            "file /content/datasets/drive_256_256_dice_loss_0_4__0_4_1//predictions_np/_04_test_6.npy\n",
            "04_test 6\n",
            "file /content/datasets/drive_256_256_dice_loss_0_4__0_4_1//predictions_np/_17_test_4.npy\n",
            "17_test 4\n",
            "file /content/datasets/drive_256_256_dice_loss_0_4__0_4_1//predictions_np/_11_test_1.npy\n",
            "11_test 1\n",
            "file /content/datasets/drive_256_256_dice_loss_0_4__0_4_1//predictions_np/_08_test_3.npy\n",
            "08_test 3\n",
            "file /content/datasets/drive_256_256_dice_loss_0_4__0_4_1//predictions_np/_14_test_2.npy\n",
            "14_test 2\n",
            "file /content/datasets/drive_256_256_dice_loss_0_4__0_4_1//predictions_np/_01_test_5.npy\n",
            "01_test 5\n",
            "file /content/datasets/drive_256_256_dice_loss_0_4__0_4_1//predictions_np/_04_test_2.npy\n",
            "04_test 2\n",
            "file /content/datasets/drive_256_256_dice_loss_0_4__0_4_1//predictions_np/_08_test_5.npy\n",
            "08_test 5\n",
            "file /content/datasets/drive_256_256_dice_loss_0_4__0_4_1//predictions_np/_18_test_4.npy\n",
            "18_test 4\n",
            "file /content/datasets/drive_256_256_dice_loss_0_4__0_4_1//predictions_np/_16_test_1.npy\n",
            "16_test 1\n",
            "file /content/datasets/drive_256_256_dice_loss_0_4__0_4_1//predictions_np/_16_test_6.npy\n",
            "16_test 6\n",
            "file /content/datasets/drive_256_256_dice_loss_0_4__0_4_1//predictions_np/_05_test_1.npy\n",
            "05_test 1\n",
            "file /content/datasets/drive_256_256_dice_loss_0_4__0_4_1//predictions_np/_05_test_3.npy\n",
            "05_test 3\n",
            "file /content/datasets/drive_256_256_dice_loss_0_4__0_4_1//predictions_np/_12_test_7.npy\n",
            "12_test 7\n",
            "file /content/datasets/drive_256_256_dice_loss_0_4__0_4_1//predictions_np/_10_test_0.npy\n",
            "10_test 0\n",
            "file /content/datasets/drive_256_256_dice_loss_0_4__0_4_1//predictions_np/_10_test_3.npy\n",
            "10_test 3\n",
            "file /content/datasets/drive_256_256_dice_loss_0_4__0_4_1//predictions_np/_10_test_4.npy\n",
            "10_test 4\n",
            "file /content/datasets/drive_256_256_dice_loss_0_4__0_4_1//predictions_np/_01_test_4.npy\n",
            "01_test 4\n",
            "file /content/datasets/drive_256_256_dice_loss_0_4__0_4_1//predictions_np/_15_test_4.npy\n",
            "15_test 4\n",
            "file /content/datasets/drive_256_256_dice_loss_0_4__0_4_1//predictions_np/_03_test_8.npy\n",
            "03_test 8\n",
            "file /content/datasets/drive_256_256_dice_loss_0_4__0_4_1//predictions_np/_09_test_1.npy\n",
            "09_test 1\n",
            "file /content/datasets/drive_256_256_dice_loss_0_4__0_4_1//predictions_np/_05_test_5.npy\n",
            "05_test 5\n",
            "file /content/datasets/drive_256_256_dice_loss_0_4__0_4_1//predictions_np/_10_test_5.npy\n",
            "10_test 5\n",
            "file /content/datasets/drive_256_256_dice_loss_0_4__0_4_1//predictions_np/_12_test_5.npy\n",
            "12_test 5\n",
            "file /content/datasets/drive_256_256_dice_loss_0_4__0_4_1//predictions_np/_14_test_3.npy\n",
            "14_test 3\n",
            "file /content/datasets/drive_256_256_dice_loss_0_4__0_4_1//predictions_np/_16_test_8.npy\n",
            "16_test 8\n",
            "file /content/datasets/drive_256_256_dice_loss_0_4__0_4_1//predictions_np/_15_test_6.npy\n",
            "15_test 6\n",
            "file /content/datasets/drive_256_256_dice_loss_0_4__0_4_1//predictions_np/_03_test_2.npy\n",
            "03_test 2\n",
            "file /content/datasets/drive_256_256_dice_loss_0_4__0_4_1//predictions_np/_18_test_1.npy\n",
            "18_test 1\n",
            "file /content/datasets/drive_256_256_dice_loss_0_4__0_4_1//predictions_np/_13_test_8.npy\n",
            "13_test 8\n",
            "file /content/datasets/drive_256_256_dice_loss_0_4__0_4_1//predictions_np/_14_test_7.npy\n",
            "14_test 7\n",
            "file /content/datasets/drive_256_256_dice_loss_0_4__0_4_1//predictions_np/_02_test_0.npy\n",
            "02_test 0\n",
            "file /content/datasets/drive_256_256_dice_loss_0_4__0_4_1//predictions_np/_01_test_0.npy\n",
            "01_test 0\n",
            "file /content/datasets/drive_256_256_dice_loss_0_4__0_4_1//predictions_np/_18_test_3.npy\n",
            "18_test 3\n",
            "file /content/datasets/drive_256_256_dice_loss_0_4__0_4_1//predictions_np/_04_test_5.npy\n",
            "04_test 5\n",
            "file /content/datasets/drive_256_256_dice_loss_0_4__0_4_1//predictions_np/_04_test_8.npy\n",
            "04_test 8\n",
            "file /content/datasets/drive_256_256_dice_loss_0_4__0_4_1//predictions_np/_08_test_0.npy\n",
            "08_test 0\n",
            "file /content/datasets/drive_256_256_dice_loss_0_4__0_4_1//predictions_np/_19_test_5.npy\n",
            "19_test 5\n",
            "file /content/datasets/drive_256_256_dice_loss_0_4__0_4_1//predictions_np/_07_test_6.npy\n",
            "07_test 6\n",
            "file /content/datasets/drive_256_256_dice_loss_0_4__0_4_1//predictions_np/_07_test_5.npy\n",
            "07_test 5\n",
            "file /content/datasets/drive_256_256_dice_loss_0_4__0_4_1//predictions_np/_17_test_5.npy\n",
            "17_test 5\n",
            "file /content/datasets/drive_256_256_dice_loss_0_4__0_4_1//predictions_np/_09_test_7.npy\n",
            "09_test 7\n",
            "file /content/datasets/drive_256_256_dice_loss_0_4__0_4_1//predictions_np/_19_test_0.npy\n",
            "19_test 0\n"
          ]
        }
      ]
    },
    {
      "cell_type": "code",
      "source": [
        "reconstructed_predictions_path = f\"{data_path}/{split_name}/reconstructed/{split}/predictions_reconstructed\"\n",
        "create_dir(reconstructed_predictions_path)\n",
        "reconstruct_patches(predicted_patches_dict,\n",
        "                    metadata_test_df,\n",
        "                    reconstructed_predictions_path,\n",
        "                    mfactor=255\n",
        "                    )\n"
      ],
      "metadata": {
        "id": "2kB-A6HbLNsv"
      },
      "execution_count": null,
      "outputs": []
    },
    {
      "cell_type": "code",
      "source": [
        "!pwd"
      ],
      "metadata": {
        "id": "z_uMeATOLyQP",
        "colab": {
          "base_uri": "https://localhost:8080/"
        },
        "outputId": "0b3c8d46-7d69-4746-89aa-e0ad93d97e78"
      },
      "execution_count": null,
      "outputs": [
        {
          "output_type": "stream",
          "name": "stdout",
          "text": [
            "/content/datasets\n"
          ]
        }
      ]
    },
    {
      "cell_type": "code",
      "source": [
        "def read_mask(path):\n",
        "    print(path)\n",
        "    x = cv2.imread(path, cv2.IMREAD_GRAYSCALE)  ## (512, 512)\n",
        "    # x = cv2.resize(x, (W, H))\n",
        "    ori_x = x\n",
        "    x = x/255.0\n",
        "#    x = x.astype(np.int32)\n",
        "    return ori_x, x"
      ],
      "metadata": {
        "id": "2OzcJGOQg4Dy"
      },
      "execution_count": null,
      "outputs": []
    },
    {
      "cell_type": "code",
      "source": [
        "def save_results(ori_x, ori_y, y_pred, save_image_path):\n",
        "    line = np.ones((ori_x.shape[0], 10, 3)) * 255\n",
        "\n",
        "    ori_y = np.expand_dims(ori_y, axis=-1)\n",
        "    ori_y = np.concatenate([ori_y, ori_y, ori_y], axis=-1)\n",
        "\n",
        "    y_pred = np.expand_dims(y_pred, axis=-1)\n",
        "    y_pred = np.concatenate([y_pred, y_pred, y_pred], axis=-1) * 255\n",
        "\n",
        "    cat_images = np.concatenate([ori_x, line, ori_y, line, y_pred], axis=1)\n",
        "    print(f\"Saving image of size {cat_images.shape} to {save_image_path}\")\n",
        "    cv2.imwrite(save_image_path, cat_images)"
      ],
      "metadata": {
        "id": "M5ILDoicjTef"
      },
      "execution_count": null,
      "outputs": []
    },
    {
      "cell_type": "code",
      "source": [
        "results_path_reconstructed = f\"{root_path}/results_reconstructed/\"\n",
        "create_dir(results_path_reconstructed)"
      ],
      "metadata": {
        "id": "bS5LTt4QXwQi"
      },
      "execution_count": null,
      "outputs": []
    },
    {
      "cell_type": "code",
      "source": [
        "from glob import glob"
      ],
      "metadata": {
        "id": "6sKjdzsaNloF"
      },
      "execution_count": null,
      "outputs": []
    },
    {
      "cell_type": "code",
      "source": [
        "dataset_path = f\"{root_path}/{split_name}/{split}/\"\n",
        "df_0_4, score_0_4 = compute_metrics(dataset_path,\n",
        "                    results_path=results_path,\n",
        "                    threshold=0.4,\n",
        "                    model=model,\n",
        "                    predictions_path=prediction_path,\n",
        "                    prediction_np_path=prediction_np_path)"
      ],
      "metadata": {
        "id": "_iqapJ3ITb7l",
        "colab": {
          "base_uri": "https://localhost:8080/"
        },
        "outputId": "79cd38e6-06e7-4545-bbc0-0035af4ab734"
      },
      "execution_count": null,
      "outputs": [
        {
          "output_type": "stream",
          "name": "stdout",
          "text": [
            "Threshold 0.4\n"
          ]
        },
        {
          "output_type": "stream",
          "name": "stderr",
          "text": [
            "\r  0%|          | 0/180 [00:00<?, ?it/s]"
          ]
        },
        {
          "output_type": "stream",
          "name": "stdout",
          "text": [
            "_01_test_0\n",
            "(256, 256, 1) 1.0 0.0025882502\n",
            "(256, 256, 3) (256, 256) (256, 256)\n"
          ]
        },
        {
          "output_type": "stream",
          "name": "stderr",
          "text": [
            "\r  1%|          | 1/180 [00:00<00:30,  5.96it/s]"
          ]
        },
        {
          "output_type": "stream",
          "name": "stdout",
          "text": [
            "_01_test_1\n"
          ]
        },
        {
          "output_type": "stream",
          "name": "stderr",
          "text": [
            "\r  1%|          | 2/180 [00:00<00:29,  5.97it/s]"
          ]
        },
        {
          "output_type": "stream",
          "name": "stdout",
          "text": [
            "(256, 256, 1) 1.0 0.0022920095\n",
            "(256, 256, 3) (256, 256) (256, 256)\n",
            "_01_test_2\n",
            "(256, 256, 1) 0.99999845 0.004140294\n",
            "(256, 256, 3) (256, 256) (256, 256)\n"
          ]
        },
        {
          "output_type": "stream",
          "name": "stderr",
          "text": [
            "\r  2%|▏         | 3/180 [00:00<00:29,  5.99it/s]"
          ]
        },
        {
          "output_type": "stream",
          "name": "stdout",
          "text": [
            "_01_test_3\n",
            "(256, 256, 1) 1.0 4.9007016e-05\n",
            "(256, 256, 3) (256, 256) (256, 256)\n"
          ]
        },
        {
          "output_type": "stream",
          "name": "stderr",
          "text": [
            "\r  2%|▏         | 4/180 [00:00<00:29,  5.90it/s]"
          ]
        },
        {
          "output_type": "stream",
          "name": "stdout",
          "text": [
            "_01_test_4\n"
          ]
        },
        {
          "output_type": "stream",
          "name": "stderr",
          "text": [
            "\r  3%|▎         | 5/180 [00:00<00:29,  5.86it/s]"
          ]
        },
        {
          "output_type": "stream",
          "name": "stdout",
          "text": [
            "(256, 256, 1) 1.0 0.00199335\n",
            "(256, 256, 3) (256, 256) (256, 256)\n",
            "_01_test_5\n",
            "(256, 256, 1) 1.0 0.0025497032\n",
            "(256, 256, 3) (256, 256) (256, 256)\n"
          ]
        },
        {
          "output_type": "stream",
          "name": "stderr",
          "text": [
            "\r  3%|▎         | 6/180 [00:01<00:29,  5.90it/s]"
          ]
        },
        {
          "output_type": "stream",
          "name": "stdout",
          "text": [
            "_01_test_6\n",
            "(256, 256, 1) 0.99993336 0.0027987852\n",
            "(256, 256, 3) (256, 256) (256, 256)\n"
          ]
        },
        {
          "output_type": "stream",
          "name": "stderr",
          "text": [
            "\r  4%|▍         | 7/180 [00:01<00:28,  5.99it/s]"
          ]
        },
        {
          "output_type": "stream",
          "name": "stdout",
          "text": [
            "_01_test_7\n"
          ]
        },
        {
          "output_type": "stream",
          "name": "stderr",
          "text": [
            "\r  4%|▍         | 8/180 [00:01<00:29,  5.88it/s]"
          ]
        },
        {
          "output_type": "stream",
          "name": "stdout",
          "text": [
            "(256, 256, 1) 1.0 0.0015685322\n",
            "(256, 256, 3) (256, 256) (256, 256)\n",
            "_01_test_8\n",
            "(256, 256, 1) 1.0 0.0023256538\n",
            "(256, 256, 3) (256, 256) (256, 256)\n"
          ]
        },
        {
          "output_type": "stream",
          "name": "stderr",
          "text": [
            "\r  5%|▌         | 9/180 [00:01<00:28,  5.92it/s]"
          ]
        },
        {
          "output_type": "stream",
          "name": "stdout",
          "text": [
            "_02_test_0\n",
            "(256, 256, 1) 1.0 0.0017326708\n",
            "(256, 256, 3) (256, 256) (256, 256)\n"
          ]
        },
        {
          "output_type": "stream",
          "name": "stderr",
          "text": [
            "\r  6%|▌         | 10/180 [00:01<00:28,  5.96it/s]"
          ]
        },
        {
          "output_type": "stream",
          "name": "stdout",
          "text": [
            "_02_test_1\n"
          ]
        },
        {
          "output_type": "stream",
          "name": "stderr",
          "text": [
            "\r  6%|▌         | 11/180 [00:01<00:28,  5.99it/s]"
          ]
        },
        {
          "output_type": "stream",
          "name": "stdout",
          "text": [
            "(256, 256, 1) 1.0 0.0015636651\n",
            "(256, 256, 3) (256, 256) (256, 256)\n",
            "_02_test_2\n",
            "(256, 256, 1) 1.0 0.0027573523\n",
            "(256, 256, 3) (256, 256) (256, 256)\n"
          ]
        },
        {
          "output_type": "stream",
          "name": "stderr",
          "text": [
            "\r  7%|▋         | 12/180 [00:02<00:27,  6.06it/s]"
          ]
        },
        {
          "output_type": "stream",
          "name": "stdout",
          "text": [
            "_02_test_3\n",
            "(256, 256, 1) 1.0 0.0012589559\n",
            "(256, 256, 3) (256, 256) (256, 256)\n"
          ]
        },
        {
          "output_type": "stream",
          "name": "stderr",
          "text": [
            "\r  7%|▋         | 13/180 [00:02<00:27,  6.01it/s]"
          ]
        },
        {
          "output_type": "stream",
          "name": "stdout",
          "text": [
            "_02_test_4\n"
          ]
        },
        {
          "output_type": "stream",
          "name": "stderr",
          "text": [
            "\r  8%|▊         | 14/180 [00:02<00:27,  5.94it/s]"
          ]
        },
        {
          "output_type": "stream",
          "name": "stdout",
          "text": [
            "(256, 256, 1) 1.0 0.0016235481\n",
            "(256, 256, 3) (256, 256) (256, 256)\n",
            "_02_test_5\n",
            "(256, 256, 1) 1.0 2.0463943e-08\n",
            "(256, 256, 3) (256, 256) (256, 256)\n"
          ]
        },
        {
          "output_type": "stream",
          "name": "stderr",
          "text": [
            "\r  8%|▊         | 15/180 [00:02<00:27,  5.92it/s]"
          ]
        },
        {
          "output_type": "stream",
          "name": "stdout",
          "text": [
            "_02_test_6\n",
            "(256, 256, 1) 1.0 0.0027982485\n",
            "(256, 256, 3) (256, 256) (256, 256)\n"
          ]
        },
        {
          "output_type": "stream",
          "name": "stderr",
          "text": [
            "\r  9%|▉         | 16/180 [00:02<00:27,  5.96it/s]"
          ]
        },
        {
          "output_type": "stream",
          "name": "stdout",
          "text": [
            "_02_test_7\n"
          ]
        },
        {
          "output_type": "stream",
          "name": "stderr",
          "text": [
            "\r  9%|▉         | 17/180 [00:02<00:27,  5.86it/s]"
          ]
        },
        {
          "output_type": "stream",
          "name": "stdout",
          "text": [
            "(256, 256, 1) 1.0 0.0025049509\n",
            "(256, 256, 3) (256, 256) (256, 256)\n",
            "_02_test_8\n",
            "(256, 256, 1) 1.0 0.0021005804\n",
            "(256, 256, 3) (256, 256) (256, 256)\n"
          ]
        },
        {
          "output_type": "stream",
          "name": "stderr",
          "text": [
            "\r 10%|█         | 18/180 [00:03<00:27,  5.88it/s]"
          ]
        },
        {
          "output_type": "stream",
          "name": "stdout",
          "text": [
            "_03_test_0\n",
            "(256, 256, 1) 0.999987 0.003113981\n",
            "(256, 256, 3) (256, 256) (256, 256)\n"
          ]
        },
        {
          "output_type": "stream",
          "name": "stderr",
          "text": [
            "\r 11%|█         | 19/180 [00:03<00:27,  5.91it/s]"
          ]
        },
        {
          "output_type": "stream",
          "name": "stdout",
          "text": [
            "_03_test_1\n"
          ]
        },
        {
          "output_type": "stream",
          "name": "stderr",
          "text": [
            "\r 11%|█         | 20/180 [00:03<00:27,  5.91it/s]"
          ]
        },
        {
          "output_type": "stream",
          "name": "stdout",
          "text": [
            "(256, 256, 1) 0.9999999 0.00279378\n",
            "(256, 256, 3) (256, 256) (256, 256)\n",
            "_03_test_2\n",
            "(256, 256, 1) 0.99997497 0.0028824755\n",
            "(256, 256, 3) (256, 256) (256, 256)\n"
          ]
        },
        {
          "output_type": "stream",
          "name": "stderr",
          "text": [
            "\r 12%|█▏        | 21/180 [00:03<00:26,  5.92it/s]"
          ]
        },
        {
          "output_type": "stream",
          "name": "stdout",
          "text": [
            "_03_test_3\n",
            "(256, 256, 1) 1.0 0.0027640553\n",
            "(256, 256, 3) (256, 256) (256, 256)\n"
          ]
        },
        {
          "output_type": "stream",
          "name": "stderr",
          "text": [
            "\r 12%|█▏        | 22/180 [00:03<00:26,  5.91it/s]"
          ]
        },
        {
          "output_type": "stream",
          "name": "stdout",
          "text": [
            "_03_test_4\n"
          ]
        },
        {
          "output_type": "stream",
          "name": "stderr",
          "text": [
            "\r 13%|█▎        | 23/180 [00:03<00:26,  5.84it/s]"
          ]
        },
        {
          "output_type": "stream",
          "name": "stdout",
          "text": [
            "(256, 256, 1) 0.9999994 0.001618069\n",
            "(256, 256, 3) (256, 256) (256, 256)\n",
            "_03_test_5\n",
            "(256, 256, 1) 0.99999964 0.00315936\n",
            "(256, 256, 3) (256, 256) (256, 256)\n"
          ]
        },
        {
          "output_type": "stream",
          "name": "stderr",
          "text": [
            "\r 13%|█▎        | 24/180 [00:04<00:26,  5.80it/s]"
          ]
        },
        {
          "output_type": "stream",
          "name": "stdout",
          "text": [
            "_03_test_6\n",
            "(256, 256, 1) 0.9999989 0.0031063007\n",
            "(256, 256, 3) (256, 256) (256, 256)\n"
          ]
        },
        {
          "output_type": "stream",
          "name": "stderr",
          "text": [
            "\r 14%|█▍        | 25/180 [00:04<00:26,  5.89it/s]"
          ]
        },
        {
          "output_type": "stream",
          "name": "stdout",
          "text": [
            "_03_test_7\n"
          ]
        },
        {
          "output_type": "stream",
          "name": "stderr",
          "text": [
            "\r 14%|█▍        | 26/180 [00:04<00:26,  5.90it/s]"
          ]
        },
        {
          "output_type": "stream",
          "name": "stdout",
          "text": [
            "(256, 256, 1) 1.0 0.0017462524\n",
            "(256, 256, 3) (256, 256) (256, 256)\n",
            "_03_test_8\n",
            "(256, 256, 1) 1.0 0.002499135\n",
            "(256, 256, 3) (256, 256) (256, 256)\n"
          ]
        },
        {
          "output_type": "stream",
          "name": "stderr",
          "text": [
            "\r 15%|█▌        | 27/180 [00:04<00:25,  5.99it/s]"
          ]
        },
        {
          "output_type": "stream",
          "name": "stdout",
          "text": [
            "_04_test_0\n",
            "(256, 256, 1) 1.0 0.0015805607\n",
            "(256, 256, 3) (256, 256) (256, 256)\n"
          ]
        },
        {
          "output_type": "stream",
          "name": "stderr",
          "text": [
            "\r 16%|█▌        | 28/180 [00:04<00:25,  6.01it/s]"
          ]
        },
        {
          "output_type": "stream",
          "name": "stdout",
          "text": [
            "_04_test_1\n"
          ]
        },
        {
          "output_type": "stream",
          "name": "stderr",
          "text": [
            "\r 16%|█▌        | 29/180 [00:04<00:25,  6.00it/s]"
          ]
        },
        {
          "output_type": "stream",
          "name": "stdout",
          "text": [
            "(256, 256, 1) 1.0 0.0017972533\n",
            "(256, 256, 3) (256, 256) (256, 256)\n",
            "_04_test_2\n",
            "(256, 256, 1) 1.0 0.0033281487\n",
            "(256, 256, 3) (256, 256) (256, 256)\n"
          ]
        },
        {
          "output_type": "stream",
          "name": "stderr",
          "text": [
            "\r 17%|█▋        | 30/180 [00:05<00:24,  6.03it/s]"
          ]
        },
        {
          "output_type": "stream",
          "name": "stdout",
          "text": [
            "_04_test_3\n",
            "(256, 256, 1) 1.0 0.0014023816\n",
            "(256, 256, 3) (256, 256) (256, 256)\n"
          ]
        },
        {
          "output_type": "stream",
          "name": "stderr",
          "text": [
            "\r 17%|█▋        | 31/180 [00:05<00:24,  6.07it/s]"
          ]
        },
        {
          "output_type": "stream",
          "name": "stdout",
          "text": [
            "_04_test_4\n"
          ]
        },
        {
          "output_type": "stream",
          "name": "stderr",
          "text": [
            "\r 18%|█▊        | 32/180 [00:05<00:24,  6.02it/s]"
          ]
        },
        {
          "output_type": "stream",
          "name": "stdout",
          "text": [
            "(256, 256, 1) 1.0 1.6996693e-06\n",
            "(256, 256, 3) (256, 256) (256, 256)\n",
            "_04_test_5\n",
            "(256, 256, 1) 1.0 0.0023260056\n",
            "(256, 256, 3) (256, 256) (256, 256)\n"
          ]
        },
        {
          "output_type": "stream",
          "name": "stderr",
          "text": [
            "\r 18%|█▊        | 33/180 [00:05<00:24,  6.02it/s]"
          ]
        },
        {
          "output_type": "stream",
          "name": "stdout",
          "text": [
            "_04_test_6\n",
            "(256, 256, 1) 0.99865925 0.003450766\n",
            "(256, 256, 3) (256, 256) (256, 256)\n"
          ]
        },
        {
          "output_type": "stream",
          "name": "stderr",
          "text": [
            "\r 19%|█▉        | 34/180 [00:05<00:24,  6.07it/s]"
          ]
        },
        {
          "output_type": "stream",
          "name": "stdout",
          "text": [
            "_04_test_7\n"
          ]
        },
        {
          "output_type": "stream",
          "name": "stderr",
          "text": [
            "\r 19%|█▉        | 35/180 [00:05<00:24,  5.98it/s]"
          ]
        },
        {
          "output_type": "stream",
          "name": "stdout",
          "text": [
            "(256, 256, 1) 1.0 0.0022568915\n",
            "(256, 256, 3) (256, 256) (256, 256)\n",
            "_04_test_8\n",
            "(256, 256, 1) 1.0 0.0026506784\n",
            "(256, 256, 3) (256, 256) (256, 256)\n"
          ]
        },
        {
          "output_type": "stream",
          "name": "stderr",
          "text": [
            "\r 20%|██        | 36/180 [00:06<00:23,  6.05it/s]"
          ]
        },
        {
          "output_type": "stream",
          "name": "stdout",
          "text": [
            "_05_test_0\n",
            "(256, 256, 1) 0.9999993 0.0032174033\n",
            "(256, 256, 3) (256, 256) (256, 256)\n"
          ]
        },
        {
          "output_type": "stream",
          "name": "stderr",
          "text": [
            "\r 21%|██        | 37/180 [00:06<00:23,  6.08it/s]"
          ]
        },
        {
          "output_type": "stream",
          "name": "stdout",
          "text": [
            "_05_test_1\n"
          ]
        },
        {
          "output_type": "stream",
          "name": "stderr",
          "text": [
            "\r 21%|██        | 38/180 [00:06<00:23,  5.97it/s]"
          ]
        },
        {
          "output_type": "stream",
          "name": "stdout",
          "text": [
            "(256, 256, 1) 1.0 0.0029287224\n",
            "(256, 256, 3) (256, 256) (256, 256)\n",
            "_05_test_2\n",
            "(256, 256, 1) 0.9998399 0.0034696963\n",
            "(256, 256, 3) (256, 256) (256, 256)\n"
          ]
        },
        {
          "output_type": "stream",
          "name": "stderr",
          "text": [
            "\r 22%|██▏       | 39/180 [00:06<00:23,  6.01it/s]"
          ]
        },
        {
          "output_type": "stream",
          "name": "stdout",
          "text": [
            "_05_test_3\n",
            "(256, 256, 1) 1.0 0.00019561034\n",
            "(256, 256, 3) (256, 256) (256, 256)\n"
          ]
        },
        {
          "output_type": "stream",
          "name": "stderr",
          "text": [
            "\r 22%|██▏       | 40/180 [00:06<00:23,  5.99it/s]"
          ]
        },
        {
          "output_type": "stream",
          "name": "stdout",
          "text": [
            "_05_test_4\n"
          ]
        },
        {
          "output_type": "stream",
          "name": "stderr",
          "text": [
            "\r 23%|██▎       | 41/180 [00:06<00:23,  5.84it/s]"
          ]
        },
        {
          "output_type": "stream",
          "name": "stdout",
          "text": [
            "(256, 256, 1) 1.0 0.002820454\n",
            "(256, 256, 3) (256, 256) (256, 256)\n",
            "_05_test_5\n",
            "(256, 256, 1) 1.0 0.0032349436\n",
            "(256, 256, 3) (256, 256) (256, 256)\n"
          ]
        },
        {
          "output_type": "stream",
          "name": "stderr",
          "text": [
            "\r 23%|██▎       | 42/180 [00:07<00:23,  5.85it/s]"
          ]
        },
        {
          "output_type": "stream",
          "name": "stdout",
          "text": [
            "_05_test_6\n",
            "(256, 256, 1) 0.99997807 0.002436326\n",
            "(256, 256, 3) (256, 256) (256, 256)\n"
          ]
        },
        {
          "output_type": "stream",
          "name": "stderr",
          "text": [
            "\r 24%|██▍       | 43/180 [00:07<00:23,  5.91it/s]"
          ]
        },
        {
          "output_type": "stream",
          "name": "stdout",
          "text": [
            "_05_test_7\n"
          ]
        },
        {
          "output_type": "stream",
          "name": "stderr",
          "text": [
            "\r 24%|██▍       | 44/180 [00:07<00:22,  5.92it/s]"
          ]
        },
        {
          "output_type": "stream",
          "name": "stdout",
          "text": [
            "(256, 256, 1) 1.0 0.0024895654\n",
            "(256, 256, 3) (256, 256) (256, 256)\n",
            "_05_test_8\n",
            "(256, 256, 1) 0.9999894 0.0026601015\n",
            "(256, 256, 3) (256, 256) (256, 256)\n"
          ]
        },
        {
          "output_type": "stream",
          "name": "stderr",
          "text": [
            "\r 25%|██▌       | 45/180 [00:07<00:22,  5.97it/s]"
          ]
        },
        {
          "output_type": "stream",
          "name": "stdout",
          "text": [
            "_06_test_0\n",
            "(256, 256, 1) 0.9999994 0.0027704493\n",
            "(256, 256, 3) (256, 256) (256, 256)\n"
          ]
        },
        {
          "output_type": "stream",
          "name": "stderr",
          "text": [
            "\r 26%|██▌       | 46/180 [00:07<00:22,  6.01it/s]"
          ]
        },
        {
          "output_type": "stream",
          "name": "stdout",
          "text": [
            "_06_test_1\n"
          ]
        },
        {
          "output_type": "stream",
          "name": "stderr",
          "text": [
            "\r 26%|██▌       | 47/180 [00:07<00:22,  5.93it/s]"
          ]
        },
        {
          "output_type": "stream",
          "name": "stdout",
          "text": [
            "(256, 256, 1) 1.0 0.0021634046\n",
            "(256, 256, 3) (256, 256) (256, 256)\n",
            "_06_test_2\n",
            "(256, 256, 1) 0.99999976 0.0032720056\n",
            "(256, 256, 3) (256, 256) (256, 256)\n"
          ]
        },
        {
          "output_type": "stream",
          "name": "stderr",
          "text": [
            "\r 27%|██▋       | 48/180 [00:08<00:22,  5.98it/s]"
          ]
        },
        {
          "output_type": "stream",
          "name": "stdout",
          "text": [
            "_06_test_3\n",
            "(256, 256, 1) 0.9999993 0.0017843796\n",
            "(256, 256, 3) (256, 256) (256, 256)\n"
          ]
        },
        {
          "output_type": "stream",
          "name": "stderr",
          "text": [
            "\r 27%|██▋       | 49/180 [00:08<00:21,  5.97it/s]"
          ]
        },
        {
          "output_type": "stream",
          "name": "stdout",
          "text": [
            "_06_test_4\n"
          ]
        },
        {
          "output_type": "stream",
          "name": "stderr",
          "text": [
            "\r 28%|██▊       | 50/180 [00:08<00:21,  5.93it/s]"
          ]
        },
        {
          "output_type": "stream",
          "name": "stdout",
          "text": [
            "(256, 256, 1) 1.0 0.0019114347\n",
            "(256, 256, 3) (256, 256) (256, 256)\n",
            "_06_test_5\n",
            "(256, 256, 1) 1.0 0.0020355445\n",
            "(256, 256, 3) (256, 256) (256, 256)\n"
          ]
        },
        {
          "output_type": "stream",
          "name": "stderr",
          "text": [
            "\r 28%|██▊       | 51/180 [00:08<00:21,  5.92it/s]"
          ]
        },
        {
          "output_type": "stream",
          "name": "stdout",
          "text": [
            "_06_test_6\n",
            "(256, 256, 1) 0.99995935 0.0018770404\n",
            "(256, 256, 3) (256, 256) (256, 256)\n"
          ]
        },
        {
          "output_type": "stream",
          "name": "stderr",
          "text": [
            "\r 29%|██▉       | 52/180 [00:08<00:21,  6.05it/s]"
          ]
        },
        {
          "output_type": "stream",
          "name": "stdout",
          "text": [
            "_06_test_7\n"
          ]
        },
        {
          "output_type": "stream",
          "name": "stderr",
          "text": [
            "\r 29%|██▉       | 53/180 [00:08<00:21,  6.05it/s]"
          ]
        },
        {
          "output_type": "stream",
          "name": "stdout",
          "text": [
            "(256, 256, 1) 1.0 0.0019055987\n",
            "(256, 256, 3) (256, 256) (256, 256)\n",
            "_06_test_8\n",
            "(256, 256, 1) 1.0 0.0023841339\n",
            "(256, 256, 3) (256, 256) (256, 256)\n"
          ]
        },
        {
          "output_type": "stream",
          "name": "stderr",
          "text": [
            "\r 30%|███       | 54/180 [00:09<00:20,  6.08it/s]"
          ]
        },
        {
          "output_type": "stream",
          "name": "stdout",
          "text": [
            "_07_test_0\n",
            "(256, 256, 1) 1.0 0.0023789417\n",
            "(256, 256, 3) (256, 256) (256, 256)\n"
          ]
        },
        {
          "output_type": "stream",
          "name": "stderr",
          "text": [
            "\r 31%|███       | 55/180 [00:09<00:20,  6.13it/s]"
          ]
        },
        {
          "output_type": "stream",
          "name": "stdout",
          "text": [
            "_07_test_1\n"
          ]
        },
        {
          "output_type": "stream",
          "name": "stderr",
          "text": [
            "\r 31%|███       | 56/180 [00:09<00:20,  6.11it/s]"
          ]
        },
        {
          "output_type": "stream",
          "name": "stdout",
          "text": [
            "(256, 256, 1) 1.0 0.0021393693\n",
            "(256, 256, 3) (256, 256) (256, 256)\n",
            "_07_test_2\n",
            "(256, 256, 1) 0.99999917 0.0022792243\n",
            "(256, 256, 3) (256, 256) (256, 256)\n"
          ]
        },
        {
          "output_type": "stream",
          "name": "stderr",
          "text": [
            "\r 32%|███▏      | 57/180 [00:09<00:20,  5.99it/s]"
          ]
        },
        {
          "output_type": "stream",
          "name": "stdout",
          "text": [
            "_07_test_3\n",
            "(256, 256, 1) 1.0 0.0014066624\n",
            "(256, 256, 3) (256, 256) (256, 256)\n"
          ]
        },
        {
          "output_type": "stream",
          "name": "stderr",
          "text": [
            "\r 32%|███▏      | 58/180 [00:09<00:20,  5.98it/s]"
          ]
        },
        {
          "output_type": "stream",
          "name": "stdout",
          "text": [
            "_07_test_4\n"
          ]
        },
        {
          "output_type": "stream",
          "name": "stderr",
          "text": [
            "\r 33%|███▎      | 59/180 [00:09<00:20,  5.92it/s]"
          ]
        },
        {
          "output_type": "stream",
          "name": "stdout",
          "text": [
            "(256, 256, 1) 1.0 0.002835919\n",
            "(256, 256, 3) (256, 256) (256, 256)\n",
            "_07_test_5\n",
            "(256, 256, 1) 1.0 0.0026752034\n",
            "(256, 256, 3) (256, 256) (256, 256)\n"
          ]
        },
        {
          "output_type": "stream",
          "name": "stderr",
          "text": [
            "\r 33%|███▎      | 60/180 [00:10<00:20,  5.94it/s]"
          ]
        },
        {
          "output_type": "stream",
          "name": "stdout",
          "text": [
            "_07_test_6\n",
            "(256, 256, 1) 0.9999994 0.004050202\n",
            "(256, 256, 3) (256, 256) (256, 256)\n"
          ]
        },
        {
          "output_type": "stream",
          "name": "stderr",
          "text": [
            "\r 34%|███▍      | 61/180 [00:10<00:19,  6.04it/s]"
          ]
        },
        {
          "output_type": "stream",
          "name": "stdout",
          "text": [
            "_07_test_7\n"
          ]
        },
        {
          "output_type": "stream",
          "name": "stderr",
          "text": [
            "\r 34%|███▍      | 62/180 [00:10<00:19,  6.08it/s]"
          ]
        },
        {
          "output_type": "stream",
          "name": "stdout",
          "text": [
            "(256, 256, 1) 1.0 0.002506134\n",
            "(256, 256, 3) (256, 256) (256, 256)\n",
            "_07_test_8\n",
            "(256, 256, 1) 1.0 0.0020653836\n",
            "(256, 256, 3) (256, 256) (256, 256)\n"
          ]
        },
        {
          "output_type": "stream",
          "name": "stderr",
          "text": [
            "\r 35%|███▌      | 63/180 [00:10<00:19,  6.08it/s]"
          ]
        },
        {
          "output_type": "stream",
          "name": "stdout",
          "text": [
            "_08_test_0\n",
            "(256, 256, 1) 1.0 0.0023477906\n",
            "(256, 256, 3) (256, 256) (256, 256)\n"
          ]
        },
        {
          "output_type": "stream",
          "name": "stderr",
          "text": [
            "\r 36%|███▌      | 64/180 [00:10<00:19,  6.09it/s]"
          ]
        },
        {
          "output_type": "stream",
          "name": "stdout",
          "text": [
            "_08_test_1\n"
          ]
        },
        {
          "output_type": "stream",
          "name": "stderr",
          "text": [
            "\r 36%|███▌      | 65/180 [00:10<00:19,  6.03it/s]"
          ]
        },
        {
          "output_type": "stream",
          "name": "stdout",
          "text": [
            "(256, 256, 1) 0.9999999 0.0029832856\n",
            "(256, 256, 3) (256, 256) (256, 256)\n",
            "_08_test_2\n",
            "(256, 256, 1) 0.9999944 0.0034584024\n",
            "(256, 256, 3) (256, 256) (256, 256)\n"
          ]
        },
        {
          "output_type": "stream",
          "name": "stderr",
          "text": [
            "\r 37%|███▋      | 66/180 [00:11<00:18,  6.03it/s]"
          ]
        },
        {
          "output_type": "stream",
          "name": "stdout",
          "text": [
            "_08_test_3\n",
            "(256, 256, 1) 0.99999833 0.0013611367\n",
            "(256, 256, 3) (256, 256) (256, 256)\n"
          ]
        },
        {
          "output_type": "stream",
          "name": "stderr",
          "text": [
            "\r 37%|███▋      | 67/180 [00:11<00:18,  5.95it/s]"
          ]
        },
        {
          "output_type": "stream",
          "name": "stdout",
          "text": [
            "_08_test_4\n"
          ]
        },
        {
          "output_type": "stream",
          "name": "stderr",
          "text": [
            "\r 38%|███▊      | 68/180 [00:11<00:18,  5.93it/s]"
          ]
        },
        {
          "output_type": "stream",
          "name": "stdout",
          "text": [
            "(256, 256, 1) 0.9999993 0.0023621898\n",
            "(256, 256, 3) (256, 256) (256, 256)\n",
            "_08_test_5\n",
            "(256, 256, 1) 1.0 1.8519964e-05\n",
            "(256, 256, 3) (256, 256) (256, 256)\n"
          ]
        },
        {
          "output_type": "stream",
          "name": "stderr",
          "text": [
            "\r 38%|███▊      | 69/180 [00:11<00:18,  5.91it/s]"
          ]
        },
        {
          "output_type": "stream",
          "name": "stdout",
          "text": [
            "_08_test_6\n",
            "(256, 256, 1) 0.9999994 0.0032770077\n",
            "(256, 256, 3) (256, 256) (256, 256)\n"
          ]
        },
        {
          "output_type": "stream",
          "name": "stderr",
          "text": [
            "\r 39%|███▉      | 70/180 [00:11<00:18,  6.00it/s]"
          ]
        },
        {
          "output_type": "stream",
          "name": "stdout",
          "text": [
            "_08_test_7\n"
          ]
        },
        {
          "output_type": "stream",
          "name": "stderr",
          "text": [
            "\r 39%|███▉      | 71/180 [00:11<00:18,  6.05it/s]"
          ]
        },
        {
          "output_type": "stream",
          "name": "stdout",
          "text": [
            "(256, 256, 1) 1.0 0.0031350055\n",
            "(256, 256, 3) (256, 256) (256, 256)\n",
            "_08_test_8\n",
            "(256, 256, 1) 0.99999404 0.0030807687\n",
            "(256, 256, 3) (256, 256) (256, 256)\n"
          ]
        },
        {
          "output_type": "stream",
          "name": "stderr",
          "text": [
            "\r 40%|████      | 72/180 [00:12<00:17,  6.08it/s]"
          ]
        },
        {
          "output_type": "stream",
          "name": "stdout",
          "text": [
            "_09_test_0\n",
            "(256, 256, 1) 1.0 0.0021662826\n",
            "(256, 256, 3) (256, 256) (256, 256)\n"
          ]
        },
        {
          "output_type": "stream",
          "name": "stderr",
          "text": [
            "\r 41%|████      | 73/180 [00:12<00:17,  6.05it/s]"
          ]
        },
        {
          "output_type": "stream",
          "name": "stdout",
          "text": [
            "_09_test_1\n"
          ]
        },
        {
          "output_type": "stream",
          "name": "stderr",
          "text": [
            "\r 41%|████      | 74/180 [00:12<00:17,  5.97it/s]"
          ]
        },
        {
          "output_type": "stream",
          "name": "stdout",
          "text": [
            "(256, 256, 1) 1.0 0.0023590703\n",
            "(256, 256, 3) (256, 256) (256, 256)\n",
            "_09_test_2\n",
            "(256, 256, 1) 0.99907744 0.002876408\n",
            "(256, 256, 3) (256, 256) (256, 256)\n"
          ]
        },
        {
          "output_type": "stream",
          "name": "stderr",
          "text": [
            "\r 42%|████▏     | 75/180 [00:12<00:17,  6.00it/s]"
          ]
        },
        {
          "output_type": "stream",
          "name": "stdout",
          "text": [
            "_09_test_3\n",
            "(256, 256, 1) 1.0 6.3474104e-08\n",
            "(256, 256, 3) (256, 256) (256, 256)\n"
          ]
        },
        {
          "output_type": "stream",
          "name": "stderr",
          "text": [
            "\r 42%|████▏     | 76/180 [00:12<00:17,  5.92it/s]"
          ]
        },
        {
          "output_type": "stream",
          "name": "stdout",
          "text": [
            "_09_test_4\n"
          ]
        },
        {
          "output_type": "stream",
          "name": "stderr",
          "text": [
            "\r 43%|████▎     | 77/180 [00:12<00:17,  5.80it/s]"
          ]
        },
        {
          "output_type": "stream",
          "name": "stdout",
          "text": [
            "(256, 256, 1) 1.0 0.0020739676\n",
            "(256, 256, 3) (256, 256) (256, 256)\n",
            "_09_test_5\n",
            "(256, 256, 1) 0.9999994 0.0025790415\n",
            "(256, 256, 3) (256, 256) (256, 256)\n"
          ]
        },
        {
          "output_type": "stream",
          "name": "stderr",
          "text": [
            "\r 43%|████▎     | 78/180 [00:13<00:17,  5.83it/s]"
          ]
        },
        {
          "output_type": "stream",
          "name": "stdout",
          "text": [
            "_09_test_6\n",
            "(256, 256, 1) 0.99992335 0.0018644443\n",
            "(256, 256, 3) (256, 256) (256, 256)\n"
          ]
        },
        {
          "output_type": "stream",
          "name": "stderr",
          "text": [
            "\r 44%|████▍     | 79/180 [00:13<00:16,  5.95it/s]"
          ]
        },
        {
          "output_type": "stream",
          "name": "stdout",
          "text": [
            "_09_test_7\n"
          ]
        },
        {
          "output_type": "stream",
          "name": "stderr",
          "text": [
            "\r 44%|████▍     | 80/180 [00:13<00:16,  6.05it/s]"
          ]
        },
        {
          "output_type": "stream",
          "name": "stdout",
          "text": [
            "(256, 256, 1) 1.0 0.0014775869\n",
            "(256, 256, 3) (256, 256) (256, 256)\n",
            "_09_test_8\n",
            "(256, 256, 1) 1.0 0.0019581106\n",
            "(256, 256, 3) (256, 256) (256, 256)\n"
          ]
        },
        {
          "output_type": "stream",
          "name": "stderr",
          "text": [
            "\r 45%|████▌     | 81/180 [00:13<00:16,  6.11it/s]"
          ]
        },
        {
          "output_type": "stream",
          "name": "stdout",
          "text": [
            "_10_test_0\n",
            "(256, 256, 1) 0.9999999 0.0036745423\n",
            "(256, 256, 3) (256, 256) (256, 256)\n"
          ]
        },
        {
          "output_type": "stream",
          "name": "stderr",
          "text": [
            "\r 46%|████▌     | 82/180 [00:13<00:15,  6.13it/s]"
          ]
        },
        {
          "output_type": "stream",
          "name": "stdout",
          "text": [
            "_10_test_1\n"
          ]
        },
        {
          "output_type": "stream",
          "name": "stderr",
          "text": [
            "\r 46%|████▌     | 83/180 [00:13<00:15,  6.13it/s]"
          ]
        },
        {
          "output_type": "stream",
          "name": "stdout",
          "text": [
            "(256, 256, 1) 1.0 0.002869001\n",
            "(256, 256, 3) (256, 256) (256, 256)\n",
            "_10_test_2\n",
            "(256, 256, 1) 0.99999964 0.0038357838\n",
            "(256, 256, 3) (256, 256) (256, 256)\n"
          ]
        },
        {
          "output_type": "stream",
          "name": "stderr",
          "text": [
            "\r 47%|████▋     | 84/180 [00:14<00:15,  6.12it/s]"
          ]
        },
        {
          "output_type": "stream",
          "name": "stdout",
          "text": [
            "_10_test_3\n",
            "(256, 256, 1) 0.9999994 0.0038708213\n",
            "(256, 256, 3) (256, 256) (256, 256)\n"
          ]
        },
        {
          "output_type": "stream",
          "name": "stderr",
          "text": [
            "\r 47%|████▋     | 85/180 [00:14<00:15,  6.05it/s]"
          ]
        },
        {
          "output_type": "stream",
          "name": "stdout",
          "text": [
            "_10_test_4\n"
          ]
        },
        {
          "output_type": "stream",
          "name": "stderr",
          "text": [
            "\r 48%|████▊     | 86/180 [00:14<00:15,  5.98it/s]"
          ]
        },
        {
          "output_type": "stream",
          "name": "stdout",
          "text": [
            "(256, 256, 1) 1.0 0.0021269852\n",
            "(256, 256, 3) (256, 256) (256, 256)\n",
            "_10_test_5\n",
            "(256, 256, 1) 1.0 0.0014325952\n",
            "(256, 256, 3) (256, 256) (256, 256)\n"
          ]
        },
        {
          "output_type": "stream",
          "name": "stderr",
          "text": [
            "\r 48%|████▊     | 87/180 [00:14<00:15,  5.89it/s]"
          ]
        },
        {
          "output_type": "stream",
          "name": "stdout",
          "text": [
            "_10_test_6\n",
            "(256, 256, 1) 0.9999924 0.00370331\n",
            "(256, 256, 3) (256, 256) (256, 256)\n"
          ]
        },
        {
          "output_type": "stream",
          "name": "stderr",
          "text": [
            "\r 49%|████▉     | 88/180 [00:14<00:15,  6.00it/s]"
          ]
        },
        {
          "output_type": "stream",
          "name": "stdout",
          "text": [
            "_10_test_7\n"
          ]
        },
        {
          "output_type": "stream",
          "name": "stderr",
          "text": [
            "\r 49%|████▉     | 89/180 [00:14<00:15,  6.01it/s]"
          ]
        },
        {
          "output_type": "stream",
          "name": "stdout",
          "text": [
            "(256, 256, 1) 1.0 0.003023087\n",
            "(256, 256, 3) (256, 256) (256, 256)\n",
            "_10_test_8\n",
            "(256, 256, 1) 0.99999464 0.003623057\n",
            "(256, 256, 3) (256, 256) (256, 256)\n"
          ]
        },
        {
          "output_type": "stream",
          "name": "stderr",
          "text": [
            "\r 50%|█████     | 90/180 [00:15<00:14,  6.05it/s]"
          ]
        },
        {
          "output_type": "stream",
          "name": "stdout",
          "text": [
            "_11_test_0\n",
            "(256, 256, 1) 1.0 0.001463324\n",
            "(256, 256, 3) (256, 256) (256, 256)\n"
          ]
        },
        {
          "output_type": "stream",
          "name": "stderr",
          "text": [
            "\r 51%|█████     | 91/180 [00:15<00:14,  6.08it/s]"
          ]
        },
        {
          "output_type": "stream",
          "name": "stdout",
          "text": [
            "_11_test_1\n"
          ]
        },
        {
          "output_type": "stream",
          "name": "stderr",
          "text": [
            "\r 51%|█████     | 92/180 [00:15<00:14,  6.10it/s]"
          ]
        },
        {
          "output_type": "stream",
          "name": "stdout",
          "text": [
            "(256, 256, 1) 1.0 0.0016998716\n",
            "(256, 256, 3) (256, 256) (256, 256)\n",
            "_11_test_2\n",
            "(256, 256, 1) 0.9999995 0.0033761521\n",
            "(256, 256, 3) (256, 256) (256, 256)\n"
          ]
        },
        {
          "output_type": "stream",
          "name": "stderr",
          "text": [
            "\r 52%|█████▏    | 93/180 [00:15<00:14,  6.14it/s]"
          ]
        },
        {
          "output_type": "stream",
          "name": "stdout",
          "text": [
            "_11_test_3\n",
            "(256, 256, 1) 1.0 2.792594e-05\n",
            "(256, 256, 3) (256, 256) (256, 256)\n"
          ]
        },
        {
          "output_type": "stream",
          "name": "stderr",
          "text": [
            "\r 52%|█████▏    | 94/180 [00:15<00:14,  5.99it/s]"
          ]
        },
        {
          "output_type": "stream",
          "name": "stdout",
          "text": [
            "_11_test_4\n"
          ]
        },
        {
          "output_type": "stream",
          "name": "stderr",
          "text": [
            "\r 53%|█████▎    | 95/180 [00:15<00:14,  5.87it/s]"
          ]
        },
        {
          "output_type": "stream",
          "name": "stdout",
          "text": [
            "(256, 256, 1) 1.0 0.0018217431\n",
            "(256, 256, 3) (256, 256) (256, 256)\n",
            "_11_test_5\n",
            "(256, 256, 1) 1.0 0.0022808881\n",
            "(256, 256, 3) (256, 256) (256, 256)\n"
          ]
        },
        {
          "output_type": "stream",
          "name": "stderr",
          "text": [
            "\r 53%|█████▎    | 96/180 [00:16<00:14,  5.81it/s]"
          ]
        },
        {
          "output_type": "stream",
          "name": "stdout",
          "text": [
            "_11_test_6\n",
            "(256, 256, 1) 1.0 0.0027054197\n",
            "(256, 256, 3) (256, 256) (256, 256)\n"
          ]
        },
        {
          "output_type": "stream",
          "name": "stderr",
          "text": [
            "\r 54%|█████▍    | 97/180 [00:16<00:14,  5.83it/s]"
          ]
        },
        {
          "output_type": "stream",
          "name": "stdout",
          "text": [
            "_11_test_7\n"
          ]
        },
        {
          "output_type": "stream",
          "name": "stderr",
          "text": [
            "\r 54%|█████▍    | 98/180 [00:16<00:13,  5.92it/s]"
          ]
        },
        {
          "output_type": "stream",
          "name": "stdout",
          "text": [
            "(256, 256, 1) 1.0 0.0027092344\n",
            "(256, 256, 3) (256, 256) (256, 256)\n",
            "_11_test_8\n",
            "(256, 256, 1) 1.0 0.0031536932\n",
            "(256, 256, 3) (256, 256) (256, 256)\n"
          ]
        },
        {
          "output_type": "stream",
          "name": "stderr",
          "text": [
            "\r 55%|█████▌    | 99/180 [00:16<00:13,  6.05it/s]"
          ]
        },
        {
          "output_type": "stream",
          "name": "stdout",
          "text": [
            "_12_test_0\n",
            "(256, 256, 1) 0.9999999 0.0022589883\n",
            "(256, 256, 3) (256, 256) (256, 256)\n"
          ]
        },
        {
          "output_type": "stream",
          "name": "stderr",
          "text": [
            "\r 56%|█████▌    | 100/180 [00:16<00:13,  6.09it/s]"
          ]
        },
        {
          "output_type": "stream",
          "name": "stdout",
          "text": [
            "_12_test_1\n"
          ]
        },
        {
          "output_type": "stream",
          "name": "stderr",
          "text": [
            "\r 56%|█████▌    | 101/180 [00:16<00:13,  6.07it/s]"
          ]
        },
        {
          "output_type": "stream",
          "name": "stdout",
          "text": [
            "(256, 256, 1) 1.0 0.0023338378\n",
            "(256, 256, 3) (256, 256) (256, 256)\n",
            "_12_test_2\n",
            "(256, 256, 1) 0.99994373 0.003720501\n",
            "(256, 256, 3) (256, 256) (256, 256)\n"
          ]
        },
        {
          "output_type": "stream",
          "name": "stderr",
          "text": [
            "\r 57%|█████▋    | 102/180 [00:17<00:12,  6.01it/s]"
          ]
        },
        {
          "output_type": "stream",
          "name": "stdout",
          "text": [
            "_12_test_3\n",
            "(256, 256, 1) 1.0 0.0001775114\n",
            "(256, 256, 3) (256, 256) (256, 256)\n"
          ]
        },
        {
          "output_type": "stream",
          "name": "stderr",
          "text": [
            "\r 57%|█████▋    | 103/180 [00:17<00:13,  5.92it/s]"
          ]
        },
        {
          "output_type": "stream",
          "name": "stdout",
          "text": [
            "_12_test_4\n"
          ]
        },
        {
          "output_type": "stream",
          "name": "stderr",
          "text": [
            "\r 58%|█████▊    | 104/180 [00:17<00:13,  5.82it/s]"
          ]
        },
        {
          "output_type": "stream",
          "name": "stdout",
          "text": [
            "(256, 256, 1) 1.0 0.0021623878\n",
            "(256, 256, 3) (256, 256) (256, 256)\n",
            "_12_test_5\n",
            "(256, 256, 1) 0.99999654 0.0028795537\n",
            "(256, 256, 3) (256, 256) (256, 256)\n"
          ]
        },
        {
          "output_type": "stream",
          "name": "stderr",
          "text": [
            "\r 58%|█████▊    | 105/180 [00:17<00:13,  5.74it/s]"
          ]
        },
        {
          "output_type": "stream",
          "name": "stdout",
          "text": [
            "_12_test_6\n",
            "(256, 256, 1) 0.9999982 0.0023694555\n",
            "(256, 256, 3) (256, 256) (256, 256)\n"
          ]
        },
        {
          "output_type": "stream",
          "name": "stderr",
          "text": [
            "\r 59%|█████▉    | 106/180 [00:17<00:12,  5.81it/s]"
          ]
        },
        {
          "output_type": "stream",
          "name": "stdout",
          "text": [
            "_12_test_7\n"
          ]
        },
        {
          "output_type": "stream",
          "name": "stderr",
          "text": [
            "\r 59%|█████▉    | 107/180 [00:17<00:12,  5.80it/s]"
          ]
        },
        {
          "output_type": "stream",
          "name": "stdout",
          "text": [
            "(256, 256, 1) 1.0 0.0023935689\n",
            "(256, 256, 3) (256, 256) (256, 256)\n",
            "_12_test_8\n",
            "(256, 256, 1) 0.9999976 0.0025064084\n",
            "(256, 256, 3) (256, 256) (256, 256)\n"
          ]
        },
        {
          "output_type": "stream",
          "name": "stderr",
          "text": [
            "\r 60%|██████    | 108/180 [00:18<00:12,  5.85it/s]"
          ]
        },
        {
          "output_type": "stream",
          "name": "stdout",
          "text": [
            "_13_test_0\n",
            "(256, 256, 1) 1.0 0.0020166095\n",
            "(256, 256, 3) (256, 256) (256, 256)\n"
          ]
        },
        {
          "output_type": "stream",
          "name": "stderr",
          "text": [
            "\r 61%|██████    | 109/180 [00:18<00:12,  5.91it/s]"
          ]
        },
        {
          "output_type": "stream",
          "name": "stdout",
          "text": [
            "_13_test_1\n"
          ]
        },
        {
          "output_type": "stream",
          "name": "stderr",
          "text": [
            "\r 61%|██████    | 110/180 [00:18<00:11,  5.90it/s]"
          ]
        },
        {
          "output_type": "stream",
          "name": "stdout",
          "text": [
            "(256, 256, 1) 1.0 0.0020728104\n",
            "(256, 256, 3) (256, 256) (256, 256)\n",
            "_13_test_2\n",
            "(256, 256, 1) 1.0 0.0037856628\n",
            "(256, 256, 3) (256, 256) (256, 256)\n"
          ]
        },
        {
          "output_type": "stream",
          "name": "stderr",
          "text": [
            "\r 62%|██████▏   | 111/180 [00:18<00:11,  5.91it/s]"
          ]
        },
        {
          "output_type": "stream",
          "name": "stdout",
          "text": [
            "_13_test_3\n",
            "(256, 256, 1) 1.0 0.0019757177\n",
            "(256, 256, 3) (256, 256) (256, 256)\n"
          ]
        },
        {
          "output_type": "stream",
          "name": "stderr",
          "text": [
            "\r 62%|██████▏   | 112/180 [00:18<00:11,  5.84it/s]"
          ]
        },
        {
          "output_type": "stream",
          "name": "stdout",
          "text": [
            "_13_test_4\n"
          ]
        },
        {
          "output_type": "stream",
          "name": "stderr",
          "text": [
            "\r 63%|██████▎   | 113/180 [00:18<00:11,  5.74it/s]"
          ]
        },
        {
          "output_type": "stream",
          "name": "stdout",
          "text": [
            "(256, 256, 1) 1.0 0.0022813962\n",
            "(256, 256, 3) (256, 256) (256, 256)\n",
            "_13_test_5\n",
            "(256, 256, 1) 1.0 5.6879755e-05\n",
            "(256, 256, 3) (256, 256) (256, 256)\n"
          ]
        },
        {
          "output_type": "stream",
          "name": "stderr",
          "text": [
            "\r 63%|██████▎   | 114/180 [00:19<00:11,  5.69it/s]"
          ]
        },
        {
          "output_type": "stream",
          "name": "stdout",
          "text": [
            "_13_test_6\n",
            "(256, 256, 1) 1.0 0.0031593393\n",
            "(256, 256, 3) (256, 256) (256, 256)\n"
          ]
        },
        {
          "output_type": "stream",
          "name": "stderr",
          "text": [
            "\r 64%|██████▍   | 115/180 [00:19<00:11,  5.76it/s]"
          ]
        },
        {
          "output_type": "stream",
          "name": "stdout",
          "text": [
            "_13_test_7\n"
          ]
        },
        {
          "output_type": "stream",
          "name": "stderr",
          "text": [
            "\r 64%|██████▍   | 116/180 [00:19<00:11,  5.75it/s]"
          ]
        },
        {
          "output_type": "stream",
          "name": "stdout",
          "text": [
            "(256, 256, 1) 1.0 0.0019897239\n",
            "(256, 256, 3) (256, 256) (256, 256)\n",
            "_13_test_8\n",
            "(256, 256, 1) 1.0 0.0026818707\n",
            "(256, 256, 3) (256, 256) (256, 256)\n"
          ]
        },
        {
          "output_type": "stream",
          "name": "stderr",
          "text": [
            "\r 65%|██████▌   | 117/180 [00:19<00:10,  5.79it/s]"
          ]
        },
        {
          "output_type": "stream",
          "name": "stdout",
          "text": [
            "_14_test_0\n",
            "(256, 256, 1) 1.0 0.0029287224\n",
            "(256, 256, 3) (256, 256) (256, 256)\n"
          ]
        },
        {
          "output_type": "stream",
          "name": "stderr",
          "text": [
            "\r 66%|██████▌   | 118/180 [00:19<00:10,  5.86it/s]"
          ]
        },
        {
          "output_type": "stream",
          "name": "stdout",
          "text": [
            "_14_test_1\n"
          ]
        },
        {
          "output_type": "stream",
          "name": "stderr",
          "text": [
            "\r 66%|██████▌   | 119/180 [00:19<00:10,  5.81it/s]"
          ]
        },
        {
          "output_type": "stream",
          "name": "stdout",
          "text": [
            "(256, 256, 1) 1.0 0.0023725766\n",
            "(256, 256, 3) (256, 256) (256, 256)\n",
            "_14_test_2\n",
            "(256, 256, 1) 1.0 0.0020903025\n",
            "(256, 256, 3) (256, 256) (256, 256)\n"
          ]
        },
        {
          "output_type": "stream",
          "name": "stderr",
          "text": [
            "\r 67%|██████▋   | 120/180 [00:20<00:10,  5.82it/s]"
          ]
        },
        {
          "output_type": "stream",
          "name": "stdout",
          "text": [
            "_14_test_3\n",
            "(256, 256, 1) 0.99999905 0.0026417018\n",
            "(256, 256, 3) (256, 256) (256, 256)\n"
          ]
        },
        {
          "output_type": "stream",
          "name": "stderr",
          "text": [
            "\r 67%|██████▋   | 121/180 [00:20<00:10,  5.80it/s]"
          ]
        },
        {
          "output_type": "stream",
          "name": "stdout",
          "text": [
            "_14_test_4\n"
          ]
        },
        {
          "output_type": "stream",
          "name": "stderr",
          "text": [
            "\r 68%|██████▊   | 122/180 [00:20<00:10,  5.75it/s]"
          ]
        },
        {
          "output_type": "stream",
          "name": "stdout",
          "text": [
            "(256, 256, 1) 1.0 0.0026130714\n",
            "(256, 256, 3) (256, 256) (256, 256)\n",
            "_14_test_5\n",
            "(256, 256, 1) 1.0 0.00024276531\n",
            "(256, 256, 3) (256, 256) (256, 256)\n"
          ]
        },
        {
          "output_type": "stream",
          "name": "stderr",
          "text": [
            "\r 68%|██████▊   | 123/180 [00:20<00:09,  5.75it/s]"
          ]
        },
        {
          "output_type": "stream",
          "name": "stdout",
          "text": [
            "_14_test_6\n",
            "(256, 256, 1) 0.9999988 0.003197136\n",
            "(256, 256, 3) (256, 256) (256, 256)\n"
          ]
        },
        {
          "output_type": "stream",
          "name": "stderr",
          "text": [
            "\r 69%|██████▉   | 124/180 [00:20<00:09,  5.79it/s]"
          ]
        },
        {
          "output_type": "stream",
          "name": "stdout",
          "text": [
            "_14_test_7\n"
          ]
        },
        {
          "output_type": "stream",
          "name": "stderr",
          "text": [
            "\r 69%|██████▉   | 125/180 [00:21<00:09,  5.78it/s]"
          ]
        },
        {
          "output_type": "stream",
          "name": "stdout",
          "text": [
            "(256, 256, 1) 1.0 0.0019767652\n",
            "(256, 256, 3) (256, 256) (256, 256)\n",
            "_14_test_8\n",
            "(256, 256, 1) 1.0 0.0017110354\n",
            "(256, 256, 3) (256, 256) (256, 256)\n"
          ]
        },
        {
          "output_type": "stream",
          "name": "stderr",
          "text": [
            "\r 70%|███████   | 126/180 [00:21<00:09,  5.75it/s]"
          ]
        },
        {
          "output_type": "stream",
          "name": "stdout",
          "text": [
            "_15_test_0\n",
            "(256, 256, 1) 1.0 0.0038642224\n",
            "(256, 256, 3) (256, 256) (256, 256)\n"
          ]
        },
        {
          "output_type": "stream",
          "name": "stderr",
          "text": [
            "\r 71%|███████   | 127/180 [00:21<00:09,  5.77it/s]"
          ]
        },
        {
          "output_type": "stream",
          "name": "stdout",
          "text": [
            "_15_test_1\n"
          ]
        },
        {
          "output_type": "stream",
          "name": "stderr",
          "text": [
            "\r 71%|███████   | 128/180 [00:21<00:08,  5.81it/s]"
          ]
        },
        {
          "output_type": "stream",
          "name": "stdout",
          "text": [
            "(256, 256, 1) 0.9999994 0.0032170669\n",
            "(256, 256, 3) (256, 256) (256, 256)\n",
            "_15_test_2\n",
            "(256, 256, 1) 0.9999312 0.0038264464\n",
            "(256, 256, 3) (256, 256) (256, 256)\n"
          ]
        },
        {
          "output_type": "stream",
          "name": "stderr",
          "text": [
            "\r 72%|███████▏  | 129/180 [00:21<00:08,  5.80it/s]"
          ]
        },
        {
          "output_type": "stream",
          "name": "stdout",
          "text": [
            "_15_test_3\n",
            "(256, 256, 1) 0.99999905 0.0030807252\n",
            "(256, 256, 3) (256, 256) (256, 256)\n"
          ]
        },
        {
          "output_type": "stream",
          "name": "stderr",
          "text": [
            "\r 72%|███████▏  | 130/180 [00:21<00:08,  5.75it/s]"
          ]
        },
        {
          "output_type": "stream",
          "name": "stdout",
          "text": [
            "_15_test_4\n"
          ]
        },
        {
          "output_type": "stream",
          "name": "stderr",
          "text": [
            "\r 73%|███████▎  | 131/180 [00:22<00:08,  5.64it/s]"
          ]
        },
        {
          "output_type": "stream",
          "name": "stdout",
          "text": [
            "(256, 256, 1) 1.0 0.00021662602\n",
            "(256, 256, 3) (256, 256) (256, 256)\n",
            "_15_test_5\n",
            "(256, 256, 1) 1.0 0.003294175\n",
            "(256, 256, 3) (256, 256) (256, 256)\n"
          ]
        },
        {
          "output_type": "stream",
          "name": "stderr",
          "text": [
            "\r 73%|███████▎  | 132/180 [00:22<00:08,  5.64it/s]"
          ]
        },
        {
          "output_type": "stream",
          "name": "stdout",
          "text": [
            "_15_test_6\n",
            "(256, 256, 1) 0.9999975 0.0036476848\n",
            "(256, 256, 3) (256, 256) (256, 256)\n"
          ]
        },
        {
          "output_type": "stream",
          "name": "stderr",
          "text": [
            "\r 74%|███████▍  | 133/180 [00:22<00:08,  5.72it/s]"
          ]
        },
        {
          "output_type": "stream",
          "name": "stdout",
          "text": [
            "_15_test_7\n"
          ]
        },
        {
          "output_type": "stream",
          "name": "stderr",
          "text": [
            "\r 74%|███████▍  | 134/180 [00:22<00:08,  5.69it/s]"
          ]
        },
        {
          "output_type": "stream",
          "name": "stdout",
          "text": [
            "(256, 256, 1) 0.9999958 0.0032644551\n",
            "(256, 256, 3) (256, 256) (256, 256)\n",
            "_15_test_8\n",
            "(256, 256, 1) 0.99999976 0.0042233556\n",
            "(256, 256, 3) (256, 256) (256, 256)\n"
          ]
        },
        {
          "output_type": "stream",
          "name": "stderr",
          "text": [
            "\r 75%|███████▌  | 135/180 [00:22<00:07,  5.76it/s]"
          ]
        },
        {
          "output_type": "stream",
          "name": "stdout",
          "text": [
            "_16_test_0\n",
            "(256, 256, 1) 1.0 0.0019547588\n",
            "(256, 256, 3) (256, 256) (256, 256)\n"
          ]
        },
        {
          "output_type": "stream",
          "name": "stderr",
          "text": [
            "\r 76%|███████▌  | 136/180 [00:22<00:07,  5.82it/s]"
          ]
        },
        {
          "output_type": "stream",
          "name": "stdout",
          "text": [
            "_16_test_1\n"
          ]
        },
        {
          "output_type": "stream",
          "name": "stderr",
          "text": [
            "\r 76%|███████▌  | 137/180 [00:23<00:07,  5.78it/s]"
          ]
        },
        {
          "output_type": "stream",
          "name": "stdout",
          "text": [
            "(256, 256, 1) 1.0 0.002080435\n",
            "(256, 256, 3) (256, 256) (256, 256)\n",
            "_16_test_2\n",
            "(256, 256, 1) 1.0 0.0028067864\n",
            "(256, 256, 3) (256, 256) (256, 256)\n"
          ]
        },
        {
          "output_type": "stream",
          "name": "stderr",
          "text": [
            "\r 77%|███████▋  | 138/180 [00:23<00:07,  5.86it/s]"
          ]
        },
        {
          "output_type": "stream",
          "name": "stdout",
          "text": [
            "_16_test_3\n",
            "(256, 256, 1) 1.0 0.0014670332\n",
            "(256, 256, 3) (256, 256) (256, 256)\n"
          ]
        },
        {
          "output_type": "stream",
          "name": "stderr",
          "text": [
            "\r 77%|███████▋  | 139/180 [00:23<00:06,  5.92it/s]"
          ]
        },
        {
          "output_type": "stream",
          "name": "stdout",
          "text": [
            "_16_test_4\n"
          ]
        },
        {
          "output_type": "stream",
          "name": "stderr",
          "text": [
            "\r 78%|███████▊  | 140/180 [00:23<00:06,  5.92it/s]"
          ]
        },
        {
          "output_type": "stream",
          "name": "stdout",
          "text": [
            "(256, 256, 1) 1.0 0.0019124965\n",
            "(256, 256, 3) (256, 256) (256, 256)\n",
            "_16_test_5\n",
            "(256, 256, 1) 1.0 3.0955976e-05\n",
            "(256, 256, 3) (256, 256) (256, 256)\n"
          ]
        },
        {
          "output_type": "stream",
          "name": "stderr",
          "text": [
            "\r 78%|███████▊  | 141/180 [00:23<00:06,  5.96it/s]"
          ]
        },
        {
          "output_type": "stream",
          "name": "stdout",
          "text": [
            "_16_test_6\n",
            "(256, 256, 1) 1.0 0.0025917608\n",
            "(256, 256, 3) (256, 256) (256, 256)\n"
          ]
        },
        {
          "output_type": "stream",
          "name": "stderr",
          "text": [
            "\r 79%|███████▉  | 142/180 [00:23<00:06,  5.97it/s]"
          ]
        },
        {
          "output_type": "stream",
          "name": "stdout",
          "text": [
            "_16_test_7\n"
          ]
        },
        {
          "output_type": "stream",
          "name": "stderr",
          "text": [
            "\r 79%|███████▉  | 143/180 [00:24<00:06,  5.92it/s]"
          ]
        },
        {
          "output_type": "stream",
          "name": "stdout",
          "text": [
            "(256, 256, 1) 1.0 0.0015676544\n",
            "(256, 256, 3) (256, 256) (256, 256)\n",
            "_16_test_8\n",
            "(256, 256, 1) 1.0 0.0016221822\n",
            "(256, 256, 3) (256, 256) (256, 256)\n"
          ]
        },
        {
          "output_type": "stream",
          "name": "stderr",
          "text": [
            "\r 80%|████████  | 144/180 [00:24<00:06,  5.87it/s]"
          ]
        },
        {
          "output_type": "stream",
          "name": "stdout",
          "text": [
            "_17_test_0\n",
            "(256, 256, 1) 1.0 0.001696928\n",
            "(256, 256, 3) (256, 256) (256, 256)\n"
          ]
        },
        {
          "output_type": "stream",
          "name": "stderr",
          "text": [
            "\r 81%|████████  | 145/180 [00:24<00:05,  5.90it/s]"
          ]
        },
        {
          "output_type": "stream",
          "name": "stdout",
          "text": [
            "_17_test_1\n"
          ]
        },
        {
          "output_type": "stream",
          "name": "stderr",
          "text": [
            "\r 81%|████████  | 146/180 [00:24<00:05,  5.87it/s]"
          ]
        },
        {
          "output_type": "stream",
          "name": "stdout",
          "text": [
            "(256, 256, 1) 1.0 0.0020156596\n",
            "(256, 256, 3) (256, 256) (256, 256)\n",
            "_17_test_2\n",
            "(256, 256, 1) 1.0 0.0030772022\n",
            "(256, 256, 3) (256, 256) (256, 256)\n"
          ]
        },
        {
          "output_type": "stream",
          "name": "stderr",
          "text": [
            "\r 82%|████████▏ | 147/180 [00:24<00:05,  5.89it/s]"
          ]
        },
        {
          "output_type": "stream",
          "name": "stdout",
          "text": [
            "_17_test_3\n",
            "(256, 256, 1) 0.99999964 0.0007638078\n",
            "(256, 256, 3) (256, 256) (256, 256)\n"
          ]
        },
        {
          "output_type": "stream",
          "name": "stderr",
          "text": [
            "\r 82%|████████▏ | 148/180 [00:24<00:05,  5.90it/s]"
          ]
        },
        {
          "output_type": "stream",
          "name": "stdout",
          "text": [
            "_17_test_4\n"
          ]
        },
        {
          "output_type": "stream",
          "name": "stderr",
          "text": [
            "\r 83%|████████▎ | 149/180 [00:25<00:05,  5.86it/s]"
          ]
        },
        {
          "output_type": "stream",
          "name": "stdout",
          "text": [
            "(256, 256, 1) 1.0 0.0017161987\n",
            "(256, 256, 3) (256, 256) (256, 256)\n",
            "_17_test_5\n",
            "(256, 256, 1) 1.0 4.9738787e-06\n",
            "(256, 256, 3) (256, 256) (256, 256)\n"
          ]
        },
        {
          "output_type": "stream",
          "name": "stderr",
          "text": [
            "\r 83%|████████▎ | 150/180 [00:25<00:05,  5.87it/s]"
          ]
        },
        {
          "output_type": "stream",
          "name": "stdout",
          "text": [
            "_17_test_6\n",
            "(256, 256, 1) 0.99963295 0.0005446214\n",
            "(256, 256, 3) (256, 256) (256, 256)\n"
          ]
        },
        {
          "output_type": "stream",
          "name": "stderr",
          "text": [
            "\r 84%|████████▍ | 151/180 [00:25<00:04,  5.95it/s]"
          ]
        },
        {
          "output_type": "stream",
          "name": "stdout",
          "text": [
            "_17_test_7\n"
          ]
        },
        {
          "output_type": "stream",
          "name": "stderr",
          "text": [
            "\r 84%|████████▍ | 152/180 [00:25<00:04,  5.91it/s]"
          ]
        },
        {
          "output_type": "stream",
          "name": "stdout",
          "text": [
            "(256, 256, 1) 1.0 0.000933585\n",
            "(256, 256, 3) (256, 256) (256, 256)\n",
            "_17_test_8\n",
            "(256, 256, 1) 1.0 0.0013232884\n",
            "(256, 256, 3) (256, 256) (256, 256)\n"
          ]
        },
        {
          "output_type": "stream",
          "name": "stderr",
          "text": [
            "\r 85%|████████▌ | 153/180 [00:25<00:04,  5.92it/s]"
          ]
        },
        {
          "output_type": "stream",
          "name": "stdout",
          "text": [
            "_18_test_0\n",
            "(256, 256, 1) 1.0 0.0019616764\n",
            "(256, 256, 3) (256, 256) (256, 256)\n"
          ]
        },
        {
          "output_type": "stream",
          "name": "stderr",
          "text": [
            "\r 86%|████████▌ | 154/180 [00:25<00:04,  5.94it/s]"
          ]
        },
        {
          "output_type": "stream",
          "name": "stdout",
          "text": [
            "_18_test_1\n"
          ]
        },
        {
          "output_type": "stream",
          "name": "stderr",
          "text": [
            "\r 86%|████████▌ | 155/180 [00:26<00:04,  5.85it/s]"
          ]
        },
        {
          "output_type": "stream",
          "name": "stdout",
          "text": [
            "(256, 256, 1) 1.0 0.0013170984\n",
            "(256, 256, 3) (256, 256) (256, 256)\n",
            "_18_test_2\n",
            "(256, 256, 1) 1.0 0.0027798845\n",
            "(256, 256, 3) (256, 256) (256, 256)\n"
          ]
        },
        {
          "output_type": "stream",
          "name": "stderr",
          "text": [
            "\r 87%|████████▋ | 156/180 [00:26<00:04,  5.81it/s]"
          ]
        },
        {
          "output_type": "stream",
          "name": "stdout",
          "text": [
            "_18_test_3\n",
            "(256, 256, 1) 0.9999999 0.0020437702\n",
            "(256, 256, 3) (256, 256) (256, 256)\n"
          ]
        },
        {
          "output_type": "stream",
          "name": "stderr",
          "text": [
            "\r 87%|████████▋ | 157/180 [00:26<00:04,  5.75it/s]"
          ]
        },
        {
          "output_type": "stream",
          "name": "stdout",
          "text": [
            "_18_test_4\n"
          ]
        },
        {
          "output_type": "stream",
          "name": "stderr",
          "text": [
            "\r 88%|████████▊ | 158/180 [00:26<00:03,  5.77it/s]"
          ]
        },
        {
          "output_type": "stream",
          "name": "stdout",
          "text": [
            "(256, 256, 1) 1.0 0.0012216235\n",
            "(256, 256, 3) (256, 256) (256, 256)\n",
            "_18_test_5\n",
            "(256, 256, 1) 1.0 7.7753185e-08\n",
            "(256, 256, 3) (256, 256) (256, 256)\n"
          ]
        },
        {
          "output_type": "stream",
          "name": "stderr",
          "text": [
            "\r 88%|████████▊ | 159/180 [00:26<00:03,  5.85it/s]"
          ]
        },
        {
          "output_type": "stream",
          "name": "stdout",
          "text": [
            "_18_test_6\n",
            "(256, 256, 1) 1.0 0.0027791627\n",
            "(256, 256, 3) (256, 256) (256, 256)\n"
          ]
        },
        {
          "output_type": "stream",
          "name": "stderr",
          "text": [
            "\r 89%|████████▉ | 160/180 [00:27<00:03,  5.96it/s]"
          ]
        },
        {
          "output_type": "stream",
          "name": "stdout",
          "text": [
            "_18_test_7\n"
          ]
        },
        {
          "output_type": "stream",
          "name": "stderr",
          "text": [
            "\r 89%|████████▉ | 161/180 [00:27<00:03,  5.92it/s]"
          ]
        },
        {
          "output_type": "stream",
          "name": "stdout",
          "text": [
            "(256, 256, 1) 1.0 0.00211138\n",
            "(256, 256, 3) (256, 256) (256, 256)\n",
            "_18_test_8\n",
            "(256, 256, 1) 0.99999976 0.0021792992\n",
            "(256, 256, 3) (256, 256) (256, 256)\n"
          ]
        },
        {
          "output_type": "stream",
          "name": "stderr",
          "text": [
            "\r 90%|█████████ | 162/180 [00:27<00:03,  6.00it/s]"
          ]
        },
        {
          "output_type": "stream",
          "name": "stdout",
          "text": [
            "_19_test_0\n",
            "(256, 256, 1) 0.99999976 0.003393461\n",
            "(256, 256, 3) (256, 256) (256, 256)\n"
          ]
        },
        {
          "output_type": "stream",
          "name": "stderr",
          "text": [
            "\r 91%|█████████ | 163/180 [00:27<00:02,  6.04it/s]"
          ]
        },
        {
          "output_type": "stream",
          "name": "stdout",
          "text": [
            "_19_test_1\n"
          ]
        },
        {
          "output_type": "stream",
          "name": "stderr",
          "text": [
            "\r 91%|█████████ | 164/180 [00:27<00:02,  5.98it/s]"
          ]
        },
        {
          "output_type": "stream",
          "name": "stdout",
          "text": [
            "(256, 256, 1) 1.0 0.0030528812\n",
            "(256, 256, 3) (256, 256) (256, 256)\n",
            "_19_test_2\n",
            "(256, 256, 1) 1.0 0.003721325\n",
            "(256, 256, 3) (256, 256) (256, 256)\n"
          ]
        },
        {
          "output_type": "stream",
          "name": "stderr",
          "text": [
            "\r 92%|█████████▏| 165/180 [00:27<00:02,  5.96it/s]"
          ]
        },
        {
          "output_type": "stream",
          "name": "stdout",
          "text": [
            "_19_test_3\n",
            "(256, 256, 1) 0.9999999 0.0019707447\n",
            "(256, 256, 3) (256, 256) (256, 256)\n"
          ]
        },
        {
          "output_type": "stream",
          "name": "stderr",
          "text": [
            "\r 92%|█████████▏| 166/180 [00:28<00:02,  5.92it/s]"
          ]
        },
        {
          "output_type": "stream",
          "name": "stdout",
          "text": [
            "_19_test_4\n"
          ]
        },
        {
          "output_type": "stream",
          "name": "stderr",
          "text": [
            "\r 93%|█████████▎| 167/180 [00:28<00:02,  5.79it/s]"
          ]
        },
        {
          "output_type": "stream",
          "name": "stdout",
          "text": [
            "(256, 256, 1) 1.0 0.0025810823\n",
            "(256, 256, 3) (256, 256) (256, 256)\n",
            "_19_test_5\n",
            "(256, 256, 1) 1.0 0.0010920516\n",
            "(256, 256, 3) (256, 256) (256, 256)\n"
          ]
        },
        {
          "output_type": "stream",
          "name": "stderr",
          "text": [
            "\r 93%|█████████▎| 168/180 [00:28<00:02,  5.84it/s]"
          ]
        },
        {
          "output_type": "stream",
          "name": "stdout",
          "text": [
            "_19_test_6\n",
            "(256, 256, 1) 0.99999964 0.0022598288\n",
            "(256, 256, 3) (256, 256) (256, 256)\n"
          ]
        },
        {
          "output_type": "stream",
          "name": "stderr",
          "text": [
            "\r 94%|█████████▍| 169/180 [00:28<00:01,  5.96it/s]"
          ]
        },
        {
          "output_type": "stream",
          "name": "stdout",
          "text": [
            "_19_test_7\n"
          ]
        },
        {
          "output_type": "stream",
          "name": "stderr",
          "text": [
            "\r 94%|█████████▍| 170/180 [00:28<00:01,  6.00it/s]"
          ]
        },
        {
          "output_type": "stream",
          "name": "stdout",
          "text": [
            "(256, 256, 1) 1.0 0.0028373434\n",
            "(256, 256, 3) (256, 256) (256, 256)\n",
            "_19_test_8\n",
            "(256, 256, 1) 0.9999999 0.002512877\n",
            "(256, 256, 3) (256, 256) (256, 256)\n"
          ]
        },
        {
          "output_type": "stream",
          "name": "stderr",
          "text": [
            "\r 95%|█████████▌| 171/180 [00:28<00:01,  6.01it/s]"
          ]
        },
        {
          "output_type": "stream",
          "name": "stdout",
          "text": [
            "_20_test_0\n",
            "(256, 256, 1) 1.0 0.003093657\n",
            "(256, 256, 3) (256, 256) (256, 256)\n"
          ]
        },
        {
          "output_type": "stream",
          "name": "stderr",
          "text": [
            "\r 96%|█████████▌| 172/180 [00:29<00:01,  5.97it/s]"
          ]
        },
        {
          "output_type": "stream",
          "name": "stdout",
          "text": [
            "_20_test_1\n"
          ]
        },
        {
          "output_type": "stream",
          "name": "stderr",
          "text": [
            "\r 96%|█████████▌| 173/180 [00:29<00:01,  5.92it/s]"
          ]
        },
        {
          "output_type": "stream",
          "name": "stdout",
          "text": [
            "(256, 256, 1) 1.0 0.0021687204\n",
            "(256, 256, 3) (256, 256) (256, 256)\n",
            "_20_test_2\n",
            "(256, 256, 1) 0.99999964 0.0032675082\n",
            "(256, 256, 3) (256, 256) (256, 256)\n"
          ]
        },
        {
          "output_type": "stream",
          "name": "stderr",
          "text": [
            "\r 97%|█████████▋| 174/180 [00:29<00:01,  5.89it/s]"
          ]
        },
        {
          "output_type": "stream",
          "name": "stdout",
          "text": [
            "_20_test_3\n",
            "(256, 256, 1) 1.0 0.00242921\n",
            "(256, 256, 3) (256, 256) (256, 256)\n"
          ]
        },
        {
          "output_type": "stream",
          "name": "stderr",
          "text": [
            "\r 97%|█████████▋| 175/180 [00:29<00:00,  5.88it/s]"
          ]
        },
        {
          "output_type": "stream",
          "name": "stdout",
          "text": [
            "_20_test_4\n"
          ]
        },
        {
          "output_type": "stream",
          "name": "stderr",
          "text": [
            "\r 98%|█████████▊| 176/180 [00:29<00:00,  5.87it/s]"
          ]
        },
        {
          "output_type": "stream",
          "name": "stdout",
          "text": [
            "(256, 256, 1) 1.0 0.0021160508\n",
            "(256, 256, 3) (256, 256) (256, 256)\n",
            "_20_test_5\n",
            "(256, 256, 1) 1.0 7.221129e-05\n",
            "(256, 256, 3) (256, 256) (256, 256)\n"
          ]
        },
        {
          "output_type": "stream",
          "name": "stderr",
          "text": [
            "\r 98%|█████████▊| 177/180 [00:29<00:00,  5.79it/s]"
          ]
        },
        {
          "output_type": "stream",
          "name": "stdout",
          "text": [
            "_20_test_6\n",
            "(256, 256, 1) 0.9999993 0.0039235596\n",
            "(256, 256, 3) (256, 256) (256, 256)\n"
          ]
        },
        {
          "output_type": "stream",
          "name": "stderr",
          "text": [
            "\r 99%|█████████▉| 178/180 [00:30<00:00,  5.89it/s]"
          ]
        },
        {
          "output_type": "stream",
          "name": "stdout",
          "text": [
            "_20_test_7\n"
          ]
        },
        {
          "output_type": "stream",
          "name": "stderr",
          "text": [
            "\r 99%|█████████▉| 179/180 [00:30<00:00,  5.87it/s]"
          ]
        },
        {
          "output_type": "stream",
          "name": "stdout",
          "text": [
            "(256, 256, 1) 1.0 0.002548223\n",
            "(256, 256, 3) (256, 256) (256, 256)\n",
            "_20_test_8\n",
            "(256, 256, 1) 0.9999999 0.0034619276\n",
            "(256, 256, 3) (256, 256) (256, 256)\n"
          ]
        },
        {
          "output_type": "stream",
          "name": "stderr",
          "text": [
            "100%|██████████| 180/180 [00:30<00:00,  5.92it/s]"
          ]
        },
        {
          "output_type": "stream",
          "name": "stdout",
          "text": [
            "Threshold: 0.40000\n",
            "Accuracy: 0.97921\n",
            "F1: 0.75251\n",
            "Jaccard: 0.61593\n",
            "Recall: 0.74011\n",
            "Precision: 0.79041\n",
            "AUC: 0.96830\n",
            "Dice Coeff: 0.62750\n"
          ]
        },
        {
          "output_type": "stream",
          "name": "stderr",
          "text": [
            "\n"
          ]
        }
      ]
    },
    {
      "cell_type": "code",
      "source": [
        "dataset_path = f\"{root_path}/{split_name}/{split}/\"\n",
        "df_0_5, score_0_5 = compute_metrics(dataset_path,\n",
        "                    results_path=results_path,\n",
        "                    threshold=0.5,\n",
        "                    model=model,\n",
        "                    predictions_path=prediction_path,\n",
        "                    prediction_np_path=prediction_np_path)"
      ],
      "metadata": {
        "id": "awC6MfPbujiZ",
        "colab": {
          "base_uri": "https://localhost:8080/"
        },
        "outputId": "e880f55b-b456-4d40-aadf-300c0cf766e4"
      },
      "execution_count": null,
      "outputs": [
        {
          "output_type": "stream",
          "name": "stdout",
          "text": [
            "Threshold 0.5\n"
          ]
        },
        {
          "output_type": "stream",
          "name": "stderr",
          "text": [
            "\r  0%|          | 0/180 [00:00<?, ?it/s]"
          ]
        },
        {
          "output_type": "stream",
          "name": "stdout",
          "text": [
            "_01_test_0\n",
            "(256, 256, 1) 1.0 0.0025882502\n",
            "(256, 256, 3) (256, 256) (256, 256)\n"
          ]
        },
        {
          "output_type": "stream",
          "name": "stderr",
          "text": [
            "\r  1%|          | 1/180 [00:00<00:29,  6.11it/s]"
          ]
        },
        {
          "output_type": "stream",
          "name": "stdout",
          "text": [
            "_01_test_1\n"
          ]
        },
        {
          "output_type": "stream",
          "name": "stderr",
          "text": [
            "\r  1%|          | 2/180 [00:00<00:30,  5.93it/s]"
          ]
        },
        {
          "output_type": "stream",
          "name": "stdout",
          "text": [
            "(256, 256, 1) 1.0 0.0022920095\n",
            "(256, 256, 3) (256, 256) (256, 256)\n",
            "_01_test_2\n",
            "(256, 256, 1) 0.99999845 0.004140294\n",
            "(256, 256, 3) (256, 256) (256, 256)\n"
          ]
        },
        {
          "output_type": "stream",
          "name": "stderr",
          "text": [
            "\r  2%|▏         | 3/180 [00:00<00:29,  5.97it/s]"
          ]
        },
        {
          "output_type": "stream",
          "name": "stdout",
          "text": [
            "_01_test_3\n",
            "(256, 256, 1) 1.0 4.9007016e-05\n",
            "(256, 256, 3) (256, 256) (256, 256)\n"
          ]
        },
        {
          "output_type": "stream",
          "name": "stderr",
          "text": [
            "\r  2%|▏         | 4/180 [00:00<00:29,  5.88it/s]"
          ]
        },
        {
          "output_type": "stream",
          "name": "stdout",
          "text": [
            "_01_test_4\n"
          ]
        },
        {
          "output_type": "stream",
          "name": "stderr",
          "text": [
            "\r  3%|▎         | 5/180 [00:00<00:30,  5.77it/s]"
          ]
        },
        {
          "output_type": "stream",
          "name": "stdout",
          "text": [
            "(256, 256, 1) 1.0 0.00199335\n",
            "(256, 256, 3) (256, 256) (256, 256)\n",
            "_01_test_5\n",
            "(256, 256, 1) 1.0 0.0025497032\n",
            "(256, 256, 3) (256, 256) (256, 256)\n"
          ]
        },
        {
          "output_type": "stream",
          "name": "stderr",
          "text": [
            "\r  3%|▎         | 6/180 [00:01<00:29,  5.80it/s]"
          ]
        },
        {
          "output_type": "stream",
          "name": "stdout",
          "text": [
            "_01_test_6\n",
            "(256, 256, 1) 0.99993336 0.0027987852\n",
            "(256, 256, 3) (256, 256) (256, 256)\n"
          ]
        },
        {
          "output_type": "stream",
          "name": "stderr",
          "text": [
            "\r  4%|▍         | 7/180 [00:01<00:29,  5.96it/s]"
          ]
        },
        {
          "output_type": "stream",
          "name": "stdout",
          "text": [
            "_01_test_7\n"
          ]
        },
        {
          "output_type": "stream",
          "name": "stderr",
          "text": [
            "\r  4%|▍         | 8/180 [00:01<00:29,  5.91it/s]"
          ]
        },
        {
          "output_type": "stream",
          "name": "stdout",
          "text": [
            "(256, 256, 1) 1.0 0.0015685322\n",
            "(256, 256, 3) (256, 256) (256, 256)\n",
            "_01_test_8\n",
            "(256, 256, 1) 1.0 0.0023256538\n",
            "(256, 256, 3) (256, 256) (256, 256)\n"
          ]
        },
        {
          "output_type": "stream",
          "name": "stderr",
          "text": [
            "\r  5%|▌         | 9/180 [00:01<00:28,  5.91it/s]"
          ]
        },
        {
          "output_type": "stream",
          "name": "stdout",
          "text": [
            "_02_test_0\n",
            "(256, 256, 1) 1.0 0.0017326708\n",
            "(256, 256, 3) (256, 256) (256, 256)\n"
          ]
        },
        {
          "output_type": "stream",
          "name": "stderr",
          "text": [
            "\r  6%|▌         | 10/180 [00:01<00:28,  5.93it/s]"
          ]
        },
        {
          "output_type": "stream",
          "name": "stdout",
          "text": [
            "_02_test_1\n"
          ]
        },
        {
          "output_type": "stream",
          "name": "stderr",
          "text": [
            "\r  6%|▌         | 11/180 [00:01<00:28,  5.87it/s]"
          ]
        },
        {
          "output_type": "stream",
          "name": "stdout",
          "text": [
            "(256, 256, 1) 1.0 0.0015636651\n",
            "(256, 256, 3) (256, 256) (256, 256)\n",
            "_02_test_2\n",
            "(256, 256, 1) 1.0 0.0027573523\n",
            "(256, 256, 3) (256, 256) (256, 256)\n"
          ]
        },
        {
          "output_type": "stream",
          "name": "stderr",
          "text": [
            "\r  7%|▋         | 12/180 [00:02<00:28,  5.93it/s]"
          ]
        },
        {
          "output_type": "stream",
          "name": "stdout",
          "text": [
            "_02_test_3\n",
            "(256, 256, 1) 1.0 0.0012589559\n",
            "(256, 256, 3) (256, 256) (256, 256)\n"
          ]
        },
        {
          "output_type": "stream",
          "name": "stderr",
          "text": [
            "\r  7%|▋         | 13/180 [00:02<00:28,  5.92it/s]"
          ]
        },
        {
          "output_type": "stream",
          "name": "stdout",
          "text": [
            "_02_test_4\n"
          ]
        },
        {
          "output_type": "stream",
          "name": "stderr",
          "text": [
            "\r  8%|▊         | 14/180 [00:02<00:28,  5.80it/s]"
          ]
        },
        {
          "output_type": "stream",
          "name": "stdout",
          "text": [
            "(256, 256, 1) 1.0 0.0016235481\n",
            "(256, 256, 3) (256, 256) (256, 256)\n",
            "_02_test_5\n",
            "(256, 256, 1) 1.0 2.0463943e-08\n",
            "(256, 256, 3) (256, 256) (256, 256)\n"
          ]
        },
        {
          "output_type": "stream",
          "name": "stderr",
          "text": [
            "\r  8%|▊         | 15/180 [00:02<00:28,  5.77it/s]"
          ]
        },
        {
          "output_type": "stream",
          "name": "stdout",
          "text": [
            "_02_test_6\n",
            "(256, 256, 1) 1.0 0.0027982485\n",
            "(256, 256, 3) (256, 256) (256, 256)\n"
          ]
        },
        {
          "output_type": "stream",
          "name": "stderr",
          "text": [
            "\r  9%|▉         | 16/180 [00:02<00:28,  5.75it/s]"
          ]
        },
        {
          "output_type": "stream",
          "name": "stdout",
          "text": [
            "_02_test_7\n"
          ]
        },
        {
          "output_type": "stream",
          "name": "stderr",
          "text": [
            "\r  9%|▉         | 17/180 [00:02<00:28,  5.77it/s]"
          ]
        },
        {
          "output_type": "stream",
          "name": "stdout",
          "text": [
            "(256, 256, 1) 1.0 0.0025049509\n",
            "(256, 256, 3) (256, 256) (256, 256)\n",
            "_02_test_8\n",
            "(256, 256, 1) 1.0 0.0021005804\n",
            "(256, 256, 3) (256, 256) (256, 256)\n"
          ]
        },
        {
          "output_type": "stream",
          "name": "stderr",
          "text": [
            "\r 10%|█         | 18/180 [00:03<00:27,  5.86it/s]"
          ]
        },
        {
          "output_type": "stream",
          "name": "stdout",
          "text": [
            "_03_test_0\n",
            "(256, 256, 1) 0.999987 0.003113981\n",
            "(256, 256, 3) (256, 256) (256, 256)\n"
          ]
        },
        {
          "output_type": "stream",
          "name": "stderr",
          "text": [
            "\r 11%|█         | 19/180 [00:03<00:27,  5.83it/s]"
          ]
        },
        {
          "output_type": "stream",
          "name": "stdout",
          "text": [
            "_03_test_1\n"
          ]
        },
        {
          "output_type": "stream",
          "name": "stderr",
          "text": [
            "\r 11%|█         | 20/180 [00:03<00:27,  5.82it/s]"
          ]
        },
        {
          "output_type": "stream",
          "name": "stdout",
          "text": [
            "(256, 256, 1) 0.9999999 0.00279378\n",
            "(256, 256, 3) (256, 256) (256, 256)\n",
            "_03_test_2\n",
            "(256, 256, 1) 0.99997497 0.0028824755\n",
            "(256, 256, 3) (256, 256) (256, 256)\n"
          ]
        },
        {
          "output_type": "stream",
          "name": "stderr",
          "text": [
            "\r 12%|█▏        | 21/180 [00:03<00:27,  5.87it/s]"
          ]
        },
        {
          "output_type": "stream",
          "name": "stdout",
          "text": [
            "_03_test_3\n",
            "(256, 256, 1) 1.0 0.0027640553\n",
            "(256, 256, 3) (256, 256) (256, 256)\n"
          ]
        },
        {
          "output_type": "stream",
          "name": "stderr",
          "text": [
            "\r 12%|█▏        | 22/180 [00:03<00:27,  5.82it/s]"
          ]
        },
        {
          "output_type": "stream",
          "name": "stdout",
          "text": [
            "_03_test_4\n"
          ]
        },
        {
          "output_type": "stream",
          "name": "stderr",
          "text": [
            "\r 13%|█▎        | 23/180 [00:03<00:27,  5.73it/s]"
          ]
        },
        {
          "output_type": "stream",
          "name": "stdout",
          "text": [
            "(256, 256, 1) 0.9999994 0.001618069\n",
            "(256, 256, 3) (256, 256) (256, 256)\n",
            "_03_test_5\n",
            "(256, 256, 1) 0.99999964 0.00315936\n",
            "(256, 256, 3) (256, 256) (256, 256)\n"
          ]
        },
        {
          "output_type": "stream",
          "name": "stderr",
          "text": [
            "\r 13%|█▎        | 24/180 [00:04<00:27,  5.74it/s]"
          ]
        },
        {
          "output_type": "stream",
          "name": "stdout",
          "text": [
            "_03_test_6\n",
            "(256, 256, 1) 0.9999989 0.0031063007\n",
            "(256, 256, 3) (256, 256) (256, 256)\n"
          ]
        },
        {
          "output_type": "stream",
          "name": "stderr",
          "text": [
            "\r 14%|█▍        | 25/180 [00:04<00:26,  5.83it/s]"
          ]
        },
        {
          "output_type": "stream",
          "name": "stdout",
          "text": [
            "_03_test_7\n"
          ]
        },
        {
          "output_type": "stream",
          "name": "stderr",
          "text": [
            "\r 14%|█▍        | 26/180 [00:04<00:26,  5.81it/s]"
          ]
        },
        {
          "output_type": "stream",
          "name": "stdout",
          "text": [
            "(256, 256, 1) 1.0 0.0017462524\n",
            "(256, 256, 3) (256, 256) (256, 256)\n",
            "_03_test_8\n",
            "(256, 256, 1) 1.0 0.002499135\n",
            "(256, 256, 3) (256, 256) (256, 256)\n"
          ]
        },
        {
          "output_type": "stream",
          "name": "stderr",
          "text": [
            "\r 15%|█▌        | 27/180 [00:04<00:26,  5.85it/s]"
          ]
        },
        {
          "output_type": "stream",
          "name": "stdout",
          "text": [
            "_04_test_0\n",
            "(256, 256, 1) 1.0 0.0015805607\n",
            "(256, 256, 3) (256, 256) (256, 256)\n"
          ]
        },
        {
          "output_type": "stream",
          "name": "stderr",
          "text": [
            "\r 16%|█▌        | 28/180 [00:04<00:25,  5.86it/s]"
          ]
        },
        {
          "output_type": "stream",
          "name": "stdout",
          "text": [
            "_04_test_1\n"
          ]
        },
        {
          "output_type": "stream",
          "name": "stderr",
          "text": [
            "\r 16%|█▌        | 29/180 [00:04<00:25,  5.87it/s]"
          ]
        },
        {
          "output_type": "stream",
          "name": "stdout",
          "text": [
            "(256, 256, 1) 1.0 0.0017972533\n",
            "(256, 256, 3) (256, 256) (256, 256)\n",
            "_04_test_2\n",
            "(256, 256, 1) 1.0 0.0033281487\n",
            "(256, 256, 3) (256, 256) (256, 256)\n"
          ]
        },
        {
          "output_type": "stream",
          "name": "stderr",
          "text": [
            "\r 17%|█▋        | 30/180 [00:05<00:25,  5.86it/s]"
          ]
        },
        {
          "output_type": "stream",
          "name": "stdout",
          "text": [
            "_04_test_3\n",
            "(256, 256, 1) 1.0 0.0014023816\n",
            "(256, 256, 3) (256, 256) (256, 256)\n"
          ]
        },
        {
          "output_type": "stream",
          "name": "stderr",
          "text": [
            "\r 17%|█▋        | 31/180 [00:05<00:25,  5.86it/s]"
          ]
        },
        {
          "output_type": "stream",
          "name": "stdout",
          "text": [
            "_04_test_4\n"
          ]
        },
        {
          "output_type": "stream",
          "name": "stderr",
          "text": [
            "\r 18%|█▊        | 32/180 [00:05<00:25,  5.76it/s]"
          ]
        },
        {
          "output_type": "stream",
          "name": "stdout",
          "text": [
            "(256, 256, 1) 1.0 1.6996693e-06\n",
            "(256, 256, 3) (256, 256) (256, 256)\n",
            "_04_test_5\n",
            "(256, 256, 1) 1.0 0.0023260056\n",
            "(256, 256, 3) (256, 256) (256, 256)\n"
          ]
        },
        {
          "output_type": "stream",
          "name": "stderr",
          "text": [
            "\r 18%|█▊        | 33/180 [00:05<00:25,  5.76it/s]"
          ]
        },
        {
          "output_type": "stream",
          "name": "stdout",
          "text": [
            "_04_test_6\n",
            "(256, 256, 1) 0.99865925 0.003450766\n",
            "(256, 256, 3) (256, 256) (256, 256)\n"
          ]
        },
        {
          "output_type": "stream",
          "name": "stderr",
          "text": [
            "\r 19%|█▉        | 34/180 [00:05<00:25,  5.77it/s]"
          ]
        },
        {
          "output_type": "stream",
          "name": "stdout",
          "text": [
            "_04_test_7\n"
          ]
        },
        {
          "output_type": "stream",
          "name": "stderr",
          "text": [
            "\r 19%|█▉        | 35/180 [00:05<00:24,  5.80it/s]"
          ]
        },
        {
          "output_type": "stream",
          "name": "stdout",
          "text": [
            "(256, 256, 1) 1.0 0.0022568915\n",
            "(256, 256, 3) (256, 256) (256, 256)\n",
            "_04_test_8\n",
            "(256, 256, 1) 1.0 0.0026506784\n",
            "(256, 256, 3) (256, 256) (256, 256)\n"
          ]
        },
        {
          "output_type": "stream",
          "name": "stderr",
          "text": [
            "\r 20%|██        | 36/180 [00:06<00:24,  5.84it/s]"
          ]
        },
        {
          "output_type": "stream",
          "name": "stdout",
          "text": [
            "_05_test_0\n",
            "(256, 256, 1) 0.9999993 0.0032174033\n",
            "(256, 256, 3) (256, 256) (256, 256)\n"
          ]
        },
        {
          "output_type": "stream",
          "name": "stderr",
          "text": [
            "\r 21%|██        | 37/180 [00:06<00:24,  5.90it/s]"
          ]
        },
        {
          "output_type": "stream",
          "name": "stdout",
          "text": [
            "_05_test_1\n"
          ]
        },
        {
          "output_type": "stream",
          "name": "stderr",
          "text": [
            "\r 21%|██        | 38/180 [00:06<00:24,  5.80it/s]"
          ]
        },
        {
          "output_type": "stream",
          "name": "stdout",
          "text": [
            "(256, 256, 1) 1.0 0.0029287224\n",
            "(256, 256, 3) (256, 256) (256, 256)\n",
            "_05_test_2\n",
            "(256, 256, 1) 0.9998399 0.0034696963\n",
            "(256, 256, 3) (256, 256) (256, 256)\n"
          ]
        },
        {
          "output_type": "stream",
          "name": "stderr",
          "text": [
            "\r 22%|██▏       | 39/180 [00:06<00:24,  5.71it/s]"
          ]
        },
        {
          "output_type": "stream",
          "name": "stdout",
          "text": [
            "_05_test_3\n",
            "(256, 256, 1) 1.0 0.00019561034\n",
            "(256, 256, 3) (256, 256) (256, 256)\n"
          ]
        },
        {
          "output_type": "stream",
          "name": "stderr",
          "text": [
            "\r 22%|██▏       | 40/180 [00:06<00:24,  5.70it/s]"
          ]
        },
        {
          "output_type": "stream",
          "name": "stdout",
          "text": [
            "_05_test_4\n"
          ]
        },
        {
          "output_type": "stream",
          "name": "stderr",
          "text": [
            "\r 23%|██▎       | 41/180 [00:07<00:24,  5.71it/s]"
          ]
        },
        {
          "output_type": "stream",
          "name": "stdout",
          "text": [
            "(256, 256, 1) 1.0 0.002820454\n",
            "(256, 256, 3) (256, 256) (256, 256)\n",
            "_05_test_5\n",
            "(256, 256, 1) 1.0 0.0032349436\n",
            "(256, 256, 3) (256, 256) (256, 256)\n"
          ]
        },
        {
          "output_type": "stream",
          "name": "stderr",
          "text": [
            "\r 23%|██▎       | 42/180 [00:07<00:24,  5.75it/s]"
          ]
        },
        {
          "output_type": "stream",
          "name": "stdout",
          "text": [
            "_05_test_6\n",
            "(256, 256, 1) 0.99997807 0.002436326\n",
            "(256, 256, 3) (256, 256) (256, 256)\n"
          ]
        },
        {
          "output_type": "stream",
          "name": "stderr",
          "text": [
            "\r 24%|██▍       | 43/180 [00:07<00:23,  5.77it/s]"
          ]
        },
        {
          "output_type": "stream",
          "name": "stdout",
          "text": [
            "_05_test_7\n"
          ]
        },
        {
          "output_type": "stream",
          "name": "stderr",
          "text": [
            "\r 24%|██▍       | 44/180 [00:07<00:23,  5.78it/s]"
          ]
        },
        {
          "output_type": "stream",
          "name": "stdout",
          "text": [
            "(256, 256, 1) 1.0 0.0024895654\n",
            "(256, 256, 3) (256, 256) (256, 256)\n",
            "_05_test_8\n",
            "(256, 256, 1) 0.9999894 0.0026601015\n",
            "(256, 256, 3) (256, 256) (256, 256)\n"
          ]
        },
        {
          "output_type": "stream",
          "name": "stderr",
          "text": [
            "\r 25%|██▌       | 45/180 [00:07<00:23,  5.82it/s]"
          ]
        },
        {
          "output_type": "stream",
          "name": "stdout",
          "text": [
            "_06_test_0\n",
            "(256, 256, 1) 0.9999994 0.0027704493\n",
            "(256, 256, 3) (256, 256) (256, 256)\n"
          ]
        },
        {
          "output_type": "stream",
          "name": "stderr",
          "text": [
            "\r 26%|██▌       | 46/180 [00:07<00:22,  5.86it/s]"
          ]
        },
        {
          "output_type": "stream",
          "name": "stdout",
          "text": [
            "_06_test_1\n"
          ]
        },
        {
          "output_type": "stream",
          "name": "stderr",
          "text": [
            "\r 26%|██▌       | 47/180 [00:08<00:22,  5.91it/s]"
          ]
        },
        {
          "output_type": "stream",
          "name": "stdout",
          "text": [
            "(256, 256, 1) 1.0 0.0021634046\n",
            "(256, 256, 3) (256, 256) (256, 256)\n",
            "_06_test_2\n",
            "(256, 256, 1) 0.99999976 0.0032720056\n",
            "(256, 256, 3) (256, 256) (256, 256)\n"
          ]
        },
        {
          "output_type": "stream",
          "name": "stderr",
          "text": [
            "\r 27%|██▋       | 48/180 [00:08<00:21,  6.00it/s]"
          ]
        },
        {
          "output_type": "stream",
          "name": "stdout",
          "text": [
            "_06_test_3\n",
            "(256, 256, 1) 0.9999993 0.0017843796\n",
            "(256, 256, 3) (256, 256) (256, 256)\n"
          ]
        },
        {
          "output_type": "stream",
          "name": "stderr",
          "text": [
            "\r 27%|██▋       | 49/180 [00:08<00:22,  5.93it/s]"
          ]
        },
        {
          "output_type": "stream",
          "name": "stdout",
          "text": [
            "_06_test_4\n"
          ]
        },
        {
          "output_type": "stream",
          "name": "stderr",
          "text": [
            "\r 28%|██▊       | 50/180 [00:08<00:22,  5.83it/s]"
          ]
        },
        {
          "output_type": "stream",
          "name": "stdout",
          "text": [
            "(256, 256, 1) 1.0 0.0019114347\n",
            "(256, 256, 3) (256, 256) (256, 256)\n",
            "_06_test_5\n",
            "(256, 256, 1) 1.0 0.0020355445\n",
            "(256, 256, 3) (256, 256) (256, 256)\n"
          ]
        },
        {
          "output_type": "stream",
          "name": "stderr",
          "text": [
            "\r 28%|██▊       | 51/180 [00:08<00:22,  5.80it/s]"
          ]
        },
        {
          "output_type": "stream",
          "name": "stdout",
          "text": [
            "_06_test_6\n",
            "(256, 256, 1) 0.99995935 0.0018770404\n",
            "(256, 256, 3) (256, 256) (256, 256)\n"
          ]
        },
        {
          "output_type": "stream",
          "name": "stderr",
          "text": [
            "\r 29%|██▉       | 52/180 [00:08<00:22,  5.80it/s]"
          ]
        },
        {
          "output_type": "stream",
          "name": "stdout",
          "text": [
            "_06_test_7\n"
          ]
        },
        {
          "output_type": "stream",
          "name": "stderr",
          "text": [
            "\r 29%|██▉       | 53/180 [00:09<00:21,  5.83it/s]"
          ]
        },
        {
          "output_type": "stream",
          "name": "stdout",
          "text": [
            "(256, 256, 1) 1.0 0.0019055987\n",
            "(256, 256, 3) (256, 256) (256, 256)\n",
            "_06_test_8\n",
            "(256, 256, 1) 1.0 0.0023841339\n",
            "(256, 256, 3) (256, 256) (256, 256)\n"
          ]
        },
        {
          "output_type": "stream",
          "name": "stderr",
          "text": [
            "\r 30%|███       | 54/180 [00:09<00:21,  5.86it/s]"
          ]
        },
        {
          "output_type": "stream",
          "name": "stdout",
          "text": [
            "_07_test_0\n",
            "(256, 256, 1) 1.0 0.0023789417\n",
            "(256, 256, 3) (256, 256) (256, 256)\n"
          ]
        },
        {
          "output_type": "stream",
          "name": "stderr",
          "text": [
            "\r 31%|███       | 55/180 [00:09<00:21,  5.78it/s]"
          ]
        },
        {
          "output_type": "stream",
          "name": "stdout",
          "text": [
            "_07_test_1\n"
          ]
        },
        {
          "output_type": "stream",
          "name": "stderr",
          "text": [
            "\r 31%|███       | 56/180 [00:09<00:21,  5.75it/s]"
          ]
        },
        {
          "output_type": "stream",
          "name": "stdout",
          "text": [
            "(256, 256, 1) 1.0 0.0021393693\n",
            "(256, 256, 3) (256, 256) (256, 256)\n",
            "_07_test_2\n",
            "(256, 256, 1) 0.99999917 0.0022792243\n",
            "(256, 256, 3) (256, 256) (256, 256)\n"
          ]
        },
        {
          "output_type": "stream",
          "name": "stderr",
          "text": [
            "\r 32%|███▏      | 57/180 [00:09<00:21,  5.84it/s]"
          ]
        },
        {
          "output_type": "stream",
          "name": "stdout",
          "text": [
            "_07_test_3\n",
            "(256, 256, 1) 1.0 0.0014066624\n",
            "(256, 256, 3) (256, 256) (256, 256)\n"
          ]
        },
        {
          "output_type": "stream",
          "name": "stderr",
          "text": [
            "\r 32%|███▏      | 58/180 [00:09<00:20,  5.87it/s]"
          ]
        },
        {
          "output_type": "stream",
          "name": "stdout",
          "text": [
            "_07_test_4\n"
          ]
        },
        {
          "output_type": "stream",
          "name": "stderr",
          "text": [
            "\r 33%|███▎      | 59/180 [00:10<00:20,  5.88it/s]"
          ]
        },
        {
          "output_type": "stream",
          "name": "stdout",
          "text": [
            "(256, 256, 1) 1.0 0.002835919\n",
            "(256, 256, 3) (256, 256) (256, 256)\n",
            "_07_test_5\n",
            "(256, 256, 1) 1.0 0.0026752034\n",
            "(256, 256, 3) (256, 256) (256, 256)\n"
          ]
        },
        {
          "output_type": "stream",
          "name": "stderr",
          "text": [
            "\r 33%|███▎      | 60/180 [00:10<00:20,  5.90it/s]"
          ]
        },
        {
          "output_type": "stream",
          "name": "stdout",
          "text": [
            "_07_test_6\n",
            "(256, 256, 1) 0.9999994 0.004050202\n",
            "(256, 256, 3) (256, 256) (256, 256)\n"
          ]
        },
        {
          "output_type": "stream",
          "name": "stderr",
          "text": [
            "\r 34%|███▍      | 61/180 [00:10<00:19,  5.97it/s]"
          ]
        },
        {
          "output_type": "stream",
          "name": "stdout",
          "text": [
            "_07_test_7\n"
          ]
        },
        {
          "output_type": "stream",
          "name": "stderr",
          "text": [
            "\r 34%|███▍      | 62/180 [00:10<00:19,  5.94it/s]"
          ]
        },
        {
          "output_type": "stream",
          "name": "stdout",
          "text": [
            "(256, 256, 1) 1.0 0.002506134\n",
            "(256, 256, 3) (256, 256) (256, 256)\n",
            "_07_test_8\n",
            "(256, 256, 1) 1.0 0.0020653836\n",
            "(256, 256, 3) (256, 256) (256, 256)\n"
          ]
        },
        {
          "output_type": "stream",
          "name": "stderr",
          "text": [
            "\r 35%|███▌      | 63/180 [00:10<00:19,  5.98it/s]"
          ]
        },
        {
          "output_type": "stream",
          "name": "stdout",
          "text": [
            "_08_test_0\n",
            "(256, 256, 1) 1.0 0.0023477906\n",
            "(256, 256, 3) (256, 256) (256, 256)\n"
          ]
        },
        {
          "output_type": "stream",
          "name": "stderr",
          "text": [
            "\r 36%|███▌      | 64/180 [00:10<00:19,  5.98it/s]"
          ]
        },
        {
          "output_type": "stream",
          "name": "stdout",
          "text": [
            "_08_test_1\n"
          ]
        },
        {
          "output_type": "stream",
          "name": "stderr",
          "text": [
            "\r 36%|███▌      | 65/180 [00:11<00:19,  5.97it/s]"
          ]
        },
        {
          "output_type": "stream",
          "name": "stdout",
          "text": [
            "(256, 256, 1) 0.9999999 0.0029832856\n",
            "(256, 256, 3) (256, 256) (256, 256)\n",
            "_08_test_2\n",
            "(256, 256, 1) 0.9999944 0.0034584024\n",
            "(256, 256, 3) (256, 256) (256, 256)\n"
          ]
        },
        {
          "output_type": "stream",
          "name": "stderr",
          "text": [
            "\r 37%|███▋      | 66/180 [00:11<00:18,  6.09it/s]"
          ]
        },
        {
          "output_type": "stream",
          "name": "stdout",
          "text": [
            "_08_test_3\n",
            "(256, 256, 1) 0.99999833 0.0013611367\n",
            "(256, 256, 3) (256, 256) (256, 256)\n"
          ]
        },
        {
          "output_type": "stream",
          "name": "stderr",
          "text": [
            "\r 37%|███▋      | 67/180 [00:11<00:18,  6.09it/s]"
          ]
        },
        {
          "output_type": "stream",
          "name": "stdout",
          "text": [
            "_08_test_4\n"
          ]
        },
        {
          "output_type": "stream",
          "name": "stderr",
          "text": [
            "\r 38%|███▊      | 68/180 [00:11<00:18,  6.04it/s]"
          ]
        },
        {
          "output_type": "stream",
          "name": "stdout",
          "text": [
            "(256, 256, 1) 0.9999993 0.0023621898\n",
            "(256, 256, 3) (256, 256) (256, 256)\n",
            "_08_test_5\n",
            "(256, 256, 1) 1.0 1.8519964e-05\n",
            "(256, 256, 3) (256, 256) (256, 256)\n"
          ]
        },
        {
          "output_type": "stream",
          "name": "stderr",
          "text": [
            "\r 38%|███▊      | 69/180 [00:11<00:18,  5.97it/s]"
          ]
        },
        {
          "output_type": "stream",
          "name": "stdout",
          "text": [
            "_08_test_6\n",
            "(256, 256, 1) 0.9999994 0.0032770077\n",
            "(256, 256, 3) (256, 256) (256, 256)\n"
          ]
        },
        {
          "output_type": "stream",
          "name": "stderr",
          "text": [
            "\r 39%|███▉      | 70/180 [00:11<00:18,  6.01it/s]"
          ]
        },
        {
          "output_type": "stream",
          "name": "stdout",
          "text": [
            "_08_test_7\n"
          ]
        },
        {
          "output_type": "stream",
          "name": "stderr",
          "text": [
            "\r 39%|███▉      | 71/180 [00:12<00:18,  5.96it/s]"
          ]
        },
        {
          "output_type": "stream",
          "name": "stdout",
          "text": [
            "(256, 256, 1) 1.0 0.0031350055\n",
            "(256, 256, 3) (256, 256) (256, 256)\n",
            "_08_test_8\n",
            "(256, 256, 1) 0.99999404 0.0030807687\n",
            "(256, 256, 3) (256, 256) (256, 256)\n"
          ]
        },
        {
          "output_type": "stream",
          "name": "stderr",
          "text": [
            "\r 40%|████      | 72/180 [00:12<00:18,  5.97it/s]"
          ]
        },
        {
          "output_type": "stream",
          "name": "stdout",
          "text": [
            "_09_test_0\n",
            "(256, 256, 1) 1.0 0.0021662826\n",
            "(256, 256, 3) (256, 256) (256, 256)\n"
          ]
        },
        {
          "output_type": "stream",
          "name": "stderr",
          "text": [
            "\r 41%|████      | 73/180 [00:12<00:17,  5.96it/s]"
          ]
        },
        {
          "output_type": "stream",
          "name": "stdout",
          "text": [
            "_09_test_1\n"
          ]
        },
        {
          "output_type": "stream",
          "name": "stderr",
          "text": [
            "\r 41%|████      | 74/180 [00:12<00:17,  5.95it/s]"
          ]
        },
        {
          "output_type": "stream",
          "name": "stdout",
          "text": [
            "(256, 256, 1) 1.0 0.0023590703\n",
            "(256, 256, 3) (256, 256) (256, 256)\n",
            "_09_test_2\n",
            "(256, 256, 1) 0.99907744 0.002876408\n",
            "(256, 256, 3) (256, 256) (256, 256)\n"
          ]
        },
        {
          "output_type": "stream",
          "name": "stderr",
          "text": [
            "\r 42%|████▏     | 75/180 [00:12<00:17,  5.98it/s]"
          ]
        },
        {
          "output_type": "stream",
          "name": "stdout",
          "text": [
            "_09_test_3\n",
            "(256, 256, 1) 1.0 6.3474104e-08\n",
            "(256, 256, 3) (256, 256) (256, 256)\n"
          ]
        },
        {
          "output_type": "stream",
          "name": "stderr",
          "text": [
            "\r 42%|████▏     | 76/180 [00:12<00:17,  5.95it/s]"
          ]
        },
        {
          "output_type": "stream",
          "name": "stdout",
          "text": [
            "_09_test_4\n"
          ]
        },
        {
          "output_type": "stream",
          "name": "stderr",
          "text": [
            "\r 43%|████▎     | 77/180 [00:13<00:17,  5.94it/s]"
          ]
        },
        {
          "output_type": "stream",
          "name": "stdout",
          "text": [
            "(256, 256, 1) 1.0 0.0020739676\n",
            "(256, 256, 3) (256, 256) (256, 256)\n",
            "_09_test_5\n",
            "(256, 256, 1) 0.9999994 0.0025790415\n",
            "(256, 256, 3) (256, 256) (256, 256)\n"
          ]
        },
        {
          "output_type": "stream",
          "name": "stderr",
          "text": [
            "\r 43%|████▎     | 78/180 [00:13<00:17,  5.93it/s]"
          ]
        },
        {
          "output_type": "stream",
          "name": "stdout",
          "text": [
            "_09_test_6\n",
            "(256, 256, 1) 0.99992335 0.0018644443\n",
            "(256, 256, 3) (256, 256) (256, 256)\n"
          ]
        },
        {
          "output_type": "stream",
          "name": "stderr",
          "text": [
            "\r 44%|████▍     | 79/180 [00:13<00:16,  5.95it/s]"
          ]
        },
        {
          "output_type": "stream",
          "name": "stdout",
          "text": [
            "_09_test_7\n"
          ]
        },
        {
          "output_type": "stream",
          "name": "stderr",
          "text": [
            "\r 44%|████▍     | 80/180 [00:13<00:16,  5.91it/s]"
          ]
        },
        {
          "output_type": "stream",
          "name": "stdout",
          "text": [
            "(256, 256, 1) 1.0 0.0014775869\n",
            "(256, 256, 3) (256, 256) (256, 256)\n",
            "_09_test_8\n",
            "(256, 256, 1) 1.0 0.0019581106\n",
            "(256, 256, 3) (256, 256) (256, 256)\n"
          ]
        },
        {
          "output_type": "stream",
          "name": "stderr",
          "text": [
            "\r 45%|████▌     | 81/180 [00:13<00:16,  5.90it/s]"
          ]
        },
        {
          "output_type": "stream",
          "name": "stdout",
          "text": [
            "_10_test_0\n",
            "(256, 256, 1) 0.9999999 0.0036745423\n",
            "(256, 256, 3) (256, 256) (256, 256)\n"
          ]
        },
        {
          "output_type": "stream",
          "name": "stderr",
          "text": [
            "\r 46%|████▌     | 82/180 [00:13<00:16,  5.90it/s]"
          ]
        },
        {
          "output_type": "stream",
          "name": "stdout",
          "text": [
            "_10_test_1\n"
          ]
        },
        {
          "output_type": "stream",
          "name": "stderr",
          "text": [
            "\r 46%|████▌     | 83/180 [00:14<00:16,  5.90it/s]"
          ]
        },
        {
          "output_type": "stream",
          "name": "stdout",
          "text": [
            "(256, 256, 1) 1.0 0.002869001\n",
            "(256, 256, 3) (256, 256) (256, 256)\n",
            "_10_test_2\n",
            "(256, 256, 1) 0.99999964 0.0038357838\n",
            "(256, 256, 3) (256, 256) (256, 256)\n"
          ]
        },
        {
          "output_type": "stream",
          "name": "stderr",
          "text": [
            "\r 47%|████▋     | 84/180 [00:14<00:16,  5.93it/s]"
          ]
        },
        {
          "output_type": "stream",
          "name": "stdout",
          "text": [
            "_10_test_3\n",
            "(256, 256, 1) 0.9999994 0.0038708213\n",
            "(256, 256, 3) (256, 256) (256, 256)\n"
          ]
        },
        {
          "output_type": "stream",
          "name": "stderr",
          "text": [
            "\r 47%|████▋     | 85/180 [00:14<00:16,  5.89it/s]"
          ]
        },
        {
          "output_type": "stream",
          "name": "stdout",
          "text": [
            "_10_test_4\n"
          ]
        },
        {
          "output_type": "stream",
          "name": "stderr",
          "text": [
            "\r 48%|████▊     | 86/180 [00:14<00:16,  5.81it/s]"
          ]
        },
        {
          "output_type": "stream",
          "name": "stdout",
          "text": [
            "(256, 256, 1) 1.0 0.0021269852\n",
            "(256, 256, 3) (256, 256) (256, 256)\n",
            "_10_test_5\n",
            "(256, 256, 1) 1.0 0.0014325952\n",
            "(256, 256, 3) (256, 256) (256, 256)\n"
          ]
        },
        {
          "output_type": "stream",
          "name": "stderr",
          "text": [
            "\r 48%|████▊     | 87/180 [00:14<00:16,  5.80it/s]"
          ]
        },
        {
          "output_type": "stream",
          "name": "stdout",
          "text": [
            "_10_test_6\n",
            "(256, 256, 1) 0.9999924 0.00370331\n",
            "(256, 256, 3) (256, 256) (256, 256)\n"
          ]
        },
        {
          "output_type": "stream",
          "name": "stderr",
          "text": [
            "\r 49%|████▉     | 88/180 [00:14<00:15,  5.81it/s]"
          ]
        },
        {
          "output_type": "stream",
          "name": "stdout",
          "text": [
            "_10_test_7\n"
          ]
        },
        {
          "output_type": "stream",
          "name": "stderr",
          "text": [
            "\r 49%|████▉     | 89/180 [00:15<00:15,  5.81it/s]"
          ]
        },
        {
          "output_type": "stream",
          "name": "stdout",
          "text": [
            "(256, 256, 1) 1.0 0.003023087\n",
            "(256, 256, 3) (256, 256) (256, 256)\n",
            "_10_test_8\n",
            "(256, 256, 1) 0.99999464 0.003623057\n",
            "(256, 256, 3) (256, 256) (256, 256)\n"
          ]
        },
        {
          "output_type": "stream",
          "name": "stderr",
          "text": [
            "\r 50%|█████     | 90/180 [00:15<00:15,  5.84it/s]"
          ]
        },
        {
          "output_type": "stream",
          "name": "stdout",
          "text": [
            "_11_test_0\n",
            "(256, 256, 1) 1.0 0.001463324\n",
            "(256, 256, 3) (256, 256) (256, 256)\n"
          ]
        },
        {
          "output_type": "stream",
          "name": "stderr",
          "text": [
            "\r 51%|█████     | 91/180 [00:15<00:15,  5.87it/s]"
          ]
        },
        {
          "output_type": "stream",
          "name": "stdout",
          "text": [
            "_11_test_1\n"
          ]
        },
        {
          "output_type": "stream",
          "name": "stderr",
          "text": [
            "\r 51%|█████     | 92/180 [00:15<00:14,  5.87it/s]"
          ]
        },
        {
          "output_type": "stream",
          "name": "stdout",
          "text": [
            "(256, 256, 1) 1.0 0.0016998716\n",
            "(256, 256, 3) (256, 256) (256, 256)\n",
            "_11_test_2\n",
            "(256, 256, 1) 0.9999995 0.0033761521\n",
            "(256, 256, 3) (256, 256) (256, 256)\n"
          ]
        },
        {
          "output_type": "stream",
          "name": "stderr",
          "text": [
            "\r 52%|█████▏    | 93/180 [00:15<00:14,  5.89it/s]"
          ]
        },
        {
          "output_type": "stream",
          "name": "stdout",
          "text": [
            "_11_test_3\n",
            "(256, 256, 1) 1.0 2.792594e-05\n",
            "(256, 256, 3) (256, 256) (256, 256)\n"
          ]
        },
        {
          "output_type": "stream",
          "name": "stderr",
          "text": [
            "\r 52%|█████▏    | 94/180 [00:16<00:14,  5.85it/s]"
          ]
        },
        {
          "output_type": "stream",
          "name": "stdout",
          "text": [
            "_11_test_4\n"
          ]
        },
        {
          "output_type": "stream",
          "name": "stderr",
          "text": [
            "\r 53%|█████▎    | 95/180 [00:16<00:14,  5.78it/s]"
          ]
        },
        {
          "output_type": "stream",
          "name": "stdout",
          "text": [
            "(256, 256, 1) 1.0 0.0018217431\n",
            "(256, 256, 3) (256, 256) (256, 256)\n",
            "_11_test_5\n",
            "(256, 256, 1) 1.0 0.0022808881\n",
            "(256, 256, 3) (256, 256) (256, 256)\n"
          ]
        },
        {
          "output_type": "stream",
          "name": "stderr",
          "text": [
            "\r 53%|█████▎    | 96/180 [00:16<00:14,  5.81it/s]"
          ]
        },
        {
          "output_type": "stream",
          "name": "stdout",
          "text": [
            "_11_test_6\n",
            "(256, 256, 1) 1.0 0.0027054197\n",
            "(256, 256, 3) (256, 256) (256, 256)\n"
          ]
        },
        {
          "output_type": "stream",
          "name": "stderr",
          "text": [
            "\r 54%|█████▍    | 97/180 [00:16<00:14,  5.91it/s]"
          ]
        },
        {
          "output_type": "stream",
          "name": "stdout",
          "text": [
            "_11_test_7\n"
          ]
        },
        {
          "output_type": "stream",
          "name": "stderr",
          "text": [
            "\r 54%|█████▍    | 98/180 [00:16<00:13,  5.94it/s]"
          ]
        },
        {
          "output_type": "stream",
          "name": "stdout",
          "text": [
            "(256, 256, 1) 1.0 0.0027092344\n",
            "(256, 256, 3) (256, 256) (256, 256)\n",
            "_11_test_8\n",
            "(256, 256, 1) 1.0 0.0031536932\n",
            "(256, 256, 3) (256, 256) (256, 256)\n"
          ]
        },
        {
          "output_type": "stream",
          "name": "stderr",
          "text": [
            "\r 55%|█████▌    | 99/180 [00:16<00:13,  6.04it/s]"
          ]
        },
        {
          "output_type": "stream",
          "name": "stdout",
          "text": [
            "_12_test_0\n",
            "(256, 256, 1) 0.9999999 0.0022589883\n",
            "(256, 256, 3) (256, 256) (256, 256)\n"
          ]
        },
        {
          "output_type": "stream",
          "name": "stderr",
          "text": [
            "\r 56%|█████▌    | 100/180 [00:17<00:13,  5.97it/s]"
          ]
        },
        {
          "output_type": "stream",
          "name": "stdout",
          "text": [
            "_12_test_1\n"
          ]
        },
        {
          "output_type": "stream",
          "name": "stderr",
          "text": [
            "\r 56%|█████▌    | 101/180 [00:17<00:13,  5.98it/s]"
          ]
        },
        {
          "output_type": "stream",
          "name": "stdout",
          "text": [
            "(256, 256, 1) 1.0 0.0023338378\n",
            "(256, 256, 3) (256, 256) (256, 256)\n",
            "_12_test_2\n",
            "(256, 256, 1) 0.99994373 0.003720501\n",
            "(256, 256, 3) (256, 256) (256, 256)\n"
          ]
        },
        {
          "output_type": "stream",
          "name": "stderr",
          "text": [
            "\r 57%|█████▋    | 102/180 [00:17<00:13,  5.99it/s]"
          ]
        },
        {
          "output_type": "stream",
          "name": "stdout",
          "text": [
            "_12_test_3\n",
            "(256, 256, 1) 1.0 0.0001775114\n",
            "(256, 256, 3) (256, 256) (256, 256)\n"
          ]
        },
        {
          "output_type": "stream",
          "name": "stderr",
          "text": [
            "\r 57%|█████▋    | 103/180 [00:17<00:13,  5.92it/s]"
          ]
        },
        {
          "output_type": "stream",
          "name": "stdout",
          "text": [
            "_12_test_4\n"
          ]
        },
        {
          "output_type": "stream",
          "name": "stderr",
          "text": [
            "\r 58%|█████▊    | 104/180 [00:17<00:13,  5.80it/s]"
          ]
        },
        {
          "output_type": "stream",
          "name": "stdout",
          "text": [
            "(256, 256, 1) 1.0 0.0021623878\n",
            "(256, 256, 3) (256, 256) (256, 256)\n",
            "_12_test_5\n",
            "(256, 256, 1) 0.99999654 0.0028795537\n",
            "(256, 256, 3) (256, 256) (256, 256)\n"
          ]
        },
        {
          "output_type": "stream",
          "name": "stderr",
          "text": [
            "\r 58%|█████▊    | 105/180 [00:17<00:12,  5.81it/s]"
          ]
        },
        {
          "output_type": "stream",
          "name": "stdout",
          "text": [
            "_12_test_6\n",
            "(256, 256, 1) 0.9999982 0.0023694555\n",
            "(256, 256, 3) (256, 256) (256, 256)\n"
          ]
        },
        {
          "output_type": "stream",
          "name": "stderr",
          "text": [
            "\r 59%|█████▉    | 106/180 [00:18<00:12,  5.86it/s]"
          ]
        },
        {
          "output_type": "stream",
          "name": "stdout",
          "text": [
            "_12_test_7\n"
          ]
        },
        {
          "output_type": "stream",
          "name": "stderr",
          "text": [
            "\r 59%|█████▉    | 107/180 [00:18<00:12,  5.90it/s]"
          ]
        },
        {
          "output_type": "stream",
          "name": "stdout",
          "text": [
            "(256, 256, 1) 1.0 0.0023935689\n",
            "(256, 256, 3) (256, 256) (256, 256)\n",
            "_12_test_8\n",
            "(256, 256, 1) 0.9999976 0.0025064084\n",
            "(256, 256, 3) (256, 256) (256, 256)\n"
          ]
        },
        {
          "output_type": "stream",
          "name": "stderr",
          "text": [
            "\r 60%|██████    | 108/180 [00:18<00:12,  5.98it/s]"
          ]
        },
        {
          "output_type": "stream",
          "name": "stdout",
          "text": [
            "_13_test_0\n",
            "(256, 256, 1) 1.0 0.0020166095\n",
            "(256, 256, 3) (256, 256) (256, 256)\n"
          ]
        },
        {
          "output_type": "stream",
          "name": "stderr",
          "text": [
            "\r 61%|██████    | 109/180 [00:18<00:11,  6.00it/s]"
          ]
        },
        {
          "output_type": "stream",
          "name": "stdout",
          "text": [
            "_13_test_1\n"
          ]
        },
        {
          "output_type": "stream",
          "name": "stderr",
          "text": [
            "\r 61%|██████    | 110/180 [00:18<00:11,  5.99it/s]"
          ]
        },
        {
          "output_type": "stream",
          "name": "stdout",
          "text": [
            "(256, 256, 1) 1.0 0.0020728104\n",
            "(256, 256, 3) (256, 256) (256, 256)\n",
            "_13_test_2\n",
            "(256, 256, 1) 1.0 0.0037856628\n",
            "(256, 256, 3) (256, 256) (256, 256)\n"
          ]
        },
        {
          "output_type": "stream",
          "name": "stderr",
          "text": [
            "\r 62%|██████▏   | 111/180 [00:18<00:11,  6.01it/s]"
          ]
        },
        {
          "output_type": "stream",
          "name": "stdout",
          "text": [
            "_13_test_3\n",
            "(256, 256, 1) 1.0 0.0019757177\n",
            "(256, 256, 3) (256, 256) (256, 256)\n"
          ]
        },
        {
          "output_type": "stream",
          "name": "stderr",
          "text": [
            "\r 62%|██████▏   | 112/180 [00:19<00:11,  5.95it/s]"
          ]
        },
        {
          "output_type": "stream",
          "name": "stdout",
          "text": [
            "_13_test_4\n"
          ]
        },
        {
          "output_type": "stream",
          "name": "stderr",
          "text": [
            "\r 63%|██████▎   | 113/180 [00:19<00:11,  5.84it/s]"
          ]
        },
        {
          "output_type": "stream",
          "name": "stdout",
          "text": [
            "(256, 256, 1) 1.0 0.0022813962\n",
            "(256, 256, 3) (256, 256) (256, 256)\n",
            "_13_test_5\n",
            "(256, 256, 1) 1.0 5.6879755e-05\n",
            "(256, 256, 3) (256, 256) (256, 256)\n"
          ]
        },
        {
          "output_type": "stream",
          "name": "stderr",
          "text": [
            "\r 63%|██████▎   | 114/180 [00:19<00:11,  5.85it/s]"
          ]
        },
        {
          "output_type": "stream",
          "name": "stdout",
          "text": [
            "_13_test_6\n",
            "(256, 256, 1) 1.0 0.0031593393\n",
            "(256, 256, 3) (256, 256) (256, 256)\n"
          ]
        },
        {
          "output_type": "stream",
          "name": "stderr",
          "text": [
            "\r 64%|██████▍   | 115/180 [00:19<00:11,  5.91it/s]"
          ]
        },
        {
          "output_type": "stream",
          "name": "stdout",
          "text": [
            "_13_test_7\n"
          ]
        },
        {
          "output_type": "stream",
          "name": "stderr",
          "text": [
            "\r 64%|██████▍   | 116/180 [00:19<00:10,  5.90it/s]"
          ]
        },
        {
          "output_type": "stream",
          "name": "stdout",
          "text": [
            "(256, 256, 1) 1.0 0.0019897239\n",
            "(256, 256, 3) (256, 256) (256, 256)\n",
            "_13_test_8\n",
            "(256, 256, 1) 1.0 0.0026818707\n",
            "(256, 256, 3) (256, 256) (256, 256)\n"
          ]
        },
        {
          "output_type": "stream",
          "name": "stderr",
          "text": [
            "\r 65%|██████▌   | 117/180 [00:19<00:10,  5.98it/s]"
          ]
        },
        {
          "output_type": "stream",
          "name": "stdout",
          "text": [
            "_14_test_0\n",
            "(256, 256, 1) 1.0 0.0029287224\n",
            "(256, 256, 3) (256, 256) (256, 256)\n"
          ]
        },
        {
          "output_type": "stream",
          "name": "stderr",
          "text": [
            "\r 66%|██████▌   | 118/180 [00:20<00:10,  6.04it/s]"
          ]
        },
        {
          "output_type": "stream",
          "name": "stdout",
          "text": [
            "_14_test_1\n"
          ]
        },
        {
          "output_type": "stream",
          "name": "stderr",
          "text": [
            "\r 66%|██████▌   | 119/180 [00:20<00:10,  6.01it/s]"
          ]
        },
        {
          "output_type": "stream",
          "name": "stdout",
          "text": [
            "(256, 256, 1) 1.0 0.0023725766\n",
            "(256, 256, 3) (256, 256) (256, 256)\n",
            "_14_test_2\n",
            "(256, 256, 1) 1.0 0.0020903025\n",
            "(256, 256, 3) (256, 256) (256, 256)\n"
          ]
        },
        {
          "output_type": "stream",
          "name": "stderr",
          "text": [
            "\r 67%|██████▋   | 120/180 [00:20<00:09,  6.03it/s]"
          ]
        },
        {
          "output_type": "stream",
          "name": "stdout",
          "text": [
            "_14_test_3\n",
            "(256, 256, 1) 0.99999905 0.0026417018\n",
            "(256, 256, 3) (256, 256) (256, 256)\n"
          ]
        },
        {
          "output_type": "stream",
          "name": "stderr",
          "text": [
            "\r 67%|██████▋   | 121/180 [00:20<00:09,  5.99it/s]"
          ]
        },
        {
          "output_type": "stream",
          "name": "stdout",
          "text": [
            "_14_test_4\n"
          ]
        },
        {
          "output_type": "stream",
          "name": "stderr",
          "text": [
            "\r 68%|██████▊   | 122/180 [00:20<00:09,  5.87it/s]"
          ]
        },
        {
          "output_type": "stream",
          "name": "stdout",
          "text": [
            "(256, 256, 1) 1.0 0.0026130714\n",
            "(256, 256, 3) (256, 256) (256, 256)\n",
            "_14_test_5\n",
            "(256, 256, 1) 1.0 0.00024276531\n",
            "(256, 256, 3) (256, 256) (256, 256)\n"
          ]
        },
        {
          "output_type": "stream",
          "name": "stderr",
          "text": [
            "\r 68%|██████▊   | 123/180 [00:20<00:09,  5.82it/s]"
          ]
        },
        {
          "output_type": "stream",
          "name": "stdout",
          "text": [
            "_14_test_6\n",
            "(256, 256, 1) 0.9999988 0.003197136\n",
            "(256, 256, 3) (256, 256) (256, 256)\n"
          ]
        },
        {
          "output_type": "stream",
          "name": "stderr",
          "text": [
            "\r 69%|██████▉   | 124/180 [00:21<00:09,  5.90it/s]"
          ]
        },
        {
          "output_type": "stream",
          "name": "stdout",
          "text": [
            "_14_test_7\n"
          ]
        },
        {
          "output_type": "stream",
          "name": "stderr",
          "text": [
            "\r 69%|██████▉   | 125/180 [00:21<00:09,  5.93it/s]"
          ]
        },
        {
          "output_type": "stream",
          "name": "stdout",
          "text": [
            "(256, 256, 1) 1.0 0.0019767652\n",
            "(256, 256, 3) (256, 256) (256, 256)\n",
            "_14_test_8\n",
            "(256, 256, 1) 1.0 0.0017110354\n",
            "(256, 256, 3) (256, 256) (256, 256)\n"
          ]
        },
        {
          "output_type": "stream",
          "name": "stderr",
          "text": [
            "\r 70%|███████   | 126/180 [00:21<00:09,  5.99it/s]"
          ]
        },
        {
          "output_type": "stream",
          "name": "stdout",
          "text": [
            "_15_test_0\n",
            "(256, 256, 1) 1.0 0.0038642224\n",
            "(256, 256, 3) (256, 256) (256, 256)\n"
          ]
        },
        {
          "output_type": "stream",
          "name": "stderr",
          "text": [
            "\r 71%|███████   | 127/180 [00:21<00:08,  6.03it/s]"
          ]
        },
        {
          "output_type": "stream",
          "name": "stdout",
          "text": [
            "_15_test_1\n"
          ]
        },
        {
          "output_type": "stream",
          "name": "stderr",
          "text": [
            "\r 71%|███████   | 128/180 [00:21<00:08,  5.95it/s]"
          ]
        },
        {
          "output_type": "stream",
          "name": "stdout",
          "text": [
            "(256, 256, 1) 0.9999994 0.0032170669\n",
            "(256, 256, 3) (256, 256) (256, 256)\n",
            "_15_test_2\n",
            "(256, 256, 1) 0.9999312 0.0038264464\n",
            "(256, 256, 3) (256, 256) (256, 256)\n"
          ]
        },
        {
          "output_type": "stream",
          "name": "stderr",
          "text": [
            "\r 72%|███████▏  | 129/180 [00:21<00:08,  5.94it/s]"
          ]
        },
        {
          "output_type": "stream",
          "name": "stdout",
          "text": [
            "_15_test_3\n",
            "(256, 256, 1) 0.99999905 0.0030807252\n",
            "(256, 256, 3) (256, 256) (256, 256)\n"
          ]
        },
        {
          "output_type": "stream",
          "name": "stderr",
          "text": [
            "\r 72%|███████▏  | 130/180 [00:22<00:08,  5.88it/s]"
          ]
        },
        {
          "output_type": "stream",
          "name": "stdout",
          "text": [
            "_15_test_4\n"
          ]
        },
        {
          "output_type": "stream",
          "name": "stderr",
          "text": [
            "\r 73%|███████▎  | 131/180 [00:22<00:08,  5.84it/s]"
          ]
        },
        {
          "output_type": "stream",
          "name": "stdout",
          "text": [
            "(256, 256, 1) 1.0 0.00021662602\n",
            "(256, 256, 3) (256, 256) (256, 256)\n",
            "_15_test_5\n",
            "(256, 256, 1) 1.0 0.003294175\n",
            "(256, 256, 3) (256, 256) (256, 256)\n"
          ]
        },
        {
          "output_type": "stream",
          "name": "stderr",
          "text": [
            "\r 73%|███████▎  | 132/180 [00:22<00:08,  5.87it/s]"
          ]
        },
        {
          "output_type": "stream",
          "name": "stdout",
          "text": [
            "_15_test_6\n",
            "(256, 256, 1) 0.9999975 0.0036476848\n",
            "(256, 256, 3) (256, 256) (256, 256)\n"
          ]
        },
        {
          "output_type": "stream",
          "name": "stderr",
          "text": [
            "\r 74%|███████▍  | 133/180 [00:22<00:07,  5.90it/s]"
          ]
        },
        {
          "output_type": "stream",
          "name": "stdout",
          "text": [
            "_15_test_7\n"
          ]
        },
        {
          "output_type": "stream",
          "name": "stderr",
          "text": [
            "\r 74%|███████▍  | 134/180 [00:22<00:07,  5.87it/s]"
          ]
        },
        {
          "output_type": "stream",
          "name": "stdout",
          "text": [
            "(256, 256, 1) 0.9999958 0.0032644551\n",
            "(256, 256, 3) (256, 256) (256, 256)\n",
            "_15_test_8\n",
            "(256, 256, 1) 0.99999976 0.0042233556\n",
            "(256, 256, 3) (256, 256) (256, 256)\n"
          ]
        },
        {
          "output_type": "stream",
          "name": "stderr",
          "text": [
            "\r 75%|███████▌  | 135/180 [00:22<00:07,  5.97it/s]"
          ]
        },
        {
          "output_type": "stream",
          "name": "stdout",
          "text": [
            "_16_test_0\n",
            "(256, 256, 1) 1.0 0.0019547588\n",
            "(256, 256, 3) (256, 256) (256, 256)\n"
          ]
        },
        {
          "output_type": "stream",
          "name": "stderr",
          "text": [
            "\r 76%|███████▌  | 136/180 [00:23<00:07,  6.01it/s]"
          ]
        },
        {
          "output_type": "stream",
          "name": "stdout",
          "text": [
            "_16_test_1\n"
          ]
        },
        {
          "output_type": "stream",
          "name": "stderr",
          "text": [
            "\r 76%|███████▌  | 137/180 [00:23<00:07,  6.00it/s]"
          ]
        },
        {
          "output_type": "stream",
          "name": "stdout",
          "text": [
            "(256, 256, 1) 1.0 0.002080435\n",
            "(256, 256, 3) (256, 256) (256, 256)\n",
            "_16_test_2\n",
            "(256, 256, 1) 1.0 0.0028067864\n",
            "(256, 256, 3) (256, 256) (256, 256)\n"
          ]
        },
        {
          "output_type": "stream",
          "name": "stderr",
          "text": [
            "\r 77%|███████▋  | 138/180 [00:23<00:06,  6.06it/s]"
          ]
        },
        {
          "output_type": "stream",
          "name": "stdout",
          "text": [
            "_16_test_3\n",
            "(256, 256, 1) 1.0 0.0014670332\n",
            "(256, 256, 3) (256, 256) (256, 256)\n"
          ]
        },
        {
          "output_type": "stream",
          "name": "stderr",
          "text": [
            "\r 77%|███████▋  | 139/180 [00:23<00:06,  6.02it/s]"
          ]
        },
        {
          "output_type": "stream",
          "name": "stdout",
          "text": [
            "_16_test_4\n"
          ]
        },
        {
          "output_type": "stream",
          "name": "stderr",
          "text": [
            "\r 78%|███████▊  | 140/180 [00:23<00:06,  5.90it/s]"
          ]
        },
        {
          "output_type": "stream",
          "name": "stdout",
          "text": [
            "(256, 256, 1) 1.0 0.0019124965\n",
            "(256, 256, 3) (256, 256) (256, 256)\n",
            "_16_test_5\n",
            "(256, 256, 1) 1.0 3.0955976e-05\n",
            "(256, 256, 3) (256, 256) (256, 256)\n"
          ]
        },
        {
          "output_type": "stream",
          "name": "stderr",
          "text": [
            "\r 78%|███████▊  | 141/180 [00:23<00:06,  5.90it/s]"
          ]
        },
        {
          "output_type": "stream",
          "name": "stdout",
          "text": [
            "_16_test_6\n",
            "(256, 256, 1) 1.0 0.0025917608\n",
            "(256, 256, 3) (256, 256) (256, 256)\n"
          ]
        },
        {
          "output_type": "stream",
          "name": "stderr",
          "text": [
            "\r 79%|███████▉  | 142/180 [00:24<00:06,  5.91it/s]"
          ]
        },
        {
          "output_type": "stream",
          "name": "stdout",
          "text": [
            "_16_test_7\n"
          ]
        },
        {
          "output_type": "stream",
          "name": "stderr",
          "text": [
            "\r 79%|███████▉  | 143/180 [00:24<00:06,  5.91it/s]"
          ]
        },
        {
          "output_type": "stream",
          "name": "stdout",
          "text": [
            "(256, 256, 1) 1.0 0.0015676544\n",
            "(256, 256, 3) (256, 256) (256, 256)\n",
            "_16_test_8\n",
            "(256, 256, 1) 1.0 0.0016221822\n",
            "(256, 256, 3) (256, 256) (256, 256)\n"
          ]
        },
        {
          "output_type": "stream",
          "name": "stderr",
          "text": [
            "\r 80%|████████  | 144/180 [00:24<00:06,  5.90it/s]"
          ]
        },
        {
          "output_type": "stream",
          "name": "stdout",
          "text": [
            "_17_test_0\n",
            "(256, 256, 1) 1.0 0.001696928\n",
            "(256, 256, 3) (256, 256) (256, 256)\n"
          ]
        },
        {
          "output_type": "stream",
          "name": "stderr",
          "text": [
            "\r 81%|████████  | 145/180 [00:24<00:05,  6.01it/s]"
          ]
        },
        {
          "output_type": "stream",
          "name": "stdout",
          "text": [
            "_17_test_1\n"
          ]
        },
        {
          "output_type": "stream",
          "name": "stderr",
          "text": [
            "\r 81%|████████  | 146/180 [00:24<00:05,  5.94it/s]"
          ]
        },
        {
          "output_type": "stream",
          "name": "stdout",
          "text": [
            "(256, 256, 1) 1.0 0.0020156596\n",
            "(256, 256, 3) (256, 256) (256, 256)\n",
            "_17_test_2\n",
            "(256, 256, 1) 1.0 0.0030772022\n",
            "(256, 256, 3) (256, 256) (256, 256)\n"
          ]
        },
        {
          "output_type": "stream",
          "name": "stderr",
          "text": [
            "\r 82%|████████▏ | 147/180 [00:24<00:05,  5.98it/s]"
          ]
        },
        {
          "output_type": "stream",
          "name": "stdout",
          "text": [
            "_17_test_3\n",
            "(256, 256, 1) 0.99999964 0.0007638078\n",
            "(256, 256, 3) (256, 256) (256, 256)\n"
          ]
        },
        {
          "output_type": "stream",
          "name": "stderr",
          "text": [
            "\r 82%|████████▏ | 148/180 [00:25<00:05,  5.99it/s]"
          ]
        },
        {
          "output_type": "stream",
          "name": "stdout",
          "text": [
            "_17_test_4\n"
          ]
        },
        {
          "output_type": "stream",
          "name": "stderr",
          "text": [
            "\r 83%|████████▎ | 149/180 [00:25<00:05,  5.94it/s]"
          ]
        },
        {
          "output_type": "stream",
          "name": "stdout",
          "text": [
            "(256, 256, 1) 1.0 0.0017161987\n",
            "(256, 256, 3) (256, 256) (256, 256)\n",
            "_17_test_5\n",
            "(256, 256, 1) 1.0 4.9738787e-06\n",
            "(256, 256, 3) (256, 256) (256, 256)\n"
          ]
        },
        {
          "output_type": "stream",
          "name": "stderr",
          "text": [
            "\r 83%|████████▎ | 150/180 [00:25<00:05,  5.95it/s]"
          ]
        },
        {
          "output_type": "stream",
          "name": "stdout",
          "text": [
            "_17_test_6\n",
            "(256, 256, 1) 0.99963295 0.0005446214\n",
            "(256, 256, 3) (256, 256) (256, 256)\n"
          ]
        },
        {
          "output_type": "stream",
          "name": "stderr",
          "text": [
            "\r 84%|████████▍ | 151/180 [00:25<00:04,  5.96it/s]"
          ]
        },
        {
          "output_type": "stream",
          "name": "stdout",
          "text": [
            "_17_test_7\n"
          ]
        },
        {
          "output_type": "stream",
          "name": "stderr",
          "text": [
            "\r 84%|████████▍ | 152/180 [00:25<00:04,  5.89it/s]"
          ]
        },
        {
          "output_type": "stream",
          "name": "stdout",
          "text": [
            "(256, 256, 1) 1.0 0.000933585\n",
            "(256, 256, 3) (256, 256) (256, 256)\n",
            "_17_test_8\n",
            "(256, 256, 1) 1.0 0.0013232884\n",
            "(256, 256, 3) (256, 256) (256, 256)\n"
          ]
        },
        {
          "output_type": "stream",
          "name": "stderr",
          "text": [
            "\r 85%|████████▌ | 153/180 [00:25<00:04,  5.95it/s]"
          ]
        },
        {
          "output_type": "stream",
          "name": "stdout",
          "text": [
            "_18_test_0\n",
            "(256, 256, 1) 1.0 0.0019616764\n",
            "(256, 256, 3) (256, 256) (256, 256)\n"
          ]
        },
        {
          "output_type": "stream",
          "name": "stderr",
          "text": [
            "\r 86%|████████▌ | 154/180 [00:26<00:04,  5.95it/s]"
          ]
        },
        {
          "output_type": "stream",
          "name": "stdout",
          "text": [
            "_18_test_1\n"
          ]
        },
        {
          "output_type": "stream",
          "name": "stderr",
          "text": [
            "\r 86%|████████▌ | 155/180 [00:26<00:04,  5.99it/s]"
          ]
        },
        {
          "output_type": "stream",
          "name": "stdout",
          "text": [
            "(256, 256, 1) 1.0 0.0013170984\n",
            "(256, 256, 3) (256, 256) (256, 256)\n",
            "_18_test_2\n",
            "(256, 256, 1) 1.0 0.0027798845\n",
            "(256, 256, 3) (256, 256) (256, 256)\n"
          ]
        },
        {
          "output_type": "stream",
          "name": "stderr",
          "text": [
            "\r 87%|████████▋ | 156/180 [00:26<00:03,  6.05it/s]"
          ]
        },
        {
          "output_type": "stream",
          "name": "stdout",
          "text": [
            "_18_test_3\n",
            "(256, 256, 1) 0.9999999 0.0020437702\n",
            "(256, 256, 3) (256, 256) (256, 256)\n"
          ]
        },
        {
          "output_type": "stream",
          "name": "stderr",
          "text": [
            "\r 87%|████████▋ | 157/180 [00:26<00:03,  6.03it/s]"
          ]
        },
        {
          "output_type": "stream",
          "name": "stdout",
          "text": [
            "_18_test_4\n"
          ]
        },
        {
          "output_type": "stream",
          "name": "stderr",
          "text": [
            "\r 88%|████████▊ | 158/180 [00:26<00:03,  5.95it/s]"
          ]
        },
        {
          "output_type": "stream",
          "name": "stdout",
          "text": [
            "(256, 256, 1) 1.0 0.0012216235\n",
            "(256, 256, 3) (256, 256) (256, 256)\n",
            "_18_test_5\n",
            "(256, 256, 1) 1.0 7.7753185e-08\n",
            "(256, 256, 3) (256, 256) (256, 256)\n"
          ]
        },
        {
          "output_type": "stream",
          "name": "stderr",
          "text": [
            "\r 88%|████████▊ | 159/180 [00:26<00:03,  5.93it/s]"
          ]
        },
        {
          "output_type": "stream",
          "name": "stdout",
          "text": [
            "_18_test_6\n",
            "(256, 256, 1) 1.0 0.0027791627\n",
            "(256, 256, 3) (256, 256) (256, 256)\n"
          ]
        },
        {
          "output_type": "stream",
          "name": "stderr",
          "text": [
            "\r 89%|████████▉ | 160/180 [00:27<00:03,  5.94it/s]"
          ]
        },
        {
          "output_type": "stream",
          "name": "stdout",
          "text": [
            "_18_test_7\n"
          ]
        },
        {
          "output_type": "stream",
          "name": "stderr",
          "text": [
            "\r 89%|████████▉ | 161/180 [00:27<00:03,  5.94it/s]"
          ]
        },
        {
          "output_type": "stream",
          "name": "stdout",
          "text": [
            "(256, 256, 1) 1.0 0.00211138\n",
            "(256, 256, 3) (256, 256) (256, 256)\n",
            "_18_test_8\n",
            "(256, 256, 1) 0.99999976 0.0021792992\n",
            "(256, 256, 3) (256, 256) (256, 256)\n"
          ]
        },
        {
          "output_type": "stream",
          "name": "stderr",
          "text": [
            "\r 90%|█████████ | 162/180 [00:27<00:03,  5.95it/s]"
          ]
        },
        {
          "output_type": "stream",
          "name": "stdout",
          "text": [
            "_19_test_0\n",
            "(256, 256, 1) 0.99999976 0.003393461\n",
            "(256, 256, 3) (256, 256) (256, 256)\n"
          ]
        },
        {
          "output_type": "stream",
          "name": "stderr",
          "text": [
            "\r 91%|█████████ | 163/180 [00:27<00:02,  5.91it/s]"
          ]
        },
        {
          "output_type": "stream",
          "name": "stdout",
          "text": [
            "_19_test_1\n"
          ]
        },
        {
          "output_type": "stream",
          "name": "stderr",
          "text": [
            "\r 91%|█████████ | 164/180 [00:27<00:02,  5.85it/s]"
          ]
        },
        {
          "output_type": "stream",
          "name": "stdout",
          "text": [
            "(256, 256, 1) 1.0 0.0030528812\n",
            "(256, 256, 3) (256, 256) (256, 256)\n",
            "_19_test_2\n",
            "(256, 256, 1) 1.0 0.003721325\n",
            "(256, 256, 3) (256, 256) (256, 256)\n"
          ]
        },
        {
          "output_type": "stream",
          "name": "stderr",
          "text": [
            "\r 92%|█████████▏| 165/180 [00:27<00:02,  5.93it/s]"
          ]
        },
        {
          "output_type": "stream",
          "name": "stdout",
          "text": [
            "_19_test_3\n",
            "(256, 256, 1) 0.9999999 0.0019707447\n",
            "(256, 256, 3) (256, 256) (256, 256)\n"
          ]
        },
        {
          "output_type": "stream",
          "name": "stderr",
          "text": [
            "\r 92%|█████████▏| 166/180 [00:28<00:02,  5.95it/s]"
          ]
        },
        {
          "output_type": "stream",
          "name": "stdout",
          "text": [
            "_19_test_4\n"
          ]
        },
        {
          "output_type": "stream",
          "name": "stderr",
          "text": [
            "\r 93%|█████████▎| 167/180 [00:28<00:02,  5.87it/s]"
          ]
        },
        {
          "output_type": "stream",
          "name": "stdout",
          "text": [
            "(256, 256, 1) 1.0 0.0025810823\n",
            "(256, 256, 3) (256, 256) (256, 256)\n",
            "_19_test_5\n",
            "(256, 256, 1) 1.0 0.0010920516\n",
            "(256, 256, 3) (256, 256) (256, 256)\n"
          ]
        },
        {
          "output_type": "stream",
          "name": "stderr",
          "text": [
            "\r 93%|█████████▎| 168/180 [00:28<00:02,  5.91it/s]"
          ]
        },
        {
          "output_type": "stream",
          "name": "stdout",
          "text": [
            "_19_test_6\n",
            "(256, 256, 1) 0.99999964 0.0022598288\n",
            "(256, 256, 3) (256, 256) (256, 256)\n"
          ]
        },
        {
          "output_type": "stream",
          "name": "stderr",
          "text": [
            "\r 94%|█████████▍| 169/180 [00:28<00:01,  5.97it/s]"
          ]
        },
        {
          "output_type": "stream",
          "name": "stdout",
          "text": [
            "_19_test_7\n"
          ]
        },
        {
          "output_type": "stream",
          "name": "stderr",
          "text": [
            "\r 94%|█████████▍| 170/180 [00:28<00:01,  5.99it/s]"
          ]
        },
        {
          "output_type": "stream",
          "name": "stdout",
          "text": [
            "(256, 256, 1) 1.0 0.0028373434\n",
            "(256, 256, 3) (256, 256) (256, 256)\n",
            "_19_test_8\n",
            "(256, 256, 1) 0.9999999 0.002512877\n",
            "(256, 256, 3) (256, 256) (256, 256)\n"
          ]
        },
        {
          "output_type": "stream",
          "name": "stderr",
          "text": [
            "\r 95%|█████████▌| 171/180 [00:28<00:01,  5.96it/s]"
          ]
        },
        {
          "output_type": "stream",
          "name": "stdout",
          "text": [
            "_20_test_0\n",
            "(256, 256, 1) 1.0 0.003093657\n",
            "(256, 256, 3) (256, 256) (256, 256)\n"
          ]
        },
        {
          "output_type": "stream",
          "name": "stderr",
          "text": [
            "\r 96%|█████████▌| 172/180 [00:29<00:01,  5.96it/s]"
          ]
        },
        {
          "output_type": "stream",
          "name": "stdout",
          "text": [
            "_20_test_1\n"
          ]
        },
        {
          "output_type": "stream",
          "name": "stderr",
          "text": [
            "\r 96%|█████████▌| 173/180 [00:29<00:01,  5.90it/s]"
          ]
        },
        {
          "output_type": "stream",
          "name": "stdout",
          "text": [
            "(256, 256, 1) 1.0 0.0021687204\n",
            "(256, 256, 3) (256, 256) (256, 256)\n",
            "_20_test_2\n",
            "(256, 256, 1) 0.99999964 0.0032675082\n",
            "(256, 256, 3) (256, 256) (256, 256)\n"
          ]
        },
        {
          "output_type": "stream",
          "name": "stderr",
          "text": [
            "\r 97%|█████████▋| 174/180 [00:29<00:01,  5.91it/s]"
          ]
        },
        {
          "output_type": "stream",
          "name": "stdout",
          "text": [
            "_20_test_3\n",
            "(256, 256, 1) 1.0 0.00242921\n",
            "(256, 256, 3) (256, 256) (256, 256)\n"
          ]
        },
        {
          "output_type": "stream",
          "name": "stderr",
          "text": [
            "\r 97%|█████████▋| 175/180 [00:29<00:00,  5.96it/s]"
          ]
        },
        {
          "output_type": "stream",
          "name": "stdout",
          "text": [
            "_20_test_4\n"
          ]
        },
        {
          "output_type": "stream",
          "name": "stderr",
          "text": [
            "\r 98%|█████████▊| 176/180 [00:29<00:00,  5.92it/s]"
          ]
        },
        {
          "output_type": "stream",
          "name": "stdout",
          "text": [
            "(256, 256, 1) 1.0 0.0021160508\n",
            "(256, 256, 3) (256, 256) (256, 256)\n",
            "_20_test_5\n",
            "(256, 256, 1) 1.0 7.221129e-05\n",
            "(256, 256, 3) (256, 256) (256, 256)\n"
          ]
        },
        {
          "output_type": "stream",
          "name": "stderr",
          "text": [
            "\r 98%|█████████▊| 177/180 [00:29<00:00,  5.92it/s]"
          ]
        },
        {
          "output_type": "stream",
          "name": "stdout",
          "text": [
            "_20_test_6\n",
            "(256, 256, 1) 0.9999993 0.0039235596\n",
            "(256, 256, 3) (256, 256) (256, 256)\n"
          ]
        },
        {
          "output_type": "stream",
          "name": "stderr",
          "text": [
            "\r 99%|█████████▉| 178/180 [00:30<00:00,  6.00it/s]"
          ]
        },
        {
          "output_type": "stream",
          "name": "stdout",
          "text": [
            "_20_test_7\n"
          ]
        },
        {
          "output_type": "stream",
          "name": "stderr",
          "text": [
            "\r 99%|█████████▉| 179/180 [00:30<00:00,  5.99it/s]"
          ]
        },
        {
          "output_type": "stream",
          "name": "stdout",
          "text": [
            "(256, 256, 1) 1.0 0.002548223\n",
            "(256, 256, 3) (256, 256) (256, 256)\n",
            "_20_test_8\n",
            "(256, 256, 1) 0.9999999 0.0034619276\n",
            "(256, 256, 3) (256, 256) (256, 256)\n"
          ]
        },
        {
          "output_type": "stream",
          "name": "stderr",
          "text": [
            "100%|██████████| 180/180 [00:30<00:00,  5.90it/s]"
          ]
        },
        {
          "output_type": "stream",
          "name": "stdout",
          "text": [
            "Threshold: 0.50000\n",
            "Accuracy: 0.97947\n",
            "F1: 0.75070\n",
            "Jaccard: 0.61400\n",
            "Recall: 0.72675\n",
            "Precision: 0.80298\n",
            "AUC: 0.96830\n",
            "Dice Coeff: 0.62750\n"
          ]
        },
        {
          "output_type": "stream",
          "name": "stderr",
          "text": [
            "\n"
          ]
        }
      ]
    },
    {
      "cell_type": "code",
      "source": [
        "dataset_path = f\"{root_path}/{split_name}/{split}/\"\n",
        "df_0_6, score_0_6 = compute_metrics(dataset_path,\n",
        "                    results_path=results_path,\n",
        "                    threshold=0.6,\n",
        "                    model=model,\n",
        "                    predictions_path=prediction_path,\n",
        "                    prediction_np_path=prediction_np_path)"
      ],
      "metadata": {
        "id": "a5lvUqu1uoxt",
        "colab": {
          "base_uri": "https://localhost:8080/"
        },
        "outputId": "50b4287d-47d0-49c4-ae4a-9803cbe7ead4"
      },
      "execution_count": null,
      "outputs": [
        {
          "output_type": "stream",
          "name": "stdout",
          "text": [
            "Threshold 0.6\n"
          ]
        },
        {
          "output_type": "stream",
          "name": "stderr",
          "text": [
            "\r  0%|          | 0/180 [00:00<?, ?it/s]"
          ]
        },
        {
          "output_type": "stream",
          "name": "stdout",
          "text": [
            "_01_test_0\n",
            "(256, 256, 1) 1.0 0.0025882502\n",
            "(256, 256, 3) (256, 256) (256, 256)\n"
          ]
        },
        {
          "output_type": "stream",
          "name": "stderr",
          "text": [
            "\r  1%|          | 1/180 [00:00<00:29,  5.99it/s]"
          ]
        },
        {
          "output_type": "stream",
          "name": "stdout",
          "text": [
            "_01_test_1\n"
          ]
        },
        {
          "output_type": "stream",
          "name": "stderr",
          "text": [
            "\r  1%|          | 2/180 [00:00<00:30,  5.86it/s]"
          ]
        },
        {
          "output_type": "stream",
          "name": "stdout",
          "text": [
            "(256, 256, 1) 1.0 0.0022920095\n",
            "(256, 256, 3) (256, 256) (256, 256)\n",
            "_01_test_2\n",
            "(256, 256, 1) 0.99999845 0.004140294\n",
            "(256, 256, 3) (256, 256) (256, 256)\n"
          ]
        },
        {
          "output_type": "stream",
          "name": "stderr",
          "text": [
            "\r  2%|▏         | 3/180 [00:00<00:29,  5.91it/s]"
          ]
        },
        {
          "output_type": "stream",
          "name": "stdout",
          "text": [
            "_01_test_3\n",
            "(256, 256, 1) 1.0 4.9007016e-05\n",
            "(256, 256, 3) (256, 256) (256, 256)\n"
          ]
        },
        {
          "output_type": "stream",
          "name": "stderr",
          "text": [
            "\r  2%|▏         | 4/180 [00:00<00:29,  5.91it/s]"
          ]
        },
        {
          "output_type": "stream",
          "name": "stdout",
          "text": [
            "_01_test_4\n"
          ]
        },
        {
          "output_type": "stream",
          "name": "stderr",
          "text": [
            "\r  3%|▎         | 5/180 [00:00<00:29,  5.88it/s]"
          ]
        },
        {
          "output_type": "stream",
          "name": "stdout",
          "text": [
            "(256, 256, 1) 1.0 0.00199335\n",
            "(256, 256, 3) (256, 256) (256, 256)\n",
            "_01_test_5\n",
            "(256, 256, 1) 1.0 0.0025497032\n",
            "(256, 256, 3) (256, 256) (256, 256)\n"
          ]
        },
        {
          "output_type": "stream",
          "name": "stderr",
          "text": [
            "\r  3%|▎         | 6/180 [00:01<00:29,  5.94it/s]"
          ]
        },
        {
          "output_type": "stream",
          "name": "stdout",
          "text": [
            "_01_test_6\n",
            "(256, 256, 1) 0.99993336 0.0027987852\n",
            "(256, 256, 3) (256, 256) (256, 256)\n"
          ]
        },
        {
          "output_type": "stream",
          "name": "stderr",
          "text": [
            "\r  4%|▍         | 7/180 [00:01<00:28,  6.02it/s]"
          ]
        },
        {
          "output_type": "stream",
          "name": "stdout",
          "text": [
            "_01_test_7\n"
          ]
        },
        {
          "output_type": "stream",
          "name": "stderr",
          "text": [
            "\r  4%|▍         | 8/180 [00:01<00:28,  6.01it/s]"
          ]
        },
        {
          "output_type": "stream",
          "name": "stdout",
          "text": [
            "(256, 256, 1) 1.0 0.0015685322\n",
            "(256, 256, 3) (256, 256) (256, 256)\n",
            "_01_test_8\n",
            "(256, 256, 1) 1.0 0.0023256538\n",
            "(256, 256, 3) (256, 256) (256, 256)\n"
          ]
        },
        {
          "output_type": "stream",
          "name": "stderr",
          "text": [
            "\r  5%|▌         | 9/180 [00:01<00:28,  6.06it/s]"
          ]
        },
        {
          "output_type": "stream",
          "name": "stdout",
          "text": [
            "_02_test_0\n",
            "(256, 256, 1) 1.0 0.0017326708\n",
            "(256, 256, 3) (256, 256) (256, 256)\n"
          ]
        },
        {
          "output_type": "stream",
          "name": "stderr",
          "text": [
            "\r  6%|▌         | 10/180 [00:01<00:28,  6.06it/s]"
          ]
        },
        {
          "output_type": "stream",
          "name": "stdout",
          "text": [
            "_02_test_1\n"
          ]
        },
        {
          "output_type": "stream",
          "name": "stderr",
          "text": [
            "\r  6%|▌         | 11/180 [00:01<00:28,  5.95it/s]"
          ]
        },
        {
          "output_type": "stream",
          "name": "stdout",
          "text": [
            "(256, 256, 1) 1.0 0.0015636651\n",
            "(256, 256, 3) (256, 256) (256, 256)\n",
            "_02_test_2\n",
            "(256, 256, 1) 1.0 0.0027573523\n",
            "(256, 256, 3) (256, 256) (256, 256)\n"
          ]
        },
        {
          "output_type": "stream",
          "name": "stderr",
          "text": [
            "\r  7%|▋         | 12/180 [00:02<00:28,  5.96it/s]"
          ]
        },
        {
          "output_type": "stream",
          "name": "stdout",
          "text": [
            "_02_test_3\n",
            "(256, 256, 1) 1.0 0.0012589559\n",
            "(256, 256, 3) (256, 256) (256, 256)\n"
          ]
        },
        {
          "output_type": "stream",
          "name": "stderr",
          "text": [
            "\r  7%|▋         | 13/180 [00:02<00:28,  5.92it/s]"
          ]
        },
        {
          "output_type": "stream",
          "name": "stdout",
          "text": [
            "_02_test_4\n"
          ]
        },
        {
          "output_type": "stream",
          "name": "stderr",
          "text": [
            "\r  8%|▊         | 14/180 [00:02<00:28,  5.90it/s]"
          ]
        },
        {
          "output_type": "stream",
          "name": "stdout",
          "text": [
            "(256, 256, 1) 1.0 0.0016235481\n",
            "(256, 256, 3) (256, 256) (256, 256)\n",
            "_02_test_5\n",
            "(256, 256, 1) 1.0 2.0463943e-08\n",
            "(256, 256, 3) (256, 256) (256, 256)\n"
          ]
        },
        {
          "output_type": "stream",
          "name": "stderr",
          "text": [
            "\r  8%|▊         | 15/180 [00:02<00:27,  5.92it/s]"
          ]
        },
        {
          "output_type": "stream",
          "name": "stdout",
          "text": [
            "_02_test_6\n",
            "(256, 256, 1) 1.0 0.0027982485\n",
            "(256, 256, 3) (256, 256) (256, 256)\n"
          ]
        },
        {
          "output_type": "stream",
          "name": "stderr",
          "text": [
            "\r  9%|▉         | 16/180 [00:02<00:27,  5.98it/s]"
          ]
        },
        {
          "output_type": "stream",
          "name": "stdout",
          "text": [
            "_02_test_7\n"
          ]
        },
        {
          "output_type": "stream",
          "name": "stderr",
          "text": [
            "\r  9%|▉         | 17/180 [00:02<00:27,  5.97it/s]"
          ]
        },
        {
          "output_type": "stream",
          "name": "stdout",
          "text": [
            "(256, 256, 1) 1.0 0.0025049509\n",
            "(256, 256, 3) (256, 256) (256, 256)\n",
            "_02_test_8\n",
            "(256, 256, 1) 1.0 0.0021005804\n",
            "(256, 256, 3) (256, 256) (256, 256)\n"
          ]
        },
        {
          "output_type": "stream",
          "name": "stderr",
          "text": [
            "\r 10%|█         | 18/180 [00:03<00:26,  6.03it/s]"
          ]
        },
        {
          "output_type": "stream",
          "name": "stdout",
          "text": [
            "_03_test_0\n",
            "(256, 256, 1) 0.999987 0.003113981\n",
            "(256, 256, 3) (256, 256) (256, 256)\n"
          ]
        },
        {
          "output_type": "stream",
          "name": "stderr",
          "text": [
            "\r 11%|█         | 19/180 [00:03<00:26,  6.08it/s]"
          ]
        },
        {
          "output_type": "stream",
          "name": "stdout",
          "text": [
            "_03_test_1\n"
          ]
        },
        {
          "output_type": "stream",
          "name": "stderr",
          "text": [
            "\r 11%|█         | 20/180 [00:03<00:26,  6.03it/s]"
          ]
        },
        {
          "output_type": "stream",
          "name": "stdout",
          "text": [
            "(256, 256, 1) 0.9999999 0.00279378\n",
            "(256, 256, 3) (256, 256) (256, 256)\n",
            "_03_test_2\n",
            "(256, 256, 1) 0.99997497 0.0028824755\n",
            "(256, 256, 3) (256, 256) (256, 256)\n"
          ]
        },
        {
          "output_type": "stream",
          "name": "stderr",
          "text": [
            "\r 12%|█▏        | 21/180 [00:03<00:26,  6.06it/s]"
          ]
        },
        {
          "output_type": "stream",
          "name": "stdout",
          "text": [
            "_03_test_3\n",
            "(256, 256, 1) 1.0 0.0027640553\n",
            "(256, 256, 3) (256, 256) (256, 256)\n"
          ]
        },
        {
          "output_type": "stream",
          "name": "stderr",
          "text": [
            "\r 12%|█▏        | 22/180 [00:03<00:26,  6.00it/s]"
          ]
        },
        {
          "output_type": "stream",
          "name": "stdout",
          "text": [
            "_03_test_4\n"
          ]
        },
        {
          "output_type": "stream",
          "name": "stderr",
          "text": [
            "\r 13%|█▎        | 23/180 [00:03<00:26,  5.91it/s]"
          ]
        },
        {
          "output_type": "stream",
          "name": "stdout",
          "text": [
            "(256, 256, 1) 0.9999994 0.001618069\n",
            "(256, 256, 3) (256, 256) (256, 256)\n",
            "_03_test_5\n",
            "(256, 256, 1) 0.99999964 0.00315936\n",
            "(256, 256, 3) (256, 256) (256, 256)\n"
          ]
        },
        {
          "output_type": "stream",
          "name": "stderr",
          "text": [
            "\r 13%|█▎        | 24/180 [00:04<00:26,  5.94it/s]"
          ]
        },
        {
          "output_type": "stream",
          "name": "stdout",
          "text": [
            "_03_test_6\n",
            "(256, 256, 1) 0.9999989 0.0031063007\n",
            "(256, 256, 3) (256, 256) (256, 256)\n"
          ]
        },
        {
          "output_type": "stream",
          "name": "stderr",
          "text": [
            "\r 14%|█▍        | 25/180 [00:04<00:25,  5.97it/s]"
          ]
        },
        {
          "output_type": "stream",
          "name": "stdout",
          "text": [
            "_03_test_7\n"
          ]
        },
        {
          "output_type": "stream",
          "name": "stderr",
          "text": [
            "\r 14%|█▍        | 26/180 [00:04<00:25,  5.93it/s]"
          ]
        },
        {
          "output_type": "stream",
          "name": "stdout",
          "text": [
            "(256, 256, 1) 1.0 0.0017462524\n",
            "(256, 256, 3) (256, 256) (256, 256)\n",
            "_03_test_8\n",
            "(256, 256, 1) 1.0 0.002499135\n",
            "(256, 256, 3) (256, 256) (256, 256)\n"
          ]
        },
        {
          "output_type": "stream",
          "name": "stderr",
          "text": [
            "\r 15%|█▌        | 27/180 [00:04<00:25,  5.95it/s]"
          ]
        },
        {
          "output_type": "stream",
          "name": "stdout",
          "text": [
            "_04_test_0\n",
            "(256, 256, 1) 1.0 0.0015805607\n",
            "(256, 256, 3) (256, 256) (256, 256)\n"
          ]
        },
        {
          "output_type": "stream",
          "name": "stderr",
          "text": [
            "\r 16%|█▌        | 28/180 [00:04<00:25,  5.98it/s]"
          ]
        },
        {
          "output_type": "stream",
          "name": "stdout",
          "text": [
            "_04_test_1\n"
          ]
        },
        {
          "output_type": "stream",
          "name": "stderr",
          "text": [
            "\r 16%|█▌        | 29/180 [00:04<00:25,  5.91it/s]"
          ]
        },
        {
          "output_type": "stream",
          "name": "stdout",
          "text": [
            "(256, 256, 1) 1.0 0.0017972533\n",
            "(256, 256, 3) (256, 256) (256, 256)\n",
            "_04_test_2\n",
            "(256, 256, 1) 1.0 0.0033281487\n",
            "(256, 256, 3) (256, 256) (256, 256)\n"
          ]
        },
        {
          "output_type": "stream",
          "name": "stderr",
          "text": [
            "\r 17%|█▋        | 30/180 [00:05<00:25,  5.95it/s]"
          ]
        },
        {
          "output_type": "stream",
          "name": "stdout",
          "text": [
            "_04_test_3\n",
            "(256, 256, 1) 1.0 0.0014023816\n",
            "(256, 256, 3) (256, 256) (256, 256)\n"
          ]
        },
        {
          "output_type": "stream",
          "name": "stderr",
          "text": [
            "\r 17%|█▋        | 31/180 [00:05<00:25,  5.95it/s]"
          ]
        },
        {
          "output_type": "stream",
          "name": "stdout",
          "text": [
            "_04_test_4\n"
          ]
        },
        {
          "output_type": "stream",
          "name": "stderr",
          "text": [
            "\r 18%|█▊        | 32/180 [00:05<00:25,  5.90it/s]"
          ]
        },
        {
          "output_type": "stream",
          "name": "stdout",
          "text": [
            "(256, 256, 1) 1.0 1.6996693e-06\n",
            "(256, 256, 3) (256, 256) (256, 256)\n",
            "_04_test_5\n",
            "(256, 256, 1) 1.0 0.0023260056\n",
            "(256, 256, 3) (256, 256) (256, 256)\n"
          ]
        },
        {
          "output_type": "stream",
          "name": "stderr",
          "text": [
            "\r 18%|█▊        | 33/180 [00:05<00:25,  5.86it/s]"
          ]
        },
        {
          "output_type": "stream",
          "name": "stdout",
          "text": [
            "_04_test_6\n",
            "(256, 256, 1) 0.99865925 0.003450766\n",
            "(256, 256, 3) (256, 256) (256, 256)\n"
          ]
        },
        {
          "output_type": "stream",
          "name": "stderr",
          "text": [
            "\r 19%|█▉        | 34/180 [00:05<00:24,  5.98it/s]"
          ]
        },
        {
          "output_type": "stream",
          "name": "stdout",
          "text": [
            "_04_test_7\n"
          ]
        },
        {
          "output_type": "stream",
          "name": "stderr",
          "text": [
            "\r 19%|█▉        | 35/180 [00:05<00:24,  5.96it/s]"
          ]
        },
        {
          "output_type": "stream",
          "name": "stdout",
          "text": [
            "(256, 256, 1) 1.0 0.0022568915\n",
            "(256, 256, 3) (256, 256) (256, 256)\n",
            "_04_test_8\n",
            "(256, 256, 1) 1.0 0.0026506784\n",
            "(256, 256, 3) (256, 256) (256, 256)\n"
          ]
        },
        {
          "output_type": "stream",
          "name": "stderr",
          "text": [
            "\r 20%|██        | 36/180 [00:06<00:23,  6.02it/s]"
          ]
        },
        {
          "output_type": "stream",
          "name": "stdout",
          "text": [
            "_05_test_0\n",
            "(256, 256, 1) 0.9999993 0.0032174033\n",
            "(256, 256, 3) (256, 256) (256, 256)\n"
          ]
        },
        {
          "output_type": "stream",
          "name": "stderr",
          "text": [
            "\r 21%|██        | 37/180 [00:06<00:23,  6.00it/s]"
          ]
        },
        {
          "output_type": "stream",
          "name": "stdout",
          "text": [
            "_05_test_1\n"
          ]
        },
        {
          "output_type": "stream",
          "name": "stderr",
          "text": [
            "\r 21%|██        | 38/180 [00:06<00:23,  5.98it/s]"
          ]
        },
        {
          "output_type": "stream",
          "name": "stdout",
          "text": [
            "(256, 256, 1) 1.0 0.0029287224\n",
            "(256, 256, 3) (256, 256) (256, 256)\n",
            "_05_test_2\n",
            "(256, 256, 1) 0.9998399 0.0034696963\n",
            "(256, 256, 3) (256, 256) (256, 256)\n"
          ]
        },
        {
          "output_type": "stream",
          "name": "stderr",
          "text": [
            "\r 22%|██▏       | 39/180 [00:06<00:23,  6.03it/s]"
          ]
        },
        {
          "output_type": "stream",
          "name": "stdout",
          "text": [
            "_05_test_3\n",
            "(256, 256, 1) 1.0 0.00019561034\n",
            "(256, 256, 3) (256, 256) (256, 256)\n"
          ]
        },
        {
          "output_type": "stream",
          "name": "stderr",
          "text": [
            "\r 22%|██▏       | 40/180 [00:06<00:23,  5.95it/s]"
          ]
        },
        {
          "output_type": "stream",
          "name": "stdout",
          "text": [
            "_05_test_4\n"
          ]
        },
        {
          "output_type": "stream",
          "name": "stderr",
          "text": [
            "\r 23%|██▎       | 41/180 [00:06<00:23,  5.85it/s]"
          ]
        },
        {
          "output_type": "stream",
          "name": "stdout",
          "text": [
            "(256, 256, 1) 1.0 0.002820454\n",
            "(256, 256, 3) (256, 256) (256, 256)\n",
            "_05_test_5\n",
            "(256, 256, 1) 1.0 0.0032349436\n",
            "(256, 256, 3) (256, 256) (256, 256)\n"
          ]
        },
        {
          "output_type": "stream",
          "name": "stderr",
          "text": [
            "\r 23%|██▎       | 42/180 [00:07<00:23,  5.88it/s]"
          ]
        },
        {
          "output_type": "stream",
          "name": "stdout",
          "text": [
            "_05_test_6\n",
            "(256, 256, 1) 0.99997807 0.002436326\n",
            "(256, 256, 3) (256, 256) (256, 256)\n"
          ]
        },
        {
          "output_type": "stream",
          "name": "stderr",
          "text": [
            "\r 24%|██▍       | 43/180 [00:07<00:23,  5.90it/s]"
          ]
        },
        {
          "output_type": "stream",
          "name": "stdout",
          "text": [
            "_05_test_7\n"
          ]
        },
        {
          "output_type": "stream",
          "name": "stderr",
          "text": [
            "\r 24%|██▍       | 44/180 [00:07<00:22,  5.92it/s]"
          ]
        },
        {
          "output_type": "stream",
          "name": "stdout",
          "text": [
            "(256, 256, 1) 1.0 0.0024895654\n",
            "(256, 256, 3) (256, 256) (256, 256)\n",
            "_05_test_8\n",
            "(256, 256, 1) 0.9999894 0.0026601015\n",
            "(256, 256, 3) (256, 256) (256, 256)\n"
          ]
        },
        {
          "output_type": "stream",
          "name": "stderr",
          "text": [
            "\r 25%|██▌       | 45/180 [00:07<00:22,  5.99it/s]"
          ]
        },
        {
          "output_type": "stream",
          "name": "stdout",
          "text": [
            "_06_test_0\n",
            "(256, 256, 1) 0.9999994 0.0027704493\n",
            "(256, 256, 3) (256, 256) (256, 256)\n"
          ]
        },
        {
          "output_type": "stream",
          "name": "stderr",
          "text": [
            "\r 26%|██▌       | 46/180 [00:07<00:22,  6.01it/s]"
          ]
        },
        {
          "output_type": "stream",
          "name": "stdout",
          "text": [
            "_06_test_1\n"
          ]
        },
        {
          "output_type": "stream",
          "name": "stderr",
          "text": [
            "\r 26%|██▌       | 47/180 [00:07<00:22,  5.93it/s]"
          ]
        },
        {
          "output_type": "stream",
          "name": "stdout",
          "text": [
            "(256, 256, 1) 1.0 0.0021634046\n",
            "(256, 256, 3) (256, 256) (256, 256)\n",
            "_06_test_2\n",
            "(256, 256, 1) 0.99999976 0.0032720056\n",
            "(256, 256, 3) (256, 256) (256, 256)\n"
          ]
        },
        {
          "output_type": "stream",
          "name": "stderr",
          "text": [
            "\r 27%|██▋       | 48/180 [00:08<00:22,  5.92it/s]"
          ]
        },
        {
          "output_type": "stream",
          "name": "stdout",
          "text": [
            "_06_test_3\n",
            "(256, 256, 1) 0.9999993 0.0017843796\n",
            "(256, 256, 3) (256, 256) (256, 256)\n"
          ]
        },
        {
          "output_type": "stream",
          "name": "stderr",
          "text": [
            "\r 27%|██▋       | 49/180 [00:08<00:22,  5.94it/s]"
          ]
        },
        {
          "output_type": "stream",
          "name": "stdout",
          "text": [
            "_06_test_4\n"
          ]
        },
        {
          "output_type": "stream",
          "name": "stderr",
          "text": [
            "\r 28%|██▊       | 50/180 [00:08<00:22,  5.84it/s]"
          ]
        },
        {
          "output_type": "stream",
          "name": "stdout",
          "text": [
            "(256, 256, 1) 1.0 0.0019114347\n",
            "(256, 256, 3) (256, 256) (256, 256)\n",
            "_06_test_5\n",
            "(256, 256, 1) 1.0 0.0020355445\n",
            "(256, 256, 3) (256, 256) (256, 256)\n"
          ]
        },
        {
          "output_type": "stream",
          "name": "stderr",
          "text": [
            "\r 28%|██▊       | 51/180 [00:08<00:22,  5.84it/s]"
          ]
        },
        {
          "output_type": "stream",
          "name": "stdout",
          "text": [
            "_06_test_6\n",
            "(256, 256, 1) 0.99995935 0.0018770404\n",
            "(256, 256, 3) (256, 256) (256, 256)\n"
          ]
        },
        {
          "output_type": "stream",
          "name": "stderr",
          "text": [
            "\r 29%|██▉       | 52/180 [00:08<00:21,  5.90it/s]"
          ]
        },
        {
          "output_type": "stream",
          "name": "stdout",
          "text": [
            "_06_test_7\n"
          ]
        },
        {
          "output_type": "stream",
          "name": "stderr",
          "text": [
            "\r 29%|██▉       | 53/180 [00:08<00:21,  5.81it/s]"
          ]
        },
        {
          "output_type": "stream",
          "name": "stdout",
          "text": [
            "(256, 256, 1) 1.0 0.0019055987\n",
            "(256, 256, 3) (256, 256) (256, 256)\n",
            "_06_test_8\n",
            "(256, 256, 1) 1.0 0.0023841339\n",
            "(256, 256, 3) (256, 256) (256, 256)\n"
          ]
        },
        {
          "output_type": "stream",
          "name": "stderr",
          "text": [
            "\r 30%|███       | 54/180 [00:09<00:21,  5.78it/s]"
          ]
        },
        {
          "output_type": "stream",
          "name": "stdout",
          "text": [
            "_07_test_0\n",
            "(256, 256, 1) 1.0 0.0023789417\n",
            "(256, 256, 3) (256, 256) (256, 256)\n"
          ]
        },
        {
          "output_type": "stream",
          "name": "stderr",
          "text": [
            "\r 31%|███       | 55/180 [00:09<00:21,  5.81it/s]"
          ]
        },
        {
          "output_type": "stream",
          "name": "stdout",
          "text": [
            "_07_test_1\n"
          ]
        },
        {
          "output_type": "stream",
          "name": "stderr",
          "text": [
            "\r 31%|███       | 56/180 [00:09<00:21,  5.88it/s]"
          ]
        },
        {
          "output_type": "stream",
          "name": "stdout",
          "text": [
            "(256, 256, 1) 1.0 0.0021393693\n",
            "(256, 256, 3) (256, 256) (256, 256)\n",
            "_07_test_2\n",
            "(256, 256, 1) 0.99999917 0.0022792243\n",
            "(256, 256, 3) (256, 256) (256, 256)\n"
          ]
        },
        {
          "output_type": "stream",
          "name": "stderr",
          "text": [
            "\r 32%|███▏      | 57/180 [00:09<00:20,  5.94it/s]"
          ]
        },
        {
          "output_type": "stream",
          "name": "stdout",
          "text": [
            "_07_test_3\n",
            "(256, 256, 1) 1.0 0.0014066624\n",
            "(256, 256, 3) (256, 256) (256, 256)\n"
          ]
        },
        {
          "output_type": "stream",
          "name": "stderr",
          "text": [
            "\r 32%|███▏      | 58/180 [00:09<00:20,  5.96it/s]"
          ]
        },
        {
          "output_type": "stream",
          "name": "stdout",
          "text": [
            "_07_test_4\n"
          ]
        },
        {
          "output_type": "stream",
          "name": "stderr",
          "text": [
            "\r 33%|███▎      | 59/180 [00:09<00:20,  5.94it/s]"
          ]
        },
        {
          "output_type": "stream",
          "name": "stdout",
          "text": [
            "(256, 256, 1) 1.0 0.002835919\n",
            "(256, 256, 3) (256, 256) (256, 256)\n",
            "_07_test_5\n",
            "(256, 256, 1) 1.0 0.0026752034\n",
            "(256, 256, 3) (256, 256) (256, 256)\n"
          ]
        },
        {
          "output_type": "stream",
          "name": "stderr",
          "text": [
            "\r 33%|███▎      | 60/180 [00:10<00:20,  5.97it/s]"
          ]
        },
        {
          "output_type": "stream",
          "name": "stdout",
          "text": [
            "_07_test_6\n",
            "(256, 256, 1) 0.9999994 0.004050202\n",
            "(256, 256, 3) (256, 256) (256, 256)\n"
          ]
        },
        {
          "output_type": "stream",
          "name": "stderr",
          "text": [
            "\r 34%|███▍      | 61/180 [00:10<00:19,  5.97it/s]"
          ]
        },
        {
          "output_type": "stream",
          "name": "stdout",
          "text": [
            "_07_test_7\n"
          ]
        },
        {
          "output_type": "stream",
          "name": "stderr",
          "text": [
            "\r 34%|███▍      | 62/180 [00:10<00:19,  5.94it/s]"
          ]
        },
        {
          "output_type": "stream",
          "name": "stdout",
          "text": [
            "(256, 256, 1) 1.0 0.002506134\n",
            "(256, 256, 3) (256, 256) (256, 256)\n",
            "_07_test_8\n",
            "(256, 256, 1) 1.0 0.0020653836\n",
            "(256, 256, 3) (256, 256) (256, 256)\n"
          ]
        },
        {
          "output_type": "stream",
          "name": "stderr",
          "text": [
            "\r 35%|███▌      | 63/180 [00:10<00:19,  5.93it/s]"
          ]
        },
        {
          "output_type": "stream",
          "name": "stdout",
          "text": [
            "_08_test_0\n",
            "(256, 256, 1) 1.0 0.0023477906\n",
            "(256, 256, 3) (256, 256) (256, 256)\n"
          ]
        },
        {
          "output_type": "stream",
          "name": "stderr",
          "text": [
            "\r 36%|███▌      | 64/180 [00:10<00:19,  5.95it/s]"
          ]
        },
        {
          "output_type": "stream",
          "name": "stdout",
          "text": [
            "_08_test_1\n"
          ]
        },
        {
          "output_type": "stream",
          "name": "stderr",
          "text": [
            "\r 36%|███▌      | 65/180 [00:10<00:19,  5.89it/s]"
          ]
        },
        {
          "output_type": "stream",
          "name": "stdout",
          "text": [
            "(256, 256, 1) 0.9999999 0.0029832856\n",
            "(256, 256, 3) (256, 256) (256, 256)\n",
            "_08_test_2\n",
            "(256, 256, 1) 0.9999944 0.0034584024\n",
            "(256, 256, 3) (256, 256) (256, 256)\n"
          ]
        },
        {
          "output_type": "stream",
          "name": "stderr",
          "text": [
            "\r 37%|███▋      | 66/180 [00:11<00:19,  5.92it/s]"
          ]
        },
        {
          "output_type": "stream",
          "name": "stdout",
          "text": [
            "_08_test_3\n",
            "(256, 256, 1) 0.99999833 0.0013611367\n",
            "(256, 256, 3) (256, 256) (256, 256)\n"
          ]
        },
        {
          "output_type": "stream",
          "name": "stderr",
          "text": [
            "\r 37%|███▋      | 67/180 [00:11<00:19,  5.91it/s]"
          ]
        },
        {
          "output_type": "stream",
          "name": "stdout",
          "text": [
            "_08_test_4\n"
          ]
        },
        {
          "output_type": "stream",
          "name": "stderr",
          "text": [
            "\r 38%|███▊      | 68/180 [00:11<00:19,  5.88it/s]"
          ]
        },
        {
          "output_type": "stream",
          "name": "stdout",
          "text": [
            "(256, 256, 1) 0.9999993 0.0023621898\n",
            "(256, 256, 3) (256, 256) (256, 256)\n",
            "_08_test_5\n",
            "(256, 256, 1) 1.0 1.8519964e-05\n",
            "(256, 256, 3) (256, 256) (256, 256)\n"
          ]
        },
        {
          "output_type": "stream",
          "name": "stderr",
          "text": [
            "\r 38%|███▊      | 69/180 [00:11<00:18,  5.88it/s]"
          ]
        },
        {
          "output_type": "stream",
          "name": "stdout",
          "text": [
            "_08_test_6\n",
            "(256, 256, 1) 0.9999994 0.0032770077\n",
            "(256, 256, 3) (256, 256) (256, 256)\n"
          ]
        },
        {
          "output_type": "stream",
          "name": "stderr",
          "text": [
            "\r 39%|███▉      | 70/180 [00:11<00:18,  5.88it/s]"
          ]
        },
        {
          "output_type": "stream",
          "name": "stdout",
          "text": [
            "_08_test_7\n"
          ]
        },
        {
          "output_type": "stream",
          "name": "stderr",
          "text": [
            "\r 39%|███▉      | 71/180 [00:11<00:18,  5.87it/s]"
          ]
        },
        {
          "output_type": "stream",
          "name": "stdout",
          "text": [
            "(256, 256, 1) 1.0 0.0031350055\n",
            "(256, 256, 3) (256, 256) (256, 256)\n",
            "_08_test_8\n",
            "(256, 256, 1) 0.99999404 0.0030807687\n",
            "(256, 256, 3) (256, 256) (256, 256)\n"
          ]
        },
        {
          "output_type": "stream",
          "name": "stderr",
          "text": [
            "\r 40%|████      | 72/180 [00:12<00:18,  5.93it/s]"
          ]
        },
        {
          "output_type": "stream",
          "name": "stdout",
          "text": [
            "_09_test_0\n",
            "(256, 256, 1) 1.0 0.0021662826\n",
            "(256, 256, 3) (256, 256) (256, 256)\n"
          ]
        },
        {
          "output_type": "stream",
          "name": "stderr",
          "text": [
            "\r 41%|████      | 73/180 [00:12<00:18,  5.87it/s]"
          ]
        },
        {
          "output_type": "stream",
          "name": "stdout",
          "text": [
            "_09_test_1\n"
          ]
        },
        {
          "output_type": "stream",
          "name": "stderr",
          "text": [
            "\r 41%|████      | 74/180 [00:12<00:18,  5.87it/s]"
          ]
        },
        {
          "output_type": "stream",
          "name": "stdout",
          "text": [
            "(256, 256, 1) 1.0 0.0023590703\n",
            "(256, 256, 3) (256, 256) (256, 256)\n",
            "_09_test_2\n",
            "(256, 256, 1) 0.99907744 0.002876408\n",
            "(256, 256, 3) (256, 256) (256, 256)\n"
          ]
        },
        {
          "output_type": "stream",
          "name": "stderr",
          "text": [
            "\r 42%|████▏     | 75/180 [00:12<00:17,  5.98it/s]"
          ]
        },
        {
          "output_type": "stream",
          "name": "stdout",
          "text": [
            "_09_test_3\n",
            "(256, 256, 1) 1.0 6.3474104e-08\n",
            "(256, 256, 3) (256, 256) (256, 256)\n"
          ]
        },
        {
          "output_type": "stream",
          "name": "stderr",
          "text": [
            "\r 42%|████▏     | 76/180 [00:12<00:17,  5.98it/s]"
          ]
        },
        {
          "output_type": "stream",
          "name": "stdout",
          "text": [
            "_09_test_4\n"
          ]
        },
        {
          "output_type": "stream",
          "name": "stderr",
          "text": [
            "\r 43%|████▎     | 77/180 [00:12<00:17,  5.88it/s]"
          ]
        },
        {
          "output_type": "stream",
          "name": "stdout",
          "text": [
            "(256, 256, 1) 1.0 0.0020739676\n",
            "(256, 256, 3) (256, 256) (256, 256)\n",
            "_09_test_5\n",
            "(256, 256, 1) 0.9999994 0.0025790415\n",
            "(256, 256, 3) (256, 256) (256, 256)\n"
          ]
        },
        {
          "output_type": "stream",
          "name": "stderr",
          "text": [
            "\r 43%|████▎     | 78/180 [00:13<00:17,  5.87it/s]"
          ]
        },
        {
          "output_type": "stream",
          "name": "stdout",
          "text": [
            "_09_test_6\n",
            "(256, 256, 1) 0.99992335 0.0018644443\n",
            "(256, 256, 3) (256, 256) (256, 256)\n"
          ]
        },
        {
          "output_type": "stream",
          "name": "stderr",
          "text": [
            "\r 44%|████▍     | 79/180 [00:13<00:17,  5.91it/s]"
          ]
        },
        {
          "output_type": "stream",
          "name": "stdout",
          "text": [
            "_09_test_7\n"
          ]
        },
        {
          "output_type": "stream",
          "name": "stderr",
          "text": [
            "\r 44%|████▍     | 80/180 [00:13<00:17,  5.85it/s]"
          ]
        },
        {
          "output_type": "stream",
          "name": "stdout",
          "text": [
            "(256, 256, 1) 1.0 0.0014775869\n",
            "(256, 256, 3) (256, 256) (256, 256)\n",
            "_09_test_8\n",
            "(256, 256, 1) 1.0 0.0019581106\n",
            "(256, 256, 3) (256, 256) (256, 256)\n"
          ]
        },
        {
          "output_type": "stream",
          "name": "stderr",
          "text": [
            "\r 45%|████▌     | 81/180 [00:13<00:16,  5.87it/s]"
          ]
        },
        {
          "output_type": "stream",
          "name": "stdout",
          "text": [
            "_10_test_0\n",
            "(256, 256, 1) 0.9999999 0.0036745423\n",
            "(256, 256, 3) (256, 256) (256, 256)\n"
          ]
        },
        {
          "output_type": "stream",
          "name": "stderr",
          "text": [
            "\r 46%|████▌     | 82/180 [00:13<00:16,  5.86it/s]"
          ]
        },
        {
          "output_type": "stream",
          "name": "stdout",
          "text": [
            "_10_test_1\n"
          ]
        },
        {
          "output_type": "stream",
          "name": "stderr",
          "text": [
            "\r 46%|████▌     | 83/180 [00:14<00:16,  5.80it/s]"
          ]
        },
        {
          "output_type": "stream",
          "name": "stdout",
          "text": [
            "(256, 256, 1) 1.0 0.002869001\n",
            "(256, 256, 3) (256, 256) (256, 256)\n",
            "_10_test_2\n",
            "(256, 256, 1) 0.99999964 0.0038357838\n",
            "(256, 256, 3) (256, 256) (256, 256)\n"
          ]
        },
        {
          "output_type": "stream",
          "name": "stderr",
          "text": [
            "\r 47%|████▋     | 84/180 [00:14<00:16,  5.91it/s]"
          ]
        },
        {
          "output_type": "stream",
          "name": "stdout",
          "text": [
            "_10_test_3\n",
            "(256, 256, 1) 0.9999994 0.0038708213\n",
            "(256, 256, 3) (256, 256) (256, 256)\n"
          ]
        },
        {
          "output_type": "stream",
          "name": "stderr",
          "text": [
            "\r 47%|████▋     | 85/180 [00:14<00:16,  5.94it/s]"
          ]
        },
        {
          "output_type": "stream",
          "name": "stdout",
          "text": [
            "_10_test_4\n"
          ]
        },
        {
          "output_type": "stream",
          "name": "stderr",
          "text": [
            "\r 48%|████▊     | 86/180 [00:14<00:15,  5.89it/s]"
          ]
        },
        {
          "output_type": "stream",
          "name": "stdout",
          "text": [
            "(256, 256, 1) 1.0 0.0021269852\n",
            "(256, 256, 3) (256, 256) (256, 256)\n",
            "_10_test_5\n",
            "(256, 256, 1) 1.0 0.0014325952\n",
            "(256, 256, 3) (256, 256) (256, 256)\n"
          ]
        },
        {
          "output_type": "stream",
          "name": "stderr",
          "text": [
            "\r 48%|████▊     | 87/180 [00:14<00:15,  5.87it/s]"
          ]
        },
        {
          "output_type": "stream",
          "name": "stdout",
          "text": [
            "_10_test_6\n",
            "(256, 256, 1) 0.9999924 0.00370331\n",
            "(256, 256, 3) (256, 256) (256, 256)\n"
          ]
        },
        {
          "output_type": "stream",
          "name": "stderr",
          "text": [
            "\r 49%|████▉     | 88/180 [00:14<00:15,  5.88it/s]"
          ]
        },
        {
          "output_type": "stream",
          "name": "stdout",
          "text": [
            "_10_test_7\n"
          ]
        },
        {
          "output_type": "stream",
          "name": "stderr",
          "text": [
            "\r 49%|████▉     | 89/180 [00:15<00:15,  5.86it/s]"
          ]
        },
        {
          "output_type": "stream",
          "name": "stdout",
          "text": [
            "(256, 256, 1) 1.0 0.003023087\n",
            "(256, 256, 3) (256, 256) (256, 256)\n",
            "_10_test_8\n",
            "(256, 256, 1) 0.99999464 0.003623057\n",
            "(256, 256, 3) (256, 256) (256, 256)\n"
          ]
        },
        {
          "output_type": "stream",
          "name": "stderr",
          "text": [
            "\r 50%|█████     | 90/180 [00:15<00:15,  5.89it/s]"
          ]
        },
        {
          "output_type": "stream",
          "name": "stdout",
          "text": [
            "_11_test_0\n",
            "(256, 256, 1) 1.0 0.001463324\n",
            "(256, 256, 3) (256, 256) (256, 256)\n"
          ]
        },
        {
          "output_type": "stream",
          "name": "stderr",
          "text": [
            "\r 51%|█████     | 91/180 [00:15<00:15,  5.93it/s]"
          ]
        },
        {
          "output_type": "stream",
          "name": "stdout",
          "text": [
            "_11_test_1\n"
          ]
        },
        {
          "output_type": "stream",
          "name": "stderr",
          "text": [
            "\r 51%|█████     | 92/180 [00:15<00:14,  5.92it/s]"
          ]
        },
        {
          "output_type": "stream",
          "name": "stdout",
          "text": [
            "(256, 256, 1) 1.0 0.0016998716\n",
            "(256, 256, 3) (256, 256) (256, 256)\n",
            "_11_test_2\n",
            "(256, 256, 1) 0.9999995 0.0033761521\n",
            "(256, 256, 3) (256, 256) (256, 256)\n"
          ]
        },
        {
          "output_type": "stream",
          "name": "stderr",
          "text": [
            "\r 52%|█████▏    | 93/180 [00:15<00:14,  5.89it/s]"
          ]
        },
        {
          "output_type": "stream",
          "name": "stdout",
          "text": [
            "_11_test_3\n",
            "(256, 256, 1) 1.0 2.792594e-05\n",
            "(256, 256, 3) (256, 256) (256, 256)\n"
          ]
        },
        {
          "output_type": "stream",
          "name": "stderr",
          "text": [
            "\r 52%|█████▏    | 94/180 [00:15<00:14,  5.90it/s]"
          ]
        },
        {
          "output_type": "stream",
          "name": "stdout",
          "text": [
            "_11_test_4\n"
          ]
        },
        {
          "output_type": "stream",
          "name": "stderr",
          "text": [
            "\r 53%|█████▎    | 95/180 [00:16<00:14,  5.82it/s]"
          ]
        },
        {
          "output_type": "stream",
          "name": "stdout",
          "text": [
            "(256, 256, 1) 1.0 0.0018217431\n",
            "(256, 256, 3) (256, 256) (256, 256)\n",
            "_11_test_5\n",
            "(256, 256, 1) 1.0 0.0022808881\n",
            "(256, 256, 3) (256, 256) (256, 256)\n"
          ]
        },
        {
          "output_type": "stream",
          "name": "stderr",
          "text": [
            "\r 53%|█████▎    | 96/180 [00:16<00:14,  5.83it/s]"
          ]
        },
        {
          "output_type": "stream",
          "name": "stdout",
          "text": [
            "_11_test_6\n",
            "(256, 256, 1) 1.0 0.0027054197\n",
            "(256, 256, 3) (256, 256) (256, 256)\n"
          ]
        },
        {
          "output_type": "stream",
          "name": "stderr",
          "text": [
            "\r 54%|█████▍    | 97/180 [00:16<00:14,  5.85it/s]"
          ]
        },
        {
          "output_type": "stream",
          "name": "stdout",
          "text": [
            "_11_test_7\n"
          ]
        },
        {
          "output_type": "stream",
          "name": "stderr",
          "text": [
            "\r 54%|█████▍    | 98/180 [00:16<00:13,  5.86it/s]"
          ]
        },
        {
          "output_type": "stream",
          "name": "stdout",
          "text": [
            "(256, 256, 1) 1.0 0.0027092344\n",
            "(256, 256, 3) (256, 256) (256, 256)\n",
            "_11_test_8\n",
            "(256, 256, 1) 1.0 0.0031536932\n",
            "(256, 256, 3) (256, 256) (256, 256)\n"
          ]
        },
        {
          "output_type": "stream",
          "name": "stderr",
          "text": [
            "\r 55%|█████▌    | 99/180 [00:16<00:13,  5.86it/s]"
          ]
        },
        {
          "output_type": "stream",
          "name": "stdout",
          "text": [
            "_12_test_0\n",
            "(256, 256, 1) 0.9999999 0.0022589883\n",
            "(256, 256, 3) (256, 256) (256, 256)\n"
          ]
        },
        {
          "output_type": "stream",
          "name": "stderr",
          "text": [
            "\r 56%|█████▌    | 100/180 [00:16<00:13,  5.86it/s]"
          ]
        },
        {
          "output_type": "stream",
          "name": "stdout",
          "text": [
            "_12_test_1\n"
          ]
        },
        {
          "output_type": "stream",
          "name": "stderr",
          "text": [
            "\r 56%|█████▌    | 101/180 [00:17<00:13,  5.87it/s]"
          ]
        },
        {
          "output_type": "stream",
          "name": "stdout",
          "text": [
            "(256, 256, 1) 1.0 0.0023338378\n",
            "(256, 256, 3) (256, 256) (256, 256)\n",
            "_12_test_2\n",
            "(256, 256, 1) 0.99994373 0.003720501\n",
            "(256, 256, 3) (256, 256) (256, 256)\n"
          ]
        },
        {
          "output_type": "stream",
          "name": "stderr",
          "text": [
            "\r 57%|█████▋    | 102/180 [00:17<00:13,  5.94it/s]"
          ]
        },
        {
          "output_type": "stream",
          "name": "stdout",
          "text": [
            "_12_test_3\n",
            "(256, 256, 1) 1.0 0.0001775114\n",
            "(256, 256, 3) (256, 256) (256, 256)\n"
          ]
        },
        {
          "output_type": "stream",
          "name": "stderr",
          "text": [
            "\r 57%|█████▋    | 103/180 [00:17<00:13,  5.87it/s]"
          ]
        },
        {
          "output_type": "stream",
          "name": "stdout",
          "text": [
            "_12_test_4\n"
          ]
        },
        {
          "output_type": "stream",
          "name": "stderr",
          "text": [
            "\r 58%|█████▊    | 104/180 [00:17<00:12,  5.86it/s]"
          ]
        },
        {
          "output_type": "stream",
          "name": "stdout",
          "text": [
            "(256, 256, 1) 1.0 0.0021623878\n",
            "(256, 256, 3) (256, 256) (256, 256)\n",
            "_12_test_5\n",
            "(256, 256, 1) 0.99999654 0.0028795537\n",
            "(256, 256, 3) (256, 256) (256, 256)\n"
          ]
        },
        {
          "output_type": "stream",
          "name": "stderr",
          "text": [
            "\r 58%|█████▊    | 105/180 [00:17<00:12,  5.88it/s]"
          ]
        },
        {
          "output_type": "stream",
          "name": "stdout",
          "text": [
            "_12_test_6\n",
            "(256, 256, 1) 0.9999982 0.0023694555\n",
            "(256, 256, 3) (256, 256) (256, 256)\n"
          ]
        },
        {
          "output_type": "stream",
          "name": "stderr",
          "text": [
            "\r 59%|█████▉    | 106/180 [00:17<00:12,  5.94it/s]"
          ]
        },
        {
          "output_type": "stream",
          "name": "stdout",
          "text": [
            "_12_test_7\n"
          ]
        },
        {
          "output_type": "stream",
          "name": "stderr",
          "text": [
            "\r 59%|█████▉    | 107/180 [00:18<00:12,  5.97it/s]"
          ]
        },
        {
          "output_type": "stream",
          "name": "stdout",
          "text": [
            "(256, 256, 1) 1.0 0.0023935689\n",
            "(256, 256, 3) (256, 256) (256, 256)\n",
            "_12_test_8\n",
            "(256, 256, 1) 0.9999976 0.0025064084\n",
            "(256, 256, 3) (256, 256) (256, 256)\n"
          ]
        },
        {
          "output_type": "stream",
          "name": "stderr",
          "text": [
            "\r 60%|██████    | 108/180 [00:18<00:11,  6.02it/s]"
          ]
        },
        {
          "output_type": "stream",
          "name": "stdout",
          "text": [
            "_13_test_0\n",
            "(256, 256, 1) 1.0 0.0020166095\n",
            "(256, 256, 3) (256, 256) (256, 256)\n"
          ]
        },
        {
          "output_type": "stream",
          "name": "stderr",
          "text": [
            "\r 61%|██████    | 109/180 [00:18<00:11,  6.04it/s]"
          ]
        },
        {
          "output_type": "stream",
          "name": "stdout",
          "text": [
            "_13_test_1\n"
          ]
        },
        {
          "output_type": "stream",
          "name": "stderr",
          "text": [
            "\r 61%|██████    | 110/180 [00:18<00:11,  6.04it/s]"
          ]
        },
        {
          "output_type": "stream",
          "name": "stdout",
          "text": [
            "(256, 256, 1) 1.0 0.0020728104\n",
            "(256, 256, 3) (256, 256) (256, 256)\n",
            "_13_test_2\n",
            "(256, 256, 1) 1.0 0.0037856628\n",
            "(256, 256, 3) (256, 256) (256, 256)\n"
          ]
        },
        {
          "output_type": "stream",
          "name": "stderr",
          "text": [
            "\r 62%|██████▏   | 111/180 [00:18<00:11,  6.08it/s]"
          ]
        },
        {
          "output_type": "stream",
          "name": "stdout",
          "text": [
            "_13_test_3\n",
            "(256, 256, 1) 1.0 0.0019757177\n",
            "(256, 256, 3) (256, 256) (256, 256)\n"
          ]
        },
        {
          "output_type": "stream",
          "name": "stderr",
          "text": [
            "\r 62%|██████▏   | 112/180 [00:18<00:11,  5.98it/s]"
          ]
        },
        {
          "output_type": "stream",
          "name": "stdout",
          "text": [
            "_13_test_4\n"
          ]
        },
        {
          "output_type": "stream",
          "name": "stderr",
          "text": [
            "\r 63%|██████▎   | 113/180 [00:19<00:11,  5.86it/s]"
          ]
        },
        {
          "output_type": "stream",
          "name": "stdout",
          "text": [
            "(256, 256, 1) 1.0 0.0022813962\n",
            "(256, 256, 3) (256, 256) (256, 256)\n",
            "_13_test_5\n",
            "(256, 256, 1) 1.0 5.6879755e-05\n",
            "(256, 256, 3) (256, 256) (256, 256)\n"
          ]
        },
        {
          "output_type": "stream",
          "name": "stderr",
          "text": [
            "\r 63%|██████▎   | 114/180 [00:19<00:11,  5.90it/s]"
          ]
        },
        {
          "output_type": "stream",
          "name": "stdout",
          "text": [
            "_13_test_6\n",
            "(256, 256, 1) 1.0 0.0031593393\n",
            "(256, 256, 3) (256, 256) (256, 256)\n"
          ]
        },
        {
          "output_type": "stream",
          "name": "stderr",
          "text": [
            "\r 64%|██████▍   | 115/180 [00:19<00:10,  6.02it/s]"
          ]
        },
        {
          "output_type": "stream",
          "name": "stdout",
          "text": [
            "_13_test_7\n"
          ]
        },
        {
          "output_type": "stream",
          "name": "stderr",
          "text": [
            "\r 64%|██████▍   | 116/180 [00:19<00:10,  6.03it/s]"
          ]
        },
        {
          "output_type": "stream",
          "name": "stdout",
          "text": [
            "(256, 256, 1) 1.0 0.0019897239\n",
            "(256, 256, 3) (256, 256) (256, 256)\n",
            "_13_test_8\n",
            "(256, 256, 1) 1.0 0.0026818707\n",
            "(256, 256, 3) (256, 256) (256, 256)\n"
          ]
        },
        {
          "output_type": "stream",
          "name": "stderr",
          "text": [
            "\r 65%|██████▌   | 117/180 [00:19<00:10,  6.06it/s]"
          ]
        },
        {
          "output_type": "stream",
          "name": "stdout",
          "text": [
            "_14_test_0\n",
            "(256, 256, 1) 1.0 0.0029287224\n",
            "(256, 256, 3) (256, 256) (256, 256)\n"
          ]
        },
        {
          "output_type": "stream",
          "name": "stderr",
          "text": [
            "\r 66%|██████▌   | 118/180 [00:19<00:10,  6.02it/s]"
          ]
        },
        {
          "output_type": "stream",
          "name": "stdout",
          "text": [
            "_14_test_1\n"
          ]
        },
        {
          "output_type": "stream",
          "name": "stderr",
          "text": [
            "\r 66%|██████▌   | 119/180 [00:20<00:10,  5.99it/s]"
          ]
        },
        {
          "output_type": "stream",
          "name": "stdout",
          "text": [
            "(256, 256, 1) 1.0 0.0023725766\n",
            "(256, 256, 3) (256, 256) (256, 256)\n",
            "_14_test_2\n",
            "(256, 256, 1) 1.0 0.0020903025\n",
            "(256, 256, 3) (256, 256) (256, 256)\n"
          ]
        },
        {
          "output_type": "stream",
          "name": "stderr",
          "text": [
            "\r 67%|██████▋   | 120/180 [00:20<00:09,  6.00it/s]"
          ]
        },
        {
          "output_type": "stream",
          "name": "stdout",
          "text": [
            "_14_test_3\n",
            "(256, 256, 1) 0.99999905 0.0026417018\n",
            "(256, 256, 3) (256, 256) (256, 256)\n"
          ]
        },
        {
          "output_type": "stream",
          "name": "stderr",
          "text": [
            "\r 67%|██████▋   | 121/180 [00:20<00:09,  6.02it/s]"
          ]
        },
        {
          "output_type": "stream",
          "name": "stdout",
          "text": [
            "_14_test_4\n"
          ]
        },
        {
          "output_type": "stream",
          "name": "stderr",
          "text": [
            "\r 68%|██████▊   | 122/180 [00:20<00:09,  5.94it/s]"
          ]
        },
        {
          "output_type": "stream",
          "name": "stdout",
          "text": [
            "(256, 256, 1) 1.0 0.0026130714\n",
            "(256, 256, 3) (256, 256) (256, 256)\n",
            "_14_test_5\n",
            "(256, 256, 1) 1.0 0.00024276531\n",
            "(256, 256, 3) (256, 256) (256, 256)\n"
          ]
        },
        {
          "output_type": "stream",
          "name": "stderr",
          "text": [
            "\r 68%|██████▊   | 123/180 [00:20<00:09,  5.89it/s]"
          ]
        },
        {
          "output_type": "stream",
          "name": "stdout",
          "text": [
            "_14_test_6\n",
            "(256, 256, 1) 0.9999988 0.003197136\n",
            "(256, 256, 3) (256, 256) (256, 256)\n"
          ]
        },
        {
          "output_type": "stream",
          "name": "stderr",
          "text": [
            "\r 69%|██████▉   | 124/180 [00:20<00:09,  5.95it/s]"
          ]
        },
        {
          "output_type": "stream",
          "name": "stdout",
          "text": [
            "_14_test_7\n"
          ]
        },
        {
          "output_type": "stream",
          "name": "stderr",
          "text": [
            "\r 69%|██████▉   | 125/180 [00:21<00:09,  5.99it/s]"
          ]
        },
        {
          "output_type": "stream",
          "name": "stdout",
          "text": [
            "(256, 256, 1) 1.0 0.0019767652\n",
            "(256, 256, 3) (256, 256) (256, 256)\n",
            "_14_test_8\n",
            "(256, 256, 1) 1.0 0.0017110354\n",
            "(256, 256, 3) (256, 256) (256, 256)\n"
          ]
        },
        {
          "output_type": "stream",
          "name": "stderr",
          "text": [
            "\r 70%|███████   | 126/180 [00:21<00:08,  6.01it/s]"
          ]
        },
        {
          "output_type": "stream",
          "name": "stdout",
          "text": [
            "_15_test_0\n",
            "(256, 256, 1) 1.0 0.0038642224\n",
            "(256, 256, 3) (256, 256) (256, 256)\n"
          ]
        },
        {
          "output_type": "stream",
          "name": "stderr",
          "text": [
            "\r 71%|███████   | 127/180 [00:21<00:08,  6.03it/s]"
          ]
        },
        {
          "output_type": "stream",
          "name": "stdout",
          "text": [
            "_15_test_1\n"
          ]
        },
        {
          "output_type": "stream",
          "name": "stderr",
          "text": [
            "\r 71%|███████   | 128/180 [00:21<00:08,  5.99it/s]"
          ]
        },
        {
          "output_type": "stream",
          "name": "stdout",
          "text": [
            "(256, 256, 1) 0.9999994 0.0032170669\n",
            "(256, 256, 3) (256, 256) (256, 256)\n",
            "_15_test_2\n",
            "(256, 256, 1) 0.9999312 0.0038264464\n",
            "(256, 256, 3) (256, 256) (256, 256)\n"
          ]
        },
        {
          "output_type": "stream",
          "name": "stderr",
          "text": [
            "\r 72%|███████▏  | 129/180 [00:21<00:08,  6.01it/s]"
          ]
        },
        {
          "output_type": "stream",
          "name": "stdout",
          "text": [
            "_15_test_3\n",
            "(256, 256, 1) 0.99999905 0.0030807252\n",
            "(256, 256, 3) (256, 256) (256, 256)\n"
          ]
        },
        {
          "output_type": "stream",
          "name": "stderr",
          "text": [
            "\r 72%|███████▏  | 130/180 [00:21<00:08,  5.97it/s]"
          ]
        },
        {
          "output_type": "stream",
          "name": "stdout",
          "text": [
            "_15_test_4\n"
          ]
        },
        {
          "output_type": "stream",
          "name": "stderr",
          "text": [
            "\r 73%|███████▎  | 131/180 [00:22<00:08,  5.90it/s]"
          ]
        },
        {
          "output_type": "stream",
          "name": "stdout",
          "text": [
            "(256, 256, 1) 1.0 0.00021662602\n",
            "(256, 256, 3) (256, 256) (256, 256)\n",
            "_15_test_5\n",
            "(256, 256, 1) 1.0 0.003294175\n",
            "(256, 256, 3) (256, 256) (256, 256)\n"
          ]
        },
        {
          "output_type": "stream",
          "name": "stderr",
          "text": [
            "\r 73%|███████▎  | 132/180 [00:22<00:08,  5.86it/s]"
          ]
        },
        {
          "output_type": "stream",
          "name": "stdout",
          "text": [
            "_15_test_6\n",
            "(256, 256, 1) 0.9999975 0.0036476848\n",
            "(256, 256, 3) (256, 256) (256, 256)\n"
          ]
        },
        {
          "output_type": "stream",
          "name": "stderr",
          "text": [
            "\r 74%|███████▍  | 133/180 [00:22<00:07,  5.89it/s]"
          ]
        },
        {
          "output_type": "stream",
          "name": "stdout",
          "text": [
            "_15_test_7\n"
          ]
        },
        {
          "output_type": "stream",
          "name": "stderr",
          "text": [
            "\r 74%|███████▍  | 134/180 [00:22<00:07,  5.98it/s]"
          ]
        },
        {
          "output_type": "stream",
          "name": "stdout",
          "text": [
            "(256, 256, 1) 0.9999958 0.0032644551\n",
            "(256, 256, 3) (256, 256) (256, 256)\n",
            "_15_test_8\n",
            "(256, 256, 1) 0.99999976 0.0042233556\n",
            "(256, 256, 3) (256, 256) (256, 256)\n"
          ]
        },
        {
          "output_type": "stream",
          "name": "stderr",
          "text": [
            "\r 75%|███████▌  | 135/180 [00:22<00:07,  6.03it/s]"
          ]
        },
        {
          "output_type": "stream",
          "name": "stdout",
          "text": [
            "_16_test_0\n",
            "(256, 256, 1) 1.0 0.0019547588\n",
            "(256, 256, 3) (256, 256) (256, 256)\n"
          ]
        },
        {
          "output_type": "stream",
          "name": "stderr",
          "text": [
            "\r 76%|███████▌  | 136/180 [00:22<00:07,  6.04it/s]"
          ]
        },
        {
          "output_type": "stream",
          "name": "stdout",
          "text": [
            "_16_test_1\n"
          ]
        },
        {
          "output_type": "stream",
          "name": "stderr",
          "text": [
            "\r 76%|███████▌  | 137/180 [00:23<00:07,  6.01it/s]"
          ]
        },
        {
          "output_type": "stream",
          "name": "stdout",
          "text": [
            "(256, 256, 1) 1.0 0.002080435\n",
            "(256, 256, 3) (256, 256) (256, 256)\n",
            "_16_test_2\n",
            "(256, 256, 1) 1.0 0.0028067864\n",
            "(256, 256, 3) (256, 256) (256, 256)\n"
          ]
        },
        {
          "output_type": "stream",
          "name": "stderr",
          "text": [
            "\r 77%|███████▋  | 138/180 [00:23<00:06,  6.03it/s]"
          ]
        },
        {
          "output_type": "stream",
          "name": "stdout",
          "text": [
            "_16_test_3\n",
            "(256, 256, 1) 1.0 0.0014670332\n",
            "(256, 256, 3) (256, 256) (256, 256)\n"
          ]
        },
        {
          "output_type": "stream",
          "name": "stderr",
          "text": [
            "\r 77%|███████▋  | 139/180 [00:23<00:06,  6.06it/s]"
          ]
        },
        {
          "output_type": "stream",
          "name": "stdout",
          "text": [
            "_16_test_4\n"
          ]
        },
        {
          "output_type": "stream",
          "name": "stderr",
          "text": [
            "\r 78%|███████▊  | 140/180 [00:23<00:06,  5.99it/s]"
          ]
        },
        {
          "output_type": "stream",
          "name": "stdout",
          "text": [
            "(256, 256, 1) 1.0 0.0019124965\n",
            "(256, 256, 3) (256, 256) (256, 256)\n",
            "_16_test_5\n",
            "(256, 256, 1) 1.0 3.0955976e-05\n",
            "(256, 256, 3) (256, 256) (256, 256)\n"
          ]
        },
        {
          "output_type": "stream",
          "name": "stderr",
          "text": [
            "\r 78%|███████▊  | 141/180 [00:23<00:06,  6.00it/s]"
          ]
        },
        {
          "output_type": "stream",
          "name": "stdout",
          "text": [
            "_16_test_6\n",
            "(256, 256, 1) 1.0 0.0025917608\n",
            "(256, 256, 3) (256, 256) (256, 256)\n"
          ]
        },
        {
          "output_type": "stream",
          "name": "stderr",
          "text": [
            "\r 79%|███████▉  | 142/180 [00:23<00:06,  6.00it/s]"
          ]
        },
        {
          "output_type": "stream",
          "name": "stdout",
          "text": [
            "_16_test_7\n"
          ]
        },
        {
          "output_type": "stream",
          "name": "stderr",
          "text": [
            "\r 79%|███████▉  | 143/180 [00:24<00:06,  6.01it/s]"
          ]
        },
        {
          "output_type": "stream",
          "name": "stdout",
          "text": [
            "(256, 256, 1) 1.0 0.0015676544\n",
            "(256, 256, 3) (256, 256) (256, 256)\n",
            "_16_test_8\n",
            "(256, 256, 1) 1.0 0.0016221822\n",
            "(256, 256, 3) (256, 256) (256, 256)\n"
          ]
        },
        {
          "output_type": "stream",
          "name": "stderr",
          "text": [
            "\r 80%|████████  | 144/180 [00:24<00:05,  6.07it/s]"
          ]
        },
        {
          "output_type": "stream",
          "name": "stdout",
          "text": [
            "_17_test_0\n",
            "(256, 256, 1) 1.0 0.001696928\n",
            "(256, 256, 3) (256, 256) (256, 256)\n"
          ]
        },
        {
          "output_type": "stream",
          "name": "stderr",
          "text": [
            "\r 81%|████████  | 145/180 [00:24<00:05,  6.12it/s]"
          ]
        },
        {
          "output_type": "stream",
          "name": "stdout",
          "text": [
            "_17_test_1\n"
          ]
        },
        {
          "output_type": "stream",
          "name": "stderr",
          "text": [
            "\r 81%|████████  | 146/180 [00:24<00:05,  6.14it/s]"
          ]
        },
        {
          "output_type": "stream",
          "name": "stdout",
          "text": [
            "(256, 256, 1) 1.0 0.0020156596\n",
            "(256, 256, 3) (256, 256) (256, 256)\n",
            "_17_test_2\n",
            "(256, 256, 1) 1.0 0.0030772022\n",
            "(256, 256, 3) (256, 256) (256, 256)\n"
          ]
        },
        {
          "output_type": "stream",
          "name": "stderr",
          "text": [
            "\r 82%|████████▏ | 147/180 [00:24<00:05,  6.17it/s]"
          ]
        },
        {
          "output_type": "stream",
          "name": "stdout",
          "text": [
            "_17_test_3\n",
            "(256, 256, 1) 0.99999964 0.0007638078\n",
            "(256, 256, 3) (256, 256) (256, 256)\n"
          ]
        },
        {
          "output_type": "stream",
          "name": "stderr",
          "text": [
            "\r 82%|████████▏ | 148/180 [00:24<00:05,  6.13it/s]"
          ]
        },
        {
          "output_type": "stream",
          "name": "stdout",
          "text": [
            "_17_test_4\n"
          ]
        },
        {
          "output_type": "stream",
          "name": "stderr",
          "text": [
            "\r 83%|████████▎ | 149/180 [00:25<00:05,  6.01it/s]"
          ]
        },
        {
          "output_type": "stream",
          "name": "stdout",
          "text": [
            "(256, 256, 1) 1.0 0.0017161987\n",
            "(256, 256, 3) (256, 256) (256, 256)\n",
            "_17_test_5\n",
            "(256, 256, 1) 1.0 4.9738787e-06\n",
            "(256, 256, 3) (256, 256) (256, 256)\n"
          ]
        },
        {
          "output_type": "stream",
          "name": "stderr",
          "text": [
            "\r 83%|████████▎ | 150/180 [00:25<00:05,  5.92it/s]"
          ]
        },
        {
          "output_type": "stream",
          "name": "stdout",
          "text": [
            "_17_test_6\n",
            "(256, 256, 1) 0.99963295 0.0005446214\n",
            "(256, 256, 3) (256, 256) (256, 256)\n"
          ]
        },
        {
          "output_type": "stream",
          "name": "stderr",
          "text": [
            "\r 84%|████████▍ | 151/180 [00:25<00:04,  5.97it/s]"
          ]
        },
        {
          "output_type": "stream",
          "name": "stdout",
          "text": [
            "_17_test_7\n"
          ]
        },
        {
          "output_type": "stream",
          "name": "stderr",
          "text": [
            "\r 84%|████████▍ | 152/180 [00:25<00:04,  5.91it/s]"
          ]
        },
        {
          "output_type": "stream",
          "name": "stdout",
          "text": [
            "(256, 256, 1) 1.0 0.000933585\n",
            "(256, 256, 3) (256, 256) (256, 256)\n",
            "_17_test_8\n",
            "(256, 256, 1) 1.0 0.0013232884\n",
            "(256, 256, 3) (256, 256) (256, 256)\n"
          ]
        },
        {
          "output_type": "stream",
          "name": "stderr",
          "text": [
            "\r 85%|████████▌ | 153/180 [00:25<00:04,  5.95it/s]"
          ]
        },
        {
          "output_type": "stream",
          "name": "stdout",
          "text": [
            "_18_test_0\n",
            "(256, 256, 1) 1.0 0.0019616764\n",
            "(256, 256, 3) (256, 256) (256, 256)\n"
          ]
        },
        {
          "output_type": "stream",
          "name": "stderr",
          "text": [
            "\r 86%|████████▌ | 154/180 [00:25<00:04,  6.00it/s]"
          ]
        },
        {
          "output_type": "stream",
          "name": "stdout",
          "text": [
            "_18_test_1\n"
          ]
        },
        {
          "output_type": "stream",
          "name": "stderr",
          "text": [
            "\r 86%|████████▌ | 155/180 [00:26<00:04,  6.00it/s]"
          ]
        },
        {
          "output_type": "stream",
          "name": "stdout",
          "text": [
            "(256, 256, 1) 1.0 0.0013170984\n",
            "(256, 256, 3) (256, 256) (256, 256)\n",
            "_18_test_2\n",
            "(256, 256, 1) 1.0 0.0027798845\n",
            "(256, 256, 3) (256, 256) (256, 256)\n"
          ]
        },
        {
          "output_type": "stream",
          "name": "stderr",
          "text": [
            "\r 87%|████████▋ | 156/180 [00:26<00:03,  6.03it/s]"
          ]
        },
        {
          "output_type": "stream",
          "name": "stdout",
          "text": [
            "_18_test_3\n",
            "(256, 256, 1) 0.9999999 0.0020437702\n",
            "(256, 256, 3) (256, 256) (256, 256)\n"
          ]
        },
        {
          "output_type": "stream",
          "name": "stderr",
          "text": [
            "\r 87%|████████▋ | 157/180 [00:26<00:03,  6.08it/s]"
          ]
        },
        {
          "output_type": "stream",
          "name": "stdout",
          "text": [
            "_18_test_4\n"
          ]
        },
        {
          "output_type": "stream",
          "name": "stderr",
          "text": [
            "\r 88%|████████▊ | 158/180 [00:26<00:03,  5.97it/s]"
          ]
        },
        {
          "output_type": "stream",
          "name": "stdout",
          "text": [
            "(256, 256, 1) 1.0 0.0012216235\n",
            "(256, 256, 3) (256, 256) (256, 256)\n",
            "_18_test_5\n",
            "(256, 256, 1) 1.0 7.7753185e-08\n",
            "(256, 256, 3) (256, 256) (256, 256)\n"
          ]
        },
        {
          "output_type": "stream",
          "name": "stderr",
          "text": [
            "\r 88%|████████▊ | 159/180 [00:26<00:03,  5.94it/s]"
          ]
        },
        {
          "output_type": "stream",
          "name": "stdout",
          "text": [
            "_18_test_6\n",
            "(256, 256, 1) 1.0 0.0027791627\n",
            "(256, 256, 3) (256, 256) (256, 256)\n"
          ]
        },
        {
          "output_type": "stream",
          "name": "stderr",
          "text": [
            "\r 89%|████████▉ | 160/180 [00:26<00:03,  5.98it/s]"
          ]
        },
        {
          "output_type": "stream",
          "name": "stdout",
          "text": [
            "_18_test_7\n"
          ]
        },
        {
          "output_type": "stream",
          "name": "stderr",
          "text": [
            "\r 89%|████████▉ | 161/180 [00:27<00:03,  5.97it/s]"
          ]
        },
        {
          "output_type": "stream",
          "name": "stdout",
          "text": [
            "(256, 256, 1) 1.0 0.00211138\n",
            "(256, 256, 3) (256, 256) (256, 256)\n",
            "_18_test_8\n",
            "(256, 256, 1) 0.99999976 0.0021792992\n",
            "(256, 256, 3) (256, 256) (256, 256)\n"
          ]
        },
        {
          "output_type": "stream",
          "name": "stderr",
          "text": [
            "\r 90%|█████████ | 162/180 [00:27<00:03,  5.96it/s]"
          ]
        },
        {
          "output_type": "stream",
          "name": "stdout",
          "text": [
            "_19_test_0\n",
            "(256, 256, 1) 0.99999976 0.003393461\n",
            "(256, 256, 3) (256, 256) (256, 256)\n"
          ]
        },
        {
          "output_type": "stream",
          "name": "stderr",
          "text": [
            "\r 91%|█████████ | 163/180 [00:27<00:02,  6.04it/s]"
          ]
        },
        {
          "output_type": "stream",
          "name": "stdout",
          "text": [
            "_19_test_1\n"
          ]
        },
        {
          "output_type": "stream",
          "name": "stderr",
          "text": [
            "\r 91%|█████████ | 164/180 [00:27<00:02,  6.01it/s]"
          ]
        },
        {
          "output_type": "stream",
          "name": "stdout",
          "text": [
            "(256, 256, 1) 1.0 0.0030528812\n",
            "(256, 256, 3) (256, 256) (256, 256)\n",
            "_19_test_2\n",
            "(256, 256, 1) 1.0 0.003721325\n",
            "(256, 256, 3) (256, 256) (256, 256)\n"
          ]
        },
        {
          "output_type": "stream",
          "name": "stderr",
          "text": [
            "\r 92%|█████████▏| 165/180 [00:27<00:02,  6.04it/s]"
          ]
        },
        {
          "output_type": "stream",
          "name": "stdout",
          "text": [
            "_19_test_3\n",
            "(256, 256, 1) 0.9999999 0.0019707447\n",
            "(256, 256, 3) (256, 256) (256, 256)\n"
          ]
        },
        {
          "output_type": "stream",
          "name": "stderr",
          "text": [
            "\r 92%|█████████▏| 166/180 [00:27<00:02,  5.97it/s]"
          ]
        },
        {
          "output_type": "stream",
          "name": "stdout",
          "text": [
            "_19_test_4\n"
          ]
        },
        {
          "output_type": "stream",
          "name": "stderr",
          "text": [
            "\r 93%|█████████▎| 167/180 [00:28<00:02,  5.84it/s]"
          ]
        },
        {
          "output_type": "stream",
          "name": "stdout",
          "text": [
            "(256, 256, 1) 1.0 0.0025810823\n",
            "(256, 256, 3) (256, 256) (256, 256)\n",
            "_19_test_5\n",
            "(256, 256, 1) 1.0 0.0010920516\n",
            "(256, 256, 3) (256, 256) (256, 256)\n"
          ]
        },
        {
          "output_type": "stream",
          "name": "stderr",
          "text": [
            "\r 93%|█████████▎| 168/180 [00:28<00:02,  5.79it/s]"
          ]
        },
        {
          "output_type": "stream",
          "name": "stdout",
          "text": [
            "_19_test_6\n",
            "(256, 256, 1) 0.99999964 0.0022598288\n",
            "(256, 256, 3) (256, 256) (256, 256)\n"
          ]
        },
        {
          "output_type": "stream",
          "name": "stderr",
          "text": [
            "\r 94%|█████████▍| 169/180 [00:28<00:01,  5.90it/s]"
          ]
        },
        {
          "output_type": "stream",
          "name": "stdout",
          "text": [
            "_19_test_7\n"
          ]
        },
        {
          "output_type": "stream",
          "name": "stderr",
          "text": [
            "\r 94%|█████████▍| 170/180 [00:28<00:01,  5.96it/s]"
          ]
        },
        {
          "output_type": "stream",
          "name": "stdout",
          "text": [
            "(256, 256, 1) 1.0 0.0028373434\n",
            "(256, 256, 3) (256, 256) (256, 256)\n",
            "_19_test_8\n",
            "(256, 256, 1) 0.9999999 0.002512877\n",
            "(256, 256, 3) (256, 256) (256, 256)\n"
          ]
        },
        {
          "output_type": "stream",
          "name": "stderr",
          "text": [
            "\r 95%|█████████▌| 171/180 [00:28<00:01,  6.01it/s]"
          ]
        },
        {
          "output_type": "stream",
          "name": "stdout",
          "text": [
            "_20_test_0\n",
            "(256, 256, 1) 1.0 0.003093657\n",
            "(256, 256, 3) (256, 256) (256, 256)\n"
          ]
        },
        {
          "output_type": "stream",
          "name": "stderr",
          "text": [
            "\r 96%|█████████▌| 172/180 [00:28<00:01,  5.95it/s]"
          ]
        },
        {
          "output_type": "stream",
          "name": "stdout",
          "text": [
            "_20_test_1\n"
          ]
        },
        {
          "output_type": "stream",
          "name": "stderr",
          "text": [
            "\r 96%|█████████▌| 173/180 [00:29<00:01,  5.92it/s]"
          ]
        },
        {
          "output_type": "stream",
          "name": "stdout",
          "text": [
            "(256, 256, 1) 1.0 0.0021687204\n",
            "(256, 256, 3) (256, 256) (256, 256)\n",
            "_20_test_2\n",
            "(256, 256, 1) 0.99999964 0.0032675082\n",
            "(256, 256, 3) (256, 256) (256, 256)\n"
          ]
        },
        {
          "output_type": "stream",
          "name": "stderr",
          "text": [
            "\r 97%|█████████▋| 174/180 [00:29<00:01,  5.93it/s]"
          ]
        },
        {
          "output_type": "stream",
          "name": "stdout",
          "text": [
            "_20_test_3\n",
            "(256, 256, 1) 1.0 0.00242921\n",
            "(256, 256, 3) (256, 256) (256, 256)\n"
          ]
        },
        {
          "output_type": "stream",
          "name": "stderr",
          "text": [
            "\r 97%|█████████▋| 175/180 [00:29<00:00,  6.01it/s]"
          ]
        },
        {
          "output_type": "stream",
          "name": "stdout",
          "text": [
            "_20_test_4\n"
          ]
        },
        {
          "output_type": "stream",
          "name": "stderr",
          "text": [
            "\r 98%|█████████▊| 176/180 [00:29<00:00,  5.98it/s]"
          ]
        },
        {
          "output_type": "stream",
          "name": "stdout",
          "text": [
            "(256, 256, 1) 1.0 0.0021160508\n",
            "(256, 256, 3) (256, 256) (256, 256)\n",
            "_20_test_5\n",
            "(256, 256, 1) 1.0 7.221129e-05\n",
            "(256, 256, 3) (256, 256) (256, 256)\n"
          ]
        },
        {
          "output_type": "stream",
          "name": "stderr",
          "text": [
            "\r 98%|█████████▊| 177/180 [00:29<00:00,  6.00it/s]"
          ]
        },
        {
          "output_type": "stream",
          "name": "stdout",
          "text": [
            "_20_test_6\n",
            "(256, 256, 1) 0.9999993 0.0039235596\n",
            "(256, 256, 3) (256, 256) (256, 256)\n"
          ]
        },
        {
          "output_type": "stream",
          "name": "stderr",
          "text": [
            "\r 99%|█████████▉| 178/180 [00:29<00:00,  6.06it/s]"
          ]
        },
        {
          "output_type": "stream",
          "name": "stdout",
          "text": [
            "_20_test_7\n"
          ]
        },
        {
          "output_type": "stream",
          "name": "stderr",
          "text": [
            "\r 99%|█████████▉| 179/180 [00:30<00:00,  6.05it/s]"
          ]
        },
        {
          "output_type": "stream",
          "name": "stdout",
          "text": [
            "(256, 256, 1) 1.0 0.002548223\n",
            "(256, 256, 3) (256, 256) (256, 256)\n",
            "_20_test_8\n",
            "(256, 256, 1) 0.9999999 0.0034619276\n",
            "(256, 256, 3) (256, 256) (256, 256)\n"
          ]
        },
        {
          "output_type": "stream",
          "name": "stderr",
          "text": [
            "100%|██████████| 180/180 [00:30<00:00,  5.95it/s]"
          ]
        },
        {
          "output_type": "stream",
          "name": "stdout",
          "text": [
            "Threshold: 0.60000\n",
            "Accuracy: 0.97962\n",
            "F1: 0.74769\n",
            "Jaccard: 0.61079\n",
            "Recall: 0.71312\n",
            "Precision: 0.81438\n",
            "AUC: 0.96830\n",
            "Dice Coeff: 0.62750\n"
          ]
        },
        {
          "output_type": "stream",
          "name": "stderr",
          "text": [
            "\n"
          ]
        }
      ]
    },
    {
      "cell_type": "code",
      "source": [
        "results_path_reconstructed"
      ],
      "metadata": {
        "id": "braGlLM9Wgr9",
        "colab": {
          "base_uri": "https://localhost:8080/",
          "height": 35
        },
        "outputId": "1ed23abf-f99a-4455-ac3f-cea3347440c6"
      },
      "execution_count": null,
      "outputs": [
        {
          "output_type": "execute_result",
          "data": {
            "application/vnd.google.colaboratory.intrinsic+json": {
              "type": "string"
            },
            "text/plain": [
              "'/content/datasets/drive_256_256_dice_loss_0_4__0_4_1//results_reconstructed/'"
            ]
          },
          "metadata": {},
          "execution_count": 58
        }
      ]
    },
    {
      "cell_type": "code",
      "source": [
        "!ls "
      ],
      "metadata": {
        "id": "ATVyvynpSGYQ",
        "colab": {
          "base_uri": "https://localhost:8080/"
        },
        "outputId": "13661551-aebb-4b92-86ba-3ab12cf871ca"
      },
      "execution_count": null,
      "outputs": [
        {
          "output_type": "stream",
          "name": "stdout",
          "text": [
            "drive_256_256_dice_loss_0_4__0_4_1  logs\n"
          ]
        }
      ]
    },
    {
      "cell_type": "code",
      "source": [
        "folder_name = root_path.split(\"/\")[3]\n",
        "print(folder_name)"
      ],
      "metadata": {
        "colab": {
          "base_uri": "https://localhost:8080/"
        },
        "id": "NwV0hgRzjBbR",
        "outputId": "9217cdc0-0c69-43ca-cccf-4f8028bdd435"
      },
      "execution_count": null,
      "outputs": [
        {
          "output_type": "stream",
          "name": "stdout",
          "text": [
            "drive_256_256_dice_loss_0_4__0_4_1\n"
          ]
        }
      ]
    },
    {
      "cell_type": "code",
      "source": [
        "!zip -r {folder_name}.zip  {folder_name}/"
      ],
      "metadata": {
        "colab": {
          "base_uri": "https://localhost:8080/"
        },
        "id": "tGxzllboKasD",
        "outputId": "b341b2f5-b15d-4b06-cde9-fa36fd224f07"
      },
      "execution_count": null,
      "outputs": [
        {
          "output_type": "stream",
          "name": "stdout",
          "text": [
            "  adding: drive_256_256_dice_loss_0_4__0_4_1/ (stored 0%)\n",
            "  adding: drive_256_256_dice_loss_0_4__0_4_1/training/ (stored 0%)\n",
            "  adding: drive_256_256_dice_loss_0_4__0_4_1/training/1st_manual/ (stored 0%)\n",
            "  adding: drive_256_256_dice_loss_0_4__0_4_1/training/1st_manual/31_manual1.gif (stored 0%)\n",
            "  adding: drive_256_256_dice_loss_0_4__0_4_1/training/1st_manual/22_manual1.gif (stored 0%)\n",
            "  adding: drive_256_256_dice_loss_0_4__0_4_1/training/1st_manual/23_manual1.gif (stored 0%)\n",
            "  adding: drive_256_256_dice_loss_0_4__0_4_1/training/1st_manual/24_manual1.gif (stored 0%)\n",
            "  adding: drive_256_256_dice_loss_0_4__0_4_1/training/1st_manual/32_manual1.gif (stored 0%)\n",
            "  adding: drive_256_256_dice_loss_0_4__0_4_1/training/1st_manual/40_manual1.gif (stored 0%)\n",
            "  adding: drive_256_256_dice_loss_0_4__0_4_1/training/1st_manual/27_manual1.gif (stored 0%)\n",
            "  adding: drive_256_256_dice_loss_0_4__0_4_1/training/1st_manual/34_manual1.gif (stored 0%)\n",
            "  adding: drive_256_256_dice_loss_0_4__0_4_1/training/1st_manual/38_manual1.gif (stored 0%)\n",
            "  adding: drive_256_256_dice_loss_0_4__0_4_1/training/1st_manual/29_manual1.gif (stored 0%)\n",
            "  adding: drive_256_256_dice_loss_0_4__0_4_1/training/1st_manual/25_manual1.gif (stored 0%)\n",
            "  adding: drive_256_256_dice_loss_0_4__0_4_1/training/1st_manual/33_manual1.gif (stored 0%)\n",
            "  adding: drive_256_256_dice_loss_0_4__0_4_1/training/1st_manual/37_manual1.gif (stored 0%)\n",
            "  adding: drive_256_256_dice_loss_0_4__0_4_1/training/1st_manual/39_manual1.gif (stored 0%)\n",
            "  adding: drive_256_256_dice_loss_0_4__0_4_1/training/1st_manual/21_manual1.gif (stored 0%)\n",
            "  adding: drive_256_256_dice_loss_0_4__0_4_1/training/1st_manual/36_manual1.gif (stored 0%)\n",
            "  adding: drive_256_256_dice_loss_0_4__0_4_1/training/1st_manual/35_manual1.gif (stored 0%)\n",
            "  adding: drive_256_256_dice_loss_0_4__0_4_1/training/1st_manual/30_manual1.gif (stored 0%)\n",
            "  adding: drive_256_256_dice_loss_0_4__0_4_1/training/1st_manual/28_manual1.gif (stored 0%)\n",
            "  adding: drive_256_256_dice_loss_0_4__0_4_1/training/1st_manual/26_manual1.gif (stored 0%)\n",
            "  adding: drive_256_256_dice_loss_0_4__0_4_1/training/images/ (stored 0%)\n",
            "  adding: drive_256_256_dice_loss_0_4__0_4_1/training/images/21_training.tif (deflated 2%)\n",
            "  adding: drive_256_256_dice_loss_0_4__0_4_1/training/images/27_training.tif (deflated 2%)\n",
            "  adding: drive_256_256_dice_loss_0_4__0_4_1/training/images/24_training.tif (deflated 2%)\n",
            "  adding: drive_256_256_dice_loss_0_4__0_4_1/training/images/23_training.tif (deflated 1%)\n",
            "  adding: drive_256_256_dice_loss_0_4__0_4_1/training/images/40_training.tif (deflated 3%)\n",
            "  adding: drive_256_256_dice_loss_0_4__0_4_1/training/images/33_training.tif (deflated 2%)\n",
            "  adding: drive_256_256_dice_loss_0_4__0_4_1/training/images/35_training.tif (deflated 3%)\n",
            "  adding: drive_256_256_dice_loss_0_4__0_4_1/training/images/26_training.tif (deflated 3%)\n",
            "  adding: drive_256_256_dice_loss_0_4__0_4_1/training/images/29_training.tif (deflated 3%)\n",
            "  adding: drive_256_256_dice_loss_0_4__0_4_1/training/images/22_training.tif (deflated 2%)\n",
            "  adding: drive_256_256_dice_loss_0_4__0_4_1/training/images/37_training.tif (deflated 3%)\n",
            "  adding: drive_256_256_dice_loss_0_4__0_4_1/training/images/32_training.tif (deflated 2%)\n",
            "  adding: drive_256_256_dice_loss_0_4__0_4_1/training/images/38_training.tif (deflated 2%)\n",
            "  adding: drive_256_256_dice_loss_0_4__0_4_1/training/images/31_training.tif (deflated 2%)\n",
            "  adding: drive_256_256_dice_loss_0_4__0_4_1/training/images/28_training.tif (deflated 3%)\n",
            "  adding: drive_256_256_dice_loss_0_4__0_4_1/training/images/30_training.tif (deflated 3%)\n",
            "  adding: drive_256_256_dice_loss_0_4__0_4_1/training/images/36_training.tif (deflated 3%)\n",
            "  adding: drive_256_256_dice_loss_0_4__0_4_1/training/images/34_training.tif (deflated 4%)\n",
            "  adding: drive_256_256_dice_loss_0_4__0_4_1/training/images/39_training.tif (deflated 3%)\n",
            "  adding: drive_256_256_dice_loss_0_4__0_4_1/training/images/25_training.tif (deflated 2%)\n",
            "  adding: drive_256_256_dice_loss_0_4__0_4_1/trained_models/ (stored 0%)\n",
            "  adding: drive_256_256_dice_loss_0_4__0_4_1/trained_models/model.h5 (deflated 8%)\n",
            "  adding: drive_256_256_dice_loss_0_4__0_4_1/trained_models/data.csv (deflated 51%)\n",
            "  adding: drive_256_256_dice_loss_0_4__0_4_1/predictions/ (stored 0%)\n",
            "  adding: drive_256_256_dice_loss_0_4__0_4_1/predictions/_09_test_2.png (deflated 60%)\n",
            "  adding: drive_256_256_dice_loss_0_4__0_4_1/predictions/_06_test_2.png (deflated 35%)\n",
            "  adding: drive_256_256_dice_loss_0_4__0_4_1/predictions/_07_test_5.png (deflated 11%)\n",
            "  adding: drive_256_256_dice_loss_0_4__0_4_1/predictions/_10_test_4.png (deflated 11%)\n",
            "  adding: drive_256_256_dice_loss_0_4__0_4_1/predictions/_03_test_6.png (deflated 38%)\n",
            "  adding: drive_256_256_dice_loss_0_4__0_4_1/predictions/_15_test_0.png (deflated 31%)\n",
            "  adding: drive_256_256_dice_loss_0_4__0_4_1/predictions/_03_test_2.png (deflated 63%)\n",
            "  adding: drive_256_256_dice_loss_0_4__0_4_1/predictions/_16_test_7.png (deflated 15%)\n",
            "  adding: drive_256_256_dice_loss_0_4__0_4_1/predictions/_11_test_8.png (deflated 39%)\n",
            "  adding: drive_256_256_dice_loss_0_4__0_4_1/predictions/_11_test_5.png (deflated 9%)\n",
            "  adding: drive_256_256_dice_loss_0_4__0_4_1/predictions/_10_test_5.png (deflated 14%)\n",
            "  adding: drive_256_256_dice_loss_0_4__0_4_1/predictions/_06_test_8.png (deflated 31%)\n",
            "  adding: drive_256_256_dice_loss_0_4__0_4_1/predictions/_02_test_7.png (deflated 16%)\n",
            "  adding: drive_256_256_dice_loss_0_4__0_4_1/predictions/_14_test_0.png (deflated 38%)\n",
            "  adding: drive_256_256_dice_loss_0_4__0_4_1/predictions/_18_test_7.png (deflated 16%)\n",
            "  adding: drive_256_256_dice_loss_0_4__0_4_1/predictions/_09_test_5.png (deflated 7%)\n",
            "  adding: drive_256_256_dice_loss_0_4__0_4_1/predictions/_15_test_3.png (deflated 9%)\n",
            "  adding: drive_256_256_dice_loss_0_4__0_4_1/predictions/_03_test_0.png (deflated 30%)\n",
            "  adding: drive_256_256_dice_loss_0_4__0_4_1/predictions/_02_test_0.png (deflated 40%)\n",
            "  adding: drive_256_256_dice_loss_0_4__0_4_1/predictions/_20_test_3.png (deflated 8%)\n",
            "  adding: drive_256_256_dice_loss_0_4__0_4_1/predictions/_09_test_3.png (deflated 10%)\n",
            "  adding: drive_256_256_dice_loss_0_4__0_4_1/predictions/_01_test_7.png (deflated 14%)\n",
            "  adding: drive_256_256_dice_loss_0_4__0_4_1/predictions/_03_test_5.png (deflated 13%)\n",
            "  adding: drive_256_256_dice_loss_0_4__0_4_1/predictions/_01_test_5.png (deflated 6%)\n",
            "  adding: drive_256_256_dice_loss_0_4__0_4_1/predictions/_12_test_7.png (deflated 16%)\n",
            "  adding: drive_256_256_dice_loss_0_4__0_4_1/predictions/_16_test_4.png (deflated 11%)\n",
            "  adding: drive_256_256_dice_loss_0_4__0_4_1/predictions/_12_test_4.png (deflated 11%)\n",
            "  adding: drive_256_256_dice_loss_0_4__0_4_1/predictions/_20_test_1.png (deflated 16%)\n",
            "  adding: drive_256_256_dice_loss_0_4__0_4_1/predictions/_13_test_7.png (deflated 15%)\n",
            "  adding: drive_256_256_dice_loss_0_4__0_4_1/predictions/_07_test_3.png (deflated 4%)\n",
            "  adding: drive_256_256_dice_loss_0_4__0_4_1/predictions/_12_test_8.png (deflated 28%)\n",
            "  adding: drive_256_256_dice_loss_0_4__0_4_1/predictions/_08_test_3.png (deflated 11%)\n",
            "  adding: drive_256_256_dice_loss_0_4__0_4_1/predictions/_12_test_2.png (deflated 66%)\n",
            "  adding: drive_256_256_dice_loss_0_4__0_4_1/predictions/_11_test_2.png (deflated 30%)\n",
            "  adding: drive_256_256_dice_loss_0_4__0_4_1/predictions/_09_test_0.png (deflated 38%)\n",
            "  adding: drive_256_256_dice_loss_0_4__0_4_1/predictions/_05_test_0.png (deflated 47%)\n",
            "  adding: drive_256_256_dice_loss_0_4__0_4_1/predictions/_19_test_4.png (deflated 11%)\n",
            "  adding: drive_256_256_dice_loss_0_4__0_4_1/predictions/_15_test_4.png (deflated 12%)\n",
            "  adding: drive_256_256_dice_loss_0_4__0_4_1/predictions/_03_test_3.png (deflated 12%)\n",
            "  adding: drive_256_256_dice_loss_0_4__0_4_1/predictions/_17_test_4.png (deflated 9%)\n",
            "  adding: drive_256_256_dice_loss_0_4__0_4_1/predictions/_17_test_2.png (deflated 38%)\n",
            "  adding: drive_256_256_dice_loss_0_4__0_4_1/predictions/_13_test_1.png (deflated 16%)\n",
            "  adding: drive_256_256_dice_loss_0_4__0_4_1/predictions/_15_test_1.png (deflated 18%)\n",
            "  adding: drive_256_256_dice_loss_0_4__0_4_1/predictions/_11_test_6.png (deflated 31%)\n",
            "  adding: drive_256_256_dice_loss_0_4__0_4_1/predictions/_17_test_8.png (deflated 32%)\n",
            "  adding: drive_256_256_dice_loss_0_4__0_4_1/predictions/_05_test_3.png (deflated 11%)\n",
            "  adding: drive_256_256_dice_loss_0_4__0_4_1/predictions/_14_test_8.png (deflated 28%)\n",
            "  adding: drive_256_256_dice_loss_0_4__0_4_1/predictions/_17_test_3.png (deflated 10%)\n",
            "  adding: drive_256_256_dice_loss_0_4__0_4_1/predictions/_20_test_6.png (deflated 37%)\n",
            "  adding: drive_256_256_dice_loss_0_4__0_4_1/predictions/_20_test_7.png (deflated 16%)\n",
            "  adding: drive_256_256_dice_loss_0_4__0_4_1/predictions/_07_test_2.png (deflated 46%)\n",
            "  adding: drive_256_256_dice_loss_0_4__0_4_1/predictions/_19_test_2.png (deflated 34%)\n",
            "  adding: drive_256_256_dice_loss_0_4__0_4_1/predictions/_07_test_1.png (deflated 19%)\n",
            "  adding: drive_256_256_dice_loss_0_4__0_4_1/predictions/_07_test_7.png (deflated 14%)\n",
            "  adding: drive_256_256_dice_loss_0_4__0_4_1/predictions/_04_test_0.png (deflated 36%)\n",
            "  adding: drive_256_256_dice_loss_0_4__0_4_1/predictions/_19_test_3.png (deflated 10%)\n",
            "  adding: drive_256_256_dice_loss_0_4__0_4_1/predictions/_15_test_5.png (deflated 9%)\n",
            "  adding: drive_256_256_dice_loss_0_4__0_4_1/predictions/_13_test_3.png (deflated 9%)\n",
            "  adding: drive_256_256_dice_loss_0_4__0_4_1/predictions/_20_test_0.png (deflated 53%)\n",
            "  adding: drive_256_256_dice_loss_0_4__0_4_1/predictions/_03_test_7.png (deflated 18%)\n",
            "  adding: drive_256_256_dice_loss_0_4__0_4_1/predictions/_10_test_8.png (deflated 47%)\n",
            "  adding: drive_256_256_dice_loss_0_4__0_4_1/predictions/_04_test_2.png (deflated 34%)\n",
            "  adding: drive_256_256_dice_loss_0_4__0_4_1/predictions/_02_test_1.png (deflated 16%)\n",
            "  adding: drive_256_256_dice_loss_0_4__0_4_1/predictions/_07_test_4.png (deflated 8%)\n",
            "  adding: drive_256_256_dice_loss_0_4__0_4_1/predictions/_16_test_6.png (deflated 40%)\n",
            "  adding: drive_256_256_dice_loss_0_4__0_4_1/predictions/_18_test_6.png (deflated 64%)\n",
            "  adding: drive_256_256_dice_loss_0_4__0_4_1/predictions/_16_test_0.png (deflated 28%)\n",
            "  adding: drive_256_256_dice_loss_0_4__0_4_1/predictions/_06_test_5.png (deflated 11%)\n",
            "  adding: drive_256_256_dice_loss_0_4__0_4_1/predictions/_02_test_8.png (deflated 26%)\n",
            "  adding: drive_256_256_dice_loss_0_4__0_4_1/predictions/_07_test_0.png (deflated 38%)\n",
            "  adding: drive_256_256_dice_loss_0_4__0_4_1/predictions/_10_test_2.png (deflated 36%)\n",
            "  adding: drive_256_256_dice_loss_0_4__0_4_1/predictions/_12_test_5.png (deflated 5%)\n",
            "  adding: drive_256_256_dice_loss_0_4__0_4_1/predictions/_09_test_6.png (deflated 62%)\n",
            "  adding: drive_256_256_dice_loss_0_4__0_4_1/predictions/_10_test_7.png (deflated 18%)\n",
            "  adding: drive_256_256_dice_loss_0_4__0_4_1/predictions/_18_test_3.png (deflated 8%)\n",
            "  adding: drive_256_256_dice_loss_0_4__0_4_1/predictions/_16_test_5.png (deflated 13%)\n",
            "  adding: drive_256_256_dice_loss_0_4__0_4_1/predictions/_20_test_8.png (deflated 43%)\n",
            "  adding: drive_256_256_dice_loss_0_4__0_4_1/predictions/_04_test_3.png (deflated 10%)\n",
            "  adding: drive_256_256_dice_loss_0_4__0_4_1/predictions/_02_test_5.png (deflated 13%)\n",
            "  adding: drive_256_256_dice_loss_0_4__0_4_1/predictions/_14_test_7.png (deflated 15%)\n",
            "  adding: drive_256_256_dice_loss_0_4__0_4_1/predictions/_08_test_0.png (deflated 44%)\n",
            "  adding: drive_256_256_dice_loss_0_4__0_4_1/predictions/_13_test_8.png (deflated 26%)\n",
            "  adding: drive_256_256_dice_loss_0_4__0_4_1/predictions/_18_test_4.png (deflated 8%)\n",
            "  adding: drive_256_256_dice_loss_0_4__0_4_1/predictions/_14_test_6.png (deflated 54%)\n",
            "  adding: drive_256_256_dice_loss_0_4__0_4_1/predictions/_08_test_1.png (deflated 17%)\n",
            "  adding: drive_256_256_dice_loss_0_4__0_4_1/predictions/_01_test_3.png (deflated 12%)\n",
            "  adding: drive_256_256_dice_loss_0_4__0_4_1/predictions/_11_test_3.png (deflated 10%)\n",
            "  adding: drive_256_256_dice_loss_0_4__0_4_1/predictions/_10_test_0.png (deflated 35%)\n",
            "  adding: drive_256_256_dice_loss_0_4__0_4_1/predictions/_16_test_3.png (deflated 9%)\n",
            "  adding: drive_256_256_dice_loss_0_4__0_4_1/predictions/_04_test_1.png (deflated 20%)\n",
            "  adding: drive_256_256_dice_loss_0_4__0_4_1/predictions/_17_test_1.png (deflated 16%)\n",
            "  adding: drive_256_256_dice_loss_0_4__0_4_1/predictions/_08_test_2.png (deflated 40%)\n",
            "  adding: drive_256_256_dice_loss_0_4__0_4_1/predictions/_04_test_6.png (deflated 65%)\n",
            "  adding: drive_256_256_dice_loss_0_4__0_4_1/predictions/_13_test_6.png (deflated 28%)\n",
            "  adding: drive_256_256_dice_loss_0_4__0_4_1/predictions/_18_test_5.png (deflated 11%)\n",
            "  adding: drive_256_256_dice_loss_0_4__0_4_1/predictions/_18_test_1.png (deflated 16%)\n",
            "  adding: drive_256_256_dice_loss_0_4__0_4_1/predictions/_16_test_2.png (deflated 35%)\n",
            "  adding: drive_256_256_dice_loss_0_4__0_4_1/predictions/_13_test_5.png (deflated 10%)\n",
            "  adding: drive_256_256_dice_loss_0_4__0_4_1/predictions/_15_test_7.png (deflated 19%)\n",
            "  adding: drive_256_256_dice_loss_0_4__0_4_1/predictions/_09_test_8.png (deflated 40%)\n",
            "  adding: drive_256_256_dice_loss_0_4__0_4_1/predictions/_19_test_0.png (deflated 34%)\n",
            "  adding: drive_256_256_dice_loss_0_4__0_4_1/predictions/_14_test_5.png (deflated 11%)\n",
            "  adding: drive_256_256_dice_loss_0_4__0_4_1/predictions/_11_test_4.png (deflated 10%)\n",
            "  adding: drive_256_256_dice_loss_0_4__0_4_1/predictions/_17_test_7.png (deflated 15%)\n",
            "  adding: drive_256_256_dice_loss_0_4__0_4_1/predictions/_04_test_5.png (deflated 4%)\n",
            "  adding: drive_256_256_dice_loss_0_4__0_4_1/predictions/_16_test_8.png (deflated 37%)\n",
            "  adding: drive_256_256_dice_loss_0_4__0_4_1/predictions/_18_test_0.png (deflated 43%)\n",
            "  adding: drive_256_256_dice_loss_0_4__0_4_1/predictions/_02_test_3.png (deflated 9%)\n",
            "  adding: drive_256_256_dice_loss_0_4__0_4_1/predictions/_01_test_4.png (deflated 7%)\n",
            "  adding: drive_256_256_dice_loss_0_4__0_4_1/predictions/_18_test_2.png (deflated 26%)\n",
            "  adding: drive_256_256_dice_loss_0_4__0_4_1/predictions/_03_test_4.png (deflated 7%)\n",
            "  adding: drive_256_256_dice_loss_0_4__0_4_1/predictions/_08_test_8.png (deflated 31%)\n",
            "  adding: drive_256_256_dice_loss_0_4__0_4_1/predictions/_16_test_1.png (deflated 14%)\n",
            "  adding: drive_256_256_dice_loss_0_4__0_4_1/predictions/_09_test_7.png (deflated 15%)\n",
            "  adding: drive_256_256_dice_loss_0_4__0_4_1/predictions/_11_test_1.png (deflated 14%)\n",
            "  adding: drive_256_256_dice_loss_0_4__0_4_1/predictions/_01_test_0.png (deflated 28%)\n",
            "  adding: drive_256_256_dice_loss_0_4__0_4_1/predictions/_08_test_5.png (deflated 11%)\n",
            "  adding: drive_256_256_dice_loss_0_4__0_4_1/predictions/_15_test_6.png (deflated 29%)\n",
            "  adding: drive_256_256_dice_loss_0_4__0_4_1/predictions/_05_test_6.png (deflated 49%)\n",
            "  adding: drive_256_256_dice_loss_0_4__0_4_1/predictions/_01_test_8.png (deflated 33%)\n",
            "  adding: drive_256_256_dice_loss_0_4__0_4_1/predictions/_13_test_0.png (deflated 40%)\n",
            "  adding: drive_256_256_dice_loss_0_4__0_4_1/predictions/_20_test_5.png (deflated 11%)\n",
            "  adding: drive_256_256_dice_loss_0_4__0_4_1/predictions/_17_test_0.png (deflated 44%)\n",
            "  adding: drive_256_256_dice_loss_0_4__0_4_1/predictions/_19_test_5.png (deflated 13%)\n",
            "  adding: drive_256_256_dice_loss_0_4__0_4_1/predictions/_11_test_0.png (deflated 26%)\n",
            "  adding: drive_256_256_dice_loss_0_4__0_4_1/predictions/_19_test_1.png (deflated 16%)\n",
            "  adding: drive_256_256_dice_loss_0_4__0_4_1/predictions/_01_test_6.png (deflated 45%)\n",
            "  adding: drive_256_256_dice_loss_0_4__0_4_1/predictions/_06_test_3.png (deflated 7%)\n",
            "  adding: drive_256_256_dice_loss_0_4__0_4_1/predictions/_10_test_3.png (deflated 9%)\n",
            "  adding: drive_256_256_dice_loss_0_4__0_4_1/predictions/_17_test_5.png (deflated 10%)\n",
            "  adding: drive_256_256_dice_loss_0_4__0_4_1/predictions/_02_test_6.png (deflated 37%)\n",
            "  adding: drive_256_256_dice_loss_0_4__0_4_1/predictions/_04_test_8.png (deflated 31%)\n",
            "  adding: drive_256_256_dice_loss_0_4__0_4_1/predictions/_13_test_4.png (deflated 11%)\n",
            "  adding: drive_256_256_dice_loss_0_4__0_4_1/predictions/_09_test_4.png (deflated 10%)\n",
            "  adding: drive_256_256_dice_loss_0_4__0_4_1/predictions/_17_test_6.png (deflated 61%)\n",
            "  adding: drive_256_256_dice_loss_0_4__0_4_1/predictions/_14_test_1.png (deflated 16%)\n",
            "  adding: drive_256_256_dice_loss_0_4__0_4_1/predictions/_02_test_2.png (deflated 36%)\n",
            "  adding: drive_256_256_dice_loss_0_4__0_4_1/predictions/_19_test_7.png (deflated 14%)\n",
            "  adding: drive_256_256_dice_loss_0_4__0_4_1/predictions/_19_test_6.png (deflated 31%)\n",
            "  adding: drive_256_256_dice_loss_0_4__0_4_1/predictions/_20_test_2.png (deflated 28%)\n",
            "  adding: drive_256_256_dice_loss_0_4__0_4_1/predictions/_10_test_1.png (deflated 17%)\n",
            "  adding: drive_256_256_dice_loss_0_4__0_4_1/predictions/_05_test_7.png (deflated 16%)\n",
            "  adding: drive_256_256_dice_loss_0_4__0_4_1/predictions/_06_test_1.png (deflated 15%)\n",
            "  adding: drive_256_256_dice_loss_0_4__0_4_1/predictions/_08_test_6.png (deflated 38%)\n",
            "  adding: drive_256_256_dice_loss_0_4__0_4_1/predictions/_06_test_6.png (deflated 57%)\n",
            "  adding: drive_256_256_dice_loss_0_4__0_4_1/predictions/_06_test_7.png (deflated 14%)\n",
            "  adding: drive_256_256_dice_loss_0_4__0_4_1/predictions/_19_test_8.png (deflated 26%)\n",
            "  adding: drive_256_256_dice_loss_0_4__0_4_1/predictions/_13_test_2.png (deflated 60%)\n",
            "  adding: drive_256_256_dice_loss_0_4__0_4_1/predictions/_03_test_1.png (deflated 16%)\n",
            "  adding: drive_256_256_dice_loss_0_4__0_4_1/predictions/_06_test_0.png (deflated 51%)\n",
            "  adding: drive_256_256_dice_loss_0_4__0_4_1/predictions/_15_test_2.png (deflated 54%)\n",
            "  adding: drive_256_256_dice_loss_0_4__0_4_1/predictions/_15_test_8.png (deflated 41%)\n",
            "  adding: drive_256_256_dice_loss_0_4__0_4_1/predictions/_05_test_4.png (deflated 10%)\n",
            "  adding: drive_256_256_dice_loss_0_4__0_4_1/predictions/_05_test_8.png (deflated 58%)\n",
            "  adding: drive_256_256_dice_loss_0_4__0_4_1/predictions/_12_test_0.png (deflated 31%)\n",
            "  adding: drive_256_256_dice_loss_0_4__0_4_1/predictions/_20_test_4.png (deflated 8%)\n",
            "  adding: drive_256_256_dice_loss_0_4__0_4_1/predictions/_05_test_5.png (deflated 13%)\n",
            "  adding: drive_256_256_dice_loss_0_4__0_4_1/predictions/_04_test_4.png (deflated 12%)\n",
            "  adding: drive_256_256_dice_loss_0_4__0_4_1/predictions/_12_test_1.png (deflated 16%)\n",
            "  adding: drive_256_256_dice_loss_0_4__0_4_1/predictions/_07_test_8.png (deflated 22%)\n",
            "  adding: drive_256_256_dice_loss_0_4__0_4_1/predictions/_03_test_8.png (deflated 41%)\n",
            "  adding: drive_256_256_dice_loss_0_4__0_4_1/predictions/_09_test_1.png (deflated 15%)\n",
            "  adding: drive_256_256_dice_loss_0_4__0_4_1/predictions/_12_test_6.png (deflated 29%)\n",
            "  adding: drive_256_256_dice_loss_0_4__0_4_1/predictions/_05_test_1.png (deflated 15%)\n",
            "  adding: drive_256_256_dice_loss_0_4__0_4_1/predictions/_11_test_7.png (deflated 16%)\n",
            "  adding: drive_256_256_dice_loss_0_4__0_4_1/predictions/_02_test_4.png (deflated 11%)\n",
            "  adding: drive_256_256_dice_loss_0_4__0_4_1/predictions/_08_test_7.png (deflated 15%)\n",
            "  adding: drive_256_256_dice_loss_0_4__0_4_1/predictions/_12_test_3.png (deflated 12%)\n",
            "  adding: drive_256_256_dice_loss_0_4__0_4_1/predictions/_01_test_1.png (deflated 15%)\n",
            "  adding: drive_256_256_dice_loss_0_4__0_4_1/predictions/_14_test_2.png (deflated 24%)\n",
            "  adding: drive_256_256_dice_loss_0_4__0_4_1/predictions/_14_test_3.png (deflated 8%)\n",
            "  adding: drive_256_256_dice_loss_0_4__0_4_1/predictions/_07_test_6.png (deflated 31%)\n",
            "  adding: drive_256_256_dice_loss_0_4__0_4_1/predictions/_14_test_4.png (deflated 11%)\n",
            "  adding: drive_256_256_dice_loss_0_4__0_4_1/predictions/_08_test_4.png (deflated 8%)\n",
            "  adding: drive_256_256_dice_loss_0_4__0_4_1/predictions/_01_test_2.png (deflated 48%)\n",
            "  adding: drive_256_256_dice_loss_0_4__0_4_1/predictions/_10_test_6.png (deflated 46%)\n",
            "  adding: drive_256_256_dice_loss_0_4__0_4_1/predictions/_05_test_2.png (deflated 65%)\n",
            "  adding: drive_256_256_dice_loss_0_4__0_4_1/predictions/_06_test_4.png (deflated 10%)\n",
            "  adding: drive_256_256_dice_loss_0_4__0_4_1/predictions/_18_test_8.png (deflated 32%)\n",
            "  adding: drive_256_256_dice_loss_0_4__0_4_1/predictions/_04_test_7.png (deflated 21%)\n",
            "  adding: drive_256_256_dice_loss_0_4__0_4_1/split_2/ (stored 0%)\n",
            "  adding: drive_256_256_dice_loss_0_4__0_4_1/split_2/reconstructed/ (stored 0%)\n",
            "  adding: drive_256_256_dice_loss_0_4__0_4_1/split_2/reconstructed/test/ (stored 0%)\n",
            "  adding: drive_256_256_dice_loss_0_4__0_4_1/split_2/reconstructed/test/mask/ (stored 0%)\n",
            "  adding: drive_256_256_dice_loss_0_4__0_4_1/split_2/reconstructed/test/mask/15_test.png (deflated 16%)\n",
            "  adding: drive_256_256_dice_loss_0_4__0_4_1/split_2/reconstructed/test/mask/03_test.png (deflated 14%)\n",
            "  adding: drive_256_256_dice_loss_0_4__0_4_1/split_2/reconstructed/test/mask/06_test.png (deflated 14%)\n",
            "  adding: drive_256_256_dice_loss_0_4__0_4_1/split_2/reconstructed/test/mask/18_test.png (deflated 17%)\n",
            "  adding: drive_256_256_dice_loss_0_4__0_4_1/split_2/reconstructed/test/mask/10_test.png (deflated 14%)\n",
            "  adding: drive_256_256_dice_loss_0_4__0_4_1/split_2/reconstructed/test/mask/17_test.png (deflated 16%)\n",
            "  adding: drive_256_256_dice_loss_0_4__0_4_1/split_2/reconstructed/test/mask/20_test.png (deflated 17%)\n",
            "  adding: drive_256_256_dice_loss_0_4__0_4_1/split_2/reconstructed/test/mask/04_test.png (deflated 15%)\n",
            "  adding: drive_256_256_dice_loss_0_4__0_4_1/split_2/reconstructed/test/mask/14_test.png (deflated 16%)\n",
            "  adding: drive_256_256_dice_loss_0_4__0_4_1/split_2/reconstructed/test/mask/09_test.png (deflated 16%)\n",
            "  adding: drive_256_256_dice_loss_0_4__0_4_1/split_2/reconstructed/test/mask/12_test.png (deflated 15%)\n",
            "  adding: drive_256_256_dice_loss_0_4__0_4_1/split_2/reconstructed/test/mask/05_test.png (deflated 14%)\n",
            "  adding: drive_256_256_dice_loss_0_4__0_4_1/split_2/reconstructed/test/mask/11_test.png (deflated 16%)\n",
            "  adding: drive_256_256_dice_loss_0_4__0_4_1/split_2/reconstructed/test/mask/07_test.png (deflated 13%)\n",
            "  adding: drive_256_256_dice_loss_0_4__0_4_1/split_2/reconstructed/test/mask/16_test.png (deflated 17%)\n",
            "  adding: drive_256_256_dice_loss_0_4__0_4_1/split_2/reconstructed/test/mask/19_test.png (deflated 15%)\n",
            "  adding: drive_256_256_dice_loss_0_4__0_4_1/split_2/reconstructed/test/mask/01_test.png (deflated 15%)\n",
            "  adding: drive_256_256_dice_loss_0_4__0_4_1/split_2/reconstructed/test/mask/02_test.png (deflated 15%)\n",
            "  adding: drive_256_256_dice_loss_0_4__0_4_1/split_2/reconstructed/test/mask/13_test.png (deflated 16%)\n",
            "  adding: drive_256_256_dice_loss_0_4__0_4_1/split_2/reconstructed/test/mask/08_test.png (deflated 16%)\n",
            "  adding: drive_256_256_dice_loss_0_4__0_4_1/split_2/reconstructed/test/predictions_reconstructed/ (stored 0%)\n",
            "  adding: drive_256_256_dice_loss_0_4__0_4_1/split_2/reconstructed/test/predictions_reconstructed/15_test.png (deflated 20%)\n",
            "  adding: drive_256_256_dice_loss_0_4__0_4_1/split_2/reconstructed/test/predictions_reconstructed/03_test.png (deflated 24%)\n",
            "  adding: drive_256_256_dice_loss_0_4__0_4_1/split_2/reconstructed/test/predictions_reconstructed/06_test.png (deflated 22%)\n",
            "  adding: drive_256_256_dice_loss_0_4__0_4_1/split_2/reconstructed/test/predictions_reconstructed/18_test.png (deflated 22%)\n",
            "  adding: drive_256_256_dice_loss_0_4__0_4_1/split_2/reconstructed/test/predictions_reconstructed/10_test.png (deflated 22%)\n",
            "  adding: drive_256_256_dice_loss_0_4__0_4_1/split_2/reconstructed/test/predictions_reconstructed/17_test.png (deflated 21%)\n",
            "  adding: drive_256_256_dice_loss_0_4__0_4_1/split_2/reconstructed/test/predictions_reconstructed/20_test.png (deflated 22%)\n",
            "  adding: drive_256_256_dice_loss_0_4__0_4_1/split_2/reconstructed/test/predictions_reconstructed/04_test.png (deflated 23%)\n",
            "  adding: drive_256_256_dice_loss_0_4__0_4_1/split_2/reconstructed/test/predictions_reconstructed/14_test.png (deflated 23%)\n",
            "  adding: drive_256_256_dice_loss_0_4__0_4_1/split_2/reconstructed/test/predictions_reconstructed/09_test.png (deflated 23%)\n",
            "  adding: drive_256_256_dice_loss_0_4__0_4_1/split_2/reconstructed/test/predictions_reconstructed/12_test.png (deflated 22%)\n",
            "  adding: drive_256_256_dice_loss_0_4__0_4_1/split_2/reconstructed/test/predictions_reconstructed/05_test.png (deflated 23%)\n",
            "  adding: drive_256_256_dice_loss_0_4__0_4_1/split_2/reconstructed/test/predictions_reconstructed/11_test.png (deflated 21%)\n",
            "  adding: drive_256_256_dice_loss_0_4__0_4_1/split_2/reconstructed/test/predictions_reconstructed/07_test.png (deflated 22%)\n",
            "  adding: drive_256_256_dice_loss_0_4__0_4_1/split_2/reconstructed/test/predictions_reconstructed/16_test.png (deflated 21%)\n",
            "  adding: drive_256_256_dice_loss_0_4__0_4_1/split_2/reconstructed/test/predictions_reconstructed/19_test.png (deflated 22%)\n",
            "  adding: drive_256_256_dice_loss_0_4__0_4_1/split_2/reconstructed/test/predictions_reconstructed/01_test.png (deflated 22%)\n",
            "  adding: drive_256_256_dice_loss_0_4__0_4_1/split_2/reconstructed/test/predictions_reconstructed/02_test.png (deflated 21%)\n",
            "  adding: drive_256_256_dice_loss_0_4__0_4_1/split_2/reconstructed/test/predictions_reconstructed/13_test.png (deflated 20%)\n",
            "  adding: drive_256_256_dice_loss_0_4__0_4_1/split_2/reconstructed/test/predictions_reconstructed/08_test.png (deflated 22%)\n",
            "  adding: drive_256_256_dice_loss_0_4__0_4_1/split_2/reconstructed/test/image/ (stored 0%)\n",
            "  adding: drive_256_256_dice_loss_0_4__0_4_1/split_2/reconstructed/test/image/15_test.png (deflated 3%)\n",
            "  adding: drive_256_256_dice_loss_0_4__0_4_1/split_2/reconstructed/test/image/03_test.png (deflated 5%)\n",
            "  adding: drive_256_256_dice_loss_0_4__0_4_1/split_2/reconstructed/test/image/06_test.png (deflated 3%)\n",
            "  adding: drive_256_256_dice_loss_0_4__0_4_1/split_2/reconstructed/test/image/18_test.png (deflated 3%)\n",
            "  adding: drive_256_256_dice_loss_0_4__0_4_1/split_2/reconstructed/test/image/10_test.png (deflated 3%)\n",
            "  adding: drive_256_256_dice_loss_0_4__0_4_1/split_2/reconstructed/test/image/17_test.png (deflated 3%)\n",
            "  adding: drive_256_256_dice_loss_0_4__0_4_1/split_2/reconstructed/test/image/20_test.png (deflated 3%)\n",
            "  adding: drive_256_256_dice_loss_0_4__0_4_1/split_2/reconstructed/test/image/04_test.png (deflated 2%)\n",
            "  adding: drive_256_256_dice_loss_0_4__0_4_1/split_2/reconstructed/test/image/14_test.png (deflated 3%)\n",
            "  adding: drive_256_256_dice_loss_0_4__0_4_1/split_2/reconstructed/test/image/09_test.png (deflated 3%)\n",
            "  adding: drive_256_256_dice_loss_0_4__0_4_1/split_2/reconstructed/test/image/12_test.png (deflated 2%)\n",
            "  adding: drive_256_256_dice_loss_0_4__0_4_1/split_2/reconstructed/test/image/05_test.png (deflated 3%)\n",
            "  adding: drive_256_256_dice_loss_0_4__0_4_1/split_2/reconstructed/test/image/11_test.png (deflated 2%)\n",
            "  adding: drive_256_256_dice_loss_0_4__0_4_1/split_2/reconstructed/test/image/07_test.png (deflated 2%)\n",
            "  adding: drive_256_256_dice_loss_0_4__0_4_1/split_2/reconstructed/test/image/16_test.png (deflated 3%)\n",
            "  adding: drive_256_256_dice_loss_0_4__0_4_1/split_2/reconstructed/test/image/19_test.png (deflated 3%)\n",
            "  adding: drive_256_256_dice_loss_0_4__0_4_1/split_2/reconstructed/test/image/01_test.png (deflated 3%)\n",
            "  adding: drive_256_256_dice_loss_0_4__0_4_1/split_2/reconstructed/test/image/02_test.png (deflated 2%)\n",
            "  adding: drive_256_256_dice_loss_0_4__0_4_1/split_2/reconstructed/test/image/13_test.png (deflated 3%)\n",
            "  adding: drive_256_256_dice_loss_0_4__0_4_1/split_2/reconstructed/test/image/08_test.png (deflated 3%)\n",
            "  adding: drive_256_256_dice_loss_0_4__0_4_1/split_2/image_patches_256_256_test.csv (deflated 94%)\n",
            "  adding: drive_256_256_dice_loss_0_4__0_4_1/split_2/test/ (stored 0%)\n",
            "  adding: drive_256_256_dice_loss_0_4__0_4_1/split_2/test/mask/ (stored 0%)\n",
            "  adding: drive_256_256_dice_loss_0_4__0_4_1/split_2/test/mask/_09_test_2.png (deflated 37%)\n",
            "  adding: drive_256_256_dice_loss_0_4__0_4_1/split_2/test/mask/_06_test_2.png (deflated 29%)\n",
            "  adding: drive_256_256_dice_loss_0_4__0_4_1/split_2/test/mask/_07_test_5.png (deflated 10%)\n",
            "  adding: drive_256_256_dice_loss_0_4__0_4_1/split_2/test/mask/_10_test_4.png (deflated 13%)\n",
            "  adding: drive_256_256_dice_loss_0_4__0_4_1/split_2/test/mask/_03_test_6.png (deflated 32%)\n",
            "  adding: drive_256_256_dice_loss_0_4__0_4_1/split_2/test/mask/_15_test_0.png (deflated 26%)\n",
            "  adding: drive_256_256_dice_loss_0_4__0_4_1/split_2/test/mask/_03_test_2.png (deflated 42%)\n",
            "  adding: drive_256_256_dice_loss_0_4__0_4_1/split_2/test/mask/_16_test_7.png (deflated 14%)\n",
            "  adding: drive_256_256_dice_loss_0_4__0_4_1/split_2/test/mask/_11_test_8.png (deflated 32%)\n",
            "  adding: drive_256_256_dice_loss_0_4__0_4_1/split_2/test/mask/_11_test_5.png (deflated 12%)\n",
            "  adding: drive_256_256_dice_loss_0_4__0_4_1/split_2/test/mask/_10_test_5.png (deflated 10%)\n",
            "  adding: drive_256_256_dice_loss_0_4__0_4_1/split_2/test/mask/_06_test_8.png (deflated 25%)\n",
            "  adding: drive_256_256_dice_loss_0_4__0_4_1/split_2/test/mask/_02_test_7.png (deflated 13%)\n",
            "  adding: drive_256_256_dice_loss_0_4__0_4_1/split_2/test/mask/_14_test_0.png (deflated 40%)\n",
            "  adding: drive_256_256_dice_loss_0_4__0_4_1/split_2/test/mask/_18_test_7.png (deflated 16%)\n",
            "  adding: drive_256_256_dice_loss_0_4__0_4_1/split_2/test/mask/_09_test_5.png (deflated 11%)\n",
            "  adding: drive_256_256_dice_loss_0_4__0_4_1/split_2/test/mask/_15_test_3.png (deflated 5%)\n",
            "  adding: drive_256_256_dice_loss_0_4__0_4_1/split_2/test/mask/_03_test_0.png (deflated 28%)\n",
            "  adding: drive_256_256_dice_loss_0_4__0_4_1/split_2/test/mask/_02_test_0.png (deflated 37%)\n",
            "  adding: drive_256_256_dice_loss_0_4__0_4_1/split_2/test/mask/_20_test_3.png (deflated 10%)\n",
            "  adding: drive_256_256_dice_loss_0_4__0_4_1/split_2/test/mask/_09_test_3.png (deflated 12%)\n",
            "  adding: drive_256_256_dice_loss_0_4__0_4_1/split_2/test/mask/_01_test_7.png (deflated 15%)\n",
            "  adding: drive_256_256_dice_loss_0_4__0_4_1/split_2/test/mask/_03_test_5.png (deflated 12%)\n",
            "  adding: drive_256_256_dice_loss_0_4__0_4_1/split_2/test/mask/_01_test_5.png (deflated 10%)\n",
            "  adding: drive_256_256_dice_loss_0_4__0_4_1/split_2/test/mask/_12_test_7.png (deflated 14%)\n",
            "  adding: drive_256_256_dice_loss_0_4__0_4_1/split_2/test/mask/_16_test_4.png (deflated 12%)\n",
            "  adding: drive_256_256_dice_loss_0_4__0_4_1/split_2/test/mask/_12_test_4.png (deflated 12%)\n",
            "  adding: drive_256_256_dice_loss_0_4__0_4_1/split_2/test/mask/_20_test_1.png (deflated 15%)\n",
            "  adding: drive_256_256_dice_loss_0_4__0_4_1/split_2/test/mask/_13_test_7.png (deflated 14%)\n",
            "  adding: drive_256_256_dice_loss_0_4__0_4_1/split_2/test/mask/_07_test_3.png (deflated 7%)\n",
            "  adding: drive_256_256_dice_loss_0_4__0_4_1/split_2/test/mask/_12_test_8.png (deflated 27%)\n",
            "  adding: drive_256_256_dice_loss_0_4__0_4_1/split_2/test/mask/_08_test_3.png (deflated 10%)\n",
            "  adding: drive_256_256_dice_loss_0_4__0_4_1/split_2/test/mask/_12_test_2.png (deflated 69%)\n",
            "  adding: drive_256_256_dice_loss_0_4__0_4_1/split_2/test/mask/_11_test_2.png (deflated 26%)\n",
            "  adding: drive_256_256_dice_loss_0_4__0_4_1/split_2/test/mask/_09_test_0.png (deflated 36%)\n",
            "  adding: drive_256_256_dice_loss_0_4__0_4_1/split_2/test/mask/_05_test_0.png (deflated 46%)\n",
            "  adding: drive_256_256_dice_loss_0_4__0_4_1/split_2/test/mask/_19_test_4.png (deflated 10%)\n",
            "  adding: drive_256_256_dice_loss_0_4__0_4_1/split_2/test/mask/_15_test_4.png (deflated 11%)\n",
            "  adding: drive_256_256_dice_loss_0_4__0_4_1/split_2/test/mask/_03_test_3.png (deflated 12%)\n",
            "  adding: drive_256_256_dice_loss_0_4__0_4_1/split_2/test/mask/_17_test_4.png (deflated 11%)\n",
            "  adding: drive_256_256_dice_loss_0_4__0_4_1/split_2/test/mask/_17_test_2.png (deflated 36%)\n",
            "  adding: drive_256_256_dice_loss_0_4__0_4_1/split_2/test/mask/_13_test_1.png (deflated 16%)\n",
            "  adding: drive_256_256_dice_loss_0_4__0_4_1/split_2/test/mask/_15_test_1.png (deflated 17%)\n",
            "  adding: drive_256_256_dice_loss_0_4__0_4_1/split_2/test/mask/_11_test_6.png (deflated 25%)\n",
            "  adding: drive_256_256_dice_loss_0_4__0_4_1/split_2/test/mask/_17_test_8.png (deflated 28%)\n",
            "  adding: drive_256_256_dice_loss_0_4__0_4_1/split_2/test/mask/_05_test_3.png (deflated 13%)\n",
            "  adding: drive_256_256_dice_loss_0_4__0_4_1/split_2/test/mask/_14_test_8.png (deflated 28%)\n",
            "  adding: drive_256_256_dice_loss_0_4__0_4_1/split_2/test/mask/_17_test_3.png (deflated 6%)\n",
            "  adding: drive_256_256_dice_loss_0_4__0_4_1/split_2/test/mask/_20_test_6.png (deflated 30%)\n",
            "  adding: drive_256_256_dice_loss_0_4__0_4_1/split_2/test/mask/_20_test_7.png (deflated 16%)\n",
            "  adding: drive_256_256_dice_loss_0_4__0_4_1/split_2/test/mask/_07_test_2.png (deflated 32%)\n",
            "  adding: drive_256_256_dice_loss_0_4__0_4_1/split_2/test/mask/_19_test_2.png (deflated 31%)\n",
            "  adding: drive_256_256_dice_loss_0_4__0_4_1/split_2/test/mask/_07_test_1.png (deflated 16%)\n",
            "  adding: drive_256_256_dice_loss_0_4__0_4_1/split_2/test/mask/_07_test_7.png (deflated 14%)\n",
            "  adding: drive_256_256_dice_loss_0_4__0_4_1/split_2/test/mask/_04_test_0.png (deflated 27%)\n",
            "  adding: drive_256_256_dice_loss_0_4__0_4_1/split_2/test/mask/_19_test_3.png (deflated 7%)\n",
            "  adding: drive_256_256_dice_loss_0_4__0_4_1/split_2/test/mask/_15_test_5.png (deflated 9%)\n",
            "  adding: drive_256_256_dice_loss_0_4__0_4_1/split_2/test/mask/_13_test_3.png (deflated 10%)\n",
            "  adding: drive_256_256_dice_loss_0_4__0_4_1/split_2/test/mask/_20_test_0.png (deflated 51%)\n",
            "  adding: drive_256_256_dice_loss_0_4__0_4_1/split_2/test/mask/_03_test_7.png (deflated 15%)\n",
            "  adding: drive_256_256_dice_loss_0_4__0_4_1/split_2/test/mask/_10_test_8.png (deflated 36%)\n",
            "  adding: drive_256_256_dice_loss_0_4__0_4_1/split_2/test/mask/_04_test_2.png (deflated 23%)\n",
            "  adding: drive_256_256_dice_loss_0_4__0_4_1/split_2/test/mask/_02_test_1.png (deflated 16%)\n",
            "  adding: drive_256_256_dice_loss_0_4__0_4_1/split_2/test/mask/_07_test_4.png (deflated 12%)\n",
            "  adding: drive_256_256_dice_loss_0_4__0_4_1/split_2/test/mask/_16_test_6.png (deflated 32%)\n",
            "  adding: drive_256_256_dice_loss_0_4__0_4_1/split_2/test/mask/_18_test_6.png (deflated 42%)\n",
            "  adding: drive_256_256_dice_loss_0_4__0_4_1/split_2/test/mask/_16_test_0.png (deflated 27%)\n",
            "  adding: drive_256_256_dice_loss_0_4__0_4_1/split_2/test/mask/_06_test_5.png (deflated 12%)\n",
            "  adding: drive_256_256_dice_loss_0_4__0_4_1/split_2/test/mask/_02_test_8.png (deflated 33%)\n",
            "  adding: drive_256_256_dice_loss_0_4__0_4_1/split_2/test/mask/_07_test_0.png (deflated 28%)\n",
            "  adding: drive_256_256_dice_loss_0_4__0_4_1/split_2/test/mask/_10_test_2.png (deflated 34%)\n",
            "  adding: drive_256_256_dice_loss_0_4__0_4_1/split_2/test/mask/_12_test_5.png (deflated 8%)\n",
            "  adding: drive_256_256_dice_loss_0_4__0_4_1/split_2/test/mask/_09_test_6.png (deflated 39%)\n",
            "  adding: drive_256_256_dice_loss_0_4__0_4_1/split_2/test/mask/_10_test_7.png (deflated 17%)\n",
            "  adding: drive_256_256_dice_loss_0_4__0_4_1/split_2/test/mask/_18_test_3.png (deflated 6%)\n",
            "  adding: drive_256_256_dice_loss_0_4__0_4_1/split_2/test/mask/_16_test_5.png (deflated 13%)\n",
            "  adding: drive_256_256_dice_loss_0_4__0_4_1/split_2/test/mask/_20_test_8.png (deflated 43%)\n",
            "  adding: drive_256_256_dice_loss_0_4__0_4_1/split_2/test/mask/_04_test_3.png (deflated 8%)\n",
            "  adding: drive_256_256_dice_loss_0_4__0_4_1/split_2/test/mask/_02_test_5.png (deflated 12%)\n",
            "  adding: drive_256_256_dice_loss_0_4__0_4_1/split_2/test/mask/_14_test_7.png (deflated 13%)\n",
            "  adding: drive_256_256_dice_loss_0_4__0_4_1/split_2/test/mask/_08_test_0.png (deflated 44%)\n",
            "  adding: drive_256_256_dice_loss_0_4__0_4_1/split_2/test/mask/_13_test_8.png (deflated 24%)\n",
            "  adding: drive_256_256_dice_loss_0_4__0_4_1/split_2/test/mask/_18_test_4.png (deflated 9%)\n",
            "  adding: drive_256_256_dice_loss_0_4__0_4_1/split_2/test/mask/_14_test_6.png (deflated 52%)\n",
            "  adding: drive_256_256_dice_loss_0_4__0_4_1/split_2/test/mask/_08_test_1.png (deflated 15%)\n",
            "  adding: drive_256_256_dice_loss_0_4__0_4_1/split_2/test/mask/_01_test_3.png (deflated 12%)\n",
            "  adding: drive_256_256_dice_loss_0_4__0_4_1/split_2/test/mask/_11_test_3.png (deflated 10%)\n",
            "  adding: drive_256_256_dice_loss_0_4__0_4_1/split_2/test/mask/_10_test_0.png (deflated 36%)\n",
            "  adding: drive_256_256_dice_loss_0_4__0_4_1/split_2/test/mask/_16_test_3.png (deflated 9%)\n",
            "  adding: drive_256_256_dice_loss_0_4__0_4_1/split_2/test/mask/_04_test_1.png (deflated 16%)\n",
            "  adding: drive_256_256_dice_loss_0_4__0_4_1/split_2/test/mask/_17_test_1.png (deflated 16%)\n",
            "  adding: drive_256_256_dice_loss_0_4__0_4_1/split_2/test/mask/_08_test_2.png (deflated 31%)\n",
            "  adding: drive_256_256_dice_loss_0_4__0_4_1/split_2/test/mask/_04_test_6.png (deflated 31%)\n",
            "  adding: drive_256_256_dice_loss_0_4__0_4_1/split_2/test/mask/_13_test_6.png (deflated 25%)\n",
            "  adding: drive_256_256_dice_loss_0_4__0_4_1/split_2/test/mask/_18_test_5.png (deflated 12%)\n",
            "  adding: drive_256_256_dice_loss_0_4__0_4_1/split_2/test/mask/_18_test_1.png (deflated 16%)\n",
            "  adding: drive_256_256_dice_loss_0_4__0_4_1/split_2/test/mask/_16_test_2.png (deflated 30%)\n",
            "  adding: drive_256_256_dice_loss_0_4__0_4_1/split_2/test/mask/_13_test_5.png (deflated 9%)\n",
            "  adding: drive_256_256_dice_loss_0_4__0_4_1/split_2/test/mask/_15_test_7.png (deflated 18%)\n",
            "  adding: drive_256_256_dice_loss_0_4__0_4_1/split_2/test/mask/_09_test_8.png (deflated 31%)\n",
            "  adding: drive_256_256_dice_loss_0_4__0_4_1/split_2/test/mask/_19_test_0.png (deflated 36%)\n",
            "  adding: drive_256_256_dice_loss_0_4__0_4_1/split_2/test/mask/_14_test_5.png (deflated 11%)\n",
            "  adding: drive_256_256_dice_loss_0_4__0_4_1/split_2/test/mask/_11_test_4.png (deflated 12%)\n",
            "  adding: drive_256_256_dice_loss_0_4__0_4_1/split_2/test/mask/_17_test_7.png (deflated 15%)\n",
            "  adding: drive_256_256_dice_loss_0_4__0_4_1/split_2/test/mask/_04_test_5.png (deflated 7%)\n",
            "  adding: drive_256_256_dice_loss_0_4__0_4_1/split_2/test/mask/_16_test_8.png (deflated 35%)\n",
            "  adding: drive_256_256_dice_loss_0_4__0_4_1/split_2/test/mask/_18_test_0.png (deflated 35%)\n",
            "  adding: drive_256_256_dice_loss_0_4__0_4_1/split_2/test/mask/_02_test_3.png (deflated 9%)\n",
            "  adding: drive_256_256_dice_loss_0_4__0_4_1/split_2/test/mask/_01_test_4.png (deflated 9%)\n",
            "  adding: drive_256_256_dice_loss_0_4__0_4_1/split_2/test/mask/_18_test_2.png (deflated 24%)\n",
            "  adding: drive_256_256_dice_loss_0_4__0_4_1/split_2/test/mask/_03_test_4.png (deflated 10%)\n",
            "  adding: drive_256_256_dice_loss_0_4__0_4_1/split_2/test/mask/_08_test_8.png (deflated 30%)\n",
            "  adding: drive_256_256_dice_loss_0_4__0_4_1/split_2/test/mask/_16_test_1.png (deflated 15%)\n",
            "  adding: drive_256_256_dice_loss_0_4__0_4_1/split_2/test/mask/_09_test_7.png (deflated 14%)\n",
            "  adding: drive_256_256_dice_loss_0_4__0_4_1/split_2/test/mask/_11_test_1.png (deflated 15%)\n",
            "  adding: drive_256_256_dice_loss_0_4__0_4_1/split_2/test/mask/_01_test_0.png (deflated 30%)\n",
            "  adding: drive_256_256_dice_loss_0_4__0_4_1/split_2/test/mask/_08_test_5.png (deflated 12%)\n",
            "  adding: drive_256_256_dice_loss_0_4__0_4_1/split_2/test/mask/_15_test_6.png (deflated 24%)\n",
            "  adding: drive_256_256_dice_loss_0_4__0_4_1/split_2/test/mask/_05_test_6.png (deflated 44%)\n",
            "  adding: drive_256_256_dice_loss_0_4__0_4_1/split_2/test/mask/_01_test_8.png (deflated 29%)\n",
            "  adding: drive_256_256_dice_loss_0_4__0_4_1/split_2/test/mask/_13_test_0.png (deflated 36%)\n",
            "  adding: drive_256_256_dice_loss_0_4__0_4_1/split_2/test/mask/_20_test_5.png (deflated 11%)\n",
            "  adding: drive_256_256_dice_loss_0_4__0_4_1/split_2/test/mask/_17_test_0.png (deflated 35%)\n",
            "  adding: drive_256_256_dice_loss_0_4__0_4_1/split_2/test/mask/_19_test_5.png (deflated 13%)\n",
            "  adding: drive_256_256_dice_loss_0_4__0_4_1/split_2/test/mask/_11_test_0.png (deflated 23%)\n",
            "  adding: drive_256_256_dice_loss_0_4__0_4_1/split_2/test/mask/_19_test_1.png (deflated 14%)\n",
            "  adding: drive_256_256_dice_loss_0_4__0_4_1/split_2/test/mask/_01_test_6.png (deflated 42%)\n",
            "  adding: drive_256_256_dice_loss_0_4__0_4_1/split_2/test/mask/_06_test_3.png (deflated 7%)\n",
            "  adding: drive_256_256_dice_loss_0_4__0_4_1/split_2/test/mask/_10_test_3.png (deflated 7%)\n",
            "  adding: drive_256_256_dice_loss_0_4__0_4_1/split_2/test/mask/_17_test_5.png (deflated 10%)\n",
            "  adding: drive_256_256_dice_loss_0_4__0_4_1/split_2/test/mask/_02_test_6.png (deflated 32%)\n",
            "  adding: drive_256_256_dice_loss_0_4__0_4_1/split_2/test/mask/_04_test_8.png (deflated 25%)\n",
            "  adding: drive_256_256_dice_loss_0_4__0_4_1/split_2/test/mask/_13_test_4.png (deflated 13%)\n",
            "  adding: drive_256_256_dice_loss_0_4__0_4_1/split_2/test/mask/_09_test_4.png (deflated 11%)\n",
            "  adding: drive_256_256_dice_loss_0_4__0_4_1/split_2/test/mask/_17_test_6.png (deflated 29%)\n",
            "  adding: drive_256_256_dice_loss_0_4__0_4_1/split_2/test/mask/_14_test_1.png (deflated 14%)\n",
            "  adding: drive_256_256_dice_loss_0_4__0_4_1/split_2/test/mask/_02_test_2.png (deflated 34%)\n",
            "  adding: drive_256_256_dice_loss_0_4__0_4_1/split_2/test/mask/_19_test_7.png (deflated 13%)\n",
            "  adding: drive_256_256_dice_loss_0_4__0_4_1/split_2/test/mask/_19_test_6.png (deflated 32%)\n",
            "  adding: drive_256_256_dice_loss_0_4__0_4_1/split_2/test/mask/_20_test_2.png (deflated 30%)\n",
            "  adding: drive_256_256_dice_loss_0_4__0_4_1/split_2/test/mask/_10_test_1.png (deflated 14%)\n",
            "  adding: drive_256_256_dice_loss_0_4__0_4_1/split_2/test/mask/_05_test_7.png (deflated 16%)\n",
            "  adding: drive_256_256_dice_loss_0_4__0_4_1/split_2/test/mask/_06_test_1.png (deflated 15%)\n",
            "  adding: drive_256_256_dice_loss_0_4__0_4_1/split_2/test/mask/_08_test_6.png (deflated 30%)\n",
            "  adding: drive_256_256_dice_loss_0_4__0_4_1/split_2/test/mask/_06_test_6.png (deflated 31%)\n",
            "  adding: drive_256_256_dice_loss_0_4__0_4_1/split_2/test/mask/_06_test_7.png (deflated 15%)\n",
            "  adding: drive_256_256_dice_loss_0_4__0_4_1/split_2/test/mask/_19_test_8.png (deflated 27%)\n",
            "  adding: drive_256_256_dice_loss_0_4__0_4_1/split_2/test/mask/_13_test_2.png (deflated 40%)\n",
            "  adding: drive_256_256_dice_loss_0_4__0_4_1/split_2/test/mask/_03_test_1.png (deflated 14%)\n",
            "  adding: drive_256_256_dice_loss_0_4__0_4_1/split_2/test/mask/_06_test_0.png (deflated 30%)\n",
            "  adding: drive_256_256_dice_loss_0_4__0_4_1/split_2/test/mask/_15_test_2.png (deflated 46%)\n",
            "  adding: drive_256_256_dice_loss_0_4__0_4_1/split_2/test/mask/_15_test_8.png (deflated 45%)\n",
            "  adding: drive_256_256_dice_loss_0_4__0_4_1/split_2/test/mask/_05_test_4.png (deflated 10%)\n",
            "  adding: drive_256_256_dice_loss_0_4__0_4_1/split_2/test/mask/_05_test_8.png (deflated 37%)\n",
            "  adding: drive_256_256_dice_loss_0_4__0_4_1/split_2/test/mask/_12_test_0.png (deflated 28%)\n",
            "  adding: drive_256_256_dice_loss_0_4__0_4_1/split_2/test/mask/_20_test_4.png (deflated 8%)\n",
            "  adding: drive_256_256_dice_loss_0_4__0_4_1/split_2/test/mask/_05_test_5.png (deflated 8%)\n",
            "  adding: drive_256_256_dice_loss_0_4__0_4_1/split_2/test/mask/_04_test_4.png (deflated 11%)\n",
            "  adding: drive_256_256_dice_loss_0_4__0_4_1/split_2/test/mask/_12_test_1.png (deflated 14%)\n",
            "  adding: drive_256_256_dice_loss_0_4__0_4_1/split_2/test/mask/_07_test_8.png (deflated 22%)\n",
            "  adding: drive_256_256_dice_loss_0_4__0_4_1/split_2/test/mask/_03_test_8.png (deflated 36%)\n",
            "  adding: drive_256_256_dice_loss_0_4__0_4_1/split_2/test/mask/_09_test_1.png (deflated 14%)\n",
            "  adding: drive_256_256_dice_loss_0_4__0_4_1/split_2/test/mask/_12_test_6.png (deflated 28%)\n",
            "  adding: drive_256_256_dice_loss_0_4__0_4_1/split_2/test/mask/_05_test_1.png (deflated 14%)\n",
            "  adding: drive_256_256_dice_loss_0_4__0_4_1/split_2/test/mask/_11_test_7.png (deflated 14%)\n",
            "  adding: drive_256_256_dice_loss_0_4__0_4_1/split_2/test/mask/_02_test_4.png (deflated 9%)\n",
            "  adding: drive_256_256_dice_loss_0_4__0_4_1/split_2/test/mask/_08_test_7.png (deflated 15%)\n",
            "  adding: drive_256_256_dice_loss_0_4__0_4_1/split_2/test/mask/_12_test_3.png (deflated 10%)\n",
            "  adding: drive_256_256_dice_loss_0_4__0_4_1/split_2/test/mask/_01_test_1.png (deflated 15%)\n",
            "  adding: drive_256_256_dice_loss_0_4__0_4_1/split_2/test/mask/_14_test_2.png (deflated 23%)\n",
            "  adding: drive_256_256_dice_loss_0_4__0_4_1/split_2/test/mask/_14_test_3.png (deflated 7%)\n",
            "  adding: drive_256_256_dice_loss_0_4__0_4_1/split_2/test/mask/_07_test_6.png (deflated 29%)\n",
            "  adding: drive_256_256_dice_loss_0_4__0_4_1/split_2/test/mask/_14_test_4.png (deflated 12%)\n",
            "  adding: drive_256_256_dice_loss_0_4__0_4_1/split_2/test/mask/_08_test_4.png (deflated 12%)\n",
            "  adding: drive_256_256_dice_loss_0_4__0_4_1/split_2/test/mask/_01_test_2.png (deflated 45%)\n",
            "  adding: drive_256_256_dice_loss_0_4__0_4_1/split_2/test/mask/_10_test_6.png (deflated 34%)\n",
            "  adding: drive_256_256_dice_loss_0_4__0_4_1/split_2/test/mask/_05_test_2.png (deflated 42%)\n",
            "  adding: drive_256_256_dice_loss_0_4__0_4_1/split_2/test/mask/_06_test_4.png (deflated 11%)\n",
            "  adding: drive_256_256_dice_loss_0_4__0_4_1/split_2/test/mask/_18_test_8.png (deflated 27%)\n",
            "  adding: drive_256_256_dice_loss_0_4__0_4_1/split_2/test/mask/_04_test_7.png (deflated 18%)\n",
            "  adding: drive_256_256_dice_loss_0_4__0_4_1/split_2/test/image/ (stored 0%)\n",
            "  adding: drive_256_256_dice_loss_0_4__0_4_1/split_2/test/image/_09_test_2.png (deflated 5%)\n",
            "  adding: drive_256_256_dice_loss_0_4__0_4_1/split_2/test/image/_06_test_2.png (deflated 5%)\n",
            "  adding: drive_256_256_dice_loss_0_4__0_4_1/split_2/test/image/_07_test_5.png (deflated 1%)\n",
            "  adding: drive_256_256_dice_loss_0_4__0_4_1/split_2/test/image/_10_test_4.png (deflated 2%)\n",
            "  adding: drive_256_256_dice_loss_0_4__0_4_1/split_2/test/image/_03_test_6.png (deflated 10%)\n",
            "  adding: drive_256_256_dice_loss_0_4__0_4_1/split_2/test/image/_15_test_0.png (deflated 6%)\n",
            "  adding: drive_256_256_dice_loss_0_4__0_4_1/split_2/test/image/_03_test_2.png (deflated 9%)\n",
            "  adding: drive_256_256_dice_loss_0_4__0_4_1/split_2/test/image/_16_test_7.png (deflated 2%)\n",
            "  adding: drive_256_256_dice_loss_0_4__0_4_1/split_2/test/image/_11_test_8.png (deflated 4%)\n",
            "  adding: drive_256_256_dice_loss_0_4__0_4_1/split_2/test/image/_11_test_5.png (deflated 2%)\n",
            "  adding: drive_256_256_dice_loss_0_4__0_4_1/split_2/test/image/_10_test_5.png (deflated 2%)\n",
            "  adding: drive_256_256_dice_loss_0_4__0_4_1/split_2/test/image/_06_test_8.png (deflated 4%)\n",
            "  adding: drive_256_256_dice_loss_0_4__0_4_1/split_2/test/image/_02_test_7.png (deflated 1%)\n",
            "  adding: drive_256_256_dice_loss_0_4__0_4_1/split_2/test/image/_14_test_0.png (deflated 7%)\n",
            "  adding: drive_256_256_dice_loss_0_4__0_4_1/split_2/test/image/_18_test_7.png (deflated 2%)\n",
            "  adding: drive_256_256_dice_loss_0_4__0_4_1/split_2/test/image/_09_test_5.png (deflated 3%)\n",
            "  adding: drive_256_256_dice_loss_0_4__0_4_1/split_2/test/image/_15_test_3.png (deflated 2%)\n",
            "  adding: drive_256_256_dice_loss_0_4__0_4_1/split_2/test/image/_03_test_0.png (deflated 10%)\n",
            "  adding: drive_256_256_dice_loss_0_4__0_4_1/split_2/test/image/_02_test_0.png (deflated 5%)\n",
            "  adding: drive_256_256_dice_loss_0_4__0_4_1/split_2/test/image/_20_test_3.png (deflated 2%)\n",
            "  adding: drive_256_256_dice_loss_0_4__0_4_1/split_2/test/image/_09_test_3.png (deflated 1%)\n",
            "  adding: drive_256_256_dice_loss_0_4__0_4_1/split_2/test/image/_01_test_7.png (deflated 3%)\n",
            "  adding: drive_256_256_dice_loss_0_4__0_4_1/split_2/test/image/_03_test_5.png (deflated 3%)\n",
            "  adding: drive_256_256_dice_loss_0_4__0_4_1/split_2/test/image/_01_test_5.png (deflated 3%)\n",
            "  adding: drive_256_256_dice_loss_0_4__0_4_1/split_2/test/image/_12_test_7.png (deflated 2%)\n",
            "  adding: drive_256_256_dice_loss_0_4__0_4_1/split_2/test/image/_16_test_4.png (deflated 2%)\n",
            "  adding: drive_256_256_dice_loss_0_4__0_4_1/split_2/test/image/_12_test_4.png (deflated 1%)\n",
            "  adding: drive_256_256_dice_loss_0_4__0_4_1/split_2/test/image/_20_test_1.png (deflated 3%)\n",
            "  adding: drive_256_256_dice_loss_0_4__0_4_1/split_2/test/image/_13_test_7.png (deflated 2%)\n",
            "  adding: drive_256_256_dice_loss_0_4__0_4_1/split_2/test/image/_07_test_3.png (deflated 2%)\n",
            "  adding: drive_256_256_dice_loss_0_4__0_4_1/split_2/test/image/_12_test_8.png (deflated 4%)\n",
            "  adding: drive_256_256_dice_loss_0_4__0_4_1/split_2/test/image/_08_test_3.png (deflated 2%)\n",
            "  adding: drive_256_256_dice_loss_0_4__0_4_1/split_2/test/image/_12_test_2.png (deflated 5%)\n",
            "  adding: drive_256_256_dice_loss_0_4__0_4_1/split_2/test/image/_11_test_2.png (deflated 7%)\n",
            "  adding: drive_256_256_dice_loss_0_4__0_4_1/split_2/test/image/_09_test_0.png (deflated 5%)\n",
            "  adding: drive_256_256_dice_loss_0_4__0_4_1/split_2/test/image/_05_test_0.png (deflated 6%)\n",
            "  adding: drive_256_256_dice_loss_0_4__0_4_1/split_2/test/image/_19_test_4.png (deflated 2%)\n",
            "  adding: drive_256_256_dice_loss_0_4__0_4_1/split_2/test/image/_15_test_4.png (deflated 1%)\n",
            "  adding: drive_256_256_dice_loss_0_4__0_4_1/split_2/test/image/_03_test_3.png (deflated 2%)\n",
            "  adding: drive_256_256_dice_loss_0_4__0_4_1/split_2/test/image/_17_test_4.png (deflated 2%)\n",
            "  adding: drive_256_256_dice_loss_0_4__0_4_1/split_2/test/image/_17_test_2.png (deflated 5%)\n",
            "  adding: drive_256_256_dice_loss_0_4__0_4_1/split_2/test/image/_13_test_1.png (deflated 3%)\n",
            "  adding: drive_256_256_dice_loss_0_4__0_4_1/split_2/test/image/_15_test_1.png (deflated 2%)\n",
            "  adding: drive_256_256_dice_loss_0_4__0_4_1/split_2/test/image/_11_test_6.png (deflated 4%)\n",
            "  adding: drive_256_256_dice_loss_0_4__0_4_1/split_2/test/image/_17_test_8.png (deflated 4%)\n",
            "  adding: drive_256_256_dice_loss_0_4__0_4_1/split_2/test/image/_05_test_3.png (deflated 1%)\n",
            "  adding: drive_256_256_dice_loss_0_4__0_4_1/split_2/test/image/_14_test_8.png (deflated 4%)\n",
            "  adding: drive_256_256_dice_loss_0_4__0_4_1/split_2/test/image/_17_test_3.png (deflated 2%)\n",
            "  adding: drive_256_256_dice_loss_0_4__0_4_1/split_2/test/image/_20_test_6.png (deflated 4%)\n",
            "  adding: drive_256_256_dice_loss_0_4__0_4_1/split_2/test/image/_20_test_7.png (deflated 3%)\n",
            "  adding: drive_256_256_dice_loss_0_4__0_4_1/split_2/test/image/_07_test_2.png (deflated 5%)\n",
            "  adding: drive_256_256_dice_loss_0_4__0_4_1/split_2/test/image/_19_test_2.png (deflated 5%)\n",
            "  adding: drive_256_256_dice_loss_0_4__0_4_1/split_2/test/image/_07_test_1.png (deflated 2%)\n",
            "  adding: drive_256_256_dice_loss_0_4__0_4_1/split_2/test/image/_07_test_7.png (deflated 2%)\n",
            "  adding: drive_256_256_dice_loss_0_4__0_4_1/split_2/test/image/_04_test_0.png (deflated 5%)\n",
            "  adding: drive_256_256_dice_loss_0_4__0_4_1/split_2/test/image/_19_test_3.png (deflated 2%)\n",
            "  adding: drive_256_256_dice_loss_0_4__0_4_1/split_2/test/image/_15_test_5.png (deflated 3%)\n",
            "  adding: drive_256_256_dice_loss_0_4__0_4_1/split_2/test/image/_13_test_3.png (deflated 2%)\n",
            "  adding: drive_256_256_dice_loss_0_4__0_4_1/split_2/test/image/_20_test_0.png (deflated 6%)\n",
            "  adding: drive_256_256_dice_loss_0_4__0_4_1/split_2/test/image/_03_test_7.png (deflated 3%)\n",
            "  adding: drive_256_256_dice_loss_0_4__0_4_1/split_2/test/image/_10_test_8.png (deflated 5%)\n",
            "  adding: drive_256_256_dice_loss_0_4__0_4_1/split_2/test/image/_04_test_2.png (deflated 5%)\n",
            "  adding: drive_256_256_dice_loss_0_4__0_4_1/split_2/test/image/_02_test_1.png (deflated 2%)\n",
            "  adding: drive_256_256_dice_loss_0_4__0_4_1/split_2/test/image/_07_test_4.png (deflated 2%)\n",
            "  adding: drive_256_256_dice_loss_0_4__0_4_1/split_2/test/image/_16_test_6.png (deflated 5%)\n",
            "  adding: drive_256_256_dice_loss_0_4__0_4_1/split_2/test/image/_18_test_6.png (deflated 4%)\n",
            "  adding: drive_256_256_dice_loss_0_4__0_4_1/split_2/test/image/_16_test_0.png (deflated 5%)\n",
            "  adding: drive_256_256_dice_loss_0_4__0_4_1/split_2/test/image/_06_test_5.png (deflated 2%)\n",
            "  adding: drive_256_256_dice_loss_0_4__0_4_1/split_2/test/image/_02_test_8.png (deflated 4%)\n",
            "  adding: drive_256_256_dice_loss_0_4__0_4_1/split_2/test/image/_07_test_0.png (deflated 4%)\n",
            "  adding: drive_256_256_dice_loss_0_4__0_4_1/split_2/test/image/_10_test_2.png (deflated 6%)\n",
            "  adding: drive_256_256_dice_loss_0_4__0_4_1/split_2/test/image/_12_test_5.png (deflated 2%)\n",
            "  adding: drive_256_256_dice_loss_0_4__0_4_1/split_2/test/image/_09_test_6.png (deflated 4%)\n",
            "  adding: drive_256_256_dice_loss_0_4__0_4_1/split_2/test/image/_10_test_7.png (deflated 2%)\n",
            "  adding: drive_256_256_dice_loss_0_4__0_4_1/split_2/test/image/_18_test_3.png (deflated 2%)\n",
            "  adding: drive_256_256_dice_loss_0_4__0_4_1/split_2/test/image/_16_test_5.png (deflated 1%)\n",
            "  adding: drive_256_256_dice_loss_0_4__0_4_1/split_2/test/image/_20_test_8.png (deflated 5%)\n",
            "  adding: drive_256_256_dice_loss_0_4__0_4_1/split_2/test/image/_04_test_3.png (deflated 2%)\n",
            "  adding: drive_256_256_dice_loss_0_4__0_4_1/split_2/test/image/_02_test_5.png (deflated 1%)\n",
            "  adding: drive_256_256_dice_loss_0_4__0_4_1/split_2/test/image/_14_test_7.png (deflated 1%)\n",
            "  adding: drive_256_256_dice_loss_0_4__0_4_1/split_2/test/image/_08_test_0.png (deflated 5%)\n",
            "  adding: drive_256_256_dice_loss_0_4__0_4_1/split_2/test/image/_13_test_8.png (deflated 4%)\n",
            "  adding: drive_256_256_dice_loss_0_4__0_4_1/split_2/test/image/_18_test_4.png (deflated 2%)\n",
            "  adding: drive_256_256_dice_loss_0_4__0_4_1/split_2/test/image/_14_test_6.png (deflated 5%)\n",
            "  adding: drive_256_256_dice_loss_0_4__0_4_1/split_2/test/image/_08_test_1.png (deflated 3%)\n",
            "  adding: drive_256_256_dice_loss_0_4__0_4_1/split_2/test/image/_01_test_3.png (deflated 1%)\n",
            "  adding: drive_256_256_dice_loss_0_4__0_4_1/split_2/test/image/_11_test_3.png (deflated 1%)\n",
            "  adding: drive_256_256_dice_loss_0_4__0_4_1/split_2/test/image/_10_test_0.png (deflated 6%)\n",
            "  adding: drive_256_256_dice_loss_0_4__0_4_1/split_2/test/image/_16_test_3.png (deflated 2%)\n",
            "  adding: drive_256_256_dice_loss_0_4__0_4_1/split_2/test/image/_04_test_1.png (deflated 2%)\n",
            "  adding: drive_256_256_dice_loss_0_4__0_4_1/split_2/test/image/_17_test_1.png (deflated 2%)\n",
            "  adding: drive_256_256_dice_loss_0_4__0_4_1/split_2/test/image/_08_test_2.png (deflated 6%)\n",
            "  adding: drive_256_256_dice_loss_0_4__0_4_1/split_2/test/image/_04_test_6.png (deflated 5%)\n",
            "  adding: drive_256_256_dice_loss_0_4__0_4_1/split_2/test/image/_13_test_6.png (deflated 5%)\n",
            "  adding: drive_256_256_dice_loss_0_4__0_4_1/split_2/test/image/_18_test_5.png (deflated 1%)\n",
            "  adding: drive_256_256_dice_loss_0_4__0_4_1/split_2/test/image/_18_test_1.png (deflated 3%)\n",
            "  adding: drive_256_256_dice_loss_0_4__0_4_1/split_2/test/image/_16_test_2.png (deflated 5%)\n",
            "  adding: drive_256_256_dice_loss_0_4__0_4_1/split_2/test/image/_13_test_5.png (deflated 1%)\n",
            "  adding: drive_256_256_dice_loss_0_4__0_4_1/split_2/test/image/_15_test_7.png (deflated 1%)\n",
            "  adding: drive_256_256_dice_loss_0_4__0_4_1/split_2/test/image/_09_test_8.png (deflated 4%)\n",
            "  adding: drive_256_256_dice_loss_0_4__0_4_1/split_2/test/image/_19_test_0.png (deflated 5%)\n",
            "  adding: drive_256_256_dice_loss_0_4__0_4_1/split_2/test/image/_14_test_5.png (deflated 1%)\n",
            "  adding: drive_256_256_dice_loss_0_4__0_4_1/split_2/test/image/_11_test_4.png (deflated 1%)\n",
            "  adding: drive_256_256_dice_loss_0_4__0_4_1/split_2/test/image/_17_test_7.png (deflated 1%)\n",
            "  adding: drive_256_256_dice_loss_0_4__0_4_1/split_2/test/image/_04_test_5.png (deflated 2%)\n",
            "  adding: drive_256_256_dice_loss_0_4__0_4_1/split_2/test/image/_16_test_8.png (deflated 4%)\n",
            "  adding: drive_256_256_dice_loss_0_4__0_4_1/split_2/test/image/_18_test_0.png (deflated 5%)\n",
            "  adding: drive_256_256_dice_loss_0_4__0_4_1/split_2/test/image/_02_test_3.png (deflated 1%)\n",
            "  adding: drive_256_256_dice_loss_0_4__0_4_1/split_2/test/image/_01_test_4.png (deflated 2%)\n",
            "  adding: drive_256_256_dice_loss_0_4__0_4_1/split_2/test/image/_18_test_2.png (deflated 5%)\n",
            "  adding: drive_256_256_dice_loss_0_4__0_4_1/split_2/test/image/_03_test_4.png (deflated 3%)\n",
            "  adding: drive_256_256_dice_loss_0_4__0_4_1/split_2/test/image/_08_test_8.png (deflated 5%)\n",
            "  adding: drive_256_256_dice_loss_0_4__0_4_1/split_2/test/image/_16_test_1.png (deflated 3%)\n",
            "  adding: drive_256_256_dice_loss_0_4__0_4_1/split_2/test/image/_09_test_7.png (deflated 2%)\n",
            "  adding: drive_256_256_dice_loss_0_4__0_4_1/split_2/test/image/_11_test_1.png (deflated 2%)\n",
            "  adding: drive_256_256_dice_loss_0_4__0_4_1/split_2/test/image/_01_test_0.png (deflated 5%)\n",
            "  adding: drive_256_256_dice_loss_0_4__0_4_1/split_2/test/image/_08_test_5.png (deflated 1%)\n",
            "  adding: drive_256_256_dice_loss_0_4__0_4_1/split_2/test/image/_15_test_6.png (deflated 5%)\n",
            "  adding: drive_256_256_dice_loss_0_4__0_4_1/split_2/test/image/_05_test_6.png (deflated 4%)\n",
            "  adding: drive_256_256_dice_loss_0_4__0_4_1/split_2/test/image/_01_test_8.png (deflated 5%)\n",
            "  adding: drive_256_256_dice_loss_0_4__0_4_1/split_2/test/image/_13_test_0.png (deflated 5%)\n",
            "  adding: drive_256_256_dice_loss_0_4__0_4_1/split_2/test/image/_20_test_5.png (deflated 2%)\n",
            "  adding: drive_256_256_dice_loss_0_4__0_4_1/split_2/test/image/_17_test_0.png (deflated 5%)\n",
            "  adding: drive_256_256_dice_loss_0_4__0_4_1/split_2/test/image/_19_test_5.png (deflated 2%)\n",
            "  adding: drive_256_256_dice_loss_0_4__0_4_1/split_2/test/image/_11_test_0.png (deflated 5%)\n",
            "  adding: drive_256_256_dice_loss_0_4__0_4_1/split_2/test/image/_19_test_1.png (deflated 3%)\n",
            "  adding: drive_256_256_dice_loss_0_4__0_4_1/split_2/test/image/_01_test_6.png (deflated 5%)\n",
            "  adding: drive_256_256_dice_loss_0_4__0_4_1/split_2/test/image/_06_test_3.png (deflated 2%)\n",
            "  adding: drive_256_256_dice_loss_0_4__0_4_1/split_2/test/image/_10_test_3.png (deflated 2%)\n",
            "  adding: drive_256_256_dice_loss_0_4__0_4_1/split_2/test/image/_17_test_5.png (deflated 1%)\n",
            "  adding: drive_256_256_dice_loss_0_4__0_4_1/split_2/test/image/_02_test_6.png (deflated 5%)\n",
            "  adding: drive_256_256_dice_loss_0_4__0_4_1/split_2/test/image/_04_test_8.png (deflated 5%)\n",
            "  adding: drive_256_256_dice_loss_0_4__0_4_1/split_2/test/image/_13_test_4.png (deflated 2%)\n",
            "  adding: drive_256_256_dice_loss_0_4__0_4_1/split_2/test/image/_09_test_4.png (deflated 2%)\n",
            "  adding: drive_256_256_dice_loss_0_4__0_4_1/split_2/test/image/_17_test_6.png (deflated 4%)\n",
            "  adding: drive_256_256_dice_loss_0_4__0_4_1/split_2/test/image/_14_test_1.png (deflated 3%)\n",
            "  adding: drive_256_256_dice_loss_0_4__0_4_1/split_2/test/image/_02_test_2.png (deflated 6%)\n",
            "  adding: drive_256_256_dice_loss_0_4__0_4_1/split_2/test/image/_19_test_7.png (deflated 2%)\n",
            "  adding: drive_256_256_dice_loss_0_4__0_4_1/split_2/test/image/_19_test_6.png (deflated 5%)\n",
            "  adding: drive_256_256_dice_loss_0_4__0_4_1/split_2/test/image/_20_test_2.png (deflated 6%)\n",
            "  adding: drive_256_256_dice_loss_0_4__0_4_1/split_2/test/image/_10_test_1.png (deflated 3%)\n",
            "  adding: drive_256_256_dice_loss_0_4__0_4_1/split_2/test/image/_05_test_7.png (deflated 2%)\n",
            "  adding: drive_256_256_dice_loss_0_4__0_4_1/split_2/test/image/_06_test_1.png (deflated 3%)\n",
            "  adding: drive_256_256_dice_loss_0_4__0_4_1/split_2/test/image/_08_test_6.png (deflated 5%)\n",
            "  adding: drive_256_256_dice_loss_0_4__0_4_1/split_2/test/image/_06_test_6.png (deflated 4%)\n",
            "  adding: drive_256_256_dice_loss_0_4__0_4_1/split_2/test/image/_06_test_7.png (deflated 2%)\n",
            "  adding: drive_256_256_dice_loss_0_4__0_4_1/split_2/test/image/_19_test_8.png (deflated 4%)\n",
            "  adding: drive_256_256_dice_loss_0_4__0_4_1/split_2/test/image/_13_test_2.png (deflated 5%)\n",
            "  adding: drive_256_256_dice_loss_0_4__0_4_1/split_2/test/image/_03_test_1.png (deflated 4%)\n",
            "  adding: drive_256_256_dice_loss_0_4__0_4_1/split_2/test/image/_06_test_0.png (deflated 5%)\n",
            "  adding: drive_256_256_dice_loss_0_4__0_4_1/split_2/test/image/_15_test_2.png (deflated 6%)\n",
            "  adding: drive_256_256_dice_loss_0_4__0_4_1/split_2/test/image/_15_test_8.png (deflated 5%)\n",
            "  adding: drive_256_256_dice_loss_0_4__0_4_1/split_2/test/image/_05_test_4.png (deflated 2%)\n",
            "  adding: drive_256_256_dice_loss_0_4__0_4_1/split_2/test/image/_05_test_8.png (deflated 5%)\n",
            "  adding: drive_256_256_dice_loss_0_4__0_4_1/split_2/test/image/_12_test_0.png (deflated 4%)\n",
            "  adding: drive_256_256_dice_loss_0_4__0_4_1/split_2/test/image/_20_test_4.png (deflated 3%)\n",
            "  adding: drive_256_256_dice_loss_0_4__0_4_1/split_2/test/image/_05_test_5.png (deflated 3%)\n",
            "  adding: drive_256_256_dice_loss_0_4__0_4_1/split_2/test/image/_04_test_4.png (deflated 0%)\n",
            "  adding: drive_256_256_dice_loss_0_4__0_4_1/split_2/test/image/_12_test_1.png (deflated 2%)\n",
            "  adding: drive_256_256_dice_loss_0_4__0_4_1/split_2/test/image/_07_test_8.png (deflated 4%)\n",
            "  adding: drive_256_256_dice_loss_0_4__0_4_1/split_2/test/image/_03_test_8.png (deflated 8%)\n",
            "  adding: drive_256_256_dice_loss_0_4__0_4_1/split_2/test/image/_09_test_1.png (deflated 3%)\n",
            "  adding: drive_256_256_dice_loss_0_4__0_4_1/split_2/test/image/_12_test_6.png (deflated 4%)\n",
            "  adding: drive_256_256_dice_loss_0_4__0_4_1/split_2/test/image/_05_test_1.png (deflated 3%)\n",
            "  adding: drive_256_256_dice_loss_0_4__0_4_1/split_2/test/image/_11_test_7.png (deflated 2%)\n",
            "  adding: drive_256_256_dice_loss_0_4__0_4_1/split_2/test/image/_02_test_4.png (deflated 2%)\n",
            "  adding: drive_256_256_dice_loss_0_4__0_4_1/split_2/test/image/_08_test_7.png (deflated 3%)\n",
            "  adding: drive_256_256_dice_loss_0_4__0_4_1/split_2/test/image/_12_test_3.png (deflated 1%)\n",
            "  adding: drive_256_256_dice_loss_0_4__0_4_1/split_2/test/image/_01_test_1.png (deflated 3%)\n",
            "  adding: drive_256_256_dice_loss_0_4__0_4_1/split_2/test/image/_14_test_2.png (deflated 5%)\n",
            "  adding: drive_256_256_dice_loss_0_4__0_4_1/split_2/test/image/_14_test_3.png (deflated 2%)\n",
            "  adding: drive_256_256_dice_loss_0_4__0_4_1/split_2/test/image/_07_test_6.png (deflated 5%)\n",
            "  adding: drive_256_256_dice_loss_0_4__0_4_1/split_2/test/image/_14_test_4.png (deflated 2%)\n",
            "  adding: drive_256_256_dice_loss_0_4__0_4_1/split_2/test/image/_08_test_4.png (deflated 2%)\n",
            "  adding: drive_256_256_dice_loss_0_4__0_4_1/split_2/test/image/_01_test_2.png (deflated 6%)\n",
            "  adding: drive_256_256_dice_loss_0_4__0_4_1/split_2/test/image/_10_test_6.png (deflated 5%)\n",
            "  adding: drive_256_256_dice_loss_0_4__0_4_1/split_2/test/image/_05_test_2.png (deflated 7%)\n",
            "  adding: drive_256_256_dice_loss_0_4__0_4_1/split_2/test/image/_06_test_4.png (deflated 2%)\n",
            "  adding: drive_256_256_dice_loss_0_4__0_4_1/split_2/test/image/_18_test_8.png (deflated 4%)\n",
            "  adding: drive_256_256_dice_loss_0_4__0_4_1/split_2/test/image/_04_test_7.png (deflated 1%)\n",
            "  adding: drive_256_256_dice_loss_0_4__0_4_1/split_2/image_patches_256_256_train.csv (deflated 95%)\n",
            "  adding: drive_256_256_dice_loss_0_4__0_4_1/split_2/train/ (stored 0%)\n",
            "  adding: drive_256_256_dice_loss_0_4__0_4_1/split_2/train/mask/ (stored 0%)\n",
            "  adding: drive_256_256_dice_loss_0_4__0_4_1/split_2/train/mask/_23_training_2.png (deflated 22%)\n",
            "  adding: drive_256_256_dice_loss_0_4__0_4_1/split_2/train/mask/_24_training_4.png (deflated 12%)\n",
            "  adding: drive_256_256_dice_loss_0_4__0_4_1/split_2/train/mask/_25_training_2.png (deflated 32%)\n",
            "  adding: drive_256_256_dice_loss_0_4__0_4_1/split_2/train/mask/_31_training_2.png (deflated 33%)\n",
            "  adding: drive_256_256_dice_loss_0_4__0_4_1/split_2/train/mask/_24_training_2.png (deflated 34%)\n",
            "  adding: drive_256_256_dice_loss_0_4__0_4_1/split_2/train/mask/_31_training_7.png (deflated 16%)\n",
            "  adding: drive_256_256_dice_loss_0_4__0_4_1/split_2/train/mask/_26_training_5.png (deflated 8%)\n",
            "  adding: drive_256_256_dice_loss_0_4__0_4_1/split_2/train/mask/_36_training_6.png (deflated 21%)\n",
            "  adding: drive_256_256_dice_loss_0_4__0_4_1/split_2/train/mask/_23_training_0.png (deflated 59%)\n",
            "  adding: drive_256_256_dice_loss_0_4__0_4_1/split_2/train/mask/_28_training_7.png (deflated 14%)\n",
            "  adding: drive_256_256_dice_loss_0_4__0_4_1/split_2/train/mask/_24_training_6.png (deflated 34%)\n",
            "  adding: drive_256_256_dice_loss_0_4__0_4_1/split_2/train/mask/_31_training_0.png (deflated 32%)\n",
            "  adding: drive_256_256_dice_loss_0_4__0_4_1/split_2/train/mask/_36_training_1.png (deflated 16%)\n",
            "  adding: drive_256_256_dice_loss_0_4__0_4_1/split_2/train/mask/_26_training_8.png (deflated 30%)\n",
            "  adding: drive_256_256_dice_loss_0_4__0_4_1/split_2/train/mask/_21_training_5.png (deflated 9%)\n",
            "  adding: drive_256_256_dice_loss_0_4__0_4_1/split_2/train/mask/_30_training_5.png (deflated 11%)\n",
            "  adding: drive_256_256_dice_loss_0_4__0_4_1/split_2/train/mask/_40_training_3.png (deflated 8%)\n",
            "  adding: drive_256_256_dice_loss_0_4__0_4_1/split_2/train/mask/_34_training_3.png (deflated 3%)\n",
            "  adding: drive_256_256_dice_loss_0_4__0_4_1/split_2/train/mask/_35_training_0.png (deflated 27%)\n",
            "  adding: drive_256_256_dice_loss_0_4__0_4_1/split_2/train/mask/_38_training_1.png (deflated 16%)\n",
            "  adding: drive_256_256_dice_loss_0_4__0_4_1/split_2/train/mask/_26_training_4.png (deflated 8%)\n",
            "  adding: drive_256_256_dice_loss_0_4__0_4_1/split_2/train/mask/_28_training_0.png (deflated 31%)\n",
            "  adding: drive_256_256_dice_loss_0_4__0_4_1/split_2/train/mask/_29_training_4.png (deflated 11%)\n",
            "  adding: drive_256_256_dice_loss_0_4__0_4_1/split_2/train/mask/_32_training_0.png (deflated 34%)\n",
            "  adding: drive_256_256_dice_loss_0_4__0_4_1/split_2/train/mask/_39_training_0.png (deflated 37%)\n",
            "  adding: drive_256_256_dice_loss_0_4__0_4_1/split_2/train/mask/_39_training_5.png (deflated 5%)\n",
            "  adding: drive_256_256_dice_loss_0_4__0_4_1/split_2/train/mask/_37_training_5.png (deflated 13%)\n",
            "  adding: drive_256_256_dice_loss_0_4__0_4_1/split_2/train/mask/_34_training_0.png (deflated 38%)\n",
            "  adding: drive_256_256_dice_loss_0_4__0_4_1/split_2/train/mask/_36_training_0.png (deflated 23%)\n",
            "  adding: drive_256_256_dice_loss_0_4__0_4_1/split_2/train/mask/_37_training_4.png (deflated 10%)\n",
            "  adding: drive_256_256_dice_loss_0_4__0_4_1/split_2/train/mask/_39_training_6.png (deflated 33%)\n",
            "  adding: drive_256_256_dice_loss_0_4__0_4_1/split_2/train/mask/_22_training_2.png (deflated 31%)\n",
            "  adding: drive_256_256_dice_loss_0_4__0_4_1/split_2/train/mask/_34_training_7.png (deflated 16%)\n",
            "  adding: drive_256_256_dice_loss_0_4__0_4_1/split_2/train/mask/_38_training_3.png (deflated 7%)\n",
            "  adding: drive_256_256_dice_loss_0_4__0_4_1/split_2/train/mask/_32_training_4.png (deflated 13%)\n",
            "  adding: drive_256_256_dice_loss_0_4__0_4_1/split_2/train/mask/_33_training_1.png (deflated 15%)\n",
            "  adding: drive_256_256_dice_loss_0_4__0_4_1/split_2/train/mask/_38_training_8.png (deflated 45%)\n",
            "  adding: drive_256_256_dice_loss_0_4__0_4_1/split_2/train/mask/_24_training_0.png (deflated 32%)\n",
            "  adding: drive_256_256_dice_loss_0_4__0_4_1/split_2/train/mask/_33_training_2.png (deflated 27%)\n",
            "  adding: drive_256_256_dice_loss_0_4__0_4_1/split_2/train/mask/_27_training_8.png (deflated 28%)\n",
            "  adding: drive_256_256_dice_loss_0_4__0_4_1/split_2/train/mask/_25_training_8.png (deflated 44%)\n",
            "  adding: drive_256_256_dice_loss_0_4__0_4_1/split_2/train/mask/_24_training_1.png (deflated 15%)\n",
            "  adding: drive_256_256_dice_loss_0_4__0_4_1/split_2/train/mask/_32_training_8.png (deflated 31%)\n",
            "  adding: drive_256_256_dice_loss_0_4__0_4_1/split_2/train/mask/_29_training_2.png (deflated 27%)\n",
            "  adding: drive_256_256_dice_loss_0_4__0_4_1/split_2/train/mask/_29_training_5.png (deflated 9%)\n",
            "  adding: drive_256_256_dice_loss_0_4__0_4_1/split_2/train/mask/_25_training_3.png (deflated 6%)\n",
            "  adding: drive_256_256_dice_loss_0_4__0_4_1/split_2/train/mask/_36_training_5.png (deflated 14%)\n",
            "  adding: drive_256_256_dice_loss_0_4__0_4_1/split_2/train/mask/_23_training_8.png (deflated 33%)\n",
            "  adding: drive_256_256_dice_loss_0_4__0_4_1/split_2/train/mask/_36_training_8.png (deflated 28%)\n",
            "  adding: drive_256_256_dice_loss_0_4__0_4_1/split_2/train/mask/_39_training_4.png (deflated 10%)\n",
            "  adding: drive_256_256_dice_loss_0_4__0_4_1/split_2/train/mask/_21_training_3.png (deflated 9%)\n",
            "  adding: drive_256_256_dice_loss_0_4__0_4_1/split_2/train/mask/_24_training_3.png (deflated 7%)\n",
            "  adding: drive_256_256_dice_loss_0_4__0_4_1/split_2/train/mask/_39_training_2.png (deflated 31%)\n",
            "  adding: drive_256_256_dice_loss_0_4__0_4_1/split_2/train/mask/_22_training_4.png (deflated 10%)\n",
            "  adding: drive_256_256_dice_loss_0_4__0_4_1/split_2/train/mask/_29_training_0.png (deflated 30%)\n",
            "  adding: drive_256_256_dice_loss_0_4__0_4_1/split_2/train/mask/_30_training_6.png (deflated 34%)\n",
            "  adding: drive_256_256_dice_loss_0_4__0_4_1/split_2/train/mask/_35_training_1.png (deflated 15%)\n",
            "  adding: drive_256_256_dice_loss_0_4__0_4_1/split_2/train/mask/_40_training_6.png (deflated 24%)\n",
            "  adding: drive_256_256_dice_loss_0_4__0_4_1/split_2/train/mask/_31_training_3.png (deflated 9%)\n",
            "  adding: drive_256_256_dice_loss_0_4__0_4_1/split_2/train/mask/_23_training_1.png (deflated 17%)\n",
            "  adding: drive_256_256_dice_loss_0_4__0_4_1/split_2/train/mask/_25_training_1.png (deflated 14%)\n",
            "  adding: drive_256_256_dice_loss_0_4__0_4_1/split_2/train/mask/_29_training_8.png (deflated 36%)\n",
            "  adding: drive_256_256_dice_loss_0_4__0_4_1/split_2/train/mask/_31_training_6.png (deflated 44%)\n",
            "  adding: drive_256_256_dice_loss_0_4__0_4_1/split_2/train/mask/_23_training_4.png (deflated 8%)\n",
            "  adding: drive_256_256_dice_loss_0_4__0_4_1/split_2/train/mask/_38_training_5.png (deflated 13%)\n",
            "  adding: drive_256_256_dice_loss_0_4__0_4_1/split_2/train/mask/_33_training_5.png (deflated 11%)\n",
            "  adding: drive_256_256_dice_loss_0_4__0_4_1/split_2/train/mask/_38_training_7.png (deflated 16%)\n",
            "  adding: drive_256_256_dice_loss_0_4__0_4_1/split_2/train/mask/_36_training_7.png (deflated 16%)\n",
            "  adding: drive_256_256_dice_loss_0_4__0_4_1/split_2/train/mask/_28_training_3.png (deflated 7%)\n",
            "  adding: drive_256_256_dice_loss_0_4__0_4_1/split_2/train/mask/_34_training_1.png (deflated 17%)\n",
            "  adding: drive_256_256_dice_loss_0_4__0_4_1/split_2/train/mask/_29_training_6.png (deflated 47%)\n",
            "  adding: drive_256_256_dice_loss_0_4__0_4_1/split_2/train/mask/_23_training_6.png (deflated 58%)\n",
            "  adding: drive_256_256_dice_loss_0_4__0_4_1/split_2/train/mask/_33_training_6.png (deflated 36%)\n",
            "  adding: drive_256_256_dice_loss_0_4__0_4_1/split_2/train/mask/_27_training_2.png (deflated 33%)\n",
            "  adding: drive_256_256_dice_loss_0_4__0_4_1/split_2/train/mask/_40_training_0.png (deflated 27%)\n",
            "  adding: drive_256_256_dice_loss_0_4__0_4_1/split_2/train/mask/_22_training_5.png (deflated 10%)\n",
            "  adding: drive_256_256_dice_loss_0_4__0_4_1/split_2/train/mask/_35_training_7.png (deflated 15%)\n",
            "  adding: drive_256_256_dice_loss_0_4__0_4_1/split_2/train/mask/_31_training_5.png (deflated 3%)\n",
            "  adding: drive_256_256_dice_loss_0_4__0_4_1/split_2/train/mask/_31_training_1.png (deflated 16%)\n",
            "  adding: drive_256_256_dice_loss_0_4__0_4_1/split_2/train/mask/_36_training_2.png (deflated 25%)\n",
            "  adding: drive_256_256_dice_loss_0_4__0_4_1/split_2/train/mask/_33_training_3.png (deflated 9%)\n",
            "  adding: drive_256_256_dice_loss_0_4__0_4_1/split_2/train/mask/_22_training_1.png (deflated 18%)\n",
            "  adding: drive_256_256_dice_loss_0_4__0_4_1/split_2/train/mask/_27_training_4.png (deflated 12%)\n",
            "  adding: drive_256_256_dice_loss_0_4__0_4_1/split_2/train/mask/_28_training_4.png (deflated 11%)\n",
            "  adding: drive_256_256_dice_loss_0_4__0_4_1/split_2/train/mask/_30_training_7.png (deflated 14%)\n",
            "  adding: drive_256_256_dice_loss_0_4__0_4_1/split_2/train/mask/_21_training_6.png (deflated 45%)\n",
            "  adding: drive_256_256_dice_loss_0_4__0_4_1/split_2/train/mask/_40_training_1.png (deflated 15%)\n",
            "  adding: drive_256_256_dice_loss_0_4__0_4_1/split_2/train/mask/_35_training_4.png (deflated 9%)\n",
            "  adding: drive_256_256_dice_loss_0_4__0_4_1/split_2/train/mask/_30_training_2.png (deflated 35%)\n",
            "  adding: drive_256_256_dice_loss_0_4__0_4_1/split_2/train/mask/_33_training_4.png (deflated 11%)\n",
            "  adding: drive_256_256_dice_loss_0_4__0_4_1/split_2/train/mask/_34_training_4.png (deflated 14%)\n",
            "  adding: drive_256_256_dice_loss_0_4__0_4_1/split_2/train/mask/_22_training_7.png (deflated 14%)\n",
            "  adding: drive_256_256_dice_loss_0_4__0_4_1/split_2/train/mask/_35_training_5.png (deflated 8%)\n",
            "  adding: drive_256_256_dice_loss_0_4__0_4_1/split_2/train/mask/_29_training_1.png (deflated 14%)\n",
            "  adding: drive_256_256_dice_loss_0_4__0_4_1/split_2/train/mask/_22_training_0.png (deflated 30%)\n",
            "  adding: drive_256_256_dice_loss_0_4__0_4_1/split_2/train/mask/_22_training_8.png (deflated 31%)\n",
            "  adding: drive_256_256_dice_loss_0_4__0_4_1/split_2/train/mask/_26_training_7.png (deflated 13%)\n",
            "  adding: drive_256_256_dice_loss_0_4__0_4_1/split_2/train/mask/_21_training_4.png (deflated 7%)\n",
            "  adding: drive_256_256_dice_loss_0_4__0_4_1/split_2/train/mask/_40_training_2.png (deflated 29%)\n",
            "  adding: drive_256_256_dice_loss_0_4__0_4_1/split_2/train/mask/_24_training_7.png (deflated 14%)\n",
            "  adding: drive_256_256_dice_loss_0_4__0_4_1/split_2/train/mask/_32_training_3.png (deflated 10%)\n",
            "  adding: drive_256_256_dice_loss_0_4__0_4_1/split_2/train/mask/_38_training_0.png (deflated 35%)\n",
            "  adding: drive_256_256_dice_loss_0_4__0_4_1/split_2/train/mask/_37_training_8.png (deflated 31%)\n",
            "  adding: drive_256_256_dice_loss_0_4__0_4_1/split_2/train/mask/_32_training_1.png (deflated 14%)\n",
            "  adding: drive_256_256_dice_loss_0_4__0_4_1/split_2/train/mask/_21_training_0.png (deflated 35%)\n",
            "  adding: drive_256_256_dice_loss_0_4__0_4_1/split_2/train/mask/_40_training_5.png (deflated 12%)\n",
            "  adding: drive_256_256_dice_loss_0_4__0_4_1/split_2/train/mask/_27_training_5.png (deflated 11%)\n",
            "  adding: drive_256_256_dice_loss_0_4__0_4_1/split_2/train/mask/_30_training_4.png (deflated 10%)\n",
            "  adding: drive_256_256_dice_loss_0_4__0_4_1/split_2/train/mask/_24_training_8.png (deflated 27%)\n",
            "  adding: drive_256_256_dice_loss_0_4__0_4_1/split_2/train/mask/_35_training_3.png (deflated 11%)\n",
            "  adding: drive_256_256_dice_loss_0_4__0_4_1/split_2/train/mask/_21_training_1.png (deflated 16%)\n",
            "  adding: drive_256_256_dice_loss_0_4__0_4_1/split_2/train/mask/_26_training_1.png (deflated 15%)\n",
            "  adding: drive_256_256_dice_loss_0_4__0_4_1/split_2/train/mask/_33_training_8.png (deflated 33%)\n",
            "  adding: drive_256_256_dice_loss_0_4__0_4_1/split_2/train/mask/_27_training_0.png (deflated 38%)\n",
            "  adding: drive_256_256_dice_loss_0_4__0_4_1/split_2/train/mask/_30_training_0.png (deflated 50%)\n",
            "  adding: drive_256_256_dice_loss_0_4__0_4_1/split_2/train/mask/_25_training_7.png (deflated 15%)\n",
            "  adding: drive_256_256_dice_loss_0_4__0_4_1/split_2/train/mask/_28_training_8.png (deflated 23%)\n",
            "  adding: drive_256_256_dice_loss_0_4__0_4_1/split_2/train/mask/_40_training_4.png (deflated 12%)\n",
            "  adding: drive_256_256_dice_loss_0_4__0_4_1/split_2/train/mask/_25_training_6.png (deflated 27%)\n",
            "  adding: drive_256_256_dice_loss_0_4__0_4_1/split_2/train/mask/_32_training_2.png (deflated 37%)\n",
            "  adding: drive_256_256_dice_loss_0_4__0_4_1/split_2/train/mask/_32_training_7.png (deflated 13%)\n",
            "  adding: drive_256_256_dice_loss_0_4__0_4_1/split_2/train/mask/_30_training_8.png (deflated 36%)\n",
            "  adding: drive_256_256_dice_loss_0_4__0_4_1/split_2/train/mask/_31_training_8.png (deflated 46%)\n",
            "  adding: drive_256_256_dice_loss_0_4__0_4_1/split_2/train/mask/_26_training_2.png (deflated 25%)\n",
            "  adding: drive_256_256_dice_loss_0_4__0_4_1/split_2/train/mask/_23_training_7.png (deflated 20%)\n",
            "  adding: drive_256_256_dice_loss_0_4__0_4_1/split_2/train/mask/_28_training_1.png (deflated 15%)\n",
            "  adding: drive_256_256_dice_loss_0_4__0_4_1/split_2/train/mask/_27_training_7.png (deflated 14%)\n",
            "  adding: drive_256_256_dice_loss_0_4__0_4_1/split_2/train/mask/_38_training_2.png (deflated 29%)\n",
            "  adding: drive_256_256_dice_loss_0_4__0_4_1/split_2/train/mask/_28_training_5.png (deflated 12%)\n",
            "  adding: drive_256_256_dice_loss_0_4__0_4_1/split_2/train/mask/_32_training_5.png (deflated 13%)\n",
            "  adding: drive_256_256_dice_loss_0_4__0_4_1/split_2/train/mask/_26_training_0.png (deflated 23%)\n",
            "  adding: drive_256_256_dice_loss_0_4__0_4_1/split_2/train/mask/_37_training_0.png (deflated 32%)\n",
            "  adding: drive_256_256_dice_loss_0_4__0_4_1/split_2/train/mask/_34_training_5.png (deflated 10%)\n",
            "  adding: drive_256_256_dice_loss_0_4__0_4_1/split_2/train/mask/_35_training_6.png (deflated 28%)\n",
            "  adding: drive_256_256_dice_loss_0_4__0_4_1/split_2/train/mask/_40_training_7.png (deflated 13%)\n",
            "  adding: drive_256_256_dice_loss_0_4__0_4_1/split_2/train/mask/_27_training_1.png (deflated 14%)\n",
            "  adding: drive_256_256_dice_loss_0_4__0_4_1/split_2/train/mask/_26_training_3.png (deflated 10%)\n",
            "  adding: drive_256_256_dice_loss_0_4__0_4_1/split_2/train/mask/_21_training_7.png (deflated 14%)\n",
            "  adding: drive_256_256_dice_loss_0_4__0_4_1/split_2/train/mask/_37_training_3.png (deflated 7%)\n",
            "  adding: drive_256_256_dice_loss_0_4__0_4_1/split_2/train/mask/_24_training_5.png (deflated 13%)\n",
            "  adding: drive_256_256_dice_loss_0_4__0_4_1/split_2/train/mask/_36_training_3.png (deflated 8%)\n",
            "  adding: drive_256_256_dice_loss_0_4__0_4_1/split_2/train/mask/_40_training_8.png (deflated 22%)\n",
            "  adding: drive_256_256_dice_loss_0_4__0_4_1/split_2/train/mask/_35_training_8.png (deflated 34%)\n",
            "  adding: drive_256_256_dice_loss_0_4__0_4_1/split_2/train/mask/_34_training_8.png (deflated 26%)\n",
            "  adding: drive_256_256_dice_loss_0_4__0_4_1/split_2/train/mask/_26_training_6.png (deflated 28%)\n",
            "  adding: drive_256_256_dice_loss_0_4__0_4_1/split_2/train/mask/_22_training_3.png (deflated 8%)\n",
            "  adding: drive_256_256_dice_loss_0_4__0_4_1/split_2/train/mask/_38_training_6.png (deflated 31%)\n",
            "  adding: drive_256_256_dice_loss_0_4__0_4_1/split_2/train/mask/_35_training_2.png (deflated 33%)\n",
            "  adding: drive_256_256_dice_loss_0_4__0_4_1/split_2/train/mask/_25_training_4.png (deflated 9%)\n",
            "  adding: drive_256_256_dice_loss_0_4__0_4_1/split_2/train/mask/_37_training_6.png (deflated 27%)\n",
            "  adding: drive_256_256_dice_loss_0_4__0_4_1/split_2/train/mask/_30_training_3.png (deflated 8%)\n",
            "  adding: drive_256_256_dice_loss_0_4__0_4_1/split_2/train/mask/_22_training_6.png (deflated 27%)\n",
            "  adding: drive_256_256_dice_loss_0_4__0_4_1/split_2/train/mask/_37_training_1.png (deflated 15%)\n",
            "  adding: drive_256_256_dice_loss_0_4__0_4_1/split_2/train/mask/_21_training_2.png (deflated 33%)\n",
            "  adding: drive_256_256_dice_loss_0_4__0_4_1/split_2/train/mask/_39_training_8.png (deflated 28%)\n",
            "  adding: drive_256_256_dice_loss_0_4__0_4_1/split_2/train/mask/_28_training_2.png (deflated 41%)\n",
            "  adding: drive_256_256_dice_loss_0_4__0_4_1/split_2/train/mask/_21_training_8.png (deflated 29%)\n",
            "  adding: drive_256_256_dice_loss_0_4__0_4_1/split_2/train/mask/_29_training_3.png (deflated 10%)\n",
            "  adding: drive_256_256_dice_loss_0_4__0_4_1/split_2/train/mask/_39_training_3.png (deflated 12%)\n",
            "  adding: drive_256_256_dice_loss_0_4__0_4_1/split_2/train/mask/_34_training_6.png (deflated 44%)\n",
            "  adding: drive_256_256_dice_loss_0_4__0_4_1/split_2/train/mask/_32_training_6.png (deflated 27%)\n",
            "  adding: drive_256_256_dice_loss_0_4__0_4_1/split_2/train/mask/_23_training_5.png (deflated 8%)\n",
            "  adding: drive_256_256_dice_loss_0_4__0_4_1/split_2/train/mask/_33_training_0.png (deflated 41%)\n",
            "  adding: drive_256_256_dice_loss_0_4__0_4_1/split_2/train/mask/_37_training_2.png (deflated 27%)\n",
            "  adding: drive_256_256_dice_loss_0_4__0_4_1/split_2/train/mask/_37_training_7.png (deflated 14%)\n",
            "  adding: drive_256_256_dice_loss_0_4__0_4_1/split_2/train/mask/_36_training_4.png (deflated 13%)\n",
            "  adding: drive_256_256_dice_loss_0_4__0_4_1/split_2/train/mask/_25_training_0.png (deflated 28%)\n",
            "  adding: drive_256_256_dice_loss_0_4__0_4_1/split_2/train/mask/_33_training_7.png (deflated 14%)\n",
            "  adding: drive_256_256_dice_loss_0_4__0_4_1/split_2/train/mask/_25_training_5.png (deflated 11%)\n",
            "  adding: drive_256_256_dice_loss_0_4__0_4_1/split_2/train/mask/_23_training_3.png (deflated 12%)\n",
            "  adding: drive_256_256_dice_loss_0_4__0_4_1/split_2/train/mask/_31_training_4.png (deflated 11%)\n",
            "  adding: drive_256_256_dice_loss_0_4__0_4_1/split_2/train/mask/_29_training_7.png (deflated 14%)\n",
            "  adding: drive_256_256_dice_loss_0_4__0_4_1/split_2/train/mask/_38_training_4.png (deflated 13%)\n",
            "  adding: drive_256_256_dice_loss_0_4__0_4_1/split_2/train/mask/_39_training_1.png (deflated 16%)\n",
            "  adding: drive_256_256_dice_loss_0_4__0_4_1/split_2/train/mask/_27_training_3.png (deflated 8%)\n",
            "  adding: drive_256_256_dice_loss_0_4__0_4_1/split_2/train/mask/_34_training_2.png (deflated 30%)\n",
            "  adding: drive_256_256_dice_loss_0_4__0_4_1/split_2/train/mask/_39_training_7.png (deflated 16%)\n",
            "  adding: drive_256_256_dice_loss_0_4__0_4_1/split_2/train/mask/_28_training_6.png (deflated 22%)\n",
            "  adding: drive_256_256_dice_loss_0_4__0_4_1/split_2/train/mask/_30_training_1.png (deflated 14%)\n",
            "  adding: drive_256_256_dice_loss_0_4__0_4_1/split_2/train/mask/_27_training_6.png (deflated 35%)\n",
            "  adding: drive_256_256_dice_loss_0_4__0_4_1/split_2/train/image/ (stored 0%)\n",
            "  adding: drive_256_256_dice_loss_0_4__0_4_1/split_2/train/image/_23_training_2.png (deflated 5%)\n",
            "  adding: drive_256_256_dice_loss_0_4__0_4_1/split_2/train/image/_24_training_4.png (deflated 3%)\n",
            "  adding: drive_256_256_dice_loss_0_4__0_4_1/split_2/train/image/_25_training_2.png (deflated 6%)\n",
            "  adding: drive_256_256_dice_loss_0_4__0_4_1/split_2/train/image/_31_training_2.png (deflated 4%)\n",
            "  adding: drive_256_256_dice_loss_0_4__0_4_1/split_2/train/image/_24_training_2.png (deflated 5%)\n",
            "  adding: drive_256_256_dice_loss_0_4__0_4_1/split_2/train/image/_31_training_7.png (deflated 1%)\n",
            "  adding: drive_256_256_dice_loss_0_4__0_4_1/split_2/train/image/_26_training_5.png (deflated 3%)\n",
            "  adding: drive_256_256_dice_loss_0_4__0_4_1/split_2/train/image/_36_training_6.png (deflated 5%)\n",
            "  adding: drive_256_256_dice_loss_0_4__0_4_1/split_2/train/image/_23_training_0.png (deflated 5%)\n",
            "  adding: drive_256_256_dice_loss_0_4__0_4_1/split_2/train/image/_28_training_7.png (deflated 2%)\n",
            "  adding: drive_256_256_dice_loss_0_4__0_4_1/split_2/train/image/_24_training_6.png (deflated 5%)\n",
            "  adding: drive_256_256_dice_loss_0_4__0_4_1/split_2/train/image/_31_training_0.png (deflated 5%)\n",
            "  adding: drive_256_256_dice_loss_0_4__0_4_1/split_2/train/image/_36_training_1.png (deflated 2%)\n",
            "  adding: drive_256_256_dice_loss_0_4__0_4_1/split_2/train/image/_26_training_8.png (deflated 5%)\n",
            "  adding: drive_256_256_dice_loss_0_4__0_4_1/split_2/train/image/_21_training_5.png (deflated 3%)\n",
            "  adding: drive_256_256_dice_loss_0_4__0_4_1/split_2/train/image/_30_training_5.png (deflated 2%)\n",
            "  adding: drive_256_256_dice_loss_0_4__0_4_1/split_2/train/image/_40_training_3.png (deflated 2%)\n",
            "  adding: drive_256_256_dice_loss_0_4__0_4_1/split_2/train/image/_34_training_3.png (deflated 1%)\n",
            "  adding: drive_256_256_dice_loss_0_4__0_4_1/split_2/train/image/_35_training_0.png (deflated 5%)\n",
            "  adding: drive_256_256_dice_loss_0_4__0_4_1/split_2/train/image/_38_training_1.png (deflated 3%)\n",
            "  adding: drive_256_256_dice_loss_0_4__0_4_1/split_2/train/image/_26_training_4.png (deflated 3%)\n",
            "  adding: drive_256_256_dice_loss_0_4__0_4_1/split_2/train/image/_28_training_0.png (deflated 6%)\n",
            "  adding: drive_256_256_dice_loss_0_4__0_4_1/split_2/train/image/_29_training_4.png (deflated 2%)\n",
            "  adding: drive_256_256_dice_loss_0_4__0_4_1/split_2/train/image/_32_training_0.png (deflated 5%)\n",
            "  adding: drive_256_256_dice_loss_0_4__0_4_1/split_2/train/image/_39_training_0.png (deflated 5%)\n",
            "  adding: drive_256_256_dice_loss_0_4__0_4_1/split_2/train/image/_39_training_5.png (deflated 3%)\n",
            "  adding: drive_256_256_dice_loss_0_4__0_4_1/split_2/train/image/_37_training_5.png (deflated 2%)\n",
            "  adding: drive_256_256_dice_loss_0_4__0_4_1/split_2/train/image/_34_training_0.png (deflated 5%)\n",
            "  adding: drive_256_256_dice_loss_0_4__0_4_1/split_2/train/image/_36_training_0.png (deflated 5%)\n",
            "  adding: drive_256_256_dice_loss_0_4__0_4_1/split_2/train/image/_37_training_4.png (deflated 2%)\n",
            "  adding: drive_256_256_dice_loss_0_4__0_4_1/split_2/train/image/_39_training_6.png (deflated 5%)\n",
            "  adding: drive_256_256_dice_loss_0_4__0_4_1/split_2/train/image/_22_training_2.png (deflated 5%)\n",
            "  adding: drive_256_256_dice_loss_0_4__0_4_1/split_2/train/image/_34_training_7.png (deflated 2%)\n",
            "  adding: drive_256_256_dice_loss_0_4__0_4_1/split_2/train/image/_38_training_3.png (deflated 3%)\n",
            "  adding: drive_256_256_dice_loss_0_4__0_4_1/split_2/train/image/_32_training_4.png (deflated 2%)\n",
            "  adding: drive_256_256_dice_loss_0_4__0_4_1/split_2/train/image/_33_training_1.png (deflated 2%)\n",
            "  adding: drive_256_256_dice_loss_0_4__0_4_1/split_2/train/image/_38_training_8.png (deflated 5%)\n",
            "  adding: drive_256_256_dice_loss_0_4__0_4_1/split_2/train/image/_24_training_0.png (deflated 5%)\n",
            "  adding: drive_256_256_dice_loss_0_4__0_4_1/split_2/train/image/_33_training_2.png (deflated 5%)\n",
            "  adding: drive_256_256_dice_loss_0_4__0_4_1/split_2/train/image/_27_training_8.png (deflated 5%)\n",
            "  adding: drive_256_256_dice_loss_0_4__0_4_1/split_2/train/image/_25_training_8.png (deflated 5%)\n",
            "  adding: drive_256_256_dice_loss_0_4__0_4_1/split_2/train/image/_24_training_1.png (deflated 2%)\n",
            "  adding: drive_256_256_dice_loss_0_4__0_4_1/split_2/train/image/_32_training_8.png (deflated 5%)\n",
            "  adding: drive_256_256_dice_loss_0_4__0_4_1/split_2/train/image/_29_training_2.png (deflated 6%)\n",
            "  adding: drive_256_256_dice_loss_0_4__0_4_1/split_2/train/image/_29_training_5.png (deflated 1%)\n",
            "  adding: drive_256_256_dice_loss_0_4__0_4_1/split_2/train/image/_25_training_3.png (deflated 2%)\n",
            "  adding: drive_256_256_dice_loss_0_4__0_4_1/split_2/train/image/_36_training_5.png (deflated 2%)\n",
            "  adding: drive_256_256_dice_loss_0_4__0_4_1/split_2/train/image/_23_training_8.png (deflated 4%)\n",
            "  adding: drive_256_256_dice_loss_0_4__0_4_1/split_2/train/image/_36_training_8.png (deflated 5%)\n",
            "  adding: drive_256_256_dice_loss_0_4__0_4_1/split_2/train/image/_39_training_4.png (deflated 2%)\n",
            "  adding: drive_256_256_dice_loss_0_4__0_4_1/split_2/train/image/_21_training_3.png (deflated 1%)\n",
            "  adding: drive_256_256_dice_loss_0_4__0_4_1/split_2/train/image/_24_training_3.png (deflated 2%)\n",
            "  adding: drive_256_256_dice_loss_0_4__0_4_1/split_2/train/image/_39_training_2.png (deflated 5%)\n",
            "  adding: drive_256_256_dice_loss_0_4__0_4_1/split_2/train/image/_22_training_4.png (deflated 1%)\n",
            "  adding: drive_256_256_dice_loss_0_4__0_4_1/split_2/train/image/_29_training_0.png (deflated 6%)\n",
            "  adding: drive_256_256_dice_loss_0_4__0_4_1/split_2/train/image/_30_training_6.png (deflated 5%)\n",
            "  adding: drive_256_256_dice_loss_0_4__0_4_1/split_2/train/image/_35_training_1.png (deflated 2%)\n",
            "  adding: drive_256_256_dice_loss_0_4__0_4_1/split_2/train/image/_40_training_6.png (deflated 5%)\n",
            "  adding: drive_256_256_dice_loss_0_4__0_4_1/split_2/train/image/_31_training_3.png (deflated 2%)\n",
            "  adding: drive_256_256_dice_loss_0_4__0_4_1/split_2/train/image/_23_training_1.png (deflated 2%)\n",
            "  adding: drive_256_256_dice_loss_0_4__0_4_1/split_2/train/image/_25_training_1.png (deflated 3%)\n",
            "  adding: drive_256_256_dice_loss_0_4__0_4_1/split_2/train/image/_29_training_8.png (deflated 5%)\n",
            "  adding: drive_256_256_dice_loss_0_4__0_4_1/split_2/train/image/_31_training_6.png (deflated 4%)\n",
            "  adding: drive_256_256_dice_loss_0_4__0_4_1/split_2/train/image/_23_training_4.png (deflated 3%)\n",
            "  adding: drive_256_256_dice_loss_0_4__0_4_1/split_2/train/image/_38_training_5.png (deflated 1%)\n",
            "  adding: drive_256_256_dice_loss_0_4__0_4_1/split_2/train/image/_33_training_5.png (deflated 1%)\n",
            "  adding: drive_256_256_dice_loss_0_4__0_4_1/split_2/train/image/_38_training_7.png (deflated 2%)\n",
            "  adding: drive_256_256_dice_loss_0_4__0_4_1/split_2/train/image/_36_training_7.png (deflated 2%)\n",
            "  adding: drive_256_256_dice_loss_0_4__0_4_1/split_2/train/image/_28_training_3.png (deflated 3%)\n",
            "  adding: drive_256_256_dice_loss_0_4__0_4_1/split_2/train/image/_34_training_1.png (deflated 2%)\n",
            "  adding: drive_256_256_dice_loss_0_4__0_4_1/split_2/train/image/_29_training_6.png (deflated 5%)\n",
            "  adding: drive_256_256_dice_loss_0_4__0_4_1/split_2/train/image/_23_training_6.png (deflated 5%)\n",
            "  adding: drive_256_256_dice_loss_0_4__0_4_1/split_2/train/image/_33_training_6.png (deflated 5%)\n",
            "  adding: drive_256_256_dice_loss_0_4__0_4_1/split_2/train/image/_27_training_2.png (deflated 6%)\n",
            "  adding: drive_256_256_dice_loss_0_4__0_4_1/split_2/train/image/_40_training_0.png (deflated 5%)\n",
            "  adding: drive_256_256_dice_loss_0_4__0_4_1/split_2/train/image/_22_training_5.png (deflated 1%)\n",
            "  adding: drive_256_256_dice_loss_0_4__0_4_1/split_2/train/image/_35_training_7.png (deflated 2%)\n",
            "  adding: drive_256_256_dice_loss_0_4__0_4_1/split_2/train/image/_31_training_5.png (deflated 1%)\n",
            "  adding: drive_256_256_dice_loss_0_4__0_4_1/split_2/train/image/_31_training_1.png (deflated 2%)\n",
            "  adding: drive_256_256_dice_loss_0_4__0_4_1/split_2/train/image/_36_training_2.png (deflated 5%)\n",
            "  adding: drive_256_256_dice_loss_0_4__0_4_1/split_2/train/image/_33_training_3.png (deflated 2%)\n",
            "  adding: drive_256_256_dice_loss_0_4__0_4_1/split_2/train/image/_22_training_1.png (deflated 3%)\n",
            "  adding: drive_256_256_dice_loss_0_4__0_4_1/split_2/train/image/_27_training_4.png (deflated 1%)\n",
            "  adding: drive_256_256_dice_loss_0_4__0_4_1/split_2/train/image/_28_training_4.png (deflated 2%)\n",
            "  adding: drive_256_256_dice_loss_0_4__0_4_1/split_2/train/image/_30_training_7.png (deflated 2%)\n",
            "  adding: drive_256_256_dice_loss_0_4__0_4_1/split_2/train/image/_21_training_6.png (deflated 4%)\n",
            "  adding: drive_256_256_dice_loss_0_4__0_4_1/split_2/train/image/_40_training_1.png (deflated 3%)\n",
            "  adding: drive_256_256_dice_loss_0_4__0_4_1/split_2/train/image/_35_training_4.png (deflated 2%)\n",
            "  adding: drive_256_256_dice_loss_0_4__0_4_1/split_2/train/image/_30_training_2.png (deflated 6%)\n",
            "  adding: drive_256_256_dice_loss_0_4__0_4_1/split_2/train/image/_33_training_4.png (deflated 2%)\n",
            "  adding: drive_256_256_dice_loss_0_4__0_4_1/split_2/train/image/_34_training_4.png (deflated 0%)\n",
            "  adding: drive_256_256_dice_loss_0_4__0_4_1/split_2/train/image/_22_training_7.png (deflated 2%)\n",
            "  adding: drive_256_256_dice_loss_0_4__0_4_1/split_2/train/image/_35_training_5.png (deflated 3%)\n",
            "  adding: drive_256_256_dice_loss_0_4__0_4_1/split_2/train/image/_29_training_1.png (deflated 3%)\n",
            "  adding: drive_256_256_dice_loss_0_4__0_4_1/split_2/train/image/_22_training_0.png (deflated 5%)\n",
            "  adding: drive_256_256_dice_loss_0_4__0_4_1/split_2/train/image/_22_training_8.png (deflated 4%)\n",
            "  adding: drive_256_256_dice_loss_0_4__0_4_1/split_2/train/image/_26_training_7.png (deflated 2%)\n",
            "  adding: drive_256_256_dice_loss_0_4__0_4_1/split_2/train/image/_21_training_4.png (deflated 2%)\n",
            "  adding: drive_256_256_dice_loss_0_4__0_4_1/split_2/train/image/_40_training_2.png (deflated 5%)\n",
            "  adding: drive_256_256_dice_loss_0_4__0_4_1/split_2/train/image/_24_training_7.png (deflated 1%)\n",
            "  adding: drive_256_256_dice_loss_0_4__0_4_1/split_2/train/image/_32_training_3.png (deflated 2%)\n",
            "  adding: drive_256_256_dice_loss_0_4__0_4_1/split_2/train/image/_38_training_0.png (deflated 5%)\n",
            "  adding: drive_256_256_dice_loss_0_4__0_4_1/split_2/train/image/_37_training_8.png (deflated 5%)\n",
            "  adding: drive_256_256_dice_loss_0_4__0_4_1/split_2/train/image/_32_training_1.png (deflated 3%)\n",
            "  adding: drive_256_256_dice_loss_0_4__0_4_1/split_2/train/image/_21_training_0.png (deflated 4%)\n",
            "  adding: drive_256_256_dice_loss_0_4__0_4_1/split_2/train/image/_40_training_5.png (deflated 2%)\n",
            "  adding: drive_256_256_dice_loss_0_4__0_4_1/split_2/train/image/_27_training_5.png (deflated 1%)\n",
            "  adding: drive_256_256_dice_loss_0_4__0_4_1/split_2/train/image/_30_training_4.png (deflated 2%)\n",
            "  adding: drive_256_256_dice_loss_0_4__0_4_1/split_2/train/image/_24_training_8.png (deflated 4%)\n",
            "  adding: drive_256_256_dice_loss_0_4__0_4_1/split_2/train/image/_35_training_3.png (deflated 1%)\n",
            "  adding: drive_256_256_dice_loss_0_4__0_4_1/split_2/train/image/_21_training_1.png (deflated 2%)\n",
            "  adding: drive_256_256_dice_loss_0_4__0_4_1/split_2/train/image/_26_training_1.png (deflated 3%)\n",
            "  adding: drive_256_256_dice_loss_0_4__0_4_1/split_2/train/image/_33_training_8.png (deflated 4%)\n",
            "  adding: drive_256_256_dice_loss_0_4__0_4_1/split_2/train/image/_27_training_0.png (deflated 6%)\n",
            "  adding: drive_256_256_dice_loss_0_4__0_4_1/split_2/train/image/_30_training_0.png (deflated 6%)\n",
            "  adding: drive_256_256_dice_loss_0_4__0_4_1/split_2/train/image/_25_training_7.png (deflated 2%)\n",
            "  adding: drive_256_256_dice_loss_0_4__0_4_1/split_2/train/image/_28_training_8.png (deflated 4%)\n",
            "  adding: drive_256_256_dice_loss_0_4__0_4_1/split_2/train/image/_40_training_4.png (deflated 2%)\n",
            "  adding: drive_256_256_dice_loss_0_4__0_4_1/split_2/train/image/_25_training_6.png (deflated 5%)\n",
            "  adding: drive_256_256_dice_loss_0_4__0_4_1/split_2/train/image/_32_training_2.png (deflated 6%)\n",
            "  adding: drive_256_256_dice_loss_0_4__0_4_1/split_2/train/image/_32_training_7.png (deflated 2%)\n",
            "  adding: drive_256_256_dice_loss_0_4__0_4_1/split_2/train/image/_30_training_8.png (deflated 5%)\n",
            "  adding: drive_256_256_dice_loss_0_4__0_4_1/split_2/train/image/_31_training_8.png (deflated 4%)\n",
            "  adding: drive_256_256_dice_loss_0_4__0_4_1/split_2/train/image/_26_training_2.png (deflated 6%)\n",
            "  adding: drive_256_256_dice_loss_0_4__0_4_1/split_2/train/image/_23_training_7.png (deflated 1%)\n",
            "  adding: drive_256_256_dice_loss_0_4__0_4_1/split_2/train/image/_28_training_1.png (deflated 2%)\n",
            "  adding: drive_256_256_dice_loss_0_4__0_4_1/split_2/train/image/_27_training_7.png (deflated 1%)\n",
            "  adding: drive_256_256_dice_loss_0_4__0_4_1/split_2/train/image/_38_training_2.png (deflated 5%)\n",
            "  adding: drive_256_256_dice_loss_0_4__0_4_1/split_2/train/image/_28_training_5.png (deflated 1%)\n",
            "  adding: drive_256_256_dice_loss_0_4__0_4_1/split_2/train/image/_32_training_5.png (deflated 1%)\n",
            "  adding: drive_256_256_dice_loss_0_4__0_4_1/split_2/train/image/_26_training_0.png (deflated 5%)\n",
            "  adding: drive_256_256_dice_loss_0_4__0_4_1/split_2/train/image/_37_training_0.png (deflated 5%)\n",
            "  adding: drive_256_256_dice_loss_0_4__0_4_1/split_2/train/image/_34_training_5.png (deflated 2%)\n",
            "  adding: drive_256_256_dice_loss_0_4__0_4_1/split_2/train/image/_35_training_6.png (deflated 4%)\n",
            "  adding: drive_256_256_dice_loss_0_4__0_4_1/split_2/train/image/_40_training_7.png (deflated 3%)\n",
            "  adding: drive_256_256_dice_loss_0_4__0_4_1/split_2/train/image/_27_training_1.png (deflated 3%)\n",
            "  adding: drive_256_256_dice_loss_0_4__0_4_1/split_2/train/image/_26_training_3.png (deflated 1%)\n",
            "  adding: drive_256_256_dice_loss_0_4__0_4_1/split_2/train/image/_21_training_7.png (deflated 2%)\n",
            "  adding: drive_256_256_dice_loss_0_4__0_4_1/split_2/train/image/_37_training_3.png (deflated 2%)\n",
            "  adding: drive_256_256_dice_loss_0_4__0_4_1/split_2/train/image/_24_training_5.png (deflated 1%)\n",
            "  adding: drive_256_256_dice_loss_0_4__0_4_1/split_2/train/image/_36_training_3.png (deflated 2%)\n",
            "  adding: drive_256_256_dice_loss_0_4__0_4_1/split_2/train/image/_40_training_8.png (deflated 5%)\n",
            "  adding: drive_256_256_dice_loss_0_4__0_4_1/split_2/train/image/_35_training_8.png (deflated 5%)\n",
            "  adding: drive_256_256_dice_loss_0_4__0_4_1/split_2/train/image/_34_training_8.png (deflated 5%)\n",
            "  adding: drive_256_256_dice_loss_0_4__0_4_1/split_2/train/image/_26_training_6.png (deflated 5%)\n",
            "  adding: drive_256_256_dice_loss_0_4__0_4_1/split_2/train/image/_22_training_3.png (deflated 2%)\n",
            "  adding: drive_256_256_dice_loss_0_4__0_4_1/split_2/train/image/_38_training_6.png (deflated 5%)\n",
            "  adding: drive_256_256_dice_loss_0_4__0_4_1/split_2/train/image/_35_training_2.png (deflated 6%)\n",
            "  adding: drive_256_256_dice_loss_0_4__0_4_1/split_2/train/image/_25_training_4.png (deflated 2%)\n",
            "  adding: drive_256_256_dice_loss_0_4__0_4_1/split_2/train/image/_37_training_6.png (deflated 4%)\n",
            "  adding: drive_256_256_dice_loss_0_4__0_4_1/split_2/train/image/_30_training_3.png (deflated 2%)\n",
            "  adding: drive_256_256_dice_loss_0_4__0_4_1/split_2/train/image/_22_training_6.png (deflated 5%)\n",
            "  adding: drive_256_256_dice_loss_0_4__0_4_1/split_2/train/image/_37_training_1.png (deflated 2%)\n",
            "  adding: drive_256_256_dice_loss_0_4__0_4_1/split_2/train/image/_21_training_2.png (deflated 5%)\n",
            "  adding: drive_256_256_dice_loss_0_4__0_4_1/split_2/train/image/_39_training_8.png (deflated 5%)\n",
            "  adding: drive_256_256_dice_loss_0_4__0_4_1/split_2/train/image/_28_training_2.png (deflated 5%)\n",
            "  adding: drive_256_256_dice_loss_0_4__0_4_1/split_2/train/image/_21_training_8.png (deflated 5%)\n",
            "  adding: drive_256_256_dice_loss_0_4__0_4_1/split_2/train/image/_29_training_3.png (deflated 3%)\n",
            "  adding: drive_256_256_dice_loss_0_4__0_4_1/split_2/train/image/_39_training_3.png (deflated 1%)\n",
            "  adding: drive_256_256_dice_loss_0_4__0_4_1/split_2/train/image/_34_training_6.png (deflated 5%)\n",
            "  adding: drive_256_256_dice_loss_0_4__0_4_1/split_2/train/image/_32_training_6.png (deflated 4%)\n",
            "  adding: drive_256_256_dice_loss_0_4__0_4_1/split_2/train/image/_23_training_5.png (deflated 1%)\n",
            "  adding: drive_256_256_dice_loss_0_4__0_4_1/split_2/train/image/_33_training_0.png (deflated 5%)\n",
            "  adding: drive_256_256_dice_loss_0_4__0_4_1/split_2/train/image/_37_training_2.png (deflated 6%)\n",
            "  adding: drive_256_256_dice_loss_0_4__0_4_1/split_2/train/image/_37_training_7.png (deflated 2%)\n",
            "  adding: drive_256_256_dice_loss_0_4__0_4_1/split_2/train/image/_36_training_4.png (deflated 2%)\n",
            "  adding: drive_256_256_dice_loss_0_4__0_4_1/split_2/train/image/_25_training_0.png (deflated 6%)\n",
            "  adding: drive_256_256_dice_loss_0_4__0_4_1/split_2/train/image/_33_training_7.png (deflated 2%)\n",
            "  adding: drive_256_256_dice_loss_0_4__0_4_1/split_2/train/image/_25_training_5.png (deflated 1%)\n",
            "  adding: drive_256_256_dice_loss_0_4__0_4_1/split_2/train/image/_23_training_3.png (deflated 3%)\n",
            "  adding: drive_256_256_dice_loss_0_4__0_4_1/split_2/train/image/_31_training_4.png (deflated 0%)\n",
            "  adding: drive_256_256_dice_loss_0_4__0_4_1/split_2/train/image/_29_training_7.png (deflated 3%)\n",
            "  adding: drive_256_256_dice_loss_0_4__0_4_1/split_2/train/image/_38_training_4.png (deflated 2%)\n",
            "  adding: drive_256_256_dice_loss_0_4__0_4_1/split_2/train/image/_39_training_1.png (deflated 2%)\n",
            "  adding: drive_256_256_dice_loss_0_4__0_4_1/split_2/train/image/_27_training_3.png (deflated 2%)\n",
            "  adding: drive_256_256_dice_loss_0_4__0_4_1/split_2/train/image/_34_training_2.png (deflated 6%)\n",
            "  adding: drive_256_256_dice_loss_0_4__0_4_1/split_2/train/image/_39_training_7.png (deflated 2%)\n",
            "  adding: drive_256_256_dice_loss_0_4__0_4_1/split_2/train/image/_28_training_6.png (deflated 5%)\n",
            "  adding: drive_256_256_dice_loss_0_4__0_4_1/split_2/train/image/_30_training_1.png (deflated 2%)\n",
            "  adding: drive_256_256_dice_loss_0_4__0_4_1/split_2/train/image/_27_training_6.png (deflated 4%)\n",
            "  adding: drive_256_256_dice_loss_0_4__0_4_1/results_reconstructed/ (stored 0%)\n",
            "  adding: drive_256_256_dice_loss_0_4__0_4_1/test/ (stored 0%)\n",
            "  adding: drive_256_256_dice_loss_0_4__0_4_1/test/1st_manual/ (stored 0%)\n",
            "  adding: drive_256_256_dice_loss_0_4__0_4_1/test/1st_manual/15_manual1.gif (stored 0%)\n",
            "  adding: drive_256_256_dice_loss_0_4__0_4_1/test/1st_manual/03_manual1.gif (stored 0%)\n",
            "  adding: drive_256_256_dice_loss_0_4__0_4_1/test/1st_manual/08_manual1.gif (stored 0%)\n",
            "  adding: drive_256_256_dice_loss_0_4__0_4_1/test/1st_manual/01_manual1.gif (stored 0%)\n",
            "  adding: drive_256_256_dice_loss_0_4__0_4_1/test/1st_manual/06_manual1.gif (stored 0%)\n",
            "  adding: drive_256_256_dice_loss_0_4__0_4_1/test/1st_manual/05_manual1.gif (stored 0%)\n",
            "  adding: drive_256_256_dice_loss_0_4__0_4_1/test/1st_manual/19_manual1.gif (stored 0%)\n",
            "  adding: drive_256_256_dice_loss_0_4__0_4_1/test/1st_manual/10_manual1.gif (stored 0%)\n",
            "  adding: drive_256_256_dice_loss_0_4__0_4_1/test/1st_manual/02_manual1.gif (stored 0%)\n",
            "  adding: drive_256_256_dice_loss_0_4__0_4_1/test/1st_manual/20_manual1.gif (stored 0%)\n",
            "  adding: drive_256_256_dice_loss_0_4__0_4_1/test/1st_manual/04_manual1.gif (stored 0%)\n",
            "  adding: drive_256_256_dice_loss_0_4__0_4_1/test/1st_manual/13_manual1.gif (stored 0%)\n",
            "  adding: drive_256_256_dice_loss_0_4__0_4_1/test/1st_manual/07_manual1.gif (stored 0%)\n",
            "  adding: drive_256_256_dice_loss_0_4__0_4_1/test/1st_manual/12_manual1.gif (stored 0%)\n",
            "  adding: drive_256_256_dice_loss_0_4__0_4_1/test/1st_manual/18_manual1.gif (stored 0%)\n",
            "  adding: drive_256_256_dice_loss_0_4__0_4_1/test/1st_manual/14_manual1.gif (stored 0%)\n",
            "  adding: drive_256_256_dice_loss_0_4__0_4_1/test/1st_manual/17_manual1.gif (stored 0%)\n",
            "  adding: drive_256_256_dice_loss_0_4__0_4_1/test/1st_manual/16_manual1.gif (stored 0%)\n",
            "  adding: drive_256_256_dice_loss_0_4__0_4_1/test/1st_manual/11_manual1.gif (stored 0%)\n",
            "  adding: drive_256_256_dice_loss_0_4__0_4_1/test/1st_manual/09_manual1.gif (stored 0%)\n",
            "  adding: drive_256_256_dice_loss_0_4__0_4_1/test/images/ (stored 0%)\n",
            "  adding: drive_256_256_dice_loss_0_4__0_4_1/test/images/11_test.tif (deflated 2%)\n",
            "  adding: drive_256_256_dice_loss_0_4__0_4_1/test/images/20_test.tif (deflated 2%)\n",
            "  adding: drive_256_256_dice_loss_0_4__0_4_1/test/images/06_test.tif (deflated 2%)\n",
            "  adding: drive_256_256_dice_loss_0_4__0_4_1/test/images/13_test.tif (deflated 2%)\n",
            "  adding: drive_256_256_dice_loss_0_4__0_4_1/test/images/17_test.tif (deflated 2%)\n",
            "  adding: drive_256_256_dice_loss_0_4__0_4_1/test/images/09_test.tif (deflated 2%)\n",
            "  adding: drive_256_256_dice_loss_0_4__0_4_1/test/images/02_test.tif (deflated 2%)\n",
            "  adding: drive_256_256_dice_loss_0_4__0_4_1/test/images/07_test.tif (deflated 3%)\n",
            "  adding: drive_256_256_dice_loss_0_4__0_4_1/test/images/19_test.tif (deflated 3%)\n",
            "  adding: drive_256_256_dice_loss_0_4__0_4_1/test/images/08_test.tif (deflated 2%)\n",
            "  adding: drive_256_256_dice_loss_0_4__0_4_1/test/images/01_test.tif (deflated 2%)\n",
            "  adding: drive_256_256_dice_loss_0_4__0_4_1/test/images/05_test.tif (deflated 2%)\n",
            "  adding: drive_256_256_dice_loss_0_4__0_4_1/test/images/18_test.tif (deflated 2%)\n",
            "  adding: drive_256_256_dice_loss_0_4__0_4_1/test/images/10_test.tif (deflated 3%)\n",
            "  adding: drive_256_256_dice_loss_0_4__0_4_1/test/images/04_test.tif (deflated 3%)\n",
            "  adding: drive_256_256_dice_loss_0_4__0_4_1/test/images/03_test.tif (deflated 3%)\n",
            "  adding: drive_256_256_dice_loss_0_4__0_4_1/test/images/15_test.tif (deflated 3%)\n",
            "  adding: drive_256_256_dice_loss_0_4__0_4_1/test/images/12_test.tif (deflated 2%)\n",
            "  adding: drive_256_256_dice_loss_0_4__0_4_1/test/images/14_test.tif (deflated 2%)\n",
            "  adding: drive_256_256_dice_loss_0_4__0_4_1/test/images/16_test.tif (deflated 2%)\n",
            "  adding: drive_256_256_dice_loss_0_4__0_4_1/results/ (stored 0%)\n",
            "  adding: drive_256_256_dice_loss_0_4__0_4_1/results/_09_test_2.png (deflated 13%)\n",
            "  adding: drive_256_256_dice_loss_0_4__0_4_1/results/_06_test_2.png (deflated 13%)\n",
            "  adding: drive_256_256_dice_loss_0_4__0_4_1/results/_07_test_5.png (deflated 6%)\n",
            "  adding: drive_256_256_dice_loss_0_4__0_4_1/results/_10_test_4.png (deflated 6%)\n",
            "  adding: drive_256_256_dice_loss_0_4__0_4_1/results/_03_test_6.png (deflated 17%)\n",
            "  adding: drive_256_256_dice_loss_0_4__0_4_1/results/_15_test_0.png (deflated 12%)\n",
            "  adding: drive_256_256_dice_loss_0_4__0_4_1/results/_03_test_2.png (deflated 17%)\n",
            "  adding: drive_256_256_dice_loss_0_4__0_4_1/results/_16_test_7.png (deflated 6%)\n",
            "  adding: drive_256_256_dice_loss_0_4__0_4_1/results/_11_test_8.png (deflated 11%)\n",
            "  adding: drive_256_256_dice_loss_0_4__0_4_1/results/_11_test_5.png (deflated 7%)\n",
            "  adding: drive_256_256_dice_loss_0_4__0_4_1/results/_10_test_5.png (deflated 7%)\n",
            "  adding: drive_256_256_dice_loss_0_4__0_4_1/results/_06_test_8.png (deflated 11%)\n",
            "  adding: drive_256_256_dice_loss_0_4__0_4_1/results/_02_test_7.png (deflated 6%)\n",
            "  adding: drive_256_256_dice_loss_0_4__0_4_1/results/_14_test_0.png (deflated 13%)\n",
            "  adding: drive_256_256_dice_loss_0_4__0_4_1/results/_18_test_7.png (deflated 6%)\n",
            "  adding: drive_256_256_dice_loss_0_4__0_4_1/results/_09_test_5.png (deflated 6%)\n",
            "  adding: drive_256_256_dice_loss_0_4__0_4_1/results/_15_test_3.png (deflated 5%)\n",
            "  adding: drive_256_256_dice_loss_0_4__0_4_1/results/_03_test_0.png (deflated 17%)\n",
            "  adding: drive_256_256_dice_loss_0_4__0_4_1/results/_02_test_0.png (deflated 11%)\n",
            "  adding: drive_256_256_dice_loss_0_4__0_4_1/results/_20_test_3.png (deflated 6%)\n",
            "  adding: drive_256_256_dice_loss_0_4__0_4_1/results/_09_test_3.png (deflated 6%)\n",
            "  adding: drive_256_256_dice_loss_0_4__0_4_1/results/_01_test_7.png (deflated 7%)\n",
            "  adding: drive_256_256_dice_loss_0_4__0_4_1/results/_03_test_5.png (deflated 7%)\n",
            "  adding: drive_256_256_dice_loss_0_4__0_4_1/results/_01_test_5.png (deflated 7%)\n",
            "  adding: drive_256_256_dice_loss_0_4__0_4_1/results/_12_test_7.png (deflated 6%)\n",
            "  adding: drive_256_256_dice_loss_0_4__0_4_1/results/_16_test_4.png (deflated 7%)\n",
            "  adding: drive_256_256_dice_loss_0_4__0_4_1/results/_12_test_4.png (deflated 6%)\n",
            "  adding: drive_256_256_dice_loss_0_4__0_4_1/results/_20_test_1.png (deflated 7%)\n",
            "  adding: drive_256_256_dice_loss_0_4__0_4_1/results/_13_test_7.png (deflated 6%)\n",
            "  adding: drive_256_256_dice_loss_0_4__0_4_1/results/_07_test_3.png (deflated 5%)\n",
            "  adding: drive_256_256_dice_loss_0_4__0_4_1/results/_12_test_8.png (deflated 11%)\n",
            "  adding: drive_256_256_dice_loss_0_4__0_4_1/results/_08_test_3.png (deflated 5%)\n",
            "  adding: drive_256_256_dice_loss_0_4__0_4_1/results/_12_test_2.png (deflated 13%)\n",
            "  adding: drive_256_256_dice_loss_0_4__0_4_1/results/_11_test_2.png (deflated 14%)\n",
            "  adding: drive_256_256_dice_loss_0_4__0_4_1/results/_09_test_0.png (deflated 13%)\n",
            "  adding: drive_256_256_dice_loss_0_4__0_4_1/results/_05_test_0.png (deflated 13%)\n",
            "  adding: drive_256_256_dice_loss_0_4__0_4_1/results/_19_test_4.png (deflated 6%)\n",
            "  adding: drive_256_256_dice_loss_0_4__0_4_1/results/_15_test_4.png (deflated 4%)\n",
            "  adding: drive_256_256_dice_loss_0_4__0_4_1/results/_03_test_3.png (deflated 7%)\n",
            "  adding: drive_256_256_dice_loss_0_4__0_4_1/results/_17_test_4.png (deflated 5%)\n",
            "  adding: drive_256_256_dice_loss_0_4__0_4_1/results/_17_test_2.png (deflated 13%)\n",
            "  adding: drive_256_256_dice_loss_0_4__0_4_1/results/_13_test_1.png (deflated 7%)\n",
            "  adding: drive_256_256_dice_loss_0_4__0_4_1/results/_15_test_1.png (deflated 8%)\n",
            "  adding: drive_256_256_dice_loss_0_4__0_4_1/results/_11_test_6.png (deflated 10%)\n",
            "  adding: drive_256_256_dice_loss_0_4__0_4_1/results/_17_test_8.png (deflated 11%)\n",
            "  adding: drive_256_256_dice_loss_0_4__0_4_1/results/_05_test_3.png (deflated 6%)\n",
            "  adding: drive_256_256_dice_loss_0_4__0_4_1/results/_14_test_8.png (deflated 11%)\n",
            "  adding: drive_256_256_dice_loss_0_4__0_4_1/results/_17_test_3.png (deflated 5%)\n",
            "  adding: drive_256_256_dice_loss_0_4__0_4_1/results/_20_test_6.png (deflated 11%)\n",
            "  adding: drive_256_256_dice_loss_0_4__0_4_1/results/_20_test_7.png (deflated 7%)\n",
            "  adding: drive_256_256_dice_loss_0_4__0_4_1/results/_07_test_2.png (deflated 12%)\n",
            "  adding: drive_256_256_dice_loss_0_4__0_4_1/results/_19_test_2.png (deflated 13%)\n",
            "  adding: drive_256_256_dice_loss_0_4__0_4_1/results/_07_test_1.png (deflated 8%)\n",
            "  adding: drive_256_256_dice_loss_0_4__0_4_1/results/_07_test_7.png (deflated 6%)\n",
            "  adding: drive_256_256_dice_loss_0_4__0_4_1/results/_04_test_0.png (deflated 12%)\n",
            "  adding: drive_256_256_dice_loss_0_4__0_4_1/results/_19_test_3.png (deflated 6%)\n",
            "  adding: drive_256_256_dice_loss_0_4__0_4_1/results/_15_test_5.png (deflated 6%)\n",
            "  adding: drive_256_256_dice_loss_0_4__0_4_1/results/_13_test_3.png (deflated 6%)\n",
            "  adding: drive_256_256_dice_loss_0_4__0_4_1/results/_20_test_0.png (deflated 13%)\n",
            "  adding: drive_256_256_dice_loss_0_4__0_4_1/results/_03_test_7.png (deflated 7%)\n",
            "  adding: drive_256_256_dice_loss_0_4__0_4_1/results/_10_test_8.png (deflated 12%)\n",
            "  adding: drive_256_256_dice_loss_0_4__0_4_1/results/_04_test_2.png (deflated 12%)\n",
            "  adding: drive_256_256_dice_loss_0_4__0_4_1/results/score.csv (deflated 63%)\n",
            "  adding: drive_256_256_dice_loss_0_4__0_4_1/results/_02_test_1.png (deflated 7%)\n",
            "  adding: drive_256_256_dice_loss_0_4__0_4_1/results/_07_test_4.png (deflated 5%)\n",
            "  adding: drive_256_256_dice_loss_0_4__0_4_1/results/_16_test_6.png (deflated 11%)\n",
            "  adding: drive_256_256_dice_loss_0_4__0_4_1/results/_18_test_6.png (deflated 12%)\n",
            "  adding: drive_256_256_dice_loss_0_4__0_4_1/results/_16_test_0.png (deflated 12%)\n",
            "  adding: drive_256_256_dice_loss_0_4__0_4_1/results/_06_test_5.png (deflated 7%)\n",
            "  adding: drive_256_256_dice_loss_0_4__0_4_1/results/_02_test_8.png (deflated 11%)\n",
            "  adding: drive_256_256_dice_loss_0_4__0_4_1/results/_07_test_0.png (deflated 11%)\n",
            "  adding: drive_256_256_dice_loss_0_4__0_4_1/results/_10_test_2.png (deflated 14%)\n",
            "  adding: drive_256_256_dice_loss_0_4__0_4_1/results/score_full_0_5.csv (deflated 64%)\n",
            "  adding: drive_256_256_dice_loss_0_4__0_4_1/results/_12_test_5.png (deflated 6%)\n",
            "  adding: drive_256_256_dice_loss_0_4__0_4_1/results/_09_test_6.png (deflated 12%)\n",
            "  adding: drive_256_256_dice_loss_0_4__0_4_1/results/_10_test_7.png (deflated 7%)\n",
            "  adding: drive_256_256_dice_loss_0_4__0_4_1/results/_18_test_3.png (deflated 5%)\n",
            "  adding: drive_256_256_dice_loss_0_4__0_4_1/results/_16_test_5.png (deflated 7%)\n",
            "  adding: drive_256_256_dice_loss_0_4__0_4_1/results/_20_test_8.png (deflated 12%)\n",
            "  adding: drive_256_256_dice_loss_0_4__0_4_1/results/_04_test_3.png (deflated 5%)\n",
            "  adding: drive_256_256_dice_loss_0_4__0_4_1/results/_02_test_5.png (deflated 6%)\n",
            "  adding: drive_256_256_dice_loss_0_4__0_4_1/results/_14_test_7.png (deflated 5%)\n",
            "  adding: drive_256_256_dice_loss_0_4__0_4_1/results/_08_test_0.png (deflated 12%)\n",
            "  adding: drive_256_256_dice_loss_0_4__0_4_1/results/_13_test_8.png (deflated 10%)\n",
            "  adding: drive_256_256_dice_loss_0_4__0_4_1/results/_18_test_4.png (deflated 5%)\n",
            "  adding: drive_256_256_dice_loss_0_4__0_4_1/results/_14_test_6.png (deflated 12%)\n",
            "  adding: drive_256_256_dice_loss_0_4__0_4_1/results/_08_test_1.png (deflated 8%)\n",
            "  adding: drive_256_256_dice_loss_0_4__0_4_1/results/_01_test_3.png (deflated 7%)\n",
            "  adding: drive_256_256_dice_loss_0_4__0_4_1/results/_11_test_3.png (deflated 5%)\n",
            "  adding: drive_256_256_dice_loss_0_4__0_4_1/results/_10_test_0.png (deflated 13%)\n",
            "  adding: drive_256_256_dice_loss_0_4__0_4_1/results/_16_test_3.png (deflated 6%)\n",
            "  adding: drive_256_256_dice_loss_0_4__0_4_1/results/_04_test_1.png (deflated 8%)\n",
            "  adding: drive_256_256_dice_loss_0_4__0_4_1/results/_17_test_1.png (deflated 7%)\n",
            "  adding: drive_256_256_dice_loss_0_4__0_4_1/results/_08_test_2.png (deflated 14%)\n",
            "  adding: drive_256_256_dice_loss_0_4__0_4_1/results/_04_test_6.png (deflated 12%)\n",
            "  adding: drive_256_256_dice_loss_0_4__0_4_1/results/_13_test_6.png (deflated 11%)\n",
            "  adding: drive_256_256_dice_loss_0_4__0_4_1/results/_18_test_5.png (deflated 6%)\n",
            "  adding: drive_256_256_dice_loss_0_4__0_4_1/results/_18_test_1.png (deflated 7%)\n",
            "  adding: drive_256_256_dice_loss_0_4__0_4_1/results/_16_test_2.png (deflated 13%)\n",
            "  adding: drive_256_256_dice_loss_0_4__0_4_1/results/score_full_0_6.csv (deflated 64%)\n",
            "  adding: drive_256_256_dice_loss_0_4__0_4_1/results/_13_test_5.png (deflated 6%)\n",
            "  adding: drive_256_256_dice_loss_0_4__0_4_1/results/_15_test_7.png (deflated 7%)\n",
            "  adding: drive_256_256_dice_loss_0_4__0_4_1/results/_09_test_8.png (deflated 12%)\n",
            "  adding: drive_256_256_dice_loss_0_4__0_4_1/results/score_full_0_4.csv (deflated 64%)\n",
            "  adding: drive_256_256_dice_loss_0_4__0_4_1/results/_19_test_0.png (deflated 12%)\n",
            "  adding: drive_256_256_dice_loss_0_4__0_4_1/results/_14_test_5.png (deflated 6%)\n",
            "  adding: drive_256_256_dice_loss_0_4__0_4_1/results/_11_test_4.png (deflated 5%)\n",
            "  adding: drive_256_256_dice_loss_0_4__0_4_1/results/_17_test_7.png (deflated 6%)\n",
            "  adding: drive_256_256_dice_loss_0_4__0_4_1/results/_04_test_5.png (deflated 5%)\n",
            "  adding: drive_256_256_dice_loss_0_4__0_4_1/results/_16_test_8.png (deflated 12%)\n",
            "  adding: drive_256_256_dice_loss_0_4__0_4_1/results/_18_test_0.png (deflated 12%)\n",
            "  adding: drive_256_256_dice_loss_0_4__0_4_1/results/_02_test_3.png (deflated 5%)\n",
            "  adding: drive_256_256_dice_loss_0_4__0_4_1/results/_01_test_4.png (deflated 6%)\n",
            "  adding: drive_256_256_dice_loss_0_4__0_4_1/results/_18_test_2.png (deflated 12%)\n",
            "  adding: drive_256_256_dice_loss_0_4__0_4_1/results/_03_test_4.png (deflated 6%)\n",
            "  adding: drive_256_256_dice_loss_0_4__0_4_1/results/_08_test_8.png (deflated 12%)\n",
            "  adding: drive_256_256_dice_loss_0_4__0_4_1/results/_16_test_1.png (deflated 7%)\n",
            "  adding: drive_256_256_dice_loss_0_4__0_4_1/results/_09_test_7.png (deflated 7%)\n",
            "  adding: drive_256_256_dice_loss_0_4__0_4_1/results/_11_test_1.png (deflated 7%)\n",
            "  adding: drive_256_256_dice_loss_0_4__0_4_1/results/_01_test_0.png (deflated 12%)\n",
            "  adding: drive_256_256_dice_loss_0_4__0_4_1/results/_08_test_5.png (deflated 6%)\n",
            "  adding: drive_256_256_dice_loss_0_4__0_4_1/results/_15_test_6.png (deflated 10%)\n",
            "  adding: drive_256_256_dice_loss_0_4__0_4_1/results/_05_test_6.png (deflated 11%)\n",
            "  adding: drive_256_256_dice_loss_0_4__0_4_1/results/_01_test_8.png (deflated 11%)\n",
            "  adding: drive_256_256_dice_loss_0_4__0_4_1/results/_13_test_0.png (deflated 12%)\n",
            "  adding: drive_256_256_dice_loss_0_4__0_4_1/results/_20_test_5.png (deflated 7%)\n",
            "  adding: drive_256_256_dice_loss_0_4__0_4_1/results/_17_test_0.png (deflated 12%)\n",
            "  adding: drive_256_256_dice_loss_0_4__0_4_1/results/_19_test_5.png (deflated 7%)\n",
            "  adding: drive_256_256_dice_loss_0_4__0_4_1/results/_11_test_0.png (deflated 11%)\n",
            "  adding: drive_256_256_dice_loss_0_4__0_4_1/results/_19_test_1.png (deflated 7%)\n",
            "  adding: drive_256_256_dice_loss_0_4__0_4_1/results/_01_test_6.png (deflated 11%)\n",
            "  adding: drive_256_256_dice_loss_0_4__0_4_1/results/_06_test_3.png (deflated 5%)\n",
            "  adding: drive_256_256_dice_loss_0_4__0_4_1/results/_10_test_3.png (deflated 5%)\n",
            "  adding: drive_256_256_dice_loss_0_4__0_4_1/results/_17_test_5.png (deflated 6%)\n",
            "  adding: drive_256_256_dice_loss_0_4__0_4_1/results/_02_test_6.png (deflated 10%)\n",
            "  adding: drive_256_256_dice_loss_0_4__0_4_1/results/_04_test_8.png (deflated 11%)\n",
            "  adding: drive_256_256_dice_loss_0_4__0_4_1/results/_13_test_4.png (deflated 7%)\n",
            "  adding: drive_256_256_dice_loss_0_4__0_4_1/results/_09_test_4.png (deflated 6%)\n",
            "  adding: drive_256_256_dice_loss_0_4__0_4_1/results/_17_test_6.png (deflated 11%)\n",
            "  adding: drive_256_256_dice_loss_0_4__0_4_1/results/_14_test_1.png (deflated 7%)\n",
            "  adding: drive_256_256_dice_loss_0_4__0_4_1/results/_02_test_2.png (deflated 13%)\n",
            "  adding: drive_256_256_dice_loss_0_4__0_4_1/results/_19_test_7.png (deflated 6%)\n",
            "  adding: drive_256_256_dice_loss_0_4__0_4_1/results/_19_test_6.png (deflated 11%)\n",
            "  adding: drive_256_256_dice_loss_0_4__0_4_1/results/_20_test_2.png (deflated 13%)\n",
            "  adding: drive_256_256_dice_loss_0_4__0_4_1/results/_10_test_1.png (deflated 7%)\n",
            "  adding: drive_256_256_dice_loss_0_4__0_4_1/results/_05_test_7.png (deflated 7%)\n",
            "  adding: drive_256_256_dice_loss_0_4__0_4_1/results/_06_test_1.png (deflated 7%)\n",
            "  adding: drive_256_256_dice_loss_0_4__0_4_1/results/_08_test_6.png (deflated 11%)\n",
            "  adding: drive_256_256_dice_loss_0_4__0_4_1/results/_06_test_6.png (deflated 11%)\n",
            "  adding: drive_256_256_dice_loss_0_4__0_4_1/results/_06_test_7.png (deflated 7%)\n",
            "  adding: drive_256_256_dice_loss_0_4__0_4_1/results/_19_test_8.png (deflated 11%)\n",
            "  adding: drive_256_256_dice_loss_0_4__0_4_1/results/_13_test_2.png (deflated 13%)\n",
            "  adding: drive_256_256_dice_loss_0_4__0_4_1/results/_03_test_1.png (deflated 8%)\n",
            "  adding: drive_256_256_dice_loss_0_4__0_4_1/results/_06_test_0.png (deflated 12%)\n",
            "  adding: drive_256_256_dice_loss_0_4__0_4_1/results/_15_test_2.png (deflated 14%)\n",
            "  adding: drive_256_256_dice_loss_0_4__0_4_1/results/_15_test_8.png (deflated 12%)\n",
            "  adding: drive_256_256_dice_loss_0_4__0_4_1/results/_05_test_4.png (deflated 6%)\n",
            "  adding: drive_256_256_dice_loss_0_4__0_4_1/results/_05_test_8.png (deflated 12%)\n",
            "  adding: drive_256_256_dice_loss_0_4__0_4_1/results/_12_test_0.png (deflated 11%)\n",
            "  adding: drive_256_256_dice_loss_0_4__0_4_1/results/_20_test_4.png (deflated 6%)\n",
            "  adding: drive_256_256_dice_loss_0_4__0_4_1/results/_05_test_5.png (deflated 6%)\n",
            "  adding: drive_256_256_dice_loss_0_4__0_4_1/results/_04_test_4.png (deflated 4%)\n",
            "  adding: drive_256_256_dice_loss_0_4__0_4_1/results/_12_test_1.png (deflated 7%)\n",
            "  adding: drive_256_256_dice_loss_0_4__0_4_1/results/_07_test_8.png (deflated 10%)\n",
            "  adding: drive_256_256_dice_loss_0_4__0_4_1/results/_03_test_8.png (deflated 15%)\n",
            "  adding: drive_256_256_dice_loss_0_4__0_4_1/results/_09_test_1.png (deflated 7%)\n",
            "  adding: drive_256_256_dice_loss_0_4__0_4_1/results/_12_test_6.png (deflated 11%)\n",
            "  adding: drive_256_256_dice_loss_0_4__0_4_1/results/_05_test_1.png (deflated 7%)\n",
            "  adding: drive_256_256_dice_loss_0_4__0_4_1/results/_11_test_7.png (deflated 6%)\n",
            "  adding: drive_256_256_dice_loss_0_4__0_4_1/results/_02_test_4.png (deflated 6%)\n",
            "  adding: drive_256_256_dice_loss_0_4__0_4_1/results/_08_test_7.png (deflated 7%)\n",
            "  adding: drive_256_256_dice_loss_0_4__0_4_1/results/_12_test_3.png (deflated 6%)\n",
            "  adding: drive_256_256_dice_loss_0_4__0_4_1/results/_01_test_1.png (deflated 8%)\n",
            "  adding: drive_256_256_dice_loss_0_4__0_4_1/results/_14_test_2.png (deflated 11%)\n",
            "  adding: drive_256_256_dice_loss_0_4__0_4_1/results/_14_test_3.png (deflated 5%)\n",
            "  adding: drive_256_256_dice_loss_0_4__0_4_1/results/_07_test_6.png (deflated 11%)\n",
            "  adding: drive_256_256_dice_loss_0_4__0_4_1/results/_14_test_4.png (deflated 6%)\n",
            "  adding: drive_256_256_dice_loss_0_4__0_4_1/results/_08_test_4.png (deflated 5%)\n",
            "  adding: drive_256_256_dice_loss_0_4__0_4_1/results/_01_test_2.png (deflated 14%)\n",
            "  adding: drive_256_256_dice_loss_0_4__0_4_1/results/_10_test_6.png (deflated 12%)\n",
            "  adding: drive_256_256_dice_loss_0_4__0_4_1/results/_05_test_2.png (deflated 14%)\n",
            "  adding: drive_256_256_dice_loss_0_4__0_4_1/results/_06_test_4.png (deflated 6%)\n",
            "  adding: drive_256_256_dice_loss_0_4__0_4_1/results/_18_test_8.png (deflated 11%)\n",
            "  adding: drive_256_256_dice_loss_0_4__0_4_1/results/_04_test_7.png (deflated 7%)\n",
            "  adding: drive_256_256_dice_loss_0_4__0_4_1/predictions_np/ (stored 0%)\n",
            "  adding: drive_256_256_dice_loss_0_4__0_4_1/predictions_np/_20_test_7.npy (deflated 16%)\n",
            "  adding: drive_256_256_dice_loss_0_4__0_4_1/predictions_np/_17_test_8.npy (deflated 18%)\n",
            "  adding: drive_256_256_dice_loss_0_4__0_4_1/predictions_np/_03_test_5.npy (deflated 14%)\n",
            "  adding: drive_256_256_dice_loss_0_4__0_4_1/predictions_np/_03_test_0.npy (deflated 18%)\n",
            "  adding: drive_256_256_dice_loss_0_4__0_4_1/predictions_np/_15_test_8.npy (deflated 18%)\n",
            "  adding: drive_256_256_dice_loss_0_4__0_4_1/predictions_np/_13_test_7.npy (deflated 18%)\n",
            "  adding: drive_256_256_dice_loss_0_4__0_4_1/predictions_np/_20_test_6.npy (deflated 17%)\n",
            "  adding: drive_256_256_dice_loss_0_4__0_4_1/predictions_np/_11_test_4.npy (deflated 13%)\n",
            "  adding: drive_256_256_dice_loss_0_4__0_4_1/predictions_np/_01_test_7.npy (deflated 16%)\n",
            "  adding: drive_256_256_dice_loss_0_4__0_4_1/predictions_np/_14_test_1.npy (deflated 17%)\n",
            "  adding: drive_256_256_dice_loss_0_4__0_4_1/predictions_np/_11_test_7.npy (deflated 17%)\n",
            "  adding: drive_256_256_dice_loss_0_4__0_4_1/predictions_np/_16_test_2.npy (deflated 18%)\n",
            "  adding: drive_256_256_dice_loss_0_4__0_4_1/predictions_np/_11_test_5.npy (deflated 14%)\n",
            "  adding: drive_256_256_dice_loss_0_4__0_4_1/predictions_np/_10_test_1.npy (deflated 18%)\n",
            "  adding: drive_256_256_dice_loss_0_4__0_4_1/predictions_np/_09_test_8.npy (deflated 18%)\n",
            "  adding: drive_256_256_dice_loss_0_4__0_4_1/predictions_np/_11_test_6.npy (deflated 17%)\n",
            "  adding: drive_256_256_dice_loss_0_4__0_4_1/predictions_np/_15_test_3.npy (deflated 14%)\n",
            "  adding: drive_256_256_dice_loss_0_4__0_4_1/predictions_np/_06_test_2.npy (deflated 18%)\n",
            "  adding: drive_256_256_dice_loss_0_4__0_4_1/predictions_np/_20_test_0.npy (deflated 18%)\n",
            "  adding: drive_256_256_dice_loss_0_4__0_4_1/predictions_np/_09_test_2.npy (deflated 18%)\n",
            "  adding: drive_256_256_dice_loss_0_4__0_4_1/predictions_np/_11_test_8.npy (deflated 18%)\n",
            "  adding: drive_256_256_dice_loss_0_4__0_4_1/predictions_np/_13_test_2.npy (deflated 18%)\n",
            "  adding: drive_256_256_dice_loss_0_4__0_4_1/predictions_np/_14_test_8.npy (deflated 18%)\n",
            "  adding: drive_256_256_dice_loss_0_4__0_4_1/predictions_np/_10_test_8.npy (deflated 18%)\n",
            "  adding: drive_256_256_dice_loss_0_4__0_4_1/predictions_np/_03_test_1.npy (deflated 16%)\n",
            "  adding: drive_256_256_dice_loss_0_4__0_4_1/predictions_np/_01_test_8.npy (deflated 18%)\n",
            "  adding: drive_256_256_dice_loss_0_4__0_4_1/predictions_np/_06_test_7.npy (deflated 16%)\n",
            "  adding: drive_256_256_dice_loss_0_4__0_4_1/predictions_np/_15_test_5.npy (deflated 14%)\n",
            "  adding: drive_256_256_dice_loss_0_4__0_4_1/predictions_np/_15_test_2.npy (deflated 18%)\n",
            "  adding: drive_256_256_dice_loss_0_4__0_4_1/predictions_np/_08_test_7.npy (deflated 16%)\n",
            "  adding: drive_256_256_dice_loss_0_4__0_4_1/predictions_np/_19_test_6.npy (deflated 17%)\n",
            "  adding: drive_256_256_dice_loss_0_4__0_4_1/predictions_np/_02_test_1.npy (deflated 18%)\n",
            "  adding: drive_256_256_dice_loss_0_4__0_4_1/predictions_np/_13_test_0.npy (deflated 18%)\n",
            "  adding: drive_256_256_dice_loss_0_4__0_4_1/predictions_np/_07_test_7.npy (deflated 16%)\n",
            "  adding: drive_256_256_dice_loss_0_4__0_4_1/predictions_np/_14_test_4.npy (deflated 12%)\n",
            "  adding: drive_256_256_dice_loss_0_4__0_4_1/predictions_np/_09_test_0.npy (deflated 18%)\n",
            "  adding: drive_256_256_dice_loss_0_4__0_4_1/predictions_np/_01_test_1.npy (deflated 18%)\n",
            "  adding: drive_256_256_dice_loss_0_4__0_4_1/predictions_np/_17_test_1.npy (deflated 17%)\n",
            "  adding: drive_256_256_dice_loss_0_4__0_4_1/predictions_np/_06_test_4.npy (deflated 12%)\n",
            "  adding: drive_256_256_dice_loss_0_4__0_4_1/predictions_np/_20_test_8.npy (deflated 18%)\n",
            "  adding: drive_256_256_dice_loss_0_4__0_4_1/predictions_np/_09_test_6.npy (deflated 17%)\n",
            "  adding: drive_256_256_dice_loss_0_4__0_4_1/predictions_np/_02_test_4.npy (deflated 13%)\n",
            "  adding: drive_256_256_dice_loss_0_4__0_4_1/predictions_np/_05_test_4.npy (deflated 13%)\n",
            "  adding: drive_256_256_dice_loss_0_4__0_4_1/predictions_np/_07_test_3.npy (deflated 14%)\n",
            "  adding: drive_256_256_dice_loss_0_4__0_4_1/predictions_np/_03_test_6.npy (deflated 18%)\n",
            "  adding: drive_256_256_dice_loss_0_4__0_4_1/predictions_np/_07_test_0.npy (deflated 18%)\n",
            "  adding: drive_256_256_dice_loss_0_4__0_4_1/predictions_np/_12_test_0.npy (deflated 18%)\n",
            "  adding: drive_256_256_dice_loss_0_4__0_4_1/predictions_np/_02_test_6.npy (deflated 17%)\n",
            "  adding: drive_256_256_dice_loss_0_4__0_4_1/predictions_np/_12_test_1.npy (deflated 17%)\n",
            "  adding: drive_256_256_dice_loss_0_4__0_4_1/predictions_np/_08_test_2.npy (deflated 18%)\n",
            "  adding: drive_256_256_dice_loss_0_4__0_4_1/predictions_np/_08_test_4.npy (deflated 13%)\n",
            "  adding: drive_256_256_dice_loss_0_4__0_4_1/predictions_np/_02_test_8.npy (deflated 18%)\n",
            "  adding: drive_256_256_dice_loss_0_4__0_4_1/predictions_np/_19_test_4.npy (deflated 13%)\n",
            "  adding: drive_256_256_dice_loss_0_4__0_4_1/predictions_np/_10_test_7.npy (deflated 16%)\n",
            "  adding: drive_256_256_dice_loss_0_4__0_4_1/predictions_np/_19_test_3.npy (deflated 13%)\n",
            "  adding: drive_256_256_dice_loss_0_4__0_4_1/predictions_np/_06_test_6.npy (deflated 17%)\n",
            "  adding: drive_256_256_dice_loss_0_4__0_4_1/predictions_np/_19_test_7.npy (deflated 16%)\n",
            "  adding: drive_256_256_dice_loss_0_4__0_4_1/predictions_np/_11_test_0.npy (deflated 18%)\n",
            "  adding: drive_256_256_dice_loss_0_4__0_4_1/predictions_np/_08_test_8.npy (deflated 18%)\n",
            "  adding: drive_256_256_dice_loss_0_4__0_4_1/predictions_np/_04_test_1.npy (deflated 17%)\n",
            "  adding: drive_256_256_dice_loss_0_4__0_4_1/predictions_np/_12_test_6.npy (deflated 17%)\n",
            "  adding: drive_256_256_dice_loss_0_4__0_4_1/predictions_np/_11_test_3.npy (deflated 16%)\n",
            "  adding: drive_256_256_dice_loss_0_4__0_4_1/predictions_np/_04_test_3.npy (deflated 14%)\n",
            "  adding: drive_256_256_dice_loss_0_4__0_4_1/predictions_np/_12_test_4.npy (deflated 12%)\n",
            "  adding: drive_256_256_dice_loss_0_4__0_4_1/predictions_np/_10_test_6.npy (deflated 17%)\n",
            "  adding: drive_256_256_dice_loss_0_4__0_4_1/predictions_np/_05_test_8.npy (deflated 18%)\n",
            "  adding: drive_256_256_dice_loss_0_4__0_4_1/predictions_np/_06_test_0.npy (deflated 18%)\n",
            "  adding: drive_256_256_dice_loss_0_4__0_4_1/predictions_np/_04_test_4.npy (deflated 16%)\n",
            "  adding: drive_256_256_dice_loss_0_4__0_4_1/predictions_np/_13_test_3.npy (deflated 13%)\n",
            "  adding: drive_256_256_dice_loss_0_4__0_4_1/predictions_np/_07_test_2.npy (deflated 18%)\n",
            "  adding: drive_256_256_dice_loss_0_4__0_4_1/predictions_np/_10_test_2.npy (deflated 18%)\n",
            "  adding: drive_256_256_dice_loss_0_4__0_4_1/predictions_np/_16_test_4.npy (deflated 12%)\n",
            "  adding: drive_256_256_dice_loss_0_4__0_4_1/predictions_np/_01_test_2.npy (deflated 18%)\n",
            "  adding: drive_256_256_dice_loss_0_4__0_4_1/predictions_np/_17_test_6.npy (deflated 17%)\n",
            "  adding: drive_256_256_dice_loss_0_4__0_4_1/predictions_np/_07_test_1.npy (deflated 17%)\n",
            "  adding: drive_256_256_dice_loss_0_4__0_4_1/predictions_np/_03_test_7.npy (deflated 16%)\n",
            "  adding: drive_256_256_dice_loss_0_4__0_4_1/predictions_np/_01_test_6.npy (deflated 17%)\n",
            "  adding: drive_256_256_dice_loss_0_4__0_4_1/predictions_np/_15_test_0.npy (deflated 18%)\n",
            "  adding: drive_256_256_dice_loss_0_4__0_4_1/predictions_np/_13_test_1.npy (deflated 18%)\n",
            "  adding: drive_256_256_dice_loss_0_4__0_4_1/predictions_np/_18_test_0.npy (deflated 18%)\n",
            "  adding: drive_256_256_dice_loss_0_4__0_4_1/predictions_np/_18_test_5.npy (deflated 15%)\n",
            "  adding: drive_256_256_dice_loss_0_4__0_4_1/predictions_np/_17_test_7.npy (deflated 15%)\n",
            "  adding: drive_256_256_dice_loss_0_4__0_4_1/predictions_np/_09_test_5.npy (deflated 14%)\n",
            "  adding: drive_256_256_dice_loss_0_4__0_4_1/predictions_np/_09_test_3.npy (deflated 13%)\n",
            "  adding: drive_256_256_dice_loss_0_4__0_4_1/predictions_np/_07_test_8.npy (deflated 18%)\n",
            "  adding: drive_256_256_dice_loss_0_4__0_4_1/predictions_np/_06_test_1.npy (deflated 18%)\n",
            "  adding: drive_256_256_dice_loss_0_4__0_4_1/predictions_np/_05_test_7.npy (deflated 16%)\n",
            "  adding: drive_256_256_dice_loss_0_4__0_4_1/predictions_np/_14_test_0.npy (deflated 18%)\n",
            "  adding: drive_256_256_dice_loss_0_4__0_4_1/predictions_np/_03_test_3.npy (deflated 14%)\n",
            "  adding: drive_256_256_dice_loss_0_4__0_4_1/predictions_np/_05_test_2.npy (deflated 18%)\n",
            "  adding: drive_256_256_dice_loss_0_4__0_4_1/predictions_np/_18_test_6.npy (deflated 17%)\n",
            "  adding: drive_256_256_dice_loss_0_4__0_4_1/predictions_np/_19_test_8.npy (deflated 18%)\n",
            "  adding: drive_256_256_dice_loss_0_4__0_4_1/predictions_np/_18_test_8.npy (deflated 18%)\n",
            "  adding: drive_256_256_dice_loss_0_4__0_4_1/predictions_np/_13_test_5.npy (deflated 15%)\n",
            "  adding: drive_256_256_dice_loss_0_4__0_4_1/predictions_np/_05_test_6.npy (deflated 17%)\n",
            "  adding: drive_256_256_dice_loss_0_4__0_4_1/predictions_np/_04_test_7.npy (deflated 16%)\n",
            "  adding: drive_256_256_dice_loss_0_4__0_4_1/predictions_np/_13_test_4.npy (deflated 13%)\n",
            "  adding: drive_256_256_dice_loss_0_4__0_4_1/predictions_np/_08_test_6.npy (deflated 17%)\n",
            "  adding: drive_256_256_dice_loss_0_4__0_4_1/predictions_np/_16_test_3.npy (deflated 14%)\n",
            "  adding: drive_256_256_dice_loss_0_4__0_4_1/predictions_np/_08_test_1.npy (deflated 17%)\n",
            "  adding: drive_256_256_dice_loss_0_4__0_4_1/predictions_np/_01_test_3.npy (deflated 14%)\n",
            "  adding: drive_256_256_dice_loss_0_4__0_4_1/predictions_np/_16_test_7.npy (deflated 16%)\n",
            "  adding: drive_256_256_dice_loss_0_4__0_4_1/predictions_np/_15_test_1.npy (deflated 17%)\n",
            "  adding: drive_256_256_dice_loss_0_4__0_4_1/predictions_np/_16_test_0.npy (deflated 18%)\n",
            "  adding: drive_256_256_dice_loss_0_4__0_4_1/predictions_np/_12_test_2.npy (deflated 18%)\n",
            "  adding: drive_256_256_dice_loss_0_4__0_4_1/predictions_np/_17_test_2.npy (deflated 18%)\n",
            "  adding: drive_256_256_dice_loss_0_4__0_4_1/predictions_np/_12_test_3.npy (deflated 14%)\n",
            "  adding: drive_256_256_dice_loss_0_4__0_4_1/predictions_np/_19_test_1.npy (deflated 18%)\n",
            "  adding: drive_256_256_dice_loss_0_4__0_4_1/predictions_np/_15_test_7.npy (deflated 15%)\n",
            "  adding: drive_256_256_dice_loss_0_4__0_4_1/predictions_np/_05_test_0.npy (deflated 18%)\n",
            "  adding: drive_256_256_dice_loss_0_4__0_4_1/predictions_np/_19_test_2.npy (deflated 18%)\n",
            "  adding: drive_256_256_dice_loss_0_4__0_4_1/predictions_np/_02_test_3.npy (deflated 14%)\n",
            "  adding: drive_256_256_dice_loss_0_4__0_4_1/predictions_np/_17_test_0.npy (deflated 18%)\n",
            "  adding: drive_256_256_dice_loss_0_4__0_4_1/predictions_np/_04_test_0.npy (deflated 18%)\n",
            "  adding: drive_256_256_dice_loss_0_4__0_4_1/predictions_np/_20_test_2.npy (deflated 18%)\n",
            "  adding: drive_256_256_dice_loss_0_4__0_4_1/predictions_np/_02_test_5.npy (deflated 15%)\n",
            "  adding: drive_256_256_dice_loss_0_4__0_4_1/predictions_np/_14_test_6.npy (deflated 18%)\n",
            "  adding: drive_256_256_dice_loss_0_4__0_4_1/predictions_np/_17_test_3.npy (deflated 14%)\n",
            "  adding: drive_256_256_dice_loss_0_4__0_4_1/predictions_np/_06_test_3.npy (deflated 13%)\n",
            "  adding: drive_256_256_dice_loss_0_4__0_4_1/predictions_np/_18_test_7.npy (deflated 16%)\n",
            "  adding: drive_256_256_dice_loss_0_4__0_4_1/predictions_np/_20_test_1.npy (deflated 18%)\n",
            "  adding: drive_256_256_dice_loss_0_4__0_4_1/predictions_np/_07_test_4.npy (deflated 12%)\n",
            "  adding: drive_256_256_dice_loss_0_4__0_4_1/predictions_np/_16_test_5.npy (deflated 15%)\n",
            "  adding: drive_256_256_dice_loss_0_4__0_4_1/predictions_np/_14_test_5.npy (deflated 15%)\n",
            "  adding: drive_256_256_dice_loss_0_4__0_4_1/predictions_np/_20_test_3.npy (deflated 14%)\n",
            "  adding: drive_256_256_dice_loss_0_4__0_4_1/predictions_np/_02_test_2.npy (deflated 18%)\n",
            "  adding: drive_256_256_dice_loss_0_4__0_4_1/predictions_np/_02_test_7.npy (deflated 17%)\n",
            "  adding: drive_256_256_dice_loss_0_4__0_4_1/predictions_np/_11_test_2.npy (deflated 18%)\n",
            "  adding: drive_256_256_dice_loss_0_4__0_4_1/predictions_np/_18_test_2.npy (deflated 18%)\n",
            "  adding: drive_256_256_dice_loss_0_4__0_4_1/predictions_np/_06_test_5.npy (deflated 15%)\n",
            "  adding: drive_256_256_dice_loss_0_4__0_4_1/predictions_np/_12_test_8.npy (deflated 18%)\n",
            "  adding: drive_256_256_dice_loss_0_4__0_4_1/predictions_np/_06_test_8.npy (deflated 18%)\n",
            "  adding: drive_256_256_dice_loss_0_4__0_4_1/predictions_np/_09_test_4.npy (deflated 12%)\n",
            "  adding: drive_256_256_dice_loss_0_4__0_4_1/predictions_np/_03_test_4.npy (deflated 12%)\n",
            "  adding: drive_256_256_dice_loss_0_4__0_4_1/predictions_np/_13_test_6.npy (deflated 17%)\n",
            "  adding: drive_256_256_dice_loss_0_4__0_4_1/predictions_np/_20_test_5.npy (deflated 15%)\n",
            "  adding: drive_256_256_dice_loss_0_4__0_4_1/predictions_np/_20_test_4.npy (deflated 12%)\n",
            "  adding: drive_256_256_dice_loss_0_4__0_4_1/predictions_np/_04_test_6.npy (deflated 17%)\n",
            "  adding: drive_256_256_dice_loss_0_4__0_4_1/predictions_np/_17_test_4.npy (deflated 12%)\n",
            "  adding: drive_256_256_dice_loss_0_4__0_4_1/predictions_np/_11_test_1.npy (deflated 17%)\n",
            "  adding: drive_256_256_dice_loss_0_4__0_4_1/predictions_np/_08_test_3.npy (deflated 13%)\n",
            "  adding: drive_256_256_dice_loss_0_4__0_4_1/predictions_np/_14_test_2.npy (deflated 18%)\n",
            "  adding: drive_256_256_dice_loss_0_4__0_4_1/predictions_np/_01_test_5.npy (deflated 14%)\n",
            "  adding: drive_256_256_dice_loss_0_4__0_4_1/predictions_np/_04_test_2.npy (deflated 18%)\n",
            "  adding: drive_256_256_dice_loss_0_4__0_4_1/predictions_np/_08_test_5.npy (deflated 15%)\n",
            "  adding: drive_256_256_dice_loss_0_4__0_4_1/predictions_np/_18_test_4.npy (deflated 12%)\n",
            "  adding: drive_256_256_dice_loss_0_4__0_4_1/predictions_np/_16_test_1.npy (deflated 17%)\n",
            "  adding: drive_256_256_dice_loss_0_4__0_4_1/predictions_np/_16_test_6.npy (deflated 17%)\n",
            "  adding: drive_256_256_dice_loss_0_4__0_4_1/predictions_np/_05_test_1.npy (deflated 17%)\n",
            "  adding: drive_256_256_dice_loss_0_4__0_4_1/predictions_np/_05_test_3.npy (deflated 14%)\n",
            "  adding: drive_256_256_dice_loss_0_4__0_4_1/predictions_np/_12_test_7.npy (deflated 16%)\n",
            "  adding: drive_256_256_dice_loss_0_4__0_4_1/predictions_np/_10_test_0.npy (deflated 18%)\n",
            "  adding: drive_256_256_dice_loss_0_4__0_4_1/predictions_np/_10_test_3.npy (deflated 14%)\n",
            "  adding: drive_256_256_dice_loss_0_4__0_4_1/predictions_np/_10_test_4.npy (deflated 12%)\n",
            "  adding: drive_256_256_dice_loss_0_4__0_4_1/predictions_np/_01_test_4.npy (deflated 12%)\n",
            "  adding: drive_256_256_dice_loss_0_4__0_4_1/predictions_np/_15_test_4.npy (deflated 13%)\n",
            "  adding: drive_256_256_dice_loss_0_4__0_4_1/predictions_np/_03_test_8.npy (deflated 18%)\n",
            "  adding: drive_256_256_dice_loss_0_4__0_4_1/predictions_np/_09_test_1.npy (deflated 17%)\n",
            "  adding: drive_256_256_dice_loss_0_4__0_4_1/predictions_np/_05_test_5.npy (deflated 14%)\n",
            "  adding: drive_256_256_dice_loss_0_4__0_4_1/predictions_np/_10_test_5.npy (deflated 15%)\n",
            "  adding: drive_256_256_dice_loss_0_4__0_4_1/predictions_np/_12_test_5.npy (deflated 14%)\n",
            "  adding: drive_256_256_dice_loss_0_4__0_4_1/predictions_np/_14_test_3.npy (deflated 14%)\n",
            "  adding: drive_256_256_dice_loss_0_4__0_4_1/predictions_np/_16_test_8.npy (deflated 18%)\n",
            "  adding: drive_256_256_dice_loss_0_4__0_4_1/predictions_np/_15_test_6.npy (deflated 17%)\n",
            "  adding: drive_256_256_dice_loss_0_4__0_4_1/predictions_np/_03_test_2.npy (deflated 18%)\n",
            "  adding: drive_256_256_dice_loss_0_4__0_4_1/predictions_np/_18_test_1.npy (deflated 17%)\n",
            "  adding: drive_256_256_dice_loss_0_4__0_4_1/predictions_np/_13_test_8.npy (deflated 18%)\n",
            "  adding: drive_256_256_dice_loss_0_4__0_4_1/predictions_np/_14_test_7.npy (deflated 16%)\n",
            "  adding: drive_256_256_dice_loss_0_4__0_4_1/predictions_np/_02_test_0.npy (deflated 18%)\n",
            "  adding: drive_256_256_dice_loss_0_4__0_4_1/predictions_np/_01_test_0.npy (deflated 18%)\n",
            "  adding: drive_256_256_dice_loss_0_4__0_4_1/predictions_np/_18_test_3.npy (deflated 14%)\n",
            "  adding: drive_256_256_dice_loss_0_4__0_4_1/predictions_np/_04_test_5.npy (deflated 14%)\n",
            "  adding: drive_256_256_dice_loss_0_4__0_4_1/predictions_np/_04_test_8.npy (deflated 18%)\n",
            "  adding: drive_256_256_dice_loss_0_4__0_4_1/predictions_np/_08_test_0.npy (deflated 18%)\n",
            "  adding: drive_256_256_dice_loss_0_4__0_4_1/predictions_np/_19_test_5.npy (deflated 15%)\n",
            "  adding: drive_256_256_dice_loss_0_4__0_4_1/predictions_np/_07_test_6.npy (deflated 17%)\n",
            "  adding: drive_256_256_dice_loss_0_4__0_4_1/predictions_np/_07_test_5.npy (deflated 16%)\n",
            "  adding: drive_256_256_dice_loss_0_4__0_4_1/predictions_np/_17_test_5.npy (deflated 14%)\n",
            "  adding: drive_256_256_dice_loss_0_4__0_4_1/predictions_np/_09_test_7.npy (deflated 16%)\n",
            "  adding: drive_256_256_dice_loss_0_4__0_4_1/predictions_np/_19_test_0.npy (deflated 18%)\n"
          ]
        }
      ]
    },
    {
      "cell_type": "code",
      "source": [
        "!ls -ltrh\n"
      ],
      "metadata": {
        "id": "8L9ewIL3ach6",
        "colab": {
          "base_uri": "https://localhost:8080/"
        },
        "outputId": "a750f5ee-5c77-4c92-be4d-198414ba4bbc"
      },
      "execution_count": null,
      "outputs": [
        {
          "output_type": "stream",
          "name": "stdout",
          "text": [
            "total 430M\n",
            "drwxr-xr-x  4 root root 4.0K Feb 24 07:06 logs\n",
            "drwxr-xr-x 10 root root 4.0K Feb 24 07:11 drive_256_256_dice_loss_0_4__0_4_1\n",
            "-rw-r--r--  1 root root 430M Feb 24 07:13 drive_256_256_dice_loss_0_4__0_4_1.zip\n"
          ]
        }
      ]
    },
    {
      "cell_type": "code",
      "source": [
        "!ls /content/gdrive/MyDrive/Blood_Vessel_Results/hrf_patches/"
      ],
      "metadata": {
        "colab": {
          "base_uri": "https://localhost:8080/"
        },
        "id": "HgeR9u--S9HC",
        "outputId": "7456ef06-b5ed-4303-f1f8-5baa10e7e7e3"
      },
      "execution_count": null,
      "outputs": [
        {
          "output_type": "stream",
          "name": "stdout",
          "text": [
            "02_g_test.png\n",
            "drive_128_128_dice_bce_0_4__0_4_1\n",
            "drive_128_128_dice_bce_0_4__0_4_1.zip\n",
            "drive_128_128_dice_loss_0_4__0_4_1\n",
            "drive_128_128_dice_loss_0_4__0_4_1.zip\n",
            "drive_256_256_dice_bce_0_4__0_4_1\n",
            "drive_256_256_dice_bce_0_4__0_4_1.zip\n",
            "drive_64_64_dice_bce_0_4__0_4_1\n",
            "drive_64_64_dice_bce_0_4__0_4_1.zip\n",
            "drive_64_64_dice_loss_0_4__0_4_1\n",
            "drive_64_64_dice_loss_0_4__0_4_1.zip\n",
            "hrf_256_256_dice_loss_1\n",
            "hrf_256_256_dice_loss_1.zip\n",
            "hrf_256_256_dice_loss_hvr_1.zip\n",
            "hrf_256_256_dice_loss_hvr_2.zip\n",
            "hrf_512_256_bce_hvr_xval_10_42.zip\n",
            "hrf_512_512\n",
            "hrf_512_512_bce\n",
            "hrf_512_512_bce_1\n",
            "hrf_512_512_bce_1.zip\n",
            "hrf_512_512_bce_2\n",
            "hrf_512_512_bce_2.zip\n",
            "hrf_512_512_bce_hvr\n",
            "hrf_512_512_bce_hvr_0_3\n",
            "hrf_512_512_bce_hvr_0_33_42.zip\n",
            "hrf_512_512_bce_hvr_0_33_43\n",
            "hrf_512_512_bce_hvr_0_33_43.zip\n",
            "hrf_512_512_bce_hvr_0_3_44\n",
            "hrf_512_512_bce_hvr_0_3_44.zip\n",
            "hrf_512_512_bce_hvr_feb_3_1.zip\n",
            "hrf_512_512_bce_hvr_feb_5_1.zip\n",
            "hrf_512_512_bce_hvr_xval_2_42.zip\n",
            "hrf_512_512_bce_hvr_xval_5_42\n",
            "hrf_512_512_bce_hvr_xval_5_42_10epochs\n",
            "hrf_512_512_bce_hvr_xval_5_42.csv\n",
            "hrf_512_512_bce_hvr.zip\n",
            "hrf_512_512_bce.zip\n",
            "hrf_512_512_dice\n",
            "hrf_512_512_dice_bce\n",
            "hrf_512_512_dice_bce_0_4_2\n",
            "hrf_512_512_dice_bce_0_4_2.zip\n",
            "hrf_512_512_dice_bce_1\n",
            "hrf_512_512_dice_bce_1.zip\n",
            "hrf_512_512_dice_bce_hvr\n",
            "hrf_512_512_dice_bce_hvr_0_3_feb4.zip\n",
            "hrf_512_512_dice_bce_hvr_2.zip\n",
            "hrf_512_512_dice_bce_hvr_jan_31_2.zip\n",
            "hrf_512_512_dice_bce_hvr_jan_31.zip\n",
            "hrf_512_512_dice_bce_hvr_xval_5_42.zip\n",
            "hrf_512_512_dice_bce_hvr_xval_9_42_10epochs.zip\n",
            "hrf_512_512_dice_bce_hvr.zip\n",
            "hrf_512_512_DiceBCELoss\n",
            "hrf_512_512_dice_loss_0_4_1\n",
            "hrf_512_512_dice_loss_0_4_1.zip\n",
            "hrf_512_512_dice_loss_2\n",
            "hrf_512_512_dice_loss_2.zip\n",
            "hrf_512_512_dice_loss_3\n",
            "hrf_512_512_dice_loss_3.zip\n",
            "hrf_512_512_dice_loss_hvr_0_3_feb_3.zip\n",
            "hrf_512_512_dice_loss_hvr_0_4_feb4.zip\n",
            "hrf_512_512_dice_loss_hvr_3.zip\n",
            "hrf_512_512_dice_loss_hvr_xval_5_42.zip\n",
            "hrf_512_512_dice.zip\n",
            "hrf_512_512.zip\n",
            "hrf_768_768_bce_0_4_1\n",
            "hrf_768_768_bce_0_4_1.zip\n",
            "hrf_768_768_bce_hvr_1.zip\n",
            "hrf_768_768_dice_bce_0_4_1\n",
            "hrf_768_768_dice_bce_0_4_1.zip\n",
            "hrf_768_768_dice_bce_hvr_1.zip\n",
            "hrf_768_768_dice_loss_0_4_1\n",
            "hrf_768_768_dice_loss_0_4_1.zip\n",
            "hrf_768_768_dice_loss_hvr_2.zip\n",
            "hrf_768_768_wbce_0_4__0_3_1\n",
            "hrf_768_768_wbce_0_4__0_3_1.zip\n",
            "hrf_768_768_wbce_0_4__0_4_1\n",
            "hrf_768_768_wbce_0_4__0_4_1.zip\n",
            "hrf_768_768_wbce_0_5__0_3_1\n",
            "hrf_768_768_wbce_0_5__0_3_1.zip\n",
            "hrf_768_768_wbce_0_6__0_3_1\n",
            "hrf_768_768_wbce_0_6__0_3_1.zip\n",
            "hrf_768_768_wbce_0_6__0_4_1\n",
            "hrf_768_768_wbce_0_6__0_4_1.zip\n",
            "hrf_768_768_wbce_0_6__hvr_1.zip\n",
            "hrf_patches_512.zip\n",
            "hrf.zip\n",
            "non_overlapping_512\n",
            "split_2.zip\n"
          ]
        }
      ]
    },
    {
      "cell_type": "code",
      "source": [
        "!cp {folder_name}.zip /content/gdrive/MyDrive/Blood_Vessel_Results/hrf_patches/"
      ],
      "metadata": {
        "id": "uxv_dah3MAdT"
      },
      "execution_count": null,
      "outputs": []
    },
    {
      "cell_type": "code",
      "source": [
        "%cd /content/gdrive/MyDrive/Blood_Vessel_Results/hrf_patches/"
      ],
      "metadata": {
        "colab": {
          "base_uri": "https://localhost:8080/"
        },
        "id": "LDtPmTRvTZEg",
        "outputId": "246f1ec3-4ea8-4c2a-8864-8f6329c133c9"
      },
      "execution_count": null,
      "outputs": [
        {
          "output_type": "stream",
          "name": "stdout",
          "text": [
            "/content/gdrive/MyDrive/Blood_Vessel_Results/hrf_patches\n"
          ]
        }
      ]
    },
    {
      "cell_type": "code",
      "source": [
        "!pwd"
      ],
      "metadata": {
        "colab": {
          "base_uri": "https://localhost:8080/"
        },
        "id": "l9g3FzQFUzN1",
        "outputId": "b032a315-3fba-49c2-c1a0-41bf8b120bb1"
      },
      "execution_count": null,
      "outputs": [
        {
          "output_type": "stream",
          "name": "stdout",
          "text": [
            "/content/gdrive/MyDrive/Blood_Vessel_Results/hrf_patches\n"
          ]
        }
      ]
    },
    {
      "cell_type": "code",
      "source": [
        "!ls"
      ],
      "metadata": {
        "colab": {
          "base_uri": "https://localhost:8080/"
        },
        "id": "AnpquhqmU1gr",
        "outputId": "31076949-b95e-4034-97b0-99d7300a40e8"
      },
      "execution_count": null,
      "outputs": [
        {
          "output_type": "stream",
          "name": "stdout",
          "text": [
            "02_g_test.png\n",
            "drive_128_128_dice_bce_0_4__0_4_1\n",
            "drive_128_128_dice_bce_0_4__0_4_1.zip\n",
            "drive_128_128_dice_loss_0_4__0_4_1\n",
            "drive_128_128_dice_loss_0_4__0_4_1.zip\n",
            "drive_256_256_dice_bce_0_4__0_4_1\n",
            "drive_256_256_dice_bce_0_4__0_4_1.zip\n",
            "drive_256_256_dice_loss_0_4__0_4_1.zip\n",
            "drive_64_64_dice_bce_0_4__0_4_1\n",
            "drive_64_64_dice_bce_0_4__0_4_1.zip\n",
            "drive_64_64_dice_loss_0_4__0_4_1\n",
            "drive_64_64_dice_loss_0_4__0_4_1.zip\n",
            "hrf_256_256_dice_loss_1\n",
            "hrf_256_256_dice_loss_1.zip\n",
            "hrf_256_256_dice_loss_hvr_1.zip\n",
            "hrf_256_256_dice_loss_hvr_2.zip\n",
            "hrf_512_256_bce_hvr_xval_10_42.zip\n",
            "hrf_512_512\n",
            "hrf_512_512_bce\n",
            "hrf_512_512_bce_1\n",
            "hrf_512_512_bce_1.zip\n",
            "hrf_512_512_bce_2\n",
            "hrf_512_512_bce_2.zip\n",
            "hrf_512_512_bce_hvr\n",
            "hrf_512_512_bce_hvr_0_3\n",
            "hrf_512_512_bce_hvr_0_33_42.zip\n",
            "hrf_512_512_bce_hvr_0_33_43\n",
            "hrf_512_512_bce_hvr_0_33_43.zip\n",
            "hrf_512_512_bce_hvr_0_3_44\n",
            "hrf_512_512_bce_hvr_0_3_44.zip\n",
            "hrf_512_512_bce_hvr_feb_3_1.zip\n",
            "hrf_512_512_bce_hvr_feb_5_1.zip\n",
            "hrf_512_512_bce_hvr_xval_2_42.zip\n",
            "hrf_512_512_bce_hvr_xval_5_42\n",
            "hrf_512_512_bce_hvr_xval_5_42_10epochs\n",
            "hrf_512_512_bce_hvr_xval_5_42.csv\n",
            "hrf_512_512_bce_hvr.zip\n",
            "hrf_512_512_bce.zip\n",
            "hrf_512_512_dice\n",
            "hrf_512_512_dice_bce\n",
            "hrf_512_512_dice_bce_0_4_2\n",
            "hrf_512_512_dice_bce_0_4_2.zip\n",
            "hrf_512_512_dice_bce_1\n",
            "hrf_512_512_dice_bce_1.zip\n",
            "hrf_512_512_dice_bce_hvr\n",
            "hrf_512_512_dice_bce_hvr_0_3_feb4.zip\n",
            "hrf_512_512_dice_bce_hvr_2.zip\n",
            "hrf_512_512_dice_bce_hvr_jan_31_2.zip\n",
            "hrf_512_512_dice_bce_hvr_jan_31.zip\n",
            "hrf_512_512_dice_bce_hvr_xval_5_42.zip\n",
            "hrf_512_512_dice_bce_hvr_xval_9_42_10epochs.zip\n",
            "hrf_512_512_dice_bce_hvr.zip\n",
            "hrf_512_512_DiceBCELoss\n",
            "hrf_512_512_dice_loss_0_4_1\n",
            "hrf_512_512_dice_loss_0_4_1.zip\n",
            "hrf_512_512_dice_loss_2\n",
            "hrf_512_512_dice_loss_2.zip\n",
            "hrf_512_512_dice_loss_3\n",
            "hrf_512_512_dice_loss_3.zip\n",
            "hrf_512_512_dice_loss_hvr_0_3_feb_3.zip\n",
            "hrf_512_512_dice_loss_hvr_0_4_feb4.zip\n",
            "hrf_512_512_dice_loss_hvr_3.zip\n",
            "hrf_512_512_dice_loss_hvr_xval_5_42.zip\n",
            "hrf_512_512_dice.zip\n",
            "hrf_512_512.zip\n",
            "hrf_768_768_bce_0_4_1\n",
            "hrf_768_768_bce_0_4_1.zip\n",
            "hrf_768_768_bce_hvr_1.zip\n",
            "hrf_768_768_dice_bce_0_4_1\n",
            "hrf_768_768_dice_bce_0_4_1.zip\n",
            "hrf_768_768_dice_bce_hvr_1.zip\n",
            "hrf_768_768_dice_loss_0_4_1\n",
            "hrf_768_768_dice_loss_0_4_1.zip\n",
            "hrf_768_768_dice_loss_hvr_2.zip\n",
            "hrf_768_768_wbce_0_4__0_3_1\n",
            "hrf_768_768_wbce_0_4__0_3_1.zip\n",
            "hrf_768_768_wbce_0_4__0_4_1\n",
            "hrf_768_768_wbce_0_4__0_4_1.zip\n",
            "hrf_768_768_wbce_0_5__0_3_1\n",
            "hrf_768_768_wbce_0_5__0_3_1.zip\n",
            "hrf_768_768_wbce_0_6__0_3_1\n",
            "hrf_768_768_wbce_0_6__0_3_1.zip\n",
            "hrf_768_768_wbce_0_6__0_4_1\n",
            "hrf_768_768_wbce_0_6__0_4_1.zip\n",
            "hrf_768_768_wbce_0_6__hvr_1.zip\n",
            "hrf_patches_512.zip\n",
            "hrf.zip\n",
            "non_overlapping_512\n",
            "split_2.zip\n"
          ]
        }
      ]
    },
    {
      "cell_type": "code",
      "source": [
        "!unzip {folder_name}.zip\n"
      ],
      "metadata": {
        "colab": {
          "base_uri": "https://localhost:8080/"
        },
        "id": "QjOj2UhYTmPO",
        "outputId": "583b49e3-76cd-4270-c4a7-b83fcd18fb45"
      },
      "execution_count": null,
      "outputs": [
        {
          "output_type": "stream",
          "name": "stdout",
          "text": [
            "Archive:  drive_256_256_dice_loss_0_4__0_4_1.zip\n",
            "   creating: drive_256_256_dice_loss_0_4__0_4_1/\n",
            "   creating: drive_256_256_dice_loss_0_4__0_4_1/training/\n",
            "   creating: drive_256_256_dice_loss_0_4__0_4_1/training/1st_manual/\n",
            " extracting: drive_256_256_dice_loss_0_4__0_4_1/training/1st_manual/31_manual1.gif  \n",
            " extracting: drive_256_256_dice_loss_0_4__0_4_1/training/1st_manual/22_manual1.gif  \n",
            " extracting: drive_256_256_dice_loss_0_4__0_4_1/training/1st_manual/23_manual1.gif  \n",
            " extracting: drive_256_256_dice_loss_0_4__0_4_1/training/1st_manual/24_manual1.gif  \n",
            " extracting: drive_256_256_dice_loss_0_4__0_4_1/training/1st_manual/32_manual1.gif  \n",
            " extracting: drive_256_256_dice_loss_0_4__0_4_1/training/1st_manual/40_manual1.gif  \n",
            " extracting: drive_256_256_dice_loss_0_4__0_4_1/training/1st_manual/27_manual1.gif  \n",
            " extracting: drive_256_256_dice_loss_0_4__0_4_1/training/1st_manual/34_manual1.gif  \n",
            " extracting: drive_256_256_dice_loss_0_4__0_4_1/training/1st_manual/38_manual1.gif  \n",
            " extracting: drive_256_256_dice_loss_0_4__0_4_1/training/1st_manual/29_manual1.gif  \n",
            " extracting: drive_256_256_dice_loss_0_4__0_4_1/training/1st_manual/25_manual1.gif  \n",
            " extracting: drive_256_256_dice_loss_0_4__0_4_1/training/1st_manual/33_manual1.gif  \n",
            " extracting: drive_256_256_dice_loss_0_4__0_4_1/training/1st_manual/37_manual1.gif  \n",
            " extracting: drive_256_256_dice_loss_0_4__0_4_1/training/1st_manual/39_manual1.gif  \n",
            " extracting: drive_256_256_dice_loss_0_4__0_4_1/training/1st_manual/21_manual1.gif  \n",
            " extracting: drive_256_256_dice_loss_0_4__0_4_1/training/1st_manual/36_manual1.gif  \n",
            " extracting: drive_256_256_dice_loss_0_4__0_4_1/training/1st_manual/35_manual1.gif  \n",
            " extracting: drive_256_256_dice_loss_0_4__0_4_1/training/1st_manual/30_manual1.gif  \n",
            " extracting: drive_256_256_dice_loss_0_4__0_4_1/training/1st_manual/28_manual1.gif  \n",
            " extracting: drive_256_256_dice_loss_0_4__0_4_1/training/1st_manual/26_manual1.gif  \n",
            "   creating: drive_256_256_dice_loss_0_4__0_4_1/training/images/\n",
            "  inflating: drive_256_256_dice_loss_0_4__0_4_1/training/images/21_training.tif  \n",
            "  inflating: drive_256_256_dice_loss_0_4__0_4_1/training/images/27_training.tif  \n",
            "  inflating: drive_256_256_dice_loss_0_4__0_4_1/training/images/24_training.tif  \n",
            "  inflating: drive_256_256_dice_loss_0_4__0_4_1/training/images/23_training.tif  \n",
            "  inflating: drive_256_256_dice_loss_0_4__0_4_1/training/images/40_training.tif  \n",
            "  inflating: drive_256_256_dice_loss_0_4__0_4_1/training/images/33_training.tif  \n",
            "  inflating: drive_256_256_dice_loss_0_4__0_4_1/training/images/35_training.tif  \n",
            "  inflating: drive_256_256_dice_loss_0_4__0_4_1/training/images/26_training.tif  \n",
            "  inflating: drive_256_256_dice_loss_0_4__0_4_1/training/images/29_training.tif  \n",
            "  inflating: drive_256_256_dice_loss_0_4__0_4_1/training/images/22_training.tif  \n",
            "  inflating: drive_256_256_dice_loss_0_4__0_4_1/training/images/37_training.tif  \n",
            "  inflating: drive_256_256_dice_loss_0_4__0_4_1/training/images/32_training.tif  \n",
            "  inflating: drive_256_256_dice_loss_0_4__0_4_1/training/images/38_training.tif  \n",
            "  inflating: drive_256_256_dice_loss_0_4__0_4_1/training/images/31_training.tif  \n",
            "  inflating: drive_256_256_dice_loss_0_4__0_4_1/training/images/28_training.tif  \n",
            "  inflating: drive_256_256_dice_loss_0_4__0_4_1/training/images/30_training.tif  \n",
            "  inflating: drive_256_256_dice_loss_0_4__0_4_1/training/images/36_training.tif  \n",
            "  inflating: drive_256_256_dice_loss_0_4__0_4_1/training/images/34_training.tif  \n",
            "  inflating: drive_256_256_dice_loss_0_4__0_4_1/training/images/39_training.tif  \n",
            "  inflating: drive_256_256_dice_loss_0_4__0_4_1/training/images/25_training.tif  \n",
            "   creating: drive_256_256_dice_loss_0_4__0_4_1/trained_models/\n",
            "  inflating: drive_256_256_dice_loss_0_4__0_4_1/trained_models/model.h5  \n",
            "  inflating: drive_256_256_dice_loss_0_4__0_4_1/trained_models/data.csv  \n",
            "   creating: drive_256_256_dice_loss_0_4__0_4_1/predictions/\n",
            "  inflating: drive_256_256_dice_loss_0_4__0_4_1/predictions/_09_test_2.png  \n",
            "  inflating: drive_256_256_dice_loss_0_4__0_4_1/predictions/_06_test_2.png  \n",
            "  inflating: drive_256_256_dice_loss_0_4__0_4_1/predictions/_07_test_5.png  \n",
            "  inflating: drive_256_256_dice_loss_0_4__0_4_1/predictions/_10_test_4.png  \n",
            "  inflating: drive_256_256_dice_loss_0_4__0_4_1/predictions/_03_test_6.png  \n",
            "  inflating: drive_256_256_dice_loss_0_4__0_4_1/predictions/_15_test_0.png  \n",
            "  inflating: drive_256_256_dice_loss_0_4__0_4_1/predictions/_03_test_2.png  \n",
            "  inflating: drive_256_256_dice_loss_0_4__0_4_1/predictions/_16_test_7.png  \n",
            "  inflating: drive_256_256_dice_loss_0_4__0_4_1/predictions/_11_test_8.png  \n",
            "  inflating: drive_256_256_dice_loss_0_4__0_4_1/predictions/_11_test_5.png  \n",
            "  inflating: drive_256_256_dice_loss_0_4__0_4_1/predictions/_10_test_5.png  \n",
            "  inflating: drive_256_256_dice_loss_0_4__0_4_1/predictions/_06_test_8.png  \n",
            "  inflating: drive_256_256_dice_loss_0_4__0_4_1/predictions/_02_test_7.png  \n",
            "  inflating: drive_256_256_dice_loss_0_4__0_4_1/predictions/_14_test_0.png  \n",
            "  inflating: drive_256_256_dice_loss_0_4__0_4_1/predictions/_18_test_7.png  \n",
            "  inflating: drive_256_256_dice_loss_0_4__0_4_1/predictions/_09_test_5.png  \n",
            "  inflating: drive_256_256_dice_loss_0_4__0_4_1/predictions/_15_test_3.png  \n",
            "  inflating: drive_256_256_dice_loss_0_4__0_4_1/predictions/_03_test_0.png  \n",
            "  inflating: drive_256_256_dice_loss_0_4__0_4_1/predictions/_02_test_0.png  \n",
            "  inflating: drive_256_256_dice_loss_0_4__0_4_1/predictions/_20_test_3.png  \n",
            "  inflating: drive_256_256_dice_loss_0_4__0_4_1/predictions/_09_test_3.png  \n",
            "  inflating: drive_256_256_dice_loss_0_4__0_4_1/predictions/_01_test_7.png  \n",
            "  inflating: drive_256_256_dice_loss_0_4__0_4_1/predictions/_03_test_5.png  \n",
            "  inflating: drive_256_256_dice_loss_0_4__0_4_1/predictions/_01_test_5.png  \n",
            "  inflating: drive_256_256_dice_loss_0_4__0_4_1/predictions/_12_test_7.png  \n",
            "  inflating: drive_256_256_dice_loss_0_4__0_4_1/predictions/_16_test_4.png  \n",
            "  inflating: drive_256_256_dice_loss_0_4__0_4_1/predictions/_12_test_4.png  \n",
            "  inflating: drive_256_256_dice_loss_0_4__0_4_1/predictions/_20_test_1.png  \n",
            "  inflating: drive_256_256_dice_loss_0_4__0_4_1/predictions/_13_test_7.png  \n",
            "  inflating: drive_256_256_dice_loss_0_4__0_4_1/predictions/_07_test_3.png  \n",
            "  inflating: drive_256_256_dice_loss_0_4__0_4_1/predictions/_12_test_8.png  \n",
            "  inflating: drive_256_256_dice_loss_0_4__0_4_1/predictions/_08_test_3.png  \n",
            "  inflating: drive_256_256_dice_loss_0_4__0_4_1/predictions/_12_test_2.png  \n",
            "  inflating: drive_256_256_dice_loss_0_4__0_4_1/predictions/_11_test_2.png  \n",
            "  inflating: drive_256_256_dice_loss_0_4__0_4_1/predictions/_09_test_0.png  \n",
            "  inflating: drive_256_256_dice_loss_0_4__0_4_1/predictions/_05_test_0.png  \n",
            "  inflating: drive_256_256_dice_loss_0_4__0_4_1/predictions/_19_test_4.png  \n",
            "  inflating: drive_256_256_dice_loss_0_4__0_4_1/predictions/_15_test_4.png  \n",
            "  inflating: drive_256_256_dice_loss_0_4__0_4_1/predictions/_03_test_3.png  \n",
            "  inflating: drive_256_256_dice_loss_0_4__0_4_1/predictions/_17_test_4.png  \n",
            "  inflating: drive_256_256_dice_loss_0_4__0_4_1/predictions/_17_test_2.png  \n",
            "  inflating: drive_256_256_dice_loss_0_4__0_4_1/predictions/_13_test_1.png  \n",
            "  inflating: drive_256_256_dice_loss_0_4__0_4_1/predictions/_15_test_1.png  \n",
            "  inflating: drive_256_256_dice_loss_0_4__0_4_1/predictions/_11_test_6.png  \n",
            "  inflating: drive_256_256_dice_loss_0_4__0_4_1/predictions/_17_test_8.png  \n",
            "  inflating: drive_256_256_dice_loss_0_4__0_4_1/predictions/_05_test_3.png  \n",
            "  inflating: drive_256_256_dice_loss_0_4__0_4_1/predictions/_14_test_8.png  \n",
            "  inflating: drive_256_256_dice_loss_0_4__0_4_1/predictions/_17_test_3.png  \n",
            "  inflating: drive_256_256_dice_loss_0_4__0_4_1/predictions/_20_test_6.png  \n",
            "  inflating: drive_256_256_dice_loss_0_4__0_4_1/predictions/_20_test_7.png  \n",
            "  inflating: drive_256_256_dice_loss_0_4__0_4_1/predictions/_07_test_2.png  \n",
            "  inflating: drive_256_256_dice_loss_0_4__0_4_1/predictions/_19_test_2.png  \n",
            "  inflating: drive_256_256_dice_loss_0_4__0_4_1/predictions/_07_test_1.png  \n",
            "  inflating: drive_256_256_dice_loss_0_4__0_4_1/predictions/_07_test_7.png  \n",
            "  inflating: drive_256_256_dice_loss_0_4__0_4_1/predictions/_04_test_0.png  \n",
            "  inflating: drive_256_256_dice_loss_0_4__0_4_1/predictions/_19_test_3.png  \n",
            "  inflating: drive_256_256_dice_loss_0_4__0_4_1/predictions/_15_test_5.png  \n",
            "  inflating: drive_256_256_dice_loss_0_4__0_4_1/predictions/_13_test_3.png  \n",
            "  inflating: drive_256_256_dice_loss_0_4__0_4_1/predictions/_20_test_0.png  \n",
            "  inflating: drive_256_256_dice_loss_0_4__0_4_1/predictions/_03_test_7.png  \n",
            "  inflating: drive_256_256_dice_loss_0_4__0_4_1/predictions/_10_test_8.png  \n",
            "  inflating: drive_256_256_dice_loss_0_4__0_4_1/predictions/_04_test_2.png  \n",
            "  inflating: drive_256_256_dice_loss_0_4__0_4_1/predictions/_02_test_1.png  \n",
            "  inflating: drive_256_256_dice_loss_0_4__0_4_1/predictions/_07_test_4.png  \n",
            "  inflating: drive_256_256_dice_loss_0_4__0_4_1/predictions/_16_test_6.png  \n",
            "  inflating: drive_256_256_dice_loss_0_4__0_4_1/predictions/_18_test_6.png  \n",
            "  inflating: drive_256_256_dice_loss_0_4__0_4_1/predictions/_16_test_0.png  \n",
            "  inflating: drive_256_256_dice_loss_0_4__0_4_1/predictions/_06_test_5.png  \n",
            "  inflating: drive_256_256_dice_loss_0_4__0_4_1/predictions/_02_test_8.png  \n",
            "  inflating: drive_256_256_dice_loss_0_4__0_4_1/predictions/_07_test_0.png  \n",
            "  inflating: drive_256_256_dice_loss_0_4__0_4_1/predictions/_10_test_2.png  \n",
            "  inflating: drive_256_256_dice_loss_0_4__0_4_1/predictions/_12_test_5.png  \n",
            "  inflating: drive_256_256_dice_loss_0_4__0_4_1/predictions/_09_test_6.png  \n",
            "  inflating: drive_256_256_dice_loss_0_4__0_4_1/predictions/_10_test_7.png  \n",
            "  inflating: drive_256_256_dice_loss_0_4__0_4_1/predictions/_18_test_3.png  \n",
            "  inflating: drive_256_256_dice_loss_0_4__0_4_1/predictions/_16_test_5.png  \n",
            "  inflating: drive_256_256_dice_loss_0_4__0_4_1/predictions/_20_test_8.png  \n",
            "  inflating: drive_256_256_dice_loss_0_4__0_4_1/predictions/_04_test_3.png  \n",
            "  inflating: drive_256_256_dice_loss_0_4__0_4_1/predictions/_02_test_5.png  \n",
            "  inflating: drive_256_256_dice_loss_0_4__0_4_1/predictions/_14_test_7.png  \n",
            "  inflating: drive_256_256_dice_loss_0_4__0_4_1/predictions/_08_test_0.png  \n",
            "  inflating: drive_256_256_dice_loss_0_4__0_4_1/predictions/_13_test_8.png  \n",
            "  inflating: drive_256_256_dice_loss_0_4__0_4_1/predictions/_18_test_4.png  \n",
            "  inflating: drive_256_256_dice_loss_0_4__0_4_1/predictions/_14_test_6.png  \n",
            "  inflating: drive_256_256_dice_loss_0_4__0_4_1/predictions/_08_test_1.png  \n",
            "  inflating: drive_256_256_dice_loss_0_4__0_4_1/predictions/_01_test_3.png  \n",
            "  inflating: drive_256_256_dice_loss_0_4__0_4_1/predictions/_11_test_3.png  \n",
            "  inflating: drive_256_256_dice_loss_0_4__0_4_1/predictions/_10_test_0.png  \n",
            "  inflating: drive_256_256_dice_loss_0_4__0_4_1/predictions/_16_test_3.png  \n",
            "  inflating: drive_256_256_dice_loss_0_4__0_4_1/predictions/_04_test_1.png  \n",
            "  inflating: drive_256_256_dice_loss_0_4__0_4_1/predictions/_17_test_1.png  \n",
            "  inflating: drive_256_256_dice_loss_0_4__0_4_1/predictions/_08_test_2.png  \n",
            "  inflating: drive_256_256_dice_loss_0_4__0_4_1/predictions/_04_test_6.png  \n",
            "  inflating: drive_256_256_dice_loss_0_4__0_4_1/predictions/_13_test_6.png  \n",
            "  inflating: drive_256_256_dice_loss_0_4__0_4_1/predictions/_18_test_5.png  \n",
            "  inflating: drive_256_256_dice_loss_0_4__0_4_1/predictions/_18_test_1.png  \n",
            "  inflating: drive_256_256_dice_loss_0_4__0_4_1/predictions/_16_test_2.png  \n",
            "  inflating: drive_256_256_dice_loss_0_4__0_4_1/predictions/_13_test_5.png  \n",
            "  inflating: drive_256_256_dice_loss_0_4__0_4_1/predictions/_15_test_7.png  \n",
            "  inflating: drive_256_256_dice_loss_0_4__0_4_1/predictions/_09_test_8.png  \n",
            "  inflating: drive_256_256_dice_loss_0_4__0_4_1/predictions/_19_test_0.png  \n",
            "  inflating: drive_256_256_dice_loss_0_4__0_4_1/predictions/_14_test_5.png  \n",
            "  inflating: drive_256_256_dice_loss_0_4__0_4_1/predictions/_11_test_4.png  \n",
            "  inflating: drive_256_256_dice_loss_0_4__0_4_1/predictions/_17_test_7.png  \n",
            "  inflating: drive_256_256_dice_loss_0_4__0_4_1/predictions/_04_test_5.png  \n",
            "  inflating: drive_256_256_dice_loss_0_4__0_4_1/predictions/_16_test_8.png  \n",
            "  inflating: drive_256_256_dice_loss_0_4__0_4_1/predictions/_18_test_0.png  \n",
            "  inflating: drive_256_256_dice_loss_0_4__0_4_1/predictions/_02_test_3.png  \n",
            "  inflating: drive_256_256_dice_loss_0_4__0_4_1/predictions/_01_test_4.png  \n",
            "  inflating: drive_256_256_dice_loss_0_4__0_4_1/predictions/_18_test_2.png  \n",
            "  inflating: drive_256_256_dice_loss_0_4__0_4_1/predictions/_03_test_4.png  \n",
            "  inflating: drive_256_256_dice_loss_0_4__0_4_1/predictions/_08_test_8.png  \n",
            "  inflating: drive_256_256_dice_loss_0_4__0_4_1/predictions/_16_test_1.png  \n",
            "  inflating: drive_256_256_dice_loss_0_4__0_4_1/predictions/_09_test_7.png  \n",
            "  inflating: drive_256_256_dice_loss_0_4__0_4_1/predictions/_11_test_1.png  \n",
            "  inflating: drive_256_256_dice_loss_0_4__0_4_1/predictions/_01_test_0.png  \n",
            "  inflating: drive_256_256_dice_loss_0_4__0_4_1/predictions/_08_test_5.png  \n",
            "  inflating: drive_256_256_dice_loss_0_4__0_4_1/predictions/_15_test_6.png  \n",
            "  inflating: drive_256_256_dice_loss_0_4__0_4_1/predictions/_05_test_6.png  \n",
            "  inflating: drive_256_256_dice_loss_0_4__0_4_1/predictions/_01_test_8.png  \n",
            "  inflating: drive_256_256_dice_loss_0_4__0_4_1/predictions/_13_test_0.png  \n",
            "  inflating: drive_256_256_dice_loss_0_4__0_4_1/predictions/_20_test_5.png  \n",
            "  inflating: drive_256_256_dice_loss_0_4__0_4_1/predictions/_17_test_0.png  \n",
            "  inflating: drive_256_256_dice_loss_0_4__0_4_1/predictions/_19_test_5.png  \n",
            "  inflating: drive_256_256_dice_loss_0_4__0_4_1/predictions/_11_test_0.png  \n",
            "  inflating: drive_256_256_dice_loss_0_4__0_4_1/predictions/_19_test_1.png  \n",
            "  inflating: drive_256_256_dice_loss_0_4__0_4_1/predictions/_01_test_6.png  \n",
            "  inflating: drive_256_256_dice_loss_0_4__0_4_1/predictions/_06_test_3.png  \n",
            "  inflating: drive_256_256_dice_loss_0_4__0_4_1/predictions/_10_test_3.png  \n",
            "  inflating: drive_256_256_dice_loss_0_4__0_4_1/predictions/_17_test_5.png  \n",
            "  inflating: drive_256_256_dice_loss_0_4__0_4_1/predictions/_02_test_6.png  \n",
            "  inflating: drive_256_256_dice_loss_0_4__0_4_1/predictions/_04_test_8.png  \n",
            "  inflating: drive_256_256_dice_loss_0_4__0_4_1/predictions/_13_test_4.png  \n",
            "  inflating: drive_256_256_dice_loss_0_4__0_4_1/predictions/_09_test_4.png  \n",
            "  inflating: drive_256_256_dice_loss_0_4__0_4_1/predictions/_17_test_6.png  \n",
            "  inflating: drive_256_256_dice_loss_0_4__0_4_1/predictions/_14_test_1.png  \n",
            "  inflating: drive_256_256_dice_loss_0_4__0_4_1/predictions/_02_test_2.png  \n",
            "  inflating: drive_256_256_dice_loss_0_4__0_4_1/predictions/_19_test_7.png  \n",
            "  inflating: drive_256_256_dice_loss_0_4__0_4_1/predictions/_19_test_6.png  \n",
            "  inflating: drive_256_256_dice_loss_0_4__0_4_1/predictions/_20_test_2.png  \n",
            "  inflating: drive_256_256_dice_loss_0_4__0_4_1/predictions/_10_test_1.png  \n",
            "  inflating: drive_256_256_dice_loss_0_4__0_4_1/predictions/_05_test_7.png  \n",
            "  inflating: drive_256_256_dice_loss_0_4__0_4_1/predictions/_06_test_1.png  \n",
            "  inflating: drive_256_256_dice_loss_0_4__0_4_1/predictions/_08_test_6.png  \n",
            "  inflating: drive_256_256_dice_loss_0_4__0_4_1/predictions/_06_test_6.png  \n",
            "  inflating: drive_256_256_dice_loss_0_4__0_4_1/predictions/_06_test_7.png  \n",
            "  inflating: drive_256_256_dice_loss_0_4__0_4_1/predictions/_19_test_8.png  \n",
            "  inflating: drive_256_256_dice_loss_0_4__0_4_1/predictions/_13_test_2.png  \n",
            "  inflating: drive_256_256_dice_loss_0_4__0_4_1/predictions/_03_test_1.png  \n",
            "  inflating: drive_256_256_dice_loss_0_4__0_4_1/predictions/_06_test_0.png  \n",
            "  inflating: drive_256_256_dice_loss_0_4__0_4_1/predictions/_15_test_2.png  \n",
            "  inflating: drive_256_256_dice_loss_0_4__0_4_1/predictions/_15_test_8.png  \n",
            "  inflating: drive_256_256_dice_loss_0_4__0_4_1/predictions/_05_test_4.png  \n",
            "  inflating: drive_256_256_dice_loss_0_4__0_4_1/predictions/_05_test_8.png  \n",
            "  inflating: drive_256_256_dice_loss_0_4__0_4_1/predictions/_12_test_0.png  \n",
            "  inflating: drive_256_256_dice_loss_0_4__0_4_1/predictions/_20_test_4.png  \n",
            "  inflating: drive_256_256_dice_loss_0_4__0_4_1/predictions/_05_test_5.png  \n",
            "  inflating: drive_256_256_dice_loss_0_4__0_4_1/predictions/_04_test_4.png  \n",
            "  inflating: drive_256_256_dice_loss_0_4__0_4_1/predictions/_12_test_1.png  \n",
            "  inflating: drive_256_256_dice_loss_0_4__0_4_1/predictions/_07_test_8.png  \n",
            "  inflating: drive_256_256_dice_loss_0_4__0_4_1/predictions/_03_test_8.png  \n",
            "  inflating: drive_256_256_dice_loss_0_4__0_4_1/predictions/_09_test_1.png  \n",
            "  inflating: drive_256_256_dice_loss_0_4__0_4_1/predictions/_12_test_6.png  \n",
            "  inflating: drive_256_256_dice_loss_0_4__0_4_1/predictions/_05_test_1.png  \n",
            "  inflating: drive_256_256_dice_loss_0_4__0_4_1/predictions/_11_test_7.png  \n",
            "  inflating: drive_256_256_dice_loss_0_4__0_4_1/predictions/_02_test_4.png  \n",
            "  inflating: drive_256_256_dice_loss_0_4__0_4_1/predictions/_08_test_7.png  \n",
            "  inflating: drive_256_256_dice_loss_0_4__0_4_1/predictions/_12_test_3.png  \n",
            "  inflating: drive_256_256_dice_loss_0_4__0_4_1/predictions/_01_test_1.png  \n",
            "  inflating: drive_256_256_dice_loss_0_4__0_4_1/predictions/_14_test_2.png  \n",
            "  inflating: drive_256_256_dice_loss_0_4__0_4_1/predictions/_14_test_3.png  \n",
            "  inflating: drive_256_256_dice_loss_0_4__0_4_1/predictions/_07_test_6.png  \n",
            "  inflating: drive_256_256_dice_loss_0_4__0_4_1/predictions/_14_test_4.png  \n",
            "  inflating: drive_256_256_dice_loss_0_4__0_4_1/predictions/_08_test_4.png  \n",
            "  inflating: drive_256_256_dice_loss_0_4__0_4_1/predictions/_01_test_2.png  \n",
            "  inflating: drive_256_256_dice_loss_0_4__0_4_1/predictions/_10_test_6.png  \n",
            "  inflating: drive_256_256_dice_loss_0_4__0_4_1/predictions/_05_test_2.png  \n",
            "  inflating: drive_256_256_dice_loss_0_4__0_4_1/predictions/_06_test_4.png  \n",
            "  inflating: drive_256_256_dice_loss_0_4__0_4_1/predictions/_18_test_8.png  \n",
            "  inflating: drive_256_256_dice_loss_0_4__0_4_1/predictions/_04_test_7.png  \n",
            "   creating: drive_256_256_dice_loss_0_4__0_4_1/split_2/\n",
            "   creating: drive_256_256_dice_loss_0_4__0_4_1/split_2/reconstructed/\n",
            "   creating: drive_256_256_dice_loss_0_4__0_4_1/split_2/reconstructed/test/\n",
            "   creating: drive_256_256_dice_loss_0_4__0_4_1/split_2/reconstructed/test/mask/\n",
            "  inflating: drive_256_256_dice_loss_0_4__0_4_1/split_2/reconstructed/test/mask/15_test.png  \n",
            "  inflating: drive_256_256_dice_loss_0_4__0_4_1/split_2/reconstructed/test/mask/03_test.png  \n",
            "  inflating: drive_256_256_dice_loss_0_4__0_4_1/split_2/reconstructed/test/mask/06_test.png  \n",
            "  inflating: drive_256_256_dice_loss_0_4__0_4_1/split_2/reconstructed/test/mask/18_test.png  \n",
            "  inflating: drive_256_256_dice_loss_0_4__0_4_1/split_2/reconstructed/test/mask/10_test.png  \n",
            "  inflating: drive_256_256_dice_loss_0_4__0_4_1/split_2/reconstructed/test/mask/17_test.png  \n",
            "  inflating: drive_256_256_dice_loss_0_4__0_4_1/split_2/reconstructed/test/mask/20_test.png  \n",
            "  inflating: drive_256_256_dice_loss_0_4__0_4_1/split_2/reconstructed/test/mask/04_test.png  \n",
            "  inflating: drive_256_256_dice_loss_0_4__0_4_1/split_2/reconstructed/test/mask/14_test.png  \n",
            "  inflating: drive_256_256_dice_loss_0_4__0_4_1/split_2/reconstructed/test/mask/09_test.png  \n",
            "  inflating: drive_256_256_dice_loss_0_4__0_4_1/split_2/reconstructed/test/mask/12_test.png  \n",
            "  inflating: drive_256_256_dice_loss_0_4__0_4_1/split_2/reconstructed/test/mask/05_test.png  \n",
            "  inflating: drive_256_256_dice_loss_0_4__0_4_1/split_2/reconstructed/test/mask/11_test.png  \n",
            "  inflating: drive_256_256_dice_loss_0_4__0_4_1/split_2/reconstructed/test/mask/07_test.png  \n",
            "  inflating: drive_256_256_dice_loss_0_4__0_4_1/split_2/reconstructed/test/mask/16_test.png  \n",
            "  inflating: drive_256_256_dice_loss_0_4__0_4_1/split_2/reconstructed/test/mask/19_test.png  \n",
            "  inflating: drive_256_256_dice_loss_0_4__0_4_1/split_2/reconstructed/test/mask/01_test.png  \n",
            "  inflating: drive_256_256_dice_loss_0_4__0_4_1/split_2/reconstructed/test/mask/02_test.png  \n",
            "  inflating: drive_256_256_dice_loss_0_4__0_4_1/split_2/reconstructed/test/mask/13_test.png  \n",
            "  inflating: drive_256_256_dice_loss_0_4__0_4_1/split_2/reconstructed/test/mask/08_test.png  \n",
            "   creating: drive_256_256_dice_loss_0_4__0_4_1/split_2/reconstructed/test/predictions_reconstructed/\n",
            "  inflating: drive_256_256_dice_loss_0_4__0_4_1/split_2/reconstructed/test/predictions_reconstructed/15_test.png  \n",
            "  inflating: drive_256_256_dice_loss_0_4__0_4_1/split_2/reconstructed/test/predictions_reconstructed/03_test.png  \n",
            "  inflating: drive_256_256_dice_loss_0_4__0_4_1/split_2/reconstructed/test/predictions_reconstructed/06_test.png  \n",
            "  inflating: drive_256_256_dice_loss_0_4__0_4_1/split_2/reconstructed/test/predictions_reconstructed/18_test.png  \n",
            "  inflating: drive_256_256_dice_loss_0_4__0_4_1/split_2/reconstructed/test/predictions_reconstructed/10_test.png  \n",
            "  inflating: drive_256_256_dice_loss_0_4__0_4_1/split_2/reconstructed/test/predictions_reconstructed/17_test.png  \n",
            "  inflating: drive_256_256_dice_loss_0_4__0_4_1/split_2/reconstructed/test/predictions_reconstructed/20_test.png  \n",
            "  inflating: drive_256_256_dice_loss_0_4__0_4_1/split_2/reconstructed/test/predictions_reconstructed/04_test.png  \n",
            "  inflating: drive_256_256_dice_loss_0_4__0_4_1/split_2/reconstructed/test/predictions_reconstructed/14_test.png  \n",
            "  inflating: drive_256_256_dice_loss_0_4__0_4_1/split_2/reconstructed/test/predictions_reconstructed/09_test.png  \n",
            "  inflating: drive_256_256_dice_loss_0_4__0_4_1/split_2/reconstructed/test/predictions_reconstructed/12_test.png  \n",
            "  inflating: drive_256_256_dice_loss_0_4__0_4_1/split_2/reconstructed/test/predictions_reconstructed/05_test.png  \n",
            "  inflating: drive_256_256_dice_loss_0_4__0_4_1/split_2/reconstructed/test/predictions_reconstructed/11_test.png  \n",
            "  inflating: drive_256_256_dice_loss_0_4__0_4_1/split_2/reconstructed/test/predictions_reconstructed/07_test.png  \n",
            "  inflating: drive_256_256_dice_loss_0_4__0_4_1/split_2/reconstructed/test/predictions_reconstructed/16_test.png  \n",
            "  inflating: drive_256_256_dice_loss_0_4__0_4_1/split_2/reconstructed/test/predictions_reconstructed/19_test.png  \n",
            "  inflating: drive_256_256_dice_loss_0_4__0_4_1/split_2/reconstructed/test/predictions_reconstructed/01_test.png  \n",
            "  inflating: drive_256_256_dice_loss_0_4__0_4_1/split_2/reconstructed/test/predictions_reconstructed/02_test.png  \n",
            "  inflating: drive_256_256_dice_loss_0_4__0_4_1/split_2/reconstructed/test/predictions_reconstructed/13_test.png  \n",
            "  inflating: drive_256_256_dice_loss_0_4__0_4_1/split_2/reconstructed/test/predictions_reconstructed/08_test.png  \n",
            "   creating: drive_256_256_dice_loss_0_4__0_4_1/split_2/reconstructed/test/image/\n",
            "  inflating: drive_256_256_dice_loss_0_4__0_4_1/split_2/reconstructed/test/image/15_test.png  \n",
            "  inflating: drive_256_256_dice_loss_0_4__0_4_1/split_2/reconstructed/test/image/03_test.png  \n",
            "  inflating: drive_256_256_dice_loss_0_4__0_4_1/split_2/reconstructed/test/image/06_test.png  \n",
            "  inflating: drive_256_256_dice_loss_0_4__0_4_1/split_2/reconstructed/test/image/18_test.png  \n",
            "  inflating: drive_256_256_dice_loss_0_4__0_4_1/split_2/reconstructed/test/image/10_test.png  \n",
            "  inflating: drive_256_256_dice_loss_0_4__0_4_1/split_2/reconstructed/test/image/17_test.png  \n",
            "  inflating: drive_256_256_dice_loss_0_4__0_4_1/split_2/reconstructed/test/image/20_test.png  \n",
            "  inflating: drive_256_256_dice_loss_0_4__0_4_1/split_2/reconstructed/test/image/04_test.png  \n",
            "  inflating: drive_256_256_dice_loss_0_4__0_4_1/split_2/reconstructed/test/image/14_test.png  \n",
            "  inflating: drive_256_256_dice_loss_0_4__0_4_1/split_2/reconstructed/test/image/09_test.png  \n",
            "  inflating: drive_256_256_dice_loss_0_4__0_4_1/split_2/reconstructed/test/image/12_test.png  \n",
            "  inflating: drive_256_256_dice_loss_0_4__0_4_1/split_2/reconstructed/test/image/05_test.png  \n",
            "  inflating: drive_256_256_dice_loss_0_4__0_4_1/split_2/reconstructed/test/image/11_test.png  \n",
            "  inflating: drive_256_256_dice_loss_0_4__0_4_1/split_2/reconstructed/test/image/07_test.png  \n",
            "  inflating: drive_256_256_dice_loss_0_4__0_4_1/split_2/reconstructed/test/image/16_test.png  \n",
            "  inflating: drive_256_256_dice_loss_0_4__0_4_1/split_2/reconstructed/test/image/19_test.png  \n",
            "  inflating: drive_256_256_dice_loss_0_4__0_4_1/split_2/reconstructed/test/image/01_test.png  \n",
            "  inflating: drive_256_256_dice_loss_0_4__0_4_1/split_2/reconstructed/test/image/02_test.png  \n",
            "  inflating: drive_256_256_dice_loss_0_4__0_4_1/split_2/reconstructed/test/image/13_test.png  \n",
            "  inflating: drive_256_256_dice_loss_0_4__0_4_1/split_2/reconstructed/test/image/08_test.png  \n",
            "  inflating: drive_256_256_dice_loss_0_4__0_4_1/split_2/image_patches_256_256_test.csv  \n",
            "   creating: drive_256_256_dice_loss_0_4__0_4_1/split_2/test/\n",
            "   creating: drive_256_256_dice_loss_0_4__0_4_1/split_2/test/mask/\n",
            "  inflating: drive_256_256_dice_loss_0_4__0_4_1/split_2/test/mask/_09_test_2.png  \n",
            "  inflating: drive_256_256_dice_loss_0_4__0_4_1/split_2/test/mask/_06_test_2.png  \n",
            "  inflating: drive_256_256_dice_loss_0_4__0_4_1/split_2/test/mask/_07_test_5.png  \n",
            "  inflating: drive_256_256_dice_loss_0_4__0_4_1/split_2/test/mask/_10_test_4.png  \n",
            "  inflating: drive_256_256_dice_loss_0_4__0_4_1/split_2/test/mask/_03_test_6.png  \n",
            "  inflating: drive_256_256_dice_loss_0_4__0_4_1/split_2/test/mask/_15_test_0.png  \n",
            "  inflating: drive_256_256_dice_loss_0_4__0_4_1/split_2/test/mask/_03_test_2.png  \n",
            "  inflating: drive_256_256_dice_loss_0_4__0_4_1/split_2/test/mask/_16_test_7.png  \n",
            "  inflating: drive_256_256_dice_loss_0_4__0_4_1/split_2/test/mask/_11_test_8.png  \n",
            "  inflating: drive_256_256_dice_loss_0_4__0_4_1/split_2/test/mask/_11_test_5.png  \n",
            "  inflating: drive_256_256_dice_loss_0_4__0_4_1/split_2/test/mask/_10_test_5.png  \n",
            "  inflating: drive_256_256_dice_loss_0_4__0_4_1/split_2/test/mask/_06_test_8.png  \n",
            "  inflating: drive_256_256_dice_loss_0_4__0_4_1/split_2/test/mask/_02_test_7.png  \n",
            "  inflating: drive_256_256_dice_loss_0_4__0_4_1/split_2/test/mask/_14_test_0.png  \n",
            "  inflating: drive_256_256_dice_loss_0_4__0_4_1/split_2/test/mask/_18_test_7.png  \n",
            "  inflating: drive_256_256_dice_loss_0_4__0_4_1/split_2/test/mask/_09_test_5.png  \n",
            "  inflating: drive_256_256_dice_loss_0_4__0_4_1/split_2/test/mask/_15_test_3.png  \n",
            "  inflating: drive_256_256_dice_loss_0_4__0_4_1/split_2/test/mask/_03_test_0.png  \n",
            "  inflating: drive_256_256_dice_loss_0_4__0_4_1/split_2/test/mask/_02_test_0.png  \n",
            "  inflating: drive_256_256_dice_loss_0_4__0_4_1/split_2/test/mask/_20_test_3.png  \n",
            "  inflating: drive_256_256_dice_loss_0_4__0_4_1/split_2/test/mask/_09_test_3.png  \n",
            "  inflating: drive_256_256_dice_loss_0_4__0_4_1/split_2/test/mask/_01_test_7.png  \n",
            "  inflating: drive_256_256_dice_loss_0_4__0_4_1/split_2/test/mask/_03_test_5.png  \n",
            "  inflating: drive_256_256_dice_loss_0_4__0_4_1/split_2/test/mask/_01_test_5.png  \n",
            "  inflating: drive_256_256_dice_loss_0_4__0_4_1/split_2/test/mask/_12_test_7.png  \n",
            "  inflating: drive_256_256_dice_loss_0_4__0_4_1/split_2/test/mask/_16_test_4.png  \n",
            "  inflating: drive_256_256_dice_loss_0_4__0_4_1/split_2/test/mask/_12_test_4.png  \n",
            "  inflating: drive_256_256_dice_loss_0_4__0_4_1/split_2/test/mask/_20_test_1.png  \n",
            "  inflating: drive_256_256_dice_loss_0_4__0_4_1/split_2/test/mask/_13_test_7.png  \n",
            "  inflating: drive_256_256_dice_loss_0_4__0_4_1/split_2/test/mask/_07_test_3.png  \n",
            "  inflating: drive_256_256_dice_loss_0_4__0_4_1/split_2/test/mask/_12_test_8.png  \n",
            "  inflating: drive_256_256_dice_loss_0_4__0_4_1/split_2/test/mask/_08_test_3.png  \n",
            "  inflating: drive_256_256_dice_loss_0_4__0_4_1/split_2/test/mask/_12_test_2.png  \n",
            "  inflating: drive_256_256_dice_loss_0_4__0_4_1/split_2/test/mask/_11_test_2.png  \n",
            "  inflating: drive_256_256_dice_loss_0_4__0_4_1/split_2/test/mask/_09_test_0.png  \n",
            "  inflating: drive_256_256_dice_loss_0_4__0_4_1/split_2/test/mask/_05_test_0.png  \n",
            "  inflating: drive_256_256_dice_loss_0_4__0_4_1/split_2/test/mask/_19_test_4.png  \n",
            "  inflating: drive_256_256_dice_loss_0_4__0_4_1/split_2/test/mask/_15_test_4.png  \n",
            "  inflating: drive_256_256_dice_loss_0_4__0_4_1/split_2/test/mask/_03_test_3.png  \n",
            "  inflating: drive_256_256_dice_loss_0_4__0_4_1/split_2/test/mask/_17_test_4.png  \n",
            "  inflating: drive_256_256_dice_loss_0_4__0_4_1/split_2/test/mask/_17_test_2.png  \n",
            "  inflating: drive_256_256_dice_loss_0_4__0_4_1/split_2/test/mask/_13_test_1.png  \n",
            "  inflating: drive_256_256_dice_loss_0_4__0_4_1/split_2/test/mask/_15_test_1.png  \n",
            "  inflating: drive_256_256_dice_loss_0_4__0_4_1/split_2/test/mask/_11_test_6.png  \n",
            "  inflating: drive_256_256_dice_loss_0_4__0_4_1/split_2/test/mask/_17_test_8.png  \n",
            "  inflating: drive_256_256_dice_loss_0_4__0_4_1/split_2/test/mask/_05_test_3.png  \n",
            "  inflating: drive_256_256_dice_loss_0_4__0_4_1/split_2/test/mask/_14_test_8.png  \n",
            "  inflating: drive_256_256_dice_loss_0_4__0_4_1/split_2/test/mask/_17_test_3.png  \n",
            "  inflating: drive_256_256_dice_loss_0_4__0_4_1/split_2/test/mask/_20_test_6.png  \n",
            "  inflating: drive_256_256_dice_loss_0_4__0_4_1/split_2/test/mask/_20_test_7.png  \n",
            "  inflating: drive_256_256_dice_loss_0_4__0_4_1/split_2/test/mask/_07_test_2.png  \n",
            "  inflating: drive_256_256_dice_loss_0_4__0_4_1/split_2/test/mask/_19_test_2.png  \n",
            "  inflating: drive_256_256_dice_loss_0_4__0_4_1/split_2/test/mask/_07_test_1.png  \n",
            "  inflating: drive_256_256_dice_loss_0_4__0_4_1/split_2/test/mask/_07_test_7.png  \n",
            "  inflating: drive_256_256_dice_loss_0_4__0_4_1/split_2/test/mask/_04_test_0.png  \n",
            "  inflating: drive_256_256_dice_loss_0_4__0_4_1/split_2/test/mask/_19_test_3.png  \n",
            "  inflating: drive_256_256_dice_loss_0_4__0_4_1/split_2/test/mask/_15_test_5.png  \n",
            "  inflating: drive_256_256_dice_loss_0_4__0_4_1/split_2/test/mask/_13_test_3.png  \n",
            "  inflating: drive_256_256_dice_loss_0_4__0_4_1/split_2/test/mask/_20_test_0.png  \n",
            "  inflating: drive_256_256_dice_loss_0_4__0_4_1/split_2/test/mask/_03_test_7.png  \n",
            "  inflating: drive_256_256_dice_loss_0_4__0_4_1/split_2/test/mask/_10_test_8.png  \n",
            "  inflating: drive_256_256_dice_loss_0_4__0_4_1/split_2/test/mask/_04_test_2.png  \n",
            "  inflating: drive_256_256_dice_loss_0_4__0_4_1/split_2/test/mask/_02_test_1.png  \n",
            "  inflating: drive_256_256_dice_loss_0_4__0_4_1/split_2/test/mask/_07_test_4.png  \n",
            "  inflating: drive_256_256_dice_loss_0_4__0_4_1/split_2/test/mask/_16_test_6.png  \n",
            "  inflating: drive_256_256_dice_loss_0_4__0_4_1/split_2/test/mask/_18_test_6.png  \n",
            "  inflating: drive_256_256_dice_loss_0_4__0_4_1/split_2/test/mask/_16_test_0.png  \n",
            "  inflating: drive_256_256_dice_loss_0_4__0_4_1/split_2/test/mask/_06_test_5.png  \n",
            "  inflating: drive_256_256_dice_loss_0_4__0_4_1/split_2/test/mask/_02_test_8.png  \n",
            "  inflating: drive_256_256_dice_loss_0_4__0_4_1/split_2/test/mask/_07_test_0.png  \n",
            "  inflating: drive_256_256_dice_loss_0_4__0_4_1/split_2/test/mask/_10_test_2.png  \n",
            "  inflating: drive_256_256_dice_loss_0_4__0_4_1/split_2/test/mask/_12_test_5.png  \n",
            "  inflating: drive_256_256_dice_loss_0_4__0_4_1/split_2/test/mask/_09_test_6.png  \n",
            "  inflating: drive_256_256_dice_loss_0_4__0_4_1/split_2/test/mask/_10_test_7.png  \n",
            "  inflating: drive_256_256_dice_loss_0_4__0_4_1/split_2/test/mask/_18_test_3.png  \n",
            "  inflating: drive_256_256_dice_loss_0_4__0_4_1/split_2/test/mask/_16_test_5.png  \n",
            "  inflating: drive_256_256_dice_loss_0_4__0_4_1/split_2/test/mask/_20_test_8.png  \n",
            "  inflating: drive_256_256_dice_loss_0_4__0_4_1/split_2/test/mask/_04_test_3.png  \n",
            "  inflating: drive_256_256_dice_loss_0_4__0_4_1/split_2/test/mask/_02_test_5.png  \n",
            "  inflating: drive_256_256_dice_loss_0_4__0_4_1/split_2/test/mask/_14_test_7.png  \n",
            "  inflating: drive_256_256_dice_loss_0_4__0_4_1/split_2/test/mask/_08_test_0.png  \n",
            "  inflating: drive_256_256_dice_loss_0_4__0_4_1/split_2/test/mask/_13_test_8.png  \n",
            "  inflating: drive_256_256_dice_loss_0_4__0_4_1/split_2/test/mask/_18_test_4.png  \n",
            "  inflating: drive_256_256_dice_loss_0_4__0_4_1/split_2/test/mask/_14_test_6.png  \n",
            "  inflating: drive_256_256_dice_loss_0_4__0_4_1/split_2/test/mask/_08_test_1.png  \n",
            "  inflating: drive_256_256_dice_loss_0_4__0_4_1/split_2/test/mask/_01_test_3.png  \n",
            "  inflating: drive_256_256_dice_loss_0_4__0_4_1/split_2/test/mask/_11_test_3.png  \n",
            "  inflating: drive_256_256_dice_loss_0_4__0_4_1/split_2/test/mask/_10_test_0.png  \n",
            "  inflating: drive_256_256_dice_loss_0_4__0_4_1/split_2/test/mask/_16_test_3.png  \n",
            "  inflating: drive_256_256_dice_loss_0_4__0_4_1/split_2/test/mask/_04_test_1.png  \n",
            "  inflating: drive_256_256_dice_loss_0_4__0_4_1/split_2/test/mask/_17_test_1.png  \n",
            "  inflating: drive_256_256_dice_loss_0_4__0_4_1/split_2/test/mask/_08_test_2.png  \n",
            "  inflating: drive_256_256_dice_loss_0_4__0_4_1/split_2/test/mask/_04_test_6.png  \n",
            "  inflating: drive_256_256_dice_loss_0_4__0_4_1/split_2/test/mask/_13_test_6.png  \n",
            "  inflating: drive_256_256_dice_loss_0_4__0_4_1/split_2/test/mask/_18_test_5.png  \n",
            "  inflating: drive_256_256_dice_loss_0_4__0_4_1/split_2/test/mask/_18_test_1.png  \n",
            "  inflating: drive_256_256_dice_loss_0_4__0_4_1/split_2/test/mask/_16_test_2.png  \n",
            "  inflating: drive_256_256_dice_loss_0_4__0_4_1/split_2/test/mask/_13_test_5.png  \n",
            "  inflating: drive_256_256_dice_loss_0_4__0_4_1/split_2/test/mask/_15_test_7.png  \n",
            "  inflating: drive_256_256_dice_loss_0_4__0_4_1/split_2/test/mask/_09_test_8.png  \n",
            "  inflating: drive_256_256_dice_loss_0_4__0_4_1/split_2/test/mask/_19_test_0.png  \n",
            "  inflating: drive_256_256_dice_loss_0_4__0_4_1/split_2/test/mask/_14_test_5.png  \n",
            "  inflating: drive_256_256_dice_loss_0_4__0_4_1/split_2/test/mask/_11_test_4.png  \n",
            "  inflating: drive_256_256_dice_loss_0_4__0_4_1/split_2/test/mask/_17_test_7.png  \n",
            "  inflating: drive_256_256_dice_loss_0_4__0_4_1/split_2/test/mask/_04_test_5.png  \n",
            "  inflating: drive_256_256_dice_loss_0_4__0_4_1/split_2/test/mask/_16_test_8.png  \n",
            "  inflating: drive_256_256_dice_loss_0_4__0_4_1/split_2/test/mask/_18_test_0.png  \n",
            "  inflating: drive_256_256_dice_loss_0_4__0_4_1/split_2/test/mask/_02_test_3.png  \n",
            "  inflating: drive_256_256_dice_loss_0_4__0_4_1/split_2/test/mask/_01_test_4.png  \n",
            "  inflating: drive_256_256_dice_loss_0_4__0_4_1/split_2/test/mask/_18_test_2.png  \n",
            "  inflating: drive_256_256_dice_loss_0_4__0_4_1/split_2/test/mask/_03_test_4.png  \n",
            "  inflating: drive_256_256_dice_loss_0_4__0_4_1/split_2/test/mask/_08_test_8.png  \n",
            "  inflating: drive_256_256_dice_loss_0_4__0_4_1/split_2/test/mask/_16_test_1.png  \n",
            "  inflating: drive_256_256_dice_loss_0_4__0_4_1/split_2/test/mask/_09_test_7.png  \n",
            "  inflating: drive_256_256_dice_loss_0_4__0_4_1/split_2/test/mask/_11_test_1.png  \n",
            "  inflating: drive_256_256_dice_loss_0_4__0_4_1/split_2/test/mask/_01_test_0.png  \n",
            "  inflating: drive_256_256_dice_loss_0_4__0_4_1/split_2/test/mask/_08_test_5.png  \n",
            "  inflating: drive_256_256_dice_loss_0_4__0_4_1/split_2/test/mask/_15_test_6.png  \n",
            "  inflating: drive_256_256_dice_loss_0_4__0_4_1/split_2/test/mask/_05_test_6.png  \n",
            "  inflating: drive_256_256_dice_loss_0_4__0_4_1/split_2/test/mask/_01_test_8.png  \n",
            "  inflating: drive_256_256_dice_loss_0_4__0_4_1/split_2/test/mask/_13_test_0.png  \n",
            "  inflating: drive_256_256_dice_loss_0_4__0_4_1/split_2/test/mask/_20_test_5.png  \n",
            "  inflating: drive_256_256_dice_loss_0_4__0_4_1/split_2/test/mask/_17_test_0.png  \n",
            "  inflating: drive_256_256_dice_loss_0_4__0_4_1/split_2/test/mask/_19_test_5.png  \n",
            "  inflating: drive_256_256_dice_loss_0_4__0_4_1/split_2/test/mask/_11_test_0.png  \n",
            "  inflating: drive_256_256_dice_loss_0_4__0_4_1/split_2/test/mask/_19_test_1.png  \n",
            "  inflating: drive_256_256_dice_loss_0_4__0_4_1/split_2/test/mask/_01_test_6.png  \n",
            "  inflating: drive_256_256_dice_loss_0_4__0_4_1/split_2/test/mask/_06_test_3.png  \n",
            "  inflating: drive_256_256_dice_loss_0_4__0_4_1/split_2/test/mask/_10_test_3.png  \n",
            "  inflating: drive_256_256_dice_loss_0_4__0_4_1/split_2/test/mask/_17_test_5.png  \n",
            "  inflating: drive_256_256_dice_loss_0_4__0_4_1/split_2/test/mask/_02_test_6.png  \n",
            "  inflating: drive_256_256_dice_loss_0_4__0_4_1/split_2/test/mask/_04_test_8.png  \n",
            "  inflating: drive_256_256_dice_loss_0_4__0_4_1/split_2/test/mask/_13_test_4.png  \n",
            "  inflating: drive_256_256_dice_loss_0_4__0_4_1/split_2/test/mask/_09_test_4.png  \n",
            "  inflating: drive_256_256_dice_loss_0_4__0_4_1/split_2/test/mask/_17_test_6.png  \n",
            "  inflating: drive_256_256_dice_loss_0_4__0_4_1/split_2/test/mask/_14_test_1.png  \n",
            "  inflating: drive_256_256_dice_loss_0_4__0_4_1/split_2/test/mask/_02_test_2.png  \n",
            "  inflating: drive_256_256_dice_loss_0_4__0_4_1/split_2/test/mask/_19_test_7.png  \n",
            "  inflating: drive_256_256_dice_loss_0_4__0_4_1/split_2/test/mask/_19_test_6.png  \n",
            "  inflating: drive_256_256_dice_loss_0_4__0_4_1/split_2/test/mask/_20_test_2.png  \n",
            "  inflating: drive_256_256_dice_loss_0_4__0_4_1/split_2/test/mask/_10_test_1.png  \n",
            "  inflating: drive_256_256_dice_loss_0_4__0_4_1/split_2/test/mask/_05_test_7.png  \n",
            "  inflating: drive_256_256_dice_loss_0_4__0_4_1/split_2/test/mask/_06_test_1.png  \n",
            "  inflating: drive_256_256_dice_loss_0_4__0_4_1/split_2/test/mask/_08_test_6.png  \n",
            "  inflating: drive_256_256_dice_loss_0_4__0_4_1/split_2/test/mask/_06_test_6.png  \n",
            "  inflating: drive_256_256_dice_loss_0_4__0_4_1/split_2/test/mask/_06_test_7.png  \n",
            "  inflating: drive_256_256_dice_loss_0_4__0_4_1/split_2/test/mask/_19_test_8.png  \n",
            "  inflating: drive_256_256_dice_loss_0_4__0_4_1/split_2/test/mask/_13_test_2.png  \n",
            "  inflating: drive_256_256_dice_loss_0_4__0_4_1/split_2/test/mask/_03_test_1.png  \n",
            "  inflating: drive_256_256_dice_loss_0_4__0_4_1/split_2/test/mask/_06_test_0.png  \n",
            "  inflating: drive_256_256_dice_loss_0_4__0_4_1/split_2/test/mask/_15_test_2.png  \n",
            "  inflating: drive_256_256_dice_loss_0_4__0_4_1/split_2/test/mask/_15_test_8.png  \n",
            "  inflating: drive_256_256_dice_loss_0_4__0_4_1/split_2/test/mask/_05_test_4.png  \n",
            "  inflating: drive_256_256_dice_loss_0_4__0_4_1/split_2/test/mask/_05_test_8.png  \n",
            "  inflating: drive_256_256_dice_loss_0_4__0_4_1/split_2/test/mask/_12_test_0.png  \n",
            "  inflating: drive_256_256_dice_loss_0_4__0_4_1/split_2/test/mask/_20_test_4.png  \n",
            "  inflating: drive_256_256_dice_loss_0_4__0_4_1/split_2/test/mask/_05_test_5.png  \n",
            "  inflating: drive_256_256_dice_loss_0_4__0_4_1/split_2/test/mask/_04_test_4.png  \n",
            "  inflating: drive_256_256_dice_loss_0_4__0_4_1/split_2/test/mask/_12_test_1.png  \n",
            "  inflating: drive_256_256_dice_loss_0_4__0_4_1/split_2/test/mask/_07_test_8.png  \n",
            "  inflating: drive_256_256_dice_loss_0_4__0_4_1/split_2/test/mask/_03_test_8.png  \n",
            "  inflating: drive_256_256_dice_loss_0_4__0_4_1/split_2/test/mask/_09_test_1.png  \n",
            "  inflating: drive_256_256_dice_loss_0_4__0_4_1/split_2/test/mask/_12_test_6.png  \n",
            "  inflating: drive_256_256_dice_loss_0_4__0_4_1/split_2/test/mask/_05_test_1.png  \n",
            "  inflating: drive_256_256_dice_loss_0_4__0_4_1/split_2/test/mask/_11_test_7.png  \n",
            "  inflating: drive_256_256_dice_loss_0_4__0_4_1/split_2/test/mask/_02_test_4.png  \n",
            "  inflating: drive_256_256_dice_loss_0_4__0_4_1/split_2/test/mask/_08_test_7.png  \n",
            "  inflating: drive_256_256_dice_loss_0_4__0_4_1/split_2/test/mask/_12_test_3.png  \n",
            "  inflating: drive_256_256_dice_loss_0_4__0_4_1/split_2/test/mask/_01_test_1.png  \n",
            "  inflating: drive_256_256_dice_loss_0_4__0_4_1/split_2/test/mask/_14_test_2.png  \n",
            "  inflating: drive_256_256_dice_loss_0_4__0_4_1/split_2/test/mask/_14_test_3.png  \n",
            "  inflating: drive_256_256_dice_loss_0_4__0_4_1/split_2/test/mask/_07_test_6.png  \n",
            "  inflating: drive_256_256_dice_loss_0_4__0_4_1/split_2/test/mask/_14_test_4.png  \n",
            "  inflating: drive_256_256_dice_loss_0_4__0_4_1/split_2/test/mask/_08_test_4.png  \n",
            "  inflating: drive_256_256_dice_loss_0_4__0_4_1/split_2/test/mask/_01_test_2.png  \n",
            "  inflating: drive_256_256_dice_loss_0_4__0_4_1/split_2/test/mask/_10_test_6.png  \n",
            "  inflating: drive_256_256_dice_loss_0_4__0_4_1/split_2/test/mask/_05_test_2.png  \n",
            "  inflating: drive_256_256_dice_loss_0_4__0_4_1/split_2/test/mask/_06_test_4.png  \n",
            "  inflating: drive_256_256_dice_loss_0_4__0_4_1/split_2/test/mask/_18_test_8.png  \n",
            "  inflating: drive_256_256_dice_loss_0_4__0_4_1/split_2/test/mask/_04_test_7.png  \n",
            "   creating: drive_256_256_dice_loss_0_4__0_4_1/split_2/test/image/\n",
            "  inflating: drive_256_256_dice_loss_0_4__0_4_1/split_2/test/image/_09_test_2.png  \n",
            "  inflating: drive_256_256_dice_loss_0_4__0_4_1/split_2/test/image/_06_test_2.png  \n",
            "  inflating: drive_256_256_dice_loss_0_4__0_4_1/split_2/test/image/_07_test_5.png  \n",
            "  inflating: drive_256_256_dice_loss_0_4__0_4_1/split_2/test/image/_10_test_4.png  \n",
            "  inflating: drive_256_256_dice_loss_0_4__0_4_1/split_2/test/image/_03_test_6.png  \n",
            "  inflating: drive_256_256_dice_loss_0_4__0_4_1/split_2/test/image/_15_test_0.png  \n",
            "  inflating: drive_256_256_dice_loss_0_4__0_4_1/split_2/test/image/_03_test_2.png  \n",
            "  inflating: drive_256_256_dice_loss_0_4__0_4_1/split_2/test/image/_16_test_7.png  \n",
            "  inflating: drive_256_256_dice_loss_0_4__0_4_1/split_2/test/image/_11_test_8.png  \n",
            "  inflating: drive_256_256_dice_loss_0_4__0_4_1/split_2/test/image/_11_test_5.png  \n",
            "  inflating: drive_256_256_dice_loss_0_4__0_4_1/split_2/test/image/_10_test_5.png  \n",
            "  inflating: drive_256_256_dice_loss_0_4__0_4_1/split_2/test/image/_06_test_8.png  \n",
            "  inflating: drive_256_256_dice_loss_0_4__0_4_1/split_2/test/image/_02_test_7.png  \n",
            "  inflating: drive_256_256_dice_loss_0_4__0_4_1/split_2/test/image/_14_test_0.png  \n",
            "  inflating: drive_256_256_dice_loss_0_4__0_4_1/split_2/test/image/_18_test_7.png  \n",
            "  inflating: drive_256_256_dice_loss_0_4__0_4_1/split_2/test/image/_09_test_5.png  \n",
            "  inflating: drive_256_256_dice_loss_0_4__0_4_1/split_2/test/image/_15_test_3.png  \n",
            "  inflating: drive_256_256_dice_loss_0_4__0_4_1/split_2/test/image/_03_test_0.png  \n",
            "  inflating: drive_256_256_dice_loss_0_4__0_4_1/split_2/test/image/_02_test_0.png  \n",
            "  inflating: drive_256_256_dice_loss_0_4__0_4_1/split_2/test/image/_20_test_3.png  \n",
            "  inflating: drive_256_256_dice_loss_0_4__0_4_1/split_2/test/image/_09_test_3.png  \n",
            "  inflating: drive_256_256_dice_loss_0_4__0_4_1/split_2/test/image/_01_test_7.png  \n",
            "  inflating: drive_256_256_dice_loss_0_4__0_4_1/split_2/test/image/_03_test_5.png  \n",
            "  inflating: drive_256_256_dice_loss_0_4__0_4_1/split_2/test/image/_01_test_5.png  \n",
            "  inflating: drive_256_256_dice_loss_0_4__0_4_1/split_2/test/image/_12_test_7.png  \n",
            "  inflating: drive_256_256_dice_loss_0_4__0_4_1/split_2/test/image/_16_test_4.png  \n",
            "  inflating: drive_256_256_dice_loss_0_4__0_4_1/split_2/test/image/_12_test_4.png  \n",
            "  inflating: drive_256_256_dice_loss_0_4__0_4_1/split_2/test/image/_20_test_1.png  \n",
            "  inflating: drive_256_256_dice_loss_0_4__0_4_1/split_2/test/image/_13_test_7.png  \n",
            "  inflating: drive_256_256_dice_loss_0_4__0_4_1/split_2/test/image/_07_test_3.png  \n",
            "  inflating: drive_256_256_dice_loss_0_4__0_4_1/split_2/test/image/_12_test_8.png  \n",
            "  inflating: drive_256_256_dice_loss_0_4__0_4_1/split_2/test/image/_08_test_3.png  \n",
            "  inflating: drive_256_256_dice_loss_0_4__0_4_1/split_2/test/image/_12_test_2.png  \n",
            "  inflating: drive_256_256_dice_loss_0_4__0_4_1/split_2/test/image/_11_test_2.png  \n",
            "  inflating: drive_256_256_dice_loss_0_4__0_4_1/split_2/test/image/_09_test_0.png  \n",
            "  inflating: drive_256_256_dice_loss_0_4__0_4_1/split_2/test/image/_05_test_0.png  \n",
            "  inflating: drive_256_256_dice_loss_0_4__0_4_1/split_2/test/image/_19_test_4.png  \n",
            "  inflating: drive_256_256_dice_loss_0_4__0_4_1/split_2/test/image/_15_test_4.png  \n",
            "  inflating: drive_256_256_dice_loss_0_4__0_4_1/split_2/test/image/_03_test_3.png  \n",
            "  inflating: drive_256_256_dice_loss_0_4__0_4_1/split_2/test/image/_17_test_4.png  \n",
            "  inflating: drive_256_256_dice_loss_0_4__0_4_1/split_2/test/image/_17_test_2.png  \n",
            "  inflating: drive_256_256_dice_loss_0_4__0_4_1/split_2/test/image/_13_test_1.png  \n",
            "  inflating: drive_256_256_dice_loss_0_4__0_4_1/split_2/test/image/_15_test_1.png  \n",
            "  inflating: drive_256_256_dice_loss_0_4__0_4_1/split_2/test/image/_11_test_6.png  \n",
            "  inflating: drive_256_256_dice_loss_0_4__0_4_1/split_2/test/image/_17_test_8.png  \n",
            "  inflating: drive_256_256_dice_loss_0_4__0_4_1/split_2/test/image/_05_test_3.png  \n",
            "  inflating: drive_256_256_dice_loss_0_4__0_4_1/split_2/test/image/_14_test_8.png  \n",
            "  inflating: drive_256_256_dice_loss_0_4__0_4_1/split_2/test/image/_17_test_3.png  \n",
            "  inflating: drive_256_256_dice_loss_0_4__0_4_1/split_2/test/image/_20_test_6.png  \n",
            "  inflating: drive_256_256_dice_loss_0_4__0_4_1/split_2/test/image/_20_test_7.png  \n",
            "  inflating: drive_256_256_dice_loss_0_4__0_4_1/split_2/test/image/_07_test_2.png  \n",
            "  inflating: drive_256_256_dice_loss_0_4__0_4_1/split_2/test/image/_19_test_2.png  \n",
            "  inflating: drive_256_256_dice_loss_0_4__0_4_1/split_2/test/image/_07_test_1.png  \n",
            "  inflating: drive_256_256_dice_loss_0_4__0_4_1/split_2/test/image/_07_test_7.png  \n",
            "  inflating: drive_256_256_dice_loss_0_4__0_4_1/split_2/test/image/_04_test_0.png  \n",
            "  inflating: drive_256_256_dice_loss_0_4__0_4_1/split_2/test/image/_19_test_3.png  \n",
            "  inflating: drive_256_256_dice_loss_0_4__0_4_1/split_2/test/image/_15_test_5.png  \n",
            "  inflating: drive_256_256_dice_loss_0_4__0_4_1/split_2/test/image/_13_test_3.png  \n",
            "  inflating: drive_256_256_dice_loss_0_4__0_4_1/split_2/test/image/_20_test_0.png  \n",
            "  inflating: drive_256_256_dice_loss_0_4__0_4_1/split_2/test/image/_03_test_7.png  \n",
            "  inflating: drive_256_256_dice_loss_0_4__0_4_1/split_2/test/image/_10_test_8.png  \n",
            "  inflating: drive_256_256_dice_loss_0_4__0_4_1/split_2/test/image/_04_test_2.png  \n",
            "  inflating: drive_256_256_dice_loss_0_4__0_4_1/split_2/test/image/_02_test_1.png  \n",
            "  inflating: drive_256_256_dice_loss_0_4__0_4_1/split_2/test/image/_07_test_4.png  \n",
            "  inflating: drive_256_256_dice_loss_0_4__0_4_1/split_2/test/image/_16_test_6.png  \n",
            "  inflating: drive_256_256_dice_loss_0_4__0_4_1/split_2/test/image/_18_test_6.png  \n",
            "  inflating: drive_256_256_dice_loss_0_4__0_4_1/split_2/test/image/_16_test_0.png  \n",
            "  inflating: drive_256_256_dice_loss_0_4__0_4_1/split_2/test/image/_06_test_5.png  \n",
            "  inflating: drive_256_256_dice_loss_0_4__0_4_1/split_2/test/image/_02_test_8.png  \n",
            "  inflating: drive_256_256_dice_loss_0_4__0_4_1/split_2/test/image/_07_test_0.png  \n",
            "  inflating: drive_256_256_dice_loss_0_4__0_4_1/split_2/test/image/_10_test_2.png  \n",
            "  inflating: drive_256_256_dice_loss_0_4__0_4_1/split_2/test/image/_12_test_5.png  \n",
            "  inflating: drive_256_256_dice_loss_0_4__0_4_1/split_2/test/image/_09_test_6.png  \n",
            "  inflating: drive_256_256_dice_loss_0_4__0_4_1/split_2/test/image/_10_test_7.png  \n",
            "  inflating: drive_256_256_dice_loss_0_4__0_4_1/split_2/test/image/_18_test_3.png  \n",
            "  inflating: drive_256_256_dice_loss_0_4__0_4_1/split_2/test/image/_16_test_5.png  \n",
            "  inflating: drive_256_256_dice_loss_0_4__0_4_1/split_2/test/image/_20_test_8.png  \n",
            "  inflating: drive_256_256_dice_loss_0_4__0_4_1/split_2/test/image/_04_test_3.png  \n",
            "  inflating: drive_256_256_dice_loss_0_4__0_4_1/split_2/test/image/_02_test_5.png  \n",
            "  inflating: drive_256_256_dice_loss_0_4__0_4_1/split_2/test/image/_14_test_7.png  \n",
            "  inflating: drive_256_256_dice_loss_0_4__0_4_1/split_2/test/image/_08_test_0.png  \n",
            "  inflating: drive_256_256_dice_loss_0_4__0_4_1/split_2/test/image/_13_test_8.png  \n",
            "  inflating: drive_256_256_dice_loss_0_4__0_4_1/split_2/test/image/_18_test_4.png  \n",
            "  inflating: drive_256_256_dice_loss_0_4__0_4_1/split_2/test/image/_14_test_6.png  \n",
            "  inflating: drive_256_256_dice_loss_0_4__0_4_1/split_2/test/image/_08_test_1.png  \n",
            "  inflating: drive_256_256_dice_loss_0_4__0_4_1/split_2/test/image/_01_test_3.png  \n",
            "  inflating: drive_256_256_dice_loss_0_4__0_4_1/split_2/test/image/_11_test_3.png  \n",
            "  inflating: drive_256_256_dice_loss_0_4__0_4_1/split_2/test/image/_10_test_0.png  \n",
            "  inflating: drive_256_256_dice_loss_0_4__0_4_1/split_2/test/image/_16_test_3.png  \n",
            "  inflating: drive_256_256_dice_loss_0_4__0_4_1/split_2/test/image/_04_test_1.png  \n",
            "  inflating: drive_256_256_dice_loss_0_4__0_4_1/split_2/test/image/_17_test_1.png  \n",
            "  inflating: drive_256_256_dice_loss_0_4__0_4_1/split_2/test/image/_08_test_2.png  \n",
            "  inflating: drive_256_256_dice_loss_0_4__0_4_1/split_2/test/image/_04_test_6.png  \n",
            "  inflating: drive_256_256_dice_loss_0_4__0_4_1/split_2/test/image/_13_test_6.png  \n",
            "  inflating: drive_256_256_dice_loss_0_4__0_4_1/split_2/test/image/_18_test_5.png  \n",
            "  inflating: drive_256_256_dice_loss_0_4__0_4_1/split_2/test/image/_18_test_1.png  \n",
            "  inflating: drive_256_256_dice_loss_0_4__0_4_1/split_2/test/image/_16_test_2.png  \n",
            "  inflating: drive_256_256_dice_loss_0_4__0_4_1/split_2/test/image/_13_test_5.png  \n",
            "  inflating: drive_256_256_dice_loss_0_4__0_4_1/split_2/test/image/_15_test_7.png  \n",
            "  inflating: drive_256_256_dice_loss_0_4__0_4_1/split_2/test/image/_09_test_8.png  \n",
            "  inflating: drive_256_256_dice_loss_0_4__0_4_1/split_2/test/image/_19_test_0.png  \n",
            "  inflating: drive_256_256_dice_loss_0_4__0_4_1/split_2/test/image/_14_test_5.png  \n",
            "  inflating: drive_256_256_dice_loss_0_4__0_4_1/split_2/test/image/_11_test_4.png  \n",
            "  inflating: drive_256_256_dice_loss_0_4__0_4_1/split_2/test/image/_17_test_7.png  \n",
            "  inflating: drive_256_256_dice_loss_0_4__0_4_1/split_2/test/image/_04_test_5.png  \n",
            "  inflating: drive_256_256_dice_loss_0_4__0_4_1/split_2/test/image/_16_test_8.png  \n",
            "  inflating: drive_256_256_dice_loss_0_4__0_4_1/split_2/test/image/_18_test_0.png  \n",
            "  inflating: drive_256_256_dice_loss_0_4__0_4_1/split_2/test/image/_02_test_3.png  \n",
            "  inflating: drive_256_256_dice_loss_0_4__0_4_1/split_2/test/image/_01_test_4.png  \n",
            "  inflating: drive_256_256_dice_loss_0_4__0_4_1/split_2/test/image/_18_test_2.png  \n",
            "  inflating: drive_256_256_dice_loss_0_4__0_4_1/split_2/test/image/_03_test_4.png  \n",
            "  inflating: drive_256_256_dice_loss_0_4__0_4_1/split_2/test/image/_08_test_8.png  \n",
            "  inflating: drive_256_256_dice_loss_0_4__0_4_1/split_2/test/image/_16_test_1.png  \n",
            "  inflating: drive_256_256_dice_loss_0_4__0_4_1/split_2/test/image/_09_test_7.png  \n",
            "  inflating: drive_256_256_dice_loss_0_4__0_4_1/split_2/test/image/_11_test_1.png  \n",
            "  inflating: drive_256_256_dice_loss_0_4__0_4_1/split_2/test/image/_01_test_0.png  \n",
            "  inflating: drive_256_256_dice_loss_0_4__0_4_1/split_2/test/image/_08_test_5.png  \n",
            "  inflating: drive_256_256_dice_loss_0_4__0_4_1/split_2/test/image/_15_test_6.png  \n",
            "  inflating: drive_256_256_dice_loss_0_4__0_4_1/split_2/test/image/_05_test_6.png  \n",
            "  inflating: drive_256_256_dice_loss_0_4__0_4_1/split_2/test/image/_01_test_8.png  \n",
            "  inflating: drive_256_256_dice_loss_0_4__0_4_1/split_2/test/image/_13_test_0.png  \n",
            "  inflating: drive_256_256_dice_loss_0_4__0_4_1/split_2/test/image/_20_test_5.png  \n",
            "  inflating: drive_256_256_dice_loss_0_4__0_4_1/split_2/test/image/_17_test_0.png  \n",
            "  inflating: drive_256_256_dice_loss_0_4__0_4_1/split_2/test/image/_19_test_5.png  \n",
            "  inflating: drive_256_256_dice_loss_0_4__0_4_1/split_2/test/image/_11_test_0.png  \n",
            "  inflating: drive_256_256_dice_loss_0_4__0_4_1/split_2/test/image/_19_test_1.png  \n",
            "  inflating: drive_256_256_dice_loss_0_4__0_4_1/split_2/test/image/_01_test_6.png  \n",
            "  inflating: drive_256_256_dice_loss_0_4__0_4_1/split_2/test/image/_06_test_3.png  \n",
            "  inflating: drive_256_256_dice_loss_0_4__0_4_1/split_2/test/image/_10_test_3.png  \n",
            "  inflating: drive_256_256_dice_loss_0_4__0_4_1/split_2/test/image/_17_test_5.png  \n",
            "  inflating: drive_256_256_dice_loss_0_4__0_4_1/split_2/test/image/_02_test_6.png  \n",
            "  inflating: drive_256_256_dice_loss_0_4__0_4_1/split_2/test/image/_04_test_8.png  \n",
            "  inflating: drive_256_256_dice_loss_0_4__0_4_1/split_2/test/image/_13_test_4.png  \n",
            "  inflating: drive_256_256_dice_loss_0_4__0_4_1/split_2/test/image/_09_test_4.png  \n",
            "  inflating: drive_256_256_dice_loss_0_4__0_4_1/split_2/test/image/_17_test_6.png  \n",
            "  inflating: drive_256_256_dice_loss_0_4__0_4_1/split_2/test/image/_14_test_1.png  \n",
            "  inflating: drive_256_256_dice_loss_0_4__0_4_1/split_2/test/image/_02_test_2.png  \n",
            "  inflating: drive_256_256_dice_loss_0_4__0_4_1/split_2/test/image/_19_test_7.png  \n",
            "  inflating: drive_256_256_dice_loss_0_4__0_4_1/split_2/test/image/_19_test_6.png  \n",
            "  inflating: drive_256_256_dice_loss_0_4__0_4_1/split_2/test/image/_20_test_2.png  \n",
            "  inflating: drive_256_256_dice_loss_0_4__0_4_1/split_2/test/image/_10_test_1.png  \n",
            "  inflating: drive_256_256_dice_loss_0_4__0_4_1/split_2/test/image/_05_test_7.png  \n",
            "  inflating: drive_256_256_dice_loss_0_4__0_4_1/split_2/test/image/_06_test_1.png  \n",
            "  inflating: drive_256_256_dice_loss_0_4__0_4_1/split_2/test/image/_08_test_6.png  \n",
            "  inflating: drive_256_256_dice_loss_0_4__0_4_1/split_2/test/image/_06_test_6.png  \n",
            "  inflating: drive_256_256_dice_loss_0_4__0_4_1/split_2/test/image/_06_test_7.png  \n",
            "  inflating: drive_256_256_dice_loss_0_4__0_4_1/split_2/test/image/_19_test_8.png  \n",
            "  inflating: drive_256_256_dice_loss_0_4__0_4_1/split_2/test/image/_13_test_2.png  \n",
            "  inflating: drive_256_256_dice_loss_0_4__0_4_1/split_2/test/image/_03_test_1.png  \n",
            "  inflating: drive_256_256_dice_loss_0_4__0_4_1/split_2/test/image/_06_test_0.png  \n",
            "  inflating: drive_256_256_dice_loss_0_4__0_4_1/split_2/test/image/_15_test_2.png  \n",
            "  inflating: drive_256_256_dice_loss_0_4__0_4_1/split_2/test/image/_15_test_8.png  \n",
            "  inflating: drive_256_256_dice_loss_0_4__0_4_1/split_2/test/image/_05_test_4.png  \n",
            "  inflating: drive_256_256_dice_loss_0_4__0_4_1/split_2/test/image/_05_test_8.png  \n",
            "  inflating: drive_256_256_dice_loss_0_4__0_4_1/split_2/test/image/_12_test_0.png  \n",
            "  inflating: drive_256_256_dice_loss_0_4__0_4_1/split_2/test/image/_20_test_4.png  \n",
            "  inflating: drive_256_256_dice_loss_0_4__0_4_1/split_2/test/image/_05_test_5.png  \n",
            "  inflating: drive_256_256_dice_loss_0_4__0_4_1/split_2/test/image/_04_test_4.png  \n",
            "  inflating: drive_256_256_dice_loss_0_4__0_4_1/split_2/test/image/_12_test_1.png  \n",
            "  inflating: drive_256_256_dice_loss_0_4__0_4_1/split_2/test/image/_07_test_8.png  \n",
            "  inflating: drive_256_256_dice_loss_0_4__0_4_1/split_2/test/image/_03_test_8.png  \n",
            "  inflating: drive_256_256_dice_loss_0_4__0_4_1/split_2/test/image/_09_test_1.png  \n",
            "  inflating: drive_256_256_dice_loss_0_4__0_4_1/split_2/test/image/_12_test_6.png  \n",
            "  inflating: drive_256_256_dice_loss_0_4__0_4_1/split_2/test/image/_05_test_1.png  \n",
            "  inflating: drive_256_256_dice_loss_0_4__0_4_1/split_2/test/image/_11_test_7.png  \n",
            "  inflating: drive_256_256_dice_loss_0_4__0_4_1/split_2/test/image/_02_test_4.png  \n",
            "  inflating: drive_256_256_dice_loss_0_4__0_4_1/split_2/test/image/_08_test_7.png  \n",
            "  inflating: drive_256_256_dice_loss_0_4__0_4_1/split_2/test/image/_12_test_3.png  \n",
            "  inflating: drive_256_256_dice_loss_0_4__0_4_1/split_2/test/image/_01_test_1.png  \n",
            "  inflating: drive_256_256_dice_loss_0_4__0_4_1/split_2/test/image/_14_test_2.png  \n",
            "  inflating: drive_256_256_dice_loss_0_4__0_4_1/split_2/test/image/_14_test_3.png  \n",
            "  inflating: drive_256_256_dice_loss_0_4__0_4_1/split_2/test/image/_07_test_6.png  \n",
            "  inflating: drive_256_256_dice_loss_0_4__0_4_1/split_2/test/image/_14_test_4.png  \n",
            "  inflating: drive_256_256_dice_loss_0_4__0_4_1/split_2/test/image/_08_test_4.png  \n",
            "  inflating: drive_256_256_dice_loss_0_4__0_4_1/split_2/test/image/_01_test_2.png  \n",
            "  inflating: drive_256_256_dice_loss_0_4__0_4_1/split_2/test/image/_10_test_6.png  \n",
            "  inflating: drive_256_256_dice_loss_0_4__0_4_1/split_2/test/image/_05_test_2.png  \n",
            "  inflating: drive_256_256_dice_loss_0_4__0_4_1/split_2/test/image/_06_test_4.png  \n",
            "  inflating: drive_256_256_dice_loss_0_4__0_4_1/split_2/test/image/_18_test_8.png  \n",
            "  inflating: drive_256_256_dice_loss_0_4__0_4_1/split_2/test/image/_04_test_7.png  \n",
            "  inflating: drive_256_256_dice_loss_0_4__0_4_1/split_2/image_patches_256_256_train.csv  \n",
            "   creating: drive_256_256_dice_loss_0_4__0_4_1/split_2/train/\n",
            "   creating: drive_256_256_dice_loss_0_4__0_4_1/split_2/train/mask/\n",
            "  inflating: drive_256_256_dice_loss_0_4__0_4_1/split_2/train/mask/_23_training_2.png  \n",
            "  inflating: drive_256_256_dice_loss_0_4__0_4_1/split_2/train/mask/_24_training_4.png  \n",
            "  inflating: drive_256_256_dice_loss_0_4__0_4_1/split_2/train/mask/_25_training_2.png  \n",
            "  inflating: drive_256_256_dice_loss_0_4__0_4_1/split_2/train/mask/_31_training_2.png  \n",
            "  inflating: drive_256_256_dice_loss_0_4__0_4_1/split_2/train/mask/_24_training_2.png  \n",
            "  inflating: drive_256_256_dice_loss_0_4__0_4_1/split_2/train/mask/_31_training_7.png  \n",
            "  inflating: drive_256_256_dice_loss_0_4__0_4_1/split_2/train/mask/_26_training_5.png  \n",
            "  inflating: drive_256_256_dice_loss_0_4__0_4_1/split_2/train/mask/_36_training_6.png  \n",
            "  inflating: drive_256_256_dice_loss_0_4__0_4_1/split_2/train/mask/_23_training_0.png  \n",
            "  inflating: drive_256_256_dice_loss_0_4__0_4_1/split_2/train/mask/_28_training_7.png  \n",
            "  inflating: drive_256_256_dice_loss_0_4__0_4_1/split_2/train/mask/_24_training_6.png  \n",
            "  inflating: drive_256_256_dice_loss_0_4__0_4_1/split_2/train/mask/_31_training_0.png  \n",
            "  inflating: drive_256_256_dice_loss_0_4__0_4_1/split_2/train/mask/_36_training_1.png  \n",
            "  inflating: drive_256_256_dice_loss_0_4__0_4_1/split_2/train/mask/_26_training_8.png  \n",
            "  inflating: drive_256_256_dice_loss_0_4__0_4_1/split_2/train/mask/_21_training_5.png  \n",
            "  inflating: drive_256_256_dice_loss_0_4__0_4_1/split_2/train/mask/_30_training_5.png  \n",
            "  inflating: drive_256_256_dice_loss_0_4__0_4_1/split_2/train/mask/_40_training_3.png  \n",
            "  inflating: drive_256_256_dice_loss_0_4__0_4_1/split_2/train/mask/_34_training_3.png  \n",
            "  inflating: drive_256_256_dice_loss_0_4__0_4_1/split_2/train/mask/_35_training_0.png  \n",
            "  inflating: drive_256_256_dice_loss_0_4__0_4_1/split_2/train/mask/_38_training_1.png  \n",
            "  inflating: drive_256_256_dice_loss_0_4__0_4_1/split_2/train/mask/_26_training_4.png  \n",
            "  inflating: drive_256_256_dice_loss_0_4__0_4_1/split_2/train/mask/_28_training_0.png  \n",
            "  inflating: drive_256_256_dice_loss_0_4__0_4_1/split_2/train/mask/_29_training_4.png  \n",
            "  inflating: drive_256_256_dice_loss_0_4__0_4_1/split_2/train/mask/_32_training_0.png  \n",
            "  inflating: drive_256_256_dice_loss_0_4__0_4_1/split_2/train/mask/_39_training_0.png  \n",
            "  inflating: drive_256_256_dice_loss_0_4__0_4_1/split_2/train/mask/_39_training_5.png  \n",
            "  inflating: drive_256_256_dice_loss_0_4__0_4_1/split_2/train/mask/_37_training_5.png  \n",
            "  inflating: drive_256_256_dice_loss_0_4__0_4_1/split_2/train/mask/_34_training_0.png  \n",
            "  inflating: drive_256_256_dice_loss_0_4__0_4_1/split_2/train/mask/_36_training_0.png  \n",
            "  inflating: drive_256_256_dice_loss_0_4__0_4_1/split_2/train/mask/_37_training_4.png  \n",
            "  inflating: drive_256_256_dice_loss_0_4__0_4_1/split_2/train/mask/_39_training_6.png  \n",
            "  inflating: drive_256_256_dice_loss_0_4__0_4_1/split_2/train/mask/_22_training_2.png  \n",
            "  inflating: drive_256_256_dice_loss_0_4__0_4_1/split_2/train/mask/_34_training_7.png  \n",
            "  inflating: drive_256_256_dice_loss_0_4__0_4_1/split_2/train/mask/_38_training_3.png  \n",
            "  inflating: drive_256_256_dice_loss_0_4__0_4_1/split_2/train/mask/_32_training_4.png  \n",
            "  inflating: drive_256_256_dice_loss_0_4__0_4_1/split_2/train/mask/_33_training_1.png  \n",
            "  inflating: drive_256_256_dice_loss_0_4__0_4_1/split_2/train/mask/_38_training_8.png  \n",
            "  inflating: drive_256_256_dice_loss_0_4__0_4_1/split_2/train/mask/_24_training_0.png  \n",
            "  inflating: drive_256_256_dice_loss_0_4__0_4_1/split_2/train/mask/_33_training_2.png  \n",
            "  inflating: drive_256_256_dice_loss_0_4__0_4_1/split_2/train/mask/_27_training_8.png  \n",
            "  inflating: drive_256_256_dice_loss_0_4__0_4_1/split_2/train/mask/_25_training_8.png  \n",
            "  inflating: drive_256_256_dice_loss_0_4__0_4_1/split_2/train/mask/_24_training_1.png  \n",
            "  inflating: drive_256_256_dice_loss_0_4__0_4_1/split_2/train/mask/_32_training_8.png  \n",
            "  inflating: drive_256_256_dice_loss_0_4__0_4_1/split_2/train/mask/_29_training_2.png  \n",
            "  inflating: drive_256_256_dice_loss_0_4__0_4_1/split_2/train/mask/_29_training_5.png  \n",
            "  inflating: drive_256_256_dice_loss_0_4__0_4_1/split_2/train/mask/_25_training_3.png  \n",
            "  inflating: drive_256_256_dice_loss_0_4__0_4_1/split_2/train/mask/_36_training_5.png  \n",
            "  inflating: drive_256_256_dice_loss_0_4__0_4_1/split_2/train/mask/_23_training_8.png  \n",
            "  inflating: drive_256_256_dice_loss_0_4__0_4_1/split_2/train/mask/_36_training_8.png  \n",
            "  inflating: drive_256_256_dice_loss_0_4__0_4_1/split_2/train/mask/_39_training_4.png  \n",
            "  inflating: drive_256_256_dice_loss_0_4__0_4_1/split_2/train/mask/_21_training_3.png  \n",
            "  inflating: drive_256_256_dice_loss_0_4__0_4_1/split_2/train/mask/_24_training_3.png  \n",
            "  inflating: drive_256_256_dice_loss_0_4__0_4_1/split_2/train/mask/_39_training_2.png  \n",
            "  inflating: drive_256_256_dice_loss_0_4__0_4_1/split_2/train/mask/_22_training_4.png  \n",
            "  inflating: drive_256_256_dice_loss_0_4__0_4_1/split_2/train/mask/_29_training_0.png  \n",
            "  inflating: drive_256_256_dice_loss_0_4__0_4_1/split_2/train/mask/_30_training_6.png  \n",
            "  inflating: drive_256_256_dice_loss_0_4__0_4_1/split_2/train/mask/_35_training_1.png  \n",
            "  inflating: drive_256_256_dice_loss_0_4__0_4_1/split_2/train/mask/_40_training_6.png  \n",
            "  inflating: drive_256_256_dice_loss_0_4__0_4_1/split_2/train/mask/_31_training_3.png  \n",
            "  inflating: drive_256_256_dice_loss_0_4__0_4_1/split_2/train/mask/_23_training_1.png  \n",
            "  inflating: drive_256_256_dice_loss_0_4__0_4_1/split_2/train/mask/_25_training_1.png  \n",
            "  inflating: drive_256_256_dice_loss_0_4__0_4_1/split_2/train/mask/_29_training_8.png  \n",
            "  inflating: drive_256_256_dice_loss_0_4__0_4_1/split_2/train/mask/_31_training_6.png  \n",
            "  inflating: drive_256_256_dice_loss_0_4__0_4_1/split_2/train/mask/_23_training_4.png  \n",
            "  inflating: drive_256_256_dice_loss_0_4__0_4_1/split_2/train/mask/_38_training_5.png  \n",
            "  inflating: drive_256_256_dice_loss_0_4__0_4_1/split_2/train/mask/_33_training_5.png  \n",
            "  inflating: drive_256_256_dice_loss_0_4__0_4_1/split_2/train/mask/_38_training_7.png  \n",
            "  inflating: drive_256_256_dice_loss_0_4__0_4_1/split_2/train/mask/_36_training_7.png  \n",
            "  inflating: drive_256_256_dice_loss_0_4__0_4_1/split_2/train/mask/_28_training_3.png  \n",
            "  inflating: drive_256_256_dice_loss_0_4__0_4_1/split_2/train/mask/_34_training_1.png  \n",
            "  inflating: drive_256_256_dice_loss_0_4__0_4_1/split_2/train/mask/_29_training_6.png  \n",
            "  inflating: drive_256_256_dice_loss_0_4__0_4_1/split_2/train/mask/_23_training_6.png  \n",
            "  inflating: drive_256_256_dice_loss_0_4__0_4_1/split_2/train/mask/_33_training_6.png  \n",
            "  inflating: drive_256_256_dice_loss_0_4__0_4_1/split_2/train/mask/_27_training_2.png  \n",
            "  inflating: drive_256_256_dice_loss_0_4__0_4_1/split_2/train/mask/_40_training_0.png  \n",
            "  inflating: drive_256_256_dice_loss_0_4__0_4_1/split_2/train/mask/_22_training_5.png  \n",
            "  inflating: drive_256_256_dice_loss_0_4__0_4_1/split_2/train/mask/_35_training_7.png  \n",
            "  inflating: drive_256_256_dice_loss_0_4__0_4_1/split_2/train/mask/_31_training_5.png  \n",
            "  inflating: drive_256_256_dice_loss_0_4__0_4_1/split_2/train/mask/_31_training_1.png  \n",
            "  inflating: drive_256_256_dice_loss_0_4__0_4_1/split_2/train/mask/_36_training_2.png  \n",
            "  inflating: drive_256_256_dice_loss_0_4__0_4_1/split_2/train/mask/_33_training_3.png  \n",
            "  inflating: drive_256_256_dice_loss_0_4__0_4_1/split_2/train/mask/_22_training_1.png  \n",
            "  inflating: drive_256_256_dice_loss_0_4__0_4_1/split_2/train/mask/_27_training_4.png  \n",
            "  inflating: drive_256_256_dice_loss_0_4__0_4_1/split_2/train/mask/_28_training_4.png  \n",
            "  inflating: drive_256_256_dice_loss_0_4__0_4_1/split_2/train/mask/_30_training_7.png  \n",
            "  inflating: drive_256_256_dice_loss_0_4__0_4_1/split_2/train/mask/_21_training_6.png  \n",
            "  inflating: drive_256_256_dice_loss_0_4__0_4_1/split_2/train/mask/_40_training_1.png  \n",
            "  inflating: drive_256_256_dice_loss_0_4__0_4_1/split_2/train/mask/_35_training_4.png  \n",
            "  inflating: drive_256_256_dice_loss_0_4__0_4_1/split_2/train/mask/_30_training_2.png  \n",
            "  inflating: drive_256_256_dice_loss_0_4__0_4_1/split_2/train/mask/_33_training_4.png  \n",
            "  inflating: drive_256_256_dice_loss_0_4__0_4_1/split_2/train/mask/_34_training_4.png  \n",
            "  inflating: drive_256_256_dice_loss_0_4__0_4_1/split_2/train/mask/_22_training_7.png  \n",
            "  inflating: drive_256_256_dice_loss_0_4__0_4_1/split_2/train/mask/_35_training_5.png  \n",
            "  inflating: drive_256_256_dice_loss_0_4__0_4_1/split_2/train/mask/_29_training_1.png  \n",
            "  inflating: drive_256_256_dice_loss_0_4__0_4_1/split_2/train/mask/_22_training_0.png  \n",
            "  inflating: drive_256_256_dice_loss_0_4__0_4_1/split_2/train/mask/_22_training_8.png  \n",
            "  inflating: drive_256_256_dice_loss_0_4__0_4_1/split_2/train/mask/_26_training_7.png  \n",
            "  inflating: drive_256_256_dice_loss_0_4__0_4_1/split_2/train/mask/_21_training_4.png  \n",
            "  inflating: drive_256_256_dice_loss_0_4__0_4_1/split_2/train/mask/_40_training_2.png  \n",
            "  inflating: drive_256_256_dice_loss_0_4__0_4_1/split_2/train/mask/_24_training_7.png  \n",
            "  inflating: drive_256_256_dice_loss_0_4__0_4_1/split_2/train/mask/_32_training_3.png  \n",
            "  inflating: drive_256_256_dice_loss_0_4__0_4_1/split_2/train/mask/_38_training_0.png  \n",
            "  inflating: drive_256_256_dice_loss_0_4__0_4_1/split_2/train/mask/_37_training_8.png  \n",
            "  inflating: drive_256_256_dice_loss_0_4__0_4_1/split_2/train/mask/_32_training_1.png  \n",
            "  inflating: drive_256_256_dice_loss_0_4__0_4_1/split_2/train/mask/_21_training_0.png  \n",
            "  inflating: drive_256_256_dice_loss_0_4__0_4_1/split_2/train/mask/_40_training_5.png  \n",
            "  inflating: drive_256_256_dice_loss_0_4__0_4_1/split_2/train/mask/_27_training_5.png  \n",
            "  inflating: drive_256_256_dice_loss_0_4__0_4_1/split_2/train/mask/_30_training_4.png  \n",
            "  inflating: drive_256_256_dice_loss_0_4__0_4_1/split_2/train/mask/_24_training_8.png  \n",
            "  inflating: drive_256_256_dice_loss_0_4__0_4_1/split_2/train/mask/_35_training_3.png  \n",
            "  inflating: drive_256_256_dice_loss_0_4__0_4_1/split_2/train/mask/_21_training_1.png  \n",
            "  inflating: drive_256_256_dice_loss_0_4__0_4_1/split_2/train/mask/_26_training_1.png  \n",
            "  inflating: drive_256_256_dice_loss_0_4__0_4_1/split_2/train/mask/_33_training_8.png  \n",
            "  inflating: drive_256_256_dice_loss_0_4__0_4_1/split_2/train/mask/_27_training_0.png  \n",
            "  inflating: drive_256_256_dice_loss_0_4__0_4_1/split_2/train/mask/_30_training_0.png  \n",
            "  inflating: drive_256_256_dice_loss_0_4__0_4_1/split_2/train/mask/_25_training_7.png  \n",
            "  inflating: drive_256_256_dice_loss_0_4__0_4_1/split_2/train/mask/_28_training_8.png  \n",
            "  inflating: drive_256_256_dice_loss_0_4__0_4_1/split_2/train/mask/_40_training_4.png  \n",
            "  inflating: drive_256_256_dice_loss_0_4__0_4_1/split_2/train/mask/_25_training_6.png  \n",
            "  inflating: drive_256_256_dice_loss_0_4__0_4_1/split_2/train/mask/_32_training_2.png  \n",
            "  inflating: drive_256_256_dice_loss_0_4__0_4_1/split_2/train/mask/_32_training_7.png  \n",
            "  inflating: drive_256_256_dice_loss_0_4__0_4_1/split_2/train/mask/_30_training_8.png  \n",
            "  inflating: drive_256_256_dice_loss_0_4__0_4_1/split_2/train/mask/_31_training_8.png  \n",
            "  inflating: drive_256_256_dice_loss_0_4__0_4_1/split_2/train/mask/_26_training_2.png  \n",
            "  inflating: drive_256_256_dice_loss_0_4__0_4_1/split_2/train/mask/_23_training_7.png  \n",
            "  inflating: drive_256_256_dice_loss_0_4__0_4_1/split_2/train/mask/_28_training_1.png  \n",
            "  inflating: drive_256_256_dice_loss_0_4__0_4_1/split_2/train/mask/_27_training_7.png  \n",
            "  inflating: drive_256_256_dice_loss_0_4__0_4_1/split_2/train/mask/_38_training_2.png  \n",
            "  inflating: drive_256_256_dice_loss_0_4__0_4_1/split_2/train/mask/_28_training_5.png  \n",
            "  inflating: drive_256_256_dice_loss_0_4__0_4_1/split_2/train/mask/_32_training_5.png  \n",
            "  inflating: drive_256_256_dice_loss_0_4__0_4_1/split_2/train/mask/_26_training_0.png  \n",
            "  inflating: drive_256_256_dice_loss_0_4__0_4_1/split_2/train/mask/_37_training_0.png  \n",
            "  inflating: drive_256_256_dice_loss_0_4__0_4_1/split_2/train/mask/_34_training_5.png  \n",
            "  inflating: drive_256_256_dice_loss_0_4__0_4_1/split_2/train/mask/_35_training_6.png  \n",
            "  inflating: drive_256_256_dice_loss_0_4__0_4_1/split_2/train/mask/_40_training_7.png  \n",
            "  inflating: drive_256_256_dice_loss_0_4__0_4_1/split_2/train/mask/_27_training_1.png  \n",
            "  inflating: drive_256_256_dice_loss_0_4__0_4_1/split_2/train/mask/_26_training_3.png  \n",
            "  inflating: drive_256_256_dice_loss_0_4__0_4_1/split_2/train/mask/_21_training_7.png  \n",
            "  inflating: drive_256_256_dice_loss_0_4__0_4_1/split_2/train/mask/_37_training_3.png  \n",
            "  inflating: drive_256_256_dice_loss_0_4__0_4_1/split_2/train/mask/_24_training_5.png  \n",
            "  inflating: drive_256_256_dice_loss_0_4__0_4_1/split_2/train/mask/_36_training_3.png  \n",
            "  inflating: drive_256_256_dice_loss_0_4__0_4_1/split_2/train/mask/_40_training_8.png  \n",
            "  inflating: drive_256_256_dice_loss_0_4__0_4_1/split_2/train/mask/_35_training_8.png  \n",
            "  inflating: drive_256_256_dice_loss_0_4__0_4_1/split_2/train/mask/_34_training_8.png  \n",
            "  inflating: drive_256_256_dice_loss_0_4__0_4_1/split_2/train/mask/_26_training_6.png  \n",
            "  inflating: drive_256_256_dice_loss_0_4__0_4_1/split_2/train/mask/_22_training_3.png  \n",
            "  inflating: drive_256_256_dice_loss_0_4__0_4_1/split_2/train/mask/_38_training_6.png  \n",
            "  inflating: drive_256_256_dice_loss_0_4__0_4_1/split_2/train/mask/_35_training_2.png  \n",
            "  inflating: drive_256_256_dice_loss_0_4__0_4_1/split_2/train/mask/_25_training_4.png  \n",
            "  inflating: drive_256_256_dice_loss_0_4__0_4_1/split_2/train/mask/_37_training_6.png  \n",
            "  inflating: drive_256_256_dice_loss_0_4__0_4_1/split_2/train/mask/_30_training_3.png  \n",
            "  inflating: drive_256_256_dice_loss_0_4__0_4_1/split_2/train/mask/_22_training_6.png  \n",
            "  inflating: drive_256_256_dice_loss_0_4__0_4_1/split_2/train/mask/_37_training_1.png  \n",
            "  inflating: drive_256_256_dice_loss_0_4__0_4_1/split_2/train/mask/_21_training_2.png  \n",
            "  inflating: drive_256_256_dice_loss_0_4__0_4_1/split_2/train/mask/_39_training_8.png  \n",
            "  inflating: drive_256_256_dice_loss_0_4__0_4_1/split_2/train/mask/_28_training_2.png  \n",
            "  inflating: drive_256_256_dice_loss_0_4__0_4_1/split_2/train/mask/_21_training_8.png  \n",
            "  inflating: drive_256_256_dice_loss_0_4__0_4_1/split_2/train/mask/_29_training_3.png  \n",
            "  inflating: drive_256_256_dice_loss_0_4__0_4_1/split_2/train/mask/_39_training_3.png  \n",
            "  inflating: drive_256_256_dice_loss_0_4__0_4_1/split_2/train/mask/_34_training_6.png  \n",
            "  inflating: drive_256_256_dice_loss_0_4__0_4_1/split_2/train/mask/_32_training_6.png  \n",
            "  inflating: drive_256_256_dice_loss_0_4__0_4_1/split_2/train/mask/_23_training_5.png  \n",
            "  inflating: drive_256_256_dice_loss_0_4__0_4_1/split_2/train/mask/_33_training_0.png  \n",
            "  inflating: drive_256_256_dice_loss_0_4__0_4_1/split_2/train/mask/_37_training_2.png  \n",
            "  inflating: drive_256_256_dice_loss_0_4__0_4_1/split_2/train/mask/_37_training_7.png  \n",
            "  inflating: drive_256_256_dice_loss_0_4__0_4_1/split_2/train/mask/_36_training_4.png  \n",
            "  inflating: drive_256_256_dice_loss_0_4__0_4_1/split_2/train/mask/_25_training_0.png  \n",
            "  inflating: drive_256_256_dice_loss_0_4__0_4_1/split_2/train/mask/_33_training_7.png  \n",
            "  inflating: drive_256_256_dice_loss_0_4__0_4_1/split_2/train/mask/_25_training_5.png  \n",
            "  inflating: drive_256_256_dice_loss_0_4__0_4_1/split_2/train/mask/_23_training_3.png  \n",
            "  inflating: drive_256_256_dice_loss_0_4__0_4_1/split_2/train/mask/_31_training_4.png  \n",
            "  inflating: drive_256_256_dice_loss_0_4__0_4_1/split_2/train/mask/_29_training_7.png  \n",
            "  inflating: drive_256_256_dice_loss_0_4__0_4_1/split_2/train/mask/_38_training_4.png  \n",
            "  inflating: drive_256_256_dice_loss_0_4__0_4_1/split_2/train/mask/_39_training_1.png  \n",
            "  inflating: drive_256_256_dice_loss_0_4__0_4_1/split_2/train/mask/_27_training_3.png  \n",
            "  inflating: drive_256_256_dice_loss_0_4__0_4_1/split_2/train/mask/_34_training_2.png  \n",
            "  inflating: drive_256_256_dice_loss_0_4__0_4_1/split_2/train/mask/_39_training_7.png  \n",
            "  inflating: drive_256_256_dice_loss_0_4__0_4_1/split_2/train/mask/_28_training_6.png  \n",
            "  inflating: drive_256_256_dice_loss_0_4__0_4_1/split_2/train/mask/_30_training_1.png  \n",
            "  inflating: drive_256_256_dice_loss_0_4__0_4_1/split_2/train/mask/_27_training_6.png  \n",
            "   creating: drive_256_256_dice_loss_0_4__0_4_1/split_2/train/image/\n",
            "  inflating: drive_256_256_dice_loss_0_4__0_4_1/split_2/train/image/_23_training_2.png  \n",
            "  inflating: drive_256_256_dice_loss_0_4__0_4_1/split_2/train/image/_24_training_4.png  \n",
            "  inflating: drive_256_256_dice_loss_0_4__0_4_1/split_2/train/image/_25_training_2.png  \n",
            "  inflating: drive_256_256_dice_loss_0_4__0_4_1/split_2/train/image/_31_training_2.png  \n",
            "  inflating: drive_256_256_dice_loss_0_4__0_4_1/split_2/train/image/_24_training_2.png  \n",
            "  inflating: drive_256_256_dice_loss_0_4__0_4_1/split_2/train/image/_31_training_7.png  \n",
            "  inflating: drive_256_256_dice_loss_0_4__0_4_1/split_2/train/image/_26_training_5.png  \n",
            "  inflating: drive_256_256_dice_loss_0_4__0_4_1/split_2/train/image/_36_training_6.png  \n",
            "  inflating: drive_256_256_dice_loss_0_4__0_4_1/split_2/train/image/_23_training_0.png  \n",
            "  inflating: drive_256_256_dice_loss_0_4__0_4_1/split_2/train/image/_28_training_7.png  \n",
            "  inflating: drive_256_256_dice_loss_0_4__0_4_1/split_2/train/image/_24_training_6.png  \n",
            "  inflating: drive_256_256_dice_loss_0_4__0_4_1/split_2/train/image/_31_training_0.png  \n",
            "  inflating: drive_256_256_dice_loss_0_4__0_4_1/split_2/train/image/_36_training_1.png  \n",
            "  inflating: drive_256_256_dice_loss_0_4__0_4_1/split_2/train/image/_26_training_8.png  \n",
            "  inflating: drive_256_256_dice_loss_0_4__0_4_1/split_2/train/image/_21_training_5.png  \n",
            "  inflating: drive_256_256_dice_loss_0_4__0_4_1/split_2/train/image/_30_training_5.png  \n",
            "  inflating: drive_256_256_dice_loss_0_4__0_4_1/split_2/train/image/_40_training_3.png  \n",
            "  inflating: drive_256_256_dice_loss_0_4__0_4_1/split_2/train/image/_34_training_3.png  \n",
            "  inflating: drive_256_256_dice_loss_0_4__0_4_1/split_2/train/image/_35_training_0.png  \n",
            "  inflating: drive_256_256_dice_loss_0_4__0_4_1/split_2/train/image/_38_training_1.png  \n",
            "  inflating: drive_256_256_dice_loss_0_4__0_4_1/split_2/train/image/_26_training_4.png  \n",
            "  inflating: drive_256_256_dice_loss_0_4__0_4_1/split_2/train/image/_28_training_0.png  \n",
            "  inflating: drive_256_256_dice_loss_0_4__0_4_1/split_2/train/image/_29_training_4.png  \n",
            "  inflating: drive_256_256_dice_loss_0_4__0_4_1/split_2/train/image/_32_training_0.png  \n",
            "  inflating: drive_256_256_dice_loss_0_4__0_4_1/split_2/train/image/_39_training_0.png  \n",
            "  inflating: drive_256_256_dice_loss_0_4__0_4_1/split_2/train/image/_39_training_5.png  \n",
            "  inflating: drive_256_256_dice_loss_0_4__0_4_1/split_2/train/image/_37_training_5.png  \n",
            "  inflating: drive_256_256_dice_loss_0_4__0_4_1/split_2/train/image/_34_training_0.png  \n",
            "  inflating: drive_256_256_dice_loss_0_4__0_4_1/split_2/train/image/_36_training_0.png  \n",
            "  inflating: drive_256_256_dice_loss_0_4__0_4_1/split_2/train/image/_37_training_4.png  \n",
            "  inflating: drive_256_256_dice_loss_0_4__0_4_1/split_2/train/image/_39_training_6.png  \n",
            "  inflating: drive_256_256_dice_loss_0_4__0_4_1/split_2/train/image/_22_training_2.png  \n",
            "  inflating: drive_256_256_dice_loss_0_4__0_4_1/split_2/train/image/_34_training_7.png  \n",
            "  inflating: drive_256_256_dice_loss_0_4__0_4_1/split_2/train/image/_38_training_3.png  \n",
            "  inflating: drive_256_256_dice_loss_0_4__0_4_1/split_2/train/image/_32_training_4.png  \n",
            "  inflating: drive_256_256_dice_loss_0_4__0_4_1/split_2/train/image/_33_training_1.png  \n",
            "  inflating: drive_256_256_dice_loss_0_4__0_4_1/split_2/train/image/_38_training_8.png  \n",
            "  inflating: drive_256_256_dice_loss_0_4__0_4_1/split_2/train/image/_24_training_0.png  \n",
            "  inflating: drive_256_256_dice_loss_0_4__0_4_1/split_2/train/image/_33_training_2.png  \n",
            "  inflating: drive_256_256_dice_loss_0_4__0_4_1/split_2/train/image/_27_training_8.png  \n",
            "  inflating: drive_256_256_dice_loss_0_4__0_4_1/split_2/train/image/_25_training_8.png  \n",
            "  inflating: drive_256_256_dice_loss_0_4__0_4_1/split_2/train/image/_24_training_1.png  \n",
            "  inflating: drive_256_256_dice_loss_0_4__0_4_1/split_2/train/image/_32_training_8.png  \n",
            "  inflating: drive_256_256_dice_loss_0_4__0_4_1/split_2/train/image/_29_training_2.png  \n",
            "  inflating: drive_256_256_dice_loss_0_4__0_4_1/split_2/train/image/_29_training_5.png  \n",
            "  inflating: drive_256_256_dice_loss_0_4__0_4_1/split_2/train/image/_25_training_3.png  \n",
            "  inflating: drive_256_256_dice_loss_0_4__0_4_1/split_2/train/image/_36_training_5.png  \n",
            "  inflating: drive_256_256_dice_loss_0_4__0_4_1/split_2/train/image/_23_training_8.png  \n",
            "  inflating: drive_256_256_dice_loss_0_4__0_4_1/split_2/train/image/_36_training_8.png  \n",
            "  inflating: drive_256_256_dice_loss_0_4__0_4_1/split_2/train/image/_39_training_4.png  \n",
            "  inflating: drive_256_256_dice_loss_0_4__0_4_1/split_2/train/image/_21_training_3.png  \n",
            "  inflating: drive_256_256_dice_loss_0_4__0_4_1/split_2/train/image/_24_training_3.png  \n",
            "  inflating: drive_256_256_dice_loss_0_4__0_4_1/split_2/train/image/_39_training_2.png  \n",
            "  inflating: drive_256_256_dice_loss_0_4__0_4_1/split_2/train/image/_22_training_4.png  \n",
            "  inflating: drive_256_256_dice_loss_0_4__0_4_1/split_2/train/image/_29_training_0.png  \n",
            "  inflating: drive_256_256_dice_loss_0_4__0_4_1/split_2/train/image/_30_training_6.png  \n",
            "  inflating: drive_256_256_dice_loss_0_4__0_4_1/split_2/train/image/_35_training_1.png  \n",
            "  inflating: drive_256_256_dice_loss_0_4__0_4_1/split_2/train/image/_40_training_6.png  \n",
            "  inflating: drive_256_256_dice_loss_0_4__0_4_1/split_2/train/image/_31_training_3.png  \n",
            "  inflating: drive_256_256_dice_loss_0_4__0_4_1/split_2/train/image/_23_training_1.png  \n",
            "  inflating: drive_256_256_dice_loss_0_4__0_4_1/split_2/train/image/_25_training_1.png  \n",
            "  inflating: drive_256_256_dice_loss_0_4__0_4_1/split_2/train/image/_29_training_8.png  \n",
            "  inflating: drive_256_256_dice_loss_0_4__0_4_1/split_2/train/image/_31_training_6.png  \n",
            "  inflating: drive_256_256_dice_loss_0_4__0_4_1/split_2/train/image/_23_training_4.png  \n",
            "  inflating: drive_256_256_dice_loss_0_4__0_4_1/split_2/train/image/_38_training_5.png  \n",
            "  inflating: drive_256_256_dice_loss_0_4__0_4_1/split_2/train/image/_33_training_5.png  \n",
            "  inflating: drive_256_256_dice_loss_0_4__0_4_1/split_2/train/image/_38_training_7.png  \n",
            "  inflating: drive_256_256_dice_loss_0_4__0_4_1/split_2/train/image/_36_training_7.png  \n",
            "  inflating: drive_256_256_dice_loss_0_4__0_4_1/split_2/train/image/_28_training_3.png  \n",
            "  inflating: drive_256_256_dice_loss_0_4__0_4_1/split_2/train/image/_34_training_1.png  \n",
            "  inflating: drive_256_256_dice_loss_0_4__0_4_1/split_2/train/image/_29_training_6.png  \n",
            "  inflating: drive_256_256_dice_loss_0_4__0_4_1/split_2/train/image/_23_training_6.png  \n",
            "  inflating: drive_256_256_dice_loss_0_4__0_4_1/split_2/train/image/_33_training_6.png  \n",
            "  inflating: drive_256_256_dice_loss_0_4__0_4_1/split_2/train/image/_27_training_2.png  \n",
            "  inflating: drive_256_256_dice_loss_0_4__0_4_1/split_2/train/image/_40_training_0.png  \n",
            "  inflating: drive_256_256_dice_loss_0_4__0_4_1/split_2/train/image/_22_training_5.png  \n",
            "  inflating: drive_256_256_dice_loss_0_4__0_4_1/split_2/train/image/_35_training_7.png  \n",
            "  inflating: drive_256_256_dice_loss_0_4__0_4_1/split_2/train/image/_31_training_5.png  \n",
            "  inflating: drive_256_256_dice_loss_0_4__0_4_1/split_2/train/image/_31_training_1.png  \n",
            "  inflating: drive_256_256_dice_loss_0_4__0_4_1/split_2/train/image/_36_training_2.png  \n",
            "  inflating: drive_256_256_dice_loss_0_4__0_4_1/split_2/train/image/_33_training_3.png  \n",
            "  inflating: drive_256_256_dice_loss_0_4__0_4_1/split_2/train/image/_22_training_1.png  \n",
            "  inflating: drive_256_256_dice_loss_0_4__0_4_1/split_2/train/image/_27_training_4.png  \n",
            "  inflating: drive_256_256_dice_loss_0_4__0_4_1/split_2/train/image/_28_training_4.png  \n",
            "  inflating: drive_256_256_dice_loss_0_4__0_4_1/split_2/train/image/_30_training_7.png  \n",
            "  inflating: drive_256_256_dice_loss_0_4__0_4_1/split_2/train/image/_21_training_6.png  \n",
            "  inflating: drive_256_256_dice_loss_0_4__0_4_1/split_2/train/image/_40_training_1.png  \n",
            "  inflating: drive_256_256_dice_loss_0_4__0_4_1/split_2/train/image/_35_training_4.png  \n",
            "  inflating: drive_256_256_dice_loss_0_4__0_4_1/split_2/train/image/_30_training_2.png  \n",
            "  inflating: drive_256_256_dice_loss_0_4__0_4_1/split_2/train/image/_33_training_4.png  \n",
            "  inflating: drive_256_256_dice_loss_0_4__0_4_1/split_2/train/image/_34_training_4.png  \n",
            "  inflating: drive_256_256_dice_loss_0_4__0_4_1/split_2/train/image/_22_training_7.png  \n",
            "  inflating: drive_256_256_dice_loss_0_4__0_4_1/split_2/train/image/_35_training_5.png  \n",
            "  inflating: drive_256_256_dice_loss_0_4__0_4_1/split_2/train/image/_29_training_1.png  \n",
            "  inflating: drive_256_256_dice_loss_0_4__0_4_1/split_2/train/image/_22_training_0.png  \n",
            "  inflating: drive_256_256_dice_loss_0_4__0_4_1/split_2/train/image/_22_training_8.png  \n",
            "  inflating: drive_256_256_dice_loss_0_4__0_4_1/split_2/train/image/_26_training_7.png  \n",
            "  inflating: drive_256_256_dice_loss_0_4__0_4_1/split_2/train/image/_21_training_4.png  \n",
            "  inflating: drive_256_256_dice_loss_0_4__0_4_1/split_2/train/image/_40_training_2.png  \n",
            "  inflating: drive_256_256_dice_loss_0_4__0_4_1/split_2/train/image/_24_training_7.png  \n",
            "  inflating: drive_256_256_dice_loss_0_4__0_4_1/split_2/train/image/_32_training_3.png  \n",
            "  inflating: drive_256_256_dice_loss_0_4__0_4_1/split_2/train/image/_38_training_0.png  \n",
            "  inflating: drive_256_256_dice_loss_0_4__0_4_1/split_2/train/image/_37_training_8.png  \n",
            "  inflating: drive_256_256_dice_loss_0_4__0_4_1/split_2/train/image/_32_training_1.png  \n",
            "  inflating: drive_256_256_dice_loss_0_4__0_4_1/split_2/train/image/_21_training_0.png  \n",
            "  inflating: drive_256_256_dice_loss_0_4__0_4_1/split_2/train/image/_40_training_5.png  \n",
            "  inflating: drive_256_256_dice_loss_0_4__0_4_1/split_2/train/image/_27_training_5.png  \n",
            "  inflating: drive_256_256_dice_loss_0_4__0_4_1/split_2/train/image/_30_training_4.png  \n",
            "  inflating: drive_256_256_dice_loss_0_4__0_4_1/split_2/train/image/_24_training_8.png  \n",
            "  inflating: drive_256_256_dice_loss_0_4__0_4_1/split_2/train/image/_35_training_3.png  \n",
            "  inflating: drive_256_256_dice_loss_0_4__0_4_1/split_2/train/image/_21_training_1.png  \n",
            "  inflating: drive_256_256_dice_loss_0_4__0_4_1/split_2/train/image/_26_training_1.png  \n",
            "  inflating: drive_256_256_dice_loss_0_4__0_4_1/split_2/train/image/_33_training_8.png  \n",
            "  inflating: drive_256_256_dice_loss_0_4__0_4_1/split_2/train/image/_27_training_0.png  \n",
            "  inflating: drive_256_256_dice_loss_0_4__0_4_1/split_2/train/image/_30_training_0.png  \n",
            "  inflating: drive_256_256_dice_loss_0_4__0_4_1/split_2/train/image/_25_training_7.png  \n",
            "  inflating: drive_256_256_dice_loss_0_4__0_4_1/split_2/train/image/_28_training_8.png  \n",
            "  inflating: drive_256_256_dice_loss_0_4__0_4_1/split_2/train/image/_40_training_4.png  \n",
            "  inflating: drive_256_256_dice_loss_0_4__0_4_1/split_2/train/image/_25_training_6.png  \n",
            "  inflating: drive_256_256_dice_loss_0_4__0_4_1/split_2/train/image/_32_training_2.png  \n",
            "  inflating: drive_256_256_dice_loss_0_4__0_4_1/split_2/train/image/_32_training_7.png  \n",
            "  inflating: drive_256_256_dice_loss_0_4__0_4_1/split_2/train/image/_30_training_8.png  \n",
            "  inflating: drive_256_256_dice_loss_0_4__0_4_1/split_2/train/image/_31_training_8.png  \n",
            "  inflating: drive_256_256_dice_loss_0_4__0_4_1/split_2/train/image/_26_training_2.png  \n",
            "  inflating: drive_256_256_dice_loss_0_4__0_4_1/split_2/train/image/_23_training_7.png  \n",
            "  inflating: drive_256_256_dice_loss_0_4__0_4_1/split_2/train/image/_28_training_1.png  \n",
            "  inflating: drive_256_256_dice_loss_0_4__0_4_1/split_2/train/image/_27_training_7.png  \n",
            "  inflating: drive_256_256_dice_loss_0_4__0_4_1/split_2/train/image/_38_training_2.png  \n",
            "  inflating: drive_256_256_dice_loss_0_4__0_4_1/split_2/train/image/_28_training_5.png  \n",
            "  inflating: drive_256_256_dice_loss_0_4__0_4_1/split_2/train/image/_32_training_5.png  \n",
            "  inflating: drive_256_256_dice_loss_0_4__0_4_1/split_2/train/image/_26_training_0.png  \n",
            "  inflating: drive_256_256_dice_loss_0_4__0_4_1/split_2/train/image/_37_training_0.png  \n",
            "  inflating: drive_256_256_dice_loss_0_4__0_4_1/split_2/train/image/_34_training_5.png  \n",
            "  inflating: drive_256_256_dice_loss_0_4__0_4_1/split_2/train/image/_35_training_6.png  \n",
            "  inflating: drive_256_256_dice_loss_0_4__0_4_1/split_2/train/image/_40_training_7.png  \n",
            "  inflating: drive_256_256_dice_loss_0_4__0_4_1/split_2/train/image/_27_training_1.png  \n",
            "  inflating: drive_256_256_dice_loss_0_4__0_4_1/split_2/train/image/_26_training_3.png  \n",
            "  inflating: drive_256_256_dice_loss_0_4__0_4_1/split_2/train/image/_21_training_7.png  \n",
            "  inflating: drive_256_256_dice_loss_0_4__0_4_1/split_2/train/image/_37_training_3.png  \n",
            "  inflating: drive_256_256_dice_loss_0_4__0_4_1/split_2/train/image/_24_training_5.png  \n",
            "  inflating: drive_256_256_dice_loss_0_4__0_4_1/split_2/train/image/_36_training_3.png  \n",
            "  inflating: drive_256_256_dice_loss_0_4__0_4_1/split_2/train/image/_40_training_8.png  \n",
            "  inflating: drive_256_256_dice_loss_0_4__0_4_1/split_2/train/image/_35_training_8.png  \n",
            "  inflating: drive_256_256_dice_loss_0_4__0_4_1/split_2/train/image/_34_training_8.png  \n",
            "  inflating: drive_256_256_dice_loss_0_4__0_4_1/split_2/train/image/_26_training_6.png  \n",
            "  inflating: drive_256_256_dice_loss_0_4__0_4_1/split_2/train/image/_22_training_3.png  \n",
            "  inflating: drive_256_256_dice_loss_0_4__0_4_1/split_2/train/image/_38_training_6.png  \n",
            "  inflating: drive_256_256_dice_loss_0_4__0_4_1/split_2/train/image/_35_training_2.png  \n",
            "  inflating: drive_256_256_dice_loss_0_4__0_4_1/split_2/train/image/_25_training_4.png  \n",
            "  inflating: drive_256_256_dice_loss_0_4__0_4_1/split_2/train/image/_37_training_6.png  \n",
            "  inflating: drive_256_256_dice_loss_0_4__0_4_1/split_2/train/image/_30_training_3.png  \n",
            "  inflating: drive_256_256_dice_loss_0_4__0_4_1/split_2/train/image/_22_training_6.png  \n",
            "  inflating: drive_256_256_dice_loss_0_4__0_4_1/split_2/train/image/_37_training_1.png  \n",
            "  inflating: drive_256_256_dice_loss_0_4__0_4_1/split_2/train/image/_21_training_2.png  \n",
            "  inflating: drive_256_256_dice_loss_0_4__0_4_1/split_2/train/image/_39_training_8.png  \n",
            "  inflating: drive_256_256_dice_loss_0_4__0_4_1/split_2/train/image/_28_training_2.png  \n",
            "  inflating: drive_256_256_dice_loss_0_4__0_4_1/split_2/train/image/_21_training_8.png  \n",
            "  inflating: drive_256_256_dice_loss_0_4__0_4_1/split_2/train/image/_29_training_3.png  \n",
            "  inflating: drive_256_256_dice_loss_0_4__0_4_1/split_2/train/image/_39_training_3.png  \n",
            "  inflating: drive_256_256_dice_loss_0_4__0_4_1/split_2/train/image/_34_training_6.png  \n",
            "  inflating: drive_256_256_dice_loss_0_4__0_4_1/split_2/train/image/_32_training_6.png  \n",
            "  inflating: drive_256_256_dice_loss_0_4__0_4_1/split_2/train/image/_23_training_5.png  \n",
            "  inflating: drive_256_256_dice_loss_0_4__0_4_1/split_2/train/image/_33_training_0.png  \n",
            "  inflating: drive_256_256_dice_loss_0_4__0_4_1/split_2/train/image/_37_training_2.png  \n",
            "  inflating: drive_256_256_dice_loss_0_4__0_4_1/split_2/train/image/_37_training_7.png  \n",
            "  inflating: drive_256_256_dice_loss_0_4__0_4_1/split_2/train/image/_36_training_4.png  \n",
            "  inflating: drive_256_256_dice_loss_0_4__0_4_1/split_2/train/image/_25_training_0.png  \n",
            "  inflating: drive_256_256_dice_loss_0_4__0_4_1/split_2/train/image/_33_training_7.png  \n",
            "  inflating: drive_256_256_dice_loss_0_4__0_4_1/split_2/train/image/_25_training_5.png  \n",
            "  inflating: drive_256_256_dice_loss_0_4__0_4_1/split_2/train/image/_23_training_3.png  \n",
            "  inflating: drive_256_256_dice_loss_0_4__0_4_1/split_2/train/image/_31_training_4.png  \n",
            "  inflating: drive_256_256_dice_loss_0_4__0_4_1/split_2/train/image/_29_training_7.png  \n",
            "  inflating: drive_256_256_dice_loss_0_4__0_4_1/split_2/train/image/_38_training_4.png  \n",
            "  inflating: drive_256_256_dice_loss_0_4__0_4_1/split_2/train/image/_39_training_1.png  \n",
            "  inflating: drive_256_256_dice_loss_0_4__0_4_1/split_2/train/image/_27_training_3.png  \n",
            "  inflating: drive_256_256_dice_loss_0_4__0_4_1/split_2/train/image/_34_training_2.png  \n",
            "  inflating: drive_256_256_dice_loss_0_4__0_4_1/split_2/train/image/_39_training_7.png  \n",
            "  inflating: drive_256_256_dice_loss_0_4__0_4_1/split_2/train/image/_28_training_6.png  \n",
            "  inflating: drive_256_256_dice_loss_0_4__0_4_1/split_2/train/image/_30_training_1.png  \n",
            "  inflating: drive_256_256_dice_loss_0_4__0_4_1/split_2/train/image/_27_training_6.png  \n",
            "   creating: drive_256_256_dice_loss_0_4__0_4_1/results_reconstructed/\n",
            "   creating: drive_256_256_dice_loss_0_4__0_4_1/test/\n",
            "   creating: drive_256_256_dice_loss_0_4__0_4_1/test/1st_manual/\n",
            " extracting: drive_256_256_dice_loss_0_4__0_4_1/test/1st_manual/15_manual1.gif  \n",
            " extracting: drive_256_256_dice_loss_0_4__0_4_1/test/1st_manual/03_manual1.gif  \n",
            " extracting: drive_256_256_dice_loss_0_4__0_4_1/test/1st_manual/08_manual1.gif  \n",
            " extracting: drive_256_256_dice_loss_0_4__0_4_1/test/1st_manual/01_manual1.gif  \n",
            " extracting: drive_256_256_dice_loss_0_4__0_4_1/test/1st_manual/06_manual1.gif  \n",
            " extracting: drive_256_256_dice_loss_0_4__0_4_1/test/1st_manual/05_manual1.gif  \n",
            " extracting: drive_256_256_dice_loss_0_4__0_4_1/test/1st_manual/19_manual1.gif  \n",
            " extracting: drive_256_256_dice_loss_0_4__0_4_1/test/1st_manual/10_manual1.gif  \n",
            " extracting: drive_256_256_dice_loss_0_4__0_4_1/test/1st_manual/02_manual1.gif  \n",
            " extracting: drive_256_256_dice_loss_0_4__0_4_1/test/1st_manual/20_manual1.gif  \n",
            " extracting: drive_256_256_dice_loss_0_4__0_4_1/test/1st_manual/04_manual1.gif  \n",
            " extracting: drive_256_256_dice_loss_0_4__0_4_1/test/1st_manual/13_manual1.gif  \n",
            " extracting: drive_256_256_dice_loss_0_4__0_4_1/test/1st_manual/07_manual1.gif  \n",
            " extracting: drive_256_256_dice_loss_0_4__0_4_1/test/1st_manual/12_manual1.gif  \n",
            " extracting: drive_256_256_dice_loss_0_4__0_4_1/test/1st_manual/18_manual1.gif  \n",
            " extracting: drive_256_256_dice_loss_0_4__0_4_1/test/1st_manual/14_manual1.gif  \n",
            " extracting: drive_256_256_dice_loss_0_4__0_4_1/test/1st_manual/17_manual1.gif  \n",
            " extracting: drive_256_256_dice_loss_0_4__0_4_1/test/1st_manual/16_manual1.gif  \n",
            " extracting: drive_256_256_dice_loss_0_4__0_4_1/test/1st_manual/11_manual1.gif  \n",
            " extracting: drive_256_256_dice_loss_0_4__0_4_1/test/1st_manual/09_manual1.gif  \n",
            "   creating: drive_256_256_dice_loss_0_4__0_4_1/test/images/\n",
            "  inflating: drive_256_256_dice_loss_0_4__0_4_1/test/images/11_test.tif  \n",
            "  inflating: drive_256_256_dice_loss_0_4__0_4_1/test/images/20_test.tif  \n",
            "  inflating: drive_256_256_dice_loss_0_4__0_4_1/test/images/06_test.tif  \n",
            "  inflating: drive_256_256_dice_loss_0_4__0_4_1/test/images/13_test.tif  \n",
            "  inflating: drive_256_256_dice_loss_0_4__0_4_1/test/images/17_test.tif  \n",
            "  inflating: drive_256_256_dice_loss_0_4__0_4_1/test/images/09_test.tif  \n",
            "  inflating: drive_256_256_dice_loss_0_4__0_4_1/test/images/02_test.tif  \n",
            "  inflating: drive_256_256_dice_loss_0_4__0_4_1/test/images/07_test.tif  \n",
            "  inflating: drive_256_256_dice_loss_0_4__0_4_1/test/images/19_test.tif  \n",
            "  inflating: drive_256_256_dice_loss_0_4__0_4_1/test/images/08_test.tif  \n",
            "  inflating: drive_256_256_dice_loss_0_4__0_4_1/test/images/01_test.tif  \n",
            "  inflating: drive_256_256_dice_loss_0_4__0_4_1/test/images/05_test.tif  \n",
            "  inflating: drive_256_256_dice_loss_0_4__0_4_1/test/images/18_test.tif  \n",
            "  inflating: drive_256_256_dice_loss_0_4__0_4_1/test/images/10_test.tif  \n",
            "  inflating: drive_256_256_dice_loss_0_4__0_4_1/test/images/04_test.tif  \n",
            "  inflating: drive_256_256_dice_loss_0_4__0_4_1/test/images/03_test.tif  \n",
            "  inflating: drive_256_256_dice_loss_0_4__0_4_1/test/images/15_test.tif  \n",
            "  inflating: drive_256_256_dice_loss_0_4__0_4_1/test/images/12_test.tif  \n",
            "  inflating: drive_256_256_dice_loss_0_4__0_4_1/test/images/14_test.tif  \n",
            "  inflating: drive_256_256_dice_loss_0_4__0_4_1/test/images/16_test.tif  \n",
            "   creating: drive_256_256_dice_loss_0_4__0_4_1/results/\n",
            "  inflating: drive_256_256_dice_loss_0_4__0_4_1/results/_09_test_2.png  \n",
            "  inflating: drive_256_256_dice_loss_0_4__0_4_1/results/_06_test_2.png  \n",
            "  inflating: drive_256_256_dice_loss_0_4__0_4_1/results/_07_test_5.png  \n",
            "  inflating: drive_256_256_dice_loss_0_4__0_4_1/results/_10_test_4.png  \n",
            "  inflating: drive_256_256_dice_loss_0_4__0_4_1/results/_03_test_6.png  \n",
            "  inflating: drive_256_256_dice_loss_0_4__0_4_1/results/_15_test_0.png  \n",
            "  inflating: drive_256_256_dice_loss_0_4__0_4_1/results/_03_test_2.png  \n",
            "  inflating: drive_256_256_dice_loss_0_4__0_4_1/results/_16_test_7.png  \n",
            "  inflating: drive_256_256_dice_loss_0_4__0_4_1/results/_11_test_8.png  \n",
            "  inflating: drive_256_256_dice_loss_0_4__0_4_1/results/_11_test_5.png  \n",
            "  inflating: drive_256_256_dice_loss_0_4__0_4_1/results/_10_test_5.png  \n",
            "  inflating: drive_256_256_dice_loss_0_4__0_4_1/results/_06_test_8.png  \n",
            "  inflating: drive_256_256_dice_loss_0_4__0_4_1/results/_02_test_7.png  \n",
            "  inflating: drive_256_256_dice_loss_0_4__0_4_1/results/_14_test_0.png  \n",
            "  inflating: drive_256_256_dice_loss_0_4__0_4_1/results/_18_test_7.png  \n",
            "  inflating: drive_256_256_dice_loss_0_4__0_4_1/results/_09_test_5.png  \n",
            "  inflating: drive_256_256_dice_loss_0_4__0_4_1/results/_15_test_3.png  \n",
            "  inflating: drive_256_256_dice_loss_0_4__0_4_1/results/_03_test_0.png  \n",
            "  inflating: drive_256_256_dice_loss_0_4__0_4_1/results/_02_test_0.png  \n",
            "  inflating: drive_256_256_dice_loss_0_4__0_4_1/results/_20_test_3.png  \n",
            "  inflating: drive_256_256_dice_loss_0_4__0_4_1/results/_09_test_3.png  \n",
            "  inflating: drive_256_256_dice_loss_0_4__0_4_1/results/_01_test_7.png  \n",
            "  inflating: drive_256_256_dice_loss_0_4__0_4_1/results/_03_test_5.png  \n",
            "  inflating: drive_256_256_dice_loss_0_4__0_4_1/results/_01_test_5.png  \n",
            "  inflating: drive_256_256_dice_loss_0_4__0_4_1/results/_12_test_7.png  \n",
            "  inflating: drive_256_256_dice_loss_0_4__0_4_1/results/_16_test_4.png  \n",
            "  inflating: drive_256_256_dice_loss_0_4__0_4_1/results/_12_test_4.png  \n",
            "  inflating: drive_256_256_dice_loss_0_4__0_4_1/results/_20_test_1.png  \n",
            "  inflating: drive_256_256_dice_loss_0_4__0_4_1/results/_13_test_7.png  \n",
            "  inflating: drive_256_256_dice_loss_0_4__0_4_1/results/_07_test_3.png  \n",
            "  inflating: drive_256_256_dice_loss_0_4__0_4_1/results/_12_test_8.png  \n",
            "  inflating: drive_256_256_dice_loss_0_4__0_4_1/results/_08_test_3.png  \n",
            "  inflating: drive_256_256_dice_loss_0_4__0_4_1/results/_12_test_2.png  \n",
            "  inflating: drive_256_256_dice_loss_0_4__0_4_1/results/_11_test_2.png  \n",
            "  inflating: drive_256_256_dice_loss_0_4__0_4_1/results/_09_test_0.png  \n",
            "  inflating: drive_256_256_dice_loss_0_4__0_4_1/results/_05_test_0.png  \n",
            "  inflating: drive_256_256_dice_loss_0_4__0_4_1/results/_19_test_4.png  \n",
            "  inflating: drive_256_256_dice_loss_0_4__0_4_1/results/_15_test_4.png  \n",
            "  inflating: drive_256_256_dice_loss_0_4__0_4_1/results/_03_test_3.png  \n",
            "  inflating: drive_256_256_dice_loss_0_4__0_4_1/results/_17_test_4.png  \n",
            "  inflating: drive_256_256_dice_loss_0_4__0_4_1/results/_17_test_2.png  \n",
            "  inflating: drive_256_256_dice_loss_0_4__0_4_1/results/_13_test_1.png  \n",
            "  inflating: drive_256_256_dice_loss_0_4__0_4_1/results/_15_test_1.png  \n",
            "  inflating: drive_256_256_dice_loss_0_4__0_4_1/results/_11_test_6.png  \n",
            "  inflating: drive_256_256_dice_loss_0_4__0_4_1/results/_17_test_8.png  \n",
            "  inflating: drive_256_256_dice_loss_0_4__0_4_1/results/_05_test_3.png  \n",
            "  inflating: drive_256_256_dice_loss_0_4__0_4_1/results/_14_test_8.png  \n",
            "  inflating: drive_256_256_dice_loss_0_4__0_4_1/results/_17_test_3.png  \n",
            "  inflating: drive_256_256_dice_loss_0_4__0_4_1/results/_20_test_6.png  \n",
            "  inflating: drive_256_256_dice_loss_0_4__0_4_1/results/_20_test_7.png  \n",
            "  inflating: drive_256_256_dice_loss_0_4__0_4_1/results/_07_test_2.png  \n",
            "  inflating: drive_256_256_dice_loss_0_4__0_4_1/results/_19_test_2.png  \n",
            "  inflating: drive_256_256_dice_loss_0_4__0_4_1/results/_07_test_1.png  \n",
            "  inflating: drive_256_256_dice_loss_0_4__0_4_1/results/_07_test_7.png  \n",
            "  inflating: drive_256_256_dice_loss_0_4__0_4_1/results/_04_test_0.png  \n",
            "  inflating: drive_256_256_dice_loss_0_4__0_4_1/results/_19_test_3.png  \n",
            "  inflating: drive_256_256_dice_loss_0_4__0_4_1/results/_15_test_5.png  \n",
            "  inflating: drive_256_256_dice_loss_0_4__0_4_1/results/_13_test_3.png  \n",
            "  inflating: drive_256_256_dice_loss_0_4__0_4_1/results/_20_test_0.png  \n",
            "  inflating: drive_256_256_dice_loss_0_4__0_4_1/results/_03_test_7.png  \n",
            "  inflating: drive_256_256_dice_loss_0_4__0_4_1/results/_10_test_8.png  \n",
            "  inflating: drive_256_256_dice_loss_0_4__0_4_1/results/_04_test_2.png  \n",
            "  inflating: drive_256_256_dice_loss_0_4__0_4_1/results/score.csv  \n",
            "  inflating: drive_256_256_dice_loss_0_4__0_4_1/results/_02_test_1.png  \n",
            "  inflating: drive_256_256_dice_loss_0_4__0_4_1/results/_07_test_4.png  \n",
            "  inflating: drive_256_256_dice_loss_0_4__0_4_1/results/_16_test_6.png  \n",
            "  inflating: drive_256_256_dice_loss_0_4__0_4_1/results/_18_test_6.png  \n",
            "  inflating: drive_256_256_dice_loss_0_4__0_4_1/results/_16_test_0.png  \n",
            "  inflating: drive_256_256_dice_loss_0_4__0_4_1/results/_06_test_5.png  \n",
            "  inflating: drive_256_256_dice_loss_0_4__0_4_1/results/_02_test_8.png  \n",
            "  inflating: drive_256_256_dice_loss_0_4__0_4_1/results/_07_test_0.png  \n",
            "  inflating: drive_256_256_dice_loss_0_4__0_4_1/results/_10_test_2.png  \n",
            "  inflating: drive_256_256_dice_loss_0_4__0_4_1/results/score_full_0_5.csv  \n",
            "  inflating: drive_256_256_dice_loss_0_4__0_4_1/results/_12_test_5.png  \n",
            "  inflating: drive_256_256_dice_loss_0_4__0_4_1/results/_09_test_6.png  \n",
            "  inflating: drive_256_256_dice_loss_0_4__0_4_1/results/_10_test_7.png  \n",
            "  inflating: drive_256_256_dice_loss_0_4__0_4_1/results/_18_test_3.png  \n",
            "  inflating: drive_256_256_dice_loss_0_4__0_4_1/results/_16_test_5.png  \n",
            "  inflating: drive_256_256_dice_loss_0_4__0_4_1/results/_20_test_8.png  \n",
            "  inflating: drive_256_256_dice_loss_0_4__0_4_1/results/_04_test_3.png  \n",
            "  inflating: drive_256_256_dice_loss_0_4__0_4_1/results/_02_test_5.png  \n",
            "  inflating: drive_256_256_dice_loss_0_4__0_4_1/results/_14_test_7.png  \n",
            "  inflating: drive_256_256_dice_loss_0_4__0_4_1/results/_08_test_0.png  \n",
            "  inflating: drive_256_256_dice_loss_0_4__0_4_1/results/_13_test_8.png  \n",
            "  inflating: drive_256_256_dice_loss_0_4__0_4_1/results/_18_test_4.png  \n",
            "  inflating: drive_256_256_dice_loss_0_4__0_4_1/results/_14_test_6.png  \n",
            "  inflating: drive_256_256_dice_loss_0_4__0_4_1/results/_08_test_1.png  \n",
            "  inflating: drive_256_256_dice_loss_0_4__0_4_1/results/_01_test_3.png  \n",
            "  inflating: drive_256_256_dice_loss_0_4__0_4_1/results/_11_test_3.png  \n",
            "  inflating: drive_256_256_dice_loss_0_4__0_4_1/results/_10_test_0.png  \n",
            "  inflating: drive_256_256_dice_loss_0_4__0_4_1/results/_16_test_3.png  \n",
            "  inflating: drive_256_256_dice_loss_0_4__0_4_1/results/_04_test_1.png  \n",
            "  inflating: drive_256_256_dice_loss_0_4__0_4_1/results/_17_test_1.png  \n",
            "  inflating: drive_256_256_dice_loss_0_4__0_4_1/results/_08_test_2.png  \n",
            "  inflating: drive_256_256_dice_loss_0_4__0_4_1/results/_04_test_6.png  \n",
            "  inflating: drive_256_256_dice_loss_0_4__0_4_1/results/_13_test_6.png  \n",
            "  inflating: drive_256_256_dice_loss_0_4__0_4_1/results/_18_test_5.png  \n",
            "  inflating: drive_256_256_dice_loss_0_4__0_4_1/results/_18_test_1.png  \n",
            "  inflating: drive_256_256_dice_loss_0_4__0_4_1/results/_16_test_2.png  \n",
            "  inflating: drive_256_256_dice_loss_0_4__0_4_1/results/score_full_0_6.csv  \n",
            "  inflating: drive_256_256_dice_loss_0_4__0_4_1/results/_13_test_5.png  \n",
            "  inflating: drive_256_256_dice_loss_0_4__0_4_1/results/_15_test_7.png  \n",
            "  inflating: drive_256_256_dice_loss_0_4__0_4_1/results/_09_test_8.png  \n",
            "  inflating: drive_256_256_dice_loss_0_4__0_4_1/results/score_full_0_4.csv  \n",
            "  inflating: drive_256_256_dice_loss_0_4__0_4_1/results/_19_test_0.png  \n",
            "  inflating: drive_256_256_dice_loss_0_4__0_4_1/results/_14_test_5.png  \n",
            "  inflating: drive_256_256_dice_loss_0_4__0_4_1/results/_11_test_4.png  \n",
            "  inflating: drive_256_256_dice_loss_0_4__0_4_1/results/_17_test_7.png  \n",
            "  inflating: drive_256_256_dice_loss_0_4__0_4_1/results/_04_test_5.png  \n",
            "  inflating: drive_256_256_dice_loss_0_4__0_4_1/results/_16_test_8.png  \n",
            "  inflating: drive_256_256_dice_loss_0_4__0_4_1/results/_18_test_0.png  \n",
            "  inflating: drive_256_256_dice_loss_0_4__0_4_1/results/_02_test_3.png  \n",
            "  inflating: drive_256_256_dice_loss_0_4__0_4_1/results/_01_test_4.png  \n",
            "  inflating: drive_256_256_dice_loss_0_4__0_4_1/results/_18_test_2.png  \n",
            "  inflating: drive_256_256_dice_loss_0_4__0_4_1/results/_03_test_4.png  \n",
            "  inflating: drive_256_256_dice_loss_0_4__0_4_1/results/_08_test_8.png  \n",
            "  inflating: drive_256_256_dice_loss_0_4__0_4_1/results/_16_test_1.png  \n",
            "  inflating: drive_256_256_dice_loss_0_4__0_4_1/results/_09_test_7.png  \n",
            "  inflating: drive_256_256_dice_loss_0_4__0_4_1/results/_11_test_1.png  \n",
            "  inflating: drive_256_256_dice_loss_0_4__0_4_1/results/_01_test_0.png  \n",
            "  inflating: drive_256_256_dice_loss_0_4__0_4_1/results/_08_test_5.png  \n",
            "  inflating: drive_256_256_dice_loss_0_4__0_4_1/results/_15_test_6.png  \n",
            "  inflating: drive_256_256_dice_loss_0_4__0_4_1/results/_05_test_6.png  \n",
            "  inflating: drive_256_256_dice_loss_0_4__0_4_1/results/_01_test_8.png  \n",
            "  inflating: drive_256_256_dice_loss_0_4__0_4_1/results/_13_test_0.png  \n",
            "  inflating: drive_256_256_dice_loss_0_4__0_4_1/results/_20_test_5.png  \n",
            "  inflating: drive_256_256_dice_loss_0_4__0_4_1/results/_17_test_0.png  \n",
            "  inflating: drive_256_256_dice_loss_0_4__0_4_1/results/_19_test_5.png  \n",
            "  inflating: drive_256_256_dice_loss_0_4__0_4_1/results/_11_test_0.png  \n",
            "  inflating: drive_256_256_dice_loss_0_4__0_4_1/results/_19_test_1.png  \n",
            "  inflating: drive_256_256_dice_loss_0_4__0_4_1/results/_01_test_6.png  \n",
            "  inflating: drive_256_256_dice_loss_0_4__0_4_1/results/_06_test_3.png  \n",
            "  inflating: drive_256_256_dice_loss_0_4__0_4_1/results/_10_test_3.png  \n",
            "  inflating: drive_256_256_dice_loss_0_4__0_4_1/results/_17_test_5.png  \n",
            "  inflating: drive_256_256_dice_loss_0_4__0_4_1/results/_02_test_6.png  \n",
            "  inflating: drive_256_256_dice_loss_0_4__0_4_1/results/_04_test_8.png  \n",
            "  inflating: drive_256_256_dice_loss_0_4__0_4_1/results/_13_test_4.png  \n",
            "  inflating: drive_256_256_dice_loss_0_4__0_4_1/results/_09_test_4.png  \n",
            "  inflating: drive_256_256_dice_loss_0_4__0_4_1/results/_17_test_6.png  \n",
            "  inflating: drive_256_256_dice_loss_0_4__0_4_1/results/_14_test_1.png  \n",
            "  inflating: drive_256_256_dice_loss_0_4__0_4_1/results/_02_test_2.png  \n",
            "  inflating: drive_256_256_dice_loss_0_4__0_4_1/results/_19_test_7.png  \n",
            "  inflating: drive_256_256_dice_loss_0_4__0_4_1/results/_19_test_6.png  \n",
            "  inflating: drive_256_256_dice_loss_0_4__0_4_1/results/_20_test_2.png  \n",
            "  inflating: drive_256_256_dice_loss_0_4__0_4_1/results/_10_test_1.png  \n",
            "  inflating: drive_256_256_dice_loss_0_4__0_4_1/results/_05_test_7.png  \n",
            "  inflating: drive_256_256_dice_loss_0_4__0_4_1/results/_06_test_1.png  \n",
            "  inflating: drive_256_256_dice_loss_0_4__0_4_1/results/_08_test_6.png  \n",
            "  inflating: drive_256_256_dice_loss_0_4__0_4_1/results/_06_test_6.png  \n",
            "  inflating: drive_256_256_dice_loss_0_4__0_4_1/results/_06_test_7.png  \n",
            "  inflating: drive_256_256_dice_loss_0_4__0_4_1/results/_19_test_8.png  \n",
            "  inflating: drive_256_256_dice_loss_0_4__0_4_1/results/_13_test_2.png  \n",
            "  inflating: drive_256_256_dice_loss_0_4__0_4_1/results/_03_test_1.png  \n",
            "  inflating: drive_256_256_dice_loss_0_4__0_4_1/results/_06_test_0.png  \n",
            "  inflating: drive_256_256_dice_loss_0_4__0_4_1/results/_15_test_2.png  \n",
            "  inflating: drive_256_256_dice_loss_0_4__0_4_1/results/_15_test_8.png  \n",
            "  inflating: drive_256_256_dice_loss_0_4__0_4_1/results/_05_test_4.png  \n",
            "  inflating: drive_256_256_dice_loss_0_4__0_4_1/results/_05_test_8.png  \n",
            "  inflating: drive_256_256_dice_loss_0_4__0_4_1/results/_12_test_0.png  \n",
            "  inflating: drive_256_256_dice_loss_0_4__0_4_1/results/_20_test_4.png  \n",
            "  inflating: drive_256_256_dice_loss_0_4__0_4_1/results/_05_test_5.png  \n",
            "  inflating: drive_256_256_dice_loss_0_4__0_4_1/results/_04_test_4.png  \n",
            "  inflating: drive_256_256_dice_loss_0_4__0_4_1/results/_12_test_1.png  \n",
            "  inflating: drive_256_256_dice_loss_0_4__0_4_1/results/_07_test_8.png  \n",
            "  inflating: drive_256_256_dice_loss_0_4__0_4_1/results/_03_test_8.png  \n",
            "  inflating: drive_256_256_dice_loss_0_4__0_4_1/results/_09_test_1.png  \n",
            "  inflating: drive_256_256_dice_loss_0_4__0_4_1/results/_12_test_6.png  \n",
            "  inflating: drive_256_256_dice_loss_0_4__0_4_1/results/_05_test_1.png  \n",
            "  inflating: drive_256_256_dice_loss_0_4__0_4_1/results/_11_test_7.png  \n",
            "  inflating: drive_256_256_dice_loss_0_4__0_4_1/results/_02_test_4.png  \n",
            "  inflating: drive_256_256_dice_loss_0_4__0_4_1/results/_08_test_7.png  \n",
            "  inflating: drive_256_256_dice_loss_0_4__0_4_1/results/_12_test_3.png  \n",
            "  inflating: drive_256_256_dice_loss_0_4__0_4_1/results/_01_test_1.png  \n",
            "  inflating: drive_256_256_dice_loss_0_4__0_4_1/results/_14_test_2.png  \n",
            "  inflating: drive_256_256_dice_loss_0_4__0_4_1/results/_14_test_3.png  \n",
            "  inflating: drive_256_256_dice_loss_0_4__0_4_1/results/_07_test_6.png  \n",
            "  inflating: drive_256_256_dice_loss_0_4__0_4_1/results/_14_test_4.png  \n",
            "  inflating: drive_256_256_dice_loss_0_4__0_4_1/results/_08_test_4.png  \n",
            "  inflating: drive_256_256_dice_loss_0_4__0_4_1/results/_01_test_2.png  \n",
            "  inflating: drive_256_256_dice_loss_0_4__0_4_1/results/_10_test_6.png  \n",
            "  inflating: drive_256_256_dice_loss_0_4__0_4_1/results/_05_test_2.png  \n",
            "  inflating: drive_256_256_dice_loss_0_4__0_4_1/results/_06_test_4.png  \n",
            "  inflating: drive_256_256_dice_loss_0_4__0_4_1/results/_18_test_8.png  \n",
            "  inflating: drive_256_256_dice_loss_0_4__0_4_1/results/_04_test_7.png  \n",
            "   creating: drive_256_256_dice_loss_0_4__0_4_1/predictions_np/\n",
            "  inflating: drive_256_256_dice_loss_0_4__0_4_1/predictions_np/_20_test_7.npy  \n",
            "  inflating: drive_256_256_dice_loss_0_4__0_4_1/predictions_np/_17_test_8.npy  \n",
            "  inflating: drive_256_256_dice_loss_0_4__0_4_1/predictions_np/_03_test_5.npy  \n",
            "  inflating: drive_256_256_dice_loss_0_4__0_4_1/predictions_np/_03_test_0.npy  \n",
            "  inflating: drive_256_256_dice_loss_0_4__0_4_1/predictions_np/_15_test_8.npy  \n",
            "  inflating: drive_256_256_dice_loss_0_4__0_4_1/predictions_np/_13_test_7.npy  \n",
            "  inflating: drive_256_256_dice_loss_0_4__0_4_1/predictions_np/_20_test_6.npy  \n",
            "  inflating: drive_256_256_dice_loss_0_4__0_4_1/predictions_np/_11_test_4.npy  \n",
            "  inflating: drive_256_256_dice_loss_0_4__0_4_1/predictions_np/_01_test_7.npy  \n",
            "  inflating: drive_256_256_dice_loss_0_4__0_4_1/predictions_np/_14_test_1.npy  \n",
            "  inflating: drive_256_256_dice_loss_0_4__0_4_1/predictions_np/_11_test_7.npy  \n",
            "  inflating: drive_256_256_dice_loss_0_4__0_4_1/predictions_np/_16_test_2.npy  \n",
            "  inflating: drive_256_256_dice_loss_0_4__0_4_1/predictions_np/_11_test_5.npy  \n",
            "  inflating: drive_256_256_dice_loss_0_4__0_4_1/predictions_np/_10_test_1.npy  \n",
            "  inflating: drive_256_256_dice_loss_0_4__0_4_1/predictions_np/_09_test_8.npy  \n",
            "  inflating: drive_256_256_dice_loss_0_4__0_4_1/predictions_np/_11_test_6.npy  \n",
            "  inflating: drive_256_256_dice_loss_0_4__0_4_1/predictions_np/_15_test_3.npy  \n",
            "  inflating: drive_256_256_dice_loss_0_4__0_4_1/predictions_np/_06_test_2.npy  \n",
            "  inflating: drive_256_256_dice_loss_0_4__0_4_1/predictions_np/_20_test_0.npy  \n",
            "  inflating: drive_256_256_dice_loss_0_4__0_4_1/predictions_np/_09_test_2.npy  \n",
            "  inflating: drive_256_256_dice_loss_0_4__0_4_1/predictions_np/_11_test_8.npy  \n",
            "  inflating: drive_256_256_dice_loss_0_4__0_4_1/predictions_np/_13_test_2.npy  \n",
            "  inflating: drive_256_256_dice_loss_0_4__0_4_1/predictions_np/_14_test_8.npy  \n",
            "  inflating: drive_256_256_dice_loss_0_4__0_4_1/predictions_np/_10_test_8.npy  \n",
            "  inflating: drive_256_256_dice_loss_0_4__0_4_1/predictions_np/_03_test_1.npy  \n",
            "  inflating: drive_256_256_dice_loss_0_4__0_4_1/predictions_np/_01_test_8.npy  \n",
            "  inflating: drive_256_256_dice_loss_0_4__0_4_1/predictions_np/_06_test_7.npy  \n",
            "  inflating: drive_256_256_dice_loss_0_4__0_4_1/predictions_np/_15_test_5.npy  \n",
            "  inflating: drive_256_256_dice_loss_0_4__0_4_1/predictions_np/_15_test_2.npy  \n",
            "  inflating: drive_256_256_dice_loss_0_4__0_4_1/predictions_np/_08_test_7.npy  \n",
            "  inflating: drive_256_256_dice_loss_0_4__0_4_1/predictions_np/_19_test_6.npy  \n",
            "  inflating: drive_256_256_dice_loss_0_4__0_4_1/predictions_np/_02_test_1.npy  \n",
            "  inflating: drive_256_256_dice_loss_0_4__0_4_1/predictions_np/_13_test_0.npy  \n",
            "  inflating: drive_256_256_dice_loss_0_4__0_4_1/predictions_np/_07_test_7.npy  \n",
            "  inflating: drive_256_256_dice_loss_0_4__0_4_1/predictions_np/_14_test_4.npy  \n",
            "  inflating: drive_256_256_dice_loss_0_4__0_4_1/predictions_np/_09_test_0.npy  \n",
            "  inflating: drive_256_256_dice_loss_0_4__0_4_1/predictions_np/_01_test_1.npy  \n",
            "  inflating: drive_256_256_dice_loss_0_4__0_4_1/predictions_np/_17_test_1.npy  \n",
            "  inflating: drive_256_256_dice_loss_0_4__0_4_1/predictions_np/_06_test_4.npy  \n",
            "  inflating: drive_256_256_dice_loss_0_4__0_4_1/predictions_np/_20_test_8.npy  \n",
            "  inflating: drive_256_256_dice_loss_0_4__0_4_1/predictions_np/_09_test_6.npy  \n",
            "  inflating: drive_256_256_dice_loss_0_4__0_4_1/predictions_np/_02_test_4.npy  \n",
            "  inflating: drive_256_256_dice_loss_0_4__0_4_1/predictions_np/_05_test_4.npy  \n",
            "  inflating: drive_256_256_dice_loss_0_4__0_4_1/predictions_np/_07_test_3.npy  \n",
            "  inflating: drive_256_256_dice_loss_0_4__0_4_1/predictions_np/_03_test_6.npy  \n",
            "  inflating: drive_256_256_dice_loss_0_4__0_4_1/predictions_np/_07_test_0.npy  \n",
            "  inflating: drive_256_256_dice_loss_0_4__0_4_1/predictions_np/_12_test_0.npy  \n",
            "  inflating: drive_256_256_dice_loss_0_4__0_4_1/predictions_np/_02_test_6.npy  \n",
            "  inflating: drive_256_256_dice_loss_0_4__0_4_1/predictions_np/_12_test_1.npy  \n",
            "  inflating: drive_256_256_dice_loss_0_4__0_4_1/predictions_np/_08_test_2.npy  \n",
            "  inflating: drive_256_256_dice_loss_0_4__0_4_1/predictions_np/_08_test_4.npy  \n",
            "  inflating: drive_256_256_dice_loss_0_4__0_4_1/predictions_np/_02_test_8.npy  \n",
            "  inflating: drive_256_256_dice_loss_0_4__0_4_1/predictions_np/_19_test_4.npy  \n",
            "  inflating: drive_256_256_dice_loss_0_4__0_4_1/predictions_np/_10_test_7.npy  \n",
            "  inflating: drive_256_256_dice_loss_0_4__0_4_1/predictions_np/_19_test_3.npy  \n",
            "  inflating: drive_256_256_dice_loss_0_4__0_4_1/predictions_np/_06_test_6.npy  \n",
            "  inflating: drive_256_256_dice_loss_0_4__0_4_1/predictions_np/_19_test_7.npy  \n",
            "  inflating: drive_256_256_dice_loss_0_4__0_4_1/predictions_np/_11_test_0.npy  \n",
            "  inflating: drive_256_256_dice_loss_0_4__0_4_1/predictions_np/_08_test_8.npy  \n",
            "  inflating: drive_256_256_dice_loss_0_4__0_4_1/predictions_np/_04_test_1.npy  \n",
            "  inflating: drive_256_256_dice_loss_0_4__0_4_1/predictions_np/_12_test_6.npy  \n",
            "  inflating: drive_256_256_dice_loss_0_4__0_4_1/predictions_np/_11_test_3.npy  \n",
            "  inflating: drive_256_256_dice_loss_0_4__0_4_1/predictions_np/_04_test_3.npy  \n",
            "  inflating: drive_256_256_dice_loss_0_4__0_4_1/predictions_np/_12_test_4.npy  \n",
            "  inflating: drive_256_256_dice_loss_0_4__0_4_1/predictions_np/_10_test_6.npy  \n",
            "  inflating: drive_256_256_dice_loss_0_4__0_4_1/predictions_np/_05_test_8.npy  \n",
            "  inflating: drive_256_256_dice_loss_0_4__0_4_1/predictions_np/_06_test_0.npy  \n",
            "  inflating: drive_256_256_dice_loss_0_4__0_4_1/predictions_np/_04_test_4.npy  \n",
            "  inflating: drive_256_256_dice_loss_0_4__0_4_1/predictions_np/_13_test_3.npy  \n",
            "  inflating: drive_256_256_dice_loss_0_4__0_4_1/predictions_np/_07_test_2.npy  \n",
            "  inflating: drive_256_256_dice_loss_0_4__0_4_1/predictions_np/_10_test_2.npy  \n",
            "  inflating: drive_256_256_dice_loss_0_4__0_4_1/predictions_np/_16_test_4.npy  \n",
            "  inflating: drive_256_256_dice_loss_0_4__0_4_1/predictions_np/_01_test_2.npy  \n",
            "  inflating: drive_256_256_dice_loss_0_4__0_4_1/predictions_np/_17_test_6.npy  \n",
            "  inflating: drive_256_256_dice_loss_0_4__0_4_1/predictions_np/_07_test_1.npy  \n",
            "  inflating: drive_256_256_dice_loss_0_4__0_4_1/predictions_np/_03_test_7.npy  \n",
            "  inflating: drive_256_256_dice_loss_0_4__0_4_1/predictions_np/_01_test_6.npy  \n",
            "  inflating: drive_256_256_dice_loss_0_4__0_4_1/predictions_np/_15_test_0.npy  \n",
            "  inflating: drive_256_256_dice_loss_0_4__0_4_1/predictions_np/_13_test_1.npy  \n",
            "  inflating: drive_256_256_dice_loss_0_4__0_4_1/predictions_np/_18_test_0.npy  \n",
            "  inflating: drive_256_256_dice_loss_0_4__0_4_1/predictions_np/_18_test_5.npy  \n",
            "  inflating: drive_256_256_dice_loss_0_4__0_4_1/predictions_np/_17_test_7.npy  \n",
            "  inflating: drive_256_256_dice_loss_0_4__0_4_1/predictions_np/_09_test_5.npy  \n",
            "  inflating: drive_256_256_dice_loss_0_4__0_4_1/predictions_np/_09_test_3.npy  \n",
            "  inflating: drive_256_256_dice_loss_0_4__0_4_1/predictions_np/_07_test_8.npy  \n",
            "  inflating: drive_256_256_dice_loss_0_4__0_4_1/predictions_np/_06_test_1.npy  \n",
            "  inflating: drive_256_256_dice_loss_0_4__0_4_1/predictions_np/_05_test_7.npy  \n",
            "  inflating: drive_256_256_dice_loss_0_4__0_4_1/predictions_np/_14_test_0.npy  \n",
            "  inflating: drive_256_256_dice_loss_0_4__0_4_1/predictions_np/_03_test_3.npy  \n",
            "  inflating: drive_256_256_dice_loss_0_4__0_4_1/predictions_np/_05_test_2.npy  \n",
            "  inflating: drive_256_256_dice_loss_0_4__0_4_1/predictions_np/_18_test_6.npy  \n",
            "  inflating: drive_256_256_dice_loss_0_4__0_4_1/predictions_np/_19_test_8.npy  \n",
            "  inflating: drive_256_256_dice_loss_0_4__0_4_1/predictions_np/_18_test_8.npy  \n",
            "  inflating: drive_256_256_dice_loss_0_4__0_4_1/predictions_np/_13_test_5.npy  \n",
            "  inflating: drive_256_256_dice_loss_0_4__0_4_1/predictions_np/_05_test_6.npy  \n",
            "  inflating: drive_256_256_dice_loss_0_4__0_4_1/predictions_np/_04_test_7.npy  \n",
            "  inflating: drive_256_256_dice_loss_0_4__0_4_1/predictions_np/_13_test_4.npy  \n",
            "  inflating: drive_256_256_dice_loss_0_4__0_4_1/predictions_np/_08_test_6.npy  \n",
            "  inflating: drive_256_256_dice_loss_0_4__0_4_1/predictions_np/_16_test_3.npy  \n",
            "  inflating: drive_256_256_dice_loss_0_4__0_4_1/predictions_np/_08_test_1.npy  \n",
            "  inflating: drive_256_256_dice_loss_0_4__0_4_1/predictions_np/_01_test_3.npy  \n",
            "  inflating: drive_256_256_dice_loss_0_4__0_4_1/predictions_np/_16_test_7.npy  \n",
            "  inflating: drive_256_256_dice_loss_0_4__0_4_1/predictions_np/_15_test_1.npy  \n",
            "  inflating: drive_256_256_dice_loss_0_4__0_4_1/predictions_np/_16_test_0.npy  \n",
            "  inflating: drive_256_256_dice_loss_0_4__0_4_1/predictions_np/_12_test_2.npy  \n",
            "  inflating: drive_256_256_dice_loss_0_4__0_4_1/predictions_np/_17_test_2.npy  \n",
            "  inflating: drive_256_256_dice_loss_0_4__0_4_1/predictions_np/_12_test_3.npy  \n",
            "  inflating: drive_256_256_dice_loss_0_4__0_4_1/predictions_np/_19_test_1.npy  \n",
            "  inflating: drive_256_256_dice_loss_0_4__0_4_1/predictions_np/_15_test_7.npy  \n",
            "  inflating: drive_256_256_dice_loss_0_4__0_4_1/predictions_np/_05_test_0.npy  \n",
            "  inflating: drive_256_256_dice_loss_0_4__0_4_1/predictions_np/_19_test_2.npy  \n",
            "  inflating: drive_256_256_dice_loss_0_4__0_4_1/predictions_np/_02_test_3.npy  \n",
            "  inflating: drive_256_256_dice_loss_0_4__0_4_1/predictions_np/_17_test_0.npy  \n",
            "  inflating: drive_256_256_dice_loss_0_4__0_4_1/predictions_np/_04_test_0.npy  \n",
            "  inflating: drive_256_256_dice_loss_0_4__0_4_1/predictions_np/_20_test_2.npy  \n",
            "  inflating: drive_256_256_dice_loss_0_4__0_4_1/predictions_np/_02_test_5.npy  \n",
            "  inflating: drive_256_256_dice_loss_0_4__0_4_1/predictions_np/_14_test_6.npy  \n",
            "  inflating: drive_256_256_dice_loss_0_4__0_4_1/predictions_np/_17_test_3.npy  \n",
            "  inflating: drive_256_256_dice_loss_0_4__0_4_1/predictions_np/_06_test_3.npy  \n",
            "  inflating: drive_256_256_dice_loss_0_4__0_4_1/predictions_np/_18_test_7.npy  \n",
            "  inflating: drive_256_256_dice_loss_0_4__0_4_1/predictions_np/_20_test_1.npy  \n",
            "  inflating: drive_256_256_dice_loss_0_4__0_4_1/predictions_np/_07_test_4.npy  \n",
            "  inflating: drive_256_256_dice_loss_0_4__0_4_1/predictions_np/_16_test_5.npy  \n",
            "  inflating: drive_256_256_dice_loss_0_4__0_4_1/predictions_np/_14_test_5.npy  \n",
            "  inflating: drive_256_256_dice_loss_0_4__0_4_1/predictions_np/_20_test_3.npy  \n",
            "  inflating: drive_256_256_dice_loss_0_4__0_4_1/predictions_np/_02_test_2.npy  \n",
            "  inflating: drive_256_256_dice_loss_0_4__0_4_1/predictions_np/_02_test_7.npy  \n",
            "  inflating: drive_256_256_dice_loss_0_4__0_4_1/predictions_np/_11_test_2.npy  \n",
            "  inflating: drive_256_256_dice_loss_0_4__0_4_1/predictions_np/_18_test_2.npy  \n",
            "  inflating: drive_256_256_dice_loss_0_4__0_4_1/predictions_np/_06_test_5.npy  \n",
            "  inflating: drive_256_256_dice_loss_0_4__0_4_1/predictions_np/_12_test_8.npy  \n",
            "  inflating: drive_256_256_dice_loss_0_4__0_4_1/predictions_np/_06_test_8.npy  \n",
            "  inflating: drive_256_256_dice_loss_0_4__0_4_1/predictions_np/_09_test_4.npy  \n",
            "  inflating: drive_256_256_dice_loss_0_4__0_4_1/predictions_np/_03_test_4.npy  \n",
            "  inflating: drive_256_256_dice_loss_0_4__0_4_1/predictions_np/_13_test_6.npy  \n",
            "  inflating: drive_256_256_dice_loss_0_4__0_4_1/predictions_np/_20_test_5.npy  \n",
            "  inflating: drive_256_256_dice_loss_0_4__0_4_1/predictions_np/_20_test_4.npy  \n",
            "  inflating: drive_256_256_dice_loss_0_4__0_4_1/predictions_np/_04_test_6.npy  \n",
            "  inflating: drive_256_256_dice_loss_0_4__0_4_1/predictions_np/_17_test_4.npy  \n",
            "  inflating: drive_256_256_dice_loss_0_4__0_4_1/predictions_np/_11_test_1.npy  \n",
            "  inflating: drive_256_256_dice_loss_0_4__0_4_1/predictions_np/_08_test_3.npy  \n",
            "  inflating: drive_256_256_dice_loss_0_4__0_4_1/predictions_np/_14_test_2.npy  \n",
            "  inflating: drive_256_256_dice_loss_0_4__0_4_1/predictions_np/_01_test_5.npy  \n",
            "  inflating: drive_256_256_dice_loss_0_4__0_4_1/predictions_np/_04_test_2.npy  \n",
            "  inflating: drive_256_256_dice_loss_0_4__0_4_1/predictions_np/_08_test_5.npy  \n",
            "  inflating: drive_256_256_dice_loss_0_4__0_4_1/predictions_np/_18_test_4.npy  \n",
            "  inflating: drive_256_256_dice_loss_0_4__0_4_1/predictions_np/_16_test_1.npy  \n",
            "  inflating: drive_256_256_dice_loss_0_4__0_4_1/predictions_np/_16_test_6.npy  \n",
            "  inflating: drive_256_256_dice_loss_0_4__0_4_1/predictions_np/_05_test_1.npy  \n",
            "  inflating: drive_256_256_dice_loss_0_4__0_4_1/predictions_np/_05_test_3.npy  \n",
            "  inflating: drive_256_256_dice_loss_0_4__0_4_1/predictions_np/_12_test_7.npy  \n",
            "  inflating: drive_256_256_dice_loss_0_4__0_4_1/predictions_np/_10_test_0.npy  \n",
            "  inflating: drive_256_256_dice_loss_0_4__0_4_1/predictions_np/_10_test_3.npy  \n",
            "  inflating: drive_256_256_dice_loss_0_4__0_4_1/predictions_np/_10_test_4.npy  \n",
            "  inflating: drive_256_256_dice_loss_0_4__0_4_1/predictions_np/_01_test_4.npy  \n",
            "  inflating: drive_256_256_dice_loss_0_4__0_4_1/predictions_np/_15_test_4.npy  \n",
            "  inflating: drive_256_256_dice_loss_0_4__0_4_1/predictions_np/_03_test_8.npy  \n",
            "  inflating: drive_256_256_dice_loss_0_4__0_4_1/predictions_np/_09_test_1.npy  \n",
            "  inflating: drive_256_256_dice_loss_0_4__0_4_1/predictions_np/_05_test_5.npy  \n",
            "  inflating: drive_256_256_dice_loss_0_4__0_4_1/predictions_np/_10_test_5.npy  \n",
            "  inflating: drive_256_256_dice_loss_0_4__0_4_1/predictions_np/_12_test_5.npy  \n",
            "  inflating: drive_256_256_dice_loss_0_4__0_4_1/predictions_np/_14_test_3.npy  \n",
            "  inflating: drive_256_256_dice_loss_0_4__0_4_1/predictions_np/_16_test_8.npy  \n",
            "  inflating: drive_256_256_dice_loss_0_4__0_4_1/predictions_np/_15_test_6.npy  \n",
            "  inflating: drive_256_256_dice_loss_0_4__0_4_1/predictions_np/_03_test_2.npy  \n",
            "  inflating: drive_256_256_dice_loss_0_4__0_4_1/predictions_np/_18_test_1.npy  \n",
            "  inflating: drive_256_256_dice_loss_0_4__0_4_1/predictions_np/_13_test_8.npy  \n",
            "  inflating: drive_256_256_dice_loss_0_4__0_4_1/predictions_np/_14_test_7.npy  \n",
            "  inflating: drive_256_256_dice_loss_0_4__0_4_1/predictions_np/_02_test_0.npy  \n",
            "  inflating: drive_256_256_dice_loss_0_4__0_4_1/predictions_np/_01_test_0.npy  \n",
            "  inflating: drive_256_256_dice_loss_0_4__0_4_1/predictions_np/_18_test_3.npy  \n",
            "  inflating: drive_256_256_dice_loss_0_4__0_4_1/predictions_np/_04_test_5.npy  \n",
            "  inflating: drive_256_256_dice_loss_0_4__0_4_1/predictions_np/_04_test_8.npy  \n",
            "  inflating: drive_256_256_dice_loss_0_4__0_4_1/predictions_np/_08_test_0.npy  \n",
            "  inflating: drive_256_256_dice_loss_0_4__0_4_1/predictions_np/_19_test_5.npy  \n",
            "  inflating: drive_256_256_dice_loss_0_4__0_4_1/predictions_np/_07_test_6.npy  \n",
            "  inflating: drive_256_256_dice_loss_0_4__0_4_1/predictions_np/_07_test_5.npy  \n",
            "  inflating: drive_256_256_dice_loss_0_4__0_4_1/predictions_np/_17_test_5.npy  \n",
            "  inflating: drive_256_256_dice_loss_0_4__0_4_1/predictions_np/_09_test_7.npy  \n",
            "  inflating: drive_256_256_dice_loss_0_4__0_4_1/predictions_np/_19_test_0.npy  \n"
          ]
        }
      ]
    },
    {
      "cell_type": "code",
      "source": [
        "drive.flush_and_unmount()"
      ],
      "metadata": {
        "id": "uUc7rHJNeI-p"
      },
      "execution_count": null,
      "outputs": []
    },
    {
      "cell_type": "code",
      "source": [
        ""
      ],
      "metadata": {
        "id": "fXp07gx1AtsF"
      },
      "execution_count": null,
      "outputs": []
    }
  ]
}