{
  "cells": [
    {
      "cell_type": "markdown",
      "metadata": {
        "id": "ZIUz94YO5Y0x"
      },
      "source": [
        "### Import the required libraries and modules:"
      ]
    },
    {
      "cell_type": "code",
      "execution_count": null,
      "metadata": {
        "id": "RN5vXWIK27Lr"
      },
      "outputs": [],
      "source": [
        "import tensorflow as tf\n",
        "from tensorflow.keras.layers import Conv2D, BatchNormalization, Activation, MaxPool2D, Conv2DTranspose, Concatenate, Input\n",
        "from tensorflow.keras.models import Model\n",
        "from tensorflow.keras import backend as K\n",
        "import os\n",
        "os.environ[\"TF_CPP_MIN_LOG_LEVEL\"] = \"2\"\n",
        "import numpy as np\n",
        "import cv2\n",
        "from glob import glob\n",
        "from sklearn.utils import shuffle\n",
        "import tensorflow as tf\n",
        "from tensorflow.keras.callbacks import ModelCheckpoint, CSVLogger, ReduceLROnPlateau, EarlyStopping, TensorBoard\n",
        "from tensorflow.keras.optimizers import Adam\n",
        "from tensorflow.keras.metrics import Recall, Precision\n",
        "import numpy as np"
      ]
    },
    {
      "cell_type": "code",
      "execution_count": null,
      "metadata": {
        "colab": {
          "base_uri": "https://localhost:8080/"
        },
        "id": "DguMtoH4ZJA9",
        "outputId": "454081b9-1885-454a-ce2b-ed329c721e0b"
      },
      "outputs": [
        {
          "name": "stdout",
          "output_type": "stream",
          "text": [
            "Mounted at /content/gdrive\n",
            "/content/gdrive/MyDrive/medical_image_processing\n"
          ]
        }
      ],
      "source": [
        "from google.colab import drive\n",
        "drive.mount(\"/content/gdrive\", force_remount=True)\n",
        "%cd /content/gdrive/MyDrive/medical_image_processing/"
      ]
    },
    {
      "cell_type": "code",
      "execution_count": null,
      "metadata": {
        "id": "sT9NcAXcN4MK"
      },
      "outputs": [],
      "source": [
        "from fundal_image.utils import create_dir, get_filenames_sorted\n",
        "from patches import generate_patches_images_only, reconstruct_patches\n",
        "from metrics import iou, dice_coef, dice_loss, DiceBCELoss, bce\n",
        "from metrics import compute_metrics, save_results\n",
        "from utils import read_image_train, read_mask_train"
      ]
    },
    {
      "cell_type": "code",
      "execution_count": null,
      "metadata": {
        "id": "-u2FCjiRfHBT"
      },
      "outputs": [],
      "source": [
        "image_sizes = {\"HRF\": (2336, 3504), \"drive\": (584, 565), \"chase_db\": (960, 999)}\n",
        "patch_size = {\"HRF\": (768, 768),\n",
        "              \"drive\":(128, 128),\n",
        "              \"chase_db\":(256, 256)\n",
        "              }\n",
        "\n",
        "dataset_name = \"chase_db\"\n",
        "patch_size = patch_size[dataset_name]\n",
        "patch_height = patch_size[0]\n",
        "patch_width = patch_size[1]"
      ]
    },
    {
      "cell_type": "code",
      "execution_count": null,
      "metadata": {
        "id": "U_UlvLm25iVS"
      },
      "outputs": [],
      "source": [
        "loss_str = \"dice_bce\"\n",
        "with_augmentation = False\n",
        "stride=256\n",
        "seed = 42\n",
        "run_id = 1\n",
        "test_percentage = 0.4\n",
        "class_weight = 0.4\n",
        "class_weight_str = str(class_weight).replace(\".\", \"_\")\n",
        "aug_string = \"\"\n",
        "if with_augmentation:\n",
        "    aug_string = \"_hvr\"\n",
        "test_percentage_str = str(test_percentage).replace(\".\", \"_\")\n",
        "root_path = f\"/content/datasets/{dataset_name}_{patch_height}_{stride}_{loss_str}_{class_weight_str}_{aug_string}_{test_percentage_str}_{run_id}/\"\n",
        "\n",
        "images_path_train = f\"{root_path}/training/images/\"\n",
        "gt_path_train = f\"{root_path}/training/1st_manual/\"\n",
        "images_path_test = f\"{root_path}/test/images/\"\n",
        "gt_path_test = f\"{root_path}/test/1st_manual/\"\n",
        "\n",
        "create_dir(images_path_train)\n",
        "create_dir(gt_path_train)\n",
        "create_dir(images_path_test)\n",
        "create_dir(gt_path_test)"
      ]
    },
    {
      "cell_type": "code",
      "execution_count": null,
      "metadata": {
        "id": "K9UW2Mt2kh_m"
      },
      "outputs": [],
      "source": [
        "def wbce(actual, predicted):\n",
        "    y_pred = K.clip(predicted, K.epsilon(), 1 - K.epsilon())\n",
        "    term_0 = (1 - actual) * K.log(1 - y_pred)\n",
        "    term_1 = class_weight * actual * K.log(y_pred + K.epsilon())\n",
        "    return -K.mean(term_0 + term_1, axis=0)"
      ]
    },
    {
      "cell_type": "code",
      "execution_count": null,
      "metadata": {
        "colab": {
          "base_uri": "https://localhost:8080/",
          "height": 35
        },
        "id": "lFCH4PBbSW4R",
        "outputId": "20736179-5214-4526-d9b8-fbadd08251ce"
      },
      "outputs": [
        {
          "data": {
            "application/vnd.google.colaboratory.intrinsic+json": {
              "type": "string"
            },
            "text/plain": [
              "'/content/datasets/chase_db_256_256_dice_bce_0_4__0_4_1/'"
            ]
          },
          "execution_count": 7,
          "metadata": {},
          "output_type": "execute_result"
        }
      ],
      "source": [
        "root_path"
      ]
    },
    {
      "cell_type": "code",
      "execution_count": null,
      "metadata": {
        "colab": {
          "base_uri": "https://localhost:8080/",
          "height": 35
        },
        "id": "SAWhPu-m--qT",
        "outputId": "4b22cc53-2ece-4611-a478-e6977a650ddb"
      },
      "outputs": [
        {
          "data": {
            "application/vnd.google.colaboratory.intrinsic+json": {
              "type": "string"
            },
            "text/plain": [
              "'/content/datasets/chase_db_256_256_dice_bce_0_4__0_4_1//training/images/'"
            ]
          },
          "execution_count": 8,
          "metadata": {},
          "output_type": "execute_result"
        }
      ],
      "source": [
        "images_path_train"
      ]
    },
    {
      "cell_type": "code",
      "execution_count": null,
      "metadata": {
        "id": "cNZJSlaoCLUx"
      },
      "outputs": [],
      "source": [
        "!cp /content/gdrive/MyDrive/medical_image_processing/fundal_image/datasets/chase_db/split_1/training/images/*.* {images_path_train}\n",
        "!cp /content/gdrive/MyDrive/medical_image_processing/fundal_image/datasets/chase_db/split_1//training/groundtruth1/*.* {gt_path_train}"
      ]
    },
    {
      "cell_type": "code",
      "execution_count": null,
      "metadata": {
        "id": "mJ_FsHnH_9Lh"
      },
      "outputs": [],
      "source": [
        "!cp /content/gdrive/MyDrive/medical_image_processing/fundal_image/datasets/chase_db/split_1/test/images/*.* {images_path_test}\n",
        "!cp /content/gdrive/MyDrive/medical_image_processing/fundal_image/datasets/chase_db/split_1/test/groundtruth1/*.* {gt_path_test}"
      ]
    },
    {
      "cell_type": "code",
      "execution_count": null,
      "metadata": {
        "colab": {
          "base_uri": "https://localhost:8080/"
        },
        "id": "ZZT5_8bp-rLQ",
        "outputId": "be9f8fbb-cd22-4529-f785-cb2b449bc80d"
      },
      "outputs": [
        {
          "name": "stdout",
          "output_type": "stream",
          "text": [
            "Image_01L.jpg  Image_03R.jpg  Image_06L.jpg  Image_08R.jpg  Image_13R.jpg\n",
            "Image_01R.jpg  Image_04L.jpg  Image_06R.jpg  Image_09L.jpg  Image_14L.jpg\n",
            "Image_02L.jpg  Image_04R.jpg  Image_07L.jpg  Image_09R.jpg  Image_14R.jpg\n",
            "Image_02R.jpg  Image_05L.jpg  Image_07R.jpg  Image_10L.jpg\n",
            "Image_03L.jpg  Image_05R.jpg  Image_08L.jpg  Image_10R.jpg\n"
          ]
        }
      ],
      "source": [
        "!ls /content/gdrive/MyDrive/medical_image_processing/fundal_image/datasets//chase_db/split_1/training/images"
      ]
    },
    {
      "cell_type": "code",
      "execution_count": null,
      "metadata": {
        "id": "FkGqIQ7m68Jc"
      },
      "outputs": [],
      "source": [
        "# images_files, gt_files = get_filenames_sorted(images_path, gt_path)\n",
        "# print(len(images_files), len(gt_files))\n",
        "# # train_test_split\n",
        "# from sklearn.model_selection import train_test_split\n",
        "# label = [_xtrain.rsplit(\"/\", 1)[1].rsplit(\".\", 1)[0].rsplit(\"_\", 1)[1] for _xtrain in images_files] \n",
        "# xtrain, xtest, ytrain, ytest = train_test_split(images_files, gt_files, stratify=label,  test_size=test_percentage, random_state=seed)"
      ]
    },
    {
      "cell_type": "code",
      "execution_count": null,
      "metadata": {
        "id": "MNEcaT4MGrDE"
      },
      "outputs": [],
      "source": [
        "xtrain, ytrain = get_filenames_sorted(images_path_train, gt_path_train)\n",
        "xtest, ytest = get_filenames_sorted(images_path_test, gt_path_test)"
      ]
    },
    {
      "cell_type": "code",
      "execution_count": null,
      "metadata": {
        "colab": {
          "base_uri": "https://localhost:8080/"
        },
        "id": "kz1zp1UAd188",
        "outputId": "2ec1b99b-1cf1-47b9-b94a-be6f7a3397df"
      },
      "outputs": [
        {
          "name": "stdout",
          "output_type": "stream",
          "text": [
            "23 5\n"
          ]
        }
      ],
      "source": [
        "print(len(xtrain), len(xtest))\n",
        "# print(label)"
      ]
    },
    {
      "cell_type": "code",
      "execution_count": null,
      "metadata": {
        "colab": {
          "base_uri": "https://localhost:8080/"
        },
        "id": "-7XwsJsOOsqE",
        "outputId": "0210d453-19e8-4150-efd9-2d7aa77ccef8"
      },
      "outputs": [
        {
          "data": {
            "text/plain": [
              "['/content/datasets/chase_db_256_256_dice_bce_0_4__0_4_1//training/images/Image_01L.jpg',\n",
              " '/content/datasets/chase_db_256_256_dice_bce_0_4__0_4_1//training/images/Image_01R.jpg',\n",
              " '/content/datasets/chase_db_256_256_dice_bce_0_4__0_4_1//training/images/Image_02L.jpg',\n",
              " '/content/datasets/chase_db_256_256_dice_bce_0_4__0_4_1//training/images/Image_02R.jpg',\n",
              " '/content/datasets/chase_db_256_256_dice_bce_0_4__0_4_1//training/images/Image_03L.jpg']"
            ]
          },
          "execution_count": 15,
          "metadata": {},
          "output_type": "execute_result"
        }
      ],
      "source": [
        "xtrain[:5]"
      ]
    },
    {
      "cell_type": "code",
      "execution_count": null,
      "metadata": {
        "colab": {
          "base_uri": "https://localhost:8080/"
        },
        "id": "Ybo3_b3GQT5c",
        "outputId": "f175b8d1-3746-46c1-bdbb-912fca9c3dc0"
      },
      "outputs": [
        {
          "name": "stdout",
          "output_type": "stream",
          "text": [
            "23 5\n"
          ]
        },
        {
          "data": {
            "text/plain": [
              "['/content/datasets/chase_db_256_256_dice_bce_0_4__0_4_1//training/1st_manual/Image_01L_1stHO.png',\n",
              " '/content/datasets/chase_db_256_256_dice_bce_0_4__0_4_1//training/1st_manual/Image_01R_1stHO.png',\n",
              " '/content/datasets/chase_db_256_256_dice_bce_0_4__0_4_1//training/1st_manual/Image_02L_1stHO.png',\n",
              " '/content/datasets/chase_db_256_256_dice_bce_0_4__0_4_1//training/1st_manual/Image_02R_1stHO.png',\n",
              " '/content/datasets/chase_db_256_256_dice_bce_0_4__0_4_1//training/1st_manual/Image_03L_1stHO.png']"
            ]
          },
          "execution_count": 16,
          "metadata": {},
          "output_type": "execute_result"
        }
      ],
      "source": [
        "print(len(ytrain), len(ytest))\n",
        "ytrain[:5]"
      ]
    },
    {
      "cell_type": "code",
      "execution_count": null,
      "metadata": {
        "colab": {
          "base_uri": "https://localhost:8080/"
        },
        "id": "vNdC08n-k_iJ",
        "outputId": "6d0f860b-8f0e-4e75-d405-a05c6152a82c"
      },
      "outputs": [
        {
          "data": {
            "text/plain": [
              "['/content/datasets/chase_db_256_256_dice_bce_0_4__0_4_1//test/1st_manual/Image_11L_1stHO.png',\n",
              " '/content/datasets/chase_db_256_256_dice_bce_0_4__0_4_1//test/1st_manual/Image_11R_1stHO.png',\n",
              " '/content/datasets/chase_db_256_256_dice_bce_0_4__0_4_1//test/1st_manual/Image_12L_1stHO.png',\n",
              " '/content/datasets/chase_db_256_256_dice_bce_0_4__0_4_1//test/1st_manual/Image_12R_1stHO.png',\n",
              " '/content/datasets/chase_db_256_256_dice_bce_0_4__0_4_1//test/1st_manual/Image_13L_1stHO.png']"
            ]
          },
          "execution_count": 17,
          "metadata": {},
          "output_type": "execute_result"
        }
      ],
      "source": [
        "ytest[:5]"
      ]
    },
    {
      "cell_type": "code",
      "execution_count": null,
      "metadata": {
        "id": "U0r-aJAjXNIU"
      },
      "outputs": [],
      "source": [
        "from tqdm import tqdm\n",
        "import pandas as pd"
      ]
    },
    {
      "cell_type": "code",
      "execution_count": null,
      "metadata": {
        "id": "iiMeoX5dop2D"
      },
      "outputs": [],
      "source": [
        "from sklearn.feature_extraction import image\n",
        "import numpy as np\n",
        "from PIL import Image\n",
        "from tqdm import tqdm\n",
        "import pandas as pd\n",
        "import cv2\n",
        "\n",
        "from fundal_image.utils import  create_dir\n",
        "from utils import get_filenames_sorted\n",
        "\n",
        "def generate_patches_images_only(image_files,\n",
        "                                 save_path_image,\n",
        "                                 max_patch=30,\n",
        "                                 dataset_name=\"\",\n",
        "                                 patch_size=(512, 512),\n",
        "                                 stride=None,\n",
        "                                 padding=\"zeros\",\n",
        "                                 exclude_boundary=True,\n",
        "                                 zero_padding_size=(0, 0),\n",
        "                                 gt_files=None,\n",
        "                                 save_path_gt=None\n",
        "                                 ):\n",
        "    \n",
        "    def patches_with_stride(image_filename, im, _patch_size, _stride, gt_name=None, gt=None):\n",
        "        patches = []\n",
        "        gt_patches = []\n",
        "        # print(\"Image size\", im.shape)\n",
        "        metadata_list = []\n",
        "        columns = [\"image_filename\", \"row\", \"col\", \"patch_height\", \"patch_width\", \"stride\", \"num_fg_pixels\"]\n",
        "        if padding == \"zeros\":\n",
        "            num_zero_padding_height = im.shape[0] % patch_size[0]\n",
        "            num_zero_padding_width = im.shape[1] % patch_size[1]\n",
        "\n",
        "            if num_zero_padding_height > 0:\n",
        "                num_zero_padding_height = _patch_size[0] - num_zero_padding_height\n",
        "\n",
        "            if num_zero_padding_width > 0:\n",
        "                num_zero_padding_width = _patch_size[1] - num_zero_padding_width\n",
        "\n",
        "            height_odd = 0 if (num_zero_padding_height % 2) == 0 else 1\n",
        "            width_odd = 0 if (num_zero_padding_width % 2) == 0 else 1\n",
        "        else:\n",
        "            raise Exception(f\"Value for argument padding is not mentioned\")\n",
        "\n",
        "        # print(f\"Image shape {im.shape}. Patch size {_patch_size}.  Num Zero padding rows {num_zero_padding_height}. Num zero padding cols {num_zero_padding_width}\")\n",
        "        im = np.pad(im, ((num_zero_padding_height // 2, num_zero_padding_height // 2 + height_odd),\n",
        "                                (num_zero_padding_width // 2, num_zero_padding_width // 2 + width_odd),\n",
        "                                (0, 0)\n",
        "                                )\n",
        "                           )\n",
        "        if gt is not None:\n",
        "            if len(gt.shape) == 3:\n",
        "                gt = np.pad(gt, ((num_zero_padding_height // 2, num_zero_padding_height // 2 + height_odd),\n",
        "                                 (num_zero_padding_width // 2, num_zero_padding_width // 2 + width_odd),\n",
        "                                 (0, 0)\n",
        "                                 )\n",
        "                            )\n",
        "            else:\n",
        "                gt = np.pad(gt, ((num_zero_padding_height // 2, num_zero_padding_height // 2 + height_odd),\n",
        "                                 (num_zero_padding_width // 2, num_zero_padding_width // 2 + width_odd)\n",
        "                                 )\n",
        "                            )\n",
        "\n",
        "        im_gray = cv2.cvtColor(im, cv2.COLOR_BGR2GRAY)\n",
        "        # print(f\"image shape after padding {im.shape}\")\n",
        "        for row in range(0, im.shape[0], _stride):\n",
        "            for col in range(0, im.shape[1], _stride):\n",
        "                if row + _patch_size[0] >= im.shape[0]:\n",
        "                    row = im.shape[0] - _patch_size[0]\n",
        "                if col + _patch_size[1] >= im.shape[1]:\n",
        "                    col = im.shape[1] - _patch_size[1]\n",
        "                image_patch = im[row:row + _patch_size[0], col:col + _patch_size[1]]\n",
        "                num_fg_pixels = np.sum(im_gray[row:row + _patch_size[0], col:col + _patch_size[1]] > 0)\n",
        "                if gt is not None:\n",
        "                    gt_patch = gt[row:row + _patch_size[0], col:col + _patch_size[1]]\n",
        "                if num_fg_pixels > 0:\n",
        "                    patches.append(image_patch)\n",
        "                    metadata_list.append([image_filename, row, col, _patch_size[0], _patch_size[1], _stride, num_fg_pixels])\n",
        "                    if gt is not None:\n",
        "                        gt_patches.append(gt_patch)\n",
        "\n",
        "\n",
        "        metadata_df = pd.DataFrame(metadata_list, columns=columns )\n",
        "        patches_np = np.asarray(patches)\n",
        "        if gt is not None:\n",
        "            gt_patches_np = np.asarray(gt_patches)\n",
        "        else:\n",
        "            gt_patches_np = None\n",
        "\n",
        "        return patches_np, metadata_df, gt_patches_np\n",
        "\n",
        "    num_images = len(image_files)\n",
        "    print(f\"Generating patches for {num_images} images\")\n",
        "    metadata_df = None\n",
        "    create_dir(save_path_image)\n",
        "    im_patches_dict = dict()\n",
        "    gt_patches_dict = dict()\n",
        "    for idx, image_filename in tqdm(enumerate(image_files), total=len(image_files)):\n",
        "        image_filename = image_filename.replace(\"\\\\\", \"/\")\n",
        "        # print(\"Image file\", image_filename)\n",
        "        name = image_filename.rsplit(\"/\", 1)[1].rsplit(\".\", 1)[0]\n",
        "        # image1 = Image.open(x)\n",
        "        # image_array = np.asarray(image1)\n",
        "        image_array = cv2.imread(image_filename)\n",
        "\n",
        "        if gt_files is not None and len(gt_files) > 0:\n",
        "            gt_filename = gt_files[idx]\n",
        "            gt_filename = gt_filename.replace(\"\\\\\", \"/\")\n",
        "            # print(\"Image file\", image_filename)\n",
        "            gt_name = gt_filename.rsplit(\"/\", 1)[1].rsplit(\".\", 1)[0]\n",
        "\n",
        "\n",
        "            gt = cv2.imread(gt_filename)\n",
        "            # gt = np.asarray(Image.open(gt_filename))\n",
        "            # print(gt.dtype)\n",
        "            if len(gt.shape) == 3:\n",
        "                gt = cv2.cvtColor(gt, cv2.COLOR_BGR2GRAY)\n",
        "\n",
        "        if not exclude_boundary:\n",
        "            # add zero padding\n",
        "            image_array = np.pad(image_array, zero_padding_size)\n",
        "            gt = np.pad(gt, zero_padding_size)\n",
        "\n",
        "        if stride is None:\n",
        "            image_patches = image.extract_patches_2d(image_array, patch_size, max_patches=max_patch, random_state=42)\n",
        "        else:\n",
        "            ret_value = patches_with_stride(image_filename, image_array, patch_size, stride, gt_name, gt)\n",
        "            if ret_value is None :\n",
        "                raise Exception(f\"Could not create patches for {image_filename}\")\n",
        "            else:\n",
        "                image_patches, _metadata_df, gt_patches = ret_value[0], ret_value[1], ret_value[2]\n",
        "            if metadata_df is not None:\n",
        "                metadata_df = metadata_df.append(_metadata_df)\n",
        "            else:\n",
        "                metadata_df = _metadata_df\n",
        "        im_patches_dict[name] = image_patches\n",
        "        gt_patches_dict[name] = gt_patches\n",
        "\n",
        "        # print(gt_patches.dtype)\n",
        "\n",
        "\n",
        "        if save_path_image is not None and len(save_path_image) > 0:\n",
        "            count = 0\n",
        "            for i in range(len(image_patches)):\n",
        "                # data = Image.fromarray(image_patches[i])\n",
        "                # print(save_path_image, dataset_name, name)\n",
        "                image_path_file = f\"{save_path_image}/{dataset_name}_{name}_{count}.png\"\n",
        "                # print(f\"Saving patches to {image_path_file}\")\n",
        "                cv2.imwrite(image_path_file, image_patches[i])\n",
        "\n",
        "                if gt_patches is not None and save_path_gt is not None:\n",
        "                    gt_path_file = f\"{save_path_gt}/{dataset_name}_{name}_{count}.png\"\n",
        "                    # print(gt_path_file)\n",
        "                    # print(type(gt_patches))\n",
        "                    # print(gt_patches[i].shape)\n",
        "                    # print(gt_patches[i].dtype)\n",
        "                    # print(np.min(gt_patches[i]), np.max(gt_patches[i]))\n",
        "                    cv2.imwrite(gt_path_file, gt_patches[i])\n",
        "                count += 1\n",
        "\n",
        "    return im_patches_dict, metadata_df, gt_patches_dict"
      ]
    },
    {
      "cell_type": "code",
      "execution_count": null,
      "metadata": {
        "colab": {
          "base_uri": "https://localhost:8080/"
        },
        "id": "n8qZpZY_CNP0",
        "outputId": "8fec5395-c940-442c-e2bb-643bfa2852d4"
      },
      "outputs": [
        {
          "name": "stdout",
          "output_type": "stream",
          "text": [
            "Generating patches for 23 images\n"
          ]
        },
        {
          "name": "stderr",
          "output_type": "stream",
          "text": [
            "100%|██████████| 23/23 [00:01<00:00, 14.97it/s]\n"
          ]
        }
      ],
      "source": [
        "num_pixels_to_add = [0, 0]\n",
        "if (image_sizes[dataset_name][0] % patch_size[0]) > 0:\n",
        "    num_pixels_to_add[0] = ((image_sizes[\"chase_db\"][0] // patch_size[0]) + 1) * patch_size[0]\n",
        "    num_pixels_to_add[1] = ((image_sizes[\"chase_db\"][1] // patch_size[1]) + 1) * patch_size[1]\n",
        "\n",
        "split_name = \"split_2\"\n",
        "data_path = root_path\n",
        "splits =[\"train\",\"test\"]\n",
        "\n",
        "\n",
        "split = \"train\"\n",
        "#for split in splits:\n",
        "image_patches_path = f\"{data_path}/{split_name}/{split}/image/\"\n",
        "create_dir(image_patches_path)\n",
        "gt_patches_path = f\"{data_path}/{split_name}/{split}/mask/\"\n",
        "create_dir(gt_patches_path)\n",
        "im_patches_dict_train, metadata_train_df, gt_patches_dict_train = generate_patches_images_only(xtrain,\n",
        "                                                                image_patches_path,\n",
        "                                                                patch_size=patch_size,\n",
        "                                                                stride=stride,\n",
        "                                                                zero_padding_size=num_pixels_to_add,\n",
        "                                                                gt_files=ytrain,\n",
        "                                                                save_path_gt=gt_patches_path)\n",
        "metadata_train_df.to_csv(f\"{data_path}/{split_name}/image_patches_{stride}_{stride}_{split}.csv\", index=False)\n",
        "\n"
      ]
    },
    {
      "cell_type": "code",
      "execution_count": null,
      "metadata": {
        "colab": {
          "base_uri": "https://localhost:8080/",
          "height": 35
        },
        "id": "CHmd8jN3k3Rb",
        "outputId": "d93378bf-422f-42d0-fcb9-3b2ad731428e"
      },
      "outputs": [
        {
          "data": {
            "application/vnd.google.colaboratory.intrinsic+json": {
              "type": "string"
            },
            "text/plain": [
              "'/content/datasets/chase_db_256_256_dice_bce_0_4__0_4_1//split_2/train/mask/'"
            ]
          },
          "execution_count": 21,
          "metadata": {},
          "output_type": "execute_result"
        }
      ],
      "source": [
        "gt_patches_path"
      ]
    },
    {
      "cell_type": "code",
      "execution_count": null,
      "metadata": {
        "colab": {
          "base_uri": "https://localhost:8080/"
        },
        "id": "T1Bd3CHcow_C",
        "outputId": "b887e8d5-3965-434c-f8ab-9bcac4d4debc"
      },
      "outputs": [
        {
          "name": "stdout",
          "output_type": "stream",
          "text": [
            "Generating patches for 5 images\n"
          ]
        },
        {
          "name": "stderr",
          "output_type": "stream",
          "text": [
            "100%|██████████| 5/5 [00:00<00:00, 15.65it/s]\n"
          ]
        }
      ],
      "source": [
        "split = \"test\"\n",
        "#for split in splits:\n",
        "image_patches_path = f\"{data_path}/{split_name}/{split}/image/\"\n",
        "create_dir(image_patches_path)\n",
        "gt_patches_path = f\"{data_path}/{split_name}/{split}/mask/\"\n",
        "create_dir(gt_patches_path)\n",
        "im_patches_dict_test, metadata_test_df, gt_patches_dict_test = generate_patches_images_only(xtest,\n",
        "                                                                image_patches_path,\n",
        "                                                                patch_size=patch_size,\n",
        "                                                                stride=stride,\n",
        "                                                                zero_padding_size=num_pixels_to_add,\n",
        "                                                                gt_files=ytest,\n",
        "                                                                save_path_gt=gt_patches_path)\n",
        "metadata_test_df.to_csv(f\"{data_path}/{split_name}/image_patches_{patch_height}_{stride}_{split}.csv\", index=False)\n"
      ]
    },
    {
      "cell_type": "code",
      "execution_count": null,
      "metadata": {
        "colab": {
          "base_uri": "https://localhost:8080/"
        },
        "id": "97Y2QDV0V30I",
        "outputId": "5aa9da73-6599-4852-f727-a9a7532aac58"
      },
      "outputs": [
        {
          "data": {
            "text/plain": [
              "(80, 7)"
            ]
          },
          "execution_count": 23,
          "metadata": {},
          "output_type": "execute_result"
        }
      ],
      "source": [
        "metadata_test_df.shape"
      ]
    },
    {
      "cell_type": "code",
      "execution_count": null,
      "metadata": {
        "colab": {
          "base_uri": "https://localhost:8080/"
        },
        "id": "LwBcnfocO3Bj",
        "outputId": "8786e953-23fc-4a2f-d1f3-bf4d8e611eed"
      },
      "outputs": [
        {
          "data": {
            "text/plain": [
              "(368, 7)"
            ]
          },
          "execution_count": 24,
          "metadata": {},
          "output_type": "execute_result"
        }
      ],
      "source": [
        "metadata_train_df.shape"
      ]
    },
    {
      "cell_type": "code",
      "execution_count": null,
      "metadata": {
        "colab": {
          "base_uri": "https://localhost:8080/",
          "height": 206
        },
        "id": "IxsMtp6lLESy",
        "outputId": "a5cea334-3ee6-4eef-f0f7-e8b77cbbd5be"
      },
      "outputs": [
        {
          "data": {
            "text/html": [
              "\n",
              "  <div id=\"df-e9531666-6e29-4be3-92b9-6920b75a0b1e\">\n",
              "    <div class=\"colab-df-container\">\n",
              "      <div>\n",
              "<style scoped>\n",
              "    .dataframe tbody tr th:only-of-type {\n",
              "        vertical-align: middle;\n",
              "    }\n",
              "\n",
              "    .dataframe tbody tr th {\n",
              "        vertical-align: top;\n",
              "    }\n",
              "\n",
              "    .dataframe thead th {\n",
              "        text-align: right;\n",
              "    }\n",
              "</style>\n",
              "<table border=\"1\" class=\"dataframe\">\n",
              "  <thead>\n",
              "    <tr style=\"text-align: right;\">\n",
              "      <th></th>\n",
              "      <th>image_filename</th>\n",
              "      <th>row</th>\n",
              "      <th>col</th>\n",
              "      <th>patch_height</th>\n",
              "      <th>patch_width</th>\n",
              "      <th>stride</th>\n",
              "      <th>num_fg_pixels</th>\n",
              "    </tr>\n",
              "  </thead>\n",
              "  <tbody>\n",
              "    <tr>\n",
              "      <th>0</th>\n",
              "      <td>/content/datasets/chase_db_256_256_dice_bce_0_...</td>\n",
              "      <td>0</td>\n",
              "      <td>0</td>\n",
              "      <td>256</td>\n",
              "      <td>256</td>\n",
              "      <td>256</td>\n",
              "      <td>11316</td>\n",
              "    </tr>\n",
              "    <tr>\n",
              "      <th>1</th>\n",
              "      <td>/content/datasets/chase_db_256_256_dice_bce_0_...</td>\n",
              "      <td>0</td>\n",
              "      <td>256</td>\n",
              "      <td>256</td>\n",
              "      <td>256</td>\n",
              "      <td>256</td>\n",
              "      <td>48199</td>\n",
              "    </tr>\n",
              "    <tr>\n",
              "      <th>2</th>\n",
              "      <td>/content/datasets/chase_db_256_256_dice_bce_0_...</td>\n",
              "      <td>0</td>\n",
              "      <td>512</td>\n",
              "      <td>256</td>\n",
              "      <td>256</td>\n",
              "      <td>256</td>\n",
              "      <td>47304</td>\n",
              "    </tr>\n",
              "    <tr>\n",
              "      <th>3</th>\n",
              "      <td>/content/datasets/chase_db_256_256_dice_bce_0_...</td>\n",
              "      <td>0</td>\n",
              "      <td>768</td>\n",
              "      <td>256</td>\n",
              "      <td>256</td>\n",
              "      <td>256</td>\n",
              "      <td>9791</td>\n",
              "    </tr>\n",
              "    <tr>\n",
              "      <th>4</th>\n",
              "      <td>/content/datasets/chase_db_256_256_dice_bce_0_...</td>\n",
              "      <td>256</td>\n",
              "      <td>0</td>\n",
              "      <td>256</td>\n",
              "      <td>256</td>\n",
              "      <td>256</td>\n",
              "      <td>49120</td>\n",
              "    </tr>\n",
              "  </tbody>\n",
              "</table>\n",
              "</div>\n",
              "      <button class=\"colab-df-convert\" onclick=\"convertToInteractive('df-e9531666-6e29-4be3-92b9-6920b75a0b1e')\"\n",
              "              title=\"Convert this dataframe to an interactive table.\"\n",
              "              style=\"display:none;\">\n",
              "        \n",
              "  <svg xmlns=\"http://www.w3.org/2000/svg\" height=\"24px\"viewBox=\"0 0 24 24\"\n",
              "       width=\"24px\">\n",
              "    <path d=\"M0 0h24v24H0V0z\" fill=\"none\"/>\n",
              "    <path d=\"M18.56 5.44l.94 2.06.94-2.06 2.06-.94-2.06-.94-.94-2.06-.94 2.06-2.06.94zm-11 1L8.5 8.5l.94-2.06 2.06-.94-2.06-.94L8.5 2.5l-.94 2.06-2.06.94zm10 10l.94 2.06.94-2.06 2.06-.94-2.06-.94-.94-2.06-.94 2.06-2.06.94z\"/><path d=\"M17.41 7.96l-1.37-1.37c-.4-.4-.92-.59-1.43-.59-.52 0-1.04.2-1.43.59L10.3 9.45l-7.72 7.72c-.78.78-.78 2.05 0 2.83L4 21.41c.39.39.9.59 1.41.59.51 0 1.02-.2 1.41-.59l7.78-7.78 2.81-2.81c.8-.78.8-2.07 0-2.86zM5.41 20L4 18.59l7.72-7.72 1.47 1.35L5.41 20z\"/>\n",
              "  </svg>\n",
              "      </button>\n",
              "      \n",
              "  <style>\n",
              "    .colab-df-container {\n",
              "      display:flex;\n",
              "      flex-wrap:wrap;\n",
              "      gap: 12px;\n",
              "    }\n",
              "\n",
              "    .colab-df-convert {\n",
              "      background-color: #E8F0FE;\n",
              "      border: none;\n",
              "      border-radius: 50%;\n",
              "      cursor: pointer;\n",
              "      display: none;\n",
              "      fill: #1967D2;\n",
              "      height: 32px;\n",
              "      padding: 0 0 0 0;\n",
              "      width: 32px;\n",
              "    }\n",
              "\n",
              "    .colab-df-convert:hover {\n",
              "      background-color: #E2EBFA;\n",
              "      box-shadow: 0px 1px 2px rgba(60, 64, 67, 0.3), 0px 1px 3px 1px rgba(60, 64, 67, 0.15);\n",
              "      fill: #174EA6;\n",
              "    }\n",
              "\n",
              "    [theme=dark] .colab-df-convert {\n",
              "      background-color: #3B4455;\n",
              "      fill: #D2E3FC;\n",
              "    }\n",
              "\n",
              "    [theme=dark] .colab-df-convert:hover {\n",
              "      background-color: #434B5C;\n",
              "      box-shadow: 0px 1px 3px 1px rgba(0, 0, 0, 0.15);\n",
              "      filter: drop-shadow(0px 1px 2px rgba(0, 0, 0, 0.3));\n",
              "      fill: #FFFFFF;\n",
              "    }\n",
              "  </style>\n",
              "\n",
              "      <script>\n",
              "        const buttonEl =\n",
              "          document.querySelector('#df-e9531666-6e29-4be3-92b9-6920b75a0b1e button.colab-df-convert');\n",
              "        buttonEl.style.display =\n",
              "          google.colab.kernel.accessAllowed ? 'block' : 'none';\n",
              "\n",
              "        async function convertToInteractive(key) {\n",
              "          const element = document.querySelector('#df-e9531666-6e29-4be3-92b9-6920b75a0b1e');\n",
              "          const dataTable =\n",
              "            await google.colab.kernel.invokeFunction('convertToInteractive',\n",
              "                                                     [key], {});\n",
              "          if (!dataTable) return;\n",
              "\n",
              "          const docLinkHtml = 'Like what you see? Visit the ' +\n",
              "            '<a target=\"_blank\" href=https://colab.research.google.com/notebooks/data_table.ipynb>data table notebook</a>'\n",
              "            + ' to learn more about interactive tables.';\n",
              "          element.innerHTML = '';\n",
              "          dataTable['output_type'] = 'display_data';\n",
              "          await google.colab.output.renderOutput(dataTable, element);\n",
              "          const docLink = document.createElement('div');\n",
              "          docLink.innerHTML = docLinkHtml;\n",
              "          element.appendChild(docLink);\n",
              "        }\n",
              "      </script>\n",
              "    </div>\n",
              "  </div>\n",
              "  "
            ],
            "text/plain": [
              "                                      image_filename  row  col  patch_height  \\\n",
              "0  /content/datasets/chase_db_256_256_dice_bce_0_...    0    0           256   \n",
              "1  /content/datasets/chase_db_256_256_dice_bce_0_...    0  256           256   \n",
              "2  /content/datasets/chase_db_256_256_dice_bce_0_...    0  512           256   \n",
              "3  /content/datasets/chase_db_256_256_dice_bce_0_...    0  768           256   \n",
              "4  /content/datasets/chase_db_256_256_dice_bce_0_...  256    0           256   \n",
              "\n",
              "   patch_width  stride  num_fg_pixels  \n",
              "0          256     256          11316  \n",
              "1          256     256          48199  \n",
              "2          256     256          47304  \n",
              "3          256     256           9791  \n",
              "4          256     256          49120  "
            ]
          },
          "execution_count": 25,
          "metadata": {},
          "output_type": "execute_result"
        }
      ],
      "source": [
        "metadata_train_df.head()"
      ]
    },
    {
      "cell_type": "code",
      "execution_count": null,
      "metadata": {
        "id": "DLrslUO4gvQp"
      },
      "outputs": [],
      "source": [
        "import glob\n",
        "split = \"test\"\n",
        "image_patches_path = f\"{data_path}/{split_name}/{split}/image/\"\n",
        "\n",
        "reconstructed_original_path = f\"{data_path}/{split_name}/reconstructed/{split}/image\"\n",
        "create_dir(reconstructed_original_path)\n",
        "reconstruct_patches(im_patches_dict_test,\n",
        "                    metadata_test_df,\n",
        "                    reconstructed_original_path\n",
        "                    )\n"
      ]
    },
    {
      "cell_type": "code",
      "execution_count": null,
      "metadata": {
        "colab": {
          "base_uri": "https://localhost:8080/"
        },
        "id": "n8gpCUhvZY8m",
        "outputId": "cebac7a7-6d97-4784-a2d4-03e9a373e466"
      },
      "outputs": [
        {
          "name": "stdout",
          "output_type": "stream",
          "text": [
            "['Image_11L', 'Image_11R', 'Image_12L', 'Image_12R', 'Image_13L']\n"
          ]
        }
      ],
      "source": [
        "print(list(gt_patches_dict_test.keys()))"
      ]
    },
    {
      "cell_type": "code",
      "execution_count": null,
      "metadata": {
        "colab": {
          "base_uri": "https://localhost:8080/"
        },
        "id": "tNONp29kZm8q",
        "outputId": "97786e7e-950f-4d7a-df60-08022bcc7636"
      },
      "outputs": [
        {
          "data": {
            "text/plain": [
              "numpy.ndarray"
            ]
          },
          "execution_count": 28,
          "metadata": {},
          "output_type": "execute_result"
        }
      ],
      "source": [
        "type(gt_patches_dict_test[\"Image_11L\"])"
      ]
    },
    {
      "cell_type": "code",
      "execution_count": null,
      "metadata": {
        "id": "_TkWlhCKF7o5"
      },
      "outputs": [],
      "source": [
        "reconstructed_gt_path = f\"{data_path}/{split_name}/reconstructed/{split}/mask\"\n",
        "\n",
        "create_dir(reconstructed_gt_path)\n",
        "reconstruct_patches(gt_patches_dict_test,\n",
        "                    metadata_test_df,\n",
        "                    reconstructed_gt_path,\n",
        "                    )\n"
      ]
    },
    {
      "cell_type": "code",
      "execution_count": null,
      "metadata": {
        "colab": {
          "base_uri": "https://localhost:8080/"
        },
        "id": "Y5NJeG-731yQ",
        "outputId": "ffdcdef5-e94f-4941-d9fa-0d70268d9a46"
      },
      "outputs": [
        {
          "name": "stdout",
          "output_type": "stream",
          "text": [
            "['Image_11L', 'Image_11R', 'Image_12L', 'Image_12R', 'Image_13L']\n"
          ]
        }
      ],
      "source": [
        "print([k for k in im_patches_dict_test.keys()])"
      ]
    },
    {
      "cell_type": "markdown",
      "metadata": {
        "id": "_WctlpFt6hx4"
      },
      "source": [
        "### Construct the Model:"
      ]
    },
    {
      "cell_type": "code",
      "execution_count": null,
      "metadata": {
        "colab": {
          "base_uri": "https://localhost:8080/"
        },
        "id": "epeNiZGQ5gSW",
        "outputId": "16d4880e-144f-48d7-bedd-b2805f52f390"
      },
      "outputs": [
        {
          "name": "stdout",
          "output_type": "stream",
          "text": [
            "Model: \"UNET\"\n",
            "__________________________________________________________________________________________________\n",
            " Layer (type)                   Output Shape         Param #     Connected to                     \n",
            "==================================================================================================\n",
            " input_1 (InputLayer)           [(None, 512, 512, 3  0           []                               \n",
            "                                )]                                                                \n",
            "                                                                                                  \n",
            " conv2d (Conv2D)                (None, 512, 512, 64  1792        ['input_1[0][0]']                \n",
            "                                )                                                                 \n",
            "                                                                                                  \n",
            " batch_normalization (BatchNorm  (None, 512, 512, 64  256        ['conv2d[0][0]']                 \n",
            " alization)                     )                                                                 \n",
            "                                                                                                  \n",
            " activation (Activation)        (None, 512, 512, 64  0           ['batch_normalization[0][0]']    \n",
            "                                )                                                                 \n",
            "                                                                                                  \n",
            " conv2d_1 (Conv2D)              (None, 512, 512, 64  36928       ['activation[0][0]']             \n",
            "                                )                                                                 \n",
            "                                                                                                  \n",
            " batch_normalization_1 (BatchNo  (None, 512, 512, 64  256        ['conv2d_1[0][0]']               \n",
            " rmalization)                   )                                                                 \n",
            "                                                                                                  \n",
            " activation_1 (Activation)      (None, 512, 512, 64  0           ['batch_normalization_1[0][0]']  \n",
            "                                )                                                                 \n",
            "                                                                                                  \n",
            " max_pooling2d (MaxPooling2D)   (None, 256, 256, 64  0           ['activation_1[0][0]']           \n",
            "                                )                                                                 \n",
            "                                                                                                  \n",
            " conv2d_2 (Conv2D)              (None, 256, 256, 12  73856       ['max_pooling2d[0][0]']          \n",
            "                                8)                                                                \n",
            "                                                                                                  \n",
            " batch_normalization_2 (BatchNo  (None, 256, 256, 12  512        ['conv2d_2[0][0]']               \n",
            " rmalization)                   8)                                                                \n",
            "                                                                                                  \n",
            " activation_2 (Activation)      (None, 256, 256, 12  0           ['batch_normalization_2[0][0]']  \n",
            "                                8)                                                                \n",
            "                                                                                                  \n",
            " conv2d_3 (Conv2D)              (None, 256, 256, 12  147584      ['activation_2[0][0]']           \n",
            "                                8)                                                                \n",
            "                                                                                                  \n",
            " batch_normalization_3 (BatchNo  (None, 256, 256, 12  512        ['conv2d_3[0][0]']               \n",
            " rmalization)                   8)                                                                \n",
            "                                                                                                  \n",
            " activation_3 (Activation)      (None, 256, 256, 12  0           ['batch_normalization_3[0][0]']  \n",
            "                                8)                                                                \n",
            "                                                                                                  \n",
            " max_pooling2d_1 (MaxPooling2D)  (None, 128, 128, 12  0          ['activation_3[0][0]']           \n",
            "                                8)                                                                \n",
            "                                                                                                  \n",
            " conv2d_4 (Conv2D)              (None, 128, 128, 25  295168      ['max_pooling2d_1[0][0]']        \n",
            "                                6)                                                                \n",
            "                                                                                                  \n",
            " batch_normalization_4 (BatchNo  (None, 128, 128, 25  1024       ['conv2d_4[0][0]']               \n",
            " rmalization)                   6)                                                                \n",
            "                                                                                                  \n",
            " activation_4 (Activation)      (None, 128, 128, 25  0           ['batch_normalization_4[0][0]']  \n",
            "                                6)                                                                \n",
            "                                                                                                  \n",
            " conv2d_5 (Conv2D)              (None, 128, 128, 25  590080      ['activation_4[0][0]']           \n",
            "                                6)                                                                \n",
            "                                                                                                  \n",
            " batch_normalization_5 (BatchNo  (None, 128, 128, 25  1024       ['conv2d_5[0][0]']               \n",
            " rmalization)                   6)                                                                \n",
            "                                                                                                  \n",
            " activation_5 (Activation)      (None, 128, 128, 25  0           ['batch_normalization_5[0][0]']  \n",
            "                                6)                                                                \n",
            "                                                                                                  \n",
            " max_pooling2d_2 (MaxPooling2D)  (None, 64, 64, 256)  0          ['activation_5[0][0]']           \n",
            "                                                                                                  \n",
            " conv2d_6 (Conv2D)              (None, 64, 64, 512)  1180160     ['max_pooling2d_2[0][0]']        \n",
            "                                                                                                  \n",
            " batch_normalization_6 (BatchNo  (None, 64, 64, 512)  2048       ['conv2d_6[0][0]']               \n",
            " rmalization)                                                                                     \n",
            "                                                                                                  \n",
            " activation_6 (Activation)      (None, 64, 64, 512)  0           ['batch_normalization_6[0][0]']  \n",
            "                                                                                                  \n",
            " conv2d_7 (Conv2D)              (None, 64, 64, 512)  2359808     ['activation_6[0][0]']           \n",
            "                                                                                                  \n",
            " batch_normalization_7 (BatchNo  (None, 64, 64, 512)  2048       ['conv2d_7[0][0]']               \n",
            " rmalization)                                                                                     \n",
            "                                                                                                  \n",
            " activation_7 (Activation)      (None, 64, 64, 512)  0           ['batch_normalization_7[0][0]']  \n",
            "                                                                                                  \n",
            " max_pooling2d_3 (MaxPooling2D)  (None, 32, 32, 512)  0          ['activation_7[0][0]']           \n",
            "                                                                                                  \n",
            " conv2d_8 (Conv2D)              (None, 32, 32, 1024  4719616     ['max_pooling2d_3[0][0]']        \n",
            "                                )                                                                 \n",
            "                                                                                                  \n",
            " batch_normalization_8 (BatchNo  (None, 32, 32, 1024  4096       ['conv2d_8[0][0]']               \n",
            " rmalization)                   )                                                                 \n",
            "                                                                                                  \n",
            " activation_8 (Activation)      (None, 32, 32, 1024  0           ['batch_normalization_8[0][0]']  \n",
            "                                )                                                                 \n",
            "                                                                                                  \n",
            " conv2d_9 (Conv2D)              (None, 32, 32, 1024  9438208     ['activation_8[0][0]']           \n",
            "                                )                                                                 \n",
            "                                                                                                  \n",
            " batch_normalization_9 (BatchNo  (None, 32, 32, 1024  4096       ['conv2d_9[0][0]']               \n",
            " rmalization)                   )                                                                 \n",
            "                                                                                                  \n",
            " activation_9 (Activation)      (None, 32, 32, 1024  0           ['batch_normalization_9[0][0]']  \n",
            "                                )                                                                 \n",
            "                                                                                                  \n",
            " conv2d_transpose (Conv2DTransp  (None, 64, 64, 512)  2097664    ['activation_9[0][0]']           \n",
            " ose)                                                                                             \n",
            "                                                                                                  \n",
            " concatenate (Concatenate)      (None, 64, 64, 1024  0           ['conv2d_transpose[0][0]',       \n",
            "                                )                                 'activation_7[0][0]']           \n",
            "                                                                                                  \n",
            " conv2d_10 (Conv2D)             (None, 64, 64, 512)  4719104     ['concatenate[0][0]']            \n",
            "                                                                                                  \n",
            " batch_normalization_10 (BatchN  (None, 64, 64, 512)  2048       ['conv2d_10[0][0]']              \n",
            " ormalization)                                                                                    \n",
            "                                                                                                  \n",
            " activation_10 (Activation)     (None, 64, 64, 512)  0           ['batch_normalization_10[0][0]'] \n",
            "                                                                                                  \n",
            " conv2d_11 (Conv2D)             (None, 64, 64, 512)  2359808     ['activation_10[0][0]']          \n",
            "                                                                                                  \n",
            " batch_normalization_11 (BatchN  (None, 64, 64, 512)  2048       ['conv2d_11[0][0]']              \n",
            " ormalization)                                                                                    \n",
            "                                                                                                  \n",
            " activation_11 (Activation)     (None, 64, 64, 512)  0           ['batch_normalization_11[0][0]'] \n",
            "                                                                                                  \n",
            " conv2d_transpose_1 (Conv2DTran  (None, 128, 128, 25  524544     ['activation_11[0][0]']          \n",
            " spose)                         6)                                                                \n",
            "                                                                                                  \n",
            " concatenate_1 (Concatenate)    (None, 128, 128, 51  0           ['conv2d_transpose_1[0][0]',     \n",
            "                                2)                                'activation_5[0][0]']           \n",
            "                                                                                                  \n",
            " conv2d_12 (Conv2D)             (None, 128, 128, 25  1179904     ['concatenate_1[0][0]']          \n",
            "                                6)                                                                \n",
            "                                                                                                  \n",
            " batch_normalization_12 (BatchN  (None, 128, 128, 25  1024       ['conv2d_12[0][0]']              \n",
            " ormalization)                  6)                                                                \n",
            "                                                                                                  \n",
            " activation_12 (Activation)     (None, 128, 128, 25  0           ['batch_normalization_12[0][0]'] \n",
            "                                6)                                                                \n",
            "                                                                                                  \n",
            " conv2d_13 (Conv2D)             (None, 128, 128, 25  590080      ['activation_12[0][0]']          \n",
            "                                6)                                                                \n",
            "                                                                                                  \n",
            " batch_normalization_13 (BatchN  (None, 128, 128, 25  1024       ['conv2d_13[0][0]']              \n",
            " ormalization)                  6)                                                                \n",
            "                                                                                                  \n",
            " activation_13 (Activation)     (None, 128, 128, 25  0           ['batch_normalization_13[0][0]'] \n",
            "                                6)                                                                \n",
            "                                                                                                  \n",
            " conv2d_transpose_2 (Conv2DTran  (None, 256, 256, 12  131200     ['activation_13[0][0]']          \n",
            " spose)                         8)                                                                \n",
            "                                                                                                  \n",
            " concatenate_2 (Concatenate)    (None, 256, 256, 25  0           ['conv2d_transpose_2[0][0]',     \n",
            "                                6)                                'activation_3[0][0]']           \n",
            "                                                                                                  \n",
            " conv2d_14 (Conv2D)             (None, 256, 256, 12  295040      ['concatenate_2[0][0]']          \n",
            "                                8)                                                                \n",
            "                                                                                                  \n",
            " batch_normalization_14 (BatchN  (None, 256, 256, 12  512        ['conv2d_14[0][0]']              \n",
            " ormalization)                  8)                                                                \n",
            "                                                                                                  \n",
            " activation_14 (Activation)     (None, 256, 256, 12  0           ['batch_normalization_14[0][0]'] \n",
            "                                8)                                                                \n",
            "                                                                                                  \n",
            " conv2d_15 (Conv2D)             (None, 256, 256, 12  147584      ['activation_14[0][0]']          \n",
            "                                8)                                                                \n",
            "                                                                                                  \n",
            " batch_normalization_15 (BatchN  (None, 256, 256, 12  512        ['conv2d_15[0][0]']              \n",
            " ormalization)                  8)                                                                \n",
            "                                                                                                  \n",
            " activation_15 (Activation)     (None, 256, 256, 12  0           ['batch_normalization_15[0][0]'] \n",
            "                                8)                                                                \n",
            "                                                                                                  \n",
            " conv2d_transpose_3 (Conv2DTran  (None, 512, 512, 64  32832      ['activation_15[0][0]']          \n",
            " spose)                         )                                                                 \n",
            "                                                                                                  \n",
            " concatenate_3 (Concatenate)    (None, 512, 512, 12  0           ['conv2d_transpose_3[0][0]',     \n",
            "                                8)                                'activation_1[0][0]']           \n",
            "                                                                                                  \n",
            " conv2d_16 (Conv2D)             (None, 512, 512, 64  73792       ['concatenate_3[0][0]']          \n",
            "                                )                                                                 \n",
            "                                                                                                  \n",
            " batch_normalization_16 (BatchN  (None, 512, 512, 64  256        ['conv2d_16[0][0]']              \n",
            " ormalization)                  )                                                                 \n",
            "                                                                                                  \n",
            " activation_16 (Activation)     (None, 512, 512, 64  0           ['batch_normalization_16[0][0]'] \n",
            "                                )                                                                 \n",
            "                                                                                                  \n",
            " conv2d_17 (Conv2D)             (None, 512, 512, 64  36928       ['activation_16[0][0]']          \n",
            "                                )                                                                 \n",
            "                                                                                                  \n",
            " batch_normalization_17 (BatchN  (None, 512, 512, 64  256        ['conv2d_17[0][0]']              \n",
            " ormalization)                  )                                                                 \n",
            "                                                                                                  \n",
            " activation_17 (Activation)     (None, 512, 512, 64  0           ['batch_normalization_17[0][0]'] \n",
            "                                )                                                                 \n",
            "                                                                                                  \n",
            " conv2d_18 (Conv2D)             (None, 512, 512, 1)  65          ['activation_17[0][0]']          \n",
            "                                                                                                  \n",
            "==================================================================================================\n",
            "Total params: 31,055,297\n",
            "Trainable params: 31,043,521\n",
            "Non-trainable params: 11,776\n",
            "__________________________________________________________________________________________________\n"
          ]
        }
      ],
      "source": [
        "def conv_block(inputs, num_filters):\n",
        "    x = Conv2D(num_filters, 3, padding=\"same\")(inputs)\n",
        "    x = BatchNormalization()(x)\n",
        "    x = Activation(\"relu\")(x)\n",
        "\n",
        "    x = Conv2D(num_filters, 3, padding=\"same\")(x)\n",
        "    x = BatchNormalization()(x)\n",
        "    x = Activation(\"relu\")(x)\n",
        "\n",
        "    return x\n",
        "\n",
        "def encoder_block(inputs, num_filters):\n",
        "    x = conv_block(inputs, num_filters)\n",
        "    p = MaxPool2D((2, 2))(x)\n",
        "    return x, p\n",
        "\n",
        "def decoder_block(inputs, skip_features, num_filters):\n",
        "    x = Conv2DTranspose(num_filters, (2, 2), strides=2, padding=\"same\")(inputs)\n",
        "    x = Concatenate()([x, skip_features])\n",
        "    x = conv_block(x, num_filters)\n",
        "    return x\n",
        "\n",
        "def build_unet(input_shape):\n",
        "    inputs = Input(input_shape)\n",
        "\n",
        "    s1, p1 = encoder_block(inputs, 64)\n",
        "    s2, p2 = encoder_block(p1, 128)\n",
        "    s3, p3 = encoder_block(p2, 256)\n",
        "    s4, p4 = encoder_block(p3, 512)\n",
        "\n",
        "    b1 = conv_block(p4, 1024)\n",
        "\n",
        "    d1 = decoder_block(b1, s4, 512)\n",
        "    d2 = decoder_block(d1, s3, 256)\n",
        "    d3 = decoder_block(d2, s2, 128)\n",
        "    d4 = decoder_block(d3, s1, 64)\n",
        "\n",
        "    outputs = Conv2D(1, 1, padding=\"same\", activation=\"sigmoid\")(d4)\n",
        "\n",
        "    model = Model(inputs, outputs, name=\"UNET\")\n",
        "    return model\n",
        "\n",
        "input_shape = (512, 512, 3)\n",
        "model = build_unet(input_shape)\n",
        "model.summary()"
      ]
    },
    {
      "cell_type": "markdown",
      "metadata": {
        "id": "TWKUCE3_6vBv"
      },
      "source": [
        "### Adding the Metrics:"
      ]
    },
    {
      "cell_type": "code",
      "execution_count": null,
      "metadata": {
        "id": "s5HXET5Z6uZX"
      },
      "outputs": [],
      "source": [
        "def iou(y_true, y_pred):\n",
        "    def f(y_true, y_pred):\n",
        "        intersection = (y_true * y_pred).sum()\n",
        "        union = y_true.sum() + y_pred.sum() - intersection\n",
        "        x = (intersection + 1e-15) / (union + 1e-15)\n",
        "        x = x.astype(np.float32)\n",
        "        return x\n",
        "    return tf.numpy_function(f, [y_true, y_pred], tf.float32)\n",
        "\n",
        "smooth = 1e-15\n",
        "def dice_coef(y_true, y_pred):\n",
        "    y_true = tf.keras.layers.Flatten()(y_true)\n",
        "    y_pred = tf.keras.layers.Flatten()(y_pred)\n",
        "    intersection = tf.reduce_sum(y_true * y_pred)\n",
        "    return (2. * intersection + smooth) / (tf.reduce_sum(y_true) + tf.reduce_sum(y_pred) + smooth)\n",
        "\n",
        "def dice_loss(y_true, y_pred):\n",
        "    return 1.0 - dice_coef(y_true, y_pred)\n",
        "\n",
        "def DiceBCELoss(y_true, y_pred):\n",
        "    \n",
        "    inputs = tf.keras.layers.Flatten()(y_true)\n",
        "    targets = tf.keras.layers.Flatten()(y_pred)\n",
        "\n",
        "    intersection = tf.reduce_sum(inputs * targets)\n",
        "    dice_loss = 1 - (2.*intersection + smooth)/(tf.reduce_sum(y_true) + tf.reduce_sum(y_pred) + smooth)\n",
        "    BCE = tf.keras.losses.BinaryCrossentropy()\n",
        "    Dice_BCE = BCE(inputs, targets) + dice_loss\n",
        "\n",
        "    return Dice_BCE\n",
        "\n",
        "def bce(y_true, y_pred):\n",
        "    \n",
        "    inputs = tf.keras.layers.Flatten()(y_true)\n",
        "    targets = tf.keras.layers.Flatten()(y_pred)\n",
        "    BCE = tf.keras.losses.BinaryCrossentropy()\n",
        "    Dice_BCE = BCE(inputs, targets)\n",
        "\n",
        "    return Dice_BCE"
      ]
    },
    {
      "cell_type": "markdown",
      "metadata": {
        "id": "fuGIkqEH65dX"
      },
      "source": [
        "\n",
        "\n",
        "### Training the Model:"
      ]
    },
    {
      "cell_type": "code",
      "execution_count": null,
      "metadata": {
        "colab": {
          "base_uri": "https://localhost:8080/"
        },
        "id": "1FT9iAYkUaeR",
        "outputId": "8aea7158-e28d-482d-8bbc-d9adcf2f86b6"
      },
      "outputs": [
        {
          "name": "stdout",
          "output_type": "stream",
          "text": [
            "<function DiceBCELoss at 0x7fcac0181170>\n"
          ]
        }
      ],
      "source": [
        "if loss_str == \"bce\":\n",
        "    loss = bce\n",
        "elif loss_str == \"dice_bce\":\n",
        "    loss = DiceBCELoss\n",
        "elif loss_str == \"dice_loss\":\n",
        "    loss = dice_loss\n",
        "elif loss_str == \"wbce\":\n",
        "    loss = wbce\n",
        "else:\n",
        "    raise Exception(\"Invalid value for loss_str\")\n",
        "    \n",
        "print(loss)"
      ]
    },
    {
      "cell_type": "code",
      "execution_count": null,
      "metadata": {
        "id": "NNdxwX_-5udw"
      },
      "outputs": [],
      "source": [
        "H = patch_height\n",
        "W = patch_width\n",
        "\n",
        "def create_dir(path):\n",
        "    if not os.path.exists(path):\n",
        "        os.makedirs(path)\n",
        "\n",
        "def load_data(path):\n",
        "    x = sorted(glob(os.path.join(path, \"image\", \"*.png\")))\n",
        "    y = sorted(glob(os.path.join(path, \"mask\", \"*.png\")))\n",
        "    return x, y\n",
        "\n",
        "def shuffling(x, y):\n",
        "    x, y = shuffle(x, y, random_state=42)\n",
        "    return x, y\n",
        "\n",
        "def read_image(path):\n",
        "    path = path.decode()\n",
        "    x = cv2.imread(path, cv2.IMREAD_COLOR)\n",
        "    # x = cv2.resize(x, (W, H))\n",
        "    x = x/255.0\n",
        "    x = x.astype(np.float32)\n",
        "    return x\n",
        "\n",
        "def read_mask(path):\n",
        "    path = path.decode()\n",
        "    x = cv2.imread(path, cv2.IMREAD_GRAYSCALE)  ## (512, 512)\n",
        "    # x = cv2.resize(x, (W, H))\n",
        "    x = x/255.0\n",
        "    x = x.astype(np.float32)\n",
        "    x = np.expand_dims(x, axis=-1)              ## (512, 512, 1)\n",
        "    return x\n",
        "\n",
        "def tf_parse(x, y):\n",
        "    def _parse(x, y):\n",
        "        x = read_image(x)\n",
        "        y = read_mask(y)\n",
        "        return x, y\n",
        "\n",
        "    x, y = tf.numpy_function(_parse, [x, y], [tf.float32, tf.float32])\n",
        "    x.set_shape([H, W, 3])\n",
        "    y.set_shape([H, W, 1])\n",
        "    return x, y\n",
        "\n",
        "def tf_dataset(X, Y, batch_size=2):\n",
        "    dataset = tf.data.Dataset.from_tensor_slices((X, Y))\n",
        "    dataset = dataset.map(tf_parse)\n",
        "    dataset = dataset.batch(batch_size)\n",
        "    dataset = dataset.prefetch(4)\n",
        "    return dataset"
      ]
    },
    {
      "cell_type": "code",
      "execution_count": null,
      "metadata": {
        "id": "54fnwa9lJESj"
      },
      "outputs": [],
      "source": [
        "from keras.metrics import AUC"
      ]
    },
    {
      "cell_type": "code",
      "execution_count": null,
      "metadata": {
        "id": "ZKS1beyfSUHc"
      },
      "outputs": [],
      "source": [
        "model_dir = f\"{root_path}/trained_models/\""
      ]
    },
    {
      "cell_type": "code",
      "execution_count": null,
      "metadata": {
        "id": "q0GnRCID3HdL"
      },
      "outputs": [],
      "source": [
        "create_dir(model_dir)"
      ]
    },
    {
      "cell_type": "code",
      "execution_count": null,
      "metadata": {
        "id": "H4nNDNkuHTot"
      },
      "outputs": [],
      "source": [
        "!ls {model_dir}"
      ]
    },
    {
      "cell_type": "code",
      "execution_count": null,
      "metadata": {
        "colab": {
          "base_uri": "https://localhost:8080/"
        },
        "id": "nCnFXz7Xpvzi",
        "outputId": "a831c9a8-2a09-46cf-bac6-99aa7420709f"
      },
      "outputs": [
        {
          "name": "stdout",
          "output_type": "stream",
          "text": [
            "/content/datasets\n"
          ]
        }
      ],
      "source": [
        "%cd /content/datasets"
      ]
    },
    {
      "cell_type": "code",
      "execution_count": null,
      "metadata": {
        "id": "OxDh2J2zGsNE"
      },
      "outputs": [],
      "source": [
        "from glob import glob"
      ]
    },
    {
      "cell_type": "code",
      "execution_count": null,
      "metadata": {
        "colab": {
          "background_save": true,
          "base_uri": "https://localhost:8080/"
        },
        "id": "R9oxQCQo7Jnw",
        "outputId": "c0d8e850-5e67-4a6e-e075-84620a36edc9"
      },
      "outputs": [
        {
          "name": "stdout",
          "output_type": "stream",
          "text": [
            "Train: 368 - 368\n",
            "Valid: 80 - 80\n",
            "Epoch 1/50\n",
            "46/46 [==============================] - ETA: 0s - loss: 1.1720 - dice_coef: 0.2253 - iou: 0.1278 - recall: 0.6513 - precision: 0.2674 - auc: 0.8688\n",
            "Epoch 1: val_loss improved from inf to 1.57366, saving model to /content/datasets/chase_db_256_256_dice_bce_0_4__0_4_1//trained_models/model.h5\n",
            "46/46 [==============================] - 24s 183ms/step - loss: 1.1720 - dice_coef: 0.2253 - iou: 0.1278 - recall: 0.6513 - precision: 0.2674 - auc: 0.8688 - val_loss: 1.5737 - val_dice_coef: 0.1004 - val_iou: 0.0530 - val_recall: 0.0682 - val_precision: 0.0149 - val_auc: 0.3385 - lr: 1.0000e-04\n",
            "Epoch 2/50\n",
            "46/46 [==============================] - ETA: 0s - loss: 0.8382 - dice_coef: 0.3757 - iou: 0.2322 - recall: 0.7053 - precision: 0.6098 - auc: 0.9406\n",
            "Epoch 2: val_loss improved from 1.57366 to 1.47524, saving model to /content/datasets/chase_db_256_256_dice_bce_0_4__0_4_1//trained_models/model.h5\n",
            "46/46 [==============================] - 8s 172ms/step - loss: 0.8382 - dice_coef: 0.3757 - iou: 0.2322 - recall: 0.7053 - precision: 0.6098 - auc: 0.9406 - val_loss: 1.4752 - val_dice_coef: 0.0966 - val_iou: 0.0509 - val_recall: 4.3224e-05 - val_precision: 6.7100e-04 - val_auc: 0.3840 - lr: 1.0000e-04\n",
            "Epoch 3/50\n",
            "46/46 [==============================] - ETA: 0s - loss: 0.7172 - dice_coef: 0.4526 - iou: 0.2937 - recall: 0.7516 - precision: 0.6645 - auc: 0.9531\n",
            "Epoch 3: val_loss improved from 1.47524 to 1.25428, saving model to /content/datasets/chase_db_256_256_dice_bce_0_4__0_4_1//trained_models/model.h5\n",
            "46/46 [==============================] - 8s 171ms/step - loss: 0.7172 - dice_coef: 0.4526 - iou: 0.2937 - recall: 0.7516 - precision: 0.6645 - auc: 0.9531 - val_loss: 1.2543 - val_dice_coef: 0.0910 - val_iou: 0.0478 - val_recall: 0.0000e+00 - val_precision: 0.0000e+00 - val_auc: 0.4867 - lr: 1.0000e-04\n",
            "Epoch 4/50\n",
            "46/46 [==============================] - ETA: 0s - loss: 0.6373 - dice_coef: 0.5063 - iou: 0.3404 - recall: 0.7779 - precision: 0.7059 - auc: 0.9606\n",
            "Epoch 4: val_loss improved from 1.25428 to 1.17480, saving model to /content/datasets/chase_db_256_256_dice_bce_0_4__0_4_1//trained_models/model.h5\n",
            "46/46 [==============================] - 8s 171ms/step - loss: 0.6373 - dice_coef: 0.5063 - iou: 0.3404 - recall: 0.7779 - precision: 0.7059 - auc: 0.9606 - val_loss: 1.1748 - val_dice_coef: 0.0818 - val_iou: 0.0427 - val_recall: 0.0000e+00 - val_precision: 0.0000e+00 - val_auc: 0.5267 - lr: 1.0000e-04\n",
            "Epoch 5/50\n",
            "46/46 [==============================] - ETA: 0s - loss: 0.5818 - dice_coef: 0.5453 - iou: 0.3762 - recall: 0.7972 - precision: 0.7336 - auc: 0.9660\n",
            "Epoch 5: val_loss improved from 1.17480 to 1.15234, saving model to /content/datasets/chase_db_256_256_dice_bce_0_4__0_4_1//trained_models/model.h5\n",
            "46/46 [==============================] - 8s 172ms/step - loss: 0.5818 - dice_coef: 0.5453 - iou: 0.3762 - recall: 0.7972 - precision: 0.7336 - auc: 0.9660 - val_loss: 1.1523 - val_dice_coef: 0.0718 - val_iou: 0.0373 - val_recall: 0.0000e+00 - val_precision: 0.0000e+00 - val_auc: 0.5811 - lr: 1.0000e-04\n",
            "Epoch 6/50\n",
            "46/46 [==============================] - ETA: 0s - loss: 0.5395 - dice_coef: 0.5762 - iou: 0.4062 - recall: 0.8095 - precision: 0.7541 - auc: 0.9698\n",
            "Epoch 6: val_loss did not improve from 1.15234\n",
            "46/46 [==============================] - 7s 150ms/step - loss: 0.5395 - dice_coef: 0.5762 - iou: 0.4062 - recall: 0.8095 - precision: 0.7541 - auc: 0.9698 - val_loss: 1.1569 - val_dice_coef: 0.0624 - val_iou: 0.0323 - val_recall: 3.3249e-05 - val_precision: 0.0012 - val_auc: 0.6544 - lr: 1.0000e-04\n",
            "Epoch 7/50\n",
            "46/46 [==============================] - ETA: 0s - loss: 0.5031 - dice_coef: 0.6035 - iou: 0.4337 - recall: 0.8201 - precision: 0.7721 - auc: 0.9726\n",
            "Epoch 7: val_loss did not improve from 1.15234\n",
            "46/46 [==============================] - 7s 150ms/step - loss: 0.5031 - dice_coef: 0.6035 - iou: 0.4337 - recall: 0.8201 - precision: 0.7721 - auc: 0.9726 - val_loss: 1.1559 - val_dice_coef: 0.0679 - val_iou: 0.0352 - val_recall: 0.0091 - val_precision: 0.0994 - val_auc: 0.6555 - lr: 1.0000e-04\n",
            "Epoch 8/50\n",
            "46/46 [==============================] - ETA: 0s - loss: 0.4728 - dice_coef: 0.6267 - iou: 0.4579 - recall: 0.8282 - precision: 0.7852 - auc: 0.9752\n",
            "Epoch 8: val_loss improved from 1.15234 to 1.08399, saving model to /content/datasets/chase_db_256_256_dice_bce_0_4__0_4_1//trained_models/model.h5\n",
            "46/46 [==============================] - 8s 172ms/step - loss: 0.4728 - dice_coef: 0.6267 - iou: 0.4579 - recall: 0.8282 - precision: 0.7852 - auc: 0.9752 - val_loss: 1.0840 - val_dice_coef: 0.1252 - val_iou: 0.0671 - val_recall: 0.0661 - val_precision: 0.4186 - val_auc: 0.7406 - lr: 1.0000e-04\n",
            "Epoch 9/50\n",
            "46/46 [==============================] - ETA: 0s - loss: 0.4488 - dice_coef: 0.6455 - iou: 0.4782 - recall: 0.8301 - precision: 0.7956 - auc: 0.9763\n",
            "Epoch 9: val_loss improved from 1.08399 to 0.92826, saving model to /content/datasets/chase_db_256_256_dice_bce_0_4__0_4_1//trained_models/model.h5\n",
            "46/46 [==============================] - 9s 186ms/step - loss: 0.4488 - dice_coef: 0.6455 - iou: 0.4782 - recall: 0.8301 - precision: 0.7956 - auc: 0.9763 - val_loss: 0.9283 - val_dice_coef: 0.2487 - val_iou: 0.1433 - val_recall: 0.2064 - val_precision: 0.6460 - val_auc: 0.8436 - lr: 1.0000e-04\n",
            "Epoch 10/50\n",
            "46/46 [==============================] - ETA: 0s - loss: 0.4256 - dice_coef: 0.6636 - iou: 0.4981 - recall: 0.8341 - precision: 0.8051 - auc: 0.9781\n",
            "Epoch 10: val_loss improved from 0.92826 to 0.87716, saving model to /content/datasets/chase_db_256_256_dice_bce_0_4__0_4_1//trained_models/model.h5\n",
            "46/46 [==============================] - 8s 170ms/step - loss: 0.4256 - dice_coef: 0.6636 - iou: 0.4981 - recall: 0.8341 - precision: 0.8051 - auc: 0.9781 - val_loss: 0.8772 - val_dice_coef: 0.2930 - val_iou: 0.1733 - val_recall: 0.2661 - val_precision: 0.6327 - val_auc: 0.8426 - lr: 1.0000e-04\n",
            "Epoch 11/50\n",
            "46/46 [==============================] - ETA: 0s - loss: 0.4048 - dice_coef: 0.6800 - iou: 0.5166 - recall: 0.8386 - precision: 0.8132 - auc: 0.9793\n",
            "Epoch 11: val_loss improved from 0.87716 to 0.76101, saving model to /content/datasets/chase_db_256_256_dice_bce_0_4__0_4_1//trained_models/model.h5\n",
            "46/46 [==============================] - 8s 172ms/step - loss: 0.4048 - dice_coef: 0.6800 - iou: 0.5166 - recall: 0.8386 - precision: 0.8132 - auc: 0.9793 - val_loss: 0.7610 - val_dice_coef: 0.3911 - val_iou: 0.2443 - val_recall: 0.3988 - val_precision: 0.7044 - val_auc: 0.8390 - lr: 1.0000e-04\n",
            "Epoch 12/50\n",
            "46/46 [==============================] - ETA: 0s - loss: 0.3879 - dice_coef: 0.6938 - iou: 0.5326 - recall: 0.8420 - precision: 0.8200 - auc: 0.9793\n",
            "Epoch 12: val_loss improved from 0.76101 to 0.58636, saving model to /content/datasets/chase_db_256_256_dice_bce_0_4__0_4_1//trained_models/model.h5\n",
            "46/46 [==============================] - 8s 171ms/step - loss: 0.3879 - dice_coef: 0.6938 - iou: 0.5326 - recall: 0.8420 - precision: 0.8200 - auc: 0.9793 - val_loss: 0.5864 - val_dice_coef: 0.5337 - val_iou: 0.3675 - val_recall: 0.6341 - val_precision: 0.7156 - val_auc: 0.9399 - lr: 1.0000e-04\n",
            "Epoch 13/50\n",
            "46/46 [==============================] - ETA: 0s - loss: 0.3701 - dice_coef: 0.7078 - iou: 0.5491 - recall: 0.8468 - precision: 0.8269 - auc: 0.9807\n",
            "Epoch 13: val_loss improved from 0.58636 to 0.57113, saving model to /content/datasets/chase_db_256_256_dice_bce_0_4__0_4_1//trained_models/model.h5\n",
            "46/46 [==============================] - 8s 171ms/step - loss: 0.3701 - dice_coef: 0.7078 - iou: 0.5491 - recall: 0.8468 - precision: 0.8269 - auc: 0.9807 - val_loss: 0.5711 - val_dice_coef: 0.5496 - val_iou: 0.3842 - val_recall: 0.6284 - val_precision: 0.7303 - val_auc: 0.9415 - lr: 1.0000e-04\n",
            "Epoch 14/50\n",
            "46/46 [==============================] - ETA: 0s - loss: 0.3520 - dice_coef: 0.7226 - iou: 0.5670 - recall: 0.8500 - precision: 0.8355 - auc: 0.9816\n",
            "Epoch 14: val_loss improved from 0.57113 to 0.52410, saving model to /content/datasets/chase_db_256_256_dice_bce_0_4__0_4_1//trained_models/model.h5\n",
            "46/46 [==============================] - 8s 172ms/step - loss: 0.3520 - dice_coef: 0.7226 - iou: 0.5670 - recall: 0.8500 - precision: 0.8355 - auc: 0.9816 - val_loss: 0.5241 - val_dice_coef: 0.5816 - val_iou: 0.4141 - val_recall: 0.6178 - val_precision: 0.8173 - val_auc: 0.9343 - lr: 1.0000e-04\n",
            "Epoch 15/50\n",
            "46/46 [==============================] - ETA: 0s - loss: 0.3302 - dice_coef: 0.7393 - iou: 0.5877 - recall: 0.8597 - precision: 0.8457 - auc: 0.9835\n",
            "Epoch 15: val_loss improved from 0.52410 to 0.51666, saving model to /content/datasets/chase_db_256_256_dice_bce_0_4__0_4_1//trained_models/model.h5\n",
            "46/46 [==============================] - 8s 172ms/step - loss: 0.3302 - dice_coef: 0.7393 - iou: 0.5877 - recall: 0.8597 - precision: 0.8457 - auc: 0.9835 - val_loss: 0.5167 - val_dice_coef: 0.5897 - val_iou: 0.4227 - val_recall: 0.6300 - val_precision: 0.8199 - val_auc: 0.9400 - lr: 1.0000e-04\n",
            "Epoch 16/50\n",
            "46/46 [==============================] - ETA: 0s - loss: 0.3126 - dice_coef: 0.7532 - iou: 0.6054 - recall: 0.8650 - precision: 0.8550 - auc: 0.9843\n",
            "Epoch 16: val_loss improved from 0.51666 to 0.50233, saving model to /content/datasets/chase_db_256_256_dice_bce_0_4__0_4_1//trained_models/model.h5\n",
            "46/46 [==============================] - 8s 172ms/step - loss: 0.3126 - dice_coef: 0.7532 - iou: 0.6054 - recall: 0.8650 - precision: 0.8550 - auc: 0.9843 - val_loss: 0.5023 - val_dice_coef: 0.6065 - val_iou: 0.4409 - val_recall: 0.6436 - val_precision: 0.8048 - val_auc: 0.9328 - lr: 1.0000e-04\n",
            "Epoch 17/50\n",
            "46/46 [==============================] - ETA: 0s - loss: 0.3011 - dice_coef: 0.7627 - iou: 0.6177 - recall: 0.8672 - precision: 0.8582 - auc: 0.9850\n",
            "Epoch 17: val_loss did not improve from 0.50233\n",
            "46/46 [==============================] - 7s 151ms/step - loss: 0.3011 - dice_coef: 0.7627 - iou: 0.6177 - recall: 0.8672 - precision: 0.8582 - auc: 0.9850 - val_loss: 0.5218 - val_dice_coef: 0.5992 - val_iou: 0.4324 - val_recall: 0.6236 - val_precision: 0.7833 - val_auc: 0.9099 - lr: 1.0000e-04\n",
            "Epoch 18/50\n",
            "46/46 [==============================] - ETA: 0s - loss: 0.2926 - dice_coef: 0.7700 - iou: 0.6271 - recall: 0.8675 - precision: 0.8608 - auc: 0.9846\n",
            "Epoch 18: val_loss did not improve from 0.50233\n",
            "46/46 [==============================] - 7s 150ms/step - loss: 0.2926 - dice_coef: 0.7700 - iou: 0.6271 - recall: 0.8675 - precision: 0.8608 - auc: 0.9846 - val_loss: 0.5440 - val_dice_coef: 0.5775 - val_iou: 0.4104 - val_recall: 0.5568 - val_precision: 0.8275 - val_auc: 0.8993 - lr: 1.0000e-04\n",
            "Epoch 19/50\n",
            "46/46 [==============================] - ETA: 0s - loss: 0.2815 - dice_coef: 0.7790 - iou: 0.6390 - recall: 0.8691 - precision: 0.8653 - auc: 0.9855\n",
            "Epoch 19: val_loss did not improve from 0.50233\n",
            "46/46 [==============================] - 7s 150ms/step - loss: 0.2815 - dice_coef: 0.7790 - iou: 0.6390 - recall: 0.8691 - precision: 0.8653 - auc: 0.9855 - val_loss: 0.5312 - val_dice_coef: 0.5877 - val_iou: 0.4218 - val_recall: 0.5794 - val_precision: 0.8239 - val_auc: 0.9024 - lr: 1.0000e-04\n",
            "Epoch 20/50\n",
            "46/46 [==============================] - ETA: 0s - loss: 0.2725 - dice_coef: 0.7871 - iou: 0.6499 - recall: 0.8716 - precision: 0.8671 - auc: 0.9862\n",
            "Epoch 20: val_loss did not improve from 0.50233\n",
            "46/46 [==============================] - 7s 150ms/step - loss: 0.2725 - dice_coef: 0.7871 - iou: 0.6499 - recall: 0.8716 - precision: 0.8671 - auc: 0.9862 - val_loss: 0.5353 - val_dice_coef: 0.5825 - val_iou: 0.4152 - val_recall: 0.5570 - val_precision: 0.8423 - val_auc: 0.9019 - lr: 1.0000e-04\n",
            "Epoch 21/50\n",
            "46/46 [==============================] - ETA: 0s - loss: 0.2682 - dice_coef: 0.7908 - iou: 0.6550 - recall: 0.8715 - precision: 0.8658 - auc: 0.9869\n",
            "Epoch 21: val_loss did not improve from 0.50233\n",
            "\n",
            "Epoch 21: ReduceLROnPlateau reducing learning rate to 9.999999747378752e-06.\n",
            "46/46 [==============================] - 7s 151ms/step - loss: 0.2682 - dice_coef: 0.7908 - iou: 0.6550 - recall: 0.8715 - precision: 0.8658 - auc: 0.9869 - val_loss: 0.5498 - val_dice_coef: 0.5799 - val_iou: 0.4146 - val_recall: 0.5757 - val_precision: 0.7956 - val_auc: 0.8904 - lr: 1.0000e-04\n",
            "Epoch 22/50\n",
            "46/46 [==============================] - ETA: 0s - loss: 0.2690 - dice_coef: 0.7897 - iou: 0.6533 - recall: 0.8467 - precision: 0.8825 - auc: 0.9848\n",
            "Epoch 22: val_loss improved from 0.50233 to 0.45571, saving model to /content/datasets/chase_db_256_256_dice_bce_0_4__0_4_1//trained_models/model.h5\n",
            "46/46 [==============================] - 8s 171ms/step - loss: 0.2690 - dice_coef: 0.7897 - iou: 0.6533 - recall: 0.8467 - precision: 0.8825 - auc: 0.9848 - val_loss: 0.4557 - val_dice_coef: 0.6491 - val_iou: 0.4861 - val_recall: 0.6633 - val_precision: 0.8147 - val_auc: 0.9472 - lr: 1.0000e-05\n",
            "Epoch 23/50\n",
            "46/46 [==============================] - ETA: 0s - loss: 0.2356 - dice_coef: 0.8137 - iou: 0.6867 - recall: 0.8903 - precision: 0.8891 - auc: 0.9896\n",
            "Epoch 23: val_loss did not improve from 0.45571\n",
            "46/46 [==============================] - 7s 151ms/step - loss: 0.2356 - dice_coef: 0.8137 - iou: 0.6867 - recall: 0.8903 - precision: 0.8891 - auc: 0.9896 - val_loss: 0.4573 - val_dice_coef: 0.6475 - val_iou: 0.4845 - val_recall: 0.6501 - val_precision: 0.8226 - val_auc: 0.9469 - lr: 1.0000e-05\n",
            "Epoch 24/50\n",
            "46/46 [==============================] - ETA: 0s - loss: 0.2270 - dice_coef: 0.8198 - iou: 0.6954 - recall: 0.8968 - precision: 0.8960 - auc: 0.9900\n",
            "Epoch 24: val_loss did not improve from 0.45571\n",
            "46/46 [==============================] - 7s 150ms/step - loss: 0.2270 - dice_coef: 0.8198 - iou: 0.6954 - recall: 0.8968 - precision: 0.8960 - auc: 0.9900 - val_loss: 0.4662 - val_dice_coef: 0.6400 - val_iou: 0.4766 - val_recall: 0.6331 - val_precision: 0.8292 - val_auc: 0.9429 - lr: 1.0000e-05\n",
            "Epoch 25/50\n",
            "46/46 [==============================] - ETA: 0s - loss: 0.2201 - dice_coef: 0.8247 - iou: 0.7025 - recall: 0.9017 - precision: 0.9019 - auc: 0.9902\n",
            "Epoch 25: val_loss did not improve from 0.45571\n",
            "46/46 [==============================] - 7s 151ms/step - loss: 0.2201 - dice_coef: 0.8247 - iou: 0.7025 - recall: 0.9017 - precision: 0.9019 - auc: 0.9902 - val_loss: 0.4734 - val_dice_coef: 0.6343 - val_iou: 0.4707 - val_recall: 0.6210 - val_precision: 0.8335 - val_auc: 0.9392 - lr: 1.0000e-05\n",
            "Epoch 26/50\n",
            "46/46 [==============================] - ETA: 0s - loss: 0.2142 - dice_coef: 0.8290 - iou: 0.7088 - recall: 0.9058 - precision: 0.9069 - auc: 0.9903\n",
            "Epoch 26: val_loss did not improve from 0.45571\n",
            "46/46 [==============================] - 7s 151ms/step - loss: 0.2142 - dice_coef: 0.8290 - iou: 0.7088 - recall: 0.9058 - precision: 0.9069 - auc: 0.9903 - val_loss: 0.4787 - val_dice_coef: 0.6304 - val_iou: 0.4667 - val_recall: 0.6125 - val_precision: 0.8362 - val_auc: 0.9360 - lr: 1.0000e-05\n",
            "Epoch 27/50\n",
            "46/46 [==============================] - ETA: 0s - loss: 0.2088 - dice_coef: 0.8330 - iou: 0.7145 - recall: 0.9096 - precision: 0.9115 - auc: 0.9905\n",
            "Epoch 27: val_loss did not improve from 0.45571\n",
            "\n",
            "Epoch 27: ReduceLROnPlateau reducing learning rate to 1e-06.\n",
            "46/46 [==============================] - 7s 151ms/step - loss: 0.2088 - dice_coef: 0.8330 - iou: 0.7145 - recall: 0.9096 - precision: 0.9115 - auc: 0.9905 - val_loss: 0.4826 - val_dice_coef: 0.6279 - val_iou: 0.4640 - val_recall: 0.6070 - val_precision: 0.8377 - val_auc: 0.9330 - lr: 1.0000e-05\n",
            "Epoch 28/50\n",
            "46/46 [==============================] - ETA: 0s - loss: 0.2027 - dice_coef: 0.8369 - iou: 0.7203 - recall: 0.9107 - precision: 0.9202 - auc: 0.9906\n",
            "Epoch 28: val_loss did not improve from 0.45571\n",
            "46/46 [==============================] - 7s 150ms/step - loss: 0.2027 - dice_coef: 0.8369 - iou: 0.7203 - recall: 0.9107 - precision: 0.9202 - auc: 0.9906 - val_loss: 0.4813 - val_dice_coef: 0.6295 - val_iou: 0.4658 - val_recall: 0.6110 - val_precision: 0.8354 - val_auc: 0.9327 - lr: 1.0000e-06\n",
            "Epoch 29/50\n",
            "46/46 [==============================] - ETA: 0s - loss: 0.2012 - dice_coef: 0.8381 - iou: 0.7220 - recall: 0.9137 - precision: 0.9194 - auc: 0.9907\n",
            "Epoch 29: val_loss did not improve from 0.45571\n",
            "46/46 [==============================] - 7s 151ms/step - loss: 0.2012 - dice_coef: 0.8381 - iou: 0.7220 - recall: 0.9137 - precision: 0.9194 - auc: 0.9907 - val_loss: 0.4802 - val_dice_coef: 0.6309 - val_iou: 0.4673 - val_recall: 0.6142 - val_precision: 0.8336 - val_auc: 0.9325 - lr: 1.0000e-06\n",
            "Epoch 30/50\n",
            "46/46 [==============================] - ETA: 0s - loss: 0.2006 - dice_coef: 0.8386 - iou: 0.7228 - recall: 0.9151 - precision: 0.9190 - auc: 0.9908\n",
            "Epoch 30: val_loss did not improve from 0.45571\n",
            "46/46 [==============================] - 7s 151ms/step - loss: 0.2006 - dice_coef: 0.8386 - iou: 0.7228 - recall: 0.9151 - precision: 0.9190 - auc: 0.9908 - val_loss: 0.4797 - val_dice_coef: 0.6316 - val_iou: 0.4681 - val_recall: 0.6155 - val_precision: 0.8328 - val_auc: 0.9324 - lr: 1.0000e-06\n",
            "Epoch 31/50\n",
            "46/46 [==============================] - ETA: 0s - loss: 0.2001 - dice_coef: 0.8390 - iou: 0.7234 - recall: 0.9159 - precision: 0.9190 - auc: 0.9908\n",
            "Epoch 31: val_loss did not improve from 0.45571\n",
            "46/46 [==============================] - 7s 151ms/step - loss: 0.2001 - dice_coef: 0.8390 - iou: 0.7234 - recall: 0.9159 - precision: 0.9190 - auc: 0.9908 - val_loss: 0.4796 - val_dice_coef: 0.6319 - val_iou: 0.4683 - val_recall: 0.6157 - val_precision: 0.8325 - val_auc: 0.9320 - lr: 1.0000e-06\n",
            "Epoch 32/50\n",
            "46/46 [==============================] - ETA: 0s - loss: 0.1995 - dice_coef: 0.8394 - iou: 0.7241 - recall: 0.9164 - precision: 0.9192 - auc: 0.9908\n",
            "Epoch 32: val_loss did not improve from 0.45571\n",
            "46/46 [==============================] - 7s 151ms/step - loss: 0.1995 - dice_coef: 0.8394 - iou: 0.7241 - recall: 0.9164 - precision: 0.9192 - auc: 0.9908 - val_loss: 0.4798 - val_dice_coef: 0.6318 - val_iou: 0.4683 - val_recall: 0.6157 - val_precision: 0.8323 - val_auc: 0.9317 - lr: 1.0000e-06\n"
          ]
        },
        {
          "data": {
            "text/plain": [
              "<keras.callbacks.History at 0x7fcae20b3890>"
            ]
          },
          "execution_count": null,
          "metadata": {},
          "output_type": "execute_result"
        }
      ],
      "source": [
        "\"\"\" Seeding \"\"\"\n",
        "np.random.seed(42)\n",
        "tf.random.set_seed(42)\n",
        "\n",
        "\"\"\" Directory to save files \"\"\"\n",
        "create_dir(model_dir)\n",
        "\n",
        "\"\"\" Hyperparameters \"\"\"\n",
        "batch_size = 8\n",
        "lr = 1e-4\n",
        "num_epochs = 50\n",
        "model_path = os.path.join(f\"{model_dir}\", \"model.h5\")\n",
        "csv_path = os.path.join(f\"{model_dir}\", \"data.csv\")\n",
        "\n",
        "\"\"\" Dataset \"\"\"\n",
        "dataset_path = f\"{data_path}/{split_name}\"\n",
        "train_path = os.path.join(dataset_path, \"train\")\n",
        "valid_path = os.path.join(dataset_path, \"test\")\n",
        "\n",
        "train_x, train_y = load_data(train_path)\n",
        "# train_x, train_y = shuffling(train_x, train_y)\n",
        "valid_x, valid_y = load_data(valid_path)\n",
        "\n",
        "print(f\"Train: {len(train_x)} - {len(train_y)}\")\n",
        "print(f\"Valid: {len(valid_x)} - {len(valid_y)}\")\n",
        "\n",
        "train_dataset = tf_dataset(train_x, train_y, batch_size=batch_size)\n",
        "valid_dataset = tf_dataset(valid_x, valid_y, batch_size=batch_size)\n",
        "\n",
        "train_steps = len(train_x)//batch_size\n",
        "valid_setps = len(valid_x)//batch_size\n",
        "\n",
        "if len(train_x) % batch_size != 0:\n",
        "    train_steps += 1\n",
        "if len(valid_x) % batch_size != 0:\n",
        "    valid_setps += 1\n",
        "\n",
        "\"\"\" Model \"\"\"\n",
        "model = build_unet((H, W, 3))\n",
        "model.compile(loss=loss, optimizer=Adam(lr), metrics=[dice_coef, iou, Recall(), Precision(), AUC()])\n",
        "\n",
        "callbacks = [\n",
        "    ModelCheckpoint(model_path, verbose=1, save_best_only=True),\n",
        "    ReduceLROnPlateau(monitor=\"val_loss\", factor=0.1, patience=5, min_lr=1e-6, verbose=1),\n",
        "    CSVLogger(csv_path),\n",
        "    TensorBoard(),\n",
        "    EarlyStopping(monitor=\"val_loss\", patience=10, restore_best_weights=False)\n",
        "]\n",
        "\n",
        "model.fit(\n",
        "    train_dataset,\n",
        "    epochs=num_epochs,\n",
        "    validation_data=valid_dataset,\n",
        "    steps_per_epoch=train_steps,\n",
        "    validation_steps=valid_setps,\n",
        "    callbacks=callbacks\n",
        ")"
      ]
    },
    {
      "cell_type": "markdown",
      "metadata": {
        "id": "z0HWQPIv6F3u"
      },
      "source": [
        "### Evaluating the Model:"
      ]
    },
    {
      "cell_type": "code",
      "execution_count": null,
      "metadata": {
        "colab": {
          "background_save": true
        },
        "id": "Ptl8ug8uby3R"
      },
      "outputs": [],
      "source": [
        "import os\n",
        "os.environ[\"TF_CPP_MIN_LOG_LEVEL\"] = \"2\"\n",
        "import numpy as np\n",
        "import pandas as pd\n",
        "import cv2\n",
        "from glob import glob\n",
        "from tqdm import tqdm\n",
        "import tensorflow as tf\n",
        "from tensorflow.keras.utils import CustomObjectScope\n",
        "from sklearn.metrics import accuracy_score, f1_score, jaccard_score, precision_score, recall_score\n",
        "from tensorflow.keras.models import load_model"
      ]
    },
    {
      "cell_type": "code",
      "execution_count": null,
      "metadata": {
        "colab": {
          "background_save": true
        },
        "id": "HmFXTEtz6Rhn"
      },
      "outputs": [],
      "source": [
        "\n",
        "def create_dir(path):\n",
        "    if not os.path.exists(path):\n",
        "        os.makedirs(path)\n",
        "\n",
        "def read_image(path):\n",
        "    x = cv2.imread(path, cv2.IMREAD_COLOR)\n",
        "    # x = cv2.resize(x, (W, H))\n",
        "    ori_x = x\n",
        "    x = x/255.0\n",
        "    x = x.astype(np.float32)\n",
        "    return ori_x, x\n",
        "\n",
        "def read_mask(path):\n",
        "    x = cv2.imread(path, cv2.IMREAD_GRAYSCALE)  ## (512, 512)\n",
        "    # x = cv2.resize(x, (W, H))\n",
        "    ori_x = x\n",
        "    x = x/255.0\n",
        "    x = x.astype(np.int32)\n",
        "    return ori_x, x\n",
        "\n",
        "def load_data(path):\n",
        "    x = sorted(glob(os.path.join(path, \"image\", \"*.png\")))\n",
        "    y = sorted(glob(os.path.join(path, \"mask\", \"*.png\")))\n",
        "    return x, y\n",
        "\n",
        "def save_results(ori_x, ori_y, y_pred, save_image_path):\n",
        "    line = np.ones((H, 10, 3)) * 255\n",
        "\n",
        "    ori_y = np.expand_dims(ori_y, axis=-1)\n",
        "    ori_y = np.concatenate([ori_y, ori_y, ori_y], axis=-1)\n",
        "\n",
        "    y_pred = np.expand_dims(y_pred, axis=-1)\n",
        "    y_pred = np.concatenate([y_pred, y_pred, y_pred], axis=-1) * 255\n",
        "\n",
        "    cat_images = np.concatenate([ori_x, line, ori_y, line, y_pred], axis=1)\n",
        "    cv2.imwrite(save_image_path, cat_images)"
      ]
    },
    {
      "cell_type": "code",
      "execution_count": null,
      "metadata": {
        "colab": {
          "background_save": true
        },
        "id": "AVfRbYagZChd"
      },
      "outputs": [],
      "source": [
        "import glob\n",
        "supported_extensions = [\"png\", \"jpg\", \"tif\", \"jpeg\", \"gif\", \"bmp\"]\n",
        "\n",
        "def image_files(path, file_prefix=None):\n",
        "    all_image_files = []\n",
        "    # print(\"path\", path)\n",
        "    # print(\"file_prefix\", file_prefix)\n",
        "    if file_prefix is None:\n",
        "        file_names = list(glob.glob(path + \"/*.*\" ))\n",
        "    else:\n",
        "        prefix___ = path + \"/\" + file_prefix + \".*\"\n",
        "        #print(\"prefix\", prefix___)\n",
        "        file_names = list(glob.glob(prefix___))\n",
        "\n",
        "    # print(\"filenames\", file_names)\n",
        "\n",
        "    for filename in file_names:\n",
        "        ext = filename.rsplit(\".\", 1)[1]\n",
        "        if ext.lower() in supported_extensions:\n",
        "            all_image_files.append(filename)\n",
        "    # print(\"All Image files\", all_image_files)\n",
        "    return sorted(all_image_files)\n"
      ]
    },
    {
      "cell_type": "code",
      "execution_count": null,
      "metadata": {
        "colab": {
          "background_save": true
        },
        "id": "41UgJB8nD_XH"
      },
      "outputs": [],
      "source": [
        "results_path = f\"{root_path}/results/\"\n",
        "prediction_path = f\"{root_path}/predictions/\"\n",
        "prediction_np_path = f\"{root_path}/predictions_np/\"\n",
        "create_dir(prediction_path)\n",
        "create_dir(prediction_np_path)\n",
        "create_dir(results_path)"
      ]
    },
    {
      "cell_type": "code",
      "execution_count": null,
      "metadata": {
        "colab": {
          "background_save": true
        },
        "id": "BJYCeRNgZOHE",
        "outputId": "4497c7a1-aa56-4f52-df1e-99c0f7e72692"
      },
      "outputs": [
        {
          "data": {
            "application/vnd.google.colaboratory.intrinsic+json": {
              "type": "string"
            },
            "text/plain": [
              "'/content/datasets/chase_db_256_256_dice_bce_0_4__0_4_1//results/'"
            ]
          },
          "execution_count": null,
          "metadata": {},
          "output_type": "execute_result"
        }
      ],
      "source": [
        "results_path"
      ]
    },
    {
      "cell_type": "code",
      "execution_count": null,
      "metadata": {
        "colab": {
          "background_save": true
        },
        "id": "R9b3W24IZwQO"
      },
      "outputs": [],
      "source": [
        "from glob import glob"
      ]
    },
    {
      "cell_type": "code",
      "execution_count": null,
      "metadata": {
        "colab": {
          "background_save": true
        },
        "id": "bVTFZdxa6TuQ",
        "outputId": "a03bc443-4c30-471b-ec0d-c12f00c15e31"
      },
      "outputs": [
        {
          "name": "stderr",
          "output_type": "stream",
          "text": [
            "  0%|          | 0/80 [00:00<?, ?it/s]/usr/local/lib/python3.7/dist-packages/ipykernel_launcher.py:28: DeprecationWarning: `np.int` is a deprecated alias for the builtin `int`. To silence this warning, use `int` by itself. Doing this will not modify any behavior and is safe. When replacing `np.int`, you may wish to use e.g. `np.int64` or `np.int32` to specify the precision. If you wish to review your current use, check the release note link for additional information.\n",
            "Deprecated in NumPy 1.20; for more details and guidance: https://numpy.org/devdocs/release/1.20.0-notes.html#deprecations\n",
            "  1%|▏         | 1/80 [00:00<01:17,  1.01it/s]/usr/local/lib/python3.7/dist-packages/ipykernel_launcher.py:28: DeprecationWarning: `np.int` is a deprecated alias for the builtin `int`. To silence this warning, use `int` by itself. Doing this will not modify any behavior and is safe. When replacing `np.int`, you may wish to use e.g. `np.int64` or `np.int32` to specify the precision. If you wish to review your current use, check the release note link for additional information.\n",
            "Deprecated in NumPy 1.20; for more details and guidance: https://numpy.org/devdocs/release/1.20.0-notes.html#deprecations\n",
            "  2%|▎         | 2/80 [00:01<00:39,  1.99it/s]/usr/local/lib/python3.7/dist-packages/ipykernel_launcher.py:28: DeprecationWarning: `np.int` is a deprecated alias for the builtin `int`. To silence this warning, use `int` by itself. Doing this will not modify any behavior and is safe. When replacing `np.int`, you may wish to use e.g. `np.int64` or `np.int32` to specify the precision. If you wish to review your current use, check the release note link for additional information.\n",
            "Deprecated in NumPy 1.20; for more details and guidance: https://numpy.org/devdocs/release/1.20.0-notes.html#deprecations\n",
            "  4%|▍         | 3/80 [00:01<00:26,  2.87it/s]/usr/local/lib/python3.7/dist-packages/ipykernel_launcher.py:28: DeprecationWarning: `np.int` is a deprecated alias for the builtin `int`. To silence this warning, use `int` by itself. Doing this will not modify any behavior and is safe. When replacing `np.int`, you may wish to use e.g. `np.int64` or `np.int32` to specify the precision. If you wish to review your current use, check the release note link for additional information.\n",
            "Deprecated in NumPy 1.20; for more details and guidance: https://numpy.org/devdocs/release/1.20.0-notes.html#deprecations\n",
            "  5%|▌         | 4/80 [00:01<00:20,  3.67it/s]/usr/local/lib/python3.7/dist-packages/ipykernel_launcher.py:28: DeprecationWarning: `np.int` is a deprecated alias for the builtin `int`. To silence this warning, use `int` by itself. Doing this will not modify any behavior and is safe. When replacing `np.int`, you may wish to use e.g. `np.int64` or `np.int32` to specify the precision. If you wish to review your current use, check the release note link for additional information.\n",
            "Deprecated in NumPy 1.20; for more details and guidance: https://numpy.org/devdocs/release/1.20.0-notes.html#deprecations\n",
            "/usr/local/lib/python3.7/dist-packages/sklearn/metrics/_classification.py:1318: UndefinedMetricWarning: Precision is ill-defined and being set to 0.0 due to no predicted samples. Use `zero_division` parameter to control this behavior.\n",
            "  _warn_prf(average, modifier, msg_start, len(result))\n",
            "  6%|▋         | 5/80 [00:01<00:17,  4.30it/s]/usr/local/lib/python3.7/dist-packages/ipykernel_launcher.py:28: DeprecationWarning: `np.int` is a deprecated alias for the builtin `int`. To silence this warning, use `int` by itself. Doing this will not modify any behavior and is safe. When replacing `np.int`, you may wish to use e.g. `np.int64` or `np.int32` to specify the precision. If you wish to review your current use, check the release note link for additional information.\n",
            "Deprecated in NumPy 1.20; for more details and guidance: https://numpy.org/devdocs/release/1.20.0-notes.html#deprecations\n",
            "  8%|▊         | 6/80 [00:01<00:15,  4.77it/s]/usr/local/lib/python3.7/dist-packages/ipykernel_launcher.py:28: DeprecationWarning: `np.int` is a deprecated alias for the builtin `int`. To silence this warning, use `int` by itself. Doing this will not modify any behavior and is safe. When replacing `np.int`, you may wish to use e.g. `np.int64` or `np.int32` to specify the precision. If you wish to review your current use, check the release note link for additional information.\n",
            "Deprecated in NumPy 1.20; for more details and guidance: https://numpy.org/devdocs/release/1.20.0-notes.html#deprecations\n",
            "  9%|▉         | 7/80 [00:01<00:14,  5.13it/s]/usr/local/lib/python3.7/dist-packages/ipykernel_launcher.py:28: DeprecationWarning: `np.int` is a deprecated alias for the builtin `int`. To silence this warning, use `int` by itself. Doing this will not modify any behavior and is safe. When replacing `np.int`, you may wish to use e.g. `np.int64` or `np.int32` to specify the precision. If you wish to review your current use, check the release note link for additional information.\n",
            "Deprecated in NumPy 1.20; for more details and guidance: https://numpy.org/devdocs/release/1.20.0-notes.html#deprecations\n",
            " 10%|█         | 8/80 [00:02<00:13,  5.42it/s]/usr/local/lib/python3.7/dist-packages/ipykernel_launcher.py:28: DeprecationWarning: `np.int` is a deprecated alias for the builtin `int`. To silence this warning, use `int` by itself. Doing this will not modify any behavior and is safe. When replacing `np.int`, you may wish to use e.g. `np.int64` or `np.int32` to specify the precision. If you wish to review your current use, check the release note link for additional information.\n",
            "Deprecated in NumPy 1.20; for more details and guidance: https://numpy.org/devdocs/release/1.20.0-notes.html#deprecations\n",
            " 11%|█▏        | 9/80 [00:02<00:12,  5.59it/s]/usr/local/lib/python3.7/dist-packages/ipykernel_launcher.py:28: DeprecationWarning: `np.int` is a deprecated alias for the builtin `int`. To silence this warning, use `int` by itself. Doing this will not modify any behavior and is safe. When replacing `np.int`, you may wish to use e.g. `np.int64` or `np.int32` to specify the precision. If you wish to review your current use, check the release note link for additional information.\n",
            "Deprecated in NumPy 1.20; for more details and guidance: https://numpy.org/devdocs/release/1.20.0-notes.html#deprecations\n",
            "/usr/local/lib/python3.7/dist-packages/sklearn/metrics/_classification.py:1318: UndefinedMetricWarning: Recall is ill-defined and being set to 0.0 due to no true samples. Use `zero_division` parameter to control this behavior.\n",
            "  _warn_prf(average, modifier, msg_start, len(result))\n",
            " 12%|█▎        | 10/80 [00:02<00:11,  5.99it/s]/usr/local/lib/python3.7/dist-packages/ipykernel_launcher.py:28: DeprecationWarning: `np.int` is a deprecated alias for the builtin `int`. To silence this warning, use `int` by itself. Doing this will not modify any behavior and is safe. When replacing `np.int`, you may wish to use e.g. `np.int64` or `np.int32` to specify the precision. If you wish to review your current use, check the release note link for additional information.\n",
            "Deprecated in NumPy 1.20; for more details and guidance: https://numpy.org/devdocs/release/1.20.0-notes.html#deprecations\n",
            " 14%|█▍        | 11/80 [00:02<00:11,  6.02it/s]/usr/local/lib/python3.7/dist-packages/ipykernel_launcher.py:28: DeprecationWarning: `np.int` is a deprecated alias for the builtin `int`. To silence this warning, use `int` by itself. Doing this will not modify any behavior and is safe. When replacing `np.int`, you may wish to use e.g. `np.int64` or `np.int32` to specify the precision. If you wish to review your current use, check the release note link for additional information.\n",
            "Deprecated in NumPy 1.20; for more details and guidance: https://numpy.org/devdocs/release/1.20.0-notes.html#deprecations\n",
            " 15%|█▌        | 12/80 [00:02<00:11,  6.01it/s]/usr/local/lib/python3.7/dist-packages/ipykernel_launcher.py:28: DeprecationWarning: `np.int` is a deprecated alias for the builtin `int`. To silence this warning, use `int` by itself. Doing this will not modify any behavior and is safe. When replacing `np.int`, you may wish to use e.g. `np.int64` or `np.int32` to specify the precision. If you wish to review your current use, check the release note link for additional information.\n",
            "Deprecated in NumPy 1.20; for more details and guidance: https://numpy.org/devdocs/release/1.20.0-notes.html#deprecations\n",
            " 16%|█▋        | 13/80 [00:02<00:11,  6.04it/s]/usr/local/lib/python3.7/dist-packages/ipykernel_launcher.py:28: DeprecationWarning: `np.int` is a deprecated alias for the builtin `int`. To silence this warning, use `int` by itself. Doing this will not modify any behavior and is safe. When replacing `np.int`, you may wish to use e.g. `np.int64` or `np.int32` to specify the precision. If you wish to review your current use, check the release note link for additional information.\n",
            "Deprecated in NumPy 1.20; for more details and guidance: https://numpy.org/devdocs/release/1.20.0-notes.html#deprecations\n",
            " 18%|█▊        | 14/80 [00:03<00:10,  6.11it/s]/usr/local/lib/python3.7/dist-packages/ipykernel_launcher.py:28: DeprecationWarning: `np.int` is a deprecated alias for the builtin `int`. To silence this warning, use `int` by itself. Doing this will not modify any behavior and is safe. When replacing `np.int`, you may wish to use e.g. `np.int64` or `np.int32` to specify the precision. If you wish to review your current use, check the release note link for additional information.\n",
            "Deprecated in NumPy 1.20; for more details and guidance: https://numpy.org/devdocs/release/1.20.0-notes.html#deprecations\n",
            " 19%|█▉        | 15/80 [00:03<00:10,  6.03it/s]/usr/local/lib/python3.7/dist-packages/ipykernel_launcher.py:28: DeprecationWarning: `np.int` is a deprecated alias for the builtin `int`. To silence this warning, use `int` by itself. Doing this will not modify any behavior and is safe. When replacing `np.int`, you may wish to use e.g. `np.int64` or `np.int32` to specify the precision. If you wish to review your current use, check the release note link for additional information.\n",
            "Deprecated in NumPy 1.20; for more details and guidance: https://numpy.org/devdocs/release/1.20.0-notes.html#deprecations\n",
            " 20%|██        | 16/80 [00:03<00:10,  6.05it/s]/usr/local/lib/python3.7/dist-packages/ipykernel_launcher.py:28: DeprecationWarning: `np.int` is a deprecated alias for the builtin `int`. To silence this warning, use `int` by itself. Doing this will not modify any behavior and is safe. When replacing `np.int`, you may wish to use e.g. `np.int64` or `np.int32` to specify the precision. If you wish to review your current use, check the release note link for additional information.\n",
            "Deprecated in NumPy 1.20; for more details and guidance: https://numpy.org/devdocs/release/1.20.0-notes.html#deprecations\n",
            " 21%|██▏       | 17/80 [00:03<00:10,  6.03it/s]/usr/local/lib/python3.7/dist-packages/ipykernel_launcher.py:28: DeprecationWarning: `np.int` is a deprecated alias for the builtin `int`. To silence this warning, use `int` by itself. Doing this will not modify any behavior and is safe. When replacing `np.int`, you may wish to use e.g. `np.int64` or `np.int32` to specify the precision. If you wish to review your current use, check the release note link for additional information.\n",
            "Deprecated in NumPy 1.20; for more details and guidance: https://numpy.org/devdocs/release/1.20.0-notes.html#deprecations\n",
            " 22%|██▎       | 18/80 [00:03<00:10,  5.99it/s]/usr/local/lib/python3.7/dist-packages/ipykernel_launcher.py:28: DeprecationWarning: `np.int` is a deprecated alias for the builtin `int`. To silence this warning, use `int` by itself. Doing this will not modify any behavior and is safe. When replacing `np.int`, you may wish to use e.g. `np.int64` or `np.int32` to specify the precision. If you wish to review your current use, check the release note link for additional information.\n",
            "Deprecated in NumPy 1.20; for more details and guidance: https://numpy.org/devdocs/release/1.20.0-notes.html#deprecations\n",
            " 24%|██▍       | 19/80 [00:03<00:10,  5.97it/s]/usr/local/lib/python3.7/dist-packages/ipykernel_launcher.py:28: DeprecationWarning: `np.int` is a deprecated alias for the builtin `int`. To silence this warning, use `int` by itself. Doing this will not modify any behavior and is safe. When replacing `np.int`, you may wish to use e.g. `np.int64` or `np.int32` to specify the precision. If you wish to review your current use, check the release note link for additional information.\n",
            "Deprecated in NumPy 1.20; for more details and guidance: https://numpy.org/devdocs/release/1.20.0-notes.html#deprecations\n",
            " 25%|██▌       | 20/80 [00:04<00:09,  6.07it/s]/usr/local/lib/python3.7/dist-packages/ipykernel_launcher.py:28: DeprecationWarning: `np.int` is a deprecated alias for the builtin `int`. To silence this warning, use `int` by itself. Doing this will not modify any behavior and is safe. When replacing `np.int`, you may wish to use e.g. `np.int64` or `np.int32` to specify the precision. If you wish to review your current use, check the release note link for additional information.\n",
            "Deprecated in NumPy 1.20; for more details and guidance: https://numpy.org/devdocs/release/1.20.0-notes.html#deprecations\n",
            " 26%|██▋       | 21/80 [00:04<00:09,  6.11it/s]/usr/local/lib/python3.7/dist-packages/ipykernel_launcher.py:28: DeprecationWarning: `np.int` is a deprecated alias for the builtin `int`. To silence this warning, use `int` by itself. Doing this will not modify any behavior and is safe. When replacing `np.int`, you may wish to use e.g. `np.int64` or `np.int32` to specify the precision. If you wish to review your current use, check the release note link for additional information.\n",
            "Deprecated in NumPy 1.20; for more details and guidance: https://numpy.org/devdocs/release/1.20.0-notes.html#deprecations\n",
            " 28%|██▊       | 22/80 [00:04<00:09,  6.13it/s]/usr/local/lib/python3.7/dist-packages/ipykernel_launcher.py:28: DeprecationWarning: `np.int` is a deprecated alias for the builtin `int`. To silence this warning, use `int` by itself. Doing this will not modify any behavior and is safe. When replacing `np.int`, you may wish to use e.g. `np.int64` or `np.int32` to specify the precision. If you wish to review your current use, check the release note link for additional information.\n",
            "Deprecated in NumPy 1.20; for more details and guidance: https://numpy.org/devdocs/release/1.20.0-notes.html#deprecations\n",
            " 29%|██▉       | 23/80 [00:04<00:09,  6.10it/s]/usr/local/lib/python3.7/dist-packages/ipykernel_launcher.py:28: DeprecationWarning: `np.int` is a deprecated alias for the builtin `int`. To silence this warning, use `int` by itself. Doing this will not modify any behavior and is safe. When replacing `np.int`, you may wish to use e.g. `np.int64` or `np.int32` to specify the precision. If you wish to review your current use, check the release note link for additional information.\n",
            "Deprecated in NumPy 1.20; for more details and guidance: https://numpy.org/devdocs/release/1.20.0-notes.html#deprecations\n",
            " 30%|███       | 24/80 [00:04<00:09,  6.12it/s]/usr/local/lib/python3.7/dist-packages/ipykernel_launcher.py:28: DeprecationWarning: `np.int` is a deprecated alias for the builtin `int`. To silence this warning, use `int` by itself. Doing this will not modify any behavior and is safe. When replacing `np.int`, you may wish to use e.g. `np.int64` or `np.int32` to specify the precision. If you wish to review your current use, check the release note link for additional information.\n",
            "Deprecated in NumPy 1.20; for more details and guidance: https://numpy.org/devdocs/release/1.20.0-notes.html#deprecations\n",
            " 31%|███▏      | 25/80 [00:04<00:08,  6.16it/s]/usr/local/lib/python3.7/dist-packages/ipykernel_launcher.py:28: DeprecationWarning: `np.int` is a deprecated alias for the builtin `int`. To silence this warning, use `int` by itself. Doing this will not modify any behavior and is safe. When replacing `np.int`, you may wish to use e.g. `np.int64` or `np.int32` to specify the precision. If you wish to review your current use, check the release note link for additional information.\n",
            "Deprecated in NumPy 1.20; for more details and guidance: https://numpy.org/devdocs/release/1.20.0-notes.html#deprecations\n",
            " 32%|███▎      | 26/80 [00:05<00:08,  6.22it/s]/usr/local/lib/python3.7/dist-packages/ipykernel_launcher.py:28: DeprecationWarning: `np.int` is a deprecated alias for the builtin `int`. To silence this warning, use `int` by itself. Doing this will not modify any behavior and is safe. When replacing `np.int`, you may wish to use e.g. `np.int64` or `np.int32` to specify the precision. If you wish to review your current use, check the release note link for additional information.\n",
            "Deprecated in NumPy 1.20; for more details and guidance: https://numpy.org/devdocs/release/1.20.0-notes.html#deprecations\n",
            " 34%|███▍      | 27/80 [00:05<00:08,  6.21it/s]/usr/local/lib/python3.7/dist-packages/ipykernel_launcher.py:28: DeprecationWarning: `np.int` is a deprecated alias for the builtin `int`. To silence this warning, use `int` by itself. Doing this will not modify any behavior and is safe. When replacing `np.int`, you may wish to use e.g. `np.int64` or `np.int32` to specify the precision. If you wish to review your current use, check the release note link for additional information.\n",
            "Deprecated in NumPy 1.20; for more details and guidance: https://numpy.org/devdocs/release/1.20.0-notes.html#deprecations\n",
            " 35%|███▌      | 28/80 [00:05<00:08,  6.11it/s]/usr/local/lib/python3.7/dist-packages/ipykernel_launcher.py:28: DeprecationWarning: `np.int` is a deprecated alias for the builtin `int`. To silence this warning, use `int` by itself. Doing this will not modify any behavior and is safe. When replacing `np.int`, you may wish to use e.g. `np.int64` or `np.int32` to specify the precision. If you wish to review your current use, check the release note link for additional information.\n",
            "Deprecated in NumPy 1.20; for more details and guidance: https://numpy.org/devdocs/release/1.20.0-notes.html#deprecations\n",
            " 36%|███▋      | 29/80 [00:05<00:08,  6.05it/s]/usr/local/lib/python3.7/dist-packages/ipykernel_launcher.py:28: DeprecationWarning: `np.int` is a deprecated alias for the builtin `int`. To silence this warning, use `int` by itself. Doing this will not modify any behavior and is safe. When replacing `np.int`, you may wish to use e.g. `np.int64` or `np.int32` to specify the precision. If you wish to review your current use, check the release note link for additional information.\n",
            "Deprecated in NumPy 1.20; for more details and guidance: https://numpy.org/devdocs/release/1.20.0-notes.html#deprecations\n",
            " 38%|███▊      | 30/80 [00:05<00:08,  6.09it/s]/usr/local/lib/python3.7/dist-packages/ipykernel_launcher.py:28: DeprecationWarning: `np.int` is a deprecated alias for the builtin `int`. To silence this warning, use `int` by itself. Doing this will not modify any behavior and is safe. When replacing `np.int`, you may wish to use e.g. `np.int64` or `np.int32` to specify the precision. If you wish to review your current use, check the release note link for additional information.\n",
            "Deprecated in NumPy 1.20; for more details and guidance: https://numpy.org/devdocs/release/1.20.0-notes.html#deprecations\n",
            "/usr/local/lib/python3.7/dist-packages/sklearn/metrics/_classification.py:1318: UndefinedMetricWarning: Precision is ill-defined and being set to 0.0 due to no predicted samples. Use `zero_division` parameter to control this behavior.\n",
            "  _warn_prf(average, modifier, msg_start, len(result))\n",
            " 39%|███▉      | 31/80 [00:05<00:07,  6.13it/s]/usr/local/lib/python3.7/dist-packages/ipykernel_launcher.py:28: DeprecationWarning: `np.int` is a deprecated alias for the builtin `int`. To silence this warning, use `int` by itself. Doing this will not modify any behavior and is safe. When replacing `np.int`, you may wish to use e.g. `np.int64` or `np.int32` to specify the precision. If you wish to review your current use, check the release note link for additional information.\n",
            "Deprecated in NumPy 1.20; for more details and guidance: https://numpy.org/devdocs/release/1.20.0-notes.html#deprecations\n",
            " 40%|████      | 32/80 [00:06<00:07,  6.09it/s]/usr/local/lib/python3.7/dist-packages/ipykernel_launcher.py:28: DeprecationWarning: `np.int` is a deprecated alias for the builtin `int`. To silence this warning, use `int` by itself. Doing this will not modify any behavior and is safe. When replacing `np.int`, you may wish to use e.g. `np.int64` or `np.int32` to specify the precision. If you wish to review your current use, check the release note link for additional information.\n",
            "Deprecated in NumPy 1.20; for more details and guidance: https://numpy.org/devdocs/release/1.20.0-notes.html#deprecations\n",
            "/usr/local/lib/python3.7/dist-packages/sklearn/metrics/_classification.py:1318: UndefinedMetricWarning: Precision is ill-defined and being set to 0.0 due to no predicted samples. Use `zero_division` parameter to control this behavior.\n",
            "  _warn_prf(average, modifier, msg_start, len(result))\n",
            " 41%|████▏     | 33/80 [00:06<00:07,  6.12it/s]/usr/local/lib/python3.7/dist-packages/ipykernel_launcher.py:28: DeprecationWarning: `np.int` is a deprecated alias for the builtin `int`. To silence this warning, use `int` by itself. Doing this will not modify any behavior and is safe. When replacing `np.int`, you may wish to use e.g. `np.int64` or `np.int32` to specify the precision. If you wish to review your current use, check the release note link for additional information.\n",
            "Deprecated in NumPy 1.20; for more details and guidance: https://numpy.org/devdocs/release/1.20.0-notes.html#deprecations\n",
            " 42%|████▎     | 34/80 [00:06<00:07,  6.09it/s]/usr/local/lib/python3.7/dist-packages/ipykernel_launcher.py:28: DeprecationWarning: `np.int` is a deprecated alias for the builtin `int`. To silence this warning, use `int` by itself. Doing this will not modify any behavior and is safe. When replacing `np.int`, you may wish to use e.g. `np.int64` or `np.int32` to specify the precision. If you wish to review your current use, check the release note link for additional information.\n",
            "Deprecated in NumPy 1.20; for more details and guidance: https://numpy.org/devdocs/release/1.20.0-notes.html#deprecations\n",
            " 44%|████▍     | 35/80 [00:06<00:07,  6.05it/s]/usr/local/lib/python3.7/dist-packages/ipykernel_launcher.py:28: DeprecationWarning: `np.int` is a deprecated alias for the builtin `int`. To silence this warning, use `int` by itself. Doing this will not modify any behavior and is safe. When replacing `np.int`, you may wish to use e.g. `np.int64` or `np.int32` to specify the precision. If you wish to review your current use, check the release note link for additional information.\n",
            "Deprecated in NumPy 1.20; for more details and guidance: https://numpy.org/devdocs/release/1.20.0-notes.html#deprecations\n",
            " 45%|████▌     | 36/80 [00:06<00:07,  5.97it/s]/usr/local/lib/python3.7/dist-packages/ipykernel_launcher.py:28: DeprecationWarning: `np.int` is a deprecated alias for the builtin `int`. To silence this warning, use `int` by itself. Doing this will not modify any behavior and is safe. When replacing `np.int`, you may wish to use e.g. `np.int64` or `np.int32` to specify the precision. If you wish to review your current use, check the release note link for additional information.\n",
            "Deprecated in NumPy 1.20; for more details and guidance: https://numpy.org/devdocs/release/1.20.0-notes.html#deprecations\n",
            " 46%|████▋     | 37/80 [00:06<00:07,  5.98it/s]/usr/local/lib/python3.7/dist-packages/ipykernel_launcher.py:28: DeprecationWarning: `np.int` is a deprecated alias for the builtin `int`. To silence this warning, use `int` by itself. Doing this will not modify any behavior and is safe. When replacing `np.int`, you may wish to use e.g. `np.int64` or `np.int32` to specify the precision. If you wish to review your current use, check the release note link for additional information.\n",
            "Deprecated in NumPy 1.20; for more details and guidance: https://numpy.org/devdocs/release/1.20.0-notes.html#deprecations\n",
            " 48%|████▊     | 38/80 [00:07<00:07,  5.91it/s]/usr/local/lib/python3.7/dist-packages/ipykernel_launcher.py:28: DeprecationWarning: `np.int` is a deprecated alias for the builtin `int`. To silence this warning, use `int` by itself. Doing this will not modify any behavior and is safe. When replacing `np.int`, you may wish to use e.g. `np.int64` or `np.int32` to specify the precision. If you wish to review your current use, check the release note link for additional information.\n",
            "Deprecated in NumPy 1.20; for more details and guidance: https://numpy.org/devdocs/release/1.20.0-notes.html#deprecations\n",
            " 49%|████▉     | 39/80 [00:07<00:06,  5.90it/s]/usr/local/lib/python3.7/dist-packages/ipykernel_launcher.py:28: DeprecationWarning: `np.int` is a deprecated alias for the builtin `int`. To silence this warning, use `int` by itself. Doing this will not modify any behavior and is safe. When replacing `np.int`, you may wish to use e.g. `np.int64` or `np.int32` to specify the precision. If you wish to review your current use, check the release note link for additional information.\n",
            "Deprecated in NumPy 1.20; for more details and guidance: https://numpy.org/devdocs/release/1.20.0-notes.html#deprecations\n",
            " 50%|█████     | 40/80 [00:07<00:06,  5.98it/s]/usr/local/lib/python3.7/dist-packages/ipykernel_launcher.py:28: DeprecationWarning: `np.int` is a deprecated alias for the builtin `int`. To silence this warning, use `int` by itself. Doing this will not modify any behavior and is safe. When replacing `np.int`, you may wish to use e.g. `np.int64` or `np.int32` to specify the precision. If you wish to review your current use, check the release note link for additional information.\n",
            "Deprecated in NumPy 1.20; for more details and guidance: https://numpy.org/devdocs/release/1.20.0-notes.html#deprecations\n",
            " 51%|█████▏    | 41/80 [00:07<00:06,  5.95it/s]/usr/local/lib/python3.7/dist-packages/ipykernel_launcher.py:28: DeprecationWarning: `np.int` is a deprecated alias for the builtin `int`. To silence this warning, use `int` by itself. Doing this will not modify any behavior and is safe. When replacing `np.int`, you may wish to use e.g. `np.int64` or `np.int32` to specify the precision. If you wish to review your current use, check the release note link for additional information.\n",
            "Deprecated in NumPy 1.20; for more details and guidance: https://numpy.org/devdocs/release/1.20.0-notes.html#deprecations\n",
            " 52%|█████▎    | 42/80 [00:07<00:06,  6.02it/s]/usr/local/lib/python3.7/dist-packages/ipykernel_launcher.py:28: DeprecationWarning: `np.int` is a deprecated alias for the builtin `int`. To silence this warning, use `int` by itself. Doing this will not modify any behavior and is safe. When replacing `np.int`, you may wish to use e.g. `np.int64` or `np.int32` to specify the precision. If you wish to review your current use, check the release note link for additional information.\n",
            "Deprecated in NumPy 1.20; for more details and guidance: https://numpy.org/devdocs/release/1.20.0-notes.html#deprecations\n",
            " 54%|█████▍    | 43/80 [00:07<00:06,  6.08it/s]/usr/local/lib/python3.7/dist-packages/ipykernel_launcher.py:28: DeprecationWarning: `np.int` is a deprecated alias for the builtin `int`. To silence this warning, use `int` by itself. Doing this will not modify any behavior and is safe. When replacing `np.int`, you may wish to use e.g. `np.int64` or `np.int32` to specify the precision. If you wish to review your current use, check the release note link for additional information.\n",
            "Deprecated in NumPy 1.20; for more details and guidance: https://numpy.org/devdocs/release/1.20.0-notes.html#deprecations\n",
            " 55%|█████▌    | 44/80 [00:08<00:06,  5.98it/s]/usr/local/lib/python3.7/dist-packages/ipykernel_launcher.py:28: DeprecationWarning: `np.int` is a deprecated alias for the builtin `int`. To silence this warning, use `int` by itself. Doing this will not modify any behavior and is safe. When replacing `np.int`, you may wish to use e.g. `np.int64` or `np.int32` to specify the precision. If you wish to review your current use, check the release note link for additional information.\n",
            "Deprecated in NumPy 1.20; for more details and guidance: https://numpy.org/devdocs/release/1.20.0-notes.html#deprecations\n",
            " 56%|█████▋    | 45/80 [00:08<00:05,  5.96it/s]/usr/local/lib/python3.7/dist-packages/ipykernel_launcher.py:28: DeprecationWarning: `np.int` is a deprecated alias for the builtin `int`. To silence this warning, use `int` by itself. Doing this will not modify any behavior and is safe. When replacing `np.int`, you may wish to use e.g. `np.int64` or `np.int32` to specify the precision. If you wish to review your current use, check the release note link for additional information.\n",
            "Deprecated in NumPy 1.20; for more details and guidance: https://numpy.org/devdocs/release/1.20.0-notes.html#deprecations\n",
            " 57%|█████▊    | 46/80 [00:08<00:05,  5.97it/s]/usr/local/lib/python3.7/dist-packages/ipykernel_launcher.py:28: DeprecationWarning: `np.int` is a deprecated alias for the builtin `int`. To silence this warning, use `int` by itself. Doing this will not modify any behavior and is safe. When replacing `np.int`, you may wish to use e.g. `np.int64` or `np.int32` to specify the precision. If you wish to review your current use, check the release note link for additional information.\n",
            "Deprecated in NumPy 1.20; for more details and guidance: https://numpy.org/devdocs/release/1.20.0-notes.html#deprecations\n",
            " 59%|█████▉    | 47/80 [00:08<00:05,  6.03it/s]/usr/local/lib/python3.7/dist-packages/ipykernel_launcher.py:28: DeprecationWarning: `np.int` is a deprecated alias for the builtin `int`. To silence this warning, use `int` by itself. Doing this will not modify any behavior and is safe. When replacing `np.int`, you may wish to use e.g. `np.int64` or `np.int32` to specify the precision. If you wish to review your current use, check the release note link for additional information.\n",
            "Deprecated in NumPy 1.20; for more details and guidance: https://numpy.org/devdocs/release/1.20.0-notes.html#deprecations\n",
            " 60%|██████    | 48/80 [00:08<00:05,  5.98it/s]/usr/local/lib/python3.7/dist-packages/ipykernel_launcher.py:28: DeprecationWarning: `np.int` is a deprecated alias for the builtin `int`. To silence this warning, use `int` by itself. Doing this will not modify any behavior and is safe. When replacing `np.int`, you may wish to use e.g. `np.int64` or `np.int32` to specify the precision. If you wish to review your current use, check the release note link for additional information.\n",
            "Deprecated in NumPy 1.20; for more details and guidance: https://numpy.org/devdocs/release/1.20.0-notes.html#deprecations\n",
            " 61%|██████▏   | 49/80 [00:08<00:05,  6.03it/s]/usr/local/lib/python3.7/dist-packages/ipykernel_launcher.py:28: DeprecationWarning: `np.int` is a deprecated alias for the builtin `int`. To silence this warning, use `int` by itself. Doing this will not modify any behavior and is safe. When replacing `np.int`, you may wish to use e.g. `np.int64` or `np.int32` to specify the precision. If you wish to review your current use, check the release note link for additional information.\n",
            "Deprecated in NumPy 1.20; for more details and guidance: https://numpy.org/devdocs/release/1.20.0-notes.html#deprecations\n",
            " 62%|██████▎   | 50/80 [00:09<00:04,  6.04it/s]/usr/local/lib/python3.7/dist-packages/ipykernel_launcher.py:28: DeprecationWarning: `np.int` is a deprecated alias for the builtin `int`. To silence this warning, use `int` by itself. Doing this will not modify any behavior and is safe. When replacing `np.int`, you may wish to use e.g. `np.int64` or `np.int32` to specify the precision. If you wish to review your current use, check the release note link for additional information.\n",
            "Deprecated in NumPy 1.20; for more details and guidance: https://numpy.org/devdocs/release/1.20.0-notes.html#deprecations\n",
            " 64%|██████▍   | 51/80 [00:09<00:04,  5.98it/s]/usr/local/lib/python3.7/dist-packages/ipykernel_launcher.py:28: DeprecationWarning: `np.int` is a deprecated alias for the builtin `int`. To silence this warning, use `int` by itself. Doing this will not modify any behavior and is safe. When replacing `np.int`, you may wish to use e.g. `np.int64` or `np.int32` to specify the precision. If you wish to review your current use, check the release note link for additional information.\n",
            "Deprecated in NumPy 1.20; for more details and guidance: https://numpy.org/devdocs/release/1.20.0-notes.html#deprecations\n",
            " 65%|██████▌   | 52/80 [00:09<00:04,  6.02it/s]/usr/local/lib/python3.7/dist-packages/ipykernel_launcher.py:28: DeprecationWarning: `np.int` is a deprecated alias for the builtin `int`. To silence this warning, use `int` by itself. Doing this will not modify any behavior and is safe. When replacing `np.int`, you may wish to use e.g. `np.int64` or `np.int32` to specify the precision. If you wish to review your current use, check the release note link for additional information.\n",
            "Deprecated in NumPy 1.20; for more details and guidance: https://numpy.org/devdocs/release/1.20.0-notes.html#deprecations\n",
            " 66%|██████▋   | 53/80 [00:09<00:04,  6.10it/s]/usr/local/lib/python3.7/dist-packages/ipykernel_launcher.py:28: DeprecationWarning: `np.int` is a deprecated alias for the builtin `int`. To silence this warning, use `int` by itself. Doing this will not modify any behavior and is safe. When replacing `np.int`, you may wish to use e.g. `np.int64` or `np.int32` to specify the precision. If you wish to review your current use, check the release note link for additional information.\n",
            "Deprecated in NumPy 1.20; for more details and guidance: https://numpy.org/devdocs/release/1.20.0-notes.html#deprecations\n",
            " 68%|██████▊   | 54/80 [00:09<00:04,  6.08it/s]/usr/local/lib/python3.7/dist-packages/ipykernel_launcher.py:28: DeprecationWarning: `np.int` is a deprecated alias for the builtin `int`. To silence this warning, use `int` by itself. Doing this will not modify any behavior and is safe. When replacing `np.int`, you may wish to use e.g. `np.int64` or `np.int32` to specify the precision. If you wish to review your current use, check the release note link for additional information.\n",
            "Deprecated in NumPy 1.20; for more details and guidance: https://numpy.org/devdocs/release/1.20.0-notes.html#deprecations\n",
            " 69%|██████▉   | 55/80 [00:09<00:04,  6.08it/s]/usr/local/lib/python3.7/dist-packages/ipykernel_launcher.py:28: DeprecationWarning: `np.int` is a deprecated alias for the builtin `int`. To silence this warning, use `int` by itself. Doing this will not modify any behavior and is safe. When replacing `np.int`, you may wish to use e.g. `np.int64` or `np.int32` to specify the precision. If you wish to review your current use, check the release note link for additional information.\n",
            "Deprecated in NumPy 1.20; for more details and guidance: https://numpy.org/devdocs/release/1.20.0-notes.html#deprecations\n",
            " 70%|███████   | 56/80 [00:10<00:03,  6.18it/s]/usr/local/lib/python3.7/dist-packages/ipykernel_launcher.py:28: DeprecationWarning: `np.int` is a deprecated alias for the builtin `int`. To silence this warning, use `int` by itself. Doing this will not modify any behavior and is safe. When replacing `np.int`, you may wish to use e.g. `np.int64` or `np.int32` to specify the precision. If you wish to review your current use, check the release note link for additional information.\n",
            "Deprecated in NumPy 1.20; for more details and guidance: https://numpy.org/devdocs/release/1.20.0-notes.html#deprecations\n",
            " 71%|███████▏  | 57/80 [00:10<00:03,  6.09it/s]/usr/local/lib/python3.7/dist-packages/ipykernel_launcher.py:28: DeprecationWarning: `np.int` is a deprecated alias for the builtin `int`. To silence this warning, use `int` by itself. Doing this will not modify any behavior and is safe. When replacing `np.int`, you may wish to use e.g. `np.int64` or `np.int32` to specify the precision. If you wish to review your current use, check the release note link for additional information.\n",
            "Deprecated in NumPy 1.20; for more details and guidance: https://numpy.org/devdocs/release/1.20.0-notes.html#deprecations\n",
            " 72%|███████▎  | 58/80 [00:10<00:03,  6.18it/s]/usr/local/lib/python3.7/dist-packages/ipykernel_launcher.py:28: DeprecationWarning: `np.int` is a deprecated alias for the builtin `int`. To silence this warning, use `int` by itself. Doing this will not modify any behavior and is safe. When replacing `np.int`, you may wish to use e.g. `np.int64` or `np.int32` to specify the precision. If you wish to review your current use, check the release note link for additional information.\n",
            "Deprecated in NumPy 1.20; for more details and guidance: https://numpy.org/devdocs/release/1.20.0-notes.html#deprecations\n",
            " 74%|███████▍  | 59/80 [00:10<00:03,  6.14it/s]/usr/local/lib/python3.7/dist-packages/ipykernel_launcher.py:28: DeprecationWarning: `np.int` is a deprecated alias for the builtin `int`. To silence this warning, use `int` by itself. Doing this will not modify any behavior and is safe. When replacing `np.int`, you may wish to use e.g. `np.int64` or `np.int32` to specify the precision. If you wish to review your current use, check the release note link for additional information.\n",
            "Deprecated in NumPy 1.20; for more details and guidance: https://numpy.org/devdocs/release/1.20.0-notes.html#deprecations\n",
            " 75%|███████▌  | 60/80 [00:10<00:03,  5.98it/s]/usr/local/lib/python3.7/dist-packages/ipykernel_launcher.py:28: DeprecationWarning: `np.int` is a deprecated alias for the builtin `int`. To silence this warning, use `int` by itself. Doing this will not modify any behavior and is safe. When replacing `np.int`, you may wish to use e.g. `np.int64` or `np.int32` to specify the precision. If you wish to review your current use, check the release note link for additional information.\n",
            "Deprecated in NumPy 1.20; for more details and guidance: https://numpy.org/devdocs/release/1.20.0-notes.html#deprecations\n",
            " 76%|███████▋  | 61/80 [00:10<00:03,  5.97it/s]/usr/local/lib/python3.7/dist-packages/ipykernel_launcher.py:28: DeprecationWarning: `np.int` is a deprecated alias for the builtin `int`. To silence this warning, use `int` by itself. Doing this will not modify any behavior and is safe. When replacing `np.int`, you may wish to use e.g. `np.int64` or `np.int32` to specify the precision. If you wish to review your current use, check the release note link for additional information.\n",
            "Deprecated in NumPy 1.20; for more details and guidance: https://numpy.org/devdocs/release/1.20.0-notes.html#deprecations\n",
            " 78%|███████▊  | 62/80 [00:11<00:02,  6.05it/s]/usr/local/lib/python3.7/dist-packages/ipykernel_launcher.py:28: DeprecationWarning: `np.int` is a deprecated alias for the builtin `int`. To silence this warning, use `int` by itself. Doing this will not modify any behavior and is safe. When replacing `np.int`, you may wish to use e.g. `np.int64` or `np.int32` to specify the precision. If you wish to review your current use, check the release note link for additional information.\n",
            "Deprecated in NumPy 1.20; for more details and guidance: https://numpy.org/devdocs/release/1.20.0-notes.html#deprecations\n",
            " 79%|███████▉  | 63/80 [00:11<00:02,  6.12it/s]/usr/local/lib/python3.7/dist-packages/ipykernel_launcher.py:28: DeprecationWarning: `np.int` is a deprecated alias for the builtin `int`. To silence this warning, use `int` by itself. Doing this will not modify any behavior and is safe. When replacing `np.int`, you may wish to use e.g. `np.int64` or `np.int32` to specify the precision. If you wish to review your current use, check the release note link for additional information.\n",
            "Deprecated in NumPy 1.20; for more details and guidance: https://numpy.org/devdocs/release/1.20.0-notes.html#deprecations\n",
            " 80%|████████  | 64/80 [00:11<00:02,  6.09it/s]/usr/local/lib/python3.7/dist-packages/ipykernel_launcher.py:28: DeprecationWarning: `np.int` is a deprecated alias for the builtin `int`. To silence this warning, use `int` by itself. Doing this will not modify any behavior and is safe. When replacing `np.int`, you may wish to use e.g. `np.int64` or `np.int32` to specify the precision. If you wish to review your current use, check the release note link for additional information.\n",
            "Deprecated in NumPy 1.20; for more details and guidance: https://numpy.org/devdocs/release/1.20.0-notes.html#deprecations\n",
            " 81%|████████▏ | 65/80 [00:11<00:02,  6.12it/s]/usr/local/lib/python3.7/dist-packages/ipykernel_launcher.py:28: DeprecationWarning: `np.int` is a deprecated alias for the builtin `int`. To silence this warning, use `int` by itself. Doing this will not modify any behavior and is safe. When replacing `np.int`, you may wish to use e.g. `np.int64` or `np.int32` to specify the precision. If you wish to review your current use, check the release note link for additional information.\n",
            "Deprecated in NumPy 1.20; for more details and guidance: https://numpy.org/devdocs/release/1.20.0-notes.html#deprecations\n",
            " 82%|████████▎ | 66/80 [00:11<00:02,  6.11it/s]/usr/local/lib/python3.7/dist-packages/ipykernel_launcher.py:28: DeprecationWarning: `np.int` is a deprecated alias for the builtin `int`. To silence this warning, use `int` by itself. Doing this will not modify any behavior and is safe. When replacing `np.int`, you may wish to use e.g. `np.int64` or `np.int32` to specify the precision. If you wish to review your current use, check the release note link for additional information.\n",
            "Deprecated in NumPy 1.20; for more details and guidance: https://numpy.org/devdocs/release/1.20.0-notes.html#deprecations\n",
            " 84%|████████▍ | 67/80 [00:11<00:02,  6.01it/s]/usr/local/lib/python3.7/dist-packages/ipykernel_launcher.py:28: DeprecationWarning: `np.int` is a deprecated alias for the builtin `int`. To silence this warning, use `int` by itself. Doing this will not modify any behavior and is safe. When replacing `np.int`, you may wish to use e.g. `np.int64` or `np.int32` to specify the precision. If you wish to review your current use, check the release note link for additional information.\n",
            "Deprecated in NumPy 1.20; for more details and guidance: https://numpy.org/devdocs/release/1.20.0-notes.html#deprecations\n",
            "/usr/local/lib/python3.7/dist-packages/sklearn/metrics/_classification.py:1318: UndefinedMetricWarning: Precision is ill-defined and being set to 0.0 due to no predicted samples. Use `zero_division` parameter to control this behavior.\n",
            "  _warn_prf(average, modifier, msg_start, len(result))\n",
            " 85%|████████▌ | 68/80 [00:12<00:01,  6.06it/s]/usr/local/lib/python3.7/dist-packages/ipykernel_launcher.py:28: DeprecationWarning: `np.int` is a deprecated alias for the builtin `int`. To silence this warning, use `int` by itself. Doing this will not modify any behavior and is safe. When replacing `np.int`, you may wish to use e.g. `np.int64` or `np.int32` to specify the precision. If you wish to review your current use, check the release note link for additional information.\n",
            "Deprecated in NumPy 1.20; for more details and guidance: https://numpy.org/devdocs/release/1.20.0-notes.html#deprecations\n",
            "/usr/local/lib/python3.7/dist-packages/sklearn/metrics/_classification.py:1318: UndefinedMetricWarning: Precision is ill-defined and being set to 0.0 due to no predicted samples. Use `zero_division` parameter to control this behavior.\n",
            "  _warn_prf(average, modifier, msg_start, len(result))\n",
            " 86%|████████▋ | 69/80 [00:12<00:01,  6.12it/s]/usr/local/lib/python3.7/dist-packages/ipykernel_launcher.py:28: DeprecationWarning: `np.int` is a deprecated alias for the builtin `int`. To silence this warning, use `int` by itself. Doing this will not modify any behavior and is safe. When replacing `np.int`, you may wish to use e.g. `np.int64` or `np.int32` to specify the precision. If you wish to review your current use, check the release note link for additional information.\n",
            "Deprecated in NumPy 1.20; for more details and guidance: https://numpy.org/devdocs/release/1.20.0-notes.html#deprecations\n",
            " 88%|████████▊ | 70/80 [00:12<00:01,  6.09it/s]/usr/local/lib/python3.7/dist-packages/ipykernel_launcher.py:28: DeprecationWarning: `np.int` is a deprecated alias for the builtin `int`. To silence this warning, use `int` by itself. Doing this will not modify any behavior and is safe. When replacing `np.int`, you may wish to use e.g. `np.int64` or `np.int32` to specify the precision. If you wish to review your current use, check the release note link for additional information.\n",
            "Deprecated in NumPy 1.20; for more details and guidance: https://numpy.org/devdocs/release/1.20.0-notes.html#deprecations\n",
            " 89%|████████▉ | 71/80 [00:12<00:01,  6.09it/s]/usr/local/lib/python3.7/dist-packages/ipykernel_launcher.py:28: DeprecationWarning: `np.int` is a deprecated alias for the builtin `int`. To silence this warning, use `int` by itself. Doing this will not modify any behavior and is safe. When replacing `np.int`, you may wish to use e.g. `np.int64` or `np.int32` to specify the precision. If you wish to review your current use, check the release note link for additional information.\n",
            "Deprecated in NumPy 1.20; for more details and guidance: https://numpy.org/devdocs/release/1.20.0-notes.html#deprecations\n",
            "/usr/local/lib/python3.7/dist-packages/sklearn/metrics/_classification.py:1318: UndefinedMetricWarning: Precision is ill-defined and being set to 0.0 due to no predicted samples. Use `zero_division` parameter to control this behavior.\n",
            "  _warn_prf(average, modifier, msg_start, len(result))\n",
            " 90%|█████████ | 72/80 [00:12<00:01,  6.14it/s]/usr/local/lib/python3.7/dist-packages/ipykernel_launcher.py:28: DeprecationWarning: `np.int` is a deprecated alias for the builtin `int`. To silence this warning, use `int` by itself. Doing this will not modify any behavior and is safe. When replacing `np.int`, you may wish to use e.g. `np.int64` or `np.int32` to specify the precision. If you wish to review your current use, check the release note link for additional information.\n",
            "Deprecated in NumPy 1.20; for more details and guidance: https://numpy.org/devdocs/release/1.20.0-notes.html#deprecations\n",
            " 91%|█████████▏| 73/80 [00:12<00:01,  6.11it/s]/usr/local/lib/python3.7/dist-packages/ipykernel_launcher.py:28: DeprecationWarning: `np.int` is a deprecated alias for the builtin `int`. To silence this warning, use `int` by itself. Doing this will not modify any behavior and is safe. When replacing `np.int`, you may wish to use e.g. `np.int64` or `np.int32` to specify the precision. If you wish to review your current use, check the release note link for additional information.\n",
            "Deprecated in NumPy 1.20; for more details and guidance: https://numpy.org/devdocs/release/1.20.0-notes.html#deprecations\n",
            " 92%|█████████▎| 74/80 [00:12<00:00,  6.15it/s]/usr/local/lib/python3.7/dist-packages/ipykernel_launcher.py:28: DeprecationWarning: `np.int` is a deprecated alias for the builtin `int`. To silence this warning, use `int` by itself. Doing this will not modify any behavior and is safe. When replacing `np.int`, you may wish to use e.g. `np.int64` or `np.int32` to specify the precision. If you wish to review your current use, check the release note link for additional information.\n",
            "Deprecated in NumPy 1.20; for more details and guidance: https://numpy.org/devdocs/release/1.20.0-notes.html#deprecations\n",
            " 94%|█████████▍| 75/80 [00:13<00:00,  6.12it/s]/usr/local/lib/python3.7/dist-packages/ipykernel_launcher.py:28: DeprecationWarning: `np.int` is a deprecated alias for the builtin `int`. To silence this warning, use `int` by itself. Doing this will not modify any behavior and is safe. When replacing `np.int`, you may wish to use e.g. `np.int64` or `np.int32` to specify the precision. If you wish to review your current use, check the release note link for additional information.\n",
            "Deprecated in NumPy 1.20; for more details and guidance: https://numpy.org/devdocs/release/1.20.0-notes.html#deprecations\n",
            " 95%|█████████▌| 76/80 [00:13<00:00,  6.06it/s]/usr/local/lib/python3.7/dist-packages/ipykernel_launcher.py:28: DeprecationWarning: `np.int` is a deprecated alias for the builtin `int`. To silence this warning, use `int` by itself. Doing this will not modify any behavior and is safe. When replacing `np.int`, you may wish to use e.g. `np.int64` or `np.int32` to specify the precision. If you wish to review your current use, check the release note link for additional information.\n",
            "Deprecated in NumPy 1.20; for more details and guidance: https://numpy.org/devdocs/release/1.20.0-notes.html#deprecations\n",
            " 96%|█████████▋| 77/80 [00:13<00:00,  5.99it/s]/usr/local/lib/python3.7/dist-packages/ipykernel_launcher.py:28: DeprecationWarning: `np.int` is a deprecated alias for the builtin `int`. To silence this warning, use `int` by itself. Doing this will not modify any behavior and is safe. When replacing `np.int`, you may wish to use e.g. `np.int64` or `np.int32` to specify the precision. If you wish to review your current use, check the release note link for additional information.\n",
            "Deprecated in NumPy 1.20; for more details and guidance: https://numpy.org/devdocs/release/1.20.0-notes.html#deprecations\n",
            "/usr/local/lib/python3.7/dist-packages/sklearn/metrics/_classification.py:1318: UndefinedMetricWarning: Precision is ill-defined and being set to 0.0 due to no predicted samples. Use `zero_division` parameter to control this behavior.\n",
            "  _warn_prf(average, modifier, msg_start, len(result))\n",
            " 98%|█████████▊| 78/80 [00:13<00:00,  6.04it/s]/usr/local/lib/python3.7/dist-packages/ipykernel_launcher.py:28: DeprecationWarning: `np.int` is a deprecated alias for the builtin `int`. To silence this warning, use `int` by itself. Doing this will not modify any behavior and is safe. When replacing `np.int`, you may wish to use e.g. `np.int64` or `np.int32` to specify the precision. If you wish to review your current use, check the release note link for additional information.\n",
            "Deprecated in NumPy 1.20; for more details and guidance: https://numpy.org/devdocs/release/1.20.0-notes.html#deprecations\n",
            " 99%|█████████▉| 79/80 [00:13<00:00,  6.01it/s]/usr/local/lib/python3.7/dist-packages/ipykernel_launcher.py:28: DeprecationWarning: `np.int` is a deprecated alias for the builtin `int`. To silence this warning, use `int` by itself. Doing this will not modify any behavior and is safe. When replacing `np.int`, you may wish to use e.g. `np.int64` or `np.int32` to specify the precision. If you wish to review your current use, check the release note link for additional information.\n",
            "Deprecated in NumPy 1.20; for more details and guidance: https://numpy.org/devdocs/release/1.20.0-notes.html#deprecations\n",
            "100%|██████████| 80/80 [00:13<00:00,  5.72it/s]"
          ]
        },
        {
          "name": "stdout",
          "output_type": "stream",
          "text": [
            "Accuracy: 0.97203\n",
            "F1: 0.57619\n",
            "Jaccard: 0.44757\n",
            "Recall: 0.52438\n",
            "Precision: 0.71200\n",
            "AUC: 0.92468\n",
            "Dice Coeff: 0.49870\n"
          ]
        },
        {
          "name": "stderr",
          "output_type": "stream",
          "text": [
            "\n"
          ]
        }
      ],
      "source": [
        "from copy import deepcopy\n",
        "from sklearn.metrics import roc_auc_score\n",
        "# prediction_path = \"predictions\"\n",
        "\n",
        "\"\"\" Save the results in this folder \"\"\"\n",
        "# create_dir(\"results_sunil_test\")\n",
        "# create_dir(prediction_path)\n",
        "\n",
        "\"\"\" Load the model \"\"\"\n",
        "# with CustomObjectScope({'iou': iou, 'dice_coef': dice_coef}):\n",
        "model_path = os.path.join(f\"{model_dir}\", \"model.h5\")\n",
        "\n",
        "model = load_model(model_path, compile=False)\n",
        "\n",
        "\"\"\" Load the dataset \"\"\"\n",
        "dataset_path = os.path.join(f\"{data_path}/{split_name}\", \"test\")\n",
        "test_x, test_y = load_data(dataset_path)\n",
        "\n",
        "\"\"\" Make the prediction and calculate the metrics values \"\"\"\n",
        "SCORE = []\n",
        "for x, y in tqdm(zip(test_x, test_y), total=len(test_x)):\n",
        "    \"\"\" Extracting name \"\"\"\n",
        "    name = x.split(\"/\")[-1].split(\".\")[0]\n",
        "\n",
        "    \"\"\" Read the image and mask \"\"\"\n",
        "    ori_x, x = read_image(x)\n",
        "    ori_y, y = read_mask(y)\n",
        "    y = y.astype(np.int)\n",
        "\n",
        "    \"\"\" Prediction \"\"\"\n",
        "    y_pred = model.predict(np.expand_dims(x, axis=0))[0]\n",
        "    np.save(f\"{prediction_np_path}/{name}.npy\", y_pred)\n",
        "    y_prob = deepcopy(y_pred).flatten()\n",
        "    y_pred = y_pred > 0.5\n",
        "    y_pred = y_pred.astype(np.int32)\n",
        "    y_pred = np.squeeze(y_pred, axis=-1)\n",
        "\n",
        "    \"\"\" Saving the images \"\"\"\n",
        "    save_image_path = f\"{results_path}/{name}.png\"\n",
        "#    print(ori_x.shape, ori_y.shape, y_pred.shape)\n",
        "    save_results(ori_x, ori_y, y_pred, save_image_path)\n",
        "    cv2.imwrite(f\"{prediction_path}/{name}.png\", y_pred * 255)\n",
        "    \n",
        "\n",
        "    \"\"\" Flatten the array \"\"\"\n",
        "    y = y.flatten()\n",
        "    y_pred = y_pred.flatten()\n",
        "\n",
        "    \"\"\" Calculate the metrics \"\"\"\n",
        "    acc_value = accuracy_score(y, y_pred)\n",
        "    f1_value = f1_score(y, y_pred, labels=[0, 1], average=\"binary\")\n",
        "    jac_value = jaccard_score(y, y_pred, labels=[0, 1], average=\"binary\")\n",
        "    recall_value = recall_score(y, y_pred, labels=[0, 1], average=\"binary\")\n",
        "    precision_value = precision_score(y, y_pred, labels=[0, 1], average=\"binary\")\n",
        "    if np.sum(y) == 0 or np.sum(y) == H * W:\n",
        "        auc_value = 1\n",
        "    else:\n",
        "        auc_value = roc_auc_score(y, y_prob)\n",
        "    dice_value = dice_coef(y.astype(np.float64), y_prob)\n",
        "\n",
        "    SCORE.append([name, acc_value, f1_value, jac_value, recall_value, precision_value, auc_value, dice_value])\n",
        "\n",
        "score = [s[1:] for s in SCORE]\n",
        "score = np.mean(score, axis=0)\n",
        "print(f\"Accuracy: {score[0]:0.5f}\")\n",
        "print(f\"F1: {score[1]:0.5f}\")\n",
        "print(f\"Jaccard: {score[2]:0.5f}\")\n",
        "print(f\"Recall: {score[3]:0.5f}\")\n",
        "print(f\"Precision: {score[4]:0.5f}\")\n",
        "print(f\"AUC: {score[5]:0.5f}\")\n",
        "print(f\"Dice Coeff: {score[6]:0.5f}\")\n",
        "\"\"\" Saving \"\"\"\n",
        "df = pd.DataFrame(SCORE, columns=[\"Image\", \"Acc\", \"F1\", \"Jaccard\", \"Recall\", \"Precision\", \"AUC\", \"Dice Coeff\"])\n",
        "df.to_csv(f\"{results_path}/score.csv\")"
      ]
    },
    {
      "cell_type": "markdown",
      "metadata": {
        "id": "PzqpDXW0Kcyu"
      },
      "source": [
        "# Reconstruct original image"
      ]
    },
    {
      "cell_type": "code",
      "execution_count": null,
      "metadata": {
        "colab": {
          "background_save": true
        },
        "id": "NJaxhmgEvs9i",
        "outputId": "5273c368-ab61-4fa5-c3c9-cd9fd24ca64a"
      },
      "outputs": [
        {
          "data": {
            "application/vnd.google.colaboratory.intrinsic+json": {
              "type": "string"
            },
            "text/plain": [
              "'/content/datasets/chase_db_256_256_dice_bce_0_4__0_4_1//predictions_np/'"
            ]
          },
          "execution_count": null,
          "metadata": {},
          "output_type": "execute_result"
        }
      ],
      "source": [
        "prediction_np_path"
      ]
    },
    {
      "cell_type": "code",
      "execution_count": null,
      "metadata": {
        "colab": {
          "background_save": true
        },
        "id": "gwjhBM8y1Bf_"
      },
      "outputs": [],
      "source": [
        "from glob import glob"
      ]
    },
    {
      "cell_type": "code",
      "execution_count": null,
      "metadata": {
        "colab": {
          "background_save": true
        },
        "id": "s7p1_eLnI51P",
        "outputId": "054bb9dc-9eed-415d-f215-cb299f4b2e2e"
      },
      "outputs": [
        {
          "name": "stdout",
          "output_type": "stream",
          "text": [
            "file /content/datasets/chase_db_256_256_dice_bce_0_4__0_4_1//predictions_np/_Image_11L_0.npy\n",
            "Image_11L 0\n",
            "file /content/datasets/chase_db_256_256_dice_bce_0_4__0_4_1//predictions_np/_Image_13L_0.npy\n",
            "Image_13L 0\n",
            "file /content/datasets/chase_db_256_256_dice_bce_0_4__0_4_1//predictions_np/_Image_12L_3.npy\n",
            "Image_12L 3\n",
            "file /content/datasets/chase_db_256_256_dice_bce_0_4__0_4_1//predictions_np/_Image_12R_12.npy\n",
            "Image_12R 12\n",
            "file /content/datasets/chase_db_256_256_dice_bce_0_4__0_4_1//predictions_np/_Image_11R_4.npy\n",
            "Image_11R 4\n",
            "file /content/datasets/chase_db_256_256_dice_bce_0_4__0_4_1//predictions_np/_Image_12R_3.npy\n",
            "Image_12R 3\n",
            "file /content/datasets/chase_db_256_256_dice_bce_0_4__0_4_1//predictions_np/_Image_11R_1.npy\n",
            "Image_11R 1\n",
            "file /content/datasets/chase_db_256_256_dice_bce_0_4__0_4_1//predictions_np/_Image_13L_9.npy\n",
            "Image_13L 9\n",
            "file /content/datasets/chase_db_256_256_dice_bce_0_4__0_4_1//predictions_np/_Image_11L_13.npy\n",
            "Image_11L 13\n",
            "file /content/datasets/chase_db_256_256_dice_bce_0_4__0_4_1//predictions_np/_Image_11R_11.npy\n",
            "Image_11R 11\n",
            "file /content/datasets/chase_db_256_256_dice_bce_0_4__0_4_1//predictions_np/_Image_12R_9.npy\n",
            "Image_12R 9\n",
            "file /content/datasets/chase_db_256_256_dice_bce_0_4__0_4_1//predictions_np/_Image_13L_2.npy\n",
            "Image_13L 2\n",
            "file /content/datasets/chase_db_256_256_dice_bce_0_4__0_4_1//predictions_np/_Image_12R_10.npy\n",
            "Image_12R 10\n",
            "file /content/datasets/chase_db_256_256_dice_bce_0_4__0_4_1//predictions_np/_Image_11R_0.npy\n",
            "Image_11R 0\n",
            "file /content/datasets/chase_db_256_256_dice_bce_0_4__0_4_1//predictions_np/_Image_12R_4.npy\n",
            "Image_12R 4\n",
            "file /content/datasets/chase_db_256_256_dice_bce_0_4__0_4_1//predictions_np/_Image_12L_5.npy\n",
            "Image_12L 5\n",
            "file /content/datasets/chase_db_256_256_dice_bce_0_4__0_4_1//predictions_np/_Image_13L_3.npy\n",
            "Image_13L 3\n",
            "file /content/datasets/chase_db_256_256_dice_bce_0_4__0_4_1//predictions_np/_Image_11L_10.npy\n",
            "Image_11L 10\n",
            "file /content/datasets/chase_db_256_256_dice_bce_0_4__0_4_1//predictions_np/_Image_13L_6.npy\n",
            "Image_13L 6\n",
            "file /content/datasets/chase_db_256_256_dice_bce_0_4__0_4_1//predictions_np/_Image_11L_12.npy\n",
            "Image_11L 12\n",
            "file /content/datasets/chase_db_256_256_dice_bce_0_4__0_4_1//predictions_np/_Image_13L_12.npy\n",
            "Image_13L 12\n",
            "file /content/datasets/chase_db_256_256_dice_bce_0_4__0_4_1//predictions_np/_Image_13L_8.npy\n",
            "Image_13L 8\n",
            "file /content/datasets/chase_db_256_256_dice_bce_0_4__0_4_1//predictions_np/_Image_11L_1.npy\n",
            "Image_11L 1\n",
            "file /content/datasets/chase_db_256_256_dice_bce_0_4__0_4_1//predictions_np/_Image_12R_11.npy\n",
            "Image_12R 11\n",
            "file /content/datasets/chase_db_256_256_dice_bce_0_4__0_4_1//predictions_np/_Image_13L_13.npy\n",
            "Image_13L 13\n",
            "file /content/datasets/chase_db_256_256_dice_bce_0_4__0_4_1//predictions_np/_Image_12R_6.npy\n",
            "Image_12R 6\n",
            "file /content/datasets/chase_db_256_256_dice_bce_0_4__0_4_1//predictions_np/_Image_12L_1.npy\n",
            "Image_12L 1\n",
            "file /content/datasets/chase_db_256_256_dice_bce_0_4__0_4_1//predictions_np/_Image_12L_0.npy\n",
            "Image_12L 0\n",
            "file /content/datasets/chase_db_256_256_dice_bce_0_4__0_4_1//predictions_np/_Image_11L_11.npy\n",
            "Image_11L 11\n",
            "file /content/datasets/chase_db_256_256_dice_bce_0_4__0_4_1//predictions_np/_Image_12L_9.npy\n",
            "Image_12L 9\n",
            "file /content/datasets/chase_db_256_256_dice_bce_0_4__0_4_1//predictions_np/_Image_11R_3.npy\n",
            "Image_11R 3\n",
            "file /content/datasets/chase_db_256_256_dice_bce_0_4__0_4_1//predictions_np/_Image_12L_2.npy\n",
            "Image_12L 2\n",
            "file /content/datasets/chase_db_256_256_dice_bce_0_4__0_4_1//predictions_np/_Image_12L_11.npy\n",
            "Image_12L 11\n",
            "file /content/datasets/chase_db_256_256_dice_bce_0_4__0_4_1//predictions_np/_Image_12L_8.npy\n",
            "Image_12L 8\n",
            "file /content/datasets/chase_db_256_256_dice_bce_0_4__0_4_1//predictions_np/_Image_13L_7.npy\n",
            "Image_13L 7\n",
            "file /content/datasets/chase_db_256_256_dice_bce_0_4__0_4_1//predictions_np/_Image_11R_15.npy\n",
            "Image_11R 15\n",
            "file /content/datasets/chase_db_256_256_dice_bce_0_4__0_4_1//predictions_np/_Image_12L_13.npy\n",
            "Image_12L 13\n",
            "file /content/datasets/chase_db_256_256_dice_bce_0_4__0_4_1//predictions_np/_Image_13L_14.npy\n",
            "Image_13L 14\n",
            "file /content/datasets/chase_db_256_256_dice_bce_0_4__0_4_1//predictions_np/_Image_12R_5.npy\n",
            "Image_12R 5\n",
            "file /content/datasets/chase_db_256_256_dice_bce_0_4__0_4_1//predictions_np/_Image_11L_7.npy\n",
            "Image_11L 7\n",
            "file /content/datasets/chase_db_256_256_dice_bce_0_4__0_4_1//predictions_np/_Image_11L_6.npy\n",
            "Image_11L 6\n",
            "file /content/datasets/chase_db_256_256_dice_bce_0_4__0_4_1//predictions_np/_Image_12L_10.npy\n",
            "Image_12L 10\n",
            "file /content/datasets/chase_db_256_256_dice_bce_0_4__0_4_1//predictions_np/_Image_12L_15.npy\n",
            "Image_12L 15\n",
            "file /content/datasets/chase_db_256_256_dice_bce_0_4__0_4_1//predictions_np/_Image_12L_7.npy\n",
            "Image_12L 7\n",
            "file /content/datasets/chase_db_256_256_dice_bce_0_4__0_4_1//predictions_np/_Image_12R_15.npy\n",
            "Image_12R 15\n",
            "file /content/datasets/chase_db_256_256_dice_bce_0_4__0_4_1//predictions_np/_Image_12L_4.npy\n",
            "Image_12L 4\n",
            "file /content/datasets/chase_db_256_256_dice_bce_0_4__0_4_1//predictions_np/_Image_11R_2.npy\n",
            "Image_11R 2\n",
            "file /content/datasets/chase_db_256_256_dice_bce_0_4__0_4_1//predictions_np/_Image_12R_8.npy\n",
            "Image_12R 8\n",
            "file /content/datasets/chase_db_256_256_dice_bce_0_4__0_4_1//predictions_np/_Image_11R_10.npy\n",
            "Image_11R 10\n",
            "file /content/datasets/chase_db_256_256_dice_bce_0_4__0_4_1//predictions_np/_Image_11L_2.npy\n",
            "Image_11L 2\n",
            "file /content/datasets/chase_db_256_256_dice_bce_0_4__0_4_1//predictions_np/_Image_11L_8.npy\n",
            "Image_11L 8\n",
            "file /content/datasets/chase_db_256_256_dice_bce_0_4__0_4_1//predictions_np/_Image_11L_4.npy\n",
            "Image_11L 4\n",
            "file /content/datasets/chase_db_256_256_dice_bce_0_4__0_4_1//predictions_np/_Image_13L_11.npy\n",
            "Image_13L 11\n",
            "file /content/datasets/chase_db_256_256_dice_bce_0_4__0_4_1//predictions_np/_Image_13L_15.npy\n",
            "Image_13L 15\n",
            "file /content/datasets/chase_db_256_256_dice_bce_0_4__0_4_1//predictions_np/_Image_12L_6.npy\n",
            "Image_12L 6\n",
            "file /content/datasets/chase_db_256_256_dice_bce_0_4__0_4_1//predictions_np/_Image_11R_6.npy\n",
            "Image_11R 6\n",
            "file /content/datasets/chase_db_256_256_dice_bce_0_4__0_4_1//predictions_np/_Image_12R_1.npy\n",
            "Image_12R 1\n",
            "file /content/datasets/chase_db_256_256_dice_bce_0_4__0_4_1//predictions_np/_Image_11R_13.npy\n",
            "Image_11R 13\n",
            "file /content/datasets/chase_db_256_256_dice_bce_0_4__0_4_1//predictions_np/_Image_11R_5.npy\n",
            "Image_11R 5\n",
            "file /content/datasets/chase_db_256_256_dice_bce_0_4__0_4_1//predictions_np/_Image_11L_9.npy\n",
            "Image_11L 9\n",
            "file /content/datasets/chase_db_256_256_dice_bce_0_4__0_4_1//predictions_np/_Image_11R_12.npy\n",
            "Image_11R 12\n",
            "file /content/datasets/chase_db_256_256_dice_bce_0_4__0_4_1//predictions_np/_Image_11R_9.npy\n",
            "Image_11R 9\n",
            "file /content/datasets/chase_db_256_256_dice_bce_0_4__0_4_1//predictions_np/_Image_13L_10.npy\n",
            "Image_13L 10\n",
            "file /content/datasets/chase_db_256_256_dice_bce_0_4__0_4_1//predictions_np/_Image_11L_3.npy\n",
            "Image_11L 3\n",
            "file /content/datasets/chase_db_256_256_dice_bce_0_4__0_4_1//predictions_np/_Image_11R_7.npy\n",
            "Image_11R 7\n",
            "file /content/datasets/chase_db_256_256_dice_bce_0_4__0_4_1//predictions_np/_Image_13L_5.npy\n",
            "Image_13L 5\n",
            "file /content/datasets/chase_db_256_256_dice_bce_0_4__0_4_1//predictions_np/_Image_12L_12.npy\n",
            "Image_12L 12\n",
            "file /content/datasets/chase_db_256_256_dice_bce_0_4__0_4_1//predictions_np/_Image_13L_1.npy\n",
            "Image_13L 1\n",
            "file /content/datasets/chase_db_256_256_dice_bce_0_4__0_4_1//predictions_np/_Image_12R_14.npy\n",
            "Image_12R 14\n",
            "file /content/datasets/chase_db_256_256_dice_bce_0_4__0_4_1//predictions_np/_Image_11L_5.npy\n",
            "Image_11L 5\n",
            "file /content/datasets/chase_db_256_256_dice_bce_0_4__0_4_1//predictions_np/_Image_12R_7.npy\n",
            "Image_12R 7\n",
            "file /content/datasets/chase_db_256_256_dice_bce_0_4__0_4_1//predictions_np/_Image_11L_15.npy\n",
            "Image_11L 15\n",
            "file /content/datasets/chase_db_256_256_dice_bce_0_4__0_4_1//predictions_np/_Image_12L_14.npy\n",
            "Image_12L 14\n",
            "file /content/datasets/chase_db_256_256_dice_bce_0_4__0_4_1//predictions_np/_Image_12R_2.npy\n",
            "Image_12R 2\n",
            "file /content/datasets/chase_db_256_256_dice_bce_0_4__0_4_1//predictions_np/_Image_13L_4.npy\n",
            "Image_13L 4\n",
            "file /content/datasets/chase_db_256_256_dice_bce_0_4__0_4_1//predictions_np/_Image_11R_14.npy\n",
            "Image_11R 14\n",
            "file /content/datasets/chase_db_256_256_dice_bce_0_4__0_4_1//predictions_np/_Image_12R_13.npy\n",
            "Image_12R 13\n",
            "file /content/datasets/chase_db_256_256_dice_bce_0_4__0_4_1//predictions_np/_Image_11L_14.npy\n",
            "Image_11L 14\n",
            "file /content/datasets/chase_db_256_256_dice_bce_0_4__0_4_1//predictions_np/_Image_11R_8.npy\n",
            "Image_11R 8\n",
            "file /content/datasets/chase_db_256_256_dice_bce_0_4__0_4_1//predictions_np/_Image_12R_0.npy\n",
            "Image_12R 0\n"
          ]
        }
      ],
      "source": [
        "# Create patches dictionary\n",
        "predicted_patches_dict = dict()\n",
        "for file in glob(f\"{prediction_np_path}/*.npy\"):\n",
        "    print(\"file\", file)\n",
        "    patch = np.load(file)\n",
        "    fname_without_ext = file.rsplit(\"/\", 1)[1].rsplit(\".\", 1)[0]\n",
        "    fname_without_ext = fname_without_ext[1:]\n",
        "    patch_number = int(fname_without_ext.rsplit(\"_\", 1)[1])\n",
        "    image_file = fname_without_ext.rsplit(\"_\", 1)[0]\n",
        "    print(image_file, patch_number )\n",
        "\n",
        "    if image_file in predicted_patches_dict.keys():\n",
        "        predicted_patches_dict[image_file][patch_number] = np.load(file)\n",
        "    else:\n",
        "        patches = [None] * 140\n",
        "        patches[patch_number] = np.load(file)\n",
        "        predicted_patches_dict[image_file] = patches"
      ]
    },
    {
      "cell_type": "code",
      "execution_count": null,
      "metadata": {
        "colab": {
          "background_save": true
        },
        "id": "2kB-A6HbLNsv"
      },
      "outputs": [],
      "source": [
        "reconstructed_predictions_path = f\"{data_path}/{split_name}/reconstructed/{split}/predictions_reconstructed\"\n",
        "create_dir(reconstructed_predictions_path)\n",
        "reconstruct_patches(predicted_patches_dict,\n",
        "                    metadata_test_df,\n",
        "                    reconstructed_predictions_path,\n",
        "                    mfactor=255\n",
        "                    )\n"
      ]
    },
    {
      "cell_type": "code",
      "execution_count": null,
      "metadata": {
        "colab": {
          "background_save": true
        },
        "id": "z_uMeATOLyQP",
        "outputId": "e8e63de9-b54a-42f8-ff9a-3cd5e4650582"
      },
      "outputs": [
        {
          "name": "stdout",
          "output_type": "stream",
          "text": [
            "/content/datasets\n"
          ]
        }
      ],
      "source": [
        "!pwd"
      ]
    },
    {
      "cell_type": "code",
      "execution_count": null,
      "metadata": {
        "colab": {
          "background_save": true
        },
        "id": "2OzcJGOQg4Dy"
      },
      "outputs": [],
      "source": [
        "def read_mask(path):\n",
        "    print(path)\n",
        "    x = cv2.imread(path, cv2.IMREAD_GRAYSCALE)  ## (512, 512)\n",
        "    # x = cv2.resize(x, (W, H))\n",
        "    ori_x = x\n",
        "    x = x/255.0\n",
        "#    x = x.astype(np.int32)\n",
        "    return ori_x, x"
      ]
    },
    {
      "cell_type": "code",
      "execution_count": null,
      "metadata": {
        "colab": {
          "background_save": true
        },
        "id": "M5ILDoicjTef"
      },
      "outputs": [],
      "source": [
        "def save_results(ori_x, ori_y, y_pred, save_image_path):\n",
        "    line = np.ones((ori_x.shape[0], 10, 3)) * 255\n",
        "\n",
        "    ori_y = np.expand_dims(ori_y, axis=-1)\n",
        "    ori_y = np.concatenate([ori_y, ori_y, ori_y], axis=-1)\n",
        "\n",
        "    y_pred = np.expand_dims(y_pred, axis=-1)\n",
        "    y_pred = np.concatenate([y_pred, y_pred, y_pred], axis=-1) * 255\n",
        "\n",
        "    cat_images = np.concatenate([ori_x, line, ori_y, line, y_pred], axis=1)\n",
        "    print(f\"Saving image of size {cat_images.shape} to {save_image_path}\")\n",
        "    cv2.imwrite(save_image_path, cat_images)"
      ]
    },
    {
      "cell_type": "code",
      "execution_count": null,
      "metadata": {
        "colab": {
          "background_save": true
        },
        "id": "bS5LTt4QXwQi"
      },
      "outputs": [],
      "source": [
        "results_path_reconstructed = f\"{root_path}/results_reconstructed/\"\n",
        "create_dir(results_path_reconstructed)"
      ]
    },
    {
      "cell_type": "code",
      "execution_count": null,
      "metadata": {
        "colab": {
          "background_save": true
        },
        "id": "6sKjdzsaNloF"
      },
      "outputs": [],
      "source": [
        "from glob import glob"
      ]
    },
    {
      "cell_type": "code",
      "execution_count": null,
      "metadata": {
        "colab": {
          "background_save": true
        },
        "id": "_iqapJ3ITb7l",
        "outputId": "a0b1111f-4132-4986-9ecd-82fb84834b8d"
      },
      "outputs": [
        {
          "name": "stdout",
          "output_type": "stream",
          "text": [
            "Threshold 0.4\n"
          ]
        },
        {
          "name": "stderr",
          "output_type": "stream",
          "text": [
            "\r  0%|          | 0/80 [00:00<?, ?it/s]"
          ]
        },
        {
          "name": "stdout",
          "output_type": "stream",
          "text": [
            "_Image_11L_0\n",
            "(256, 256, 1) 0.9987715 0.0046429676\n",
            "(256, 256, 3) (256, 256) (256, 256)\n"
          ]
        },
        {
          "name": "stderr",
          "output_type": "stream",
          "text": [
            "\r  1%|▏         | 1/80 [00:00<00:13,  5.77it/s]"
          ]
        },
        {
          "name": "stdout",
          "output_type": "stream",
          "text": [
            "_Image_11L_1\n"
          ]
        },
        {
          "name": "stderr",
          "output_type": "stream",
          "text": [
            "\r  2%|▎         | 2/80 [00:00<00:13,  5.83it/s]"
          ]
        },
        {
          "name": "stdout",
          "output_type": "stream",
          "text": [
            "(256, 256, 1) 0.99988997 0.0027171695\n",
            "(256, 256, 3) (256, 256) (256, 256)\n",
            "_Image_11L_10\n",
            "(256, 256, 1) 0.9999999 0.0008030438\n",
            "(256, 256, 3) (256, 256) (256, 256)\n"
          ]
        },
        {
          "name": "stderr",
          "output_type": "stream",
          "text": [
            "\r  4%|▍         | 3/80 [00:00<00:13,  5.80it/s]"
          ]
        },
        {
          "name": "stdout",
          "output_type": "stream",
          "text": [
            "_Image_11L_11\n",
            "(256, 256, 1) 0.99984324 0.0025734701\n",
            "(256, 256, 3) (256, 256) (256, 256)\n"
          ]
        },
        {
          "name": "stderr",
          "output_type": "stream",
          "text": [
            "\r  5%|▌         | 4/80 [00:00<00:13,  5.76it/s]"
          ]
        },
        {
          "name": "stdout",
          "output_type": "stream",
          "text": [
            "_Image_11L_12\n"
          ]
        },
        {
          "name": "stderr",
          "output_type": "stream",
          "text": [
            "/usr/local/lib/python3.7/dist-packages/sklearn/metrics/_classification.py:1318: UndefinedMetricWarning: Precision is ill-defined and being set to 0.0 due to no predicted samples. Use `zero_division` parameter to control this behavior.\n",
            "  _warn_prf(average, modifier, msg_start, len(result))\n",
            "\r  6%|▋         | 5/80 [00:00<00:12,  5.81it/s]"
          ]
        },
        {
          "name": "stdout",
          "output_type": "stream",
          "text": [
            "(256, 256, 1) 0.049601413 0.004268832\n",
            "(256, 256, 3) (256, 256) (256, 256)\n",
            "_Image_11L_13\n"
          ]
        },
        {
          "name": "stderr",
          "output_type": "stream",
          "text": [
            "\r  8%|▊         | 6/80 [00:01<00:18,  4.08it/s]"
          ]
        },
        {
          "name": "stdout",
          "output_type": "stream",
          "text": [
            "(256, 256, 1) 0.99999976 0.0042324015\n",
            "(256, 256, 3) (256, 256) (256, 256)\n",
            "_Image_11L_14\n",
            "(256, 256, 1) 0.99999976 0.002121622\n",
            "(256, 256, 3) (256, 256) (256, 256)\n"
          ]
        },
        {
          "name": "stderr",
          "output_type": "stream",
          "text": [
            " 10%|█         | 8/80 [00:01<00:14,  4.98it/s]"
          ]
        },
        {
          "name": "stdout",
          "output_type": "stream",
          "text": [
            "_Image_11L_15\n",
            "(256, 256, 1) 0.99990594 0.0040342994\n",
            "(256, 256, 3) (256, 256) (256, 256)\n",
            "_Image_11L_2\n"
          ]
        },
        {
          "name": "stderr",
          "output_type": "stream",
          "text": [
            "\r 11%|█▏        | 9/80 [00:01<00:13,  5.28it/s]"
          ]
        },
        {
          "name": "stdout",
          "output_type": "stream",
          "text": [
            "(256, 256, 1) 0.9999993 0.0028697378\n",
            "(256, 256, 3) (256, 256) (256, 256)\n",
            "_Image_11L_3\n",
            "(256, 256, 1) 0.8003436 0.0025863182\n",
            "(256, 256, 3) (256, 256) (256, 256)\n"
          ]
        },
        {
          "name": "stderr",
          "output_type": "stream",
          "text": [
            "/usr/local/lib/python3.7/dist-packages/sklearn/metrics/_classification.py:1318: UndefinedMetricWarning: Recall is ill-defined and being set to 0.0 due to no true samples. Use `zero_division` parameter to control this behavior.\n",
            "  _warn_prf(average, modifier, msg_start, len(result))\n",
            " 14%|█▍        | 11/80 [00:02<00:11,  5.81it/s]"
          ]
        },
        {
          "name": "stdout",
          "output_type": "stream",
          "text": [
            "_Image_11L_4\n",
            "(256, 256, 1) 0.9998852 0.0042024036\n",
            "(256, 256, 3) (256, 256) (256, 256)\n",
            "_Image_11L_5\n"
          ]
        },
        {
          "name": "stderr",
          "output_type": "stream",
          "text": [
            "\r 15%|█▌        | 12/80 [00:02<00:11,  5.84it/s]"
          ]
        },
        {
          "name": "stdout",
          "output_type": "stream",
          "text": [
            "(256, 256, 1) 0.9999999 0.0028104282\n",
            "(256, 256, 3) (256, 256) (256, 256)\n",
            "_Image_11L_6\n",
            "(256, 256, 1) 0.9999994 1.573155e-07\n",
            "(256, 256, 3) (256, 256) (256, 256)\n"
          ]
        },
        {
          "name": "stderr",
          "output_type": "stream",
          "text": [
            " 18%|█▊        | 14/80 [00:02<00:11,  5.90it/s]"
          ]
        },
        {
          "name": "stdout",
          "output_type": "stream",
          "text": [
            "_Image_11L_7\n",
            "(256, 256, 1) 0.98626477 0.0034027868\n",
            "(256, 256, 3) (256, 256) (256, 256)\n",
            "_Image_11L_8\n"
          ]
        },
        {
          "name": "stderr",
          "output_type": "stream",
          "text": [
            "\r 19%|█▉        | 15/80 [00:02<00:11,  5.88it/s]"
          ]
        },
        {
          "name": "stdout",
          "output_type": "stream",
          "text": [
            "(256, 256, 1) 0.999972 0.004513757\n",
            "(256, 256, 3) (256, 256) (256, 256)\n",
            "_Image_11L_9\n",
            "(256, 256, 1) 0.9999975 0.0023430444\n",
            "(256, 256, 3) (256, 256) (256, 256)\n"
          ]
        },
        {
          "name": "stderr",
          "output_type": "stream",
          "text": [
            " 21%|██▏       | 17/80 [00:03<00:10,  5.91it/s]"
          ]
        },
        {
          "name": "stdout",
          "output_type": "stream",
          "text": [
            "_Image_11R_0\n",
            "(256, 256, 1) 0.9968839 0.0046429676\n",
            "(256, 256, 3) (256, 256) (256, 256)\n",
            "_Image_11R_1\n"
          ]
        },
        {
          "name": "stderr",
          "output_type": "stream",
          "text": [
            "\r 22%|██▎       | 18/80 [00:03<00:10,  5.96it/s]"
          ]
        },
        {
          "name": "stdout",
          "output_type": "stream",
          "text": [
            "(256, 256, 1) 0.9999335 0.0045488267\n",
            "(256, 256, 3) (256, 256) (256, 256)\n",
            "_Image_11R_10\n",
            "(256, 256, 1) 0.9999995 8.8173735e-10\n",
            "(256, 256, 3) (256, 256) (256, 256)\n"
          ]
        },
        {
          "name": "stderr",
          "output_type": "stream",
          "text": [
            " 25%|██▌       | 20/80 [00:03<00:10,  5.97it/s]"
          ]
        },
        {
          "name": "stdout",
          "output_type": "stream",
          "text": [
            "_Image_11R_11\n",
            "(256, 256, 1) 0.9999925 0.004258623\n",
            "(256, 256, 3) (256, 256) (256, 256)\n",
            "_Image_11R_12\n"
          ]
        },
        {
          "name": "stderr",
          "output_type": "stream",
          "text": [
            "\r 26%|██▋       | 21/80 [00:03<00:09,  5.99it/s]"
          ]
        },
        {
          "name": "stdout",
          "output_type": "stream",
          "text": [
            "(256, 256, 1) 0.98729914 0.0031400986\n",
            "(256, 256, 3) (256, 256) (256, 256)\n",
            "_Image_11R_13\n",
            "(256, 256, 1) 0.99999964 0.004648899\n",
            "(256, 256, 3) (256, 256) (256, 256)\n"
          ]
        },
        {
          "name": "stderr",
          "output_type": "stream",
          "text": [
            " 29%|██▉       | 23/80 [00:04<00:09,  5.95it/s]"
          ]
        },
        {
          "name": "stdout",
          "output_type": "stream",
          "text": [
            "_Image_11R_14\n",
            "(256, 256, 1) 0.99998474 0.0039024744\n",
            "(256, 256, 3) (256, 256) (256, 256)\n",
            "_Image_11R_15\n"
          ]
        },
        {
          "name": "stderr",
          "output_type": "stream",
          "text": [
            "\r 30%|███       | 24/80 [00:04<00:09,  6.03it/s]"
          ]
        },
        {
          "name": "stdout",
          "output_type": "stream",
          "text": [
            "(256, 256, 1) 0.99977547 0.0032324633\n",
            "(256, 256, 3) (256, 256) (256, 256)\n",
            "_Image_11R_2\n",
            "(256, 256, 1) 0.9993631 0.0046431855\n",
            "(256, 256, 3) (256, 256) (256, 256)\n"
          ]
        },
        {
          "name": "stderr",
          "output_type": "stream",
          "text": [
            " 32%|███▎      | 26/80 [00:04<00:08,  6.01it/s]"
          ]
        },
        {
          "name": "stdout",
          "output_type": "stream",
          "text": [
            "_Image_11R_3\n",
            "(256, 256, 1) 0.9980046 0.0046429676\n",
            "(256, 256, 3) (256, 256) (256, 256)\n",
            "_Image_11R_4\n"
          ]
        },
        {
          "name": "stderr",
          "output_type": "stream",
          "text": [
            "\r 34%|███▍      | 27/80 [00:04<00:08,  6.00it/s]"
          ]
        },
        {
          "name": "stdout",
          "output_type": "stream",
          "text": [
            "(256, 256, 1) 0.995226 0.0033644165\n",
            "(256, 256, 3) (256, 256) (256, 256)\n",
            "_Image_11R_5\n",
            "(256, 256, 1) 0.9999653 2.4565208e-05\n",
            "(256, 256, 3) (256, 256) (256, 256)\n"
          ]
        },
        {
          "name": "stderr",
          "output_type": "stream",
          "text": [
            " 36%|███▋      | 29/80 [00:05<00:08,  5.94it/s]"
          ]
        },
        {
          "name": "stdout",
          "output_type": "stream",
          "text": [
            "_Image_11R_6\n",
            "(256, 256, 1) 0.9999951 2.6966032e-07\n",
            "(256, 256, 3) (256, 256) (256, 256)\n",
            "_Image_11R_7\n"
          ]
        },
        {
          "name": "stderr",
          "output_type": "stream",
          "text": [
            "\r 38%|███▊      | 30/80 [00:05<00:08,  5.96it/s]"
          ]
        },
        {
          "name": "stdout",
          "output_type": "stream",
          "text": [
            "(256, 256, 1) 0.9967278 0.0046063988\n",
            "(256, 256, 3) (256, 256) (256, 256)\n",
            "_Image_11R_8\n",
            "(256, 256, 1) 0.29553205 0.0033598053\n",
            "(256, 256, 3) (256, 256) (256, 256)\n"
          ]
        },
        {
          "name": "stderr",
          "output_type": "stream",
          "text": [
            "/usr/local/lib/python3.7/dist-packages/sklearn/metrics/_classification.py:1318: UndefinedMetricWarning: Precision is ill-defined and being set to 0.0 due to no predicted samples. Use `zero_division` parameter to control this behavior.\n",
            "  _warn_prf(average, modifier, msg_start, len(result))\n",
            " 40%|████      | 32/80 [00:05<00:08,  5.95it/s]"
          ]
        },
        {
          "name": "stdout",
          "output_type": "stream",
          "text": [
            "_Image_11R_9\n",
            "(256, 256, 1) 0.999992 1.4128108e-07\n",
            "(256, 256, 3) (256, 256) (256, 256)\n",
            "_Image_12L_0\n"
          ]
        },
        {
          "name": "stderr",
          "output_type": "stream",
          "text": [
            "\r 41%|████▏     | 33/80 [00:05<00:07,  6.03it/s]"
          ]
        },
        {
          "name": "stdout",
          "output_type": "stream",
          "text": [
            "(256, 256, 1) 0.4005614 0.00415789\n",
            "(256, 256, 3) (256, 256) (256, 256)\n",
            "_Image_12L_1\n",
            "(256, 256, 1) 0.9999802 0.0032277377\n",
            "(256, 256, 3) (256, 256) (256, 256)\n"
          ]
        },
        {
          "name": "stderr",
          "output_type": "stream",
          "text": [
            " 44%|████▍     | 35/80 [00:06<00:07,  5.96it/s]"
          ]
        },
        {
          "name": "stdout",
          "output_type": "stream",
          "text": [
            "_Image_12L_10\n",
            "(256, 256, 1) 1.0 8.5198636e-08\n",
            "(256, 256, 3) (256, 256) (256, 256)\n",
            "_Image_12L_11\n"
          ]
        },
        {
          "name": "stderr",
          "output_type": "stream",
          "text": [
            "\r 45%|████▌     | 36/80 [00:06<00:07,  5.93it/s]"
          ]
        },
        {
          "name": "stdout",
          "output_type": "stream",
          "text": [
            "(256, 256, 1) 0.99996996 0.0035227786\n",
            "(256, 256, 3) (256, 256) (256, 256)\n",
            "_Image_12L_12\n",
            "(256, 256, 1) 0.99973553 0.0037810185\n",
            "(256, 256, 3) (256, 256) (256, 256)\n"
          ]
        },
        {
          "name": "stderr",
          "output_type": "stream",
          "text": [
            " 48%|████▊     | 38/80 [00:06<00:06,  6.02it/s]"
          ]
        },
        {
          "name": "stdout",
          "output_type": "stream",
          "text": [
            "_Image_12L_13\n",
            "(256, 256, 1) 0.9999995 0.002857622\n",
            "(256, 256, 3) (256, 256) (256, 256)\n",
            "_Image_12L_14\n"
          ]
        },
        {
          "name": "stderr",
          "output_type": "stream",
          "text": [
            "\r 49%|████▉     | 39/80 [00:06<00:06,  6.03it/s]"
          ]
        },
        {
          "name": "stdout",
          "output_type": "stream",
          "text": [
            "(256, 256, 1) 0.99999964 0.0033636985\n",
            "(256, 256, 3) (256, 256) (256, 256)\n",
            "_Image_12L_15\n",
            "(256, 256, 1) 0.99986625 0.003537002\n",
            "(256, 256, 3) (256, 256) (256, 256)\n"
          ]
        },
        {
          "name": "stderr",
          "output_type": "stream",
          "text": [
            " 51%|█████▏    | 41/80 [00:07<00:06,  6.05it/s]"
          ]
        },
        {
          "name": "stdout",
          "output_type": "stream",
          "text": [
            "_Image_12L_2\n",
            "(256, 256, 1) 0.9999969 0.0025377485\n",
            "(256, 256, 3) (256, 256) (256, 256)\n",
            "_Image_12L_3\n"
          ]
        },
        {
          "name": "stderr",
          "output_type": "stream",
          "text": [
            "\r 52%|█████▎    | 42/80 [00:07<00:06,  6.03it/s]"
          ]
        },
        {
          "name": "stdout",
          "output_type": "stream",
          "text": [
            "(256, 256, 1) 0.9999603 0.003414143\n",
            "(256, 256, 3) (256, 256) (256, 256)\n",
            "_Image_12L_4\n",
            "(256, 256, 1) 0.998955 0.0033557187\n",
            "(256, 256, 3) (256, 256) (256, 256)\n"
          ]
        },
        {
          "name": "stderr",
          "output_type": "stream",
          "text": [
            " 55%|█████▌    | 44/80 [00:07<00:06,  5.89it/s]"
          ]
        },
        {
          "name": "stdout",
          "output_type": "stream",
          "text": [
            "_Image_12L_5\n",
            "(256, 256, 1) 0.9999974 0.003511732\n",
            "(256, 256, 3) (256, 256) (256, 256)\n",
            "_Image_12L_6\n"
          ]
        },
        {
          "name": "stderr",
          "output_type": "stream",
          "text": [
            "\r 56%|█████▋    | 45/80 [00:07<00:05,  5.86it/s]"
          ]
        },
        {
          "name": "stdout",
          "output_type": "stream",
          "text": [
            "(256, 256, 1) 0.9999999 1.3557551e-05\n",
            "(256, 256, 3) (256, 256) (256, 256)\n",
            "_Image_12L_7\n",
            "(256, 256, 1) 0.9999019 0.0032267175\n",
            "(256, 256, 3) (256, 256) (256, 256)\n"
          ]
        },
        {
          "name": "stderr",
          "output_type": "stream",
          "text": [
            " 59%|█████▉    | 47/80 [00:08<00:05,  5.87it/s]"
          ]
        },
        {
          "name": "stdout",
          "output_type": "stream",
          "text": [
            "_Image_12L_8\n",
            "(256, 256, 1) 0.9999968 0.0030922208\n",
            "(256, 256, 3) (256, 256) (256, 256)\n",
            "_Image_12L_9\n"
          ]
        },
        {
          "name": "stderr",
          "output_type": "stream",
          "text": [
            "\r 60%|██████    | 48/80 [00:08<00:05,  5.88it/s]"
          ]
        },
        {
          "name": "stdout",
          "output_type": "stream",
          "text": [
            "(256, 256, 1) 0.9999999 0.004067529\n",
            "(256, 256, 3) (256, 256) (256, 256)\n",
            "_Image_12R_0\n",
            "(256, 256, 1) 0.99998844 0.002374687\n",
            "(256, 256, 3) (256, 256) (256, 256)\n"
          ]
        },
        {
          "name": "stderr",
          "output_type": "stream",
          "text": [
            " 62%|██████▎   | 50/80 [00:08<00:05,  5.97it/s]"
          ]
        },
        {
          "name": "stdout",
          "output_type": "stream",
          "text": [
            "_Image_12R_1\n",
            "(256, 256, 1) 0.99999845 0.0034544407\n",
            "(256, 256, 3) (256, 256) (256, 256)\n",
            "_Image_12R_10\n"
          ]
        },
        {
          "name": "stderr",
          "output_type": "stream",
          "text": [
            "\r 64%|██████▍   | 51/80 [00:08<00:04,  5.93it/s]"
          ]
        },
        {
          "name": "stdout",
          "output_type": "stream",
          "text": [
            "(256, 256, 1) 0.99999964 0.0005527236\n",
            "(256, 256, 3) (256, 256) (256, 256)\n",
            "_Image_12R_11\n",
            "(256, 256, 1) 0.9999944 0.002276229\n",
            "(256, 256, 3) (256, 256) (256, 256)\n"
          ]
        },
        {
          "name": "stderr",
          "output_type": "stream",
          "text": [
            " 66%|██████▋   | 53/80 [00:09<00:04,  5.92it/s]"
          ]
        },
        {
          "name": "stdout",
          "output_type": "stream",
          "text": [
            "_Image_12R_12\n",
            "(256, 256, 1) 0.9970583 0.0025347255\n",
            "(256, 256, 3) (256, 256) (256, 256)\n",
            "_Image_12R_13\n"
          ]
        },
        {
          "name": "stderr",
          "output_type": "stream",
          "text": [
            "\r 68%|██████▊   | 54/80 [00:09<00:04,  5.83it/s]"
          ]
        },
        {
          "name": "stdout",
          "output_type": "stream",
          "text": [
            "(256, 256, 1) 0.9999999 0.0043093264\n",
            "(256, 256, 3) (256, 256) (256, 256)\n",
            "_Image_12R_14\n",
            "(256, 256, 1) 0.9999995 0.0039236676\n",
            "(256, 256, 3) (256, 256) (256, 256)\n"
          ]
        },
        {
          "name": "stderr",
          "output_type": "stream",
          "text": [
            " 70%|███████   | 56/80 [00:09<00:04,  5.98it/s]"
          ]
        },
        {
          "name": "stdout",
          "output_type": "stream",
          "text": [
            "_Image_12R_15\n",
            "(256, 256, 1) 0.99989927 0.00410131\n",
            "(256, 256, 3) (256, 256) (256, 256)\n",
            "_Image_12R_2\n"
          ]
        },
        {
          "name": "stderr",
          "output_type": "stream",
          "text": [
            "\r 71%|███████▏  | 57/80 [00:09<00:03,  5.92it/s]"
          ]
        },
        {
          "name": "stdout",
          "output_type": "stream",
          "text": [
            "(256, 256, 1) 0.99999714 0.0031307866\n",
            "(256, 256, 3) (256, 256) (256, 256)\n",
            "_Image_12R_3\n",
            "(256, 256, 1) 0.9996313 0.0025048864\n",
            "(256, 256, 3) (256, 256) (256, 256)\n"
          ]
        },
        {
          "name": "stderr",
          "output_type": "stream",
          "text": [
            " 74%|███████▍  | 59/80 [00:10<00:03,  5.94it/s]"
          ]
        },
        {
          "name": "stdout",
          "output_type": "stream",
          "text": [
            "_Image_12R_4\n",
            "(256, 256, 1) 0.9999912 0.0032362079\n",
            "(256, 256, 3) (256, 256) (256, 256)\n",
            "_Image_12R_5\n"
          ]
        },
        {
          "name": "stderr",
          "output_type": "stream",
          "text": [
            "\r 75%|███████▌  | 60/80 [00:10<00:03,  5.91it/s]"
          ]
        },
        {
          "name": "stdout",
          "output_type": "stream",
          "text": [
            "(256, 256, 1) 0.99999726 0.0033391628\n",
            "(256, 256, 3) (256, 256) (256, 256)\n",
            "_Image_12R_6\n",
            "(256, 256, 1) 0.9999993 0.0038591032\n",
            "(256, 256, 3) (256, 256) (256, 256)\n"
          ]
        },
        {
          "name": "stderr",
          "output_type": "stream",
          "text": [
            " 78%|███████▊  | 62/80 [00:10<00:03,  5.92it/s]"
          ]
        },
        {
          "name": "stdout",
          "output_type": "stream",
          "text": [
            "_Image_12R_7\n",
            "(256, 256, 1) 0.99989855 0.0031861481\n",
            "(256, 256, 3) (256, 256) (256, 256)\n",
            "_Image_12R_8\n"
          ]
        },
        {
          "name": "stderr",
          "output_type": "stream",
          "text": [
            "\r 79%|███████▉  | 63/80 [00:10<00:02,  5.84it/s]"
          ]
        },
        {
          "name": "stdout",
          "output_type": "stream",
          "text": [
            "(256, 256, 1) 0.99591917 0.002776397\n",
            "(256, 256, 3) (256, 256) (256, 256)\n",
            "_Image_12R_9\n",
            "(256, 256, 1) 0.99999976 3.0002386e-05\n",
            "(256, 256, 3) (256, 256) (256, 256)\n"
          ]
        },
        {
          "name": "stderr",
          "output_type": "stream",
          "text": [
            " 81%|████████▏ | 65/80 [00:11<00:02,  5.93it/s]"
          ]
        },
        {
          "name": "stdout",
          "output_type": "stream",
          "text": [
            "_Image_13L_0\n",
            "(256, 256, 1) 0.9589067 0.0030078671\n",
            "(256, 256, 3) (256, 256) (256, 256)\n",
            "_Image_13L_1\n"
          ]
        },
        {
          "name": "stderr",
          "output_type": "stream",
          "text": [
            "\r 82%|████████▎ | 66/80 [00:11<00:02,  5.96it/s]"
          ]
        },
        {
          "name": "stdout",
          "output_type": "stream",
          "text": [
            "(256, 256, 1) 0.9996389 0.0031293882\n",
            "(256, 256, 3) (256, 256) (256, 256)\n",
            "_Image_13L_10\n",
            "(256, 256, 1) 0.99999964 4.4795113e-05\n",
            "(256, 256, 3) (256, 256) (256, 256)\n"
          ]
        },
        {
          "name": "stderr",
          "output_type": "stream",
          "text": [
            " 84%|████████▍ | 67/80 [00:11<00:02,  5.95it/s]/usr/local/lib/python3.7/dist-packages/sklearn/metrics/_classification.py:1318: UndefinedMetricWarning: Precision is ill-defined and being set to 0.0 due to no predicted samples. Use `zero_division` parameter to control this behavior.\n",
            "  _warn_prf(average, modifier, msg_start, len(result))\n",
            " 85%|████████▌ | 68/80 [00:11<00:02,  5.93it/s]"
          ]
        },
        {
          "name": "stdout",
          "output_type": "stream",
          "text": [
            "_Image_13L_11\n",
            "(256, 256, 1) 0.30293402 0.0029436394\n",
            "(256, 256, 3) (256, 256) (256, 256)\n",
            "_Image_13L_12\n"
          ]
        },
        {
          "name": "stderr",
          "output_type": "stream",
          "text": [
            "/usr/local/lib/python3.7/dist-packages/sklearn/metrics/_classification.py:1318: UndefinedMetricWarning: Precision is ill-defined and being set to 0.0 due to no predicted samples. Use `zero_division` parameter to control this behavior.\n",
            "  _warn_prf(average, modifier, msg_start, len(result))\n",
            "\r 86%|████████▋ | 69/80 [00:11<00:01,  5.91it/s]"
          ]
        },
        {
          "name": "stdout",
          "output_type": "stream",
          "text": [
            "(256, 256, 1) 0.039639395 0.0029281822\n",
            "(256, 256, 3) (256, 256) (256, 256)\n",
            "_Image_13L_13\n",
            "(256, 256, 1) 0.9987079 0.0031140803\n",
            "(256, 256, 3) (256, 256) (256, 256)\n"
          ]
        },
        {
          "name": "stderr",
          "output_type": "stream",
          "text": [
            " 89%|████████▉ | 71/80 [00:12<00:01,  5.83it/s]"
          ]
        },
        {
          "name": "stdout",
          "output_type": "stream",
          "text": [
            "_Image_13L_14\n",
            "(256, 256, 1) 0.9972811 0.0030782265\n",
            "(256, 256, 3) (256, 256) (256, 256)\n",
            "_Image_13L_15\n"
          ]
        },
        {
          "name": "stderr",
          "output_type": "stream",
          "text": [
            "/usr/local/lib/python3.7/dist-packages/sklearn/metrics/_classification.py:1318: UndefinedMetricWarning: Precision is ill-defined and being set to 0.0 due to no predicted samples. Use `zero_division` parameter to control this behavior.\n",
            "  _warn_prf(average, modifier, msg_start, len(result))\n",
            "\r 90%|█████████ | 72/80 [00:12<00:01,  5.79it/s]"
          ]
        },
        {
          "name": "stdout",
          "output_type": "stream",
          "text": [
            "(256, 256, 1) 0.0517009 0.0032269463\n",
            "(256, 256, 3) (256, 256) (256, 256)\n",
            "_Image_13L_2\n",
            "(256, 256, 1) 0.9999676 0.003431531\n",
            "(256, 256, 3) (256, 256) (256, 256)\n"
          ]
        },
        {
          "name": "stderr",
          "output_type": "stream",
          "text": [
            " 92%|█████████▎| 74/80 [00:12<00:01,  5.92it/s]"
          ]
        },
        {
          "name": "stdout",
          "output_type": "stream",
          "text": [
            "_Image_13L_3\n",
            "(256, 256, 1) 0.75342274 0.004457634\n",
            "(256, 256, 3) (256, 256) (256, 256)\n",
            "_Image_13L_4\n"
          ]
        },
        {
          "name": "stderr",
          "output_type": "stream",
          "text": [
            "\r 94%|█████████▍| 75/80 [00:12<00:00,  5.96it/s]"
          ]
        },
        {
          "name": "stdout",
          "output_type": "stream",
          "text": [
            "(256, 256, 1) 0.9987142 0.0020718528\n",
            "(256, 256, 3) (256, 256) (256, 256)\n",
            "_Image_13L_5\n",
            "(256, 256, 1) 0.99998236 0.0033782558\n",
            "(256, 256, 3) (256, 256) (256, 256)\n"
          ]
        },
        {
          "name": "stderr",
          "output_type": "stream",
          "text": [
            " 96%|█████████▋| 77/80 [00:13<00:00,  5.88it/s]"
          ]
        },
        {
          "name": "stdout",
          "output_type": "stream",
          "text": [
            "_Image_13L_6\n",
            "(256, 256, 1) 1.0 0.0017277662\n",
            "(256, 256, 3) (256, 256) (256, 256)\n",
            "_Image_13L_7\n"
          ]
        },
        {
          "name": "stderr",
          "output_type": "stream",
          "text": [
            "/usr/local/lib/python3.7/dist-packages/sklearn/metrics/_classification.py:1318: UndefinedMetricWarning: Precision is ill-defined and being set to 0.0 due to no predicted samples. Use `zero_division` parameter to control this behavior.\n",
            "  _warn_prf(average, modifier, msg_start, len(result))\n",
            "\r 98%|█████████▊| 78/80 [00:13<00:00,  5.80it/s]"
          ]
        },
        {
          "name": "stdout",
          "output_type": "stream",
          "text": [
            "(256, 256, 1) 0.1102081 0.0033279336\n",
            "(256, 256, 3) (256, 256) (256, 256)\n",
            "_Image_13L_8\n",
            "(256, 256, 1) 0.9912326 0.00252111\n",
            "(256, 256, 3) (256, 256) (256, 256)\n"
          ]
        },
        {
          "name": "stderr",
          "output_type": "stream",
          "text": [
            "100%|██████████| 80/80 [00:13<00:00,  5.84it/s]"
          ]
        },
        {
          "name": "stdout",
          "output_type": "stream",
          "text": [
            "_Image_13L_9\n",
            "(256, 256, 1) 0.99976903 0.0038702805\n",
            "(256, 256, 3) (256, 256) (256, 256)\n",
            "Threshold: 0.40000\n",
            "Accuracy: 0.97212\n",
            "F1: 0.58481\n",
            "Jaccard: 0.45568\n",
            "Recall: 0.54110\n",
            "Precision: 0.71466\n",
            "AUC: 0.92468\n",
            "Dice Coeff: 0.49870\n"
          ]
        },
        {
          "name": "stderr",
          "output_type": "stream",
          "text": [
            "\n"
          ]
        }
      ],
      "source": [
        "dataset_path = f\"{root_path}/{split_name}/{split}/\"\n",
        "df_0_4, score_0_4 = compute_metrics(dataset_path,\n",
        "                    results_path=results_path,\n",
        "                    threshold=0.4,\n",
        "                    model=model,\n",
        "                    predictions_path=prediction_path,\n",
        "                    prediction_np_path=prediction_np_path)"
      ]
    },
    {
      "cell_type": "code",
      "execution_count": null,
      "metadata": {
        "colab": {
          "background_save": true
        },
        "id": "awC6MfPbujiZ",
        "outputId": "8c177568-434c-47af-ae9a-98cd3e017e37"
      },
      "outputs": [
        {
          "name": "stdout",
          "output_type": "stream",
          "text": [
            "Threshold 0.5\n"
          ]
        },
        {
          "name": "stderr",
          "output_type": "stream",
          "text": [
            "\r  0%|          | 0/80 [00:00<?, ?it/s]"
          ]
        },
        {
          "name": "stdout",
          "output_type": "stream",
          "text": [
            "_Image_11L_0\n"
          ]
        },
        {
          "name": "stderr",
          "output_type": "stream",
          "text": [
            "\r  1%|▏         | 1/80 [00:00<00:13,  5.78it/s]"
          ]
        },
        {
          "name": "stdout",
          "output_type": "stream",
          "text": [
            "(256, 256, 1) 0.9987715 0.0046429676\n",
            "(256, 256, 3) (256, 256) (256, 256)\n",
            "_Image_11L_1\n",
            "(256, 256, 1) 0.99988997 0.0027171695\n",
            "(256, 256, 3) (256, 256) (256, 256)\n"
          ]
        },
        {
          "name": "stderr",
          "output_type": "stream",
          "text": [
            "\r  2%|▎         | 2/80 [00:00<00:13,  5.75it/s]"
          ]
        },
        {
          "name": "stdout",
          "output_type": "stream",
          "text": [
            "_Image_11L_10\n",
            "(256, 256, 1) 0.9999999 0.0008030438\n",
            "(256, 256, 3) (256, 256) (256, 256)\n"
          ]
        },
        {
          "name": "stderr",
          "output_type": "stream",
          "text": [
            "\r  4%|▍         | 3/80 [00:00<00:13,  5.60it/s]"
          ]
        },
        {
          "name": "stdout",
          "output_type": "stream",
          "text": [
            "_Image_11L_11\n"
          ]
        },
        {
          "name": "stderr",
          "output_type": "stream",
          "text": [
            "\r  5%|▌         | 4/80 [00:00<00:13,  5.77it/s]"
          ]
        },
        {
          "name": "stdout",
          "output_type": "stream",
          "text": [
            "(256, 256, 1) 0.99984324 0.0025734701\n",
            "(256, 256, 3) (256, 256) (256, 256)\n",
            "_Image_11L_12\n",
            "(256, 256, 1) 0.049601413 0.004268832\n",
            "(256, 256, 3) (256, 256) (256, 256)\n"
          ]
        },
        {
          "name": "stderr",
          "output_type": "stream",
          "text": [
            "/usr/local/lib/python3.7/dist-packages/sklearn/metrics/_classification.py:1318: UndefinedMetricWarning: Precision is ill-defined and being set to 0.0 due to no predicted samples. Use `zero_division` parameter to control this behavior.\n",
            "  _warn_prf(average, modifier, msg_start, len(result))\n",
            "\r  6%|▋         | 5/80 [00:00<00:12,  5.91it/s]"
          ]
        },
        {
          "name": "stdout",
          "output_type": "stream",
          "text": [
            "_Image_11L_13\n",
            "(256, 256, 1) 0.99999976 0.0042324015\n",
            "(256, 256, 3) (256, 256) (256, 256)\n"
          ]
        },
        {
          "name": "stderr",
          "output_type": "stream",
          "text": [
            "\r  8%|▊         | 6/80 [00:01<00:12,  5.93it/s]"
          ]
        },
        {
          "name": "stdout",
          "output_type": "stream",
          "text": [
            "_Image_11L_14\n"
          ]
        },
        {
          "name": "stderr",
          "output_type": "stream",
          "text": [
            "\r  9%|▉         | 7/80 [00:01<00:12,  5.92it/s]"
          ]
        },
        {
          "name": "stdout",
          "output_type": "stream",
          "text": [
            "(256, 256, 1) 0.99999976 0.002121622\n",
            "(256, 256, 3) (256, 256) (256, 256)\n",
            "_Image_11L_15\n",
            "(256, 256, 1) 0.99990594 0.0040342994\n",
            "(256, 256, 3) (256, 256) (256, 256)\n"
          ]
        },
        {
          "name": "stderr",
          "output_type": "stream",
          "text": [
            "\r 10%|█         | 8/80 [00:01<00:12,  5.84it/s]"
          ]
        },
        {
          "name": "stdout",
          "output_type": "stream",
          "text": [
            "_Image_11L_2\n",
            "(256, 256, 1) 0.9999993 0.0028697378\n",
            "(256, 256, 3) (256, 256) (256, 256)\n"
          ]
        },
        {
          "name": "stderr",
          "output_type": "stream",
          "text": [
            "\r 11%|█▏        | 9/80 [00:01<00:12,  5.74it/s]"
          ]
        },
        {
          "name": "stdout",
          "output_type": "stream",
          "text": [
            "_Image_11L_3\n"
          ]
        },
        {
          "name": "stderr",
          "output_type": "stream",
          "text": [
            "/usr/local/lib/python3.7/dist-packages/sklearn/metrics/_classification.py:1318: UndefinedMetricWarning: Recall is ill-defined and being set to 0.0 due to no true samples. Use `zero_division` parameter to control this behavior.\n",
            "  _warn_prf(average, modifier, msg_start, len(result))\n",
            "\r 12%|█▎        | 10/80 [00:01<00:11,  5.94it/s]"
          ]
        },
        {
          "name": "stdout",
          "output_type": "stream",
          "text": [
            "(256, 256, 1) 0.8003436 0.0025863182\n",
            "(256, 256, 3) (256, 256) (256, 256)\n",
            "_Image_11L_4\n",
            "(256, 256, 1) 0.9998852 0.0042024036\n",
            "(256, 256, 3) (256, 256) (256, 256)\n"
          ]
        },
        {
          "name": "stderr",
          "output_type": "stream",
          "text": [
            "\r 14%|█▍        | 11/80 [00:01<00:11,  5.89it/s]"
          ]
        },
        {
          "name": "stdout",
          "output_type": "stream",
          "text": [
            "_Image_11L_5\n",
            "(256, 256, 1) 0.9999999 0.0028104282\n",
            "(256, 256, 3) (256, 256) (256, 256)\n"
          ]
        },
        {
          "name": "stderr",
          "output_type": "stream",
          "text": [
            "\r 15%|█▌        | 12/80 [00:02<00:11,  5.84it/s]"
          ]
        },
        {
          "name": "stdout",
          "output_type": "stream",
          "text": [
            "_Image_11L_6\n"
          ]
        },
        {
          "name": "stderr",
          "output_type": "stream",
          "text": [
            "\r 16%|█▋        | 13/80 [00:02<00:11,  5.86it/s]"
          ]
        },
        {
          "name": "stdout",
          "output_type": "stream",
          "text": [
            "(256, 256, 1) 0.9999994 1.573155e-07\n",
            "(256, 256, 3) (256, 256) (256, 256)\n",
            "_Image_11L_7\n",
            "(256, 256, 1) 0.98626477 0.0034027868\n",
            "(256, 256, 3) (256, 256) (256, 256)\n"
          ]
        },
        {
          "name": "stderr",
          "output_type": "stream",
          "text": [
            "\r 18%|█▊        | 14/80 [00:02<00:11,  5.90it/s]"
          ]
        },
        {
          "name": "stdout",
          "output_type": "stream",
          "text": [
            "_Image_11L_8\n",
            "(256, 256, 1) 0.999972 0.004513757\n",
            "(256, 256, 3) (256, 256) (256, 256)\n"
          ]
        },
        {
          "name": "stderr",
          "output_type": "stream",
          "text": [
            "\r 19%|█▉        | 15/80 [00:02<00:11,  5.84it/s]"
          ]
        },
        {
          "name": "stdout",
          "output_type": "stream",
          "text": [
            "_Image_11L_9\n"
          ]
        },
        {
          "name": "stderr",
          "output_type": "stream",
          "text": [
            "\r 20%|██        | 16/80 [00:02<00:10,  5.86it/s]"
          ]
        },
        {
          "name": "stdout",
          "output_type": "stream",
          "text": [
            "(256, 256, 1) 0.9999975 0.0023430444\n",
            "(256, 256, 3) (256, 256) (256, 256)\n",
            "_Image_11R_0\n",
            "(256, 256, 1) 0.9968839 0.0046429676\n",
            "(256, 256, 3) (256, 256) (256, 256)\n"
          ]
        },
        {
          "name": "stderr",
          "output_type": "stream",
          "text": [
            "\r 21%|██▏       | 17/80 [00:02<00:10,  5.92it/s]"
          ]
        },
        {
          "name": "stdout",
          "output_type": "stream",
          "text": [
            "_Image_11R_1\n",
            "(256, 256, 1) 0.9999335 0.0045488267\n",
            "(256, 256, 3) (256, 256) (256, 256)\n"
          ]
        },
        {
          "name": "stderr",
          "output_type": "stream",
          "text": [
            "\r 22%|██▎       | 18/80 [00:03<00:10,  5.85it/s]"
          ]
        },
        {
          "name": "stdout",
          "output_type": "stream",
          "text": [
            "_Image_11R_10\n"
          ]
        },
        {
          "name": "stderr",
          "output_type": "stream",
          "text": [
            "\r 24%|██▍       | 19/80 [00:03<00:10,  5.72it/s]"
          ]
        },
        {
          "name": "stdout",
          "output_type": "stream",
          "text": [
            "(256, 256, 1) 0.9999995 8.8173735e-10\n",
            "(256, 256, 3) (256, 256) (256, 256)\n",
            "_Image_11R_11\n",
            "(256, 256, 1) 0.9999925 0.004258623\n",
            "(256, 256, 3) (256, 256) (256, 256)\n"
          ]
        },
        {
          "name": "stderr",
          "output_type": "stream",
          "text": [
            "\r 25%|██▌       | 20/80 [00:03<00:10,  5.67it/s]"
          ]
        },
        {
          "name": "stdout",
          "output_type": "stream",
          "text": [
            "_Image_11R_12\n",
            "(256, 256, 1) 0.98729914 0.0031400986\n",
            "(256, 256, 3) (256, 256) (256, 256)\n"
          ]
        },
        {
          "name": "stderr",
          "output_type": "stream",
          "text": [
            "\r 26%|██▋       | 21/80 [00:03<00:10,  5.71it/s]"
          ]
        },
        {
          "name": "stdout",
          "output_type": "stream",
          "text": [
            "_Image_11R_13\n"
          ]
        },
        {
          "name": "stderr",
          "output_type": "stream",
          "text": [
            "\r 28%|██▊       | 22/80 [00:03<00:10,  5.74it/s]"
          ]
        },
        {
          "name": "stdout",
          "output_type": "stream",
          "text": [
            "(256, 256, 1) 0.99999964 0.004648899\n",
            "(256, 256, 3) (256, 256) (256, 256)\n",
            "_Image_11R_14\n",
            "(256, 256, 1) 0.99998474 0.0039024744\n",
            "(256, 256, 3) (256, 256) (256, 256)\n"
          ]
        },
        {
          "name": "stderr",
          "output_type": "stream",
          "text": [
            "\r 29%|██▉       | 23/80 [00:03<00:09,  5.79it/s]"
          ]
        },
        {
          "name": "stdout",
          "output_type": "stream",
          "text": [
            "_Image_11R_15\n",
            "(256, 256, 1) 0.99977547 0.0032324633\n",
            "(256, 256, 3) (256, 256) (256, 256)\n"
          ]
        },
        {
          "name": "stderr",
          "output_type": "stream",
          "text": [
            "\r 30%|███       | 24/80 [00:04<00:09,  5.85it/s]"
          ]
        },
        {
          "name": "stdout",
          "output_type": "stream",
          "text": [
            "_Image_11R_2\n"
          ]
        },
        {
          "name": "stderr",
          "output_type": "stream",
          "text": [
            "\r 31%|███▏      | 25/80 [00:04<00:09,  5.88it/s]"
          ]
        },
        {
          "name": "stdout",
          "output_type": "stream",
          "text": [
            "(256, 256, 1) 0.9993631 0.0046431855\n",
            "(256, 256, 3) (256, 256) (256, 256)\n",
            "_Image_11R_3\n",
            "(256, 256, 1) 0.9980046 0.0046429676\n",
            "(256, 256, 3) (256, 256) (256, 256)\n"
          ]
        },
        {
          "name": "stderr",
          "output_type": "stream",
          "text": [
            "\r 32%|███▎      | 26/80 [00:04<00:09,  5.94it/s]"
          ]
        },
        {
          "name": "stdout",
          "output_type": "stream",
          "text": [
            "_Image_11R_4\n",
            "(256, 256, 1) 0.995226 0.0033644165\n",
            "(256, 256, 3) (256, 256) (256, 256)\n"
          ]
        },
        {
          "name": "stderr",
          "output_type": "stream",
          "text": [
            "\r 34%|███▍      | 27/80 [00:04<00:08,  5.91it/s]"
          ]
        },
        {
          "name": "stdout",
          "output_type": "stream",
          "text": [
            "_Image_11R_5\n"
          ]
        },
        {
          "name": "stderr",
          "output_type": "stream",
          "text": [
            "\r 35%|███▌      | 28/80 [00:04<00:08,  5.88it/s]"
          ]
        },
        {
          "name": "stdout",
          "output_type": "stream",
          "text": [
            "(256, 256, 1) 0.9999653 2.4565208e-05\n",
            "(256, 256, 3) (256, 256) (256, 256)\n",
            "_Image_11R_6\n",
            "(256, 256, 1) 0.9999951 2.6966032e-07\n",
            "(256, 256, 3) (256, 256) (256, 256)\n"
          ]
        },
        {
          "name": "stderr",
          "output_type": "stream",
          "text": [
            "\r 36%|███▋      | 29/80 [00:04<00:08,  5.80it/s]"
          ]
        },
        {
          "name": "stdout",
          "output_type": "stream",
          "text": [
            "_Image_11R_7\n",
            "(256, 256, 1) 0.9967278 0.0046063988\n",
            "(256, 256, 3) (256, 256) (256, 256)\n"
          ]
        },
        {
          "name": "stderr",
          "output_type": "stream",
          "text": [
            "\r 38%|███▊      | 30/80 [00:05<00:08,  5.85it/s]"
          ]
        },
        {
          "name": "stdout",
          "output_type": "stream",
          "text": [
            "_Image_11R_8\n"
          ]
        },
        {
          "name": "stderr",
          "output_type": "stream",
          "text": [
            "/usr/local/lib/python3.7/dist-packages/sklearn/metrics/_classification.py:1318: UndefinedMetricWarning: Precision is ill-defined and being set to 0.0 due to no predicted samples. Use `zero_division` parameter to control this behavior.\n",
            "  _warn_prf(average, modifier, msg_start, len(result))\n",
            "\r 39%|███▉      | 31/80 [00:05<00:08,  5.83it/s]"
          ]
        },
        {
          "name": "stdout",
          "output_type": "stream",
          "text": [
            "(256, 256, 1) 0.29553205 0.0033598053\n",
            "(256, 256, 3) (256, 256) (256, 256)\n",
            "_Image_11R_9\n",
            "(256, 256, 1) 0.999992 1.4128108e-07\n",
            "(256, 256, 3) (256, 256) (256, 256)\n"
          ]
        },
        {
          "name": "stderr",
          "output_type": "stream",
          "text": [
            "\r 40%|████      | 32/80 [00:05<00:08,  5.78it/s]"
          ]
        },
        {
          "name": "stdout",
          "output_type": "stream",
          "text": [
            "_Image_12L_0\n",
            "(256, 256, 1) 0.4005614 0.00415789\n",
            "(256, 256, 3) (256, 256) (256, 256)\n"
          ]
        },
        {
          "name": "stderr",
          "output_type": "stream",
          "text": [
            "/usr/local/lib/python3.7/dist-packages/sklearn/metrics/_classification.py:1318: UndefinedMetricWarning: Precision is ill-defined and being set to 0.0 due to no predicted samples. Use `zero_division` parameter to control this behavior.\n",
            "  _warn_prf(average, modifier, msg_start, len(result))\n",
            "\r 41%|████▏     | 33/80 [00:05<00:08,  5.87it/s]"
          ]
        },
        {
          "name": "stdout",
          "output_type": "stream",
          "text": [
            "_Image_12L_1\n"
          ]
        },
        {
          "name": "stderr",
          "output_type": "stream",
          "text": [
            "\r 42%|████▎     | 34/80 [00:05<00:07,  5.92it/s]"
          ]
        },
        {
          "name": "stdout",
          "output_type": "stream",
          "text": [
            "(256, 256, 1) 0.9999802 0.0032277377\n",
            "(256, 256, 3) (256, 256) (256, 256)\n",
            "_Image_12L_10\n",
            "(256, 256, 1) 1.0 8.5198636e-08\n",
            "(256, 256, 3) (256, 256) (256, 256)\n"
          ]
        },
        {
          "name": "stderr",
          "output_type": "stream",
          "text": [
            "\r 44%|████▍     | 35/80 [00:05<00:07,  5.88it/s]"
          ]
        },
        {
          "name": "stdout",
          "output_type": "stream",
          "text": [
            "_Image_12L_11\n",
            "(256, 256, 1) 0.99996996 0.0035227786\n",
            "(256, 256, 3) (256, 256) (256, 256)\n"
          ]
        },
        {
          "name": "stderr",
          "output_type": "stream",
          "text": [
            "\r 45%|████▌     | 36/80 [00:06<00:07,  5.83it/s]"
          ]
        },
        {
          "name": "stdout",
          "output_type": "stream",
          "text": [
            "_Image_12L_12\n"
          ]
        },
        {
          "name": "stderr",
          "output_type": "stream",
          "text": [
            "\r 46%|████▋     | 37/80 [00:06<00:07,  5.79it/s]"
          ]
        },
        {
          "name": "stdout",
          "output_type": "stream",
          "text": [
            "(256, 256, 1) 0.99973553 0.0037810185\n",
            "(256, 256, 3) (256, 256) (256, 256)\n",
            "_Image_12L_13\n",
            "(256, 256, 1) 0.9999995 0.002857622\n",
            "(256, 256, 3) (256, 256) (256, 256)\n"
          ]
        },
        {
          "name": "stderr",
          "output_type": "stream",
          "text": [
            "\r 48%|████▊     | 38/80 [00:06<00:07,  5.73it/s]"
          ]
        },
        {
          "name": "stdout",
          "output_type": "stream",
          "text": [
            "_Image_12L_14\n",
            "(256, 256, 1) 0.99999964 0.0033636985\n",
            "(256, 256, 3) (256, 256) (256, 256)\n"
          ]
        },
        {
          "name": "stderr",
          "output_type": "stream",
          "text": [
            "\r 49%|████▉     | 39/80 [00:06<00:07,  5.72it/s]"
          ]
        },
        {
          "name": "stdout",
          "output_type": "stream",
          "text": [
            "_Image_12L_15\n"
          ]
        },
        {
          "name": "stderr",
          "output_type": "stream",
          "text": [
            "\r 50%|█████     | 40/80 [00:06<00:06,  5.73it/s]"
          ]
        },
        {
          "name": "stdout",
          "output_type": "stream",
          "text": [
            "(256, 256, 1) 0.99986625 0.003537002\n",
            "(256, 256, 3) (256, 256) (256, 256)\n",
            "_Image_12L_2\n",
            "(256, 256, 1) 0.9999969 0.0025377485\n",
            "(256, 256, 3) (256, 256) (256, 256)\n"
          ]
        },
        {
          "name": "stderr",
          "output_type": "stream",
          "text": [
            "\r 51%|█████▏    | 41/80 [00:07<00:06,  5.65it/s]"
          ]
        },
        {
          "name": "stdout",
          "output_type": "stream",
          "text": [
            "_Image_12L_3\n",
            "(256, 256, 1) 0.9999603 0.003414143\n",
            "(256, 256, 3) (256, 256) (256, 256)\n"
          ]
        },
        {
          "name": "stderr",
          "output_type": "stream",
          "text": [
            "\r 52%|█████▎    | 42/80 [00:07<00:06,  5.69it/s]"
          ]
        },
        {
          "name": "stdout",
          "output_type": "stream",
          "text": [
            "_Image_12L_4\n"
          ]
        },
        {
          "name": "stderr",
          "output_type": "stream",
          "text": [
            "\r 54%|█████▍    | 43/80 [00:07<00:06,  5.76it/s]"
          ]
        },
        {
          "name": "stdout",
          "output_type": "stream",
          "text": [
            "(256, 256, 1) 0.998955 0.0033557187\n",
            "(256, 256, 3) (256, 256) (256, 256)\n",
            "_Image_12L_5\n",
            "(256, 256, 1) 0.9999974 0.003511732\n",
            "(256, 256, 3) (256, 256) (256, 256)\n"
          ]
        },
        {
          "name": "stderr",
          "output_type": "stream",
          "text": [
            "\r 55%|█████▌    | 44/80 [00:07<00:06,  5.73it/s]"
          ]
        },
        {
          "name": "stdout",
          "output_type": "stream",
          "text": [
            "_Image_12L_6\n",
            "(256, 256, 1) 0.9999999 1.3557551e-05\n",
            "(256, 256, 3) (256, 256) (256, 256)\n"
          ]
        },
        {
          "name": "stderr",
          "output_type": "stream",
          "text": [
            "\r 56%|█████▋    | 45/80 [00:07<00:06,  5.74it/s]"
          ]
        },
        {
          "name": "stdout",
          "output_type": "stream",
          "text": [
            "_Image_12L_7\n"
          ]
        },
        {
          "name": "stderr",
          "output_type": "stream",
          "text": [
            "\r 57%|█████▊    | 46/80 [00:07<00:05,  5.79it/s]"
          ]
        },
        {
          "name": "stdout",
          "output_type": "stream",
          "text": [
            "(256, 256, 1) 0.9999019 0.0032267175\n",
            "(256, 256, 3) (256, 256) (256, 256)\n",
            "_Image_12L_8\n",
            "(256, 256, 1) 0.9999968 0.0030922208\n",
            "(256, 256, 3) (256, 256) (256, 256)\n"
          ]
        },
        {
          "name": "stderr",
          "output_type": "stream",
          "text": [
            "\r 59%|█████▉    | 47/80 [00:08<00:05,  5.79it/s]"
          ]
        },
        {
          "name": "stdout",
          "output_type": "stream",
          "text": [
            "_Image_12L_9\n",
            "(256, 256, 1) 0.9999999 0.004067529\n",
            "(256, 256, 3) (256, 256) (256, 256)\n"
          ]
        },
        {
          "name": "stderr",
          "output_type": "stream",
          "text": [
            "\r 60%|██████    | 48/80 [00:08<00:05,  5.78it/s]"
          ]
        },
        {
          "name": "stdout",
          "output_type": "stream",
          "text": [
            "_Image_12R_0\n"
          ]
        },
        {
          "name": "stderr",
          "output_type": "stream",
          "text": [
            "\r 61%|██████▏   | 49/80 [00:08<00:05,  5.79it/s]"
          ]
        },
        {
          "name": "stdout",
          "output_type": "stream",
          "text": [
            "(256, 256, 1) 0.99998844 0.002374687\n",
            "(256, 256, 3) (256, 256) (256, 256)\n",
            "_Image_12R_1\n",
            "(256, 256, 1) 0.99999845 0.0034544407\n",
            "(256, 256, 3) (256, 256) (256, 256)\n"
          ]
        },
        {
          "name": "stderr",
          "output_type": "stream",
          "text": [
            "\r 62%|██████▎   | 50/80 [00:08<00:05,  5.73it/s]"
          ]
        },
        {
          "name": "stdout",
          "output_type": "stream",
          "text": [
            "_Image_12R_10\n",
            "(256, 256, 1) 0.99999964 0.0005527236\n",
            "(256, 256, 3) (256, 256) (256, 256)\n"
          ]
        },
        {
          "name": "stderr",
          "output_type": "stream",
          "text": [
            "\r 64%|██████▍   | 51/80 [00:08<00:05,  5.70it/s]"
          ]
        },
        {
          "name": "stdout",
          "output_type": "stream",
          "text": [
            "_Image_12R_11\n"
          ]
        },
        {
          "name": "stderr",
          "output_type": "stream",
          "text": [
            "\r 65%|██████▌   | 52/80 [00:08<00:04,  5.75it/s]"
          ]
        },
        {
          "name": "stdout",
          "output_type": "stream",
          "text": [
            "(256, 256, 1) 0.9999944 0.002276229\n",
            "(256, 256, 3) (256, 256) (256, 256)\n",
            "_Image_12R_12\n",
            "(256, 256, 1) 0.9970583 0.0025347255\n",
            "(256, 256, 3) (256, 256) (256, 256)\n"
          ]
        },
        {
          "name": "stderr",
          "output_type": "stream",
          "text": [
            "\r 66%|██████▋   | 53/80 [00:09<00:04,  5.82it/s]"
          ]
        },
        {
          "name": "stdout",
          "output_type": "stream",
          "text": [
            "_Image_12R_13\n",
            "(256, 256, 1) 0.9999999 0.0043093264\n",
            "(256, 256, 3) (256, 256) (256, 256)\n"
          ]
        },
        {
          "name": "stderr",
          "output_type": "stream",
          "text": [
            "\r 68%|██████▊   | 54/80 [00:09<00:04,  5.86it/s]"
          ]
        },
        {
          "name": "stdout",
          "output_type": "stream",
          "text": [
            "_Image_12R_14\n"
          ]
        },
        {
          "name": "stderr",
          "output_type": "stream",
          "text": [
            "\r 69%|██████▉   | 55/80 [00:09<00:04,  5.86it/s]"
          ]
        },
        {
          "name": "stdout",
          "output_type": "stream",
          "text": [
            "(256, 256, 1) 0.9999995 0.0039236676\n",
            "(256, 256, 3) (256, 256) (256, 256)\n",
            "_Image_12R_15\n",
            "(256, 256, 1) 0.99989927 0.00410131\n",
            "(256, 256, 3) (256, 256) (256, 256)\n"
          ]
        },
        {
          "name": "stderr",
          "output_type": "stream",
          "text": [
            "\r 70%|███████   | 56/80 [00:09<00:04,  5.91it/s]"
          ]
        },
        {
          "name": "stdout",
          "output_type": "stream",
          "text": [
            "_Image_12R_2\n",
            "(256, 256, 1) 0.99999714 0.0031307866\n",
            "(256, 256, 3) (256, 256) (256, 256)\n"
          ]
        },
        {
          "name": "stderr",
          "output_type": "stream",
          "text": [
            "\r 71%|███████▏  | 57/80 [00:09<00:03,  5.88it/s]"
          ]
        },
        {
          "name": "stdout",
          "output_type": "stream",
          "text": [
            "_Image_12R_3\n"
          ]
        },
        {
          "name": "stderr",
          "output_type": "stream",
          "text": [
            "\r 72%|███████▎  | 58/80 [00:09<00:03,  5.90it/s]"
          ]
        },
        {
          "name": "stdout",
          "output_type": "stream",
          "text": [
            "(256, 256, 1) 0.9996313 0.0025048864\n",
            "(256, 256, 3) (256, 256) (256, 256)\n",
            "_Image_12R_4\n",
            "(256, 256, 1) 0.9999912 0.0032362079\n",
            "(256, 256, 3) (256, 256) (256, 256)\n"
          ]
        },
        {
          "name": "stderr",
          "output_type": "stream",
          "text": [
            "\r 74%|███████▍  | 59/80 [00:10<00:03,  5.78it/s]"
          ]
        },
        {
          "name": "stdout",
          "output_type": "stream",
          "text": [
            "_Image_12R_5\n",
            "(256, 256, 1) 0.99999726 0.0033391628\n",
            "(256, 256, 3) (256, 256) (256, 256)\n"
          ]
        },
        {
          "name": "stderr",
          "output_type": "stream",
          "text": [
            "\r 75%|███████▌  | 60/80 [00:10<00:03,  5.73it/s]"
          ]
        },
        {
          "name": "stdout",
          "output_type": "stream",
          "text": [
            "_Image_12R_6\n"
          ]
        },
        {
          "name": "stderr",
          "output_type": "stream",
          "text": [
            "\r 76%|███████▋  | 61/80 [00:10<00:03,  5.71it/s]"
          ]
        },
        {
          "name": "stdout",
          "output_type": "stream",
          "text": [
            "(256, 256, 1) 0.9999993 0.0038591032\n",
            "(256, 256, 3) (256, 256) (256, 256)\n",
            "_Image_12R_7\n",
            "(256, 256, 1) 0.99989855 0.0031861481\n",
            "(256, 256, 3) (256, 256) (256, 256)\n"
          ]
        },
        {
          "name": "stderr",
          "output_type": "stream",
          "text": [
            "\r 78%|███████▊  | 62/80 [00:10<00:03,  5.77it/s]"
          ]
        },
        {
          "name": "stdout",
          "output_type": "stream",
          "text": [
            "_Image_12R_8\n",
            "(256, 256, 1) 0.99591917 0.002776397\n",
            "(256, 256, 3) (256, 256) (256, 256)\n"
          ]
        },
        {
          "name": "stderr",
          "output_type": "stream",
          "text": [
            "\r 79%|███████▉  | 63/80 [00:10<00:02,  5.88it/s]"
          ]
        },
        {
          "name": "stdout",
          "output_type": "stream",
          "text": [
            "_Image_12R_9\n"
          ]
        },
        {
          "name": "stderr",
          "output_type": "stream",
          "text": [
            "\r 80%|████████  | 64/80 [00:11<00:02,  5.92it/s]"
          ]
        },
        {
          "name": "stdout",
          "output_type": "stream",
          "text": [
            "(256, 256, 1) 0.99999976 3.0002386e-05\n",
            "(256, 256, 3) (256, 256) (256, 256)\n",
            "_Image_13L_0\n",
            "(256, 256, 1) 0.9589067 0.0030078671\n",
            "(256, 256, 3) (256, 256) (256, 256)\n"
          ]
        },
        {
          "name": "stderr",
          "output_type": "stream",
          "text": [
            "\r 81%|████████▏ | 65/80 [00:11<00:02,  5.95it/s]"
          ]
        },
        {
          "name": "stdout",
          "output_type": "stream",
          "text": [
            "_Image_13L_1\n",
            "(256, 256, 1) 0.9996389 0.0031293882\n",
            "(256, 256, 3) (256, 256) (256, 256)\n"
          ]
        },
        {
          "name": "stderr",
          "output_type": "stream",
          "text": [
            "\r 82%|████████▎ | 66/80 [00:11<00:02,  5.92it/s]"
          ]
        },
        {
          "name": "stdout",
          "output_type": "stream",
          "text": [
            "_Image_13L_10\n"
          ]
        },
        {
          "name": "stderr",
          "output_type": "stream",
          "text": [
            "\r 84%|████████▍ | 67/80 [00:11<00:02,  5.86it/s]"
          ]
        },
        {
          "name": "stdout",
          "output_type": "stream",
          "text": [
            "(256, 256, 1) 0.99999964 4.4795113e-05\n",
            "(256, 256, 3) (256, 256) (256, 256)\n",
            "_Image_13L_11\n",
            "(256, 256, 1) 0.30293402 0.0029436394\n",
            "(256, 256, 3) (256, 256) (256, 256)\n"
          ]
        },
        {
          "name": "stderr",
          "output_type": "stream",
          "text": [
            "/usr/local/lib/python3.7/dist-packages/sklearn/metrics/_classification.py:1318: UndefinedMetricWarning: Precision is ill-defined and being set to 0.0 due to no predicted samples. Use `zero_division` parameter to control this behavior.\n",
            "  _warn_prf(average, modifier, msg_start, len(result))\n",
            "\r 85%|████████▌ | 68/80 [00:11<00:02,  5.83it/s]"
          ]
        },
        {
          "name": "stdout",
          "output_type": "stream",
          "text": [
            "_Image_13L_12\n",
            "(256, 256, 1) 0.039639395 0.0029281822\n",
            "(256, 256, 3) (256, 256) (256, 256)\n"
          ]
        },
        {
          "name": "stderr",
          "output_type": "stream",
          "text": [
            "/usr/local/lib/python3.7/dist-packages/sklearn/metrics/_classification.py:1318: UndefinedMetricWarning: Precision is ill-defined and being set to 0.0 due to no predicted samples. Use `zero_division` parameter to control this behavior.\n",
            "  _warn_prf(average, modifier, msg_start, len(result))\n",
            "\r 86%|████████▋ | 69/80 [00:11<00:01,  5.82it/s]"
          ]
        },
        {
          "name": "stdout",
          "output_type": "stream",
          "text": [
            "_Image_13L_13\n"
          ]
        },
        {
          "name": "stderr",
          "output_type": "stream",
          "text": [
            "\r 88%|████████▊ | 70/80 [00:12<00:01,  5.78it/s]"
          ]
        },
        {
          "name": "stdout",
          "output_type": "stream",
          "text": [
            "(256, 256, 1) 0.9987079 0.0031140803\n",
            "(256, 256, 3) (256, 256) (256, 256)\n",
            "_Image_13L_14\n",
            "(256, 256, 1) 0.9972811 0.0030782265\n",
            "(256, 256, 3) (256, 256) (256, 256)\n"
          ]
        },
        {
          "name": "stderr",
          "output_type": "stream",
          "text": [
            "\r 89%|████████▉ | 71/80 [00:12<00:01,  5.74it/s]"
          ]
        },
        {
          "name": "stdout",
          "output_type": "stream",
          "text": [
            "_Image_13L_15\n",
            "(256, 256, 1) 0.0517009 0.0032269463\n",
            "(256, 256, 3) (256, 256) (256, 256)\n"
          ]
        },
        {
          "name": "stderr",
          "output_type": "stream",
          "text": [
            "/usr/local/lib/python3.7/dist-packages/sklearn/metrics/_classification.py:1318: UndefinedMetricWarning: Precision is ill-defined and being set to 0.0 due to no predicted samples. Use `zero_division` parameter to control this behavior.\n",
            "  _warn_prf(average, modifier, msg_start, len(result))\n",
            "\r 90%|█████████ | 72/80 [00:12<00:01,  5.84it/s]"
          ]
        },
        {
          "name": "stdout",
          "output_type": "stream",
          "text": [
            "_Image_13L_2\n"
          ]
        },
        {
          "name": "stderr",
          "output_type": "stream",
          "text": [
            "\r 91%|█████████▏| 73/80 [00:12<00:01,  5.89it/s]"
          ]
        },
        {
          "name": "stdout",
          "output_type": "stream",
          "text": [
            "(256, 256, 1) 0.9999676 0.003431531\n",
            "(256, 256, 3) (256, 256) (256, 256)\n",
            "_Image_13L_3\n",
            "(256, 256, 1) 0.75342274 0.004457634\n",
            "(256, 256, 3) (256, 256) (256, 256)\n"
          ]
        },
        {
          "name": "stderr",
          "output_type": "stream",
          "text": [
            "\r 92%|█████████▎| 74/80 [00:12<00:01,  5.86it/s]"
          ]
        },
        {
          "name": "stdout",
          "output_type": "stream",
          "text": [
            "_Image_13L_4\n",
            "(256, 256, 1) 0.9987142 0.0020718528\n",
            "(256, 256, 3) (256, 256) (256, 256)\n"
          ]
        },
        {
          "name": "stderr",
          "output_type": "stream",
          "text": [
            "\r 94%|█████████▍| 75/80 [00:12<00:00,  5.88it/s]"
          ]
        },
        {
          "name": "stdout",
          "output_type": "stream",
          "text": [
            "_Image_13L_5\n"
          ]
        },
        {
          "name": "stderr",
          "output_type": "stream",
          "text": [
            "\r 95%|█████████▌| 76/80 [00:13<00:00,  5.80it/s]"
          ]
        },
        {
          "name": "stdout",
          "output_type": "stream",
          "text": [
            "(256, 256, 1) 0.99998236 0.0033782558\n",
            "(256, 256, 3) (256, 256) (256, 256)\n",
            "_Image_13L_6\n",
            "(256, 256, 1) 1.0 0.0017277662\n",
            "(256, 256, 3) (256, 256) (256, 256)\n"
          ]
        },
        {
          "name": "stderr",
          "output_type": "stream",
          "text": [
            "\r 96%|█████████▋| 77/80 [00:13<00:00,  5.70it/s]"
          ]
        },
        {
          "name": "stdout",
          "output_type": "stream",
          "text": [
            "_Image_13L_7\n",
            "(256, 256, 1) 0.1102081 0.0033279336\n",
            "(256, 256, 3) (256, 256) (256, 256)\n"
          ]
        },
        {
          "name": "stderr",
          "output_type": "stream",
          "text": [
            "/usr/local/lib/python3.7/dist-packages/sklearn/metrics/_classification.py:1318: UndefinedMetricWarning: Precision is ill-defined and being set to 0.0 due to no predicted samples. Use `zero_division` parameter to control this behavior.\n",
            "  _warn_prf(average, modifier, msg_start, len(result))\n",
            "\r 98%|█████████▊| 78/80 [00:13<00:00,  5.72it/s]"
          ]
        },
        {
          "name": "stdout",
          "output_type": "stream",
          "text": [
            "_Image_13L_8\n"
          ]
        },
        {
          "name": "stderr",
          "output_type": "stream",
          "text": [
            "\r 99%|█████████▉| 79/80 [00:13<00:00,  5.66it/s]"
          ]
        },
        {
          "name": "stdout",
          "output_type": "stream",
          "text": [
            "(256, 256, 1) 0.9912326 0.00252111\n",
            "(256, 256, 3) (256, 256) (256, 256)\n",
            "_Image_13L_9\n",
            "(256, 256, 1) 0.99976903 0.0038702805\n",
            "(256, 256, 3) (256, 256) (256, 256)\n"
          ]
        },
        {
          "name": "stderr",
          "output_type": "stream",
          "text": [
            "100%|██████████| 80/80 [00:13<00:00,  5.80it/s]"
          ]
        },
        {
          "name": "stdout",
          "output_type": "stream",
          "text": [
            "Threshold: 0.50000\n",
            "Accuracy: 0.97203\n",
            "F1: 0.57619\n",
            "Jaccard: 0.44757\n",
            "Recall: 0.52438\n",
            "Precision: 0.71200\n",
            "AUC: 0.92468\n",
            "Dice Coeff: 0.49870\n"
          ]
        },
        {
          "name": "stderr",
          "output_type": "stream",
          "text": [
            "\n"
          ]
        }
      ],
      "source": [
        "dataset_path = f\"{root_path}/{split_name}/{split}/\"\n",
        "df_0_5, score_0_5 = compute_metrics(dataset_path,\n",
        "                    results_path=results_path,\n",
        "                    threshold=0.5,\n",
        "                    model=model,\n",
        "                    predictions_path=prediction_path,\n",
        "                    prediction_np_path=prediction_np_path)"
      ]
    },
    {
      "cell_type": "code",
      "execution_count": null,
      "metadata": {
        "colab": {
          "background_save": true
        },
        "id": "a5lvUqu1uoxt",
        "outputId": "84f0f051-213b-48ad-d911-1d1ac6302b54"
      },
      "outputs": [
        {
          "name": "stdout",
          "output_type": "stream",
          "text": [
            "Threshold 0.6\n"
          ]
        },
        {
          "name": "stderr",
          "output_type": "stream",
          "text": [
            "\r  0%|          | 0/80 [00:00<?, ?it/s]"
          ]
        },
        {
          "name": "stdout",
          "output_type": "stream",
          "text": [
            "_Image_11L_0\n"
          ]
        },
        {
          "name": "stderr",
          "output_type": "stream",
          "text": [
            "\r  1%|▏         | 1/80 [00:00<00:13,  6.03it/s]"
          ]
        },
        {
          "name": "stdout",
          "output_type": "stream",
          "text": [
            "(256, 256, 1) 0.9987715 0.0046429676\n",
            "(256, 256, 3) (256, 256) (256, 256)\n",
            "_Image_11L_1\n",
            "(256, 256, 1) 0.99988997 0.0027171695\n",
            "(256, 256, 3) (256, 256) (256, 256)\n"
          ]
        },
        {
          "name": "stderr",
          "output_type": "stream",
          "text": [
            "\r  2%|▎         | 2/80 [00:00<00:13,  5.90it/s]"
          ]
        },
        {
          "name": "stdout",
          "output_type": "stream",
          "text": [
            "_Image_11L_10\n",
            "(256, 256, 1) 0.9999999 0.0008030438\n",
            "(256, 256, 3) (256, 256) (256, 256)\n"
          ]
        },
        {
          "name": "stderr",
          "output_type": "stream",
          "text": [
            "\r  4%|▍         | 3/80 [00:00<00:13,  5.87it/s]"
          ]
        },
        {
          "name": "stdout",
          "output_type": "stream",
          "text": [
            "_Image_11L_11\n"
          ]
        },
        {
          "name": "stderr",
          "output_type": "stream",
          "text": [
            "\r  5%|▌         | 4/80 [00:00<00:13,  5.82it/s]"
          ]
        },
        {
          "name": "stdout",
          "output_type": "stream",
          "text": [
            "(256, 256, 1) 0.99984324 0.0025734701\n",
            "(256, 256, 3) (256, 256) (256, 256)\n",
            "_Image_11L_12\n",
            "(256, 256, 1) 0.049601413 0.004268832\n",
            "(256, 256, 3) (256, 256) (256, 256)\n"
          ]
        },
        {
          "name": "stderr",
          "output_type": "stream",
          "text": [
            "/usr/local/lib/python3.7/dist-packages/sklearn/metrics/_classification.py:1318: UndefinedMetricWarning: Precision is ill-defined and being set to 0.0 due to no predicted samples. Use `zero_division` parameter to control this behavior.\n",
            "  _warn_prf(average, modifier, msg_start, len(result))\n",
            "\r  6%|▋         | 5/80 [00:00<00:12,  5.87it/s]"
          ]
        },
        {
          "name": "stdout",
          "output_type": "stream",
          "text": [
            "_Image_11L_13\n",
            "(256, 256, 1) 0.99999976 0.0042324015\n",
            "(256, 256, 3) (256, 256) (256, 256)\n"
          ]
        },
        {
          "name": "stderr",
          "output_type": "stream",
          "text": [
            "\r  8%|▊         | 6/80 [00:01<00:12,  5.84it/s]"
          ]
        },
        {
          "name": "stdout",
          "output_type": "stream",
          "text": [
            "_Image_11L_14\n"
          ]
        },
        {
          "name": "stderr",
          "output_type": "stream",
          "text": [
            "\r  9%|▉         | 7/80 [00:01<00:12,  5.82it/s]"
          ]
        },
        {
          "name": "stdout",
          "output_type": "stream",
          "text": [
            "(256, 256, 1) 0.99999976 0.002121622\n",
            "(256, 256, 3) (256, 256) (256, 256)\n",
            "_Image_11L_15\n",
            "(256, 256, 1) 0.99990594 0.0040342994\n",
            "(256, 256, 3) (256, 256) (256, 256)\n"
          ]
        },
        {
          "name": "stderr",
          "output_type": "stream",
          "text": [
            "\r 10%|█         | 8/80 [00:01<00:12,  5.77it/s]"
          ]
        },
        {
          "name": "stdout",
          "output_type": "stream",
          "text": [
            "_Image_11L_2\n",
            "(256, 256, 1) 0.9999993 0.0028697378\n",
            "(256, 256, 3) (256, 256) (256, 256)\n"
          ]
        },
        {
          "name": "stderr",
          "output_type": "stream",
          "text": [
            "\r 11%|█▏        | 9/80 [00:01<00:12,  5.68it/s]"
          ]
        },
        {
          "name": "stdout",
          "output_type": "stream",
          "text": [
            "_Image_11L_3\n"
          ]
        },
        {
          "name": "stderr",
          "output_type": "stream",
          "text": [
            "/usr/local/lib/python3.7/dist-packages/sklearn/metrics/_classification.py:1318: UndefinedMetricWarning: Recall is ill-defined and being set to 0.0 due to no true samples. Use `zero_division` parameter to control this behavior.\n",
            "  _warn_prf(average, modifier, msg_start, len(result))\n",
            "\r 12%|█▎        | 10/80 [00:01<00:11,  5.93it/s]"
          ]
        },
        {
          "name": "stdout",
          "output_type": "stream",
          "text": [
            "(256, 256, 1) 0.8003436 0.0025863182\n",
            "(256, 256, 3) (256, 256) (256, 256)\n",
            "_Image_11L_4\n",
            "(256, 256, 1) 0.9998852 0.0042024036\n",
            "(256, 256, 3) (256, 256) (256, 256)\n"
          ]
        },
        {
          "name": "stderr",
          "output_type": "stream",
          "text": [
            "\r 14%|█▍        | 11/80 [00:01<00:11,  5.89it/s]"
          ]
        },
        {
          "name": "stdout",
          "output_type": "stream",
          "text": [
            "_Image_11L_5\n",
            "(256, 256, 1) 0.9999999 0.0028104282\n",
            "(256, 256, 3) (256, 256) (256, 256)\n"
          ]
        },
        {
          "name": "stderr",
          "output_type": "stream",
          "text": [
            "\r 15%|█▌        | 12/80 [00:02<00:11,  5.87it/s]"
          ]
        },
        {
          "name": "stdout",
          "output_type": "stream",
          "text": [
            "_Image_11L_6\n"
          ]
        },
        {
          "name": "stderr",
          "output_type": "stream",
          "text": [
            "\r 16%|█▋        | 13/80 [00:02<00:11,  5.92it/s]"
          ]
        },
        {
          "name": "stdout",
          "output_type": "stream",
          "text": [
            "(256, 256, 1) 0.9999994 1.573155e-07\n",
            "(256, 256, 3) (256, 256) (256, 256)\n",
            "_Image_11L_7\n",
            "(256, 256, 1) 0.98626477 0.0034027868\n",
            "(256, 256, 3) (256, 256) (256, 256)\n"
          ]
        },
        {
          "name": "stderr",
          "output_type": "stream",
          "text": [
            "\r 18%|█▊        | 14/80 [00:02<00:11,  5.89it/s]"
          ]
        },
        {
          "name": "stdout",
          "output_type": "stream",
          "text": [
            "_Image_11L_8\n",
            "(256, 256, 1) 0.999972 0.004513757\n",
            "(256, 256, 3) (256, 256) (256, 256)\n"
          ]
        },
        {
          "name": "stderr",
          "output_type": "stream",
          "text": [
            "\r 19%|█▉        | 15/80 [00:02<00:11,  5.88it/s]"
          ]
        },
        {
          "name": "stdout",
          "output_type": "stream",
          "text": [
            "_Image_11L_9\n"
          ]
        },
        {
          "name": "stderr",
          "output_type": "stream",
          "text": [
            "\r 20%|██        | 16/80 [00:02<00:11,  5.79it/s]"
          ]
        },
        {
          "name": "stdout",
          "output_type": "stream",
          "text": [
            "(256, 256, 1) 0.9999975 0.0023430444\n",
            "(256, 256, 3) (256, 256) (256, 256)\n",
            "_Image_11R_0\n",
            "(256, 256, 1) 0.9968839 0.0046429676\n",
            "(256, 256, 3) (256, 256) (256, 256)\n"
          ]
        },
        {
          "name": "stderr",
          "output_type": "stream",
          "text": [
            "\r 21%|██▏       | 17/80 [00:02<00:10,  5.77it/s]"
          ]
        },
        {
          "name": "stdout",
          "output_type": "stream",
          "text": [
            "_Image_11R_1\n",
            "(256, 256, 1) 0.9999335 0.0045488267\n",
            "(256, 256, 3) (256, 256) (256, 256)\n"
          ]
        },
        {
          "name": "stderr",
          "output_type": "stream",
          "text": [
            "\r 22%|██▎       | 18/80 [00:03<00:10,  5.74it/s]"
          ]
        },
        {
          "name": "stdout",
          "output_type": "stream",
          "text": [
            "_Image_11R_10\n"
          ]
        },
        {
          "name": "stderr",
          "output_type": "stream",
          "text": [
            "\r 24%|██▍       | 19/80 [00:03<00:10,  5.64it/s]"
          ]
        },
        {
          "name": "stdout",
          "output_type": "stream",
          "text": [
            "(256, 256, 1) 0.9999995 8.8173735e-10\n",
            "(256, 256, 3) (256, 256) (256, 256)\n",
            "_Image_11R_11\n",
            "(256, 256, 1) 0.9999925 0.004258623\n",
            "(256, 256, 3) (256, 256) (256, 256)\n"
          ]
        },
        {
          "name": "stderr",
          "output_type": "stream",
          "text": [
            "\r 25%|██▌       | 20/80 [00:03<00:10,  5.67it/s]"
          ]
        },
        {
          "name": "stdout",
          "output_type": "stream",
          "text": [
            "_Image_11R_12\n",
            "(256, 256, 1) 0.98729914 0.0031400986\n",
            "(256, 256, 3) (256, 256) (256, 256)\n"
          ]
        },
        {
          "name": "stderr",
          "output_type": "stream",
          "text": [
            "\r 26%|██▋       | 21/80 [00:03<00:10,  5.80it/s]"
          ]
        },
        {
          "name": "stdout",
          "output_type": "stream",
          "text": [
            "_Image_11R_13\n"
          ]
        },
        {
          "name": "stderr",
          "output_type": "stream",
          "text": [
            "\r 28%|██▊       | 22/80 [00:03<00:09,  5.85it/s]"
          ]
        },
        {
          "name": "stdout",
          "output_type": "stream",
          "text": [
            "(256, 256, 1) 0.99999964 0.004648899\n",
            "(256, 256, 3) (256, 256) (256, 256)\n",
            "_Image_11R_14\n",
            "(256, 256, 1) 0.99998474 0.0039024744\n",
            "(256, 256, 3) (256, 256) (256, 256)\n"
          ]
        },
        {
          "name": "stderr",
          "output_type": "stream",
          "text": [
            "\r 29%|██▉       | 23/80 [00:03<00:09,  5.87it/s]"
          ]
        },
        {
          "name": "stdout",
          "output_type": "stream",
          "text": [
            "_Image_11R_15\n",
            "(256, 256, 1) 0.99977547 0.0032324633\n",
            "(256, 256, 3) (256, 256) (256, 256)\n"
          ]
        },
        {
          "name": "stderr",
          "output_type": "stream",
          "text": [
            "\r 30%|███       | 24/80 [00:04<00:09,  5.92it/s]"
          ]
        },
        {
          "name": "stdout",
          "output_type": "stream",
          "text": [
            "_Image_11R_2\n"
          ]
        },
        {
          "name": "stderr",
          "output_type": "stream",
          "text": [
            "\r 31%|███▏      | 25/80 [00:04<00:09,  5.91it/s]"
          ]
        },
        {
          "name": "stdout",
          "output_type": "stream",
          "text": [
            "(256, 256, 1) 0.9993631 0.0046431855\n",
            "(256, 256, 3) (256, 256) (256, 256)\n",
            "_Image_11R_3\n",
            "(256, 256, 1) 0.9980046 0.0046429676\n",
            "(256, 256, 3) (256, 256) (256, 256)\n"
          ]
        },
        {
          "name": "stderr",
          "output_type": "stream",
          "text": [
            "\r 32%|███▎      | 26/80 [00:04<00:09,  5.94it/s]"
          ]
        },
        {
          "name": "stdout",
          "output_type": "stream",
          "text": [
            "_Image_11R_4\n",
            "(256, 256, 1) 0.995226 0.0033644165\n",
            "(256, 256, 3) (256, 256) (256, 256)\n"
          ]
        },
        {
          "name": "stderr",
          "output_type": "stream",
          "text": [
            "\r 34%|███▍      | 27/80 [00:04<00:08,  5.90it/s]"
          ]
        },
        {
          "name": "stdout",
          "output_type": "stream",
          "text": [
            "_Image_11R_5\n"
          ]
        },
        {
          "name": "stderr",
          "output_type": "stream",
          "text": [
            "\r 35%|███▌      | 28/80 [00:04<00:08,  5.89it/s]"
          ]
        },
        {
          "name": "stdout",
          "output_type": "stream",
          "text": [
            "(256, 256, 1) 0.9999653 2.4565208e-05\n",
            "(256, 256, 3) (256, 256) (256, 256)\n",
            "_Image_11R_6\n",
            "(256, 256, 1) 0.9999951 2.6966032e-07\n",
            "(256, 256, 3) (256, 256) (256, 256)\n"
          ]
        },
        {
          "name": "stderr",
          "output_type": "stream",
          "text": [
            "\r 36%|███▋      | 29/80 [00:04<00:08,  5.72it/s]"
          ]
        },
        {
          "name": "stdout",
          "output_type": "stream",
          "text": [
            "_Image_11R_7\n",
            "(256, 256, 1) 0.9967278 0.0046063988\n",
            "(256, 256, 3) (256, 256) (256, 256)\n"
          ]
        },
        {
          "name": "stderr",
          "output_type": "stream",
          "text": [
            "\r 38%|███▊      | 30/80 [00:05<00:08,  5.74it/s]"
          ]
        },
        {
          "name": "stdout",
          "output_type": "stream",
          "text": [
            "_Image_11R_8\n"
          ]
        },
        {
          "name": "stderr",
          "output_type": "stream",
          "text": [
            "/usr/local/lib/python3.7/dist-packages/sklearn/metrics/_classification.py:1318: UndefinedMetricWarning: Precision is ill-defined and being set to 0.0 due to no predicted samples. Use `zero_division` parameter to control this behavior.\n",
            "  _warn_prf(average, modifier, msg_start, len(result))\n",
            "\r 39%|███▉      | 31/80 [00:05<00:08,  5.85it/s]"
          ]
        },
        {
          "name": "stdout",
          "output_type": "stream",
          "text": [
            "(256, 256, 1) 0.29553205 0.0033598053\n",
            "(256, 256, 3) (256, 256) (256, 256)\n",
            "_Image_11R_9\n",
            "(256, 256, 1) 0.999992 1.4128108e-07\n",
            "(256, 256, 3) (256, 256) (256, 256)\n"
          ]
        },
        {
          "name": "stderr",
          "output_type": "stream",
          "text": [
            "\r 40%|████      | 32/80 [00:05<00:08,  5.88it/s]"
          ]
        },
        {
          "name": "stdout",
          "output_type": "stream",
          "text": [
            "_Image_12L_0\n",
            "(256, 256, 1) 0.4005614 0.00415789\n",
            "(256, 256, 3) (256, 256) (256, 256)\n"
          ]
        },
        {
          "name": "stderr",
          "output_type": "stream",
          "text": [
            "/usr/local/lib/python3.7/dist-packages/sklearn/metrics/_classification.py:1318: UndefinedMetricWarning: Precision is ill-defined and being set to 0.0 due to no predicted samples. Use `zero_division` parameter to control this behavior.\n",
            "  _warn_prf(average, modifier, msg_start, len(result))\n",
            "\r 41%|████▏     | 33/80 [00:05<00:07,  5.95it/s]"
          ]
        },
        {
          "name": "stdout",
          "output_type": "stream",
          "text": [
            "_Image_12L_1\n"
          ]
        },
        {
          "name": "stderr",
          "output_type": "stream",
          "text": [
            "\r 42%|████▎     | 34/80 [00:05<00:07,  5.99it/s]"
          ]
        },
        {
          "name": "stdout",
          "output_type": "stream",
          "text": [
            "(256, 256, 1) 0.9999802 0.0032277377\n",
            "(256, 256, 3) (256, 256) (256, 256)\n",
            "_Image_12L_10\n",
            "(256, 256, 1) 1.0 8.5198636e-08\n",
            "(256, 256, 3) (256, 256) (256, 256)\n"
          ]
        },
        {
          "name": "stderr",
          "output_type": "stream",
          "text": [
            "\r 44%|████▍     | 35/80 [00:05<00:07,  5.92it/s]"
          ]
        },
        {
          "name": "stdout",
          "output_type": "stream",
          "text": [
            "_Image_12L_11\n",
            "(256, 256, 1) 0.99996996 0.0035227786\n",
            "(256, 256, 3) (256, 256) (256, 256)\n"
          ]
        },
        {
          "name": "stderr",
          "output_type": "stream",
          "text": [
            "\r 45%|████▌     | 36/80 [00:06<00:07,  5.91it/s]"
          ]
        },
        {
          "name": "stdout",
          "output_type": "stream",
          "text": [
            "_Image_12L_12\n"
          ]
        },
        {
          "name": "stderr",
          "output_type": "stream",
          "text": [
            "\r 46%|████▋     | 37/80 [00:06<00:07,  5.91it/s]"
          ]
        },
        {
          "name": "stdout",
          "output_type": "stream",
          "text": [
            "(256, 256, 1) 0.99973553 0.0037810185\n",
            "(256, 256, 3) (256, 256) (256, 256)\n",
            "_Image_12L_13\n",
            "(256, 256, 1) 0.9999995 0.002857622\n",
            "(256, 256, 3) (256, 256) (256, 256)\n"
          ]
        },
        {
          "name": "stderr",
          "output_type": "stream",
          "text": [
            "\r 48%|████▊     | 38/80 [00:06<00:07,  5.86it/s]"
          ]
        },
        {
          "name": "stdout",
          "output_type": "stream",
          "text": [
            "_Image_12L_14\n",
            "(256, 256, 1) 0.99999964 0.0033636985\n",
            "(256, 256, 3) (256, 256) (256, 256)\n"
          ]
        },
        {
          "name": "stderr",
          "output_type": "stream",
          "text": [
            "\r 49%|████▉     | 39/80 [00:06<00:07,  5.74it/s]"
          ]
        },
        {
          "name": "stdout",
          "output_type": "stream",
          "text": [
            "_Image_12L_15\n"
          ]
        },
        {
          "name": "stderr",
          "output_type": "stream",
          "text": [
            "\r 50%|█████     | 40/80 [00:06<00:06,  5.75it/s]"
          ]
        },
        {
          "name": "stdout",
          "output_type": "stream",
          "text": [
            "(256, 256, 1) 0.99986625 0.003537002\n",
            "(256, 256, 3) (256, 256) (256, 256)\n",
            "_Image_12L_2\n",
            "(256, 256, 1) 0.9999969 0.0025377485\n",
            "(256, 256, 3) (256, 256) (256, 256)\n"
          ]
        },
        {
          "name": "stderr",
          "output_type": "stream",
          "text": [
            "\r 51%|█████▏    | 41/80 [00:07<00:06,  5.70it/s]"
          ]
        },
        {
          "name": "stdout",
          "output_type": "stream",
          "text": [
            "_Image_12L_3\n",
            "(256, 256, 1) 0.9999603 0.003414143\n",
            "(256, 256, 3) (256, 256) (256, 256)\n"
          ]
        },
        {
          "name": "stderr",
          "output_type": "stream",
          "text": [
            "\r 52%|█████▎    | 42/80 [00:07<00:06,  5.81it/s]"
          ]
        },
        {
          "name": "stdout",
          "output_type": "stream",
          "text": [
            "_Image_12L_4\n"
          ]
        },
        {
          "name": "stderr",
          "output_type": "stream",
          "text": [
            "\r 54%|█████▍    | 43/80 [00:07<00:06,  5.87it/s]"
          ]
        },
        {
          "name": "stdout",
          "output_type": "stream",
          "text": [
            "(256, 256, 1) 0.998955 0.0033557187\n",
            "(256, 256, 3) (256, 256) (256, 256)\n",
            "_Image_12L_5\n",
            "(256, 256, 1) 0.9999974 0.003511732\n",
            "(256, 256, 3) (256, 256) (256, 256)\n"
          ]
        },
        {
          "name": "stderr",
          "output_type": "stream",
          "text": [
            "\r 55%|█████▌    | 44/80 [00:07<00:06,  5.83it/s]"
          ]
        },
        {
          "name": "stdout",
          "output_type": "stream",
          "text": [
            "_Image_12L_6\n",
            "(256, 256, 1) 0.9999999 1.3557551e-05\n",
            "(256, 256, 3) (256, 256) (256, 256)\n"
          ]
        },
        {
          "name": "stderr",
          "output_type": "stream",
          "text": [
            "\r 56%|█████▋    | 45/80 [00:07<00:06,  5.73it/s]"
          ]
        },
        {
          "name": "stdout",
          "output_type": "stream",
          "text": [
            "_Image_12L_7\n"
          ]
        },
        {
          "name": "stderr",
          "output_type": "stream",
          "text": [
            "\r 57%|█████▊    | 46/80 [00:07<00:05,  5.72it/s]"
          ]
        },
        {
          "name": "stdout",
          "output_type": "stream",
          "text": [
            "(256, 256, 1) 0.9999019 0.0032267175\n",
            "(256, 256, 3) (256, 256) (256, 256)\n",
            "_Image_12L_8\n",
            "(256, 256, 1) 0.9999968 0.0030922208\n",
            "(256, 256, 3) (256, 256) (256, 256)\n"
          ]
        },
        {
          "name": "stderr",
          "output_type": "stream",
          "text": [
            "\r 59%|█████▉    | 47/80 [00:08<00:05,  5.68it/s]"
          ]
        },
        {
          "name": "stdout",
          "output_type": "stream",
          "text": [
            "_Image_12L_9\n",
            "(256, 256, 1) 0.9999999 0.004067529\n",
            "(256, 256, 3) (256, 256) (256, 256)\n"
          ]
        },
        {
          "name": "stderr",
          "output_type": "stream",
          "text": [
            "\r 60%|██████    | 48/80 [00:08<00:05,  5.63it/s]"
          ]
        },
        {
          "name": "stdout",
          "output_type": "stream",
          "text": [
            "_Image_12R_0\n"
          ]
        },
        {
          "name": "stderr",
          "output_type": "stream",
          "text": [
            "\r 61%|██████▏   | 49/80 [00:08<00:05,  5.69it/s]"
          ]
        },
        {
          "name": "stdout",
          "output_type": "stream",
          "text": [
            "(256, 256, 1) 0.99998844 0.002374687\n",
            "(256, 256, 3) (256, 256) (256, 256)\n",
            "_Image_12R_1\n",
            "(256, 256, 1) 0.99999845 0.0034544407\n",
            "(256, 256, 3) (256, 256) (256, 256)\n"
          ]
        },
        {
          "name": "stderr",
          "output_type": "stream",
          "text": [
            "\r 62%|██████▎   | 50/80 [00:08<00:05,  5.68it/s]"
          ]
        },
        {
          "name": "stdout",
          "output_type": "stream",
          "text": [
            "_Image_12R_10\n",
            "(256, 256, 1) 0.99999964 0.0005527236\n",
            "(256, 256, 3) (256, 256) (256, 256)\n"
          ]
        },
        {
          "name": "stderr",
          "output_type": "stream",
          "text": [
            "\r 64%|██████▍   | 51/80 [00:08<00:05,  5.75it/s]"
          ]
        },
        {
          "name": "stdout",
          "output_type": "stream",
          "text": [
            "_Image_12R_11\n"
          ]
        },
        {
          "name": "stderr",
          "output_type": "stream",
          "text": [
            "\r 65%|██████▌   | 52/80 [00:08<00:04,  5.80it/s]"
          ]
        },
        {
          "name": "stdout",
          "output_type": "stream",
          "text": [
            "(256, 256, 1) 0.9999944 0.002276229\n",
            "(256, 256, 3) (256, 256) (256, 256)\n",
            "_Image_12R_12\n",
            "(256, 256, 1) 0.9970583 0.0025347255\n",
            "(256, 256, 3) (256, 256) (256, 256)\n"
          ]
        },
        {
          "name": "stderr",
          "output_type": "stream",
          "text": [
            "\r 66%|██████▋   | 53/80 [00:09<00:04,  5.88it/s]"
          ]
        },
        {
          "name": "stdout",
          "output_type": "stream",
          "text": [
            "_Image_12R_13\n",
            "(256, 256, 1) 0.9999999 0.0043093264\n",
            "(256, 256, 3) (256, 256) (256, 256)\n"
          ]
        },
        {
          "name": "stderr",
          "output_type": "stream",
          "text": [
            "\r 68%|██████▊   | 54/80 [00:09<00:04,  5.94it/s]"
          ]
        },
        {
          "name": "stdout",
          "output_type": "stream",
          "text": [
            "_Image_12R_14\n"
          ]
        },
        {
          "name": "stderr",
          "output_type": "stream",
          "text": [
            "\r 69%|██████▉   | 55/80 [00:09<00:04,  5.91it/s]"
          ]
        },
        {
          "name": "stdout",
          "output_type": "stream",
          "text": [
            "(256, 256, 1) 0.9999995 0.0039236676\n",
            "(256, 256, 3) (256, 256) (256, 256)\n",
            "_Image_12R_15\n",
            "(256, 256, 1) 0.99989927 0.00410131\n",
            "(256, 256, 3) (256, 256) (256, 256)\n"
          ]
        },
        {
          "name": "stderr",
          "output_type": "stream",
          "text": [
            "\r 70%|███████   | 56/80 [00:09<00:04,  5.90it/s]"
          ]
        },
        {
          "name": "stdout",
          "output_type": "stream",
          "text": [
            "_Image_12R_2\n",
            "(256, 256, 1) 0.99999714 0.0031307866\n",
            "(256, 256, 3) (256, 256) (256, 256)\n"
          ]
        },
        {
          "name": "stderr",
          "output_type": "stream",
          "text": [
            "\r 71%|███████▏  | 57/80 [00:09<00:03,  5.88it/s]"
          ]
        },
        {
          "name": "stdout",
          "output_type": "stream",
          "text": [
            "_Image_12R_3\n"
          ]
        },
        {
          "name": "stderr",
          "output_type": "stream",
          "text": [
            "\r 72%|███████▎  | 58/80 [00:09<00:03,  5.82it/s]"
          ]
        },
        {
          "name": "stdout",
          "output_type": "stream",
          "text": [
            "(256, 256, 1) 0.9996313 0.0025048864\n",
            "(256, 256, 3) (256, 256) (256, 256)\n",
            "_Image_12R_4\n",
            "(256, 256, 1) 0.9999912 0.0032362079\n",
            "(256, 256, 3) (256, 256) (256, 256)\n"
          ]
        },
        {
          "name": "stderr",
          "output_type": "stream",
          "text": [
            "\r 74%|███████▍  | 59/80 [00:10<00:03,  5.71it/s]"
          ]
        },
        {
          "name": "stdout",
          "output_type": "stream",
          "text": [
            "_Image_12R_5\n",
            "(256, 256, 1) 0.99999726 0.0033391628\n",
            "(256, 256, 3) (256, 256) (256, 256)\n"
          ]
        },
        {
          "name": "stderr",
          "output_type": "stream",
          "text": [
            "\r 75%|███████▌  | 60/80 [00:10<00:03,  5.74it/s]"
          ]
        },
        {
          "name": "stdout",
          "output_type": "stream",
          "text": [
            "_Image_12R_6\n"
          ]
        },
        {
          "name": "stderr",
          "output_type": "stream",
          "text": [
            "\r 76%|███████▋  | 61/80 [00:10<00:03,  5.74it/s]"
          ]
        },
        {
          "name": "stdout",
          "output_type": "stream",
          "text": [
            "(256, 256, 1) 0.9999993 0.0038591032\n",
            "(256, 256, 3) (256, 256) (256, 256)\n",
            "_Image_12R_7\n",
            "(256, 256, 1) 0.99989855 0.0031861481\n",
            "(256, 256, 3) (256, 256) (256, 256)\n"
          ]
        },
        {
          "name": "stderr",
          "output_type": "stream",
          "text": [
            "\r 78%|███████▊  | 62/80 [00:10<00:03,  5.77it/s]"
          ]
        },
        {
          "name": "stdout",
          "output_type": "stream",
          "text": [
            "_Image_12R_8\n",
            "(256, 256, 1) 0.99591917 0.002776397\n",
            "(256, 256, 3) (256, 256) (256, 256)\n"
          ]
        },
        {
          "name": "stderr",
          "output_type": "stream",
          "text": [
            "\r 79%|███████▉  | 63/80 [00:10<00:02,  5.81it/s]"
          ]
        },
        {
          "name": "stdout",
          "output_type": "stream",
          "text": [
            "_Image_12R_9\n"
          ]
        },
        {
          "name": "stderr",
          "output_type": "stream",
          "text": [
            "\r 80%|████████  | 64/80 [00:10<00:02,  5.81it/s]"
          ]
        },
        {
          "name": "stdout",
          "output_type": "stream",
          "text": [
            "(256, 256, 1) 0.99999976 3.0002386e-05\n",
            "(256, 256, 3) (256, 256) (256, 256)\n",
            "_Image_13L_0\n",
            "(256, 256, 1) 0.9589067 0.0030078671\n",
            "(256, 256, 3) (256, 256) (256, 256)\n"
          ]
        },
        {
          "name": "stderr",
          "output_type": "stream",
          "text": [
            "\r 81%|████████▏ | 65/80 [00:11<00:02,  5.83it/s]"
          ]
        },
        {
          "name": "stdout",
          "output_type": "stream",
          "text": [
            "_Image_13L_1\n",
            "(256, 256, 1) 0.9996389 0.0031293882\n",
            "(256, 256, 3) (256, 256) (256, 256)\n"
          ]
        },
        {
          "name": "stderr",
          "output_type": "stream",
          "text": [
            "\r 82%|████████▎ | 66/80 [00:11<00:02,  5.70it/s]"
          ]
        },
        {
          "name": "stdout",
          "output_type": "stream",
          "text": [
            "_Image_13L_10\n"
          ]
        },
        {
          "name": "stderr",
          "output_type": "stream",
          "text": [
            "\r 84%|████████▍ | 67/80 [00:11<00:02,  5.65it/s]"
          ]
        },
        {
          "name": "stdout",
          "output_type": "stream",
          "text": [
            "(256, 256, 1) 0.99999964 4.4795113e-05\n",
            "(256, 256, 3) (256, 256) (256, 256)\n",
            "_Image_13L_11\n",
            "(256, 256, 1) 0.30293402 0.0029436394\n",
            "(256, 256, 3) (256, 256) (256, 256)\n"
          ]
        },
        {
          "name": "stderr",
          "output_type": "stream",
          "text": [
            "/usr/local/lib/python3.7/dist-packages/sklearn/metrics/_classification.py:1318: UndefinedMetricWarning: Precision is ill-defined and being set to 0.0 due to no predicted samples. Use `zero_division` parameter to control this behavior.\n",
            "  _warn_prf(average, modifier, msg_start, len(result))\n",
            "\r 85%|████████▌ | 68/80 [00:11<00:02,  5.66it/s]"
          ]
        },
        {
          "name": "stdout",
          "output_type": "stream",
          "text": [
            "_Image_13L_12\n",
            "(256, 256, 1) 0.039639395 0.0029281822\n",
            "(256, 256, 3) (256, 256) (256, 256)\n"
          ]
        },
        {
          "name": "stderr",
          "output_type": "stream",
          "text": [
            "/usr/local/lib/python3.7/dist-packages/sklearn/metrics/_classification.py:1318: UndefinedMetricWarning: Precision is ill-defined and being set to 0.0 due to no predicted samples. Use `zero_division` parameter to control this behavior.\n",
            "  _warn_prf(average, modifier, msg_start, len(result))\n",
            "\r 86%|████████▋ | 69/80 [00:11<00:01,  5.72it/s]"
          ]
        },
        {
          "name": "stdout",
          "output_type": "stream",
          "text": [
            "_Image_13L_13\n"
          ]
        },
        {
          "name": "stderr",
          "output_type": "stream",
          "text": [
            "\r 88%|████████▊ | 70/80 [00:12<00:01,  5.76it/s]"
          ]
        },
        {
          "name": "stdout",
          "output_type": "stream",
          "text": [
            "(256, 256, 1) 0.9987079 0.0031140803\n",
            "(256, 256, 3) (256, 256) (256, 256)\n",
            "_Image_13L_14\n",
            "(256, 256, 1) 0.9972811 0.0030782265\n",
            "(256, 256, 3) (256, 256) (256, 256)\n"
          ]
        },
        {
          "name": "stderr",
          "output_type": "stream",
          "text": [
            "\r 89%|████████▉ | 71/80 [00:12<00:01,  5.78it/s]"
          ]
        },
        {
          "name": "stdout",
          "output_type": "stream",
          "text": [
            "_Image_13L_15\n",
            "(256, 256, 1) 0.0517009 0.0032269463\n",
            "(256, 256, 3) (256, 256) (256, 256)\n"
          ]
        },
        {
          "name": "stderr",
          "output_type": "stream",
          "text": [
            "/usr/local/lib/python3.7/dist-packages/sklearn/metrics/_classification.py:1318: UndefinedMetricWarning: Precision is ill-defined and being set to 0.0 due to no predicted samples. Use `zero_division` parameter to control this behavior.\n",
            "  _warn_prf(average, modifier, msg_start, len(result))\n",
            "\r 90%|█████████ | 72/80 [00:12<00:01,  5.86it/s]"
          ]
        },
        {
          "name": "stdout",
          "output_type": "stream",
          "text": [
            "_Image_13L_2\n"
          ]
        },
        {
          "name": "stderr",
          "output_type": "stream",
          "text": [
            "\r 91%|█████████▏| 73/80 [00:12<00:01,  5.84it/s]"
          ]
        },
        {
          "name": "stdout",
          "output_type": "stream",
          "text": [
            "(256, 256, 1) 0.9999676 0.003431531\n",
            "(256, 256, 3) (256, 256) (256, 256)\n",
            "_Image_13L_3\n",
            "(256, 256, 1) 0.75342274 0.004457634\n",
            "(256, 256, 3) (256, 256) (256, 256)\n"
          ]
        },
        {
          "name": "stderr",
          "output_type": "stream",
          "text": [
            "\r 92%|█████████▎| 74/80 [00:12<00:01,  5.85it/s]"
          ]
        },
        {
          "name": "stdout",
          "output_type": "stream",
          "text": [
            "_Image_13L_4\n",
            "(256, 256, 1) 0.9987142 0.0020718528\n",
            "(256, 256, 3) (256, 256) (256, 256)\n"
          ]
        },
        {
          "name": "stderr",
          "output_type": "stream",
          "text": [
            "\r 94%|█████████▍| 75/80 [00:12<00:00,  5.79it/s]"
          ]
        },
        {
          "name": "stdout",
          "output_type": "stream",
          "text": [
            "_Image_13L_5\n"
          ]
        },
        {
          "name": "stderr",
          "output_type": "stream",
          "text": [
            "\r 95%|█████████▌| 76/80 [00:13<00:00,  5.73it/s]"
          ]
        },
        {
          "name": "stdout",
          "output_type": "stream",
          "text": [
            "(256, 256, 1) 0.99998236 0.0033782558\n",
            "(256, 256, 3) (256, 256) (256, 256)\n",
            "_Image_13L_6\n",
            "(256, 256, 1) 1.0 0.0017277662\n",
            "(256, 256, 3) (256, 256) (256, 256)\n"
          ]
        },
        {
          "name": "stderr",
          "output_type": "stream",
          "text": [
            "\r 96%|█████████▋| 77/80 [00:13<00:00,  5.66it/s]"
          ]
        },
        {
          "name": "stdout",
          "output_type": "stream",
          "text": [
            "_Image_13L_7\n",
            "(256, 256, 1) 0.1102081 0.0033279336\n",
            "(256, 256, 3) (256, 256) (256, 256)\n"
          ]
        },
        {
          "name": "stderr",
          "output_type": "stream",
          "text": [
            "/usr/local/lib/python3.7/dist-packages/sklearn/metrics/_classification.py:1318: UndefinedMetricWarning: Precision is ill-defined and being set to 0.0 due to no predicted samples. Use `zero_division` parameter to control this behavior.\n",
            "  _warn_prf(average, modifier, msg_start, len(result))\n",
            "\r 98%|█████████▊| 78/80 [00:13<00:00,  5.68it/s]"
          ]
        },
        {
          "name": "stdout",
          "output_type": "stream",
          "text": [
            "_Image_13L_8\n"
          ]
        },
        {
          "name": "stderr",
          "output_type": "stream",
          "text": [
            "\r 99%|█████████▉| 79/80 [00:13<00:00,  5.73it/s]"
          ]
        },
        {
          "name": "stdout",
          "output_type": "stream",
          "text": [
            "(256, 256, 1) 0.9912326 0.00252111\n",
            "(256, 256, 3) (256, 256) (256, 256)\n",
            "_Image_13L_9\n",
            "(256, 256, 1) 0.99976903 0.0038702805\n",
            "(256, 256, 3) (256, 256) (256, 256)\n"
          ]
        },
        {
          "name": "stderr",
          "output_type": "stream",
          "text": [
            "100%|██████████| 80/80 [00:13<00:00,  5.80it/s]"
          ]
        },
        {
          "name": "stdout",
          "output_type": "stream",
          "text": [
            "Threshold: 0.60000\n",
            "Accuracy: 0.97185\n",
            "F1: 0.56728\n",
            "Jaccard: 0.43907\n",
            "Recall: 0.50795\n",
            "Precision: 0.72116\n",
            "AUC: 0.92468\n",
            "Dice Coeff: 0.49870\n"
          ]
        },
        {
          "name": "stderr",
          "output_type": "stream",
          "text": [
            "\n"
          ]
        }
      ],
      "source": [
        "dataset_path = f\"{root_path}/{split_name}/{split}/\"\n",
        "df_0_6, score_0_6 = compute_metrics(dataset_path,\n",
        "                    results_path=results_path,\n",
        "                    threshold=0.6,\n",
        "                    model=model,\n",
        "                    predictions_path=prediction_path,\n",
        "                    prediction_np_path=prediction_np_path)"
      ]
    },
    {
      "cell_type": "code",
      "execution_count": null,
      "metadata": {
        "colab": {
          "background_save": true
        },
        "id": "braGlLM9Wgr9",
        "outputId": "221c9c5c-ff84-4f73-c2a5-e83f6730a8fb"
      },
      "outputs": [
        {
          "data": {
            "application/vnd.google.colaboratory.intrinsic+json": {
              "type": "string"
            },
            "text/plain": [
              "'/content/datasets/chase_db_256_256_dice_bce_0_4__0_4_1//results_reconstructed/'"
            ]
          },
          "execution_count": null,
          "metadata": {},
          "output_type": "execute_result"
        }
      ],
      "source": [
        "results_path_reconstructed"
      ]
    },
    {
      "cell_type": "code",
      "execution_count": null,
      "metadata": {
        "colab": {
          "background_save": true
        },
        "id": "ATVyvynpSGYQ",
        "outputId": "c1fe81ae-991b-4d03-9829-be78afd1aaf7"
      },
      "outputs": [
        {
          "name": "stdout",
          "output_type": "stream",
          "text": [
            "chase_db_256_256_dice_bce_0_4__0_4_1  logs\n"
          ]
        }
      ],
      "source": [
        "!ls "
      ]
    },
    {
      "cell_type": "code",
      "execution_count": null,
      "metadata": {
        "colab": {
          "background_save": true
        },
        "id": "NwV0hgRzjBbR",
        "outputId": "d2e4329f-e9b3-43b4-d74c-2b0629fee70e"
      },
      "outputs": [
        {
          "name": "stdout",
          "output_type": "stream",
          "text": [
            "chase_db_256_256_dice_bce_0_4__0_4_1\n"
          ]
        }
      ],
      "source": [
        "folder_name = root_path.split(\"/\")[3]\n",
        "print(folder_name)"
      ]
    },
    {
      "cell_type": "code",
      "execution_count": null,
      "metadata": {
        "colab": {
          "background_save": true
        },
        "id": "tGxzllboKasD",
        "outputId": "e8ada32a-0f1b-4410-d8de-41b258c7f639"
      },
      "outputs": [
        {
          "name": "stdout",
          "output_type": "stream",
          "text": [
            "  adding: chase_db_256_256_dice_bce_0_4__0_4_1/ (stored 0%)\n",
            "  adding: chase_db_256_256_dice_bce_0_4__0_4_1/predictions/ (stored 0%)\n",
            "  adding: chase_db_256_256_dice_bce_0_4__0_4_1/predictions/_Image_12L_15.png (deflated 35%)\n",
            "  adding: chase_db_256_256_dice_bce_0_4__0_4_1/predictions/_Image_13L_0.png (deflated 60%)\n",
            "  adding: chase_db_256_256_dice_bce_0_4__0_4_1/predictions/_Image_12L_8.png (deflated 12%)\n",
            "  adding: chase_db_256_256_dice_bce_0_4__0_4_1/predictions/_Image_13L_1.png (deflated 19%)\n",
            "  adding: chase_db_256_256_dice_bce_0_4__0_4_1/predictions/_Image_11L_13.png (deflated 12%)\n",
            "  adding: chase_db_256_256_dice_bce_0_4__0_4_1/predictions/_Image_12L_4.png (deflated 42%)\n",
            "  adding: chase_db_256_256_dice_bce_0_4__0_4_1/predictions/_Image_11L_11.png (deflated 45%)\n",
            "  adding: chase_db_256_256_dice_bce_0_4__0_4_1/predictions/_Image_11L_15.png (deflated 39%)\n",
            "  adding: chase_db_256_256_dice_bce_0_4__0_4_1/predictions/_Image_12R_3.png (deflated 34%)\n",
            "  adding: chase_db_256_256_dice_bce_0_4__0_4_1/predictions/_Image_13L_2.png (deflated 17%)\n",
            "  adding: chase_db_256_256_dice_bce_0_4__0_4_1/predictions/_Image_13L_7.png (deflated 83%)\n",
            "  adding: chase_db_256_256_dice_bce_0_4__0_4_1/predictions/_Image_12R_15.png (deflated 39%)\n",
            "  adding: chase_db_256_256_dice_bce_0_4__0_4_1/predictions/_Image_12R_4.png (deflated 3%)\n",
            "  adding: chase_db_256_256_dice_bce_0_4__0_4_1/predictions/_Image_11L_12.png (deflated 83%)\n",
            "  adding: chase_db_256_256_dice_bce_0_4__0_4_1/predictions/_Image_13L_8.png (deflated 62%)\n",
            "  adding: chase_db_256_256_dice_bce_0_4__0_4_1/predictions/_Image_13L_12.png (deflated 83%)\n",
            "  adding: chase_db_256_256_dice_bce_0_4__0_4_1/predictions/_Image_13L_3.png (deflated 78%)\n",
            "  adding: chase_db_256_256_dice_bce_0_4__0_4_1/predictions/_Image_12L_13.png (deflated 20%)\n",
            "  adding: chase_db_256_256_dice_bce_0_4__0_4_1/predictions/_Image_13L_6.png (deflated 8%)\n",
            "  adding: chase_db_256_256_dice_bce_0_4__0_4_1/predictions/_Image_11R_11.png (deflated 14%)\n",
            "  adding: chase_db_256_256_dice_bce_0_4__0_4_1/predictions/_Image_13L_11.png (deflated 83%)\n",
            "  adding: chase_db_256_256_dice_bce_0_4__0_4_1/predictions/_Image_11L_14.png (deflated 11%)\n",
            "  adding: chase_db_256_256_dice_bce_0_4__0_4_1/predictions/_Image_11L_7.png (deflated 45%)\n",
            "  adding: chase_db_256_256_dice_bce_0_4__0_4_1/predictions/_Image_13L_15.png (deflated 83%)\n",
            "  adding: chase_db_256_256_dice_bce_0_4__0_4_1/predictions/_Image_11R_3.png (deflated 48%)\n",
            "  adding: chase_db_256_256_dice_bce_0_4__0_4_1/predictions/_Image_13L_9.png (deflated 7%)\n",
            "  adding: chase_db_256_256_dice_bce_0_4__0_4_1/predictions/_Image_12L_9.png (deflated 12%)\n",
            "  adding: chase_db_256_256_dice_bce_0_4__0_4_1/predictions/_Image_11R_15.png (deflated 39%)\n",
            "  adding: chase_db_256_256_dice_bce_0_4__0_4_1/predictions/_Image_11L_9.png (deflated 8%)\n",
            "  adding: chase_db_256_256_dice_bce_0_4__0_4_1/predictions/_Image_11L_1.png (deflated 40%)\n",
            "  adding: chase_db_256_256_dice_bce_0_4__0_4_1/predictions/_Image_12R_14.png (deflated 12%)\n",
            "  adding: chase_db_256_256_dice_bce_0_4__0_4_1/predictions/_Image_11R_6.png (deflated 14%)\n",
            "  adding: chase_db_256_256_dice_bce_0_4__0_4_1/predictions/_Image_13L_5.png (deflated 9%)\n",
            "  adding: chase_db_256_256_dice_bce_0_4__0_4_1/predictions/_Image_12L_2.png (deflated 14%)\n",
            "  adding: chase_db_256_256_dice_bce_0_4__0_4_1/predictions/_Image_11R_12.png (deflated 73%)\n",
            "  adding: chase_db_256_256_dice_bce_0_4__0_4_1/predictions/_Image_12R_1.png (deflated 29%)\n",
            "  adding: chase_db_256_256_dice_bce_0_4__0_4_1/predictions/_Image_12L_3.png (deflated 36%)\n",
            "  adding: chase_db_256_256_dice_bce_0_4__0_4_1/predictions/_Image_12R_7.png (deflated 16%)\n",
            "  adding: chase_db_256_256_dice_bce_0_4__0_4_1/predictions/_Image_11L_8.png (deflated 19%)\n",
            "  adding: chase_db_256_256_dice_bce_0_4__0_4_1/predictions/_Image_11R_14.png (deflated 40%)\n",
            "  adding: chase_db_256_256_dice_bce_0_4__0_4_1/predictions/_Image_12R_9.png (deflated 7%)\n",
            "  adding: chase_db_256_256_dice_bce_0_4__0_4_1/predictions/_Image_11R_10.png (deflated 8%)\n",
            "  adding: chase_db_256_256_dice_bce_0_4__0_4_1/predictions/_Image_12L_10.png (deflated 4%)\n",
            "  adding: chase_db_256_256_dice_bce_0_4__0_4_1/predictions/_Image_12L_11.png (deflated 18%)\n",
            "  adding: chase_db_256_256_dice_bce_0_4__0_4_1/predictions/_Image_12L_14.png (deflated 13%)\n",
            "  adding: chase_db_256_256_dice_bce_0_4__0_4_1/predictions/_Image_11L_5.png (deflated 6%)\n",
            "  adding: chase_db_256_256_dice_bce_0_4__0_4_1/predictions/_Image_11R_7.png (deflated 34%)\n",
            "  adding: chase_db_256_256_dice_bce_0_4__0_4_1/predictions/_Image_12R_2.png (deflated 19%)\n",
            "  adding: chase_db_256_256_dice_bce_0_4__0_4_1/predictions/_Image_11R_13.png (deflated 13%)\n",
            "  adding: chase_db_256_256_dice_bce_0_4__0_4_1/predictions/_Image_12L_1.png (deflated 19%)\n",
            "  adding: chase_db_256_256_dice_bce_0_4__0_4_1/predictions/_Image_11L_6.png (deflated 6%)\n",
            "  adding: chase_db_256_256_dice_bce_0_4__0_4_1/predictions/_Image_12L_6.png (deflated 12%)\n",
            "  adding: chase_db_256_256_dice_bce_0_4__0_4_1/predictions/_Image_11R_0.png (deflated 63%)\n",
            "  adding: chase_db_256_256_dice_bce_0_4__0_4_1/predictions/_Image_12L_12.png (deflated 31%)\n",
            "  adding: chase_db_256_256_dice_bce_0_4__0_4_1/predictions/_Image_12R_11.png (deflated 13%)\n",
            "  adding: chase_db_256_256_dice_bce_0_4__0_4_1/predictions/_Image_12R_8.png (deflated 14%)\n",
            "  adding: chase_db_256_256_dice_bce_0_4__0_4_1/predictions/_Image_13L_13.png (deflated 46%)\n",
            "  adding: chase_db_256_256_dice_bce_0_4__0_4_1/predictions/_Image_11L_0.png (deflated 52%)\n",
            "  adding: chase_db_256_256_dice_bce_0_4__0_4_1/predictions/_Image_12L_7.png (deflated 14%)\n",
            "  adding: chase_db_256_256_dice_bce_0_4__0_4_1/predictions/_Image_11L_3.png (deflated 77%)\n",
            "  adding: chase_db_256_256_dice_bce_0_4__0_4_1/predictions/_Image_11L_10.png (deflated 4%)\n",
            "  adding: chase_db_256_256_dice_bce_0_4__0_4_1/predictions/_Image_12L_0.png (deflated 83%)\n",
            "  adding: chase_db_256_256_dice_bce_0_4__0_4_1/predictions/_Image_13L_4.png (deflated 35%)\n",
            "  adding: chase_db_256_256_dice_bce_0_4__0_4_1/predictions/_Image_12R_12.png (deflated 50%)\n",
            "  adding: chase_db_256_256_dice_bce_0_4__0_4_1/predictions/_Image_11R_8.png (deflated 83%)\n",
            "  adding: chase_db_256_256_dice_bce_0_4__0_4_1/predictions/_Image_12R_13.png (deflated 11%)\n",
            "  adding: chase_db_256_256_dice_bce_0_4__0_4_1/predictions/_Image_12R_5.png (deflated 6%)\n",
            "  adding: chase_db_256_256_dice_bce_0_4__0_4_1/predictions/_Image_11R_4.png (deflated 35%)\n",
            "  adding: chase_db_256_256_dice_bce_0_4__0_4_1/predictions/_Image_12R_0.png (deflated 33%)\n",
            "  adding: chase_db_256_256_dice_bce_0_4__0_4_1/predictions/_Image_11R_1.png (deflated 14%)\n",
            "  adding: chase_db_256_256_dice_bce_0_4__0_4_1/predictions/_Image_12L_5.png (deflated 9%)\n",
            "  adding: chase_db_256_256_dice_bce_0_4__0_4_1/predictions/_Image_11L_2.png (deflated 16%)\n",
            "  adding: chase_db_256_256_dice_bce_0_4__0_4_1/predictions/_Image_12R_6.png (deflated 12%)\n",
            "  adding: chase_db_256_256_dice_bce_0_4__0_4_1/predictions/_Image_12R_10.png (deflated 8%)\n",
            "  adding: chase_db_256_256_dice_bce_0_4__0_4_1/predictions/_Image_11R_2.png (deflated 18%)\n",
            "  adding: chase_db_256_256_dice_bce_0_4__0_4_1/predictions/_Image_11R_5.png (deflated 6%)\n",
            "  adding: chase_db_256_256_dice_bce_0_4__0_4_1/predictions/_Image_11R_9.png (deflated 5%)\n",
            "  adding: chase_db_256_256_dice_bce_0_4__0_4_1/predictions/_Image_11L_4.png (deflated 19%)\n",
            "  adding: chase_db_256_256_dice_bce_0_4__0_4_1/predictions/_Image_13L_14.png (deflated 36%)\n",
            "  adding: chase_db_256_256_dice_bce_0_4__0_4_1/predictions/_Image_13L_10.png (deflated 5%)\n",
            "  adding: chase_db_256_256_dice_bce_0_4__0_4_1/results/ (stored 0%)\n",
            "  adding: chase_db_256_256_dice_bce_0_4__0_4_1/results/score.csv (deflated 63%)\n",
            "  adding: chase_db_256_256_dice_bce_0_4__0_4_1/results/_Image_12L_15.png (deflated 13%)\n",
            "  adding: chase_db_256_256_dice_bce_0_4__0_4_1/results/_Image_13L_0.png (deflated 17%)\n",
            "  adding: chase_db_256_256_dice_bce_0_4__0_4_1/results/_Image_12L_8.png (deflated 4%)\n",
            "  adding: chase_db_256_256_dice_bce_0_4__0_4_1/results/_Image_13L_1.png (deflated 11%)\n",
            "  adding: chase_db_256_256_dice_bce_0_4__0_4_1/results/_Image_11L_13.png (deflated 5%)\n",
            "  adding: chase_db_256_256_dice_bce_0_4__0_4_1/results/_Image_12L_4.png (deflated 7%)\n",
            "  adding: chase_db_256_256_dice_bce_0_4__0_4_1/results/_Image_11L_11.png (deflated 6%)\n",
            "  adding: chase_db_256_256_dice_bce_0_4__0_4_1/results/_Image_11L_15.png (deflated 15%)\n",
            "  adding: chase_db_256_256_dice_bce_0_4__0_4_1/results/_Image_12R_3.png (deflated 16%)\n",
            "  adding: chase_db_256_256_dice_bce_0_4__0_4_1/results/_Image_13L_2.png (deflated 10%)\n",
            "  adding: chase_db_256_256_dice_bce_0_4__0_4_1/results/_Image_13L_7.png (deflated 14%)\n",
            "  adding: chase_db_256_256_dice_bce_0_4__0_4_1/results/_Image_12R_15.png (deflated 15%)\n",
            "  adding: chase_db_256_256_dice_bce_0_4__0_4_1/results/_Image_12R_4.png (deflated 5%)\n",
            "  adding: chase_db_256_256_dice_bce_0_4__0_4_1/results/_Image_11L_12.png (deflated 16%)\n",
            "  adding: chase_db_256_256_dice_bce_0_4__0_4_1/results/_Image_13L_8.png (deflated 12%)\n",
            "  adding: chase_db_256_256_dice_bce_0_4__0_4_1/results/_Image_13L_12.png (deflated 21%)\n",
            "  adding: chase_db_256_256_dice_bce_0_4__0_4_1/results/_Image_13L_3.png (deflated 24%)\n",
            "  adding: chase_db_256_256_dice_bce_0_4__0_4_1/results/_Image_12L_13.png (deflated 5%)\n",
            "  adding: chase_db_256_256_dice_bce_0_4__0_4_1/results/_Image_13L_6.png (deflated 5%)\n",
            "  adding: chase_db_256_256_dice_bce_0_4__0_4_1/results/_Image_11R_11.png (deflated 6%)\n",
            "  adding: chase_db_256_256_dice_bce_0_4__0_4_1/results/_Image_13L_11.png (deflated 13%)\n",
            "  adding: chase_db_256_256_dice_bce_0_4__0_4_1/results/_Image_11L_14.png (deflated 5%)\n",
            "  adding: chase_db_256_256_dice_bce_0_4__0_4_1/results/_Image_11L_7.png (deflated 6%)\n",
            "  adding: chase_db_256_256_dice_bce_0_4__0_4_1/results/_Image_13L_15.png (deflated 23%)\n",
            "  adding: chase_db_256_256_dice_bce_0_4__0_4_1/results/_Image_11R_3.png (deflated 17%)\n",
            "  adding: chase_db_256_256_dice_bce_0_4__0_4_1/results/_Image_13L_9.png (deflated 6%)\n",
            "  adding: chase_db_256_256_dice_bce_0_4__0_4_1/results/_Image_12L_9.png (deflated 5%)\n",
            "  adding: chase_db_256_256_dice_bce_0_4__0_4_1/results/_Image_11R_15.png (deflated 16%)\n",
            "  adding: chase_db_256_256_dice_bce_0_4__0_4_1/results/_Image_11L_9.png (deflated 5%)\n",
            "  adding: chase_db_256_256_dice_bce_0_4__0_4_1/results/_Image_11L_1.png (deflated 7%)\n",
            "  adding: chase_db_256_256_dice_bce_0_4__0_4_1/results/_Image_12R_14.png (deflated 5%)\n",
            "  adding: chase_db_256_256_dice_bce_0_4__0_4_1/results/_Image_11R_6.png (deflated 5%)\n",
            "  adding: chase_db_256_256_dice_bce_0_4__0_4_1/results/_Image_13L_5.png (deflated 7%)\n",
            "  adding: chase_db_256_256_dice_bce_0_4__0_4_1/results/_Image_12L_2.png (deflated 7%)\n",
            "  adding: chase_db_256_256_dice_bce_0_4__0_4_1/results/_Image_11R_12.png (deflated 15%)\n",
            "  adding: chase_db_256_256_dice_bce_0_4__0_4_1/results/_Image_12R_1.png (deflated 6%)\n",
            "  adding: chase_db_256_256_dice_bce_0_4__0_4_1/results/score_full_0_6.csv (deflated 63%)\n",
            "  adding: chase_db_256_256_dice_bce_0_4__0_4_1/results/score_full_0_4.csv (deflated 63%)\n",
            "  adding: chase_db_256_256_dice_bce_0_4__0_4_1/results/_Image_12L_3.png (deflated 17%)\n",
            "  adding: chase_db_256_256_dice_bce_0_4__0_4_1/results/_Image_12R_7.png (deflated 5%)\n",
            "  adding: chase_db_256_256_dice_bce_0_4__0_4_1/results/_Image_11L_8.png (deflated 7%)\n",
            "  adding: chase_db_256_256_dice_bce_0_4__0_4_1/results/_Image_11R_14.png (deflated 6%)\n",
            "  adding: chase_db_256_256_dice_bce_0_4__0_4_1/results/_Image_12R_9.png (deflated 3%)\n",
            "  adding: chase_db_256_256_dice_bce_0_4__0_4_1/results/_Image_11R_10.png (deflated 4%)\n",
            "  adding: chase_db_256_256_dice_bce_0_4__0_4_1/results/_Image_12L_10.png (deflated 3%)\n",
            "  adding: chase_db_256_256_dice_bce_0_4__0_4_1/results/_Image_12L_11.png (deflated 6%)\n",
            "  adding: chase_db_256_256_dice_bce_0_4__0_4_1/results/_Image_12L_14.png (deflated 4%)\n",
            "  adding: chase_db_256_256_dice_bce_0_4__0_4_1/results/_Image_11L_5.png (deflated 4%)\n",
            "  adding: chase_db_256_256_dice_bce_0_4__0_4_1/results/_Image_11R_7.png (deflated 8%)\n",
            "  adding: chase_db_256_256_dice_bce_0_4__0_4_1/results/_Image_12R_2.png (deflated 7%)\n",
            "  adding: chase_db_256_256_dice_bce_0_4__0_4_1/results/_Image_11R_13.png (deflated 5%)\n",
            "  adding: chase_db_256_256_dice_bce_0_4__0_4_1/results/_Image_12L_1.png (deflated 9%)\n",
            "  adding: chase_db_256_256_dice_bce_0_4__0_4_1/results/_Image_11L_6.png (deflated 4%)\n",
            "  adding: chase_db_256_256_dice_bce_0_4__0_4_1/results/_Image_12L_6.png (deflated 4%)\n",
            "  adding: chase_db_256_256_dice_bce_0_4__0_4_1/results/_Image_11R_0.png (deflated 16%)\n",
            "  adding: chase_db_256_256_dice_bce_0_4__0_4_1/results/_Image_12L_12.png (deflated 13%)\n",
            "  adding: chase_db_256_256_dice_bce_0_4__0_4_1/results/_Image_12R_11.png (deflated 5%)\n",
            "  adding: chase_db_256_256_dice_bce_0_4__0_4_1/results/score_full_0_5.csv (deflated 63%)\n",
            "  adding: chase_db_256_256_dice_bce_0_4__0_4_1/results/_Image_12R_8.png (deflated 6%)\n",
            "  adding: chase_db_256_256_dice_bce_0_4__0_4_1/results/_Image_13L_13.png (deflated 13%)\n",
            "  adding: chase_db_256_256_dice_bce_0_4__0_4_1/results/_Image_11L_0.png (deflated 17%)\n",
            "  adding: chase_db_256_256_dice_bce_0_4__0_4_1/results/_Image_12L_7.png (deflated 6%)\n",
            "  adding: chase_db_256_256_dice_bce_0_4__0_4_1/results/_Image_11L_3.png (deflated 20%)\n",
            "  adding: chase_db_256_256_dice_bce_0_4__0_4_1/results/_Image_11L_10.png (deflated 3%)\n",
            "  adding: chase_db_256_256_dice_bce_0_4__0_4_1/results/_Image_12L_0.png (deflated 24%)\n",
            "  adding: chase_db_256_256_dice_bce_0_4__0_4_1/results/_Image_13L_4.png (deflated 10%)\n",
            "  adding: chase_db_256_256_dice_bce_0_4__0_4_1/results/_Image_12R_12.png (deflated 15%)\n",
            "  adding: chase_db_256_256_dice_bce_0_4__0_4_1/results/_Image_11R_8.png (deflated 5%)\n",
            "  adding: chase_db_256_256_dice_bce_0_4__0_4_1/results/_Image_12R_13.png (deflated 4%)\n",
            "  adding: chase_db_256_256_dice_bce_0_4__0_4_1/results/_Image_12R_5.png (deflated 4%)\n",
            "  adding: chase_db_256_256_dice_bce_0_4__0_4_1/results/_Image_11R_4.png (deflated 6%)\n",
            "  adding: chase_db_256_256_dice_bce_0_4__0_4_1/results/_Image_12R_0.png (deflated 15%)\n",
            "  adding: chase_db_256_256_dice_bce_0_4__0_4_1/results/_Image_11R_1.png (deflated 6%)\n",
            "  adding: chase_db_256_256_dice_bce_0_4__0_4_1/results/_Image_12L_5.png (deflated 5%)\n",
            "  adding: chase_db_256_256_dice_bce_0_4__0_4_1/results/_Image_11L_2.png (deflated 6%)\n",
            "  adding: chase_db_256_256_dice_bce_0_4__0_4_1/results/_Image_12R_6.png (deflated 5%)\n",
            "  adding: chase_db_256_256_dice_bce_0_4__0_4_1/results/_Image_12R_10.png (deflated 4%)\n",
            "  adding: chase_db_256_256_dice_bce_0_4__0_4_1/results/_Image_11R_2.png (deflated 8%)\n",
            "  adding: chase_db_256_256_dice_bce_0_4__0_4_1/results/_Image_11R_5.png (deflated 4%)\n",
            "  adding: chase_db_256_256_dice_bce_0_4__0_4_1/results/_Image_11R_9.png (deflated 4%)\n",
            "  adding: chase_db_256_256_dice_bce_0_4__0_4_1/results/_Image_11L_4.png (deflated 6%)\n",
            "  adding: chase_db_256_256_dice_bce_0_4__0_4_1/results/_Image_13L_14.png (deflated 11%)\n",
            "  adding: chase_db_256_256_dice_bce_0_4__0_4_1/results/_Image_13L_10.png (deflated 5%)\n",
            "  adding: chase_db_256_256_dice_bce_0_4__0_4_1/split_2/ (stored 0%)\n",
            "  adding: chase_db_256_256_dice_bce_0_4__0_4_1/split_2/test/ (stored 0%)\n",
            "  adding: chase_db_256_256_dice_bce_0_4__0_4_1/split_2/test/mask/ (stored 0%)\n",
            "  adding: chase_db_256_256_dice_bce_0_4__0_4_1/split_2/test/mask/_Image_12L_15.png (deflated 33%)\n",
            "  adding: chase_db_256_256_dice_bce_0_4__0_4_1/split_2/test/mask/_Image_13L_0.png (deflated 29%)\n",
            "  adding: chase_db_256_256_dice_bce_0_4__0_4_1/split_2/test/mask/_Image_12L_8.png (deflated 11%)\n",
            "  adding: chase_db_256_256_dice_bce_0_4__0_4_1/split_2/test/mask/_Image_13L_1.png (deflated 22%)\n",
            "  adding: chase_db_256_256_dice_bce_0_4__0_4_1/split_2/test/mask/_Image_11L_13.png (deflated 12%)\n",
            "  adding: chase_db_256_256_dice_bce_0_4__0_4_1/split_2/test/mask/_Image_12L_4.png (deflated 11%)\n",
            "  adding: chase_db_256_256_dice_bce_0_4__0_4_1/split_2/test/mask/_Image_11L_11.png (deflated 23%)\n",
            "  adding: chase_db_256_256_dice_bce_0_4__0_4_1/split_2/test/mask/_Image_11L_15.png (deflated 35%)\n",
            "  adding: chase_db_256_256_dice_bce_0_4__0_4_1/split_2/test/mask/_Image_12R_3.png (deflated 32%)\n",
            "  adding: chase_db_256_256_dice_bce_0_4__0_4_1/split_2/test/mask/_Image_13L_2.png (deflated 13%)\n",
            "  adding: chase_db_256_256_dice_bce_0_4__0_4_1/split_2/test/mask/_Image_13L_7.png (deflated 21%)\n",
            "  adding: chase_db_256_256_dice_bce_0_4__0_4_1/split_2/test/mask/_Image_12R_15.png (deflated 36%)\n",
            "  adding: chase_db_256_256_dice_bce_0_4__0_4_1/split_2/test/mask/_Image_12R_4.png (deflated 3%)\n",
            "  adding: chase_db_256_256_dice_bce_0_4__0_4_1/split_2/test/mask/_Image_11L_12.png (deflated 54%)\n",
            "  adding: chase_db_256_256_dice_bce_0_4__0_4_1/split_2/test/mask/_Image_13L_8.png (deflated 22%)\n",
            "  adding: chase_db_256_256_dice_bce_0_4__0_4_1/split_2/test/mask/_Image_13L_12.png (deflated 64%)\n",
            "  adding: chase_db_256_256_dice_bce_0_4__0_4_1/split_2/test/mask/_Image_13L_3.png (deflated 68%)\n",
            "  adding: chase_db_256_256_dice_bce_0_4__0_4_1/split_2/test/mask/_Image_12L_13.png (deflated 15%)\n",
            "  adding: chase_db_256_256_dice_bce_0_4__0_4_1/split_2/test/mask/_Image_13L_6.png (deflated 8%)\n",
            "  adding: chase_db_256_256_dice_bce_0_4__0_4_1/split_2/test/mask/_Image_11R_11.png (deflated 6%)\n",
            "  adding: chase_db_256_256_dice_bce_0_4__0_4_1/split_2/test/mask/_Image_13L_11.png (deflated 12%)\n",
            "  adding: chase_db_256_256_dice_bce_0_4__0_4_1/split_2/test/mask/_Image_11L_14.png (deflated 10%)\n",
            "  adding: chase_db_256_256_dice_bce_0_4__0_4_1/split_2/test/mask/_Image_11L_7.png (deflated 21%)\n",
            "  adding: chase_db_256_256_dice_bce_0_4__0_4_1/split_2/test/mask/_Image_13L_15.png (deflated 37%)\n",
            "  adding: chase_db_256_256_dice_bce_0_4__0_4_1/split_2/test/mask/_Image_11R_3.png (deflated 31%)\n",
            "  adding: chase_db_256_256_dice_bce_0_4__0_4_1/split_2/test/mask/_Image_13L_9.png (deflated 13%)\n",
            "  adding: chase_db_256_256_dice_bce_0_4__0_4_1/split_2/test/mask/_Image_12L_9.png (deflated 14%)\n",
            "  adding: chase_db_256_256_dice_bce_0_4__0_4_1/split_2/test/mask/_Image_11R_15.png (deflated 38%)\n",
            "  adding: chase_db_256_256_dice_bce_0_4__0_4_1/split_2/test/mask/_Image_11L_9.png (deflated 12%)\n",
            "  adding: chase_db_256_256_dice_bce_0_4__0_4_1/split_2/test/mask/_Image_11L_1.png (deflated 14%)\n",
            "  adding: chase_db_256_256_dice_bce_0_4__0_4_1/split_2/test/mask/_Image_12R_14.png (deflated 16%)\n",
            "  adding: chase_db_256_256_dice_bce_0_4__0_4_1/split_2/test/mask/_Image_11R_6.png (deflated 17%)\n",
            "  adding: chase_db_256_256_dice_bce_0_4__0_4_1/split_2/test/mask/_Image_13L_5.png (deflated 15%)\n",
            "  adding: chase_db_256_256_dice_bce_0_4__0_4_1/split_2/test/mask/_Image_12L_2.png (deflated 15%)\n",
            "  adding: chase_db_256_256_dice_bce_0_4__0_4_1/split_2/test/mask/_Image_11R_12.png (deflated 46%)\n",
            "  adding: chase_db_256_256_dice_bce_0_4__0_4_1/split_2/test/mask/_Image_12R_1.png (deflated 18%)\n",
            "  adding: chase_db_256_256_dice_bce_0_4__0_4_1/split_2/test/mask/_Image_12L_3.png (deflated 29%)\n",
            "  adding: chase_db_256_256_dice_bce_0_4__0_4_1/split_2/test/mask/_Image_12R_7.png (deflated 13%)\n",
            "  adding: chase_db_256_256_dice_bce_0_4__0_4_1/split_2/test/mask/_Image_11L_8.png (deflated 13%)\n",
            "  adding: chase_db_256_256_dice_bce_0_4__0_4_1/split_2/test/mask/_Image_11R_14.png (deflated 31%)\n",
            "  adding: chase_db_256_256_dice_bce_0_4__0_4_1/split_2/test/mask/_Image_12R_9.png (deflated 8%)\n",
            "  adding: chase_db_256_256_dice_bce_0_4__0_4_1/split_2/test/mask/_Image_11R_10.png (deflated 10%)\n",
            "  adding: chase_db_256_256_dice_bce_0_4__0_4_1/split_2/test/mask/_Image_12L_10.png (deflated 6%)\n",
            "  adding: chase_db_256_256_dice_bce_0_4__0_4_1/split_2/test/mask/_Image_12L_11.png (deflated 7%)\n",
            "  adding: chase_db_256_256_dice_bce_0_4__0_4_1/split_2/test/mask/_Image_12L_14.png (deflated 10%)\n",
            "  adding: chase_db_256_256_dice_bce_0_4__0_4_1/split_2/test/mask/_Image_11L_5.png (deflated 9%)\n",
            "  adding: chase_db_256_256_dice_bce_0_4__0_4_1/split_2/test/mask/_Image_11R_7.png (deflated 34%)\n",
            "  adding: chase_db_256_256_dice_bce_0_4__0_4_1/split_2/test/mask/_Image_12R_2.png (deflated 16%)\n",
            "  adding: chase_db_256_256_dice_bce_0_4__0_4_1/split_2/test/mask/_Image_11R_13.png (deflated 13%)\n",
            "  adding: chase_db_256_256_dice_bce_0_4__0_4_1/split_2/test/mask/_Image_12L_1.png (deflated 18%)\n",
            "  adding: chase_db_256_256_dice_bce_0_4__0_4_1/split_2/test/mask/_Image_11L_6.png (deflated 7%)\n",
            "  adding: chase_db_256_256_dice_bce_0_4__0_4_1/split_2/test/mask/_Image_12L_6.png (deflated 11%)\n",
            "  adding: chase_db_256_256_dice_bce_0_4__0_4_1/split_2/test/mask/_Image_11R_0.png (deflated 52%)\n",
            "  adding: chase_db_256_256_dice_bce_0_4__0_4_1/split_2/test/mask/_Image_12L_12.png (deflated 29%)\n",
            "  adding: chase_db_256_256_dice_bce_0_4__0_4_1/split_2/test/mask/_Image_12R_11.png (deflated 10%)\n",
            "  adding: chase_db_256_256_dice_bce_0_4__0_4_1/split_2/test/mask/_Image_12R_8.png (deflated 12%)\n",
            "  adding: chase_db_256_256_dice_bce_0_4__0_4_1/split_2/test/mask/_Image_13L_13.png (deflated 17%)\n",
            "  adding: chase_db_256_256_dice_bce_0_4__0_4_1/split_2/test/mask/_Image_11L_0.png (deflated 37%)\n",
            "  adding: chase_db_256_256_dice_bce_0_4__0_4_1/split_2/test/mask/_Image_12L_7.png (deflated 9%)\n",
            "  adding: chase_db_256_256_dice_bce_0_4__0_4_1/split_2/test/mask/_Image_11L_3.png (deflated 83%)\n",
            "  adding: chase_db_256_256_dice_bce_0_4__0_4_1/split_2/test/mask/_Image_11L_10.png (deflated 8%)\n",
            "  adding: chase_db_256_256_dice_bce_0_4__0_4_1/split_2/test/mask/_Image_12L_0.png (deflated 46%)\n",
            "  adding: chase_db_256_256_dice_bce_0_4__0_4_1/split_2/test/mask/_Image_13L_4.png (deflated 4%)\n",
            "  adding: chase_db_256_256_dice_bce_0_4__0_4_1/split_2/test/mask/_Image_12R_12.png (deflated 37%)\n",
            "  adding: chase_db_256_256_dice_bce_0_4__0_4_1/split_2/test/mask/_Image_11R_8.png (deflated 35%)\n",
            "  adding: chase_db_256_256_dice_bce_0_4__0_4_1/split_2/test/mask/_Image_12R_13.png (deflated 12%)\n",
            "  adding: chase_db_256_256_dice_bce_0_4__0_4_1/split_2/test/mask/_Image_12R_5.png (deflated 8%)\n",
            "  adding: chase_db_256_256_dice_bce_0_4__0_4_1/split_2/test/mask/_Image_11R_4.png (deflated 13%)\n",
            "  adding: chase_db_256_256_dice_bce_0_4__0_4_1/split_2/test/mask/_Image_12R_0.png (deflated 39%)\n",
            "  adding: chase_db_256_256_dice_bce_0_4__0_4_1/split_2/test/mask/_Image_11R_1.png (deflated 12%)\n",
            "  adding: chase_db_256_256_dice_bce_0_4__0_4_1/split_2/test/mask/_Image_12L_5.png (deflated 12%)\n",
            "  adding: chase_db_256_256_dice_bce_0_4__0_4_1/split_2/test/mask/_Image_11L_2.png (deflated 13%)\n",
            "  adding: chase_db_256_256_dice_bce_0_4__0_4_1/split_2/test/mask/_Image_12R_6.png (deflated 13%)\n",
            "  adding: chase_db_256_256_dice_bce_0_4__0_4_1/split_2/test/mask/_Image_12R_10.png (deflated 10%)\n",
            "  adding: chase_db_256_256_dice_bce_0_4__0_4_1/split_2/test/mask/_Image_11R_2.png (deflated 16%)\n",
            "  adding: chase_db_256_256_dice_bce_0_4__0_4_1/split_2/test/mask/_Image_11R_5.png (deflated 8%)\n",
            "  adding: chase_db_256_256_dice_bce_0_4__0_4_1/split_2/test/mask/_Image_11R_9.png (deflated 5%)\n",
            "  adding: chase_db_256_256_dice_bce_0_4__0_4_1/split_2/test/mask/_Image_11L_4.png (deflated 7%)\n",
            "  adding: chase_db_256_256_dice_bce_0_4__0_4_1/split_2/test/mask/_Image_13L_14.png (deflated 14%)\n",
            "  adding: chase_db_256_256_dice_bce_0_4__0_4_1/split_2/test/mask/_Image_13L_10.png (deflated 8%)\n",
            "  adding: chase_db_256_256_dice_bce_0_4__0_4_1/split_2/test/image/ (stored 0%)\n",
            "  adding: chase_db_256_256_dice_bce_0_4__0_4_1/split_2/test/image/_Image_12L_15.png (deflated 3%)\n",
            "  adding: chase_db_256_256_dice_bce_0_4__0_4_1/split_2/test/image/_Image_13L_0.png (deflated 6%)\n",
            "  adding: chase_db_256_256_dice_bce_0_4__0_4_1/split_2/test/image/_Image_12L_8.png (deflated 2%)\n",
            "  adding: chase_db_256_256_dice_bce_0_4__0_4_1/split_2/test/image/_Image_13L_1.png (deflated 7%)\n",
            "  adding: chase_db_256_256_dice_bce_0_4__0_4_1/split_2/test/image/_Image_11L_13.png (deflated 2%)\n",
            "  adding: chase_db_256_256_dice_bce_0_4__0_4_1/split_2/test/image/_Image_12L_4.png (deflated 4%)\n",
            "  adding: chase_db_256_256_dice_bce_0_4__0_4_1/split_2/test/image/_Image_11L_11.png (deflated 2%)\n",
            "  adding: chase_db_256_256_dice_bce_0_4__0_4_1/split_2/test/image/_Image_11L_15.png (deflated 4%)\n",
            "  adding: chase_db_256_256_dice_bce_0_4__0_4_1/split_2/test/image/_Image_12R_3.png (deflated 4%)\n",
            "  adding: chase_db_256_256_dice_bce_0_4__0_4_1/split_2/test/image/_Image_13L_2.png (deflated 6%)\n",
            "  adding: chase_db_256_256_dice_bce_0_4__0_4_1/split_2/test/image/_Image_13L_7.png (deflated 9%)\n",
            "  adding: chase_db_256_256_dice_bce_0_4__0_4_1/split_2/test/image/_Image_12R_15.png (deflated 4%)\n",
            "  adding: chase_db_256_256_dice_bce_0_4__0_4_1/split_2/test/image/_Image_12R_4.png (deflated 3%)\n",
            "  adding: chase_db_256_256_dice_bce_0_4__0_4_1/split_2/test/image/_Image_11L_12.png (deflated 4%)\n",
            "  adding: chase_db_256_256_dice_bce_0_4__0_4_1/split_2/test/image/_Image_13L_8.png (deflated 7%)\n",
            "  adding: chase_db_256_256_dice_bce_0_4__0_4_1/split_2/test/image/_Image_13L_12.png (deflated 7%)\n",
            "  adding: chase_db_256_256_dice_bce_0_4__0_4_1/split_2/test/image/_Image_13L_3.png (deflated 8%)\n",
            "  adding: chase_db_256_256_dice_bce_0_4__0_4_1/split_2/test/image/_Image_12L_13.png (deflated 1%)\n",
            "  adding: chase_db_256_256_dice_bce_0_4__0_4_1/split_2/test/image/_Image_13L_6.png (deflated 3%)\n",
            "  adding: chase_db_256_256_dice_bce_0_4__0_4_1/split_2/test/image/_Image_11R_11.png (deflated 2%)\n",
            "  adding: chase_db_256_256_dice_bce_0_4__0_4_1/split_2/test/image/_Image_13L_11.png (deflated 8%)\n",
            "  adding: chase_db_256_256_dice_bce_0_4__0_4_1/split_2/test/image/_Image_11L_14.png (deflated 1%)\n",
            "  adding: chase_db_256_256_dice_bce_0_4__0_4_1/split_2/test/image/_Image_11L_7.png (deflated 2%)\n",
            "  adding: chase_db_256_256_dice_bce_0_4__0_4_1/split_2/test/image/_Image_13L_15.png (deflated 8%)\n",
            "  adding: chase_db_256_256_dice_bce_0_4__0_4_1/split_2/test/image/_Image_11R_3.png (deflated 4%)\n",
            "  adding: chase_db_256_256_dice_bce_0_4__0_4_1/split_2/test/image/_Image_13L_9.png (deflated 4%)\n",
            "  adding: chase_db_256_256_dice_bce_0_4__0_4_1/split_2/test/image/_Image_12L_9.png (deflated 1%)\n",
            "  adding: chase_db_256_256_dice_bce_0_4__0_4_1/split_2/test/image/_Image_11R_15.png (deflated 4%)\n",
            "  adding: chase_db_256_256_dice_bce_0_4__0_4_1/split_2/test/image/_Image_11L_9.png (deflated 2%)\n",
            "  adding: chase_db_256_256_dice_bce_0_4__0_4_1/split_2/test/image/_Image_11L_1.png (deflated 4%)\n",
            "  adding: chase_db_256_256_dice_bce_0_4__0_4_1/split_2/test/image/_Image_12R_14.png (deflated 1%)\n",
            "  adding: chase_db_256_256_dice_bce_0_4__0_4_1/split_2/test/image/_Image_11R_6.png (deflated 2%)\n",
            "  adding: chase_db_256_256_dice_bce_0_4__0_4_1/split_2/test/image/_Image_13L_5.png (deflated 5%)\n",
            "  adding: chase_db_256_256_dice_bce_0_4__0_4_1/split_2/test/image/_Image_12L_2.png (deflated 2%)\n",
            "  adding: chase_db_256_256_dice_bce_0_4__0_4_1/split_2/test/image/_Image_11R_12.png (deflated 3%)\n",
            "  adding: chase_db_256_256_dice_bce_0_4__0_4_1/split_2/test/image/_Image_12R_1.png (deflated 3%)\n",
            "  adding: chase_db_256_256_dice_bce_0_4__0_4_1/split_2/test/image/_Image_12L_3.png (deflated 5%)\n",
            "  adding: chase_db_256_256_dice_bce_0_4__0_4_1/split_2/test/image/_Image_12R_7.png (deflated 2%)\n",
            "  adding: chase_db_256_256_dice_bce_0_4__0_4_1/split_2/test/image/_Image_11L_8.png (deflated 4%)\n",
            "  adding: chase_db_256_256_dice_bce_0_4__0_4_1/split_2/test/image/_Image_11R_14.png (deflated 2%)\n",
            "  adding: chase_db_256_256_dice_bce_0_4__0_4_1/split_2/test/image/_Image_12R_9.png (deflated 2%)\n",
            "  adding: chase_db_256_256_dice_bce_0_4__0_4_1/split_2/test/image/_Image_11R_10.png (deflated 1%)\n",
            "  adding: chase_db_256_256_dice_bce_0_4__0_4_1/split_2/test/image/_Image_12L_10.png (deflated 1%)\n",
            "  adding: chase_db_256_256_dice_bce_0_4__0_4_1/split_2/test/image/_Image_12L_11.png (deflated 2%)\n",
            "  adding: chase_db_256_256_dice_bce_0_4__0_4_1/split_2/test/image/_Image_12L_14.png (deflated 1%)\n",
            "  adding: chase_db_256_256_dice_bce_0_4__0_4_1/split_2/test/image/_Image_11L_5.png (deflated 1%)\n",
            "  adding: chase_db_256_256_dice_bce_0_4__0_4_1/split_2/test/image/_Image_11R_7.png (deflated 4%)\n",
            "  adding: chase_db_256_256_dice_bce_0_4__0_4_1/split_2/test/image/_Image_12R_2.png (deflated 2%)\n",
            "  adding: chase_db_256_256_dice_bce_0_4__0_4_1/split_2/test/image/_Image_11R_13.png (deflated 1%)\n",
            "  adding: chase_db_256_256_dice_bce_0_4__0_4_1/split_2/test/image/_Image_12L_1.png (deflated 6%)\n",
            "  adding: chase_db_256_256_dice_bce_0_4__0_4_1/split_2/test/image/_Image_11L_6.png (deflated 2%)\n",
            "  adding: chase_db_256_256_dice_bce_0_4__0_4_1/split_2/test/image/_Image_12L_6.png (deflated 1%)\n",
            "  adding: chase_db_256_256_dice_bce_0_4__0_4_1/split_2/test/image/_Image_11R_0.png (deflated 4%)\n",
            "  adding: chase_db_256_256_dice_bce_0_4__0_4_1/split_2/test/image/_Image_12L_12.png (deflated 4%)\n",
            "  adding: chase_db_256_256_dice_bce_0_4__0_4_1/split_2/test/image/_Image_12R_11.png (deflated 1%)\n",
            "  adding: chase_db_256_256_dice_bce_0_4__0_4_1/split_2/test/image/_Image_12R_8.png (deflated 3%)\n",
            "  adding: chase_db_256_256_dice_bce_0_4__0_4_1/split_2/test/image/_Image_13L_13.png (deflated 7%)\n",
            "  adding: chase_db_256_256_dice_bce_0_4__0_4_1/split_2/test/image/_Image_11L_0.png (deflated 5%)\n",
            "  adding: chase_db_256_256_dice_bce_0_4__0_4_1/split_2/test/image/_Image_12L_7.png (deflated 3%)\n",
            "  adding: chase_db_256_256_dice_bce_0_4__0_4_1/split_2/test/image/_Image_11L_3.png (deflated 4%)\n",
            "  adding: chase_db_256_256_dice_bce_0_4__0_4_1/split_2/test/image/_Image_11L_10.png (deflated 1%)\n",
            "  adding: chase_db_256_256_dice_bce_0_4__0_4_1/split_2/test/image/_Image_12L_0.png (deflated 8%)\n",
            "  adding: chase_db_256_256_dice_bce_0_4__0_4_1/split_2/test/image/_Image_13L_4.png (deflated 7%)\n",
            "  adding: chase_db_256_256_dice_bce_0_4__0_4_1/split_2/test/image/_Image_12R_12.png (deflated 4%)\n",
            "  adding: chase_db_256_256_dice_bce_0_4__0_4_1/split_2/test/image/_Image_11R_8.png (deflated 2%)\n",
            "  adding: chase_db_256_256_dice_bce_0_4__0_4_1/split_2/test/image/_Image_12R_13.png (deflated 1%)\n",
            "  adding: chase_db_256_256_dice_bce_0_4__0_4_1/split_2/test/image/_Image_12R_5.png (deflated 2%)\n",
            "  adding: chase_db_256_256_dice_bce_0_4__0_4_1/split_2/test/image/_Image_11R_4.png (deflated 2%)\n",
            "  adding: chase_db_256_256_dice_bce_0_4__0_4_1/split_2/test/image/_Image_12R_0.png (deflated 4%)\n",
            "  adding: chase_db_256_256_dice_bce_0_4__0_4_1/split_2/test/image/_Image_11R_1.png (deflated 2%)\n",
            "  adding: chase_db_256_256_dice_bce_0_4__0_4_1/split_2/test/image/_Image_12L_5.png (deflated 2%)\n",
            "  adding: chase_db_256_256_dice_bce_0_4__0_4_1/split_2/test/image/_Image_11L_2.png (deflated 3%)\n",
            "  adding: chase_db_256_256_dice_bce_0_4__0_4_1/split_2/test/image/_Image_12R_6.png (deflated 1%)\n",
            "  adding: chase_db_256_256_dice_bce_0_4__0_4_1/split_2/test/image/_Image_12R_10.png (deflated 1%)\n",
            "  adding: chase_db_256_256_dice_bce_0_4__0_4_1/split_2/test/image/_Image_11R_2.png (deflated 3%)\n",
            "  adding: chase_db_256_256_dice_bce_0_4__0_4_1/split_2/test/image/_Image_11R_5.png (deflated 2%)\n",
            "  adding: chase_db_256_256_dice_bce_0_4__0_4_1/split_2/test/image/_Image_11R_9.png (deflated 2%)\n",
            "  adding: chase_db_256_256_dice_bce_0_4__0_4_1/split_2/test/image/_Image_11L_4.png (deflated 3%)\n",
            "  adding: chase_db_256_256_dice_bce_0_4__0_4_1/split_2/test/image/_Image_13L_14.png (deflated 7%)\n",
            "  adding: chase_db_256_256_dice_bce_0_4__0_4_1/split_2/test/image/_Image_13L_10.png (deflated 3%)\n",
            "  adding: chase_db_256_256_dice_bce_0_4__0_4_1/split_2/reconstructed/ (stored 0%)\n",
            "  adding: chase_db_256_256_dice_bce_0_4__0_4_1/split_2/reconstructed/test/ (stored 0%)\n",
            "  adding: chase_db_256_256_dice_bce_0_4__0_4_1/split_2/reconstructed/test/mask/ (stored 0%)\n",
            "  adding: chase_db_256_256_dice_bce_0_4__0_4_1/split_2/reconstructed/test/mask/Image_12L.png (deflated 14%)\n",
            "  adding: chase_db_256_256_dice_bce_0_4__0_4_1/split_2/reconstructed/test/mask/Image_11R.png (deflated 15%)\n",
            "  adding: chase_db_256_256_dice_bce_0_4__0_4_1/split_2/reconstructed/test/mask/Image_11L.png (deflated 12%)\n",
            "  adding: chase_db_256_256_dice_bce_0_4__0_4_1/split_2/reconstructed/test/mask/Image_13L.png (deflated 14%)\n",
            "  adding: chase_db_256_256_dice_bce_0_4__0_4_1/split_2/reconstructed/test/mask/Image_12R.png (deflated 14%)\n",
            "  adding: chase_db_256_256_dice_bce_0_4__0_4_1/split_2/reconstructed/test/image/ (stored 0%)\n",
            "  adding: chase_db_256_256_dice_bce_0_4__0_4_1/split_2/reconstructed/test/image/Image_12L.png (deflated 2%)\n",
            "  adding: chase_db_256_256_dice_bce_0_4__0_4_1/split_2/reconstructed/test/image/Image_11R.png (deflated 2%)\n",
            "  adding: chase_db_256_256_dice_bce_0_4__0_4_1/split_2/reconstructed/test/image/Image_11L.png (deflated 2%)\n",
            "  adding: chase_db_256_256_dice_bce_0_4__0_4_1/split_2/reconstructed/test/image/Image_13L.png (deflated 6%)\n",
            "  adding: chase_db_256_256_dice_bce_0_4__0_4_1/split_2/reconstructed/test/image/Image_12R.png (deflated 2%)\n",
            "  adding: chase_db_256_256_dice_bce_0_4__0_4_1/split_2/reconstructed/test/predictions_reconstructed/ (stored 0%)\n",
            "  adding: chase_db_256_256_dice_bce_0_4__0_4_1/split_2/reconstructed/test/predictions_reconstructed/Image_12L.png (deflated 20%)\n",
            "  adding: chase_db_256_256_dice_bce_0_4__0_4_1/split_2/reconstructed/test/predictions_reconstructed/Image_11R.png (deflated 21%)\n",
            "  adding: chase_db_256_256_dice_bce_0_4__0_4_1/split_2/reconstructed/test/predictions_reconstructed/Image_11L.png (deflated 21%)\n",
            "  adding: chase_db_256_256_dice_bce_0_4__0_4_1/split_2/reconstructed/test/predictions_reconstructed/Image_13L.png (deflated 23%)\n",
            "  adding: chase_db_256_256_dice_bce_0_4__0_4_1/split_2/reconstructed/test/predictions_reconstructed/Image_12R.png (deflated 21%)\n",
            "  adding: chase_db_256_256_dice_bce_0_4__0_4_1/split_2/train/ (stored 0%)\n",
            "  adding: chase_db_256_256_dice_bce_0_4__0_4_1/split_2/train/mask/ (stored 0%)\n",
            "  adding: chase_db_256_256_dice_bce_0_4__0_4_1/split_2/train/mask/_Image_13R_1.png (deflated 19%)\n",
            "  adding: chase_db_256_256_dice_bce_0_4__0_4_1/split_2/train/mask/_Image_05R_3.png (deflated 45%)\n",
            "  adding: chase_db_256_256_dice_bce_0_4__0_4_1/split_2/train/mask/_Image_08R_2.png (deflated 16%)\n",
            "  adding: chase_db_256_256_dice_bce_0_4__0_4_1/split_2/train/mask/_Image_10L_7.png (deflated 11%)\n",
            "  adding: chase_db_256_256_dice_bce_0_4__0_4_1/split_2/train/mask/_Image_04L_9.png (deflated 13%)\n",
            "  adding: chase_db_256_256_dice_bce_0_4__0_4_1/split_2/train/mask/_Image_06R_2.png (deflated 22%)\n",
            "  adding: chase_db_256_256_dice_bce_0_4__0_4_1/split_2/train/mask/_Image_10R_10.png (deflated 8%)\n",
            "  adding: chase_db_256_256_dice_bce_0_4__0_4_1/split_2/train/mask/_Image_14L_13.png (deflated 18%)\n",
            "  adding: chase_db_256_256_dice_bce_0_4__0_4_1/split_2/train/mask/_Image_05R_10.png (deflated 13%)\n",
            "  adding: chase_db_256_256_dice_bce_0_4__0_4_1/split_2/train/mask/_Image_01L_7.png (deflated 12%)\n",
            "  adding: chase_db_256_256_dice_bce_0_4__0_4_1/split_2/train/mask/_Image_07L_13.png (deflated 12%)\n",
            "  adding: chase_db_256_256_dice_bce_0_4__0_4_1/split_2/train/mask/_Image_01R_0.png (deflated 18%)\n",
            "  adding: chase_db_256_256_dice_bce_0_4__0_4_1/split_2/train/mask/_Image_09L_2.png (deflated 15%)\n",
            "  adding: chase_db_256_256_dice_bce_0_4__0_4_1/split_2/train/mask/_Image_03L_3.png (deflated 39%)\n",
            "  adding: chase_db_256_256_dice_bce_0_4__0_4_1/split_2/train/mask/_Image_14R_8.png (deflated 57%)\n",
            "  adding: chase_db_256_256_dice_bce_0_4__0_4_1/split_2/train/mask/_Image_03R_6.png (deflated 11%)\n",
            "  adding: chase_db_256_256_dice_bce_0_4__0_4_1/split_2/train/mask/_Image_13R_13.png (deflated 14%)\n",
            "  adding: chase_db_256_256_dice_bce_0_4__0_4_1/split_2/train/mask/_Image_05L_15.png (deflated 48%)\n",
            "  adding: chase_db_256_256_dice_bce_0_4__0_4_1/split_2/train/mask/_Image_03R_12.png (deflated 32%)\n",
            "  adding: chase_db_256_256_dice_bce_0_4__0_4_1/split_2/train/mask/_Image_02L_2.png (deflated 13%)\n",
            "  adding: chase_db_256_256_dice_bce_0_4__0_4_1/split_2/train/mask/_Image_04R_10.png (deflated 16%)\n",
            "  adding: chase_db_256_256_dice_bce_0_4__0_4_1/split_2/train/mask/_Image_02R_9.png (deflated 5%)\n",
            "  adding: chase_db_256_256_dice_bce_0_4__0_4_1/split_2/train/mask/_Image_02R_5.png (deflated 4%)\n",
            "  adding: chase_db_256_256_dice_bce_0_4__0_4_1/split_2/train/mask/_Image_03R_7.png (deflated 17%)\n",
            "  adding: chase_db_256_256_dice_bce_0_4__0_4_1/split_2/train/mask/_Image_01L_11.png (deflated 4%)\n",
            "  adding: chase_db_256_256_dice_bce_0_4__0_4_1/split_2/train/mask/_Image_02R_15.png (deflated 27%)\n",
            "  adding: chase_db_256_256_dice_bce_0_4__0_4_1/split_2/train/mask/_Image_09R_4.png (deflated 31%)\n",
            "  adding: chase_db_256_256_dice_bce_0_4__0_4_1/split_2/train/mask/_Image_04R_2.png (deflated 18%)\n",
            "  adding: chase_db_256_256_dice_bce_0_4__0_4_1/split_2/train/mask/_Image_10L_8.png (deflated 14%)\n",
            "  adding: chase_db_256_256_dice_bce_0_4__0_4_1/split_2/train/mask/_Image_06R_0.png (deflated 28%)\n",
            "  adding: chase_db_256_256_dice_bce_0_4__0_4_1/split_2/train/mask/_Image_03L_4.png (deflated 19%)\n",
            "  adding: chase_db_256_256_dice_bce_0_4__0_4_1/split_2/train/mask/_Image_07L_1.png (deflated 20%)\n",
            "  adding: chase_db_256_256_dice_bce_0_4__0_4_1/split_2/train/mask/_Image_04L_13.png (deflated 19%)\n",
            "  adding: chase_db_256_256_dice_bce_0_4__0_4_1/split_2/train/mask/_Image_13R_0.png (deflated 49%)\n",
            "  adding: chase_db_256_256_dice_bce_0_4__0_4_1/split_2/train/mask/_Image_06L_2.png (deflated 15%)\n",
            "  adding: chase_db_256_256_dice_bce_0_4__0_4_1/split_2/train/mask/_Image_13R_3.png (deflated 42%)\n",
            "  adding: chase_db_256_256_dice_bce_0_4__0_4_1/split_2/train/mask/_Image_01L_1.png (deflated 20%)\n",
            "  adding: chase_db_256_256_dice_bce_0_4__0_4_1/split_2/train/mask/_Image_14R_7.png (deflated 24%)\n",
            "  adding: chase_db_256_256_dice_bce_0_4__0_4_1/split_2/train/mask/_Image_02L_7.png (deflated 11%)\n",
            "  adding: chase_db_256_256_dice_bce_0_4__0_4_1/split_2/train/mask/_Image_07R_0.png (deflated 72%)\n",
            "  adding: chase_db_256_256_dice_bce_0_4__0_4_1/split_2/train/mask/_Image_10R_8.png (deflated 8%)\n",
            "  adding: chase_db_256_256_dice_bce_0_4__0_4_1/split_2/train/mask/_Image_09L_10.png (deflated 10%)\n",
            "  adding: chase_db_256_256_dice_bce_0_4__0_4_1/split_2/train/mask/_Image_05R_9.png (deflated 9%)\n",
            "  adding: chase_db_256_256_dice_bce_0_4__0_4_1/split_2/train/mask/_Image_06L_9.png (deflated 11%)\n",
            "  adding: chase_db_256_256_dice_bce_0_4__0_4_1/split_2/train/mask/_Image_10R_1.png (deflated 18%)\n",
            "  adding: chase_db_256_256_dice_bce_0_4__0_4_1/split_2/train/mask/_Image_02L_4.png (deflated 5%)\n",
            "  adding: chase_db_256_256_dice_bce_0_4__0_4_1/split_2/train/mask/_Image_07L_12.png (deflated 29%)\n",
            "  adding: chase_db_256_256_dice_bce_0_4__0_4_1/split_2/train/mask/_Image_08L_4.png (deflated 12%)\n",
            "  adding: chase_db_256_256_dice_bce_0_4__0_4_1/split_2/train/mask/_Image_07L_9.png (deflated 11%)\n",
            "  adding: chase_db_256_256_dice_bce_0_4__0_4_1/split_2/train/mask/_Image_05L_14.png (deflated 13%)\n",
            "  adding: chase_db_256_256_dice_bce_0_4__0_4_1/split_2/train/mask/_Image_08R_5.png (deflated 6%)\n",
            "  adding: chase_db_256_256_dice_bce_0_4__0_4_1/split_2/train/mask/_Image_05R_7.png (deflated 10%)\n",
            "  adding: chase_db_256_256_dice_bce_0_4__0_4_1/split_2/train/mask/_Image_08L_7.png (deflated 5%)\n",
            "  adding: chase_db_256_256_dice_bce_0_4__0_4_1/split_2/train/mask/_Image_06R_3.png (deflated 39%)\n",
            "  adding: chase_db_256_256_dice_bce_0_4__0_4_1/split_2/train/mask/_Image_08R_10.png (deflated 11%)\n",
            "  adding: chase_db_256_256_dice_bce_0_4__0_4_1/split_2/train/mask/_Image_06R_9.png (deflated 7%)\n",
            "  adding: chase_db_256_256_dice_bce_0_4__0_4_1/split_2/train/mask/_Image_03R_11.png (deflated 13%)\n",
            "  adding: chase_db_256_256_dice_bce_0_4__0_4_1/split_2/train/mask/_Image_13R_6.png (deflated 11%)\n",
            "  adding: chase_db_256_256_dice_bce_0_4__0_4_1/split_2/train/mask/_Image_08L_14.png (deflated 19%)\n",
            "  adding: chase_db_256_256_dice_bce_0_4__0_4_1/split_2/train/mask/_Image_10L_12.png (deflated 66%)\n",
            "  adding: chase_db_256_256_dice_bce_0_4__0_4_1/split_2/train/mask/_Image_05L_3.png (deflated 36%)\n",
            "  adding: chase_db_256_256_dice_bce_0_4__0_4_1/split_2/train/mask/_Image_08L_5.png (deflated 9%)\n",
            "  adding: chase_db_256_256_dice_bce_0_4__0_4_1/split_2/train/mask/_Image_09R_9.png (deflated 8%)\n",
            "  adding: chase_db_256_256_dice_bce_0_4__0_4_1/split_2/train/mask/_Image_07R_7.png (deflated 14%)\n",
            "  adding: chase_db_256_256_dice_bce_0_4__0_4_1/split_2/train/mask/_Image_05L_13.png (deflated 11%)\n",
            "  adding: chase_db_256_256_dice_bce_0_4__0_4_1/split_2/train/mask/_Image_05L_11.png (deflated 18%)\n",
            "  adding: chase_db_256_256_dice_bce_0_4__0_4_1/split_2/train/mask/_Image_02L_15.png (deflated 36%)\n",
            "  adding: chase_db_256_256_dice_bce_0_4__0_4_1/split_2/train/mask/_Image_14L_6.png (deflated 7%)\n",
            "  adding: chase_db_256_256_dice_bce_0_4__0_4_1/split_2/train/mask/_Image_05L_4.png (deflated 9%)\n",
            "  adding: chase_db_256_256_dice_bce_0_4__0_4_1/split_2/train/mask/_Image_03L_14.png (deflated 15%)\n",
            "  adding: chase_db_256_256_dice_bce_0_4__0_4_1/split_2/train/mask/_Image_10R_2.png (deflated 19%)\n",
            "  adding: chase_db_256_256_dice_bce_0_4__0_4_1/split_2/train/mask/_Image_04R_1.png (deflated 13%)\n",
            "  adding: chase_db_256_256_dice_bce_0_4__0_4_1/split_2/train/mask/_Image_10R_11.png (deflated 32%)\n",
            "  adding: chase_db_256_256_dice_bce_0_4__0_4_1/split_2/train/mask/_Image_03L_2.png (deflated 17%)\n",
            "  adding: chase_db_256_256_dice_bce_0_4__0_4_1/split_2/train/mask/_Image_02R_12.png (deflated 37%)\n",
            "  adding: chase_db_256_256_dice_bce_0_4__0_4_1/split_2/train/mask/_Image_01L_6.png (deflated 8%)\n",
            "  adding: chase_db_256_256_dice_bce_0_4__0_4_1/split_2/train/mask/_Image_01R_2.png (deflated 19%)\n",
            "  adding: chase_db_256_256_dice_bce_0_4__0_4_1/split_2/train/mask/_Image_10R_4.png (deflated 11%)\n",
            "  adding: chase_db_256_256_dice_bce_0_4__0_4_1/split_2/train/mask/_Image_01R_3.png (deflated 31%)\n",
            "  adding: chase_db_256_256_dice_bce_0_4__0_4_1/split_2/train/mask/_Image_03R_13.png (deflated 13%)\n",
            "  adding: chase_db_256_256_dice_bce_0_4__0_4_1/split_2/train/mask/_Image_10R_7.png (deflated 17%)\n",
            "  adding: chase_db_256_256_dice_bce_0_4__0_4_1/split_2/train/mask/_Image_14R_4.png (deflated 12%)\n",
            "  adding: chase_db_256_256_dice_bce_0_4__0_4_1/split_2/train/mask/_Image_04L_1.png (deflated 16%)\n",
            "  adding: chase_db_256_256_dice_bce_0_4__0_4_1/split_2/train/mask/_Image_10L_15.png (deflated 40%)\n",
            "  adding: chase_db_256_256_dice_bce_0_4__0_4_1/split_2/train/mask/_Image_06R_4.png (deflated 8%)\n",
            "  adding: chase_db_256_256_dice_bce_0_4__0_4_1/split_2/train/mask/_Image_06L_7.png (deflated 11%)\n",
            "  adding: chase_db_256_256_dice_bce_0_4__0_4_1/split_2/train/mask/_Image_09L_8.png (deflated 14%)\n",
            "  adding: chase_db_256_256_dice_bce_0_4__0_4_1/split_2/train/mask/_Image_13R_4.png (deflated 8%)\n",
            "  adding: chase_db_256_256_dice_bce_0_4__0_4_1/split_2/train/mask/_Image_01R_5.png (deflated 5%)\n",
            "  adding: chase_db_256_256_dice_bce_0_4__0_4_1/split_2/train/mask/_Image_05L_9.png (deflated 12%)\n",
            "  adding: chase_db_256_256_dice_bce_0_4__0_4_1/split_2/train/mask/_Image_07R_13.png (deflated 12%)\n",
            "  adding: chase_db_256_256_dice_bce_0_4__0_4_1/split_2/train/mask/_Image_07L_14.png (deflated 13%)\n",
            "  adding: chase_db_256_256_dice_bce_0_4__0_4_1/split_2/train/mask/_Image_08L_10.png (deflated 12%)\n",
            "  adding: chase_db_256_256_dice_bce_0_4__0_4_1/split_2/train/mask/_Image_14L_0.png (deflated 30%)\n",
            "  adding: chase_db_256_256_dice_bce_0_4__0_4_1/split_2/train/mask/_Image_04R_0.png (deflated 49%)\n",
            "  adding: chase_db_256_256_dice_bce_0_4__0_4_1/split_2/train/mask/_Image_06L_0.png (deflated 27%)\n",
            "  adding: chase_db_256_256_dice_bce_0_4__0_4_1/split_2/train/mask/_Image_04R_9.png (deflated 6%)\n",
            "  adding: chase_db_256_256_dice_bce_0_4__0_4_1/split_2/train/mask/_Image_01R_10.png (deflated 13%)\n",
            "  adding: chase_db_256_256_dice_bce_0_4__0_4_1/split_2/train/mask/_Image_06L_8.png (deflated 9%)\n",
            "  adding: chase_db_256_256_dice_bce_0_4__0_4_1/split_2/train/mask/_Image_06L_12.png (deflated 31%)\n",
            "  adding: chase_db_256_256_dice_bce_0_4__0_4_1/split_2/train/mask/_Image_09L_7.png (deflated 36%)\n",
            "  adding: chase_db_256_256_dice_bce_0_4__0_4_1/split_2/train/mask/_Image_02L_12.png (deflated 39%)\n",
            "  adding: chase_db_256_256_dice_bce_0_4__0_4_1/split_2/train/mask/_Image_08L_9.png (deflated 11%)\n",
            "  adding: chase_db_256_256_dice_bce_0_4__0_4_1/split_2/train/mask/_Image_01R_11.png (deflated 17%)\n",
            "  adding: chase_db_256_256_dice_bce_0_4__0_4_1/split_2/train/mask/_Image_09L_4.png (deflated 11%)\n",
            "  adding: chase_db_256_256_dice_bce_0_4__0_4_1/split_2/train/mask/_Image_05L_1.png (deflated 20%)\n",
            "  adding: chase_db_256_256_dice_bce_0_4__0_4_1/split_2/train/mask/_Image_06L_1.png (deflated 20%)\n",
            "  adding: chase_db_256_256_dice_bce_0_4__0_4_1/split_2/train/mask/_Image_05R_2.png (deflated 28%)\n",
            "  adding: chase_db_256_256_dice_bce_0_4__0_4_1/split_2/train/mask/_Image_02R_6.png (deflated 6%)\n",
            "  adding: chase_db_256_256_dice_bce_0_4__0_4_1/split_2/train/mask/_Image_03R_1.png (deflated 9%)\n",
            "  adding: chase_db_256_256_dice_bce_0_4__0_4_1/split_2/train/mask/_Image_02R_1.png (deflated 12%)\n",
            "  adding: chase_db_256_256_dice_bce_0_4__0_4_1/split_2/train/mask/_Image_07R_14.png (deflated 10%)\n",
            "  adding: chase_db_256_256_dice_bce_0_4__0_4_1/split_2/train/mask/_Image_01R_9.png (deflated 6%)\n",
            "  adding: chase_db_256_256_dice_bce_0_4__0_4_1/split_2/train/mask/_Image_07L_2.png (deflated 15%)\n",
            "  adding: chase_db_256_256_dice_bce_0_4__0_4_1/split_2/train/mask/_Image_10L_0.png (deflated 50%)\n",
            "  adding: chase_db_256_256_dice_bce_0_4__0_4_1/split_2/train/mask/_Image_02L_3.png (deflated 40%)\n",
            "  adding: chase_db_256_256_dice_bce_0_4__0_4_1/split_2/train/mask/_Image_06R_5.png (deflated 7%)\n",
            "  adding: chase_db_256_256_dice_bce_0_4__0_4_1/split_2/train/mask/_Image_07R_6.png (deflated 9%)\n",
            "  adding: chase_db_256_256_dice_bce_0_4__0_4_1/split_2/train/mask/_Image_02R_8.png (deflated 13%)\n",
            "  adding: chase_db_256_256_dice_bce_0_4__0_4_1/split_2/train/mask/_Image_03L_7.png (deflated 8%)\n",
            "  adding: chase_db_256_256_dice_bce_0_4__0_4_1/split_2/train/mask/_Image_04R_5.png (deflated 6%)\n",
            "  adding: chase_db_256_256_dice_bce_0_4__0_4_1/split_2/train/mask/_Image_05L_7.png (deflated 11%)\n",
            "  adding: chase_db_256_256_dice_bce_0_4__0_4_1/split_2/train/mask/_Image_03L_1.png (deflated 14%)\n",
            "  adding: chase_db_256_256_dice_bce_0_4__0_4_1/split_2/train/mask/_Image_01R_13.png (deflated 10%)\n",
            "  adding: chase_db_256_256_dice_bce_0_4__0_4_1/split_2/train/mask/_Image_09R_13.png (deflated 12%)\n",
            "  adding: chase_db_256_256_dice_bce_0_4__0_4_1/split_2/train/mask/_Image_06R_1.png (deflated 17%)\n",
            "  adding: chase_db_256_256_dice_bce_0_4__0_4_1/split_2/train/mask/_Image_05R_12.png (deflated 21%)\n",
            "  adding: chase_db_256_256_dice_bce_0_4__0_4_1/split_2/train/mask/_Image_07R_11.png (deflated 8%)\n",
            "  adding: chase_db_256_256_dice_bce_0_4__0_4_1/split_2/train/mask/_Image_14L_5.png (deflated 12%)\n",
            "  adding: chase_db_256_256_dice_bce_0_4__0_4_1/split_2/train/mask/_Image_04L_7.png (deflated 13%)\n",
            "  adding: chase_db_256_256_dice_bce_0_4__0_4_1/split_2/train/mask/_Image_04R_6.png (deflated 12%)\n",
            "  adding: chase_db_256_256_dice_bce_0_4__0_4_1/split_2/train/mask/_Image_07R_9.png (deflated 9%)\n",
            "  adding: chase_db_256_256_dice_bce_0_4__0_4_1/split_2/train/mask/_Image_03L_9.png (deflated 15%)\n",
            "  adding: chase_db_256_256_dice_bce_0_4__0_4_1/split_2/train/mask/_Image_03L_12.png (deflated 32%)\n",
            "  adding: chase_db_256_256_dice_bce_0_4__0_4_1/split_2/train/mask/_Image_14R_11.png (deflated 20%)\n",
            "  adding: chase_db_256_256_dice_bce_0_4__0_4_1/split_2/train/mask/_Image_01L_3.png (deflated 52%)\n",
            "  adding: chase_db_256_256_dice_bce_0_4__0_4_1/split_2/train/mask/_Image_05R_1.png (deflated 12%)\n",
            "  adding: chase_db_256_256_dice_bce_0_4__0_4_1/split_2/train/mask/_Image_13R_11.png (deflated 7%)\n",
            "  adding: chase_db_256_256_dice_bce_0_4__0_4_1/split_2/train/mask/_Image_07R_5.png (deflated 9%)\n",
            "  adding: chase_db_256_256_dice_bce_0_4__0_4_1/split_2/train/mask/_Image_13R_12.png (deflated 25%)\n",
            "  adding: chase_db_256_256_dice_bce_0_4__0_4_1/split_2/train/mask/_Image_07R_1.png (deflated 18%)\n",
            "  adding: chase_db_256_256_dice_bce_0_4__0_4_1/split_2/train/mask/_Image_02L_1.png (deflated 22%)\n",
            "  adding: chase_db_256_256_dice_bce_0_4__0_4_1/split_2/train/mask/_Image_07L_4.png (deflated 20%)\n",
            "  adding: chase_db_256_256_dice_bce_0_4__0_4_1/split_2/train/mask/_Image_01R_15.png (deflated 60%)\n",
            "  adding: chase_db_256_256_dice_bce_0_4__0_4_1/split_2/train/mask/_Image_03L_11.png (deflated 10%)\n",
            "  adding: chase_db_256_256_dice_bce_0_4__0_4_1/split_2/train/mask/_Image_02L_5.png (deflated 11%)\n",
            "  adding: chase_db_256_256_dice_bce_0_4__0_4_1/split_2/train/mask/_Image_08R_12.png (deflated 83%)\n",
            "  adding: chase_db_256_256_dice_bce_0_4__0_4_1/split_2/train/mask/_Image_09L_13.png (deflated 14%)\n",
            "  adding: chase_db_256_256_dice_bce_0_4__0_4_1/split_2/train/mask/_Image_07L_3.png (deflated 33%)\n",
            "  adding: chase_db_256_256_dice_bce_0_4__0_4_1/split_2/train/mask/_Image_14R_13.png (deflated 12%)\n",
            "  adding: chase_db_256_256_dice_bce_0_4__0_4_1/split_2/train/mask/_Image_02R_0.png (deflated 34%)\n",
            "  adding: chase_db_256_256_dice_bce_0_4__0_4_1/split_2/train/mask/_Image_08R_7.png (deflated 12%)\n",
            "  adding: chase_db_256_256_dice_bce_0_4__0_4_1/split_2/train/mask/_Image_06L_13.png (deflated 18%)\n",
            "  adding: chase_db_256_256_dice_bce_0_4__0_4_1/split_2/train/mask/_Image_09R_0.png (deflated 42%)\n",
            "  adding: chase_db_256_256_dice_bce_0_4__0_4_1/split_2/train/mask/_Image_04L_14.png (deflated 15%)\n",
            "  adding: chase_db_256_256_dice_bce_0_4__0_4_1/split_2/train/mask/_Image_14R_6.png (deflated 18%)\n",
            "  adding: chase_db_256_256_dice_bce_0_4__0_4_1/split_2/train/mask/_Image_09R_14.png (deflated 12%)\n",
            "  adding: chase_db_256_256_dice_bce_0_4__0_4_1/split_2/train/mask/_Image_03R_8.png (deflated 20%)\n",
            "  adding: chase_db_256_256_dice_bce_0_4__0_4_1/split_2/train/mask/_Image_04R_4.png (deflated 21%)\n",
            "  adding: chase_db_256_256_dice_bce_0_4__0_4_1/split_2/train/mask/_Image_01L_12.png (deflated 35%)\n",
            "  adding: chase_db_256_256_dice_bce_0_4__0_4_1/split_2/train/mask/_Image_03L_15.png (deflated 40%)\n",
            "  adding: chase_db_256_256_dice_bce_0_4__0_4_1/split_2/train/mask/_Image_14L_3.png (deflated 58%)\n",
            "  adding: chase_db_256_256_dice_bce_0_4__0_4_1/split_2/train/mask/_Image_14R_5.png (deflated 8%)\n",
            "  adding: chase_db_256_256_dice_bce_0_4__0_4_1/split_2/train/mask/_Image_02L_13.png (deflated 16%)\n",
            "  adding: chase_db_256_256_dice_bce_0_4__0_4_1/split_2/train/mask/_Image_02R_13.png (deflated 10%)\n",
            "  adding: chase_db_256_256_dice_bce_0_4__0_4_1/split_2/train/mask/_Image_08L_3.png (deflated 69%)\n",
            "  adding: chase_db_256_256_dice_bce_0_4__0_4_1/split_2/train/mask/_Image_04L_8.png (deflated 5%)\n",
            "  adding: chase_db_256_256_dice_bce_0_4__0_4_1/split_2/train/mask/_Image_07R_15.png (deflated 45%)\n",
            "  adding: chase_db_256_256_dice_bce_0_4__0_4_1/split_2/train/mask/_Image_09R_3.png (deflated 36%)\n",
            "  adding: chase_db_256_256_dice_bce_0_4__0_4_1/split_2/train/mask/_Image_06L_10.png (deflated 7%)\n",
            "  adding: chase_db_256_256_dice_bce_0_4__0_4_1/split_2/train/mask/_Image_08L_11.png (deflated 11%)\n",
            "  adding: chase_db_256_256_dice_bce_0_4__0_4_1/split_2/train/mask/_Image_08R_6.png (deflated 10%)\n",
            "  adding: chase_db_256_256_dice_bce_0_4__0_4_1/split_2/train/mask/_Image_09L_0.png (deflated 47%)\n",
            "  adding: chase_db_256_256_dice_bce_0_4__0_4_1/split_2/train/mask/_Image_09R_8.png (deflated 56%)\n",
            "  adding: chase_db_256_256_dice_bce_0_4__0_4_1/split_2/train/mask/_Image_03L_6.png (deflated 11%)\n",
            "  adding: chase_db_256_256_dice_bce_0_4__0_4_1/split_2/train/mask/_Image_13R_7.png (deflated 10%)\n",
            "  adding: chase_db_256_256_dice_bce_0_4__0_4_1/split_2/train/mask/_Image_10R_0.png (deflated 28%)\n",
            "  adding: chase_db_256_256_dice_bce_0_4__0_4_1/split_2/train/mask/_Image_08L_13.png (deflated 14%)\n",
            "  adding: chase_db_256_256_dice_bce_0_4__0_4_1/split_2/train/mask/_Image_08R_15.png (deflated 65%)\n",
            "  adding: chase_db_256_256_dice_bce_0_4__0_4_1/split_2/train/mask/_Image_10L_2.png (deflated 12%)\n",
            "  adding: chase_db_256_256_dice_bce_0_4__0_4_1/split_2/train/mask/_Image_09L_12.png (deflated 61%)\n",
            "  adding: chase_db_256_256_dice_bce_0_4__0_4_1/split_2/train/mask/_Image_14L_7.png (deflated 13%)\n",
            "  adding: chase_db_256_256_dice_bce_0_4__0_4_1/split_2/train/mask/_Image_06L_15.png (deflated 33%)\n",
            "  adding: chase_db_256_256_dice_bce_0_4__0_4_1/split_2/train/mask/_Image_02R_7.png (deflated 7%)\n",
            "  adding: chase_db_256_256_dice_bce_0_4__0_4_1/split_2/train/mask/_Image_08R_4.png (deflated 11%)\n",
            "  adding: chase_db_256_256_dice_bce_0_4__0_4_1/split_2/train/mask/_Image_14R_12.png (deflated 76%)\n",
            "  adding: chase_db_256_256_dice_bce_0_4__0_4_1/split_2/train/mask/_Image_10R_15.png (deflated 50%)\n",
            "  adding: chase_db_256_256_dice_bce_0_4__0_4_1/split_2/train/mask/_Image_04L_2.png (deflated 11%)\n",
            "  adding: chase_db_256_256_dice_bce_0_4__0_4_1/split_2/train/mask/_Image_06R_12.png (deflated 41%)\n",
            "  adding: chase_db_256_256_dice_bce_0_4__0_4_1/split_2/train/mask/_Image_06R_14.png (deflated 9%)\n",
            "  adding: chase_db_256_256_dice_bce_0_4__0_4_1/split_2/train/mask/_Image_05R_5.png (deflated 10%)\n",
            "  adding: chase_db_256_256_dice_bce_0_4__0_4_1/split_2/train/mask/_Image_09R_10.png (deflated 9%)\n",
            "  adding: chase_db_256_256_dice_bce_0_4__0_4_1/split_2/train/mask/_Image_13R_15.png (deflated 47%)\n",
            "  adding: chase_db_256_256_dice_bce_0_4__0_4_1/split_2/train/mask/_Image_13R_10.png (deflated 13%)\n",
            "  adding: chase_db_256_256_dice_bce_0_4__0_4_1/split_2/train/mask/_Image_14R_0.png (deflated 44%)\n",
            "  adding: chase_db_256_256_dice_bce_0_4__0_4_1/split_2/train/mask/_Image_04R_12.png (deflated 41%)\n",
            "  adding: chase_db_256_256_dice_bce_0_4__0_4_1/split_2/train/mask/_Image_04L_5.png (deflated 19%)\n",
            "  adding: chase_db_256_256_dice_bce_0_4__0_4_1/split_2/train/mask/_Image_04R_11.png (deflated 21%)\n",
            "  adding: chase_db_256_256_dice_bce_0_4__0_4_1/split_2/train/mask/_Image_10L_5.png (deflated 9%)\n",
            "  adding: chase_db_256_256_dice_bce_0_4__0_4_1/split_2/train/mask/_Image_04R_8.png (deflated 12%)\n",
            "  adding: chase_db_256_256_dice_bce_0_4__0_4_1/split_2/train/mask/_Image_06L_5.png (deflated 8%)\n",
            "  adding: chase_db_256_256_dice_bce_0_4__0_4_1/split_2/train/mask/_Image_09L_9.png (deflated 8%)\n",
            "  adding: chase_db_256_256_dice_bce_0_4__0_4_1/split_2/train/mask/_Image_07L_7.png (deflated 9%)\n",
            "  adding: chase_db_256_256_dice_bce_0_4__0_4_1/split_2/train/mask/_Image_09R_6.png (deflated 11%)\n",
            "  adding: chase_db_256_256_dice_bce_0_4__0_4_1/split_2/train/mask/_Image_05L_12.png (deflated 30%)\n",
            "  adding: chase_db_256_256_dice_bce_0_4__0_4_1/split_2/train/mask/_Image_10R_12.png (deflated 41%)\n",
            "  adding: chase_db_256_256_dice_bce_0_4__0_4_1/split_2/train/mask/_Image_10R_5.png (deflated 10%)\n",
            "  adding: chase_db_256_256_dice_bce_0_4__0_4_1/split_2/train/mask/_Image_05R_15.png (deflated 38%)\n",
            "  adding: chase_db_256_256_dice_bce_0_4__0_4_1/split_2/train/mask/_Image_01L_5.png (deflated 8%)\n",
            "  adding: chase_db_256_256_dice_bce_0_4__0_4_1/split_2/train/mask/_Image_10L_13.png (deflated 16%)\n",
            "  adding: chase_db_256_256_dice_bce_0_4__0_4_1/split_2/train/mask/_Image_02L_11.png (deflated 16%)\n",
            "  adding: chase_db_256_256_dice_bce_0_4__0_4_1/split_2/train/mask/_Image_03L_13.png (deflated 10%)\n",
            "  adding: chase_db_256_256_dice_bce_0_4__0_4_1/split_2/train/mask/_Image_06R_10.png (deflated 16%)\n",
            "  adding: chase_db_256_256_dice_bce_0_4__0_4_1/split_2/train/mask/_Image_09L_11.png (deflated 13%)\n",
            "  adding: chase_db_256_256_dice_bce_0_4__0_4_1/split_2/train/mask/_Image_03R_0.png (deflated 27%)\n",
            "  adding: chase_db_256_256_dice_bce_0_4__0_4_1/split_2/train/mask/_Image_09L_5.png (deflated 11%)\n",
            "  adding: chase_db_256_256_dice_bce_0_4__0_4_1/split_2/train/mask/_Image_04L_10.png (deflated 5%)\n",
            "  adding: chase_db_256_256_dice_bce_0_4__0_4_1/split_2/train/mask/_Image_09R_2.png (deflated 32%)\n",
            "  adding: chase_db_256_256_dice_bce_0_4__0_4_1/split_2/train/mask/_Image_04L_4.png (deflated 25%)\n",
            "  adding: chase_db_256_256_dice_bce_0_4__0_4_1/split_2/train/mask/_Image_08R_9.png (deflated 6%)\n",
            "  adding: chase_db_256_256_dice_bce_0_4__0_4_1/split_2/train/mask/_Image_09L_15.png (deflated 35%)\n",
            "  adding: chase_db_256_256_dice_bce_0_4__0_4_1/split_2/train/mask/_Image_05L_10.png (deflated 7%)\n",
            "  adding: chase_db_256_256_dice_bce_0_4__0_4_1/split_2/train/mask/_Image_14L_9.png (deflated 11%)\n",
            "  adding: chase_db_256_256_dice_bce_0_4__0_4_1/split_2/train/mask/_Image_14L_14.png (deflated 37%)\n",
            "  adding: chase_db_256_256_dice_bce_0_4__0_4_1/split_2/train/mask/_Image_07L_15.png (deflated 28%)\n",
            "  adding: chase_db_256_256_dice_bce_0_4__0_4_1/split_2/train/mask/_Image_06L_4.png (deflated 24%)\n",
            "  adding: chase_db_256_256_dice_bce_0_4__0_4_1/split_2/train/mask/_Image_14R_15.png (deflated 49%)\n",
            "  adding: chase_db_256_256_dice_bce_0_4__0_4_1/split_2/train/mask/_Image_14L_8.png (deflated 15%)\n",
            "  adding: chase_db_256_256_dice_bce_0_4__0_4_1/split_2/train/mask/_Image_10R_9.png (deflated 9%)\n",
            "  adding: chase_db_256_256_dice_bce_0_4__0_4_1/split_2/train/mask/_Image_04L_0.png (deflated 52%)\n",
            "  adding: chase_db_256_256_dice_bce_0_4__0_4_1/split_2/train/mask/_Image_10L_9.png (deflated 9%)\n",
            "  adding: chase_db_256_256_dice_bce_0_4__0_4_1/split_2/train/mask/_Image_05R_0.png (deflated 26%)\n",
            "  adding: chase_db_256_256_dice_bce_0_4__0_4_1/split_2/train/mask/_Image_08L_8.png (deflated 7%)\n",
            "  adding: chase_db_256_256_dice_bce_0_4__0_4_1/split_2/train/mask/_Image_06R_13.png (deflated 11%)\n",
            "  adding: chase_db_256_256_dice_bce_0_4__0_4_1/split_2/train/mask/_Image_01R_6.png (deflated 15%)\n",
            "  adding: chase_db_256_256_dice_bce_0_4__0_4_1/split_2/train/mask/_Image_02R_3.png (deflated 50%)\n",
            "  adding: chase_db_256_256_dice_bce_0_4__0_4_1/split_2/train/mask/_Image_04L_12.png (deflated 38%)\n",
            "  adding: chase_db_256_256_dice_bce_0_4__0_4_1/split_2/train/mask/_Image_07R_8.png (deflated 6%)\n",
            "  adding: chase_db_256_256_dice_bce_0_4__0_4_1/split_2/train/mask/_Image_13R_8.png (deflated 36%)\n",
            "  adding: chase_db_256_256_dice_bce_0_4__0_4_1/split_2/train/mask/_Image_09L_1.png (deflated 13%)\n",
            "  adding: chase_db_256_256_dice_bce_0_4__0_4_1/split_2/train/mask/_Image_05R_4.png (deflated 9%)\n",
            "  adding: chase_db_256_256_dice_bce_0_4__0_4_1/split_2/train/mask/_Image_09L_3.png (deflated 61%)\n",
            "  adding: chase_db_256_256_dice_bce_0_4__0_4_1/split_2/train/mask/_Image_06R_7.png (deflated 21%)\n",
            "  adding: chase_db_256_256_dice_bce_0_4__0_4_1/split_2/train/mask/_Image_09L_14.png (deflated 14%)\n",
            "  adding: chase_db_256_256_dice_bce_0_4__0_4_1/split_2/train/mask/_Image_03L_8.png (deflated 8%)\n",
            "  adding: chase_db_256_256_dice_bce_0_4__0_4_1/split_2/train/mask/_Image_01L_15.png (deflated 32%)\n",
            "  adding: chase_db_256_256_dice_bce_0_4__0_4_1/split_2/train/mask/_Image_02L_0.png (deflated 36%)\n",
            "  adding: chase_db_256_256_dice_bce_0_4__0_4_1/split_2/train/mask/_Image_02L_8.png (deflated 15%)\n",
            "  adding: chase_db_256_256_dice_bce_0_4__0_4_1/split_2/train/mask/_Image_02R_10.png (deflated 15%)\n",
            "  adding: chase_db_256_256_dice_bce_0_4__0_4_1/split_2/train/mask/_Image_03L_5.png (deflated 10%)\n",
            "  adding: chase_db_256_256_dice_bce_0_4__0_4_1/split_2/train/mask/_Image_05L_2.png (deflated 11%)\n",
            "  adding: chase_db_256_256_dice_bce_0_4__0_4_1/split_2/train/mask/_Image_08L_2.png (deflated 17%)\n",
            "  adding: chase_db_256_256_dice_bce_0_4__0_4_1/split_2/train/mask/_Image_05L_8.png (deflated 16%)\n",
            "  adding: chase_db_256_256_dice_bce_0_4__0_4_1/split_2/train/mask/_Image_03R_10.png (deflated 10%)\n",
            "  adding: chase_db_256_256_dice_bce_0_4__0_4_1/split_2/train/mask/_Image_06R_6.png (deflated 11%)\n",
            "  adding: chase_db_256_256_dice_bce_0_4__0_4_1/split_2/train/mask/_Image_09R_7.png (deflated 16%)\n",
            "  adding: chase_db_256_256_dice_bce_0_4__0_4_1/split_2/train/mask/_Image_06L_3.png (deflated 45%)\n",
            "  adding: chase_db_256_256_dice_bce_0_4__0_4_1/split_2/train/mask/_Image_02R_4.png (deflated 16%)\n",
            "  adding: chase_db_256_256_dice_bce_0_4__0_4_1/split_2/train/mask/_Image_01L_4.png (deflated 12%)\n",
            "  adding: chase_db_256_256_dice_bce_0_4__0_4_1/split_2/train/mask/_Image_08L_1.png (deflated 18%)\n",
            "  adding: chase_db_256_256_dice_bce_0_4__0_4_1/split_2/train/mask/_Image_06L_14.png (deflated 18%)\n",
            "  adding: chase_db_256_256_dice_bce_0_4__0_4_1/split_2/train/mask/_Image_10L_3.png (deflated 32%)\n",
            "  adding: chase_db_256_256_dice_bce_0_4__0_4_1/split_2/train/mask/_Image_13R_14.png (deflated 23%)\n",
            "  adding: chase_db_256_256_dice_bce_0_4__0_4_1/split_2/train/mask/_Image_04R_3.png (deflated 33%)\n",
            "  adding: chase_db_256_256_dice_bce_0_4__0_4_1/split_2/train/mask/_Image_08R_11.png (deflated 7%)\n",
            "  adding: chase_db_256_256_dice_bce_0_4__0_4_1/split_2/train/mask/_Image_07R_3.png (deflated 63%)\n",
            "  adding: chase_db_256_256_dice_bce_0_4__0_4_1/split_2/train/mask/_Image_13R_2.png (deflated 19%)\n",
            "  adding: chase_db_256_256_dice_bce_0_4__0_4_1/split_2/train/mask/_Image_02L_14.png (deflated 11%)\n",
            "  adding: chase_db_256_256_dice_bce_0_4__0_4_1/split_2/train/mask/_Image_02L_10.png (deflated 7%)\n",
            "  adding: chase_db_256_256_dice_bce_0_4__0_4_1/split_2/train/mask/_Image_03R_2.png (deflated 18%)\n",
            "  adding: chase_db_256_256_dice_bce_0_4__0_4_1/split_2/train/mask/_Image_05R_6.png (deflated 10%)\n",
            "  adding: chase_db_256_256_dice_bce_0_4__0_4_1/split_2/train/mask/_Image_14R_2.png (deflated 29%)\n",
            "  adding: chase_db_256_256_dice_bce_0_4__0_4_1/split_2/train/mask/_Image_10L_4.png (deflated 8%)\n",
            "  adding: chase_db_256_256_dice_bce_0_4__0_4_1/split_2/train/mask/_Image_09R_11.png (deflated 12%)\n",
            "  adding: chase_db_256_256_dice_bce_0_4__0_4_1/split_2/train/mask/_Image_07R_10.png (deflated 9%)\n",
            "  adding: chase_db_256_256_dice_bce_0_4__0_4_1/split_2/train/mask/_Image_13R_5.png (deflated 8%)\n",
            "  adding: chase_db_256_256_dice_bce_0_4__0_4_1/split_2/train/mask/_Image_08R_3.png (deflated 53%)\n",
            "  adding: chase_db_256_256_dice_bce_0_4__0_4_1/split_2/train/mask/_Image_10R_13.png (deflated 14%)\n",
            "  adding: chase_db_256_256_dice_bce_0_4__0_4_1/split_2/train/mask/_Image_03R_3.png (deflated 31%)\n",
            "  adding: chase_db_256_256_dice_bce_0_4__0_4_1/split_2/train/mask/_Image_10L_1.png (deflated 14%)\n",
            "  adding: chase_db_256_256_dice_bce_0_4__0_4_1/split_2/train/mask/_Image_07R_12.png (deflated 41%)\n",
            "  adding: chase_db_256_256_dice_bce_0_4__0_4_1/split_2/train/mask/_Image_09R_5.png (deflated 10%)\n",
            "  adding: chase_db_256_256_dice_bce_0_4__0_4_1/split_2/train/mask/_Image_08R_8.png (deflated 27%)\n",
            "  adding: chase_db_256_256_dice_bce_0_4__0_4_1/split_2/train/mask/_Image_08L_0.png (deflated 31%)\n",
            "  adding: chase_db_256_256_dice_bce_0_4__0_4_1/split_2/train/mask/_Image_02L_9.png (deflated 14%)\n",
            "  adding: chase_db_256_256_dice_bce_0_4__0_4_1/split_2/train/mask/_Image_03R_15.png (deflated 34%)\n",
            "  adding: chase_db_256_256_dice_bce_0_4__0_4_1/split_2/train/mask/_Image_01L_9.png (deflated 13%)\n",
            "  adding: chase_db_256_256_dice_bce_0_4__0_4_1/split_2/train/mask/_Image_08L_15.png (deflated 44%)\n",
            "  adding: chase_db_256_256_dice_bce_0_4__0_4_1/split_2/train/mask/_Image_10L_11.png (deflated 10%)\n",
            "  adding: chase_db_256_256_dice_bce_0_4__0_4_1/split_2/train/mask/_Image_09R_15.png (deflated 47%)\n",
            "  adding: chase_db_256_256_dice_bce_0_4__0_4_1/split_2/train/mask/_Image_03R_14.png (deflated 22%)\n",
            "  adding: chase_db_256_256_dice_bce_0_4__0_4_1/split_2/train/mask/_Image_01R_8.png (deflated 10%)\n",
            "  adding: chase_db_256_256_dice_bce_0_4__0_4_1/split_2/train/mask/_Image_05R_14.png (deflated 10%)\n",
            "  adding: chase_db_256_256_dice_bce_0_4__0_4_1/split_2/train/mask/_Image_08L_12.png (deflated 35%)\n",
            "  adding: chase_db_256_256_dice_bce_0_4__0_4_1/split_2/train/mask/_Image_07L_11.png (deflated 9%)\n",
            "  adding: chase_db_256_256_dice_bce_0_4__0_4_1/split_2/train/mask/_Image_05R_8.png (deflated 13%)\n",
            "  adding: chase_db_256_256_dice_bce_0_4__0_4_1/split_2/train/mask/_Image_01R_4.png (deflated 16%)\n",
            "  adding: chase_db_256_256_dice_bce_0_4__0_4_1/split_2/train/mask/_Image_01R_14.png (deflated 14%)\n",
            "  adding: chase_db_256_256_dice_bce_0_4__0_4_1/split_2/train/mask/_Image_01L_13.png (deflated 15%)\n",
            "  adding: chase_db_256_256_dice_bce_0_4__0_4_1/split_2/train/mask/_Image_13R_9.png (deflated 7%)\n",
            "  adding: chase_db_256_256_dice_bce_0_4__0_4_1/split_2/train/mask/_Image_07L_5.png (deflated 11%)\n",
            "  adding: chase_db_256_256_dice_bce_0_4__0_4_1/split_2/train/mask/_Image_09R_12.png (deflated 83%)\n",
            "  adding: chase_db_256_256_dice_bce_0_4__0_4_1/split_2/train/mask/_Image_14R_1.png (deflated 23%)\n",
            "  adding: chase_db_256_256_dice_bce_0_4__0_4_1/split_2/train/mask/_Image_07R_2.png (deflated 16%)\n",
            "  adding: chase_db_256_256_dice_bce_0_4__0_4_1/split_2/train/mask/_Image_01R_7.png (deflated 17%)\n",
            "  adding: chase_db_256_256_dice_bce_0_4__0_4_1/split_2/train/mask/_Image_06R_15.png (deflated 65%)\n",
            "  adding: chase_db_256_256_dice_bce_0_4__0_4_1/split_2/train/mask/_Image_14L_11.png (deflated 10%)\n",
            "  adding: chase_db_256_256_dice_bce_0_4__0_4_1/split_2/train/mask/_Image_04R_7.png (deflated 21%)\n",
            "  adding: chase_db_256_256_dice_bce_0_4__0_4_1/split_2/train/mask/_Image_07L_6.png (deflated 7%)\n",
            "  adding: chase_db_256_256_dice_bce_0_4__0_4_1/split_2/train/mask/_Image_06L_11.png (deflated 14%)\n",
            "  adding: chase_db_256_256_dice_bce_0_4__0_4_1/split_2/train/mask/_Image_10L_10.png (deflated 13%)\n",
            "  adding: chase_db_256_256_dice_bce_0_4__0_4_1/split_2/train/mask/_Image_02R_11.png (deflated 16%)\n",
            "  adding: chase_db_256_256_dice_bce_0_4__0_4_1/split_2/train/mask/_Image_10R_14.png (deflated 13%)\n",
            "  adding: chase_db_256_256_dice_bce_0_4__0_4_1/split_2/train/mask/_Image_05L_5.png (deflated 12%)\n",
            "  adding: chase_db_256_256_dice_bce_0_4__0_4_1/split_2/train/mask/_Image_03R_5.png (deflated 5%)\n",
            "  adding: chase_db_256_256_dice_bce_0_4__0_4_1/split_2/train/mask/_Image_01L_2.png (deflated 22%)\n",
            "  adding: chase_db_256_256_dice_bce_0_4__0_4_1/split_2/train/mask/_Image_03L_10.png (deflated 8%)\n",
            "  adding: chase_db_256_256_dice_bce_0_4__0_4_1/split_2/train/mask/_Image_14R_14.png (deflated 17%)\n",
            "  adding: chase_db_256_256_dice_bce_0_4__0_4_1/split_2/train/mask/_Image_02R_2.png (deflated 14%)\n",
            "  adding: chase_db_256_256_dice_bce_0_4__0_4_1/split_2/train/mask/_Image_10R_3.png (deflated 44%)\n",
            "  adding: chase_db_256_256_dice_bce_0_4__0_4_1/split_2/train/mask/_Image_04R_14.png (deflated 19%)\n",
            "  adding: chase_db_256_256_dice_bce_0_4__0_4_1/split_2/train/mask/_Image_05L_0.png (deflated 36%)\n",
            "  adding: chase_db_256_256_dice_bce_0_4__0_4_1/split_2/train/mask/_Image_09L_6.png (deflated 15%)\n",
            "  adding: chase_db_256_256_dice_bce_0_4__0_4_1/split_2/train/mask/_Image_08R_0.png (deflated 41%)\n",
            "  adding: chase_db_256_256_dice_bce_0_4__0_4_1/split_2/train/mask/_Image_05R_13.png (deflated 15%)\n",
            "  adding: chase_db_256_256_dice_bce_0_4__0_4_1/split_2/train/mask/_Image_06R_11.png (deflated 16%)\n",
            "  adding: chase_db_256_256_dice_bce_0_4__0_4_1/split_2/train/mask/_Image_14R_9.png (deflated 8%)\n",
            "  adding: chase_db_256_256_dice_bce_0_4__0_4_1/split_2/train/mask/_Image_14L_2.png (deflated 15%)\n",
            "  adding: chase_db_256_256_dice_bce_0_4__0_4_1/split_2/train/mask/_Image_10R_6.png (deflated 12%)\n",
            "  adding: chase_db_256_256_dice_bce_0_4__0_4_1/split_2/train/mask/_Image_06L_6.png (deflated 10%)\n",
            "  adding: chase_db_256_256_dice_bce_0_4__0_4_1/split_2/train/mask/_Image_08R_1.png (deflated 18%)\n",
            "  adding: chase_db_256_256_dice_bce_0_4__0_4_1/split_2/train/mask/_Image_14L_12.png (deflated 55%)\n",
            "  adding: chase_db_256_256_dice_bce_0_4__0_4_1/split_2/train/mask/_Image_08R_14.png (deflated 14%)\n",
            "  adding: chase_db_256_256_dice_bce_0_4__0_4_1/split_2/train/mask/_Image_08R_13.png (deflated 9%)\n",
            "  adding: chase_db_256_256_dice_bce_0_4__0_4_1/split_2/train/mask/_Image_10L_6.png (deflated 8%)\n",
            "  adding: chase_db_256_256_dice_bce_0_4__0_4_1/split_2/train/mask/_Image_02L_6.png (deflated 8%)\n",
            "  adding: chase_db_256_256_dice_bce_0_4__0_4_1/split_2/train/mask/_Image_07L_8.png (deflated 9%)\n",
            "  adding: chase_db_256_256_dice_bce_0_4__0_4_1/split_2/train/mask/_Image_02R_14.png (deflated 12%)\n",
            "  adding: chase_db_256_256_dice_bce_0_4__0_4_1/split_2/train/mask/_Image_01R_12.png (deflated 47%)\n",
            "  adding: chase_db_256_256_dice_bce_0_4__0_4_1/split_2/train/mask/_Image_01R_1.png (deflated 14%)\n",
            "  adding: chase_db_256_256_dice_bce_0_4__0_4_1/split_2/train/mask/_Image_01L_10.png (deflated 7%)\n",
            "  adding: chase_db_256_256_dice_bce_0_4__0_4_1/split_2/train/mask/_Image_01L_8.png (deflated 17%)\n",
            "  adding: chase_db_256_256_dice_bce_0_4__0_4_1/split_2/train/mask/_Image_04R_15.png (deflated 58%)\n",
            "  adding: chase_db_256_256_dice_bce_0_4__0_4_1/split_2/train/mask/_Image_03L_0.png (deflated 35%)\n",
            "  adding: chase_db_256_256_dice_bce_0_4__0_4_1/split_2/train/mask/_Image_14R_10.png (deflated 12%)\n",
            "  adding: chase_db_256_256_dice_bce_0_4__0_4_1/split_2/train/mask/_Image_07R_4.png (deflated 6%)\n",
            "  adding: chase_db_256_256_dice_bce_0_4__0_4_1/split_2/train/mask/_Image_14L_1.png (deflated 24%)\n",
            "  adding: chase_db_256_256_dice_bce_0_4__0_4_1/split_2/train/mask/_Image_07L_0.png (deflated 39%)\n",
            "  adding: chase_db_256_256_dice_bce_0_4__0_4_1/split_2/train/mask/_Image_04L_6.png (deflated 5%)\n",
            "  adding: chase_db_256_256_dice_bce_0_4__0_4_1/split_2/train/mask/_Image_05R_11.png (deflated 6%)\n",
            "  adding: chase_db_256_256_dice_bce_0_4__0_4_1/split_2/train/mask/_Image_08L_6.png (deflated 13%)\n",
            "  adding: chase_db_256_256_dice_bce_0_4__0_4_1/split_2/train/mask/_Image_07L_10.png (deflated 8%)\n",
            "  adding: chase_db_256_256_dice_bce_0_4__0_4_1/split_2/train/mask/_Image_03R_9.png (deflated 7%)\n",
            "  adding: chase_db_256_256_dice_bce_0_4__0_4_1/split_2/train/mask/_Image_09R_1.png (deflated 20%)\n",
            "  adding: chase_db_256_256_dice_bce_0_4__0_4_1/split_2/train/mask/_Image_14L_4.png (deflated 16%)\n",
            "  adding: chase_db_256_256_dice_bce_0_4__0_4_1/split_2/train/mask/_Image_01L_14.png (deflated 13%)\n",
            "  adding: chase_db_256_256_dice_bce_0_4__0_4_1/split_2/train/mask/_Image_03R_4.png (deflated 13%)\n",
            "  adding: chase_db_256_256_dice_bce_0_4__0_4_1/split_2/train/mask/_Image_05L_6.png (deflated 9%)\n",
            "  adding: chase_db_256_256_dice_bce_0_4__0_4_1/split_2/train/mask/_Image_06R_8.png (deflated 14%)\n",
            "  adding: chase_db_256_256_dice_bce_0_4__0_4_1/split_2/train/mask/_Image_04L_15.png (deflated 83%)\n",
            "  adding: chase_db_256_256_dice_bce_0_4__0_4_1/split_2/train/mask/_Image_01L_0.png (deflated 52%)\n",
            "  adding: chase_db_256_256_dice_bce_0_4__0_4_1/split_2/train/mask/_Image_14L_15.png (deflated 36%)\n",
            "  adding: chase_db_256_256_dice_bce_0_4__0_4_1/split_2/train/mask/_Image_14R_3.png (deflated 47%)\n",
            "  adding: chase_db_256_256_dice_bce_0_4__0_4_1/split_2/train/mask/_Image_14L_10.png (deflated 11%)\n",
            "  adding: chase_db_256_256_dice_bce_0_4__0_4_1/split_2/train/mask/_Image_04L_11.png (deflated 28%)\n",
            "  adding: chase_db_256_256_dice_bce_0_4__0_4_1/split_2/train/mask/_Image_04L_3.png (deflated 66%)\n",
            "  adding: chase_db_256_256_dice_bce_0_4__0_4_1/split_2/train/mask/_Image_04R_13.png (deflated 12%)\n",
            "  adding: chase_db_256_256_dice_bce_0_4__0_4_1/split_2/train/mask/_Image_10L_14.png (deflated 14%)\n",
            "  adding: chase_db_256_256_dice_bce_0_4__0_4_1/split_2/train/image/ (stored 0%)\n",
            "  adding: chase_db_256_256_dice_bce_0_4__0_4_1/split_2/train/image/_Image_13R_1.png (deflated 7%)\n",
            "  adding: chase_db_256_256_dice_bce_0_4__0_4_1/split_2/train/image/_Image_05R_3.png (deflated 4%)\n",
            "  adding: chase_db_256_256_dice_bce_0_4__0_4_1/split_2/train/image/_Image_08R_2.png (deflated 4%)\n",
            "  adding: chase_db_256_256_dice_bce_0_4__0_4_1/split_2/train/image/_Image_10L_7.png (deflated 4%)\n",
            "  adding: chase_db_256_256_dice_bce_0_4__0_4_1/split_2/train/image/_Image_04L_9.png (deflated 2%)\n",
            "  adding: chase_db_256_256_dice_bce_0_4__0_4_1/split_2/train/image/_Image_06R_2.png (deflated 3%)\n",
            "  adding: chase_db_256_256_dice_bce_0_4__0_4_1/split_2/train/image/_Image_10R_10.png (deflated 1%)\n",
            "  adding: chase_db_256_256_dice_bce_0_4__0_4_1/split_2/train/image/_Image_14L_13.png (deflated 1%)\n",
            "  adding: chase_db_256_256_dice_bce_0_4__0_4_1/split_2/train/image/_Image_05R_10.png (deflated 1%)\n",
            "  adding: chase_db_256_256_dice_bce_0_4__0_4_1/split_2/train/image/_Image_01L_7.png (deflated 4%)\n",
            "  adding: chase_db_256_256_dice_bce_0_4__0_4_1/split_2/train/image/_Image_07L_13.png (deflated 2%)\n",
            "  adding: chase_db_256_256_dice_bce_0_4__0_4_1/split_2/train/image/_Image_01R_0.png (deflated 4%)\n",
            "  adding: chase_db_256_256_dice_bce_0_4__0_4_1/split_2/train/image/_Image_09L_2.png (deflated 3%)\n",
            "  adding: chase_db_256_256_dice_bce_0_4__0_4_1/split_2/train/image/_Image_03L_3.png (deflated 4%)\n",
            "  adding: chase_db_256_256_dice_bce_0_4__0_4_1/split_2/train/image/_Image_14R_8.png (deflated 5%)\n",
            "  adding: chase_db_256_256_dice_bce_0_4__0_4_1/split_2/train/image/_Image_03R_6.png (deflated 1%)\n",
            "  adding: chase_db_256_256_dice_bce_0_4__0_4_1/split_2/train/image/_Image_13R_13.png (deflated 5%)\n",
            "  adding: chase_db_256_256_dice_bce_0_4__0_4_1/split_2/train/image/_Image_05L_15.png (deflated 4%)\n",
            "  adding: chase_db_256_256_dice_bce_0_4__0_4_1/split_2/train/image/_Image_03R_12.png (deflated 4%)\n",
            "  adding: chase_db_256_256_dice_bce_0_4__0_4_1/split_2/train/image/_Image_02L_2.png (deflated 3%)\n",
            "  adding: chase_db_256_256_dice_bce_0_4__0_4_1/split_2/train/image/_Image_04R_10.png (deflated 2%)\n",
            "  adding: chase_db_256_256_dice_bce_0_4__0_4_1/split_2/train/image/_Image_02R_9.png (deflated 2%)\n",
            "  adding: chase_db_256_256_dice_bce_0_4__0_4_1/split_2/train/image/_Image_02R_5.png (deflated 3%)\n",
            "  adding: chase_db_256_256_dice_bce_0_4__0_4_1/split_2/train/image/_Image_03R_7.png (deflated 2%)\n",
            "  adding: chase_db_256_256_dice_bce_0_4__0_4_1/split_2/train/image/_Image_01L_11.png (deflated 4%)\n",
            "  adding: chase_db_256_256_dice_bce_0_4__0_4_1/split_2/train/image/_Image_02R_15.png (deflated 5%)\n",
            "  adding: chase_db_256_256_dice_bce_0_4__0_4_1/split_2/train/image/_Image_09R_4.png (deflated 3%)\n",
            "  adding: chase_db_256_256_dice_bce_0_4__0_4_1/split_2/train/image/_Image_04R_2.png (deflated 2%)\n",
            "  adding: chase_db_256_256_dice_bce_0_4__0_4_1/split_2/train/image/_Image_10L_8.png (deflated 3%)\n",
            "  adding: chase_db_256_256_dice_bce_0_4__0_4_1/split_2/train/image/_Image_06R_0.png (deflated 4%)\n",
            "  adding: chase_db_256_256_dice_bce_0_4__0_4_1/split_2/train/image/_Image_03L_4.png (deflated 2%)\n",
            "  adding: chase_db_256_256_dice_bce_0_4__0_4_1/split_2/train/image/_Image_07L_1.png (deflated 3%)\n",
            "  adding: chase_db_256_256_dice_bce_0_4__0_4_1/split_2/train/image/_Image_04L_13.png (deflated 2%)\n",
            "  adding: chase_db_256_256_dice_bce_0_4__0_4_1/split_2/train/image/_Image_13R_0.png (deflated 7%)\n",
            "  adding: chase_db_256_256_dice_bce_0_4__0_4_1/split_2/train/image/_Image_06L_2.png (deflated 4%)\n",
            "  adding: chase_db_256_256_dice_bce_0_4__0_4_1/split_2/train/image/_Image_13R_3.png (deflated 6%)\n",
            "  adding: chase_db_256_256_dice_bce_0_4__0_4_1/split_2/train/image/_Image_01L_1.png (deflated 2%)\n",
            "  adding: chase_db_256_256_dice_bce_0_4__0_4_1/split_2/train/image/_Image_14R_7.png (deflated 2%)\n",
            "  adding: chase_db_256_256_dice_bce_0_4__0_4_1/split_2/train/image/_Image_02L_7.png (deflated 3%)\n",
            "  adding: chase_db_256_256_dice_bce_0_4__0_4_1/split_2/train/image/_Image_07R_0.png (deflated 4%)\n",
            "  adding: chase_db_256_256_dice_bce_0_4__0_4_1/split_2/train/image/_Image_10R_8.png (deflated 4%)\n",
            "  adding: chase_db_256_256_dice_bce_0_4__0_4_1/split_2/train/image/_Image_09L_10.png (deflated 2%)\n",
            "  adding: chase_db_256_256_dice_bce_0_4__0_4_1/split_2/train/image/_Image_05R_9.png (deflated 2%)\n",
            "  adding: chase_db_256_256_dice_bce_0_4__0_4_1/split_2/train/image/_Image_06L_9.png (deflated 2%)\n",
            "  adding: chase_db_256_256_dice_bce_0_4__0_4_1/split_2/train/image/_Image_10R_1.png (deflated 3%)\n",
            "  adding: chase_db_256_256_dice_bce_0_4__0_4_1/split_2/train/image/_Image_02L_4.png (deflated 4%)\n",
            "  adding: chase_db_256_256_dice_bce_0_4__0_4_1/split_2/train/image/_Image_07L_12.png (deflated 4%)\n",
            "  adding: chase_db_256_256_dice_bce_0_4__0_4_1/split_2/train/image/_Image_08L_4.png (deflated 3%)\n",
            "  adding: chase_db_256_256_dice_bce_0_4__0_4_1/split_2/train/image/_Image_07L_9.png (deflated 2%)\n",
            "  adding: chase_db_256_256_dice_bce_0_4__0_4_1/split_2/train/image/_Image_05L_14.png (deflated 2%)\n",
            "  adding: chase_db_256_256_dice_bce_0_4__0_4_1/split_2/train/image/_Image_08R_5.png (deflated 4%)\n",
            "  adding: chase_db_256_256_dice_bce_0_4__0_4_1/split_2/train/image/_Image_05R_7.png (deflated 2%)\n",
            "  adding: chase_db_256_256_dice_bce_0_4__0_4_1/split_2/train/image/_Image_08L_7.png (deflated 3%)\n",
            "  adding: chase_db_256_256_dice_bce_0_4__0_4_1/split_2/train/image/_Image_06R_3.png (deflated 7%)\n",
            "  adding: chase_db_256_256_dice_bce_0_4__0_4_1/split_2/train/image/_Image_08R_10.png (deflated 3%)\n",
            "  adding: chase_db_256_256_dice_bce_0_4__0_4_1/split_2/train/image/_Image_06R_9.png (deflated 2%)\n",
            "  adding: chase_db_256_256_dice_bce_0_4__0_4_1/split_2/train/image/_Image_03R_11.png (deflated 2%)\n",
            "  adding: chase_db_256_256_dice_bce_0_4__0_4_1/split_2/train/image/_Image_13R_6.png (deflated 3%)\n",
            "  adding: chase_db_256_256_dice_bce_0_4__0_4_1/split_2/train/image/_Image_08L_14.png (deflated 4%)\n",
            "  adding: chase_db_256_256_dice_bce_0_4__0_4_1/split_2/train/image/_Image_10L_12.png (deflated 5%)\n",
            "  adding: chase_db_256_256_dice_bce_0_4__0_4_1/split_2/train/image/_Image_05L_3.png (deflated 5%)\n",
            "  adding: chase_db_256_256_dice_bce_0_4__0_4_1/split_2/train/image/_Image_08L_5.png (deflated 3%)\n",
            "  adding: chase_db_256_256_dice_bce_0_4__0_4_1/split_2/train/image/_Image_09R_9.png (deflated 2%)\n",
            "  adding: chase_db_256_256_dice_bce_0_4__0_4_1/split_2/train/image/_Image_07R_7.png (deflated 2%)\n",
            "  adding: chase_db_256_256_dice_bce_0_4__0_4_1/split_2/train/image/_Image_05L_13.png (deflated 2%)\n",
            "  adding: chase_db_256_256_dice_bce_0_4__0_4_1/split_2/train/image/_Image_05L_11.png (deflated 3%)\n",
            "  adding: chase_db_256_256_dice_bce_0_4__0_4_1/split_2/train/image/_Image_02L_15.png (deflated 5%)\n",
            "  adding: chase_db_256_256_dice_bce_0_4__0_4_1/split_2/train/image/_Image_14L_6.png (deflated 2%)\n",
            "  adding: chase_db_256_256_dice_bce_0_4__0_4_1/split_2/train/image/_Image_05L_4.png (deflated 2%)\n",
            "  adding: chase_db_256_256_dice_bce_0_4__0_4_1/split_2/train/image/_Image_03L_14.png (deflated 2%)\n",
            "  adding: chase_db_256_256_dice_bce_0_4__0_4_1/split_2/train/image/_Image_10R_2.png (deflated 3%)\n",
            "  adding: chase_db_256_256_dice_bce_0_4__0_4_1/split_2/train/image/_Image_04R_1.png (deflated 3%)\n",
            "  adding: chase_db_256_256_dice_bce_0_4__0_4_1/split_2/train/image/_Image_10R_11.png (deflated 4%)\n",
            "  adding: chase_db_256_256_dice_bce_0_4__0_4_1/split_2/train/image/_Image_03L_2.png (deflated 2%)\n",
            "  adding: chase_db_256_256_dice_bce_0_4__0_4_1/split_2/train/image/_Image_02R_12.png (deflated 5%)\n",
            "  adding: chase_db_256_256_dice_bce_0_4__0_4_1/split_2/train/image/_Image_01L_6.png (deflated 2%)\n",
            "  adding: chase_db_256_256_dice_bce_0_4__0_4_1/split_2/train/image/_Image_01R_2.png (deflated 4%)\n",
            "  adding: chase_db_256_256_dice_bce_0_4__0_4_1/split_2/train/image/_Image_10R_4.png (deflated 3%)\n",
            "  adding: chase_db_256_256_dice_bce_0_4__0_4_1/split_2/train/image/_Image_01R_3.png (deflated 7%)\n",
            "  adding: chase_db_256_256_dice_bce_0_4__0_4_1/split_2/train/image/_Image_03R_13.png (deflated 2%)\n",
            "  adding: chase_db_256_256_dice_bce_0_4__0_4_1/split_2/train/image/_Image_10R_7.png (deflated 3%)\n",
            "  adding: chase_db_256_256_dice_bce_0_4__0_4_1/split_2/train/image/_Image_14R_4.png (deflated 4%)\n",
            "  adding: chase_db_256_256_dice_bce_0_4__0_4_1/split_2/train/image/_Image_04L_1.png (deflated 3%)\n",
            "  adding: chase_db_256_256_dice_bce_0_4__0_4_1/split_2/train/image/_Image_10L_15.png (deflated 5%)\n",
            "  adding: chase_db_256_256_dice_bce_0_4__0_4_1/split_2/train/image/_Image_06R_4.png (deflated 5%)\n",
            "  adding: chase_db_256_256_dice_bce_0_4__0_4_1/split_2/train/image/_Image_06L_7.png (deflated 5%)\n",
            "  adding: chase_db_256_256_dice_bce_0_4__0_4_1/split_2/train/image/_Image_09L_8.png (deflated 8%)\n",
            "  adding: chase_db_256_256_dice_bce_0_4__0_4_1/split_2/train/image/_Image_13R_4.png (deflated 10%)\n",
            "  adding: chase_db_256_256_dice_bce_0_4__0_4_1/split_2/train/image/_Image_01R_5.png (deflated 2%)\n",
            "  adding: chase_db_256_256_dice_bce_0_4__0_4_1/split_2/train/image/_Image_05L_9.png (deflated 2%)\n",
            "  adding: chase_db_256_256_dice_bce_0_4__0_4_1/split_2/train/image/_Image_07R_13.png (deflated 1%)\n",
            "  adding: chase_db_256_256_dice_bce_0_4__0_4_1/split_2/train/image/_Image_07L_14.png (deflated 2%)\n",
            "  adding: chase_db_256_256_dice_bce_0_4__0_4_1/split_2/train/image/_Image_08L_10.png (deflated 2%)\n",
            "  adding: chase_db_256_256_dice_bce_0_4__0_4_1/split_2/train/image/_Image_14L_0.png (deflated 3%)\n",
            "  adding: chase_db_256_256_dice_bce_0_4__0_4_1/split_2/train/image/_Image_04R_0.png (deflated 5%)\n",
            "  adding: chase_db_256_256_dice_bce_0_4__0_4_1/split_2/train/image/_Image_06L_0.png (deflated 5%)\n",
            "  adding: chase_db_256_256_dice_bce_0_4__0_4_1/split_2/train/image/_Image_04R_9.png (deflated 2%)\n",
            "  adding: chase_db_256_256_dice_bce_0_4__0_4_1/split_2/train/image/_Image_01R_10.png (deflated 1%)\n",
            "  adding: chase_db_256_256_dice_bce_0_4__0_4_1/split_2/train/image/_Image_06L_8.png (deflated 2%)\n",
            "  adding: chase_db_256_256_dice_bce_0_4__0_4_1/split_2/train/image/_Image_06L_12.png (deflated 4%)\n",
            "  adding: chase_db_256_256_dice_bce_0_4__0_4_1/split_2/train/image/_Image_09L_7.png (deflated 2%)\n",
            "  adding: chase_db_256_256_dice_bce_0_4__0_4_1/split_2/train/image/_Image_02L_12.png (deflated 5%)\n",
            "  adding: chase_db_256_256_dice_bce_0_4__0_4_1/split_2/train/image/_Image_08L_9.png (deflated 2%)\n",
            "  adding: chase_db_256_256_dice_bce_0_4__0_4_1/split_2/train/image/_Image_01R_11.png (deflated 2%)\n",
            "  adding: chase_db_256_256_dice_bce_0_4__0_4_1/split_2/train/image/_Image_09L_4.png (deflated 7%)\n",
            "  adding: chase_db_256_256_dice_bce_0_4__0_4_1/split_2/train/image/_Image_05L_1.png (deflated 3%)\n",
            "  adding: chase_db_256_256_dice_bce_0_4__0_4_1/split_2/train/image/_Image_06L_1.png (deflated 5%)\n",
            "  adding: chase_db_256_256_dice_bce_0_4__0_4_1/split_2/train/image/_Image_05R_2.png (deflated 2%)\n",
            "  adding: chase_db_256_256_dice_bce_0_4__0_4_1/split_2/train/image/_Image_02R_6.png (deflated 2%)\n",
            "  adding: chase_db_256_256_dice_bce_0_4__0_4_1/split_2/train/image/_Image_03R_1.png (deflated 3%)\n",
            "  adding: chase_db_256_256_dice_bce_0_4__0_4_1/split_2/train/image/_Image_02R_1.png (deflated 5%)\n",
            "  adding: chase_db_256_256_dice_bce_0_4__0_4_1/split_2/train/image/_Image_07R_14.png (deflated 2%)\n",
            "  adding: chase_db_256_256_dice_bce_0_4__0_4_1/split_2/train/image/_Image_01R_9.png (deflated 2%)\n",
            "  adding: chase_db_256_256_dice_bce_0_4__0_4_1/split_2/train/image/_Image_07L_2.png (deflated 3%)\n",
            "  adding: chase_db_256_256_dice_bce_0_4__0_4_1/split_2/train/image/_Image_10L_0.png (deflated 5%)\n",
            "  adding: chase_db_256_256_dice_bce_0_4__0_4_1/split_2/train/image/_Image_02L_3.png (deflated 5%)\n",
            "  adding: chase_db_256_256_dice_bce_0_4__0_4_1/split_2/train/image/_Image_06R_5.png (deflated 3%)\n",
            "  adding: chase_db_256_256_dice_bce_0_4__0_4_1/split_2/train/image/_Image_07R_6.png (deflated 3%)\n",
            "  adding: chase_db_256_256_dice_bce_0_4__0_4_1/split_2/train/image/_Image_02R_8.png (deflated 5%)\n",
            "  adding: chase_db_256_256_dice_bce_0_4__0_4_1/split_2/train/image/_Image_03L_7.png (deflated 3%)\n",
            "  adding: chase_db_256_256_dice_bce_0_4__0_4_1/split_2/train/image/_Image_04R_5.png (deflated 3%)\n",
            "  adding: chase_db_256_256_dice_bce_0_4__0_4_1/split_2/train/image/_Image_05L_7.png (deflated 3%)\n",
            "  adding: chase_db_256_256_dice_bce_0_4__0_4_1/split_2/train/image/_Image_03L_1.png (deflated 3%)\n",
            "  adding: chase_db_256_256_dice_bce_0_4__0_4_1/split_2/train/image/_Image_01R_13.png (deflated 2%)\n",
            "  adding: chase_db_256_256_dice_bce_0_4__0_4_1/split_2/train/image/_Image_09R_13.png (deflated 1%)\n",
            "  adding: chase_db_256_256_dice_bce_0_4__0_4_1/split_2/train/image/_Image_06R_1.png (deflated 3%)\n",
            "  adding: chase_db_256_256_dice_bce_0_4__0_4_1/split_2/train/image/_Image_05R_12.png (deflated 3%)\n",
            "  adding: chase_db_256_256_dice_bce_0_4__0_4_1/split_2/train/image/_Image_07R_11.png (deflated 2%)\n",
            "  adding: chase_db_256_256_dice_bce_0_4__0_4_1/split_2/train/image/_Image_14L_5.png (deflated 3%)\n",
            "  adding: chase_db_256_256_dice_bce_0_4__0_4_1/split_2/train/image/_Image_04L_7.png (deflated 3%)\n",
            "  adding: chase_db_256_256_dice_bce_0_4__0_4_1/split_2/train/image/_Image_04R_6.png (deflated 2%)\n",
            "  adding: chase_db_256_256_dice_bce_0_4__0_4_1/split_2/train/image/_Image_07R_9.png (deflated 1%)\n",
            "  adding: chase_db_256_256_dice_bce_0_4__0_4_1/split_2/train/image/_Image_03L_9.png (deflated 1%)\n",
            "  adding: chase_db_256_256_dice_bce_0_4__0_4_1/split_2/train/image/_Image_03L_12.png (deflated 4%)\n",
            "  adding: chase_db_256_256_dice_bce_0_4__0_4_1/split_2/train/image/_Image_14R_11.png (deflated 2%)\n",
            "  adding: chase_db_256_256_dice_bce_0_4__0_4_1/split_2/train/image/_Image_01L_3.png (deflated 4%)\n",
            "  adding: chase_db_256_256_dice_bce_0_4__0_4_1/split_2/train/image/_Image_05R_1.png (deflated 3%)\n",
            "  adding: chase_db_256_256_dice_bce_0_4__0_4_1/split_2/train/image/_Image_13R_11.png (deflated 7%)\n",
            "  adding: chase_db_256_256_dice_bce_0_4__0_4_1/split_2/train/image/_Image_07R_5.png (deflated 2%)\n",
            "  adding: chase_db_256_256_dice_bce_0_4__0_4_1/split_2/train/image/_Image_13R_12.png (deflated 7%)\n",
            "  adding: chase_db_256_256_dice_bce_0_4__0_4_1/split_2/train/image/_Image_07R_1.png (deflated 3%)\n",
            "  adding: chase_db_256_256_dice_bce_0_4__0_4_1/split_2/train/image/_Image_02L_1.png (deflated 5%)\n",
            "  adding: chase_db_256_256_dice_bce_0_4__0_4_1/split_2/train/image/_Image_07L_4.png (deflated 3%)\n",
            "  adding: chase_db_256_256_dice_bce_0_4__0_4_1/split_2/train/image/_Image_01R_15.png (deflated 4%)\n",
            "  adding: chase_db_256_256_dice_bce_0_4__0_4_1/split_2/train/image/_Image_03L_11.png (deflated 3%)\n",
            "  adding: chase_db_256_256_dice_bce_0_4__0_4_1/split_2/train/image/_Image_02L_5.png (deflated 4%)\n",
            "  adding: chase_db_256_256_dice_bce_0_4__0_4_1/split_2/train/image/_Image_08R_12.png (deflated 6%)\n",
            "  adding: chase_db_256_256_dice_bce_0_4__0_4_1/split_2/train/image/_Image_09L_13.png (deflated 2%)\n",
            "  adding: chase_db_256_256_dice_bce_0_4__0_4_1/split_2/train/image/_Image_07L_3.png (deflated 6%)\n",
            "  adding: chase_db_256_256_dice_bce_0_4__0_4_1/split_2/train/image/_Image_14R_13.png (deflated 2%)\n",
            "  adding: chase_db_256_256_dice_bce_0_4__0_4_1/split_2/train/image/_Image_02R_0.png (deflated 5%)\n",
            "  adding: chase_db_256_256_dice_bce_0_4__0_4_1/split_2/train/image/_Image_08R_7.png (deflated 4%)\n",
            "  adding: chase_db_256_256_dice_bce_0_4__0_4_1/split_2/train/image/_Image_06L_13.png (deflated 2%)\n",
            "  adding: chase_db_256_256_dice_bce_0_4__0_4_1/split_2/train/image/_Image_09R_0.png (deflated 4%)\n",
            "  adding: chase_db_256_256_dice_bce_0_4__0_4_1/split_2/train/image/_Image_04L_14.png (deflated 2%)\n",
            "  adding: chase_db_256_256_dice_bce_0_4__0_4_1/split_2/train/image/_Image_14R_6.png (deflated 2%)\n",
            "  adding: chase_db_256_256_dice_bce_0_4__0_4_1/split_2/train/image/_Image_09R_14.png (deflated 2%)\n",
            "  adding: chase_db_256_256_dice_bce_0_4__0_4_1/split_2/train/image/_Image_03R_8.png (deflated 4%)\n",
            "  adding: chase_db_256_256_dice_bce_0_4__0_4_1/split_2/train/image/_Image_04R_4.png (deflated 3%)\n",
            "  adding: chase_db_256_256_dice_bce_0_4__0_4_1/split_2/train/image/_Image_01L_12.png (deflated 4%)\n",
            "  adding: chase_db_256_256_dice_bce_0_4__0_4_1/split_2/train/image/_Image_03L_15.png (deflated 4%)\n",
            "  adding: chase_db_256_256_dice_bce_0_4__0_4_1/split_2/train/image/_Image_14L_3.png (deflated 4%)\n",
            "  adding: chase_db_256_256_dice_bce_0_4__0_4_1/split_2/train/image/_Image_14R_5.png (deflated 2%)\n",
            "  adding: chase_db_256_256_dice_bce_0_4__0_4_1/split_2/train/image/_Image_02L_13.png (deflated 3%)\n",
            "  adding: chase_db_256_256_dice_bce_0_4__0_4_1/split_2/train/image/_Image_02R_13.png (deflated 2%)\n",
            "  adding: chase_db_256_256_dice_bce_0_4__0_4_1/split_2/train/image/_Image_08L_3.png (deflated 6%)\n",
            "  adding: chase_db_256_256_dice_bce_0_4__0_4_1/split_2/train/image/_Image_04L_8.png (deflated 3%)\n",
            "  adding: chase_db_256_256_dice_bce_0_4__0_4_1/split_2/train/image/_Image_07R_15.png (deflated 4%)\n",
            "  adding: chase_db_256_256_dice_bce_0_4__0_4_1/split_2/train/image/_Image_09R_3.png (deflated 6%)\n",
            "  adding: chase_db_256_256_dice_bce_0_4__0_4_1/split_2/train/image/_Image_06L_10.png (deflated 2%)\n",
            "  adding: chase_db_256_256_dice_bce_0_4__0_4_1/split_2/train/image/_Image_08L_11.png (deflated 5%)\n",
            "  adding: chase_db_256_256_dice_bce_0_4__0_4_1/split_2/train/image/_Image_08R_6.png (deflated 3%)\n",
            "  adding: chase_db_256_256_dice_bce_0_4__0_4_1/split_2/train/image/_Image_09L_0.png (deflated 6%)\n",
            "  adding: chase_db_256_256_dice_bce_0_4__0_4_1/split_2/train/image/_Image_09R_8.png (deflated 2%)\n",
            "  adding: chase_db_256_256_dice_bce_0_4__0_4_1/split_2/train/image/_Image_03L_6.png (deflated 2%)\n",
            "  adding: chase_db_256_256_dice_bce_0_4__0_4_1/split_2/train/image/_Image_13R_7.png (deflated 6%)\n",
            "  adding: chase_db_256_256_dice_bce_0_4__0_4_1/split_2/train/image/_Image_10R_0.png (deflated 4%)\n",
            "  adding: chase_db_256_256_dice_bce_0_4__0_4_1/split_2/train/image/_Image_08L_13.png (deflated 5%)\n",
            "  adding: chase_db_256_256_dice_bce_0_4__0_4_1/split_2/train/image/_Image_08R_15.png (deflated 6%)\n",
            "  adding: chase_db_256_256_dice_bce_0_4__0_4_1/split_2/train/image/_Image_10L_2.png (deflated 4%)\n",
            "  adding: chase_db_256_256_dice_bce_0_4__0_4_1/split_2/train/image/_Image_09L_12.png (deflated 4%)\n",
            "  adding: chase_db_256_256_dice_bce_0_4__0_4_1/split_2/train/image/_Image_14L_7.png (deflated 2%)\n",
            "  adding: chase_db_256_256_dice_bce_0_4__0_4_1/split_2/train/image/_Image_06L_15.png (deflated 5%)\n",
            "  adding: chase_db_256_256_dice_bce_0_4__0_4_1/split_2/train/image/_Image_02R_7.png (deflated 4%)\n",
            "  adding: chase_db_256_256_dice_bce_0_4__0_4_1/split_2/train/image/_Image_08R_4.png (deflated 4%)\n",
            "  adding: chase_db_256_256_dice_bce_0_4__0_4_1/split_2/train/image/_Image_14R_12.png (deflated 6%)\n",
            "  adding: chase_db_256_256_dice_bce_0_4__0_4_1/split_2/train/image/_Image_10R_15.png (deflated 4%)\n",
            "  adding: chase_db_256_256_dice_bce_0_4__0_4_1/split_2/train/image/_Image_04L_2.png (deflated 3%)\n",
            "  adding: chase_db_256_256_dice_bce_0_4__0_4_1/split_2/train/image/_Image_06R_12.png (deflated 5%)\n",
            "  adding: chase_db_256_256_dice_bce_0_4__0_4_1/split_2/train/image/_Image_06R_14.png (deflated 3%)\n",
            "  adding: chase_db_256_256_dice_bce_0_4__0_4_1/split_2/train/image/_Image_05R_5.png (deflated 2%)\n",
            "  adding: chase_db_256_256_dice_bce_0_4__0_4_1/split_2/train/image/_Image_09R_10.png (deflated 2%)\n",
            "  adding: chase_db_256_256_dice_bce_0_4__0_4_1/split_2/train/image/_Image_13R_15.png (deflated 7%)\n",
            "  adding: chase_db_256_256_dice_bce_0_4__0_4_1/split_2/train/image/_Image_13R_10.png (deflated 2%)\n",
            "  adding: chase_db_256_256_dice_bce_0_4__0_4_1/split_2/train/image/_Image_14R_0.png (deflated 7%)\n",
            "  adding: chase_db_256_256_dice_bce_0_4__0_4_1/split_2/train/image/_Image_04R_12.png (deflated 3%)\n",
            "  adding: chase_db_256_256_dice_bce_0_4__0_4_1/split_2/train/image/_Image_04L_5.png (deflated 3%)\n",
            "  adding: chase_db_256_256_dice_bce_0_4__0_4_1/split_2/train/image/_Image_04R_11.png (deflated 2%)\n",
            "  adding: chase_db_256_256_dice_bce_0_4__0_4_1/split_2/train/image/_Image_10L_5.png (deflated 3%)\n",
            "  adding: chase_db_256_256_dice_bce_0_4__0_4_1/split_2/train/image/_Image_04R_8.png (deflated 3%)\n",
            "  adding: chase_db_256_256_dice_bce_0_4__0_4_1/split_2/train/image/_Image_06L_5.png (deflated 3%)\n",
            "  adding: chase_db_256_256_dice_bce_0_4__0_4_1/split_2/train/image/_Image_09L_9.png (deflated 2%)\n",
            "  adding: chase_db_256_256_dice_bce_0_4__0_4_1/split_2/train/image/_Image_07L_7.png (deflated 2%)\n",
            "  adding: chase_db_256_256_dice_bce_0_4__0_4_1/split_2/train/image/_Image_09R_6.png (deflated 4%)\n",
            "  adding: chase_db_256_256_dice_bce_0_4__0_4_1/split_2/train/image/_Image_05L_12.png (deflated 3%)\n",
            "  adding: chase_db_256_256_dice_bce_0_4__0_4_1/split_2/train/image/_Image_10R_12.png (deflated 4%)\n",
            "  adding: chase_db_256_256_dice_bce_0_4__0_4_1/split_2/train/image/_Image_10R_5.png (deflated 2%)\n",
            "  adding: chase_db_256_256_dice_bce_0_4__0_4_1/split_2/train/image/_Image_05R_15.png (deflated 4%)\n",
            "  adding: chase_db_256_256_dice_bce_0_4__0_4_1/split_2/train/image/_Image_01L_5.png (deflated 1%)\n",
            "  adding: chase_db_256_256_dice_bce_0_4__0_4_1/split_2/train/image/_Image_10L_13.png (deflated 2%)\n",
            "  adding: chase_db_256_256_dice_bce_0_4__0_4_1/split_2/train/image/_Image_02L_11.png (deflated 3%)\n",
            "  adding: chase_db_256_256_dice_bce_0_4__0_4_1/split_2/train/image/_Image_03L_13.png (deflated 1%)\n",
            "  adding: chase_db_256_256_dice_bce_0_4__0_4_1/split_2/train/image/_Image_06R_10.png (deflated 1%)\n",
            "  adding: chase_db_256_256_dice_bce_0_4__0_4_1/split_2/train/image/_Image_09L_11.png (deflated 3%)\n",
            "  adding: chase_db_256_256_dice_bce_0_4__0_4_1/split_2/train/image/_Image_03R_0.png (deflated 5%)\n",
            "  adding: chase_db_256_256_dice_bce_0_4__0_4_1/split_2/train/image/_Image_09L_5.png (deflated 5%)\n",
            "  adding: chase_db_256_256_dice_bce_0_4__0_4_1/split_2/train/image/_Image_04L_10.png (deflated 2%)\n",
            "  adding: chase_db_256_256_dice_bce_0_4__0_4_1/split_2/train/image/_Image_09R_2.png (deflated 4%)\n",
            "  adding: chase_db_256_256_dice_bce_0_4__0_4_1/split_2/train/image/_Image_04L_4.png (deflated 3%)\n",
            "  adding: chase_db_256_256_dice_bce_0_4__0_4_1/split_2/train/image/_Image_08R_9.png (deflated 3%)\n",
            "  adding: chase_db_256_256_dice_bce_0_4__0_4_1/split_2/train/image/_Image_09L_15.png (deflated 5%)\n",
            "  adding: chase_db_256_256_dice_bce_0_4__0_4_1/split_2/train/image/_Image_05L_10.png (deflated 2%)\n",
            "  adding: chase_db_256_256_dice_bce_0_4__0_4_1/split_2/train/image/_Image_14L_9.png (deflated 3%)\n",
            "  adding: chase_db_256_256_dice_bce_0_4__0_4_1/split_2/train/image/_Image_14L_14.png (deflated 3%)\n",
            "  adding: chase_db_256_256_dice_bce_0_4__0_4_1/split_2/train/image/_Image_07L_15.png (deflated 4%)\n",
            "  adding: chase_db_256_256_dice_bce_0_4__0_4_1/split_2/train/image/_Image_06L_4.png (deflated 2%)\n",
            "  adding: chase_db_256_256_dice_bce_0_4__0_4_1/split_2/train/image/_Image_14R_15.png (deflated 5%)\n",
            "  adding: chase_db_256_256_dice_bce_0_4__0_4_1/split_2/train/image/_Image_14L_8.png (deflated 2%)\n",
            "  adding: chase_db_256_256_dice_bce_0_4__0_4_1/split_2/train/image/_Image_10R_9.png (deflated 1%)\n",
            "  adding: chase_db_256_256_dice_bce_0_4__0_4_1/split_2/train/image/_Image_04L_0.png (deflated 5%)\n",
            "  adding: chase_db_256_256_dice_bce_0_4__0_4_1/split_2/train/image/_Image_10L_9.png (deflated 2%)\n",
            "  adding: chase_db_256_256_dice_bce_0_4__0_4_1/split_2/train/image/_Image_05R_0.png (deflated 4%)\n",
            "  adding: chase_db_256_256_dice_bce_0_4__0_4_1/split_2/train/image/_Image_08L_8.png (deflated 3%)\n",
            "  adding: chase_db_256_256_dice_bce_0_4__0_4_1/split_2/train/image/_Image_06R_13.png (deflated 2%)\n",
            "  adding: chase_db_256_256_dice_bce_0_4__0_4_1/split_2/train/image/_Image_01R_6.png (deflated 1%)\n",
            "  adding: chase_db_256_256_dice_bce_0_4__0_4_1/split_2/train/image/_Image_02R_3.png (deflated 7%)\n",
            "  adding: chase_db_256_256_dice_bce_0_4__0_4_1/split_2/train/image/_Image_04L_12.png (deflated 4%)\n",
            "  adding: chase_db_256_256_dice_bce_0_4__0_4_1/split_2/train/image/_Image_07R_8.png (deflated 3%)\n",
            "  adding: chase_db_256_256_dice_bce_0_4__0_4_1/split_2/train/image/_Image_13R_8.png (deflated 10%)\n",
            "  adding: chase_db_256_256_dice_bce_0_4__0_4_1/split_2/train/image/_Image_09L_1.png (deflated 3%)\n",
            "  adding: chase_db_256_256_dice_bce_0_4__0_4_1/split_2/train/image/_Image_05R_4.png (deflated 3%)\n",
            "  adding: chase_db_256_256_dice_bce_0_4__0_4_1/split_2/train/image/_Image_09L_3.png (deflated 6%)\n",
            "  adding: chase_db_256_256_dice_bce_0_4__0_4_1/split_2/train/image/_Image_06R_7.png (deflated 3%)\n",
            "  adding: chase_db_256_256_dice_bce_0_4__0_4_1/split_2/train/image/_Image_09L_14.png (deflated 2%)\n",
            "  adding: chase_db_256_256_dice_bce_0_4__0_4_1/split_2/train/image/_Image_03L_8.png (deflated 2%)\n",
            "  adding: chase_db_256_256_dice_bce_0_4__0_4_1/split_2/train/image/_Image_01L_15.png (deflated 5%)\n",
            "  adding: chase_db_256_256_dice_bce_0_4__0_4_1/split_2/train/image/_Image_02L_0.png (deflated 6%)\n",
            "  adding: chase_db_256_256_dice_bce_0_4__0_4_1/split_2/train/image/_Image_02L_8.png (deflated 4%)\n",
            "  adding: chase_db_256_256_dice_bce_0_4__0_4_1/split_2/train/image/_Image_02R_10.png (deflated 1%)\n",
            "  adding: chase_db_256_256_dice_bce_0_4__0_4_1/split_2/train/image/_Image_03L_5.png (deflated 2%)\n",
            "  adding: chase_db_256_256_dice_bce_0_4__0_4_1/split_2/train/image/_Image_05L_2.png (deflated 2%)\n",
            "  adding: chase_db_256_256_dice_bce_0_4__0_4_1/split_2/train/image/_Image_08L_2.png (deflated 4%)\n",
            "  adding: chase_db_256_256_dice_bce_0_4__0_4_1/split_2/train/image/_Image_05L_8.png (deflated 2%)\n",
            "  adding: chase_db_256_256_dice_bce_0_4__0_4_1/split_2/train/image/_Image_03R_10.png (deflated 1%)\n",
            "  adding: chase_db_256_256_dice_bce_0_4__0_4_1/split_2/train/image/_Image_06R_6.png (deflated 2%)\n",
            "  adding: chase_db_256_256_dice_bce_0_4__0_4_1/split_2/train/image/_Image_09R_7.png (deflated 7%)\n",
            "  adding: chase_db_256_256_dice_bce_0_4__0_4_1/split_2/train/image/_Image_06L_3.png (deflated 7%)\n",
            "  adding: chase_db_256_256_dice_bce_0_4__0_4_1/split_2/train/image/_Image_02R_4.png (deflated 4%)\n",
            "  adding: chase_db_256_256_dice_bce_0_4__0_4_1/split_2/train/image/_Image_01L_4.png (deflated 2%)\n",
            "  adding: chase_db_256_256_dice_bce_0_4__0_4_1/split_2/train/image/_Image_08L_1.png (deflated 5%)\n",
            "  adding: chase_db_256_256_dice_bce_0_4__0_4_1/split_2/train/image/_Image_06L_14.png (deflated 3%)\n",
            "  adding: chase_db_256_256_dice_bce_0_4__0_4_1/split_2/train/image/_Image_10L_3.png (deflated 5%)\n",
            "  adding: chase_db_256_256_dice_bce_0_4__0_4_1/split_2/train/image/_Image_13R_14.png (deflated 7%)\n",
            "  adding: chase_db_256_256_dice_bce_0_4__0_4_1/split_2/train/image/_Image_04R_3.png (deflated 3%)\n",
            "  adding: chase_db_256_256_dice_bce_0_4__0_4_1/split_2/train/image/_Image_08R_11.png (deflated 4%)\n",
            "  adding: chase_db_256_256_dice_bce_0_4__0_4_1/split_2/train/image/_Image_07R_3.png (deflated 4%)\n",
            "  adding: chase_db_256_256_dice_bce_0_4__0_4_1/split_2/train/image/_Image_13R_2.png (deflated 7%)\n",
            "  adding: chase_db_256_256_dice_bce_0_4__0_4_1/split_2/train/image/_Image_02L_14.png (deflated 2%)\n",
            "  adding: chase_db_256_256_dice_bce_0_4__0_4_1/split_2/train/image/_Image_02L_10.png (deflated 1%)\n",
            "  adding: chase_db_256_256_dice_bce_0_4__0_4_1/split_2/train/image/_Image_03R_2.png (deflated 4%)\n",
            "  adding: chase_db_256_256_dice_bce_0_4__0_4_1/split_2/train/image/_Image_05R_6.png (deflated 2%)\n",
            "  adding: chase_db_256_256_dice_bce_0_4__0_4_1/split_2/train/image/_Image_14R_2.png (deflated 4%)\n",
            "  adding: chase_db_256_256_dice_bce_0_4__0_4_1/split_2/train/image/_Image_10L_4.png (deflated 3%)\n",
            "  adding: chase_db_256_256_dice_bce_0_4__0_4_1/split_2/train/image/_Image_09R_11.png (deflated 5%)\n",
            "  adding: chase_db_256_256_dice_bce_0_4__0_4_1/split_2/train/image/_Image_07R_10.png (deflated 2%)\n",
            "  adding: chase_db_256_256_dice_bce_0_4__0_4_1/split_2/train/image/_Image_13R_5.png (deflated 7%)\n",
            "  adding: chase_db_256_256_dice_bce_0_4__0_4_1/split_2/train/image/_Image_08R_3.png (deflated 7%)\n",
            "  adding: chase_db_256_256_dice_bce_0_4__0_4_1/split_2/train/image/_Image_10R_13.png (deflated 2%)\n",
            "  adding: chase_db_256_256_dice_bce_0_4__0_4_1/split_2/train/image/_Image_03R_3.png (deflated 6%)\n",
            "  adding: chase_db_256_256_dice_bce_0_4__0_4_1/split_2/train/image/_Image_10L_1.png (deflated 6%)\n",
            "  adding: chase_db_256_256_dice_bce_0_4__0_4_1/split_2/train/image/_Image_07R_12.png (deflated 4%)\n",
            "  adding: chase_db_256_256_dice_bce_0_4__0_4_1/split_2/train/image/_Image_09R_5.png (deflated 2%)\n",
            "  adding: chase_db_256_256_dice_bce_0_4__0_4_1/split_2/train/image/_Image_08R_8.png (deflated 6%)\n",
            "  adding: chase_db_256_256_dice_bce_0_4__0_4_1/split_2/train/image/_Image_08L_0.png (deflated 8%)\n",
            "  adding: chase_db_256_256_dice_bce_0_4__0_4_1/split_2/train/image/_Image_02L_9.png (deflated 2%)\n",
            "  adding: chase_db_256_256_dice_bce_0_4__0_4_1/split_2/train/image/_Image_03R_15.png (deflated 4%)\n",
            "  adding: chase_db_256_256_dice_bce_0_4__0_4_1/split_2/train/image/_Image_01L_9.png (deflated 1%)\n",
            "  adding: chase_db_256_256_dice_bce_0_4__0_4_1/split_2/train/image/_Image_08L_15.png (deflated 6%)\n",
            "  adding: chase_db_256_256_dice_bce_0_4__0_4_1/split_2/train/image/_Image_10L_11.png (deflated 5%)\n",
            "  adding: chase_db_256_256_dice_bce_0_4__0_4_1/split_2/train/image/_Image_09R_15.png (deflated 4%)\n",
            "  adding: chase_db_256_256_dice_bce_0_4__0_4_1/split_2/train/image/_Image_03R_14.png (deflated 2%)\n",
            "  adding: chase_db_256_256_dice_bce_0_4__0_4_1/split_2/train/image/_Image_01R_8.png (deflated 6%)\n",
            "  adding: chase_db_256_256_dice_bce_0_4__0_4_1/split_2/train/image/_Image_05R_14.png (deflated 2%)\n",
            "  adding: chase_db_256_256_dice_bce_0_4__0_4_1/split_2/train/image/_Image_08L_12.png (deflated 7%)\n",
            "  adding: chase_db_256_256_dice_bce_0_4__0_4_1/split_2/train/image/_Image_07L_11.png (deflated 3%)\n",
            "  adding: chase_db_256_256_dice_bce_0_4__0_4_1/split_2/train/image/_Image_05R_8.png (deflated 4%)\n",
            "  adding: chase_db_256_256_dice_bce_0_4__0_4_1/split_2/train/image/_Image_01R_4.png (deflated 3%)\n",
            "  adding: chase_db_256_256_dice_bce_0_4__0_4_1/split_2/train/image/_Image_01R_14.png (deflated 1%)\n",
            "  adding: chase_db_256_256_dice_bce_0_4__0_4_1/split_2/train/image/_Image_01L_13.png (deflated 1%)\n",
            "  adding: chase_db_256_256_dice_bce_0_4__0_4_1/split_2/train/image/_Image_13R_9.png (deflated 6%)\n",
            "  adding: chase_db_256_256_dice_bce_0_4__0_4_1/split_2/train/image/_Image_07L_5.png (deflated 3%)\n",
            "  adding: chase_db_256_256_dice_bce_0_4__0_4_1/split_2/train/image/_Image_09R_12.png (deflated 4%)\n",
            "  adding: chase_db_256_256_dice_bce_0_4__0_4_1/split_2/train/image/_Image_14R_1.png (deflated 5%)\n",
            "  adding: chase_db_256_256_dice_bce_0_4__0_4_1/split_2/train/image/_Image_07R_2.png (deflated 2%)\n",
            "  adding: chase_db_256_256_dice_bce_0_4__0_4_1/split_2/train/image/_Image_01R_7.png (deflated 3%)\n",
            "  adding: chase_db_256_256_dice_bce_0_4__0_4_1/split_2/train/image/_Image_06R_15.png (deflated 5%)\n",
            "  adding: chase_db_256_256_dice_bce_0_4__0_4_1/split_2/train/image/_Image_14L_11.png (deflated 3%)\n",
            "  adding: chase_db_256_256_dice_bce_0_4__0_4_1/split_2/train/image/_Image_04R_7.png (deflated 2%)\n",
            "  adding: chase_db_256_256_dice_bce_0_4__0_4_1/split_2/train/image/_Image_07L_6.png (deflated 2%)\n",
            "  adding: chase_db_256_256_dice_bce_0_4__0_4_1/split_2/train/image/_Image_06L_11.png (deflated 4%)\n",
            "  adding: chase_db_256_256_dice_bce_0_4__0_4_1/split_2/train/image/_Image_10L_10.png (deflated 1%)\n",
            "  adding: chase_db_256_256_dice_bce_0_4__0_4_1/split_2/train/image/_Image_02R_11.png (deflated 3%)\n",
            "  adding: chase_db_256_256_dice_bce_0_4__0_4_1/split_2/train/image/_Image_10R_14.png (deflated 2%)\n",
            "  adding: chase_db_256_256_dice_bce_0_4__0_4_1/split_2/train/image/_Image_05L_5.png (deflated 2%)\n",
            "  adding: chase_db_256_256_dice_bce_0_4__0_4_1/split_2/train/image/_Image_03R_5.png (deflated 2%)\n",
            "  adding: chase_db_256_256_dice_bce_0_4__0_4_1/split_2/train/image/_Image_01L_2.png (deflated 2%)\n",
            "  adding: chase_db_256_256_dice_bce_0_4__0_4_1/split_2/train/image/_Image_03L_10.png (deflated 2%)\n",
            "  adding: chase_db_256_256_dice_bce_0_4__0_4_1/split_2/train/image/_Image_14R_14.png (deflated 2%)\n",
            "  adding: chase_db_256_256_dice_bce_0_4__0_4_1/split_2/train/image/_Image_02R_2.png (deflated 5%)\n",
            "  adding: chase_db_256_256_dice_bce_0_4__0_4_1/split_2/train/image/_Image_10R_3.png (deflated 7%)\n",
            "  adding: chase_db_256_256_dice_bce_0_4__0_4_1/split_2/train/image/_Image_04R_14.png (deflated 2%)\n",
            "  adding: chase_db_256_256_dice_bce_0_4__0_4_1/split_2/train/image/_Image_05L_0.png (deflated 4%)\n",
            "  adding: chase_db_256_256_dice_bce_0_4__0_4_1/split_2/train/image/_Image_09L_6.png (deflated 2%)\n",
            "  adding: chase_db_256_256_dice_bce_0_4__0_4_1/split_2/train/image/_Image_08R_0.png (deflated 6%)\n",
            "  adding: chase_db_256_256_dice_bce_0_4__0_4_1/split_2/train/image/_Image_05R_13.png (deflated 2%)\n",
            "  adding: chase_db_256_256_dice_bce_0_4__0_4_1/split_2/train/image/_Image_06R_11.png (deflated 3%)\n",
            "  adding: chase_db_256_256_dice_bce_0_4__0_4_1/split_2/train/image/_Image_14R_9.png (deflated 1%)\n",
            "  adding: chase_db_256_256_dice_bce_0_4__0_4_1/split_2/train/image/_Image_14L_2.png (deflated 2%)\n",
            "  adding: chase_db_256_256_dice_bce_0_4__0_4_1/split_2/train/image/_Image_10R_6.png (deflated 3%)\n",
            "  adding: chase_db_256_256_dice_bce_0_4__0_4_1/split_2/train/image/_Image_06L_6.png (deflated 2%)\n",
            "  adding: chase_db_256_256_dice_bce_0_4__0_4_1/split_2/train/image/_Image_08R_1.png (deflated 4%)\n",
            "  adding: chase_db_256_256_dice_bce_0_4__0_4_1/split_2/train/image/_Image_14L_12.png (deflated 4%)\n",
            "  adding: chase_db_256_256_dice_bce_0_4__0_4_1/split_2/train/image/_Image_08R_14.png (deflated 4%)\n",
            "  adding: chase_db_256_256_dice_bce_0_4__0_4_1/split_2/train/image/_Image_08R_13.png (deflated 4%)\n",
            "  adding: chase_db_256_256_dice_bce_0_4__0_4_1/split_2/train/image/_Image_10L_6.png (deflated 2%)\n",
            "  adding: chase_db_256_256_dice_bce_0_4__0_4_1/split_2/train/image/_Image_02L_6.png (deflated 2%)\n",
            "  adding: chase_db_256_256_dice_bce_0_4__0_4_1/split_2/train/image/_Image_07L_8.png (deflated 3%)\n",
            "  adding: chase_db_256_256_dice_bce_0_4__0_4_1/split_2/train/image/_Image_02R_14.png (deflated 2%)\n",
            "  adding: chase_db_256_256_dice_bce_0_4__0_4_1/split_2/train/image/_Image_01R_12.png (deflated 5%)\n",
            "  adding: chase_db_256_256_dice_bce_0_4__0_4_1/split_2/train/image/_Image_01R_1.png (deflated 4%)\n",
            "  adding: chase_db_256_256_dice_bce_0_4__0_4_1/split_2/train/image/_Image_01L_10.png (deflated 2%)\n",
            "  adding: chase_db_256_256_dice_bce_0_4__0_4_1/split_2/train/image/_Image_01L_8.png (deflated 2%)\n",
            "  adding: chase_db_256_256_dice_bce_0_4__0_4_1/split_2/train/image/_Image_04R_15.png (deflated 5%)\n",
            "  adding: chase_db_256_256_dice_bce_0_4__0_4_1/split_2/train/image/_Image_03L_0.png (deflated 4%)\n",
            "  adding: chase_db_256_256_dice_bce_0_4__0_4_1/split_2/train/image/_Image_14R_10.png (deflated 1%)\n",
            "  adding: chase_db_256_256_dice_bce_0_4__0_4_1/split_2/train/image/_Image_07R_4.png (deflated 2%)\n",
            "  adding: chase_db_256_256_dice_bce_0_4__0_4_1/split_2/train/image/_Image_14L_1.png (deflated 2%)\n",
            "  adding: chase_db_256_256_dice_bce_0_4__0_4_1/split_2/train/image/_Image_07L_0.png (deflated 4%)\n",
            "  adding: chase_db_256_256_dice_bce_0_4__0_4_1/split_2/train/image/_Image_04L_6.png (deflated 3%)\n",
            "  adding: chase_db_256_256_dice_bce_0_4__0_4_1/split_2/train/image/_Image_05R_11.png (deflated 3%)\n",
            "  adding: chase_db_256_256_dice_bce_0_4__0_4_1/split_2/train/image/_Image_08L_6.png (deflated 2%)\n",
            "  adding: chase_db_256_256_dice_bce_0_4__0_4_1/split_2/train/image/_Image_07L_10.png (deflated 1%)\n",
            "  adding: chase_db_256_256_dice_bce_0_4__0_4_1/split_2/train/image/_Image_03R_9.png (deflated 2%)\n",
            "  adding: chase_db_256_256_dice_bce_0_4__0_4_1/split_2/train/image/_Image_09R_1.png (deflated 2%)\n",
            "  adding: chase_db_256_256_dice_bce_0_4__0_4_1/split_2/train/image/_Image_14L_4.png (deflated 2%)\n",
            "  adding: chase_db_256_256_dice_bce_0_4__0_4_1/split_2/train/image/_Image_01L_14.png (deflated 2%)\n",
            "  adding: chase_db_256_256_dice_bce_0_4__0_4_1/split_2/train/image/_Image_03R_4.png (deflated 3%)\n",
            "  adding: chase_db_256_256_dice_bce_0_4__0_4_1/split_2/train/image/_Image_05L_6.png (deflated 2%)\n",
            "  adding: chase_db_256_256_dice_bce_0_4__0_4_1/split_2/train/image/_Image_06R_8.png (deflated 6%)\n",
            "  adding: chase_db_256_256_dice_bce_0_4__0_4_1/split_2/train/image/_Image_04L_15.png (deflated 6%)\n",
            "  adding: chase_db_256_256_dice_bce_0_4__0_4_1/split_2/train/image/_Image_01L_0.png (deflated 5%)\n",
            "  adding: chase_db_256_256_dice_bce_0_4__0_4_1/split_2/train/image/_Image_14L_15.png (deflated 4%)\n",
            "  adding: chase_db_256_256_dice_bce_0_4__0_4_1/split_2/train/image/_Image_14R_3.png (deflated 7%)\n",
            "  adding: chase_db_256_256_dice_bce_0_4__0_4_1/split_2/train/image/_Image_14L_10.png (deflated 2%)\n",
            "  adding: chase_db_256_256_dice_bce_0_4__0_4_1/split_2/train/image/_Image_04L_11.png (deflated 5%)\n",
            "  adding: chase_db_256_256_dice_bce_0_4__0_4_1/split_2/train/image/_Image_04L_3.png (deflated 6%)\n",
            "  adding: chase_db_256_256_dice_bce_0_4__0_4_1/split_2/train/image/_Image_04R_13.png (deflated 2%)\n",
            "  adding: chase_db_256_256_dice_bce_0_4__0_4_1/split_2/train/image/_Image_10L_14.png (deflated 2%)\n",
            "  adding: chase_db_256_256_dice_bce_0_4__0_4_1/split_2/image_patches_256_256_test.csv (deflated 93%)\n",
            "  adding: chase_db_256_256_dice_bce_0_4__0_4_1/split_2/image_patches_256_256_train.csv (deflated 94%)\n",
            "  adding: chase_db_256_256_dice_bce_0_4__0_4_1/test/ (stored 0%)\n",
            "  adding: chase_db_256_256_dice_bce_0_4__0_4_1/test/1st_manual/ (stored 0%)\n",
            "  adding: chase_db_256_256_dice_bce_0_4__0_4_1/test/1st_manual/Image_13L_1stHO.png (deflated 0%)\n",
            "  adding: chase_db_256_256_dice_bce_0_4__0_4_1/test/1st_manual/Image_12R_1stHO.png (deflated 0%)\n",
            "  adding: chase_db_256_256_dice_bce_0_4__0_4_1/test/1st_manual/Image_11L_1stHO.png (deflated 0%)\n",
            "  adding: chase_db_256_256_dice_bce_0_4__0_4_1/test/1st_manual/Image_11R_1stHO.png (deflated 0%)\n",
            "  adding: chase_db_256_256_dice_bce_0_4__0_4_1/test/1st_manual/Image_12L_1stHO.png (deflated 0%)\n",
            "  adding: chase_db_256_256_dice_bce_0_4__0_4_1/test/images/ (stored 0%)\n",
            "  adding: chase_db_256_256_dice_bce_0_4__0_4_1/test/images/Image_12L.jpg (deflated 7%)\n",
            "  adding: chase_db_256_256_dice_bce_0_4__0_4_1/test/images/Image_13L.jpg (deflated 8%)\n",
            "  adding: chase_db_256_256_dice_bce_0_4__0_4_1/test/images/Image_12R.jpg (deflated 6%)\n",
            "  adding: chase_db_256_256_dice_bce_0_4__0_4_1/test/images/Image_11L.jpg (deflated 6%)\n",
            "  adding: chase_db_256_256_dice_bce_0_4__0_4_1/test/images/Image_11R.jpg (deflated 7%)\n",
            "  adding: chase_db_256_256_dice_bce_0_4__0_4_1/results_reconstructed/ (stored 0%)\n",
            "  adding: chase_db_256_256_dice_bce_0_4__0_4_1/training/ (stored 0%)\n",
            "  adding: chase_db_256_256_dice_bce_0_4__0_4_1/training/1st_manual/ (stored 0%)\n",
            "  adding: chase_db_256_256_dice_bce_0_4__0_4_1/training/1st_manual/Image_07L_1stHO.png (deflated 0%)\n",
            "  adding: chase_db_256_256_dice_bce_0_4__0_4_1/training/1st_manual/Image_10L_1stHO.png (deflated 0%)\n",
            "  adding: chase_db_256_256_dice_bce_0_4__0_4_1/training/1st_manual/Image_06R_1stHO.png (deflated 0%)\n",
            "  adding: chase_db_256_256_dice_bce_0_4__0_4_1/training/1st_manual/Image_03R_1stHO.png (deflated 0%)\n",
            "  adding: chase_db_256_256_dice_bce_0_4__0_4_1/training/1st_manual/Image_06L_1stHO.png (deflated 0%)\n",
            "  adding: chase_db_256_256_dice_bce_0_4__0_4_1/training/1st_manual/Image_09R_1stHO.png (deflated 0%)\n",
            "  adding: chase_db_256_256_dice_bce_0_4__0_4_1/training/1st_manual/Image_14R_1stHO.png (deflated 0%)\n",
            "  adding: chase_db_256_256_dice_bce_0_4__0_4_1/training/1st_manual/Image_07R_1stHO.png (deflated 0%)\n",
            "  adding: chase_db_256_256_dice_bce_0_4__0_4_1/training/1st_manual/Image_02L_1stHO.png (deflated 0%)\n",
            "  adding: chase_db_256_256_dice_bce_0_4__0_4_1/training/1st_manual/Image_04R_1stHO.png (deflated 0%)\n",
            "  adding: chase_db_256_256_dice_bce_0_4__0_4_1/training/1st_manual/Image_08R_1stHO.png (deflated 0%)\n",
            "  adding: chase_db_256_256_dice_bce_0_4__0_4_1/training/1st_manual/Image_02R_1stHO.png (deflated 0%)\n",
            "  adding: chase_db_256_256_dice_bce_0_4__0_4_1/training/1st_manual/Image_05L_1stHO.png (deflated 0%)\n",
            "  adding: chase_db_256_256_dice_bce_0_4__0_4_1/training/1st_manual/Image_08L_1stHO.png (deflated 0%)\n",
            "  adding: chase_db_256_256_dice_bce_0_4__0_4_1/training/1st_manual/Image_09L_1stHO.png (deflated 0%)\n",
            "  adding: chase_db_256_256_dice_bce_0_4__0_4_1/training/1st_manual/Image_03L_1stHO.png (deflated 0%)\n",
            "  adding: chase_db_256_256_dice_bce_0_4__0_4_1/training/1st_manual/Image_05R_1stHO.png (deflated 0%)\n",
            "  adding: chase_db_256_256_dice_bce_0_4__0_4_1/training/1st_manual/Image_04L_1stHO.png (deflated 0%)\n",
            "  adding: chase_db_256_256_dice_bce_0_4__0_4_1/training/1st_manual/Image_13R_1stHO.png (deflated 0%)\n",
            "  adding: chase_db_256_256_dice_bce_0_4__0_4_1/training/1st_manual/Image_10R_1stHO.png (deflated 0%)\n",
            "  adding: chase_db_256_256_dice_bce_0_4__0_4_1/training/1st_manual/Image_01L_1stHO.png (deflated 0%)\n",
            "  adding: chase_db_256_256_dice_bce_0_4__0_4_1/training/1st_manual/Image_01R_1stHO.png (deflated 0%)\n",
            "  adding: chase_db_256_256_dice_bce_0_4__0_4_1/training/1st_manual/Image_14L_1stHO.png (stored 0%)\n",
            "  adding: chase_db_256_256_dice_bce_0_4__0_4_1/training/images/ (stored 0%)\n",
            "  adding: chase_db_256_256_dice_bce_0_4__0_4_1/training/images/Image_05R.jpg (deflated 6%)\n",
            "  adding: chase_db_256_256_dice_bce_0_4__0_4_1/training/images/Image_08R.jpg (deflated 9%)\n",
            "  adding: chase_db_256_256_dice_bce_0_4__0_4_1/training/images/Image_10L.jpg (deflated 6%)\n",
            "  adding: chase_db_256_256_dice_bce_0_4__0_4_1/training/images/Image_09R.jpg (deflated 7%)\n",
            "  adding: chase_db_256_256_dice_bce_0_4__0_4_1/training/images/Image_08L.jpg (deflated 8%)\n",
            "  adding: chase_db_256_256_dice_bce_0_4__0_4_1/training/images/Image_14R.jpg (deflated 8%)\n",
            "  adding: chase_db_256_256_dice_bce_0_4__0_4_1/training/images/Image_07L.jpg (deflated 6%)\n",
            "  adding: chase_db_256_256_dice_bce_0_4__0_4_1/training/images/Image_05L.jpg (deflated 6%)\n",
            "  adding: chase_db_256_256_dice_bce_0_4__0_4_1/training/images/Image_02L.jpg (deflated 6%)\n",
            "  adding: chase_db_256_256_dice_bce_0_4__0_4_1/training/images/Image_09L.jpg (deflated 8%)\n",
            "  adding: chase_db_256_256_dice_bce_0_4__0_4_1/training/images/Image_01R.jpg (deflated 7%)\n",
            "  adding: chase_db_256_256_dice_bce_0_4__0_4_1/training/images/Image_03R.jpg (deflated 6%)\n",
            "  adding: chase_db_256_256_dice_bce_0_4__0_4_1/training/images/Image_07R.jpg (deflated 6%)\n",
            "  adding: chase_db_256_256_dice_bce_0_4__0_4_1/training/images/Image_01L.jpg (deflated 6%)\n",
            "  adding: chase_db_256_256_dice_bce_0_4__0_4_1/training/images/Image_03L.jpg (deflated 6%)\n",
            "  adding: chase_db_256_256_dice_bce_0_4__0_4_1/training/images/Image_13R.jpg (deflated 8%)\n",
            "  adding: chase_db_256_256_dice_bce_0_4__0_4_1/training/images/Image_02R.jpg (deflated 7%)\n",
            "  adding: chase_db_256_256_dice_bce_0_4__0_4_1/training/images/Image_10R.jpg (deflated 6%)\n",
            "  adding: chase_db_256_256_dice_bce_0_4__0_4_1/training/images/Image_06L.jpg (deflated 7%)\n",
            "  adding: chase_db_256_256_dice_bce_0_4__0_4_1/training/images/Image_04L.jpg (deflated 7%)\n",
            "  adding: chase_db_256_256_dice_bce_0_4__0_4_1/training/images/Image_04R.jpg (deflated 7%)\n",
            "  adding: chase_db_256_256_dice_bce_0_4__0_4_1/training/images/Image_06R.jpg (deflated 7%)\n",
            "  adding: chase_db_256_256_dice_bce_0_4__0_4_1/training/images/Image_14L.jpg (deflated 6%)\n",
            "  adding: chase_db_256_256_dice_bce_0_4__0_4_1/predictions_np/ (stored 0%)\n",
            "  adding: chase_db_256_256_dice_bce_0_4__0_4_1/predictions_np/_Image_11L_0.npy (deflated 23%)\n",
            "  adding: chase_db_256_256_dice_bce_0_4__0_4_1/predictions_np/_Image_13L_0.npy (deflated 24%)\n",
            "  adding: chase_db_256_256_dice_bce_0_4__0_4_1/predictions_np/_Image_12L_3.npy (deflated 26%)\n",
            "  adding: chase_db_256_256_dice_bce_0_4__0_4_1/predictions_np/_Image_12R_12.npy (deflated 24%)\n",
            "  adding: chase_db_256_256_dice_bce_0_4__0_4_1/predictions_np/_Image_11R_4.npy (deflated 14%)\n",
            "  adding: chase_db_256_256_dice_bce_0_4__0_4_1/predictions_np/_Image_12R_3.npy (deflated 26%)\n",
            "  adding: chase_db_256_256_dice_bce_0_4__0_4_1/predictions_np/_Image_11R_1.npy (deflated 14%)\n",
            "  adding: chase_db_256_256_dice_bce_0_4__0_4_1/predictions_np/_Image_13L_9.npy (deflated 12%)\n",
            "  adding: chase_db_256_256_dice_bce_0_4__0_4_1/predictions_np/_Image_11L_13.npy (deflated 15%)\n",
            "  adding: chase_db_256_256_dice_bce_0_4__0_4_1/predictions_np/_Image_11R_11.npy (deflated 14%)\n",
            "  adding: chase_db_256_256_dice_bce_0_4__0_4_1/predictions_np/_Image_12R_9.npy (deflated 13%)\n",
            "  adding: chase_db_256_256_dice_bce_0_4__0_4_1/predictions_np/_Image_13L_2.npy (deflated 14%)\n",
            "  adding: chase_db_256_256_dice_bce_0_4__0_4_1/predictions_np/_Image_12R_10.npy (deflated 14%)\n",
            "  adding: chase_db_256_256_dice_bce_0_4__0_4_1/predictions_np/_Image_11R_0.npy (deflated 24%)\n",
            "  adding: chase_db_256_256_dice_bce_0_4__0_4_1/predictions_np/_Image_12R_4.npy (deflated 14%)\n",
            "  adding: chase_db_256_256_dice_bce_0_4__0_4_1/predictions_np/_Image_12L_5.npy (deflated 13%)\n",
            "  adding: chase_db_256_256_dice_bce_0_4__0_4_1/predictions_np/_Image_13L_3.npy (deflated 27%)\n",
            "  adding: chase_db_256_256_dice_bce_0_4__0_4_1/predictions_np/_Image_11L_10.npy (deflated 12%)\n",
            "  adding: chase_db_256_256_dice_bce_0_4__0_4_1/predictions_np/_Image_13L_6.npy (deflated 13%)\n",
            "  adding: chase_db_256_256_dice_bce_0_4__0_4_1/predictions_np/_Image_11L_12.npy (deflated 24%)\n",
            "  adding: chase_db_256_256_dice_bce_0_4__0_4_1/predictions_np/_Image_13L_12.npy (deflated 25%)\n",
            "  adding: chase_db_256_256_dice_bce_0_4__0_4_1/predictions_np/_Image_13L_8.npy (deflated 14%)\n",
            "  adding: chase_db_256_256_dice_bce_0_4__0_4_1/predictions_np/_Image_11L_1.npy (deflated 15%)\n",
            "  adding: chase_db_256_256_dice_bce_0_4__0_4_1/predictions_np/_Image_12R_11.npy (deflated 14%)\n",
            "  adding: chase_db_256_256_dice_bce_0_4__0_4_1/predictions_np/_Image_13L_13.npy (deflated 14%)\n",
            "  adding: chase_db_256_256_dice_bce_0_4__0_4_1/predictions_np/_Image_12R_6.npy (deflated 14%)\n",
            "  adding: chase_db_256_256_dice_bce_0_4__0_4_1/predictions_np/_Image_12L_1.npy (deflated 13%)\n",
            "  adding: chase_db_256_256_dice_bce_0_4__0_4_1/predictions_np/_Image_12L_0.npy (deflated 25%)\n",
            "  adding: chase_db_256_256_dice_bce_0_4__0_4_1/predictions_np/_Image_11L_11.npy (deflated 13%)\n",
            "  adding: chase_db_256_256_dice_bce_0_4__0_4_1/predictions_np/_Image_12L_9.npy (deflated 14%)\n",
            "  adding: chase_db_256_256_dice_bce_0_4__0_4_1/predictions_np/_Image_11R_3.npy (deflated 25%)\n",
            "  adding: chase_db_256_256_dice_bce_0_4__0_4_1/predictions_np/_Image_12L_2.npy (deflated 13%)\n",
            "  adding: chase_db_256_256_dice_bce_0_4__0_4_1/predictions_np/_Image_12L_11.npy (deflated 14%)\n",
            "  adding: chase_db_256_256_dice_bce_0_4__0_4_1/predictions_np/_Image_12L_8.npy (deflated 13%)\n",
            "  adding: chase_db_256_256_dice_bce_0_4__0_4_1/predictions_np/_Image_13L_7.npy (deflated 14%)\n",
            "  adding: chase_db_256_256_dice_bce_0_4__0_4_1/predictions_np/_Image_11R_15.npy (deflated 26%)\n",
            "  adding: chase_db_256_256_dice_bce_0_4__0_4_1/predictions_np/_Image_12L_13.npy (deflated 14%)\n",
            "  adding: chase_db_256_256_dice_bce_0_4__0_4_1/predictions_np/_Image_13L_14.npy (deflated 14%)\n",
            "  adding: chase_db_256_256_dice_bce_0_4__0_4_1/predictions_np/_Image_12R_5.npy (deflated 14%)\n",
            "  adding: chase_db_256_256_dice_bce_0_4__0_4_1/predictions_np/_Image_11L_7.npy (deflated 12%)\n",
            "  adding: chase_db_256_256_dice_bce_0_4__0_4_1/predictions_np/_Image_11L_6.npy (deflated 13%)\n",
            "  adding: chase_db_256_256_dice_bce_0_4__0_4_1/predictions_np/_Image_12L_10.npy (deflated 15%)\n",
            "  adding: chase_db_256_256_dice_bce_0_4__0_4_1/predictions_np/_Image_12L_15.npy (deflated 26%)\n",
            "  adding: chase_db_256_256_dice_bce_0_4__0_4_1/predictions_np/_Image_12L_7.npy (deflated 14%)\n",
            "  adding: chase_db_256_256_dice_bce_0_4__0_4_1/predictions_np/_Image_12R_15.npy (deflated 26%)\n",
            "  adding: chase_db_256_256_dice_bce_0_4__0_4_1/predictions_np/_Image_12L_4.npy (deflated 13%)\n",
            "  adding: chase_db_256_256_dice_bce_0_4__0_4_1/predictions_np/_Image_11R_2.npy (deflated 14%)\n",
            "  adding: chase_db_256_256_dice_bce_0_4__0_4_1/predictions_np/_Image_12R_8.npy (deflated 13%)\n",
            "  adding: chase_db_256_256_dice_bce_0_4__0_4_1/predictions_np/_Image_11R_10.npy (deflated 12%)\n",
            "  adding: chase_db_256_256_dice_bce_0_4__0_4_1/predictions_np/_Image_11L_2.npy (deflated 14%)\n",
            "  adding: chase_db_256_256_dice_bce_0_4__0_4_1/predictions_np/_Image_11L_8.npy (deflated 15%)\n",
            "  adding: chase_db_256_256_dice_bce_0_4__0_4_1/predictions_np/_Image_11L_4.npy (deflated 13%)\n",
            "  adding: chase_db_256_256_dice_bce_0_4__0_4_1/predictions_np/_Image_13L_11.npy (deflated 14%)\n",
            "  adding: chase_db_256_256_dice_bce_0_4__0_4_1/predictions_np/_Image_13L_15.npy (deflated 27%)\n",
            "  adding: chase_db_256_256_dice_bce_0_4__0_4_1/predictions_np/_Image_12L_6.npy (deflated 14%)\n",
            "  adding: chase_db_256_256_dice_bce_0_4__0_4_1/predictions_np/_Image_11R_6.npy (deflated 13%)\n",
            "  adding: chase_db_256_256_dice_bce_0_4__0_4_1/predictions_np/_Image_12R_1.npy (deflated 14%)\n",
            "  adding: chase_db_256_256_dice_bce_0_4__0_4_1/predictions_np/_Image_11R_13.npy (deflated 15%)\n",
            "  adding: chase_db_256_256_dice_bce_0_4__0_4_1/predictions_np/_Image_11R_5.npy (deflated 14%)\n",
            "  adding: chase_db_256_256_dice_bce_0_4__0_4_1/predictions_np/_Image_11L_9.npy (deflated 13%)\n",
            "  adding: chase_db_256_256_dice_bce_0_4__0_4_1/predictions_np/_Image_11R_12.npy (deflated 24%)\n",
            "  adding: chase_db_256_256_dice_bce_0_4__0_4_1/predictions_np/_Image_11R_9.npy (deflated 13%)\n",
            "  adding: chase_db_256_256_dice_bce_0_4__0_4_1/predictions_np/_Image_13L_10.npy (deflated 13%)\n",
            "  adding: chase_db_256_256_dice_bce_0_4__0_4_1/predictions_np/_Image_11L_3.npy (deflated 26%)\n",
            "  adding: chase_db_256_256_dice_bce_0_4__0_4_1/predictions_np/_Image_11R_7.npy (deflated 13%)\n",
            "  adding: chase_db_256_256_dice_bce_0_4__0_4_1/predictions_np/_Image_13L_5.npy (deflated 13%)\n",
            "  adding: chase_db_256_256_dice_bce_0_4__0_4_1/predictions_np/_Image_12L_12.npy (deflated 24%)\n",
            "  adding: chase_db_256_256_dice_bce_0_4__0_4_1/predictions_np/_Image_13L_1.npy (deflated 13%)\n",
            "  adding: chase_db_256_256_dice_bce_0_4__0_4_1/predictions_np/_Image_12R_14.npy (deflated 15%)\n",
            "  adding: chase_db_256_256_dice_bce_0_4__0_4_1/predictions_np/_Image_11L_5.npy (deflated 14%)\n",
            "  adding: chase_db_256_256_dice_bce_0_4__0_4_1/predictions_np/_Image_12R_7.npy (deflated 14%)\n",
            "  adding: chase_db_256_256_dice_bce_0_4__0_4_1/predictions_np/_Image_11L_15.npy (deflated 26%)\n",
            "  adding: chase_db_256_256_dice_bce_0_4__0_4_1/predictions_np/_Image_12L_14.npy (deflated 14%)\n",
            "  adding: chase_db_256_256_dice_bce_0_4__0_4_1/predictions_np/_Image_12R_2.npy (deflated 14%)\n",
            "  adding: chase_db_256_256_dice_bce_0_4__0_4_1/predictions_np/_Image_13L_4.npy (deflated 13%)\n",
            "  adding: chase_db_256_256_dice_bce_0_4__0_4_1/predictions_np/_Image_11R_14.npy (deflated 15%)\n",
            "  adding: chase_db_256_256_dice_bce_0_4__0_4_1/predictions_np/_Image_12R_13.npy (deflated 15%)\n",
            "  adding: chase_db_256_256_dice_bce_0_4__0_4_1/predictions_np/_Image_11L_14.npy (deflated 15%)\n",
            "  adding: chase_db_256_256_dice_bce_0_4__0_4_1/predictions_np/_Image_11R_8.npy (deflated 13%)\n",
            "  adding: chase_db_256_256_dice_bce_0_4__0_4_1/predictions_np/_Image_12R_0.npy (deflated 24%)\n",
            "  adding: chase_db_256_256_dice_bce_0_4__0_4_1/trained_models/ (stored 0%)\n",
            "  adding: chase_db_256_256_dice_bce_0_4__0_4_1/trained_models/model.h5 (deflated 9%)\n",
            "  adding: chase_db_256_256_dice_bce_0_4__0_4_1/trained_models/data.csv (deflated 51%)\n"
          ]
        }
      ],
      "source": [
        "!zip -r {folder_name}.zip  {folder_name}/"
      ]
    },
    {
      "cell_type": "code",
      "execution_count": null,
      "metadata": {
        "colab": {
          "background_save": true
        },
        "id": "8L9ewIL3ach6",
        "outputId": "ed8163d4-9441-4d3f-f76d-a95d73875f38"
      },
      "outputs": [
        {
          "name": "stdout",
          "output_type": "stream",
          "text": [
            "total 376M\n",
            "drwxr-xr-x  4 root root 4.0K Mar 11 06:44 logs\n",
            "drwxr-xr-x 10 root root 4.0K Mar 11 06:48 chase_db_256_256_dice_bce_0_4__0_4_1\n",
            "-rw-r--r--  1 root root 376M Mar 11 06:49 chase_db_256_256_dice_bce_0_4__0_4_1.zip\n"
          ]
        }
      ],
      "source": [
        "!ls -ltrh\n"
      ]
    },
    {
      "cell_type": "code",
      "execution_count": null,
      "metadata": {
        "colab": {
          "background_save": true
        },
        "id": "HgeR9u--S9HC",
        "outputId": "e617bee8-cc89-4f71-971b-9d56ba39de4e"
      },
      "outputs": [
        {
          "name": "stdout",
          "output_type": "stream",
          "text": [
            "02_g_test.png\n",
            "chase_db_128_128_dice_bce_0_4__0_4_1\n",
            "chase_db_128_128_dice_bce_0_4__0_4_1.zip\n",
            "drive_128_128_dice_bce_0_4__0_4_1\n",
            "drive_128_128_dice_bce_0_4__0_4_1.zip\n",
            "drive_128_128_dice_bce_0_4__hvr_0_4_1\n",
            "drive_128_128_dice_bce_0_4__hvr_0_4_1.zip\n",
            "drive_128_128_dice_loss_0_4__0_4_1\n",
            "drive_128_128_dice_loss_0_4__0_4_1.zip\n",
            "drive_128_128_dice_loss_0_4__hvr_0_4_1\n",
            "drive_128_128_dice_loss_0_4__hvr_0_4_1.zip\n",
            "drive_256_256_dice_bce_0_4__0_4_1\n",
            "drive_256_256_dice_bce_0_4__0_4_1.zip\n",
            "drive_256_256_dice_bce_0_4__hvr_0_4_1\n",
            "drive_256_256_dice_bce_0_4__hvr_0_4_1.zip\n",
            "drive_256_256_dice_loss_0_4__0_4_1\n",
            "drive_256_256_dice_loss_0_4__0_4_1.zip\n",
            "drive_256_256_dice_loss_0_4__hvr_0_4_1\n",
            "drive_256_256_dice_loss_0_4__hvr_0_4_1.zip\n",
            "drive_64_64_dice_bce_0_4__0_4_1\n",
            "drive_64_64_dice_bce_0_4__0_4_1.zip\n",
            "drive_64_64_dice_bce_0_4__hvr_0_4_1\n",
            "drive_64_64_dice_bce_0_4__hvr_0_4_1.zip\n",
            "drive_64_64_dice_loss_0_4__0_4_1\n",
            "drive_64_64_dice_loss_0_4__0_4_1.zip\n",
            "drive_64_64_dice_loss_0_4__hvr_0_4_1\n",
            "drive_64_64_dice_loss_0_4__hvr_0_4_1.zip\n",
            "hrf_256_256_dice_loss_1\n",
            "hrf_256_256_dice_loss_1.zip\n",
            "hrf_256_256_dice_loss_hvr_1.zip\n",
            "hrf_256_256_dice_loss_hvr_2.zip\n",
            "hrf_512_256_bce_hvr_xval_10_42.zip\n",
            "hrf_512_512\n",
            "hrf_512_512_bce\n",
            "hrf_512_512_bce_1\n",
            "hrf_512_512_bce_1.zip\n",
            "hrf_512_512_bce_2\n",
            "hrf_512_512_bce_2.zip\n",
            "hrf_512_512_bce_hvr\n",
            "hrf_512_512_bce_hvr_0_3\n",
            "hrf_512_512_bce_hvr_0_33_42.zip\n",
            "hrf_512_512_bce_hvr_0_33_43\n",
            "hrf_512_512_bce_hvr_0_33_43.zip\n",
            "hrf_512_512_bce_hvr_0_3_44\n",
            "hrf_512_512_bce_hvr_0_3_44.zip\n",
            "hrf_512_512_bce_hvr_feb_3_1.zip\n",
            "hrf_512_512_bce_hvr_feb_5_1.zip\n",
            "hrf_512_512_bce_hvr_xval_2_42.zip\n",
            "hrf_512_512_bce_hvr_xval_5_42\n",
            "hrf_512_512_bce_hvr_xval_5_42_10epochs\n",
            "hrf_512_512_bce_hvr_xval_5_42.csv\n",
            "hrf_512_512_bce_hvr.zip\n",
            "hrf_512_512_bce.zip\n",
            "hrf_512_512_dice\n",
            "hrf_512_512_dice_bce\n",
            "hrf_512_512_dice_bce_0_4_2\n",
            "hrf_512_512_dice_bce_0_4_2.zip\n",
            "hrf_512_512_dice_bce_1\n",
            "hrf_512_512_dice_bce_1.zip\n",
            "hrf_512_512_dice_bce_hvr\n",
            "hrf_512_512_dice_bce_hvr_0_3_feb4.zip\n",
            "hrf_512_512_dice_bce_hvr_2.zip\n",
            "hrf_512_512_dice_bce_hvr_jan_31_2.zip\n",
            "hrf_512_512_dice_bce_hvr_jan_31.zip\n",
            "hrf_512_512_dice_bce_hvr_xval_5_42.zip\n",
            "hrf_512_512_dice_bce_hvr_xval_9_42_10epochs.zip\n",
            "hrf_512_512_dice_bce_hvr.zip\n",
            "hrf_512_512_DiceBCELoss\n",
            "hrf_512_512_dice_loss_0_4_1\n",
            "hrf_512_512_dice_loss_0_4_1.zip\n",
            "hrf_512_512_dice_loss_2\n",
            "hrf_512_512_dice_loss_2.zip\n",
            "hrf_512_512_dice_loss_3\n",
            "hrf_512_512_dice_loss_3.zip\n",
            "hrf_512_512_dice_loss_hvr_0_3_feb_3.zip\n",
            "hrf_512_512_dice_loss_hvr_0_4_feb4.zip\n",
            "hrf_512_512_dice_loss_hvr_3.zip\n",
            "hrf_512_512_dice_loss_hvr_xval_5_42.zip\n",
            "hrf_512_512_dice.zip\n",
            "hrf_512_512.zip\n",
            "hrf_768_768_bce_0_4_1\n",
            "hrf_768_768_bce_0_4_1.zip\n",
            "hrf_768_768_bce_hvr_1.zip\n",
            "hrf_768_768_dice_bce_0_4_1\n",
            "hrf_768_768_dice_bce_0_4_1.zip\n",
            "hrf_768_768_dice_bce_hvr_1.zip\n",
            "hrf_768_768_dice_loss_0_4_1\n",
            "hrf_768_768_dice_loss_0_4_1.zip\n",
            "hrf_768_768_dice_loss_hvr_2.zip\n",
            "hrf_768_768_wbce_0_4__0_3_1\n",
            "hrf_768_768_wbce_0_4__0_3_1.zip\n",
            "hrf_768_768_wbce_0_4__0_4_1\n",
            "hrf_768_768_wbce_0_4__0_4_1.zip\n",
            "hrf_768_768_wbce_0_5__0_3_1\n",
            "hrf_768_768_wbce_0_5__0_3_1.zip\n",
            "hrf_768_768_wbce_0_6__0_3_1\n",
            "hrf_768_768_wbce_0_6__0_3_1.zip\n",
            "hrf_768_768_wbce_0_6__0_4_1\n",
            "hrf_768_768_wbce_0_6__0_4_1.zip\n",
            "hrf_768_768_wbce_0_6__hvr_1.zip\n",
            "hrf_patches_512.zip\n",
            "hrf.zip\n",
            "idrid_512_512_dice_bce_0_4__hvr_0_4_1\n",
            "idrid_512_512_dice_bce_0_4__hvr_0_4_1.zip\n",
            "idrid_768_768_dice_bce_0_4__hvr_0_4_1\n",
            "idrid_768_768_dice_bce_0_4__hvr_0_4_1.zip\n",
            "non_overlapping_512\n",
            "split_2.zip\n"
          ]
        }
      ],
      "source": [
        "!ls /content/gdrive/MyDrive/Blood_Vessel_Results/hrf_patches/"
      ]
    },
    {
      "cell_type": "code",
      "execution_count": null,
      "metadata": {
        "colab": {
          "background_save": true
        },
        "id": "uxv_dah3MAdT"
      },
      "outputs": [],
      "source": [
        "!cp {folder_name}.zip /content/gdrive/MyDrive/Blood_Vessel_Results/hrf_patches/"
      ]
    },
    {
      "cell_type": "code",
      "execution_count": null,
      "metadata": {
        "colab": {
          "background_save": true
        },
        "id": "LDtPmTRvTZEg",
        "outputId": "6575cb61-831e-49e6-b53b-9852a317c22f"
      },
      "outputs": [
        {
          "name": "stdout",
          "output_type": "stream",
          "text": [
            "/content/gdrive/MyDrive/Blood_Vessel_Results/hrf_patches\n"
          ]
        }
      ],
      "source": [
        "%cd /content/gdrive/MyDrive/Blood_Vessel_Results/hrf_patches/"
      ]
    },
    {
      "cell_type": "code",
      "execution_count": null,
      "metadata": {
        "colab": {
          "background_save": true
        },
        "id": "l9g3FzQFUzN1",
        "outputId": "eaa31dd8-c377-4746-9e98-bbfb6ff9f7a7"
      },
      "outputs": [
        {
          "name": "stdout",
          "output_type": "stream",
          "text": [
            "/content/gdrive/MyDrive/Blood_Vessel_Results/hrf_patches\n"
          ]
        }
      ],
      "source": [
        "!pwd"
      ]
    },
    {
      "cell_type": "code",
      "execution_count": null,
      "metadata": {
        "colab": {
          "background_save": true
        },
        "id": "AnpquhqmU1gr",
        "outputId": "ee0b96a3-d923-4611-8f57-7cf85a5d0493"
      },
      "outputs": [
        {
          "name": "stdout",
          "output_type": "stream",
          "text": [
            "02_g_test.png\n",
            "chase_db_128_128_dice_bce_0_4__0_4_1\n",
            "chase_db_128_128_dice_bce_0_4__0_4_1.zip\n",
            "chase_db_256_256_dice_bce_0_4__0_4_1.zip\n",
            "drive_128_128_dice_bce_0_4__0_4_1\n",
            "drive_128_128_dice_bce_0_4__0_4_1.zip\n",
            "drive_128_128_dice_bce_0_4__hvr_0_4_1\n",
            "drive_128_128_dice_bce_0_4__hvr_0_4_1.zip\n",
            "drive_128_128_dice_loss_0_4__0_4_1\n",
            "drive_128_128_dice_loss_0_4__0_4_1.zip\n",
            "drive_128_128_dice_loss_0_4__hvr_0_4_1\n",
            "drive_128_128_dice_loss_0_4__hvr_0_4_1.zip\n",
            "drive_256_256_dice_bce_0_4__0_4_1\n",
            "drive_256_256_dice_bce_0_4__0_4_1.zip\n",
            "drive_256_256_dice_bce_0_4__hvr_0_4_1\n",
            "drive_256_256_dice_bce_0_4__hvr_0_4_1.zip\n",
            "drive_256_256_dice_loss_0_4__0_4_1\n",
            "drive_256_256_dice_loss_0_4__0_4_1.zip\n",
            "drive_256_256_dice_loss_0_4__hvr_0_4_1\n",
            "drive_256_256_dice_loss_0_4__hvr_0_4_1.zip\n",
            "drive_64_64_dice_bce_0_4__0_4_1\n",
            "drive_64_64_dice_bce_0_4__0_4_1.zip\n",
            "drive_64_64_dice_bce_0_4__hvr_0_4_1\n",
            "drive_64_64_dice_bce_0_4__hvr_0_4_1.zip\n",
            "drive_64_64_dice_loss_0_4__0_4_1\n",
            "drive_64_64_dice_loss_0_4__0_4_1.zip\n",
            "drive_64_64_dice_loss_0_4__hvr_0_4_1\n",
            "drive_64_64_dice_loss_0_4__hvr_0_4_1.zip\n",
            "hrf_256_256_dice_loss_1\n",
            "hrf_256_256_dice_loss_1.zip\n",
            "hrf_256_256_dice_loss_hvr_1.zip\n",
            "hrf_256_256_dice_loss_hvr_2.zip\n",
            "hrf_512_256_bce_hvr_xval_10_42.zip\n",
            "hrf_512_512\n",
            "hrf_512_512_bce\n",
            "hrf_512_512_bce_1\n",
            "hrf_512_512_bce_1.zip\n",
            "hrf_512_512_bce_2\n",
            "hrf_512_512_bce_2.zip\n",
            "hrf_512_512_bce_hvr\n",
            "hrf_512_512_bce_hvr_0_3\n",
            "hrf_512_512_bce_hvr_0_33_42.zip\n",
            "hrf_512_512_bce_hvr_0_33_43\n",
            "hrf_512_512_bce_hvr_0_33_43.zip\n",
            "hrf_512_512_bce_hvr_0_3_44\n",
            "hrf_512_512_bce_hvr_0_3_44.zip\n",
            "hrf_512_512_bce_hvr_feb_3_1.zip\n",
            "hrf_512_512_bce_hvr_feb_5_1.zip\n",
            "hrf_512_512_bce_hvr_xval_2_42.zip\n",
            "hrf_512_512_bce_hvr_xval_5_42\n",
            "hrf_512_512_bce_hvr_xval_5_42_10epochs\n",
            "hrf_512_512_bce_hvr_xval_5_42.csv\n",
            "hrf_512_512_bce_hvr.zip\n",
            "hrf_512_512_bce.zip\n",
            "hrf_512_512_dice\n",
            "hrf_512_512_dice_bce\n",
            "hrf_512_512_dice_bce_0_4_2\n",
            "hrf_512_512_dice_bce_0_4_2.zip\n",
            "hrf_512_512_dice_bce_1\n",
            "hrf_512_512_dice_bce_1.zip\n",
            "hrf_512_512_dice_bce_hvr\n",
            "hrf_512_512_dice_bce_hvr_0_3_feb4.zip\n",
            "hrf_512_512_dice_bce_hvr_2.zip\n",
            "hrf_512_512_dice_bce_hvr_jan_31_2.zip\n",
            "hrf_512_512_dice_bce_hvr_jan_31.zip\n",
            "hrf_512_512_dice_bce_hvr_xval_5_42.zip\n",
            "hrf_512_512_dice_bce_hvr_xval_9_42_10epochs.zip\n",
            "hrf_512_512_dice_bce_hvr.zip\n",
            "hrf_512_512_DiceBCELoss\n",
            "hrf_512_512_dice_loss_0_4_1\n",
            "hrf_512_512_dice_loss_0_4_1.zip\n",
            "hrf_512_512_dice_loss_2\n",
            "hrf_512_512_dice_loss_2.zip\n",
            "hrf_512_512_dice_loss_3\n",
            "hrf_512_512_dice_loss_3.zip\n",
            "hrf_512_512_dice_loss_hvr_0_3_feb_3.zip\n",
            "hrf_512_512_dice_loss_hvr_0_4_feb4.zip\n",
            "hrf_512_512_dice_loss_hvr_3.zip\n",
            "hrf_512_512_dice_loss_hvr_xval_5_42.zip\n",
            "hrf_512_512_dice.zip\n",
            "hrf_512_512.zip\n",
            "hrf_768_768_bce_0_4_1\n",
            "hrf_768_768_bce_0_4_1.zip\n",
            "hrf_768_768_bce_hvr_1.zip\n",
            "hrf_768_768_dice_bce_0_4_1\n",
            "hrf_768_768_dice_bce_0_4_1.zip\n",
            "hrf_768_768_dice_bce_hvr_1.zip\n",
            "hrf_768_768_dice_loss_0_4_1\n",
            "hrf_768_768_dice_loss_0_4_1.zip\n",
            "hrf_768_768_dice_loss_hvr_2.zip\n",
            "hrf_768_768_wbce_0_4__0_3_1\n",
            "hrf_768_768_wbce_0_4__0_3_1.zip\n",
            "hrf_768_768_wbce_0_4__0_4_1\n",
            "hrf_768_768_wbce_0_4__0_4_1.zip\n",
            "hrf_768_768_wbce_0_5__0_3_1\n",
            "hrf_768_768_wbce_0_5__0_3_1.zip\n",
            "hrf_768_768_wbce_0_6__0_3_1\n",
            "hrf_768_768_wbce_0_6__0_3_1.zip\n",
            "hrf_768_768_wbce_0_6__0_4_1\n",
            "hrf_768_768_wbce_0_6__0_4_1.zip\n",
            "hrf_768_768_wbce_0_6__hvr_1.zip\n",
            "hrf_patches_512.zip\n",
            "hrf.zip\n",
            "idrid_512_512_dice_bce_0_4__hvr_0_4_1\n",
            "idrid_512_512_dice_bce_0_4__hvr_0_4_1.zip\n",
            "idrid_768_768_dice_bce_0_4__hvr_0_4_1\n",
            "idrid_768_768_dice_bce_0_4__hvr_0_4_1.zip\n",
            "non_overlapping_512\n",
            "split_2.zip\n"
          ]
        }
      ],
      "source": [
        "!ls"
      ]
    },
    {
      "cell_type": "code",
      "execution_count": null,
      "metadata": {
        "colab": {
          "background_save": true
        },
        "id": "QjOj2UhYTmPO",
        "outputId": "5c7f8f07-a3a6-4eb0-c6c1-dd363d78d593"
      },
      "outputs": [
        {
          "name": "stdout",
          "output_type": "stream",
          "text": [
            "Archive:  chase_db_256_256_dice_bce_0_4__0_4_1.zip\n",
            "   creating: chase_db_256_256_dice_bce_0_4__0_4_1/\n",
            "   creating: chase_db_256_256_dice_bce_0_4__0_4_1/predictions/\n",
            "  inflating: chase_db_256_256_dice_bce_0_4__0_4_1/predictions/_Image_12L_15.png  \n",
            "  inflating: chase_db_256_256_dice_bce_0_4__0_4_1/predictions/_Image_13L_0.png  \n",
            "  inflating: chase_db_256_256_dice_bce_0_4__0_4_1/predictions/_Image_12L_8.png  \n",
            "  inflating: chase_db_256_256_dice_bce_0_4__0_4_1/predictions/_Image_13L_1.png  \n",
            "  inflating: chase_db_256_256_dice_bce_0_4__0_4_1/predictions/_Image_11L_13.png  \n",
            "  inflating: chase_db_256_256_dice_bce_0_4__0_4_1/predictions/_Image_12L_4.png  \n",
            "  inflating: chase_db_256_256_dice_bce_0_4__0_4_1/predictions/_Image_11L_11.png  \n",
            "  inflating: chase_db_256_256_dice_bce_0_4__0_4_1/predictions/_Image_11L_15.png  \n",
            "  inflating: chase_db_256_256_dice_bce_0_4__0_4_1/predictions/_Image_12R_3.png  \n",
            "  inflating: chase_db_256_256_dice_bce_0_4__0_4_1/predictions/_Image_13L_2.png  \n",
            "  inflating: chase_db_256_256_dice_bce_0_4__0_4_1/predictions/_Image_13L_7.png  \n",
            "  inflating: chase_db_256_256_dice_bce_0_4__0_4_1/predictions/_Image_12R_15.png  \n",
            "  inflating: chase_db_256_256_dice_bce_0_4__0_4_1/predictions/_Image_12R_4.png  \n",
            "  inflating: chase_db_256_256_dice_bce_0_4__0_4_1/predictions/_Image_11L_12.png  \n",
            "  inflating: chase_db_256_256_dice_bce_0_4__0_4_1/predictions/_Image_13L_8.png  \n",
            "  inflating: chase_db_256_256_dice_bce_0_4__0_4_1/predictions/_Image_13L_12.png  \n",
            "  inflating: chase_db_256_256_dice_bce_0_4__0_4_1/predictions/_Image_13L_3.png  \n",
            "  inflating: chase_db_256_256_dice_bce_0_4__0_4_1/predictions/_Image_12L_13.png  \n",
            "  inflating: chase_db_256_256_dice_bce_0_4__0_4_1/predictions/_Image_13L_6.png  \n",
            "  inflating: chase_db_256_256_dice_bce_0_4__0_4_1/predictions/_Image_11R_11.png  \n",
            "  inflating: chase_db_256_256_dice_bce_0_4__0_4_1/predictions/_Image_13L_11.png  \n",
            "  inflating: chase_db_256_256_dice_bce_0_4__0_4_1/predictions/_Image_11L_14.png  \n",
            "  inflating: chase_db_256_256_dice_bce_0_4__0_4_1/predictions/_Image_11L_7.png  \n",
            "  inflating: chase_db_256_256_dice_bce_0_4__0_4_1/predictions/_Image_13L_15.png  \n",
            "  inflating: chase_db_256_256_dice_bce_0_4__0_4_1/predictions/_Image_11R_3.png  \n",
            "  inflating: chase_db_256_256_dice_bce_0_4__0_4_1/predictions/_Image_13L_9.png  \n",
            "  inflating: chase_db_256_256_dice_bce_0_4__0_4_1/predictions/_Image_12L_9.png  \n",
            "  inflating: chase_db_256_256_dice_bce_0_4__0_4_1/predictions/_Image_11R_15.png  \n",
            "  inflating: chase_db_256_256_dice_bce_0_4__0_4_1/predictions/_Image_11L_9.png  \n",
            "  inflating: chase_db_256_256_dice_bce_0_4__0_4_1/predictions/_Image_11L_1.png  \n",
            "  inflating: chase_db_256_256_dice_bce_0_4__0_4_1/predictions/_Image_12R_14.png  \n",
            "  inflating: chase_db_256_256_dice_bce_0_4__0_4_1/predictions/_Image_11R_6.png  \n",
            "  inflating: chase_db_256_256_dice_bce_0_4__0_4_1/predictions/_Image_13L_5.png  \n",
            "  inflating: chase_db_256_256_dice_bce_0_4__0_4_1/predictions/_Image_12L_2.png  \n",
            "  inflating: chase_db_256_256_dice_bce_0_4__0_4_1/predictions/_Image_11R_12.png  \n",
            "  inflating: chase_db_256_256_dice_bce_0_4__0_4_1/predictions/_Image_12R_1.png  \n",
            "  inflating: chase_db_256_256_dice_bce_0_4__0_4_1/predictions/_Image_12L_3.png  \n",
            "  inflating: chase_db_256_256_dice_bce_0_4__0_4_1/predictions/_Image_12R_7.png  \n",
            "  inflating: chase_db_256_256_dice_bce_0_4__0_4_1/predictions/_Image_11L_8.png  \n",
            "  inflating: chase_db_256_256_dice_bce_0_4__0_4_1/predictions/_Image_11R_14.png  \n",
            "  inflating: chase_db_256_256_dice_bce_0_4__0_4_1/predictions/_Image_12R_9.png  \n",
            "  inflating: chase_db_256_256_dice_bce_0_4__0_4_1/predictions/_Image_11R_10.png  \n",
            "  inflating: chase_db_256_256_dice_bce_0_4__0_4_1/predictions/_Image_12L_10.png  \n",
            "  inflating: chase_db_256_256_dice_bce_0_4__0_4_1/predictions/_Image_12L_11.png  \n",
            "  inflating: chase_db_256_256_dice_bce_0_4__0_4_1/predictions/_Image_12L_14.png  \n",
            "  inflating: chase_db_256_256_dice_bce_0_4__0_4_1/predictions/_Image_11L_5.png  \n",
            "  inflating: chase_db_256_256_dice_bce_0_4__0_4_1/predictions/_Image_11R_7.png  \n",
            "  inflating: chase_db_256_256_dice_bce_0_4__0_4_1/predictions/_Image_12R_2.png  \n",
            "  inflating: chase_db_256_256_dice_bce_0_4__0_4_1/predictions/_Image_11R_13.png  \n",
            "  inflating: chase_db_256_256_dice_bce_0_4__0_4_1/predictions/_Image_12L_1.png  \n",
            "  inflating: chase_db_256_256_dice_bce_0_4__0_4_1/predictions/_Image_11L_6.png  \n",
            "  inflating: chase_db_256_256_dice_bce_0_4__0_4_1/predictions/_Image_12L_6.png  \n",
            "  inflating: chase_db_256_256_dice_bce_0_4__0_4_1/predictions/_Image_11R_0.png  \n",
            "  inflating: chase_db_256_256_dice_bce_0_4__0_4_1/predictions/_Image_12L_12.png  \n",
            "  inflating: chase_db_256_256_dice_bce_0_4__0_4_1/predictions/_Image_12R_11.png  \n",
            "  inflating: chase_db_256_256_dice_bce_0_4__0_4_1/predictions/_Image_12R_8.png  \n",
            "  inflating: chase_db_256_256_dice_bce_0_4__0_4_1/predictions/_Image_13L_13.png  \n",
            "  inflating: chase_db_256_256_dice_bce_0_4__0_4_1/predictions/_Image_11L_0.png  \n",
            "  inflating: chase_db_256_256_dice_bce_0_4__0_4_1/predictions/_Image_12L_7.png  \n",
            "  inflating: chase_db_256_256_dice_bce_0_4__0_4_1/predictions/_Image_11L_3.png  \n",
            "  inflating: chase_db_256_256_dice_bce_0_4__0_4_1/predictions/_Image_11L_10.png  \n",
            "  inflating: chase_db_256_256_dice_bce_0_4__0_4_1/predictions/_Image_12L_0.png  \n",
            "  inflating: chase_db_256_256_dice_bce_0_4__0_4_1/predictions/_Image_13L_4.png  \n",
            "  inflating: chase_db_256_256_dice_bce_0_4__0_4_1/predictions/_Image_12R_12.png  \n",
            "  inflating: chase_db_256_256_dice_bce_0_4__0_4_1/predictions/_Image_11R_8.png  \n",
            "  inflating: chase_db_256_256_dice_bce_0_4__0_4_1/predictions/_Image_12R_13.png  \n",
            "  inflating: chase_db_256_256_dice_bce_0_4__0_4_1/predictions/_Image_12R_5.png  \n",
            "  inflating: chase_db_256_256_dice_bce_0_4__0_4_1/predictions/_Image_11R_4.png  \n",
            "  inflating: chase_db_256_256_dice_bce_0_4__0_4_1/predictions/_Image_12R_0.png  \n",
            "  inflating: chase_db_256_256_dice_bce_0_4__0_4_1/predictions/_Image_11R_1.png  \n",
            "  inflating: chase_db_256_256_dice_bce_0_4__0_4_1/predictions/_Image_12L_5.png  \n",
            "  inflating: chase_db_256_256_dice_bce_0_4__0_4_1/predictions/_Image_11L_2.png  \n",
            "  inflating: chase_db_256_256_dice_bce_0_4__0_4_1/predictions/_Image_12R_6.png  \n",
            "  inflating: chase_db_256_256_dice_bce_0_4__0_4_1/predictions/_Image_12R_10.png  \n",
            "  inflating: chase_db_256_256_dice_bce_0_4__0_4_1/predictions/_Image_11R_2.png  \n",
            "  inflating: chase_db_256_256_dice_bce_0_4__0_4_1/predictions/_Image_11R_5.png  \n",
            "  inflating: chase_db_256_256_dice_bce_0_4__0_4_1/predictions/_Image_11R_9.png  \n",
            "  inflating: chase_db_256_256_dice_bce_0_4__0_4_1/predictions/_Image_11L_4.png  \n",
            "  inflating: chase_db_256_256_dice_bce_0_4__0_4_1/predictions/_Image_13L_14.png  \n",
            "  inflating: chase_db_256_256_dice_bce_0_4__0_4_1/predictions/_Image_13L_10.png  \n",
            "   creating: chase_db_256_256_dice_bce_0_4__0_4_1/results/\n",
            "  inflating: chase_db_256_256_dice_bce_0_4__0_4_1/results/score.csv  \n",
            "  inflating: chase_db_256_256_dice_bce_0_4__0_4_1/results/_Image_12L_15.png  \n",
            "  inflating: chase_db_256_256_dice_bce_0_4__0_4_1/results/_Image_13L_0.png  \n",
            "  inflating: chase_db_256_256_dice_bce_0_4__0_4_1/results/_Image_12L_8.png  \n",
            "  inflating: chase_db_256_256_dice_bce_0_4__0_4_1/results/_Image_13L_1.png  \n",
            "  inflating: chase_db_256_256_dice_bce_0_4__0_4_1/results/_Image_11L_13.png  \n",
            "  inflating: chase_db_256_256_dice_bce_0_4__0_4_1/results/_Image_12L_4.png  \n",
            "  inflating: chase_db_256_256_dice_bce_0_4__0_4_1/results/_Image_11L_11.png  \n",
            "  inflating: chase_db_256_256_dice_bce_0_4__0_4_1/results/_Image_11L_15.png  \n",
            "  inflating: chase_db_256_256_dice_bce_0_4__0_4_1/results/_Image_12R_3.png  \n",
            "  inflating: chase_db_256_256_dice_bce_0_4__0_4_1/results/_Image_13L_2.png  \n",
            "  inflating: chase_db_256_256_dice_bce_0_4__0_4_1/results/_Image_13L_7.png  \n",
            "  inflating: chase_db_256_256_dice_bce_0_4__0_4_1/results/_Image_12R_15.png  \n",
            "  inflating: chase_db_256_256_dice_bce_0_4__0_4_1/results/_Image_12R_4.png  \n",
            "  inflating: chase_db_256_256_dice_bce_0_4__0_4_1/results/_Image_11L_12.png  \n",
            "  inflating: chase_db_256_256_dice_bce_0_4__0_4_1/results/_Image_13L_8.png  \n",
            "  inflating: chase_db_256_256_dice_bce_0_4__0_4_1/results/_Image_13L_12.png  \n",
            "  inflating: chase_db_256_256_dice_bce_0_4__0_4_1/results/_Image_13L_3.png  \n",
            "  inflating: chase_db_256_256_dice_bce_0_4__0_4_1/results/_Image_12L_13.png  \n",
            "  inflating: chase_db_256_256_dice_bce_0_4__0_4_1/results/_Image_13L_6.png  \n",
            "  inflating: chase_db_256_256_dice_bce_0_4__0_4_1/results/_Image_11R_11.png  \n",
            "  inflating: chase_db_256_256_dice_bce_0_4__0_4_1/results/_Image_13L_11.png  \n",
            "  inflating: chase_db_256_256_dice_bce_0_4__0_4_1/results/_Image_11L_14.png  \n",
            "  inflating: chase_db_256_256_dice_bce_0_4__0_4_1/results/_Image_11L_7.png  \n",
            "  inflating: chase_db_256_256_dice_bce_0_4__0_4_1/results/_Image_13L_15.png  \n",
            "  inflating: chase_db_256_256_dice_bce_0_4__0_4_1/results/_Image_11R_3.png  \n",
            "  inflating: chase_db_256_256_dice_bce_0_4__0_4_1/results/_Image_13L_9.png  \n",
            "  inflating: chase_db_256_256_dice_bce_0_4__0_4_1/results/_Image_12L_9.png  \n",
            "  inflating: chase_db_256_256_dice_bce_0_4__0_4_1/results/_Image_11R_15.png  \n",
            "  inflating: chase_db_256_256_dice_bce_0_4__0_4_1/results/_Image_11L_9.png  \n",
            "  inflating: chase_db_256_256_dice_bce_0_4__0_4_1/results/_Image_11L_1.png  \n",
            "  inflating: chase_db_256_256_dice_bce_0_4__0_4_1/results/_Image_12R_14.png  \n",
            "  inflating: chase_db_256_256_dice_bce_0_4__0_4_1/results/_Image_11R_6.png  \n",
            "  inflating: chase_db_256_256_dice_bce_0_4__0_4_1/results/_Image_13L_5.png  \n",
            "  inflating: chase_db_256_256_dice_bce_0_4__0_4_1/results/_Image_12L_2.png  \n",
            "  inflating: chase_db_256_256_dice_bce_0_4__0_4_1/results/_Image_11R_12.png  \n",
            "  inflating: chase_db_256_256_dice_bce_0_4__0_4_1/results/_Image_12R_1.png  \n",
            "  inflating: chase_db_256_256_dice_bce_0_4__0_4_1/results/score_full_0_6.csv  \n",
            "  inflating: chase_db_256_256_dice_bce_0_4__0_4_1/results/score_full_0_4.csv  \n",
            "  inflating: chase_db_256_256_dice_bce_0_4__0_4_1/results/_Image_12L_3.png  \n",
            "  inflating: chase_db_256_256_dice_bce_0_4__0_4_1/results/_Image_12R_7.png  \n",
            "  inflating: chase_db_256_256_dice_bce_0_4__0_4_1/results/_Image_11L_8.png  \n",
            "  inflating: chase_db_256_256_dice_bce_0_4__0_4_1/results/_Image_11R_14.png  \n",
            "  inflating: chase_db_256_256_dice_bce_0_4__0_4_1/results/_Image_12R_9.png  \n",
            "  inflating: chase_db_256_256_dice_bce_0_4__0_4_1/results/_Image_11R_10.png  \n",
            "  inflating: chase_db_256_256_dice_bce_0_4__0_4_1/results/_Image_12L_10.png  \n",
            "  inflating: chase_db_256_256_dice_bce_0_4__0_4_1/results/_Image_12L_11.png  \n",
            "  inflating: chase_db_256_256_dice_bce_0_4__0_4_1/results/_Image_12L_14.png  \n",
            "  inflating: chase_db_256_256_dice_bce_0_4__0_4_1/results/_Image_11L_5.png  \n",
            "  inflating: chase_db_256_256_dice_bce_0_4__0_4_1/results/_Image_11R_7.png  \n",
            "  inflating: chase_db_256_256_dice_bce_0_4__0_4_1/results/_Image_12R_2.png  \n",
            "  inflating: chase_db_256_256_dice_bce_0_4__0_4_1/results/_Image_11R_13.png  \n",
            "  inflating: chase_db_256_256_dice_bce_0_4__0_4_1/results/_Image_12L_1.png  \n",
            "  inflating: chase_db_256_256_dice_bce_0_4__0_4_1/results/_Image_11L_6.png  \n",
            "  inflating: chase_db_256_256_dice_bce_0_4__0_4_1/results/_Image_12L_6.png  \n",
            "  inflating: chase_db_256_256_dice_bce_0_4__0_4_1/results/_Image_11R_0.png  \n",
            "  inflating: chase_db_256_256_dice_bce_0_4__0_4_1/results/_Image_12L_12.png  \n",
            "  inflating: chase_db_256_256_dice_bce_0_4__0_4_1/results/_Image_12R_11.png  \n",
            "  inflating: chase_db_256_256_dice_bce_0_4__0_4_1/results/score_full_0_5.csv  \n",
            "  inflating: chase_db_256_256_dice_bce_0_4__0_4_1/results/_Image_12R_8.png  \n",
            "  inflating: chase_db_256_256_dice_bce_0_4__0_4_1/results/_Image_13L_13.png  \n",
            "  inflating: chase_db_256_256_dice_bce_0_4__0_4_1/results/_Image_11L_0.png  \n",
            "  inflating: chase_db_256_256_dice_bce_0_4__0_4_1/results/_Image_12L_7.png  \n",
            "  inflating: chase_db_256_256_dice_bce_0_4__0_4_1/results/_Image_11L_3.png  \n",
            "  inflating: chase_db_256_256_dice_bce_0_4__0_4_1/results/_Image_11L_10.png  \n",
            "  inflating: chase_db_256_256_dice_bce_0_4__0_4_1/results/_Image_12L_0.png  \n",
            "  inflating: chase_db_256_256_dice_bce_0_4__0_4_1/results/_Image_13L_4.png  \n",
            "  inflating: chase_db_256_256_dice_bce_0_4__0_4_1/results/_Image_12R_12.png  \n",
            "  inflating: chase_db_256_256_dice_bce_0_4__0_4_1/results/_Image_11R_8.png  \n",
            "  inflating: chase_db_256_256_dice_bce_0_4__0_4_1/results/_Image_12R_13.png  \n",
            "  inflating: chase_db_256_256_dice_bce_0_4__0_4_1/results/_Image_12R_5.png  \n",
            "  inflating: chase_db_256_256_dice_bce_0_4__0_4_1/results/_Image_11R_4.png  \n",
            "  inflating: chase_db_256_256_dice_bce_0_4__0_4_1/results/_Image_12R_0.png  \n",
            "  inflating: chase_db_256_256_dice_bce_0_4__0_4_1/results/_Image_11R_1.png  \n",
            "  inflating: chase_db_256_256_dice_bce_0_4__0_4_1/results/_Image_12L_5.png  \n",
            "  inflating: chase_db_256_256_dice_bce_0_4__0_4_1/results/_Image_11L_2.png  \n",
            "  inflating: chase_db_256_256_dice_bce_0_4__0_4_1/results/_Image_12R_6.png  \n",
            "  inflating: chase_db_256_256_dice_bce_0_4__0_4_1/results/_Image_12R_10.png  \n",
            "  inflating: chase_db_256_256_dice_bce_0_4__0_4_1/results/_Image_11R_2.png  \n",
            "  inflating: chase_db_256_256_dice_bce_0_4__0_4_1/results/_Image_11R_5.png  \n",
            "  inflating: chase_db_256_256_dice_bce_0_4__0_4_1/results/_Image_11R_9.png  \n",
            "  inflating: chase_db_256_256_dice_bce_0_4__0_4_1/results/_Image_11L_4.png  \n",
            "  inflating: chase_db_256_256_dice_bce_0_4__0_4_1/results/_Image_13L_14.png  \n",
            "  inflating: chase_db_256_256_dice_bce_0_4__0_4_1/results/_Image_13L_10.png  \n",
            "   creating: chase_db_256_256_dice_bce_0_4__0_4_1/split_2/\n",
            "   creating: chase_db_256_256_dice_bce_0_4__0_4_1/split_2/test/\n",
            "   creating: chase_db_256_256_dice_bce_0_4__0_4_1/split_2/test/mask/\n",
            "  inflating: chase_db_256_256_dice_bce_0_4__0_4_1/split_2/test/mask/_Image_12L_15.png  \n",
            "  inflating: chase_db_256_256_dice_bce_0_4__0_4_1/split_2/test/mask/_Image_13L_0.png  \n",
            "  inflating: chase_db_256_256_dice_bce_0_4__0_4_1/split_2/test/mask/_Image_12L_8.png  \n",
            "  inflating: chase_db_256_256_dice_bce_0_4__0_4_1/split_2/test/mask/_Image_13L_1.png  \n",
            "  inflating: chase_db_256_256_dice_bce_0_4__0_4_1/split_2/test/mask/_Image_11L_13.png  \n",
            "  inflating: chase_db_256_256_dice_bce_0_4__0_4_1/split_2/test/mask/_Image_12L_4.png  \n",
            "  inflating: chase_db_256_256_dice_bce_0_4__0_4_1/split_2/test/mask/_Image_11L_11.png  \n",
            "  inflating: chase_db_256_256_dice_bce_0_4__0_4_1/split_2/test/mask/_Image_11L_15.png  \n",
            "  inflating: chase_db_256_256_dice_bce_0_4__0_4_1/split_2/test/mask/_Image_12R_3.png  \n",
            "  inflating: chase_db_256_256_dice_bce_0_4__0_4_1/split_2/test/mask/_Image_13L_2.png  \n",
            "  inflating: chase_db_256_256_dice_bce_0_4__0_4_1/split_2/test/mask/_Image_13L_7.png  \n",
            "  inflating: chase_db_256_256_dice_bce_0_4__0_4_1/split_2/test/mask/_Image_12R_15.png  \n",
            "  inflating: chase_db_256_256_dice_bce_0_4__0_4_1/split_2/test/mask/_Image_12R_4.png  \n",
            "  inflating: chase_db_256_256_dice_bce_0_4__0_4_1/split_2/test/mask/_Image_11L_12.png  \n",
            "  inflating: chase_db_256_256_dice_bce_0_4__0_4_1/split_2/test/mask/_Image_13L_8.png  \n",
            "  inflating: chase_db_256_256_dice_bce_0_4__0_4_1/split_2/test/mask/_Image_13L_12.png  \n",
            "  inflating: chase_db_256_256_dice_bce_0_4__0_4_1/split_2/test/mask/_Image_13L_3.png  \n",
            "  inflating: chase_db_256_256_dice_bce_0_4__0_4_1/split_2/test/mask/_Image_12L_13.png  \n",
            "  inflating: chase_db_256_256_dice_bce_0_4__0_4_1/split_2/test/mask/_Image_13L_6.png  \n",
            "  inflating: chase_db_256_256_dice_bce_0_4__0_4_1/split_2/test/mask/_Image_11R_11.png  \n",
            "  inflating: chase_db_256_256_dice_bce_0_4__0_4_1/split_2/test/mask/_Image_13L_11.png  \n",
            "  inflating: chase_db_256_256_dice_bce_0_4__0_4_1/split_2/test/mask/_Image_11L_14.png  \n",
            "  inflating: chase_db_256_256_dice_bce_0_4__0_4_1/split_2/test/mask/_Image_11L_7.png  \n",
            "  inflating: chase_db_256_256_dice_bce_0_4__0_4_1/split_2/test/mask/_Image_13L_15.png  \n",
            "  inflating: chase_db_256_256_dice_bce_0_4__0_4_1/split_2/test/mask/_Image_11R_3.png  \n",
            "  inflating: chase_db_256_256_dice_bce_0_4__0_4_1/split_2/test/mask/_Image_13L_9.png  \n",
            "  inflating: chase_db_256_256_dice_bce_0_4__0_4_1/split_2/test/mask/_Image_12L_9.png  \n",
            "  inflating: chase_db_256_256_dice_bce_0_4__0_4_1/split_2/test/mask/_Image_11R_15.png  \n",
            "  inflating: chase_db_256_256_dice_bce_0_4__0_4_1/split_2/test/mask/_Image_11L_9.png  \n",
            "  inflating: chase_db_256_256_dice_bce_0_4__0_4_1/split_2/test/mask/_Image_11L_1.png  \n",
            "  inflating: chase_db_256_256_dice_bce_0_4__0_4_1/split_2/test/mask/_Image_12R_14.png  \n",
            "  inflating: chase_db_256_256_dice_bce_0_4__0_4_1/split_2/test/mask/_Image_11R_6.png  \n",
            "  inflating: chase_db_256_256_dice_bce_0_4__0_4_1/split_2/test/mask/_Image_13L_5.png  \n",
            "  inflating: chase_db_256_256_dice_bce_0_4__0_4_1/split_2/test/mask/_Image_12L_2.png  \n",
            "  inflating: chase_db_256_256_dice_bce_0_4__0_4_1/split_2/test/mask/_Image_11R_12.png  \n",
            "  inflating: chase_db_256_256_dice_bce_0_4__0_4_1/split_2/test/mask/_Image_12R_1.png  \n",
            "  inflating: chase_db_256_256_dice_bce_0_4__0_4_1/split_2/test/mask/_Image_12L_3.png  \n",
            "  inflating: chase_db_256_256_dice_bce_0_4__0_4_1/split_2/test/mask/_Image_12R_7.png  \n",
            "  inflating: chase_db_256_256_dice_bce_0_4__0_4_1/split_2/test/mask/_Image_11L_8.png  \n",
            "  inflating: chase_db_256_256_dice_bce_0_4__0_4_1/split_2/test/mask/_Image_11R_14.png  \n",
            "  inflating: chase_db_256_256_dice_bce_0_4__0_4_1/split_2/test/mask/_Image_12R_9.png  \n",
            "  inflating: chase_db_256_256_dice_bce_0_4__0_4_1/split_2/test/mask/_Image_11R_10.png  \n",
            "  inflating: chase_db_256_256_dice_bce_0_4__0_4_1/split_2/test/mask/_Image_12L_10.png  \n",
            "  inflating: chase_db_256_256_dice_bce_0_4__0_4_1/split_2/test/mask/_Image_12L_11.png  \n",
            "  inflating: chase_db_256_256_dice_bce_0_4__0_4_1/split_2/test/mask/_Image_12L_14.png  \n",
            "  inflating: chase_db_256_256_dice_bce_0_4__0_4_1/split_2/test/mask/_Image_11L_5.png  \n",
            "  inflating: chase_db_256_256_dice_bce_0_4__0_4_1/split_2/test/mask/_Image_11R_7.png  \n",
            "  inflating: chase_db_256_256_dice_bce_0_4__0_4_1/split_2/test/mask/_Image_12R_2.png  \n",
            "  inflating: chase_db_256_256_dice_bce_0_4__0_4_1/split_2/test/mask/_Image_11R_13.png  \n",
            "  inflating: chase_db_256_256_dice_bce_0_4__0_4_1/split_2/test/mask/_Image_12L_1.png  \n",
            "  inflating: chase_db_256_256_dice_bce_0_4__0_4_1/split_2/test/mask/_Image_11L_6.png  \n",
            "  inflating: chase_db_256_256_dice_bce_0_4__0_4_1/split_2/test/mask/_Image_12L_6.png  \n",
            "  inflating: chase_db_256_256_dice_bce_0_4__0_4_1/split_2/test/mask/_Image_11R_0.png  \n",
            "  inflating: chase_db_256_256_dice_bce_0_4__0_4_1/split_2/test/mask/_Image_12L_12.png  \n",
            "  inflating: chase_db_256_256_dice_bce_0_4__0_4_1/split_2/test/mask/_Image_12R_11.png  \n",
            "  inflating: chase_db_256_256_dice_bce_0_4__0_4_1/split_2/test/mask/_Image_12R_8.png  \n",
            "  inflating: chase_db_256_256_dice_bce_0_4__0_4_1/split_2/test/mask/_Image_13L_13.png  \n",
            "  inflating: chase_db_256_256_dice_bce_0_4__0_4_1/split_2/test/mask/_Image_11L_0.png  \n",
            "  inflating: chase_db_256_256_dice_bce_0_4__0_4_1/split_2/test/mask/_Image_12L_7.png  \n",
            "  inflating: chase_db_256_256_dice_bce_0_4__0_4_1/split_2/test/mask/_Image_11L_3.png  \n",
            "  inflating: chase_db_256_256_dice_bce_0_4__0_4_1/split_2/test/mask/_Image_11L_10.png  \n",
            "  inflating: chase_db_256_256_dice_bce_0_4__0_4_1/split_2/test/mask/_Image_12L_0.png  \n",
            "  inflating: chase_db_256_256_dice_bce_0_4__0_4_1/split_2/test/mask/_Image_13L_4.png  \n",
            "  inflating: chase_db_256_256_dice_bce_0_4__0_4_1/split_2/test/mask/_Image_12R_12.png  \n",
            "  inflating: chase_db_256_256_dice_bce_0_4__0_4_1/split_2/test/mask/_Image_11R_8.png  \n",
            "  inflating: chase_db_256_256_dice_bce_0_4__0_4_1/split_2/test/mask/_Image_12R_13.png  \n",
            "  inflating: chase_db_256_256_dice_bce_0_4__0_4_1/split_2/test/mask/_Image_12R_5.png  \n",
            "  inflating: chase_db_256_256_dice_bce_0_4__0_4_1/split_2/test/mask/_Image_11R_4.png  \n",
            "  inflating: chase_db_256_256_dice_bce_0_4__0_4_1/split_2/test/mask/_Image_12R_0.png  \n",
            "  inflating: chase_db_256_256_dice_bce_0_4__0_4_1/split_2/test/mask/_Image_11R_1.png  \n",
            "  inflating: chase_db_256_256_dice_bce_0_4__0_4_1/split_2/test/mask/_Image_12L_5.png  \n",
            "  inflating: chase_db_256_256_dice_bce_0_4__0_4_1/split_2/test/mask/_Image_11L_2.png  \n",
            "  inflating: chase_db_256_256_dice_bce_0_4__0_4_1/split_2/test/mask/_Image_12R_6.png  \n",
            "  inflating: chase_db_256_256_dice_bce_0_4__0_4_1/split_2/test/mask/_Image_12R_10.png  \n",
            "  inflating: chase_db_256_256_dice_bce_0_4__0_4_1/split_2/test/mask/_Image_11R_2.png  \n",
            "  inflating: chase_db_256_256_dice_bce_0_4__0_4_1/split_2/test/mask/_Image_11R_5.png  \n",
            "  inflating: chase_db_256_256_dice_bce_0_4__0_4_1/split_2/test/mask/_Image_11R_9.png  \n",
            "  inflating: chase_db_256_256_dice_bce_0_4__0_4_1/split_2/test/mask/_Image_11L_4.png  \n",
            "  inflating: chase_db_256_256_dice_bce_0_4__0_4_1/split_2/test/mask/_Image_13L_14.png  \n",
            "  inflating: chase_db_256_256_dice_bce_0_4__0_4_1/split_2/test/mask/_Image_13L_10.png  \n",
            "   creating: chase_db_256_256_dice_bce_0_4__0_4_1/split_2/test/image/\n",
            "  inflating: chase_db_256_256_dice_bce_0_4__0_4_1/split_2/test/image/_Image_12L_15.png  \n",
            "  inflating: chase_db_256_256_dice_bce_0_4__0_4_1/split_2/test/image/_Image_13L_0.png  \n",
            "  inflating: chase_db_256_256_dice_bce_0_4__0_4_1/split_2/test/image/_Image_12L_8.png  \n",
            "  inflating: chase_db_256_256_dice_bce_0_4__0_4_1/split_2/test/image/_Image_13L_1.png  \n",
            "  inflating: chase_db_256_256_dice_bce_0_4__0_4_1/split_2/test/image/_Image_11L_13.png  \n",
            "  inflating: chase_db_256_256_dice_bce_0_4__0_4_1/split_2/test/image/_Image_12L_4.png  \n",
            "  inflating: chase_db_256_256_dice_bce_0_4__0_4_1/split_2/test/image/_Image_11L_11.png  \n",
            "  inflating: chase_db_256_256_dice_bce_0_4__0_4_1/split_2/test/image/_Image_11L_15.png  \n",
            "  inflating: chase_db_256_256_dice_bce_0_4__0_4_1/split_2/test/image/_Image_12R_3.png  \n",
            "  inflating: chase_db_256_256_dice_bce_0_4__0_4_1/split_2/test/image/_Image_13L_2.png  \n",
            "  inflating: chase_db_256_256_dice_bce_0_4__0_4_1/split_2/test/image/_Image_13L_7.png  \n",
            "  inflating: chase_db_256_256_dice_bce_0_4__0_4_1/split_2/test/image/_Image_12R_15.png  \n",
            "  inflating: chase_db_256_256_dice_bce_0_4__0_4_1/split_2/test/image/_Image_12R_4.png  \n",
            "  inflating: chase_db_256_256_dice_bce_0_4__0_4_1/split_2/test/image/_Image_11L_12.png  \n",
            "  inflating: chase_db_256_256_dice_bce_0_4__0_4_1/split_2/test/image/_Image_13L_8.png  \n",
            "  inflating: chase_db_256_256_dice_bce_0_4__0_4_1/split_2/test/image/_Image_13L_12.png  \n",
            "  inflating: chase_db_256_256_dice_bce_0_4__0_4_1/split_2/test/image/_Image_13L_3.png  \n",
            "  inflating: chase_db_256_256_dice_bce_0_4__0_4_1/split_2/test/image/_Image_12L_13.png  \n",
            "  inflating: chase_db_256_256_dice_bce_0_4__0_4_1/split_2/test/image/_Image_13L_6.png  \n",
            "  inflating: chase_db_256_256_dice_bce_0_4__0_4_1/split_2/test/image/_Image_11R_11.png  \n",
            "  inflating: chase_db_256_256_dice_bce_0_4__0_4_1/split_2/test/image/_Image_13L_11.png  \n",
            "  inflating: chase_db_256_256_dice_bce_0_4__0_4_1/split_2/test/image/_Image_11L_14.png  \n",
            "  inflating: chase_db_256_256_dice_bce_0_4__0_4_1/split_2/test/image/_Image_11L_7.png  \n",
            "  inflating: chase_db_256_256_dice_bce_0_4__0_4_1/split_2/test/image/_Image_13L_15.png  \n",
            "  inflating: chase_db_256_256_dice_bce_0_4__0_4_1/split_2/test/image/_Image_11R_3.png  \n",
            "  inflating: chase_db_256_256_dice_bce_0_4__0_4_1/split_2/test/image/_Image_13L_9.png  \n",
            "  inflating: chase_db_256_256_dice_bce_0_4__0_4_1/split_2/test/image/_Image_12L_9.png  \n",
            "  inflating: chase_db_256_256_dice_bce_0_4__0_4_1/split_2/test/image/_Image_11R_15.png  \n",
            "  inflating: chase_db_256_256_dice_bce_0_4__0_4_1/split_2/test/image/_Image_11L_9.png  \n",
            "  inflating: chase_db_256_256_dice_bce_0_4__0_4_1/split_2/test/image/_Image_11L_1.png  \n",
            "  inflating: chase_db_256_256_dice_bce_0_4__0_4_1/split_2/test/image/_Image_12R_14.png  \n",
            "  inflating: chase_db_256_256_dice_bce_0_4__0_4_1/split_2/test/image/_Image_11R_6.png  \n",
            "  inflating: chase_db_256_256_dice_bce_0_4__0_4_1/split_2/test/image/_Image_13L_5.png  \n",
            "  inflating: chase_db_256_256_dice_bce_0_4__0_4_1/split_2/test/image/_Image_12L_2.png  \n",
            "  inflating: chase_db_256_256_dice_bce_0_4__0_4_1/split_2/test/image/_Image_11R_12.png  \n",
            "  inflating: chase_db_256_256_dice_bce_0_4__0_4_1/split_2/test/image/_Image_12R_1.png  \n",
            "  inflating: chase_db_256_256_dice_bce_0_4__0_4_1/split_2/test/image/_Image_12L_3.png  \n",
            "  inflating: chase_db_256_256_dice_bce_0_4__0_4_1/split_2/test/image/_Image_12R_7.png  \n",
            "  inflating: chase_db_256_256_dice_bce_0_4__0_4_1/split_2/test/image/_Image_11L_8.png  \n",
            "  inflating: chase_db_256_256_dice_bce_0_4__0_4_1/split_2/test/image/_Image_11R_14.png  \n",
            "  inflating: chase_db_256_256_dice_bce_0_4__0_4_1/split_2/test/image/_Image_12R_9.png  \n",
            "  inflating: chase_db_256_256_dice_bce_0_4__0_4_1/split_2/test/image/_Image_11R_10.png  \n",
            "  inflating: chase_db_256_256_dice_bce_0_4__0_4_1/split_2/test/image/_Image_12L_10.png  \n",
            "  inflating: chase_db_256_256_dice_bce_0_4__0_4_1/split_2/test/image/_Image_12L_11.png  \n",
            "  inflating: chase_db_256_256_dice_bce_0_4__0_4_1/split_2/test/image/_Image_12L_14.png  \n",
            "  inflating: chase_db_256_256_dice_bce_0_4__0_4_1/split_2/test/image/_Image_11L_5.png  \n",
            "  inflating: chase_db_256_256_dice_bce_0_4__0_4_1/split_2/test/image/_Image_11R_7.png  \n",
            "  inflating: chase_db_256_256_dice_bce_0_4__0_4_1/split_2/test/image/_Image_12R_2.png  \n",
            "  inflating: chase_db_256_256_dice_bce_0_4__0_4_1/split_2/test/image/_Image_11R_13.png  \n",
            "  inflating: chase_db_256_256_dice_bce_0_4__0_4_1/split_2/test/image/_Image_12L_1.png  \n",
            "  inflating: chase_db_256_256_dice_bce_0_4__0_4_1/split_2/test/image/_Image_11L_6.png  \n",
            "  inflating: chase_db_256_256_dice_bce_0_4__0_4_1/split_2/test/image/_Image_12L_6.png  \n",
            "  inflating: chase_db_256_256_dice_bce_0_4__0_4_1/split_2/test/image/_Image_11R_0.png  \n",
            "  inflating: chase_db_256_256_dice_bce_0_4__0_4_1/split_2/test/image/_Image_12L_12.png  \n",
            "  inflating: chase_db_256_256_dice_bce_0_4__0_4_1/split_2/test/image/_Image_12R_11.png  \n",
            "  inflating: chase_db_256_256_dice_bce_0_4__0_4_1/split_2/test/image/_Image_12R_8.png  \n",
            "  inflating: chase_db_256_256_dice_bce_0_4__0_4_1/split_2/test/image/_Image_13L_13.png  \n",
            "  inflating: chase_db_256_256_dice_bce_0_4__0_4_1/split_2/test/image/_Image_11L_0.png  \n",
            "  inflating: chase_db_256_256_dice_bce_0_4__0_4_1/split_2/test/image/_Image_12L_7.png  \n",
            "  inflating: chase_db_256_256_dice_bce_0_4__0_4_1/split_2/test/image/_Image_11L_3.png  \n",
            "  inflating: chase_db_256_256_dice_bce_0_4__0_4_1/split_2/test/image/_Image_11L_10.png  \n",
            "  inflating: chase_db_256_256_dice_bce_0_4__0_4_1/split_2/test/image/_Image_12L_0.png  \n",
            "  inflating: chase_db_256_256_dice_bce_0_4__0_4_1/split_2/test/image/_Image_13L_4.png  \n",
            "  inflating: chase_db_256_256_dice_bce_0_4__0_4_1/split_2/test/image/_Image_12R_12.png  \n",
            "  inflating: chase_db_256_256_dice_bce_0_4__0_4_1/split_2/test/image/_Image_11R_8.png  \n",
            "  inflating: chase_db_256_256_dice_bce_0_4__0_4_1/split_2/test/image/_Image_12R_13.png  \n",
            "  inflating: chase_db_256_256_dice_bce_0_4__0_4_1/split_2/test/image/_Image_12R_5.png  \n",
            "  inflating: chase_db_256_256_dice_bce_0_4__0_4_1/split_2/test/image/_Image_11R_4.png  \n",
            "  inflating: chase_db_256_256_dice_bce_0_4__0_4_1/split_2/test/image/_Image_12R_0.png  \n",
            "  inflating: chase_db_256_256_dice_bce_0_4__0_4_1/split_2/test/image/_Image_11R_1.png  \n",
            "  inflating: chase_db_256_256_dice_bce_0_4__0_4_1/split_2/test/image/_Image_12L_5.png  \n",
            "  inflating: chase_db_256_256_dice_bce_0_4__0_4_1/split_2/test/image/_Image_11L_2.png  \n",
            "  inflating: chase_db_256_256_dice_bce_0_4__0_4_1/split_2/test/image/_Image_12R_6.png  \n",
            "  inflating: chase_db_256_256_dice_bce_0_4__0_4_1/split_2/test/image/_Image_12R_10.png  \n",
            "  inflating: chase_db_256_256_dice_bce_0_4__0_4_1/split_2/test/image/_Image_11R_2.png  \n",
            "  inflating: chase_db_256_256_dice_bce_0_4__0_4_1/split_2/test/image/_Image_11R_5.png  \n",
            "  inflating: chase_db_256_256_dice_bce_0_4__0_4_1/split_2/test/image/_Image_11R_9.png  \n",
            "  inflating: chase_db_256_256_dice_bce_0_4__0_4_1/split_2/test/image/_Image_11L_4.png  \n",
            "  inflating: chase_db_256_256_dice_bce_0_4__0_4_1/split_2/test/image/_Image_13L_14.png  \n",
            "  inflating: chase_db_256_256_dice_bce_0_4__0_4_1/split_2/test/image/_Image_13L_10.png  \n",
            "   creating: chase_db_256_256_dice_bce_0_4__0_4_1/split_2/reconstructed/\n",
            "   creating: chase_db_256_256_dice_bce_0_4__0_4_1/split_2/reconstructed/test/\n",
            "   creating: chase_db_256_256_dice_bce_0_4__0_4_1/split_2/reconstructed/test/mask/\n",
            "  inflating: chase_db_256_256_dice_bce_0_4__0_4_1/split_2/reconstructed/test/mask/Image_12L.png  \n",
            "  inflating: chase_db_256_256_dice_bce_0_4__0_4_1/split_2/reconstructed/test/mask/Image_11R.png  \n",
            "  inflating: chase_db_256_256_dice_bce_0_4__0_4_1/split_2/reconstructed/test/mask/Image_11L.png  \n",
            "  inflating: chase_db_256_256_dice_bce_0_4__0_4_1/split_2/reconstructed/test/mask/Image_13L.png  \n",
            "  inflating: chase_db_256_256_dice_bce_0_4__0_4_1/split_2/reconstructed/test/mask/Image_12R.png  \n",
            "   creating: chase_db_256_256_dice_bce_0_4__0_4_1/split_2/reconstructed/test/image/\n",
            "  inflating: chase_db_256_256_dice_bce_0_4__0_4_1/split_2/reconstructed/test/image/Image_12L.png  \n",
            "  inflating: chase_db_256_256_dice_bce_0_4__0_4_1/split_2/reconstructed/test/image/Image_11R.png  \n",
            "  inflating: chase_db_256_256_dice_bce_0_4__0_4_1/split_2/reconstructed/test/image/Image_11L.png  \n",
            "  inflating: chase_db_256_256_dice_bce_0_4__0_4_1/split_2/reconstructed/test/image/Image_13L.png  \n",
            "  inflating: chase_db_256_256_dice_bce_0_4__0_4_1/split_2/reconstructed/test/image/Image_12R.png  \n",
            "   creating: chase_db_256_256_dice_bce_0_4__0_4_1/split_2/reconstructed/test/predictions_reconstructed/\n",
            "  inflating: chase_db_256_256_dice_bce_0_4__0_4_1/split_2/reconstructed/test/predictions_reconstructed/Image_12L.png  \n",
            "  inflating: chase_db_256_256_dice_bce_0_4__0_4_1/split_2/reconstructed/test/predictions_reconstructed/Image_11R.png  \n",
            "  inflating: chase_db_256_256_dice_bce_0_4__0_4_1/split_2/reconstructed/test/predictions_reconstructed/Image_11L.png  \n",
            "  inflating: chase_db_256_256_dice_bce_0_4__0_4_1/split_2/reconstructed/test/predictions_reconstructed/Image_13L.png  \n",
            "  inflating: chase_db_256_256_dice_bce_0_4__0_4_1/split_2/reconstructed/test/predictions_reconstructed/Image_12R.png  \n",
            "   creating: chase_db_256_256_dice_bce_0_4__0_4_1/split_2/train/\n",
            "   creating: chase_db_256_256_dice_bce_0_4__0_4_1/split_2/train/mask/\n",
            "  inflating: chase_db_256_256_dice_bce_0_4__0_4_1/split_2/train/mask/_Image_13R_1.png  \n",
            "  inflating: chase_db_256_256_dice_bce_0_4__0_4_1/split_2/train/mask/_Image_05R_3.png  \n",
            "  inflating: chase_db_256_256_dice_bce_0_4__0_4_1/split_2/train/mask/_Image_08R_2.png  \n",
            "  inflating: chase_db_256_256_dice_bce_0_4__0_4_1/split_2/train/mask/_Image_10L_7.png  \n",
            "  inflating: chase_db_256_256_dice_bce_0_4__0_4_1/split_2/train/mask/_Image_04L_9.png  \n",
            "  inflating: chase_db_256_256_dice_bce_0_4__0_4_1/split_2/train/mask/_Image_06R_2.png  \n",
            "  inflating: chase_db_256_256_dice_bce_0_4__0_4_1/split_2/train/mask/_Image_10R_10.png  \n",
            "  inflating: chase_db_256_256_dice_bce_0_4__0_4_1/split_2/train/mask/_Image_14L_13.png  \n",
            "  inflating: chase_db_256_256_dice_bce_0_4__0_4_1/split_2/train/mask/_Image_05R_10.png  \n",
            "  inflating: chase_db_256_256_dice_bce_0_4__0_4_1/split_2/train/mask/_Image_01L_7.png  \n",
            "  inflating: chase_db_256_256_dice_bce_0_4__0_4_1/split_2/train/mask/_Image_07L_13.png  \n",
            "  inflating: chase_db_256_256_dice_bce_0_4__0_4_1/split_2/train/mask/_Image_01R_0.png  \n",
            "  inflating: chase_db_256_256_dice_bce_0_4__0_4_1/split_2/train/mask/_Image_09L_2.png  \n",
            "  inflating: chase_db_256_256_dice_bce_0_4__0_4_1/split_2/train/mask/_Image_03L_3.png  \n",
            "  inflating: chase_db_256_256_dice_bce_0_4__0_4_1/split_2/train/mask/_Image_14R_8.png  \n",
            "  inflating: chase_db_256_256_dice_bce_0_4__0_4_1/split_2/train/mask/_Image_03R_6.png  \n",
            "  inflating: chase_db_256_256_dice_bce_0_4__0_4_1/split_2/train/mask/_Image_13R_13.png  \n",
            "  inflating: chase_db_256_256_dice_bce_0_4__0_4_1/split_2/train/mask/_Image_05L_15.png  \n",
            "  inflating: chase_db_256_256_dice_bce_0_4__0_4_1/split_2/train/mask/_Image_03R_12.png  \n",
            "  inflating: chase_db_256_256_dice_bce_0_4__0_4_1/split_2/train/mask/_Image_02L_2.png  \n",
            "  inflating: chase_db_256_256_dice_bce_0_4__0_4_1/split_2/train/mask/_Image_04R_10.png  \n",
            "  inflating: chase_db_256_256_dice_bce_0_4__0_4_1/split_2/train/mask/_Image_02R_9.png  \n",
            "  inflating: chase_db_256_256_dice_bce_0_4__0_4_1/split_2/train/mask/_Image_02R_5.png  \n",
            "  inflating: chase_db_256_256_dice_bce_0_4__0_4_1/split_2/train/mask/_Image_03R_7.png  \n",
            "  inflating: chase_db_256_256_dice_bce_0_4__0_4_1/split_2/train/mask/_Image_01L_11.png  \n",
            "  inflating: chase_db_256_256_dice_bce_0_4__0_4_1/split_2/train/mask/_Image_02R_15.png  \n",
            "  inflating: chase_db_256_256_dice_bce_0_4__0_4_1/split_2/train/mask/_Image_09R_4.png  \n",
            "  inflating: chase_db_256_256_dice_bce_0_4__0_4_1/split_2/train/mask/_Image_04R_2.png  \n",
            "  inflating: chase_db_256_256_dice_bce_0_4__0_4_1/split_2/train/mask/_Image_10L_8.png  \n",
            "  inflating: chase_db_256_256_dice_bce_0_4__0_4_1/split_2/train/mask/_Image_06R_0.png  \n",
            "  inflating: chase_db_256_256_dice_bce_0_4__0_4_1/split_2/train/mask/_Image_03L_4.png  \n",
            "  inflating: chase_db_256_256_dice_bce_0_4__0_4_1/split_2/train/mask/_Image_07L_1.png  \n",
            "  inflating: chase_db_256_256_dice_bce_0_4__0_4_1/split_2/train/mask/_Image_04L_13.png  \n",
            "  inflating: chase_db_256_256_dice_bce_0_4__0_4_1/split_2/train/mask/_Image_13R_0.png  \n",
            "  inflating: chase_db_256_256_dice_bce_0_4__0_4_1/split_2/train/mask/_Image_06L_2.png  \n",
            "  inflating: chase_db_256_256_dice_bce_0_4__0_4_1/split_2/train/mask/_Image_13R_3.png  \n",
            "  inflating: chase_db_256_256_dice_bce_0_4__0_4_1/split_2/train/mask/_Image_01L_1.png  \n",
            "  inflating: chase_db_256_256_dice_bce_0_4__0_4_1/split_2/train/mask/_Image_14R_7.png  \n",
            "  inflating: chase_db_256_256_dice_bce_0_4__0_4_1/split_2/train/mask/_Image_02L_7.png  \n",
            "  inflating: chase_db_256_256_dice_bce_0_4__0_4_1/split_2/train/mask/_Image_07R_0.png  \n",
            "  inflating: chase_db_256_256_dice_bce_0_4__0_4_1/split_2/train/mask/_Image_10R_8.png  \n",
            "  inflating: chase_db_256_256_dice_bce_0_4__0_4_1/split_2/train/mask/_Image_09L_10.png  \n",
            "  inflating: chase_db_256_256_dice_bce_0_4__0_4_1/split_2/train/mask/_Image_05R_9.png  \n",
            "  inflating: chase_db_256_256_dice_bce_0_4__0_4_1/split_2/train/mask/_Image_06L_9.png  \n",
            "  inflating: chase_db_256_256_dice_bce_0_4__0_4_1/split_2/train/mask/_Image_10R_1.png  \n",
            "  inflating: chase_db_256_256_dice_bce_0_4__0_4_1/split_2/train/mask/_Image_02L_4.png  \n",
            "  inflating: chase_db_256_256_dice_bce_0_4__0_4_1/split_2/train/mask/_Image_07L_12.png  \n",
            "  inflating: chase_db_256_256_dice_bce_0_4__0_4_1/split_2/train/mask/_Image_08L_4.png  \n",
            "  inflating: chase_db_256_256_dice_bce_0_4__0_4_1/split_2/train/mask/_Image_07L_9.png  \n",
            "  inflating: chase_db_256_256_dice_bce_0_4__0_4_1/split_2/train/mask/_Image_05L_14.png  \n",
            "  inflating: chase_db_256_256_dice_bce_0_4__0_4_1/split_2/train/mask/_Image_08R_5.png  \n",
            "  inflating: chase_db_256_256_dice_bce_0_4__0_4_1/split_2/train/mask/_Image_05R_7.png  \n",
            "  inflating: chase_db_256_256_dice_bce_0_4__0_4_1/split_2/train/mask/_Image_08L_7.png  \n",
            "  inflating: chase_db_256_256_dice_bce_0_4__0_4_1/split_2/train/mask/_Image_06R_3.png  \n",
            "  inflating: chase_db_256_256_dice_bce_0_4__0_4_1/split_2/train/mask/_Image_08R_10.png  \n",
            "  inflating: chase_db_256_256_dice_bce_0_4__0_4_1/split_2/train/mask/_Image_06R_9.png  \n",
            "  inflating: chase_db_256_256_dice_bce_0_4__0_4_1/split_2/train/mask/_Image_03R_11.png  \n",
            "  inflating: chase_db_256_256_dice_bce_0_4__0_4_1/split_2/train/mask/_Image_13R_6.png  \n",
            "  inflating: chase_db_256_256_dice_bce_0_4__0_4_1/split_2/train/mask/_Image_08L_14.png  \n",
            "  inflating: chase_db_256_256_dice_bce_0_4__0_4_1/split_2/train/mask/_Image_10L_12.png  \n",
            "  inflating: chase_db_256_256_dice_bce_0_4__0_4_1/split_2/train/mask/_Image_05L_3.png  \n",
            "  inflating: chase_db_256_256_dice_bce_0_4__0_4_1/split_2/train/mask/_Image_08L_5.png  \n",
            "  inflating: chase_db_256_256_dice_bce_0_4__0_4_1/split_2/train/mask/_Image_09R_9.png  \n",
            "  inflating: chase_db_256_256_dice_bce_0_4__0_4_1/split_2/train/mask/_Image_07R_7.png  \n",
            "  inflating: chase_db_256_256_dice_bce_0_4__0_4_1/split_2/train/mask/_Image_05L_13.png  \n",
            "  inflating: chase_db_256_256_dice_bce_0_4__0_4_1/split_2/train/mask/_Image_05L_11.png  \n",
            "  inflating: chase_db_256_256_dice_bce_0_4__0_4_1/split_2/train/mask/_Image_02L_15.png  \n",
            "  inflating: chase_db_256_256_dice_bce_0_4__0_4_1/split_2/train/mask/_Image_14L_6.png  \n",
            "  inflating: chase_db_256_256_dice_bce_0_4__0_4_1/split_2/train/mask/_Image_05L_4.png  \n",
            "  inflating: chase_db_256_256_dice_bce_0_4__0_4_1/split_2/train/mask/_Image_03L_14.png  \n",
            "  inflating: chase_db_256_256_dice_bce_0_4__0_4_1/split_2/train/mask/_Image_10R_2.png  \n",
            "  inflating: chase_db_256_256_dice_bce_0_4__0_4_1/split_2/train/mask/_Image_04R_1.png  \n",
            "  inflating: chase_db_256_256_dice_bce_0_4__0_4_1/split_2/train/mask/_Image_10R_11.png  \n",
            "  inflating: chase_db_256_256_dice_bce_0_4__0_4_1/split_2/train/mask/_Image_03L_2.png  \n",
            "  inflating: chase_db_256_256_dice_bce_0_4__0_4_1/split_2/train/mask/_Image_02R_12.png  \n",
            "  inflating: chase_db_256_256_dice_bce_0_4__0_4_1/split_2/train/mask/_Image_01L_6.png  \n",
            "  inflating: chase_db_256_256_dice_bce_0_4__0_4_1/split_2/train/mask/_Image_01R_2.png  \n",
            "  inflating: chase_db_256_256_dice_bce_0_4__0_4_1/split_2/train/mask/_Image_10R_4.png  \n",
            "  inflating: chase_db_256_256_dice_bce_0_4__0_4_1/split_2/train/mask/_Image_01R_3.png  \n",
            "  inflating: chase_db_256_256_dice_bce_0_4__0_4_1/split_2/train/mask/_Image_03R_13.png  \n",
            "  inflating: chase_db_256_256_dice_bce_0_4__0_4_1/split_2/train/mask/_Image_10R_7.png  \n",
            "  inflating: chase_db_256_256_dice_bce_0_4__0_4_1/split_2/train/mask/_Image_14R_4.png  \n",
            "  inflating: chase_db_256_256_dice_bce_0_4__0_4_1/split_2/train/mask/_Image_04L_1.png  \n",
            "  inflating: chase_db_256_256_dice_bce_0_4__0_4_1/split_2/train/mask/_Image_10L_15.png  \n",
            "  inflating: chase_db_256_256_dice_bce_0_4__0_4_1/split_2/train/mask/_Image_06R_4.png  \n",
            "  inflating: chase_db_256_256_dice_bce_0_4__0_4_1/split_2/train/mask/_Image_06L_7.png  \n",
            "  inflating: chase_db_256_256_dice_bce_0_4__0_4_1/split_2/train/mask/_Image_09L_8.png  \n",
            "  inflating: chase_db_256_256_dice_bce_0_4__0_4_1/split_2/train/mask/_Image_13R_4.png  \n",
            "  inflating: chase_db_256_256_dice_bce_0_4__0_4_1/split_2/train/mask/_Image_01R_5.png  \n",
            "  inflating: chase_db_256_256_dice_bce_0_4__0_4_1/split_2/train/mask/_Image_05L_9.png  \n",
            "  inflating: chase_db_256_256_dice_bce_0_4__0_4_1/split_2/train/mask/_Image_07R_13.png  \n",
            "  inflating: chase_db_256_256_dice_bce_0_4__0_4_1/split_2/train/mask/_Image_07L_14.png  \n",
            "  inflating: chase_db_256_256_dice_bce_0_4__0_4_1/split_2/train/mask/_Image_08L_10.png  \n",
            "  inflating: chase_db_256_256_dice_bce_0_4__0_4_1/split_2/train/mask/_Image_14L_0.png  \n",
            "  inflating: chase_db_256_256_dice_bce_0_4__0_4_1/split_2/train/mask/_Image_04R_0.png  \n",
            "  inflating: chase_db_256_256_dice_bce_0_4__0_4_1/split_2/train/mask/_Image_06L_0.png  \n",
            "  inflating: chase_db_256_256_dice_bce_0_4__0_4_1/split_2/train/mask/_Image_04R_9.png  \n",
            "  inflating: chase_db_256_256_dice_bce_0_4__0_4_1/split_2/train/mask/_Image_01R_10.png  \n",
            "  inflating: chase_db_256_256_dice_bce_0_4__0_4_1/split_2/train/mask/_Image_06L_8.png  \n",
            "  inflating: chase_db_256_256_dice_bce_0_4__0_4_1/split_2/train/mask/_Image_06L_12.png  \n",
            "  inflating: chase_db_256_256_dice_bce_0_4__0_4_1/split_2/train/mask/_Image_09L_7.png  \n",
            "  inflating: chase_db_256_256_dice_bce_0_4__0_4_1/split_2/train/mask/_Image_02L_12.png  \n",
            "  inflating: chase_db_256_256_dice_bce_0_4__0_4_1/split_2/train/mask/_Image_08L_9.png  \n",
            "  inflating: chase_db_256_256_dice_bce_0_4__0_4_1/split_2/train/mask/_Image_01R_11.png  \n",
            "  inflating: chase_db_256_256_dice_bce_0_4__0_4_1/split_2/train/mask/_Image_09L_4.png  \n",
            "  inflating: chase_db_256_256_dice_bce_0_4__0_4_1/split_2/train/mask/_Image_05L_1.png  \n",
            "  inflating: chase_db_256_256_dice_bce_0_4__0_4_1/split_2/train/mask/_Image_06L_1.png  \n",
            "  inflating: chase_db_256_256_dice_bce_0_4__0_4_1/split_2/train/mask/_Image_05R_2.png  \n",
            "  inflating: chase_db_256_256_dice_bce_0_4__0_4_1/split_2/train/mask/_Image_02R_6.png  \n",
            "  inflating: chase_db_256_256_dice_bce_0_4__0_4_1/split_2/train/mask/_Image_03R_1.png  \n",
            "  inflating: chase_db_256_256_dice_bce_0_4__0_4_1/split_2/train/mask/_Image_02R_1.png  \n",
            "  inflating: chase_db_256_256_dice_bce_0_4__0_4_1/split_2/train/mask/_Image_07R_14.png  \n",
            "  inflating: chase_db_256_256_dice_bce_0_4__0_4_1/split_2/train/mask/_Image_01R_9.png  \n",
            "  inflating: chase_db_256_256_dice_bce_0_4__0_4_1/split_2/train/mask/_Image_07L_2.png  \n",
            "  inflating: chase_db_256_256_dice_bce_0_4__0_4_1/split_2/train/mask/_Image_10L_0.png  \n",
            "  inflating: chase_db_256_256_dice_bce_0_4__0_4_1/split_2/train/mask/_Image_02L_3.png  \n",
            "  inflating: chase_db_256_256_dice_bce_0_4__0_4_1/split_2/train/mask/_Image_06R_5.png  \n",
            "  inflating: chase_db_256_256_dice_bce_0_4__0_4_1/split_2/train/mask/_Image_07R_6.png  \n",
            "  inflating: chase_db_256_256_dice_bce_0_4__0_4_1/split_2/train/mask/_Image_02R_8.png  \n",
            "  inflating: chase_db_256_256_dice_bce_0_4__0_4_1/split_2/train/mask/_Image_03L_7.png  \n",
            "  inflating: chase_db_256_256_dice_bce_0_4__0_4_1/split_2/train/mask/_Image_04R_5.png  \n",
            "  inflating: chase_db_256_256_dice_bce_0_4__0_4_1/split_2/train/mask/_Image_05L_7.png  \n",
            "  inflating: chase_db_256_256_dice_bce_0_4__0_4_1/split_2/train/mask/_Image_03L_1.png  \n",
            "  inflating: chase_db_256_256_dice_bce_0_4__0_4_1/split_2/train/mask/_Image_01R_13.png  \n",
            "  inflating: chase_db_256_256_dice_bce_0_4__0_4_1/split_2/train/mask/_Image_09R_13.png  \n",
            "  inflating: chase_db_256_256_dice_bce_0_4__0_4_1/split_2/train/mask/_Image_06R_1.png  \n",
            "  inflating: chase_db_256_256_dice_bce_0_4__0_4_1/split_2/train/mask/_Image_05R_12.png  \n",
            "  inflating: chase_db_256_256_dice_bce_0_4__0_4_1/split_2/train/mask/_Image_07R_11.png  \n",
            "  inflating: chase_db_256_256_dice_bce_0_4__0_4_1/split_2/train/mask/_Image_14L_5.png  \n",
            "  inflating: chase_db_256_256_dice_bce_0_4__0_4_1/split_2/train/mask/_Image_04L_7.png  \n",
            "  inflating: chase_db_256_256_dice_bce_0_4__0_4_1/split_2/train/mask/_Image_04R_6.png  \n",
            "  inflating: chase_db_256_256_dice_bce_0_4__0_4_1/split_2/train/mask/_Image_07R_9.png  \n",
            "  inflating: chase_db_256_256_dice_bce_0_4__0_4_1/split_2/train/mask/_Image_03L_9.png  \n",
            "  inflating: chase_db_256_256_dice_bce_0_4__0_4_1/split_2/train/mask/_Image_03L_12.png  \n",
            "  inflating: chase_db_256_256_dice_bce_0_4__0_4_1/split_2/train/mask/_Image_14R_11.png  \n",
            "  inflating: chase_db_256_256_dice_bce_0_4__0_4_1/split_2/train/mask/_Image_01L_3.png  \n",
            "  inflating: chase_db_256_256_dice_bce_0_4__0_4_1/split_2/train/mask/_Image_05R_1.png  \n",
            "  inflating: chase_db_256_256_dice_bce_0_4__0_4_1/split_2/train/mask/_Image_13R_11.png  \n",
            "  inflating: chase_db_256_256_dice_bce_0_4__0_4_1/split_2/train/mask/_Image_07R_5.png  \n",
            "  inflating: chase_db_256_256_dice_bce_0_4__0_4_1/split_2/train/mask/_Image_13R_12.png  \n",
            "  inflating: chase_db_256_256_dice_bce_0_4__0_4_1/split_2/train/mask/_Image_07R_1.png  \n",
            "  inflating: chase_db_256_256_dice_bce_0_4__0_4_1/split_2/train/mask/_Image_02L_1.png  \n",
            "  inflating: chase_db_256_256_dice_bce_0_4__0_4_1/split_2/train/mask/_Image_07L_4.png  \n",
            "  inflating: chase_db_256_256_dice_bce_0_4__0_4_1/split_2/train/mask/_Image_01R_15.png  \n",
            "  inflating: chase_db_256_256_dice_bce_0_4__0_4_1/split_2/train/mask/_Image_03L_11.png  \n",
            "  inflating: chase_db_256_256_dice_bce_0_4__0_4_1/split_2/train/mask/_Image_02L_5.png  \n",
            "  inflating: chase_db_256_256_dice_bce_0_4__0_4_1/split_2/train/mask/_Image_08R_12.png  \n",
            "  inflating: chase_db_256_256_dice_bce_0_4__0_4_1/split_2/train/mask/_Image_09L_13.png  \n",
            "  inflating: chase_db_256_256_dice_bce_0_4__0_4_1/split_2/train/mask/_Image_07L_3.png  \n",
            "  inflating: chase_db_256_256_dice_bce_0_4__0_4_1/split_2/train/mask/_Image_14R_13.png  \n",
            "  inflating: chase_db_256_256_dice_bce_0_4__0_4_1/split_2/train/mask/_Image_02R_0.png  \n",
            "  inflating: chase_db_256_256_dice_bce_0_4__0_4_1/split_2/train/mask/_Image_08R_7.png  \n",
            "  inflating: chase_db_256_256_dice_bce_0_4__0_4_1/split_2/train/mask/_Image_06L_13.png  \n",
            "  inflating: chase_db_256_256_dice_bce_0_4__0_4_1/split_2/train/mask/_Image_09R_0.png  \n",
            "  inflating: chase_db_256_256_dice_bce_0_4__0_4_1/split_2/train/mask/_Image_04L_14.png  \n",
            "  inflating: chase_db_256_256_dice_bce_0_4__0_4_1/split_2/train/mask/_Image_14R_6.png  \n",
            "  inflating: chase_db_256_256_dice_bce_0_4__0_4_1/split_2/train/mask/_Image_09R_14.png  \n",
            "  inflating: chase_db_256_256_dice_bce_0_4__0_4_1/split_2/train/mask/_Image_03R_8.png  \n",
            "  inflating: chase_db_256_256_dice_bce_0_4__0_4_1/split_2/train/mask/_Image_04R_4.png  \n",
            "  inflating: chase_db_256_256_dice_bce_0_4__0_4_1/split_2/train/mask/_Image_01L_12.png  \n",
            "  inflating: chase_db_256_256_dice_bce_0_4__0_4_1/split_2/train/mask/_Image_03L_15.png  \n",
            "  inflating: chase_db_256_256_dice_bce_0_4__0_4_1/split_2/train/mask/_Image_14L_3.png  \n",
            "  inflating: chase_db_256_256_dice_bce_0_4__0_4_1/split_2/train/mask/_Image_14R_5.png  \n",
            "  inflating: chase_db_256_256_dice_bce_0_4__0_4_1/split_2/train/mask/_Image_02L_13.png  \n",
            "  inflating: chase_db_256_256_dice_bce_0_4__0_4_1/split_2/train/mask/_Image_02R_13.png  \n",
            "  inflating: chase_db_256_256_dice_bce_0_4__0_4_1/split_2/train/mask/_Image_08L_3.png  \n",
            "  inflating: chase_db_256_256_dice_bce_0_4__0_4_1/split_2/train/mask/_Image_04L_8.png  \n",
            "  inflating: chase_db_256_256_dice_bce_0_4__0_4_1/split_2/train/mask/_Image_07R_15.png  \n",
            "  inflating: chase_db_256_256_dice_bce_0_4__0_4_1/split_2/train/mask/_Image_09R_3.png  \n",
            "  inflating: chase_db_256_256_dice_bce_0_4__0_4_1/split_2/train/mask/_Image_06L_10.png  \n",
            "  inflating: chase_db_256_256_dice_bce_0_4__0_4_1/split_2/train/mask/_Image_08L_11.png  \n",
            "  inflating: chase_db_256_256_dice_bce_0_4__0_4_1/split_2/train/mask/_Image_08R_6.png  \n",
            "  inflating: chase_db_256_256_dice_bce_0_4__0_4_1/split_2/train/mask/_Image_09L_0.png  \n",
            "  inflating: chase_db_256_256_dice_bce_0_4__0_4_1/split_2/train/mask/_Image_09R_8.png  \n",
            "  inflating: chase_db_256_256_dice_bce_0_4__0_4_1/split_2/train/mask/_Image_03L_6.png  \n",
            "  inflating: chase_db_256_256_dice_bce_0_4__0_4_1/split_2/train/mask/_Image_13R_7.png  \n",
            "  inflating: chase_db_256_256_dice_bce_0_4__0_4_1/split_2/train/mask/_Image_10R_0.png  \n",
            "  inflating: chase_db_256_256_dice_bce_0_4__0_4_1/split_2/train/mask/_Image_08L_13.png  \n",
            "  inflating: chase_db_256_256_dice_bce_0_4__0_4_1/split_2/train/mask/_Image_08R_15.png  \n",
            "  inflating: chase_db_256_256_dice_bce_0_4__0_4_1/split_2/train/mask/_Image_10L_2.png  \n",
            "  inflating: chase_db_256_256_dice_bce_0_4__0_4_1/split_2/train/mask/_Image_09L_12.png  \n",
            "  inflating: chase_db_256_256_dice_bce_0_4__0_4_1/split_2/train/mask/_Image_14L_7.png  \n",
            "  inflating: chase_db_256_256_dice_bce_0_4__0_4_1/split_2/train/mask/_Image_06L_15.png  \n",
            "  inflating: chase_db_256_256_dice_bce_0_4__0_4_1/split_2/train/mask/_Image_02R_7.png  \n",
            "  inflating: chase_db_256_256_dice_bce_0_4__0_4_1/split_2/train/mask/_Image_08R_4.png  \n",
            "  inflating: chase_db_256_256_dice_bce_0_4__0_4_1/split_2/train/mask/_Image_14R_12.png  \n",
            "  inflating: chase_db_256_256_dice_bce_0_4__0_4_1/split_2/train/mask/_Image_10R_15.png  \n",
            "  inflating: chase_db_256_256_dice_bce_0_4__0_4_1/split_2/train/mask/_Image_04L_2.png  \n",
            "  inflating: chase_db_256_256_dice_bce_0_4__0_4_1/split_2/train/mask/_Image_06R_12.png  \n",
            "  inflating: chase_db_256_256_dice_bce_0_4__0_4_1/split_2/train/mask/_Image_06R_14.png  \n",
            "  inflating: chase_db_256_256_dice_bce_0_4__0_4_1/split_2/train/mask/_Image_05R_5.png  \n",
            "  inflating: chase_db_256_256_dice_bce_0_4__0_4_1/split_2/train/mask/_Image_09R_10.png  \n",
            "  inflating: chase_db_256_256_dice_bce_0_4__0_4_1/split_2/train/mask/_Image_13R_15.png  \n",
            "  inflating: chase_db_256_256_dice_bce_0_4__0_4_1/split_2/train/mask/_Image_13R_10.png  \n",
            "  inflating: chase_db_256_256_dice_bce_0_4__0_4_1/split_2/train/mask/_Image_14R_0.png  \n",
            "  inflating: chase_db_256_256_dice_bce_0_4__0_4_1/split_2/train/mask/_Image_04R_12.png  \n",
            "  inflating: chase_db_256_256_dice_bce_0_4__0_4_1/split_2/train/mask/_Image_04L_5.png  \n",
            "  inflating: chase_db_256_256_dice_bce_0_4__0_4_1/split_2/train/mask/_Image_04R_11.png  \n",
            "  inflating: chase_db_256_256_dice_bce_0_4__0_4_1/split_2/train/mask/_Image_10L_5.png  \n",
            "  inflating: chase_db_256_256_dice_bce_0_4__0_4_1/split_2/train/mask/_Image_04R_8.png  \n",
            "  inflating: chase_db_256_256_dice_bce_0_4__0_4_1/split_2/train/mask/_Image_06L_5.png  \n",
            "  inflating: chase_db_256_256_dice_bce_0_4__0_4_1/split_2/train/mask/_Image_09L_9.png  \n",
            "  inflating: chase_db_256_256_dice_bce_0_4__0_4_1/split_2/train/mask/_Image_07L_7.png  \n",
            "  inflating: chase_db_256_256_dice_bce_0_4__0_4_1/split_2/train/mask/_Image_09R_6.png  \n",
            "  inflating: chase_db_256_256_dice_bce_0_4__0_4_1/split_2/train/mask/_Image_05L_12.png  \n",
            "  inflating: chase_db_256_256_dice_bce_0_4__0_4_1/split_2/train/mask/_Image_10R_12.png  \n",
            "  inflating: chase_db_256_256_dice_bce_0_4__0_4_1/split_2/train/mask/_Image_10R_5.png  \n",
            "  inflating: chase_db_256_256_dice_bce_0_4__0_4_1/split_2/train/mask/_Image_05R_15.png  \n",
            "  inflating: chase_db_256_256_dice_bce_0_4__0_4_1/split_2/train/mask/_Image_01L_5.png  \n",
            "  inflating: chase_db_256_256_dice_bce_0_4__0_4_1/split_2/train/mask/_Image_10L_13.png  \n",
            "  inflating: chase_db_256_256_dice_bce_0_4__0_4_1/split_2/train/mask/_Image_02L_11.png  \n",
            "  inflating: chase_db_256_256_dice_bce_0_4__0_4_1/split_2/train/mask/_Image_03L_13.png  \n",
            "  inflating: chase_db_256_256_dice_bce_0_4__0_4_1/split_2/train/mask/_Image_06R_10.png  \n",
            "  inflating: chase_db_256_256_dice_bce_0_4__0_4_1/split_2/train/mask/_Image_09L_11.png  \n",
            "  inflating: chase_db_256_256_dice_bce_0_4__0_4_1/split_2/train/mask/_Image_03R_0.png  \n",
            "  inflating: chase_db_256_256_dice_bce_0_4__0_4_1/split_2/train/mask/_Image_09L_5.png  \n",
            "  inflating: chase_db_256_256_dice_bce_0_4__0_4_1/split_2/train/mask/_Image_04L_10.png  \n",
            "  inflating: chase_db_256_256_dice_bce_0_4__0_4_1/split_2/train/mask/_Image_09R_2.png  \n",
            "  inflating: chase_db_256_256_dice_bce_0_4__0_4_1/split_2/train/mask/_Image_04L_4.png  \n",
            "  inflating: chase_db_256_256_dice_bce_0_4__0_4_1/split_2/train/mask/_Image_08R_9.png  \n",
            "  inflating: chase_db_256_256_dice_bce_0_4__0_4_1/split_2/train/mask/_Image_09L_15.png  \n",
            "  inflating: chase_db_256_256_dice_bce_0_4__0_4_1/split_2/train/mask/_Image_05L_10.png  \n",
            "  inflating: chase_db_256_256_dice_bce_0_4__0_4_1/split_2/train/mask/_Image_14L_9.png  \n",
            "  inflating: chase_db_256_256_dice_bce_0_4__0_4_1/split_2/train/mask/_Image_14L_14.png  \n",
            "  inflating: chase_db_256_256_dice_bce_0_4__0_4_1/split_2/train/mask/_Image_07L_15.png  \n",
            "  inflating: chase_db_256_256_dice_bce_0_4__0_4_1/split_2/train/mask/_Image_06L_4.png  \n",
            "  inflating: chase_db_256_256_dice_bce_0_4__0_4_1/split_2/train/mask/_Image_14R_15.png  \n",
            "  inflating: chase_db_256_256_dice_bce_0_4__0_4_1/split_2/train/mask/_Image_14L_8.png  \n",
            "  inflating: chase_db_256_256_dice_bce_0_4__0_4_1/split_2/train/mask/_Image_10R_9.png  \n",
            "  inflating: chase_db_256_256_dice_bce_0_4__0_4_1/split_2/train/mask/_Image_04L_0.png  \n",
            "  inflating: chase_db_256_256_dice_bce_0_4__0_4_1/split_2/train/mask/_Image_10L_9.png  \n",
            "  inflating: chase_db_256_256_dice_bce_0_4__0_4_1/split_2/train/mask/_Image_05R_0.png  \n",
            "  inflating: chase_db_256_256_dice_bce_0_4__0_4_1/split_2/train/mask/_Image_08L_8.png  \n",
            "  inflating: chase_db_256_256_dice_bce_0_4__0_4_1/split_2/train/mask/_Image_06R_13.png  \n",
            "  inflating: chase_db_256_256_dice_bce_0_4__0_4_1/split_2/train/mask/_Image_01R_6.png  \n",
            "  inflating: chase_db_256_256_dice_bce_0_4__0_4_1/split_2/train/mask/_Image_02R_3.png  \n",
            "  inflating: chase_db_256_256_dice_bce_0_4__0_4_1/split_2/train/mask/_Image_04L_12.png  \n",
            "  inflating: chase_db_256_256_dice_bce_0_4__0_4_1/split_2/train/mask/_Image_07R_8.png  \n",
            "  inflating: chase_db_256_256_dice_bce_0_4__0_4_1/split_2/train/mask/_Image_13R_8.png  \n",
            "  inflating: chase_db_256_256_dice_bce_0_4__0_4_1/split_2/train/mask/_Image_09L_1.png  \n",
            "  inflating: chase_db_256_256_dice_bce_0_4__0_4_1/split_2/train/mask/_Image_05R_4.png  \n",
            "  inflating: chase_db_256_256_dice_bce_0_4__0_4_1/split_2/train/mask/_Image_09L_3.png  \n",
            "  inflating: chase_db_256_256_dice_bce_0_4__0_4_1/split_2/train/mask/_Image_06R_7.png  \n",
            "  inflating: chase_db_256_256_dice_bce_0_4__0_4_1/split_2/train/mask/_Image_09L_14.png  \n",
            "  inflating: chase_db_256_256_dice_bce_0_4__0_4_1/split_2/train/mask/_Image_03L_8.png  \n",
            "  inflating: chase_db_256_256_dice_bce_0_4__0_4_1/split_2/train/mask/_Image_01L_15.png  \n",
            "  inflating: chase_db_256_256_dice_bce_0_4__0_4_1/split_2/train/mask/_Image_02L_0.png  \n",
            "  inflating: chase_db_256_256_dice_bce_0_4__0_4_1/split_2/train/mask/_Image_02L_8.png  \n",
            "  inflating: chase_db_256_256_dice_bce_0_4__0_4_1/split_2/train/mask/_Image_02R_10.png  \n",
            "  inflating: chase_db_256_256_dice_bce_0_4__0_4_1/split_2/train/mask/_Image_03L_5.png  \n",
            "  inflating: chase_db_256_256_dice_bce_0_4__0_4_1/split_2/train/mask/_Image_05L_2.png  \n",
            "  inflating: chase_db_256_256_dice_bce_0_4__0_4_1/split_2/train/mask/_Image_08L_2.png  \n",
            "  inflating: chase_db_256_256_dice_bce_0_4__0_4_1/split_2/train/mask/_Image_05L_8.png  \n",
            "  inflating: chase_db_256_256_dice_bce_0_4__0_4_1/split_2/train/mask/_Image_03R_10.png  \n",
            "  inflating: chase_db_256_256_dice_bce_0_4__0_4_1/split_2/train/mask/_Image_06R_6.png  \n",
            "  inflating: chase_db_256_256_dice_bce_0_4__0_4_1/split_2/train/mask/_Image_09R_7.png  \n",
            "  inflating: chase_db_256_256_dice_bce_0_4__0_4_1/split_2/train/mask/_Image_06L_3.png  \n",
            "  inflating: chase_db_256_256_dice_bce_0_4__0_4_1/split_2/train/mask/_Image_02R_4.png  \n",
            "  inflating: chase_db_256_256_dice_bce_0_4__0_4_1/split_2/train/mask/_Image_01L_4.png  \n",
            "  inflating: chase_db_256_256_dice_bce_0_4__0_4_1/split_2/train/mask/_Image_08L_1.png  \n",
            "  inflating: chase_db_256_256_dice_bce_0_4__0_4_1/split_2/train/mask/_Image_06L_14.png  \n",
            "  inflating: chase_db_256_256_dice_bce_0_4__0_4_1/split_2/train/mask/_Image_10L_3.png  \n",
            "  inflating: chase_db_256_256_dice_bce_0_4__0_4_1/split_2/train/mask/_Image_13R_14.png  \n",
            "  inflating: chase_db_256_256_dice_bce_0_4__0_4_1/split_2/train/mask/_Image_04R_3.png  \n",
            "  inflating: chase_db_256_256_dice_bce_0_4__0_4_1/split_2/train/mask/_Image_08R_11.png  \n",
            "  inflating: chase_db_256_256_dice_bce_0_4__0_4_1/split_2/train/mask/_Image_07R_3.png  \n",
            "  inflating: chase_db_256_256_dice_bce_0_4__0_4_1/split_2/train/mask/_Image_13R_2.png  \n",
            "  inflating: chase_db_256_256_dice_bce_0_4__0_4_1/split_2/train/mask/_Image_02L_14.png  \n",
            "  inflating: chase_db_256_256_dice_bce_0_4__0_4_1/split_2/train/mask/_Image_02L_10.png  \n",
            "  inflating: chase_db_256_256_dice_bce_0_4__0_4_1/split_2/train/mask/_Image_03R_2.png  \n",
            "  inflating: chase_db_256_256_dice_bce_0_4__0_4_1/split_2/train/mask/_Image_05R_6.png  \n",
            "  inflating: chase_db_256_256_dice_bce_0_4__0_4_1/split_2/train/mask/_Image_14R_2.png  \n",
            "  inflating: chase_db_256_256_dice_bce_0_4__0_4_1/split_2/train/mask/_Image_10L_4.png  \n",
            "  inflating: chase_db_256_256_dice_bce_0_4__0_4_1/split_2/train/mask/_Image_09R_11.png  \n",
            "  inflating: chase_db_256_256_dice_bce_0_4__0_4_1/split_2/train/mask/_Image_07R_10.png  \n",
            "  inflating: chase_db_256_256_dice_bce_0_4__0_4_1/split_2/train/mask/_Image_13R_5.png  \n",
            "  inflating: chase_db_256_256_dice_bce_0_4__0_4_1/split_2/train/mask/_Image_08R_3.png  \n",
            "  inflating: chase_db_256_256_dice_bce_0_4__0_4_1/split_2/train/mask/_Image_10R_13.png  \n",
            "  inflating: chase_db_256_256_dice_bce_0_4__0_4_1/split_2/train/mask/_Image_03R_3.png  \n",
            "  inflating: chase_db_256_256_dice_bce_0_4__0_4_1/split_2/train/mask/_Image_10L_1.png  \n",
            "  inflating: chase_db_256_256_dice_bce_0_4__0_4_1/split_2/train/mask/_Image_07R_12.png  \n",
            "  inflating: chase_db_256_256_dice_bce_0_4__0_4_1/split_2/train/mask/_Image_09R_5.png  \n",
            "  inflating: chase_db_256_256_dice_bce_0_4__0_4_1/split_2/train/mask/_Image_08R_8.png  \n",
            "  inflating: chase_db_256_256_dice_bce_0_4__0_4_1/split_2/train/mask/_Image_08L_0.png  \n",
            "  inflating: chase_db_256_256_dice_bce_0_4__0_4_1/split_2/train/mask/_Image_02L_9.png  \n",
            "  inflating: chase_db_256_256_dice_bce_0_4__0_4_1/split_2/train/mask/_Image_03R_15.png  \n",
            "  inflating: chase_db_256_256_dice_bce_0_4__0_4_1/split_2/train/mask/_Image_01L_9.png  \n",
            "  inflating: chase_db_256_256_dice_bce_0_4__0_4_1/split_2/train/mask/_Image_08L_15.png  \n",
            "  inflating: chase_db_256_256_dice_bce_0_4__0_4_1/split_2/train/mask/_Image_10L_11.png  \n",
            "  inflating: chase_db_256_256_dice_bce_0_4__0_4_1/split_2/train/mask/_Image_09R_15.png  \n",
            "  inflating: chase_db_256_256_dice_bce_0_4__0_4_1/split_2/train/mask/_Image_03R_14.png  \n",
            "  inflating: chase_db_256_256_dice_bce_0_4__0_4_1/split_2/train/mask/_Image_01R_8.png  \n",
            "  inflating: chase_db_256_256_dice_bce_0_4__0_4_1/split_2/train/mask/_Image_05R_14.png  \n",
            "  inflating: chase_db_256_256_dice_bce_0_4__0_4_1/split_2/train/mask/_Image_08L_12.png  \n",
            "  inflating: chase_db_256_256_dice_bce_0_4__0_4_1/split_2/train/mask/_Image_07L_11.png  \n",
            "  inflating: chase_db_256_256_dice_bce_0_4__0_4_1/split_2/train/mask/_Image_05R_8.png  \n",
            "  inflating: chase_db_256_256_dice_bce_0_4__0_4_1/split_2/train/mask/_Image_01R_4.png  \n",
            "  inflating: chase_db_256_256_dice_bce_0_4__0_4_1/split_2/train/mask/_Image_01R_14.png  \n",
            "  inflating: chase_db_256_256_dice_bce_0_4__0_4_1/split_2/train/mask/_Image_01L_13.png  \n",
            "  inflating: chase_db_256_256_dice_bce_0_4__0_4_1/split_2/train/mask/_Image_13R_9.png  \n",
            "  inflating: chase_db_256_256_dice_bce_0_4__0_4_1/split_2/train/mask/_Image_07L_5.png  \n",
            "  inflating: chase_db_256_256_dice_bce_0_4__0_4_1/split_2/train/mask/_Image_09R_12.png  \n",
            "  inflating: chase_db_256_256_dice_bce_0_4__0_4_1/split_2/train/mask/_Image_14R_1.png  \n",
            "  inflating: chase_db_256_256_dice_bce_0_4__0_4_1/split_2/train/mask/_Image_07R_2.png  \n",
            "  inflating: chase_db_256_256_dice_bce_0_4__0_4_1/split_2/train/mask/_Image_01R_7.png  \n",
            "  inflating: chase_db_256_256_dice_bce_0_4__0_4_1/split_2/train/mask/_Image_06R_15.png  \n",
            "  inflating: chase_db_256_256_dice_bce_0_4__0_4_1/split_2/train/mask/_Image_14L_11.png  \n",
            "  inflating: chase_db_256_256_dice_bce_0_4__0_4_1/split_2/train/mask/_Image_04R_7.png  \n",
            "  inflating: chase_db_256_256_dice_bce_0_4__0_4_1/split_2/train/mask/_Image_07L_6.png  \n",
            "  inflating: chase_db_256_256_dice_bce_0_4__0_4_1/split_2/train/mask/_Image_06L_11.png  \n",
            "  inflating: chase_db_256_256_dice_bce_0_4__0_4_1/split_2/train/mask/_Image_10L_10.png  \n",
            "  inflating: chase_db_256_256_dice_bce_0_4__0_4_1/split_2/train/mask/_Image_02R_11.png  \n",
            "  inflating: chase_db_256_256_dice_bce_0_4__0_4_1/split_2/train/mask/_Image_10R_14.png  \n",
            "  inflating: chase_db_256_256_dice_bce_0_4__0_4_1/split_2/train/mask/_Image_05L_5.png  \n",
            "  inflating: chase_db_256_256_dice_bce_0_4__0_4_1/split_2/train/mask/_Image_03R_5.png  \n",
            "  inflating: chase_db_256_256_dice_bce_0_4__0_4_1/split_2/train/mask/_Image_01L_2.png  \n",
            "  inflating: chase_db_256_256_dice_bce_0_4__0_4_1/split_2/train/mask/_Image_03L_10.png  \n",
            "  inflating: chase_db_256_256_dice_bce_0_4__0_4_1/split_2/train/mask/_Image_14R_14.png  \n",
            "  inflating: chase_db_256_256_dice_bce_0_4__0_4_1/split_2/train/mask/_Image_02R_2.png  \n",
            "  inflating: chase_db_256_256_dice_bce_0_4__0_4_1/split_2/train/mask/_Image_10R_3.png  \n",
            "  inflating: chase_db_256_256_dice_bce_0_4__0_4_1/split_2/train/mask/_Image_04R_14.png  \n",
            "  inflating: chase_db_256_256_dice_bce_0_4__0_4_1/split_2/train/mask/_Image_05L_0.png  \n",
            "  inflating: chase_db_256_256_dice_bce_0_4__0_4_1/split_2/train/mask/_Image_09L_6.png  \n",
            "  inflating: chase_db_256_256_dice_bce_0_4__0_4_1/split_2/train/mask/_Image_08R_0.png  \n",
            "  inflating: chase_db_256_256_dice_bce_0_4__0_4_1/split_2/train/mask/_Image_05R_13.png  \n",
            "  inflating: chase_db_256_256_dice_bce_0_4__0_4_1/split_2/train/mask/_Image_06R_11.png  \n",
            "  inflating: chase_db_256_256_dice_bce_0_4__0_4_1/split_2/train/mask/_Image_14R_9.png  \n",
            "  inflating: chase_db_256_256_dice_bce_0_4__0_4_1/split_2/train/mask/_Image_14L_2.png  \n",
            "  inflating: chase_db_256_256_dice_bce_0_4__0_4_1/split_2/train/mask/_Image_10R_6.png  \n",
            "  inflating: chase_db_256_256_dice_bce_0_4__0_4_1/split_2/train/mask/_Image_06L_6.png  \n",
            "  inflating: chase_db_256_256_dice_bce_0_4__0_4_1/split_2/train/mask/_Image_08R_1.png  \n",
            "  inflating: chase_db_256_256_dice_bce_0_4__0_4_1/split_2/train/mask/_Image_14L_12.png  \n",
            "  inflating: chase_db_256_256_dice_bce_0_4__0_4_1/split_2/train/mask/_Image_08R_14.png  \n",
            "  inflating: chase_db_256_256_dice_bce_0_4__0_4_1/split_2/train/mask/_Image_08R_13.png  \n",
            "  inflating: chase_db_256_256_dice_bce_0_4__0_4_1/split_2/train/mask/_Image_10L_6.png  \n",
            "  inflating: chase_db_256_256_dice_bce_0_4__0_4_1/split_2/train/mask/_Image_02L_6.png  \n",
            "  inflating: chase_db_256_256_dice_bce_0_4__0_4_1/split_2/train/mask/_Image_07L_8.png  \n",
            "  inflating: chase_db_256_256_dice_bce_0_4__0_4_1/split_2/train/mask/_Image_02R_14.png  \n",
            "  inflating: chase_db_256_256_dice_bce_0_4__0_4_1/split_2/train/mask/_Image_01R_12.png  \n",
            "  inflating: chase_db_256_256_dice_bce_0_4__0_4_1/split_2/train/mask/_Image_01R_1.png  \n",
            "  inflating: chase_db_256_256_dice_bce_0_4__0_4_1/split_2/train/mask/_Image_01L_10.png  \n",
            "  inflating: chase_db_256_256_dice_bce_0_4__0_4_1/split_2/train/mask/_Image_01L_8.png  \n",
            "  inflating: chase_db_256_256_dice_bce_0_4__0_4_1/split_2/train/mask/_Image_04R_15.png  \n",
            "  inflating: chase_db_256_256_dice_bce_0_4__0_4_1/split_2/train/mask/_Image_03L_0.png  \n",
            "  inflating: chase_db_256_256_dice_bce_0_4__0_4_1/split_2/train/mask/_Image_14R_10.png  \n",
            "  inflating: chase_db_256_256_dice_bce_0_4__0_4_1/split_2/train/mask/_Image_07R_4.png  \n",
            "  inflating: chase_db_256_256_dice_bce_0_4__0_4_1/split_2/train/mask/_Image_14L_1.png  \n",
            "  inflating: chase_db_256_256_dice_bce_0_4__0_4_1/split_2/train/mask/_Image_07L_0.png  \n",
            "  inflating: chase_db_256_256_dice_bce_0_4__0_4_1/split_2/train/mask/_Image_04L_6.png  \n",
            "  inflating: chase_db_256_256_dice_bce_0_4__0_4_1/split_2/train/mask/_Image_05R_11.png  \n",
            "  inflating: chase_db_256_256_dice_bce_0_4__0_4_1/split_2/train/mask/_Image_08L_6.png  \n",
            "  inflating: chase_db_256_256_dice_bce_0_4__0_4_1/split_2/train/mask/_Image_07L_10.png  \n",
            "  inflating: chase_db_256_256_dice_bce_0_4__0_4_1/split_2/train/mask/_Image_03R_9.png  \n",
            "  inflating: chase_db_256_256_dice_bce_0_4__0_4_1/split_2/train/mask/_Image_09R_1.png  \n",
            "  inflating: chase_db_256_256_dice_bce_0_4__0_4_1/split_2/train/mask/_Image_14L_4.png  \n",
            "  inflating: chase_db_256_256_dice_bce_0_4__0_4_1/split_2/train/mask/_Image_01L_14.png  \n",
            "  inflating: chase_db_256_256_dice_bce_0_4__0_4_1/split_2/train/mask/_Image_03R_4.png  \n",
            "  inflating: chase_db_256_256_dice_bce_0_4__0_4_1/split_2/train/mask/_Image_05L_6.png  \n",
            "  inflating: chase_db_256_256_dice_bce_0_4__0_4_1/split_2/train/mask/_Image_06R_8.png  \n",
            "  inflating: chase_db_256_256_dice_bce_0_4__0_4_1/split_2/train/mask/_Image_04L_15.png  \n",
            "  inflating: chase_db_256_256_dice_bce_0_4__0_4_1/split_2/train/mask/_Image_01L_0.png  \n",
            "  inflating: chase_db_256_256_dice_bce_0_4__0_4_1/split_2/train/mask/_Image_14L_15.png  \n",
            "  inflating: chase_db_256_256_dice_bce_0_4__0_4_1/split_2/train/mask/_Image_14R_3.png  \n",
            "  inflating: chase_db_256_256_dice_bce_0_4__0_4_1/split_2/train/mask/_Image_14L_10.png  \n",
            "  inflating: chase_db_256_256_dice_bce_0_4__0_4_1/split_2/train/mask/_Image_04L_11.png  \n",
            "  inflating: chase_db_256_256_dice_bce_0_4__0_4_1/split_2/train/mask/_Image_04L_3.png  \n",
            "  inflating: chase_db_256_256_dice_bce_0_4__0_4_1/split_2/train/mask/_Image_04R_13.png  \n",
            "  inflating: chase_db_256_256_dice_bce_0_4__0_4_1/split_2/train/mask/_Image_10L_14.png  \n",
            "   creating: chase_db_256_256_dice_bce_0_4__0_4_1/split_2/train/image/\n",
            "  inflating: chase_db_256_256_dice_bce_0_4__0_4_1/split_2/train/image/_Image_13R_1.png  \n",
            "  inflating: chase_db_256_256_dice_bce_0_4__0_4_1/split_2/train/image/_Image_05R_3.png  \n",
            "  inflating: chase_db_256_256_dice_bce_0_4__0_4_1/split_2/train/image/_Image_08R_2.png  \n",
            "  inflating: chase_db_256_256_dice_bce_0_4__0_4_1/split_2/train/image/_Image_10L_7.png  \n",
            "  inflating: chase_db_256_256_dice_bce_0_4__0_4_1/split_2/train/image/_Image_04L_9.png  \n",
            "  inflating: chase_db_256_256_dice_bce_0_4__0_4_1/split_2/train/image/_Image_06R_2.png  \n",
            "  inflating: chase_db_256_256_dice_bce_0_4__0_4_1/split_2/train/image/_Image_10R_10.png  \n",
            "  inflating: chase_db_256_256_dice_bce_0_4__0_4_1/split_2/train/image/_Image_14L_13.png  \n",
            "  inflating: chase_db_256_256_dice_bce_0_4__0_4_1/split_2/train/image/_Image_05R_10.png  \n",
            "  inflating: chase_db_256_256_dice_bce_0_4__0_4_1/split_2/train/image/_Image_01L_7.png  \n",
            "  inflating: chase_db_256_256_dice_bce_0_4__0_4_1/split_2/train/image/_Image_07L_13.png  \n",
            "  inflating: chase_db_256_256_dice_bce_0_4__0_4_1/split_2/train/image/_Image_01R_0.png  \n",
            "  inflating: chase_db_256_256_dice_bce_0_4__0_4_1/split_2/train/image/_Image_09L_2.png  \n",
            "  inflating: chase_db_256_256_dice_bce_0_4__0_4_1/split_2/train/image/_Image_03L_3.png  \n",
            "  inflating: chase_db_256_256_dice_bce_0_4__0_4_1/split_2/train/image/_Image_14R_8.png  \n",
            "  inflating: chase_db_256_256_dice_bce_0_4__0_4_1/split_2/train/image/_Image_03R_6.png  \n",
            "  inflating: chase_db_256_256_dice_bce_0_4__0_4_1/split_2/train/image/_Image_13R_13.png  \n",
            "  inflating: chase_db_256_256_dice_bce_0_4__0_4_1/split_2/train/image/_Image_05L_15.png  \n",
            "  inflating: chase_db_256_256_dice_bce_0_4__0_4_1/split_2/train/image/_Image_03R_12.png  \n",
            "  inflating: chase_db_256_256_dice_bce_0_4__0_4_1/split_2/train/image/_Image_02L_2.png  \n",
            "  inflating: chase_db_256_256_dice_bce_0_4__0_4_1/split_2/train/image/_Image_04R_10.png  \n",
            "  inflating: chase_db_256_256_dice_bce_0_4__0_4_1/split_2/train/image/_Image_02R_9.png  \n",
            "  inflating: chase_db_256_256_dice_bce_0_4__0_4_1/split_2/train/image/_Image_02R_5.png  \n",
            "  inflating: chase_db_256_256_dice_bce_0_4__0_4_1/split_2/train/image/_Image_03R_7.png  \n",
            "  inflating: chase_db_256_256_dice_bce_0_4__0_4_1/split_2/train/image/_Image_01L_11.png  \n",
            "  inflating: chase_db_256_256_dice_bce_0_4__0_4_1/split_2/train/image/_Image_02R_15.png  \n",
            "  inflating: chase_db_256_256_dice_bce_0_4__0_4_1/split_2/train/image/_Image_09R_4.png  \n",
            "  inflating: chase_db_256_256_dice_bce_0_4__0_4_1/split_2/train/image/_Image_04R_2.png  \n",
            "  inflating: chase_db_256_256_dice_bce_0_4__0_4_1/split_2/train/image/_Image_10L_8.png  \n",
            "  inflating: chase_db_256_256_dice_bce_0_4__0_4_1/split_2/train/image/_Image_06R_0.png  \n",
            "  inflating: chase_db_256_256_dice_bce_0_4__0_4_1/split_2/train/image/_Image_03L_4.png  \n",
            "  inflating: chase_db_256_256_dice_bce_0_4__0_4_1/split_2/train/image/_Image_07L_1.png  \n",
            "  inflating: chase_db_256_256_dice_bce_0_4__0_4_1/split_2/train/image/_Image_04L_13.png  \n",
            "  inflating: chase_db_256_256_dice_bce_0_4__0_4_1/split_2/train/image/_Image_13R_0.png  \n",
            "  inflating: chase_db_256_256_dice_bce_0_4__0_4_1/split_2/train/image/_Image_06L_2.png  \n",
            "  inflating: chase_db_256_256_dice_bce_0_4__0_4_1/split_2/train/image/_Image_13R_3.png  \n",
            "  inflating: chase_db_256_256_dice_bce_0_4__0_4_1/split_2/train/image/_Image_01L_1.png  \n",
            "  inflating: chase_db_256_256_dice_bce_0_4__0_4_1/split_2/train/image/_Image_14R_7.png  \n",
            "  inflating: chase_db_256_256_dice_bce_0_4__0_4_1/split_2/train/image/_Image_02L_7.png  \n",
            "  inflating: chase_db_256_256_dice_bce_0_4__0_4_1/split_2/train/image/_Image_07R_0.png  \n",
            "  inflating: chase_db_256_256_dice_bce_0_4__0_4_1/split_2/train/image/_Image_10R_8.png  \n",
            "  inflating: chase_db_256_256_dice_bce_0_4__0_4_1/split_2/train/image/_Image_09L_10.png  \n",
            "  inflating: chase_db_256_256_dice_bce_0_4__0_4_1/split_2/train/image/_Image_05R_9.png  \n",
            "  inflating: chase_db_256_256_dice_bce_0_4__0_4_1/split_2/train/image/_Image_06L_9.png  \n",
            "  inflating: chase_db_256_256_dice_bce_0_4__0_4_1/split_2/train/image/_Image_10R_1.png  \n",
            "  inflating: chase_db_256_256_dice_bce_0_4__0_4_1/split_2/train/image/_Image_02L_4.png  \n",
            "  inflating: chase_db_256_256_dice_bce_0_4__0_4_1/split_2/train/image/_Image_07L_12.png  \n",
            "  inflating: chase_db_256_256_dice_bce_0_4__0_4_1/split_2/train/image/_Image_08L_4.png  \n",
            "  inflating: chase_db_256_256_dice_bce_0_4__0_4_1/split_2/train/image/_Image_07L_9.png  \n",
            "  inflating: chase_db_256_256_dice_bce_0_4__0_4_1/split_2/train/image/_Image_05L_14.png  \n",
            "  inflating: chase_db_256_256_dice_bce_0_4__0_4_1/split_2/train/image/_Image_08R_5.png  \n",
            "  inflating: chase_db_256_256_dice_bce_0_4__0_4_1/split_2/train/image/_Image_05R_7.png  \n",
            "  inflating: chase_db_256_256_dice_bce_0_4__0_4_1/split_2/train/image/_Image_08L_7.png  \n",
            "  inflating: chase_db_256_256_dice_bce_0_4__0_4_1/split_2/train/image/_Image_06R_3.png  \n",
            "  inflating: chase_db_256_256_dice_bce_0_4__0_4_1/split_2/train/image/_Image_08R_10.png  \n",
            "  inflating: chase_db_256_256_dice_bce_0_4__0_4_1/split_2/train/image/_Image_06R_9.png  \n",
            "  inflating: chase_db_256_256_dice_bce_0_4__0_4_1/split_2/train/image/_Image_03R_11.png  \n",
            "  inflating: chase_db_256_256_dice_bce_0_4__0_4_1/split_2/train/image/_Image_13R_6.png  \n",
            "  inflating: chase_db_256_256_dice_bce_0_4__0_4_1/split_2/train/image/_Image_08L_14.png  \n",
            "  inflating: chase_db_256_256_dice_bce_0_4__0_4_1/split_2/train/image/_Image_10L_12.png  \n",
            "  inflating: chase_db_256_256_dice_bce_0_4__0_4_1/split_2/train/image/_Image_05L_3.png  \n",
            "  inflating: chase_db_256_256_dice_bce_0_4__0_4_1/split_2/train/image/_Image_08L_5.png  \n",
            "  inflating: chase_db_256_256_dice_bce_0_4__0_4_1/split_2/train/image/_Image_09R_9.png  \n",
            "  inflating: chase_db_256_256_dice_bce_0_4__0_4_1/split_2/train/image/_Image_07R_7.png  \n",
            "  inflating: chase_db_256_256_dice_bce_0_4__0_4_1/split_2/train/image/_Image_05L_13.png  \n",
            "  inflating: chase_db_256_256_dice_bce_0_4__0_4_1/split_2/train/image/_Image_05L_11.png  \n",
            "  inflating: chase_db_256_256_dice_bce_0_4__0_4_1/split_2/train/image/_Image_02L_15.png  \n",
            "  inflating: chase_db_256_256_dice_bce_0_4__0_4_1/split_2/train/image/_Image_14L_6.png  \n",
            "  inflating: chase_db_256_256_dice_bce_0_4__0_4_1/split_2/train/image/_Image_05L_4.png  \n",
            "  inflating: chase_db_256_256_dice_bce_0_4__0_4_1/split_2/train/image/_Image_03L_14.png  \n",
            "  inflating: chase_db_256_256_dice_bce_0_4__0_4_1/split_2/train/image/_Image_10R_2.png  \n",
            "  inflating: chase_db_256_256_dice_bce_0_4__0_4_1/split_2/train/image/_Image_04R_1.png  \n",
            "  inflating: chase_db_256_256_dice_bce_0_4__0_4_1/split_2/train/image/_Image_10R_11.png  \n",
            "  inflating: chase_db_256_256_dice_bce_0_4__0_4_1/split_2/train/image/_Image_03L_2.png  \n",
            "  inflating: chase_db_256_256_dice_bce_0_4__0_4_1/split_2/train/image/_Image_02R_12.png  \n",
            "  inflating: chase_db_256_256_dice_bce_0_4__0_4_1/split_2/train/image/_Image_01L_6.png  \n",
            "  inflating: chase_db_256_256_dice_bce_0_4__0_4_1/split_2/train/image/_Image_01R_2.png  \n",
            "  inflating: chase_db_256_256_dice_bce_0_4__0_4_1/split_2/train/image/_Image_10R_4.png  \n",
            "  inflating: chase_db_256_256_dice_bce_0_4__0_4_1/split_2/train/image/_Image_01R_3.png  \n",
            "  inflating: chase_db_256_256_dice_bce_0_4__0_4_1/split_2/train/image/_Image_03R_13.png  \n",
            "  inflating: chase_db_256_256_dice_bce_0_4__0_4_1/split_2/train/image/_Image_10R_7.png  \n",
            "  inflating: chase_db_256_256_dice_bce_0_4__0_4_1/split_2/train/image/_Image_14R_4.png  \n",
            "  inflating: chase_db_256_256_dice_bce_0_4__0_4_1/split_2/train/image/_Image_04L_1.png  \n",
            "  inflating: chase_db_256_256_dice_bce_0_4__0_4_1/split_2/train/image/_Image_10L_15.png  \n",
            "  inflating: chase_db_256_256_dice_bce_0_4__0_4_1/split_2/train/image/_Image_06R_4.png  \n",
            "  inflating: chase_db_256_256_dice_bce_0_4__0_4_1/split_2/train/image/_Image_06L_7.png  \n",
            "  inflating: chase_db_256_256_dice_bce_0_4__0_4_1/split_2/train/image/_Image_09L_8.png  \n",
            "  inflating: chase_db_256_256_dice_bce_0_4__0_4_1/split_2/train/image/_Image_13R_4.png  \n",
            "  inflating: chase_db_256_256_dice_bce_0_4__0_4_1/split_2/train/image/_Image_01R_5.png  \n",
            "  inflating: chase_db_256_256_dice_bce_0_4__0_4_1/split_2/train/image/_Image_05L_9.png  \n",
            "  inflating: chase_db_256_256_dice_bce_0_4__0_4_1/split_2/train/image/_Image_07R_13.png  \n",
            "  inflating: chase_db_256_256_dice_bce_0_4__0_4_1/split_2/train/image/_Image_07L_14.png  \n",
            "  inflating: chase_db_256_256_dice_bce_0_4__0_4_1/split_2/train/image/_Image_08L_10.png  \n",
            "  inflating: chase_db_256_256_dice_bce_0_4__0_4_1/split_2/train/image/_Image_14L_0.png  \n",
            "  inflating: chase_db_256_256_dice_bce_0_4__0_4_1/split_2/train/image/_Image_04R_0.png  \n",
            "  inflating: chase_db_256_256_dice_bce_0_4__0_4_1/split_2/train/image/_Image_06L_0.png  \n",
            "  inflating: chase_db_256_256_dice_bce_0_4__0_4_1/split_2/train/image/_Image_04R_9.png  \n",
            "  inflating: chase_db_256_256_dice_bce_0_4__0_4_1/split_2/train/image/_Image_01R_10.png  \n",
            "  inflating: chase_db_256_256_dice_bce_0_4__0_4_1/split_2/train/image/_Image_06L_8.png  \n",
            "  inflating: chase_db_256_256_dice_bce_0_4__0_4_1/split_2/train/image/_Image_06L_12.png  \n",
            "  inflating: chase_db_256_256_dice_bce_0_4__0_4_1/split_2/train/image/_Image_09L_7.png  \n",
            "  inflating: chase_db_256_256_dice_bce_0_4__0_4_1/split_2/train/image/_Image_02L_12.png  \n",
            "  inflating: chase_db_256_256_dice_bce_0_4__0_4_1/split_2/train/image/_Image_08L_9.png  \n",
            "  inflating: chase_db_256_256_dice_bce_0_4__0_4_1/split_2/train/image/_Image_01R_11.png  \n",
            "  inflating: chase_db_256_256_dice_bce_0_4__0_4_1/split_2/train/image/_Image_09L_4.png  \n",
            "  inflating: chase_db_256_256_dice_bce_0_4__0_4_1/split_2/train/image/_Image_05L_1.png  \n",
            "  inflating: chase_db_256_256_dice_bce_0_4__0_4_1/split_2/train/image/_Image_06L_1.png  \n",
            "  inflating: chase_db_256_256_dice_bce_0_4__0_4_1/split_2/train/image/_Image_05R_2.png  \n",
            "  inflating: chase_db_256_256_dice_bce_0_4__0_4_1/split_2/train/image/_Image_02R_6.png  \n",
            "  inflating: chase_db_256_256_dice_bce_0_4__0_4_1/split_2/train/image/_Image_03R_1.png  \n",
            "  inflating: chase_db_256_256_dice_bce_0_4__0_4_1/split_2/train/image/_Image_02R_1.png  \n",
            "  inflating: chase_db_256_256_dice_bce_0_4__0_4_1/split_2/train/image/_Image_07R_14.png  \n",
            "  inflating: chase_db_256_256_dice_bce_0_4__0_4_1/split_2/train/image/_Image_01R_9.png  \n",
            "  inflating: chase_db_256_256_dice_bce_0_4__0_4_1/split_2/train/image/_Image_07L_2.png  \n",
            "  inflating: chase_db_256_256_dice_bce_0_4__0_4_1/split_2/train/image/_Image_10L_0.png  \n",
            "  inflating: chase_db_256_256_dice_bce_0_4__0_4_1/split_2/train/image/_Image_02L_3.png  \n",
            "  inflating: chase_db_256_256_dice_bce_0_4__0_4_1/split_2/train/image/_Image_06R_5.png  \n",
            "  inflating: chase_db_256_256_dice_bce_0_4__0_4_1/split_2/train/image/_Image_07R_6.png  \n",
            "  inflating: chase_db_256_256_dice_bce_0_4__0_4_1/split_2/train/image/_Image_02R_8.png  \n",
            "  inflating: chase_db_256_256_dice_bce_0_4__0_4_1/split_2/train/image/_Image_03L_7.png  \n",
            "  inflating: chase_db_256_256_dice_bce_0_4__0_4_1/split_2/train/image/_Image_04R_5.png  \n",
            "  inflating: chase_db_256_256_dice_bce_0_4__0_4_1/split_2/train/image/_Image_05L_7.png  \n",
            "  inflating: chase_db_256_256_dice_bce_0_4__0_4_1/split_2/train/image/_Image_03L_1.png  \n",
            "  inflating: chase_db_256_256_dice_bce_0_4__0_4_1/split_2/train/image/_Image_01R_13.png  \n",
            "  inflating: chase_db_256_256_dice_bce_0_4__0_4_1/split_2/train/image/_Image_09R_13.png  \n",
            "  inflating: chase_db_256_256_dice_bce_0_4__0_4_1/split_2/train/image/_Image_06R_1.png  \n",
            "  inflating: chase_db_256_256_dice_bce_0_4__0_4_1/split_2/train/image/_Image_05R_12.png  \n",
            "  inflating: chase_db_256_256_dice_bce_0_4__0_4_1/split_2/train/image/_Image_07R_11.png  \n",
            "  inflating: chase_db_256_256_dice_bce_0_4__0_4_1/split_2/train/image/_Image_14L_5.png  \n",
            "  inflating: chase_db_256_256_dice_bce_0_4__0_4_1/split_2/train/image/_Image_04L_7.png  \n",
            "  inflating: chase_db_256_256_dice_bce_0_4__0_4_1/split_2/train/image/_Image_04R_6.png  \n",
            "  inflating: chase_db_256_256_dice_bce_0_4__0_4_1/split_2/train/image/_Image_07R_9.png  \n",
            "  inflating: chase_db_256_256_dice_bce_0_4__0_4_1/split_2/train/image/_Image_03L_9.png  \n",
            "  inflating: chase_db_256_256_dice_bce_0_4__0_4_1/split_2/train/image/_Image_03L_12.png  \n",
            "  inflating: chase_db_256_256_dice_bce_0_4__0_4_1/split_2/train/image/_Image_14R_11.png  \n",
            "  inflating: chase_db_256_256_dice_bce_0_4__0_4_1/split_2/train/image/_Image_01L_3.png  \n",
            "  inflating: chase_db_256_256_dice_bce_0_4__0_4_1/split_2/train/image/_Image_05R_1.png  \n",
            "  inflating: chase_db_256_256_dice_bce_0_4__0_4_1/split_2/train/image/_Image_13R_11.png  \n",
            "  inflating: chase_db_256_256_dice_bce_0_4__0_4_1/split_2/train/image/_Image_07R_5.png  \n",
            "  inflating: chase_db_256_256_dice_bce_0_4__0_4_1/split_2/train/image/_Image_13R_12.png  \n",
            "  inflating: chase_db_256_256_dice_bce_0_4__0_4_1/split_2/train/image/_Image_07R_1.png  \n",
            "  inflating: chase_db_256_256_dice_bce_0_4__0_4_1/split_2/train/image/_Image_02L_1.png  \n",
            "  inflating: chase_db_256_256_dice_bce_0_4__0_4_1/split_2/train/image/_Image_07L_4.png  \n",
            "  inflating: chase_db_256_256_dice_bce_0_4__0_4_1/split_2/train/image/_Image_01R_15.png  \n",
            "  inflating: chase_db_256_256_dice_bce_0_4__0_4_1/split_2/train/image/_Image_03L_11.png  \n",
            "  inflating: chase_db_256_256_dice_bce_0_4__0_4_1/split_2/train/image/_Image_02L_5.png  \n",
            "  inflating: chase_db_256_256_dice_bce_0_4__0_4_1/split_2/train/image/_Image_08R_12.png  \n",
            "  inflating: chase_db_256_256_dice_bce_0_4__0_4_1/split_2/train/image/_Image_09L_13.png  \n",
            "  inflating: chase_db_256_256_dice_bce_0_4__0_4_1/split_2/train/image/_Image_07L_3.png  \n",
            "  inflating: chase_db_256_256_dice_bce_0_4__0_4_1/split_2/train/image/_Image_14R_13.png  \n",
            "  inflating: chase_db_256_256_dice_bce_0_4__0_4_1/split_2/train/image/_Image_02R_0.png  \n",
            "  inflating: chase_db_256_256_dice_bce_0_4__0_4_1/split_2/train/image/_Image_08R_7.png  \n",
            "  inflating: chase_db_256_256_dice_bce_0_4__0_4_1/split_2/train/image/_Image_06L_13.png  \n",
            "  inflating: chase_db_256_256_dice_bce_0_4__0_4_1/split_2/train/image/_Image_09R_0.png  \n",
            "  inflating: chase_db_256_256_dice_bce_0_4__0_4_1/split_2/train/image/_Image_04L_14.png  \n",
            "  inflating: chase_db_256_256_dice_bce_0_4__0_4_1/split_2/train/image/_Image_14R_6.png  \n",
            "  inflating: chase_db_256_256_dice_bce_0_4__0_4_1/split_2/train/image/_Image_09R_14.png  \n",
            "  inflating: chase_db_256_256_dice_bce_0_4__0_4_1/split_2/train/image/_Image_03R_8.png  \n",
            "  inflating: chase_db_256_256_dice_bce_0_4__0_4_1/split_2/train/image/_Image_04R_4.png  \n",
            "  inflating: chase_db_256_256_dice_bce_0_4__0_4_1/split_2/train/image/_Image_01L_12.png  \n",
            "  inflating: chase_db_256_256_dice_bce_0_4__0_4_1/split_2/train/image/_Image_03L_15.png  \n",
            "  inflating: chase_db_256_256_dice_bce_0_4__0_4_1/split_2/train/image/_Image_14L_3.png  \n",
            "  inflating: chase_db_256_256_dice_bce_0_4__0_4_1/split_2/train/image/_Image_14R_5.png  \n",
            "  inflating: chase_db_256_256_dice_bce_0_4__0_4_1/split_2/train/image/_Image_02L_13.png  \n",
            "  inflating: chase_db_256_256_dice_bce_0_4__0_4_1/split_2/train/image/_Image_02R_13.png  \n",
            "  inflating: chase_db_256_256_dice_bce_0_4__0_4_1/split_2/train/image/_Image_08L_3.png  \n",
            "  inflating: chase_db_256_256_dice_bce_0_4__0_4_1/split_2/train/image/_Image_04L_8.png  \n",
            "  inflating: chase_db_256_256_dice_bce_0_4__0_4_1/split_2/train/image/_Image_07R_15.png  \n",
            "  inflating: chase_db_256_256_dice_bce_0_4__0_4_1/split_2/train/image/_Image_09R_3.png  \n",
            "  inflating: chase_db_256_256_dice_bce_0_4__0_4_1/split_2/train/image/_Image_06L_10.png  \n",
            "  inflating: chase_db_256_256_dice_bce_0_4__0_4_1/split_2/train/image/_Image_08L_11.png  \n",
            "  inflating: chase_db_256_256_dice_bce_0_4__0_4_1/split_2/train/image/_Image_08R_6.png  \n",
            "  inflating: chase_db_256_256_dice_bce_0_4__0_4_1/split_2/train/image/_Image_09L_0.png  \n",
            "  inflating: chase_db_256_256_dice_bce_0_4__0_4_1/split_2/train/image/_Image_09R_8.png  \n",
            "  inflating: chase_db_256_256_dice_bce_0_4__0_4_1/split_2/train/image/_Image_03L_6.png  \n",
            "  inflating: chase_db_256_256_dice_bce_0_4__0_4_1/split_2/train/image/_Image_13R_7.png  \n",
            "  inflating: chase_db_256_256_dice_bce_0_4__0_4_1/split_2/train/image/_Image_10R_0.png  \n",
            "  inflating: chase_db_256_256_dice_bce_0_4__0_4_1/split_2/train/image/_Image_08L_13.png  \n",
            "  inflating: chase_db_256_256_dice_bce_0_4__0_4_1/split_2/train/image/_Image_08R_15.png  \n",
            "  inflating: chase_db_256_256_dice_bce_0_4__0_4_1/split_2/train/image/_Image_10L_2.png  \n",
            "  inflating: chase_db_256_256_dice_bce_0_4__0_4_1/split_2/train/image/_Image_09L_12.png  \n",
            "  inflating: chase_db_256_256_dice_bce_0_4__0_4_1/split_2/train/image/_Image_14L_7.png  \n",
            "  inflating: chase_db_256_256_dice_bce_0_4__0_4_1/split_2/train/image/_Image_06L_15.png  \n",
            "  inflating: chase_db_256_256_dice_bce_0_4__0_4_1/split_2/train/image/_Image_02R_7.png  \n",
            "  inflating: chase_db_256_256_dice_bce_0_4__0_4_1/split_2/train/image/_Image_08R_4.png  \n",
            "  inflating: chase_db_256_256_dice_bce_0_4__0_4_1/split_2/train/image/_Image_14R_12.png  \n",
            "  inflating: chase_db_256_256_dice_bce_0_4__0_4_1/split_2/train/image/_Image_10R_15.png  \n",
            "  inflating: chase_db_256_256_dice_bce_0_4__0_4_1/split_2/train/image/_Image_04L_2.png  \n",
            "  inflating: chase_db_256_256_dice_bce_0_4__0_4_1/split_2/train/image/_Image_06R_12.png  \n",
            "  inflating: chase_db_256_256_dice_bce_0_4__0_4_1/split_2/train/image/_Image_06R_14.png  \n",
            "  inflating: chase_db_256_256_dice_bce_0_4__0_4_1/split_2/train/image/_Image_05R_5.png  \n",
            "  inflating: chase_db_256_256_dice_bce_0_4__0_4_1/split_2/train/image/_Image_09R_10.png  \n",
            "  inflating: chase_db_256_256_dice_bce_0_4__0_4_1/split_2/train/image/_Image_13R_15.png  \n",
            "  inflating: chase_db_256_256_dice_bce_0_4__0_4_1/split_2/train/image/_Image_13R_10.png  \n",
            "  inflating: chase_db_256_256_dice_bce_0_4__0_4_1/split_2/train/image/_Image_14R_0.png  \n",
            "  inflating: chase_db_256_256_dice_bce_0_4__0_4_1/split_2/train/image/_Image_04R_12.png  \n",
            "  inflating: chase_db_256_256_dice_bce_0_4__0_4_1/split_2/train/image/_Image_04L_5.png  \n",
            "  inflating: chase_db_256_256_dice_bce_0_4__0_4_1/split_2/train/image/_Image_04R_11.png  \n",
            "  inflating: chase_db_256_256_dice_bce_0_4__0_4_1/split_2/train/image/_Image_10L_5.png  \n",
            "  inflating: chase_db_256_256_dice_bce_0_4__0_4_1/split_2/train/image/_Image_04R_8.png  \n",
            "  inflating: chase_db_256_256_dice_bce_0_4__0_4_1/split_2/train/image/_Image_06L_5.png  \n",
            "  inflating: chase_db_256_256_dice_bce_0_4__0_4_1/split_2/train/image/_Image_09L_9.png  \n",
            "  inflating: chase_db_256_256_dice_bce_0_4__0_4_1/split_2/train/image/_Image_07L_7.png  \n",
            "  inflating: chase_db_256_256_dice_bce_0_4__0_4_1/split_2/train/image/_Image_09R_6.png  \n",
            "  inflating: chase_db_256_256_dice_bce_0_4__0_4_1/split_2/train/image/_Image_05L_12.png  \n",
            "  inflating: chase_db_256_256_dice_bce_0_4__0_4_1/split_2/train/image/_Image_10R_12.png  \n",
            "  inflating: chase_db_256_256_dice_bce_0_4__0_4_1/split_2/train/image/_Image_10R_5.png  \n",
            "  inflating: chase_db_256_256_dice_bce_0_4__0_4_1/split_2/train/image/_Image_05R_15.png  \n",
            "  inflating: chase_db_256_256_dice_bce_0_4__0_4_1/split_2/train/image/_Image_01L_5.png  \n",
            "  inflating: chase_db_256_256_dice_bce_0_4__0_4_1/split_2/train/image/_Image_10L_13.png  \n",
            "  inflating: chase_db_256_256_dice_bce_0_4__0_4_1/split_2/train/image/_Image_02L_11.png  \n",
            "  inflating: chase_db_256_256_dice_bce_0_4__0_4_1/split_2/train/image/_Image_03L_13.png  \n",
            "  inflating: chase_db_256_256_dice_bce_0_4__0_4_1/split_2/train/image/_Image_06R_10.png  \n",
            "  inflating: chase_db_256_256_dice_bce_0_4__0_4_1/split_2/train/image/_Image_09L_11.png  \n",
            "  inflating: chase_db_256_256_dice_bce_0_4__0_4_1/split_2/train/image/_Image_03R_0.png  \n",
            "  inflating: chase_db_256_256_dice_bce_0_4__0_4_1/split_2/train/image/_Image_09L_5.png  \n",
            "  inflating: chase_db_256_256_dice_bce_0_4__0_4_1/split_2/train/image/_Image_04L_10.png  \n",
            "  inflating: chase_db_256_256_dice_bce_0_4__0_4_1/split_2/train/image/_Image_09R_2.png  \n",
            "  inflating: chase_db_256_256_dice_bce_0_4__0_4_1/split_2/train/image/_Image_04L_4.png  \n",
            "  inflating: chase_db_256_256_dice_bce_0_4__0_4_1/split_2/train/image/_Image_08R_9.png  \n",
            "  inflating: chase_db_256_256_dice_bce_0_4__0_4_1/split_2/train/image/_Image_09L_15.png  \n",
            "  inflating: chase_db_256_256_dice_bce_0_4__0_4_1/split_2/train/image/_Image_05L_10.png  \n",
            "  inflating: chase_db_256_256_dice_bce_0_4__0_4_1/split_2/train/image/_Image_14L_9.png  \n",
            "  inflating: chase_db_256_256_dice_bce_0_4__0_4_1/split_2/train/image/_Image_14L_14.png  \n",
            "  inflating: chase_db_256_256_dice_bce_0_4__0_4_1/split_2/train/image/_Image_07L_15.png  \n",
            "  inflating: chase_db_256_256_dice_bce_0_4__0_4_1/split_2/train/image/_Image_06L_4.png  \n",
            "  inflating: chase_db_256_256_dice_bce_0_4__0_4_1/split_2/train/image/_Image_14R_15.png  \n",
            "  inflating: chase_db_256_256_dice_bce_0_4__0_4_1/split_2/train/image/_Image_14L_8.png  \n",
            "  inflating: chase_db_256_256_dice_bce_0_4__0_4_1/split_2/train/image/_Image_10R_9.png  \n",
            "  inflating: chase_db_256_256_dice_bce_0_4__0_4_1/split_2/train/image/_Image_04L_0.png  \n",
            "  inflating: chase_db_256_256_dice_bce_0_4__0_4_1/split_2/train/image/_Image_10L_9.png  \n",
            "  inflating: chase_db_256_256_dice_bce_0_4__0_4_1/split_2/train/image/_Image_05R_0.png  \n",
            "  inflating: chase_db_256_256_dice_bce_0_4__0_4_1/split_2/train/image/_Image_08L_8.png  \n",
            "  inflating: chase_db_256_256_dice_bce_0_4__0_4_1/split_2/train/image/_Image_06R_13.png  \n",
            "  inflating: chase_db_256_256_dice_bce_0_4__0_4_1/split_2/train/image/_Image_01R_6.png  \n",
            "  inflating: chase_db_256_256_dice_bce_0_4__0_4_1/split_2/train/image/_Image_02R_3.png  \n",
            "  inflating: chase_db_256_256_dice_bce_0_4__0_4_1/split_2/train/image/_Image_04L_12.png  \n",
            "  inflating: chase_db_256_256_dice_bce_0_4__0_4_1/split_2/train/image/_Image_07R_8.png  \n",
            "  inflating: chase_db_256_256_dice_bce_0_4__0_4_1/split_2/train/image/_Image_13R_8.png  \n",
            "  inflating: chase_db_256_256_dice_bce_0_4__0_4_1/split_2/train/image/_Image_09L_1.png  \n",
            "  inflating: chase_db_256_256_dice_bce_0_4__0_4_1/split_2/train/image/_Image_05R_4.png  \n",
            "  inflating: chase_db_256_256_dice_bce_0_4__0_4_1/split_2/train/image/_Image_09L_3.png  \n",
            "  inflating: chase_db_256_256_dice_bce_0_4__0_4_1/split_2/train/image/_Image_06R_7.png  \n",
            "  inflating: chase_db_256_256_dice_bce_0_4__0_4_1/split_2/train/image/_Image_09L_14.png  \n",
            "  inflating: chase_db_256_256_dice_bce_0_4__0_4_1/split_2/train/image/_Image_03L_8.png  \n",
            "  inflating: chase_db_256_256_dice_bce_0_4__0_4_1/split_2/train/image/_Image_01L_15.png  \n",
            "  inflating: chase_db_256_256_dice_bce_0_4__0_4_1/split_2/train/image/_Image_02L_0.png  \n",
            "  inflating: chase_db_256_256_dice_bce_0_4__0_4_1/split_2/train/image/_Image_02L_8.png  \n",
            "  inflating: chase_db_256_256_dice_bce_0_4__0_4_1/split_2/train/image/_Image_02R_10.png  \n",
            "  inflating: chase_db_256_256_dice_bce_0_4__0_4_1/split_2/train/image/_Image_03L_5.png  \n",
            "  inflating: chase_db_256_256_dice_bce_0_4__0_4_1/split_2/train/image/_Image_05L_2.png  \n",
            "  inflating: chase_db_256_256_dice_bce_0_4__0_4_1/split_2/train/image/_Image_08L_2.png  \n",
            "  inflating: chase_db_256_256_dice_bce_0_4__0_4_1/split_2/train/image/_Image_05L_8.png  \n",
            "  inflating: chase_db_256_256_dice_bce_0_4__0_4_1/split_2/train/image/_Image_03R_10.png  \n",
            "  inflating: chase_db_256_256_dice_bce_0_4__0_4_1/split_2/train/image/_Image_06R_6.png  \n",
            "  inflating: chase_db_256_256_dice_bce_0_4__0_4_1/split_2/train/image/_Image_09R_7.png  \n",
            "  inflating: chase_db_256_256_dice_bce_0_4__0_4_1/split_2/train/image/_Image_06L_3.png  \n",
            "  inflating: chase_db_256_256_dice_bce_0_4__0_4_1/split_2/train/image/_Image_02R_4.png  \n",
            "  inflating: chase_db_256_256_dice_bce_0_4__0_4_1/split_2/train/image/_Image_01L_4.png  \n",
            "  inflating: chase_db_256_256_dice_bce_0_4__0_4_1/split_2/train/image/_Image_08L_1.png  \n",
            "  inflating: chase_db_256_256_dice_bce_0_4__0_4_1/split_2/train/image/_Image_06L_14.png  \n",
            "  inflating: chase_db_256_256_dice_bce_0_4__0_4_1/split_2/train/image/_Image_10L_3.png  \n",
            "  inflating: chase_db_256_256_dice_bce_0_4__0_4_1/split_2/train/image/_Image_13R_14.png  \n",
            "  inflating: chase_db_256_256_dice_bce_0_4__0_4_1/split_2/train/image/_Image_04R_3.png  \n",
            "  inflating: chase_db_256_256_dice_bce_0_4__0_4_1/split_2/train/image/_Image_08R_11.png  \n",
            "  inflating: chase_db_256_256_dice_bce_0_4__0_4_1/split_2/train/image/_Image_07R_3.png  \n",
            "  inflating: chase_db_256_256_dice_bce_0_4__0_4_1/split_2/train/image/_Image_13R_2.png  \n",
            "  inflating: chase_db_256_256_dice_bce_0_4__0_4_1/split_2/train/image/_Image_02L_14.png  \n",
            "  inflating: chase_db_256_256_dice_bce_0_4__0_4_1/split_2/train/image/_Image_02L_10.png  \n",
            "  inflating: chase_db_256_256_dice_bce_0_4__0_4_1/split_2/train/image/_Image_03R_2.png  \n",
            "  inflating: chase_db_256_256_dice_bce_0_4__0_4_1/split_2/train/image/_Image_05R_6.png  \n",
            "  inflating: chase_db_256_256_dice_bce_0_4__0_4_1/split_2/train/image/_Image_14R_2.png  \n",
            "  inflating: chase_db_256_256_dice_bce_0_4__0_4_1/split_2/train/image/_Image_10L_4.png  \n",
            "  inflating: chase_db_256_256_dice_bce_0_4__0_4_1/split_2/train/image/_Image_09R_11.png  \n",
            "  inflating: chase_db_256_256_dice_bce_0_4__0_4_1/split_2/train/image/_Image_07R_10.png  \n",
            "  inflating: chase_db_256_256_dice_bce_0_4__0_4_1/split_2/train/image/_Image_13R_5.png  \n",
            "  inflating: chase_db_256_256_dice_bce_0_4__0_4_1/split_2/train/image/_Image_08R_3.png  \n",
            "  inflating: chase_db_256_256_dice_bce_0_4__0_4_1/split_2/train/image/_Image_10R_13.png  \n",
            "  inflating: chase_db_256_256_dice_bce_0_4__0_4_1/split_2/train/image/_Image_03R_3.png  \n",
            "  inflating: chase_db_256_256_dice_bce_0_4__0_4_1/split_2/train/image/_Image_10L_1.png  \n",
            "  inflating: chase_db_256_256_dice_bce_0_4__0_4_1/split_2/train/image/_Image_07R_12.png  \n",
            "  inflating: chase_db_256_256_dice_bce_0_4__0_4_1/split_2/train/image/_Image_09R_5.png  \n",
            "  inflating: chase_db_256_256_dice_bce_0_4__0_4_1/split_2/train/image/_Image_08R_8.png  \n",
            "  inflating: chase_db_256_256_dice_bce_0_4__0_4_1/split_2/train/image/_Image_08L_0.png  \n",
            "  inflating: chase_db_256_256_dice_bce_0_4__0_4_1/split_2/train/image/_Image_02L_9.png  \n",
            "  inflating: chase_db_256_256_dice_bce_0_4__0_4_1/split_2/train/image/_Image_03R_15.png  \n",
            "  inflating: chase_db_256_256_dice_bce_0_4__0_4_1/split_2/train/image/_Image_01L_9.png  \n",
            "  inflating: chase_db_256_256_dice_bce_0_4__0_4_1/split_2/train/image/_Image_08L_15.png  \n",
            "  inflating: chase_db_256_256_dice_bce_0_4__0_4_1/split_2/train/image/_Image_10L_11.png  \n",
            "  inflating: chase_db_256_256_dice_bce_0_4__0_4_1/split_2/train/image/_Image_09R_15.png  \n",
            "  inflating: chase_db_256_256_dice_bce_0_4__0_4_1/split_2/train/image/_Image_03R_14.png  \n",
            "  inflating: chase_db_256_256_dice_bce_0_4__0_4_1/split_2/train/image/_Image_01R_8.png  \n",
            "  inflating: chase_db_256_256_dice_bce_0_4__0_4_1/split_2/train/image/_Image_05R_14.png  \n",
            "  inflating: chase_db_256_256_dice_bce_0_4__0_4_1/split_2/train/image/_Image_08L_12.png  \n",
            "  inflating: chase_db_256_256_dice_bce_0_4__0_4_1/split_2/train/image/_Image_07L_11.png  \n",
            "  inflating: chase_db_256_256_dice_bce_0_4__0_4_1/split_2/train/image/_Image_05R_8.png  \n",
            "  inflating: chase_db_256_256_dice_bce_0_4__0_4_1/split_2/train/image/_Image_01R_4.png  \n",
            "  inflating: chase_db_256_256_dice_bce_0_4__0_4_1/split_2/train/image/_Image_01R_14.png  \n",
            "  inflating: chase_db_256_256_dice_bce_0_4__0_4_1/split_2/train/image/_Image_01L_13.png  \n",
            "  inflating: chase_db_256_256_dice_bce_0_4__0_4_1/split_2/train/image/_Image_13R_9.png  \n",
            "  inflating: chase_db_256_256_dice_bce_0_4__0_4_1/split_2/train/image/_Image_07L_5.png  \n",
            "  inflating: chase_db_256_256_dice_bce_0_4__0_4_1/split_2/train/image/_Image_09R_12.png  \n",
            "  inflating: chase_db_256_256_dice_bce_0_4__0_4_1/split_2/train/image/_Image_14R_1.png  \n",
            "  inflating: chase_db_256_256_dice_bce_0_4__0_4_1/split_2/train/image/_Image_07R_2.png  \n",
            "  inflating: chase_db_256_256_dice_bce_0_4__0_4_1/split_2/train/image/_Image_01R_7.png  \n",
            "  inflating: chase_db_256_256_dice_bce_0_4__0_4_1/split_2/train/image/_Image_06R_15.png  \n",
            "  inflating: chase_db_256_256_dice_bce_0_4__0_4_1/split_2/train/image/_Image_14L_11.png  \n",
            "  inflating: chase_db_256_256_dice_bce_0_4__0_4_1/split_2/train/image/_Image_04R_7.png  \n",
            "  inflating: chase_db_256_256_dice_bce_0_4__0_4_1/split_2/train/image/_Image_07L_6.png  \n",
            "  inflating: chase_db_256_256_dice_bce_0_4__0_4_1/split_2/train/image/_Image_06L_11.png  \n",
            "  inflating: chase_db_256_256_dice_bce_0_4__0_4_1/split_2/train/image/_Image_10L_10.png  \n",
            "  inflating: chase_db_256_256_dice_bce_0_4__0_4_1/split_2/train/image/_Image_02R_11.png  \n",
            "  inflating: chase_db_256_256_dice_bce_0_4__0_4_1/split_2/train/image/_Image_10R_14.png  \n",
            "  inflating: chase_db_256_256_dice_bce_0_4__0_4_1/split_2/train/image/_Image_05L_5.png  \n",
            "  inflating: chase_db_256_256_dice_bce_0_4__0_4_1/split_2/train/image/_Image_03R_5.png  \n",
            "  inflating: chase_db_256_256_dice_bce_0_4__0_4_1/split_2/train/image/_Image_01L_2.png  \n",
            "  inflating: chase_db_256_256_dice_bce_0_4__0_4_1/split_2/train/image/_Image_03L_10.png  \n",
            "  inflating: chase_db_256_256_dice_bce_0_4__0_4_1/split_2/train/image/_Image_14R_14.png  \n",
            "  inflating: chase_db_256_256_dice_bce_0_4__0_4_1/split_2/train/image/_Image_02R_2.png  \n",
            "  inflating: chase_db_256_256_dice_bce_0_4__0_4_1/split_2/train/image/_Image_10R_3.png  \n",
            "  inflating: chase_db_256_256_dice_bce_0_4__0_4_1/split_2/train/image/_Image_04R_14.png  \n",
            "  inflating: chase_db_256_256_dice_bce_0_4__0_4_1/split_2/train/image/_Image_05L_0.png  \n",
            "  inflating: chase_db_256_256_dice_bce_0_4__0_4_1/split_2/train/image/_Image_09L_6.png  \n",
            "  inflating: chase_db_256_256_dice_bce_0_4__0_4_1/split_2/train/image/_Image_08R_0.png  \n",
            "  inflating: chase_db_256_256_dice_bce_0_4__0_4_1/split_2/train/image/_Image_05R_13.png  \n",
            "  inflating: chase_db_256_256_dice_bce_0_4__0_4_1/split_2/train/image/_Image_06R_11.png  \n",
            "  inflating: chase_db_256_256_dice_bce_0_4__0_4_1/split_2/train/image/_Image_14R_9.png  \n",
            "  inflating: chase_db_256_256_dice_bce_0_4__0_4_1/split_2/train/image/_Image_14L_2.png  \n",
            "  inflating: chase_db_256_256_dice_bce_0_4__0_4_1/split_2/train/image/_Image_10R_6.png  \n",
            "  inflating: chase_db_256_256_dice_bce_0_4__0_4_1/split_2/train/image/_Image_06L_6.png  \n",
            "  inflating: chase_db_256_256_dice_bce_0_4__0_4_1/split_2/train/image/_Image_08R_1.png  \n",
            "  inflating: chase_db_256_256_dice_bce_0_4__0_4_1/split_2/train/image/_Image_14L_12.png  \n",
            "  inflating: chase_db_256_256_dice_bce_0_4__0_4_1/split_2/train/image/_Image_08R_14.png  \n",
            "  inflating: chase_db_256_256_dice_bce_0_4__0_4_1/split_2/train/image/_Image_08R_13.png  \n",
            "  inflating: chase_db_256_256_dice_bce_0_4__0_4_1/split_2/train/image/_Image_10L_6.png  \n",
            "  inflating: chase_db_256_256_dice_bce_0_4__0_4_1/split_2/train/image/_Image_02L_6.png  \n",
            "  inflating: chase_db_256_256_dice_bce_0_4__0_4_1/split_2/train/image/_Image_07L_8.png  \n",
            "  inflating: chase_db_256_256_dice_bce_0_4__0_4_1/split_2/train/image/_Image_02R_14.png  \n",
            "  inflating: chase_db_256_256_dice_bce_0_4__0_4_1/split_2/train/image/_Image_01R_12.png  \n",
            "  inflating: chase_db_256_256_dice_bce_0_4__0_4_1/split_2/train/image/_Image_01R_1.png  \n",
            "  inflating: chase_db_256_256_dice_bce_0_4__0_4_1/split_2/train/image/_Image_01L_10.png  \n",
            "  inflating: chase_db_256_256_dice_bce_0_4__0_4_1/split_2/train/image/_Image_01L_8.png  \n",
            "  inflating: chase_db_256_256_dice_bce_0_4__0_4_1/split_2/train/image/_Image_04R_15.png  \n",
            "  inflating: chase_db_256_256_dice_bce_0_4__0_4_1/split_2/train/image/_Image_03L_0.png  \n",
            "  inflating: chase_db_256_256_dice_bce_0_4__0_4_1/split_2/train/image/_Image_14R_10.png  \n",
            "  inflating: chase_db_256_256_dice_bce_0_4__0_4_1/split_2/train/image/_Image_07R_4.png  \n",
            "  inflating: chase_db_256_256_dice_bce_0_4__0_4_1/split_2/train/image/_Image_14L_1.png  \n",
            "  inflating: chase_db_256_256_dice_bce_0_4__0_4_1/split_2/train/image/_Image_07L_0.png  \n",
            "  inflating: chase_db_256_256_dice_bce_0_4__0_4_1/split_2/train/image/_Image_04L_6.png  \n",
            "  inflating: chase_db_256_256_dice_bce_0_4__0_4_1/split_2/train/image/_Image_05R_11.png  \n",
            "  inflating: chase_db_256_256_dice_bce_0_4__0_4_1/split_2/train/image/_Image_08L_6.png  \n",
            "  inflating: chase_db_256_256_dice_bce_0_4__0_4_1/split_2/train/image/_Image_07L_10.png  \n",
            "  inflating: chase_db_256_256_dice_bce_0_4__0_4_1/split_2/train/image/_Image_03R_9.png  \n",
            "  inflating: chase_db_256_256_dice_bce_0_4__0_4_1/split_2/train/image/_Image_09R_1.png  \n",
            "  inflating: chase_db_256_256_dice_bce_0_4__0_4_1/split_2/train/image/_Image_14L_4.png  \n",
            "  inflating: chase_db_256_256_dice_bce_0_4__0_4_1/split_2/train/image/_Image_01L_14.png  \n",
            "  inflating: chase_db_256_256_dice_bce_0_4__0_4_1/split_2/train/image/_Image_03R_4.png  \n",
            "  inflating: chase_db_256_256_dice_bce_0_4__0_4_1/split_2/train/image/_Image_05L_6.png  \n",
            "  inflating: chase_db_256_256_dice_bce_0_4__0_4_1/split_2/train/image/_Image_06R_8.png  \n",
            "  inflating: chase_db_256_256_dice_bce_0_4__0_4_1/split_2/train/image/_Image_04L_15.png  \n",
            "  inflating: chase_db_256_256_dice_bce_0_4__0_4_1/split_2/train/image/_Image_01L_0.png  \n",
            "  inflating: chase_db_256_256_dice_bce_0_4__0_4_1/split_2/train/image/_Image_14L_15.png  \n",
            "  inflating: chase_db_256_256_dice_bce_0_4__0_4_1/split_2/train/image/_Image_14R_3.png  \n",
            "  inflating: chase_db_256_256_dice_bce_0_4__0_4_1/split_2/train/image/_Image_14L_10.png  \n",
            "  inflating: chase_db_256_256_dice_bce_0_4__0_4_1/split_2/train/image/_Image_04L_11.png  \n",
            "  inflating: chase_db_256_256_dice_bce_0_4__0_4_1/split_2/train/image/_Image_04L_3.png  \n",
            "  inflating: chase_db_256_256_dice_bce_0_4__0_4_1/split_2/train/image/_Image_04R_13.png  \n",
            "  inflating: chase_db_256_256_dice_bce_0_4__0_4_1/split_2/train/image/_Image_10L_14.png  \n",
            "  inflating: chase_db_256_256_dice_bce_0_4__0_4_1/split_2/image_patches_256_256_test.csv  \n",
            "  inflating: chase_db_256_256_dice_bce_0_4__0_4_1/split_2/image_patches_256_256_train.csv  \n",
            "   creating: chase_db_256_256_dice_bce_0_4__0_4_1/test/\n",
            "   creating: chase_db_256_256_dice_bce_0_4__0_4_1/test/1st_manual/\n",
            "  inflating: chase_db_256_256_dice_bce_0_4__0_4_1/test/1st_manual/Image_13L_1stHO.png  \n",
            "  inflating: chase_db_256_256_dice_bce_0_4__0_4_1/test/1st_manual/Image_12R_1stHO.png  \n",
            "  inflating: chase_db_256_256_dice_bce_0_4__0_4_1/test/1st_manual/Image_11L_1stHO.png  \n",
            "  inflating: chase_db_256_256_dice_bce_0_4__0_4_1/test/1st_manual/Image_11R_1stHO.png  \n",
            "  inflating: chase_db_256_256_dice_bce_0_4__0_4_1/test/1st_manual/Image_12L_1stHO.png  \n",
            "   creating: chase_db_256_256_dice_bce_0_4__0_4_1/test/images/\n",
            "  inflating: chase_db_256_256_dice_bce_0_4__0_4_1/test/images/Image_12L.jpg  \n",
            "  inflating: chase_db_256_256_dice_bce_0_4__0_4_1/test/images/Image_13L.jpg  \n",
            "  inflating: chase_db_256_256_dice_bce_0_4__0_4_1/test/images/Image_12R.jpg  \n",
            "  inflating: chase_db_256_256_dice_bce_0_4__0_4_1/test/images/Image_11L.jpg  \n",
            "  inflating: chase_db_256_256_dice_bce_0_4__0_4_1/test/images/Image_11R.jpg  \n",
            "   creating: chase_db_256_256_dice_bce_0_4__0_4_1/results_reconstructed/\n",
            "   creating: chase_db_256_256_dice_bce_0_4__0_4_1/training/\n",
            "   creating: chase_db_256_256_dice_bce_0_4__0_4_1/training/1st_manual/\n",
            "  inflating: chase_db_256_256_dice_bce_0_4__0_4_1/training/1st_manual/Image_07L_1stHO.png  \n",
            "  inflating: chase_db_256_256_dice_bce_0_4__0_4_1/training/1st_manual/Image_10L_1stHO.png  \n",
            "  inflating: chase_db_256_256_dice_bce_0_4__0_4_1/training/1st_manual/Image_06R_1stHO.png  \n",
            "  inflating: chase_db_256_256_dice_bce_0_4__0_4_1/training/1st_manual/Image_03R_1stHO.png  \n",
            "  inflating: chase_db_256_256_dice_bce_0_4__0_4_1/training/1st_manual/Image_06L_1stHO.png  \n",
            "  inflating: chase_db_256_256_dice_bce_0_4__0_4_1/training/1st_manual/Image_09R_1stHO.png  \n",
            "  inflating: chase_db_256_256_dice_bce_0_4__0_4_1/training/1st_manual/Image_14R_1stHO.png  \n",
            "  inflating: chase_db_256_256_dice_bce_0_4__0_4_1/training/1st_manual/Image_07R_1stHO.png  \n",
            "  inflating: chase_db_256_256_dice_bce_0_4__0_4_1/training/1st_manual/Image_02L_1stHO.png  \n",
            "  inflating: chase_db_256_256_dice_bce_0_4__0_4_1/training/1st_manual/Image_04R_1stHO.png  \n",
            "  inflating: chase_db_256_256_dice_bce_0_4__0_4_1/training/1st_manual/Image_08R_1stHO.png  \n",
            "  inflating: chase_db_256_256_dice_bce_0_4__0_4_1/training/1st_manual/Image_02R_1stHO.png  \n",
            "  inflating: chase_db_256_256_dice_bce_0_4__0_4_1/training/1st_manual/Image_05L_1stHO.png  \n",
            "  inflating: chase_db_256_256_dice_bce_0_4__0_4_1/training/1st_manual/Image_08L_1stHO.png  \n",
            "  inflating: chase_db_256_256_dice_bce_0_4__0_4_1/training/1st_manual/Image_09L_1stHO.png  \n",
            "  inflating: chase_db_256_256_dice_bce_0_4__0_4_1/training/1st_manual/Image_03L_1stHO.png  \n",
            "  inflating: chase_db_256_256_dice_bce_0_4__0_4_1/training/1st_manual/Image_05R_1stHO.png  \n",
            "  inflating: chase_db_256_256_dice_bce_0_4__0_4_1/training/1st_manual/Image_04L_1stHO.png  \n",
            "  inflating: chase_db_256_256_dice_bce_0_4__0_4_1/training/1st_manual/Image_13R_1stHO.png  \n",
            "  inflating: chase_db_256_256_dice_bce_0_4__0_4_1/training/1st_manual/Image_10R_1stHO.png  \n",
            "  inflating: chase_db_256_256_dice_bce_0_4__0_4_1/training/1st_manual/Image_01L_1stHO.png  \n",
            "  inflating: chase_db_256_256_dice_bce_0_4__0_4_1/training/1st_manual/Image_01R_1stHO.png  \n",
            " extracting: chase_db_256_256_dice_bce_0_4__0_4_1/training/1st_manual/Image_14L_1stHO.png  \n",
            "   creating: chase_db_256_256_dice_bce_0_4__0_4_1/training/images/\n",
            "  inflating: chase_db_256_256_dice_bce_0_4__0_4_1/training/images/Image_05R.jpg  \n",
            "  inflating: chase_db_256_256_dice_bce_0_4__0_4_1/training/images/Image_08R.jpg  \n",
            "  inflating: chase_db_256_256_dice_bce_0_4__0_4_1/training/images/Image_10L.jpg  \n",
            "  inflating: chase_db_256_256_dice_bce_0_4__0_4_1/training/images/Image_09R.jpg  \n",
            "  inflating: chase_db_256_256_dice_bce_0_4__0_4_1/training/images/Image_08L.jpg  \n",
            "  inflating: chase_db_256_256_dice_bce_0_4__0_4_1/training/images/Image_14R.jpg  \n",
            "  inflating: chase_db_256_256_dice_bce_0_4__0_4_1/training/images/Image_07L.jpg  \n",
            "  inflating: chase_db_256_256_dice_bce_0_4__0_4_1/training/images/Image_05L.jpg  \n",
            "  inflating: chase_db_256_256_dice_bce_0_4__0_4_1/training/images/Image_02L.jpg  \n",
            "  inflating: chase_db_256_256_dice_bce_0_4__0_4_1/training/images/Image_09L.jpg  \n",
            "  inflating: chase_db_256_256_dice_bce_0_4__0_4_1/training/images/Image_01R.jpg  \n",
            "  inflating: chase_db_256_256_dice_bce_0_4__0_4_1/training/images/Image_03R.jpg  \n",
            "  inflating: chase_db_256_256_dice_bce_0_4__0_4_1/training/images/Image_07R.jpg  \n",
            "  inflating: chase_db_256_256_dice_bce_0_4__0_4_1/training/images/Image_01L.jpg  \n",
            "  inflating: chase_db_256_256_dice_bce_0_4__0_4_1/training/images/Image_03L.jpg  \n",
            "  inflating: chase_db_256_256_dice_bce_0_4__0_4_1/training/images/Image_13R.jpg  \n",
            "  inflating: chase_db_256_256_dice_bce_0_4__0_4_1/training/images/Image_02R.jpg  \n",
            "  inflating: chase_db_256_256_dice_bce_0_4__0_4_1/training/images/Image_10R.jpg  \n",
            "  inflating: chase_db_256_256_dice_bce_0_4__0_4_1/training/images/Image_06L.jpg  \n",
            "  inflating: chase_db_256_256_dice_bce_0_4__0_4_1/training/images/Image_04L.jpg  \n",
            "  inflating: chase_db_256_256_dice_bce_0_4__0_4_1/training/images/Image_04R.jpg  \n",
            "  inflating: chase_db_256_256_dice_bce_0_4__0_4_1/training/images/Image_06R.jpg  \n",
            "  inflating: chase_db_256_256_dice_bce_0_4__0_4_1/training/images/Image_14L.jpg  \n",
            "   creating: chase_db_256_256_dice_bce_0_4__0_4_1/predictions_np/\n",
            "  inflating: chase_db_256_256_dice_bce_0_4__0_4_1/predictions_np/_Image_11L_0.npy  \n",
            "  inflating: chase_db_256_256_dice_bce_0_4__0_4_1/predictions_np/_Image_13L_0.npy  \n",
            "  inflating: chase_db_256_256_dice_bce_0_4__0_4_1/predictions_np/_Image_12L_3.npy  \n",
            "  inflating: chase_db_256_256_dice_bce_0_4__0_4_1/predictions_np/_Image_12R_12.npy  \n",
            "  inflating: chase_db_256_256_dice_bce_0_4__0_4_1/predictions_np/_Image_11R_4.npy  \n",
            "  inflating: chase_db_256_256_dice_bce_0_4__0_4_1/predictions_np/_Image_12R_3.npy  \n",
            "  inflating: chase_db_256_256_dice_bce_0_4__0_4_1/predictions_np/_Image_11R_1.npy  \n",
            "  inflating: chase_db_256_256_dice_bce_0_4__0_4_1/predictions_np/_Image_13L_9.npy  \n",
            "  inflating: chase_db_256_256_dice_bce_0_4__0_4_1/predictions_np/_Image_11L_13.npy  \n",
            "  inflating: chase_db_256_256_dice_bce_0_4__0_4_1/predictions_np/_Image_11R_11.npy  \n",
            "  inflating: chase_db_256_256_dice_bce_0_4__0_4_1/predictions_np/_Image_12R_9.npy  \n",
            "  inflating: chase_db_256_256_dice_bce_0_4__0_4_1/predictions_np/_Image_13L_2.npy  \n",
            "  inflating: chase_db_256_256_dice_bce_0_4__0_4_1/predictions_np/_Image_12R_10.npy  \n",
            "  inflating: chase_db_256_256_dice_bce_0_4__0_4_1/predictions_np/_Image_11R_0.npy  \n",
            "  inflating: chase_db_256_256_dice_bce_0_4__0_4_1/predictions_np/_Image_12R_4.npy  \n",
            "  inflating: chase_db_256_256_dice_bce_0_4__0_4_1/predictions_np/_Image_12L_5.npy  \n",
            "  inflating: chase_db_256_256_dice_bce_0_4__0_4_1/predictions_np/_Image_13L_3.npy  \n",
            "  inflating: chase_db_256_256_dice_bce_0_4__0_4_1/predictions_np/_Image_11L_10.npy  \n",
            "  inflating: chase_db_256_256_dice_bce_0_4__0_4_1/predictions_np/_Image_13L_6.npy  \n",
            "  inflating: chase_db_256_256_dice_bce_0_4__0_4_1/predictions_np/_Image_11L_12.npy  \n",
            "  inflating: chase_db_256_256_dice_bce_0_4__0_4_1/predictions_np/_Image_13L_12.npy  \n",
            "  inflating: chase_db_256_256_dice_bce_0_4__0_4_1/predictions_np/_Image_13L_8.npy  \n",
            "  inflating: chase_db_256_256_dice_bce_0_4__0_4_1/predictions_np/_Image_11L_1.npy  \n",
            "  inflating: chase_db_256_256_dice_bce_0_4__0_4_1/predictions_np/_Image_12R_11.npy  \n",
            "  inflating: chase_db_256_256_dice_bce_0_4__0_4_1/predictions_np/_Image_13L_13.npy  \n",
            "  inflating: chase_db_256_256_dice_bce_0_4__0_4_1/predictions_np/_Image_12R_6.npy  \n",
            "  inflating: chase_db_256_256_dice_bce_0_4__0_4_1/predictions_np/_Image_12L_1.npy  \n",
            "  inflating: chase_db_256_256_dice_bce_0_4__0_4_1/predictions_np/_Image_12L_0.npy  \n",
            "  inflating: chase_db_256_256_dice_bce_0_4__0_4_1/predictions_np/_Image_11L_11.npy  \n",
            "  inflating: chase_db_256_256_dice_bce_0_4__0_4_1/predictions_np/_Image_12L_9.npy  \n",
            "  inflating: chase_db_256_256_dice_bce_0_4__0_4_1/predictions_np/_Image_11R_3.npy  \n",
            "  inflating: chase_db_256_256_dice_bce_0_4__0_4_1/predictions_np/_Image_12L_2.npy  \n",
            "  inflating: chase_db_256_256_dice_bce_0_4__0_4_1/predictions_np/_Image_12L_11.npy  \n",
            "  inflating: chase_db_256_256_dice_bce_0_4__0_4_1/predictions_np/_Image_12L_8.npy  \n",
            "  inflating: chase_db_256_256_dice_bce_0_4__0_4_1/predictions_np/_Image_13L_7.npy  \n",
            "  inflating: chase_db_256_256_dice_bce_0_4__0_4_1/predictions_np/_Image_11R_15.npy  \n",
            "  inflating: chase_db_256_256_dice_bce_0_4__0_4_1/predictions_np/_Image_12L_13.npy  \n",
            "  inflating: chase_db_256_256_dice_bce_0_4__0_4_1/predictions_np/_Image_13L_14.npy  \n",
            "  inflating: chase_db_256_256_dice_bce_0_4__0_4_1/predictions_np/_Image_12R_5.npy  \n",
            "  inflating: chase_db_256_256_dice_bce_0_4__0_4_1/predictions_np/_Image_11L_7.npy  \n",
            "  inflating: chase_db_256_256_dice_bce_0_4__0_4_1/predictions_np/_Image_11L_6.npy  \n",
            "  inflating: chase_db_256_256_dice_bce_0_4__0_4_1/predictions_np/_Image_12L_10.npy  \n",
            "  inflating: chase_db_256_256_dice_bce_0_4__0_4_1/predictions_np/_Image_12L_15.npy  \n",
            "  inflating: chase_db_256_256_dice_bce_0_4__0_4_1/predictions_np/_Image_12L_7.npy  \n",
            "  inflating: chase_db_256_256_dice_bce_0_4__0_4_1/predictions_np/_Image_12R_15.npy  \n",
            "  inflating: chase_db_256_256_dice_bce_0_4__0_4_1/predictions_np/_Image_12L_4.npy  \n",
            "  inflating: chase_db_256_256_dice_bce_0_4__0_4_1/predictions_np/_Image_11R_2.npy  \n",
            "  inflating: chase_db_256_256_dice_bce_0_4__0_4_1/predictions_np/_Image_12R_8.npy  \n",
            "  inflating: chase_db_256_256_dice_bce_0_4__0_4_1/predictions_np/_Image_11R_10.npy  \n",
            "  inflating: chase_db_256_256_dice_bce_0_4__0_4_1/predictions_np/_Image_11L_2.npy  \n",
            "  inflating: chase_db_256_256_dice_bce_0_4__0_4_1/predictions_np/_Image_11L_8.npy  \n",
            "  inflating: chase_db_256_256_dice_bce_0_4__0_4_1/predictions_np/_Image_11L_4.npy  \n",
            "  inflating: chase_db_256_256_dice_bce_0_4__0_4_1/predictions_np/_Image_13L_11.npy  \n",
            "  inflating: chase_db_256_256_dice_bce_0_4__0_4_1/predictions_np/_Image_13L_15.npy  \n",
            "  inflating: chase_db_256_256_dice_bce_0_4__0_4_1/predictions_np/_Image_12L_6.npy  \n",
            "  inflating: chase_db_256_256_dice_bce_0_4__0_4_1/predictions_np/_Image_11R_6.npy  \n",
            "  inflating: chase_db_256_256_dice_bce_0_4__0_4_1/predictions_np/_Image_12R_1.npy  \n",
            "  inflating: chase_db_256_256_dice_bce_0_4__0_4_1/predictions_np/_Image_11R_13.npy  \n",
            "  inflating: chase_db_256_256_dice_bce_0_4__0_4_1/predictions_np/_Image_11R_5.npy  \n",
            "  inflating: chase_db_256_256_dice_bce_0_4__0_4_1/predictions_np/_Image_11L_9.npy  \n",
            "  inflating: chase_db_256_256_dice_bce_0_4__0_4_1/predictions_np/_Image_11R_12.npy  \n",
            "  inflating: chase_db_256_256_dice_bce_0_4__0_4_1/predictions_np/_Image_11R_9.npy  \n",
            "  inflating: chase_db_256_256_dice_bce_0_4__0_4_1/predictions_np/_Image_13L_10.npy  \n",
            "  inflating: chase_db_256_256_dice_bce_0_4__0_4_1/predictions_np/_Image_11L_3.npy  \n",
            "  inflating: chase_db_256_256_dice_bce_0_4__0_4_1/predictions_np/_Image_11R_7.npy  \n",
            "  inflating: chase_db_256_256_dice_bce_0_4__0_4_1/predictions_np/_Image_13L_5.npy  \n",
            "  inflating: chase_db_256_256_dice_bce_0_4__0_4_1/predictions_np/_Image_12L_12.npy  \n",
            "  inflating: chase_db_256_256_dice_bce_0_4__0_4_1/predictions_np/_Image_13L_1.npy  \n",
            "  inflating: chase_db_256_256_dice_bce_0_4__0_4_1/predictions_np/_Image_12R_14.npy  \n",
            "  inflating: chase_db_256_256_dice_bce_0_4__0_4_1/predictions_np/_Image_11L_5.npy  \n",
            "  inflating: chase_db_256_256_dice_bce_0_4__0_4_1/predictions_np/_Image_12R_7.npy  \n",
            "  inflating: chase_db_256_256_dice_bce_0_4__0_4_1/predictions_np/_Image_11L_15.npy  \n",
            "  inflating: chase_db_256_256_dice_bce_0_4__0_4_1/predictions_np/_Image_12L_14.npy  \n",
            "  inflating: chase_db_256_256_dice_bce_0_4__0_4_1/predictions_np/_Image_12R_2.npy  \n",
            "  inflating: chase_db_256_256_dice_bce_0_4__0_4_1/predictions_np/_Image_13L_4.npy  \n",
            "  inflating: chase_db_256_256_dice_bce_0_4__0_4_1/predictions_np/_Image_11R_14.npy  \n",
            "  inflating: chase_db_256_256_dice_bce_0_4__0_4_1/predictions_np/_Image_12R_13.npy  \n",
            "  inflating: chase_db_256_256_dice_bce_0_4__0_4_1/predictions_np/_Image_11L_14.npy  \n",
            "  inflating: chase_db_256_256_dice_bce_0_4__0_4_1/predictions_np/_Image_11R_8.npy  \n",
            "  inflating: chase_db_256_256_dice_bce_0_4__0_4_1/predictions_np/_Image_12R_0.npy  \n",
            "   creating: chase_db_256_256_dice_bce_0_4__0_4_1/trained_models/\n",
            "  inflating: chase_db_256_256_dice_bce_0_4__0_4_1/trained_models/model.h5  \n",
            "  inflating: chase_db_256_256_dice_bce_0_4__0_4_1/trained_models/data.csv  \n"
          ]
        }
      ],
      "source": [
        "!unzip {folder_name}.zip\n"
      ]
    },
    {
      "cell_type": "code",
      "execution_count": null,
      "metadata": {
        "colab": {
          "background_save": true
        },
        "id": "uUc7rHJNeI-p"
      },
      "outputs": [],
      "source": [
        "drive.flush_and_unmount()"
      ]
    },
    {
      "cell_type": "code",
      "execution_count": null,
      "metadata": {
        "colab": {
          "background_save": true
        },
        "id": "fXp07gx1AtsF"
      },
      "outputs": [],
      "source": [
        ""
      ]
    }
  ],
  "metadata": {
    "accelerator": "GPU",
    "colab": {
      "background_execution": "on",
      "collapsed_sections": [],
      "machine_shape": "hm",
      "name": "Copy of chase_patches_256_256_0_4_dice_bce.ipynb",
      "provenance": []
    },
    "kernelspec": {
      "display_name": "Python 3",
      "name": "python3"
    },
    "language_info": {
      "name": "python"
    }
  },
  "nbformat": 4,
  "nbformat_minor": 0
}