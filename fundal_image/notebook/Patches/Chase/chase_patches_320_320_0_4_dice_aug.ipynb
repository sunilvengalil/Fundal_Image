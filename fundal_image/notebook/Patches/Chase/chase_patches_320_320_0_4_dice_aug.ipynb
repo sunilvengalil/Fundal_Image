{
  "cells": [
    {
      "cell_type": "markdown",
      "metadata": {
        "id": "ZIUz94YO5Y0x"
      },
      "source": [
        "### Import the required libraries and modules:"
      ]
    },
    {
      "cell_type": "code",
      "execution_count": null,
      "metadata": {
        "id": "RN5vXWIK27Lr"
      },
      "outputs": [],
      "source": [
        "import tensorflow as tf\n",
        "from tensorflow.keras.layers import Conv2D, BatchNormalization, Activation, MaxPool2D, Conv2DTranspose, Concatenate, Input\n",
        "from tensorflow.keras.models import Model\n",
        "from tensorflow.keras import backend as K\n",
        "import os\n",
        "os.environ[\"TF_CPP_MIN_LOG_LEVEL\"] = \"2\"\n",
        "import numpy as np\n",
        "import cv2\n",
        "from glob import glob\n",
        "from sklearn.utils import shuffle\n",
        "import tensorflow as tf\n",
        "from tensorflow.keras.callbacks import ModelCheckpoint, CSVLogger, ReduceLROnPlateau, EarlyStopping, TensorBoard\n",
        "from tensorflow.keras.optimizers import Adam\n",
        "from tensorflow.keras.metrics import Recall, Precision\n",
        "import numpy as np"
      ]
    },
    {
      "cell_type": "code",
      "execution_count": null,
      "metadata": {
        "colab": {
          "base_uri": "https://localhost:8080/"
        },
        "id": "DguMtoH4ZJA9",
        "outputId": "ca47564b-032b-4316-cd66-b4ee06eeb8b0"
      },
      "outputs": [
        {
          "name": "stdout",
          "output_type": "stream",
          "text": [
            "Mounted at /content/gdrive\n",
            "/content/gdrive/MyDrive/medical_image_processing\n"
          ]
        }
      ],
      "source": [
        "from google.colab import drive\n",
        "drive.mount(\"/content/gdrive\", force_remount=True)\n",
        "%cd /content/gdrive/MyDrive/medical_image_processing/"
      ]
    },
    {
      "cell_type": "code",
      "execution_count": null,
      "metadata": {
        "id": "sT9NcAXcN4MK"
      },
      "outputs": [],
      "source": [
        "from fundal_image.utils import create_dir, get_filenames_sorted\n",
        "from patches import generate_patches_images_only, reconstruct_patches\n",
        "from metrics import iou, dice_coef, dice_loss, DiceBCELoss, bce\n",
        "from metrics import compute_metrics, save_results\n",
        "from utils import read_image_train, read_mask_train"
      ]
    },
    {
      "cell_type": "code",
      "execution_count": null,
      "metadata": {
        "id": "-u2FCjiRfHBT"
      },
      "outputs": [],
      "source": [
        "image_sizes = {\"HRF\": (2336, 3504), \"drive\": (584, 565), \"chase_db\": (960, 999)}\n",
        "patch_size = {\"HRF\": (768, 768),\n",
        "              \"drive\":(256, 256),\n",
        "              \"chase_db\":(320, 320)\n",
        "              }\n",
        "\n",
        "dataset_name = \"chase_db\"\n",
        "patch_size = patch_size[dataset_name]\n",
        "patch_height = patch_size[0]\n",
        "patch_width = patch_size[1]"
      ]
    },
    {
      "cell_type": "code",
      "execution_count": null,
      "metadata": {
        "id": "U_UlvLm25iVS"
      },
      "outputs": [],
      "source": [
        "loss_str = \"dice_bce\"\n",
        "with_augmentation = False\n",
        "stride=320\n",
        "seed = 42\n",
        "run_id = 1\n",
        "test_percentage = 0.4\n",
        "class_weight = 0.4\n",
        "class_weight_str = str(class_weight).replace(\".\", \"_\")\n",
        "\n",
        "aug_string = \"_hvr\"\n",
        "test_percentage_str = str(test_percentage).replace(\".\", \"_\")\n",
        "\n",
        "root_path = f\"/content/datasets/{dataset_name}_{patch_height}_{stride}_{loss_str}_{class_weight_str}_{aug_string}_{test_percentage_str}_{run_id}/\"\n",
        "\n",
        "images_path_train = f\"{root_path}/training/images/\"\n",
        "gt_path_train = f\"{root_path}/training/1st_manual/\"\n",
        "images_path_test = f\"{root_path}/test/images/\"\n",
        "gt_path_test = f\"{root_path}/test/1st_manual/\"\n",
        "\n",
        "create_dir(images_path_train)\n",
        "create_dir(gt_path_train)\n",
        "create_dir(images_path_test)\n",
        "create_dir(gt_path_test)"
      ]
    },
    {
      "cell_type": "code",
      "execution_count": null,
      "metadata": {
        "id": "K9UW2Mt2kh_m"
      },
      "outputs": [],
      "source": [
        "def wbce(actual, predicted):\n",
        "    y_pred = K.clip(predicted, K.epsilon(), 1 - K.epsilon())\n",
        "    term_0 = (1 - actual) * K.log(1 - y_pred)\n",
        "    term_1 = class_weight * actual * K.log(y_pred + K.epsilon())\n",
        "    return -K.mean(term_0 + term_1, axis=0)"
      ]
    },
    {
      "cell_type": "code",
      "execution_count": null,
      "metadata": {
        "colab": {
          "base_uri": "https://localhost:8080/",
          "height": 35
        },
        "id": "lFCH4PBbSW4R",
        "outputId": "9748014f-72fb-4b9e-e0fa-798507500ed9"
      },
      "outputs": [
        {
          "data": {
            "application/vnd.google.colaboratory.intrinsic+json": {
              "type": "string"
            },
            "text/plain": [
              "'/content/datasets/chase_db_320_320_dice_bce_0_4__hvr_0_4_1/'"
            ]
          },
          "execution_count": 7,
          "metadata": {},
          "output_type": "execute_result"
        }
      ],
      "source": [
        "root_path"
      ]
    },
    {
      "cell_type": "code",
      "execution_count": null,
      "metadata": {
        "colab": {
          "base_uri": "https://localhost:8080/",
          "height": 35
        },
        "id": "SAWhPu-m--qT",
        "outputId": "7d31509d-ce6b-4c07-8305-69f251231115"
      },
      "outputs": [
        {
          "data": {
            "application/vnd.google.colaboratory.intrinsic+json": {
              "type": "string"
            },
            "text/plain": [
              "'/content/datasets/chase_db_320_320_dice_bce_0_4__hvr_0_4_1//training/images/'"
            ]
          },
          "execution_count": 8,
          "metadata": {},
          "output_type": "execute_result"
        }
      ],
      "source": [
        "images_path_train"
      ]
    },
    {
      "cell_type": "code",
      "execution_count": null,
      "metadata": {
        "id": "cNZJSlaoCLUx"
      },
      "outputs": [],
      "source": [
        "!cp /content/gdrive/MyDrive/medical_image_processing/fundal_image/datasets/chase_db/split_1/training/images/*.* {images_path_train}\n",
        "!cp /content/gdrive/MyDrive/medical_image_processing/fundal_image/datasets/chase_db/split_1//training/groundtruth1/*.* {gt_path_train}"
      ]
    },
    {
      "cell_type": "code",
      "execution_count": null,
      "metadata": {
        "id": "mJ_FsHnH_9Lh"
      },
      "outputs": [],
      "source": [
        "!cp /content/gdrive/MyDrive/medical_image_processing/fundal_image/datasets/chase_db/split_1/test/images/*.* {images_path_test}\n",
        "!cp /content/gdrive/MyDrive/medical_image_processing/fundal_image/datasets/chase_db/split_1/test/groundtruth1/*.* {gt_path_test}"
      ]
    },
    {
      "cell_type": "code",
      "execution_count": null,
      "metadata": {
        "colab": {
          "base_uri": "https://localhost:8080/"
        },
        "id": "ZZT5_8bp-rLQ",
        "outputId": "9ef06490-a3fa-48de-8a9d-2c11c439802f"
      },
      "outputs": [
        {
          "name": "stdout",
          "output_type": "stream",
          "text": [
            "Image_01L.jpg  Image_03R.jpg  Image_06L.jpg  Image_08R.jpg  Image_13R.jpg\n",
            "Image_01R.jpg  Image_04L.jpg  Image_06R.jpg  Image_09L.jpg  Image_14L.jpg\n",
            "Image_02L.jpg  Image_04R.jpg  Image_07L.jpg  Image_09R.jpg  Image_14R.jpg\n",
            "Image_02R.jpg  Image_05L.jpg  Image_07R.jpg  Image_10L.jpg\n",
            "Image_03L.jpg  Image_05R.jpg  Image_08L.jpg  Image_10R.jpg\n"
          ]
        }
      ],
      "source": [
        "!ls /content/gdrive/MyDrive/medical_image_processing/fundal_image/datasets//chase_db/split_1/training/images"
      ]
    },
    {
      "cell_type": "code",
      "execution_count": null,
      "metadata": {
        "id": "FkGqIQ7m68Jc"
      },
      "outputs": [],
      "source": [
        "# images_files, gt_files = get_filenames_sorted(images_path, gt_path)\n",
        "# print(len(images_files), len(gt_files))\n",
        "# # train_test_split\n",
        "# from sklearn.model_selection import train_test_split\n",
        "# label = [_xtrain.rsplit(\"/\", 1)[1].rsplit(\".\", 1)[0].rsplit(\"_\", 1)[1] for _xtrain in images_files] \n",
        "# xtrain, xtest, ytrain, ytest = train_test_split(images_files, gt_files, stratify=label,  test_size=test_percentage, random_state=seed)"
      ]
    },
    {
      "cell_type": "code",
      "execution_count": null,
      "metadata": {
        "id": "MNEcaT4MGrDE"
      },
      "outputs": [],
      "source": [
        "xtrain, ytrain = get_filenames_sorted(images_path_train, gt_path_train)\n",
        "xtest, ytest = get_filenames_sorted(images_path_test, gt_path_test)"
      ]
    },
    {
      "cell_type": "code",
      "execution_count": null,
      "metadata": {
        "colab": {
          "base_uri": "https://localhost:8080/"
        },
        "id": "kz1zp1UAd188",
        "outputId": "e853b6c7-7ea3-459c-bd0a-e1865df29b9c"
      },
      "outputs": [
        {
          "name": "stdout",
          "output_type": "stream",
          "text": [
            "23 5\n"
          ]
        }
      ],
      "source": [
        "print(len(xtrain), len(xtest))\n",
        "# print(label)"
      ]
    },
    {
      "cell_type": "code",
      "execution_count": null,
      "metadata": {
        "colab": {
          "base_uri": "https://localhost:8080/"
        },
        "id": "-7XwsJsOOsqE",
        "outputId": "f3026c0d-8a2c-4a86-d2ee-35f6eb9534f1"
      },
      "outputs": [
        {
          "data": {
            "text/plain": [
              "['/content/datasets/chase_db_320_320_dice_bce_0_4__hvr_0_4_1//training/images/Image_01L.jpg',\n",
              " '/content/datasets/chase_db_320_320_dice_bce_0_4__hvr_0_4_1//training/images/Image_01R.jpg',\n",
              " '/content/datasets/chase_db_320_320_dice_bce_0_4__hvr_0_4_1//training/images/Image_02L.jpg',\n",
              " '/content/datasets/chase_db_320_320_dice_bce_0_4__hvr_0_4_1//training/images/Image_02R.jpg',\n",
              " '/content/datasets/chase_db_320_320_dice_bce_0_4__hvr_0_4_1//training/images/Image_03L.jpg']"
            ]
          },
          "execution_count": 15,
          "metadata": {},
          "output_type": "execute_result"
        }
      ],
      "source": [
        "xtrain[:5]"
      ]
    },
    {
      "cell_type": "code",
      "execution_count": null,
      "metadata": {
        "colab": {
          "base_uri": "https://localhost:8080/"
        },
        "id": "Ybo3_b3GQT5c",
        "outputId": "f9b218c0-5890-4f80-e3bb-bee796d80101"
      },
      "outputs": [
        {
          "name": "stdout",
          "output_type": "stream",
          "text": [
            "23 5\n"
          ]
        },
        {
          "data": {
            "text/plain": [
              "['/content/datasets/chase_db_320_320_dice_bce_0_4__hvr_0_4_1//training/1st_manual/Image_01L_1stHO.png',\n",
              " '/content/datasets/chase_db_320_320_dice_bce_0_4__hvr_0_4_1//training/1st_manual/Image_01R_1stHO.png',\n",
              " '/content/datasets/chase_db_320_320_dice_bce_0_4__hvr_0_4_1//training/1st_manual/Image_02L_1stHO.png',\n",
              " '/content/datasets/chase_db_320_320_dice_bce_0_4__hvr_0_4_1//training/1st_manual/Image_02R_1stHO.png',\n",
              " '/content/datasets/chase_db_320_320_dice_bce_0_4__hvr_0_4_1//training/1st_manual/Image_03L_1stHO.png']"
            ]
          },
          "execution_count": 16,
          "metadata": {},
          "output_type": "execute_result"
        }
      ],
      "source": [
        "print(len(ytrain), len(ytest))\n",
        "ytrain[:5]"
      ]
    },
    {
      "cell_type": "code",
      "execution_count": null,
      "metadata": {
        "id": "U0r-aJAjXNIU"
      },
      "outputs": [],
      "source": [
        "from tqdm import tqdm\n",
        "import pandas as pd"
      ]
    },
    {
      "cell_type": "code",
      "execution_count": null,
      "metadata": {
        "id": "tbmupMNFkLan"
      },
      "outputs": [],
      "source": [
        "from albumentations import HorizontalFlip, VerticalFlip, Rotate\n",
        "import imageio\n",
        "\n",
        "def augment_data(images, masks, save_path, augment=True):\n",
        "    H = 960\n",
        "    W = 999\n",
        "\n",
        "    for idx, (x, y) in tqdm(enumerate(zip(images, masks)), total=len(images)):\n",
        "        \"\"\" Extracting names \"\"\"\n",
        "        name = x.rsplit(\"/\", 1)[1].rsplit(\".\", 1)[0]\n",
        "        print(name)\n",
        "        \"\"\" Reading image and mask \"\"\"\n",
        "        x = cv2.imread(x, cv2.IMREAD_COLOR)\n",
        "        y = cv2.imread(y, cv2.IMREAD_GRAYSCALE)\n",
        "        # y = imageio.mimread(y)[0]\n",
        "\n",
        "        if augment == True:\n",
        "            aug = HorizontalFlip(p=1.0)\n",
        "            augmented = aug(image=x, mask=y)\n",
        "            x1 = augmented[\"image\"]\n",
        "            y1 = augmented[\"mask\"]\n",
        "\n",
        "            aug = VerticalFlip(p=1.0)\n",
        "            augmented = aug(image=x, mask=y)\n",
        "            x2 = augmented[\"image\"]\n",
        "            y2 = augmented[\"mask\"]\n",
        "\n",
        "            aug = Rotate(limit=45, p=1.0)\n",
        "            augmented = aug(image=x, mask=y)\n",
        "            x3 = augmented[\"image\"]\n",
        "            y3 = augmented[\"mask\"]\n",
        "\n",
        "            X = [x, x1, x2, x3]\n",
        "            Y = [y, y1, y2, y3]\n",
        "\n",
        "            X = [x, x1, x2, x3]\n",
        "            Y = [y, y1, y2, y3]\n",
        "\n",
        "        else:\n",
        "            X = [x]\n",
        "            Y = [y]\n",
        "\n",
        "        index = 0\n",
        "        for i, m in zip(X, Y):\n",
        "            i = cv2.resize(i, (W, H))\n",
        "            m = cv2.resize(m, (W, H))\n",
        "\n",
        "            if len(X) == 1:\n",
        "                tmp_image_name = f\"{name}.png\"\n",
        "                tmp_mask_name = f\"{name}.png\"\n",
        "            else:\n",
        "                tmp_image_name = f\"{name}_{index}.png\"\n",
        "                tmp_mask_name = f\"{name}_{index}.png\"\n",
        "\n",
        "            image_path = os.path.join(save_path, \"image\", tmp_image_name)\n",
        "            mask_path = os.path.join(save_path, \"mask\", tmp_mask_name)\n",
        "\n",
        "            cv2.imwrite(image_path, i)\n",
        "            cv2.imwrite(mask_path, m)\n",
        "\n",
        "            index += 1"
      ]
    },
    {
      "cell_type": "code",
      "execution_count": null,
      "metadata": {
        "id": "6QoUYsNpkLfW"
      },
      "outputs": [],
      "source": [
        "create_dir(f\"{root_path}/augmented/train/image/\")\n",
        "create_dir(f\"{root_path}/augmented/train/mask/\")"
      ]
    },
    {
      "cell_type": "code",
      "execution_count": null,
      "metadata": {
        "colab": {
          "base_uri": "https://localhost:8080/"
        },
        "id": "QOGAnhjXkQ3m",
        "outputId": "780a05d5-a013-4754-8f15-96e21cc85265"
      },
      "outputs": [
        {
          "name": "stderr",
          "output_type": "stream",
          "text": [
            "\r  0%|          | 0/23 [00:00<?, ?it/s]"
          ]
        },
        {
          "name": "stdout",
          "output_type": "stream",
          "text": [
            "Image_01L\n"
          ]
        },
        {
          "name": "stderr",
          "output_type": "stream",
          "text": [
            "\r  4%|▍         | 1/23 [00:00<00:05,  3.75it/s]"
          ]
        },
        {
          "name": "stdout",
          "output_type": "stream",
          "text": [
            "Image_01R\n"
          ]
        },
        {
          "name": "stderr",
          "output_type": "stream",
          "text": [
            " 13%|█▎        | 3/23 [00:00<00:04,  4.61it/s]"
          ]
        },
        {
          "name": "stdout",
          "output_type": "stream",
          "text": [
            "Image_02L\n",
            "Image_02R\n"
          ]
        },
        {
          "name": "stderr",
          "output_type": "stream",
          "text": [
            "\r 17%|█▋        | 4/23 [00:00<00:03,  4.82it/s]"
          ]
        },
        {
          "name": "stdout",
          "output_type": "stream",
          "text": [
            "Image_03L\n"
          ]
        },
        {
          "name": "stderr",
          "output_type": "stream",
          "text": [
            "\r 22%|██▏       | 5/23 [00:01<00:03,  4.87it/s]"
          ]
        },
        {
          "name": "stdout",
          "output_type": "stream",
          "text": [
            "Image_03R\n"
          ]
        },
        {
          "name": "stderr",
          "output_type": "stream",
          "text": [
            " 30%|███       | 7/23 [00:01<00:03,  4.91it/s]"
          ]
        },
        {
          "name": "stdout",
          "output_type": "stream",
          "text": [
            "Image_04L\n",
            "Image_04R\n"
          ]
        },
        {
          "name": "stderr",
          "output_type": "stream",
          "text": [
            " 39%|███▉      | 9/23 [00:01<00:02,  4.91it/s]"
          ]
        },
        {
          "name": "stdout",
          "output_type": "stream",
          "text": [
            "Image_05L\n",
            "Image_05R\n"
          ]
        },
        {
          "name": "stderr",
          "output_type": "stream",
          "text": [
            " 48%|████▊     | 11/23 [00:02<00:02,  4.89it/s]"
          ]
        },
        {
          "name": "stdout",
          "output_type": "stream",
          "text": [
            "Image_06L\n"
          ]
        },
        {
          "name": "stderr",
          "output_type": "stream",
          "text": [
            " 57%|█████▋    | 13/23 [00:02<00:02,  4.95it/s]"
          ]
        },
        {
          "name": "stdout",
          "output_type": "stream",
          "text": [
            "Image_06R\n",
            "Image_07L\n"
          ]
        },
        {
          "name": "stderr",
          "output_type": "stream",
          "text": [
            " 65%|██████▌   | 15/23 [00:03<00:01,  5.07it/s]"
          ]
        },
        {
          "name": "stdout",
          "output_type": "stream",
          "text": [
            "Image_07R\n",
            "Image_08L\n",
            "Image_08R\n"
          ]
        },
        {
          "name": "stderr",
          "output_type": "stream",
          "text": [
            "\r 70%|██████▉   | 16/23 [00:03<00:01,  5.11it/s]"
          ]
        },
        {
          "name": "stdout",
          "output_type": "stream",
          "text": [
            "Image_09L\n"
          ]
        },
        {
          "name": "stderr",
          "output_type": "stream",
          "text": [
            "\r 74%|███████▍  | 17/23 [00:03<00:01,  5.05it/s]"
          ]
        },
        {
          "name": "stdout",
          "output_type": "stream",
          "text": [
            "Image_09R\n"
          ]
        },
        {
          "name": "stderr",
          "output_type": "stream",
          "text": [
            "\r 78%|███████▊  | 18/23 [00:03<00:00,  5.01it/s]"
          ]
        },
        {
          "name": "stdout",
          "output_type": "stream",
          "text": [
            "Image_10L\n"
          ]
        },
        {
          "name": "stderr",
          "output_type": "stream",
          "text": [
            " 87%|████████▋ | 20/23 [00:04<00:00,  5.01it/s]"
          ]
        },
        {
          "name": "stdout",
          "output_type": "stream",
          "text": [
            "Image_10R\n",
            "Image_13R\n"
          ]
        },
        {
          "name": "stderr",
          "output_type": "stream",
          "text": [
            "\r 91%|█████████▏| 21/23 [00:04<00:00,  5.16it/s]"
          ]
        },
        {
          "name": "stdout",
          "output_type": "stream",
          "text": [
            "Image_14L\n"
          ]
        },
        {
          "name": "stderr",
          "output_type": "stream",
          "text": [
            "\r 96%|█████████▌| 22/23 [00:04<00:00,  5.03it/s]"
          ]
        },
        {
          "name": "stdout",
          "output_type": "stream",
          "text": [
            "Image_14R\n"
          ]
        },
        {
          "name": "stderr",
          "output_type": "stream",
          "text": [
            "100%|██████████| 23/23 [00:04<00:00,  4.91it/s]\n"
          ]
        }
      ],
      "source": [
        "augment_data(xtrain, ytrain, f\"{root_path}/augmented/train/\", True )"
      ]
    },
    {
      "cell_type": "code",
      "execution_count": null,
      "metadata": {
        "id": "4jEJe9f-kQ6l"
      },
      "outputs": [],
      "source": [
        "xtrain, ytrain = get_filenames_sorted(f\"{root_path}/augmented/train/image\", f\"{root_path}/augmented/train/mask\")"
      ]
    },
    {
      "cell_type": "code",
      "execution_count": null,
      "metadata": {
        "colab": {
          "base_uri": "https://localhost:8080/"
        },
        "id": "YVoOmcQDkRCd",
        "outputId": "c44b9822-6996-4d11-a947-63f3259f4e8a"
      },
      "outputs": [
        {
          "name": "stdout",
          "output_type": "stream",
          "text": [
            "92 92\n"
          ]
        }
      ],
      "source": [
        "print(len(xtrain), len(ytrain))"
      ]
    },
    {
      "cell_type": "code",
      "execution_count": null,
      "metadata": {
        "id": "eFN3m8WgEyUX"
      },
      "outputs": [],
      "source": [
        "from sklearn.feature_extraction import image\n",
        "import numpy as np\n",
        "from PIL import Image\n",
        "from tqdm import tqdm\n",
        "import pandas as pd\n",
        "import cv2\n",
        "\n",
        "from fundal_image.utils import  create_dir\n",
        "from utils import get_filenames_sorted\n",
        "\n",
        "def generate_patches_images_only(image_files,\n",
        "                                 save_path_image,\n",
        "                                 max_patch=30,\n",
        "                                 dataset_name=\"\",\n",
        "                                 patch_size=(512, 512),\n",
        "                                 stride=None,\n",
        "                                 padding=\"zeros\",\n",
        "                                 exclude_boundary=True,\n",
        "                                 zero_padding_size=(0, 0),\n",
        "                                 gt_files=None,\n",
        "                                 save_path_gt=None\n",
        "                                 ):\n",
        "    \n",
        "    def patches_with_stride(image_filename, im, _patch_size, _stride, gt_name=None, gt=None):\n",
        "        patches = []\n",
        "        gt_patches = []\n",
        "        # print(\"Image size\", im.shape)\n",
        "        metadata_list = []\n",
        "        columns = [\"image_filename\", \"row\", \"col\", \"patch_height\", \"patch_width\", \"stride\", \"num_fg_pixels\"]\n",
        "        if padding == \"zeros\":\n",
        "            num_zero_padding_height = im.shape[0] % patch_size[0]\n",
        "            num_zero_padding_width = im.shape[1] % patch_size[1]\n",
        "\n",
        "            if num_zero_padding_height > 0:\n",
        "                num_zero_padding_height = _patch_size[0] - num_zero_padding_height\n",
        "\n",
        "            if num_zero_padding_width > 0:\n",
        "                num_zero_padding_width = _patch_size[1] - num_zero_padding_width\n",
        "\n",
        "            height_odd = 0 if (num_zero_padding_height % 2) == 0 else 1\n",
        "            width_odd = 0 if (num_zero_padding_width % 2) == 0 else 1\n",
        "        else:\n",
        "            raise Exception(f\"Value for argument padding is not mentioned\")\n",
        "\n",
        "        # print(f\"Image shape {im.shape}. Patch size {_patch_size}.  Num Zero padding rows {num_zero_padding_height}. Num zero padding cols {num_zero_padding_width}\")\n",
        "        im = np.pad(im, ((num_zero_padding_height // 2, num_zero_padding_height // 2 + height_odd),\n",
        "                                (num_zero_padding_width // 2, num_zero_padding_width // 2 + width_odd),\n",
        "                                (0, 0)\n",
        "                                )\n",
        "                           )\n",
        "        if gt is not None:\n",
        "            if len(gt.shape) == 3:\n",
        "                gt = np.pad(gt, ((num_zero_padding_height // 2, num_zero_padding_height // 2 + height_odd),\n",
        "                                 (num_zero_padding_width // 2, num_zero_padding_width // 2 + width_odd),\n",
        "                                 (0, 0)\n",
        "                                 )\n",
        "                            )\n",
        "            else:\n",
        "                gt = np.pad(gt, ((num_zero_padding_height // 2, num_zero_padding_height // 2 + height_odd),\n",
        "                                 (num_zero_padding_width // 2, num_zero_padding_width // 2 + width_odd)\n",
        "                                 )\n",
        "                            )\n",
        "\n",
        "        im_gray = cv2.cvtColor(im, cv2.COLOR_BGR2GRAY)\n",
        "        # print(f\"image shape after padding {im.shape}\")\n",
        "        for row in range(0, im.shape[0], _stride):\n",
        "            for col in range(0, im.shape[1], _stride):\n",
        "                if row + _patch_size[0] >= im.shape[0]:\n",
        "                    row = im.shape[0] - _patch_size[0]\n",
        "                if col + _patch_size[1] >= im.shape[1]:\n",
        "                    col = im.shape[1] - _patch_size[1]\n",
        "                image_patch = im[row:row + _patch_size[0], col:col + _patch_size[1]]\n",
        "                num_fg_pixels = np.sum(im_gray[row:row + _patch_size[0], col:col + _patch_size[1]] > 0)\n",
        "                if gt is not None:\n",
        "                    gt_patch = gt[row:row + _patch_size[0], col:col + _patch_size[1]]\n",
        "                if num_fg_pixels > 0:\n",
        "                    patches.append(image_patch)\n",
        "                    metadata_list.append([image_filename, row, col, _patch_size[0], _patch_size[1], _stride, num_fg_pixels])\n",
        "                    if gt is not None:\n",
        "                        gt_patches.append(gt_patch)\n",
        "\n",
        "\n",
        "        metadata_df = pd.DataFrame(metadata_list, columns=columns )\n",
        "        patches_np = np.asarray(patches)\n",
        "        if gt is not None:\n",
        "            gt_patches_np = np.asarray(gt_patches)\n",
        "        else:\n",
        "            gt_patches_np = None\n",
        "\n",
        "        return patches_np, metadata_df, gt_patches_np\n",
        "\n",
        "    num_images = len(image_files)\n",
        "    print(f\"Generating patches for {num_images} images\")\n",
        "    metadata_df = None\n",
        "    create_dir(save_path_image)\n",
        "    im_patches_dict = dict()\n",
        "    gt_patches_dict = dict()\n",
        "    for idx, image_filename in tqdm(enumerate(image_files), total=len(image_files)):\n",
        "        image_filename = image_filename.replace(\"\\\\\", \"/\")\n",
        "        # print(\"Image file\", image_filename)\n",
        "        name = image_filename.rsplit(\"/\", 1)[1].rsplit(\".\", 1)[0]\n",
        "        # image1 = Image.open(x)\n",
        "        # image_array = np.asarray(image1)\n",
        "        image_array = cv2.imread(image_filename)\n",
        "\n",
        "        if gt_files is not None and len(gt_files) > 0:\n",
        "            gt_filename = gt_files[idx]\n",
        "            gt_filename = gt_filename.replace(\"\\\\\", \"/\")\n",
        "            # print(\"Image file\", image_filename)\n",
        "            gt_name = gt_filename.rsplit(\"/\", 1)[1].rsplit(\".\", 1)[0]\n",
        "\n",
        "\n",
        "            gt = cv2.imread(gt_filename)\n",
        "            # gt = np.asarray(Image.open(gt_filename))\n",
        "            # print(gt.dtype)\n",
        "            if len(gt.shape) == 3:\n",
        "                gt = cv2.cvtColor(gt, cv2.COLOR_BGR2GRAY)\n",
        "\n",
        "        if not exclude_boundary:\n",
        "            # add zero padding\n",
        "            image_array = np.pad(image_array, zero_padding_size)\n",
        "            gt = np.pad(gt, zero_padding_size)\n",
        "\n",
        "        if stride is None:\n",
        "            image_patches = image.extract_patches_2d(image_array, patch_size, max_patches=max_patch, random_state=42)\n",
        "        else:\n",
        "            ret_value = patches_with_stride(image_filename, image_array, patch_size, stride, gt_name, gt)\n",
        "            if ret_value is None :\n",
        "                raise Exception(f\"Could not create patches for {image_filename}\")\n",
        "            else:\n",
        "                image_patches, _metadata_df, gt_patches = ret_value[0], ret_value[1], ret_value[2]\n",
        "            if metadata_df is not None:\n",
        "                metadata_df = metadata_df.append(_metadata_df)\n",
        "            else:\n",
        "                metadata_df = _metadata_df\n",
        "        im_patches_dict[name] = image_patches\n",
        "        gt_patches_dict[name] = gt_patches\n",
        "\n",
        "        # print(gt_patches.dtype)\n",
        "\n",
        "\n",
        "        if save_path_image is not None and len(save_path_image) > 0:\n",
        "            count = 0\n",
        "            for i in range(len(image_patches)):\n",
        "                # data = Image.fromarray(image_patches[i])\n",
        "                # print(save_path_image, dataset_name, name)\n",
        "                image_path_file = f\"{save_path_image}/{dataset_name}_{name}_{count}.png\"\n",
        "                # print(f\"Saving patches to {image_path_file}\")\n",
        "                cv2.imwrite(image_path_file, image_patches[i])\n",
        "\n",
        "                if gt_patches is not None and save_path_gt is not None:\n",
        "                    gt_path_file = f\"{save_path_gt}/{dataset_name}_{name}_{count}.png\"\n",
        "                    # print(gt_path_file)\n",
        "                    # print(type(gt_patches))\n",
        "                    # print(gt_patches[i].shape)\n",
        "                    # print(gt_patches[i].dtype)\n",
        "                    # print(np.min(gt_patches[i]), np.max(gt_patches[i]))\n",
        "                    cv2.imwrite(gt_path_file, gt_patches[i])\n",
        "                count += 1\n",
        "\n",
        "    return im_patches_dict, metadata_df, gt_patches_dict"
      ]
    },
    {
      "cell_type": "code",
      "execution_count": null,
      "metadata": {
        "colab": {
          "base_uri": "https://localhost:8080/"
        },
        "id": "n8qZpZY_CNP0",
        "outputId": "c9ddabfb-bb57-4179-83e4-44eaf13e445d"
      },
      "outputs": [
        {
          "name": "stdout",
          "output_type": "stream",
          "text": [
            "Generating patches for 92 images\n"
          ]
        },
        {
          "name": "stderr",
          "output_type": "stream",
          "text": [
            "100%|██████████| 92/92 [00:07<00:00, 12.48it/s]\n"
          ]
        }
      ],
      "source": [
        "num_pixels_to_add = [0, 0]\n",
        "if (image_sizes[dataset_name][0] % patch_size[0]) > 0:\n",
        "    num_pixels_to_add[0] = ((image_sizes[\"drive\"][0] // patch_size[0]) + 1) * patch_size[0]\n",
        "    num_pixels_to_add[1] = ((image_sizes[\"drive\"][1] // patch_size[1]) + 1) * patch_size[1]\n",
        "\n",
        "split_name = \"split_2\"\n",
        "data_path = root_path\n",
        "splits =[\"train\",\"test\"]\n",
        "\n",
        "\n",
        "split = \"train\"\n",
        "#for split in splits:\n",
        "image_patches_path = f\"{data_path}/{split_name}/{split}/image/\"\n",
        "create_dir(image_patches_path)\n",
        "gt_patches_path = f\"{data_path}/{split_name}/{split}/mask/\"\n",
        "create_dir(gt_patches_path)\n",
        "im_patches_dict_train, metadata_train_df, gt_patches_dict_train = generate_patches_images_only(xtrain,\n",
        "                                                                image_patches_path,\n",
        "                                                                patch_size=patch_size,\n",
        "                                                                stride=stride,\n",
        "                                                                zero_padding_size=num_pixels_to_add,\n",
        "                                                                gt_files=ytrain,\n",
        "                                                                save_path_gt=gt_patches_path)\n",
        "metadata_train_df.to_csv(f\"{data_path}/{split_name}/image_patches_{stride}_{stride}_{split}.csv\", index=False)\n",
        "\n"
      ]
    },
    {
      "cell_type": "code",
      "execution_count": null,
      "metadata": {
        "colab": {
          "base_uri": "https://localhost:8080/"
        },
        "id": "T1Bd3CHcow_C",
        "outputId": "442f1b2e-2cec-4016-ae20-bf00d1d13717"
      },
      "outputs": [
        {
          "name": "stdout",
          "output_type": "stream",
          "text": [
            "Generating patches for 5 images\n"
          ]
        },
        {
          "name": "stderr",
          "output_type": "stream",
          "text": [
            "100%|██████████| 5/5 [00:00<00:00, 14.74it/s]\n"
          ]
        }
      ],
      "source": [
        "split = \"test\"\n",
        "#for split in splits:\n",
        "image_patches_path = f\"{data_path}/{split_name}/{split}/image/\"\n",
        "create_dir(image_patches_path)\n",
        "gt_patches_path = f\"{data_path}/{split_name}/{split}/mask/\"\n",
        "create_dir(gt_patches_path)\n",
        "im_patches_dict_test, metadata_test_df, gt_patches_dict_test = generate_patches_images_only(xtest,\n",
        "                                                                image_patches_path,\n",
        "                                                                patch_size=patch_size,\n",
        "                                                                stride=stride,\n",
        "                                                                zero_padding_size=num_pixels_to_add,\n",
        "                                                                gt_files=ytest,\n",
        "                                                                save_path_gt=gt_patches_path)\n",
        "metadata_test_df.to_csv(f\"{data_path}/{split_name}/image_patches_{patch_height}_{stride}_{split}.csv\", index=False)\n"
      ]
    },
    {
      "cell_type": "code",
      "execution_count": null,
      "metadata": {
        "colab": {
          "base_uri": "https://localhost:8080/"
        },
        "id": "97Y2QDV0V30I",
        "outputId": "71dde970-a01a-4360-c540-0735815f4e1e"
      },
      "outputs": [
        {
          "data": {
            "text/plain": [
              "(60, 7)"
            ]
          },
          "execution_count": 26,
          "metadata": {},
          "output_type": "execute_result"
        }
      ],
      "source": [
        "metadata_test_df.shape"
      ]
    },
    {
      "cell_type": "code",
      "execution_count": null,
      "metadata": {
        "colab": {
          "base_uri": "https://localhost:8080/"
        },
        "id": "LwBcnfocO3Bj",
        "outputId": "c48f7374-6fd6-4bf0-9daf-438b164a28de"
      },
      "outputs": [
        {
          "data": {
            "text/plain": [
              "(1104, 7)"
            ]
          },
          "execution_count": 27,
          "metadata": {},
          "output_type": "execute_result"
        }
      ],
      "source": [
        "metadata_train_df.shape"
      ]
    },
    {
      "cell_type": "code",
      "execution_count": null,
      "metadata": {
        "colab": {
          "base_uri": "https://localhost:8080/",
          "height": 206
        },
        "id": "IxsMtp6lLESy",
        "outputId": "136bba50-054a-46cd-ea6d-ad2cf3bbb697"
      },
      "outputs": [
        {
          "data": {
            "text/html": [
              "\n",
              "  <div id=\"df-7ce44ac7-1d48-4ac1-9aea-26d91a703ca2\">\n",
              "    <div class=\"colab-df-container\">\n",
              "      <div>\n",
              "<style scoped>\n",
              "    .dataframe tbody tr th:only-of-type {\n",
              "        vertical-align: middle;\n",
              "    }\n",
              "\n",
              "    .dataframe tbody tr th {\n",
              "        vertical-align: top;\n",
              "    }\n",
              "\n",
              "    .dataframe thead th {\n",
              "        text-align: right;\n",
              "    }\n",
              "</style>\n",
              "<table border=\"1\" class=\"dataframe\">\n",
              "  <thead>\n",
              "    <tr style=\"text-align: right;\">\n",
              "      <th></th>\n",
              "      <th>image_filename</th>\n",
              "      <th>row</th>\n",
              "      <th>col</th>\n",
              "      <th>patch_height</th>\n",
              "      <th>patch_width</th>\n",
              "      <th>stride</th>\n",
              "      <th>num_fg_pixels</th>\n",
              "    </tr>\n",
              "  </thead>\n",
              "  <tbody>\n",
              "    <tr>\n",
              "      <th>0</th>\n",
              "      <td>/content/datasets/chase_db_320_320_dice_bce_0_...</td>\n",
              "      <td>0</td>\n",
              "      <td>0</td>\n",
              "      <td>320</td>\n",
              "      <td>320</td>\n",
              "      <td>320</td>\n",
              "      <td>13890</td>\n",
              "    </tr>\n",
              "    <tr>\n",
              "      <th>1</th>\n",
              "      <td>/content/datasets/chase_db_320_320_dice_bce_0_...</td>\n",
              "      <td>0</td>\n",
              "      <td>320</td>\n",
              "      <td>320</td>\n",
              "      <td>320</td>\n",
              "      <td>320</td>\n",
              "      <td>86423</td>\n",
              "    </tr>\n",
              "    <tr>\n",
              "      <th>2</th>\n",
              "      <td>/content/datasets/chase_db_320_320_dice_bce_0_...</td>\n",
              "      <td>0</td>\n",
              "      <td>640</td>\n",
              "      <td>320</td>\n",
              "      <td>320</td>\n",
              "      <td>320</td>\n",
              "      <td>84926</td>\n",
              "    </tr>\n",
              "    <tr>\n",
              "      <th>3</th>\n",
              "      <td>/content/datasets/chase_db_320_320_dice_bce_0_...</td>\n",
              "      <td>0</td>\n",
              "      <td>960</td>\n",
              "      <td>320</td>\n",
              "      <td>320</td>\n",
              "      <td>320</td>\n",
              "      <td>11629</td>\n",
              "    </tr>\n",
              "    <tr>\n",
              "      <th>4</th>\n",
              "      <td>/content/datasets/chase_db_320_320_dice_bce_0_...</td>\n",
              "      <td>320</td>\n",
              "      <td>0</td>\n",
              "      <td>320</td>\n",
              "      <td>320</td>\n",
              "      <td>320</td>\n",
              "      <td>45442</td>\n",
              "    </tr>\n",
              "  </tbody>\n",
              "</table>\n",
              "</div>\n",
              "      <button class=\"colab-df-convert\" onclick=\"convertToInteractive('df-7ce44ac7-1d48-4ac1-9aea-26d91a703ca2')\"\n",
              "              title=\"Convert this dataframe to an interactive table.\"\n",
              "              style=\"display:none;\">\n",
              "        \n",
              "  <svg xmlns=\"http://www.w3.org/2000/svg\" height=\"24px\"viewBox=\"0 0 24 24\"\n",
              "       width=\"24px\">\n",
              "    <path d=\"M0 0h24v24H0V0z\" fill=\"none\"/>\n",
              "    <path d=\"M18.56 5.44l.94 2.06.94-2.06 2.06-.94-2.06-.94-.94-2.06-.94 2.06-2.06.94zm-11 1L8.5 8.5l.94-2.06 2.06-.94-2.06-.94L8.5 2.5l-.94 2.06-2.06.94zm10 10l.94 2.06.94-2.06 2.06-.94-2.06-.94-.94-2.06-.94 2.06-2.06.94z\"/><path d=\"M17.41 7.96l-1.37-1.37c-.4-.4-.92-.59-1.43-.59-.52 0-1.04.2-1.43.59L10.3 9.45l-7.72 7.72c-.78.78-.78 2.05 0 2.83L4 21.41c.39.39.9.59 1.41.59.51 0 1.02-.2 1.41-.59l7.78-7.78 2.81-2.81c.8-.78.8-2.07 0-2.86zM5.41 20L4 18.59l7.72-7.72 1.47 1.35L5.41 20z\"/>\n",
              "  </svg>\n",
              "      </button>\n",
              "      \n",
              "  <style>\n",
              "    .colab-df-container {\n",
              "      display:flex;\n",
              "      flex-wrap:wrap;\n",
              "      gap: 12px;\n",
              "    }\n",
              "\n",
              "    .colab-df-convert {\n",
              "      background-color: #E8F0FE;\n",
              "      border: none;\n",
              "      border-radius: 50%;\n",
              "      cursor: pointer;\n",
              "      display: none;\n",
              "      fill: #1967D2;\n",
              "      height: 32px;\n",
              "      padding: 0 0 0 0;\n",
              "      width: 32px;\n",
              "    }\n",
              "\n",
              "    .colab-df-convert:hover {\n",
              "      background-color: #E2EBFA;\n",
              "      box-shadow: 0px 1px 2px rgba(60, 64, 67, 0.3), 0px 1px 3px 1px rgba(60, 64, 67, 0.15);\n",
              "      fill: #174EA6;\n",
              "    }\n",
              "\n",
              "    [theme=dark] .colab-df-convert {\n",
              "      background-color: #3B4455;\n",
              "      fill: #D2E3FC;\n",
              "    }\n",
              "\n",
              "    [theme=dark] .colab-df-convert:hover {\n",
              "      background-color: #434B5C;\n",
              "      box-shadow: 0px 1px 3px 1px rgba(0, 0, 0, 0.15);\n",
              "      filter: drop-shadow(0px 1px 2px rgba(0, 0, 0, 0.3));\n",
              "      fill: #FFFFFF;\n",
              "    }\n",
              "  </style>\n",
              "\n",
              "      <script>\n",
              "        const buttonEl =\n",
              "          document.querySelector('#df-7ce44ac7-1d48-4ac1-9aea-26d91a703ca2 button.colab-df-convert');\n",
              "        buttonEl.style.display =\n",
              "          google.colab.kernel.accessAllowed ? 'block' : 'none';\n",
              "\n",
              "        async function convertToInteractive(key) {\n",
              "          const element = document.querySelector('#df-7ce44ac7-1d48-4ac1-9aea-26d91a703ca2');\n",
              "          const dataTable =\n",
              "            await google.colab.kernel.invokeFunction('convertToInteractive',\n",
              "                                                     [key], {});\n",
              "          if (!dataTable) return;\n",
              "\n",
              "          const docLinkHtml = 'Like what you see? Visit the ' +\n",
              "            '<a target=\"_blank\" href=https://colab.research.google.com/notebooks/data_table.ipynb>data table notebook</a>'\n",
              "            + ' to learn more about interactive tables.';\n",
              "          element.innerHTML = '';\n",
              "          dataTable['output_type'] = 'display_data';\n",
              "          await google.colab.output.renderOutput(dataTable, element);\n",
              "          const docLink = document.createElement('div');\n",
              "          docLink.innerHTML = docLinkHtml;\n",
              "          element.appendChild(docLink);\n",
              "        }\n",
              "      </script>\n",
              "    </div>\n",
              "  </div>\n",
              "  "
            ],
            "text/plain": [
              "                                      image_filename  row  col  patch_height  \\\n",
              "0  /content/datasets/chase_db_320_320_dice_bce_0_...    0    0           320   \n",
              "1  /content/datasets/chase_db_320_320_dice_bce_0_...    0  320           320   \n",
              "2  /content/datasets/chase_db_320_320_dice_bce_0_...    0  640           320   \n",
              "3  /content/datasets/chase_db_320_320_dice_bce_0_...    0  960           320   \n",
              "4  /content/datasets/chase_db_320_320_dice_bce_0_...  320    0           320   \n",
              "\n",
              "   patch_width  stride  num_fg_pixels  \n",
              "0          320     320          13890  \n",
              "1          320     320          86423  \n",
              "2          320     320          84926  \n",
              "3          320     320          11629  \n",
              "4          320     320          45442  "
            ]
          },
          "execution_count": 28,
          "metadata": {},
          "output_type": "execute_result"
        }
      ],
      "source": [
        "metadata_train_df.head()"
      ]
    },
    {
      "cell_type": "code",
      "execution_count": null,
      "metadata": {
        "id": "DLrslUO4gvQp"
      },
      "outputs": [],
      "source": [
        "import glob\n",
        "split = \"test\"\n",
        "image_patches_path = f\"{data_path}/{split_name}/{split}/image/\"\n",
        "\n",
        "reconstructed_original_path = f\"{data_path}/{split_name}/reconstructed/{split}/image\"\n",
        "create_dir(reconstructed_original_path)\n",
        "reconstruct_patches(im_patches_dict_test,\n",
        "                    metadata_test_df,\n",
        "                    reconstructed_original_path\n",
        "                    )\n"
      ]
    },
    {
      "cell_type": "code",
      "execution_count": null,
      "metadata": {
        "colab": {
          "base_uri": "https://localhost:8080/"
        },
        "id": "n8gpCUhvZY8m",
        "outputId": "780b9334-0955-4dbd-846b-24796e51548c"
      },
      "outputs": [
        {
          "name": "stdout",
          "output_type": "stream",
          "text": [
            "['Image_11L', 'Image_11R', 'Image_12L', 'Image_12R', 'Image_13L']\n"
          ]
        }
      ],
      "source": [
        "print(list(gt_patches_dict_test.keys()))"
      ]
    },
    {
      "cell_type": "code",
      "execution_count": null,
      "metadata": {
        "colab": {
          "base_uri": "https://localhost:8080/"
        },
        "id": "tNONp29kZm8q",
        "outputId": "dd89eb4a-667a-4e42-b210-6a0192cc63e0"
      },
      "outputs": [
        {
          "data": {
            "text/plain": [
              "numpy.ndarray"
            ]
          },
          "execution_count": 31,
          "metadata": {},
          "output_type": "execute_result"
        }
      ],
      "source": [
        "type(gt_patches_dict_test[\"Image_11L\"])"
      ]
    },
    {
      "cell_type": "code",
      "execution_count": null,
      "metadata": {
        "id": "_TkWlhCKF7o5"
      },
      "outputs": [],
      "source": [
        "reconstructed_gt_path = f\"{data_path}/{split_name}/reconstructed/{split}/mask\"\n",
        "\n",
        "create_dir(reconstructed_gt_path)\n",
        "reconstruct_patches(gt_patches_dict_test,\n",
        "                    metadata_test_df,\n",
        "                    reconstructed_gt_path,\n",
        "                    )\n"
      ]
    },
    {
      "cell_type": "code",
      "execution_count": null,
      "metadata": {
        "colab": {
          "base_uri": "https://localhost:8080/"
        },
        "id": "Y5NJeG-731yQ",
        "outputId": "3561c4e3-44da-4249-a971-ddded518dff3"
      },
      "outputs": [
        {
          "name": "stdout",
          "output_type": "stream",
          "text": [
            "['Image_11L', 'Image_11R', 'Image_12L', 'Image_12R', 'Image_13L']\n"
          ]
        }
      ],
      "source": [
        "print([k for k in im_patches_dict_test.keys()])"
      ]
    },
    {
      "cell_type": "markdown",
      "metadata": {
        "id": "_WctlpFt6hx4"
      },
      "source": [
        "### Construct the Model:"
      ]
    },
    {
      "cell_type": "code",
      "execution_count": null,
      "metadata": {
        "colab": {
          "base_uri": "https://localhost:8080/"
        },
        "id": "epeNiZGQ5gSW",
        "outputId": "725ba69d-5a43-4cf4-fb6b-ff2b33d30999"
      },
      "outputs": [
        {
          "name": "stdout",
          "output_type": "stream",
          "text": [
            "Model: \"UNET\"\n",
            "__________________________________________________________________________________________________\n",
            " Layer (type)                   Output Shape         Param #     Connected to                     \n",
            "==================================================================================================\n",
            " input_1 (InputLayer)           [(None, 512, 512, 3  0           []                               \n",
            "                                )]                                                                \n",
            "                                                                                                  \n",
            " conv2d (Conv2D)                (None, 512, 512, 64  1792        ['input_1[0][0]']                \n",
            "                                )                                                                 \n",
            "                                                                                                  \n",
            " batch_normalization (BatchNorm  (None, 512, 512, 64  256        ['conv2d[0][0]']                 \n",
            " alization)                     )                                                                 \n",
            "                                                                                                  \n",
            " activation (Activation)        (None, 512, 512, 64  0           ['batch_normalization[0][0]']    \n",
            "                                )                                                                 \n",
            "                                                                                                  \n",
            " conv2d_1 (Conv2D)              (None, 512, 512, 64  36928       ['activation[0][0]']             \n",
            "                                )                                                                 \n",
            "                                                                                                  \n",
            " batch_normalization_1 (BatchNo  (None, 512, 512, 64  256        ['conv2d_1[0][0]']               \n",
            " rmalization)                   )                                                                 \n",
            "                                                                                                  \n",
            " activation_1 (Activation)      (None, 512, 512, 64  0           ['batch_normalization_1[0][0]']  \n",
            "                                )                                                                 \n",
            "                                                                                                  \n",
            " max_pooling2d (MaxPooling2D)   (None, 256, 256, 64  0           ['activation_1[0][0]']           \n",
            "                                )                                                                 \n",
            "                                                                                                  \n",
            " conv2d_2 (Conv2D)              (None, 256, 256, 12  73856       ['max_pooling2d[0][0]']          \n",
            "                                8)                                                                \n",
            "                                                                                                  \n",
            " batch_normalization_2 (BatchNo  (None, 256, 256, 12  512        ['conv2d_2[0][0]']               \n",
            " rmalization)                   8)                                                                \n",
            "                                                                                                  \n",
            " activation_2 (Activation)      (None, 256, 256, 12  0           ['batch_normalization_2[0][0]']  \n",
            "                                8)                                                                \n",
            "                                                                                                  \n",
            " conv2d_3 (Conv2D)              (None, 256, 256, 12  147584      ['activation_2[0][0]']           \n",
            "                                8)                                                                \n",
            "                                                                                                  \n",
            " batch_normalization_3 (BatchNo  (None, 256, 256, 12  512        ['conv2d_3[0][0]']               \n",
            " rmalization)                   8)                                                                \n",
            "                                                                                                  \n",
            " activation_3 (Activation)      (None, 256, 256, 12  0           ['batch_normalization_3[0][0]']  \n",
            "                                8)                                                                \n",
            "                                                                                                  \n",
            " max_pooling2d_1 (MaxPooling2D)  (None, 128, 128, 12  0          ['activation_3[0][0]']           \n",
            "                                8)                                                                \n",
            "                                                                                                  \n",
            " conv2d_4 (Conv2D)              (None, 128, 128, 25  295168      ['max_pooling2d_1[0][0]']        \n",
            "                                6)                                                                \n",
            "                                                                                                  \n",
            " batch_normalization_4 (BatchNo  (None, 128, 128, 25  1024       ['conv2d_4[0][0]']               \n",
            " rmalization)                   6)                                                                \n",
            "                                                                                                  \n",
            " activation_4 (Activation)      (None, 128, 128, 25  0           ['batch_normalization_4[0][0]']  \n",
            "                                6)                                                                \n",
            "                                                                                                  \n",
            " conv2d_5 (Conv2D)              (None, 128, 128, 25  590080      ['activation_4[0][0]']           \n",
            "                                6)                                                                \n",
            "                                                                                                  \n",
            " batch_normalization_5 (BatchNo  (None, 128, 128, 25  1024       ['conv2d_5[0][0]']               \n",
            " rmalization)                   6)                                                                \n",
            "                                                                                                  \n",
            " activation_5 (Activation)      (None, 128, 128, 25  0           ['batch_normalization_5[0][0]']  \n",
            "                                6)                                                                \n",
            "                                                                                                  \n",
            " max_pooling2d_2 (MaxPooling2D)  (None, 64, 64, 256)  0          ['activation_5[0][0]']           \n",
            "                                                                                                  \n",
            " conv2d_6 (Conv2D)              (None, 64, 64, 512)  1180160     ['max_pooling2d_2[0][0]']        \n",
            "                                                                                                  \n",
            " batch_normalization_6 (BatchNo  (None, 64, 64, 512)  2048       ['conv2d_6[0][0]']               \n",
            " rmalization)                                                                                     \n",
            "                                                                                                  \n",
            " activation_6 (Activation)      (None, 64, 64, 512)  0           ['batch_normalization_6[0][0]']  \n",
            "                                                                                                  \n",
            " conv2d_7 (Conv2D)              (None, 64, 64, 512)  2359808     ['activation_6[0][0]']           \n",
            "                                                                                                  \n",
            " batch_normalization_7 (BatchNo  (None, 64, 64, 512)  2048       ['conv2d_7[0][0]']               \n",
            " rmalization)                                                                                     \n",
            "                                                                                                  \n",
            " activation_7 (Activation)      (None, 64, 64, 512)  0           ['batch_normalization_7[0][0]']  \n",
            "                                                                                                  \n",
            " max_pooling2d_3 (MaxPooling2D)  (None, 32, 32, 512)  0          ['activation_7[0][0]']           \n",
            "                                                                                                  \n",
            " conv2d_8 (Conv2D)              (None, 32, 32, 1024  4719616     ['max_pooling2d_3[0][0]']        \n",
            "                                )                                                                 \n",
            "                                                                                                  \n",
            " batch_normalization_8 (BatchNo  (None, 32, 32, 1024  4096       ['conv2d_8[0][0]']               \n",
            " rmalization)                   )                                                                 \n",
            "                                                                                                  \n",
            " activation_8 (Activation)      (None, 32, 32, 1024  0           ['batch_normalization_8[0][0]']  \n",
            "                                )                                                                 \n",
            "                                                                                                  \n",
            " conv2d_9 (Conv2D)              (None, 32, 32, 1024  9438208     ['activation_8[0][0]']           \n",
            "                                )                                                                 \n",
            "                                                                                                  \n",
            " batch_normalization_9 (BatchNo  (None, 32, 32, 1024  4096       ['conv2d_9[0][0]']               \n",
            " rmalization)                   )                                                                 \n",
            "                                                                                                  \n",
            " activation_9 (Activation)      (None, 32, 32, 1024  0           ['batch_normalization_9[0][0]']  \n",
            "                                )                                                                 \n",
            "                                                                                                  \n",
            " conv2d_transpose (Conv2DTransp  (None, 64, 64, 512)  2097664    ['activation_9[0][0]']           \n",
            " ose)                                                                                             \n",
            "                                                                                                  \n",
            " concatenate (Concatenate)      (None, 64, 64, 1024  0           ['conv2d_transpose[0][0]',       \n",
            "                                )                                 'activation_7[0][0]']           \n",
            "                                                                                                  \n",
            " conv2d_10 (Conv2D)             (None, 64, 64, 512)  4719104     ['concatenate[0][0]']            \n",
            "                                                                                                  \n",
            " batch_normalization_10 (BatchN  (None, 64, 64, 512)  2048       ['conv2d_10[0][0]']              \n",
            " ormalization)                                                                                    \n",
            "                                                                                                  \n",
            " activation_10 (Activation)     (None, 64, 64, 512)  0           ['batch_normalization_10[0][0]'] \n",
            "                                                                                                  \n",
            " conv2d_11 (Conv2D)             (None, 64, 64, 512)  2359808     ['activation_10[0][0]']          \n",
            "                                                                                                  \n",
            " batch_normalization_11 (BatchN  (None, 64, 64, 512)  2048       ['conv2d_11[0][0]']              \n",
            " ormalization)                                                                                    \n",
            "                                                                                                  \n",
            " activation_11 (Activation)     (None, 64, 64, 512)  0           ['batch_normalization_11[0][0]'] \n",
            "                                                                                                  \n",
            " conv2d_transpose_1 (Conv2DTran  (None, 128, 128, 25  524544     ['activation_11[0][0]']          \n",
            " spose)                         6)                                                                \n",
            "                                                                                                  \n",
            " concatenate_1 (Concatenate)    (None, 128, 128, 51  0           ['conv2d_transpose_1[0][0]',     \n",
            "                                2)                                'activation_5[0][0]']           \n",
            "                                                                                                  \n",
            " conv2d_12 (Conv2D)             (None, 128, 128, 25  1179904     ['concatenate_1[0][0]']          \n",
            "                                6)                                                                \n",
            "                                                                                                  \n",
            " batch_normalization_12 (BatchN  (None, 128, 128, 25  1024       ['conv2d_12[0][0]']              \n",
            " ormalization)                  6)                                                                \n",
            "                                                                                                  \n",
            " activation_12 (Activation)     (None, 128, 128, 25  0           ['batch_normalization_12[0][0]'] \n",
            "                                6)                                                                \n",
            "                                                                                                  \n",
            " conv2d_13 (Conv2D)             (None, 128, 128, 25  590080      ['activation_12[0][0]']          \n",
            "                                6)                                                                \n",
            "                                                                                                  \n",
            " batch_normalization_13 (BatchN  (None, 128, 128, 25  1024       ['conv2d_13[0][0]']              \n",
            " ormalization)                  6)                                                                \n",
            "                                                                                                  \n",
            " activation_13 (Activation)     (None, 128, 128, 25  0           ['batch_normalization_13[0][0]'] \n",
            "                                6)                                                                \n",
            "                                                                                                  \n",
            " conv2d_transpose_2 (Conv2DTran  (None, 256, 256, 12  131200     ['activation_13[0][0]']          \n",
            " spose)                         8)                                                                \n",
            "                                                                                                  \n",
            " concatenate_2 (Concatenate)    (None, 256, 256, 25  0           ['conv2d_transpose_2[0][0]',     \n",
            "                                6)                                'activation_3[0][0]']           \n",
            "                                                                                                  \n",
            " conv2d_14 (Conv2D)             (None, 256, 256, 12  295040      ['concatenate_2[0][0]']          \n",
            "                                8)                                                                \n",
            "                                                                                                  \n",
            " batch_normalization_14 (BatchN  (None, 256, 256, 12  512        ['conv2d_14[0][0]']              \n",
            " ormalization)                  8)                                                                \n",
            "                                                                                                  \n",
            " activation_14 (Activation)     (None, 256, 256, 12  0           ['batch_normalization_14[0][0]'] \n",
            "                                8)                                                                \n",
            "                                                                                                  \n",
            " conv2d_15 (Conv2D)             (None, 256, 256, 12  147584      ['activation_14[0][0]']          \n",
            "                                8)                                                                \n",
            "                                                                                                  \n",
            " batch_normalization_15 (BatchN  (None, 256, 256, 12  512        ['conv2d_15[0][0]']              \n",
            " ormalization)                  8)                                                                \n",
            "                                                                                                  \n",
            " activation_15 (Activation)     (None, 256, 256, 12  0           ['batch_normalization_15[0][0]'] \n",
            "                                8)                                                                \n",
            "                                                                                                  \n",
            " conv2d_transpose_3 (Conv2DTran  (None, 512, 512, 64  32832      ['activation_15[0][0]']          \n",
            " spose)                         )                                                                 \n",
            "                                                                                                  \n",
            " concatenate_3 (Concatenate)    (None, 512, 512, 12  0           ['conv2d_transpose_3[0][0]',     \n",
            "                                8)                                'activation_1[0][0]']           \n",
            "                                                                                                  \n",
            " conv2d_16 (Conv2D)             (None, 512, 512, 64  73792       ['concatenate_3[0][0]']          \n",
            "                                )                                                                 \n",
            "                                                                                                  \n",
            " batch_normalization_16 (BatchN  (None, 512, 512, 64  256        ['conv2d_16[0][0]']              \n",
            " ormalization)                  )                                                                 \n",
            "                                                                                                  \n",
            " activation_16 (Activation)     (None, 512, 512, 64  0           ['batch_normalization_16[0][0]'] \n",
            "                                )                                                                 \n",
            "                                                                                                  \n",
            " conv2d_17 (Conv2D)             (None, 512, 512, 64  36928       ['activation_16[0][0]']          \n",
            "                                )                                                                 \n",
            "                                                                                                  \n",
            " batch_normalization_17 (BatchN  (None, 512, 512, 64  256        ['conv2d_17[0][0]']              \n",
            " ormalization)                  )                                                                 \n",
            "                                                                                                  \n",
            " activation_17 (Activation)     (None, 512, 512, 64  0           ['batch_normalization_17[0][0]'] \n",
            "                                )                                                                 \n",
            "                                                                                                  \n",
            " conv2d_18 (Conv2D)             (None, 512, 512, 1)  65          ['activation_17[0][0]']          \n",
            "                                                                                                  \n",
            "==================================================================================================\n",
            "Total params: 31,055,297\n",
            "Trainable params: 31,043,521\n",
            "Non-trainable params: 11,776\n",
            "__________________________________________________________________________________________________\n"
          ]
        }
      ],
      "source": [
        "def conv_block(inputs, num_filters):\n",
        "    x = Conv2D(num_filters, 3, padding=\"same\")(inputs)\n",
        "    x = BatchNormalization()(x)\n",
        "    x = Activation(\"relu\")(x)\n",
        "\n",
        "    x = Conv2D(num_filters, 3, padding=\"same\")(x)\n",
        "    x = BatchNormalization()(x)\n",
        "    x = Activation(\"relu\")(x)\n",
        "\n",
        "    return x\n",
        "\n",
        "def encoder_block(inputs, num_filters):\n",
        "    x = conv_block(inputs, num_filters)\n",
        "    p = MaxPool2D((2, 2))(x)\n",
        "    return x, p\n",
        "\n",
        "def decoder_block(inputs, skip_features, num_filters):\n",
        "    x = Conv2DTranspose(num_filters, (2, 2), strides=2, padding=\"same\")(inputs)\n",
        "    x = Concatenate()([x, skip_features])\n",
        "    x = conv_block(x, num_filters)\n",
        "    return x\n",
        "\n",
        "def build_unet(input_shape):\n",
        "    inputs = Input(input_shape)\n",
        "\n",
        "    s1, p1 = encoder_block(inputs, 64)\n",
        "    s2, p2 = encoder_block(p1, 128)\n",
        "    s3, p3 = encoder_block(p2, 256)\n",
        "    s4, p4 = encoder_block(p3, 512)\n",
        "\n",
        "    b1 = conv_block(p4, 1024)\n",
        "\n",
        "    d1 = decoder_block(b1, s4, 512)\n",
        "    d2 = decoder_block(d1, s3, 256)\n",
        "    d3 = decoder_block(d2, s2, 128)\n",
        "    d4 = decoder_block(d3, s1, 64)\n",
        "\n",
        "    outputs = Conv2D(1, 1, padding=\"same\", activation=\"sigmoid\")(d4)\n",
        "\n",
        "    model = Model(inputs, outputs, name=\"UNET\")\n",
        "    return model\n",
        "\n",
        "input_shape = (512, 512, 3)\n",
        "model = build_unet(input_shape)\n",
        "model.summary()"
      ]
    },
    {
      "cell_type": "markdown",
      "metadata": {
        "id": "TWKUCE3_6vBv"
      },
      "source": [
        "### Adding the Metrics:"
      ]
    },
    {
      "cell_type": "code",
      "execution_count": null,
      "metadata": {
        "id": "s5HXET5Z6uZX"
      },
      "outputs": [],
      "source": [
        "def iou(y_true, y_pred):\n",
        "    def f(y_true, y_pred):\n",
        "        intersection = (y_true * y_pred).sum()\n",
        "        union = y_true.sum() + y_pred.sum() - intersection\n",
        "        x = (intersection + 1e-15) / (union + 1e-15)\n",
        "        x = x.astype(np.float32)\n",
        "        return x\n",
        "    return tf.numpy_function(f, [y_true, y_pred], tf.float32)\n",
        "\n",
        "smooth = 1e-15\n",
        "def dice_coef(y_true, y_pred):\n",
        "    y_true = tf.keras.layers.Flatten()(y_true)\n",
        "    y_pred = tf.keras.layers.Flatten()(y_pred)\n",
        "    intersection = tf.reduce_sum(y_true * y_pred)\n",
        "    return (2. * intersection + smooth) / (tf.reduce_sum(y_true) + tf.reduce_sum(y_pred) + smooth)\n",
        "\n",
        "def dice_loss(y_true, y_pred):\n",
        "    return 1.0 - dice_coef(y_true, y_pred)\n",
        "\n",
        "def DiceBCELoss(y_true, y_pred):\n",
        "    \n",
        "    inputs = tf.keras.layers.Flatten()(y_true)\n",
        "    targets = tf.keras.layers.Flatten()(y_pred)\n",
        "\n",
        "    intersection = tf.reduce_sum(inputs * targets)\n",
        "    dice_loss = 1 - (2.*intersection + smooth)/(tf.reduce_sum(y_true) + tf.reduce_sum(y_pred) + smooth)\n",
        "    BCE = tf.keras.losses.BinaryCrossentropy()\n",
        "    Dice_BCE = BCE(inputs, targets) + dice_loss\n",
        "\n",
        "    return Dice_BCE\n",
        "\n",
        "def bce(y_true, y_pred):\n",
        "    \n",
        "    inputs = tf.keras.layers.Flatten()(y_true)\n",
        "    targets = tf.keras.layers.Flatten()(y_pred)\n",
        "    BCE = tf.keras.losses.BinaryCrossentropy()\n",
        "    Dice_BCE = BCE(inputs, targets)\n",
        "\n",
        "    return Dice_BCE"
      ]
    },
    {
      "cell_type": "markdown",
      "metadata": {
        "id": "fuGIkqEH65dX"
      },
      "source": [
        "\n",
        "\n",
        "### Training the Model:"
      ]
    },
    {
      "cell_type": "code",
      "execution_count": null,
      "metadata": {
        "colab": {
          "base_uri": "https://localhost:8080/"
        },
        "id": "1FT9iAYkUaeR",
        "outputId": "73cb7ed0-b7ba-4cbf-9dec-fe494daeefe4"
      },
      "outputs": [
        {
          "name": "stdout",
          "output_type": "stream",
          "text": [
            "<function DiceBCELoss at 0x7f43f014b560>\n"
          ]
        }
      ],
      "source": [
        "if loss_str == \"bce\":\n",
        "    loss = bce\n",
        "elif loss_str == \"dice_bce\":\n",
        "    loss = DiceBCELoss\n",
        "elif loss_str == \"dice_loss\":\n",
        "    loss = dice_loss\n",
        "elif loss_str == \"wbce\":\n",
        "    loss = wbce\n",
        "else:\n",
        "    raise Exception(\"Invalid value for loss_str\")\n",
        "    \n",
        "print(loss)"
      ]
    },
    {
      "cell_type": "code",
      "execution_count": null,
      "metadata": {
        "id": "NNdxwX_-5udw"
      },
      "outputs": [],
      "source": [
        "H = patch_height\n",
        "W = patch_width\n",
        "\n",
        "def create_dir(path):\n",
        "    if not os.path.exists(path):\n",
        "        os.makedirs(path)\n",
        "\n",
        "def load_data(path):\n",
        "    x = sorted(glob(os.path.join(path, \"image\", \"*.png\")))\n",
        "    y = sorted(glob(os.path.join(path, \"mask\", \"*.png\")))\n",
        "    return x, y\n",
        "\n",
        "def shuffling(x, y):\n",
        "    x, y = shuffle(x, y, random_state=42)\n",
        "    return x, y\n",
        "\n",
        "def read_image(path):\n",
        "    path = path.decode()\n",
        "    x = cv2.imread(path, cv2.IMREAD_COLOR)\n",
        "    # x = cv2.resize(x, (W, H))\n",
        "    x = x/255.0\n",
        "    x = x.astype(np.float32)\n",
        "    return x\n",
        "\n",
        "def read_mask(path):\n",
        "    path = path.decode()\n",
        "    x = cv2.imread(path, cv2.IMREAD_GRAYSCALE)  ## (512, 512)\n",
        "    # x = cv2.resize(x, (W, H))\n",
        "    x = x/255.0\n",
        "    x = x.astype(np.float32)\n",
        "    x = np.expand_dims(x, axis=-1)              ## (512, 512, 1)\n",
        "    return x\n",
        "\n",
        "def tf_parse(x, y):\n",
        "    def _parse(x, y):\n",
        "        x = read_image(x)\n",
        "        y = read_mask(y)\n",
        "        return x, y\n",
        "\n",
        "    x, y = tf.numpy_function(_parse, [x, y], [tf.float32, tf.float32])\n",
        "    x.set_shape([H, W, 3])\n",
        "    y.set_shape([H, W, 1])\n",
        "    return x, y\n",
        "\n",
        "def tf_dataset(X, Y, batch_size=2):\n",
        "    dataset = tf.data.Dataset.from_tensor_slices((X, Y))\n",
        "    dataset = dataset.map(tf_parse)\n",
        "    dataset = dataset.batch(batch_size)\n",
        "    dataset = dataset.prefetch(4)\n",
        "    return dataset"
      ]
    },
    {
      "cell_type": "code",
      "execution_count": null,
      "metadata": {
        "id": "54fnwa9lJESj"
      },
      "outputs": [],
      "source": [
        "from keras.metrics import AUC"
      ]
    },
    {
      "cell_type": "code",
      "execution_count": null,
      "metadata": {
        "id": "ZKS1beyfSUHc"
      },
      "outputs": [],
      "source": [
        "model_dir = f\"{root_path}/trained_models/\""
      ]
    },
    {
      "cell_type": "code",
      "execution_count": null,
      "metadata": {
        "id": "q0GnRCID3HdL"
      },
      "outputs": [],
      "source": [
        "create_dir(model_dir)"
      ]
    },
    {
      "cell_type": "code",
      "execution_count": null,
      "metadata": {
        "id": "H4nNDNkuHTot"
      },
      "outputs": [],
      "source": [
        "!ls {model_dir}"
      ]
    },
    {
      "cell_type": "code",
      "execution_count": null,
      "metadata": {
        "colab": {
          "base_uri": "https://localhost:8080/"
        },
        "id": "nCnFXz7Xpvzi",
        "outputId": "9b43b264-734b-453d-fd84-b7a5747f7407"
      },
      "outputs": [
        {
          "name": "stdout",
          "output_type": "stream",
          "text": [
            "/content/datasets\n"
          ]
        }
      ],
      "source": [
        "%cd /content/datasets"
      ]
    },
    {
      "cell_type": "code",
      "execution_count": null,
      "metadata": {
        "id": "OxDh2J2zGsNE"
      },
      "outputs": [],
      "source": [
        "from glob import glob"
      ]
    },
    {
      "cell_type": "code",
      "execution_count": null,
      "metadata": {
        "colab": {
          "background_save": true,
          "base_uri": "https://localhost:8080/"
        },
        "id": "R9oxQCQo7Jnw",
        "outputId": "a8add6a6-89aa-4b52-cf4a-dc56083cd926"
      },
      "outputs": [
        {
          "name": "stdout",
          "output_type": "stream",
          "text": [
            "Train: 1104 - 1104\n",
            "Valid: 60 - 60\n",
            "Epoch 1/50\n",
            "138/138 [==============================] - ETA: 0s - loss: 0.8676 - dice_coef: 0.3590 - iou: 0.2223 - recall: 0.7321 - precision: 0.4659 - auc: 0.9393\n",
            "Epoch 1: val_loss improved from inf to 1.27144, saving model to /content/datasets/chase_db_320_320_dice_bce_0_4__hvr_0_4_1//trained_models/model.h5\n",
            "138/138 [==============================] - 49s 237ms/step - loss: 0.8676 - dice_coef: 0.3590 - iou: 0.2223 - recall: 0.7321 - precision: 0.4659 - auc: 0.9393 - val_loss: 1.2714 - val_dice_coef: 0.0700 - val_iou: 0.0363 - val_recall: 0.0000e+00 - val_precision: 0.0000e+00 - val_auc: 0.2753 - lr: 1.0000e-04\n",
            "Epoch 2/50\n",
            "138/138 [==============================] - ETA: 0s - loss: 0.5949 - dice_coef: 0.5242 - iou: 0.3563 - recall: 0.7961 - precision: 0.7107 - auc: 0.9738\n",
            "Epoch 2: val_loss improved from 1.27144 to 1.14906, saving model to /content/datasets/chase_db_320_320_dice_bce_0_4__hvr_0_4_1//trained_models/model.h5\n",
            "138/138 [==============================] - 31s 227ms/step - loss: 0.5949 - dice_coef: 0.5242 - iou: 0.3563 - recall: 0.7961 - precision: 0.7107 - auc: 0.9738 - val_loss: 1.1491 - val_dice_coef: 0.0556 - val_iou: 0.0286 - val_recall: 0.0035 - val_precision: 0.0937 - val_auc: 0.3558 - lr: 1.0000e-04\n",
            "Epoch 3/50\n",
            "138/138 [==============================] - ETA: 0s - loss: 0.5158 - dice_coef: 0.5847 - iou: 0.4143 - recall: 0.8102 - precision: 0.7455 - auc: 0.9762\n",
            "Epoch 3: val_loss improved from 1.14906 to 0.91337, saving model to /content/datasets/chase_db_320_320_dice_bce_0_4__hvr_0_4_1//trained_models/model.h5\n",
            "138/138 [==============================] - 31s 227ms/step - loss: 0.5158 - dice_coef: 0.5847 - iou: 0.4143 - recall: 0.8102 - precision: 0.7455 - auc: 0.9762 - val_loss: 0.9134 - val_dice_coef: 0.2363 - val_iou: 0.1351 - val_recall: 0.2141 - val_precision: 0.7450 - val_auc: 0.8632 - lr: 1.0000e-04\n",
            "Epoch 4/50\n",
            "138/138 [==============================] - ETA: 0s - loss: 0.4428 - dice_coef: 0.6422 - iou: 0.4742 - recall: 0.8240 - precision: 0.7774 - auc: 0.9789\n",
            "Epoch 4: val_loss improved from 0.91337 to 0.61332, saving model to /content/datasets/chase_db_320_320_dice_bce_0_4__hvr_0_4_1//trained_models/model.h5\n",
            "138/138 [==============================] - 31s 228ms/step - loss: 0.4428 - dice_coef: 0.6422 - iou: 0.4742 - recall: 0.8240 - precision: 0.7774 - auc: 0.9789 - val_loss: 0.6133 - val_dice_coef: 0.4875 - val_iou: 0.3248 - val_recall: 0.5234 - val_precision: 0.8414 - val_auc: 0.9286 - lr: 1.0000e-04\n",
            "Epoch 5/50\n",
            "138/138 [==============================] - ETA: 0s - loss: 0.3942 - dice_coef: 0.6826 - iou: 0.5193 - recall: 0.8287 - precision: 0.7953 - auc: 0.9798\n",
            "Epoch 5: val_loss improved from 0.61332 to 0.47687, saving model to /content/datasets/chase_db_320_320_dice_bce_0_4__hvr_0_4_1//trained_models/model.h5\n",
            "138/138 [==============================] - 31s 228ms/step - loss: 0.3942 - dice_coef: 0.6826 - iou: 0.5193 - recall: 0.8287 - precision: 0.7953 - auc: 0.9798 - val_loss: 0.4769 - val_dice_coef: 0.6077 - val_iou: 0.4382 - val_recall: 0.6982 - val_precision: 0.7890 - val_auc: 0.9542 - lr: 1.0000e-04\n",
            "Epoch 6/50\n",
            "138/138 [==============================] - ETA: 0s - loss: 0.3581 - dice_coef: 0.7129 - iou: 0.5550 - recall: 0.8334 - precision: 0.8077 - auc: 0.9819\n",
            "Epoch 6: val_loss improved from 0.47687 to 0.43155, saving model to /content/datasets/chase_db_320_320_dice_bce_0_4__hvr_0_4_1//trained_models/model.h5\n",
            "138/138 [==============================] - 31s 228ms/step - loss: 0.3581 - dice_coef: 0.7129 - iou: 0.5550 - recall: 0.8334 - precision: 0.8077 - auc: 0.9819 - val_loss: 0.4315 - val_dice_coef: 0.6501 - val_iou: 0.4830 - val_recall: 0.7447 - val_precision: 0.7738 - val_auc: 0.9636 - lr: 1.0000e-04\n",
            "Epoch 7/50\n",
            "138/138 [==============================] - ETA: 0s - loss: 0.3309 - dice_coef: 0.7362 - iou: 0.5836 - recall: 0.8363 - precision: 0.8164 - auc: 0.9826\n",
            "Epoch 7: val_loss improved from 0.43155 to 0.43041, saving model to /content/datasets/chase_db_320_320_dice_bce_0_4__hvr_0_4_1//trained_models/model.h5\n",
            "138/138 [==============================] - 32s 228ms/step - loss: 0.3309 - dice_coef: 0.7362 - iou: 0.5836 - recall: 0.8363 - precision: 0.8164 - auc: 0.9826 - val_loss: 0.4304 - val_dice_coef: 0.6535 - val_iou: 0.4872 - val_recall: 0.7159 - val_precision: 0.7843 - val_auc: 0.9602 - lr: 1.0000e-04\n",
            "Epoch 8/50\n",
            "138/138 [==============================] - ETA: 0s - loss: 0.3089 - dice_coef: 0.7552 - iou: 0.6077 - recall: 0.8395 - precision: 0.8247 - auc: 0.9834\n",
            "Epoch 8: val_loss did not improve from 0.43041\n",
            "138/138 [==============================] - 31s 221ms/step - loss: 0.3089 - dice_coef: 0.7552 - iou: 0.6077 - recall: 0.8395 - precision: 0.8247 - auc: 0.9834 - val_loss: 0.4305 - val_dice_coef: 0.6561 - val_iou: 0.4903 - val_recall: 0.7166 - val_precision: 0.7768 - val_auc: 0.9590 - lr: 1.0000e-04\n",
            "Epoch 9/50\n",
            "138/138 [==============================] - ETA: 0s - loss: 0.2911 - dice_coef: 0.7708 - iou: 0.6279 - recall: 0.8425 - precision: 0.8308 - auc: 0.9835\n",
            "Epoch 9: val_loss did not improve from 0.43041\n",
            "138/138 [==============================] - 31s 221ms/step - loss: 0.2911 - dice_coef: 0.7708 - iou: 0.6279 - recall: 0.8425 - precision: 0.8308 - auc: 0.9835 - val_loss: 0.4316 - val_dice_coef: 0.6555 - val_iou: 0.4898 - val_recall: 0.6708 - val_precision: 0.8040 - val_auc: 0.9381 - lr: 1.0000e-04\n",
            "Epoch 10/50\n",
            "138/138 [==============================] - ETA: 0s - loss: 0.2757 - dice_coef: 0.7839 - iou: 0.6456 - recall: 0.8457 - precision: 0.8369 - auc: 0.9838\n",
            "Epoch 10: val_loss improved from 0.43041 to 0.41234, saving model to /content/datasets/chase_db_320_320_dice_bce_0_4__hvr_0_4_1//trained_models/model.h5\n",
            "138/138 [==============================] - 32s 229ms/step - loss: 0.2757 - dice_coef: 0.7839 - iou: 0.6456 - recall: 0.8457 - precision: 0.8369 - auc: 0.9838 - val_loss: 0.4123 - val_dice_coef: 0.6700 - val_iou: 0.5059 - val_recall: 0.6754 - val_precision: 0.8165 - val_auc: 0.9269 - lr: 1.0000e-04\n",
            "Epoch 11/50\n",
            "138/138 [==============================] - ETA: 0s - loss: 0.2613 - dice_coef: 0.7963 - iou: 0.6624 - recall: 0.8502 - precision: 0.8436 - auc: 0.9858\n",
            "Epoch 11: val_loss improved from 0.41234 to 0.38049, saving model to /content/datasets/chase_db_320_320_dice_bce_0_4__hvr_0_4_1//trained_models/model.h5\n",
            "138/138 [==============================] - 32s 228ms/step - loss: 0.2613 - dice_coef: 0.7963 - iou: 0.6624 - recall: 0.8502 - precision: 0.8436 - auc: 0.9858 - val_loss: 0.3805 - val_dice_coef: 0.6983 - val_iou: 0.5374 - val_recall: 0.7198 - val_precision: 0.8034 - val_auc: 0.9378 - lr: 1.0000e-04\n",
            "Epoch 12/50\n",
            "138/138 [==============================] - ETA: 0s - loss: 0.2511 - dice_coef: 0.8051 - iou: 0.6746 - recall: 0.8521 - precision: 0.8479 - auc: 0.9868\n",
            "Epoch 12: val_loss did not improve from 0.38049\n",
            "138/138 [==============================] - 31s 221ms/step - loss: 0.2511 - dice_coef: 0.8051 - iou: 0.6746 - recall: 0.8521 - precision: 0.8479 - auc: 0.9868 - val_loss: 0.4159 - val_dice_coef: 0.6746 - val_iou: 0.5100 - val_recall: 0.6601 - val_precision: 0.8089 - val_auc: 0.9418 - lr: 1.0000e-04\n",
            "Epoch 13/50\n",
            "138/138 [==============================] - ETA: 0s - loss: 0.2403 - dice_coef: 0.8141 - iou: 0.6873 - recall: 0.8560 - precision: 0.8530 - auc: 0.9867\n",
            "Epoch 13: val_loss did not improve from 0.38049\n",
            "138/138 [==============================] - 31s 222ms/step - loss: 0.2403 - dice_coef: 0.8141 - iou: 0.6873 - recall: 0.8560 - precision: 0.8530 - auc: 0.9867 - val_loss: 0.4091 - val_dice_coef: 0.6829 - val_iou: 0.5196 - val_recall: 0.6505 - val_precision: 0.8224 - val_auc: 0.9359 - lr: 1.0000e-04\n",
            "Epoch 14/50\n",
            "138/138 [==============================] - ETA: 0s - loss: 0.2307 - dice_coef: 0.8222 - iou: 0.6988 - recall: 0.8591 - precision: 0.8581 - auc: 0.9860\n",
            "Epoch 14: val_loss did not improve from 0.38049\n",
            "138/138 [==============================] - 31s 222ms/step - loss: 0.2307 - dice_coef: 0.8222 - iou: 0.6988 - recall: 0.8591 - precision: 0.8581 - auc: 0.9860 - val_loss: 0.3835 - val_dice_coef: 0.7033 - val_iou: 0.5443 - val_recall: 0.7041 - val_precision: 0.7927 - val_auc: 0.9397 - lr: 1.0000e-04\n",
            "Epoch 15/50\n",
            "138/138 [==============================] - ETA: 0s - loss: 0.2245 - dice_coef: 0.8276 - iou: 0.7066 - recall: 0.8606 - precision: 0.8611 - auc: 0.9853\n",
            "Epoch 15: val_loss improved from 0.38049 to 0.34509, saving model to /content/datasets/chase_db_320_320_dice_bce_0_4__hvr_0_4_1//trained_models/model.h5\n",
            "138/138 [==============================] - 32s 229ms/step - loss: 0.2245 - dice_coef: 0.8276 - iou: 0.7066 - recall: 0.8606 - precision: 0.8611 - auc: 0.9853 - val_loss: 0.3451 - val_dice_coef: 0.7355 - val_iou: 0.5824 - val_recall: 0.7417 - val_precision: 0.8057 - val_auc: 0.9521 - lr: 1.0000e-04\n",
            "Epoch 16/50\n",
            "138/138 [==============================] - ETA: 0s - loss: 0.2205 - dice_coef: 0.8311 - iou: 0.7118 - recall: 0.8627 - precision: 0.8613 - auc: 0.9848\n",
            "Epoch 16: val_loss did not improve from 0.34509\n",
            "138/138 [==============================] - 31s 222ms/step - loss: 0.2205 - dice_coef: 0.8311 - iou: 0.7118 - recall: 0.8627 - precision: 0.8613 - auc: 0.9848 - val_loss: 0.3508 - val_dice_coef: 0.7348 - val_iou: 0.5815 - val_recall: 0.7527 - val_precision: 0.7822 - val_auc: 0.9463 - lr: 1.0000e-04\n",
            "Epoch 17/50\n",
            "138/138 [==============================] - ETA: 0s - loss: 0.2176 - dice_coef: 0.8338 - iou: 0.7158 - recall: 0.8632 - precision: 0.8622 - auc: 0.9844\n",
            "Epoch 17: val_loss did not improve from 0.34509\n",
            "138/138 [==============================] - 31s 222ms/step - loss: 0.2176 - dice_coef: 0.8338 - iou: 0.7158 - recall: 0.8632 - precision: 0.8622 - auc: 0.9844 - val_loss: 0.3962 - val_dice_coef: 0.6969 - val_iou: 0.5362 - val_recall: 0.6482 - val_precision: 0.8402 - val_auc: 0.9244 - lr: 1.0000e-04\n",
            "Epoch 18/50\n",
            "138/138 [==============================] - ETA: 0s - loss: 0.2061 - dice_coef: 0.8427 - iou: 0.7288 - recall: 0.8689 - precision: 0.8699 - auc: 0.9847\n",
            "Epoch 18: val_loss did not improve from 0.34509\n",
            "138/138 [==============================] - 31s 222ms/step - loss: 0.2061 - dice_coef: 0.8427 - iou: 0.7288 - recall: 0.8689 - precision: 0.8699 - auc: 0.9847 - val_loss: 0.3459 - val_dice_coef: 0.7398 - val_iou: 0.5874 - val_recall: 0.7240 - val_precision: 0.8153 - val_auc: 0.9384 - lr: 1.0000e-04\n",
            "Epoch 19/50\n",
            "138/138 [==============================] - ETA: 0s - loss: 0.1948 - dice_coef: 0.8516 - iou: 0.7421 - recall: 0.8747 - precision: 0.8776 - auc: 0.9850\n",
            "Epoch 19: val_loss improved from 0.34509 to 0.34038, saving model to /content/datasets/chase_db_320_320_dice_bce_0_4__hvr_0_4_1//trained_models/model.h5\n",
            "138/138 [==============================] - 32s 229ms/step - loss: 0.1948 - dice_coef: 0.8516 - iou: 0.7421 - recall: 0.8747 - precision: 0.8776 - auc: 0.9850 - val_loss: 0.3404 - val_dice_coef: 0.7445 - val_iou: 0.5935 - val_recall: 0.7552 - val_precision: 0.7920 - val_auc: 0.9436 - lr: 1.0000e-04\n",
            "Epoch 20/50\n",
            "138/138 [==============================] - ETA: 0s - loss: 0.1911 - dice_coef: 0.8548 - iou: 0.7470 - recall: 0.8763 - precision: 0.8793 - auc: 0.9850\n",
            "Epoch 20: val_loss did not improve from 0.34038\n",
            "138/138 [==============================] - 31s 222ms/step - loss: 0.1911 - dice_coef: 0.8548 - iou: 0.7470 - recall: 0.8763 - precision: 0.8793 - auc: 0.9850 - val_loss: 0.3462 - val_dice_coef: 0.7388 - val_iou: 0.5866 - val_recall: 0.7447 - val_precision: 0.7904 - val_auc: 0.9427 - lr: 1.0000e-04\n",
            "Epoch 21/50\n",
            "138/138 [==============================] - ETA: 0s - loss: 0.1903 - dice_coef: 0.8555 - iou: 0.7481 - recall: 0.8766 - precision: 0.8781 - auc: 0.9850\n",
            "Epoch 21: val_loss did not improve from 0.34038\n",
            "138/138 [==============================] - 31s 222ms/step - loss: 0.1903 - dice_coef: 0.8555 - iou: 0.7481 - recall: 0.8766 - precision: 0.8781 - auc: 0.9850 - val_loss: 0.3651 - val_dice_coef: 0.7278 - val_iou: 0.5730 - val_recall: 0.7126 - val_precision: 0.7985 - val_auc: 0.9319 - lr: 1.0000e-04\n",
            "Epoch 22/50\n",
            "138/138 [==============================] - ETA: 0s - loss: 0.1881 - dice_coef: 0.8575 - iou: 0.7510 - recall: 0.8775 - precision: 0.8785 - auc: 0.9849\n",
            "Epoch 22: val_loss did not improve from 0.34038\n",
            "138/138 [==============================] - 31s 222ms/step - loss: 0.1881 - dice_coef: 0.8575 - iou: 0.7510 - recall: 0.8775 - precision: 0.8785 - auc: 0.9849 - val_loss: 0.3736 - val_dice_coef: 0.7240 - val_iou: 0.5684 - val_recall: 0.7149 - val_precision: 0.7860 - val_auc: 0.9270 - lr: 1.0000e-04\n",
            "Epoch 23/50\n",
            "138/138 [==============================] - ETA: 0s - loss: 0.1787 - dice_coef: 0.8646 - iou: 0.7620 - recall: 0.8827 - precision: 0.8851 - auc: 0.9855\n",
            "Epoch 23: val_loss did not improve from 0.34038\n",
            "138/138 [==============================] - 31s 222ms/step - loss: 0.1787 - dice_coef: 0.8646 - iou: 0.7620 - recall: 0.8827 - precision: 0.8851 - auc: 0.9855 - val_loss: 0.3581 - val_dice_coef: 0.7337 - val_iou: 0.5807 - val_recall: 0.7319 - val_precision: 0.7860 - val_auc: 0.9375 - lr: 1.0000e-04\n",
            "Epoch 24/50\n",
            "138/138 [==============================] - ETA: 0s - loss: 0.1718 - dice_coef: 0.8700 - iou: 0.7704 - recall: 0.8866 - precision: 0.8900 - auc: 0.9859\n",
            "Epoch 24: val_loss did not improve from 0.34038\n",
            "\n",
            "Epoch 24: ReduceLROnPlateau reducing learning rate to 9.999999747378752e-06.\n",
            "138/138 [==============================] - 31s 222ms/step - loss: 0.1718 - dice_coef: 0.8700 - iou: 0.7704 - recall: 0.8866 - precision: 0.8900 - auc: 0.9859 - val_loss: 0.3620 - val_dice_coef: 0.7295 - val_iou: 0.5766 - val_recall: 0.7164 - val_precision: 0.7984 - val_auc: 0.9330 - lr: 1.0000e-04\n",
            "Epoch 25/50\n",
            "138/138 [==============================] - ETA: 0s - loss: 0.1685 - dice_coef: 0.8725 - iou: 0.7741 - recall: 0.8874 - precision: 0.8918 - auc: 0.9861\n",
            "Epoch 25: val_loss improved from 0.34038 to 0.30915, saving model to /content/datasets/chase_db_320_320_dice_bce_0_4__hvr_0_4_1//trained_models/model.h5\n",
            "138/138 [==============================] - 32s 229ms/step - loss: 0.1685 - dice_coef: 0.8725 - iou: 0.7741 - recall: 0.8874 - precision: 0.8918 - auc: 0.9861 - val_loss: 0.3092 - val_dice_coef: 0.7697 - val_iou: 0.6271 - val_recall: 0.7606 - val_precision: 0.8165 - val_auc: 0.9478 - lr: 1.0000e-05\n",
            "Epoch 26/50\n",
            "138/138 [==============================] - ETA: 0s - loss: 0.1549 - dice_coef: 0.8823 - iou: 0.7897 - recall: 0.8968 - precision: 0.9021 - auc: 0.9874\n",
            "Epoch 26: val_loss did not improve from 0.30915\n",
            "138/138 [==============================] - 31s 222ms/step - loss: 0.1549 - dice_coef: 0.8823 - iou: 0.7897 - recall: 0.8968 - precision: 0.9021 - auc: 0.9874 - val_loss: 0.3117 - val_dice_coef: 0.7689 - val_iou: 0.6260 - val_recall: 0.7548 - val_precision: 0.8198 - val_auc: 0.9454 - lr: 1.0000e-05\n",
            "Epoch 27/50\n",
            "138/138 [==============================] - ETA: 0s - loss: 0.1480 - dice_coef: 0.8876 - iou: 0.7982 - recall: 0.9012 - precision: 0.9077 - auc: 0.9878\n",
            "Epoch 27: val_loss did not improve from 0.30915\n",
            "138/138 [==============================] - 31s 222ms/step - loss: 0.1480 - dice_coef: 0.8876 - iou: 0.7982 - recall: 0.9012 - precision: 0.9077 - auc: 0.9878 - val_loss: 0.3159 - val_dice_coef: 0.7665 - val_iou: 0.6229 - val_recall: 0.7469 - val_precision: 0.8231 - val_auc: 0.9428 - lr: 1.0000e-05\n",
            "Epoch 28/50\n",
            "138/138 [==============================] - ETA: 0s - loss: 0.1427 - dice_coef: 0.8917 - iou: 0.8048 - recall: 0.9047 - precision: 0.9121 - auc: 0.9880\n",
            "Epoch 28: val_loss did not improve from 0.30915\n",
            "138/138 [==============================] - 31s 222ms/step - loss: 0.1427 - dice_coef: 0.8917 - iou: 0.8048 - recall: 0.9047 - precision: 0.9121 - auc: 0.9880 - val_loss: 0.3202 - val_dice_coef: 0.7636 - val_iou: 0.6193 - val_recall: 0.7397 - val_precision: 0.8258 - val_auc: 0.9408 - lr: 1.0000e-05\n",
            "Epoch 29/50\n",
            "138/138 [==============================] - ETA: 0s - loss: 0.1383 - dice_coef: 0.8951 - iou: 0.8104 - recall: 0.9071 - precision: 0.9161 - auc: 0.9882\n",
            "Epoch 29: val_loss did not improve from 0.30915\n",
            "138/138 [==============================] - 31s 222ms/step - loss: 0.1383 - dice_coef: 0.8951 - iou: 0.8104 - recall: 0.9071 - precision: 0.9161 - auc: 0.9882 - val_loss: 0.3226 - val_dice_coef: 0.7629 - val_iou: 0.6183 - val_recall: 0.7395 - val_precision: 0.8245 - val_auc: 0.9397 - lr: 1.0000e-05\n",
            "Epoch 30/50\n",
            "138/138 [==============================] - ETA: 0s - loss: 0.1338 - dice_coef: 0.8986 - iou: 0.8161 - recall: 0.9099 - precision: 0.9198 - auc: 0.9884\n",
            "Epoch 30: val_loss did not improve from 0.30915\n",
            "\n",
            "Epoch 30: ReduceLROnPlateau reducing learning rate to 1e-06.\n",
            "138/138 [==============================] - 31s 222ms/step - loss: 0.1338 - dice_coef: 0.8986 - iou: 0.8161 - recall: 0.9099 - precision: 0.9198 - auc: 0.9884 - val_loss: 0.3255 - val_dice_coef: 0.7620 - val_iou: 0.6171 - val_recall: 0.7369 - val_precision: 0.8249 - val_auc: 0.9375 - lr: 1.0000e-05\n",
            "Epoch 31/50\n",
            "138/138 [==============================] - ETA: 0s - loss: 0.1405 - dice_coef: 0.8941 - iou: 0.8087 - recall: 0.9013 - precision: 0.9170 - auc: 0.9874\n",
            "Epoch 31: val_loss did not improve from 0.30915\n",
            "138/138 [==============================] - 31s 222ms/step - loss: 0.1405 - dice_coef: 0.8941 - iou: 0.8087 - recall: 0.9013 - precision: 0.9170 - auc: 0.9874 - val_loss: 0.3209 - val_dice_coef: 0.7676 - val_iou: 0.6240 - val_recall: 0.7521 - val_precision: 0.8187 - val_auc: 0.9401 - lr: 1.0000e-06\n",
            "Epoch 32/50\n",
            "138/138 [==============================] - ETA: 0s - loss: 0.1402 - dice_coef: 0.8942 - iou: 0.8090 - recall: 0.9027 - precision: 0.9162 - auc: 0.9876\n",
            "Epoch 32: val_loss did not improve from 0.30915\n",
            "138/138 [==============================] - 31s 222ms/step - loss: 0.1402 - dice_coef: 0.8942 - iou: 0.8090 - recall: 0.9027 - precision: 0.9162 - auc: 0.9876 - val_loss: 0.3196 - val_dice_coef: 0.7687 - val_iou: 0.6254 - val_recall: 0.7544 - val_precision: 0.8166 - val_auc: 0.9410 - lr: 1.0000e-06\n",
            "Epoch 33/50\n",
            "138/138 [==============================] - ETA: 0s - loss: 0.1401 - dice_coef: 0.8942 - iou: 0.8090 - recall: 0.9027 - precision: 0.9164 - auc: 0.9877\n",
            "Epoch 33: val_loss did not improve from 0.30915\n",
            "138/138 [==============================] - 31s 222ms/step - loss: 0.1401 - dice_coef: 0.8942 - iou: 0.8090 - recall: 0.9027 - precision: 0.9164 - auc: 0.9877 - val_loss: 0.3194 - val_dice_coef: 0.7689 - val_iou: 0.6256 - val_recall: 0.7561 - val_precision: 0.8145 - val_auc: 0.9416 - lr: 1.0000e-06\n",
            "Epoch 34/50\n",
            "138/138 [==============================] - ETA: 0s - loss: 0.1391 - dice_coef: 0.8949 - iou: 0.8102 - recall: 0.9037 - precision: 0.9168 - auc: 0.9880\n",
            "Epoch 34: val_loss did not improve from 0.30915\n",
            "138/138 [==============================] - 31s 223ms/step - loss: 0.1391 - dice_coef: 0.8949 - iou: 0.8102 - recall: 0.9037 - precision: 0.9168 - auc: 0.9880 - val_loss: 0.3195 - val_dice_coef: 0.7690 - val_iou: 0.6256 - val_recall: 0.7574 - val_precision: 0.8128 - val_auc: 0.9421 - lr: 1.0000e-06\n",
            "Epoch 35/50\n",
            "138/138 [==============================] - ETA: 0s - loss: 0.1380 - dice_coef: 0.8957 - iou: 0.8114 - recall: 0.9047 - precision: 0.9174 - auc: 0.9881\n",
            "Epoch 35: val_loss did not improve from 0.30915\n",
            "138/138 [==============================] - 31s 222ms/step - loss: 0.1380 - dice_coef: 0.8957 - iou: 0.8114 - recall: 0.9047 - precision: 0.9174 - auc: 0.9881 - val_loss: 0.3196 - val_dice_coef: 0.7690 - val_iou: 0.6256 - val_recall: 0.7582 - val_precision: 0.8116 - val_auc: 0.9424 - lr: 1.0000e-06\n"
          ]
        },
        {
          "data": {
            "text/plain": [
              "<keras.callbacks.History at 0x7f43f01cf450>"
            ]
          },
          "execution_count": null,
          "metadata": {},
          "output_type": "execute_result"
        }
      ],
      "source": [
        "\"\"\" Seeding \"\"\"\n",
        "np.random.seed(42)\n",
        "tf.random.set_seed(42)\n",
        "\n",
        "\"\"\" Directory to save files \"\"\"\n",
        "create_dir(model_dir)\n",
        "\n",
        "\"\"\" Hyperparameters \"\"\"\n",
        "batch_size = 8\n",
        "lr = 1e-4\n",
        "num_epochs = 50\n",
        "model_path = os.path.join(f\"{model_dir}\", \"model.h5\")\n",
        "csv_path = os.path.join(f\"{model_dir}\", \"data.csv\")\n",
        "\n",
        "\"\"\" Dataset \"\"\"\n",
        "dataset_path = f\"{data_path}/{split_name}\"\n",
        "train_path = os.path.join(dataset_path, \"train\")\n",
        "valid_path = os.path.join(dataset_path, \"test\")\n",
        "\n",
        "train_x, train_y = load_data(train_path)\n",
        "# train_x, train_y = shuffling(train_x, train_y)\n",
        "valid_x, valid_y = load_data(valid_path)\n",
        "\n",
        "print(f\"Train: {len(train_x)} - {len(train_y)}\")\n",
        "print(f\"Valid: {len(valid_x)} - {len(valid_y)}\")\n",
        "\n",
        "train_dataset = tf_dataset(train_x, train_y, batch_size=batch_size)\n",
        "valid_dataset = tf_dataset(valid_x, valid_y, batch_size=batch_size)\n",
        "\n",
        "train_steps = len(train_x)//batch_size\n",
        "valid_setps = len(valid_x)//batch_size\n",
        "\n",
        "if len(train_x) % batch_size != 0:\n",
        "    train_steps += 1\n",
        "if len(valid_x) % batch_size != 0:\n",
        "    valid_setps += 1\n",
        "\n",
        "\"\"\" Model \"\"\"\n",
        "model = build_unet((H, W, 3))\n",
        "model.compile(loss=loss, optimizer=Adam(lr), metrics=[dice_coef, iou, Recall(), Precision(), AUC()])\n",
        "\n",
        "callbacks = [\n",
        "    ModelCheckpoint(model_path, verbose=1, save_best_only=True),\n",
        "    ReduceLROnPlateau(monitor=\"val_loss\", factor=0.1, patience=5, min_lr=1e-6, verbose=1),\n",
        "    CSVLogger(csv_path),\n",
        "    TensorBoard(),\n",
        "    EarlyStopping(monitor=\"val_loss\", patience=10, restore_best_weights=False)\n",
        "]\n",
        "\n",
        "model.fit(\n",
        "    train_dataset,\n",
        "    epochs=num_epochs,\n",
        "    validation_data=valid_dataset,\n",
        "    steps_per_epoch=train_steps,\n",
        "    validation_steps=valid_setps,\n",
        "    callbacks=callbacks\n",
        ")"
      ]
    },
    {
      "cell_type": "markdown",
      "metadata": {
        "id": "z0HWQPIv6F3u"
      },
      "source": [
        "### Evaluating the Model:"
      ]
    },
    {
      "cell_type": "code",
      "execution_count": null,
      "metadata": {
        "colab": {
          "background_save": true
        },
        "id": "Ptl8ug8uby3R"
      },
      "outputs": [],
      "source": [
        "import os\n",
        "os.environ[\"TF_CPP_MIN_LOG_LEVEL\"] = \"2\"\n",
        "import numpy as np\n",
        "import pandas as pd\n",
        "import cv2\n",
        "from glob import glob\n",
        "from tqdm import tqdm\n",
        "import tensorflow as tf\n",
        "from tensorflow.keras.utils import CustomObjectScope\n",
        "from sklearn.metrics import accuracy_score, f1_score, jaccard_score, precision_score, recall_score\n",
        "from tensorflow.keras.models import load_model"
      ]
    },
    {
      "cell_type": "code",
      "execution_count": null,
      "metadata": {
        "colab": {
          "background_save": true
        },
        "id": "HmFXTEtz6Rhn"
      },
      "outputs": [],
      "source": [
        "\n",
        "def create_dir(path):\n",
        "    if not os.path.exists(path):\n",
        "        os.makedirs(path)\n",
        "\n",
        "def read_image(path):\n",
        "    x = cv2.imread(path, cv2.IMREAD_COLOR)\n",
        "    # x = cv2.resize(x, (W, H))\n",
        "    ori_x = x\n",
        "    x = x/255.0\n",
        "    x = x.astype(np.float32)\n",
        "    return ori_x, x\n",
        "\n",
        "def read_mask(path):\n",
        "    x = cv2.imread(path, cv2.IMREAD_GRAYSCALE)  ## (512, 512)\n",
        "    # x = cv2.resize(x, (W, H))\n",
        "    ori_x = x\n",
        "    x = x/255.0\n",
        "    x = x.astype(np.int32)\n",
        "    return ori_x, x\n",
        "\n",
        "def load_data(path):\n",
        "    x = sorted(glob(os.path.join(path, \"image\", \"*.png\")))\n",
        "    y = sorted(glob(os.path.join(path, \"mask\", \"*.png\")))\n",
        "    return x, y\n",
        "\n",
        "def save_results(ori_x, ori_y, y_pred, save_image_path):\n",
        "    line = np.ones((H, 10, 3)) * 255\n",
        "\n",
        "    ori_y = np.expand_dims(ori_y, axis=-1)\n",
        "    ori_y = np.concatenate([ori_y, ori_y, ori_y], axis=-1)\n",
        "\n",
        "    y_pred = np.expand_dims(y_pred, axis=-1)\n",
        "    y_pred = np.concatenate([y_pred, y_pred, y_pred], axis=-1) * 255\n",
        "\n",
        "    cat_images = np.concatenate([ori_x, line, ori_y, line, y_pred], axis=1)\n",
        "    cv2.imwrite(save_image_path, cat_images)"
      ]
    },
    {
      "cell_type": "code",
      "execution_count": null,
      "metadata": {
        "colab": {
          "background_save": true
        },
        "id": "AVfRbYagZChd"
      },
      "outputs": [],
      "source": [
        "import glob\n",
        "supported_extensions = [\"png\", \"jpg\", \"tif\", \"jpeg\", \"gif\", \"bmp\"]\n",
        "\n",
        "def image_files(path, file_prefix=None):\n",
        "    all_image_files = []\n",
        "    # print(\"path\", path)\n",
        "    # print(\"file_prefix\", file_prefix)\n",
        "    if file_prefix is None:\n",
        "        file_names = list(glob.glob(path + \"/*.*\" ))\n",
        "    else:\n",
        "        prefix___ = path + \"/\" + file_prefix + \".*\"\n",
        "        #print(\"prefix\", prefix___)\n",
        "        file_names = list(glob.glob(prefix___))\n",
        "\n",
        "    # print(\"filenames\", file_names)\n",
        "\n",
        "    for filename in file_names:\n",
        "        ext = filename.rsplit(\".\", 1)[1]\n",
        "        if ext.lower() in supported_extensions:\n",
        "            all_image_files.append(filename)\n",
        "    # print(\"All Image files\", all_image_files)\n",
        "    return sorted(all_image_files)\n"
      ]
    },
    {
      "cell_type": "code",
      "execution_count": null,
      "metadata": {
        "colab": {
          "background_save": true
        },
        "id": "41UgJB8nD_XH"
      },
      "outputs": [],
      "source": [
        "results_path = f\"{root_path}/results/\"\n",
        "prediction_path = f\"{root_path}/predictions/\"\n",
        "prediction_np_path = f\"{root_path}/predictions_np/\"\n",
        "create_dir(prediction_path)\n",
        "create_dir(prediction_np_path)\n",
        "create_dir(results_path)"
      ]
    },
    {
      "cell_type": "code",
      "execution_count": null,
      "metadata": {
        "colab": {
          "background_save": true
        },
        "id": "BJYCeRNgZOHE",
        "outputId": "3d1427e2-3946-4183-d21a-aad697869572"
      },
      "outputs": [
        {
          "data": {
            "application/vnd.google.colaboratory.intrinsic+json": {
              "type": "string"
            },
            "text/plain": [
              "'/content/datasets/chase_db_320_320_dice_bce_0_4__hvr_0_4_1//results/'"
            ]
          },
          "execution_count": null,
          "metadata": {},
          "output_type": "execute_result"
        }
      ],
      "source": [
        "results_path"
      ]
    },
    {
      "cell_type": "code",
      "execution_count": null,
      "metadata": {
        "colab": {
          "background_save": true
        },
        "id": "R9b3W24IZwQO"
      },
      "outputs": [],
      "source": [
        "from glob import glob"
      ]
    },
    {
      "cell_type": "code",
      "execution_count": null,
      "metadata": {
        "colab": {
          "background_save": true
        },
        "id": "bVTFZdxa6TuQ",
        "outputId": "6fa3c343-ad6a-4fb3-9d43-1abdaeb4c5e1"
      },
      "outputs": [
        {
          "name": "stderr",
          "output_type": "stream",
          "text": [
            "  0%|          | 0/60 [00:00<?, ?it/s]/usr/local/lib/python3.7/dist-packages/ipykernel_launcher.py:28: DeprecationWarning: `np.int` is a deprecated alias for the builtin `int`. To silence this warning, use `int` by itself. Doing this will not modify any behavior and is safe. When replacing `np.int`, you may wish to use e.g. `np.int64` or `np.int32` to specify the precision. If you wish to review your current use, check the release note link for additional information.\n",
            "Deprecated in NumPy 1.20; for more details and guidance: https://numpy.org/devdocs/release/1.20.0-notes.html#deprecations\n",
            "  2%|▏         | 1/60 [00:01<01:06,  1.12s/it]/usr/local/lib/python3.7/dist-packages/ipykernel_launcher.py:28: DeprecationWarning: `np.int` is a deprecated alias for the builtin `int`. To silence this warning, use `int` by itself. Doing this will not modify any behavior and is safe. When replacing `np.int`, you may wish to use e.g. `np.int64` or `np.int32` to specify the precision. If you wish to review your current use, check the release note link for additional information.\n",
            "Deprecated in NumPy 1.20; for more details and guidance: https://numpy.org/devdocs/release/1.20.0-notes.html#deprecations\n",
            "  3%|▎         | 2/60 [00:01<00:34,  1.67it/s]/usr/local/lib/python3.7/dist-packages/ipykernel_launcher.py:28: DeprecationWarning: `np.int` is a deprecated alias for the builtin `int`. To silence this warning, use `int` by itself. Doing this will not modify any behavior and is safe. When replacing `np.int`, you may wish to use e.g. `np.int64` or `np.int32` to specify the precision. If you wish to review your current use, check the release note link for additional information.\n",
            "Deprecated in NumPy 1.20; for more details and guidance: https://numpy.org/devdocs/release/1.20.0-notes.html#deprecations\n",
            "  5%|▌         | 3/60 [00:01<00:24,  2.33it/s]/usr/local/lib/python3.7/dist-packages/ipykernel_launcher.py:28: DeprecationWarning: `np.int` is a deprecated alias for the builtin `int`. To silence this warning, use `int` by itself. Doing this will not modify any behavior and is safe. When replacing `np.int`, you may wish to use e.g. `np.int64` or `np.int32` to specify the precision. If you wish to review your current use, check the release note link for additional information.\n",
            "Deprecated in NumPy 1.20; for more details and guidance: https://numpy.org/devdocs/release/1.20.0-notes.html#deprecations\n",
            "/usr/local/lib/python3.7/dist-packages/sklearn/metrics/_classification.py:1318: UndefinedMetricWarning: Recall is ill-defined and being set to 0.0 due to no true samples. Use `zero_division` parameter to control this behavior.\n",
            "  _warn_prf(average, modifier, msg_start, len(result))\n",
            "  7%|▋         | 4/60 [00:01<00:18,  3.01it/s]/usr/local/lib/python3.7/dist-packages/ipykernel_launcher.py:28: DeprecationWarning: `np.int` is a deprecated alias for the builtin `int`. To silence this warning, use `int` by itself. Doing this will not modify any behavior and is safe. When replacing `np.int`, you may wish to use e.g. `np.int64` or `np.int32` to specify the precision. If you wish to review your current use, check the release note link for additional information.\n",
            "Deprecated in NumPy 1.20; for more details and guidance: https://numpy.org/devdocs/release/1.20.0-notes.html#deprecations\n",
            "  8%|▊         | 5/60 [00:01<00:16,  3.40it/s]/usr/local/lib/python3.7/dist-packages/ipykernel_launcher.py:28: DeprecationWarning: `np.int` is a deprecated alias for the builtin `int`. To silence this warning, use `int` by itself. Doing this will not modify any behavior and is safe. When replacing `np.int`, you may wish to use e.g. `np.int64` or `np.int32` to specify the precision. If you wish to review your current use, check the release note link for additional information.\n",
            "Deprecated in NumPy 1.20; for more details and guidance: https://numpy.org/devdocs/release/1.20.0-notes.html#deprecations\n",
            "/usr/local/lib/python3.7/dist-packages/sklearn/metrics/_classification.py:1318: UndefinedMetricWarning: Precision is ill-defined and being set to 0.0 due to no predicted samples. Use `zero_division` parameter to control this behavior.\n",
            "  _warn_prf(average, modifier, msg_start, len(result))\n",
            " 10%|█         | 6/60 [00:02<00:14,  3.74it/s]/usr/local/lib/python3.7/dist-packages/ipykernel_launcher.py:28: DeprecationWarning: `np.int` is a deprecated alias for the builtin `int`. To silence this warning, use `int` by itself. Doing this will not modify any behavior and is safe. When replacing `np.int`, you may wish to use e.g. `np.int64` or `np.int32` to specify the precision. If you wish to review your current use, check the release note link for additional information.\n",
            "Deprecated in NumPy 1.20; for more details and guidance: https://numpy.org/devdocs/release/1.20.0-notes.html#deprecations\n",
            " 12%|█▏        | 7/60 [00:02<00:13,  3.93it/s]/usr/local/lib/python3.7/dist-packages/ipykernel_launcher.py:28: DeprecationWarning: `np.int` is a deprecated alias for the builtin `int`. To silence this warning, use `int` by itself. Doing this will not modify any behavior and is safe. When replacing `np.int`, you may wish to use e.g. `np.int64` or `np.int32` to specify the precision. If you wish to review your current use, check the release note link for additional information.\n",
            "Deprecated in NumPy 1.20; for more details and guidance: https://numpy.org/devdocs/release/1.20.0-notes.html#deprecations\n",
            " 13%|█▎        | 8/60 [00:02<00:12,  4.00it/s]/usr/local/lib/python3.7/dist-packages/ipykernel_launcher.py:28: DeprecationWarning: `np.int` is a deprecated alias for the builtin `int`. To silence this warning, use `int` by itself. Doing this will not modify any behavior and is safe. When replacing `np.int`, you may wish to use e.g. `np.int64` or `np.int32` to specify the precision. If you wish to review your current use, check the release note link for additional information.\n",
            "Deprecated in NumPy 1.20; for more details and guidance: https://numpy.org/devdocs/release/1.20.0-notes.html#deprecations\n",
            " 15%|█▌        | 9/60 [00:02<00:12,  4.11it/s]/usr/local/lib/python3.7/dist-packages/ipykernel_launcher.py:28: DeprecationWarning: `np.int` is a deprecated alias for the builtin `int`. To silence this warning, use `int` by itself. Doing this will not modify any behavior and is safe. When replacing `np.int`, you may wish to use e.g. `np.int64` or `np.int32` to specify the precision. If you wish to review your current use, check the release note link for additional information.\n",
            "Deprecated in NumPy 1.20; for more details and guidance: https://numpy.org/devdocs/release/1.20.0-notes.html#deprecations\n",
            " 17%|█▋        | 10/60 [00:03<00:11,  4.25it/s]/usr/local/lib/python3.7/dist-packages/ipykernel_launcher.py:28: DeprecationWarning: `np.int` is a deprecated alias for the builtin `int`. To silence this warning, use `int` by itself. Doing this will not modify any behavior and is safe. When replacing `np.int`, you may wish to use e.g. `np.int64` or `np.int32` to specify the precision. If you wish to review your current use, check the release note link for additional information.\n",
            "Deprecated in NumPy 1.20; for more details and guidance: https://numpy.org/devdocs/release/1.20.0-notes.html#deprecations\n",
            " 18%|█▊        | 11/60 [00:03<00:11,  4.33it/s]/usr/local/lib/python3.7/dist-packages/ipykernel_launcher.py:28: DeprecationWarning: `np.int` is a deprecated alias for the builtin `int`. To silence this warning, use `int` by itself. Doing this will not modify any behavior and is safe. When replacing `np.int`, you may wish to use e.g. `np.int64` or `np.int32` to specify the precision. If you wish to review your current use, check the release note link for additional information.\n",
            "Deprecated in NumPy 1.20; for more details and guidance: https://numpy.org/devdocs/release/1.20.0-notes.html#deprecations\n",
            " 20%|██        | 12/60 [00:03<00:11,  4.35it/s]/usr/local/lib/python3.7/dist-packages/ipykernel_launcher.py:28: DeprecationWarning: `np.int` is a deprecated alias for the builtin `int`. To silence this warning, use `int` by itself. Doing this will not modify any behavior and is safe. When replacing `np.int`, you may wish to use e.g. `np.int64` or `np.int32` to specify the precision. If you wish to review your current use, check the release note link for additional information.\n",
            "Deprecated in NumPy 1.20; for more details and guidance: https://numpy.org/devdocs/release/1.20.0-notes.html#deprecations\n",
            "/usr/local/lib/python3.7/dist-packages/sklearn/metrics/_classification.py:1318: UndefinedMetricWarning: Precision is ill-defined and being set to 0.0 due to no predicted samples. Use `zero_division` parameter to control this behavior.\n",
            "  _warn_prf(average, modifier, msg_start, len(result))\n",
            " 22%|██▏       | 13/60 [00:03<00:10,  4.42it/s]/usr/local/lib/python3.7/dist-packages/ipykernel_launcher.py:28: DeprecationWarning: `np.int` is a deprecated alias for the builtin `int`. To silence this warning, use `int` by itself. Doing this will not modify any behavior and is safe. When replacing `np.int`, you may wish to use e.g. `np.int64` or `np.int32` to specify the precision. If you wish to review your current use, check the release note link for additional information.\n",
            "Deprecated in NumPy 1.20; for more details and guidance: https://numpy.org/devdocs/release/1.20.0-notes.html#deprecations\n",
            " 23%|██▎       | 14/60 [00:04<00:10,  4.37it/s]/usr/local/lib/python3.7/dist-packages/ipykernel_launcher.py:28: DeprecationWarning: `np.int` is a deprecated alias for the builtin `int`. To silence this warning, use `int` by itself. Doing this will not modify any behavior and is safe. When replacing `np.int`, you may wish to use e.g. `np.int64` or `np.int32` to specify the precision. If you wish to review your current use, check the release note link for additional information.\n",
            "Deprecated in NumPy 1.20; for more details and guidance: https://numpy.org/devdocs/release/1.20.0-notes.html#deprecations\n",
            " 25%|██▌       | 15/60 [00:04<00:10,  4.32it/s]/usr/local/lib/python3.7/dist-packages/ipykernel_launcher.py:28: DeprecationWarning: `np.int` is a deprecated alias for the builtin `int`. To silence this warning, use `int` by itself. Doing this will not modify any behavior and is safe. When replacing `np.int`, you may wish to use e.g. `np.int64` or `np.int32` to specify the precision. If you wish to review your current use, check the release note link for additional information.\n",
            "Deprecated in NumPy 1.20; for more details and guidance: https://numpy.org/devdocs/release/1.20.0-notes.html#deprecations\n",
            " 27%|██▋       | 16/60 [00:04<00:10,  4.37it/s]/usr/local/lib/python3.7/dist-packages/ipykernel_launcher.py:28: DeprecationWarning: `np.int` is a deprecated alias for the builtin `int`. To silence this warning, use `int` by itself. Doing this will not modify any behavior and is safe. When replacing `np.int`, you may wish to use e.g. `np.int64` or `np.int32` to specify the precision. If you wish to review your current use, check the release note link for additional information.\n",
            "Deprecated in NumPy 1.20; for more details and guidance: https://numpy.org/devdocs/release/1.20.0-notes.html#deprecations\n",
            " 28%|██▊       | 17/60 [00:04<00:09,  4.36it/s]/usr/local/lib/python3.7/dist-packages/ipykernel_launcher.py:28: DeprecationWarning: `np.int` is a deprecated alias for the builtin `int`. To silence this warning, use `int` by itself. Doing this will not modify any behavior and is safe. When replacing `np.int`, you may wish to use e.g. `np.int64` or `np.int32` to specify the precision. If you wish to review your current use, check the release note link for additional information.\n",
            "Deprecated in NumPy 1.20; for more details and guidance: https://numpy.org/devdocs/release/1.20.0-notes.html#deprecations\n",
            "/usr/local/lib/python3.7/dist-packages/sklearn/metrics/_classification.py:1318: UndefinedMetricWarning: Precision is ill-defined and being set to 0.0 due to no predicted samples. Use `zero_division` parameter to control this behavior.\n",
            "  _warn_prf(average, modifier, msg_start, len(result))\n",
            " 30%|███       | 18/60 [00:04<00:09,  4.41it/s]/usr/local/lib/python3.7/dist-packages/ipykernel_launcher.py:28: DeprecationWarning: `np.int` is a deprecated alias for the builtin `int`. To silence this warning, use `int` by itself. Doing this will not modify any behavior and is safe. When replacing `np.int`, you may wish to use e.g. `np.int64` or `np.int32` to specify the precision. If you wish to review your current use, check the release note link for additional information.\n",
            "Deprecated in NumPy 1.20; for more details and guidance: https://numpy.org/devdocs/release/1.20.0-notes.html#deprecations\n",
            " 32%|███▏      | 19/60 [00:05<00:09,  4.47it/s]/usr/local/lib/python3.7/dist-packages/ipykernel_launcher.py:28: DeprecationWarning: `np.int` is a deprecated alias for the builtin `int`. To silence this warning, use `int` by itself. Doing this will not modify any behavior and is safe. When replacing `np.int`, you may wish to use e.g. `np.int64` or `np.int32` to specify the precision. If you wish to review your current use, check the release note link for additional information.\n",
            "Deprecated in NumPy 1.20; for more details and guidance: https://numpy.org/devdocs/release/1.20.0-notes.html#deprecations\n",
            " 33%|███▎      | 20/60 [00:05<00:08,  4.45it/s]/usr/local/lib/python3.7/dist-packages/ipykernel_launcher.py:28: DeprecationWarning: `np.int` is a deprecated alias for the builtin `int`. To silence this warning, use `int` by itself. Doing this will not modify any behavior and is safe. When replacing `np.int`, you may wish to use e.g. `np.int64` or `np.int32` to specify the precision. If you wish to review your current use, check the release note link for additional information.\n",
            "Deprecated in NumPy 1.20; for more details and guidance: https://numpy.org/devdocs/release/1.20.0-notes.html#deprecations\n",
            " 35%|███▌      | 21/60 [00:05<00:09,  4.33it/s]/usr/local/lib/python3.7/dist-packages/ipykernel_launcher.py:28: DeprecationWarning: `np.int` is a deprecated alias for the builtin `int`. To silence this warning, use `int` by itself. Doing this will not modify any behavior and is safe. When replacing `np.int`, you may wish to use e.g. `np.int64` or `np.int32` to specify the precision. If you wish to review your current use, check the release note link for additional information.\n",
            "Deprecated in NumPy 1.20; for more details and guidance: https://numpy.org/devdocs/release/1.20.0-notes.html#deprecations\n",
            " 37%|███▋      | 22/60 [00:05<00:08,  4.34it/s]/usr/local/lib/python3.7/dist-packages/ipykernel_launcher.py:28: DeprecationWarning: `np.int` is a deprecated alias for the builtin `int`. To silence this warning, use `int` by itself. Doing this will not modify any behavior and is safe. When replacing `np.int`, you may wish to use e.g. `np.int64` or `np.int32` to specify the precision. If you wish to review your current use, check the release note link for additional information.\n",
            "Deprecated in NumPy 1.20; for more details and guidance: https://numpy.org/devdocs/release/1.20.0-notes.html#deprecations\n",
            "/usr/local/lib/python3.7/dist-packages/sklearn/metrics/_classification.py:1318: UndefinedMetricWarning: Precision is ill-defined and being set to 0.0 due to no predicted samples. Use `zero_division` parameter to control this behavior.\n",
            "  _warn_prf(average, modifier, msg_start, len(result))\n",
            " 38%|███▊      | 23/60 [00:06<00:08,  4.41it/s]/usr/local/lib/python3.7/dist-packages/ipykernel_launcher.py:28: DeprecationWarning: `np.int` is a deprecated alias for the builtin `int`. To silence this warning, use `int` by itself. Doing this will not modify any behavior and is safe. When replacing `np.int`, you may wish to use e.g. `np.int64` or `np.int32` to specify the precision. If you wish to review your current use, check the release note link for additional information.\n",
            "Deprecated in NumPy 1.20; for more details and guidance: https://numpy.org/devdocs/release/1.20.0-notes.html#deprecations\n",
            " 40%|████      | 24/60 [00:06<00:08,  4.42it/s]/usr/local/lib/python3.7/dist-packages/ipykernel_launcher.py:28: DeprecationWarning: `np.int` is a deprecated alias for the builtin `int`. To silence this warning, use `int` by itself. Doing this will not modify any behavior and is safe. When replacing `np.int`, you may wish to use e.g. `np.int64` or `np.int32` to specify the precision. If you wish to review your current use, check the release note link for additional information.\n",
            "Deprecated in NumPy 1.20; for more details and guidance: https://numpy.org/devdocs/release/1.20.0-notes.html#deprecations\n",
            "/usr/local/lib/python3.7/dist-packages/sklearn/metrics/_classification.py:1318: UndefinedMetricWarning: Precision is ill-defined and being set to 0.0 due to no predicted samples. Use `zero_division` parameter to control this behavior.\n",
            "  _warn_prf(average, modifier, msg_start, len(result))\n",
            " 42%|████▏     | 25/60 [00:06<00:07,  4.48it/s]/usr/local/lib/python3.7/dist-packages/ipykernel_launcher.py:28: DeprecationWarning: `np.int` is a deprecated alias for the builtin `int`. To silence this warning, use `int` by itself. Doing this will not modify any behavior and is safe. When replacing `np.int`, you may wish to use e.g. `np.int64` or `np.int32` to specify the precision. If you wish to review your current use, check the release note link for additional information.\n",
            "Deprecated in NumPy 1.20; for more details and guidance: https://numpy.org/devdocs/release/1.20.0-notes.html#deprecations\n",
            " 43%|████▎     | 26/60 [00:06<00:07,  4.44it/s]/usr/local/lib/python3.7/dist-packages/ipykernel_launcher.py:28: DeprecationWarning: `np.int` is a deprecated alias for the builtin `int`. To silence this warning, use `int` by itself. Doing this will not modify any behavior and is safe. When replacing `np.int`, you may wish to use e.g. `np.int64` or `np.int32` to specify the precision. If you wish to review your current use, check the release note link for additional information.\n",
            "Deprecated in NumPy 1.20; for more details and guidance: https://numpy.org/devdocs/release/1.20.0-notes.html#deprecations\n",
            " 45%|████▌     | 27/60 [00:06<00:07,  4.43it/s]/usr/local/lib/python3.7/dist-packages/ipykernel_launcher.py:28: DeprecationWarning: `np.int` is a deprecated alias for the builtin `int`. To silence this warning, use `int` by itself. Doing this will not modify any behavior and is safe. When replacing `np.int`, you may wish to use e.g. `np.int64` or `np.int32` to specify the precision. If you wish to review your current use, check the release note link for additional information.\n",
            "Deprecated in NumPy 1.20; for more details and guidance: https://numpy.org/devdocs/release/1.20.0-notes.html#deprecations\n",
            " 47%|████▋     | 28/60 [00:07<00:07,  4.49it/s]/usr/local/lib/python3.7/dist-packages/ipykernel_launcher.py:28: DeprecationWarning: `np.int` is a deprecated alias for the builtin `int`. To silence this warning, use `int` by itself. Doing this will not modify any behavior and is safe. When replacing `np.int`, you may wish to use e.g. `np.int64` or `np.int32` to specify the precision. If you wish to review your current use, check the release note link for additional information.\n",
            "Deprecated in NumPy 1.20; for more details and guidance: https://numpy.org/devdocs/release/1.20.0-notes.html#deprecations\n",
            " 48%|████▊     | 29/60 [00:07<00:06,  4.48it/s]/usr/local/lib/python3.7/dist-packages/ipykernel_launcher.py:28: DeprecationWarning: `np.int` is a deprecated alias for the builtin `int`. To silence this warning, use `int` by itself. Doing this will not modify any behavior and is safe. When replacing `np.int`, you may wish to use e.g. `np.int64` or `np.int32` to specify the precision. If you wish to review your current use, check the release note link for additional information.\n",
            "Deprecated in NumPy 1.20; for more details and guidance: https://numpy.org/devdocs/release/1.20.0-notes.html#deprecations\n",
            " 50%|█████     | 30/60 [00:07<00:06,  4.54it/s]/usr/local/lib/python3.7/dist-packages/ipykernel_launcher.py:28: DeprecationWarning: `np.int` is a deprecated alias for the builtin `int`. To silence this warning, use `int` by itself. Doing this will not modify any behavior and is safe. When replacing `np.int`, you may wish to use e.g. `np.int64` or `np.int32` to specify the precision. If you wish to review your current use, check the release note link for additional information.\n",
            "Deprecated in NumPy 1.20; for more details and guidance: https://numpy.org/devdocs/release/1.20.0-notes.html#deprecations\n",
            " 52%|█████▏    | 31/60 [00:07<00:06,  4.51it/s]/usr/local/lib/python3.7/dist-packages/ipykernel_launcher.py:28: DeprecationWarning: `np.int` is a deprecated alias for the builtin `int`. To silence this warning, use `int` by itself. Doing this will not modify any behavior and is safe. When replacing `np.int`, you may wish to use e.g. `np.int64` or `np.int32` to specify the precision. If you wish to review your current use, check the release note link for additional information.\n",
            "Deprecated in NumPy 1.20; for more details and guidance: https://numpy.org/devdocs/release/1.20.0-notes.html#deprecations\n",
            " 53%|█████▎    | 32/60 [00:08<00:06,  4.43it/s]/usr/local/lib/python3.7/dist-packages/ipykernel_launcher.py:28: DeprecationWarning: `np.int` is a deprecated alias for the builtin `int`. To silence this warning, use `int` by itself. Doing this will not modify any behavior and is safe. When replacing `np.int`, you may wish to use e.g. `np.int64` or `np.int32` to specify the precision. If you wish to review your current use, check the release note link for additional information.\n",
            "Deprecated in NumPy 1.20; for more details and guidance: https://numpy.org/devdocs/release/1.20.0-notes.html#deprecations\n",
            " 55%|█████▌    | 33/60 [00:08<00:06,  4.38it/s]/usr/local/lib/python3.7/dist-packages/ipykernel_launcher.py:28: DeprecationWarning: `np.int` is a deprecated alias for the builtin `int`. To silence this warning, use `int` by itself. Doing this will not modify any behavior and is safe. When replacing `np.int`, you may wish to use e.g. `np.int64` or `np.int32` to specify the precision. If you wish to review your current use, check the release note link for additional information.\n",
            "Deprecated in NumPy 1.20; for more details and guidance: https://numpy.org/devdocs/release/1.20.0-notes.html#deprecations\n",
            " 57%|█████▋    | 34/60 [00:08<00:05,  4.38it/s]/usr/local/lib/python3.7/dist-packages/ipykernel_launcher.py:28: DeprecationWarning: `np.int` is a deprecated alias for the builtin `int`. To silence this warning, use `int` by itself. Doing this will not modify any behavior and is safe. When replacing `np.int`, you may wish to use e.g. `np.int64` or `np.int32` to specify the precision. If you wish to review your current use, check the release note link for additional information.\n",
            "Deprecated in NumPy 1.20; for more details and guidance: https://numpy.org/devdocs/release/1.20.0-notes.html#deprecations\n",
            " 58%|█████▊    | 35/60 [00:08<00:05,  4.44it/s]/usr/local/lib/python3.7/dist-packages/ipykernel_launcher.py:28: DeprecationWarning: `np.int` is a deprecated alias for the builtin `int`. To silence this warning, use `int` by itself. Doing this will not modify any behavior and is safe. When replacing `np.int`, you may wish to use e.g. `np.int64` or `np.int32` to specify the precision. If you wish to review your current use, check the release note link for additional information.\n",
            "Deprecated in NumPy 1.20; for more details and guidance: https://numpy.org/devdocs/release/1.20.0-notes.html#deprecations\n",
            " 60%|██████    | 36/60 [00:08<00:05,  4.43it/s]/usr/local/lib/python3.7/dist-packages/ipykernel_launcher.py:28: DeprecationWarning: `np.int` is a deprecated alias for the builtin `int`. To silence this warning, use `int` by itself. Doing this will not modify any behavior and is safe. When replacing `np.int`, you may wish to use e.g. `np.int64` or `np.int32` to specify the precision. If you wish to review your current use, check the release note link for additional information.\n",
            "Deprecated in NumPy 1.20; for more details and guidance: https://numpy.org/devdocs/release/1.20.0-notes.html#deprecations\n",
            " 62%|██████▏   | 37/60 [00:09<00:05,  4.50it/s]/usr/local/lib/python3.7/dist-packages/ipykernel_launcher.py:28: DeprecationWarning: `np.int` is a deprecated alias for the builtin `int`. To silence this warning, use `int` by itself. Doing this will not modify any behavior and is safe. When replacing `np.int`, you may wish to use e.g. `np.int64` or `np.int32` to specify the precision. If you wish to review your current use, check the release note link for additional information.\n",
            "Deprecated in NumPy 1.20; for more details and guidance: https://numpy.org/devdocs/release/1.20.0-notes.html#deprecations\n",
            " 63%|██████▎   | 38/60 [00:09<00:04,  4.48it/s]/usr/local/lib/python3.7/dist-packages/ipykernel_launcher.py:28: DeprecationWarning: `np.int` is a deprecated alias for the builtin `int`. To silence this warning, use `int` by itself. Doing this will not modify any behavior and is safe. When replacing `np.int`, you may wish to use e.g. `np.int64` or `np.int32` to specify the precision. If you wish to review your current use, check the release note link for additional information.\n",
            "Deprecated in NumPy 1.20; for more details and guidance: https://numpy.org/devdocs/release/1.20.0-notes.html#deprecations\n",
            " 65%|██████▌   | 39/60 [00:09<00:04,  4.45it/s]/usr/local/lib/python3.7/dist-packages/ipykernel_launcher.py:28: DeprecationWarning: `np.int` is a deprecated alias for the builtin `int`. To silence this warning, use `int` by itself. Doing this will not modify any behavior and is safe. When replacing `np.int`, you may wish to use e.g. `np.int64` or `np.int32` to specify the precision. If you wish to review your current use, check the release note link for additional information.\n",
            "Deprecated in NumPy 1.20; for more details and guidance: https://numpy.org/devdocs/release/1.20.0-notes.html#deprecations\n",
            " 67%|██████▋   | 40/60 [00:09<00:04,  4.50it/s]/usr/local/lib/python3.7/dist-packages/ipykernel_launcher.py:28: DeprecationWarning: `np.int` is a deprecated alias for the builtin `int`. To silence this warning, use `int` by itself. Doing this will not modify any behavior and is safe. When replacing `np.int`, you may wish to use e.g. `np.int64` or `np.int32` to specify the precision. If you wish to review your current use, check the release note link for additional information.\n",
            "Deprecated in NumPy 1.20; for more details and guidance: https://numpy.org/devdocs/release/1.20.0-notes.html#deprecations\n",
            " 68%|██████▊   | 41/60 [00:10<00:04,  4.40it/s]/usr/local/lib/python3.7/dist-packages/ipykernel_launcher.py:28: DeprecationWarning: `np.int` is a deprecated alias for the builtin `int`. To silence this warning, use `int` by itself. Doing this will not modify any behavior and is safe. When replacing `np.int`, you may wish to use e.g. `np.int64` or `np.int32` to specify the precision. If you wish to review your current use, check the release note link for additional information.\n",
            "Deprecated in NumPy 1.20; for more details and guidance: https://numpy.org/devdocs/release/1.20.0-notes.html#deprecations\n",
            " 70%|███████   | 42/60 [00:10<00:04,  4.48it/s]/usr/local/lib/python3.7/dist-packages/ipykernel_launcher.py:28: DeprecationWarning: `np.int` is a deprecated alias for the builtin `int`. To silence this warning, use `int` by itself. Doing this will not modify any behavior and is safe. When replacing `np.int`, you may wish to use e.g. `np.int64` or `np.int32` to specify the precision. If you wish to review your current use, check the release note link for additional information.\n",
            "Deprecated in NumPy 1.20; for more details and guidance: https://numpy.org/devdocs/release/1.20.0-notes.html#deprecations\n",
            " 72%|███████▏  | 43/60 [00:10<00:03,  4.51it/s]/usr/local/lib/python3.7/dist-packages/ipykernel_launcher.py:28: DeprecationWarning: `np.int` is a deprecated alias for the builtin `int`. To silence this warning, use `int` by itself. Doing this will not modify any behavior and is safe. When replacing `np.int`, you may wish to use e.g. `np.int64` or `np.int32` to specify the precision. If you wish to review your current use, check the release note link for additional information.\n",
            "Deprecated in NumPy 1.20; for more details and guidance: https://numpy.org/devdocs/release/1.20.0-notes.html#deprecations\n",
            " 73%|███████▎  | 44/60 [00:10<00:03,  4.46it/s]/usr/local/lib/python3.7/dist-packages/ipykernel_launcher.py:28: DeprecationWarning: `np.int` is a deprecated alias for the builtin `int`. To silence this warning, use `int` by itself. Doing this will not modify any behavior and is safe. When replacing `np.int`, you may wish to use e.g. `np.int64` or `np.int32` to specify the precision. If you wish to review your current use, check the release note link for additional information.\n",
            "Deprecated in NumPy 1.20; for more details and guidance: https://numpy.org/devdocs/release/1.20.0-notes.html#deprecations\n",
            " 75%|███████▌  | 45/60 [00:11<00:03,  4.42it/s]/usr/local/lib/python3.7/dist-packages/ipykernel_launcher.py:28: DeprecationWarning: `np.int` is a deprecated alias for the builtin `int`. To silence this warning, use `int` by itself. Doing this will not modify any behavior and is safe. When replacing `np.int`, you may wish to use e.g. `np.int64` or `np.int32` to specify the precision. If you wish to review your current use, check the release note link for additional information.\n",
            "Deprecated in NumPy 1.20; for more details and guidance: https://numpy.org/devdocs/release/1.20.0-notes.html#deprecations\n",
            " 77%|███████▋  | 46/60 [00:11<00:03,  4.49it/s]/usr/local/lib/python3.7/dist-packages/ipykernel_launcher.py:28: DeprecationWarning: `np.int` is a deprecated alias for the builtin `int`. To silence this warning, use `int` by itself. Doing this will not modify any behavior and is safe. When replacing `np.int`, you may wish to use e.g. `np.int64` or `np.int32` to specify the precision. If you wish to review your current use, check the release note link for additional information.\n",
            "Deprecated in NumPy 1.20; for more details and guidance: https://numpy.org/devdocs/release/1.20.0-notes.html#deprecations\n",
            " 78%|███████▊  | 47/60 [00:11<00:02,  4.55it/s]/usr/local/lib/python3.7/dist-packages/ipykernel_launcher.py:28: DeprecationWarning: `np.int` is a deprecated alias for the builtin `int`. To silence this warning, use `int` by itself. Doing this will not modify any behavior and is safe. When replacing `np.int`, you may wish to use e.g. `np.int64` or `np.int32` to specify the precision. If you wish to review your current use, check the release note link for additional information.\n",
            "Deprecated in NumPy 1.20; for more details and guidance: https://numpy.org/devdocs/release/1.20.0-notes.html#deprecations\n",
            " 80%|████████  | 48/60 [00:11<00:02,  4.47it/s]/usr/local/lib/python3.7/dist-packages/ipykernel_launcher.py:28: DeprecationWarning: `np.int` is a deprecated alias for the builtin `int`. To silence this warning, use `int` by itself. Doing this will not modify any behavior and is safe. When replacing `np.int`, you may wish to use e.g. `np.int64` or `np.int32` to specify the precision. If you wish to review your current use, check the release note link for additional information.\n",
            "Deprecated in NumPy 1.20; for more details and guidance: https://numpy.org/devdocs/release/1.20.0-notes.html#deprecations\n",
            " 82%|████████▏ | 49/60 [00:11<00:02,  4.52it/s]/usr/local/lib/python3.7/dist-packages/ipykernel_launcher.py:28: DeprecationWarning: `np.int` is a deprecated alias for the builtin `int`. To silence this warning, use `int` by itself. Doing this will not modify any behavior and is safe. When replacing `np.int`, you may wish to use e.g. `np.int64` or `np.int32` to specify the precision. If you wish to review your current use, check the release note link for additional information.\n",
            "Deprecated in NumPy 1.20; for more details and guidance: https://numpy.org/devdocs/release/1.20.0-notes.html#deprecations\n",
            " 83%|████████▎ | 50/60 [00:12<00:02,  4.42it/s]/usr/local/lib/python3.7/dist-packages/ipykernel_launcher.py:28: DeprecationWarning: `np.int` is a deprecated alias for the builtin `int`. To silence this warning, use `int` by itself. Doing this will not modify any behavior and is safe. When replacing `np.int`, you may wish to use e.g. `np.int64` or `np.int32` to specify the precision. If you wish to review your current use, check the release note link for additional information.\n",
            "Deprecated in NumPy 1.20; for more details and guidance: https://numpy.org/devdocs/release/1.20.0-notes.html#deprecations\n",
            " 85%|████████▌ | 51/60 [00:12<00:02,  4.33it/s]/usr/local/lib/python3.7/dist-packages/ipykernel_launcher.py:28: DeprecationWarning: `np.int` is a deprecated alias for the builtin `int`. To silence this warning, use `int` by itself. Doing this will not modify any behavior and is safe. When replacing `np.int`, you may wish to use e.g. `np.int64` or `np.int32` to specify the precision. If you wish to review your current use, check the release note link for additional information.\n",
            "Deprecated in NumPy 1.20; for more details and guidance: https://numpy.org/devdocs/release/1.20.0-notes.html#deprecations\n",
            "/usr/local/lib/python3.7/dist-packages/sklearn/metrics/_classification.py:1318: UndefinedMetricWarning: Precision is ill-defined and being set to 0.0 due to no predicted samples. Use `zero_division` parameter to control this behavior.\n",
            "  _warn_prf(average, modifier, msg_start, len(result))\n",
            " 87%|████████▋ | 52/60 [00:12<00:01,  4.36it/s]/usr/local/lib/python3.7/dist-packages/ipykernel_launcher.py:28: DeprecationWarning: `np.int` is a deprecated alias for the builtin `int`. To silence this warning, use `int` by itself. Doing this will not modify any behavior and is safe. When replacing `np.int`, you may wish to use e.g. `np.int64` or `np.int32` to specify the precision. If you wish to review your current use, check the release note link for additional information.\n",
            "Deprecated in NumPy 1.20; for more details and guidance: https://numpy.org/devdocs/release/1.20.0-notes.html#deprecations\n",
            " 88%|████████▊ | 53/60 [00:12<00:01,  4.38it/s]/usr/local/lib/python3.7/dist-packages/ipykernel_launcher.py:28: DeprecationWarning: `np.int` is a deprecated alias for the builtin `int`. To silence this warning, use `int` by itself. Doing this will not modify any behavior and is safe. When replacing `np.int`, you may wish to use e.g. `np.int64` or `np.int32` to specify the precision. If you wish to review your current use, check the release note link for additional information.\n",
            "Deprecated in NumPy 1.20; for more details and guidance: https://numpy.org/devdocs/release/1.20.0-notes.html#deprecations\n",
            "/usr/local/lib/python3.7/dist-packages/sklearn/metrics/_classification.py:1318: UndefinedMetricWarning: Precision is ill-defined and being set to 0.0 due to no predicted samples. Use `zero_division` parameter to control this behavior.\n",
            "  _warn_prf(average, modifier, msg_start, len(result))\n",
            " 90%|█████████ | 54/60 [00:13<00:01,  4.45it/s]/usr/local/lib/python3.7/dist-packages/ipykernel_launcher.py:28: DeprecationWarning: `np.int` is a deprecated alias for the builtin `int`. To silence this warning, use `int` by itself. Doing this will not modify any behavior and is safe. When replacing `np.int`, you may wish to use e.g. `np.int64` or `np.int32` to specify the precision. If you wish to review your current use, check the release note link for additional information.\n",
            "Deprecated in NumPy 1.20; for more details and guidance: https://numpy.org/devdocs/release/1.20.0-notes.html#deprecations\n",
            " 92%|█████████▏| 55/60 [00:13<00:01,  4.44it/s]/usr/local/lib/python3.7/dist-packages/ipykernel_launcher.py:28: DeprecationWarning: `np.int` is a deprecated alias for the builtin `int`. To silence this warning, use `int` by itself. Doing this will not modify any behavior and is safe. When replacing `np.int`, you may wish to use e.g. `np.int64` or `np.int32` to specify the precision. If you wish to review your current use, check the release note link for additional information.\n",
            "Deprecated in NumPy 1.20; for more details and guidance: https://numpy.org/devdocs/release/1.20.0-notes.html#deprecations\n",
            " 93%|█████████▎| 56/60 [00:13<00:00,  4.42it/s]/usr/local/lib/python3.7/dist-packages/ipykernel_launcher.py:28: DeprecationWarning: `np.int` is a deprecated alias for the builtin `int`. To silence this warning, use `int` by itself. Doing this will not modify any behavior and is safe. When replacing `np.int`, you may wish to use e.g. `np.int64` or `np.int32` to specify the precision. If you wish to review your current use, check the release note link for additional information.\n",
            "Deprecated in NumPy 1.20; for more details and guidance: https://numpy.org/devdocs/release/1.20.0-notes.html#deprecations\n",
            " 95%|█████████▌| 57/60 [00:13<00:00,  4.39it/s]/usr/local/lib/python3.7/dist-packages/ipykernel_launcher.py:28: DeprecationWarning: `np.int` is a deprecated alias for the builtin `int`. To silence this warning, use `int` by itself. Doing this will not modify any behavior and is safe. When replacing `np.int`, you may wish to use e.g. `np.int64` or `np.int32` to specify the precision. If you wish to review your current use, check the release note link for additional information.\n",
            "Deprecated in NumPy 1.20; for more details and guidance: https://numpy.org/devdocs/release/1.20.0-notes.html#deprecations\n",
            "/usr/local/lib/python3.7/dist-packages/sklearn/metrics/_classification.py:1318: UndefinedMetricWarning: Precision is ill-defined and being set to 0.0 due to no predicted samples. Use `zero_division` parameter to control this behavior.\n",
            "  _warn_prf(average, modifier, msg_start, len(result))\n",
            " 97%|█████████▋| 58/60 [00:13<00:00,  4.42it/s]/usr/local/lib/python3.7/dist-packages/ipykernel_launcher.py:28: DeprecationWarning: `np.int` is a deprecated alias for the builtin `int`. To silence this warning, use `int` by itself. Doing this will not modify any behavior and is safe. When replacing `np.int`, you may wish to use e.g. `np.int64` or `np.int32` to specify the precision. If you wish to review your current use, check the release note link for additional information.\n",
            "Deprecated in NumPy 1.20; for more details and guidance: https://numpy.org/devdocs/release/1.20.0-notes.html#deprecations\n",
            "/usr/local/lib/python3.7/dist-packages/sklearn/metrics/_classification.py:1318: UndefinedMetricWarning: Precision is ill-defined and being set to 0.0 due to no predicted samples. Use `zero_division` parameter to control this behavior.\n",
            "  _warn_prf(average, modifier, msg_start, len(result))\n",
            " 98%|█████████▊| 59/60 [00:14<00:00,  4.42it/s]/usr/local/lib/python3.7/dist-packages/ipykernel_launcher.py:28: DeprecationWarning: `np.int` is a deprecated alias for the builtin `int`. To silence this warning, use `int` by itself. Doing this will not modify any behavior and is safe. When replacing `np.int`, you may wish to use e.g. `np.int64` or `np.int32` to specify the precision. If you wish to review your current use, check the release note link for additional information.\n",
            "Deprecated in NumPy 1.20; for more details and guidance: https://numpy.org/devdocs/release/1.20.0-notes.html#deprecations\n",
            "100%|██████████| 60/60 [00:14<00:00,  4.16it/s]"
          ]
        },
        {
          "name": "stdout",
          "output_type": "stream",
          "text": [
            "Accuracy: 0.97991\n",
            "F1: 0.60545\n",
            "Jaccard: 0.48938\n",
            "Recall: 0.58534\n",
            "Precision: 0.65185\n",
            "AUC: 0.92869\n",
            "Dice Coeff: 0.59067\n"
          ]
        },
        {
          "name": "stderr",
          "output_type": "stream",
          "text": [
            "\n"
          ]
        }
      ],
      "source": [
        "from copy import deepcopy\n",
        "from sklearn.metrics import roc_auc_score\n",
        "# prediction_path = \"predictions\"\n",
        "\n",
        "\"\"\" Save the results in this folder \"\"\"\n",
        "# create_dir(\"results_sunil_test\")\n",
        "# create_dir(prediction_path)\n",
        "\n",
        "\"\"\" Load the model \"\"\"\n",
        "# with CustomObjectScope({'iou': iou, 'dice_coef': dice_coef}):\n",
        "model_path = os.path.join(f\"{model_dir}\", \"model.h5\")\n",
        "\n",
        "model = load_model(model_path, compile=False)\n",
        "\n",
        "\"\"\" Load the dataset \"\"\"\n",
        "dataset_path = os.path.join(f\"{data_path}/{split_name}\", \"test\")\n",
        "test_x, test_y = load_data(dataset_path)\n",
        "\n",
        "\"\"\" Make the prediction and calculate the metrics values \"\"\"\n",
        "SCORE = []\n",
        "for x, y in tqdm(zip(test_x, test_y), total=len(test_x)):\n",
        "    \"\"\" Extracting name \"\"\"\n",
        "    name = x.split(\"/\")[-1].split(\".\")[0]\n",
        "\n",
        "    \"\"\" Read the image and mask \"\"\"\n",
        "    ori_x, x = read_image(x)\n",
        "    ori_y, y = read_mask(y)\n",
        "    y = y.astype(np.int)\n",
        "\n",
        "    \"\"\" Prediction \"\"\"\n",
        "    y_pred = model.predict(np.expand_dims(x, axis=0))[0]\n",
        "    np.save(f\"{prediction_np_path}/{name}.npy\", y_pred)\n",
        "    y_prob = deepcopy(y_pred).flatten()\n",
        "    y_pred = y_pred > 0.5\n",
        "    y_pred = y_pred.astype(np.int32)\n",
        "    y_pred = np.squeeze(y_pred, axis=-1)\n",
        "\n",
        "    \"\"\" Saving the images \"\"\"\n",
        "    save_image_path = f\"{results_path}/{name}.png\"\n",
        "#    print(ori_x.shape, ori_y.shape, y_pred.shape)\n",
        "    save_results(ori_x, ori_y, y_pred, save_image_path)\n",
        "    cv2.imwrite(f\"{prediction_path}/{name}.png\", y_pred * 255)\n",
        "    \n",
        "\n",
        "    \"\"\" Flatten the array \"\"\"\n",
        "    y = y.flatten()\n",
        "    y_pred = y_pred.flatten()\n",
        "\n",
        "    \"\"\" Calculate the metrics \"\"\"\n",
        "    acc_value = accuracy_score(y, y_pred)\n",
        "    f1_value = f1_score(y, y_pred, labels=[0, 1], average=\"binary\")\n",
        "    jac_value = jaccard_score(y, y_pred, labels=[0, 1], average=\"binary\")\n",
        "    recall_value = recall_score(y, y_pred, labels=[0, 1], average=\"binary\")\n",
        "    precision_value = precision_score(y, y_pred, labels=[0, 1], average=\"binary\")\n",
        "    if np.sum(y) == 0 or np.sum(y) == H * W:\n",
        "        auc_value = 1\n",
        "    else:\n",
        "        auc_value = roc_auc_score(y, y_prob)\n",
        "    dice_value = dice_coef(y.astype(np.float64), y_prob)\n",
        "\n",
        "    SCORE.append([name, acc_value, f1_value, jac_value, recall_value, precision_value, auc_value, dice_value])\n",
        "\n",
        "score = [s[1:] for s in SCORE]\n",
        "score = np.mean(score, axis=0)\n",
        "print(f\"Accuracy: {score[0]:0.5f}\")\n",
        "print(f\"F1: {score[1]:0.5f}\")\n",
        "print(f\"Jaccard: {score[2]:0.5f}\")\n",
        "print(f\"Recall: {score[3]:0.5f}\")\n",
        "print(f\"Precision: {score[4]:0.5f}\")\n",
        "print(f\"AUC: {score[5]:0.5f}\")\n",
        "print(f\"Dice Coeff: {score[6]:0.5f}\")\n",
        "\"\"\" Saving \"\"\"\n",
        "df = pd.DataFrame(SCORE, columns=[\"Image\", \"Acc\", \"F1\", \"Jaccard\", \"Recall\", \"Precision\", \"AUC\", \"Dice Coeff\"])\n",
        "df.to_csv(f\"{results_path}/score.csv\")"
      ]
    },
    {
      "cell_type": "markdown",
      "metadata": {
        "id": "PzqpDXW0Kcyu"
      },
      "source": [
        "# Reconstruct original image"
      ]
    },
    {
      "cell_type": "code",
      "execution_count": null,
      "metadata": {
        "colab": {
          "background_save": true
        },
        "id": "NJaxhmgEvs9i",
        "outputId": "3f2969d4-6be9-4394-9c59-f5219c2272e8"
      },
      "outputs": [
        {
          "data": {
            "application/vnd.google.colaboratory.intrinsic+json": {
              "type": "string"
            },
            "text/plain": [
              "'/content/datasets/chase_db_320_320_dice_bce_0_4__hvr_0_4_1//predictions_np/'"
            ]
          },
          "execution_count": null,
          "metadata": {},
          "output_type": "execute_result"
        }
      ],
      "source": [
        "prediction_np_path"
      ]
    },
    {
      "cell_type": "code",
      "execution_count": null,
      "metadata": {
        "colab": {
          "background_save": true
        },
        "id": "gwjhBM8y1Bf_"
      },
      "outputs": [],
      "source": [
        "from glob import glob"
      ]
    },
    {
      "cell_type": "code",
      "execution_count": null,
      "metadata": {
        "colab": {
          "background_save": true
        },
        "id": "s7p1_eLnI51P",
        "outputId": "56197a55-7286-43e9-9c04-03e821f45211"
      },
      "outputs": [
        {
          "name": "stdout",
          "output_type": "stream",
          "text": [
            "file /content/datasets/chase_db_320_320_dice_bce_0_4__hvr_0_4_1//predictions_np/_Image_12L_8.npy\n",
            "Image_12L 8\n",
            "file /content/datasets/chase_db_320_320_dice_bce_0_4__hvr_0_4_1//predictions_np/_Image_13L_3.npy\n",
            "Image_13L 3\n",
            "file /content/datasets/chase_db_320_320_dice_bce_0_4__hvr_0_4_1//predictions_np/_Image_12L_3.npy\n",
            "Image_12L 3\n",
            "file /content/datasets/chase_db_320_320_dice_bce_0_4__hvr_0_4_1//predictions_np/_Image_11R_1.npy\n",
            "Image_11R 1\n",
            "file /content/datasets/chase_db_320_320_dice_bce_0_4__hvr_0_4_1//predictions_np/_Image_12L_5.npy\n",
            "Image_12L 5\n",
            "file /content/datasets/chase_db_320_320_dice_bce_0_4__hvr_0_4_1//predictions_np/_Image_12R_10.npy\n",
            "Image_12R 10\n",
            "file /content/datasets/chase_db_320_320_dice_bce_0_4__hvr_0_4_1//predictions_np/_Image_11L_5.npy\n",
            "Image_11L 5\n",
            "file /content/datasets/chase_db_320_320_dice_bce_0_4__hvr_0_4_1//predictions_np/_Image_12L_2.npy\n",
            "Image_12L 2\n",
            "file /content/datasets/chase_db_320_320_dice_bce_0_4__hvr_0_4_1//predictions_np/_Image_13L_0.npy\n",
            "Image_13L 0\n",
            "file /content/datasets/chase_db_320_320_dice_bce_0_4__hvr_0_4_1//predictions_np/_Image_13L_10.npy\n",
            "Image_13L 10\n",
            "file /content/datasets/chase_db_320_320_dice_bce_0_4__hvr_0_4_1//predictions_np/_Image_11R_10.npy\n",
            "Image_11R 10\n",
            "file /content/datasets/chase_db_320_320_dice_bce_0_4__hvr_0_4_1//predictions_np/_Image_13L_2.npy\n",
            "Image_13L 2\n",
            "file /content/datasets/chase_db_320_320_dice_bce_0_4__hvr_0_4_1//predictions_np/_Image_12L_4.npy\n",
            "Image_12L 4\n",
            "file /content/datasets/chase_db_320_320_dice_bce_0_4__hvr_0_4_1//predictions_np/_Image_12R_0.npy\n",
            "Image_12R 0\n",
            "file /content/datasets/chase_db_320_320_dice_bce_0_4__hvr_0_4_1//predictions_np/_Image_13L_4.npy\n",
            "Image_13L 4\n",
            "file /content/datasets/chase_db_320_320_dice_bce_0_4__hvr_0_4_1//predictions_np/_Image_12L_10.npy\n",
            "Image_12L 10\n",
            "file /content/datasets/chase_db_320_320_dice_bce_0_4__hvr_0_4_1//predictions_np/_Image_11L_6.npy\n",
            "Image_11L 6\n",
            "file /content/datasets/chase_db_320_320_dice_bce_0_4__hvr_0_4_1//predictions_np/_Image_11R_4.npy\n",
            "Image_11R 4\n",
            "file /content/datasets/chase_db_320_320_dice_bce_0_4__hvr_0_4_1//predictions_np/_Image_13L_7.npy\n",
            "Image_13L 7\n",
            "file /content/datasets/chase_db_320_320_dice_bce_0_4__hvr_0_4_1//predictions_np/_Image_11L_2.npy\n",
            "Image_11L 2\n",
            "file /content/datasets/chase_db_320_320_dice_bce_0_4__hvr_0_4_1//predictions_np/_Image_11R_0.npy\n",
            "Image_11R 0\n",
            "file /content/datasets/chase_db_320_320_dice_bce_0_4__hvr_0_4_1//predictions_np/_Image_11L_11.npy\n",
            "Image_11L 11\n",
            "file /content/datasets/chase_db_320_320_dice_bce_0_4__hvr_0_4_1//predictions_np/_Image_12R_6.npy\n",
            "Image_12R 6\n",
            "file /content/datasets/chase_db_320_320_dice_bce_0_4__hvr_0_4_1//predictions_np/_Image_12R_2.npy\n",
            "Image_12R 2\n",
            "file /content/datasets/chase_db_320_320_dice_bce_0_4__hvr_0_4_1//predictions_np/_Image_11R_11.npy\n",
            "Image_11R 11\n",
            "file /content/datasets/chase_db_320_320_dice_bce_0_4__hvr_0_4_1//predictions_np/_Image_11R_7.npy\n",
            "Image_11R 7\n",
            "file /content/datasets/chase_db_320_320_dice_bce_0_4__hvr_0_4_1//predictions_np/_Image_13L_6.npy\n",
            "Image_13L 6\n",
            "file /content/datasets/chase_db_320_320_dice_bce_0_4__hvr_0_4_1//predictions_np/_Image_11R_2.npy\n",
            "Image_11R 2\n",
            "file /content/datasets/chase_db_320_320_dice_bce_0_4__hvr_0_4_1//predictions_np/_Image_11L_3.npy\n",
            "Image_11L 3\n",
            "file /content/datasets/chase_db_320_320_dice_bce_0_4__hvr_0_4_1//predictions_np/_Image_11L_8.npy\n",
            "Image_11L 8\n",
            "file /content/datasets/chase_db_320_320_dice_bce_0_4__hvr_0_4_1//predictions_np/_Image_11L_4.npy\n",
            "Image_11L 4\n",
            "file /content/datasets/chase_db_320_320_dice_bce_0_4__hvr_0_4_1//predictions_np/_Image_13L_8.npy\n",
            "Image_13L 8\n",
            "file /content/datasets/chase_db_320_320_dice_bce_0_4__hvr_0_4_1//predictions_np/_Image_11R_5.npy\n",
            "Image_11R 5\n",
            "file /content/datasets/chase_db_320_320_dice_bce_0_4__hvr_0_4_1//predictions_np/_Image_12R_7.npy\n",
            "Image_12R 7\n",
            "file /content/datasets/chase_db_320_320_dice_bce_0_4__hvr_0_4_1//predictions_np/_Image_11R_8.npy\n",
            "Image_11R 8\n",
            "file /content/datasets/chase_db_320_320_dice_bce_0_4__hvr_0_4_1//predictions_np/_Image_12R_11.npy\n",
            "Image_12R 11\n",
            "file /content/datasets/chase_db_320_320_dice_bce_0_4__hvr_0_4_1//predictions_np/_Image_11L_10.npy\n",
            "Image_11L 10\n",
            "file /content/datasets/chase_db_320_320_dice_bce_0_4__hvr_0_4_1//predictions_np/_Image_12R_5.npy\n",
            "Image_12R 5\n",
            "file /content/datasets/chase_db_320_320_dice_bce_0_4__hvr_0_4_1//predictions_np/_Image_12L_1.npy\n",
            "Image_12L 1\n",
            "file /content/datasets/chase_db_320_320_dice_bce_0_4__hvr_0_4_1//predictions_np/_Image_13L_1.npy\n",
            "Image_13L 1\n",
            "file /content/datasets/chase_db_320_320_dice_bce_0_4__hvr_0_4_1//predictions_np/_Image_12R_1.npy\n",
            "Image_12R 1\n",
            "file /content/datasets/chase_db_320_320_dice_bce_0_4__hvr_0_4_1//predictions_np/_Image_12L_9.npy\n",
            "Image_12L 9\n",
            "file /content/datasets/chase_db_320_320_dice_bce_0_4__hvr_0_4_1//predictions_np/_Image_11R_9.npy\n",
            "Image_11R 9\n",
            "file /content/datasets/chase_db_320_320_dice_bce_0_4__hvr_0_4_1//predictions_np/_Image_12R_4.npy\n",
            "Image_12R 4\n",
            "file /content/datasets/chase_db_320_320_dice_bce_0_4__hvr_0_4_1//predictions_np/_Image_12R_8.npy\n",
            "Image_12R 8\n",
            "file /content/datasets/chase_db_320_320_dice_bce_0_4__hvr_0_4_1//predictions_np/_Image_12L_6.npy\n",
            "Image_12L 6\n",
            "file /content/datasets/chase_db_320_320_dice_bce_0_4__hvr_0_4_1//predictions_np/_Image_13L_9.npy\n",
            "Image_13L 9\n",
            "file /content/datasets/chase_db_320_320_dice_bce_0_4__hvr_0_4_1//predictions_np/_Image_13L_5.npy\n",
            "Image_13L 5\n",
            "file /content/datasets/chase_db_320_320_dice_bce_0_4__hvr_0_4_1//predictions_np/_Image_12R_3.npy\n",
            "Image_12R 3\n",
            "file /content/datasets/chase_db_320_320_dice_bce_0_4__hvr_0_4_1//predictions_np/_Image_13L_11.npy\n",
            "Image_13L 11\n",
            "file /content/datasets/chase_db_320_320_dice_bce_0_4__hvr_0_4_1//predictions_np/_Image_12L_11.npy\n",
            "Image_12L 11\n",
            "file /content/datasets/chase_db_320_320_dice_bce_0_4__hvr_0_4_1//predictions_np/_Image_11L_1.npy\n",
            "Image_11L 1\n",
            "file /content/datasets/chase_db_320_320_dice_bce_0_4__hvr_0_4_1//predictions_np/_Image_11L_7.npy\n",
            "Image_11L 7\n",
            "file /content/datasets/chase_db_320_320_dice_bce_0_4__hvr_0_4_1//predictions_np/_Image_12R_9.npy\n",
            "Image_12R 9\n",
            "file /content/datasets/chase_db_320_320_dice_bce_0_4__hvr_0_4_1//predictions_np/_Image_12L_7.npy\n",
            "Image_12L 7\n",
            "file /content/datasets/chase_db_320_320_dice_bce_0_4__hvr_0_4_1//predictions_np/_Image_12L_0.npy\n",
            "Image_12L 0\n",
            "file /content/datasets/chase_db_320_320_dice_bce_0_4__hvr_0_4_1//predictions_np/_Image_11R_6.npy\n",
            "Image_11R 6\n",
            "file /content/datasets/chase_db_320_320_dice_bce_0_4__hvr_0_4_1//predictions_np/_Image_11R_3.npy\n",
            "Image_11R 3\n",
            "file /content/datasets/chase_db_320_320_dice_bce_0_4__hvr_0_4_1//predictions_np/_Image_11L_0.npy\n",
            "Image_11L 0\n",
            "file /content/datasets/chase_db_320_320_dice_bce_0_4__hvr_0_4_1//predictions_np/_Image_11L_9.npy\n",
            "Image_11L 9\n"
          ]
        }
      ],
      "source": [
        "# Create patches dictionary\n",
        "predicted_patches_dict = dict()\n",
        "for file in glob(f\"{prediction_np_path}/*.npy\"):\n",
        "    print(\"file\", file)\n",
        "    patch = np.load(file)\n",
        "    fname_without_ext = file.rsplit(\"/\", 1)[1].rsplit(\".\", 1)[0]\n",
        "    fname_without_ext = fname_without_ext[1:]\n",
        "    patch_number = int(fname_without_ext.rsplit(\"_\", 1)[1])\n",
        "    image_file = fname_without_ext.rsplit(\"_\", 1)[0]\n",
        "    print(image_file, patch_number )\n",
        "\n",
        "    if image_file in predicted_patches_dict.keys():\n",
        "        predicted_patches_dict[image_file][patch_number] = np.load(file)\n",
        "    else:\n",
        "        patches = [None] * 140\n",
        "        patches[patch_number] = np.load(file)\n",
        "        predicted_patches_dict[image_file] = patches"
      ]
    },
    {
      "cell_type": "code",
      "execution_count": null,
      "metadata": {
        "colab": {
          "background_save": true
        },
        "id": "2kB-A6HbLNsv"
      },
      "outputs": [],
      "source": [
        "reconstructed_predictions_path = f\"{data_path}/{split_name}/reconstructed/{split}/predictions_reconstructed\"\n",
        "create_dir(reconstructed_predictions_path)\n",
        "reconstruct_patches(predicted_patches_dict,\n",
        "                    metadata_test_df,\n",
        "                    reconstructed_predictions_path,\n",
        "                    mfactor=255\n",
        "                    )\n"
      ]
    },
    {
      "cell_type": "code",
      "execution_count": null,
      "metadata": {
        "colab": {
          "background_save": true
        },
        "id": "z_uMeATOLyQP",
        "outputId": "d146d07b-3a21-40d0-a8fe-4e5862ff2b16"
      },
      "outputs": [
        {
          "name": "stdout",
          "output_type": "stream",
          "text": [
            "/content/datasets\n"
          ]
        }
      ],
      "source": [
        "!pwd"
      ]
    },
    {
      "cell_type": "code",
      "execution_count": null,
      "metadata": {
        "colab": {
          "background_save": true
        },
        "id": "2OzcJGOQg4Dy"
      },
      "outputs": [],
      "source": [
        "def read_mask(path):\n",
        "    print(path)\n",
        "    x = cv2.imread(path, cv2.IMREAD_GRAYSCALE)  ## (512, 512)\n",
        "    # x = cv2.resize(x, (W, H))\n",
        "    ori_x = x\n",
        "    x = x/255.0\n",
        "#    x = x.astype(np.int32)\n",
        "    return ori_x, x"
      ]
    },
    {
      "cell_type": "code",
      "execution_count": null,
      "metadata": {
        "colab": {
          "background_save": true
        },
        "id": "M5ILDoicjTef"
      },
      "outputs": [],
      "source": [
        "def save_results(ori_x, ori_y, y_pred, save_image_path):\n",
        "    line = np.ones((ori_x.shape[0], 10, 3)) * 255\n",
        "\n",
        "    ori_y = np.expand_dims(ori_y, axis=-1)\n",
        "    ori_y = np.concatenate([ori_y, ori_y, ori_y], axis=-1)\n",
        "\n",
        "    y_pred = np.expand_dims(y_pred, axis=-1)\n",
        "    y_pred = np.concatenate([y_pred, y_pred, y_pred], axis=-1) * 255\n",
        "\n",
        "    cat_images = np.concatenate([ori_x, line, ori_y, line, y_pred], axis=1)\n",
        "    print(f\"Saving image of size {cat_images.shape} to {save_image_path}\")\n",
        "    cv2.imwrite(save_image_path, cat_images)"
      ]
    },
    {
      "cell_type": "code",
      "execution_count": null,
      "metadata": {
        "colab": {
          "background_save": true
        },
        "id": "bS5LTt4QXwQi"
      },
      "outputs": [],
      "source": [
        "results_path_reconstructed = f\"{root_path}/results_reconstructed/\"\n",
        "create_dir(results_path_reconstructed)"
      ]
    },
    {
      "cell_type": "code",
      "execution_count": null,
      "metadata": {
        "colab": {
          "background_save": true
        },
        "id": "6sKjdzsaNloF"
      },
      "outputs": [],
      "source": [
        "from glob import glob"
      ]
    },
    {
      "cell_type": "code",
      "execution_count": null,
      "metadata": {
        "colab": {
          "background_save": true
        },
        "id": "_iqapJ3ITb7l",
        "outputId": "463fedb6-cd5c-470a-b423-f6d893d4a7f6"
      },
      "outputs": [
        {
          "name": "stdout",
          "output_type": "stream",
          "text": [
            "Threshold 0.4\n"
          ]
        },
        {
          "name": "stderr",
          "output_type": "stream",
          "text": [
            "\r  0%|          | 0/60 [00:00<?, ?it/s]"
          ]
        },
        {
          "name": "stdout",
          "output_type": "stream",
          "text": [
            "_Image_11L_0\n",
            "(320, 320, 1) 0.99993527 0.00010344482\n",
            "(320, 320, 3) (320, 320) (320, 320)\n"
          ]
        },
        {
          "name": "stderr",
          "output_type": "stream",
          "text": [
            "\r  2%|▏         | 1/60 [00:00<00:14,  4.17it/s]"
          ]
        },
        {
          "name": "stdout",
          "output_type": "stream",
          "text": [
            "_Image_11L_1\n",
            "(320, 320, 1) 0.99999785 0.00011931665\n",
            "(320, 320, 3) (320, 320) (320, 320)\n"
          ]
        },
        {
          "name": "stderr",
          "output_type": "stream",
          "text": [
            "\r  3%|▎         | 2/60 [00:00<00:13,  4.18it/s]"
          ]
        },
        {
          "name": "stdout",
          "output_type": "stream",
          "text": [
            "_Image_11L_10\n",
            "(320, 320, 1) 0.99999905 7.960387e-06\n",
            "(320, 320, 3) (320, 320) (320, 320)\n"
          ]
        },
        {
          "name": "stderr",
          "output_type": "stream",
          "text": [
            "  5%|▌         | 3/60 [00:00<00:13,  4.20it/s]/usr/local/lib/python3.7/dist-packages/sklearn/metrics/_classification.py:1318: UndefinedMetricWarning: Recall is ill-defined and being set to 0.0 due to no true samples. Use `zero_division` parameter to control this behavior.\n",
            "  _warn_prf(average, modifier, msg_start, len(result))\n",
            "  7%|▋         | 4/60 [00:00<00:12,  4.55it/s]"
          ]
        },
        {
          "name": "stdout",
          "output_type": "stream",
          "text": [
            "_Image_11L_11\n",
            "(320, 320, 1) 0.8116376 0.00023389373\n",
            "(320, 320, 3) (320, 320) (320, 320)\n",
            "_Image_11L_2\n"
          ]
        },
        {
          "name": "stderr",
          "output_type": "stream",
          "text": [
            "\r  8%|▊         | 5/60 [00:01<00:12,  4.48it/s]"
          ]
        },
        {
          "name": "stdout",
          "output_type": "stream",
          "text": [
            "(320, 320, 1) 0.99999917 9.771987e-05\n",
            "(320, 320, 3) (320, 320) (320, 320)\n",
            "_Image_11L_3\n"
          ]
        },
        {
          "name": "stderr",
          "output_type": "stream",
          "text": [
            "/usr/local/lib/python3.7/dist-packages/sklearn/metrics/_classification.py:1318: UndefinedMetricWarning: Precision is ill-defined and being set to 0.0 due to no predicted samples. Use `zero_division` parameter to control this behavior.\n",
            "  _warn_prf(average, modifier, msg_start, len(result))\n",
            " 10%|█         | 6/60 [00:01<00:11,  4.52it/s]"
          ]
        },
        {
          "name": "stdout",
          "output_type": "stream",
          "text": [
            "(320, 320, 1) 0.015031816 0.00017685555\n",
            "(320, 320, 3) (320, 320) (320, 320)\n",
            "_Image_11L_4\n"
          ]
        },
        {
          "name": "stderr",
          "output_type": "stream",
          "text": [
            "\r 12%|█▏        | 7/60 [00:01<00:11,  4.52it/s]"
          ]
        },
        {
          "name": "stdout",
          "output_type": "stream",
          "text": [
            "(320, 320, 1) 0.9998801 9.933671e-05\n",
            "(320, 320, 3) (320, 320) (320, 320)\n",
            "_Image_11L_5\n"
          ]
        },
        {
          "name": "stderr",
          "output_type": "stream",
          "text": [
            "\r 13%|█▎        | 8/60 [00:01<00:11,  4.42it/s]"
          ]
        },
        {
          "name": "stdout",
          "output_type": "stream",
          "text": [
            "(320, 320, 1) 0.9999993 0.00011996625\n",
            "(320, 320, 3) (320, 320) (320, 320)\n",
            "_Image_11L_6\n"
          ]
        },
        {
          "name": "stderr",
          "output_type": "stream",
          "text": [
            "\r 15%|█▌        | 9/60 [00:02<00:11,  4.34it/s]"
          ]
        },
        {
          "name": "stdout",
          "output_type": "stream",
          "text": [
            "(320, 320, 1) 0.9999999 1.3241411e-06\n",
            "(320, 320, 3) (320, 320) (320, 320)\n",
            "_Image_11L_7\n"
          ]
        },
        {
          "name": "stderr",
          "output_type": "stream",
          "text": [
            "\r 17%|█▋        | 10/60 [00:02<00:11,  4.32it/s]"
          ]
        },
        {
          "name": "stdout",
          "output_type": "stream",
          "text": [
            "(320, 320, 1) 0.999539 0.00014699604\n",
            "(320, 320, 3) (320, 320) (320, 320)\n",
            "_Image_11L_8\n"
          ]
        },
        {
          "name": "stderr",
          "output_type": "stream",
          "text": [
            "\r 18%|█▊        | 11/60 [00:02<00:11,  4.33it/s]"
          ]
        },
        {
          "name": "stdout",
          "output_type": "stream",
          "text": [
            "(320, 320, 1) 0.9999634 0.0002086689\n",
            "(320, 320, 3) (320, 320) (320, 320)\n",
            "_Image_11L_9\n"
          ]
        },
        {
          "name": "stderr",
          "output_type": "stream",
          "text": [
            "\r 20%|██        | 12/60 [00:02<00:11,  4.31it/s]"
          ]
        },
        {
          "name": "stdout",
          "output_type": "stream",
          "text": [
            "(320, 320, 1) 0.9999945 7.13289e-05\n",
            "(320, 320, 3) (320, 320) (320, 320)\n",
            "_Image_11R_0\n"
          ]
        },
        {
          "name": "stderr",
          "output_type": "stream",
          "text": [
            "/usr/local/lib/python3.7/dist-packages/sklearn/metrics/_classification.py:1318: UndefinedMetricWarning: Precision is ill-defined and being set to 0.0 due to no predicted samples. Use `zero_division` parameter to control this behavior.\n",
            "  _warn_prf(average, modifier, msg_start, len(result))\n",
            " 22%|██▏       | 13/60 [00:02<00:10,  4.37it/s]"
          ]
        },
        {
          "name": "stdout",
          "output_type": "stream",
          "text": [
            "(320, 320, 1) 0.02177827 0.00012468618\n",
            "(320, 320, 3) (320, 320) (320, 320)\n",
            "_Image_11R_1\n"
          ]
        },
        {
          "name": "stderr",
          "output_type": "stream",
          "text": [
            "\r 23%|██▎       | 14/60 [00:03<00:10,  4.36it/s]"
          ]
        },
        {
          "name": "stdout",
          "output_type": "stream",
          "text": [
            "(320, 320, 1) 0.99998105 0.00015746735\n",
            "(320, 320, 3) (320, 320) (320, 320)\n",
            "_Image_11R_10\n"
          ]
        },
        {
          "name": "stderr",
          "output_type": "stream",
          "text": [
            "\r 25%|██▌       | 15/60 [00:03<00:10,  4.34it/s]"
          ]
        },
        {
          "name": "stdout",
          "output_type": "stream",
          "text": [
            "(320, 320, 1) 0.99999535 9.606045e-05\n",
            "(320, 320, 3) (320, 320) (320, 320)\n",
            "_Image_11R_11\n"
          ]
        },
        {
          "name": "stderr",
          "output_type": "stream",
          "text": [
            "\r 27%|██▋       | 16/60 [00:03<00:10,  4.38it/s]"
          ]
        },
        {
          "name": "stdout",
          "output_type": "stream",
          "text": [
            "(320, 320, 1) 0.99996364 0.00029699728\n",
            "(320, 320, 3) (320, 320) (320, 320)\n",
            "_Image_11R_2\n"
          ]
        },
        {
          "name": "stderr",
          "output_type": "stream",
          "text": [
            "\r 28%|██▊       | 17/60 [00:03<00:09,  4.36it/s]"
          ]
        },
        {
          "name": "stdout",
          "output_type": "stream",
          "text": [
            "(320, 320, 1) 0.99999034 0.00016155673\n",
            "(320, 320, 3) (320, 320) (320, 320)\n",
            "_Image_11R_3\n"
          ]
        },
        {
          "name": "stderr",
          "output_type": "stream",
          "text": [
            "/usr/local/lib/python3.7/dist-packages/sklearn/metrics/_classification.py:1318: UndefinedMetricWarning: Precision is ill-defined and being set to 0.0 due to no predicted samples. Use `zero_division` parameter to control this behavior.\n",
            "  _warn_prf(average, modifier, msg_start, len(result))\n",
            " 30%|███       | 18/60 [00:04<00:09,  4.39it/s]"
          ]
        },
        {
          "name": "stdout",
          "output_type": "stream",
          "text": [
            "(320, 320, 1) 0.008269306 0.00021084464\n",
            "(320, 320, 3) (320, 320) (320, 320)\n",
            "_Image_11R_4\n"
          ]
        },
        {
          "name": "stderr",
          "output_type": "stream",
          "text": [
            "\r 32%|███▏      | 19/60 [00:04<00:09,  4.36it/s]"
          ]
        },
        {
          "name": "stdout",
          "output_type": "stream",
          "text": [
            "(320, 320, 1) 0.99692684 0.00011247419\n",
            "(320, 320, 3) (320, 320) (320, 320)\n",
            "_Image_11R_5\n"
          ]
        },
        {
          "name": "stderr",
          "output_type": "stream",
          "text": [
            "\r 33%|███▎      | 20/60 [00:04<00:09,  4.35it/s]"
          ]
        },
        {
          "name": "stdout",
          "output_type": "stream",
          "text": [
            "(320, 320, 1) 0.9999993 1.5175661e-09\n",
            "(320, 320, 3) (320, 320) (320, 320)\n",
            "_Image_11R_6\n"
          ]
        },
        {
          "name": "stderr",
          "output_type": "stream",
          "text": [
            "\r 35%|███▌      | 21/60 [00:04<00:09,  4.33it/s]"
          ]
        },
        {
          "name": "stdout",
          "output_type": "stream",
          "text": [
            "(320, 320, 1) 0.99999976 2.3380774e-07\n",
            "(320, 320, 3) (320, 320) (320, 320)\n",
            "_Image_11R_7\n"
          ]
        },
        {
          "name": "stderr",
          "output_type": "stream",
          "text": [
            "\r 37%|███▋      | 22/60 [00:05<00:08,  4.39it/s]"
          ]
        },
        {
          "name": "stdout",
          "output_type": "stream",
          "text": [
            "(320, 320, 1) 0.9999542 0.000217873\n",
            "(320, 320, 3) (320, 320) (320, 320)\n",
            "_Image_11R_8\n"
          ]
        },
        {
          "name": "stderr",
          "output_type": "stream",
          "text": [
            "/usr/local/lib/python3.7/dist-packages/sklearn/metrics/_classification.py:1318: UndefinedMetricWarning: Precision is ill-defined and being set to 0.0 due to no predicted samples. Use `zero_division` parameter to control this behavior.\n",
            "  _warn_prf(average, modifier, msg_start, len(result))\n",
            " 38%|███▊      | 23/60 [00:05<00:08,  4.41it/s]"
          ]
        },
        {
          "name": "stdout",
          "output_type": "stream",
          "text": [
            "(320, 320, 1) 0.035468146 0.00018145544\n",
            "(320, 320, 3) (320, 320) (320, 320)\n",
            "_Image_11R_9\n"
          ]
        },
        {
          "name": "stderr",
          "output_type": "stream",
          "text": [
            "\r 40%|████      | 24/60 [00:05<00:08,  4.35it/s]"
          ]
        },
        {
          "name": "stdout",
          "output_type": "stream",
          "text": [
            "(320, 320, 1) 0.9999962 0.00010741817\n",
            "(320, 320, 3) (320, 320) (320, 320)\n",
            "_Image_12L_0\n"
          ]
        },
        {
          "name": "stderr",
          "output_type": "stream",
          "text": [
            "/usr/local/lib/python3.7/dist-packages/sklearn/metrics/_classification.py:1318: UndefinedMetricWarning: Precision is ill-defined and being set to 0.0 due to no predicted samples. Use `zero_division` parameter to control this behavior.\n",
            "  _warn_prf(average, modifier, msg_start, len(result))\n",
            " 42%|████▏     | 25/60 [00:05<00:08,  4.37it/s]"
          ]
        },
        {
          "name": "stdout",
          "output_type": "stream",
          "text": [
            "(320, 320, 1) 0.021033855 9.995509e-05\n",
            "(320, 320, 3) (320, 320) (320, 320)\n",
            "_Image_12L_1\n"
          ]
        },
        {
          "name": "stderr",
          "output_type": "stream",
          "text": [
            "\r 43%|████▎     | 26/60 [00:05<00:07,  4.38it/s]"
          ]
        },
        {
          "name": "stdout",
          "output_type": "stream",
          "text": [
            "(320, 320, 1) 0.9999654 8.8179804e-05\n",
            "(320, 320, 3) (320, 320) (320, 320)\n",
            "_Image_12L_10\n"
          ]
        },
        {
          "name": "stderr",
          "output_type": "stream",
          "text": [
            "\r 45%|████▌     | 27/60 [00:06<00:07,  4.39it/s]"
          ]
        },
        {
          "name": "stdout",
          "output_type": "stream",
          "text": [
            "(320, 320, 1) 0.99999976 0.00014605813\n",
            "(320, 320, 3) (320, 320) (320, 320)\n",
            "_Image_12L_11\n"
          ]
        },
        {
          "name": "stderr",
          "output_type": "stream",
          "text": [
            "\r 47%|████▋     | 28/60 [00:06<00:07,  4.37it/s]"
          ]
        },
        {
          "name": "stdout",
          "output_type": "stream",
          "text": [
            "(320, 320, 1) 0.99997497 0.00018434532\n",
            "(320, 320, 3) (320, 320) (320, 320)\n",
            "_Image_12L_2\n"
          ]
        },
        {
          "name": "stderr",
          "output_type": "stream",
          "text": [
            "\r 48%|████▊     | 29/60 [00:06<00:07,  4.38it/s]"
          ]
        },
        {
          "name": "stdout",
          "output_type": "stream",
          "text": [
            "(320, 320, 1) 0.99999535 0.00010454308\n",
            "(320, 320, 3) (320, 320) (320, 320)\n",
            "_Image_12L_3\n"
          ]
        },
        {
          "name": "stderr",
          "output_type": "stream",
          "text": [
            "\r 50%|█████     | 30/60 [00:06<00:06,  4.39it/s]"
          ]
        },
        {
          "name": "stdout",
          "output_type": "stream",
          "text": [
            "(320, 320, 1) 0.9997464 0.00017656591\n",
            "(320, 320, 3) (320, 320) (320, 320)\n",
            "_Image_12L_4\n"
          ]
        },
        {
          "name": "stderr",
          "output_type": "stream",
          "text": [
            "\r 52%|█████▏    | 31/60 [00:07<00:06,  4.40it/s]"
          ]
        },
        {
          "name": "stdout",
          "output_type": "stream",
          "text": [
            "(320, 320, 1) 0.99993813 8.667817e-05\n",
            "(320, 320, 3) (320, 320) (320, 320)\n",
            "_Image_12L_5\n"
          ]
        },
        {
          "name": "stderr",
          "output_type": "stream",
          "text": [
            "\r 53%|█████▎    | 32/60 [00:07<00:06,  4.38it/s]"
          ]
        },
        {
          "name": "stdout",
          "output_type": "stream",
          "text": [
            "(320, 320, 1) 0.9999995 0.00029274196\n",
            "(320, 320, 3) (320, 320) (320, 320)\n",
            "_Image_12L_6\n"
          ]
        },
        {
          "name": "stderr",
          "output_type": "stream",
          "text": [
            "\r 55%|█████▌    | 33/60 [00:07<00:06,  4.36it/s]"
          ]
        },
        {
          "name": "stdout",
          "output_type": "stream",
          "text": [
            "(320, 320, 1) 0.99999917 2.0195186e-09\n",
            "(320, 320, 3) (320, 320) (320, 320)\n",
            "_Image_12L_7\n"
          ]
        },
        {
          "name": "stderr",
          "output_type": "stream",
          "text": [
            "\r 57%|█████▋    | 34/60 [00:07<00:05,  4.41it/s]"
          ]
        },
        {
          "name": "stdout",
          "output_type": "stream",
          "text": [
            "(320, 320, 1) 0.9856656 0.00015928417\n",
            "(320, 320, 3) (320, 320) (320, 320)\n",
            "_Image_12L_8\n"
          ]
        },
        {
          "name": "stderr",
          "output_type": "stream",
          "text": [
            "\r 58%|█████▊    | 35/60 [00:07<00:05,  4.47it/s]"
          ]
        },
        {
          "name": "stdout",
          "output_type": "stream",
          "text": [
            "(320, 320, 1) 0.99995613 0.00012775406\n",
            "(320, 320, 3) (320, 320) (320, 320)\n",
            "_Image_12L_9\n"
          ]
        },
        {
          "name": "stderr",
          "output_type": "stream",
          "text": [
            "\r 60%|██████    | 36/60 [00:08<00:05,  4.43it/s]"
          ]
        },
        {
          "name": "stdout",
          "output_type": "stream",
          "text": [
            "(320, 320, 1) 0.9999988 0.0001288914\n",
            "(320, 320, 3) (320, 320) (320, 320)\n",
            "_Image_12R_0\n"
          ]
        },
        {
          "name": "stderr",
          "output_type": "stream",
          "text": [
            "\r 62%|██████▏   | 37/60 [00:08<00:05,  4.41it/s]"
          ]
        },
        {
          "name": "stdout",
          "output_type": "stream",
          "text": [
            "(320, 320, 1) 0.9999933 0.00016521283\n",
            "(320, 320, 3) (320, 320) (320, 320)\n",
            "_Image_12R_1\n"
          ]
        },
        {
          "name": "stderr",
          "output_type": "stream",
          "text": [
            "\r 63%|██████▎   | 38/60 [00:08<00:05,  4.38it/s]"
          ]
        },
        {
          "name": "stdout",
          "output_type": "stream",
          "text": [
            "(320, 320, 1) 0.9999958 0.00016794313\n",
            "(320, 320, 3) (320, 320) (320, 320)\n",
            "_Image_12R_10\n"
          ]
        },
        {
          "name": "stderr",
          "output_type": "stream",
          "text": [
            "\r 65%|██████▌   | 39/60 [00:08<00:04,  4.38it/s]"
          ]
        },
        {
          "name": "stdout",
          "output_type": "stream",
          "text": [
            "(320, 320, 1) 0.99999774 0.00023726422\n",
            "(320, 320, 3) (320, 320) (320, 320)\n",
            "_Image_12R_11\n"
          ]
        },
        {
          "name": "stderr",
          "output_type": "stream",
          "text": [
            "\r 67%|██████▋   | 40/60 [00:09<00:04,  4.45it/s]"
          ]
        },
        {
          "name": "stdout",
          "output_type": "stream",
          "text": [
            "(320, 320, 1) 0.9999727 0.00022784749\n",
            "(320, 320, 3) (320, 320) (320, 320)\n",
            "_Image_12R_2\n"
          ]
        },
        {
          "name": "stderr",
          "output_type": "stream",
          "text": [
            "\r 68%|██████▊   | 41/60 [00:09<00:04,  4.37it/s]"
          ]
        },
        {
          "name": "stdout",
          "output_type": "stream",
          "text": [
            "(320, 320, 1) 0.99999666 0.00012832558\n",
            "(320, 320, 3) (320, 320) (320, 320)\n",
            "_Image_12R_3\n"
          ]
        },
        {
          "name": "stderr",
          "output_type": "stream",
          "text": [
            "\r 70%|███████   | 42/60 [00:09<00:04,  4.39it/s]"
          ]
        },
        {
          "name": "stdout",
          "output_type": "stream",
          "text": [
            "(320, 320, 1) 0.99982077 0.00015313615\n",
            "(320, 320, 3) (320, 320) (320, 320)\n",
            "_Image_12R_4\n"
          ]
        },
        {
          "name": "stderr",
          "output_type": "stream",
          "text": [
            "\r 72%|███████▏  | 43/60 [00:09<00:03,  4.41it/s]"
          ]
        },
        {
          "name": "stdout",
          "output_type": "stream",
          "text": [
            "(320, 320, 1) 0.99954224 0.00016508024\n",
            "(320, 320, 3) (320, 320) (320, 320)\n",
            "_Image_12R_5\n"
          ]
        },
        {
          "name": "stderr",
          "output_type": "stream",
          "text": [
            "\r 73%|███████▎  | 44/60 [00:10<00:03,  4.36it/s]"
          ]
        },
        {
          "name": "stdout",
          "output_type": "stream",
          "text": [
            "(320, 320, 1) 0.9999993 1.4621819e-09\n",
            "(320, 320, 3) (320, 320) (320, 320)\n",
            "_Image_12R_6\n"
          ]
        },
        {
          "name": "stderr",
          "output_type": "stream",
          "text": [
            "\r 75%|███████▌  | 45/60 [00:10<00:03,  4.30it/s]"
          ]
        },
        {
          "name": "stdout",
          "output_type": "stream",
          "text": [
            "(320, 320, 1) 0.99999785 7.8351244e-05\n",
            "(320, 320, 3) (320, 320) (320, 320)\n",
            "_Image_12R_7\n"
          ]
        },
        {
          "name": "stderr",
          "output_type": "stream",
          "text": [
            "\r 77%|███████▋  | 46/60 [00:10<00:03,  4.27it/s]"
          ]
        },
        {
          "name": "stdout",
          "output_type": "stream",
          "text": [
            "(320, 320, 1) 0.9999769 0.00018061206\n",
            "(320, 320, 3) (320, 320) (320, 320)\n",
            "_Image_12R_8\n"
          ]
        },
        {
          "name": "stderr",
          "output_type": "stream",
          "text": [
            "\r 78%|███████▊  | 47/60 [00:10<00:03,  4.22it/s]"
          ]
        },
        {
          "name": "stdout",
          "output_type": "stream",
          "text": [
            "(320, 320, 1) 0.99384016 0.00022399524\n",
            "(320, 320, 3) (320, 320) (320, 320)\n",
            "_Image_12R_9\n"
          ]
        },
        {
          "name": "stderr",
          "output_type": "stream",
          "text": [
            "\r 80%|████████  | 48/60 [00:11<00:02,  4.22it/s]"
          ]
        },
        {
          "name": "stdout",
          "output_type": "stream",
          "text": [
            "(320, 320, 1) 0.9999975 8.822498e-05\n",
            "(320, 320, 3) (320, 320) (320, 320)\n",
            "_Image_13L_0\n"
          ]
        },
        {
          "name": "stderr",
          "output_type": "stream",
          "text": [
            "\r 82%|████████▏ | 49/60 [00:11<00:02,  4.27it/s]"
          ]
        },
        {
          "name": "stdout",
          "output_type": "stream",
          "text": [
            "(320, 320, 1) 0.9995529 0.00020587584\n",
            "(320, 320, 3) (320, 320) (320, 320)\n",
            "_Image_13L_1\n"
          ]
        },
        {
          "name": "stderr",
          "output_type": "stream",
          "text": [
            "\r 83%|████████▎ | 50/60 [00:11<00:02,  4.29it/s]"
          ]
        },
        {
          "name": "stdout",
          "output_type": "stream",
          "text": [
            "(320, 320, 1) 0.9999757 0.00012706035\n",
            "(320, 320, 3) (320, 320) (320, 320)\n",
            "_Image_13L_10\n"
          ]
        },
        {
          "name": "stderr",
          "output_type": "stream",
          "text": [
            "\r 85%|████████▌ | 51/60 [00:11<00:02,  4.25it/s]"
          ]
        },
        {
          "name": "stdout",
          "output_type": "stream",
          "text": [
            "(320, 320, 1) 0.99992824 0.00011014774\n",
            "(320, 320, 3) (320, 320) (320, 320)\n",
            "_Image_13L_11\n"
          ]
        },
        {
          "name": "stderr",
          "output_type": "stream",
          "text": [
            "/usr/local/lib/python3.7/dist-packages/sklearn/metrics/_classification.py:1318: UndefinedMetricWarning: Precision is ill-defined and being set to 0.0 due to no predicted samples. Use `zero_division` parameter to control this behavior.\n",
            "  _warn_prf(average, modifier, msg_start, len(result))\n",
            " 87%|████████▋ | 52/60 [00:11<00:01,  4.27it/s]"
          ]
        },
        {
          "name": "stdout",
          "output_type": "stream",
          "text": [
            "(320, 320, 1) 0.0038569134 8.8743225e-05\n",
            "(320, 320, 3) (320, 320) (320, 320)\n",
            "_Image_13L_2\n"
          ]
        },
        {
          "name": "stderr",
          "output_type": "stream",
          "text": [
            "\r 88%|████████▊ | 53/60 [00:12<00:01,  4.26it/s]"
          ]
        },
        {
          "name": "stdout",
          "output_type": "stream",
          "text": [
            "(320, 320, 1) 0.99999297 8.658531e-05\n",
            "(320, 320, 3) (320, 320) (320, 320)\n",
            "_Image_13L_3\n"
          ]
        },
        {
          "name": "stderr",
          "output_type": "stream",
          "text": [
            "/usr/local/lib/python3.7/dist-packages/sklearn/metrics/_classification.py:1318: UndefinedMetricWarning: Precision is ill-defined and being set to 0.0 due to no predicted samples. Use `zero_division` parameter to control this behavior.\n",
            "  _warn_prf(average, modifier, msg_start, len(result))\n",
            " 90%|█████████ | 54/60 [00:12<00:01,  4.31it/s]"
          ]
        },
        {
          "name": "stdout",
          "output_type": "stream",
          "text": [
            "(320, 320, 1) 0.0038569134 5.725056e-05\n",
            "(320, 320, 3) (320, 320) (320, 320)\n",
            "_Image_13L_4\n"
          ]
        },
        {
          "name": "stderr",
          "output_type": "stream",
          "text": [
            "\r 92%|█████████▏| 55/60 [00:12<00:01,  4.33it/s]"
          ]
        },
        {
          "name": "stdout",
          "output_type": "stream",
          "text": [
            "(320, 320, 1) 0.9990688 0.00016591945\n",
            "(320, 320, 3) (320, 320) (320, 320)\n",
            "_Image_13L_5\n"
          ]
        },
        {
          "name": "stderr",
          "output_type": "stream",
          "text": [
            "\r 93%|█████████▎| 56/60 [00:12<00:00,  4.21it/s]"
          ]
        },
        {
          "name": "stdout",
          "output_type": "stream",
          "text": [
            "(320, 320, 1) 0.9999628 4.2272404e-05\n",
            "(320, 320, 3) (320, 320) (320, 320)\n",
            "_Image_13L_6\n"
          ]
        },
        {
          "name": "stderr",
          "output_type": "stream",
          "text": [
            "\r 95%|█████████▌| 57/60 [00:13<00:00,  4.16it/s]"
          ]
        },
        {
          "name": "stdout",
          "output_type": "stream",
          "text": [
            "(320, 320, 1) 0.9999981 4.8363487e-05\n",
            "(320, 320, 3) (320, 320) (320, 320)\n",
            "_Image_13L_7\n"
          ]
        },
        {
          "name": "stderr",
          "output_type": "stream",
          "text": [
            "/usr/local/lib/python3.7/dist-packages/sklearn/metrics/_classification.py:1318: UndefinedMetricWarning: Precision is ill-defined and being set to 0.0 due to no predicted samples. Use `zero_division` parameter to control this behavior.\n",
            "  _warn_prf(average, modifier, msg_start, len(result))\n",
            " 97%|█████████▋| 58/60 [00:13<00:00,  4.24it/s]"
          ]
        },
        {
          "name": "stdout",
          "output_type": "stream",
          "text": [
            "(320, 320, 1) 0.004038551 8.740951e-05\n",
            "(320, 320, 3) (320, 320) (320, 320)\n",
            "_Image_13L_8\n"
          ]
        },
        {
          "name": "stderr",
          "output_type": "stream",
          "text": [
            "/usr/local/lib/python3.7/dist-packages/sklearn/metrics/_classification.py:1318: UndefinedMetricWarning: Precision is ill-defined and being set to 0.0 due to no predicted samples. Use `zero_division` parameter to control this behavior.\n",
            "  _warn_prf(average, modifier, msg_start, len(result))\n",
            " 98%|█████████▊| 59/60 [00:13<00:00,  4.34it/s]"
          ]
        },
        {
          "name": "stdout",
          "output_type": "stream",
          "text": [
            "(320, 320, 1) 0.019594258 0.00012984015\n",
            "(320, 320, 3) (320, 320) (320, 320)\n",
            "_Image_13L_9\n"
          ]
        },
        {
          "name": "stderr",
          "output_type": "stream",
          "text": [
            "100%|██████████| 60/60 [00:13<00:00,  4.35it/s]"
          ]
        },
        {
          "name": "stdout",
          "output_type": "stream",
          "text": [
            "(320, 320, 1) 0.9999931 8.899373e-05\n",
            "(320, 320, 3) (320, 320) (320, 320)\n",
            "Threshold: 0.40000\n",
            "Accuracy: 0.97987\n",
            "F1: 0.60810\n",
            "Jaccard: 0.49212\n",
            "Recall: 0.59522\n",
            "Precision: 0.64427\n",
            "AUC: 0.92869\n",
            "Dice Coeff: 0.59067\n"
          ]
        },
        {
          "name": "stderr",
          "output_type": "stream",
          "text": [
            "\n"
          ]
        }
      ],
      "source": [
        "dataset_path = f\"{root_path}/{split_name}/{split}/\"\n",
        "df_0_4, score_0_4 = compute_metrics(dataset_path,\n",
        "                    results_path=results_path,\n",
        "                    threshold=0.4,\n",
        "                    model=model,\n",
        "                    predictions_path=prediction_path,\n",
        "                    prediction_np_path=prediction_np_path)"
      ]
    },
    {
      "cell_type": "code",
      "execution_count": null,
      "metadata": {
        "colab": {
          "background_save": true
        },
        "id": "awC6MfPbujiZ",
        "outputId": "7d7ff195-d733-4771-f9e6-9d4a2d9e1a09"
      },
      "outputs": [
        {
          "name": "stdout",
          "output_type": "stream",
          "text": [
            "Threshold 0.5\n"
          ]
        },
        {
          "name": "stderr",
          "output_type": "stream",
          "text": [
            "\r  0%|          | 0/60 [00:00<?, ?it/s]"
          ]
        },
        {
          "name": "stdout",
          "output_type": "stream",
          "text": [
            "_Image_11L_0\n",
            "(320, 320, 1) 0.99993527 0.00010344482\n",
            "(320, 320, 3) (320, 320) (320, 320)\n"
          ]
        },
        {
          "name": "stderr",
          "output_type": "stream",
          "text": [
            "\r  2%|▏         | 1/60 [00:00<00:13,  4.36it/s]"
          ]
        },
        {
          "name": "stdout",
          "output_type": "stream",
          "text": [
            "_Image_11L_1\n",
            "(320, 320, 1) 0.99999785 0.00011931665\n",
            "(320, 320, 3) (320, 320) (320, 320)\n"
          ]
        },
        {
          "name": "stderr",
          "output_type": "stream",
          "text": [
            "\r  3%|▎         | 2/60 [00:00<00:14,  4.12it/s]"
          ]
        },
        {
          "name": "stdout",
          "output_type": "stream",
          "text": [
            "_Image_11L_10\n",
            "(320, 320, 1) 0.99999905 7.960387e-06\n",
            "(320, 320, 3) (320, 320) (320, 320)\n"
          ]
        },
        {
          "name": "stderr",
          "output_type": "stream",
          "text": [
            "\r  5%|▌         | 3/60 [00:00<00:13,  4.22it/s]"
          ]
        },
        {
          "name": "stdout",
          "output_type": "stream",
          "text": [
            "_Image_11L_11\n"
          ]
        },
        {
          "name": "stderr",
          "output_type": "stream",
          "text": [
            "/usr/local/lib/python3.7/dist-packages/sklearn/metrics/_classification.py:1318: UndefinedMetricWarning: Recall is ill-defined and being set to 0.0 due to no true samples. Use `zero_division` parameter to control this behavior.\n",
            "  _warn_prf(average, modifier, msg_start, len(result))\n",
            "\r  7%|▋         | 4/60 [00:00<00:12,  4.54it/s]"
          ]
        },
        {
          "name": "stdout",
          "output_type": "stream",
          "text": [
            "(320, 320, 1) 0.8116376 0.00023389373\n",
            "(320, 320, 3) (320, 320) (320, 320)\n",
            "_Image_11L_2\n",
            "(320, 320, 1) 0.99999917 9.771987e-05\n"
          ]
        },
        {
          "name": "stderr",
          "output_type": "stream",
          "text": [
            "\r  8%|▊         | 5/60 [00:01<00:12,  4.37it/s]"
          ]
        },
        {
          "name": "stdout",
          "output_type": "stream",
          "text": [
            "(320, 320, 3) (320, 320) (320, 320)\n",
            "_Image_11L_3\n"
          ]
        },
        {
          "name": "stderr",
          "output_type": "stream",
          "text": [
            "/usr/local/lib/python3.7/dist-packages/sklearn/metrics/_classification.py:1318: UndefinedMetricWarning: Precision is ill-defined and being set to 0.0 due to no predicted samples. Use `zero_division` parameter to control this behavior.\n",
            "  _warn_prf(average, modifier, msg_start, len(result))\n",
            " 10%|█         | 6/60 [00:01<00:12,  4.35it/s]"
          ]
        },
        {
          "name": "stdout",
          "output_type": "stream",
          "text": [
            "(320, 320, 1) 0.015031816 0.00017685555\n",
            "(320, 320, 3) (320, 320) (320, 320)\n",
            "_Image_11L_4\n"
          ]
        },
        {
          "name": "stderr",
          "output_type": "stream",
          "text": [
            "\r 12%|█▏        | 7/60 [00:01<00:12,  4.37it/s]"
          ]
        },
        {
          "name": "stdout",
          "output_type": "stream",
          "text": [
            "(320, 320, 1) 0.9998801 9.933671e-05\n",
            "(320, 320, 3) (320, 320) (320, 320)\n",
            "_Image_11L_5\n"
          ]
        },
        {
          "name": "stderr",
          "output_type": "stream",
          "text": [
            "\r 13%|█▎        | 8/60 [00:01<00:11,  4.35it/s]"
          ]
        },
        {
          "name": "stdout",
          "output_type": "stream",
          "text": [
            "(320, 320, 1) 0.9999993 0.00011996625\n",
            "(320, 320, 3) (320, 320) (320, 320)\n",
            "_Image_11L_6\n"
          ]
        },
        {
          "name": "stderr",
          "output_type": "stream",
          "text": [
            "\r 15%|█▌        | 9/60 [00:02<00:11,  4.34it/s]"
          ]
        },
        {
          "name": "stdout",
          "output_type": "stream",
          "text": [
            "(320, 320, 1) 0.9999999 1.3241411e-06\n",
            "(320, 320, 3) (320, 320) (320, 320)\n",
            "_Image_11L_7\n"
          ]
        },
        {
          "name": "stderr",
          "output_type": "stream",
          "text": [
            "\r 17%|█▋        | 10/60 [00:02<00:11,  4.40it/s]"
          ]
        },
        {
          "name": "stdout",
          "output_type": "stream",
          "text": [
            "(320, 320, 1) 0.999539 0.00014699604\n",
            "(320, 320, 3) (320, 320) (320, 320)\n",
            "_Image_11L_8\n"
          ]
        },
        {
          "name": "stderr",
          "output_type": "stream",
          "text": [
            "\r 18%|█▊        | 11/60 [00:02<00:10,  4.46it/s]"
          ]
        },
        {
          "name": "stdout",
          "output_type": "stream",
          "text": [
            "(320, 320, 1) 0.9999634 0.0002086689\n",
            "(320, 320, 3) (320, 320) (320, 320)\n",
            "_Image_11L_9\n"
          ]
        },
        {
          "name": "stderr",
          "output_type": "stream",
          "text": [
            "\r 20%|██        | 12/60 [00:02<00:10,  4.46it/s]"
          ]
        },
        {
          "name": "stdout",
          "output_type": "stream",
          "text": [
            "(320, 320, 1) 0.9999945 7.13289e-05\n",
            "(320, 320, 3) (320, 320) (320, 320)\n",
            "_Image_11R_0\n"
          ]
        },
        {
          "name": "stderr",
          "output_type": "stream",
          "text": [
            "/usr/local/lib/python3.7/dist-packages/sklearn/metrics/_classification.py:1318: UndefinedMetricWarning: Precision is ill-defined and being set to 0.0 due to no predicted samples. Use `zero_division` parameter to control this behavior.\n",
            "  _warn_prf(average, modifier, msg_start, len(result))\n",
            " 22%|██▏       | 13/60 [00:02<00:10,  4.49it/s]"
          ]
        },
        {
          "name": "stdout",
          "output_type": "stream",
          "text": [
            "(320, 320, 1) 0.02177827 0.00012468618\n",
            "(320, 320, 3) (320, 320) (320, 320)\n",
            "_Image_11R_1\n"
          ]
        },
        {
          "name": "stderr",
          "output_type": "stream",
          "text": [
            "\r 23%|██▎       | 14/60 [00:03<00:10,  4.44it/s]"
          ]
        },
        {
          "name": "stdout",
          "output_type": "stream",
          "text": [
            "(320, 320, 1) 0.99998105 0.00015746735\n",
            "(320, 320, 3) (320, 320) (320, 320)\n",
            "_Image_11R_10\n"
          ]
        },
        {
          "name": "stderr",
          "output_type": "stream",
          "text": [
            "\r 25%|██▌       | 15/60 [00:03<00:10,  4.41it/s]"
          ]
        },
        {
          "name": "stdout",
          "output_type": "stream",
          "text": [
            "(320, 320, 1) 0.99999535 9.606045e-05\n",
            "(320, 320, 3) (320, 320) (320, 320)\n",
            "_Image_11R_11\n"
          ]
        },
        {
          "name": "stderr",
          "output_type": "stream",
          "text": [
            "\r 27%|██▋       | 16/60 [00:03<00:09,  4.43it/s]"
          ]
        },
        {
          "name": "stdout",
          "output_type": "stream",
          "text": [
            "(320, 320, 1) 0.99996364 0.00029699728\n",
            "(320, 320, 3) (320, 320) (320, 320)\n",
            "_Image_11R_2\n"
          ]
        },
        {
          "name": "stderr",
          "output_type": "stream",
          "text": [
            "\r 28%|██▊       | 17/60 [00:03<00:09,  4.40it/s]"
          ]
        },
        {
          "name": "stdout",
          "output_type": "stream",
          "text": [
            "(320, 320, 1) 0.99999034 0.00016155673\n",
            "(320, 320, 3) (320, 320) (320, 320)\n",
            "_Image_11R_3\n"
          ]
        },
        {
          "name": "stderr",
          "output_type": "stream",
          "text": [
            "/usr/local/lib/python3.7/dist-packages/sklearn/metrics/_classification.py:1318: UndefinedMetricWarning: Precision is ill-defined and being set to 0.0 due to no predicted samples. Use `zero_division` parameter to control this behavior.\n",
            "  _warn_prf(average, modifier, msg_start, len(result))\n",
            " 30%|███       | 18/60 [00:04<00:09,  4.43it/s]"
          ]
        },
        {
          "name": "stdout",
          "output_type": "stream",
          "text": [
            "(320, 320, 1) 0.008269306 0.00021084464\n",
            "(320, 320, 3) (320, 320) (320, 320)\n",
            "_Image_11R_4\n"
          ]
        },
        {
          "name": "stderr",
          "output_type": "stream",
          "text": [
            "\r 32%|███▏      | 19/60 [00:04<00:09,  4.46it/s]"
          ]
        },
        {
          "name": "stdout",
          "output_type": "stream",
          "text": [
            "(320, 320, 1) 0.99692684 0.00011247419\n",
            "(320, 320, 3) (320, 320) (320, 320)\n",
            "_Image_11R_5\n"
          ]
        },
        {
          "name": "stderr",
          "output_type": "stream",
          "text": [
            "\r 33%|███▎      | 20/60 [00:04<00:09,  4.42it/s]"
          ]
        },
        {
          "name": "stdout",
          "output_type": "stream",
          "text": [
            "(320, 320, 1) 0.9999993 1.5175661e-09\n",
            "(320, 320, 3) (320, 320) (320, 320)\n",
            "_Image_11R_6\n"
          ]
        },
        {
          "name": "stderr",
          "output_type": "stream",
          "text": [
            "\r 35%|███▌      | 21/60 [00:04<00:08,  4.39it/s]"
          ]
        },
        {
          "name": "stdout",
          "output_type": "stream",
          "text": [
            "(320, 320, 1) 0.99999976 2.3380774e-07\n",
            "(320, 320, 3) (320, 320) (320, 320)\n",
            "_Image_11R_7\n"
          ]
        },
        {
          "name": "stderr",
          "output_type": "stream",
          "text": [
            "\r 37%|███▋      | 22/60 [00:05<00:08,  4.40it/s]"
          ]
        },
        {
          "name": "stdout",
          "output_type": "stream",
          "text": [
            "(320, 320, 1) 0.9999542 0.000217873\n",
            "(320, 320, 3) (320, 320) (320, 320)\n",
            "_Image_11R_8\n"
          ]
        },
        {
          "name": "stderr",
          "output_type": "stream",
          "text": [
            "/usr/local/lib/python3.7/dist-packages/sklearn/metrics/_classification.py:1318: UndefinedMetricWarning: Precision is ill-defined and being set to 0.0 due to no predicted samples. Use `zero_division` parameter to control this behavior.\n",
            "  _warn_prf(average, modifier, msg_start, len(result))\n",
            " 38%|███▊      | 23/60 [00:05<00:08,  4.43it/s]"
          ]
        },
        {
          "name": "stdout",
          "output_type": "stream",
          "text": [
            "(320, 320, 1) 0.035468146 0.00018145544\n",
            "(320, 320, 3) (320, 320) (320, 320)\n",
            "_Image_11R_9\n"
          ]
        },
        {
          "name": "stderr",
          "output_type": "stream",
          "text": [
            "\r 40%|████      | 24/60 [00:05<00:08,  4.39it/s]"
          ]
        },
        {
          "name": "stdout",
          "output_type": "stream",
          "text": [
            "(320, 320, 1) 0.9999962 0.00010741817\n",
            "(320, 320, 3) (320, 320) (320, 320)\n",
            "_Image_12L_0\n"
          ]
        },
        {
          "name": "stderr",
          "output_type": "stream",
          "text": [
            "/usr/local/lib/python3.7/dist-packages/sklearn/metrics/_classification.py:1318: UndefinedMetricWarning: Precision is ill-defined and being set to 0.0 due to no predicted samples. Use `zero_division` parameter to control this behavior.\n",
            "  _warn_prf(average, modifier, msg_start, len(result))\n",
            " 42%|████▏     | 25/60 [00:05<00:08,  4.36it/s]"
          ]
        },
        {
          "name": "stdout",
          "output_type": "stream",
          "text": [
            "(320, 320, 1) 0.021033855 9.995509e-05\n",
            "(320, 320, 3) (320, 320) (320, 320)\n",
            "_Image_12L_1\n"
          ]
        },
        {
          "name": "stderr",
          "output_type": "stream",
          "text": [
            "\r 43%|████▎     | 26/60 [00:05<00:07,  4.30it/s]"
          ]
        },
        {
          "name": "stdout",
          "output_type": "stream",
          "text": [
            "(320, 320, 1) 0.9999654 8.8179804e-05\n",
            "(320, 320, 3) (320, 320) (320, 320)\n",
            "_Image_12L_10\n"
          ]
        },
        {
          "name": "stderr",
          "output_type": "stream",
          "text": [
            "\r 45%|████▌     | 27/60 [00:06<00:07,  4.31it/s]"
          ]
        },
        {
          "name": "stdout",
          "output_type": "stream",
          "text": [
            "(320, 320, 1) 0.99999976 0.00014605813\n",
            "(320, 320, 3) (320, 320) (320, 320)\n",
            "_Image_12L_11\n"
          ]
        },
        {
          "name": "stderr",
          "output_type": "stream",
          "text": [
            "\r 47%|████▋     | 28/60 [00:06<00:07,  4.39it/s]"
          ]
        },
        {
          "name": "stdout",
          "output_type": "stream",
          "text": [
            "(320, 320, 1) 0.99997497 0.00018434532\n",
            "(320, 320, 3) (320, 320) (320, 320)\n",
            "_Image_12L_2\n"
          ]
        },
        {
          "name": "stderr",
          "output_type": "stream",
          "text": [
            "\r 48%|████▊     | 29/60 [00:06<00:07,  4.40it/s]"
          ]
        },
        {
          "name": "stdout",
          "output_type": "stream",
          "text": [
            "(320, 320, 1) 0.99999535 0.00010454308\n",
            "(320, 320, 3) (320, 320) (320, 320)\n",
            "_Image_12L_3\n"
          ]
        },
        {
          "name": "stderr",
          "output_type": "stream",
          "text": [
            "\r 50%|█████     | 30/60 [00:06<00:06,  4.43it/s]"
          ]
        },
        {
          "name": "stdout",
          "output_type": "stream",
          "text": [
            "(320, 320, 1) 0.9997464 0.00017656591\n",
            "(320, 320, 3) (320, 320) (320, 320)\n",
            "_Image_12L_4\n"
          ]
        },
        {
          "name": "stderr",
          "output_type": "stream",
          "text": [
            "\r 52%|█████▏    | 31/60 [00:07<00:06,  4.39it/s]"
          ]
        },
        {
          "name": "stdout",
          "output_type": "stream",
          "text": [
            "(320, 320, 1) 0.99993813 8.667817e-05\n",
            "(320, 320, 3) (320, 320) (320, 320)\n",
            "_Image_12L_5\n"
          ]
        },
        {
          "name": "stderr",
          "output_type": "stream",
          "text": [
            "\r 53%|█████▎    | 32/60 [00:07<00:06,  4.26it/s]"
          ]
        },
        {
          "name": "stdout",
          "output_type": "stream",
          "text": [
            "(320, 320, 1) 0.9999995 0.00029274196\n",
            "(320, 320, 3) (320, 320) (320, 320)\n",
            "_Image_12L_6\n"
          ]
        },
        {
          "name": "stderr",
          "output_type": "stream",
          "text": [
            "\r 55%|█████▌    | 33/60 [00:07<00:06,  4.19it/s]"
          ]
        },
        {
          "name": "stdout",
          "output_type": "stream",
          "text": [
            "(320, 320, 1) 0.99999917 2.0195186e-09\n",
            "(320, 320, 3) (320, 320) (320, 320)\n",
            "_Image_12L_7\n"
          ]
        },
        {
          "name": "stderr",
          "output_type": "stream",
          "text": [
            "\r 57%|█████▋    | 34/60 [00:07<00:06,  4.21it/s]"
          ]
        },
        {
          "name": "stdout",
          "output_type": "stream",
          "text": [
            "(320, 320, 1) 0.9856656 0.00015928417\n",
            "(320, 320, 3) (320, 320) (320, 320)\n",
            "_Image_12L_8\n"
          ]
        },
        {
          "name": "stderr",
          "output_type": "stream",
          "text": [
            "\r 58%|█████▊    | 35/60 [00:08<00:05,  4.29it/s]"
          ]
        },
        {
          "name": "stdout",
          "output_type": "stream",
          "text": [
            "(320, 320, 1) 0.99995613 0.00012775406\n",
            "(320, 320, 3) (320, 320) (320, 320)\n",
            "_Image_12L_9\n"
          ]
        },
        {
          "name": "stderr",
          "output_type": "stream",
          "text": [
            "\r 60%|██████    | 36/60 [00:08<00:05,  4.25it/s]"
          ]
        },
        {
          "name": "stdout",
          "output_type": "stream",
          "text": [
            "(320, 320, 1) 0.9999988 0.0001288914\n",
            "(320, 320, 3) (320, 320) (320, 320)\n",
            "_Image_12R_0\n"
          ]
        },
        {
          "name": "stderr",
          "output_type": "stream",
          "text": [
            "\r 62%|██████▏   | 37/60 [00:08<00:05,  4.35it/s]"
          ]
        },
        {
          "name": "stdout",
          "output_type": "stream",
          "text": [
            "(320, 320, 1) 0.9999933 0.00016521283\n",
            "(320, 320, 3) (320, 320) (320, 320)\n",
            "_Image_12R_1\n"
          ]
        },
        {
          "name": "stderr",
          "output_type": "stream",
          "text": [
            "\r 63%|██████▎   | 38/60 [00:08<00:05,  4.36it/s]"
          ]
        },
        {
          "name": "stdout",
          "output_type": "stream",
          "text": [
            "(320, 320, 1) 0.9999958 0.00016794313\n",
            "(320, 320, 3) (320, 320) (320, 320)\n",
            "_Image_12R_10\n"
          ]
        },
        {
          "name": "stderr",
          "output_type": "stream",
          "text": [
            "\r 65%|██████▌   | 39/60 [00:08<00:04,  4.36it/s]"
          ]
        },
        {
          "name": "stdout",
          "output_type": "stream",
          "text": [
            "(320, 320, 1) 0.99999774 0.00023726422\n",
            "(320, 320, 3) (320, 320) (320, 320)\n",
            "_Image_12R_11\n"
          ]
        },
        {
          "name": "stderr",
          "output_type": "stream",
          "text": [
            "\r 67%|██████▋   | 40/60 [00:09<00:04,  4.42it/s]"
          ]
        },
        {
          "name": "stdout",
          "output_type": "stream",
          "text": [
            "(320, 320, 1) 0.9999727 0.00022784749\n",
            "(320, 320, 3) (320, 320) (320, 320)\n",
            "_Image_12R_2\n"
          ]
        },
        {
          "name": "stderr",
          "output_type": "stream",
          "text": [
            "\r 68%|██████▊   | 41/60 [00:09<00:04,  4.38it/s]"
          ]
        },
        {
          "name": "stdout",
          "output_type": "stream",
          "text": [
            "(320, 320, 1) 0.99999666 0.00012832558\n",
            "(320, 320, 3) (320, 320) (320, 320)\n",
            "_Image_12R_3\n"
          ]
        },
        {
          "name": "stderr",
          "output_type": "stream",
          "text": [
            "\r 70%|███████   | 42/60 [00:09<00:04,  4.40it/s]"
          ]
        },
        {
          "name": "stdout",
          "output_type": "stream",
          "text": [
            "(320, 320, 1) 0.99982077 0.00015313615\n",
            "(320, 320, 3) (320, 320) (320, 320)\n",
            "_Image_12R_4\n"
          ]
        },
        {
          "name": "stderr",
          "output_type": "stream",
          "text": [
            "\r 72%|███████▏  | 43/60 [00:09<00:03,  4.39it/s]"
          ]
        },
        {
          "name": "stdout",
          "output_type": "stream",
          "text": [
            "(320, 320, 1) 0.99954224 0.00016508024\n",
            "(320, 320, 3) (320, 320) (320, 320)\n",
            "_Image_12R_5\n"
          ]
        },
        {
          "name": "stderr",
          "output_type": "stream",
          "text": [
            "\r 73%|███████▎  | 44/60 [00:10<00:03,  4.34it/s]"
          ]
        },
        {
          "name": "stdout",
          "output_type": "stream",
          "text": [
            "(320, 320, 1) 0.9999993 1.4621819e-09\n",
            "(320, 320, 3) (320, 320) (320, 320)\n",
            "_Image_12R_6\n"
          ]
        },
        {
          "name": "stderr",
          "output_type": "stream",
          "text": [
            "\r 75%|███████▌  | 45/60 [00:10<00:03,  4.27it/s]"
          ]
        },
        {
          "name": "stdout",
          "output_type": "stream",
          "text": [
            "(320, 320, 1) 0.99999785 7.8351244e-05\n",
            "(320, 320, 3) (320, 320) (320, 320)\n",
            "_Image_12R_7\n"
          ]
        },
        {
          "name": "stderr",
          "output_type": "stream",
          "text": [
            "\r 77%|███████▋  | 46/60 [00:10<00:03,  4.29it/s]"
          ]
        },
        {
          "name": "stdout",
          "output_type": "stream",
          "text": [
            "(320, 320, 1) 0.9999769 0.00018061206\n",
            "(320, 320, 3) (320, 320) (320, 320)\n",
            "_Image_12R_8\n"
          ]
        },
        {
          "name": "stderr",
          "output_type": "stream",
          "text": [
            "\r 78%|███████▊  | 47/60 [00:10<00:02,  4.36it/s]"
          ]
        },
        {
          "name": "stdout",
          "output_type": "stream",
          "text": [
            "(320, 320, 1) 0.99384016 0.00022399524\n",
            "(320, 320, 3) (320, 320) (320, 320)\n",
            "_Image_12R_9\n"
          ]
        },
        {
          "name": "stderr",
          "output_type": "stream",
          "text": [
            "\r 80%|████████  | 48/60 [00:10<00:02,  4.34it/s]"
          ]
        },
        {
          "name": "stdout",
          "output_type": "stream",
          "text": [
            "(320, 320, 1) 0.9999975 8.822498e-05\n",
            "(320, 320, 3) (320, 320) (320, 320)\n",
            "_Image_13L_0\n"
          ]
        },
        {
          "name": "stderr",
          "output_type": "stream",
          "text": [
            "\r 82%|████████▏ | 49/60 [00:11<00:02,  4.33it/s]"
          ]
        },
        {
          "name": "stdout",
          "output_type": "stream",
          "text": [
            "(320, 320, 1) 0.9995529 0.00020587584\n",
            "(320, 320, 3) (320, 320) (320, 320)\n",
            "_Image_13L_1\n"
          ]
        },
        {
          "name": "stderr",
          "output_type": "stream",
          "text": [
            "\r 83%|████████▎ | 50/60 [00:11<00:02,  4.25it/s]"
          ]
        },
        {
          "name": "stdout",
          "output_type": "stream",
          "text": [
            "(320, 320, 1) 0.9999757 0.00012706035\n",
            "(320, 320, 3) (320, 320) (320, 320)\n",
            "_Image_13L_10\n"
          ]
        },
        {
          "name": "stderr",
          "output_type": "stream",
          "text": [
            "\r 85%|████████▌ | 51/60 [00:11<00:02,  4.21it/s]"
          ]
        },
        {
          "name": "stdout",
          "output_type": "stream",
          "text": [
            "(320, 320, 1) 0.99992824 0.00011014774\n",
            "(320, 320, 3) (320, 320) (320, 320)\n",
            "_Image_13L_11\n"
          ]
        },
        {
          "name": "stderr",
          "output_type": "stream",
          "text": [
            "/usr/local/lib/python3.7/dist-packages/sklearn/metrics/_classification.py:1318: UndefinedMetricWarning: Precision is ill-defined and being set to 0.0 due to no predicted samples. Use `zero_division` parameter to control this behavior.\n",
            "  _warn_prf(average, modifier, msg_start, len(result))\n",
            " 87%|████████▋ | 52/60 [00:11<00:01,  4.28it/s]"
          ]
        },
        {
          "name": "stdout",
          "output_type": "stream",
          "text": [
            "(320, 320, 1) 0.0038569134 8.8743225e-05\n",
            "(320, 320, 3) (320, 320) (320, 320)\n",
            "_Image_13L_2\n"
          ]
        },
        {
          "name": "stderr",
          "output_type": "stream",
          "text": [
            "\r 88%|████████▊ | 53/60 [00:12<00:01,  4.28it/s]"
          ]
        },
        {
          "name": "stdout",
          "output_type": "stream",
          "text": [
            "(320, 320, 1) 0.99999297 8.658531e-05\n",
            "(320, 320, 3) (320, 320) (320, 320)\n",
            "_Image_13L_3\n"
          ]
        },
        {
          "name": "stderr",
          "output_type": "stream",
          "text": [
            "/usr/local/lib/python3.7/dist-packages/sklearn/metrics/_classification.py:1318: UndefinedMetricWarning: Precision is ill-defined and being set to 0.0 due to no predicted samples. Use `zero_division` parameter to control this behavior.\n",
            "  _warn_prf(average, modifier, msg_start, len(result))\n",
            " 90%|█████████ | 54/60 [00:12<00:01,  4.31it/s]"
          ]
        },
        {
          "name": "stdout",
          "output_type": "stream",
          "text": [
            "(320, 320, 1) 0.0038569134 5.725056e-05\n",
            "(320, 320, 3) (320, 320) (320, 320)\n",
            "_Image_13L_4\n"
          ]
        },
        {
          "name": "stderr",
          "output_type": "stream",
          "text": [
            "\r 92%|█████████▏| 55/60 [00:12<00:01,  4.31it/s]"
          ]
        },
        {
          "name": "stdout",
          "output_type": "stream",
          "text": [
            "(320, 320, 1) 0.9990688 0.00016591945\n",
            "(320, 320, 3) (320, 320) (320, 320)\n",
            "_Image_13L_5\n"
          ]
        },
        {
          "name": "stderr",
          "output_type": "stream",
          "text": [
            "\r 93%|█████████▎| 56/60 [00:12<00:00,  4.27it/s]"
          ]
        },
        {
          "name": "stdout",
          "output_type": "stream",
          "text": [
            "(320, 320, 1) 0.9999628 4.2272404e-05\n",
            "(320, 320, 3) (320, 320) (320, 320)\n",
            "_Image_13L_6\n"
          ]
        },
        {
          "name": "stderr",
          "output_type": "stream",
          "text": [
            "\r 95%|█████████▌| 57/60 [00:13<00:00,  4.24it/s]"
          ]
        },
        {
          "name": "stdout",
          "output_type": "stream",
          "text": [
            "(320, 320, 1) 0.9999981 4.8363487e-05\n",
            "(320, 320, 3) (320, 320) (320, 320)\n",
            "_Image_13L_7\n"
          ]
        },
        {
          "name": "stderr",
          "output_type": "stream",
          "text": [
            "/usr/local/lib/python3.7/dist-packages/sklearn/metrics/_classification.py:1318: UndefinedMetricWarning: Precision is ill-defined and being set to 0.0 due to no predicted samples. Use `zero_division` parameter to control this behavior.\n",
            "  _warn_prf(average, modifier, msg_start, len(result))\n",
            "\r 97%|█████████▋| 58/60 [00:13<00:00,  4.22it/s]"
          ]
        },
        {
          "name": "stdout",
          "output_type": "stream",
          "text": [
            "(320, 320, 1) 0.004038551 8.740951e-05\n",
            "(320, 320, 3) (320, 320) (320, 320)\n",
            "_Image_13L_8\n"
          ]
        },
        {
          "name": "stderr",
          "output_type": "stream",
          "text": [
            "/usr/local/lib/python3.7/dist-packages/sklearn/metrics/_classification.py:1318: UndefinedMetricWarning: Precision is ill-defined and being set to 0.0 due to no predicted samples. Use `zero_division` parameter to control this behavior.\n",
            "  _warn_prf(average, modifier, msg_start, len(result))\n",
            "\r 98%|█████████▊| 59/60 [00:13<00:00,  4.26it/s]"
          ]
        },
        {
          "name": "stdout",
          "output_type": "stream",
          "text": [
            "(320, 320, 1) 0.019594258 0.00012984015\n",
            "(320, 320, 3) (320, 320) (320, 320)\n",
            "_Image_13L_9\n"
          ]
        },
        {
          "name": "stderr",
          "output_type": "stream",
          "text": [
            "100%|██████████| 60/60 [00:13<00:00,  4.34it/s]"
          ]
        },
        {
          "name": "stdout",
          "output_type": "stream",
          "text": [
            "(320, 320, 1) 0.9999931 8.899373e-05\n",
            "(320, 320, 3) (320, 320) (320, 320)\n",
            "Threshold: 0.50000\n",
            "Accuracy: 0.97991\n",
            "F1: 0.60545\n",
            "Jaccard: 0.48938\n",
            "Recall: 0.58534\n",
            "Precision: 0.65185\n",
            "AUC: 0.92869\n",
            "Dice Coeff: 0.59067\n"
          ]
        },
        {
          "name": "stderr",
          "output_type": "stream",
          "text": [
            "\n"
          ]
        }
      ],
      "source": [
        "dataset_path = f\"{root_path}/{split_name}/{split}/\"\n",
        "df_0_5, score_0_5 = compute_metrics(dataset_path,\n",
        "                    results_path=results_path,\n",
        "                    threshold=0.5,\n",
        "                    model=model,\n",
        "                    predictions_path=prediction_path,\n",
        "                    prediction_np_path=prediction_np_path)"
      ]
    },
    {
      "cell_type": "code",
      "execution_count": null,
      "metadata": {
        "colab": {
          "background_save": true
        },
        "id": "a5lvUqu1uoxt",
        "outputId": "cfd65f27-8c7a-481c-e153-823e6b3f738d"
      },
      "outputs": [
        {
          "name": "stdout",
          "output_type": "stream",
          "text": [
            "Threshold 0.6\n"
          ]
        },
        {
          "name": "stderr",
          "output_type": "stream",
          "text": [
            "\r  0%|          | 0/60 [00:00<?, ?it/s]"
          ]
        },
        {
          "name": "stdout",
          "output_type": "stream",
          "text": [
            "_Image_11L_0\n",
            "(320, 320, 1) 0.99993527 0.00010344482\n",
            "(320, 320, 3) (320, 320) (320, 320)\n"
          ]
        },
        {
          "name": "stderr",
          "output_type": "stream",
          "text": [
            "\r  2%|▏         | 1/60 [00:00<00:13,  4.46it/s]"
          ]
        },
        {
          "name": "stdout",
          "output_type": "stream",
          "text": [
            "_Image_11L_1\n",
            "(320, 320, 1) 0.99999785 0.00011931665\n",
            "(320, 320, 3) (320, 320) (320, 320)\n"
          ]
        },
        {
          "name": "stderr",
          "output_type": "stream",
          "text": [
            "\r  3%|▎         | 2/60 [00:00<00:13,  4.18it/s]"
          ]
        },
        {
          "name": "stdout",
          "output_type": "stream",
          "text": [
            "_Image_11L_10\n",
            "(320, 320, 1) 0.99999905 7.960387e-06\n",
            "(320, 320, 3) (320, 320) (320, 320)\n"
          ]
        },
        {
          "name": "stderr",
          "output_type": "stream",
          "text": [
            "\r  5%|▌         | 3/60 [00:00<00:13,  4.09it/s]"
          ]
        },
        {
          "name": "stdout",
          "output_type": "stream",
          "text": [
            "_Image_11L_11\n"
          ]
        },
        {
          "name": "stderr",
          "output_type": "stream",
          "text": [
            "/usr/local/lib/python3.7/dist-packages/sklearn/metrics/_classification.py:1318: UndefinedMetricWarning: Recall is ill-defined and being set to 0.0 due to no true samples. Use `zero_division` parameter to control this behavior.\n",
            "  _warn_prf(average, modifier, msg_start, len(result))\n",
            "\r  7%|▋         | 4/60 [00:00<00:12,  4.43it/s]"
          ]
        },
        {
          "name": "stdout",
          "output_type": "stream",
          "text": [
            "(320, 320, 1) 0.8116376 0.00023389373\n",
            "(320, 320, 3) (320, 320) (320, 320)\n",
            "_Image_11L_2\n"
          ]
        },
        {
          "name": "stderr",
          "output_type": "stream",
          "text": [
            "\r  8%|▊         | 5/60 [00:01<00:12,  4.35it/s]"
          ]
        },
        {
          "name": "stdout",
          "output_type": "stream",
          "text": [
            "(320, 320, 1) 0.99999917 9.771987e-05\n",
            "(320, 320, 3) (320, 320) (320, 320)\n",
            "_Image_11L_3\n"
          ]
        },
        {
          "name": "stderr",
          "output_type": "stream",
          "text": [
            "/usr/local/lib/python3.7/dist-packages/sklearn/metrics/_classification.py:1318: UndefinedMetricWarning: Precision is ill-defined and being set to 0.0 due to no predicted samples. Use `zero_division` parameter to control this behavior.\n",
            "  _warn_prf(average, modifier, msg_start, len(result))\n",
            " 10%|█         | 6/60 [00:01<00:12,  4.37it/s]"
          ]
        },
        {
          "name": "stdout",
          "output_type": "stream",
          "text": [
            "(320, 320, 1) 0.015031816 0.00017685555\n",
            "(320, 320, 3) (320, 320) (320, 320)\n",
            "_Image_11L_4\n"
          ]
        },
        {
          "name": "stderr",
          "output_type": "stream",
          "text": [
            "\r 12%|█▏        | 7/60 [00:01<00:12,  4.37it/s]"
          ]
        },
        {
          "name": "stdout",
          "output_type": "stream",
          "text": [
            "(320, 320, 1) 0.9998801 9.933671e-05\n",
            "(320, 320, 3) (320, 320) (320, 320)\n",
            "_Image_11L_5\n"
          ]
        },
        {
          "name": "stderr",
          "output_type": "stream",
          "text": [
            "\r 13%|█▎        | 8/60 [00:01<00:12,  4.30it/s]"
          ]
        },
        {
          "name": "stdout",
          "output_type": "stream",
          "text": [
            "(320, 320, 1) 0.9999993 0.00011996625\n",
            "(320, 320, 3) (320, 320) (320, 320)\n",
            "_Image_11L_6\n"
          ]
        },
        {
          "name": "stderr",
          "output_type": "stream",
          "text": [
            "\r 15%|█▌        | 9/60 [00:02<00:11,  4.27it/s]"
          ]
        },
        {
          "name": "stdout",
          "output_type": "stream",
          "text": [
            "(320, 320, 1) 0.9999999 1.3241411e-06\n",
            "(320, 320, 3) (320, 320) (320, 320)\n",
            "_Image_11L_7\n"
          ]
        },
        {
          "name": "stderr",
          "output_type": "stream",
          "text": [
            "\r 17%|█▋        | 10/60 [00:02<00:11,  4.29it/s]"
          ]
        },
        {
          "name": "stdout",
          "output_type": "stream",
          "text": [
            "(320, 320, 1) 0.999539 0.00014699604\n",
            "(320, 320, 3) (320, 320) (320, 320)\n",
            "_Image_11L_8\n"
          ]
        },
        {
          "name": "stderr",
          "output_type": "stream",
          "text": [
            "\r 18%|█▊        | 11/60 [00:02<00:11,  4.31it/s]"
          ]
        },
        {
          "name": "stdout",
          "output_type": "stream",
          "text": [
            "(320, 320, 1) 0.9999634 0.0002086689\n",
            "(320, 320, 3) (320, 320) (320, 320)\n",
            "_Image_11L_9\n"
          ]
        },
        {
          "name": "stderr",
          "output_type": "stream",
          "text": [
            "\r 20%|██        | 12/60 [00:02<00:11,  4.27it/s]"
          ]
        },
        {
          "name": "stdout",
          "output_type": "stream",
          "text": [
            "(320, 320, 1) 0.9999945 7.13289e-05\n",
            "(320, 320, 3) (320, 320) (320, 320)\n",
            "_Image_11R_0\n"
          ]
        },
        {
          "name": "stderr",
          "output_type": "stream",
          "text": [
            "/usr/local/lib/python3.7/dist-packages/sklearn/metrics/_classification.py:1318: UndefinedMetricWarning: Precision is ill-defined and being set to 0.0 due to no predicted samples. Use `zero_division` parameter to control this behavior.\n",
            "  _warn_prf(average, modifier, msg_start, len(result))\n",
            "\r 22%|██▏       | 13/60 [00:03<00:11,  4.25it/s]"
          ]
        },
        {
          "name": "stdout",
          "output_type": "stream",
          "text": [
            "(320, 320, 1) 0.02177827 0.00012468618\n",
            "(320, 320, 3) (320, 320) (320, 320)\n",
            "_Image_11R_1\n"
          ]
        },
        {
          "name": "stderr",
          "output_type": "stream",
          "text": [
            "\r 23%|██▎       | 14/60 [00:03<00:10,  4.26it/s]"
          ]
        },
        {
          "name": "stdout",
          "output_type": "stream",
          "text": [
            "(320, 320, 1) 0.99998105 0.00015746735\n",
            "(320, 320, 3) (320, 320) (320, 320)\n",
            "_Image_11R_10\n"
          ]
        },
        {
          "name": "stderr",
          "output_type": "stream",
          "text": [
            "\r 25%|██▌       | 15/60 [00:03<00:10,  4.17it/s]"
          ]
        },
        {
          "name": "stdout",
          "output_type": "stream",
          "text": [
            "(320, 320, 1) 0.99999535 9.606045e-05\n",
            "(320, 320, 3) (320, 320) (320, 320)\n",
            "_Image_11R_11\n"
          ]
        },
        {
          "name": "stderr",
          "output_type": "stream",
          "text": [
            "\r 27%|██▋       | 16/60 [00:03<00:10,  4.23it/s]"
          ]
        },
        {
          "name": "stdout",
          "output_type": "stream",
          "text": [
            "(320, 320, 1) 0.99996364 0.00029699728\n",
            "(320, 320, 3) (320, 320) (320, 320)\n",
            "_Image_11R_2\n"
          ]
        },
        {
          "name": "stderr",
          "output_type": "stream",
          "text": [
            "\r 28%|██▊       | 17/60 [00:03<00:10,  4.23it/s]"
          ]
        },
        {
          "name": "stdout",
          "output_type": "stream",
          "text": [
            "(320, 320, 1) 0.99999034 0.00016155673\n",
            "(320, 320, 3) (320, 320) (320, 320)\n",
            "_Image_11R_3\n"
          ]
        },
        {
          "name": "stderr",
          "output_type": "stream",
          "text": [
            "/usr/local/lib/python3.7/dist-packages/sklearn/metrics/_classification.py:1318: UndefinedMetricWarning: Precision is ill-defined and being set to 0.0 due to no predicted samples. Use `zero_division` parameter to control this behavior.\n",
            "  _warn_prf(average, modifier, msg_start, len(result))\n",
            " 30%|███       | 18/60 [00:04<00:09,  4.30it/s]"
          ]
        },
        {
          "name": "stdout",
          "output_type": "stream",
          "text": [
            "(320, 320, 1) 0.008269306 0.00021084464\n",
            "(320, 320, 3) (320, 320) (320, 320)\n",
            "_Image_11R_4\n"
          ]
        },
        {
          "name": "stderr",
          "output_type": "stream",
          "text": [
            "\r 32%|███▏      | 19/60 [00:04<00:09,  4.31it/s]"
          ]
        },
        {
          "name": "stdout",
          "output_type": "stream",
          "text": [
            "(320, 320, 1) 0.99692684 0.00011247419\n",
            "(320, 320, 3) (320, 320) (320, 320)\n",
            "_Image_11R_5\n"
          ]
        },
        {
          "name": "stderr",
          "output_type": "stream",
          "text": [
            "\r 33%|███▎      | 20/60 [00:04<00:09,  4.26it/s]"
          ]
        },
        {
          "name": "stdout",
          "output_type": "stream",
          "text": [
            "(320, 320, 1) 0.9999993 1.5175661e-09\n",
            "(320, 320, 3) (320, 320) (320, 320)\n",
            "_Image_11R_6\n"
          ]
        },
        {
          "name": "stderr",
          "output_type": "stream",
          "text": [
            "\r 35%|███▌      | 21/60 [00:04<00:09,  4.24it/s]"
          ]
        },
        {
          "name": "stdout",
          "output_type": "stream",
          "text": [
            "(320, 320, 1) 0.99999976 2.3380774e-07\n",
            "(320, 320, 3) (320, 320) (320, 320)\n",
            "_Image_11R_7\n"
          ]
        },
        {
          "name": "stderr",
          "output_type": "stream",
          "text": [
            "\r 37%|███▋      | 22/60 [00:05<00:08,  4.29it/s]"
          ]
        },
        {
          "name": "stdout",
          "output_type": "stream",
          "text": [
            "(320, 320, 1) 0.9999542 0.000217873\n",
            "(320, 320, 3) (320, 320) (320, 320)\n",
            "_Image_11R_8\n"
          ]
        },
        {
          "name": "stderr",
          "output_type": "stream",
          "text": [
            "/usr/local/lib/python3.7/dist-packages/sklearn/metrics/_classification.py:1318: UndefinedMetricWarning: Precision is ill-defined and being set to 0.0 due to no predicted samples. Use `zero_division` parameter to control this behavior.\n",
            "  _warn_prf(average, modifier, msg_start, len(result))\n",
            " 38%|███▊      | 23/60 [00:05<00:08,  4.30it/s]"
          ]
        },
        {
          "name": "stdout",
          "output_type": "stream",
          "text": [
            "(320, 320, 1) 0.035468146 0.00018145544\n",
            "(320, 320, 3) (320, 320) (320, 320)\n",
            "_Image_11R_9\n"
          ]
        },
        {
          "name": "stderr",
          "output_type": "stream",
          "text": [
            "\r 40%|████      | 24/60 [00:05<00:08,  4.27it/s]"
          ]
        },
        {
          "name": "stdout",
          "output_type": "stream",
          "text": [
            "(320, 320, 1) 0.9999962 0.00010741817\n",
            "(320, 320, 3) (320, 320) (320, 320)\n",
            "_Image_12L_0\n"
          ]
        },
        {
          "name": "stderr",
          "output_type": "stream",
          "text": [
            "/usr/local/lib/python3.7/dist-packages/sklearn/metrics/_classification.py:1318: UndefinedMetricWarning: Precision is ill-defined and being set to 0.0 due to no predicted samples. Use `zero_division` parameter to control this behavior.\n",
            "  _warn_prf(average, modifier, msg_start, len(result))\n",
            " 42%|████▏     | 25/60 [00:05<00:08,  4.34it/s]"
          ]
        },
        {
          "name": "stdout",
          "output_type": "stream",
          "text": [
            "(320, 320, 1) 0.021033855 9.995509e-05\n",
            "(320, 320, 3) (320, 320) (320, 320)\n",
            "_Image_12L_1\n"
          ]
        },
        {
          "name": "stderr",
          "output_type": "stream",
          "text": [
            "\r 43%|████▎     | 26/60 [00:06<00:07,  4.37it/s]"
          ]
        },
        {
          "name": "stdout",
          "output_type": "stream",
          "text": [
            "(320, 320, 1) 0.9999654 8.8179804e-05\n",
            "(320, 320, 3) (320, 320) (320, 320)\n",
            "_Image_12L_10\n"
          ]
        },
        {
          "name": "stderr",
          "output_type": "stream",
          "text": [
            "\r 45%|████▌     | 27/60 [00:06<00:07,  4.38it/s]"
          ]
        },
        {
          "name": "stdout",
          "output_type": "stream",
          "text": [
            "(320, 320, 1) 0.99999976 0.00014605813\n",
            "(320, 320, 3) (320, 320) (320, 320)\n",
            "_Image_12L_11\n"
          ]
        },
        {
          "name": "stderr",
          "output_type": "stream",
          "text": [
            "\r 47%|████▋     | 28/60 [00:06<00:07,  4.43it/s]"
          ]
        },
        {
          "name": "stdout",
          "output_type": "stream",
          "text": [
            "(320, 320, 1) 0.99997497 0.00018434532\n",
            "(320, 320, 3) (320, 320) (320, 320)\n",
            "_Image_12L_2\n"
          ]
        },
        {
          "name": "stderr",
          "output_type": "stream",
          "text": [
            "\r 48%|████▊     | 29/60 [00:06<00:07,  4.38it/s]"
          ]
        },
        {
          "name": "stdout",
          "output_type": "stream",
          "text": [
            "(320, 320, 1) 0.99999535 0.00010454308\n",
            "(320, 320, 3) (320, 320) (320, 320)\n",
            "_Image_12L_3\n"
          ]
        },
        {
          "name": "stderr",
          "output_type": "stream",
          "text": [
            "\r 50%|█████     | 30/60 [00:06<00:06,  4.42it/s]"
          ]
        },
        {
          "name": "stdout",
          "output_type": "stream",
          "text": [
            "(320, 320, 1) 0.9997464 0.00017656591\n",
            "(320, 320, 3) (320, 320) (320, 320)\n",
            "_Image_12L_4\n"
          ]
        },
        {
          "name": "stderr",
          "output_type": "stream",
          "text": [
            "\r 52%|█████▏    | 31/60 [00:07<00:06,  4.43it/s]"
          ]
        },
        {
          "name": "stdout",
          "output_type": "stream",
          "text": [
            "(320, 320, 1) 0.99993813 8.667817e-05\n",
            "(320, 320, 3) (320, 320) (320, 320)\n",
            "_Image_12L_5\n"
          ]
        },
        {
          "name": "stderr",
          "output_type": "stream",
          "text": [
            "\r 53%|█████▎    | 32/60 [00:07<00:06,  4.35it/s]"
          ]
        },
        {
          "name": "stdout",
          "output_type": "stream",
          "text": [
            "(320, 320, 1) 0.9999995 0.00029274196\n",
            "(320, 320, 3) (320, 320) (320, 320)\n",
            "_Image_12L_6\n"
          ]
        },
        {
          "name": "stderr",
          "output_type": "stream",
          "text": [
            "\r 55%|█████▌    | 33/60 [00:07<00:06,  4.30it/s]"
          ]
        },
        {
          "name": "stdout",
          "output_type": "stream",
          "text": [
            "(320, 320, 1) 0.99999917 2.0195186e-09\n",
            "(320, 320, 3) (320, 320) (320, 320)\n",
            "_Image_12L_7\n"
          ]
        },
        {
          "name": "stderr",
          "output_type": "stream",
          "text": [
            "\r 57%|█████▋    | 34/60 [00:07<00:06,  4.30it/s]"
          ]
        },
        {
          "name": "stdout",
          "output_type": "stream",
          "text": [
            "(320, 320, 1) 0.9856656 0.00015928417\n",
            "(320, 320, 3) (320, 320) (320, 320)\n",
            "_Image_12L_8\n"
          ]
        },
        {
          "name": "stderr",
          "output_type": "stream",
          "text": [
            "\r 58%|█████▊    | 35/60 [00:08<00:05,  4.37it/s]"
          ]
        },
        {
          "name": "stdout",
          "output_type": "stream",
          "text": [
            "(320, 320, 1) 0.99995613 0.00012775406\n",
            "(320, 320, 3) (320, 320) (320, 320)\n",
            "_Image_12L_9\n"
          ]
        },
        {
          "name": "stderr",
          "output_type": "stream",
          "text": [
            "\r 60%|██████    | 36/60 [00:08<00:05,  4.36it/s]"
          ]
        },
        {
          "name": "stdout",
          "output_type": "stream",
          "text": [
            "(320, 320, 1) 0.9999988 0.0001288914\n",
            "(320, 320, 3) (320, 320) (320, 320)\n",
            "_Image_12R_0\n"
          ]
        },
        {
          "name": "stderr",
          "output_type": "stream",
          "text": [
            "\r 62%|██████▏   | 37/60 [00:08<00:05,  4.42it/s]"
          ]
        },
        {
          "name": "stdout",
          "output_type": "stream",
          "text": [
            "(320, 320, 1) 0.9999933 0.00016521283\n",
            "(320, 320, 3) (320, 320) (320, 320)\n",
            "_Image_12R_1\n"
          ]
        },
        {
          "name": "stderr",
          "output_type": "stream",
          "text": [
            "\r 63%|██████▎   | 38/60 [00:08<00:04,  4.42it/s]"
          ]
        },
        {
          "name": "stdout",
          "output_type": "stream",
          "text": [
            "(320, 320, 1) 0.9999958 0.00016794313\n",
            "(320, 320, 3) (320, 320) (320, 320)\n",
            "_Image_12R_10\n"
          ]
        },
        {
          "name": "stderr",
          "output_type": "stream",
          "text": [
            "\r 65%|██████▌   | 39/60 [00:09<00:04,  4.40it/s]"
          ]
        },
        {
          "name": "stdout",
          "output_type": "stream",
          "text": [
            "(320, 320, 1) 0.99999774 0.00023726422\n",
            "(320, 320, 3) (320, 320) (320, 320)\n",
            "_Image_12R_11\n"
          ]
        },
        {
          "name": "stderr",
          "output_type": "stream",
          "text": [
            "\r 67%|██████▋   | 40/60 [00:09<00:04,  4.43it/s]"
          ]
        },
        {
          "name": "stdout",
          "output_type": "stream",
          "text": [
            "(320, 320, 1) 0.9999727 0.00022784749\n",
            "(320, 320, 3) (320, 320) (320, 320)\n",
            "_Image_12R_2\n"
          ]
        },
        {
          "name": "stderr",
          "output_type": "stream",
          "text": [
            "\r 68%|██████▊   | 41/60 [00:09<00:04,  4.33it/s]"
          ]
        },
        {
          "name": "stdout",
          "output_type": "stream",
          "text": [
            "(320, 320, 1) 0.99999666 0.00012832558\n",
            "(320, 320, 3) (320, 320) (320, 320)\n",
            "_Image_12R_3\n"
          ]
        },
        {
          "name": "stderr",
          "output_type": "stream",
          "text": [
            "\r 70%|███████   | 42/60 [00:09<00:04,  4.36it/s]"
          ]
        },
        {
          "name": "stdout",
          "output_type": "stream",
          "text": [
            "(320, 320, 1) 0.99982077 0.00015313615\n",
            "(320, 320, 3) (320, 320) (320, 320)\n",
            "_Image_12R_4\n"
          ]
        },
        {
          "name": "stderr",
          "output_type": "stream",
          "text": [
            "\r 72%|███████▏  | 43/60 [00:09<00:03,  4.38it/s]"
          ]
        },
        {
          "name": "stdout",
          "output_type": "stream",
          "text": [
            "(320, 320, 1) 0.99954224 0.00016508024\n",
            "(320, 320, 3) (320, 320) (320, 320)\n",
            "_Image_12R_5\n"
          ]
        },
        {
          "name": "stderr",
          "output_type": "stream",
          "text": [
            "\r 73%|███████▎  | 44/60 [00:10<00:03,  4.34it/s]"
          ]
        },
        {
          "name": "stdout",
          "output_type": "stream",
          "text": [
            "(320, 320, 1) 0.9999993 1.4621819e-09\n",
            "(320, 320, 3) (320, 320) (320, 320)\n",
            "_Image_12R_6\n"
          ]
        },
        {
          "name": "stderr",
          "output_type": "stream",
          "text": [
            "\r 75%|███████▌  | 45/60 [00:10<00:03,  4.25it/s]"
          ]
        },
        {
          "name": "stdout",
          "output_type": "stream",
          "text": [
            "(320, 320, 1) 0.99999785 7.8351244e-05\n",
            "(320, 320, 3) (320, 320) (320, 320)\n",
            "_Image_12R_7\n"
          ]
        },
        {
          "name": "stderr",
          "output_type": "stream",
          "text": [
            "\r 77%|███████▋  | 46/60 [00:10<00:03,  4.29it/s]"
          ]
        },
        {
          "name": "stdout",
          "output_type": "stream",
          "text": [
            "(320, 320, 1) 0.9999769 0.00018061206\n",
            "(320, 320, 3) (320, 320) (320, 320)\n",
            "_Image_12R_8\n"
          ]
        },
        {
          "name": "stderr",
          "output_type": "stream",
          "text": [
            "\r 78%|███████▊  | 47/60 [00:10<00:03,  4.33it/s]"
          ]
        },
        {
          "name": "stdout",
          "output_type": "stream",
          "text": [
            "(320, 320, 1) 0.99384016 0.00022399524\n",
            "(320, 320, 3) (320, 320) (320, 320)\n",
            "_Image_12R_9\n"
          ]
        },
        {
          "name": "stderr",
          "output_type": "stream",
          "text": [
            "\r 80%|████████  | 48/60 [00:11<00:02,  4.29it/s]"
          ]
        },
        {
          "name": "stdout",
          "output_type": "stream",
          "text": [
            "(320, 320, 1) 0.9999975 8.822498e-05\n",
            "(320, 320, 3) (320, 320) (320, 320)\n",
            "_Image_13L_0\n"
          ]
        },
        {
          "name": "stderr",
          "output_type": "stream",
          "text": [
            "\r 82%|████████▏ | 49/60 [00:11<00:02,  4.33it/s]"
          ]
        },
        {
          "name": "stdout",
          "output_type": "stream",
          "text": [
            "(320, 320, 1) 0.9995529 0.00020587584\n",
            "(320, 320, 3) (320, 320) (320, 320)\n",
            "_Image_13L_1\n"
          ]
        },
        {
          "name": "stderr",
          "output_type": "stream",
          "text": [
            "\r 83%|████████▎ | 50/60 [00:11<00:02,  4.25it/s]"
          ]
        },
        {
          "name": "stdout",
          "output_type": "stream",
          "text": [
            "(320, 320, 1) 0.9999757 0.00012706035\n",
            "(320, 320, 3) (320, 320) (320, 320)\n",
            "_Image_13L_10\n"
          ]
        },
        {
          "name": "stderr",
          "output_type": "stream",
          "text": [
            "\r 85%|████████▌ | 51/60 [00:11<00:02,  4.26it/s]"
          ]
        },
        {
          "name": "stdout",
          "output_type": "stream",
          "text": [
            "(320, 320, 1) 0.99992824 0.00011014774\n",
            "(320, 320, 3) (320, 320) (320, 320)\n",
            "_Image_13L_11\n"
          ]
        },
        {
          "name": "stderr",
          "output_type": "stream",
          "text": [
            "/usr/local/lib/python3.7/dist-packages/sklearn/metrics/_classification.py:1318: UndefinedMetricWarning: Precision is ill-defined and being set to 0.0 due to no predicted samples. Use `zero_division` parameter to control this behavior.\n",
            "  _warn_prf(average, modifier, msg_start, len(result))\n",
            " 87%|████████▋ | 52/60 [00:12<00:01,  4.31it/s]"
          ]
        },
        {
          "name": "stdout",
          "output_type": "stream",
          "text": [
            "(320, 320, 1) 0.0038569134 8.8743225e-05\n",
            "(320, 320, 3) (320, 320) (320, 320)\n",
            "_Image_13L_2\n"
          ]
        },
        {
          "name": "stderr",
          "output_type": "stream",
          "text": [
            "\r 88%|████████▊ | 53/60 [00:12<00:01,  4.31it/s]"
          ]
        },
        {
          "name": "stdout",
          "output_type": "stream",
          "text": [
            "(320, 320, 1) 0.99999297 8.658531e-05\n",
            "(320, 320, 3) (320, 320) (320, 320)\n",
            "_Image_13L_3\n"
          ]
        },
        {
          "name": "stderr",
          "output_type": "stream",
          "text": [
            "/usr/local/lib/python3.7/dist-packages/sklearn/metrics/_classification.py:1318: UndefinedMetricWarning: Precision is ill-defined and being set to 0.0 due to no predicted samples. Use `zero_division` parameter to control this behavior.\n",
            "  _warn_prf(average, modifier, msg_start, len(result))\n",
            " 90%|█████████ | 54/60 [00:12<00:01,  4.29it/s]"
          ]
        },
        {
          "name": "stdout",
          "output_type": "stream",
          "text": [
            "(320, 320, 1) 0.0038569134 5.725056e-05\n",
            "(320, 320, 3) (320, 320) (320, 320)\n",
            "_Image_13L_4\n"
          ]
        },
        {
          "name": "stderr",
          "output_type": "stream",
          "text": [
            "\r 92%|█████████▏| 55/60 [00:12<00:01,  4.34it/s]"
          ]
        },
        {
          "name": "stdout",
          "output_type": "stream",
          "text": [
            "(320, 320, 1) 0.9990688 0.00016591945\n",
            "(320, 320, 3) (320, 320) (320, 320)\n",
            "_Image_13L_5\n"
          ]
        },
        {
          "name": "stderr",
          "output_type": "stream",
          "text": [
            "\r 93%|█████████▎| 56/60 [00:12<00:00,  4.33it/s]"
          ]
        },
        {
          "name": "stdout",
          "output_type": "stream",
          "text": [
            "(320, 320, 1) 0.9999628 4.2272404e-05\n",
            "(320, 320, 3) (320, 320) (320, 320)\n",
            "_Image_13L_6\n"
          ]
        },
        {
          "name": "stderr",
          "output_type": "stream",
          "text": [
            "\r 95%|█████████▌| 57/60 [00:13<00:00,  4.30it/s]"
          ]
        },
        {
          "name": "stdout",
          "output_type": "stream",
          "text": [
            "(320, 320, 1) 0.9999981 4.8363487e-05\n",
            "(320, 320, 3) (320, 320) (320, 320)\n",
            "_Image_13L_7\n"
          ]
        },
        {
          "name": "stderr",
          "output_type": "stream",
          "text": [
            "/usr/local/lib/python3.7/dist-packages/sklearn/metrics/_classification.py:1318: UndefinedMetricWarning: Precision is ill-defined and being set to 0.0 due to no predicted samples. Use `zero_division` parameter to control this behavior.\n",
            "  _warn_prf(average, modifier, msg_start, len(result))\n",
            " 97%|█████████▋| 58/60 [00:13<00:00,  4.30it/s]"
          ]
        },
        {
          "name": "stdout",
          "output_type": "stream",
          "text": [
            "(320, 320, 1) 0.004038551 8.740951e-05\n",
            "(320, 320, 3) (320, 320) (320, 320)\n",
            "_Image_13L_8\n"
          ]
        },
        {
          "name": "stderr",
          "output_type": "stream",
          "text": [
            "/usr/local/lib/python3.7/dist-packages/sklearn/metrics/_classification.py:1318: UndefinedMetricWarning: Precision is ill-defined and being set to 0.0 due to no predicted samples. Use `zero_division` parameter to control this behavior.\n",
            "  _warn_prf(average, modifier, msg_start, len(result))\n",
            "\r 98%|█████████▊| 59/60 [00:13<00:00,  4.26it/s]"
          ]
        },
        {
          "name": "stdout",
          "output_type": "stream",
          "text": [
            "(320, 320, 1) 0.019594258 0.00012984015\n",
            "(320, 320, 3) (320, 320) (320, 320)\n",
            "_Image_13L_9\n"
          ]
        },
        {
          "name": "stderr",
          "output_type": "stream",
          "text": [
            "100%|██████████| 60/60 [00:13<00:00,  4.31it/s]"
          ]
        },
        {
          "name": "stdout",
          "output_type": "stream",
          "text": [
            "(320, 320, 1) 0.9999931 8.899373e-05\n",
            "(320, 320, 3) (320, 320) (320, 320)\n",
            "Threshold: 0.60000\n",
            "Accuracy: 0.97991\n",
            "F1: 0.60224\n",
            "Jaccard: 0.48593\n",
            "Recall: 0.57520\n",
            "Precision: 0.65840\n",
            "AUC: 0.92869\n",
            "Dice Coeff: 0.59067\n"
          ]
        },
        {
          "name": "stderr",
          "output_type": "stream",
          "text": [
            "\n"
          ]
        }
      ],
      "source": [
        "dataset_path = f\"{root_path}/{split_name}/{split}/\"\n",
        "df_0_6, score_0_6 = compute_metrics(dataset_path,\n",
        "                    results_path=results_path,\n",
        "                    threshold=0.6,\n",
        "                    model=model,\n",
        "                    predictions_path=prediction_path,\n",
        "                    prediction_np_path=prediction_np_path)"
      ]
    },
    {
      "cell_type": "code",
      "execution_count": null,
      "metadata": {
        "colab": {
          "background_save": true
        },
        "id": "braGlLM9Wgr9",
        "outputId": "028d64f5-2923-4610-a483-859c09a2b70a"
      },
      "outputs": [
        {
          "data": {
            "application/vnd.google.colaboratory.intrinsic+json": {
              "type": "string"
            },
            "text/plain": [
              "'/content/datasets/chase_db_320_320_dice_bce_0_4__hvr_0_4_1//results_reconstructed/'"
            ]
          },
          "execution_count": null,
          "metadata": {},
          "output_type": "execute_result"
        }
      ],
      "source": [
        "results_path_reconstructed"
      ]
    },
    {
      "cell_type": "code",
      "execution_count": null,
      "metadata": {
        "colab": {
          "background_save": true
        },
        "id": "ATVyvynpSGYQ",
        "outputId": "c9a61818-18e5-4ceb-f10a-37a0489f71e5"
      },
      "outputs": [
        {
          "name": "stdout",
          "output_type": "stream",
          "text": [
            "chase_db_320_320_dice_bce_0_4__hvr_0_4_1  logs\n"
          ]
        }
      ],
      "source": [
        "!ls "
      ]
    },
    {
      "cell_type": "code",
      "execution_count": null,
      "metadata": {
        "colab": {
          "background_save": true
        },
        "id": "NwV0hgRzjBbR",
        "outputId": "e02995ad-5b0d-41e7-c95a-ee4dd9635937"
      },
      "outputs": [
        {
          "name": "stdout",
          "output_type": "stream",
          "text": [
            "chase_db_320_320_dice_bce_0_4__hvr_0_4_1\n"
          ]
        }
      ],
      "source": [
        "folder_name = root_path.split(\"/\")[3]\n",
        "print(folder_name)"
      ]
    },
    {
      "cell_type": "code",
      "execution_count": null,
      "metadata": {
        "colab": {
          "background_save": true
        },
        "id": "tGxzllboKasD",
        "outputId": "ffa10aab-3c46-4d59-a934-a992b8716101"
      },
      "outputs": [
        {
          "name": "stdout",
          "output_type": "stream",
          "text": [
            "  adding: chase_db_320_320_dice_bce_0_4__hvr_0_4_1/ (stored 0%)\n",
            "  adding: chase_db_320_320_dice_bce_0_4__hvr_0_4_1/test/ (stored 0%)\n",
            "  adding: chase_db_320_320_dice_bce_0_4__hvr_0_4_1/test/1st_manual/ (stored 0%)\n",
            "  adding: chase_db_320_320_dice_bce_0_4__hvr_0_4_1/test/1st_manual/Image_13L_1stHO.png (deflated 0%)\n",
            "  adding: chase_db_320_320_dice_bce_0_4__hvr_0_4_1/test/1st_manual/Image_12L_1stHO.png (deflated 0%)\n",
            "  adding: chase_db_320_320_dice_bce_0_4__hvr_0_4_1/test/1st_manual/Image_12R_1stHO.png (deflated 0%)\n",
            "  adding: chase_db_320_320_dice_bce_0_4__hvr_0_4_1/test/1st_manual/Image_11R_1stHO.png (deflated 0%)\n",
            "  adding: chase_db_320_320_dice_bce_0_4__hvr_0_4_1/test/1st_manual/Image_11L_1stHO.png (deflated 0%)\n",
            "  adding: chase_db_320_320_dice_bce_0_4__hvr_0_4_1/test/images/ (stored 0%)\n",
            "  adding: chase_db_320_320_dice_bce_0_4__hvr_0_4_1/test/images/Image_12L.jpg (deflated 7%)\n",
            "  adding: chase_db_320_320_dice_bce_0_4__hvr_0_4_1/test/images/Image_11R.jpg (deflated 7%)\n",
            "  adding: chase_db_320_320_dice_bce_0_4__hvr_0_4_1/test/images/Image_12R.jpg (deflated 6%)\n",
            "  adding: chase_db_320_320_dice_bce_0_4__hvr_0_4_1/test/images/Image_11L.jpg (deflated 6%)\n",
            "  adding: chase_db_320_320_dice_bce_0_4__hvr_0_4_1/test/images/Image_13L.jpg (deflated 8%)\n",
            "  adding: chase_db_320_320_dice_bce_0_4__hvr_0_4_1/training/ (stored 0%)\n",
            "  adding: chase_db_320_320_dice_bce_0_4__hvr_0_4_1/training/1st_manual/ (stored 0%)\n",
            "  adding: chase_db_320_320_dice_bce_0_4__hvr_0_4_1/training/1st_manual/Image_04L_1stHO.png (deflated 0%)\n",
            "  adding: chase_db_320_320_dice_bce_0_4__hvr_0_4_1/training/1st_manual/Image_09L_1stHO.png (deflated 0%)\n",
            "  adding: chase_db_320_320_dice_bce_0_4__hvr_0_4_1/training/1st_manual/Image_04R_1stHO.png (deflated 0%)\n",
            "  adding: chase_db_320_320_dice_bce_0_4__hvr_0_4_1/training/1st_manual/Image_09R_1stHO.png (deflated 0%)\n",
            "  adding: chase_db_320_320_dice_bce_0_4__hvr_0_4_1/training/1st_manual/Image_05R_1stHO.png (deflated 0%)\n",
            "  adding: chase_db_320_320_dice_bce_0_4__hvr_0_4_1/training/1st_manual/Image_05L_1stHO.png (deflated 0%)\n",
            "  adding: chase_db_320_320_dice_bce_0_4__hvr_0_4_1/training/1st_manual/Image_10R_1stHO.png (deflated 0%)\n",
            "  adding: chase_db_320_320_dice_bce_0_4__hvr_0_4_1/training/1st_manual/Image_07R_1stHO.png (deflated 0%)\n",
            "  adding: chase_db_320_320_dice_bce_0_4__hvr_0_4_1/training/1st_manual/Image_07L_1stHO.png (deflated 0%)\n",
            "  adding: chase_db_320_320_dice_bce_0_4__hvr_0_4_1/training/1st_manual/Image_06R_1stHO.png (deflated 0%)\n",
            "  adding: chase_db_320_320_dice_bce_0_4__hvr_0_4_1/training/1st_manual/Image_03L_1stHO.png (deflated 0%)\n",
            "  adding: chase_db_320_320_dice_bce_0_4__hvr_0_4_1/training/1st_manual/Image_14R_1stHO.png (deflated 0%)\n",
            "  adding: chase_db_320_320_dice_bce_0_4__hvr_0_4_1/training/1st_manual/Image_01L_1stHO.png (deflated 0%)\n",
            "  adding: chase_db_320_320_dice_bce_0_4__hvr_0_4_1/training/1st_manual/Image_06L_1stHO.png (deflated 0%)\n",
            "  adding: chase_db_320_320_dice_bce_0_4__hvr_0_4_1/training/1st_manual/Image_10L_1stHO.png (deflated 0%)\n",
            "  adding: chase_db_320_320_dice_bce_0_4__hvr_0_4_1/training/1st_manual/Image_08L_1stHO.png (deflated 0%)\n",
            "  adding: chase_db_320_320_dice_bce_0_4__hvr_0_4_1/training/1st_manual/Image_14L_1stHO.png (stored 0%)\n",
            "  adding: chase_db_320_320_dice_bce_0_4__hvr_0_4_1/training/1st_manual/Image_08R_1stHO.png (deflated 0%)\n",
            "  adding: chase_db_320_320_dice_bce_0_4__hvr_0_4_1/training/1st_manual/Image_01R_1stHO.png (deflated 0%)\n",
            "  adding: chase_db_320_320_dice_bce_0_4__hvr_0_4_1/training/1st_manual/Image_03R_1stHO.png (deflated 0%)\n",
            "  adding: chase_db_320_320_dice_bce_0_4__hvr_0_4_1/training/1st_manual/Image_02L_1stHO.png (deflated 0%)\n",
            "  adding: chase_db_320_320_dice_bce_0_4__hvr_0_4_1/training/1st_manual/Image_02R_1stHO.png (deflated 0%)\n",
            "  adding: chase_db_320_320_dice_bce_0_4__hvr_0_4_1/training/1st_manual/Image_13R_1stHO.png (deflated 0%)\n",
            "  adding: chase_db_320_320_dice_bce_0_4__hvr_0_4_1/training/images/ (stored 0%)\n",
            "  adding: chase_db_320_320_dice_bce_0_4__hvr_0_4_1/training/images/Image_02L.jpg (deflated 6%)\n",
            "  adding: chase_db_320_320_dice_bce_0_4__hvr_0_4_1/training/images/Image_06R.jpg (deflated 7%)\n",
            "  adding: chase_db_320_320_dice_bce_0_4__hvr_0_4_1/training/images/Image_03R.jpg (deflated 6%)\n",
            "  adding: chase_db_320_320_dice_bce_0_4__hvr_0_4_1/training/images/Image_07R.jpg (deflated 6%)\n",
            "  adding: chase_db_320_320_dice_bce_0_4__hvr_0_4_1/training/images/Image_10R.jpg (deflated 6%)\n",
            "  adding: chase_db_320_320_dice_bce_0_4__hvr_0_4_1/training/images/Image_05L.jpg (deflated 6%)\n",
            "  adding: chase_db_320_320_dice_bce_0_4__hvr_0_4_1/training/images/Image_09R.jpg (deflated 7%)\n",
            "  adding: chase_db_320_320_dice_bce_0_4__hvr_0_4_1/training/images/Image_04R.jpg (deflated 7%)\n",
            "  adding: chase_db_320_320_dice_bce_0_4__hvr_0_4_1/training/images/Image_14R.jpg (deflated 8%)\n",
            "  adding: chase_db_320_320_dice_bce_0_4__hvr_0_4_1/training/images/Image_10L.jpg (deflated 6%)\n",
            "  adding: chase_db_320_320_dice_bce_0_4__hvr_0_4_1/training/images/Image_08L.jpg (deflated 8%)\n",
            "  adding: chase_db_320_320_dice_bce_0_4__hvr_0_4_1/training/images/Image_03L.jpg (deflated 6%)\n",
            "  adding: chase_db_320_320_dice_bce_0_4__hvr_0_4_1/training/images/Image_08R.jpg (deflated 9%)\n",
            "  adding: chase_db_320_320_dice_bce_0_4__hvr_0_4_1/training/images/Image_05R.jpg (deflated 6%)\n",
            "  adding: chase_db_320_320_dice_bce_0_4__hvr_0_4_1/training/images/Image_13R.jpg (deflated 8%)\n",
            "  adding: chase_db_320_320_dice_bce_0_4__hvr_0_4_1/training/images/Image_02R.jpg (deflated 7%)\n",
            "  adding: chase_db_320_320_dice_bce_0_4__hvr_0_4_1/training/images/Image_01L.jpg (deflated 6%)\n",
            "  adding: chase_db_320_320_dice_bce_0_4__hvr_0_4_1/training/images/Image_04L.jpg (deflated 7%)\n",
            "  adding: chase_db_320_320_dice_bce_0_4__hvr_0_4_1/training/images/Image_01R.jpg (deflated 7%)\n",
            "  adding: chase_db_320_320_dice_bce_0_4__hvr_0_4_1/training/images/Image_14L.jpg (deflated 6%)\n",
            "  adding: chase_db_320_320_dice_bce_0_4__hvr_0_4_1/training/images/Image_07L.jpg (deflated 6%)\n",
            "  adding: chase_db_320_320_dice_bce_0_4__hvr_0_4_1/training/images/Image_09L.jpg (deflated 8%)\n",
            "  adding: chase_db_320_320_dice_bce_0_4__hvr_0_4_1/training/images/Image_06L.jpg (deflated 7%)\n",
            "  adding: chase_db_320_320_dice_bce_0_4__hvr_0_4_1/predictions_np/ (stored 0%)\n",
            "  adding: chase_db_320_320_dice_bce_0_4__hvr_0_4_1/predictions_np/_Image_12L_8.npy (deflated 38%)\n",
            "  adding: chase_db_320_320_dice_bce_0_4__hvr_0_4_1/predictions_np/_Image_13L_3.npy (deflated 41%)\n",
            "  adding: chase_db_320_320_dice_bce_0_4__hvr_0_4_1/predictions_np/_Image_12L_3.npy (deflated 40%)\n",
            "  adding: chase_db_320_320_dice_bce_0_4__hvr_0_4_1/predictions_np/_Image_11R_1.npy (deflated 14%)\n",
            "  adding: chase_db_320_320_dice_bce_0_4__hvr_0_4_1/predictions_np/_Image_12L_5.npy (deflated 13%)\n",
            "  adding: chase_db_320_320_dice_bce_0_4__hvr_0_4_1/predictions_np/_Image_12R_10.npy (deflated 13%)\n",
            "  adding: chase_db_320_320_dice_bce_0_4__hvr_0_4_1/predictions_np/_Image_11L_5.npy (deflated 12%)\n",
            "  adding: chase_db_320_320_dice_bce_0_4__hvr_0_4_1/predictions_np/_Image_12L_2.npy (deflated 12%)\n",
            "  adding: chase_db_320_320_dice_bce_0_4__hvr_0_4_1/predictions_np/_Image_13L_0.npy (deflated 38%)\n",
            "  adding: chase_db_320_320_dice_bce_0_4__hvr_0_4_1/predictions_np/_Image_13L_10.npy (deflated 12%)\n",
            "  adding: chase_db_320_320_dice_bce_0_4__hvr_0_4_1/predictions_np/_Image_11R_10.npy (deflated 13%)\n",
            "  adding: chase_db_320_320_dice_bce_0_4__hvr_0_4_1/predictions_np/_Image_13L_2.npy (deflated 12%)\n",
            "  adding: chase_db_320_320_dice_bce_0_4__hvr_0_4_1/predictions_np/_Image_12L_4.npy (deflated 20%)\n",
            "  adding: chase_db_320_320_dice_bce_0_4__hvr_0_4_1/predictions_np/_Image_12R_0.npy (deflated 38%)\n",
            "  adding: chase_db_320_320_dice_bce_0_4__hvr_0_4_1/predictions_np/_Image_13L_4.npy (deflated 21%)\n",
            "  adding: chase_db_320_320_dice_bce_0_4__hvr_0_4_1/predictions_np/_Image_12L_10.npy (deflated 13%)\n",
            "  adding: chase_db_320_320_dice_bce_0_4__hvr_0_4_1/predictions_np/_Image_11L_6.npy (deflated 12%)\n",
            "  adding: chase_db_320_320_dice_bce_0_4__hvr_0_4_1/predictions_np/_Image_11R_4.npy (deflated 22%)\n",
            "  adding: chase_db_320_320_dice_bce_0_4__hvr_0_4_1/predictions_np/_Image_13L_7.npy (deflated 22%)\n",
            "  adding: chase_db_320_320_dice_bce_0_4__hvr_0_4_1/predictions_np/_Image_11L_2.npy (deflated 13%)\n",
            "  adding: chase_db_320_320_dice_bce_0_4__hvr_0_4_1/predictions_np/_Image_11R_0.npy (deflated 38%)\n",
            "  adding: chase_db_320_320_dice_bce_0_4__hvr_0_4_1/predictions_np/_Image_11L_11.npy (deflated 40%)\n",
            "  adding: chase_db_320_320_dice_bce_0_4__hvr_0_4_1/predictions_np/_Image_12R_6.npy (deflated 12%)\n",
            "  adding: chase_db_320_320_dice_bce_0_4__hvr_0_4_1/predictions_np/_Image_12R_2.npy (deflated 13%)\n",
            "  adding: chase_db_320_320_dice_bce_0_4__hvr_0_4_1/predictions_np/_Image_11R_11.npy (deflated 40%)\n",
            "  adding: chase_db_320_320_dice_bce_0_4__hvr_0_4_1/predictions_np/_Image_11R_7.npy (deflated 23%)\n",
            "  adding: chase_db_320_320_dice_bce_0_4__hvr_0_4_1/predictions_np/_Image_13L_6.npy (deflated 11%)\n",
            "  adding: chase_db_320_320_dice_bce_0_4__hvr_0_4_1/predictions_np/_Image_11R_2.npy (deflated 14%)\n",
            "  adding: chase_db_320_320_dice_bce_0_4__hvr_0_4_1/predictions_np/_Image_11L_3.npy (deflated 40%)\n",
            "  adding: chase_db_320_320_dice_bce_0_4__hvr_0_4_1/predictions_np/_Image_11L_8.npy (deflated 38%)\n",
            "  adding: chase_db_320_320_dice_bce_0_4__hvr_0_4_1/predictions_np/_Image_11L_4.npy (deflated 21%)\n",
            "  adding: chase_db_320_320_dice_bce_0_4__hvr_0_4_1/predictions_np/_Image_13L_8.npy (deflated 38%)\n",
            "  adding: chase_db_320_320_dice_bce_0_4__hvr_0_4_1/predictions_np/_Image_11R_5.npy (deflated 12%)\n",
            "  adding: chase_db_320_320_dice_bce_0_4__hvr_0_4_1/predictions_np/_Image_12R_7.npy (deflated 23%)\n",
            "  adding: chase_db_320_320_dice_bce_0_4__hvr_0_4_1/predictions_np/_Image_11R_8.npy (deflated 38%)\n",
            "  adding: chase_db_320_320_dice_bce_0_4__hvr_0_4_1/predictions_np/_Image_12R_11.npy (deflated 40%)\n",
            "  adding: chase_db_320_320_dice_bce_0_4__hvr_0_4_1/predictions_np/_Image_11L_10.npy (deflated 12%)\n",
            "  adding: chase_db_320_320_dice_bce_0_4__hvr_0_4_1/predictions_np/_Image_12R_5.npy (deflated 12%)\n",
            "  adding: chase_db_320_320_dice_bce_0_4__hvr_0_4_1/predictions_np/_Image_12L_1.npy (deflated 11%)\n",
            "  adding: chase_db_320_320_dice_bce_0_4__hvr_0_4_1/predictions_np/_Image_13L_1.npy (deflated 11%)\n",
            "  adding: chase_db_320_320_dice_bce_0_4__hvr_0_4_1/predictions_np/_Image_12R_1.npy (deflated 13%)\n",
            "  adding: chase_db_320_320_dice_bce_0_4__hvr_0_4_1/predictions_np/_Image_12L_9.npy (deflated 13%)\n",
            "  adding: chase_db_320_320_dice_bce_0_4__hvr_0_4_1/predictions_np/_Image_11R_9.npy (deflated 13%)\n",
            "  adding: chase_db_320_320_dice_bce_0_4__hvr_0_4_1/predictions_np/_Image_12R_4.npy (deflated 21%)\n",
            "  adding: chase_db_320_320_dice_bce_0_4__hvr_0_4_1/predictions_np/_Image_12R_8.npy (deflated 38%)\n",
            "  adding: chase_db_320_320_dice_bce_0_4__hvr_0_4_1/predictions_np/_Image_12L_6.npy (deflated 12%)\n",
            "  adding: chase_db_320_320_dice_bce_0_4__hvr_0_4_1/predictions_np/_Image_13L_9.npy (deflated 12%)\n",
            "  adding: chase_db_320_320_dice_bce_0_4__hvr_0_4_1/predictions_np/_Image_13L_5.npy (deflated 11%)\n",
            "  adding: chase_db_320_320_dice_bce_0_4__hvr_0_4_1/predictions_np/_Image_12R_3.npy (deflated 40%)\n",
            "  adding: chase_db_320_320_dice_bce_0_4__hvr_0_4_1/predictions_np/_Image_13L_11.npy (deflated 41%)\n",
            "  adding: chase_db_320_320_dice_bce_0_4__hvr_0_4_1/predictions_np/_Image_12L_11.npy (deflated 40%)\n",
            "  adding: chase_db_320_320_dice_bce_0_4__hvr_0_4_1/predictions_np/_Image_11L_1.npy (deflated 14%)\n",
            "  adding: chase_db_320_320_dice_bce_0_4__hvr_0_4_1/predictions_np/_Image_11L_7.npy (deflated 23%)\n",
            "  adding: chase_db_320_320_dice_bce_0_4__hvr_0_4_1/predictions_np/_Image_12R_9.npy (deflated 13%)\n",
            "  adding: chase_db_320_320_dice_bce_0_4__hvr_0_4_1/predictions_np/_Image_12L_7.npy (deflated 23%)\n",
            "  adding: chase_db_320_320_dice_bce_0_4__hvr_0_4_1/predictions_np/_Image_12L_0.npy (deflated 39%)\n",
            "  adding: chase_db_320_320_dice_bce_0_4__hvr_0_4_1/predictions_np/_Image_11R_6.npy (deflated 12%)\n",
            "  adding: chase_db_320_320_dice_bce_0_4__hvr_0_4_1/predictions_np/_Image_11R_3.npy (deflated 40%)\n",
            "  adding: chase_db_320_320_dice_bce_0_4__hvr_0_4_1/predictions_np/_Image_11L_0.npy (deflated 38%)\n",
            "  adding: chase_db_320_320_dice_bce_0_4__hvr_0_4_1/predictions_np/_Image_11L_9.npy (deflated 13%)\n",
            "  adding: chase_db_320_320_dice_bce_0_4__hvr_0_4_1/split_2/ (stored 0%)\n",
            "  adding: chase_db_320_320_dice_bce_0_4__hvr_0_4_1/split_2/image_patches_320_320_train.csv (deflated 95%)\n",
            "  adding: chase_db_320_320_dice_bce_0_4__hvr_0_4_1/split_2/test/ (stored 0%)\n",
            "  adding: chase_db_320_320_dice_bce_0_4__hvr_0_4_1/split_2/test/mask/ (stored 0%)\n",
            "  adding: chase_db_320_320_dice_bce_0_4__hvr_0_4_1/split_2/test/mask/_Image_11R_3.png (deflated 81%)\n",
            "  adding: chase_db_320_320_dice_bce_0_4__hvr_0_4_1/split_2/test/mask/_Image_12R_1.png (deflated 13%)\n",
            "  adding: chase_db_320_320_dice_bce_0_4__hvr_0_4_1/split_2/test/mask/_Image_11L_6.png (deflated 6%)\n",
            "  adding: chase_db_320_320_dice_bce_0_4__hvr_0_4_1/split_2/test/mask/_Image_13L_9.png (deflated 18%)\n",
            "  adding: chase_db_320_320_dice_bce_0_4__hvr_0_4_1/split_2/test/mask/_Image_11R_9.png (deflated 13%)\n",
            "  adding: chase_db_320_320_dice_bce_0_4__hvr_0_4_1/split_2/test/mask/_Image_12L_9.png (deflated 17%)\n",
            "  adding: chase_db_320_320_dice_bce_0_4__hvr_0_4_1/split_2/test/mask/_Image_11R_0.png (deflated 79%)\n",
            "  adding: chase_db_320_320_dice_bce_0_4__hvr_0_4_1/split_2/test/mask/_Image_11L_2.png (deflated 10%)\n",
            "  adding: chase_db_320_320_dice_bce_0_4__hvr_0_4_1/split_2/test/mask/_Image_13L_3.png (deflated 66%)\n",
            "  adding: chase_db_320_320_dice_bce_0_4__hvr_0_4_1/split_2/test/mask/_Image_11R_8.png (deflated 83%)\n",
            "  adding: chase_db_320_320_dice_bce_0_4__hvr_0_4_1/split_2/test/mask/_Image_12L_7.png (deflated 19%)\n",
            "  adding: chase_db_320_320_dice_bce_0_4__hvr_0_4_1/split_2/test/mask/_Image_11L_1.png (deflated 10%)\n",
            "  adding: chase_db_320_320_dice_bce_0_4__hvr_0_4_1/split_2/test/mask/_Image_13L_8.png (deflated 51%)\n",
            "  adding: chase_db_320_320_dice_bce_0_4__hvr_0_4_1/split_2/test/mask/_Image_12R_2.png (deflated 17%)\n",
            "  adding: chase_db_320_320_dice_bce_0_4__hvr_0_4_1/split_2/test/mask/_Image_12L_3.png (deflated 34%)\n",
            "  adding: chase_db_320_320_dice_bce_0_4__hvr_0_4_1/split_2/test/mask/_Image_12R_4.png (deflated 15%)\n",
            "  adding: chase_db_320_320_dice_bce_0_4__hvr_0_4_1/split_2/test/mask/_Image_12L_11.png (deflated 46%)\n",
            "  adding: chase_db_320_320_dice_bce_0_4__hvr_0_4_1/split_2/test/mask/_Image_13L_0.png (deflated 29%)\n",
            "  adding: chase_db_320_320_dice_bce_0_4__hvr_0_4_1/split_2/test/mask/_Image_11R_1.png (deflated 9%)\n",
            "  adding: chase_db_320_320_dice_bce_0_4__hvr_0_4_1/split_2/test/mask/_Image_12R_7.png (deflated 40%)\n",
            "  adding: chase_db_320_320_dice_bce_0_4__hvr_0_4_1/split_2/test/mask/_Image_13L_6.png (deflated 9%)\n",
            "  adding: chase_db_320_320_dice_bce_0_4__hvr_0_4_1/split_2/test/mask/_Image_13L_4.png (deflated 16%)\n",
            "  adding: chase_db_320_320_dice_bce_0_4__hvr_0_4_1/split_2/test/mask/_Image_13L_10.png (deflated 14%)\n",
            "  adding: chase_db_320_320_dice_bce_0_4__hvr_0_4_1/split_2/test/mask/_Image_12L_1.png (deflated 14%)\n",
            "  adding: chase_db_320_320_dice_bce_0_4__hvr_0_4_1/split_2/test/mask/_Image_12R_8.png (deflated 38%)\n",
            "  adding: chase_db_320_320_dice_bce_0_4__hvr_0_4_1/split_2/test/mask/_Image_11R_10.png (deflated 19%)\n",
            "  adding: chase_db_320_320_dice_bce_0_4__hvr_0_4_1/split_2/test/mask/_Image_12L_8.png (deflated 73%)\n",
            "  adding: chase_db_320_320_dice_bce_0_4__hvr_0_4_1/split_2/test/mask/_Image_12L_5.png (deflated 14%)\n",
            "  adding: chase_db_320_320_dice_bce_0_4__hvr_0_4_1/split_2/test/mask/_Image_13L_5.png (deflated 9%)\n",
            "  adding: chase_db_320_320_dice_bce_0_4__hvr_0_4_1/split_2/test/mask/_Image_11L_9.png (deflated 11%)\n",
            "  adding: chase_db_320_320_dice_bce_0_4__hvr_0_4_1/split_2/test/mask/_Image_11L_4.png (deflated 35%)\n",
            "  adding: chase_db_320_320_dice_bce_0_4__hvr_0_4_1/split_2/test/mask/_Image_11L_7.png (deflated 38%)\n",
            "  adding: chase_db_320_320_dice_bce_0_4__hvr_0_4_1/split_2/test/mask/_Image_12L_10.png (deflated 9%)\n",
            "  adding: chase_db_320_320_dice_bce_0_4__hvr_0_4_1/split_2/test/mask/_Image_11L_0.png (deflated 43%)\n",
            "  adding: chase_db_320_320_dice_bce_0_4__hvr_0_4_1/split_2/test/mask/_Image_11L_8.png (deflated 41%)\n",
            "  adding: chase_db_320_320_dice_bce_0_4__hvr_0_4_1/split_2/test/mask/_Image_12R_11.png (deflated 45%)\n",
            "  adding: chase_db_320_320_dice_bce_0_4__hvr_0_4_1/split_2/test/mask/_Image_12L_4.png (deflated 35%)\n",
            "  adding: chase_db_320_320_dice_bce_0_4__hvr_0_4_1/split_2/test/mask/_Image_11L_5.png (deflated 11%)\n",
            "  adding: chase_db_320_320_dice_bce_0_4__hvr_0_4_1/split_2/test/mask/_Image_11R_11.png (deflated 51%)\n",
            "  adding: chase_db_320_320_dice_bce_0_4__hvr_0_4_1/split_2/test/mask/_Image_11R_2.png (deflated 18%)\n",
            "  adding: chase_db_320_320_dice_bce_0_4__hvr_0_4_1/split_2/test/mask/_Image_11L_10.png (deflated 12%)\n",
            "  adding: chase_db_320_320_dice_bce_0_4__hvr_0_4_1/split_2/test/mask/_Image_12R_10.png (deflated 14%)\n",
            "  adding: chase_db_320_320_dice_bce_0_4__hvr_0_4_1/split_2/test/mask/_Image_12R_5.png (deflated 10%)\n",
            "  adding: chase_db_320_320_dice_bce_0_4__hvr_0_4_1/split_2/test/mask/_Image_12R_0.png (deflated 33%)\n",
            "  adding: chase_db_320_320_dice_bce_0_4__hvr_0_4_1/split_2/test/mask/_Image_11R_7.png (deflated 28%)\n",
            "  adding: chase_db_320_320_dice_bce_0_4__hvr_0_4_1/split_2/test/mask/_Image_12R_9.png (deflated 11%)\n",
            "  adding: chase_db_320_320_dice_bce_0_4__hvr_0_4_1/split_2/test/mask/_Image_13L_2.png (deflated 11%)\n",
            "  adding: chase_db_320_320_dice_bce_0_4__hvr_0_4_1/split_2/test/mask/_Image_11L_3.png (deflated 85%)\n",
            "  adding: chase_db_320_320_dice_bce_0_4__hvr_0_4_1/split_2/test/mask/_Image_12R_6.png (deflated 15%)\n",
            "  adding: chase_db_320_320_dice_bce_0_4__hvr_0_4_1/split_2/test/mask/_Image_12L_6.png (deflated 9%)\n",
            "  adding: chase_db_320_320_dice_bce_0_4__hvr_0_4_1/split_2/test/mask/_Image_12R_3.png (deflated 36%)\n",
            "  adding: chase_db_320_320_dice_bce_0_4__hvr_0_4_1/split_2/test/mask/_Image_13L_11.png (deflated 45%)\n",
            "  adding: chase_db_320_320_dice_bce_0_4__hvr_0_4_1/split_2/test/mask/_Image_13L_1.png (deflated 19%)\n",
            "  adding: chase_db_320_320_dice_bce_0_4__hvr_0_4_1/split_2/test/mask/_Image_11R_4.png (deflated 36%)\n",
            "  adding: chase_db_320_320_dice_bce_0_4__hvr_0_4_1/split_2/test/mask/_Image_12L_0.png (deflated 56%)\n",
            "  adding: chase_db_320_320_dice_bce_0_4__hvr_0_4_1/split_2/test/mask/_Image_12L_2.png (deflated 14%)\n",
            "  adding: chase_db_320_320_dice_bce_0_4__hvr_0_4_1/split_2/test/mask/_Image_11R_6.png (deflated 14%)\n",
            "  adding: chase_db_320_320_dice_bce_0_4__hvr_0_4_1/split_2/test/mask/_Image_13L_7.png (deflated 50%)\n",
            "  adding: chase_db_320_320_dice_bce_0_4__hvr_0_4_1/split_2/test/mask/_Image_11R_5.png (deflated 7%)\n",
            "  adding: chase_db_320_320_dice_bce_0_4__hvr_0_4_1/split_2/test/mask/_Image_11L_11.png (deflated 86%)\n",
            "  adding: chase_db_320_320_dice_bce_0_4__hvr_0_4_1/split_2/test/image/ (stored 0%)\n",
            "  adding: chase_db_320_320_dice_bce_0_4__hvr_0_4_1/split_2/test/image/_Image_11R_3.png (deflated 5%)\n",
            "  adding: chase_db_320_320_dice_bce_0_4__hvr_0_4_1/split_2/test/image/_Image_12R_1.png (deflated 3%)\n",
            "  adding: chase_db_320_320_dice_bce_0_4__hvr_0_4_1/split_2/test/image/_Image_11L_6.png (deflated 2%)\n",
            "  adding: chase_db_320_320_dice_bce_0_4__hvr_0_4_1/split_2/test/image/_Image_13L_9.png (deflated 6%)\n",
            "  adding: chase_db_320_320_dice_bce_0_4__hvr_0_4_1/split_2/test/image/_Image_11R_9.png (deflated 2%)\n",
            "  adding: chase_db_320_320_dice_bce_0_4__hvr_0_4_1/split_2/test/image/_Image_12L_9.png (deflated 1%)\n",
            "  adding: chase_db_320_320_dice_bce_0_4__hvr_0_4_1/split_2/test/image/_Image_11R_0.png (deflated 5%)\n",
            "  adding: chase_db_320_320_dice_bce_0_4__hvr_0_4_1/split_2/test/image/_Image_11L_2.png (deflated 3%)\n",
            "  adding: chase_db_320_320_dice_bce_0_4__hvr_0_4_1/split_2/test/image/_Image_13L_3.png (deflated 10%)\n",
            "  adding: chase_db_320_320_dice_bce_0_4__hvr_0_4_1/split_2/test/image/_Image_11R_8.png (deflated 4%)\n",
            "  adding: chase_db_320_320_dice_bce_0_4__hvr_0_4_1/split_2/test/image/_Image_12L_7.png (deflated 4%)\n",
            "  adding: chase_db_320_320_dice_bce_0_4__hvr_0_4_1/split_2/test/image/_Image_11L_1.png (deflated 3%)\n",
            "  adding: chase_db_320_320_dice_bce_0_4__hvr_0_4_1/split_2/test/image/_Image_13L_8.png (deflated 8%)\n",
            "  adding: chase_db_320_320_dice_bce_0_4__hvr_0_4_1/split_2/test/image/_Image_12R_2.png (deflated 2%)\n",
            "  adding: chase_db_320_320_dice_bce_0_4__hvr_0_4_1/split_2/test/image/_Image_12L_3.png (deflated 4%)\n",
            "  adding: chase_db_320_320_dice_bce_0_4__hvr_0_4_1/split_2/test/image/_Image_12R_4.png (deflated 5%)\n",
            "  adding: chase_db_320_320_dice_bce_0_4__hvr_0_4_1/split_2/test/image/_Image_12L_11.png (deflated 3%)\n",
            "  adding: chase_db_320_320_dice_bce_0_4__hvr_0_4_1/split_2/test/image/_Image_13L_0.png (deflated 7%)\n",
            "  adding: chase_db_320_320_dice_bce_0_4__hvr_0_4_1/split_2/test/image/_Image_11R_1.png (deflated 3%)\n",
            "  adding: chase_db_320_320_dice_bce_0_4__hvr_0_4_1/split_2/test/image/_Image_12R_7.png (deflated 2%)\n",
            "  adding: chase_db_320_320_dice_bce_0_4__hvr_0_4_1/split_2/test/image/_Image_13L_6.png (deflated 3%)\n",
            "  adding: chase_db_320_320_dice_bce_0_4__hvr_0_4_1/split_2/test/image/_Image_13L_4.png (deflated 7%)\n",
            "  adding: chase_db_320_320_dice_bce_0_4__hvr_0_4_1/split_2/test/image/_Image_13L_10.png (deflated 6%)\n",
            "  adding: chase_db_320_320_dice_bce_0_4__hvr_0_4_1/split_2/test/image/_Image_12L_1.png (deflated 5%)\n",
            "  adding: chase_db_320_320_dice_bce_0_4__hvr_0_4_1/split_2/test/image/_Image_12R_8.png (deflated 6%)\n",
            "  adding: chase_db_320_320_dice_bce_0_4__hvr_0_4_1/split_2/test/image/_Image_11R_10.png (deflated 1%)\n",
            "  adding: chase_db_320_320_dice_bce_0_4__hvr_0_4_1/split_2/test/image/_Image_12L_8.png (deflated 5%)\n",
            "  adding: chase_db_320_320_dice_bce_0_4__hvr_0_4_1/split_2/test/image/_Image_12L_5.png (deflated 2%)\n",
            "  adding: chase_db_320_320_dice_bce_0_4__hvr_0_4_1/split_2/test/image/_Image_13L_5.png (deflated 5%)\n",
            "  adding: chase_db_320_320_dice_bce_0_4__hvr_0_4_1/split_2/test/image/_Image_11L_9.png (deflated 2%)\n",
            "  adding: chase_db_320_320_dice_bce_0_4__hvr_0_4_1/split_2/test/image/_Image_11L_4.png (deflated 4%)\n",
            "  adding: chase_db_320_320_dice_bce_0_4__hvr_0_4_1/split_2/test/image/_Image_11L_7.png (deflated 3%)\n",
            "  adding: chase_db_320_320_dice_bce_0_4__hvr_0_4_1/split_2/test/image/_Image_12L_10.png (deflated 1%)\n",
            "  adding: chase_db_320_320_dice_bce_0_4__hvr_0_4_1/split_2/test/image/_Image_11L_0.png (deflated 6%)\n",
            "  adding: chase_db_320_320_dice_bce_0_4__hvr_0_4_1/split_2/test/image/_Image_11L_8.png (deflated 5%)\n",
            "  adding: chase_db_320_320_dice_bce_0_4__hvr_0_4_1/split_2/test/image/_Image_12R_11.png (deflated 4%)\n",
            "  adding: chase_db_320_320_dice_bce_0_4__hvr_0_4_1/split_2/test/image/_Image_12L_4.png (deflated 3%)\n",
            "  adding: chase_db_320_320_dice_bce_0_4__hvr_0_4_1/split_2/test/image/_Image_11L_5.png (deflated 2%)\n",
            "  adding: chase_db_320_320_dice_bce_0_4__hvr_0_4_1/split_2/test/image/_Image_11R_11.png (deflated 4%)\n",
            "  adding: chase_db_320_320_dice_bce_0_4__hvr_0_4_1/split_2/test/image/_Image_11R_2.png (deflated 3%)\n",
            "  adding: chase_db_320_320_dice_bce_0_4__hvr_0_4_1/split_2/test/image/_Image_11L_10.png (deflated 1%)\n",
            "  adding: chase_db_320_320_dice_bce_0_4__hvr_0_4_1/split_2/test/image/_Image_12R_10.png (deflated 1%)\n",
            "  adding: chase_db_320_320_dice_bce_0_4__hvr_0_4_1/split_2/test/image/_Image_12R_5.png (deflated 2%)\n",
            "  adding: chase_db_320_320_dice_bce_0_4__hvr_0_4_1/split_2/test/image/_Image_12R_0.png (deflated 4%)\n",
            "  adding: chase_db_320_320_dice_bce_0_4__hvr_0_4_1/split_2/test/image/_Image_11R_7.png (deflated 3%)\n",
            "  adding: chase_db_320_320_dice_bce_0_4__hvr_0_4_1/split_2/test/image/_Image_12R_9.png (deflated 2%)\n",
            "  adding: chase_db_320_320_dice_bce_0_4__hvr_0_4_1/split_2/test/image/_Image_13L_2.png (deflated 6%)\n",
            "  adding: chase_db_320_320_dice_bce_0_4__hvr_0_4_1/split_2/test/image/_Image_11L_3.png (deflated 5%)\n",
            "  adding: chase_db_320_320_dice_bce_0_4__hvr_0_4_1/split_2/test/image/_Image_12R_6.png (deflated 1%)\n",
            "  adding: chase_db_320_320_dice_bce_0_4__hvr_0_4_1/split_2/test/image/_Image_12L_6.png (deflated 1%)\n",
            "  adding: chase_db_320_320_dice_bce_0_4__hvr_0_4_1/split_2/test/image/_Image_12R_3.png (deflated 4%)\n",
            "  adding: chase_db_320_320_dice_bce_0_4__hvr_0_4_1/split_2/test/image/_Image_13L_11.png (deflated 10%)\n",
            "  adding: chase_db_320_320_dice_bce_0_4__hvr_0_4_1/split_2/test/image/_Image_13L_1.png (deflated 6%)\n",
            "  adding: chase_db_320_320_dice_bce_0_4__hvr_0_4_1/split_2/test/image/_Image_11R_4.png (deflated 2%)\n",
            "  adding: chase_db_320_320_dice_bce_0_4__hvr_0_4_1/split_2/test/image/_Image_12L_0.png (deflated 9%)\n",
            "  adding: chase_db_320_320_dice_bce_0_4__hvr_0_4_1/split_2/test/image/_Image_12L_2.png (deflated 2%)\n",
            "  adding: chase_db_320_320_dice_bce_0_4__hvr_0_4_1/split_2/test/image/_Image_11R_6.png (deflated 2%)\n",
            "  adding: chase_db_320_320_dice_bce_0_4__hvr_0_4_1/split_2/test/image/_Image_13L_7.png (deflated 11%)\n",
            "  adding: chase_db_320_320_dice_bce_0_4__hvr_0_4_1/split_2/test/image/_Image_11R_5.png (deflated 3%)\n",
            "  adding: chase_db_320_320_dice_bce_0_4__hvr_0_4_1/split_2/test/image/_Image_11L_11.png (deflated 5%)\n",
            "  adding: chase_db_320_320_dice_bce_0_4__hvr_0_4_1/split_2/reconstructed/ (stored 0%)\n",
            "  adding: chase_db_320_320_dice_bce_0_4__hvr_0_4_1/split_2/reconstructed/test/ (stored 0%)\n",
            "  adding: chase_db_320_320_dice_bce_0_4__hvr_0_4_1/split_2/reconstructed/test/mask/ (stored 0%)\n",
            "  adding: chase_db_320_320_dice_bce_0_4__hvr_0_4_1/split_2/reconstructed/test/mask/Image_13L.png (deflated 15%)\n",
            "  adding: chase_db_320_320_dice_bce_0_4__hvr_0_4_1/split_2/reconstructed/test/mask/Image_12R.png (deflated 13%)\n",
            "  adding: chase_db_320_320_dice_bce_0_4__hvr_0_4_1/split_2/reconstructed/test/mask/Image_12L.png (deflated 15%)\n",
            "  adding: chase_db_320_320_dice_bce_0_4__hvr_0_4_1/split_2/reconstructed/test/mask/Image_11R.png (deflated 15%)\n",
            "  adding: chase_db_320_320_dice_bce_0_4__hvr_0_4_1/split_2/reconstructed/test/mask/Image_11L.png (deflated 11%)\n",
            "  adding: chase_db_320_320_dice_bce_0_4__hvr_0_4_1/split_2/reconstructed/test/predictions_reconstructed/ (stored 0%)\n",
            "  adding: chase_db_320_320_dice_bce_0_4__hvr_0_4_1/split_2/reconstructed/test/predictions_reconstructed/Image_13L.png (deflated 19%)\n",
            "  adding: chase_db_320_320_dice_bce_0_4__hvr_0_4_1/split_2/reconstructed/test/predictions_reconstructed/Image_12R.png (deflated 16%)\n",
            "  adding: chase_db_320_320_dice_bce_0_4__hvr_0_4_1/split_2/reconstructed/test/predictions_reconstructed/Image_12L.png (deflated 16%)\n",
            "  adding: chase_db_320_320_dice_bce_0_4__hvr_0_4_1/split_2/reconstructed/test/predictions_reconstructed/Image_11R.png (deflated 17%)\n",
            "  adding: chase_db_320_320_dice_bce_0_4__hvr_0_4_1/split_2/reconstructed/test/predictions_reconstructed/Image_11L.png (deflated 16%)\n",
            "  adding: chase_db_320_320_dice_bce_0_4__hvr_0_4_1/split_2/reconstructed/test/image/ (stored 0%)\n",
            "  adding: chase_db_320_320_dice_bce_0_4__hvr_0_4_1/split_2/reconstructed/test/image/Image_13L.png (deflated 6%)\n",
            "  adding: chase_db_320_320_dice_bce_0_4__hvr_0_4_1/split_2/reconstructed/test/image/Image_12R.png (deflated 2%)\n",
            "  adding: chase_db_320_320_dice_bce_0_4__hvr_0_4_1/split_2/reconstructed/test/image/Image_12L.png (deflated 2%)\n",
            "  adding: chase_db_320_320_dice_bce_0_4__hvr_0_4_1/split_2/reconstructed/test/image/Image_11R.png (deflated 2%)\n",
            "  adding: chase_db_320_320_dice_bce_0_4__hvr_0_4_1/split_2/reconstructed/test/image/Image_11L.png (deflated 2%)\n",
            "  adding: chase_db_320_320_dice_bce_0_4__hvr_0_4_1/split_2/image_patches_320_320_test.csv (deflated 92%)\n",
            "  adding: chase_db_320_320_dice_bce_0_4__hvr_0_4_1/split_2/train/ (stored 0%)\n",
            "  adding: chase_db_320_320_dice_bce_0_4__hvr_0_4_1/split_2/train/mask/ (stored 0%)\n",
            "  adding: chase_db_320_320_dice_bce_0_4__hvr_0_4_1/split_2/train/mask/_Image_01R_0_10.png (deflated 17%)\n",
            "  adding: chase_db_320_320_dice_bce_0_4__hvr_0_4_1/split_2/train/mask/_Image_03R_3_4.png (deflated 13%)\n",
            "  adding: chase_db_320_320_dice_bce_0_4__hvr_0_4_1/split_2/train/mask/_Image_03R_2_9.png (deflated 9%)\n",
            "  adding: chase_db_320_320_dice_bce_0_4__hvr_0_4_1/split_2/train/mask/_Image_14L_1_1.png (deflated 11%)\n",
            "  adding: chase_db_320_320_dice_bce_0_4__hvr_0_4_1/split_2/train/mask/_Image_10R_0_11.png (deflated 86%)\n",
            "  adding: chase_db_320_320_dice_bce_0_4__hvr_0_4_1/split_2/train/mask/_Image_03L_3_11.png (deflated 31%)\n",
            "  adding: chase_db_320_320_dice_bce_0_4__hvr_0_4_1/split_2/train/mask/_Image_09L_0_10.png (deflated 11%)\n",
            "  adding: chase_db_320_320_dice_bce_0_4__hvr_0_4_1/split_2/train/mask/_Image_05R_2_9.png (deflated 11%)\n",
            "  adding: chase_db_320_320_dice_bce_0_4__hvr_0_4_1/split_2/train/mask/_Image_01L_1_2.png (deflated 15%)\n",
            "  adding: chase_db_320_320_dice_bce_0_4__hvr_0_4_1/split_2/train/mask/_Image_05L_2_11.png (deflated 51%)\n",
            "  adding: chase_db_320_320_dice_bce_0_4__hvr_0_4_1/split_2/train/mask/_Image_09R_3_1.png (deflated 13%)\n",
            "  adding: chase_db_320_320_dice_bce_0_4__hvr_0_4_1/split_2/train/mask/_Image_03L_0_5.png (deflated 12%)\n",
            "  adding: chase_db_320_320_dice_bce_0_4__hvr_0_4_1/split_2/train/mask/_Image_06R_2_10.png (deflated 14%)\n",
            "  adding: chase_db_320_320_dice_bce_0_4__hvr_0_4_1/split_2/train/mask/_Image_07R_2_11.png (deflated 64%)\n",
            "  adding: chase_db_320_320_dice_bce_0_4__hvr_0_4_1/split_2/train/mask/_Image_04L_2_7.png (deflated 61%)\n",
            "  adding: chase_db_320_320_dice_bce_0_4__hvr_0_4_1/split_2/train/mask/_Image_02L_2_11.png (deflated 42%)\n",
            "  adding: chase_db_320_320_dice_bce_0_4__hvr_0_4_1/split_2/train/mask/_Image_01L_0_3.png (deflated 58%)\n",
            "  adding: chase_db_320_320_dice_bce_0_4__hvr_0_4_1/split_2/train/mask/_Image_03R_0_7.png (deflated 38%)\n",
            "  adding: chase_db_320_320_dice_bce_0_4__hvr_0_4_1/split_2/train/mask/_Image_08L_3_6.png (deflated 9%)\n",
            "  adding: chase_db_320_320_dice_bce_0_4__hvr_0_4_1/split_2/train/mask/_Image_03R_1_9.png (deflated 17%)\n",
            "  adding: chase_db_320_320_dice_bce_0_4__hvr_0_4_1/split_2/train/mask/_Image_10L_2_6.png (deflated 11%)\n",
            "  adding: chase_db_320_320_dice_bce_0_4__hvr_0_4_1/split_2/train/mask/_Image_02L_2_7.png (deflated 13%)\n",
            "  adding: chase_db_320_320_dice_bce_0_4__hvr_0_4_1/split_2/train/mask/_Image_05L_1_0.png (deflated 51%)\n",
            "  adding: chase_db_320_320_dice_bce_0_4__hvr_0_4_1/split_2/train/mask/_Image_07R_1_6.png (deflated 6%)\n",
            "  adding: chase_db_320_320_dice_bce_0_4__hvr_0_4_1/split_2/train/mask/_Image_04R_2_3.png (deflated 70%)\n",
            "  adding: chase_db_320_320_dice_bce_0_4__hvr_0_4_1/split_2/train/mask/_Image_04R_2_10.png (deflated 15%)\n",
            "  adding: chase_db_320_320_dice_bce_0_4__hvr_0_4_1/split_2/train/mask/_Image_14R_1_10.png (deflated 8%)\n",
            "  adding: chase_db_320_320_dice_bce_0_4__hvr_0_4_1/split_2/train/mask/_Image_09L_0_2.png (deflated 16%)\n",
            "  adding: chase_db_320_320_dice_bce_0_4__hvr_0_4_1/split_2/train/mask/_Image_03L_2_9.png (deflated 11%)\n",
            "  adding: chase_db_320_320_dice_bce_0_4__hvr_0_4_1/split_2/train/mask/_Image_08L_3_2.png (deflated 13%)\n",
            "  adding: chase_db_320_320_dice_bce_0_4__hvr_0_4_1/split_2/train/mask/_Image_08L_3_4.png (deflated 25%)\n",
            "  adding: chase_db_320_320_dice_bce_0_4__hvr_0_4_1/split_2/train/mask/_Image_14L_3_11.png (deflated 48%)\n",
            "  adding: chase_db_320_320_dice_bce_0_4__hvr_0_4_1/split_2/train/mask/_Image_03L_2_4.png (deflated 27%)\n",
            "  adding: chase_db_320_320_dice_bce_0_4__hvr_0_4_1/split_2/train/mask/_Image_04L_1_9.png (deflated 13%)\n",
            "  adding: chase_db_320_320_dice_bce_0_4__hvr_0_4_1/split_2/train/mask/_Image_10L_1_7.png (deflated 23%)\n",
            "  adding: chase_db_320_320_dice_bce_0_4__hvr_0_4_1/split_2/train/mask/_Image_06L_0_3.png (deflated 60%)\n",
            "  adding: chase_db_320_320_dice_bce_0_4__hvr_0_4_1/split_2/train/mask/_Image_09L_2_10.png (deflated 15%)\n",
            "  adding: chase_db_320_320_dice_bce_0_4__hvr_0_4_1/split_2/train/mask/_Image_03L_2_1.png (deflated 10%)\n",
            "  adding: chase_db_320_320_dice_bce_0_4__hvr_0_4_1/split_2/train/mask/_Image_01R_3_7.png (deflated 21%)\n",
            "  adding: chase_db_320_320_dice_bce_0_4__hvr_0_4_1/split_2/train/mask/_Image_01R_2_0.png (deflated 58%)\n",
            "  adding: chase_db_320_320_dice_bce_0_4__hvr_0_4_1/split_2/train/mask/_Image_04L_1_1.png (deflated 8%)\n",
            "  adding: chase_db_320_320_dice_bce_0_4__hvr_0_4_1/split_2/train/mask/_Image_07L_1_8.png (deflated 34%)\n",
            "  adding: chase_db_320_320_dice_bce_0_4__hvr_0_4_1/split_2/train/mask/_Image_08R_3_8.png (deflated 76%)\n",
            "  adding: chase_db_320_320_dice_bce_0_4__hvr_0_4_1/split_2/train/mask/_Image_06L_1_1.png (deflated 14%)\n",
            "  adding: chase_db_320_320_dice_bce_0_4__hvr_0_4_1/split_2/train/mask/_Image_04L_2_1.png (deflated 13%)\n",
            "  adding: chase_db_320_320_dice_bce_0_4__hvr_0_4_1/split_2/train/mask/_Image_10R_1_0.png (deflated 42%)\n",
            "  adding: chase_db_320_320_dice_bce_0_4__hvr_0_4_1/split_2/train/mask/_Image_03L_1_9.png (deflated 12%)\n",
            "  adding: chase_db_320_320_dice_bce_0_4__hvr_0_4_1/split_2/train/mask/_Image_01R_3_10.png (deflated 9%)\n",
            "  adding: chase_db_320_320_dice_bce_0_4__hvr_0_4_1/split_2/train/mask/_Image_01R_2_8.png (deflated 35%)\n",
            "  adding: chase_db_320_320_dice_bce_0_4__hvr_0_4_1/split_2/train/mask/_Image_04R_0_5.png (deflated 7%)\n",
            "  adding: chase_db_320_320_dice_bce_0_4__hvr_0_4_1/split_2/train/mask/_Image_02R_1_4.png (deflated 29%)\n",
            "  adding: chase_db_320_320_dice_bce_0_4__hvr_0_4_1/split_2/train/mask/_Image_08R_1_10.png (deflated 7%)\n",
            "  adding: chase_db_320_320_dice_bce_0_4__hvr_0_4_1/split_2/train/mask/_Image_03L_0_1.png (deflated 11%)\n",
            "  adding: chase_db_320_320_dice_bce_0_4__hvr_0_4_1/split_2/train/mask/_Image_04R_1_1.png (deflated 14%)\n",
            "  adding: chase_db_320_320_dice_bce_0_4__hvr_0_4_1/split_2/train/mask/_Image_03L_1_7.png (deflated 27%)\n",
            "  adding: chase_db_320_320_dice_bce_0_4__hvr_0_4_1/split_2/train/mask/_Image_01R_1_3.png (deflated 34%)\n",
            "  adding: chase_db_320_320_dice_bce_0_4__hvr_0_4_1/split_2/train/mask/_Image_07R_0_2.png (deflated 13%)\n",
            "  adding: chase_db_320_320_dice_bce_0_4__hvr_0_4_1/split_2/train/mask/_Image_10L_3_5.png (deflated 7%)\n",
            "  adding: chase_db_320_320_dice_bce_0_4__hvr_0_4_1/split_2/train/mask/_Image_13R_0_9.png (deflated 12%)\n",
            "  adding: chase_db_320_320_dice_bce_0_4__hvr_0_4_1/split_2/train/mask/_Image_05R_2_1.png (deflated 14%)\n",
            "  adding: chase_db_320_320_dice_bce_0_4__hvr_0_4_1/split_2/train/mask/_Image_05R_3_0.png (deflated 11%)\n",
            "  adding: chase_db_320_320_dice_bce_0_4__hvr_0_4_1/split_2/train/mask/_Image_10R_1_7.png (deflated 17%)\n",
            "  adding: chase_db_320_320_dice_bce_0_4__hvr_0_4_1/split_2/train/mask/_Image_01L_2_9.png (deflated 14%)\n",
            "  adding: chase_db_320_320_dice_bce_0_4__hvr_0_4_1/split_2/train/mask/_Image_13R_2_2.png (deflated 17%)\n",
            "  adding: chase_db_320_320_dice_bce_0_4__hvr_0_4_1/split_2/train/mask/_Image_02L_0_6.png (deflated 9%)\n",
            "  adding: chase_db_320_320_dice_bce_0_4__hvr_0_4_1/split_2/train/mask/_Image_07R_2_8.png (deflated 34%)\n",
            "  adding: chase_db_320_320_dice_bce_0_4__hvr_0_4_1/split_2/train/mask/_Image_01L_1_1.png (deflated 18%)\n",
            "  adding: chase_db_320_320_dice_bce_0_4__hvr_0_4_1/split_2/train/mask/_Image_09L_0_6.png (deflated 14%)\n",
            "  adding: chase_db_320_320_dice_bce_0_4__hvr_0_4_1/split_2/train/mask/_Image_09R_2_9.png (deflated 15%)\n",
            "  adding: chase_db_320_320_dice_bce_0_4__hvr_0_4_1/split_2/train/mask/_Image_05R_1_1.png (deflated 18%)\n",
            "  adding: chase_db_320_320_dice_bce_0_4__hvr_0_4_1/split_2/train/mask/_Image_05L_0_8.png (deflated 47%)\n",
            "  adding: chase_db_320_320_dice_bce_0_4__hvr_0_4_1/split_2/train/mask/_Image_08R_3_10.png (deflated 17%)\n",
            "  adding: chase_db_320_320_dice_bce_0_4__hvr_0_4_1/split_2/train/mask/_Image_03R_3_2.png (deflated 17%)\n",
            "  adding: chase_db_320_320_dice_bce_0_4__hvr_0_4_1/split_2/train/mask/_Image_03R_2_4.png (deflated 28%)\n",
            "  adding: chase_db_320_320_dice_bce_0_4__hvr_0_4_1/split_2/train/mask/_Image_13R_2_1.png (deflated 12%)\n",
            "  adding: chase_db_320_320_dice_bce_0_4__hvr_0_4_1/split_2/train/mask/_Image_02L_0_8.png (deflated 38%)\n",
            "  adding: chase_db_320_320_dice_bce_0_4__hvr_0_4_1/split_2/train/mask/_Image_01L_1_6.png (deflated 9%)\n",
            "  adding: chase_db_320_320_dice_bce_0_4__hvr_0_4_1/split_2/train/mask/_Image_09L_1_5.png (deflated 15%)\n",
            "  adding: chase_db_320_320_dice_bce_0_4__hvr_0_4_1/split_2/train/mask/_Image_07L_3_8.png (deflated 35%)\n",
            "  adding: chase_db_320_320_dice_bce_0_4__hvr_0_4_1/split_2/train/mask/_Image_05R_1_0.png (deflated 65%)\n",
            "  adding: chase_db_320_320_dice_bce_0_4__hvr_0_4_1/split_2/train/mask/_Image_13R_2_5.png (deflated 8%)\n",
            "  adding: chase_db_320_320_dice_bce_0_4__hvr_0_4_1/split_2/train/mask/_Image_02R_2_5.png (deflated 7%)\n",
            "  adding: chase_db_320_320_dice_bce_0_4__hvr_0_4_1/split_2/train/mask/_Image_05R_2_3.png (deflated 43%)\n",
            "  adding: chase_db_320_320_dice_bce_0_4__hvr_0_4_1/split_2/train/mask/_Image_08R_2_1.png (deflated 7%)\n",
            "  adding: chase_db_320_320_dice_bce_0_4__hvr_0_4_1/split_2/train/mask/_Image_01L_1_9.png (deflated 12%)\n",
            "  adding: chase_db_320_320_dice_bce_0_4__hvr_0_4_1/split_2/train/mask/_Image_05L_0_10.png (deflated 11%)\n",
            "  adding: chase_db_320_320_dice_bce_0_4__hvr_0_4_1/split_2/train/mask/_Image_07L_1_10.png (deflated 10%)\n",
            "  adding: chase_db_320_320_dice_bce_0_4__hvr_0_4_1/split_2/train/mask/_Image_02R_3_10.png (deflated 12%)\n",
            "  adding: chase_db_320_320_dice_bce_0_4__hvr_0_4_1/split_2/train/mask/_Image_08L_1_1.png (deflated 14%)\n",
            "  adding: chase_db_320_320_dice_bce_0_4__hvr_0_4_1/split_2/train/mask/_Image_02R_3_1.png (deflated 8%)\n",
            "  adding: chase_db_320_320_dice_bce_0_4__hvr_0_4_1/split_2/train/mask/_Image_02L_2_2.png (deflated 10%)\n",
            "  adding: chase_db_320_320_dice_bce_0_4__hvr_0_4_1/split_2/train/mask/_Image_02L_0_3.png (deflated 43%)\n",
            "  adding: chase_db_320_320_dice_bce_0_4__hvr_0_4_1/split_2/train/mask/_Image_07L_1_2.png (deflated 13%)\n",
            "  adding: chase_db_320_320_dice_bce_0_4__hvr_0_4_1/split_2/train/mask/_Image_09R_1_4.png (deflated 29%)\n",
            "  adding: chase_db_320_320_dice_bce_0_4__hvr_0_4_1/split_2/train/mask/_Image_13R_1_9.png (deflated 19%)\n",
            "  adding: chase_db_320_320_dice_bce_0_4__hvr_0_4_1/split_2/train/mask/_Image_14L_3_10.png (deflated 14%)\n",
            "  adding: chase_db_320_320_dice_bce_0_4__hvr_0_4_1/split_2/train/mask/_Image_08R_2_4.png (deflated 40%)\n",
            "  adding: chase_db_320_320_dice_bce_0_4__hvr_0_4_1/split_2/train/mask/_Image_07R_2_2.png (deflated 8%)\n",
            "  adding: chase_db_320_320_dice_bce_0_4__hvr_0_4_1/split_2/train/mask/_Image_07R_0_10.png (deflated 8%)\n",
            "  adding: chase_db_320_320_dice_bce_0_4__hvr_0_4_1/split_2/train/mask/_Image_09L_2_8.png (deflated 75%)\n",
            "  adding: chase_db_320_320_dice_bce_0_4__hvr_0_4_1/split_2/train/mask/_Image_13R_3_4.png (deflated 35%)\n",
            "  adding: chase_db_320_320_dice_bce_0_4__hvr_0_4_1/split_2/train/mask/_Image_04R_1_0.png (deflated 41%)\n",
            "  adding: chase_db_320_320_dice_bce_0_4__hvr_0_4_1/split_2/train/mask/_Image_14R_0_9.png (deflated 8%)\n",
            "  adding: chase_db_320_320_dice_bce_0_4__hvr_0_4_1/split_2/train/mask/_Image_10L_0_6.png (deflated 12%)\n",
            "  adding: chase_db_320_320_dice_bce_0_4__hvr_0_4_1/split_2/train/mask/_Image_05R_1_8.png (deflated 41%)\n",
            "  adding: chase_db_320_320_dice_bce_0_4__hvr_0_4_1/split_2/train/mask/_Image_10L_3_3.png (deflated 11%)\n",
            "  adding: chase_db_320_320_dice_bce_0_4__hvr_0_4_1/split_2/train/mask/_Image_08R_1_2.png (deflated 16%)\n",
            "  adding: chase_db_320_320_dice_bce_0_4__hvr_0_4_1/split_2/train/mask/_Image_02L_3_11.png (deflated 35%)\n",
            "  adding: chase_db_320_320_dice_bce_0_4__hvr_0_4_1/split_2/train/mask/_Image_07R_0_4.png (deflated 10%)\n",
            "  adding: chase_db_320_320_dice_bce_0_4__hvr_0_4_1/split_2/train/mask/_Image_01R_2_2.png (deflated 16%)\n",
            "  adding: chase_db_320_320_dice_bce_0_4__hvr_0_4_1/split_2/train/mask/_Image_04L_1_5.png (deflated 6%)\n",
            "  adding: chase_db_320_320_dice_bce_0_4__hvr_0_4_1/split_2/train/mask/_Image_08R_3_6.png (deflated 11%)\n",
            "  adding: chase_db_320_320_dice_bce_0_4__hvr_0_4_1/split_2/train/mask/_Image_04L_2_5.png (deflated 17%)\n",
            "  adding: chase_db_320_320_dice_bce_0_4__hvr_0_4_1/split_2/train/mask/_Image_10L_3_10.png (deflated 10%)\n",
            "  adding: chase_db_320_320_dice_bce_0_4__hvr_0_4_1/split_2/train/mask/_Image_10R_3_9.png (deflated 10%)\n",
            "  adding: chase_db_320_320_dice_bce_0_4__hvr_0_4_1/split_2/train/mask/_Image_06L_2_9.png (deflated 18%)\n",
            "  adding: chase_db_320_320_dice_bce_0_4__hvr_0_4_1/split_2/train/mask/_Image_07L_2_10.png (deflated 11%)\n",
            "  adding: chase_db_320_320_dice_bce_0_4__hvr_0_4_1/split_2/train/mask/_Image_10R_0_10.png (deflated 12%)\n",
            "  adding: chase_db_320_320_dice_bce_0_4__hvr_0_4_1/split_2/train/mask/_Image_09L_3_2.png (deflated 17%)\n",
            "  adding: chase_db_320_320_dice_bce_0_4__hvr_0_4_1/split_2/train/mask/_Image_03R_1_6.png (deflated 7%)\n",
            "  adding: chase_db_320_320_dice_bce_0_4__hvr_0_4_1/split_2/train/mask/_Image_05L_1_3.png (deflated 43%)\n",
            "  adding: chase_db_320_320_dice_bce_0_4__hvr_0_4_1/split_2/train/mask/_Image_08R_3_3.png (deflated 32%)\n",
            "  adding: chase_db_320_320_dice_bce_0_4__hvr_0_4_1/split_2/train/mask/_Image_07L_2_0.png (deflated 46%)\n",
            "  adding: chase_db_320_320_dice_bce_0_4__hvr_0_4_1/split_2/train/mask/_Image_14L_2_2.png (deflated 15%)\n",
            "  adding: chase_db_320_320_dice_bce_0_4__hvr_0_4_1/split_2/train/mask/_Image_03L_1_2.png (deflated 11%)\n",
            "  adding: chase_db_320_320_dice_bce_0_4__hvr_0_4_1/split_2/train/mask/_Image_03L_2_0.png (deflated 40%)\n",
            "  adding: chase_db_320_320_dice_bce_0_4__hvr_0_4_1/split_2/train/mask/_Image_09L_1_2.png (deflated 11%)\n",
            "  adding: chase_db_320_320_dice_bce_0_4__hvr_0_4_1/split_2/train/mask/_Image_05R_3_5.png (deflated 8%)\n",
            "  adding: chase_db_320_320_dice_bce_0_4__hvr_0_4_1/split_2/train/mask/_Image_07R_0_8.png (deflated 44%)\n",
            "  adding: chase_db_320_320_dice_bce_0_4__hvr_0_4_1/split_2/train/mask/_Image_04R_0_3.png (deflated 41%)\n",
            "  adding: chase_db_320_320_dice_bce_0_4__hvr_0_4_1/split_2/train/mask/_Image_10R_3_5.png (deflated 9%)\n",
            "  adding: chase_db_320_320_dice_bce_0_4__hvr_0_4_1/split_2/train/mask/_Image_07L_1_11.png (deflated 47%)\n",
            "  adding: chase_db_320_320_dice_bce_0_4__hvr_0_4_1/split_2/train/mask/_Image_08L_2_0.png (deflated 41%)\n",
            "  adding: chase_db_320_320_dice_bce_0_4__hvr_0_4_1/split_2/train/mask/_Image_10L_0_7.png (deflated 29%)\n",
            "  adding: chase_db_320_320_dice_bce_0_4__hvr_0_4_1/split_2/train/mask/_Image_02R_1_9.png (deflated 14%)\n",
            "  adding: chase_db_320_320_dice_bce_0_4__hvr_0_4_1/split_2/train/mask/_Image_10L_0_1.png (deflated 13%)\n",
            "  adding: chase_db_320_320_dice_bce_0_4__hvr_0_4_1/split_2/train/mask/_Image_06R_1_10.png (deflated 8%)\n",
            "  adding: chase_db_320_320_dice_bce_0_4__hvr_0_4_1/split_2/train/mask/_Image_04R_3_7.png (deflated 20%)\n",
            "  adding: chase_db_320_320_dice_bce_0_4__hvr_0_4_1/split_2/train/mask/_Image_01L_1_5.png (deflated 9%)\n",
            "  adding: chase_db_320_320_dice_bce_0_4__hvr_0_4_1/split_2/train/mask/_Image_01R_2_10.png (deflated 18%)\n",
            "  adding: chase_db_320_320_dice_bce_0_4__hvr_0_4_1/split_2/train/mask/_Image_02L_2_1.png (deflated 14%)\n",
            "  adding: chase_db_320_320_dice_bce_0_4__hvr_0_4_1/split_2/train/mask/_Image_05R_0_8.png (deflated 56%)\n",
            "  adding: chase_db_320_320_dice_bce_0_4__hvr_0_4_1/split_2/train/mask/_Image_06R_1_5.png (deflated 14%)\n",
            "  adding: chase_db_320_320_dice_bce_0_4__hvr_0_4_1/split_2/train/mask/_Image_06L_0_4.png (deflated 24%)\n",
            "  adding: chase_db_320_320_dice_bce_0_4__hvr_0_4_1/split_2/train/mask/_Image_03R_1_8.png (deflated 37%)\n",
            "  adding: chase_db_320_320_dice_bce_0_4__hvr_0_4_1/split_2/train/mask/_Image_04L_0_11.png (deflated 82%)\n",
            "  adding: chase_db_320_320_dice_bce_0_4__hvr_0_4_1/split_2/train/mask/_Image_14L_0_3.png (deflated 45%)\n",
            "  adding: chase_db_320_320_dice_bce_0_4__hvr_0_4_1/split_2/train/mask/_Image_08R_2_9.png (deflated 16%)\n",
            "  adding: chase_db_320_320_dice_bce_0_4__hvr_0_4_1/split_2/train/mask/_Image_02R_3_0.png (deflated 40%)\n",
            "  adding: chase_db_320_320_dice_bce_0_4__hvr_0_4_1/split_2/train/mask/_Image_05L_0_7.png (deflated 36%)\n",
            "  adding: chase_db_320_320_dice_bce_0_4__hvr_0_4_1/split_2/train/mask/_Image_10L_1_5.png (deflated 11%)\n",
            "  adding: chase_db_320_320_dice_bce_0_4__hvr_0_4_1/split_2/train/mask/_Image_07R_3_2.png (deflated 11%)\n",
            "  adding: chase_db_320_320_dice_bce_0_4__hvr_0_4_1/split_2/train/mask/_Image_07R_3_3.png (deflated 60%)\n",
            "  adding: chase_db_320_320_dice_bce_0_4__hvr_0_4_1/split_2/train/mask/_Image_04R_1_5.png (deflated 13%)\n",
            "  adding: chase_db_320_320_dice_bce_0_4__hvr_0_4_1/split_2/train/mask/_Image_06L_0_1.png (deflated 18%)\n",
            "  adding: chase_db_320_320_dice_bce_0_4__hvr_0_4_1/split_2/train/mask/_Image_03L_1_8.png (deflated 33%)\n",
            "  adding: chase_db_320_320_dice_bce_0_4__hvr_0_4_1/split_2/train/mask/_Image_14R_3_1.png (deflated 14%)\n",
            "  adding: chase_db_320_320_dice_bce_0_4__hvr_0_4_1/split_2/train/mask/_Image_03R_1_10.png (deflated 9%)\n",
            "  adding: chase_db_320_320_dice_bce_0_4__hvr_0_4_1/split_2/train/mask/_Image_01L_3_11.png (deflated 19%)\n",
            "  adding: chase_db_320_320_dice_bce_0_4__hvr_0_4_1/split_2/train/mask/_Image_13R_3_7.png (deflated 19%)\n",
            "  adding: chase_db_320_320_dice_bce_0_4__hvr_0_4_1/split_2/train/mask/_Image_04L_1_6.png (deflated 18%)\n",
            "  adding: chase_db_320_320_dice_bce_0_4__hvr_0_4_1/split_2/train/mask/_Image_08L_0_7.png (deflated 15%)\n",
            "  adding: chase_db_320_320_dice_bce_0_4__hvr_0_4_1/split_2/train/mask/_Image_03L_3_6.png (deflated 10%)\n",
            "  adding: chase_db_320_320_dice_bce_0_4__hvr_0_4_1/split_2/train/mask/_Image_09L_3_7.png (deflated 12%)\n",
            "  adding: chase_db_320_320_dice_bce_0_4__hvr_0_4_1/split_2/train/mask/_Image_13R_3_11.png (deflated 43%)\n",
            "  adding: chase_db_320_320_dice_bce_0_4__hvr_0_4_1/split_2/train/mask/_Image_14L_3_6.png (deflated 10%)\n",
            "  adding: chase_db_320_320_dice_bce_0_4__hvr_0_4_1/split_2/train/mask/_Image_06R_2_4.png (deflated 18%)\n",
            "  adding: chase_db_320_320_dice_bce_0_4__hvr_0_4_1/split_2/train/mask/_Image_05R_0_5.png (deflated 11%)\n",
            "  adding: chase_db_320_320_dice_bce_0_4__hvr_0_4_1/split_2/train/mask/_Image_08L_1_11.png (deflated 42%)\n",
            "  adding: chase_db_320_320_dice_bce_0_4__hvr_0_4_1/split_2/train/mask/_Image_10L_2_10.png (deflated 10%)\n",
            "  adding: chase_db_320_320_dice_bce_0_4__hvr_0_4_1/split_2/train/mask/_Image_05R_2_2.png (deflated 13%)\n",
            "  adding: chase_db_320_320_dice_bce_0_4__hvr_0_4_1/split_2/train/mask/_Image_08L_1_9.png (deflated 17%)\n",
            "  adding: chase_db_320_320_dice_bce_0_4__hvr_0_4_1/split_2/train/mask/_Image_09L_1_4.png (deflated 58%)\n",
            "  adding: chase_db_320_320_dice_bce_0_4__hvr_0_4_1/split_2/train/mask/_Image_08L_2_3.png (deflated 76%)\n",
            "  adding: chase_db_320_320_dice_bce_0_4__hvr_0_4_1/split_2/train/mask/_Image_06R_0_5.png (deflated 7%)\n",
            "  adding: chase_db_320_320_dice_bce_0_4__hvr_0_4_1/split_2/train/mask/_Image_04R_1_9.png (deflated 22%)\n",
            "  adding: chase_db_320_320_dice_bce_0_4__hvr_0_4_1/split_2/train/mask/_Image_04L_3_0.png (deflated 38%)\n",
            "  adding: chase_db_320_320_dice_bce_0_4__hvr_0_4_1/split_2/train/mask/_Image_01R_1_9.png (deflated 16%)\n",
            "  adding: chase_db_320_320_dice_bce_0_4__hvr_0_4_1/split_2/train/mask/_Image_02R_0_2.png (deflated 12%)\n",
            "  adding: chase_db_320_320_dice_bce_0_4__hvr_0_4_1/split_2/train/mask/_Image_13R_3_3.png (deflated 46%)\n",
            "  adding: chase_db_320_320_dice_bce_0_4__hvr_0_4_1/split_2/train/mask/_Image_07L_2_11.png (deflated 46%)\n",
            "  adding: chase_db_320_320_dice_bce_0_4__hvr_0_4_1/split_2/train/mask/_Image_09R_1_8.png (deflated 32%)\n",
            "  adding: chase_db_320_320_dice_bce_0_4__hvr_0_4_1/split_2/train/mask/_Image_05L_2_6.png (deflated 9%)\n",
            "  adding: chase_db_320_320_dice_bce_0_4__hvr_0_4_1/split_2/train/mask/_Image_08R_2_6.png (deflated 9%)\n",
            "  adding: chase_db_320_320_dice_bce_0_4__hvr_0_4_1/split_2/train/mask/_Image_06L_3_7.png (deflated 33%)\n",
            "  adding: chase_db_320_320_dice_bce_0_4__hvr_0_4_1/split_2/train/mask/_Image_10L_3_1.png (deflated 7%)\n",
            "  adding: chase_db_320_320_dice_bce_0_4__hvr_0_4_1/split_2/train/mask/_Image_02R_0_8.png (deflated 44%)\n",
            "  adding: chase_db_320_320_dice_bce_0_4__hvr_0_4_1/split_2/train/mask/_Image_07L_0_8.png (deflated 46%)\n",
            "  adding: chase_db_320_320_dice_bce_0_4__hvr_0_4_1/split_2/train/mask/_Image_08L_2_2.png (deflated 18%)\n",
            "  adding: chase_db_320_320_dice_bce_0_4__hvr_0_4_1/split_2/train/mask/_Image_03R_0_6.png (deflated 11%)\n",
            "  adding: chase_db_320_320_dice_bce_0_4__hvr_0_4_1/split_2/train/mask/_Image_09L_1_10.png (deflated 15%)\n",
            "  adding: chase_db_320_320_dice_bce_0_4__hvr_0_4_1/split_2/train/mask/_Image_06L_1_0.png (deflated 61%)\n",
            "  adding: chase_db_320_320_dice_bce_0_4__hvr_0_4_1/split_2/train/mask/_Image_09R_0_7.png (deflated 30%)\n",
            "  adding: chase_db_320_320_dice_bce_0_4__hvr_0_4_1/split_2/train/mask/_Image_07L_3_4.png (deflated 17%)\n",
            "  adding: chase_db_320_320_dice_bce_0_4__hvr_0_4_1/split_2/train/mask/_Image_13R_1_7.png (deflated 35%)\n",
            "  adding: chase_db_320_320_dice_bce_0_4__hvr_0_4_1/split_2/train/mask/_Image_14R_1_3.png (deflated 67%)\n",
            "  adding: chase_db_320_320_dice_bce_0_4__hvr_0_4_1/split_2/train/mask/_Image_03L_2_3.png (deflated 35%)\n",
            "  adding: chase_db_320_320_dice_bce_0_4__hvr_0_4_1/split_2/train/mask/_Image_10R_1_9.png (deflated 13%)\n",
            "  adding: chase_db_320_320_dice_bce_0_4__hvr_0_4_1/split_2/train/mask/_Image_10L_1_10.png (deflated 15%)\n",
            "  adding: chase_db_320_320_dice_bce_0_4__hvr_0_4_1/split_2/train/mask/_Image_06L_1_3.png (deflated 60%)\n",
            "  adding: chase_db_320_320_dice_bce_0_4__hvr_0_4_1/split_2/train/mask/_Image_07L_2_8.png (deflated 26%)\n",
            "  adding: chase_db_320_320_dice_bce_0_4__hvr_0_4_1/split_2/train/mask/_Image_10R_1_10.png (deflated 14%)\n",
            "  adding: chase_db_320_320_dice_bce_0_4__hvr_0_4_1/split_2/train/mask/_Image_13R_3_10.png (deflated 17%)\n",
            "  adding: chase_db_320_320_dice_bce_0_4__hvr_0_4_1/split_2/train/mask/_Image_01L_0_9.png (deflated 16%)\n",
            "  adding: chase_db_320_320_dice_bce_0_4__hvr_0_4_1/split_2/train/mask/_Image_08R_3_5.png (deflated 10%)\n",
            "  adding: chase_db_320_320_dice_bce_0_4__hvr_0_4_1/split_2/train/mask/_Image_07R_2_4.png (deflated 10%)\n",
            "  adding: chase_db_320_320_dice_bce_0_4__hvr_0_4_1/split_2/train/mask/_Image_09L_3_4.png (deflated 38%)\n",
            "  adding: chase_db_320_320_dice_bce_0_4__hvr_0_4_1/split_2/train/mask/_Image_10R_0_9.png (deflated 13%)\n",
            "  adding: chase_db_320_320_dice_bce_0_4__hvr_0_4_1/split_2/train/mask/_Image_08R_1_1.png (deflated 15%)\n",
            "  adding: chase_db_320_320_dice_bce_0_4__hvr_0_4_1/split_2/train/mask/_Image_01R_1_8.png (deflated 49%)\n",
            "  adding: chase_db_320_320_dice_bce_0_4__hvr_0_4_1/split_2/train/mask/_Image_07R_1_1.png (deflated 14%)\n",
            "  adding: chase_db_320_320_dice_bce_0_4__hvr_0_4_1/split_2/train/mask/_Image_08R_0_7.png (deflated 33%)\n",
            "  adding: chase_db_320_320_dice_bce_0_4__hvr_0_4_1/split_2/train/mask/_Image_03L_1_1.png (deflated 15%)\n",
            "  adding: chase_db_320_320_dice_bce_0_4__hvr_0_4_1/split_2/train/mask/_Image_05L_3_3.png (deflated 46%)\n",
            "  adding: chase_db_320_320_dice_bce_0_4__hvr_0_4_1/split_2/train/mask/_Image_14L_3_4.png (deflated 24%)\n",
            "  adding: chase_db_320_320_dice_bce_0_4__hvr_0_4_1/split_2/train/mask/_Image_08R_3_9.png (deflated 15%)\n",
            "  adding: chase_db_320_320_dice_bce_0_4__hvr_0_4_1/split_2/train/mask/_Image_05R_1_3.png (deflated 30%)\n",
            "  adding: chase_db_320_320_dice_bce_0_4__hvr_0_4_1/split_2/train/mask/_Image_05L_1_6.png (deflated 11%)\n",
            "  adding: chase_db_320_320_dice_bce_0_4__hvr_0_4_1/split_2/train/mask/_Image_09R_1_5.png (deflated 11%)\n",
            "  adding: chase_db_320_320_dice_bce_0_4__hvr_0_4_1/split_2/train/mask/_Image_10R_3_2.png (deflated 11%)\n",
            "  adding: chase_db_320_320_dice_bce_0_4__hvr_0_4_1/split_2/train/mask/_Image_02R_2_4.png (deflated 20%)\n",
            "  adding: chase_db_320_320_dice_bce_0_4__hvr_0_4_1/split_2/train/mask/_Image_09L_1_8.png (deflated 53%)\n",
            "  adding: chase_db_320_320_dice_bce_0_4__hvr_0_4_1/split_2/train/mask/_Image_07L_0_0.png (deflated 26%)\n",
            "  adding: chase_db_320_320_dice_bce_0_4__hvr_0_4_1/split_2/train/mask/_Image_04R_0_10.png (deflated 21%)\n",
            "  adding: chase_db_320_320_dice_bce_0_4__hvr_0_4_1/split_2/train/mask/_Image_10L_1_11.png (deflated 68%)\n",
            "  adding: chase_db_320_320_dice_bce_0_4__hvr_0_4_1/split_2/train/mask/_Image_01R_1_1.png (deflated 18%)\n",
            "  adding: chase_db_320_320_dice_bce_0_4__hvr_0_4_1/split_2/train/mask/_Image_05L_2_3.png (deflated 45%)\n",
            "  adding: chase_db_320_320_dice_bce_0_4__hvr_0_4_1/split_2/train/mask/_Image_09L_2_1.png (deflated 16%)\n",
            "  adding: chase_db_320_320_dice_bce_0_4__hvr_0_4_1/split_2/train/mask/_Image_10R_1_2.png (deflated 14%)\n",
            "  adding: chase_db_320_320_dice_bce_0_4__hvr_0_4_1/split_2/train/mask/_Image_01L_3_7.png (deflated 15%)\n",
            "  adding: chase_db_320_320_dice_bce_0_4__hvr_0_4_1/split_2/train/mask/_Image_05L_2_1.png (deflated 10%)\n",
            "  adding: chase_db_320_320_dice_bce_0_4__hvr_0_4_1/split_2/train/mask/_Image_07R_1_2.png (deflated 14%)\n",
            "  adding: chase_db_320_320_dice_bce_0_4__hvr_0_4_1/split_2/train/mask/_Image_10L_0_10.png (deflated 13%)\n",
            "  adding: chase_db_320_320_dice_bce_0_4__hvr_0_4_1/split_2/train/mask/_Image_14L_0_11.png (deflated 54%)\n",
            "  adding: chase_db_320_320_dice_bce_0_4__hvr_0_4_1/split_2/train/mask/_Image_06L_2_8.png (deflated 59%)\n",
            "  adding: chase_db_320_320_dice_bce_0_4__hvr_0_4_1/split_2/train/mask/_Image_10R_3_0.png (deflated 20%)\n",
            "  adding: chase_db_320_320_dice_bce_0_4__hvr_0_4_1/split_2/train/mask/_Image_05L_0_11.png (deflated 45%)\n",
            "  adding: chase_db_320_320_dice_bce_0_4__hvr_0_4_1/split_2/train/mask/_Image_05R_1_7.png (deflated 22%)\n",
            "  adding: chase_db_320_320_dice_bce_0_4__hvr_0_4_1/split_2/train/mask/_Image_04R_0_9.png (deflated 9%)\n",
            "  adding: chase_db_320_320_dice_bce_0_4__hvr_0_4_1/split_2/train/mask/_Image_07R_1_10.png (deflated 12%)\n",
            "  adding: chase_db_320_320_dice_bce_0_4__hvr_0_4_1/split_2/train/mask/_Image_14R_0_10.png (deflated 14%)\n",
            "  adding: chase_db_320_320_dice_bce_0_4__hvr_0_4_1/split_2/train/mask/_Image_08R_0_6.png (deflated 10%)\n",
            "  adding: chase_db_320_320_dice_bce_0_4__hvr_0_4_1/split_2/train/mask/_Image_14L_0_7.png (deflated 30%)\n",
            "  adding: chase_db_320_320_dice_bce_0_4__hvr_0_4_1/split_2/train/mask/_Image_08L_3_8.png (deflated 24%)\n",
            "  adding: chase_db_320_320_dice_bce_0_4__hvr_0_4_1/split_2/train/mask/_Image_02L_0_1.png (deflated 20%)\n",
            "  adding: chase_db_320_320_dice_bce_0_4__hvr_0_4_1/split_2/train/mask/_Image_03L_2_2.png (deflated 12%)\n",
            "  adding: chase_db_320_320_dice_bce_0_4__hvr_0_4_1/split_2/train/mask/_Image_04L_1_2.png (deflated 14%)\n",
            "  adding: chase_db_320_320_dice_bce_0_4__hvr_0_4_1/split_2/train/mask/_Image_06L_2_3.png (deflated 54%)\n",
            "  adding: chase_db_320_320_dice_bce_0_4__hvr_0_4_1/split_2/train/mask/_Image_14L_0_10.png (deflated 15%)\n",
            "  adding: chase_db_320_320_dice_bce_0_4__hvr_0_4_1/split_2/train/mask/_Image_06R_0_1.png (deflated 15%)\n",
            "  adding: chase_db_320_320_dice_bce_0_4__hvr_0_4_1/split_2/train/mask/_Image_09L_0_4.png (deflated 23%)\n",
            "  adding: chase_db_320_320_dice_bce_0_4__hvr_0_4_1/split_2/train/mask/_Image_01L_0_1.png (deflated 15%)\n",
            "  adding: chase_db_320_320_dice_bce_0_4__hvr_0_4_1/split_2/train/mask/_Image_07L_2_4.png (deflated 20%)\n",
            "  adding: chase_db_320_320_dice_bce_0_4__hvr_0_4_1/split_2/train/mask/_Image_01L_3_8.png (deflated 22%)\n",
            "  adding: chase_db_320_320_dice_bce_0_4__hvr_0_4_1/split_2/train/mask/_Image_07R_1_8.png (deflated 36%)\n",
            "  adding: chase_db_320_320_dice_bce_0_4__hvr_0_4_1/split_2/train/mask/_Image_08R_1_11.png (deflated 59%)\n",
            "  adding: chase_db_320_320_dice_bce_0_4__hvr_0_4_1/split_2/train/mask/_Image_02R_0_10.png (deflated 14%)\n",
            "  adding: chase_db_320_320_dice_bce_0_4__hvr_0_4_1/split_2/train/mask/_Image_02L_3_2.png (deflated 10%)\n",
            "  adding: chase_db_320_320_dice_bce_0_4__hvr_0_4_1/split_2/train/mask/_Image_02R_3_5.png (deflated 6%)\n",
            "  adding: chase_db_320_320_dice_bce_0_4__hvr_0_4_1/split_2/train/mask/_Image_09R_3_4.png (deflated 7%)\n",
            "  adding: chase_db_320_320_dice_bce_0_4__hvr_0_4_1/split_2/train/mask/_Image_14L_1_0.png (deflated 44%)\n",
            "  adding: chase_db_320_320_dice_bce_0_4__hvr_0_4_1/split_2/train/mask/_Image_13R_2_7.png (deflated 19%)\n",
            "  adding: chase_db_320_320_dice_bce_0_4__hvr_0_4_1/split_2/train/mask/_Image_02L_0_4.png (deflated 10%)\n",
            "  adding: chase_db_320_320_dice_bce_0_4__hvr_0_4_1/split_2/train/mask/_Image_08R_0_1.png (deflated 17%)\n",
            "  adding: chase_db_320_320_dice_bce_0_4__hvr_0_4_1/split_2/train/mask/_Image_05L_2_2.png (deflated 11%)\n",
            "  adding: chase_db_320_320_dice_bce_0_4__hvr_0_4_1/split_2/train/mask/_Image_09L_0_11.png (deflated 54%)\n",
            "  adding: chase_db_320_320_dice_bce_0_4__hvr_0_4_1/split_2/train/mask/_Image_07R_3_4.png (deflated 7%)\n",
            "  adding: chase_db_320_320_dice_bce_0_4__hvr_0_4_1/split_2/train/mask/_Image_09L_1_9.png (deflated 11%)\n",
            "  adding: chase_db_320_320_dice_bce_0_4__hvr_0_4_1/split_2/train/mask/_Image_03R_0_8.png (deflated 38%)\n",
            "  adding: chase_db_320_320_dice_bce_0_4__hvr_0_4_1/split_2/train/mask/_Image_10R_1_6.png (deflated 12%)\n",
            "  adding: chase_db_320_320_dice_bce_0_4__hvr_0_4_1/split_2/train/mask/_Image_14L_2_3.png (deflated 54%)\n",
            "  adding: chase_db_320_320_dice_bce_0_4__hvr_0_4_1/split_2/train/mask/_Image_04L_0_6.png (deflated 7%)\n",
            "  adding: chase_db_320_320_dice_bce_0_4__hvr_0_4_1/split_2/train/mask/_Image_06L_0_2.png (deflated 14%)\n",
            "  adding: chase_db_320_320_dice_bce_0_4__hvr_0_4_1/split_2/train/mask/_Image_03R_1_4.png (deflated 38%)\n",
            "  adding: chase_db_320_320_dice_bce_0_4__hvr_0_4_1/split_2/train/mask/_Image_04L_1_11.png (deflated 42%)\n",
            "  adding: chase_db_320_320_dice_bce_0_4__hvr_0_4_1/split_2/train/mask/_Image_13R_3_5.png (deflated 9%)\n",
            "  adding: chase_db_320_320_dice_bce_0_4__hvr_0_4_1/split_2/train/mask/_Image_02R_0_6.png (deflated 12%)\n",
            "  adding: chase_db_320_320_dice_bce_0_4__hvr_0_4_1/split_2/train/mask/_Image_08L_2_11.png (deflated 46%)\n",
            "  adding: chase_db_320_320_dice_bce_0_4__hvr_0_4_1/split_2/train/mask/_Image_01L_2_1.png (deflated 17%)\n",
            "  adding: chase_db_320_320_dice_bce_0_4__hvr_0_4_1/split_2/train/mask/_Image_02L_2_3.png (deflated 40%)\n",
            "  adding: chase_db_320_320_dice_bce_0_4__hvr_0_4_1/split_2/train/mask/_Image_09R_2_0.png (deflated 86%)\n",
            "  adding: chase_db_320_320_dice_bce_0_4__hvr_0_4_1/split_2/train/mask/_Image_09R_1_2.png (deflated 16%)\n",
            "  adding: chase_db_320_320_dice_bce_0_4__hvr_0_4_1/split_2/train/mask/_Image_05L_2_10.png (deflated 12%)\n",
            "  adding: chase_db_320_320_dice_bce_0_4__hvr_0_4_1/split_2/train/mask/_Image_14R_1_0.png (deflated 72%)\n",
            "  adding: chase_db_320_320_dice_bce_0_4__hvr_0_4_1/split_2/train/mask/_Image_09L_2_4.png (deflated 22%)\n",
            "  adding: chase_db_320_320_dice_bce_0_4__hvr_0_4_1/split_2/train/mask/_Image_10L_3_8.png (deflated 9%)\n",
            "  adding: chase_db_320_320_dice_bce_0_4__hvr_0_4_1/split_2/train/mask/_Image_08L_0_5.png (deflated 9%)\n",
            "  adding: chase_db_320_320_dice_bce_0_4__hvr_0_4_1/split_2/train/mask/_Image_01R_0_9.png (deflated 10%)\n",
            "  adding: chase_db_320_320_dice_bce_0_4__hvr_0_4_1/split_2/train/mask/_Image_06L_3_3.png (deflated 64%)\n",
            "  adding: chase_db_320_320_dice_bce_0_4__hvr_0_4_1/split_2/train/mask/_Image_02R_2_1.png (deflated 10%)\n",
            "  adding: chase_db_320_320_dice_bce_0_4__hvr_0_4_1/split_2/train/mask/_Image_01R_0_2.png (deflated 18%)\n",
            "  adding: chase_db_320_320_dice_bce_0_4__hvr_0_4_1/split_2/train/mask/_Image_07R_0_5.png (deflated 6%)\n",
            "  adding: chase_db_320_320_dice_bce_0_4__hvr_0_4_1/split_2/train/mask/_Image_02R_0_1.png (deflated 12%)\n",
            "  adding: chase_db_320_320_dice_bce_0_4__hvr_0_4_1/split_2/train/mask/_Image_10L_2_7.png (deflated 29%)\n",
            "  adding: chase_db_320_320_dice_bce_0_4__hvr_0_4_1/split_2/train/mask/_Image_01R_3_0.png (deflated 35%)\n",
            "  adding: chase_db_320_320_dice_bce_0_4__hvr_0_4_1/split_2/train/mask/_Image_04L_2_10.png (deflated 8%)\n",
            "  adding: chase_db_320_320_dice_bce_0_4__hvr_0_4_1/split_2/train/mask/_Image_03R_2_7.png (deflated 38%)\n",
            "  adding: chase_db_320_320_dice_bce_0_4__hvr_0_4_1/split_2/train/mask/_Image_08R_2_2.png (deflated 13%)\n",
            "  adding: chase_db_320_320_dice_bce_0_4__hvr_0_4_1/split_2/train/mask/_Image_05L_3_2.png (deflated 9%)\n",
            "  adding: chase_db_320_320_dice_bce_0_4__hvr_0_4_1/split_2/train/mask/_Image_10L_0_5.png (deflated 10%)\n",
            "  adding: chase_db_320_320_dice_bce_0_4__hvr_0_4_1/split_2/train/mask/_Image_14R_2_0.png (deflated 86%)\n",
            "  adding: chase_db_320_320_dice_bce_0_4__hvr_0_4_1/split_2/train/mask/_Image_05R_1_6.png (deflated 11%)\n",
            "  adding: chase_db_320_320_dice_bce_0_4__hvr_0_4_1/split_2/train/mask/_Image_09R_0_10.png (deflated 8%)\n",
            "  adding: chase_db_320_320_dice_bce_0_4__hvr_0_4_1/split_2/train/mask/_Image_05L_3_7.png (deflated 25%)\n",
            "  adding: chase_db_320_320_dice_bce_0_4__hvr_0_4_1/split_2/train/mask/_Image_03L_3_9.png (deflated 10%)\n",
            "  adding: chase_db_320_320_dice_bce_0_4__hvr_0_4_1/split_2/train/mask/_Image_03R_1_0.png (deflated 48%)\n",
            "  adding: chase_db_320_320_dice_bce_0_4__hvr_0_4_1/split_2/train/mask/_Image_09L_2_5.png (deflated 7%)\n",
            "  adding: chase_db_320_320_dice_bce_0_4__hvr_0_4_1/split_2/train/mask/_Image_02R_1_0.png (deflated 50%)\n",
            "  adding: chase_db_320_320_dice_bce_0_4__hvr_0_4_1/split_2/train/mask/_Image_04R_0_11.png (deflated 70%)\n",
            "  adding: chase_db_320_320_dice_bce_0_4__hvr_0_4_1/split_2/train/mask/_Image_07L_0_11.png (deflated 37%)\n",
            "  adding: chase_db_320_320_dice_bce_0_4__hvr_0_4_1/split_2/train/mask/_Image_06L_0_8.png (deflated 52%)\n",
            "  adding: chase_db_320_320_dice_bce_0_4__hvr_0_4_1/split_2/train/mask/_Image_09L_3_0.png (deflated 30%)\n",
            "  adding: chase_db_320_320_dice_bce_0_4__hvr_0_4_1/split_2/train/mask/_Image_06L_3_2.png (deflated 10%)\n",
            "  adding: chase_db_320_320_dice_bce_0_4__hvr_0_4_1/split_2/train/mask/_Image_07R_0_1.png (deflated 15%)\n",
            "  adding: chase_db_320_320_dice_bce_0_4__hvr_0_4_1/split_2/train/mask/_Image_07R_3_0.png (deflated 46%)\n",
            "  adding: chase_db_320_320_dice_bce_0_4__hvr_0_4_1/split_2/train/mask/_Image_13R_0_7.png (deflated 21%)\n",
            "  adding: chase_db_320_320_dice_bce_0_4__hvr_0_4_1/split_2/train/mask/_Image_14R_0_1.png (deflated 18%)\n",
            "  adding: chase_db_320_320_dice_bce_0_4__hvr_0_4_1/split_2/train/mask/_Image_08L_0_11.png (deflated 75%)\n",
            "  adding: chase_db_320_320_dice_bce_0_4__hvr_0_4_1/split_2/train/mask/_Image_03R_2_2.png (deflated 19%)\n",
            "  adding: chase_db_320_320_dice_bce_0_4__hvr_0_4_1/split_2/train/mask/_Image_05R_2_7.png (deflated 31%)\n",
            "  adding: chase_db_320_320_dice_bce_0_4__hvr_0_4_1/split_2/train/mask/_Image_04L_2_3.png (deflated 82%)\n",
            "  adding: chase_db_320_320_dice_bce_0_4__hvr_0_4_1/split_2/train/mask/_Image_06R_2_3.png (deflated 63%)\n",
            "  adding: chase_db_320_320_dice_bce_0_4__hvr_0_4_1/split_2/train/mask/_Image_02L_3_3.png (deflated 26%)\n",
            "  adding: chase_db_320_320_dice_bce_0_4__hvr_0_4_1/split_2/train/mask/_Image_06L_1_7.png (deflated 28%)\n",
            "  adding: chase_db_320_320_dice_bce_0_4__hvr_0_4_1/split_2/train/mask/_Image_10R_2_8.png (deflated 32%)\n",
            "  adding: chase_db_320_320_dice_bce_0_4__hvr_0_4_1/split_2/train/mask/_Image_14L_3_8.png (deflated 7%)\n",
            "  adding: chase_db_320_320_dice_bce_0_4__hvr_0_4_1/split_2/train/mask/_Image_03R_0_9.png (deflated 10%)\n",
            "  adding: chase_db_320_320_dice_bce_0_4__hvr_0_4_1/split_2/train/mask/_Image_05L_3_6.png (deflated 9%)\n",
            "  adding: chase_db_320_320_dice_bce_0_4__hvr_0_4_1/split_2/train/mask/_Image_07R_0_9.png (deflated 11%)\n",
            "  adding: chase_db_320_320_dice_bce_0_4__hvr_0_4_1/split_2/train/mask/_Image_06R_3_10.png (deflated 10%)\n",
            "  adding: chase_db_320_320_dice_bce_0_4__hvr_0_4_1/split_2/train/mask/_Image_08L_3_7.png (deflated 17%)\n",
            "  adding: chase_db_320_320_dice_bce_0_4__hvr_0_4_1/split_2/train/mask/_Image_04R_0_1.png (deflated 12%)\n",
            "  adding: chase_db_320_320_dice_bce_0_4__hvr_0_4_1/split_2/train/mask/_Image_02R_3_9.png (deflated 9%)\n",
            "  adding: chase_db_320_320_dice_bce_0_4__hvr_0_4_1/split_2/train/mask/_Image_07L_2_2.png (deflated 12%)\n",
            "  adding: chase_db_320_320_dice_bce_0_4__hvr_0_4_1/split_2/train/mask/_Image_09R_1_6.png (deflated 9%)\n",
            "  adding: chase_db_320_320_dice_bce_0_4__hvr_0_4_1/split_2/train/mask/_Image_01L_3_6.png (deflated 9%)\n",
            "  adding: chase_db_320_320_dice_bce_0_4__hvr_0_4_1/split_2/train/mask/_Image_07R_2_3.png (deflated 36%)\n",
            "  adding: chase_db_320_320_dice_bce_0_4__hvr_0_4_1/split_2/train/mask/_Image_05L_1_8.png (deflated 44%)\n",
            "  adding: chase_db_320_320_dice_bce_0_4__hvr_0_4_1/split_2/train/mask/_Image_02R_1_5.png (deflated 12%)\n",
            "  adding: chase_db_320_320_dice_bce_0_4__hvr_0_4_1/split_2/train/mask/_Image_02L_0_0.png (deflated 42%)\n",
            "  adding: chase_db_320_320_dice_bce_0_4__hvr_0_4_1/split_2/train/mask/_Image_07R_3_10.png (deflated 10%)\n",
            "  adding: chase_db_320_320_dice_bce_0_4__hvr_0_4_1/split_2/train/mask/_Image_10L_0_11.png (deflated 57%)\n",
            "  adding: chase_db_320_320_dice_bce_0_4__hvr_0_4_1/split_2/train/mask/_Image_02R_1_6.png (deflated 7%)\n",
            "  adding: chase_db_320_320_dice_bce_0_4__hvr_0_4_1/split_2/train/mask/_Image_06L_1_9.png (deflated 14%)\n",
            "  adding: chase_db_320_320_dice_bce_0_4__hvr_0_4_1/split_2/train/mask/_Image_01R_3_5.png (deflated 9%)\n",
            "  adding: chase_db_320_320_dice_bce_0_4__hvr_0_4_1/split_2/train/mask/_Image_14L_3_3.png (deflated 17%)\n",
            "  adding: chase_db_320_320_dice_bce_0_4__hvr_0_4_1/split_2/train/mask/_Image_09R_1_10.png (deflated 13%)\n",
            "  adding: chase_db_320_320_dice_bce_0_4__hvr_0_4_1/split_2/train/mask/_Image_10L_2_9.png (deflated 13%)\n",
            "  adding: chase_db_320_320_dice_bce_0_4__hvr_0_4_1/split_2/train/mask/_Image_09L_3_10.png (deflated 17%)\n",
            "  adding: chase_db_320_320_dice_bce_0_4__hvr_0_4_1/split_2/train/mask/_Image_13R_2_9.png (deflated 15%)\n",
            "  adding: chase_db_320_320_dice_bce_0_4__hvr_0_4_1/split_2/train/mask/_Image_10R_2_9.png (deflated 13%)\n",
            "  adding: chase_db_320_320_dice_bce_0_4__hvr_0_4_1/split_2/train/mask/_Image_08L_1_10.png (deflated 17%)\n",
            "  adding: chase_db_320_320_dice_bce_0_4__hvr_0_4_1/split_2/train/mask/_Image_07R_3_8.png (deflated 57%)\n",
            "  adding: chase_db_320_320_dice_bce_0_4__hvr_0_4_1/split_2/train/mask/_Image_01R_2_5.png (deflated 7%)\n",
            "  adding: chase_db_320_320_dice_bce_0_4__hvr_0_4_1/split_2/train/mask/_Image_14L_1_9.png (deflated 17%)\n",
            "  adding: chase_db_320_320_dice_bce_0_4__hvr_0_4_1/split_2/train/mask/_Image_01R_2_9.png (deflated 13%)\n",
            "  adding: chase_db_320_320_dice_bce_0_4__hvr_0_4_1/split_2/train/mask/_Image_08L_0_6.png (deflated 12%)\n",
            "  adding: chase_db_320_320_dice_bce_0_4__hvr_0_4_1/split_2/train/mask/_Image_01R_3_9.png (deflated 10%)\n",
            "  adding: chase_db_320_320_dice_bce_0_4__hvr_0_4_1/split_2/train/mask/_Image_04L_1_10.png (deflated 14%)\n",
            "  adding: chase_db_320_320_dice_bce_0_4__hvr_0_4_1/split_2/train/mask/_Image_08R_0_2.png (deflated 15%)\n",
            "  adding: chase_db_320_320_dice_bce_0_4__hvr_0_4_1/split_2/train/mask/_Image_08L_2_7.png (deflated 15%)\n",
            "  adding: chase_db_320_320_dice_bce_0_4__hvr_0_4_1/split_2/train/mask/_Image_04R_2_6.png (deflated 13%)\n",
            "  adding: chase_db_320_320_dice_bce_0_4__hvr_0_4_1/split_2/train/mask/_Image_10R_0_8.png (deflated 33%)\n",
            "  adding: chase_db_320_320_dice_bce_0_4__hvr_0_4_1/split_2/train/mask/_Image_09L_0_3.png (deflated 82%)\n",
            "  adding: chase_db_320_320_dice_bce_0_4__hvr_0_4_1/split_2/train/mask/_Image_01R_2_3.png (deflated 49%)\n",
            "  adding: chase_db_320_320_dice_bce_0_4__hvr_0_4_1/split_2/train/mask/_Image_05R_1_5.png (deflated 11%)\n",
            "  adding: chase_db_320_320_dice_bce_0_4__hvr_0_4_1/split_2/train/mask/_Image_04L_3_4.png (deflated 15%)\n",
            "  adding: chase_db_320_320_dice_bce_0_4__hvr_0_4_1/split_2/train/mask/_Image_13R_2_8.png (deflated 44%)\n",
            "  adding: chase_db_320_320_dice_bce_0_4__hvr_0_4_1/split_2/train/mask/_Image_01L_2_11.png (deflated 58%)\n",
            "  adding: chase_db_320_320_dice_bce_0_4__hvr_0_4_1/split_2/train/mask/_Image_14R_1_7.png (deflated 51%)\n",
            "  adding: chase_db_320_320_dice_bce_0_4__hvr_0_4_1/split_2/train/mask/_Image_07R_3_11.png (deflated 47%)\n",
            "  adding: chase_db_320_320_dice_bce_0_4__hvr_0_4_1/split_2/train/mask/_Image_14R_2_6.png (deflated 16%)\n",
            "  adding: chase_db_320_320_dice_bce_0_4__hvr_0_4_1/split_2/train/mask/_Image_04L_0_5.png (deflated 17%)\n",
            "  adding: chase_db_320_320_dice_bce_0_4__hvr_0_4_1/split_2/train/mask/_Image_03R_1_5.png (deflated 11%)\n",
            "  adding: chase_db_320_320_dice_bce_0_4__hvr_0_4_1/split_2/train/mask/_Image_04L_0_7.png (deflated 61%)\n",
            "  adding: chase_db_320_320_dice_bce_0_4__hvr_0_4_1/split_2/train/mask/_Image_08L_1_2.png (deflated 12%)\n",
            "  adding: chase_db_320_320_dice_bce_0_4__hvr_0_4_1/split_2/train/mask/_Image_10R_3_10.png (deflated 13%)\n",
            "  adding: chase_db_320_320_dice_bce_0_4__hvr_0_4_1/split_2/train/mask/_Image_14R_2_11.png (deflated 72%)\n",
            "  adding: chase_db_320_320_dice_bce_0_4__hvr_0_4_1/split_2/train/mask/_Image_13R_0_3.png (deflated 41%)\n",
            "  adding: chase_db_320_320_dice_bce_0_4__hvr_0_4_1/split_2/train/mask/_Image_08R_1_7.png (deflated 41%)\n",
            "  adding: chase_db_320_320_dice_bce_0_4__hvr_0_4_1/split_2/train/mask/_Image_10L_1_3.png (deflated 60%)\n",
            "  adding: chase_db_320_320_dice_bce_0_4__hvr_0_4_1/split_2/train/mask/_Image_03R_3_7.png (deflated 27%)\n",
            "  adding: chase_db_320_320_dice_bce_0_4__hvr_0_4_1/split_2/train/mask/_Image_06L_0_6.png (deflated 10%)\n",
            "  adding: chase_db_320_320_dice_bce_0_4__hvr_0_4_1/split_2/train/mask/_Image_14L_1_8.png (deflated 53%)\n",
            "  adding: chase_db_320_320_dice_bce_0_4__hvr_0_4_1/split_2/train/mask/_Image_01R_1_0.png (deflated 69%)\n",
            "  adding: chase_db_320_320_dice_bce_0_4__hvr_0_4_1/split_2/train/mask/_Image_05R_2_4.png (deflated 22%)\n",
            "  adding: chase_db_320_320_dice_bce_0_4__hvr_0_4_1/split_2/train/mask/_Image_10R_2_6.png (deflated 11%)\n",
            "  adding: chase_db_320_320_dice_bce_0_4__hvr_0_4_1/split_2/train/mask/_Image_08L_2_5.png (deflated 9%)\n",
            "  adding: chase_db_320_320_dice_bce_0_4__hvr_0_4_1/split_2/train/mask/_Image_10L_2_8.png (deflated 60%)\n",
            "  adding: chase_db_320_320_dice_bce_0_4__hvr_0_4_1/split_2/train/mask/_Image_07L_1_1.png (deflated 12%)\n",
            "  adding: chase_db_320_320_dice_bce_0_4__hvr_0_4_1/split_2/train/mask/_Image_05L_3_1.png (deflated 18%)\n",
            "  adding: chase_db_320_320_dice_bce_0_4__hvr_0_4_1/split_2/train/mask/_Image_04L_3_3.png (deflated 51%)\n",
            "  adding: chase_db_320_320_dice_bce_0_4__hvr_0_4_1/split_2/train/mask/_Image_10L_3_4.png (deflated 7%)\n",
            "  adding: chase_db_320_320_dice_bce_0_4__hvr_0_4_1/split_2/train/mask/_Image_06L_3_10.png (deflated 12%)\n",
            "  adding: chase_db_320_320_dice_bce_0_4__hvr_0_4_1/split_2/train/mask/_Image_05R_0_1.png (deflated 12%)\n",
            "  adding: chase_db_320_320_dice_bce_0_4__hvr_0_4_1/split_2/train/mask/_Image_01R_1_10.png (deflated 9%)\n",
            "  adding: chase_db_320_320_dice_bce_0_4__hvr_0_4_1/split_2/train/mask/_Image_04R_3_2.png (deflated 14%)\n",
            "  adding: chase_db_320_320_dice_bce_0_4__hvr_0_4_1/split_2/train/mask/_Image_10L_2_5.png (deflated 10%)\n",
            "  adding: chase_db_320_320_dice_bce_0_4__hvr_0_4_1/split_2/train/mask/_Image_02L_0_11.png (deflated 40%)\n",
            "  adding: chase_db_320_320_dice_bce_0_4__hvr_0_4_1/split_2/train/mask/_Image_03R_0_11.png (deflated 39%)\n",
            "  adding: chase_db_320_320_dice_bce_0_4__hvr_0_4_1/split_2/train/mask/_Image_14L_2_7.png (deflated 31%)\n",
            "  adding: chase_db_320_320_dice_bce_0_4__hvr_0_4_1/split_2/train/mask/_Image_10R_3_11.png (deflated 45%)\n",
            "  adding: chase_db_320_320_dice_bce_0_4__hvr_0_4_1/split_2/train/mask/_Image_14R_0_5.png (deflated 9%)\n",
            "  adding: chase_db_320_320_dice_bce_0_4__hvr_0_4_1/split_2/train/mask/_Image_13R_0_1.png (deflated 14%)\n",
            "  adding: chase_db_320_320_dice_bce_0_4__hvr_0_4_1/split_2/train/mask/_Image_08L_1_5.png (deflated 12%)\n",
            "  adding: chase_db_320_320_dice_bce_0_4__hvr_0_4_1/split_2/train/mask/_Image_14L_2_0.png (deflated 64%)\n",
            "  adding: chase_db_320_320_dice_bce_0_4__hvr_0_4_1/split_2/train/mask/_Image_03L_3_5.png (deflated 12%)\n",
            "  adding: chase_db_320_320_dice_bce_0_4__hvr_0_4_1/split_2/train/mask/_Image_14L_2_11.png (deflated 45%)\n",
            "  adding: chase_db_320_320_dice_bce_0_4__hvr_0_4_1/split_2/train/mask/_Image_09R_2_3.png (deflated 34%)\n",
            "  adding: chase_db_320_320_dice_bce_0_4__hvr_0_4_1/split_2/train/mask/_Image_14R_0_11.png (deflated 51%)\n",
            "  adding: chase_db_320_320_dice_bce_0_4__hvr_0_4_1/split_2/train/mask/_Image_03L_2_5.png (deflated 12%)\n",
            "  adding: chase_db_320_320_dice_bce_0_4__hvr_0_4_1/split_2/train/mask/_Image_06R_3_11.png (deflated 40%)\n",
            "  adding: chase_db_320_320_dice_bce_0_4__hvr_0_4_1/split_2/train/mask/_Image_03R_3_9.png (deflated 6%)\n",
            "  adding: chase_db_320_320_dice_bce_0_4__hvr_0_4_1/split_2/train/mask/_Image_06L_3_9.png (deflated 11%)\n",
            "  adding: chase_db_320_320_dice_bce_0_4__hvr_0_4_1/split_2/train/mask/_Image_10L_3_7.png (deflated 5%)\n",
            "  adding: chase_db_320_320_dice_bce_0_4__hvr_0_4_1/split_2/train/mask/_Image_06L_3_1.png (deflated 12%)\n",
            "  adding: chase_db_320_320_dice_bce_0_4__hvr_0_4_1/split_2/train/mask/_Image_04L_2_8.png (deflated 48%)\n",
            "  adding: chase_db_320_320_dice_bce_0_4__hvr_0_4_1/split_2/train/mask/_Image_01R_2_1.png (deflated 9%)\n",
            "  adding: chase_db_320_320_dice_bce_0_4__hvr_0_4_1/split_2/train/mask/_Image_14R_2_2.png (deflated 14%)\n",
            "  adding: chase_db_320_320_dice_bce_0_4__hvr_0_4_1/split_2/train/mask/_Image_07R_0_11.png (deflated 36%)\n",
            "  adding: chase_db_320_320_dice_bce_0_4__hvr_0_4_1/split_2/train/mask/_Image_13R_0_11.png (deflated 47%)\n",
            "  adding: chase_db_320_320_dice_bce_0_4__hvr_0_4_1/split_2/train/mask/_Image_03R_3_0.png (deflated 35%)\n",
            "  adding: chase_db_320_320_dice_bce_0_4__hvr_0_4_1/split_2/train/mask/_Image_13R_3_1.png (deflated 16%)\n",
            "  adding: chase_db_320_320_dice_bce_0_4__hvr_0_4_1/split_2/train/mask/_Image_05L_0_2.png (deflated 12%)\n",
            "  adding: chase_db_320_320_dice_bce_0_4__hvr_0_4_1/split_2/train/mask/_Image_05L_1_1.png (deflated 12%)\n",
            "  adding: chase_db_320_320_dice_bce_0_4__hvr_0_4_1/split_2/train/mask/_Image_07R_1_4.png (deflated 36%)\n",
            "  adding: chase_db_320_320_dice_bce_0_4__hvr_0_4_1/split_2/train/mask/_Image_14L_0_8.png (deflated 65%)\n",
            "  adding: chase_db_320_320_dice_bce_0_4__hvr_0_4_1/split_2/train/mask/_Image_06R_0_0.png (deflated 36%)\n",
            "  adding: chase_db_320_320_dice_bce_0_4__hvr_0_4_1/split_2/train/mask/_Image_05L_3_5.png (deflated 12%)\n",
            "  adding: chase_db_320_320_dice_bce_0_4__hvr_0_4_1/split_2/train/mask/_Image_09L_2_7.png (deflated 59%)\n",
            "  adding: chase_db_320_320_dice_bce_0_4__hvr_0_4_1/split_2/train/mask/_Image_09R_2_1.png (deflated 13%)\n",
            "  adding: chase_db_320_320_dice_bce_0_4__hvr_0_4_1/split_2/train/mask/_Image_04R_1_2.png (deflated 11%)\n",
            "  adding: chase_db_320_320_dice_bce_0_4__hvr_0_4_1/split_2/train/mask/_Image_05R_3_1.png (deflated 11%)\n",
            "  adding: chase_db_320_320_dice_bce_0_4__hvr_0_4_1/split_2/train/mask/_Image_04R_1_7.png (deflated 27%)\n",
            "  adding: chase_db_320_320_dice_bce_0_4__hvr_0_4_1/split_2/train/mask/_Image_07R_3_9.png (deflated 12%)\n",
            "  adding: chase_db_320_320_dice_bce_0_4__hvr_0_4_1/split_2/train/mask/_Image_08L_1_6.png (deflated 10%)\n",
            "  adding: chase_db_320_320_dice_bce_0_4__hvr_0_4_1/split_2/train/mask/_Image_14L_0_1.png (deflated 18%)\n",
            "  adding: chase_db_320_320_dice_bce_0_4__hvr_0_4_1/split_2/train/mask/_Image_08L_0_3.png (deflated 46%)\n",
            "  adding: chase_db_320_320_dice_bce_0_4__hvr_0_4_1/split_2/train/mask/_Image_03L_3_3.png (deflated 42%)\n",
            "  adding: chase_db_320_320_dice_bce_0_4__hvr_0_4_1/split_2/train/mask/_Image_10L_3_0.png (deflated 27%)\n",
            "  adding: chase_db_320_320_dice_bce_0_4__hvr_0_4_1/split_2/train/mask/_Image_01L_0_10.png (deflated 12%)\n",
            "  adding: chase_db_320_320_dice_bce_0_4__hvr_0_4_1/split_2/train/mask/_Image_04R_1_10.png (deflated 7%)\n",
            "  adding: chase_db_320_320_dice_bce_0_4__hvr_0_4_1/split_2/train/mask/_Image_07R_0_0.png (deflated 35%)\n",
            "  adding: chase_db_320_320_dice_bce_0_4__hvr_0_4_1/split_2/train/mask/_Image_03L_0_6.png (deflated 9%)\n",
            "  adding: chase_db_320_320_dice_bce_0_4__hvr_0_4_1/split_2/train/mask/_Image_10L_0_0.png (deflated 60%)\n",
            "  adding: chase_db_320_320_dice_bce_0_4__hvr_0_4_1/split_2/train/mask/_Image_03R_1_3.png (deflated 32%)\n",
            "  adding: chase_db_320_320_dice_bce_0_4__hvr_0_4_1/split_2/train/mask/_Image_08R_1_0.png (deflated 47%)\n",
            "  adding: chase_db_320_320_dice_bce_0_4__hvr_0_4_1/split_2/train/mask/_Image_06R_0_8.png (deflated 56%)\n",
            "  adding: chase_db_320_320_dice_bce_0_4__hvr_0_4_1/split_2/train/mask/_Image_03R_3_10.png (deflated 13%)\n",
            "  adding: chase_db_320_320_dice_bce_0_4__hvr_0_4_1/split_2/train/mask/_Image_07R_3_5.png (deflated 6%)\n",
            "  adding: chase_db_320_320_dice_bce_0_4__hvr_0_4_1/split_2/train/mask/_Image_08L_3_0.png (deflated 23%)\n",
            "  adding: chase_db_320_320_dice_bce_0_4__hvr_0_4_1/split_2/train/mask/_Image_13R_1_5.png (deflated 14%)\n",
            "  adding: chase_db_320_320_dice_bce_0_4__hvr_0_4_1/split_2/train/mask/_Image_07L_0_4.png (deflated 20%)\n",
            "  adding: chase_db_320_320_dice_bce_0_4__hvr_0_4_1/split_2/train/mask/_Image_03R_2_6.png (deflated 11%)\n",
            "  adding: chase_db_320_320_dice_bce_0_4__hvr_0_4_1/split_2/train/mask/_Image_13R_1_6.png (deflated 8%)\n",
            "  adding: chase_db_320_320_dice_bce_0_4__hvr_0_4_1/split_2/train/mask/_Image_09L_0_1.png (deflated 12%)\n",
            "  adding: chase_db_320_320_dice_bce_0_4__hvr_0_4_1/split_2/train/mask/_Image_03L_2_6.png (deflated 9%)\n",
            "  adding: chase_db_320_320_dice_bce_0_4__hvr_0_4_1/split_2/train/mask/_Image_08R_3_4.png (deflated 10%)\n",
            "  adding: chase_db_320_320_dice_bce_0_4__hvr_0_4_1/split_2/train/mask/_Image_04L_3_10.png (deflated 8%)\n",
            "  adding: chase_db_320_320_dice_bce_0_4__hvr_0_4_1/split_2/train/mask/_Image_04R_0_0.png (deflated 77%)\n",
            "  adding: chase_db_320_320_dice_bce_0_4__hvr_0_4_1/split_2/train/mask/_Image_08R_3_11.png (deflated 19%)\n",
            "  adding: chase_db_320_320_dice_bce_0_4__hvr_0_4_1/split_2/train/mask/_Image_07R_1_0.png (deflated 65%)\n",
            "  adding: chase_db_320_320_dice_bce_0_4__hvr_0_4_1/split_2/train/mask/_Image_02L_2_10.png (deflated 12%)\n",
            "  adding: chase_db_320_320_dice_bce_0_4__hvr_0_4_1/split_2/train/mask/_Image_01R_0_5.png (deflated 6%)\n",
            "  adding: chase_db_320_320_dice_bce_0_4__hvr_0_4_1/split_2/train/mask/_Image_05R_0_11.png (deflated 43%)\n",
            "  adding: chase_db_320_320_dice_bce_0_4__hvr_0_4_1/split_2/train/mask/_Image_08L_1_4.png (deflated 15%)\n",
            "  adding: chase_db_320_320_dice_bce_0_4__hvr_0_4_1/split_2/train/mask/_Image_06R_2_9.png (deflated 15%)\n",
            "  adding: chase_db_320_320_dice_bce_0_4__hvr_0_4_1/split_2/train/mask/_Image_07L_2_1.png (deflated 10%)\n",
            "  adding: chase_db_320_320_dice_bce_0_4__hvr_0_4_1/split_2/train/mask/_Image_14L_2_8.png (deflated 60%)\n",
            "  adding: chase_db_320_320_dice_bce_0_4__hvr_0_4_1/split_2/train/mask/_Image_05L_1_10.png (deflated 9%)\n",
            "  adding: chase_db_320_320_dice_bce_0_4__hvr_0_4_1/split_2/train/mask/_Image_03L_0_8.png (deflated 41%)\n",
            "  adding: chase_db_320_320_dice_bce_0_4__hvr_0_4_1/split_2/train/mask/_Image_04R_2_11.png (deflated 41%)\n",
            "  adding: chase_db_320_320_dice_bce_0_4__hvr_0_4_1/split_2/train/mask/_Image_02L_1_4.png (deflated 12%)\n",
            "  adding: chase_db_320_320_dice_bce_0_4__hvr_0_4_1/split_2/train/mask/_Image_10R_0_0.png (deflated 31%)\n",
            "  adding: chase_db_320_320_dice_bce_0_4__hvr_0_4_1/split_2/train/mask/_Image_06R_3_4.png (deflated 11%)\n",
            "  adding: chase_db_320_320_dice_bce_0_4__hvr_0_4_1/split_2/train/mask/_Image_09R_0_8.png (deflated 86%)\n",
            "  adding: chase_db_320_320_dice_bce_0_4__hvr_0_4_1/split_2/train/mask/_Image_09R_3_8.png (deflated 86%)\n",
            "  adding: chase_db_320_320_dice_bce_0_4__hvr_0_4_1/split_2/train/mask/_Image_08L_2_1.png (deflated 17%)\n",
            "  adding: chase_db_320_320_dice_bce_0_4__hvr_0_4_1/split_2/train/mask/_Image_09R_0_11.png (deflated 34%)\n",
            "  adding: chase_db_320_320_dice_bce_0_4__hvr_0_4_1/split_2/train/mask/_Image_14R_3_11.png (deflated 37%)\n",
            "  adding: chase_db_320_320_dice_bce_0_4__hvr_0_4_1/split_2/train/mask/_Image_14R_3_6.png (deflated 11%)\n",
            "  adding: chase_db_320_320_dice_bce_0_4__hvr_0_4_1/split_2/train/mask/_Image_08R_2_7.png (deflated 34%)\n",
            "  adding: chase_db_320_320_dice_bce_0_4__hvr_0_4_1/split_2/train/mask/_Image_08L_3_5.png (deflated 9%)\n",
            "  adding: chase_db_320_320_dice_bce_0_4__hvr_0_4_1/split_2/train/mask/_Image_06L_0_9.png (deflated 17%)\n",
            "  adding: chase_db_320_320_dice_bce_0_4__hvr_0_4_1/split_2/train/mask/_Image_10L_0_9.png (deflated 16%)\n",
            "  adding: chase_db_320_320_dice_bce_0_4__hvr_0_4_1/split_2/train/mask/_Image_08L_1_0.png (deflated 46%)\n",
            "  adding: chase_db_320_320_dice_bce_0_4__hvr_0_4_1/split_2/train/mask/_Image_03R_0_10.png (deflated 18%)\n",
            "  adding: chase_db_320_320_dice_bce_0_4__hvr_0_4_1/split_2/train/mask/_Image_07L_2_3.png (deflated 36%)\n",
            "  adding: chase_db_320_320_dice_bce_0_4__hvr_0_4_1/split_2/train/mask/_Image_08L_1_8.png (deflated 75%)\n",
            "  adding: chase_db_320_320_dice_bce_0_4__hvr_0_4_1/split_2/train/mask/_Image_04L_2_2.png (deflated 12%)\n",
            "  adding: chase_db_320_320_dice_bce_0_4__hvr_0_4_1/split_2/train/mask/_Image_06L_0_11.png (deflated 56%)\n",
            "  adding: chase_db_320_320_dice_bce_0_4__hvr_0_4_1/split_2/train/mask/_Image_04R_1_11.png (deflated 39%)\n",
            "  adding: chase_db_320_320_dice_bce_0_4__hvr_0_4_1/split_2/train/mask/_Image_14R_1_6.png (deflated 8%)\n",
            "  adding: chase_db_320_320_dice_bce_0_4__hvr_0_4_1/split_2/train/mask/_Image_03R_2_3.png (deflated 39%)\n",
            "  adding: chase_db_320_320_dice_bce_0_4__hvr_0_4_1/split_2/train/mask/_Image_09L_1_11.png (deflated 49%)\n",
            "  adding: chase_db_320_320_dice_bce_0_4__hvr_0_4_1/split_2/train/mask/_Image_06L_2_1.png (deflated 17%)\n",
            "  adding: chase_db_320_320_dice_bce_0_4__hvr_0_4_1/split_2/train/mask/_Image_02L_0_10.png (deflated 10%)\n",
            "  adding: chase_db_320_320_dice_bce_0_4__hvr_0_4_1/split_2/train/mask/_Image_13R_2_11.png (deflated 41%)\n",
            "  adding: chase_db_320_320_dice_bce_0_4__hvr_0_4_1/split_2/train/mask/_Image_08L_3_9.png (deflated 14%)\n",
            "  adding: chase_db_320_320_dice_bce_0_4__hvr_0_4_1/split_2/train/mask/_Image_09R_1_11.png (deflated 86%)\n",
            "  adding: chase_db_320_320_dice_bce_0_4__hvr_0_4_1/split_2/train/mask/_Image_03R_3_5.png (deflated 6%)\n",
            "  adding: chase_db_320_320_dice_bce_0_4__hvr_0_4_1/split_2/train/mask/_Image_02R_0_9.png (deflated 10%)\n",
            "  adding: chase_db_320_320_dice_bce_0_4__hvr_0_4_1/split_2/train/mask/_Image_14L_1_2.png (deflated 18%)\n",
            "  adding: chase_db_320_320_dice_bce_0_4__hvr_0_4_1/split_2/train/mask/_Image_05R_3_8.png (deflated 10%)\n",
            "  adding: chase_db_320_320_dice_bce_0_4__hvr_0_4_1/split_2/train/mask/_Image_06R_3_5.png (deflated 7%)\n",
            "  adding: chase_db_320_320_dice_bce_0_4__hvr_0_4_1/split_2/train/mask/_Image_04L_0_2.png (deflated 8%)\n",
            "  adding: chase_db_320_320_dice_bce_0_4__hvr_0_4_1/split_2/train/mask/_Image_02R_2_6.png (deflated 13%)\n",
            "  adding: chase_db_320_320_dice_bce_0_4__hvr_0_4_1/split_2/train/mask/_Image_10R_1_1.png (deflated 16%)\n",
            "  adding: chase_db_320_320_dice_bce_0_4__hvr_0_4_1/split_2/train/mask/_Image_02R_1_11.png (deflated 43%)\n",
            "  adding: chase_db_320_320_dice_bce_0_4__hvr_0_4_1/split_2/train/mask/_Image_03R_2_0.png (deflated 38%)\n",
            "  adding: chase_db_320_320_dice_bce_0_4__hvr_0_4_1/split_2/train/mask/_Image_02R_0_7.png (deflated 28%)\n",
            "  adding: chase_db_320_320_dice_bce_0_4__hvr_0_4_1/split_2/train/mask/_Image_14R_1_5.png (deflated 15%)\n",
            "  adding: chase_db_320_320_dice_bce_0_4__hvr_0_4_1/split_2/train/mask/_Image_03R_3_1.png (deflated 10%)\n",
            "  adding: chase_db_320_320_dice_bce_0_4__hvr_0_4_1/split_2/train/mask/_Image_09L_3_9.png (deflated 12%)\n",
            "  adding: chase_db_320_320_dice_bce_0_4__hvr_0_4_1/split_2/train/mask/_Image_04L_0_8.png (deflated 39%)\n",
            "  adding: chase_db_320_320_dice_bce_0_4__hvr_0_4_1/split_2/train/mask/_Image_04R_0_2.png (deflated 15%)\n",
            "  adding: chase_db_320_320_dice_bce_0_4__hvr_0_4_1/split_2/train/mask/_Image_05R_0_6.png (deflated 11%)\n",
            "  adding: chase_db_320_320_dice_bce_0_4__hvr_0_4_1/split_2/train/mask/_Image_09R_3_7.png (deflated 12%)\n",
            "  adding: chase_db_320_320_dice_bce_0_4__hvr_0_4_1/split_2/train/mask/_Image_01R_2_11.png (deflated 69%)\n",
            "  adding: chase_db_320_320_dice_bce_0_4__hvr_0_4_1/split_2/train/mask/_Image_08L_1_3.png (deflated 65%)\n",
            "  adding: chase_db_320_320_dice_bce_0_4__hvr_0_4_1/split_2/train/mask/_Image_03L_0_4.png (deflated 28%)\n",
            "  adding: chase_db_320_320_dice_bce_0_4__hvr_0_4_1/split_2/train/mask/_Image_07R_1_11.png (deflated 46%)\n",
            "  adding: chase_db_320_320_dice_bce_0_4__hvr_0_4_1/split_2/train/mask/_Image_09L_2_2.png (deflated 12%)\n",
            "  adding: chase_db_320_320_dice_bce_0_4__hvr_0_4_1/split_2/train/mask/_Image_06R_1_1.png (deflated 14%)\n",
            "  adding: chase_db_320_320_dice_bce_0_4__hvr_0_4_1/split_2/train/mask/_Image_01R_1_6.png (deflated 6%)\n",
            "  adding: chase_db_320_320_dice_bce_0_4__hvr_0_4_1/split_2/train/mask/_Image_08R_0_4.png (deflated 40%)\n",
            "  adding: chase_db_320_320_dice_bce_0_4__hvr_0_4_1/split_2/train/mask/_Image_07L_2_9.png (deflated 14%)\n",
            "  adding: chase_db_320_320_dice_bce_0_4__hvr_0_4_1/split_2/train/mask/_Image_10L_3_6.png (deflated 11%)\n",
            "  adding: chase_db_320_320_dice_bce_0_4__hvr_0_4_1/split_2/train/mask/_Image_03R_3_8.png (deflated 86%)\n",
            "  adding: chase_db_320_320_dice_bce_0_4__hvr_0_4_1/split_2/train/mask/_Image_03L_3_1.png (deflated 10%)\n",
            "  adding: chase_db_320_320_dice_bce_0_4__hvr_0_4_1/split_2/train/mask/_Image_01R_3_2.png (deflated 16%)\n",
            "  adding: chase_db_320_320_dice_bce_0_4__hvr_0_4_1/split_2/train/mask/_Image_04R_3_0.png (deflated 38%)\n",
            "  adding: chase_db_320_320_dice_bce_0_4__hvr_0_4_1/split_2/train/mask/_Image_13R_2_0.png (deflated 52%)\n",
            "  adding: chase_db_320_320_dice_bce_0_4__hvr_0_4_1/split_2/train/mask/_Image_03L_0_9.png (deflated 11%)\n",
            "  adding: chase_db_320_320_dice_bce_0_4__hvr_0_4_1/split_2/train/mask/_Image_04R_0_8.png (deflated 39%)\n",
            "  adding: chase_db_320_320_dice_bce_0_4__hvr_0_4_1/split_2/train/mask/_Image_14L_0_2.png (deflated 11%)\n",
            "  adding: chase_db_320_320_dice_bce_0_4__hvr_0_4_1/split_2/train/mask/_Image_02R_3_6.png (deflated 9%)\n",
            "  adding: chase_db_320_320_dice_bce_0_4__hvr_0_4_1/split_2/train/mask/_Image_01L_1_7.png (deflated 49%)\n",
            "  adding: chase_db_320_320_dice_bce_0_4__hvr_0_4_1/split_2/train/mask/_Image_06L_3_4.png (deflated 25%)\n",
            "  adding: chase_db_320_320_dice_bce_0_4__hvr_0_4_1/split_2/train/mask/_Image_10R_0_5.png (deflated 11%)\n",
            "  adding: chase_db_320_320_dice_bce_0_4__hvr_0_4_1/split_2/train/mask/_Image_01L_0_6.png (deflated 9%)\n",
            "  adding: chase_db_320_320_dice_bce_0_4__hvr_0_4_1/split_2/train/mask/_Image_13R_3_6.png (deflated 13%)\n",
            "  adding: chase_db_320_320_dice_bce_0_4__hvr_0_4_1/split_2/train/mask/_Image_10L_0_3.png (deflated 46%)\n",
            "  adding: chase_db_320_320_dice_bce_0_4__hvr_0_4_1/split_2/train/mask/_Image_10R_2_10.png (deflated 15%)\n",
            "  adding: chase_db_320_320_dice_bce_0_4__hvr_0_4_1/split_2/train/mask/_Image_09R_0_3.png (deflated 63%)\n",
            "  adding: chase_db_320_320_dice_bce_0_4__hvr_0_4_1/split_2/train/mask/_Image_10R_1_8.png (deflated 86%)\n",
            "  adding: chase_db_320_320_dice_bce_0_4__hvr_0_4_1/split_2/train/mask/_Image_10R_2_0.png (deflated 32%)\n",
            "  adding: chase_db_320_320_dice_bce_0_4__hvr_0_4_1/split_2/train/mask/_Image_08R_2_10.png (deflated 15%)\n",
            "  adding: chase_db_320_320_dice_bce_0_4__hvr_0_4_1/split_2/train/mask/_Image_08R_1_6.png (deflated 8%)\n",
            "  adding: chase_db_320_320_dice_bce_0_4__hvr_0_4_1/split_2/train/mask/_Image_02L_3_8.png (deflated 31%)\n",
            "  adding: chase_db_320_320_dice_bce_0_4__hvr_0_4_1/split_2/train/mask/_Image_08L_2_10.png (deflated 15%)\n",
            "  adding: chase_db_320_320_dice_bce_0_4__hvr_0_4_1/split_2/train/mask/_Image_02L_1_10.png (deflated 14%)\n",
            "  adding: chase_db_320_320_dice_bce_0_4__hvr_0_4_1/split_2/train/mask/_Image_08R_0_9.png (deflated 8%)\n",
            "  adding: chase_db_320_320_dice_bce_0_4__hvr_0_4_1/split_2/train/mask/_Image_06R_1_11.png (deflated 57%)\n",
            "  adding: chase_db_320_320_dice_bce_0_4__hvr_0_4_1/split_2/train/mask/_Image_02R_3_2.png (deflated 13%)\n",
            "  adding: chase_db_320_320_dice_bce_0_4__hvr_0_4_1/split_2/train/mask/_Image_14R_0_7.png (deflated 47%)\n",
            "  adding: chase_db_320_320_dice_bce_0_4__hvr_0_4_1/split_2/train/mask/_Image_04R_3_5.png (deflated 9%)\n",
            "  adding: chase_db_320_320_dice_bce_0_4__hvr_0_4_1/split_2/train/mask/_Image_14R_0_6.png (deflated 16%)\n",
            "  adding: chase_db_320_320_dice_bce_0_4__hvr_0_4_1/split_2/train/mask/_Image_04L_2_11.png (deflated 48%)\n",
            "  adding: chase_db_320_320_dice_bce_0_4__hvr_0_4_1/split_2/train/mask/_Image_09L_0_7.png (deflated 60%)\n",
            "  adding: chase_db_320_320_dice_bce_0_4__hvr_0_4_1/split_2/train/mask/_Image_05R_1_9.png (deflated 13%)\n",
            "  adding: chase_db_320_320_dice_bce_0_4__hvr_0_4_1/split_2/train/mask/_Image_02L_3_10.png (deflated 10%)\n",
            "  adding: chase_db_320_320_dice_bce_0_4__hvr_0_4_1/split_2/train/mask/_Image_10L_3_9.png (deflated 14%)\n",
            "  adding: chase_db_320_320_dice_bce_0_4__hvr_0_4_1/split_2/train/mask/_Image_06L_1_6.png (deflated 10%)\n",
            "  adding: chase_db_320_320_dice_bce_0_4__hvr_0_4_1/split_2/train/mask/_Image_13R_1_8.png (deflated 47%)\n",
            "  adding: chase_db_320_320_dice_bce_0_4__hvr_0_4_1/split_2/train/mask/_Image_09L_3_3.png (deflated 78%)\n",
            "  adding: chase_db_320_320_dice_bce_0_4__hvr_0_4_1/split_2/train/mask/_Image_13R_0_0.png (deflated 44%)\n",
            "  adding: chase_db_320_320_dice_bce_0_4__hvr_0_4_1/split_2/train/mask/_Image_05L_3_0.png (deflated 58%)\n",
            "  adding: chase_db_320_320_dice_bce_0_4__hvr_0_4_1/split_2/train/mask/_Image_09R_3_6.png (deflated 11%)\n",
            "  adding: chase_db_320_320_dice_bce_0_4__hvr_0_4_1/split_2/train/mask/_Image_05L_1_2.png (deflated 18%)\n",
            "  adding: chase_db_320_320_dice_bce_0_4__hvr_0_4_1/split_2/train/mask/_Image_01L_3_1.png (deflated 12%)\n",
            "  adding: chase_db_320_320_dice_bce_0_4__hvr_0_4_1/split_2/train/mask/_Image_06R_1_0.png (deflated 58%)\n",
            "  adding: chase_db_320_320_dice_bce_0_4__hvr_0_4_1/split_2/train/mask/_Image_09L_0_0.png (deflated 75%)\n",
            "  adding: chase_db_320_320_dice_bce_0_4__hvr_0_4_1/split_2/train/mask/_Image_05L_0_0.png (deflated 42%)\n",
            "  adding: chase_db_320_320_dice_bce_0_4__hvr_0_4_1/split_2/train/mask/_Image_06R_2_2.png (deflated 12%)\n",
            "  adding: chase_db_320_320_dice_bce_0_4__hvr_0_4_1/split_2/train/mask/_Image_14R_3_2.png (deflated 15%)\n",
            "  adding: chase_db_320_320_dice_bce_0_4__hvr_0_4_1/split_2/train/mask/_Image_05R_2_8.png (deflated 29%)\n",
            "  adding: chase_db_320_320_dice_bce_0_4__hvr_0_4_1/split_2/train/mask/_Image_10L_2_2.png (deflated 14%)\n",
            "  adding: chase_db_320_320_dice_bce_0_4__hvr_0_4_1/split_2/train/mask/_Image_02R_1_8.png (deflated 47%)\n",
            "  adding: chase_db_320_320_dice_bce_0_4__hvr_0_4_1/split_2/train/mask/_Image_01R_3_3.png (deflated 19%)\n",
            "  adding: chase_db_320_320_dice_bce_0_4__hvr_0_4_1/split_2/train/mask/_Image_06R_3_6.png (deflated 11%)\n",
            "  adding: chase_db_320_320_dice_bce_0_4__hvr_0_4_1/split_2/train/mask/_Image_13R_3_0.png (deflated 45%)\n",
            "  adding: chase_db_320_320_dice_bce_0_4__hvr_0_4_1/split_2/train/mask/_Image_01L_0_5.png (deflated 9%)\n",
            "  adding: chase_db_320_320_dice_bce_0_4__hvr_0_4_1/split_2/train/mask/_Image_09L_1_0.png (deflated 81%)\n",
            "  adding: chase_db_320_320_dice_bce_0_4__hvr_0_4_1/split_2/train/mask/_Image_04R_3_9.png (deflated 12%)\n",
            "  adding: chase_db_320_320_dice_bce_0_4__hvr_0_4_1/split_2/train/mask/_Image_09R_1_1.png (deflated 21%)\n",
            "  adding: chase_db_320_320_dice_bce_0_4__hvr_0_4_1/split_2/train/mask/_Image_10L_0_2.png (deflated 10%)\n",
            "  adding: chase_db_320_320_dice_bce_0_4__hvr_0_4_1/split_2/train/mask/_Image_02R_0_0.png (deflated 61%)\n",
            "  adding: chase_db_320_320_dice_bce_0_4__hvr_0_4_1/split_2/train/mask/_Image_07L_1_9.png (deflated 12%)\n",
            "  adding: chase_db_320_320_dice_bce_0_4__hvr_0_4_1/split_2/train/mask/_Image_02L_3_6.png (deflated 9%)\n",
            "  adding: chase_db_320_320_dice_bce_0_4__hvr_0_4_1/split_2/train/mask/_Image_13R_0_2.png (deflated 19%)\n",
            "  adding: chase_db_320_320_dice_bce_0_4__hvr_0_4_1/split_2/train/mask/_Image_10R_2_7.png (deflated 51%)\n",
            "  adding: chase_db_320_320_dice_bce_0_4__hvr_0_4_1/split_2/train/mask/_Image_14L_1_6.png (deflated 11%)\n",
            "  adding: chase_db_320_320_dice_bce_0_4__hvr_0_4_1/split_2/train/mask/_Image_05L_0_5.png (deflated 11%)\n",
            "  adding: chase_db_320_320_dice_bce_0_4__hvr_0_4_1/split_2/train/mask/_Image_08R_0_0.png (deflated 55%)\n",
            "  adding: chase_db_320_320_dice_bce_0_4__hvr_0_4_1/split_2/train/mask/_Image_10R_2_5.png (deflated 11%)\n",
            "  adding: chase_db_320_320_dice_bce_0_4__hvr_0_4_1/split_2/train/mask/_Image_01R_3_1.png (deflated 9%)\n",
            "  adding: chase_db_320_320_dice_bce_0_4__hvr_0_4_1/split_2/train/mask/_Image_01L_0_8.png (deflated 53%)\n",
            "  adding: chase_db_320_320_dice_bce_0_4__hvr_0_4_1/split_2/train/mask/_Image_08L_0_1.png (deflated 13%)\n",
            "  adding: chase_db_320_320_dice_bce_0_4__hvr_0_4_1/split_2/train/mask/_Image_04L_1_3.png (deflated 47%)\n",
            "  adding: chase_db_320_320_dice_bce_0_4__hvr_0_4_1/split_2/train/mask/_Image_02L_1_2.png (deflated 21%)\n",
            "  adding: chase_db_320_320_dice_bce_0_4__hvr_0_4_1/split_2/train/mask/_Image_01R_1_7.png (deflated 21%)\n",
            "  adding: chase_db_320_320_dice_bce_0_4__hvr_0_4_1/split_2/train/mask/_Image_14R_0_0.png (deflated 66%)\n",
            "  adding: chase_db_320_320_dice_bce_0_4__hvr_0_4_1/split_2/train/mask/_Image_05L_2_5.png (deflated 11%)\n",
            "  adding: chase_db_320_320_dice_bce_0_4__hvr_0_4_1/split_2/train/mask/_Image_08R_0_11.png (deflated 37%)\n",
            "  adding: chase_db_320_320_dice_bce_0_4__hvr_0_4_1/split_2/train/mask/_Image_03L_1_10.png (deflated 11%)\n",
            "  adding: chase_db_320_320_dice_bce_0_4__hvr_0_4_1/split_2/train/mask/_Image_10R_2_4.png (deflated 15%)\n",
            "  adding: chase_db_320_320_dice_bce_0_4__hvr_0_4_1/split_2/train/mask/_Image_14L_0_4.png (deflated 22%)\n",
            "  adding: chase_db_320_320_dice_bce_0_4__hvr_0_4_1/split_2/train/mask/_Image_10R_2_2.png (deflated 13%)\n",
            "  adding: chase_db_320_320_dice_bce_0_4__hvr_0_4_1/split_2/train/mask/_Image_04L_0_9.png (deflated 13%)\n",
            "  adding: chase_db_320_320_dice_bce_0_4__hvr_0_4_1/split_2/train/mask/_Image_14R_2_8.png (deflated 66%)\n",
            "  adding: chase_db_320_320_dice_bce_0_4__hvr_0_4_1/split_2/train/mask/_Image_06L_2_6.png (deflated 11%)\n",
            "  adding: chase_db_320_320_dice_bce_0_4__hvr_0_4_1/split_2/train/mask/_Image_06L_1_5.png (deflated 10%)\n",
            "  adding: chase_db_320_320_dice_bce_0_4__hvr_0_4_1/split_2/train/mask/_Image_03L_1_11.png (deflated 42%)\n",
            "  adding: chase_db_320_320_dice_bce_0_4__hvr_0_4_1/split_2/train/mask/_Image_07L_1_0.png (deflated 44%)\n",
            "  adding: chase_db_320_320_dice_bce_0_4__hvr_0_4_1/split_2/train/mask/_Image_03R_2_8.png (deflated 32%)\n",
            "  adding: chase_db_320_320_dice_bce_0_4__hvr_0_4_1/split_2/train/mask/_Image_01R_1_5.png (deflated 12%)\n",
            "  adding: chase_db_320_320_dice_bce_0_4__hvr_0_4_1/split_2/train/mask/_Image_01L_1_4.png (deflated 23%)\n",
            "  adding: chase_db_320_320_dice_bce_0_4__hvr_0_4_1/split_2/train/mask/_Image_04R_2_5.png (deflated 7%)\n",
            "  adding: chase_db_320_320_dice_bce_0_4__hvr_0_4_1/split_2/train/mask/_Image_04L_0_3.png (deflated 49%)\n",
            "  adding: chase_db_320_320_dice_bce_0_4__hvr_0_4_1/split_2/train/mask/_Image_08L_2_8.png (deflated 64%)\n",
            "  adding: chase_db_320_320_dice_bce_0_4__hvr_0_4_1/split_2/train/mask/_Image_06R_2_6.png (deflated 13%)\n",
            "  adding: chase_db_320_320_dice_bce_0_4__hvr_0_4_1/split_2/train/mask/_Image_14L_3_0.png (deflated 21%)\n",
            "  adding: chase_db_320_320_dice_bce_0_4__hvr_0_4_1/split_2/train/mask/_Image_04R_3_4.png (deflated 10%)\n",
            "  adding: chase_db_320_320_dice_bce_0_4__hvr_0_4_1/split_2/train/mask/_Image_14R_3_3.png (deflated 34%)\n",
            "  adding: chase_db_320_320_dice_bce_0_4__hvr_0_4_1/split_2/train/mask/_Image_09R_0_4.png (deflated 81%)\n",
            "  adding: chase_db_320_320_dice_bce_0_4__hvr_0_4_1/split_2/train/mask/_Image_10R_0_1.png (deflated 14%)\n",
            "  adding: chase_db_320_320_dice_bce_0_4__hvr_0_4_1/split_2/train/mask/_Image_06L_1_2.png (deflated 18%)\n",
            "  adding: chase_db_320_320_dice_bce_0_4__hvr_0_4_1/split_2/train/mask/_Image_10R_0_7.png (deflated 51%)\n",
            "  adding: chase_db_320_320_dice_bce_0_4__hvr_0_4_1/split_2/train/mask/_Image_09R_1_0.png (deflated 62%)\n",
            "  adding: chase_db_320_320_dice_bce_0_4__hvr_0_4_1/split_2/train/mask/_Image_05R_2_11.png (deflated 63%)\n",
            "  adding: chase_db_320_320_dice_bce_0_4__hvr_0_4_1/split_2/train/mask/_Image_04L_3_1.png (deflated 14%)\n",
            "  adding: chase_db_320_320_dice_bce_0_4__hvr_0_4_1/split_2/train/mask/_Image_10L_1_6.png (deflated 11%)\n",
            "  adding: chase_db_320_320_dice_bce_0_4__hvr_0_4_1/split_2/train/mask/_Image_13R_0_8.png (deflated 52%)\n",
            "  adding: chase_db_320_320_dice_bce_0_4__hvr_0_4_1/split_2/train/mask/_Image_14L_3_1.png (deflated 12%)\n",
            "  adding: chase_db_320_320_dice_bce_0_4__hvr_0_4_1/split_2/train/mask/_Image_09R_3_0.png (deflated 20%)\n",
            "  adding: chase_db_320_320_dice_bce_0_4__hvr_0_4_1/split_2/train/mask/_Image_05L_3_9.png (deflated 10%)\n",
            "  adding: chase_db_320_320_dice_bce_0_4__hvr_0_4_1/split_2/train/mask/_Image_01L_2_7.png (deflated 21%)\n",
            "  adding: chase_db_320_320_dice_bce_0_4__hvr_0_4_1/split_2/train/mask/_Image_06R_1_8.png (deflated 63%)\n",
            "  adding: chase_db_320_320_dice_bce_0_4__hvr_0_4_1/split_2/train/mask/_Image_07L_3_2.png (deflated 13%)\n",
            "  adding: chase_db_320_320_dice_bce_0_4__hvr_0_4_1/split_2/train/mask/_Image_08L_1_7.png (deflated 37%)\n",
            "  adding: chase_db_320_320_dice_bce_0_4__hvr_0_4_1/split_2/train/mask/_Image_09R_1_7.png (deflated 80%)\n",
            "  adding: chase_db_320_320_dice_bce_0_4__hvr_0_4_1/split_2/train/mask/_Image_09R_0_9.png (deflated 13%)\n",
            "  adding: chase_db_320_320_dice_bce_0_4__hvr_0_4_1/split_2/train/mask/_Image_05R_0_2.png (deflated 18%)\n",
            "  adding: chase_db_320_320_dice_bce_0_4__hvr_0_4_1/split_2/train/mask/_Image_01L_1_3.png (deflated 53%)\n",
            "  adding: chase_db_320_320_dice_bce_0_4__hvr_0_4_1/split_2/train/mask/_Image_10L_2_0.png (deflated 67%)\n",
            "  adding: chase_db_320_320_dice_bce_0_4__hvr_0_4_1/split_2/train/mask/_Image_08L_0_8.png (deflated 41%)\n",
            "  adding: chase_db_320_320_dice_bce_0_4__hvr_0_4_1/split_2/train/mask/_Image_14R_3_8.png (deflated 21%)\n",
            "  adding: chase_db_320_320_dice_bce_0_4__hvr_0_4_1/split_2/train/mask/_Image_03R_0_3.png (deflated 49%)\n",
            "  adding: chase_db_320_320_dice_bce_0_4__hvr_0_4_1/split_2/train/mask/_Image_02L_1_7.png (deflated 9%)\n",
            "  adding: chase_db_320_320_dice_bce_0_4__hvr_0_4_1/split_2/train/mask/_Image_03L_1_0.png (deflated 45%)\n",
            "  adding: chase_db_320_320_dice_bce_0_4__hvr_0_4_1/split_2/train/mask/_Image_08R_0_10.png (deflated 13%)\n",
            "  adding: chase_db_320_320_dice_bce_0_4__hvr_0_4_1/split_2/train/mask/_Image_02L_3_1.png (deflated 11%)\n",
            "  adding: chase_db_320_320_dice_bce_0_4__hvr_0_4_1/split_2/train/mask/_Image_10L_3_2.png (deflated 12%)\n",
            "  adding: chase_db_320_320_dice_bce_0_4__hvr_0_4_1/split_2/train/mask/_Image_09R_3_2.png (deflated 12%)\n",
            "  adding: chase_db_320_320_dice_bce_0_4__hvr_0_4_1/split_2/train/mask/_Image_07R_2_0.png (deflated 45%)\n",
            "  adding: chase_db_320_320_dice_bce_0_4__hvr_0_4_1/split_2/train/mask/_Image_14R_1_4.png (deflated 46%)\n",
            "  adding: chase_db_320_320_dice_bce_0_4__hvr_0_4_1/split_2/train/mask/_Image_02R_3_3.png (deflated 46%)\n",
            "  adding: chase_db_320_320_dice_bce_0_4__hvr_0_4_1/split_2/train/mask/_Image_02L_2_6.png (deflated 10%)\n",
            "  adding: chase_db_320_320_dice_bce_0_4__hvr_0_4_1/split_2/train/mask/_Image_05R_3_4.png (deflated 6%)\n",
            "  adding: chase_db_320_320_dice_bce_0_4__hvr_0_4_1/split_2/train/mask/_Image_05L_2_8.png (deflated 42%)\n",
            "  adding: chase_db_320_320_dice_bce_0_4__hvr_0_4_1/split_2/train/mask/_Image_01L_0_7.png (deflated 22%)\n",
            "  adding: chase_db_320_320_dice_bce_0_4__hvr_0_4_1/split_2/train/mask/_Image_07R_1_9.png (deflated 7%)\n",
            "  adding: chase_db_320_320_dice_bce_0_4__hvr_0_4_1/split_2/train/mask/_Image_08R_2_11.png (deflated 46%)\n",
            "  adding: chase_db_320_320_dice_bce_0_4__hvr_0_4_1/split_2/train/mask/_Image_06L_2_2.png (deflated 14%)\n",
            "  adding: chase_db_320_320_dice_bce_0_4__hvr_0_4_1/split_2/train/mask/_Image_09L_2_3.png (deflated 55%)\n",
            "  adding: chase_db_320_320_dice_bce_0_4__hvr_0_4_1/split_2/train/mask/_Image_03R_2_10.png (deflated 16%)\n",
            "  adding: chase_db_320_320_dice_bce_0_4__hvr_0_4_1/split_2/train/mask/_Image_04R_3_6.png (deflated 11%)\n",
            "  adding: chase_db_320_320_dice_bce_0_4__hvr_0_4_1/split_2/train/mask/_Image_14L_2_5.png (deflated 12%)\n",
            "  adding: chase_db_320_320_dice_bce_0_4__hvr_0_4_1/split_2/train/mask/_Image_09R_3_3.png (deflated 28%)\n",
            "  adding: chase_db_320_320_dice_bce_0_4__hvr_0_4_1/split_2/train/mask/_Image_06L_1_11.png (deflated 53%)\n",
            "  adding: chase_db_320_320_dice_bce_0_4__hvr_0_4_1/split_2/train/mask/_Image_01L_3_9.png (deflated 12%)\n",
            "  adding: chase_db_320_320_dice_bce_0_4__hvr_0_4_1/split_2/train/mask/_Image_07L_3_1.png (deflated 9%)\n",
            "  adding: chase_db_320_320_dice_bce_0_4__hvr_0_4_1/split_2/train/mask/_Image_08L_3_3.png (deflated 17%)\n",
            "  adding: chase_db_320_320_dice_bce_0_4__hvr_0_4_1/split_2/train/mask/_Image_08R_0_8.png (deflated 59%)\n",
            "  adding: chase_db_320_320_dice_bce_0_4__hvr_0_4_1/split_2/train/mask/_Image_08L_3_1.png (deflated 14%)\n",
            "  adding: chase_db_320_320_dice_bce_0_4__hvr_0_4_1/split_2/train/mask/_Image_10L_1_1.png (deflated 10%)\n",
            "  adding: chase_db_320_320_dice_bce_0_4__hvr_0_4_1/split_2/train/mask/_Image_05L_3_11.png (deflated 53%)\n",
            "  adding: chase_db_320_320_dice_bce_0_4__hvr_0_4_1/split_2/train/mask/_Image_09R_3_10.png (deflated 16%)\n",
            "  adding: chase_db_320_320_dice_bce_0_4__hvr_0_4_1/split_2/train/mask/_Image_06R_0_3.png (deflated 57%)\n",
            "  adding: chase_db_320_320_dice_bce_0_4__hvr_0_4_1/split_2/train/mask/_Image_14L_2_6.png (deflated 12%)\n",
            "  adding: chase_db_320_320_dice_bce_0_4__hvr_0_4_1/split_2/train/mask/_Image_01R_2_4.png (deflated 19%)\n",
            "  adding: chase_db_320_320_dice_bce_0_4__hvr_0_4_1/split_2/train/mask/_Image_04L_1_0.png (deflated 49%)\n",
            "  adding: chase_db_320_320_dice_bce_0_4__hvr_0_4_1/split_2/train/mask/_Image_08R_1_4.png (deflated 33%)\n",
            "  adding: chase_db_320_320_dice_bce_0_4__hvr_0_4_1/split_2/train/mask/_Image_10L_0_4.png (deflated 23%)\n",
            "  adding: chase_db_320_320_dice_bce_0_4__hvr_0_4_1/split_2/train/mask/_Image_13R_0_5.png (deflated 8%)\n",
            "  adding: chase_db_320_320_dice_bce_0_4__hvr_0_4_1/split_2/train/mask/_Image_08R_2_3.png (deflated 38%)\n",
            "  adding: chase_db_320_320_dice_bce_0_4__hvr_0_4_1/split_2/train/mask/_Image_10R_3_8.png (deflated 22%)\n",
            "  adding: chase_db_320_320_dice_bce_0_4__hvr_0_4_1/split_2/train/mask/_Image_01L_2_6.png (deflated 9%)\n",
            "  adding: chase_db_320_320_dice_bce_0_4__hvr_0_4_1/split_2/train/mask/_Image_04L_1_8.png (deflated 82%)\n",
            "  adding: chase_db_320_320_dice_bce_0_4__hvr_0_4_1/split_2/train/mask/_Image_03R_2_11.png (deflated 48%)\n",
            "  adding: chase_db_320_320_dice_bce_0_4__hvr_0_4_1/split_2/train/mask/_Image_09L_2_11.png (deflated 82%)\n",
            "  adding: chase_db_320_320_dice_bce_0_4__hvr_0_4_1/split_2/train/mask/_Image_08R_2_8.png (deflated 54%)\n",
            "  adding: chase_db_320_320_dice_bce_0_4__hvr_0_4_1/split_2/train/mask/_Image_01L_0_4.png (deflated 49%)\n",
            "  adding: chase_db_320_320_dice_bce_0_4__hvr_0_4_1/split_2/train/mask/_Image_07R_1_5.png (deflated 9%)\n",
            "  adding: chase_db_320_320_dice_bce_0_4__hvr_0_4_1/split_2/train/mask/_Image_07R_1_7.png (deflated 11%)\n",
            "  adding: chase_db_320_320_dice_bce_0_4__hvr_0_4_1/split_2/train/mask/_Image_07L_0_10.png (deflated 11%)\n",
            "  adding: chase_db_320_320_dice_bce_0_4__hvr_0_4_1/split_2/train/mask/_Image_06L_2_7.png (deflated 26%)\n",
            "  adding: chase_db_320_320_dice_bce_0_4__hvr_0_4_1/split_2/train/mask/_Image_14L_3_5.png (deflated 10%)\n",
            "  adding: chase_db_320_320_dice_bce_0_4__hvr_0_4_1/split_2/train/mask/_Image_01R_1_2.png (deflated 14%)\n",
            "  adding: chase_db_320_320_dice_bce_0_4__hvr_0_4_1/split_2/train/mask/_Image_08L_3_11.png (deflated 33%)\n",
            "  adding: chase_db_320_320_dice_bce_0_4__hvr_0_4_1/split_2/train/mask/_Image_05L_3_4.png (deflated 30%)\n",
            "  adding: chase_db_320_320_dice_bce_0_4__hvr_0_4_1/split_2/train/mask/_Image_07L_1_6.png (deflated 11%)\n",
            "  adding: chase_db_320_320_dice_bce_0_4__hvr_0_4_1/split_2/train/mask/_Image_14R_2_1.png (deflated 8%)\n",
            "  adding: chase_db_320_320_dice_bce_0_4__hvr_0_4_1/split_2/train/mask/_Image_01L_2_2.png (deflated 12%)\n",
            "  adding: chase_db_320_320_dice_bce_0_4__hvr_0_4_1/split_2/train/mask/_Image_01R_1_4.png (deflated 38%)\n",
            "  adding: chase_db_320_320_dice_bce_0_4__hvr_0_4_1/split_2/train/mask/_Image_07L_3_11.png (deflated 71%)\n",
            "  adding: chase_db_320_320_dice_bce_0_4__hvr_0_4_1/split_2/train/mask/_Image_07L_0_3.png (deflated 46%)\n",
            "  adding: chase_db_320_320_dice_bce_0_4__hvr_0_4_1/split_2/train/mask/_Image_05R_1_4.png (deflated 30%)\n",
            "  adding: chase_db_320_320_dice_bce_0_4__hvr_0_4_1/split_2/train/mask/_Image_08R_3_7.png (deflated 12%)\n",
            "  adding: chase_db_320_320_dice_bce_0_4__hvr_0_4_1/split_2/train/mask/_Image_03L_2_7.png (deflated 20%)\n",
            "  adding: chase_db_320_320_dice_bce_0_4__hvr_0_4_1/split_2/train/mask/_Image_06L_1_4.png (deflated 27%)\n",
            "  adding: chase_db_320_320_dice_bce_0_4__hvr_0_4_1/split_2/train/mask/_Image_09L_3_6.png (deflated 7%)\n",
            "  adding: chase_db_320_320_dice_bce_0_4__hvr_0_4_1/split_2/train/mask/_Image_09L_2_6.png (deflated 15%)\n",
            "  adding: chase_db_320_320_dice_bce_0_4__hvr_0_4_1/split_2/train/mask/_Image_07R_3_6.png (deflated 8%)\n",
            "  adding: chase_db_320_320_dice_bce_0_4__hvr_0_4_1/split_2/train/mask/_Image_06R_0_4.png (deflated 17%)\n",
            "  adding: chase_db_320_320_dice_bce_0_4__hvr_0_4_1/split_2/train/mask/_Image_02R_2_3.png (deflated 47%)\n",
            "  adding: chase_db_320_320_dice_bce_0_4__hvr_0_4_1/split_2/train/mask/_Image_04L_2_9.png (deflated 15%)\n",
            "  adding: chase_db_320_320_dice_bce_0_4__hvr_0_4_1/split_2/train/mask/_Image_05L_0_1.png (deflated 17%)\n",
            "  adding: chase_db_320_320_dice_bce_0_4__hvr_0_4_1/split_2/train/mask/_Image_13R_2_3.png (deflated 48%)\n",
            "  adding: chase_db_320_320_dice_bce_0_4__hvr_0_4_1/split_2/train/mask/_Image_07L_0_9.png (deflated 10%)\n",
            "  adding: chase_db_320_320_dice_bce_0_4__hvr_0_4_1/split_2/train/mask/_Image_03R_1_2.png (deflated 9%)\n",
            "  adding: chase_db_320_320_dice_bce_0_4__hvr_0_4_1/split_2/train/mask/_Image_14L_1_5.png (deflated 11%)\n",
            "  adding: chase_db_320_320_dice_bce_0_4__hvr_0_4_1/split_2/train/mask/_Image_06L_2_5.png (deflated 11%)\n",
            "  adding: chase_db_320_320_dice_bce_0_4__hvr_0_4_1/split_2/train/mask/_Image_09R_0_6.png (deflated 11%)\n",
            "  adding: chase_db_320_320_dice_bce_0_4__hvr_0_4_1/split_2/train/mask/_Image_01R_2_6.png (deflated 11%)\n",
            "  adding: chase_db_320_320_dice_bce_0_4__hvr_0_4_1/split_2/train/mask/_Image_04L_3_11.png (deflated 27%)\n",
            "  adding: chase_db_320_320_dice_bce_0_4__hvr_0_4_1/split_2/train/mask/_Image_10R_1_4.png (deflated 51%)\n",
            "  adding: chase_db_320_320_dice_bce_0_4__hvr_0_4_1/split_2/train/mask/_Image_02R_1_10.png (deflated 9%)\n",
            "  adding: chase_db_320_320_dice_bce_0_4__hvr_0_4_1/split_2/train/mask/_Image_14R_3_7.png (deflated 34%)\n",
            "  adding: chase_db_320_320_dice_bce_0_4__hvr_0_4_1/split_2/train/mask/_Image_02L_1_1.png (deflated 13%)\n",
            "  adding: chase_db_320_320_dice_bce_0_4__hvr_0_4_1/split_2/train/mask/_Image_14R_1_9.png (deflated 14%)\n",
            "  adding: chase_db_320_320_dice_bce_0_4__hvr_0_4_1/split_2/train/mask/_Image_06R_2_1.png (deflated 9%)\n",
            "  adding: chase_db_320_320_dice_bce_0_4__hvr_0_4_1/split_2/train/mask/_Image_13R_0_10.png (deflated 17%)\n",
            "  adding: chase_db_320_320_dice_bce_0_4__hvr_0_4_1/split_2/train/mask/_Image_07R_3_1.png (deflated 14%)\n",
            "  adding: chase_db_320_320_dice_bce_0_4__hvr_0_4_1/split_2/train/mask/_Image_14R_1_11.png (deflated 86%)\n",
            "  adding: chase_db_320_320_dice_bce_0_4__hvr_0_4_1/split_2/train/mask/_Image_01R_3_6.png (deflated 11%)\n",
            "  adding: chase_db_320_320_dice_bce_0_4__hvr_0_4_1/split_2/train/mask/_Image_03R_0_1.png (deflated 10%)\n",
            "  adding: chase_db_320_320_dice_bce_0_4__hvr_0_4_1/split_2/train/mask/_Image_02R_3_8.png (deflated 39%)\n",
            "  adding: chase_db_320_320_dice_bce_0_4__hvr_0_4_1/split_2/train/mask/_Image_05R_1_11.png (deflated 55%)\n",
            "  adding: chase_db_320_320_dice_bce_0_4__hvr_0_4_1/split_2/train/mask/_Image_01R_2_7.png (deflated 40%)\n",
            "  adding: chase_db_320_320_dice_bce_0_4__hvr_0_4_1/split_2/train/mask/_Image_04L_0_1.png (deflated 16%)\n",
            "  adding: chase_db_320_320_dice_bce_0_4__hvr_0_4_1/split_2/train/mask/_Image_03R_1_1.png (deflated 16%)\n",
            "  adding: chase_db_320_320_dice_bce_0_4__hvr_0_4_1/split_2/train/mask/_Image_13R_2_10.png (deflated 20%)\n",
            "  adding: chase_db_320_320_dice_bce_0_4__hvr_0_4_1/split_2/train/mask/_Image_10L_1_8.png (deflated 58%)\n",
            "  adding: chase_db_320_320_dice_bce_0_4__hvr_0_4_1/split_2/train/mask/_Image_05R_3_9.png (deflated 7%)\n",
            "  adding: chase_db_320_320_dice_bce_0_4__hvr_0_4_1/split_2/train/mask/_Image_08R_3_1.png (deflated 14%)\n",
            "  adding: chase_db_320_320_dice_bce_0_4__hvr_0_4_1/split_2/train/mask/_Image_10R_3_7.png (deflated 17%)\n",
            "  adding: chase_db_320_320_dice_bce_0_4__hvr_0_4_1/split_2/train/mask/_Image_09L_3_1.png (deflated 20%)\n",
            "  adding: chase_db_320_320_dice_bce_0_4__hvr_0_4_1/split_2/train/mask/_Image_01L_0_0.png (deflated 54%)\n",
            "  adding: chase_db_320_320_dice_bce_0_4__hvr_0_4_1/split_2/train/mask/_Image_14L_1_4.png (deflated 30%)\n",
            "  adding: chase_db_320_320_dice_bce_0_4__hvr_0_4_1/split_2/train/mask/_Image_08R_1_8.png (deflated 37%)\n",
            "  adding: chase_db_320_320_dice_bce_0_4__hvr_0_4_1/split_2/train/mask/_Image_04R_1_8.png (deflated 70%)\n",
            "  adding: chase_db_320_320_dice_bce_0_4__hvr_0_4_1/split_2/train/mask/_Image_04L_3_5.png (deflated 10%)\n",
            "  adding: chase_db_320_320_dice_bce_0_4__hvr_0_4_1/split_2/train/mask/_Image_08L_3_10.png (deflated 13%)\n",
            "  adding: chase_db_320_320_dice_bce_0_4__hvr_0_4_1/split_2/train/mask/_Image_07L_1_7.png (deflated 20%)\n",
            "  adding: chase_db_320_320_dice_bce_0_4__hvr_0_4_1/split_2/train/mask/_Image_05R_3_11.png (deflated 24%)\n",
            "  adding: chase_db_320_320_dice_bce_0_4__hvr_0_4_1/split_2/train/mask/_Image_14R_3_5.png (deflated 9%)\n",
            "  adding: chase_db_320_320_dice_bce_0_4__hvr_0_4_1/split_2/train/mask/_Image_02L_1_5.png (deflated 9%)\n",
            "  adding: chase_db_320_320_dice_bce_0_4__hvr_0_4_1/split_2/train/mask/_Image_03L_1_4.png (deflated 19%)\n",
            "  adding: chase_db_320_320_dice_bce_0_4__hvr_0_4_1/split_2/train/mask/_Image_08R_0_3.png (deflated 45%)\n",
            "  adding: chase_db_320_320_dice_bce_0_4__hvr_0_4_1/split_2/train/mask/_Image_06L_0_10.png (deflated 14%)\n",
            "  adding: chase_db_320_320_dice_bce_0_4__hvr_0_4_1/split_2/train/mask/_Image_13R_3_9.png (deflated 13%)\n",
            "  adding: chase_db_320_320_dice_bce_0_4__hvr_0_4_1/split_2/train/mask/_Image_10R_3_6.png (deflated 9%)\n",
            "  adding: chase_db_320_320_dice_bce_0_4__hvr_0_4_1/split_2/train/mask/_Image_02R_3_7.png (deflated 33%)\n",
            "  adding: chase_db_320_320_dice_bce_0_4__hvr_0_4_1/split_2/train/mask/_Image_04R_2_8.png (deflated 77%)\n",
            "  adding: chase_db_320_320_dice_bce_0_4__hvr_0_4_1/split_2/train/mask/_Image_09R_0_5.png (deflated 9%)\n",
            "  adding: chase_db_320_320_dice_bce_0_4__hvr_0_4_1/split_2/train/mask/_Image_05R_3_3.png (deflated 39%)\n",
            "  adding: chase_db_320_320_dice_bce_0_4__hvr_0_4_1/split_2/train/mask/_Image_10L_2_11.png (deflated 47%)\n",
            "  adding: chase_db_320_320_dice_bce_0_4__hvr_0_4_1/split_2/train/mask/_Image_09R_3_9.png (deflated 23%)\n",
            "  adding: chase_db_320_320_dice_bce_0_4__hvr_0_4_1/split_2/train/mask/_Image_07L_2_6.png (deflated 10%)\n",
            "  adding: chase_db_320_320_dice_bce_0_4__hvr_0_4_1/split_2/train/mask/_Image_05R_0_10.png (deflated 13%)\n",
            "  adding: chase_db_320_320_dice_bce_0_4__hvr_0_4_1/split_2/train/mask/_Image_02R_2_7.png (deflated 28%)\n",
            "  adding: chase_db_320_320_dice_bce_0_4__hvr_0_4_1/split_2/train/mask/_Image_05R_0_0.png (deflated 29%)\n",
            "  adding: chase_db_320_320_dice_bce_0_4__hvr_0_4_1/split_2/train/mask/_Image_01L_3_4.png (deflated 23%)\n",
            "  adding: chase_db_320_320_dice_bce_0_4__hvr_0_4_1/split_2/train/mask/_Image_04L_3_8.png (deflated 16%)\n",
            "  adding: chase_db_320_320_dice_bce_0_4__hvr_0_4_1/split_2/train/mask/_Image_14R_2_4.png (deflated 51%)\n",
            "  adding: chase_db_320_320_dice_bce_0_4__hvr_0_4_1/split_2/train/mask/_Image_07L_0_7.png (deflated 19%)\n",
            "  adding: chase_db_320_320_dice_bce_0_4__hvr_0_4_1/split_2/train/mask/_Image_02R_1_1.png (deflated 11%)\n",
            "  adding: chase_db_320_320_dice_bce_0_4__hvr_0_4_1/split_2/train/mask/_Image_03L_0_7.png (deflated 20%)\n",
            "  adding: chase_db_320_320_dice_bce_0_4__hvr_0_4_1/split_2/train/mask/_Image_09L_1_3.png (deflated 75%)\n",
            "  adding: chase_db_320_320_dice_bce_0_4__hvr_0_4_1/split_2/train/mask/_Image_02R_0_3.png (deflated 51%)\n",
            "  adding: chase_db_320_320_dice_bce_0_4__hvr_0_4_1/split_2/train/mask/_Image_01L_2_3.png (deflated 56%)\n",
            "  adding: chase_db_320_320_dice_bce_0_4__hvr_0_4_1/split_2/train/mask/_Image_01L_3_2.png (deflated 9%)\n",
            "  adding: chase_db_320_320_dice_bce_0_4__hvr_0_4_1/split_2/train/mask/_Image_07R_0_3.png (deflated 64%)\n",
            "  adding: chase_db_320_320_dice_bce_0_4__hvr_0_4_1/split_2/train/mask/_Image_02L_1_9.png (deflated 10%)\n",
            "  adding: chase_db_320_320_dice_bce_0_4__hvr_0_4_1/split_2/train/mask/_Image_05L_2_4.png (deflated 27%)\n",
            "  adding: chase_db_320_320_dice_bce_0_4__hvr_0_4_1/split_2/train/mask/_Image_02R_1_2.png (deflated 12%)\n",
            "  adding: chase_db_320_320_dice_bce_0_4__hvr_0_4_1/split_2/train/mask/_Image_02L_3_9.png (deflated 11%)\n",
            "  adding: chase_db_320_320_dice_bce_0_4__hvr_0_4_1/split_2/train/mask/_Image_03L_3_7.png (deflated 15%)\n",
            "  adding: chase_db_320_320_dice_bce_0_4__hvr_0_4_1/split_2/train/mask/_Image_08L_0_4.png (deflated 36%)\n",
            "  adding: chase_db_320_320_dice_bce_0_4__hvr_0_4_1/split_2/train/mask/_Image_04L_2_0.png (deflated 40%)\n",
            "  adding: chase_db_320_320_dice_bce_0_4__hvr_0_4_1/split_2/train/mask/_Image_06L_0_0.png (deflated 59%)\n",
            "  adding: chase_db_320_320_dice_bce_0_4__hvr_0_4_1/split_2/train/mask/_Image_03R_3_3.png (deflated 74%)\n",
            "  adding: chase_db_320_320_dice_bce_0_4__hvr_0_4_1/split_2/train/mask/_Image_08R_3_2.png (deflated 14%)\n",
            "  adding: chase_db_320_320_dice_bce_0_4__hvr_0_4_1/split_2/train/mask/_Image_04L_1_7.png (deflated 23%)\n",
            "  adding: chase_db_320_320_dice_bce_0_4__hvr_0_4_1/split_2/train/mask/_Image_14R_1_8.png (deflated 49%)\n",
            "  adding: chase_db_320_320_dice_bce_0_4__hvr_0_4_1/split_2/train/mask/_Image_07R_2_9.png (deflated 15%)\n",
            "  adding: chase_db_320_320_dice_bce_0_4__hvr_0_4_1/split_2/train/mask/_Image_10L_1_9.png (deflated 14%)\n",
            "  adding: chase_db_320_320_dice_bce_0_4__hvr_0_4_1/split_2/train/mask/_Image_09R_2_2.png (deflated 8%)\n",
            "  adding: chase_db_320_320_dice_bce_0_4__hvr_0_4_1/split_2/train/mask/_Image_07L_2_7.png (deflated 19%)\n",
            "  adding: chase_db_320_320_dice_bce_0_4__hvr_0_4_1/split_2/train/mask/_Image_02L_1_6.png (deflated 13%)\n",
            "  adding: chase_db_320_320_dice_bce_0_4__hvr_0_4_1/split_2/train/mask/_Image_02L_1_8.png (deflated 41%)\n",
            "  adding: chase_db_320_320_dice_bce_0_4__hvr_0_4_1/split_2/train/mask/_Image_07L_3_9.png (deflated 12%)\n",
            "  adding: chase_db_320_320_dice_bce_0_4__hvr_0_4_1/split_2/train/mask/_Image_14R_0_4.png (deflated 50%)\n",
            "  adding: chase_db_320_320_dice_bce_0_4__hvr_0_4_1/split_2/train/mask/_Image_13R_1_3.png (deflated 43%)\n",
            "  adding: chase_db_320_320_dice_bce_0_4__hvr_0_4_1/split_2/train/mask/_Image_07L_1_4.png (deflated 19%)\n",
            "  adding: chase_db_320_320_dice_bce_0_4__hvr_0_4_1/split_2/train/mask/_Image_04R_0_4.png (deflated 27%)\n",
            "  adding: chase_db_320_320_dice_bce_0_4__hvr_0_4_1/split_2/train/mask/_Image_07L_0_2.png (deflated 12%)\n",
            "  adding: chase_db_320_320_dice_bce_0_4__hvr_0_4_1/split_2/train/mask/_Image_06R_3_1.png (deflated 8%)\n",
            "  adding: chase_db_320_320_dice_bce_0_4__hvr_0_4_1/split_2/train/mask/_Image_01R_3_11.png (deflated 23%)\n",
            "  adding: chase_db_320_320_dice_bce_0_4__hvr_0_4_1/split_2/train/mask/_Image_03L_0_3.png (deflated 46%)\n",
            "  adding: chase_db_320_320_dice_bce_0_4__hvr_0_4_1/split_2/train/mask/_Image_01L_1_0.png (deflated 58%)\n",
            "  adding: chase_db_320_320_dice_bce_0_4__hvr_0_4_1/split_2/train/mask/_Image_04R_3_8.png (deflated 15%)\n",
            "  adding: chase_db_320_320_dice_bce_0_4__hvr_0_4_1/split_2/train/mask/_Image_07L_0_6.png (deflated 10%)\n",
            "  adding: chase_db_320_320_dice_bce_0_4__hvr_0_4_1/split_2/train/mask/_Image_13R_1_0.png (deflated 40%)\n",
            "  adding: chase_db_320_320_dice_bce_0_4__hvr_0_4_1/split_2/train/mask/_Image_14R_3_4.png (deflated 50%)\n",
            "  adding: chase_db_320_320_dice_bce_0_4__hvr_0_4_1/split_2/train/mask/_Image_14L_2_9.png (deflated 17%)\n",
            "  adding: chase_db_320_320_dice_bce_0_4__hvr_0_4_1/split_2/train/mask/_Image_04L_3_2.png (deflated 8%)\n",
            "  adding: chase_db_320_320_dice_bce_0_4__hvr_0_4_1/split_2/train/mask/_Image_04L_0_4.png (deflated 23%)\n",
            "  adding: chase_db_320_320_dice_bce_0_4__hvr_0_4_1/split_2/train/mask/_Image_10R_2_3.png (deflated 86%)\n",
            "  adding: chase_db_320_320_dice_bce_0_4__hvr_0_4_1/split_2/train/mask/_Image_06L_1_10.png (deflated 17%)\n",
            "  adding: chase_db_320_320_dice_bce_0_4__hvr_0_4_1/split_2/train/mask/_Image_10R_0_3.png (deflated 42%)\n",
            "  adding: chase_db_320_320_dice_bce_0_4__hvr_0_4_1/split_2/train/mask/_Image_06R_2_8.png (deflated 35%)\n",
            "  adding: chase_db_320_320_dice_bce_0_4__hvr_0_4_1/split_2/train/mask/_Image_10L_1_4.png (deflated 28%)\n",
            "  adding: chase_db_320_320_dice_bce_0_4__hvr_0_4_1/split_2/train/mask/_Image_06R_3_0.png (deflated 15%)\n",
            "  adding: chase_db_320_320_dice_bce_0_4__hvr_0_4_1/split_2/train/mask/_Image_03R_1_7.png (deflated 29%)\n",
            "  adding: chase_db_320_320_dice_bce_0_4__hvr_0_4_1/split_2/train/mask/_Image_07R_0_6.png (deflated 9%)\n",
            "  adding: chase_db_320_320_dice_bce_0_4__hvr_0_4_1/split_2/train/mask/_Image_06R_3_2.png (deflated 13%)\n",
            "  adding: chase_db_320_320_dice_bce_0_4__hvr_0_4_1/split_2/train/mask/_Image_02R_2_0.png (deflated 43%)\n",
            "  adding: chase_db_320_320_dice_bce_0_4__hvr_0_4_1/split_2/train/mask/_Image_03R_0_4.png (deflated 28%)\n",
            "  adding: chase_db_320_320_dice_bce_0_4__hvr_0_4_1/split_2/train/mask/_Image_02R_2_10.png (deflated 11%)\n",
            "  adding: chase_db_320_320_dice_bce_0_4__hvr_0_4_1/split_2/train/mask/_Image_05R_2_10.png (deflated 18%)\n",
            "  adding: chase_db_320_320_dice_bce_0_4__hvr_0_4_1/split_2/train/mask/_Image_05L_0_3.png (deflated 51%)\n",
            "  adding: chase_db_320_320_dice_bce_0_4__hvr_0_4_1/split_2/train/mask/_Image_02L_2_4.png (deflated 10%)\n",
            "  adding: chase_db_320_320_dice_bce_0_4__hvr_0_4_1/split_2/train/mask/_Image_04R_2_2.png (deflated 22%)\n",
            "  adding: chase_db_320_320_dice_bce_0_4__hvr_0_4_1/split_2/train/mask/_Image_13R_2_4.png (deflated 33%)\n",
            "  adding: chase_db_320_320_dice_bce_0_4__hvr_0_4_1/split_2/train/mask/_Image_07L_3_6.png (deflated 7%)\n",
            "  adding: chase_db_320_320_dice_bce_0_4__hvr_0_4_1/split_2/train/mask/_Image_05L_1_7.png (deflated 27%)\n",
            "  adding: chase_db_320_320_dice_bce_0_4__hvr_0_4_1/split_2/train/mask/_Image_04L_2_4.png (deflated 23%)\n",
            "  adding: chase_db_320_320_dice_bce_0_4__hvr_0_4_1/split_2/train/mask/_Image_03L_1_5.png (deflated 8%)\n",
            "  adding: chase_db_320_320_dice_bce_0_4__hvr_0_4_1/split_2/train/mask/_Image_01L_3_5.png (deflated 10%)\n",
            "  adding: chase_db_320_320_dice_bce_0_4__hvr_0_4_1/split_2/train/mask/_Image_09L_0_8.png (deflated 49%)\n",
            "  adding: chase_db_320_320_dice_bce_0_4__hvr_0_4_1/split_2/train/mask/_Image_09R_3_5.png (deflated 9%)\n",
            "  adding: chase_db_320_320_dice_bce_0_4__hvr_0_4_1/split_2/train/mask/_Image_14L_0_5.png (deflated 11%)\n",
            "  adding: chase_db_320_320_dice_bce_0_4__hvr_0_4_1/split_2/train/mask/_Image_09R_0_1.png (deflated 16%)\n",
            "  adding: chase_db_320_320_dice_bce_0_4__hvr_0_4_1/split_2/train/mask/_Image_01L_3_10.png (deflated 9%)\n",
            "  adding: chase_db_320_320_dice_bce_0_4__hvr_0_4_1/split_2/train/mask/_Image_14R_3_0.png (deflated 63%)\n",
            "  adding: chase_db_320_320_dice_bce_0_4__hvr_0_4_1/split_2/train/mask/_Image_07L_3_10.png (deflated 10%)\n",
            "  adding: chase_db_320_320_dice_bce_0_4__hvr_0_4_1/split_2/train/mask/_Image_03R_0_2.png (deflated 16%)\n",
            "  adding: chase_db_320_320_dice_bce_0_4__hvr_0_4_1/split_2/train/mask/_Image_05L_1_9.png (deflated 11%)\n",
            "  adding: chase_db_320_320_dice_bce_0_4__hvr_0_4_1/split_2/train/mask/_Image_04R_0_6.png (deflated 13%)\n",
            "  adding: chase_db_320_320_dice_bce_0_4__hvr_0_4_1/split_2/train/mask/_Image_01R_0_1.png (deflated 13%)\n",
            "  adding: chase_db_320_320_dice_bce_0_4__hvr_0_4_1/split_2/train/mask/_Image_09R_2_8.png (deflated 47%)\n",
            "  adding: chase_db_320_320_dice_bce_0_4__hvr_0_4_1/split_2/train/mask/_Image_05R_0_4.png (deflated 22%)\n",
            "  adding: chase_db_320_320_dice_bce_0_4__hvr_0_4_1/split_2/train/mask/_Image_01R_3_4.png (deflated 9%)\n",
            "  adding: chase_db_320_320_dice_bce_0_4__hvr_0_4_1/split_2/train/mask/_Image_01L_0_2.png (deflated 17%)\n",
            "  adding: chase_db_320_320_dice_bce_0_4__hvr_0_4_1/split_2/train/mask/_Image_02L_3_4.png (deflated 12%)\n",
            "  adding: chase_db_320_320_dice_bce_0_4__hvr_0_4_1/split_2/train/mask/_Image_04R_2_0.png (deflated 39%)\n",
            "  adding: chase_db_320_320_dice_bce_0_4__hvr_0_4_1/split_2/train/mask/_Image_06R_3_9.png (deflated 9%)\n",
            "  adding: chase_db_320_320_dice_bce_0_4__hvr_0_4_1/split_2/train/mask/_Image_08L_0_10.png (deflated 17%)\n",
            "  adding: chase_db_320_320_dice_bce_0_4__hvr_0_4_1/split_2/train/mask/_Image_06L_3_5.png (deflated 9%)\n",
            "  adding: chase_db_320_320_dice_bce_0_4__hvr_0_4_1/split_2/train/mask/_Image_14R_2_9.png (deflated 18%)\n",
            "  adding: chase_db_320_320_dice_bce_0_4__hvr_0_4_1/split_2/train/mask/_Image_04L_3_6.png (deflated 9%)\n",
            "  adding: chase_db_320_320_dice_bce_0_4__hvr_0_4_1/split_2/train/mask/_Image_01R_0_8.png (deflated 57%)\n",
            "  adding: chase_db_320_320_dice_bce_0_4__hvr_0_4_1/split_2/train/mask/_Image_02L_3_7.png (deflated 13%)\n",
            "  adding: chase_db_320_320_dice_bce_0_4__hvr_0_4_1/split_2/train/mask/_Image_09L_1_7.png (deflated 22%)\n",
            "  adding: chase_db_320_320_dice_bce_0_4__hvr_0_4_1/split_2/train/mask/_Image_06L_2_0.png (deflated 52%)\n",
            "  adding: chase_db_320_320_dice_bce_0_4__hvr_0_4_1/split_2/train/mask/_Image_09L_0_5.png (deflated 8%)\n",
            "  adding: chase_db_320_320_dice_bce_0_4__hvr_0_4_1/split_2/train/mask/_Image_07L_2_5.png (deflated 11%)\n",
            "  adding: chase_db_320_320_dice_bce_0_4__hvr_0_4_1/split_2/train/mask/_Image_05R_0_7.png (deflated 31%)\n",
            "  adding: chase_db_320_320_dice_bce_0_4__hvr_0_4_1/split_2/train/mask/_Image_09L_0_9.png (deflated 15%)\n",
            "  adding: chase_db_320_320_dice_bce_0_4__hvr_0_4_1/split_2/train/mask/_Image_01L_2_5.png (deflated 9%)\n",
            "  adding: chase_db_320_320_dice_bce_0_4__hvr_0_4_1/split_2/train/mask/_Image_07L_1_5.png (deflated 10%)\n",
            "  adding: chase_db_320_320_dice_bce_0_4__hvr_0_4_1/split_2/train/mask/_Image_06R_2_7.png (deflated 30%)\n",
            "  adding: chase_db_320_320_dice_bce_0_4__hvr_0_4_1/split_2/train/mask/_Image_14L_2_10.png (deflated 11%)\n",
            "  adding: chase_db_320_320_dice_bce_0_4__hvr_0_4_1/split_2/train/mask/_Image_06R_0_11.png (deflated 63%)\n",
            "  adding: chase_db_320_320_dice_bce_0_4__hvr_0_4_1/split_2/train/mask/_Image_04R_2_1.png (deflated 9%)\n",
            "  adding: chase_db_320_320_dice_bce_0_4__hvr_0_4_1/split_2/train/mask/_Image_05L_0_4.png (deflated 27%)\n",
            "  adding: chase_db_320_320_dice_bce_0_4__hvr_0_4_1/split_2/train/mask/_Image_10R_0_6.png (deflated 12%)\n",
            "  adding: chase_db_320_320_dice_bce_0_4__hvr_0_4_1/split_2/train/mask/_Image_08R_1_3.png (deflated 54%)\n",
            "  adding: chase_db_320_320_dice_bce_0_4__hvr_0_4_1/split_2/train/mask/_Image_14L_1_3.png (deflated 60%)\n",
            "  adding: chase_db_320_320_dice_bce_0_4__hvr_0_4_1/split_2/train/mask/_Image_06R_1_2.png (deflated 14%)\n",
            "  adding: chase_db_320_320_dice_bce_0_4__hvr_0_4_1/split_2/train/mask/_Image_14R_2_3.png (deflated 51%)\n",
            "  adding: chase_db_320_320_dice_bce_0_4__hvr_0_4_1/split_2/train/mask/_Image_07R_2_7.png (deflated 37%)\n",
            "  adding: chase_db_320_320_dice_bce_0_4__hvr_0_4_1/split_2/train/mask/_Image_05R_2_5.png (deflated 12%)\n",
            "  adding: chase_db_320_320_dice_bce_0_4__hvr_0_4_1/split_2/train/mask/_Image_10R_2_1.png (deflated 13%)\n",
            "  adding: chase_db_320_320_dice_bce_0_4__hvr_0_4_1/split_2/train/mask/_Image_14R_1_1.png (deflated 21%)\n",
            "  adding: chase_db_320_320_dice_bce_0_4__hvr_0_4_1/split_2/train/mask/_Image_14L_1_10.png (deflated 17%)\n",
            "  adding: chase_db_320_320_dice_bce_0_4__hvr_0_4_1/split_2/train/mask/_Image_03L_2_8.png (deflated 54%)\n",
            "  adding: chase_db_320_320_dice_bce_0_4__hvr_0_4_1/split_2/train/mask/_Image_05L_2_0.png (deflated 47%)\n",
            "  adding: chase_db_320_320_dice_bce_0_4__hvr_0_4_1/split_2/train/mask/_Image_08L_0_0.png (deflated 64%)\n",
            "  adding: chase_db_320_320_dice_bce_0_4__hvr_0_4_1/split_2/train/mask/_Image_02L_1_3.png (deflated 42%)\n",
            "  adding: chase_db_320_320_dice_bce_0_4__hvr_0_4_1/split_2/train/mask/_Image_07L_0_1.png (deflated 14%)\n",
            "  adding: chase_db_320_320_dice_bce_0_4__hvr_0_4_1/split_2/train/mask/_Image_08R_2_0.png (deflated 59%)\n",
            "  adding: chase_db_320_320_dice_bce_0_4__hvr_0_4_1/split_2/train/mask/_Image_02L_2_8.png (deflated 42%)\n",
            "  adding: chase_db_320_320_dice_bce_0_4__hvr_0_4_1/split_2/train/mask/_Image_03L_3_8.png (deflated 37%)\n",
            "  adding: chase_db_320_320_dice_bce_0_4__hvr_0_4_1/split_2/train/mask/_Image_14R_3_9.png (deflated 12%)\n",
            "  adding: chase_db_320_320_dice_bce_0_4__hvr_0_4_1/split_2/train/mask/_Image_05L_3_8.png (deflated 38%)\n",
            "  adding: chase_db_320_320_dice_bce_0_4__hvr_0_4_1/split_2/train/mask/_Image_08R_2_5.png (deflated 8%)\n",
            "  adding: chase_db_320_320_dice_bce_0_4__hvr_0_4_1/split_2/train/mask/_Image_05R_1_2.png (deflated 11%)\n",
            "  adding: chase_db_320_320_dice_bce_0_4__hvr_0_4_1/split_2/train/mask/_Image_13R_1_2.png (deflated 15%)\n",
            "  adding: chase_db_320_320_dice_bce_0_4__hvr_0_4_1/split_2/train/mask/_Image_01L_1_10.png (deflated 17%)\n",
            "  adding: chase_db_320_320_dice_bce_0_4__hvr_0_4_1/split_2/train/mask/_Image_10R_2_11.png (deflated 42%)\n",
            "  adding: chase_db_320_320_dice_bce_0_4__hvr_0_4_1/split_2/train/mask/_Image_06R_2_0.png (deflated 56%)\n",
            "  adding: chase_db_320_320_dice_bce_0_4__hvr_0_4_1/split_2/train/mask/_Image_08L_2_6.png (deflated 12%)\n",
            "  adding: chase_db_320_320_dice_bce_0_4__hvr_0_4_1/split_2/train/mask/_Image_09L_3_5.png (deflated 11%)\n",
            "  adding: chase_db_320_320_dice_bce_0_4__hvr_0_4_1/split_2/train/mask/_Image_10L_2_1.png (deflated 16%)\n",
            "  adding: chase_db_320_320_dice_bce_0_4__hvr_0_4_1/split_2/train/mask/_Image_10R_3_1.png (deflated 13%)\n",
            "  adding: chase_db_320_320_dice_bce_0_4__hvr_0_4_1/split_2/train/mask/_Image_07L_1_3.png (deflated 27%)\n",
            "  adding: chase_db_320_320_dice_bce_0_4__hvr_0_4_1/split_2/train/mask/_Image_14L_1_11.png (deflated 65%)\n",
            "  adding: chase_db_320_320_dice_bce_0_4__hvr_0_4_1/split_2/train/mask/_Image_07L_3_3.png (deflated 30%)\n",
            "  adding: chase_db_320_320_dice_bce_0_4__hvr_0_4_1/split_2/train/mask/_Image_05L_1_5.png (deflated 9%)\n",
            "  adding: chase_db_320_320_dice_bce_0_4__hvr_0_4_1/split_2/train/mask/_Image_14R_0_3.png (deflated 73%)\n",
            "  adding: chase_db_320_320_dice_bce_0_4__hvr_0_4_1/split_2/train/mask/_Image_02L_3_5.png (deflated 9%)\n",
            "  adding: chase_db_320_320_dice_bce_0_4__hvr_0_4_1/split_2/train/mask/_Image_07R_1_3.png (deflated 35%)\n",
            "  adding: chase_db_320_320_dice_bce_0_4__hvr_0_4_1/split_2/train/mask/_Image_03R_0_5.png (deflated 7%)\n",
            "  adding: chase_db_320_320_dice_bce_0_4__hvr_0_4_1/split_2/train/mask/_Image_06R_0_6.png (deflated 13%)\n",
            "  adding: chase_db_320_320_dice_bce_0_4__hvr_0_4_1/split_2/train/mask/_Image_01L_3_3.png (deflated 49%)\n",
            "  adding: chase_db_320_320_dice_bce_0_4__hvr_0_4_1/split_2/train/mask/_Image_10L_0_8.png (deflated 68%)\n",
            "  adding: chase_db_320_320_dice_bce_0_4__hvr_0_4_1/split_2/train/mask/_Image_06L_0_5.png (deflated 11%)\n",
            "  adding: chase_db_320_320_dice_bce_0_4__hvr_0_4_1/split_2/train/mask/_Image_14L_0_0.png (deflated 60%)\n",
            "  adding: chase_db_320_320_dice_bce_0_4__hvr_0_4_1/split_2/train/mask/_Image_03L_0_11.png (deflated 35%)\n",
            "  adding: chase_db_320_320_dice_bce_0_4__hvr_0_4_1/split_2/train/mask/_Image_01L_2_8.png (deflated 54%)\n",
            "  adding: chase_db_320_320_dice_bce_0_4__hvr_0_4_1/split_2/train/mask/_Image_04R_1_4.png (deflated 26%)\n",
            "  adding: chase_db_320_320_dice_bce_0_4__hvr_0_4_1/split_2/train/mask/_Image_04R_3_3.png (deflated 13%)\n",
            "  adding: chase_db_320_320_dice_bce_0_4__hvr_0_4_1/split_2/train/mask/_Image_02L_2_5.png (deflated 13%)\n",
            "  adding: chase_db_320_320_dice_bce_0_4__hvr_0_4_1/split_2/train/mask/_Image_09L_2_0.png (deflated 49%)\n",
            "  adding: chase_db_320_320_dice_bce_0_4__hvr_0_4_1/split_2/train/mask/_Image_04R_2_7.png (deflated 25%)\n",
            "  adding: chase_db_320_320_dice_bce_0_4__hvr_0_4_1/split_2/train/mask/_Image_06R_3_7.png (deflated 24%)\n",
            "  adding: chase_db_320_320_dice_bce_0_4__hvr_0_4_1/split_2/train/mask/_Image_08R_3_0.png (deflated 13%)\n",
            "  adding: chase_db_320_320_dice_bce_0_4__hvr_0_4_1/split_2/train/mask/_Image_03L_2_10.png (deflated 15%)\n",
            "  adding: chase_db_320_320_dice_bce_0_4__hvr_0_4_1/split_2/train/mask/_Image_09R_2_7.png (deflated 29%)\n",
            "  adding: chase_db_320_320_dice_bce_0_4__hvr_0_4_1/split_2/train/mask/_Image_02L_0_5.png (deflated 13%)\n",
            "  adding: chase_db_320_320_dice_bce_0_4__hvr_0_4_1/split_2/train/mask/_Image_08R_1_5.png (deflated 10%)\n",
            "  adding: chase_db_320_320_dice_bce_0_4__hvr_0_4_1/split_2/train/mask/_Image_01R_1_11.png (deflated 57%)\n",
            "  adding: chase_db_320_320_dice_bce_0_4__hvr_0_4_1/split_2/train/mask/_Image_02R_3_4.png (deflated 11%)\n",
            "  adding: chase_db_320_320_dice_bce_0_4__hvr_0_4_1/split_2/train/mask/_Image_08L_2_9.png (deflated 12%)\n",
            "  adding: chase_db_320_320_dice_bce_0_4__hvr_0_4_1/split_2/train/mask/_Image_06R_1_9.png (deflated 12%)\n",
            "  adding: chase_db_320_320_dice_bce_0_4__hvr_0_4_1/split_2/train/mask/_Image_01R_0_6.png (deflated 12%)\n",
            "  adding: chase_db_320_320_dice_bce_0_4__hvr_0_4_1/split_2/train/mask/_Image_08R_1_9.png (deflated 14%)\n",
            "  adding: chase_db_320_320_dice_bce_0_4__hvr_0_4_1/split_2/train/mask/_Image_07L_3_7.png (deflated 9%)\n",
            "  adding: chase_db_320_320_dice_bce_0_4__hvr_0_4_1/split_2/train/mask/_Image_05R_3_7.png (deflated 24%)\n",
            "  adding: chase_db_320_320_dice_bce_0_4__hvr_0_4_1/split_2/train/mask/_Image_06L_0_7.png (deflated 27%)\n",
            "  adding: chase_db_320_320_dice_bce_0_4__hvr_0_4_1/split_2/train/mask/_Image_03R_3_6.png (deflated 9%)\n",
            "  adding: chase_db_320_320_dice_bce_0_4__hvr_0_4_1/split_2/train/mask/_Image_04R_1_6.png (deflated 7%)\n",
            "  adding: chase_db_320_320_dice_bce_0_4__hvr_0_4_1/split_2/train/mask/_Image_06L_3_0.png (deflated 33%)\n",
            "  adding: chase_db_320_320_dice_bce_0_4__hvr_0_4_1/split_2/train/mask/_Image_03R_2_5.png (deflated 7%)\n",
            "  adding: chase_db_320_320_dice_bce_0_4__hvr_0_4_1/split_2/train/mask/_Image_01R_0_11.png (deflated 48%)\n",
            "  adding: chase_db_320_320_dice_bce_0_4__hvr_0_4_1/split_2/train/mask/_Image_09R_0_2.png (deflated 21%)\n",
            "  adding: chase_db_320_320_dice_bce_0_4__hvr_0_4_1/split_2/train/mask/_Image_04L_2_6.png (deflated 7%)\n",
            "  adding: chase_db_320_320_dice_bce_0_4__hvr_0_4_1/split_2/train/mask/_Image_01L_1_8.png (deflated 56%)\n",
            "  adding: chase_db_320_320_dice_bce_0_4__hvr_0_4_1/split_2/train/mask/_Image_03R_1_11.png (deflated 41%)\n",
            "  adding: chase_db_320_320_dice_bce_0_4__hvr_0_4_1/split_2/train/mask/_Image_06R_3_3.png (deflated 47%)\n",
            "  adding: chase_db_320_320_dice_bce_0_4__hvr_0_4_1/split_2/train/mask/_Image_14R_2_7.png (deflated 47%)\n",
            "  adding: chase_db_320_320_dice_bce_0_4__hvr_0_4_1/split_2/train/mask/_Image_02L_0_2.png (deflated 12%)\n",
            "  adding: chase_db_320_320_dice_bce_0_4__hvr_0_4_1/split_2/train/mask/_Image_09R_2_11.png (deflated 62%)\n",
            "  adding: chase_db_320_320_dice_bce_0_4__hvr_0_4_1/split_2/train/mask/_Image_03L_3_10.png (deflated 12%)\n",
            "  adding: chase_db_320_320_dice_bce_0_4__hvr_0_4_1/split_2/train/mask/_Image_06R_2_5.png (deflated 7%)\n",
            "  adding: chase_db_320_320_dice_bce_0_4__hvr_0_4_1/split_2/train/mask/_Image_01R_3_8.png (deflated 15%)\n",
            "  adding: chase_db_320_320_dice_bce_0_4__hvr_0_4_1/split_2/train/mask/_Image_09L_3_11.png (deflated 37%)\n",
            "  adding: chase_db_320_320_dice_bce_0_4__hvr_0_4_1/split_2/train/mask/_Image_06L_2_11.png (deflated 60%)\n",
            "  adding: chase_db_320_320_dice_bce_0_4__hvr_0_4_1/split_2/train/mask/_Image_14R_0_2.png (deflated 21%)\n",
            "  adding: chase_db_320_320_dice_bce_0_4__hvr_0_4_1/split_2/train/mask/_Image_03L_1_6.png (deflated 11%)\n",
            "  adding: chase_db_320_320_dice_bce_0_4__hvr_0_4_1/split_2/train/mask/_Image_10L_1_0.png (deflated 47%)\n",
            "  adding: chase_db_320_320_dice_bce_0_4__hvr_0_4_1/split_2/train/mask/_Image_01L_2_0.png (deflated 53%)\n",
            "  adding: chase_db_320_320_dice_bce_0_4__hvr_0_4_1/split_2/train/mask/_Image_06R_1_3.png (deflated 33%)\n",
            "  adding: chase_db_320_320_dice_bce_0_4__hvr_0_4_1/split_2/train/mask/_Image_02R_2_2.png (deflated 13%)\n",
            "  adding: chase_db_320_320_dice_bce_0_4__hvr_0_4_1/split_2/train/mask/_Image_14L_3_7.png (deflated 12%)\n",
            "  adding: chase_db_320_320_dice_bce_0_4__hvr_0_4_1/split_2/train/mask/_Image_03L_0_10.png (deflated 13%)\n",
            "  adding: chase_db_320_320_dice_bce_0_4__hvr_0_4_1/split_2/train/mask/_Image_06R_0_2.png (deflated 15%)\n",
            "  adding: chase_db_320_320_dice_bce_0_4__hvr_0_4_1/split_2/train/mask/_Image_14L_1_7.png (deflated 21%)\n",
            "  adding: chase_db_320_320_dice_bce_0_4__hvr_0_4_1/split_2/train/mask/_Image_07R_2_1.png (deflated 12%)\n",
            "  adding: chase_db_320_320_dice_bce_0_4__hvr_0_4_1/split_2/train/mask/_Image_14L_2_1.png (deflated 18%)\n",
            "  adding: chase_db_320_320_dice_bce_0_4__hvr_0_4_1/split_2/train/mask/_Image_14R_1_2.png (deflated 18%)\n",
            "  adding: chase_db_320_320_dice_bce_0_4__hvr_0_4_1/split_2/train/mask/_Image_06L_3_8.png (deflated 33%)\n",
            "  adding: chase_db_320_320_dice_bce_0_4__hvr_0_4_1/split_2/train/mask/_Image_08L_0_2.png (deflated 14%)\n",
            "  adding: chase_db_320_320_dice_bce_0_4__hvr_0_4_1/split_2/train/mask/_Image_04R_2_9.png (deflated 12%)\n",
            "  adding: chase_db_320_320_dice_bce_0_4__hvr_0_4_1/split_2/train/mask/_Image_07R_2_10.png (deflated 15%)\n",
            "  adding: chase_db_320_320_dice_bce_0_4__hvr_0_4_1/split_2/train/mask/_Image_07R_0_7.png (deflated 37%)\n",
            "  adding: chase_db_320_320_dice_bce_0_4__hvr_0_4_1/split_2/train/mask/_Image_02L_1_0.png (deflated 42%)\n",
            "  adding: chase_db_320_320_dice_bce_0_4__hvr_0_4_1/split_2/train/mask/_Image_03R_2_1.png (deflated 10%)\n",
            "  adding: chase_db_320_320_dice_bce_0_4__hvr_0_4_1/split_2/train/mask/_Image_13R_2_6.png (deflated 13%)\n",
            "  adding: chase_db_320_320_dice_bce_0_4__hvr_0_4_1/split_2/train/mask/_Image_02R_2_8.png (deflated 61%)\n",
            "  adding: chase_db_320_320_dice_bce_0_4__hvr_0_4_1/split_2/train/mask/_Image_01R_0_0.png (deflated 36%)\n",
            "  adding: chase_db_320_320_dice_bce_0_4__hvr_0_4_1/split_2/train/mask/_Image_05L_0_6.png (deflated 9%)\n",
            "  adding: chase_db_320_320_dice_bce_0_4__hvr_0_4_1/split_2/train/mask/_Image_03L_3_2.png (deflated 14%)\n",
            "  adding: chase_db_320_320_dice_bce_0_4__hvr_0_4_1/split_2/train/mask/_Image_06R_0_10.png (deflated 12%)\n",
            "  adding: chase_db_320_320_dice_bce_0_4__hvr_0_4_1/split_2/train/mask/_Image_08L_2_4.png (deflated 36%)\n",
            "  adding: chase_db_320_320_dice_bce_0_4__hvr_0_4_1/split_2/train/mask/_Image_09L_1_1.png (deflated 17%)\n",
            "  adding: chase_db_320_320_dice_bce_0_4__hvr_0_4_1/split_2/train/mask/_Image_10R_1_3.png (deflated 33%)\n",
            "  adding: chase_db_320_320_dice_bce_0_4__hvr_0_4_1/split_2/train/mask/_Image_02L_1_11.png (deflated 40%)\n",
            "  adding: chase_db_320_320_dice_bce_0_4__hvr_0_4_1/split_2/train/mask/_Image_10R_3_4.png (deflated 11%)\n",
            "  adding: chase_db_320_320_dice_bce_0_4__hvr_0_4_1/split_2/train/mask/_Image_05R_2_0.png (deflated 57%)\n",
            "  adding: chase_db_320_320_dice_bce_0_4__hvr_0_4_1/split_2/train/mask/_Image_13R_1_4.png (deflated 21%)\n",
            "  adding: chase_db_320_320_dice_bce_0_4__hvr_0_4_1/split_2/train/mask/_Image_07R_3_7.png (deflated 28%)\n",
            "  adding: chase_db_320_320_dice_bce_0_4__hvr_0_4_1/split_2/train/mask/_Image_05L_0_9.png (deflated 10%)\n",
            "  adding: chase_db_320_320_dice_bce_0_4__hvr_0_4_1/split_2/train/mask/_Image_07L_3_0.png (deflated 34%)\n",
            "  adding: chase_db_320_320_dice_bce_0_4__hvr_0_4_1/split_2/train/mask/_Image_05R_1_10.png (deflated 14%)\n",
            "  adding: chase_db_320_320_dice_bce_0_4__hvr_0_4_1/split_2/train/mask/_Image_02L_3_0.png (deflated 26%)\n",
            "  adding: chase_db_320_320_dice_bce_0_4__hvr_0_4_1/split_2/train/mask/_Image_03L_2_11.png (deflated 46%)\n",
            "  adding: chase_db_320_320_dice_bce_0_4__hvr_0_4_1/split_2/train/mask/_Image_03R_3_11.png (deflated 36%)\n",
            "  adding: chase_db_320_320_dice_bce_0_4__hvr_0_4_1/split_2/train/mask/_Image_10L_2_4.png (deflated 23%)\n",
            "  adding: chase_db_320_320_dice_bce_0_4__hvr_0_4_1/split_2/train/mask/_Image_13R_3_8.png (deflated 56%)\n",
            "  adding: chase_db_320_320_dice_bce_0_4__hvr_0_4_1/split_2/train/mask/_Image_01R_0_3.png (deflated 69%)\n",
            "  adding: chase_db_320_320_dice_bce_0_4__hvr_0_4_1/split_2/train/mask/_Image_13R_1_11.png (deflated 53%)\n",
            "  adding: chase_db_320_320_dice_bce_0_4__hvr_0_4_1/split_2/train/mask/_Image_06L_3_11.png (deflated 31%)\n",
            "  adding: chase_db_320_320_dice_bce_0_4__hvr_0_4_1/split_2/train/mask/_Image_05R_0_3.png (deflated 63%)\n",
            "  adding: chase_db_320_320_dice_bce_0_4__hvr_0_4_1/split_2/train/mask/_Image_14L_3_9.png (deflated 10%)\n",
            "  adding: chase_db_320_320_dice_bce_0_4__hvr_0_4_1/split_2/train/mask/_Image_03L_0_0.png (deflated 53%)\n",
            "  adding: chase_db_320_320_dice_bce_0_4__hvr_0_4_1/split_2/train/mask/_Image_01L_2_4.png (deflated 50%)\n",
            "  adding: chase_db_320_320_dice_bce_0_4__hvr_0_4_1/split_2/train/mask/_Image_07L_0_5.png (deflated 11%)\n",
            "  adding: chase_db_320_320_dice_bce_0_4__hvr_0_4_1/split_2/train/mask/_Image_01L_3_0.png (deflated 13%)\n",
            "  adding: chase_db_320_320_dice_bce_0_4__hvr_0_4_1/split_2/train/mask/_Image_10L_1_2.png (deflated 13%)\n",
            "  adding: chase_db_320_320_dice_bce_0_4__hvr_0_4_1/split_2/train/mask/_Image_10R_0_4.png (deflated 15%)\n",
            "  adding: chase_db_320_320_dice_bce_0_4__hvr_0_4_1/split_2/train/mask/_Image_07L_3_5.png (deflated 9%)\n",
            "  adding: chase_db_320_320_dice_bce_0_4__hvr_0_4_1/split_2/train/mask/_Image_02R_0_5.png (deflated 7%)\n",
            "  adding: chase_db_320_320_dice_bce_0_4__hvr_0_4_1/split_2/train/mask/_Image_02R_1_7.png (deflated 20%)\n",
            "  adding: chase_db_320_320_dice_bce_0_4__hvr_0_4_1/split_2/train/mask/_Image_14L_2_4.png (deflated 22%)\n",
            "  adding: chase_db_320_320_dice_bce_0_4__hvr_0_4_1/split_2/train/mask/_Image_05L_3_10.png (deflated 10%)\n",
            "  adding: chase_db_320_320_dice_bce_0_4__hvr_0_4_1/split_2/train/mask/_Image_09R_2_10.png (deflated 21%)\n",
            "  adding: chase_db_320_320_dice_bce_0_4__hvr_0_4_1/split_2/train/mask/_Image_08L_0_9.png (deflated 16%)\n",
            "  adding: chase_db_320_320_dice_bce_0_4__hvr_0_4_1/split_2/train/mask/_Image_10L_2_3.png (deflated 57%)\n",
            "  adding: chase_db_320_320_dice_bce_0_4__hvr_0_4_1/split_2/train/mask/_Image_14R_2_10.png (deflated 21%)\n",
            "  adding: chase_db_320_320_dice_bce_0_4__hvr_0_4_1/split_2/train/mask/_Image_06R_3_8.png (deflated 24%)\n",
            "  adding: chase_db_320_320_dice_bce_0_4__hvr_0_4_1/split_2/train/mask/_Image_06R_1_7.png (deflated 17%)\n",
            "  adding: chase_db_320_320_dice_bce_0_4__hvr_0_4_1/split_2/train/mask/_Image_05R_0_9.png (deflated 14%)\n",
            "  adding: chase_db_320_320_dice_bce_0_4__hvr_0_4_1/split_2/train/mask/_Image_05R_3_10.png (deflated 10%)\n",
            "  adding: chase_db_320_320_dice_bce_0_4__hvr_0_4_1/split_2/train/mask/_Image_02R_0_4.png (deflated 19%)\n",
            "  adding: chase_db_320_320_dice_bce_0_4__hvr_0_4_1/split_2/train/mask/_Image_14L_3_2.png (deflated 11%)\n",
            "  adding: chase_db_320_320_dice_bce_0_4__hvr_0_4_1/split_2/train/mask/_Image_10R_1_5.png (deflated 11%)\n",
            "  adding: chase_db_320_320_dice_bce_0_4__hvr_0_4_1/split_2/train/mask/_Image_14L_0_6.png (deflated 11%)\n",
            "  adding: chase_db_320_320_dice_bce_0_4__hvr_0_4_1/split_2/train/mask/_Image_13R_3_2.png (deflated 18%)\n",
            "  adding: chase_db_320_320_dice_bce_0_4__hvr_0_4_1/split_2/train/mask/_Image_09R_0_0.png (deflated 47%)\n",
            "  adding: chase_db_320_320_dice_bce_0_4__hvr_0_4_1/split_2/train/mask/_Image_06R_0_9.png (deflated 9%)\n",
            "  adding: chase_db_320_320_dice_bce_0_4__hvr_0_4_1/split_2/train/mask/_Image_01L_1_11.png (deflated 53%)\n",
            "  adding: chase_db_320_320_dice_bce_0_4__hvr_0_4_1/split_2/train/mask/_Image_13R_1_10.png (deflated 12%)\n",
            "  adding: chase_db_320_320_dice_bce_0_4__hvr_0_4_1/split_2/train/mask/_Image_04R_1_3.png (deflated 78%)\n",
            "  adding: chase_db_320_320_dice_bce_0_4__hvr_0_4_1/split_2/train/mask/_Image_05R_3_2.png (deflated 12%)\n",
            "  adding: chase_db_320_320_dice_bce_0_4__hvr_0_4_1/split_2/train/mask/_Image_09R_1_3.png (deflated 48%)\n",
            "  adding: chase_db_320_320_dice_bce_0_4__hvr_0_4_1/split_2/train/mask/_Image_02L_2_0.png (deflated 39%)\n",
            "  adding: chase_db_320_320_dice_bce_0_4__hvr_0_4_1/split_2/train/mask/_Image_05R_3_6.png (deflated 10%)\n",
            "  adding: chase_db_320_320_dice_bce_0_4__hvr_0_4_1/split_2/train/mask/_Image_04R_3_11.png (deflated 32%)\n",
            "  adding: chase_db_320_320_dice_bce_0_4__hvr_0_4_1/split_2/train/mask/_Image_14R_0_8.png (deflated 86%)\n",
            "  adding: chase_db_320_320_dice_bce_0_4__hvr_0_4_1/split_2/train/mask/_Image_03L_0_2.png (deflated 15%)\n",
            "  adding: chase_db_320_320_dice_bce_0_4__hvr_0_4_1/split_2/train/mask/_Image_09L_1_6.png (deflated 8%)\n",
            "  adding: chase_db_320_320_dice_bce_0_4__hvr_0_4_1/split_2/train/mask/_Image_09L_3_8.png (deflated 20%)\n",
            "  adding: chase_db_320_320_dice_bce_0_4__hvr_0_4_1/split_2/train/mask/_Image_14L_0_9.png (deflated 18%)\n",
            "  adding: chase_db_320_320_dice_bce_0_4__hvr_0_4_1/split_2/train/mask/_Image_06L_1_8.png (deflated 55%)\n",
            "  adding: chase_db_320_320_dice_bce_0_4__hvr_0_4_1/split_2/train/mask/_Image_02R_0_11.png (deflated 47%)\n",
            "  adding: chase_db_320_320_dice_bce_0_4__hvr_0_4_1/split_2/train/mask/_Image_09R_1_9.png (deflated 7%)\n",
            "  adding: chase_db_320_320_dice_bce_0_4__hvr_0_4_1/split_2/train/mask/_Image_06L_3_6.png (deflated 9%)\n",
            "  adding: chase_db_320_320_dice_bce_0_4__hvr_0_4_1/split_2/train/mask/_Image_14R_2_5.png (deflated 8%)\n",
            "  adding: chase_db_320_320_dice_bce_0_4__hvr_0_4_1/split_2/train/mask/_Image_01L_2_10.png (deflated 17%)\n",
            "  adding: chase_db_320_320_dice_bce_0_4__hvr_0_4_1/split_2/train/mask/_Image_02R_1_3.png (deflated 62%)\n",
            "  adding: chase_db_320_320_dice_bce_0_4__hvr_0_4_1/split_2/train/mask/_Image_02R_2_9.png (deflated 11%)\n",
            "  adding: chase_db_320_320_dice_bce_0_4__hvr_0_4_1/split_2/train/mask/_Image_04L_0_0.png (deflated 48%)\n",
            "  adding: chase_db_320_320_dice_bce_0_4__hvr_0_4_1/split_2/train/mask/_Image_06L_2_10.png (deflated 14%)\n",
            "  adding: chase_db_320_320_dice_bce_0_4__hvr_0_4_1/split_2/train/mask/_Image_10R_3_3.png (deflated 64%)\n",
            "  adding: chase_db_320_320_dice_bce_0_4__hvr_0_4_1/split_2/train/mask/_Image_04R_0_7.png (deflated 25%)\n",
            "  adding: chase_db_320_320_dice_bce_0_4__hvr_0_4_1/split_2/train/mask/_Image_09L_2_9.png (deflated 12%)\n",
            "  adding: chase_db_320_320_dice_bce_0_4__hvr_0_4_1/split_2/train/mask/_Image_06R_0_7.png (deflated 30%)\n",
            "  adding: chase_db_320_320_dice_bce_0_4__hvr_0_4_1/split_2/train/mask/_Image_09R_3_11.png (deflated 26%)\n",
            "  adding: chase_db_320_320_dice_bce_0_4__hvr_0_4_1/split_2/train/mask/_Image_05L_2_7.png (deflated 36%)\n",
            "  adding: chase_db_320_320_dice_bce_0_4__hvr_0_4_1/split_2/train/mask/_Image_04L_0_10.png (deflated 11%)\n",
            "  adding: chase_db_320_320_dice_bce_0_4__hvr_0_4_1/split_2/train/mask/_Image_07R_2_5.png (deflated 6%)\n",
            "  adding: chase_db_320_320_dice_bce_0_4__hvr_0_4_1/split_2/train/mask/_Image_06R_2_11.png (deflated 56%)\n",
            "  adding: chase_db_320_320_dice_bce_0_4__hvr_0_4_1/split_2/train/mask/_Image_01R_0_7.png (deflated 38%)\n",
            "  adding: chase_db_320_320_dice_bce_0_4__hvr_0_4_1/split_2/train/mask/_Image_06L_2_4.png (deflated 24%)\n",
            "  adding: chase_db_320_320_dice_bce_0_4__hvr_0_4_1/split_2/train/mask/_Image_08R_0_5.png (deflated 8%)\n",
            "  adding: chase_db_320_320_dice_bce_0_4__hvr_0_4_1/split_2/train/mask/_Image_05L_1_11.png (deflated 48%)\n",
            "  adding: chase_db_320_320_dice_bce_0_4__hvr_0_4_1/split_2/train/mask/_Image_02R_3_11.png (deflated 56%)\n",
            "  adding: chase_db_320_320_dice_bce_0_4__hvr_0_4_1/split_2/train/mask/_Image_14R_3_10.png (deflated 15%)\n",
            "  adding: chase_db_320_320_dice_bce_0_4__hvr_0_4_1/split_2/train/mask/_Image_03R_0_0.png (deflated 32%)\n",
            "  adding: chase_db_320_320_dice_bce_0_4__hvr_0_4_1/split_2/train/mask/_Image_01R_0_4.png (deflated 19%)\n",
            "  adding: chase_db_320_320_dice_bce_0_4__hvr_0_4_1/split_2/train/mask/_Image_13R_1_1.png (deflated 20%)\n",
            "  adding: chase_db_320_320_dice_bce_0_4__hvr_0_4_1/split_2/train/mask/_Image_05R_2_6.png (deflated 11%)\n",
            "  adding: chase_db_320_320_dice_bce_0_4__hvr_0_4_1/split_2/train/mask/_Image_03L_3_4.png (deflated 26%)\n",
            "  adding: chase_db_320_320_dice_bce_0_4__hvr_0_4_1/split_2/train/mask/_Image_09R_2_4.png (deflated 80%)\n",
            "  adding: chase_db_320_320_dice_bce_0_4__hvr_0_4_1/split_2/train/mask/_Image_03L_3_0.png (deflated 58%)\n",
            "  adding: chase_db_320_320_dice_bce_0_4__hvr_0_4_1/split_2/train/mask/_Image_04L_3_9.png (deflated 14%)\n",
            "  adding: chase_db_320_320_dice_bce_0_4__hvr_0_4_1/split_2/train/mask/_Image_09R_2_6.png (deflated 11%)\n",
            "  adding: chase_db_320_320_dice_bce_0_4__hvr_0_4_1/split_2/train/mask/_Image_04R_3_10.png (deflated 12%)\n",
            "  adding: chase_db_320_320_dice_bce_0_4__hvr_0_4_1/split_2/train/mask/_Image_02R_2_11.png (deflated 51%)\n",
            "  adding: chase_db_320_320_dice_bce_0_4__hvr_0_4_1/split_2/train/mask/_Image_03L_1_3.png (deflated 54%)\n",
            "  adding: chase_db_320_320_dice_bce_0_4__hvr_0_4_1/split_2/train/mask/_Image_07R_2_6.png (deflated 8%)\n",
            "  adding: chase_db_320_320_dice_bce_0_4__hvr_0_4_1/split_2/train/mask/_Image_04L_3_7.png (deflated 35%)\n",
            "  adding: chase_db_320_320_dice_bce_0_4__hvr_0_4_1/split_2/train/mask/_Image_04L_1_4.png (deflated 60%)\n",
            "  adding: chase_db_320_320_dice_bce_0_4__hvr_0_4_1/split_2/train/mask/_Image_04R_2_4.png (deflated 27%)\n",
            "  adding: chase_db_320_320_dice_bce_0_4__hvr_0_4_1/split_2/train/mask/_Image_04R_3_1.png (deflated 12%)\n",
            "  adding: chase_db_320_320_dice_bce_0_4__hvr_0_4_1/split_2/train/mask/_Image_06R_1_6.png (deflated 8%)\n",
            "  adding: chase_db_320_320_dice_bce_0_4__hvr_0_4_1/split_2/train/mask/_Image_02L_0_7.png (deflated 13%)\n",
            "  adding: chase_db_320_320_dice_bce_0_4__hvr_0_4_1/split_2/train/mask/_Image_10R_0_2.png (deflated 15%)\n",
            "  adding: chase_db_320_320_dice_bce_0_4__hvr_0_4_1/split_2/train/mask/_Image_02L_0_9.png (deflated 15%)\n",
            "  adding: chase_db_320_320_dice_bce_0_4__hvr_0_4_1/split_2/train/mask/_Image_10L_3_11.png (deflated 44%)\n",
            "  adding: chase_db_320_320_dice_bce_0_4__hvr_0_4_1/split_2/train/mask/_Image_09R_2_5.png (deflated 9%)\n",
            "  adding: chase_db_320_320_dice_bce_0_4__hvr_0_4_1/split_2/train/mask/_Image_10R_1_11.png (deflated 32%)\n",
            "  adding: chase_db_320_320_dice_bce_0_4__hvr_0_4_1/split_2/train/mask/_Image_13R_0_4.png (deflated 34%)\n",
            "  adding: chase_db_320_320_dice_bce_0_4__hvr_0_4_1/split_2/train/mask/_Image_01L_0_11.png (deflated 56%)\n",
            "  adding: chase_db_320_320_dice_bce_0_4__hvr_0_4_1/split_2/train/mask/_Image_05L_2_9.png (deflated 18%)\n",
            "  adding: chase_db_320_320_dice_bce_0_4__hvr_0_4_1/split_2/train/mask/_Image_05L_1_4.png (deflated 36%)\n",
            "  adding: chase_db_320_320_dice_bce_0_4__hvr_0_4_1/split_2/train/mask/_Image_13R_0_6.png (deflated 14%)\n",
            "  adding: chase_db_320_320_dice_bce_0_4__hvr_0_4_1/split_2/train/mask/_Image_02L_2_9.png (deflated 20%)\n",
            "  adding: chase_db_320_320_dice_bce_0_4__hvr_0_4_1/split_2/train/mask/_Image_06R_1_4.png (deflated 31%)\n",
            "  adding: chase_db_320_320_dice_bce_0_4__hvr_0_4_1/split_2/train/image/ (stored 0%)\n",
            "  adding: chase_db_320_320_dice_bce_0_4__hvr_0_4_1/split_2/train/image/_Image_01R_0_10.png (deflated 1%)\n",
            "  adding: chase_db_320_320_dice_bce_0_4__hvr_0_4_1/split_2/train/image/_Image_03R_3_4.png (deflated 2%)\n",
            "  adding: chase_db_320_320_dice_bce_0_4__hvr_0_4_1/split_2/train/image/_Image_03R_2_9.png (deflated 2%)\n",
            "  adding: chase_db_320_320_dice_bce_0_4__hvr_0_4_1/split_2/train/image/_Image_14L_1_1.png (deflated 2%)\n",
            "  adding: chase_db_320_320_dice_bce_0_4__hvr_0_4_1/split_2/train/image/_Image_10R_0_11.png (deflated 7%)\n",
            "  adding: chase_db_320_320_dice_bce_0_4__hvr_0_4_1/split_2/train/image/_Image_03L_3_11.png (deflated 4%)\n",
            "  adding: chase_db_320_320_dice_bce_0_4__hvr_0_4_1/split_2/train/image/_Image_09L_0_10.png (deflated 2%)\n",
            "  adding: chase_db_320_320_dice_bce_0_4__hvr_0_4_1/split_2/train/image/_Image_05R_2_9.png (deflated 2%)\n",
            "  adding: chase_db_320_320_dice_bce_0_4__hvr_0_4_1/split_2/train/image/_Image_01L_1_2.png (deflated 2%)\n",
            "  adding: chase_db_320_320_dice_bce_0_4__hvr_0_4_1/split_2/train/image/_Image_05L_2_11.png (deflated 5%)\n",
            "  adding: chase_db_320_320_dice_bce_0_4__hvr_0_4_1/split_2/train/image/_Image_09R_3_1.png (deflated 2%)\n",
            "  adding: chase_db_320_320_dice_bce_0_4__hvr_0_4_1/split_2/train/image/_Image_03L_0_5.png (deflated 2%)\n",
            "  adding: chase_db_320_320_dice_bce_0_4__hvr_0_4_1/split_2/train/image/_Image_06R_2_10.png (deflated 3%)\n",
            "  adding: chase_db_320_320_dice_bce_0_4__hvr_0_4_1/split_2/train/image/_Image_07R_2_11.png (deflated 5%)\n",
            "  adding: chase_db_320_320_dice_bce_0_4__hvr_0_4_1/split_2/train/image/_Image_04L_2_7.png (deflated 6%)\n",
            "  adding: chase_db_320_320_dice_bce_0_4__hvr_0_4_1/split_2/train/image/_Image_02L_2_11.png (deflated 4%)\n",
            "  adding: chase_db_320_320_dice_bce_0_4__hvr_0_4_1/split_2/train/image/_Image_01L_0_3.png (deflated 6%)\n",
            "  adding: chase_db_320_320_dice_bce_0_4__hvr_0_4_1/split_2/train/image/_Image_03R_0_7.png (deflated 3%)\n",
            "  adding: chase_db_320_320_dice_bce_0_4__hvr_0_4_1/split_2/train/image/_Image_08L_3_6.png (deflated 1%)\n",
            "  adding: chase_db_320_320_dice_bce_0_4__hvr_0_4_1/split_2/train/image/_Image_03R_1_9.png (deflated 1%)\n",
            "  adding: chase_db_320_320_dice_bce_0_4__hvr_0_4_1/split_2/train/image/_Image_10L_2_6.png (deflated 2%)\n",
            "  adding: chase_db_320_320_dice_bce_0_4__hvr_0_4_1/split_2/train/image/_Image_02L_2_7.png (deflated 4%)\n",
            "  adding: chase_db_320_320_dice_bce_0_4__hvr_0_4_1/split_2/train/image/_Image_05L_1_0.png (deflated 5%)\n",
            "  adding: chase_db_320_320_dice_bce_0_4__hvr_0_4_1/split_2/train/image/_Image_07R_1_6.png (deflated 2%)\n",
            "  adding: chase_db_320_320_dice_bce_0_4__hvr_0_4_1/split_2/train/image/_Image_04R_2_3.png (deflated 6%)\n",
            "  adding: chase_db_320_320_dice_bce_0_4__hvr_0_4_1/split_2/train/image/_Image_04R_2_10.png (deflated 2%)\n",
            "  adding: chase_db_320_320_dice_bce_0_4__hvr_0_4_1/split_2/train/image/_Image_14R_1_10.png (deflated 2%)\n",
            "  adding: chase_db_320_320_dice_bce_0_4__hvr_0_4_1/split_2/train/image/_Image_09L_0_2.png (deflated 2%)\n",
            "  adding: chase_db_320_320_dice_bce_0_4__hvr_0_4_1/split_2/train/image/_Image_03L_2_9.png (deflated 2%)\n",
            "  adding: chase_db_320_320_dice_bce_0_4__hvr_0_4_1/split_2/train/image/_Image_08L_3_2.png (deflated 3%)\n",
            "  adding: chase_db_320_320_dice_bce_0_4__hvr_0_4_1/split_2/train/image/_Image_08L_3_4.png (deflated 2%)\n",
            "  adding: chase_db_320_320_dice_bce_0_4__hvr_0_4_1/split_2/train/image/_Image_14L_3_11.png (deflated 1%)\n",
            "  adding: chase_db_320_320_dice_bce_0_4__hvr_0_4_1/split_2/train/image/_Image_03L_2_4.png (deflated 2%)\n",
            "  adding: chase_db_320_320_dice_bce_0_4__hvr_0_4_1/split_2/train/image/_Image_04L_1_9.png (deflated 2%)\n",
            "  adding: chase_db_320_320_dice_bce_0_4__hvr_0_4_1/split_2/train/image/_Image_10L_1_7.png (deflated 4%)\n",
            "  adding: chase_db_320_320_dice_bce_0_4__hvr_0_4_1/split_2/train/image/_Image_06L_0_3.png (deflated 8%)\n",
            "  adding: chase_db_320_320_dice_bce_0_4__hvr_0_4_1/split_2/train/image/_Image_09L_2_10.png (deflated 2%)\n",
            "  adding: chase_db_320_320_dice_bce_0_4__hvr_0_4_1/split_2/train/image/_Image_03L_2_1.png (deflated 1%)\n",
            "  adding: chase_db_320_320_dice_bce_0_4__hvr_0_4_1/split_2/train/image/_Image_01R_3_7.png (deflated 1%)\n",
            "  adding: chase_db_320_320_dice_bce_0_4__hvr_0_4_1/split_2/train/image/_Image_01R_2_0.png (deflated 7%)\n",
            "  adding: chase_db_320_320_dice_bce_0_4__hvr_0_4_1/split_2/train/image/_Image_04L_1_1.png (deflated 4%)\n",
            "  adding: chase_db_320_320_dice_bce_0_4__hvr_0_4_1/split_2/train/image/_Image_07L_1_8.png (deflated 5%)\n",
            "  adding: chase_db_320_320_dice_bce_0_4__hvr_0_4_1/split_2/train/image/_Image_08R_3_8.png (deflated 3%)\n",
            "  adding: chase_db_320_320_dice_bce_0_4__hvr_0_4_1/split_2/train/image/_Image_06L_1_1.png (deflated 4%)\n",
            "  adding: chase_db_320_320_dice_bce_0_4__hvr_0_4_1/split_2/train/image/_Image_04L_2_1.png (deflated 2%)\n",
            "  adding: chase_db_320_320_dice_bce_0_4__hvr_0_4_1/split_2/train/image/_Image_10R_1_0.png (deflated 7%)\n",
            "  adding: chase_db_320_320_dice_bce_0_4__hvr_0_4_1/split_2/train/image/_Image_03L_1_9.png (deflated 2%)\n",
            "  adding: chase_db_320_320_dice_bce_0_4__hvr_0_4_1/split_2/train/image/_Image_01R_3_10.png (deflated 1%)\n",
            "  adding: chase_db_320_320_dice_bce_0_4__hvr_0_4_1/split_2/train/image/_Image_01R_2_8.png (deflated 5%)\n",
            "  adding: chase_db_320_320_dice_bce_0_4__hvr_0_4_1/split_2/train/image/_Image_04R_0_5.png (deflated 2%)\n",
            "  adding: chase_db_320_320_dice_bce_0_4__hvr_0_4_1/split_2/train/image/_Image_02R_1_4.png (deflated 4%)\n",
            "  adding: chase_db_320_320_dice_bce_0_4__hvr_0_4_1/split_2/train/image/_Image_08R_1_10.png (deflated 4%)\n",
            "  adding: chase_db_320_320_dice_bce_0_4__hvr_0_4_1/split_2/train/image/_Image_03L_0_1.png (deflated 2%)\n",
            "  adding: chase_db_320_320_dice_bce_0_4__hvr_0_4_1/split_2/train/image/_Image_04R_1_1.png (deflated 2%)\n",
            "  adding: chase_db_320_320_dice_bce_0_4__hvr_0_4_1/split_2/train/image/_Image_03L_1_7.png (deflated 3%)\n",
            "  adding: chase_db_320_320_dice_bce_0_4__hvr_0_4_1/split_2/train/image/_Image_01R_1_3.png (deflated 6%)\n",
            "  adding: chase_db_320_320_dice_bce_0_4__hvr_0_4_1/split_2/train/image/_Image_07R_0_2.png (deflated 3%)\n",
            "  adding: chase_db_320_320_dice_bce_0_4__hvr_0_4_1/split_2/train/image/_Image_10L_3_5.png (deflated 1%)\n",
            "  adding: chase_db_320_320_dice_bce_0_4__hvr_0_4_1/split_2/train/image/_Image_13R_0_9.png (deflated 6%)\n",
            "  adding: chase_db_320_320_dice_bce_0_4__hvr_0_4_1/split_2/train/image/_Image_05R_2_1.png (deflated 2%)\n",
            "  adding: chase_db_320_320_dice_bce_0_4__hvr_0_4_1/split_2/train/image/_Image_05R_3_0.png (deflated 2%)\n",
            "  adding: chase_db_320_320_dice_bce_0_4__hvr_0_4_1/split_2/train/image/_Image_10R_1_7.png (deflated 5%)\n",
            "  adding: chase_db_320_320_dice_bce_0_4__hvr_0_4_1/split_2/train/image/_Image_01L_2_9.png (deflated 2%)\n",
            "  adding: chase_db_320_320_dice_bce_0_4__hvr_0_4_1/split_2/train/image/_Image_13R_2_2.png (deflated 5%)\n",
            "  adding: chase_db_320_320_dice_bce_0_4__hvr_0_4_1/split_2/train/image/_Image_02L_0_6.png (deflated 2%)\n",
            "  adding: chase_db_320_320_dice_bce_0_4__hvr_0_4_1/split_2/train/image/_Image_07R_2_8.png (deflated 4%)\n",
            "  adding: chase_db_320_320_dice_bce_0_4__hvr_0_4_1/split_2/train/image/_Image_01L_1_1.png (deflated 2%)\n",
            "  adding: chase_db_320_320_dice_bce_0_4__hvr_0_4_1/split_2/train/image/_Image_09L_0_6.png (deflated 2%)\n",
            "  adding: chase_db_320_320_dice_bce_0_4__hvr_0_4_1/split_2/train/image/_Image_09R_2_9.png (deflated 2%)\n",
            "  adding: chase_db_320_320_dice_bce_0_4__hvr_0_4_1/split_2/train/image/_Image_05R_1_1.png (deflated 2%)\n",
            "  adding: chase_db_320_320_dice_bce_0_4__hvr_0_4_1/split_2/train/image/_Image_05L_0_8.png (deflated 3%)\n",
            "  adding: chase_db_320_320_dice_bce_0_4__hvr_0_4_1/split_2/train/image/_Image_08R_3_10.png (deflated 2%)\n",
            "  adding: chase_db_320_320_dice_bce_0_4__hvr_0_4_1/split_2/train/image/_Image_03R_3_2.png (deflated 2%)\n",
            "  adding: chase_db_320_320_dice_bce_0_4__hvr_0_4_1/split_2/train/image/_Image_03R_2_4.png (deflated 5%)\n",
            "  adding: chase_db_320_320_dice_bce_0_4__hvr_0_4_1/split_2/train/image/_Image_13R_2_1.png (deflated 6%)\n",
            "  adding: chase_db_320_320_dice_bce_0_4__hvr_0_4_1/split_2/train/image/_Image_02L_0_8.png (deflated 6%)\n",
            "  adding: chase_db_320_320_dice_bce_0_4__hvr_0_4_1/split_2/train/image/_Image_01L_1_6.png (deflated 1%)\n",
            "  adding: chase_db_320_320_dice_bce_0_4__hvr_0_4_1/split_2/train/image/_Image_09L_1_5.png (deflated 2%)\n",
            "  adding: chase_db_320_320_dice_bce_0_4__hvr_0_4_1/split_2/train/image/_Image_07L_3_8.png (deflated 2%)\n",
            "  adding: chase_db_320_320_dice_bce_0_4__hvr_0_4_1/split_2/train/image/_Image_05R_1_0.png (deflated 4%)\n",
            "  adding: chase_db_320_320_dice_bce_0_4__hvr_0_4_1/split_2/train/image/_Image_13R_2_5.png (deflated 6%)\n",
            "  adding: chase_db_320_320_dice_bce_0_4__hvr_0_4_1/split_2/train/image/_Image_02R_2_5.png (deflated 3%)\n",
            "  adding: chase_db_320_320_dice_bce_0_4__hvr_0_4_1/split_2/train/image/_Image_05R_2_3.png (deflated 5%)\n",
            "  adding: chase_db_320_320_dice_bce_0_4__hvr_0_4_1/split_2/train/image/_Image_08R_2_1.png (deflated 4%)\n",
            "  adding: chase_db_320_320_dice_bce_0_4__hvr_0_4_1/split_2/train/image/_Image_01L_1_9.png (deflated 1%)\n",
            "  adding: chase_db_320_320_dice_bce_0_4__hvr_0_4_1/split_2/train/image/_Image_05L_0_10.png (deflated 2%)\n",
            "  adding: chase_db_320_320_dice_bce_0_4__hvr_0_4_1/split_2/train/image/_Image_07L_1_10.png (deflated 2%)\n",
            "  adding: chase_db_320_320_dice_bce_0_4__hvr_0_4_1/split_2/train/image/_Image_02R_3_10.png (deflated 1%)\n",
            "  adding: chase_db_320_320_dice_bce_0_4__hvr_0_4_1/split_2/train/image/_Image_08L_1_1.png (deflated 3%)\n",
            "  adding: chase_db_320_320_dice_bce_0_4__hvr_0_4_1/split_2/train/image/_Image_02R_3_1.png (deflated 2%)\n",
            "  adding: chase_db_320_320_dice_bce_0_4__hvr_0_4_1/split_2/train/image/_Image_02L_2_2.png (deflated 2%)\n",
            "  adding: chase_db_320_320_dice_bce_0_4__hvr_0_4_1/split_2/train/image/_Image_02L_0_3.png (deflated 5%)\n",
            "  adding: chase_db_320_320_dice_bce_0_4__hvr_0_4_1/split_2/train/image/_Image_07L_1_2.png (deflated 3%)\n",
            "  adding: chase_db_320_320_dice_bce_0_4__hvr_0_4_1/split_2/train/image/_Image_09R_1_4.png (deflated 7%)\n",
            "  adding: chase_db_320_320_dice_bce_0_4__hvr_0_4_1/split_2/train/image/_Image_13R_1_9.png (deflated 5%)\n",
            "  adding: chase_db_320_320_dice_bce_0_4__hvr_0_4_1/split_2/train/image/_Image_14L_3_10.png (deflated 1%)\n",
            "  adding: chase_db_320_320_dice_bce_0_4__hvr_0_4_1/split_2/train/image/_Image_08R_2_4.png (deflated 7%)\n",
            "  adding: chase_db_320_320_dice_bce_0_4__hvr_0_4_1/split_2/train/image/_Image_07R_2_2.png (deflated 1%)\n",
            "  adding: chase_db_320_320_dice_bce_0_4__hvr_0_4_1/split_2/train/image/_Image_07R_0_10.png (deflated 1%)\n",
            "  adding: chase_db_320_320_dice_bce_0_4__hvr_0_4_1/split_2/train/image/_Image_09L_2_8.png (deflated 6%)\n",
            "  adding: chase_db_320_320_dice_bce_0_4__hvr_0_4_1/split_2/train/image/_Image_13R_3_4.png (deflated 9%)\n",
            "  adding: chase_db_320_320_dice_bce_0_4__hvr_0_4_1/split_2/train/image/_Image_04R_1_0.png (deflated 4%)\n",
            "  adding: chase_db_320_320_dice_bce_0_4__hvr_0_4_1/split_2/train/image/_Image_14R_0_9.png (deflated 2%)\n",
            "  adding: chase_db_320_320_dice_bce_0_4__hvr_0_4_1/split_2/train/image/_Image_10L_0_6.png (deflated 2%)\n",
            "  adding: chase_db_320_320_dice_bce_0_4__hvr_0_4_1/split_2/train/image/_Image_05R_1_8.png (deflated 3%)\n",
            "  adding: chase_db_320_320_dice_bce_0_4__hvr_0_4_1/split_2/train/image/_Image_10L_3_3.png (deflated 2%)\n",
            "  adding: chase_db_320_320_dice_bce_0_4__hvr_0_4_1/split_2/train/image/_Image_08R_1_2.png (deflated 4%)\n",
            "  adding: chase_db_320_320_dice_bce_0_4__hvr_0_4_1/split_2/train/image/_Image_02L_3_11.png (deflated 2%)\n",
            "  adding: chase_db_320_320_dice_bce_0_4__hvr_0_4_1/split_2/train/image/_Image_07R_0_4.png (deflated 3%)\n",
            "  adding: chase_db_320_320_dice_bce_0_4__hvr_0_4_1/split_2/train/image/_Image_01R_2_2.png (deflated 1%)\n",
            "  adding: chase_db_320_320_dice_bce_0_4__hvr_0_4_1/split_2/train/image/_Image_04L_1_5.png (deflated 2%)\n",
            "  adding: chase_db_320_320_dice_bce_0_4__hvr_0_4_1/split_2/train/image/_Image_08R_3_6.png (deflated 2%)\n",
            "  adding: chase_db_320_320_dice_bce_0_4__hvr_0_4_1/split_2/train/image/_Image_04L_2_5.png (deflated 3%)\n",
            "  adding: chase_db_320_320_dice_bce_0_4__hvr_0_4_1/split_2/train/image/_Image_10L_3_10.png (deflated 2%)\n",
            "  adding: chase_db_320_320_dice_bce_0_4__hvr_0_4_1/split_2/train/image/_Image_10R_3_9.png (deflated 1%)\n",
            "  adding: chase_db_320_320_dice_bce_0_4__hvr_0_4_1/split_2/train/image/_Image_06L_2_9.png (deflated 4%)\n",
            "  adding: chase_db_320_320_dice_bce_0_4__hvr_0_4_1/split_2/train/image/_Image_07L_2_10.png (deflated 3%)\n",
            "  adding: chase_db_320_320_dice_bce_0_4__hvr_0_4_1/split_2/train/image/_Image_10R_0_10.png (deflated 2%)\n",
            "  adding: chase_db_320_320_dice_bce_0_4__hvr_0_4_1/split_2/train/image/_Image_09L_3_2.png (deflated 2%)\n",
            "  adding: chase_db_320_320_dice_bce_0_4__hvr_0_4_1/split_2/train/image/_Image_03R_1_6.png (deflated 2%)\n",
            "  adding: chase_db_320_320_dice_bce_0_4__hvr_0_4_1/split_2/train/image/_Image_05L_1_3.png (deflated 4%)\n",
            "  adding: chase_db_320_320_dice_bce_0_4__hvr_0_4_1/split_2/train/image/_Image_08R_3_3.png (deflated 2%)\n",
            "  adding: chase_db_320_320_dice_bce_0_4__hvr_0_4_1/split_2/train/image/_Image_07L_2_0.png (deflated 5%)\n",
            "  adding: chase_db_320_320_dice_bce_0_4__hvr_0_4_1/split_2/train/image/_Image_14L_2_2.png (deflated 2%)\n",
            "  adding: chase_db_320_320_dice_bce_0_4__hvr_0_4_1/split_2/train/image/_Image_03L_1_2.png (deflated 2%)\n",
            "  adding: chase_db_320_320_dice_bce_0_4__hvr_0_4_1/split_2/train/image/_Image_03L_2_0.png (deflated 5%)\n",
            "  adding: chase_db_320_320_dice_bce_0_4__hvr_0_4_1/split_2/train/image/_Image_09L_1_2.png (deflated 4%)\n",
            "  adding: chase_db_320_320_dice_bce_0_4__hvr_0_4_1/split_2/train/image/_Image_05R_3_5.png (deflated 2%)\n",
            "  adding: chase_db_320_320_dice_bce_0_4__hvr_0_4_1/split_2/train/image/_Image_07R_0_8.png (deflated 4%)\n",
            "  adding: chase_db_320_320_dice_bce_0_4__hvr_0_4_1/split_2/train/image/_Image_04R_0_3.png (deflated 4%)\n",
            "  adding: chase_db_320_320_dice_bce_0_4__hvr_0_4_1/split_2/train/image/_Image_10R_3_5.png (deflated 1%)\n",
            "  adding: chase_db_320_320_dice_bce_0_4__hvr_0_4_1/split_2/train/image/_Image_07L_1_11.png (deflated 4%)\n",
            "  adding: chase_db_320_320_dice_bce_0_4__hvr_0_4_1/split_2/train/image/_Image_08L_2_0.png (deflated 7%)\n",
            "  adding: chase_db_320_320_dice_bce_0_4__hvr_0_4_1/split_2/train/image/_Image_10L_0_7.png (deflated 6%)\n",
            "  adding: chase_db_320_320_dice_bce_0_4__hvr_0_4_1/split_2/train/image/_Image_02R_1_9.png (deflated 1%)\n",
            "  adding: chase_db_320_320_dice_bce_0_4__hvr_0_4_1/split_2/train/image/_Image_10L_0_1.png (deflated 5%)\n",
            "  adding: chase_db_320_320_dice_bce_0_4__hvr_0_4_1/split_2/train/image/_Image_06R_1_10.png (deflated 2%)\n",
            "  adding: chase_db_320_320_dice_bce_0_4__hvr_0_4_1/split_2/train/image/_Image_04R_3_7.png (deflated 1%)\n",
            "  adding: chase_db_320_320_dice_bce_0_4__hvr_0_4_1/split_2/train/image/_Image_01L_1_5.png (deflated 2%)\n",
            "  adding: chase_db_320_320_dice_bce_0_4__hvr_0_4_1/split_2/train/image/_Image_01R_2_10.png (deflated 3%)\n",
            "  adding: chase_db_320_320_dice_bce_0_4__hvr_0_4_1/split_2/train/image/_Image_02L_2_1.png (deflated 3%)\n",
            "  adding: chase_db_320_320_dice_bce_0_4__hvr_0_4_1/split_2/train/image/_Image_05R_0_8.png (deflated 4%)\n",
            "  adding: chase_db_320_320_dice_bce_0_4__hvr_0_4_1/split_2/train/image/_Image_06R_1_5.png (deflated 2%)\n",
            "  adding: chase_db_320_320_dice_bce_0_4__hvr_0_4_1/split_2/train/image/_Image_06L_0_4.png (deflated 3%)\n",
            "  adding: chase_db_320_320_dice_bce_0_4__hvr_0_4_1/split_2/train/image/_Image_03R_1_8.png (deflated 5%)\n",
            "  adding: chase_db_320_320_dice_bce_0_4__hvr_0_4_1/split_2/train/image/_Image_04L_0_11.png (deflated 9%)\n",
            "  adding: chase_db_320_320_dice_bce_0_4__hvr_0_4_1/split_2/train/image/_Image_14L_0_3.png (deflated 4%)\n",
            "  adding: chase_db_320_320_dice_bce_0_4__hvr_0_4_1/split_2/train/image/_Image_08R_2_9.png (deflated 4%)\n",
            "  adding: chase_db_320_320_dice_bce_0_4__hvr_0_4_1/split_2/train/image/_Image_02R_3_0.png (deflated 4%)\n",
            "  adding: chase_db_320_320_dice_bce_0_4__hvr_0_4_1/split_2/train/image/_Image_05L_0_7.png (deflated 4%)\n",
            "  adding: chase_db_320_320_dice_bce_0_4__hvr_0_4_1/split_2/train/image/_Image_10L_1_5.png (deflated 2%)\n",
            "  adding: chase_db_320_320_dice_bce_0_4__hvr_0_4_1/split_2/train/image/_Image_07R_3_2.png (deflated 2%)\n",
            "  adding: chase_db_320_320_dice_bce_0_4__hvr_0_4_1/split_2/train/image/_Image_07R_3_3.png (deflated 4%)\n",
            "  adding: chase_db_320_320_dice_bce_0_4__hvr_0_4_1/split_2/train/image/_Image_04R_1_5.png (deflated 2%)\n",
            "  adding: chase_db_320_320_dice_bce_0_4__hvr_0_4_1/split_2/train/image/_Image_06L_0_1.png (deflated 5%)\n",
            "  adding: chase_db_320_320_dice_bce_0_4__hvr_0_4_1/split_2/train/image/_Image_03L_1_8.png (deflated 4%)\n",
            "  adding: chase_db_320_320_dice_bce_0_4__hvr_0_4_1/split_2/train/image/_Image_14R_3_1.png (deflated 2%)\n",
            "  adding: chase_db_320_320_dice_bce_0_4__hvr_0_4_1/split_2/train/image/_Image_03R_1_10.png (deflated 2%)\n",
            "  adding: chase_db_320_320_dice_bce_0_4__hvr_0_4_1/split_2/train/image/_Image_01L_3_11.png (deflated 1%)\n",
            "  adding: chase_db_320_320_dice_bce_0_4__hvr_0_4_1/split_2/train/image/_Image_13R_3_7.png (deflated 6%)\n",
            "  adding: chase_db_320_320_dice_bce_0_4__hvr_0_4_1/split_2/train/image/_Image_04L_1_6.png (deflated 3%)\n",
            "  adding: chase_db_320_320_dice_bce_0_4__hvr_0_4_1/split_2/train/image/_Image_08L_0_7.png (deflated 5%)\n",
            "  adding: chase_db_320_320_dice_bce_0_4__hvr_0_4_1/split_2/train/image/_Image_03L_3_6.png (deflated 2%)\n",
            "  adding: chase_db_320_320_dice_bce_0_4__hvr_0_4_1/split_2/train/image/_Image_09L_3_7.png (deflated 1%)\n",
            "  adding: chase_db_320_320_dice_bce_0_4__hvr_0_4_1/split_2/train/image/_Image_13R_3_11.png (deflated 7%)\n",
            "  adding: chase_db_320_320_dice_bce_0_4__hvr_0_4_1/split_2/train/image/_Image_14L_3_6.png (deflated 2%)\n",
            "  adding: chase_db_320_320_dice_bce_0_4__hvr_0_4_1/split_2/train/image/_Image_06R_2_4.png (deflated 6%)\n",
            "  adding: chase_db_320_320_dice_bce_0_4__hvr_0_4_1/split_2/train/image/_Image_05R_0_5.png (deflated 2%)\n",
            "  adding: chase_db_320_320_dice_bce_0_4__hvr_0_4_1/split_2/train/image/_Image_08L_1_11.png (deflated 7%)\n",
            "  adding: chase_db_320_320_dice_bce_0_4__hvr_0_4_1/split_2/train/image/_Image_10L_2_10.png (deflated 3%)\n",
            "  adding: chase_db_320_320_dice_bce_0_4__hvr_0_4_1/split_2/train/image/_Image_05R_2_2.png (deflated 2%)\n",
            "  adding: chase_db_320_320_dice_bce_0_4__hvr_0_4_1/split_2/train/image/_Image_08L_1_9.png (deflated 3%)\n",
            "  adding: chase_db_320_320_dice_bce_0_4__hvr_0_4_1/split_2/train/image/_Image_09L_1_4.png (deflated 2%)\n",
            "  adding: chase_db_320_320_dice_bce_0_4__hvr_0_4_1/split_2/train/image/_Image_08L_2_3.png (deflated 8%)\n",
            "  adding: chase_db_320_320_dice_bce_0_4__hvr_0_4_1/split_2/train/image/_Image_06R_0_5.png (deflated 3%)\n",
            "  adding: chase_db_320_320_dice_bce_0_4__hvr_0_4_1/split_2/train/image/_Image_04R_1_9.png (deflated 2%)\n",
            "  adding: chase_db_320_320_dice_bce_0_4__hvr_0_4_1/split_2/train/image/_Image_04L_3_0.png (deflated 2%)\n",
            "  adding: chase_db_320_320_dice_bce_0_4__hvr_0_4_1/split_2/train/image/_Image_01R_1_9.png (deflated 1%)\n",
            "  adding: chase_db_320_320_dice_bce_0_4__hvr_0_4_1/split_2/train/image/_Image_02R_0_2.png (deflated 4%)\n",
            "  adding: chase_db_320_320_dice_bce_0_4__hvr_0_4_1/split_2/train/image/_Image_13R_3_3.png (deflated 7%)\n",
            "  adding: chase_db_320_320_dice_bce_0_4__hvr_0_4_1/split_2/train/image/_Image_07L_2_11.png (deflated 7%)\n",
            "  adding: chase_db_320_320_dice_bce_0_4__hvr_0_4_1/split_2/train/image/_Image_09R_1_8.png (deflated 4%)\n",
            "  adding: chase_db_320_320_dice_bce_0_4__hvr_0_4_1/split_2/train/image/_Image_05L_2_6.png (deflated 2%)\n",
            "  adding: chase_db_320_320_dice_bce_0_4__hvr_0_4_1/split_2/train/image/_Image_08R_2_6.png (deflated 3%)\n",
            "  adding: chase_db_320_320_dice_bce_0_4__hvr_0_4_1/split_2/train/image/_Image_06L_3_7.png (deflated 3%)\n",
            "  adding: chase_db_320_320_dice_bce_0_4__hvr_0_4_1/split_2/train/image/_Image_10L_3_1.png (deflated 2%)\n",
            "  adding: chase_db_320_320_dice_bce_0_4__hvr_0_4_1/split_2/train/image/_Image_02R_0_8.png (deflated 6%)\n",
            "  adding: chase_db_320_320_dice_bce_0_4__hvr_0_4_1/split_2/train/image/_Image_07L_0_8.png (deflated 5%)\n",
            "  adding: chase_db_320_320_dice_bce_0_4__hvr_0_4_1/split_2/train/image/_Image_08L_2_2.png (deflated 3%)\n",
            "  adding: chase_db_320_320_dice_bce_0_4__hvr_0_4_1/split_2/train/image/_Image_03R_0_6.png (deflated 1%)\n",
            "  adding: chase_db_320_320_dice_bce_0_4__hvr_0_4_1/split_2/train/image/_Image_09L_1_10.png (deflated 2%)\n",
            "  adding: chase_db_320_320_dice_bce_0_4__hvr_0_4_1/split_2/train/image/_Image_06L_1_0.png (deflated 9%)\n",
            "  adding: chase_db_320_320_dice_bce_0_4__hvr_0_4_1/split_2/train/image/_Image_09R_0_7.png (deflated 6%)\n",
            "  adding: chase_db_320_320_dice_bce_0_4__hvr_0_4_1/split_2/train/image/_Image_07L_3_4.png (deflated 2%)\n",
            "  adding: chase_db_320_320_dice_bce_0_4__hvr_0_4_1/split_2/train/image/_Image_13R_1_7.png (deflated 12%)\n",
            "  adding: chase_db_320_320_dice_bce_0_4__hvr_0_4_1/split_2/train/image/_Image_14R_1_3.png (deflated 8%)\n",
            "  adding: chase_db_320_320_dice_bce_0_4__hvr_0_4_1/split_2/train/image/_Image_03L_2_3.png (deflated 5%)\n",
            "  adding: chase_db_320_320_dice_bce_0_4__hvr_0_4_1/split_2/train/image/_Image_10R_1_9.png (deflated 2%)\n",
            "  adding: chase_db_320_320_dice_bce_0_4__hvr_0_4_1/split_2/train/image/_Image_10L_1_10.png (deflated 2%)\n",
            "  adding: chase_db_320_320_dice_bce_0_4__hvr_0_4_1/split_2/train/image/_Image_06L_1_3.png (deflated 6%)\n",
            "  adding: chase_db_320_320_dice_bce_0_4__hvr_0_4_1/split_2/train/image/_Image_07L_2_8.png (deflated 4%)\n",
            "  adding: chase_db_320_320_dice_bce_0_4__hvr_0_4_1/split_2/train/image/_Image_10R_1_10.png (deflated 2%)\n",
            "  adding: chase_db_320_320_dice_bce_0_4__hvr_0_4_1/split_2/train/image/_Image_13R_3_10.png (deflated 4%)\n",
            "  adding: chase_db_320_320_dice_bce_0_4__hvr_0_4_1/split_2/train/image/_Image_01L_0_9.png (deflated 1%)\n",
            "  adding: chase_db_320_320_dice_bce_0_4__hvr_0_4_1/split_2/train/image/_Image_08R_3_5.png (deflated 2%)\n",
            "  adding: chase_db_320_320_dice_bce_0_4__hvr_0_4_1/split_2/train/image/_Image_07R_2_4.png (deflated 3%)\n",
            "  adding: chase_db_320_320_dice_bce_0_4__hvr_0_4_1/split_2/train/image/_Image_09L_3_4.png (deflated 2%)\n",
            "  adding: chase_db_320_320_dice_bce_0_4__hvr_0_4_1/split_2/train/image/_Image_10R_0_9.png (deflated 2%)\n",
            "  adding: chase_db_320_320_dice_bce_0_4__hvr_0_4_1/split_2/train/image/_Image_08R_1_1.png (deflated 4%)\n",
            "  adding: chase_db_320_320_dice_bce_0_4__hvr_0_4_1/split_2/train/image/_Image_01R_1_8.png (deflated 6%)\n",
            "  adding: chase_db_320_320_dice_bce_0_4__hvr_0_4_1/split_2/train/image/_Image_07R_1_1.png (deflated 3%)\n",
            "  adding: chase_db_320_320_dice_bce_0_4__hvr_0_4_1/split_2/train/image/_Image_08R_0_7.png (deflated 5%)\n",
            "  adding: chase_db_320_320_dice_bce_0_4__hvr_0_4_1/split_2/train/image/_Image_03L_1_1.png (deflated 2%)\n",
            "  adding: chase_db_320_320_dice_bce_0_4__hvr_0_4_1/split_2/train/image/_Image_05L_3_3.png (deflated 5%)\n",
            "  adding: chase_db_320_320_dice_bce_0_4__hvr_0_4_1/split_2/train/image/_Image_14L_3_4.png (deflated 1%)\n",
            "  adding: chase_db_320_320_dice_bce_0_4__hvr_0_4_1/split_2/train/image/_Image_08R_3_9.png (deflated 2%)\n",
            "  adding: chase_db_320_320_dice_bce_0_4__hvr_0_4_1/split_2/train/image/_Image_05R_1_3.png (deflated 5%)\n",
            "  adding: chase_db_320_320_dice_bce_0_4__hvr_0_4_1/split_2/train/image/_Image_05L_1_6.png (deflated 2%)\n",
            "  adding: chase_db_320_320_dice_bce_0_4__hvr_0_4_1/split_2/train/image/_Image_09R_1_5.png (deflated 3%)\n",
            "  adding: chase_db_320_320_dice_bce_0_4__hvr_0_4_1/split_2/train/image/_Image_10R_3_2.png (deflated 2%)\n",
            "  adding: chase_db_320_320_dice_bce_0_4__hvr_0_4_1/split_2/train/image/_Image_02R_2_4.png (deflated 5%)\n",
            "  adding: chase_db_320_320_dice_bce_0_4__hvr_0_4_1/split_2/train/image/_Image_09L_1_8.png (deflated 6%)\n",
            "  adding: chase_db_320_320_dice_bce_0_4__hvr_0_4_1/split_2/train/image/_Image_07L_0_0.png (deflated 5%)\n",
            "  adding: chase_db_320_320_dice_bce_0_4__hvr_0_4_1/split_2/train/image/_Image_04R_0_10.png (deflated 2%)\n",
            "  adding: chase_db_320_320_dice_bce_0_4__hvr_0_4_1/split_2/train/image/_Image_10L_1_11.png (deflated 5%)\n",
            "  adding: chase_db_320_320_dice_bce_0_4__hvr_0_4_1/split_2/train/image/_Image_01R_1_1.png (deflated 2%)\n",
            "  adding: chase_db_320_320_dice_bce_0_4__hvr_0_4_1/split_2/train/image/_Image_05L_2_3.png (deflated 5%)\n",
            "  adding: chase_db_320_320_dice_bce_0_4__hvr_0_4_1/split_2/train/image/_Image_09L_2_1.png (deflated 2%)\n",
            "  adding: chase_db_320_320_dice_bce_0_4__hvr_0_4_1/split_2/train/image/_Image_10R_1_2.png (deflated 3%)\n",
            "  adding: chase_db_320_320_dice_bce_0_4__hvr_0_4_1/split_2/train/image/_Image_01L_3_7.png (deflated 2%)\n",
            "  adding: chase_db_320_320_dice_bce_0_4__hvr_0_4_1/split_2/train/image/_Image_05L_2_1.png (deflated 2%)\n",
            "  adding: chase_db_320_320_dice_bce_0_4__hvr_0_4_1/split_2/train/image/_Image_07R_1_2.png (deflated 3%)\n",
            "  adding: chase_db_320_320_dice_bce_0_4__hvr_0_4_1/split_2/train/image/_Image_10L_0_10.png (deflated 2%)\n",
            "  adding: chase_db_320_320_dice_bce_0_4__hvr_0_4_1/split_2/train/image/_Image_14L_0_11.png (deflated 4%)\n",
            "  adding: chase_db_320_320_dice_bce_0_4__hvr_0_4_1/split_2/train/image/_Image_06L_2_8.png (deflated 4%)\n",
            "  adding: chase_db_320_320_dice_bce_0_4__hvr_0_4_1/split_2/train/image/_Image_10R_3_0.png (deflated 3%)\n",
            "  adding: chase_db_320_320_dice_bce_0_4__hvr_0_4_1/split_2/train/image/_Image_05L_0_11.png (deflated 4%)\n",
            "  adding: chase_db_320_320_dice_bce_0_4__hvr_0_4_1/split_2/train/image/_Image_05R_1_7.png (deflated 5%)\n",
            "  adding: chase_db_320_320_dice_bce_0_4__hvr_0_4_1/split_2/train/image/_Image_04R_0_9.png (deflated 2%)\n",
            "  adding: chase_db_320_320_dice_bce_0_4__hvr_0_4_1/split_2/train/image/_Image_07R_1_10.png (deflated 2%)\n",
            "  adding: chase_db_320_320_dice_bce_0_4__hvr_0_4_1/split_2/train/image/_Image_14R_0_10.png (deflated 2%)\n",
            "  adding: chase_db_320_320_dice_bce_0_4__hvr_0_4_1/split_2/train/image/_Image_08R_0_6.png (deflated 3%)\n",
            "  adding: chase_db_320_320_dice_bce_0_4__hvr_0_4_1/split_2/train/image/_Image_14L_0_7.png (deflated 3%)\n",
            "  adding: chase_db_320_320_dice_bce_0_4__hvr_0_4_1/split_2/train/image/_Image_08L_3_8.png (deflated 2%)\n",
            "  adding: chase_db_320_320_dice_bce_0_4__hvr_0_4_1/split_2/train/image/_Image_02L_0_1.png (deflated 5%)\n",
            "  adding: chase_db_320_320_dice_bce_0_4__hvr_0_4_1/split_2/train/image/_Image_03L_2_2.png (deflated 1%)\n",
            "  adding: chase_db_320_320_dice_bce_0_4__hvr_0_4_1/split_2/train/image/_Image_04L_1_2.png (deflated 4%)\n",
            "  adding: chase_db_320_320_dice_bce_0_4__hvr_0_4_1/split_2/train/image/_Image_06L_2_3.png (deflated 7%)\n",
            "  adding: chase_db_320_320_dice_bce_0_4__hvr_0_4_1/split_2/train/image/_Image_14L_0_10.png (deflated 2%)\n",
            "  adding: chase_db_320_320_dice_bce_0_4__hvr_0_4_1/split_2/train/image/_Image_06R_0_1.png (deflated 3%)\n",
            "  adding: chase_db_320_320_dice_bce_0_4__hvr_0_4_1/split_2/train/image/_Image_09L_0_4.png (deflated 7%)\n",
            "  adding: chase_db_320_320_dice_bce_0_4__hvr_0_4_1/split_2/train/image/_Image_01L_0_1.png (deflated 2%)\n",
            "  adding: chase_db_320_320_dice_bce_0_4__hvr_0_4_1/split_2/train/image/_Image_07L_2_4.png (deflated 3%)\n",
            "  adding: chase_db_320_320_dice_bce_0_4__hvr_0_4_1/split_2/train/image/_Image_01L_3_8.png (deflated 2%)\n",
            "  adding: chase_db_320_320_dice_bce_0_4__hvr_0_4_1/split_2/train/image/_Image_07R_1_8.png (deflated 6%)\n",
            "  adding: chase_db_320_320_dice_bce_0_4__hvr_0_4_1/split_2/train/image/_Image_08R_1_11.png (deflated 8%)\n",
            "  adding: chase_db_320_320_dice_bce_0_4__hvr_0_4_1/split_2/train/image/_Image_02R_0_10.png (deflated 2%)\n",
            "  adding: chase_db_320_320_dice_bce_0_4__hvr_0_4_1/split_2/train/image/_Image_02L_3_2.png (deflated 2%)\n",
            "  adding: chase_db_320_320_dice_bce_0_4__hvr_0_4_1/split_2/train/image/_Image_02R_3_5.png (deflated 2%)\n",
            "  adding: chase_db_320_320_dice_bce_0_4__hvr_0_4_1/split_2/train/image/_Image_09R_3_4.png (deflated 2%)\n",
            "  adding: chase_db_320_320_dice_bce_0_4__hvr_0_4_1/split_2/train/image/_Image_14L_1_0.png (deflated 5%)\n",
            "  adding: chase_db_320_320_dice_bce_0_4__hvr_0_4_1/split_2/train/image/_Image_13R_2_7.png (deflated 7%)\n",
            "  adding: chase_db_320_320_dice_bce_0_4__hvr_0_4_1/split_2/train/image/_Image_02L_0_4.png (deflated 4%)\n",
            "  adding: chase_db_320_320_dice_bce_0_4__hvr_0_4_1/split_2/train/image/_Image_08R_0_1.png (deflated 4%)\n",
            "  adding: chase_db_320_320_dice_bce_0_4__hvr_0_4_1/split_2/train/image/_Image_05L_2_2.png (deflated 2%)\n",
            "  adding: chase_db_320_320_dice_bce_0_4__hvr_0_4_1/split_2/train/image/_Image_09L_0_11.png (deflated 6%)\n",
            "  adding: chase_db_320_320_dice_bce_0_4__hvr_0_4_1/split_2/train/image/_Image_07R_3_4.png (deflated 1%)\n",
            "  adding: chase_db_320_320_dice_bce_0_4__hvr_0_4_1/split_2/train/image/_Image_09L_1_9.png (deflated 1%)\n",
            "  adding: chase_db_320_320_dice_bce_0_4__hvr_0_4_1/split_2/train/image/_Image_03R_0_8.png (deflated 5%)\n",
            "  adding: chase_db_320_320_dice_bce_0_4__hvr_0_4_1/split_2/train/image/_Image_10R_1_6.png (deflated 2%)\n",
            "  adding: chase_db_320_320_dice_bce_0_4__hvr_0_4_1/split_2/train/image/_Image_14L_2_3.png (deflated 5%)\n",
            "  adding: chase_db_320_320_dice_bce_0_4__hvr_0_4_1/split_2/train/image/_Image_04L_0_6.png (deflated 2%)\n",
            "  adding: chase_db_320_320_dice_bce_0_4__hvr_0_4_1/split_2/train/image/_Image_06L_0_2.png (deflated 4%)\n",
            "  adding: chase_db_320_320_dice_bce_0_4__hvr_0_4_1/split_2/train/image/_Image_03R_1_4.png (deflated 3%)\n",
            "  adding: chase_db_320_320_dice_bce_0_4__hvr_0_4_1/split_2/train/image/_Image_04L_1_11.png (deflated 4%)\n",
            "  adding: chase_db_320_320_dice_bce_0_4__hvr_0_4_1/split_2/train/image/_Image_13R_3_5.png (deflated 4%)\n",
            "  adding: chase_db_320_320_dice_bce_0_4__hvr_0_4_1/split_2/train/image/_Image_02R_0_6.png (deflated 1%)\n",
            "  adding: chase_db_320_320_dice_bce_0_4__hvr_0_4_1/split_2/train/image/_Image_08L_2_11.png (deflated 6%)\n",
            "  adding: chase_db_320_320_dice_bce_0_4__hvr_0_4_1/split_2/train/image/_Image_01L_2_1.png (deflated 1%)\n",
            "  adding: chase_db_320_320_dice_bce_0_4__hvr_0_4_1/split_2/train/image/_Image_02L_2_3.png (deflated 6%)\n",
            "  adding: chase_db_320_320_dice_bce_0_4__hvr_0_4_1/split_2/train/image/_Image_09R_2_0.png (deflated 6%)\n",
            "  adding: chase_db_320_320_dice_bce_0_4__hvr_0_4_1/split_2/train/image/_Image_09R_1_2.png (deflated 2%)\n",
            "  adding: chase_db_320_320_dice_bce_0_4__hvr_0_4_1/split_2/train/image/_Image_05L_2_10.png (deflated 2%)\n",
            "  adding: chase_db_320_320_dice_bce_0_4__hvr_0_4_1/split_2/train/image/_Image_14R_1_0.png (deflated 7%)\n",
            "  adding: chase_db_320_320_dice_bce_0_4__hvr_0_4_1/split_2/train/image/_Image_09L_2_4.png (deflated 8%)\n",
            "  adding: chase_db_320_320_dice_bce_0_4__hvr_0_4_1/split_2/train/image/_Image_10L_3_8.png (deflated 1%)\n",
            "  adding: chase_db_320_320_dice_bce_0_4__hvr_0_4_1/split_2/train/image/_Image_08L_0_5.png (deflated 2%)\n",
            "  adding: chase_db_320_320_dice_bce_0_4__hvr_0_4_1/split_2/train/image/_Image_01R_0_9.png (deflated 3%)\n",
            "  adding: chase_db_320_320_dice_bce_0_4__hvr_0_4_1/split_2/train/image/_Image_06L_3_3.png (deflated 7%)\n",
            "  adding: chase_db_320_320_dice_bce_0_4__hvr_0_4_1/split_2/train/image/_Image_02R_2_1.png (deflated 2%)\n",
            "  adding: chase_db_320_320_dice_bce_0_4__hvr_0_4_1/split_2/train/image/_Image_01R_0_2.png (deflated 3%)\n",
            "  adding: chase_db_320_320_dice_bce_0_4__hvr_0_4_1/split_2/train/image/_Image_07R_0_5.png (deflated 2%)\n",
            "  adding: chase_db_320_320_dice_bce_0_4__hvr_0_4_1/split_2/train/image/_Image_02R_0_1.png (deflated 3%)\n",
            "  adding: chase_db_320_320_dice_bce_0_4__hvr_0_4_1/split_2/train/image/_Image_10L_2_7.png (deflated 6%)\n",
            "  adding: chase_db_320_320_dice_bce_0_4__hvr_0_4_1/split_2/train/image/_Image_01R_3_0.png (deflated 2%)\n",
            "  adding: chase_db_320_320_dice_bce_0_4__hvr_0_4_1/split_2/train/image/_Image_04L_2_10.png (deflated 4%)\n",
            "  adding: chase_db_320_320_dice_bce_0_4__hvr_0_4_1/split_2/train/image/_Image_03R_2_7.png (deflated 3%)\n",
            "  adding: chase_db_320_320_dice_bce_0_4__hvr_0_4_1/split_2/train/image/_Image_08R_2_2.png (deflated 4%)\n",
            "  adding: chase_db_320_320_dice_bce_0_4__hvr_0_4_1/split_2/train/image/_Image_05L_3_2.png (deflated 2%)\n",
            "  adding: chase_db_320_320_dice_bce_0_4__hvr_0_4_1/split_2/train/image/_Image_10L_0_5.png (deflated 2%)\n",
            "  adding: chase_db_320_320_dice_bce_0_4__hvr_0_4_1/split_2/train/image/_Image_14R_2_0.png (deflated 8%)\n",
            "  adding: chase_db_320_320_dice_bce_0_4__hvr_0_4_1/split_2/train/image/_Image_05R_1_6.png (deflated 2%)\n",
            "  adding: chase_db_320_320_dice_bce_0_4__hvr_0_4_1/split_2/train/image/_Image_09R_0_10.png (deflated 2%)\n",
            "  adding: chase_db_320_320_dice_bce_0_4__hvr_0_4_1/split_2/train/image/_Image_05L_3_7.png (deflated 2%)\n",
            "  adding: chase_db_320_320_dice_bce_0_4__hvr_0_4_1/split_2/train/image/_Image_03L_3_9.png (deflated 1%)\n",
            "  adding: chase_db_320_320_dice_bce_0_4__hvr_0_4_1/split_2/train/image/_Image_03R_1_0.png (deflated 7%)\n",
            "  adding: chase_db_320_320_dice_bce_0_4__hvr_0_4_1/split_2/train/image/_Image_09L_2_5.png (deflated 5%)\n",
            "  adding: chase_db_320_320_dice_bce_0_4__hvr_0_4_1/split_2/train/image/_Image_02R_1_0.png (deflated 8%)\n",
            "  adding: chase_db_320_320_dice_bce_0_4__hvr_0_4_1/split_2/train/image/_Image_04R_0_11.png (deflated 6%)\n",
            "  adding: chase_db_320_320_dice_bce_0_4__hvr_0_4_1/split_2/train/image/_Image_07L_0_11.png (deflated 6%)\n",
            "  adding: chase_db_320_320_dice_bce_0_4__hvr_0_4_1/split_2/train/image/_Image_06L_0_8.png (deflated 5%)\n",
            "  adding: chase_db_320_320_dice_bce_0_4__hvr_0_4_1/split_2/train/image/_Image_09L_3_0.png (deflated 2%)\n",
            "  adding: chase_db_320_320_dice_bce_0_4__hvr_0_4_1/split_2/train/image/_Image_06L_3_2.png (deflated 2%)\n",
            "  adding: chase_db_320_320_dice_bce_0_4__hvr_0_4_1/split_2/train/image/_Image_07R_0_1.png (deflated 3%)\n",
            "  adding: chase_db_320_320_dice_bce_0_4__hvr_0_4_1/split_2/train/image/_Image_07R_3_0.png (deflated 4%)\n",
            "  adding: chase_db_320_320_dice_bce_0_4__hvr_0_4_1/split_2/train/image/_Image_13R_0_7.png (deflated 7%)\n",
            "  adding: chase_db_320_320_dice_bce_0_4__hvr_0_4_1/split_2/train/image/_Image_14R_0_1.png (deflated 3%)\n",
            "  adding: chase_db_320_320_dice_bce_0_4__hvr_0_4_1/split_2/train/image/_Image_08L_0_11.png (deflated 8%)\n",
            "  adding: chase_db_320_320_dice_bce_0_4__hvr_0_4_1/split_2/train/image/_Image_03R_2_2.png (deflated 1%)\n",
            "  adding: chase_db_320_320_dice_bce_0_4__hvr_0_4_1/split_2/train/image/_Image_05R_2_7.png (deflated 2%)\n",
            "  adding: chase_db_320_320_dice_bce_0_4__hvr_0_4_1/split_2/train/image/_Image_04L_2_3.png (deflated 9%)\n",
            "  adding: chase_db_320_320_dice_bce_0_4__hvr_0_4_1/split_2/train/image/_Image_06R_2_3.png (deflated 7%)\n",
            "  adding: chase_db_320_320_dice_bce_0_4__hvr_0_4_1/split_2/train/image/_Image_02L_3_3.png (deflated 2%)\n",
            "  adding: chase_db_320_320_dice_bce_0_4__hvr_0_4_1/split_2/train/image/_Image_06L_1_7.png (deflated 3%)\n",
            "  adding: chase_db_320_320_dice_bce_0_4__hvr_0_4_1/split_2/train/image/_Image_10R_2_8.png (deflated 5%)\n",
            "  adding: chase_db_320_320_dice_bce_0_4__hvr_0_4_1/split_2/train/image/_Image_14L_3_8.png (deflated 1%)\n",
            "  adding: chase_db_320_320_dice_bce_0_4__hvr_0_4_1/split_2/train/image/_Image_03R_0_9.png (deflated 2%)\n",
            "  adding: chase_db_320_320_dice_bce_0_4__hvr_0_4_1/split_2/train/image/_Image_05L_3_6.png (deflated 1%)\n",
            "  adding: chase_db_320_320_dice_bce_0_4__hvr_0_4_1/split_2/train/image/_Image_07R_0_9.png (deflated 2%)\n",
            "  adding: chase_db_320_320_dice_bce_0_4__hvr_0_4_1/split_2/train/image/_Image_06R_3_10.png (deflated 1%)\n",
            "  adding: chase_db_320_320_dice_bce_0_4__hvr_0_4_1/split_2/train/image/_Image_08L_3_7.png (deflated 2%)\n",
            "  adding: chase_db_320_320_dice_bce_0_4__hvr_0_4_1/split_2/train/image/_Image_04R_0_1.png (deflated 3%)\n",
            "  adding: chase_db_320_320_dice_bce_0_4__hvr_0_4_1/split_2/train/image/_Image_02R_3_9.png (deflated 1%)\n",
            "  adding: chase_db_320_320_dice_bce_0_4__hvr_0_4_1/split_2/train/image/_Image_07L_2_2.png (deflated 2%)\n",
            "  adding: chase_db_320_320_dice_bce_0_4__hvr_0_4_1/split_2/train/image/_Image_09R_1_6.png (deflated 2%)\n",
            "  adding: chase_db_320_320_dice_bce_0_4__hvr_0_4_1/split_2/train/image/_Image_01L_3_6.png (deflated 1%)\n",
            "  adding: chase_db_320_320_dice_bce_0_4__hvr_0_4_1/split_2/train/image/_Image_07R_2_3.png (deflated 6%)\n",
            "  adding: chase_db_320_320_dice_bce_0_4__hvr_0_4_1/split_2/train/image/_Image_05L_1_8.png (deflated 4%)\n",
            "  adding: chase_db_320_320_dice_bce_0_4__hvr_0_4_1/split_2/train/image/_Image_02R_1_5.png (deflated 2%)\n",
            "  adding: chase_db_320_320_dice_bce_0_4__hvr_0_4_1/split_2/train/image/_Image_02L_0_0.png (deflated 5%)\n",
            "  adding: chase_db_320_320_dice_bce_0_4__hvr_0_4_1/split_2/train/image/_Image_07R_3_10.png (deflated 1%)\n",
            "  adding: chase_db_320_320_dice_bce_0_4__hvr_0_4_1/split_2/train/image/_Image_10L_0_11.png (deflated 8%)\n",
            "  adding: chase_db_320_320_dice_bce_0_4__hvr_0_4_1/split_2/train/image/_Image_02R_1_6.png (deflated 3%)\n",
            "  adding: chase_db_320_320_dice_bce_0_4__hvr_0_4_1/split_2/train/image/_Image_06L_1_9.png (deflated 2%)\n",
            "  adding: chase_db_320_320_dice_bce_0_4__hvr_0_4_1/split_2/train/image/_Image_01R_3_5.png (deflated 2%)\n",
            "  adding: chase_db_320_320_dice_bce_0_4__hvr_0_4_1/split_2/train/image/_Image_14L_3_3.png (deflated 1%)\n",
            "  adding: chase_db_320_320_dice_bce_0_4__hvr_0_4_1/split_2/train/image/_Image_09R_1_10.png (deflated 1%)\n",
            "  adding: chase_db_320_320_dice_bce_0_4__hvr_0_4_1/split_2/train/image/_Image_10L_2_9.png (deflated 5%)\n",
            "  adding: chase_db_320_320_dice_bce_0_4__hvr_0_4_1/split_2/train/image/_Image_09L_3_10.png (deflated 1%)\n",
            "  adding: chase_db_320_320_dice_bce_0_4__hvr_0_4_1/split_2/train/image/_Image_13R_2_9.png (deflated 7%)\n",
            "  adding: chase_db_320_320_dice_bce_0_4__hvr_0_4_1/split_2/train/image/_Image_10R_2_9.png (deflated 3%)\n",
            "  adding: chase_db_320_320_dice_bce_0_4__hvr_0_4_1/split_2/train/image/_Image_08L_1_10.png (deflated 4%)\n",
            "  adding: chase_db_320_320_dice_bce_0_4__hvr_0_4_1/split_2/train/image/_Image_07R_3_8.png (deflated 4%)\n",
            "  adding: chase_db_320_320_dice_bce_0_4__hvr_0_4_1/split_2/train/image/_Image_01R_2_5.png (deflated 3%)\n",
            "  adding: chase_db_320_320_dice_bce_0_4__hvr_0_4_1/split_2/train/image/_Image_14L_1_9.png (deflated 2%)\n",
            "  adding: chase_db_320_320_dice_bce_0_4__hvr_0_4_1/split_2/train/image/_Image_01R_2_9.png (deflated 3%)\n",
            "  adding: chase_db_320_320_dice_bce_0_4__hvr_0_4_1/split_2/train/image/_Image_08L_0_6.png (deflated 2%)\n",
            "  adding: chase_db_320_320_dice_bce_0_4__hvr_0_4_1/split_2/train/image/_Image_01R_3_9.png (deflated 3%)\n",
            "  adding: chase_db_320_320_dice_bce_0_4__hvr_0_4_1/split_2/train/image/_Image_04L_1_10.png (deflated 2%)\n",
            "  adding: chase_db_320_320_dice_bce_0_4__hvr_0_4_1/split_2/train/image/_Image_08R_0_2.png (deflated 4%)\n",
            "  adding: chase_db_320_320_dice_bce_0_4__hvr_0_4_1/split_2/train/image/_Image_08L_2_7.png (deflated 5%)\n",
            "  adding: chase_db_320_320_dice_bce_0_4__hvr_0_4_1/split_2/train/image/_Image_04R_2_6.png (deflated 2%)\n",
            "  adding: chase_db_320_320_dice_bce_0_4__hvr_0_4_1/split_2/train/image/_Image_10R_0_8.png (deflated 5%)\n",
            "  adding: chase_db_320_320_dice_bce_0_4__hvr_0_4_1/split_2/train/image/_Image_09L_0_3.png (deflated 7%)\n",
            "  adding: chase_db_320_320_dice_bce_0_4__hvr_0_4_1/split_2/train/image/_Image_01R_2_3.png (deflated 6%)\n",
            "  adding: chase_db_320_320_dice_bce_0_4__hvr_0_4_1/split_2/train/image/_Image_05R_1_5.png (deflated 2%)\n",
            "  adding: chase_db_320_320_dice_bce_0_4__hvr_0_4_1/split_2/train/image/_Image_04L_3_4.png (deflated 2%)\n",
            "  adding: chase_db_320_320_dice_bce_0_4__hvr_0_4_1/split_2/train/image/_Image_13R_2_8.png (deflated 10%)\n",
            "  adding: chase_db_320_320_dice_bce_0_4__hvr_0_4_1/split_2/train/image/_Image_01L_2_11.png (deflated 6%)\n",
            "  adding: chase_db_320_320_dice_bce_0_4__hvr_0_4_1/split_2/train/image/_Image_14R_1_7.png (deflated 7%)\n",
            "  adding: chase_db_320_320_dice_bce_0_4__hvr_0_4_1/split_2/train/image/_Image_07R_3_11.png (deflated 4%)\n",
            "  adding: chase_db_320_320_dice_bce_0_4__hvr_0_4_1/split_2/train/image/_Image_14R_2_6.png (deflated 1%)\n",
            "  adding: chase_db_320_320_dice_bce_0_4__hvr_0_4_1/split_2/train/image/_Image_04L_0_5.png (deflated 3%)\n",
            "  adding: chase_db_320_320_dice_bce_0_4__hvr_0_4_1/split_2/train/image/_Image_03R_1_5.png (deflated 1%)\n",
            "  adding: chase_db_320_320_dice_bce_0_4__hvr_0_4_1/split_2/train/image/_Image_04L_0_7.png (deflated 6%)\n",
            "  adding: chase_db_320_320_dice_bce_0_4__hvr_0_4_1/split_2/train/image/_Image_08L_1_2.png (deflated 5%)\n",
            "  adding: chase_db_320_320_dice_bce_0_4__hvr_0_4_1/split_2/train/image/_Image_10R_3_10.png (deflated 1%)\n",
            "  adding: chase_db_320_320_dice_bce_0_4__hvr_0_4_1/split_2/train/image/_Image_14R_2_11.png (deflated 7%)\n",
            "  adding: chase_db_320_320_dice_bce_0_4__hvr_0_4_1/split_2/train/image/_Image_13R_0_3.png (deflated 7%)\n",
            "  adding: chase_db_320_320_dice_bce_0_4__hvr_0_4_1/split_2/train/image/_Image_08R_1_7.png (deflated 7%)\n",
            "  adding: chase_db_320_320_dice_bce_0_4__hvr_0_4_1/split_2/train/image/_Image_10L_1_3.png (deflated 6%)\n",
            "  adding: chase_db_320_320_dice_bce_0_4__hvr_0_4_1/split_2/train/image/_Image_03R_3_7.png (deflated 2%)\n",
            "  adding: chase_db_320_320_dice_bce_0_4__hvr_0_4_1/split_2/train/image/_Image_06L_0_6.png (deflated 2%)\n",
            "  adding: chase_db_320_320_dice_bce_0_4__hvr_0_4_1/split_2/train/image/_Image_14L_1_8.png (deflated 4%)\n",
            "  adding: chase_db_320_320_dice_bce_0_4__hvr_0_4_1/split_2/train/image/_Image_01R_1_0.png (deflated 8%)\n",
            "  adding: chase_db_320_320_dice_bce_0_4__hvr_0_4_1/split_2/train/image/_Image_05R_2_4.png (deflated 4%)\n",
            "  adding: chase_db_320_320_dice_bce_0_4__hvr_0_4_1/split_2/train/image/_Image_10R_2_6.png (deflated 2%)\n",
            "  adding: chase_db_320_320_dice_bce_0_4__hvr_0_4_1/split_2/train/image/_Image_08L_2_5.png (deflated 2%)\n",
            "  adding: chase_db_320_320_dice_bce_0_4__hvr_0_4_1/split_2/train/image/_Image_10L_2_8.png (deflated 5%)\n",
            "  adding: chase_db_320_320_dice_bce_0_4__hvr_0_4_1/split_2/train/image/_Image_07L_1_1.png (deflated 3%)\n",
            "  adding: chase_db_320_320_dice_bce_0_4__hvr_0_4_1/split_2/train/image/_Image_05L_3_1.png (deflated 1%)\n",
            "  adding: chase_db_320_320_dice_bce_0_4__hvr_0_4_1/split_2/train/image/_Image_04L_3_3.png (deflated 3%)\n",
            "  adding: chase_db_320_320_dice_bce_0_4__hvr_0_4_1/split_2/train/image/_Image_10L_3_4.png (deflated 1%)\n",
            "  adding: chase_db_320_320_dice_bce_0_4__hvr_0_4_1/split_2/train/image/_Image_06L_3_10.png (deflated 1%)\n",
            "  adding: chase_db_320_320_dice_bce_0_4__hvr_0_4_1/split_2/train/image/_Image_05R_0_1.png (deflated 2%)\n",
            "  adding: chase_db_320_320_dice_bce_0_4__hvr_0_4_1/split_2/train/image/_Image_01R_1_10.png (deflated 3%)\n",
            "  adding: chase_db_320_320_dice_bce_0_4__hvr_0_4_1/split_2/train/image/_Image_04R_3_2.png (deflated 2%)\n",
            "  adding: chase_db_320_320_dice_bce_0_4__hvr_0_4_1/split_2/train/image/_Image_10L_2_5.png (deflated 2%)\n",
            "  adding: chase_db_320_320_dice_bce_0_4__hvr_0_4_1/split_2/train/image/_Image_02L_0_11.png (deflated 5%)\n",
            "  adding: chase_db_320_320_dice_bce_0_4__hvr_0_4_1/split_2/train/image/_Image_03R_0_11.png (deflated 6%)\n",
            "  adding: chase_db_320_320_dice_bce_0_4__hvr_0_4_1/split_2/train/image/_Image_14L_2_7.png (deflated 3%)\n",
            "  adding: chase_db_320_320_dice_bce_0_4__hvr_0_4_1/split_2/train/image/_Image_10R_3_11.png (deflated 2%)\n",
            "  adding: chase_db_320_320_dice_bce_0_4__hvr_0_4_1/split_2/train/image/_Image_14R_0_5.png (deflated 2%)\n",
            "  adding: chase_db_320_320_dice_bce_0_4__hvr_0_4_1/split_2/train/image/_Image_13R_0_1.png (deflated 6%)\n",
            "  adding: chase_db_320_320_dice_bce_0_4__hvr_0_4_1/split_2/train/image/_Image_08L_1_5.png (deflated 2%)\n",
            "  adding: chase_db_320_320_dice_bce_0_4__hvr_0_4_1/split_2/train/image/_Image_14L_2_0.png (deflated 4%)\n",
            "  adding: chase_db_320_320_dice_bce_0_4__hvr_0_4_1/split_2/train/image/_Image_03L_3_5.png (deflated 1%)\n",
            "  adding: chase_db_320_320_dice_bce_0_4__hvr_0_4_1/split_2/train/image/_Image_14L_2_11.png (deflated 3%)\n",
            "  adding: chase_db_320_320_dice_bce_0_4__hvr_0_4_1/split_2/train/image/_Image_09R_2_3.png (deflated 5%)\n",
            "  adding: chase_db_320_320_dice_bce_0_4__hvr_0_4_1/split_2/train/image/_Image_14R_0_11.png (deflated 5%)\n",
            "  adding: chase_db_320_320_dice_bce_0_4__hvr_0_4_1/split_2/train/image/_Image_03L_2_5.png (deflated 2%)\n",
            "  adding: chase_db_320_320_dice_bce_0_4__hvr_0_4_1/split_2/train/image/_Image_06R_3_11.png (deflated 2%)\n",
            "  adding: chase_db_320_320_dice_bce_0_4__hvr_0_4_1/split_2/train/image/_Image_03R_3_9.png (deflated 2%)\n",
            "  adding: chase_db_320_320_dice_bce_0_4__hvr_0_4_1/split_2/train/image/_Image_06L_3_9.png (deflated 2%)\n",
            "  adding: chase_db_320_320_dice_bce_0_4__hvr_0_4_1/split_2/train/image/_Image_10L_3_7.png (deflated 2%)\n",
            "  adding: chase_db_320_320_dice_bce_0_4__hvr_0_4_1/split_2/train/image/_Image_06L_3_1.png (deflated 2%)\n",
            "  adding: chase_db_320_320_dice_bce_0_4__hvr_0_4_1/split_2/train/image/_Image_04L_2_8.png (deflated 5%)\n",
            "  adding: chase_db_320_320_dice_bce_0_4__hvr_0_4_1/split_2/train/image/_Image_01R_2_1.png (deflated 3%)\n",
            "  adding: chase_db_320_320_dice_bce_0_4__hvr_0_4_1/split_2/train/image/_Image_14R_2_2.png (deflated 2%)\n",
            "  adding: chase_db_320_320_dice_bce_0_4__hvr_0_4_1/split_2/train/image/_Image_07R_0_11.png (deflated 6%)\n",
            "  adding: chase_db_320_320_dice_bce_0_4__hvr_0_4_1/split_2/train/image/_Image_13R_0_11.png (deflated 8%)\n",
            "  adding: chase_db_320_320_dice_bce_0_4__hvr_0_4_1/split_2/train/image/_Image_03R_3_0.png (deflated 4%)\n",
            "  adding: chase_db_320_320_dice_bce_0_4__hvr_0_4_1/split_2/train/image/_Image_13R_3_1.png (deflated 4%)\n",
            "  adding: chase_db_320_320_dice_bce_0_4__hvr_0_4_1/split_2/train/image/_Image_05L_0_2.png (deflated 2%)\n",
            "  adding: chase_db_320_320_dice_bce_0_4__hvr_0_4_1/split_2/train/image/_Image_05L_1_1.png (deflated 2%)\n",
            "  adding: chase_db_320_320_dice_bce_0_4__hvr_0_4_1/split_2/train/image/_Image_07R_1_4.png (deflated 3%)\n",
            "  adding: chase_db_320_320_dice_bce_0_4__hvr_0_4_1/split_2/train/image/_Image_14L_0_8.png (deflated 4%)\n",
            "  adding: chase_db_320_320_dice_bce_0_4__hvr_0_4_1/split_2/train/image/_Image_06R_0_0.png (deflated 5%)\n",
            "  adding: chase_db_320_320_dice_bce_0_4__hvr_0_4_1/split_2/train/image/_Image_05L_3_5.png (deflated 1%)\n",
            "  adding: chase_db_320_320_dice_bce_0_4__hvr_0_4_1/split_2/train/image/_Image_09L_2_7.png (deflated 3%)\n",
            "  adding: chase_db_320_320_dice_bce_0_4__hvr_0_4_1/split_2/train/image/_Image_09R_2_1.png (deflated 1%)\n",
            "  adding: chase_db_320_320_dice_bce_0_4__hvr_0_4_1/split_2/train/image/_Image_04R_1_2.png (deflated 3%)\n",
            "  adding: chase_db_320_320_dice_bce_0_4__hvr_0_4_1/split_2/train/image/_Image_05R_3_1.png (deflated 1%)\n",
            "  adding: chase_db_320_320_dice_bce_0_4__hvr_0_4_1/split_2/train/image/_Image_04R_1_7.png (deflated 4%)\n",
            "  adding: chase_db_320_320_dice_bce_0_4__hvr_0_4_1/split_2/train/image/_Image_07R_3_9.png (deflated 1%)\n",
            "  adding: chase_db_320_320_dice_bce_0_4__hvr_0_4_1/split_2/train/image/_Image_08L_1_6.png (deflated 2%)\n",
            "  adding: chase_db_320_320_dice_bce_0_4__hvr_0_4_1/split_2/train/image/_Image_14L_0_1.png (deflated 2%)\n",
            "  adding: chase_db_320_320_dice_bce_0_4__hvr_0_4_1/split_2/train/image/_Image_08L_0_3.png (deflated 7%)\n",
            "  adding: chase_db_320_320_dice_bce_0_4__hvr_0_4_1/split_2/train/image/_Image_03L_3_3.png (deflated 4%)\n",
            "  adding: chase_db_320_320_dice_bce_0_4__hvr_0_4_1/split_2/train/image/_Image_10L_3_0.png (deflated 2%)\n",
            "  adding: chase_db_320_320_dice_bce_0_4__hvr_0_4_1/split_2/train/image/_Image_01L_0_10.png (deflated 1%)\n",
            "  adding: chase_db_320_320_dice_bce_0_4__hvr_0_4_1/split_2/train/image/_Image_04R_1_10.png (deflated 2%)\n",
            "  adding: chase_db_320_320_dice_bce_0_4__hvr_0_4_1/split_2/train/image/_Image_07R_0_0.png (deflated 4%)\n",
            "  adding: chase_db_320_320_dice_bce_0_4__hvr_0_4_1/split_2/train/image/_Image_03L_0_6.png (deflated 2%)\n",
            "  adding: chase_db_320_320_dice_bce_0_4__hvr_0_4_1/split_2/train/image/_Image_10L_0_0.png (deflated 6%)\n",
            "  adding: chase_db_320_320_dice_bce_0_4__hvr_0_4_1/split_2/train/image/_Image_03R_1_3.png (deflated 5%)\n",
            "  adding: chase_db_320_320_dice_bce_0_4__hvr_0_4_1/split_2/train/image/_Image_08R_1_0.png (deflated 7%)\n",
            "  adding: chase_db_320_320_dice_bce_0_4__hvr_0_4_1/split_2/train/image/_Image_06R_0_8.png (deflated 7%)\n",
            "  adding: chase_db_320_320_dice_bce_0_4__hvr_0_4_1/split_2/train/image/_Image_03R_3_10.png (deflated 1%)\n",
            "  adding: chase_db_320_320_dice_bce_0_4__hvr_0_4_1/split_2/train/image/_Image_07R_3_5.png (deflated 1%)\n",
            "  adding: chase_db_320_320_dice_bce_0_4__hvr_0_4_1/split_2/train/image/_Image_08L_3_0.png (deflated 3%)\n",
            "  adding: chase_db_320_320_dice_bce_0_4__hvr_0_4_1/split_2/train/image/_Image_13R_1_5.png (deflated 3%)\n",
            "  adding: chase_db_320_320_dice_bce_0_4__hvr_0_4_1/split_2/train/image/_Image_07L_0_4.png (deflated 3%)\n",
            "  adding: chase_db_320_320_dice_bce_0_4__hvr_0_4_1/split_2/train/image/_Image_03R_2_6.png (deflated 1%)\n",
            "  adding: chase_db_320_320_dice_bce_0_4__hvr_0_4_1/split_2/train/image/_Image_13R_1_6.png (deflated 7%)\n",
            "  adding: chase_db_320_320_dice_bce_0_4__hvr_0_4_1/split_2/train/image/_Image_09L_0_1.png (deflated 4%)\n",
            "  adding: chase_db_320_320_dice_bce_0_4__hvr_0_4_1/split_2/train/image/_Image_03L_2_6.png (deflated 2%)\n",
            "  adding: chase_db_320_320_dice_bce_0_4__hvr_0_4_1/split_2/train/image/_Image_08R_3_4.png (deflated 2%)\n",
            "  adding: chase_db_320_320_dice_bce_0_4__hvr_0_4_1/split_2/train/image/_Image_04L_3_10.png (deflated 1%)\n",
            "  adding: chase_db_320_320_dice_bce_0_4__hvr_0_4_1/split_2/train/image/_Image_04R_0_0.png (deflated 6%)\n",
            "  adding: chase_db_320_320_dice_bce_0_4__hvr_0_4_1/split_2/train/image/_Image_08R_3_11.png (deflated 2%)\n",
            "  adding: chase_db_320_320_dice_bce_0_4__hvr_0_4_1/split_2/train/image/_Image_07R_1_0.png (deflated 6%)\n",
            "  adding: chase_db_320_320_dice_bce_0_4__hvr_0_4_1/split_2/train/image/_Image_02L_2_10.png (deflated 3%)\n",
            "  adding: chase_db_320_320_dice_bce_0_4__hvr_0_4_1/split_2/train/image/_Image_01R_0_5.png (deflated 3%)\n",
            "  adding: chase_db_320_320_dice_bce_0_4__hvr_0_4_1/split_2/train/image/_Image_05R_0_11.png (deflated 3%)\n",
            "  adding: chase_db_320_320_dice_bce_0_4__hvr_0_4_1/split_2/train/image/_Image_08L_1_4.png (deflated 5%)\n",
            "  adding: chase_db_320_320_dice_bce_0_4__hvr_0_4_1/split_2/train/image/_Image_06R_2_9.png (deflated 3%)\n",
            "  adding: chase_db_320_320_dice_bce_0_4__hvr_0_4_1/split_2/train/image/_Image_07L_2_1.png (deflated 2%)\n",
            "  adding: chase_db_320_320_dice_bce_0_4__hvr_0_4_1/split_2/train/image/_Image_14L_2_8.png (deflated 4%)\n",
            "  adding: chase_db_320_320_dice_bce_0_4__hvr_0_4_1/split_2/train/image/_Image_05L_1_10.png (deflated 2%)\n",
            "  adding: chase_db_320_320_dice_bce_0_4__hvr_0_4_1/split_2/train/image/_Image_03L_0_8.png (deflated 5%)\n",
            "  adding: chase_db_320_320_dice_bce_0_4__hvr_0_4_1/split_2/train/image/_Image_04R_2_11.png (deflated 4%)\n",
            "  adding: chase_db_320_320_dice_bce_0_4__hvr_0_4_1/split_2/train/image/_Image_02L_1_4.png (deflated 4%)\n",
            "  adding: chase_db_320_320_dice_bce_0_4__hvr_0_4_1/split_2/train/image/_Image_10R_0_0.png (deflated 6%)\n",
            "  adding: chase_db_320_320_dice_bce_0_4__hvr_0_4_1/split_2/train/image/_Image_06R_3_4.png (deflated 2%)\n",
            "  adding: chase_db_320_320_dice_bce_0_4__hvr_0_4_1/split_2/train/image/_Image_09R_0_8.png (deflated 5%)\n",
            "  adding: chase_db_320_320_dice_bce_0_4__hvr_0_4_1/split_2/train/image/_Image_09R_3_8.png (deflated 2%)\n",
            "  adding: chase_db_320_320_dice_bce_0_4__hvr_0_4_1/split_2/train/image/_Image_08L_2_1.png (deflated 4%)\n",
            "  adding: chase_db_320_320_dice_bce_0_4__hvr_0_4_1/split_2/train/image/_Image_09R_0_11.png (deflated 5%)\n",
            "  adding: chase_db_320_320_dice_bce_0_4__hvr_0_4_1/split_2/train/image/_Image_14R_3_11.png (deflated 1%)\n",
            "  adding: chase_db_320_320_dice_bce_0_4__hvr_0_4_1/split_2/train/image/_Image_14R_3_6.png (deflated 1%)\n",
            "  adding: chase_db_320_320_dice_bce_0_4__hvr_0_4_1/split_2/train/image/_Image_08R_2_7.png (deflated 5%)\n",
            "  adding: chase_db_320_320_dice_bce_0_4__hvr_0_4_1/split_2/train/image/_Image_08L_3_5.png (deflated 1%)\n",
            "  adding: chase_db_320_320_dice_bce_0_4__hvr_0_4_1/split_2/train/image/_Image_06L_0_9.png (deflated 2%)\n",
            "  adding: chase_db_320_320_dice_bce_0_4__hvr_0_4_1/split_2/train/image/_Image_10L_0_9.png (deflated 2%)\n",
            "  adding: chase_db_320_320_dice_bce_0_4__hvr_0_4_1/split_2/train/image/_Image_08L_1_0.png (deflated 6%)\n",
            "  adding: chase_db_320_320_dice_bce_0_4__hvr_0_4_1/split_2/train/image/_Image_03R_0_10.png (deflated 1%)\n",
            "  adding: chase_db_320_320_dice_bce_0_4__hvr_0_4_1/split_2/train/image/_Image_07L_2_3.png (deflated 5%)\n",
            "  adding: chase_db_320_320_dice_bce_0_4__hvr_0_4_1/split_2/train/image/_Image_08L_1_8.png (deflated 8%)\n",
            "  adding: chase_db_320_320_dice_bce_0_4__hvr_0_4_1/split_2/train/image/_Image_04L_2_2.png (deflated 2%)\n",
            "  adding: chase_db_320_320_dice_bce_0_4__hvr_0_4_1/split_2/train/image/_Image_06L_0_11.png (deflated 7%)\n",
            "  adding: chase_db_320_320_dice_bce_0_4__hvr_0_4_1/split_2/train/image/_Image_04R_1_11.png (deflated 4%)\n",
            "  adding: chase_db_320_320_dice_bce_0_4__hvr_0_4_1/split_2/train/image/_Image_14R_1_6.png (deflated 2%)\n",
            "  adding: chase_db_320_320_dice_bce_0_4__hvr_0_4_1/split_2/train/image/_Image_03R_2_3.png (deflated 6%)\n",
            "  adding: chase_db_320_320_dice_bce_0_4__hvr_0_4_1/split_2/train/image/_Image_09L_1_11.png (deflated 5%)\n",
            "  adding: chase_db_320_320_dice_bce_0_4__hvr_0_4_1/split_2/train/image/_Image_06L_2_1.png (deflated 2%)\n",
            "  adding: chase_db_320_320_dice_bce_0_4__hvr_0_4_1/split_2/train/image/_Image_02L_0_10.png (deflated 2%)\n",
            "  adding: chase_db_320_320_dice_bce_0_4__hvr_0_4_1/split_2/train/image/_Image_13R_2_11.png (deflated 8%)\n",
            "  adding: chase_db_320_320_dice_bce_0_4__hvr_0_4_1/split_2/train/image/_Image_08L_3_9.png (deflated 2%)\n",
            "  adding: chase_db_320_320_dice_bce_0_4__hvr_0_4_1/split_2/train/image/_Image_09R_1_11.png (deflated 5%)\n",
            "  adding: chase_db_320_320_dice_bce_0_4__hvr_0_4_1/split_2/train/image/_Image_03R_3_5.png (deflated 1%)\n",
            "  adding: chase_db_320_320_dice_bce_0_4__hvr_0_4_1/split_2/train/image/_Image_02R_0_9.png (deflated 2%)\n",
            "  adding: chase_db_320_320_dice_bce_0_4__hvr_0_4_1/split_2/train/image/_Image_14L_1_2.png (deflated 2%)\n",
            "  adding: chase_db_320_320_dice_bce_0_4__hvr_0_4_1/split_2/train/image/_Image_05R_3_8.png (deflated 2%)\n",
            "  adding: chase_db_320_320_dice_bce_0_4__hvr_0_4_1/split_2/train/image/_Image_06R_3_5.png (deflated 2%)\n",
            "  adding: chase_db_320_320_dice_bce_0_4__hvr_0_4_1/split_2/train/image/_Image_04L_0_2.png (deflated 4%)\n",
            "  adding: chase_db_320_320_dice_bce_0_4__hvr_0_4_1/split_2/train/image/_Image_02R_2_6.png (deflated 2%)\n",
            "  adding: chase_db_320_320_dice_bce_0_4__hvr_0_4_1/split_2/train/image/_Image_10R_1_1.png (deflated 3%)\n",
            "  adding: chase_db_320_320_dice_bce_0_4__hvr_0_4_1/split_2/train/image/_Image_02R_1_11.png (deflated 6%)\n",
            "  adding: chase_db_320_320_dice_bce_0_4__hvr_0_4_1/split_2/train/image/_Image_03R_2_0.png (deflated 5%)\n",
            "  adding: chase_db_320_320_dice_bce_0_4__hvr_0_4_1/split_2/train/image/_Image_02R_0_7.png (deflated 5%)\n",
            "  adding: chase_db_320_320_dice_bce_0_4__hvr_0_4_1/split_2/train/image/_Image_14R_1_5.png (deflated 2%)\n",
            "  adding: chase_db_320_320_dice_bce_0_4__hvr_0_4_1/split_2/train/image/_Image_03R_3_1.png (deflated 1%)\n",
            "  adding: chase_db_320_320_dice_bce_0_4__hvr_0_4_1/split_2/train/image/_Image_09L_3_9.png (deflated 3%)\n",
            "  adding: chase_db_320_320_dice_bce_0_4__hvr_0_4_1/split_2/train/image/_Image_04L_0_8.png (deflated 4%)\n",
            "  adding: chase_db_320_320_dice_bce_0_4__hvr_0_4_1/split_2/train/image/_Image_04R_0_2.png (deflated 2%)\n",
            "  adding: chase_db_320_320_dice_bce_0_4__hvr_0_4_1/split_2/train/image/_Image_05R_0_6.png (deflated 2%)\n",
            "  adding: chase_db_320_320_dice_bce_0_4__hvr_0_4_1/split_2/train/image/_Image_09R_3_7.png (deflated 1%)\n",
            "  adding: chase_db_320_320_dice_bce_0_4__hvr_0_4_1/split_2/train/image/_Image_01R_2_11.png (deflated 7%)\n",
            "  adding: chase_db_320_320_dice_bce_0_4__hvr_0_4_1/split_2/train/image/_Image_08L_1_3.png (deflated 8%)\n",
            "  adding: chase_db_320_320_dice_bce_0_4__hvr_0_4_1/split_2/train/image/_Image_03L_0_4.png (deflated 2%)\n",
            "  adding: chase_db_320_320_dice_bce_0_4__hvr_0_4_1/split_2/train/image/_Image_07R_1_11.png (deflated 5%)\n",
            "  adding: chase_db_320_320_dice_bce_0_4__hvr_0_4_1/split_2/train/image/_Image_09L_2_2.png (deflated 2%)\n",
            "  adding: chase_db_320_320_dice_bce_0_4__hvr_0_4_1/split_2/train/image/_Image_06R_1_1.png (deflated 3%)\n",
            "  adding: chase_db_320_320_dice_bce_0_4__hvr_0_4_1/split_2/train/image/_Image_01R_1_6.png (deflated 3%)\n",
            "  adding: chase_db_320_320_dice_bce_0_4__hvr_0_4_1/split_2/train/image/_Image_08R_0_4.png (deflated 6%)\n",
            "  adding: chase_db_320_320_dice_bce_0_4__hvr_0_4_1/split_2/train/image/_Image_07L_2_9.png (deflated 3%)\n",
            "  adding: chase_db_320_320_dice_bce_0_4__hvr_0_4_1/split_2/train/image/_Image_10L_3_6.png (deflated 1%)\n",
            "  adding: chase_db_320_320_dice_bce_0_4__hvr_0_4_1/split_2/train/image/_Image_03R_3_8.png (deflated 5%)\n",
            "  adding: chase_db_320_320_dice_bce_0_4__hvr_0_4_1/split_2/train/image/_Image_03L_3_1.png (deflated 2%)\n",
            "  adding: chase_db_320_320_dice_bce_0_4__hvr_0_4_1/split_2/train/image/_Image_01R_3_2.png (deflated 1%)\n",
            "  adding: chase_db_320_320_dice_bce_0_4__hvr_0_4_1/split_2/train/image/_Image_04R_3_0.png (deflated 2%)\n",
            "  adding: chase_db_320_320_dice_bce_0_4__hvr_0_4_1/split_2/train/image/_Image_13R_2_0.png (deflated 11%)\n",
            "  adding: chase_db_320_320_dice_bce_0_4__hvr_0_4_1/split_2/train/image/_Image_03L_0_9.png (deflated 1%)\n",
            "  adding: chase_db_320_320_dice_bce_0_4__hvr_0_4_1/split_2/train/image/_Image_04R_0_8.png (deflated 4%)\n",
            "  adding: chase_db_320_320_dice_bce_0_4__hvr_0_4_1/split_2/train/image/_Image_14L_0_2.png (deflated 2%)\n",
            "  adding: chase_db_320_320_dice_bce_0_4__hvr_0_4_1/split_2/train/image/_Image_02R_3_6.png (deflated 1%)\n",
            "  adding: chase_db_320_320_dice_bce_0_4__hvr_0_4_1/split_2/train/image/_Image_01L_1_7.png (deflated 3%)\n",
            "  adding: chase_db_320_320_dice_bce_0_4__hvr_0_4_1/split_2/train/image/_Image_06L_3_4.png (deflated 1%)\n",
            "  adding: chase_db_320_320_dice_bce_0_4__hvr_0_4_1/split_2/train/image/_Image_10R_0_5.png (deflated 2%)\n",
            "  adding: chase_db_320_320_dice_bce_0_4__hvr_0_4_1/split_2/train/image/_Image_01L_0_6.png (deflated 2%)\n",
            "  adding: chase_db_320_320_dice_bce_0_4__hvr_0_4_1/split_2/train/image/_Image_13R_3_6.png (deflated 3%)\n",
            "  adding: chase_db_320_320_dice_bce_0_4__hvr_0_4_1/split_2/train/image/_Image_10L_0_3.png (deflated 7%)\n",
            "  adding: chase_db_320_320_dice_bce_0_4__hvr_0_4_1/split_2/train/image/_Image_10R_2_10.png (deflated 3%)\n",
            "  adding: chase_db_320_320_dice_bce_0_4__hvr_0_4_1/split_2/train/image/_Image_09R_0_3.png (deflated 7%)\n",
            "  adding: chase_db_320_320_dice_bce_0_4__hvr_0_4_1/split_2/train/image/_Image_10R_1_8.png (deflated 7%)\n",
            "  adding: chase_db_320_320_dice_bce_0_4__hvr_0_4_1/split_2/train/image/_Image_10R_2_0.png (deflated 6%)\n",
            "  adding: chase_db_320_320_dice_bce_0_4__hvr_0_4_1/split_2/train/image/_Image_08R_2_10.png (deflated 4%)\n",
            "  adding: chase_db_320_320_dice_bce_0_4__hvr_0_4_1/split_2/train/image/_Image_08R_1_6.png (deflated 4%)\n",
            "  adding: chase_db_320_320_dice_bce_0_4__hvr_0_4_1/split_2/train/image/_Image_02L_3_8.png (deflated 2%)\n",
            "  adding: chase_db_320_320_dice_bce_0_4__hvr_0_4_1/split_2/train/image/_Image_08L_2_10.png (deflated 3%)\n",
            "  adding: chase_db_320_320_dice_bce_0_4__hvr_0_4_1/split_2/train/image/_Image_02L_1_10.png (deflated 3%)\n",
            "  adding: chase_db_320_320_dice_bce_0_4__hvr_0_4_1/split_2/train/image/_Image_08R_0_9.png (deflated 4%)\n",
            "  adding: chase_db_320_320_dice_bce_0_4__hvr_0_4_1/split_2/train/image/_Image_06R_1_11.png (deflated 6%)\n",
            "  adding: chase_db_320_320_dice_bce_0_4__hvr_0_4_1/split_2/train/image/_Image_02R_3_2.png (deflated 2%)\n",
            "  adding: chase_db_320_320_dice_bce_0_4__hvr_0_4_1/split_2/train/image/_Image_14R_0_7.png (deflated 3%)\n",
            "  adding: chase_db_320_320_dice_bce_0_4__hvr_0_4_1/split_2/train/image/_Image_04R_3_5.png (deflated 1%)\n",
            "  adding: chase_db_320_320_dice_bce_0_4__hvr_0_4_1/split_2/train/image/_Image_14R_0_6.png (deflated 2%)\n",
            "  adding: chase_db_320_320_dice_bce_0_4__hvr_0_4_1/split_2/train/image/_Image_04L_2_11.png (deflated 6%)\n",
            "  adding: chase_db_320_320_dice_bce_0_4__hvr_0_4_1/split_2/train/image/_Image_09L_0_7.png (deflated 3%)\n",
            "  adding: chase_db_320_320_dice_bce_0_4__hvr_0_4_1/split_2/train/image/_Image_05R_1_9.png (deflated 2%)\n",
            "  adding: chase_db_320_320_dice_bce_0_4__hvr_0_4_1/split_2/train/image/_Image_02L_3_10.png (deflated 1%)\n",
            "  adding: chase_db_320_320_dice_bce_0_4__hvr_0_4_1/split_2/train/image/_Image_10L_3_9.png (deflated 1%)\n",
            "  adding: chase_db_320_320_dice_bce_0_4__hvr_0_4_1/split_2/train/image/_Image_06L_1_6.png (deflated 2%)\n",
            "  adding: chase_db_320_320_dice_bce_0_4__hvr_0_4_1/split_2/train/image/_Image_13R_1_8.png (deflated 8%)\n",
            "  adding: chase_db_320_320_dice_bce_0_4__hvr_0_4_1/split_2/train/image/_Image_09L_3_3.png (deflated 1%)\n",
            "  adding: chase_db_320_320_dice_bce_0_4__hvr_0_4_1/split_2/train/image/_Image_13R_0_0.png (deflated 10%)\n",
            "  adding: chase_db_320_320_dice_bce_0_4__hvr_0_4_1/split_2/train/image/_Image_05L_3_0.png (deflated 4%)\n",
            "  adding: chase_db_320_320_dice_bce_0_4__hvr_0_4_1/split_2/train/image/_Image_09R_3_6.png (deflated 1%)\n",
            "  adding: chase_db_320_320_dice_bce_0_4__hvr_0_4_1/split_2/train/image/_Image_05L_1_2.png (deflated 3%)\n",
            "  adding: chase_db_320_320_dice_bce_0_4__hvr_0_4_1/split_2/train/image/_Image_01L_3_1.png (deflated 1%)\n",
            "  adding: chase_db_320_320_dice_bce_0_4__hvr_0_4_1/split_2/train/image/_Image_06R_1_0.png (deflated 6%)\n",
            "  adding: chase_db_320_320_dice_bce_0_4__hvr_0_4_1/split_2/train/image/_Image_09L_0_0.png (deflated 6%)\n",
            "  adding: chase_db_320_320_dice_bce_0_4__hvr_0_4_1/split_2/train/image/_Image_05L_0_0.png (deflated 4%)\n",
            "  adding: chase_db_320_320_dice_bce_0_4__hvr_0_4_1/split_2/train/image/_Image_06R_2_2.png (deflated 2%)\n",
            "  adding: chase_db_320_320_dice_bce_0_4__hvr_0_4_1/split_2/train/image/_Image_14R_3_2.png (deflated 2%)\n",
            "  adding: chase_db_320_320_dice_bce_0_4__hvr_0_4_1/split_2/train/image/_Image_05R_2_8.png (deflated 4%)\n",
            "  adding: chase_db_320_320_dice_bce_0_4__hvr_0_4_1/split_2/train/image/_Image_10L_2_2.png (deflated 2%)\n",
            "  adding: chase_db_320_320_dice_bce_0_4__hvr_0_4_1/split_2/train/image/_Image_02R_1_8.png (deflated 7%)\n",
            "  adding: chase_db_320_320_dice_bce_0_4__hvr_0_4_1/split_2/train/image/_Image_01R_3_3.png (deflated 2%)\n",
            "  adding: chase_db_320_320_dice_bce_0_4__hvr_0_4_1/split_2/train/image/_Image_06R_3_6.png (deflated 1%)\n",
            "  adding: chase_db_320_320_dice_bce_0_4__hvr_0_4_1/split_2/train/image/_Image_13R_3_0.png (deflated 9%)\n",
            "  adding: chase_db_320_320_dice_bce_0_4__hvr_0_4_1/split_2/train/image/_Image_01L_0_5.png (deflated 1%)\n",
            "  adding: chase_db_320_320_dice_bce_0_4__hvr_0_4_1/split_2/train/image/_Image_09L_1_0.png (deflated 7%)\n",
            "  adding: chase_db_320_320_dice_bce_0_4__hvr_0_4_1/split_2/train/image/_Image_04R_3_9.png (deflated 1%)\n",
            "  adding: chase_db_320_320_dice_bce_0_4__hvr_0_4_1/split_2/train/image/_Image_09R_1_1.png (deflated 4%)\n",
            "  adding: chase_db_320_320_dice_bce_0_4__hvr_0_4_1/split_2/train/image/_Image_10L_0_2.png (deflated 3%)\n",
            "  adding: chase_db_320_320_dice_bce_0_4__hvr_0_4_1/split_2/train/image/_Image_02R_0_0.png (deflated 6%)\n",
            "  adding: chase_db_320_320_dice_bce_0_4__hvr_0_4_1/split_2/train/image/_Image_07L_1_9.png (deflated 2%)\n",
            "  adding: chase_db_320_320_dice_bce_0_4__hvr_0_4_1/split_2/train/image/_Image_02L_3_6.png (deflated 2%)\n",
            "  adding: chase_db_320_320_dice_bce_0_4__hvr_0_4_1/split_2/train/image/_Image_13R_0_2.png (deflated 6%)\n",
            "  adding: chase_db_320_320_dice_bce_0_4__hvr_0_4_1/split_2/train/image/_Image_10R_2_7.png (deflated 5%)\n",
            "  adding: chase_db_320_320_dice_bce_0_4__hvr_0_4_1/split_2/train/image/_Image_14L_1_6.png (deflated 2%)\n",
            "  adding: chase_db_320_320_dice_bce_0_4__hvr_0_4_1/split_2/train/image/_Image_05L_0_5.png (deflated 2%)\n",
            "  adding: chase_db_320_320_dice_bce_0_4__hvr_0_4_1/split_2/train/image/_Image_08R_0_0.png (deflated 8%)\n",
            "  adding: chase_db_320_320_dice_bce_0_4__hvr_0_4_1/split_2/train/image/_Image_10R_2_5.png (deflated 2%)\n",
            "  adding: chase_db_320_320_dice_bce_0_4__hvr_0_4_1/split_2/train/image/_Image_01R_3_1.png (deflated 1%)\n",
            "  adding: chase_db_320_320_dice_bce_0_4__hvr_0_4_1/split_2/train/image/_Image_01L_0_8.png (deflated 4%)\n",
            "  adding: chase_db_320_320_dice_bce_0_4__hvr_0_4_1/split_2/train/image/_Image_08L_0_1.png (deflated 5%)\n",
            "  adding: chase_db_320_320_dice_bce_0_4__hvr_0_4_1/split_2/train/image/_Image_04L_1_3.png (deflated 5%)\n",
            "  adding: chase_db_320_320_dice_bce_0_4__hvr_0_4_1/split_2/train/image/_Image_02L_1_2.png (deflated 5%)\n",
            "  adding: chase_db_320_320_dice_bce_0_4__hvr_0_4_1/split_2/train/image/_Image_01R_1_7.png (deflated 6%)\n",
            "  adding: chase_db_320_320_dice_bce_0_4__hvr_0_4_1/split_2/train/image/_Image_14R_0_0.png (deflated 9%)\n",
            "  adding: chase_db_320_320_dice_bce_0_4__hvr_0_4_1/split_2/train/image/_Image_05L_2_5.png (deflated 2%)\n",
            "  adding: chase_db_320_320_dice_bce_0_4__hvr_0_4_1/split_2/train/image/_Image_08R_0_11.png (deflated 7%)\n",
            "  adding: chase_db_320_320_dice_bce_0_4__hvr_0_4_1/split_2/train/image/_Image_03L_1_10.png (deflated 1%)\n",
            "  adding: chase_db_320_320_dice_bce_0_4__hvr_0_4_1/split_2/train/image/_Image_10R_2_4.png (deflated 4%)\n",
            "  adding: chase_db_320_320_dice_bce_0_4__hvr_0_4_1/split_2/train/image/_Image_14L_0_4.png (deflated 2%)\n",
            "  adding: chase_db_320_320_dice_bce_0_4__hvr_0_4_1/split_2/train/image/_Image_10R_2_2.png (deflated 2%)\n",
            "  adding: chase_db_320_320_dice_bce_0_4__hvr_0_4_1/split_2/train/image/_Image_04L_0_9.png (deflated 1%)\n",
            "  adding: chase_db_320_320_dice_bce_0_4__hvr_0_4_1/split_2/train/image/_Image_14R_2_8.png (deflated 8%)\n",
            "  adding: chase_db_320_320_dice_bce_0_4__hvr_0_4_1/split_2/train/image/_Image_06L_2_6.png (deflated 2%)\n",
            "  adding: chase_db_320_320_dice_bce_0_4__hvr_0_4_1/split_2/train/image/_Image_06L_1_5.png (deflated 2%)\n",
            "  adding: chase_db_320_320_dice_bce_0_4__hvr_0_4_1/split_2/train/image/_Image_03L_1_11.png (deflated 5%)\n",
            "  adding: chase_db_320_320_dice_bce_0_4__hvr_0_4_1/split_2/train/image/_Image_07L_1_0.png (deflated 6%)\n",
            "  adding: chase_db_320_320_dice_bce_0_4__hvr_0_4_1/split_2/train/image/_Image_03R_2_8.png (deflated 5%)\n",
            "  adding: chase_db_320_320_dice_bce_0_4__hvr_0_4_1/split_2/train/image/_Image_01R_1_5.png (deflated 1%)\n",
            "  adding: chase_db_320_320_dice_bce_0_4__hvr_0_4_1/split_2/train/image/_Image_01L_1_4.png (deflated 6%)\n",
            "  adding: chase_db_320_320_dice_bce_0_4__hvr_0_4_1/split_2/train/image/_Image_04R_2_5.png (deflated 2%)\n",
            "  adding: chase_db_320_320_dice_bce_0_4__hvr_0_4_1/split_2/train/image/_Image_04L_0_3.png (deflated 6%)\n",
            "  adding: chase_db_320_320_dice_bce_0_4__hvr_0_4_1/split_2/train/image/_Image_08L_2_8.png (deflated 8%)\n",
            "  adding: chase_db_320_320_dice_bce_0_4__hvr_0_4_1/split_2/train/image/_Image_06R_2_6.png (deflated 2%)\n",
            "  adding: chase_db_320_320_dice_bce_0_4__hvr_0_4_1/split_2/train/image/_Image_14L_3_0.png (deflated 1%)\n",
            "  adding: chase_db_320_320_dice_bce_0_4__hvr_0_4_1/split_2/train/image/_Image_04R_3_4.png (deflated 1%)\n",
            "  adding: chase_db_320_320_dice_bce_0_4__hvr_0_4_1/split_2/train/image/_Image_14R_3_3.png (deflated 2%)\n",
            "  adding: chase_db_320_320_dice_bce_0_4__hvr_0_4_1/split_2/train/image/_Image_09R_0_4.png (deflated 3%)\n",
            "  adding: chase_db_320_320_dice_bce_0_4__hvr_0_4_1/split_2/train/image/_Image_10R_0_1.png (deflated 3%)\n",
            "  adding: chase_db_320_320_dice_bce_0_4__hvr_0_4_1/split_2/train/image/_Image_06L_1_2.png (deflated 4%)\n",
            "  adding: chase_db_320_320_dice_bce_0_4__hvr_0_4_1/split_2/train/image/_Image_10R_0_7.png (deflated 6%)\n",
            "  adding: chase_db_320_320_dice_bce_0_4__hvr_0_4_1/split_2/train/image/_Image_09R_1_0.png (deflated 6%)\n",
            "  adding: chase_db_320_320_dice_bce_0_4__hvr_0_4_1/split_2/train/image/_Image_05R_2_11.png (deflated 3%)\n",
            "  adding: chase_db_320_320_dice_bce_0_4__hvr_0_4_1/split_2/train/image/_Image_04L_3_1.png (deflated 1%)\n",
            "  adding: chase_db_320_320_dice_bce_0_4__hvr_0_4_1/split_2/train/image/_Image_10L_1_6.png (deflated 2%)\n",
            "  adding: chase_db_320_320_dice_bce_0_4__hvr_0_4_1/split_2/train/image/_Image_13R_0_8.png (deflated 11%)\n",
            "  adding: chase_db_320_320_dice_bce_0_4__hvr_0_4_1/split_2/train/image/_Image_14L_3_1.png (deflated 1%)\n",
            "  adding: chase_db_320_320_dice_bce_0_4__hvr_0_4_1/split_2/train/image/_Image_09R_3_0.png (deflated 2%)\n",
            "  adding: chase_db_320_320_dice_bce_0_4__hvr_0_4_1/split_2/train/image/_Image_05L_3_9.png (deflated 2%)\n",
            "  adding: chase_db_320_320_dice_bce_0_4__hvr_0_4_1/split_2/train/image/_Image_01L_2_7.png (deflated 6%)\n",
            "  adding: chase_db_320_320_dice_bce_0_4__hvr_0_4_1/split_2/train/image/_Image_06R_1_8.png (deflated 8%)\n",
            "  adding: chase_db_320_320_dice_bce_0_4__hvr_0_4_1/split_2/train/image/_Image_07L_3_2.png (deflated 2%)\n",
            "  adding: chase_db_320_320_dice_bce_0_4__hvr_0_4_1/split_2/train/image/_Image_08L_1_7.png (deflated 5%)\n",
            "  adding: chase_db_320_320_dice_bce_0_4__hvr_0_4_1/split_2/train/image/_Image_09R_1_7.png (deflated 3%)\n",
            "  adding: chase_db_320_320_dice_bce_0_4__hvr_0_4_1/split_2/train/image/_Image_09R_0_9.png (deflated 1%)\n",
            "  adding: chase_db_320_320_dice_bce_0_4__hvr_0_4_1/split_2/train/image/_Image_05R_0_2.png (deflated 2%)\n",
            "  adding: chase_db_320_320_dice_bce_0_4__hvr_0_4_1/split_2/train/image/_Image_01L_1_3.png (deflated 6%)\n",
            "  adding: chase_db_320_320_dice_bce_0_4__hvr_0_4_1/split_2/train/image/_Image_10L_2_0.png (deflated 6%)\n",
            "  adding: chase_db_320_320_dice_bce_0_4__hvr_0_4_1/split_2/train/image/_Image_08L_0_8.png (deflated 7%)\n",
            "  adding: chase_db_320_320_dice_bce_0_4__hvr_0_4_1/split_2/train/image/_Image_14R_3_8.png (deflated 1%)\n",
            "  adding: chase_db_320_320_dice_bce_0_4__hvr_0_4_1/split_2/train/image/_Image_03R_0_3.png (deflated 7%)\n",
            "  adding: chase_db_320_320_dice_bce_0_4__hvr_0_4_1/split_2/train/image/_Image_02L_1_7.png (deflated 4%)\n",
            "  adding: chase_db_320_320_dice_bce_0_4__hvr_0_4_1/split_2/train/image/_Image_03L_1_0.png (deflated 5%)\n",
            "  adding: chase_db_320_320_dice_bce_0_4__hvr_0_4_1/split_2/train/image/_Image_08R_0_10.png (deflated 4%)\n",
            "  adding: chase_db_320_320_dice_bce_0_4__hvr_0_4_1/split_2/train/image/_Image_02L_3_1.png (deflated 2%)\n",
            "  adding: chase_db_320_320_dice_bce_0_4__hvr_0_4_1/split_2/train/image/_Image_10L_3_2.png (deflated 2%)\n",
            "  adding: chase_db_320_320_dice_bce_0_4__hvr_0_4_1/split_2/train/image/_Image_09R_3_2.png (deflated 4%)\n",
            "  adding: chase_db_320_320_dice_bce_0_4__hvr_0_4_1/split_2/train/image/_Image_07R_2_0.png (deflated 5%)\n",
            "  adding: chase_db_320_320_dice_bce_0_4__hvr_0_4_1/split_2/train/image/_Image_14R_1_4.png (deflated 3%)\n",
            "  adding: chase_db_320_320_dice_bce_0_4__hvr_0_4_1/split_2/train/image/_Image_02R_3_3.png (deflated 7%)\n",
            "  adding: chase_db_320_320_dice_bce_0_4__hvr_0_4_1/split_2/train/image/_Image_02L_2_6.png (deflated 2%)\n",
            "  adding: chase_db_320_320_dice_bce_0_4__hvr_0_4_1/split_2/train/image/_Image_05R_3_4.png (deflated 1%)\n",
            "  adding: chase_db_320_320_dice_bce_0_4__hvr_0_4_1/split_2/train/image/_Image_05L_2_8.png (deflated 4%)\n",
            "  adding: chase_db_320_320_dice_bce_0_4__hvr_0_4_1/split_2/train/image/_Image_01L_0_7.png (deflated 6%)\n",
            "  adding: chase_db_320_320_dice_bce_0_4__hvr_0_4_1/split_2/train/image/_Image_07R_1_9.png (deflated 1%)\n",
            "  adding: chase_db_320_320_dice_bce_0_4__hvr_0_4_1/split_2/train/image/_Image_08R_2_11.png (deflated 7%)\n",
            "  adding: chase_db_320_320_dice_bce_0_4__hvr_0_4_1/split_2/train/image/_Image_06L_2_2.png (deflated 2%)\n",
            "  adding: chase_db_320_320_dice_bce_0_4__hvr_0_4_1/split_2/train/image/_Image_09L_2_3.png (deflated 6%)\n",
            "  adding: chase_db_320_320_dice_bce_0_4__hvr_0_4_1/split_2/train/image/_Image_03R_2_10.png (deflated 3%)\n",
            "  adding: chase_db_320_320_dice_bce_0_4__hvr_0_4_1/split_2/train/image/_Image_04R_3_6.png (deflated 2%)\n",
            "  adding: chase_db_320_320_dice_bce_0_4__hvr_0_4_1/split_2/train/image/_Image_14L_2_5.png (deflated 3%)\n",
            "  adding: chase_db_320_320_dice_bce_0_4__hvr_0_4_1/split_2/train/image/_Image_09R_3_3.png (deflated 3%)\n",
            "  adding: chase_db_320_320_dice_bce_0_4__hvr_0_4_1/split_2/train/image/_Image_06L_1_11.png (deflated 5%)\n",
            "  adding: chase_db_320_320_dice_bce_0_4__hvr_0_4_1/split_2/train/image/_Image_01L_3_9.png (deflated 1%)\n",
            "  adding: chase_db_320_320_dice_bce_0_4__hvr_0_4_1/split_2/train/image/_Image_07L_3_1.png (deflated 2%)\n",
            "  adding: chase_db_320_320_dice_bce_0_4__hvr_0_4_1/split_2/train/image/_Image_08L_3_3.png (deflated 2%)\n",
            "  adding: chase_db_320_320_dice_bce_0_4__hvr_0_4_1/split_2/train/image/_Image_08R_0_8.png (deflated 9%)\n",
            "  adding: chase_db_320_320_dice_bce_0_4__hvr_0_4_1/split_2/train/image/_Image_08L_3_1.png (deflated 2%)\n",
            "  adding: chase_db_320_320_dice_bce_0_4__hvr_0_4_1/split_2/train/image/_Image_10L_1_1.png (deflated 3%)\n",
            "  adding: chase_db_320_320_dice_bce_0_4__hvr_0_4_1/split_2/train/image/_Image_05L_3_11.png (deflated 4%)\n",
            "  adding: chase_db_320_320_dice_bce_0_4__hvr_0_4_1/split_2/train/image/_Image_09R_3_10.png (deflated 0%)\n",
            "  adding: chase_db_320_320_dice_bce_0_4__hvr_0_4_1/split_2/train/image/_Image_06R_0_3.png (deflated 7%)\n",
            "  adding: chase_db_320_320_dice_bce_0_4__hvr_0_4_1/split_2/train/image/_Image_14L_2_6.png (deflated 3%)\n",
            "  adding: chase_db_320_320_dice_bce_0_4__hvr_0_4_1/split_2/train/image/_Image_01R_2_4.png (deflated 6%)\n",
            "  adding: chase_db_320_320_dice_bce_0_4__hvr_0_4_1/split_2/train/image/_Image_04L_1_0.png (deflated 6%)\n",
            "  adding: chase_db_320_320_dice_bce_0_4__hvr_0_4_1/split_2/train/image/_Image_08R_1_4.png (deflated 4%)\n",
            "  adding: chase_db_320_320_dice_bce_0_4__hvr_0_4_1/split_2/train/image/_Image_10L_0_4.png (deflated 4%)\n",
            "  adding: chase_db_320_320_dice_bce_0_4__hvr_0_4_1/split_2/train/image/_Image_13R_0_5.png (deflated 7%)\n",
            "  adding: chase_db_320_320_dice_bce_0_4__hvr_0_4_1/split_2/train/image/_Image_08R_2_3.png (deflated 7%)\n",
            "  adding: chase_db_320_320_dice_bce_0_4__hvr_0_4_1/split_2/train/image/_Image_10R_3_8.png (deflated 2%)\n",
            "  adding: chase_db_320_320_dice_bce_0_4__hvr_0_4_1/split_2/train/image/_Image_01L_2_6.png (deflated 2%)\n",
            "  adding: chase_db_320_320_dice_bce_0_4__hvr_0_4_1/split_2/train/image/_Image_04L_1_8.png (deflated 8%)\n",
            "  adding: chase_db_320_320_dice_bce_0_4__hvr_0_4_1/split_2/train/image/_Image_03R_2_11.png (deflated 7%)\n",
            "  adding: chase_db_320_320_dice_bce_0_4__hvr_0_4_1/split_2/train/image/_Image_09L_2_11.png (deflated 7%)\n",
            "  adding: chase_db_320_320_dice_bce_0_4__hvr_0_4_1/split_2/train/image/_Image_08R_2_8.png (deflated 7%)\n",
            "  adding: chase_db_320_320_dice_bce_0_4__hvr_0_4_1/split_2/train/image/_Image_01L_0_4.png (deflated 3%)\n",
            "  adding: chase_db_320_320_dice_bce_0_4__hvr_0_4_1/split_2/train/image/_Image_07R_1_5.png (deflated 2%)\n",
            "  adding: chase_db_320_320_dice_bce_0_4__hvr_0_4_1/split_2/train/image/_Image_07R_1_7.png (deflated 3%)\n",
            "  adding: chase_db_320_320_dice_bce_0_4__hvr_0_4_1/split_2/train/image/_Image_07L_0_10.png (deflated 2%)\n",
            "  adding: chase_db_320_320_dice_bce_0_4__hvr_0_4_1/split_2/train/image/_Image_06L_2_7.png (deflated 7%)\n",
            "  adding: chase_db_320_320_dice_bce_0_4__hvr_0_4_1/split_2/train/image/_Image_14L_3_5.png (deflated 1%)\n",
            "  adding: chase_db_320_320_dice_bce_0_4__hvr_0_4_1/split_2/train/image/_Image_01R_1_2.png (deflated 3%)\n",
            "  adding: chase_db_320_320_dice_bce_0_4__hvr_0_4_1/split_2/train/image/_Image_08L_3_11.png (deflated 2%)\n",
            "  adding: chase_db_320_320_dice_bce_0_4__hvr_0_4_1/split_2/train/image/_Image_05L_3_4.png (deflated 1%)\n",
            "  adding: chase_db_320_320_dice_bce_0_4__hvr_0_4_1/split_2/train/image/_Image_07L_1_6.png (deflated 3%)\n",
            "  adding: chase_db_320_320_dice_bce_0_4__hvr_0_4_1/split_2/train/image/_Image_14R_2_1.png (deflated 2%)\n",
            "  adding: chase_db_320_320_dice_bce_0_4__hvr_0_4_1/split_2/train/image/_Image_01L_2_2.png (deflated 2%)\n",
            "  adding: chase_db_320_320_dice_bce_0_4__hvr_0_4_1/split_2/train/image/_Image_01R_1_4.png (deflated 4%)\n",
            "  adding: chase_db_320_320_dice_bce_0_4__hvr_0_4_1/split_2/train/image/_Image_07L_3_11.png (deflated 3%)\n",
            "  adding: chase_db_320_320_dice_bce_0_4__hvr_0_4_1/split_2/train/image/_Image_07L_0_3.png (deflated 7%)\n",
            "  adding: chase_db_320_320_dice_bce_0_4__hvr_0_4_1/split_2/train/image/_Image_05R_1_4.png (deflated 2%)\n",
            "  adding: chase_db_320_320_dice_bce_0_4__hvr_0_4_1/split_2/train/image/_Image_08R_3_7.png (deflated 2%)\n",
            "  adding: chase_db_320_320_dice_bce_0_4__hvr_0_4_1/split_2/train/image/_Image_03L_2_7.png (deflated 4%)\n",
            "  adding: chase_db_320_320_dice_bce_0_4__hvr_0_4_1/split_2/train/image/_Image_06L_1_4.png (deflated 7%)\n",
            "  adding: chase_db_320_320_dice_bce_0_4__hvr_0_4_1/split_2/train/image/_Image_09L_3_6.png (deflated 1%)\n",
            "  adding: chase_db_320_320_dice_bce_0_4__hvr_0_4_1/split_2/train/image/_Image_09L_2_6.png (deflated 2%)\n",
            "  adding: chase_db_320_320_dice_bce_0_4__hvr_0_4_1/split_2/train/image/_Image_07R_3_6.png (deflated 1%)\n",
            "  adding: chase_db_320_320_dice_bce_0_4__hvr_0_4_1/split_2/train/image/_Image_06R_0_4.png (deflated 6%)\n",
            "  adding: chase_db_320_320_dice_bce_0_4__hvr_0_4_1/split_2/train/image/_Image_02R_2_3.png (deflated 7%)\n",
            "  adding: chase_db_320_320_dice_bce_0_4__hvr_0_4_1/split_2/train/image/_Image_04L_2_9.png (deflated 4%)\n",
            "  adding: chase_db_320_320_dice_bce_0_4__hvr_0_4_1/split_2/train/image/_Image_05L_0_1.png (deflated 2%)\n",
            "  adding: chase_db_320_320_dice_bce_0_4__hvr_0_4_1/split_2/train/image/_Image_13R_2_3.png (deflated 8%)\n",
            "  adding: chase_db_320_320_dice_bce_0_4__hvr_0_4_1/split_2/train/image/_Image_07L_0_9.png (deflated 2%)\n",
            "  adding: chase_db_320_320_dice_bce_0_4__hvr_0_4_1/split_2/train/image/_Image_03R_1_2.png (deflated 2%)\n",
            "  adding: chase_db_320_320_dice_bce_0_4__hvr_0_4_1/split_2/train/image/_Image_14L_1_5.png (deflated 3%)\n",
            "  adding: chase_db_320_320_dice_bce_0_4__hvr_0_4_1/split_2/train/image/_Image_06L_2_5.png (deflated 2%)\n",
            "  adding: chase_db_320_320_dice_bce_0_4__hvr_0_4_1/split_2/train/image/_Image_09R_0_6.png (deflated 3%)\n",
            "  adding: chase_db_320_320_dice_bce_0_4__hvr_0_4_1/split_2/train/image/_Image_01R_2_6.png (deflated 1%)\n",
            "  adding: chase_db_320_320_dice_bce_0_4__hvr_0_4_1/split_2/train/image/_Image_04L_3_11.png (deflated 2%)\n",
            "  adding: chase_db_320_320_dice_bce_0_4__hvr_0_4_1/split_2/train/image/_Image_10R_1_4.png (deflated 5%)\n",
            "  adding: chase_db_320_320_dice_bce_0_4__hvr_0_4_1/split_2/train/image/_Image_02R_1_10.png (deflated 2%)\n",
            "  adding: chase_db_320_320_dice_bce_0_4__hvr_0_4_1/split_2/train/image/_Image_14R_3_7.png (deflated 2%)\n",
            "  adding: chase_db_320_320_dice_bce_0_4__hvr_0_4_1/split_2/train/image/_Image_02L_1_1.png (deflated 3%)\n",
            "  adding: chase_db_320_320_dice_bce_0_4__hvr_0_4_1/split_2/train/image/_Image_14R_1_9.png (deflated 2%)\n",
            "  adding: chase_db_320_320_dice_bce_0_4__hvr_0_4_1/split_2/train/image/_Image_06R_2_1.png (deflated 2%)\n",
            "  adding: chase_db_320_320_dice_bce_0_4__hvr_0_4_1/split_2/train/image/_Image_13R_0_10.png (deflated 5%)\n",
            "  adding: chase_db_320_320_dice_bce_0_4__hvr_0_4_1/split_2/train/image/_Image_07R_3_1.png (deflated 2%)\n",
            "  adding: chase_db_320_320_dice_bce_0_4__hvr_0_4_1/split_2/train/image/_Image_14R_1_11.png (deflated 8%)\n",
            "  adding: chase_db_320_320_dice_bce_0_4__hvr_0_4_1/split_2/train/image/_Image_01R_3_6.png (deflated 1%)\n",
            "  adding: chase_db_320_320_dice_bce_0_4__hvr_0_4_1/split_2/train/image/_Image_03R_0_1.png (deflated 3%)\n",
            "  adding: chase_db_320_320_dice_bce_0_4__hvr_0_4_1/split_2/train/image/_Image_02R_3_8.png (deflated 4%)\n",
            "  adding: chase_db_320_320_dice_bce_0_4__hvr_0_4_1/split_2/train/image/_Image_05R_1_11.png (deflated 4%)\n",
            "  adding: chase_db_320_320_dice_bce_0_4__hvr_0_4_1/split_2/train/image/_Image_01R_2_7.png (deflated 4%)\n",
            "  adding: chase_db_320_320_dice_bce_0_4__hvr_0_4_1/split_2/train/image/_Image_04L_0_1.png (deflated 4%)\n",
            "  adding: chase_db_320_320_dice_bce_0_4__hvr_0_4_1/split_2/train/image/_Image_03R_1_1.png (deflated 2%)\n",
            "  adding: chase_db_320_320_dice_bce_0_4__hvr_0_4_1/split_2/train/image/_Image_13R_2_10.png (deflated 6%)\n",
            "  adding: chase_db_320_320_dice_bce_0_4__hvr_0_4_1/split_2/train/image/_Image_10L_1_8.png (deflated 8%)\n",
            "  adding: chase_db_320_320_dice_bce_0_4__hvr_0_4_1/split_2/train/image/_Image_05R_3_9.png (deflated 1%)\n",
            "  adding: chase_db_320_320_dice_bce_0_4__hvr_0_4_1/split_2/train/image/_Image_08R_3_1.png (deflated 2%)\n",
            "  adding: chase_db_320_320_dice_bce_0_4__hvr_0_4_1/split_2/train/image/_Image_10R_3_7.png (deflated 3%)\n",
            "  adding: chase_db_320_320_dice_bce_0_4__hvr_0_4_1/split_2/train/image/_Image_09L_3_1.png (deflated 1%)\n",
            "  adding: chase_db_320_320_dice_bce_0_4__hvr_0_4_1/split_2/train/image/_Image_01L_0_0.png (deflated 5%)\n",
            "  adding: chase_db_320_320_dice_bce_0_4__hvr_0_4_1/split_2/train/image/_Image_14L_1_4.png (deflated 2%)\n",
            "  adding: chase_db_320_320_dice_bce_0_4__hvr_0_4_1/split_2/train/image/_Image_08R_1_8.png (deflated 7%)\n",
            "  adding: chase_db_320_320_dice_bce_0_4__hvr_0_4_1/split_2/train/image/_Image_04R_1_8.png (deflated 6%)\n",
            "  adding: chase_db_320_320_dice_bce_0_4__hvr_0_4_1/split_2/train/image/_Image_04L_3_5.png (deflated 2%)\n",
            "  adding: chase_db_320_320_dice_bce_0_4__hvr_0_4_1/split_2/train/image/_Image_08L_3_10.png (deflated 2%)\n",
            "  adding: chase_db_320_320_dice_bce_0_4__hvr_0_4_1/split_2/train/image/_Image_07L_1_7.png (deflated 3%)\n",
            "  adding: chase_db_320_320_dice_bce_0_4__hvr_0_4_1/split_2/train/image/_Image_05R_3_11.png (deflated 1%)\n",
            "  adding: chase_db_320_320_dice_bce_0_4__hvr_0_4_1/split_2/train/image/_Image_14R_3_5.png (deflated 1%)\n",
            "  adding: chase_db_320_320_dice_bce_0_4__hvr_0_4_1/split_2/train/image/_Image_02L_1_5.png (deflated 2%)\n",
            "  adding: chase_db_320_320_dice_bce_0_4__hvr_0_4_1/split_2/train/image/_Image_03L_1_4.png (deflated 4%)\n",
            "  adding: chase_db_320_320_dice_bce_0_4__hvr_0_4_1/split_2/train/image/_Image_08R_0_3.png (deflated 7%)\n",
            "  adding: chase_db_320_320_dice_bce_0_4__hvr_0_4_1/split_2/train/image/_Image_06L_0_10.png (deflated 2%)\n",
            "  adding: chase_db_320_320_dice_bce_0_4__hvr_0_4_1/split_2/train/image/_Image_13R_3_9.png (deflated 4%)\n",
            "  adding: chase_db_320_320_dice_bce_0_4__hvr_0_4_1/split_2/train/image/_Image_10R_3_6.png (deflated 1%)\n",
            "  adding: chase_db_320_320_dice_bce_0_4__hvr_0_4_1/split_2/train/image/_Image_02R_3_7.png (deflated 3%)\n",
            "  adding: chase_db_320_320_dice_bce_0_4__hvr_0_4_1/split_2/train/image/_Image_04R_2_8.png (deflated 5%)\n",
            "  adding: chase_db_320_320_dice_bce_0_4__hvr_0_4_1/split_2/train/image/_Image_09R_0_5.png (deflated 2%)\n",
            "  adding: chase_db_320_320_dice_bce_0_4__hvr_0_4_1/split_2/train/image/_Image_05R_3_3.png (deflated 1%)\n",
            "  adding: chase_db_320_320_dice_bce_0_4__hvr_0_4_1/split_2/train/image/_Image_10L_2_11.png (deflated 6%)\n",
            "  adding: chase_db_320_320_dice_bce_0_4__hvr_0_4_1/split_2/train/image/_Image_09R_3_9.png (deflated 2%)\n",
            "  adding: chase_db_320_320_dice_bce_0_4__hvr_0_4_1/split_2/train/image/_Image_07L_2_6.png (deflated 2%)\n",
            "  adding: chase_db_320_320_dice_bce_0_4__hvr_0_4_1/split_2/train/image/_Image_05R_0_10.png (deflated 2%)\n",
            "  adding: chase_db_320_320_dice_bce_0_4__hvr_0_4_1/split_2/train/image/_Image_02R_2_7.png (deflated 5%)\n",
            "  adding: chase_db_320_320_dice_bce_0_4__hvr_0_4_1/split_2/train/image/_Image_05R_0_0.png (deflated 5%)\n",
            "  adding: chase_db_320_320_dice_bce_0_4__hvr_0_4_1/split_2/train/image/_Image_01L_3_4.png (deflated 1%)\n",
            "  adding: chase_db_320_320_dice_bce_0_4__hvr_0_4_1/split_2/train/image/_Image_04L_3_8.png (deflated 2%)\n",
            "  adding: chase_db_320_320_dice_bce_0_4__hvr_0_4_1/split_2/train/image/_Image_14R_2_4.png (deflated 7%)\n",
            "  adding: chase_db_320_320_dice_bce_0_4__hvr_0_4_1/split_2/train/image/_Image_07L_0_7.png (deflated 4%)\n",
            "  adding: chase_db_320_320_dice_bce_0_4__hvr_0_4_1/split_2/train/image/_Image_02R_1_1.png (deflated 4%)\n",
            "  adding: chase_db_320_320_dice_bce_0_4__hvr_0_4_1/split_2/train/image/_Image_03L_0_7.png (deflated 4%)\n",
            "  adding: chase_db_320_320_dice_bce_0_4__hvr_0_4_1/split_2/train/image/_Image_09L_1_3.png (deflated 6%)\n",
            "  adding: chase_db_320_320_dice_bce_0_4__hvr_0_4_1/split_2/train/image/_Image_02R_0_3.png (deflated 8%)\n",
            "  adding: chase_db_320_320_dice_bce_0_4__hvr_0_4_1/split_2/train/image/_Image_01L_2_3.png (deflated 7%)\n",
            "  adding: chase_db_320_320_dice_bce_0_4__hvr_0_4_1/split_2/train/image/_Image_01L_3_2.png (deflated 2%)\n",
            "  adding: chase_db_320_320_dice_bce_0_4__hvr_0_4_1/split_2/train/image/_Image_07R_0_3.png (deflated 6%)\n",
            "  adding: chase_db_320_320_dice_bce_0_4__hvr_0_4_1/split_2/train/image/_Image_02L_1_9.png (deflated 1%)\n",
            "  adding: chase_db_320_320_dice_bce_0_4__hvr_0_4_1/split_2/train/image/_Image_05L_2_4.png (deflated 2%)\n",
            "  adding: chase_db_320_320_dice_bce_0_4__hvr_0_4_1/split_2/train/image/_Image_02R_1_2.png (deflated 3%)\n",
            "  adding: chase_db_320_320_dice_bce_0_4__hvr_0_4_1/split_2/train/image/_Image_02L_3_9.png (deflated 2%)\n",
            "  adding: chase_db_320_320_dice_bce_0_4__hvr_0_4_1/split_2/train/image/_Image_03L_3_7.png (deflated 3%)\n",
            "  adding: chase_db_320_320_dice_bce_0_4__hvr_0_4_1/split_2/train/image/_Image_08L_0_4.png (deflated 4%)\n",
            "  adding: chase_db_320_320_dice_bce_0_4__hvr_0_4_1/split_2/train/image/_Image_04L_2_0.png (deflated 5%)\n",
            "  adding: chase_db_320_320_dice_bce_0_4__hvr_0_4_1/split_2/train/image/_Image_06L_0_0.png (deflated 5%)\n",
            "  adding: chase_db_320_320_dice_bce_0_4__hvr_0_4_1/split_2/train/image/_Image_03R_3_3.png (deflated 6%)\n",
            "  adding: chase_db_320_320_dice_bce_0_4__hvr_0_4_1/split_2/train/image/_Image_08R_3_2.png (deflated 2%)\n",
            "  adding: chase_db_320_320_dice_bce_0_4__hvr_0_4_1/split_2/train/image/_Image_04L_1_7.png (deflated 4%)\n",
            "  adding: chase_db_320_320_dice_bce_0_4__hvr_0_4_1/split_2/train/image/_Image_14R_1_8.png (deflated 6%)\n",
            "  adding: chase_db_320_320_dice_bce_0_4__hvr_0_4_1/split_2/train/image/_Image_07R_2_9.png (deflated 3%)\n",
            "  adding: chase_db_320_320_dice_bce_0_4__hvr_0_4_1/split_2/train/image/_Image_10L_1_9.png (deflated 1%)\n",
            "  adding: chase_db_320_320_dice_bce_0_4__hvr_0_4_1/split_2/train/image/_Image_09R_2_2.png (deflated 2%)\n",
            "  adding: chase_db_320_320_dice_bce_0_4__hvr_0_4_1/split_2/train/image/_Image_07L_2_7.png (deflated 4%)\n",
            "  adding: chase_db_320_320_dice_bce_0_4__hvr_0_4_1/split_2/train/image/_Image_02L_1_6.png (deflated 3%)\n",
            "  adding: chase_db_320_320_dice_bce_0_4__hvr_0_4_1/split_2/train/image/_Image_02L_1_8.png (deflated 5%)\n",
            "  adding: chase_db_320_320_dice_bce_0_4__hvr_0_4_1/split_2/train/image/_Image_07L_3_9.png (deflated 1%)\n",
            "  adding: chase_db_320_320_dice_bce_0_4__hvr_0_4_1/split_2/train/image/_Image_14R_0_4.png (deflated 7%)\n",
            "  adding: chase_db_320_320_dice_bce_0_4__hvr_0_4_1/split_2/train/image/_Image_13R_1_3.png (deflated 10%)\n",
            "  adding: chase_db_320_320_dice_bce_0_4__hvr_0_4_1/split_2/train/image/_Image_07L_1_4.png (deflated 3%)\n",
            "  adding: chase_db_320_320_dice_bce_0_4__hvr_0_4_1/split_2/train/image/_Image_04R_0_4.png (deflated 4%)\n",
            "  adding: chase_db_320_320_dice_bce_0_4__hvr_0_4_1/split_2/train/image/_Image_07L_0_2.png (deflated 3%)\n",
            "  adding: chase_db_320_320_dice_bce_0_4__hvr_0_4_1/split_2/train/image/_Image_06R_3_1.png (deflated 2%)\n",
            "  adding: chase_db_320_320_dice_bce_0_4__hvr_0_4_1/split_2/train/image/_Image_01R_3_11.png (deflated 1%)\n",
            "  adding: chase_db_320_320_dice_bce_0_4__hvr_0_4_1/split_2/train/image/_Image_03L_0_3.png (deflated 5%)\n",
            "  adding: chase_db_320_320_dice_bce_0_4__hvr_0_4_1/split_2/train/image/_Image_01L_1_0.png (deflated 6%)\n",
            "  adding: chase_db_320_320_dice_bce_0_4__hvr_0_4_1/split_2/train/image/_Image_04R_3_8.png (deflated 1%)\n",
            "  adding: chase_db_320_320_dice_bce_0_4__hvr_0_4_1/split_2/train/image/_Image_07L_0_6.png (deflated 2%)\n",
            "  adding: chase_db_320_320_dice_bce_0_4__hvr_0_4_1/split_2/train/image/_Image_13R_1_0.png (deflated 8%)\n",
            "  adding: chase_db_320_320_dice_bce_0_4__hvr_0_4_1/split_2/train/image/_Image_14R_3_4.png (deflated 2%)\n",
            "  adding: chase_db_320_320_dice_bce_0_4__hvr_0_4_1/split_2/train/image/_Image_14L_2_9.png (deflated 2%)\n",
            "  adding: chase_db_320_320_dice_bce_0_4__hvr_0_4_1/split_2/train/image/_Image_04L_3_2.png (deflated 2%)\n",
            "  adding: chase_db_320_320_dice_bce_0_4__hvr_0_4_1/split_2/train/image/_Image_04L_0_4.png (deflated 4%)\n",
            "  adding: chase_db_320_320_dice_bce_0_4__hvr_0_4_1/split_2/train/image/_Image_10R_2_3.png (deflated 7%)\n",
            "  adding: chase_db_320_320_dice_bce_0_4__hvr_0_4_1/split_2/train/image/_Image_06L_1_10.png (deflated 2%)\n",
            "  adding: chase_db_320_320_dice_bce_0_4__hvr_0_4_1/split_2/train/image/_Image_10R_0_3.png (deflated 6%)\n",
            "  adding: chase_db_320_320_dice_bce_0_4__hvr_0_4_1/split_2/train/image/_Image_06R_2_8.png (deflated 5%)\n",
            "  adding: chase_db_320_320_dice_bce_0_4__hvr_0_4_1/split_2/train/image/_Image_10L_1_4.png (deflated 5%)\n",
            "  adding: chase_db_320_320_dice_bce_0_4__hvr_0_4_1/split_2/train/image/_Image_06R_3_0.png (deflated 2%)\n",
            "  adding: chase_db_320_320_dice_bce_0_4__hvr_0_4_1/split_2/train/image/_Image_03R_1_7.png (deflated 5%)\n",
            "  adding: chase_db_320_320_dice_bce_0_4__hvr_0_4_1/split_2/train/image/_Image_07R_0_6.png (deflated 2%)\n",
            "  adding: chase_db_320_320_dice_bce_0_4__hvr_0_4_1/split_2/train/image/_Image_06R_3_2.png (deflated 2%)\n",
            "  adding: chase_db_320_320_dice_bce_0_4__hvr_0_4_1/split_2/train/image/_Image_02R_2_0.png (deflated 7%)\n",
            "  adding: chase_db_320_320_dice_bce_0_4__hvr_0_4_1/split_2/train/image/_Image_03R_0_4.png (deflated 4%)\n",
            "  adding: chase_db_320_320_dice_bce_0_4__hvr_0_4_1/split_2/train/image/_Image_02R_2_10.png (deflated 4%)\n",
            "  adding: chase_db_320_320_dice_bce_0_4__hvr_0_4_1/split_2/train/image/_Image_05R_2_10.png (deflated 2%)\n",
            "  adding: chase_db_320_320_dice_bce_0_4__hvr_0_4_1/split_2/train/image/_Image_05L_0_3.png (deflated 5%)\n",
            "  adding: chase_db_320_320_dice_bce_0_4__hvr_0_4_1/split_2/train/image/_Image_02L_2_4.png (deflated 3%)\n",
            "  adding: chase_db_320_320_dice_bce_0_4__hvr_0_4_1/split_2/train/image/_Image_04R_2_2.png (deflated 2%)\n",
            "  adding: chase_db_320_320_dice_bce_0_4__hvr_0_4_1/split_2/train/image/_Image_13R_2_4.png (deflated 13%)\n",
            "  adding: chase_db_320_320_dice_bce_0_4__hvr_0_4_1/split_2/train/image/_Image_07L_3_6.png (deflated 1%)\n",
            "  adding: chase_db_320_320_dice_bce_0_4__hvr_0_4_1/split_2/train/image/_Image_05L_1_7.png (deflated 2%)\n",
            "  adding: chase_db_320_320_dice_bce_0_4__hvr_0_4_1/split_2/train/image/_Image_04L_2_4.png (deflated 4%)\n",
            "  adding: chase_db_320_320_dice_bce_0_4__hvr_0_4_1/split_2/train/image/_Image_03L_1_5.png (deflated 2%)\n",
            "  adding: chase_db_320_320_dice_bce_0_4__hvr_0_4_1/split_2/train/image/_Image_01L_3_5.png (deflated 1%)\n",
            "  adding: chase_db_320_320_dice_bce_0_4__hvr_0_4_1/split_2/train/image/_Image_09L_0_8.png (deflated 5%)\n",
            "  adding: chase_db_320_320_dice_bce_0_4__hvr_0_4_1/split_2/train/image/_Image_09R_3_5.png (deflated 1%)\n",
            "  adding: chase_db_320_320_dice_bce_0_4__hvr_0_4_1/split_2/train/image/_Image_14L_0_5.png (deflated 2%)\n",
            "  adding: chase_db_320_320_dice_bce_0_4__hvr_0_4_1/split_2/train/image/_Image_09R_0_1.png (deflated 2%)\n",
            "  adding: chase_db_320_320_dice_bce_0_4__hvr_0_4_1/split_2/train/image/_Image_01L_3_10.png (deflated 1%)\n",
            "  adding: chase_db_320_320_dice_bce_0_4__hvr_0_4_1/split_2/train/image/_Image_14R_3_0.png (deflated 3%)\n",
            "  adding: chase_db_320_320_dice_bce_0_4__hvr_0_4_1/split_2/train/image/_Image_07L_3_10.png (deflated 1%)\n",
            "  adding: chase_db_320_320_dice_bce_0_4__hvr_0_4_1/split_2/train/image/_Image_03R_0_2.png (deflated 3%)\n",
            "  adding: chase_db_320_320_dice_bce_0_4__hvr_0_4_1/split_2/train/image/_Image_05L_1_9.png (deflated 2%)\n",
            "  adding: chase_db_320_320_dice_bce_0_4__hvr_0_4_1/split_2/train/image/_Image_04R_0_6.png (deflated 2%)\n",
            "  adding: chase_db_320_320_dice_bce_0_4__hvr_0_4_1/split_2/train/image/_Image_01R_0_1.png (deflated 3%)\n",
            "  adding: chase_db_320_320_dice_bce_0_4__hvr_0_4_1/split_2/train/image/_Image_09R_2_8.png (deflated 5%)\n",
            "  adding: chase_db_320_320_dice_bce_0_4__hvr_0_4_1/split_2/train/image/_Image_05R_0_4.png (deflated 4%)\n",
            "  adding: chase_db_320_320_dice_bce_0_4__hvr_0_4_1/split_2/train/image/_Image_01R_3_4.png (deflated 2%)\n",
            "  adding: chase_db_320_320_dice_bce_0_4__hvr_0_4_1/split_2/train/image/_Image_01L_0_2.png (deflated 2%)\n",
            "  adding: chase_db_320_320_dice_bce_0_4__hvr_0_4_1/split_2/train/image/_Image_02L_3_4.png (deflated 2%)\n",
            "  adding: chase_db_320_320_dice_bce_0_4__hvr_0_4_1/split_2/train/image/_Image_04R_2_0.png (deflated 5%)\n",
            "  adding: chase_db_320_320_dice_bce_0_4__hvr_0_4_1/split_2/train/image/_Image_06R_3_9.png (deflated 2%)\n",
            "  adding: chase_db_320_320_dice_bce_0_4__hvr_0_4_1/split_2/train/image/_Image_08L_0_10.png (deflated 3%)\n",
            "  adding: chase_db_320_320_dice_bce_0_4__hvr_0_4_1/split_2/train/image/_Image_06L_3_5.png (deflated 2%)\n",
            "  adding: chase_db_320_320_dice_bce_0_4__hvr_0_4_1/split_2/train/image/_Image_14R_2_9.png (deflated 3%)\n",
            "  adding: chase_db_320_320_dice_bce_0_4__hvr_0_4_1/split_2/train/image/_Image_04L_3_6.png (deflated 1%)\n",
            "  adding: chase_db_320_320_dice_bce_0_4__hvr_0_4_1/split_2/train/image/_Image_01R_0_8.png (deflated 6%)\n",
            "  adding: chase_db_320_320_dice_bce_0_4__hvr_0_4_1/split_2/train/image/_Image_02L_3_7.png (deflated 2%)\n",
            "  adding: chase_db_320_320_dice_bce_0_4__hvr_0_4_1/split_2/train/image/_Image_09L_1_7.png (deflated 8%)\n",
            "  adding: chase_db_320_320_dice_bce_0_4__hvr_0_4_1/split_2/train/image/_Image_06L_2_0.png (deflated 5%)\n",
            "  adding: chase_db_320_320_dice_bce_0_4__hvr_0_4_1/split_2/train/image/_Image_09L_0_5.png (deflated 5%)\n",
            "  adding: chase_db_320_320_dice_bce_0_4__hvr_0_4_1/split_2/train/image/_Image_07L_2_5.png (deflated 2%)\n",
            "  adding: chase_db_320_320_dice_bce_0_4__hvr_0_4_1/split_2/train/image/_Image_05R_0_7.png (deflated 2%)\n",
            "  adding: chase_db_320_320_dice_bce_0_4__hvr_0_4_1/split_2/train/image/_Image_09L_0_9.png (deflated 2%)\n",
            "  adding: chase_db_320_320_dice_bce_0_4__hvr_0_4_1/split_2/train/image/_Image_01L_2_5.png (deflated 1%)\n",
            "  adding: chase_db_320_320_dice_bce_0_4__hvr_0_4_1/split_2/train/image/_Image_07L_1_5.png (deflated 2%)\n",
            "  adding: chase_db_320_320_dice_bce_0_4__hvr_0_4_1/split_2/train/image/_Image_06R_2_7.png (deflated 4%)\n",
            "  adding: chase_db_320_320_dice_bce_0_4__hvr_0_4_1/split_2/train/image/_Image_14L_2_10.png (deflated 2%)\n",
            "  adding: chase_db_320_320_dice_bce_0_4__hvr_0_4_1/split_2/train/image/_Image_06R_0_11.png (deflated 7%)\n",
            "  adding: chase_db_320_320_dice_bce_0_4__hvr_0_4_1/split_2/train/image/_Image_04R_2_1.png (deflated 2%)\n",
            "  adding: chase_db_320_320_dice_bce_0_4__hvr_0_4_1/split_2/train/image/_Image_05L_0_4.png (deflated 2%)\n",
            "  adding: chase_db_320_320_dice_bce_0_4__hvr_0_4_1/split_2/train/image/_Image_10R_0_6.png (deflated 2%)\n",
            "  adding: chase_db_320_320_dice_bce_0_4__hvr_0_4_1/split_2/train/image/_Image_08R_1_3.png (deflated 7%)\n",
            "  adding: chase_db_320_320_dice_bce_0_4__hvr_0_4_1/split_2/train/image/_Image_14L_1_3.png (deflated 4%)\n",
            "  adding: chase_db_320_320_dice_bce_0_4__hvr_0_4_1/split_2/train/image/_Image_06R_1_2.png (deflated 3%)\n",
            "  adding: chase_db_320_320_dice_bce_0_4__hvr_0_4_1/split_2/train/image/_Image_14R_2_3.png (deflated 6%)\n",
            "  adding: chase_db_320_320_dice_bce_0_4__hvr_0_4_1/split_2/train/image/_Image_07R_2_7.png (deflated 3%)\n",
            "  adding: chase_db_320_320_dice_bce_0_4__hvr_0_4_1/split_2/train/image/_Image_05R_2_5.png (deflated 2%)\n",
            "  adding: chase_db_320_320_dice_bce_0_4__hvr_0_4_1/split_2/train/image/_Image_10R_2_1.png (deflated 2%)\n",
            "  adding: chase_db_320_320_dice_bce_0_4__hvr_0_4_1/split_2/train/image/_Image_14R_1_1.png (deflated 3%)\n",
            "  adding: chase_db_320_320_dice_bce_0_4__hvr_0_4_1/split_2/train/image/_Image_14L_1_10.png (deflated 1%)\n",
            "  adding: chase_db_320_320_dice_bce_0_4__hvr_0_4_1/split_2/train/image/_Image_03L_2_8.png (deflated 5%)\n",
            "  adding: chase_db_320_320_dice_bce_0_4__hvr_0_4_1/split_2/train/image/_Image_05L_2_0.png (deflated 4%)\n",
            "  adding: chase_db_320_320_dice_bce_0_4__hvr_0_4_1/split_2/train/image/_Image_08L_0_0.png (deflated 8%)\n",
            "  adding: chase_db_320_320_dice_bce_0_4__hvr_0_4_1/split_2/train/image/_Image_02L_1_3.png (deflated 5%)\n",
            "  adding: chase_db_320_320_dice_bce_0_4__hvr_0_4_1/split_2/train/image/_Image_07L_0_1.png (deflated 3%)\n",
            "  adding: chase_db_320_320_dice_bce_0_4__hvr_0_4_1/split_2/train/image/_Image_08R_2_0.png (deflated 9%)\n",
            "  adding: chase_db_320_320_dice_bce_0_4__hvr_0_4_1/split_2/train/image/_Image_02L_2_8.png (deflated 5%)\n",
            "  adding: chase_db_320_320_dice_bce_0_4__hvr_0_4_1/split_2/train/image/_Image_03L_3_8.png (deflated 4%)\n",
            "  adding: chase_db_320_320_dice_bce_0_4__hvr_0_4_1/split_2/train/image/_Image_14R_3_9.png (deflated 1%)\n",
            "  adding: chase_db_320_320_dice_bce_0_4__hvr_0_4_1/split_2/train/image/_Image_05L_3_8.png (deflated 3%)\n",
            "  adding: chase_db_320_320_dice_bce_0_4__hvr_0_4_1/split_2/train/image/_Image_08R_2_5.png (deflated 4%)\n",
            "  adding: chase_db_320_320_dice_bce_0_4__hvr_0_4_1/split_2/train/image/_Image_05R_1_2.png (deflated 2%)\n",
            "  adding: chase_db_320_320_dice_bce_0_4__hvr_0_4_1/split_2/train/image/_Image_13R_1_2.png (deflated 7%)\n",
            "  adding: chase_db_320_320_dice_bce_0_4__hvr_0_4_1/split_2/train/image/_Image_01L_1_10.png (deflated 1%)\n",
            "  adding: chase_db_320_320_dice_bce_0_4__hvr_0_4_1/split_2/train/image/_Image_10R_2_11.png (deflated 7%)\n",
            "  adding: chase_db_320_320_dice_bce_0_4__hvr_0_4_1/split_2/train/image/_Image_06R_2_0.png (deflated 7%)\n",
            "  adding: chase_db_320_320_dice_bce_0_4__hvr_0_4_1/split_2/train/image/_Image_08L_2_6.png (deflated 2%)\n",
            "  adding: chase_db_320_320_dice_bce_0_4__hvr_0_4_1/split_2/train/image/_Image_09L_3_5.png (deflated 2%)\n",
            "  adding: chase_db_320_320_dice_bce_0_4__hvr_0_4_1/split_2/train/image/_Image_10L_2_1.png (deflated 2%)\n",
            "  adding: chase_db_320_320_dice_bce_0_4__hvr_0_4_1/split_2/train/image/_Image_10R_3_1.png (deflated 2%)\n",
            "  adding: chase_db_320_320_dice_bce_0_4__hvr_0_4_1/split_2/train/image/_Image_07L_1_3.png (deflated 4%)\n",
            "  adding: chase_db_320_320_dice_bce_0_4__hvr_0_4_1/split_2/train/image/_Image_14L_1_11.png (deflated 4%)\n",
            "  adding: chase_db_320_320_dice_bce_0_4__hvr_0_4_1/split_2/train/image/_Image_07L_3_3.png (deflated 4%)\n",
            "  adding: chase_db_320_320_dice_bce_0_4__hvr_0_4_1/split_2/train/image/_Image_05L_1_5.png (deflated 2%)\n",
            "  adding: chase_db_320_320_dice_bce_0_4__hvr_0_4_1/split_2/train/image/_Image_14R_0_3.png (deflated 7%)\n",
            "  adding: chase_db_320_320_dice_bce_0_4__hvr_0_4_1/split_2/train/image/_Image_02L_3_5.png (deflated 2%)\n",
            "  adding: chase_db_320_320_dice_bce_0_4__hvr_0_4_1/split_2/train/image/_Image_07R_1_3.png (deflated 4%)\n",
            "  adding: chase_db_320_320_dice_bce_0_4__hvr_0_4_1/split_2/train/image/_Image_03R_0_5.png (deflated 2%)\n",
            "  adding: chase_db_320_320_dice_bce_0_4__hvr_0_4_1/split_2/train/image/_Image_06R_0_6.png (deflated 2%)\n",
            "  adding: chase_db_320_320_dice_bce_0_4__hvr_0_4_1/split_2/train/image/_Image_01L_3_3.png (deflated 2%)\n",
            "  adding: chase_db_320_320_dice_bce_0_4__hvr_0_4_1/split_2/train/image/_Image_10L_0_8.png (deflated 5%)\n",
            "  adding: chase_db_320_320_dice_bce_0_4__hvr_0_4_1/split_2/train/image/_Image_06L_0_5.png (deflated 2%)\n",
            "  adding: chase_db_320_320_dice_bce_0_4__hvr_0_4_1/split_2/train/image/_Image_14L_0_0.png (deflated 4%)\n",
            "  adding: chase_db_320_320_dice_bce_0_4__hvr_0_4_1/split_2/train/image/_Image_03L_0_11.png (deflated 4%)\n",
            "  adding: chase_db_320_320_dice_bce_0_4__hvr_0_4_1/split_2/train/image/_Image_01L_2_8.png (deflated 5%)\n",
            "  adding: chase_db_320_320_dice_bce_0_4__hvr_0_4_1/split_2/train/image/_Image_04R_1_4.png (deflated 3%)\n",
            "  adding: chase_db_320_320_dice_bce_0_4__hvr_0_4_1/split_2/train/image/_Image_04R_3_3.png (deflated 1%)\n",
            "  adding: chase_db_320_320_dice_bce_0_4__hvr_0_4_1/split_2/train/image/_Image_02L_2_5.png (deflated 3%)\n",
            "  adding: chase_db_320_320_dice_bce_0_4__hvr_0_4_1/split_2/train/image/_Image_09L_2_0.png (deflated 5%)\n",
            "  adding: chase_db_320_320_dice_bce_0_4__hvr_0_4_1/split_2/train/image/_Image_04R_2_7.png (deflated 4%)\n",
            "  adding: chase_db_320_320_dice_bce_0_4__hvr_0_4_1/split_2/train/image/_Image_06R_3_7.png (deflated 2%)\n",
            "  adding: chase_db_320_320_dice_bce_0_4__hvr_0_4_1/split_2/train/image/_Image_08R_3_0.png (deflated 3%)\n",
            "  adding: chase_db_320_320_dice_bce_0_4__hvr_0_4_1/split_2/train/image/_Image_03L_2_10.png (deflated 2%)\n",
            "  adding: chase_db_320_320_dice_bce_0_4__hvr_0_4_1/split_2/train/image/_Image_09R_2_7.png (deflated 6%)\n",
            "  adding: chase_db_320_320_dice_bce_0_4__hvr_0_4_1/split_2/train/image/_Image_02L_0_5.png (deflated 3%)\n",
            "  adding: chase_db_320_320_dice_bce_0_4__hvr_0_4_1/split_2/train/image/_Image_08R_1_5.png (deflated 3%)\n",
            "  adding: chase_db_320_320_dice_bce_0_4__hvr_0_4_1/split_2/train/image/_Image_01R_1_11.png (deflated 6%)\n",
            "  adding: chase_db_320_320_dice_bce_0_4__hvr_0_4_1/split_2/train/image/_Image_02R_3_4.png (deflated 2%)\n",
            "  adding: chase_db_320_320_dice_bce_0_4__hvr_0_4_1/split_2/train/image/_Image_08L_2_9.png (deflated 5%)\n",
            "  adding: chase_db_320_320_dice_bce_0_4__hvr_0_4_1/split_2/train/image/_Image_06R_1_9.png (deflated 2%)\n",
            "  adding: chase_db_320_320_dice_bce_0_4__hvr_0_4_1/split_2/train/image/_Image_01R_0_6.png (deflated 1%)\n",
            "  adding: chase_db_320_320_dice_bce_0_4__hvr_0_4_1/split_2/train/image/_Image_08R_1_9.png (deflated 4%)\n",
            "  adding: chase_db_320_320_dice_bce_0_4__hvr_0_4_1/split_2/train/image/_Image_07L_3_7.png (deflated 2%)\n",
            "  adding: chase_db_320_320_dice_bce_0_4__hvr_0_4_1/split_2/train/image/_Image_05R_3_7.png (deflated 1%)\n",
            "  adding: chase_db_320_320_dice_bce_0_4__hvr_0_4_1/split_2/train/image/_Image_06L_0_7.png (deflated 7%)\n",
            "  adding: chase_db_320_320_dice_bce_0_4__hvr_0_4_1/split_2/train/image/_Image_03R_3_6.png (deflated 1%)\n",
            "  adding: chase_db_320_320_dice_bce_0_4__hvr_0_4_1/split_2/train/image/_Image_04R_1_6.png (deflated 2%)\n",
            "  adding: chase_db_320_320_dice_bce_0_4__hvr_0_4_1/split_2/train/image/_Image_06L_3_0.png (deflated 5%)\n",
            "  adding: chase_db_320_320_dice_bce_0_4__hvr_0_4_1/split_2/train/image/_Image_03R_2_5.png (deflated 2%)\n",
            "  adding: chase_db_320_320_dice_bce_0_4__hvr_0_4_1/split_2/train/image/_Image_01R_0_11.png (deflated 6%)\n",
            "  adding: chase_db_320_320_dice_bce_0_4__hvr_0_4_1/split_2/train/image/_Image_09R_0_2.png (deflated 4%)\n",
            "  adding: chase_db_320_320_dice_bce_0_4__hvr_0_4_1/split_2/train/image/_Image_04L_2_6.png (deflated 2%)\n",
            "  adding: chase_db_320_320_dice_bce_0_4__hvr_0_4_1/split_2/train/image/_Image_01L_1_8.png (deflated 8%)\n",
            "  adding: chase_db_320_320_dice_bce_0_4__hvr_0_4_1/split_2/train/image/_Image_03R_1_11.png (deflated 5%)\n",
            "  adding: chase_db_320_320_dice_bce_0_4__hvr_0_4_1/split_2/train/image/_Image_06R_3_3.png (deflated 2%)\n",
            "  adding: chase_db_320_320_dice_bce_0_4__hvr_0_4_1/split_2/train/image/_Image_14R_2_7.png (deflated 3%)\n",
            "  adding: chase_db_320_320_dice_bce_0_4__hvr_0_4_1/split_2/train/image/_Image_02L_0_2.png (deflated 3%)\n",
            "  adding: chase_db_320_320_dice_bce_0_4__hvr_0_4_1/split_2/train/image/_Image_09R_2_11.png (deflated 7%)\n",
            "  adding: chase_db_320_320_dice_bce_0_4__hvr_0_4_1/split_2/train/image/_Image_03L_3_10.png (deflated 1%)\n",
            "  adding: chase_db_320_320_dice_bce_0_4__hvr_0_4_1/split_2/train/image/_Image_06R_2_5.png (deflated 3%)\n",
            "  adding: chase_db_320_320_dice_bce_0_4__hvr_0_4_1/split_2/train/image/_Image_01R_3_8.png (deflated 3%)\n",
            "  adding: chase_db_320_320_dice_bce_0_4__hvr_0_4_1/split_2/train/image/_Image_09L_3_11.png (deflated 1%)\n",
            "  adding: chase_db_320_320_dice_bce_0_4__hvr_0_4_1/split_2/train/image/_Image_06L_2_11.png (deflated 8%)\n",
            "  adding: chase_db_320_320_dice_bce_0_4__hvr_0_4_1/split_2/train/image/_Image_14R_0_2.png (deflated 3%)\n",
            "  adding: chase_db_320_320_dice_bce_0_4__hvr_0_4_1/split_2/train/image/_Image_03L_1_6.png (deflated 2%)\n",
            "  adding: chase_db_320_320_dice_bce_0_4__hvr_0_4_1/split_2/train/image/_Image_10L_1_0.png (deflated 7%)\n",
            "  adding: chase_db_320_320_dice_bce_0_4__hvr_0_4_1/split_2/train/image/_Image_01L_2_0.png (deflated 5%)\n",
            "  adding: chase_db_320_320_dice_bce_0_4__hvr_0_4_1/split_2/train/image/_Image_06R_1_3.png (deflated 5%)\n",
            "  adding: chase_db_320_320_dice_bce_0_4__hvr_0_4_1/split_2/train/image/_Image_02R_2_2.png (deflated 2%)\n",
            "  adding: chase_db_320_320_dice_bce_0_4__hvr_0_4_1/split_2/train/image/_Image_14L_3_7.png (deflated 1%)\n",
            "  adding: chase_db_320_320_dice_bce_0_4__hvr_0_4_1/split_2/train/image/_Image_03L_0_10.png (deflated 2%)\n",
            "  adding: chase_db_320_320_dice_bce_0_4__hvr_0_4_1/split_2/train/image/_Image_06R_0_2.png (deflated 3%)\n",
            "  adding: chase_db_320_320_dice_bce_0_4__hvr_0_4_1/split_2/train/image/_Image_14L_1_7.png (deflated 2%)\n",
            "  adding: chase_db_320_320_dice_bce_0_4__hvr_0_4_1/split_2/train/image/_Image_07R_2_1.png (deflated 2%)\n",
            "  adding: chase_db_320_320_dice_bce_0_4__hvr_0_4_1/split_2/train/image/_Image_14L_2_1.png (deflated 1%)\n",
            "  adding: chase_db_320_320_dice_bce_0_4__hvr_0_4_1/split_2/train/image/_Image_14R_1_2.png (deflated 3%)\n",
            "  adding: chase_db_320_320_dice_bce_0_4__hvr_0_4_1/split_2/train/image/_Image_06L_3_8.png (deflated 3%)\n",
            "  adding: chase_db_320_320_dice_bce_0_4__hvr_0_4_1/split_2/train/image/_Image_08L_0_2.png (deflated 3%)\n",
            "  adding: chase_db_320_320_dice_bce_0_4__hvr_0_4_1/split_2/train/image/_Image_04R_2_9.png (deflated 3%)\n",
            "  adding: chase_db_320_320_dice_bce_0_4__hvr_0_4_1/split_2/train/image/_Image_07R_2_10.png (deflated 3%)\n",
            "  adding: chase_db_320_320_dice_bce_0_4__hvr_0_4_1/split_2/train/image/_Image_07R_0_7.png (deflated 3%)\n",
            "  adding: chase_db_320_320_dice_bce_0_4__hvr_0_4_1/split_2/train/image/_Image_02L_1_0.png (deflated 5%)\n",
            "  adding: chase_db_320_320_dice_bce_0_4__hvr_0_4_1/split_2/train/image/_Image_03R_2_1.png (deflated 2%)\n",
            "  adding: chase_db_320_320_dice_bce_0_4__hvr_0_4_1/split_2/train/image/_Image_13R_2_6.png (deflated 3%)\n",
            "  adding: chase_db_320_320_dice_bce_0_4__hvr_0_4_1/split_2/train/image/_Image_02R_2_8.png (deflated 5%)\n",
            "  adding: chase_db_320_320_dice_bce_0_4__hvr_0_4_1/split_2/train/image/_Image_01R_0_0.png (deflated 7%)\n",
            "  adding: chase_db_320_320_dice_bce_0_4__hvr_0_4_1/split_2/train/image/_Image_05L_0_6.png (deflated 2%)\n",
            "  adding: chase_db_320_320_dice_bce_0_4__hvr_0_4_1/split_2/train/image/_Image_03L_3_2.png (deflated 2%)\n",
            "  adding: chase_db_320_320_dice_bce_0_4__hvr_0_4_1/split_2/train/image/_Image_06R_0_10.png (deflated 2%)\n",
            "  adding: chase_db_320_320_dice_bce_0_4__hvr_0_4_1/split_2/train/image/_Image_08L_2_4.png (deflated 4%)\n",
            "  adding: chase_db_320_320_dice_bce_0_4__hvr_0_4_1/split_2/train/image/_Image_09L_1_1.png (deflated 2%)\n",
            "  adding: chase_db_320_320_dice_bce_0_4__hvr_0_4_1/split_2/train/image/_Image_10R_1_3.png (deflated 5%)\n",
            "  adding: chase_db_320_320_dice_bce_0_4__hvr_0_4_1/split_2/train/image/_Image_02L_1_11.png (deflated 6%)\n",
            "  adding: chase_db_320_320_dice_bce_0_4__hvr_0_4_1/split_2/train/image/_Image_10R_3_4.png (deflated 2%)\n",
            "  adding: chase_db_320_320_dice_bce_0_4__hvr_0_4_1/split_2/train/image/_Image_05R_2_0.png (deflated 5%)\n",
            "  adding: chase_db_320_320_dice_bce_0_4__hvr_0_4_1/split_2/train/image/_Image_13R_1_4.png (deflated 7%)\n",
            "  adding: chase_db_320_320_dice_bce_0_4__hvr_0_4_1/split_2/train/image/_Image_07R_3_7.png (deflated 1%)\n",
            "  adding: chase_db_320_320_dice_bce_0_4__hvr_0_4_1/split_2/train/image/_Image_05L_0_9.png (deflated 2%)\n",
            "  adding: chase_db_320_320_dice_bce_0_4__hvr_0_4_1/split_2/train/image/_Image_07L_3_0.png (deflated 2%)\n",
            "  adding: chase_db_320_320_dice_bce_0_4__hvr_0_4_1/split_2/train/image/_Image_05R_1_10.png (deflated 2%)\n",
            "  adding: chase_db_320_320_dice_bce_0_4__hvr_0_4_1/split_2/train/image/_Image_02L_3_0.png (deflated 3%)\n",
            "  adding: chase_db_320_320_dice_bce_0_4__hvr_0_4_1/split_2/train/image/_Image_03L_2_11.png (deflated 4%)\n",
            "  adding: chase_db_320_320_dice_bce_0_4__hvr_0_4_1/split_2/train/image/_Image_03R_3_11.png (deflated 4%)\n",
            "  adding: chase_db_320_320_dice_bce_0_4__hvr_0_4_1/split_2/train/image/_Image_10L_2_4.png (deflated 4%)\n",
            "  adding: chase_db_320_320_dice_bce_0_4__hvr_0_4_1/split_2/train/image/_Image_13R_3_8.png (deflated 11%)\n",
            "  adding: chase_db_320_320_dice_bce_0_4__hvr_0_4_1/split_2/train/image/_Image_01R_0_3.png (deflated 8%)\n",
            "  adding: chase_db_320_320_dice_bce_0_4__hvr_0_4_1/split_2/train/image/_Image_13R_1_11.png (deflated 11%)\n",
            "  adding: chase_db_320_320_dice_bce_0_4__hvr_0_4_1/split_2/train/image/_Image_06L_3_11.png (deflated 3%)\n",
            "  adding: chase_db_320_320_dice_bce_0_4__hvr_0_4_1/split_2/train/image/_Image_05R_0_3.png (deflated 4%)\n",
            "  adding: chase_db_320_320_dice_bce_0_4__hvr_0_4_1/split_2/train/image/_Image_14L_3_9.png (deflated 1%)\n",
            "  adding: chase_db_320_320_dice_bce_0_4__hvr_0_4_1/split_2/train/image/_Image_03L_0_0.png (deflated 5%)\n",
            "  adding: chase_db_320_320_dice_bce_0_4__hvr_0_4_1/split_2/train/image/_Image_01L_2_4.png (deflated 3%)\n",
            "  adding: chase_db_320_320_dice_bce_0_4__hvr_0_4_1/split_2/train/image/_Image_07L_0_5.png (deflated 2%)\n",
            "  adding: chase_db_320_320_dice_bce_0_4__hvr_0_4_1/split_2/train/image/_Image_01L_3_0.png (deflated 1%)\n",
            "  adding: chase_db_320_320_dice_bce_0_4__hvr_0_4_1/split_2/train/image/_Image_10L_1_2.png (deflated 5%)\n",
            "  adding: chase_db_320_320_dice_bce_0_4__hvr_0_4_1/split_2/train/image/_Image_10R_0_4.png (deflated 4%)\n",
            "  adding: chase_db_320_320_dice_bce_0_4__hvr_0_4_1/split_2/train/image/_Image_07L_3_5.png (deflated 2%)\n",
            "  adding: chase_db_320_320_dice_bce_0_4__hvr_0_4_1/split_2/train/image/_Image_02R_0_5.png (deflated 3%)\n",
            "  adding: chase_db_320_320_dice_bce_0_4__hvr_0_4_1/split_2/train/image/_Image_02R_1_7.png (deflated 5%)\n",
            "  adding: chase_db_320_320_dice_bce_0_4__hvr_0_4_1/split_2/train/image/_Image_14L_2_4.png (deflated 2%)\n",
            "  adding: chase_db_320_320_dice_bce_0_4__hvr_0_4_1/split_2/train/image/_Image_05L_3_10.png (deflated 2%)\n",
            "  adding: chase_db_320_320_dice_bce_0_4__hvr_0_4_1/split_2/train/image/_Image_09R_2_10.png (deflated 4%)\n",
            "  adding: chase_db_320_320_dice_bce_0_4__hvr_0_4_1/split_2/train/image/_Image_08L_0_9.png (deflated 4%)\n",
            "  adding: chase_db_320_320_dice_bce_0_4__hvr_0_4_1/split_2/train/image/_Image_10L_2_3.png (deflated 7%)\n",
            "  adding: chase_db_320_320_dice_bce_0_4__hvr_0_4_1/split_2/train/image/_Image_14R_2_10.png (deflated 3%)\n",
            "  adding: chase_db_320_320_dice_bce_0_4__hvr_0_4_1/split_2/train/image/_Image_06R_3_8.png (deflated 4%)\n",
            "  adding: chase_db_320_320_dice_bce_0_4__hvr_0_4_1/split_2/train/image/_Image_06R_1_7.png (deflated 6%)\n",
            "  adding: chase_db_320_320_dice_bce_0_4__hvr_0_4_1/split_2/train/image/_Image_05R_0_9.png (deflated 2%)\n",
            "  adding: chase_db_320_320_dice_bce_0_4__hvr_0_4_1/split_2/train/image/_Image_05R_3_10.png (deflated 1%)\n",
            "  adding: chase_db_320_320_dice_bce_0_4__hvr_0_4_1/split_2/train/image/_Image_02R_0_4.png (deflated 5%)\n",
            "  adding: chase_db_320_320_dice_bce_0_4__hvr_0_4_1/split_2/train/image/_Image_14L_3_2.png (deflated 1%)\n",
            "  adding: chase_db_320_320_dice_bce_0_4__hvr_0_4_1/split_2/train/image/_Image_10R_1_5.png (deflated 2%)\n",
            "  adding: chase_db_320_320_dice_bce_0_4__hvr_0_4_1/split_2/train/image/_Image_14L_0_6.png (deflated 3%)\n",
            "  adding: chase_db_320_320_dice_bce_0_4__hvr_0_4_1/split_2/train/image/_Image_13R_3_2.png (deflated 4%)\n",
            "  adding: chase_db_320_320_dice_bce_0_4__hvr_0_4_1/split_2/train/image/_Image_09R_0_0.png (deflated 4%)\n",
            "  adding: chase_db_320_320_dice_bce_0_4__hvr_0_4_1/split_2/train/image/_Image_06R_0_9.png (deflated 2%)\n",
            "  adding: chase_db_320_320_dice_bce_0_4__hvr_0_4_1/split_2/train/image/_Image_01L_1_11.png (deflated 5%)\n",
            "  adding: chase_db_320_320_dice_bce_0_4__hvr_0_4_1/split_2/train/image/_Image_13R_1_10.png (deflated 6%)\n",
            "  adding: chase_db_320_320_dice_bce_0_4__hvr_0_4_1/split_2/train/image/_Image_04R_1_3.png (deflated 5%)\n",
            "  adding: chase_db_320_320_dice_bce_0_4__hvr_0_4_1/split_2/train/image/_Image_05R_3_2.png (deflated 1%)\n",
            "  adding: chase_db_320_320_dice_bce_0_4__hvr_0_4_1/split_2/train/image/_Image_09R_1_3.png (deflated 5%)\n",
            "  adding: chase_db_320_320_dice_bce_0_4__hvr_0_4_1/split_2/train/image/_Image_02L_2_0.png (deflated 6%)\n",
            "  adding: chase_db_320_320_dice_bce_0_4__hvr_0_4_1/split_2/train/image/_Image_05R_3_6.png (deflated 1%)\n",
            "  adding: chase_db_320_320_dice_bce_0_4__hvr_0_4_1/split_2/train/image/_Image_04R_3_11.png (deflated 1%)\n",
            "  adding: chase_db_320_320_dice_bce_0_4__hvr_0_4_1/split_2/train/image/_Image_14R_0_8.png (deflated 8%)\n",
            "  adding: chase_db_320_320_dice_bce_0_4__hvr_0_4_1/split_2/train/image/_Image_03L_0_2.png (deflated 2%)\n",
            "  adding: chase_db_320_320_dice_bce_0_4__hvr_0_4_1/split_2/train/image/_Image_09L_1_6.png (deflated 6%)\n",
            "  adding: chase_db_320_320_dice_bce_0_4__hvr_0_4_1/split_2/train/image/_Image_09L_3_8.png (deflated 3%)\n",
            "  adding: chase_db_320_320_dice_bce_0_4__hvr_0_4_1/split_2/train/image/_Image_14L_0_9.png (deflated 1%)\n",
            "  adding: chase_db_320_320_dice_bce_0_4__hvr_0_4_1/split_2/train/image/_Image_06L_1_8.png (deflated 7%)\n",
            "  adding: chase_db_320_320_dice_bce_0_4__hvr_0_4_1/split_2/train/image/_Image_02R_0_11.png (deflated 7%)\n",
            "  adding: chase_db_320_320_dice_bce_0_4__hvr_0_4_1/split_2/train/image/_Image_09R_1_9.png (deflated 2%)\n",
            "  adding: chase_db_320_320_dice_bce_0_4__hvr_0_4_1/split_2/train/image/_Image_06L_3_6.png (deflated 1%)\n",
            "  adding: chase_db_320_320_dice_bce_0_4__hvr_0_4_1/split_2/train/image/_Image_14R_2_5.png (deflated 2%)\n",
            "  adding: chase_db_320_320_dice_bce_0_4__hvr_0_4_1/split_2/train/image/_Image_01L_2_10.png (deflated 2%)\n",
            "  adding: chase_db_320_320_dice_bce_0_4__hvr_0_4_1/split_2/train/image/_Image_02R_1_3.png (deflated 6%)\n",
            "  adding: chase_db_320_320_dice_bce_0_4__hvr_0_4_1/split_2/train/image/_Image_02R_2_9.png (deflated 3%)\n",
            "  adding: chase_db_320_320_dice_bce_0_4__hvr_0_4_1/split_2/train/image/_Image_04L_0_0.png (deflated 5%)\n",
            "  adding: chase_db_320_320_dice_bce_0_4__hvr_0_4_1/split_2/train/image/_Image_06L_2_10.png (deflated 4%)\n",
            "  adding: chase_db_320_320_dice_bce_0_4__hvr_0_4_1/split_2/train/image/_Image_10R_3_3.png (deflated 3%)\n",
            "  adding: chase_db_320_320_dice_bce_0_4__hvr_0_4_1/split_2/train/image/_Image_04R_0_7.png (deflated 4%)\n",
            "  adding: chase_db_320_320_dice_bce_0_4__hvr_0_4_1/split_2/train/image/_Image_09L_2_9.png (deflated 4%)\n",
            "  adding: chase_db_320_320_dice_bce_0_4__hvr_0_4_1/split_2/train/image/_Image_06R_0_7.png (deflated 4%)\n",
            "  adding: chase_db_320_320_dice_bce_0_4__hvr_0_4_1/split_2/train/image/_Image_09R_3_11.png (deflated 1%)\n",
            "  adding: chase_db_320_320_dice_bce_0_4__hvr_0_4_1/split_2/train/image/_Image_05L_2_7.png (deflated 4%)\n",
            "  adding: chase_db_320_320_dice_bce_0_4__hvr_0_4_1/split_2/train/image/_Image_04L_0_10.png (deflated 2%)\n",
            "  adding: chase_db_320_320_dice_bce_0_4__hvr_0_4_1/split_2/train/image/_Image_07R_2_5.png (deflated 2%)\n",
            "  adding: chase_db_320_320_dice_bce_0_4__hvr_0_4_1/split_2/train/image/_Image_06R_2_11.png (deflated 6%)\n",
            "  adding: chase_db_320_320_dice_bce_0_4__hvr_0_4_1/split_2/train/image/_Image_01R_0_7.png (deflated 4%)\n",
            "  adding: chase_db_320_320_dice_bce_0_4__hvr_0_4_1/split_2/train/image/_Image_06L_2_4.png (deflated 3%)\n",
            "  adding: chase_db_320_320_dice_bce_0_4__hvr_0_4_1/split_2/train/image/_Image_08R_0_5.png (deflated 4%)\n",
            "  adding: chase_db_320_320_dice_bce_0_4__hvr_0_4_1/split_2/train/image/_Image_05L_1_11.png (deflated 4%)\n",
            "  adding: chase_db_320_320_dice_bce_0_4__hvr_0_4_1/split_2/train/image/_Image_02R_3_11.png (deflated 6%)\n",
            "  adding: chase_db_320_320_dice_bce_0_4__hvr_0_4_1/split_2/train/image/_Image_14R_3_10.png (deflated 1%)\n",
            "  adding: chase_db_320_320_dice_bce_0_4__hvr_0_4_1/split_2/train/image/_Image_03R_0_0.png (deflated 5%)\n",
            "  adding: chase_db_320_320_dice_bce_0_4__hvr_0_4_1/split_2/train/image/_Image_01R_0_4.png (deflated 6%)\n",
            "  adding: chase_db_320_320_dice_bce_0_4__hvr_0_4_1/split_2/train/image/_Image_13R_1_1.png (deflated 6%)\n",
            "  adding: chase_db_320_320_dice_bce_0_4__hvr_0_4_1/split_2/train/image/_Image_05R_2_6.png (deflated 2%)\n",
            "  adding: chase_db_320_320_dice_bce_0_4__hvr_0_4_1/split_2/train/image/_Image_03L_3_4.png (deflated 2%)\n",
            "  adding: chase_db_320_320_dice_bce_0_4__hvr_0_4_1/split_2/train/image/_Image_09R_2_4.png (deflated 3%)\n",
            "  adding: chase_db_320_320_dice_bce_0_4__hvr_0_4_1/split_2/train/image/_Image_03L_3_0.png (deflated 5%)\n",
            "  adding: chase_db_320_320_dice_bce_0_4__hvr_0_4_1/split_2/train/image/_Image_04L_3_9.png (deflated 1%)\n",
            "  adding: chase_db_320_320_dice_bce_0_4__hvr_0_4_1/split_2/train/image/_Image_09R_2_6.png (deflated 3%)\n",
            "  adding: chase_db_320_320_dice_bce_0_4__hvr_0_4_1/split_2/train/image/_Image_04R_3_10.png (deflated 1%)\n",
            "  adding: chase_db_320_320_dice_bce_0_4__hvr_0_4_1/split_2/train/image/_Image_02R_2_11.png (deflated 8%)\n",
            "  adding: chase_db_320_320_dice_bce_0_4__hvr_0_4_1/split_2/train/image/_Image_03L_1_3.png (deflated 5%)\n",
            "  adding: chase_db_320_320_dice_bce_0_4__hvr_0_4_1/split_2/train/image/_Image_07R_2_6.png (deflated 2%)\n",
            "  adding: chase_db_320_320_dice_bce_0_4__hvr_0_4_1/split_2/train/image/_Image_04L_3_7.png (deflated 3%)\n",
            "  adding: chase_db_320_320_dice_bce_0_4__hvr_0_4_1/split_2/train/image/_Image_04L_1_4.png (deflated 5%)\n",
            "  adding: chase_db_320_320_dice_bce_0_4__hvr_0_4_1/split_2/train/image/_Image_04R_2_4.png (deflated 4%)\n",
            "  adding: chase_db_320_320_dice_bce_0_4__hvr_0_4_1/split_2/train/image/_Image_04R_3_1.png (deflated 2%)\n",
            "  adding: chase_db_320_320_dice_bce_0_4__hvr_0_4_1/split_2/train/image/_Image_06R_1_6.png (deflated 3%)\n",
            "  adding: chase_db_320_320_dice_bce_0_4__hvr_0_4_1/split_2/train/image/_Image_02L_0_7.png (deflated 4%)\n",
            "  adding: chase_db_320_320_dice_bce_0_4__hvr_0_4_1/split_2/train/image/_Image_10R_0_2.png (deflated 3%)\n",
            "  adding: chase_db_320_320_dice_bce_0_4__hvr_0_4_1/split_2/train/image/_Image_02L_0_9.png (deflated 3%)\n",
            "  adding: chase_db_320_320_dice_bce_0_4__hvr_0_4_1/split_2/train/image/_Image_10L_3_11.png (deflated 3%)\n",
            "  adding: chase_db_320_320_dice_bce_0_4__hvr_0_4_1/split_2/train/image/_Image_09R_2_5.png (deflated 2%)\n",
            "  adding: chase_db_320_320_dice_bce_0_4__hvr_0_4_1/split_2/train/image/_Image_10R_1_11.png (deflated 5%)\n",
            "  adding: chase_db_320_320_dice_bce_0_4__hvr_0_4_1/split_2/train/image/_Image_13R_0_4.png (deflated 12%)\n",
            "  adding: chase_db_320_320_dice_bce_0_4__hvr_0_4_1/split_2/train/image/_Image_01L_0_11.png (deflated 8%)\n",
            "  adding: chase_db_320_320_dice_bce_0_4__hvr_0_4_1/split_2/train/image/_Image_05L_2_9.png (deflated 3%)\n",
            "  adding: chase_db_320_320_dice_bce_0_4__hvr_0_4_1/split_2/train/image/_Image_05L_1_4.png (deflated 3%)\n",
            "  adding: chase_db_320_320_dice_bce_0_4__hvr_0_4_1/split_2/train/image/_Image_13R_0_6.png (deflated 3%)\n",
            "  adding: chase_db_320_320_dice_bce_0_4__hvr_0_4_1/split_2/train/image/_Image_02L_2_9.png (deflated 5%)\n",
            "  adding: chase_db_320_320_dice_bce_0_4__hvr_0_4_1/split_2/train/image/_Image_06R_1_4.png (deflated 4%)\n",
            "  adding: chase_db_320_320_dice_bce_0_4__hvr_0_4_1/results_reconstructed/ (stored 0%)\n",
            "  adding: chase_db_320_320_dice_bce_0_4__hvr_0_4_1/augmented/ (stored 0%)\n",
            "  adding: chase_db_320_320_dice_bce_0_4__hvr_0_4_1/augmented/train/ (stored 0%)\n",
            "  adding: chase_db_320_320_dice_bce_0_4__hvr_0_4_1/augmented/train/mask/ (stored 0%)\n",
            "  adding: chase_db_320_320_dice_bce_0_4__hvr_0_4_1/augmented/train/mask/Image_09L_3.png (deflated 12%)\n",
            "  adding: chase_db_320_320_dice_bce_0_4__hvr_0_4_1/augmented/train/mask/Image_06L_0.png (deflated 13%)\n",
            "  adding: chase_db_320_320_dice_bce_0_4__hvr_0_4_1/augmented/train/mask/Image_08L_3.png (deflated 12%)\n",
            "  adding: chase_db_320_320_dice_bce_0_4__hvr_0_4_1/augmented/train/mask/Image_03R_2.png (deflated 13%)\n",
            "  adding: chase_db_320_320_dice_bce_0_4__hvr_0_4_1/augmented/train/mask/Image_09R_0.png (deflated 15%)\n",
            "  adding: chase_db_320_320_dice_bce_0_4__hvr_0_4_1/augmented/train/mask/Image_09L_2.png (deflated 14%)\n",
            "  adding: chase_db_320_320_dice_bce_0_4__hvr_0_4_1/augmented/train/mask/Image_10R_2.png (deflated 11%)\n",
            "  adding: chase_db_320_320_dice_bce_0_4__hvr_0_4_1/augmented/train/mask/Image_07R_2.png (deflated 10%)\n",
            "  adding: chase_db_320_320_dice_bce_0_4__hvr_0_4_1/augmented/train/mask/Image_01L_0.png (deflated 13%)\n",
            "  adding: chase_db_320_320_dice_bce_0_4__hvr_0_4_1/augmented/train/mask/Image_04L_2.png (deflated 14%)\n",
            "  adding: chase_db_320_320_dice_bce_0_4__hvr_0_4_1/augmented/train/mask/Image_08R_2.png (deflated 14%)\n",
            "  adding: chase_db_320_320_dice_bce_0_4__hvr_0_4_1/augmented/train/mask/Image_10L_1.png (deflated 13%)\n",
            "  adding: chase_db_320_320_dice_bce_0_4__hvr_0_4_1/augmented/train/mask/Image_10R_1.png (deflated 15%)\n",
            "  adding: chase_db_320_320_dice_bce_0_4__hvr_0_4_1/augmented/train/mask/Image_03L_3.png (deflated 11%)\n",
            "  adding: chase_db_320_320_dice_bce_0_4__hvr_0_4_1/augmented/train/mask/Image_06L_3.png (deflated 10%)\n",
            "  adding: chase_db_320_320_dice_bce_0_4__hvr_0_4_1/augmented/train/mask/Image_09L_0.png (deflated 12%)\n",
            "  adding: chase_db_320_320_dice_bce_0_4__hvr_0_4_1/augmented/train/mask/Image_13R_0.png (deflated 15%)\n",
            "  adding: chase_db_320_320_dice_bce_0_4__hvr_0_4_1/augmented/train/mask/Image_06R_1.png (deflated 14%)\n",
            "  adding: chase_db_320_320_dice_bce_0_4__hvr_0_4_1/augmented/train/mask/Image_01L_2.png (deflated 13%)\n",
            "  adding: chase_db_320_320_dice_bce_0_4__hvr_0_4_1/augmented/train/mask/Image_02L_0.png (deflated 13%)\n",
            "  adding: chase_db_320_320_dice_bce_0_4__hvr_0_4_1/augmented/train/mask/Image_07L_3.png (deflated 11%)\n",
            "  adding: chase_db_320_320_dice_bce_0_4__hvr_0_4_1/augmented/train/mask/Image_05R_2.png (deflated 12%)\n",
            "  adding: chase_db_320_320_dice_bce_0_4__hvr_0_4_1/augmented/train/mask/Image_08R_1.png (deflated 14%)\n",
            "  adding: chase_db_320_320_dice_bce_0_4__hvr_0_4_1/augmented/train/mask/Image_07L_1.png (deflated 11%)\n",
            "  adding: chase_db_320_320_dice_bce_0_4__hvr_0_4_1/augmented/train/mask/Image_04L_3.png (deflated 10%)\n",
            "  adding: chase_db_320_320_dice_bce_0_4__hvr_0_4_1/augmented/train/mask/Image_02L_3.png (deflated 10%)\n",
            "  adding: chase_db_320_320_dice_bce_0_4__hvr_0_4_1/augmented/train/mask/Image_09R_3.png (deflated 13%)\n",
            "  adding: chase_db_320_320_dice_bce_0_4__hvr_0_4_1/augmented/train/mask/Image_10R_0.png (deflated 14%)\n",
            "  adding: chase_db_320_320_dice_bce_0_4__hvr_0_4_1/augmented/train/mask/Image_06L_1.png (deflated 13%)\n",
            "  adding: chase_db_320_320_dice_bce_0_4__hvr_0_4_1/augmented/train/mask/Image_05R_0.png (deflated 13%)\n",
            "  adding: chase_db_320_320_dice_bce_0_4__hvr_0_4_1/augmented/train/mask/Image_14R_2.png (deflated 16%)\n",
            "  adding: chase_db_320_320_dice_bce_0_4__hvr_0_4_1/augmented/train/mask/Image_09R_1.png (deflated 16%)\n",
            "  adding: chase_db_320_320_dice_bce_0_4__hvr_0_4_1/augmented/train/mask/Image_08L_2.png (deflated 15%)\n",
            "  adding: chase_db_320_320_dice_bce_0_4__hvr_0_4_1/augmented/train/mask/Image_06R_3.png (deflated 10%)\n",
            "  adding: chase_db_320_320_dice_bce_0_4__hvr_0_4_1/augmented/train/mask/Image_14R_1.png (deflated 16%)\n",
            "  adding: chase_db_320_320_dice_bce_0_4__hvr_0_4_1/augmented/train/mask/Image_03R_0.png (deflated 12%)\n",
            "  adding: chase_db_320_320_dice_bce_0_4__hvr_0_4_1/augmented/train/mask/Image_13R_1.png (deflated 15%)\n",
            "  adding: chase_db_320_320_dice_bce_0_4__hvr_0_4_1/augmented/train/mask/Image_06L_2.png (deflated 13%)\n",
            "  adding: chase_db_320_320_dice_bce_0_4__hvr_0_4_1/augmented/train/mask/Image_01R_0.png (deflated 12%)\n",
            "  adding: chase_db_320_320_dice_bce_0_4__hvr_0_4_1/augmented/train/mask/Image_01L_3.png (deflated 10%)\n",
            "  adding: chase_db_320_320_dice_bce_0_4__hvr_0_4_1/augmented/train/mask/Image_02L_2.png (deflated 12%)\n",
            "  adding: chase_db_320_320_dice_bce_0_4__hvr_0_4_1/augmented/train/mask/Image_13R_2.png (deflated 13%)\n",
            "  adding: chase_db_320_320_dice_bce_0_4__hvr_0_4_1/augmented/train/mask/Image_05R_3.png (deflated 9%)\n",
            "  adding: chase_db_320_320_dice_bce_0_4__hvr_0_4_1/augmented/train/mask/Image_14R_0.png (deflated 16%)\n",
            "  adding: chase_db_320_320_dice_bce_0_4__hvr_0_4_1/augmented/train/mask/Image_08L_0.png (deflated 13%)\n",
            "  adding: chase_db_320_320_dice_bce_0_4__hvr_0_4_1/augmented/train/mask/Image_07L_0.png (deflated 11%)\n",
            "  adding: chase_db_320_320_dice_bce_0_4__hvr_0_4_1/augmented/train/mask/Image_01R_3.png (deflated 9%)\n",
            "  adding: chase_db_320_320_dice_bce_0_4__hvr_0_4_1/augmented/train/mask/Image_01L_1.png (deflated 13%)\n",
            "  adding: chase_db_320_320_dice_bce_0_4__hvr_0_4_1/augmented/train/mask/Image_10L_2.png (deflated 13%)\n",
            "  adding: chase_db_320_320_dice_bce_0_4__hvr_0_4_1/augmented/train/mask/Image_05L_1.png (deflated 12%)\n",
            "  adding: chase_db_320_320_dice_bce_0_4__hvr_0_4_1/augmented/train/mask/Image_02R_1.png (deflated 11%)\n",
            "  adding: chase_db_320_320_dice_bce_0_4__hvr_0_4_1/augmented/train/mask/Image_10L_3.png (deflated 11%)\n",
            "  adding: chase_db_320_320_dice_bce_0_4__hvr_0_4_1/augmented/train/mask/Image_04L_1.png (deflated 15%)\n",
            "  adding: chase_db_320_320_dice_bce_0_4__hvr_0_4_1/augmented/train/mask/Image_04R_2.png (deflated 15%)\n",
            "  adding: chase_db_320_320_dice_bce_0_4__hvr_0_4_1/augmented/train/mask/Image_04R_1.png (deflated 13%)\n",
            "  adding: chase_db_320_320_dice_bce_0_4__hvr_0_4_1/augmented/train/mask/Image_05R_1.png (deflated 12%)\n",
            "  adding: chase_db_320_320_dice_bce_0_4__hvr_0_4_1/augmented/train/mask/Image_05L_3.png (deflated 12%)\n",
            "  adding: chase_db_320_320_dice_bce_0_4__hvr_0_4_1/augmented/train/mask/Image_01R_2.png (deflated 13%)\n",
            "  adding: chase_db_320_320_dice_bce_0_4__hvr_0_4_1/augmented/train/mask/Image_03R_3.png (deflated 13%)\n",
            "  adding: chase_db_320_320_dice_bce_0_4__hvr_0_4_1/augmented/train/mask/Image_14R_3.png (deflated 11%)\n",
            "  adding: chase_db_320_320_dice_bce_0_4__hvr_0_4_1/augmented/train/mask/Image_07L_2.png (deflated 12%)\n",
            "  adding: chase_db_320_320_dice_bce_0_4__hvr_0_4_1/augmented/train/mask/Image_02R_0.png (deflated 11%)\n",
            "  adding: chase_db_320_320_dice_bce_0_4__hvr_0_4_1/augmented/train/mask/Image_14L_2.png (deflated 13%)\n",
            "  adding: chase_db_320_320_dice_bce_0_4__hvr_0_4_1/augmented/train/mask/Image_02L_1.png (deflated 12%)\n",
            "  adding: chase_db_320_320_dice_bce_0_4__hvr_0_4_1/augmented/train/mask/Image_02R_2.png (deflated 11%)\n",
            "  adding: chase_db_320_320_dice_bce_0_4__hvr_0_4_1/augmented/train/mask/Image_01R_1.png (deflated 12%)\n",
            "  adding: chase_db_320_320_dice_bce_0_4__hvr_0_4_1/augmented/train/mask/Image_03L_2.png (deflated 11%)\n",
            "  adding: chase_db_320_320_dice_bce_0_4__hvr_0_4_1/augmented/train/mask/Image_10R_3.png (deflated 11%)\n",
            "  adding: chase_db_320_320_dice_bce_0_4__hvr_0_4_1/augmented/train/mask/Image_04R_3.png (deflated 9%)\n",
            "  adding: chase_db_320_320_dice_bce_0_4__hvr_0_4_1/augmented/train/mask/Image_14L_3.png (deflated 13%)\n",
            "  adding: chase_db_320_320_dice_bce_0_4__hvr_0_4_1/augmented/train/mask/Image_02R_3.png (deflated 11%)\n",
            "  adding: chase_db_320_320_dice_bce_0_4__hvr_0_4_1/augmented/train/mask/Image_14L_1.png (deflated 13%)\n",
            "  adding: chase_db_320_320_dice_bce_0_4__hvr_0_4_1/augmented/train/mask/Image_05L_0.png (deflated 12%)\n",
            "  adding: chase_db_320_320_dice_bce_0_4__hvr_0_4_1/augmented/train/mask/Image_03L_1.png (deflated 11%)\n",
            "  adding: chase_db_320_320_dice_bce_0_4__hvr_0_4_1/augmented/train/mask/Image_05L_2.png (deflated 12%)\n",
            "  adding: chase_db_320_320_dice_bce_0_4__hvr_0_4_1/augmented/train/mask/Image_10L_0.png (deflated 14%)\n",
            "  adding: chase_db_320_320_dice_bce_0_4__hvr_0_4_1/augmented/train/mask/Image_04R_0.png (deflated 12%)\n",
            "  adding: chase_db_320_320_dice_bce_0_4__hvr_0_4_1/augmented/train/mask/Image_08R_3.png (deflated 12%)\n",
            "  adding: chase_db_320_320_dice_bce_0_4__hvr_0_4_1/augmented/train/mask/Image_07R_3.png (deflated 10%)\n",
            "  adding: chase_db_320_320_dice_bce_0_4__hvr_0_4_1/augmented/train/mask/Image_04L_0.png (deflated 15%)\n",
            "  adding: chase_db_320_320_dice_bce_0_4__hvr_0_4_1/augmented/train/mask/Image_09R_2.png (deflated 15%)\n",
            "  adding: chase_db_320_320_dice_bce_0_4__hvr_0_4_1/augmented/train/mask/Image_07R_0.png (deflated 11%)\n",
            "  adding: chase_db_320_320_dice_bce_0_4__hvr_0_4_1/augmented/train/mask/Image_14L_0.png (deflated 13%)\n",
            "  adding: chase_db_320_320_dice_bce_0_4__hvr_0_4_1/augmented/train/mask/Image_08L_1.png (deflated 13%)\n",
            "  adding: chase_db_320_320_dice_bce_0_4__hvr_0_4_1/augmented/train/mask/Image_03R_1.png (deflated 12%)\n",
            "  adding: chase_db_320_320_dice_bce_0_4__hvr_0_4_1/augmented/train/mask/Image_07R_1.png (deflated 10%)\n",
            "  adding: chase_db_320_320_dice_bce_0_4__hvr_0_4_1/augmented/train/mask/Image_08R_0.png (deflated 14%)\n",
            "  adding: chase_db_320_320_dice_bce_0_4__hvr_0_4_1/augmented/train/mask/Image_09L_1.png (deflated 12%)\n",
            "  adding: chase_db_320_320_dice_bce_0_4__hvr_0_4_1/augmented/train/mask/Image_13R_3.png (deflated 15%)\n",
            "  adding: chase_db_320_320_dice_bce_0_4__hvr_0_4_1/augmented/train/mask/Image_06R_0.png (deflated 15%)\n",
            "  adding: chase_db_320_320_dice_bce_0_4__hvr_0_4_1/augmented/train/mask/Image_06R_2.png (deflated 12%)\n",
            "  adding: chase_db_320_320_dice_bce_0_4__hvr_0_4_1/augmented/train/mask/Image_03L_0.png (deflated 11%)\n",
            "  adding: chase_db_320_320_dice_bce_0_4__hvr_0_4_1/augmented/train/image/ (stored 0%)\n",
            "  adding: chase_db_320_320_dice_bce_0_4__hvr_0_4_1/augmented/train/image/Image_09L_3.png (deflated 1%)\n",
            "  adding: chase_db_320_320_dice_bce_0_4__hvr_0_4_1/augmented/train/image/Image_06L_0.png (deflated 3%)\n",
            "  adding: chase_db_320_320_dice_bce_0_4__hvr_0_4_1/augmented/train/image/Image_08L_3.png (deflated 2%)\n",
            "  adding: chase_db_320_320_dice_bce_0_4__hvr_0_4_1/augmented/train/image/Image_03R_2.png (deflated 2%)\n",
            "  adding: chase_db_320_320_dice_bce_0_4__hvr_0_4_1/augmented/train/image/Image_09R_0.png (deflated 2%)\n",
            "  adding: chase_db_320_320_dice_bce_0_4__hvr_0_4_1/augmented/train/image/Image_09L_2.png (deflated 3%)\n",
            "  adding: chase_db_320_320_dice_bce_0_4__hvr_0_4_1/augmented/train/image/Image_10R_2.png (deflated 2%)\n",
            "  adding: chase_db_320_320_dice_bce_0_4__hvr_0_4_1/augmented/train/image/Image_07R_2.png (deflated 2%)\n",
            "  adding: chase_db_320_320_dice_bce_0_4__hvr_0_4_1/augmented/train/image/Image_01L_0.png (deflated 2%)\n",
            "  adding: chase_db_320_320_dice_bce_0_4__hvr_0_4_1/augmented/train/image/Image_04L_2.png (deflated 3%)\n",
            "  adding: chase_db_320_320_dice_bce_0_4__hvr_0_4_1/augmented/train/image/Image_08R_2.png (deflated 4%)\n",
            "  adding: chase_db_320_320_dice_bce_0_4__hvr_0_4_1/augmented/train/image/Image_10L_1.png (deflated 3%)\n",
            "  adding: chase_db_320_320_dice_bce_0_4__hvr_0_4_1/augmented/train/image/Image_10R_1.png (deflated 2%)\n",
            "  adding: chase_db_320_320_dice_bce_0_4__hvr_0_4_1/augmented/train/image/Image_03L_3.png (deflated 1%)\n",
            "  adding: chase_db_320_320_dice_bce_0_4__hvr_0_4_1/augmented/train/image/Image_06L_3.png (deflated 2%)\n",
            "  adding: chase_db_320_320_dice_bce_0_4__hvr_0_4_1/augmented/train/image/Image_09L_0.png (deflated 3%)\n",
            "  adding: chase_db_320_320_dice_bce_0_4__hvr_0_4_1/augmented/train/image/Image_13R_0.png (deflated 6%)\n",
            "  adding: chase_db_320_320_dice_bce_0_4__hvr_0_4_1/augmented/train/image/Image_06R_1.png (deflated 3%)\n",
            "  adding: chase_db_320_320_dice_bce_0_4__hvr_0_4_1/augmented/train/image/Image_01L_2.png (deflated 2%)\n",
            "  adding: chase_db_320_320_dice_bce_0_4__hvr_0_4_1/augmented/train/image/Image_02L_0.png (deflated 3%)\n",
            "  adding: chase_db_320_320_dice_bce_0_4__hvr_0_4_1/augmented/train/image/Image_07L_3.png (deflated 2%)\n",
            "  adding: chase_db_320_320_dice_bce_0_4__hvr_0_4_1/augmented/train/image/Image_05R_2.png (deflated 2%)\n",
            "  adding: chase_db_320_320_dice_bce_0_4__hvr_0_4_1/augmented/train/image/Image_08R_1.png (deflated 4%)\n",
            "  adding: chase_db_320_320_dice_bce_0_4__hvr_0_4_1/augmented/train/image/Image_07L_1.png (deflated 3%)\n",
            "  adding: chase_db_320_320_dice_bce_0_4__hvr_0_4_1/augmented/train/image/Image_04L_3.png (deflated 1%)\n",
            "  adding: chase_db_320_320_dice_bce_0_4__hvr_0_4_1/augmented/train/image/Image_02L_3.png (deflated 2%)\n",
            "  adding: chase_db_320_320_dice_bce_0_4__hvr_0_4_1/augmented/train/image/Image_09R_3.png (deflated 1%)\n",
            "  adding: chase_db_320_320_dice_bce_0_4__hvr_0_4_1/augmented/train/image/Image_10R_0.png (deflated 3%)\n",
            "  adding: chase_db_320_320_dice_bce_0_4__hvr_0_4_1/augmented/train/image/Image_06L_1.png (deflated 3%)\n",
            "  adding: chase_db_320_320_dice_bce_0_4__hvr_0_4_1/augmented/train/image/Image_05R_0.png (deflated 2%)\n",
            "  adding: chase_db_320_320_dice_bce_0_4__hvr_0_4_1/augmented/train/image/Image_14R_2.png (deflated 3%)\n",
            "  adding: chase_db_320_320_dice_bce_0_4__hvr_0_4_1/augmented/train/image/Image_09R_1.png (deflated 3%)\n",
            "  adding: chase_db_320_320_dice_bce_0_4__hvr_0_4_1/augmented/train/image/Image_08L_2.png (deflated 3%)\n",
            "  adding: chase_db_320_320_dice_bce_0_4__hvr_0_4_1/augmented/train/image/Image_06R_3.png (deflated 2%)\n",
            "  adding: chase_db_320_320_dice_bce_0_4__hvr_0_4_1/augmented/train/image/Image_14R_1.png (deflated 3%)\n",
            "  adding: chase_db_320_320_dice_bce_0_4__hvr_0_4_1/augmented/train/image/Image_03R_0.png (deflated 2%)\n",
            "  adding: chase_db_320_320_dice_bce_0_4__hvr_0_4_1/augmented/train/image/Image_13R_1.png (deflated 6%)\n",
            "  adding: chase_db_320_320_dice_bce_0_4__hvr_0_4_1/augmented/train/image/Image_06L_2.png (deflated 3%)\n",
            "  adding: chase_db_320_320_dice_bce_0_4__hvr_0_4_1/augmented/train/image/Image_01R_0.png (deflated 2%)\n",
            "  adding: chase_db_320_320_dice_bce_0_4__hvr_0_4_1/augmented/train/image/Image_01L_3.png (deflated 1%)\n",
            "  adding: chase_db_320_320_dice_bce_0_4__hvr_0_4_1/augmented/train/image/Image_02L_2.png (deflated 3%)\n",
            "  adding: chase_db_320_320_dice_bce_0_4__hvr_0_4_1/augmented/train/image/Image_13R_2.png (deflated 6%)\n",
            "  adding: chase_db_320_320_dice_bce_0_4__hvr_0_4_1/augmented/train/image/Image_05R_3.png (deflated 1%)\n",
            "  adding: chase_db_320_320_dice_bce_0_4__hvr_0_4_1/augmented/train/image/Image_14R_0.png (deflated 3%)\n",
            "  adding: chase_db_320_320_dice_bce_0_4__hvr_0_4_1/augmented/train/image/Image_08L_0.png (deflated 3%)\n",
            "  adding: chase_db_320_320_dice_bce_0_4__hvr_0_4_1/augmented/train/image/Image_07L_0.png (deflated 2%)\n",
            "  adding: chase_db_320_320_dice_bce_0_4__hvr_0_4_1/augmented/train/image/Image_01R_3.png (deflated 1%)\n",
            "  adding: chase_db_320_320_dice_bce_0_4__hvr_0_4_1/augmented/train/image/Image_01L_1.png (deflated 2%)\n",
            "  adding: chase_db_320_320_dice_bce_0_4__hvr_0_4_1/augmented/train/image/Image_10L_2.png (deflated 3%)\n",
            "  adding: chase_db_320_320_dice_bce_0_4__hvr_0_4_1/augmented/train/image/Image_05L_1.png (deflated 2%)\n",
            "  adding: chase_db_320_320_dice_bce_0_4__hvr_0_4_1/augmented/train/image/Image_02R_1.png (deflated 3%)\n",
            "  adding: chase_db_320_320_dice_bce_0_4__hvr_0_4_1/augmented/train/image/Image_10L_3.png (deflated 2%)\n",
            "  adding: chase_db_320_320_dice_bce_0_4__hvr_0_4_1/augmented/train/image/Image_04L_1.png (deflated 3%)\n",
            "  adding: chase_db_320_320_dice_bce_0_4__hvr_0_4_1/augmented/train/image/Image_04R_2.png (deflated 2%)\n",
            "  adding: chase_db_320_320_dice_bce_0_4__hvr_0_4_1/augmented/train/image/Image_04R_1.png (deflated 2%)\n",
            "  adding: chase_db_320_320_dice_bce_0_4__hvr_0_4_1/augmented/train/image/Image_05R_1.png (deflated 2%)\n",
            "  adding: chase_db_320_320_dice_bce_0_4__hvr_0_4_1/augmented/train/image/Image_05L_3.png (deflated 1%)\n",
            "  adding: chase_db_320_320_dice_bce_0_4__hvr_0_4_1/augmented/train/image/Image_01R_2.png (deflated 2%)\n",
            "  adding: chase_db_320_320_dice_bce_0_4__hvr_0_4_1/augmented/train/image/Image_03R_3.png (deflated 1%)\n",
            "  adding: chase_db_320_320_dice_bce_0_4__hvr_0_4_1/augmented/train/image/Image_14R_3.png (deflated 1%)\n",
            "  adding: chase_db_320_320_dice_bce_0_4__hvr_0_4_1/augmented/train/image/Image_07L_2.png (deflated 3%)\n",
            "  adding: chase_db_320_320_dice_bce_0_4__hvr_0_4_1/augmented/train/image/Image_02R_0.png (deflated 3%)\n",
            "  adding: chase_db_320_320_dice_bce_0_4__hvr_0_4_1/augmented/train/image/Image_14L_2.png (deflated 2%)\n",
            "  adding: chase_db_320_320_dice_bce_0_4__hvr_0_4_1/augmented/train/image/Image_02L_1.png (deflated 3%)\n",
            "  adding: chase_db_320_320_dice_bce_0_4__hvr_0_4_1/augmented/train/image/Image_02R_2.png (deflated 3%)\n",
            "  adding: chase_db_320_320_dice_bce_0_4__hvr_0_4_1/augmented/train/image/Image_01R_1.png (deflated 2%)\n",
            "  adding: chase_db_320_320_dice_bce_0_4__hvr_0_4_1/augmented/train/image/Image_03L_2.png (deflated 2%)\n",
            "  adding: chase_db_320_320_dice_bce_0_4__hvr_0_4_1/augmented/train/image/Image_10R_3.png (deflated 1%)\n",
            "  adding: chase_db_320_320_dice_bce_0_4__hvr_0_4_1/augmented/train/image/Image_04R_3.png (deflated 1%)\n",
            "  adding: chase_db_320_320_dice_bce_0_4__hvr_0_4_1/augmented/train/image/Image_14L_3.png (deflated 1%)\n",
            "  adding: chase_db_320_320_dice_bce_0_4__hvr_0_4_1/augmented/train/image/Image_02R_3.png (deflated 2%)\n",
            "  adding: chase_db_320_320_dice_bce_0_4__hvr_0_4_1/augmented/train/image/Image_14L_1.png (deflated 2%)\n",
            "  adding: chase_db_320_320_dice_bce_0_4__hvr_0_4_1/augmented/train/image/Image_05L_0.png (deflated 2%)\n",
            "  adding: chase_db_320_320_dice_bce_0_4__hvr_0_4_1/augmented/train/image/Image_03L_1.png (deflated 2%)\n",
            "  adding: chase_db_320_320_dice_bce_0_4__hvr_0_4_1/augmented/train/image/Image_05L_2.png (deflated 2%)\n",
            "  adding: chase_db_320_320_dice_bce_0_4__hvr_0_4_1/augmented/train/image/Image_10L_0.png (deflated 3%)\n",
            "  adding: chase_db_320_320_dice_bce_0_4__hvr_0_4_1/augmented/train/image/Image_04R_0.png (deflated 2%)\n",
            "  adding: chase_db_320_320_dice_bce_0_4__hvr_0_4_1/augmented/train/image/Image_08R_3.png (deflated 2%)\n",
            "  adding: chase_db_320_320_dice_bce_0_4__hvr_0_4_1/augmented/train/image/Image_07R_3.png (deflated 1%)\n",
            "  adding: chase_db_320_320_dice_bce_0_4__hvr_0_4_1/augmented/train/image/Image_04L_0.png (deflated 3%)\n",
            "  adding: chase_db_320_320_dice_bce_0_4__hvr_0_4_1/augmented/train/image/Image_09R_2.png (deflated 3%)\n",
            "  adding: chase_db_320_320_dice_bce_0_4__hvr_0_4_1/augmented/train/image/Image_07R_0.png (deflated 2%)\n",
            "  adding: chase_db_320_320_dice_bce_0_4__hvr_0_4_1/augmented/train/image/Image_14L_0.png (deflated 2%)\n",
            "  adding: chase_db_320_320_dice_bce_0_4__hvr_0_4_1/augmented/train/image/Image_08L_1.png (deflated 3%)\n",
            "  adding: chase_db_320_320_dice_bce_0_4__hvr_0_4_1/augmented/train/image/Image_03R_1.png (deflated 2%)\n",
            "  adding: chase_db_320_320_dice_bce_0_4__hvr_0_4_1/augmented/train/image/Image_07R_1.png (deflated 2%)\n",
            "  adding: chase_db_320_320_dice_bce_0_4__hvr_0_4_1/augmented/train/image/Image_08R_0.png (deflated 4%)\n",
            "  adding: chase_db_320_320_dice_bce_0_4__hvr_0_4_1/augmented/train/image/Image_09L_1.png (deflated 3%)\n",
            "  adding: chase_db_320_320_dice_bce_0_4__hvr_0_4_1/augmented/train/image/Image_13R_3.png (deflated 4%)\n",
            "  adding: chase_db_320_320_dice_bce_0_4__hvr_0_4_1/augmented/train/image/Image_06R_0.png (deflated 3%)\n",
            "  adding: chase_db_320_320_dice_bce_0_4__hvr_0_4_1/augmented/train/image/Image_06R_2.png (deflated 3%)\n",
            "  adding: chase_db_320_320_dice_bce_0_4__hvr_0_4_1/augmented/train/image/Image_03L_0.png (deflated 2%)\n",
            "  adding: chase_db_320_320_dice_bce_0_4__hvr_0_4_1/results/ (stored 0%)\n",
            "  adding: chase_db_320_320_dice_bce_0_4__hvr_0_4_1/results/_Image_11R_3.png (deflated 21%)\n",
            "  adding: chase_db_320_320_dice_bce_0_4__hvr_0_4_1/results/_Image_12R_1.png (deflated 5%)\n",
            "  adding: chase_db_320_320_dice_bce_0_4__hvr_0_4_1/results/_Image_11L_6.png (deflated 4%)\n",
            "  adding: chase_db_320_320_dice_bce_0_4__hvr_0_4_1/results/_Image_13L_9.png (deflated 10%)\n",
            "  adding: chase_db_320_320_dice_bce_0_4__hvr_0_4_1/results/_Image_11R_9.png (deflated 4%)\n",
            "  adding: chase_db_320_320_dice_bce_0_4__hvr_0_4_1/results/_Image_12L_9.png (deflated 4%)\n",
            "  adding: chase_db_320_320_dice_bce_0_4__hvr_0_4_1/results/score_full_0_5.csv (deflated 63%)\n",
            "  adding: chase_db_320_320_dice_bce_0_4__hvr_0_4_1/results/_Image_11R_0.png (deflated 19%)\n",
            "  adding: chase_db_320_320_dice_bce_0_4__hvr_0_4_1/results/_Image_11L_2.png (deflated 5%)\n",
            "  adding: chase_db_320_320_dice_bce_0_4__hvr_0_4_1/results/_Image_13L_3.png (deflated 28%)\n",
            "  adding: chase_db_320_320_dice_bce_0_4__hvr_0_4_1/results/_Image_11R_8.png (deflated 18%)\n",
            "  adding: chase_db_320_320_dice_bce_0_4__hvr_0_4_1/results/_Image_12L_7.png (deflated 9%)\n",
            "  adding: chase_db_320_320_dice_bce_0_4__hvr_0_4_1/results/_Image_11L_1.png (deflated 6%)\n",
            "  adding: chase_db_320_320_dice_bce_0_4__hvr_0_4_1/results/_Image_13L_8.png (deflated 21%)\n",
            "  adding: chase_db_320_320_dice_bce_0_4__hvr_0_4_1/results/score_full_0_4.csv (deflated 64%)\n",
            "  adding: chase_db_320_320_dice_bce_0_4__hvr_0_4_1/results/_Image_12R_2.png (deflated 6%)\n",
            "  adding: chase_db_320_320_dice_bce_0_4__hvr_0_4_1/results/_Image_12L_3.png (deflated 18%)\n",
            "  adding: chase_db_320_320_dice_bce_0_4__hvr_0_4_1/results/_Image_12R_4.png (deflated 8%)\n",
            "  adding: chase_db_320_320_dice_bce_0_4__hvr_0_4_1/results/_Image_12L_11.png (deflated 17%)\n",
            "  adding: chase_db_320_320_dice_bce_0_4__hvr_0_4_1/results/score.csv (deflated 63%)\n",
            "  adding: chase_db_320_320_dice_bce_0_4__hvr_0_4_1/results/_Image_13L_0.png (deflated 19%)\n",
            "  adding: chase_db_320_320_dice_bce_0_4__hvr_0_4_1/results/_Image_11R_1.png (deflated 5%)\n",
            "  adding: chase_db_320_320_dice_bce_0_4__hvr_0_4_1/results/_Image_12R_7.png (deflated 7%)\n",
            "  adding: chase_db_320_320_dice_bce_0_4__hvr_0_4_1/results/_Image_13L_6.png (deflated 5%)\n",
            "  adding: chase_db_320_320_dice_bce_0_4__hvr_0_4_1/results/_Image_13L_4.png (deflated 12%)\n",
            "  adding: chase_db_320_320_dice_bce_0_4__hvr_0_4_1/results/_Image_13L_10.png (deflated 9%)\n",
            "  adding: chase_db_320_320_dice_bce_0_4__hvr_0_4_1/results/_Image_12L_1.png (deflated 7%)\n",
            "  adding: chase_db_320_320_dice_bce_0_4__hvr_0_4_1/results/_Image_12R_8.png (deflated 18%)\n",
            "  adding: chase_db_320_320_dice_bce_0_4__hvr_0_4_1/results/_Image_11R_10.png (deflated 5%)\n",
            "  adding: chase_db_320_320_dice_bce_0_4__hvr_0_4_1/results/_Image_12L_8.png (deflated 18%)\n",
            "  adding: chase_db_320_320_dice_bce_0_4__hvr_0_4_1/results/_Image_12L_5.png (deflated 5%)\n",
            "  adding: chase_db_320_320_dice_bce_0_4__hvr_0_4_1/results/_Image_13L_5.png (deflated 6%)\n",
            "  adding: chase_db_320_320_dice_bce_0_4__hvr_0_4_1/results/_Image_11L_9.png (deflated 5%)\n",
            "  adding: chase_db_320_320_dice_bce_0_4__hvr_0_4_1/results/_Image_11L_4.png (deflated 9%)\n",
            "  adding: chase_db_320_320_dice_bce_0_4__hvr_0_4_1/results/_Image_11L_7.png (deflated 9%)\n",
            "  adding: chase_db_320_320_dice_bce_0_4__hvr_0_4_1/results/score_full_0_6.csv (deflated 64%)\n",
            "  adding: chase_db_320_320_dice_bce_0_4__hvr_0_4_1/results/_Image_12L_10.png (deflated 4%)\n",
            "  adding: chase_db_320_320_dice_bce_0_4__hvr_0_4_1/results/_Image_11L_0.png (deflated 18%)\n",
            "  adding: chase_db_320_320_dice_bce_0_4__hvr_0_4_1/results/_Image_11L_8.png (deflated 16%)\n",
            "  adding: chase_db_320_320_dice_bce_0_4__hvr_0_4_1/results/_Image_12R_11.png (deflated 18%)\n",
            "  adding: chase_db_320_320_dice_bce_0_4__hvr_0_4_1/results/_Image_12L_4.png (deflated 9%)\n",
            "  adding: chase_db_320_320_dice_bce_0_4__hvr_0_4_1/results/_Image_11L_5.png (deflated 5%)\n",
            "  adding: chase_db_320_320_dice_bce_0_4__hvr_0_4_1/results/_Image_11R_11.png (deflated 19%)\n",
            "  adding: chase_db_320_320_dice_bce_0_4__hvr_0_4_1/results/_Image_11R_2.png (deflated 7%)\n",
            "  adding: chase_db_320_320_dice_bce_0_4__hvr_0_4_1/results/_Image_11L_10.png (deflated 4%)\n",
            "  adding: chase_db_320_320_dice_bce_0_4__hvr_0_4_1/results/_Image_12R_10.png (deflated 4%)\n",
            "  adding: chase_db_320_320_dice_bce_0_4__hvr_0_4_1/results/_Image_12R_5.png (deflated 4%)\n",
            "  adding: chase_db_320_320_dice_bce_0_4__hvr_0_4_1/results/_Image_12R_0.png (deflated 15%)\n",
            "  adding: chase_db_320_320_dice_bce_0_4__hvr_0_4_1/results/_Image_11R_7.png (deflated 9%)\n",
            "  adding: chase_db_320_320_dice_bce_0_4__hvr_0_4_1/results/_Image_12R_9.png (deflated 4%)\n",
            "  adding: chase_db_320_320_dice_bce_0_4__hvr_0_4_1/results/_Image_13L_2.png (deflated 8%)\n",
            "  adding: chase_db_320_320_dice_bce_0_4__hvr_0_4_1/results/_Image_11L_3.png (deflated 21%)\n",
            "  adding: chase_db_320_320_dice_bce_0_4__hvr_0_4_1/results/_Image_12R_6.png (deflated 4%)\n",
            "  adding: chase_db_320_320_dice_bce_0_4__hvr_0_4_1/results/_Image_12L_6.png (deflated 4%)\n",
            "  adding: chase_db_320_320_dice_bce_0_4__hvr_0_4_1/results/_Image_12R_3.png (deflated 17%)\n",
            "  adding: chase_db_320_320_dice_bce_0_4__hvr_0_4_1/results/_Image_13L_11.png (deflated 25%)\n",
            "  adding: chase_db_320_320_dice_bce_0_4__hvr_0_4_1/results/_Image_13L_1.png (deflated 9%)\n",
            "  adding: chase_db_320_320_dice_bce_0_4__hvr_0_4_1/results/_Image_11R_4.png (deflated 8%)\n",
            "  adding: chase_db_320_320_dice_bce_0_4__hvr_0_4_1/results/_Image_12L_0.png (deflated 24%)\n",
            "  adding: chase_db_320_320_dice_bce_0_4__hvr_0_4_1/results/_Image_12L_2.png (deflated 6%)\n",
            "  adding: chase_db_320_320_dice_bce_0_4__hvr_0_4_1/results/_Image_11R_6.png (deflated 5%)\n",
            "  adding: chase_db_320_320_dice_bce_0_4__hvr_0_4_1/results/_Image_13L_7.png (deflated 18%)\n",
            "  adding: chase_db_320_320_dice_bce_0_4__hvr_0_4_1/results/_Image_11R_5.png (deflated 4%)\n",
            "  adding: chase_db_320_320_dice_bce_0_4__hvr_0_4_1/results/_Image_11L_11.png (deflated 21%)\n",
            "  adding: chase_db_320_320_dice_bce_0_4__hvr_0_4_1/trained_models/ (stored 0%)\n",
            "  adding: chase_db_320_320_dice_bce_0_4__hvr_0_4_1/trained_models/data.csv (deflated 51%)\n",
            "  adding: chase_db_320_320_dice_bce_0_4__hvr_0_4_1/trained_models/model.h5 (deflated 8%)\n",
            "  adding: chase_db_320_320_dice_bce_0_4__hvr_0_4_1/predictions/ (stored 0%)\n",
            "  adding: chase_db_320_320_dice_bce_0_4__hvr_0_4_1/predictions/_Image_11R_3.png (deflated 86%)\n",
            "  adding: chase_db_320_320_dice_bce_0_4__hvr_0_4_1/predictions/_Image_12R_1.png (deflated 18%)\n",
            "  adding: chase_db_320_320_dice_bce_0_4__hvr_0_4_1/predictions/_Image_11L_6.png (deflated 7%)\n",
            "  adding: chase_db_320_320_dice_bce_0_4__hvr_0_4_1/predictions/_Image_13L_9.png (deflated 22%)\n",
            "  adding: chase_db_320_320_dice_bce_0_4__hvr_0_4_1/predictions/_Image_11R_9.png (deflated 10%)\n",
            "  adding: chase_db_320_320_dice_bce_0_4__hvr_0_4_1/predictions/_Image_12L_9.png (deflated 15%)\n",
            "  adding: chase_db_320_320_dice_bce_0_4__hvr_0_4_1/predictions/_Image_11R_0.png (deflated 86%)\n",
            "  adding: chase_db_320_320_dice_bce_0_4__hvr_0_4_1/predictions/_Image_11L_2.png (deflated 8%)\n",
            "  adding: chase_db_320_320_dice_bce_0_4__hvr_0_4_1/predictions/_Image_13L_3.png (deflated 86%)\n",
            "  adding: chase_db_320_320_dice_bce_0_4__hvr_0_4_1/predictions/_Image_11R_8.png (deflated 86%)\n",
            "  adding: chase_db_320_320_dice_bce_0_4__hvr_0_4_1/predictions/_Image_12L_7.png (deflated 61%)\n",
            "  adding: chase_db_320_320_dice_bce_0_4__hvr_0_4_1/predictions/_Image_11L_1.png (deflated 15%)\n",
            "  adding: chase_db_320_320_dice_bce_0_4__hvr_0_4_1/predictions/_Image_13L_8.png (deflated 86%)\n",
            "  adding: chase_db_320_320_dice_bce_0_4__hvr_0_4_1/predictions/_Image_12R_2.png (deflated 16%)\n",
            "  adding: chase_db_320_320_dice_bce_0_4__hvr_0_4_1/predictions/_Image_12L_3.png (deflated 28%)\n",
            "  adding: chase_db_320_320_dice_bce_0_4__hvr_0_4_1/predictions/_Image_12R_4.png (deflated 23%)\n",
            "  adding: chase_db_320_320_dice_bce_0_4__hvr_0_4_1/predictions/_Image_12L_11.png (deflated 51%)\n",
            "  adding: chase_db_320_320_dice_bce_0_4__hvr_0_4_1/predictions/_Image_13L_0.png (deflated 52%)\n",
            "  adding: chase_db_320_320_dice_bce_0_4__hvr_0_4_1/predictions/_Image_11R_1.png (deflated 10%)\n",
            "  adding: chase_db_320_320_dice_bce_0_4__hvr_0_4_1/predictions/_Image_12R_7.png (deflated 43%)\n",
            "  adding: chase_db_320_320_dice_bce_0_4__hvr_0_4_1/predictions/_Image_13L_6.png (deflated 9%)\n",
            "  adding: chase_db_320_320_dice_bce_0_4__hvr_0_4_1/predictions/_Image_13L_4.png (deflated 34%)\n",
            "  adding: chase_db_320_320_dice_bce_0_4__hvr_0_4_1/predictions/_Image_13L_10.png (deflated 18%)\n",
            "  adding: chase_db_320_320_dice_bce_0_4__hvr_0_4_1/predictions/_Image_12L_1.png (deflated 14%)\n",
            "  adding: chase_db_320_320_dice_bce_0_4__hvr_0_4_1/predictions/_Image_12R_8.png (deflated 51%)\n",
            "  adding: chase_db_320_320_dice_bce_0_4__hvr_0_4_1/predictions/_Image_11R_10.png (deflated 20%)\n",
            "  adding: chase_db_320_320_dice_bce_0_4__hvr_0_4_1/predictions/_Image_12L_8.png (deflated 61%)\n",
            "  adding: chase_db_320_320_dice_bce_0_4__hvr_0_4_1/predictions/_Image_12L_5.png (deflated 12%)\n",
            "  adding: chase_db_320_320_dice_bce_0_4__hvr_0_4_1/predictions/_Image_13L_5.png (deflated 11%)\n",
            "  adding: chase_db_320_320_dice_bce_0_4__hvr_0_4_1/predictions/_Image_11L_9.png (deflated 10%)\n",
            "  adding: chase_db_320_320_dice_bce_0_4__hvr_0_4_1/predictions/_Image_11L_4.png (deflated 54%)\n",
            "  adding: chase_db_320_320_dice_bce_0_4__hvr_0_4_1/predictions/_Image_11L_7.png (deflated 58%)\n",
            "  adding: chase_db_320_320_dice_bce_0_4__hvr_0_4_1/predictions/_Image_12L_10.png (deflated 12%)\n",
            "  adding: chase_db_320_320_dice_bce_0_4__hvr_0_4_1/predictions/_Image_11L_0.png (deflated 49%)\n",
            "  adding: chase_db_320_320_dice_bce_0_4__hvr_0_4_1/predictions/_Image_11L_8.png (deflated 44%)\n",
            "  adding: chase_db_320_320_dice_bce_0_4__hvr_0_4_1/predictions/_Image_12R_11.png (deflated 47%)\n",
            "  adding: chase_db_320_320_dice_bce_0_4__hvr_0_4_1/predictions/_Image_12L_4.png (deflated 40%)\n",
            "  adding: chase_db_320_320_dice_bce_0_4__hvr_0_4_1/predictions/_Image_11L_5.png (deflated 11%)\n",
            "  adding: chase_db_320_320_dice_bce_0_4__hvr_0_4_1/predictions/_Image_11R_11.png (deflated 54%)\n",
            "  adding: chase_db_320_320_dice_bce_0_4__hvr_0_4_1/predictions/_Image_11R_2.png (deflated 18%)\n",
            "  adding: chase_db_320_320_dice_bce_0_4__hvr_0_4_1/predictions/_Image_11L_10.png (deflated 10%)\n",
            "  adding: chase_db_320_320_dice_bce_0_4__hvr_0_4_1/predictions/_Image_12R_10.png (deflated 14%)\n",
            "  adding: chase_db_320_320_dice_bce_0_4__hvr_0_4_1/predictions/_Image_12R_5.png (deflated 10%)\n",
            "  adding: chase_db_320_320_dice_bce_0_4__hvr_0_4_1/predictions/_Image_12R_0.png (deflated 32%)\n",
            "  adding: chase_db_320_320_dice_bce_0_4__hvr_0_4_1/predictions/_Image_11R_7.png (deflated 38%)\n",
            "  adding: chase_db_320_320_dice_bce_0_4__hvr_0_4_1/predictions/_Image_12R_9.png (deflated 10%)\n",
            "  adding: chase_db_320_320_dice_bce_0_4__hvr_0_4_1/predictions/_Image_13L_2.png (deflated 13%)\n",
            "  adding: chase_db_320_320_dice_bce_0_4__hvr_0_4_1/predictions/_Image_11L_3.png (deflated 86%)\n",
            "  adding: chase_db_320_320_dice_bce_0_4__hvr_0_4_1/predictions/_Image_12R_6.png (deflated 11%)\n",
            "  adding: chase_db_320_320_dice_bce_0_4__hvr_0_4_1/predictions/_Image_12L_6.png (deflated 7%)\n",
            "  adding: chase_db_320_320_dice_bce_0_4__hvr_0_4_1/predictions/_Image_12R_3.png (deflated 49%)\n",
            "  adding: chase_db_320_320_dice_bce_0_4__hvr_0_4_1/predictions/_Image_13L_11.png (deflated 86%)\n",
            "  adding: chase_db_320_320_dice_bce_0_4__hvr_0_4_1/predictions/_Image_13L_1.png (deflated 12%)\n",
            "  adding: chase_db_320_320_dice_bce_0_4__hvr_0_4_1/predictions/_Image_11R_4.png (deflated 71%)\n",
            "  adding: chase_db_320_320_dice_bce_0_4__hvr_0_4_1/predictions/_Image_12L_0.png (deflated 86%)\n",
            "  adding: chase_db_320_320_dice_bce_0_4__hvr_0_4_1/predictions/_Image_12L_2.png (deflated 14%)\n",
            "  adding: chase_db_320_320_dice_bce_0_4__hvr_0_4_1/predictions/_Image_11R_6.png (deflated 12%)\n",
            "  adding: chase_db_320_320_dice_bce_0_4__hvr_0_4_1/predictions/_Image_13L_7.png (deflated 86%)\n",
            "  adding: chase_db_320_320_dice_bce_0_4__hvr_0_4_1/predictions/_Image_11R_5.png (deflated 5%)\n",
            "  adding: chase_db_320_320_dice_bce_0_4__hvr_0_4_1/predictions/_Image_11L_11.png (deflated 81%)\n"
          ]
        }
      ],
      "source": [
        "!zip -r {folder_name}.zip  {folder_name}/"
      ]
    },
    {
      "cell_type": "code",
      "execution_count": null,
      "metadata": {
        "colab": {
          "background_save": true
        },
        "id": "8L9ewIL3ach6",
        "outputId": "277f33a2-f1da-4b45-8c15-cf5440c25370"
      },
      "outputs": [
        {
          "name": "stdout",
          "output_type": "stream",
          "text": [
            "total 507M\n",
            "drwxr-xr-x  4 root root 4.0K Mar 14 07:02 logs\n",
            "drwxr-xr-x 11 root root 4.0K Mar 14 07:20 chase_db_320_320_dice_bce_0_4__hvr_0_4_1\n",
            "-rw-r--r--  1 root root 507M Mar 14 07:22 chase_db_320_320_dice_bce_0_4__hvr_0_4_1.zip\n"
          ]
        }
      ],
      "source": [
        "!ls -ltrh\n"
      ]
    },
    {
      "cell_type": "code",
      "execution_count": null,
      "metadata": {
        "colab": {
          "background_save": true
        },
        "id": "HgeR9u--S9HC",
        "outputId": "67e04687-56f0-44e2-cf3c-b734cba65cbd"
      },
      "outputs": [
        {
          "name": "stdout",
          "output_type": "stream",
          "text": [
            "02_g_test.png\n",
            "chase_db_128_128_dice_bce_0_4__0_4_1\n",
            "chase_db_128_128_dice_bce_0_4__0_4_1.zip\n",
            "chase_db_128_128_dice_bce_0_4__hvr_0_4_1\n",
            "chase_db_128_128_dice_bce_0_4__hvr_0_4_1.zip\n",
            "chase_db_256_128_dice_bce_0_4__hvr_0_4_1\n",
            "chase_db_256_128_dice_bce_0_4__hvr_0_4_1.zip\n",
            "chase_db_256_256_dice_bce_0_4__0_4_1\n",
            "chase_db_256_256_dice_bce_0_4__0_4_1.zip\n",
            "chase_db_320_320_dice_bce_0_4__0_4_1\n",
            "chase_db_320_320_dice_bce_0_4__0_4_1.zip\n",
            "chase_db_384_384_dice_bce_0_4__0_4_1\n",
            "chase_db_384_384_dice_bce_0_4__0_4_1.zip\n",
            "drive_128_128_dice_bce_0_4__0_4_1\n",
            "drive_128_128_dice_bce_0_4__0_4_1.zip\n",
            "drive_128_128_dice_bce_0_4__hvr_0_4_1\n",
            "drive_128_128_dice_bce_0_4__hvr_0_4_1.zip\n",
            "drive_128_128_dice_loss_0_4__0_4_1\n",
            "drive_128_128_dice_loss_0_4__0_4_1.zip\n",
            "drive_128_128_dice_loss_0_4__hvr_0_4_1\n",
            "drive_128_128_dice_loss_0_4__hvr_0_4_1.zip\n",
            "drive_256_256_dice_bce_0_4__0_4_1\n",
            "drive_256_256_dice_bce_0_4__0_4_1.zip\n",
            "drive_256_256_dice_bce_0_4__hvr_0_4_1\n",
            "drive_256_256_dice_bce_0_4__hvr_0_4_1.zip\n",
            "drive_256_256_dice_loss_0_4__0_4_1\n",
            "drive_256_256_dice_loss_0_4__0_4_1.zip\n",
            "drive_256_256_dice_loss_0_4__hvr_0_4_1\n",
            "drive_256_256_dice_loss_0_4__hvr_0_4_1.zip\n",
            "drive_64_64_dice_bce_0_4__0_4_1\n",
            "drive_64_64_dice_bce_0_4__0_4_1.zip\n",
            "drive_64_64_dice_bce_0_4__hvr_0_4_1\n",
            "drive_64_64_dice_bce_0_4__hvr_0_4_1.zip\n",
            "drive_64_64_dice_loss_0_4__0_4_1\n",
            "drive_64_64_dice_loss_0_4__0_4_1.zip\n",
            "drive_64_64_dice_loss_0_4__hvr_0_4_1\n",
            "drive_64_64_dice_loss_0_4__hvr_0_4_1.zip\n",
            "hrf_256_256_dice_loss_1\n",
            "hrf_256_256_dice_loss_1.zip\n",
            "hrf_256_256_dice_loss_hvr_1.zip\n",
            "hrf_256_256_dice_loss_hvr_2.zip\n",
            "hrf_512_256_bce_hvr_xval_10_42.zip\n",
            "hrf_512_512\n",
            "hrf_512_512_bce\n",
            "hrf_512_512_bce_1\n",
            "hrf_512_512_bce_1.zip\n",
            "hrf_512_512_bce_2\n",
            "hrf_512_512_bce_2.zip\n",
            "hrf_512_512_bce_hvr\n",
            "hrf_512_512_bce_hvr_0_3\n",
            "hrf_512_512_bce_hvr_0_33_42.zip\n",
            "hrf_512_512_bce_hvr_0_33_43\n",
            "hrf_512_512_bce_hvr_0_33_43.zip\n",
            "hrf_512_512_bce_hvr_0_3_44\n",
            "hrf_512_512_bce_hvr_0_3_44.zip\n",
            "hrf_512_512_bce_hvr_feb_3_1.zip\n",
            "hrf_512_512_bce_hvr_feb_5_1.zip\n",
            "hrf_512_512_bce_hvr_xval_2_42.zip\n",
            "hrf_512_512_bce_hvr_xval_5_42\n",
            "hrf_512_512_bce_hvr_xval_5_42_10epochs\n",
            "hrf_512_512_bce_hvr_xval_5_42.csv\n",
            "hrf_512_512_bce_hvr.zip\n",
            "hrf_512_512_bce.zip\n",
            "hrf_512_512_dice\n",
            "hrf_512_512_dice_bce\n",
            "hrf_512_512_dice_bce_0_4_2\n",
            "hrf_512_512_dice_bce_0_4_2.zip\n",
            "hrf_512_512_dice_bce_1\n",
            "hrf_512_512_dice_bce_1.zip\n",
            "hrf_512_512_dice_bce_hvr\n",
            "hrf_512_512_dice_bce_hvr_0_3_feb4.zip\n",
            "hrf_512_512_dice_bce_hvr_2.zip\n",
            "hrf_512_512_dice_bce_hvr_jan_31_2.zip\n",
            "hrf_512_512_dice_bce_hvr_jan_31.zip\n",
            "hrf_512_512_dice_bce_hvr_xval_5_42.zip\n",
            "hrf_512_512_dice_bce_hvr_xval_9_42_10epochs.zip\n",
            "hrf_512_512_dice_bce_hvr.zip\n",
            "hrf_512_512_DiceBCELoss\n",
            "hrf_512_512_dice_loss_0_4_1\n",
            "hrf_512_512_dice_loss_0_4_1.zip\n",
            "hrf_512_512_dice_loss_2\n",
            "hrf_512_512_dice_loss_2.zip\n",
            "hrf_512_512_dice_loss_3\n",
            "hrf_512_512_dice_loss_3.zip\n",
            "hrf_512_512_dice_loss_hvr_0_3_feb_3.zip\n",
            "hrf_512_512_dice_loss_hvr_0_4_feb4.zip\n",
            "hrf_512_512_dice_loss_hvr_3.zip\n",
            "hrf_512_512_dice_loss_hvr_xval_5_42.zip\n",
            "hrf_512_512_dice.zip\n",
            "hrf_512_512.zip\n",
            "hrf_768_768_bce_0_4_1\n",
            "hrf_768_768_bce_0_4_1.zip\n",
            "hrf_768_768_bce_hvr_1.zip\n",
            "hrf_768_768_dice_bce_0_4_1\n",
            "hrf_768_768_dice_bce_0_4_1.zip\n",
            "hrf_768_768_dice_bce_hvr_1.zip\n",
            "hrf_768_768_dice_loss_0_4_1\n",
            "hrf_768_768_dice_loss_0_4_1.zip\n",
            "hrf_768_768_dice_loss_hvr_2.zip\n",
            "hrf_768_768_wbce_0_4__0_3_1\n",
            "hrf_768_768_wbce_0_4__0_3_1.zip\n",
            "hrf_768_768_wbce_0_4__0_4_1\n",
            "hrf_768_768_wbce_0_4__0_4_1.zip\n",
            "hrf_768_768_wbce_0_5__0_3_1\n",
            "hrf_768_768_wbce_0_5__0_3_1.zip\n",
            "hrf_768_768_wbce_0_6__0_3_1\n",
            "hrf_768_768_wbce_0_6__0_3_1.zip\n",
            "hrf_768_768_wbce_0_6__0_4_1\n",
            "hrf_768_768_wbce_0_6__0_4_1.zip\n",
            "hrf_768_768_wbce_0_6__hvr_1.zip\n",
            "hrf_patches_512.zip\n",
            "hrf.zip\n",
            "idrid_512_512_dice_bce_0_4__hvr_0_4_1\n",
            "idrid_512_512_dice_bce_0_4__hvr_0_4_1.zip\n",
            "idrid_768_768_dice_bce_0_4__hvr_0_4_1\n",
            "idrid_768_768_dice_bce_0_4__hvr_0_4_1.zip\n",
            "non_overlapping_512\n",
            "split_2.zip\n"
          ]
        }
      ],
      "source": [
        "!ls /content/gdrive/MyDrive/Blood_Vessel_Results/hrf_patches/"
      ]
    },
    {
      "cell_type": "code",
      "execution_count": null,
      "metadata": {
        "colab": {
          "background_save": true
        },
        "id": "uxv_dah3MAdT"
      },
      "outputs": [],
      "source": [
        "!cp {folder_name}.zip /content/gdrive/MyDrive/Blood_Vessel_Results/hrf_patches/"
      ]
    },
    {
      "cell_type": "code",
      "execution_count": null,
      "metadata": {
        "colab": {
          "background_save": true
        },
        "id": "LDtPmTRvTZEg",
        "outputId": "bb54bcb4-568d-4155-f4b0-3949bf937380"
      },
      "outputs": [
        {
          "name": "stdout",
          "output_type": "stream",
          "text": [
            "/content/gdrive/MyDrive/Blood_Vessel_Results/hrf_patches\n"
          ]
        }
      ],
      "source": [
        "%cd /content/gdrive/MyDrive/Blood_Vessel_Results/hrf_patches/"
      ]
    },
    {
      "cell_type": "code",
      "execution_count": null,
      "metadata": {
        "colab": {
          "background_save": true
        },
        "id": "l9g3FzQFUzN1",
        "outputId": "f7131bfb-3d5c-42f2-85fa-124445e34f05"
      },
      "outputs": [
        {
          "name": "stdout",
          "output_type": "stream",
          "text": [
            "/content/gdrive/MyDrive/Blood_Vessel_Results/hrf_patches\n"
          ]
        }
      ],
      "source": [
        "!pwd"
      ]
    },
    {
      "cell_type": "code",
      "execution_count": null,
      "metadata": {
        "colab": {
          "background_save": true
        },
        "id": "AnpquhqmU1gr",
        "outputId": "aa0690b2-3a6c-45d7-cb2b-0c0207f42e50"
      },
      "outputs": [
        {
          "name": "stdout",
          "output_type": "stream",
          "text": [
            "02_g_test.png\n",
            "chase_db_128_128_dice_bce_0_4__0_4_1\n",
            "chase_db_128_128_dice_bce_0_4__0_4_1.zip\n",
            "chase_db_128_128_dice_bce_0_4__hvr_0_4_1\n",
            "chase_db_128_128_dice_bce_0_4__hvr_0_4_1.zip\n",
            "chase_db_256_128_dice_bce_0_4__hvr_0_4_1\n",
            "chase_db_256_128_dice_bce_0_4__hvr_0_4_1.zip\n",
            "chase_db_256_256_dice_bce_0_4__0_4_1\n",
            "chase_db_256_256_dice_bce_0_4__0_4_1.zip\n",
            "chase_db_320_320_dice_bce_0_4__0_4_1\n",
            "chase_db_320_320_dice_bce_0_4__0_4_1.zip\n",
            "chase_db_320_320_dice_bce_0_4__hvr_0_4_1.zip\n",
            "chase_db_384_384_dice_bce_0_4__0_4_1\n",
            "chase_db_384_384_dice_bce_0_4__0_4_1.zip\n",
            "drive_128_128_dice_bce_0_4__0_4_1\n",
            "drive_128_128_dice_bce_0_4__0_4_1.zip\n",
            "drive_128_128_dice_bce_0_4__hvr_0_4_1\n",
            "drive_128_128_dice_bce_0_4__hvr_0_4_1.zip\n",
            "drive_128_128_dice_loss_0_4__0_4_1\n",
            "drive_128_128_dice_loss_0_4__0_4_1.zip\n",
            "drive_128_128_dice_loss_0_4__hvr_0_4_1\n",
            "drive_128_128_dice_loss_0_4__hvr_0_4_1.zip\n",
            "drive_256_256_dice_bce_0_4__0_4_1\n",
            "drive_256_256_dice_bce_0_4__0_4_1.zip\n",
            "drive_256_256_dice_bce_0_4__hvr_0_4_1\n",
            "drive_256_256_dice_bce_0_4__hvr_0_4_1.zip\n",
            "drive_256_256_dice_loss_0_4__0_4_1\n",
            "drive_256_256_dice_loss_0_4__0_4_1.zip\n",
            "drive_256_256_dice_loss_0_4__hvr_0_4_1\n",
            "drive_256_256_dice_loss_0_4__hvr_0_4_1.zip\n",
            "drive_64_64_dice_bce_0_4__0_4_1\n",
            "drive_64_64_dice_bce_0_4__0_4_1.zip\n",
            "drive_64_64_dice_bce_0_4__hvr_0_4_1\n",
            "drive_64_64_dice_bce_0_4__hvr_0_4_1.zip\n",
            "drive_64_64_dice_loss_0_4__0_4_1\n",
            "drive_64_64_dice_loss_0_4__0_4_1.zip\n",
            "drive_64_64_dice_loss_0_4__hvr_0_4_1\n",
            "drive_64_64_dice_loss_0_4__hvr_0_4_1.zip\n",
            "hrf_256_256_dice_loss_1\n",
            "hrf_256_256_dice_loss_1.zip\n",
            "hrf_256_256_dice_loss_hvr_1.zip\n",
            "hrf_256_256_dice_loss_hvr_2.zip\n",
            "hrf_512_256_bce_hvr_xval_10_42.zip\n",
            "hrf_512_512\n",
            "hrf_512_512_bce\n",
            "hrf_512_512_bce_1\n",
            "hrf_512_512_bce_1.zip\n",
            "hrf_512_512_bce_2\n",
            "hrf_512_512_bce_2.zip\n",
            "hrf_512_512_bce_hvr\n",
            "hrf_512_512_bce_hvr_0_3\n",
            "hrf_512_512_bce_hvr_0_33_42.zip\n",
            "hrf_512_512_bce_hvr_0_33_43\n",
            "hrf_512_512_bce_hvr_0_33_43.zip\n",
            "hrf_512_512_bce_hvr_0_3_44\n",
            "hrf_512_512_bce_hvr_0_3_44.zip\n",
            "hrf_512_512_bce_hvr_feb_3_1.zip\n",
            "hrf_512_512_bce_hvr_feb_5_1.zip\n",
            "hrf_512_512_bce_hvr_xval_2_42.zip\n",
            "hrf_512_512_bce_hvr_xval_5_42\n",
            "hrf_512_512_bce_hvr_xval_5_42_10epochs\n",
            "hrf_512_512_bce_hvr_xval_5_42.csv\n",
            "hrf_512_512_bce_hvr.zip\n",
            "hrf_512_512_bce.zip\n",
            "hrf_512_512_dice\n",
            "hrf_512_512_dice_bce\n",
            "hrf_512_512_dice_bce_0_4_2\n",
            "hrf_512_512_dice_bce_0_4_2.zip\n",
            "hrf_512_512_dice_bce_1\n",
            "hrf_512_512_dice_bce_1.zip\n",
            "hrf_512_512_dice_bce_hvr\n",
            "hrf_512_512_dice_bce_hvr_0_3_feb4.zip\n",
            "hrf_512_512_dice_bce_hvr_2.zip\n",
            "hrf_512_512_dice_bce_hvr_jan_31_2.zip\n",
            "hrf_512_512_dice_bce_hvr_jan_31.zip\n",
            "hrf_512_512_dice_bce_hvr_xval_5_42.zip\n",
            "hrf_512_512_dice_bce_hvr_xval_9_42_10epochs.zip\n",
            "hrf_512_512_dice_bce_hvr.zip\n",
            "hrf_512_512_DiceBCELoss\n",
            "hrf_512_512_dice_loss_0_4_1\n",
            "hrf_512_512_dice_loss_0_4_1.zip\n",
            "hrf_512_512_dice_loss_2\n",
            "hrf_512_512_dice_loss_2.zip\n",
            "hrf_512_512_dice_loss_3\n",
            "hrf_512_512_dice_loss_3.zip\n",
            "hrf_512_512_dice_loss_hvr_0_3_feb_3.zip\n",
            "hrf_512_512_dice_loss_hvr_0_4_feb4.zip\n",
            "hrf_512_512_dice_loss_hvr_3.zip\n",
            "hrf_512_512_dice_loss_hvr_xval_5_42.zip\n",
            "hrf_512_512_dice.zip\n",
            "hrf_512_512.zip\n",
            "hrf_768_768_bce_0_4_1\n",
            "hrf_768_768_bce_0_4_1.zip\n",
            "hrf_768_768_bce_hvr_1.zip\n",
            "hrf_768_768_dice_bce_0_4_1\n",
            "hrf_768_768_dice_bce_0_4_1.zip\n",
            "hrf_768_768_dice_bce_hvr_1.zip\n",
            "hrf_768_768_dice_loss_0_4_1\n",
            "hrf_768_768_dice_loss_0_4_1.zip\n",
            "hrf_768_768_dice_loss_hvr_2.zip\n",
            "hrf_768_768_wbce_0_4__0_3_1\n",
            "hrf_768_768_wbce_0_4__0_3_1.zip\n",
            "hrf_768_768_wbce_0_4__0_4_1\n",
            "hrf_768_768_wbce_0_4__0_4_1.zip\n",
            "hrf_768_768_wbce_0_5__0_3_1\n",
            "hrf_768_768_wbce_0_5__0_3_1.zip\n",
            "hrf_768_768_wbce_0_6__0_3_1\n",
            "hrf_768_768_wbce_0_6__0_3_1.zip\n",
            "hrf_768_768_wbce_0_6__0_4_1\n",
            "hrf_768_768_wbce_0_6__0_4_1.zip\n",
            "hrf_768_768_wbce_0_6__hvr_1.zip\n",
            "hrf_patches_512.zip\n",
            "hrf.zip\n",
            "idrid_512_512_dice_bce_0_4__hvr_0_4_1\n",
            "idrid_512_512_dice_bce_0_4__hvr_0_4_1.zip\n",
            "idrid_768_768_dice_bce_0_4__hvr_0_4_1\n",
            "idrid_768_768_dice_bce_0_4__hvr_0_4_1.zip\n",
            "non_overlapping_512\n",
            "split_2.zip\n"
          ]
        }
      ],
      "source": [
        "!ls"
      ]
    },
    {
      "cell_type": "code",
      "execution_count": null,
      "metadata": {
        "colab": {
          "background_save": true
        },
        "id": "QjOj2UhYTmPO",
        "outputId": "d56e6496-2ad4-4655-f004-4fb20f8b7250"
      },
      "outputs": [
        {
          "name": "stdout",
          "output_type": "stream",
          "text": [
            "Archive:  chase_db_320_320_dice_bce_0_4__hvr_0_4_1.zip\n",
            "   creating: chase_db_320_320_dice_bce_0_4__hvr_0_4_1/\n",
            "   creating: chase_db_320_320_dice_bce_0_4__hvr_0_4_1/test/\n",
            "   creating: chase_db_320_320_dice_bce_0_4__hvr_0_4_1/test/1st_manual/\n",
            "  inflating: chase_db_320_320_dice_bce_0_4__hvr_0_4_1/test/1st_manual/Image_13L_1stHO.png  \n",
            "  inflating: chase_db_320_320_dice_bce_0_4__hvr_0_4_1/test/1st_manual/Image_12L_1stHO.png  \n",
            "  inflating: chase_db_320_320_dice_bce_0_4__hvr_0_4_1/test/1st_manual/Image_12R_1stHO.png  \n",
            "  inflating: chase_db_320_320_dice_bce_0_4__hvr_0_4_1/test/1st_manual/Image_11R_1stHO.png  \n",
            "  inflating: chase_db_320_320_dice_bce_0_4__hvr_0_4_1/test/1st_manual/Image_11L_1stHO.png  \n",
            "   creating: chase_db_320_320_dice_bce_0_4__hvr_0_4_1/test/images/\n",
            "  inflating: chase_db_320_320_dice_bce_0_4__hvr_0_4_1/test/images/Image_12L.jpg  \n",
            "  inflating: chase_db_320_320_dice_bce_0_4__hvr_0_4_1/test/images/Image_11R.jpg  \n",
            "  inflating: chase_db_320_320_dice_bce_0_4__hvr_0_4_1/test/images/Image_12R.jpg  \n",
            "  inflating: chase_db_320_320_dice_bce_0_4__hvr_0_4_1/test/images/Image_11L.jpg  \n",
            "  inflating: chase_db_320_320_dice_bce_0_4__hvr_0_4_1/test/images/Image_13L.jpg  \n",
            "   creating: chase_db_320_320_dice_bce_0_4__hvr_0_4_1/training/\n",
            "   creating: chase_db_320_320_dice_bce_0_4__hvr_0_4_1/training/1st_manual/\n",
            "  inflating: chase_db_320_320_dice_bce_0_4__hvr_0_4_1/training/1st_manual/Image_04L_1stHO.png  \n",
            "  inflating: chase_db_320_320_dice_bce_0_4__hvr_0_4_1/training/1st_manual/Image_09L_1stHO.png  \n",
            "  inflating: chase_db_320_320_dice_bce_0_4__hvr_0_4_1/training/1st_manual/Image_04R_1stHO.png  \n",
            "  inflating: chase_db_320_320_dice_bce_0_4__hvr_0_4_1/training/1st_manual/Image_09R_1stHO.png  \n",
            "  inflating: chase_db_320_320_dice_bce_0_4__hvr_0_4_1/training/1st_manual/Image_05R_1stHO.png  \n",
            "  inflating: chase_db_320_320_dice_bce_0_4__hvr_0_4_1/training/1st_manual/Image_05L_1stHO.png  \n",
            "  inflating: chase_db_320_320_dice_bce_0_4__hvr_0_4_1/training/1st_manual/Image_10R_1stHO.png  \n",
            "  inflating: chase_db_320_320_dice_bce_0_4__hvr_0_4_1/training/1st_manual/Image_07R_1stHO.png  \n",
            "  inflating: chase_db_320_320_dice_bce_0_4__hvr_0_4_1/training/1st_manual/Image_07L_1stHO.png  \n",
            "  inflating: chase_db_320_320_dice_bce_0_4__hvr_0_4_1/training/1st_manual/Image_06R_1stHO.png  \n",
            "  inflating: chase_db_320_320_dice_bce_0_4__hvr_0_4_1/training/1st_manual/Image_03L_1stHO.png  \n",
            "  inflating: chase_db_320_320_dice_bce_0_4__hvr_0_4_1/training/1st_manual/Image_14R_1stHO.png  \n",
            "  inflating: chase_db_320_320_dice_bce_0_4__hvr_0_4_1/training/1st_manual/Image_01L_1stHO.png  \n",
            "  inflating: chase_db_320_320_dice_bce_0_4__hvr_0_4_1/training/1st_manual/Image_06L_1stHO.png  \n",
            "  inflating: chase_db_320_320_dice_bce_0_4__hvr_0_4_1/training/1st_manual/Image_10L_1stHO.png  \n",
            "  inflating: chase_db_320_320_dice_bce_0_4__hvr_0_4_1/training/1st_manual/Image_08L_1stHO.png  \n",
            " extracting: chase_db_320_320_dice_bce_0_4__hvr_0_4_1/training/1st_manual/Image_14L_1stHO.png  \n",
            "  inflating: chase_db_320_320_dice_bce_0_4__hvr_0_4_1/training/1st_manual/Image_08R_1stHO.png  \n",
            "  inflating: chase_db_320_320_dice_bce_0_4__hvr_0_4_1/training/1st_manual/Image_01R_1stHO.png  \n",
            "  inflating: chase_db_320_320_dice_bce_0_4__hvr_0_4_1/training/1st_manual/Image_03R_1stHO.png  \n",
            "  inflating: chase_db_320_320_dice_bce_0_4__hvr_0_4_1/training/1st_manual/Image_02L_1stHO.png  \n",
            "  inflating: chase_db_320_320_dice_bce_0_4__hvr_0_4_1/training/1st_manual/Image_02R_1stHO.png  \n",
            "  inflating: chase_db_320_320_dice_bce_0_4__hvr_0_4_1/training/1st_manual/Image_13R_1stHO.png  \n",
            "   creating: chase_db_320_320_dice_bce_0_4__hvr_0_4_1/training/images/\n",
            "  inflating: chase_db_320_320_dice_bce_0_4__hvr_0_4_1/training/images/Image_02L.jpg  \n",
            "  inflating: chase_db_320_320_dice_bce_0_4__hvr_0_4_1/training/images/Image_06R.jpg  \n",
            "  inflating: chase_db_320_320_dice_bce_0_4__hvr_0_4_1/training/images/Image_03R.jpg  \n",
            "  inflating: chase_db_320_320_dice_bce_0_4__hvr_0_4_1/training/images/Image_07R.jpg  \n",
            "  inflating: chase_db_320_320_dice_bce_0_4__hvr_0_4_1/training/images/Image_10R.jpg  \n",
            "  inflating: chase_db_320_320_dice_bce_0_4__hvr_0_4_1/training/images/Image_05L.jpg  \n",
            "  inflating: chase_db_320_320_dice_bce_0_4__hvr_0_4_1/training/images/Image_09R.jpg  \n",
            "  inflating: chase_db_320_320_dice_bce_0_4__hvr_0_4_1/training/images/Image_04R.jpg  \n",
            "  inflating: chase_db_320_320_dice_bce_0_4__hvr_0_4_1/training/images/Image_14R.jpg  \n",
            "  inflating: chase_db_320_320_dice_bce_0_4__hvr_0_4_1/training/images/Image_10L.jpg  \n",
            "  inflating: chase_db_320_320_dice_bce_0_4__hvr_0_4_1/training/images/Image_08L.jpg  \n",
            "  inflating: chase_db_320_320_dice_bce_0_4__hvr_0_4_1/training/images/Image_03L.jpg  \n",
            "  inflating: chase_db_320_320_dice_bce_0_4__hvr_0_4_1/training/images/Image_08R.jpg  \n",
            "  inflating: chase_db_320_320_dice_bce_0_4__hvr_0_4_1/training/images/Image_05R.jpg  \n",
            "  inflating: chase_db_320_320_dice_bce_0_4__hvr_0_4_1/training/images/Image_13R.jpg  \n",
            "  inflating: chase_db_320_320_dice_bce_0_4__hvr_0_4_1/training/images/Image_02R.jpg  \n",
            "  inflating: chase_db_320_320_dice_bce_0_4__hvr_0_4_1/training/images/Image_01L.jpg  \n",
            "  inflating: chase_db_320_320_dice_bce_0_4__hvr_0_4_1/training/images/Image_04L.jpg  \n",
            "  inflating: chase_db_320_320_dice_bce_0_4__hvr_0_4_1/training/images/Image_01R.jpg  \n",
            "  inflating: chase_db_320_320_dice_bce_0_4__hvr_0_4_1/training/images/Image_14L.jpg  \n",
            "  inflating: chase_db_320_320_dice_bce_0_4__hvr_0_4_1/training/images/Image_07L.jpg  \n",
            "  inflating: chase_db_320_320_dice_bce_0_4__hvr_0_4_1/training/images/Image_09L.jpg  \n",
            "  inflating: chase_db_320_320_dice_bce_0_4__hvr_0_4_1/training/images/Image_06L.jpg  \n",
            "   creating: chase_db_320_320_dice_bce_0_4__hvr_0_4_1/predictions_np/\n",
            "  inflating: chase_db_320_320_dice_bce_0_4__hvr_0_4_1/predictions_np/_Image_12L_8.npy  \n",
            "  inflating: chase_db_320_320_dice_bce_0_4__hvr_0_4_1/predictions_np/_Image_13L_3.npy  \n",
            "  inflating: chase_db_320_320_dice_bce_0_4__hvr_0_4_1/predictions_np/_Image_12L_3.npy  \n",
            "  inflating: chase_db_320_320_dice_bce_0_4__hvr_0_4_1/predictions_np/_Image_11R_1.npy  \n",
            "  inflating: chase_db_320_320_dice_bce_0_4__hvr_0_4_1/predictions_np/_Image_12L_5.npy  \n",
            "  inflating: chase_db_320_320_dice_bce_0_4__hvr_0_4_1/predictions_np/_Image_12R_10.npy  \n",
            "  inflating: chase_db_320_320_dice_bce_0_4__hvr_0_4_1/predictions_np/_Image_11L_5.npy  \n",
            "  inflating: chase_db_320_320_dice_bce_0_4__hvr_0_4_1/predictions_np/_Image_12L_2.npy  \n",
            "  inflating: chase_db_320_320_dice_bce_0_4__hvr_0_4_1/predictions_np/_Image_13L_0.npy  \n",
            "  inflating: chase_db_320_320_dice_bce_0_4__hvr_0_4_1/predictions_np/_Image_13L_10.npy  \n",
            "  inflating: chase_db_320_320_dice_bce_0_4__hvr_0_4_1/predictions_np/_Image_11R_10.npy  \n",
            "  inflating: chase_db_320_320_dice_bce_0_4__hvr_0_4_1/predictions_np/_Image_13L_2.npy  \n",
            "  inflating: chase_db_320_320_dice_bce_0_4__hvr_0_4_1/predictions_np/_Image_12L_4.npy  \n",
            "  inflating: chase_db_320_320_dice_bce_0_4__hvr_0_4_1/predictions_np/_Image_12R_0.npy  \n",
            "  inflating: chase_db_320_320_dice_bce_0_4__hvr_0_4_1/predictions_np/_Image_13L_4.npy  \n",
            "  inflating: chase_db_320_320_dice_bce_0_4__hvr_0_4_1/predictions_np/_Image_12L_10.npy  \n",
            "  inflating: chase_db_320_320_dice_bce_0_4__hvr_0_4_1/predictions_np/_Image_11L_6.npy  \n",
            "  inflating: chase_db_320_320_dice_bce_0_4__hvr_0_4_1/predictions_np/_Image_11R_4.npy  \n",
            "  inflating: chase_db_320_320_dice_bce_0_4__hvr_0_4_1/predictions_np/_Image_13L_7.npy  \n",
            "  inflating: chase_db_320_320_dice_bce_0_4__hvr_0_4_1/predictions_np/_Image_11L_2.npy  \n",
            "  inflating: chase_db_320_320_dice_bce_0_4__hvr_0_4_1/predictions_np/_Image_11R_0.npy  \n",
            "  inflating: chase_db_320_320_dice_bce_0_4__hvr_0_4_1/predictions_np/_Image_11L_11.npy  \n",
            "  inflating: chase_db_320_320_dice_bce_0_4__hvr_0_4_1/predictions_np/_Image_12R_6.npy  \n",
            "  inflating: chase_db_320_320_dice_bce_0_4__hvr_0_4_1/predictions_np/_Image_12R_2.npy  \n",
            "  inflating: chase_db_320_320_dice_bce_0_4__hvr_0_4_1/predictions_np/_Image_11R_11.npy  \n",
            "  inflating: chase_db_320_320_dice_bce_0_4__hvr_0_4_1/predictions_np/_Image_11R_7.npy  \n",
            "  inflating: chase_db_320_320_dice_bce_0_4__hvr_0_4_1/predictions_np/_Image_13L_6.npy  \n",
            "  inflating: chase_db_320_320_dice_bce_0_4__hvr_0_4_1/predictions_np/_Image_11R_2.npy  \n",
            "  inflating: chase_db_320_320_dice_bce_0_4__hvr_0_4_1/predictions_np/_Image_11L_3.npy  \n",
            "  inflating: chase_db_320_320_dice_bce_0_4__hvr_0_4_1/predictions_np/_Image_11L_8.npy  \n",
            "  inflating: chase_db_320_320_dice_bce_0_4__hvr_0_4_1/predictions_np/_Image_11L_4.npy  \n",
            "  inflating: chase_db_320_320_dice_bce_0_4__hvr_0_4_1/predictions_np/_Image_13L_8.npy  \n",
            "  inflating: chase_db_320_320_dice_bce_0_4__hvr_0_4_1/predictions_np/_Image_11R_5.npy  \n",
            "  inflating: chase_db_320_320_dice_bce_0_4__hvr_0_4_1/predictions_np/_Image_12R_7.npy  \n",
            "  inflating: chase_db_320_320_dice_bce_0_4__hvr_0_4_1/predictions_np/_Image_11R_8.npy  \n",
            "  inflating: chase_db_320_320_dice_bce_0_4__hvr_0_4_1/predictions_np/_Image_12R_11.npy  \n",
            "  inflating: chase_db_320_320_dice_bce_0_4__hvr_0_4_1/predictions_np/_Image_11L_10.npy  \n",
            "  inflating: chase_db_320_320_dice_bce_0_4__hvr_0_4_1/predictions_np/_Image_12R_5.npy  \n",
            "  inflating: chase_db_320_320_dice_bce_0_4__hvr_0_4_1/predictions_np/_Image_12L_1.npy  \n",
            "  inflating: chase_db_320_320_dice_bce_0_4__hvr_0_4_1/predictions_np/_Image_13L_1.npy  \n",
            "  inflating: chase_db_320_320_dice_bce_0_4__hvr_0_4_1/predictions_np/_Image_12R_1.npy  \n",
            "  inflating: chase_db_320_320_dice_bce_0_4__hvr_0_4_1/predictions_np/_Image_12L_9.npy  \n",
            "  inflating: chase_db_320_320_dice_bce_0_4__hvr_0_4_1/predictions_np/_Image_11R_9.npy  \n",
            "  inflating: chase_db_320_320_dice_bce_0_4__hvr_0_4_1/predictions_np/_Image_12R_4.npy  \n",
            "  inflating: chase_db_320_320_dice_bce_0_4__hvr_0_4_1/predictions_np/_Image_12R_8.npy  \n",
            "  inflating: chase_db_320_320_dice_bce_0_4__hvr_0_4_1/predictions_np/_Image_12L_6.npy  \n",
            "  inflating: chase_db_320_320_dice_bce_0_4__hvr_0_4_1/predictions_np/_Image_13L_9.npy  \n",
            "  inflating: chase_db_320_320_dice_bce_0_4__hvr_0_4_1/predictions_np/_Image_13L_5.npy  \n",
            "  inflating: chase_db_320_320_dice_bce_0_4__hvr_0_4_1/predictions_np/_Image_12R_3.npy  \n",
            "  inflating: chase_db_320_320_dice_bce_0_4__hvr_0_4_1/predictions_np/_Image_13L_11.npy  \n",
            "  inflating: chase_db_320_320_dice_bce_0_4__hvr_0_4_1/predictions_np/_Image_12L_11.npy  \n",
            "  inflating: chase_db_320_320_dice_bce_0_4__hvr_0_4_1/predictions_np/_Image_11L_1.npy  \n",
            "  inflating: chase_db_320_320_dice_bce_0_4__hvr_0_4_1/predictions_np/_Image_11L_7.npy  \n",
            "  inflating: chase_db_320_320_dice_bce_0_4__hvr_0_4_1/predictions_np/_Image_12R_9.npy  \n",
            "  inflating: chase_db_320_320_dice_bce_0_4__hvr_0_4_1/predictions_np/_Image_12L_7.npy  \n",
            "  inflating: chase_db_320_320_dice_bce_0_4__hvr_0_4_1/predictions_np/_Image_12L_0.npy  \n",
            "  inflating: chase_db_320_320_dice_bce_0_4__hvr_0_4_1/predictions_np/_Image_11R_6.npy  \n",
            "  inflating: chase_db_320_320_dice_bce_0_4__hvr_0_4_1/predictions_np/_Image_11R_3.npy  \n",
            "  inflating: chase_db_320_320_dice_bce_0_4__hvr_0_4_1/predictions_np/_Image_11L_0.npy  \n",
            "  inflating: chase_db_320_320_dice_bce_0_4__hvr_0_4_1/predictions_np/_Image_11L_9.npy  \n",
            "   creating: chase_db_320_320_dice_bce_0_4__hvr_0_4_1/split_2/\n",
            "  inflating: chase_db_320_320_dice_bce_0_4__hvr_0_4_1/split_2/image_patches_320_320_train.csv  \n",
            "   creating: chase_db_320_320_dice_bce_0_4__hvr_0_4_1/split_2/test/\n",
            "   creating: chase_db_320_320_dice_bce_0_4__hvr_0_4_1/split_2/test/mask/\n",
            "  inflating: chase_db_320_320_dice_bce_0_4__hvr_0_4_1/split_2/test/mask/_Image_11R_3.png  \n",
            "  inflating: chase_db_320_320_dice_bce_0_4__hvr_0_4_1/split_2/test/mask/_Image_12R_1.png  \n",
            "  inflating: chase_db_320_320_dice_bce_0_4__hvr_0_4_1/split_2/test/mask/_Image_11L_6.png  \n",
            "  inflating: chase_db_320_320_dice_bce_0_4__hvr_0_4_1/split_2/test/mask/_Image_13L_9.png  \n",
            "  inflating: chase_db_320_320_dice_bce_0_4__hvr_0_4_1/split_2/test/mask/_Image_11R_9.png  \n",
            "  inflating: chase_db_320_320_dice_bce_0_4__hvr_0_4_1/split_2/test/mask/_Image_12L_9.png  \n",
            "  inflating: chase_db_320_320_dice_bce_0_4__hvr_0_4_1/split_2/test/mask/_Image_11R_0.png  \n",
            "  inflating: chase_db_320_320_dice_bce_0_4__hvr_0_4_1/split_2/test/mask/_Image_11L_2.png  \n",
            "  inflating: chase_db_320_320_dice_bce_0_4__hvr_0_4_1/split_2/test/mask/_Image_13L_3.png  \n",
            "  inflating: chase_db_320_320_dice_bce_0_4__hvr_0_4_1/split_2/test/mask/_Image_11R_8.png  \n",
            "  inflating: chase_db_320_320_dice_bce_0_4__hvr_0_4_1/split_2/test/mask/_Image_12L_7.png  \n",
            "  inflating: chase_db_320_320_dice_bce_0_4__hvr_0_4_1/split_2/test/mask/_Image_11L_1.png  \n",
            "  inflating: chase_db_320_320_dice_bce_0_4__hvr_0_4_1/split_2/test/mask/_Image_13L_8.png  \n",
            "  inflating: chase_db_320_320_dice_bce_0_4__hvr_0_4_1/split_2/test/mask/_Image_12R_2.png  \n",
            "  inflating: chase_db_320_320_dice_bce_0_4__hvr_0_4_1/split_2/test/mask/_Image_12L_3.png  \n",
            "  inflating: chase_db_320_320_dice_bce_0_4__hvr_0_4_1/split_2/test/mask/_Image_12R_4.png  \n",
            "  inflating: chase_db_320_320_dice_bce_0_4__hvr_0_4_1/split_2/test/mask/_Image_12L_11.png  \n",
            "  inflating: chase_db_320_320_dice_bce_0_4__hvr_0_4_1/split_2/test/mask/_Image_13L_0.png  \n",
            "  inflating: chase_db_320_320_dice_bce_0_4__hvr_0_4_1/split_2/test/mask/_Image_11R_1.png  \n",
            "  inflating: chase_db_320_320_dice_bce_0_4__hvr_0_4_1/split_2/test/mask/_Image_12R_7.png  \n",
            "  inflating: chase_db_320_320_dice_bce_0_4__hvr_0_4_1/split_2/test/mask/_Image_13L_6.png  \n",
            "  inflating: chase_db_320_320_dice_bce_0_4__hvr_0_4_1/split_2/test/mask/_Image_13L_4.png  \n",
            "  inflating: chase_db_320_320_dice_bce_0_4__hvr_0_4_1/split_2/test/mask/_Image_13L_10.png  \n",
            "  inflating: chase_db_320_320_dice_bce_0_4__hvr_0_4_1/split_2/test/mask/_Image_12L_1.png  \n",
            "  inflating: chase_db_320_320_dice_bce_0_4__hvr_0_4_1/split_2/test/mask/_Image_12R_8.png  \n",
            "  inflating: chase_db_320_320_dice_bce_0_4__hvr_0_4_1/split_2/test/mask/_Image_11R_10.png  \n",
            "  inflating: chase_db_320_320_dice_bce_0_4__hvr_0_4_1/split_2/test/mask/_Image_12L_8.png  \n",
            "  inflating: chase_db_320_320_dice_bce_0_4__hvr_0_4_1/split_2/test/mask/_Image_12L_5.png  \n",
            "  inflating: chase_db_320_320_dice_bce_0_4__hvr_0_4_1/split_2/test/mask/_Image_13L_5.png  \n",
            "  inflating: chase_db_320_320_dice_bce_0_4__hvr_0_4_1/split_2/test/mask/_Image_11L_9.png  \n",
            "  inflating: chase_db_320_320_dice_bce_0_4__hvr_0_4_1/split_2/test/mask/_Image_11L_4.png  \n",
            "  inflating: chase_db_320_320_dice_bce_0_4__hvr_0_4_1/split_2/test/mask/_Image_11L_7.png  \n",
            "  inflating: chase_db_320_320_dice_bce_0_4__hvr_0_4_1/split_2/test/mask/_Image_12L_10.png  \n",
            "  inflating: chase_db_320_320_dice_bce_0_4__hvr_0_4_1/split_2/test/mask/_Image_11L_0.png  \n",
            "  inflating: chase_db_320_320_dice_bce_0_4__hvr_0_4_1/split_2/test/mask/_Image_11L_8.png  \n",
            "  inflating: chase_db_320_320_dice_bce_0_4__hvr_0_4_1/split_2/test/mask/_Image_12R_11.png  \n",
            "  inflating: chase_db_320_320_dice_bce_0_4__hvr_0_4_1/split_2/test/mask/_Image_12L_4.png  \n",
            "  inflating: chase_db_320_320_dice_bce_0_4__hvr_0_4_1/split_2/test/mask/_Image_11L_5.png  \n",
            "  inflating: chase_db_320_320_dice_bce_0_4__hvr_0_4_1/split_2/test/mask/_Image_11R_11.png  \n",
            "  inflating: chase_db_320_320_dice_bce_0_4__hvr_0_4_1/split_2/test/mask/_Image_11R_2.png  \n",
            "  inflating: chase_db_320_320_dice_bce_0_4__hvr_0_4_1/split_2/test/mask/_Image_11L_10.png  \n",
            "  inflating: chase_db_320_320_dice_bce_0_4__hvr_0_4_1/split_2/test/mask/_Image_12R_10.png  \n",
            "  inflating: chase_db_320_320_dice_bce_0_4__hvr_0_4_1/split_2/test/mask/_Image_12R_5.png  \n",
            "  inflating: chase_db_320_320_dice_bce_0_4__hvr_0_4_1/split_2/test/mask/_Image_12R_0.png  \n",
            "  inflating: chase_db_320_320_dice_bce_0_4__hvr_0_4_1/split_2/test/mask/_Image_11R_7.png  \n",
            "  inflating: chase_db_320_320_dice_bce_0_4__hvr_0_4_1/split_2/test/mask/_Image_12R_9.png  \n",
            "  inflating: chase_db_320_320_dice_bce_0_4__hvr_0_4_1/split_2/test/mask/_Image_13L_2.png  \n",
            "  inflating: chase_db_320_320_dice_bce_0_4__hvr_0_4_1/split_2/test/mask/_Image_11L_3.png  \n",
            "  inflating: chase_db_320_320_dice_bce_0_4__hvr_0_4_1/split_2/test/mask/_Image_12R_6.png  \n",
            "  inflating: chase_db_320_320_dice_bce_0_4__hvr_0_4_1/split_2/test/mask/_Image_12L_6.png  \n",
            "  inflating: chase_db_320_320_dice_bce_0_4__hvr_0_4_1/split_2/test/mask/_Image_12R_3.png  \n",
            "  inflating: chase_db_320_320_dice_bce_0_4__hvr_0_4_1/split_2/test/mask/_Image_13L_11.png  \n",
            "  inflating: chase_db_320_320_dice_bce_0_4__hvr_0_4_1/split_2/test/mask/_Image_13L_1.png  \n",
            "  inflating: chase_db_320_320_dice_bce_0_4__hvr_0_4_1/split_2/test/mask/_Image_11R_4.png  \n",
            "  inflating: chase_db_320_320_dice_bce_0_4__hvr_0_4_1/split_2/test/mask/_Image_12L_0.png  \n",
            "  inflating: chase_db_320_320_dice_bce_0_4__hvr_0_4_1/split_2/test/mask/_Image_12L_2.png  \n",
            "  inflating: chase_db_320_320_dice_bce_0_4__hvr_0_4_1/split_2/test/mask/_Image_11R_6.png  \n",
            "  inflating: chase_db_320_320_dice_bce_0_4__hvr_0_4_1/split_2/test/mask/_Image_13L_7.png  \n",
            "  inflating: chase_db_320_320_dice_bce_0_4__hvr_0_4_1/split_2/test/mask/_Image_11R_5.png  \n",
            "  inflating: chase_db_320_320_dice_bce_0_4__hvr_0_4_1/split_2/test/mask/_Image_11L_11.png  \n",
            "   creating: chase_db_320_320_dice_bce_0_4__hvr_0_4_1/split_2/test/image/\n",
            "  inflating: chase_db_320_320_dice_bce_0_4__hvr_0_4_1/split_2/test/image/_Image_11R_3.png  \n",
            "  inflating: chase_db_320_320_dice_bce_0_4__hvr_0_4_1/split_2/test/image/_Image_12R_1.png  \n",
            "  inflating: chase_db_320_320_dice_bce_0_4__hvr_0_4_1/split_2/test/image/_Image_11L_6.png  \n",
            "  inflating: chase_db_320_320_dice_bce_0_4__hvr_0_4_1/split_2/test/image/_Image_13L_9.png  \n",
            "  inflating: chase_db_320_320_dice_bce_0_4__hvr_0_4_1/split_2/test/image/_Image_11R_9.png  \n",
            "  inflating: chase_db_320_320_dice_bce_0_4__hvr_0_4_1/split_2/test/image/_Image_12L_9.png  \n",
            "  inflating: chase_db_320_320_dice_bce_0_4__hvr_0_4_1/split_2/test/image/_Image_11R_0.png  \n",
            "  inflating: chase_db_320_320_dice_bce_0_4__hvr_0_4_1/split_2/test/image/_Image_11L_2.png  \n",
            "  inflating: chase_db_320_320_dice_bce_0_4__hvr_0_4_1/split_2/test/image/_Image_13L_3.png  \n",
            "  inflating: chase_db_320_320_dice_bce_0_4__hvr_0_4_1/split_2/test/image/_Image_11R_8.png  \n",
            "  inflating: chase_db_320_320_dice_bce_0_4__hvr_0_4_1/split_2/test/image/_Image_12L_7.png  \n",
            "  inflating: chase_db_320_320_dice_bce_0_4__hvr_0_4_1/split_2/test/image/_Image_11L_1.png  \n",
            "  inflating: chase_db_320_320_dice_bce_0_4__hvr_0_4_1/split_2/test/image/_Image_13L_8.png  \n",
            "  inflating: chase_db_320_320_dice_bce_0_4__hvr_0_4_1/split_2/test/image/_Image_12R_2.png  \n",
            "  inflating: chase_db_320_320_dice_bce_0_4__hvr_0_4_1/split_2/test/image/_Image_12L_3.png  \n",
            "  inflating: chase_db_320_320_dice_bce_0_4__hvr_0_4_1/split_2/test/image/_Image_12R_4.png  \n",
            "  inflating: chase_db_320_320_dice_bce_0_4__hvr_0_4_1/split_2/test/image/_Image_12L_11.png  \n",
            "  inflating: chase_db_320_320_dice_bce_0_4__hvr_0_4_1/split_2/test/image/_Image_13L_0.png  \n",
            "  inflating: chase_db_320_320_dice_bce_0_4__hvr_0_4_1/split_2/test/image/_Image_11R_1.png  \n",
            "  inflating: chase_db_320_320_dice_bce_0_4__hvr_0_4_1/split_2/test/image/_Image_12R_7.png  \n",
            "  inflating: chase_db_320_320_dice_bce_0_4__hvr_0_4_1/split_2/test/image/_Image_13L_6.png  \n",
            "  inflating: chase_db_320_320_dice_bce_0_4__hvr_0_4_1/split_2/test/image/_Image_13L_4.png  \n",
            "  inflating: chase_db_320_320_dice_bce_0_4__hvr_0_4_1/split_2/test/image/_Image_13L_10.png  \n",
            "  inflating: chase_db_320_320_dice_bce_0_4__hvr_0_4_1/split_2/test/image/_Image_12L_1.png  \n",
            "  inflating: chase_db_320_320_dice_bce_0_4__hvr_0_4_1/split_2/test/image/_Image_12R_8.png  \n",
            "  inflating: chase_db_320_320_dice_bce_0_4__hvr_0_4_1/split_2/test/image/_Image_11R_10.png  \n",
            "  inflating: chase_db_320_320_dice_bce_0_4__hvr_0_4_1/split_2/test/image/_Image_12L_8.png  \n",
            "  inflating: chase_db_320_320_dice_bce_0_4__hvr_0_4_1/split_2/test/image/_Image_12L_5.png  \n",
            "  inflating: chase_db_320_320_dice_bce_0_4__hvr_0_4_1/split_2/test/image/_Image_13L_5.png  \n",
            "  inflating: chase_db_320_320_dice_bce_0_4__hvr_0_4_1/split_2/test/image/_Image_11L_9.png  \n",
            "  inflating: chase_db_320_320_dice_bce_0_4__hvr_0_4_1/split_2/test/image/_Image_11L_4.png  \n",
            "  inflating: chase_db_320_320_dice_bce_0_4__hvr_0_4_1/split_2/test/image/_Image_11L_7.png  \n",
            "  inflating: chase_db_320_320_dice_bce_0_4__hvr_0_4_1/split_2/test/image/_Image_12L_10.png  \n",
            "  inflating: chase_db_320_320_dice_bce_0_4__hvr_0_4_1/split_2/test/image/_Image_11L_0.png  \n",
            "  inflating: chase_db_320_320_dice_bce_0_4__hvr_0_4_1/split_2/test/image/_Image_11L_8.png  \n",
            "  inflating: chase_db_320_320_dice_bce_0_4__hvr_0_4_1/split_2/test/image/_Image_12R_11.png  \n",
            "  inflating: chase_db_320_320_dice_bce_0_4__hvr_0_4_1/split_2/test/image/_Image_12L_4.png  \n",
            "  inflating: chase_db_320_320_dice_bce_0_4__hvr_0_4_1/split_2/test/image/_Image_11L_5.png  \n",
            "  inflating: chase_db_320_320_dice_bce_0_4__hvr_0_4_1/split_2/test/image/_Image_11R_11.png  \n",
            "  inflating: chase_db_320_320_dice_bce_0_4__hvr_0_4_1/split_2/test/image/_Image_11R_2.png  \n",
            "  inflating: chase_db_320_320_dice_bce_0_4__hvr_0_4_1/split_2/test/image/_Image_11L_10.png  \n",
            "  inflating: chase_db_320_320_dice_bce_0_4__hvr_0_4_1/split_2/test/image/_Image_12R_10.png  \n",
            "  inflating: chase_db_320_320_dice_bce_0_4__hvr_0_4_1/split_2/test/image/_Image_12R_5.png  \n",
            "  inflating: chase_db_320_320_dice_bce_0_4__hvr_0_4_1/split_2/test/image/_Image_12R_0.png  \n",
            "  inflating: chase_db_320_320_dice_bce_0_4__hvr_0_4_1/split_2/test/image/_Image_11R_7.png  \n",
            "  inflating: chase_db_320_320_dice_bce_0_4__hvr_0_4_1/split_2/test/image/_Image_12R_9.png  \n",
            "  inflating: chase_db_320_320_dice_bce_0_4__hvr_0_4_1/split_2/test/image/_Image_13L_2.png  \n",
            "  inflating: chase_db_320_320_dice_bce_0_4__hvr_0_4_1/split_2/test/image/_Image_11L_3.png  \n",
            "  inflating: chase_db_320_320_dice_bce_0_4__hvr_0_4_1/split_2/test/image/_Image_12R_6.png  \n",
            "  inflating: chase_db_320_320_dice_bce_0_4__hvr_0_4_1/split_2/test/image/_Image_12L_6.png  \n",
            "  inflating: chase_db_320_320_dice_bce_0_4__hvr_0_4_1/split_2/test/image/_Image_12R_3.png  \n",
            "  inflating: chase_db_320_320_dice_bce_0_4__hvr_0_4_1/split_2/test/image/_Image_13L_11.png  \n",
            "  inflating: chase_db_320_320_dice_bce_0_4__hvr_0_4_1/split_2/test/image/_Image_13L_1.png  \n",
            "  inflating: chase_db_320_320_dice_bce_0_4__hvr_0_4_1/split_2/test/image/_Image_11R_4.png  \n",
            "  inflating: chase_db_320_320_dice_bce_0_4__hvr_0_4_1/split_2/test/image/_Image_12L_0.png  \n",
            "  inflating: chase_db_320_320_dice_bce_0_4__hvr_0_4_1/split_2/test/image/_Image_12L_2.png  \n",
            "  inflating: chase_db_320_320_dice_bce_0_4__hvr_0_4_1/split_2/test/image/_Image_11R_6.png  \n",
            "  inflating: chase_db_320_320_dice_bce_0_4__hvr_0_4_1/split_2/test/image/_Image_13L_7.png  \n",
            "  inflating: chase_db_320_320_dice_bce_0_4__hvr_0_4_1/split_2/test/image/_Image_11R_5.png  \n",
            "  inflating: chase_db_320_320_dice_bce_0_4__hvr_0_4_1/split_2/test/image/_Image_11L_11.png  \n",
            "   creating: chase_db_320_320_dice_bce_0_4__hvr_0_4_1/split_2/reconstructed/\n",
            "   creating: chase_db_320_320_dice_bce_0_4__hvr_0_4_1/split_2/reconstructed/test/\n",
            "   creating: chase_db_320_320_dice_bce_0_4__hvr_0_4_1/split_2/reconstructed/test/mask/\n",
            "  inflating: chase_db_320_320_dice_bce_0_4__hvr_0_4_1/split_2/reconstructed/test/mask/Image_13L.png  \n",
            "  inflating: chase_db_320_320_dice_bce_0_4__hvr_0_4_1/split_2/reconstructed/test/mask/Image_12R.png  \n",
            "  inflating: chase_db_320_320_dice_bce_0_4__hvr_0_4_1/split_2/reconstructed/test/mask/Image_12L.png  \n",
            "  inflating: chase_db_320_320_dice_bce_0_4__hvr_0_4_1/split_2/reconstructed/test/mask/Image_11R.png  \n",
            "  inflating: chase_db_320_320_dice_bce_0_4__hvr_0_4_1/split_2/reconstructed/test/mask/Image_11L.png  \n",
            "   creating: chase_db_320_320_dice_bce_0_4__hvr_0_4_1/split_2/reconstructed/test/predictions_reconstructed/\n",
            "  inflating: chase_db_320_320_dice_bce_0_4__hvr_0_4_1/split_2/reconstructed/test/predictions_reconstructed/Image_13L.png  \n",
            "  inflating: chase_db_320_320_dice_bce_0_4__hvr_0_4_1/split_2/reconstructed/test/predictions_reconstructed/Image_12R.png  \n",
            "  inflating: chase_db_320_320_dice_bce_0_4__hvr_0_4_1/split_2/reconstructed/test/predictions_reconstructed/Image_12L.png  \n",
            "  inflating: chase_db_320_320_dice_bce_0_4__hvr_0_4_1/split_2/reconstructed/test/predictions_reconstructed/Image_11R.png  \n",
            "  inflating: chase_db_320_320_dice_bce_0_4__hvr_0_4_1/split_2/reconstructed/test/predictions_reconstructed/Image_11L.png  \n",
            "   creating: chase_db_320_320_dice_bce_0_4__hvr_0_4_1/split_2/reconstructed/test/image/\n",
            "  inflating: chase_db_320_320_dice_bce_0_4__hvr_0_4_1/split_2/reconstructed/test/image/Image_13L.png  \n",
            "  inflating: chase_db_320_320_dice_bce_0_4__hvr_0_4_1/split_2/reconstructed/test/image/Image_12R.png  \n",
            "  inflating: chase_db_320_320_dice_bce_0_4__hvr_0_4_1/split_2/reconstructed/test/image/Image_12L.png  \n",
            "  inflating: chase_db_320_320_dice_bce_0_4__hvr_0_4_1/split_2/reconstructed/test/image/Image_11R.png  \n",
            "  inflating: chase_db_320_320_dice_bce_0_4__hvr_0_4_1/split_2/reconstructed/test/image/Image_11L.png  \n",
            "  inflating: chase_db_320_320_dice_bce_0_4__hvr_0_4_1/split_2/image_patches_320_320_test.csv  \n",
            "   creating: chase_db_320_320_dice_bce_0_4__hvr_0_4_1/split_2/train/\n",
            "   creating: chase_db_320_320_dice_bce_0_4__hvr_0_4_1/split_2/train/mask/\n",
            "  inflating: chase_db_320_320_dice_bce_0_4__hvr_0_4_1/split_2/train/mask/_Image_01R_0_10.png  \n",
            "  inflating: chase_db_320_320_dice_bce_0_4__hvr_0_4_1/split_2/train/mask/_Image_03R_3_4.png  \n",
            "  inflating: chase_db_320_320_dice_bce_0_4__hvr_0_4_1/split_2/train/mask/_Image_03R_2_9.png  \n",
            "  inflating: chase_db_320_320_dice_bce_0_4__hvr_0_4_1/split_2/train/mask/_Image_14L_1_1.png  \n",
            "  inflating: chase_db_320_320_dice_bce_0_4__hvr_0_4_1/split_2/train/mask/_Image_10R_0_11.png  \n",
            "  inflating: chase_db_320_320_dice_bce_0_4__hvr_0_4_1/split_2/train/mask/_Image_03L_3_11.png  \n",
            "  inflating: chase_db_320_320_dice_bce_0_4__hvr_0_4_1/split_2/train/mask/_Image_09L_0_10.png  \n",
            "  inflating: chase_db_320_320_dice_bce_0_4__hvr_0_4_1/split_2/train/mask/_Image_05R_2_9.png  \n",
            "  inflating: chase_db_320_320_dice_bce_0_4__hvr_0_4_1/split_2/train/mask/_Image_01L_1_2.png  \n",
            "  inflating: chase_db_320_320_dice_bce_0_4__hvr_0_4_1/split_2/train/mask/_Image_05L_2_11.png  \n",
            "  inflating: chase_db_320_320_dice_bce_0_4__hvr_0_4_1/split_2/train/mask/_Image_09R_3_1.png  \n",
            "  inflating: chase_db_320_320_dice_bce_0_4__hvr_0_4_1/split_2/train/mask/_Image_03L_0_5.png  \n",
            "  inflating: chase_db_320_320_dice_bce_0_4__hvr_0_4_1/split_2/train/mask/_Image_06R_2_10.png  \n",
            "  inflating: chase_db_320_320_dice_bce_0_4__hvr_0_4_1/split_2/train/mask/_Image_07R_2_11.png  \n",
            "  inflating: chase_db_320_320_dice_bce_0_4__hvr_0_4_1/split_2/train/mask/_Image_04L_2_7.png  \n",
            "  inflating: chase_db_320_320_dice_bce_0_4__hvr_0_4_1/split_2/train/mask/_Image_02L_2_11.png  \n",
            "  inflating: chase_db_320_320_dice_bce_0_4__hvr_0_4_1/split_2/train/mask/_Image_01L_0_3.png  \n",
            "  inflating: chase_db_320_320_dice_bce_0_4__hvr_0_4_1/split_2/train/mask/_Image_03R_0_7.png  \n",
            "  inflating: chase_db_320_320_dice_bce_0_4__hvr_0_4_1/split_2/train/mask/_Image_08L_3_6.png  \n",
            "  inflating: chase_db_320_320_dice_bce_0_4__hvr_0_4_1/split_2/train/mask/_Image_03R_1_9.png  \n",
            "  inflating: chase_db_320_320_dice_bce_0_4__hvr_0_4_1/split_2/train/mask/_Image_10L_2_6.png  \n",
            "  inflating: chase_db_320_320_dice_bce_0_4__hvr_0_4_1/split_2/train/mask/_Image_02L_2_7.png  \n",
            "  inflating: chase_db_320_320_dice_bce_0_4__hvr_0_4_1/split_2/train/mask/_Image_05L_1_0.png  \n",
            "  inflating: chase_db_320_320_dice_bce_0_4__hvr_0_4_1/split_2/train/mask/_Image_07R_1_6.png  \n",
            "  inflating: chase_db_320_320_dice_bce_0_4__hvr_0_4_1/split_2/train/mask/_Image_04R_2_3.png  \n",
            "  inflating: chase_db_320_320_dice_bce_0_4__hvr_0_4_1/split_2/train/mask/_Image_04R_2_10.png  \n",
            "  inflating: chase_db_320_320_dice_bce_0_4__hvr_0_4_1/split_2/train/mask/_Image_14R_1_10.png  \n",
            "  inflating: chase_db_320_320_dice_bce_0_4__hvr_0_4_1/split_2/train/mask/_Image_09L_0_2.png  \n",
            "  inflating: chase_db_320_320_dice_bce_0_4__hvr_0_4_1/split_2/train/mask/_Image_03L_2_9.png  \n",
            "  inflating: chase_db_320_320_dice_bce_0_4__hvr_0_4_1/split_2/train/mask/_Image_08L_3_2.png  \n",
            "  inflating: chase_db_320_320_dice_bce_0_4__hvr_0_4_1/split_2/train/mask/_Image_08L_3_4.png  \n",
            "  inflating: chase_db_320_320_dice_bce_0_4__hvr_0_4_1/split_2/train/mask/_Image_14L_3_11.png  \n",
            "  inflating: chase_db_320_320_dice_bce_0_4__hvr_0_4_1/split_2/train/mask/_Image_03L_2_4.png  \n",
            "  inflating: chase_db_320_320_dice_bce_0_4__hvr_0_4_1/split_2/train/mask/_Image_04L_1_9.png  \n",
            "  inflating: chase_db_320_320_dice_bce_0_4__hvr_0_4_1/split_2/train/mask/_Image_10L_1_7.png  \n",
            "  inflating: chase_db_320_320_dice_bce_0_4__hvr_0_4_1/split_2/train/mask/_Image_06L_0_3.png  \n",
            "  inflating: chase_db_320_320_dice_bce_0_4__hvr_0_4_1/split_2/train/mask/_Image_09L_2_10.png  \n",
            "  inflating: chase_db_320_320_dice_bce_0_4__hvr_0_4_1/split_2/train/mask/_Image_03L_2_1.png  \n",
            "  inflating: chase_db_320_320_dice_bce_0_4__hvr_0_4_1/split_2/train/mask/_Image_01R_3_7.png  \n",
            "  inflating: chase_db_320_320_dice_bce_0_4__hvr_0_4_1/split_2/train/mask/_Image_01R_2_0.png  \n",
            "  inflating: chase_db_320_320_dice_bce_0_4__hvr_0_4_1/split_2/train/mask/_Image_04L_1_1.png  \n",
            "  inflating: chase_db_320_320_dice_bce_0_4__hvr_0_4_1/split_2/train/mask/_Image_07L_1_8.png  \n",
            "  inflating: chase_db_320_320_dice_bce_0_4__hvr_0_4_1/split_2/train/mask/_Image_08R_3_8.png  \n",
            "  inflating: chase_db_320_320_dice_bce_0_4__hvr_0_4_1/split_2/train/mask/_Image_06L_1_1.png  \n",
            "  inflating: chase_db_320_320_dice_bce_0_4__hvr_0_4_1/split_2/train/mask/_Image_04L_2_1.png  \n",
            "  inflating: chase_db_320_320_dice_bce_0_4__hvr_0_4_1/split_2/train/mask/_Image_10R_1_0.png  \n",
            "  inflating: chase_db_320_320_dice_bce_0_4__hvr_0_4_1/split_2/train/mask/_Image_03L_1_9.png  \n",
            "  inflating: chase_db_320_320_dice_bce_0_4__hvr_0_4_1/split_2/train/mask/_Image_01R_3_10.png  \n",
            "  inflating: chase_db_320_320_dice_bce_0_4__hvr_0_4_1/split_2/train/mask/_Image_01R_2_8.png  \n",
            "  inflating: chase_db_320_320_dice_bce_0_4__hvr_0_4_1/split_2/train/mask/_Image_04R_0_5.png  \n",
            "  inflating: chase_db_320_320_dice_bce_0_4__hvr_0_4_1/split_2/train/mask/_Image_02R_1_4.png  \n",
            "  inflating: chase_db_320_320_dice_bce_0_4__hvr_0_4_1/split_2/train/mask/_Image_08R_1_10.png  \n",
            "  inflating: chase_db_320_320_dice_bce_0_4__hvr_0_4_1/split_2/train/mask/_Image_03L_0_1.png  \n",
            "  inflating: chase_db_320_320_dice_bce_0_4__hvr_0_4_1/split_2/train/mask/_Image_04R_1_1.png  \n",
            "  inflating: chase_db_320_320_dice_bce_0_4__hvr_0_4_1/split_2/train/mask/_Image_03L_1_7.png  \n",
            "  inflating: chase_db_320_320_dice_bce_0_4__hvr_0_4_1/split_2/train/mask/_Image_01R_1_3.png  \n",
            "  inflating: chase_db_320_320_dice_bce_0_4__hvr_0_4_1/split_2/train/mask/_Image_07R_0_2.png  \n",
            "  inflating: chase_db_320_320_dice_bce_0_4__hvr_0_4_1/split_2/train/mask/_Image_10L_3_5.png  \n",
            "  inflating: chase_db_320_320_dice_bce_0_4__hvr_0_4_1/split_2/train/mask/_Image_13R_0_9.png  \n",
            "  inflating: chase_db_320_320_dice_bce_0_4__hvr_0_4_1/split_2/train/mask/_Image_05R_2_1.png  \n",
            "  inflating: chase_db_320_320_dice_bce_0_4__hvr_0_4_1/split_2/train/mask/_Image_05R_3_0.png  \n",
            "  inflating: chase_db_320_320_dice_bce_0_4__hvr_0_4_1/split_2/train/mask/_Image_10R_1_7.png  \n",
            "  inflating: chase_db_320_320_dice_bce_0_4__hvr_0_4_1/split_2/train/mask/_Image_01L_2_9.png  \n",
            "  inflating: chase_db_320_320_dice_bce_0_4__hvr_0_4_1/split_2/train/mask/_Image_13R_2_2.png  \n",
            "  inflating: chase_db_320_320_dice_bce_0_4__hvr_0_4_1/split_2/train/mask/_Image_02L_0_6.png  \n",
            "  inflating: chase_db_320_320_dice_bce_0_4__hvr_0_4_1/split_2/train/mask/_Image_07R_2_8.png  \n",
            "  inflating: chase_db_320_320_dice_bce_0_4__hvr_0_4_1/split_2/train/mask/_Image_01L_1_1.png  \n",
            "  inflating: chase_db_320_320_dice_bce_0_4__hvr_0_4_1/split_2/train/mask/_Image_09L_0_6.png  \n",
            "  inflating: chase_db_320_320_dice_bce_0_4__hvr_0_4_1/split_2/train/mask/_Image_09R_2_9.png  \n",
            "  inflating: chase_db_320_320_dice_bce_0_4__hvr_0_4_1/split_2/train/mask/_Image_05R_1_1.png  \n",
            "  inflating: chase_db_320_320_dice_bce_0_4__hvr_0_4_1/split_2/train/mask/_Image_05L_0_8.png  \n",
            "  inflating: chase_db_320_320_dice_bce_0_4__hvr_0_4_1/split_2/train/mask/_Image_08R_3_10.png  \n",
            "  inflating: chase_db_320_320_dice_bce_0_4__hvr_0_4_1/split_2/train/mask/_Image_03R_3_2.png  \n",
            "  inflating: chase_db_320_320_dice_bce_0_4__hvr_0_4_1/split_2/train/mask/_Image_03R_2_4.png  \n",
            "  inflating: chase_db_320_320_dice_bce_0_4__hvr_0_4_1/split_2/train/mask/_Image_13R_2_1.png  \n",
            "  inflating: chase_db_320_320_dice_bce_0_4__hvr_0_4_1/split_2/train/mask/_Image_02L_0_8.png  \n",
            "  inflating: chase_db_320_320_dice_bce_0_4__hvr_0_4_1/split_2/train/mask/_Image_01L_1_6.png  \n",
            "  inflating: chase_db_320_320_dice_bce_0_4__hvr_0_4_1/split_2/train/mask/_Image_09L_1_5.png  \n",
            "  inflating: chase_db_320_320_dice_bce_0_4__hvr_0_4_1/split_2/train/mask/_Image_07L_3_8.png  \n",
            "  inflating: chase_db_320_320_dice_bce_0_4__hvr_0_4_1/split_2/train/mask/_Image_05R_1_0.png  \n",
            "  inflating: chase_db_320_320_dice_bce_0_4__hvr_0_4_1/split_2/train/mask/_Image_13R_2_5.png  \n",
            "  inflating: chase_db_320_320_dice_bce_0_4__hvr_0_4_1/split_2/train/mask/_Image_02R_2_5.png  \n",
            "  inflating: chase_db_320_320_dice_bce_0_4__hvr_0_4_1/split_2/train/mask/_Image_05R_2_3.png  \n",
            "  inflating: chase_db_320_320_dice_bce_0_4__hvr_0_4_1/split_2/train/mask/_Image_08R_2_1.png  \n",
            "  inflating: chase_db_320_320_dice_bce_0_4__hvr_0_4_1/split_2/train/mask/_Image_01L_1_9.png  \n",
            "  inflating: chase_db_320_320_dice_bce_0_4__hvr_0_4_1/split_2/train/mask/_Image_05L_0_10.png  \n",
            "  inflating: chase_db_320_320_dice_bce_0_4__hvr_0_4_1/split_2/train/mask/_Image_07L_1_10.png  \n",
            "  inflating: chase_db_320_320_dice_bce_0_4__hvr_0_4_1/split_2/train/mask/_Image_02R_3_10.png  \n",
            "  inflating: chase_db_320_320_dice_bce_0_4__hvr_0_4_1/split_2/train/mask/_Image_08L_1_1.png  \n",
            "  inflating: chase_db_320_320_dice_bce_0_4__hvr_0_4_1/split_2/train/mask/_Image_02R_3_1.png  \n",
            "  inflating: chase_db_320_320_dice_bce_0_4__hvr_0_4_1/split_2/train/mask/_Image_02L_2_2.png  \n",
            "  inflating: chase_db_320_320_dice_bce_0_4__hvr_0_4_1/split_2/train/mask/_Image_02L_0_3.png  \n",
            "  inflating: chase_db_320_320_dice_bce_0_4__hvr_0_4_1/split_2/train/mask/_Image_07L_1_2.png  \n",
            "  inflating: chase_db_320_320_dice_bce_0_4__hvr_0_4_1/split_2/train/mask/_Image_09R_1_4.png  \n",
            "  inflating: chase_db_320_320_dice_bce_0_4__hvr_0_4_1/split_2/train/mask/_Image_13R_1_9.png  \n",
            "  inflating: chase_db_320_320_dice_bce_0_4__hvr_0_4_1/split_2/train/mask/_Image_14L_3_10.png  \n",
            "  inflating: chase_db_320_320_dice_bce_0_4__hvr_0_4_1/split_2/train/mask/_Image_08R_2_4.png  \n",
            "  inflating: chase_db_320_320_dice_bce_0_4__hvr_0_4_1/split_2/train/mask/_Image_07R_2_2.png  \n",
            "  inflating: chase_db_320_320_dice_bce_0_4__hvr_0_4_1/split_2/train/mask/_Image_07R_0_10.png  \n",
            "  inflating: chase_db_320_320_dice_bce_0_4__hvr_0_4_1/split_2/train/mask/_Image_09L_2_8.png  \n",
            "  inflating: chase_db_320_320_dice_bce_0_4__hvr_0_4_1/split_2/train/mask/_Image_13R_3_4.png  \n",
            "  inflating: chase_db_320_320_dice_bce_0_4__hvr_0_4_1/split_2/train/mask/_Image_04R_1_0.png  \n",
            "  inflating: chase_db_320_320_dice_bce_0_4__hvr_0_4_1/split_2/train/mask/_Image_14R_0_9.png  \n",
            "  inflating: chase_db_320_320_dice_bce_0_4__hvr_0_4_1/split_2/train/mask/_Image_10L_0_6.png  \n",
            "  inflating: chase_db_320_320_dice_bce_0_4__hvr_0_4_1/split_2/train/mask/_Image_05R_1_8.png  \n",
            "  inflating: chase_db_320_320_dice_bce_0_4__hvr_0_4_1/split_2/train/mask/_Image_10L_3_3.png  \n",
            "  inflating: chase_db_320_320_dice_bce_0_4__hvr_0_4_1/split_2/train/mask/_Image_08R_1_2.png  \n",
            "  inflating: chase_db_320_320_dice_bce_0_4__hvr_0_4_1/split_2/train/mask/_Image_02L_3_11.png  \n",
            "  inflating: chase_db_320_320_dice_bce_0_4__hvr_0_4_1/split_2/train/mask/_Image_07R_0_4.png  \n",
            "  inflating: chase_db_320_320_dice_bce_0_4__hvr_0_4_1/split_2/train/mask/_Image_01R_2_2.png  \n",
            "  inflating: chase_db_320_320_dice_bce_0_4__hvr_0_4_1/split_2/train/mask/_Image_04L_1_5.png  \n",
            "  inflating: chase_db_320_320_dice_bce_0_4__hvr_0_4_1/split_2/train/mask/_Image_08R_3_6.png  \n",
            "  inflating: chase_db_320_320_dice_bce_0_4__hvr_0_4_1/split_2/train/mask/_Image_04L_2_5.png  \n",
            "  inflating: chase_db_320_320_dice_bce_0_4__hvr_0_4_1/split_2/train/mask/_Image_10L_3_10.png  \n",
            "  inflating: chase_db_320_320_dice_bce_0_4__hvr_0_4_1/split_2/train/mask/_Image_10R_3_9.png  \n",
            "  inflating: chase_db_320_320_dice_bce_0_4__hvr_0_4_1/split_2/train/mask/_Image_06L_2_9.png  \n",
            "  inflating: chase_db_320_320_dice_bce_0_4__hvr_0_4_1/split_2/train/mask/_Image_07L_2_10.png  \n",
            "  inflating: chase_db_320_320_dice_bce_0_4__hvr_0_4_1/split_2/train/mask/_Image_10R_0_10.png  \n",
            "  inflating: chase_db_320_320_dice_bce_0_4__hvr_0_4_1/split_2/train/mask/_Image_09L_3_2.png  \n",
            "  inflating: chase_db_320_320_dice_bce_0_4__hvr_0_4_1/split_2/train/mask/_Image_03R_1_6.png  \n",
            "  inflating: chase_db_320_320_dice_bce_0_4__hvr_0_4_1/split_2/train/mask/_Image_05L_1_3.png  \n",
            "  inflating: chase_db_320_320_dice_bce_0_4__hvr_0_4_1/split_2/train/mask/_Image_08R_3_3.png  \n",
            "  inflating: chase_db_320_320_dice_bce_0_4__hvr_0_4_1/split_2/train/mask/_Image_07L_2_0.png  \n",
            "  inflating: chase_db_320_320_dice_bce_0_4__hvr_0_4_1/split_2/train/mask/_Image_14L_2_2.png  \n",
            "  inflating: chase_db_320_320_dice_bce_0_4__hvr_0_4_1/split_2/train/mask/_Image_03L_1_2.png  \n",
            "  inflating: chase_db_320_320_dice_bce_0_4__hvr_0_4_1/split_2/train/mask/_Image_03L_2_0.png  \n",
            "  inflating: chase_db_320_320_dice_bce_0_4__hvr_0_4_1/split_2/train/mask/_Image_09L_1_2.png  \n",
            "  inflating: chase_db_320_320_dice_bce_0_4__hvr_0_4_1/split_2/train/mask/_Image_05R_3_5.png  \n",
            "  inflating: chase_db_320_320_dice_bce_0_4__hvr_0_4_1/split_2/train/mask/_Image_07R_0_8.png  \n",
            "  inflating: chase_db_320_320_dice_bce_0_4__hvr_0_4_1/split_2/train/mask/_Image_04R_0_3.png  \n",
            "  inflating: chase_db_320_320_dice_bce_0_4__hvr_0_4_1/split_2/train/mask/_Image_10R_3_5.png  \n",
            "  inflating: chase_db_320_320_dice_bce_0_4__hvr_0_4_1/split_2/train/mask/_Image_07L_1_11.png  \n",
            "  inflating: chase_db_320_320_dice_bce_0_4__hvr_0_4_1/split_2/train/mask/_Image_08L_2_0.png  \n",
            "  inflating: chase_db_320_320_dice_bce_0_4__hvr_0_4_1/split_2/train/mask/_Image_10L_0_7.png  \n",
            "  inflating: chase_db_320_320_dice_bce_0_4__hvr_0_4_1/split_2/train/mask/_Image_02R_1_9.png  \n",
            "  inflating: chase_db_320_320_dice_bce_0_4__hvr_0_4_1/split_2/train/mask/_Image_10L_0_1.png  \n",
            "  inflating: chase_db_320_320_dice_bce_0_4__hvr_0_4_1/split_2/train/mask/_Image_06R_1_10.png  \n",
            "  inflating: chase_db_320_320_dice_bce_0_4__hvr_0_4_1/split_2/train/mask/_Image_04R_3_7.png  \n",
            "  inflating: chase_db_320_320_dice_bce_0_4__hvr_0_4_1/split_2/train/mask/_Image_01L_1_5.png  \n",
            "  inflating: chase_db_320_320_dice_bce_0_4__hvr_0_4_1/split_2/train/mask/_Image_01R_2_10.png  \n",
            "  inflating: chase_db_320_320_dice_bce_0_4__hvr_0_4_1/split_2/train/mask/_Image_02L_2_1.png  \n",
            "  inflating: chase_db_320_320_dice_bce_0_4__hvr_0_4_1/split_2/train/mask/_Image_05R_0_8.png  \n",
            "  inflating: chase_db_320_320_dice_bce_0_4__hvr_0_4_1/split_2/train/mask/_Image_06R_1_5.png  \n",
            "  inflating: chase_db_320_320_dice_bce_0_4__hvr_0_4_1/split_2/train/mask/_Image_06L_0_4.png  \n",
            "  inflating: chase_db_320_320_dice_bce_0_4__hvr_0_4_1/split_2/train/mask/_Image_03R_1_8.png  \n",
            "  inflating: chase_db_320_320_dice_bce_0_4__hvr_0_4_1/split_2/train/mask/_Image_04L_0_11.png  \n",
            "  inflating: chase_db_320_320_dice_bce_0_4__hvr_0_4_1/split_2/train/mask/_Image_14L_0_3.png  \n",
            "  inflating: chase_db_320_320_dice_bce_0_4__hvr_0_4_1/split_2/train/mask/_Image_08R_2_9.png  \n",
            "  inflating: chase_db_320_320_dice_bce_0_4__hvr_0_4_1/split_2/train/mask/_Image_02R_3_0.png  \n",
            "  inflating: chase_db_320_320_dice_bce_0_4__hvr_0_4_1/split_2/train/mask/_Image_05L_0_7.png  \n",
            "  inflating: chase_db_320_320_dice_bce_0_4__hvr_0_4_1/split_2/train/mask/_Image_10L_1_5.png  \n",
            "  inflating: chase_db_320_320_dice_bce_0_4__hvr_0_4_1/split_2/train/mask/_Image_07R_3_2.png  \n",
            "  inflating: chase_db_320_320_dice_bce_0_4__hvr_0_4_1/split_2/train/mask/_Image_07R_3_3.png  \n",
            "  inflating: chase_db_320_320_dice_bce_0_4__hvr_0_4_1/split_2/train/mask/_Image_04R_1_5.png  \n",
            "  inflating: chase_db_320_320_dice_bce_0_4__hvr_0_4_1/split_2/train/mask/_Image_06L_0_1.png  \n",
            "  inflating: chase_db_320_320_dice_bce_0_4__hvr_0_4_1/split_2/train/mask/_Image_03L_1_8.png  \n",
            "  inflating: chase_db_320_320_dice_bce_0_4__hvr_0_4_1/split_2/train/mask/_Image_14R_3_1.png  \n",
            "  inflating: chase_db_320_320_dice_bce_0_4__hvr_0_4_1/split_2/train/mask/_Image_03R_1_10.png  \n",
            "  inflating: chase_db_320_320_dice_bce_0_4__hvr_0_4_1/split_2/train/mask/_Image_01L_3_11.png  \n",
            "  inflating: chase_db_320_320_dice_bce_0_4__hvr_0_4_1/split_2/train/mask/_Image_13R_3_7.png  \n",
            "  inflating: chase_db_320_320_dice_bce_0_4__hvr_0_4_1/split_2/train/mask/_Image_04L_1_6.png  \n",
            "  inflating: chase_db_320_320_dice_bce_0_4__hvr_0_4_1/split_2/train/mask/_Image_08L_0_7.png  \n",
            "  inflating: chase_db_320_320_dice_bce_0_4__hvr_0_4_1/split_2/train/mask/_Image_03L_3_6.png  \n",
            "  inflating: chase_db_320_320_dice_bce_0_4__hvr_0_4_1/split_2/train/mask/_Image_09L_3_7.png  \n",
            "  inflating: chase_db_320_320_dice_bce_0_4__hvr_0_4_1/split_2/train/mask/_Image_13R_3_11.png  \n",
            "  inflating: chase_db_320_320_dice_bce_0_4__hvr_0_4_1/split_2/train/mask/_Image_14L_3_6.png  \n",
            "  inflating: chase_db_320_320_dice_bce_0_4__hvr_0_4_1/split_2/train/mask/_Image_06R_2_4.png  \n",
            "  inflating: chase_db_320_320_dice_bce_0_4__hvr_0_4_1/split_2/train/mask/_Image_05R_0_5.png  \n",
            "  inflating: chase_db_320_320_dice_bce_0_4__hvr_0_4_1/split_2/train/mask/_Image_08L_1_11.png  \n",
            "  inflating: chase_db_320_320_dice_bce_0_4__hvr_0_4_1/split_2/train/mask/_Image_10L_2_10.png  \n",
            "  inflating: chase_db_320_320_dice_bce_0_4__hvr_0_4_1/split_2/train/mask/_Image_05R_2_2.png  \n",
            "  inflating: chase_db_320_320_dice_bce_0_4__hvr_0_4_1/split_2/train/mask/_Image_08L_1_9.png  \n",
            "  inflating: chase_db_320_320_dice_bce_0_4__hvr_0_4_1/split_2/train/mask/_Image_09L_1_4.png  \n",
            "  inflating: chase_db_320_320_dice_bce_0_4__hvr_0_4_1/split_2/train/mask/_Image_08L_2_3.png  \n",
            "  inflating: chase_db_320_320_dice_bce_0_4__hvr_0_4_1/split_2/train/mask/_Image_06R_0_5.png  \n",
            "  inflating: chase_db_320_320_dice_bce_0_4__hvr_0_4_1/split_2/train/mask/_Image_04R_1_9.png  \n",
            "  inflating: chase_db_320_320_dice_bce_0_4__hvr_0_4_1/split_2/train/mask/_Image_04L_3_0.png  \n",
            "  inflating: chase_db_320_320_dice_bce_0_4__hvr_0_4_1/split_2/train/mask/_Image_01R_1_9.png  \n",
            "  inflating: chase_db_320_320_dice_bce_0_4__hvr_0_4_1/split_2/train/mask/_Image_02R_0_2.png  \n",
            "  inflating: chase_db_320_320_dice_bce_0_4__hvr_0_4_1/split_2/train/mask/_Image_13R_3_3.png  \n",
            "  inflating: chase_db_320_320_dice_bce_0_4__hvr_0_4_1/split_2/train/mask/_Image_07L_2_11.png  \n",
            "  inflating: chase_db_320_320_dice_bce_0_4__hvr_0_4_1/split_2/train/mask/_Image_09R_1_8.png  \n",
            "  inflating: chase_db_320_320_dice_bce_0_4__hvr_0_4_1/split_2/train/mask/_Image_05L_2_6.png  \n",
            "  inflating: chase_db_320_320_dice_bce_0_4__hvr_0_4_1/split_2/train/mask/_Image_08R_2_6.png  \n",
            "  inflating: chase_db_320_320_dice_bce_0_4__hvr_0_4_1/split_2/train/mask/_Image_06L_3_7.png  \n",
            "  inflating: chase_db_320_320_dice_bce_0_4__hvr_0_4_1/split_2/train/mask/_Image_10L_3_1.png  \n",
            "  inflating: chase_db_320_320_dice_bce_0_4__hvr_0_4_1/split_2/train/mask/_Image_02R_0_8.png  \n",
            "  inflating: chase_db_320_320_dice_bce_0_4__hvr_0_4_1/split_2/train/mask/_Image_07L_0_8.png  \n",
            "  inflating: chase_db_320_320_dice_bce_0_4__hvr_0_4_1/split_2/train/mask/_Image_08L_2_2.png  \n",
            "  inflating: chase_db_320_320_dice_bce_0_4__hvr_0_4_1/split_2/train/mask/_Image_03R_0_6.png  \n",
            "  inflating: chase_db_320_320_dice_bce_0_4__hvr_0_4_1/split_2/train/mask/_Image_09L_1_10.png  \n",
            "  inflating: chase_db_320_320_dice_bce_0_4__hvr_0_4_1/split_2/train/mask/_Image_06L_1_0.png  \n",
            "  inflating: chase_db_320_320_dice_bce_0_4__hvr_0_4_1/split_2/train/mask/_Image_09R_0_7.png  \n",
            "  inflating: chase_db_320_320_dice_bce_0_4__hvr_0_4_1/split_2/train/mask/_Image_07L_3_4.png  \n",
            "  inflating: chase_db_320_320_dice_bce_0_4__hvr_0_4_1/split_2/train/mask/_Image_13R_1_7.png  \n",
            "  inflating: chase_db_320_320_dice_bce_0_4__hvr_0_4_1/split_2/train/mask/_Image_14R_1_3.png  \n",
            "  inflating: chase_db_320_320_dice_bce_0_4__hvr_0_4_1/split_2/train/mask/_Image_03L_2_3.png  \n",
            "  inflating: chase_db_320_320_dice_bce_0_4__hvr_0_4_1/split_2/train/mask/_Image_10R_1_9.png  \n",
            "  inflating: chase_db_320_320_dice_bce_0_4__hvr_0_4_1/split_2/train/mask/_Image_10L_1_10.png  \n",
            "  inflating: chase_db_320_320_dice_bce_0_4__hvr_0_4_1/split_2/train/mask/_Image_06L_1_3.png  \n",
            "  inflating: chase_db_320_320_dice_bce_0_4__hvr_0_4_1/split_2/train/mask/_Image_07L_2_8.png  \n",
            "  inflating: chase_db_320_320_dice_bce_0_4__hvr_0_4_1/split_2/train/mask/_Image_10R_1_10.png  \n",
            "  inflating: chase_db_320_320_dice_bce_0_4__hvr_0_4_1/split_2/train/mask/_Image_13R_3_10.png  \n",
            "  inflating: chase_db_320_320_dice_bce_0_4__hvr_0_4_1/split_2/train/mask/_Image_01L_0_9.png  \n",
            "  inflating: chase_db_320_320_dice_bce_0_4__hvr_0_4_1/split_2/train/mask/_Image_08R_3_5.png  \n",
            "  inflating: chase_db_320_320_dice_bce_0_4__hvr_0_4_1/split_2/train/mask/_Image_07R_2_4.png  \n",
            "  inflating: chase_db_320_320_dice_bce_0_4__hvr_0_4_1/split_2/train/mask/_Image_09L_3_4.png  \n",
            "  inflating: chase_db_320_320_dice_bce_0_4__hvr_0_4_1/split_2/train/mask/_Image_10R_0_9.png  \n",
            "  inflating: chase_db_320_320_dice_bce_0_4__hvr_0_4_1/split_2/train/mask/_Image_08R_1_1.png  \n",
            "  inflating: chase_db_320_320_dice_bce_0_4__hvr_0_4_1/split_2/train/mask/_Image_01R_1_8.png  \n",
            "  inflating: chase_db_320_320_dice_bce_0_4__hvr_0_4_1/split_2/train/mask/_Image_07R_1_1.png  \n",
            "  inflating: chase_db_320_320_dice_bce_0_4__hvr_0_4_1/split_2/train/mask/_Image_08R_0_7.png  \n",
            "  inflating: chase_db_320_320_dice_bce_0_4__hvr_0_4_1/split_2/train/mask/_Image_03L_1_1.png  \n",
            "  inflating: chase_db_320_320_dice_bce_0_4__hvr_0_4_1/split_2/train/mask/_Image_05L_3_3.png  \n",
            "  inflating: chase_db_320_320_dice_bce_0_4__hvr_0_4_1/split_2/train/mask/_Image_14L_3_4.png  \n",
            "  inflating: chase_db_320_320_dice_bce_0_4__hvr_0_4_1/split_2/train/mask/_Image_08R_3_9.png  \n",
            "  inflating: chase_db_320_320_dice_bce_0_4__hvr_0_4_1/split_2/train/mask/_Image_05R_1_3.png  \n",
            "  inflating: chase_db_320_320_dice_bce_0_4__hvr_0_4_1/split_2/train/mask/_Image_05L_1_6.png  \n",
            "  inflating: chase_db_320_320_dice_bce_0_4__hvr_0_4_1/split_2/train/mask/_Image_09R_1_5.png  \n",
            "  inflating: chase_db_320_320_dice_bce_0_4__hvr_0_4_1/split_2/train/mask/_Image_10R_3_2.png  \n",
            "  inflating: chase_db_320_320_dice_bce_0_4__hvr_0_4_1/split_2/train/mask/_Image_02R_2_4.png  \n",
            "  inflating: chase_db_320_320_dice_bce_0_4__hvr_0_4_1/split_2/train/mask/_Image_09L_1_8.png  \n",
            "  inflating: chase_db_320_320_dice_bce_0_4__hvr_0_4_1/split_2/train/mask/_Image_07L_0_0.png  \n",
            "  inflating: chase_db_320_320_dice_bce_0_4__hvr_0_4_1/split_2/train/mask/_Image_04R_0_10.png  \n",
            "  inflating: chase_db_320_320_dice_bce_0_4__hvr_0_4_1/split_2/train/mask/_Image_10L_1_11.png  \n",
            "  inflating: chase_db_320_320_dice_bce_0_4__hvr_0_4_1/split_2/train/mask/_Image_01R_1_1.png  \n",
            "  inflating: chase_db_320_320_dice_bce_0_4__hvr_0_4_1/split_2/train/mask/_Image_05L_2_3.png  \n",
            "  inflating: chase_db_320_320_dice_bce_0_4__hvr_0_4_1/split_2/train/mask/_Image_09L_2_1.png  \n",
            "  inflating: chase_db_320_320_dice_bce_0_4__hvr_0_4_1/split_2/train/mask/_Image_10R_1_2.png  \n",
            "  inflating: chase_db_320_320_dice_bce_0_4__hvr_0_4_1/split_2/train/mask/_Image_01L_3_7.png  \n",
            "  inflating: chase_db_320_320_dice_bce_0_4__hvr_0_4_1/split_2/train/mask/_Image_05L_2_1.png  \n",
            "  inflating: chase_db_320_320_dice_bce_0_4__hvr_0_4_1/split_2/train/mask/_Image_07R_1_2.png  \n",
            "  inflating: chase_db_320_320_dice_bce_0_4__hvr_0_4_1/split_2/train/mask/_Image_10L_0_10.png  \n",
            "  inflating: chase_db_320_320_dice_bce_0_4__hvr_0_4_1/split_2/train/mask/_Image_14L_0_11.png  \n",
            "  inflating: chase_db_320_320_dice_bce_0_4__hvr_0_4_1/split_2/train/mask/_Image_06L_2_8.png  \n",
            "  inflating: chase_db_320_320_dice_bce_0_4__hvr_0_4_1/split_2/train/mask/_Image_10R_3_0.png  \n",
            "  inflating: chase_db_320_320_dice_bce_0_4__hvr_0_4_1/split_2/train/mask/_Image_05L_0_11.png  \n",
            "  inflating: chase_db_320_320_dice_bce_0_4__hvr_0_4_1/split_2/train/mask/_Image_05R_1_7.png  \n",
            "  inflating: chase_db_320_320_dice_bce_0_4__hvr_0_4_1/split_2/train/mask/_Image_04R_0_9.png  \n",
            "  inflating: chase_db_320_320_dice_bce_0_4__hvr_0_4_1/split_2/train/mask/_Image_07R_1_10.png  \n",
            "  inflating: chase_db_320_320_dice_bce_0_4__hvr_0_4_1/split_2/train/mask/_Image_14R_0_10.png  \n",
            "  inflating: chase_db_320_320_dice_bce_0_4__hvr_0_4_1/split_2/train/mask/_Image_08R_0_6.png  \n",
            "  inflating: chase_db_320_320_dice_bce_0_4__hvr_0_4_1/split_2/train/mask/_Image_14L_0_7.png  \n",
            "  inflating: chase_db_320_320_dice_bce_0_4__hvr_0_4_1/split_2/train/mask/_Image_08L_3_8.png  \n",
            "  inflating: chase_db_320_320_dice_bce_0_4__hvr_0_4_1/split_2/train/mask/_Image_02L_0_1.png  \n",
            "  inflating: chase_db_320_320_dice_bce_0_4__hvr_0_4_1/split_2/train/mask/_Image_03L_2_2.png  \n",
            "  inflating: chase_db_320_320_dice_bce_0_4__hvr_0_4_1/split_2/train/mask/_Image_04L_1_2.png  \n",
            "  inflating: chase_db_320_320_dice_bce_0_4__hvr_0_4_1/split_2/train/mask/_Image_06L_2_3.png  \n",
            "  inflating: chase_db_320_320_dice_bce_0_4__hvr_0_4_1/split_2/train/mask/_Image_14L_0_10.png  \n",
            "  inflating: chase_db_320_320_dice_bce_0_4__hvr_0_4_1/split_2/train/mask/_Image_06R_0_1.png  \n",
            "  inflating: chase_db_320_320_dice_bce_0_4__hvr_0_4_1/split_2/train/mask/_Image_09L_0_4.png  \n",
            "  inflating: chase_db_320_320_dice_bce_0_4__hvr_0_4_1/split_2/train/mask/_Image_01L_0_1.png  \n",
            "  inflating: chase_db_320_320_dice_bce_0_4__hvr_0_4_1/split_2/train/mask/_Image_07L_2_4.png  \n",
            "  inflating: chase_db_320_320_dice_bce_0_4__hvr_0_4_1/split_2/train/mask/_Image_01L_3_8.png  \n",
            "  inflating: chase_db_320_320_dice_bce_0_4__hvr_0_4_1/split_2/train/mask/_Image_07R_1_8.png  \n",
            "  inflating: chase_db_320_320_dice_bce_0_4__hvr_0_4_1/split_2/train/mask/_Image_08R_1_11.png  \n",
            "  inflating: chase_db_320_320_dice_bce_0_4__hvr_0_4_1/split_2/train/mask/_Image_02R_0_10.png  \n",
            "  inflating: chase_db_320_320_dice_bce_0_4__hvr_0_4_1/split_2/train/mask/_Image_02L_3_2.png  \n",
            "  inflating: chase_db_320_320_dice_bce_0_4__hvr_0_4_1/split_2/train/mask/_Image_02R_3_5.png  \n",
            "  inflating: chase_db_320_320_dice_bce_0_4__hvr_0_4_1/split_2/train/mask/_Image_09R_3_4.png  \n",
            "  inflating: chase_db_320_320_dice_bce_0_4__hvr_0_4_1/split_2/train/mask/_Image_14L_1_0.png  \n",
            "  inflating: chase_db_320_320_dice_bce_0_4__hvr_0_4_1/split_2/train/mask/_Image_13R_2_7.png  \n",
            "  inflating: chase_db_320_320_dice_bce_0_4__hvr_0_4_1/split_2/train/mask/_Image_02L_0_4.png  \n",
            "  inflating: chase_db_320_320_dice_bce_0_4__hvr_0_4_1/split_2/train/mask/_Image_08R_0_1.png  \n",
            "  inflating: chase_db_320_320_dice_bce_0_4__hvr_0_4_1/split_2/train/mask/_Image_05L_2_2.png  \n",
            "  inflating: chase_db_320_320_dice_bce_0_4__hvr_0_4_1/split_2/train/mask/_Image_09L_0_11.png  \n",
            "  inflating: chase_db_320_320_dice_bce_0_4__hvr_0_4_1/split_2/train/mask/_Image_07R_3_4.png  \n",
            "  inflating: chase_db_320_320_dice_bce_0_4__hvr_0_4_1/split_2/train/mask/_Image_09L_1_9.png  \n",
            "  inflating: chase_db_320_320_dice_bce_0_4__hvr_0_4_1/split_2/train/mask/_Image_03R_0_8.png  \n",
            "  inflating: chase_db_320_320_dice_bce_0_4__hvr_0_4_1/split_2/train/mask/_Image_10R_1_6.png  \n",
            "  inflating: chase_db_320_320_dice_bce_0_4__hvr_0_4_1/split_2/train/mask/_Image_14L_2_3.png  \n",
            "  inflating: chase_db_320_320_dice_bce_0_4__hvr_0_4_1/split_2/train/mask/_Image_04L_0_6.png  \n",
            "  inflating: chase_db_320_320_dice_bce_0_4__hvr_0_4_1/split_2/train/mask/_Image_06L_0_2.png  \n",
            "  inflating: chase_db_320_320_dice_bce_0_4__hvr_0_4_1/split_2/train/mask/_Image_03R_1_4.png  \n",
            "  inflating: chase_db_320_320_dice_bce_0_4__hvr_0_4_1/split_2/train/mask/_Image_04L_1_11.png  \n",
            "  inflating: chase_db_320_320_dice_bce_0_4__hvr_0_4_1/split_2/train/mask/_Image_13R_3_5.png  \n",
            "  inflating: chase_db_320_320_dice_bce_0_4__hvr_0_4_1/split_2/train/mask/_Image_02R_0_6.png  \n",
            "  inflating: chase_db_320_320_dice_bce_0_4__hvr_0_4_1/split_2/train/mask/_Image_08L_2_11.png  \n",
            "  inflating: chase_db_320_320_dice_bce_0_4__hvr_0_4_1/split_2/train/mask/_Image_01L_2_1.png  \n",
            "  inflating: chase_db_320_320_dice_bce_0_4__hvr_0_4_1/split_2/train/mask/_Image_02L_2_3.png  \n",
            "  inflating: chase_db_320_320_dice_bce_0_4__hvr_0_4_1/split_2/train/mask/_Image_09R_2_0.png  \n",
            "  inflating: chase_db_320_320_dice_bce_0_4__hvr_0_4_1/split_2/train/mask/_Image_09R_1_2.png  \n",
            "  inflating: chase_db_320_320_dice_bce_0_4__hvr_0_4_1/split_2/train/mask/_Image_05L_2_10.png  \n",
            "  inflating: chase_db_320_320_dice_bce_0_4__hvr_0_4_1/split_2/train/mask/_Image_14R_1_0.png  \n",
            "  inflating: chase_db_320_320_dice_bce_0_4__hvr_0_4_1/split_2/train/mask/_Image_09L_2_4.png  \n",
            "  inflating: chase_db_320_320_dice_bce_0_4__hvr_0_4_1/split_2/train/mask/_Image_10L_3_8.png  \n",
            "  inflating: chase_db_320_320_dice_bce_0_4__hvr_0_4_1/split_2/train/mask/_Image_08L_0_5.png  \n",
            "  inflating: chase_db_320_320_dice_bce_0_4__hvr_0_4_1/split_2/train/mask/_Image_01R_0_9.png  \n",
            "  inflating: chase_db_320_320_dice_bce_0_4__hvr_0_4_1/split_2/train/mask/_Image_06L_3_3.png  \n",
            "  inflating: chase_db_320_320_dice_bce_0_4__hvr_0_4_1/split_2/train/mask/_Image_02R_2_1.png  \n",
            "  inflating: chase_db_320_320_dice_bce_0_4__hvr_0_4_1/split_2/train/mask/_Image_01R_0_2.png  \n",
            "  inflating: chase_db_320_320_dice_bce_0_4__hvr_0_4_1/split_2/train/mask/_Image_07R_0_5.png  \n",
            "  inflating: chase_db_320_320_dice_bce_0_4__hvr_0_4_1/split_2/train/mask/_Image_02R_0_1.png  \n",
            "  inflating: chase_db_320_320_dice_bce_0_4__hvr_0_4_1/split_2/train/mask/_Image_10L_2_7.png  \n",
            "  inflating: chase_db_320_320_dice_bce_0_4__hvr_0_4_1/split_2/train/mask/_Image_01R_3_0.png  \n",
            "  inflating: chase_db_320_320_dice_bce_0_4__hvr_0_4_1/split_2/train/mask/_Image_04L_2_10.png  \n",
            "  inflating: chase_db_320_320_dice_bce_0_4__hvr_0_4_1/split_2/train/mask/_Image_03R_2_7.png  \n",
            "  inflating: chase_db_320_320_dice_bce_0_4__hvr_0_4_1/split_2/train/mask/_Image_08R_2_2.png  \n",
            "  inflating: chase_db_320_320_dice_bce_0_4__hvr_0_4_1/split_2/train/mask/_Image_05L_3_2.png  \n",
            "  inflating: chase_db_320_320_dice_bce_0_4__hvr_0_4_1/split_2/train/mask/_Image_10L_0_5.png  \n",
            "  inflating: chase_db_320_320_dice_bce_0_4__hvr_0_4_1/split_2/train/mask/_Image_14R_2_0.png  \n",
            "  inflating: chase_db_320_320_dice_bce_0_4__hvr_0_4_1/split_2/train/mask/_Image_05R_1_6.png  \n",
            "  inflating: chase_db_320_320_dice_bce_0_4__hvr_0_4_1/split_2/train/mask/_Image_09R_0_10.png  \n",
            "  inflating: chase_db_320_320_dice_bce_0_4__hvr_0_4_1/split_2/train/mask/_Image_05L_3_7.png  \n",
            "  inflating: chase_db_320_320_dice_bce_0_4__hvr_0_4_1/split_2/train/mask/_Image_03L_3_9.png  \n",
            "  inflating: chase_db_320_320_dice_bce_0_4__hvr_0_4_1/split_2/train/mask/_Image_03R_1_0.png  \n",
            "  inflating: chase_db_320_320_dice_bce_0_4__hvr_0_4_1/split_2/train/mask/_Image_09L_2_5.png  \n",
            "  inflating: chase_db_320_320_dice_bce_0_4__hvr_0_4_1/split_2/train/mask/_Image_02R_1_0.png  \n",
            "  inflating: chase_db_320_320_dice_bce_0_4__hvr_0_4_1/split_2/train/mask/_Image_04R_0_11.png  \n",
            "  inflating: chase_db_320_320_dice_bce_0_4__hvr_0_4_1/split_2/train/mask/_Image_07L_0_11.png  \n",
            "  inflating: chase_db_320_320_dice_bce_0_4__hvr_0_4_1/split_2/train/mask/_Image_06L_0_8.png  \n",
            "  inflating: chase_db_320_320_dice_bce_0_4__hvr_0_4_1/split_2/train/mask/_Image_09L_3_0.png  \n",
            "  inflating: chase_db_320_320_dice_bce_0_4__hvr_0_4_1/split_2/train/mask/_Image_06L_3_2.png  \n",
            "  inflating: chase_db_320_320_dice_bce_0_4__hvr_0_4_1/split_2/train/mask/_Image_07R_0_1.png  \n",
            "  inflating: chase_db_320_320_dice_bce_0_4__hvr_0_4_1/split_2/train/mask/_Image_07R_3_0.png  \n",
            "  inflating: chase_db_320_320_dice_bce_0_4__hvr_0_4_1/split_2/train/mask/_Image_13R_0_7.png  \n",
            "  inflating: chase_db_320_320_dice_bce_0_4__hvr_0_4_1/split_2/train/mask/_Image_14R_0_1.png  \n",
            "  inflating: chase_db_320_320_dice_bce_0_4__hvr_0_4_1/split_2/train/mask/_Image_08L_0_11.png  \n",
            "  inflating: chase_db_320_320_dice_bce_0_4__hvr_0_4_1/split_2/train/mask/_Image_03R_2_2.png  \n",
            "  inflating: chase_db_320_320_dice_bce_0_4__hvr_0_4_1/split_2/train/mask/_Image_05R_2_7.png  \n",
            "  inflating: chase_db_320_320_dice_bce_0_4__hvr_0_4_1/split_2/train/mask/_Image_04L_2_3.png  \n",
            "  inflating: chase_db_320_320_dice_bce_0_4__hvr_0_4_1/split_2/train/mask/_Image_06R_2_3.png  \n",
            "  inflating: chase_db_320_320_dice_bce_0_4__hvr_0_4_1/split_2/train/mask/_Image_02L_3_3.png  \n",
            "  inflating: chase_db_320_320_dice_bce_0_4__hvr_0_4_1/split_2/train/mask/_Image_06L_1_7.png  \n",
            "  inflating: chase_db_320_320_dice_bce_0_4__hvr_0_4_1/split_2/train/mask/_Image_10R_2_8.png  \n",
            "  inflating: chase_db_320_320_dice_bce_0_4__hvr_0_4_1/split_2/train/mask/_Image_14L_3_8.png  \n",
            "  inflating: chase_db_320_320_dice_bce_0_4__hvr_0_4_1/split_2/train/mask/_Image_03R_0_9.png  \n",
            "  inflating: chase_db_320_320_dice_bce_0_4__hvr_0_4_1/split_2/train/mask/_Image_05L_3_6.png  \n",
            "  inflating: chase_db_320_320_dice_bce_0_4__hvr_0_4_1/split_2/train/mask/_Image_07R_0_9.png  \n",
            "  inflating: chase_db_320_320_dice_bce_0_4__hvr_0_4_1/split_2/train/mask/_Image_06R_3_10.png  \n",
            "  inflating: chase_db_320_320_dice_bce_0_4__hvr_0_4_1/split_2/train/mask/_Image_08L_3_7.png  \n",
            "  inflating: chase_db_320_320_dice_bce_0_4__hvr_0_4_1/split_2/train/mask/_Image_04R_0_1.png  \n",
            "  inflating: chase_db_320_320_dice_bce_0_4__hvr_0_4_1/split_2/train/mask/_Image_02R_3_9.png  \n",
            "  inflating: chase_db_320_320_dice_bce_0_4__hvr_0_4_1/split_2/train/mask/_Image_07L_2_2.png  \n",
            "  inflating: chase_db_320_320_dice_bce_0_4__hvr_0_4_1/split_2/train/mask/_Image_09R_1_6.png  \n",
            "  inflating: chase_db_320_320_dice_bce_0_4__hvr_0_4_1/split_2/train/mask/_Image_01L_3_6.png  \n",
            "  inflating: chase_db_320_320_dice_bce_0_4__hvr_0_4_1/split_2/train/mask/_Image_07R_2_3.png  \n",
            "  inflating: chase_db_320_320_dice_bce_0_4__hvr_0_4_1/split_2/train/mask/_Image_05L_1_8.png  \n",
            "  inflating: chase_db_320_320_dice_bce_0_4__hvr_0_4_1/split_2/train/mask/_Image_02R_1_5.png  \n",
            "  inflating: chase_db_320_320_dice_bce_0_4__hvr_0_4_1/split_2/train/mask/_Image_02L_0_0.png  \n",
            "  inflating: chase_db_320_320_dice_bce_0_4__hvr_0_4_1/split_2/train/mask/_Image_07R_3_10.png  \n",
            "  inflating: chase_db_320_320_dice_bce_0_4__hvr_0_4_1/split_2/train/mask/_Image_10L_0_11.png  \n",
            "  inflating: chase_db_320_320_dice_bce_0_4__hvr_0_4_1/split_2/train/mask/_Image_02R_1_6.png  \n",
            "  inflating: chase_db_320_320_dice_bce_0_4__hvr_0_4_1/split_2/train/mask/_Image_06L_1_9.png  \n",
            "  inflating: chase_db_320_320_dice_bce_0_4__hvr_0_4_1/split_2/train/mask/_Image_01R_3_5.png  \n",
            "  inflating: chase_db_320_320_dice_bce_0_4__hvr_0_4_1/split_2/train/mask/_Image_14L_3_3.png  \n",
            "  inflating: chase_db_320_320_dice_bce_0_4__hvr_0_4_1/split_2/train/mask/_Image_09R_1_10.png  \n",
            "  inflating: chase_db_320_320_dice_bce_0_4__hvr_0_4_1/split_2/train/mask/_Image_10L_2_9.png  \n",
            "  inflating: chase_db_320_320_dice_bce_0_4__hvr_0_4_1/split_2/train/mask/_Image_09L_3_10.png  \n",
            "  inflating: chase_db_320_320_dice_bce_0_4__hvr_0_4_1/split_2/train/mask/_Image_13R_2_9.png  \n",
            "  inflating: chase_db_320_320_dice_bce_0_4__hvr_0_4_1/split_2/train/mask/_Image_10R_2_9.png  \n",
            "  inflating: chase_db_320_320_dice_bce_0_4__hvr_0_4_1/split_2/train/mask/_Image_08L_1_10.png  \n",
            "  inflating: chase_db_320_320_dice_bce_0_4__hvr_0_4_1/split_2/train/mask/_Image_07R_3_8.png  \n",
            "  inflating: chase_db_320_320_dice_bce_0_4__hvr_0_4_1/split_2/train/mask/_Image_01R_2_5.png  \n",
            "  inflating: chase_db_320_320_dice_bce_0_4__hvr_0_4_1/split_2/train/mask/_Image_14L_1_9.png  \n",
            "  inflating: chase_db_320_320_dice_bce_0_4__hvr_0_4_1/split_2/train/mask/_Image_01R_2_9.png  \n",
            "  inflating: chase_db_320_320_dice_bce_0_4__hvr_0_4_1/split_2/train/mask/_Image_08L_0_6.png  \n",
            "  inflating: chase_db_320_320_dice_bce_0_4__hvr_0_4_1/split_2/train/mask/_Image_01R_3_9.png  \n",
            "  inflating: chase_db_320_320_dice_bce_0_4__hvr_0_4_1/split_2/train/mask/_Image_04L_1_10.png  \n",
            "  inflating: chase_db_320_320_dice_bce_0_4__hvr_0_4_1/split_2/train/mask/_Image_08R_0_2.png  \n",
            "  inflating: chase_db_320_320_dice_bce_0_4__hvr_0_4_1/split_2/train/mask/_Image_08L_2_7.png  \n",
            "  inflating: chase_db_320_320_dice_bce_0_4__hvr_0_4_1/split_2/train/mask/_Image_04R_2_6.png  \n",
            "  inflating: chase_db_320_320_dice_bce_0_4__hvr_0_4_1/split_2/train/mask/_Image_10R_0_8.png  \n",
            "  inflating: chase_db_320_320_dice_bce_0_4__hvr_0_4_1/split_2/train/mask/_Image_09L_0_3.png  \n",
            "  inflating: chase_db_320_320_dice_bce_0_4__hvr_0_4_1/split_2/train/mask/_Image_01R_2_3.png  \n",
            "  inflating: chase_db_320_320_dice_bce_0_4__hvr_0_4_1/split_2/train/mask/_Image_05R_1_5.png  \n",
            "  inflating: chase_db_320_320_dice_bce_0_4__hvr_0_4_1/split_2/train/mask/_Image_04L_3_4.png  \n",
            "  inflating: chase_db_320_320_dice_bce_0_4__hvr_0_4_1/split_2/train/mask/_Image_13R_2_8.png  \n",
            "  inflating: chase_db_320_320_dice_bce_0_4__hvr_0_4_1/split_2/train/mask/_Image_01L_2_11.png  \n",
            "  inflating: chase_db_320_320_dice_bce_0_4__hvr_0_4_1/split_2/train/mask/_Image_14R_1_7.png  \n",
            "  inflating: chase_db_320_320_dice_bce_0_4__hvr_0_4_1/split_2/train/mask/_Image_07R_3_11.png  \n",
            "  inflating: chase_db_320_320_dice_bce_0_4__hvr_0_4_1/split_2/train/mask/_Image_14R_2_6.png  \n",
            "  inflating: chase_db_320_320_dice_bce_0_4__hvr_0_4_1/split_2/train/mask/_Image_04L_0_5.png  \n",
            "  inflating: chase_db_320_320_dice_bce_0_4__hvr_0_4_1/split_2/train/mask/_Image_03R_1_5.png  \n",
            "  inflating: chase_db_320_320_dice_bce_0_4__hvr_0_4_1/split_2/train/mask/_Image_04L_0_7.png  \n",
            "  inflating: chase_db_320_320_dice_bce_0_4__hvr_0_4_1/split_2/train/mask/_Image_08L_1_2.png  \n",
            "  inflating: chase_db_320_320_dice_bce_0_4__hvr_0_4_1/split_2/train/mask/_Image_10R_3_10.png  \n",
            "  inflating: chase_db_320_320_dice_bce_0_4__hvr_0_4_1/split_2/train/mask/_Image_14R_2_11.png  \n",
            "  inflating: chase_db_320_320_dice_bce_0_4__hvr_0_4_1/split_2/train/mask/_Image_13R_0_3.png  \n",
            "  inflating: chase_db_320_320_dice_bce_0_4__hvr_0_4_1/split_2/train/mask/_Image_08R_1_7.png  \n",
            "  inflating: chase_db_320_320_dice_bce_0_4__hvr_0_4_1/split_2/train/mask/_Image_10L_1_3.png  \n",
            "  inflating: chase_db_320_320_dice_bce_0_4__hvr_0_4_1/split_2/train/mask/_Image_03R_3_7.png  \n",
            "  inflating: chase_db_320_320_dice_bce_0_4__hvr_0_4_1/split_2/train/mask/_Image_06L_0_6.png  \n",
            "  inflating: chase_db_320_320_dice_bce_0_4__hvr_0_4_1/split_2/train/mask/_Image_14L_1_8.png  \n",
            "  inflating: chase_db_320_320_dice_bce_0_4__hvr_0_4_1/split_2/train/mask/_Image_01R_1_0.png  \n",
            "  inflating: chase_db_320_320_dice_bce_0_4__hvr_0_4_1/split_2/train/mask/_Image_05R_2_4.png  \n",
            "  inflating: chase_db_320_320_dice_bce_0_4__hvr_0_4_1/split_2/train/mask/_Image_10R_2_6.png  \n",
            "  inflating: chase_db_320_320_dice_bce_0_4__hvr_0_4_1/split_2/train/mask/_Image_08L_2_5.png  \n",
            "  inflating: chase_db_320_320_dice_bce_0_4__hvr_0_4_1/split_2/train/mask/_Image_10L_2_8.png  \n",
            "  inflating: chase_db_320_320_dice_bce_0_4__hvr_0_4_1/split_2/train/mask/_Image_07L_1_1.png  \n",
            "  inflating: chase_db_320_320_dice_bce_0_4__hvr_0_4_1/split_2/train/mask/_Image_05L_3_1.png  \n",
            "  inflating: chase_db_320_320_dice_bce_0_4__hvr_0_4_1/split_2/train/mask/_Image_04L_3_3.png  \n",
            "  inflating: chase_db_320_320_dice_bce_0_4__hvr_0_4_1/split_2/train/mask/_Image_10L_3_4.png  \n",
            "  inflating: chase_db_320_320_dice_bce_0_4__hvr_0_4_1/split_2/train/mask/_Image_06L_3_10.png  \n",
            "  inflating: chase_db_320_320_dice_bce_0_4__hvr_0_4_1/split_2/train/mask/_Image_05R_0_1.png  \n",
            "  inflating: chase_db_320_320_dice_bce_0_4__hvr_0_4_1/split_2/train/mask/_Image_01R_1_10.png  \n",
            "  inflating: chase_db_320_320_dice_bce_0_4__hvr_0_4_1/split_2/train/mask/_Image_04R_3_2.png  \n",
            "  inflating: chase_db_320_320_dice_bce_0_4__hvr_0_4_1/split_2/train/mask/_Image_10L_2_5.png  \n",
            "  inflating: chase_db_320_320_dice_bce_0_4__hvr_0_4_1/split_2/train/mask/_Image_02L_0_11.png  \n",
            "  inflating: chase_db_320_320_dice_bce_0_4__hvr_0_4_1/split_2/train/mask/_Image_03R_0_11.png  \n",
            "  inflating: chase_db_320_320_dice_bce_0_4__hvr_0_4_1/split_2/train/mask/_Image_14L_2_7.png  \n",
            "  inflating: chase_db_320_320_dice_bce_0_4__hvr_0_4_1/split_2/train/mask/_Image_10R_3_11.png  \n",
            "  inflating: chase_db_320_320_dice_bce_0_4__hvr_0_4_1/split_2/train/mask/_Image_14R_0_5.png  \n",
            "  inflating: chase_db_320_320_dice_bce_0_4__hvr_0_4_1/split_2/train/mask/_Image_13R_0_1.png  \n",
            "  inflating: chase_db_320_320_dice_bce_0_4__hvr_0_4_1/split_2/train/mask/_Image_08L_1_5.png  \n",
            "  inflating: chase_db_320_320_dice_bce_0_4__hvr_0_4_1/split_2/train/mask/_Image_14L_2_0.png  \n",
            "  inflating: chase_db_320_320_dice_bce_0_4__hvr_0_4_1/split_2/train/mask/_Image_03L_3_5.png  \n",
            "  inflating: chase_db_320_320_dice_bce_0_4__hvr_0_4_1/split_2/train/mask/_Image_14L_2_11.png  \n",
            "  inflating: chase_db_320_320_dice_bce_0_4__hvr_0_4_1/split_2/train/mask/_Image_09R_2_3.png  \n",
            "  inflating: chase_db_320_320_dice_bce_0_4__hvr_0_4_1/split_2/train/mask/_Image_14R_0_11.png  \n",
            "  inflating: chase_db_320_320_dice_bce_0_4__hvr_0_4_1/split_2/train/mask/_Image_03L_2_5.png  \n",
            "  inflating: chase_db_320_320_dice_bce_0_4__hvr_0_4_1/split_2/train/mask/_Image_06R_3_11.png  \n",
            "  inflating: chase_db_320_320_dice_bce_0_4__hvr_0_4_1/split_2/train/mask/_Image_03R_3_9.png  \n",
            "  inflating: chase_db_320_320_dice_bce_0_4__hvr_0_4_1/split_2/train/mask/_Image_06L_3_9.png  \n",
            "  inflating: chase_db_320_320_dice_bce_0_4__hvr_0_4_1/split_2/train/mask/_Image_10L_3_7.png  \n",
            "  inflating: chase_db_320_320_dice_bce_0_4__hvr_0_4_1/split_2/train/mask/_Image_06L_3_1.png  \n",
            "  inflating: chase_db_320_320_dice_bce_0_4__hvr_0_4_1/split_2/train/mask/_Image_04L_2_8.png  \n",
            "  inflating: chase_db_320_320_dice_bce_0_4__hvr_0_4_1/split_2/train/mask/_Image_01R_2_1.png  \n",
            "  inflating: chase_db_320_320_dice_bce_0_4__hvr_0_4_1/split_2/train/mask/_Image_14R_2_2.png  \n",
            "  inflating: chase_db_320_320_dice_bce_0_4__hvr_0_4_1/split_2/train/mask/_Image_07R_0_11.png  \n",
            "  inflating: chase_db_320_320_dice_bce_0_4__hvr_0_4_1/split_2/train/mask/_Image_13R_0_11.png  \n",
            "  inflating: chase_db_320_320_dice_bce_0_4__hvr_0_4_1/split_2/train/mask/_Image_03R_3_0.png  \n",
            "  inflating: chase_db_320_320_dice_bce_0_4__hvr_0_4_1/split_2/train/mask/_Image_13R_3_1.png  \n",
            "  inflating: chase_db_320_320_dice_bce_0_4__hvr_0_4_1/split_2/train/mask/_Image_05L_0_2.png  \n",
            "  inflating: chase_db_320_320_dice_bce_0_4__hvr_0_4_1/split_2/train/mask/_Image_05L_1_1.png  \n",
            "  inflating: chase_db_320_320_dice_bce_0_4__hvr_0_4_1/split_2/train/mask/_Image_07R_1_4.png  \n",
            "  inflating: chase_db_320_320_dice_bce_0_4__hvr_0_4_1/split_2/train/mask/_Image_14L_0_8.png  \n",
            "  inflating: chase_db_320_320_dice_bce_0_4__hvr_0_4_1/split_2/train/mask/_Image_06R_0_0.png  \n",
            "  inflating: chase_db_320_320_dice_bce_0_4__hvr_0_4_1/split_2/train/mask/_Image_05L_3_5.png  \n",
            "  inflating: chase_db_320_320_dice_bce_0_4__hvr_0_4_1/split_2/train/mask/_Image_09L_2_7.png  \n",
            "  inflating: chase_db_320_320_dice_bce_0_4__hvr_0_4_1/split_2/train/mask/_Image_09R_2_1.png  \n",
            "  inflating: chase_db_320_320_dice_bce_0_4__hvr_0_4_1/split_2/train/mask/_Image_04R_1_2.png  \n",
            "  inflating: chase_db_320_320_dice_bce_0_4__hvr_0_4_1/split_2/train/mask/_Image_05R_3_1.png  \n",
            "  inflating: chase_db_320_320_dice_bce_0_4__hvr_0_4_1/split_2/train/mask/_Image_04R_1_7.png  \n",
            "  inflating: chase_db_320_320_dice_bce_0_4__hvr_0_4_1/split_2/train/mask/_Image_07R_3_9.png  \n",
            "  inflating: chase_db_320_320_dice_bce_0_4__hvr_0_4_1/split_2/train/mask/_Image_08L_1_6.png  \n",
            "  inflating: chase_db_320_320_dice_bce_0_4__hvr_0_4_1/split_2/train/mask/_Image_14L_0_1.png  \n",
            "  inflating: chase_db_320_320_dice_bce_0_4__hvr_0_4_1/split_2/train/mask/_Image_08L_0_3.png  \n",
            "  inflating: chase_db_320_320_dice_bce_0_4__hvr_0_4_1/split_2/train/mask/_Image_03L_3_3.png  \n",
            "  inflating: chase_db_320_320_dice_bce_0_4__hvr_0_4_1/split_2/train/mask/_Image_10L_3_0.png  \n",
            "  inflating: chase_db_320_320_dice_bce_0_4__hvr_0_4_1/split_2/train/mask/_Image_01L_0_10.png  \n",
            "  inflating: chase_db_320_320_dice_bce_0_4__hvr_0_4_1/split_2/train/mask/_Image_04R_1_10.png  \n",
            "  inflating: chase_db_320_320_dice_bce_0_4__hvr_0_4_1/split_2/train/mask/_Image_07R_0_0.png  \n",
            "  inflating: chase_db_320_320_dice_bce_0_4__hvr_0_4_1/split_2/train/mask/_Image_03L_0_6.png  \n",
            "  inflating: chase_db_320_320_dice_bce_0_4__hvr_0_4_1/split_2/train/mask/_Image_10L_0_0.png  \n",
            "  inflating: chase_db_320_320_dice_bce_0_4__hvr_0_4_1/split_2/train/mask/_Image_03R_1_3.png  \n",
            "  inflating: chase_db_320_320_dice_bce_0_4__hvr_0_4_1/split_2/train/mask/_Image_08R_1_0.png  \n",
            "  inflating: chase_db_320_320_dice_bce_0_4__hvr_0_4_1/split_2/train/mask/_Image_06R_0_8.png  \n",
            "  inflating: chase_db_320_320_dice_bce_0_4__hvr_0_4_1/split_2/train/mask/_Image_03R_3_10.png  \n",
            "  inflating: chase_db_320_320_dice_bce_0_4__hvr_0_4_1/split_2/train/mask/_Image_07R_3_5.png  \n",
            "  inflating: chase_db_320_320_dice_bce_0_4__hvr_0_4_1/split_2/train/mask/_Image_08L_3_0.png  \n",
            "  inflating: chase_db_320_320_dice_bce_0_4__hvr_0_4_1/split_2/train/mask/_Image_13R_1_5.png  \n",
            "  inflating: chase_db_320_320_dice_bce_0_4__hvr_0_4_1/split_2/train/mask/_Image_07L_0_4.png  \n",
            "  inflating: chase_db_320_320_dice_bce_0_4__hvr_0_4_1/split_2/train/mask/_Image_03R_2_6.png  \n",
            "  inflating: chase_db_320_320_dice_bce_0_4__hvr_0_4_1/split_2/train/mask/_Image_13R_1_6.png  \n",
            "  inflating: chase_db_320_320_dice_bce_0_4__hvr_0_4_1/split_2/train/mask/_Image_09L_0_1.png  \n",
            "  inflating: chase_db_320_320_dice_bce_0_4__hvr_0_4_1/split_2/train/mask/_Image_03L_2_6.png  \n",
            "  inflating: chase_db_320_320_dice_bce_0_4__hvr_0_4_1/split_2/train/mask/_Image_08R_3_4.png  \n",
            "  inflating: chase_db_320_320_dice_bce_0_4__hvr_0_4_1/split_2/train/mask/_Image_04L_3_10.png  \n",
            "  inflating: chase_db_320_320_dice_bce_0_4__hvr_0_4_1/split_2/train/mask/_Image_04R_0_0.png  \n",
            "  inflating: chase_db_320_320_dice_bce_0_4__hvr_0_4_1/split_2/train/mask/_Image_08R_3_11.png  \n",
            "  inflating: chase_db_320_320_dice_bce_0_4__hvr_0_4_1/split_2/train/mask/_Image_07R_1_0.png  \n",
            "  inflating: chase_db_320_320_dice_bce_0_4__hvr_0_4_1/split_2/train/mask/_Image_02L_2_10.png  \n",
            "  inflating: chase_db_320_320_dice_bce_0_4__hvr_0_4_1/split_2/train/mask/_Image_01R_0_5.png  \n",
            "  inflating: chase_db_320_320_dice_bce_0_4__hvr_0_4_1/split_2/train/mask/_Image_05R_0_11.png  \n",
            "  inflating: chase_db_320_320_dice_bce_0_4__hvr_0_4_1/split_2/train/mask/_Image_08L_1_4.png  \n",
            "  inflating: chase_db_320_320_dice_bce_0_4__hvr_0_4_1/split_2/train/mask/_Image_06R_2_9.png  \n",
            "  inflating: chase_db_320_320_dice_bce_0_4__hvr_0_4_1/split_2/train/mask/_Image_07L_2_1.png  \n",
            "  inflating: chase_db_320_320_dice_bce_0_4__hvr_0_4_1/split_2/train/mask/_Image_14L_2_8.png  \n",
            "  inflating: chase_db_320_320_dice_bce_0_4__hvr_0_4_1/split_2/train/mask/_Image_05L_1_10.png  \n",
            "  inflating: chase_db_320_320_dice_bce_0_4__hvr_0_4_1/split_2/train/mask/_Image_03L_0_8.png  \n",
            "  inflating: chase_db_320_320_dice_bce_0_4__hvr_0_4_1/split_2/train/mask/_Image_04R_2_11.png  \n",
            "  inflating: chase_db_320_320_dice_bce_0_4__hvr_0_4_1/split_2/train/mask/_Image_02L_1_4.png  \n",
            "  inflating: chase_db_320_320_dice_bce_0_4__hvr_0_4_1/split_2/train/mask/_Image_10R_0_0.png  \n",
            "  inflating: chase_db_320_320_dice_bce_0_4__hvr_0_4_1/split_2/train/mask/_Image_06R_3_4.png  \n",
            "  inflating: chase_db_320_320_dice_bce_0_4__hvr_0_4_1/split_2/train/mask/_Image_09R_0_8.png  \n",
            "  inflating: chase_db_320_320_dice_bce_0_4__hvr_0_4_1/split_2/train/mask/_Image_09R_3_8.png  \n",
            "  inflating: chase_db_320_320_dice_bce_0_4__hvr_0_4_1/split_2/train/mask/_Image_08L_2_1.png  \n",
            "  inflating: chase_db_320_320_dice_bce_0_4__hvr_0_4_1/split_2/train/mask/_Image_09R_0_11.png  \n",
            "  inflating: chase_db_320_320_dice_bce_0_4__hvr_0_4_1/split_2/train/mask/_Image_14R_3_11.png  \n",
            "  inflating: chase_db_320_320_dice_bce_0_4__hvr_0_4_1/split_2/train/mask/_Image_14R_3_6.png  \n",
            "  inflating: chase_db_320_320_dice_bce_0_4__hvr_0_4_1/split_2/train/mask/_Image_08R_2_7.png  \n",
            "  inflating: chase_db_320_320_dice_bce_0_4__hvr_0_4_1/split_2/train/mask/_Image_08L_3_5.png  \n",
            "  inflating: chase_db_320_320_dice_bce_0_4__hvr_0_4_1/split_2/train/mask/_Image_06L_0_9.png  \n",
            "  inflating: chase_db_320_320_dice_bce_0_4__hvr_0_4_1/split_2/train/mask/_Image_10L_0_9.png  \n",
            "  inflating: chase_db_320_320_dice_bce_0_4__hvr_0_4_1/split_2/train/mask/_Image_08L_1_0.png  \n",
            "  inflating: chase_db_320_320_dice_bce_0_4__hvr_0_4_1/split_2/train/mask/_Image_03R_0_10.png  \n",
            "  inflating: chase_db_320_320_dice_bce_0_4__hvr_0_4_1/split_2/train/mask/_Image_07L_2_3.png  \n",
            "  inflating: chase_db_320_320_dice_bce_0_4__hvr_0_4_1/split_2/train/mask/_Image_08L_1_8.png  \n",
            "  inflating: chase_db_320_320_dice_bce_0_4__hvr_0_4_1/split_2/train/mask/_Image_04L_2_2.png  \n",
            "  inflating: chase_db_320_320_dice_bce_0_4__hvr_0_4_1/split_2/train/mask/_Image_06L_0_11.png  \n",
            "  inflating: chase_db_320_320_dice_bce_0_4__hvr_0_4_1/split_2/train/mask/_Image_04R_1_11.png  \n",
            "  inflating: chase_db_320_320_dice_bce_0_4__hvr_0_4_1/split_2/train/mask/_Image_14R_1_6.png  \n",
            "  inflating: chase_db_320_320_dice_bce_0_4__hvr_0_4_1/split_2/train/mask/_Image_03R_2_3.png  \n",
            "  inflating: chase_db_320_320_dice_bce_0_4__hvr_0_4_1/split_2/train/mask/_Image_09L_1_11.png  \n",
            "  inflating: chase_db_320_320_dice_bce_0_4__hvr_0_4_1/split_2/train/mask/_Image_06L_2_1.png  \n",
            "  inflating: chase_db_320_320_dice_bce_0_4__hvr_0_4_1/split_2/train/mask/_Image_02L_0_10.png  \n",
            "  inflating: chase_db_320_320_dice_bce_0_4__hvr_0_4_1/split_2/train/mask/_Image_13R_2_11.png  \n",
            "  inflating: chase_db_320_320_dice_bce_0_4__hvr_0_4_1/split_2/train/mask/_Image_08L_3_9.png  \n",
            "  inflating: chase_db_320_320_dice_bce_0_4__hvr_0_4_1/split_2/train/mask/_Image_09R_1_11.png  \n",
            "  inflating: chase_db_320_320_dice_bce_0_4__hvr_0_4_1/split_2/train/mask/_Image_03R_3_5.png  \n",
            "  inflating: chase_db_320_320_dice_bce_0_4__hvr_0_4_1/split_2/train/mask/_Image_02R_0_9.png  \n",
            "  inflating: chase_db_320_320_dice_bce_0_4__hvr_0_4_1/split_2/train/mask/_Image_14L_1_2.png  \n",
            "  inflating: chase_db_320_320_dice_bce_0_4__hvr_0_4_1/split_2/train/mask/_Image_05R_3_8.png  \n",
            "  inflating: chase_db_320_320_dice_bce_0_4__hvr_0_4_1/split_2/train/mask/_Image_06R_3_5.png  \n",
            "  inflating: chase_db_320_320_dice_bce_0_4__hvr_0_4_1/split_2/train/mask/_Image_04L_0_2.png  \n",
            "  inflating: chase_db_320_320_dice_bce_0_4__hvr_0_4_1/split_2/train/mask/_Image_02R_2_6.png  \n",
            "  inflating: chase_db_320_320_dice_bce_0_4__hvr_0_4_1/split_2/train/mask/_Image_10R_1_1.png  \n",
            "  inflating: chase_db_320_320_dice_bce_0_4__hvr_0_4_1/split_2/train/mask/_Image_02R_1_11.png  \n",
            "  inflating: chase_db_320_320_dice_bce_0_4__hvr_0_4_1/split_2/train/mask/_Image_03R_2_0.png  \n",
            "  inflating: chase_db_320_320_dice_bce_0_4__hvr_0_4_1/split_2/train/mask/_Image_02R_0_7.png  \n",
            "  inflating: chase_db_320_320_dice_bce_0_4__hvr_0_4_1/split_2/train/mask/_Image_14R_1_5.png  \n",
            "  inflating: chase_db_320_320_dice_bce_0_4__hvr_0_4_1/split_2/train/mask/_Image_03R_3_1.png  \n",
            "  inflating: chase_db_320_320_dice_bce_0_4__hvr_0_4_1/split_2/train/mask/_Image_09L_3_9.png  \n",
            "  inflating: chase_db_320_320_dice_bce_0_4__hvr_0_4_1/split_2/train/mask/_Image_04L_0_8.png  \n",
            "  inflating: chase_db_320_320_dice_bce_0_4__hvr_0_4_1/split_2/train/mask/_Image_04R_0_2.png  \n",
            "  inflating: chase_db_320_320_dice_bce_0_4__hvr_0_4_1/split_2/train/mask/_Image_05R_0_6.png  \n",
            "  inflating: chase_db_320_320_dice_bce_0_4__hvr_0_4_1/split_2/train/mask/_Image_09R_3_7.png  \n",
            "  inflating: chase_db_320_320_dice_bce_0_4__hvr_0_4_1/split_2/train/mask/_Image_01R_2_11.png  \n",
            "  inflating: chase_db_320_320_dice_bce_0_4__hvr_0_4_1/split_2/train/mask/_Image_08L_1_3.png  \n",
            "  inflating: chase_db_320_320_dice_bce_0_4__hvr_0_4_1/split_2/train/mask/_Image_03L_0_4.png  \n",
            "  inflating: chase_db_320_320_dice_bce_0_4__hvr_0_4_1/split_2/train/mask/_Image_07R_1_11.png  \n",
            "  inflating: chase_db_320_320_dice_bce_0_4__hvr_0_4_1/split_2/train/mask/_Image_09L_2_2.png  \n",
            "  inflating: chase_db_320_320_dice_bce_0_4__hvr_0_4_1/split_2/train/mask/_Image_06R_1_1.png  \n",
            "  inflating: chase_db_320_320_dice_bce_0_4__hvr_0_4_1/split_2/train/mask/_Image_01R_1_6.png  \n",
            "  inflating: chase_db_320_320_dice_bce_0_4__hvr_0_4_1/split_2/train/mask/_Image_08R_0_4.png  \n",
            "  inflating: chase_db_320_320_dice_bce_0_4__hvr_0_4_1/split_2/train/mask/_Image_07L_2_9.png  \n",
            "  inflating: chase_db_320_320_dice_bce_0_4__hvr_0_4_1/split_2/train/mask/_Image_10L_3_6.png  \n",
            "  inflating: chase_db_320_320_dice_bce_0_4__hvr_0_4_1/split_2/train/mask/_Image_03R_3_8.png  \n",
            "  inflating: chase_db_320_320_dice_bce_0_4__hvr_0_4_1/split_2/train/mask/_Image_03L_3_1.png  \n",
            "  inflating: chase_db_320_320_dice_bce_0_4__hvr_0_4_1/split_2/train/mask/_Image_01R_3_2.png  \n",
            "  inflating: chase_db_320_320_dice_bce_0_4__hvr_0_4_1/split_2/train/mask/_Image_04R_3_0.png  \n",
            "  inflating: chase_db_320_320_dice_bce_0_4__hvr_0_4_1/split_2/train/mask/_Image_13R_2_0.png  \n",
            "  inflating: chase_db_320_320_dice_bce_0_4__hvr_0_4_1/split_2/train/mask/_Image_03L_0_9.png  \n",
            "  inflating: chase_db_320_320_dice_bce_0_4__hvr_0_4_1/split_2/train/mask/_Image_04R_0_8.png  \n",
            "  inflating: chase_db_320_320_dice_bce_0_4__hvr_0_4_1/split_2/train/mask/_Image_14L_0_2.png  \n",
            "  inflating: chase_db_320_320_dice_bce_0_4__hvr_0_4_1/split_2/train/mask/_Image_02R_3_6.png  \n",
            "  inflating: chase_db_320_320_dice_bce_0_4__hvr_0_4_1/split_2/train/mask/_Image_01L_1_7.png  \n",
            "  inflating: chase_db_320_320_dice_bce_0_4__hvr_0_4_1/split_2/train/mask/_Image_06L_3_4.png  \n",
            "  inflating: chase_db_320_320_dice_bce_0_4__hvr_0_4_1/split_2/train/mask/_Image_10R_0_5.png  \n",
            "  inflating: chase_db_320_320_dice_bce_0_4__hvr_0_4_1/split_2/train/mask/_Image_01L_0_6.png  \n",
            "  inflating: chase_db_320_320_dice_bce_0_4__hvr_0_4_1/split_2/train/mask/_Image_13R_3_6.png  \n",
            "  inflating: chase_db_320_320_dice_bce_0_4__hvr_0_4_1/split_2/train/mask/_Image_10L_0_3.png  \n",
            "  inflating: chase_db_320_320_dice_bce_0_4__hvr_0_4_1/split_2/train/mask/_Image_10R_2_10.png  \n",
            "  inflating: chase_db_320_320_dice_bce_0_4__hvr_0_4_1/split_2/train/mask/_Image_09R_0_3.png  \n",
            "  inflating: chase_db_320_320_dice_bce_0_4__hvr_0_4_1/split_2/train/mask/_Image_10R_1_8.png  \n",
            "  inflating: chase_db_320_320_dice_bce_0_4__hvr_0_4_1/split_2/train/mask/_Image_10R_2_0.png  \n",
            "  inflating: chase_db_320_320_dice_bce_0_4__hvr_0_4_1/split_2/train/mask/_Image_08R_2_10.png  \n",
            "  inflating: chase_db_320_320_dice_bce_0_4__hvr_0_4_1/split_2/train/mask/_Image_08R_1_6.png  \n",
            "  inflating: chase_db_320_320_dice_bce_0_4__hvr_0_4_1/split_2/train/mask/_Image_02L_3_8.png  \n",
            "  inflating: chase_db_320_320_dice_bce_0_4__hvr_0_4_1/split_2/train/mask/_Image_08L_2_10.png  \n",
            "  inflating: chase_db_320_320_dice_bce_0_4__hvr_0_4_1/split_2/train/mask/_Image_02L_1_10.png  \n",
            "  inflating: chase_db_320_320_dice_bce_0_4__hvr_0_4_1/split_2/train/mask/_Image_08R_0_9.png  \n",
            "  inflating: chase_db_320_320_dice_bce_0_4__hvr_0_4_1/split_2/train/mask/_Image_06R_1_11.png  \n",
            "  inflating: chase_db_320_320_dice_bce_0_4__hvr_0_4_1/split_2/train/mask/_Image_02R_3_2.png  \n",
            "  inflating: chase_db_320_320_dice_bce_0_4__hvr_0_4_1/split_2/train/mask/_Image_14R_0_7.png  \n",
            "  inflating: chase_db_320_320_dice_bce_0_4__hvr_0_4_1/split_2/train/mask/_Image_04R_3_5.png  \n",
            "  inflating: chase_db_320_320_dice_bce_0_4__hvr_0_4_1/split_2/train/mask/_Image_14R_0_6.png  \n",
            "  inflating: chase_db_320_320_dice_bce_0_4__hvr_0_4_1/split_2/train/mask/_Image_04L_2_11.png  \n",
            "  inflating: chase_db_320_320_dice_bce_0_4__hvr_0_4_1/split_2/train/mask/_Image_09L_0_7.png  \n",
            "  inflating: chase_db_320_320_dice_bce_0_4__hvr_0_4_1/split_2/train/mask/_Image_05R_1_9.png  \n",
            "  inflating: chase_db_320_320_dice_bce_0_4__hvr_0_4_1/split_2/train/mask/_Image_02L_3_10.png  \n",
            "  inflating: chase_db_320_320_dice_bce_0_4__hvr_0_4_1/split_2/train/mask/_Image_10L_3_9.png  \n",
            "  inflating: chase_db_320_320_dice_bce_0_4__hvr_0_4_1/split_2/train/mask/_Image_06L_1_6.png  \n",
            "  inflating: chase_db_320_320_dice_bce_0_4__hvr_0_4_1/split_2/train/mask/_Image_13R_1_8.png  \n",
            "  inflating: chase_db_320_320_dice_bce_0_4__hvr_0_4_1/split_2/train/mask/_Image_09L_3_3.png  \n",
            "  inflating: chase_db_320_320_dice_bce_0_4__hvr_0_4_1/split_2/train/mask/_Image_13R_0_0.png  \n",
            "  inflating: chase_db_320_320_dice_bce_0_4__hvr_0_4_1/split_2/train/mask/_Image_05L_3_0.png  \n",
            "  inflating: chase_db_320_320_dice_bce_0_4__hvr_0_4_1/split_2/train/mask/_Image_09R_3_6.png  \n",
            "  inflating: chase_db_320_320_dice_bce_0_4__hvr_0_4_1/split_2/train/mask/_Image_05L_1_2.png  \n",
            "  inflating: chase_db_320_320_dice_bce_0_4__hvr_0_4_1/split_2/train/mask/_Image_01L_3_1.png  \n",
            "  inflating: chase_db_320_320_dice_bce_0_4__hvr_0_4_1/split_2/train/mask/_Image_06R_1_0.png  \n",
            "  inflating: chase_db_320_320_dice_bce_0_4__hvr_0_4_1/split_2/train/mask/_Image_09L_0_0.png  \n",
            "  inflating: chase_db_320_320_dice_bce_0_4__hvr_0_4_1/split_2/train/mask/_Image_05L_0_0.png  \n",
            "  inflating: chase_db_320_320_dice_bce_0_4__hvr_0_4_1/split_2/train/mask/_Image_06R_2_2.png  \n",
            "  inflating: chase_db_320_320_dice_bce_0_4__hvr_0_4_1/split_2/train/mask/_Image_14R_3_2.png  \n",
            "  inflating: chase_db_320_320_dice_bce_0_4__hvr_0_4_1/split_2/train/mask/_Image_05R_2_8.png  \n",
            "  inflating: chase_db_320_320_dice_bce_0_4__hvr_0_4_1/split_2/train/mask/_Image_10L_2_2.png  \n",
            "  inflating: chase_db_320_320_dice_bce_0_4__hvr_0_4_1/split_2/train/mask/_Image_02R_1_8.png  \n",
            "  inflating: chase_db_320_320_dice_bce_0_4__hvr_0_4_1/split_2/train/mask/_Image_01R_3_3.png  \n",
            "  inflating: chase_db_320_320_dice_bce_0_4__hvr_0_4_1/split_2/train/mask/_Image_06R_3_6.png  \n",
            "  inflating: chase_db_320_320_dice_bce_0_4__hvr_0_4_1/split_2/train/mask/_Image_13R_3_0.png  \n",
            "  inflating: chase_db_320_320_dice_bce_0_4__hvr_0_4_1/split_2/train/mask/_Image_01L_0_5.png  \n",
            "  inflating: chase_db_320_320_dice_bce_0_4__hvr_0_4_1/split_2/train/mask/_Image_09L_1_0.png  \n",
            "  inflating: chase_db_320_320_dice_bce_0_4__hvr_0_4_1/split_2/train/mask/_Image_04R_3_9.png  \n",
            "  inflating: chase_db_320_320_dice_bce_0_4__hvr_0_4_1/split_2/train/mask/_Image_09R_1_1.png  \n",
            "  inflating: chase_db_320_320_dice_bce_0_4__hvr_0_4_1/split_2/train/mask/_Image_10L_0_2.png  \n",
            "  inflating: chase_db_320_320_dice_bce_0_4__hvr_0_4_1/split_2/train/mask/_Image_02R_0_0.png  \n",
            "  inflating: chase_db_320_320_dice_bce_0_4__hvr_0_4_1/split_2/train/mask/_Image_07L_1_9.png  \n",
            "  inflating: chase_db_320_320_dice_bce_0_4__hvr_0_4_1/split_2/train/mask/_Image_02L_3_6.png  \n",
            "  inflating: chase_db_320_320_dice_bce_0_4__hvr_0_4_1/split_2/train/mask/_Image_13R_0_2.png  \n",
            "  inflating: chase_db_320_320_dice_bce_0_4__hvr_0_4_1/split_2/train/mask/_Image_10R_2_7.png  \n",
            "  inflating: chase_db_320_320_dice_bce_0_4__hvr_0_4_1/split_2/train/mask/_Image_14L_1_6.png  \n",
            "  inflating: chase_db_320_320_dice_bce_0_4__hvr_0_4_1/split_2/train/mask/_Image_05L_0_5.png  \n",
            "  inflating: chase_db_320_320_dice_bce_0_4__hvr_0_4_1/split_2/train/mask/_Image_08R_0_0.png  \n",
            "  inflating: chase_db_320_320_dice_bce_0_4__hvr_0_4_1/split_2/train/mask/_Image_10R_2_5.png  \n",
            "  inflating: chase_db_320_320_dice_bce_0_4__hvr_0_4_1/split_2/train/mask/_Image_01R_3_1.png  \n",
            "  inflating: chase_db_320_320_dice_bce_0_4__hvr_0_4_1/split_2/train/mask/_Image_01L_0_8.png  \n",
            "  inflating: chase_db_320_320_dice_bce_0_4__hvr_0_4_1/split_2/train/mask/_Image_08L_0_1.png  \n",
            "  inflating: chase_db_320_320_dice_bce_0_4__hvr_0_4_1/split_2/train/mask/_Image_04L_1_3.png  \n",
            "  inflating: chase_db_320_320_dice_bce_0_4__hvr_0_4_1/split_2/train/mask/_Image_02L_1_2.png  \n",
            "  inflating: chase_db_320_320_dice_bce_0_4__hvr_0_4_1/split_2/train/mask/_Image_01R_1_7.png  \n",
            "  inflating: chase_db_320_320_dice_bce_0_4__hvr_0_4_1/split_2/train/mask/_Image_14R_0_0.png  \n",
            "  inflating: chase_db_320_320_dice_bce_0_4__hvr_0_4_1/split_2/train/mask/_Image_05L_2_5.png  \n",
            "  inflating: chase_db_320_320_dice_bce_0_4__hvr_0_4_1/split_2/train/mask/_Image_08R_0_11.png  \n",
            "  inflating: chase_db_320_320_dice_bce_0_4__hvr_0_4_1/split_2/train/mask/_Image_03L_1_10.png  \n",
            "  inflating: chase_db_320_320_dice_bce_0_4__hvr_0_4_1/split_2/train/mask/_Image_10R_2_4.png  \n",
            "  inflating: chase_db_320_320_dice_bce_0_4__hvr_0_4_1/split_2/train/mask/_Image_14L_0_4.png  \n",
            "  inflating: chase_db_320_320_dice_bce_0_4__hvr_0_4_1/split_2/train/mask/_Image_10R_2_2.png  \n",
            "  inflating: chase_db_320_320_dice_bce_0_4__hvr_0_4_1/split_2/train/mask/_Image_04L_0_9.png  \n",
            "  inflating: chase_db_320_320_dice_bce_0_4__hvr_0_4_1/split_2/train/mask/_Image_14R_2_8.png  \n",
            "  inflating: chase_db_320_320_dice_bce_0_4__hvr_0_4_1/split_2/train/mask/_Image_06L_2_6.png  \n",
            "  inflating: chase_db_320_320_dice_bce_0_4__hvr_0_4_1/split_2/train/mask/_Image_06L_1_5.png  \n",
            "  inflating: chase_db_320_320_dice_bce_0_4__hvr_0_4_1/split_2/train/mask/_Image_03L_1_11.png  \n",
            "  inflating: chase_db_320_320_dice_bce_0_4__hvr_0_4_1/split_2/train/mask/_Image_07L_1_0.png  \n",
            "  inflating: chase_db_320_320_dice_bce_0_4__hvr_0_4_1/split_2/train/mask/_Image_03R_2_8.png  \n",
            "  inflating: chase_db_320_320_dice_bce_0_4__hvr_0_4_1/split_2/train/mask/_Image_01R_1_5.png  \n",
            "  inflating: chase_db_320_320_dice_bce_0_4__hvr_0_4_1/split_2/train/mask/_Image_01L_1_4.png  \n",
            "  inflating: chase_db_320_320_dice_bce_0_4__hvr_0_4_1/split_2/train/mask/_Image_04R_2_5.png  \n",
            "  inflating: chase_db_320_320_dice_bce_0_4__hvr_0_4_1/split_2/train/mask/_Image_04L_0_3.png  \n",
            "  inflating: chase_db_320_320_dice_bce_0_4__hvr_0_4_1/split_2/train/mask/_Image_08L_2_8.png  \n",
            "  inflating: chase_db_320_320_dice_bce_0_4__hvr_0_4_1/split_2/train/mask/_Image_06R_2_6.png  \n",
            "  inflating: chase_db_320_320_dice_bce_0_4__hvr_0_4_1/split_2/train/mask/_Image_14L_3_0.png  \n",
            "  inflating: chase_db_320_320_dice_bce_0_4__hvr_0_4_1/split_2/train/mask/_Image_04R_3_4.png  \n",
            "  inflating: chase_db_320_320_dice_bce_0_4__hvr_0_4_1/split_2/train/mask/_Image_14R_3_3.png  \n",
            "  inflating: chase_db_320_320_dice_bce_0_4__hvr_0_4_1/split_2/train/mask/_Image_09R_0_4.png  \n",
            "  inflating: chase_db_320_320_dice_bce_0_4__hvr_0_4_1/split_2/train/mask/_Image_10R_0_1.png  \n",
            "  inflating: chase_db_320_320_dice_bce_0_4__hvr_0_4_1/split_2/train/mask/_Image_06L_1_2.png  \n",
            "  inflating: chase_db_320_320_dice_bce_0_4__hvr_0_4_1/split_2/train/mask/_Image_10R_0_7.png  \n",
            "  inflating: chase_db_320_320_dice_bce_0_4__hvr_0_4_1/split_2/train/mask/_Image_09R_1_0.png  \n",
            "  inflating: chase_db_320_320_dice_bce_0_4__hvr_0_4_1/split_2/train/mask/_Image_05R_2_11.png  \n",
            "  inflating: chase_db_320_320_dice_bce_0_4__hvr_0_4_1/split_2/train/mask/_Image_04L_3_1.png  \n",
            "  inflating: chase_db_320_320_dice_bce_0_4__hvr_0_4_1/split_2/train/mask/_Image_10L_1_6.png  \n",
            "  inflating: chase_db_320_320_dice_bce_0_4__hvr_0_4_1/split_2/train/mask/_Image_13R_0_8.png  \n",
            "  inflating: chase_db_320_320_dice_bce_0_4__hvr_0_4_1/split_2/train/mask/_Image_14L_3_1.png  \n",
            "  inflating: chase_db_320_320_dice_bce_0_4__hvr_0_4_1/split_2/train/mask/_Image_09R_3_0.png  \n",
            "  inflating: chase_db_320_320_dice_bce_0_4__hvr_0_4_1/split_2/train/mask/_Image_05L_3_9.png  \n",
            "  inflating: chase_db_320_320_dice_bce_0_4__hvr_0_4_1/split_2/train/mask/_Image_01L_2_7.png  \n",
            "  inflating: chase_db_320_320_dice_bce_0_4__hvr_0_4_1/split_2/train/mask/_Image_06R_1_8.png  \n",
            "  inflating: chase_db_320_320_dice_bce_0_4__hvr_0_4_1/split_2/train/mask/_Image_07L_3_2.png  \n",
            "  inflating: chase_db_320_320_dice_bce_0_4__hvr_0_4_1/split_2/train/mask/_Image_08L_1_7.png  \n",
            "  inflating: chase_db_320_320_dice_bce_0_4__hvr_0_4_1/split_2/train/mask/_Image_09R_1_7.png  \n",
            "  inflating: chase_db_320_320_dice_bce_0_4__hvr_0_4_1/split_2/train/mask/_Image_09R_0_9.png  \n",
            "  inflating: chase_db_320_320_dice_bce_0_4__hvr_0_4_1/split_2/train/mask/_Image_05R_0_2.png  \n",
            "  inflating: chase_db_320_320_dice_bce_0_4__hvr_0_4_1/split_2/train/mask/_Image_01L_1_3.png  \n",
            "  inflating: chase_db_320_320_dice_bce_0_4__hvr_0_4_1/split_2/train/mask/_Image_10L_2_0.png  \n",
            "  inflating: chase_db_320_320_dice_bce_0_4__hvr_0_4_1/split_2/train/mask/_Image_08L_0_8.png  \n",
            "  inflating: chase_db_320_320_dice_bce_0_4__hvr_0_4_1/split_2/train/mask/_Image_14R_3_8.png  \n",
            "  inflating: chase_db_320_320_dice_bce_0_4__hvr_0_4_1/split_2/train/mask/_Image_03R_0_3.png  \n",
            "  inflating: chase_db_320_320_dice_bce_0_4__hvr_0_4_1/split_2/train/mask/_Image_02L_1_7.png  \n",
            "  inflating: chase_db_320_320_dice_bce_0_4__hvr_0_4_1/split_2/train/mask/_Image_03L_1_0.png  \n",
            "  inflating: chase_db_320_320_dice_bce_0_4__hvr_0_4_1/split_2/train/mask/_Image_08R_0_10.png  \n",
            "  inflating: chase_db_320_320_dice_bce_0_4__hvr_0_4_1/split_2/train/mask/_Image_02L_3_1.png  \n",
            "  inflating: chase_db_320_320_dice_bce_0_4__hvr_0_4_1/split_2/train/mask/_Image_10L_3_2.png  \n",
            "  inflating: chase_db_320_320_dice_bce_0_4__hvr_0_4_1/split_2/train/mask/_Image_09R_3_2.png  \n",
            "  inflating: chase_db_320_320_dice_bce_0_4__hvr_0_4_1/split_2/train/mask/_Image_07R_2_0.png  \n",
            "  inflating: chase_db_320_320_dice_bce_0_4__hvr_0_4_1/split_2/train/mask/_Image_14R_1_4.png  \n",
            "  inflating: chase_db_320_320_dice_bce_0_4__hvr_0_4_1/split_2/train/mask/_Image_02R_3_3.png  \n",
            "  inflating: chase_db_320_320_dice_bce_0_4__hvr_0_4_1/split_2/train/mask/_Image_02L_2_6.png  \n",
            "  inflating: chase_db_320_320_dice_bce_0_4__hvr_0_4_1/split_2/train/mask/_Image_05R_3_4.png  \n",
            "  inflating: chase_db_320_320_dice_bce_0_4__hvr_0_4_1/split_2/train/mask/_Image_05L_2_8.png  \n",
            "  inflating: chase_db_320_320_dice_bce_0_4__hvr_0_4_1/split_2/train/mask/_Image_01L_0_7.png  \n",
            "  inflating: chase_db_320_320_dice_bce_0_4__hvr_0_4_1/split_2/train/mask/_Image_07R_1_9.png  \n",
            "  inflating: chase_db_320_320_dice_bce_0_4__hvr_0_4_1/split_2/train/mask/_Image_08R_2_11.png  \n",
            "  inflating: chase_db_320_320_dice_bce_0_4__hvr_0_4_1/split_2/train/mask/_Image_06L_2_2.png  \n",
            "  inflating: chase_db_320_320_dice_bce_0_4__hvr_0_4_1/split_2/train/mask/_Image_09L_2_3.png  \n",
            "  inflating: chase_db_320_320_dice_bce_0_4__hvr_0_4_1/split_2/train/mask/_Image_03R_2_10.png  \n",
            "  inflating: chase_db_320_320_dice_bce_0_4__hvr_0_4_1/split_2/train/mask/_Image_04R_3_6.png  \n",
            "  inflating: chase_db_320_320_dice_bce_0_4__hvr_0_4_1/split_2/train/mask/_Image_14L_2_5.png  \n",
            "  inflating: chase_db_320_320_dice_bce_0_4__hvr_0_4_1/split_2/train/mask/_Image_09R_3_3.png  \n",
            "  inflating: chase_db_320_320_dice_bce_0_4__hvr_0_4_1/split_2/train/mask/_Image_06L_1_11.png  \n",
            "  inflating: chase_db_320_320_dice_bce_0_4__hvr_0_4_1/split_2/train/mask/_Image_01L_3_9.png  \n",
            "  inflating: chase_db_320_320_dice_bce_0_4__hvr_0_4_1/split_2/train/mask/_Image_07L_3_1.png  \n",
            "  inflating: chase_db_320_320_dice_bce_0_4__hvr_0_4_1/split_2/train/mask/_Image_08L_3_3.png  \n",
            "  inflating: chase_db_320_320_dice_bce_0_4__hvr_0_4_1/split_2/train/mask/_Image_08R_0_8.png  \n",
            "  inflating: chase_db_320_320_dice_bce_0_4__hvr_0_4_1/split_2/train/mask/_Image_08L_3_1.png  \n",
            "  inflating: chase_db_320_320_dice_bce_0_4__hvr_0_4_1/split_2/train/mask/_Image_10L_1_1.png  \n",
            "  inflating: chase_db_320_320_dice_bce_0_4__hvr_0_4_1/split_2/train/mask/_Image_05L_3_11.png  \n",
            "  inflating: chase_db_320_320_dice_bce_0_4__hvr_0_4_1/split_2/train/mask/_Image_09R_3_10.png  \n",
            "  inflating: chase_db_320_320_dice_bce_0_4__hvr_0_4_1/split_2/train/mask/_Image_06R_0_3.png  \n",
            "  inflating: chase_db_320_320_dice_bce_0_4__hvr_0_4_1/split_2/train/mask/_Image_14L_2_6.png  \n",
            "  inflating: chase_db_320_320_dice_bce_0_4__hvr_0_4_1/split_2/train/mask/_Image_01R_2_4.png  \n",
            "  inflating: chase_db_320_320_dice_bce_0_4__hvr_0_4_1/split_2/train/mask/_Image_04L_1_0.png  \n",
            "  inflating: chase_db_320_320_dice_bce_0_4__hvr_0_4_1/split_2/train/mask/_Image_08R_1_4.png  \n",
            "  inflating: chase_db_320_320_dice_bce_0_4__hvr_0_4_1/split_2/train/mask/_Image_10L_0_4.png  \n",
            "  inflating: chase_db_320_320_dice_bce_0_4__hvr_0_4_1/split_2/train/mask/_Image_13R_0_5.png  \n",
            "  inflating: chase_db_320_320_dice_bce_0_4__hvr_0_4_1/split_2/train/mask/_Image_08R_2_3.png  \n",
            "  inflating: chase_db_320_320_dice_bce_0_4__hvr_0_4_1/split_2/train/mask/_Image_10R_3_8.png  \n",
            "  inflating: chase_db_320_320_dice_bce_0_4__hvr_0_4_1/split_2/train/mask/_Image_01L_2_6.png  \n",
            "  inflating: chase_db_320_320_dice_bce_0_4__hvr_0_4_1/split_2/train/mask/_Image_04L_1_8.png  \n",
            "  inflating: chase_db_320_320_dice_bce_0_4__hvr_0_4_1/split_2/train/mask/_Image_03R_2_11.png  \n",
            "  inflating: chase_db_320_320_dice_bce_0_4__hvr_0_4_1/split_2/train/mask/_Image_09L_2_11.png  \n",
            "  inflating: chase_db_320_320_dice_bce_0_4__hvr_0_4_1/split_2/train/mask/_Image_08R_2_8.png  \n",
            "  inflating: chase_db_320_320_dice_bce_0_4__hvr_0_4_1/split_2/train/mask/_Image_01L_0_4.png  \n",
            "  inflating: chase_db_320_320_dice_bce_0_4__hvr_0_4_1/split_2/train/mask/_Image_07R_1_5.png  \n",
            "  inflating: chase_db_320_320_dice_bce_0_4__hvr_0_4_1/split_2/train/mask/_Image_07R_1_7.png  \n",
            "  inflating: chase_db_320_320_dice_bce_0_4__hvr_0_4_1/split_2/train/mask/_Image_07L_0_10.png  \n",
            "  inflating: chase_db_320_320_dice_bce_0_4__hvr_0_4_1/split_2/train/mask/_Image_06L_2_7.png  \n",
            "  inflating: chase_db_320_320_dice_bce_0_4__hvr_0_4_1/split_2/train/mask/_Image_14L_3_5.png  \n",
            "  inflating: chase_db_320_320_dice_bce_0_4__hvr_0_4_1/split_2/train/mask/_Image_01R_1_2.png  \n",
            "  inflating: chase_db_320_320_dice_bce_0_4__hvr_0_4_1/split_2/train/mask/_Image_08L_3_11.png  \n",
            "  inflating: chase_db_320_320_dice_bce_0_4__hvr_0_4_1/split_2/train/mask/_Image_05L_3_4.png  \n",
            "  inflating: chase_db_320_320_dice_bce_0_4__hvr_0_4_1/split_2/train/mask/_Image_07L_1_6.png  \n",
            "  inflating: chase_db_320_320_dice_bce_0_4__hvr_0_4_1/split_2/train/mask/_Image_14R_2_1.png  \n",
            "  inflating: chase_db_320_320_dice_bce_0_4__hvr_0_4_1/split_2/train/mask/_Image_01L_2_2.png  \n",
            "  inflating: chase_db_320_320_dice_bce_0_4__hvr_0_4_1/split_2/train/mask/_Image_01R_1_4.png  \n",
            "  inflating: chase_db_320_320_dice_bce_0_4__hvr_0_4_1/split_2/train/mask/_Image_07L_3_11.png  \n",
            "  inflating: chase_db_320_320_dice_bce_0_4__hvr_0_4_1/split_2/train/mask/_Image_07L_0_3.png  \n",
            "  inflating: chase_db_320_320_dice_bce_0_4__hvr_0_4_1/split_2/train/mask/_Image_05R_1_4.png  \n",
            "  inflating: chase_db_320_320_dice_bce_0_4__hvr_0_4_1/split_2/train/mask/_Image_08R_3_7.png  \n",
            "  inflating: chase_db_320_320_dice_bce_0_4__hvr_0_4_1/split_2/train/mask/_Image_03L_2_7.png  \n",
            "  inflating: chase_db_320_320_dice_bce_0_4__hvr_0_4_1/split_2/train/mask/_Image_06L_1_4.png  \n",
            "  inflating: chase_db_320_320_dice_bce_0_4__hvr_0_4_1/split_2/train/mask/_Image_09L_3_6.png  \n",
            "  inflating: chase_db_320_320_dice_bce_0_4__hvr_0_4_1/split_2/train/mask/_Image_09L_2_6.png  \n",
            "  inflating: chase_db_320_320_dice_bce_0_4__hvr_0_4_1/split_2/train/mask/_Image_07R_3_6.png  \n",
            "  inflating: chase_db_320_320_dice_bce_0_4__hvr_0_4_1/split_2/train/mask/_Image_06R_0_4.png  \n",
            "  inflating: chase_db_320_320_dice_bce_0_4__hvr_0_4_1/split_2/train/mask/_Image_02R_2_3.png  \n",
            "  inflating: chase_db_320_320_dice_bce_0_4__hvr_0_4_1/split_2/train/mask/_Image_04L_2_9.png  \n",
            "  inflating: chase_db_320_320_dice_bce_0_4__hvr_0_4_1/split_2/train/mask/_Image_05L_0_1.png  \n",
            "  inflating: chase_db_320_320_dice_bce_0_4__hvr_0_4_1/split_2/train/mask/_Image_13R_2_3.png  \n",
            "  inflating: chase_db_320_320_dice_bce_0_4__hvr_0_4_1/split_2/train/mask/_Image_07L_0_9.png  \n",
            "  inflating: chase_db_320_320_dice_bce_0_4__hvr_0_4_1/split_2/train/mask/_Image_03R_1_2.png  \n",
            "  inflating: chase_db_320_320_dice_bce_0_4__hvr_0_4_1/split_2/train/mask/_Image_14L_1_5.png  \n",
            "  inflating: chase_db_320_320_dice_bce_0_4__hvr_0_4_1/split_2/train/mask/_Image_06L_2_5.png  \n",
            "  inflating: chase_db_320_320_dice_bce_0_4__hvr_0_4_1/split_2/train/mask/_Image_09R_0_6.png  \n",
            "  inflating: chase_db_320_320_dice_bce_0_4__hvr_0_4_1/split_2/train/mask/_Image_01R_2_6.png  \n",
            "  inflating: chase_db_320_320_dice_bce_0_4__hvr_0_4_1/split_2/train/mask/_Image_04L_3_11.png  \n",
            "  inflating: chase_db_320_320_dice_bce_0_4__hvr_0_4_1/split_2/train/mask/_Image_10R_1_4.png  \n",
            "  inflating: chase_db_320_320_dice_bce_0_4__hvr_0_4_1/split_2/train/mask/_Image_02R_1_10.png  \n",
            "  inflating: chase_db_320_320_dice_bce_0_4__hvr_0_4_1/split_2/train/mask/_Image_14R_3_7.png  \n",
            "  inflating: chase_db_320_320_dice_bce_0_4__hvr_0_4_1/split_2/train/mask/_Image_02L_1_1.png  \n",
            "  inflating: chase_db_320_320_dice_bce_0_4__hvr_0_4_1/split_2/train/mask/_Image_14R_1_9.png  \n",
            "  inflating: chase_db_320_320_dice_bce_0_4__hvr_0_4_1/split_2/train/mask/_Image_06R_2_1.png  \n",
            "  inflating: chase_db_320_320_dice_bce_0_4__hvr_0_4_1/split_2/train/mask/_Image_13R_0_10.png  \n",
            "  inflating: chase_db_320_320_dice_bce_0_4__hvr_0_4_1/split_2/train/mask/_Image_07R_3_1.png  \n",
            "  inflating: chase_db_320_320_dice_bce_0_4__hvr_0_4_1/split_2/train/mask/_Image_14R_1_11.png  \n",
            "  inflating: chase_db_320_320_dice_bce_0_4__hvr_0_4_1/split_2/train/mask/_Image_01R_3_6.png  \n",
            "  inflating: chase_db_320_320_dice_bce_0_4__hvr_0_4_1/split_2/train/mask/_Image_03R_0_1.png  \n",
            "  inflating: chase_db_320_320_dice_bce_0_4__hvr_0_4_1/split_2/train/mask/_Image_02R_3_8.png  \n",
            "  inflating: chase_db_320_320_dice_bce_0_4__hvr_0_4_1/split_2/train/mask/_Image_05R_1_11.png  \n",
            "  inflating: chase_db_320_320_dice_bce_0_4__hvr_0_4_1/split_2/train/mask/_Image_01R_2_7.png  \n",
            "  inflating: chase_db_320_320_dice_bce_0_4__hvr_0_4_1/split_2/train/mask/_Image_04L_0_1.png  \n",
            "  inflating: chase_db_320_320_dice_bce_0_4__hvr_0_4_1/split_2/train/mask/_Image_03R_1_1.png  \n",
            "  inflating: chase_db_320_320_dice_bce_0_4__hvr_0_4_1/split_2/train/mask/_Image_13R_2_10.png  \n",
            "  inflating: chase_db_320_320_dice_bce_0_4__hvr_0_4_1/split_2/train/mask/_Image_10L_1_8.png  \n",
            "  inflating: chase_db_320_320_dice_bce_0_4__hvr_0_4_1/split_2/train/mask/_Image_05R_3_9.png  \n",
            "  inflating: chase_db_320_320_dice_bce_0_4__hvr_0_4_1/split_2/train/mask/_Image_08R_3_1.png  \n",
            "  inflating: chase_db_320_320_dice_bce_0_4__hvr_0_4_1/split_2/train/mask/_Image_10R_3_7.png  \n",
            "  inflating: chase_db_320_320_dice_bce_0_4__hvr_0_4_1/split_2/train/mask/_Image_09L_3_1.png  \n",
            "  inflating: chase_db_320_320_dice_bce_0_4__hvr_0_4_1/split_2/train/mask/_Image_01L_0_0.png  \n",
            "  inflating: chase_db_320_320_dice_bce_0_4__hvr_0_4_1/split_2/train/mask/_Image_14L_1_4.png  \n",
            "  inflating: chase_db_320_320_dice_bce_0_4__hvr_0_4_1/split_2/train/mask/_Image_08R_1_8.png  \n",
            "  inflating: chase_db_320_320_dice_bce_0_4__hvr_0_4_1/split_2/train/mask/_Image_04R_1_8.png  \n",
            "  inflating: chase_db_320_320_dice_bce_0_4__hvr_0_4_1/split_2/train/mask/_Image_04L_3_5.png  \n",
            "  inflating: chase_db_320_320_dice_bce_0_4__hvr_0_4_1/split_2/train/mask/_Image_08L_3_10.png  \n",
            "  inflating: chase_db_320_320_dice_bce_0_4__hvr_0_4_1/split_2/train/mask/_Image_07L_1_7.png  \n",
            "  inflating: chase_db_320_320_dice_bce_0_4__hvr_0_4_1/split_2/train/mask/_Image_05R_3_11.png  \n",
            "  inflating: chase_db_320_320_dice_bce_0_4__hvr_0_4_1/split_2/train/mask/_Image_14R_3_5.png  \n",
            "  inflating: chase_db_320_320_dice_bce_0_4__hvr_0_4_1/split_2/train/mask/_Image_02L_1_5.png  \n",
            "  inflating: chase_db_320_320_dice_bce_0_4__hvr_0_4_1/split_2/train/mask/_Image_03L_1_4.png  \n",
            "  inflating: chase_db_320_320_dice_bce_0_4__hvr_0_4_1/split_2/train/mask/_Image_08R_0_3.png  \n",
            "  inflating: chase_db_320_320_dice_bce_0_4__hvr_0_4_1/split_2/train/mask/_Image_06L_0_10.png  \n",
            "  inflating: chase_db_320_320_dice_bce_0_4__hvr_0_4_1/split_2/train/mask/_Image_13R_3_9.png  \n",
            "  inflating: chase_db_320_320_dice_bce_0_4__hvr_0_4_1/split_2/train/mask/_Image_10R_3_6.png  \n",
            "  inflating: chase_db_320_320_dice_bce_0_4__hvr_0_4_1/split_2/train/mask/_Image_02R_3_7.png  \n",
            "  inflating: chase_db_320_320_dice_bce_0_4__hvr_0_4_1/split_2/train/mask/_Image_04R_2_8.png  \n",
            "  inflating: chase_db_320_320_dice_bce_0_4__hvr_0_4_1/split_2/train/mask/_Image_09R_0_5.png  \n",
            "  inflating: chase_db_320_320_dice_bce_0_4__hvr_0_4_1/split_2/train/mask/_Image_05R_3_3.png  \n",
            "  inflating: chase_db_320_320_dice_bce_0_4__hvr_0_4_1/split_2/train/mask/_Image_10L_2_11.png  \n",
            "  inflating: chase_db_320_320_dice_bce_0_4__hvr_0_4_1/split_2/train/mask/_Image_09R_3_9.png  \n",
            "  inflating: chase_db_320_320_dice_bce_0_4__hvr_0_4_1/split_2/train/mask/_Image_07L_2_6.png  \n",
            "  inflating: chase_db_320_320_dice_bce_0_4__hvr_0_4_1/split_2/train/mask/_Image_05R_0_10.png  \n",
            "  inflating: chase_db_320_320_dice_bce_0_4__hvr_0_4_1/split_2/train/mask/_Image_02R_2_7.png  \n",
            "  inflating: chase_db_320_320_dice_bce_0_4__hvr_0_4_1/split_2/train/mask/_Image_05R_0_0.png  \n",
            "  inflating: chase_db_320_320_dice_bce_0_4__hvr_0_4_1/split_2/train/mask/_Image_01L_3_4.png  \n",
            "  inflating: chase_db_320_320_dice_bce_0_4__hvr_0_4_1/split_2/train/mask/_Image_04L_3_8.png  \n",
            "  inflating: chase_db_320_320_dice_bce_0_4__hvr_0_4_1/split_2/train/mask/_Image_14R_2_4.png  \n",
            "  inflating: chase_db_320_320_dice_bce_0_4__hvr_0_4_1/split_2/train/mask/_Image_07L_0_7.png  \n",
            "  inflating: chase_db_320_320_dice_bce_0_4__hvr_0_4_1/split_2/train/mask/_Image_02R_1_1.png  \n",
            "  inflating: chase_db_320_320_dice_bce_0_4__hvr_0_4_1/split_2/train/mask/_Image_03L_0_7.png  \n",
            "  inflating: chase_db_320_320_dice_bce_0_4__hvr_0_4_1/split_2/train/mask/_Image_09L_1_3.png  \n",
            "  inflating: chase_db_320_320_dice_bce_0_4__hvr_0_4_1/split_2/train/mask/_Image_02R_0_3.png  \n",
            "  inflating: chase_db_320_320_dice_bce_0_4__hvr_0_4_1/split_2/train/mask/_Image_01L_2_3.png  \n",
            "  inflating: chase_db_320_320_dice_bce_0_4__hvr_0_4_1/split_2/train/mask/_Image_01L_3_2.png  \n",
            "  inflating: chase_db_320_320_dice_bce_0_4__hvr_0_4_1/split_2/train/mask/_Image_07R_0_3.png  \n",
            "  inflating: chase_db_320_320_dice_bce_0_4__hvr_0_4_1/split_2/train/mask/_Image_02L_1_9.png  \n",
            "  inflating: chase_db_320_320_dice_bce_0_4__hvr_0_4_1/split_2/train/mask/_Image_05L_2_4.png  \n",
            "  inflating: chase_db_320_320_dice_bce_0_4__hvr_0_4_1/split_2/train/mask/_Image_02R_1_2.png  \n",
            "  inflating: chase_db_320_320_dice_bce_0_4__hvr_0_4_1/split_2/train/mask/_Image_02L_3_9.png  \n",
            "  inflating: chase_db_320_320_dice_bce_0_4__hvr_0_4_1/split_2/train/mask/_Image_03L_3_7.png  \n",
            "  inflating: chase_db_320_320_dice_bce_0_4__hvr_0_4_1/split_2/train/mask/_Image_08L_0_4.png  \n",
            "  inflating: chase_db_320_320_dice_bce_0_4__hvr_0_4_1/split_2/train/mask/_Image_04L_2_0.png  \n",
            "  inflating: chase_db_320_320_dice_bce_0_4__hvr_0_4_1/split_2/train/mask/_Image_06L_0_0.png  \n",
            "  inflating: chase_db_320_320_dice_bce_0_4__hvr_0_4_1/split_2/train/mask/_Image_03R_3_3.png  \n",
            "  inflating: chase_db_320_320_dice_bce_0_4__hvr_0_4_1/split_2/train/mask/_Image_08R_3_2.png  \n",
            "  inflating: chase_db_320_320_dice_bce_0_4__hvr_0_4_1/split_2/train/mask/_Image_04L_1_7.png  \n",
            "  inflating: chase_db_320_320_dice_bce_0_4__hvr_0_4_1/split_2/train/mask/_Image_14R_1_8.png  \n",
            "  inflating: chase_db_320_320_dice_bce_0_4__hvr_0_4_1/split_2/train/mask/_Image_07R_2_9.png  \n",
            "  inflating: chase_db_320_320_dice_bce_0_4__hvr_0_4_1/split_2/train/mask/_Image_10L_1_9.png  \n",
            "  inflating: chase_db_320_320_dice_bce_0_4__hvr_0_4_1/split_2/train/mask/_Image_09R_2_2.png  \n",
            "  inflating: chase_db_320_320_dice_bce_0_4__hvr_0_4_1/split_2/train/mask/_Image_07L_2_7.png  \n",
            "  inflating: chase_db_320_320_dice_bce_0_4__hvr_0_4_1/split_2/train/mask/_Image_02L_1_6.png  \n",
            "  inflating: chase_db_320_320_dice_bce_0_4__hvr_0_4_1/split_2/train/mask/_Image_02L_1_8.png  \n",
            "  inflating: chase_db_320_320_dice_bce_0_4__hvr_0_4_1/split_2/train/mask/_Image_07L_3_9.png  \n",
            "  inflating: chase_db_320_320_dice_bce_0_4__hvr_0_4_1/split_2/train/mask/_Image_14R_0_4.png  \n",
            "  inflating: chase_db_320_320_dice_bce_0_4__hvr_0_4_1/split_2/train/mask/_Image_13R_1_3.png  \n",
            "  inflating: chase_db_320_320_dice_bce_0_4__hvr_0_4_1/split_2/train/mask/_Image_07L_1_4.png  \n",
            "  inflating: chase_db_320_320_dice_bce_0_4__hvr_0_4_1/split_2/train/mask/_Image_04R_0_4.png  \n",
            "  inflating: chase_db_320_320_dice_bce_0_4__hvr_0_4_1/split_2/train/mask/_Image_07L_0_2.png  \n",
            "  inflating: chase_db_320_320_dice_bce_0_4__hvr_0_4_1/split_2/train/mask/_Image_06R_3_1.png  \n",
            "  inflating: chase_db_320_320_dice_bce_0_4__hvr_0_4_1/split_2/train/mask/_Image_01R_3_11.png  \n",
            "  inflating: chase_db_320_320_dice_bce_0_4__hvr_0_4_1/split_2/train/mask/_Image_03L_0_3.png  \n",
            "  inflating: chase_db_320_320_dice_bce_0_4__hvr_0_4_1/split_2/train/mask/_Image_01L_1_0.png  \n",
            "  inflating: chase_db_320_320_dice_bce_0_4__hvr_0_4_1/split_2/train/mask/_Image_04R_3_8.png  \n",
            "  inflating: chase_db_320_320_dice_bce_0_4__hvr_0_4_1/split_2/train/mask/_Image_07L_0_6.png  \n",
            "  inflating: chase_db_320_320_dice_bce_0_4__hvr_0_4_1/split_2/train/mask/_Image_13R_1_0.png  \n",
            "  inflating: chase_db_320_320_dice_bce_0_4__hvr_0_4_1/split_2/train/mask/_Image_14R_3_4.png  \n",
            "  inflating: chase_db_320_320_dice_bce_0_4__hvr_0_4_1/split_2/train/mask/_Image_14L_2_9.png  \n",
            "  inflating: chase_db_320_320_dice_bce_0_4__hvr_0_4_1/split_2/train/mask/_Image_04L_3_2.png  \n",
            "  inflating: chase_db_320_320_dice_bce_0_4__hvr_0_4_1/split_2/train/mask/_Image_04L_0_4.png  \n",
            "  inflating: chase_db_320_320_dice_bce_0_4__hvr_0_4_1/split_2/train/mask/_Image_10R_2_3.png  \n",
            "  inflating: chase_db_320_320_dice_bce_0_4__hvr_0_4_1/split_2/train/mask/_Image_06L_1_10.png  \n",
            "  inflating: chase_db_320_320_dice_bce_0_4__hvr_0_4_1/split_2/train/mask/_Image_10R_0_3.png  \n",
            "  inflating: chase_db_320_320_dice_bce_0_4__hvr_0_4_1/split_2/train/mask/_Image_06R_2_8.png  \n",
            "  inflating: chase_db_320_320_dice_bce_0_4__hvr_0_4_1/split_2/train/mask/_Image_10L_1_4.png  \n",
            "  inflating: chase_db_320_320_dice_bce_0_4__hvr_0_4_1/split_2/train/mask/_Image_06R_3_0.png  \n",
            "  inflating: chase_db_320_320_dice_bce_0_4__hvr_0_4_1/split_2/train/mask/_Image_03R_1_7.png  \n",
            "  inflating: chase_db_320_320_dice_bce_0_4__hvr_0_4_1/split_2/train/mask/_Image_07R_0_6.png  \n",
            "  inflating: chase_db_320_320_dice_bce_0_4__hvr_0_4_1/split_2/train/mask/_Image_06R_3_2.png  \n",
            "  inflating: chase_db_320_320_dice_bce_0_4__hvr_0_4_1/split_2/train/mask/_Image_02R_2_0.png  \n",
            "  inflating: chase_db_320_320_dice_bce_0_4__hvr_0_4_1/split_2/train/mask/_Image_03R_0_4.png  \n",
            "  inflating: chase_db_320_320_dice_bce_0_4__hvr_0_4_1/split_2/train/mask/_Image_02R_2_10.png  \n",
            "  inflating: chase_db_320_320_dice_bce_0_4__hvr_0_4_1/split_2/train/mask/_Image_05R_2_10.png  \n",
            "  inflating: chase_db_320_320_dice_bce_0_4__hvr_0_4_1/split_2/train/mask/_Image_05L_0_3.png  \n",
            "  inflating: chase_db_320_320_dice_bce_0_4__hvr_0_4_1/split_2/train/mask/_Image_02L_2_4.png  \n",
            "  inflating: chase_db_320_320_dice_bce_0_4__hvr_0_4_1/split_2/train/mask/_Image_04R_2_2.png  \n",
            "  inflating: chase_db_320_320_dice_bce_0_4__hvr_0_4_1/split_2/train/mask/_Image_13R_2_4.png  \n",
            "  inflating: chase_db_320_320_dice_bce_0_4__hvr_0_4_1/split_2/train/mask/_Image_07L_3_6.png  \n",
            "  inflating: chase_db_320_320_dice_bce_0_4__hvr_0_4_1/split_2/train/mask/_Image_05L_1_7.png  \n",
            "  inflating: chase_db_320_320_dice_bce_0_4__hvr_0_4_1/split_2/train/mask/_Image_04L_2_4.png  \n",
            "  inflating: chase_db_320_320_dice_bce_0_4__hvr_0_4_1/split_2/train/mask/_Image_03L_1_5.png  \n",
            "  inflating: chase_db_320_320_dice_bce_0_4__hvr_0_4_1/split_2/train/mask/_Image_01L_3_5.png  \n",
            "  inflating: chase_db_320_320_dice_bce_0_4__hvr_0_4_1/split_2/train/mask/_Image_09L_0_8.png  \n",
            "  inflating: chase_db_320_320_dice_bce_0_4__hvr_0_4_1/split_2/train/mask/_Image_09R_3_5.png  \n",
            "  inflating: chase_db_320_320_dice_bce_0_4__hvr_0_4_1/split_2/train/mask/_Image_14L_0_5.png  \n",
            "  inflating: chase_db_320_320_dice_bce_0_4__hvr_0_4_1/split_2/train/mask/_Image_09R_0_1.png  \n",
            "  inflating: chase_db_320_320_dice_bce_0_4__hvr_0_4_1/split_2/train/mask/_Image_01L_3_10.png  \n",
            "  inflating: chase_db_320_320_dice_bce_0_4__hvr_0_4_1/split_2/train/mask/_Image_14R_3_0.png  \n",
            "  inflating: chase_db_320_320_dice_bce_0_4__hvr_0_4_1/split_2/train/mask/_Image_07L_3_10.png  \n",
            "  inflating: chase_db_320_320_dice_bce_0_4__hvr_0_4_1/split_2/train/mask/_Image_03R_0_2.png  \n",
            "  inflating: chase_db_320_320_dice_bce_0_4__hvr_0_4_1/split_2/train/mask/_Image_05L_1_9.png  \n",
            "  inflating: chase_db_320_320_dice_bce_0_4__hvr_0_4_1/split_2/train/mask/_Image_04R_0_6.png  \n",
            "  inflating: chase_db_320_320_dice_bce_0_4__hvr_0_4_1/split_2/train/mask/_Image_01R_0_1.png  \n",
            "  inflating: chase_db_320_320_dice_bce_0_4__hvr_0_4_1/split_2/train/mask/_Image_09R_2_8.png  \n",
            "  inflating: chase_db_320_320_dice_bce_0_4__hvr_0_4_1/split_2/train/mask/_Image_05R_0_4.png  \n",
            "  inflating: chase_db_320_320_dice_bce_0_4__hvr_0_4_1/split_2/train/mask/_Image_01R_3_4.png  \n",
            "  inflating: chase_db_320_320_dice_bce_0_4__hvr_0_4_1/split_2/train/mask/_Image_01L_0_2.png  \n",
            "  inflating: chase_db_320_320_dice_bce_0_4__hvr_0_4_1/split_2/train/mask/_Image_02L_3_4.png  \n",
            "  inflating: chase_db_320_320_dice_bce_0_4__hvr_0_4_1/split_2/train/mask/_Image_04R_2_0.png  \n",
            "  inflating: chase_db_320_320_dice_bce_0_4__hvr_0_4_1/split_2/train/mask/_Image_06R_3_9.png  \n",
            "  inflating: chase_db_320_320_dice_bce_0_4__hvr_0_4_1/split_2/train/mask/_Image_08L_0_10.png  \n",
            "  inflating: chase_db_320_320_dice_bce_0_4__hvr_0_4_1/split_2/train/mask/_Image_06L_3_5.png  \n",
            "  inflating: chase_db_320_320_dice_bce_0_4__hvr_0_4_1/split_2/train/mask/_Image_14R_2_9.png  \n",
            "  inflating: chase_db_320_320_dice_bce_0_4__hvr_0_4_1/split_2/train/mask/_Image_04L_3_6.png  \n",
            "  inflating: chase_db_320_320_dice_bce_0_4__hvr_0_4_1/split_2/train/mask/_Image_01R_0_8.png  \n",
            "  inflating: chase_db_320_320_dice_bce_0_4__hvr_0_4_1/split_2/train/mask/_Image_02L_3_7.png  \n",
            "  inflating: chase_db_320_320_dice_bce_0_4__hvr_0_4_1/split_2/train/mask/_Image_09L_1_7.png  \n",
            "  inflating: chase_db_320_320_dice_bce_0_4__hvr_0_4_1/split_2/train/mask/_Image_06L_2_0.png  \n",
            "  inflating: chase_db_320_320_dice_bce_0_4__hvr_0_4_1/split_2/train/mask/_Image_09L_0_5.png  \n",
            "  inflating: chase_db_320_320_dice_bce_0_4__hvr_0_4_1/split_2/train/mask/_Image_07L_2_5.png  \n",
            "  inflating: chase_db_320_320_dice_bce_0_4__hvr_0_4_1/split_2/train/mask/_Image_05R_0_7.png  \n",
            "  inflating: chase_db_320_320_dice_bce_0_4__hvr_0_4_1/split_2/train/mask/_Image_09L_0_9.png  \n",
            "  inflating: chase_db_320_320_dice_bce_0_4__hvr_0_4_1/split_2/train/mask/_Image_01L_2_5.png  \n",
            "  inflating: chase_db_320_320_dice_bce_0_4__hvr_0_4_1/split_2/train/mask/_Image_07L_1_5.png  \n",
            "  inflating: chase_db_320_320_dice_bce_0_4__hvr_0_4_1/split_2/train/mask/_Image_06R_2_7.png  \n",
            "  inflating: chase_db_320_320_dice_bce_0_4__hvr_0_4_1/split_2/train/mask/_Image_14L_2_10.png  \n",
            "  inflating: chase_db_320_320_dice_bce_0_4__hvr_0_4_1/split_2/train/mask/_Image_06R_0_11.png  \n",
            "  inflating: chase_db_320_320_dice_bce_0_4__hvr_0_4_1/split_2/train/mask/_Image_04R_2_1.png  \n",
            "  inflating: chase_db_320_320_dice_bce_0_4__hvr_0_4_1/split_2/train/mask/_Image_05L_0_4.png  \n",
            "  inflating: chase_db_320_320_dice_bce_0_4__hvr_0_4_1/split_2/train/mask/_Image_10R_0_6.png  \n",
            "  inflating: chase_db_320_320_dice_bce_0_4__hvr_0_4_1/split_2/train/mask/_Image_08R_1_3.png  \n",
            "  inflating: chase_db_320_320_dice_bce_0_4__hvr_0_4_1/split_2/train/mask/_Image_14L_1_3.png  \n",
            "  inflating: chase_db_320_320_dice_bce_0_4__hvr_0_4_1/split_2/train/mask/_Image_06R_1_2.png  \n",
            "  inflating: chase_db_320_320_dice_bce_0_4__hvr_0_4_1/split_2/train/mask/_Image_14R_2_3.png  \n",
            "  inflating: chase_db_320_320_dice_bce_0_4__hvr_0_4_1/split_2/train/mask/_Image_07R_2_7.png  \n",
            "  inflating: chase_db_320_320_dice_bce_0_4__hvr_0_4_1/split_2/train/mask/_Image_05R_2_5.png  \n",
            "  inflating: chase_db_320_320_dice_bce_0_4__hvr_0_4_1/split_2/train/mask/_Image_10R_2_1.png  \n",
            "  inflating: chase_db_320_320_dice_bce_0_4__hvr_0_4_1/split_2/train/mask/_Image_14R_1_1.png  \n",
            "  inflating: chase_db_320_320_dice_bce_0_4__hvr_0_4_1/split_2/train/mask/_Image_14L_1_10.png  \n",
            "  inflating: chase_db_320_320_dice_bce_0_4__hvr_0_4_1/split_2/train/mask/_Image_03L_2_8.png  \n",
            "  inflating: chase_db_320_320_dice_bce_0_4__hvr_0_4_1/split_2/train/mask/_Image_05L_2_0.png  \n",
            "  inflating: chase_db_320_320_dice_bce_0_4__hvr_0_4_1/split_2/train/mask/_Image_08L_0_0.png  \n",
            "  inflating: chase_db_320_320_dice_bce_0_4__hvr_0_4_1/split_2/train/mask/_Image_02L_1_3.png  \n",
            "  inflating: chase_db_320_320_dice_bce_0_4__hvr_0_4_1/split_2/train/mask/_Image_07L_0_1.png  \n",
            "  inflating: chase_db_320_320_dice_bce_0_4__hvr_0_4_1/split_2/train/mask/_Image_08R_2_0.png  \n",
            "  inflating: chase_db_320_320_dice_bce_0_4__hvr_0_4_1/split_2/train/mask/_Image_02L_2_8.png  \n",
            "  inflating: chase_db_320_320_dice_bce_0_4__hvr_0_4_1/split_2/train/mask/_Image_03L_3_8.png  \n",
            "  inflating: chase_db_320_320_dice_bce_0_4__hvr_0_4_1/split_2/train/mask/_Image_14R_3_9.png  \n",
            "  inflating: chase_db_320_320_dice_bce_0_4__hvr_0_4_1/split_2/train/mask/_Image_05L_3_8.png  \n",
            "  inflating: chase_db_320_320_dice_bce_0_4__hvr_0_4_1/split_2/train/mask/_Image_08R_2_5.png  \n",
            "  inflating: chase_db_320_320_dice_bce_0_4__hvr_0_4_1/split_2/train/mask/_Image_05R_1_2.png  \n",
            "  inflating: chase_db_320_320_dice_bce_0_4__hvr_0_4_1/split_2/train/mask/_Image_13R_1_2.png  \n",
            "  inflating: chase_db_320_320_dice_bce_0_4__hvr_0_4_1/split_2/train/mask/_Image_01L_1_10.png  \n",
            "  inflating: chase_db_320_320_dice_bce_0_4__hvr_0_4_1/split_2/train/mask/_Image_10R_2_11.png  \n",
            "  inflating: chase_db_320_320_dice_bce_0_4__hvr_0_4_1/split_2/train/mask/_Image_06R_2_0.png  \n",
            "  inflating: chase_db_320_320_dice_bce_0_4__hvr_0_4_1/split_2/train/mask/_Image_08L_2_6.png  \n",
            "  inflating: chase_db_320_320_dice_bce_0_4__hvr_0_4_1/split_2/train/mask/_Image_09L_3_5.png  \n",
            "  inflating: chase_db_320_320_dice_bce_0_4__hvr_0_4_1/split_2/train/mask/_Image_10L_2_1.png  \n",
            "  inflating: chase_db_320_320_dice_bce_0_4__hvr_0_4_1/split_2/train/mask/_Image_10R_3_1.png  \n",
            "  inflating: chase_db_320_320_dice_bce_0_4__hvr_0_4_1/split_2/train/mask/_Image_07L_1_3.png  \n",
            "  inflating: chase_db_320_320_dice_bce_0_4__hvr_0_4_1/split_2/train/mask/_Image_14L_1_11.png  \n",
            "  inflating: chase_db_320_320_dice_bce_0_4__hvr_0_4_1/split_2/train/mask/_Image_07L_3_3.png  \n",
            "  inflating: chase_db_320_320_dice_bce_0_4__hvr_0_4_1/split_2/train/mask/_Image_05L_1_5.png  \n",
            "  inflating: chase_db_320_320_dice_bce_0_4__hvr_0_4_1/split_2/train/mask/_Image_14R_0_3.png  \n",
            "  inflating: chase_db_320_320_dice_bce_0_4__hvr_0_4_1/split_2/train/mask/_Image_02L_3_5.png  \n",
            "  inflating: chase_db_320_320_dice_bce_0_4__hvr_0_4_1/split_2/train/mask/_Image_07R_1_3.png  \n",
            "  inflating: chase_db_320_320_dice_bce_0_4__hvr_0_4_1/split_2/train/mask/_Image_03R_0_5.png  \n",
            "  inflating: chase_db_320_320_dice_bce_0_4__hvr_0_4_1/split_2/train/mask/_Image_06R_0_6.png  \n",
            "  inflating: chase_db_320_320_dice_bce_0_4__hvr_0_4_1/split_2/train/mask/_Image_01L_3_3.png  \n",
            "  inflating: chase_db_320_320_dice_bce_0_4__hvr_0_4_1/split_2/train/mask/_Image_10L_0_8.png  \n",
            "  inflating: chase_db_320_320_dice_bce_0_4__hvr_0_4_1/split_2/train/mask/_Image_06L_0_5.png  \n",
            "  inflating: chase_db_320_320_dice_bce_0_4__hvr_0_4_1/split_2/train/mask/_Image_14L_0_0.png  \n",
            "  inflating: chase_db_320_320_dice_bce_0_4__hvr_0_4_1/split_2/train/mask/_Image_03L_0_11.png  \n",
            "  inflating: chase_db_320_320_dice_bce_0_4__hvr_0_4_1/split_2/train/mask/_Image_01L_2_8.png  \n",
            "  inflating: chase_db_320_320_dice_bce_0_4__hvr_0_4_1/split_2/train/mask/_Image_04R_1_4.png  \n",
            "  inflating: chase_db_320_320_dice_bce_0_4__hvr_0_4_1/split_2/train/mask/_Image_04R_3_3.png  \n",
            "  inflating: chase_db_320_320_dice_bce_0_4__hvr_0_4_1/split_2/train/mask/_Image_02L_2_5.png  \n",
            "  inflating: chase_db_320_320_dice_bce_0_4__hvr_0_4_1/split_2/train/mask/_Image_09L_2_0.png  \n",
            "  inflating: chase_db_320_320_dice_bce_0_4__hvr_0_4_1/split_2/train/mask/_Image_04R_2_7.png  \n",
            "  inflating: chase_db_320_320_dice_bce_0_4__hvr_0_4_1/split_2/train/mask/_Image_06R_3_7.png  \n",
            "  inflating: chase_db_320_320_dice_bce_0_4__hvr_0_4_1/split_2/train/mask/_Image_08R_3_0.png  \n",
            "  inflating: chase_db_320_320_dice_bce_0_4__hvr_0_4_1/split_2/train/mask/_Image_03L_2_10.png  \n",
            "  inflating: chase_db_320_320_dice_bce_0_4__hvr_0_4_1/split_2/train/mask/_Image_09R_2_7.png  \n",
            "  inflating: chase_db_320_320_dice_bce_0_4__hvr_0_4_1/split_2/train/mask/_Image_02L_0_5.png  \n",
            "  inflating: chase_db_320_320_dice_bce_0_4__hvr_0_4_1/split_2/train/mask/_Image_08R_1_5.png  \n",
            "  inflating: chase_db_320_320_dice_bce_0_4__hvr_0_4_1/split_2/train/mask/_Image_01R_1_11.png  \n",
            "  inflating: chase_db_320_320_dice_bce_0_4__hvr_0_4_1/split_2/train/mask/_Image_02R_3_4.png  \n",
            "  inflating: chase_db_320_320_dice_bce_0_4__hvr_0_4_1/split_2/train/mask/_Image_08L_2_9.png  \n",
            "  inflating: chase_db_320_320_dice_bce_0_4__hvr_0_4_1/split_2/train/mask/_Image_06R_1_9.png  \n",
            "  inflating: chase_db_320_320_dice_bce_0_4__hvr_0_4_1/split_2/train/mask/_Image_01R_0_6.png  \n",
            "  inflating: chase_db_320_320_dice_bce_0_4__hvr_0_4_1/split_2/train/mask/_Image_08R_1_9.png  \n",
            "  inflating: chase_db_320_320_dice_bce_0_4__hvr_0_4_1/split_2/train/mask/_Image_07L_3_7.png  \n",
            "  inflating: chase_db_320_320_dice_bce_0_4__hvr_0_4_1/split_2/train/mask/_Image_05R_3_7.png  \n",
            "  inflating: chase_db_320_320_dice_bce_0_4__hvr_0_4_1/split_2/train/mask/_Image_06L_0_7.png  \n",
            "  inflating: chase_db_320_320_dice_bce_0_4__hvr_0_4_1/split_2/train/mask/_Image_03R_3_6.png  \n",
            "  inflating: chase_db_320_320_dice_bce_0_4__hvr_0_4_1/split_2/train/mask/_Image_04R_1_6.png  \n",
            "  inflating: chase_db_320_320_dice_bce_0_4__hvr_0_4_1/split_2/train/mask/_Image_06L_3_0.png  \n",
            "  inflating: chase_db_320_320_dice_bce_0_4__hvr_0_4_1/split_2/train/mask/_Image_03R_2_5.png  \n",
            "  inflating: chase_db_320_320_dice_bce_0_4__hvr_0_4_1/split_2/train/mask/_Image_01R_0_11.png  \n",
            "  inflating: chase_db_320_320_dice_bce_0_4__hvr_0_4_1/split_2/train/mask/_Image_09R_0_2.png  \n",
            "  inflating: chase_db_320_320_dice_bce_0_4__hvr_0_4_1/split_2/train/mask/_Image_04L_2_6.png  \n",
            "  inflating: chase_db_320_320_dice_bce_0_4__hvr_0_4_1/split_2/train/mask/_Image_01L_1_8.png  \n",
            "  inflating: chase_db_320_320_dice_bce_0_4__hvr_0_4_1/split_2/train/mask/_Image_03R_1_11.png  \n",
            "  inflating: chase_db_320_320_dice_bce_0_4__hvr_0_4_1/split_2/train/mask/_Image_06R_3_3.png  \n",
            "  inflating: chase_db_320_320_dice_bce_0_4__hvr_0_4_1/split_2/train/mask/_Image_14R_2_7.png  \n",
            "  inflating: chase_db_320_320_dice_bce_0_4__hvr_0_4_1/split_2/train/mask/_Image_02L_0_2.png  \n",
            "  inflating: chase_db_320_320_dice_bce_0_4__hvr_0_4_1/split_2/train/mask/_Image_09R_2_11.png  \n",
            "  inflating: chase_db_320_320_dice_bce_0_4__hvr_0_4_1/split_2/train/mask/_Image_03L_3_10.png  \n",
            "  inflating: chase_db_320_320_dice_bce_0_4__hvr_0_4_1/split_2/train/mask/_Image_06R_2_5.png  \n",
            "  inflating: chase_db_320_320_dice_bce_0_4__hvr_0_4_1/split_2/train/mask/_Image_01R_3_8.png  \n",
            "  inflating: chase_db_320_320_dice_bce_0_4__hvr_0_4_1/split_2/train/mask/_Image_09L_3_11.png  \n",
            "  inflating: chase_db_320_320_dice_bce_0_4__hvr_0_4_1/split_2/train/mask/_Image_06L_2_11.png  \n",
            "  inflating: chase_db_320_320_dice_bce_0_4__hvr_0_4_1/split_2/train/mask/_Image_14R_0_2.png  \n",
            "  inflating: chase_db_320_320_dice_bce_0_4__hvr_0_4_1/split_2/train/mask/_Image_03L_1_6.png  \n",
            "  inflating: chase_db_320_320_dice_bce_0_4__hvr_0_4_1/split_2/train/mask/_Image_10L_1_0.png  \n",
            "  inflating: chase_db_320_320_dice_bce_0_4__hvr_0_4_1/split_2/train/mask/_Image_01L_2_0.png  \n",
            "  inflating: chase_db_320_320_dice_bce_0_4__hvr_0_4_1/split_2/train/mask/_Image_06R_1_3.png  \n",
            "  inflating: chase_db_320_320_dice_bce_0_4__hvr_0_4_1/split_2/train/mask/_Image_02R_2_2.png  \n",
            "  inflating: chase_db_320_320_dice_bce_0_4__hvr_0_4_1/split_2/train/mask/_Image_14L_3_7.png  \n",
            "  inflating: chase_db_320_320_dice_bce_0_4__hvr_0_4_1/split_2/train/mask/_Image_03L_0_10.png  \n",
            "  inflating: chase_db_320_320_dice_bce_0_4__hvr_0_4_1/split_2/train/mask/_Image_06R_0_2.png  \n",
            "  inflating: chase_db_320_320_dice_bce_0_4__hvr_0_4_1/split_2/train/mask/_Image_14L_1_7.png  \n",
            "  inflating: chase_db_320_320_dice_bce_0_4__hvr_0_4_1/split_2/train/mask/_Image_07R_2_1.png  \n",
            "  inflating: chase_db_320_320_dice_bce_0_4__hvr_0_4_1/split_2/train/mask/_Image_14L_2_1.png  \n",
            "  inflating: chase_db_320_320_dice_bce_0_4__hvr_0_4_1/split_2/train/mask/_Image_14R_1_2.png  \n",
            "  inflating: chase_db_320_320_dice_bce_0_4__hvr_0_4_1/split_2/train/mask/_Image_06L_3_8.png  \n",
            "  inflating: chase_db_320_320_dice_bce_0_4__hvr_0_4_1/split_2/train/mask/_Image_08L_0_2.png  \n",
            "  inflating: chase_db_320_320_dice_bce_0_4__hvr_0_4_1/split_2/train/mask/_Image_04R_2_9.png  \n",
            "  inflating: chase_db_320_320_dice_bce_0_4__hvr_0_4_1/split_2/train/mask/_Image_07R_2_10.png  \n",
            "  inflating: chase_db_320_320_dice_bce_0_4__hvr_0_4_1/split_2/train/mask/_Image_07R_0_7.png  \n",
            "  inflating: chase_db_320_320_dice_bce_0_4__hvr_0_4_1/split_2/train/mask/_Image_02L_1_0.png  \n",
            "  inflating: chase_db_320_320_dice_bce_0_4__hvr_0_4_1/split_2/train/mask/_Image_03R_2_1.png  \n",
            "  inflating: chase_db_320_320_dice_bce_0_4__hvr_0_4_1/split_2/train/mask/_Image_13R_2_6.png  \n",
            "  inflating: chase_db_320_320_dice_bce_0_4__hvr_0_4_1/split_2/train/mask/_Image_02R_2_8.png  \n",
            "  inflating: chase_db_320_320_dice_bce_0_4__hvr_0_4_1/split_2/train/mask/_Image_01R_0_0.png  \n",
            "  inflating: chase_db_320_320_dice_bce_0_4__hvr_0_4_1/split_2/train/mask/_Image_05L_0_6.png  \n",
            "  inflating: chase_db_320_320_dice_bce_0_4__hvr_0_4_1/split_2/train/mask/_Image_03L_3_2.png  \n",
            "  inflating: chase_db_320_320_dice_bce_0_4__hvr_0_4_1/split_2/train/mask/_Image_06R_0_10.png  \n",
            "  inflating: chase_db_320_320_dice_bce_0_4__hvr_0_4_1/split_2/train/mask/_Image_08L_2_4.png  \n",
            "  inflating: chase_db_320_320_dice_bce_0_4__hvr_0_4_1/split_2/train/mask/_Image_09L_1_1.png  \n",
            "  inflating: chase_db_320_320_dice_bce_0_4__hvr_0_4_1/split_2/train/mask/_Image_10R_1_3.png  \n",
            "  inflating: chase_db_320_320_dice_bce_0_4__hvr_0_4_1/split_2/train/mask/_Image_02L_1_11.png  \n",
            "  inflating: chase_db_320_320_dice_bce_0_4__hvr_0_4_1/split_2/train/mask/_Image_10R_3_4.png  \n",
            "  inflating: chase_db_320_320_dice_bce_0_4__hvr_0_4_1/split_2/train/mask/_Image_05R_2_0.png  \n",
            "  inflating: chase_db_320_320_dice_bce_0_4__hvr_0_4_1/split_2/train/mask/_Image_13R_1_4.png  \n",
            "  inflating: chase_db_320_320_dice_bce_0_4__hvr_0_4_1/split_2/train/mask/_Image_07R_3_7.png  \n",
            "  inflating: chase_db_320_320_dice_bce_0_4__hvr_0_4_1/split_2/train/mask/_Image_05L_0_9.png  \n",
            "  inflating: chase_db_320_320_dice_bce_0_4__hvr_0_4_1/split_2/train/mask/_Image_07L_3_0.png  \n",
            "  inflating: chase_db_320_320_dice_bce_0_4__hvr_0_4_1/split_2/train/mask/_Image_05R_1_10.png  \n",
            "  inflating: chase_db_320_320_dice_bce_0_4__hvr_0_4_1/split_2/train/mask/_Image_02L_3_0.png  \n",
            "  inflating: chase_db_320_320_dice_bce_0_4__hvr_0_4_1/split_2/train/mask/_Image_03L_2_11.png  \n",
            "  inflating: chase_db_320_320_dice_bce_0_4__hvr_0_4_1/split_2/train/mask/_Image_03R_3_11.png  \n",
            "  inflating: chase_db_320_320_dice_bce_0_4__hvr_0_4_1/split_2/train/mask/_Image_10L_2_4.png  \n",
            "  inflating: chase_db_320_320_dice_bce_0_4__hvr_0_4_1/split_2/train/mask/_Image_13R_3_8.png  \n",
            "  inflating: chase_db_320_320_dice_bce_0_4__hvr_0_4_1/split_2/train/mask/_Image_01R_0_3.png  \n",
            "  inflating: chase_db_320_320_dice_bce_0_4__hvr_0_4_1/split_2/train/mask/_Image_13R_1_11.png  \n",
            "  inflating: chase_db_320_320_dice_bce_0_4__hvr_0_4_1/split_2/train/mask/_Image_06L_3_11.png  \n",
            "  inflating: chase_db_320_320_dice_bce_0_4__hvr_0_4_1/split_2/train/mask/_Image_05R_0_3.png  \n",
            "  inflating: chase_db_320_320_dice_bce_0_4__hvr_0_4_1/split_2/train/mask/_Image_14L_3_9.png  \n",
            "  inflating: chase_db_320_320_dice_bce_0_4__hvr_0_4_1/split_2/train/mask/_Image_03L_0_0.png  \n",
            "  inflating: chase_db_320_320_dice_bce_0_4__hvr_0_4_1/split_2/train/mask/_Image_01L_2_4.png  \n",
            "  inflating: chase_db_320_320_dice_bce_0_4__hvr_0_4_1/split_2/train/mask/_Image_07L_0_5.png  \n",
            "  inflating: chase_db_320_320_dice_bce_0_4__hvr_0_4_1/split_2/train/mask/_Image_01L_3_0.png  \n",
            "  inflating: chase_db_320_320_dice_bce_0_4__hvr_0_4_1/split_2/train/mask/_Image_10L_1_2.png  \n",
            "  inflating: chase_db_320_320_dice_bce_0_4__hvr_0_4_1/split_2/train/mask/_Image_10R_0_4.png  \n",
            "  inflating: chase_db_320_320_dice_bce_0_4__hvr_0_4_1/split_2/train/mask/_Image_07L_3_5.png  \n",
            "  inflating: chase_db_320_320_dice_bce_0_4__hvr_0_4_1/split_2/train/mask/_Image_02R_0_5.png  \n",
            "  inflating: chase_db_320_320_dice_bce_0_4__hvr_0_4_1/split_2/train/mask/_Image_02R_1_7.png  \n",
            "  inflating: chase_db_320_320_dice_bce_0_4__hvr_0_4_1/split_2/train/mask/_Image_14L_2_4.png  \n",
            "  inflating: chase_db_320_320_dice_bce_0_4__hvr_0_4_1/split_2/train/mask/_Image_05L_3_10.png  \n",
            "  inflating: chase_db_320_320_dice_bce_0_4__hvr_0_4_1/split_2/train/mask/_Image_09R_2_10.png  \n",
            "  inflating: chase_db_320_320_dice_bce_0_4__hvr_0_4_1/split_2/train/mask/_Image_08L_0_9.png  \n",
            "  inflating: chase_db_320_320_dice_bce_0_4__hvr_0_4_1/split_2/train/mask/_Image_10L_2_3.png  \n",
            "  inflating: chase_db_320_320_dice_bce_0_4__hvr_0_4_1/split_2/train/mask/_Image_14R_2_10.png  \n",
            "  inflating: chase_db_320_320_dice_bce_0_4__hvr_0_4_1/split_2/train/mask/_Image_06R_3_8.png  \n",
            "  inflating: chase_db_320_320_dice_bce_0_4__hvr_0_4_1/split_2/train/mask/_Image_06R_1_7.png  \n",
            "  inflating: chase_db_320_320_dice_bce_0_4__hvr_0_4_1/split_2/train/mask/_Image_05R_0_9.png  \n",
            "  inflating: chase_db_320_320_dice_bce_0_4__hvr_0_4_1/split_2/train/mask/_Image_05R_3_10.png  \n",
            "  inflating: chase_db_320_320_dice_bce_0_4__hvr_0_4_1/split_2/train/mask/_Image_02R_0_4.png  \n",
            "  inflating: chase_db_320_320_dice_bce_0_4__hvr_0_4_1/split_2/train/mask/_Image_14L_3_2.png  \n",
            "  inflating: chase_db_320_320_dice_bce_0_4__hvr_0_4_1/split_2/train/mask/_Image_10R_1_5.png  \n",
            "  inflating: chase_db_320_320_dice_bce_0_4__hvr_0_4_1/split_2/train/mask/_Image_14L_0_6.png  \n",
            "  inflating: chase_db_320_320_dice_bce_0_4__hvr_0_4_1/split_2/train/mask/_Image_13R_3_2.png  \n",
            "  inflating: chase_db_320_320_dice_bce_0_4__hvr_0_4_1/split_2/train/mask/_Image_09R_0_0.png  \n",
            "  inflating: chase_db_320_320_dice_bce_0_4__hvr_0_4_1/split_2/train/mask/_Image_06R_0_9.png  \n",
            "  inflating: chase_db_320_320_dice_bce_0_4__hvr_0_4_1/split_2/train/mask/_Image_01L_1_11.png  \n",
            "  inflating: chase_db_320_320_dice_bce_0_4__hvr_0_4_1/split_2/train/mask/_Image_13R_1_10.png  \n",
            "  inflating: chase_db_320_320_dice_bce_0_4__hvr_0_4_1/split_2/train/mask/_Image_04R_1_3.png  \n",
            "  inflating: chase_db_320_320_dice_bce_0_4__hvr_0_4_1/split_2/train/mask/_Image_05R_3_2.png  \n",
            "  inflating: chase_db_320_320_dice_bce_0_4__hvr_0_4_1/split_2/train/mask/_Image_09R_1_3.png  \n",
            "  inflating: chase_db_320_320_dice_bce_0_4__hvr_0_4_1/split_2/train/mask/_Image_02L_2_0.png  \n",
            "  inflating: chase_db_320_320_dice_bce_0_4__hvr_0_4_1/split_2/train/mask/_Image_05R_3_6.png  \n",
            "  inflating: chase_db_320_320_dice_bce_0_4__hvr_0_4_1/split_2/train/mask/_Image_04R_3_11.png  \n",
            "  inflating: chase_db_320_320_dice_bce_0_4__hvr_0_4_1/split_2/train/mask/_Image_14R_0_8.png  \n",
            "  inflating: chase_db_320_320_dice_bce_0_4__hvr_0_4_1/split_2/train/mask/_Image_03L_0_2.png  \n",
            "  inflating: chase_db_320_320_dice_bce_0_4__hvr_0_4_1/split_2/train/mask/_Image_09L_1_6.png  \n",
            "  inflating: chase_db_320_320_dice_bce_0_4__hvr_0_4_1/split_2/train/mask/_Image_09L_3_8.png  \n",
            "  inflating: chase_db_320_320_dice_bce_0_4__hvr_0_4_1/split_2/train/mask/_Image_14L_0_9.png  \n",
            "  inflating: chase_db_320_320_dice_bce_0_4__hvr_0_4_1/split_2/train/mask/_Image_06L_1_8.png  \n",
            "  inflating: chase_db_320_320_dice_bce_0_4__hvr_0_4_1/split_2/train/mask/_Image_02R_0_11.png  \n",
            "  inflating: chase_db_320_320_dice_bce_0_4__hvr_0_4_1/split_2/train/mask/_Image_09R_1_9.png  \n",
            "  inflating: chase_db_320_320_dice_bce_0_4__hvr_0_4_1/split_2/train/mask/_Image_06L_3_6.png  \n",
            "  inflating: chase_db_320_320_dice_bce_0_4__hvr_0_4_1/split_2/train/mask/_Image_14R_2_5.png  \n",
            "  inflating: chase_db_320_320_dice_bce_0_4__hvr_0_4_1/split_2/train/mask/_Image_01L_2_10.png  \n",
            "  inflating: chase_db_320_320_dice_bce_0_4__hvr_0_4_1/split_2/train/mask/_Image_02R_1_3.png  \n",
            "  inflating: chase_db_320_320_dice_bce_0_4__hvr_0_4_1/split_2/train/mask/_Image_02R_2_9.png  \n",
            "  inflating: chase_db_320_320_dice_bce_0_4__hvr_0_4_1/split_2/train/mask/_Image_04L_0_0.png  \n",
            "  inflating: chase_db_320_320_dice_bce_0_4__hvr_0_4_1/split_2/train/mask/_Image_06L_2_10.png  \n",
            "  inflating: chase_db_320_320_dice_bce_0_4__hvr_0_4_1/split_2/train/mask/_Image_10R_3_3.png  \n",
            "  inflating: chase_db_320_320_dice_bce_0_4__hvr_0_4_1/split_2/train/mask/_Image_04R_0_7.png  \n",
            "  inflating: chase_db_320_320_dice_bce_0_4__hvr_0_4_1/split_2/train/mask/_Image_09L_2_9.png  \n",
            "  inflating: chase_db_320_320_dice_bce_0_4__hvr_0_4_1/split_2/train/mask/_Image_06R_0_7.png  \n",
            "  inflating: chase_db_320_320_dice_bce_0_4__hvr_0_4_1/split_2/train/mask/_Image_09R_3_11.png  \n",
            "  inflating: chase_db_320_320_dice_bce_0_4__hvr_0_4_1/split_2/train/mask/_Image_05L_2_7.png  \n",
            "  inflating: chase_db_320_320_dice_bce_0_4__hvr_0_4_1/split_2/train/mask/_Image_04L_0_10.png  \n",
            "  inflating: chase_db_320_320_dice_bce_0_4__hvr_0_4_1/split_2/train/mask/_Image_07R_2_5.png  \n",
            "  inflating: chase_db_320_320_dice_bce_0_4__hvr_0_4_1/split_2/train/mask/_Image_06R_2_11.png  \n",
            "  inflating: chase_db_320_320_dice_bce_0_4__hvr_0_4_1/split_2/train/mask/_Image_01R_0_7.png  \n",
            "  inflating: chase_db_320_320_dice_bce_0_4__hvr_0_4_1/split_2/train/mask/_Image_06L_2_4.png  \n",
            "  inflating: chase_db_320_320_dice_bce_0_4__hvr_0_4_1/split_2/train/mask/_Image_08R_0_5.png  \n",
            "  inflating: chase_db_320_320_dice_bce_0_4__hvr_0_4_1/split_2/train/mask/_Image_05L_1_11.png  \n",
            "  inflating: chase_db_320_320_dice_bce_0_4__hvr_0_4_1/split_2/train/mask/_Image_02R_3_11.png  \n",
            "  inflating: chase_db_320_320_dice_bce_0_4__hvr_0_4_1/split_2/train/mask/_Image_14R_3_10.png  \n",
            "  inflating: chase_db_320_320_dice_bce_0_4__hvr_0_4_1/split_2/train/mask/_Image_03R_0_0.png  \n",
            "  inflating: chase_db_320_320_dice_bce_0_4__hvr_0_4_1/split_2/train/mask/_Image_01R_0_4.png  \n",
            "  inflating: chase_db_320_320_dice_bce_0_4__hvr_0_4_1/split_2/train/mask/_Image_13R_1_1.png  \n",
            "  inflating: chase_db_320_320_dice_bce_0_4__hvr_0_4_1/split_2/train/mask/_Image_05R_2_6.png  \n",
            "  inflating: chase_db_320_320_dice_bce_0_4__hvr_0_4_1/split_2/train/mask/_Image_03L_3_4.png  \n",
            "  inflating: chase_db_320_320_dice_bce_0_4__hvr_0_4_1/split_2/train/mask/_Image_09R_2_4.png  \n",
            "  inflating: chase_db_320_320_dice_bce_0_4__hvr_0_4_1/split_2/train/mask/_Image_03L_3_0.png  \n",
            "  inflating: chase_db_320_320_dice_bce_0_4__hvr_0_4_1/split_2/train/mask/_Image_04L_3_9.png  \n",
            "  inflating: chase_db_320_320_dice_bce_0_4__hvr_0_4_1/split_2/train/mask/_Image_09R_2_6.png  \n",
            "  inflating: chase_db_320_320_dice_bce_0_4__hvr_0_4_1/split_2/train/mask/_Image_04R_3_10.png  \n",
            "  inflating: chase_db_320_320_dice_bce_0_4__hvr_0_4_1/split_2/train/mask/_Image_02R_2_11.png  \n",
            "  inflating: chase_db_320_320_dice_bce_0_4__hvr_0_4_1/split_2/train/mask/_Image_03L_1_3.png  \n",
            "  inflating: chase_db_320_320_dice_bce_0_4__hvr_0_4_1/split_2/train/mask/_Image_07R_2_6.png  \n",
            "  inflating: chase_db_320_320_dice_bce_0_4__hvr_0_4_1/split_2/train/mask/_Image_04L_3_7.png  \n",
            "  inflating: chase_db_320_320_dice_bce_0_4__hvr_0_4_1/split_2/train/mask/_Image_04L_1_4.png  \n",
            "  inflating: chase_db_320_320_dice_bce_0_4__hvr_0_4_1/split_2/train/mask/_Image_04R_2_4.png  \n",
            "  inflating: chase_db_320_320_dice_bce_0_4__hvr_0_4_1/split_2/train/mask/_Image_04R_3_1.png  \n",
            "  inflating: chase_db_320_320_dice_bce_0_4__hvr_0_4_1/split_2/train/mask/_Image_06R_1_6.png  \n",
            "  inflating: chase_db_320_320_dice_bce_0_4__hvr_0_4_1/split_2/train/mask/_Image_02L_0_7.png  \n",
            "  inflating: chase_db_320_320_dice_bce_0_4__hvr_0_4_1/split_2/train/mask/_Image_10R_0_2.png  \n",
            "  inflating: chase_db_320_320_dice_bce_0_4__hvr_0_4_1/split_2/train/mask/_Image_02L_0_9.png  \n",
            "  inflating: chase_db_320_320_dice_bce_0_4__hvr_0_4_1/split_2/train/mask/_Image_10L_3_11.png  \n",
            "  inflating: chase_db_320_320_dice_bce_0_4__hvr_0_4_1/split_2/train/mask/_Image_09R_2_5.png  \n",
            "  inflating: chase_db_320_320_dice_bce_0_4__hvr_0_4_1/split_2/train/mask/_Image_10R_1_11.png  \n",
            "  inflating: chase_db_320_320_dice_bce_0_4__hvr_0_4_1/split_2/train/mask/_Image_13R_0_4.png  \n",
            "  inflating: chase_db_320_320_dice_bce_0_4__hvr_0_4_1/split_2/train/mask/_Image_01L_0_11.png  \n",
            "  inflating: chase_db_320_320_dice_bce_0_4__hvr_0_4_1/split_2/train/mask/_Image_05L_2_9.png  \n",
            "  inflating: chase_db_320_320_dice_bce_0_4__hvr_0_4_1/split_2/train/mask/_Image_05L_1_4.png  \n",
            "  inflating: chase_db_320_320_dice_bce_0_4__hvr_0_4_1/split_2/train/mask/_Image_13R_0_6.png  \n",
            "  inflating: chase_db_320_320_dice_bce_0_4__hvr_0_4_1/split_2/train/mask/_Image_02L_2_9.png  \n",
            "  inflating: chase_db_320_320_dice_bce_0_4__hvr_0_4_1/split_2/train/mask/_Image_06R_1_4.png  \n",
            "   creating: chase_db_320_320_dice_bce_0_4__hvr_0_4_1/split_2/train/image/\n",
            "  inflating: chase_db_320_320_dice_bce_0_4__hvr_0_4_1/split_2/train/image/_Image_01R_0_10.png  \n",
            "  inflating: chase_db_320_320_dice_bce_0_4__hvr_0_4_1/split_2/train/image/_Image_03R_3_4.png  \n",
            "  inflating: chase_db_320_320_dice_bce_0_4__hvr_0_4_1/split_2/train/image/_Image_03R_2_9.png  \n",
            "  inflating: chase_db_320_320_dice_bce_0_4__hvr_0_4_1/split_2/train/image/_Image_14L_1_1.png  \n",
            "  inflating: chase_db_320_320_dice_bce_0_4__hvr_0_4_1/split_2/train/image/_Image_10R_0_11.png  \n",
            "  inflating: chase_db_320_320_dice_bce_0_4__hvr_0_4_1/split_2/train/image/_Image_03L_3_11.png  \n",
            "  inflating: chase_db_320_320_dice_bce_0_4__hvr_0_4_1/split_2/train/image/_Image_09L_0_10.png  \n",
            "  inflating: chase_db_320_320_dice_bce_0_4__hvr_0_4_1/split_2/train/image/_Image_05R_2_9.png  \n",
            "  inflating: chase_db_320_320_dice_bce_0_4__hvr_0_4_1/split_2/train/image/_Image_01L_1_2.png  \n",
            "  inflating: chase_db_320_320_dice_bce_0_4__hvr_0_4_1/split_2/train/image/_Image_05L_2_11.png  \n",
            "  inflating: chase_db_320_320_dice_bce_0_4__hvr_0_4_1/split_2/train/image/_Image_09R_3_1.png  \n",
            "  inflating: chase_db_320_320_dice_bce_0_4__hvr_0_4_1/split_2/train/image/_Image_03L_0_5.png  \n",
            "  inflating: chase_db_320_320_dice_bce_0_4__hvr_0_4_1/split_2/train/image/_Image_06R_2_10.png  \n",
            "  inflating: chase_db_320_320_dice_bce_0_4__hvr_0_4_1/split_2/train/image/_Image_07R_2_11.png  \n",
            "  inflating: chase_db_320_320_dice_bce_0_4__hvr_0_4_1/split_2/train/image/_Image_04L_2_7.png  \n",
            "  inflating: chase_db_320_320_dice_bce_0_4__hvr_0_4_1/split_2/train/image/_Image_02L_2_11.png  \n",
            "  inflating: chase_db_320_320_dice_bce_0_4__hvr_0_4_1/split_2/train/image/_Image_01L_0_3.png  \n",
            "  inflating: chase_db_320_320_dice_bce_0_4__hvr_0_4_1/split_2/train/image/_Image_03R_0_7.png  \n",
            "  inflating: chase_db_320_320_dice_bce_0_4__hvr_0_4_1/split_2/train/image/_Image_08L_3_6.png  \n",
            "  inflating: chase_db_320_320_dice_bce_0_4__hvr_0_4_1/split_2/train/image/_Image_03R_1_9.png  \n",
            "  inflating: chase_db_320_320_dice_bce_0_4__hvr_0_4_1/split_2/train/image/_Image_10L_2_6.png  \n",
            "  inflating: chase_db_320_320_dice_bce_0_4__hvr_0_4_1/split_2/train/image/_Image_02L_2_7.png  \n",
            "  inflating: chase_db_320_320_dice_bce_0_4__hvr_0_4_1/split_2/train/image/_Image_05L_1_0.png  \n",
            "  inflating: chase_db_320_320_dice_bce_0_4__hvr_0_4_1/split_2/train/image/_Image_07R_1_6.png  \n",
            "  inflating: chase_db_320_320_dice_bce_0_4__hvr_0_4_1/split_2/train/image/_Image_04R_2_3.png  \n",
            "  inflating: chase_db_320_320_dice_bce_0_4__hvr_0_4_1/split_2/train/image/_Image_04R_2_10.png  \n",
            "  inflating: chase_db_320_320_dice_bce_0_4__hvr_0_4_1/split_2/train/image/_Image_14R_1_10.png  \n",
            "  inflating: chase_db_320_320_dice_bce_0_4__hvr_0_4_1/split_2/train/image/_Image_09L_0_2.png  \n",
            "  inflating: chase_db_320_320_dice_bce_0_4__hvr_0_4_1/split_2/train/image/_Image_03L_2_9.png  \n",
            "  inflating: chase_db_320_320_dice_bce_0_4__hvr_0_4_1/split_2/train/image/_Image_08L_3_2.png  \n",
            "  inflating: chase_db_320_320_dice_bce_0_4__hvr_0_4_1/split_2/train/image/_Image_08L_3_4.png  \n",
            "  inflating: chase_db_320_320_dice_bce_0_4__hvr_0_4_1/split_2/train/image/_Image_14L_3_11.png  \n",
            "  inflating: chase_db_320_320_dice_bce_0_4__hvr_0_4_1/split_2/train/image/_Image_03L_2_4.png  \n",
            "  inflating: chase_db_320_320_dice_bce_0_4__hvr_0_4_1/split_2/train/image/_Image_04L_1_9.png  \n",
            "  inflating: chase_db_320_320_dice_bce_0_4__hvr_0_4_1/split_2/train/image/_Image_10L_1_7.png  \n",
            "  inflating: chase_db_320_320_dice_bce_0_4__hvr_0_4_1/split_2/train/image/_Image_06L_0_3.png  \n",
            "  inflating: chase_db_320_320_dice_bce_0_4__hvr_0_4_1/split_2/train/image/_Image_09L_2_10.png  \n",
            "  inflating: chase_db_320_320_dice_bce_0_4__hvr_0_4_1/split_2/train/image/_Image_03L_2_1.png  \n",
            "  inflating: chase_db_320_320_dice_bce_0_4__hvr_0_4_1/split_2/train/image/_Image_01R_3_7.png  \n",
            "  inflating: chase_db_320_320_dice_bce_0_4__hvr_0_4_1/split_2/train/image/_Image_01R_2_0.png  \n",
            "  inflating: chase_db_320_320_dice_bce_0_4__hvr_0_4_1/split_2/train/image/_Image_04L_1_1.png  \n",
            "  inflating: chase_db_320_320_dice_bce_0_4__hvr_0_4_1/split_2/train/image/_Image_07L_1_8.png  \n",
            "  inflating: chase_db_320_320_dice_bce_0_4__hvr_0_4_1/split_2/train/image/_Image_08R_3_8.png  \n",
            "  inflating: chase_db_320_320_dice_bce_0_4__hvr_0_4_1/split_2/train/image/_Image_06L_1_1.png  \n",
            "  inflating: chase_db_320_320_dice_bce_0_4__hvr_0_4_1/split_2/train/image/_Image_04L_2_1.png  \n",
            "  inflating: chase_db_320_320_dice_bce_0_4__hvr_0_4_1/split_2/train/image/_Image_10R_1_0.png  \n",
            "  inflating: chase_db_320_320_dice_bce_0_4__hvr_0_4_1/split_2/train/image/_Image_03L_1_9.png  \n",
            "  inflating: chase_db_320_320_dice_bce_0_4__hvr_0_4_1/split_2/train/image/_Image_01R_3_10.png  \n",
            "  inflating: chase_db_320_320_dice_bce_0_4__hvr_0_4_1/split_2/train/image/_Image_01R_2_8.png  \n",
            "  inflating: chase_db_320_320_dice_bce_0_4__hvr_0_4_1/split_2/train/image/_Image_04R_0_5.png  \n",
            "  inflating: chase_db_320_320_dice_bce_0_4__hvr_0_4_1/split_2/train/image/_Image_02R_1_4.png  \n",
            "  inflating: chase_db_320_320_dice_bce_0_4__hvr_0_4_1/split_2/train/image/_Image_08R_1_10.png  \n",
            "  inflating: chase_db_320_320_dice_bce_0_4__hvr_0_4_1/split_2/train/image/_Image_03L_0_1.png  \n",
            "  inflating: chase_db_320_320_dice_bce_0_4__hvr_0_4_1/split_2/train/image/_Image_04R_1_1.png  \n",
            "  inflating: chase_db_320_320_dice_bce_0_4__hvr_0_4_1/split_2/train/image/_Image_03L_1_7.png  \n",
            "  inflating: chase_db_320_320_dice_bce_0_4__hvr_0_4_1/split_2/train/image/_Image_01R_1_3.png  \n",
            "  inflating: chase_db_320_320_dice_bce_0_4__hvr_0_4_1/split_2/train/image/_Image_07R_0_2.png  \n",
            "  inflating: chase_db_320_320_dice_bce_0_4__hvr_0_4_1/split_2/train/image/_Image_10L_3_5.png  \n",
            "  inflating: chase_db_320_320_dice_bce_0_4__hvr_0_4_1/split_2/train/image/_Image_13R_0_9.png  \n",
            "  inflating: chase_db_320_320_dice_bce_0_4__hvr_0_4_1/split_2/train/image/_Image_05R_2_1.png  \n",
            "  inflating: chase_db_320_320_dice_bce_0_4__hvr_0_4_1/split_2/train/image/_Image_05R_3_0.png  \n",
            "  inflating: chase_db_320_320_dice_bce_0_4__hvr_0_4_1/split_2/train/image/_Image_10R_1_7.png  \n",
            "  inflating: chase_db_320_320_dice_bce_0_4__hvr_0_4_1/split_2/train/image/_Image_01L_2_9.png  \n",
            "  inflating: chase_db_320_320_dice_bce_0_4__hvr_0_4_1/split_2/train/image/_Image_13R_2_2.png  \n",
            "  inflating: chase_db_320_320_dice_bce_0_4__hvr_0_4_1/split_2/train/image/_Image_02L_0_6.png  \n",
            "  inflating: chase_db_320_320_dice_bce_0_4__hvr_0_4_1/split_2/train/image/_Image_07R_2_8.png  \n",
            "  inflating: chase_db_320_320_dice_bce_0_4__hvr_0_4_1/split_2/train/image/_Image_01L_1_1.png  \n",
            "  inflating: chase_db_320_320_dice_bce_0_4__hvr_0_4_1/split_2/train/image/_Image_09L_0_6.png  \n",
            "  inflating: chase_db_320_320_dice_bce_0_4__hvr_0_4_1/split_2/train/image/_Image_09R_2_9.png  \n",
            "  inflating: chase_db_320_320_dice_bce_0_4__hvr_0_4_1/split_2/train/image/_Image_05R_1_1.png  \n",
            "  inflating: chase_db_320_320_dice_bce_0_4__hvr_0_4_1/split_2/train/image/_Image_05L_0_8.png  \n",
            "  inflating: chase_db_320_320_dice_bce_0_4__hvr_0_4_1/split_2/train/image/_Image_08R_3_10.png  \n",
            "  inflating: chase_db_320_320_dice_bce_0_4__hvr_0_4_1/split_2/train/image/_Image_03R_3_2.png  \n",
            "  inflating: chase_db_320_320_dice_bce_0_4__hvr_0_4_1/split_2/train/image/_Image_03R_2_4.png  \n",
            "  inflating: chase_db_320_320_dice_bce_0_4__hvr_0_4_1/split_2/train/image/_Image_13R_2_1.png  \n",
            "  inflating: chase_db_320_320_dice_bce_0_4__hvr_0_4_1/split_2/train/image/_Image_02L_0_8.png  \n",
            "  inflating: chase_db_320_320_dice_bce_0_4__hvr_0_4_1/split_2/train/image/_Image_01L_1_6.png  \n",
            "  inflating: chase_db_320_320_dice_bce_0_4__hvr_0_4_1/split_2/train/image/_Image_09L_1_5.png  \n",
            "  inflating: chase_db_320_320_dice_bce_0_4__hvr_0_4_1/split_2/train/image/_Image_07L_3_8.png  \n",
            "  inflating: chase_db_320_320_dice_bce_0_4__hvr_0_4_1/split_2/train/image/_Image_05R_1_0.png  \n",
            "  inflating: chase_db_320_320_dice_bce_0_4__hvr_0_4_1/split_2/train/image/_Image_13R_2_5.png  \n",
            "  inflating: chase_db_320_320_dice_bce_0_4__hvr_0_4_1/split_2/train/image/_Image_02R_2_5.png  \n",
            "  inflating: chase_db_320_320_dice_bce_0_4__hvr_0_4_1/split_2/train/image/_Image_05R_2_3.png  \n",
            "  inflating: chase_db_320_320_dice_bce_0_4__hvr_0_4_1/split_2/train/image/_Image_08R_2_1.png  \n",
            "  inflating: chase_db_320_320_dice_bce_0_4__hvr_0_4_1/split_2/train/image/_Image_01L_1_9.png  \n",
            "  inflating: chase_db_320_320_dice_bce_0_4__hvr_0_4_1/split_2/train/image/_Image_05L_0_10.png  \n",
            "  inflating: chase_db_320_320_dice_bce_0_4__hvr_0_4_1/split_2/train/image/_Image_07L_1_10.png  \n",
            "  inflating: chase_db_320_320_dice_bce_0_4__hvr_0_4_1/split_2/train/image/_Image_02R_3_10.png  \n",
            "  inflating: chase_db_320_320_dice_bce_0_4__hvr_0_4_1/split_2/train/image/_Image_08L_1_1.png  \n",
            "  inflating: chase_db_320_320_dice_bce_0_4__hvr_0_4_1/split_2/train/image/_Image_02R_3_1.png  \n",
            "  inflating: chase_db_320_320_dice_bce_0_4__hvr_0_4_1/split_2/train/image/_Image_02L_2_2.png  \n",
            "  inflating: chase_db_320_320_dice_bce_0_4__hvr_0_4_1/split_2/train/image/_Image_02L_0_3.png  \n",
            "  inflating: chase_db_320_320_dice_bce_0_4__hvr_0_4_1/split_2/train/image/_Image_07L_1_2.png  \n",
            "  inflating: chase_db_320_320_dice_bce_0_4__hvr_0_4_1/split_2/train/image/_Image_09R_1_4.png  \n",
            "  inflating: chase_db_320_320_dice_bce_0_4__hvr_0_4_1/split_2/train/image/_Image_13R_1_9.png  \n",
            "  inflating: chase_db_320_320_dice_bce_0_4__hvr_0_4_1/split_2/train/image/_Image_14L_3_10.png  \n",
            "  inflating: chase_db_320_320_dice_bce_0_4__hvr_0_4_1/split_2/train/image/_Image_08R_2_4.png  \n",
            "  inflating: chase_db_320_320_dice_bce_0_4__hvr_0_4_1/split_2/train/image/_Image_07R_2_2.png  \n",
            "  inflating: chase_db_320_320_dice_bce_0_4__hvr_0_4_1/split_2/train/image/_Image_07R_0_10.png  \n",
            "  inflating: chase_db_320_320_dice_bce_0_4__hvr_0_4_1/split_2/train/image/_Image_09L_2_8.png  \n",
            "  inflating: chase_db_320_320_dice_bce_0_4__hvr_0_4_1/split_2/train/image/_Image_13R_3_4.png  \n",
            "  inflating: chase_db_320_320_dice_bce_0_4__hvr_0_4_1/split_2/train/image/_Image_04R_1_0.png  \n",
            "  inflating: chase_db_320_320_dice_bce_0_4__hvr_0_4_1/split_2/train/image/_Image_14R_0_9.png  \n",
            "  inflating: chase_db_320_320_dice_bce_0_4__hvr_0_4_1/split_2/train/image/_Image_10L_0_6.png  \n",
            "  inflating: chase_db_320_320_dice_bce_0_4__hvr_0_4_1/split_2/train/image/_Image_05R_1_8.png  \n",
            "  inflating: chase_db_320_320_dice_bce_0_4__hvr_0_4_1/split_2/train/image/_Image_10L_3_3.png  \n",
            "  inflating: chase_db_320_320_dice_bce_0_4__hvr_0_4_1/split_2/train/image/_Image_08R_1_2.png  \n",
            "  inflating: chase_db_320_320_dice_bce_0_4__hvr_0_4_1/split_2/train/image/_Image_02L_3_11.png  \n",
            "  inflating: chase_db_320_320_dice_bce_0_4__hvr_0_4_1/split_2/train/image/_Image_07R_0_4.png  \n",
            "  inflating: chase_db_320_320_dice_bce_0_4__hvr_0_4_1/split_2/train/image/_Image_01R_2_2.png  \n",
            "  inflating: chase_db_320_320_dice_bce_0_4__hvr_0_4_1/split_2/train/image/_Image_04L_1_5.png  \n",
            "  inflating: chase_db_320_320_dice_bce_0_4__hvr_0_4_1/split_2/train/image/_Image_08R_3_6.png  \n",
            "  inflating: chase_db_320_320_dice_bce_0_4__hvr_0_4_1/split_2/train/image/_Image_04L_2_5.png  \n",
            "  inflating: chase_db_320_320_dice_bce_0_4__hvr_0_4_1/split_2/train/image/_Image_10L_3_10.png  \n",
            "  inflating: chase_db_320_320_dice_bce_0_4__hvr_0_4_1/split_2/train/image/_Image_10R_3_9.png  \n",
            "  inflating: chase_db_320_320_dice_bce_0_4__hvr_0_4_1/split_2/train/image/_Image_06L_2_9.png  \n",
            "  inflating: chase_db_320_320_dice_bce_0_4__hvr_0_4_1/split_2/train/image/_Image_07L_2_10.png  \n",
            "  inflating: chase_db_320_320_dice_bce_0_4__hvr_0_4_1/split_2/train/image/_Image_10R_0_10.png  \n",
            "  inflating: chase_db_320_320_dice_bce_0_4__hvr_0_4_1/split_2/train/image/_Image_09L_3_2.png  \n",
            "  inflating: chase_db_320_320_dice_bce_0_4__hvr_0_4_1/split_2/train/image/_Image_03R_1_6.png  \n",
            "  inflating: chase_db_320_320_dice_bce_0_4__hvr_0_4_1/split_2/train/image/_Image_05L_1_3.png  \n",
            "  inflating: chase_db_320_320_dice_bce_0_4__hvr_0_4_1/split_2/train/image/_Image_08R_3_3.png  \n",
            "  inflating: chase_db_320_320_dice_bce_0_4__hvr_0_4_1/split_2/train/image/_Image_07L_2_0.png  \n",
            "  inflating: chase_db_320_320_dice_bce_0_4__hvr_0_4_1/split_2/train/image/_Image_14L_2_2.png  \n",
            "  inflating: chase_db_320_320_dice_bce_0_4__hvr_0_4_1/split_2/train/image/_Image_03L_1_2.png  \n",
            "  inflating: chase_db_320_320_dice_bce_0_4__hvr_0_4_1/split_2/train/image/_Image_03L_2_0.png  \n",
            "  inflating: chase_db_320_320_dice_bce_0_4__hvr_0_4_1/split_2/train/image/_Image_09L_1_2.png  \n",
            "  inflating: chase_db_320_320_dice_bce_0_4__hvr_0_4_1/split_2/train/image/_Image_05R_3_5.png  \n",
            "  inflating: chase_db_320_320_dice_bce_0_4__hvr_0_4_1/split_2/train/image/_Image_07R_0_8.png  \n",
            "  inflating: chase_db_320_320_dice_bce_0_4__hvr_0_4_1/split_2/train/image/_Image_04R_0_3.png  \n",
            "  inflating: chase_db_320_320_dice_bce_0_4__hvr_0_4_1/split_2/train/image/_Image_10R_3_5.png  \n",
            "  inflating: chase_db_320_320_dice_bce_0_4__hvr_0_4_1/split_2/train/image/_Image_07L_1_11.png  \n",
            "  inflating: chase_db_320_320_dice_bce_0_4__hvr_0_4_1/split_2/train/image/_Image_08L_2_0.png  \n",
            "  inflating: chase_db_320_320_dice_bce_0_4__hvr_0_4_1/split_2/train/image/_Image_10L_0_7.png  \n",
            "  inflating: chase_db_320_320_dice_bce_0_4__hvr_0_4_1/split_2/train/image/_Image_02R_1_9.png  \n",
            "  inflating: chase_db_320_320_dice_bce_0_4__hvr_0_4_1/split_2/train/image/_Image_10L_0_1.png  \n",
            "  inflating: chase_db_320_320_dice_bce_0_4__hvr_0_4_1/split_2/train/image/_Image_06R_1_10.png  \n",
            "  inflating: chase_db_320_320_dice_bce_0_4__hvr_0_4_1/split_2/train/image/_Image_04R_3_7.png  \n",
            "  inflating: chase_db_320_320_dice_bce_0_4__hvr_0_4_1/split_2/train/image/_Image_01L_1_5.png  \n",
            "  inflating: chase_db_320_320_dice_bce_0_4__hvr_0_4_1/split_2/train/image/_Image_01R_2_10.png  \n",
            "  inflating: chase_db_320_320_dice_bce_0_4__hvr_0_4_1/split_2/train/image/_Image_02L_2_1.png  \n",
            "  inflating: chase_db_320_320_dice_bce_0_4__hvr_0_4_1/split_2/train/image/_Image_05R_0_8.png  \n",
            "  inflating: chase_db_320_320_dice_bce_0_4__hvr_0_4_1/split_2/train/image/_Image_06R_1_5.png  \n",
            "  inflating: chase_db_320_320_dice_bce_0_4__hvr_0_4_1/split_2/train/image/_Image_06L_0_4.png  \n",
            "  inflating: chase_db_320_320_dice_bce_0_4__hvr_0_4_1/split_2/train/image/_Image_03R_1_8.png  \n",
            "  inflating: chase_db_320_320_dice_bce_0_4__hvr_0_4_1/split_2/train/image/_Image_04L_0_11.png  \n",
            "  inflating: chase_db_320_320_dice_bce_0_4__hvr_0_4_1/split_2/train/image/_Image_14L_0_3.png  \n",
            "  inflating: chase_db_320_320_dice_bce_0_4__hvr_0_4_1/split_2/train/image/_Image_08R_2_9.png  \n",
            "  inflating: chase_db_320_320_dice_bce_0_4__hvr_0_4_1/split_2/train/image/_Image_02R_3_0.png  \n",
            "  inflating: chase_db_320_320_dice_bce_0_4__hvr_0_4_1/split_2/train/image/_Image_05L_0_7.png  \n",
            "  inflating: chase_db_320_320_dice_bce_0_4__hvr_0_4_1/split_2/train/image/_Image_10L_1_5.png  \n",
            "  inflating: chase_db_320_320_dice_bce_0_4__hvr_0_4_1/split_2/train/image/_Image_07R_3_2.png  \n",
            "  inflating: chase_db_320_320_dice_bce_0_4__hvr_0_4_1/split_2/train/image/_Image_07R_3_3.png  \n",
            "  inflating: chase_db_320_320_dice_bce_0_4__hvr_0_4_1/split_2/train/image/_Image_04R_1_5.png  \n",
            "  inflating: chase_db_320_320_dice_bce_0_4__hvr_0_4_1/split_2/train/image/_Image_06L_0_1.png  \n",
            "  inflating: chase_db_320_320_dice_bce_0_4__hvr_0_4_1/split_2/train/image/_Image_03L_1_8.png  \n",
            "  inflating: chase_db_320_320_dice_bce_0_4__hvr_0_4_1/split_2/train/image/_Image_14R_3_1.png  \n",
            "  inflating: chase_db_320_320_dice_bce_0_4__hvr_0_4_1/split_2/train/image/_Image_03R_1_10.png  \n",
            "  inflating: chase_db_320_320_dice_bce_0_4__hvr_0_4_1/split_2/train/image/_Image_01L_3_11.png  \n",
            "  inflating: chase_db_320_320_dice_bce_0_4__hvr_0_4_1/split_2/train/image/_Image_13R_3_7.png  \n",
            "  inflating: chase_db_320_320_dice_bce_0_4__hvr_0_4_1/split_2/train/image/_Image_04L_1_6.png  \n",
            "  inflating: chase_db_320_320_dice_bce_0_4__hvr_0_4_1/split_2/train/image/_Image_08L_0_7.png  \n",
            "  inflating: chase_db_320_320_dice_bce_0_4__hvr_0_4_1/split_2/train/image/_Image_03L_3_6.png  \n",
            "  inflating: chase_db_320_320_dice_bce_0_4__hvr_0_4_1/split_2/train/image/_Image_09L_3_7.png  \n",
            "  inflating: chase_db_320_320_dice_bce_0_4__hvr_0_4_1/split_2/train/image/_Image_13R_3_11.png  \n",
            "  inflating: chase_db_320_320_dice_bce_0_4__hvr_0_4_1/split_2/train/image/_Image_14L_3_6.png  \n",
            "  inflating: chase_db_320_320_dice_bce_0_4__hvr_0_4_1/split_2/train/image/_Image_06R_2_4.png  \n",
            "  inflating: chase_db_320_320_dice_bce_0_4__hvr_0_4_1/split_2/train/image/_Image_05R_0_5.png  \n",
            "  inflating: chase_db_320_320_dice_bce_0_4__hvr_0_4_1/split_2/train/image/_Image_08L_1_11.png  \n",
            "  inflating: chase_db_320_320_dice_bce_0_4__hvr_0_4_1/split_2/train/image/_Image_10L_2_10.png  \n",
            "  inflating: chase_db_320_320_dice_bce_0_4__hvr_0_4_1/split_2/train/image/_Image_05R_2_2.png  \n",
            "  inflating: chase_db_320_320_dice_bce_0_4__hvr_0_4_1/split_2/train/image/_Image_08L_1_9.png  \n",
            "  inflating: chase_db_320_320_dice_bce_0_4__hvr_0_4_1/split_2/train/image/_Image_09L_1_4.png  \n",
            "  inflating: chase_db_320_320_dice_bce_0_4__hvr_0_4_1/split_2/train/image/_Image_08L_2_3.png  \n",
            "  inflating: chase_db_320_320_dice_bce_0_4__hvr_0_4_1/split_2/train/image/_Image_06R_0_5.png  \n",
            "  inflating: chase_db_320_320_dice_bce_0_4__hvr_0_4_1/split_2/train/image/_Image_04R_1_9.png  \n",
            "  inflating: chase_db_320_320_dice_bce_0_4__hvr_0_4_1/split_2/train/image/_Image_04L_3_0.png  \n",
            "  inflating: chase_db_320_320_dice_bce_0_4__hvr_0_4_1/split_2/train/image/_Image_01R_1_9.png  \n",
            "  inflating: chase_db_320_320_dice_bce_0_4__hvr_0_4_1/split_2/train/image/_Image_02R_0_2.png  \n",
            "  inflating: chase_db_320_320_dice_bce_0_4__hvr_0_4_1/split_2/train/image/_Image_13R_3_3.png  \n",
            "  inflating: chase_db_320_320_dice_bce_0_4__hvr_0_4_1/split_2/train/image/_Image_07L_2_11.png  \n",
            "  inflating: chase_db_320_320_dice_bce_0_4__hvr_0_4_1/split_2/train/image/_Image_09R_1_8.png  \n",
            "  inflating: chase_db_320_320_dice_bce_0_4__hvr_0_4_1/split_2/train/image/_Image_05L_2_6.png  \n",
            "  inflating: chase_db_320_320_dice_bce_0_4__hvr_0_4_1/split_2/train/image/_Image_08R_2_6.png  \n",
            "  inflating: chase_db_320_320_dice_bce_0_4__hvr_0_4_1/split_2/train/image/_Image_06L_3_7.png  \n",
            "  inflating: chase_db_320_320_dice_bce_0_4__hvr_0_4_1/split_2/train/image/_Image_10L_3_1.png  \n",
            "  inflating: chase_db_320_320_dice_bce_0_4__hvr_0_4_1/split_2/train/image/_Image_02R_0_8.png  \n",
            "  inflating: chase_db_320_320_dice_bce_0_4__hvr_0_4_1/split_2/train/image/_Image_07L_0_8.png  \n",
            "  inflating: chase_db_320_320_dice_bce_0_4__hvr_0_4_1/split_2/train/image/_Image_08L_2_2.png  \n",
            "  inflating: chase_db_320_320_dice_bce_0_4__hvr_0_4_1/split_2/train/image/_Image_03R_0_6.png  \n",
            "  inflating: chase_db_320_320_dice_bce_0_4__hvr_0_4_1/split_2/train/image/_Image_09L_1_10.png  \n",
            "  inflating: chase_db_320_320_dice_bce_0_4__hvr_0_4_1/split_2/train/image/_Image_06L_1_0.png  \n",
            "  inflating: chase_db_320_320_dice_bce_0_4__hvr_0_4_1/split_2/train/image/_Image_09R_0_7.png  \n",
            "  inflating: chase_db_320_320_dice_bce_0_4__hvr_0_4_1/split_2/train/image/_Image_07L_3_4.png  \n",
            "  inflating: chase_db_320_320_dice_bce_0_4__hvr_0_4_1/split_2/train/image/_Image_13R_1_7.png  \n",
            "  inflating: chase_db_320_320_dice_bce_0_4__hvr_0_4_1/split_2/train/image/_Image_14R_1_3.png  \n",
            "  inflating: chase_db_320_320_dice_bce_0_4__hvr_0_4_1/split_2/train/image/_Image_03L_2_3.png  \n",
            "  inflating: chase_db_320_320_dice_bce_0_4__hvr_0_4_1/split_2/train/image/_Image_10R_1_9.png  \n",
            "  inflating: chase_db_320_320_dice_bce_0_4__hvr_0_4_1/split_2/train/image/_Image_10L_1_10.png  \n",
            "  inflating: chase_db_320_320_dice_bce_0_4__hvr_0_4_1/split_2/train/image/_Image_06L_1_3.png  \n",
            "  inflating: chase_db_320_320_dice_bce_0_4__hvr_0_4_1/split_2/train/image/_Image_07L_2_8.png  \n",
            "  inflating: chase_db_320_320_dice_bce_0_4__hvr_0_4_1/split_2/train/image/_Image_10R_1_10.png  \n",
            "  inflating: chase_db_320_320_dice_bce_0_4__hvr_0_4_1/split_2/train/image/_Image_13R_3_10.png  \n",
            "  inflating: chase_db_320_320_dice_bce_0_4__hvr_0_4_1/split_2/train/image/_Image_01L_0_9.png  \n",
            "  inflating: chase_db_320_320_dice_bce_0_4__hvr_0_4_1/split_2/train/image/_Image_08R_3_5.png  \n",
            "  inflating: chase_db_320_320_dice_bce_0_4__hvr_0_4_1/split_2/train/image/_Image_07R_2_4.png  \n",
            "  inflating: chase_db_320_320_dice_bce_0_4__hvr_0_4_1/split_2/train/image/_Image_09L_3_4.png  \n",
            "  inflating: chase_db_320_320_dice_bce_0_4__hvr_0_4_1/split_2/train/image/_Image_10R_0_9.png  \n",
            "  inflating: chase_db_320_320_dice_bce_0_4__hvr_0_4_1/split_2/train/image/_Image_08R_1_1.png  \n",
            "  inflating: chase_db_320_320_dice_bce_0_4__hvr_0_4_1/split_2/train/image/_Image_01R_1_8.png  \n",
            "  inflating: chase_db_320_320_dice_bce_0_4__hvr_0_4_1/split_2/train/image/_Image_07R_1_1.png  \n",
            "  inflating: chase_db_320_320_dice_bce_0_4__hvr_0_4_1/split_2/train/image/_Image_08R_0_7.png  \n",
            "  inflating: chase_db_320_320_dice_bce_0_4__hvr_0_4_1/split_2/train/image/_Image_03L_1_1.png  \n",
            "  inflating: chase_db_320_320_dice_bce_0_4__hvr_0_4_1/split_2/train/image/_Image_05L_3_3.png  \n",
            "  inflating: chase_db_320_320_dice_bce_0_4__hvr_0_4_1/split_2/train/image/_Image_14L_3_4.png  \n",
            "  inflating: chase_db_320_320_dice_bce_0_4__hvr_0_4_1/split_2/train/image/_Image_08R_3_9.png  \n",
            "  inflating: chase_db_320_320_dice_bce_0_4__hvr_0_4_1/split_2/train/image/_Image_05R_1_3.png  \n",
            "  inflating: chase_db_320_320_dice_bce_0_4__hvr_0_4_1/split_2/train/image/_Image_05L_1_6.png  \n",
            "  inflating: chase_db_320_320_dice_bce_0_4__hvr_0_4_1/split_2/train/image/_Image_09R_1_5.png  \n",
            "  inflating: chase_db_320_320_dice_bce_0_4__hvr_0_4_1/split_2/train/image/_Image_10R_3_2.png  \n",
            "  inflating: chase_db_320_320_dice_bce_0_4__hvr_0_4_1/split_2/train/image/_Image_02R_2_4.png  \n",
            "  inflating: chase_db_320_320_dice_bce_0_4__hvr_0_4_1/split_2/train/image/_Image_09L_1_8.png  \n",
            "  inflating: chase_db_320_320_dice_bce_0_4__hvr_0_4_1/split_2/train/image/_Image_07L_0_0.png  \n",
            "  inflating: chase_db_320_320_dice_bce_0_4__hvr_0_4_1/split_2/train/image/_Image_04R_0_10.png  \n",
            "  inflating: chase_db_320_320_dice_bce_0_4__hvr_0_4_1/split_2/train/image/_Image_10L_1_11.png  \n",
            "  inflating: chase_db_320_320_dice_bce_0_4__hvr_0_4_1/split_2/train/image/_Image_01R_1_1.png  \n",
            "  inflating: chase_db_320_320_dice_bce_0_4__hvr_0_4_1/split_2/train/image/_Image_05L_2_3.png  \n",
            "  inflating: chase_db_320_320_dice_bce_0_4__hvr_0_4_1/split_2/train/image/_Image_09L_2_1.png  \n",
            "  inflating: chase_db_320_320_dice_bce_0_4__hvr_0_4_1/split_2/train/image/_Image_10R_1_2.png  \n",
            "  inflating: chase_db_320_320_dice_bce_0_4__hvr_0_4_1/split_2/train/image/_Image_01L_3_7.png  \n",
            "  inflating: chase_db_320_320_dice_bce_0_4__hvr_0_4_1/split_2/train/image/_Image_05L_2_1.png  \n",
            "  inflating: chase_db_320_320_dice_bce_0_4__hvr_0_4_1/split_2/train/image/_Image_07R_1_2.png  \n",
            "  inflating: chase_db_320_320_dice_bce_0_4__hvr_0_4_1/split_2/train/image/_Image_10L_0_10.png  \n",
            "  inflating: chase_db_320_320_dice_bce_0_4__hvr_0_4_1/split_2/train/image/_Image_14L_0_11.png  \n",
            "  inflating: chase_db_320_320_dice_bce_0_4__hvr_0_4_1/split_2/train/image/_Image_06L_2_8.png  \n",
            "  inflating: chase_db_320_320_dice_bce_0_4__hvr_0_4_1/split_2/train/image/_Image_10R_3_0.png  \n",
            "  inflating: chase_db_320_320_dice_bce_0_4__hvr_0_4_1/split_2/train/image/_Image_05L_0_11.png  \n",
            "  inflating: chase_db_320_320_dice_bce_0_4__hvr_0_4_1/split_2/train/image/_Image_05R_1_7.png  \n",
            "  inflating: chase_db_320_320_dice_bce_0_4__hvr_0_4_1/split_2/train/image/_Image_04R_0_9.png  \n",
            "  inflating: chase_db_320_320_dice_bce_0_4__hvr_0_4_1/split_2/train/image/_Image_07R_1_10.png  \n",
            "  inflating: chase_db_320_320_dice_bce_0_4__hvr_0_4_1/split_2/train/image/_Image_14R_0_10.png  \n",
            "  inflating: chase_db_320_320_dice_bce_0_4__hvr_0_4_1/split_2/train/image/_Image_08R_0_6.png  \n",
            "  inflating: chase_db_320_320_dice_bce_0_4__hvr_0_4_1/split_2/train/image/_Image_14L_0_7.png  \n",
            "  inflating: chase_db_320_320_dice_bce_0_4__hvr_0_4_1/split_2/train/image/_Image_08L_3_8.png  \n",
            "  inflating: chase_db_320_320_dice_bce_0_4__hvr_0_4_1/split_2/train/image/_Image_02L_0_1.png  \n",
            "  inflating: chase_db_320_320_dice_bce_0_4__hvr_0_4_1/split_2/train/image/_Image_03L_2_2.png  \n",
            "  inflating: chase_db_320_320_dice_bce_0_4__hvr_0_4_1/split_2/train/image/_Image_04L_1_2.png  \n",
            "  inflating: chase_db_320_320_dice_bce_0_4__hvr_0_4_1/split_2/train/image/_Image_06L_2_3.png  \n",
            "  inflating: chase_db_320_320_dice_bce_0_4__hvr_0_4_1/split_2/train/image/_Image_14L_0_10.png  \n",
            "  inflating: chase_db_320_320_dice_bce_0_4__hvr_0_4_1/split_2/train/image/_Image_06R_0_1.png  \n",
            "  inflating: chase_db_320_320_dice_bce_0_4__hvr_0_4_1/split_2/train/image/_Image_09L_0_4.png  \n",
            "  inflating: chase_db_320_320_dice_bce_0_4__hvr_0_4_1/split_2/train/image/_Image_01L_0_1.png  \n",
            "  inflating: chase_db_320_320_dice_bce_0_4__hvr_0_4_1/split_2/train/image/_Image_07L_2_4.png  \n",
            "  inflating: chase_db_320_320_dice_bce_0_4__hvr_0_4_1/split_2/train/image/_Image_01L_3_8.png  \n",
            "  inflating: chase_db_320_320_dice_bce_0_4__hvr_0_4_1/split_2/train/image/_Image_07R_1_8.png  \n",
            "  inflating: chase_db_320_320_dice_bce_0_4__hvr_0_4_1/split_2/train/image/_Image_08R_1_11.png  \n",
            "  inflating: chase_db_320_320_dice_bce_0_4__hvr_0_4_1/split_2/train/image/_Image_02R_0_10.png  \n",
            "  inflating: chase_db_320_320_dice_bce_0_4__hvr_0_4_1/split_2/train/image/_Image_02L_3_2.png  \n",
            "  inflating: chase_db_320_320_dice_bce_0_4__hvr_0_4_1/split_2/train/image/_Image_02R_3_5.png  \n",
            "  inflating: chase_db_320_320_dice_bce_0_4__hvr_0_4_1/split_2/train/image/_Image_09R_3_4.png  \n",
            "  inflating: chase_db_320_320_dice_bce_0_4__hvr_0_4_1/split_2/train/image/_Image_14L_1_0.png  \n",
            "  inflating: chase_db_320_320_dice_bce_0_4__hvr_0_4_1/split_2/train/image/_Image_13R_2_7.png  \n",
            "  inflating: chase_db_320_320_dice_bce_0_4__hvr_0_4_1/split_2/train/image/_Image_02L_0_4.png  \n",
            "  inflating: chase_db_320_320_dice_bce_0_4__hvr_0_4_1/split_2/train/image/_Image_08R_0_1.png  \n",
            "  inflating: chase_db_320_320_dice_bce_0_4__hvr_0_4_1/split_2/train/image/_Image_05L_2_2.png  \n",
            "  inflating: chase_db_320_320_dice_bce_0_4__hvr_0_4_1/split_2/train/image/_Image_09L_0_11.png  \n",
            "  inflating: chase_db_320_320_dice_bce_0_4__hvr_0_4_1/split_2/train/image/_Image_07R_3_4.png  \n",
            "  inflating: chase_db_320_320_dice_bce_0_4__hvr_0_4_1/split_2/train/image/_Image_09L_1_9.png  \n",
            "  inflating: chase_db_320_320_dice_bce_0_4__hvr_0_4_1/split_2/train/image/_Image_03R_0_8.png  \n",
            "  inflating: chase_db_320_320_dice_bce_0_4__hvr_0_4_1/split_2/train/image/_Image_10R_1_6.png  \n",
            "  inflating: chase_db_320_320_dice_bce_0_4__hvr_0_4_1/split_2/train/image/_Image_14L_2_3.png  \n",
            "  inflating: chase_db_320_320_dice_bce_0_4__hvr_0_4_1/split_2/train/image/_Image_04L_0_6.png  \n",
            "  inflating: chase_db_320_320_dice_bce_0_4__hvr_0_4_1/split_2/train/image/_Image_06L_0_2.png  \n",
            "  inflating: chase_db_320_320_dice_bce_0_4__hvr_0_4_1/split_2/train/image/_Image_03R_1_4.png  \n",
            "  inflating: chase_db_320_320_dice_bce_0_4__hvr_0_4_1/split_2/train/image/_Image_04L_1_11.png  \n",
            "  inflating: chase_db_320_320_dice_bce_0_4__hvr_0_4_1/split_2/train/image/_Image_13R_3_5.png  \n",
            "  inflating: chase_db_320_320_dice_bce_0_4__hvr_0_4_1/split_2/train/image/_Image_02R_0_6.png  \n",
            "  inflating: chase_db_320_320_dice_bce_0_4__hvr_0_4_1/split_2/train/image/_Image_08L_2_11.png  \n",
            "  inflating: chase_db_320_320_dice_bce_0_4__hvr_0_4_1/split_2/train/image/_Image_01L_2_1.png  \n",
            "  inflating: chase_db_320_320_dice_bce_0_4__hvr_0_4_1/split_2/train/image/_Image_02L_2_3.png  \n",
            "  inflating: chase_db_320_320_dice_bce_0_4__hvr_0_4_1/split_2/train/image/_Image_09R_2_0.png  \n",
            "  inflating: chase_db_320_320_dice_bce_0_4__hvr_0_4_1/split_2/train/image/_Image_09R_1_2.png  \n",
            "  inflating: chase_db_320_320_dice_bce_0_4__hvr_0_4_1/split_2/train/image/_Image_05L_2_10.png  \n",
            "  inflating: chase_db_320_320_dice_bce_0_4__hvr_0_4_1/split_2/train/image/_Image_14R_1_0.png  \n",
            "  inflating: chase_db_320_320_dice_bce_0_4__hvr_0_4_1/split_2/train/image/_Image_09L_2_4.png  \n",
            "  inflating: chase_db_320_320_dice_bce_0_4__hvr_0_4_1/split_2/train/image/_Image_10L_3_8.png  \n",
            "  inflating: chase_db_320_320_dice_bce_0_4__hvr_0_4_1/split_2/train/image/_Image_08L_0_5.png  \n",
            "  inflating: chase_db_320_320_dice_bce_0_4__hvr_0_4_1/split_2/train/image/_Image_01R_0_9.png  \n",
            "  inflating: chase_db_320_320_dice_bce_0_4__hvr_0_4_1/split_2/train/image/_Image_06L_3_3.png  \n",
            "  inflating: chase_db_320_320_dice_bce_0_4__hvr_0_4_1/split_2/train/image/_Image_02R_2_1.png  \n",
            "  inflating: chase_db_320_320_dice_bce_0_4__hvr_0_4_1/split_2/train/image/_Image_01R_0_2.png  \n",
            "  inflating: chase_db_320_320_dice_bce_0_4__hvr_0_4_1/split_2/train/image/_Image_07R_0_5.png  \n",
            "  inflating: chase_db_320_320_dice_bce_0_4__hvr_0_4_1/split_2/train/image/_Image_02R_0_1.png  \n",
            "  inflating: chase_db_320_320_dice_bce_0_4__hvr_0_4_1/split_2/train/image/_Image_10L_2_7.png  \n",
            "  inflating: chase_db_320_320_dice_bce_0_4__hvr_0_4_1/split_2/train/image/_Image_01R_3_0.png  \n",
            "  inflating: chase_db_320_320_dice_bce_0_4__hvr_0_4_1/split_2/train/image/_Image_04L_2_10.png  \n",
            "  inflating: chase_db_320_320_dice_bce_0_4__hvr_0_4_1/split_2/train/image/_Image_03R_2_7.png  \n",
            "  inflating: chase_db_320_320_dice_bce_0_4__hvr_0_4_1/split_2/train/image/_Image_08R_2_2.png  \n",
            "  inflating: chase_db_320_320_dice_bce_0_4__hvr_0_4_1/split_2/train/image/_Image_05L_3_2.png  \n",
            "  inflating: chase_db_320_320_dice_bce_0_4__hvr_0_4_1/split_2/train/image/_Image_10L_0_5.png  \n",
            "  inflating: chase_db_320_320_dice_bce_0_4__hvr_0_4_1/split_2/train/image/_Image_14R_2_0.png  \n",
            "  inflating: chase_db_320_320_dice_bce_0_4__hvr_0_4_1/split_2/train/image/_Image_05R_1_6.png  \n",
            "  inflating: chase_db_320_320_dice_bce_0_4__hvr_0_4_1/split_2/train/image/_Image_09R_0_10.png  \n",
            "  inflating: chase_db_320_320_dice_bce_0_4__hvr_0_4_1/split_2/train/image/_Image_05L_3_7.png  \n",
            "  inflating: chase_db_320_320_dice_bce_0_4__hvr_0_4_1/split_2/train/image/_Image_03L_3_9.png  \n",
            "  inflating: chase_db_320_320_dice_bce_0_4__hvr_0_4_1/split_2/train/image/_Image_03R_1_0.png  \n",
            "  inflating: chase_db_320_320_dice_bce_0_4__hvr_0_4_1/split_2/train/image/_Image_09L_2_5.png  \n",
            "  inflating: chase_db_320_320_dice_bce_0_4__hvr_0_4_1/split_2/train/image/_Image_02R_1_0.png  \n",
            "  inflating: chase_db_320_320_dice_bce_0_4__hvr_0_4_1/split_2/train/image/_Image_04R_0_11.png  \n",
            "  inflating: chase_db_320_320_dice_bce_0_4__hvr_0_4_1/split_2/train/image/_Image_07L_0_11.png  \n",
            "  inflating: chase_db_320_320_dice_bce_0_4__hvr_0_4_1/split_2/train/image/_Image_06L_0_8.png  \n",
            "  inflating: chase_db_320_320_dice_bce_0_4__hvr_0_4_1/split_2/train/image/_Image_09L_3_0.png  \n",
            "  inflating: chase_db_320_320_dice_bce_0_4__hvr_0_4_1/split_2/train/image/_Image_06L_3_2.png  \n",
            "  inflating: chase_db_320_320_dice_bce_0_4__hvr_0_4_1/split_2/train/image/_Image_07R_0_1.png  \n",
            "  inflating: chase_db_320_320_dice_bce_0_4__hvr_0_4_1/split_2/train/image/_Image_07R_3_0.png  \n",
            "  inflating: chase_db_320_320_dice_bce_0_4__hvr_0_4_1/split_2/train/image/_Image_13R_0_7.png  \n",
            "  inflating: chase_db_320_320_dice_bce_0_4__hvr_0_4_1/split_2/train/image/_Image_14R_0_1.png  \n",
            "  inflating: chase_db_320_320_dice_bce_0_4__hvr_0_4_1/split_2/train/image/_Image_08L_0_11.png  \n",
            "  inflating: chase_db_320_320_dice_bce_0_4__hvr_0_4_1/split_2/train/image/_Image_03R_2_2.png  \n",
            "  inflating: chase_db_320_320_dice_bce_0_4__hvr_0_4_1/split_2/train/image/_Image_05R_2_7.png  \n",
            "  inflating: chase_db_320_320_dice_bce_0_4__hvr_0_4_1/split_2/train/image/_Image_04L_2_3.png  \n",
            "  inflating: chase_db_320_320_dice_bce_0_4__hvr_0_4_1/split_2/train/image/_Image_06R_2_3.png  \n",
            "  inflating: chase_db_320_320_dice_bce_0_4__hvr_0_4_1/split_2/train/image/_Image_02L_3_3.png  \n",
            "  inflating: chase_db_320_320_dice_bce_0_4__hvr_0_4_1/split_2/train/image/_Image_06L_1_7.png  \n",
            "  inflating: chase_db_320_320_dice_bce_0_4__hvr_0_4_1/split_2/train/image/_Image_10R_2_8.png  \n",
            "  inflating: chase_db_320_320_dice_bce_0_4__hvr_0_4_1/split_2/train/image/_Image_14L_3_8.png  \n",
            "  inflating: chase_db_320_320_dice_bce_0_4__hvr_0_4_1/split_2/train/image/_Image_03R_0_9.png  \n",
            "  inflating: chase_db_320_320_dice_bce_0_4__hvr_0_4_1/split_2/train/image/_Image_05L_3_6.png  \n",
            "  inflating: chase_db_320_320_dice_bce_0_4__hvr_0_4_1/split_2/train/image/_Image_07R_0_9.png  \n",
            "  inflating: chase_db_320_320_dice_bce_0_4__hvr_0_4_1/split_2/train/image/_Image_06R_3_10.png  \n",
            "  inflating: chase_db_320_320_dice_bce_0_4__hvr_0_4_1/split_2/train/image/_Image_08L_3_7.png  \n",
            "  inflating: chase_db_320_320_dice_bce_0_4__hvr_0_4_1/split_2/train/image/_Image_04R_0_1.png  \n",
            "  inflating: chase_db_320_320_dice_bce_0_4__hvr_0_4_1/split_2/train/image/_Image_02R_3_9.png  \n",
            "  inflating: chase_db_320_320_dice_bce_0_4__hvr_0_4_1/split_2/train/image/_Image_07L_2_2.png  \n",
            "  inflating: chase_db_320_320_dice_bce_0_4__hvr_0_4_1/split_2/train/image/_Image_09R_1_6.png  \n",
            "  inflating: chase_db_320_320_dice_bce_0_4__hvr_0_4_1/split_2/train/image/_Image_01L_3_6.png  \n",
            "  inflating: chase_db_320_320_dice_bce_0_4__hvr_0_4_1/split_2/train/image/_Image_07R_2_3.png  \n",
            "  inflating: chase_db_320_320_dice_bce_0_4__hvr_0_4_1/split_2/train/image/_Image_05L_1_8.png  \n",
            "  inflating: chase_db_320_320_dice_bce_0_4__hvr_0_4_1/split_2/train/image/_Image_02R_1_5.png  \n",
            "  inflating: chase_db_320_320_dice_bce_0_4__hvr_0_4_1/split_2/train/image/_Image_02L_0_0.png  \n",
            "  inflating: chase_db_320_320_dice_bce_0_4__hvr_0_4_1/split_2/train/image/_Image_07R_3_10.png  \n",
            "  inflating: chase_db_320_320_dice_bce_0_4__hvr_0_4_1/split_2/train/image/_Image_10L_0_11.png  \n",
            "  inflating: chase_db_320_320_dice_bce_0_4__hvr_0_4_1/split_2/train/image/_Image_02R_1_6.png  \n",
            "  inflating: chase_db_320_320_dice_bce_0_4__hvr_0_4_1/split_2/train/image/_Image_06L_1_9.png  \n",
            "  inflating: chase_db_320_320_dice_bce_0_4__hvr_0_4_1/split_2/train/image/_Image_01R_3_5.png  \n",
            "  inflating: chase_db_320_320_dice_bce_0_4__hvr_0_4_1/split_2/train/image/_Image_14L_3_3.png  \n",
            "  inflating: chase_db_320_320_dice_bce_0_4__hvr_0_4_1/split_2/train/image/_Image_09R_1_10.png  \n",
            "  inflating: chase_db_320_320_dice_bce_0_4__hvr_0_4_1/split_2/train/image/_Image_10L_2_9.png  \n",
            "  inflating: chase_db_320_320_dice_bce_0_4__hvr_0_4_1/split_2/train/image/_Image_09L_3_10.png  \n",
            "  inflating: chase_db_320_320_dice_bce_0_4__hvr_0_4_1/split_2/train/image/_Image_13R_2_9.png  \n",
            "  inflating: chase_db_320_320_dice_bce_0_4__hvr_0_4_1/split_2/train/image/_Image_10R_2_9.png  \n",
            "  inflating: chase_db_320_320_dice_bce_0_4__hvr_0_4_1/split_2/train/image/_Image_08L_1_10.png  \n",
            "  inflating: chase_db_320_320_dice_bce_0_4__hvr_0_4_1/split_2/train/image/_Image_07R_3_8.png  \n",
            "  inflating: chase_db_320_320_dice_bce_0_4__hvr_0_4_1/split_2/train/image/_Image_01R_2_5.png  \n",
            "  inflating: chase_db_320_320_dice_bce_0_4__hvr_0_4_1/split_2/train/image/_Image_14L_1_9.png  \n",
            "  inflating: chase_db_320_320_dice_bce_0_4__hvr_0_4_1/split_2/train/image/_Image_01R_2_9.png  \n",
            "  inflating: chase_db_320_320_dice_bce_0_4__hvr_0_4_1/split_2/train/image/_Image_08L_0_6.png  \n",
            "  inflating: chase_db_320_320_dice_bce_0_4__hvr_0_4_1/split_2/train/image/_Image_01R_3_9.png  \n",
            "  inflating: chase_db_320_320_dice_bce_0_4__hvr_0_4_1/split_2/train/image/_Image_04L_1_10.png  \n",
            "  inflating: chase_db_320_320_dice_bce_0_4__hvr_0_4_1/split_2/train/image/_Image_08R_0_2.png  \n",
            "  inflating: chase_db_320_320_dice_bce_0_4__hvr_0_4_1/split_2/train/image/_Image_08L_2_7.png  \n",
            "  inflating: chase_db_320_320_dice_bce_0_4__hvr_0_4_1/split_2/train/image/_Image_04R_2_6.png  \n",
            "  inflating: chase_db_320_320_dice_bce_0_4__hvr_0_4_1/split_2/train/image/_Image_10R_0_8.png  \n",
            "  inflating: chase_db_320_320_dice_bce_0_4__hvr_0_4_1/split_2/train/image/_Image_09L_0_3.png  \n",
            "  inflating: chase_db_320_320_dice_bce_0_4__hvr_0_4_1/split_2/train/image/_Image_01R_2_3.png  \n",
            "  inflating: chase_db_320_320_dice_bce_0_4__hvr_0_4_1/split_2/train/image/_Image_05R_1_5.png  \n",
            "  inflating: chase_db_320_320_dice_bce_0_4__hvr_0_4_1/split_2/train/image/_Image_04L_3_4.png  \n",
            "  inflating: chase_db_320_320_dice_bce_0_4__hvr_0_4_1/split_2/train/image/_Image_13R_2_8.png  \n",
            "  inflating: chase_db_320_320_dice_bce_0_4__hvr_0_4_1/split_2/train/image/_Image_01L_2_11.png  \n",
            "  inflating: chase_db_320_320_dice_bce_0_4__hvr_0_4_1/split_2/train/image/_Image_14R_1_7.png  \n",
            "  inflating: chase_db_320_320_dice_bce_0_4__hvr_0_4_1/split_2/train/image/_Image_07R_3_11.png  \n",
            "  inflating: chase_db_320_320_dice_bce_0_4__hvr_0_4_1/split_2/train/image/_Image_14R_2_6.png  \n",
            "  inflating: chase_db_320_320_dice_bce_0_4__hvr_0_4_1/split_2/train/image/_Image_04L_0_5.png  \n",
            "  inflating: chase_db_320_320_dice_bce_0_4__hvr_0_4_1/split_2/train/image/_Image_03R_1_5.png  \n",
            "  inflating: chase_db_320_320_dice_bce_0_4__hvr_0_4_1/split_2/train/image/_Image_04L_0_7.png  \n",
            "  inflating: chase_db_320_320_dice_bce_0_4__hvr_0_4_1/split_2/train/image/_Image_08L_1_2.png  \n",
            "  inflating: chase_db_320_320_dice_bce_0_4__hvr_0_4_1/split_2/train/image/_Image_10R_3_10.png  \n",
            "  inflating: chase_db_320_320_dice_bce_0_4__hvr_0_4_1/split_2/train/image/_Image_14R_2_11.png  \n",
            "  inflating: chase_db_320_320_dice_bce_0_4__hvr_0_4_1/split_2/train/image/_Image_13R_0_3.png  \n",
            "  inflating: chase_db_320_320_dice_bce_0_4__hvr_0_4_1/split_2/train/image/_Image_08R_1_7.png  \n",
            "  inflating: chase_db_320_320_dice_bce_0_4__hvr_0_4_1/split_2/train/image/_Image_10L_1_3.png  \n",
            "  inflating: chase_db_320_320_dice_bce_0_4__hvr_0_4_1/split_2/train/image/_Image_03R_3_7.png  \n",
            "  inflating: chase_db_320_320_dice_bce_0_4__hvr_0_4_1/split_2/train/image/_Image_06L_0_6.png  \n",
            "  inflating: chase_db_320_320_dice_bce_0_4__hvr_0_4_1/split_2/train/image/_Image_14L_1_8.png  \n",
            "  inflating: chase_db_320_320_dice_bce_0_4__hvr_0_4_1/split_2/train/image/_Image_01R_1_0.png  \n",
            "  inflating: chase_db_320_320_dice_bce_0_4__hvr_0_4_1/split_2/train/image/_Image_05R_2_4.png  \n",
            "  inflating: chase_db_320_320_dice_bce_0_4__hvr_0_4_1/split_2/train/image/_Image_10R_2_6.png  \n",
            "  inflating: chase_db_320_320_dice_bce_0_4__hvr_0_4_1/split_2/train/image/_Image_08L_2_5.png  \n",
            "  inflating: chase_db_320_320_dice_bce_0_4__hvr_0_4_1/split_2/train/image/_Image_10L_2_8.png  \n",
            "  inflating: chase_db_320_320_dice_bce_0_4__hvr_0_4_1/split_2/train/image/_Image_07L_1_1.png  \n",
            "  inflating: chase_db_320_320_dice_bce_0_4__hvr_0_4_1/split_2/train/image/_Image_05L_3_1.png  \n",
            "  inflating: chase_db_320_320_dice_bce_0_4__hvr_0_4_1/split_2/train/image/_Image_04L_3_3.png  \n",
            "  inflating: chase_db_320_320_dice_bce_0_4__hvr_0_4_1/split_2/train/image/_Image_10L_3_4.png  \n",
            "  inflating: chase_db_320_320_dice_bce_0_4__hvr_0_4_1/split_2/train/image/_Image_06L_3_10.png  \n",
            "  inflating: chase_db_320_320_dice_bce_0_4__hvr_0_4_1/split_2/train/image/_Image_05R_0_1.png  \n",
            "  inflating: chase_db_320_320_dice_bce_0_4__hvr_0_4_1/split_2/train/image/_Image_01R_1_10.png  \n",
            "  inflating: chase_db_320_320_dice_bce_0_4__hvr_0_4_1/split_2/train/image/_Image_04R_3_2.png  \n",
            "  inflating: chase_db_320_320_dice_bce_0_4__hvr_0_4_1/split_2/train/image/_Image_10L_2_5.png  \n",
            "  inflating: chase_db_320_320_dice_bce_0_4__hvr_0_4_1/split_2/train/image/_Image_02L_0_11.png  \n",
            "  inflating: chase_db_320_320_dice_bce_0_4__hvr_0_4_1/split_2/train/image/_Image_03R_0_11.png  \n",
            "  inflating: chase_db_320_320_dice_bce_0_4__hvr_0_4_1/split_2/train/image/_Image_14L_2_7.png  \n",
            "  inflating: chase_db_320_320_dice_bce_0_4__hvr_0_4_1/split_2/train/image/_Image_10R_3_11.png  \n",
            "  inflating: chase_db_320_320_dice_bce_0_4__hvr_0_4_1/split_2/train/image/_Image_14R_0_5.png  \n",
            "  inflating: chase_db_320_320_dice_bce_0_4__hvr_0_4_1/split_2/train/image/_Image_13R_0_1.png  \n",
            "  inflating: chase_db_320_320_dice_bce_0_4__hvr_0_4_1/split_2/train/image/_Image_08L_1_5.png  \n",
            "  inflating: chase_db_320_320_dice_bce_0_4__hvr_0_4_1/split_2/train/image/_Image_14L_2_0.png  \n",
            "  inflating: chase_db_320_320_dice_bce_0_4__hvr_0_4_1/split_2/train/image/_Image_03L_3_5.png  \n",
            "  inflating: chase_db_320_320_dice_bce_0_4__hvr_0_4_1/split_2/train/image/_Image_14L_2_11.png  \n",
            "  inflating: chase_db_320_320_dice_bce_0_4__hvr_0_4_1/split_2/train/image/_Image_09R_2_3.png  \n",
            "  inflating: chase_db_320_320_dice_bce_0_4__hvr_0_4_1/split_2/train/image/_Image_14R_0_11.png  \n",
            "  inflating: chase_db_320_320_dice_bce_0_4__hvr_0_4_1/split_2/train/image/_Image_03L_2_5.png  \n",
            "  inflating: chase_db_320_320_dice_bce_0_4__hvr_0_4_1/split_2/train/image/_Image_06R_3_11.png  \n",
            "  inflating: chase_db_320_320_dice_bce_0_4__hvr_0_4_1/split_2/train/image/_Image_03R_3_9.png  \n",
            "  inflating: chase_db_320_320_dice_bce_0_4__hvr_0_4_1/split_2/train/image/_Image_06L_3_9.png  \n",
            "  inflating: chase_db_320_320_dice_bce_0_4__hvr_0_4_1/split_2/train/image/_Image_10L_3_7.png  \n",
            "  inflating: chase_db_320_320_dice_bce_0_4__hvr_0_4_1/split_2/train/image/_Image_06L_3_1.png  \n",
            "  inflating: chase_db_320_320_dice_bce_0_4__hvr_0_4_1/split_2/train/image/_Image_04L_2_8.png  \n",
            "  inflating: chase_db_320_320_dice_bce_0_4__hvr_0_4_1/split_2/train/image/_Image_01R_2_1.png  \n",
            "  inflating: chase_db_320_320_dice_bce_0_4__hvr_0_4_1/split_2/train/image/_Image_14R_2_2.png  \n",
            "  inflating: chase_db_320_320_dice_bce_0_4__hvr_0_4_1/split_2/train/image/_Image_07R_0_11.png  \n",
            "  inflating: chase_db_320_320_dice_bce_0_4__hvr_0_4_1/split_2/train/image/_Image_13R_0_11.png  \n",
            "  inflating: chase_db_320_320_dice_bce_0_4__hvr_0_4_1/split_2/train/image/_Image_03R_3_0.png  \n",
            "  inflating: chase_db_320_320_dice_bce_0_4__hvr_0_4_1/split_2/train/image/_Image_13R_3_1.png  \n",
            "  inflating: chase_db_320_320_dice_bce_0_4__hvr_0_4_1/split_2/train/image/_Image_05L_0_2.png  \n",
            "  inflating: chase_db_320_320_dice_bce_0_4__hvr_0_4_1/split_2/train/image/_Image_05L_1_1.png  \n",
            "  inflating: chase_db_320_320_dice_bce_0_4__hvr_0_4_1/split_2/train/image/_Image_07R_1_4.png  \n",
            "  inflating: chase_db_320_320_dice_bce_0_4__hvr_0_4_1/split_2/train/image/_Image_14L_0_8.png  \n",
            "  inflating: chase_db_320_320_dice_bce_0_4__hvr_0_4_1/split_2/train/image/_Image_06R_0_0.png  \n",
            "  inflating: chase_db_320_320_dice_bce_0_4__hvr_0_4_1/split_2/train/image/_Image_05L_3_5.png  \n",
            "  inflating: chase_db_320_320_dice_bce_0_4__hvr_0_4_1/split_2/train/image/_Image_09L_2_7.png  \n",
            "  inflating: chase_db_320_320_dice_bce_0_4__hvr_0_4_1/split_2/train/image/_Image_09R_2_1.png  \n",
            "  inflating: chase_db_320_320_dice_bce_0_4__hvr_0_4_1/split_2/train/image/_Image_04R_1_2.png  \n",
            "  inflating: chase_db_320_320_dice_bce_0_4__hvr_0_4_1/split_2/train/image/_Image_05R_3_1.png  \n",
            "  inflating: chase_db_320_320_dice_bce_0_4__hvr_0_4_1/split_2/train/image/_Image_04R_1_7.png  \n",
            "  inflating: chase_db_320_320_dice_bce_0_4__hvr_0_4_1/split_2/train/image/_Image_07R_3_9.png  \n",
            "  inflating: chase_db_320_320_dice_bce_0_4__hvr_0_4_1/split_2/train/image/_Image_08L_1_6.png  \n",
            "  inflating: chase_db_320_320_dice_bce_0_4__hvr_0_4_1/split_2/train/image/_Image_14L_0_1.png  \n",
            "  inflating: chase_db_320_320_dice_bce_0_4__hvr_0_4_1/split_2/train/image/_Image_08L_0_3.png  \n",
            "  inflating: chase_db_320_320_dice_bce_0_4__hvr_0_4_1/split_2/train/image/_Image_03L_3_3.png  \n",
            "  inflating: chase_db_320_320_dice_bce_0_4__hvr_0_4_1/split_2/train/image/_Image_10L_3_0.png  \n",
            "  inflating: chase_db_320_320_dice_bce_0_4__hvr_0_4_1/split_2/train/image/_Image_01L_0_10.png  \n",
            "  inflating: chase_db_320_320_dice_bce_0_4__hvr_0_4_1/split_2/train/image/_Image_04R_1_10.png  \n",
            "  inflating: chase_db_320_320_dice_bce_0_4__hvr_0_4_1/split_2/train/image/_Image_07R_0_0.png  \n",
            "  inflating: chase_db_320_320_dice_bce_0_4__hvr_0_4_1/split_2/train/image/_Image_03L_0_6.png  \n",
            "  inflating: chase_db_320_320_dice_bce_0_4__hvr_0_4_1/split_2/train/image/_Image_10L_0_0.png  \n",
            "  inflating: chase_db_320_320_dice_bce_0_4__hvr_0_4_1/split_2/train/image/_Image_03R_1_3.png  \n",
            "  inflating: chase_db_320_320_dice_bce_0_4__hvr_0_4_1/split_2/train/image/_Image_08R_1_0.png  \n",
            "  inflating: chase_db_320_320_dice_bce_0_4__hvr_0_4_1/split_2/train/image/_Image_06R_0_8.png  \n",
            "  inflating: chase_db_320_320_dice_bce_0_4__hvr_0_4_1/split_2/train/image/_Image_03R_3_10.png  \n",
            "  inflating: chase_db_320_320_dice_bce_0_4__hvr_0_4_1/split_2/train/image/_Image_07R_3_5.png  \n",
            "  inflating: chase_db_320_320_dice_bce_0_4__hvr_0_4_1/split_2/train/image/_Image_08L_3_0.png  \n",
            "  inflating: chase_db_320_320_dice_bce_0_4__hvr_0_4_1/split_2/train/image/_Image_13R_1_5.png  \n",
            "  inflating: chase_db_320_320_dice_bce_0_4__hvr_0_4_1/split_2/train/image/_Image_07L_0_4.png  \n",
            "  inflating: chase_db_320_320_dice_bce_0_4__hvr_0_4_1/split_2/train/image/_Image_03R_2_6.png  \n",
            "  inflating: chase_db_320_320_dice_bce_0_4__hvr_0_4_1/split_2/train/image/_Image_13R_1_6.png  \n",
            "  inflating: chase_db_320_320_dice_bce_0_4__hvr_0_4_1/split_2/train/image/_Image_09L_0_1.png  \n",
            "  inflating: chase_db_320_320_dice_bce_0_4__hvr_0_4_1/split_2/train/image/_Image_03L_2_6.png  \n",
            "  inflating: chase_db_320_320_dice_bce_0_4__hvr_0_4_1/split_2/train/image/_Image_08R_3_4.png  \n",
            "  inflating: chase_db_320_320_dice_bce_0_4__hvr_0_4_1/split_2/train/image/_Image_04L_3_10.png  \n",
            "  inflating: chase_db_320_320_dice_bce_0_4__hvr_0_4_1/split_2/train/image/_Image_04R_0_0.png  \n",
            "  inflating: chase_db_320_320_dice_bce_0_4__hvr_0_4_1/split_2/train/image/_Image_08R_3_11.png  \n",
            "  inflating: chase_db_320_320_dice_bce_0_4__hvr_0_4_1/split_2/train/image/_Image_07R_1_0.png  \n",
            "  inflating: chase_db_320_320_dice_bce_0_4__hvr_0_4_1/split_2/train/image/_Image_02L_2_10.png  \n",
            "  inflating: chase_db_320_320_dice_bce_0_4__hvr_0_4_1/split_2/train/image/_Image_01R_0_5.png  \n",
            "  inflating: chase_db_320_320_dice_bce_0_4__hvr_0_4_1/split_2/train/image/_Image_05R_0_11.png  \n",
            "  inflating: chase_db_320_320_dice_bce_0_4__hvr_0_4_1/split_2/train/image/_Image_08L_1_4.png  \n",
            "  inflating: chase_db_320_320_dice_bce_0_4__hvr_0_4_1/split_2/train/image/_Image_06R_2_9.png  \n",
            "  inflating: chase_db_320_320_dice_bce_0_4__hvr_0_4_1/split_2/train/image/_Image_07L_2_1.png  \n",
            "  inflating: chase_db_320_320_dice_bce_0_4__hvr_0_4_1/split_2/train/image/_Image_14L_2_8.png  \n",
            "  inflating: chase_db_320_320_dice_bce_0_4__hvr_0_4_1/split_2/train/image/_Image_05L_1_10.png  \n",
            "  inflating: chase_db_320_320_dice_bce_0_4__hvr_0_4_1/split_2/train/image/_Image_03L_0_8.png  \n",
            "  inflating: chase_db_320_320_dice_bce_0_4__hvr_0_4_1/split_2/train/image/_Image_04R_2_11.png  \n",
            "  inflating: chase_db_320_320_dice_bce_0_4__hvr_0_4_1/split_2/train/image/_Image_02L_1_4.png  \n",
            "  inflating: chase_db_320_320_dice_bce_0_4__hvr_0_4_1/split_2/train/image/_Image_10R_0_0.png  \n",
            "  inflating: chase_db_320_320_dice_bce_0_4__hvr_0_4_1/split_2/train/image/_Image_06R_3_4.png  \n",
            "  inflating: chase_db_320_320_dice_bce_0_4__hvr_0_4_1/split_2/train/image/_Image_09R_0_8.png  \n",
            "  inflating: chase_db_320_320_dice_bce_0_4__hvr_0_4_1/split_2/train/image/_Image_09R_3_8.png  \n",
            "  inflating: chase_db_320_320_dice_bce_0_4__hvr_0_4_1/split_2/train/image/_Image_08L_2_1.png  \n",
            "  inflating: chase_db_320_320_dice_bce_0_4__hvr_0_4_1/split_2/train/image/_Image_09R_0_11.png  \n",
            "  inflating: chase_db_320_320_dice_bce_0_4__hvr_0_4_1/split_2/train/image/_Image_14R_3_11.png  \n",
            "  inflating: chase_db_320_320_dice_bce_0_4__hvr_0_4_1/split_2/train/image/_Image_14R_3_6.png  \n",
            "  inflating: chase_db_320_320_dice_bce_0_4__hvr_0_4_1/split_2/train/image/_Image_08R_2_7.png  \n",
            "  inflating: chase_db_320_320_dice_bce_0_4__hvr_0_4_1/split_2/train/image/_Image_08L_3_5.png  \n",
            "  inflating: chase_db_320_320_dice_bce_0_4__hvr_0_4_1/split_2/train/image/_Image_06L_0_9.png  \n",
            "  inflating: chase_db_320_320_dice_bce_0_4__hvr_0_4_1/split_2/train/image/_Image_10L_0_9.png  \n",
            "  inflating: chase_db_320_320_dice_bce_0_4__hvr_0_4_1/split_2/train/image/_Image_08L_1_0.png  \n",
            "  inflating: chase_db_320_320_dice_bce_0_4__hvr_0_4_1/split_2/train/image/_Image_03R_0_10.png  \n",
            "  inflating: chase_db_320_320_dice_bce_0_4__hvr_0_4_1/split_2/train/image/_Image_07L_2_3.png  \n",
            "  inflating: chase_db_320_320_dice_bce_0_4__hvr_0_4_1/split_2/train/image/_Image_08L_1_8.png  \n",
            "  inflating: chase_db_320_320_dice_bce_0_4__hvr_0_4_1/split_2/train/image/_Image_04L_2_2.png  \n",
            "  inflating: chase_db_320_320_dice_bce_0_4__hvr_0_4_1/split_2/train/image/_Image_06L_0_11.png  \n",
            "  inflating: chase_db_320_320_dice_bce_0_4__hvr_0_4_1/split_2/train/image/_Image_04R_1_11.png  \n",
            "  inflating: chase_db_320_320_dice_bce_0_4__hvr_0_4_1/split_2/train/image/_Image_14R_1_6.png  \n",
            "  inflating: chase_db_320_320_dice_bce_0_4__hvr_0_4_1/split_2/train/image/_Image_03R_2_3.png  \n",
            "  inflating: chase_db_320_320_dice_bce_0_4__hvr_0_4_1/split_2/train/image/_Image_09L_1_11.png  \n",
            "  inflating: chase_db_320_320_dice_bce_0_4__hvr_0_4_1/split_2/train/image/_Image_06L_2_1.png  \n",
            "  inflating: chase_db_320_320_dice_bce_0_4__hvr_0_4_1/split_2/train/image/_Image_02L_0_10.png  \n",
            "  inflating: chase_db_320_320_dice_bce_0_4__hvr_0_4_1/split_2/train/image/_Image_13R_2_11.png  \n",
            "  inflating: chase_db_320_320_dice_bce_0_4__hvr_0_4_1/split_2/train/image/_Image_08L_3_9.png  \n",
            "  inflating: chase_db_320_320_dice_bce_0_4__hvr_0_4_1/split_2/train/image/_Image_09R_1_11.png  \n",
            "  inflating: chase_db_320_320_dice_bce_0_4__hvr_0_4_1/split_2/train/image/_Image_03R_3_5.png  \n",
            "  inflating: chase_db_320_320_dice_bce_0_4__hvr_0_4_1/split_2/train/image/_Image_02R_0_9.png  \n",
            "  inflating: chase_db_320_320_dice_bce_0_4__hvr_0_4_1/split_2/train/image/_Image_14L_1_2.png  \n",
            "  inflating: chase_db_320_320_dice_bce_0_4__hvr_0_4_1/split_2/train/image/_Image_05R_3_8.png  \n",
            "  inflating: chase_db_320_320_dice_bce_0_4__hvr_0_4_1/split_2/train/image/_Image_06R_3_5.png  \n",
            "  inflating: chase_db_320_320_dice_bce_0_4__hvr_0_4_1/split_2/train/image/_Image_04L_0_2.png  \n",
            "  inflating: chase_db_320_320_dice_bce_0_4__hvr_0_4_1/split_2/train/image/_Image_02R_2_6.png  \n",
            "  inflating: chase_db_320_320_dice_bce_0_4__hvr_0_4_1/split_2/train/image/_Image_10R_1_1.png  \n",
            "  inflating: chase_db_320_320_dice_bce_0_4__hvr_0_4_1/split_2/train/image/_Image_02R_1_11.png  \n",
            "  inflating: chase_db_320_320_dice_bce_0_4__hvr_0_4_1/split_2/train/image/_Image_03R_2_0.png  \n",
            "  inflating: chase_db_320_320_dice_bce_0_4__hvr_0_4_1/split_2/train/image/_Image_02R_0_7.png  \n",
            "  inflating: chase_db_320_320_dice_bce_0_4__hvr_0_4_1/split_2/train/image/_Image_14R_1_5.png  \n",
            "  inflating: chase_db_320_320_dice_bce_0_4__hvr_0_4_1/split_2/train/image/_Image_03R_3_1.png  \n",
            "  inflating: chase_db_320_320_dice_bce_0_4__hvr_0_4_1/split_2/train/image/_Image_09L_3_9.png  \n",
            "  inflating: chase_db_320_320_dice_bce_0_4__hvr_0_4_1/split_2/train/image/_Image_04L_0_8.png  \n",
            "  inflating: chase_db_320_320_dice_bce_0_4__hvr_0_4_1/split_2/train/image/_Image_04R_0_2.png  \n",
            "  inflating: chase_db_320_320_dice_bce_0_4__hvr_0_4_1/split_2/train/image/_Image_05R_0_6.png  \n",
            "  inflating: chase_db_320_320_dice_bce_0_4__hvr_0_4_1/split_2/train/image/_Image_09R_3_7.png  \n",
            "  inflating: chase_db_320_320_dice_bce_0_4__hvr_0_4_1/split_2/train/image/_Image_01R_2_11.png  \n",
            "  inflating: chase_db_320_320_dice_bce_0_4__hvr_0_4_1/split_2/train/image/_Image_08L_1_3.png  \n",
            "  inflating: chase_db_320_320_dice_bce_0_4__hvr_0_4_1/split_2/train/image/_Image_03L_0_4.png  \n",
            "  inflating: chase_db_320_320_dice_bce_0_4__hvr_0_4_1/split_2/train/image/_Image_07R_1_11.png  \n",
            "  inflating: chase_db_320_320_dice_bce_0_4__hvr_0_4_1/split_2/train/image/_Image_09L_2_2.png  \n",
            "  inflating: chase_db_320_320_dice_bce_0_4__hvr_0_4_1/split_2/train/image/_Image_06R_1_1.png  \n",
            "  inflating: chase_db_320_320_dice_bce_0_4__hvr_0_4_1/split_2/train/image/_Image_01R_1_6.png  \n",
            "  inflating: chase_db_320_320_dice_bce_0_4__hvr_0_4_1/split_2/train/image/_Image_08R_0_4.png  \n",
            "  inflating: chase_db_320_320_dice_bce_0_4__hvr_0_4_1/split_2/train/image/_Image_07L_2_9.png  \n",
            "  inflating: chase_db_320_320_dice_bce_0_4__hvr_0_4_1/split_2/train/image/_Image_10L_3_6.png  \n",
            "  inflating: chase_db_320_320_dice_bce_0_4__hvr_0_4_1/split_2/train/image/_Image_03R_3_8.png  \n",
            "  inflating: chase_db_320_320_dice_bce_0_4__hvr_0_4_1/split_2/train/image/_Image_03L_3_1.png  \n",
            "  inflating: chase_db_320_320_dice_bce_0_4__hvr_0_4_1/split_2/train/image/_Image_01R_3_2.png  \n",
            "  inflating: chase_db_320_320_dice_bce_0_4__hvr_0_4_1/split_2/train/image/_Image_04R_3_0.png  \n",
            "  inflating: chase_db_320_320_dice_bce_0_4__hvr_0_4_1/split_2/train/image/_Image_13R_2_0.png  \n",
            "  inflating: chase_db_320_320_dice_bce_0_4__hvr_0_4_1/split_2/train/image/_Image_03L_0_9.png  \n",
            "  inflating: chase_db_320_320_dice_bce_0_4__hvr_0_4_1/split_2/train/image/_Image_04R_0_8.png  \n",
            "  inflating: chase_db_320_320_dice_bce_0_4__hvr_0_4_1/split_2/train/image/_Image_14L_0_2.png  \n",
            "  inflating: chase_db_320_320_dice_bce_0_4__hvr_0_4_1/split_2/train/image/_Image_02R_3_6.png  \n",
            "  inflating: chase_db_320_320_dice_bce_0_4__hvr_0_4_1/split_2/train/image/_Image_01L_1_7.png  \n",
            "  inflating: chase_db_320_320_dice_bce_0_4__hvr_0_4_1/split_2/train/image/_Image_06L_3_4.png  \n",
            "  inflating: chase_db_320_320_dice_bce_0_4__hvr_0_4_1/split_2/train/image/_Image_10R_0_5.png  \n",
            "  inflating: chase_db_320_320_dice_bce_0_4__hvr_0_4_1/split_2/train/image/_Image_01L_0_6.png  \n",
            "  inflating: chase_db_320_320_dice_bce_0_4__hvr_0_4_1/split_2/train/image/_Image_13R_3_6.png  \n",
            "  inflating: chase_db_320_320_dice_bce_0_4__hvr_0_4_1/split_2/train/image/_Image_10L_0_3.png  \n",
            "  inflating: chase_db_320_320_dice_bce_0_4__hvr_0_4_1/split_2/train/image/_Image_10R_2_10.png  \n",
            "  inflating: chase_db_320_320_dice_bce_0_4__hvr_0_4_1/split_2/train/image/_Image_09R_0_3.png  \n",
            "  inflating: chase_db_320_320_dice_bce_0_4__hvr_0_4_1/split_2/train/image/_Image_10R_1_8.png  \n",
            "  inflating: chase_db_320_320_dice_bce_0_4__hvr_0_4_1/split_2/train/image/_Image_10R_2_0.png  \n",
            "  inflating: chase_db_320_320_dice_bce_0_4__hvr_0_4_1/split_2/train/image/_Image_08R_2_10.png  \n",
            "  inflating: chase_db_320_320_dice_bce_0_4__hvr_0_4_1/split_2/train/image/_Image_08R_1_6.png  \n",
            "  inflating: chase_db_320_320_dice_bce_0_4__hvr_0_4_1/split_2/train/image/_Image_02L_3_8.png  \n",
            "  inflating: chase_db_320_320_dice_bce_0_4__hvr_0_4_1/split_2/train/image/_Image_08L_2_10.png  \n",
            "  inflating: chase_db_320_320_dice_bce_0_4__hvr_0_4_1/split_2/train/image/_Image_02L_1_10.png  \n",
            "  inflating: chase_db_320_320_dice_bce_0_4__hvr_0_4_1/split_2/train/image/_Image_08R_0_9.png  \n",
            "  inflating: chase_db_320_320_dice_bce_0_4__hvr_0_4_1/split_2/train/image/_Image_06R_1_11.png  \n",
            "  inflating: chase_db_320_320_dice_bce_0_4__hvr_0_4_1/split_2/train/image/_Image_02R_3_2.png  \n",
            "  inflating: chase_db_320_320_dice_bce_0_4__hvr_0_4_1/split_2/train/image/_Image_14R_0_7.png  \n",
            "  inflating: chase_db_320_320_dice_bce_0_4__hvr_0_4_1/split_2/train/image/_Image_04R_3_5.png  \n",
            "  inflating: chase_db_320_320_dice_bce_0_4__hvr_0_4_1/split_2/train/image/_Image_14R_0_6.png  \n",
            "  inflating: chase_db_320_320_dice_bce_0_4__hvr_0_4_1/split_2/train/image/_Image_04L_2_11.png  \n",
            "  inflating: chase_db_320_320_dice_bce_0_4__hvr_0_4_1/split_2/train/image/_Image_09L_0_7.png  \n",
            "  inflating: chase_db_320_320_dice_bce_0_4__hvr_0_4_1/split_2/train/image/_Image_05R_1_9.png  \n",
            "  inflating: chase_db_320_320_dice_bce_0_4__hvr_0_4_1/split_2/train/image/_Image_02L_3_10.png  \n",
            "  inflating: chase_db_320_320_dice_bce_0_4__hvr_0_4_1/split_2/train/image/_Image_10L_3_9.png  \n",
            "  inflating: chase_db_320_320_dice_bce_0_4__hvr_0_4_1/split_2/train/image/_Image_06L_1_6.png  \n",
            "  inflating: chase_db_320_320_dice_bce_0_4__hvr_0_4_1/split_2/train/image/_Image_13R_1_8.png  \n",
            "  inflating: chase_db_320_320_dice_bce_0_4__hvr_0_4_1/split_2/train/image/_Image_09L_3_3.png  \n",
            "  inflating: chase_db_320_320_dice_bce_0_4__hvr_0_4_1/split_2/train/image/_Image_13R_0_0.png  \n",
            "  inflating: chase_db_320_320_dice_bce_0_4__hvr_0_4_1/split_2/train/image/_Image_05L_3_0.png  \n",
            "  inflating: chase_db_320_320_dice_bce_0_4__hvr_0_4_1/split_2/train/image/_Image_09R_3_6.png  \n",
            "  inflating: chase_db_320_320_dice_bce_0_4__hvr_0_4_1/split_2/train/image/_Image_05L_1_2.png  \n",
            "  inflating: chase_db_320_320_dice_bce_0_4__hvr_0_4_1/split_2/train/image/_Image_01L_3_1.png  \n",
            "  inflating: chase_db_320_320_dice_bce_0_4__hvr_0_4_1/split_2/train/image/_Image_06R_1_0.png  \n",
            "  inflating: chase_db_320_320_dice_bce_0_4__hvr_0_4_1/split_2/train/image/_Image_09L_0_0.png  \n",
            "  inflating: chase_db_320_320_dice_bce_0_4__hvr_0_4_1/split_2/train/image/_Image_05L_0_0.png  \n",
            "  inflating: chase_db_320_320_dice_bce_0_4__hvr_0_4_1/split_2/train/image/_Image_06R_2_2.png  \n",
            "  inflating: chase_db_320_320_dice_bce_0_4__hvr_0_4_1/split_2/train/image/_Image_14R_3_2.png  \n",
            "  inflating: chase_db_320_320_dice_bce_0_4__hvr_0_4_1/split_2/train/image/_Image_05R_2_8.png  \n",
            "  inflating: chase_db_320_320_dice_bce_0_4__hvr_0_4_1/split_2/train/image/_Image_10L_2_2.png  \n",
            "  inflating: chase_db_320_320_dice_bce_0_4__hvr_0_4_1/split_2/train/image/_Image_02R_1_8.png  \n",
            "  inflating: chase_db_320_320_dice_bce_0_4__hvr_0_4_1/split_2/train/image/_Image_01R_3_3.png  \n",
            "  inflating: chase_db_320_320_dice_bce_0_4__hvr_0_4_1/split_2/train/image/_Image_06R_3_6.png  \n",
            "  inflating: chase_db_320_320_dice_bce_0_4__hvr_0_4_1/split_2/train/image/_Image_13R_3_0.png  \n",
            "  inflating: chase_db_320_320_dice_bce_0_4__hvr_0_4_1/split_2/train/image/_Image_01L_0_5.png  \n",
            "  inflating: chase_db_320_320_dice_bce_0_4__hvr_0_4_1/split_2/train/image/_Image_09L_1_0.png  \n",
            "  inflating: chase_db_320_320_dice_bce_0_4__hvr_0_4_1/split_2/train/image/_Image_04R_3_9.png  \n",
            "  inflating: chase_db_320_320_dice_bce_0_4__hvr_0_4_1/split_2/train/image/_Image_09R_1_1.png  \n",
            "  inflating: chase_db_320_320_dice_bce_0_4__hvr_0_4_1/split_2/train/image/_Image_10L_0_2.png  \n",
            "  inflating: chase_db_320_320_dice_bce_0_4__hvr_0_4_1/split_2/train/image/_Image_02R_0_0.png  \n",
            "  inflating: chase_db_320_320_dice_bce_0_4__hvr_0_4_1/split_2/train/image/_Image_07L_1_9.png  \n",
            "  inflating: chase_db_320_320_dice_bce_0_4__hvr_0_4_1/split_2/train/image/_Image_02L_3_6.png  \n",
            "  inflating: chase_db_320_320_dice_bce_0_4__hvr_0_4_1/split_2/train/image/_Image_13R_0_2.png  \n",
            "  inflating: chase_db_320_320_dice_bce_0_4__hvr_0_4_1/split_2/train/image/_Image_10R_2_7.png  \n",
            "  inflating: chase_db_320_320_dice_bce_0_4__hvr_0_4_1/split_2/train/image/_Image_14L_1_6.png  \n",
            "  inflating: chase_db_320_320_dice_bce_0_4__hvr_0_4_1/split_2/train/image/_Image_05L_0_5.png  \n",
            "  inflating: chase_db_320_320_dice_bce_0_4__hvr_0_4_1/split_2/train/image/_Image_08R_0_0.png  \n",
            "  inflating: chase_db_320_320_dice_bce_0_4__hvr_0_4_1/split_2/train/image/_Image_10R_2_5.png  \n",
            "  inflating: chase_db_320_320_dice_bce_0_4__hvr_0_4_1/split_2/train/image/_Image_01R_3_1.png  \n",
            "  inflating: chase_db_320_320_dice_bce_0_4__hvr_0_4_1/split_2/train/image/_Image_01L_0_8.png  \n",
            "  inflating: chase_db_320_320_dice_bce_0_4__hvr_0_4_1/split_2/train/image/_Image_08L_0_1.png  \n",
            "  inflating: chase_db_320_320_dice_bce_0_4__hvr_0_4_1/split_2/train/image/_Image_04L_1_3.png  \n",
            "  inflating: chase_db_320_320_dice_bce_0_4__hvr_0_4_1/split_2/train/image/_Image_02L_1_2.png  \n",
            "  inflating: chase_db_320_320_dice_bce_0_4__hvr_0_4_1/split_2/train/image/_Image_01R_1_7.png  \n",
            "  inflating: chase_db_320_320_dice_bce_0_4__hvr_0_4_1/split_2/train/image/_Image_14R_0_0.png  \n",
            "  inflating: chase_db_320_320_dice_bce_0_4__hvr_0_4_1/split_2/train/image/_Image_05L_2_5.png  \n",
            "  inflating: chase_db_320_320_dice_bce_0_4__hvr_0_4_1/split_2/train/image/_Image_08R_0_11.png  \n",
            "  inflating: chase_db_320_320_dice_bce_0_4__hvr_0_4_1/split_2/train/image/_Image_03L_1_10.png  \n",
            "  inflating: chase_db_320_320_dice_bce_0_4__hvr_0_4_1/split_2/train/image/_Image_10R_2_4.png  \n",
            "  inflating: chase_db_320_320_dice_bce_0_4__hvr_0_4_1/split_2/train/image/_Image_14L_0_4.png  \n",
            "  inflating: chase_db_320_320_dice_bce_0_4__hvr_0_4_1/split_2/train/image/_Image_10R_2_2.png  \n",
            "  inflating: chase_db_320_320_dice_bce_0_4__hvr_0_4_1/split_2/train/image/_Image_04L_0_9.png  \n",
            "  inflating: chase_db_320_320_dice_bce_0_4__hvr_0_4_1/split_2/train/image/_Image_14R_2_8.png  \n",
            "  inflating: chase_db_320_320_dice_bce_0_4__hvr_0_4_1/split_2/train/image/_Image_06L_2_6.png  \n",
            "  inflating: chase_db_320_320_dice_bce_0_4__hvr_0_4_1/split_2/train/image/_Image_06L_1_5.png  \n",
            "  inflating: chase_db_320_320_dice_bce_0_4__hvr_0_4_1/split_2/train/image/_Image_03L_1_11.png  \n",
            "  inflating: chase_db_320_320_dice_bce_0_4__hvr_0_4_1/split_2/train/image/_Image_07L_1_0.png  \n",
            "  inflating: chase_db_320_320_dice_bce_0_4__hvr_0_4_1/split_2/train/image/_Image_03R_2_8.png  \n",
            "  inflating: chase_db_320_320_dice_bce_0_4__hvr_0_4_1/split_2/train/image/_Image_01R_1_5.png  \n",
            "  inflating: chase_db_320_320_dice_bce_0_4__hvr_0_4_1/split_2/train/image/_Image_01L_1_4.png  \n",
            "  inflating: chase_db_320_320_dice_bce_0_4__hvr_0_4_1/split_2/train/image/_Image_04R_2_5.png  \n",
            "  inflating: chase_db_320_320_dice_bce_0_4__hvr_0_4_1/split_2/train/image/_Image_04L_0_3.png  \n",
            "  inflating: chase_db_320_320_dice_bce_0_4__hvr_0_4_1/split_2/train/image/_Image_08L_2_8.png  \n",
            "  inflating: chase_db_320_320_dice_bce_0_4__hvr_0_4_1/split_2/train/image/_Image_06R_2_6.png  \n",
            "  inflating: chase_db_320_320_dice_bce_0_4__hvr_0_4_1/split_2/train/image/_Image_14L_3_0.png  \n",
            "  inflating: chase_db_320_320_dice_bce_0_4__hvr_0_4_1/split_2/train/image/_Image_04R_3_4.png  \n",
            "  inflating: chase_db_320_320_dice_bce_0_4__hvr_0_4_1/split_2/train/image/_Image_14R_3_3.png  \n",
            "  inflating: chase_db_320_320_dice_bce_0_4__hvr_0_4_1/split_2/train/image/_Image_09R_0_4.png  \n",
            "  inflating: chase_db_320_320_dice_bce_0_4__hvr_0_4_1/split_2/train/image/_Image_10R_0_1.png  \n",
            "  inflating: chase_db_320_320_dice_bce_0_4__hvr_0_4_1/split_2/train/image/_Image_06L_1_2.png  \n",
            "  inflating: chase_db_320_320_dice_bce_0_4__hvr_0_4_1/split_2/train/image/_Image_10R_0_7.png  \n",
            "  inflating: chase_db_320_320_dice_bce_0_4__hvr_0_4_1/split_2/train/image/_Image_09R_1_0.png  \n",
            "  inflating: chase_db_320_320_dice_bce_0_4__hvr_0_4_1/split_2/train/image/_Image_05R_2_11.png  \n",
            "  inflating: chase_db_320_320_dice_bce_0_4__hvr_0_4_1/split_2/train/image/_Image_04L_3_1.png  \n",
            "  inflating: chase_db_320_320_dice_bce_0_4__hvr_0_4_1/split_2/train/image/_Image_10L_1_6.png  \n",
            "  inflating: chase_db_320_320_dice_bce_0_4__hvr_0_4_1/split_2/train/image/_Image_13R_0_8.png  \n",
            "  inflating: chase_db_320_320_dice_bce_0_4__hvr_0_4_1/split_2/train/image/_Image_14L_3_1.png  \n",
            "  inflating: chase_db_320_320_dice_bce_0_4__hvr_0_4_1/split_2/train/image/_Image_09R_3_0.png  \n",
            "  inflating: chase_db_320_320_dice_bce_0_4__hvr_0_4_1/split_2/train/image/_Image_05L_3_9.png  \n",
            "  inflating: chase_db_320_320_dice_bce_0_4__hvr_0_4_1/split_2/train/image/_Image_01L_2_7.png  \n",
            "  inflating: chase_db_320_320_dice_bce_0_4__hvr_0_4_1/split_2/train/image/_Image_06R_1_8.png  \n",
            "  inflating: chase_db_320_320_dice_bce_0_4__hvr_0_4_1/split_2/train/image/_Image_07L_3_2.png  \n",
            "  inflating: chase_db_320_320_dice_bce_0_4__hvr_0_4_1/split_2/train/image/_Image_08L_1_7.png  \n",
            "  inflating: chase_db_320_320_dice_bce_0_4__hvr_0_4_1/split_2/train/image/_Image_09R_1_7.png  \n",
            "  inflating: chase_db_320_320_dice_bce_0_4__hvr_0_4_1/split_2/train/image/_Image_09R_0_9.png  \n",
            "  inflating: chase_db_320_320_dice_bce_0_4__hvr_0_4_1/split_2/train/image/_Image_05R_0_2.png  \n",
            "  inflating: chase_db_320_320_dice_bce_0_4__hvr_0_4_1/split_2/train/image/_Image_01L_1_3.png  \n",
            "  inflating: chase_db_320_320_dice_bce_0_4__hvr_0_4_1/split_2/train/image/_Image_10L_2_0.png  \n",
            "  inflating: chase_db_320_320_dice_bce_0_4__hvr_0_4_1/split_2/train/image/_Image_08L_0_8.png  \n",
            "  inflating: chase_db_320_320_dice_bce_0_4__hvr_0_4_1/split_2/train/image/_Image_14R_3_8.png  \n",
            "  inflating: chase_db_320_320_dice_bce_0_4__hvr_0_4_1/split_2/train/image/_Image_03R_0_3.png  \n",
            "  inflating: chase_db_320_320_dice_bce_0_4__hvr_0_4_1/split_2/train/image/_Image_02L_1_7.png  \n",
            "  inflating: chase_db_320_320_dice_bce_0_4__hvr_0_4_1/split_2/train/image/_Image_03L_1_0.png  \n",
            "  inflating: chase_db_320_320_dice_bce_0_4__hvr_0_4_1/split_2/train/image/_Image_08R_0_10.png  \n",
            "  inflating: chase_db_320_320_dice_bce_0_4__hvr_0_4_1/split_2/train/image/_Image_02L_3_1.png  \n",
            "  inflating: chase_db_320_320_dice_bce_0_4__hvr_0_4_1/split_2/train/image/_Image_10L_3_2.png  \n",
            "  inflating: chase_db_320_320_dice_bce_0_4__hvr_0_4_1/split_2/train/image/_Image_09R_3_2.png  \n",
            "  inflating: chase_db_320_320_dice_bce_0_4__hvr_0_4_1/split_2/train/image/_Image_07R_2_0.png  \n",
            "  inflating: chase_db_320_320_dice_bce_0_4__hvr_0_4_1/split_2/train/image/_Image_14R_1_4.png  \n",
            "  inflating: chase_db_320_320_dice_bce_0_4__hvr_0_4_1/split_2/train/image/_Image_02R_3_3.png  \n",
            "  inflating: chase_db_320_320_dice_bce_0_4__hvr_0_4_1/split_2/train/image/_Image_02L_2_6.png  \n",
            "  inflating: chase_db_320_320_dice_bce_0_4__hvr_0_4_1/split_2/train/image/_Image_05R_3_4.png  \n",
            "  inflating: chase_db_320_320_dice_bce_0_4__hvr_0_4_1/split_2/train/image/_Image_05L_2_8.png  \n",
            "  inflating: chase_db_320_320_dice_bce_0_4__hvr_0_4_1/split_2/train/image/_Image_01L_0_7.png  \n",
            "  inflating: chase_db_320_320_dice_bce_0_4__hvr_0_4_1/split_2/train/image/_Image_07R_1_9.png  \n",
            "  inflating: chase_db_320_320_dice_bce_0_4__hvr_0_4_1/split_2/train/image/_Image_08R_2_11.png  \n",
            "  inflating: chase_db_320_320_dice_bce_0_4__hvr_0_4_1/split_2/train/image/_Image_06L_2_2.png  \n",
            "  inflating: chase_db_320_320_dice_bce_0_4__hvr_0_4_1/split_2/train/image/_Image_09L_2_3.png  \n",
            "  inflating: chase_db_320_320_dice_bce_0_4__hvr_0_4_1/split_2/train/image/_Image_03R_2_10.png  \n",
            "  inflating: chase_db_320_320_dice_bce_0_4__hvr_0_4_1/split_2/train/image/_Image_04R_3_6.png  \n",
            "  inflating: chase_db_320_320_dice_bce_0_4__hvr_0_4_1/split_2/train/image/_Image_14L_2_5.png  \n",
            "  inflating: chase_db_320_320_dice_bce_0_4__hvr_0_4_1/split_2/train/image/_Image_09R_3_3.png  \n",
            "  inflating: chase_db_320_320_dice_bce_0_4__hvr_0_4_1/split_2/train/image/_Image_06L_1_11.png  \n",
            "  inflating: chase_db_320_320_dice_bce_0_4__hvr_0_4_1/split_2/train/image/_Image_01L_3_9.png  \n",
            "  inflating: chase_db_320_320_dice_bce_0_4__hvr_0_4_1/split_2/train/image/_Image_07L_3_1.png  \n",
            "  inflating: chase_db_320_320_dice_bce_0_4__hvr_0_4_1/split_2/train/image/_Image_08L_3_3.png  \n",
            "  inflating: chase_db_320_320_dice_bce_0_4__hvr_0_4_1/split_2/train/image/_Image_08R_0_8.png  \n",
            "  inflating: chase_db_320_320_dice_bce_0_4__hvr_0_4_1/split_2/train/image/_Image_08L_3_1.png  \n",
            "  inflating: chase_db_320_320_dice_bce_0_4__hvr_0_4_1/split_2/train/image/_Image_10L_1_1.png  \n",
            "  inflating: chase_db_320_320_dice_bce_0_4__hvr_0_4_1/split_2/train/image/_Image_05L_3_11.png  \n",
            "  inflating: chase_db_320_320_dice_bce_0_4__hvr_0_4_1/split_2/train/image/_Image_09R_3_10.png  \n",
            "  inflating: chase_db_320_320_dice_bce_0_4__hvr_0_4_1/split_2/train/image/_Image_06R_0_3.png  \n",
            "  inflating: chase_db_320_320_dice_bce_0_4__hvr_0_4_1/split_2/train/image/_Image_14L_2_6.png  \n",
            "  inflating: chase_db_320_320_dice_bce_0_4__hvr_0_4_1/split_2/train/image/_Image_01R_2_4.png  \n",
            "  inflating: chase_db_320_320_dice_bce_0_4__hvr_0_4_1/split_2/train/image/_Image_04L_1_0.png  \n",
            "  inflating: chase_db_320_320_dice_bce_0_4__hvr_0_4_1/split_2/train/image/_Image_08R_1_4.png  \n",
            "  inflating: chase_db_320_320_dice_bce_0_4__hvr_0_4_1/split_2/train/image/_Image_10L_0_4.png  \n",
            "  inflating: chase_db_320_320_dice_bce_0_4__hvr_0_4_1/split_2/train/image/_Image_13R_0_5.png  \n",
            "  inflating: chase_db_320_320_dice_bce_0_4__hvr_0_4_1/split_2/train/image/_Image_08R_2_3.png  \n",
            "  inflating: chase_db_320_320_dice_bce_0_4__hvr_0_4_1/split_2/train/image/_Image_10R_3_8.png  \n",
            "  inflating: chase_db_320_320_dice_bce_0_4__hvr_0_4_1/split_2/train/image/_Image_01L_2_6.png  \n",
            "  inflating: chase_db_320_320_dice_bce_0_4__hvr_0_4_1/split_2/train/image/_Image_04L_1_8.png  \n",
            "  inflating: chase_db_320_320_dice_bce_0_4__hvr_0_4_1/split_2/train/image/_Image_03R_2_11.png  \n",
            "  inflating: chase_db_320_320_dice_bce_0_4__hvr_0_4_1/split_2/train/image/_Image_09L_2_11.png  \n",
            "  inflating: chase_db_320_320_dice_bce_0_4__hvr_0_4_1/split_2/train/image/_Image_08R_2_8.png  \n",
            "  inflating: chase_db_320_320_dice_bce_0_4__hvr_0_4_1/split_2/train/image/_Image_01L_0_4.png  \n",
            "  inflating: chase_db_320_320_dice_bce_0_4__hvr_0_4_1/split_2/train/image/_Image_07R_1_5.png  \n",
            "  inflating: chase_db_320_320_dice_bce_0_4__hvr_0_4_1/split_2/train/image/_Image_07R_1_7.png  \n",
            "  inflating: chase_db_320_320_dice_bce_0_4__hvr_0_4_1/split_2/train/image/_Image_07L_0_10.png  \n",
            "  inflating: chase_db_320_320_dice_bce_0_4__hvr_0_4_1/split_2/train/image/_Image_06L_2_7.png  \n",
            "  inflating: chase_db_320_320_dice_bce_0_4__hvr_0_4_1/split_2/train/image/_Image_14L_3_5.png  \n",
            "  inflating: chase_db_320_320_dice_bce_0_4__hvr_0_4_1/split_2/train/image/_Image_01R_1_2.png  \n",
            "  inflating: chase_db_320_320_dice_bce_0_4__hvr_0_4_1/split_2/train/image/_Image_08L_3_11.png  \n",
            "  inflating: chase_db_320_320_dice_bce_0_4__hvr_0_4_1/split_2/train/image/_Image_05L_3_4.png  \n",
            "  inflating: chase_db_320_320_dice_bce_0_4__hvr_0_4_1/split_2/train/image/_Image_07L_1_6.png  \n",
            "  inflating: chase_db_320_320_dice_bce_0_4__hvr_0_4_1/split_2/train/image/_Image_14R_2_1.png  \n",
            "  inflating: chase_db_320_320_dice_bce_0_4__hvr_0_4_1/split_2/train/image/_Image_01L_2_2.png  \n",
            "  inflating: chase_db_320_320_dice_bce_0_4__hvr_0_4_1/split_2/train/image/_Image_01R_1_4.png  \n",
            "  inflating: chase_db_320_320_dice_bce_0_4__hvr_0_4_1/split_2/train/image/_Image_07L_3_11.png  \n",
            "  inflating: chase_db_320_320_dice_bce_0_4__hvr_0_4_1/split_2/train/image/_Image_07L_0_3.png  \n",
            "  inflating: chase_db_320_320_dice_bce_0_4__hvr_0_4_1/split_2/train/image/_Image_05R_1_4.png  \n",
            "  inflating: chase_db_320_320_dice_bce_0_4__hvr_0_4_1/split_2/train/image/_Image_08R_3_7.png  \n",
            "  inflating: chase_db_320_320_dice_bce_0_4__hvr_0_4_1/split_2/train/image/_Image_03L_2_7.png  \n",
            "  inflating: chase_db_320_320_dice_bce_0_4__hvr_0_4_1/split_2/train/image/_Image_06L_1_4.png  \n",
            "  inflating: chase_db_320_320_dice_bce_0_4__hvr_0_4_1/split_2/train/image/_Image_09L_3_6.png  \n",
            "  inflating: chase_db_320_320_dice_bce_0_4__hvr_0_4_1/split_2/train/image/_Image_09L_2_6.png  \n",
            "  inflating: chase_db_320_320_dice_bce_0_4__hvr_0_4_1/split_2/train/image/_Image_07R_3_6.png  \n",
            "  inflating: chase_db_320_320_dice_bce_0_4__hvr_0_4_1/split_2/train/image/_Image_06R_0_4.png  \n",
            "  inflating: chase_db_320_320_dice_bce_0_4__hvr_0_4_1/split_2/train/image/_Image_02R_2_3.png  \n",
            "  inflating: chase_db_320_320_dice_bce_0_4__hvr_0_4_1/split_2/train/image/_Image_04L_2_9.png  \n",
            "  inflating: chase_db_320_320_dice_bce_0_4__hvr_0_4_1/split_2/train/image/_Image_05L_0_1.png  \n",
            "  inflating: chase_db_320_320_dice_bce_0_4__hvr_0_4_1/split_2/train/image/_Image_13R_2_3.png  \n",
            "  inflating: chase_db_320_320_dice_bce_0_4__hvr_0_4_1/split_2/train/image/_Image_07L_0_9.png  \n",
            "  inflating: chase_db_320_320_dice_bce_0_4__hvr_0_4_1/split_2/train/image/_Image_03R_1_2.png  \n",
            "  inflating: chase_db_320_320_dice_bce_0_4__hvr_0_4_1/split_2/train/image/_Image_14L_1_5.png  \n",
            "  inflating: chase_db_320_320_dice_bce_0_4__hvr_0_4_1/split_2/train/image/_Image_06L_2_5.png  \n",
            "  inflating: chase_db_320_320_dice_bce_0_4__hvr_0_4_1/split_2/train/image/_Image_09R_0_6.png  \n",
            "  inflating: chase_db_320_320_dice_bce_0_4__hvr_0_4_1/split_2/train/image/_Image_01R_2_6.png  \n",
            "  inflating: chase_db_320_320_dice_bce_0_4__hvr_0_4_1/split_2/train/image/_Image_04L_3_11.png  \n",
            "  inflating: chase_db_320_320_dice_bce_0_4__hvr_0_4_1/split_2/train/image/_Image_10R_1_4.png  \n",
            "  inflating: chase_db_320_320_dice_bce_0_4__hvr_0_4_1/split_2/train/image/_Image_02R_1_10.png  \n",
            "  inflating: chase_db_320_320_dice_bce_0_4__hvr_0_4_1/split_2/train/image/_Image_14R_3_7.png  \n",
            "  inflating: chase_db_320_320_dice_bce_0_4__hvr_0_4_1/split_2/train/image/_Image_02L_1_1.png  \n",
            "  inflating: chase_db_320_320_dice_bce_0_4__hvr_0_4_1/split_2/train/image/_Image_14R_1_9.png  \n",
            "  inflating: chase_db_320_320_dice_bce_0_4__hvr_0_4_1/split_2/train/image/_Image_06R_2_1.png  \n",
            "  inflating: chase_db_320_320_dice_bce_0_4__hvr_0_4_1/split_2/train/image/_Image_13R_0_10.png  \n",
            "  inflating: chase_db_320_320_dice_bce_0_4__hvr_0_4_1/split_2/train/image/_Image_07R_3_1.png  \n",
            "  inflating: chase_db_320_320_dice_bce_0_4__hvr_0_4_1/split_2/train/image/_Image_14R_1_11.png  \n",
            "  inflating: chase_db_320_320_dice_bce_0_4__hvr_0_4_1/split_2/train/image/_Image_01R_3_6.png  \n",
            "  inflating: chase_db_320_320_dice_bce_0_4__hvr_0_4_1/split_2/train/image/_Image_03R_0_1.png  \n",
            "  inflating: chase_db_320_320_dice_bce_0_4__hvr_0_4_1/split_2/train/image/_Image_02R_3_8.png  \n",
            "  inflating: chase_db_320_320_dice_bce_0_4__hvr_0_4_1/split_2/train/image/_Image_05R_1_11.png  \n",
            "  inflating: chase_db_320_320_dice_bce_0_4__hvr_0_4_1/split_2/train/image/_Image_01R_2_7.png  \n",
            "  inflating: chase_db_320_320_dice_bce_0_4__hvr_0_4_1/split_2/train/image/_Image_04L_0_1.png  \n",
            "  inflating: chase_db_320_320_dice_bce_0_4__hvr_0_4_1/split_2/train/image/_Image_03R_1_1.png  \n",
            "  inflating: chase_db_320_320_dice_bce_0_4__hvr_0_4_1/split_2/train/image/_Image_13R_2_10.png  \n",
            "  inflating: chase_db_320_320_dice_bce_0_4__hvr_0_4_1/split_2/train/image/_Image_10L_1_8.png  \n",
            "  inflating: chase_db_320_320_dice_bce_0_4__hvr_0_4_1/split_2/train/image/_Image_05R_3_9.png  \n",
            "  inflating: chase_db_320_320_dice_bce_0_4__hvr_0_4_1/split_2/train/image/_Image_08R_3_1.png  \n",
            "  inflating: chase_db_320_320_dice_bce_0_4__hvr_0_4_1/split_2/train/image/_Image_10R_3_7.png  \n",
            "  inflating: chase_db_320_320_dice_bce_0_4__hvr_0_4_1/split_2/train/image/_Image_09L_3_1.png  \n",
            "  inflating: chase_db_320_320_dice_bce_0_4__hvr_0_4_1/split_2/train/image/_Image_01L_0_0.png  \n",
            "  inflating: chase_db_320_320_dice_bce_0_4__hvr_0_4_1/split_2/train/image/_Image_14L_1_4.png  \n",
            "  inflating: chase_db_320_320_dice_bce_0_4__hvr_0_4_1/split_2/train/image/_Image_08R_1_8.png  \n",
            "  inflating: chase_db_320_320_dice_bce_0_4__hvr_0_4_1/split_2/train/image/_Image_04R_1_8.png  \n",
            "  inflating: chase_db_320_320_dice_bce_0_4__hvr_0_4_1/split_2/train/image/_Image_04L_3_5.png  \n",
            "  inflating: chase_db_320_320_dice_bce_0_4__hvr_0_4_1/split_2/train/image/_Image_08L_3_10.png  \n",
            "  inflating: chase_db_320_320_dice_bce_0_4__hvr_0_4_1/split_2/train/image/_Image_07L_1_7.png  \n",
            "  inflating: chase_db_320_320_dice_bce_0_4__hvr_0_4_1/split_2/train/image/_Image_05R_3_11.png  \n",
            "  inflating: chase_db_320_320_dice_bce_0_4__hvr_0_4_1/split_2/train/image/_Image_14R_3_5.png  \n",
            "  inflating: chase_db_320_320_dice_bce_0_4__hvr_0_4_1/split_2/train/image/_Image_02L_1_5.png  \n",
            "  inflating: chase_db_320_320_dice_bce_0_4__hvr_0_4_1/split_2/train/image/_Image_03L_1_4.png  \n",
            "  inflating: chase_db_320_320_dice_bce_0_4__hvr_0_4_1/split_2/train/image/_Image_08R_0_3.png  \n",
            "  inflating: chase_db_320_320_dice_bce_0_4__hvr_0_4_1/split_2/train/image/_Image_06L_0_10.png  \n",
            "  inflating: chase_db_320_320_dice_bce_0_4__hvr_0_4_1/split_2/train/image/_Image_13R_3_9.png  \n",
            "  inflating: chase_db_320_320_dice_bce_0_4__hvr_0_4_1/split_2/train/image/_Image_10R_3_6.png  \n",
            "  inflating: chase_db_320_320_dice_bce_0_4__hvr_0_4_1/split_2/train/image/_Image_02R_3_7.png  \n",
            "  inflating: chase_db_320_320_dice_bce_0_4__hvr_0_4_1/split_2/train/image/_Image_04R_2_8.png  \n",
            "  inflating: chase_db_320_320_dice_bce_0_4__hvr_0_4_1/split_2/train/image/_Image_09R_0_5.png  \n",
            "  inflating: chase_db_320_320_dice_bce_0_4__hvr_0_4_1/split_2/train/image/_Image_05R_3_3.png  \n",
            "  inflating: chase_db_320_320_dice_bce_0_4__hvr_0_4_1/split_2/train/image/_Image_10L_2_11.png  \n",
            "  inflating: chase_db_320_320_dice_bce_0_4__hvr_0_4_1/split_2/train/image/_Image_09R_3_9.png  \n",
            "  inflating: chase_db_320_320_dice_bce_0_4__hvr_0_4_1/split_2/train/image/_Image_07L_2_6.png  \n",
            "  inflating: chase_db_320_320_dice_bce_0_4__hvr_0_4_1/split_2/train/image/_Image_05R_0_10.png  \n",
            "  inflating: chase_db_320_320_dice_bce_0_4__hvr_0_4_1/split_2/train/image/_Image_02R_2_7.png  \n",
            "  inflating: chase_db_320_320_dice_bce_0_4__hvr_0_4_1/split_2/train/image/_Image_05R_0_0.png  \n",
            "  inflating: chase_db_320_320_dice_bce_0_4__hvr_0_4_1/split_2/train/image/_Image_01L_3_4.png  \n",
            "  inflating: chase_db_320_320_dice_bce_0_4__hvr_0_4_1/split_2/train/image/_Image_04L_3_8.png  \n",
            "  inflating: chase_db_320_320_dice_bce_0_4__hvr_0_4_1/split_2/train/image/_Image_14R_2_4.png  \n",
            "  inflating: chase_db_320_320_dice_bce_0_4__hvr_0_4_1/split_2/train/image/_Image_07L_0_7.png  \n",
            "  inflating: chase_db_320_320_dice_bce_0_4__hvr_0_4_1/split_2/train/image/_Image_02R_1_1.png  \n",
            "  inflating: chase_db_320_320_dice_bce_0_4__hvr_0_4_1/split_2/train/image/_Image_03L_0_7.png  \n",
            "  inflating: chase_db_320_320_dice_bce_0_4__hvr_0_4_1/split_2/train/image/_Image_09L_1_3.png  \n",
            "  inflating: chase_db_320_320_dice_bce_0_4__hvr_0_4_1/split_2/train/image/_Image_02R_0_3.png  \n",
            "  inflating: chase_db_320_320_dice_bce_0_4__hvr_0_4_1/split_2/train/image/_Image_01L_2_3.png  \n",
            "  inflating: chase_db_320_320_dice_bce_0_4__hvr_0_4_1/split_2/train/image/_Image_01L_3_2.png  \n",
            "  inflating: chase_db_320_320_dice_bce_0_4__hvr_0_4_1/split_2/train/image/_Image_07R_0_3.png  \n",
            "  inflating: chase_db_320_320_dice_bce_0_4__hvr_0_4_1/split_2/train/image/_Image_02L_1_9.png  \n",
            "  inflating: chase_db_320_320_dice_bce_0_4__hvr_0_4_1/split_2/train/image/_Image_05L_2_4.png  \n",
            "  inflating: chase_db_320_320_dice_bce_0_4__hvr_0_4_1/split_2/train/image/_Image_02R_1_2.png  \n",
            "  inflating: chase_db_320_320_dice_bce_0_4__hvr_0_4_1/split_2/train/image/_Image_02L_3_9.png  \n",
            "  inflating: chase_db_320_320_dice_bce_0_4__hvr_0_4_1/split_2/train/image/_Image_03L_3_7.png  \n",
            "  inflating: chase_db_320_320_dice_bce_0_4__hvr_0_4_1/split_2/train/image/_Image_08L_0_4.png  \n",
            "  inflating: chase_db_320_320_dice_bce_0_4__hvr_0_4_1/split_2/train/image/_Image_04L_2_0.png  \n",
            "  inflating: chase_db_320_320_dice_bce_0_4__hvr_0_4_1/split_2/train/image/_Image_06L_0_0.png  \n",
            "  inflating: chase_db_320_320_dice_bce_0_4__hvr_0_4_1/split_2/train/image/_Image_03R_3_3.png  \n",
            "  inflating: chase_db_320_320_dice_bce_0_4__hvr_0_4_1/split_2/train/image/_Image_08R_3_2.png  \n",
            "  inflating: chase_db_320_320_dice_bce_0_4__hvr_0_4_1/split_2/train/image/_Image_04L_1_7.png  \n",
            "  inflating: chase_db_320_320_dice_bce_0_4__hvr_0_4_1/split_2/train/image/_Image_14R_1_8.png  \n",
            "  inflating: chase_db_320_320_dice_bce_0_4__hvr_0_4_1/split_2/train/image/_Image_07R_2_9.png  \n",
            "  inflating: chase_db_320_320_dice_bce_0_4__hvr_0_4_1/split_2/train/image/_Image_10L_1_9.png  \n",
            "  inflating: chase_db_320_320_dice_bce_0_4__hvr_0_4_1/split_2/train/image/_Image_09R_2_2.png  \n",
            "  inflating: chase_db_320_320_dice_bce_0_4__hvr_0_4_1/split_2/train/image/_Image_07L_2_7.png  \n",
            "  inflating: chase_db_320_320_dice_bce_0_4__hvr_0_4_1/split_2/train/image/_Image_02L_1_6.png  \n",
            "  inflating: chase_db_320_320_dice_bce_0_4__hvr_0_4_1/split_2/train/image/_Image_02L_1_8.png  \n",
            "  inflating: chase_db_320_320_dice_bce_0_4__hvr_0_4_1/split_2/train/image/_Image_07L_3_9.png  \n",
            "  inflating: chase_db_320_320_dice_bce_0_4__hvr_0_4_1/split_2/train/image/_Image_14R_0_4.png  \n",
            "  inflating: chase_db_320_320_dice_bce_0_4__hvr_0_4_1/split_2/train/image/_Image_13R_1_3.png  \n",
            "  inflating: chase_db_320_320_dice_bce_0_4__hvr_0_4_1/split_2/train/image/_Image_07L_1_4.png  \n",
            "  inflating: chase_db_320_320_dice_bce_0_4__hvr_0_4_1/split_2/train/image/_Image_04R_0_4.png  \n",
            "  inflating: chase_db_320_320_dice_bce_0_4__hvr_0_4_1/split_2/train/image/_Image_07L_0_2.png  \n",
            "  inflating: chase_db_320_320_dice_bce_0_4__hvr_0_4_1/split_2/train/image/_Image_06R_3_1.png  \n",
            "  inflating: chase_db_320_320_dice_bce_0_4__hvr_0_4_1/split_2/train/image/_Image_01R_3_11.png  \n",
            "  inflating: chase_db_320_320_dice_bce_0_4__hvr_0_4_1/split_2/train/image/_Image_03L_0_3.png  \n",
            "  inflating: chase_db_320_320_dice_bce_0_4__hvr_0_4_1/split_2/train/image/_Image_01L_1_0.png  \n",
            "  inflating: chase_db_320_320_dice_bce_0_4__hvr_0_4_1/split_2/train/image/_Image_04R_3_8.png  \n",
            "  inflating: chase_db_320_320_dice_bce_0_4__hvr_0_4_1/split_2/train/image/_Image_07L_0_6.png  \n",
            "  inflating: chase_db_320_320_dice_bce_0_4__hvr_0_4_1/split_2/train/image/_Image_13R_1_0.png  \n",
            "  inflating: chase_db_320_320_dice_bce_0_4__hvr_0_4_1/split_2/train/image/_Image_14R_3_4.png  \n",
            "  inflating: chase_db_320_320_dice_bce_0_4__hvr_0_4_1/split_2/train/image/_Image_14L_2_9.png  \n",
            "  inflating: chase_db_320_320_dice_bce_0_4__hvr_0_4_1/split_2/train/image/_Image_04L_3_2.png  \n",
            "  inflating: chase_db_320_320_dice_bce_0_4__hvr_0_4_1/split_2/train/image/_Image_04L_0_4.png  \n",
            "  inflating: chase_db_320_320_dice_bce_0_4__hvr_0_4_1/split_2/train/image/_Image_10R_2_3.png  \n",
            "  inflating: chase_db_320_320_dice_bce_0_4__hvr_0_4_1/split_2/train/image/_Image_06L_1_10.png  \n",
            "  inflating: chase_db_320_320_dice_bce_0_4__hvr_0_4_1/split_2/train/image/_Image_10R_0_3.png  \n",
            "  inflating: chase_db_320_320_dice_bce_0_4__hvr_0_4_1/split_2/train/image/_Image_06R_2_8.png  \n",
            "  inflating: chase_db_320_320_dice_bce_0_4__hvr_0_4_1/split_2/train/image/_Image_10L_1_4.png  \n",
            "  inflating: chase_db_320_320_dice_bce_0_4__hvr_0_4_1/split_2/train/image/_Image_06R_3_0.png  \n",
            "  inflating: chase_db_320_320_dice_bce_0_4__hvr_0_4_1/split_2/train/image/_Image_03R_1_7.png  \n",
            "  inflating: chase_db_320_320_dice_bce_0_4__hvr_0_4_1/split_2/train/image/_Image_07R_0_6.png  \n",
            "  inflating: chase_db_320_320_dice_bce_0_4__hvr_0_4_1/split_2/train/image/_Image_06R_3_2.png  \n",
            "  inflating: chase_db_320_320_dice_bce_0_4__hvr_0_4_1/split_2/train/image/_Image_02R_2_0.png  \n",
            "  inflating: chase_db_320_320_dice_bce_0_4__hvr_0_4_1/split_2/train/image/_Image_03R_0_4.png  \n",
            "  inflating: chase_db_320_320_dice_bce_0_4__hvr_0_4_1/split_2/train/image/_Image_02R_2_10.png  \n",
            "  inflating: chase_db_320_320_dice_bce_0_4__hvr_0_4_1/split_2/train/image/_Image_05R_2_10.png  \n",
            "  inflating: chase_db_320_320_dice_bce_0_4__hvr_0_4_1/split_2/train/image/_Image_05L_0_3.png  \n",
            "  inflating: chase_db_320_320_dice_bce_0_4__hvr_0_4_1/split_2/train/image/_Image_02L_2_4.png  \n",
            "  inflating: chase_db_320_320_dice_bce_0_4__hvr_0_4_1/split_2/train/image/_Image_04R_2_2.png  \n",
            "  inflating: chase_db_320_320_dice_bce_0_4__hvr_0_4_1/split_2/train/image/_Image_13R_2_4.png  \n",
            "  inflating: chase_db_320_320_dice_bce_0_4__hvr_0_4_1/split_2/train/image/_Image_07L_3_6.png  \n",
            "  inflating: chase_db_320_320_dice_bce_0_4__hvr_0_4_1/split_2/train/image/_Image_05L_1_7.png  \n",
            "  inflating: chase_db_320_320_dice_bce_0_4__hvr_0_4_1/split_2/train/image/_Image_04L_2_4.png  \n",
            "  inflating: chase_db_320_320_dice_bce_0_4__hvr_0_4_1/split_2/train/image/_Image_03L_1_5.png  \n",
            "  inflating: chase_db_320_320_dice_bce_0_4__hvr_0_4_1/split_2/train/image/_Image_01L_3_5.png  \n",
            "  inflating: chase_db_320_320_dice_bce_0_4__hvr_0_4_1/split_2/train/image/_Image_09L_0_8.png  \n",
            "  inflating: chase_db_320_320_dice_bce_0_4__hvr_0_4_1/split_2/train/image/_Image_09R_3_5.png  \n",
            "  inflating: chase_db_320_320_dice_bce_0_4__hvr_0_4_1/split_2/train/image/_Image_14L_0_5.png  \n",
            "  inflating: chase_db_320_320_dice_bce_0_4__hvr_0_4_1/split_2/train/image/_Image_09R_0_1.png  \n",
            "  inflating: chase_db_320_320_dice_bce_0_4__hvr_0_4_1/split_2/train/image/_Image_01L_3_10.png  \n",
            "  inflating: chase_db_320_320_dice_bce_0_4__hvr_0_4_1/split_2/train/image/_Image_14R_3_0.png  \n",
            "  inflating: chase_db_320_320_dice_bce_0_4__hvr_0_4_1/split_2/train/image/_Image_07L_3_10.png  \n",
            "  inflating: chase_db_320_320_dice_bce_0_4__hvr_0_4_1/split_2/train/image/_Image_03R_0_2.png  \n",
            "  inflating: chase_db_320_320_dice_bce_0_4__hvr_0_4_1/split_2/train/image/_Image_05L_1_9.png  \n",
            "  inflating: chase_db_320_320_dice_bce_0_4__hvr_0_4_1/split_2/train/image/_Image_04R_0_6.png  \n",
            "  inflating: chase_db_320_320_dice_bce_0_4__hvr_0_4_1/split_2/train/image/_Image_01R_0_1.png  \n",
            "  inflating: chase_db_320_320_dice_bce_0_4__hvr_0_4_1/split_2/train/image/_Image_09R_2_8.png  \n",
            "  inflating: chase_db_320_320_dice_bce_0_4__hvr_0_4_1/split_2/train/image/_Image_05R_0_4.png  \n",
            "  inflating: chase_db_320_320_dice_bce_0_4__hvr_0_4_1/split_2/train/image/_Image_01R_3_4.png  \n",
            "  inflating: chase_db_320_320_dice_bce_0_4__hvr_0_4_1/split_2/train/image/_Image_01L_0_2.png  \n",
            "  inflating: chase_db_320_320_dice_bce_0_4__hvr_0_4_1/split_2/train/image/_Image_02L_3_4.png  \n",
            "  inflating: chase_db_320_320_dice_bce_0_4__hvr_0_4_1/split_2/train/image/_Image_04R_2_0.png  \n",
            "  inflating: chase_db_320_320_dice_bce_0_4__hvr_0_4_1/split_2/train/image/_Image_06R_3_9.png  \n",
            "  inflating: chase_db_320_320_dice_bce_0_4__hvr_0_4_1/split_2/train/image/_Image_08L_0_10.png  \n",
            "  inflating: chase_db_320_320_dice_bce_0_4__hvr_0_4_1/split_2/train/image/_Image_06L_3_5.png  \n",
            "  inflating: chase_db_320_320_dice_bce_0_4__hvr_0_4_1/split_2/train/image/_Image_14R_2_9.png  \n",
            "  inflating: chase_db_320_320_dice_bce_0_4__hvr_0_4_1/split_2/train/image/_Image_04L_3_6.png  \n",
            "  inflating: chase_db_320_320_dice_bce_0_4__hvr_0_4_1/split_2/train/image/_Image_01R_0_8.png  \n",
            "  inflating: chase_db_320_320_dice_bce_0_4__hvr_0_4_1/split_2/train/image/_Image_02L_3_7.png  \n",
            "  inflating: chase_db_320_320_dice_bce_0_4__hvr_0_4_1/split_2/train/image/_Image_09L_1_7.png  \n",
            "  inflating: chase_db_320_320_dice_bce_0_4__hvr_0_4_1/split_2/train/image/_Image_06L_2_0.png  \n",
            "  inflating: chase_db_320_320_dice_bce_0_4__hvr_0_4_1/split_2/train/image/_Image_09L_0_5.png  \n",
            "  inflating: chase_db_320_320_dice_bce_0_4__hvr_0_4_1/split_2/train/image/_Image_07L_2_5.png  \n",
            "  inflating: chase_db_320_320_dice_bce_0_4__hvr_0_4_1/split_2/train/image/_Image_05R_0_7.png  \n",
            "  inflating: chase_db_320_320_dice_bce_0_4__hvr_0_4_1/split_2/train/image/_Image_09L_0_9.png  \n",
            "  inflating: chase_db_320_320_dice_bce_0_4__hvr_0_4_1/split_2/train/image/_Image_01L_2_5.png  \n",
            "  inflating: chase_db_320_320_dice_bce_0_4__hvr_0_4_1/split_2/train/image/_Image_07L_1_5.png  \n",
            "  inflating: chase_db_320_320_dice_bce_0_4__hvr_0_4_1/split_2/train/image/_Image_06R_2_7.png  \n",
            "  inflating: chase_db_320_320_dice_bce_0_4__hvr_0_4_1/split_2/train/image/_Image_14L_2_10.png  \n",
            "  inflating: chase_db_320_320_dice_bce_0_4__hvr_0_4_1/split_2/train/image/_Image_06R_0_11.png  \n",
            "  inflating: chase_db_320_320_dice_bce_0_4__hvr_0_4_1/split_2/train/image/_Image_04R_2_1.png  \n",
            "  inflating: chase_db_320_320_dice_bce_0_4__hvr_0_4_1/split_2/train/image/_Image_05L_0_4.png  \n",
            "  inflating: chase_db_320_320_dice_bce_0_4__hvr_0_4_1/split_2/train/image/_Image_10R_0_6.png  \n",
            "  inflating: chase_db_320_320_dice_bce_0_4__hvr_0_4_1/split_2/train/image/_Image_08R_1_3.png  \n",
            "  inflating: chase_db_320_320_dice_bce_0_4__hvr_0_4_1/split_2/train/image/_Image_14L_1_3.png  \n",
            "  inflating: chase_db_320_320_dice_bce_0_4__hvr_0_4_1/split_2/train/image/_Image_06R_1_2.png  \n",
            "  inflating: chase_db_320_320_dice_bce_0_4__hvr_0_4_1/split_2/train/image/_Image_14R_2_3.png  \n",
            "  inflating: chase_db_320_320_dice_bce_0_4__hvr_0_4_1/split_2/train/image/_Image_07R_2_7.png  \n",
            "  inflating: chase_db_320_320_dice_bce_0_4__hvr_0_4_1/split_2/train/image/_Image_05R_2_5.png  \n",
            "  inflating: chase_db_320_320_dice_bce_0_4__hvr_0_4_1/split_2/train/image/_Image_10R_2_1.png  \n",
            "  inflating: chase_db_320_320_dice_bce_0_4__hvr_0_4_1/split_2/train/image/_Image_14R_1_1.png  \n",
            "  inflating: chase_db_320_320_dice_bce_0_4__hvr_0_4_1/split_2/train/image/_Image_14L_1_10.png  \n",
            "  inflating: chase_db_320_320_dice_bce_0_4__hvr_0_4_1/split_2/train/image/_Image_03L_2_8.png  \n",
            "  inflating: chase_db_320_320_dice_bce_0_4__hvr_0_4_1/split_2/train/image/_Image_05L_2_0.png  \n",
            "  inflating: chase_db_320_320_dice_bce_0_4__hvr_0_4_1/split_2/train/image/_Image_08L_0_0.png  \n",
            "  inflating: chase_db_320_320_dice_bce_0_4__hvr_0_4_1/split_2/train/image/_Image_02L_1_3.png  \n",
            "  inflating: chase_db_320_320_dice_bce_0_4__hvr_0_4_1/split_2/train/image/_Image_07L_0_1.png  \n",
            "  inflating: chase_db_320_320_dice_bce_0_4__hvr_0_4_1/split_2/train/image/_Image_08R_2_0.png  \n",
            "  inflating: chase_db_320_320_dice_bce_0_4__hvr_0_4_1/split_2/train/image/_Image_02L_2_8.png  \n",
            "  inflating: chase_db_320_320_dice_bce_0_4__hvr_0_4_1/split_2/train/image/_Image_03L_3_8.png  \n",
            "  inflating: chase_db_320_320_dice_bce_0_4__hvr_0_4_1/split_2/train/image/_Image_14R_3_9.png  \n",
            "  inflating: chase_db_320_320_dice_bce_0_4__hvr_0_4_1/split_2/train/image/_Image_05L_3_8.png  \n",
            "  inflating: chase_db_320_320_dice_bce_0_4__hvr_0_4_1/split_2/train/image/_Image_08R_2_5.png  \n",
            "  inflating: chase_db_320_320_dice_bce_0_4__hvr_0_4_1/split_2/train/image/_Image_05R_1_2.png  \n",
            "  inflating: chase_db_320_320_dice_bce_0_4__hvr_0_4_1/split_2/train/image/_Image_13R_1_2.png  \n",
            "  inflating: chase_db_320_320_dice_bce_0_4__hvr_0_4_1/split_2/train/image/_Image_01L_1_10.png  \n",
            "  inflating: chase_db_320_320_dice_bce_0_4__hvr_0_4_1/split_2/train/image/_Image_10R_2_11.png  \n",
            "  inflating: chase_db_320_320_dice_bce_0_4__hvr_0_4_1/split_2/train/image/_Image_06R_2_0.png  \n",
            "  inflating: chase_db_320_320_dice_bce_0_4__hvr_0_4_1/split_2/train/image/_Image_08L_2_6.png  \n",
            "  inflating: chase_db_320_320_dice_bce_0_4__hvr_0_4_1/split_2/train/image/_Image_09L_3_5.png  \n",
            "  inflating: chase_db_320_320_dice_bce_0_4__hvr_0_4_1/split_2/train/image/_Image_10L_2_1.png  \n",
            "  inflating: chase_db_320_320_dice_bce_0_4__hvr_0_4_1/split_2/train/image/_Image_10R_3_1.png  \n",
            "  inflating: chase_db_320_320_dice_bce_0_4__hvr_0_4_1/split_2/train/image/_Image_07L_1_3.png  \n",
            "  inflating: chase_db_320_320_dice_bce_0_4__hvr_0_4_1/split_2/train/image/_Image_14L_1_11.png  \n",
            "  inflating: chase_db_320_320_dice_bce_0_4__hvr_0_4_1/split_2/train/image/_Image_07L_3_3.png  \n",
            "  inflating: chase_db_320_320_dice_bce_0_4__hvr_0_4_1/split_2/train/image/_Image_05L_1_5.png  \n",
            "  inflating: chase_db_320_320_dice_bce_0_4__hvr_0_4_1/split_2/train/image/_Image_14R_0_3.png  \n",
            "  inflating: chase_db_320_320_dice_bce_0_4__hvr_0_4_1/split_2/train/image/_Image_02L_3_5.png  \n",
            "  inflating: chase_db_320_320_dice_bce_0_4__hvr_0_4_1/split_2/train/image/_Image_07R_1_3.png  \n",
            "  inflating: chase_db_320_320_dice_bce_0_4__hvr_0_4_1/split_2/train/image/_Image_03R_0_5.png  \n",
            "  inflating: chase_db_320_320_dice_bce_0_4__hvr_0_4_1/split_2/train/image/_Image_06R_0_6.png  \n",
            "  inflating: chase_db_320_320_dice_bce_0_4__hvr_0_4_1/split_2/train/image/_Image_01L_3_3.png  \n",
            "  inflating: chase_db_320_320_dice_bce_0_4__hvr_0_4_1/split_2/train/image/_Image_10L_0_8.png  \n",
            "  inflating: chase_db_320_320_dice_bce_0_4__hvr_0_4_1/split_2/train/image/_Image_06L_0_5.png  \n",
            "  inflating: chase_db_320_320_dice_bce_0_4__hvr_0_4_1/split_2/train/image/_Image_14L_0_0.png  \n",
            "  inflating: chase_db_320_320_dice_bce_0_4__hvr_0_4_1/split_2/train/image/_Image_03L_0_11.png  \n",
            "  inflating: chase_db_320_320_dice_bce_0_4__hvr_0_4_1/split_2/train/image/_Image_01L_2_8.png  \n",
            "  inflating: chase_db_320_320_dice_bce_0_4__hvr_0_4_1/split_2/train/image/_Image_04R_1_4.png  \n",
            "  inflating: chase_db_320_320_dice_bce_0_4__hvr_0_4_1/split_2/train/image/_Image_04R_3_3.png  \n",
            "  inflating: chase_db_320_320_dice_bce_0_4__hvr_0_4_1/split_2/train/image/_Image_02L_2_5.png  \n",
            "  inflating: chase_db_320_320_dice_bce_0_4__hvr_0_4_1/split_2/train/image/_Image_09L_2_0.png  \n",
            "  inflating: chase_db_320_320_dice_bce_0_4__hvr_0_4_1/split_2/train/image/_Image_04R_2_7.png  \n",
            "  inflating: chase_db_320_320_dice_bce_0_4__hvr_0_4_1/split_2/train/image/_Image_06R_3_7.png  \n",
            "  inflating: chase_db_320_320_dice_bce_0_4__hvr_0_4_1/split_2/train/image/_Image_08R_3_0.png  \n",
            "  inflating: chase_db_320_320_dice_bce_0_4__hvr_0_4_1/split_2/train/image/_Image_03L_2_10.png  \n",
            "  inflating: chase_db_320_320_dice_bce_0_4__hvr_0_4_1/split_2/train/image/_Image_09R_2_7.png  \n",
            "  inflating: chase_db_320_320_dice_bce_0_4__hvr_0_4_1/split_2/train/image/_Image_02L_0_5.png  \n",
            "  inflating: chase_db_320_320_dice_bce_0_4__hvr_0_4_1/split_2/train/image/_Image_08R_1_5.png  \n",
            "  inflating: chase_db_320_320_dice_bce_0_4__hvr_0_4_1/split_2/train/image/_Image_01R_1_11.png  \n",
            "  inflating: chase_db_320_320_dice_bce_0_4__hvr_0_4_1/split_2/train/image/_Image_02R_3_4.png  \n",
            "  inflating: chase_db_320_320_dice_bce_0_4__hvr_0_4_1/split_2/train/image/_Image_08L_2_9.png  \n",
            "  inflating: chase_db_320_320_dice_bce_0_4__hvr_0_4_1/split_2/train/image/_Image_06R_1_9.png  \n",
            "  inflating: chase_db_320_320_dice_bce_0_4__hvr_0_4_1/split_2/train/image/_Image_01R_0_6.png  \n",
            "  inflating: chase_db_320_320_dice_bce_0_4__hvr_0_4_1/split_2/train/image/_Image_08R_1_9.png  \n",
            "  inflating: chase_db_320_320_dice_bce_0_4__hvr_0_4_1/split_2/train/image/_Image_07L_3_7.png  \n",
            "  inflating: chase_db_320_320_dice_bce_0_4__hvr_0_4_1/split_2/train/image/_Image_05R_3_7.png  \n",
            "  inflating: chase_db_320_320_dice_bce_0_4__hvr_0_4_1/split_2/train/image/_Image_06L_0_7.png  \n",
            "  inflating: chase_db_320_320_dice_bce_0_4__hvr_0_4_1/split_2/train/image/_Image_03R_3_6.png  \n",
            "  inflating: chase_db_320_320_dice_bce_0_4__hvr_0_4_1/split_2/train/image/_Image_04R_1_6.png  \n",
            "  inflating: chase_db_320_320_dice_bce_0_4__hvr_0_4_1/split_2/train/image/_Image_06L_3_0.png  \n",
            "  inflating: chase_db_320_320_dice_bce_0_4__hvr_0_4_1/split_2/train/image/_Image_03R_2_5.png  \n",
            "  inflating: chase_db_320_320_dice_bce_0_4__hvr_0_4_1/split_2/train/image/_Image_01R_0_11.png  \n",
            "  inflating: chase_db_320_320_dice_bce_0_4__hvr_0_4_1/split_2/train/image/_Image_09R_0_2.png  \n",
            "  inflating: chase_db_320_320_dice_bce_0_4__hvr_0_4_1/split_2/train/image/_Image_04L_2_6.png  \n",
            "  inflating: chase_db_320_320_dice_bce_0_4__hvr_0_4_1/split_2/train/image/_Image_01L_1_8.png  \n",
            "  inflating: chase_db_320_320_dice_bce_0_4__hvr_0_4_1/split_2/train/image/_Image_03R_1_11.png  \n",
            "  inflating: chase_db_320_320_dice_bce_0_4__hvr_0_4_1/split_2/train/image/_Image_06R_3_3.png  \n",
            "  inflating: chase_db_320_320_dice_bce_0_4__hvr_0_4_1/split_2/train/image/_Image_14R_2_7.png  \n",
            "  inflating: chase_db_320_320_dice_bce_0_4__hvr_0_4_1/split_2/train/image/_Image_02L_0_2.png  \n",
            "  inflating: chase_db_320_320_dice_bce_0_4__hvr_0_4_1/split_2/train/image/_Image_09R_2_11.png  \n",
            "  inflating: chase_db_320_320_dice_bce_0_4__hvr_0_4_1/split_2/train/image/_Image_03L_3_10.png  \n",
            "  inflating: chase_db_320_320_dice_bce_0_4__hvr_0_4_1/split_2/train/image/_Image_06R_2_5.png  \n",
            "  inflating: chase_db_320_320_dice_bce_0_4__hvr_0_4_1/split_2/train/image/_Image_01R_3_8.png  \n",
            "  inflating: chase_db_320_320_dice_bce_0_4__hvr_0_4_1/split_2/train/image/_Image_09L_3_11.png  \n",
            "  inflating: chase_db_320_320_dice_bce_0_4__hvr_0_4_1/split_2/train/image/_Image_06L_2_11.png  \n",
            "  inflating: chase_db_320_320_dice_bce_0_4__hvr_0_4_1/split_2/train/image/_Image_14R_0_2.png  \n",
            "  inflating: chase_db_320_320_dice_bce_0_4__hvr_0_4_1/split_2/train/image/_Image_03L_1_6.png  \n",
            "  inflating: chase_db_320_320_dice_bce_0_4__hvr_0_4_1/split_2/train/image/_Image_10L_1_0.png  \n",
            "  inflating: chase_db_320_320_dice_bce_0_4__hvr_0_4_1/split_2/train/image/_Image_01L_2_0.png  \n",
            "  inflating: chase_db_320_320_dice_bce_0_4__hvr_0_4_1/split_2/train/image/_Image_06R_1_3.png  \n",
            "  inflating: chase_db_320_320_dice_bce_0_4__hvr_0_4_1/split_2/train/image/_Image_02R_2_2.png  \n",
            "  inflating: chase_db_320_320_dice_bce_0_4__hvr_0_4_1/split_2/train/image/_Image_14L_3_7.png  \n",
            "  inflating: chase_db_320_320_dice_bce_0_4__hvr_0_4_1/split_2/train/image/_Image_03L_0_10.png  \n",
            "  inflating: chase_db_320_320_dice_bce_0_4__hvr_0_4_1/split_2/train/image/_Image_06R_0_2.png  \n",
            "  inflating: chase_db_320_320_dice_bce_0_4__hvr_0_4_1/split_2/train/image/_Image_14L_1_7.png  \n",
            "  inflating: chase_db_320_320_dice_bce_0_4__hvr_0_4_1/split_2/train/image/_Image_07R_2_1.png  \n",
            "  inflating: chase_db_320_320_dice_bce_0_4__hvr_0_4_1/split_2/train/image/_Image_14L_2_1.png  \n",
            "  inflating: chase_db_320_320_dice_bce_0_4__hvr_0_4_1/split_2/train/image/_Image_14R_1_2.png  \n",
            "  inflating: chase_db_320_320_dice_bce_0_4__hvr_0_4_1/split_2/train/image/_Image_06L_3_8.png  \n",
            "  inflating: chase_db_320_320_dice_bce_0_4__hvr_0_4_1/split_2/train/image/_Image_08L_0_2.png  \n",
            "  inflating: chase_db_320_320_dice_bce_0_4__hvr_0_4_1/split_2/train/image/_Image_04R_2_9.png  \n",
            "  inflating: chase_db_320_320_dice_bce_0_4__hvr_0_4_1/split_2/train/image/_Image_07R_2_10.png  \n",
            "  inflating: chase_db_320_320_dice_bce_0_4__hvr_0_4_1/split_2/train/image/_Image_07R_0_7.png  \n",
            "  inflating: chase_db_320_320_dice_bce_0_4__hvr_0_4_1/split_2/train/image/_Image_02L_1_0.png  \n",
            "  inflating: chase_db_320_320_dice_bce_0_4__hvr_0_4_1/split_2/train/image/_Image_03R_2_1.png  \n",
            "  inflating: chase_db_320_320_dice_bce_0_4__hvr_0_4_1/split_2/train/image/_Image_13R_2_6.png  \n",
            "  inflating: chase_db_320_320_dice_bce_0_4__hvr_0_4_1/split_2/train/image/_Image_02R_2_8.png  \n",
            "  inflating: chase_db_320_320_dice_bce_0_4__hvr_0_4_1/split_2/train/image/_Image_01R_0_0.png  \n",
            "  inflating: chase_db_320_320_dice_bce_0_4__hvr_0_4_1/split_2/train/image/_Image_05L_0_6.png  \n",
            "  inflating: chase_db_320_320_dice_bce_0_4__hvr_0_4_1/split_2/train/image/_Image_03L_3_2.png  \n",
            "  inflating: chase_db_320_320_dice_bce_0_4__hvr_0_4_1/split_2/train/image/_Image_06R_0_10.png  \n",
            "  inflating: chase_db_320_320_dice_bce_0_4__hvr_0_4_1/split_2/train/image/_Image_08L_2_4.png  \n",
            "  inflating: chase_db_320_320_dice_bce_0_4__hvr_0_4_1/split_2/train/image/_Image_09L_1_1.png  \n",
            "  inflating: chase_db_320_320_dice_bce_0_4__hvr_0_4_1/split_2/train/image/_Image_10R_1_3.png  \n",
            "  inflating: chase_db_320_320_dice_bce_0_4__hvr_0_4_1/split_2/train/image/_Image_02L_1_11.png  \n",
            "  inflating: chase_db_320_320_dice_bce_0_4__hvr_0_4_1/split_2/train/image/_Image_10R_3_4.png  \n",
            "  inflating: chase_db_320_320_dice_bce_0_4__hvr_0_4_1/split_2/train/image/_Image_05R_2_0.png  \n",
            "  inflating: chase_db_320_320_dice_bce_0_4__hvr_0_4_1/split_2/train/image/_Image_13R_1_4.png  \n",
            "  inflating: chase_db_320_320_dice_bce_0_4__hvr_0_4_1/split_2/train/image/_Image_07R_3_7.png  \n",
            "  inflating: chase_db_320_320_dice_bce_0_4__hvr_0_4_1/split_2/train/image/_Image_05L_0_9.png  \n",
            "  inflating: chase_db_320_320_dice_bce_0_4__hvr_0_4_1/split_2/train/image/_Image_07L_3_0.png  \n",
            "  inflating: chase_db_320_320_dice_bce_0_4__hvr_0_4_1/split_2/train/image/_Image_05R_1_10.png  \n",
            "  inflating: chase_db_320_320_dice_bce_0_4__hvr_0_4_1/split_2/train/image/_Image_02L_3_0.png  \n",
            "  inflating: chase_db_320_320_dice_bce_0_4__hvr_0_4_1/split_2/train/image/_Image_03L_2_11.png  \n",
            "  inflating: chase_db_320_320_dice_bce_0_4__hvr_0_4_1/split_2/train/image/_Image_03R_3_11.png  \n",
            "  inflating: chase_db_320_320_dice_bce_0_4__hvr_0_4_1/split_2/train/image/_Image_10L_2_4.png  \n",
            "  inflating: chase_db_320_320_dice_bce_0_4__hvr_0_4_1/split_2/train/image/_Image_13R_3_8.png  \n",
            "  inflating: chase_db_320_320_dice_bce_0_4__hvr_0_4_1/split_2/train/image/_Image_01R_0_3.png  \n",
            "  inflating: chase_db_320_320_dice_bce_0_4__hvr_0_4_1/split_2/train/image/_Image_13R_1_11.png  \n",
            "  inflating: chase_db_320_320_dice_bce_0_4__hvr_0_4_1/split_2/train/image/_Image_06L_3_11.png  \n",
            "  inflating: chase_db_320_320_dice_bce_0_4__hvr_0_4_1/split_2/train/image/_Image_05R_0_3.png  \n",
            "  inflating: chase_db_320_320_dice_bce_0_4__hvr_0_4_1/split_2/train/image/_Image_14L_3_9.png  \n",
            "  inflating: chase_db_320_320_dice_bce_0_4__hvr_0_4_1/split_2/train/image/_Image_03L_0_0.png  \n",
            "  inflating: chase_db_320_320_dice_bce_0_4__hvr_0_4_1/split_2/train/image/_Image_01L_2_4.png  \n",
            "  inflating: chase_db_320_320_dice_bce_0_4__hvr_0_4_1/split_2/train/image/_Image_07L_0_5.png  \n",
            "  inflating: chase_db_320_320_dice_bce_0_4__hvr_0_4_1/split_2/train/image/_Image_01L_3_0.png  \n",
            "  inflating: chase_db_320_320_dice_bce_0_4__hvr_0_4_1/split_2/train/image/_Image_10L_1_2.png  \n",
            "  inflating: chase_db_320_320_dice_bce_0_4__hvr_0_4_1/split_2/train/image/_Image_10R_0_4.png  \n",
            "  inflating: chase_db_320_320_dice_bce_0_4__hvr_0_4_1/split_2/train/image/_Image_07L_3_5.png  \n",
            "  inflating: chase_db_320_320_dice_bce_0_4__hvr_0_4_1/split_2/train/image/_Image_02R_0_5.png  \n",
            "  inflating: chase_db_320_320_dice_bce_0_4__hvr_0_4_1/split_2/train/image/_Image_02R_1_7.png  \n",
            "  inflating: chase_db_320_320_dice_bce_0_4__hvr_0_4_1/split_2/train/image/_Image_14L_2_4.png  \n",
            "  inflating: chase_db_320_320_dice_bce_0_4__hvr_0_4_1/split_2/train/image/_Image_05L_3_10.png  \n",
            "  inflating: chase_db_320_320_dice_bce_0_4__hvr_0_4_1/split_2/train/image/_Image_09R_2_10.png  \n",
            "  inflating: chase_db_320_320_dice_bce_0_4__hvr_0_4_1/split_2/train/image/_Image_08L_0_9.png  \n",
            "  inflating: chase_db_320_320_dice_bce_0_4__hvr_0_4_1/split_2/train/image/_Image_10L_2_3.png  \n",
            "  inflating: chase_db_320_320_dice_bce_0_4__hvr_0_4_1/split_2/train/image/_Image_14R_2_10.png  \n",
            "  inflating: chase_db_320_320_dice_bce_0_4__hvr_0_4_1/split_2/train/image/_Image_06R_3_8.png  \n",
            "  inflating: chase_db_320_320_dice_bce_0_4__hvr_0_4_1/split_2/train/image/_Image_06R_1_7.png  \n",
            "  inflating: chase_db_320_320_dice_bce_0_4__hvr_0_4_1/split_2/train/image/_Image_05R_0_9.png  \n",
            "  inflating: chase_db_320_320_dice_bce_0_4__hvr_0_4_1/split_2/train/image/_Image_05R_3_10.png  \n",
            "  inflating: chase_db_320_320_dice_bce_0_4__hvr_0_4_1/split_2/train/image/_Image_02R_0_4.png  \n",
            "  inflating: chase_db_320_320_dice_bce_0_4__hvr_0_4_1/split_2/train/image/_Image_14L_3_2.png  \n",
            "  inflating: chase_db_320_320_dice_bce_0_4__hvr_0_4_1/split_2/train/image/_Image_10R_1_5.png  \n",
            "  inflating: chase_db_320_320_dice_bce_0_4__hvr_0_4_1/split_2/train/image/_Image_14L_0_6.png  \n",
            "  inflating: chase_db_320_320_dice_bce_0_4__hvr_0_4_1/split_2/train/image/_Image_13R_3_2.png  \n",
            "  inflating: chase_db_320_320_dice_bce_0_4__hvr_0_4_1/split_2/train/image/_Image_09R_0_0.png  \n",
            "  inflating: chase_db_320_320_dice_bce_0_4__hvr_0_4_1/split_2/train/image/_Image_06R_0_9.png  \n",
            "  inflating: chase_db_320_320_dice_bce_0_4__hvr_0_4_1/split_2/train/image/_Image_01L_1_11.png  \n",
            "  inflating: chase_db_320_320_dice_bce_0_4__hvr_0_4_1/split_2/train/image/_Image_13R_1_10.png  \n",
            "  inflating: chase_db_320_320_dice_bce_0_4__hvr_0_4_1/split_2/train/image/_Image_04R_1_3.png  \n",
            "  inflating: chase_db_320_320_dice_bce_0_4__hvr_0_4_1/split_2/train/image/_Image_05R_3_2.png  \n",
            "  inflating: chase_db_320_320_dice_bce_0_4__hvr_0_4_1/split_2/train/image/_Image_09R_1_3.png  \n",
            "  inflating: chase_db_320_320_dice_bce_0_4__hvr_0_4_1/split_2/train/image/_Image_02L_2_0.png  \n",
            "  inflating: chase_db_320_320_dice_bce_0_4__hvr_0_4_1/split_2/train/image/_Image_05R_3_6.png  \n",
            "  inflating: chase_db_320_320_dice_bce_0_4__hvr_0_4_1/split_2/train/image/_Image_04R_3_11.png  \n",
            "  inflating: chase_db_320_320_dice_bce_0_4__hvr_0_4_1/split_2/train/image/_Image_14R_0_8.png  \n",
            "  inflating: chase_db_320_320_dice_bce_0_4__hvr_0_4_1/split_2/train/image/_Image_03L_0_2.png  \n",
            "  inflating: chase_db_320_320_dice_bce_0_4__hvr_0_4_1/split_2/train/image/_Image_09L_1_6.png  \n",
            "  inflating: chase_db_320_320_dice_bce_0_4__hvr_0_4_1/split_2/train/image/_Image_09L_3_8.png  \n",
            "  inflating: chase_db_320_320_dice_bce_0_4__hvr_0_4_1/split_2/train/image/_Image_14L_0_9.png  \n",
            "  inflating: chase_db_320_320_dice_bce_0_4__hvr_0_4_1/split_2/train/image/_Image_06L_1_8.png  \n",
            "  inflating: chase_db_320_320_dice_bce_0_4__hvr_0_4_1/split_2/train/image/_Image_02R_0_11.png  \n",
            "  inflating: chase_db_320_320_dice_bce_0_4__hvr_0_4_1/split_2/train/image/_Image_09R_1_9.png  \n",
            "  inflating: chase_db_320_320_dice_bce_0_4__hvr_0_4_1/split_2/train/image/_Image_06L_3_6.png  \n",
            "  inflating: chase_db_320_320_dice_bce_0_4__hvr_0_4_1/split_2/train/image/_Image_14R_2_5.png  \n",
            "  inflating: chase_db_320_320_dice_bce_0_4__hvr_0_4_1/split_2/train/image/_Image_01L_2_10.png  \n",
            "  inflating: chase_db_320_320_dice_bce_0_4__hvr_0_4_1/split_2/train/image/_Image_02R_1_3.png  \n",
            "  inflating: chase_db_320_320_dice_bce_0_4__hvr_0_4_1/split_2/train/image/_Image_02R_2_9.png  \n",
            "  inflating: chase_db_320_320_dice_bce_0_4__hvr_0_4_1/split_2/train/image/_Image_04L_0_0.png  \n",
            "  inflating: chase_db_320_320_dice_bce_0_4__hvr_0_4_1/split_2/train/image/_Image_06L_2_10.png  \n",
            "  inflating: chase_db_320_320_dice_bce_0_4__hvr_0_4_1/split_2/train/image/_Image_10R_3_3.png  \n",
            "  inflating: chase_db_320_320_dice_bce_0_4__hvr_0_4_1/split_2/train/image/_Image_04R_0_7.png  \n",
            "  inflating: chase_db_320_320_dice_bce_0_4__hvr_0_4_1/split_2/train/image/_Image_09L_2_9.png  \n",
            "  inflating: chase_db_320_320_dice_bce_0_4__hvr_0_4_1/split_2/train/image/_Image_06R_0_7.png  \n",
            "  inflating: chase_db_320_320_dice_bce_0_4__hvr_0_4_1/split_2/train/image/_Image_09R_3_11.png  \n",
            "  inflating: chase_db_320_320_dice_bce_0_4__hvr_0_4_1/split_2/train/image/_Image_05L_2_7.png  \n",
            "  inflating: chase_db_320_320_dice_bce_0_4__hvr_0_4_1/split_2/train/image/_Image_04L_0_10.png  \n",
            "  inflating: chase_db_320_320_dice_bce_0_4__hvr_0_4_1/split_2/train/image/_Image_07R_2_5.png  \n",
            "  inflating: chase_db_320_320_dice_bce_0_4__hvr_0_4_1/split_2/train/image/_Image_06R_2_11.png  \n",
            "  inflating: chase_db_320_320_dice_bce_0_4__hvr_0_4_1/split_2/train/image/_Image_01R_0_7.png  \n",
            "  inflating: chase_db_320_320_dice_bce_0_4__hvr_0_4_1/split_2/train/image/_Image_06L_2_4.png  \n",
            "  inflating: chase_db_320_320_dice_bce_0_4__hvr_0_4_1/split_2/train/image/_Image_08R_0_5.png  \n",
            "  inflating: chase_db_320_320_dice_bce_0_4__hvr_0_4_1/split_2/train/image/_Image_05L_1_11.png  \n",
            "  inflating: chase_db_320_320_dice_bce_0_4__hvr_0_4_1/split_2/train/image/_Image_02R_3_11.png  \n",
            "  inflating: chase_db_320_320_dice_bce_0_4__hvr_0_4_1/split_2/train/image/_Image_14R_3_10.png  \n",
            "  inflating: chase_db_320_320_dice_bce_0_4__hvr_0_4_1/split_2/train/image/_Image_03R_0_0.png  \n",
            "  inflating: chase_db_320_320_dice_bce_0_4__hvr_0_4_1/split_2/train/image/_Image_01R_0_4.png  \n",
            "  inflating: chase_db_320_320_dice_bce_0_4__hvr_0_4_1/split_2/train/image/_Image_13R_1_1.png  \n",
            "  inflating: chase_db_320_320_dice_bce_0_4__hvr_0_4_1/split_2/train/image/_Image_05R_2_6.png  \n",
            "  inflating: chase_db_320_320_dice_bce_0_4__hvr_0_4_1/split_2/train/image/_Image_03L_3_4.png  \n",
            "  inflating: chase_db_320_320_dice_bce_0_4__hvr_0_4_1/split_2/train/image/_Image_09R_2_4.png  \n",
            "  inflating: chase_db_320_320_dice_bce_0_4__hvr_0_4_1/split_2/train/image/_Image_03L_3_0.png  \n",
            "  inflating: chase_db_320_320_dice_bce_0_4__hvr_0_4_1/split_2/train/image/_Image_04L_3_9.png  \n",
            "  inflating: chase_db_320_320_dice_bce_0_4__hvr_0_4_1/split_2/train/image/_Image_09R_2_6.png  \n",
            "  inflating: chase_db_320_320_dice_bce_0_4__hvr_0_4_1/split_2/train/image/_Image_04R_3_10.png  \n",
            "  inflating: chase_db_320_320_dice_bce_0_4__hvr_0_4_1/split_2/train/image/_Image_02R_2_11.png  \n",
            "  inflating: chase_db_320_320_dice_bce_0_4__hvr_0_4_1/split_2/train/image/_Image_03L_1_3.png  \n",
            "  inflating: chase_db_320_320_dice_bce_0_4__hvr_0_4_1/split_2/train/image/_Image_07R_2_6.png  \n",
            "  inflating: chase_db_320_320_dice_bce_0_4__hvr_0_4_1/split_2/train/image/_Image_04L_3_7.png  \n",
            "  inflating: chase_db_320_320_dice_bce_0_4__hvr_0_4_1/split_2/train/image/_Image_04L_1_4.png  \n",
            "  inflating: chase_db_320_320_dice_bce_0_4__hvr_0_4_1/split_2/train/image/_Image_04R_2_4.png  \n",
            "  inflating: chase_db_320_320_dice_bce_0_4__hvr_0_4_1/split_2/train/image/_Image_04R_3_1.png  \n",
            "  inflating: chase_db_320_320_dice_bce_0_4__hvr_0_4_1/split_2/train/image/_Image_06R_1_6.png  \n",
            "  inflating: chase_db_320_320_dice_bce_0_4__hvr_0_4_1/split_2/train/image/_Image_02L_0_7.png  \n",
            "  inflating: chase_db_320_320_dice_bce_0_4__hvr_0_4_1/split_2/train/image/_Image_10R_0_2.png  \n",
            "  inflating: chase_db_320_320_dice_bce_0_4__hvr_0_4_1/split_2/train/image/_Image_02L_0_9.png  \n",
            "  inflating: chase_db_320_320_dice_bce_0_4__hvr_0_4_1/split_2/train/image/_Image_10L_3_11.png  \n",
            "  inflating: chase_db_320_320_dice_bce_0_4__hvr_0_4_1/split_2/train/image/_Image_09R_2_5.png  \n",
            "  inflating: chase_db_320_320_dice_bce_0_4__hvr_0_4_1/split_2/train/image/_Image_10R_1_11.png  \n",
            "  inflating: chase_db_320_320_dice_bce_0_4__hvr_0_4_1/split_2/train/image/_Image_13R_0_4.png  \n",
            "  inflating: chase_db_320_320_dice_bce_0_4__hvr_0_4_1/split_2/train/image/_Image_01L_0_11.png  \n",
            "  inflating: chase_db_320_320_dice_bce_0_4__hvr_0_4_1/split_2/train/image/_Image_05L_2_9.png  \n",
            "  inflating: chase_db_320_320_dice_bce_0_4__hvr_0_4_1/split_2/train/image/_Image_05L_1_4.png  \n",
            "  inflating: chase_db_320_320_dice_bce_0_4__hvr_0_4_1/split_2/train/image/_Image_13R_0_6.png  \n",
            "  inflating: chase_db_320_320_dice_bce_0_4__hvr_0_4_1/split_2/train/image/_Image_02L_2_9.png  \n",
            "  inflating: chase_db_320_320_dice_bce_0_4__hvr_0_4_1/split_2/train/image/_Image_06R_1_4.png  \n",
            "   creating: chase_db_320_320_dice_bce_0_4__hvr_0_4_1/results_reconstructed/\n",
            "   creating: chase_db_320_320_dice_bce_0_4__hvr_0_4_1/augmented/\n",
            "   creating: chase_db_320_320_dice_bce_0_4__hvr_0_4_1/augmented/train/\n",
            "   creating: chase_db_320_320_dice_bce_0_4__hvr_0_4_1/augmented/train/mask/\n",
            "  inflating: chase_db_320_320_dice_bce_0_4__hvr_0_4_1/augmented/train/mask/Image_09L_3.png  \n",
            "  inflating: chase_db_320_320_dice_bce_0_4__hvr_0_4_1/augmented/train/mask/Image_06L_0.png  \n",
            "  inflating: chase_db_320_320_dice_bce_0_4__hvr_0_4_1/augmented/train/mask/Image_08L_3.png  \n",
            "  inflating: chase_db_320_320_dice_bce_0_4__hvr_0_4_1/augmented/train/mask/Image_03R_2.png  \n",
            "  inflating: chase_db_320_320_dice_bce_0_4__hvr_0_4_1/augmented/train/mask/Image_09R_0.png  \n",
            "  inflating: chase_db_320_320_dice_bce_0_4__hvr_0_4_1/augmented/train/mask/Image_09L_2.png  \n",
            "  inflating: chase_db_320_320_dice_bce_0_4__hvr_0_4_1/augmented/train/mask/Image_10R_2.png  \n",
            "  inflating: chase_db_320_320_dice_bce_0_4__hvr_0_4_1/augmented/train/mask/Image_07R_2.png  \n",
            "  inflating: chase_db_320_320_dice_bce_0_4__hvr_0_4_1/augmented/train/mask/Image_01L_0.png  \n",
            "  inflating: chase_db_320_320_dice_bce_0_4__hvr_0_4_1/augmented/train/mask/Image_04L_2.png  \n",
            "  inflating: chase_db_320_320_dice_bce_0_4__hvr_0_4_1/augmented/train/mask/Image_08R_2.png  \n",
            "  inflating: chase_db_320_320_dice_bce_0_4__hvr_0_4_1/augmented/train/mask/Image_10L_1.png  \n",
            "  inflating: chase_db_320_320_dice_bce_0_4__hvr_0_4_1/augmented/train/mask/Image_10R_1.png  \n",
            "  inflating: chase_db_320_320_dice_bce_0_4__hvr_0_4_1/augmented/train/mask/Image_03L_3.png  \n",
            "  inflating: chase_db_320_320_dice_bce_0_4__hvr_0_4_1/augmented/train/mask/Image_06L_3.png  \n",
            "  inflating: chase_db_320_320_dice_bce_0_4__hvr_0_4_1/augmented/train/mask/Image_09L_0.png  \n",
            "  inflating: chase_db_320_320_dice_bce_0_4__hvr_0_4_1/augmented/train/mask/Image_13R_0.png  \n",
            "  inflating: chase_db_320_320_dice_bce_0_4__hvr_0_4_1/augmented/train/mask/Image_06R_1.png  \n",
            "  inflating: chase_db_320_320_dice_bce_0_4__hvr_0_4_1/augmented/train/mask/Image_01L_2.png  \n",
            "  inflating: chase_db_320_320_dice_bce_0_4__hvr_0_4_1/augmented/train/mask/Image_02L_0.png  \n",
            "  inflating: chase_db_320_320_dice_bce_0_4__hvr_0_4_1/augmented/train/mask/Image_07L_3.png  \n",
            "  inflating: chase_db_320_320_dice_bce_0_4__hvr_0_4_1/augmented/train/mask/Image_05R_2.png  \n",
            "  inflating: chase_db_320_320_dice_bce_0_4__hvr_0_4_1/augmented/train/mask/Image_08R_1.png  \n",
            "  inflating: chase_db_320_320_dice_bce_0_4__hvr_0_4_1/augmented/train/mask/Image_07L_1.png  \n",
            "  inflating: chase_db_320_320_dice_bce_0_4__hvr_0_4_1/augmented/train/mask/Image_04L_3.png  \n",
            "  inflating: chase_db_320_320_dice_bce_0_4__hvr_0_4_1/augmented/train/mask/Image_02L_3.png  \n",
            "  inflating: chase_db_320_320_dice_bce_0_4__hvr_0_4_1/augmented/train/mask/Image_09R_3.png  \n",
            "  inflating: chase_db_320_320_dice_bce_0_4__hvr_0_4_1/augmented/train/mask/Image_10R_0.png  \n",
            "  inflating: chase_db_320_320_dice_bce_0_4__hvr_0_4_1/augmented/train/mask/Image_06L_1.png  \n",
            "  inflating: chase_db_320_320_dice_bce_0_4__hvr_0_4_1/augmented/train/mask/Image_05R_0.png  \n",
            "  inflating: chase_db_320_320_dice_bce_0_4__hvr_0_4_1/augmented/train/mask/Image_14R_2.png  \n",
            "  inflating: chase_db_320_320_dice_bce_0_4__hvr_0_4_1/augmented/train/mask/Image_09R_1.png  \n",
            "  inflating: chase_db_320_320_dice_bce_0_4__hvr_0_4_1/augmented/train/mask/Image_08L_2.png  \n",
            "  inflating: chase_db_320_320_dice_bce_0_4__hvr_0_4_1/augmented/train/mask/Image_06R_3.png  \n",
            "  inflating: chase_db_320_320_dice_bce_0_4__hvr_0_4_1/augmented/train/mask/Image_14R_1.png  \n",
            "  inflating: chase_db_320_320_dice_bce_0_4__hvr_0_4_1/augmented/train/mask/Image_03R_0.png  \n",
            "  inflating: chase_db_320_320_dice_bce_0_4__hvr_0_4_1/augmented/train/mask/Image_13R_1.png  \n",
            "  inflating: chase_db_320_320_dice_bce_0_4__hvr_0_4_1/augmented/train/mask/Image_06L_2.png  \n",
            "  inflating: chase_db_320_320_dice_bce_0_4__hvr_0_4_1/augmented/train/mask/Image_01R_0.png  \n",
            "  inflating: chase_db_320_320_dice_bce_0_4__hvr_0_4_1/augmented/train/mask/Image_01L_3.png  \n",
            "  inflating: chase_db_320_320_dice_bce_0_4__hvr_0_4_1/augmented/train/mask/Image_02L_2.png  \n",
            "  inflating: chase_db_320_320_dice_bce_0_4__hvr_0_4_1/augmented/train/mask/Image_13R_2.png  \n",
            "  inflating: chase_db_320_320_dice_bce_0_4__hvr_0_4_1/augmented/train/mask/Image_05R_3.png  \n",
            "  inflating: chase_db_320_320_dice_bce_0_4__hvr_0_4_1/augmented/train/mask/Image_14R_0.png  \n",
            "  inflating: chase_db_320_320_dice_bce_0_4__hvr_0_4_1/augmented/train/mask/Image_08L_0.png  \n",
            "  inflating: chase_db_320_320_dice_bce_0_4__hvr_0_4_1/augmented/train/mask/Image_07L_0.png  \n",
            "  inflating: chase_db_320_320_dice_bce_0_4__hvr_0_4_1/augmented/train/mask/Image_01R_3.png  \n",
            "  inflating: chase_db_320_320_dice_bce_0_4__hvr_0_4_1/augmented/train/mask/Image_01L_1.png  \n",
            "  inflating: chase_db_320_320_dice_bce_0_4__hvr_0_4_1/augmented/train/mask/Image_10L_2.png  \n",
            "  inflating: chase_db_320_320_dice_bce_0_4__hvr_0_4_1/augmented/train/mask/Image_05L_1.png  \n",
            "  inflating: chase_db_320_320_dice_bce_0_4__hvr_0_4_1/augmented/train/mask/Image_02R_1.png  \n",
            "  inflating: chase_db_320_320_dice_bce_0_4__hvr_0_4_1/augmented/train/mask/Image_10L_3.png  \n",
            "  inflating: chase_db_320_320_dice_bce_0_4__hvr_0_4_1/augmented/train/mask/Image_04L_1.png  \n",
            "  inflating: chase_db_320_320_dice_bce_0_4__hvr_0_4_1/augmented/train/mask/Image_04R_2.png  \n",
            "  inflating: chase_db_320_320_dice_bce_0_4__hvr_0_4_1/augmented/train/mask/Image_04R_1.png  \n",
            "  inflating: chase_db_320_320_dice_bce_0_4__hvr_0_4_1/augmented/train/mask/Image_05R_1.png  \n",
            "  inflating: chase_db_320_320_dice_bce_0_4__hvr_0_4_1/augmented/train/mask/Image_05L_3.png  \n",
            "  inflating: chase_db_320_320_dice_bce_0_4__hvr_0_4_1/augmented/train/mask/Image_01R_2.png  \n",
            "  inflating: chase_db_320_320_dice_bce_0_4__hvr_0_4_1/augmented/train/mask/Image_03R_3.png  \n",
            "  inflating: chase_db_320_320_dice_bce_0_4__hvr_0_4_1/augmented/train/mask/Image_14R_3.png  \n",
            "  inflating: chase_db_320_320_dice_bce_0_4__hvr_0_4_1/augmented/train/mask/Image_07L_2.png  \n",
            "  inflating: chase_db_320_320_dice_bce_0_4__hvr_0_4_1/augmented/train/mask/Image_02R_0.png  \n",
            "  inflating: chase_db_320_320_dice_bce_0_4__hvr_0_4_1/augmented/train/mask/Image_14L_2.png  \n",
            "  inflating: chase_db_320_320_dice_bce_0_4__hvr_0_4_1/augmented/train/mask/Image_02L_1.png  \n",
            "  inflating: chase_db_320_320_dice_bce_0_4__hvr_0_4_1/augmented/train/mask/Image_02R_2.png  \n",
            "  inflating: chase_db_320_320_dice_bce_0_4__hvr_0_4_1/augmented/train/mask/Image_01R_1.png  \n",
            "  inflating: chase_db_320_320_dice_bce_0_4__hvr_0_4_1/augmented/train/mask/Image_03L_2.png  \n",
            "  inflating: chase_db_320_320_dice_bce_0_4__hvr_0_4_1/augmented/train/mask/Image_10R_3.png  \n",
            "  inflating: chase_db_320_320_dice_bce_0_4__hvr_0_4_1/augmented/train/mask/Image_04R_3.png  \n",
            "  inflating: chase_db_320_320_dice_bce_0_4__hvr_0_4_1/augmented/train/mask/Image_14L_3.png  \n",
            "  inflating: chase_db_320_320_dice_bce_0_4__hvr_0_4_1/augmented/train/mask/Image_02R_3.png  \n",
            "  inflating: chase_db_320_320_dice_bce_0_4__hvr_0_4_1/augmented/train/mask/Image_14L_1.png  \n",
            "  inflating: chase_db_320_320_dice_bce_0_4__hvr_0_4_1/augmented/train/mask/Image_05L_0.png  \n",
            "  inflating: chase_db_320_320_dice_bce_0_4__hvr_0_4_1/augmented/train/mask/Image_03L_1.png  \n",
            "  inflating: chase_db_320_320_dice_bce_0_4__hvr_0_4_1/augmented/train/mask/Image_05L_2.png  \n",
            "  inflating: chase_db_320_320_dice_bce_0_4__hvr_0_4_1/augmented/train/mask/Image_10L_0.png  \n",
            "  inflating: chase_db_320_320_dice_bce_0_4__hvr_0_4_1/augmented/train/mask/Image_04R_0.png  \n",
            "  inflating: chase_db_320_320_dice_bce_0_4__hvr_0_4_1/augmented/train/mask/Image_08R_3.png  \n",
            "  inflating: chase_db_320_320_dice_bce_0_4__hvr_0_4_1/augmented/train/mask/Image_07R_3.png  \n",
            "  inflating: chase_db_320_320_dice_bce_0_4__hvr_0_4_1/augmented/train/mask/Image_04L_0.png  \n",
            "  inflating: chase_db_320_320_dice_bce_0_4__hvr_0_4_1/augmented/train/mask/Image_09R_2.png  \n",
            "  inflating: chase_db_320_320_dice_bce_0_4__hvr_0_4_1/augmented/train/mask/Image_07R_0.png  \n",
            "  inflating: chase_db_320_320_dice_bce_0_4__hvr_0_4_1/augmented/train/mask/Image_14L_0.png  \n",
            "  inflating: chase_db_320_320_dice_bce_0_4__hvr_0_4_1/augmented/train/mask/Image_08L_1.png  \n",
            "  inflating: chase_db_320_320_dice_bce_0_4__hvr_0_4_1/augmented/train/mask/Image_03R_1.png  \n",
            "  inflating: chase_db_320_320_dice_bce_0_4__hvr_0_4_1/augmented/train/mask/Image_07R_1.png  \n",
            "  inflating: chase_db_320_320_dice_bce_0_4__hvr_0_4_1/augmented/train/mask/Image_08R_0.png  \n",
            "  inflating: chase_db_320_320_dice_bce_0_4__hvr_0_4_1/augmented/train/mask/Image_09L_1.png  \n",
            "  inflating: chase_db_320_320_dice_bce_0_4__hvr_0_4_1/augmented/train/mask/Image_13R_3.png  \n",
            "  inflating: chase_db_320_320_dice_bce_0_4__hvr_0_4_1/augmented/train/mask/Image_06R_0.png  \n",
            "  inflating: chase_db_320_320_dice_bce_0_4__hvr_0_4_1/augmented/train/mask/Image_06R_2.png  \n",
            "  inflating: chase_db_320_320_dice_bce_0_4__hvr_0_4_1/augmented/train/mask/Image_03L_0.png  \n",
            "   creating: chase_db_320_320_dice_bce_0_4__hvr_0_4_1/augmented/train/image/\n",
            "  inflating: chase_db_320_320_dice_bce_0_4__hvr_0_4_1/augmented/train/image/Image_09L_3.png  \n",
            "  inflating: chase_db_320_320_dice_bce_0_4__hvr_0_4_1/augmented/train/image/Image_06L_0.png  \n",
            "  inflating: chase_db_320_320_dice_bce_0_4__hvr_0_4_1/augmented/train/image/Image_08L_3.png  \n",
            "  inflating: chase_db_320_320_dice_bce_0_4__hvr_0_4_1/augmented/train/image/Image_03R_2.png  \n",
            "  inflating: chase_db_320_320_dice_bce_0_4__hvr_0_4_1/augmented/train/image/Image_09R_0.png  \n",
            "  inflating: chase_db_320_320_dice_bce_0_4__hvr_0_4_1/augmented/train/image/Image_09L_2.png  \n",
            "  inflating: chase_db_320_320_dice_bce_0_4__hvr_0_4_1/augmented/train/image/Image_10R_2.png  \n",
            "  inflating: chase_db_320_320_dice_bce_0_4__hvr_0_4_1/augmented/train/image/Image_07R_2.png  \n",
            "  inflating: chase_db_320_320_dice_bce_0_4__hvr_0_4_1/augmented/train/image/Image_01L_0.png  \n",
            "  inflating: chase_db_320_320_dice_bce_0_4__hvr_0_4_1/augmented/train/image/Image_04L_2.png  \n",
            "  inflating: chase_db_320_320_dice_bce_0_4__hvr_0_4_1/augmented/train/image/Image_08R_2.png  \n",
            "  inflating: chase_db_320_320_dice_bce_0_4__hvr_0_4_1/augmented/train/image/Image_10L_1.png  \n",
            "  inflating: chase_db_320_320_dice_bce_0_4__hvr_0_4_1/augmented/train/image/Image_10R_1.png  \n",
            "  inflating: chase_db_320_320_dice_bce_0_4__hvr_0_4_1/augmented/train/image/Image_03L_3.png  \n",
            "  inflating: chase_db_320_320_dice_bce_0_4__hvr_0_4_1/augmented/train/image/Image_06L_3.png  \n",
            "  inflating: chase_db_320_320_dice_bce_0_4__hvr_0_4_1/augmented/train/image/Image_09L_0.png  \n",
            "  inflating: chase_db_320_320_dice_bce_0_4__hvr_0_4_1/augmented/train/image/Image_13R_0.png  \n",
            "  inflating: chase_db_320_320_dice_bce_0_4__hvr_0_4_1/augmented/train/image/Image_06R_1.png  \n",
            "  inflating: chase_db_320_320_dice_bce_0_4__hvr_0_4_1/augmented/train/image/Image_01L_2.png  \n",
            "  inflating: chase_db_320_320_dice_bce_0_4__hvr_0_4_1/augmented/train/image/Image_02L_0.png  \n",
            "  inflating: chase_db_320_320_dice_bce_0_4__hvr_0_4_1/augmented/train/image/Image_07L_3.png  \n",
            "  inflating: chase_db_320_320_dice_bce_0_4__hvr_0_4_1/augmented/train/image/Image_05R_2.png  \n",
            "  inflating: chase_db_320_320_dice_bce_0_4__hvr_0_4_1/augmented/train/image/Image_08R_1.png  \n",
            "  inflating: chase_db_320_320_dice_bce_0_4__hvr_0_4_1/augmented/train/image/Image_07L_1.png  \n",
            "  inflating: chase_db_320_320_dice_bce_0_4__hvr_0_4_1/augmented/train/image/Image_04L_3.png  \n",
            "  inflating: chase_db_320_320_dice_bce_0_4__hvr_0_4_1/augmented/train/image/Image_02L_3.png  \n",
            "  inflating: chase_db_320_320_dice_bce_0_4__hvr_0_4_1/augmented/train/image/Image_09R_3.png  \n",
            "  inflating: chase_db_320_320_dice_bce_0_4__hvr_0_4_1/augmented/train/image/Image_10R_0.png  \n",
            "  inflating: chase_db_320_320_dice_bce_0_4__hvr_0_4_1/augmented/train/image/Image_06L_1.png  \n",
            "  inflating: chase_db_320_320_dice_bce_0_4__hvr_0_4_1/augmented/train/image/Image_05R_0.png  \n",
            "  inflating: chase_db_320_320_dice_bce_0_4__hvr_0_4_1/augmented/train/image/Image_14R_2.png  \n",
            "  inflating: chase_db_320_320_dice_bce_0_4__hvr_0_4_1/augmented/train/image/Image_09R_1.png  \n",
            "  inflating: chase_db_320_320_dice_bce_0_4__hvr_0_4_1/augmented/train/image/Image_08L_2.png  \n",
            "  inflating: chase_db_320_320_dice_bce_0_4__hvr_0_4_1/augmented/train/image/Image_06R_3.png  \n",
            "  inflating: chase_db_320_320_dice_bce_0_4__hvr_0_4_1/augmented/train/image/Image_14R_1.png  \n",
            "  inflating: chase_db_320_320_dice_bce_0_4__hvr_0_4_1/augmented/train/image/Image_03R_0.png  \n",
            "  inflating: chase_db_320_320_dice_bce_0_4__hvr_0_4_1/augmented/train/image/Image_13R_1.png  \n",
            "  inflating: chase_db_320_320_dice_bce_0_4__hvr_0_4_1/augmented/train/image/Image_06L_2.png  \n",
            "  inflating: chase_db_320_320_dice_bce_0_4__hvr_0_4_1/augmented/train/image/Image_01R_0.png  \n",
            "  inflating: chase_db_320_320_dice_bce_0_4__hvr_0_4_1/augmented/train/image/Image_01L_3.png  \n",
            "  inflating: chase_db_320_320_dice_bce_0_4__hvr_0_4_1/augmented/train/image/Image_02L_2.png  \n",
            "  inflating: chase_db_320_320_dice_bce_0_4__hvr_0_4_1/augmented/train/image/Image_13R_2.png  \n",
            "  inflating: chase_db_320_320_dice_bce_0_4__hvr_0_4_1/augmented/train/image/Image_05R_3.png  \n",
            "  inflating: chase_db_320_320_dice_bce_0_4__hvr_0_4_1/augmented/train/image/Image_14R_0.png  \n",
            "  inflating: chase_db_320_320_dice_bce_0_4__hvr_0_4_1/augmented/train/image/Image_08L_0.png  \n",
            "  inflating: chase_db_320_320_dice_bce_0_4__hvr_0_4_1/augmented/train/image/Image_07L_0.png  \n",
            "  inflating: chase_db_320_320_dice_bce_0_4__hvr_0_4_1/augmented/train/image/Image_01R_3.png  \n",
            "  inflating: chase_db_320_320_dice_bce_0_4__hvr_0_4_1/augmented/train/image/Image_01L_1.png  \n",
            "  inflating: chase_db_320_320_dice_bce_0_4__hvr_0_4_1/augmented/train/image/Image_10L_2.png  \n",
            "  inflating: chase_db_320_320_dice_bce_0_4__hvr_0_4_1/augmented/train/image/Image_05L_1.png  \n",
            "  inflating: chase_db_320_320_dice_bce_0_4__hvr_0_4_1/augmented/train/image/Image_02R_1.png  \n",
            "  inflating: chase_db_320_320_dice_bce_0_4__hvr_0_4_1/augmented/train/image/Image_10L_3.png  \n",
            "  inflating: chase_db_320_320_dice_bce_0_4__hvr_0_4_1/augmented/train/image/Image_04L_1.png  \n",
            "  inflating: chase_db_320_320_dice_bce_0_4__hvr_0_4_1/augmented/train/image/Image_04R_2.png  \n",
            "  inflating: chase_db_320_320_dice_bce_0_4__hvr_0_4_1/augmented/train/image/Image_04R_1.png  \n",
            "  inflating: chase_db_320_320_dice_bce_0_4__hvr_0_4_1/augmented/train/image/Image_05R_1.png  \n",
            "  inflating: chase_db_320_320_dice_bce_0_4__hvr_0_4_1/augmented/train/image/Image_05L_3.png  \n",
            "  inflating: chase_db_320_320_dice_bce_0_4__hvr_0_4_1/augmented/train/image/Image_01R_2.png  \n",
            "  inflating: chase_db_320_320_dice_bce_0_4__hvr_0_4_1/augmented/train/image/Image_03R_3.png  \n",
            "  inflating: chase_db_320_320_dice_bce_0_4__hvr_0_4_1/augmented/train/image/Image_14R_3.png  \n",
            "  inflating: chase_db_320_320_dice_bce_0_4__hvr_0_4_1/augmented/train/image/Image_07L_2.png  \n",
            "  inflating: chase_db_320_320_dice_bce_0_4__hvr_0_4_1/augmented/train/image/Image_02R_0.png  \n",
            "  inflating: chase_db_320_320_dice_bce_0_4__hvr_0_4_1/augmented/train/image/Image_14L_2.png  \n",
            "  inflating: chase_db_320_320_dice_bce_0_4__hvr_0_4_1/augmented/train/image/Image_02L_1.png  \n",
            "  inflating: chase_db_320_320_dice_bce_0_4__hvr_0_4_1/augmented/train/image/Image_02R_2.png  \n",
            "  inflating: chase_db_320_320_dice_bce_0_4__hvr_0_4_1/augmented/train/image/Image_01R_1.png  \n",
            "  inflating: chase_db_320_320_dice_bce_0_4__hvr_0_4_1/augmented/train/image/Image_03L_2.png  \n",
            "  inflating: chase_db_320_320_dice_bce_0_4__hvr_0_4_1/augmented/train/image/Image_10R_3.png  \n",
            "  inflating: chase_db_320_320_dice_bce_0_4__hvr_0_4_1/augmented/train/image/Image_04R_3.png  \n",
            "  inflating: chase_db_320_320_dice_bce_0_4__hvr_0_4_1/augmented/train/image/Image_14L_3.png  \n",
            "  inflating: chase_db_320_320_dice_bce_0_4__hvr_0_4_1/augmented/train/image/Image_02R_3.png  \n",
            "  inflating: chase_db_320_320_dice_bce_0_4__hvr_0_4_1/augmented/train/image/Image_14L_1.png  \n",
            "  inflating: chase_db_320_320_dice_bce_0_4__hvr_0_4_1/augmented/train/image/Image_05L_0.png  \n",
            "  inflating: chase_db_320_320_dice_bce_0_4__hvr_0_4_1/augmented/train/image/Image_03L_1.png  \n",
            "  inflating: chase_db_320_320_dice_bce_0_4__hvr_0_4_1/augmented/train/image/Image_05L_2.png  \n",
            "  inflating: chase_db_320_320_dice_bce_0_4__hvr_0_4_1/augmented/train/image/Image_10L_0.png  \n",
            "  inflating: chase_db_320_320_dice_bce_0_4__hvr_0_4_1/augmented/train/image/Image_04R_0.png  \n",
            "  inflating: chase_db_320_320_dice_bce_0_4__hvr_0_4_1/augmented/train/image/Image_08R_3.png  \n",
            "  inflating: chase_db_320_320_dice_bce_0_4__hvr_0_4_1/augmented/train/image/Image_07R_3.png  \n",
            "  inflating: chase_db_320_320_dice_bce_0_4__hvr_0_4_1/augmented/train/image/Image_04L_0.png  \n",
            "  inflating: chase_db_320_320_dice_bce_0_4__hvr_0_4_1/augmented/train/image/Image_09R_2.png  \n",
            "  inflating: chase_db_320_320_dice_bce_0_4__hvr_0_4_1/augmented/train/image/Image_07R_0.png  \n",
            "  inflating: chase_db_320_320_dice_bce_0_4__hvr_0_4_1/augmented/train/image/Image_14L_0.png  \n",
            "  inflating: chase_db_320_320_dice_bce_0_4__hvr_0_4_1/augmented/train/image/Image_08L_1.png  \n",
            "  inflating: chase_db_320_320_dice_bce_0_4__hvr_0_4_1/augmented/train/image/Image_03R_1.png  \n",
            "  inflating: chase_db_320_320_dice_bce_0_4__hvr_0_4_1/augmented/train/image/Image_07R_1.png  \n",
            "  inflating: chase_db_320_320_dice_bce_0_4__hvr_0_4_1/augmented/train/image/Image_08R_0.png  \n",
            "  inflating: chase_db_320_320_dice_bce_0_4__hvr_0_4_1/augmented/train/image/Image_09L_1.png  \n",
            "  inflating: chase_db_320_320_dice_bce_0_4__hvr_0_4_1/augmented/train/image/Image_13R_3.png  \n",
            "  inflating: chase_db_320_320_dice_bce_0_4__hvr_0_4_1/augmented/train/image/Image_06R_0.png  \n",
            "  inflating: chase_db_320_320_dice_bce_0_4__hvr_0_4_1/augmented/train/image/Image_06R_2.png  \n",
            "  inflating: chase_db_320_320_dice_bce_0_4__hvr_0_4_1/augmented/train/image/Image_03L_0.png  \n",
            "   creating: chase_db_320_320_dice_bce_0_4__hvr_0_4_1/results/\n",
            "  inflating: chase_db_320_320_dice_bce_0_4__hvr_0_4_1/results/_Image_11R_3.png  \n",
            "  inflating: chase_db_320_320_dice_bce_0_4__hvr_0_4_1/results/_Image_12R_1.png  \n",
            "  inflating: chase_db_320_320_dice_bce_0_4__hvr_0_4_1/results/_Image_11L_6.png  \n",
            "  inflating: chase_db_320_320_dice_bce_0_4__hvr_0_4_1/results/_Image_13L_9.png  \n",
            "  inflating: chase_db_320_320_dice_bce_0_4__hvr_0_4_1/results/_Image_11R_9.png  \n",
            "  inflating: chase_db_320_320_dice_bce_0_4__hvr_0_4_1/results/_Image_12L_9.png  \n",
            "  inflating: chase_db_320_320_dice_bce_0_4__hvr_0_4_1/results/score_full_0_5.csv  \n",
            "  inflating: chase_db_320_320_dice_bce_0_4__hvr_0_4_1/results/_Image_11R_0.png  \n",
            "  inflating: chase_db_320_320_dice_bce_0_4__hvr_0_4_1/results/_Image_11L_2.png  \n",
            "  inflating: chase_db_320_320_dice_bce_0_4__hvr_0_4_1/results/_Image_13L_3.png  \n",
            "  inflating: chase_db_320_320_dice_bce_0_4__hvr_0_4_1/results/_Image_11R_8.png  \n",
            "  inflating: chase_db_320_320_dice_bce_0_4__hvr_0_4_1/results/_Image_12L_7.png  \n",
            "  inflating: chase_db_320_320_dice_bce_0_4__hvr_0_4_1/results/_Image_11L_1.png  \n",
            "  inflating: chase_db_320_320_dice_bce_0_4__hvr_0_4_1/results/_Image_13L_8.png  \n",
            "  inflating: chase_db_320_320_dice_bce_0_4__hvr_0_4_1/results/score_full_0_4.csv  \n",
            "  inflating: chase_db_320_320_dice_bce_0_4__hvr_0_4_1/results/_Image_12R_2.png  \n",
            "  inflating: chase_db_320_320_dice_bce_0_4__hvr_0_4_1/results/_Image_12L_3.png  \n",
            "  inflating: chase_db_320_320_dice_bce_0_4__hvr_0_4_1/results/_Image_12R_4.png  \n",
            "  inflating: chase_db_320_320_dice_bce_0_4__hvr_0_4_1/results/_Image_12L_11.png  \n",
            "  inflating: chase_db_320_320_dice_bce_0_4__hvr_0_4_1/results/score.csv  \n",
            "  inflating: chase_db_320_320_dice_bce_0_4__hvr_0_4_1/results/_Image_13L_0.png  \n",
            "  inflating: chase_db_320_320_dice_bce_0_4__hvr_0_4_1/results/_Image_11R_1.png  \n",
            "  inflating: chase_db_320_320_dice_bce_0_4__hvr_0_4_1/results/_Image_12R_7.png  \n",
            "  inflating: chase_db_320_320_dice_bce_0_4__hvr_0_4_1/results/_Image_13L_6.png  \n",
            "  inflating: chase_db_320_320_dice_bce_0_4__hvr_0_4_1/results/_Image_13L_4.png  \n",
            "  inflating: chase_db_320_320_dice_bce_0_4__hvr_0_4_1/results/_Image_13L_10.png  \n",
            "  inflating: chase_db_320_320_dice_bce_0_4__hvr_0_4_1/results/_Image_12L_1.png  \n",
            "  inflating: chase_db_320_320_dice_bce_0_4__hvr_0_4_1/results/_Image_12R_8.png  \n",
            "  inflating: chase_db_320_320_dice_bce_0_4__hvr_0_4_1/results/_Image_11R_10.png  \n",
            "  inflating: chase_db_320_320_dice_bce_0_4__hvr_0_4_1/results/_Image_12L_8.png  \n",
            "  inflating: chase_db_320_320_dice_bce_0_4__hvr_0_4_1/results/_Image_12L_5.png  \n",
            "  inflating: chase_db_320_320_dice_bce_0_4__hvr_0_4_1/results/_Image_13L_5.png  \n",
            "  inflating: chase_db_320_320_dice_bce_0_4__hvr_0_4_1/results/_Image_11L_9.png  \n",
            "  inflating: chase_db_320_320_dice_bce_0_4__hvr_0_4_1/results/_Image_11L_4.png  \n",
            "  inflating: chase_db_320_320_dice_bce_0_4__hvr_0_4_1/results/_Image_11L_7.png  \n",
            "  inflating: chase_db_320_320_dice_bce_0_4__hvr_0_4_1/results/score_full_0_6.csv  \n",
            "  inflating: chase_db_320_320_dice_bce_0_4__hvr_0_4_1/results/_Image_12L_10.png  \n",
            "  inflating: chase_db_320_320_dice_bce_0_4__hvr_0_4_1/results/_Image_11L_0.png  \n",
            "  inflating: chase_db_320_320_dice_bce_0_4__hvr_0_4_1/results/_Image_11L_8.png  \n",
            "  inflating: chase_db_320_320_dice_bce_0_4__hvr_0_4_1/results/_Image_12R_11.png  \n",
            "  inflating: chase_db_320_320_dice_bce_0_4__hvr_0_4_1/results/_Image_12L_4.png  \n",
            "  inflating: chase_db_320_320_dice_bce_0_4__hvr_0_4_1/results/_Image_11L_5.png  \n",
            "  inflating: chase_db_320_320_dice_bce_0_4__hvr_0_4_1/results/_Image_11R_11.png  \n",
            "  inflating: chase_db_320_320_dice_bce_0_4__hvr_0_4_1/results/_Image_11R_2.png  \n",
            "  inflating: chase_db_320_320_dice_bce_0_4__hvr_0_4_1/results/_Image_11L_10.png  \n",
            "  inflating: chase_db_320_320_dice_bce_0_4__hvr_0_4_1/results/_Image_12R_10.png  \n",
            "  inflating: chase_db_320_320_dice_bce_0_4__hvr_0_4_1/results/_Image_12R_5.png  \n",
            "  inflating: chase_db_320_320_dice_bce_0_4__hvr_0_4_1/results/_Image_12R_0.png  \n",
            "  inflating: chase_db_320_320_dice_bce_0_4__hvr_0_4_1/results/_Image_11R_7.png  \n",
            "  inflating: chase_db_320_320_dice_bce_0_4__hvr_0_4_1/results/_Image_12R_9.png  \n",
            "  inflating: chase_db_320_320_dice_bce_0_4__hvr_0_4_1/results/_Image_13L_2.png  \n",
            "  inflating: chase_db_320_320_dice_bce_0_4__hvr_0_4_1/results/_Image_11L_3.png  \n",
            "  inflating: chase_db_320_320_dice_bce_0_4__hvr_0_4_1/results/_Image_12R_6.png  \n",
            "  inflating: chase_db_320_320_dice_bce_0_4__hvr_0_4_1/results/_Image_12L_6.png  \n",
            "  inflating: chase_db_320_320_dice_bce_0_4__hvr_0_4_1/results/_Image_12R_3.png  \n",
            "  inflating: chase_db_320_320_dice_bce_0_4__hvr_0_4_1/results/_Image_13L_11.png  \n",
            "  inflating: chase_db_320_320_dice_bce_0_4__hvr_0_4_1/results/_Image_13L_1.png  \n",
            "  inflating: chase_db_320_320_dice_bce_0_4__hvr_0_4_1/results/_Image_11R_4.png  \n",
            "  inflating: chase_db_320_320_dice_bce_0_4__hvr_0_4_1/results/_Image_12L_0.png  \n",
            "  inflating: chase_db_320_320_dice_bce_0_4__hvr_0_4_1/results/_Image_12L_2.png  \n",
            "  inflating: chase_db_320_320_dice_bce_0_4__hvr_0_4_1/results/_Image_11R_6.png  \n",
            "  inflating: chase_db_320_320_dice_bce_0_4__hvr_0_4_1/results/_Image_13L_7.png  \n",
            "  inflating: chase_db_320_320_dice_bce_0_4__hvr_0_4_1/results/_Image_11R_5.png  \n",
            "  inflating: chase_db_320_320_dice_bce_0_4__hvr_0_4_1/results/_Image_11L_11.png  \n",
            "   creating: chase_db_320_320_dice_bce_0_4__hvr_0_4_1/trained_models/\n",
            "  inflating: chase_db_320_320_dice_bce_0_4__hvr_0_4_1/trained_models/data.csv  \n",
            "  inflating: chase_db_320_320_dice_bce_0_4__hvr_0_4_1/trained_models/model.h5  \n",
            "   creating: chase_db_320_320_dice_bce_0_4__hvr_0_4_1/predictions/\n",
            "  inflating: chase_db_320_320_dice_bce_0_4__hvr_0_4_1/predictions/_Image_11R_3.png  \n",
            "  inflating: chase_db_320_320_dice_bce_0_4__hvr_0_4_1/predictions/_Image_12R_1.png  \n",
            "  inflating: chase_db_320_320_dice_bce_0_4__hvr_0_4_1/predictions/_Image_11L_6.png  \n",
            "  inflating: chase_db_320_320_dice_bce_0_4__hvr_0_4_1/predictions/_Image_13L_9.png  \n",
            "  inflating: chase_db_320_320_dice_bce_0_4__hvr_0_4_1/predictions/_Image_11R_9.png  \n",
            "  inflating: chase_db_320_320_dice_bce_0_4__hvr_0_4_1/predictions/_Image_12L_9.png  \n",
            "  inflating: chase_db_320_320_dice_bce_0_4__hvr_0_4_1/predictions/_Image_11R_0.png  \n",
            "  inflating: chase_db_320_320_dice_bce_0_4__hvr_0_4_1/predictions/_Image_11L_2.png  \n",
            "  inflating: chase_db_320_320_dice_bce_0_4__hvr_0_4_1/predictions/_Image_13L_3.png  \n",
            "  inflating: chase_db_320_320_dice_bce_0_4__hvr_0_4_1/predictions/_Image_11R_8.png  \n",
            "  inflating: chase_db_320_320_dice_bce_0_4__hvr_0_4_1/predictions/_Image_12L_7.png  \n",
            "  inflating: chase_db_320_320_dice_bce_0_4__hvr_0_4_1/predictions/_Image_11L_1.png  \n",
            "  inflating: chase_db_320_320_dice_bce_0_4__hvr_0_4_1/predictions/_Image_13L_8.png  \n",
            "  inflating: chase_db_320_320_dice_bce_0_4__hvr_0_4_1/predictions/_Image_12R_2.png  \n",
            "  inflating: chase_db_320_320_dice_bce_0_4__hvr_0_4_1/predictions/_Image_12L_3.png  \n",
            "  inflating: chase_db_320_320_dice_bce_0_4__hvr_0_4_1/predictions/_Image_12R_4.png  \n",
            "  inflating: chase_db_320_320_dice_bce_0_4__hvr_0_4_1/predictions/_Image_12L_11.png  \n",
            "  inflating: chase_db_320_320_dice_bce_0_4__hvr_0_4_1/predictions/_Image_13L_0.png  \n",
            "  inflating: chase_db_320_320_dice_bce_0_4__hvr_0_4_1/predictions/_Image_11R_1.png  \n",
            "  inflating: chase_db_320_320_dice_bce_0_4__hvr_0_4_1/predictions/_Image_12R_7.png  \n",
            "  inflating: chase_db_320_320_dice_bce_0_4__hvr_0_4_1/predictions/_Image_13L_6.png  \n",
            "  inflating: chase_db_320_320_dice_bce_0_4__hvr_0_4_1/predictions/_Image_13L_4.png  \n",
            "  inflating: chase_db_320_320_dice_bce_0_4__hvr_0_4_1/predictions/_Image_13L_10.png  \n",
            "  inflating: chase_db_320_320_dice_bce_0_4__hvr_0_4_1/predictions/_Image_12L_1.png  \n",
            "  inflating: chase_db_320_320_dice_bce_0_4__hvr_0_4_1/predictions/_Image_12R_8.png  \n",
            "  inflating: chase_db_320_320_dice_bce_0_4__hvr_0_4_1/predictions/_Image_11R_10.png  \n",
            "  inflating: chase_db_320_320_dice_bce_0_4__hvr_0_4_1/predictions/_Image_12L_8.png  \n",
            "  inflating: chase_db_320_320_dice_bce_0_4__hvr_0_4_1/predictions/_Image_12L_5.png  \n",
            "  inflating: chase_db_320_320_dice_bce_0_4__hvr_0_4_1/predictions/_Image_13L_5.png  \n",
            "  inflating: chase_db_320_320_dice_bce_0_4__hvr_0_4_1/predictions/_Image_11L_9.png  \n",
            "  inflating: chase_db_320_320_dice_bce_0_4__hvr_0_4_1/predictions/_Image_11L_4.png  \n",
            "  inflating: chase_db_320_320_dice_bce_0_4__hvr_0_4_1/predictions/_Image_11L_7.png  \n",
            "  inflating: chase_db_320_320_dice_bce_0_4__hvr_0_4_1/predictions/_Image_12L_10.png  \n",
            "  inflating: chase_db_320_320_dice_bce_0_4__hvr_0_4_1/predictions/_Image_11L_0.png  \n",
            "  inflating: chase_db_320_320_dice_bce_0_4__hvr_0_4_1/predictions/_Image_11L_8.png  \n",
            "  inflating: chase_db_320_320_dice_bce_0_4__hvr_0_4_1/predictions/_Image_12R_11.png  \n",
            "  inflating: chase_db_320_320_dice_bce_0_4__hvr_0_4_1/predictions/_Image_12L_4.png  \n",
            "  inflating: chase_db_320_320_dice_bce_0_4__hvr_0_4_1/predictions/_Image_11L_5.png  \n",
            "  inflating: chase_db_320_320_dice_bce_0_4__hvr_0_4_1/predictions/_Image_11R_11.png  \n",
            "  inflating: chase_db_320_320_dice_bce_0_4__hvr_0_4_1/predictions/_Image_11R_2.png  \n",
            "  inflating: chase_db_320_320_dice_bce_0_4__hvr_0_4_1/predictions/_Image_11L_10.png  \n",
            "  inflating: chase_db_320_320_dice_bce_0_4__hvr_0_4_1/predictions/_Image_12R_10.png  \n",
            "  inflating: chase_db_320_320_dice_bce_0_4__hvr_0_4_1/predictions/_Image_12R_5.png  \n",
            "  inflating: chase_db_320_320_dice_bce_0_4__hvr_0_4_1/predictions/_Image_12R_0.png  \n",
            "  inflating: chase_db_320_320_dice_bce_0_4__hvr_0_4_1/predictions/_Image_11R_7.png  \n",
            "  inflating: chase_db_320_320_dice_bce_0_4__hvr_0_4_1/predictions/_Image_12R_9.png  \n",
            "  inflating: chase_db_320_320_dice_bce_0_4__hvr_0_4_1/predictions/_Image_13L_2.png  \n",
            "  inflating: chase_db_320_320_dice_bce_0_4__hvr_0_4_1/predictions/_Image_11L_3.png  \n",
            "  inflating: chase_db_320_320_dice_bce_0_4__hvr_0_4_1/predictions/_Image_12R_6.png  \n",
            "  inflating: chase_db_320_320_dice_bce_0_4__hvr_0_4_1/predictions/_Image_12L_6.png  \n",
            "  inflating: chase_db_320_320_dice_bce_0_4__hvr_0_4_1/predictions/_Image_12R_3.png  \n",
            "  inflating: chase_db_320_320_dice_bce_0_4__hvr_0_4_1/predictions/_Image_13L_11.png  \n",
            "  inflating: chase_db_320_320_dice_bce_0_4__hvr_0_4_1/predictions/_Image_13L_1.png  \n",
            "  inflating: chase_db_320_320_dice_bce_0_4__hvr_0_4_1/predictions/_Image_11R_4.png  \n",
            "  inflating: chase_db_320_320_dice_bce_0_4__hvr_0_4_1/predictions/_Image_12L_0.png  \n",
            "  inflating: chase_db_320_320_dice_bce_0_4__hvr_0_4_1/predictions/_Image_12L_2.png  \n",
            "  inflating: chase_db_320_320_dice_bce_0_4__hvr_0_4_1/predictions/_Image_11R_6.png  \n",
            "  inflating: chase_db_320_320_dice_bce_0_4__hvr_0_4_1/predictions/_Image_13L_7.png  \n",
            "  inflating: chase_db_320_320_dice_bce_0_4__hvr_0_4_1/predictions/_Image_11R_5.png  \n",
            "  inflating: chase_db_320_320_dice_bce_0_4__hvr_0_4_1/predictions/_Image_11L_11.png  \n"
          ]
        }
      ],
      "source": [
        "!unzip {folder_name}.zip\n"
      ]
    },
    {
      "cell_type": "code",
      "execution_count": null,
      "metadata": {
        "colab": {
          "background_save": true
        },
        "id": "uUc7rHJNeI-p"
      },
      "outputs": [],
      "source": [
        "drive.flush_and_unmount()"
      ]
    },
    {
      "cell_type": "code",
      "execution_count": null,
      "metadata": {
        "colab": {
          "background_save": true
        },
        "id": "fXp07gx1AtsF"
      },
      "outputs": [],
      "source": [
        ""
      ]
    }
  ],
  "metadata": {
    "accelerator": "GPU",
    "colab": {
      "background_execution": "on",
      "collapsed_sections": [],
      "machine_shape": "hm",
      "name": "chase_patches_320_320_0_4_dice_aug.ipynb",
      "provenance": []
    },
    "kernelspec": {
      "display_name": "Python 3",
      "name": "python3"
    },
    "language_info": {
      "name": "python"
    }
  },
  "nbformat": 4,
  "nbformat_minor": 0
}