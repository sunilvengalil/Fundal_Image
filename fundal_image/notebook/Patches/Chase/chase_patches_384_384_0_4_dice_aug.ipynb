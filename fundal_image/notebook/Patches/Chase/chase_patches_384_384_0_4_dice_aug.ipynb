{
  "cells": [
    {
      "cell_type": "markdown",
      "metadata": {
        "id": "ZIUz94YO5Y0x"
      },
      "source": [
        "### Import the required libraries and modules:"
      ]
    },
    {
      "cell_type": "code",
      "execution_count": null,
      "metadata": {
        "id": "RN5vXWIK27Lr"
      },
      "outputs": [],
      "source": [
        "import tensorflow as tf\n",
        "from tensorflow.keras.layers import Conv2D, BatchNormalization, Activation, MaxPool2D, Conv2DTranspose, Concatenate, Input\n",
        "from tensorflow.keras.models import Model\n",
        "from tensorflow.keras import backend as K\n",
        "import os\n",
        "os.environ[\"TF_CPP_MIN_LOG_LEVEL\"] = \"2\"\n",
        "import numpy as np\n",
        "import cv2\n",
        "from glob import glob\n",
        "from sklearn.utils import shuffle\n",
        "import tensorflow as tf\n",
        "from tensorflow.keras.callbacks import ModelCheckpoint, CSVLogger, ReduceLROnPlateau, EarlyStopping, TensorBoard\n",
        "from tensorflow.keras.optimizers import Adam\n",
        "from tensorflow.keras.metrics import Recall, Precision\n",
        "import numpy as np"
      ]
    },
    {
      "cell_type": "code",
      "execution_count": null,
      "metadata": {
        "colab": {
          "base_uri": "https://localhost:8080/"
        },
        "id": "DguMtoH4ZJA9",
        "outputId": "b9e63809-7856-4c0f-f9da-1e9a8390bdb9"
      },
      "outputs": [
        {
          "name": "stdout",
          "output_type": "stream",
          "text": [
            "Mounted at /content/gdrive\n",
            "/content/gdrive/MyDrive/medical_image_processing\n"
          ]
        }
      ],
      "source": [
        "from google.colab import drive\n",
        "drive.mount(\"/content/gdrive\", force_remount=True)\n",
        "%cd /content/gdrive/MyDrive/medical_image_processing/"
      ]
    },
    {
      "cell_type": "code",
      "execution_count": null,
      "metadata": {
        "id": "sT9NcAXcN4MK"
      },
      "outputs": [],
      "source": [
        "from fundal_image.utils import create_dir, get_filenames_sorted\n",
        "from patches import generate_patches_images_only, reconstruct_patches\n",
        "from metrics import iou, dice_coef, dice_loss, DiceBCELoss, bce\n",
        "from metrics import compute_metrics, save_results\n",
        "from utils import read_image_train, read_mask_train"
      ]
    },
    {
      "cell_type": "code",
      "execution_count": null,
      "metadata": {
        "id": "-u2FCjiRfHBT"
      },
      "outputs": [],
      "source": [
        "image_sizes = {\"HRF\": (2336, 3504), \"drive\": (584, 565), \"chase_db\": (960, 999)}\n",
        "patch_size = {\"HRF\": (768, 768),\n",
        "              \"drive\":(256, 256),\n",
        "              \"chase_db\":(384, 384)\n",
        "              }\n",
        "\n",
        "dataset_name = \"chase_db\"\n",
        "patch_size = patch_size[dataset_name]\n",
        "patch_height = patch_size[0]\n",
        "patch_width = patch_size[1]"
      ]
    },
    {
      "cell_type": "code",
      "execution_count": null,
      "metadata": {
        "id": "U_UlvLm25iVS"
      },
      "outputs": [],
      "source": [
        "loss_str = \"dice_bce\"\n",
        "with_augmentation = False\n",
        "stride=384\n",
        "seed = 42\n",
        "run_id = 1\n",
        "test_percentage = 0.4\n",
        "class_weight = 0.4\n",
        "class_weight_str = str(class_weight).replace(\".\", \"_\")\n",
        "\n",
        "aug_string = \"_hvr\"\n",
        "test_percentage_str = str(test_percentage).replace(\".\", \"_\")\n",
        "\n",
        "root_path = f\"/content/datasets/{dataset_name}_{patch_height}_{stride}_{loss_str}_{class_weight_str}_{aug_string}_{test_percentage_str}_{run_id}/\"\n",
        "\n",
        "images_path_train = f\"{root_path}/training/images/\"\n",
        "gt_path_train = f\"{root_path}/training/1st_manual/\"\n",
        "images_path_test = f\"{root_path}/test/images/\"\n",
        "gt_path_test = f\"{root_path}/test/1st_manual/\"\n",
        "\n",
        "create_dir(images_path_train)\n",
        "create_dir(gt_path_train)\n",
        "create_dir(images_path_test)\n",
        "create_dir(gt_path_test)"
      ]
    },
    {
      "cell_type": "code",
      "execution_count": null,
      "metadata": {
        "id": "K9UW2Mt2kh_m"
      },
      "outputs": [],
      "source": [
        "def wbce(actual, predicted):\n",
        "    y_pred = K.clip(predicted, K.epsilon(), 1 - K.epsilon())\n",
        "    term_0 = (1 - actual) * K.log(1 - y_pred)\n",
        "    term_1 = class_weight * actual * K.log(y_pred + K.epsilon())\n",
        "    return -K.mean(term_0 + term_1, axis=0)"
      ]
    },
    {
      "cell_type": "code",
      "execution_count": null,
      "metadata": {
        "colab": {
          "base_uri": "https://localhost:8080/",
          "height": 35
        },
        "id": "lFCH4PBbSW4R",
        "outputId": "37f33b21-6099-4ac8-8055-8afea51e10b1"
      },
      "outputs": [
        {
          "data": {
            "application/vnd.google.colaboratory.intrinsic+json": {
              "type": "string"
            },
            "text/plain": [
              "'/content/datasets/chase_db_384_384_dice_bce_0_4__hvr_0_4_1/'"
            ]
          },
          "execution_count": 7,
          "metadata": {},
          "output_type": "execute_result"
        }
      ],
      "source": [
        "root_path"
      ]
    },
    {
      "cell_type": "code",
      "execution_count": null,
      "metadata": {
        "colab": {
          "base_uri": "https://localhost:8080/",
          "height": 35
        },
        "id": "SAWhPu-m--qT",
        "outputId": "f8cdbc30-f3ba-42e2-8886-8d3552427698"
      },
      "outputs": [
        {
          "data": {
            "application/vnd.google.colaboratory.intrinsic+json": {
              "type": "string"
            },
            "text/plain": [
              "'/content/datasets/chase_db_384_384_dice_bce_0_4__hvr_0_4_1//training/images/'"
            ]
          },
          "execution_count": 8,
          "metadata": {},
          "output_type": "execute_result"
        }
      ],
      "source": [
        "images_path_train"
      ]
    },
    {
      "cell_type": "code",
      "execution_count": null,
      "metadata": {
        "id": "cNZJSlaoCLUx"
      },
      "outputs": [],
      "source": [
        "!cp /content/gdrive/MyDrive/medical_image_processing/fundal_image/datasets/chase_db/split_1/training/images/*.* {images_path_train}\n",
        "!cp /content/gdrive/MyDrive/medical_image_processing/fundal_image/datasets/chase_db/split_1//training/groundtruth1/*.* {gt_path_train}"
      ]
    },
    {
      "cell_type": "code",
      "execution_count": null,
      "metadata": {
        "id": "mJ_FsHnH_9Lh"
      },
      "outputs": [],
      "source": [
        "!cp /content/gdrive/MyDrive/medical_image_processing/fundal_image/datasets/chase_db/split_1/test/images/*.* {images_path_test}\n",
        "!cp /content/gdrive/MyDrive/medical_image_processing/fundal_image/datasets/chase_db/split_1/test/groundtruth1/*.* {gt_path_test}"
      ]
    },
    {
      "cell_type": "code",
      "execution_count": null,
      "metadata": {
        "colab": {
          "base_uri": "https://localhost:8080/"
        },
        "id": "ZZT5_8bp-rLQ",
        "outputId": "1e528c78-d01b-411b-cf5f-b2246b018320"
      },
      "outputs": [
        {
          "name": "stdout",
          "output_type": "stream",
          "text": [
            "Image_01L.jpg  Image_03R.jpg  Image_06L.jpg  Image_08R.jpg  Image_13R.jpg\n",
            "Image_01R.jpg  Image_04L.jpg  Image_06R.jpg  Image_09L.jpg  Image_14L.jpg\n",
            "Image_02L.jpg  Image_04R.jpg  Image_07L.jpg  Image_09R.jpg  Image_14R.jpg\n",
            "Image_02R.jpg  Image_05L.jpg  Image_07R.jpg  Image_10L.jpg\n",
            "Image_03L.jpg  Image_05R.jpg  Image_08L.jpg  Image_10R.jpg\n"
          ]
        }
      ],
      "source": [
        "!ls /content/gdrive/MyDrive/medical_image_processing/fundal_image/datasets//chase_db/split_1/training/images"
      ]
    },
    {
      "cell_type": "code",
      "execution_count": null,
      "metadata": {
        "id": "FkGqIQ7m68Jc"
      },
      "outputs": [],
      "source": [
        "# images_files, gt_files = get_filenames_sorted(images_path, gt_path)\n",
        "# print(len(images_files), len(gt_files))\n",
        "# # train_test_split\n",
        "# from sklearn.model_selection import train_test_split\n",
        "# label = [_xtrain.rsplit(\"/\", 1)[1].rsplit(\".\", 1)[0].rsplit(\"_\", 1)[1] for _xtrain in images_files] \n",
        "# xtrain, xtest, ytrain, ytest = train_test_split(images_files, gt_files, stratify=label,  test_size=test_percentage, random_state=seed)"
      ]
    },
    {
      "cell_type": "code",
      "execution_count": null,
      "metadata": {
        "id": "MNEcaT4MGrDE"
      },
      "outputs": [],
      "source": [
        "xtrain, ytrain = get_filenames_sorted(images_path_train, gt_path_train)\n",
        "xtest, ytest = get_filenames_sorted(images_path_test, gt_path_test)"
      ]
    },
    {
      "cell_type": "code",
      "execution_count": null,
      "metadata": {
        "colab": {
          "base_uri": "https://localhost:8080/"
        },
        "id": "kz1zp1UAd188",
        "outputId": "a80b0913-e47e-47ef-d593-d1f83b3343df"
      },
      "outputs": [
        {
          "name": "stdout",
          "output_type": "stream",
          "text": [
            "23 5\n"
          ]
        }
      ],
      "source": [
        "print(len(xtrain), len(xtest))\n",
        "# print(label)"
      ]
    },
    {
      "cell_type": "code",
      "execution_count": null,
      "metadata": {
        "colab": {
          "base_uri": "https://localhost:8080/"
        },
        "id": "-7XwsJsOOsqE",
        "outputId": "fbc0939d-a047-4970-f3ff-7572e9141afb"
      },
      "outputs": [
        {
          "data": {
            "text/plain": [
              "['/content/datasets/chase_db_384_384_dice_bce_0_4__hvr_0_4_1//training/images/Image_01L.jpg',\n",
              " '/content/datasets/chase_db_384_384_dice_bce_0_4__hvr_0_4_1//training/images/Image_01R.jpg',\n",
              " '/content/datasets/chase_db_384_384_dice_bce_0_4__hvr_0_4_1//training/images/Image_02L.jpg',\n",
              " '/content/datasets/chase_db_384_384_dice_bce_0_4__hvr_0_4_1//training/images/Image_02R.jpg',\n",
              " '/content/datasets/chase_db_384_384_dice_bce_0_4__hvr_0_4_1//training/images/Image_03L.jpg']"
            ]
          },
          "execution_count": 15,
          "metadata": {},
          "output_type": "execute_result"
        }
      ],
      "source": [
        "xtrain[:5]"
      ]
    },
    {
      "cell_type": "code",
      "execution_count": null,
      "metadata": {
        "colab": {
          "base_uri": "https://localhost:8080/"
        },
        "id": "Ybo3_b3GQT5c",
        "outputId": "558ff8c7-2f71-432c-e478-f9013c49daf4"
      },
      "outputs": [
        {
          "name": "stdout",
          "output_type": "stream",
          "text": [
            "23 5\n"
          ]
        },
        {
          "data": {
            "text/plain": [
              "['/content/datasets/chase_db_384_384_dice_bce_0_4__hvr_0_4_1//training/1st_manual/Image_01L_1stHO.png',\n",
              " '/content/datasets/chase_db_384_384_dice_bce_0_4__hvr_0_4_1//training/1st_manual/Image_01R_1stHO.png',\n",
              " '/content/datasets/chase_db_384_384_dice_bce_0_4__hvr_0_4_1//training/1st_manual/Image_02L_1stHO.png',\n",
              " '/content/datasets/chase_db_384_384_dice_bce_0_4__hvr_0_4_1//training/1st_manual/Image_02R_1stHO.png',\n",
              " '/content/datasets/chase_db_384_384_dice_bce_0_4__hvr_0_4_1//training/1st_manual/Image_03L_1stHO.png']"
            ]
          },
          "execution_count": 16,
          "metadata": {},
          "output_type": "execute_result"
        }
      ],
      "source": [
        "print(len(ytrain), len(ytest))\n",
        "ytrain[:5]"
      ]
    },
    {
      "cell_type": "code",
      "execution_count": null,
      "metadata": {
        "id": "U0r-aJAjXNIU"
      },
      "outputs": [],
      "source": [
        "from tqdm import tqdm\n",
        "import pandas as pd"
      ]
    },
    {
      "cell_type": "code",
      "execution_count": null,
      "metadata": {
        "id": "tbmupMNFkLan"
      },
      "outputs": [],
      "source": [
        "from albumentations import HorizontalFlip, VerticalFlip, Rotate\n",
        "import imageio\n",
        "\n",
        "def augment_data(images, masks, save_path, augment=True):\n",
        "    H = 960\n",
        "    W = 999\n",
        "\n",
        "    for idx, (x, y) in tqdm(enumerate(zip(images, masks)), total=len(images)):\n",
        "        \"\"\" Extracting names \"\"\"\n",
        "        name = x.rsplit(\"/\", 1)[1].rsplit(\".\", 1)[0]\n",
        "        print(name)\n",
        "        \"\"\" Reading image and mask \"\"\"\n",
        "        x = cv2.imread(x, cv2.IMREAD_COLOR)\n",
        "        y = cv2.imread(y, cv2.IMREAD_GRAYSCALE)\n",
        "        # y = imageio.mimread(y)[0]\n",
        "\n",
        "        if augment == True:\n",
        "            aug = HorizontalFlip(p=1.0)\n",
        "            augmented = aug(image=x, mask=y)\n",
        "            x1 = augmented[\"image\"]\n",
        "            y1 = augmented[\"mask\"]\n",
        "\n",
        "            aug = VerticalFlip(p=1.0)\n",
        "            augmented = aug(image=x, mask=y)\n",
        "            x2 = augmented[\"image\"]\n",
        "            y2 = augmented[\"mask\"]\n",
        "\n",
        "            aug = Rotate(limit=45, p=1.0)\n",
        "            augmented = aug(image=x, mask=y)\n",
        "            x3 = augmented[\"image\"]\n",
        "            y3 = augmented[\"mask\"]\n",
        "\n",
        "            X = [x, x1, x2, x3]\n",
        "            Y = [y, y1, y2, y3]\n",
        "\n",
        "            X = [x, x1, x2, x3]\n",
        "            Y = [y, y1, y2, y3]\n",
        "\n",
        "        else:\n",
        "            X = [x]\n",
        "            Y = [y]\n",
        "\n",
        "        index = 0\n",
        "        for i, m in zip(X, Y):\n",
        "            i = cv2.resize(i, (W, H))\n",
        "            m = cv2.resize(m, (W, H))\n",
        "\n",
        "            if len(X) == 1:\n",
        "                tmp_image_name = f\"{name}.png\"\n",
        "                tmp_mask_name = f\"{name}.png\"\n",
        "            else:\n",
        "                tmp_image_name = f\"{name}_{index}.png\"\n",
        "                tmp_mask_name = f\"{name}_{index}.png\"\n",
        "\n",
        "            image_path = os.path.join(save_path, \"image\", tmp_image_name)\n",
        "            mask_path = os.path.join(save_path, \"mask\", tmp_mask_name)\n",
        "\n",
        "            cv2.imwrite(image_path, i)\n",
        "            cv2.imwrite(mask_path, m)\n",
        "\n",
        "            index += 1"
      ]
    },
    {
      "cell_type": "code",
      "execution_count": null,
      "metadata": {
        "id": "6QoUYsNpkLfW"
      },
      "outputs": [],
      "source": [
        "create_dir(f\"{root_path}/augmented/train/image/\")\n",
        "create_dir(f\"{root_path}/augmented/train/mask/\")"
      ]
    },
    {
      "cell_type": "code",
      "execution_count": null,
      "metadata": {
        "colab": {
          "base_uri": "https://localhost:8080/"
        },
        "id": "QOGAnhjXkQ3m",
        "outputId": "4b6dfbf4-0dbe-48ab-b8a3-08197880b60a"
      },
      "outputs": [
        {
          "name": "stderr",
          "output_type": "stream",
          "text": [
            "\r  0%|          | 0/23 [00:00<?, ?it/s]"
          ]
        },
        {
          "name": "stdout",
          "output_type": "stream",
          "text": [
            "Image_01L\n"
          ]
        },
        {
          "name": "stderr",
          "output_type": "stream",
          "text": [
            "  9%|▊         | 2/23 [00:00<00:04,  4.52it/s]"
          ]
        },
        {
          "name": "stdout",
          "output_type": "stream",
          "text": [
            "Image_01R\n",
            "Image_02L\n"
          ]
        },
        {
          "name": "stderr",
          "output_type": "stream",
          "text": [
            " 17%|█▋        | 4/23 [00:00<00:03,  4.95it/s]"
          ]
        },
        {
          "name": "stdout",
          "output_type": "stream",
          "text": [
            "Image_02R\n",
            "Image_03L\n"
          ]
        },
        {
          "name": "stderr",
          "output_type": "stream",
          "text": [
            " 26%|██▌       | 6/23 [00:01<00:03,  5.01it/s]"
          ]
        },
        {
          "name": "stdout",
          "output_type": "stream",
          "text": [
            "Image_03R\n",
            "Image_04L\n"
          ]
        },
        {
          "name": "stderr",
          "output_type": "stream",
          "text": [
            " 35%|███▍      | 8/23 [00:01<00:02,  5.07it/s]"
          ]
        },
        {
          "name": "stdout",
          "output_type": "stream",
          "text": [
            "Image_04R\n",
            "Image_05L\n"
          ]
        },
        {
          "name": "stderr",
          "output_type": "stream",
          "text": [
            " 43%|████▎     | 10/23 [00:02<00:02,  5.04it/s]"
          ]
        },
        {
          "name": "stdout",
          "output_type": "stream",
          "text": [
            "Image_05R\n",
            "Image_06L\n"
          ]
        },
        {
          "name": "stderr",
          "output_type": "stream",
          "text": [
            " 52%|█████▏    | 12/23 [00:02<00:02,  5.18it/s]"
          ]
        },
        {
          "name": "stdout",
          "output_type": "stream",
          "text": [
            "Image_06R\n",
            "Image_07L\n"
          ]
        },
        {
          "name": "stderr",
          "output_type": "stream",
          "text": [
            " 61%|██████    | 14/23 [00:02<00:01,  5.14it/s]"
          ]
        },
        {
          "name": "stdout",
          "output_type": "stream",
          "text": [
            "Image_07R\n",
            "Image_08L\n"
          ]
        },
        {
          "name": "stderr",
          "output_type": "stream",
          "text": [
            " 70%|██████▉   | 16/23 [00:03<00:01,  5.29it/s]"
          ]
        },
        {
          "name": "stdout",
          "output_type": "stream",
          "text": [
            "Image_08R\n",
            "Image_09L\n"
          ]
        },
        {
          "name": "stderr",
          "output_type": "stream",
          "text": [
            " 78%|███████▊  | 18/23 [00:03<00:00,  5.26it/s]"
          ]
        },
        {
          "name": "stdout",
          "output_type": "stream",
          "text": [
            "Image_09R\n",
            "Image_10L\n"
          ]
        },
        {
          "name": "stderr",
          "output_type": "stream",
          "text": [
            " 87%|████████▋ | 20/23 [00:03<00:00,  5.24it/s]"
          ]
        },
        {
          "name": "stdout",
          "output_type": "stream",
          "text": [
            "Image_10R\n",
            "Image_13R\n"
          ]
        },
        {
          "name": "stderr",
          "output_type": "stream",
          "text": [
            " 96%|█████████▌| 22/23 [00:04<00:00,  5.18it/s]"
          ]
        },
        {
          "name": "stdout",
          "output_type": "stream",
          "text": [
            "Image_14L\n",
            "Image_14R\n"
          ]
        },
        {
          "name": "stderr",
          "output_type": "stream",
          "text": [
            "100%|██████████| 23/23 [00:04<00:00,  5.10it/s]\n"
          ]
        }
      ],
      "source": [
        "augment_data(xtrain, ytrain, f\"{root_path}/augmented/train/\", True )"
      ]
    },
    {
      "cell_type": "code",
      "execution_count": null,
      "metadata": {
        "id": "4jEJe9f-kQ6l"
      },
      "outputs": [],
      "source": [
        "xtrain, ytrain = get_filenames_sorted(f\"{root_path}/augmented/train/image\", f\"{root_path}/augmented/train/mask\")"
      ]
    },
    {
      "cell_type": "code",
      "execution_count": null,
      "metadata": {
        "colab": {
          "base_uri": "https://localhost:8080/"
        },
        "id": "YVoOmcQDkRCd",
        "outputId": "10281656-3196-440e-fb94-ea7fa77a1037"
      },
      "outputs": [
        {
          "name": "stdout",
          "output_type": "stream",
          "text": [
            "92 92\n"
          ]
        }
      ],
      "source": [
        "print(len(xtrain), len(ytrain))"
      ]
    },
    {
      "cell_type": "code",
      "execution_count": null,
      "metadata": {
        "id": "eFN3m8WgEyUX"
      },
      "outputs": [],
      "source": [
        "from sklearn.feature_extraction import image\n",
        "import numpy as np\n",
        "from PIL import Image\n",
        "from tqdm import tqdm\n",
        "import pandas as pd\n",
        "import cv2\n",
        "\n",
        "from fundal_image.utils import  create_dir\n",
        "from utils import get_filenames_sorted\n",
        "\n",
        "def generate_patches_images_only(image_files,\n",
        "                                 save_path_image,\n",
        "                                 max_patch=30,\n",
        "                                 dataset_name=\"\",\n",
        "                                 patch_size=(512, 512),\n",
        "                                 stride=None,\n",
        "                                 padding=\"zeros\",\n",
        "                                 exclude_boundary=True,\n",
        "                                 zero_padding_size=(0, 0),\n",
        "                                 gt_files=None,\n",
        "                                 save_path_gt=None\n",
        "                                 ):\n",
        "    \n",
        "    def patches_with_stride(image_filename, im, _patch_size, _stride, gt_name=None, gt=None):\n",
        "        patches = []\n",
        "        gt_patches = []\n",
        "        # print(\"Image size\", im.shape)\n",
        "        metadata_list = []\n",
        "        columns = [\"image_filename\", \"row\", \"col\", \"patch_height\", \"patch_width\", \"stride\", \"num_fg_pixels\"]\n",
        "        if padding == \"zeros\":\n",
        "            num_zero_padding_height = im.shape[0] % patch_size[0]\n",
        "            num_zero_padding_width = im.shape[1] % patch_size[1]\n",
        "\n",
        "            if num_zero_padding_height > 0:\n",
        "                num_zero_padding_height = _patch_size[0] - num_zero_padding_height\n",
        "\n",
        "            if num_zero_padding_width > 0:\n",
        "                num_zero_padding_width = _patch_size[1] - num_zero_padding_width\n",
        "\n",
        "            height_odd = 0 if (num_zero_padding_height % 2) == 0 else 1\n",
        "            width_odd = 0 if (num_zero_padding_width % 2) == 0 else 1\n",
        "        else:\n",
        "            raise Exception(f\"Value for argument padding is not mentioned\")\n",
        "\n",
        "        # print(f\"Image shape {im.shape}. Patch size {_patch_size}.  Num Zero padding rows {num_zero_padding_height}. Num zero padding cols {num_zero_padding_width}\")\n",
        "        im = np.pad(im, ((num_zero_padding_height // 2, num_zero_padding_height // 2 + height_odd),\n",
        "                                (num_zero_padding_width // 2, num_zero_padding_width // 2 + width_odd),\n",
        "                                (0, 0)\n",
        "                                )\n",
        "                           )\n",
        "        if gt is not None:\n",
        "            if len(gt.shape) == 3:\n",
        "                gt = np.pad(gt, ((num_zero_padding_height // 2, num_zero_padding_height // 2 + height_odd),\n",
        "                                 (num_zero_padding_width // 2, num_zero_padding_width // 2 + width_odd),\n",
        "                                 (0, 0)\n",
        "                                 )\n",
        "                            )\n",
        "            else:\n",
        "                gt = np.pad(gt, ((num_zero_padding_height // 2, num_zero_padding_height // 2 + height_odd),\n",
        "                                 (num_zero_padding_width // 2, num_zero_padding_width // 2 + width_odd)\n",
        "                                 )\n",
        "                            )\n",
        "\n",
        "        im_gray = cv2.cvtColor(im, cv2.COLOR_BGR2GRAY)\n",
        "        # print(f\"image shape after padding {im.shape}\")\n",
        "        for row in range(0, im.shape[0], _stride):\n",
        "            for col in range(0, im.shape[1], _stride):\n",
        "                if row + _patch_size[0] >= im.shape[0]:\n",
        "                    row = im.shape[0] - _patch_size[0]\n",
        "                if col + _patch_size[1] >= im.shape[1]:\n",
        "                    col = im.shape[1] - _patch_size[1]\n",
        "                image_patch = im[row:row + _patch_size[0], col:col + _patch_size[1]]\n",
        "                num_fg_pixels = np.sum(im_gray[row:row + _patch_size[0], col:col + _patch_size[1]] > 0)\n",
        "                if gt is not None:\n",
        "                    gt_patch = gt[row:row + _patch_size[0], col:col + _patch_size[1]]\n",
        "                if num_fg_pixels > 0:\n",
        "                    patches.append(image_patch)\n",
        "                    metadata_list.append([image_filename, row, col, _patch_size[0], _patch_size[1], _stride, num_fg_pixels])\n",
        "                    if gt is not None:\n",
        "                        gt_patches.append(gt_patch)\n",
        "\n",
        "\n",
        "        metadata_df = pd.DataFrame(metadata_list, columns=columns )\n",
        "        patches_np = np.asarray(patches)\n",
        "        if gt is not None:\n",
        "            gt_patches_np = np.asarray(gt_patches)\n",
        "        else:\n",
        "            gt_patches_np = None\n",
        "\n",
        "        return patches_np, metadata_df, gt_patches_np\n",
        "\n",
        "    num_images = len(image_files)\n",
        "    print(f\"Generating patches for {num_images} images\")\n",
        "    metadata_df = None\n",
        "    create_dir(save_path_image)\n",
        "    im_patches_dict = dict()\n",
        "    gt_patches_dict = dict()\n",
        "    for idx, image_filename in tqdm(enumerate(image_files), total=len(image_files)):\n",
        "        image_filename = image_filename.replace(\"\\\\\", \"/\")\n",
        "        # print(\"Image file\", image_filename)\n",
        "        name = image_filename.rsplit(\"/\", 1)[1].rsplit(\".\", 1)[0]\n",
        "        # image1 = Image.open(x)\n",
        "        # image_array = np.asarray(image1)\n",
        "        image_array = cv2.imread(image_filename)\n",
        "\n",
        "        if gt_files is not None and len(gt_files) > 0:\n",
        "            gt_filename = gt_files[idx]\n",
        "            gt_filename = gt_filename.replace(\"\\\\\", \"/\")\n",
        "            # print(\"Image file\", image_filename)\n",
        "            gt_name = gt_filename.rsplit(\"/\", 1)[1].rsplit(\".\", 1)[0]\n",
        "\n",
        "\n",
        "            gt = cv2.imread(gt_filename)\n",
        "            # gt = np.asarray(Image.open(gt_filename))\n",
        "            # print(gt.dtype)\n",
        "            if len(gt.shape) == 3:\n",
        "                gt = cv2.cvtColor(gt, cv2.COLOR_BGR2GRAY)\n",
        "\n",
        "        if not exclude_boundary:\n",
        "            # add zero padding\n",
        "            image_array = np.pad(image_array, zero_padding_size)\n",
        "            gt = np.pad(gt, zero_padding_size)\n",
        "\n",
        "        if stride is None:\n",
        "            image_patches = image.extract_patches_2d(image_array, patch_size, max_patches=max_patch, random_state=42)\n",
        "        else:\n",
        "            ret_value = patches_with_stride(image_filename, image_array, patch_size, stride, gt_name, gt)\n",
        "            if ret_value is None :\n",
        "                raise Exception(f\"Could not create patches for {image_filename}\")\n",
        "            else:\n",
        "                image_patches, _metadata_df, gt_patches = ret_value[0], ret_value[1], ret_value[2]\n",
        "            if metadata_df is not None:\n",
        "                metadata_df = metadata_df.append(_metadata_df)\n",
        "            else:\n",
        "                metadata_df = _metadata_df\n",
        "        im_patches_dict[name] = image_patches\n",
        "        gt_patches_dict[name] = gt_patches\n",
        "\n",
        "        # print(gt_patches.dtype)\n",
        "\n",
        "\n",
        "        if save_path_image is not None and len(save_path_image) > 0:\n",
        "            count = 0\n",
        "            for i in range(len(image_patches)):\n",
        "                # data = Image.fromarray(image_patches[i])\n",
        "                # print(save_path_image, dataset_name, name)\n",
        "                image_path_file = f\"{save_path_image}/{dataset_name}_{name}_{count}.png\"\n",
        "                # print(f\"Saving patches to {image_path_file}\")\n",
        "                cv2.imwrite(image_path_file, image_patches[i])\n",
        "\n",
        "                if gt_patches is not None and save_path_gt is not None:\n",
        "                    gt_path_file = f\"{save_path_gt}/{dataset_name}_{name}_{count}.png\"\n",
        "                    # print(gt_path_file)\n",
        "                    # print(type(gt_patches))\n",
        "                    # print(gt_patches[i].shape)\n",
        "                    # print(gt_patches[i].dtype)\n",
        "                    # print(np.min(gt_patches[i]), np.max(gt_patches[i]))\n",
        "                    cv2.imwrite(gt_path_file, gt_patches[i])\n",
        "                count += 1\n",
        "\n",
        "    return im_patches_dict, metadata_df, gt_patches_dict"
      ]
    },
    {
      "cell_type": "code",
      "execution_count": null,
      "metadata": {
        "colab": {
          "base_uri": "https://localhost:8080/"
        },
        "id": "n8qZpZY_CNP0",
        "outputId": "b9cf467c-d216-4033-cdf1-94b3b119a5ee"
      },
      "outputs": [
        {
          "name": "stdout",
          "output_type": "stream",
          "text": [
            "Generating patches for 92 images\n"
          ]
        },
        {
          "name": "stderr",
          "output_type": "stream",
          "text": [
            "100%|██████████| 92/92 [00:07<00:00, 12.48it/s]\n"
          ]
        }
      ],
      "source": [
        "num_pixels_to_add = [0, 0]\n",
        "if (image_sizes[dataset_name][0] % patch_size[0]) > 0:\n",
        "    num_pixels_to_add[0] = ((image_sizes[\"drive\"][0] // patch_size[0]) + 1) * patch_size[0]\n",
        "    num_pixels_to_add[1] = ((image_sizes[\"drive\"][1] // patch_size[1]) + 1) * patch_size[1]\n",
        "\n",
        "split_name = \"split_2\"\n",
        "data_path = root_path\n",
        "splits =[\"train\",\"test\"]\n",
        "\n",
        "\n",
        "split = \"train\"\n",
        "#for split in splits:\n",
        "image_patches_path = f\"{data_path}/{split_name}/{split}/image/\"\n",
        "create_dir(image_patches_path)\n",
        "gt_patches_path = f\"{data_path}/{split_name}/{split}/mask/\"\n",
        "create_dir(gt_patches_path)\n",
        "im_patches_dict_train, metadata_train_df, gt_patches_dict_train = generate_patches_images_only(xtrain,\n",
        "                                                                image_patches_path,\n",
        "                                                                patch_size=patch_size,\n",
        "                                                                stride=stride,\n",
        "                                                                zero_padding_size=num_pixels_to_add,\n",
        "                                                                gt_files=ytrain,\n",
        "                                                                save_path_gt=gt_patches_path)\n",
        "metadata_train_df.to_csv(f\"{data_path}/{split_name}/image_patches_{stride}_{stride}_{split}.csv\", index=False)\n",
        "\n"
      ]
    },
    {
      "cell_type": "code",
      "execution_count": null,
      "metadata": {
        "colab": {
          "base_uri": "https://localhost:8080/"
        },
        "id": "T1Bd3CHcow_C",
        "outputId": "92247afb-2fb8-4a25-8b21-fb8f0c9a5f51"
      },
      "outputs": [
        {
          "name": "stdout",
          "output_type": "stream",
          "text": [
            "Generating patches for 5 images\n"
          ]
        },
        {
          "name": "stderr",
          "output_type": "stream",
          "text": [
            "100%|██████████| 5/5 [00:00<00:00, 14.72it/s]\n"
          ]
        }
      ],
      "source": [
        "split = \"test\"\n",
        "#for split in splits:\n",
        "image_patches_path = f\"{data_path}/{split_name}/{split}/image/\"\n",
        "create_dir(image_patches_path)\n",
        "gt_patches_path = f\"{data_path}/{split_name}/{split}/mask/\"\n",
        "create_dir(gt_patches_path)\n",
        "im_patches_dict_test, metadata_test_df, gt_patches_dict_test = generate_patches_images_only(xtest,\n",
        "                                                                image_patches_path,\n",
        "                                                                patch_size=patch_size,\n",
        "                                                                stride=stride,\n",
        "                                                                zero_padding_size=num_pixels_to_add,\n",
        "                                                                gt_files=ytest,\n",
        "                                                                save_path_gt=gt_patches_path)\n",
        "metadata_test_df.to_csv(f\"{data_path}/{split_name}/image_patches_{patch_height}_{stride}_{split}.csv\", index=False)\n"
      ]
    },
    {
      "cell_type": "code",
      "execution_count": null,
      "metadata": {
        "colab": {
          "base_uri": "https://localhost:8080/"
        },
        "id": "97Y2QDV0V30I",
        "outputId": "e8264a3d-d90f-419c-ce57-ec7d91d82b11"
      },
      "outputs": [
        {
          "data": {
            "text/plain": [
              "(45, 7)"
            ]
          },
          "execution_count": 26,
          "metadata": {},
          "output_type": "execute_result"
        }
      ],
      "source": [
        "metadata_test_df.shape"
      ]
    },
    {
      "cell_type": "code",
      "execution_count": null,
      "metadata": {
        "colab": {
          "base_uri": "https://localhost:8080/"
        },
        "id": "LwBcnfocO3Bj",
        "outputId": "edfc92db-5692-4621-c087-74e9dc410be7"
      },
      "outputs": [
        {
          "data": {
            "text/plain": [
              "(828, 7)"
            ]
          },
          "execution_count": 27,
          "metadata": {},
          "output_type": "execute_result"
        }
      ],
      "source": [
        "metadata_train_df.shape"
      ]
    },
    {
      "cell_type": "code",
      "execution_count": null,
      "metadata": {
        "colab": {
          "base_uri": "https://localhost:8080/",
          "height": 206
        },
        "id": "IxsMtp6lLESy",
        "outputId": "537d97d7-4057-4715-f2cf-7c887cf7783e"
      },
      "outputs": [
        {
          "data": {
            "text/html": [
              "\n",
              "  <div id=\"df-fdf3a081-6d34-4701-8ee9-61d46e01e1e1\">\n",
              "    <div class=\"colab-df-container\">\n",
              "      <div>\n",
              "<style scoped>\n",
              "    .dataframe tbody tr th:only-of-type {\n",
              "        vertical-align: middle;\n",
              "    }\n",
              "\n",
              "    .dataframe tbody tr th {\n",
              "        vertical-align: top;\n",
              "    }\n",
              "\n",
              "    .dataframe thead th {\n",
              "        text-align: right;\n",
              "    }\n",
              "</style>\n",
              "<table border=\"1\" class=\"dataframe\">\n",
              "  <thead>\n",
              "    <tr style=\"text-align: right;\">\n",
              "      <th></th>\n",
              "      <th>image_filename</th>\n",
              "      <th>row</th>\n",
              "      <th>col</th>\n",
              "      <th>patch_height</th>\n",
              "      <th>patch_width</th>\n",
              "      <th>stride</th>\n",
              "      <th>num_fg_pixels</th>\n",
              "    </tr>\n",
              "  </thead>\n",
              "  <tbody>\n",
              "    <tr>\n",
              "      <th>0</th>\n",
              "      <td>/content/datasets/chase_db_384_384_dice_bce_0_...</td>\n",
              "      <td>0</td>\n",
              "      <td>0</td>\n",
              "      <td>384</td>\n",
              "      <td>384</td>\n",
              "      <td>384</td>\n",
              "      <td>35874</td>\n",
              "    </tr>\n",
              "    <tr>\n",
              "      <th>1</th>\n",
              "      <td>/content/datasets/chase_db_384_384_dice_bce_0_...</td>\n",
              "      <td>0</td>\n",
              "      <td>384</td>\n",
              "      <td>384</td>\n",
              "      <td>384</td>\n",
              "      <td>384</td>\n",
              "      <td>100262</td>\n",
              "    </tr>\n",
              "    <tr>\n",
              "      <th>2</th>\n",
              "      <td>/content/datasets/chase_db_384_384_dice_bce_0_...</td>\n",
              "      <td>0</td>\n",
              "      <td>768</td>\n",
              "      <td>384</td>\n",
              "      <td>384</td>\n",
              "      <td>384</td>\n",
              "      <td>32901</td>\n",
              "    </tr>\n",
              "    <tr>\n",
              "      <th>3</th>\n",
              "      <td>/content/datasets/chase_db_384_384_dice_bce_0_...</td>\n",
              "      <td>384</td>\n",
              "      <td>0</td>\n",
              "      <td>384</td>\n",
              "      <td>384</td>\n",
              "      <td>384</td>\n",
              "      <td>102239</td>\n",
              "    </tr>\n",
              "    <tr>\n",
              "      <th>4</th>\n",
              "      <td>/content/datasets/chase_db_384_384_dice_bce_0_...</td>\n",
              "      <td>384</td>\n",
              "      <td>384</td>\n",
              "      <td>384</td>\n",
              "      <td>384</td>\n",
              "      <td>384</td>\n",
              "      <td>147456</td>\n",
              "    </tr>\n",
              "  </tbody>\n",
              "</table>\n",
              "</div>\n",
              "      <button class=\"colab-df-convert\" onclick=\"convertToInteractive('df-fdf3a081-6d34-4701-8ee9-61d46e01e1e1')\"\n",
              "              title=\"Convert this dataframe to an interactive table.\"\n",
              "              style=\"display:none;\">\n",
              "        \n",
              "  <svg xmlns=\"http://www.w3.org/2000/svg\" height=\"24px\"viewBox=\"0 0 24 24\"\n",
              "       width=\"24px\">\n",
              "    <path d=\"M0 0h24v24H0V0z\" fill=\"none\"/>\n",
              "    <path d=\"M18.56 5.44l.94 2.06.94-2.06 2.06-.94-2.06-.94-.94-2.06-.94 2.06-2.06.94zm-11 1L8.5 8.5l.94-2.06 2.06-.94-2.06-.94L8.5 2.5l-.94 2.06-2.06.94zm10 10l.94 2.06.94-2.06 2.06-.94-2.06-.94-.94-2.06-.94 2.06-2.06.94z\"/><path d=\"M17.41 7.96l-1.37-1.37c-.4-.4-.92-.59-1.43-.59-.52 0-1.04.2-1.43.59L10.3 9.45l-7.72 7.72c-.78.78-.78 2.05 0 2.83L4 21.41c.39.39.9.59 1.41.59.51 0 1.02-.2 1.41-.59l7.78-7.78 2.81-2.81c.8-.78.8-2.07 0-2.86zM5.41 20L4 18.59l7.72-7.72 1.47 1.35L5.41 20z\"/>\n",
              "  </svg>\n",
              "      </button>\n",
              "      \n",
              "  <style>\n",
              "    .colab-df-container {\n",
              "      display:flex;\n",
              "      flex-wrap:wrap;\n",
              "      gap: 12px;\n",
              "    }\n",
              "\n",
              "    .colab-df-convert {\n",
              "      background-color: #E8F0FE;\n",
              "      border: none;\n",
              "      border-radius: 50%;\n",
              "      cursor: pointer;\n",
              "      display: none;\n",
              "      fill: #1967D2;\n",
              "      height: 32px;\n",
              "      padding: 0 0 0 0;\n",
              "      width: 32px;\n",
              "    }\n",
              "\n",
              "    .colab-df-convert:hover {\n",
              "      background-color: #E2EBFA;\n",
              "      box-shadow: 0px 1px 2px rgba(60, 64, 67, 0.3), 0px 1px 3px 1px rgba(60, 64, 67, 0.15);\n",
              "      fill: #174EA6;\n",
              "    }\n",
              "\n",
              "    [theme=dark] .colab-df-convert {\n",
              "      background-color: #3B4455;\n",
              "      fill: #D2E3FC;\n",
              "    }\n",
              "\n",
              "    [theme=dark] .colab-df-convert:hover {\n",
              "      background-color: #434B5C;\n",
              "      box-shadow: 0px 1px 3px 1px rgba(0, 0, 0, 0.15);\n",
              "      filter: drop-shadow(0px 1px 2px rgba(0, 0, 0, 0.3));\n",
              "      fill: #FFFFFF;\n",
              "    }\n",
              "  </style>\n",
              "\n",
              "      <script>\n",
              "        const buttonEl =\n",
              "          document.querySelector('#df-fdf3a081-6d34-4701-8ee9-61d46e01e1e1 button.colab-df-convert');\n",
              "        buttonEl.style.display =\n",
              "          google.colab.kernel.accessAllowed ? 'block' : 'none';\n",
              "\n",
              "        async function convertToInteractive(key) {\n",
              "          const element = document.querySelector('#df-fdf3a081-6d34-4701-8ee9-61d46e01e1e1');\n",
              "          const dataTable =\n",
              "            await google.colab.kernel.invokeFunction('convertToInteractive',\n",
              "                                                     [key], {});\n",
              "          if (!dataTable) return;\n",
              "\n",
              "          const docLinkHtml = 'Like what you see? Visit the ' +\n",
              "            '<a target=\"_blank\" href=https://colab.research.google.com/notebooks/data_table.ipynb>data table notebook</a>'\n",
              "            + ' to learn more about interactive tables.';\n",
              "          element.innerHTML = '';\n",
              "          dataTable['output_type'] = 'display_data';\n",
              "          await google.colab.output.renderOutput(dataTable, element);\n",
              "          const docLink = document.createElement('div');\n",
              "          docLink.innerHTML = docLinkHtml;\n",
              "          element.appendChild(docLink);\n",
              "        }\n",
              "      </script>\n",
              "    </div>\n",
              "  </div>\n",
              "  "
            ],
            "text/plain": [
              "                                      image_filename  row  col  patch_height  \\\n",
              "0  /content/datasets/chase_db_384_384_dice_bce_0_...    0    0           384   \n",
              "1  /content/datasets/chase_db_384_384_dice_bce_0_...    0  384           384   \n",
              "2  /content/datasets/chase_db_384_384_dice_bce_0_...    0  768           384   \n",
              "3  /content/datasets/chase_db_384_384_dice_bce_0_...  384    0           384   \n",
              "4  /content/datasets/chase_db_384_384_dice_bce_0_...  384  384           384   \n",
              "\n",
              "   patch_width  stride  num_fg_pixels  \n",
              "0          384     384          35874  \n",
              "1          384     384         100262  \n",
              "2          384     384          32901  \n",
              "3          384     384         102239  \n",
              "4          384     384         147456  "
            ]
          },
          "execution_count": 28,
          "metadata": {},
          "output_type": "execute_result"
        }
      ],
      "source": [
        "metadata_train_df.head()"
      ]
    },
    {
      "cell_type": "code",
      "execution_count": null,
      "metadata": {
        "id": "DLrslUO4gvQp"
      },
      "outputs": [],
      "source": [
        "import glob\n",
        "split = \"test\"\n",
        "image_patches_path = f\"{data_path}/{split_name}/{split}/image/\"\n",
        "\n",
        "reconstructed_original_path = f\"{data_path}/{split_name}/reconstructed/{split}/image\"\n",
        "create_dir(reconstructed_original_path)\n",
        "reconstruct_patches(im_patches_dict_test,\n",
        "                    metadata_test_df,\n",
        "                    reconstructed_original_path\n",
        "                    )\n"
      ]
    },
    {
      "cell_type": "code",
      "execution_count": null,
      "metadata": {
        "colab": {
          "base_uri": "https://localhost:8080/"
        },
        "id": "n8gpCUhvZY8m",
        "outputId": "6a1d07f5-ffe2-4b0a-c13e-32f671791b90"
      },
      "outputs": [
        {
          "name": "stdout",
          "output_type": "stream",
          "text": [
            "['Image_11L', 'Image_11R', 'Image_12L', 'Image_12R', 'Image_13L']\n"
          ]
        }
      ],
      "source": [
        "print(list(gt_patches_dict_test.keys()))"
      ]
    },
    {
      "cell_type": "code",
      "execution_count": null,
      "metadata": {
        "colab": {
          "base_uri": "https://localhost:8080/"
        },
        "id": "tNONp29kZm8q",
        "outputId": "d6db7b16-3523-4a6c-d974-abbd0832224a"
      },
      "outputs": [
        {
          "data": {
            "text/plain": [
              "numpy.ndarray"
            ]
          },
          "execution_count": 31,
          "metadata": {},
          "output_type": "execute_result"
        }
      ],
      "source": [
        "type(gt_patches_dict_test[\"Image_11L\"])"
      ]
    },
    {
      "cell_type": "code",
      "execution_count": null,
      "metadata": {
        "id": "_TkWlhCKF7o5"
      },
      "outputs": [],
      "source": [
        "reconstructed_gt_path = f\"{data_path}/{split_name}/reconstructed/{split}/mask\"\n",
        "\n",
        "create_dir(reconstructed_gt_path)\n",
        "reconstruct_patches(gt_patches_dict_test,\n",
        "                    metadata_test_df,\n",
        "                    reconstructed_gt_path,\n",
        "                    )\n"
      ]
    },
    {
      "cell_type": "code",
      "execution_count": null,
      "metadata": {
        "colab": {
          "base_uri": "https://localhost:8080/"
        },
        "id": "Y5NJeG-731yQ",
        "outputId": "c3fbbf35-ddb1-43bd-8f53-51e28855e9f6"
      },
      "outputs": [
        {
          "name": "stdout",
          "output_type": "stream",
          "text": [
            "['Image_11L', 'Image_11R', 'Image_12L', 'Image_12R', 'Image_13L']\n"
          ]
        }
      ],
      "source": [
        "print([k for k in im_patches_dict_test.keys()])"
      ]
    },
    {
      "cell_type": "markdown",
      "metadata": {
        "id": "_WctlpFt6hx4"
      },
      "source": [
        "### Construct the Model:"
      ]
    },
    {
      "cell_type": "code",
      "execution_count": null,
      "metadata": {
        "colab": {
          "base_uri": "https://localhost:8080/"
        },
        "id": "epeNiZGQ5gSW",
        "outputId": "600656d8-111a-4e7b-d22c-0e88c49da768"
      },
      "outputs": [
        {
          "name": "stdout",
          "output_type": "stream",
          "text": [
            "Model: \"UNET\"\n",
            "__________________________________________________________________________________________________\n",
            " Layer (type)                   Output Shape         Param #     Connected to                     \n",
            "==================================================================================================\n",
            " input_1 (InputLayer)           [(None, 512, 512, 3  0           []                               \n",
            "                                )]                                                                \n",
            "                                                                                                  \n",
            " conv2d (Conv2D)                (None, 512, 512, 64  1792        ['input_1[0][0]']                \n",
            "                                )                                                                 \n",
            "                                                                                                  \n",
            " batch_normalization (BatchNorm  (None, 512, 512, 64  256        ['conv2d[0][0]']                 \n",
            " alization)                     )                                                                 \n",
            "                                                                                                  \n",
            " activation (Activation)        (None, 512, 512, 64  0           ['batch_normalization[0][0]']    \n",
            "                                )                                                                 \n",
            "                                                                                                  \n",
            " conv2d_1 (Conv2D)              (None, 512, 512, 64  36928       ['activation[0][0]']             \n",
            "                                )                                                                 \n",
            "                                                                                                  \n",
            " batch_normalization_1 (BatchNo  (None, 512, 512, 64  256        ['conv2d_1[0][0]']               \n",
            " rmalization)                   )                                                                 \n",
            "                                                                                                  \n",
            " activation_1 (Activation)      (None, 512, 512, 64  0           ['batch_normalization_1[0][0]']  \n",
            "                                )                                                                 \n",
            "                                                                                                  \n",
            " max_pooling2d (MaxPooling2D)   (None, 256, 256, 64  0           ['activation_1[0][0]']           \n",
            "                                )                                                                 \n",
            "                                                                                                  \n",
            " conv2d_2 (Conv2D)              (None, 256, 256, 12  73856       ['max_pooling2d[0][0]']          \n",
            "                                8)                                                                \n",
            "                                                                                                  \n",
            " batch_normalization_2 (BatchNo  (None, 256, 256, 12  512        ['conv2d_2[0][0]']               \n",
            " rmalization)                   8)                                                                \n",
            "                                                                                                  \n",
            " activation_2 (Activation)      (None, 256, 256, 12  0           ['batch_normalization_2[0][0]']  \n",
            "                                8)                                                                \n",
            "                                                                                                  \n",
            " conv2d_3 (Conv2D)              (None, 256, 256, 12  147584      ['activation_2[0][0]']           \n",
            "                                8)                                                                \n",
            "                                                                                                  \n",
            " batch_normalization_3 (BatchNo  (None, 256, 256, 12  512        ['conv2d_3[0][0]']               \n",
            " rmalization)                   8)                                                                \n",
            "                                                                                                  \n",
            " activation_3 (Activation)      (None, 256, 256, 12  0           ['batch_normalization_3[0][0]']  \n",
            "                                8)                                                                \n",
            "                                                                                                  \n",
            " max_pooling2d_1 (MaxPooling2D)  (None, 128, 128, 12  0          ['activation_3[0][0]']           \n",
            "                                8)                                                                \n",
            "                                                                                                  \n",
            " conv2d_4 (Conv2D)              (None, 128, 128, 25  295168      ['max_pooling2d_1[0][0]']        \n",
            "                                6)                                                                \n",
            "                                                                                                  \n",
            " batch_normalization_4 (BatchNo  (None, 128, 128, 25  1024       ['conv2d_4[0][0]']               \n",
            " rmalization)                   6)                                                                \n",
            "                                                                                                  \n",
            " activation_4 (Activation)      (None, 128, 128, 25  0           ['batch_normalization_4[0][0]']  \n",
            "                                6)                                                                \n",
            "                                                                                                  \n",
            " conv2d_5 (Conv2D)              (None, 128, 128, 25  590080      ['activation_4[0][0]']           \n",
            "                                6)                                                                \n",
            "                                                                                                  \n",
            " batch_normalization_5 (BatchNo  (None, 128, 128, 25  1024       ['conv2d_5[0][0]']               \n",
            " rmalization)                   6)                                                                \n",
            "                                                                                                  \n",
            " activation_5 (Activation)      (None, 128, 128, 25  0           ['batch_normalization_5[0][0]']  \n",
            "                                6)                                                                \n",
            "                                                                                                  \n",
            " max_pooling2d_2 (MaxPooling2D)  (None, 64, 64, 256)  0          ['activation_5[0][0]']           \n",
            "                                                                                                  \n",
            " conv2d_6 (Conv2D)              (None, 64, 64, 512)  1180160     ['max_pooling2d_2[0][0]']        \n",
            "                                                                                                  \n",
            " batch_normalization_6 (BatchNo  (None, 64, 64, 512)  2048       ['conv2d_6[0][0]']               \n",
            " rmalization)                                                                                     \n",
            "                                                                                                  \n",
            " activation_6 (Activation)      (None, 64, 64, 512)  0           ['batch_normalization_6[0][0]']  \n",
            "                                                                                                  \n",
            " conv2d_7 (Conv2D)              (None, 64, 64, 512)  2359808     ['activation_6[0][0]']           \n",
            "                                                                                                  \n",
            " batch_normalization_7 (BatchNo  (None, 64, 64, 512)  2048       ['conv2d_7[0][0]']               \n",
            " rmalization)                                                                                     \n",
            "                                                                                                  \n",
            " activation_7 (Activation)      (None, 64, 64, 512)  0           ['batch_normalization_7[0][0]']  \n",
            "                                                                                                  \n",
            " max_pooling2d_3 (MaxPooling2D)  (None, 32, 32, 512)  0          ['activation_7[0][0]']           \n",
            "                                                                                                  \n",
            " conv2d_8 (Conv2D)              (None, 32, 32, 1024  4719616     ['max_pooling2d_3[0][0]']        \n",
            "                                )                                                                 \n",
            "                                                                                                  \n",
            " batch_normalization_8 (BatchNo  (None, 32, 32, 1024  4096       ['conv2d_8[0][0]']               \n",
            " rmalization)                   )                                                                 \n",
            "                                                                                                  \n",
            " activation_8 (Activation)      (None, 32, 32, 1024  0           ['batch_normalization_8[0][0]']  \n",
            "                                )                                                                 \n",
            "                                                                                                  \n",
            " conv2d_9 (Conv2D)              (None, 32, 32, 1024  9438208     ['activation_8[0][0]']           \n",
            "                                )                                                                 \n",
            "                                                                                                  \n",
            " batch_normalization_9 (BatchNo  (None, 32, 32, 1024  4096       ['conv2d_9[0][0]']               \n",
            " rmalization)                   )                                                                 \n",
            "                                                                                                  \n",
            " activation_9 (Activation)      (None, 32, 32, 1024  0           ['batch_normalization_9[0][0]']  \n",
            "                                )                                                                 \n",
            "                                                                                                  \n",
            " conv2d_transpose (Conv2DTransp  (None, 64, 64, 512)  2097664    ['activation_9[0][0]']           \n",
            " ose)                                                                                             \n",
            "                                                                                                  \n",
            " concatenate (Concatenate)      (None, 64, 64, 1024  0           ['conv2d_transpose[0][0]',       \n",
            "                                )                                 'activation_7[0][0]']           \n",
            "                                                                                                  \n",
            " conv2d_10 (Conv2D)             (None, 64, 64, 512)  4719104     ['concatenate[0][0]']            \n",
            "                                                                                                  \n",
            " batch_normalization_10 (BatchN  (None, 64, 64, 512)  2048       ['conv2d_10[0][0]']              \n",
            " ormalization)                                                                                    \n",
            "                                                                                                  \n",
            " activation_10 (Activation)     (None, 64, 64, 512)  0           ['batch_normalization_10[0][0]'] \n",
            "                                                                                                  \n",
            " conv2d_11 (Conv2D)             (None, 64, 64, 512)  2359808     ['activation_10[0][0]']          \n",
            "                                                                                                  \n",
            " batch_normalization_11 (BatchN  (None, 64, 64, 512)  2048       ['conv2d_11[0][0]']              \n",
            " ormalization)                                                                                    \n",
            "                                                                                                  \n",
            " activation_11 (Activation)     (None, 64, 64, 512)  0           ['batch_normalization_11[0][0]'] \n",
            "                                                                                                  \n",
            " conv2d_transpose_1 (Conv2DTran  (None, 128, 128, 25  524544     ['activation_11[0][0]']          \n",
            " spose)                         6)                                                                \n",
            "                                                                                                  \n",
            " concatenate_1 (Concatenate)    (None, 128, 128, 51  0           ['conv2d_transpose_1[0][0]',     \n",
            "                                2)                                'activation_5[0][0]']           \n",
            "                                                                                                  \n",
            " conv2d_12 (Conv2D)             (None, 128, 128, 25  1179904     ['concatenate_1[0][0]']          \n",
            "                                6)                                                                \n",
            "                                                                                                  \n",
            " batch_normalization_12 (BatchN  (None, 128, 128, 25  1024       ['conv2d_12[0][0]']              \n",
            " ormalization)                  6)                                                                \n",
            "                                                                                                  \n",
            " activation_12 (Activation)     (None, 128, 128, 25  0           ['batch_normalization_12[0][0]'] \n",
            "                                6)                                                                \n",
            "                                                                                                  \n",
            " conv2d_13 (Conv2D)             (None, 128, 128, 25  590080      ['activation_12[0][0]']          \n",
            "                                6)                                                                \n",
            "                                                                                                  \n",
            " batch_normalization_13 (BatchN  (None, 128, 128, 25  1024       ['conv2d_13[0][0]']              \n",
            " ormalization)                  6)                                                                \n",
            "                                                                                                  \n",
            " activation_13 (Activation)     (None, 128, 128, 25  0           ['batch_normalization_13[0][0]'] \n",
            "                                6)                                                                \n",
            "                                                                                                  \n",
            " conv2d_transpose_2 (Conv2DTran  (None, 256, 256, 12  131200     ['activation_13[0][0]']          \n",
            " spose)                         8)                                                                \n",
            "                                                                                                  \n",
            " concatenate_2 (Concatenate)    (None, 256, 256, 25  0           ['conv2d_transpose_2[0][0]',     \n",
            "                                6)                                'activation_3[0][0]']           \n",
            "                                                                                                  \n",
            " conv2d_14 (Conv2D)             (None, 256, 256, 12  295040      ['concatenate_2[0][0]']          \n",
            "                                8)                                                                \n",
            "                                                                                                  \n",
            " batch_normalization_14 (BatchN  (None, 256, 256, 12  512        ['conv2d_14[0][0]']              \n",
            " ormalization)                  8)                                                                \n",
            "                                                                                                  \n",
            " activation_14 (Activation)     (None, 256, 256, 12  0           ['batch_normalization_14[0][0]'] \n",
            "                                8)                                                                \n",
            "                                                                                                  \n",
            " conv2d_15 (Conv2D)             (None, 256, 256, 12  147584      ['activation_14[0][0]']          \n",
            "                                8)                                                                \n",
            "                                                                                                  \n",
            " batch_normalization_15 (BatchN  (None, 256, 256, 12  512        ['conv2d_15[0][0]']              \n",
            " ormalization)                  8)                                                                \n",
            "                                                                                                  \n",
            " activation_15 (Activation)     (None, 256, 256, 12  0           ['batch_normalization_15[0][0]'] \n",
            "                                8)                                                                \n",
            "                                                                                                  \n",
            " conv2d_transpose_3 (Conv2DTran  (None, 512, 512, 64  32832      ['activation_15[0][0]']          \n",
            " spose)                         )                                                                 \n",
            "                                                                                                  \n",
            " concatenate_3 (Concatenate)    (None, 512, 512, 12  0           ['conv2d_transpose_3[0][0]',     \n",
            "                                8)                                'activation_1[0][0]']           \n",
            "                                                                                                  \n",
            " conv2d_16 (Conv2D)             (None, 512, 512, 64  73792       ['concatenate_3[0][0]']          \n",
            "                                )                                                                 \n",
            "                                                                                                  \n",
            " batch_normalization_16 (BatchN  (None, 512, 512, 64  256        ['conv2d_16[0][0]']              \n",
            " ormalization)                  )                                                                 \n",
            "                                                                                                  \n",
            " activation_16 (Activation)     (None, 512, 512, 64  0           ['batch_normalization_16[0][0]'] \n",
            "                                )                                                                 \n",
            "                                                                                                  \n",
            " conv2d_17 (Conv2D)             (None, 512, 512, 64  36928       ['activation_16[0][0]']          \n",
            "                                )                                                                 \n",
            "                                                                                                  \n",
            " batch_normalization_17 (BatchN  (None, 512, 512, 64  256        ['conv2d_17[0][0]']              \n",
            " ormalization)                  )                                                                 \n",
            "                                                                                                  \n",
            " activation_17 (Activation)     (None, 512, 512, 64  0           ['batch_normalization_17[0][0]'] \n",
            "                                )                                                                 \n",
            "                                                                                                  \n",
            " conv2d_18 (Conv2D)             (None, 512, 512, 1)  65          ['activation_17[0][0]']          \n",
            "                                                                                                  \n",
            "==================================================================================================\n",
            "Total params: 31,055,297\n",
            "Trainable params: 31,043,521\n",
            "Non-trainable params: 11,776\n",
            "__________________________________________________________________________________________________\n"
          ]
        }
      ],
      "source": [
        "def conv_block(inputs, num_filters):\n",
        "    x = Conv2D(num_filters, 3, padding=\"same\")(inputs)\n",
        "    x = BatchNormalization()(x)\n",
        "    x = Activation(\"relu\")(x)\n",
        "\n",
        "    x = Conv2D(num_filters, 3, padding=\"same\")(x)\n",
        "    x = BatchNormalization()(x)\n",
        "    x = Activation(\"relu\")(x)\n",
        "\n",
        "    return x\n",
        "\n",
        "def encoder_block(inputs, num_filters):\n",
        "    x = conv_block(inputs, num_filters)\n",
        "    p = MaxPool2D((2, 2))(x)\n",
        "    return x, p\n",
        "\n",
        "def decoder_block(inputs, skip_features, num_filters):\n",
        "    x = Conv2DTranspose(num_filters, (2, 2), strides=2, padding=\"same\")(inputs)\n",
        "    x = Concatenate()([x, skip_features])\n",
        "    x = conv_block(x, num_filters)\n",
        "    return x\n",
        "\n",
        "def build_unet(input_shape):\n",
        "    inputs = Input(input_shape)\n",
        "\n",
        "    s1, p1 = encoder_block(inputs, 64)\n",
        "    s2, p2 = encoder_block(p1, 128)\n",
        "    s3, p3 = encoder_block(p2, 256)\n",
        "    s4, p4 = encoder_block(p3, 512)\n",
        "\n",
        "    b1 = conv_block(p4, 1024)\n",
        "\n",
        "    d1 = decoder_block(b1, s4, 512)\n",
        "    d2 = decoder_block(d1, s3, 256)\n",
        "    d3 = decoder_block(d2, s2, 128)\n",
        "    d4 = decoder_block(d3, s1, 64)\n",
        "\n",
        "    outputs = Conv2D(1, 1, padding=\"same\", activation=\"sigmoid\")(d4)\n",
        "\n",
        "    model = Model(inputs, outputs, name=\"UNET\")\n",
        "    return model\n",
        "\n",
        "input_shape = (512, 512, 3)\n",
        "model = build_unet(input_shape)\n",
        "model.summary()"
      ]
    },
    {
      "cell_type": "markdown",
      "metadata": {
        "id": "TWKUCE3_6vBv"
      },
      "source": [
        "### Adding the Metrics:"
      ]
    },
    {
      "cell_type": "code",
      "execution_count": null,
      "metadata": {
        "id": "s5HXET5Z6uZX"
      },
      "outputs": [],
      "source": [
        "def iou(y_true, y_pred):\n",
        "    def f(y_true, y_pred):\n",
        "        intersection = (y_true * y_pred).sum()\n",
        "        union = y_true.sum() + y_pred.sum() - intersection\n",
        "        x = (intersection + 1e-15) / (union + 1e-15)\n",
        "        x = x.astype(np.float32)\n",
        "        return x\n",
        "    return tf.numpy_function(f, [y_true, y_pred], tf.float32)\n",
        "\n",
        "smooth = 1e-15\n",
        "def dice_coef(y_true, y_pred):\n",
        "    y_true = tf.keras.layers.Flatten()(y_true)\n",
        "    y_pred = tf.keras.layers.Flatten()(y_pred)\n",
        "    intersection = tf.reduce_sum(y_true * y_pred)\n",
        "    return (2. * intersection + smooth) / (tf.reduce_sum(y_true) + tf.reduce_sum(y_pred) + smooth)\n",
        "\n",
        "def dice_loss(y_true, y_pred):\n",
        "    return 1.0 - dice_coef(y_true, y_pred)\n",
        "\n",
        "def DiceBCELoss(y_true, y_pred):\n",
        "    \n",
        "    inputs = tf.keras.layers.Flatten()(y_true)\n",
        "    targets = tf.keras.layers.Flatten()(y_pred)\n",
        "\n",
        "    intersection = tf.reduce_sum(inputs * targets)\n",
        "    dice_loss = 1 - (2.*intersection + smooth)/(tf.reduce_sum(y_true) + tf.reduce_sum(y_pred) + smooth)\n",
        "    BCE = tf.keras.losses.BinaryCrossentropy()\n",
        "    Dice_BCE = BCE(inputs, targets) + dice_loss\n",
        "\n",
        "    return Dice_BCE\n",
        "\n",
        "def bce(y_true, y_pred):\n",
        "    \n",
        "    inputs = tf.keras.layers.Flatten()(y_true)\n",
        "    targets = tf.keras.layers.Flatten()(y_pred)\n",
        "    BCE = tf.keras.losses.BinaryCrossentropy()\n",
        "    Dice_BCE = BCE(inputs, targets)\n",
        "\n",
        "    return Dice_BCE"
      ]
    },
    {
      "cell_type": "markdown",
      "metadata": {
        "id": "fuGIkqEH65dX"
      },
      "source": [
        "\n",
        "\n",
        "### Training the Model:"
      ]
    },
    {
      "cell_type": "code",
      "execution_count": null,
      "metadata": {
        "colab": {
          "base_uri": "https://localhost:8080/"
        },
        "id": "1FT9iAYkUaeR",
        "outputId": "07bb2484-e3e4-409f-9f46-d60074fd0ec0"
      },
      "outputs": [
        {
          "name": "stdout",
          "output_type": "stream",
          "text": [
            "<function DiceBCELoss at 0x7f4f64bdb7a0>\n"
          ]
        }
      ],
      "source": [
        "if loss_str == \"bce\":\n",
        "    loss = bce\n",
        "elif loss_str == \"dice_bce\":\n",
        "    loss = DiceBCELoss\n",
        "elif loss_str == \"dice_loss\":\n",
        "    loss = dice_loss\n",
        "elif loss_str == \"wbce\":\n",
        "    loss = wbce\n",
        "else:\n",
        "    raise Exception(\"Invalid value for loss_str\")\n",
        "    \n",
        "print(loss)"
      ]
    },
    {
      "cell_type": "code",
      "execution_count": null,
      "metadata": {
        "id": "NNdxwX_-5udw"
      },
      "outputs": [],
      "source": [
        "H = patch_height\n",
        "W = patch_width\n",
        "\n",
        "def create_dir(path):\n",
        "    if not os.path.exists(path):\n",
        "        os.makedirs(path)\n",
        "\n",
        "def load_data(path):\n",
        "    x = sorted(glob(os.path.join(path, \"image\", \"*.png\")))\n",
        "    y = sorted(glob(os.path.join(path, \"mask\", \"*.png\")))\n",
        "    return x, y\n",
        "\n",
        "def shuffling(x, y):\n",
        "    x, y = shuffle(x, y, random_state=42)\n",
        "    return x, y\n",
        "\n",
        "def read_image(path):\n",
        "    path = path.decode()\n",
        "    x = cv2.imread(path, cv2.IMREAD_COLOR)\n",
        "    # x = cv2.resize(x, (W, H))\n",
        "    x = x/255.0\n",
        "    x = x.astype(np.float32)\n",
        "    return x\n",
        "\n",
        "def read_mask(path):\n",
        "    path = path.decode()\n",
        "    x = cv2.imread(path, cv2.IMREAD_GRAYSCALE)  ## (512, 512)\n",
        "    # x = cv2.resize(x, (W, H))\n",
        "    x = x/255.0\n",
        "    x = x.astype(np.float32)\n",
        "    x = np.expand_dims(x, axis=-1)              ## (512, 512, 1)\n",
        "    return x\n",
        "\n",
        "def tf_parse(x, y):\n",
        "    def _parse(x, y):\n",
        "        x = read_image(x)\n",
        "        y = read_mask(y)\n",
        "        return x, y\n",
        "\n",
        "    x, y = tf.numpy_function(_parse, [x, y], [tf.float32, tf.float32])\n",
        "    x.set_shape([H, W, 3])\n",
        "    y.set_shape([H, W, 1])\n",
        "    return x, y\n",
        "\n",
        "def tf_dataset(X, Y, batch_size=2):\n",
        "    dataset = tf.data.Dataset.from_tensor_slices((X, Y))\n",
        "    dataset = dataset.map(tf_parse)\n",
        "    dataset = dataset.batch(batch_size)\n",
        "    dataset = dataset.prefetch(4)\n",
        "    return dataset"
      ]
    },
    {
      "cell_type": "code",
      "execution_count": null,
      "metadata": {
        "id": "54fnwa9lJESj"
      },
      "outputs": [],
      "source": [
        "from keras.metrics import AUC"
      ]
    },
    {
      "cell_type": "code",
      "execution_count": null,
      "metadata": {
        "id": "ZKS1beyfSUHc"
      },
      "outputs": [],
      "source": [
        "model_dir = f\"{root_path}/trained_models/\""
      ]
    },
    {
      "cell_type": "code",
      "execution_count": null,
      "metadata": {
        "id": "q0GnRCID3HdL"
      },
      "outputs": [],
      "source": [
        "create_dir(model_dir)"
      ]
    },
    {
      "cell_type": "code",
      "execution_count": null,
      "metadata": {
        "id": "H4nNDNkuHTot"
      },
      "outputs": [],
      "source": [
        "!ls {model_dir}"
      ]
    },
    {
      "cell_type": "code",
      "execution_count": null,
      "metadata": {
        "colab": {
          "base_uri": "https://localhost:8080/"
        },
        "id": "nCnFXz7Xpvzi",
        "outputId": "76abe1cf-2a49-40d0-8499-367cac805335"
      },
      "outputs": [
        {
          "name": "stdout",
          "output_type": "stream",
          "text": [
            "/content/datasets\n"
          ]
        }
      ],
      "source": [
        "%cd /content/datasets"
      ]
    },
    {
      "cell_type": "code",
      "execution_count": null,
      "metadata": {
        "id": "OxDh2J2zGsNE"
      },
      "outputs": [],
      "source": [
        "from glob import glob"
      ]
    },
    {
      "cell_type": "code",
      "execution_count": null,
      "metadata": {
        "colab": {
          "background_save": true,
          "base_uri": "https://localhost:8080/"
        },
        "id": "R9oxQCQo7Jnw",
        "outputId": "afb576c4-c508-43a0-8328-e921c1d30d43"
      },
      "outputs": [
        {
          "name": "stdout",
          "output_type": "stream",
          "text": [
            "Train: 828 - 828\n",
            "Valid: 45 - 45\n",
            "Epoch 1/50\n",
            "104/104 [==============================] - ETA: 0s - loss: 0.9414 - dice_coef: 0.3119 - iou: 0.1875 - recall: 0.7277 - precision: 0.4023 - auc: 0.9330\n",
            "Epoch 1: val_loss improved from inf to 1.50701, saving model to /content/datasets/chase_db_384_384_dice_bce_0_4__hvr_0_4_1//trained_models/model.h5\n",
            "104/104 [==============================] - 55s 359ms/step - loss: 0.9414 - dice_coef: 0.3119 - iou: 0.1875 - recall: 0.7277 - precision: 0.4023 - auc: 0.9330 - val_loss: 1.5070 - val_dice_coef: 0.0716 - val_iou: 0.0372 - val_recall: 0.0000e+00 - val_precision: 0.0000e+00 - val_auc: 0.2473 - lr: 1.0000e-04\n",
            "Epoch 2/50\n",
            "104/104 [==============================] - ETA: 0s - loss: 0.6683 - dice_coef: 0.4645 - iou: 0.3039 - recall: 0.7772 - precision: 0.6799 - auc: 0.9731\n",
            "Epoch 2: val_loss improved from 1.50701 to 1.17272, saving model to /content/datasets/chase_db_384_384_dice_bce_0_4__hvr_0_4_1//trained_models/model.h5\n",
            "104/104 [==============================] - 33s 317ms/step - loss: 0.6683 - dice_coef: 0.4645 - iou: 0.3039 - recall: 0.7772 - precision: 0.6799 - auc: 0.9731 - val_loss: 1.1727 - val_dice_coef: 0.0583 - val_iou: 0.0300 - val_recall: 0.0000e+00 - val_precision: 0.0000e+00 - val_auc: 0.2999 - lr: 1.0000e-04\n",
            "Epoch 3/50\n",
            "104/104 [==============================] - ETA: 0s - loss: 0.5689 - dice_coef: 0.5370 - iou: 0.3683 - recall: 0.8044 - precision: 0.7274 - auc: 0.9776\n",
            "Epoch 3: val_loss improved from 1.17272 to 1.14364, saving model to /content/datasets/chase_db_384_384_dice_bce_0_4__hvr_0_4_1//trained_models/model.h5\n",
            "104/104 [==============================] - 33s 317ms/step - loss: 0.5689 - dice_coef: 0.5370 - iou: 0.3683 - recall: 0.8044 - precision: 0.7274 - auc: 0.9776 - val_loss: 1.1436 - val_dice_coef: 0.0594 - val_iou: 0.0306 - val_recall: 0.0144 - val_precision: 0.1417 - val_auc: 0.3769 - lr: 1.0000e-04\n",
            "Epoch 4/50\n",
            "104/104 [==============================] - ETA: 0s - loss: 0.5009 - dice_coef: 0.5896 - iou: 0.4194 - recall: 0.8200 - precision: 0.7596 - auc: 0.9807\n",
            "Epoch 4: val_loss improved from 1.14364 to 0.90534, saving model to /content/datasets/chase_db_384_384_dice_bce_0_4__hvr_0_4_1//trained_models/model.h5\n",
            "104/104 [==============================] - 33s 318ms/step - loss: 0.5009 - dice_coef: 0.5896 - iou: 0.4194 - recall: 0.8200 - precision: 0.7596 - auc: 0.9807 - val_loss: 0.9053 - val_dice_coef: 0.2439 - val_iou: 0.1393 - val_recall: 0.2588 - val_precision: 0.5875 - val_auc: 0.8029 - lr: 1.0000e-04\n",
            "Epoch 5/50\n",
            "104/104 [==============================] - ETA: 0s - loss: 0.4480 - dice_coef: 0.6321 - iou: 0.4634 - recall: 0.8292 - precision: 0.7800 - auc: 0.9828\n",
            "Epoch 5: val_loss improved from 0.90534 to 0.58343, saving model to /content/datasets/chase_db_384_384_dice_bce_0_4__hvr_0_4_1//trained_models/model.h5\n",
            "104/104 [==============================] - 33s 318ms/step - loss: 0.4480 - dice_coef: 0.6321 - iou: 0.4634 - recall: 0.8292 - precision: 0.7800 - auc: 0.9828 - val_loss: 0.5834 - val_dice_coef: 0.5085 - val_iou: 0.3419 - val_recall: 0.6100 - val_precision: 0.7851 - val_auc: 0.9604 - lr: 1.0000e-04\n",
            "Epoch 6/50\n",
            "104/104 [==============================] - ETA: 0s - loss: 0.4088 - dice_coef: 0.6647 - iou: 0.4990 - recall: 0.8342 - precision: 0.7931 - auc: 0.9836\n",
            "Epoch 6: val_loss improved from 0.58343 to 0.46308, saving model to /content/datasets/chase_db_384_384_dice_bce_0_4__hvr_0_4_1//trained_models/model.h5\n",
            "104/104 [==============================] - 33s 318ms/step - loss: 0.4088 - dice_coef: 0.6647 - iou: 0.4990 - recall: 0.8342 - precision: 0.7931 - auc: 0.9836 - val_loss: 0.4631 - val_dice_coef: 0.6117 - val_iou: 0.4416 - val_recall: 0.7387 - val_precision: 0.7904 - val_auc: 0.9772 - lr: 1.0000e-04\n",
            "Epoch 7/50\n",
            "104/104 [==============================] - ETA: 0s - loss: 0.3776 - dice_coef: 0.6912 - iou: 0.5293 - recall: 0.8364 - precision: 0.8039 - auc: 0.9840\n",
            "Epoch 7: val_loss improved from 0.46308 to 0.44786, saving model to /content/datasets/chase_db_384_384_dice_bce_0_4__hvr_0_4_1//trained_models/model.h5\n",
            "104/104 [==============================] - 33s 318ms/step - loss: 0.3776 - dice_coef: 0.6912 - iou: 0.5293 - recall: 0.8364 - precision: 0.8039 - auc: 0.9840 - val_loss: 0.4479 - val_dice_coef: 0.6358 - val_iou: 0.4666 - val_recall: 0.8088 - val_precision: 0.7235 - val_auc: 0.9761 - lr: 1.0000e-04\n",
            "Epoch 8/50\n",
            "104/104 [==============================] - ETA: 0s - loss: 0.3533 - dice_coef: 0.7122 - iou: 0.5542 - recall: 0.8365 - precision: 0.8117 - auc: 0.9844\n",
            "Epoch 8: val_loss did not improve from 0.44786\n",
            "104/104 [==============================] - 32s 309ms/step - loss: 0.3533 - dice_coef: 0.7122 - iou: 0.5542 - recall: 0.8365 - precision: 0.8117 - auc: 0.9844 - val_loss: 0.5006 - val_dice_coef: 0.6057 - val_iou: 0.4369 - val_recall: 0.8220 - val_precision: 0.5925 - val_auc: 0.9697 - lr: 1.0000e-04\n",
            "Epoch 9/50\n",
            "104/104 [==============================] - ETA: 0s - loss: 0.3318 - dice_coef: 0.7307 - iou: 0.5768 - recall: 0.8391 - precision: 0.8178 - auc: 0.9856\n",
            "Epoch 9: val_loss did not improve from 0.44786\n",
            "104/104 [==============================] - 32s 309ms/step - loss: 0.3318 - dice_coef: 0.7307 - iou: 0.5768 - recall: 0.8391 - precision: 0.8178 - auc: 0.9856 - val_loss: 0.4523 - val_dice_coef: 0.6407 - val_iou: 0.4726 - val_recall: 0.8336 - val_precision: 0.6584 - val_auc: 0.9697 - lr: 1.0000e-04\n",
            "Epoch 10/50\n",
            "104/104 [==============================] - ETA: 0s - loss: 0.3120 - dice_coef: 0.7478 - iou: 0.5982 - recall: 0.8419 - precision: 0.8254 - auc: 0.9860\n",
            "Epoch 10: val_loss improved from 0.44786 to 0.39523, saving model to /content/datasets/chase_db_384_384_dice_bce_0_4__hvr_0_4_1//trained_models/model.h5\n",
            "104/104 [==============================] - 33s 318ms/step - loss: 0.3120 - dice_coef: 0.7478 - iou: 0.5982 - recall: 0.8419 - precision: 0.8254 - auc: 0.9860 - val_loss: 0.3952 - val_dice_coef: 0.6831 - val_iou: 0.5193 - val_recall: 0.7961 - val_precision: 0.7454 - val_auc: 0.9564 - lr: 1.0000e-04\n",
            "Epoch 11/50\n",
            "104/104 [==============================] - ETA: 0s - loss: 0.2966 - dice_coef: 0.7613 - iou: 0.6156 - recall: 0.8443 - precision: 0.8304 - auc: 0.9856\n",
            "Epoch 11: val_loss improved from 0.39523 to 0.37685, saving model to /content/datasets/chase_db_384_384_dice_bce_0_4__hvr_0_4_1//trained_models/model.h5\n",
            "104/104 [==============================] - 33s 318ms/step - loss: 0.2966 - dice_coef: 0.7613 - iou: 0.6156 - recall: 0.8443 - precision: 0.8304 - auc: 0.9856 - val_loss: 0.3769 - val_dice_coef: 0.6988 - val_iou: 0.5376 - val_recall: 0.7793 - val_precision: 0.7650 - val_auc: 0.9640 - lr: 1.0000e-04\n",
            "Epoch 12/50\n",
            "104/104 [==============================] - ETA: 0s - loss: 0.2838 - dice_coef: 0.7726 - iou: 0.6304 - recall: 0.8460 - precision: 0.8346 - auc: 0.9856\n",
            "Epoch 12: val_loss did not improve from 0.37685\n",
            "104/104 [==============================] - 32s 309ms/step - loss: 0.2838 - dice_coef: 0.7726 - iou: 0.6304 - recall: 0.8460 - precision: 0.8346 - auc: 0.9856 - val_loss: 0.3781 - val_dice_coef: 0.7010 - val_iou: 0.5400 - val_recall: 0.8188 - val_precision: 0.7296 - val_auc: 0.9720 - lr: 1.0000e-04\n",
            "Epoch 13/50\n",
            "104/104 [==============================] - ETA: 0s - loss: 0.2827 - dice_coef: 0.7749 - iou: 0.6334 - recall: 0.8398 - precision: 0.8323 - auc: 0.9843\n",
            "Epoch 13: val_loss improved from 0.37685 to 0.36548, saving model to /content/datasets/chase_db_384_384_dice_bce_0_4__hvr_0_4_1//trained_models/model.h5\n",
            "104/104 [==============================] - 33s 318ms/step - loss: 0.2827 - dice_coef: 0.7749 - iou: 0.6334 - recall: 0.8398 - precision: 0.8323 - auc: 0.9843 - val_loss: 0.3655 - val_dice_coef: 0.7125 - val_iou: 0.5536 - val_recall: 0.8123 - val_precision: 0.7446 - val_auc: 0.9695 - lr: 1.0000e-04\n",
            "Epoch 14/50\n",
            "104/104 [==============================] - ETA: 0s - loss: 0.2622 - dice_coef: 0.7916 - iou: 0.6558 - recall: 0.8502 - precision: 0.8421 - auc: 0.9875\n",
            "Epoch 14: val_loss improved from 0.36548 to 0.36360, saving model to /content/datasets/chase_db_384_384_dice_bce_0_4__hvr_0_4_1//trained_models/model.h5\n",
            "104/104 [==============================] - 33s 319ms/step - loss: 0.2622 - dice_coef: 0.7916 - iou: 0.6558 - recall: 0.8502 - precision: 0.8421 - auc: 0.9875 - val_loss: 0.3636 - val_dice_coef: 0.7158 - val_iou: 0.5576 - val_recall: 0.8316 - val_precision: 0.7250 - val_auc: 0.9698 - lr: 1.0000e-04\n",
            "Epoch 15/50\n",
            "104/104 [==============================] - ETA: 0s - loss: 0.2499 - dice_coef: 0.8021 - iou: 0.6702 - recall: 0.8556 - precision: 0.8474 - auc: 0.9881\n",
            "Epoch 15: val_loss did not improve from 0.36360\n",
            "104/104 [==============================] - 32s 310ms/step - loss: 0.2499 - dice_coef: 0.8021 - iou: 0.6702 - recall: 0.8556 - precision: 0.8474 - auc: 0.9881 - val_loss: 0.3681 - val_dice_coef: 0.7111 - val_iou: 0.5522 - val_recall: 0.7757 - val_precision: 0.7528 - val_auc: 0.9713 - lr: 1.0000e-04\n",
            "Epoch 16/50\n",
            "104/104 [==============================] - ETA: 0s - loss: 0.2390 - dice_coef: 0.8113 - iou: 0.6832 - recall: 0.8597 - precision: 0.8535 - auc: 0.9881\n",
            "Epoch 16: val_loss did not improve from 0.36360\n",
            "104/104 [==============================] - 32s 310ms/step - loss: 0.2390 - dice_coef: 0.8113 - iou: 0.6832 - recall: 0.8597 - precision: 0.8535 - auc: 0.9881 - val_loss: 0.3793 - val_dice_coef: 0.7036 - val_iou: 0.5437 - val_recall: 0.7349 - val_precision: 0.7703 - val_auc: 0.9572 - lr: 1.0000e-04\n",
            "Epoch 17/50\n",
            "104/104 [==============================] - ETA: 0s - loss: 0.2319 - dice_coef: 0.8175 - iou: 0.6919 - recall: 0.8612 - precision: 0.8570 - auc: 0.9877\n",
            "Epoch 17: val_loss did not improve from 0.36360\n",
            "104/104 [==============================] - 32s 310ms/step - loss: 0.2319 - dice_coef: 0.8175 - iou: 0.6919 - recall: 0.8612 - precision: 0.8570 - auc: 0.9877 - val_loss: 0.3927 - val_dice_coef: 0.7030 - val_iou: 0.5421 - val_recall: 0.8443 - val_precision: 0.6597 - val_auc: 0.9723 - lr: 1.0000e-04\n",
            "Epoch 18/50\n",
            "104/104 [==============================] - ETA: 0s - loss: 0.2238 - dice_coef: 0.8243 - iou: 0.7017 - recall: 0.8642 - precision: 0.8605 - auc: 0.9876\n",
            "Epoch 18: val_loss improved from 0.36360 to 0.36257, saving model to /content/datasets/chase_db_384_384_dice_bce_0_4__hvr_0_4_1//trained_models/model.h5\n",
            "104/104 [==============================] - 33s 319ms/step - loss: 0.2238 - dice_coef: 0.8243 - iou: 0.7017 - recall: 0.8642 - precision: 0.8605 - auc: 0.9876 - val_loss: 0.3626 - val_dice_coef: 0.7223 - val_iou: 0.5657 - val_recall: 0.7677 - val_precision: 0.7534 - val_auc: 0.9644 - lr: 1.0000e-04\n",
            "Epoch 19/50\n",
            "104/104 [==============================] - ETA: 0s - loss: 0.2173 - dice_coef: 0.8298 - iou: 0.7096 - recall: 0.8660 - precision: 0.8641 - auc: 0.9872\n",
            "Epoch 19: val_loss improved from 0.36257 to 0.33904, saving model to /content/datasets/chase_db_384_384_dice_bce_0_4__hvr_0_4_1//trained_models/model.h5\n",
            "104/104 [==============================] - 33s 318ms/step - loss: 0.2173 - dice_coef: 0.8298 - iou: 0.7096 - recall: 0.8660 - precision: 0.8641 - auc: 0.9872 - val_loss: 0.3390 - val_dice_coef: 0.7389 - val_iou: 0.5864 - val_recall: 0.8159 - val_precision: 0.7382 - val_auc: 0.9704 - lr: 1.0000e-04\n",
            "Epoch 20/50\n",
            "104/104 [==============================] - ETA: 0s - loss: 0.2133 - dice_coef: 0.8334 - iou: 0.7149 - recall: 0.8669 - precision: 0.8656 - auc: 0.9869\n",
            "Epoch 20: val_loss improved from 0.33904 to 0.33061, saving model to /content/datasets/chase_db_384_384_dice_bce_0_4__hvr_0_4_1//trained_models/model.h5\n",
            "104/104 [==============================] - 33s 319ms/step - loss: 0.2133 - dice_coef: 0.8334 - iou: 0.7149 - recall: 0.8669 - precision: 0.8656 - auc: 0.9869 - val_loss: 0.3306 - val_dice_coef: 0.7423 - val_iou: 0.5916 - val_recall: 0.7939 - val_precision: 0.7655 - val_auc: 0.9631 - lr: 1.0000e-04\n",
            "Epoch 21/50\n",
            "104/104 [==============================] - ETA: 0s - loss: 0.2099 - dice_coef: 0.8363 - iou: 0.7192 - recall: 0.8686 - precision: 0.8660 - auc: 0.9865\n",
            "Epoch 21: val_loss did not improve from 0.33061\n",
            "104/104 [==============================] - 32s 310ms/step - loss: 0.2099 - dice_coef: 0.8363 - iou: 0.7192 - recall: 0.8686 - precision: 0.8660 - auc: 0.9865 - val_loss: 0.3457 - val_dice_coef: 0.7398 - val_iou: 0.5874 - val_recall: 0.8309 - val_precision: 0.7202 - val_auc: 0.9694 - lr: 1.0000e-04\n",
            "Epoch 22/50\n",
            "104/104 [==============================] - ETA: 0s - loss: 0.2006 - dice_coef: 0.8438 - iou: 0.7303 - recall: 0.8736 - precision: 0.8718 - auc: 0.9866\n",
            "Epoch 22: val_loss did not improve from 0.33061\n",
            "104/104 [==============================] - 32s 310ms/step - loss: 0.2006 - dice_coef: 0.8438 - iou: 0.7303 - recall: 0.8736 - precision: 0.8718 - auc: 0.9866 - val_loss: 0.3551 - val_dice_coef: 0.7296 - val_iou: 0.5751 - val_recall: 0.7779 - val_precision: 0.7394 - val_auc: 0.9518 - lr: 1.0000e-04\n",
            "Epoch 23/50\n",
            "104/104 [==============================] - ETA: 0s - loss: 0.1946 - dice_coef: 0.8489 - iou: 0.7379 - recall: 0.8757 - precision: 0.8759 - auc: 0.9863\n",
            "Epoch 23: val_loss did not improve from 0.33061\n",
            "104/104 [==============================] - 32s 310ms/step - loss: 0.1946 - dice_coef: 0.8489 - iou: 0.7379 - recall: 0.8757 - precision: 0.8759 - auc: 0.9863 - val_loss: 0.3526 - val_dice_coef: 0.7316 - val_iou: 0.5778 - val_recall: 0.7764 - val_precision: 0.7472 - val_auc: 0.9515 - lr: 1.0000e-04\n",
            "Epoch 24/50\n",
            "104/104 [==============================] - ETA: 0s - loss: 0.1916 - dice_coef: 0.8513 - iou: 0.7415 - recall: 0.8776 - precision: 0.8763 - auc: 0.9864\n",
            "Epoch 24: val_loss did not improve from 0.33061\n",
            "104/104 [==============================] - 32s 310ms/step - loss: 0.1916 - dice_coef: 0.8513 - iou: 0.7415 - recall: 0.8776 - precision: 0.8763 - auc: 0.9864 - val_loss: 0.3551 - val_dice_coef: 0.7317 - val_iou: 0.5777 - val_recall: 0.7723 - val_precision: 0.7436 - val_auc: 0.9525 - lr: 1.0000e-04\n",
            "Epoch 25/50\n",
            "104/104 [==============================] - ETA: 0s - loss: 0.1874 - dice_coef: 0.8548 - iou: 0.7469 - recall: 0.8793 - precision: 0.8786 - auc: 0.9864\n",
            "Epoch 25: val_loss did not improve from 0.33061\n",
            "\n",
            "Epoch 25: ReduceLROnPlateau reducing learning rate to 9.999999747378752e-06.\n",
            "104/104 [==============================] - 32s 310ms/step - loss: 0.1874 - dice_coef: 0.8548 - iou: 0.7469 - recall: 0.8793 - precision: 0.8786 - auc: 0.9864 - val_loss: 0.3429 - val_dice_coef: 0.7458 - val_iou: 0.5952 - val_recall: 0.8047 - val_precision: 0.7367 - val_auc: 0.9528 - lr: 1.0000e-04\n",
            "Epoch 26/50\n",
            "104/104 [==============================] - ETA: 0s - loss: 0.1853 - dice_coef: 0.8564 - iou: 0.7491 - recall: 0.8806 - precision: 0.8778 - auc: 0.9861\n",
            "Epoch 26: val_loss improved from 0.33061 to 0.30210, saving model to /content/datasets/chase_db_384_384_dice_bce_0_4__hvr_0_4_1//trained_models/model.h5\n",
            "104/104 [==============================] - 33s 320ms/step - loss: 0.1853 - dice_coef: 0.8564 - iou: 0.7491 - recall: 0.8806 - precision: 0.8778 - auc: 0.9861 - val_loss: 0.3021 - val_dice_coef: 0.7657 - val_iou: 0.6211 - val_recall: 0.7521 - val_precision: 0.8301 - val_auc: 0.9562 - lr: 1.0000e-05\n",
            "Epoch 27/50\n",
            "104/104 [==============================] - ETA: 0s - loss: 0.1726 - dice_coef: 0.8655 - iou: 0.7632 - recall: 0.8877 - precision: 0.8895 - auc: 0.9876\n",
            "Epoch 27: val_loss did not improve from 0.30210\n",
            "104/104 [==============================] - 32s 311ms/step - loss: 0.1726 - dice_coef: 0.8655 - iou: 0.7632 - recall: 0.8877 - precision: 0.8895 - auc: 0.9876 - val_loss: 0.3147 - val_dice_coef: 0.7553 - val_iou: 0.6077 - val_recall: 0.7235 - val_precision: 0.8442 - val_auc: 0.9505 - lr: 1.0000e-05\n",
            "Epoch 28/50\n",
            "104/104 [==============================] - ETA: 0s - loss: 0.1665 - dice_coef: 0.8704 - iou: 0.7708 - recall: 0.8914 - precision: 0.8947 - auc: 0.9878\n",
            "Epoch 28: val_loss did not improve from 0.30210\n",
            "104/104 [==============================] - 32s 311ms/step - loss: 0.1665 - dice_coef: 0.8704 - iou: 0.7708 - recall: 0.8914 - precision: 0.8947 - auc: 0.9878 - val_loss: 0.3178 - val_dice_coef: 0.7530 - val_iou: 0.6047 - val_recall: 0.7144 - val_precision: 0.8495 - val_auc: 0.9484 - lr: 1.0000e-05\n",
            "Epoch 29/50\n",
            "104/104 [==============================] - ETA: 0s - loss: 0.1619 - dice_coef: 0.8741 - iou: 0.7766 - recall: 0.8933 - precision: 0.8997 - auc: 0.9879\n",
            "Epoch 29: val_loss did not improve from 0.30210\n",
            "104/104 [==============================] - 32s 311ms/step - loss: 0.1619 - dice_coef: 0.8741 - iou: 0.7766 - recall: 0.8933 - precision: 0.8997 - auc: 0.9879 - val_loss: 0.3126 - val_dice_coef: 0.7585 - val_iou: 0.6118 - val_recall: 0.7270 - val_precision: 0.8434 - val_auc: 0.9490 - lr: 1.0000e-05\n",
            "Epoch 30/50\n",
            "104/104 [==============================] - ETA: 0s - loss: 0.1569 - dice_coef: 0.8780 - iou: 0.7827 - recall: 0.8962 - precision: 0.9043 - auc: 0.9881\n",
            "Epoch 30: val_loss did not improve from 0.30210\n",
            "104/104 [==============================] - 32s 311ms/step - loss: 0.1569 - dice_coef: 0.8780 - iou: 0.7827 - recall: 0.8962 - precision: 0.9043 - auc: 0.9881 - val_loss: 0.3098 - val_dice_coef: 0.7624 - val_iou: 0.6168 - val_recall: 0.7357 - val_precision: 0.8386 - val_auc: 0.9483 - lr: 1.0000e-05\n",
            "Epoch 31/50\n",
            "104/104 [==============================] - ETA: 0s - loss: 0.1520 - dice_coef: 0.8818 - iou: 0.7887 - recall: 0.9000 - precision: 0.9077 - auc: 0.9883\n",
            "Epoch 31: val_loss did not improve from 0.30210\n",
            "\n",
            "Epoch 31: ReduceLROnPlateau reducing learning rate to 1e-06.\n",
            "104/104 [==============================] - 32s 311ms/step - loss: 0.1520 - dice_coef: 0.8818 - iou: 0.7887 - recall: 0.9000 - precision: 0.9077 - auc: 0.9883 - val_loss: 0.3123 - val_dice_coef: 0.7617 - val_iou: 0.6160 - val_recall: 0.7322 - val_precision: 0.8388 - val_auc: 0.9450 - lr: 1.0000e-05\n",
            "Epoch 32/50\n",
            "104/104 [==============================] - ETA: 0s - loss: 0.1597 - dice_coef: 0.8764 - iou: 0.7802 - recall: 0.8911 - precision: 0.9031 - auc: 0.9877\n",
            "Epoch 32: val_loss did not improve from 0.30210\n",
            "104/104 [==============================] - 32s 311ms/step - loss: 0.1597 - dice_coef: 0.8764 - iou: 0.7802 - recall: 0.8911 - precision: 0.9031 - auc: 0.9877 - val_loss: 0.3076 - val_dice_coef: 0.7675 - val_iou: 0.6233 - val_recall: 0.7589 - val_precision: 0.8210 - val_auc: 0.9507 - lr: 1.0000e-06\n",
            "Epoch 33/50\n",
            "104/104 [==============================] - ETA: 0s - loss: 0.1579 - dice_coef: 0.8776 - iou: 0.7822 - recall: 0.8910 - precision: 0.9060 - auc: 0.9878\n",
            "Epoch 33: val_loss did not improve from 0.30210\n",
            "104/104 [==============================] - 32s 311ms/step - loss: 0.1579 - dice_coef: 0.8776 - iou: 0.7822 - recall: 0.8910 - precision: 0.9060 - auc: 0.9878 - val_loss: 0.3059 - val_dice_coef: 0.7698 - val_iou: 0.6264 - val_recall: 0.7687 - val_precision: 0.8126 - val_auc: 0.9526 - lr: 1.0000e-06\n",
            "Epoch 34/50\n",
            "104/104 [==============================] - ETA: 0s - loss: 0.1559 - dice_coef: 0.8791 - iou: 0.7845 - recall: 0.8937 - precision: 0.9065 - auc: 0.9881\n",
            "Epoch 34: val_loss did not improve from 0.30210\n",
            "104/104 [==============================] - 32s 311ms/step - loss: 0.1559 - dice_coef: 0.8791 - iou: 0.7845 - recall: 0.8937 - precision: 0.9065 - auc: 0.9881 - val_loss: 0.3054 - val_dice_coef: 0.7705 - val_iou: 0.6273 - val_recall: 0.7722 - val_precision: 0.8095 - val_auc: 0.9531 - lr: 1.0000e-06\n",
            "Epoch 35/50\n",
            "104/104 [==============================] - ETA: 0s - loss: 0.1545 - dice_coef: 0.8800 - iou: 0.7861 - recall: 0.8953 - precision: 0.9069 - auc: 0.9883\n",
            "Epoch 35: val_loss did not improve from 0.30210\n",
            "104/104 [==============================] - 32s 311ms/step - loss: 0.1545 - dice_coef: 0.8800 - iou: 0.7861 - recall: 0.8953 - precision: 0.9069 - auc: 0.9883 - val_loss: 0.3053 - val_dice_coef: 0.7707 - val_iou: 0.6276 - val_recall: 0.7732 - val_precision: 0.8086 - val_auc: 0.9533 - lr: 1.0000e-06\n",
            "Epoch 36/50\n",
            "104/104 [==============================] - ETA: 0s - loss: 0.1535 - dice_coef: 0.8808 - iou: 0.7873 - recall: 0.8966 - precision: 0.9073 - auc: 0.9884\n",
            "Epoch 36: val_loss did not improve from 0.30210\n",
            "104/104 [==============================] - 32s 311ms/step - loss: 0.1535 - dice_coef: 0.8808 - iou: 0.7873 - recall: 0.8966 - precision: 0.9073 - auc: 0.9884 - val_loss: 0.3053 - val_dice_coef: 0.7708 - val_iou: 0.6276 - val_recall: 0.7735 - val_precision: 0.8083 - val_auc: 0.9533 - lr: 1.0000e-06\n"
          ]
        },
        {
          "data": {
            "text/plain": [
              "<keras.callbacks.History at 0x7f4f88186bd0>"
            ]
          },
          "execution_count": null,
          "metadata": {},
          "output_type": "execute_result"
        }
      ],
      "source": [
        "\"\"\" Seeding \"\"\"\n",
        "np.random.seed(42)\n",
        "tf.random.set_seed(42)\n",
        "\n",
        "\"\"\" Directory to save files \"\"\"\n",
        "create_dir(model_dir)\n",
        "\n",
        "\"\"\" Hyperparameters \"\"\"\n",
        "batch_size = 8\n",
        "lr = 1e-4\n",
        "num_epochs = 50\n",
        "model_path = os.path.join(f\"{model_dir}\", \"model.h5\")\n",
        "csv_path = os.path.join(f\"{model_dir}\", \"data.csv\")\n",
        "\n",
        "\"\"\" Dataset \"\"\"\n",
        "dataset_path = f\"{data_path}/{split_name}\"\n",
        "train_path = os.path.join(dataset_path, \"train\")\n",
        "valid_path = os.path.join(dataset_path, \"test\")\n",
        "\n",
        "train_x, train_y = load_data(train_path)\n",
        "# train_x, train_y = shuffling(train_x, train_y)\n",
        "valid_x, valid_y = load_data(valid_path)\n",
        "\n",
        "print(f\"Train: {len(train_x)} - {len(train_y)}\")\n",
        "print(f\"Valid: {len(valid_x)} - {len(valid_y)}\")\n",
        "\n",
        "train_dataset = tf_dataset(train_x, train_y, batch_size=batch_size)\n",
        "valid_dataset = tf_dataset(valid_x, valid_y, batch_size=batch_size)\n",
        "\n",
        "train_steps = len(train_x)//batch_size\n",
        "valid_setps = len(valid_x)//batch_size\n",
        "\n",
        "if len(train_x) % batch_size != 0:\n",
        "    train_steps += 1\n",
        "if len(valid_x) % batch_size != 0:\n",
        "    valid_setps += 1\n",
        "\n",
        "\"\"\" Model \"\"\"\n",
        "model = build_unet((H, W, 3))\n",
        "model.compile(loss=loss, optimizer=Adam(lr), metrics=[dice_coef, iou, Recall(), Precision(), AUC()])\n",
        "\n",
        "callbacks = [\n",
        "    ModelCheckpoint(model_path, verbose=1, save_best_only=True),\n",
        "    ReduceLROnPlateau(monitor=\"val_loss\", factor=0.1, patience=5, min_lr=1e-6, verbose=1),\n",
        "    CSVLogger(csv_path),\n",
        "    TensorBoard(),\n",
        "    EarlyStopping(monitor=\"val_loss\", patience=10, restore_best_weights=False)\n",
        "]\n",
        "\n",
        "model.fit(\n",
        "    train_dataset,\n",
        "    epochs=num_epochs,\n",
        "    validation_data=valid_dataset,\n",
        "    steps_per_epoch=train_steps,\n",
        "    validation_steps=valid_setps,\n",
        "    callbacks=callbacks\n",
        ")"
      ]
    },
    {
      "cell_type": "markdown",
      "metadata": {
        "id": "z0HWQPIv6F3u"
      },
      "source": [
        "### Evaluating the Model:"
      ]
    },
    {
      "cell_type": "code",
      "execution_count": null,
      "metadata": {
        "colab": {
          "background_save": true
        },
        "id": "Ptl8ug8uby3R"
      },
      "outputs": [],
      "source": [
        "import os\n",
        "os.environ[\"TF_CPP_MIN_LOG_LEVEL\"] = \"2\"\n",
        "import numpy as np\n",
        "import pandas as pd\n",
        "import cv2\n",
        "from glob import glob\n",
        "from tqdm import tqdm\n",
        "import tensorflow as tf\n",
        "from tensorflow.keras.utils import CustomObjectScope\n",
        "from sklearn.metrics import accuracy_score, f1_score, jaccard_score, precision_score, recall_score\n",
        "from tensorflow.keras.models import load_model"
      ]
    },
    {
      "cell_type": "code",
      "execution_count": null,
      "metadata": {
        "colab": {
          "background_save": true
        },
        "id": "HmFXTEtz6Rhn"
      },
      "outputs": [],
      "source": [
        "\n",
        "def create_dir(path):\n",
        "    if not os.path.exists(path):\n",
        "        os.makedirs(path)\n",
        "\n",
        "def read_image(path):\n",
        "    x = cv2.imread(path, cv2.IMREAD_COLOR)\n",
        "    # x = cv2.resize(x, (W, H))\n",
        "    ori_x = x\n",
        "    x = x/255.0\n",
        "    x = x.astype(np.float32)\n",
        "    return ori_x, x\n",
        "\n",
        "def read_mask(path):\n",
        "    x = cv2.imread(path, cv2.IMREAD_GRAYSCALE)  ## (512, 512)\n",
        "    # x = cv2.resize(x, (W, H))\n",
        "    ori_x = x\n",
        "    x = x/255.0\n",
        "    x = x.astype(np.int32)\n",
        "    return ori_x, x\n",
        "\n",
        "def load_data(path):\n",
        "    x = sorted(glob(os.path.join(path, \"image\", \"*.png\")))\n",
        "    y = sorted(glob(os.path.join(path, \"mask\", \"*.png\")))\n",
        "    return x, y\n",
        "\n",
        "def save_results(ori_x, ori_y, y_pred, save_image_path):\n",
        "    line = np.ones((H, 10, 3)) * 255\n",
        "\n",
        "    ori_y = np.expand_dims(ori_y, axis=-1)\n",
        "    ori_y = np.concatenate([ori_y, ori_y, ori_y], axis=-1)\n",
        "\n",
        "    y_pred = np.expand_dims(y_pred, axis=-1)\n",
        "    y_pred = np.concatenate([y_pred, y_pred, y_pred], axis=-1) * 255\n",
        "\n",
        "    cat_images = np.concatenate([ori_x, line, ori_y, line, y_pred], axis=1)\n",
        "    cv2.imwrite(save_image_path, cat_images)"
      ]
    },
    {
      "cell_type": "code",
      "execution_count": null,
      "metadata": {
        "colab": {
          "background_save": true
        },
        "id": "AVfRbYagZChd"
      },
      "outputs": [],
      "source": [
        "import glob\n",
        "supported_extensions = [\"png\", \"jpg\", \"tif\", \"jpeg\", \"gif\", \"bmp\"]\n",
        "\n",
        "def image_files(path, file_prefix=None):\n",
        "    all_image_files = []\n",
        "    # print(\"path\", path)\n",
        "    # print(\"file_prefix\", file_prefix)\n",
        "    if file_prefix is None:\n",
        "        file_names = list(glob.glob(path + \"/*.*\" ))\n",
        "    else:\n",
        "        prefix___ = path + \"/\" + file_prefix + \".*\"\n",
        "        #print(\"prefix\", prefix___)\n",
        "        file_names = list(glob.glob(prefix___))\n",
        "\n",
        "    # print(\"filenames\", file_names)\n",
        "\n",
        "    for filename in file_names:\n",
        "        ext = filename.rsplit(\".\", 1)[1]\n",
        "        if ext.lower() in supported_extensions:\n",
        "            all_image_files.append(filename)\n",
        "    # print(\"All Image files\", all_image_files)\n",
        "    return sorted(all_image_files)\n"
      ]
    },
    {
      "cell_type": "code",
      "execution_count": null,
      "metadata": {
        "colab": {
          "background_save": true
        },
        "id": "41UgJB8nD_XH"
      },
      "outputs": [],
      "source": [
        "results_path = f\"{root_path}/results/\"\n",
        "prediction_path = f\"{root_path}/predictions/\"\n",
        "prediction_np_path = f\"{root_path}/predictions_np/\"\n",
        "create_dir(prediction_path)\n",
        "create_dir(prediction_np_path)\n",
        "create_dir(results_path)"
      ]
    },
    {
      "cell_type": "code",
      "execution_count": null,
      "metadata": {
        "colab": {
          "background_save": true
        },
        "id": "BJYCeRNgZOHE",
        "outputId": "c2b629fb-e54e-4230-a3df-8dd6d4a359da"
      },
      "outputs": [
        {
          "data": {
            "application/vnd.google.colaboratory.intrinsic+json": {
              "type": "string"
            },
            "text/plain": [
              "'/content/datasets/chase_db_384_384_dice_bce_0_4__hvr_0_4_1//results/'"
            ]
          },
          "execution_count": null,
          "metadata": {},
          "output_type": "execute_result"
        }
      ],
      "source": [
        "results_path"
      ]
    },
    {
      "cell_type": "code",
      "execution_count": null,
      "metadata": {
        "colab": {
          "background_save": true
        },
        "id": "R9b3W24IZwQO"
      },
      "outputs": [],
      "source": [
        "from glob import glob"
      ]
    },
    {
      "cell_type": "code",
      "execution_count": null,
      "metadata": {
        "colab": {
          "background_save": true
        },
        "id": "bVTFZdxa6TuQ",
        "outputId": "2af3bcd9-092e-462e-9e48-24390437c244"
      },
      "outputs": [
        {
          "name": "stderr",
          "output_type": "stream",
          "text": [
            "  0%|          | 0/45 [00:00<?, ?it/s]/usr/local/lib/python3.7/dist-packages/ipykernel_launcher.py:28: DeprecationWarning: `np.int` is a deprecated alias for the builtin `int`. To silence this warning, use `int` by itself. Doing this will not modify any behavior and is safe. When replacing `np.int`, you may wish to use e.g. `np.int64` or `np.int32` to specify the precision. If you wish to review your current use, check the release note link for additional information.\n",
            "Deprecated in NumPy 1.20; for more details and guidance: https://numpy.org/devdocs/release/1.20.0-notes.html#deprecations\n",
            "  2%|▏         | 1/45 [00:01<00:59,  1.35s/it]/usr/local/lib/python3.7/dist-packages/ipykernel_launcher.py:28: DeprecationWarning: `np.int` is a deprecated alias for the builtin `int`. To silence this warning, use `int` by itself. Doing this will not modify any behavior and is safe. When replacing `np.int`, you may wish to use e.g. `np.int64` or `np.int32` to specify the precision. If you wish to review your current use, check the release note link for additional information.\n",
            "Deprecated in NumPy 1.20; for more details and guidance: https://numpy.org/devdocs/release/1.20.0-notes.html#deprecations\n",
            "  4%|▍         | 2/45 [00:01<00:31,  1.35it/s]/usr/local/lib/python3.7/dist-packages/ipykernel_launcher.py:28: DeprecationWarning: `np.int` is a deprecated alias for the builtin `int`. To silence this warning, use `int` by itself. Doing this will not modify any behavior and is safe. When replacing `np.int`, you may wish to use e.g. `np.int64` or `np.int32` to specify the precision. If you wish to review your current use, check the release note link for additional information.\n",
            "Deprecated in NumPy 1.20; for more details and guidance: https://numpy.org/devdocs/release/1.20.0-notes.html#deprecations\n",
            "  7%|▋         | 3/45 [00:01<00:22,  1.84it/s]/usr/local/lib/python3.7/dist-packages/ipykernel_launcher.py:28: DeprecationWarning: `np.int` is a deprecated alias for the builtin `int`. To silence this warning, use `int` by itself. Doing this will not modify any behavior and is safe. When replacing `np.int`, you may wish to use e.g. `np.int64` or `np.int32` to specify the precision. If you wish to review your current use, check the release note link for additional information.\n",
            "Deprecated in NumPy 1.20; for more details and guidance: https://numpy.org/devdocs/release/1.20.0-notes.html#deprecations\n",
            "  9%|▉         | 4/45 [00:02<00:18,  2.22it/s]/usr/local/lib/python3.7/dist-packages/ipykernel_launcher.py:28: DeprecationWarning: `np.int` is a deprecated alias for the builtin `int`. To silence this warning, use `int` by itself. Doing this will not modify any behavior and is safe. When replacing `np.int`, you may wish to use e.g. `np.int64` or `np.int32` to specify the precision. If you wish to review your current use, check the release note link for additional information.\n",
            "Deprecated in NumPy 1.20; for more details and guidance: https://numpy.org/devdocs/release/1.20.0-notes.html#deprecations\n",
            " 11%|█         | 5/45 [00:02<00:16,  2.49it/s]/usr/local/lib/python3.7/dist-packages/ipykernel_launcher.py:28: DeprecationWarning: `np.int` is a deprecated alias for the builtin `int`. To silence this warning, use `int` by itself. Doing this will not modify any behavior and is safe. When replacing `np.int`, you may wish to use e.g. `np.int64` or `np.int32` to specify the precision. If you wish to review your current use, check the release note link for additional information.\n",
            "Deprecated in NumPy 1.20; for more details and guidance: https://numpy.org/devdocs/release/1.20.0-notes.html#deprecations\n",
            " 13%|█▎        | 6/45 [00:02<00:14,  2.67it/s]/usr/local/lib/python3.7/dist-packages/ipykernel_launcher.py:28: DeprecationWarning: `np.int` is a deprecated alias for the builtin `int`. To silence this warning, use `int` by itself. Doing this will not modify any behavior and is safe. When replacing `np.int`, you may wish to use e.g. `np.int64` or `np.int32` to specify the precision. If you wish to review your current use, check the release note link for additional information.\n",
            "Deprecated in NumPy 1.20; for more details and guidance: https://numpy.org/devdocs/release/1.20.0-notes.html#deprecations\n",
            " 16%|█▌        | 7/45 [00:03<00:13,  2.83it/s]/usr/local/lib/python3.7/dist-packages/ipykernel_launcher.py:28: DeprecationWarning: `np.int` is a deprecated alias for the builtin `int`. To silence this warning, use `int` by itself. Doing this will not modify any behavior and is safe. When replacing `np.int`, you may wish to use e.g. `np.int64` or `np.int32` to specify the precision. If you wish to review your current use, check the release note link for additional information.\n",
            "Deprecated in NumPy 1.20; for more details and guidance: https://numpy.org/devdocs/release/1.20.0-notes.html#deprecations\n",
            " 18%|█▊        | 8/45 [00:03<00:12,  2.95it/s]/usr/local/lib/python3.7/dist-packages/ipykernel_launcher.py:28: DeprecationWarning: `np.int` is a deprecated alias for the builtin `int`. To silence this warning, use `int` by itself. Doing this will not modify any behavior and is safe. When replacing `np.int`, you may wish to use e.g. `np.int64` or `np.int32` to specify the precision. If you wish to review your current use, check the release note link for additional information.\n",
            "Deprecated in NumPy 1.20; for more details and guidance: https://numpy.org/devdocs/release/1.20.0-notes.html#deprecations\n",
            " 20%|██        | 9/45 [00:03<00:11,  3.05it/s]/usr/local/lib/python3.7/dist-packages/ipykernel_launcher.py:28: DeprecationWarning: `np.int` is a deprecated alias for the builtin `int`. To silence this warning, use `int` by itself. Doing this will not modify any behavior and is safe. When replacing `np.int`, you may wish to use e.g. `np.int64` or `np.int32` to specify the precision. If you wish to review your current use, check the release note link for additional information.\n",
            "Deprecated in NumPy 1.20; for more details and guidance: https://numpy.org/devdocs/release/1.20.0-notes.html#deprecations\n",
            " 22%|██▏       | 10/45 [00:04<00:11,  3.12it/s]/usr/local/lib/python3.7/dist-packages/ipykernel_launcher.py:28: DeprecationWarning: `np.int` is a deprecated alias for the builtin `int`. To silence this warning, use `int` by itself. Doing this will not modify any behavior and is safe. When replacing `np.int`, you may wish to use e.g. `np.int64` or `np.int32` to specify the precision. If you wish to review your current use, check the release note link for additional information.\n",
            "Deprecated in NumPy 1.20; for more details and guidance: https://numpy.org/devdocs/release/1.20.0-notes.html#deprecations\n",
            " 24%|██▍       | 11/45 [00:04<00:10,  3.15it/s]/usr/local/lib/python3.7/dist-packages/ipykernel_launcher.py:28: DeprecationWarning: `np.int` is a deprecated alias for the builtin `int`. To silence this warning, use `int` by itself. Doing this will not modify any behavior and is safe. When replacing `np.int`, you may wish to use e.g. `np.int64` or `np.int32` to specify the precision. If you wish to review your current use, check the release note link for additional information.\n",
            "Deprecated in NumPy 1.20; for more details and guidance: https://numpy.org/devdocs/release/1.20.0-notes.html#deprecations\n",
            " 27%|██▋       | 12/45 [00:04<00:10,  3.19it/s]/usr/local/lib/python3.7/dist-packages/ipykernel_launcher.py:28: DeprecationWarning: `np.int` is a deprecated alias for the builtin `int`. To silence this warning, use `int` by itself. Doing this will not modify any behavior and is safe. When replacing `np.int`, you may wish to use e.g. `np.int64` or `np.int32` to specify the precision. If you wish to review your current use, check the release note link for additional information.\n",
            "Deprecated in NumPy 1.20; for more details and guidance: https://numpy.org/devdocs/release/1.20.0-notes.html#deprecations\n",
            " 29%|██▉       | 13/45 [00:05<00:10,  3.17it/s]/usr/local/lib/python3.7/dist-packages/ipykernel_launcher.py:28: DeprecationWarning: `np.int` is a deprecated alias for the builtin `int`. To silence this warning, use `int` by itself. Doing this will not modify any behavior and is safe. When replacing `np.int`, you may wish to use e.g. `np.int64` or `np.int32` to specify the precision. If you wish to review your current use, check the release note link for additional information.\n",
            "Deprecated in NumPy 1.20; for more details and guidance: https://numpy.org/devdocs/release/1.20.0-notes.html#deprecations\n",
            " 31%|███       | 14/45 [00:05<00:09,  3.14it/s]/usr/local/lib/python3.7/dist-packages/ipykernel_launcher.py:28: DeprecationWarning: `np.int` is a deprecated alias for the builtin `int`. To silence this warning, use `int` by itself. Doing this will not modify any behavior and is safe. When replacing `np.int`, you may wish to use e.g. `np.int64` or `np.int32` to specify the precision. If you wish to review your current use, check the release note link for additional information.\n",
            "Deprecated in NumPy 1.20; for more details and guidance: https://numpy.org/devdocs/release/1.20.0-notes.html#deprecations\n",
            " 33%|███▎      | 15/45 [00:05<00:09,  3.13it/s]/usr/local/lib/python3.7/dist-packages/ipykernel_launcher.py:28: DeprecationWarning: `np.int` is a deprecated alias for the builtin `int`. To silence this warning, use `int` by itself. Doing this will not modify any behavior and is safe. When replacing `np.int`, you may wish to use e.g. `np.int64` or `np.int32` to specify the precision. If you wish to review your current use, check the release note link for additional information.\n",
            "Deprecated in NumPy 1.20; for more details and guidance: https://numpy.org/devdocs/release/1.20.0-notes.html#deprecations\n",
            " 36%|███▌      | 16/45 [00:06<00:09,  3.16it/s]/usr/local/lib/python3.7/dist-packages/ipykernel_launcher.py:28: DeprecationWarning: `np.int` is a deprecated alias for the builtin `int`. To silence this warning, use `int` by itself. Doing this will not modify any behavior and is safe. When replacing `np.int`, you may wish to use e.g. `np.int64` or `np.int32` to specify the precision. If you wish to review your current use, check the release note link for additional information.\n",
            "Deprecated in NumPy 1.20; for more details and guidance: https://numpy.org/devdocs/release/1.20.0-notes.html#deprecations\n",
            " 38%|███▊      | 17/45 [00:06<00:08,  3.17it/s]/usr/local/lib/python3.7/dist-packages/ipykernel_launcher.py:28: DeprecationWarning: `np.int` is a deprecated alias for the builtin `int`. To silence this warning, use `int` by itself. Doing this will not modify any behavior and is safe. When replacing `np.int`, you may wish to use e.g. `np.int64` or `np.int32` to specify the precision. If you wish to review your current use, check the release note link for additional information.\n",
            "Deprecated in NumPy 1.20; for more details and guidance: https://numpy.org/devdocs/release/1.20.0-notes.html#deprecations\n",
            " 40%|████      | 18/45 [00:06<00:08,  3.19it/s]/usr/local/lib/python3.7/dist-packages/ipykernel_launcher.py:28: DeprecationWarning: `np.int` is a deprecated alias for the builtin `int`. To silence this warning, use `int` by itself. Doing this will not modify any behavior and is safe. When replacing `np.int`, you may wish to use e.g. `np.int64` or `np.int32` to specify the precision. If you wish to review your current use, check the release note link for additional information.\n",
            "Deprecated in NumPy 1.20; for more details and guidance: https://numpy.org/devdocs/release/1.20.0-notes.html#deprecations\n",
            " 42%|████▏     | 19/45 [00:06<00:08,  3.22it/s]/usr/local/lib/python3.7/dist-packages/ipykernel_launcher.py:28: DeprecationWarning: `np.int` is a deprecated alias for the builtin `int`. To silence this warning, use `int` by itself. Doing this will not modify any behavior and is safe. When replacing `np.int`, you may wish to use e.g. `np.int64` or `np.int32` to specify the precision. If you wish to review your current use, check the release note link for additional information.\n",
            "Deprecated in NumPy 1.20; for more details and guidance: https://numpy.org/devdocs/release/1.20.0-notes.html#deprecations\n",
            " 44%|████▍     | 20/45 [00:07<00:07,  3.20it/s]/usr/local/lib/python3.7/dist-packages/ipykernel_launcher.py:28: DeprecationWarning: `np.int` is a deprecated alias for the builtin `int`. To silence this warning, use `int` by itself. Doing this will not modify any behavior and is safe. When replacing `np.int`, you may wish to use e.g. `np.int64` or `np.int32` to specify the precision. If you wish to review your current use, check the release note link for additional information.\n",
            "Deprecated in NumPy 1.20; for more details and guidance: https://numpy.org/devdocs/release/1.20.0-notes.html#deprecations\n",
            " 47%|████▋     | 21/45 [00:07<00:07,  3.21it/s]/usr/local/lib/python3.7/dist-packages/ipykernel_launcher.py:28: DeprecationWarning: `np.int` is a deprecated alias for the builtin `int`. To silence this warning, use `int` by itself. Doing this will not modify any behavior and is safe. When replacing `np.int`, you may wish to use e.g. `np.int64` or `np.int32` to specify the precision. If you wish to review your current use, check the release note link for additional information.\n",
            "Deprecated in NumPy 1.20; for more details and guidance: https://numpy.org/devdocs/release/1.20.0-notes.html#deprecations\n",
            " 49%|████▉     | 22/45 [00:07<00:07,  3.19it/s]/usr/local/lib/python3.7/dist-packages/ipykernel_launcher.py:28: DeprecationWarning: `np.int` is a deprecated alias for the builtin `int`. To silence this warning, use `int` by itself. Doing this will not modify any behavior and is safe. When replacing `np.int`, you may wish to use e.g. `np.int64` or `np.int32` to specify the precision. If you wish to review your current use, check the release note link for additional information.\n",
            "Deprecated in NumPy 1.20; for more details and guidance: https://numpy.org/devdocs/release/1.20.0-notes.html#deprecations\n",
            " 51%|█████     | 23/45 [00:08<00:06,  3.17it/s]/usr/local/lib/python3.7/dist-packages/ipykernel_launcher.py:28: DeprecationWarning: `np.int` is a deprecated alias for the builtin `int`. To silence this warning, use `int` by itself. Doing this will not modify any behavior and is safe. When replacing `np.int`, you may wish to use e.g. `np.int64` or `np.int32` to specify the precision. If you wish to review your current use, check the release note link for additional information.\n",
            "Deprecated in NumPy 1.20; for more details and guidance: https://numpy.org/devdocs/release/1.20.0-notes.html#deprecations\n",
            " 53%|█████▎    | 24/45 [00:08<00:06,  3.14it/s]/usr/local/lib/python3.7/dist-packages/ipykernel_launcher.py:28: DeprecationWarning: `np.int` is a deprecated alias for the builtin `int`. To silence this warning, use `int` by itself. Doing this will not modify any behavior and is safe. When replacing `np.int`, you may wish to use e.g. `np.int64` or `np.int32` to specify the precision. If you wish to review your current use, check the release note link for additional information.\n",
            "Deprecated in NumPy 1.20; for more details and guidance: https://numpy.org/devdocs/release/1.20.0-notes.html#deprecations\n",
            " 56%|█████▌    | 25/45 [00:08<00:06,  3.16it/s]/usr/local/lib/python3.7/dist-packages/ipykernel_launcher.py:28: DeprecationWarning: `np.int` is a deprecated alias for the builtin `int`. To silence this warning, use `int` by itself. Doing this will not modify any behavior and is safe. When replacing `np.int`, you may wish to use e.g. `np.int64` or `np.int32` to specify the precision. If you wish to review your current use, check the release note link for additional information.\n",
            "Deprecated in NumPy 1.20; for more details and guidance: https://numpy.org/devdocs/release/1.20.0-notes.html#deprecations\n",
            " 58%|█████▊    | 26/45 [00:09<00:06,  3.15it/s]/usr/local/lib/python3.7/dist-packages/ipykernel_launcher.py:28: DeprecationWarning: `np.int` is a deprecated alias for the builtin `int`. To silence this warning, use `int` by itself. Doing this will not modify any behavior and is safe. When replacing `np.int`, you may wish to use e.g. `np.int64` or `np.int32` to specify the precision. If you wish to review your current use, check the release note link for additional information.\n",
            "Deprecated in NumPy 1.20; for more details and guidance: https://numpy.org/devdocs/release/1.20.0-notes.html#deprecations\n",
            " 60%|██████    | 27/45 [00:09<00:05,  3.19it/s]/usr/local/lib/python3.7/dist-packages/ipykernel_launcher.py:28: DeprecationWarning: `np.int` is a deprecated alias for the builtin `int`. To silence this warning, use `int` by itself. Doing this will not modify any behavior and is safe. When replacing `np.int`, you may wish to use e.g. `np.int64` or `np.int32` to specify the precision. If you wish to review your current use, check the release note link for additional information.\n",
            "Deprecated in NumPy 1.20; for more details and guidance: https://numpy.org/devdocs/release/1.20.0-notes.html#deprecations\n",
            " 62%|██████▏   | 28/45 [00:09<00:05,  3.20it/s]/usr/local/lib/python3.7/dist-packages/ipykernel_launcher.py:28: DeprecationWarning: `np.int` is a deprecated alias for the builtin `int`. To silence this warning, use `int` by itself. Doing this will not modify any behavior and is safe. When replacing `np.int`, you may wish to use e.g. `np.int64` or `np.int32` to specify the precision. If you wish to review your current use, check the release note link for additional information.\n",
            "Deprecated in NumPy 1.20; for more details and guidance: https://numpy.org/devdocs/release/1.20.0-notes.html#deprecations\n",
            " 64%|██████▍   | 29/45 [00:10<00:04,  3.21it/s]/usr/local/lib/python3.7/dist-packages/ipykernel_launcher.py:28: DeprecationWarning: `np.int` is a deprecated alias for the builtin `int`. To silence this warning, use `int` by itself. Doing this will not modify any behavior and is safe. When replacing `np.int`, you may wish to use e.g. `np.int64` or `np.int32` to specify the precision. If you wish to review your current use, check the release note link for additional information.\n",
            "Deprecated in NumPy 1.20; for more details and guidance: https://numpy.org/devdocs/release/1.20.0-notes.html#deprecations\n",
            " 67%|██████▋   | 30/45 [00:10<00:04,  3.20it/s]/usr/local/lib/python3.7/dist-packages/ipykernel_launcher.py:28: DeprecationWarning: `np.int` is a deprecated alias for the builtin `int`. To silence this warning, use `int` by itself. Doing this will not modify any behavior and is safe. When replacing `np.int`, you may wish to use e.g. `np.int64` or `np.int32` to specify the precision. If you wish to review your current use, check the release note link for additional information.\n",
            "Deprecated in NumPy 1.20; for more details and guidance: https://numpy.org/devdocs/release/1.20.0-notes.html#deprecations\n",
            " 69%|██████▉   | 31/45 [00:10<00:04,  3.16it/s]/usr/local/lib/python3.7/dist-packages/ipykernel_launcher.py:28: DeprecationWarning: `np.int` is a deprecated alias for the builtin `int`. To silence this warning, use `int` by itself. Doing this will not modify any behavior and is safe. When replacing `np.int`, you may wish to use e.g. `np.int64` or `np.int32` to specify the precision. If you wish to review your current use, check the release note link for additional information.\n",
            "Deprecated in NumPy 1.20; for more details and guidance: https://numpy.org/devdocs/release/1.20.0-notes.html#deprecations\n",
            " 71%|███████   | 32/45 [00:11<00:04,  3.13it/s]/usr/local/lib/python3.7/dist-packages/ipykernel_launcher.py:28: DeprecationWarning: `np.int` is a deprecated alias for the builtin `int`. To silence this warning, use `int` by itself. Doing this will not modify any behavior and is safe. When replacing `np.int`, you may wish to use e.g. `np.int64` or `np.int32` to specify the precision. If you wish to review your current use, check the release note link for additional information.\n",
            "Deprecated in NumPy 1.20; for more details and guidance: https://numpy.org/devdocs/release/1.20.0-notes.html#deprecations\n",
            " 73%|███████▎  | 33/45 [00:11<00:03,  3.13it/s]/usr/local/lib/python3.7/dist-packages/ipykernel_launcher.py:28: DeprecationWarning: `np.int` is a deprecated alias for the builtin `int`. To silence this warning, use `int` by itself. Doing this will not modify any behavior and is safe. When replacing `np.int`, you may wish to use e.g. `np.int64` or `np.int32` to specify the precision. If you wish to review your current use, check the release note link for additional information.\n",
            "Deprecated in NumPy 1.20; for more details and guidance: https://numpy.org/devdocs/release/1.20.0-notes.html#deprecations\n",
            " 76%|███████▌  | 34/45 [00:11<00:03,  3.11it/s]/usr/local/lib/python3.7/dist-packages/ipykernel_launcher.py:28: DeprecationWarning: `np.int` is a deprecated alias for the builtin `int`. To silence this warning, use `int` by itself. Doing this will not modify any behavior and is safe. When replacing `np.int`, you may wish to use e.g. `np.int64` or `np.int32` to specify the precision. If you wish to review your current use, check the release note link for additional information.\n",
            "Deprecated in NumPy 1.20; for more details and guidance: https://numpy.org/devdocs/release/1.20.0-notes.html#deprecations\n",
            " 78%|███████▊  | 35/45 [00:12<00:03,  3.13it/s]/usr/local/lib/python3.7/dist-packages/ipykernel_launcher.py:28: DeprecationWarning: `np.int` is a deprecated alias for the builtin `int`. To silence this warning, use `int` by itself. Doing this will not modify any behavior and is safe. When replacing `np.int`, you may wish to use e.g. `np.int64` or `np.int32` to specify the precision. If you wish to review your current use, check the release note link for additional information.\n",
            "Deprecated in NumPy 1.20; for more details and guidance: https://numpy.org/devdocs/release/1.20.0-notes.html#deprecations\n",
            " 80%|████████  | 36/45 [00:12<00:02,  3.14it/s]/usr/local/lib/python3.7/dist-packages/ipykernel_launcher.py:28: DeprecationWarning: `np.int` is a deprecated alias for the builtin `int`. To silence this warning, use `int` by itself. Doing this will not modify any behavior and is safe. When replacing `np.int`, you may wish to use e.g. `np.int64` or `np.int32` to specify the precision. If you wish to review your current use, check the release note link for additional information.\n",
            "Deprecated in NumPy 1.20; for more details and guidance: https://numpy.org/devdocs/release/1.20.0-notes.html#deprecations\n",
            " 82%|████████▏ | 37/45 [00:12<00:02,  3.18it/s]/usr/local/lib/python3.7/dist-packages/ipykernel_launcher.py:28: DeprecationWarning: `np.int` is a deprecated alias for the builtin `int`. To silence this warning, use `int` by itself. Doing this will not modify any behavior and is safe. When replacing `np.int`, you may wish to use e.g. `np.int64` or `np.int32` to specify the precision. If you wish to review your current use, check the release note link for additional information.\n",
            "Deprecated in NumPy 1.20; for more details and guidance: https://numpy.org/devdocs/release/1.20.0-notes.html#deprecations\n",
            " 84%|████████▍ | 38/45 [00:12<00:02,  3.17it/s]/usr/local/lib/python3.7/dist-packages/ipykernel_launcher.py:28: DeprecationWarning: `np.int` is a deprecated alias for the builtin `int`. To silence this warning, use `int` by itself. Doing this will not modify any behavior and is safe. When replacing `np.int`, you may wish to use e.g. `np.int64` or `np.int32` to specify the precision. If you wish to review your current use, check the release note link for additional information.\n",
            "Deprecated in NumPy 1.20; for more details and guidance: https://numpy.org/devdocs/release/1.20.0-notes.html#deprecations\n",
            " 87%|████████▋ | 39/45 [00:13<00:01,  3.22it/s]/usr/local/lib/python3.7/dist-packages/ipykernel_launcher.py:28: DeprecationWarning: `np.int` is a deprecated alias for the builtin `int`. To silence this warning, use `int` by itself. Doing this will not modify any behavior and is safe. When replacing `np.int`, you may wish to use e.g. `np.int64` or `np.int32` to specify the precision. If you wish to review your current use, check the release note link for additional information.\n",
            "Deprecated in NumPy 1.20; for more details and guidance: https://numpy.org/devdocs/release/1.20.0-notes.html#deprecations\n",
            " 89%|████████▉ | 40/45 [00:13<00:01,  3.18it/s]/usr/local/lib/python3.7/dist-packages/ipykernel_launcher.py:28: DeprecationWarning: `np.int` is a deprecated alias for the builtin `int`. To silence this warning, use `int` by itself. Doing this will not modify any behavior and is safe. When replacing `np.int`, you may wish to use e.g. `np.int64` or `np.int32` to specify the precision. If you wish to review your current use, check the release note link for additional information.\n",
            "Deprecated in NumPy 1.20; for more details and guidance: https://numpy.org/devdocs/release/1.20.0-notes.html#deprecations\n",
            " 91%|█████████ | 41/45 [00:13<00:01,  3.16it/s]/usr/local/lib/python3.7/dist-packages/ipykernel_launcher.py:28: DeprecationWarning: `np.int` is a deprecated alias for the builtin `int`. To silence this warning, use `int` by itself. Doing this will not modify any behavior and is safe. When replacing `np.int`, you may wish to use e.g. `np.int64` or `np.int32` to specify the precision. If you wish to review your current use, check the release note link for additional information.\n",
            "Deprecated in NumPy 1.20; for more details and guidance: https://numpy.org/devdocs/release/1.20.0-notes.html#deprecations\n",
            " 93%|█████████▎| 42/45 [00:14<00:00,  3.17it/s]/usr/local/lib/python3.7/dist-packages/ipykernel_launcher.py:28: DeprecationWarning: `np.int` is a deprecated alias for the builtin `int`. To silence this warning, use `int` by itself. Doing this will not modify any behavior and is safe. When replacing `np.int`, you may wish to use e.g. `np.int64` or `np.int32` to specify the precision. If you wish to review your current use, check the release note link for additional information.\n",
            "Deprecated in NumPy 1.20; for more details and guidance: https://numpy.org/devdocs/release/1.20.0-notes.html#deprecations\n",
            " 96%|█████████▌| 43/45 [00:14<00:00,  3.18it/s]/usr/local/lib/python3.7/dist-packages/ipykernel_launcher.py:28: DeprecationWarning: `np.int` is a deprecated alias for the builtin `int`. To silence this warning, use `int` by itself. Doing this will not modify any behavior and is safe. When replacing `np.int`, you may wish to use e.g. `np.int64` or `np.int32` to specify the precision. If you wish to review your current use, check the release note link for additional information.\n",
            "Deprecated in NumPy 1.20; for more details and guidance: https://numpy.org/devdocs/release/1.20.0-notes.html#deprecations\n",
            " 98%|█████████▊| 44/45 [00:14<00:00,  3.15it/s]/usr/local/lib/python3.7/dist-packages/ipykernel_launcher.py:28: DeprecationWarning: `np.int` is a deprecated alias for the builtin `int`. To silence this warning, use `int` by itself. Doing this will not modify any behavior and is safe. When replacing `np.int`, you may wish to use e.g. `np.int64` or `np.int32` to specify the precision. If you wish to review your current use, check the release note link for additional information.\n",
            "Deprecated in NumPy 1.20; for more details and guidance: https://numpy.org/devdocs/release/1.20.0-notes.html#deprecations\n",
            "100%|██████████| 45/45 [00:15<00:00,  2.96it/s]"
          ]
        },
        {
          "name": "stdout",
          "output_type": "stream",
          "text": [
            "Accuracy: 0.98179\n",
            "F1: 0.74585\n",
            "Jaccard: 0.60285\n",
            "Recall: 0.70408\n",
            "Precision: 0.80818\n",
            "AUC: 0.98043\n",
            "Dice Coeff: 0.71626\n"
          ]
        },
        {
          "name": "stderr",
          "output_type": "stream",
          "text": [
            "\n"
          ]
        }
      ],
      "source": [
        "from copy import deepcopy\n",
        "from sklearn.metrics import roc_auc_score\n",
        "# prediction_path = \"predictions\"\n",
        "\n",
        "\"\"\" Save the results in this folder \"\"\"\n",
        "# create_dir(\"results_sunil_test\")\n",
        "# create_dir(prediction_path)\n",
        "\n",
        "\"\"\" Load the model \"\"\"\n",
        "# with CustomObjectScope({'iou': iou, 'dice_coef': dice_coef}):\n",
        "model_path = os.path.join(f\"{model_dir}\", \"model.h5\")\n",
        "\n",
        "model = load_model(model_path, compile=False)\n",
        "\n",
        "\"\"\" Load the dataset \"\"\"\n",
        "dataset_path = os.path.join(f\"{data_path}/{split_name}\", \"test\")\n",
        "test_x, test_y = load_data(dataset_path)\n",
        "\n",
        "\"\"\" Make the prediction and calculate the metrics values \"\"\"\n",
        "SCORE = []\n",
        "for x, y in tqdm(zip(test_x, test_y), total=len(test_x)):\n",
        "    \"\"\" Extracting name \"\"\"\n",
        "    name = x.split(\"/\")[-1].split(\".\")[0]\n",
        "\n",
        "    \"\"\" Read the image and mask \"\"\"\n",
        "    ori_x, x = read_image(x)\n",
        "    ori_y, y = read_mask(y)\n",
        "    y = y.astype(np.int)\n",
        "\n",
        "    \"\"\" Prediction \"\"\"\n",
        "    y_pred = model.predict(np.expand_dims(x, axis=0))[0]\n",
        "    np.save(f\"{prediction_np_path}/{name}.npy\", y_pred)\n",
        "    y_prob = deepcopy(y_pred).flatten()\n",
        "    y_pred = y_pred > 0.5\n",
        "    y_pred = y_pred.astype(np.int32)\n",
        "    y_pred = np.squeeze(y_pred, axis=-1)\n",
        "\n",
        "    \"\"\" Saving the images \"\"\"\n",
        "    save_image_path = f\"{results_path}/{name}.png\"\n",
        "#    print(ori_x.shape, ori_y.shape, y_pred.shape)\n",
        "    save_results(ori_x, ori_y, y_pred, save_image_path)\n",
        "    cv2.imwrite(f\"{prediction_path}/{name}.png\", y_pred * 255)\n",
        "    \n",
        "\n",
        "    \"\"\" Flatten the array \"\"\"\n",
        "    y = y.flatten()\n",
        "    y_pred = y_pred.flatten()\n",
        "\n",
        "    \"\"\" Calculate the metrics \"\"\"\n",
        "    acc_value = accuracy_score(y, y_pred)\n",
        "    f1_value = f1_score(y, y_pred, labels=[0, 1], average=\"binary\")\n",
        "    jac_value = jaccard_score(y, y_pred, labels=[0, 1], average=\"binary\")\n",
        "    recall_value = recall_score(y, y_pred, labels=[0, 1], average=\"binary\")\n",
        "    precision_value = precision_score(y, y_pred, labels=[0, 1], average=\"binary\")\n",
        "    if np.sum(y) == 0 or np.sum(y) == H * W:\n",
        "        auc_value = 1\n",
        "    else:\n",
        "        auc_value = roc_auc_score(y, y_prob)\n",
        "    dice_value = dice_coef(y.astype(np.float64), y_prob)\n",
        "\n",
        "    SCORE.append([name, acc_value, f1_value, jac_value, recall_value, precision_value, auc_value, dice_value])\n",
        "\n",
        "score = [s[1:] for s in SCORE]\n",
        "score = np.mean(score, axis=0)\n",
        "print(f\"Accuracy: {score[0]:0.5f}\")\n",
        "print(f\"F1: {score[1]:0.5f}\")\n",
        "print(f\"Jaccard: {score[2]:0.5f}\")\n",
        "print(f\"Recall: {score[3]:0.5f}\")\n",
        "print(f\"Precision: {score[4]:0.5f}\")\n",
        "print(f\"AUC: {score[5]:0.5f}\")\n",
        "print(f\"Dice Coeff: {score[6]:0.5f}\")\n",
        "\"\"\" Saving \"\"\"\n",
        "df = pd.DataFrame(SCORE, columns=[\"Image\", \"Acc\", \"F1\", \"Jaccard\", \"Recall\", \"Precision\", \"AUC\", \"Dice Coeff\"])\n",
        "df.to_csv(f\"{results_path}/score.csv\")"
      ]
    },
    {
      "cell_type": "markdown",
      "metadata": {
        "id": "PzqpDXW0Kcyu"
      },
      "source": [
        "# Reconstruct original image"
      ]
    },
    {
      "cell_type": "code",
      "execution_count": null,
      "metadata": {
        "colab": {
          "background_save": true
        },
        "id": "NJaxhmgEvs9i",
        "outputId": "34f71da2-142b-4594-acf7-3d2d8b9c2b37"
      },
      "outputs": [
        {
          "data": {
            "application/vnd.google.colaboratory.intrinsic+json": {
              "type": "string"
            },
            "text/plain": [
              "'/content/datasets/chase_db_384_384_dice_bce_0_4__hvr_0_4_1//predictions_np/'"
            ]
          },
          "execution_count": null,
          "metadata": {},
          "output_type": "execute_result"
        }
      ],
      "source": [
        "prediction_np_path"
      ]
    },
    {
      "cell_type": "code",
      "execution_count": null,
      "metadata": {
        "colab": {
          "background_save": true
        },
        "id": "gwjhBM8y1Bf_"
      },
      "outputs": [],
      "source": [
        "from glob import glob"
      ]
    },
    {
      "cell_type": "code",
      "execution_count": null,
      "metadata": {
        "colab": {
          "background_save": true
        },
        "id": "s7p1_eLnI51P",
        "outputId": "5e30a256-5269-491f-c60b-8d5116ba5634"
      },
      "outputs": [
        {
          "name": "stdout",
          "output_type": "stream",
          "text": [
            "file /content/datasets/chase_db_384_384_dice_bce_0_4__hvr_0_4_1//predictions_np/_Image_12L_8.npy\n",
            "Image_12L 8\n",
            "file /content/datasets/chase_db_384_384_dice_bce_0_4__hvr_0_4_1//predictions_np/_Image_13L_3.npy\n",
            "Image_13L 3\n",
            "file /content/datasets/chase_db_384_384_dice_bce_0_4__hvr_0_4_1//predictions_np/_Image_12L_3.npy\n",
            "Image_12L 3\n",
            "file /content/datasets/chase_db_384_384_dice_bce_0_4__hvr_0_4_1//predictions_np/_Image_11R_1.npy\n",
            "Image_11R 1\n",
            "file /content/datasets/chase_db_384_384_dice_bce_0_4__hvr_0_4_1//predictions_np/_Image_12L_5.npy\n",
            "Image_12L 5\n",
            "file /content/datasets/chase_db_384_384_dice_bce_0_4__hvr_0_4_1//predictions_np/_Image_11L_5.npy\n",
            "Image_11L 5\n",
            "file /content/datasets/chase_db_384_384_dice_bce_0_4__hvr_0_4_1//predictions_np/_Image_12L_2.npy\n",
            "Image_12L 2\n",
            "file /content/datasets/chase_db_384_384_dice_bce_0_4__hvr_0_4_1//predictions_np/_Image_13L_0.npy\n",
            "Image_13L 0\n",
            "file /content/datasets/chase_db_384_384_dice_bce_0_4__hvr_0_4_1//predictions_np/_Image_13L_2.npy\n",
            "Image_13L 2\n",
            "file /content/datasets/chase_db_384_384_dice_bce_0_4__hvr_0_4_1//predictions_np/_Image_12L_4.npy\n",
            "Image_12L 4\n",
            "file /content/datasets/chase_db_384_384_dice_bce_0_4__hvr_0_4_1//predictions_np/_Image_12R_0.npy\n",
            "Image_12R 0\n",
            "file /content/datasets/chase_db_384_384_dice_bce_0_4__hvr_0_4_1//predictions_np/_Image_13L_4.npy\n",
            "Image_13L 4\n",
            "file /content/datasets/chase_db_384_384_dice_bce_0_4__hvr_0_4_1//predictions_np/_Image_11L_6.npy\n",
            "Image_11L 6\n",
            "file /content/datasets/chase_db_384_384_dice_bce_0_4__hvr_0_4_1//predictions_np/_Image_11R_4.npy\n",
            "Image_11R 4\n",
            "file /content/datasets/chase_db_384_384_dice_bce_0_4__hvr_0_4_1//predictions_np/_Image_13L_7.npy\n",
            "Image_13L 7\n",
            "file /content/datasets/chase_db_384_384_dice_bce_0_4__hvr_0_4_1//predictions_np/_Image_11L_2.npy\n",
            "Image_11L 2\n",
            "file /content/datasets/chase_db_384_384_dice_bce_0_4__hvr_0_4_1//predictions_np/_Image_11R_0.npy\n",
            "Image_11R 0\n",
            "file /content/datasets/chase_db_384_384_dice_bce_0_4__hvr_0_4_1//predictions_np/_Image_12R_6.npy\n",
            "Image_12R 6\n",
            "file /content/datasets/chase_db_384_384_dice_bce_0_4__hvr_0_4_1//predictions_np/_Image_12R_2.npy\n",
            "Image_12R 2\n",
            "file /content/datasets/chase_db_384_384_dice_bce_0_4__hvr_0_4_1//predictions_np/_Image_11R_7.npy\n",
            "Image_11R 7\n",
            "file /content/datasets/chase_db_384_384_dice_bce_0_4__hvr_0_4_1//predictions_np/_Image_13L_6.npy\n",
            "Image_13L 6\n",
            "file /content/datasets/chase_db_384_384_dice_bce_0_4__hvr_0_4_1//predictions_np/_Image_11R_2.npy\n",
            "Image_11R 2\n",
            "file /content/datasets/chase_db_384_384_dice_bce_0_4__hvr_0_4_1//predictions_np/_Image_11L_3.npy\n",
            "Image_11L 3\n",
            "file /content/datasets/chase_db_384_384_dice_bce_0_4__hvr_0_4_1//predictions_np/_Image_11L_8.npy\n",
            "Image_11L 8\n",
            "file /content/datasets/chase_db_384_384_dice_bce_0_4__hvr_0_4_1//predictions_np/_Image_11L_4.npy\n",
            "Image_11L 4\n",
            "file /content/datasets/chase_db_384_384_dice_bce_0_4__hvr_0_4_1//predictions_np/_Image_13L_8.npy\n",
            "Image_13L 8\n",
            "file /content/datasets/chase_db_384_384_dice_bce_0_4__hvr_0_4_1//predictions_np/_Image_11R_5.npy\n",
            "Image_11R 5\n",
            "file /content/datasets/chase_db_384_384_dice_bce_0_4__hvr_0_4_1//predictions_np/_Image_12R_7.npy\n",
            "Image_12R 7\n",
            "file /content/datasets/chase_db_384_384_dice_bce_0_4__hvr_0_4_1//predictions_np/_Image_11R_8.npy\n",
            "Image_11R 8\n",
            "file /content/datasets/chase_db_384_384_dice_bce_0_4__hvr_0_4_1//predictions_np/_Image_12R_5.npy\n",
            "Image_12R 5\n",
            "file /content/datasets/chase_db_384_384_dice_bce_0_4__hvr_0_4_1//predictions_np/_Image_12L_1.npy\n",
            "Image_12L 1\n",
            "file /content/datasets/chase_db_384_384_dice_bce_0_4__hvr_0_4_1//predictions_np/_Image_13L_1.npy\n",
            "Image_13L 1\n",
            "file /content/datasets/chase_db_384_384_dice_bce_0_4__hvr_0_4_1//predictions_np/_Image_12R_1.npy\n",
            "Image_12R 1\n",
            "file /content/datasets/chase_db_384_384_dice_bce_0_4__hvr_0_4_1//predictions_np/_Image_12R_4.npy\n",
            "Image_12R 4\n",
            "file /content/datasets/chase_db_384_384_dice_bce_0_4__hvr_0_4_1//predictions_np/_Image_12R_8.npy\n",
            "Image_12R 8\n",
            "file /content/datasets/chase_db_384_384_dice_bce_0_4__hvr_0_4_1//predictions_np/_Image_12L_6.npy\n",
            "Image_12L 6\n",
            "file /content/datasets/chase_db_384_384_dice_bce_0_4__hvr_0_4_1//predictions_np/_Image_13L_5.npy\n",
            "Image_13L 5\n",
            "file /content/datasets/chase_db_384_384_dice_bce_0_4__hvr_0_4_1//predictions_np/_Image_12R_3.npy\n",
            "Image_12R 3\n",
            "file /content/datasets/chase_db_384_384_dice_bce_0_4__hvr_0_4_1//predictions_np/_Image_11L_1.npy\n",
            "Image_11L 1\n",
            "file /content/datasets/chase_db_384_384_dice_bce_0_4__hvr_0_4_1//predictions_np/_Image_11L_7.npy\n",
            "Image_11L 7\n",
            "file /content/datasets/chase_db_384_384_dice_bce_0_4__hvr_0_4_1//predictions_np/_Image_12L_7.npy\n",
            "Image_12L 7\n",
            "file /content/datasets/chase_db_384_384_dice_bce_0_4__hvr_0_4_1//predictions_np/_Image_12L_0.npy\n",
            "Image_12L 0\n",
            "file /content/datasets/chase_db_384_384_dice_bce_0_4__hvr_0_4_1//predictions_np/_Image_11R_6.npy\n",
            "Image_11R 6\n",
            "file /content/datasets/chase_db_384_384_dice_bce_0_4__hvr_0_4_1//predictions_np/_Image_11R_3.npy\n",
            "Image_11R 3\n",
            "file /content/datasets/chase_db_384_384_dice_bce_0_4__hvr_0_4_1//predictions_np/_Image_11L_0.npy\n",
            "Image_11L 0\n"
          ]
        }
      ],
      "source": [
        "# Create patches dictionary\n",
        "predicted_patches_dict = dict()\n",
        "for file in glob(f\"{prediction_np_path}/*.npy\"):\n",
        "    print(\"file\", file)\n",
        "    patch = np.load(file)\n",
        "    fname_without_ext = file.rsplit(\"/\", 1)[1].rsplit(\".\", 1)[0]\n",
        "    fname_without_ext = fname_without_ext[1:]\n",
        "    patch_number = int(fname_without_ext.rsplit(\"_\", 1)[1])\n",
        "    image_file = fname_without_ext.rsplit(\"_\", 1)[0]\n",
        "    print(image_file, patch_number )\n",
        "\n",
        "    if image_file in predicted_patches_dict.keys():\n",
        "        predicted_patches_dict[image_file][patch_number] = np.load(file)\n",
        "    else:\n",
        "        patches = [None] * 140\n",
        "        patches[patch_number] = np.load(file)\n",
        "        predicted_patches_dict[image_file] = patches"
      ]
    },
    {
      "cell_type": "code",
      "execution_count": null,
      "metadata": {
        "colab": {
          "background_save": true
        },
        "id": "2kB-A6HbLNsv"
      },
      "outputs": [],
      "source": [
        "reconstructed_predictions_path = f\"{data_path}/{split_name}/reconstructed/{split}/predictions_reconstructed\"\n",
        "create_dir(reconstructed_predictions_path)\n",
        "reconstruct_patches(predicted_patches_dict,\n",
        "                    metadata_test_df,\n",
        "                    reconstructed_predictions_path,\n",
        "                    mfactor=255\n",
        "                    )\n"
      ]
    },
    {
      "cell_type": "code",
      "execution_count": null,
      "metadata": {
        "colab": {
          "background_save": true
        },
        "id": "z_uMeATOLyQP",
        "outputId": "a8391ebc-7646-44f7-d74e-071a62210a05"
      },
      "outputs": [
        {
          "name": "stdout",
          "output_type": "stream",
          "text": [
            "/content/datasets\n"
          ]
        }
      ],
      "source": [
        "!pwd"
      ]
    },
    {
      "cell_type": "code",
      "execution_count": null,
      "metadata": {
        "colab": {
          "background_save": true
        },
        "id": "2OzcJGOQg4Dy"
      },
      "outputs": [],
      "source": [
        "def read_mask(path):\n",
        "    print(path)\n",
        "    x = cv2.imread(path, cv2.IMREAD_GRAYSCALE)  ## (512, 512)\n",
        "    # x = cv2.resize(x, (W, H))\n",
        "    ori_x = x\n",
        "    x = x/255.0\n",
        "#    x = x.astype(np.int32)\n",
        "    return ori_x, x"
      ]
    },
    {
      "cell_type": "code",
      "execution_count": null,
      "metadata": {
        "colab": {
          "background_save": true
        },
        "id": "M5ILDoicjTef"
      },
      "outputs": [],
      "source": [
        "def save_results(ori_x, ori_y, y_pred, save_image_path):\n",
        "    line = np.ones((ori_x.shape[0], 10, 3)) * 255\n",
        "\n",
        "    ori_y = np.expand_dims(ori_y, axis=-1)\n",
        "    ori_y = np.concatenate([ori_y, ori_y, ori_y], axis=-1)\n",
        "\n",
        "    y_pred = np.expand_dims(y_pred, axis=-1)\n",
        "    y_pred = np.concatenate([y_pred, y_pred, y_pred], axis=-1) * 255\n",
        "\n",
        "    cat_images = np.concatenate([ori_x, line, ori_y, line, y_pred], axis=1)\n",
        "    print(f\"Saving image of size {cat_images.shape} to {save_image_path}\")\n",
        "    cv2.imwrite(save_image_path, cat_images)"
      ]
    },
    {
      "cell_type": "code",
      "execution_count": null,
      "metadata": {
        "colab": {
          "background_save": true
        },
        "id": "bS5LTt4QXwQi"
      },
      "outputs": [],
      "source": [
        "results_path_reconstructed = f\"{root_path}/results_reconstructed/\"\n",
        "create_dir(results_path_reconstructed)"
      ]
    },
    {
      "cell_type": "code",
      "execution_count": null,
      "metadata": {
        "colab": {
          "background_save": true
        },
        "id": "6sKjdzsaNloF"
      },
      "outputs": [],
      "source": [
        "from glob import glob"
      ]
    },
    {
      "cell_type": "code",
      "execution_count": null,
      "metadata": {
        "colab": {
          "background_save": true
        },
        "id": "_iqapJ3ITb7l",
        "outputId": "55d8db09-a435-40af-93fb-bcf3ba83d33d"
      },
      "outputs": [
        {
          "name": "stdout",
          "output_type": "stream",
          "text": [
            "Threshold 0.4\n"
          ]
        },
        {
          "name": "stderr",
          "output_type": "stream",
          "text": [
            "\r  0%|          | 0/45 [00:00<?, ?it/s]"
          ]
        },
        {
          "name": "stdout",
          "output_type": "stream",
          "text": [
            "_Image_11L_0\n",
            "(384, 384, 1) 0.99998677 0.00032206875\n",
            "(384, 384, 3) (384, 384) (384, 384)\n"
          ]
        },
        {
          "name": "stderr",
          "output_type": "stream",
          "text": [
            "\r  2%|▏         | 1/45 [00:00<00:14,  3.07it/s]"
          ]
        },
        {
          "name": "stdout",
          "output_type": "stream",
          "text": [
            "_Image_11L_1\n",
            "(384, 384, 1) 0.99996364 0.00026056502\n",
            "(384, 384, 3) (384, 384) (384, 384)\n"
          ]
        },
        {
          "name": "stderr",
          "output_type": "stream",
          "text": [
            "\r  4%|▍         | 2/45 [00:00<00:14,  3.06it/s]"
          ]
        },
        {
          "name": "stdout",
          "output_type": "stream",
          "text": [
            "_Image_11L_2\n",
            "(384, 384, 1) 0.9993812 0.00032784892\n",
            "(384, 384, 3) (384, 384) (384, 384)\n"
          ]
        },
        {
          "name": "stderr",
          "output_type": "stream",
          "text": [
            "\r  7%|▋         | 3/45 [00:00<00:13,  3.10it/s]"
          ]
        },
        {
          "name": "stdout",
          "output_type": "stream",
          "text": [
            "_Image_11L_3\n",
            "(384, 384, 1) 0.9999713 0.00028037425\n",
            "(384, 384, 3) (384, 384) (384, 384)\n"
          ]
        },
        {
          "name": "stderr",
          "output_type": "stream",
          "text": [
            "\r  9%|▉         | 4/45 [00:01<00:13,  3.07it/s]"
          ]
        },
        {
          "name": "stdout",
          "output_type": "stream",
          "text": [
            "_Image_11L_4\n",
            "(384, 384, 1) 0.9999989 1.0829399e-05\n",
            "(384, 384, 3) (384, 384) (384, 384)\n"
          ]
        },
        {
          "name": "stderr",
          "output_type": "stream",
          "text": [
            "\r 11%|█         | 5/45 [00:01<00:13,  3.01it/s]"
          ]
        },
        {
          "name": "stdout",
          "output_type": "stream",
          "text": [
            "_Image_11L_5\n",
            "(384, 384, 1) 0.99986994 0.00042798847\n",
            "(384, 384, 3) (384, 384) (384, 384)\n"
          ]
        },
        {
          "name": "stderr",
          "output_type": "stream",
          "text": [
            "\r 13%|█▎        | 6/45 [00:01<00:12,  3.01it/s]"
          ]
        },
        {
          "name": "stdout",
          "output_type": "stream",
          "text": [
            "_Image_11L_6\n",
            "(384, 384, 1) 0.9999943 0.00032703948\n",
            "(384, 384, 3) (384, 384) (384, 384)\n"
          ]
        },
        {
          "name": "stderr",
          "output_type": "stream",
          "text": [
            "\r 16%|█▌        | 7/45 [00:02<00:12,  3.01it/s]"
          ]
        },
        {
          "name": "stdout",
          "output_type": "stream",
          "text": [
            "_Image_11L_7\n",
            "(384, 384, 1) 0.9999907 0.00015218488\n",
            "(384, 384, 3) (384, 384) (384, 384)\n"
          ]
        },
        {
          "name": "stderr",
          "output_type": "stream",
          "text": [
            "\r 18%|█▊        | 8/45 [00:02<00:12,  3.02it/s]"
          ]
        },
        {
          "name": "stdout",
          "output_type": "stream",
          "text": [
            "_Image_11L_8\n",
            "(384, 384, 1) 0.9999237 0.00035263403\n",
            "(384, 384, 3) (384, 384) (384, 384)\n"
          ]
        },
        {
          "name": "stderr",
          "output_type": "stream",
          "text": [
            "\r 20%|██        | 9/45 [00:02<00:11,  3.04it/s]"
          ]
        },
        {
          "name": "stdout",
          "output_type": "stream",
          "text": [
            "_Image_11R_0\n",
            "(384, 384, 1) 0.9998969 0.00039037233\n",
            "(384, 384, 3) (384, 384) (384, 384)\n"
          ]
        },
        {
          "name": "stderr",
          "output_type": "stream",
          "text": [
            "\r 22%|██▏       | 10/45 [00:03<00:11,  3.04it/s]"
          ]
        },
        {
          "name": "stdout",
          "output_type": "stream",
          "text": [
            "_Image_11R_1\n",
            "(384, 384, 1) 0.9999428 0.00027200728\n",
            "(384, 384, 3) (384, 384) (384, 384)\n"
          ]
        },
        {
          "name": "stderr",
          "output_type": "stream",
          "text": [
            "\r 24%|██▍       | 11/45 [00:03<00:11,  3.05it/s]"
          ]
        },
        {
          "name": "stdout",
          "output_type": "stream",
          "text": [
            "_Image_11R_2\n",
            "(384, 384, 1) 0.9998745 0.00035798005\n",
            "(384, 384, 3) (384, 384) (384, 384)\n"
          ]
        },
        {
          "name": "stderr",
          "output_type": "stream",
          "text": [
            "\r 27%|██▋       | 12/45 [00:03<00:10,  3.08it/s]"
          ]
        },
        {
          "name": "stdout",
          "output_type": "stream",
          "text": [
            "_Image_11R_3\n",
            "(384, 384, 1) 0.9999149 0.00034774156\n",
            "(384, 384, 3) (384, 384) (384, 384)\n"
          ]
        },
        {
          "name": "stderr",
          "output_type": "stream",
          "text": [
            "\r 29%|██▉       | 13/45 [00:04<00:10,  3.06it/s]"
          ]
        },
        {
          "name": "stdout",
          "output_type": "stream",
          "text": [
            "_Image_11R_4\n",
            "(384, 384, 1) 0.9999939 1.6765973e-05\n",
            "(384, 384, 3) (384, 384) (384, 384)\n"
          ]
        },
        {
          "name": "stderr",
          "output_type": "stream",
          "text": [
            "\r 31%|███       | 14/45 [00:04<00:10,  3.02it/s]"
          ]
        },
        {
          "name": "stdout",
          "output_type": "stream",
          "text": [
            "_Image_11R_5\n",
            "(384, 384, 1) 0.9999794 0.00045854866\n",
            "(384, 384, 3) (384, 384) (384, 384)\n"
          ]
        },
        {
          "name": "stderr",
          "output_type": "stream",
          "text": [
            "\r 33%|███▎      | 15/45 [00:04<00:09,  3.03it/s]"
          ]
        },
        {
          "name": "stdout",
          "output_type": "stream",
          "text": [
            "_Image_11R_6\n",
            "(384, 384, 1) 0.999713 0.0004148872\n",
            "(384, 384, 3) (384, 384) (384, 384)\n"
          ]
        },
        {
          "name": "stderr",
          "output_type": "stream",
          "text": [
            "\r 36%|███▌      | 16/45 [00:05<00:09,  3.05it/s]"
          ]
        },
        {
          "name": "stdout",
          "output_type": "stream",
          "text": [
            "_Image_11R_7\n",
            "(384, 384, 1) 0.9999858 0.0002609409\n",
            "(384, 384, 3) (384, 384) (384, 384)\n"
          ]
        },
        {
          "name": "stderr",
          "output_type": "stream",
          "text": [
            "\r 38%|███▊      | 17/45 [00:05<00:09,  3.06it/s]"
          ]
        },
        {
          "name": "stdout",
          "output_type": "stream",
          "text": [
            "_Image_11R_8\n",
            "(384, 384, 1) 0.9999622 0.0004186857\n",
            "(384, 384, 3) (384, 384) (384, 384)\n"
          ]
        },
        {
          "name": "stderr",
          "output_type": "stream",
          "text": [
            "\r 40%|████      | 18/45 [00:05<00:08,  3.08it/s]"
          ]
        },
        {
          "name": "stdout",
          "output_type": "stream",
          "text": [
            "_Image_12L_0\n",
            "(384, 384, 1) 0.99972266 0.000111956506\n",
            "(384, 384, 3) (384, 384) (384, 384)\n"
          ]
        },
        {
          "name": "stderr",
          "output_type": "stream",
          "text": [
            "\r 42%|████▏     | 19/45 [00:06<00:08,  3.10it/s]"
          ]
        },
        {
          "name": "stdout",
          "output_type": "stream",
          "text": [
            "_Image_12L_1\n",
            "(384, 384, 1) 0.99999774 0.000117181415\n",
            "(384, 384, 3) (384, 384) (384, 384)\n"
          ]
        },
        {
          "name": "stderr",
          "output_type": "stream",
          "text": [
            "\r 44%|████▍     | 20/45 [00:06<00:08,  3.12it/s]"
          ]
        },
        {
          "name": "stdout",
          "output_type": "stream",
          "text": [
            "_Image_12L_2\n",
            "(384, 384, 1) 0.9999658 0.00036722355\n",
            "(384, 384, 3) (384, 384) (384, 384)\n"
          ]
        },
        {
          "name": "stderr",
          "output_type": "stream",
          "text": [
            "\r 47%|████▋     | 21/45 [00:06<00:07,  3.13it/s]"
          ]
        },
        {
          "name": "stdout",
          "output_type": "stream",
          "text": [
            "_Image_12L_3\n",
            "(384, 384, 1) 0.99998116 0.00023031734\n",
            "(384, 384, 3) (384, 384) (384, 384)\n"
          ]
        },
        {
          "name": "stderr",
          "output_type": "stream",
          "text": [
            "\r 49%|████▉     | 22/45 [00:07<00:07,  3.14it/s]"
          ]
        },
        {
          "name": "stdout",
          "output_type": "stream",
          "text": [
            "_Image_12L_4\n",
            "(384, 384, 1) 0.9999969 1.2858542e-06\n",
            "(384, 384, 3) (384, 384) (384, 384)\n"
          ]
        },
        {
          "name": "stderr",
          "output_type": "stream",
          "text": [
            "\r 51%|█████     | 23/45 [00:07<00:07,  3.13it/s]"
          ]
        },
        {
          "name": "stdout",
          "output_type": "stream",
          "text": [
            "_Image_12L_5\n",
            "(384, 384, 1) 0.9998159 0.00039057617\n",
            "(384, 384, 3) (384, 384) (384, 384)\n"
          ]
        },
        {
          "name": "stderr",
          "output_type": "stream",
          "text": [
            "\r 53%|█████▎    | 24/45 [00:07<00:06,  3.11it/s]"
          ]
        },
        {
          "name": "stdout",
          "output_type": "stream",
          "text": [
            "_Image_12L_6\n",
            "(384, 384, 1) 0.9999869 0.00041727163\n",
            "(384, 384, 3) (384, 384) (384, 384)\n"
          ]
        },
        {
          "name": "stderr",
          "output_type": "stream",
          "text": [
            "\r 56%|█████▌    | 25/45 [00:08<00:06,  3.12it/s]"
          ]
        },
        {
          "name": "stdout",
          "output_type": "stream",
          "text": [
            "_Image_12L_7\n",
            "(384, 384, 1) 0.99999607 0.0003087272\n",
            "(384, 384, 3) (384, 384) (384, 384)\n"
          ]
        },
        {
          "name": "stderr",
          "output_type": "stream",
          "text": [
            "\r 58%|█████▊    | 26/45 [00:08<00:06,  3.11it/s]"
          ]
        },
        {
          "name": "stdout",
          "output_type": "stream",
          "text": [
            "_Image_12L_8\n",
            "(384, 384, 1) 0.9999906 0.00028267963\n",
            "(384, 384, 3) (384, 384) (384, 384)\n"
          ]
        },
        {
          "name": "stderr",
          "output_type": "stream",
          "text": [
            "\r 60%|██████    | 27/45 [00:08<00:05,  3.11it/s]"
          ]
        },
        {
          "name": "stdout",
          "output_type": "stream",
          "text": [
            "_Image_12R_0\n",
            "(384, 384, 1) 0.9999838 0.00036171052\n",
            "(384, 384, 3) (384, 384) (384, 384)\n"
          ]
        },
        {
          "name": "stderr",
          "output_type": "stream",
          "text": [
            "\r 62%|██████▏   | 28/45 [00:09<00:05,  3.09it/s]"
          ]
        },
        {
          "name": "stdout",
          "output_type": "stream",
          "text": [
            "_Image_12R_1\n",
            "(384, 384, 1) 0.9999933 0.00027517468\n",
            "(384, 384, 3) (384, 384) (384, 384)\n"
          ]
        },
        {
          "name": "stderr",
          "output_type": "stream",
          "text": [
            "\r 64%|██████▍   | 29/45 [00:09<00:05,  3.08it/s]"
          ]
        },
        {
          "name": "stdout",
          "output_type": "stream",
          "text": [
            "_Image_12R_2\n",
            "(384, 384, 1) 0.99992394 0.00026494596\n",
            "(384, 384, 3) (384, 384) (384, 384)\n"
          ]
        },
        {
          "name": "stderr",
          "output_type": "stream",
          "text": [
            "\r 67%|██████▋   | 30/45 [00:09<00:04,  3.12it/s]"
          ]
        },
        {
          "name": "stdout",
          "output_type": "stream",
          "text": [
            "_Image_12R_3\n",
            "(384, 384, 1) 0.99994564 0.00038123826\n",
            "(384, 384, 3) (384, 384) (384, 384)\n"
          ]
        },
        {
          "name": "stderr",
          "output_type": "stream",
          "text": [
            "\r 69%|██████▉   | 31/45 [00:10<00:04,  3.13it/s]"
          ]
        },
        {
          "name": "stdout",
          "output_type": "stream",
          "text": [
            "_Image_12R_4\n",
            "(384, 384, 1) 0.99999356 9.421678e-06\n",
            "(384, 384, 3) (384, 384) (384, 384)\n"
          ]
        },
        {
          "name": "stderr",
          "output_type": "stream",
          "text": [
            "\r 71%|███████   | 32/45 [00:10<00:04,  3.12it/s]"
          ]
        },
        {
          "name": "stdout",
          "output_type": "stream",
          "text": [
            "_Image_12R_5\n",
            "(384, 384, 1) 0.99999523 0.0002777223\n",
            "(384, 384, 3) (384, 384) (384, 384)\n"
          ]
        },
        {
          "name": "stderr",
          "output_type": "stream",
          "text": [
            "\r 73%|███████▎  | 33/45 [00:10<00:03,  3.10it/s]"
          ]
        },
        {
          "name": "stdout",
          "output_type": "stream",
          "text": [
            "_Image_12R_6\n",
            "(384, 384, 1) 0.9999639 0.0002716978\n",
            "(384, 384, 3) (384, 384) (384, 384)\n"
          ]
        },
        {
          "name": "stderr",
          "output_type": "stream",
          "text": [
            "\r 76%|███████▌  | 34/45 [00:11<00:03,  3.11it/s]"
          ]
        },
        {
          "name": "stdout",
          "output_type": "stream",
          "text": [
            "_Image_12R_7\n",
            "(384, 384, 1) 0.99999523 0.00040409376\n",
            "(384, 384, 3) (384, 384) (384, 384)\n"
          ]
        },
        {
          "name": "stderr",
          "output_type": "stream",
          "text": [
            "\r 78%|███████▊  | 35/45 [00:11<00:03,  3.11it/s]"
          ]
        },
        {
          "name": "stdout",
          "output_type": "stream",
          "text": [
            "_Image_12R_8\n",
            "(384, 384, 1) 0.99995184 0.00048551778\n",
            "(384, 384, 3) (384, 384) (384, 384)\n"
          ]
        },
        {
          "name": "stderr",
          "output_type": "stream",
          "text": [
            "\r 80%|████████  | 36/45 [00:11<00:02,  3.13it/s]"
          ]
        },
        {
          "name": "stdout",
          "output_type": "stream",
          "text": [
            "_Image_13L_0\n",
            "(384, 384, 1) 0.9999542 0.00033423843\n",
            "(384, 384, 3) (384, 384) (384, 384)\n"
          ]
        },
        {
          "name": "stderr",
          "output_type": "stream",
          "text": [
            "\r 82%|████████▏ | 37/45 [00:11<00:02,  3.14it/s]"
          ]
        },
        {
          "name": "stdout",
          "output_type": "stream",
          "text": [
            "_Image_13L_1\n",
            "(384, 384, 1) 0.99999034 0.00027789394\n",
            "(384, 384, 3) (384, 384) (384, 384)\n"
          ]
        },
        {
          "name": "stderr",
          "output_type": "stream",
          "text": [
            "\r 84%|████████▍ | 38/45 [00:12<00:02,  3.11it/s]"
          ]
        },
        {
          "name": "stdout",
          "output_type": "stream",
          "text": [
            "_Image_13L_2\n",
            "(384, 384, 1) 0.999843 0.00037624943\n",
            "(384, 384, 3) (384, 384) (384, 384)\n"
          ]
        },
        {
          "name": "stderr",
          "output_type": "stream",
          "text": [
            "\r 87%|████████▋ | 39/45 [00:12<00:01,  3.14it/s]"
          ]
        },
        {
          "name": "stdout",
          "output_type": "stream",
          "text": [
            "_Image_13L_3\n",
            "(384, 384, 1) 0.99998975 0.00028801354\n",
            "(384, 384, 3) (384, 384) (384, 384)\n"
          ]
        },
        {
          "name": "stderr",
          "output_type": "stream",
          "text": [
            "\r 89%|████████▉ | 40/45 [00:12<00:01,  3.14it/s]"
          ]
        },
        {
          "name": "stdout",
          "output_type": "stream",
          "text": [
            "_Image_13L_4\n",
            "(384, 384, 1) 0.99999905 5.88415e-05\n",
            "(384, 384, 3) (384, 384) (384, 384)\n"
          ]
        },
        {
          "name": "stderr",
          "output_type": "stream",
          "text": [
            "\r 91%|█████████ | 41/45 [00:13<00:01,  3.12it/s]"
          ]
        },
        {
          "name": "stdout",
          "output_type": "stream",
          "text": [
            "_Image_13L_5\n",
            "(384, 384, 1) 0.9999864 0.00023816402\n",
            "(384, 384, 3) (384, 384) (384, 384)\n"
          ]
        },
        {
          "name": "stderr",
          "output_type": "stream",
          "text": [
            "\r 93%|█████████▎| 42/45 [00:13<00:00,  3.12it/s]"
          ]
        },
        {
          "name": "stdout",
          "output_type": "stream",
          "text": [
            "_Image_13L_6\n",
            "(384, 384, 1) 0.99939597 0.00026212708\n",
            "(384, 384, 3) (384, 384) (384, 384)\n"
          ]
        },
        {
          "name": "stderr",
          "output_type": "stream",
          "text": [
            "\r 96%|█████████▌| 43/45 [00:13<00:00,  3.11it/s]"
          ]
        },
        {
          "name": "stdout",
          "output_type": "stream",
          "text": [
            "_Image_13L_7\n",
            "(384, 384, 1) 0.9999114 0.0002856922\n",
            "(384, 384, 3) (384, 384) (384, 384)\n"
          ]
        },
        {
          "name": "stderr",
          "output_type": "stream",
          "text": [
            "\r 98%|█████████▊| 44/45 [00:14<00:00,  3.10it/s]"
          ]
        },
        {
          "name": "stdout",
          "output_type": "stream",
          "text": [
            "_Image_13L_8\n",
            "(384, 384, 1) 0.9996779 0.00031454978\n",
            "(384, 384, 3) (384, 384) (384, 384)\n"
          ]
        },
        {
          "name": "stderr",
          "output_type": "stream",
          "text": [
            "100%|██████████| 45/45 [00:14<00:00,  3.09it/s]"
          ]
        },
        {
          "name": "stdout",
          "output_type": "stream",
          "text": [
            "Threshold: 0.40000\n",
            "Accuracy: 0.98178\n",
            "F1: 0.74997\n",
            "Jaccard: 0.60773\n",
            "Recall: 0.71698\n",
            "Precision: 0.80025\n",
            "AUC: 0.98043\n",
            "Dice Coeff: 0.71626\n"
          ]
        },
        {
          "name": "stderr",
          "output_type": "stream",
          "text": [
            "\n"
          ]
        }
      ],
      "source": [
        "dataset_path = f\"{root_path}/{split_name}/{split}/\"\n",
        "df_0_4, score_0_4 = compute_metrics(dataset_path,\n",
        "                    results_path=results_path,\n",
        "                    threshold=0.4,\n",
        "                    model=model,\n",
        "                    predictions_path=prediction_path,\n",
        "                    prediction_np_path=prediction_np_path)"
      ]
    },
    {
      "cell_type": "code",
      "execution_count": null,
      "metadata": {
        "colab": {
          "background_save": true
        },
        "id": "awC6MfPbujiZ",
        "outputId": "f861f01a-7a05-4dd3-d32d-9e99e52dead0"
      },
      "outputs": [
        {
          "name": "stdout",
          "output_type": "stream",
          "text": [
            "Threshold 0.5\n"
          ]
        },
        {
          "name": "stderr",
          "output_type": "stream",
          "text": [
            "\r  0%|          | 0/45 [00:00<?, ?it/s]"
          ]
        },
        {
          "name": "stdout",
          "output_type": "stream",
          "text": [
            "_Image_11L_0\n",
            "(384, 384, 1) 0.99998677 0.00032206875\n",
            "(384, 384, 3) (384, 384) (384, 384)\n"
          ]
        },
        {
          "name": "stderr",
          "output_type": "stream",
          "text": [
            "\r  2%|▏         | 1/45 [00:00<00:14,  3.08it/s]"
          ]
        },
        {
          "name": "stdout",
          "output_type": "stream",
          "text": [
            "_Image_11L_1\n",
            "(384, 384, 1) 0.99996364 0.00026056502\n",
            "(384, 384, 3) (384, 384) (384, 384)\n"
          ]
        },
        {
          "name": "stderr",
          "output_type": "stream",
          "text": [
            "\r  4%|▍         | 2/45 [00:00<00:13,  3.10it/s]"
          ]
        },
        {
          "name": "stdout",
          "output_type": "stream",
          "text": [
            "_Image_11L_2\n",
            "(384, 384, 1) 0.9993812 0.00032784892\n",
            "(384, 384, 3) (384, 384) (384, 384)\n"
          ]
        },
        {
          "name": "stderr",
          "output_type": "stream",
          "text": [
            "\r  7%|▋         | 3/45 [00:00<00:13,  3.12it/s]"
          ]
        },
        {
          "name": "stdout",
          "output_type": "stream",
          "text": [
            "_Image_11L_3\n",
            "(384, 384, 1) 0.9999713 0.00028037425\n",
            "(384, 384, 3) (384, 384) (384, 384)\n"
          ]
        },
        {
          "name": "stderr",
          "output_type": "stream",
          "text": [
            "\r  9%|▉         | 4/45 [00:01<00:13,  3.10it/s]"
          ]
        },
        {
          "name": "stdout",
          "output_type": "stream",
          "text": [
            "_Image_11L_4\n",
            "(384, 384, 1) 0.9999989 1.0829399e-05\n",
            "(384, 384, 3) (384, 384) (384, 384)\n"
          ]
        },
        {
          "name": "stderr",
          "output_type": "stream",
          "text": [
            "\r 11%|█         | 5/45 [00:01<00:12,  3.11it/s]"
          ]
        },
        {
          "name": "stdout",
          "output_type": "stream",
          "text": [
            "_Image_11L_5\n",
            "(384, 384, 1) 0.99986994 0.00042798847\n",
            "(384, 384, 3) (384, 384) (384, 384)\n"
          ]
        },
        {
          "name": "stderr",
          "output_type": "stream",
          "text": [
            "\r 13%|█▎        | 6/45 [00:01<00:12,  3.12it/s]"
          ]
        },
        {
          "name": "stdout",
          "output_type": "stream",
          "text": [
            "_Image_11L_6\n",
            "(384, 384, 1) 0.9999943 0.00032703948\n",
            "(384, 384, 3) (384, 384) (384, 384)\n"
          ]
        },
        {
          "name": "stderr",
          "output_type": "stream",
          "text": [
            "\r 16%|█▌        | 7/45 [00:02<00:12,  3.13it/s]"
          ]
        },
        {
          "name": "stdout",
          "output_type": "stream",
          "text": [
            "_Image_11L_7\n",
            "(384, 384, 1) 0.9999907 0.00015218488\n",
            "(384, 384, 3) (384, 384) (384, 384)\n"
          ]
        },
        {
          "name": "stderr",
          "output_type": "stream",
          "text": [
            "\r 18%|█▊        | 8/45 [00:02<00:11,  3.10it/s]"
          ]
        },
        {
          "name": "stdout",
          "output_type": "stream",
          "text": [
            "_Image_11L_8\n",
            "(384, 384, 1) 0.9999237 0.00035263403\n",
            "(384, 384, 3) (384, 384) (384, 384)\n"
          ]
        },
        {
          "name": "stderr",
          "output_type": "stream",
          "text": [
            "\r 20%|██        | 9/45 [00:02<00:11,  3.12it/s]"
          ]
        },
        {
          "name": "stdout",
          "output_type": "stream",
          "text": [
            "_Image_11R_0\n",
            "(384, 384, 1) 0.9998969 0.00039037233\n",
            "(384, 384, 3) (384, 384) (384, 384)\n"
          ]
        },
        {
          "name": "stderr",
          "output_type": "stream",
          "text": [
            "\r 22%|██▏       | 10/45 [00:03<00:11,  3.14it/s]"
          ]
        },
        {
          "name": "stdout",
          "output_type": "stream",
          "text": [
            "_Image_11R_1\n",
            "(384, 384, 1) 0.9999428 0.00027200728\n",
            "(384, 384, 3) (384, 384) (384, 384)\n"
          ]
        },
        {
          "name": "stderr",
          "output_type": "stream",
          "text": [
            "\r 24%|██▍       | 11/45 [00:03<00:10,  3.12it/s]"
          ]
        },
        {
          "name": "stdout",
          "output_type": "stream",
          "text": [
            "_Image_11R_2\n",
            "(384, 384, 1) 0.9998745 0.00035798005\n",
            "(384, 384, 3) (384, 384) (384, 384)\n"
          ]
        },
        {
          "name": "stderr",
          "output_type": "stream",
          "text": [
            "\r 27%|██▋       | 12/45 [00:03<00:10,  3.13it/s]"
          ]
        },
        {
          "name": "stdout",
          "output_type": "stream",
          "text": [
            "_Image_11R_3\n",
            "(384, 384, 1) 0.9999149 0.00034774156\n",
            "(384, 384, 3) (384, 384) (384, 384)\n"
          ]
        },
        {
          "name": "stderr",
          "output_type": "stream",
          "text": [
            "\r 29%|██▉       | 13/45 [00:04<00:10,  3.12it/s]"
          ]
        },
        {
          "name": "stdout",
          "output_type": "stream",
          "text": [
            "_Image_11R_4\n",
            "(384, 384, 1) 0.9999939 1.6765973e-05\n",
            "(384, 384, 3) (384, 384) (384, 384)\n"
          ]
        },
        {
          "name": "stderr",
          "output_type": "stream",
          "text": [
            "\r 31%|███       | 14/45 [00:04<00:09,  3.11it/s]"
          ]
        },
        {
          "name": "stdout",
          "output_type": "stream",
          "text": [
            "_Image_11R_5\n",
            "(384, 384, 1) 0.9999794 0.00045854866\n",
            "(384, 384, 3) (384, 384) (384, 384)\n"
          ]
        },
        {
          "name": "stderr",
          "output_type": "stream",
          "text": [
            "\r 33%|███▎      | 15/45 [00:04<00:09,  3.11it/s]"
          ]
        },
        {
          "name": "stdout",
          "output_type": "stream",
          "text": [
            "_Image_11R_6\n",
            "(384, 384, 1) 0.999713 0.0004148872\n",
            "(384, 384, 3) (384, 384) (384, 384)\n"
          ]
        },
        {
          "name": "stderr",
          "output_type": "stream",
          "text": [
            "\r 36%|███▌      | 16/45 [00:05<00:09,  3.16it/s]"
          ]
        },
        {
          "name": "stdout",
          "output_type": "stream",
          "text": [
            "_Image_11R_7\n",
            "(384, 384, 1) 0.9999858 0.0002609409\n",
            "(384, 384, 3) (384, 384) (384, 384)\n"
          ]
        },
        {
          "name": "stderr",
          "output_type": "stream",
          "text": [
            "\r 38%|███▊      | 17/45 [00:05<00:08,  3.15it/s]"
          ]
        },
        {
          "name": "stdout",
          "output_type": "stream",
          "text": [
            "_Image_11R_8\n",
            "(384, 384, 1) 0.9999622 0.0004186857\n",
            "(384, 384, 3) (384, 384) (384, 384)\n"
          ]
        },
        {
          "name": "stderr",
          "output_type": "stream",
          "text": [
            "\r 40%|████      | 18/45 [00:05<00:08,  3.18it/s]"
          ]
        },
        {
          "name": "stdout",
          "output_type": "stream",
          "text": [
            "_Image_12L_0\n",
            "(384, 384, 1) 0.99972266 0.000111956506\n",
            "(384, 384, 3) (384, 384) (384, 384)\n"
          ]
        },
        {
          "name": "stderr",
          "output_type": "stream",
          "text": [
            "\r 42%|████▏     | 19/45 [00:06<00:08,  3.20it/s]"
          ]
        },
        {
          "name": "stdout",
          "output_type": "stream",
          "text": [
            "_Image_12L_1\n",
            "(384, 384, 1) 0.99999774 0.000117181415\n",
            "(384, 384, 3) (384, 384) (384, 384)\n"
          ]
        },
        {
          "name": "stderr",
          "output_type": "stream",
          "text": [
            "\r 44%|████▍     | 20/45 [00:06<00:07,  3.17it/s]"
          ]
        },
        {
          "name": "stdout",
          "output_type": "stream",
          "text": [
            "_Image_12L_2\n",
            "(384, 384, 1) 0.9999658 0.00036722355\n",
            "(384, 384, 3) (384, 384) (384, 384)\n"
          ]
        },
        {
          "name": "stderr",
          "output_type": "stream",
          "text": [
            "\r 47%|████▋     | 21/45 [00:06<00:07,  3.18it/s]"
          ]
        },
        {
          "name": "stdout",
          "output_type": "stream",
          "text": [
            "_Image_12L_3\n",
            "(384, 384, 1) 0.99998116 0.00023031734\n",
            "(384, 384, 3) (384, 384) (384, 384)\n"
          ]
        },
        {
          "name": "stderr",
          "output_type": "stream",
          "text": [
            "\r 49%|████▉     | 22/45 [00:07<00:07,  3.18it/s]"
          ]
        },
        {
          "name": "stdout",
          "output_type": "stream",
          "text": [
            "_Image_12L_4\n",
            "(384, 384, 1) 0.9999969 1.2858542e-06\n",
            "(384, 384, 3) (384, 384) (384, 384)\n"
          ]
        },
        {
          "name": "stderr",
          "output_type": "stream",
          "text": [
            "\r 51%|█████     | 23/45 [00:07<00:07,  3.13it/s]"
          ]
        },
        {
          "name": "stdout",
          "output_type": "stream",
          "text": [
            "_Image_12L_5\n",
            "(384, 384, 1) 0.9998159 0.00039057617\n",
            "(384, 384, 3) (384, 384) (384, 384)\n"
          ]
        },
        {
          "name": "stderr",
          "output_type": "stream",
          "text": [
            "\r 53%|█████▎    | 24/45 [00:07<00:07,  2.63it/s]"
          ]
        },
        {
          "name": "stdout",
          "output_type": "stream",
          "text": [
            "_Image_12L_6\n",
            "(384, 384, 1) 0.9999869 0.00041727163\n",
            "(384, 384, 3) (384, 384) (384, 384)\n"
          ]
        },
        {
          "name": "stderr",
          "output_type": "stream",
          "text": [
            "\r 56%|█████▌    | 25/45 [00:08<00:07,  2.75it/s]"
          ]
        },
        {
          "name": "stdout",
          "output_type": "stream",
          "text": [
            "_Image_12L_7\n",
            "(384, 384, 1) 0.99999607 0.0003087272\n",
            "(384, 384, 3) (384, 384) (384, 384)\n"
          ]
        },
        {
          "name": "stderr",
          "output_type": "stream",
          "text": [
            "\r 58%|█████▊    | 26/45 [00:08<00:06,  2.81it/s]"
          ]
        },
        {
          "name": "stdout",
          "output_type": "stream",
          "text": [
            "_Image_12L_8\n",
            "(384, 384, 1) 0.9999906 0.00028267963\n",
            "(384, 384, 3) (384, 384) (384, 384)\n"
          ]
        },
        {
          "name": "stderr",
          "output_type": "stream",
          "text": [
            "\r 60%|██████    | 27/45 [00:08<00:06,  2.88it/s]"
          ]
        },
        {
          "name": "stdout",
          "output_type": "stream",
          "text": [
            "_Image_12R_0\n",
            "(384, 384, 1) 0.9999838 0.00036171052\n",
            "(384, 384, 3) (384, 384) (384, 384)\n"
          ]
        },
        {
          "name": "stderr",
          "output_type": "stream",
          "text": [
            "\r 62%|██████▏   | 28/45 [00:09<00:05,  2.97it/s]"
          ]
        },
        {
          "name": "stdout",
          "output_type": "stream",
          "text": [
            "_Image_12R_1\n",
            "(384, 384, 1) 0.9999933 0.00027517468\n",
            "(384, 384, 3) (384, 384) (384, 384)\n"
          ]
        },
        {
          "name": "stderr",
          "output_type": "stream",
          "text": [
            "\r 64%|██████▍   | 29/45 [00:09<00:05,  2.98it/s]"
          ]
        },
        {
          "name": "stdout",
          "output_type": "stream",
          "text": [
            "_Image_12R_2\n",
            "(384, 384, 1) 0.99992394 0.00026494596\n",
            "(384, 384, 3) (384, 384) (384, 384)\n"
          ]
        },
        {
          "name": "stderr",
          "output_type": "stream",
          "text": [
            "\r 67%|██████▋   | 30/45 [00:09<00:04,  3.04it/s]"
          ]
        },
        {
          "name": "stdout",
          "output_type": "stream",
          "text": [
            "_Image_12R_3\n",
            "(384, 384, 1) 0.99994564 0.00038123826\n",
            "(384, 384, 3) (384, 384) (384, 384)\n"
          ]
        },
        {
          "name": "stderr",
          "output_type": "stream",
          "text": [
            "\r 69%|██████▉   | 31/45 [00:10<00:04,  3.06it/s]"
          ]
        },
        {
          "name": "stdout",
          "output_type": "stream",
          "text": [
            "_Image_12R_4\n",
            "(384, 384, 1) 0.99999356 9.421678e-06\n",
            "(384, 384, 3) (384, 384) (384, 384)\n"
          ]
        },
        {
          "name": "stderr",
          "output_type": "stream",
          "text": [
            "\r 71%|███████   | 32/45 [00:10<00:04,  3.01it/s]"
          ]
        },
        {
          "name": "stdout",
          "output_type": "stream",
          "text": [
            "_Image_12R_5\n",
            "(384, 384, 1) 0.99999523 0.0002777223\n",
            "(384, 384, 3) (384, 384) (384, 384)\n"
          ]
        },
        {
          "name": "stderr",
          "output_type": "stream",
          "text": [
            "\r 73%|███████▎  | 33/45 [00:10<00:03,  3.04it/s]"
          ]
        },
        {
          "name": "stdout",
          "output_type": "stream",
          "text": [
            "_Image_12R_6\n",
            "(384, 384, 1) 0.9999639 0.0002716978\n",
            "(384, 384, 3) (384, 384) (384, 384)\n"
          ]
        },
        {
          "name": "stderr",
          "output_type": "stream",
          "text": [
            "\r 76%|███████▌  | 34/45 [00:11<00:03,  3.11it/s]"
          ]
        },
        {
          "name": "stdout",
          "output_type": "stream",
          "text": [
            "_Image_12R_7\n",
            "(384, 384, 1) 0.99999523 0.00040409376\n",
            "(384, 384, 3) (384, 384) (384, 384)\n"
          ]
        },
        {
          "name": "stderr",
          "output_type": "stream",
          "text": [
            "\r 78%|███████▊  | 35/45 [00:11<00:03,  3.12it/s]"
          ]
        },
        {
          "name": "stdout",
          "output_type": "stream",
          "text": [
            "_Image_12R_8\n",
            "(384, 384, 1) 0.99995184 0.00048551778\n",
            "(384, 384, 3) (384, 384) (384, 384)\n"
          ]
        },
        {
          "name": "stderr",
          "output_type": "stream",
          "text": [
            "\r 80%|████████  | 36/45 [00:11<00:02,  3.14it/s]"
          ]
        },
        {
          "name": "stdout",
          "output_type": "stream",
          "text": [
            "_Image_13L_0\n",
            "(384, 384, 1) 0.9999542 0.00033423843\n",
            "(384, 384, 3) (384, 384) (384, 384)\n"
          ]
        },
        {
          "name": "stderr",
          "output_type": "stream",
          "text": [
            "\r 82%|████████▏ | 37/45 [00:12<00:02,  3.16it/s]"
          ]
        },
        {
          "name": "stdout",
          "output_type": "stream",
          "text": [
            "_Image_13L_1\n",
            "(384, 384, 1) 0.99999034 0.00027789394\n",
            "(384, 384, 3) (384, 384) (384, 384)\n"
          ]
        },
        {
          "name": "stderr",
          "output_type": "stream",
          "text": [
            "\r 84%|████████▍ | 38/45 [00:12<00:02,  3.17it/s]"
          ]
        },
        {
          "name": "stdout",
          "output_type": "stream",
          "text": [
            "_Image_13L_2\n",
            "(384, 384, 1) 0.999843 0.00037624943\n",
            "(384, 384, 3) (384, 384) (384, 384)\n"
          ]
        },
        {
          "name": "stderr",
          "output_type": "stream",
          "text": [
            "\r 87%|████████▋ | 39/45 [00:12<00:01,  3.18it/s]"
          ]
        },
        {
          "name": "stdout",
          "output_type": "stream",
          "text": [
            "_Image_13L_3\n",
            "(384, 384, 1) 0.99998975 0.00028801354\n",
            "(384, 384, 3) (384, 384) (384, 384)\n"
          ]
        },
        {
          "name": "stderr",
          "output_type": "stream",
          "text": [
            "\r 89%|████████▉ | 40/45 [00:12<00:01,  3.15it/s]"
          ]
        },
        {
          "name": "stdout",
          "output_type": "stream",
          "text": [
            "_Image_13L_4\n",
            "(384, 384, 1) 0.99999905 5.88415e-05\n",
            "(384, 384, 3) (384, 384) (384, 384)\n"
          ]
        },
        {
          "name": "stderr",
          "output_type": "stream",
          "text": [
            "\r 91%|█████████ | 41/45 [00:13<00:01,  3.12it/s]"
          ]
        },
        {
          "name": "stdout",
          "output_type": "stream",
          "text": [
            "_Image_13L_5\n",
            "(384, 384, 1) 0.9999864 0.00023816402\n",
            "(384, 384, 3) (384, 384) (384, 384)\n"
          ]
        },
        {
          "name": "stderr",
          "output_type": "stream",
          "text": [
            "\r 93%|█████████▎| 42/45 [00:13<00:00,  3.10it/s]"
          ]
        },
        {
          "name": "stdout",
          "output_type": "stream",
          "text": [
            "_Image_13L_6\n",
            "(384, 384, 1) 0.99939597 0.00026212708\n",
            "(384, 384, 3) (384, 384) (384, 384)\n"
          ]
        },
        {
          "name": "stderr",
          "output_type": "stream",
          "text": [
            "\r 96%|█████████▌| 43/45 [00:13<00:00,  3.10it/s]"
          ]
        },
        {
          "name": "stdout",
          "output_type": "stream",
          "text": [
            "_Image_13L_7\n",
            "(384, 384, 1) 0.9999114 0.0002856922\n",
            "(384, 384, 3) (384, 384) (384, 384)\n"
          ]
        },
        {
          "name": "stderr",
          "output_type": "stream",
          "text": [
            "\r 98%|█████████▊| 44/45 [00:14<00:00,  3.12it/s]"
          ]
        },
        {
          "name": "stdout",
          "output_type": "stream",
          "text": [
            "_Image_13L_8\n",
            "(384, 384, 1) 0.9996779 0.00031454978\n",
            "(384, 384, 3) (384, 384) (384, 384)\n"
          ]
        },
        {
          "name": "stderr",
          "output_type": "stream",
          "text": [
            "100%|██████████| 45/45 [00:14<00:00,  3.08it/s]"
          ]
        },
        {
          "name": "stdout",
          "output_type": "stream",
          "text": [
            "Threshold: 0.50000\n",
            "Accuracy: 0.98179\n",
            "F1: 0.74585\n",
            "Jaccard: 0.60285\n",
            "Recall: 0.70408\n",
            "Precision: 0.80818\n",
            "AUC: 0.98043\n",
            "Dice Coeff: 0.71626\n"
          ]
        },
        {
          "name": "stderr",
          "output_type": "stream",
          "text": [
            "\n"
          ]
        }
      ],
      "source": [
        "dataset_path = f\"{root_path}/{split_name}/{split}/\"\n",
        "df_0_5, score_0_5 = compute_metrics(dataset_path,\n",
        "                    results_path=results_path,\n",
        "                    threshold=0.5,\n",
        "                    model=model,\n",
        "                    predictions_path=prediction_path,\n",
        "                    prediction_np_path=prediction_np_path)"
      ]
    },
    {
      "cell_type": "code",
      "execution_count": null,
      "metadata": {
        "colab": {
          "background_save": true
        },
        "id": "a5lvUqu1uoxt",
        "outputId": "1d6736d3-bf6a-4db3-a8b8-1d5872aea3a0"
      },
      "outputs": [
        {
          "name": "stdout",
          "output_type": "stream",
          "text": [
            "Threshold 0.6\n"
          ]
        },
        {
          "name": "stderr",
          "output_type": "stream",
          "text": [
            "\r  0%|          | 0/45 [00:00<?, ?it/s]"
          ]
        },
        {
          "name": "stdout",
          "output_type": "stream",
          "text": [
            "_Image_11L_0\n",
            "(384, 384, 1) 0.99998677 0.00032206875\n",
            "(384, 384, 3) (384, 384) (384, 384)\n"
          ]
        },
        {
          "name": "stderr",
          "output_type": "stream",
          "text": [
            "\r  2%|▏         | 1/45 [00:00<00:13,  3.31it/s]"
          ]
        },
        {
          "name": "stdout",
          "output_type": "stream",
          "text": [
            "_Image_11L_1\n",
            "(384, 384, 1) 0.99996364 0.00026056502\n",
            "(384, 384, 3) (384, 384) (384, 384)\n"
          ]
        },
        {
          "name": "stderr",
          "output_type": "stream",
          "text": [
            "\r  4%|▍         | 2/45 [00:00<00:13,  3.15it/s]"
          ]
        },
        {
          "name": "stdout",
          "output_type": "stream",
          "text": [
            "_Image_11L_2\n",
            "(384, 384, 1) 0.9993812 0.00032784892\n",
            "(384, 384, 3) (384, 384) (384, 384)\n"
          ]
        },
        {
          "name": "stderr",
          "output_type": "stream",
          "text": [
            "\r  7%|▋         | 3/45 [00:00<00:13,  3.15it/s]"
          ]
        },
        {
          "name": "stdout",
          "output_type": "stream",
          "text": [
            "_Image_11L_3\n",
            "(384, 384, 1) 0.9999713 0.00028037425\n",
            "(384, 384, 3) (384, 384) (384, 384)\n"
          ]
        },
        {
          "name": "stderr",
          "output_type": "stream",
          "text": [
            "\r  9%|▉         | 4/45 [00:01<00:13,  3.10it/s]"
          ]
        },
        {
          "name": "stdout",
          "output_type": "stream",
          "text": [
            "_Image_11L_4\n",
            "(384, 384, 1) 0.9999989 1.0829399e-05\n",
            "(384, 384, 3) (384, 384) (384, 384)\n"
          ]
        },
        {
          "name": "stderr",
          "output_type": "stream",
          "text": [
            "\r 11%|█         | 5/45 [00:01<00:12,  3.08it/s]"
          ]
        },
        {
          "name": "stdout",
          "output_type": "stream",
          "text": [
            "_Image_11L_5\n",
            "(384, 384, 1) 0.99986994 0.00042798847\n",
            "(384, 384, 3) (384, 384) (384, 384)\n"
          ]
        },
        {
          "name": "stderr",
          "output_type": "stream",
          "text": [
            "\r 13%|█▎        | 6/45 [00:01<00:12,  3.05it/s]"
          ]
        },
        {
          "name": "stdout",
          "output_type": "stream",
          "text": [
            "_Image_11L_6\n",
            "(384, 384, 1) 0.9999943 0.00032703948\n",
            "(384, 384, 3) (384, 384) (384, 384)\n"
          ]
        },
        {
          "name": "stderr",
          "output_type": "stream",
          "text": [
            "\r 16%|█▌        | 7/45 [00:02<00:12,  3.10it/s]"
          ]
        },
        {
          "name": "stdout",
          "output_type": "stream",
          "text": [
            "_Image_11L_7\n",
            "(384, 384, 1) 0.9999907 0.00015218488\n",
            "(384, 384, 3) (384, 384) (384, 384)\n"
          ]
        },
        {
          "name": "stderr",
          "output_type": "stream",
          "text": [
            "\r 18%|█▊        | 8/45 [00:02<00:11,  3.09it/s]"
          ]
        },
        {
          "name": "stdout",
          "output_type": "stream",
          "text": [
            "_Image_11L_8\n",
            "(384, 384, 1) 0.9999237 0.00035263403\n",
            "(384, 384, 3) (384, 384) (384, 384)\n"
          ]
        },
        {
          "name": "stderr",
          "output_type": "stream",
          "text": [
            "\r 20%|██        | 9/45 [00:02<00:11,  3.12it/s]"
          ]
        },
        {
          "name": "stdout",
          "output_type": "stream",
          "text": [
            "_Image_11R_0\n",
            "(384, 384, 1) 0.9998969 0.00039037233\n",
            "(384, 384, 3) (384, 384) (384, 384)\n"
          ]
        },
        {
          "name": "stderr",
          "output_type": "stream",
          "text": [
            "\r 22%|██▏       | 10/45 [00:03<00:11,  3.13it/s]"
          ]
        },
        {
          "name": "stdout",
          "output_type": "stream",
          "text": [
            "_Image_11R_1\n",
            "(384, 384, 1) 0.9999428 0.00027200728\n",
            "(384, 384, 3) (384, 384) (384, 384)\n"
          ]
        },
        {
          "name": "stderr",
          "output_type": "stream",
          "text": [
            "\r 24%|██▍       | 11/45 [00:03<00:10,  3.15it/s]"
          ]
        },
        {
          "name": "stdout",
          "output_type": "stream",
          "text": [
            "_Image_11R_2\n",
            "(384, 384, 1) 0.9998745 0.00035798005\n",
            "(384, 384, 3) (384, 384) (384, 384)\n"
          ]
        },
        {
          "name": "stderr",
          "output_type": "stream",
          "text": [
            "\r 27%|██▋       | 12/45 [00:03<00:10,  3.15it/s]"
          ]
        },
        {
          "name": "stdout",
          "output_type": "stream",
          "text": [
            "_Image_11R_3\n",
            "(384, 384, 1) 0.9999149 0.00034774156\n",
            "(384, 384, 3) (384, 384) (384, 384)\n"
          ]
        },
        {
          "name": "stderr",
          "output_type": "stream",
          "text": [
            "\r 29%|██▉       | 13/45 [00:04<00:10,  3.11it/s]"
          ]
        },
        {
          "name": "stdout",
          "output_type": "stream",
          "text": [
            "_Image_11R_4\n",
            "(384, 384, 1) 0.9999939 1.6765973e-05\n",
            "(384, 384, 3) (384, 384) (384, 384)\n"
          ]
        },
        {
          "name": "stderr",
          "output_type": "stream",
          "text": [
            "\r 31%|███       | 14/45 [00:04<00:10,  3.09it/s]"
          ]
        },
        {
          "name": "stdout",
          "output_type": "stream",
          "text": [
            "_Image_11R_5\n",
            "(384, 384, 1) 0.9999794 0.00045854866\n",
            "(384, 384, 3) (384, 384) (384, 384)\n"
          ]
        },
        {
          "name": "stderr",
          "output_type": "stream",
          "text": [
            "\r 33%|███▎      | 15/45 [00:04<00:09,  3.06it/s]"
          ]
        },
        {
          "name": "stdout",
          "output_type": "stream",
          "text": [
            "_Image_11R_6\n",
            "(384, 384, 1) 0.999713 0.0004148872\n",
            "(384, 384, 3) (384, 384) (384, 384)\n"
          ]
        },
        {
          "name": "stderr",
          "output_type": "stream",
          "text": [
            "\r 36%|███▌      | 16/45 [00:05<00:09,  3.07it/s]"
          ]
        },
        {
          "name": "stdout",
          "output_type": "stream",
          "text": [
            "_Image_11R_7\n",
            "(384, 384, 1) 0.9999858 0.0002609409\n",
            "(384, 384, 3) (384, 384) (384, 384)\n"
          ]
        },
        {
          "name": "stderr",
          "output_type": "stream",
          "text": [
            "\r 38%|███▊      | 17/45 [00:05<00:09,  3.09it/s]"
          ]
        },
        {
          "name": "stdout",
          "output_type": "stream",
          "text": [
            "_Image_11R_8\n",
            "(384, 384, 1) 0.9999622 0.0004186857\n",
            "(384, 384, 3) (384, 384) (384, 384)\n"
          ]
        },
        {
          "name": "stderr",
          "output_type": "stream",
          "text": [
            "\r 40%|████      | 18/45 [00:05<00:08,  3.12it/s]"
          ]
        },
        {
          "name": "stdout",
          "output_type": "stream",
          "text": [
            "_Image_12L_0\n",
            "(384, 384, 1) 0.99972266 0.000111956506\n",
            "(384, 384, 3) (384, 384) (384, 384)\n"
          ]
        },
        {
          "name": "stderr",
          "output_type": "stream",
          "text": [
            "\r 42%|████▏     | 19/45 [00:06<00:08,  3.15it/s]"
          ]
        },
        {
          "name": "stdout",
          "output_type": "stream",
          "text": [
            "_Image_12L_1\n",
            "(384, 384, 1) 0.99999774 0.000117181415\n",
            "(384, 384, 3) (384, 384) (384, 384)\n"
          ]
        },
        {
          "name": "stderr",
          "output_type": "stream",
          "text": [
            "\r 44%|████▍     | 20/45 [00:06<00:07,  3.16it/s]"
          ]
        },
        {
          "name": "stdout",
          "output_type": "stream",
          "text": [
            "_Image_12L_2\n",
            "(384, 384, 1) 0.9999658 0.00036722355\n",
            "(384, 384, 3) (384, 384) (384, 384)\n"
          ]
        },
        {
          "name": "stderr",
          "output_type": "stream",
          "text": [
            "\r 47%|████▋     | 21/45 [00:06<00:07,  3.18it/s]"
          ]
        },
        {
          "name": "stdout",
          "output_type": "stream",
          "text": [
            "_Image_12L_3\n",
            "(384, 384, 1) 0.99998116 0.00023031734\n",
            "(384, 384, 3) (384, 384) (384, 384)\n"
          ]
        },
        {
          "name": "stderr",
          "output_type": "stream",
          "text": [
            "\r 49%|████▉     | 22/45 [00:07<00:07,  3.18it/s]"
          ]
        },
        {
          "name": "stdout",
          "output_type": "stream",
          "text": [
            "_Image_12L_4\n",
            "(384, 384, 1) 0.9999969 1.2858542e-06\n",
            "(384, 384, 3) (384, 384) (384, 384)\n"
          ]
        },
        {
          "name": "stderr",
          "output_type": "stream",
          "text": [
            "\r 51%|█████     | 23/45 [00:07<00:07,  3.12it/s]"
          ]
        },
        {
          "name": "stdout",
          "output_type": "stream",
          "text": [
            "_Image_12L_5\n",
            "(384, 384, 1) 0.9998159 0.00039057617\n",
            "(384, 384, 3) (384, 384) (384, 384)\n"
          ]
        },
        {
          "name": "stderr",
          "output_type": "stream",
          "text": [
            "\r 53%|█████▎    | 24/45 [00:07<00:06,  3.12it/s]"
          ]
        },
        {
          "name": "stdout",
          "output_type": "stream",
          "text": [
            "_Image_12L_6\n",
            "(384, 384, 1) 0.9999869 0.00041727163\n",
            "(384, 384, 3) (384, 384) (384, 384)\n"
          ]
        },
        {
          "name": "stderr",
          "output_type": "stream",
          "text": [
            "\r 56%|█████▌    | 25/45 [00:08<00:06,  3.12it/s]"
          ]
        },
        {
          "name": "stdout",
          "output_type": "stream",
          "text": [
            "_Image_12L_7\n",
            "(384, 384, 1) 0.99999607 0.0003087272\n",
            "(384, 384, 3) (384, 384) (384, 384)\n"
          ]
        },
        {
          "name": "stderr",
          "output_type": "stream",
          "text": [
            "\r 58%|█████▊    | 26/45 [00:08<00:06,  3.12it/s]"
          ]
        },
        {
          "name": "stdout",
          "output_type": "stream",
          "text": [
            "_Image_12L_8\n",
            "(384, 384, 1) 0.9999906 0.00028267963\n",
            "(384, 384, 3) (384, 384) (384, 384)\n"
          ]
        },
        {
          "name": "stderr",
          "output_type": "stream",
          "text": [
            "\r 60%|██████    | 27/45 [00:08<00:05,  3.14it/s]"
          ]
        },
        {
          "name": "stdout",
          "output_type": "stream",
          "text": [
            "_Image_12R_0\n",
            "(384, 384, 1) 0.9999838 0.00036171052\n",
            "(384, 384, 3) (384, 384) (384, 384)\n"
          ]
        },
        {
          "name": "stderr",
          "output_type": "stream",
          "text": [
            "\r 62%|██████▏   | 28/45 [00:08<00:05,  3.18it/s]"
          ]
        },
        {
          "name": "stdout",
          "output_type": "stream",
          "text": [
            "_Image_12R_1\n",
            "(384, 384, 1) 0.9999933 0.00027517468\n",
            "(384, 384, 3) (384, 384) (384, 384)\n"
          ]
        },
        {
          "name": "stderr",
          "output_type": "stream",
          "text": [
            "\r 64%|██████▍   | 29/45 [00:09<00:05,  3.18it/s]"
          ]
        },
        {
          "name": "stdout",
          "output_type": "stream",
          "text": [
            "_Image_12R_2\n",
            "(384, 384, 1) 0.99992394 0.00026494596\n",
            "(384, 384, 3) (384, 384) (384, 384)\n"
          ]
        },
        {
          "name": "stderr",
          "output_type": "stream",
          "text": [
            "\r 67%|██████▋   | 30/45 [00:09<00:04,  3.20it/s]"
          ]
        },
        {
          "name": "stdout",
          "output_type": "stream",
          "text": [
            "_Image_12R_3\n",
            "(384, 384, 1) 0.99994564 0.00038123826\n",
            "(384, 384, 3) (384, 384) (384, 384)\n"
          ]
        },
        {
          "name": "stderr",
          "output_type": "stream",
          "text": [
            "\r 69%|██████▉   | 31/45 [00:09<00:04,  3.19it/s]"
          ]
        },
        {
          "name": "stdout",
          "output_type": "stream",
          "text": [
            "_Image_12R_4\n",
            "(384, 384, 1) 0.99999356 9.421678e-06\n",
            "(384, 384, 3) (384, 384) (384, 384)\n"
          ]
        },
        {
          "name": "stderr",
          "output_type": "stream",
          "text": [
            "\r 71%|███████   | 32/45 [00:10<00:04,  3.13it/s]"
          ]
        },
        {
          "name": "stdout",
          "output_type": "stream",
          "text": [
            "_Image_12R_5\n",
            "(384, 384, 1) 0.99999523 0.0002777223\n",
            "(384, 384, 3) (384, 384) (384, 384)\n"
          ]
        },
        {
          "name": "stderr",
          "output_type": "stream",
          "text": [
            "\r 73%|███████▎  | 33/45 [00:10<00:03,  3.13it/s]"
          ]
        },
        {
          "name": "stdout",
          "output_type": "stream",
          "text": [
            "_Image_12R_6\n",
            "(384, 384, 1) 0.9999639 0.0002716978\n",
            "(384, 384, 3) (384, 384) (384, 384)\n"
          ]
        },
        {
          "name": "stderr",
          "output_type": "stream",
          "text": [
            "\r 76%|███████▌  | 34/45 [00:10<00:03,  3.14it/s]"
          ]
        },
        {
          "name": "stdout",
          "output_type": "stream",
          "text": [
            "_Image_12R_7\n",
            "(384, 384, 1) 0.99999523 0.00040409376\n",
            "(384, 384, 3) (384, 384) (384, 384)\n"
          ]
        },
        {
          "name": "stderr",
          "output_type": "stream",
          "text": [
            "\r 78%|███████▊  | 35/45 [00:11<00:03,  3.12it/s]"
          ]
        },
        {
          "name": "stdout",
          "output_type": "stream",
          "text": [
            "_Image_12R_8\n",
            "(384, 384, 1) 0.99995184 0.00048551778\n",
            "(384, 384, 3) (384, 384) (384, 384)\n"
          ]
        },
        {
          "name": "stderr",
          "output_type": "stream",
          "text": [
            "\r 80%|████████  | 36/45 [00:11<00:02,  3.13it/s]"
          ]
        },
        {
          "name": "stdout",
          "output_type": "stream",
          "text": [
            "_Image_13L_0\n",
            "(384, 384, 1) 0.9999542 0.00033423843\n",
            "(384, 384, 3) (384, 384) (384, 384)\n"
          ]
        },
        {
          "name": "stderr",
          "output_type": "stream",
          "text": [
            "\r 82%|████████▏ | 37/45 [00:11<00:02,  3.14it/s]"
          ]
        },
        {
          "name": "stdout",
          "output_type": "stream",
          "text": [
            "_Image_13L_1\n",
            "(384, 384, 1) 0.99999034 0.00027789394\n",
            "(384, 384, 3) (384, 384) (384, 384)\n"
          ]
        },
        {
          "name": "stderr",
          "output_type": "stream",
          "text": [
            "\r 84%|████████▍ | 38/45 [00:12<00:02,  3.13it/s]"
          ]
        },
        {
          "name": "stdout",
          "output_type": "stream",
          "text": [
            "_Image_13L_2\n",
            "(384, 384, 1) 0.999843 0.00037624943\n",
            "(384, 384, 3) (384, 384) (384, 384)\n"
          ]
        },
        {
          "name": "stderr",
          "output_type": "stream",
          "text": [
            "\r 87%|████████▋ | 39/45 [00:12<00:01,  3.16it/s]"
          ]
        },
        {
          "name": "stdout",
          "output_type": "stream",
          "text": [
            "_Image_13L_3\n",
            "(384, 384, 1) 0.99998975 0.00028801354\n",
            "(384, 384, 3) (384, 384) (384, 384)\n"
          ]
        },
        {
          "name": "stderr",
          "output_type": "stream",
          "text": [
            "\r 89%|████████▉ | 40/45 [00:12<00:01,  3.16it/s]"
          ]
        },
        {
          "name": "stdout",
          "output_type": "stream",
          "text": [
            "_Image_13L_4\n",
            "(384, 384, 1) 0.99999905 5.88415e-05\n",
            "(384, 384, 3) (384, 384) (384, 384)\n"
          ]
        },
        {
          "name": "stderr",
          "output_type": "stream",
          "text": [
            "\r 91%|█████████ | 41/45 [00:13<00:01,  3.11it/s]"
          ]
        },
        {
          "name": "stdout",
          "output_type": "stream",
          "text": [
            "_Image_13L_5\n",
            "(384, 384, 1) 0.9999864 0.00023816402\n",
            "(384, 384, 3) (384, 384) (384, 384)\n"
          ]
        },
        {
          "name": "stderr",
          "output_type": "stream",
          "text": [
            "\r 93%|█████████▎| 42/45 [00:13<00:00,  3.11it/s]"
          ]
        },
        {
          "name": "stdout",
          "output_type": "stream",
          "text": [
            "_Image_13L_6\n",
            "(384, 384, 1) 0.99939597 0.00026212708\n",
            "(384, 384, 3) (384, 384) (384, 384)\n"
          ]
        },
        {
          "name": "stderr",
          "output_type": "stream",
          "text": [
            "\r 96%|█████████▌| 43/45 [00:13<00:00,  3.12it/s]"
          ]
        },
        {
          "name": "stdout",
          "output_type": "stream",
          "text": [
            "_Image_13L_7\n",
            "(384, 384, 1) 0.9999114 0.0002856922\n",
            "(384, 384, 3) (384, 384) (384, 384)\n"
          ]
        },
        {
          "name": "stderr",
          "output_type": "stream",
          "text": [
            "\r 98%|█████████▊| 44/45 [00:14<00:00,  3.11it/s]"
          ]
        },
        {
          "name": "stdout",
          "output_type": "stream",
          "text": [
            "_Image_13L_8\n",
            "(384, 384, 1) 0.9996779 0.00031454978\n",
            "(384, 384, 3) (384, 384) (384, 384)\n"
          ]
        },
        {
          "name": "stderr",
          "output_type": "stream",
          "text": [
            "100%|██████████| 45/45 [00:14<00:00,  3.13it/s]"
          ]
        },
        {
          "name": "stdout",
          "output_type": "stream",
          "text": [
            "Threshold: 0.60000\n",
            "Accuracy: 0.98173\n",
            "F1: 0.74141\n",
            "Jaccard: 0.59765\n",
            "Recall: 0.69126\n",
            "Precision: 0.81585\n",
            "AUC: 0.98043\n",
            "Dice Coeff: 0.71626\n"
          ]
        },
        {
          "name": "stderr",
          "output_type": "stream",
          "text": [
            "\n"
          ]
        }
      ],
      "source": [
        "dataset_path = f\"{root_path}/{split_name}/{split}/\"\n",
        "df_0_6, score_0_6 = compute_metrics(dataset_path,\n",
        "                    results_path=results_path,\n",
        "                    threshold=0.6,\n",
        "                    model=model,\n",
        "                    predictions_path=prediction_path,\n",
        "                    prediction_np_path=prediction_np_path)"
      ]
    },
    {
      "cell_type": "code",
      "execution_count": null,
      "metadata": {
        "colab": {
          "background_save": true
        },
        "id": "braGlLM9Wgr9",
        "outputId": "c52f075f-7160-4191-edf8-ef8980c23719"
      },
      "outputs": [
        {
          "data": {
            "application/vnd.google.colaboratory.intrinsic+json": {
              "type": "string"
            },
            "text/plain": [
              "'/content/datasets/chase_db_384_384_dice_bce_0_4__hvr_0_4_1//results_reconstructed/'"
            ]
          },
          "execution_count": null,
          "metadata": {},
          "output_type": "execute_result"
        }
      ],
      "source": [
        "results_path_reconstructed"
      ]
    },
    {
      "cell_type": "code",
      "execution_count": null,
      "metadata": {
        "colab": {
          "background_save": true
        },
        "id": "ATVyvynpSGYQ",
        "outputId": "6a6f5d56-731c-454e-e0eb-8228a006f6f2"
      },
      "outputs": [
        {
          "name": "stdout",
          "output_type": "stream",
          "text": [
            "chase_db_384_384_dice_bce_0_4__hvr_0_4_1  logs\n"
          ]
        }
      ],
      "source": [
        "!ls "
      ]
    },
    {
      "cell_type": "code",
      "execution_count": null,
      "metadata": {
        "colab": {
          "background_save": true
        },
        "id": "NwV0hgRzjBbR",
        "outputId": "108370cb-655a-4364-ad67-ca3096bdbc4b"
      },
      "outputs": [
        {
          "name": "stdout",
          "output_type": "stream",
          "text": [
            "chase_db_384_384_dice_bce_0_4__hvr_0_4_1\n"
          ]
        }
      ],
      "source": [
        "folder_name = root_path.split(\"/\")[3]\n",
        "print(folder_name)"
      ]
    },
    {
      "cell_type": "code",
      "execution_count": null,
      "metadata": {
        "colab": {
          "background_save": true
        },
        "id": "tGxzllboKasD",
        "outputId": "3dabd41c-55ee-4387-ec3a-36e615b0a63c"
      },
      "outputs": [
        {
          "name": "stdout",
          "output_type": "stream",
          "text": [
            "  adding: chase_db_384_384_dice_bce_0_4__hvr_0_4_1/ (stored 0%)\n",
            "  adding: chase_db_384_384_dice_bce_0_4__hvr_0_4_1/test/ (stored 0%)\n",
            "  adding: chase_db_384_384_dice_bce_0_4__hvr_0_4_1/test/1st_manual/ (stored 0%)\n",
            "  adding: chase_db_384_384_dice_bce_0_4__hvr_0_4_1/test/1st_manual/Image_13L_1stHO.png (deflated 0%)\n",
            "  adding: chase_db_384_384_dice_bce_0_4__hvr_0_4_1/test/1st_manual/Image_12L_1stHO.png (deflated 0%)\n",
            "  adding: chase_db_384_384_dice_bce_0_4__hvr_0_4_1/test/1st_manual/Image_12R_1stHO.png (deflated 0%)\n",
            "  adding: chase_db_384_384_dice_bce_0_4__hvr_0_4_1/test/1st_manual/Image_11R_1stHO.png (deflated 0%)\n",
            "  adding: chase_db_384_384_dice_bce_0_4__hvr_0_4_1/test/1st_manual/Image_11L_1stHO.png (deflated 0%)\n",
            "  adding: chase_db_384_384_dice_bce_0_4__hvr_0_4_1/test/images/ (stored 0%)\n",
            "  adding: chase_db_384_384_dice_bce_0_4__hvr_0_4_1/test/images/Image_12L.jpg (deflated 7%)\n",
            "  adding: chase_db_384_384_dice_bce_0_4__hvr_0_4_1/test/images/Image_11R.jpg (deflated 7%)\n",
            "  adding: chase_db_384_384_dice_bce_0_4__hvr_0_4_1/test/images/Image_12R.jpg (deflated 6%)\n",
            "  adding: chase_db_384_384_dice_bce_0_4__hvr_0_4_1/test/images/Image_11L.jpg (deflated 6%)\n",
            "  adding: chase_db_384_384_dice_bce_0_4__hvr_0_4_1/test/images/Image_13L.jpg (deflated 8%)\n",
            "  adding: chase_db_384_384_dice_bce_0_4__hvr_0_4_1/training/ (stored 0%)\n",
            "  adding: chase_db_384_384_dice_bce_0_4__hvr_0_4_1/training/1st_manual/ (stored 0%)\n",
            "  adding: chase_db_384_384_dice_bce_0_4__hvr_0_4_1/training/1st_manual/Image_04L_1stHO.png (deflated 0%)\n",
            "  adding: chase_db_384_384_dice_bce_0_4__hvr_0_4_1/training/1st_manual/Image_09L_1stHO.png (deflated 0%)\n",
            "  adding: chase_db_384_384_dice_bce_0_4__hvr_0_4_1/training/1st_manual/Image_04R_1stHO.png (deflated 0%)\n",
            "  adding: chase_db_384_384_dice_bce_0_4__hvr_0_4_1/training/1st_manual/Image_09R_1stHO.png (deflated 0%)\n",
            "  adding: chase_db_384_384_dice_bce_0_4__hvr_0_4_1/training/1st_manual/Image_05R_1stHO.png (deflated 0%)\n",
            "  adding: chase_db_384_384_dice_bce_0_4__hvr_0_4_1/training/1st_manual/Image_05L_1stHO.png (deflated 0%)\n",
            "  adding: chase_db_384_384_dice_bce_0_4__hvr_0_4_1/training/1st_manual/Image_10R_1stHO.png (deflated 0%)\n",
            "  adding: chase_db_384_384_dice_bce_0_4__hvr_0_4_1/training/1st_manual/Image_07R_1stHO.png (deflated 0%)\n",
            "  adding: chase_db_384_384_dice_bce_0_4__hvr_0_4_1/training/1st_manual/Image_07L_1stHO.png (deflated 0%)\n",
            "  adding: chase_db_384_384_dice_bce_0_4__hvr_0_4_1/training/1st_manual/Image_06R_1stHO.png (deflated 0%)\n",
            "  adding: chase_db_384_384_dice_bce_0_4__hvr_0_4_1/training/1st_manual/Image_03L_1stHO.png (deflated 0%)\n",
            "  adding: chase_db_384_384_dice_bce_0_4__hvr_0_4_1/training/1st_manual/Image_14R_1stHO.png (deflated 0%)\n",
            "  adding: chase_db_384_384_dice_bce_0_4__hvr_0_4_1/training/1st_manual/Image_01L_1stHO.png (deflated 0%)\n",
            "  adding: chase_db_384_384_dice_bce_0_4__hvr_0_4_1/training/1st_manual/Image_06L_1stHO.png (deflated 0%)\n",
            "  adding: chase_db_384_384_dice_bce_0_4__hvr_0_4_1/training/1st_manual/Image_10L_1stHO.png (deflated 0%)\n",
            "  adding: chase_db_384_384_dice_bce_0_4__hvr_0_4_1/training/1st_manual/Image_08L_1stHO.png (deflated 0%)\n",
            "  adding: chase_db_384_384_dice_bce_0_4__hvr_0_4_1/training/1st_manual/Image_14L_1stHO.png (stored 0%)\n",
            "  adding: chase_db_384_384_dice_bce_0_4__hvr_0_4_1/training/1st_manual/Image_08R_1stHO.png (deflated 0%)\n",
            "  adding: chase_db_384_384_dice_bce_0_4__hvr_0_4_1/training/1st_manual/Image_01R_1stHO.png (deflated 0%)\n",
            "  adding: chase_db_384_384_dice_bce_0_4__hvr_0_4_1/training/1st_manual/Image_03R_1stHO.png (deflated 0%)\n",
            "  adding: chase_db_384_384_dice_bce_0_4__hvr_0_4_1/training/1st_manual/Image_02L_1stHO.png (deflated 0%)\n",
            "  adding: chase_db_384_384_dice_bce_0_4__hvr_0_4_1/training/1st_manual/Image_02R_1stHO.png (deflated 0%)\n",
            "  adding: chase_db_384_384_dice_bce_0_4__hvr_0_4_1/training/1st_manual/Image_13R_1stHO.png (deflated 0%)\n",
            "  adding: chase_db_384_384_dice_bce_0_4__hvr_0_4_1/training/images/ (stored 0%)\n",
            "  adding: chase_db_384_384_dice_bce_0_4__hvr_0_4_1/training/images/Image_02L.jpg (deflated 6%)\n",
            "  adding: chase_db_384_384_dice_bce_0_4__hvr_0_4_1/training/images/Image_06R.jpg (deflated 7%)\n",
            "  adding: chase_db_384_384_dice_bce_0_4__hvr_0_4_1/training/images/Image_03R.jpg (deflated 6%)\n",
            "  adding: chase_db_384_384_dice_bce_0_4__hvr_0_4_1/training/images/Image_07R.jpg (deflated 6%)\n",
            "  adding: chase_db_384_384_dice_bce_0_4__hvr_0_4_1/training/images/Image_10R.jpg (deflated 6%)\n",
            "  adding: chase_db_384_384_dice_bce_0_4__hvr_0_4_1/training/images/Image_05L.jpg (deflated 6%)\n",
            "  adding: chase_db_384_384_dice_bce_0_4__hvr_0_4_1/training/images/Image_09R.jpg (deflated 7%)\n",
            "  adding: chase_db_384_384_dice_bce_0_4__hvr_0_4_1/training/images/Image_04R.jpg (deflated 7%)\n",
            "  adding: chase_db_384_384_dice_bce_0_4__hvr_0_4_1/training/images/Image_14R.jpg (deflated 8%)\n",
            "  adding: chase_db_384_384_dice_bce_0_4__hvr_0_4_1/training/images/Image_10L.jpg (deflated 6%)\n",
            "  adding: chase_db_384_384_dice_bce_0_4__hvr_0_4_1/training/images/Image_08L.jpg (deflated 8%)\n",
            "  adding: chase_db_384_384_dice_bce_0_4__hvr_0_4_1/training/images/Image_03L.jpg (deflated 6%)\n",
            "  adding: chase_db_384_384_dice_bce_0_4__hvr_0_4_1/training/images/Image_08R.jpg (deflated 9%)\n",
            "  adding: chase_db_384_384_dice_bce_0_4__hvr_0_4_1/training/images/Image_05R.jpg (deflated 6%)\n",
            "  adding: chase_db_384_384_dice_bce_0_4__hvr_0_4_1/training/images/Image_13R.jpg (deflated 8%)\n",
            "  adding: chase_db_384_384_dice_bce_0_4__hvr_0_4_1/training/images/Image_02R.jpg (deflated 7%)\n",
            "  adding: chase_db_384_384_dice_bce_0_4__hvr_0_4_1/training/images/Image_01L.jpg (deflated 6%)\n",
            "  adding: chase_db_384_384_dice_bce_0_4__hvr_0_4_1/training/images/Image_04L.jpg (deflated 7%)\n",
            "  adding: chase_db_384_384_dice_bce_0_4__hvr_0_4_1/training/images/Image_01R.jpg (deflated 7%)\n",
            "  adding: chase_db_384_384_dice_bce_0_4__hvr_0_4_1/training/images/Image_14L.jpg (deflated 6%)\n",
            "  adding: chase_db_384_384_dice_bce_0_4__hvr_0_4_1/training/images/Image_07L.jpg (deflated 6%)\n",
            "  adding: chase_db_384_384_dice_bce_0_4__hvr_0_4_1/training/images/Image_09L.jpg (deflated 8%)\n",
            "  adding: chase_db_384_384_dice_bce_0_4__hvr_0_4_1/training/images/Image_06L.jpg (deflated 7%)\n",
            "  adding: chase_db_384_384_dice_bce_0_4__hvr_0_4_1/predictions_np/ (stored 0%)\n",
            "  adding: chase_db_384_384_dice_bce_0_4__hvr_0_4_1/predictions_np/_Image_12L_8.npy (deflated 38%)\n",
            "  adding: chase_db_384_384_dice_bce_0_4__hvr_0_4_1/predictions_np/_Image_13L_3.npy (deflated 12%)\n",
            "  adding: chase_db_384_384_dice_bce_0_4__hvr_0_4_1/predictions_np/_Image_12L_3.npy (deflated 13%)\n",
            "  adding: chase_db_384_384_dice_bce_0_4__hvr_0_4_1/predictions_np/_Image_11R_1.npy (deflated 16%)\n",
            "  adding: chase_db_384_384_dice_bce_0_4__hvr_0_4_1/predictions_np/_Image_12L_5.npy (deflated 14%)\n",
            "  adding: chase_db_384_384_dice_bce_0_4__hvr_0_4_1/predictions_np/_Image_11L_5.npy (deflated 14%)\n",
            "  adding: chase_db_384_384_dice_bce_0_4__hvr_0_4_1/predictions_np/_Image_12L_2.npy (deflated 38%)\n",
            "  adding: chase_db_384_384_dice_bce_0_4__hvr_0_4_1/predictions_np/_Image_13L_0.npy (deflated 37%)\n",
            "  adding: chase_db_384_384_dice_bce_0_4__hvr_0_4_1/predictions_np/_Image_13L_2.npy (deflated 39%)\n",
            "  adding: chase_db_384_384_dice_bce_0_4__hvr_0_4_1/predictions_np/_Image_12L_4.npy (deflated 11%)\n",
            "  adding: chase_db_384_384_dice_bce_0_4__hvr_0_4_1/predictions_np/_Image_12R_0.npy (deflated 37%)\n",
            "  adding: chase_db_384_384_dice_bce_0_4__hvr_0_4_1/predictions_np/_Image_13L_4.npy (deflated 11%)\n",
            "  adding: chase_db_384_384_dice_bce_0_4__hvr_0_4_1/predictions_np/_Image_11L_6.npy (deflated 36%)\n",
            "  adding: chase_db_384_384_dice_bce_0_4__hvr_0_4_1/predictions_np/_Image_11R_4.npy (deflated 10%)\n",
            "  adding: chase_db_384_384_dice_bce_0_4__hvr_0_4_1/predictions_np/_Image_13L_7.npy (deflated 16%)\n",
            "  adding: chase_db_384_384_dice_bce_0_4__hvr_0_4_1/predictions_np/_Image_11L_2.npy (deflated 38%)\n",
            "  adding: chase_db_384_384_dice_bce_0_4__hvr_0_4_1/predictions_np/_Image_11R_0.npy (deflated 36%)\n",
            "  adding: chase_db_384_384_dice_bce_0_4__hvr_0_4_1/predictions_np/_Image_12R_6.npy (deflated 37%)\n",
            "  adding: chase_db_384_384_dice_bce_0_4__hvr_0_4_1/predictions_np/_Image_12R_2.npy (deflated 38%)\n",
            "  adding: chase_db_384_384_dice_bce_0_4__hvr_0_4_1/predictions_np/_Image_11R_7.npy (deflated 16%)\n",
            "  adding: chase_db_384_384_dice_bce_0_4__hvr_0_4_1/predictions_np/_Image_13L_6.npy (deflated 37%)\n",
            "  adding: chase_db_384_384_dice_bce_0_4__hvr_0_4_1/predictions_np/_Image_11R_2.npy (deflated 38%)\n",
            "  adding: chase_db_384_384_dice_bce_0_4__hvr_0_4_1/predictions_np/_Image_11L_3.npy (deflated 12%)\n",
            "  adding: chase_db_384_384_dice_bce_0_4__hvr_0_4_1/predictions_np/_Image_11L_8.npy (deflated 38%)\n",
            "  adding: chase_db_384_384_dice_bce_0_4__hvr_0_4_1/predictions_np/_Image_11L_4.npy (deflated 10%)\n",
            "  adding: chase_db_384_384_dice_bce_0_4__hvr_0_4_1/predictions_np/_Image_13L_8.npy (deflated 39%)\n",
            "  adding: chase_db_384_384_dice_bce_0_4__hvr_0_4_1/predictions_np/_Image_11R_5.npy (deflated 14%)\n",
            "  adding: chase_db_384_384_dice_bce_0_4__hvr_0_4_1/predictions_np/_Image_12R_7.npy (deflated 15%)\n",
            "  adding: chase_db_384_384_dice_bce_0_4__hvr_0_4_1/predictions_np/_Image_11R_8.npy (deflated 38%)\n",
            "  adding: chase_db_384_384_dice_bce_0_4__hvr_0_4_1/predictions_np/_Image_12R_5.npy (deflated 14%)\n",
            "  adding: chase_db_384_384_dice_bce_0_4__hvr_0_4_1/predictions_np/_Image_12L_1.npy (deflated 16%)\n",
            "  adding: chase_db_384_384_dice_bce_0_4__hvr_0_4_1/predictions_np/_Image_13L_1.npy (deflated 16%)\n",
            "  adding: chase_db_384_384_dice_bce_0_4__hvr_0_4_1/predictions_np/_Image_12R_1.npy (deflated 16%)\n",
            "  adding: chase_db_384_384_dice_bce_0_4__hvr_0_4_1/predictions_np/_Image_12R_4.npy (deflated 11%)\n",
            "  adding: chase_db_384_384_dice_bce_0_4__hvr_0_4_1/predictions_np/_Image_12R_8.npy (deflated 39%)\n",
            "  adding: chase_db_384_384_dice_bce_0_4__hvr_0_4_1/predictions_np/_Image_12L_6.npy (deflated 37%)\n",
            "  adding: chase_db_384_384_dice_bce_0_4__hvr_0_4_1/predictions_np/_Image_13L_5.npy (deflated 15%)\n",
            "  adding: chase_db_384_384_dice_bce_0_4__hvr_0_4_1/predictions_np/_Image_12R_3.npy (deflated 12%)\n",
            "  adding: chase_db_384_384_dice_bce_0_4__hvr_0_4_1/predictions_np/_Image_11L_1.npy (deflated 16%)\n",
            "  adding: chase_db_384_384_dice_bce_0_4__hvr_0_4_1/predictions_np/_Image_11L_7.npy (deflated 15%)\n",
            "  adding: chase_db_384_384_dice_bce_0_4__hvr_0_4_1/predictions_np/_Image_12L_7.npy (deflated 15%)\n",
            "  adding: chase_db_384_384_dice_bce_0_4__hvr_0_4_1/predictions_np/_Image_12L_0.npy (deflated 38%)\n",
            "  adding: chase_db_384_384_dice_bce_0_4__hvr_0_4_1/predictions_np/_Image_11R_6.npy (deflated 37%)\n",
            "  adding: chase_db_384_384_dice_bce_0_4__hvr_0_4_1/predictions_np/_Image_11R_3.npy (deflated 13%)\n",
            "  adding: chase_db_384_384_dice_bce_0_4__hvr_0_4_1/predictions_np/_Image_11L_0.npy (deflated 36%)\n",
            "  adding: chase_db_384_384_dice_bce_0_4__hvr_0_4_1/split_2/ (stored 0%)\n",
            "  adding: chase_db_384_384_dice_bce_0_4__hvr_0_4_1/split_2/test/ (stored 0%)\n",
            "  adding: chase_db_384_384_dice_bce_0_4__hvr_0_4_1/split_2/test/mask/ (stored 0%)\n",
            "  adding: chase_db_384_384_dice_bce_0_4__hvr_0_4_1/split_2/test/mask/_Image_11R_3.png (deflated 12%)\n",
            "  adding: chase_db_384_384_dice_bce_0_4__hvr_0_4_1/split_2/test/mask/_Image_12R_1.png (deflated 21%)\n",
            "  adding: chase_db_384_384_dice_bce_0_4__hvr_0_4_1/split_2/test/mask/_Image_11L_6.png (deflated 25%)\n",
            "  adding: chase_db_384_384_dice_bce_0_4__hvr_0_4_1/split_2/test/mask/_Image_11R_0.png (deflated 45%)\n",
            "  adding: chase_db_384_384_dice_bce_0_4__hvr_0_4_1/split_2/test/mask/_Image_11L_2.png (deflated 51%)\n",
            "  adding: chase_db_384_384_dice_bce_0_4__hvr_0_4_1/split_2/test/mask/_Image_13L_3.png (deflated 8%)\n",
            "  adding: chase_db_384_384_dice_bce_0_4__hvr_0_4_1/split_2/test/mask/_Image_11R_8.png (deflated 33%)\n",
            "  adding: chase_db_384_384_dice_bce_0_4__hvr_0_4_1/split_2/test/mask/_Image_12L_7.png (deflated 18%)\n",
            "  adding: chase_db_384_384_dice_bce_0_4__hvr_0_4_1/split_2/test/mask/_Image_11L_1.png (deflated 19%)\n",
            "  adding: chase_db_384_384_dice_bce_0_4__hvr_0_4_1/split_2/test/mask/_Image_13L_8.png (deflated 25%)\n",
            "  adding: chase_db_384_384_dice_bce_0_4__hvr_0_4_1/split_2/test/mask/_Image_12R_2.png (deflated 27%)\n",
            "  adding: chase_db_384_384_dice_bce_0_4__hvr_0_4_1/split_2/test/mask/_Image_12L_3.png (deflated 12%)\n",
            "  adding: chase_db_384_384_dice_bce_0_4__hvr_0_4_1/split_2/test/mask/_Image_12R_4.png (deflated 13%)\n",
            "  adding: chase_db_384_384_dice_bce_0_4__hvr_0_4_1/split_2/test/mask/_Image_13L_0.png (deflated 24%)\n",
            "  adding: chase_db_384_384_dice_bce_0_4__hvr_0_4_1/split_2/test/mask/_Image_11R_1.png (deflated 22%)\n",
            "  adding: chase_db_384_384_dice_bce_0_4__hvr_0_4_1/split_2/test/mask/_Image_12R_7.png (deflated 17%)\n",
            "  adding: chase_db_384_384_dice_bce_0_4__hvr_0_4_1/split_2/test/mask/_Image_13L_6.png (deflated 29%)\n",
            "  adding: chase_db_384_384_dice_bce_0_4__hvr_0_4_1/split_2/test/mask/_Image_13L_4.png (deflated 12%)\n",
            "  adding: chase_db_384_384_dice_bce_0_4__hvr_0_4_1/split_2/test/mask/_Image_12L_1.png (deflated 22%)\n",
            "  adding: chase_db_384_384_dice_bce_0_4__hvr_0_4_1/split_2/test/mask/_Image_12R_8.png (deflated 26%)\n",
            "  adding: chase_db_384_384_dice_bce_0_4__hvr_0_4_1/split_2/test/mask/_Image_12L_8.png (deflated 23%)\n",
            "  adding: chase_db_384_384_dice_bce_0_4__hvr_0_4_1/split_2/test/mask/_Image_12L_5.png (deflated 12%)\n",
            "  adding: chase_db_384_384_dice_bce_0_4__hvr_0_4_1/split_2/test/mask/_Image_13L_5.png (deflated 14%)\n",
            "  adding: chase_db_384_384_dice_bce_0_4__hvr_0_4_1/split_2/test/mask/_Image_11L_4.png (deflated 12%)\n",
            "  adding: chase_db_384_384_dice_bce_0_4__hvr_0_4_1/split_2/test/mask/_Image_11L_7.png (deflated 15%)\n",
            "  adding: chase_db_384_384_dice_bce_0_4__hvr_0_4_1/split_2/test/mask/_Image_11L_0.png (deflated 26%)\n",
            "  adding: chase_db_384_384_dice_bce_0_4__hvr_0_4_1/split_2/test/mask/_Image_11L_8.png (deflated 29%)\n",
            "  adding: chase_db_384_384_dice_bce_0_4__hvr_0_4_1/split_2/test/mask/_Image_12L_4.png (deflated 14%)\n",
            "  adding: chase_db_384_384_dice_bce_0_4__hvr_0_4_1/split_2/test/mask/_Image_11L_5.png (deflated 16%)\n",
            "  adding: chase_db_384_384_dice_bce_0_4__hvr_0_4_1/split_2/test/mask/_Image_11R_2.png (deflated 34%)\n",
            "  adding: chase_db_384_384_dice_bce_0_4__hvr_0_4_1/split_2/test/mask/_Image_12R_5.png (deflated 12%)\n",
            "  adding: chase_db_384_384_dice_bce_0_4__hvr_0_4_1/split_2/test/mask/_Image_12R_0.png (deflated 30%)\n",
            "  adding: chase_db_384_384_dice_bce_0_4__hvr_0_4_1/split_2/test/mask/_Image_11R_7.png (deflated 21%)\n",
            "  adding: chase_db_384_384_dice_bce_0_4__hvr_0_4_1/split_2/test/mask/_Image_13L_2.png (deflated 35%)\n",
            "  adding: chase_db_384_384_dice_bce_0_4__hvr_0_4_1/split_2/test/mask/_Image_11L_3.png (deflated 11%)\n",
            "  adding: chase_db_384_384_dice_bce_0_4__hvr_0_4_1/split_2/test/mask/_Image_12R_6.png (deflated 26%)\n",
            "  adding: chase_db_384_384_dice_bce_0_4__hvr_0_4_1/split_2/test/mask/_Image_12L_6.png (deflated 26%)\n",
            "  adding: chase_db_384_384_dice_bce_0_4__hvr_0_4_1/split_2/test/mask/_Image_12R_3.png (deflated 8%)\n",
            "  adding: chase_db_384_384_dice_bce_0_4__hvr_0_4_1/split_2/test/mask/_Image_13L_1.png (deflated 21%)\n",
            "  adding: chase_db_384_384_dice_bce_0_4__hvr_0_4_1/split_2/test/mask/_Image_11R_4.png (deflated 13%)\n",
            "  adding: chase_db_384_384_dice_bce_0_4__hvr_0_4_1/split_2/test/mask/_Image_12L_0.png (deflated 25%)\n",
            "  adding: chase_db_384_384_dice_bce_0_4__hvr_0_4_1/split_2/test/mask/_Image_12L_2.png (deflated 24%)\n",
            "  adding: chase_db_384_384_dice_bce_0_4__hvr_0_4_1/split_2/test/mask/_Image_11R_6.png (deflated 45%)\n",
            "  adding: chase_db_384_384_dice_bce_0_4__hvr_0_4_1/split_2/test/mask/_Image_13L_7.png (deflated 18%)\n",
            "  adding: chase_db_384_384_dice_bce_0_4__hvr_0_4_1/split_2/test/mask/_Image_11R_5.png (deflated 11%)\n",
            "  adding: chase_db_384_384_dice_bce_0_4__hvr_0_4_1/split_2/test/image/ (stored 0%)\n",
            "  adding: chase_db_384_384_dice_bce_0_4__hvr_0_4_1/split_2/test/image/_Image_11R_3.png (deflated 3%)\n",
            "  adding: chase_db_384_384_dice_bce_0_4__hvr_0_4_1/split_2/test/image/_Image_12R_1.png (deflated 3%)\n",
            "  adding: chase_db_384_384_dice_bce_0_4__hvr_0_4_1/split_2/test/image/_Image_11L_6.png (deflated 4%)\n",
            "  adding: chase_db_384_384_dice_bce_0_4__hvr_0_4_1/split_2/test/image/_Image_11R_0.png (deflated 3%)\n",
            "  adding: chase_db_384_384_dice_bce_0_4__hvr_0_4_1/split_2/test/image/_Image_11L_2.png (deflated 3%)\n",
            "  adding: chase_db_384_384_dice_bce_0_4__hvr_0_4_1/split_2/test/image/_Image_13L_3.png (deflated 8%)\n",
            "  adding: chase_db_384_384_dice_bce_0_4__hvr_0_4_1/split_2/test/image/_Image_11R_8.png (deflated 3%)\n",
            "  adding: chase_db_384_384_dice_bce_0_4__hvr_0_4_1/split_2/test/image/_Image_12L_7.png (deflated 1%)\n",
            "  adding: chase_db_384_384_dice_bce_0_4__hvr_0_4_1/split_2/test/image/_Image_11L_1.png (deflated 3%)\n",
            "  adding: chase_db_384_384_dice_bce_0_4__hvr_0_4_1/split_2/test/image/_Image_13L_8.png (deflated 7%)\n",
            "  adding: chase_db_384_384_dice_bce_0_4__hvr_0_4_1/split_2/test/image/_Image_12R_2.png (deflated 3%)\n",
            "  adding: chase_db_384_384_dice_bce_0_4__hvr_0_4_1/split_2/test/image/_Image_12L_3.png (deflated 3%)\n",
            "  adding: chase_db_384_384_dice_bce_0_4__hvr_0_4_1/split_2/test/image/_Image_12R_4.png (deflated 1%)\n",
            "  adding: chase_db_384_384_dice_bce_0_4__hvr_0_4_1/split_2/test/image/_Image_13L_0.png (deflated 6%)\n",
            "  adding: chase_db_384_384_dice_bce_0_4__hvr_0_4_1/split_2/test/image/_Image_11R_1.png (deflated 4%)\n",
            "  adding: chase_db_384_384_dice_bce_0_4__hvr_0_4_1/split_2/test/image/_Image_12R_7.png (deflated 1%)\n",
            "  adding: chase_db_384_384_dice_bce_0_4__hvr_0_4_1/split_2/test/image/_Image_13L_6.png (deflated 8%)\n",
            "  adding: chase_db_384_384_dice_bce_0_4__hvr_0_4_1/split_2/test/image/_Image_13L_4.png (deflated 2%)\n",
            "  adding: chase_db_384_384_dice_bce_0_4__hvr_0_4_1/split_2/test/image/_Image_12L_1.png (deflated 4%)\n",
            "  adding: chase_db_384_384_dice_bce_0_4__hvr_0_4_1/split_2/test/image/_Image_12R_8.png (deflated 3%)\n",
            "  adding: chase_db_384_384_dice_bce_0_4__hvr_0_4_1/split_2/test/image/_Image_12L_8.png (deflated 2%)\n",
            "  adding: chase_db_384_384_dice_bce_0_4__hvr_0_4_1/split_2/test/image/_Image_12L_5.png (deflated 3%)\n",
            "  adding: chase_db_384_384_dice_bce_0_4__hvr_0_4_1/split_2/test/image/_Image_13L_5.png (deflated 8%)\n",
            "  adding: chase_db_384_384_dice_bce_0_4__hvr_0_4_1/split_2/test/image/_Image_11L_4.png (deflated 1%)\n",
            "  adding: chase_db_384_384_dice_bce_0_4__hvr_0_4_1/split_2/test/image/_Image_11L_7.png (deflated 1%)\n",
            "  adding: chase_db_384_384_dice_bce_0_4__hvr_0_4_1/split_2/test/image/_Image_11L_0.png (deflated 5%)\n",
            "  adding: chase_db_384_384_dice_bce_0_4__hvr_0_4_1/split_2/test/image/_Image_11L_8.png (deflated 3%)\n",
            "  adding: chase_db_384_384_dice_bce_0_4__hvr_0_4_1/split_2/test/image/_Image_12L_4.png (deflated 1%)\n",
            "  adding: chase_db_384_384_dice_bce_0_4__hvr_0_4_1/split_2/test/image/_Image_11L_5.png (deflated 2%)\n",
            "  adding: chase_db_384_384_dice_bce_0_4__hvr_0_4_1/split_2/test/image/_Image_11R_2.png (deflated 4%)\n",
            "  adding: chase_db_384_384_dice_bce_0_4__hvr_0_4_1/split_2/test/image/_Image_12R_5.png (deflated 2%)\n",
            "  adding: chase_db_384_384_dice_bce_0_4__hvr_0_4_1/split_2/test/image/_Image_12R_0.png (deflated 4%)\n",
            "  adding: chase_db_384_384_dice_bce_0_4__hvr_0_4_1/split_2/test/image/_Image_11R_7.png (deflated 1%)\n",
            "  adding: chase_db_384_384_dice_bce_0_4__hvr_0_4_1/split_2/test/image/_Image_13L_2.png (deflated 9%)\n",
            "  adding: chase_db_384_384_dice_bce_0_4__hvr_0_4_1/split_2/test/image/_Image_11L_3.png (deflated 3%)\n",
            "  adding: chase_db_384_384_dice_bce_0_4__hvr_0_4_1/split_2/test/image/_Image_12R_6.png (deflated 3%)\n",
            "  adding: chase_db_384_384_dice_bce_0_4__hvr_0_4_1/split_2/test/image/_Image_12L_6.png (deflated 3%)\n",
            "  adding: chase_db_384_384_dice_bce_0_4__hvr_0_4_1/split_2/test/image/_Image_12R_3.png (deflated 3%)\n",
            "  adding: chase_db_384_384_dice_bce_0_4__hvr_0_4_1/split_2/test/image/_Image_13L_1.png (deflated 7%)\n",
            "  adding: chase_db_384_384_dice_bce_0_4__hvr_0_4_1/split_2/test/image/_Image_11R_4.png (deflated 1%)\n",
            "  adding: chase_db_384_384_dice_bce_0_4__hvr_0_4_1/split_2/test/image/_Image_12L_0.png (deflated 7%)\n",
            "  adding: chase_db_384_384_dice_bce_0_4__hvr_0_4_1/split_2/test/image/_Image_12L_2.png (deflated 3%)\n",
            "  adding: chase_db_384_384_dice_bce_0_4__hvr_0_4_1/split_2/test/image/_Image_11R_6.png (deflated 3%)\n",
            "  adding: chase_db_384_384_dice_bce_0_4__hvr_0_4_1/split_2/test/image/_Image_13L_7.png (deflated 7%)\n",
            "  adding: chase_db_384_384_dice_bce_0_4__hvr_0_4_1/split_2/test/image/_Image_11R_5.png (deflated 3%)\n",
            "  adding: chase_db_384_384_dice_bce_0_4__hvr_0_4_1/split_2/reconstructed/ (stored 0%)\n",
            "  adding: chase_db_384_384_dice_bce_0_4__hvr_0_4_1/split_2/reconstructed/test/ (stored 0%)\n",
            "  adding: chase_db_384_384_dice_bce_0_4__hvr_0_4_1/split_2/reconstructed/test/mask/ (stored 0%)\n",
            "  adding: chase_db_384_384_dice_bce_0_4__hvr_0_4_1/split_2/reconstructed/test/mask/Image_13L.png (deflated 17%)\n",
            "  adding: chase_db_384_384_dice_bce_0_4__hvr_0_4_1/split_2/reconstructed/test/mask/Image_12R.png (deflated 15%)\n",
            "  adding: chase_db_384_384_dice_bce_0_4__hvr_0_4_1/split_2/reconstructed/test/mask/Image_12L.png (deflated 16%)\n",
            "  adding: chase_db_384_384_dice_bce_0_4__hvr_0_4_1/split_2/reconstructed/test/mask/Image_11R.png (deflated 17%)\n",
            "  adding: chase_db_384_384_dice_bce_0_4__hvr_0_4_1/split_2/reconstructed/test/mask/Image_11L.png (deflated 16%)\n",
            "  adding: chase_db_384_384_dice_bce_0_4__hvr_0_4_1/split_2/reconstructed/test/predictions_reconstructed/ (stored 0%)\n",
            "  adding: chase_db_384_384_dice_bce_0_4__hvr_0_4_1/split_2/reconstructed/test/predictions_reconstructed/Image_13L.png (deflated 23%)\n",
            "  adding: chase_db_384_384_dice_bce_0_4__hvr_0_4_1/split_2/reconstructed/test/predictions_reconstructed/Image_12R.png (deflated 24%)\n",
            "  adding: chase_db_384_384_dice_bce_0_4__hvr_0_4_1/split_2/reconstructed/test/predictions_reconstructed/Image_12L.png (deflated 23%)\n",
            "  adding: chase_db_384_384_dice_bce_0_4__hvr_0_4_1/split_2/reconstructed/test/predictions_reconstructed/Image_11R.png (deflated 23%)\n",
            "  adding: chase_db_384_384_dice_bce_0_4__hvr_0_4_1/split_2/reconstructed/test/predictions_reconstructed/Image_11L.png (deflated 23%)\n",
            "  adding: chase_db_384_384_dice_bce_0_4__hvr_0_4_1/split_2/reconstructed/test/image/ (stored 0%)\n",
            "  adding: chase_db_384_384_dice_bce_0_4__hvr_0_4_1/split_2/reconstructed/test/image/Image_13L.png (deflated 6%)\n",
            "  adding: chase_db_384_384_dice_bce_0_4__hvr_0_4_1/split_2/reconstructed/test/image/Image_12R.png (deflated 2%)\n",
            "  adding: chase_db_384_384_dice_bce_0_4__hvr_0_4_1/split_2/reconstructed/test/image/Image_12L.png (deflated 2%)\n",
            "  adding: chase_db_384_384_dice_bce_0_4__hvr_0_4_1/split_2/reconstructed/test/image/Image_11R.png (deflated 2%)\n",
            "  adding: chase_db_384_384_dice_bce_0_4__hvr_0_4_1/split_2/reconstructed/test/image/Image_11L.png (deflated 2%)\n",
            "  adding: chase_db_384_384_dice_bce_0_4__hvr_0_4_1/split_2/image_patches_384_384_test.csv (deflated 91%)\n",
            "  adding: chase_db_384_384_dice_bce_0_4__hvr_0_4_1/split_2/train/ (stored 0%)\n",
            "  adding: chase_db_384_384_dice_bce_0_4__hvr_0_4_1/split_2/train/mask/ (stored 0%)\n",
            "  adding: chase_db_384_384_dice_bce_0_4__hvr_0_4_1/split_2/train/mask/_Image_03R_3_4.png (deflated 10%)\n",
            "  adding: chase_db_384_384_dice_bce_0_4__hvr_0_4_1/split_2/train/mask/_Image_14L_1_1.png (deflated 20%)\n",
            "  adding: chase_db_384_384_dice_bce_0_4__hvr_0_4_1/split_2/train/mask/_Image_01L_1_2.png (deflated 26%)\n",
            "  adding: chase_db_384_384_dice_bce_0_4__hvr_0_4_1/split_2/train/mask/_Image_09R_3_1.png (deflated 20%)\n",
            "  adding: chase_db_384_384_dice_bce_0_4__hvr_0_4_1/split_2/train/mask/_Image_03L_0_5.png (deflated 12%)\n",
            "  adding: chase_db_384_384_dice_bce_0_4__hvr_0_4_1/split_2/train/mask/_Image_04L_2_7.png (deflated 22%)\n",
            "  adding: chase_db_384_384_dice_bce_0_4__hvr_0_4_1/split_2/train/mask/_Image_01L_0_3.png (deflated 20%)\n",
            "  adding: chase_db_384_384_dice_bce_0_4__hvr_0_4_1/split_2/train/mask/_Image_03R_0_7.png (deflated 18%)\n",
            "  adding: chase_db_384_384_dice_bce_0_4__hvr_0_4_1/split_2/train/mask/_Image_08L_3_6.png (deflated 20%)\n",
            "  adding: chase_db_384_384_dice_bce_0_4__hvr_0_4_1/split_2/train/mask/_Image_10L_2_6.png (deflated 36%)\n",
            "  adding: chase_db_384_384_dice_bce_0_4__hvr_0_4_1/split_2/train/mask/_Image_02L_2_7.png (deflated 20%)\n",
            "  adding: chase_db_384_384_dice_bce_0_4__hvr_0_4_1/split_2/train/mask/_Image_05L_1_0.png (deflated 22%)\n",
            "  adding: chase_db_384_384_dice_bce_0_4__hvr_0_4_1/split_2/train/mask/_Image_07R_1_6.png (deflated 26%)\n",
            "  adding: chase_db_384_384_dice_bce_0_4__hvr_0_4_1/split_2/train/mask/_Image_04R_2_3.png (deflated 14%)\n",
            "  adding: chase_db_384_384_dice_bce_0_4__hvr_0_4_1/split_2/train/mask/_Image_09L_0_2.png (deflated 42%)\n",
            "  adding: chase_db_384_384_dice_bce_0_4__hvr_0_4_1/split_2/train/mask/_Image_08L_3_2.png (deflated 16%)\n",
            "  adding: chase_db_384_384_dice_bce_0_4__hvr_0_4_1/split_2/train/mask/_Image_08L_3_4.png (deflated 12%)\n",
            "  adding: chase_db_384_384_dice_bce_0_4__hvr_0_4_1/split_2/train/mask/_Image_03L_2_4.png (deflated 15%)\n",
            "  adding: chase_db_384_384_dice_bce_0_4__hvr_0_4_1/split_2/train/mask/_Image_10L_1_7.png (deflated 20%)\n",
            "  adding: chase_db_384_384_dice_bce_0_4__hvr_0_4_1/split_2/train/mask/_Image_06L_0_3.png (deflated 11%)\n",
            "  adding: chase_db_384_384_dice_bce_0_4__hvr_0_4_1/split_2/train/mask/_Image_03L_2_1.png (deflated 16%)\n",
            "  adding: chase_db_384_384_dice_bce_0_4__hvr_0_4_1/split_2/train/mask/_Image_01R_3_7.png (deflated 14%)\n",
            "  adding: chase_db_384_384_dice_bce_0_4__hvr_0_4_1/split_2/train/mask/_Image_01R_2_0.png (deflated 36%)\n",
            "  adding: chase_db_384_384_dice_bce_0_4__hvr_0_4_1/split_2/train/mask/_Image_04L_1_1.png (deflated 23%)\n",
            "  adding: chase_db_384_384_dice_bce_0_4__hvr_0_4_1/split_2/train/mask/_Image_07L_1_8.png (deflated 27%)\n",
            "  adding: chase_db_384_384_dice_bce_0_4__hvr_0_4_1/split_2/train/mask/_Image_08R_3_8.png (deflated 24%)\n",
            "  adding: chase_db_384_384_dice_bce_0_4__hvr_0_4_1/split_2/train/mask/_Image_06L_1_1.png (deflated 20%)\n",
            "  adding: chase_db_384_384_dice_bce_0_4__hvr_0_4_1/split_2/train/mask/_Image_04L_2_1.png (deflated 18%)\n",
            "  adding: chase_db_384_384_dice_bce_0_4__hvr_0_4_1/split_2/train/mask/_Image_10R_1_0.png (deflated 33%)\n",
            "  adding: chase_db_384_384_dice_bce_0_4__hvr_0_4_1/split_2/train/mask/_Image_01R_2_8.png (deflated 31%)\n",
            "  adding: chase_db_384_384_dice_bce_0_4__hvr_0_4_1/split_2/train/mask/_Image_04R_0_5.png (deflated 16%)\n",
            "  adding: chase_db_384_384_dice_bce_0_4__hvr_0_4_1/split_2/train/mask/_Image_02R_1_4.png (deflated 14%)\n",
            "  adding: chase_db_384_384_dice_bce_0_4__hvr_0_4_1/split_2/train/mask/_Image_03L_0_1.png (deflated 20%)\n",
            "  adding: chase_db_384_384_dice_bce_0_4__hvr_0_4_1/split_2/train/mask/_Image_04R_1_1.png (deflated 21%)\n",
            "  adding: chase_db_384_384_dice_bce_0_4__hvr_0_4_1/split_2/train/mask/_Image_03L_1_7.png (deflated 16%)\n",
            "  adding: chase_db_384_384_dice_bce_0_4__hvr_0_4_1/split_2/train/mask/_Image_01R_1_3.png (deflated 13%)\n",
            "  adding: chase_db_384_384_dice_bce_0_4__hvr_0_4_1/split_2/train/mask/_Image_07R_0_2.png (deflated 34%)\n",
            "  adding: chase_db_384_384_dice_bce_0_4__hvr_0_4_1/split_2/train/mask/_Image_10L_3_5.png (deflated 11%)\n",
            "  adding: chase_db_384_384_dice_bce_0_4__hvr_0_4_1/split_2/train/mask/_Image_05R_2_1.png (deflated 21%)\n",
            "  adding: chase_db_384_384_dice_bce_0_4__hvr_0_4_1/split_2/train/mask/_Image_05R_3_0.png (deflated 18%)\n",
            "  adding: chase_db_384_384_dice_bce_0_4__hvr_0_4_1/split_2/train/mask/_Image_10R_1_7.png (deflated 18%)\n",
            "  adding: chase_db_384_384_dice_bce_0_4__hvr_0_4_1/split_2/train/mask/_Image_13R_2_2.png (deflated 34%)\n",
            "  adding: chase_db_384_384_dice_bce_0_4__hvr_0_4_1/split_2/train/mask/_Image_02L_0_6.png (deflated 35%)\n",
            "  adding: chase_db_384_384_dice_bce_0_4__hvr_0_4_1/split_2/train/mask/_Image_07R_2_8.png (deflated 36%)\n",
            "  adding: chase_db_384_384_dice_bce_0_4__hvr_0_4_1/split_2/train/mask/_Image_01L_1_1.png (deflated 21%)\n",
            "  adding: chase_db_384_384_dice_bce_0_4__hvr_0_4_1/split_2/train/mask/_Image_09L_0_6.png (deflated 42%)\n",
            "  adding: chase_db_384_384_dice_bce_0_4__hvr_0_4_1/split_2/train/mask/_Image_05R_1_1.png (deflated 21%)\n",
            "  adding: chase_db_384_384_dice_bce_0_4__hvr_0_4_1/split_2/train/mask/_Image_05L_0_8.png (deflated 28%)\n",
            "  adding: chase_db_384_384_dice_bce_0_4__hvr_0_4_1/split_2/train/mask/_Image_03R_3_2.png (deflated 32%)\n",
            "  adding: chase_db_384_384_dice_bce_0_4__hvr_0_4_1/split_2/train/mask/_Image_03R_2_4.png (deflated 13%)\n",
            "  adding: chase_db_384_384_dice_bce_0_4__hvr_0_4_1/split_2/train/mask/_Image_13R_2_1.png (deflated 19%)\n",
            "  adding: chase_db_384_384_dice_bce_0_4__hvr_0_4_1/split_2/train/mask/_Image_02L_0_8.png (deflated 24%)\n",
            "  adding: chase_db_384_384_dice_bce_0_4__hvr_0_4_1/split_2/train/mask/_Image_01L_1_6.png (deflated 25%)\n",
            "  adding: chase_db_384_384_dice_bce_0_4__hvr_0_4_1/split_2/train/mask/_Image_09L_1_5.png (deflated 8%)\n",
            "  adding: chase_db_384_384_dice_bce_0_4__hvr_0_4_1/split_2/train/mask/_Image_07L_3_8.png (deflated 30%)\n",
            "  adding: chase_db_384_384_dice_bce_0_4__hvr_0_4_1/split_2/train/mask/_Image_05R_1_0.png (deflated 28%)\n",
            "  adding: chase_db_384_384_dice_bce_0_4__hvr_0_4_1/split_2/train/mask/_Image_13R_2_5.png (deflated 11%)\n",
            "  adding: chase_db_384_384_dice_bce_0_4__hvr_0_4_1/split_2/train/mask/_Image_02R_2_5.png (deflated 9%)\n",
            "  adding: chase_db_384_384_dice_bce_0_4__hvr_0_4_1/split_2/train/mask/_Image_05R_2_3.png (deflated 17%)\n",
            "  adding: chase_db_384_384_dice_bce_0_4__hvr_0_4_1/split_2/train/mask/_Image_08R_2_1.png (deflated 17%)\n",
            "  adding: chase_db_384_384_dice_bce_0_4__hvr_0_4_1/split_2/train/mask/_Image_08L_1_1.png (deflated 23%)\n",
            "  adding: chase_db_384_384_dice_bce_0_4__hvr_0_4_1/split_2/train/mask/_Image_02R_3_1.png (deflated 16%)\n",
            "  adding: chase_db_384_384_dice_bce_0_4__hvr_0_4_1/split_2/train/mask/_Image_02L_2_2.png (deflated 24%)\n",
            "  adding: chase_db_384_384_dice_bce_0_4__hvr_0_4_1/split_2/train/mask/_Image_02L_0_3.png (deflated 6%)\n",
            "  adding: chase_db_384_384_dice_bce_0_4__hvr_0_4_1/split_2/train/mask/_Image_07L_1_2.png (deflated 28%)\n",
            "  adding: chase_db_384_384_dice_bce_0_4__hvr_0_4_1/split_2/train/mask/_Image_09R_1_4.png (deflated 14%)\n",
            "  adding: chase_db_384_384_dice_bce_0_4__hvr_0_4_1/split_2/train/mask/_Image_08R_2_4.png (deflated 12%)\n",
            "  adding: chase_db_384_384_dice_bce_0_4__hvr_0_4_1/split_2/train/mask/_Image_07R_2_2.png (deflated 28%)\n",
            "  adding: chase_db_384_384_dice_bce_0_4__hvr_0_4_1/split_2/train/mask/_Image_09L_2_8.png (deflated 41%)\n",
            "  adding: chase_db_384_384_dice_bce_0_4__hvr_0_4_1/split_2/train/mask/_Image_13R_3_4.png (deflated 12%)\n",
            "  adding: chase_db_384_384_dice_bce_0_4__hvr_0_4_1/split_2/train/mask/_Image_04R_1_0.png (deflated 33%)\n",
            "  adding: chase_db_384_384_dice_bce_0_4__hvr_0_4_1/split_2/train/mask/_Image_10L_0_6.png (deflated 29%)\n",
            "  adding: chase_db_384_384_dice_bce_0_4__hvr_0_4_1/split_2/train/mask/_Image_05R_1_8.png (deflated 21%)\n",
            "  adding: chase_db_384_384_dice_bce_0_4__hvr_0_4_1/split_2/train/mask/_Image_10L_3_3.png (deflated 12%)\n",
            "  adding: chase_db_384_384_dice_bce_0_4__hvr_0_4_1/split_2/train/mask/_Image_08R_1_2.png (deflated 31%)\n",
            "  adding: chase_db_384_384_dice_bce_0_4__hvr_0_4_1/split_2/train/mask/_Image_07R_0_4.png (deflated 10%)\n",
            "  adding: chase_db_384_384_dice_bce_0_4__hvr_0_4_1/split_2/train/mask/_Image_01R_2_2.png (deflated 41%)\n",
            "  adding: chase_db_384_384_dice_bce_0_4__hvr_0_4_1/split_2/train/mask/_Image_04L_1_5.png (deflated 11%)\n",
            "  adding: chase_db_384_384_dice_bce_0_4__hvr_0_4_1/split_2/train/mask/_Image_08R_3_6.png (deflated 26%)\n",
            "  adding: chase_db_384_384_dice_bce_0_4__hvr_0_4_1/split_2/train/mask/_Image_04L_2_5.png (deflated 14%)\n",
            "  adding: chase_db_384_384_dice_bce_0_4__hvr_0_4_1/split_2/train/mask/_Image_09L_3_2.png (deflated 41%)\n",
            "  adding: chase_db_384_384_dice_bce_0_4__hvr_0_4_1/split_2/train/mask/_Image_03R_1_6.png (deflated 32%)\n",
            "  adding: chase_db_384_384_dice_bce_0_4__hvr_0_4_1/split_2/train/mask/_Image_05L_1_3.png (deflated 12%)\n",
            "  adding: chase_db_384_384_dice_bce_0_4__hvr_0_4_1/split_2/train/mask/_Image_08R_3_3.png (deflated 11%)\n",
            "  adding: chase_db_384_384_dice_bce_0_4__hvr_0_4_1/split_2/train/mask/_Image_07L_2_0.png (deflated 27%)\n",
            "  adding: chase_db_384_384_dice_bce_0_4__hvr_0_4_1/split_2/train/mask/_Image_14L_2_2.png (deflated 28%)\n",
            "  adding: chase_db_384_384_dice_bce_0_4__hvr_0_4_1/split_2/train/mask/_Image_03L_1_2.png (deflated 25%)\n",
            "  adding: chase_db_384_384_dice_bce_0_4__hvr_0_4_1/split_2/train/mask/_Image_03L_2_0.png (deflated 23%)\n",
            "  adding: chase_db_384_384_dice_bce_0_4__hvr_0_4_1/split_2/train/mask/_Image_09L_1_2.png (deflated 29%)\n",
            "  adding: chase_db_384_384_dice_bce_0_4__hvr_0_4_1/split_2/train/mask/_Image_05R_3_5.png (deflated 9%)\n",
            "  adding: chase_db_384_384_dice_bce_0_4__hvr_0_4_1/split_2/train/mask/_Image_07R_0_8.png (deflated 29%)\n",
            "  adding: chase_db_384_384_dice_bce_0_4__hvr_0_4_1/split_2/train/mask/_Image_04R_0_3.png (deflated 14%)\n",
            "  adding: chase_db_384_384_dice_bce_0_4__hvr_0_4_1/split_2/train/mask/_Image_10R_3_5.png (deflated 22%)\n",
            "  adding: chase_db_384_384_dice_bce_0_4__hvr_0_4_1/split_2/train/mask/_Image_08L_2_0.png (deflated 25%)\n",
            "  adding: chase_db_384_384_dice_bce_0_4__hvr_0_4_1/split_2/train/mask/_Image_10L_0_7.png (deflated 19%)\n",
            "  adding: chase_db_384_384_dice_bce_0_4__hvr_0_4_1/split_2/train/mask/_Image_10L_0_1.png (deflated 16%)\n",
            "  adding: chase_db_384_384_dice_bce_0_4__hvr_0_4_1/split_2/train/mask/_Image_04R_3_7.png (deflated 15%)\n",
            "  adding: chase_db_384_384_dice_bce_0_4__hvr_0_4_1/split_2/train/mask/_Image_01L_1_5.png (deflated 21%)\n",
            "  adding: chase_db_384_384_dice_bce_0_4__hvr_0_4_1/split_2/train/mask/_Image_02L_2_1.png (deflated 17%)\n",
            "  adding: chase_db_384_384_dice_bce_0_4__hvr_0_4_1/split_2/train/mask/_Image_05R_0_8.png (deflated 29%)\n",
            "  adding: chase_db_384_384_dice_bce_0_4__hvr_0_4_1/split_2/train/mask/_Image_06R_1_5.png (deflated 10%)\n",
            "  adding: chase_db_384_384_dice_bce_0_4__hvr_0_4_1/split_2/train/mask/_Image_06L_0_4.png (deflated 12%)\n",
            "  adding: chase_db_384_384_dice_bce_0_4__hvr_0_4_1/split_2/train/mask/_Image_03R_1_8.png (deflated 28%)\n",
            "  adding: chase_db_384_384_dice_bce_0_4__hvr_0_4_1/split_2/train/mask/_Image_14L_0_3.png (deflated 13%)\n",
            "  adding: chase_db_384_384_dice_bce_0_4__hvr_0_4_1/split_2/train/mask/_Image_02R_3_0.png (deflated 15%)\n",
            "  adding: chase_db_384_384_dice_bce_0_4__hvr_0_4_1/split_2/train/mask/_Image_05L_0_7.png (deflated 17%)\n",
            "  adding: chase_db_384_384_dice_bce_0_4__hvr_0_4_1/split_2/train/mask/_Image_10L_1_5.png (deflated 16%)\n",
            "  adding: chase_db_384_384_dice_bce_0_4__hvr_0_4_1/split_2/train/mask/_Image_07R_3_2.png (deflated 27%)\n",
            "  adding: chase_db_384_384_dice_bce_0_4__hvr_0_4_1/split_2/train/mask/_Image_07R_3_3.png (deflated 7%)\n",
            "  adding: chase_db_384_384_dice_bce_0_4__hvr_0_4_1/split_2/train/mask/_Image_04R_1_5.png (deflated 14%)\n",
            "  adding: chase_db_384_384_dice_bce_0_4__hvr_0_4_1/split_2/train/mask/_Image_06L_0_1.png (deflated 20%)\n",
            "  adding: chase_db_384_384_dice_bce_0_4__hvr_0_4_1/split_2/train/mask/_Image_03L_1_8.png (deflated 23%)\n",
            "  adding: chase_db_384_384_dice_bce_0_4__hvr_0_4_1/split_2/train/mask/_Image_14R_3_1.png (deflated 17%)\n",
            "  adding: chase_db_384_384_dice_bce_0_4__hvr_0_4_1/split_2/train/mask/_Image_13R_3_7.png (deflated 17%)\n",
            "  adding: chase_db_384_384_dice_bce_0_4__hvr_0_4_1/split_2/train/mask/_Image_04L_1_6.png (deflated 54%)\n",
            "  adding: chase_db_384_384_dice_bce_0_4__hvr_0_4_1/split_2/train/mask/_Image_08L_0_7.png (deflated 21%)\n",
            "  adding: chase_db_384_384_dice_bce_0_4__hvr_0_4_1/split_2/train/mask/_Image_03L_3_6.png (deflated 23%)\n",
            "  adding: chase_db_384_384_dice_bce_0_4__hvr_0_4_1/split_2/train/mask/_Image_09L_3_7.png (deflated 18%)\n",
            "  adding: chase_db_384_384_dice_bce_0_4__hvr_0_4_1/split_2/train/mask/_Image_14L_3_6.png (deflated 22%)\n",
            "  adding: chase_db_384_384_dice_bce_0_4__hvr_0_4_1/split_2/train/mask/_Image_06R_2_4.png (deflated 14%)\n",
            "  adding: chase_db_384_384_dice_bce_0_4__hvr_0_4_1/split_2/train/mask/_Image_05R_0_5.png (deflated 11%)\n",
            "  adding: chase_db_384_384_dice_bce_0_4__hvr_0_4_1/split_2/train/mask/_Image_05R_2_2.png (deflated 28%)\n",
            "  adding: chase_db_384_384_dice_bce_0_4__hvr_0_4_1/split_2/train/mask/_Image_09L_1_4.png (deflated 16%)\n",
            "  adding: chase_db_384_384_dice_bce_0_4__hvr_0_4_1/split_2/train/mask/_Image_08L_2_3.png (deflated 9%)\n",
            "  adding: chase_db_384_384_dice_bce_0_4__hvr_0_4_1/split_2/train/mask/_Image_06R_0_5.png (deflated 16%)\n",
            "  adding: chase_db_384_384_dice_bce_0_4__hvr_0_4_1/split_2/train/mask/_Image_04L_3_0.png (deflated 29%)\n",
            "  adding: chase_db_384_384_dice_bce_0_4__hvr_0_4_1/split_2/train/mask/_Image_02R_0_2.png (deflated 28%)\n",
            "  adding: chase_db_384_384_dice_bce_0_4__hvr_0_4_1/split_2/train/mask/_Image_13R_3_3.png (deflated 11%)\n",
            "  adding: chase_db_384_384_dice_bce_0_4__hvr_0_4_1/split_2/train/mask/_Image_09R_1_8.png (deflated 48%)\n",
            "  adding: chase_db_384_384_dice_bce_0_4__hvr_0_4_1/split_2/train/mask/_Image_05L_2_6.png (deflated 22%)\n",
            "  adding: chase_db_384_384_dice_bce_0_4__hvr_0_4_1/split_2/train/mask/_Image_08R_2_6.png (deflated 31%)\n",
            "  adding: chase_db_384_384_dice_bce_0_4__hvr_0_4_1/split_2/train/mask/_Image_06L_3_7.png (deflated 17%)\n",
            "  adding: chase_db_384_384_dice_bce_0_4__hvr_0_4_1/split_2/train/mask/_Image_10L_3_1.png (deflated 15%)\n",
            "  adding: chase_db_384_384_dice_bce_0_4__hvr_0_4_1/split_2/train/mask/_Image_02R_0_8.png (deflated 30%)\n",
            "  adding: chase_db_384_384_dice_bce_0_4__hvr_0_4_1/split_2/train/mask/_Image_07L_0_8.png (deflated 25%)\n",
            "  adding: chase_db_384_384_dice_bce_0_4__hvr_0_4_1/split_2/train/mask/_Image_08L_2_2.png (deflated 28%)\n",
            "  adding: chase_db_384_384_dice_bce_0_4__hvr_0_4_1/split_2/train/mask/_Image_03R_0_6.png (deflated 29%)\n",
            "  adding: chase_db_384_384_dice_bce_0_4__hvr_0_4_1/split_2/train/mask/_Image_06L_1_0.png (deflated 29%)\n",
            "  adding: chase_db_384_384_dice_bce_0_4__hvr_0_4_1/split_2/train/mask/_Image_09R_0_7.png (deflated 19%)\n",
            "  adding: chase_db_384_384_dice_bce_0_4__hvr_0_4_1/split_2/train/mask/_Image_07L_3_4.png (deflated 10%)\n",
            "  adding: chase_db_384_384_dice_bce_0_4__hvr_0_4_1/split_2/train/mask/_Image_13R_1_7.png (deflated 19%)\n",
            "  adding: chase_db_384_384_dice_bce_0_4__hvr_0_4_1/split_2/train/mask/_Image_14R_1_3.png (deflated 16%)\n",
            "  adding: chase_db_384_384_dice_bce_0_4__hvr_0_4_1/split_2/train/mask/_Image_03L_2_3.png (deflated 12%)\n",
            "  adding: chase_db_384_384_dice_bce_0_4__hvr_0_4_1/split_2/train/mask/_Image_06L_1_3.png (deflated 11%)\n",
            "  adding: chase_db_384_384_dice_bce_0_4__hvr_0_4_1/split_2/train/mask/_Image_07L_2_8.png (deflated 25%)\n",
            "  adding: chase_db_384_384_dice_bce_0_4__hvr_0_4_1/split_2/train/mask/_Image_08R_3_5.png (deflated 7%)\n",
            "  adding: chase_db_384_384_dice_bce_0_4__hvr_0_4_1/split_2/train/mask/_Image_07R_2_4.png (deflated 10%)\n",
            "  adding: chase_db_384_384_dice_bce_0_4__hvr_0_4_1/split_2/train/mask/_Image_09L_3_4.png (deflated 13%)\n",
            "  adding: chase_db_384_384_dice_bce_0_4__hvr_0_4_1/split_2/train/mask/_Image_08R_1_1.png (deflated 21%)\n",
            "  adding: chase_db_384_384_dice_bce_0_4__hvr_0_4_1/split_2/train/mask/_Image_01R_1_8.png (deflated 38%)\n",
            "  adding: chase_db_384_384_dice_bce_0_4__hvr_0_4_1/split_2/train/mask/_Image_07R_1_1.png (deflated 19%)\n",
            "  adding: chase_db_384_384_dice_bce_0_4__hvr_0_4_1/split_2/train/mask/_Image_08R_0_7.png (deflated 17%)\n",
            "  adding: chase_db_384_384_dice_bce_0_4__hvr_0_4_1/split_2/train/mask/_Image_03L_1_1.png (deflated 20%)\n",
            "  adding: chase_db_384_384_dice_bce_0_4__hvr_0_4_1/split_2/train/mask/_Image_05L_3_3.png (deflated 8%)\n",
            "  adding: chase_db_384_384_dice_bce_0_4__hvr_0_4_1/split_2/train/mask/_Image_14L_3_4.png (deflated 12%)\n",
            "  adding: chase_db_384_384_dice_bce_0_4__hvr_0_4_1/split_2/train/mask/_Image_05R_1_3.png (deflated 11%)\n",
            "  adding: chase_db_384_384_dice_bce_0_4__hvr_0_4_1/split_2/train/mask/_Image_05L_1_6.png (deflated 27%)\n",
            "  adding: chase_db_384_384_dice_bce_0_4__hvr_0_4_1/split_2/train/mask/_Image_09R_1_5.png (deflated 33%)\n",
            "  adding: chase_db_384_384_dice_bce_0_4__hvr_0_4_1/split_2/train/mask/_Image_10R_3_2.png (deflated 27%)\n",
            "  adding: chase_db_384_384_dice_bce_0_4__hvr_0_4_1/split_2/train/mask/_Image_02R_2_4.png (deflated 13%)\n",
            "  adding: chase_db_384_384_dice_bce_0_4__hvr_0_4_1/split_2/train/mask/_Image_09L_1_8.png (deflated 43%)\n",
            "  adding: chase_db_384_384_dice_bce_0_4__hvr_0_4_1/split_2/train/mask/_Image_07L_0_0.png (deflated 27%)\n",
            "  adding: chase_db_384_384_dice_bce_0_4__hvr_0_4_1/split_2/train/mask/_Image_01R_1_1.png (deflated 20%)\n",
            "  adding: chase_db_384_384_dice_bce_0_4__hvr_0_4_1/split_2/train/mask/_Image_05L_2_3.png (deflated 12%)\n",
            "  adding: chase_db_384_384_dice_bce_0_4__hvr_0_4_1/split_2/train/mask/_Image_09L_2_1.png (deflated 19%)\n",
            "  adding: chase_db_384_384_dice_bce_0_4__hvr_0_4_1/split_2/train/mask/_Image_10R_1_2.png (deflated 26%)\n",
            "  adding: chase_db_384_384_dice_bce_0_4__hvr_0_4_1/split_2/train/mask/_Image_01L_3_7.png (deflated 16%)\n",
            "  adding: chase_db_384_384_dice_bce_0_4__hvr_0_4_1/split_2/train/mask/_Image_05L_2_1.png (deflated 17%)\n",
            "  adding: chase_db_384_384_dice_bce_0_4__hvr_0_4_1/split_2/train/mask/_Image_07R_1_2.png (deflated 44%)\n",
            "  adding: chase_db_384_384_dice_bce_0_4__hvr_0_4_1/split_2/train/mask/_Image_06L_2_8.png (deflated 29%)\n",
            "  adding: chase_db_384_384_dice_bce_0_4__hvr_0_4_1/split_2/train/mask/_Image_10R_3_0.png (deflated 27%)\n",
            "  adding: chase_db_384_384_dice_bce_0_4__hvr_0_4_1/split_2/train/mask/_Image_05R_1_7.png (deflated 20%)\n",
            "  adding: chase_db_384_384_dice_bce_0_4__hvr_0_4_1/split_2/train/mask/_Image_08R_0_6.png (deflated 43%)\n",
            "  adding: chase_db_384_384_dice_bce_0_4__hvr_0_4_1/split_2/train/mask/_Image_14L_0_7.png (deflated 27%)\n",
            "  adding: chase_db_384_384_dice_bce_0_4__hvr_0_4_1/split_2/train/mask/_Image_08L_3_8.png (deflated 31%)\n",
            "  adding: chase_db_384_384_dice_bce_0_4__hvr_0_4_1/split_2/train/mask/_Image_02L_0_1.png (deflated 20%)\n",
            "  adding: chase_db_384_384_dice_bce_0_4__hvr_0_4_1/split_2/train/mask/_Image_03L_2_2.png (deflated 24%)\n",
            "  adding: chase_db_384_384_dice_bce_0_4__hvr_0_4_1/split_2/train/mask/_Image_04L_1_2.png (deflated 35%)\n",
            "  adding: chase_db_384_384_dice_bce_0_4__hvr_0_4_1/split_2/train/mask/_Image_06L_2_3.png (deflated 12%)\n",
            "  adding: chase_db_384_384_dice_bce_0_4__hvr_0_4_1/split_2/train/mask/_Image_06R_0_1.png (deflated 21%)\n",
            "  adding: chase_db_384_384_dice_bce_0_4__hvr_0_4_1/split_2/train/mask/_Image_09L_0_4.png (deflated 16%)\n",
            "  adding: chase_db_384_384_dice_bce_0_4__hvr_0_4_1/split_2/train/mask/_Image_01L_0_1.png (deflated 21%)\n",
            "  adding: chase_db_384_384_dice_bce_0_4__hvr_0_4_1/split_2/train/mask/_Image_07L_2_4.png (deflated 11%)\n",
            "  adding: chase_db_384_384_dice_bce_0_4__hvr_0_4_1/split_2/train/mask/_Image_01L_3_8.png (deflated 27%)\n",
            "  adding: chase_db_384_384_dice_bce_0_4__hvr_0_4_1/split_2/train/mask/_Image_07R_1_8.png (deflated 20%)\n",
            "  adding: chase_db_384_384_dice_bce_0_4__hvr_0_4_1/split_2/train/mask/_Image_02L_3_2.png (deflated 21%)\n",
            "  adding: chase_db_384_384_dice_bce_0_4__hvr_0_4_1/split_2/train/mask/_Image_02R_3_5.png (deflated 6%)\n",
            "  adding: chase_db_384_384_dice_bce_0_4__hvr_0_4_1/split_2/train/mask/_Image_09R_3_4.png (deflated 13%)\n",
            "  adding: chase_db_384_384_dice_bce_0_4__hvr_0_4_1/split_2/train/mask/_Image_14L_1_0.png (deflated 37%)\n",
            "  adding: chase_db_384_384_dice_bce_0_4__hvr_0_4_1/split_2/train/mask/_Image_13R_2_7.png (deflated 23%)\n",
            "  adding: chase_db_384_384_dice_bce_0_4__hvr_0_4_1/split_2/train/mask/_Image_02L_0_4.png (deflated 13%)\n",
            "  adding: chase_db_384_384_dice_bce_0_4__hvr_0_4_1/split_2/train/mask/_Image_08R_0_1.png (deflated 22%)\n",
            "  adding: chase_db_384_384_dice_bce_0_4__hvr_0_4_1/split_2/train/mask/_Image_05L_2_2.png (deflated 28%)\n",
            "  adding: chase_db_384_384_dice_bce_0_4__hvr_0_4_1/split_2/train/mask/_Image_07R_3_4.png (deflated 10%)\n",
            "  adding: chase_db_384_384_dice_bce_0_4__hvr_0_4_1/split_2/train/mask/_Image_03R_0_8.png (deflated 32%)\n",
            "  adding: chase_db_384_384_dice_bce_0_4__hvr_0_4_1/split_2/train/mask/_Image_10R_1_6.png (deflated 34%)\n",
            "  adding: chase_db_384_384_dice_bce_0_4__hvr_0_4_1/split_2/train/mask/_Image_14L_2_3.png (deflated 13%)\n",
            "  adding: chase_db_384_384_dice_bce_0_4__hvr_0_4_1/split_2/train/mask/_Image_04L_0_6.png (deflated 22%)\n",
            "  adding: chase_db_384_384_dice_bce_0_4__hvr_0_4_1/split_2/train/mask/_Image_06L_0_2.png (deflated 29%)\n",
            "  adding: chase_db_384_384_dice_bce_0_4__hvr_0_4_1/split_2/train/mask/_Image_03R_1_4.png (deflated 12%)\n",
            "  adding: chase_db_384_384_dice_bce_0_4__hvr_0_4_1/split_2/train/mask/_Image_13R_3_5.png (deflated 5%)\n",
            "  adding: chase_db_384_384_dice_bce_0_4__hvr_0_4_1/split_2/train/mask/_Image_02R_0_6.png (deflated 29%)\n",
            "  adding: chase_db_384_384_dice_bce_0_4__hvr_0_4_1/split_2/train/mask/_Image_01L_2_1.png (deflated 20%)\n",
            "  adding: chase_db_384_384_dice_bce_0_4__hvr_0_4_1/split_2/train/mask/_Image_02L_2_3.png (deflated 5%)\n",
            "  adding: chase_db_384_384_dice_bce_0_4__hvr_0_4_1/split_2/train/mask/_Image_09R_2_0.png (deflated 48%)\n",
            "  adding: chase_db_384_384_dice_bce_0_4__hvr_0_4_1/split_2/train/mask/_Image_09R_1_2.png (deflated 29%)\n",
            "  adding: chase_db_384_384_dice_bce_0_4__hvr_0_4_1/split_2/train/mask/_Image_14R_1_0.png (deflated 31%)\n",
            "  adding: chase_db_384_384_dice_bce_0_4__hvr_0_4_1/split_2/train/mask/_Image_09L_2_4.png (deflated 15%)\n",
            "  adding: chase_db_384_384_dice_bce_0_4__hvr_0_4_1/split_2/train/mask/_Image_10L_3_8.png (deflated 26%)\n",
            "  adding: chase_db_384_384_dice_bce_0_4__hvr_0_4_1/split_2/train/mask/_Image_08L_0_5.png (deflated 8%)\n",
            "  adding: chase_db_384_384_dice_bce_0_4__hvr_0_4_1/split_2/train/mask/_Image_06L_3_3.png (deflated 7%)\n",
            "  adding: chase_db_384_384_dice_bce_0_4__hvr_0_4_1/split_2/train/mask/_Image_02R_2_1.png (deflated 16%)\n",
            "  adding: chase_db_384_384_dice_bce_0_4__hvr_0_4_1/split_2/train/mask/_Image_01R_0_2.png (deflated 31%)\n",
            "  adding: chase_db_384_384_dice_bce_0_4__hvr_0_4_1/split_2/train/mask/_Image_07R_0_5.png (deflated 13%)\n",
            "  adding: chase_db_384_384_dice_bce_0_4__hvr_0_4_1/split_2/train/mask/_Image_02R_0_1.png (deflated 16%)\n",
            "  adding: chase_db_384_384_dice_bce_0_4__hvr_0_4_1/split_2/train/mask/_Image_10L_2_7.png (deflated 17%)\n",
            "  adding: chase_db_384_384_dice_bce_0_4__hvr_0_4_1/split_2/train/mask/_Image_01R_3_0.png (deflated 32%)\n",
            "  adding: chase_db_384_384_dice_bce_0_4__hvr_0_4_1/split_2/train/mask/_Image_03R_2_7.png (deflated 18%)\n",
            "  adding: chase_db_384_384_dice_bce_0_4__hvr_0_4_1/split_2/train/mask/_Image_08R_2_2.png (deflated 32%)\n",
            "  adding: chase_db_384_384_dice_bce_0_4__hvr_0_4_1/split_2/train/mask/_Image_05L_3_2.png (deflated 20%)\n",
            "  adding: chase_db_384_384_dice_bce_0_4__hvr_0_4_1/split_2/train/mask/_Image_10L_0_5.png (deflated 11%)\n",
            "  adding: chase_db_384_384_dice_bce_0_4__hvr_0_4_1/split_2/train/mask/_Image_14R_2_0.png (deflated 75%)\n",
            "  adding: chase_db_384_384_dice_bce_0_4__hvr_0_4_1/split_2/train/mask/_Image_05R_1_6.png (deflated 27%)\n",
            "  adding: chase_db_384_384_dice_bce_0_4__hvr_0_4_1/split_2/train/mask/_Image_05L_3_7.png (deflated 18%)\n",
            "  adding: chase_db_384_384_dice_bce_0_4__hvr_0_4_1/split_2/train/mask/_Image_03R_1_0.png (deflated 24%)\n",
            "  adding: chase_db_384_384_dice_bce_0_4__hvr_0_4_1/split_2/train/mask/_Image_09L_2_5.png (deflated 19%)\n",
            "  adding: chase_db_384_384_dice_bce_0_4__hvr_0_4_1/split_2/train/mask/_Image_02R_1_0.png (deflated 26%)\n",
            "  adding: chase_db_384_384_dice_bce_0_4__hvr_0_4_1/split_2/train/mask/_Image_06L_0_8.png (deflated 30%)\n",
            "  adding: chase_db_384_384_dice_bce_0_4__hvr_0_4_1/split_2/train/mask/_Image_09L_3_0.png (deflated 27%)\n",
            "  adding: chase_db_384_384_dice_bce_0_4__hvr_0_4_1/split_2/train/mask/_Image_06L_3_2.png (deflated 23%)\n",
            "  adding: chase_db_384_384_dice_bce_0_4__hvr_0_4_1/split_2/train/mask/_Image_07R_0_1.png (deflated 20%)\n",
            "  adding: chase_db_384_384_dice_bce_0_4__hvr_0_4_1/split_2/train/mask/_Image_07R_3_0.png (deflated 19%)\n",
            "  adding: chase_db_384_384_dice_bce_0_4__hvr_0_4_1/split_2/train/mask/_Image_13R_0_7.png (deflated 19%)\n",
            "  adding: chase_db_384_384_dice_bce_0_4__hvr_0_4_1/split_2/train/mask/_Image_14R_0_1.png (deflated 26%)\n",
            "  adding: chase_db_384_384_dice_bce_0_4__hvr_0_4_1/split_2/train/mask/_Image_03R_2_2.png (deflated 31%)\n",
            "  adding: chase_db_384_384_dice_bce_0_4__hvr_0_4_1/split_2/train/mask/_Image_05R_2_7.png (deflated 21%)\n",
            "  adding: chase_db_384_384_dice_bce_0_4__hvr_0_4_1/split_2/train/mask/_Image_04L_2_3.png (deflated 11%)\n",
            "  adding: chase_db_384_384_dice_bce_0_4__hvr_0_4_1/split_2/train/mask/_Image_06R_2_3.png (deflated 11%)\n",
            "  adding: chase_db_384_384_dice_bce_0_4__hvr_0_4_1/split_2/train/mask/_Image_02L_3_3.png (deflated 6%)\n",
            "  adding: chase_db_384_384_dice_bce_0_4__hvr_0_4_1/split_2/train/mask/_Image_06L_1_7.png (deflated 22%)\n",
            "  adding: chase_db_384_384_dice_bce_0_4__hvr_0_4_1/split_2/train/mask/_Image_10R_2_8.png (deflated 33%)\n",
            "  adding: chase_db_384_384_dice_bce_0_4__hvr_0_4_1/split_2/train/mask/_Image_14L_3_8.png (deflated 29%)\n",
            "  adding: chase_db_384_384_dice_bce_0_4__hvr_0_4_1/split_2/train/mask/_Image_05L_3_6.png (deflated 21%)\n",
            "  adding: chase_db_384_384_dice_bce_0_4__hvr_0_4_1/split_2/train/mask/_Image_08L_3_7.png (deflated 21%)\n",
            "  adding: chase_db_384_384_dice_bce_0_4__hvr_0_4_1/split_2/train/mask/_Image_04R_0_1.png (deflated 21%)\n",
            "  adding: chase_db_384_384_dice_bce_0_4__hvr_0_4_1/split_2/train/mask/_Image_07L_2_2.png (deflated 26%)\n",
            "  adding: chase_db_384_384_dice_bce_0_4__hvr_0_4_1/split_2/train/mask/_Image_09R_1_6.png (deflated 34%)\n",
            "  adding: chase_db_384_384_dice_bce_0_4__hvr_0_4_1/split_2/train/mask/_Image_01L_3_6.png (deflated 21%)\n",
            "  adding: chase_db_384_384_dice_bce_0_4__hvr_0_4_1/split_2/train/mask/_Image_07R_2_3.png (deflated 6%)\n",
            "  adding: chase_db_384_384_dice_bce_0_4__hvr_0_4_1/split_2/train/mask/_Image_05L_1_8.png (deflated 23%)\n",
            "  adding: chase_db_384_384_dice_bce_0_4__hvr_0_4_1/split_2/train/mask/_Image_02R_1_5.png (deflated 12%)\n",
            "  adding: chase_db_384_384_dice_bce_0_4__hvr_0_4_1/split_2/train/mask/_Image_02L_0_0.png (deflated 24%)\n",
            "  adding: chase_db_384_384_dice_bce_0_4__hvr_0_4_1/split_2/train/mask/_Image_02R_1_6.png (deflated 31%)\n",
            "  adding: chase_db_384_384_dice_bce_0_4__hvr_0_4_1/split_2/train/mask/_Image_01R_3_5.png (deflated 9%)\n",
            "  adding: chase_db_384_384_dice_bce_0_4__hvr_0_4_1/split_2/train/mask/_Image_14L_3_3.png (deflated 7%)\n",
            "  adding: chase_db_384_384_dice_bce_0_4__hvr_0_4_1/split_2/train/mask/_Image_07R_3_8.png (deflated 14%)\n",
            "  adding: chase_db_384_384_dice_bce_0_4__hvr_0_4_1/split_2/train/mask/_Image_01R_2_5.png (deflated 14%)\n",
            "  adding: chase_db_384_384_dice_bce_0_4__hvr_0_4_1/split_2/train/mask/_Image_08L_0_6.png (deflated 26%)\n",
            "  adding: chase_db_384_384_dice_bce_0_4__hvr_0_4_1/split_2/train/mask/_Image_08R_0_2.png (deflated 28%)\n",
            "  adding: chase_db_384_384_dice_bce_0_4__hvr_0_4_1/split_2/train/mask/_Image_08L_2_7.png (deflated 23%)\n",
            "  adding: chase_db_384_384_dice_bce_0_4__hvr_0_4_1/split_2/train/mask/_Image_04R_2_6.png (deflated 31%)\n",
            "  adding: chase_db_384_384_dice_bce_0_4__hvr_0_4_1/split_2/train/mask/_Image_10R_0_8.png (deflated 36%)\n",
            "  adding: chase_db_384_384_dice_bce_0_4__hvr_0_4_1/split_2/train/mask/_Image_09L_0_3.png (deflated 8%)\n",
            "  adding: chase_db_384_384_dice_bce_0_4__hvr_0_4_1/split_2/train/mask/_Image_01R_2_3.png (deflated 12%)\n",
            "  adding: chase_db_384_384_dice_bce_0_4__hvr_0_4_1/split_2/train/mask/_Image_05R_1_5.png (deflated 17%)\n",
            "  adding: chase_db_384_384_dice_bce_0_4__hvr_0_4_1/split_2/train/mask/_Image_04L_3_4.png (deflated 14%)\n",
            "  adding: chase_db_384_384_dice_bce_0_4__hvr_0_4_1/split_2/train/mask/_Image_13R_2_8.png (deflated 25%)\n",
            "  adding: chase_db_384_384_dice_bce_0_4__hvr_0_4_1/split_2/train/mask/_Image_14R_1_7.png (deflated 20%)\n",
            "  adding: chase_db_384_384_dice_bce_0_4__hvr_0_4_1/split_2/train/mask/_Image_14R_2_6.png (deflated 30%)\n",
            "  adding: chase_db_384_384_dice_bce_0_4__hvr_0_4_1/split_2/train/mask/_Image_04L_0_5.png (deflated 14%)\n",
            "  adding: chase_db_384_384_dice_bce_0_4__hvr_0_4_1/split_2/train/mask/_Image_03R_1_5.png (deflated 16%)\n",
            "  adding: chase_db_384_384_dice_bce_0_4__hvr_0_4_1/split_2/train/mask/_Image_04L_0_7.png (deflated 19%)\n",
            "  adding: chase_db_384_384_dice_bce_0_4__hvr_0_4_1/split_2/train/mask/_Image_08L_1_2.png (deflated 30%)\n",
            "  adding: chase_db_384_384_dice_bce_0_4__hvr_0_4_1/split_2/train/mask/_Image_13R_0_3.png (deflated 12%)\n",
            "  adding: chase_db_384_384_dice_bce_0_4__hvr_0_4_1/split_2/train/mask/_Image_08R_1_7.png (deflated 17%)\n",
            "  adding: chase_db_384_384_dice_bce_0_4__hvr_0_4_1/split_2/train/mask/_Image_10L_1_3.png (deflated 11%)\n",
            "  adding: chase_db_384_384_dice_bce_0_4__hvr_0_4_1/split_2/train/mask/_Image_03R_3_7.png (deflated 14%)\n",
            "  adding: chase_db_384_384_dice_bce_0_4__hvr_0_4_1/split_2/train/mask/_Image_06L_0_6.png (deflated 21%)\n",
            "  adding: chase_db_384_384_dice_bce_0_4__hvr_0_4_1/split_2/train/mask/_Image_14L_1_8.png (deflated 31%)\n",
            "  adding: chase_db_384_384_dice_bce_0_4__hvr_0_4_1/split_2/train/mask/_Image_01R_1_0.png (deflated 31%)\n",
            "  adding: chase_db_384_384_dice_bce_0_4__hvr_0_4_1/split_2/train/mask/_Image_05R_2_4.png (deflated 13%)\n",
            "  adding: chase_db_384_384_dice_bce_0_4__hvr_0_4_1/split_2/train/mask/_Image_10R_2_6.png (deflated 25%)\n",
            "  adding: chase_db_384_384_dice_bce_0_4__hvr_0_4_1/split_2/train/mask/_Image_08L_2_5.png (deflated 8%)\n",
            "  adding: chase_db_384_384_dice_bce_0_4__hvr_0_4_1/split_2/train/mask/_Image_10L_2_8.png (deflated 30%)\n",
            "  adding: chase_db_384_384_dice_bce_0_4__hvr_0_4_1/split_2/train/mask/_Image_07L_1_1.png (deflated 20%)\n",
            "  adding: chase_db_384_384_dice_bce_0_4__hvr_0_4_1/split_2/train/mask/_Image_05L_3_1.png (deflated 17%)\n",
            "  adding: chase_db_384_384_dice_bce_0_4__hvr_0_4_1/split_2/train/mask/_Image_04L_3_3.png (deflated 9%)\n",
            "  adding: chase_db_384_384_dice_bce_0_4__hvr_0_4_1/split_2/train/mask/_Image_10L_3_4.png (deflated 11%)\n",
            "  adding: chase_db_384_384_dice_bce_0_4__hvr_0_4_1/split_2/train/mask/_Image_05R_0_1.png (deflated 21%)\n",
            "  adding: chase_db_384_384_dice_bce_0_4__hvr_0_4_1/split_2/train/mask/_Image_04R_3_2.png (deflated 32%)\n",
            "  adding: chase_db_384_384_dice_bce_0_4__hvr_0_4_1/split_2/train/mask/_Image_10L_2_5.png (deflated 11%)\n",
            "  adding: chase_db_384_384_dice_bce_0_4__hvr_0_4_1/split_2/train/mask/_Image_14L_2_7.png (deflated 21%)\n",
            "  adding: chase_db_384_384_dice_bce_0_4__hvr_0_4_1/split_2/train/mask/_Image_14R_0_5.png (deflated 16%)\n",
            "  adding: chase_db_384_384_dice_bce_0_4__hvr_0_4_1/split_2/train/mask/_Image_13R_0_1.png (deflated 22%)\n",
            "  adding: chase_db_384_384_dice_bce_0_4__hvr_0_4_1/split_2/train/mask/_Image_08L_1_5.png (deflated 10%)\n",
            "  adding: chase_db_384_384_dice_bce_0_4__hvr_0_4_1/split_2/train/mask/_Image_14L_2_0.png (deflated 30%)\n",
            "  adding: chase_db_384_384_dice_bce_0_4__hvr_0_4_1/split_2/train/mask/_Image_03L_3_5.png (deflated 12%)\n",
            "  adding: chase_db_384_384_dice_bce_0_4__hvr_0_4_1/split_2/train/mask/_Image_09R_2_3.png (deflated 32%)\n",
            "  adding: chase_db_384_384_dice_bce_0_4__hvr_0_4_1/split_2/train/mask/_Image_03L_2_5.png (deflated 12%)\n",
            "  adding: chase_db_384_384_dice_bce_0_4__hvr_0_4_1/split_2/train/mask/_Image_10L_3_7.png (deflated 18%)\n",
            "  adding: chase_db_384_384_dice_bce_0_4__hvr_0_4_1/split_2/train/mask/_Image_06L_3_1.png (deflated 17%)\n",
            "  adding: chase_db_384_384_dice_bce_0_4__hvr_0_4_1/split_2/train/mask/_Image_04L_2_8.png (deflated 46%)\n",
            "  adding: chase_db_384_384_dice_bce_0_4__hvr_0_4_1/split_2/train/mask/_Image_01R_2_1.png (deflated 18%)\n",
            "  adding: chase_db_384_384_dice_bce_0_4__hvr_0_4_1/split_2/train/mask/_Image_14R_2_2.png (deflated 38%)\n",
            "  adding: chase_db_384_384_dice_bce_0_4__hvr_0_4_1/split_2/train/mask/_Image_03R_3_0.png (deflated 16%)\n",
            "  adding: chase_db_384_384_dice_bce_0_4__hvr_0_4_1/split_2/train/mask/_Image_13R_3_1.png (deflated 18%)\n",
            "  adding: chase_db_384_384_dice_bce_0_4__hvr_0_4_1/split_2/train/mask/_Image_05L_0_2.png (deflated 22%)\n",
            "  adding: chase_db_384_384_dice_bce_0_4__hvr_0_4_1/split_2/train/mask/_Image_05L_1_1.png (deflated 20%)\n",
            "  adding: chase_db_384_384_dice_bce_0_4__hvr_0_4_1/split_2/train/mask/_Image_07R_1_4.png (deflated 10%)\n",
            "  adding: chase_db_384_384_dice_bce_0_4__hvr_0_4_1/split_2/train/mask/_Image_14L_0_8.png (deflated 27%)\n",
            "  adding: chase_db_384_384_dice_bce_0_4__hvr_0_4_1/split_2/train/mask/_Image_06R_0_0.png (deflated 26%)\n",
            "  adding: chase_db_384_384_dice_bce_0_4__hvr_0_4_1/split_2/train/mask/_Image_05L_3_5.png (deflated 8%)\n",
            "  adding: chase_db_384_384_dice_bce_0_4__hvr_0_4_1/split_2/train/mask/_Image_09L_2_7.png (deflated 22%)\n",
            "  adding: chase_db_384_384_dice_bce_0_4__hvr_0_4_1/split_2/train/mask/_Image_09R_2_1.png (deflated 18%)\n",
            "  adding: chase_db_384_384_dice_bce_0_4__hvr_0_4_1/split_2/train/mask/_Image_04R_1_2.png (deflated 31%)\n",
            "  adding: chase_db_384_384_dice_bce_0_4__hvr_0_4_1/split_2/train/mask/_Image_05R_3_1.png (deflated 19%)\n",
            "  adding: chase_db_384_384_dice_bce_0_4__hvr_0_4_1/split_2/train/mask/_Image_04R_1_7.png (deflated 19%)\n",
            "  adding: chase_db_384_384_dice_bce_0_4__hvr_0_4_1/split_2/train/mask/_Image_08L_1_6.png (deflated 27%)\n",
            "  adding: chase_db_384_384_dice_bce_0_4__hvr_0_4_1/split_2/train/mask/_Image_14L_0_1.png (deflated 20%)\n",
            "  adding: chase_db_384_384_dice_bce_0_4__hvr_0_4_1/split_2/train/mask/_Image_08L_0_3.png (deflated 9%)\n",
            "  adding: chase_db_384_384_dice_bce_0_4__hvr_0_4_1/split_2/train/mask/_Image_03L_3_3.png (deflated 11%)\n",
            "  adding: chase_db_384_384_dice_bce_0_4__hvr_0_4_1/split_2/train/mask/_Image_10L_3_0.png (deflated 31%)\n",
            "  adding: chase_db_384_384_dice_bce_0_4__hvr_0_4_1/split_2/train/mask/_Image_07R_0_0.png (deflated 43%)\n",
            "  adding: chase_db_384_384_dice_bce_0_4__hvr_0_4_1/split_2/train/mask/_Image_03L_0_6.png (deflated 24%)\n",
            "  adding: chase_db_384_384_dice_bce_0_4__hvr_0_4_1/split_2/train/mask/_Image_10L_0_0.png (deflated 35%)\n",
            "  adding: chase_db_384_384_dice_bce_0_4__hvr_0_4_1/split_2/train/mask/_Image_03R_1_3.png (deflated 12%)\n",
            "  adding: chase_db_384_384_dice_bce_0_4__hvr_0_4_1/split_2/train/mask/_Image_08R_1_0.png (deflated 27%)\n",
            "  adding: chase_db_384_384_dice_bce_0_4__hvr_0_4_1/split_2/train/mask/_Image_06R_0_8.png (deflated 34%)\n",
            "  adding: chase_db_384_384_dice_bce_0_4__hvr_0_4_1/split_2/train/mask/_Image_07R_3_5.png (deflated 8%)\n",
            "  adding: chase_db_384_384_dice_bce_0_4__hvr_0_4_1/split_2/train/mask/_Image_08L_3_0.png (deflated 18%)\n",
            "  adding: chase_db_384_384_dice_bce_0_4__hvr_0_4_1/split_2/train/mask/_Image_13R_1_5.png (deflated 12%)\n",
            "  adding: chase_db_384_384_dice_bce_0_4__hvr_0_4_1/split_2/train/mask/_Image_07L_0_4.png (deflated 11%)\n",
            "  adding: chase_db_384_384_dice_bce_0_4__hvr_0_4_1/split_2/train/mask/_Image_03R_2_6.png (deflated 30%)\n",
            "  adding: chase_db_384_384_dice_bce_0_4__hvr_0_4_1/split_2/train/mask/_Image_13R_1_6.png (deflated 34%)\n",
            "  adding: chase_db_384_384_dice_bce_0_4__hvr_0_4_1/split_2/train/mask/_Image_09L_0_1.png (deflated 22%)\n",
            "  adding: chase_db_384_384_dice_bce_0_4__hvr_0_4_1/split_2/train/mask/_Image_03L_2_6.png (deflated 25%)\n",
            "  adding: chase_db_384_384_dice_bce_0_4__hvr_0_4_1/split_2/train/mask/_Image_08R_3_4.png (deflated 9%)\n",
            "  adding: chase_db_384_384_dice_bce_0_4__hvr_0_4_1/split_2/train/mask/_Image_04R_0_0.png (deflated 31%)\n",
            "  adding: chase_db_384_384_dice_bce_0_4__hvr_0_4_1/split_2/train/mask/_Image_07R_1_0.png (deflated 36%)\n",
            "  adding: chase_db_384_384_dice_bce_0_4__hvr_0_4_1/split_2/train/mask/_Image_01R_0_5.png (deflated 13%)\n",
            "  adding: chase_db_384_384_dice_bce_0_4__hvr_0_4_1/split_2/train/mask/_Image_08L_1_4.png (deflated 14%)\n",
            "  adding: chase_db_384_384_dice_bce_0_4__hvr_0_4_1/split_2/train/mask/_Image_07L_2_1.png (deflated 18%)\n",
            "  adding: chase_db_384_384_dice_bce_0_4__hvr_0_4_1/split_2/train/mask/_Image_14L_2_8.png (deflated 37%)\n",
            "  adding: chase_db_384_384_dice_bce_0_4__hvr_0_4_1/split_2/train/mask/_Image_03L_0_8.png (deflated 24%)\n",
            "  adding: chase_db_384_384_dice_bce_0_4__hvr_0_4_1/split_2/train/mask/_Image_02L_1_4.png (deflated 13%)\n",
            "  adding: chase_db_384_384_dice_bce_0_4__hvr_0_4_1/split_2/train/mask/_Image_10R_0_0.png (deflated 25%)\n",
            "  adding: chase_db_384_384_dice_bce_0_4__hvr_0_4_1/split_2/train/mask/_Image_06R_3_4.png (deflated 13%)\n",
            "  adding: chase_db_384_384_dice_bce_0_4__hvr_0_4_1/split_2/train/mask/_Image_09R_0_8.png (deflated 34%)\n",
            "  adding: chase_db_384_384_dice_bce_0_4__hvr_0_4_1/split_2/train/mask/_Image_09R_3_8.png (deflated 44%)\n",
            "  adding: chase_db_384_384_dice_bce_0_4__hvr_0_4_1/split_2/train/mask/_Image_08L_2_1.png (deflated 21%)\n",
            "  adding: chase_db_384_384_dice_bce_0_4__hvr_0_4_1/split_2/train/mask/_Image_14R_3_6.png (deflated 88%)\n",
            "  adding: chase_db_384_384_dice_bce_0_4__hvr_0_4_1/split_2/train/mask/_Image_08R_2_7.png (deflated 22%)\n",
            "  adding: chase_db_384_384_dice_bce_0_4__hvr_0_4_1/split_2/train/mask/_Image_08L_3_5.png (deflated 9%)\n",
            "  adding: chase_db_384_384_dice_bce_0_4__hvr_0_4_1/split_2/train/mask/_Image_08L_1_0.png (deflated 29%)\n",
            "  adding: chase_db_384_384_dice_bce_0_4__hvr_0_4_1/split_2/train/mask/_Image_07L_2_3.png (deflated 14%)\n",
            "  adding: chase_db_384_384_dice_bce_0_4__hvr_0_4_1/split_2/train/mask/_Image_08L_1_8.png (deflated 27%)\n",
            "  adding: chase_db_384_384_dice_bce_0_4__hvr_0_4_1/split_2/train/mask/_Image_04L_2_2.png (deflated 54%)\n",
            "  adding: chase_db_384_384_dice_bce_0_4__hvr_0_4_1/split_2/train/mask/_Image_14R_1_6.png (deflated 37%)\n",
            "  adding: chase_db_384_384_dice_bce_0_4__hvr_0_4_1/split_2/train/mask/_Image_03R_2_3.png (deflated 15%)\n",
            "  adding: chase_db_384_384_dice_bce_0_4__hvr_0_4_1/split_2/train/mask/_Image_06L_2_1.png (deflated 22%)\n",
            "  adding: chase_db_384_384_dice_bce_0_4__hvr_0_4_1/split_2/train/mask/_Image_03R_3_5.png (deflated 9%)\n",
            "  adding: chase_db_384_384_dice_bce_0_4__hvr_0_4_1/split_2/train/mask/_Image_14L_1_2.png (deflated 24%)\n",
            "  adding: chase_db_384_384_dice_bce_0_4__hvr_0_4_1/split_2/train/mask/_Image_05R_3_8.png (deflated 17%)\n",
            "  adding: chase_db_384_384_dice_bce_0_4__hvr_0_4_1/split_2/train/mask/_Image_06R_3_5.png (deflated 12%)\n",
            "  adding: chase_db_384_384_dice_bce_0_4__hvr_0_4_1/split_2/train/mask/_Image_04L_0_2.png (deflated 46%)\n",
            "  adding: chase_db_384_384_dice_bce_0_4__hvr_0_4_1/split_2/train/mask/_Image_02R_2_6.png (deflated 27%)\n",
            "  adding: chase_db_384_384_dice_bce_0_4__hvr_0_4_1/split_2/train/mask/_Image_10R_1_1.png (deflated 21%)\n",
            "  adding: chase_db_384_384_dice_bce_0_4__hvr_0_4_1/split_2/train/mask/_Image_03R_2_0.png (deflated 29%)\n",
            "  adding: chase_db_384_384_dice_bce_0_4__hvr_0_4_1/split_2/train/mask/_Image_02R_0_7.png (deflated 16%)\n",
            "  adding: chase_db_384_384_dice_bce_0_4__hvr_0_4_1/split_2/train/mask/_Image_14R_1_5.png (deflated 19%)\n",
            "  adding: chase_db_384_384_dice_bce_0_4__hvr_0_4_1/split_2/train/mask/_Image_03R_3_1.png (deflated 22%)\n",
            "  adding: chase_db_384_384_dice_bce_0_4__hvr_0_4_1/split_2/train/mask/_Image_04L_0_8.png (deflated 54%)\n",
            "  adding: chase_db_384_384_dice_bce_0_4__hvr_0_4_1/split_2/train/mask/_Image_04R_0_2.png (deflated 32%)\n",
            "  adding: chase_db_384_384_dice_bce_0_4__hvr_0_4_1/split_2/train/mask/_Image_05R_0_6.png (deflated 20%)\n",
            "  adding: chase_db_384_384_dice_bce_0_4__hvr_0_4_1/split_2/train/mask/_Image_09R_3_7.png (deflated 18%)\n",
            "  adding: chase_db_384_384_dice_bce_0_4__hvr_0_4_1/split_2/train/mask/_Image_08L_1_3.png (deflated 9%)\n",
            "  adding: chase_db_384_384_dice_bce_0_4__hvr_0_4_1/split_2/train/mask/_Image_03L_0_4.png (deflated 15%)\n",
            "  adding: chase_db_384_384_dice_bce_0_4__hvr_0_4_1/split_2/train/mask/_Image_09L_2_2.png (deflated 24%)\n",
            "  adding: chase_db_384_384_dice_bce_0_4__hvr_0_4_1/split_2/train/mask/_Image_06R_1_1.png (deflated 21%)\n",
            "  adding: chase_db_384_384_dice_bce_0_4__hvr_0_4_1/split_2/train/mask/_Image_01R_1_6.png (deflated 42%)\n",
            "  adding: chase_db_384_384_dice_bce_0_4__hvr_0_4_1/split_2/train/mask/_Image_08R_0_4.png (deflated 12%)\n",
            "  adding: chase_db_384_384_dice_bce_0_4__hvr_0_4_1/split_2/train/mask/_Image_10L_3_6.png (deflated 33%)\n",
            "  adding: chase_db_384_384_dice_bce_0_4__hvr_0_4_1/split_2/train/mask/_Image_03R_3_8.png (deflated 19%)\n",
            "  adding: chase_db_384_384_dice_bce_0_4__hvr_0_4_1/split_2/train/mask/_Image_03L_3_1.png (deflated 20%)\n",
            "  adding: chase_db_384_384_dice_bce_0_4__hvr_0_4_1/split_2/train/mask/_Image_01R_3_2.png (deflated 31%)\n",
            "  adding: chase_db_384_384_dice_bce_0_4__hvr_0_4_1/split_2/train/mask/_Image_04R_3_0.png (deflated 14%)\n",
            "  adding: chase_db_384_384_dice_bce_0_4__hvr_0_4_1/split_2/train/mask/_Image_13R_2_0.png (deflated 27%)\n",
            "  adding: chase_db_384_384_dice_bce_0_4__hvr_0_4_1/split_2/train/mask/_Image_04R_0_8.png (deflated 45%)\n",
            "  adding: chase_db_384_384_dice_bce_0_4__hvr_0_4_1/split_2/train/mask/_Image_14L_0_2.png (deflated 36%)\n",
            "  adding: chase_db_384_384_dice_bce_0_4__hvr_0_4_1/split_2/train/mask/_Image_02R_3_6.png (deflated 13%)\n",
            "  adding: chase_db_384_384_dice_bce_0_4__hvr_0_4_1/split_2/train/mask/_Image_01L_1_7.png (deflated 21%)\n",
            "  adding: chase_db_384_384_dice_bce_0_4__hvr_0_4_1/split_2/train/mask/_Image_06L_3_4.png (deflated 13%)\n",
            "  adding: chase_db_384_384_dice_bce_0_4__hvr_0_4_1/split_2/train/mask/_Image_10R_0_5.png (deflated 18%)\n",
            "  adding: chase_db_384_384_dice_bce_0_4__hvr_0_4_1/split_2/train/mask/_Image_01L_0_6.png (deflated 22%)\n",
            "  adding: chase_db_384_384_dice_bce_0_4__hvr_0_4_1/split_2/train/mask/_Image_13R_3_6.png (deflated 60%)\n",
            "  adding: chase_db_384_384_dice_bce_0_4__hvr_0_4_1/split_2/train/mask/_Image_10L_0_3.png (deflated 16%)\n",
            "  adding: chase_db_384_384_dice_bce_0_4__hvr_0_4_1/split_2/train/mask/_Image_09R_0_3.png (deflated 31%)\n",
            "  adding: chase_db_384_384_dice_bce_0_4__hvr_0_4_1/split_2/train/mask/_Image_10R_1_8.png (deflated 25%)\n",
            "  adding: chase_db_384_384_dice_bce_0_4__hvr_0_4_1/split_2/train/mask/_Image_10R_2_0.png (deflated 25%)\n",
            "  adding: chase_db_384_384_dice_bce_0_4__hvr_0_4_1/split_2/train/mask/_Image_08R_1_6.png (deflated 31%)\n",
            "  adding: chase_db_384_384_dice_bce_0_4__hvr_0_4_1/split_2/train/mask/_Image_02L_3_8.png (deflated 21%)\n",
            "  adding: chase_db_384_384_dice_bce_0_4__hvr_0_4_1/split_2/train/mask/_Image_02R_3_2.png (deflated 18%)\n",
            "  adding: chase_db_384_384_dice_bce_0_4__hvr_0_4_1/split_2/train/mask/_Image_14R_0_7.png (deflated 19%)\n",
            "  adding: chase_db_384_384_dice_bce_0_4__hvr_0_4_1/split_2/train/mask/_Image_04R_3_5.png (deflated 11%)\n",
            "  adding: chase_db_384_384_dice_bce_0_4__hvr_0_4_1/split_2/train/mask/_Image_14R_0_6.png (deflated 74%)\n",
            "  adding: chase_db_384_384_dice_bce_0_4__hvr_0_4_1/split_2/train/mask/_Image_09L_0_7.png (deflated 19%)\n",
            "  adding: chase_db_384_384_dice_bce_0_4__hvr_0_4_1/split_2/train/mask/_Image_06L_1_6.png (deflated 29%)\n",
            "  adding: chase_db_384_384_dice_bce_0_4__hvr_0_4_1/split_2/train/mask/_Image_13R_1_8.png (deflated 28%)\n",
            "  adding: chase_db_384_384_dice_bce_0_4__hvr_0_4_1/split_2/train/mask/_Image_09L_3_3.png (deflated 6%)\n",
            "  adding: chase_db_384_384_dice_bce_0_4__hvr_0_4_1/split_2/train/mask/_Image_13R_0_0.png (deflated 26%)\n",
            "  adding: chase_db_384_384_dice_bce_0_4__hvr_0_4_1/split_2/train/mask/_Image_05L_3_0.png (deflated 17%)\n",
            "  adding: chase_db_384_384_dice_bce_0_4__hvr_0_4_1/split_2/train/mask/_Image_09R_3_6.png (deflated 68%)\n",
            "  adding: chase_db_384_384_dice_bce_0_4__hvr_0_4_1/split_2/train/mask/_Image_05L_1_2.png (deflated 22%)\n",
            "  adding: chase_db_384_384_dice_bce_0_4__hvr_0_4_1/split_2/train/mask/_Image_01L_3_1.png (deflated 15%)\n",
            "  adding: chase_db_384_384_dice_bce_0_4__hvr_0_4_1/split_2/train/mask/_Image_06R_1_0.png (deflated 26%)\n",
            "  adding: chase_db_384_384_dice_bce_0_4__hvr_0_4_1/split_2/train/mask/_Image_09L_0_0.png (deflated 28%)\n",
            "  adding: chase_db_384_384_dice_bce_0_4__hvr_0_4_1/split_2/train/mask/_Image_05L_0_0.png (deflated 23%)\n",
            "  adding: chase_db_384_384_dice_bce_0_4__hvr_0_4_1/split_2/train/mask/_Image_06R_2_2.png (deflated 33%)\n",
            "  adding: chase_db_384_384_dice_bce_0_4__hvr_0_4_1/split_2/train/mask/_Image_14R_3_2.png (deflated 29%)\n",
            "  adding: chase_db_384_384_dice_bce_0_4__hvr_0_4_1/split_2/train/mask/_Image_05R_2_8.png (deflated 28%)\n",
            "  adding: chase_db_384_384_dice_bce_0_4__hvr_0_4_1/split_2/train/mask/_Image_10L_2_2.png (deflated 31%)\n",
            "  adding: chase_db_384_384_dice_bce_0_4__hvr_0_4_1/split_2/train/mask/_Image_02R_1_8.png (deflated 28%)\n",
            "  adding: chase_db_384_384_dice_bce_0_4__hvr_0_4_1/split_2/train/mask/_Image_01R_3_3.png (deflated 8%)\n",
            "  adding: chase_db_384_384_dice_bce_0_4__hvr_0_4_1/split_2/train/mask/_Image_06R_3_6.png (deflated 37%)\n",
            "  adding: chase_db_384_384_dice_bce_0_4__hvr_0_4_1/split_2/train/mask/_Image_13R_3_0.png (deflated 17%)\n",
            "  adding: chase_db_384_384_dice_bce_0_4__hvr_0_4_1/split_2/train/mask/_Image_01L_0_5.png (deflated 9%)\n",
            "  adding: chase_db_384_384_dice_bce_0_4__hvr_0_4_1/split_2/train/mask/_Image_09L_1_0.png (deflated 40%)\n",
            "  adding: chase_db_384_384_dice_bce_0_4__hvr_0_4_1/split_2/train/mask/_Image_09R_1_1.png (deflated 25%)\n",
            "  adding: chase_db_384_384_dice_bce_0_4__hvr_0_4_1/split_2/train/mask/_Image_10L_0_2.png (deflated 30%)\n",
            "  adding: chase_db_384_384_dice_bce_0_4__hvr_0_4_1/split_2/train/mask/_Image_02R_0_0.png (deflated 26%)\n",
            "  adding: chase_db_384_384_dice_bce_0_4__hvr_0_4_1/split_2/train/mask/_Image_02L_3_6.png (deflated 25%)\n",
            "  adding: chase_db_384_384_dice_bce_0_4__hvr_0_4_1/split_2/train/mask/_Image_13R_0_2.png (deflated 25%)\n",
            "  adding: chase_db_384_384_dice_bce_0_4__hvr_0_4_1/split_2/train/mask/_Image_10R_2_7.png (deflated 22%)\n",
            "  adding: chase_db_384_384_dice_bce_0_4__hvr_0_4_1/split_2/train/mask/_Image_14L_1_6.png (deflated 27%)\n",
            "  adding: chase_db_384_384_dice_bce_0_4__hvr_0_4_1/split_2/train/mask/_Image_05L_0_5.png (deflated 12%)\n",
            "  adding: chase_db_384_384_dice_bce_0_4__hvr_0_4_1/split_2/train/mask/_Image_08R_0_0.png (deflated 32%)\n",
            "  adding: chase_db_384_384_dice_bce_0_4__hvr_0_4_1/split_2/train/mask/_Image_10R_2_5.png (deflated 17%)\n",
            "  adding: chase_db_384_384_dice_bce_0_4__hvr_0_4_1/split_2/train/mask/_Image_01R_3_1.png (deflated 19%)\n",
            "  adding: chase_db_384_384_dice_bce_0_4__hvr_0_4_1/split_2/train/mask/_Image_01L_0_8.png (deflated 26%)\n",
            "  adding: chase_db_384_384_dice_bce_0_4__hvr_0_4_1/split_2/train/mask/_Image_08L_0_1.png (deflated 24%)\n",
            "  adding: chase_db_384_384_dice_bce_0_4__hvr_0_4_1/split_2/train/mask/_Image_04L_1_3.png (deflated 15%)\n",
            "  adding: chase_db_384_384_dice_bce_0_4__hvr_0_4_1/split_2/train/mask/_Image_02L_1_2.png (deflated 25%)\n",
            "  adding: chase_db_384_384_dice_bce_0_4__hvr_0_4_1/split_2/train/mask/_Image_01R_1_7.png (deflated 18%)\n",
            "  adding: chase_db_384_384_dice_bce_0_4__hvr_0_4_1/split_2/train/mask/_Image_14R_0_0.png (deflated 31%)\n",
            "  adding: chase_db_384_384_dice_bce_0_4__hvr_0_4_1/split_2/train/mask/_Image_05L_2_5.png (deflated 11%)\n",
            "  adding: chase_db_384_384_dice_bce_0_4__hvr_0_4_1/split_2/train/mask/_Image_10R_2_4.png (deflated 14%)\n",
            "  adding: chase_db_384_384_dice_bce_0_4__hvr_0_4_1/split_2/train/mask/_Image_14L_0_4.png (deflated 14%)\n",
            "  adding: chase_db_384_384_dice_bce_0_4__hvr_0_4_1/split_2/train/mask/_Image_10R_2_2.png (deflated 36%)\n",
            "  adding: chase_db_384_384_dice_bce_0_4__hvr_0_4_1/split_2/train/mask/_Image_14R_2_8.png (deflated 32%)\n",
            "  adding: chase_db_384_384_dice_bce_0_4__hvr_0_4_1/split_2/train/mask/_Image_06L_2_6.png (deflated 27%)\n",
            "  adding: chase_db_384_384_dice_bce_0_4__hvr_0_4_1/split_2/train/mask/_Image_06L_1_5.png (deflated 12%)\n",
            "  adding: chase_db_384_384_dice_bce_0_4__hvr_0_4_1/split_2/train/mask/_Image_07L_1_0.png (deflated 24%)\n",
            "  adding: chase_db_384_384_dice_bce_0_4__hvr_0_4_1/split_2/train/mask/_Image_03R_2_8.png (deflated 25%)\n",
            "  adding: chase_db_384_384_dice_bce_0_4__hvr_0_4_1/split_2/train/mask/_Image_01R_1_5.png (deflated 11%)\n",
            "  adding: chase_db_384_384_dice_bce_0_4__hvr_0_4_1/split_2/train/mask/_Image_01L_1_4.png (deflated 13%)\n",
            "  adding: chase_db_384_384_dice_bce_0_4__hvr_0_4_1/split_2/train/mask/_Image_04R_2_5.png (deflated 17%)\n",
            "  adding: chase_db_384_384_dice_bce_0_4__hvr_0_4_1/split_2/train/mask/_Image_04L_0_3.png (deflated 10%)\n",
            "  adding: chase_db_384_384_dice_bce_0_4__hvr_0_4_1/split_2/train/mask/_Image_08L_2_8.png (deflated 30%)\n",
            "  adding: chase_db_384_384_dice_bce_0_4__hvr_0_4_1/split_2/train/mask/_Image_06R_2_6.png (deflated 26%)\n",
            "  adding: chase_db_384_384_dice_bce_0_4__hvr_0_4_1/split_2/train/mask/_Image_14L_3_0.png (deflated 19%)\n",
            "  adding: chase_db_384_384_dice_bce_0_4__hvr_0_4_1/split_2/train/mask/_Image_04R_3_4.png (deflated 12%)\n",
            "  adding: chase_db_384_384_dice_bce_0_4__hvr_0_4_1/split_2/train/mask/_Image_14R_3_3.png (deflated 15%)\n",
            "  adding: chase_db_384_384_dice_bce_0_4__hvr_0_4_1/split_2/train/mask/_Image_09R_0_4.png (deflated 14%)\n",
            "  adding: chase_db_384_384_dice_bce_0_4__hvr_0_4_1/split_2/train/mask/_Image_10R_0_1.png (deflated 22%)\n",
            "  adding: chase_db_384_384_dice_bce_0_4__hvr_0_4_1/split_2/train/mask/_Image_06L_1_2.png (deflated 29%)\n",
            "  adding: chase_db_384_384_dice_bce_0_4__hvr_0_4_1/split_2/train/mask/_Image_10R_0_7.png (deflated 18%)\n",
            "  adding: chase_db_384_384_dice_bce_0_4__hvr_0_4_1/split_2/train/mask/_Image_09R_1_0.png (deflated 30%)\n",
            "  adding: chase_db_384_384_dice_bce_0_4__hvr_0_4_1/split_2/train/mask/_Image_04L_3_1.png (deflated 18%)\n",
            "  adding: chase_db_384_384_dice_bce_0_4__hvr_0_4_1/split_2/train/mask/_Image_10L_1_6.png (deflated 31%)\n",
            "  adding: chase_db_384_384_dice_bce_0_4__hvr_0_4_1/split_2/train/mask/_Image_13R_0_8.png (deflated 34%)\n",
            "  adding: chase_db_384_384_dice_bce_0_4__hvr_0_4_1/split_2/train/mask/_Image_14L_3_1.png (deflated 19%)\n",
            "  adding: chase_db_384_384_dice_bce_0_4__hvr_0_4_1/split_2/train/mask/_Image_09R_3_0.png (deflated 27%)\n",
            "  adding: chase_db_384_384_dice_bce_0_4__hvr_0_4_1/split_2/train/mask/_Image_01L_2_7.png (deflated 21%)\n",
            "  adding: chase_db_384_384_dice_bce_0_4__hvr_0_4_1/split_2/train/mask/_Image_06R_1_8.png (deflated 40%)\n",
            "  adding: chase_db_384_384_dice_bce_0_4__hvr_0_4_1/split_2/train/mask/_Image_07L_3_2.png (deflated 28%)\n",
            "  adding: chase_db_384_384_dice_bce_0_4__hvr_0_4_1/split_2/train/mask/_Image_08L_1_7.png (deflated 22%)\n",
            "  adding: chase_db_384_384_dice_bce_0_4__hvr_0_4_1/split_2/train/mask/_Image_09R_1_7.png (deflated 18%)\n",
            "  adding: chase_db_384_384_dice_bce_0_4__hvr_0_4_1/split_2/train/mask/_Image_05R_0_2.png (deflated 28%)\n",
            "  adding: chase_db_384_384_dice_bce_0_4__hvr_0_4_1/split_2/train/mask/_Image_01L_1_3.png (deflated 9%)\n",
            "  adding: chase_db_384_384_dice_bce_0_4__hvr_0_4_1/split_2/train/mask/_Image_10L_2_0.png (deflated 29%)\n",
            "  adding: chase_db_384_384_dice_bce_0_4__hvr_0_4_1/split_2/train/mask/_Image_08L_0_8.png (deflated 28%)\n",
            "  adding: chase_db_384_384_dice_bce_0_4__hvr_0_4_1/split_2/train/mask/_Image_14R_3_8.png (deflated 19%)\n",
            "  adding: chase_db_384_384_dice_bce_0_4__hvr_0_4_1/split_2/train/mask/_Image_03R_0_3.png (deflated 15%)\n",
            "  adding: chase_db_384_384_dice_bce_0_4__hvr_0_4_1/split_2/train/mask/_Image_02L_1_7.png (deflated 18%)\n",
            "  adding: chase_db_384_384_dice_bce_0_4__hvr_0_4_1/split_2/train/mask/_Image_03L_1_0.png (deflated 22%)\n",
            "  adding: chase_db_384_384_dice_bce_0_4__hvr_0_4_1/split_2/train/mask/_Image_02L_3_1.png (deflated 22%)\n",
            "  adding: chase_db_384_384_dice_bce_0_4__hvr_0_4_1/split_2/train/mask/_Image_10L_3_2.png (deflated 26%)\n",
            "  adding: chase_db_384_384_dice_bce_0_4__hvr_0_4_1/split_2/train/mask/_Image_09R_3_2.png (deflated 41%)\n",
            "  adding: chase_db_384_384_dice_bce_0_4__hvr_0_4_1/split_2/train/mask/_Image_07R_2_0.png (deflated 20%)\n",
            "  adding: chase_db_384_384_dice_bce_0_4__hvr_0_4_1/split_2/train/mask/_Image_14R_1_4.png (deflated 17%)\n",
            "  adding: chase_db_384_384_dice_bce_0_4__hvr_0_4_1/split_2/train/mask/_Image_02R_3_3.png (deflated 9%)\n",
            "  adding: chase_db_384_384_dice_bce_0_4__hvr_0_4_1/split_2/train/mask/_Image_02L_2_6.png (deflated 24%)\n",
            "  adding: chase_db_384_384_dice_bce_0_4__hvr_0_4_1/split_2/train/mask/_Image_05R_3_4.png (deflated 11%)\n",
            "  adding: chase_db_384_384_dice_bce_0_4__hvr_0_4_1/split_2/train/mask/_Image_05L_2_8.png (deflated 22%)\n",
            "  adding: chase_db_384_384_dice_bce_0_4__hvr_0_4_1/split_2/train/mask/_Image_01L_0_7.png (deflated 20%)\n",
            "  adding: chase_db_384_384_dice_bce_0_4__hvr_0_4_1/split_2/train/mask/_Image_06L_2_2.png (deflated 30%)\n",
            "  adding: chase_db_384_384_dice_bce_0_4__hvr_0_4_1/split_2/train/mask/_Image_09L_2_3.png (deflated 7%)\n",
            "  adding: chase_db_384_384_dice_bce_0_4__hvr_0_4_1/split_2/train/mask/_Image_04R_3_6.png (deflated 20%)\n",
            "  adding: chase_db_384_384_dice_bce_0_4__hvr_0_4_1/split_2/train/mask/_Image_14L_2_5.png (deflated 11%)\n",
            "  adding: chase_db_384_384_dice_bce_0_4__hvr_0_4_1/split_2/train/mask/_Image_09R_3_3.png (deflated 18%)\n",
            "  adding: chase_db_384_384_dice_bce_0_4__hvr_0_4_1/split_2/train/mask/_Image_07L_3_1.png (deflated 17%)\n",
            "  adding: chase_db_384_384_dice_bce_0_4__hvr_0_4_1/split_2/train/mask/_Image_08L_3_3.png (deflated 6%)\n",
            "  adding: chase_db_384_384_dice_bce_0_4__hvr_0_4_1/split_2/train/mask/_Image_08R_0_8.png (deflated 32%)\n",
            "  adding: chase_db_384_384_dice_bce_0_4__hvr_0_4_1/split_2/train/mask/_Image_08L_3_1.png (deflated 23%)\n",
            "  adding: chase_db_384_384_dice_bce_0_4__hvr_0_4_1/split_2/train/mask/_Image_10L_1_1.png (deflated 16%)\n",
            "  adding: chase_db_384_384_dice_bce_0_4__hvr_0_4_1/split_2/train/mask/_Image_06R_0_3.png (deflated 11%)\n",
            "  adding: chase_db_384_384_dice_bce_0_4__hvr_0_4_1/split_2/train/mask/_Image_14L_2_6.png (deflated 22%)\n",
            "  adding: chase_db_384_384_dice_bce_0_4__hvr_0_4_1/split_2/train/mask/_Image_01R_2_4.png (deflated 12%)\n",
            "  adding: chase_db_384_384_dice_bce_0_4__hvr_0_4_1/split_2/train/mask/_Image_04L_1_0.png (deflated 45%)\n",
            "  adding: chase_db_384_384_dice_bce_0_4__hvr_0_4_1/split_2/train/mask/_Image_08R_1_4.png (deflated 12%)\n",
            "  adding: chase_db_384_384_dice_bce_0_4__hvr_0_4_1/split_2/train/mask/_Image_10L_0_4.png (deflated 13%)\n",
            "  adding: chase_db_384_384_dice_bce_0_4__hvr_0_4_1/split_2/train/mask/_Image_13R_0_5.png (deflated 11%)\n",
            "  adding: chase_db_384_384_dice_bce_0_4__hvr_0_4_1/split_2/train/mask/_Image_08R_2_3.png (deflated 15%)\n",
            "  adding: chase_db_384_384_dice_bce_0_4__hvr_0_4_1/split_2/train/mask/_Image_10R_3_8.png (deflated 22%)\n",
            "  adding: chase_db_384_384_dice_bce_0_4__hvr_0_4_1/split_2/train/mask/_Image_01L_2_6.png (deflated 23%)\n",
            "  adding: chase_db_384_384_dice_bce_0_4__hvr_0_4_1/split_2/train/mask/_Image_04L_1_8.png (deflated 22%)\n",
            "  adding: chase_db_384_384_dice_bce_0_4__hvr_0_4_1/split_2/train/mask/_Image_08R_2_8.png (deflated 27%)\n",
            "  adding: chase_db_384_384_dice_bce_0_4__hvr_0_4_1/split_2/train/mask/_Image_01L_0_4.png (deflated 12%)\n",
            "  adding: chase_db_384_384_dice_bce_0_4__hvr_0_4_1/split_2/train/mask/_Image_07R_1_5.png (deflated 7%)\n",
            "  adding: chase_db_384_384_dice_bce_0_4__hvr_0_4_1/split_2/train/mask/_Image_07R_1_7.png (deflated 16%)\n",
            "  adding: chase_db_384_384_dice_bce_0_4__hvr_0_4_1/split_2/train/mask/_Image_06L_2_7.png (deflated 20%)\n",
            "  adding: chase_db_384_384_dice_bce_0_4__hvr_0_4_1/split_2/train/mask/_Image_14L_3_5.png (deflated 8%)\n",
            "  adding: chase_db_384_384_dice_bce_0_4__hvr_0_4_1/split_2/train/mask/_Image_01R_1_2.png (deflated 24%)\n",
            "  adding: chase_db_384_384_dice_bce_0_4__hvr_0_4_1/split_2/train/mask/_Image_05L_3_4.png (deflated 10%)\n",
            "  adding: chase_db_384_384_dice_bce_0_4__hvr_0_4_1/split_2/train/mask/_Image_07L_1_6.png (deflated 25%)\n",
            "  adding: chase_db_384_384_dice_bce_0_4__hvr_0_4_1/split_2/train/mask/_Image_14R_2_1.png (deflated 19%)\n",
            "  adding: chase_db_384_384_dice_bce_0_4__hvr_0_4_1/split_2/train/mask/_Image_01L_2_2.png (deflated 26%)\n",
            "  adding: chase_db_384_384_dice_bce_0_4__hvr_0_4_1/split_2/train/mask/_Image_01R_1_4.png (deflated 13%)\n",
            "  adding: chase_db_384_384_dice_bce_0_4__hvr_0_4_1/split_2/train/mask/_Image_07L_0_3.png (deflated 15%)\n",
            "  adding: chase_db_384_384_dice_bce_0_4__hvr_0_4_1/split_2/train/mask/_Image_05R_1_4.png (deflated 13%)\n",
            "  adding: chase_db_384_384_dice_bce_0_4__hvr_0_4_1/split_2/train/mask/_Image_08R_3_7.png (deflated 17%)\n",
            "  adding: chase_db_384_384_dice_bce_0_4__hvr_0_4_1/split_2/train/mask/_Image_03L_2_7.png (deflated 21%)\n",
            "  adding: chase_db_384_384_dice_bce_0_4__hvr_0_4_1/split_2/train/mask/_Image_06L_1_4.png (deflated 12%)\n",
            "  adding: chase_db_384_384_dice_bce_0_4__hvr_0_4_1/split_2/train/mask/_Image_09L_3_6.png (deflated 43%)\n",
            "  adding: chase_db_384_384_dice_bce_0_4__hvr_0_4_1/split_2/train/mask/_Image_09L_2_6.png (deflated 28%)\n",
            "  adding: chase_db_384_384_dice_bce_0_4__hvr_0_4_1/split_2/train/mask/_Image_07R_3_6.png (deflated 23%)\n",
            "  adding: chase_db_384_384_dice_bce_0_4__hvr_0_4_1/split_2/train/mask/_Image_06R_0_4.png (deflated 15%)\n",
            "  adding: chase_db_384_384_dice_bce_0_4__hvr_0_4_1/split_2/train/mask/_Image_02R_2_3.png (deflated 11%)\n",
            "  adding: chase_db_384_384_dice_bce_0_4__hvr_0_4_1/split_2/train/mask/_Image_05L_0_1.png (deflated 21%)\n",
            "  adding: chase_db_384_384_dice_bce_0_4__hvr_0_4_1/split_2/train/mask/_Image_13R_2_3.png (deflated 12%)\n",
            "  adding: chase_db_384_384_dice_bce_0_4__hvr_0_4_1/split_2/train/mask/_Image_03R_1_2.png (deflated 30%)\n",
            "  adding: chase_db_384_384_dice_bce_0_4__hvr_0_4_1/split_2/train/mask/_Image_14L_1_5.png (deflated 13%)\n",
            "  adding: chase_db_384_384_dice_bce_0_4__hvr_0_4_1/split_2/train/mask/_Image_06L_2_5.png (deflated 12%)\n",
            "  adding: chase_db_384_384_dice_bce_0_4__hvr_0_4_1/split_2/train/mask/_Image_09R_0_6.png (deflated 47%)\n",
            "  adding: chase_db_384_384_dice_bce_0_4__hvr_0_4_1/split_2/train/mask/_Image_01R_2_6.png (deflated 24%)\n",
            "  adding: chase_db_384_384_dice_bce_0_4__hvr_0_4_1/split_2/train/mask/_Image_10R_1_4.png (deflated 13%)\n",
            "  adding: chase_db_384_384_dice_bce_0_4__hvr_0_4_1/split_2/train/mask/_Image_14R_3_7.png (deflated 20%)\n",
            "  adding: chase_db_384_384_dice_bce_0_4__hvr_0_4_1/split_2/train/mask/_Image_02L_1_1.png (deflated 20%)\n",
            "  adding: chase_db_384_384_dice_bce_0_4__hvr_0_4_1/split_2/train/mask/_Image_06R_2_1.png (deflated 16%)\n",
            "  adding: chase_db_384_384_dice_bce_0_4__hvr_0_4_1/split_2/train/mask/_Image_07R_3_1.png (deflated 16%)\n",
            "  adding: chase_db_384_384_dice_bce_0_4__hvr_0_4_1/split_2/train/mask/_Image_01R_3_6.png (deflated 47%)\n",
            "  adding: chase_db_384_384_dice_bce_0_4__hvr_0_4_1/split_2/train/mask/_Image_03R_0_1.png (deflated 18%)\n",
            "  adding: chase_db_384_384_dice_bce_0_4__hvr_0_4_1/split_2/train/mask/_Image_02R_3_8.png (deflated 20%)\n",
            "  adding: chase_db_384_384_dice_bce_0_4__hvr_0_4_1/split_2/train/mask/_Image_01R_2_7.png (deflated 20%)\n",
            "  adding: chase_db_384_384_dice_bce_0_4__hvr_0_4_1/split_2/train/mask/_Image_04L_0_1.png (deflated 23%)\n",
            "  adding: chase_db_384_384_dice_bce_0_4__hvr_0_4_1/split_2/train/mask/_Image_03R_1_1.png (deflated 18%)\n",
            "  adding: chase_db_384_384_dice_bce_0_4__hvr_0_4_1/split_2/train/mask/_Image_10L_1_8.png (deflated 31%)\n",
            "  adding: chase_db_384_384_dice_bce_0_4__hvr_0_4_1/split_2/train/mask/_Image_08R_3_1.png (deflated 18%)\n",
            "  adding: chase_db_384_384_dice_bce_0_4__hvr_0_4_1/split_2/train/mask/_Image_10R_3_7.png (deflated 17%)\n",
            "  adding: chase_db_384_384_dice_bce_0_4__hvr_0_4_1/split_2/train/mask/_Image_09L_3_1.png (deflated 21%)\n",
            "  adding: chase_db_384_384_dice_bce_0_4__hvr_0_4_1/split_2/train/mask/_Image_01L_0_0.png (deflated 23%)\n",
            "  adding: chase_db_384_384_dice_bce_0_4__hvr_0_4_1/split_2/train/mask/_Image_14L_1_4.png (deflated 14%)\n",
            "  adding: chase_db_384_384_dice_bce_0_4__hvr_0_4_1/split_2/train/mask/_Image_08R_1_8.png (deflated 44%)\n",
            "  adding: chase_db_384_384_dice_bce_0_4__hvr_0_4_1/split_2/train/mask/_Image_04R_1_8.png (deflated 30%)\n",
            "  adding: chase_db_384_384_dice_bce_0_4__hvr_0_4_1/split_2/train/mask/_Image_04L_3_5.png (deflated 16%)\n",
            "  adding: chase_db_384_384_dice_bce_0_4__hvr_0_4_1/split_2/train/mask/_Image_07L_1_7.png (deflated 18%)\n",
            "  adding: chase_db_384_384_dice_bce_0_4__hvr_0_4_1/split_2/train/mask/_Image_14R_3_5.png (deflated 6%)\n",
            "  adding: chase_db_384_384_dice_bce_0_4__hvr_0_4_1/split_2/train/mask/_Image_02L_1_5.png (deflated 6%)\n",
            "  adding: chase_db_384_384_dice_bce_0_4__hvr_0_4_1/split_2/train/mask/_Image_03L_1_4.png (deflated 15%)\n",
            "  adding: chase_db_384_384_dice_bce_0_4__hvr_0_4_1/split_2/train/mask/_Image_08R_0_3.png (deflated 15%)\n",
            "  adding: chase_db_384_384_dice_bce_0_4__hvr_0_4_1/split_2/train/mask/_Image_10R_3_6.png (deflated 24%)\n",
            "  adding: chase_db_384_384_dice_bce_0_4__hvr_0_4_1/split_2/train/mask/_Image_02R_3_7.png (deflated 18%)\n",
            "  adding: chase_db_384_384_dice_bce_0_4__hvr_0_4_1/split_2/train/mask/_Image_04R_2_8.png (deflated 33%)\n",
            "  adding: chase_db_384_384_dice_bce_0_4__hvr_0_4_1/split_2/train/mask/_Image_09R_0_5.png (deflated 15%)\n",
            "  adding: chase_db_384_384_dice_bce_0_4__hvr_0_4_1/split_2/train/mask/_Image_05R_3_3.png (deflated 7%)\n",
            "  adding: chase_db_384_384_dice_bce_0_4__hvr_0_4_1/split_2/train/mask/_Image_07L_2_6.png (deflated 26%)\n",
            "  adding: chase_db_384_384_dice_bce_0_4__hvr_0_4_1/split_2/train/mask/_Image_02R_2_7.png (deflated 17%)\n",
            "  adding: chase_db_384_384_dice_bce_0_4__hvr_0_4_1/split_2/train/mask/_Image_05R_0_0.png (deflated 25%)\n",
            "  adding: chase_db_384_384_dice_bce_0_4__hvr_0_4_1/split_2/train/mask/_Image_01L_3_4.png (deflated 12%)\n",
            "  adding: chase_db_384_384_dice_bce_0_4__hvr_0_4_1/split_2/train/mask/_Image_04L_3_8.png (deflated 48%)\n",
            "  adding: chase_db_384_384_dice_bce_0_4__hvr_0_4_1/split_2/train/mask/_Image_14R_2_4.png (deflated 16%)\n",
            "  adding: chase_db_384_384_dice_bce_0_4__hvr_0_4_1/split_2/train/mask/_Image_07L_0_7.png (deflated 18%)\n",
            "  adding: chase_db_384_384_dice_bce_0_4__hvr_0_4_1/split_2/train/mask/_Image_02R_1_1.png (deflated 16%)\n",
            "  adding: chase_db_384_384_dice_bce_0_4__hvr_0_4_1/split_2/train/mask/_Image_03L_0_7.png (deflated 15%)\n",
            "  adding: chase_db_384_384_dice_bce_0_4__hvr_0_4_1/split_2/train/mask/_Image_09L_1_3.png (deflated 18%)\n",
            "  adding: chase_db_384_384_dice_bce_0_4__hvr_0_4_1/split_2/train/mask/_Image_02R_0_3.png (deflated 12%)\n",
            "  adding: chase_db_384_384_dice_bce_0_4__hvr_0_4_1/split_2/train/mask/_Image_01L_2_3.png (deflated 20%)\n",
            "  adding: chase_db_384_384_dice_bce_0_4__hvr_0_4_1/split_2/train/mask/_Image_01L_3_2.png (deflated 31%)\n",
            "  adding: chase_db_384_384_dice_bce_0_4__hvr_0_4_1/split_2/train/mask/_Image_07R_0_3.png (deflated 6%)\n",
            "  adding: chase_db_384_384_dice_bce_0_4__hvr_0_4_1/split_2/train/mask/_Image_05L_2_4.png (deflated 14%)\n",
            "  adding: chase_db_384_384_dice_bce_0_4__hvr_0_4_1/split_2/train/mask/_Image_02R_1_2.png (deflated 27%)\n",
            "  adding: chase_db_384_384_dice_bce_0_4__hvr_0_4_1/split_2/train/mask/_Image_03L_3_7.png (deflated 15%)\n",
            "  adding: chase_db_384_384_dice_bce_0_4__hvr_0_4_1/split_2/train/mask/_Image_08L_0_4.png (deflated 14%)\n",
            "  adding: chase_db_384_384_dice_bce_0_4__hvr_0_4_1/split_2/train/mask/_Image_04L_2_0.png (deflated 22%)\n",
            "  adding: chase_db_384_384_dice_bce_0_4__hvr_0_4_1/split_2/train/mask/_Image_06L_0_0.png (deflated 28%)\n",
            "  adding: chase_db_384_384_dice_bce_0_4__hvr_0_4_1/split_2/train/mask/_Image_03R_3_3.png (deflated 8%)\n",
            "  adding: chase_db_384_384_dice_bce_0_4__hvr_0_4_1/split_2/train/mask/_Image_08R_3_2.png (deflated 27%)\n",
            "  adding: chase_db_384_384_dice_bce_0_4__hvr_0_4_1/split_2/train/mask/_Image_04L_1_7.png (deflated 18%)\n",
            "  adding: chase_db_384_384_dice_bce_0_4__hvr_0_4_1/split_2/train/mask/_Image_14R_1_8.png (deflated 75%)\n",
            "  adding: chase_db_384_384_dice_bce_0_4__hvr_0_4_1/split_2/train/mask/_Image_09R_2_2.png (deflated 35%)\n",
            "  adding: chase_db_384_384_dice_bce_0_4__hvr_0_4_1/split_2/train/mask/_Image_07L_2_7.png (deflated 20%)\n",
            "  adding: chase_db_384_384_dice_bce_0_4__hvr_0_4_1/split_2/train/mask/_Image_02L_1_6.png (deflated 24%)\n",
            "  adding: chase_db_384_384_dice_bce_0_4__hvr_0_4_1/split_2/train/mask/_Image_02L_1_8.png (deflated 36%)\n",
            "  adding: chase_db_384_384_dice_bce_0_4__hvr_0_4_1/split_2/train/mask/_Image_14R_0_4.png (deflated 16%)\n",
            "  adding: chase_db_384_384_dice_bce_0_4__hvr_0_4_1/split_2/train/mask/_Image_13R_1_3.png (deflated 11%)\n",
            "  adding: chase_db_384_384_dice_bce_0_4__hvr_0_4_1/split_2/train/mask/_Image_07L_1_4.png (deflated 11%)\n",
            "  adding: chase_db_384_384_dice_bce_0_4__hvr_0_4_1/split_2/train/mask/_Image_04R_0_4.png (deflated 14%)\n",
            "  adding: chase_db_384_384_dice_bce_0_4__hvr_0_4_1/split_2/train/mask/_Image_07L_0_2.png (deflated 26%)\n",
            "  adding: chase_db_384_384_dice_bce_0_4__hvr_0_4_1/split_2/train/mask/_Image_06R_3_1.png (deflated 18%)\n",
            "  adding: chase_db_384_384_dice_bce_0_4__hvr_0_4_1/split_2/train/mask/_Image_03L_0_3.png (deflated 11%)\n",
            "  adding: chase_db_384_384_dice_bce_0_4__hvr_0_4_1/split_2/train/mask/_Image_01L_1_0.png (deflated 23%)\n",
            "  adding: chase_db_384_384_dice_bce_0_4__hvr_0_4_1/split_2/train/mask/_Image_04R_3_8.png (deflated 36%)\n",
            "  adding: chase_db_384_384_dice_bce_0_4__hvr_0_4_1/split_2/train/mask/_Image_07L_0_6.png (deflated 26%)\n",
            "  adding: chase_db_384_384_dice_bce_0_4__hvr_0_4_1/split_2/train/mask/_Image_13R_1_0.png (deflated 25%)\n",
            "  adding: chase_db_384_384_dice_bce_0_4__hvr_0_4_1/split_2/train/mask/_Image_14R_3_4.png (deflated 12%)\n",
            "  adding: chase_db_384_384_dice_bce_0_4__hvr_0_4_1/split_2/train/mask/_Image_04L_3_2.png (deflated 29%)\n",
            "  adding: chase_db_384_384_dice_bce_0_4__hvr_0_4_1/split_2/train/mask/_Image_04L_0_4.png (deflated 15%)\n",
            "  adding: chase_db_384_384_dice_bce_0_4__hvr_0_4_1/split_2/train/mask/_Image_10R_2_3.png (deflated 12%)\n",
            "  adding: chase_db_384_384_dice_bce_0_4__hvr_0_4_1/split_2/train/mask/_Image_10R_0_3.png (deflated 12%)\n",
            "  adding: chase_db_384_384_dice_bce_0_4__hvr_0_4_1/split_2/train/mask/_Image_06R_2_8.png (deflated 28%)\n",
            "  adding: chase_db_384_384_dice_bce_0_4__hvr_0_4_1/split_2/train/mask/_Image_10L_1_4.png (deflated 13%)\n",
            "  adding: chase_db_384_384_dice_bce_0_4__hvr_0_4_1/split_2/train/mask/_Image_06R_3_0.png (deflated 24%)\n",
            "  adding: chase_db_384_384_dice_bce_0_4__hvr_0_4_1/split_2/train/mask/_Image_03R_1_7.png (deflated 18%)\n",
            "  adding: chase_db_384_384_dice_bce_0_4__hvr_0_4_1/split_2/train/mask/_Image_07R_0_6.png (deflated 21%)\n",
            "  adding: chase_db_384_384_dice_bce_0_4__hvr_0_4_1/split_2/train/mask/_Image_06R_3_2.png (deflated 31%)\n",
            "  adding: chase_db_384_384_dice_bce_0_4__hvr_0_4_1/split_2/train/mask/_Image_02R_2_0.png (deflated 28%)\n",
            "  adding: chase_db_384_384_dice_bce_0_4__hvr_0_4_1/split_2/train/mask/_Image_03R_0_4.png (deflated 12%)\n",
            "  adding: chase_db_384_384_dice_bce_0_4__hvr_0_4_1/split_2/train/mask/_Image_05L_0_3.png (deflated 12%)\n",
            "  adding: chase_db_384_384_dice_bce_0_4__hvr_0_4_1/split_2/train/mask/_Image_02L_2_4.png (deflated 13%)\n",
            "  adding: chase_db_384_384_dice_bce_0_4__hvr_0_4_1/split_2/train/mask/_Image_04R_2_2.png (deflated 45%)\n",
            "  adding: chase_db_384_384_dice_bce_0_4__hvr_0_4_1/split_2/train/mask/_Image_13R_2_4.png (deflated 14%)\n",
            "  adding: chase_db_384_384_dice_bce_0_4__hvr_0_4_1/split_2/train/mask/_Image_07L_3_6.png (deflated 21%)\n",
            "  adding: chase_db_384_384_dice_bce_0_4__hvr_0_4_1/split_2/train/mask/_Image_05L_1_7.png (deflated 17%)\n",
            "  adding: chase_db_384_384_dice_bce_0_4__hvr_0_4_1/split_2/train/mask/_Image_04L_2_4.png (deflated 16%)\n",
            "  adding: chase_db_384_384_dice_bce_0_4__hvr_0_4_1/split_2/train/mask/_Image_03L_1_5.png (deflated 12%)\n",
            "  adding: chase_db_384_384_dice_bce_0_4__hvr_0_4_1/split_2/train/mask/_Image_01L_3_5.png (deflated 10%)\n",
            "  adding: chase_db_384_384_dice_bce_0_4__hvr_0_4_1/split_2/train/mask/_Image_09L_0_8.png (deflated 24%)\n",
            "  adding: chase_db_384_384_dice_bce_0_4__hvr_0_4_1/split_2/train/mask/_Image_09R_3_5.png (deflated 11%)\n",
            "  adding: chase_db_384_384_dice_bce_0_4__hvr_0_4_1/split_2/train/mask/_Image_14L_0_5.png (deflated 10%)\n",
            "  adding: chase_db_384_384_dice_bce_0_4__hvr_0_4_1/split_2/train/mask/_Image_09R_0_1.png (deflated 24%)\n",
            "  adding: chase_db_384_384_dice_bce_0_4__hvr_0_4_1/split_2/train/mask/_Image_14R_3_0.png (deflated 19%)\n",
            "  adding: chase_db_384_384_dice_bce_0_4__hvr_0_4_1/split_2/train/mask/_Image_03R_0_2.png (deflated 25%)\n",
            "  adding: chase_db_384_384_dice_bce_0_4__hvr_0_4_1/split_2/train/mask/_Image_04R_0_6.png (deflated 30%)\n",
            "  adding: chase_db_384_384_dice_bce_0_4__hvr_0_4_1/split_2/train/mask/_Image_01R_0_1.png (deflated 21%)\n",
            "  adding: chase_db_384_384_dice_bce_0_4__hvr_0_4_1/split_2/train/mask/_Image_09R_2_8.png (deflated 30%)\n",
            "  adding: chase_db_384_384_dice_bce_0_4__hvr_0_4_1/split_2/train/mask/_Image_05R_0_4.png (deflated 13%)\n",
            "  adding: chase_db_384_384_dice_bce_0_4__hvr_0_4_1/split_2/train/mask/_Image_01R_3_4.png (deflated 12%)\n",
            "  adding: chase_db_384_384_dice_bce_0_4__hvr_0_4_1/split_2/train/mask/_Image_01L_0_2.png (deflated 23%)\n",
            "  adding: chase_db_384_384_dice_bce_0_4__hvr_0_4_1/split_2/train/mask/_Image_02L_3_4.png (deflated 12%)\n",
            "  adding: chase_db_384_384_dice_bce_0_4__hvr_0_4_1/split_2/train/mask/_Image_04R_2_0.png (deflated 31%)\n",
            "  adding: chase_db_384_384_dice_bce_0_4__hvr_0_4_1/split_2/train/mask/_Image_06L_3_5.png (deflated 12%)\n",
            "  adding: chase_db_384_384_dice_bce_0_4__hvr_0_4_1/split_2/train/mask/_Image_04L_3_6.png (deflated 24%)\n",
            "  adding: chase_db_384_384_dice_bce_0_4__hvr_0_4_1/split_2/train/mask/_Image_01R_0_8.png (deflated 41%)\n",
            "  adding: chase_db_384_384_dice_bce_0_4__hvr_0_4_1/split_2/train/mask/_Image_02L_3_7.png (deflated 17%)\n",
            "  adding: chase_db_384_384_dice_bce_0_4__hvr_0_4_1/split_2/train/mask/_Image_09L_1_7.png (deflated 20%)\n",
            "  adding: chase_db_384_384_dice_bce_0_4__hvr_0_4_1/split_2/train/mask/_Image_06L_2_0.png (deflated 21%)\n",
            "  adding: chase_db_384_384_dice_bce_0_4__hvr_0_4_1/split_2/train/mask/_Image_09L_0_5.png (deflated 19%)\n",
            "  adding: chase_db_384_384_dice_bce_0_4__hvr_0_4_1/split_2/train/mask/_Image_07L_2_5.png (deflated 10%)\n",
            "  adding: chase_db_384_384_dice_bce_0_4__hvr_0_4_1/split_2/train/mask/_Image_05R_0_7.png (deflated 20%)\n",
            "  adding: chase_db_384_384_dice_bce_0_4__hvr_0_4_1/split_2/train/mask/_Image_01L_2_5.png (deflated 9%)\n",
            "  adding: chase_db_384_384_dice_bce_0_4__hvr_0_4_1/split_2/train/mask/_Image_07L_1_5.png (deflated 15%)\n",
            "  adding: chase_db_384_384_dice_bce_0_4__hvr_0_4_1/split_2/train/mask/_Image_06R_2_7.png (deflated 21%)\n",
            "  adding: chase_db_384_384_dice_bce_0_4__hvr_0_4_1/split_2/train/mask/_Image_04R_2_1.png (deflated 18%)\n",
            "  adding: chase_db_384_384_dice_bce_0_4__hvr_0_4_1/split_2/train/mask/_Image_05L_0_4.png (deflated 14%)\n",
            "  adding: chase_db_384_384_dice_bce_0_4__hvr_0_4_1/split_2/train/mask/_Image_10R_0_6.png (deflated 25%)\n",
            "  adding: chase_db_384_384_dice_bce_0_4__hvr_0_4_1/split_2/train/mask/_Image_08R_1_3.png (deflated 10%)\n",
            "  adding: chase_db_384_384_dice_bce_0_4__hvr_0_4_1/split_2/train/mask/_Image_14L_1_3.png (deflated 10%)\n",
            "  adding: chase_db_384_384_dice_bce_0_4__hvr_0_4_1/split_2/train/mask/_Image_06R_1_2.png (deflated 27%)\n",
            "  adding: chase_db_384_384_dice_bce_0_4__hvr_0_4_1/split_2/train/mask/_Image_14R_2_3.png (deflated 18%)\n",
            "  adding: chase_db_384_384_dice_bce_0_4__hvr_0_4_1/split_2/train/mask/_Image_07R_2_7.png (deflated 19%)\n",
            "  adding: chase_db_384_384_dice_bce_0_4__hvr_0_4_1/split_2/train/mask/_Image_05R_2_5.png (deflated 11%)\n",
            "  adding: chase_db_384_384_dice_bce_0_4__hvr_0_4_1/split_2/train/mask/_Image_10R_2_1.png (deflated 18%)\n",
            "  adding: chase_db_384_384_dice_bce_0_4__hvr_0_4_1/split_2/train/mask/_Image_14R_1_1.png (deflated 27%)\n",
            "  adding: chase_db_384_384_dice_bce_0_4__hvr_0_4_1/split_2/train/mask/_Image_03L_2_8.png (deflated 22%)\n",
            "  adding: chase_db_384_384_dice_bce_0_4__hvr_0_4_1/split_2/train/mask/_Image_05L_2_0.png (deflated 23%)\n",
            "  adding: chase_db_384_384_dice_bce_0_4__hvr_0_4_1/split_2/train/mask/_Image_08L_0_0.png (deflated 29%)\n",
            "  adding: chase_db_384_384_dice_bce_0_4__hvr_0_4_1/split_2/train/mask/_Image_02L_1_3.png (deflated 10%)\n",
            "  adding: chase_db_384_384_dice_bce_0_4__hvr_0_4_1/split_2/train/mask/_Image_07L_0_1.png (deflated 21%)\n",
            "  adding: chase_db_384_384_dice_bce_0_4__hvr_0_4_1/split_2/train/mask/_Image_08R_2_0.png (deflated 43%)\n",
            "  adding: chase_db_384_384_dice_bce_0_4__hvr_0_4_1/split_2/train/mask/_Image_02L_2_8.png (deflated 25%)\n",
            "  adding: chase_db_384_384_dice_bce_0_4__hvr_0_4_1/split_2/train/mask/_Image_03L_3_8.png (deflated 24%)\n",
            "  adding: chase_db_384_384_dice_bce_0_4__hvr_0_4_1/split_2/train/mask/_Image_05L_3_8.png (deflated 22%)\n",
            "  adding: chase_db_384_384_dice_bce_0_4__hvr_0_4_1/split_2/train/mask/_Image_08R_2_5.png (deflated 10%)\n",
            "  adding: chase_db_384_384_dice_bce_0_4__hvr_0_4_1/split_2/train/mask/_Image_05R_1_2.png (deflated 25%)\n",
            "  adding: chase_db_384_384_dice_bce_0_4__hvr_0_4_1/split_2/train/mask/_Image_13R_1_2.png (deflated 27%)\n",
            "  adding: chase_db_384_384_dice_bce_0_4__hvr_0_4_1/split_2/train/mask/_Image_06R_2_0.png (deflated 41%)\n",
            "  adding: chase_db_384_384_dice_bce_0_4__hvr_0_4_1/split_2/train/mask/_Image_08L_2_6.png (deflated 29%)\n",
            "  adding: chase_db_384_384_dice_bce_0_4__hvr_0_4_1/split_2/train/mask/_Image_09L_3_5.png (deflated 20%)\n",
            "  adding: chase_db_384_384_dice_bce_0_4__hvr_0_4_1/split_2/train/mask/_Image_10L_2_1.png (deflated 20%)\n",
            "  adding: chase_db_384_384_dice_bce_0_4__hvr_0_4_1/split_2/train/mask/_Image_10R_3_1.png (deflated 19%)\n",
            "  adding: chase_db_384_384_dice_bce_0_4__hvr_0_4_1/split_2/train/mask/_Image_07L_1_3.png (deflated 10%)\n",
            "  adding: chase_db_384_384_dice_bce_0_4__hvr_0_4_1/split_2/train/mask/_Image_07L_3_3.png (deflated 10%)\n",
            "  adding: chase_db_384_384_dice_bce_0_4__hvr_0_4_1/split_2/train/mask/_Image_05L_1_5.png (deflated 12%)\n",
            "  adding: chase_db_384_384_dice_bce_0_4__hvr_0_4_1/split_2/train/mask/_Image_14R_0_3.png (deflated 17%)\n",
            "  adding: chase_db_384_384_dice_bce_0_4__hvr_0_4_1/split_2/train/mask/_Image_02L_3_5.png (deflated 10%)\n",
            "  adding: chase_db_384_384_dice_bce_0_4__hvr_0_4_1/split_2/train/mask/_Image_07R_1_3.png (deflated 13%)\n",
            "  adding: chase_db_384_384_dice_bce_0_4__hvr_0_4_1/split_2/train/mask/_Image_03R_0_5.png (deflated 14%)\n",
            "  adding: chase_db_384_384_dice_bce_0_4__hvr_0_4_1/split_2/train/mask/_Image_06R_0_6.png (deflated 41%)\n",
            "  adding: chase_db_384_384_dice_bce_0_4__hvr_0_4_1/split_2/train/mask/_Image_01L_3_3.png (deflated 6%)\n",
            "  adding: chase_db_384_384_dice_bce_0_4__hvr_0_4_1/split_2/train/mask/_Image_10L_0_8.png (deflated 31%)\n",
            "  adding: chase_db_384_384_dice_bce_0_4__hvr_0_4_1/split_2/train/mask/_Image_06L_0_5.png (deflated 12%)\n",
            "  adding: chase_db_384_384_dice_bce_0_4__hvr_0_4_1/split_2/train/mask/_Image_14L_0_0.png (deflated 21%)\n",
            "  adding: chase_db_384_384_dice_bce_0_4__hvr_0_4_1/split_2/train/mask/_Image_01L_2_8.png (deflated 23%)\n",
            "  adding: chase_db_384_384_dice_bce_0_4__hvr_0_4_1/split_2/train/mask/_Image_04R_1_4.png (deflated 14%)\n",
            "  adding: chase_db_384_384_dice_bce_0_4__hvr_0_4_1/split_2/train/mask/_Image_04R_3_3.png (deflated 10%)\n",
            "  adding: chase_db_384_384_dice_bce_0_4__hvr_0_4_1/split_2/train/mask/_Image_02L_2_5.png (deflated 10%)\n",
            "  adding: chase_db_384_384_dice_bce_0_4__hvr_0_4_1/split_2/train/mask/_Image_09L_2_0.png (deflated 42%)\n",
            "  adding: chase_db_384_384_dice_bce_0_4__hvr_0_4_1/split_2/train/mask/_Image_04R_2_7.png (deflated 21%)\n",
            "  adding: chase_db_384_384_dice_bce_0_4__hvr_0_4_1/split_2/train/mask/_Image_06R_3_7.png (deflated 15%)\n",
            "  adding: chase_db_384_384_dice_bce_0_4__hvr_0_4_1/split_2/train/mask/_Image_08R_3_0.png (deflated 35%)\n",
            "  adding: chase_db_384_384_dice_bce_0_4__hvr_0_4_1/split_2/train/mask/_Image_09R_2_7.png (deflated 24%)\n",
            "  adding: chase_db_384_384_dice_bce_0_4__hvr_0_4_1/split_2/train/mask/_Image_02L_0_5.png (deflated 10%)\n",
            "  adding: chase_db_384_384_dice_bce_0_4__hvr_0_4_1/split_2/train/mask/_Image_08R_1_5.png (deflated 15%)\n",
            "  adding: chase_db_384_384_dice_bce_0_4__hvr_0_4_1/split_2/train/mask/_Image_02R_3_4.png (deflated 13%)\n",
            "  adding: chase_db_384_384_dice_bce_0_4__hvr_0_4_1/split_2/train/mask/_Image_01R_0_6.png (deflated 35%)\n",
            "  adding: chase_db_384_384_dice_bce_0_4__hvr_0_4_1/split_2/train/mask/_Image_07L_3_7.png (deflated 16%)\n",
            "  adding: chase_db_384_384_dice_bce_0_4__hvr_0_4_1/split_2/train/mask/_Image_05R_3_7.png (deflated 17%)\n",
            "  adding: chase_db_384_384_dice_bce_0_4__hvr_0_4_1/split_2/train/mask/_Image_06L_0_7.png (deflated 22%)\n",
            "  adding: chase_db_384_384_dice_bce_0_4__hvr_0_4_1/split_2/train/mask/_Image_03R_3_6.png (deflated 34%)\n",
            "  adding: chase_db_384_384_dice_bce_0_4__hvr_0_4_1/split_2/train/mask/_Image_04R_1_6.png (deflated 44%)\n",
            "  adding: chase_db_384_384_dice_bce_0_4__hvr_0_4_1/split_2/train/mask/_Image_06L_3_0.png (deflated 25%)\n",
            "  adding: chase_db_384_384_dice_bce_0_4__hvr_0_4_1/split_2/train/mask/_Image_03R_2_5.png (deflated 12%)\n",
            "  adding: chase_db_384_384_dice_bce_0_4__hvr_0_4_1/split_2/train/mask/_Image_09R_0_2.png (deflated 30%)\n",
            "  adding: chase_db_384_384_dice_bce_0_4__hvr_0_4_1/split_2/train/mask/_Image_04L_2_6.png (deflated 35%)\n",
            "  adding: chase_db_384_384_dice_bce_0_4__hvr_0_4_1/split_2/train/mask/_Image_01L_1_8.png (deflated 24%)\n",
            "  adding: chase_db_384_384_dice_bce_0_4__hvr_0_4_1/split_2/train/mask/_Image_06R_3_3.png (deflated 9%)\n",
            "  adding: chase_db_384_384_dice_bce_0_4__hvr_0_4_1/split_2/train/mask/_Image_14R_2_7.png (deflated 27%)\n",
            "  adding: chase_db_384_384_dice_bce_0_4__hvr_0_4_1/split_2/train/mask/_Image_02L_0_2.png (deflated 25%)\n",
            "  adding: chase_db_384_384_dice_bce_0_4__hvr_0_4_1/split_2/train/mask/_Image_06R_2_5.png (deflated 17%)\n",
            "  adding: chase_db_384_384_dice_bce_0_4__hvr_0_4_1/split_2/train/mask/_Image_01R_3_8.png (deflated 22%)\n",
            "  adding: chase_db_384_384_dice_bce_0_4__hvr_0_4_1/split_2/train/mask/_Image_14R_0_2.png (deflated 32%)\n",
            "  adding: chase_db_384_384_dice_bce_0_4__hvr_0_4_1/split_2/train/mask/_Image_03L_1_6.png (deflated 24%)\n",
            "  adding: chase_db_384_384_dice_bce_0_4__hvr_0_4_1/split_2/train/mask/_Image_10L_1_0.png (deflated 31%)\n",
            "  adding: chase_db_384_384_dice_bce_0_4__hvr_0_4_1/split_2/train/mask/_Image_01L_2_0.png (deflated 22%)\n",
            "  adding: chase_db_384_384_dice_bce_0_4__hvr_0_4_1/split_2/train/mask/_Image_06R_1_3.png (deflated 16%)\n",
            "  adding: chase_db_384_384_dice_bce_0_4__hvr_0_4_1/split_2/train/mask/_Image_02R_2_2.png (deflated 30%)\n",
            "  adding: chase_db_384_384_dice_bce_0_4__hvr_0_4_1/split_2/train/mask/_Image_14L_3_7.png (deflated 17%)\n",
            "  adding: chase_db_384_384_dice_bce_0_4__hvr_0_4_1/split_2/train/mask/_Image_06R_0_2.png (deflated 27%)\n",
            "  adding: chase_db_384_384_dice_bce_0_4__hvr_0_4_1/split_2/train/mask/_Image_14L_1_7.png (deflated 27%)\n",
            "  adding: chase_db_384_384_dice_bce_0_4__hvr_0_4_1/split_2/train/mask/_Image_07R_2_1.png (deflated 16%)\n",
            "  adding: chase_db_384_384_dice_bce_0_4__hvr_0_4_1/split_2/train/mask/_Image_14L_2_1.png (deflated 27%)\n",
            "  adding: chase_db_384_384_dice_bce_0_4__hvr_0_4_1/split_2/train/mask/_Image_14R_1_2.png (deflated 31%)\n",
            "  adding: chase_db_384_384_dice_bce_0_4__hvr_0_4_1/split_2/train/mask/_Image_06L_3_8.png (deflated 27%)\n",
            "  adding: chase_db_384_384_dice_bce_0_4__hvr_0_4_1/split_2/train/mask/_Image_08L_0_2.png (deflated 30%)\n",
            "  adding: chase_db_384_384_dice_bce_0_4__hvr_0_4_1/split_2/train/mask/_Image_07R_0_7.png (deflated 15%)\n",
            "  adding: chase_db_384_384_dice_bce_0_4__hvr_0_4_1/split_2/train/mask/_Image_02L_1_0.png (deflated 24%)\n",
            "  adding: chase_db_384_384_dice_bce_0_4__hvr_0_4_1/split_2/train/mask/_Image_03R_2_1.png (deflated 17%)\n",
            "  adding: chase_db_384_384_dice_bce_0_4__hvr_0_4_1/split_2/train/mask/_Image_13R_2_6.png (deflated 25%)\n",
            "  adding: chase_db_384_384_dice_bce_0_4__hvr_0_4_1/split_2/train/mask/_Image_02R_2_8.png (deflated 28%)\n",
            "  adding: chase_db_384_384_dice_bce_0_4__hvr_0_4_1/split_2/train/mask/_Image_01R_0_0.png (deflated 24%)\n",
            "  adding: chase_db_384_384_dice_bce_0_4__hvr_0_4_1/split_2/train/mask/_Image_05L_0_6.png (deflated 23%)\n",
            "  adding: chase_db_384_384_dice_bce_0_4__hvr_0_4_1/split_2/train/mask/_Image_03L_3_2.png (deflated 20%)\n",
            "  adding: chase_db_384_384_dice_bce_0_4__hvr_0_4_1/split_2/train/mask/_Image_08L_2_4.png (deflated 14%)\n",
            "  adding: chase_db_384_384_dice_bce_0_4__hvr_0_4_1/split_2/train/mask/_Image_09L_1_1.png (deflated 21%)\n",
            "  adding: chase_db_384_384_dice_bce_0_4__hvr_0_4_1/split_2/train/mask/_Image_10R_1_3.png (deflated 17%)\n",
            "  adding: chase_db_384_384_dice_bce_0_4__hvr_0_4_1/split_2/train/mask/_Image_10R_3_4.png (deflated 13%)\n",
            "  adding: chase_db_384_384_dice_bce_0_4__hvr_0_4_1/split_2/train/mask/_Image_05R_2_0.png (deflated 21%)\n",
            "  adding: chase_db_384_384_dice_bce_0_4__hvr_0_4_1/split_2/train/mask/_Image_13R_1_4.png (deflated 15%)\n",
            "  adding: chase_db_384_384_dice_bce_0_4__hvr_0_4_1/split_2/train/mask/_Image_07R_3_7.png (deflated 15%)\n",
            "  adding: chase_db_384_384_dice_bce_0_4__hvr_0_4_1/split_2/train/mask/_Image_07L_3_0.png (deflated 24%)\n",
            "  adding: chase_db_384_384_dice_bce_0_4__hvr_0_4_1/split_2/train/mask/_Image_02L_3_0.png (deflated 24%)\n",
            "  adding: chase_db_384_384_dice_bce_0_4__hvr_0_4_1/split_2/train/mask/_Image_10L_2_4.png (deflated 13%)\n",
            "  adding: chase_db_384_384_dice_bce_0_4__hvr_0_4_1/split_2/train/mask/_Image_13R_3_8.png (deflated 45%)\n",
            "  adding: chase_db_384_384_dice_bce_0_4__hvr_0_4_1/split_2/train/mask/_Image_01R_0_3.png (deflated 12%)\n",
            "  adding: chase_db_384_384_dice_bce_0_4__hvr_0_4_1/split_2/train/mask/_Image_05R_0_3.png (deflated 16%)\n",
            "  adding: chase_db_384_384_dice_bce_0_4__hvr_0_4_1/split_2/train/mask/_Image_03L_0_0.png (deflated 25%)\n",
            "  adding: chase_db_384_384_dice_bce_0_4__hvr_0_4_1/split_2/train/mask/_Image_01L_2_4.png (deflated 13%)\n",
            "  adding: chase_db_384_384_dice_bce_0_4__hvr_0_4_1/split_2/train/mask/_Image_07L_0_5.png (deflated 10%)\n",
            "  adding: chase_db_384_384_dice_bce_0_4__hvr_0_4_1/split_2/train/mask/_Image_01L_3_0.png (deflated 19%)\n",
            "  adding: chase_db_384_384_dice_bce_0_4__hvr_0_4_1/split_2/train/mask/_Image_10L_1_2.png (deflated 36%)\n",
            "  adding: chase_db_384_384_dice_bce_0_4__hvr_0_4_1/split_2/train/mask/_Image_10R_0_4.png (deflated 14%)\n",
            "  adding: chase_db_384_384_dice_bce_0_4__hvr_0_4_1/split_2/train/mask/_Image_07L_3_5.png (deflated 10%)\n",
            "  adding: chase_db_384_384_dice_bce_0_4__hvr_0_4_1/split_2/train/mask/_Image_02R_0_5.png (deflated 9%)\n",
            "  adding: chase_db_384_384_dice_bce_0_4__hvr_0_4_1/split_2/train/mask/_Image_02R_1_7.png (deflated 16%)\n",
            "  adding: chase_db_384_384_dice_bce_0_4__hvr_0_4_1/split_2/train/mask/_Image_14L_2_4.png (deflated 14%)\n",
            "  adding: chase_db_384_384_dice_bce_0_4__hvr_0_4_1/split_2/train/mask/_Image_10L_2_3.png (deflated 16%)\n",
            "  adding: chase_db_384_384_dice_bce_0_4__hvr_0_4_1/split_2/train/mask/_Image_06R_3_8.png (deflated 42%)\n",
            "  adding: chase_db_384_384_dice_bce_0_4__hvr_0_4_1/split_2/train/mask/_Image_06R_1_7.png (deflated 16%)\n",
            "  adding: chase_db_384_384_dice_bce_0_4__hvr_0_4_1/split_2/train/mask/_Image_02R_0_4.png (deflated 13%)\n",
            "  adding: chase_db_384_384_dice_bce_0_4__hvr_0_4_1/split_2/train/mask/_Image_14L_3_2.png (deflated 29%)\n",
            "  adding: chase_db_384_384_dice_bce_0_4__hvr_0_4_1/split_2/train/mask/_Image_10R_1_5.png (deflated 11%)\n",
            "  adding: chase_db_384_384_dice_bce_0_4__hvr_0_4_1/split_2/train/mask/_Image_14L_0_6.png (deflated 30%)\n",
            "  adding: chase_db_384_384_dice_bce_0_4__hvr_0_4_1/split_2/train/mask/_Image_13R_3_2.png (deflated 18%)\n",
            "  adding: chase_db_384_384_dice_bce_0_4__hvr_0_4_1/split_2/train/mask/_Image_09R_0_0.png (deflated 27%)\n",
            "  adding: chase_db_384_384_dice_bce_0_4__hvr_0_4_1/split_2/train/mask/_Image_04R_1_3.png (deflated 17%)\n",
            "  adding: chase_db_384_384_dice_bce_0_4__hvr_0_4_1/split_2/train/mask/_Image_05R_3_2.png (deflated 29%)\n",
            "  adding: chase_db_384_384_dice_bce_0_4__hvr_0_4_1/split_2/train/mask/_Image_09R_1_3.png (deflated 15%)\n",
            "  adding: chase_db_384_384_dice_bce_0_4__hvr_0_4_1/split_2/train/mask/_Image_02L_2_0.png (deflated 36%)\n",
            "  adding: chase_db_384_384_dice_bce_0_4__hvr_0_4_1/split_2/train/mask/_Image_05R_3_6.png (deflated 40%)\n",
            "  adding: chase_db_384_384_dice_bce_0_4__hvr_0_4_1/split_2/train/mask/_Image_14R_0_8.png (deflated 37%)\n",
            "  adding: chase_db_384_384_dice_bce_0_4__hvr_0_4_1/split_2/train/mask/_Image_03L_0_2.png (deflated 21%)\n",
            "  adding: chase_db_384_384_dice_bce_0_4__hvr_0_4_1/split_2/train/mask/_Image_09L_1_6.png (deflated 24%)\n",
            "  adding: chase_db_384_384_dice_bce_0_4__hvr_0_4_1/split_2/train/mask/_Image_09L_3_8.png (deflated 25%)\n",
            "  adding: chase_db_384_384_dice_bce_0_4__hvr_0_4_1/split_2/train/mask/_Image_06L_1_8.png (deflated 22%)\n",
            "  adding: chase_db_384_384_dice_bce_0_4__hvr_0_4_1/split_2/train/mask/_Image_06L_3_6.png (deflated 22%)\n",
            "  adding: chase_db_384_384_dice_bce_0_4__hvr_0_4_1/split_2/train/mask/_Image_14R_2_5.png (deflated 16%)\n",
            "  adding: chase_db_384_384_dice_bce_0_4__hvr_0_4_1/split_2/train/mask/_Image_02R_1_3.png (deflated 9%)\n",
            "  adding: chase_db_384_384_dice_bce_0_4__hvr_0_4_1/split_2/train/mask/_Image_04L_0_0.png (deflated 35%)\n",
            "  adding: chase_db_384_384_dice_bce_0_4__hvr_0_4_1/split_2/train/mask/_Image_10R_3_3.png (deflated 9%)\n",
            "  adding: chase_db_384_384_dice_bce_0_4__hvr_0_4_1/split_2/train/mask/_Image_04R_0_7.png (deflated 18%)\n",
            "  adding: chase_db_384_384_dice_bce_0_4__hvr_0_4_1/split_2/train/mask/_Image_06R_0_7.png (deflated 16%)\n",
            "  adding: chase_db_384_384_dice_bce_0_4__hvr_0_4_1/split_2/train/mask/_Image_05L_2_7.png (deflated 20%)\n",
            "  adding: chase_db_384_384_dice_bce_0_4__hvr_0_4_1/split_2/train/mask/_Image_07R_2_5.png (deflated 12%)\n",
            "  adding: chase_db_384_384_dice_bce_0_4__hvr_0_4_1/split_2/train/mask/_Image_01R_0_7.png (deflated 17%)\n",
            "  adding: chase_db_384_384_dice_bce_0_4__hvr_0_4_1/split_2/train/mask/_Image_06L_2_4.png (deflated 12%)\n",
            "  adding: chase_db_384_384_dice_bce_0_4__hvr_0_4_1/split_2/train/mask/_Image_08R_0_5.png (deflated 10%)\n",
            "  adding: chase_db_384_384_dice_bce_0_4__hvr_0_4_1/split_2/train/mask/_Image_03R_0_0.png (deflated 30%)\n",
            "  adding: chase_db_384_384_dice_bce_0_4__hvr_0_4_1/split_2/train/mask/_Image_01R_0_4.png (deflated 12%)\n",
            "  adding: chase_db_384_384_dice_bce_0_4__hvr_0_4_1/split_2/train/mask/_Image_13R_1_1.png (deflated 21%)\n",
            "  adding: chase_db_384_384_dice_bce_0_4__hvr_0_4_1/split_2/train/mask/_Image_05R_2_6.png (deflated 24%)\n",
            "  adding: chase_db_384_384_dice_bce_0_4__hvr_0_4_1/split_2/train/mask/_Image_03L_3_4.png (deflated 15%)\n",
            "  adding: chase_db_384_384_dice_bce_0_4__hvr_0_4_1/split_2/train/mask/_Image_09R_2_4.png (deflated 14%)\n",
            "  adding: chase_db_384_384_dice_bce_0_4__hvr_0_4_1/split_2/train/mask/_Image_03L_3_0.png (deflated 25%)\n",
            "  adding: chase_db_384_384_dice_bce_0_4__hvr_0_4_1/split_2/train/mask/_Image_09R_2_6.png (deflated 26%)\n",
            "  adding: chase_db_384_384_dice_bce_0_4__hvr_0_4_1/split_2/train/mask/_Image_03L_1_3.png (deflated 12%)\n",
            "  adding: chase_db_384_384_dice_bce_0_4__hvr_0_4_1/split_2/train/mask/_Image_07R_2_6.png (deflated 44%)\n",
            "  adding: chase_db_384_384_dice_bce_0_4__hvr_0_4_1/split_2/train/mask/_Image_04L_3_7.png (deflated 16%)\n",
            "  adding: chase_db_384_384_dice_bce_0_4__hvr_0_4_1/split_2/train/mask/_Image_04L_1_4.png (deflated 16%)\n",
            "  adding: chase_db_384_384_dice_bce_0_4__hvr_0_4_1/split_2/train/mask/_Image_04R_2_4.png (deflated 14%)\n",
            "  adding: chase_db_384_384_dice_bce_0_4__hvr_0_4_1/split_2/train/mask/_Image_04R_3_1.png (deflated 18%)\n",
            "  adding: chase_db_384_384_dice_bce_0_4__hvr_0_4_1/split_2/train/mask/_Image_06R_1_6.png (deflated 33%)\n",
            "  adding: chase_db_384_384_dice_bce_0_4__hvr_0_4_1/split_2/train/mask/_Image_02L_0_7.png (deflated 17%)\n",
            "  adding: chase_db_384_384_dice_bce_0_4__hvr_0_4_1/split_2/train/mask/_Image_10R_0_2.png (deflated 34%)\n",
            "  adding: chase_db_384_384_dice_bce_0_4__hvr_0_4_1/split_2/train/mask/_Image_09R_2_5.png (deflated 16%)\n",
            "  adding: chase_db_384_384_dice_bce_0_4__hvr_0_4_1/split_2/train/mask/_Image_13R_0_4.png (deflated 14%)\n",
            "  adding: chase_db_384_384_dice_bce_0_4__hvr_0_4_1/split_2/train/mask/_Image_05L_1_4.png (deflated 14%)\n",
            "  adding: chase_db_384_384_dice_bce_0_4__hvr_0_4_1/split_2/train/mask/_Image_13R_0_6.png (deflated 27%)\n",
            "  adding: chase_db_384_384_dice_bce_0_4__hvr_0_4_1/split_2/train/mask/_Image_06R_1_4.png (deflated 14%)\n",
            "  adding: chase_db_384_384_dice_bce_0_4__hvr_0_4_1/split_2/train/image/ (stored 0%)\n",
            "  adding: chase_db_384_384_dice_bce_0_4__hvr_0_4_1/split_2/train/image/_Image_03R_3_4.png (deflated 1%)\n",
            "  adding: chase_db_384_384_dice_bce_0_4__hvr_0_4_1/split_2/train/image/_Image_14L_1_1.png (deflated 3%)\n",
            "  adding: chase_db_384_384_dice_bce_0_4__hvr_0_4_1/split_2/train/image/_Image_01L_1_2.png (deflated 3%)\n",
            "  adding: chase_db_384_384_dice_bce_0_4__hvr_0_4_1/split_2/train/image/_Image_09R_3_1.png (deflated 3%)\n",
            "  adding: chase_db_384_384_dice_bce_0_4__hvr_0_4_1/split_2/train/image/_Image_03L_0_5.png (deflated 3%)\n",
            "  adding: chase_db_384_384_dice_bce_0_4__hvr_0_4_1/split_2/train/image/_Image_04L_2_7.png (deflated 4%)\n",
            "  adding: chase_db_384_384_dice_bce_0_4__hvr_0_4_1/split_2/train/image/_Image_01L_0_3.png (deflated 2%)\n",
            "  adding: chase_db_384_384_dice_bce_0_4__hvr_0_4_1/split_2/train/image/_Image_03R_0_7.png (deflated 2%)\n",
            "  adding: chase_db_384_384_dice_bce_0_4__hvr_0_4_1/split_2/train/image/_Image_08L_3_6.png (deflated 3%)\n",
            "  adding: chase_db_384_384_dice_bce_0_4__hvr_0_4_1/split_2/train/image/_Image_10L_2_6.png (deflated 5%)\n",
            "  adding: chase_db_384_384_dice_bce_0_4__hvr_0_4_1/split_2/train/image/_Image_02L_2_7.png (deflated 4%)\n",
            "  adding: chase_db_384_384_dice_bce_0_4__hvr_0_4_1/split_2/train/image/_Image_05L_1_0.png (deflated 3%)\n",
            "  adding: chase_db_384_384_dice_bce_0_4__hvr_0_4_1/split_2/train/image/_Image_07R_1_6.png (deflated 3%)\n",
            "  adding: chase_db_384_384_dice_bce_0_4__hvr_0_4_1/split_2/train/image/_Image_04R_2_3.png (deflated 3%)\n",
            "  adding: chase_db_384_384_dice_bce_0_4__hvr_0_4_1/split_2/train/image/_Image_09L_0_2.png (deflated 4%)\n",
            "  adding: chase_db_384_384_dice_bce_0_4__hvr_0_4_1/split_2/train/image/_Image_08L_3_2.png (deflated 3%)\n",
            "  adding: chase_db_384_384_dice_bce_0_4__hvr_0_4_1/split_2/train/image/_Image_08L_3_4.png (deflated 1%)\n",
            "  adding: chase_db_384_384_dice_bce_0_4__hvr_0_4_1/split_2/train/image/_Image_03L_2_4.png (deflated 1%)\n",
            "  adding: chase_db_384_384_dice_bce_0_4__hvr_0_4_1/split_2/train/image/_Image_10L_1_7.png (deflated 2%)\n",
            "  adding: chase_db_384_384_dice_bce_0_4__hvr_0_4_1/split_2/train/image/_Image_06L_0_3.png (deflated 3%)\n",
            "  adding: chase_db_384_384_dice_bce_0_4__hvr_0_4_1/split_2/train/image/_Image_03L_2_1.png (deflated 2%)\n",
            "  adding: chase_db_384_384_dice_bce_0_4__hvr_0_4_1/split_2/train/image/_Image_01R_3_7.png (deflated 2%)\n",
            "  adding: chase_db_384_384_dice_bce_0_4__hvr_0_4_1/split_2/train/image/_Image_01R_2_0.png (deflated 5%)\n",
            "  adding: chase_db_384_384_dice_bce_0_4__hvr_0_4_1/split_2/train/image/_Image_04L_1_1.png (deflated 4%)\n",
            "  adding: chase_db_384_384_dice_bce_0_4__hvr_0_4_1/split_2/train/image/_Image_07L_1_8.png (deflated 4%)\n",
            "  adding: chase_db_384_384_dice_bce_0_4__hvr_0_4_1/split_2/train/image/_Image_08R_3_8.png (deflated 2%)\n",
            "  adding: chase_db_384_384_dice_bce_0_4__hvr_0_4_1/split_2/train/image/_Image_06L_1_1.png (deflated 5%)\n",
            "  adding: chase_db_384_384_dice_bce_0_4__hvr_0_4_1/split_2/train/image/_Image_04L_2_1.png (deflated 2%)\n",
            "  adding: chase_db_384_384_dice_bce_0_4__hvr_0_4_1/split_2/train/image/_Image_10R_1_0.png (deflated 4%)\n",
            "  adding: chase_db_384_384_dice_bce_0_4__hvr_0_4_1/split_2/train/image/_Image_01R_2_8.png (deflated 5%)\n",
            "  adding: chase_db_384_384_dice_bce_0_4__hvr_0_4_1/split_2/train/image/_Image_04R_0_5.png (deflated 3%)\n",
            "  adding: chase_db_384_384_dice_bce_0_4__hvr_0_4_1/split_2/train/image/_Image_02R_1_4.png (deflated 2%)\n",
            "  adding: chase_db_384_384_dice_bce_0_4__hvr_0_4_1/split_2/train/image/_Image_03L_0_1.png (deflated 3%)\n",
            "  adding: chase_db_384_384_dice_bce_0_4__hvr_0_4_1/split_2/train/image/_Image_04R_1_1.png (deflated 3%)\n",
            "  adding: chase_db_384_384_dice_bce_0_4__hvr_0_4_1/split_2/train/image/_Image_03L_1_7.png (deflated 2%)\n",
            "  adding: chase_db_384_384_dice_bce_0_4__hvr_0_4_1/split_2/train/image/_Image_01R_1_3.png (deflated 2%)\n",
            "  adding: chase_db_384_384_dice_bce_0_4__hvr_0_4_1/split_2/train/image/_Image_07R_0_2.png (deflated 4%)\n",
            "  adding: chase_db_384_384_dice_bce_0_4__hvr_0_4_1/split_2/train/image/_Image_10L_3_5.png (deflated 2%)\n",
            "  adding: chase_db_384_384_dice_bce_0_4__hvr_0_4_1/split_2/train/image/_Image_05R_2_1.png (deflated 2%)\n",
            "  adding: chase_db_384_384_dice_bce_0_4__hvr_0_4_1/split_2/train/image/_Image_05R_3_0.png (deflated 2%)\n",
            "  adding: chase_db_384_384_dice_bce_0_4__hvr_0_4_1/split_2/train/image/_Image_10R_1_7.png (deflated 2%)\n",
            "  adding: chase_db_384_384_dice_bce_0_4__hvr_0_4_1/split_2/train/image/_Image_13R_2_2.png (deflated 7%)\n",
            "  adding: chase_db_384_384_dice_bce_0_4__hvr_0_4_1/split_2/train/image/_Image_02L_0_6.png (deflated 5%)\n",
            "  adding: chase_db_384_384_dice_bce_0_4__hvr_0_4_1/split_2/train/image/_Image_07R_2_8.png (deflated 3%)\n",
            "  adding: chase_db_384_384_dice_bce_0_4__hvr_0_4_1/split_2/train/image/_Image_01L_1_1.png (deflated 3%)\n",
            "  adding: chase_db_384_384_dice_bce_0_4__hvr_0_4_1/split_2/train/image/_Image_09L_0_6.png (deflated 5%)\n",
            "  adding: chase_db_384_384_dice_bce_0_4__hvr_0_4_1/split_2/train/image/_Image_05R_1_1.png (deflated 3%)\n",
            "  adding: chase_db_384_384_dice_bce_0_4__hvr_0_4_1/split_2/train/image/_Image_05L_0_8.png (deflated 3%)\n",
            "  adding: chase_db_384_384_dice_bce_0_4__hvr_0_4_1/split_2/train/image/_Image_03R_3_2.png (deflated 2%)\n",
            "  adding: chase_db_384_384_dice_bce_0_4__hvr_0_4_1/split_2/train/image/_Image_03R_2_4.png (deflated 1%)\n",
            "  adding: chase_db_384_384_dice_bce_0_4__hvr_0_4_1/split_2/train/image/_Image_13R_2_1.png (deflated 6%)\n",
            "  adding: chase_db_384_384_dice_bce_0_4__hvr_0_4_1/split_2/train/image/_Image_02L_0_8.png (deflated 4%)\n",
            "  adding: chase_db_384_384_dice_bce_0_4__hvr_0_4_1/split_2/train/image/_Image_01L_1_6.png (deflated 3%)\n",
            "  adding: chase_db_384_384_dice_bce_0_4__hvr_0_4_1/split_2/train/image/_Image_09L_1_5.png (deflated 8%)\n",
            "  adding: chase_db_384_384_dice_bce_0_4__hvr_0_4_1/split_2/train/image/_Image_07L_3_8.png (deflated 3%)\n",
            "  adding: chase_db_384_384_dice_bce_0_4__hvr_0_4_1/split_2/train/image/_Image_05R_1_0.png (deflated 3%)\n",
            "  adding: chase_db_384_384_dice_bce_0_4__hvr_0_4_1/split_2/train/image/_Image_13R_2_5.png (deflated 6%)\n",
            "  adding: chase_db_384_384_dice_bce_0_4__hvr_0_4_1/split_2/train/image/_Image_02R_2_5.png (deflated 3%)\n",
            "  adding: chase_db_384_384_dice_bce_0_4__hvr_0_4_1/split_2/train/image/_Image_05R_2_3.png (deflated 3%)\n",
            "  adding: chase_db_384_384_dice_bce_0_4__hvr_0_4_1/split_2/train/image/_Image_08R_2_1.png (deflated 4%)\n",
            "  adding: chase_db_384_384_dice_bce_0_4__hvr_0_4_1/split_2/train/image/_Image_08L_1_1.png (deflated 5%)\n",
            "  adding: chase_db_384_384_dice_bce_0_4__hvr_0_4_1/split_2/train/image/_Image_02R_3_1.png (deflated 2%)\n",
            "  adding: chase_db_384_384_dice_bce_0_4__hvr_0_4_1/split_2/train/image/_Image_02L_2_2.png (deflated 4%)\n",
            "  adding: chase_db_384_384_dice_bce_0_4__hvr_0_4_1/split_2/train/image/_Image_02L_0_3.png (deflated 4%)\n",
            "  adding: chase_db_384_384_dice_bce_0_4__hvr_0_4_1/split_2/train/image/_Image_07L_1_2.png (deflated 3%)\n",
            "  adding: chase_db_384_384_dice_bce_0_4__hvr_0_4_1/split_2/train/image/_Image_09R_1_4.png (deflated 2%)\n",
            "  adding: chase_db_384_384_dice_bce_0_4__hvr_0_4_1/split_2/train/image/_Image_08R_2_4.png (deflated 2%)\n",
            "  adding: chase_db_384_384_dice_bce_0_4__hvr_0_4_1/split_2/train/image/_Image_07R_2_2.png (deflated 3%)\n",
            "  adding: chase_db_384_384_dice_bce_0_4__hvr_0_4_1/split_2/train/image/_Image_09L_2_8.png (deflated 3%)\n",
            "  adding: chase_db_384_384_dice_bce_0_4__hvr_0_4_1/split_2/train/image/_Image_13R_3_4.png (deflated 2%)\n",
            "  adding: chase_db_384_384_dice_bce_0_4__hvr_0_4_1/split_2/train/image/_Image_04R_1_0.png (deflated 3%)\n",
            "  adding: chase_db_384_384_dice_bce_0_4__hvr_0_4_1/split_2/train/image/_Image_10L_0_6.png (deflated 4%)\n",
            "  adding: chase_db_384_384_dice_bce_0_4__hvr_0_4_1/split_2/train/image/_Image_05R_1_8.png (deflated 3%)\n",
            "  adding: chase_db_384_384_dice_bce_0_4__hvr_0_4_1/split_2/train/image/_Image_10L_3_3.png (deflated 2%)\n",
            "  adding: chase_db_384_384_dice_bce_0_4__hvr_0_4_1/split_2/train/image/_Image_08R_1_2.png (deflated 4%)\n",
            "  adding: chase_db_384_384_dice_bce_0_4__hvr_0_4_1/split_2/train/image/_Image_07R_0_4.png (deflated 2%)\n",
            "  adding: chase_db_384_384_dice_bce_0_4__hvr_0_4_1/split_2/train/image/_Image_01R_2_2.png (deflated 3%)\n",
            "  adding: chase_db_384_384_dice_bce_0_4__hvr_0_4_1/split_2/train/image/_Image_04L_1_5.png (deflated 4%)\n",
            "  adding: chase_db_384_384_dice_bce_0_4__hvr_0_4_1/split_2/train/image/_Image_08R_3_6.png (deflated 2%)\n",
            "  adding: chase_db_384_384_dice_bce_0_4__hvr_0_4_1/split_2/train/image/_Image_04L_2_5.png (deflated 4%)\n",
            "  adding: chase_db_384_384_dice_bce_0_4__hvr_0_4_1/split_2/train/image/_Image_09L_3_2.png (deflated 4%)\n",
            "  adding: chase_db_384_384_dice_bce_0_4__hvr_0_4_1/split_2/train/image/_Image_03R_1_6.png (deflated 3%)\n",
            "  adding: chase_db_384_384_dice_bce_0_4__hvr_0_4_1/split_2/train/image/_Image_05L_1_3.png (deflated 3%)\n",
            "  adding: chase_db_384_384_dice_bce_0_4__hvr_0_4_1/split_2/train/image/_Image_08R_3_3.png (deflated 2%)\n",
            "  adding: chase_db_384_384_dice_bce_0_4__hvr_0_4_1/split_2/train/image/_Image_07L_2_0.png (deflated 4%)\n",
            "  adding: chase_db_384_384_dice_bce_0_4__hvr_0_4_1/split_2/train/image/_Image_14L_2_2.png (deflated 3%)\n",
            "  adding: chase_db_384_384_dice_bce_0_4__hvr_0_4_1/split_2/train/image/_Image_03L_1_2.png (deflated 3%)\n",
            "  adding: chase_db_384_384_dice_bce_0_4__hvr_0_4_1/split_2/train/image/_Image_03L_2_0.png (deflated 3%)\n",
            "  adding: chase_db_384_384_dice_bce_0_4__hvr_0_4_1/split_2/train/image/_Image_09L_1_2.png (deflated 5%)\n",
            "  adding: chase_db_384_384_dice_bce_0_4__hvr_0_4_1/split_2/train/image/_Image_05R_3_5.png (deflated 1%)\n",
            "  adding: chase_db_384_384_dice_bce_0_4__hvr_0_4_1/split_2/train/image/_Image_07R_0_8.png (deflated 3%)\n",
            "  adding: chase_db_384_384_dice_bce_0_4__hvr_0_4_1/split_2/train/image/_Image_04R_0_3.png (deflated 3%)\n",
            "  adding: chase_db_384_384_dice_bce_0_4__hvr_0_4_1/split_2/train/image/_Image_10R_3_5.png (deflated 2%)\n",
            "  adding: chase_db_384_384_dice_bce_0_4__hvr_0_4_1/split_2/train/image/_Image_08L_2_0.png (deflated 6%)\n",
            "  adding: chase_db_384_384_dice_bce_0_4__hvr_0_4_1/split_2/train/image/_Image_10L_0_7.png (deflated 2%)\n",
            "  adding: chase_db_384_384_dice_bce_0_4__hvr_0_4_1/split_2/train/image/_Image_10L_0_1.png (deflated 5%)\n",
            "  adding: chase_db_384_384_dice_bce_0_4__hvr_0_4_1/split_2/train/image/_Image_04R_3_7.png (deflated 2%)\n",
            "  adding: chase_db_384_384_dice_bce_0_4__hvr_0_4_1/split_2/train/image/_Image_01L_1_5.png (deflated 2%)\n",
            "  adding: chase_db_384_384_dice_bce_0_4__hvr_0_4_1/split_2/train/image/_Image_02L_2_1.png (deflated 2%)\n",
            "  adding: chase_db_384_384_dice_bce_0_4__hvr_0_4_1/split_2/train/image/_Image_05R_0_8.png (deflated 3%)\n",
            "  adding: chase_db_384_384_dice_bce_0_4__hvr_0_4_1/split_2/train/image/_Image_06R_1_5.png (deflated 5%)\n",
            "  adding: chase_db_384_384_dice_bce_0_4__hvr_0_4_1/split_2/train/image/_Image_06L_0_4.png (deflated 2%)\n",
            "  adding: chase_db_384_384_dice_bce_0_4__hvr_0_4_1/split_2/train/image/_Image_03R_1_8.png (deflated 4%)\n",
            "  adding: chase_db_384_384_dice_bce_0_4__hvr_0_4_1/split_2/train/image/_Image_14L_0_3.png (deflated 2%)\n",
            "  adding: chase_db_384_384_dice_bce_0_4__hvr_0_4_1/split_2/train/image/_Image_02R_3_0.png (deflated 3%)\n",
            "  adding: chase_db_384_384_dice_bce_0_4__hvr_0_4_1/split_2/train/image/_Image_05L_0_7.png (deflated 3%)\n",
            "  adding: chase_db_384_384_dice_bce_0_4__hvr_0_4_1/split_2/train/image/_Image_10L_1_5.png (deflated 3%)\n",
            "  adding: chase_db_384_384_dice_bce_0_4__hvr_0_4_1/split_2/train/image/_Image_07R_3_2.png (deflated 2%)\n",
            "  adding: chase_db_384_384_dice_bce_0_4__hvr_0_4_1/split_2/train/image/_Image_07R_3_3.png (deflated 1%)\n",
            "  adding: chase_db_384_384_dice_bce_0_4__hvr_0_4_1/split_2/train/image/_Image_04R_1_5.png (deflated 3%)\n",
            "  adding: chase_db_384_384_dice_bce_0_4__hvr_0_4_1/split_2/train/image/_Image_06L_0_1.png (deflated 5%)\n",
            "  adding: chase_db_384_384_dice_bce_0_4__hvr_0_4_1/split_2/train/image/_Image_03L_1_8.png (deflated 3%)\n",
            "  adding: chase_db_384_384_dice_bce_0_4__hvr_0_4_1/split_2/train/image/_Image_14R_3_1.png (deflated 2%)\n",
            "  adding: chase_db_384_384_dice_bce_0_4__hvr_0_4_1/split_2/train/image/_Image_13R_3_7.png (deflated 3%)\n",
            "  adding: chase_db_384_384_dice_bce_0_4__hvr_0_4_1/split_2/train/image/_Image_04L_1_6.png (deflated 5%)\n",
            "  adding: chase_db_384_384_dice_bce_0_4__hvr_0_4_1/split_2/train/image/_Image_08L_0_7.png (deflated 4%)\n",
            "  adding: chase_db_384_384_dice_bce_0_4__hvr_0_4_1/split_2/train/image/_Image_03L_3_6.png (deflated 3%)\n",
            "  adding: chase_db_384_384_dice_bce_0_4__hvr_0_4_1/split_2/train/image/_Image_09L_3_7.png (deflated 1%)\n",
            "  adding: chase_db_384_384_dice_bce_0_4__hvr_0_4_1/split_2/train/image/_Image_14L_3_6.png (deflated 1%)\n",
            "  adding: chase_db_384_384_dice_bce_0_4__hvr_0_4_1/split_2/train/image/_Image_06R_2_4.png (deflated 2%)\n",
            "  adding: chase_db_384_384_dice_bce_0_4__hvr_0_4_1/split_2/train/image/_Image_05R_0_5.png (deflated 3%)\n",
            "  adding: chase_db_384_384_dice_bce_0_4__hvr_0_4_1/split_2/train/image/_Image_05R_2_2.png (deflated 3%)\n",
            "  adding: chase_db_384_384_dice_bce_0_4__hvr_0_4_1/split_2/train/image/_Image_09L_1_4.png (deflated 3%)\n",
            "  adding: chase_db_384_384_dice_bce_0_4__hvr_0_4_1/split_2/train/image/_Image_08L_2_3.png (deflated 3%)\n",
            "  adding: chase_db_384_384_dice_bce_0_4__hvr_0_4_1/split_2/train/image/_Image_06R_0_5.png (deflated 3%)\n",
            "  adding: chase_db_384_384_dice_bce_0_4__hvr_0_4_1/split_2/train/image/_Image_04L_3_0.png (deflated 2%)\n",
            "  adding: chase_db_384_384_dice_bce_0_4__hvr_0_4_1/split_2/train/image/_Image_02R_0_2.png (deflated 6%)\n",
            "  adding: chase_db_384_384_dice_bce_0_4__hvr_0_4_1/split_2/train/image/_Image_13R_3_3.png (deflated 6%)\n",
            "  adding: chase_db_384_384_dice_bce_0_4__hvr_0_4_1/split_2/train/image/_Image_09R_1_8.png (deflated 3%)\n",
            "  adding: chase_db_384_384_dice_bce_0_4__hvr_0_4_1/split_2/train/image/_Image_05L_2_6.png (deflated 4%)\n",
            "  adding: chase_db_384_384_dice_bce_0_4__hvr_0_4_1/split_2/train/image/_Image_08R_2_6.png (deflated 5%)\n",
            "  adding: chase_db_384_384_dice_bce_0_4__hvr_0_4_1/split_2/train/image/_Image_06L_3_7.png (deflated 2%)\n",
            "  adding: chase_db_384_384_dice_bce_0_4__hvr_0_4_1/split_2/train/image/_Image_10L_3_1.png (deflated 3%)\n",
            "  adding: chase_db_384_384_dice_bce_0_4__hvr_0_4_1/split_2/train/image/_Image_02R_0_8.png (deflated 3%)\n",
            "  adding: chase_db_384_384_dice_bce_0_4__hvr_0_4_1/split_2/train/image/_Image_07L_0_8.png (deflated 3%)\n",
            "  adding: chase_db_384_384_dice_bce_0_4__hvr_0_4_1/split_2/train/image/_Image_08L_2_2.png (deflated 5%)\n",
            "  adding: chase_db_384_384_dice_bce_0_4__hvr_0_4_1/split_2/train/image/_Image_03R_0_6.png (deflated 4%)\n",
            "  adding: chase_db_384_384_dice_bce_0_4__hvr_0_4_1/split_2/train/image/_Image_06L_1_0.png (deflated 5%)\n",
            "  adding: chase_db_384_384_dice_bce_0_4__hvr_0_4_1/split_2/train/image/_Image_09R_0_7.png (deflated 1%)\n",
            "  adding: chase_db_384_384_dice_bce_0_4__hvr_0_4_1/split_2/train/image/_Image_07L_3_4.png (deflated 1%)\n",
            "  adding: chase_db_384_384_dice_bce_0_4__hvr_0_4_1/split_2/train/image/_Image_13R_1_7.png (deflated 6%)\n",
            "  adding: chase_db_384_384_dice_bce_0_4__hvr_0_4_1/split_2/train/image/_Image_14R_1_3.png (deflated 2%)\n",
            "  adding: chase_db_384_384_dice_bce_0_4__hvr_0_4_1/split_2/train/image/_Image_03L_2_3.png (deflated 2%)\n",
            "  adding: chase_db_384_384_dice_bce_0_4__hvr_0_4_1/split_2/train/image/_Image_06L_1_3.png (deflated 4%)\n",
            "  adding: chase_db_384_384_dice_bce_0_4__hvr_0_4_1/split_2/train/image/_Image_07L_2_8.png (deflated 3%)\n",
            "  adding: chase_db_384_384_dice_bce_0_4__hvr_0_4_1/split_2/train/image/_Image_08R_3_5.png (deflated 2%)\n",
            "  adding: chase_db_384_384_dice_bce_0_4__hvr_0_4_1/split_2/train/image/_Image_07R_2_4.png (deflated 1%)\n",
            "  adding: chase_db_384_384_dice_bce_0_4__hvr_0_4_1/split_2/train/image/_Image_09L_3_4.png (deflated 2%)\n",
            "  adding: chase_db_384_384_dice_bce_0_4__hvr_0_4_1/split_2/train/image/_Image_08R_1_1.png (deflated 5%)\n",
            "  adding: chase_db_384_384_dice_bce_0_4__hvr_0_4_1/split_2/train/image/_Image_01R_1_8.png (deflated 5%)\n",
            "  adding: chase_db_384_384_dice_bce_0_4__hvr_0_4_1/split_2/train/image/_Image_07R_1_1.png (deflated 3%)\n",
            "  adding: chase_db_384_384_dice_bce_0_4__hvr_0_4_1/split_2/train/image/_Image_08R_0_7.png (deflated 4%)\n",
            "  adding: chase_db_384_384_dice_bce_0_4__hvr_0_4_1/split_2/train/image/_Image_03L_1_1.png (deflated 3%)\n",
            "  adding: chase_db_384_384_dice_bce_0_4__hvr_0_4_1/split_2/train/image/_Image_05L_3_3.png (deflated 1%)\n",
            "  adding: chase_db_384_384_dice_bce_0_4__hvr_0_4_1/split_2/train/image/_Image_14L_3_4.png (deflated 1%)\n",
            "  adding: chase_db_384_384_dice_bce_0_4__hvr_0_4_1/split_2/train/image/_Image_05R_1_3.png (deflated 3%)\n",
            "  adding: chase_db_384_384_dice_bce_0_4__hvr_0_4_1/split_2/train/image/_Image_05L_1_6.png (deflated 3%)\n",
            "  adding: chase_db_384_384_dice_bce_0_4__hvr_0_4_1/split_2/train/image/_Image_09R_1_5.png (deflated 3%)\n",
            "  adding: chase_db_384_384_dice_bce_0_4__hvr_0_4_1/split_2/train/image/_Image_10R_3_2.png (deflated 3%)\n",
            "  adding: chase_db_384_384_dice_bce_0_4__hvr_0_4_1/split_2/train/image/_Image_02R_2_4.png (deflated 2%)\n",
            "  adding: chase_db_384_384_dice_bce_0_4__hvr_0_4_1/split_2/train/image/_Image_09L_1_8.png (deflated 5%)\n",
            "  adding: chase_db_384_384_dice_bce_0_4__hvr_0_4_1/split_2/train/image/_Image_07L_0_0.png (deflated 3%)\n",
            "  adding: chase_db_384_384_dice_bce_0_4__hvr_0_4_1/split_2/train/image/_Image_01R_1_1.png (deflated 3%)\n",
            "  adding: chase_db_384_384_dice_bce_0_4__hvr_0_4_1/split_2/train/image/_Image_05L_2_3.png (deflated 3%)\n",
            "  adding: chase_db_384_384_dice_bce_0_4__hvr_0_4_1/split_2/train/image/_Image_09L_2_1.png (deflated 1%)\n",
            "  adding: chase_db_384_384_dice_bce_0_4__hvr_0_4_1/split_2/train/image/_Image_10R_1_2.png (deflated 4%)\n",
            "  adding: chase_db_384_384_dice_bce_0_4__hvr_0_4_1/split_2/train/image/_Image_01L_3_7.png (deflated 1%)\n",
            "  adding: chase_db_384_384_dice_bce_0_4__hvr_0_4_1/split_2/train/image/_Image_05L_2_1.png (deflated 3%)\n",
            "  adding: chase_db_384_384_dice_bce_0_4__hvr_0_4_1/split_2/train/image/_Image_07R_1_2.png (deflated 3%)\n",
            "  adding: chase_db_384_384_dice_bce_0_4__hvr_0_4_1/split_2/train/image/_Image_06L_2_8.png (deflated 6%)\n",
            "  adding: chase_db_384_384_dice_bce_0_4__hvr_0_4_1/split_2/train/image/_Image_10R_3_0.png (deflated 3%)\n",
            "  adding: chase_db_384_384_dice_bce_0_4__hvr_0_4_1/split_2/train/image/_Image_05R_1_7.png (deflated 2%)\n",
            "  adding: chase_db_384_384_dice_bce_0_4__hvr_0_4_1/split_2/train/image/_Image_08R_0_6.png (deflated 5%)\n",
            "  adding: chase_db_384_384_dice_bce_0_4__hvr_0_4_1/split_2/train/image/_Image_14L_0_7.png (deflated 3%)\n",
            "  adding: chase_db_384_384_dice_bce_0_4__hvr_0_4_1/split_2/train/image/_Image_08L_3_8.png (deflated 3%)\n",
            "  adding: chase_db_384_384_dice_bce_0_4__hvr_0_4_1/split_2/train/image/_Image_02L_0_1.png (deflated 4%)\n",
            "  adding: chase_db_384_384_dice_bce_0_4__hvr_0_4_1/split_2/train/image/_Image_03L_2_2.png (deflated 3%)\n",
            "  adding: chase_db_384_384_dice_bce_0_4__hvr_0_4_1/split_2/train/image/_Image_04L_1_2.png (deflated 4%)\n",
            "  adding: chase_db_384_384_dice_bce_0_4__hvr_0_4_1/split_2/train/image/_Image_06L_2_3.png (deflated 3%)\n",
            "  adding: chase_db_384_384_dice_bce_0_4__hvr_0_4_1/split_2/train/image/_Image_06R_0_1.png (deflated 4%)\n",
            "  adding: chase_db_384_384_dice_bce_0_4__hvr_0_4_1/split_2/train/image/_Image_09L_0_4.png (deflated 2%)\n",
            "  adding: chase_db_384_384_dice_bce_0_4__hvr_0_4_1/split_2/train/image/_Image_01L_0_1.png (deflated 2%)\n",
            "  adding: chase_db_384_384_dice_bce_0_4__hvr_0_4_1/split_2/train/image/_Image_07L_2_4.png (deflated 2%)\n",
            "  adding: chase_db_384_384_dice_bce_0_4__hvr_0_4_1/split_2/train/image/_Image_01L_3_8.png (deflated 2%)\n",
            "  adding: chase_db_384_384_dice_bce_0_4__hvr_0_4_1/split_2/train/image/_Image_07R_1_8.png (deflated 3%)\n",
            "  adding: chase_db_384_384_dice_bce_0_4__hvr_0_4_1/split_2/train/image/_Image_02L_3_2.png (deflated 3%)\n",
            "  adding: chase_db_384_384_dice_bce_0_4__hvr_0_4_1/split_2/train/image/_Image_02R_3_5.png (deflated 2%)\n",
            "  adding: chase_db_384_384_dice_bce_0_4__hvr_0_4_1/split_2/train/image/_Image_09R_3_4.png (deflated 1%)\n",
            "  adding: chase_db_384_384_dice_bce_0_4__hvr_0_4_1/split_2/train/image/_Image_14L_1_0.png (deflated 3%)\n",
            "  adding: chase_db_384_384_dice_bce_0_4__hvr_0_4_1/split_2/train/image/_Image_13R_2_7.png (deflated 7%)\n",
            "  adding: chase_db_384_384_dice_bce_0_4__hvr_0_4_1/split_2/train/image/_Image_02L_0_4.png (deflated 2%)\n",
            "  adding: chase_db_384_384_dice_bce_0_4__hvr_0_4_1/split_2/train/image/_Image_08R_0_1.png (deflated 5%)\n",
            "  adding: chase_db_384_384_dice_bce_0_4__hvr_0_4_1/split_2/train/image/_Image_05L_2_2.png (deflated 3%)\n",
            "  adding: chase_db_384_384_dice_bce_0_4__hvr_0_4_1/split_2/train/image/_Image_07R_3_4.png (deflated 1%)\n",
            "  adding: chase_db_384_384_dice_bce_0_4__hvr_0_4_1/split_2/train/image/_Image_03R_0_8.png (deflated 3%)\n",
            "  adding: chase_db_384_384_dice_bce_0_4__hvr_0_4_1/split_2/train/image/_Image_10R_1_6.png (deflated 3%)\n",
            "  adding: chase_db_384_384_dice_bce_0_4__hvr_0_4_1/split_2/train/image/_Image_14L_2_3.png (deflated 2%)\n",
            "  adding: chase_db_384_384_dice_bce_0_4__hvr_0_4_1/split_2/train/image/_Image_04L_0_6.png (deflated 3%)\n",
            "  adding: chase_db_384_384_dice_bce_0_4__hvr_0_4_1/split_2/train/image/_Image_06L_0_2.png (deflated 5%)\n",
            "  adding: chase_db_384_384_dice_bce_0_4__hvr_0_4_1/split_2/train/image/_Image_03R_1_4.png (deflated 1%)\n",
            "  adding: chase_db_384_384_dice_bce_0_4__hvr_0_4_1/split_2/train/image/_Image_13R_3_5.png (deflated 4%)\n",
            "  adding: chase_db_384_384_dice_bce_0_4__hvr_0_4_1/split_2/train/image/_Image_02R_0_6.png (deflated 4%)\n",
            "  adding: chase_db_384_384_dice_bce_0_4__hvr_0_4_1/split_2/train/image/_Image_01L_2_1.png (deflated 2%)\n",
            "  adding: chase_db_384_384_dice_bce_0_4__hvr_0_4_1/split_2/train/image/_Image_02L_2_3.png (deflated 4%)\n",
            "  adding: chase_db_384_384_dice_bce_0_4__hvr_0_4_1/split_2/train/image/_Image_09R_2_0.png (deflated 3%)\n",
            "  adding: chase_db_384_384_dice_bce_0_4__hvr_0_4_1/split_2/train/image/_Image_09R_1_2.png (deflated 3%)\n",
            "  adding: chase_db_384_384_dice_bce_0_4__hvr_0_4_1/split_2/train/image/_Image_14R_1_0.png (deflated 5%)\n",
            "  adding: chase_db_384_384_dice_bce_0_4__hvr_0_4_1/split_2/train/image/_Image_09L_2_4.png (deflated 2%)\n",
            "  adding: chase_db_384_384_dice_bce_0_4__hvr_0_4_1/split_2/train/image/_Image_10L_3_8.png (deflated 3%)\n",
            "  adding: chase_db_384_384_dice_bce_0_4__hvr_0_4_1/split_2/train/image/_Image_08L_0_5.png (deflated 5%)\n",
            "  adding: chase_db_384_384_dice_bce_0_4__hvr_0_4_1/split_2/train/image/_Image_06L_3_3.png (deflated 1%)\n",
            "  adding: chase_db_384_384_dice_bce_0_4__hvr_0_4_1/split_2/train/image/_Image_02R_2_1.png (deflated 2%)\n",
            "  adding: chase_db_384_384_dice_bce_0_4__hvr_0_4_1/split_2/train/image/_Image_01R_0_2.png (deflated 5%)\n",
            "  adding: chase_db_384_384_dice_bce_0_4__hvr_0_4_1/split_2/train/image/_Image_07R_0_5.png (deflated 2%)\n",
            "  adding: chase_db_384_384_dice_bce_0_4__hvr_0_4_1/split_2/train/image/_Image_02R_0_1.png (deflated 4%)\n",
            "  adding: chase_db_384_384_dice_bce_0_4__hvr_0_4_1/split_2/train/image/_Image_10L_2_7.png (deflated 5%)\n",
            "  adding: chase_db_384_384_dice_bce_0_4__hvr_0_4_1/split_2/train/image/_Image_01R_3_0.png (deflated 3%)\n",
            "  adding: chase_db_384_384_dice_bce_0_4__hvr_0_4_1/split_2/train/image/_Image_03R_2_7.png (deflated 3%)\n",
            "  adding: chase_db_384_384_dice_bce_0_4__hvr_0_4_1/split_2/train/image/_Image_08R_2_2.png (deflated 5%)\n",
            "  adding: chase_db_384_384_dice_bce_0_4__hvr_0_4_1/split_2/train/image/_Image_05L_3_2.png (deflated 2%)\n",
            "  adding: chase_db_384_384_dice_bce_0_4__hvr_0_4_1/split_2/train/image/_Image_10L_0_5.png (deflated 5%)\n",
            "  adding: chase_db_384_384_dice_bce_0_4__hvr_0_4_1/split_2/train/image/_Image_14R_2_0.png (deflated 5%)\n",
            "  adding: chase_db_384_384_dice_bce_0_4__hvr_0_4_1/split_2/train/image/_Image_05R_1_6.png (deflated 3%)\n",
            "  adding: chase_db_384_384_dice_bce_0_4__hvr_0_4_1/split_2/train/image/_Image_05L_3_7.png (deflated 2%)\n",
            "  adding: chase_db_384_384_dice_bce_0_4__hvr_0_4_1/split_2/train/image/_Image_03R_1_0.png (deflated 5%)\n",
            "  adding: chase_db_384_384_dice_bce_0_4__hvr_0_4_1/split_2/train/image/_Image_09L_2_5.png (deflated 3%)\n",
            "  adding: chase_db_384_384_dice_bce_0_4__hvr_0_4_1/split_2/train/image/_Image_02R_1_0.png (deflated 6%)\n",
            "  adding: chase_db_384_384_dice_bce_0_4__hvr_0_4_1/split_2/train/image/_Image_06L_0_8.png (deflated 4%)\n",
            "  adding: chase_db_384_384_dice_bce_0_4__hvr_0_4_1/split_2/train/image/_Image_09L_3_0.png (deflated 5%)\n",
            "  adding: chase_db_384_384_dice_bce_0_4__hvr_0_4_1/split_2/train/image/_Image_06L_3_2.png (deflated 4%)\n",
            "  adding: chase_db_384_384_dice_bce_0_4__hvr_0_4_1/split_2/train/image/_Image_07R_0_1.png (deflated 3%)\n",
            "  adding: chase_db_384_384_dice_bce_0_4__hvr_0_4_1/split_2/train/image/_Image_07R_3_0.png (deflated 2%)\n",
            "  adding: chase_db_384_384_dice_bce_0_4__hvr_0_4_1/split_2/train/image/_Image_13R_0_7.png (deflated 6%)\n",
            "  adding: chase_db_384_384_dice_bce_0_4__hvr_0_4_1/split_2/train/image/_Image_14R_0_1.png (deflated 4%)\n",
            "  adding: chase_db_384_384_dice_bce_0_4__hvr_0_4_1/split_2/train/image/_Image_03R_2_2.png (deflated 3%)\n",
            "  adding: chase_db_384_384_dice_bce_0_4__hvr_0_4_1/split_2/train/image/_Image_05R_2_7.png (deflated 3%)\n",
            "  adding: chase_db_384_384_dice_bce_0_4__hvr_0_4_1/split_2/train/image/_Image_04L_2_3.png (deflated 4%)\n",
            "  adding: chase_db_384_384_dice_bce_0_4__hvr_0_4_1/split_2/train/image/_Image_06R_2_3.png (deflated 6%)\n",
            "  adding: chase_db_384_384_dice_bce_0_4__hvr_0_4_1/split_2/train/image/_Image_02L_3_3.png (deflated 2%)\n",
            "  adding: chase_db_384_384_dice_bce_0_4__hvr_0_4_1/split_2/train/image/_Image_06L_1_7.png (deflated 2%)\n",
            "  adding: chase_db_384_384_dice_bce_0_4__hvr_0_4_1/split_2/train/image/_Image_10R_2_8.png (deflated 5%)\n",
            "  adding: chase_db_384_384_dice_bce_0_4__hvr_0_4_1/split_2/train/image/_Image_14L_3_8.png (deflated 1%)\n",
            "  adding: chase_db_384_384_dice_bce_0_4__hvr_0_4_1/split_2/train/image/_Image_05L_3_6.png (deflated 1%)\n",
            "  adding: chase_db_384_384_dice_bce_0_4__hvr_0_4_1/split_2/train/image/_Image_08L_3_7.png (deflated 3%)\n",
            "  adding: chase_db_384_384_dice_bce_0_4__hvr_0_4_1/split_2/train/image/_Image_04R_0_1.png (deflated 3%)\n",
            "  adding: chase_db_384_384_dice_bce_0_4__hvr_0_4_1/split_2/train/image/_Image_07L_2_2.png (deflated 3%)\n",
            "  adding: chase_db_384_384_dice_bce_0_4__hvr_0_4_1/split_2/train/image/_Image_09R_1_6.png (deflated 3%)\n",
            "  adding: chase_db_384_384_dice_bce_0_4__hvr_0_4_1/split_2/train/image/_Image_01L_3_6.png (deflated 2%)\n",
            "  adding: chase_db_384_384_dice_bce_0_4__hvr_0_4_1/split_2/train/image/_Image_07R_2_3.png (deflated 3%)\n",
            "  adding: chase_db_384_384_dice_bce_0_4__hvr_0_4_1/split_2/train/image/_Image_05L_1_8.png (deflated 3%)\n",
            "  adding: chase_db_384_384_dice_bce_0_4__hvr_0_4_1/split_2/train/image/_Image_02R_1_5.png (deflated 5%)\n",
            "  adding: chase_db_384_384_dice_bce_0_4__hvr_0_4_1/split_2/train/image/_Image_02L_0_0.png (deflated 4%)\n",
            "  adding: chase_db_384_384_dice_bce_0_4__hvr_0_4_1/split_2/train/image/_Image_02R_1_6.png (deflated 3%)\n",
            "  adding: chase_db_384_384_dice_bce_0_4__hvr_0_4_1/split_2/train/image/_Image_01R_3_5.png (deflated 1%)\n",
            "  adding: chase_db_384_384_dice_bce_0_4__hvr_0_4_1/split_2/train/image/_Image_14L_3_3.png (deflated 1%)\n",
            "  adding: chase_db_384_384_dice_bce_0_4__hvr_0_4_1/split_2/train/image/_Image_07R_3_8.png (deflated 2%)\n",
            "  adding: chase_db_384_384_dice_bce_0_4__hvr_0_4_1/split_2/train/image/_Image_01R_2_5.png (deflated 2%)\n",
            "  adding: chase_db_384_384_dice_bce_0_4__hvr_0_4_1/split_2/train/image/_Image_08L_0_6.png (deflated 5%)\n",
            "  adding: chase_db_384_384_dice_bce_0_4__hvr_0_4_1/split_2/train/image/_Image_08R_0_2.png (deflated 5%)\n",
            "  adding: chase_db_384_384_dice_bce_0_4__hvr_0_4_1/split_2/train/image/_Image_08L_2_7.png (deflated 5%)\n",
            "  adding: chase_db_384_384_dice_bce_0_4__hvr_0_4_1/split_2/train/image/_Image_04R_2_6.png (deflated 4%)\n",
            "  adding: chase_db_384_384_dice_bce_0_4__hvr_0_4_1/split_2/train/image/_Image_10R_0_8.png (deflated 4%)\n",
            "  adding: chase_db_384_384_dice_bce_0_4__hvr_0_4_1/split_2/train/image/_Image_09L_0_3.png (deflated 7%)\n",
            "  adding: chase_db_384_384_dice_bce_0_4__hvr_0_4_1/split_2/train/image/_Image_01R_2_3.png (deflated 5%)\n",
            "  adding: chase_db_384_384_dice_bce_0_4__hvr_0_4_1/split_2/train/image/_Image_05R_1_5.png (deflated 3%)\n",
            "  adding: chase_db_384_384_dice_bce_0_4__hvr_0_4_1/split_2/train/image/_Image_04L_3_4.png (deflated 2%)\n",
            "  adding: chase_db_384_384_dice_bce_0_4__hvr_0_4_1/split_2/train/image/_Image_13R_2_8.png (deflated 6%)\n",
            "  adding: chase_db_384_384_dice_bce_0_4__hvr_0_4_1/split_2/train/image/_Image_14R_1_7.png (deflated 2%)\n",
            "  adding: chase_db_384_384_dice_bce_0_4__hvr_0_4_1/split_2/train/image/_Image_14R_2_6.png (deflated 5%)\n",
            "  adding: chase_db_384_384_dice_bce_0_4__hvr_0_4_1/split_2/train/image/_Image_04L_0_5.png (deflated 4%)\n",
            "  adding: chase_db_384_384_dice_bce_0_4__hvr_0_4_1/split_2/train/image/_Image_03R_1_5.png (deflated 4%)\n",
            "  adding: chase_db_384_384_dice_bce_0_4__hvr_0_4_1/split_2/train/image/_Image_04L_0_7.png (deflated 2%)\n",
            "  adding: chase_db_384_384_dice_bce_0_4__hvr_0_4_1/split_2/train/image/_Image_08L_1_2.png (deflated 6%)\n",
            "  adding: chase_db_384_384_dice_bce_0_4__hvr_0_4_1/split_2/train/image/_Image_13R_0_3.png (deflated 10%)\n",
            "  adding: chase_db_384_384_dice_bce_0_4__hvr_0_4_1/split_2/train/image/_Image_08R_1_7.png (deflated 4%)\n",
            "  adding: chase_db_384_384_dice_bce_0_4__hvr_0_4_1/split_2/train/image/_Image_10L_1_3.png (deflated 5%)\n",
            "  adding: chase_db_384_384_dice_bce_0_4__hvr_0_4_1/split_2/train/image/_Image_03R_3_7.png (deflated 2%)\n",
            "  adding: chase_db_384_384_dice_bce_0_4__hvr_0_4_1/split_2/train/image/_Image_06L_0_6.png (deflated 3%)\n",
            "  adding: chase_db_384_384_dice_bce_0_4__hvr_0_4_1/split_2/train/image/_Image_14L_1_8.png (deflated 3%)\n",
            "  adding: chase_db_384_384_dice_bce_0_4__hvr_0_4_1/split_2/train/image/_Image_01R_1_0.png (deflated 5%)\n",
            "  adding: chase_db_384_384_dice_bce_0_4__hvr_0_4_1/split_2/train/image/_Image_05R_2_4.png (deflated 1%)\n",
            "  adding: chase_db_384_384_dice_bce_0_4__hvr_0_4_1/split_2/train/image/_Image_10R_2_6.png (deflated 4%)\n",
            "  adding: chase_db_384_384_dice_bce_0_4__hvr_0_4_1/split_2/train/image/_Image_08L_2_5.png (deflated 4%)\n",
            "  adding: chase_db_384_384_dice_bce_0_4__hvr_0_4_1/split_2/train/image/_Image_10L_2_8.png (deflated 4%)\n",
            "  adding: chase_db_384_384_dice_bce_0_4__hvr_0_4_1/split_2/train/image/_Image_07L_1_1.png (deflated 4%)\n",
            "  adding: chase_db_384_384_dice_bce_0_4__hvr_0_4_1/split_2/train/image/_Image_05L_3_1.png (deflated 2%)\n",
            "  adding: chase_db_384_384_dice_bce_0_4__hvr_0_4_1/split_2/train/image/_Image_04L_3_3.png (deflated 2%)\n",
            "  adding: chase_db_384_384_dice_bce_0_4__hvr_0_4_1/split_2/train/image/_Image_10L_3_4.png (deflated 1%)\n",
            "  adding: chase_db_384_384_dice_bce_0_4__hvr_0_4_1/split_2/train/image/_Image_05R_0_1.png (deflated 3%)\n",
            "  adding: chase_db_384_384_dice_bce_0_4__hvr_0_4_1/split_2/train/image/_Image_04R_3_2.png (deflated 2%)\n",
            "  adding: chase_db_384_384_dice_bce_0_4__hvr_0_4_1/split_2/train/image/_Image_10L_2_5.png (deflated 5%)\n",
            "  adding: chase_db_384_384_dice_bce_0_4__hvr_0_4_1/split_2/train/image/_Image_14L_2_7.png (deflated 3%)\n",
            "  adding: chase_db_384_384_dice_bce_0_4__hvr_0_4_1/split_2/train/image/_Image_14R_0_5.png (deflated 2%)\n",
            "  adding: chase_db_384_384_dice_bce_0_4__hvr_0_4_1/split_2/train/image/_Image_13R_0_1.png (deflated 7%)\n",
            "  adding: chase_db_384_384_dice_bce_0_4__hvr_0_4_1/split_2/train/image/_Image_08L_1_5.png (deflated 4%)\n",
            "  adding: chase_db_384_384_dice_bce_0_4__hvr_0_4_1/split_2/train/image/_Image_14L_2_0.png (deflated 3%)\n",
            "  adding: chase_db_384_384_dice_bce_0_4__hvr_0_4_1/split_2/train/image/_Image_03L_3_5.png (deflated 2%)\n",
            "  adding: chase_db_384_384_dice_bce_0_4__hvr_0_4_1/split_2/train/image/_Image_09R_2_3.png (deflated 3%)\n",
            "  adding: chase_db_384_384_dice_bce_0_4__hvr_0_4_1/split_2/train/image/_Image_03L_2_5.png (deflated 3%)\n",
            "  adding: chase_db_384_384_dice_bce_0_4__hvr_0_4_1/split_2/train/image/_Image_10L_3_7.png (deflated 2%)\n",
            "  adding: chase_db_384_384_dice_bce_0_4__hvr_0_4_1/split_2/train/image/_Image_06L_3_1.png (deflated 3%)\n",
            "  adding: chase_db_384_384_dice_bce_0_4__hvr_0_4_1/split_2/train/image/_Image_04L_2_8.png (deflated 4%)\n",
            "  adding: chase_db_384_384_dice_bce_0_4__hvr_0_4_1/split_2/train/image/_Image_01R_2_1.png (deflated 2%)\n",
            "  adding: chase_db_384_384_dice_bce_0_4__hvr_0_4_1/split_2/train/image/_Image_14R_2_2.png (deflated 3%)\n",
            "  adding: chase_db_384_384_dice_bce_0_4__hvr_0_4_1/split_2/train/image/_Image_03R_3_0.png (deflated 2%)\n",
            "  adding: chase_db_384_384_dice_bce_0_4__hvr_0_4_1/split_2/train/image/_Image_13R_3_1.png (deflated 4%)\n",
            "  adding: chase_db_384_384_dice_bce_0_4__hvr_0_4_1/split_2/train/image/_Image_05L_0_2.png (deflated 3%)\n",
            "  adding: chase_db_384_384_dice_bce_0_4__hvr_0_4_1/split_2/train/image/_Image_05L_1_1.png (deflated 3%)\n",
            "  adding: chase_db_384_384_dice_bce_0_4__hvr_0_4_1/split_2/train/image/_Image_07R_1_4.png (deflated 1%)\n",
            "  adding: chase_db_384_384_dice_bce_0_4__hvr_0_4_1/split_2/train/image/_Image_14L_0_8.png (deflated 3%)\n",
            "  adding: chase_db_384_384_dice_bce_0_4__hvr_0_4_1/split_2/train/image/_Image_06R_0_0.png (deflated 3%)\n",
            "  adding: chase_db_384_384_dice_bce_0_4__hvr_0_4_1/split_2/train/image/_Image_05L_3_5.png (deflated 1%)\n",
            "  adding: chase_db_384_384_dice_bce_0_4__hvr_0_4_1/split_2/train/image/_Image_09L_2_7.png (deflated 3%)\n",
            "  adding: chase_db_384_384_dice_bce_0_4__hvr_0_4_1/split_2/train/image/_Image_09R_2_1.png (deflated 2%)\n",
            "  adding: chase_db_384_384_dice_bce_0_4__hvr_0_4_1/split_2/train/image/_Image_04R_1_2.png (deflated 5%)\n",
            "  adding: chase_db_384_384_dice_bce_0_4__hvr_0_4_1/split_2/train/image/_Image_05R_3_1.png (deflated 2%)\n",
            "  adding: chase_db_384_384_dice_bce_0_4__hvr_0_4_1/split_2/train/image/_Image_04R_1_7.png (deflated 2%)\n",
            "  adding: chase_db_384_384_dice_bce_0_4__hvr_0_4_1/split_2/train/image/_Image_08L_1_6.png (deflated 5%)\n",
            "  adding: chase_db_384_384_dice_bce_0_4__hvr_0_4_1/split_2/train/image/_Image_14L_0_1.png (deflated 3%)\n",
            "  adding: chase_db_384_384_dice_bce_0_4__hvr_0_4_1/split_2/train/image/_Image_08L_0_3.png (deflated 3%)\n",
            "  adding: chase_db_384_384_dice_bce_0_4__hvr_0_4_1/split_2/train/image/_Image_03L_3_3.png (deflated 1%)\n",
            "  adding: chase_db_384_384_dice_bce_0_4__hvr_0_4_1/split_2/train/image/_Image_10L_3_0.png (deflated 3%)\n",
            "  adding: chase_db_384_384_dice_bce_0_4__hvr_0_4_1/split_2/train/image/_Image_07R_0_0.png (deflated 3%)\n",
            "  adding: chase_db_384_384_dice_bce_0_4__hvr_0_4_1/split_2/train/image/_Image_03L_0_6.png (deflated 3%)\n",
            "  adding: chase_db_384_384_dice_bce_0_4__hvr_0_4_1/split_2/train/image/_Image_10L_0_0.png (deflated 5%)\n",
            "  adding: chase_db_384_384_dice_bce_0_4__hvr_0_4_1/split_2/train/image/_Image_03R_1_3.png (deflated 2%)\n",
            "  adding: chase_db_384_384_dice_bce_0_4__hvr_0_4_1/split_2/train/image/_Image_08R_1_0.png (deflated 5%)\n",
            "  adding: chase_db_384_384_dice_bce_0_4__hvr_0_4_1/split_2/train/image/_Image_06R_0_8.png (deflated 3%)\n",
            "  adding: chase_db_384_384_dice_bce_0_4__hvr_0_4_1/split_2/train/image/_Image_07R_3_5.png (deflated 1%)\n",
            "  adding: chase_db_384_384_dice_bce_0_4__hvr_0_4_1/split_2/train/image/_Image_08L_3_0.png (deflated 3%)\n",
            "  adding: chase_db_384_384_dice_bce_0_4__hvr_0_4_1/split_2/train/image/_Image_13R_1_5.png (deflated 10%)\n",
            "  adding: chase_db_384_384_dice_bce_0_4__hvr_0_4_1/split_2/train/image/_Image_07L_0_4.png (deflated 2%)\n",
            "  adding: chase_db_384_384_dice_bce_0_4__hvr_0_4_1/split_2/train/image/_Image_03R_2_6.png (deflated 3%)\n",
            "  adding: chase_db_384_384_dice_bce_0_4__hvr_0_4_1/split_2/train/image/_Image_13R_1_6.png (deflated 7%)\n",
            "  adding: chase_db_384_384_dice_bce_0_4__hvr_0_4_1/split_2/train/image/_Image_09L_0_1.png (deflated 3%)\n",
            "  adding: chase_db_384_384_dice_bce_0_4__hvr_0_4_1/split_2/train/image/_Image_03L_2_6.png (deflated 3%)\n",
            "  adding: chase_db_384_384_dice_bce_0_4__hvr_0_4_1/split_2/train/image/_Image_08R_3_4.png (deflated 2%)\n",
            "  adding: chase_db_384_384_dice_bce_0_4__hvr_0_4_1/split_2/train/image/_Image_04R_0_0.png (deflated 4%)\n",
            "  adding: chase_db_384_384_dice_bce_0_4__hvr_0_4_1/split_2/train/image/_Image_07R_1_0.png (deflated 3%)\n",
            "  adding: chase_db_384_384_dice_bce_0_4__hvr_0_4_1/split_2/train/image/_Image_01R_0_5.png (deflated 2%)\n",
            "  adding: chase_db_384_384_dice_bce_0_4__hvr_0_4_1/split_2/train/image/_Image_08L_1_4.png (deflated 2%)\n",
            "  adding: chase_db_384_384_dice_bce_0_4__hvr_0_4_1/split_2/train/image/_Image_07L_2_1.png (deflated 2%)\n",
            "  adding: chase_db_384_384_dice_bce_0_4__hvr_0_4_1/split_2/train/image/_Image_14L_2_8.png (deflated 3%)\n",
            "  adding: chase_db_384_384_dice_bce_0_4__hvr_0_4_1/split_2/train/image/_Image_03L_0_8.png (deflated 3%)\n",
            "  adding: chase_db_384_384_dice_bce_0_4__hvr_0_4_1/split_2/train/image/_Image_02L_1_4.png (deflated 2%)\n",
            "  adding: chase_db_384_384_dice_bce_0_4__hvr_0_4_1/split_2/train/image/_Image_10R_0_0.png (deflated 4%)\n",
            "  adding: chase_db_384_384_dice_bce_0_4__hvr_0_4_1/split_2/train/image/_Image_06R_3_4.png (deflated 1%)\n",
            "  adding: chase_db_384_384_dice_bce_0_4__hvr_0_4_1/split_2/train/image/_Image_09R_0_8.png (deflated 4%)\n",
            "  adding: chase_db_384_384_dice_bce_0_4__hvr_0_4_1/split_2/train/image/_Image_09R_3_8.png (deflated 2%)\n",
            "  adding: chase_db_384_384_dice_bce_0_4__hvr_0_4_1/split_2/train/image/_Image_08L_2_1.png (deflated 4%)\n",
            "  adding: chase_db_384_384_dice_bce_0_4__hvr_0_4_1/split_2/train/image/_Image_14R_3_6.png (deflated 3%)\n",
            "  adding: chase_db_384_384_dice_bce_0_4__hvr_0_4_1/split_2/train/image/_Image_08R_2_7.png (deflated 5%)\n",
            "  adding: chase_db_384_384_dice_bce_0_4__hvr_0_4_1/split_2/train/image/_Image_08L_3_5.png (deflated 1%)\n",
            "  adding: chase_db_384_384_dice_bce_0_4__hvr_0_4_1/split_2/train/image/_Image_08L_1_0.png (deflated 4%)\n",
            "  adding: chase_db_384_384_dice_bce_0_4__hvr_0_4_1/split_2/train/image/_Image_07L_2_3.png (deflated 4%)\n",
            "  adding: chase_db_384_384_dice_bce_0_4__hvr_0_4_1/split_2/train/image/_Image_08L_1_8.png (deflated 5%)\n",
            "  adding: chase_db_384_384_dice_bce_0_4__hvr_0_4_1/split_2/train/image/_Image_04L_2_2.png (deflated 5%)\n",
            "  adding: chase_db_384_384_dice_bce_0_4__hvr_0_4_1/split_2/train/image/_Image_14R_1_6.png (deflated 3%)\n",
            "  adding: chase_db_384_384_dice_bce_0_4__hvr_0_4_1/split_2/train/image/_Image_03R_2_3.png (deflated 4%)\n",
            "  adding: chase_db_384_384_dice_bce_0_4__hvr_0_4_1/split_2/train/image/_Image_06L_2_1.png (deflated 2%)\n",
            "  adding: chase_db_384_384_dice_bce_0_4__hvr_0_4_1/split_2/train/image/_Image_03R_3_5.png (deflated 2%)\n",
            "  adding: chase_db_384_384_dice_bce_0_4__hvr_0_4_1/split_2/train/image/_Image_14L_1_2.png (deflated 3%)\n",
            "  adding: chase_db_384_384_dice_bce_0_4__hvr_0_4_1/split_2/train/image/_Image_05R_3_8.png (deflated 1%)\n",
            "  adding: chase_db_384_384_dice_bce_0_4__hvr_0_4_1/split_2/train/image/_Image_06R_3_5.png (deflated 2%)\n",
            "  adding: chase_db_384_384_dice_bce_0_4__hvr_0_4_1/split_2/train/image/_Image_04L_0_2.png (deflated 4%)\n",
            "  adding: chase_db_384_384_dice_bce_0_4__hvr_0_4_1/split_2/train/image/_Image_02R_2_6.png (deflated 4%)\n",
            "  adding: chase_db_384_384_dice_bce_0_4__hvr_0_4_1/split_2/train/image/_Image_10R_1_1.png (deflated 3%)\n",
            "  adding: chase_db_384_384_dice_bce_0_4__hvr_0_4_1/split_2/train/image/_Image_03R_2_0.png (deflated 4%)\n",
            "  adding: chase_db_384_384_dice_bce_0_4__hvr_0_4_1/split_2/train/image/_Image_02R_0_7.png (deflated 2%)\n",
            "  adding: chase_db_384_384_dice_bce_0_4__hvr_0_4_1/split_2/train/image/_Image_14R_1_5.png (deflated 4%)\n",
            "  adding: chase_db_384_384_dice_bce_0_4__hvr_0_4_1/split_2/train/image/_Image_03R_3_1.png (deflated 2%)\n",
            "  adding: chase_db_384_384_dice_bce_0_4__hvr_0_4_1/split_2/train/image/_Image_04L_0_8.png (deflated 5%)\n",
            "  adding: chase_db_384_384_dice_bce_0_4__hvr_0_4_1/split_2/train/image/_Image_04R_0_2.png (deflated 3%)\n",
            "  adding: chase_db_384_384_dice_bce_0_4__hvr_0_4_1/split_2/train/image/_Image_05R_0_6.png (deflated 3%)\n",
            "  adding: chase_db_384_384_dice_bce_0_4__hvr_0_4_1/split_2/train/image/_Image_09R_3_7.png (deflated 1%)\n",
            "  adding: chase_db_384_384_dice_bce_0_4__hvr_0_4_1/split_2/train/image/_Image_08L_1_3.png (deflated 4%)\n",
            "  adding: chase_db_384_384_dice_bce_0_4__hvr_0_4_1/split_2/train/image/_Image_03L_0_4.png (deflated 1%)\n",
            "  adding: chase_db_384_384_dice_bce_0_4__hvr_0_4_1/split_2/train/image/_Image_09L_2_2.png (deflated 4%)\n",
            "  adding: chase_db_384_384_dice_bce_0_4__hvr_0_4_1/split_2/train/image/_Image_06R_1_1.png (deflated 4%)\n",
            "  adding: chase_db_384_384_dice_bce_0_4__hvr_0_4_1/split_2/train/image/_Image_01R_1_6.png (deflated 3%)\n",
            "  adding: chase_db_384_384_dice_bce_0_4__hvr_0_4_1/split_2/train/image/_Image_08R_0_4.png (deflated 2%)\n",
            "  adding: chase_db_384_384_dice_bce_0_4__hvr_0_4_1/split_2/train/image/_Image_10L_3_6.png (deflated 3%)\n",
            "  adding: chase_db_384_384_dice_bce_0_4__hvr_0_4_1/split_2/train/image/_Image_03R_3_8.png (deflated 1%)\n",
            "  adding: chase_db_384_384_dice_bce_0_4__hvr_0_4_1/split_2/train/image/_Image_03L_3_1.png (deflated 2%)\n",
            "  adding: chase_db_384_384_dice_bce_0_4__hvr_0_4_1/split_2/train/image/_Image_01R_3_2.png (deflated 3%)\n",
            "  adding: chase_db_384_384_dice_bce_0_4__hvr_0_4_1/split_2/train/image/_Image_04R_3_0.png (deflated 2%)\n",
            "  adding: chase_db_384_384_dice_bce_0_4__hvr_0_4_1/split_2/train/image/_Image_13R_2_0.png (deflated 8%)\n",
            "  adding: chase_db_384_384_dice_bce_0_4__hvr_0_4_1/split_2/train/image/_Image_04R_0_8.png (deflated 4%)\n",
            "  adding: chase_db_384_384_dice_bce_0_4__hvr_0_4_1/split_2/train/image/_Image_14L_0_2.png (deflated 3%)\n",
            "  adding: chase_db_384_384_dice_bce_0_4__hvr_0_4_1/split_2/train/image/_Image_02R_3_6.png (deflated 1%)\n",
            "  adding: chase_db_384_384_dice_bce_0_4__hvr_0_4_1/split_2/train/image/_Image_01L_1_7.png (deflated 2%)\n",
            "  adding: chase_db_384_384_dice_bce_0_4__hvr_0_4_1/split_2/train/image/_Image_06L_3_4.png (deflated 2%)\n",
            "  adding: chase_db_384_384_dice_bce_0_4__hvr_0_4_1/split_2/train/image/_Image_10R_0_5.png (deflated 3%)\n",
            "  adding: chase_db_384_384_dice_bce_0_4__hvr_0_4_1/split_2/train/image/_Image_01L_0_6.png (deflated 3%)\n",
            "  adding: chase_db_384_384_dice_bce_0_4__hvr_0_4_1/split_2/train/image/_Image_13R_3_6.png (deflated 6%)\n",
            "  adding: chase_db_384_384_dice_bce_0_4__hvr_0_4_1/split_2/train/image/_Image_10L_0_3.png (deflated 3%)\n",
            "  adding: chase_db_384_384_dice_bce_0_4__hvr_0_4_1/split_2/train/image/_Image_09R_0_3.png (deflated 3%)\n",
            "  adding: chase_db_384_384_dice_bce_0_4__hvr_0_4_1/split_2/train/image/_Image_10R_1_8.png (deflated 4%)\n",
            "  adding: chase_db_384_384_dice_bce_0_4__hvr_0_4_1/split_2/train/image/_Image_10R_2_0.png (deflated 4%)\n",
            "  adding: chase_db_384_384_dice_bce_0_4__hvr_0_4_1/split_2/train/image/_Image_08R_1_6.png (deflated 5%)\n",
            "  adding: chase_db_384_384_dice_bce_0_4__hvr_0_4_1/split_2/train/image/_Image_02L_3_8.png (deflated 3%)\n",
            "  adding: chase_db_384_384_dice_bce_0_4__hvr_0_4_1/split_2/train/image/_Image_02R_3_2.png (deflated 3%)\n",
            "  adding: chase_db_384_384_dice_bce_0_4__hvr_0_4_1/split_2/train/image/_Image_14R_0_7.png (deflated 2%)\n",
            "  adding: chase_db_384_384_dice_bce_0_4__hvr_0_4_1/split_2/train/image/_Image_04R_3_5.png (deflated 2%)\n",
            "  adding: chase_db_384_384_dice_bce_0_4__hvr_0_4_1/split_2/train/image/_Image_14R_0_6.png (deflated 4%)\n",
            "  adding: chase_db_384_384_dice_bce_0_4__hvr_0_4_1/split_2/train/image/_Image_09L_0_7.png (deflated 1%)\n",
            "  adding: chase_db_384_384_dice_bce_0_4__hvr_0_4_1/split_2/train/image/_Image_06L_1_6.png (deflated 4%)\n",
            "  adding: chase_db_384_384_dice_bce_0_4__hvr_0_4_1/split_2/train/image/_Image_13R_1_8.png (deflated 9%)\n",
            "  adding: chase_db_384_384_dice_bce_0_4__hvr_0_4_1/split_2/train/image/_Image_09L_3_3.png (deflated 5%)\n",
            "  adding: chase_db_384_384_dice_bce_0_4__hvr_0_4_1/split_2/train/image/_Image_13R_0_0.png (deflated 7%)\n",
            "  adding: chase_db_384_384_dice_bce_0_4__hvr_0_4_1/split_2/train/image/_Image_05L_3_0.png (deflated 1%)\n",
            "  adding: chase_db_384_384_dice_bce_0_4__hvr_0_4_1/split_2/train/image/_Image_09R_3_6.png (deflated 3%)\n",
            "  adding: chase_db_384_384_dice_bce_0_4__hvr_0_4_1/split_2/train/image/_Image_05L_1_2.png (deflated 3%)\n",
            "  adding: chase_db_384_384_dice_bce_0_4__hvr_0_4_1/split_2/train/image/_Image_01L_3_1.png (deflated 2%)\n",
            "  adding: chase_db_384_384_dice_bce_0_4__hvr_0_4_1/split_2/train/image/_Image_06R_1_0.png (deflated 5%)\n",
            "  adding: chase_db_384_384_dice_bce_0_4__hvr_0_4_1/split_2/train/image/_Image_09L_0_0.png (deflated 6%)\n",
            "  adding: chase_db_384_384_dice_bce_0_4__hvr_0_4_1/split_2/train/image/_Image_05L_0_0.png (deflated 3%)\n",
            "  adding: chase_db_384_384_dice_bce_0_4__hvr_0_4_1/split_2/train/image/_Image_06R_2_2.png (deflated 4%)\n",
            "  adding: chase_db_384_384_dice_bce_0_4__hvr_0_4_1/split_2/train/image/_Image_14R_3_2.png (deflated 2%)\n",
            "  adding: chase_db_384_384_dice_bce_0_4__hvr_0_4_1/split_2/train/image/_Image_05R_2_8.png (deflated 3%)\n",
            "  adding: chase_db_384_384_dice_bce_0_4__hvr_0_4_1/split_2/train/image/_Image_10L_2_2.png (deflated 4%)\n",
            "  adding: chase_db_384_384_dice_bce_0_4__hvr_0_4_1/split_2/train/image/_Image_02R_1_8.png (deflated 5%)\n",
            "  adding: chase_db_384_384_dice_bce_0_4__hvr_0_4_1/split_2/train/image/_Image_01R_3_3.png (deflated 2%)\n",
            "  adding: chase_db_384_384_dice_bce_0_4__hvr_0_4_1/split_2/train/image/_Image_06R_3_6.png (deflated 3%)\n",
            "  adding: chase_db_384_384_dice_bce_0_4__hvr_0_4_1/split_2/train/image/_Image_13R_3_0.png (deflated 3%)\n",
            "  adding: chase_db_384_384_dice_bce_0_4__hvr_0_4_1/split_2/train/image/_Image_01L_0_5.png (deflated 5%)\n",
            "  adding: chase_db_384_384_dice_bce_0_4__hvr_0_4_1/split_2/train/image/_Image_09L_1_0.png (deflated 4%)\n",
            "  adding: chase_db_384_384_dice_bce_0_4__hvr_0_4_1/split_2/train/image/_Image_09R_1_1.png (deflated 4%)\n",
            "  adding: chase_db_384_384_dice_bce_0_4__hvr_0_4_1/split_2/train/image/_Image_10L_0_2.png (deflated 4%)\n",
            "  adding: chase_db_384_384_dice_bce_0_4__hvr_0_4_1/split_2/train/image/_Image_02R_0_0.png (deflated 4%)\n",
            "  adding: chase_db_384_384_dice_bce_0_4__hvr_0_4_1/split_2/train/image/_Image_02L_3_6.png (deflated 3%)\n",
            "  adding: chase_db_384_384_dice_bce_0_4__hvr_0_4_1/split_2/train/image/_Image_13R_0_2.png (deflated 6%)\n",
            "  adding: chase_db_384_384_dice_bce_0_4__hvr_0_4_1/split_2/train/image/_Image_10R_2_7.png (deflated 4%)\n",
            "  adding: chase_db_384_384_dice_bce_0_4__hvr_0_4_1/split_2/train/image/_Image_14L_1_6.png (deflated 3%)\n",
            "  adding: chase_db_384_384_dice_bce_0_4__hvr_0_4_1/split_2/train/image/_Image_05L_0_5.png (deflated 3%)\n",
            "  adding: chase_db_384_384_dice_bce_0_4__hvr_0_4_1/split_2/train/image/_Image_08R_0_0.png (deflated 4%)\n",
            "  adding: chase_db_384_384_dice_bce_0_4__hvr_0_4_1/split_2/train/image/_Image_10R_2_5.png (deflated 3%)\n",
            "  adding: chase_db_384_384_dice_bce_0_4__hvr_0_4_1/split_2/train/image/_Image_01R_3_1.png (deflated 2%)\n",
            "  adding: chase_db_384_384_dice_bce_0_4__hvr_0_4_1/split_2/train/image/_Image_01L_0_8.png (deflated 4%)\n",
            "  adding: chase_db_384_384_dice_bce_0_4__hvr_0_4_1/split_2/train/image/_Image_08L_0_1.png (deflated 5%)\n",
            "  adding: chase_db_384_384_dice_bce_0_4__hvr_0_4_1/split_2/train/image/_Image_04L_1_3.png (deflated 3%)\n",
            "  adding: chase_db_384_384_dice_bce_0_4__hvr_0_4_1/split_2/train/image/_Image_02L_1_2.png (deflated 4%)\n",
            "  adding: chase_db_384_384_dice_bce_0_4__hvr_0_4_1/split_2/train/image/_Image_01R_1_7.png (deflated 2%)\n",
            "  adding: chase_db_384_384_dice_bce_0_4__hvr_0_4_1/split_2/train/image/_Image_14R_0_0.png (deflated 5%)\n",
            "  adding: chase_db_384_384_dice_bce_0_4__hvr_0_4_1/split_2/train/image/_Image_05L_2_5.png (deflated 3%)\n",
            "  adding: chase_db_384_384_dice_bce_0_4__hvr_0_4_1/split_2/train/image/_Image_10R_2_4.png (deflated 1%)\n",
            "  adding: chase_db_384_384_dice_bce_0_4__hvr_0_4_1/split_2/train/image/_Image_14L_0_4.png (deflated 2%)\n",
            "  adding: chase_db_384_384_dice_bce_0_4__hvr_0_4_1/split_2/train/image/_Image_10R_2_2.png (deflated 4%)\n",
            "  adding: chase_db_384_384_dice_bce_0_4__hvr_0_4_1/split_2/train/image/_Image_14R_2_8.png (deflated 4%)\n",
            "  adding: chase_db_384_384_dice_bce_0_4__hvr_0_4_1/split_2/train/image/_Image_06L_2_6.png (deflated 4%)\n",
            "  adding: chase_db_384_384_dice_bce_0_4__hvr_0_4_1/split_2/train/image/_Image_06L_1_5.png (deflated 3%)\n",
            "  adding: chase_db_384_384_dice_bce_0_4__hvr_0_4_1/split_2/train/image/_Image_07L_1_0.png (deflated 4%)\n",
            "  adding: chase_db_384_384_dice_bce_0_4__hvr_0_4_1/split_2/train/image/_Image_03R_2_8.png (deflated 5%)\n",
            "  adding: chase_db_384_384_dice_bce_0_4__hvr_0_4_1/split_2/train/image/_Image_01R_1_5.png (deflated 6%)\n",
            "  adding: chase_db_384_384_dice_bce_0_4__hvr_0_4_1/split_2/train/image/_Image_01L_1_4.png (deflated 1%)\n",
            "  adding: chase_db_384_384_dice_bce_0_4__hvr_0_4_1/split_2/train/image/_Image_04R_2_5.png (deflated 3%)\n",
            "  adding: chase_db_384_384_dice_bce_0_4__hvr_0_4_1/split_2/train/image/_Image_04L_0_3.png (deflated 4%)\n",
            "  adding: chase_db_384_384_dice_bce_0_4__hvr_0_4_1/split_2/train/image/_Image_08L_2_8.png (deflated 4%)\n",
            "  adding: chase_db_384_384_dice_bce_0_4__hvr_0_4_1/split_2/train/image/_Image_06R_2_6.png (deflated 3%)\n",
            "  adding: chase_db_384_384_dice_bce_0_4__hvr_0_4_1/split_2/train/image/_Image_14L_3_0.png (deflated 2%)\n",
            "  adding: chase_db_384_384_dice_bce_0_4__hvr_0_4_1/split_2/train/image/_Image_04R_3_4.png (deflated 1%)\n",
            "  adding: chase_db_384_384_dice_bce_0_4__hvr_0_4_1/split_2/train/image/_Image_14R_3_3.png (deflated 2%)\n",
            "  adding: chase_db_384_384_dice_bce_0_4__hvr_0_4_1/split_2/train/image/_Image_09R_0_4.png (deflated 2%)\n",
            "  adding: chase_db_384_384_dice_bce_0_4__hvr_0_4_1/split_2/train/image/_Image_10R_0_1.png (deflated 3%)\n",
            "  adding: chase_db_384_384_dice_bce_0_4__hvr_0_4_1/split_2/train/image/_Image_06L_1_2.png (deflated 4%)\n",
            "  adding: chase_db_384_384_dice_bce_0_4__hvr_0_4_1/split_2/train/image/_Image_10R_0_7.png (deflated 2%)\n",
            "  adding: chase_db_384_384_dice_bce_0_4__hvr_0_4_1/split_2/train/image/_Image_09R_1_0.png (deflated 6%)\n",
            "  adding: chase_db_384_384_dice_bce_0_4__hvr_0_4_1/split_2/train/image/_Image_04L_3_1.png (deflated 2%)\n",
            "  adding: chase_db_384_384_dice_bce_0_4__hvr_0_4_1/split_2/train/image/_Image_10L_1_6.png (deflated 4%)\n",
            "  adding: chase_db_384_384_dice_bce_0_4__hvr_0_4_1/split_2/train/image/_Image_13R_0_8.png (deflated 8%)\n",
            "  adding: chase_db_384_384_dice_bce_0_4__hvr_0_4_1/split_2/train/image/_Image_14L_3_1.png (deflated 2%)\n",
            "  adding: chase_db_384_384_dice_bce_0_4__hvr_0_4_1/split_2/train/image/_Image_09R_3_0.png (deflated 2%)\n",
            "  adding: chase_db_384_384_dice_bce_0_4__hvr_0_4_1/split_2/train/image/_Image_01L_2_7.png (deflated 2%)\n",
            "  adding: chase_db_384_384_dice_bce_0_4__hvr_0_4_1/split_2/train/image/_Image_06R_1_8.png (deflated 4%)\n",
            "  adding: chase_db_384_384_dice_bce_0_4__hvr_0_4_1/split_2/train/image/_Image_07L_3_2.png (deflated 3%)\n",
            "  adding: chase_db_384_384_dice_bce_0_4__hvr_0_4_1/split_2/train/image/_Image_08L_1_7.png (deflated 4%)\n",
            "  adding: chase_db_384_384_dice_bce_0_4__hvr_0_4_1/split_2/train/image/_Image_09R_1_7.png (deflated 2%)\n",
            "  adding: chase_db_384_384_dice_bce_0_4__hvr_0_4_1/split_2/train/image/_Image_05R_0_2.png (deflated 3%)\n",
            "  adding: chase_db_384_384_dice_bce_0_4__hvr_0_4_1/split_2/train/image/_Image_01L_1_3.png (deflated 4%)\n",
            "  adding: chase_db_384_384_dice_bce_0_4__hvr_0_4_1/split_2/train/image/_Image_10L_2_0.png (deflated 4%)\n",
            "  adding: chase_db_384_384_dice_bce_0_4__hvr_0_4_1/split_2/train/image/_Image_08L_0_8.png (deflated 5%)\n",
            "  adding: chase_db_384_384_dice_bce_0_4__hvr_0_4_1/split_2/train/image/_Image_14R_3_8.png (deflated 1%)\n",
            "  adding: chase_db_384_384_dice_bce_0_4__hvr_0_4_1/split_2/train/image/_Image_03R_0_3.png (deflated 4%)\n",
            "  adding: chase_db_384_384_dice_bce_0_4__hvr_0_4_1/split_2/train/image/_Image_02L_1_7.png (deflated 2%)\n",
            "  adding: chase_db_384_384_dice_bce_0_4__hvr_0_4_1/split_2/train/image/_Image_03L_1_0.png (deflated 3%)\n",
            "  adding: chase_db_384_384_dice_bce_0_4__hvr_0_4_1/split_2/train/image/_Image_02L_3_1.png (deflated 3%)\n",
            "  adding: chase_db_384_384_dice_bce_0_4__hvr_0_4_1/split_2/train/image/_Image_10L_3_2.png (deflated 4%)\n",
            "  adding: chase_db_384_384_dice_bce_0_4__hvr_0_4_1/split_2/train/image/_Image_09R_3_2.png (deflated 3%)\n",
            "  adding: chase_db_384_384_dice_bce_0_4__hvr_0_4_1/split_2/train/image/_Image_07R_2_0.png (deflated 4%)\n",
            "  adding: chase_db_384_384_dice_bce_0_4__hvr_0_4_1/split_2/train/image/_Image_14R_1_4.png (deflated 1%)\n",
            "  adding: chase_db_384_384_dice_bce_0_4__hvr_0_4_1/split_2/train/image/_Image_02R_3_3.png (deflated 2%)\n",
            "  adding: chase_db_384_384_dice_bce_0_4__hvr_0_4_1/split_2/train/image/_Image_02L_2_6.png (deflated 5%)\n",
            "  adding: chase_db_384_384_dice_bce_0_4__hvr_0_4_1/split_2/train/image/_Image_05R_3_4.png (deflated 1%)\n",
            "  adding: chase_db_384_384_dice_bce_0_4__hvr_0_4_1/split_2/train/image/_Image_05L_2_8.png (deflated 3%)\n",
            "  adding: chase_db_384_384_dice_bce_0_4__hvr_0_4_1/split_2/train/image/_Image_01L_0_7.png (deflated 1%)\n",
            "  adding: chase_db_384_384_dice_bce_0_4__hvr_0_4_1/split_2/train/image/_Image_06L_2_2.png (deflated 4%)\n",
            "  adding: chase_db_384_384_dice_bce_0_4__hvr_0_4_1/split_2/train/image/_Image_09L_2_3.png (deflated 7%)\n",
            "  adding: chase_db_384_384_dice_bce_0_4__hvr_0_4_1/split_2/train/image/_Image_04R_3_6.png (deflated 2%)\n",
            "  adding: chase_db_384_384_dice_bce_0_4__hvr_0_4_1/split_2/train/image/_Image_14L_2_5.png (deflated 3%)\n",
            "  adding: chase_db_384_384_dice_bce_0_4__hvr_0_4_1/split_2/train/image/_Image_09R_3_3.png (deflated 2%)\n",
            "  adding: chase_db_384_384_dice_bce_0_4__hvr_0_4_1/split_2/train/image/_Image_07L_3_1.png (deflated 2%)\n",
            "  adding: chase_db_384_384_dice_bce_0_4__hvr_0_4_1/split_2/train/image/_Image_08L_3_3.png (deflated 1%)\n",
            "  adding: chase_db_384_384_dice_bce_0_4__hvr_0_4_1/split_2/train/image/_Image_08R_0_8.png (deflated 5%)\n",
            "  adding: chase_db_384_384_dice_bce_0_4__hvr_0_4_1/split_2/train/image/_Image_08L_3_1.png (deflated 3%)\n",
            "  adding: chase_db_384_384_dice_bce_0_4__hvr_0_4_1/split_2/train/image/_Image_10L_1_1.png (deflated 5%)\n",
            "  adding: chase_db_384_384_dice_bce_0_4__hvr_0_4_1/split_2/train/image/_Image_06R_0_3.png (deflated 6%)\n",
            "  adding: chase_db_384_384_dice_bce_0_4__hvr_0_4_1/split_2/train/image/_Image_14L_2_6.png (deflated 3%)\n",
            "  adding: chase_db_384_384_dice_bce_0_4__hvr_0_4_1/split_2/train/image/_Image_01R_2_4.png (deflated 1%)\n",
            "  adding: chase_db_384_384_dice_bce_0_4__hvr_0_4_1/split_2/train/image/_Image_04L_1_0.png (deflated 4%)\n",
            "  adding: chase_db_384_384_dice_bce_0_4__hvr_0_4_1/split_2/train/image/_Image_08R_1_4.png (deflated 2%)\n",
            "  adding: chase_db_384_384_dice_bce_0_4__hvr_0_4_1/split_2/train/image/_Image_10L_0_4.png (deflated 1%)\n",
            "  adding: chase_db_384_384_dice_bce_0_4__hvr_0_4_1/split_2/train/image/_Image_13R_0_5.png (deflated 6%)\n",
            "  adding: chase_db_384_384_dice_bce_0_4__hvr_0_4_1/split_2/train/image/_Image_08R_2_3.png (deflated 6%)\n",
            "  adding: chase_db_384_384_dice_bce_0_4__hvr_0_4_1/split_2/train/image/_Image_10R_3_8.png (deflated 3%)\n",
            "  adding: chase_db_384_384_dice_bce_0_4__hvr_0_4_1/split_2/train/image/_Image_01L_2_6.png (deflated 3%)\n",
            "  adding: chase_db_384_384_dice_bce_0_4__hvr_0_4_1/split_2/train/image/_Image_04L_1_8.png (deflated 3%)\n",
            "  adding: chase_db_384_384_dice_bce_0_4__hvr_0_4_1/split_2/train/image/_Image_08R_2_8.png (deflated 5%)\n",
            "  adding: chase_db_384_384_dice_bce_0_4__hvr_0_4_1/split_2/train/image/_Image_01L_0_4.png (deflated 1%)\n",
            "  adding: chase_db_384_384_dice_bce_0_4__hvr_0_4_1/split_2/train/image/_Image_07R_1_5.png (deflated 3%)\n",
            "  adding: chase_db_384_384_dice_bce_0_4__hvr_0_4_1/split_2/train/image/_Image_07R_1_7.png (deflated 2%)\n",
            "  adding: chase_db_384_384_dice_bce_0_4__hvr_0_4_1/split_2/train/image/_Image_06L_2_7.png (deflated 5%)\n",
            "  adding: chase_db_384_384_dice_bce_0_4__hvr_0_4_1/split_2/train/image/_Image_14L_3_5.png (deflated 1%)\n",
            "  adding: chase_db_384_384_dice_bce_0_4__hvr_0_4_1/split_2/train/image/_Image_01R_1_2.png (deflated 5%)\n",
            "  adding: chase_db_384_384_dice_bce_0_4__hvr_0_4_1/split_2/train/image/_Image_05L_3_4.png (deflated 1%)\n",
            "  adding: chase_db_384_384_dice_bce_0_4__hvr_0_4_1/split_2/train/image/_Image_07L_1_6.png (deflated 3%)\n",
            "  adding: chase_db_384_384_dice_bce_0_4__hvr_0_4_1/split_2/train/image/_Image_14R_2_1.png (deflated 2%)\n",
            "  adding: chase_db_384_384_dice_bce_0_4__hvr_0_4_1/split_2/train/image/_Image_01L_2_2.png (deflated 4%)\n",
            "  adding: chase_db_384_384_dice_bce_0_4__hvr_0_4_1/split_2/train/image/_Image_01R_1_4.png (deflated 1%)\n",
            "  adding: chase_db_384_384_dice_bce_0_4__hvr_0_4_1/split_2/train/image/_Image_07L_0_3.png (deflated 4%)\n",
            "  adding: chase_db_384_384_dice_bce_0_4__hvr_0_4_1/split_2/train/image/_Image_05R_1_4.png (deflated 1%)\n",
            "  adding: chase_db_384_384_dice_bce_0_4__hvr_0_4_1/split_2/train/image/_Image_08R_3_7.png (deflated 2%)\n",
            "  adding: chase_db_384_384_dice_bce_0_4__hvr_0_4_1/split_2/train/image/_Image_03L_2_7.png (deflated 3%)\n",
            "  adding: chase_db_384_384_dice_bce_0_4__hvr_0_4_1/split_2/train/image/_Image_06L_1_4.png (deflated 2%)\n",
            "  adding: chase_db_384_384_dice_bce_0_4__hvr_0_4_1/split_2/train/image/_Image_09L_3_6.png (deflated 4%)\n",
            "  adding: chase_db_384_384_dice_bce_0_4__hvr_0_4_1/split_2/train/image/_Image_09L_2_6.png (deflated 6%)\n",
            "  adding: chase_db_384_384_dice_bce_0_4__hvr_0_4_1/split_2/train/image/_Image_07R_3_6.png (deflated 2%)\n",
            "  adding: chase_db_384_384_dice_bce_0_4__hvr_0_4_1/split_2/train/image/_Image_06R_0_4.png (deflated 2%)\n",
            "  adding: chase_db_384_384_dice_bce_0_4__hvr_0_4_1/split_2/train/image/_Image_02R_2_3.png (deflated 5%)\n",
            "  adding: chase_db_384_384_dice_bce_0_4__hvr_0_4_1/split_2/train/image/_Image_05L_0_1.png (deflated 3%)\n",
            "  adding: chase_db_384_384_dice_bce_0_4__hvr_0_4_1/split_2/train/image/_Image_13R_2_3.png (deflated 10%)\n",
            "  adding: chase_db_384_384_dice_bce_0_4__hvr_0_4_1/split_2/train/image/_Image_03R_1_2.png (deflated 4%)\n",
            "  adding: chase_db_384_384_dice_bce_0_4__hvr_0_4_1/split_2/train/image/_Image_14L_1_5.png (deflated 2%)\n",
            "  adding: chase_db_384_384_dice_bce_0_4__hvr_0_4_1/split_2/train/image/_Image_06L_2_5.png (deflated 4%)\n",
            "  adding: chase_db_384_384_dice_bce_0_4__hvr_0_4_1/split_2/train/image/_Image_09R_0_6.png (deflated 3%)\n",
            "  adding: chase_db_384_384_dice_bce_0_4__hvr_0_4_1/split_2/train/image/_Image_01R_2_6.png (deflated 4%)\n",
            "  adding: chase_db_384_384_dice_bce_0_4__hvr_0_4_1/split_2/train/image/_Image_10R_1_4.png (deflated 1%)\n",
            "  adding: chase_db_384_384_dice_bce_0_4__hvr_0_4_1/split_2/train/image/_Image_14R_3_7.png (deflated 2%)\n",
            "  adding: chase_db_384_384_dice_bce_0_4__hvr_0_4_1/split_2/train/image/_Image_02L_1_1.png (deflated 4%)\n",
            "  adding: chase_db_384_384_dice_bce_0_4__hvr_0_4_1/split_2/train/image/_Image_06R_2_1.png (deflated 3%)\n",
            "  adding: chase_db_384_384_dice_bce_0_4__hvr_0_4_1/split_2/train/image/_Image_07R_3_1.png (deflated 2%)\n",
            "  adding: chase_db_384_384_dice_bce_0_4__hvr_0_4_1/split_2/train/image/_Image_01R_3_6.png (deflated 4%)\n",
            "  adding: chase_db_384_384_dice_bce_0_4__hvr_0_4_1/split_2/train/image/_Image_03R_0_1.png (deflated 3%)\n",
            "  adding: chase_db_384_384_dice_bce_0_4__hvr_0_4_1/split_2/train/image/_Image_02R_3_8.png (deflated 2%)\n",
            "  adding: chase_db_384_384_dice_bce_0_4__hvr_0_4_1/split_2/train/image/_Image_01R_2_7.png (deflated 3%)\n",
            "  adding: chase_db_384_384_dice_bce_0_4__hvr_0_4_1/split_2/train/image/_Image_04L_0_1.png (deflated 4%)\n",
            "  adding: chase_db_384_384_dice_bce_0_4__hvr_0_4_1/split_2/train/image/_Image_03R_1_1.png (deflated 3%)\n",
            "  adding: chase_db_384_384_dice_bce_0_4__hvr_0_4_1/split_2/train/image/_Image_10L_1_8.png (deflated 4%)\n",
            "  adding: chase_db_384_384_dice_bce_0_4__hvr_0_4_1/split_2/train/image/_Image_08R_3_1.png (deflated 3%)\n",
            "  adding: chase_db_384_384_dice_bce_0_4__hvr_0_4_1/split_2/train/image/_Image_10R_3_7.png (deflated 2%)\n",
            "  adding: chase_db_384_384_dice_bce_0_4__hvr_0_4_1/split_2/train/image/_Image_09L_3_1.png (deflated 2%)\n",
            "  adding: chase_db_384_384_dice_bce_0_4__hvr_0_4_1/split_2/train/image/_Image_01L_0_0.png (deflated 3%)\n",
            "  adding: chase_db_384_384_dice_bce_0_4__hvr_0_4_1/split_2/train/image/_Image_14L_1_4.png (deflated 2%)\n",
            "  adding: chase_db_384_384_dice_bce_0_4__hvr_0_4_1/split_2/train/image/_Image_08R_1_8.png (deflated 5%)\n",
            "  adding: chase_db_384_384_dice_bce_0_4__hvr_0_4_1/split_2/train/image/_Image_04R_1_8.png (deflated 3%)\n",
            "  adding: chase_db_384_384_dice_bce_0_4__hvr_0_4_1/split_2/train/image/_Image_04L_3_5.png (deflated 2%)\n",
            "  adding: chase_db_384_384_dice_bce_0_4__hvr_0_4_1/split_2/train/image/_Image_07L_1_7.png (deflated 2%)\n",
            "  adding: chase_db_384_384_dice_bce_0_4__hvr_0_4_1/split_2/train/image/_Image_14R_3_5.png (deflated 2%)\n",
            "  adding: chase_db_384_384_dice_bce_0_4__hvr_0_4_1/split_2/train/image/_Image_02L_1_5.png (deflated 4%)\n",
            "  adding: chase_db_384_384_dice_bce_0_4__hvr_0_4_1/split_2/train/image/_Image_03L_1_4.png (deflated 1%)\n",
            "  adding: chase_db_384_384_dice_bce_0_4__hvr_0_4_1/split_2/train/image/_Image_08R_0_3.png (deflated 6%)\n",
            "  adding: chase_db_384_384_dice_bce_0_4__hvr_0_4_1/split_2/train/image/_Image_10R_3_6.png (deflated 3%)\n",
            "  adding: chase_db_384_384_dice_bce_0_4__hvr_0_4_1/split_2/train/image/_Image_02R_3_7.png (deflated 1%)\n",
            "  adding: chase_db_384_384_dice_bce_0_4__hvr_0_4_1/split_2/train/image/_Image_04R_2_8.png (deflated 3%)\n",
            "  adding: chase_db_384_384_dice_bce_0_4__hvr_0_4_1/split_2/train/image/_Image_09R_0_5.png (deflated 7%)\n",
            "  adding: chase_db_384_384_dice_bce_0_4__hvr_0_4_1/split_2/train/image/_Image_05R_3_3.png (deflated 1%)\n",
            "  adding: chase_db_384_384_dice_bce_0_4__hvr_0_4_1/split_2/train/image/_Image_07L_2_6.png (deflated 3%)\n",
            "  adding: chase_db_384_384_dice_bce_0_4__hvr_0_4_1/split_2/train/image/_Image_02R_2_7.png (deflated 4%)\n",
            "  adding: chase_db_384_384_dice_bce_0_4__hvr_0_4_1/split_2/train/image/_Image_05R_0_0.png (deflated 3%)\n",
            "  adding: chase_db_384_384_dice_bce_0_4__hvr_0_4_1/split_2/train/image/_Image_01L_3_4.png (deflated 1%)\n",
            "  adding: chase_db_384_384_dice_bce_0_4__hvr_0_4_1/split_2/train/image/_Image_04L_3_8.png (deflated 3%)\n",
            "  adding: chase_db_384_384_dice_bce_0_4__hvr_0_4_1/split_2/train/image/_Image_14R_2_4.png (deflated 1%)\n",
            "  adding: chase_db_384_384_dice_bce_0_4__hvr_0_4_1/split_2/train/image/_Image_07L_0_7.png (deflated 2%)\n",
            "  adding: chase_db_384_384_dice_bce_0_4__hvr_0_4_1/split_2/train/image/_Image_02R_1_1.png (deflated 4%)\n",
            "  adding: chase_db_384_384_dice_bce_0_4__hvr_0_4_1/split_2/train/image/_Image_03L_0_7.png (deflated 2%)\n",
            "  adding: chase_db_384_384_dice_bce_0_4__hvr_0_4_1/split_2/train/image/_Image_09L_1_3.png (deflated 2%)\n",
            "  adding: chase_db_384_384_dice_bce_0_4__hvr_0_4_1/split_2/train/image/_Image_02R_0_3.png (deflated 5%)\n",
            "  adding: chase_db_384_384_dice_bce_0_4__hvr_0_4_1/split_2/train/image/_Image_01L_2_3.png (deflated 2%)\n",
            "  adding: chase_db_384_384_dice_bce_0_4__hvr_0_4_1/split_2/train/image/_Image_01L_3_2.png (deflated 2%)\n",
            "  adding: chase_db_384_384_dice_bce_0_4__hvr_0_4_1/split_2/train/image/_Image_07R_0_3.png (deflated 2%)\n",
            "  adding: chase_db_384_384_dice_bce_0_4__hvr_0_4_1/split_2/train/image/_Image_05L_2_4.png (deflated 2%)\n",
            "  adding: chase_db_384_384_dice_bce_0_4__hvr_0_4_1/split_2/train/image/_Image_02R_1_2.png (deflated 4%)\n",
            "  adding: chase_db_384_384_dice_bce_0_4__hvr_0_4_1/split_2/train/image/_Image_03L_3_7.png (deflated 2%)\n",
            "  adding: chase_db_384_384_dice_bce_0_4__hvr_0_4_1/split_2/train/image/_Image_08L_0_4.png (deflated 2%)\n",
            "  adding: chase_db_384_384_dice_bce_0_4__hvr_0_4_1/split_2/train/image/_Image_04L_2_0.png (deflated 3%)\n",
            "  adding: chase_db_384_384_dice_bce_0_4__hvr_0_4_1/split_2/train/image/_Image_06L_0_0.png (deflated 4%)\n",
            "  adding: chase_db_384_384_dice_bce_0_4__hvr_0_4_1/split_2/train/image/_Image_03R_3_3.png (deflated 1%)\n",
            "  adding: chase_db_384_384_dice_bce_0_4__hvr_0_4_1/split_2/train/image/_Image_08R_3_2.png (deflated 3%)\n",
            "  adding: chase_db_384_384_dice_bce_0_4__hvr_0_4_1/split_2/train/image/_Image_04L_1_7.png (deflated 2%)\n",
            "  adding: chase_db_384_384_dice_bce_0_4__hvr_0_4_1/split_2/train/image/_Image_14R_1_8.png (deflated 5%)\n",
            "  adding: chase_db_384_384_dice_bce_0_4__hvr_0_4_1/split_2/train/image/_Image_09R_2_2.png (deflated 4%)\n",
            "  adding: chase_db_384_384_dice_bce_0_4__hvr_0_4_1/split_2/train/image/_Image_07L_2_7.png (deflated 4%)\n",
            "  adding: chase_db_384_384_dice_bce_0_4__hvr_0_4_1/split_2/train/image/_Image_02L_1_6.png (deflated 4%)\n",
            "  adding: chase_db_384_384_dice_bce_0_4__hvr_0_4_1/split_2/train/image/_Image_02L_1_8.png (deflated 5%)\n",
            "  adding: chase_db_384_384_dice_bce_0_4__hvr_0_4_1/split_2/train/image/_Image_14R_0_4.png (deflated 1%)\n",
            "  adding: chase_db_384_384_dice_bce_0_4__hvr_0_4_1/split_2/train/image/_Image_13R_1_3.png (deflated 6%)\n",
            "  adding: chase_db_384_384_dice_bce_0_4__hvr_0_4_1/split_2/train/image/_Image_07L_1_4.png (deflated 2%)\n",
            "  adding: chase_db_384_384_dice_bce_0_4__hvr_0_4_1/split_2/train/image/_Image_04R_0_4.png (deflated 2%)\n",
            "  adding: chase_db_384_384_dice_bce_0_4__hvr_0_4_1/split_2/train/image/_Image_07L_0_2.png (deflated 4%)\n",
            "  adding: chase_db_384_384_dice_bce_0_4__hvr_0_4_1/split_2/train/image/_Image_06R_3_1.png (deflated 2%)\n",
            "  adding: chase_db_384_384_dice_bce_0_4__hvr_0_4_1/split_2/train/image/_Image_03L_0_3.png (deflated 2%)\n",
            "  adding: chase_db_384_384_dice_bce_0_4__hvr_0_4_1/split_2/train/image/_Image_01L_1_0.png (deflated 4%)\n",
            "  adding: chase_db_384_384_dice_bce_0_4__hvr_0_4_1/split_2/train/image/_Image_04R_3_8.png (deflated 2%)\n",
            "  adding: chase_db_384_384_dice_bce_0_4__hvr_0_4_1/split_2/train/image/_Image_07L_0_6.png (deflated 4%)\n",
            "  adding: chase_db_384_384_dice_bce_0_4__hvr_0_4_1/split_2/train/image/_Image_13R_1_0.png (deflated 7%)\n",
            "  adding: chase_db_384_384_dice_bce_0_4__hvr_0_4_1/split_2/train/image/_Image_14R_3_4.png (deflated 1%)\n",
            "  adding: chase_db_384_384_dice_bce_0_4__hvr_0_4_1/split_2/train/image/_Image_04L_3_2.png (deflated 3%)\n",
            "  adding: chase_db_384_384_dice_bce_0_4__hvr_0_4_1/split_2/train/image/_Image_04L_0_4.png (deflated 2%)\n",
            "  adding: chase_db_384_384_dice_bce_0_4__hvr_0_4_1/split_2/train/image/_Image_10R_2_3.png (deflated 4%)\n",
            "  adding: chase_db_384_384_dice_bce_0_4__hvr_0_4_1/split_2/train/image/_Image_10R_0_3.png (deflated 4%)\n",
            "  adding: chase_db_384_384_dice_bce_0_4__hvr_0_4_1/split_2/train/image/_Image_06R_2_8.png (deflated 5%)\n",
            "  adding: chase_db_384_384_dice_bce_0_4__hvr_0_4_1/split_2/train/image/_Image_10L_1_4.png (deflated 1%)\n",
            "  adding: chase_db_384_384_dice_bce_0_4__hvr_0_4_1/split_2/train/image/_Image_06R_3_0.png (deflated 3%)\n",
            "  adding: chase_db_384_384_dice_bce_0_4__hvr_0_4_1/split_2/train/image/_Image_03R_1_7.png (deflated 2%)\n",
            "  adding: chase_db_384_384_dice_bce_0_4__hvr_0_4_1/split_2/train/image/_Image_07R_0_6.png (deflated 4%)\n",
            "  adding: chase_db_384_384_dice_bce_0_4__hvr_0_4_1/split_2/train/image/_Image_06R_3_2.png (deflated 5%)\n",
            "  adding: chase_db_384_384_dice_bce_0_4__hvr_0_4_1/split_2/train/image/_Image_02R_2_0.png (deflated 4%)\n",
            "  adding: chase_db_384_384_dice_bce_0_4__hvr_0_4_1/split_2/train/image/_Image_03R_0_4.png (deflated 1%)\n",
            "  adding: chase_db_384_384_dice_bce_0_4__hvr_0_4_1/split_2/train/image/_Image_05L_0_3.png (deflated 3%)\n",
            "  adding: chase_db_384_384_dice_bce_0_4__hvr_0_4_1/split_2/train/image/_Image_02L_2_4.png (deflated 2%)\n",
            "  adding: chase_db_384_384_dice_bce_0_4__hvr_0_4_1/split_2/train/image/_Image_04R_2_2.png (deflated 4%)\n",
            "  adding: chase_db_384_384_dice_bce_0_4__hvr_0_4_1/split_2/train/image/_Image_13R_2_4.png (deflated 3%)\n",
            "  adding: chase_db_384_384_dice_bce_0_4__hvr_0_4_1/split_2/train/image/_Image_07L_3_6.png (deflated 2%)\n",
            "  adding: chase_db_384_384_dice_bce_0_4__hvr_0_4_1/split_2/train/image/_Image_05L_1_7.png (deflated 3%)\n",
            "  adding: chase_db_384_384_dice_bce_0_4__hvr_0_4_1/split_2/train/image/_Image_04L_2_4.png (deflated 2%)\n",
            "  adding: chase_db_384_384_dice_bce_0_4__hvr_0_4_1/split_2/train/image/_Image_03L_1_5.png (deflated 2%)\n",
            "  adding: chase_db_384_384_dice_bce_0_4__hvr_0_4_1/split_2/train/image/_Image_01L_3_5.png (deflated 2%)\n",
            "  adding: chase_db_384_384_dice_bce_0_4__hvr_0_4_1/split_2/train/image/_Image_09L_0_8.png (deflated 4%)\n",
            "  adding: chase_db_384_384_dice_bce_0_4__hvr_0_4_1/split_2/train/image/_Image_09R_3_5.png (deflated 3%)\n",
            "  adding: chase_db_384_384_dice_bce_0_4__hvr_0_4_1/split_2/train/image/_Image_14L_0_5.png (deflated 3%)\n",
            "  adding: chase_db_384_384_dice_bce_0_4__hvr_0_4_1/split_2/train/image/_Image_09R_0_1.png (deflated 3%)\n",
            "  adding: chase_db_384_384_dice_bce_0_4__hvr_0_4_1/split_2/train/image/_Image_14R_3_0.png (deflated 3%)\n",
            "  adding: chase_db_384_384_dice_bce_0_4__hvr_0_4_1/split_2/train/image/_Image_03R_0_2.png (deflated 5%)\n",
            "  adding: chase_db_384_384_dice_bce_0_4__hvr_0_4_1/split_2/train/image/_Image_04R_0_6.png (deflated 3%)\n",
            "  adding: chase_db_384_384_dice_bce_0_4__hvr_0_4_1/split_2/train/image/_Image_01R_0_1.png (deflated 3%)\n",
            "  adding: chase_db_384_384_dice_bce_0_4__hvr_0_4_1/split_2/train/image/_Image_09R_2_8.png (deflated 6%)\n",
            "  adding: chase_db_384_384_dice_bce_0_4__hvr_0_4_1/split_2/train/image/_Image_05R_0_4.png (deflated 1%)\n",
            "  adding: chase_db_384_384_dice_bce_0_4__hvr_0_4_1/split_2/train/image/_Image_01R_3_4.png (deflated 1%)\n",
            "  adding: chase_db_384_384_dice_bce_0_4__hvr_0_4_1/split_2/train/image/_Image_01L_0_2.png (deflated 4%)\n",
            "  adding: chase_db_384_384_dice_bce_0_4__hvr_0_4_1/split_2/train/image/_Image_02L_3_4.png (deflated 2%)\n",
            "  adding: chase_db_384_384_dice_bce_0_4__hvr_0_4_1/split_2/train/image/_Image_04R_2_0.png (deflated 3%)\n",
            "  adding: chase_db_384_384_dice_bce_0_4__hvr_0_4_1/split_2/train/image/_Image_06L_3_5.png (deflated 3%)\n",
            "  adding: chase_db_384_384_dice_bce_0_4__hvr_0_4_1/split_2/train/image/_Image_04L_3_6.png (deflated 2%)\n",
            "  adding: chase_db_384_384_dice_bce_0_4__hvr_0_4_1/split_2/train/image/_Image_01R_0_8.png (deflated 3%)\n",
            "  adding: chase_db_384_384_dice_bce_0_4__hvr_0_4_1/split_2/train/image/_Image_02L_3_7.png (deflated 2%)\n",
            "  adding: chase_db_384_384_dice_bce_0_4__hvr_0_4_1/split_2/train/image/_Image_09L_1_7.png (deflated 1%)\n",
            "  adding: chase_db_384_384_dice_bce_0_4__hvr_0_4_1/split_2/train/image/_Image_06L_2_0.png (deflated 3%)\n",
            "  adding: chase_db_384_384_dice_bce_0_4__hvr_0_4_1/split_2/train/image/_Image_09L_0_5.png (deflated 3%)\n",
            "  adding: chase_db_384_384_dice_bce_0_4__hvr_0_4_1/split_2/train/image/_Image_07L_2_5.png (deflated 3%)\n",
            "  adding: chase_db_384_384_dice_bce_0_4__hvr_0_4_1/split_2/train/image/_Image_05R_0_7.png (deflated 2%)\n",
            "  adding: chase_db_384_384_dice_bce_0_4__hvr_0_4_1/split_2/train/image/_Image_01L_2_5.png (deflated 5%)\n",
            "  adding: chase_db_384_384_dice_bce_0_4__hvr_0_4_1/split_2/train/image/_Image_07L_1_5.png (deflated 4%)\n",
            "  adding: chase_db_384_384_dice_bce_0_4__hvr_0_4_1/split_2/train/image/_Image_06R_2_7.png (deflated 4%)\n",
            "  adding: chase_db_384_384_dice_bce_0_4__hvr_0_4_1/split_2/train/image/_Image_04R_2_1.png (deflated 3%)\n",
            "  adding: chase_db_384_384_dice_bce_0_4__hvr_0_4_1/split_2/train/image/_Image_05L_0_4.png (deflated 2%)\n",
            "  adding: chase_db_384_384_dice_bce_0_4__hvr_0_4_1/split_2/train/image/_Image_10R_0_6.png (deflated 4%)\n",
            "  adding: chase_db_384_384_dice_bce_0_4__hvr_0_4_1/split_2/train/image/_Image_08R_1_3.png (deflated 5%)\n",
            "  adding: chase_db_384_384_dice_bce_0_4__hvr_0_4_1/split_2/train/image/_Image_14L_1_3.png (deflated 3%)\n",
            "  adding: chase_db_384_384_dice_bce_0_4__hvr_0_4_1/split_2/train/image/_Image_06R_1_2.png (deflated 3%)\n",
            "  adding: chase_db_384_384_dice_bce_0_4__hvr_0_4_1/split_2/train/image/_Image_14R_2_3.png (deflated 4%)\n",
            "  adding: chase_db_384_384_dice_bce_0_4__hvr_0_4_1/split_2/train/image/_Image_07R_2_7.png (deflated 3%)\n",
            "  adding: chase_db_384_384_dice_bce_0_4__hvr_0_4_1/split_2/train/image/_Image_05R_2_5.png (deflated 3%)\n",
            "  adding: chase_db_384_384_dice_bce_0_4__hvr_0_4_1/split_2/train/image/_Image_10R_2_1.png (deflated 2%)\n",
            "  adding: chase_db_384_384_dice_bce_0_4__hvr_0_4_1/split_2/train/image/_Image_14R_1_1.png (deflated 4%)\n",
            "  adding: chase_db_384_384_dice_bce_0_4__hvr_0_4_1/split_2/train/image/_Image_03L_2_8.png (deflated 3%)\n",
            "  adding: chase_db_384_384_dice_bce_0_4__hvr_0_4_1/split_2/train/image/_Image_05L_2_0.png (deflated 3%)\n",
            "  adding: chase_db_384_384_dice_bce_0_4__hvr_0_4_1/split_2/train/image/_Image_08L_0_0.png (deflated 6%)\n",
            "  adding: chase_db_384_384_dice_bce_0_4__hvr_0_4_1/split_2/train/image/_Image_02L_1_3.png (deflated 3%)\n",
            "  adding: chase_db_384_384_dice_bce_0_4__hvr_0_4_1/split_2/train/image/_Image_07L_0_1.png (deflated 4%)\n",
            "  adding: chase_db_384_384_dice_bce_0_4__hvr_0_4_1/split_2/train/image/_Image_08R_2_0.png (deflated 6%)\n",
            "  adding: chase_db_384_384_dice_bce_0_4__hvr_0_4_1/split_2/train/image/_Image_02L_2_8.png (deflated 3%)\n",
            "  adding: chase_db_384_384_dice_bce_0_4__hvr_0_4_1/split_2/train/image/_Image_03L_3_8.png (deflated 3%)\n",
            "  adding: chase_db_384_384_dice_bce_0_4__hvr_0_4_1/split_2/train/image/_Image_05L_3_8.png (deflated 1%)\n",
            "  adding: chase_db_384_384_dice_bce_0_4__hvr_0_4_1/split_2/train/image/_Image_08R_2_5.png (deflated 5%)\n",
            "  adding: chase_db_384_384_dice_bce_0_4__hvr_0_4_1/split_2/train/image/_Image_05R_1_2.png (deflated 3%)\n",
            "  adding: chase_db_384_384_dice_bce_0_4__hvr_0_4_1/split_2/train/image/_Image_13R_1_2.png (deflated 7%)\n",
            "  adding: chase_db_384_384_dice_bce_0_4__hvr_0_4_1/split_2/train/image/_Image_06R_2_0.png (deflated 4%)\n",
            "  adding: chase_db_384_384_dice_bce_0_4__hvr_0_4_1/split_2/train/image/_Image_08L_2_6.png (deflated 5%)\n",
            "  adding: chase_db_384_384_dice_bce_0_4__hvr_0_4_1/split_2/train/image/_Image_09L_3_5.png (deflated 3%)\n",
            "  adding: chase_db_384_384_dice_bce_0_4__hvr_0_4_1/split_2/train/image/_Image_10L_2_1.png (deflated 2%)\n",
            "  adding: chase_db_384_384_dice_bce_0_4__hvr_0_4_1/split_2/train/image/_Image_10R_3_1.png (deflated 2%)\n",
            "  adding: chase_db_384_384_dice_bce_0_4__hvr_0_4_1/split_2/train/image/_Image_07L_1_3.png (deflated 3%)\n",
            "  adding: chase_db_384_384_dice_bce_0_4__hvr_0_4_1/split_2/train/image/_Image_07L_3_3.png (deflated 2%)\n",
            "  adding: chase_db_384_384_dice_bce_0_4__hvr_0_4_1/split_2/train/image/_Image_05L_1_5.png (deflated 3%)\n",
            "  adding: chase_db_384_384_dice_bce_0_4__hvr_0_4_1/split_2/train/image/_Image_14R_0_3.png (deflated 4%)\n",
            "  adding: chase_db_384_384_dice_bce_0_4__hvr_0_4_1/split_2/train/image/_Image_02L_3_5.png (deflated 2%)\n",
            "  adding: chase_db_384_384_dice_bce_0_4__hvr_0_4_1/split_2/train/image/_Image_07R_1_3.png (deflated 2%)\n",
            "  adding: chase_db_384_384_dice_bce_0_4__hvr_0_4_1/split_2/train/image/_Image_03R_0_5.png (deflated 2%)\n",
            "  adding: chase_db_384_384_dice_bce_0_4__hvr_0_4_1/split_2/train/image/_Image_06R_0_6.png (deflated 4%)\n",
            "  adding: chase_db_384_384_dice_bce_0_4__hvr_0_4_1/split_2/train/image/_Image_01L_3_3.png (deflated 1%)\n",
            "  adding: chase_db_384_384_dice_bce_0_4__hvr_0_4_1/split_2/train/image/_Image_10L_0_8.png (deflated 4%)\n",
            "  adding: chase_db_384_384_dice_bce_0_4__hvr_0_4_1/split_2/train/image/_Image_06L_0_5.png (deflated 4%)\n",
            "  adding: chase_db_384_384_dice_bce_0_4__hvr_0_4_1/split_2/train/image/_Image_14L_0_0.png (deflated 3%)\n",
            "  adding: chase_db_384_384_dice_bce_0_4__hvr_0_4_1/split_2/train/image/_Image_01L_2_8.png (deflated 4%)\n",
            "  adding: chase_db_384_384_dice_bce_0_4__hvr_0_4_1/split_2/train/image/_Image_04R_1_4.png (deflated 2%)\n",
            "  adding: chase_db_384_384_dice_bce_0_4__hvr_0_4_1/split_2/train/image/_Image_04R_3_3.png (deflated 2%)\n",
            "  adding: chase_db_384_384_dice_bce_0_4__hvr_0_4_1/split_2/train/image/_Image_02L_2_5.png (deflated 3%)\n",
            "  adding: chase_db_384_384_dice_bce_0_4__hvr_0_4_1/split_2/train/image/_Image_09L_2_0.png (deflated 5%)\n",
            "  adding: chase_db_384_384_dice_bce_0_4__hvr_0_4_1/split_2/train/image/_Image_04R_2_7.png (deflated 3%)\n",
            "  adding: chase_db_384_384_dice_bce_0_4__hvr_0_4_1/split_2/train/image/_Image_06R_3_7.png (deflated 2%)\n",
            "  adding: chase_db_384_384_dice_bce_0_4__hvr_0_4_1/split_2/train/image/_Image_08R_3_0.png (deflated 3%)\n",
            "  adding: chase_db_384_384_dice_bce_0_4__hvr_0_4_1/split_2/train/image/_Image_09R_2_7.png (deflated 3%)\n",
            "  adding: chase_db_384_384_dice_bce_0_4__hvr_0_4_1/split_2/train/image/_Image_02L_0_5.png (deflated 3%)\n",
            "  adding: chase_db_384_384_dice_bce_0_4__hvr_0_4_1/split_2/train/image/_Image_08R_1_5.png (deflated 6%)\n",
            "  adding: chase_db_384_384_dice_bce_0_4__hvr_0_4_1/split_2/train/image/_Image_02R_3_4.png (deflated 2%)\n",
            "  adding: chase_db_384_384_dice_bce_0_4__hvr_0_4_1/split_2/train/image/_Image_01R_0_6.png (deflated 5%)\n",
            "  adding: chase_db_384_384_dice_bce_0_4__hvr_0_4_1/split_2/train/image/_Image_07L_3_7.png (deflated 2%)\n",
            "  adding: chase_db_384_384_dice_bce_0_4__hvr_0_4_1/split_2/train/image/_Image_05R_3_7.png (deflated 2%)\n",
            "  adding: chase_db_384_384_dice_bce_0_4__hvr_0_4_1/split_2/train/image/_Image_06L_0_7.png (deflated 2%)\n",
            "  adding: chase_db_384_384_dice_bce_0_4__hvr_0_4_1/split_2/train/image/_Image_03R_3_6.png (deflated 3%)\n",
            "  adding: chase_db_384_384_dice_bce_0_4__hvr_0_4_1/split_2/train/image/_Image_04R_1_6.png (deflated 3%)\n",
            "  adding: chase_db_384_384_dice_bce_0_4__hvr_0_4_1/split_2/train/image/_Image_06L_3_0.png (deflated 3%)\n",
            "  adding: chase_db_384_384_dice_bce_0_4__hvr_0_4_1/split_2/train/image/_Image_03R_2_5.png (deflated 2%)\n",
            "  adding: chase_db_384_384_dice_bce_0_4__hvr_0_4_1/split_2/train/image/_Image_09R_0_2.png (deflated 6%)\n",
            "  adding: chase_db_384_384_dice_bce_0_4__hvr_0_4_1/split_2/train/image/_Image_04L_2_6.png (deflated 4%)\n",
            "  adding: chase_db_384_384_dice_bce_0_4__hvr_0_4_1/split_2/train/image/_Image_01L_1_8.png (deflated 3%)\n",
            "  adding: chase_db_384_384_dice_bce_0_4__hvr_0_4_1/split_2/train/image/_Image_06R_3_3.png (deflated 3%)\n",
            "  adding: chase_db_384_384_dice_bce_0_4__hvr_0_4_1/split_2/train/image/_Image_14R_2_7.png (deflated 4%)\n",
            "  adding: chase_db_384_384_dice_bce_0_4__hvr_0_4_1/split_2/train/image/_Image_02L_0_2.png (deflated 3%)\n",
            "  adding: chase_db_384_384_dice_bce_0_4__hvr_0_4_1/split_2/train/image/_Image_06R_2_5.png (deflated 3%)\n",
            "  adding: chase_db_384_384_dice_bce_0_4__hvr_0_4_1/split_2/train/image/_Image_01R_3_8.png (deflated 1%)\n",
            "  adding: chase_db_384_384_dice_bce_0_4__hvr_0_4_1/split_2/train/image/_Image_14R_0_2.png (deflated 4%)\n",
            "  adding: chase_db_384_384_dice_bce_0_4__hvr_0_4_1/split_2/train/image/_Image_03L_1_6.png (deflated 3%)\n",
            "  adding: chase_db_384_384_dice_bce_0_4__hvr_0_4_1/split_2/train/image/_Image_10L_1_0.png (deflated 4%)\n",
            "  adding: chase_db_384_384_dice_bce_0_4__hvr_0_4_1/split_2/train/image/_Image_01L_2_0.png (deflated 3%)\n",
            "  adding: chase_db_384_384_dice_bce_0_4__hvr_0_4_1/split_2/train/image/_Image_06R_1_3.png (deflated 3%)\n",
            "  adding: chase_db_384_384_dice_bce_0_4__hvr_0_4_1/split_2/train/image/_Image_02R_2_2.png (deflated 4%)\n",
            "  adding: chase_db_384_384_dice_bce_0_4__hvr_0_4_1/split_2/train/image/_Image_14L_3_7.png (deflated 1%)\n",
            "  adding: chase_db_384_384_dice_bce_0_4__hvr_0_4_1/split_2/train/image/_Image_06R_0_2.png (deflated 5%)\n",
            "  adding: chase_db_384_384_dice_bce_0_4__hvr_0_4_1/split_2/train/image/_Image_14L_1_7.png (deflated 3%)\n",
            "  adding: chase_db_384_384_dice_bce_0_4__hvr_0_4_1/split_2/train/image/_Image_07R_2_1.png (deflated 2%)\n",
            "  adding: chase_db_384_384_dice_bce_0_4__hvr_0_4_1/split_2/train/image/_Image_14L_2_1.png (deflated 3%)\n",
            "  adding: chase_db_384_384_dice_bce_0_4__hvr_0_4_1/split_2/train/image/_Image_14R_1_2.png (deflated 5%)\n",
            "  adding: chase_db_384_384_dice_bce_0_4__hvr_0_4_1/split_2/train/image/_Image_06L_3_8.png (deflated 3%)\n",
            "  adding: chase_db_384_384_dice_bce_0_4__hvr_0_4_1/split_2/train/image/_Image_08L_0_2.png (deflated 4%)\n",
            "  adding: chase_db_384_384_dice_bce_0_4__hvr_0_4_1/split_2/train/image/_Image_07R_0_7.png (deflated 2%)\n",
            "  adding: chase_db_384_384_dice_bce_0_4__hvr_0_4_1/split_2/train/image/_Image_02L_1_0.png (deflated 3%)\n",
            "  adding: chase_db_384_384_dice_bce_0_4__hvr_0_4_1/split_2/train/image/_Image_03R_2_1.png (deflated 2%)\n",
            "  adding: chase_db_384_384_dice_bce_0_4__hvr_0_4_1/split_2/train/image/_Image_13R_2_6.png (deflated 7%)\n",
            "  adding: chase_db_384_384_dice_bce_0_4__hvr_0_4_1/split_2/train/image/_Image_02R_2_8.png (deflated 6%)\n",
            "  adding: chase_db_384_384_dice_bce_0_4__hvr_0_4_1/split_2/train/image/_Image_01R_0_0.png (deflated 4%)\n",
            "  adding: chase_db_384_384_dice_bce_0_4__hvr_0_4_1/split_2/train/image/_Image_05L_0_6.png (deflated 3%)\n",
            "  adding: chase_db_384_384_dice_bce_0_4__hvr_0_4_1/split_2/train/image/_Image_03L_3_2.png (deflated 3%)\n",
            "  adding: chase_db_384_384_dice_bce_0_4__hvr_0_4_1/split_2/train/image/_Image_08L_2_4.png (deflated 2%)\n",
            "  adding: chase_db_384_384_dice_bce_0_4__hvr_0_4_1/split_2/train/image/_Image_09L_1_1.png (deflated 3%)\n",
            "  adding: chase_db_384_384_dice_bce_0_4__hvr_0_4_1/split_2/train/image/_Image_10R_1_3.png (deflated 3%)\n",
            "  adding: chase_db_384_384_dice_bce_0_4__hvr_0_4_1/split_2/train/image/_Image_10R_3_4.png (deflated 1%)\n",
            "  adding: chase_db_384_384_dice_bce_0_4__hvr_0_4_1/split_2/train/image/_Image_05R_2_0.png (deflated 3%)\n",
            "  adding: chase_db_384_384_dice_bce_0_4__hvr_0_4_1/split_2/train/image/_Image_13R_1_4.png (deflated 3%)\n",
            "  adding: chase_db_384_384_dice_bce_0_4__hvr_0_4_1/split_2/train/image/_Image_07R_3_7.png (deflated 1%)\n",
            "  adding: chase_db_384_384_dice_bce_0_4__hvr_0_4_1/split_2/train/image/_Image_07L_3_0.png (deflated 2%)\n",
            "  adding: chase_db_384_384_dice_bce_0_4__hvr_0_4_1/split_2/train/image/_Image_02L_3_0.png (deflated 3%)\n",
            "  adding: chase_db_384_384_dice_bce_0_4__hvr_0_4_1/split_2/train/image/_Image_10L_2_4.png (deflated 1%)\n",
            "  adding: chase_db_384_384_dice_bce_0_4__hvr_0_4_1/split_2/train/image/_Image_13R_3_8.png (deflated 5%)\n",
            "  adding: chase_db_384_384_dice_bce_0_4__hvr_0_4_1/split_2/train/image/_Image_01R_0_3.png (deflated 5%)\n",
            "  adding: chase_db_384_384_dice_bce_0_4__hvr_0_4_1/split_2/train/image/_Image_05R_0_3.png (deflated 4%)\n",
            "  adding: chase_db_384_384_dice_bce_0_4__hvr_0_4_1/split_2/train/image/_Image_03L_0_0.png (deflated 3%)\n",
            "  adding: chase_db_384_384_dice_bce_0_4__hvr_0_4_1/split_2/train/image/_Image_01L_2_4.png (deflated 1%)\n",
            "  adding: chase_db_384_384_dice_bce_0_4__hvr_0_4_1/split_2/train/image/_Image_07L_0_5.png (deflated 3%)\n",
            "  adding: chase_db_384_384_dice_bce_0_4__hvr_0_4_1/split_2/train/image/_Image_01L_3_0.png (deflated 2%)\n",
            "  adding: chase_db_384_384_dice_bce_0_4__hvr_0_4_1/split_2/train/image/_Image_10L_1_2.png (deflated 5%)\n",
            "  adding: chase_db_384_384_dice_bce_0_4__hvr_0_4_1/split_2/train/image/_Image_10R_0_4.png (deflated 1%)\n",
            "  adding: chase_db_384_384_dice_bce_0_4__hvr_0_4_1/split_2/train/image/_Image_07L_3_5.png (deflated 2%)\n",
            "  adding: chase_db_384_384_dice_bce_0_4__hvr_0_4_1/split_2/train/image/_Image_02R_0_5.png (deflated 3%)\n",
            "  adding: chase_db_384_384_dice_bce_0_4__hvr_0_4_1/split_2/train/image/_Image_02R_1_7.png (deflated 2%)\n",
            "  adding: chase_db_384_384_dice_bce_0_4__hvr_0_4_1/split_2/train/image/_Image_14L_2_4.png (deflated 2%)\n",
            "  adding: chase_db_384_384_dice_bce_0_4__hvr_0_4_1/split_2/train/image/_Image_10L_2_3.png (deflated 3%)\n",
            "  adding: chase_db_384_384_dice_bce_0_4__hvr_0_4_1/split_2/train/image/_Image_06R_3_8.png (deflated 4%)\n",
            "  adding: chase_db_384_384_dice_bce_0_4__hvr_0_4_1/split_2/train/image/_Image_06R_1_7.png (deflated 2%)\n",
            "  adding: chase_db_384_384_dice_bce_0_4__hvr_0_4_1/split_2/train/image/_Image_02R_0_4.png (deflated 2%)\n",
            "  adding: chase_db_384_384_dice_bce_0_4__hvr_0_4_1/split_2/train/image/_Image_14L_3_2.png (deflated 1%)\n",
            "  adding: chase_db_384_384_dice_bce_0_4__hvr_0_4_1/split_2/train/image/_Image_10R_1_5.png (deflated 4%)\n",
            "  adding: chase_db_384_384_dice_bce_0_4__hvr_0_4_1/split_2/train/image/_Image_14L_0_6.png (deflated 2%)\n",
            "  adding: chase_db_384_384_dice_bce_0_4__hvr_0_4_1/split_2/train/image/_Image_13R_3_2.png (deflated 4%)\n",
            "  adding: chase_db_384_384_dice_bce_0_4__hvr_0_4_1/split_2/train/image/_Image_09R_0_0.png (deflated 3%)\n",
            "  adding: chase_db_384_384_dice_bce_0_4__hvr_0_4_1/split_2/train/image/_Image_04R_1_3.png (deflated 2%)\n",
            "  adding: chase_db_384_384_dice_bce_0_4__hvr_0_4_1/split_2/train/image/_Image_05R_3_2.png (deflated 2%)\n",
            "  adding: chase_db_384_384_dice_bce_0_4__hvr_0_4_1/split_2/train/image/_Image_09R_1_3.png (deflated 7%)\n",
            "  adding: chase_db_384_384_dice_bce_0_4__hvr_0_4_1/split_2/train/image/_Image_02L_2_0.png (deflated 5%)\n",
            "  adding: chase_db_384_384_dice_bce_0_4__hvr_0_4_1/split_2/train/image/_Image_05R_3_6.png (deflated 1%)\n",
            "  adding: chase_db_384_384_dice_bce_0_4__hvr_0_4_1/split_2/train/image/_Image_14R_0_8.png (deflated 3%)\n",
            "  adding: chase_db_384_384_dice_bce_0_4__hvr_0_4_1/split_2/train/image/_Image_03L_0_2.png (deflated 3%)\n",
            "  adding: chase_db_384_384_dice_bce_0_4__hvr_0_4_1/split_2/train/image/_Image_09L_1_6.png (deflated 4%)\n",
            "  adding: chase_db_384_384_dice_bce_0_4__hvr_0_4_1/split_2/train/image/_Image_09L_3_8.png (deflated 4%)\n",
            "  adding: chase_db_384_384_dice_bce_0_4__hvr_0_4_1/split_2/train/image/_Image_06L_1_8.png (deflated 4%)\n",
            "  adding: chase_db_384_384_dice_bce_0_4__hvr_0_4_1/split_2/train/image/_Image_06L_3_6.png (deflated 2%)\n",
            "  adding: chase_db_384_384_dice_bce_0_4__hvr_0_4_1/split_2/train/image/_Image_14R_2_5.png (deflated 3%)\n",
            "  adding: chase_db_384_384_dice_bce_0_4__hvr_0_4_1/split_2/train/image/_Image_02R_1_3.png (deflated 3%)\n",
            "  adding: chase_db_384_384_dice_bce_0_4__hvr_0_4_1/split_2/train/image/_Image_04L_0_0.png (deflated 4%)\n",
            "  adding: chase_db_384_384_dice_bce_0_4__hvr_0_4_1/split_2/train/image/_Image_10R_3_3.png (deflated 2%)\n",
            "  adding: chase_db_384_384_dice_bce_0_4__hvr_0_4_1/split_2/train/image/_Image_04R_0_7.png (deflated 3%)\n",
            "  adding: chase_db_384_384_dice_bce_0_4__hvr_0_4_1/split_2/train/image/_Image_06R_0_7.png (deflated 2%)\n",
            "  adding: chase_db_384_384_dice_bce_0_4__hvr_0_4_1/split_2/train/image/_Image_05L_2_7.png (deflated 3%)\n",
            "  adding: chase_db_384_384_dice_bce_0_4__hvr_0_4_1/split_2/train/image/_Image_07R_2_5.png (deflated 2%)\n",
            "  adding: chase_db_384_384_dice_bce_0_4__hvr_0_4_1/split_2/train/image/_Image_01R_0_7.png (deflated 2%)\n",
            "  adding: chase_db_384_384_dice_bce_0_4__hvr_0_4_1/split_2/train/image/_Image_06L_2_4.png (deflated 2%)\n",
            "  adding: chase_db_384_384_dice_bce_0_4__hvr_0_4_1/split_2/train/image/_Image_08R_0_5.png (deflated 4%)\n",
            "  adding: chase_db_384_384_dice_bce_0_4__hvr_0_4_1/split_2/train/image/_Image_03R_0_0.png (deflated 3%)\n",
            "  adding: chase_db_384_384_dice_bce_0_4__hvr_0_4_1/split_2/train/image/_Image_01R_0_4.png (deflated 1%)\n",
            "  adding: chase_db_384_384_dice_bce_0_4__hvr_0_4_1/split_2/train/image/_Image_13R_1_1.png (deflated 7%)\n",
            "  adding: chase_db_384_384_dice_bce_0_4__hvr_0_4_1/split_2/train/image/_Image_05R_2_6.png (deflated 4%)\n",
            "  adding: chase_db_384_384_dice_bce_0_4__hvr_0_4_1/split_2/train/image/_Image_03L_3_4.png (deflated 1%)\n",
            "  adding: chase_db_384_384_dice_bce_0_4__hvr_0_4_1/split_2/train/image/_Image_09R_2_4.png (deflated 2%)\n",
            "  adding: chase_db_384_384_dice_bce_0_4__hvr_0_4_1/split_2/train/image/_Image_03L_3_0.png (deflated 3%)\n",
            "  adding: chase_db_384_384_dice_bce_0_4__hvr_0_4_1/split_2/train/image/_Image_09R_2_6.png (deflated 3%)\n",
            "  adding: chase_db_384_384_dice_bce_0_4__hvr_0_4_1/split_2/train/image/_Image_03L_1_3.png (deflated 3%)\n",
            "  adding: chase_db_384_384_dice_bce_0_4__hvr_0_4_1/split_2/train/image/_Image_07R_2_6.png (deflated 3%)\n",
            "  adding: chase_db_384_384_dice_bce_0_4__hvr_0_4_1/split_2/train/image/_Image_04L_3_7.png (deflated 2%)\n",
            "  adding: chase_db_384_384_dice_bce_0_4__hvr_0_4_1/split_2/train/image/_Image_04L_1_4.png (deflated 2%)\n",
            "  adding: chase_db_384_384_dice_bce_0_4__hvr_0_4_1/split_2/train/image/_Image_04R_2_4.png (deflated 2%)\n",
            "  adding: chase_db_384_384_dice_bce_0_4__hvr_0_4_1/split_2/train/image/_Image_04R_3_1.png (deflated 2%)\n",
            "  adding: chase_db_384_384_dice_bce_0_4__hvr_0_4_1/split_2/train/image/_Image_06R_1_6.png (deflated 4%)\n",
            "  adding: chase_db_384_384_dice_bce_0_4__hvr_0_4_1/split_2/train/image/_Image_02L_0_7.png (deflated 2%)\n",
            "  adding: chase_db_384_384_dice_bce_0_4__hvr_0_4_1/split_2/train/image/_Image_10R_0_2.png (deflated 5%)\n",
            "  adding: chase_db_384_384_dice_bce_0_4__hvr_0_4_1/split_2/train/image/_Image_09R_2_5.png (deflated 8%)\n",
            "  adding: chase_db_384_384_dice_bce_0_4__hvr_0_4_1/split_2/train/image/_Image_13R_0_4.png (deflated 3%)\n",
            "  adding: chase_db_384_384_dice_bce_0_4__hvr_0_4_1/split_2/train/image/_Image_05L_1_4.png (deflated 2%)\n",
            "  adding: chase_db_384_384_dice_bce_0_4__hvr_0_4_1/split_2/train/image/_Image_13R_0_6.png (deflated 9%)\n",
            "  adding: chase_db_384_384_dice_bce_0_4__hvr_0_4_1/split_2/train/image/_Image_06R_1_4.png (deflated 2%)\n",
            "  adding: chase_db_384_384_dice_bce_0_4__hvr_0_4_1/split_2/image_patches_384_384_train.csv (deflated 95%)\n",
            "  adding: chase_db_384_384_dice_bce_0_4__hvr_0_4_1/results_reconstructed/ (stored 0%)\n",
            "  adding: chase_db_384_384_dice_bce_0_4__hvr_0_4_1/augmented/ (stored 0%)\n",
            "  adding: chase_db_384_384_dice_bce_0_4__hvr_0_4_1/augmented/train/ (stored 0%)\n",
            "  adding: chase_db_384_384_dice_bce_0_4__hvr_0_4_1/augmented/train/mask/ (stored 0%)\n",
            "  adding: chase_db_384_384_dice_bce_0_4__hvr_0_4_1/augmented/train/mask/Image_09L_3.png (deflated 12%)\n",
            "  adding: chase_db_384_384_dice_bce_0_4__hvr_0_4_1/augmented/train/mask/Image_06L_0.png (deflated 13%)\n",
            "  adding: chase_db_384_384_dice_bce_0_4__hvr_0_4_1/augmented/train/mask/Image_08L_3.png (deflated 12%)\n",
            "  adding: chase_db_384_384_dice_bce_0_4__hvr_0_4_1/augmented/train/mask/Image_03R_2.png (deflated 13%)\n",
            "  adding: chase_db_384_384_dice_bce_0_4__hvr_0_4_1/augmented/train/mask/Image_09R_0.png (deflated 15%)\n",
            "  adding: chase_db_384_384_dice_bce_0_4__hvr_0_4_1/augmented/train/mask/Image_09L_2.png (deflated 14%)\n",
            "  adding: chase_db_384_384_dice_bce_0_4__hvr_0_4_1/augmented/train/mask/Image_10R_2.png (deflated 11%)\n",
            "  adding: chase_db_384_384_dice_bce_0_4__hvr_0_4_1/augmented/train/mask/Image_07R_2.png (deflated 10%)\n",
            "  adding: chase_db_384_384_dice_bce_0_4__hvr_0_4_1/augmented/train/mask/Image_01L_0.png (deflated 13%)\n",
            "  adding: chase_db_384_384_dice_bce_0_4__hvr_0_4_1/augmented/train/mask/Image_04L_2.png (deflated 14%)\n",
            "  adding: chase_db_384_384_dice_bce_0_4__hvr_0_4_1/augmented/train/mask/Image_08R_2.png (deflated 14%)\n",
            "  adding: chase_db_384_384_dice_bce_0_4__hvr_0_4_1/augmented/train/mask/Image_10L_1.png (deflated 13%)\n",
            "  adding: chase_db_384_384_dice_bce_0_4__hvr_0_4_1/augmented/train/mask/Image_10R_1.png (deflated 15%)\n",
            "  adding: chase_db_384_384_dice_bce_0_4__hvr_0_4_1/augmented/train/mask/Image_03L_3.png (deflated 11%)\n",
            "  adding: chase_db_384_384_dice_bce_0_4__hvr_0_4_1/augmented/train/mask/Image_06L_3.png (deflated 10%)\n",
            "  adding: chase_db_384_384_dice_bce_0_4__hvr_0_4_1/augmented/train/mask/Image_09L_0.png (deflated 12%)\n",
            "  adding: chase_db_384_384_dice_bce_0_4__hvr_0_4_1/augmented/train/mask/Image_13R_0.png (deflated 15%)\n",
            "  adding: chase_db_384_384_dice_bce_0_4__hvr_0_4_1/augmented/train/mask/Image_06R_1.png (deflated 14%)\n",
            "  adding: chase_db_384_384_dice_bce_0_4__hvr_0_4_1/augmented/train/mask/Image_01L_2.png (deflated 13%)\n",
            "  adding: chase_db_384_384_dice_bce_0_4__hvr_0_4_1/augmented/train/mask/Image_02L_0.png (deflated 13%)\n",
            "  adding: chase_db_384_384_dice_bce_0_4__hvr_0_4_1/augmented/train/mask/Image_07L_3.png (deflated 11%)\n",
            "  adding: chase_db_384_384_dice_bce_0_4__hvr_0_4_1/augmented/train/mask/Image_05R_2.png (deflated 12%)\n",
            "  adding: chase_db_384_384_dice_bce_0_4__hvr_0_4_1/augmented/train/mask/Image_08R_1.png (deflated 14%)\n",
            "  adding: chase_db_384_384_dice_bce_0_4__hvr_0_4_1/augmented/train/mask/Image_07L_1.png (deflated 11%)\n",
            "  adding: chase_db_384_384_dice_bce_0_4__hvr_0_4_1/augmented/train/mask/Image_04L_3.png (deflated 12%)\n",
            "  adding: chase_db_384_384_dice_bce_0_4__hvr_0_4_1/augmented/train/mask/Image_02L_3.png (deflated 11%)\n",
            "  adding: chase_db_384_384_dice_bce_0_4__hvr_0_4_1/augmented/train/mask/Image_09R_3.png (deflated 12%)\n",
            "  adding: chase_db_384_384_dice_bce_0_4__hvr_0_4_1/augmented/train/mask/Image_10R_0.png (deflated 14%)\n",
            "  adding: chase_db_384_384_dice_bce_0_4__hvr_0_4_1/augmented/train/mask/Image_06L_1.png (deflated 13%)\n",
            "  adding: chase_db_384_384_dice_bce_0_4__hvr_0_4_1/augmented/train/mask/Image_05R_0.png (deflated 13%)\n",
            "  adding: chase_db_384_384_dice_bce_0_4__hvr_0_4_1/augmented/train/mask/Image_14R_2.png (deflated 16%)\n",
            "  adding: chase_db_384_384_dice_bce_0_4__hvr_0_4_1/augmented/train/mask/Image_09R_1.png (deflated 16%)\n",
            "  adding: chase_db_384_384_dice_bce_0_4__hvr_0_4_1/augmented/train/mask/Image_08L_2.png (deflated 15%)\n",
            "  adding: chase_db_384_384_dice_bce_0_4__hvr_0_4_1/augmented/train/mask/Image_06R_3.png (deflated 13%)\n",
            "  adding: chase_db_384_384_dice_bce_0_4__hvr_0_4_1/augmented/train/mask/Image_14R_1.png (deflated 16%)\n",
            "  adding: chase_db_384_384_dice_bce_0_4__hvr_0_4_1/augmented/train/mask/Image_03R_0.png (deflated 12%)\n",
            "  adding: chase_db_384_384_dice_bce_0_4__hvr_0_4_1/augmented/train/mask/Image_13R_1.png (deflated 15%)\n",
            "  adding: chase_db_384_384_dice_bce_0_4__hvr_0_4_1/augmented/train/mask/Image_06L_2.png (deflated 13%)\n",
            "  adding: chase_db_384_384_dice_bce_0_4__hvr_0_4_1/augmented/train/mask/Image_01R_0.png (deflated 12%)\n",
            "  adding: chase_db_384_384_dice_bce_0_4__hvr_0_4_1/augmented/train/mask/Image_01L_3.png (deflated 9%)\n",
            "  adding: chase_db_384_384_dice_bce_0_4__hvr_0_4_1/augmented/train/mask/Image_02L_2.png (deflated 12%)\n",
            "  adding: chase_db_384_384_dice_bce_0_4__hvr_0_4_1/augmented/train/mask/Image_13R_2.png (deflated 13%)\n",
            "  adding: chase_db_384_384_dice_bce_0_4__hvr_0_4_1/augmented/train/mask/Image_05R_3.png (deflated 10%)\n",
            "  adding: chase_db_384_384_dice_bce_0_4__hvr_0_4_1/augmented/train/mask/Image_14R_0.png (deflated 16%)\n",
            "  adding: chase_db_384_384_dice_bce_0_4__hvr_0_4_1/augmented/train/mask/Image_08L_0.png (deflated 13%)\n",
            "  adding: chase_db_384_384_dice_bce_0_4__hvr_0_4_1/augmented/train/mask/Image_07L_0.png (deflated 11%)\n",
            "  adding: chase_db_384_384_dice_bce_0_4__hvr_0_4_1/augmented/train/mask/Image_01R_3.png (deflated 10%)\n",
            "  adding: chase_db_384_384_dice_bce_0_4__hvr_0_4_1/augmented/train/mask/Image_01L_1.png (deflated 13%)\n",
            "  adding: chase_db_384_384_dice_bce_0_4__hvr_0_4_1/augmented/train/mask/Image_10L_2.png (deflated 13%)\n",
            "  adding: chase_db_384_384_dice_bce_0_4__hvr_0_4_1/augmented/train/mask/Image_05L_1.png (deflated 12%)\n",
            "  adding: chase_db_384_384_dice_bce_0_4__hvr_0_4_1/augmented/train/mask/Image_02R_1.png (deflated 11%)\n",
            "  adding: chase_db_384_384_dice_bce_0_4__hvr_0_4_1/augmented/train/mask/Image_10L_3.png (deflated 12%)\n",
            "  adding: chase_db_384_384_dice_bce_0_4__hvr_0_4_1/augmented/train/mask/Image_04L_1.png (deflated 15%)\n",
            "  adding: chase_db_384_384_dice_bce_0_4__hvr_0_4_1/augmented/train/mask/Image_04R_2.png (deflated 15%)\n",
            "  adding: chase_db_384_384_dice_bce_0_4__hvr_0_4_1/augmented/train/mask/Image_04R_1.png (deflated 13%)\n",
            "  adding: chase_db_384_384_dice_bce_0_4__hvr_0_4_1/augmented/train/mask/Image_05R_1.png (deflated 12%)\n",
            "  adding: chase_db_384_384_dice_bce_0_4__hvr_0_4_1/augmented/train/mask/Image_05L_3.png (deflated 10%)\n",
            "  adding: chase_db_384_384_dice_bce_0_4__hvr_0_4_1/augmented/train/mask/Image_01R_2.png (deflated 13%)\n",
            "  adding: chase_db_384_384_dice_bce_0_4__hvr_0_4_1/augmented/train/mask/Image_03R_3.png (deflated 10%)\n",
            "  adding: chase_db_384_384_dice_bce_0_4__hvr_0_4_1/augmented/train/mask/Image_14R_3.png (deflated 11%)\n",
            "  adding: chase_db_384_384_dice_bce_0_4__hvr_0_4_1/augmented/train/mask/Image_07L_2.png (deflated 12%)\n",
            "  adding: chase_db_384_384_dice_bce_0_4__hvr_0_4_1/augmented/train/mask/Image_02R_0.png (deflated 11%)\n",
            "  adding: chase_db_384_384_dice_bce_0_4__hvr_0_4_1/augmented/train/mask/Image_14L_2.png (deflated 13%)\n",
            "  adding: chase_db_384_384_dice_bce_0_4__hvr_0_4_1/augmented/train/mask/Image_02L_1.png (deflated 12%)\n",
            "  adding: chase_db_384_384_dice_bce_0_4__hvr_0_4_1/augmented/train/mask/Image_02R_2.png (deflated 11%)\n",
            "  adding: chase_db_384_384_dice_bce_0_4__hvr_0_4_1/augmented/train/mask/Image_01R_1.png (deflated 12%)\n",
            "  adding: chase_db_384_384_dice_bce_0_4__hvr_0_4_1/augmented/train/mask/Image_03L_2.png (deflated 11%)\n",
            "  adding: chase_db_384_384_dice_bce_0_4__hvr_0_4_1/augmented/train/mask/Image_10R_3.png (deflated 12%)\n",
            "  adding: chase_db_384_384_dice_bce_0_4__hvr_0_4_1/augmented/train/mask/Image_04R_3.png (deflated 11%)\n",
            "  adding: chase_db_384_384_dice_bce_0_4__hvr_0_4_1/augmented/train/mask/Image_14L_3.png (deflated 13%)\n",
            "  adding: chase_db_384_384_dice_bce_0_4__hvr_0_4_1/augmented/train/mask/Image_02R_3.png (deflated 10%)\n",
            "  adding: chase_db_384_384_dice_bce_0_4__hvr_0_4_1/augmented/train/mask/Image_14L_1.png (deflated 13%)\n",
            "  adding: chase_db_384_384_dice_bce_0_4__hvr_0_4_1/augmented/train/mask/Image_05L_0.png (deflated 12%)\n",
            "  adding: chase_db_384_384_dice_bce_0_4__hvr_0_4_1/augmented/train/mask/Image_03L_1.png (deflated 11%)\n",
            "  adding: chase_db_384_384_dice_bce_0_4__hvr_0_4_1/augmented/train/mask/Image_05L_2.png (deflated 12%)\n",
            "  adding: chase_db_384_384_dice_bce_0_4__hvr_0_4_1/augmented/train/mask/Image_10L_0.png (deflated 14%)\n",
            "  adding: chase_db_384_384_dice_bce_0_4__hvr_0_4_1/augmented/train/mask/Image_04R_0.png (deflated 12%)\n",
            "  adding: chase_db_384_384_dice_bce_0_4__hvr_0_4_1/augmented/train/mask/Image_08R_3.png (deflated 11%)\n",
            "  adding: chase_db_384_384_dice_bce_0_4__hvr_0_4_1/augmented/train/mask/Image_07R_3.png (deflated 8%)\n",
            "  adding: chase_db_384_384_dice_bce_0_4__hvr_0_4_1/augmented/train/mask/Image_04L_0.png (deflated 15%)\n",
            "  adding: chase_db_384_384_dice_bce_0_4__hvr_0_4_1/augmented/train/mask/Image_09R_2.png (deflated 15%)\n",
            "  adding: chase_db_384_384_dice_bce_0_4__hvr_0_4_1/augmented/train/mask/Image_07R_0.png (deflated 11%)\n",
            "  adding: chase_db_384_384_dice_bce_0_4__hvr_0_4_1/augmented/train/mask/Image_14L_0.png (deflated 13%)\n",
            "  adding: chase_db_384_384_dice_bce_0_4__hvr_0_4_1/augmented/train/mask/Image_08L_1.png (deflated 13%)\n",
            "  adding: chase_db_384_384_dice_bce_0_4__hvr_0_4_1/augmented/train/mask/Image_03R_1.png (deflated 12%)\n",
            "  adding: chase_db_384_384_dice_bce_0_4__hvr_0_4_1/augmented/train/mask/Image_07R_1.png (deflated 10%)\n",
            "  adding: chase_db_384_384_dice_bce_0_4__hvr_0_4_1/augmented/train/mask/Image_08R_0.png (deflated 14%)\n",
            "  adding: chase_db_384_384_dice_bce_0_4__hvr_0_4_1/augmented/train/mask/Image_09L_1.png (deflated 12%)\n",
            "  adding: chase_db_384_384_dice_bce_0_4__hvr_0_4_1/augmented/train/mask/Image_13R_3.png (deflated 10%)\n",
            "  adding: chase_db_384_384_dice_bce_0_4__hvr_0_4_1/augmented/train/mask/Image_06R_0.png (deflated 15%)\n",
            "  adding: chase_db_384_384_dice_bce_0_4__hvr_0_4_1/augmented/train/mask/Image_06R_2.png (deflated 12%)\n",
            "  adding: chase_db_384_384_dice_bce_0_4__hvr_0_4_1/augmented/train/mask/Image_03L_0.png (deflated 11%)\n",
            "  adding: chase_db_384_384_dice_bce_0_4__hvr_0_4_1/augmented/train/image/ (stored 0%)\n",
            "  adding: chase_db_384_384_dice_bce_0_4__hvr_0_4_1/augmented/train/image/Image_09L_3.png (deflated 2%)\n",
            "  adding: chase_db_384_384_dice_bce_0_4__hvr_0_4_1/augmented/train/image/Image_06L_0.png (deflated 3%)\n",
            "  adding: chase_db_384_384_dice_bce_0_4__hvr_0_4_1/augmented/train/image/Image_08L_3.png (deflated 2%)\n",
            "  adding: chase_db_384_384_dice_bce_0_4__hvr_0_4_1/augmented/train/image/Image_03R_2.png (deflated 2%)\n",
            "  adding: chase_db_384_384_dice_bce_0_4__hvr_0_4_1/augmented/train/image/Image_09R_0.png (deflated 2%)\n",
            "  adding: chase_db_384_384_dice_bce_0_4__hvr_0_4_1/augmented/train/image/Image_09L_2.png (deflated 3%)\n",
            "  adding: chase_db_384_384_dice_bce_0_4__hvr_0_4_1/augmented/train/image/Image_10R_2.png (deflated 2%)\n",
            "  adding: chase_db_384_384_dice_bce_0_4__hvr_0_4_1/augmented/train/image/Image_07R_2.png (deflated 2%)\n",
            "  adding: chase_db_384_384_dice_bce_0_4__hvr_0_4_1/augmented/train/image/Image_01L_0.png (deflated 2%)\n",
            "  adding: chase_db_384_384_dice_bce_0_4__hvr_0_4_1/augmented/train/image/Image_04L_2.png (deflated 3%)\n",
            "  adding: chase_db_384_384_dice_bce_0_4__hvr_0_4_1/augmented/train/image/Image_08R_2.png (deflated 4%)\n",
            "  adding: chase_db_384_384_dice_bce_0_4__hvr_0_4_1/augmented/train/image/Image_10L_1.png (deflated 3%)\n",
            "  adding: chase_db_384_384_dice_bce_0_4__hvr_0_4_1/augmented/train/image/Image_10R_1.png (deflated 2%)\n",
            "  adding: chase_db_384_384_dice_bce_0_4__hvr_0_4_1/augmented/train/image/Image_03L_3.png (deflated 1%)\n",
            "  adding: chase_db_384_384_dice_bce_0_4__hvr_0_4_1/augmented/train/image/Image_06L_3.png (deflated 2%)\n",
            "  adding: chase_db_384_384_dice_bce_0_4__hvr_0_4_1/augmented/train/image/Image_09L_0.png (deflated 3%)\n",
            "  adding: chase_db_384_384_dice_bce_0_4__hvr_0_4_1/augmented/train/image/Image_13R_0.png (deflated 6%)\n",
            "  adding: chase_db_384_384_dice_bce_0_4__hvr_0_4_1/augmented/train/image/Image_06R_1.png (deflated 3%)\n",
            "  adding: chase_db_384_384_dice_bce_0_4__hvr_0_4_1/augmented/train/image/Image_01L_2.png (deflated 2%)\n",
            "  adding: chase_db_384_384_dice_bce_0_4__hvr_0_4_1/augmented/train/image/Image_02L_0.png (deflated 3%)\n",
            "  adding: chase_db_384_384_dice_bce_0_4__hvr_0_4_1/augmented/train/image/Image_07L_3.png (deflated 2%)\n",
            "  adding: chase_db_384_384_dice_bce_0_4__hvr_0_4_1/augmented/train/image/Image_05R_2.png (deflated 2%)\n",
            "  adding: chase_db_384_384_dice_bce_0_4__hvr_0_4_1/augmented/train/image/Image_08R_1.png (deflated 4%)\n",
            "  adding: chase_db_384_384_dice_bce_0_4__hvr_0_4_1/augmented/train/image/Image_07L_1.png (deflated 3%)\n",
            "  adding: chase_db_384_384_dice_bce_0_4__hvr_0_4_1/augmented/train/image/Image_04L_3.png (deflated 1%)\n",
            "  adding: chase_db_384_384_dice_bce_0_4__hvr_0_4_1/augmented/train/image/Image_02L_3.png (deflated 2%)\n",
            "  adding: chase_db_384_384_dice_bce_0_4__hvr_0_4_1/augmented/train/image/Image_09R_3.png (deflated 2%)\n",
            "  adding: chase_db_384_384_dice_bce_0_4__hvr_0_4_1/augmented/train/image/Image_10R_0.png (deflated 3%)\n",
            "  adding: chase_db_384_384_dice_bce_0_4__hvr_0_4_1/augmented/train/image/Image_06L_1.png (deflated 3%)\n",
            "  adding: chase_db_384_384_dice_bce_0_4__hvr_0_4_1/augmented/train/image/Image_05R_0.png (deflated 2%)\n",
            "  adding: chase_db_384_384_dice_bce_0_4__hvr_0_4_1/augmented/train/image/Image_14R_2.png (deflated 3%)\n",
            "  adding: chase_db_384_384_dice_bce_0_4__hvr_0_4_1/augmented/train/image/Image_09R_1.png (deflated 3%)\n",
            "  adding: chase_db_384_384_dice_bce_0_4__hvr_0_4_1/augmented/train/image/Image_08L_2.png (deflated 3%)\n",
            "  adding: chase_db_384_384_dice_bce_0_4__hvr_0_4_1/augmented/train/image/Image_06R_3.png (deflated 2%)\n",
            "  adding: chase_db_384_384_dice_bce_0_4__hvr_0_4_1/augmented/train/image/Image_14R_1.png (deflated 3%)\n",
            "  adding: chase_db_384_384_dice_bce_0_4__hvr_0_4_1/augmented/train/image/Image_03R_0.png (deflated 2%)\n",
            "  adding: chase_db_384_384_dice_bce_0_4__hvr_0_4_1/augmented/train/image/Image_13R_1.png (deflated 6%)\n",
            "  adding: chase_db_384_384_dice_bce_0_4__hvr_0_4_1/augmented/train/image/Image_06L_2.png (deflated 3%)\n",
            "  adding: chase_db_384_384_dice_bce_0_4__hvr_0_4_1/augmented/train/image/Image_01R_0.png (deflated 2%)\n",
            "  adding: chase_db_384_384_dice_bce_0_4__hvr_0_4_1/augmented/train/image/Image_01L_3.png (deflated 1%)\n",
            "  adding: chase_db_384_384_dice_bce_0_4__hvr_0_4_1/augmented/train/image/Image_02L_2.png (deflated 3%)\n",
            "  adding: chase_db_384_384_dice_bce_0_4__hvr_0_4_1/augmented/train/image/Image_13R_2.png (deflated 6%)\n",
            "  adding: chase_db_384_384_dice_bce_0_4__hvr_0_4_1/augmented/train/image/Image_05R_3.png (deflated 1%)\n",
            "  adding: chase_db_384_384_dice_bce_0_4__hvr_0_4_1/augmented/train/image/Image_14R_0.png (deflated 3%)\n",
            "  adding: chase_db_384_384_dice_bce_0_4__hvr_0_4_1/augmented/train/image/Image_08L_0.png (deflated 3%)\n",
            "  adding: chase_db_384_384_dice_bce_0_4__hvr_0_4_1/augmented/train/image/Image_07L_0.png (deflated 2%)\n",
            "  adding: chase_db_384_384_dice_bce_0_4__hvr_0_4_1/augmented/train/image/Image_01R_3.png (deflated 1%)\n",
            "  adding: chase_db_384_384_dice_bce_0_4__hvr_0_4_1/augmented/train/image/Image_01L_1.png (deflated 2%)\n",
            "  adding: chase_db_384_384_dice_bce_0_4__hvr_0_4_1/augmented/train/image/Image_10L_2.png (deflated 3%)\n",
            "  adding: chase_db_384_384_dice_bce_0_4__hvr_0_4_1/augmented/train/image/Image_05L_1.png (deflated 2%)\n",
            "  adding: chase_db_384_384_dice_bce_0_4__hvr_0_4_1/augmented/train/image/Image_02R_1.png (deflated 3%)\n",
            "  adding: chase_db_384_384_dice_bce_0_4__hvr_0_4_1/augmented/train/image/Image_10L_3.png (deflated 2%)\n",
            "  adding: chase_db_384_384_dice_bce_0_4__hvr_0_4_1/augmented/train/image/Image_04L_1.png (deflated 3%)\n",
            "  adding: chase_db_384_384_dice_bce_0_4__hvr_0_4_1/augmented/train/image/Image_04R_2.png (deflated 2%)\n",
            "  adding: chase_db_384_384_dice_bce_0_4__hvr_0_4_1/augmented/train/image/Image_04R_1.png (deflated 2%)\n",
            "  adding: chase_db_384_384_dice_bce_0_4__hvr_0_4_1/augmented/train/image/Image_05R_1.png (deflated 2%)\n",
            "  adding: chase_db_384_384_dice_bce_0_4__hvr_0_4_1/augmented/train/image/Image_05L_3.png (deflated 1%)\n",
            "  adding: chase_db_384_384_dice_bce_0_4__hvr_0_4_1/augmented/train/image/Image_01R_2.png (deflated 2%)\n",
            "  adding: chase_db_384_384_dice_bce_0_4__hvr_0_4_1/augmented/train/image/Image_03R_3.png (deflated 1%)\n",
            "  adding: chase_db_384_384_dice_bce_0_4__hvr_0_4_1/augmented/train/image/Image_14R_3.png (deflated 1%)\n",
            "  adding: chase_db_384_384_dice_bce_0_4__hvr_0_4_1/augmented/train/image/Image_07L_2.png (deflated 3%)\n",
            "  adding: chase_db_384_384_dice_bce_0_4__hvr_0_4_1/augmented/train/image/Image_02R_0.png (deflated 3%)\n",
            "  adding: chase_db_384_384_dice_bce_0_4__hvr_0_4_1/augmented/train/image/Image_14L_2.png (deflated 2%)\n",
            "  adding: chase_db_384_384_dice_bce_0_4__hvr_0_4_1/augmented/train/image/Image_02L_1.png (deflated 3%)\n",
            "  adding: chase_db_384_384_dice_bce_0_4__hvr_0_4_1/augmented/train/image/Image_02R_2.png (deflated 3%)\n",
            "  adding: chase_db_384_384_dice_bce_0_4__hvr_0_4_1/augmented/train/image/Image_01R_1.png (deflated 2%)\n",
            "  adding: chase_db_384_384_dice_bce_0_4__hvr_0_4_1/augmented/train/image/Image_03L_2.png (deflated 2%)\n",
            "  adding: chase_db_384_384_dice_bce_0_4__hvr_0_4_1/augmented/train/image/Image_10R_3.png (deflated 2%)\n",
            "  adding: chase_db_384_384_dice_bce_0_4__hvr_0_4_1/augmented/train/image/Image_04R_3.png (deflated 1%)\n",
            "  adding: chase_db_384_384_dice_bce_0_4__hvr_0_4_1/augmented/train/image/Image_14L_3.png (deflated 1%)\n",
            "  adding: chase_db_384_384_dice_bce_0_4__hvr_0_4_1/augmented/train/image/Image_02R_3.png (deflated 2%)\n",
            "  adding: chase_db_384_384_dice_bce_0_4__hvr_0_4_1/augmented/train/image/Image_14L_1.png (deflated 2%)\n",
            "  adding: chase_db_384_384_dice_bce_0_4__hvr_0_4_1/augmented/train/image/Image_05L_0.png (deflated 2%)\n",
            "  adding: chase_db_384_384_dice_bce_0_4__hvr_0_4_1/augmented/train/image/Image_03L_1.png (deflated 2%)\n",
            "  adding: chase_db_384_384_dice_bce_0_4__hvr_0_4_1/augmented/train/image/Image_05L_2.png (deflated 2%)\n",
            "  adding: chase_db_384_384_dice_bce_0_4__hvr_0_4_1/augmented/train/image/Image_10L_0.png (deflated 3%)\n",
            "  adding: chase_db_384_384_dice_bce_0_4__hvr_0_4_1/augmented/train/image/Image_04R_0.png (deflated 2%)\n",
            "  adding: chase_db_384_384_dice_bce_0_4__hvr_0_4_1/augmented/train/image/Image_08R_3.png (deflated 2%)\n",
            "  adding: chase_db_384_384_dice_bce_0_4__hvr_0_4_1/augmented/train/image/Image_07R_3.png (deflated 1%)\n",
            "  adding: chase_db_384_384_dice_bce_0_4__hvr_0_4_1/augmented/train/image/Image_04L_0.png (deflated 3%)\n",
            "  adding: chase_db_384_384_dice_bce_0_4__hvr_0_4_1/augmented/train/image/Image_09R_2.png (deflated 3%)\n",
            "  adding: chase_db_384_384_dice_bce_0_4__hvr_0_4_1/augmented/train/image/Image_07R_0.png (deflated 2%)\n",
            "  adding: chase_db_384_384_dice_bce_0_4__hvr_0_4_1/augmented/train/image/Image_14L_0.png (deflated 2%)\n",
            "  adding: chase_db_384_384_dice_bce_0_4__hvr_0_4_1/augmented/train/image/Image_08L_1.png (deflated 3%)\n",
            "  adding: chase_db_384_384_dice_bce_0_4__hvr_0_4_1/augmented/train/image/Image_03R_1.png (deflated 2%)\n",
            "  adding: chase_db_384_384_dice_bce_0_4__hvr_0_4_1/augmented/train/image/Image_07R_1.png (deflated 2%)\n",
            "  adding: chase_db_384_384_dice_bce_0_4__hvr_0_4_1/augmented/train/image/Image_08R_0.png (deflated 4%)\n",
            "  adding: chase_db_384_384_dice_bce_0_4__hvr_0_4_1/augmented/train/image/Image_09L_1.png (deflated 3%)\n",
            "  adding: chase_db_384_384_dice_bce_0_4__hvr_0_4_1/augmented/train/image/Image_13R_3.png (deflated 3%)\n",
            "  adding: chase_db_384_384_dice_bce_0_4__hvr_0_4_1/augmented/train/image/Image_06R_0.png (deflated 3%)\n",
            "  adding: chase_db_384_384_dice_bce_0_4__hvr_0_4_1/augmented/train/image/Image_06R_2.png (deflated 3%)\n",
            "  adding: chase_db_384_384_dice_bce_0_4__hvr_0_4_1/augmented/train/image/Image_03L_0.png (deflated 2%)\n",
            "  adding: chase_db_384_384_dice_bce_0_4__hvr_0_4_1/results/ (stored 0%)\n",
            "  adding: chase_db_384_384_dice_bce_0_4__hvr_0_4_1/results/_Image_11R_3.png (deflated 5%)\n",
            "  adding: chase_db_384_384_dice_bce_0_4__hvr_0_4_1/results/_Image_12R_1.png (deflated 7%)\n",
            "  adding: chase_db_384_384_dice_bce_0_4__hvr_0_4_1/results/_Image_11L_6.png (deflated 11%)\n",
            "  adding: chase_db_384_384_dice_bce_0_4__hvr_0_4_1/results/score_full_0_5.csv (deflated 61%)\n",
            "  adding: chase_db_384_384_dice_bce_0_4__hvr_0_4_1/results/_Image_11R_0.png (deflated 11%)\n",
            "  adding: chase_db_384_384_dice_bce_0_4__hvr_0_4_1/results/_Image_11L_2.png (deflated 12%)\n",
            "  adding: chase_db_384_384_dice_bce_0_4__hvr_0_4_1/results/_Image_13L_3.png (deflated 10%)\n",
            "  adding: chase_db_384_384_dice_bce_0_4__hvr_0_4_1/results/_Image_11R_8.png (deflated 11%)\n",
            "  adding: chase_db_384_384_dice_bce_0_4__hvr_0_4_1/results/_Image_12L_7.png (deflated 5%)\n",
            "  adding: chase_db_384_384_dice_bce_0_4__hvr_0_4_1/results/_Image_11L_1.png (deflated 6%)\n",
            "  adding: chase_db_384_384_dice_bce_0_4__hvr_0_4_1/results/_Image_13L_8.png (deflated 15%)\n",
            "  adding: chase_db_384_384_dice_bce_0_4__hvr_0_4_1/results/score_full_0_4.csv (deflated 62%)\n",
            "  adding: chase_db_384_384_dice_bce_0_4__hvr_0_4_1/results/_Image_12R_2.png (deflated 11%)\n",
            "  adding: chase_db_384_384_dice_bce_0_4__hvr_0_4_1/results/_Image_12L_3.png (deflated 5%)\n",
            "  adding: chase_db_384_384_dice_bce_0_4__hvr_0_4_1/results/_Image_12R_4.png (deflated 4%)\n",
            "  adding: chase_db_384_384_dice_bce_0_4__hvr_0_4_1/results/score.csv (deflated 60%)\n",
            "  adding: chase_db_384_384_dice_bce_0_4__hvr_0_4_1/results/_Image_13L_0.png (deflated 13%)\n",
            "  adding: chase_db_384_384_dice_bce_0_4__hvr_0_4_1/results/_Image_11R_1.png (deflated 7%)\n",
            "  adding: chase_db_384_384_dice_bce_0_4__hvr_0_4_1/results/_Image_12R_7.png (deflated 5%)\n",
            "  adding: chase_db_384_384_dice_bce_0_4__hvr_0_4_1/results/_Image_13L_6.png (deflated 15%)\n",
            "  adding: chase_db_384_384_dice_bce_0_4__hvr_0_4_1/results/_Image_13L_4.png (deflated 4%)\n",
            "  adding: chase_db_384_384_dice_bce_0_4__hvr_0_4_1/results/_Image_12L_1.png (deflated 7%)\n",
            "  adding: chase_db_384_384_dice_bce_0_4__hvr_0_4_1/results/_Image_12R_8.png (deflated 10%)\n",
            "  adding: chase_db_384_384_dice_bce_0_4__hvr_0_4_1/results/_Image_12L_8.png (deflated 9%)\n",
            "  adding: chase_db_384_384_dice_bce_0_4__hvr_0_4_1/results/_Image_12L_5.png (deflated 6%)\n",
            "  adding: chase_db_384_384_dice_bce_0_4__hvr_0_4_1/results/_Image_13L_5.png (deflated 12%)\n",
            "  adding: chase_db_384_384_dice_bce_0_4__hvr_0_4_1/results/_Image_11L_4.png (deflated 4%)\n",
            "  adding: chase_db_384_384_dice_bce_0_4__hvr_0_4_1/results/_Image_11L_7.png (deflated 4%)\n",
            "  adding: chase_db_384_384_dice_bce_0_4__hvr_0_4_1/results/score_full_0_6.csv (deflated 61%)\n",
            "  adding: chase_db_384_384_dice_bce_0_4__hvr_0_4_1/results/_Image_11L_0.png (deflated 12%)\n",
            "  adding: chase_db_384_384_dice_bce_0_4__hvr_0_4_1/results/_Image_11L_8.png (deflated 10%)\n",
            "  adding: chase_db_384_384_dice_bce_0_4__hvr_0_4_1/results/_Image_12L_4.png (deflated 4%)\n",
            "  adding: chase_db_384_384_dice_bce_0_4__hvr_0_4_1/results/_Image_11L_5.png (deflated 5%)\n",
            "  adding: chase_db_384_384_dice_bce_0_4__hvr_0_4_1/results/_Image_11R_2.png (deflated 12%)\n",
            "  adding: chase_db_384_384_dice_bce_0_4__hvr_0_4_1/results/_Image_12R_5.png (deflated 5%)\n",
            "  adding: chase_db_384_384_dice_bce_0_4__hvr_0_4_1/results/_Image_12R_0.png (deflated 10%)\n",
            "  adding: chase_db_384_384_dice_bce_0_4__hvr_0_4_1/results/_Image_11R_7.png (deflated 5%)\n",
            "  adding: chase_db_384_384_dice_bce_0_4__hvr_0_4_1/results/_Image_13L_2.png (deflated 16%)\n",
            "  adding: chase_db_384_384_dice_bce_0_4__hvr_0_4_1/results/_Image_11L_3.png (deflated 6%)\n",
            "  adding: chase_db_384_384_dice_bce_0_4__hvr_0_4_1/results/_Image_12R_6.png (deflated 10%)\n",
            "  adding: chase_db_384_384_dice_bce_0_4__hvr_0_4_1/results/_Image_12L_6.png (deflated 10%)\n",
            "  adding: chase_db_384_384_dice_bce_0_4__hvr_0_4_1/results/_Image_12R_3.png (deflated 6%)\n",
            "  adding: chase_db_384_384_dice_bce_0_4__hvr_0_4_1/results/_Image_13L_1.png (deflated 10%)\n",
            "  adding: chase_db_384_384_dice_bce_0_4__hvr_0_4_1/results/_Image_11R_4.png (deflated 4%)\n",
            "  adding: chase_db_384_384_dice_bce_0_4__hvr_0_4_1/results/_Image_12L_0.png (deflated 15%)\n",
            "  adding: chase_db_384_384_dice_bce_0_4__hvr_0_4_1/results/_Image_12L_2.png (deflated 10%)\n",
            "  adding: chase_db_384_384_dice_bce_0_4__hvr_0_4_1/results/_Image_11R_6.png (deflated 11%)\n",
            "  adding: chase_db_384_384_dice_bce_0_4__hvr_0_4_1/results/_Image_13L_7.png (deflated 11%)\n",
            "  adding: chase_db_384_384_dice_bce_0_4__hvr_0_4_1/results/_Image_11R_5.png (deflated 7%)\n",
            "  adding: chase_db_384_384_dice_bce_0_4__hvr_0_4_1/trained_models/ (stored 0%)\n",
            "  adding: chase_db_384_384_dice_bce_0_4__hvr_0_4_1/trained_models/data.csv (deflated 52%)\n",
            "  adding: chase_db_384_384_dice_bce_0_4__hvr_0_4_1/trained_models/model.h5 (deflated 8%)\n",
            "  adding: chase_db_384_384_dice_bce_0_4__hvr_0_4_1/predictions/ (stored 0%)\n",
            "  adding: chase_db_384_384_dice_bce_0_4__hvr_0_4_1/predictions/_Image_11R_3.png (deflated 22%)\n",
            "  adding: chase_db_384_384_dice_bce_0_4__hvr_0_4_1/predictions/_Image_12R_1.png (deflated 20%)\n",
            "  adding: chase_db_384_384_dice_bce_0_4__hvr_0_4_1/predictions/_Image_11L_6.png (deflated 33%)\n",
            "  adding: chase_db_384_384_dice_bce_0_4__hvr_0_4_1/predictions/_Image_11R_0.png (deflated 46%)\n",
            "  adding: chase_db_384_384_dice_bce_0_4__hvr_0_4_1/predictions/_Image_11L_2.png (deflated 55%)\n",
            "  adding: chase_db_384_384_dice_bce_0_4__hvr_0_4_1/predictions/_Image_13L_3.png (deflated 17%)\n",
            "  adding: chase_db_384_384_dice_bce_0_4__hvr_0_4_1/predictions/_Image_11R_8.png (deflated 34%)\n",
            "  adding: chase_db_384_384_dice_bce_0_4__hvr_0_4_1/predictions/_Image_12L_7.png (deflated 19%)\n",
            "  adding: chase_db_384_384_dice_bce_0_4__hvr_0_4_1/predictions/_Image_11L_1.png (deflated 17%)\n",
            "  adding: chase_db_384_384_dice_bce_0_4__hvr_0_4_1/predictions/_Image_13L_8.png (deflated 32%)\n",
            "  adding: chase_db_384_384_dice_bce_0_4__hvr_0_4_1/predictions/_Image_12R_2.png (deflated 30%)\n",
            "  adding: chase_db_384_384_dice_bce_0_4__hvr_0_4_1/predictions/_Image_12L_3.png (deflated 15%)\n",
            "  adding: chase_db_384_384_dice_bce_0_4__hvr_0_4_1/predictions/_Image_12R_4.png (deflated 14%)\n",
            "  adding: chase_db_384_384_dice_bce_0_4__hvr_0_4_1/predictions/_Image_13L_0.png (deflated 30%)\n",
            "  adding: chase_db_384_384_dice_bce_0_4__hvr_0_4_1/predictions/_Image_11R_1.png (deflated 21%)\n",
            "  adding: chase_db_384_384_dice_bce_0_4__hvr_0_4_1/predictions/_Image_12R_7.png (deflated 17%)\n",
            "  adding: chase_db_384_384_dice_bce_0_4__hvr_0_4_1/predictions/_Image_13L_6.png (deflated 40%)\n",
            "  adding: chase_db_384_384_dice_bce_0_4__hvr_0_4_1/predictions/_Image_13L_4.png (deflated 12%)\n",
            "  adding: chase_db_384_384_dice_bce_0_4__hvr_0_4_1/predictions/_Image_12L_1.png (deflated 20%)\n",
            "  adding: chase_db_384_384_dice_bce_0_4__hvr_0_4_1/predictions/_Image_12R_8.png (deflated 27%)\n",
            "  adding: chase_db_384_384_dice_bce_0_4__hvr_0_4_1/predictions/_Image_12L_8.png (deflated 24%)\n",
            "  adding: chase_db_384_384_dice_bce_0_4__hvr_0_4_1/predictions/_Image_12L_5.png (deflated 21%)\n",
            "  adding: chase_db_384_384_dice_bce_0_4__hvr_0_4_1/predictions/_Image_13L_5.png (deflated 23%)\n",
            "  adding: chase_db_384_384_dice_bce_0_4__hvr_0_4_1/predictions/_Image_11L_4.png (deflated 11%)\n",
            "  adding: chase_db_384_384_dice_bce_0_4__hvr_0_4_1/predictions/_Image_11L_7.png (deflated 18%)\n",
            "  adding: chase_db_384_384_dice_bce_0_4__hvr_0_4_1/predictions/_Image_11L_0.png (deflated 40%)\n",
            "  adding: chase_db_384_384_dice_bce_0_4__hvr_0_4_1/predictions/_Image_11L_8.png (deflated 32%)\n",
            "  adding: chase_db_384_384_dice_bce_0_4__hvr_0_4_1/predictions/_Image_12L_4.png (deflated 12%)\n",
            "  adding: chase_db_384_384_dice_bce_0_4__hvr_0_4_1/predictions/_Image_11L_5.png (deflated 24%)\n",
            "  adding: chase_db_384_384_dice_bce_0_4__hvr_0_4_1/predictions/_Image_11R_2.png (deflated 35%)\n",
            "  adding: chase_db_384_384_dice_bce_0_4__hvr_0_4_1/predictions/_Image_12R_5.png (deflated 12%)\n",
            "  adding: chase_db_384_384_dice_bce_0_4__hvr_0_4_1/predictions/_Image_12R_0.png (deflated 27%)\n",
            "  adding: chase_db_384_384_dice_bce_0_4__hvr_0_4_1/predictions/_Image_11R_7.png (deflated 23%)\n",
            "  adding: chase_db_384_384_dice_bce_0_4__hvr_0_4_1/predictions/_Image_13L_2.png (deflated 44%)\n",
            "  adding: chase_db_384_384_dice_bce_0_4__hvr_0_4_1/predictions/_Image_11L_3.png (deflated 14%)\n",
            "  adding: chase_db_384_384_dice_bce_0_4__hvr_0_4_1/predictions/_Image_12R_6.png (deflated 29%)\n",
            "  adding: chase_db_384_384_dice_bce_0_4__hvr_0_4_1/predictions/_Image_12L_6.png (deflated 27%)\n",
            "  adding: chase_db_384_384_dice_bce_0_4__hvr_0_4_1/predictions/_Image_12R_3.png (deflated 13%)\n",
            "  adding: chase_db_384_384_dice_bce_0_4__hvr_0_4_1/predictions/_Image_13L_1.png (deflated 19%)\n",
            "  adding: chase_db_384_384_dice_bce_0_4__hvr_0_4_1/predictions/_Image_11R_4.png (deflated 14%)\n",
            "  adding: chase_db_384_384_dice_bce_0_4__hvr_0_4_1/predictions/_Image_12L_0.png (deflated 40%)\n",
            "  adding: chase_db_384_384_dice_bce_0_4__hvr_0_4_1/predictions/_Image_12L_2.png (deflated 25%)\n",
            "  adding: chase_db_384_384_dice_bce_0_4__hvr_0_4_1/predictions/_Image_11R_6.png (deflated 61%)\n",
            "  adding: chase_db_384_384_dice_bce_0_4__hvr_0_4_1/predictions/_Image_13L_7.png (deflated 19%)\n",
            "  adding: chase_db_384_384_dice_bce_0_4__hvr_0_4_1/predictions/_Image_11R_5.png (deflated 17%)\n"
          ]
        }
      ],
      "source": [
        "!zip -r {folder_name}.zip  {folder_name}/"
      ]
    },
    {
      "cell_type": "code",
      "execution_count": null,
      "metadata": {
        "colab": {
          "background_save": true
        },
        "id": "8L9ewIL3ach6",
        "outputId": "f3fc8d5c-ed8b-45ba-d7e0-01aa1f20eec7"
      },
      "outputs": [
        {
          "name": "stdout",
          "output_type": "stream",
          "text": [
            "total 508M\n",
            "drwxr-xr-x  4 root root 4.0K Mar 14 07:04 logs\n",
            "drwxr-xr-x 11 root root 4.0K Mar 14 07:23 chase_db_384_384_dice_bce_0_4__hvr_0_4_1\n",
            "-rw-r--r--  1 root root 508M Mar 14 07:24 chase_db_384_384_dice_bce_0_4__hvr_0_4_1.zip\n"
          ]
        }
      ],
      "source": [
        "!ls -ltrh\n"
      ]
    },
    {
      "cell_type": "code",
      "execution_count": null,
      "metadata": {
        "colab": {
          "background_save": true
        },
        "id": "HgeR9u--S9HC",
        "outputId": "7a53a3c2-23fc-4e93-ce21-0369d277aa86"
      },
      "outputs": [
        {
          "name": "stdout",
          "output_type": "stream",
          "text": [
            "02_g_test.png\n",
            "chase_db_128_128_dice_bce_0_4__0_4_1\n",
            "chase_db_128_128_dice_bce_0_4__0_4_1.zip\n",
            "chase_db_128_128_dice_bce_0_4__hvr_0_4_1\n",
            "chase_db_128_128_dice_bce_0_4__hvr_0_4_1.zip\n",
            "chase_db_256_128_dice_bce_0_4__hvr_0_4_1\n",
            "chase_db_256_128_dice_bce_0_4__hvr_0_4_1.zip\n",
            "chase_db_256_256_dice_bce_0_4__0_4_1\n",
            "chase_db_256_256_dice_bce_0_4__0_4_1.zip\n",
            "chase_db_320_320_dice_bce_0_4__0_4_1\n",
            "chase_db_320_320_dice_bce_0_4__0_4_1.zip\n",
            "chase_db_320_320_dice_bce_0_4__hvr_0_4_1\n",
            "chase_db_320_320_dice_bce_0_4__hvr_0_4_1.zip\n",
            "chase_db_384_384_dice_bce_0_4__0_4_1\n",
            "chase_db_384_384_dice_bce_0_4__0_4_1.zip\n",
            "drive_128_128_dice_bce_0_4__0_4_1\n",
            "drive_128_128_dice_bce_0_4__0_4_1.zip\n",
            "drive_128_128_dice_bce_0_4__hvr_0_4_1\n",
            "drive_128_128_dice_bce_0_4__hvr_0_4_1.zip\n",
            "drive_128_128_dice_loss_0_4__0_4_1\n",
            "drive_128_128_dice_loss_0_4__0_4_1.zip\n",
            "drive_128_128_dice_loss_0_4__hvr_0_4_1\n",
            "drive_128_128_dice_loss_0_4__hvr_0_4_1.zip\n",
            "drive_256_256_dice_bce_0_4__0_4_1\n",
            "drive_256_256_dice_bce_0_4__0_4_1.zip\n",
            "drive_256_256_dice_bce_0_4__hvr_0_4_1\n",
            "drive_256_256_dice_bce_0_4__hvr_0_4_1.zip\n",
            "drive_256_256_dice_loss_0_4__0_4_1\n",
            "drive_256_256_dice_loss_0_4__0_4_1.zip\n",
            "drive_256_256_dice_loss_0_4__hvr_0_4_1\n",
            "drive_256_256_dice_loss_0_4__hvr_0_4_1.zip\n",
            "drive_64_64_dice_bce_0_4__0_4_1\n",
            "drive_64_64_dice_bce_0_4__0_4_1.zip\n",
            "drive_64_64_dice_bce_0_4__hvr_0_4_1\n",
            "drive_64_64_dice_bce_0_4__hvr_0_4_1.zip\n",
            "drive_64_64_dice_loss_0_4__0_4_1\n",
            "drive_64_64_dice_loss_0_4__0_4_1.zip\n",
            "drive_64_64_dice_loss_0_4__hvr_0_4_1\n",
            "drive_64_64_dice_loss_0_4__hvr_0_4_1.zip\n",
            "hrf_256_256_dice_loss_1\n",
            "hrf_256_256_dice_loss_1.zip\n",
            "hrf_256_256_dice_loss_hvr_1.zip\n",
            "hrf_256_256_dice_loss_hvr_2.zip\n",
            "hrf_512_256_bce_hvr_xval_10_42.zip\n",
            "hrf_512_512\n",
            "hrf_512_512_bce\n",
            "hrf_512_512_bce_1\n",
            "hrf_512_512_bce_1.zip\n",
            "hrf_512_512_bce_2\n",
            "hrf_512_512_bce_2.zip\n",
            "hrf_512_512_bce_hvr\n",
            "hrf_512_512_bce_hvr_0_3\n",
            "hrf_512_512_bce_hvr_0_33_42.zip\n",
            "hrf_512_512_bce_hvr_0_33_43\n",
            "hrf_512_512_bce_hvr_0_33_43.zip\n",
            "hrf_512_512_bce_hvr_0_3_44\n",
            "hrf_512_512_bce_hvr_0_3_44.zip\n",
            "hrf_512_512_bce_hvr_feb_3_1.zip\n",
            "hrf_512_512_bce_hvr_feb_5_1.zip\n",
            "hrf_512_512_bce_hvr_xval_2_42.zip\n",
            "hrf_512_512_bce_hvr_xval_5_42\n",
            "hrf_512_512_bce_hvr_xval_5_42_10epochs\n",
            "hrf_512_512_bce_hvr_xval_5_42.csv\n",
            "hrf_512_512_bce_hvr.zip\n",
            "hrf_512_512_bce.zip\n",
            "hrf_512_512_dice\n",
            "hrf_512_512_dice_bce\n",
            "hrf_512_512_dice_bce_0_4_2\n",
            "hrf_512_512_dice_bce_0_4_2.zip\n",
            "hrf_512_512_dice_bce_1\n",
            "hrf_512_512_dice_bce_1.zip\n",
            "hrf_512_512_dice_bce_hvr\n",
            "hrf_512_512_dice_bce_hvr_0_3_feb4.zip\n",
            "hrf_512_512_dice_bce_hvr_2.zip\n",
            "hrf_512_512_dice_bce_hvr_jan_31_2.zip\n",
            "hrf_512_512_dice_bce_hvr_jan_31.zip\n",
            "hrf_512_512_dice_bce_hvr_xval_5_42.zip\n",
            "hrf_512_512_dice_bce_hvr_xval_9_42_10epochs.zip\n",
            "hrf_512_512_dice_bce_hvr.zip\n",
            "hrf_512_512_DiceBCELoss\n",
            "hrf_512_512_dice_loss_0_4_1\n",
            "hrf_512_512_dice_loss_0_4_1.zip\n",
            "hrf_512_512_dice_loss_2\n",
            "hrf_512_512_dice_loss_2.zip\n",
            "hrf_512_512_dice_loss_3\n",
            "hrf_512_512_dice_loss_3.zip\n",
            "hrf_512_512_dice_loss_hvr_0_3_feb_3.zip\n",
            "hrf_512_512_dice_loss_hvr_0_4_feb4.zip\n",
            "hrf_512_512_dice_loss_hvr_3.zip\n",
            "hrf_512_512_dice_loss_hvr_xval_5_42.zip\n",
            "hrf_512_512_dice.zip\n",
            "hrf_512_512.zip\n",
            "hrf_768_768_bce_0_4_1\n",
            "hrf_768_768_bce_0_4_1.zip\n",
            "hrf_768_768_bce_hvr_1.zip\n",
            "hrf_768_768_dice_bce_0_4_1\n",
            "hrf_768_768_dice_bce_0_4_1.zip\n",
            "hrf_768_768_dice_bce_hvr_1.zip\n",
            "hrf_768_768_dice_loss_0_4_1\n",
            "hrf_768_768_dice_loss_0_4_1.zip\n",
            "hrf_768_768_dice_loss_hvr_2.zip\n",
            "hrf_768_768_wbce_0_4__0_3_1\n",
            "hrf_768_768_wbce_0_4__0_3_1.zip\n",
            "hrf_768_768_wbce_0_4__0_4_1\n",
            "hrf_768_768_wbce_0_4__0_4_1.zip\n",
            "hrf_768_768_wbce_0_5__0_3_1\n",
            "hrf_768_768_wbce_0_5__0_3_1.zip\n",
            "hrf_768_768_wbce_0_6__0_3_1\n",
            "hrf_768_768_wbce_0_6__0_3_1.zip\n",
            "hrf_768_768_wbce_0_6__0_4_1\n",
            "hrf_768_768_wbce_0_6__0_4_1.zip\n",
            "hrf_768_768_wbce_0_6__hvr_1.zip\n",
            "hrf_patches_512.zip\n",
            "hrf.zip\n",
            "idrid_512_512_dice_bce_0_4__hvr_0_4_1\n",
            "idrid_512_512_dice_bce_0_4__hvr_0_4_1.zip\n",
            "idrid_768_768_dice_bce_0_4__hvr_0_4_1\n",
            "idrid_768_768_dice_bce_0_4__hvr_0_4_1.zip\n",
            "non_overlapping_512\n",
            "split_2.zip\n"
          ]
        }
      ],
      "source": [
        "!ls /content/gdrive/MyDrive/Blood_Vessel_Results/hrf_patches/"
      ]
    },
    {
      "cell_type": "code",
      "execution_count": null,
      "metadata": {
        "colab": {
          "background_save": true
        },
        "id": "uxv_dah3MAdT"
      },
      "outputs": [],
      "source": [
        "!cp {folder_name}.zip /content/gdrive/MyDrive/Blood_Vessel_Results/hrf_patches/"
      ]
    },
    {
      "cell_type": "code",
      "execution_count": null,
      "metadata": {
        "colab": {
          "background_save": true
        },
        "id": "LDtPmTRvTZEg",
        "outputId": "d0e0de4b-d7f0-445e-eec5-c7d3c9025704"
      },
      "outputs": [
        {
          "name": "stdout",
          "output_type": "stream",
          "text": [
            "/content/gdrive/MyDrive/Blood_Vessel_Results/hrf_patches\n"
          ]
        }
      ],
      "source": [
        "%cd /content/gdrive/MyDrive/Blood_Vessel_Results/hrf_patches/"
      ]
    },
    {
      "cell_type": "code",
      "execution_count": null,
      "metadata": {
        "colab": {
          "background_save": true
        },
        "id": "l9g3FzQFUzN1",
        "outputId": "0119dab8-83be-43ea-b703-925b7cece047"
      },
      "outputs": [
        {
          "name": "stdout",
          "output_type": "stream",
          "text": [
            "/content/gdrive/MyDrive/Blood_Vessel_Results/hrf_patches\n"
          ]
        }
      ],
      "source": [
        "!pwd"
      ]
    },
    {
      "cell_type": "code",
      "execution_count": null,
      "metadata": {
        "colab": {
          "background_save": true
        },
        "id": "AnpquhqmU1gr",
        "outputId": "de88cb6e-0cee-411d-8894-40588c6961bf"
      },
      "outputs": [
        {
          "name": "stdout",
          "output_type": "stream",
          "text": [
            "02_g_test.png\n",
            "chase_db_128_128_dice_bce_0_4__0_4_1\n",
            "chase_db_128_128_dice_bce_0_4__0_4_1.zip\n",
            "chase_db_128_128_dice_bce_0_4__hvr_0_4_1\n",
            "chase_db_128_128_dice_bce_0_4__hvr_0_4_1.zip\n",
            "chase_db_256_128_dice_bce_0_4__hvr_0_4_1\n",
            "chase_db_256_128_dice_bce_0_4__hvr_0_4_1.zip\n",
            "chase_db_256_256_dice_bce_0_4__0_4_1\n",
            "chase_db_256_256_dice_bce_0_4__0_4_1.zip\n",
            "chase_db_320_320_dice_bce_0_4__0_4_1\n",
            "chase_db_320_320_dice_bce_0_4__0_4_1.zip\n",
            "chase_db_320_320_dice_bce_0_4__hvr_0_4_1\n",
            "chase_db_320_320_dice_bce_0_4__hvr_0_4_1.zip\n",
            "chase_db_384_384_dice_bce_0_4__0_4_1\n",
            "chase_db_384_384_dice_bce_0_4__0_4_1.zip\n",
            "chase_db_384_384_dice_bce_0_4__hvr_0_4_1.zip\n",
            "drive_128_128_dice_bce_0_4__0_4_1\n",
            "drive_128_128_dice_bce_0_4__0_4_1.zip\n",
            "drive_128_128_dice_bce_0_4__hvr_0_4_1\n",
            "drive_128_128_dice_bce_0_4__hvr_0_4_1.zip\n",
            "drive_128_128_dice_loss_0_4__0_4_1\n",
            "drive_128_128_dice_loss_0_4__0_4_1.zip\n",
            "drive_128_128_dice_loss_0_4__hvr_0_4_1\n",
            "drive_128_128_dice_loss_0_4__hvr_0_4_1.zip\n",
            "drive_256_256_dice_bce_0_4__0_4_1\n",
            "drive_256_256_dice_bce_0_4__0_4_1.zip\n",
            "drive_256_256_dice_bce_0_4__hvr_0_4_1\n",
            "drive_256_256_dice_bce_0_4__hvr_0_4_1.zip\n",
            "drive_256_256_dice_loss_0_4__0_4_1\n",
            "drive_256_256_dice_loss_0_4__0_4_1.zip\n",
            "drive_256_256_dice_loss_0_4__hvr_0_4_1\n",
            "drive_256_256_dice_loss_0_4__hvr_0_4_1.zip\n",
            "drive_64_64_dice_bce_0_4__0_4_1\n",
            "drive_64_64_dice_bce_0_4__0_4_1.zip\n",
            "drive_64_64_dice_bce_0_4__hvr_0_4_1\n",
            "drive_64_64_dice_bce_0_4__hvr_0_4_1.zip\n",
            "drive_64_64_dice_loss_0_4__0_4_1\n",
            "drive_64_64_dice_loss_0_4__0_4_1.zip\n",
            "drive_64_64_dice_loss_0_4__hvr_0_4_1\n",
            "drive_64_64_dice_loss_0_4__hvr_0_4_1.zip\n",
            "hrf_256_256_dice_loss_1\n",
            "hrf_256_256_dice_loss_1.zip\n",
            "hrf_256_256_dice_loss_hvr_1.zip\n",
            "hrf_256_256_dice_loss_hvr_2.zip\n",
            "hrf_512_256_bce_hvr_xval_10_42.zip\n",
            "hrf_512_512\n",
            "hrf_512_512_bce\n",
            "hrf_512_512_bce_1\n",
            "hrf_512_512_bce_1.zip\n",
            "hrf_512_512_bce_2\n",
            "hrf_512_512_bce_2.zip\n",
            "hrf_512_512_bce_hvr\n",
            "hrf_512_512_bce_hvr_0_3\n",
            "hrf_512_512_bce_hvr_0_33_42.zip\n",
            "hrf_512_512_bce_hvr_0_33_43\n",
            "hrf_512_512_bce_hvr_0_33_43.zip\n",
            "hrf_512_512_bce_hvr_0_3_44\n",
            "hrf_512_512_bce_hvr_0_3_44.zip\n",
            "hrf_512_512_bce_hvr_feb_3_1.zip\n",
            "hrf_512_512_bce_hvr_feb_5_1.zip\n",
            "hrf_512_512_bce_hvr_xval_2_42.zip\n",
            "hrf_512_512_bce_hvr_xval_5_42\n",
            "hrf_512_512_bce_hvr_xval_5_42_10epochs\n",
            "hrf_512_512_bce_hvr_xval_5_42.csv\n",
            "hrf_512_512_bce_hvr.zip\n",
            "hrf_512_512_bce.zip\n",
            "hrf_512_512_dice\n",
            "hrf_512_512_dice_bce\n",
            "hrf_512_512_dice_bce_0_4_2\n",
            "hrf_512_512_dice_bce_0_4_2.zip\n",
            "hrf_512_512_dice_bce_1\n",
            "hrf_512_512_dice_bce_1.zip\n",
            "hrf_512_512_dice_bce_hvr\n",
            "hrf_512_512_dice_bce_hvr_0_3_feb4.zip\n",
            "hrf_512_512_dice_bce_hvr_2.zip\n",
            "hrf_512_512_dice_bce_hvr_jan_31_2.zip\n",
            "hrf_512_512_dice_bce_hvr_jan_31.zip\n",
            "hrf_512_512_dice_bce_hvr_xval_5_42.zip\n",
            "hrf_512_512_dice_bce_hvr_xval_9_42_10epochs.zip\n",
            "hrf_512_512_dice_bce_hvr.zip\n",
            "hrf_512_512_DiceBCELoss\n",
            "hrf_512_512_dice_loss_0_4_1\n",
            "hrf_512_512_dice_loss_0_4_1.zip\n",
            "hrf_512_512_dice_loss_2\n",
            "hrf_512_512_dice_loss_2.zip\n",
            "hrf_512_512_dice_loss_3\n",
            "hrf_512_512_dice_loss_3.zip\n",
            "hrf_512_512_dice_loss_hvr_0_3_feb_3.zip\n",
            "hrf_512_512_dice_loss_hvr_0_4_feb4.zip\n",
            "hrf_512_512_dice_loss_hvr_3.zip\n",
            "hrf_512_512_dice_loss_hvr_xval_5_42.zip\n",
            "hrf_512_512_dice.zip\n",
            "hrf_512_512.zip\n",
            "hrf_768_768_bce_0_4_1\n",
            "hrf_768_768_bce_0_4_1.zip\n",
            "hrf_768_768_bce_hvr_1.zip\n",
            "hrf_768_768_dice_bce_0_4_1\n",
            "hrf_768_768_dice_bce_0_4_1.zip\n",
            "hrf_768_768_dice_bce_hvr_1.zip\n",
            "hrf_768_768_dice_loss_0_4_1\n",
            "hrf_768_768_dice_loss_0_4_1.zip\n",
            "hrf_768_768_dice_loss_hvr_2.zip\n",
            "hrf_768_768_wbce_0_4__0_3_1\n",
            "hrf_768_768_wbce_0_4__0_3_1.zip\n",
            "hrf_768_768_wbce_0_4__0_4_1\n",
            "hrf_768_768_wbce_0_4__0_4_1.zip\n",
            "hrf_768_768_wbce_0_5__0_3_1\n",
            "hrf_768_768_wbce_0_5__0_3_1.zip\n",
            "hrf_768_768_wbce_0_6__0_3_1\n",
            "hrf_768_768_wbce_0_6__0_3_1.zip\n",
            "hrf_768_768_wbce_0_6__0_4_1\n",
            "hrf_768_768_wbce_0_6__0_4_1.zip\n",
            "hrf_768_768_wbce_0_6__hvr_1.zip\n",
            "hrf_patches_512.zip\n",
            "hrf.zip\n",
            "idrid_512_512_dice_bce_0_4__hvr_0_4_1\n",
            "idrid_512_512_dice_bce_0_4__hvr_0_4_1.zip\n",
            "idrid_768_768_dice_bce_0_4__hvr_0_4_1\n",
            "idrid_768_768_dice_bce_0_4__hvr_0_4_1.zip\n",
            "non_overlapping_512\n",
            "split_2.zip\n"
          ]
        }
      ],
      "source": [
        "!ls"
      ]
    },
    {
      "cell_type": "code",
      "execution_count": null,
      "metadata": {
        "colab": {
          "background_save": true
        },
        "id": "QjOj2UhYTmPO",
        "outputId": "8b3ebb0b-805d-4131-f7ca-c6122b2dc796"
      },
      "outputs": [
        {
          "name": "stdout",
          "output_type": "stream",
          "text": [
            "Archive:  chase_db_384_384_dice_bce_0_4__hvr_0_4_1.zip\n",
            "   creating: chase_db_384_384_dice_bce_0_4__hvr_0_4_1/\n",
            "   creating: chase_db_384_384_dice_bce_0_4__hvr_0_4_1/test/\n",
            "   creating: chase_db_384_384_dice_bce_0_4__hvr_0_4_1/test/1st_manual/\n",
            "  inflating: chase_db_384_384_dice_bce_0_4__hvr_0_4_1/test/1st_manual/Image_13L_1stHO.png  \n",
            "  inflating: chase_db_384_384_dice_bce_0_4__hvr_0_4_1/test/1st_manual/Image_12L_1stHO.png  \n",
            "  inflating: chase_db_384_384_dice_bce_0_4__hvr_0_4_1/test/1st_manual/Image_12R_1stHO.png  \n",
            "  inflating: chase_db_384_384_dice_bce_0_4__hvr_0_4_1/test/1st_manual/Image_11R_1stHO.png  \n",
            "  inflating: chase_db_384_384_dice_bce_0_4__hvr_0_4_1/test/1st_manual/Image_11L_1stHO.png  \n",
            "   creating: chase_db_384_384_dice_bce_0_4__hvr_0_4_1/test/images/\n",
            "  inflating: chase_db_384_384_dice_bce_0_4__hvr_0_4_1/test/images/Image_12L.jpg  \n",
            "  inflating: chase_db_384_384_dice_bce_0_4__hvr_0_4_1/test/images/Image_11R.jpg  \n",
            "  inflating: chase_db_384_384_dice_bce_0_4__hvr_0_4_1/test/images/Image_12R.jpg  \n",
            "  inflating: chase_db_384_384_dice_bce_0_4__hvr_0_4_1/test/images/Image_11L.jpg  \n",
            "  inflating: chase_db_384_384_dice_bce_0_4__hvr_0_4_1/test/images/Image_13L.jpg  \n",
            "   creating: chase_db_384_384_dice_bce_0_4__hvr_0_4_1/training/\n",
            "   creating: chase_db_384_384_dice_bce_0_4__hvr_0_4_1/training/1st_manual/\n",
            "  inflating: chase_db_384_384_dice_bce_0_4__hvr_0_4_1/training/1st_manual/Image_04L_1stHO.png  \n",
            "  inflating: chase_db_384_384_dice_bce_0_4__hvr_0_4_1/training/1st_manual/Image_09L_1stHO.png  \n",
            "  inflating: chase_db_384_384_dice_bce_0_4__hvr_0_4_1/training/1st_manual/Image_04R_1stHO.png  \n",
            "  inflating: chase_db_384_384_dice_bce_0_4__hvr_0_4_1/training/1st_manual/Image_09R_1stHO.png  \n",
            "  inflating: chase_db_384_384_dice_bce_0_4__hvr_0_4_1/training/1st_manual/Image_05R_1stHO.png  \n",
            "  inflating: chase_db_384_384_dice_bce_0_4__hvr_0_4_1/training/1st_manual/Image_05L_1stHO.png  \n",
            "  inflating: chase_db_384_384_dice_bce_0_4__hvr_0_4_1/training/1st_manual/Image_10R_1stHO.png  \n",
            "  inflating: chase_db_384_384_dice_bce_0_4__hvr_0_4_1/training/1st_manual/Image_07R_1stHO.png  \n",
            "  inflating: chase_db_384_384_dice_bce_0_4__hvr_0_4_1/training/1st_manual/Image_07L_1stHO.png  \n",
            "  inflating: chase_db_384_384_dice_bce_0_4__hvr_0_4_1/training/1st_manual/Image_06R_1stHO.png  \n",
            "  inflating: chase_db_384_384_dice_bce_0_4__hvr_0_4_1/training/1st_manual/Image_03L_1stHO.png  \n",
            "  inflating: chase_db_384_384_dice_bce_0_4__hvr_0_4_1/training/1st_manual/Image_14R_1stHO.png  \n",
            "  inflating: chase_db_384_384_dice_bce_0_4__hvr_0_4_1/training/1st_manual/Image_01L_1stHO.png  \n",
            "  inflating: chase_db_384_384_dice_bce_0_4__hvr_0_4_1/training/1st_manual/Image_06L_1stHO.png  \n",
            "  inflating: chase_db_384_384_dice_bce_0_4__hvr_0_4_1/training/1st_manual/Image_10L_1stHO.png  \n",
            "  inflating: chase_db_384_384_dice_bce_0_4__hvr_0_4_1/training/1st_manual/Image_08L_1stHO.png  \n",
            " extracting: chase_db_384_384_dice_bce_0_4__hvr_0_4_1/training/1st_manual/Image_14L_1stHO.png  \n",
            "  inflating: chase_db_384_384_dice_bce_0_4__hvr_0_4_1/training/1st_manual/Image_08R_1stHO.png  \n",
            "  inflating: chase_db_384_384_dice_bce_0_4__hvr_0_4_1/training/1st_manual/Image_01R_1stHO.png  \n",
            "  inflating: chase_db_384_384_dice_bce_0_4__hvr_0_4_1/training/1st_manual/Image_03R_1stHO.png  \n",
            "  inflating: chase_db_384_384_dice_bce_0_4__hvr_0_4_1/training/1st_manual/Image_02L_1stHO.png  \n",
            "  inflating: chase_db_384_384_dice_bce_0_4__hvr_0_4_1/training/1st_manual/Image_02R_1stHO.png  \n",
            "  inflating: chase_db_384_384_dice_bce_0_4__hvr_0_4_1/training/1st_manual/Image_13R_1stHO.png  \n",
            "   creating: chase_db_384_384_dice_bce_0_4__hvr_0_4_1/training/images/\n",
            "  inflating: chase_db_384_384_dice_bce_0_4__hvr_0_4_1/training/images/Image_02L.jpg  \n",
            "  inflating: chase_db_384_384_dice_bce_0_4__hvr_0_4_1/training/images/Image_06R.jpg  \n",
            "  inflating: chase_db_384_384_dice_bce_0_4__hvr_0_4_1/training/images/Image_03R.jpg  \n",
            "  inflating: chase_db_384_384_dice_bce_0_4__hvr_0_4_1/training/images/Image_07R.jpg  \n",
            "  inflating: chase_db_384_384_dice_bce_0_4__hvr_0_4_1/training/images/Image_10R.jpg  \n",
            "  inflating: chase_db_384_384_dice_bce_0_4__hvr_0_4_1/training/images/Image_05L.jpg  \n",
            "  inflating: chase_db_384_384_dice_bce_0_4__hvr_0_4_1/training/images/Image_09R.jpg  \n",
            "  inflating: chase_db_384_384_dice_bce_0_4__hvr_0_4_1/training/images/Image_04R.jpg  \n",
            "  inflating: chase_db_384_384_dice_bce_0_4__hvr_0_4_1/training/images/Image_14R.jpg  \n",
            "  inflating: chase_db_384_384_dice_bce_0_4__hvr_0_4_1/training/images/Image_10L.jpg  \n",
            "  inflating: chase_db_384_384_dice_bce_0_4__hvr_0_4_1/training/images/Image_08L.jpg  \n",
            "  inflating: chase_db_384_384_dice_bce_0_4__hvr_0_4_1/training/images/Image_03L.jpg  \n",
            "  inflating: chase_db_384_384_dice_bce_0_4__hvr_0_4_1/training/images/Image_08R.jpg  \n",
            "  inflating: chase_db_384_384_dice_bce_0_4__hvr_0_4_1/training/images/Image_05R.jpg  \n",
            "  inflating: chase_db_384_384_dice_bce_0_4__hvr_0_4_1/training/images/Image_13R.jpg  \n",
            "  inflating: chase_db_384_384_dice_bce_0_4__hvr_0_4_1/training/images/Image_02R.jpg  \n",
            "  inflating: chase_db_384_384_dice_bce_0_4__hvr_0_4_1/training/images/Image_01L.jpg  \n",
            "  inflating: chase_db_384_384_dice_bce_0_4__hvr_0_4_1/training/images/Image_04L.jpg  \n",
            "  inflating: chase_db_384_384_dice_bce_0_4__hvr_0_4_1/training/images/Image_01R.jpg  \n",
            "  inflating: chase_db_384_384_dice_bce_0_4__hvr_0_4_1/training/images/Image_14L.jpg  \n",
            "  inflating: chase_db_384_384_dice_bce_0_4__hvr_0_4_1/training/images/Image_07L.jpg  \n",
            "  inflating: chase_db_384_384_dice_bce_0_4__hvr_0_4_1/training/images/Image_09L.jpg  \n",
            "  inflating: chase_db_384_384_dice_bce_0_4__hvr_0_4_1/training/images/Image_06L.jpg  \n",
            "   creating: chase_db_384_384_dice_bce_0_4__hvr_0_4_1/predictions_np/\n",
            "  inflating: chase_db_384_384_dice_bce_0_4__hvr_0_4_1/predictions_np/_Image_12L_8.npy  \n",
            "  inflating: chase_db_384_384_dice_bce_0_4__hvr_0_4_1/predictions_np/_Image_13L_3.npy  \n",
            "  inflating: chase_db_384_384_dice_bce_0_4__hvr_0_4_1/predictions_np/_Image_12L_3.npy  \n",
            "  inflating: chase_db_384_384_dice_bce_0_4__hvr_0_4_1/predictions_np/_Image_11R_1.npy  \n",
            "  inflating: chase_db_384_384_dice_bce_0_4__hvr_0_4_1/predictions_np/_Image_12L_5.npy  \n",
            "  inflating: chase_db_384_384_dice_bce_0_4__hvr_0_4_1/predictions_np/_Image_11L_5.npy  \n",
            "  inflating: chase_db_384_384_dice_bce_0_4__hvr_0_4_1/predictions_np/_Image_12L_2.npy  \n",
            "  inflating: chase_db_384_384_dice_bce_0_4__hvr_0_4_1/predictions_np/_Image_13L_0.npy  \n",
            "  inflating: chase_db_384_384_dice_bce_0_4__hvr_0_4_1/predictions_np/_Image_13L_2.npy  \n",
            "  inflating: chase_db_384_384_dice_bce_0_4__hvr_0_4_1/predictions_np/_Image_12L_4.npy  \n",
            "  inflating: chase_db_384_384_dice_bce_0_4__hvr_0_4_1/predictions_np/_Image_12R_0.npy  \n",
            "  inflating: chase_db_384_384_dice_bce_0_4__hvr_0_4_1/predictions_np/_Image_13L_4.npy  \n",
            "  inflating: chase_db_384_384_dice_bce_0_4__hvr_0_4_1/predictions_np/_Image_11L_6.npy  \n",
            "  inflating: chase_db_384_384_dice_bce_0_4__hvr_0_4_1/predictions_np/_Image_11R_4.npy  \n",
            "  inflating: chase_db_384_384_dice_bce_0_4__hvr_0_4_1/predictions_np/_Image_13L_7.npy  \n",
            "  inflating: chase_db_384_384_dice_bce_0_4__hvr_0_4_1/predictions_np/_Image_11L_2.npy  \n",
            "  inflating: chase_db_384_384_dice_bce_0_4__hvr_0_4_1/predictions_np/_Image_11R_0.npy  \n",
            "  inflating: chase_db_384_384_dice_bce_0_4__hvr_0_4_1/predictions_np/_Image_12R_6.npy  \n",
            "  inflating: chase_db_384_384_dice_bce_0_4__hvr_0_4_1/predictions_np/_Image_12R_2.npy  \n",
            "  inflating: chase_db_384_384_dice_bce_0_4__hvr_0_4_1/predictions_np/_Image_11R_7.npy  \n",
            "  inflating: chase_db_384_384_dice_bce_0_4__hvr_0_4_1/predictions_np/_Image_13L_6.npy  \n",
            "  inflating: chase_db_384_384_dice_bce_0_4__hvr_0_4_1/predictions_np/_Image_11R_2.npy  \n",
            "  inflating: chase_db_384_384_dice_bce_0_4__hvr_0_4_1/predictions_np/_Image_11L_3.npy  \n",
            "  inflating: chase_db_384_384_dice_bce_0_4__hvr_0_4_1/predictions_np/_Image_11L_8.npy  \n",
            "  inflating: chase_db_384_384_dice_bce_0_4__hvr_0_4_1/predictions_np/_Image_11L_4.npy  \n",
            "  inflating: chase_db_384_384_dice_bce_0_4__hvr_0_4_1/predictions_np/_Image_13L_8.npy  \n",
            "  inflating: chase_db_384_384_dice_bce_0_4__hvr_0_4_1/predictions_np/_Image_11R_5.npy  \n",
            "  inflating: chase_db_384_384_dice_bce_0_4__hvr_0_4_1/predictions_np/_Image_12R_7.npy  \n",
            "  inflating: chase_db_384_384_dice_bce_0_4__hvr_0_4_1/predictions_np/_Image_11R_8.npy  \n",
            "  inflating: chase_db_384_384_dice_bce_0_4__hvr_0_4_1/predictions_np/_Image_12R_5.npy  \n",
            "  inflating: chase_db_384_384_dice_bce_0_4__hvr_0_4_1/predictions_np/_Image_12L_1.npy  \n",
            "  inflating: chase_db_384_384_dice_bce_0_4__hvr_0_4_1/predictions_np/_Image_13L_1.npy  \n",
            "  inflating: chase_db_384_384_dice_bce_0_4__hvr_0_4_1/predictions_np/_Image_12R_1.npy  \n",
            "  inflating: chase_db_384_384_dice_bce_0_4__hvr_0_4_1/predictions_np/_Image_12R_4.npy  \n",
            "  inflating: chase_db_384_384_dice_bce_0_4__hvr_0_4_1/predictions_np/_Image_12R_8.npy  \n",
            "  inflating: chase_db_384_384_dice_bce_0_4__hvr_0_4_1/predictions_np/_Image_12L_6.npy  \n",
            "  inflating: chase_db_384_384_dice_bce_0_4__hvr_0_4_1/predictions_np/_Image_13L_5.npy  \n",
            "  inflating: chase_db_384_384_dice_bce_0_4__hvr_0_4_1/predictions_np/_Image_12R_3.npy  \n",
            "  inflating: chase_db_384_384_dice_bce_0_4__hvr_0_4_1/predictions_np/_Image_11L_1.npy  \n",
            "  inflating: chase_db_384_384_dice_bce_0_4__hvr_0_4_1/predictions_np/_Image_11L_7.npy  \n",
            "  inflating: chase_db_384_384_dice_bce_0_4__hvr_0_4_1/predictions_np/_Image_12L_7.npy  \n",
            "  inflating: chase_db_384_384_dice_bce_0_4__hvr_0_4_1/predictions_np/_Image_12L_0.npy  \n",
            "  inflating: chase_db_384_384_dice_bce_0_4__hvr_0_4_1/predictions_np/_Image_11R_6.npy  \n",
            "  inflating: chase_db_384_384_dice_bce_0_4__hvr_0_4_1/predictions_np/_Image_11R_3.npy  \n",
            "  inflating: chase_db_384_384_dice_bce_0_4__hvr_0_4_1/predictions_np/_Image_11L_0.npy  \n",
            "   creating: chase_db_384_384_dice_bce_0_4__hvr_0_4_1/split_2/\n",
            "   creating: chase_db_384_384_dice_bce_0_4__hvr_0_4_1/split_2/test/\n",
            "   creating: chase_db_384_384_dice_bce_0_4__hvr_0_4_1/split_2/test/mask/\n",
            "  inflating: chase_db_384_384_dice_bce_0_4__hvr_0_4_1/split_2/test/mask/_Image_11R_3.png  \n",
            "  inflating: chase_db_384_384_dice_bce_0_4__hvr_0_4_1/split_2/test/mask/_Image_12R_1.png  \n",
            "  inflating: chase_db_384_384_dice_bce_0_4__hvr_0_4_1/split_2/test/mask/_Image_11L_6.png  \n",
            "  inflating: chase_db_384_384_dice_bce_0_4__hvr_0_4_1/split_2/test/mask/_Image_11R_0.png  \n",
            "  inflating: chase_db_384_384_dice_bce_0_4__hvr_0_4_1/split_2/test/mask/_Image_11L_2.png  \n",
            "  inflating: chase_db_384_384_dice_bce_0_4__hvr_0_4_1/split_2/test/mask/_Image_13L_3.png  \n",
            "  inflating: chase_db_384_384_dice_bce_0_4__hvr_0_4_1/split_2/test/mask/_Image_11R_8.png  \n",
            "  inflating: chase_db_384_384_dice_bce_0_4__hvr_0_4_1/split_2/test/mask/_Image_12L_7.png  \n",
            "  inflating: chase_db_384_384_dice_bce_0_4__hvr_0_4_1/split_2/test/mask/_Image_11L_1.png  \n",
            "  inflating: chase_db_384_384_dice_bce_0_4__hvr_0_4_1/split_2/test/mask/_Image_13L_8.png  \n",
            "  inflating: chase_db_384_384_dice_bce_0_4__hvr_0_4_1/split_2/test/mask/_Image_12R_2.png  \n",
            "  inflating: chase_db_384_384_dice_bce_0_4__hvr_0_4_1/split_2/test/mask/_Image_12L_3.png  \n",
            "  inflating: chase_db_384_384_dice_bce_0_4__hvr_0_4_1/split_2/test/mask/_Image_12R_4.png  \n",
            "  inflating: chase_db_384_384_dice_bce_0_4__hvr_0_4_1/split_2/test/mask/_Image_13L_0.png  \n",
            "  inflating: chase_db_384_384_dice_bce_0_4__hvr_0_4_1/split_2/test/mask/_Image_11R_1.png  \n",
            "  inflating: chase_db_384_384_dice_bce_0_4__hvr_0_4_1/split_2/test/mask/_Image_12R_7.png  \n",
            "  inflating: chase_db_384_384_dice_bce_0_4__hvr_0_4_1/split_2/test/mask/_Image_13L_6.png  \n",
            "  inflating: chase_db_384_384_dice_bce_0_4__hvr_0_4_1/split_2/test/mask/_Image_13L_4.png  \n",
            "  inflating: chase_db_384_384_dice_bce_0_4__hvr_0_4_1/split_2/test/mask/_Image_12L_1.png  \n",
            "  inflating: chase_db_384_384_dice_bce_0_4__hvr_0_4_1/split_2/test/mask/_Image_12R_8.png  \n",
            "  inflating: chase_db_384_384_dice_bce_0_4__hvr_0_4_1/split_2/test/mask/_Image_12L_8.png  \n",
            "  inflating: chase_db_384_384_dice_bce_0_4__hvr_0_4_1/split_2/test/mask/_Image_12L_5.png  \n",
            "  inflating: chase_db_384_384_dice_bce_0_4__hvr_0_4_1/split_2/test/mask/_Image_13L_5.png  \n",
            "  inflating: chase_db_384_384_dice_bce_0_4__hvr_0_4_1/split_2/test/mask/_Image_11L_4.png  \n",
            "  inflating: chase_db_384_384_dice_bce_0_4__hvr_0_4_1/split_2/test/mask/_Image_11L_7.png  \n",
            "  inflating: chase_db_384_384_dice_bce_0_4__hvr_0_4_1/split_2/test/mask/_Image_11L_0.png  \n",
            "  inflating: chase_db_384_384_dice_bce_0_4__hvr_0_4_1/split_2/test/mask/_Image_11L_8.png  \n",
            "  inflating: chase_db_384_384_dice_bce_0_4__hvr_0_4_1/split_2/test/mask/_Image_12L_4.png  \n",
            "  inflating: chase_db_384_384_dice_bce_0_4__hvr_0_4_1/split_2/test/mask/_Image_11L_5.png  \n",
            "  inflating: chase_db_384_384_dice_bce_0_4__hvr_0_4_1/split_2/test/mask/_Image_11R_2.png  \n",
            "  inflating: chase_db_384_384_dice_bce_0_4__hvr_0_4_1/split_2/test/mask/_Image_12R_5.png  \n",
            "  inflating: chase_db_384_384_dice_bce_0_4__hvr_0_4_1/split_2/test/mask/_Image_12R_0.png  \n",
            "  inflating: chase_db_384_384_dice_bce_0_4__hvr_0_4_1/split_2/test/mask/_Image_11R_7.png  \n",
            "  inflating: chase_db_384_384_dice_bce_0_4__hvr_0_4_1/split_2/test/mask/_Image_13L_2.png  \n",
            "  inflating: chase_db_384_384_dice_bce_0_4__hvr_0_4_1/split_2/test/mask/_Image_11L_3.png  \n",
            "  inflating: chase_db_384_384_dice_bce_0_4__hvr_0_4_1/split_2/test/mask/_Image_12R_6.png  \n",
            "  inflating: chase_db_384_384_dice_bce_0_4__hvr_0_4_1/split_2/test/mask/_Image_12L_6.png  \n",
            "  inflating: chase_db_384_384_dice_bce_0_4__hvr_0_4_1/split_2/test/mask/_Image_12R_3.png  \n",
            "  inflating: chase_db_384_384_dice_bce_0_4__hvr_0_4_1/split_2/test/mask/_Image_13L_1.png  \n",
            "  inflating: chase_db_384_384_dice_bce_0_4__hvr_0_4_1/split_2/test/mask/_Image_11R_4.png  \n",
            "  inflating: chase_db_384_384_dice_bce_0_4__hvr_0_4_1/split_2/test/mask/_Image_12L_0.png  \n",
            "  inflating: chase_db_384_384_dice_bce_0_4__hvr_0_4_1/split_2/test/mask/_Image_12L_2.png  \n",
            "  inflating: chase_db_384_384_dice_bce_0_4__hvr_0_4_1/split_2/test/mask/_Image_11R_6.png  \n",
            "  inflating: chase_db_384_384_dice_bce_0_4__hvr_0_4_1/split_2/test/mask/_Image_13L_7.png  \n",
            "  inflating: chase_db_384_384_dice_bce_0_4__hvr_0_4_1/split_2/test/mask/_Image_11R_5.png  \n",
            "   creating: chase_db_384_384_dice_bce_0_4__hvr_0_4_1/split_2/test/image/\n",
            "  inflating: chase_db_384_384_dice_bce_0_4__hvr_0_4_1/split_2/test/image/_Image_11R_3.png  \n",
            "  inflating: chase_db_384_384_dice_bce_0_4__hvr_0_4_1/split_2/test/image/_Image_12R_1.png  \n",
            "  inflating: chase_db_384_384_dice_bce_0_4__hvr_0_4_1/split_2/test/image/_Image_11L_6.png  \n",
            "  inflating: chase_db_384_384_dice_bce_0_4__hvr_0_4_1/split_2/test/image/_Image_11R_0.png  \n",
            "  inflating: chase_db_384_384_dice_bce_0_4__hvr_0_4_1/split_2/test/image/_Image_11L_2.png  \n",
            "  inflating: chase_db_384_384_dice_bce_0_4__hvr_0_4_1/split_2/test/image/_Image_13L_3.png  \n",
            "  inflating: chase_db_384_384_dice_bce_0_4__hvr_0_4_1/split_2/test/image/_Image_11R_8.png  \n",
            "  inflating: chase_db_384_384_dice_bce_0_4__hvr_0_4_1/split_2/test/image/_Image_12L_7.png  \n",
            "  inflating: chase_db_384_384_dice_bce_0_4__hvr_0_4_1/split_2/test/image/_Image_11L_1.png  \n",
            "  inflating: chase_db_384_384_dice_bce_0_4__hvr_0_4_1/split_2/test/image/_Image_13L_8.png  \n",
            "  inflating: chase_db_384_384_dice_bce_0_4__hvr_0_4_1/split_2/test/image/_Image_12R_2.png  \n",
            "  inflating: chase_db_384_384_dice_bce_0_4__hvr_0_4_1/split_2/test/image/_Image_12L_3.png  \n",
            "  inflating: chase_db_384_384_dice_bce_0_4__hvr_0_4_1/split_2/test/image/_Image_12R_4.png  \n",
            "  inflating: chase_db_384_384_dice_bce_0_4__hvr_0_4_1/split_2/test/image/_Image_13L_0.png  \n",
            "  inflating: chase_db_384_384_dice_bce_0_4__hvr_0_4_1/split_2/test/image/_Image_11R_1.png  \n",
            "  inflating: chase_db_384_384_dice_bce_0_4__hvr_0_4_1/split_2/test/image/_Image_12R_7.png  \n",
            "  inflating: chase_db_384_384_dice_bce_0_4__hvr_0_4_1/split_2/test/image/_Image_13L_6.png  \n",
            "  inflating: chase_db_384_384_dice_bce_0_4__hvr_0_4_1/split_2/test/image/_Image_13L_4.png  \n",
            "  inflating: chase_db_384_384_dice_bce_0_4__hvr_0_4_1/split_2/test/image/_Image_12L_1.png  \n",
            "  inflating: chase_db_384_384_dice_bce_0_4__hvr_0_4_1/split_2/test/image/_Image_12R_8.png  \n",
            "  inflating: chase_db_384_384_dice_bce_0_4__hvr_0_4_1/split_2/test/image/_Image_12L_8.png  \n",
            "  inflating: chase_db_384_384_dice_bce_0_4__hvr_0_4_1/split_2/test/image/_Image_12L_5.png  \n",
            "  inflating: chase_db_384_384_dice_bce_0_4__hvr_0_4_1/split_2/test/image/_Image_13L_5.png  \n",
            "  inflating: chase_db_384_384_dice_bce_0_4__hvr_0_4_1/split_2/test/image/_Image_11L_4.png  \n",
            "  inflating: chase_db_384_384_dice_bce_0_4__hvr_0_4_1/split_2/test/image/_Image_11L_7.png  \n",
            "  inflating: chase_db_384_384_dice_bce_0_4__hvr_0_4_1/split_2/test/image/_Image_11L_0.png  \n",
            "  inflating: chase_db_384_384_dice_bce_0_4__hvr_0_4_1/split_2/test/image/_Image_11L_8.png  \n",
            "  inflating: chase_db_384_384_dice_bce_0_4__hvr_0_4_1/split_2/test/image/_Image_12L_4.png  \n",
            "  inflating: chase_db_384_384_dice_bce_0_4__hvr_0_4_1/split_2/test/image/_Image_11L_5.png  \n",
            "  inflating: chase_db_384_384_dice_bce_0_4__hvr_0_4_1/split_2/test/image/_Image_11R_2.png  \n",
            "  inflating: chase_db_384_384_dice_bce_0_4__hvr_0_4_1/split_2/test/image/_Image_12R_5.png  \n",
            "  inflating: chase_db_384_384_dice_bce_0_4__hvr_0_4_1/split_2/test/image/_Image_12R_0.png  \n",
            "  inflating: chase_db_384_384_dice_bce_0_4__hvr_0_4_1/split_2/test/image/_Image_11R_7.png  \n",
            "  inflating: chase_db_384_384_dice_bce_0_4__hvr_0_4_1/split_2/test/image/_Image_13L_2.png  \n",
            "  inflating: chase_db_384_384_dice_bce_0_4__hvr_0_4_1/split_2/test/image/_Image_11L_3.png  \n",
            "  inflating: chase_db_384_384_dice_bce_0_4__hvr_0_4_1/split_2/test/image/_Image_12R_6.png  \n",
            "  inflating: chase_db_384_384_dice_bce_0_4__hvr_0_4_1/split_2/test/image/_Image_12L_6.png  \n",
            "  inflating: chase_db_384_384_dice_bce_0_4__hvr_0_4_1/split_2/test/image/_Image_12R_3.png  \n",
            "  inflating: chase_db_384_384_dice_bce_0_4__hvr_0_4_1/split_2/test/image/_Image_13L_1.png  \n",
            "  inflating: chase_db_384_384_dice_bce_0_4__hvr_0_4_1/split_2/test/image/_Image_11R_4.png  \n",
            "  inflating: chase_db_384_384_dice_bce_0_4__hvr_0_4_1/split_2/test/image/_Image_12L_0.png  \n",
            "  inflating: chase_db_384_384_dice_bce_0_4__hvr_0_4_1/split_2/test/image/_Image_12L_2.png  \n",
            "  inflating: chase_db_384_384_dice_bce_0_4__hvr_0_4_1/split_2/test/image/_Image_11R_6.png  \n",
            "  inflating: chase_db_384_384_dice_bce_0_4__hvr_0_4_1/split_2/test/image/_Image_13L_7.png  \n",
            "  inflating: chase_db_384_384_dice_bce_0_4__hvr_0_4_1/split_2/test/image/_Image_11R_5.png  \n",
            "   creating: chase_db_384_384_dice_bce_0_4__hvr_0_4_1/split_2/reconstructed/\n",
            "   creating: chase_db_384_384_dice_bce_0_4__hvr_0_4_1/split_2/reconstructed/test/\n",
            "   creating: chase_db_384_384_dice_bce_0_4__hvr_0_4_1/split_2/reconstructed/test/mask/\n",
            "  inflating: chase_db_384_384_dice_bce_0_4__hvr_0_4_1/split_2/reconstructed/test/mask/Image_13L.png  \n",
            "  inflating: chase_db_384_384_dice_bce_0_4__hvr_0_4_1/split_2/reconstructed/test/mask/Image_12R.png  \n",
            "  inflating: chase_db_384_384_dice_bce_0_4__hvr_0_4_1/split_2/reconstructed/test/mask/Image_12L.png  \n",
            "  inflating: chase_db_384_384_dice_bce_0_4__hvr_0_4_1/split_2/reconstructed/test/mask/Image_11R.png  \n",
            "  inflating: chase_db_384_384_dice_bce_0_4__hvr_0_4_1/split_2/reconstructed/test/mask/Image_11L.png  \n",
            "   creating: chase_db_384_384_dice_bce_0_4__hvr_0_4_1/split_2/reconstructed/test/predictions_reconstructed/\n",
            "  inflating: chase_db_384_384_dice_bce_0_4__hvr_0_4_1/split_2/reconstructed/test/predictions_reconstructed/Image_13L.png  \n",
            "  inflating: chase_db_384_384_dice_bce_0_4__hvr_0_4_1/split_2/reconstructed/test/predictions_reconstructed/Image_12R.png  \n",
            "  inflating: chase_db_384_384_dice_bce_0_4__hvr_0_4_1/split_2/reconstructed/test/predictions_reconstructed/Image_12L.png  \n",
            "  inflating: chase_db_384_384_dice_bce_0_4__hvr_0_4_1/split_2/reconstructed/test/predictions_reconstructed/Image_11R.png  \n",
            "  inflating: chase_db_384_384_dice_bce_0_4__hvr_0_4_1/split_2/reconstructed/test/predictions_reconstructed/Image_11L.png  \n",
            "   creating: chase_db_384_384_dice_bce_0_4__hvr_0_4_1/split_2/reconstructed/test/image/\n",
            "  inflating: chase_db_384_384_dice_bce_0_4__hvr_0_4_1/split_2/reconstructed/test/image/Image_13L.png  \n",
            "  inflating: chase_db_384_384_dice_bce_0_4__hvr_0_4_1/split_2/reconstructed/test/image/Image_12R.png  \n",
            "  inflating: chase_db_384_384_dice_bce_0_4__hvr_0_4_1/split_2/reconstructed/test/image/Image_12L.png  \n",
            "  inflating: chase_db_384_384_dice_bce_0_4__hvr_0_4_1/split_2/reconstructed/test/image/Image_11R.png  \n",
            "  inflating: chase_db_384_384_dice_bce_0_4__hvr_0_4_1/split_2/reconstructed/test/image/Image_11L.png  \n",
            "  inflating: chase_db_384_384_dice_bce_0_4__hvr_0_4_1/split_2/image_patches_384_384_test.csv  \n",
            "   creating: chase_db_384_384_dice_bce_0_4__hvr_0_4_1/split_2/train/\n",
            "   creating: chase_db_384_384_dice_bce_0_4__hvr_0_4_1/split_2/train/mask/\n",
            "  inflating: chase_db_384_384_dice_bce_0_4__hvr_0_4_1/split_2/train/mask/_Image_03R_3_4.png  \n",
            "  inflating: chase_db_384_384_dice_bce_0_4__hvr_0_4_1/split_2/train/mask/_Image_14L_1_1.png  \n",
            "  inflating: chase_db_384_384_dice_bce_0_4__hvr_0_4_1/split_2/train/mask/_Image_01L_1_2.png  \n",
            "  inflating: chase_db_384_384_dice_bce_0_4__hvr_0_4_1/split_2/train/mask/_Image_09R_3_1.png  \n",
            "  inflating: chase_db_384_384_dice_bce_0_4__hvr_0_4_1/split_2/train/mask/_Image_03L_0_5.png  \n",
            "  inflating: chase_db_384_384_dice_bce_0_4__hvr_0_4_1/split_2/train/mask/_Image_04L_2_7.png  \n",
            "  inflating: chase_db_384_384_dice_bce_0_4__hvr_0_4_1/split_2/train/mask/_Image_01L_0_3.png  \n",
            "  inflating: chase_db_384_384_dice_bce_0_4__hvr_0_4_1/split_2/train/mask/_Image_03R_0_7.png  \n",
            "  inflating: chase_db_384_384_dice_bce_0_4__hvr_0_4_1/split_2/train/mask/_Image_08L_3_6.png  \n",
            "  inflating: chase_db_384_384_dice_bce_0_4__hvr_0_4_1/split_2/train/mask/_Image_10L_2_6.png  \n",
            "  inflating: chase_db_384_384_dice_bce_0_4__hvr_0_4_1/split_2/train/mask/_Image_02L_2_7.png  \n",
            "  inflating: chase_db_384_384_dice_bce_0_4__hvr_0_4_1/split_2/train/mask/_Image_05L_1_0.png  \n",
            "  inflating: chase_db_384_384_dice_bce_0_4__hvr_0_4_1/split_2/train/mask/_Image_07R_1_6.png  \n",
            "  inflating: chase_db_384_384_dice_bce_0_4__hvr_0_4_1/split_2/train/mask/_Image_04R_2_3.png  \n",
            "  inflating: chase_db_384_384_dice_bce_0_4__hvr_0_4_1/split_2/train/mask/_Image_09L_0_2.png  \n",
            "  inflating: chase_db_384_384_dice_bce_0_4__hvr_0_4_1/split_2/train/mask/_Image_08L_3_2.png  \n",
            "  inflating: chase_db_384_384_dice_bce_0_4__hvr_0_4_1/split_2/train/mask/_Image_08L_3_4.png  \n",
            "  inflating: chase_db_384_384_dice_bce_0_4__hvr_0_4_1/split_2/train/mask/_Image_03L_2_4.png  \n",
            "  inflating: chase_db_384_384_dice_bce_0_4__hvr_0_4_1/split_2/train/mask/_Image_10L_1_7.png  \n",
            "  inflating: chase_db_384_384_dice_bce_0_4__hvr_0_4_1/split_2/train/mask/_Image_06L_0_3.png  \n",
            "  inflating: chase_db_384_384_dice_bce_0_4__hvr_0_4_1/split_2/train/mask/_Image_03L_2_1.png  \n",
            "  inflating: chase_db_384_384_dice_bce_0_4__hvr_0_4_1/split_2/train/mask/_Image_01R_3_7.png  \n",
            "  inflating: chase_db_384_384_dice_bce_0_4__hvr_0_4_1/split_2/train/mask/_Image_01R_2_0.png  \n",
            "  inflating: chase_db_384_384_dice_bce_0_4__hvr_0_4_1/split_2/train/mask/_Image_04L_1_1.png  \n",
            "  inflating: chase_db_384_384_dice_bce_0_4__hvr_0_4_1/split_2/train/mask/_Image_07L_1_8.png  \n",
            "  inflating: chase_db_384_384_dice_bce_0_4__hvr_0_4_1/split_2/train/mask/_Image_08R_3_8.png  \n",
            "  inflating: chase_db_384_384_dice_bce_0_4__hvr_0_4_1/split_2/train/mask/_Image_06L_1_1.png  \n",
            "  inflating: chase_db_384_384_dice_bce_0_4__hvr_0_4_1/split_2/train/mask/_Image_04L_2_1.png  \n",
            "  inflating: chase_db_384_384_dice_bce_0_4__hvr_0_4_1/split_2/train/mask/_Image_10R_1_0.png  \n",
            "  inflating: chase_db_384_384_dice_bce_0_4__hvr_0_4_1/split_2/train/mask/_Image_01R_2_8.png  \n",
            "  inflating: chase_db_384_384_dice_bce_0_4__hvr_0_4_1/split_2/train/mask/_Image_04R_0_5.png  \n",
            "  inflating: chase_db_384_384_dice_bce_0_4__hvr_0_4_1/split_2/train/mask/_Image_02R_1_4.png  \n",
            "  inflating: chase_db_384_384_dice_bce_0_4__hvr_0_4_1/split_2/train/mask/_Image_03L_0_1.png  \n",
            "  inflating: chase_db_384_384_dice_bce_0_4__hvr_0_4_1/split_2/train/mask/_Image_04R_1_1.png  \n",
            "  inflating: chase_db_384_384_dice_bce_0_4__hvr_0_4_1/split_2/train/mask/_Image_03L_1_7.png  \n",
            "  inflating: chase_db_384_384_dice_bce_0_4__hvr_0_4_1/split_2/train/mask/_Image_01R_1_3.png  \n",
            "  inflating: chase_db_384_384_dice_bce_0_4__hvr_0_4_1/split_2/train/mask/_Image_07R_0_2.png  \n",
            "  inflating: chase_db_384_384_dice_bce_0_4__hvr_0_4_1/split_2/train/mask/_Image_10L_3_5.png  \n",
            "  inflating: chase_db_384_384_dice_bce_0_4__hvr_0_4_1/split_2/train/mask/_Image_05R_2_1.png  \n",
            "  inflating: chase_db_384_384_dice_bce_0_4__hvr_0_4_1/split_2/train/mask/_Image_05R_3_0.png  \n",
            "  inflating: chase_db_384_384_dice_bce_0_4__hvr_0_4_1/split_2/train/mask/_Image_10R_1_7.png  \n",
            "  inflating: chase_db_384_384_dice_bce_0_4__hvr_0_4_1/split_2/train/mask/_Image_13R_2_2.png  \n",
            "  inflating: chase_db_384_384_dice_bce_0_4__hvr_0_4_1/split_2/train/mask/_Image_02L_0_6.png  \n",
            "  inflating: chase_db_384_384_dice_bce_0_4__hvr_0_4_1/split_2/train/mask/_Image_07R_2_8.png  \n",
            "  inflating: chase_db_384_384_dice_bce_0_4__hvr_0_4_1/split_2/train/mask/_Image_01L_1_1.png  \n",
            "  inflating: chase_db_384_384_dice_bce_0_4__hvr_0_4_1/split_2/train/mask/_Image_09L_0_6.png  \n",
            "  inflating: chase_db_384_384_dice_bce_0_4__hvr_0_4_1/split_2/train/mask/_Image_05R_1_1.png  \n",
            "  inflating: chase_db_384_384_dice_bce_0_4__hvr_0_4_1/split_2/train/mask/_Image_05L_0_8.png  \n",
            "  inflating: chase_db_384_384_dice_bce_0_4__hvr_0_4_1/split_2/train/mask/_Image_03R_3_2.png  \n",
            "  inflating: chase_db_384_384_dice_bce_0_4__hvr_0_4_1/split_2/train/mask/_Image_03R_2_4.png  \n",
            "  inflating: chase_db_384_384_dice_bce_0_4__hvr_0_4_1/split_2/train/mask/_Image_13R_2_1.png  \n",
            "  inflating: chase_db_384_384_dice_bce_0_4__hvr_0_4_1/split_2/train/mask/_Image_02L_0_8.png  \n",
            "  inflating: chase_db_384_384_dice_bce_0_4__hvr_0_4_1/split_2/train/mask/_Image_01L_1_6.png  \n",
            "  inflating: chase_db_384_384_dice_bce_0_4__hvr_0_4_1/split_2/train/mask/_Image_09L_1_5.png  \n",
            "  inflating: chase_db_384_384_dice_bce_0_4__hvr_0_4_1/split_2/train/mask/_Image_07L_3_8.png  \n",
            "  inflating: chase_db_384_384_dice_bce_0_4__hvr_0_4_1/split_2/train/mask/_Image_05R_1_0.png  \n",
            "  inflating: chase_db_384_384_dice_bce_0_4__hvr_0_4_1/split_2/train/mask/_Image_13R_2_5.png  \n",
            "  inflating: chase_db_384_384_dice_bce_0_4__hvr_0_4_1/split_2/train/mask/_Image_02R_2_5.png  \n",
            "  inflating: chase_db_384_384_dice_bce_0_4__hvr_0_4_1/split_2/train/mask/_Image_05R_2_3.png  \n",
            "  inflating: chase_db_384_384_dice_bce_0_4__hvr_0_4_1/split_2/train/mask/_Image_08R_2_1.png  \n",
            "  inflating: chase_db_384_384_dice_bce_0_4__hvr_0_4_1/split_2/train/mask/_Image_08L_1_1.png  \n",
            "  inflating: chase_db_384_384_dice_bce_0_4__hvr_0_4_1/split_2/train/mask/_Image_02R_3_1.png  \n",
            "  inflating: chase_db_384_384_dice_bce_0_4__hvr_0_4_1/split_2/train/mask/_Image_02L_2_2.png  \n",
            "  inflating: chase_db_384_384_dice_bce_0_4__hvr_0_4_1/split_2/train/mask/_Image_02L_0_3.png  \n",
            "  inflating: chase_db_384_384_dice_bce_0_4__hvr_0_4_1/split_2/train/mask/_Image_07L_1_2.png  \n",
            "  inflating: chase_db_384_384_dice_bce_0_4__hvr_0_4_1/split_2/train/mask/_Image_09R_1_4.png  \n",
            "  inflating: chase_db_384_384_dice_bce_0_4__hvr_0_4_1/split_2/train/mask/_Image_08R_2_4.png  \n",
            "  inflating: chase_db_384_384_dice_bce_0_4__hvr_0_4_1/split_2/train/mask/_Image_07R_2_2.png  \n",
            "  inflating: chase_db_384_384_dice_bce_0_4__hvr_0_4_1/split_2/train/mask/_Image_09L_2_8.png  \n",
            "  inflating: chase_db_384_384_dice_bce_0_4__hvr_0_4_1/split_2/train/mask/_Image_13R_3_4.png  \n",
            "  inflating: chase_db_384_384_dice_bce_0_4__hvr_0_4_1/split_2/train/mask/_Image_04R_1_0.png  \n",
            "  inflating: chase_db_384_384_dice_bce_0_4__hvr_0_4_1/split_2/train/mask/_Image_10L_0_6.png  \n",
            "  inflating: chase_db_384_384_dice_bce_0_4__hvr_0_4_1/split_2/train/mask/_Image_05R_1_8.png  \n",
            "  inflating: chase_db_384_384_dice_bce_0_4__hvr_0_4_1/split_2/train/mask/_Image_10L_3_3.png  \n",
            "  inflating: chase_db_384_384_dice_bce_0_4__hvr_0_4_1/split_2/train/mask/_Image_08R_1_2.png  \n",
            "  inflating: chase_db_384_384_dice_bce_0_4__hvr_0_4_1/split_2/train/mask/_Image_07R_0_4.png  \n",
            "  inflating: chase_db_384_384_dice_bce_0_4__hvr_0_4_1/split_2/train/mask/_Image_01R_2_2.png  \n",
            "  inflating: chase_db_384_384_dice_bce_0_4__hvr_0_4_1/split_2/train/mask/_Image_04L_1_5.png  \n",
            "  inflating: chase_db_384_384_dice_bce_0_4__hvr_0_4_1/split_2/train/mask/_Image_08R_3_6.png  \n",
            "  inflating: chase_db_384_384_dice_bce_0_4__hvr_0_4_1/split_2/train/mask/_Image_04L_2_5.png  \n",
            "  inflating: chase_db_384_384_dice_bce_0_4__hvr_0_4_1/split_2/train/mask/_Image_09L_3_2.png  \n",
            "  inflating: chase_db_384_384_dice_bce_0_4__hvr_0_4_1/split_2/train/mask/_Image_03R_1_6.png  \n",
            "  inflating: chase_db_384_384_dice_bce_0_4__hvr_0_4_1/split_2/train/mask/_Image_05L_1_3.png  \n",
            "  inflating: chase_db_384_384_dice_bce_0_4__hvr_0_4_1/split_2/train/mask/_Image_08R_3_3.png  \n",
            "  inflating: chase_db_384_384_dice_bce_0_4__hvr_0_4_1/split_2/train/mask/_Image_07L_2_0.png  \n",
            "  inflating: chase_db_384_384_dice_bce_0_4__hvr_0_4_1/split_2/train/mask/_Image_14L_2_2.png  \n",
            "  inflating: chase_db_384_384_dice_bce_0_4__hvr_0_4_1/split_2/train/mask/_Image_03L_1_2.png  \n",
            "  inflating: chase_db_384_384_dice_bce_0_4__hvr_0_4_1/split_2/train/mask/_Image_03L_2_0.png  \n",
            "  inflating: chase_db_384_384_dice_bce_0_4__hvr_0_4_1/split_2/train/mask/_Image_09L_1_2.png  \n",
            "  inflating: chase_db_384_384_dice_bce_0_4__hvr_0_4_1/split_2/train/mask/_Image_05R_3_5.png  \n",
            "  inflating: chase_db_384_384_dice_bce_0_4__hvr_0_4_1/split_2/train/mask/_Image_07R_0_8.png  \n",
            "  inflating: chase_db_384_384_dice_bce_0_4__hvr_0_4_1/split_2/train/mask/_Image_04R_0_3.png  \n",
            "  inflating: chase_db_384_384_dice_bce_0_4__hvr_0_4_1/split_2/train/mask/_Image_10R_3_5.png  \n",
            "  inflating: chase_db_384_384_dice_bce_0_4__hvr_0_4_1/split_2/train/mask/_Image_08L_2_0.png  \n",
            "  inflating: chase_db_384_384_dice_bce_0_4__hvr_0_4_1/split_2/train/mask/_Image_10L_0_7.png  \n",
            "  inflating: chase_db_384_384_dice_bce_0_4__hvr_0_4_1/split_2/train/mask/_Image_10L_0_1.png  \n",
            "  inflating: chase_db_384_384_dice_bce_0_4__hvr_0_4_1/split_2/train/mask/_Image_04R_3_7.png  \n",
            "  inflating: chase_db_384_384_dice_bce_0_4__hvr_0_4_1/split_2/train/mask/_Image_01L_1_5.png  \n",
            "  inflating: chase_db_384_384_dice_bce_0_4__hvr_0_4_1/split_2/train/mask/_Image_02L_2_1.png  \n",
            "  inflating: chase_db_384_384_dice_bce_0_4__hvr_0_4_1/split_2/train/mask/_Image_05R_0_8.png  \n",
            "  inflating: chase_db_384_384_dice_bce_0_4__hvr_0_4_1/split_2/train/mask/_Image_06R_1_5.png  \n",
            "  inflating: chase_db_384_384_dice_bce_0_4__hvr_0_4_1/split_2/train/mask/_Image_06L_0_4.png  \n",
            "  inflating: chase_db_384_384_dice_bce_0_4__hvr_0_4_1/split_2/train/mask/_Image_03R_1_8.png  \n",
            "  inflating: chase_db_384_384_dice_bce_0_4__hvr_0_4_1/split_2/train/mask/_Image_14L_0_3.png  \n",
            "  inflating: chase_db_384_384_dice_bce_0_4__hvr_0_4_1/split_2/train/mask/_Image_02R_3_0.png  \n",
            "  inflating: chase_db_384_384_dice_bce_0_4__hvr_0_4_1/split_2/train/mask/_Image_05L_0_7.png  \n",
            "  inflating: chase_db_384_384_dice_bce_0_4__hvr_0_4_1/split_2/train/mask/_Image_10L_1_5.png  \n",
            "  inflating: chase_db_384_384_dice_bce_0_4__hvr_0_4_1/split_2/train/mask/_Image_07R_3_2.png  \n",
            "  inflating: chase_db_384_384_dice_bce_0_4__hvr_0_4_1/split_2/train/mask/_Image_07R_3_3.png  \n",
            "  inflating: chase_db_384_384_dice_bce_0_4__hvr_0_4_1/split_2/train/mask/_Image_04R_1_5.png  \n",
            "  inflating: chase_db_384_384_dice_bce_0_4__hvr_0_4_1/split_2/train/mask/_Image_06L_0_1.png  \n",
            "  inflating: chase_db_384_384_dice_bce_0_4__hvr_0_4_1/split_2/train/mask/_Image_03L_1_8.png  \n",
            "  inflating: chase_db_384_384_dice_bce_0_4__hvr_0_4_1/split_2/train/mask/_Image_14R_3_1.png  \n",
            "  inflating: chase_db_384_384_dice_bce_0_4__hvr_0_4_1/split_2/train/mask/_Image_13R_3_7.png  \n",
            "  inflating: chase_db_384_384_dice_bce_0_4__hvr_0_4_1/split_2/train/mask/_Image_04L_1_6.png  \n",
            "  inflating: chase_db_384_384_dice_bce_0_4__hvr_0_4_1/split_2/train/mask/_Image_08L_0_7.png  \n",
            "  inflating: chase_db_384_384_dice_bce_0_4__hvr_0_4_1/split_2/train/mask/_Image_03L_3_6.png  \n",
            "  inflating: chase_db_384_384_dice_bce_0_4__hvr_0_4_1/split_2/train/mask/_Image_09L_3_7.png  \n",
            "  inflating: chase_db_384_384_dice_bce_0_4__hvr_0_4_1/split_2/train/mask/_Image_14L_3_6.png  \n",
            "  inflating: chase_db_384_384_dice_bce_0_4__hvr_0_4_1/split_2/train/mask/_Image_06R_2_4.png  \n",
            "  inflating: chase_db_384_384_dice_bce_0_4__hvr_0_4_1/split_2/train/mask/_Image_05R_0_5.png  \n",
            "  inflating: chase_db_384_384_dice_bce_0_4__hvr_0_4_1/split_2/train/mask/_Image_05R_2_2.png  \n",
            "  inflating: chase_db_384_384_dice_bce_0_4__hvr_0_4_1/split_2/train/mask/_Image_09L_1_4.png  \n",
            "  inflating: chase_db_384_384_dice_bce_0_4__hvr_0_4_1/split_2/train/mask/_Image_08L_2_3.png  \n",
            "  inflating: chase_db_384_384_dice_bce_0_4__hvr_0_4_1/split_2/train/mask/_Image_06R_0_5.png  \n",
            "  inflating: chase_db_384_384_dice_bce_0_4__hvr_0_4_1/split_2/train/mask/_Image_04L_3_0.png  \n",
            "  inflating: chase_db_384_384_dice_bce_0_4__hvr_0_4_1/split_2/train/mask/_Image_02R_0_2.png  \n",
            "  inflating: chase_db_384_384_dice_bce_0_4__hvr_0_4_1/split_2/train/mask/_Image_13R_3_3.png  \n",
            "  inflating: chase_db_384_384_dice_bce_0_4__hvr_0_4_1/split_2/train/mask/_Image_09R_1_8.png  \n",
            "  inflating: chase_db_384_384_dice_bce_0_4__hvr_0_4_1/split_2/train/mask/_Image_05L_2_6.png  \n",
            "  inflating: chase_db_384_384_dice_bce_0_4__hvr_0_4_1/split_2/train/mask/_Image_08R_2_6.png  \n",
            "  inflating: chase_db_384_384_dice_bce_0_4__hvr_0_4_1/split_2/train/mask/_Image_06L_3_7.png  \n",
            "  inflating: chase_db_384_384_dice_bce_0_4__hvr_0_4_1/split_2/train/mask/_Image_10L_3_1.png  \n",
            "  inflating: chase_db_384_384_dice_bce_0_4__hvr_0_4_1/split_2/train/mask/_Image_02R_0_8.png  \n",
            "  inflating: chase_db_384_384_dice_bce_0_4__hvr_0_4_1/split_2/train/mask/_Image_07L_0_8.png  \n",
            "  inflating: chase_db_384_384_dice_bce_0_4__hvr_0_4_1/split_2/train/mask/_Image_08L_2_2.png  \n",
            "  inflating: chase_db_384_384_dice_bce_0_4__hvr_0_4_1/split_2/train/mask/_Image_03R_0_6.png  \n",
            "  inflating: chase_db_384_384_dice_bce_0_4__hvr_0_4_1/split_2/train/mask/_Image_06L_1_0.png  \n",
            "  inflating: chase_db_384_384_dice_bce_0_4__hvr_0_4_1/split_2/train/mask/_Image_09R_0_7.png  \n",
            "  inflating: chase_db_384_384_dice_bce_0_4__hvr_0_4_1/split_2/train/mask/_Image_07L_3_4.png  \n",
            "  inflating: chase_db_384_384_dice_bce_0_4__hvr_0_4_1/split_2/train/mask/_Image_13R_1_7.png  \n",
            "  inflating: chase_db_384_384_dice_bce_0_4__hvr_0_4_1/split_2/train/mask/_Image_14R_1_3.png  \n",
            "  inflating: chase_db_384_384_dice_bce_0_4__hvr_0_4_1/split_2/train/mask/_Image_03L_2_3.png  \n",
            "  inflating: chase_db_384_384_dice_bce_0_4__hvr_0_4_1/split_2/train/mask/_Image_06L_1_3.png  \n",
            "  inflating: chase_db_384_384_dice_bce_0_4__hvr_0_4_1/split_2/train/mask/_Image_07L_2_8.png  \n",
            "  inflating: chase_db_384_384_dice_bce_0_4__hvr_0_4_1/split_2/train/mask/_Image_08R_3_5.png  \n",
            "  inflating: chase_db_384_384_dice_bce_0_4__hvr_0_4_1/split_2/train/mask/_Image_07R_2_4.png  \n",
            "  inflating: chase_db_384_384_dice_bce_0_4__hvr_0_4_1/split_2/train/mask/_Image_09L_3_4.png  \n",
            "  inflating: chase_db_384_384_dice_bce_0_4__hvr_0_4_1/split_2/train/mask/_Image_08R_1_1.png  \n",
            "  inflating: chase_db_384_384_dice_bce_0_4__hvr_0_4_1/split_2/train/mask/_Image_01R_1_8.png  \n",
            "  inflating: chase_db_384_384_dice_bce_0_4__hvr_0_4_1/split_2/train/mask/_Image_07R_1_1.png  \n",
            "  inflating: chase_db_384_384_dice_bce_0_4__hvr_0_4_1/split_2/train/mask/_Image_08R_0_7.png  \n",
            "  inflating: chase_db_384_384_dice_bce_0_4__hvr_0_4_1/split_2/train/mask/_Image_03L_1_1.png  \n",
            "  inflating: chase_db_384_384_dice_bce_0_4__hvr_0_4_1/split_2/train/mask/_Image_05L_3_3.png  \n",
            "  inflating: chase_db_384_384_dice_bce_0_4__hvr_0_4_1/split_2/train/mask/_Image_14L_3_4.png  \n",
            "  inflating: chase_db_384_384_dice_bce_0_4__hvr_0_4_1/split_2/train/mask/_Image_05R_1_3.png  \n",
            "  inflating: chase_db_384_384_dice_bce_0_4__hvr_0_4_1/split_2/train/mask/_Image_05L_1_6.png  \n",
            "  inflating: chase_db_384_384_dice_bce_0_4__hvr_0_4_1/split_2/train/mask/_Image_09R_1_5.png  \n",
            "  inflating: chase_db_384_384_dice_bce_0_4__hvr_0_4_1/split_2/train/mask/_Image_10R_3_2.png  \n",
            "  inflating: chase_db_384_384_dice_bce_0_4__hvr_0_4_1/split_2/train/mask/_Image_02R_2_4.png  \n",
            "  inflating: chase_db_384_384_dice_bce_0_4__hvr_0_4_1/split_2/train/mask/_Image_09L_1_8.png  \n",
            "  inflating: chase_db_384_384_dice_bce_0_4__hvr_0_4_1/split_2/train/mask/_Image_07L_0_0.png  \n",
            "  inflating: chase_db_384_384_dice_bce_0_4__hvr_0_4_1/split_2/train/mask/_Image_01R_1_1.png  \n",
            "  inflating: chase_db_384_384_dice_bce_0_4__hvr_0_4_1/split_2/train/mask/_Image_05L_2_3.png  \n",
            "  inflating: chase_db_384_384_dice_bce_0_4__hvr_0_4_1/split_2/train/mask/_Image_09L_2_1.png  \n",
            "  inflating: chase_db_384_384_dice_bce_0_4__hvr_0_4_1/split_2/train/mask/_Image_10R_1_2.png  \n",
            "  inflating: chase_db_384_384_dice_bce_0_4__hvr_0_4_1/split_2/train/mask/_Image_01L_3_7.png  \n",
            "  inflating: chase_db_384_384_dice_bce_0_4__hvr_0_4_1/split_2/train/mask/_Image_05L_2_1.png  \n",
            "  inflating: chase_db_384_384_dice_bce_0_4__hvr_0_4_1/split_2/train/mask/_Image_07R_1_2.png  \n",
            "  inflating: chase_db_384_384_dice_bce_0_4__hvr_0_4_1/split_2/train/mask/_Image_06L_2_8.png  \n",
            "  inflating: chase_db_384_384_dice_bce_0_4__hvr_0_4_1/split_2/train/mask/_Image_10R_3_0.png  \n",
            "  inflating: chase_db_384_384_dice_bce_0_4__hvr_0_4_1/split_2/train/mask/_Image_05R_1_7.png  \n",
            "  inflating: chase_db_384_384_dice_bce_0_4__hvr_0_4_1/split_2/train/mask/_Image_08R_0_6.png  \n",
            "  inflating: chase_db_384_384_dice_bce_0_4__hvr_0_4_1/split_2/train/mask/_Image_14L_0_7.png  \n",
            "  inflating: chase_db_384_384_dice_bce_0_4__hvr_0_4_1/split_2/train/mask/_Image_08L_3_8.png  \n",
            "  inflating: chase_db_384_384_dice_bce_0_4__hvr_0_4_1/split_2/train/mask/_Image_02L_0_1.png  \n",
            "  inflating: chase_db_384_384_dice_bce_0_4__hvr_0_4_1/split_2/train/mask/_Image_03L_2_2.png  \n",
            "  inflating: chase_db_384_384_dice_bce_0_4__hvr_0_4_1/split_2/train/mask/_Image_04L_1_2.png  \n",
            "  inflating: chase_db_384_384_dice_bce_0_4__hvr_0_4_1/split_2/train/mask/_Image_06L_2_3.png  \n",
            "  inflating: chase_db_384_384_dice_bce_0_4__hvr_0_4_1/split_2/train/mask/_Image_06R_0_1.png  \n",
            "  inflating: chase_db_384_384_dice_bce_0_4__hvr_0_4_1/split_2/train/mask/_Image_09L_0_4.png  \n",
            "  inflating: chase_db_384_384_dice_bce_0_4__hvr_0_4_1/split_2/train/mask/_Image_01L_0_1.png  \n",
            "  inflating: chase_db_384_384_dice_bce_0_4__hvr_0_4_1/split_2/train/mask/_Image_07L_2_4.png  \n",
            "  inflating: chase_db_384_384_dice_bce_0_4__hvr_0_4_1/split_2/train/mask/_Image_01L_3_8.png  \n",
            "  inflating: chase_db_384_384_dice_bce_0_4__hvr_0_4_1/split_2/train/mask/_Image_07R_1_8.png  \n",
            "  inflating: chase_db_384_384_dice_bce_0_4__hvr_0_4_1/split_2/train/mask/_Image_02L_3_2.png  \n",
            "  inflating: chase_db_384_384_dice_bce_0_4__hvr_0_4_1/split_2/train/mask/_Image_02R_3_5.png  \n",
            "  inflating: chase_db_384_384_dice_bce_0_4__hvr_0_4_1/split_2/train/mask/_Image_09R_3_4.png  \n",
            "  inflating: chase_db_384_384_dice_bce_0_4__hvr_0_4_1/split_2/train/mask/_Image_14L_1_0.png  \n",
            "  inflating: chase_db_384_384_dice_bce_0_4__hvr_0_4_1/split_2/train/mask/_Image_13R_2_7.png  \n",
            "  inflating: chase_db_384_384_dice_bce_0_4__hvr_0_4_1/split_2/train/mask/_Image_02L_0_4.png  \n",
            "  inflating: chase_db_384_384_dice_bce_0_4__hvr_0_4_1/split_2/train/mask/_Image_08R_0_1.png  \n",
            "  inflating: chase_db_384_384_dice_bce_0_4__hvr_0_4_1/split_2/train/mask/_Image_05L_2_2.png  \n",
            "  inflating: chase_db_384_384_dice_bce_0_4__hvr_0_4_1/split_2/train/mask/_Image_07R_3_4.png  \n",
            "  inflating: chase_db_384_384_dice_bce_0_4__hvr_0_4_1/split_2/train/mask/_Image_03R_0_8.png  \n",
            "  inflating: chase_db_384_384_dice_bce_0_4__hvr_0_4_1/split_2/train/mask/_Image_10R_1_6.png  \n",
            "  inflating: chase_db_384_384_dice_bce_0_4__hvr_0_4_1/split_2/train/mask/_Image_14L_2_3.png  \n",
            "  inflating: chase_db_384_384_dice_bce_0_4__hvr_0_4_1/split_2/train/mask/_Image_04L_0_6.png  \n",
            "  inflating: chase_db_384_384_dice_bce_0_4__hvr_0_4_1/split_2/train/mask/_Image_06L_0_2.png  \n",
            "  inflating: chase_db_384_384_dice_bce_0_4__hvr_0_4_1/split_2/train/mask/_Image_03R_1_4.png  \n",
            "  inflating: chase_db_384_384_dice_bce_0_4__hvr_0_4_1/split_2/train/mask/_Image_13R_3_5.png  \n",
            "  inflating: chase_db_384_384_dice_bce_0_4__hvr_0_4_1/split_2/train/mask/_Image_02R_0_6.png  \n",
            "  inflating: chase_db_384_384_dice_bce_0_4__hvr_0_4_1/split_2/train/mask/_Image_01L_2_1.png  \n",
            "  inflating: chase_db_384_384_dice_bce_0_4__hvr_0_4_1/split_2/train/mask/_Image_02L_2_3.png  \n",
            "  inflating: chase_db_384_384_dice_bce_0_4__hvr_0_4_1/split_2/train/mask/_Image_09R_2_0.png  \n",
            "  inflating: chase_db_384_384_dice_bce_0_4__hvr_0_4_1/split_2/train/mask/_Image_09R_1_2.png  \n",
            "  inflating: chase_db_384_384_dice_bce_0_4__hvr_0_4_1/split_2/train/mask/_Image_14R_1_0.png  \n",
            "  inflating: chase_db_384_384_dice_bce_0_4__hvr_0_4_1/split_2/train/mask/_Image_09L_2_4.png  \n",
            "  inflating: chase_db_384_384_dice_bce_0_4__hvr_0_4_1/split_2/train/mask/_Image_10L_3_8.png  \n",
            "  inflating: chase_db_384_384_dice_bce_0_4__hvr_0_4_1/split_2/train/mask/_Image_08L_0_5.png  \n",
            "  inflating: chase_db_384_384_dice_bce_0_4__hvr_0_4_1/split_2/train/mask/_Image_06L_3_3.png  \n",
            "  inflating: chase_db_384_384_dice_bce_0_4__hvr_0_4_1/split_2/train/mask/_Image_02R_2_1.png  \n",
            "  inflating: chase_db_384_384_dice_bce_0_4__hvr_0_4_1/split_2/train/mask/_Image_01R_0_2.png  \n",
            "  inflating: chase_db_384_384_dice_bce_0_4__hvr_0_4_1/split_2/train/mask/_Image_07R_0_5.png  \n",
            "  inflating: chase_db_384_384_dice_bce_0_4__hvr_0_4_1/split_2/train/mask/_Image_02R_0_1.png  \n",
            "  inflating: chase_db_384_384_dice_bce_0_4__hvr_0_4_1/split_2/train/mask/_Image_10L_2_7.png  \n",
            "  inflating: chase_db_384_384_dice_bce_0_4__hvr_0_4_1/split_2/train/mask/_Image_01R_3_0.png  \n",
            "  inflating: chase_db_384_384_dice_bce_0_4__hvr_0_4_1/split_2/train/mask/_Image_03R_2_7.png  \n",
            "  inflating: chase_db_384_384_dice_bce_0_4__hvr_0_4_1/split_2/train/mask/_Image_08R_2_2.png  \n",
            "  inflating: chase_db_384_384_dice_bce_0_4__hvr_0_4_1/split_2/train/mask/_Image_05L_3_2.png  \n",
            "  inflating: chase_db_384_384_dice_bce_0_4__hvr_0_4_1/split_2/train/mask/_Image_10L_0_5.png  \n",
            "  inflating: chase_db_384_384_dice_bce_0_4__hvr_0_4_1/split_2/train/mask/_Image_14R_2_0.png  \n",
            "  inflating: chase_db_384_384_dice_bce_0_4__hvr_0_4_1/split_2/train/mask/_Image_05R_1_6.png  \n",
            "  inflating: chase_db_384_384_dice_bce_0_4__hvr_0_4_1/split_2/train/mask/_Image_05L_3_7.png  \n",
            "  inflating: chase_db_384_384_dice_bce_0_4__hvr_0_4_1/split_2/train/mask/_Image_03R_1_0.png  \n",
            "  inflating: chase_db_384_384_dice_bce_0_4__hvr_0_4_1/split_2/train/mask/_Image_09L_2_5.png  \n",
            "  inflating: chase_db_384_384_dice_bce_0_4__hvr_0_4_1/split_2/train/mask/_Image_02R_1_0.png  \n",
            "  inflating: chase_db_384_384_dice_bce_0_4__hvr_0_4_1/split_2/train/mask/_Image_06L_0_8.png  \n",
            "  inflating: chase_db_384_384_dice_bce_0_4__hvr_0_4_1/split_2/train/mask/_Image_09L_3_0.png  \n",
            "  inflating: chase_db_384_384_dice_bce_0_4__hvr_0_4_1/split_2/train/mask/_Image_06L_3_2.png  \n",
            "  inflating: chase_db_384_384_dice_bce_0_4__hvr_0_4_1/split_2/train/mask/_Image_07R_0_1.png  \n",
            "  inflating: chase_db_384_384_dice_bce_0_4__hvr_0_4_1/split_2/train/mask/_Image_07R_3_0.png  \n",
            "  inflating: chase_db_384_384_dice_bce_0_4__hvr_0_4_1/split_2/train/mask/_Image_13R_0_7.png  \n",
            "  inflating: chase_db_384_384_dice_bce_0_4__hvr_0_4_1/split_2/train/mask/_Image_14R_0_1.png  \n",
            "  inflating: chase_db_384_384_dice_bce_0_4__hvr_0_4_1/split_2/train/mask/_Image_03R_2_2.png  \n",
            "  inflating: chase_db_384_384_dice_bce_0_4__hvr_0_4_1/split_2/train/mask/_Image_05R_2_7.png  \n",
            "  inflating: chase_db_384_384_dice_bce_0_4__hvr_0_4_1/split_2/train/mask/_Image_04L_2_3.png  \n",
            "  inflating: chase_db_384_384_dice_bce_0_4__hvr_0_4_1/split_2/train/mask/_Image_06R_2_3.png  \n",
            "  inflating: chase_db_384_384_dice_bce_0_4__hvr_0_4_1/split_2/train/mask/_Image_02L_3_3.png  \n",
            "  inflating: chase_db_384_384_dice_bce_0_4__hvr_0_4_1/split_2/train/mask/_Image_06L_1_7.png  \n",
            "  inflating: chase_db_384_384_dice_bce_0_4__hvr_0_4_1/split_2/train/mask/_Image_10R_2_8.png  \n",
            "  inflating: chase_db_384_384_dice_bce_0_4__hvr_0_4_1/split_2/train/mask/_Image_14L_3_8.png  \n",
            "  inflating: chase_db_384_384_dice_bce_0_4__hvr_0_4_1/split_2/train/mask/_Image_05L_3_6.png  \n",
            "  inflating: chase_db_384_384_dice_bce_0_4__hvr_0_4_1/split_2/train/mask/_Image_08L_3_7.png  \n",
            "  inflating: chase_db_384_384_dice_bce_0_4__hvr_0_4_1/split_2/train/mask/_Image_04R_0_1.png  \n",
            "  inflating: chase_db_384_384_dice_bce_0_4__hvr_0_4_1/split_2/train/mask/_Image_07L_2_2.png  \n",
            "  inflating: chase_db_384_384_dice_bce_0_4__hvr_0_4_1/split_2/train/mask/_Image_09R_1_6.png  \n",
            "  inflating: chase_db_384_384_dice_bce_0_4__hvr_0_4_1/split_2/train/mask/_Image_01L_3_6.png  \n",
            "  inflating: chase_db_384_384_dice_bce_0_4__hvr_0_4_1/split_2/train/mask/_Image_07R_2_3.png  \n",
            "  inflating: chase_db_384_384_dice_bce_0_4__hvr_0_4_1/split_2/train/mask/_Image_05L_1_8.png  \n",
            "  inflating: chase_db_384_384_dice_bce_0_4__hvr_0_4_1/split_2/train/mask/_Image_02R_1_5.png  \n",
            "  inflating: chase_db_384_384_dice_bce_0_4__hvr_0_4_1/split_2/train/mask/_Image_02L_0_0.png  \n",
            "  inflating: chase_db_384_384_dice_bce_0_4__hvr_0_4_1/split_2/train/mask/_Image_02R_1_6.png  \n",
            "  inflating: chase_db_384_384_dice_bce_0_4__hvr_0_4_1/split_2/train/mask/_Image_01R_3_5.png  \n",
            "  inflating: chase_db_384_384_dice_bce_0_4__hvr_0_4_1/split_2/train/mask/_Image_14L_3_3.png  \n",
            "  inflating: chase_db_384_384_dice_bce_0_4__hvr_0_4_1/split_2/train/mask/_Image_07R_3_8.png  \n",
            "  inflating: chase_db_384_384_dice_bce_0_4__hvr_0_4_1/split_2/train/mask/_Image_01R_2_5.png  \n",
            "  inflating: chase_db_384_384_dice_bce_0_4__hvr_0_4_1/split_2/train/mask/_Image_08L_0_6.png  \n",
            "  inflating: chase_db_384_384_dice_bce_0_4__hvr_0_4_1/split_2/train/mask/_Image_08R_0_2.png  \n",
            "  inflating: chase_db_384_384_dice_bce_0_4__hvr_0_4_1/split_2/train/mask/_Image_08L_2_7.png  \n",
            "  inflating: chase_db_384_384_dice_bce_0_4__hvr_0_4_1/split_2/train/mask/_Image_04R_2_6.png  \n",
            "  inflating: chase_db_384_384_dice_bce_0_4__hvr_0_4_1/split_2/train/mask/_Image_10R_0_8.png  \n",
            "  inflating: chase_db_384_384_dice_bce_0_4__hvr_0_4_1/split_2/train/mask/_Image_09L_0_3.png  \n",
            "  inflating: chase_db_384_384_dice_bce_0_4__hvr_0_4_1/split_2/train/mask/_Image_01R_2_3.png  \n",
            "  inflating: chase_db_384_384_dice_bce_0_4__hvr_0_4_1/split_2/train/mask/_Image_05R_1_5.png  \n",
            "  inflating: chase_db_384_384_dice_bce_0_4__hvr_0_4_1/split_2/train/mask/_Image_04L_3_4.png  \n",
            "  inflating: chase_db_384_384_dice_bce_0_4__hvr_0_4_1/split_2/train/mask/_Image_13R_2_8.png  \n",
            "  inflating: chase_db_384_384_dice_bce_0_4__hvr_0_4_1/split_2/train/mask/_Image_14R_1_7.png  \n",
            "  inflating: chase_db_384_384_dice_bce_0_4__hvr_0_4_1/split_2/train/mask/_Image_14R_2_6.png  \n",
            "  inflating: chase_db_384_384_dice_bce_0_4__hvr_0_4_1/split_2/train/mask/_Image_04L_0_5.png  \n",
            "  inflating: chase_db_384_384_dice_bce_0_4__hvr_0_4_1/split_2/train/mask/_Image_03R_1_5.png  \n",
            "  inflating: chase_db_384_384_dice_bce_0_4__hvr_0_4_1/split_2/train/mask/_Image_04L_0_7.png  \n",
            "  inflating: chase_db_384_384_dice_bce_0_4__hvr_0_4_1/split_2/train/mask/_Image_08L_1_2.png  \n",
            "  inflating: chase_db_384_384_dice_bce_0_4__hvr_0_4_1/split_2/train/mask/_Image_13R_0_3.png  \n",
            "  inflating: chase_db_384_384_dice_bce_0_4__hvr_0_4_1/split_2/train/mask/_Image_08R_1_7.png  \n",
            "  inflating: chase_db_384_384_dice_bce_0_4__hvr_0_4_1/split_2/train/mask/_Image_10L_1_3.png  \n",
            "  inflating: chase_db_384_384_dice_bce_0_4__hvr_0_4_1/split_2/train/mask/_Image_03R_3_7.png  \n",
            "  inflating: chase_db_384_384_dice_bce_0_4__hvr_0_4_1/split_2/train/mask/_Image_06L_0_6.png  \n",
            "  inflating: chase_db_384_384_dice_bce_0_4__hvr_0_4_1/split_2/train/mask/_Image_14L_1_8.png  \n",
            "  inflating: chase_db_384_384_dice_bce_0_4__hvr_0_4_1/split_2/train/mask/_Image_01R_1_0.png  \n",
            "  inflating: chase_db_384_384_dice_bce_0_4__hvr_0_4_1/split_2/train/mask/_Image_05R_2_4.png  \n",
            "  inflating: chase_db_384_384_dice_bce_0_4__hvr_0_4_1/split_2/train/mask/_Image_10R_2_6.png  \n",
            "  inflating: chase_db_384_384_dice_bce_0_4__hvr_0_4_1/split_2/train/mask/_Image_08L_2_5.png  \n",
            "  inflating: chase_db_384_384_dice_bce_0_4__hvr_0_4_1/split_2/train/mask/_Image_10L_2_8.png  \n",
            "  inflating: chase_db_384_384_dice_bce_0_4__hvr_0_4_1/split_2/train/mask/_Image_07L_1_1.png  \n",
            "  inflating: chase_db_384_384_dice_bce_0_4__hvr_0_4_1/split_2/train/mask/_Image_05L_3_1.png  \n",
            "  inflating: chase_db_384_384_dice_bce_0_4__hvr_0_4_1/split_2/train/mask/_Image_04L_3_3.png  \n",
            "  inflating: chase_db_384_384_dice_bce_0_4__hvr_0_4_1/split_2/train/mask/_Image_10L_3_4.png  \n",
            "  inflating: chase_db_384_384_dice_bce_0_4__hvr_0_4_1/split_2/train/mask/_Image_05R_0_1.png  \n",
            "  inflating: chase_db_384_384_dice_bce_0_4__hvr_0_4_1/split_2/train/mask/_Image_04R_3_2.png  \n",
            "  inflating: chase_db_384_384_dice_bce_0_4__hvr_0_4_1/split_2/train/mask/_Image_10L_2_5.png  \n",
            "  inflating: chase_db_384_384_dice_bce_0_4__hvr_0_4_1/split_2/train/mask/_Image_14L_2_7.png  \n",
            "  inflating: chase_db_384_384_dice_bce_0_4__hvr_0_4_1/split_2/train/mask/_Image_14R_0_5.png  \n",
            "  inflating: chase_db_384_384_dice_bce_0_4__hvr_0_4_1/split_2/train/mask/_Image_13R_0_1.png  \n",
            "  inflating: chase_db_384_384_dice_bce_0_4__hvr_0_4_1/split_2/train/mask/_Image_08L_1_5.png  \n",
            "  inflating: chase_db_384_384_dice_bce_0_4__hvr_0_4_1/split_2/train/mask/_Image_14L_2_0.png  \n",
            "  inflating: chase_db_384_384_dice_bce_0_4__hvr_0_4_1/split_2/train/mask/_Image_03L_3_5.png  \n",
            "  inflating: chase_db_384_384_dice_bce_0_4__hvr_0_4_1/split_2/train/mask/_Image_09R_2_3.png  \n",
            "  inflating: chase_db_384_384_dice_bce_0_4__hvr_0_4_1/split_2/train/mask/_Image_03L_2_5.png  \n",
            "  inflating: chase_db_384_384_dice_bce_0_4__hvr_0_4_1/split_2/train/mask/_Image_10L_3_7.png  \n",
            "  inflating: chase_db_384_384_dice_bce_0_4__hvr_0_4_1/split_2/train/mask/_Image_06L_3_1.png  \n",
            "  inflating: chase_db_384_384_dice_bce_0_4__hvr_0_4_1/split_2/train/mask/_Image_04L_2_8.png  \n",
            "  inflating: chase_db_384_384_dice_bce_0_4__hvr_0_4_1/split_2/train/mask/_Image_01R_2_1.png  \n",
            "  inflating: chase_db_384_384_dice_bce_0_4__hvr_0_4_1/split_2/train/mask/_Image_14R_2_2.png  \n",
            "  inflating: chase_db_384_384_dice_bce_0_4__hvr_0_4_1/split_2/train/mask/_Image_03R_3_0.png  \n",
            "  inflating: chase_db_384_384_dice_bce_0_4__hvr_0_4_1/split_2/train/mask/_Image_13R_3_1.png  \n",
            "  inflating: chase_db_384_384_dice_bce_0_4__hvr_0_4_1/split_2/train/mask/_Image_05L_0_2.png  \n",
            "  inflating: chase_db_384_384_dice_bce_0_4__hvr_0_4_1/split_2/train/mask/_Image_05L_1_1.png  \n",
            "  inflating: chase_db_384_384_dice_bce_0_4__hvr_0_4_1/split_2/train/mask/_Image_07R_1_4.png  \n",
            "  inflating: chase_db_384_384_dice_bce_0_4__hvr_0_4_1/split_2/train/mask/_Image_14L_0_8.png  \n",
            "  inflating: chase_db_384_384_dice_bce_0_4__hvr_0_4_1/split_2/train/mask/_Image_06R_0_0.png  \n",
            "  inflating: chase_db_384_384_dice_bce_0_4__hvr_0_4_1/split_2/train/mask/_Image_05L_3_5.png  \n",
            "  inflating: chase_db_384_384_dice_bce_0_4__hvr_0_4_1/split_2/train/mask/_Image_09L_2_7.png  \n",
            "  inflating: chase_db_384_384_dice_bce_0_4__hvr_0_4_1/split_2/train/mask/_Image_09R_2_1.png  \n",
            "  inflating: chase_db_384_384_dice_bce_0_4__hvr_0_4_1/split_2/train/mask/_Image_04R_1_2.png  \n",
            "  inflating: chase_db_384_384_dice_bce_0_4__hvr_0_4_1/split_2/train/mask/_Image_05R_3_1.png  \n",
            "  inflating: chase_db_384_384_dice_bce_0_4__hvr_0_4_1/split_2/train/mask/_Image_04R_1_7.png  \n",
            "  inflating: chase_db_384_384_dice_bce_0_4__hvr_0_4_1/split_2/train/mask/_Image_08L_1_6.png  \n",
            "  inflating: chase_db_384_384_dice_bce_0_4__hvr_0_4_1/split_2/train/mask/_Image_14L_0_1.png  \n",
            "  inflating: chase_db_384_384_dice_bce_0_4__hvr_0_4_1/split_2/train/mask/_Image_08L_0_3.png  \n",
            "  inflating: chase_db_384_384_dice_bce_0_4__hvr_0_4_1/split_2/train/mask/_Image_03L_3_3.png  \n",
            "  inflating: chase_db_384_384_dice_bce_0_4__hvr_0_4_1/split_2/train/mask/_Image_10L_3_0.png  \n",
            "  inflating: chase_db_384_384_dice_bce_0_4__hvr_0_4_1/split_2/train/mask/_Image_07R_0_0.png  \n",
            "  inflating: chase_db_384_384_dice_bce_0_4__hvr_0_4_1/split_2/train/mask/_Image_03L_0_6.png  \n",
            "  inflating: chase_db_384_384_dice_bce_0_4__hvr_0_4_1/split_2/train/mask/_Image_10L_0_0.png  \n",
            "  inflating: chase_db_384_384_dice_bce_0_4__hvr_0_4_1/split_2/train/mask/_Image_03R_1_3.png  \n",
            "  inflating: chase_db_384_384_dice_bce_0_4__hvr_0_4_1/split_2/train/mask/_Image_08R_1_0.png  \n",
            "  inflating: chase_db_384_384_dice_bce_0_4__hvr_0_4_1/split_2/train/mask/_Image_06R_0_8.png  \n",
            "  inflating: chase_db_384_384_dice_bce_0_4__hvr_0_4_1/split_2/train/mask/_Image_07R_3_5.png  \n",
            "  inflating: chase_db_384_384_dice_bce_0_4__hvr_0_4_1/split_2/train/mask/_Image_08L_3_0.png  \n",
            "  inflating: chase_db_384_384_dice_bce_0_4__hvr_0_4_1/split_2/train/mask/_Image_13R_1_5.png  \n",
            "  inflating: chase_db_384_384_dice_bce_0_4__hvr_0_4_1/split_2/train/mask/_Image_07L_0_4.png  \n",
            "  inflating: chase_db_384_384_dice_bce_0_4__hvr_0_4_1/split_2/train/mask/_Image_03R_2_6.png  \n",
            "  inflating: chase_db_384_384_dice_bce_0_4__hvr_0_4_1/split_2/train/mask/_Image_13R_1_6.png  \n",
            "  inflating: chase_db_384_384_dice_bce_0_4__hvr_0_4_1/split_2/train/mask/_Image_09L_0_1.png  \n",
            "  inflating: chase_db_384_384_dice_bce_0_4__hvr_0_4_1/split_2/train/mask/_Image_03L_2_6.png  \n",
            "  inflating: chase_db_384_384_dice_bce_0_4__hvr_0_4_1/split_2/train/mask/_Image_08R_3_4.png  \n",
            "  inflating: chase_db_384_384_dice_bce_0_4__hvr_0_4_1/split_2/train/mask/_Image_04R_0_0.png  \n",
            "  inflating: chase_db_384_384_dice_bce_0_4__hvr_0_4_1/split_2/train/mask/_Image_07R_1_0.png  \n",
            "  inflating: chase_db_384_384_dice_bce_0_4__hvr_0_4_1/split_2/train/mask/_Image_01R_0_5.png  \n",
            "  inflating: chase_db_384_384_dice_bce_0_4__hvr_0_4_1/split_2/train/mask/_Image_08L_1_4.png  \n",
            "  inflating: chase_db_384_384_dice_bce_0_4__hvr_0_4_1/split_2/train/mask/_Image_07L_2_1.png  \n",
            "  inflating: chase_db_384_384_dice_bce_0_4__hvr_0_4_1/split_2/train/mask/_Image_14L_2_8.png  \n",
            "  inflating: chase_db_384_384_dice_bce_0_4__hvr_0_4_1/split_2/train/mask/_Image_03L_0_8.png  \n",
            "  inflating: chase_db_384_384_dice_bce_0_4__hvr_0_4_1/split_2/train/mask/_Image_02L_1_4.png  \n",
            "  inflating: chase_db_384_384_dice_bce_0_4__hvr_0_4_1/split_2/train/mask/_Image_10R_0_0.png  \n",
            "  inflating: chase_db_384_384_dice_bce_0_4__hvr_0_4_1/split_2/train/mask/_Image_06R_3_4.png  \n",
            "  inflating: chase_db_384_384_dice_bce_0_4__hvr_0_4_1/split_2/train/mask/_Image_09R_0_8.png  \n",
            "  inflating: chase_db_384_384_dice_bce_0_4__hvr_0_4_1/split_2/train/mask/_Image_09R_3_8.png  \n",
            "  inflating: chase_db_384_384_dice_bce_0_4__hvr_0_4_1/split_2/train/mask/_Image_08L_2_1.png  \n",
            "  inflating: chase_db_384_384_dice_bce_0_4__hvr_0_4_1/split_2/train/mask/_Image_14R_3_6.png  \n",
            "  inflating: chase_db_384_384_dice_bce_0_4__hvr_0_4_1/split_2/train/mask/_Image_08R_2_7.png  \n",
            "  inflating: chase_db_384_384_dice_bce_0_4__hvr_0_4_1/split_2/train/mask/_Image_08L_3_5.png  \n",
            "  inflating: chase_db_384_384_dice_bce_0_4__hvr_0_4_1/split_2/train/mask/_Image_08L_1_0.png  \n",
            "  inflating: chase_db_384_384_dice_bce_0_4__hvr_0_4_1/split_2/train/mask/_Image_07L_2_3.png  \n",
            "  inflating: chase_db_384_384_dice_bce_0_4__hvr_0_4_1/split_2/train/mask/_Image_08L_1_8.png  \n",
            "  inflating: chase_db_384_384_dice_bce_0_4__hvr_0_4_1/split_2/train/mask/_Image_04L_2_2.png  \n",
            "  inflating: chase_db_384_384_dice_bce_0_4__hvr_0_4_1/split_2/train/mask/_Image_14R_1_6.png  \n",
            "  inflating: chase_db_384_384_dice_bce_0_4__hvr_0_4_1/split_2/train/mask/_Image_03R_2_3.png  \n",
            "  inflating: chase_db_384_384_dice_bce_0_4__hvr_0_4_1/split_2/train/mask/_Image_06L_2_1.png  \n",
            "  inflating: chase_db_384_384_dice_bce_0_4__hvr_0_4_1/split_2/train/mask/_Image_03R_3_5.png  \n",
            "  inflating: chase_db_384_384_dice_bce_0_4__hvr_0_4_1/split_2/train/mask/_Image_14L_1_2.png  \n",
            "  inflating: chase_db_384_384_dice_bce_0_4__hvr_0_4_1/split_2/train/mask/_Image_05R_3_8.png  \n",
            "  inflating: chase_db_384_384_dice_bce_0_4__hvr_0_4_1/split_2/train/mask/_Image_06R_3_5.png  \n",
            "  inflating: chase_db_384_384_dice_bce_0_4__hvr_0_4_1/split_2/train/mask/_Image_04L_0_2.png  \n",
            "  inflating: chase_db_384_384_dice_bce_0_4__hvr_0_4_1/split_2/train/mask/_Image_02R_2_6.png  \n",
            "  inflating: chase_db_384_384_dice_bce_0_4__hvr_0_4_1/split_2/train/mask/_Image_10R_1_1.png  \n",
            "  inflating: chase_db_384_384_dice_bce_0_4__hvr_0_4_1/split_2/train/mask/_Image_03R_2_0.png  \n",
            "  inflating: chase_db_384_384_dice_bce_0_4__hvr_0_4_1/split_2/train/mask/_Image_02R_0_7.png  \n",
            "  inflating: chase_db_384_384_dice_bce_0_4__hvr_0_4_1/split_2/train/mask/_Image_14R_1_5.png  \n",
            "  inflating: chase_db_384_384_dice_bce_0_4__hvr_0_4_1/split_2/train/mask/_Image_03R_3_1.png  \n",
            "  inflating: chase_db_384_384_dice_bce_0_4__hvr_0_4_1/split_2/train/mask/_Image_04L_0_8.png  \n",
            "  inflating: chase_db_384_384_dice_bce_0_4__hvr_0_4_1/split_2/train/mask/_Image_04R_0_2.png  \n",
            "  inflating: chase_db_384_384_dice_bce_0_4__hvr_0_4_1/split_2/train/mask/_Image_05R_0_6.png  \n",
            "  inflating: chase_db_384_384_dice_bce_0_4__hvr_0_4_1/split_2/train/mask/_Image_09R_3_7.png  \n",
            "  inflating: chase_db_384_384_dice_bce_0_4__hvr_0_4_1/split_2/train/mask/_Image_08L_1_3.png  \n",
            "  inflating: chase_db_384_384_dice_bce_0_4__hvr_0_4_1/split_2/train/mask/_Image_03L_0_4.png  \n",
            "  inflating: chase_db_384_384_dice_bce_0_4__hvr_0_4_1/split_2/train/mask/_Image_09L_2_2.png  \n",
            "  inflating: chase_db_384_384_dice_bce_0_4__hvr_0_4_1/split_2/train/mask/_Image_06R_1_1.png  \n",
            "  inflating: chase_db_384_384_dice_bce_0_4__hvr_0_4_1/split_2/train/mask/_Image_01R_1_6.png  \n",
            "  inflating: chase_db_384_384_dice_bce_0_4__hvr_0_4_1/split_2/train/mask/_Image_08R_0_4.png  \n",
            "  inflating: chase_db_384_384_dice_bce_0_4__hvr_0_4_1/split_2/train/mask/_Image_10L_3_6.png  \n",
            "  inflating: chase_db_384_384_dice_bce_0_4__hvr_0_4_1/split_2/train/mask/_Image_03R_3_8.png  \n",
            "  inflating: chase_db_384_384_dice_bce_0_4__hvr_0_4_1/split_2/train/mask/_Image_03L_3_1.png  \n",
            "  inflating: chase_db_384_384_dice_bce_0_4__hvr_0_4_1/split_2/train/mask/_Image_01R_3_2.png  \n",
            "  inflating: chase_db_384_384_dice_bce_0_4__hvr_0_4_1/split_2/train/mask/_Image_04R_3_0.png  \n",
            "  inflating: chase_db_384_384_dice_bce_0_4__hvr_0_4_1/split_2/train/mask/_Image_13R_2_0.png  \n",
            "  inflating: chase_db_384_384_dice_bce_0_4__hvr_0_4_1/split_2/train/mask/_Image_04R_0_8.png  \n",
            "  inflating: chase_db_384_384_dice_bce_0_4__hvr_0_4_1/split_2/train/mask/_Image_14L_0_2.png  \n",
            "  inflating: chase_db_384_384_dice_bce_0_4__hvr_0_4_1/split_2/train/mask/_Image_02R_3_6.png  \n",
            "  inflating: chase_db_384_384_dice_bce_0_4__hvr_0_4_1/split_2/train/mask/_Image_01L_1_7.png  \n",
            "  inflating: chase_db_384_384_dice_bce_0_4__hvr_0_4_1/split_2/train/mask/_Image_06L_3_4.png  \n",
            "  inflating: chase_db_384_384_dice_bce_0_4__hvr_0_4_1/split_2/train/mask/_Image_10R_0_5.png  \n",
            "  inflating: chase_db_384_384_dice_bce_0_4__hvr_0_4_1/split_2/train/mask/_Image_01L_0_6.png  \n",
            "  inflating: chase_db_384_384_dice_bce_0_4__hvr_0_4_1/split_2/train/mask/_Image_13R_3_6.png  \n",
            "  inflating: chase_db_384_384_dice_bce_0_4__hvr_0_4_1/split_2/train/mask/_Image_10L_0_3.png  \n",
            "  inflating: chase_db_384_384_dice_bce_0_4__hvr_0_4_1/split_2/train/mask/_Image_09R_0_3.png  \n",
            "  inflating: chase_db_384_384_dice_bce_0_4__hvr_0_4_1/split_2/train/mask/_Image_10R_1_8.png  \n",
            "  inflating: chase_db_384_384_dice_bce_0_4__hvr_0_4_1/split_2/train/mask/_Image_10R_2_0.png  \n",
            "  inflating: chase_db_384_384_dice_bce_0_4__hvr_0_4_1/split_2/train/mask/_Image_08R_1_6.png  \n",
            "  inflating: chase_db_384_384_dice_bce_0_4__hvr_0_4_1/split_2/train/mask/_Image_02L_3_8.png  \n",
            "  inflating: chase_db_384_384_dice_bce_0_4__hvr_0_4_1/split_2/train/mask/_Image_02R_3_2.png  \n",
            "  inflating: chase_db_384_384_dice_bce_0_4__hvr_0_4_1/split_2/train/mask/_Image_14R_0_7.png  \n",
            "  inflating: chase_db_384_384_dice_bce_0_4__hvr_0_4_1/split_2/train/mask/_Image_04R_3_5.png  \n",
            "  inflating: chase_db_384_384_dice_bce_0_4__hvr_0_4_1/split_2/train/mask/_Image_14R_0_6.png  \n",
            "  inflating: chase_db_384_384_dice_bce_0_4__hvr_0_4_1/split_2/train/mask/_Image_09L_0_7.png  \n",
            "  inflating: chase_db_384_384_dice_bce_0_4__hvr_0_4_1/split_2/train/mask/_Image_06L_1_6.png  \n",
            "  inflating: chase_db_384_384_dice_bce_0_4__hvr_0_4_1/split_2/train/mask/_Image_13R_1_8.png  \n",
            "  inflating: chase_db_384_384_dice_bce_0_4__hvr_0_4_1/split_2/train/mask/_Image_09L_3_3.png  \n",
            "  inflating: chase_db_384_384_dice_bce_0_4__hvr_0_4_1/split_2/train/mask/_Image_13R_0_0.png  \n",
            "  inflating: chase_db_384_384_dice_bce_0_4__hvr_0_4_1/split_2/train/mask/_Image_05L_3_0.png  \n",
            "  inflating: chase_db_384_384_dice_bce_0_4__hvr_0_4_1/split_2/train/mask/_Image_09R_3_6.png  \n",
            "  inflating: chase_db_384_384_dice_bce_0_4__hvr_0_4_1/split_2/train/mask/_Image_05L_1_2.png  \n",
            "  inflating: chase_db_384_384_dice_bce_0_4__hvr_0_4_1/split_2/train/mask/_Image_01L_3_1.png  \n",
            "  inflating: chase_db_384_384_dice_bce_0_4__hvr_0_4_1/split_2/train/mask/_Image_06R_1_0.png  \n",
            "  inflating: chase_db_384_384_dice_bce_0_4__hvr_0_4_1/split_2/train/mask/_Image_09L_0_0.png  \n",
            "  inflating: chase_db_384_384_dice_bce_0_4__hvr_0_4_1/split_2/train/mask/_Image_05L_0_0.png  \n",
            "  inflating: chase_db_384_384_dice_bce_0_4__hvr_0_4_1/split_2/train/mask/_Image_06R_2_2.png  \n",
            "  inflating: chase_db_384_384_dice_bce_0_4__hvr_0_4_1/split_2/train/mask/_Image_14R_3_2.png  \n",
            "  inflating: chase_db_384_384_dice_bce_0_4__hvr_0_4_1/split_2/train/mask/_Image_05R_2_8.png  \n",
            "  inflating: chase_db_384_384_dice_bce_0_4__hvr_0_4_1/split_2/train/mask/_Image_10L_2_2.png  \n",
            "  inflating: chase_db_384_384_dice_bce_0_4__hvr_0_4_1/split_2/train/mask/_Image_02R_1_8.png  \n",
            "  inflating: chase_db_384_384_dice_bce_0_4__hvr_0_4_1/split_2/train/mask/_Image_01R_3_3.png  \n",
            "  inflating: chase_db_384_384_dice_bce_0_4__hvr_0_4_1/split_2/train/mask/_Image_06R_3_6.png  \n",
            "  inflating: chase_db_384_384_dice_bce_0_4__hvr_0_4_1/split_2/train/mask/_Image_13R_3_0.png  \n",
            "  inflating: chase_db_384_384_dice_bce_0_4__hvr_0_4_1/split_2/train/mask/_Image_01L_0_5.png  \n",
            "  inflating: chase_db_384_384_dice_bce_0_4__hvr_0_4_1/split_2/train/mask/_Image_09L_1_0.png  \n",
            "  inflating: chase_db_384_384_dice_bce_0_4__hvr_0_4_1/split_2/train/mask/_Image_09R_1_1.png  \n",
            "  inflating: chase_db_384_384_dice_bce_0_4__hvr_0_4_1/split_2/train/mask/_Image_10L_0_2.png  \n",
            "  inflating: chase_db_384_384_dice_bce_0_4__hvr_0_4_1/split_2/train/mask/_Image_02R_0_0.png  \n",
            "  inflating: chase_db_384_384_dice_bce_0_4__hvr_0_4_1/split_2/train/mask/_Image_02L_3_6.png  \n",
            "  inflating: chase_db_384_384_dice_bce_0_4__hvr_0_4_1/split_2/train/mask/_Image_13R_0_2.png  \n",
            "  inflating: chase_db_384_384_dice_bce_0_4__hvr_0_4_1/split_2/train/mask/_Image_10R_2_7.png  \n",
            "  inflating: chase_db_384_384_dice_bce_0_4__hvr_0_4_1/split_2/train/mask/_Image_14L_1_6.png  \n",
            "  inflating: chase_db_384_384_dice_bce_0_4__hvr_0_4_1/split_2/train/mask/_Image_05L_0_5.png  \n",
            "  inflating: chase_db_384_384_dice_bce_0_4__hvr_0_4_1/split_2/train/mask/_Image_08R_0_0.png  \n",
            "  inflating: chase_db_384_384_dice_bce_0_4__hvr_0_4_1/split_2/train/mask/_Image_10R_2_5.png  \n",
            "  inflating: chase_db_384_384_dice_bce_0_4__hvr_0_4_1/split_2/train/mask/_Image_01R_3_1.png  \n",
            "  inflating: chase_db_384_384_dice_bce_0_4__hvr_0_4_1/split_2/train/mask/_Image_01L_0_8.png  \n",
            "  inflating: chase_db_384_384_dice_bce_0_4__hvr_0_4_1/split_2/train/mask/_Image_08L_0_1.png  \n",
            "  inflating: chase_db_384_384_dice_bce_0_4__hvr_0_4_1/split_2/train/mask/_Image_04L_1_3.png  \n",
            "  inflating: chase_db_384_384_dice_bce_0_4__hvr_0_4_1/split_2/train/mask/_Image_02L_1_2.png  \n",
            "  inflating: chase_db_384_384_dice_bce_0_4__hvr_0_4_1/split_2/train/mask/_Image_01R_1_7.png  \n",
            "  inflating: chase_db_384_384_dice_bce_0_4__hvr_0_4_1/split_2/train/mask/_Image_14R_0_0.png  \n",
            "  inflating: chase_db_384_384_dice_bce_0_4__hvr_0_4_1/split_2/train/mask/_Image_05L_2_5.png  \n",
            "  inflating: chase_db_384_384_dice_bce_0_4__hvr_0_4_1/split_2/train/mask/_Image_10R_2_4.png  \n",
            "  inflating: chase_db_384_384_dice_bce_0_4__hvr_0_4_1/split_2/train/mask/_Image_14L_0_4.png  \n",
            "  inflating: chase_db_384_384_dice_bce_0_4__hvr_0_4_1/split_2/train/mask/_Image_10R_2_2.png  \n",
            "  inflating: chase_db_384_384_dice_bce_0_4__hvr_0_4_1/split_2/train/mask/_Image_14R_2_8.png  \n",
            "  inflating: chase_db_384_384_dice_bce_0_4__hvr_0_4_1/split_2/train/mask/_Image_06L_2_6.png  \n",
            "  inflating: chase_db_384_384_dice_bce_0_4__hvr_0_4_1/split_2/train/mask/_Image_06L_1_5.png  \n",
            "  inflating: chase_db_384_384_dice_bce_0_4__hvr_0_4_1/split_2/train/mask/_Image_07L_1_0.png  \n",
            "  inflating: chase_db_384_384_dice_bce_0_4__hvr_0_4_1/split_2/train/mask/_Image_03R_2_8.png  \n",
            "  inflating: chase_db_384_384_dice_bce_0_4__hvr_0_4_1/split_2/train/mask/_Image_01R_1_5.png  \n",
            "  inflating: chase_db_384_384_dice_bce_0_4__hvr_0_4_1/split_2/train/mask/_Image_01L_1_4.png  \n",
            "  inflating: chase_db_384_384_dice_bce_0_4__hvr_0_4_1/split_2/train/mask/_Image_04R_2_5.png  \n",
            "  inflating: chase_db_384_384_dice_bce_0_4__hvr_0_4_1/split_2/train/mask/_Image_04L_0_3.png  \n",
            "  inflating: chase_db_384_384_dice_bce_0_4__hvr_0_4_1/split_2/train/mask/_Image_08L_2_8.png  \n",
            "  inflating: chase_db_384_384_dice_bce_0_4__hvr_0_4_1/split_2/train/mask/_Image_06R_2_6.png  \n",
            "  inflating: chase_db_384_384_dice_bce_0_4__hvr_0_4_1/split_2/train/mask/_Image_14L_3_0.png  \n",
            "  inflating: chase_db_384_384_dice_bce_0_4__hvr_0_4_1/split_2/train/mask/_Image_04R_3_4.png  \n",
            "  inflating: chase_db_384_384_dice_bce_0_4__hvr_0_4_1/split_2/train/mask/_Image_14R_3_3.png  \n",
            "  inflating: chase_db_384_384_dice_bce_0_4__hvr_0_4_1/split_2/train/mask/_Image_09R_0_4.png  \n",
            "  inflating: chase_db_384_384_dice_bce_0_4__hvr_0_4_1/split_2/train/mask/_Image_10R_0_1.png  \n",
            "  inflating: chase_db_384_384_dice_bce_0_4__hvr_0_4_1/split_2/train/mask/_Image_06L_1_2.png  \n",
            "  inflating: chase_db_384_384_dice_bce_0_4__hvr_0_4_1/split_2/train/mask/_Image_10R_0_7.png  \n",
            "  inflating: chase_db_384_384_dice_bce_0_4__hvr_0_4_1/split_2/train/mask/_Image_09R_1_0.png  \n",
            "  inflating: chase_db_384_384_dice_bce_0_4__hvr_0_4_1/split_2/train/mask/_Image_04L_3_1.png  \n",
            "  inflating: chase_db_384_384_dice_bce_0_4__hvr_0_4_1/split_2/train/mask/_Image_10L_1_6.png  \n",
            "  inflating: chase_db_384_384_dice_bce_0_4__hvr_0_4_1/split_2/train/mask/_Image_13R_0_8.png  \n",
            "  inflating: chase_db_384_384_dice_bce_0_4__hvr_0_4_1/split_2/train/mask/_Image_14L_3_1.png  \n",
            "  inflating: chase_db_384_384_dice_bce_0_4__hvr_0_4_1/split_2/train/mask/_Image_09R_3_0.png  \n",
            "  inflating: chase_db_384_384_dice_bce_0_4__hvr_0_4_1/split_2/train/mask/_Image_01L_2_7.png  \n",
            "  inflating: chase_db_384_384_dice_bce_0_4__hvr_0_4_1/split_2/train/mask/_Image_06R_1_8.png  \n",
            "  inflating: chase_db_384_384_dice_bce_0_4__hvr_0_4_1/split_2/train/mask/_Image_07L_3_2.png  \n",
            "  inflating: chase_db_384_384_dice_bce_0_4__hvr_0_4_1/split_2/train/mask/_Image_08L_1_7.png  \n",
            "  inflating: chase_db_384_384_dice_bce_0_4__hvr_0_4_1/split_2/train/mask/_Image_09R_1_7.png  \n",
            "  inflating: chase_db_384_384_dice_bce_0_4__hvr_0_4_1/split_2/train/mask/_Image_05R_0_2.png  \n",
            "  inflating: chase_db_384_384_dice_bce_0_4__hvr_0_4_1/split_2/train/mask/_Image_01L_1_3.png  \n",
            "  inflating: chase_db_384_384_dice_bce_0_4__hvr_0_4_1/split_2/train/mask/_Image_10L_2_0.png  \n",
            "  inflating: chase_db_384_384_dice_bce_0_4__hvr_0_4_1/split_2/train/mask/_Image_08L_0_8.png  \n",
            "  inflating: chase_db_384_384_dice_bce_0_4__hvr_0_4_1/split_2/train/mask/_Image_14R_3_8.png  \n",
            "  inflating: chase_db_384_384_dice_bce_0_4__hvr_0_4_1/split_2/train/mask/_Image_03R_0_3.png  \n",
            "  inflating: chase_db_384_384_dice_bce_0_4__hvr_0_4_1/split_2/train/mask/_Image_02L_1_7.png  \n",
            "  inflating: chase_db_384_384_dice_bce_0_4__hvr_0_4_1/split_2/train/mask/_Image_03L_1_0.png  \n",
            "  inflating: chase_db_384_384_dice_bce_0_4__hvr_0_4_1/split_2/train/mask/_Image_02L_3_1.png  \n",
            "  inflating: chase_db_384_384_dice_bce_0_4__hvr_0_4_1/split_2/train/mask/_Image_10L_3_2.png  \n",
            "  inflating: chase_db_384_384_dice_bce_0_4__hvr_0_4_1/split_2/train/mask/_Image_09R_3_2.png  \n",
            "  inflating: chase_db_384_384_dice_bce_0_4__hvr_0_4_1/split_2/train/mask/_Image_07R_2_0.png  \n",
            "  inflating: chase_db_384_384_dice_bce_0_4__hvr_0_4_1/split_2/train/mask/_Image_14R_1_4.png  \n",
            "  inflating: chase_db_384_384_dice_bce_0_4__hvr_0_4_1/split_2/train/mask/_Image_02R_3_3.png  \n",
            "  inflating: chase_db_384_384_dice_bce_0_4__hvr_0_4_1/split_2/train/mask/_Image_02L_2_6.png  \n",
            "  inflating: chase_db_384_384_dice_bce_0_4__hvr_0_4_1/split_2/train/mask/_Image_05R_3_4.png  \n",
            "  inflating: chase_db_384_384_dice_bce_0_4__hvr_0_4_1/split_2/train/mask/_Image_05L_2_8.png  \n",
            "  inflating: chase_db_384_384_dice_bce_0_4__hvr_0_4_1/split_2/train/mask/_Image_01L_0_7.png  \n",
            "  inflating: chase_db_384_384_dice_bce_0_4__hvr_0_4_1/split_2/train/mask/_Image_06L_2_2.png  \n",
            "  inflating: chase_db_384_384_dice_bce_0_4__hvr_0_4_1/split_2/train/mask/_Image_09L_2_3.png  \n",
            "  inflating: chase_db_384_384_dice_bce_0_4__hvr_0_4_1/split_2/train/mask/_Image_04R_3_6.png  \n",
            "  inflating: chase_db_384_384_dice_bce_0_4__hvr_0_4_1/split_2/train/mask/_Image_14L_2_5.png  \n",
            "  inflating: chase_db_384_384_dice_bce_0_4__hvr_0_4_1/split_2/train/mask/_Image_09R_3_3.png  \n",
            "  inflating: chase_db_384_384_dice_bce_0_4__hvr_0_4_1/split_2/train/mask/_Image_07L_3_1.png  \n",
            "  inflating: chase_db_384_384_dice_bce_0_4__hvr_0_4_1/split_2/train/mask/_Image_08L_3_3.png  \n",
            "  inflating: chase_db_384_384_dice_bce_0_4__hvr_0_4_1/split_2/train/mask/_Image_08R_0_8.png  \n",
            "  inflating: chase_db_384_384_dice_bce_0_4__hvr_0_4_1/split_2/train/mask/_Image_08L_3_1.png  \n",
            "  inflating: chase_db_384_384_dice_bce_0_4__hvr_0_4_1/split_2/train/mask/_Image_10L_1_1.png  \n",
            "  inflating: chase_db_384_384_dice_bce_0_4__hvr_0_4_1/split_2/train/mask/_Image_06R_0_3.png  \n",
            "  inflating: chase_db_384_384_dice_bce_0_4__hvr_0_4_1/split_2/train/mask/_Image_14L_2_6.png  \n",
            "  inflating: chase_db_384_384_dice_bce_0_4__hvr_0_4_1/split_2/train/mask/_Image_01R_2_4.png  \n",
            "  inflating: chase_db_384_384_dice_bce_0_4__hvr_0_4_1/split_2/train/mask/_Image_04L_1_0.png  \n",
            "  inflating: chase_db_384_384_dice_bce_0_4__hvr_0_4_1/split_2/train/mask/_Image_08R_1_4.png  \n",
            "  inflating: chase_db_384_384_dice_bce_0_4__hvr_0_4_1/split_2/train/mask/_Image_10L_0_4.png  \n",
            "  inflating: chase_db_384_384_dice_bce_0_4__hvr_0_4_1/split_2/train/mask/_Image_13R_0_5.png  \n",
            "  inflating: chase_db_384_384_dice_bce_0_4__hvr_0_4_1/split_2/train/mask/_Image_08R_2_3.png  \n",
            "  inflating: chase_db_384_384_dice_bce_0_4__hvr_0_4_1/split_2/train/mask/_Image_10R_3_8.png  \n",
            "  inflating: chase_db_384_384_dice_bce_0_4__hvr_0_4_1/split_2/train/mask/_Image_01L_2_6.png  \n",
            "  inflating: chase_db_384_384_dice_bce_0_4__hvr_0_4_1/split_2/train/mask/_Image_04L_1_8.png  \n",
            "  inflating: chase_db_384_384_dice_bce_0_4__hvr_0_4_1/split_2/train/mask/_Image_08R_2_8.png  \n",
            "  inflating: chase_db_384_384_dice_bce_0_4__hvr_0_4_1/split_2/train/mask/_Image_01L_0_4.png  \n",
            "  inflating: chase_db_384_384_dice_bce_0_4__hvr_0_4_1/split_2/train/mask/_Image_07R_1_5.png  \n",
            "  inflating: chase_db_384_384_dice_bce_0_4__hvr_0_4_1/split_2/train/mask/_Image_07R_1_7.png  \n",
            "  inflating: chase_db_384_384_dice_bce_0_4__hvr_0_4_1/split_2/train/mask/_Image_06L_2_7.png  \n",
            "  inflating: chase_db_384_384_dice_bce_0_4__hvr_0_4_1/split_2/train/mask/_Image_14L_3_5.png  \n",
            "  inflating: chase_db_384_384_dice_bce_0_4__hvr_0_4_1/split_2/train/mask/_Image_01R_1_2.png  \n",
            "  inflating: chase_db_384_384_dice_bce_0_4__hvr_0_4_1/split_2/train/mask/_Image_05L_3_4.png  \n",
            "  inflating: chase_db_384_384_dice_bce_0_4__hvr_0_4_1/split_2/train/mask/_Image_07L_1_6.png  \n",
            "  inflating: chase_db_384_384_dice_bce_0_4__hvr_0_4_1/split_2/train/mask/_Image_14R_2_1.png  \n",
            "  inflating: chase_db_384_384_dice_bce_0_4__hvr_0_4_1/split_2/train/mask/_Image_01L_2_2.png  \n",
            "  inflating: chase_db_384_384_dice_bce_0_4__hvr_0_4_1/split_2/train/mask/_Image_01R_1_4.png  \n",
            "  inflating: chase_db_384_384_dice_bce_0_4__hvr_0_4_1/split_2/train/mask/_Image_07L_0_3.png  \n",
            "  inflating: chase_db_384_384_dice_bce_0_4__hvr_0_4_1/split_2/train/mask/_Image_05R_1_4.png  \n",
            "  inflating: chase_db_384_384_dice_bce_0_4__hvr_0_4_1/split_2/train/mask/_Image_08R_3_7.png  \n",
            "  inflating: chase_db_384_384_dice_bce_0_4__hvr_0_4_1/split_2/train/mask/_Image_03L_2_7.png  \n",
            "  inflating: chase_db_384_384_dice_bce_0_4__hvr_0_4_1/split_2/train/mask/_Image_06L_1_4.png  \n",
            "  inflating: chase_db_384_384_dice_bce_0_4__hvr_0_4_1/split_2/train/mask/_Image_09L_3_6.png  \n",
            "  inflating: chase_db_384_384_dice_bce_0_4__hvr_0_4_1/split_2/train/mask/_Image_09L_2_6.png  \n",
            "  inflating: chase_db_384_384_dice_bce_0_4__hvr_0_4_1/split_2/train/mask/_Image_07R_3_6.png  \n",
            "  inflating: chase_db_384_384_dice_bce_0_4__hvr_0_4_1/split_2/train/mask/_Image_06R_0_4.png  \n",
            "  inflating: chase_db_384_384_dice_bce_0_4__hvr_0_4_1/split_2/train/mask/_Image_02R_2_3.png  \n",
            "  inflating: chase_db_384_384_dice_bce_0_4__hvr_0_4_1/split_2/train/mask/_Image_05L_0_1.png  \n",
            "  inflating: chase_db_384_384_dice_bce_0_4__hvr_0_4_1/split_2/train/mask/_Image_13R_2_3.png  \n",
            "  inflating: chase_db_384_384_dice_bce_0_4__hvr_0_4_1/split_2/train/mask/_Image_03R_1_2.png  \n",
            "  inflating: chase_db_384_384_dice_bce_0_4__hvr_0_4_1/split_2/train/mask/_Image_14L_1_5.png  \n",
            "  inflating: chase_db_384_384_dice_bce_0_4__hvr_0_4_1/split_2/train/mask/_Image_06L_2_5.png  \n",
            "  inflating: chase_db_384_384_dice_bce_0_4__hvr_0_4_1/split_2/train/mask/_Image_09R_0_6.png  \n",
            "  inflating: chase_db_384_384_dice_bce_0_4__hvr_0_4_1/split_2/train/mask/_Image_01R_2_6.png  \n",
            "  inflating: chase_db_384_384_dice_bce_0_4__hvr_0_4_1/split_2/train/mask/_Image_10R_1_4.png  \n",
            "  inflating: chase_db_384_384_dice_bce_0_4__hvr_0_4_1/split_2/train/mask/_Image_14R_3_7.png  \n",
            "  inflating: chase_db_384_384_dice_bce_0_4__hvr_0_4_1/split_2/train/mask/_Image_02L_1_1.png  \n",
            "  inflating: chase_db_384_384_dice_bce_0_4__hvr_0_4_1/split_2/train/mask/_Image_06R_2_1.png  \n",
            "  inflating: chase_db_384_384_dice_bce_0_4__hvr_0_4_1/split_2/train/mask/_Image_07R_3_1.png  \n",
            "  inflating: chase_db_384_384_dice_bce_0_4__hvr_0_4_1/split_2/train/mask/_Image_01R_3_6.png  \n",
            "  inflating: chase_db_384_384_dice_bce_0_4__hvr_0_4_1/split_2/train/mask/_Image_03R_0_1.png  \n",
            "  inflating: chase_db_384_384_dice_bce_0_4__hvr_0_4_1/split_2/train/mask/_Image_02R_3_8.png  \n",
            "  inflating: chase_db_384_384_dice_bce_0_4__hvr_0_4_1/split_2/train/mask/_Image_01R_2_7.png  \n",
            "  inflating: chase_db_384_384_dice_bce_0_4__hvr_0_4_1/split_2/train/mask/_Image_04L_0_1.png  \n",
            "  inflating: chase_db_384_384_dice_bce_0_4__hvr_0_4_1/split_2/train/mask/_Image_03R_1_1.png  \n",
            "  inflating: chase_db_384_384_dice_bce_0_4__hvr_0_4_1/split_2/train/mask/_Image_10L_1_8.png  \n",
            "  inflating: chase_db_384_384_dice_bce_0_4__hvr_0_4_1/split_2/train/mask/_Image_08R_3_1.png  \n",
            "  inflating: chase_db_384_384_dice_bce_0_4__hvr_0_4_1/split_2/train/mask/_Image_10R_3_7.png  \n",
            "  inflating: chase_db_384_384_dice_bce_0_4__hvr_0_4_1/split_2/train/mask/_Image_09L_3_1.png  \n",
            "  inflating: chase_db_384_384_dice_bce_0_4__hvr_0_4_1/split_2/train/mask/_Image_01L_0_0.png  \n",
            "  inflating: chase_db_384_384_dice_bce_0_4__hvr_0_4_1/split_2/train/mask/_Image_14L_1_4.png  \n",
            "  inflating: chase_db_384_384_dice_bce_0_4__hvr_0_4_1/split_2/train/mask/_Image_08R_1_8.png  \n",
            "  inflating: chase_db_384_384_dice_bce_0_4__hvr_0_4_1/split_2/train/mask/_Image_04R_1_8.png  \n",
            "  inflating: chase_db_384_384_dice_bce_0_4__hvr_0_4_1/split_2/train/mask/_Image_04L_3_5.png  \n",
            "  inflating: chase_db_384_384_dice_bce_0_4__hvr_0_4_1/split_2/train/mask/_Image_07L_1_7.png  \n",
            "  inflating: chase_db_384_384_dice_bce_0_4__hvr_0_4_1/split_2/train/mask/_Image_14R_3_5.png  \n",
            "  inflating: chase_db_384_384_dice_bce_0_4__hvr_0_4_1/split_2/train/mask/_Image_02L_1_5.png  \n",
            "  inflating: chase_db_384_384_dice_bce_0_4__hvr_0_4_1/split_2/train/mask/_Image_03L_1_4.png  \n",
            "  inflating: chase_db_384_384_dice_bce_0_4__hvr_0_4_1/split_2/train/mask/_Image_08R_0_3.png  \n",
            "  inflating: chase_db_384_384_dice_bce_0_4__hvr_0_4_1/split_2/train/mask/_Image_10R_3_6.png  \n",
            "  inflating: chase_db_384_384_dice_bce_0_4__hvr_0_4_1/split_2/train/mask/_Image_02R_3_7.png  \n",
            "  inflating: chase_db_384_384_dice_bce_0_4__hvr_0_4_1/split_2/train/mask/_Image_04R_2_8.png  \n",
            "  inflating: chase_db_384_384_dice_bce_0_4__hvr_0_4_1/split_2/train/mask/_Image_09R_0_5.png  \n",
            "  inflating: chase_db_384_384_dice_bce_0_4__hvr_0_4_1/split_2/train/mask/_Image_05R_3_3.png  \n",
            "  inflating: chase_db_384_384_dice_bce_0_4__hvr_0_4_1/split_2/train/mask/_Image_07L_2_6.png  \n",
            "  inflating: chase_db_384_384_dice_bce_0_4__hvr_0_4_1/split_2/train/mask/_Image_02R_2_7.png  \n",
            "  inflating: chase_db_384_384_dice_bce_0_4__hvr_0_4_1/split_2/train/mask/_Image_05R_0_0.png  \n",
            "  inflating: chase_db_384_384_dice_bce_0_4__hvr_0_4_1/split_2/train/mask/_Image_01L_3_4.png  \n",
            "  inflating: chase_db_384_384_dice_bce_0_4__hvr_0_4_1/split_2/train/mask/_Image_04L_3_8.png  \n",
            "  inflating: chase_db_384_384_dice_bce_0_4__hvr_0_4_1/split_2/train/mask/_Image_14R_2_4.png  \n",
            "  inflating: chase_db_384_384_dice_bce_0_4__hvr_0_4_1/split_2/train/mask/_Image_07L_0_7.png  \n",
            "  inflating: chase_db_384_384_dice_bce_0_4__hvr_0_4_1/split_2/train/mask/_Image_02R_1_1.png  \n",
            "  inflating: chase_db_384_384_dice_bce_0_4__hvr_0_4_1/split_2/train/mask/_Image_03L_0_7.png  \n",
            "  inflating: chase_db_384_384_dice_bce_0_4__hvr_0_4_1/split_2/train/mask/_Image_09L_1_3.png  \n",
            "  inflating: chase_db_384_384_dice_bce_0_4__hvr_0_4_1/split_2/train/mask/_Image_02R_0_3.png  \n",
            "  inflating: chase_db_384_384_dice_bce_0_4__hvr_0_4_1/split_2/train/mask/_Image_01L_2_3.png  \n",
            "  inflating: chase_db_384_384_dice_bce_0_4__hvr_0_4_1/split_2/train/mask/_Image_01L_3_2.png  \n",
            "  inflating: chase_db_384_384_dice_bce_0_4__hvr_0_4_1/split_2/train/mask/_Image_07R_0_3.png  \n",
            "  inflating: chase_db_384_384_dice_bce_0_4__hvr_0_4_1/split_2/train/mask/_Image_05L_2_4.png  \n",
            "  inflating: chase_db_384_384_dice_bce_0_4__hvr_0_4_1/split_2/train/mask/_Image_02R_1_2.png  \n",
            "  inflating: chase_db_384_384_dice_bce_0_4__hvr_0_4_1/split_2/train/mask/_Image_03L_3_7.png  \n",
            "  inflating: chase_db_384_384_dice_bce_0_4__hvr_0_4_1/split_2/train/mask/_Image_08L_0_4.png  \n",
            "  inflating: chase_db_384_384_dice_bce_0_4__hvr_0_4_1/split_2/train/mask/_Image_04L_2_0.png  \n",
            "  inflating: chase_db_384_384_dice_bce_0_4__hvr_0_4_1/split_2/train/mask/_Image_06L_0_0.png  \n",
            "  inflating: chase_db_384_384_dice_bce_0_4__hvr_0_4_1/split_2/train/mask/_Image_03R_3_3.png  \n",
            "  inflating: chase_db_384_384_dice_bce_0_4__hvr_0_4_1/split_2/train/mask/_Image_08R_3_2.png  \n",
            "  inflating: chase_db_384_384_dice_bce_0_4__hvr_0_4_1/split_2/train/mask/_Image_04L_1_7.png  \n",
            "  inflating: chase_db_384_384_dice_bce_0_4__hvr_0_4_1/split_2/train/mask/_Image_14R_1_8.png  \n",
            "  inflating: chase_db_384_384_dice_bce_0_4__hvr_0_4_1/split_2/train/mask/_Image_09R_2_2.png  \n",
            "  inflating: chase_db_384_384_dice_bce_0_4__hvr_0_4_1/split_2/train/mask/_Image_07L_2_7.png  \n",
            "  inflating: chase_db_384_384_dice_bce_0_4__hvr_0_4_1/split_2/train/mask/_Image_02L_1_6.png  \n",
            "  inflating: chase_db_384_384_dice_bce_0_4__hvr_0_4_1/split_2/train/mask/_Image_02L_1_8.png  \n",
            "  inflating: chase_db_384_384_dice_bce_0_4__hvr_0_4_1/split_2/train/mask/_Image_14R_0_4.png  \n",
            "  inflating: chase_db_384_384_dice_bce_0_4__hvr_0_4_1/split_2/train/mask/_Image_13R_1_3.png  \n",
            "  inflating: chase_db_384_384_dice_bce_0_4__hvr_0_4_1/split_2/train/mask/_Image_07L_1_4.png  \n",
            "  inflating: chase_db_384_384_dice_bce_0_4__hvr_0_4_1/split_2/train/mask/_Image_04R_0_4.png  \n",
            "  inflating: chase_db_384_384_dice_bce_0_4__hvr_0_4_1/split_2/train/mask/_Image_07L_0_2.png  \n",
            "  inflating: chase_db_384_384_dice_bce_0_4__hvr_0_4_1/split_2/train/mask/_Image_06R_3_1.png  \n",
            "  inflating: chase_db_384_384_dice_bce_0_4__hvr_0_4_1/split_2/train/mask/_Image_03L_0_3.png  \n",
            "  inflating: chase_db_384_384_dice_bce_0_4__hvr_0_4_1/split_2/train/mask/_Image_01L_1_0.png  \n",
            "  inflating: chase_db_384_384_dice_bce_0_4__hvr_0_4_1/split_2/train/mask/_Image_04R_3_8.png  \n",
            "  inflating: chase_db_384_384_dice_bce_0_4__hvr_0_4_1/split_2/train/mask/_Image_07L_0_6.png  \n",
            "  inflating: chase_db_384_384_dice_bce_0_4__hvr_0_4_1/split_2/train/mask/_Image_13R_1_0.png  \n",
            "  inflating: chase_db_384_384_dice_bce_0_4__hvr_0_4_1/split_2/train/mask/_Image_14R_3_4.png  \n",
            "  inflating: chase_db_384_384_dice_bce_0_4__hvr_0_4_1/split_2/train/mask/_Image_04L_3_2.png  \n",
            "  inflating: chase_db_384_384_dice_bce_0_4__hvr_0_4_1/split_2/train/mask/_Image_04L_0_4.png  \n",
            "  inflating: chase_db_384_384_dice_bce_0_4__hvr_0_4_1/split_2/train/mask/_Image_10R_2_3.png  \n",
            "  inflating: chase_db_384_384_dice_bce_0_4__hvr_0_4_1/split_2/train/mask/_Image_10R_0_3.png  \n",
            "  inflating: chase_db_384_384_dice_bce_0_4__hvr_0_4_1/split_2/train/mask/_Image_06R_2_8.png  \n",
            "  inflating: chase_db_384_384_dice_bce_0_4__hvr_0_4_1/split_2/train/mask/_Image_10L_1_4.png  \n",
            "  inflating: chase_db_384_384_dice_bce_0_4__hvr_0_4_1/split_2/train/mask/_Image_06R_3_0.png  \n",
            "  inflating: chase_db_384_384_dice_bce_0_4__hvr_0_4_1/split_2/train/mask/_Image_03R_1_7.png  \n",
            "  inflating: chase_db_384_384_dice_bce_0_4__hvr_0_4_1/split_2/train/mask/_Image_07R_0_6.png  \n",
            "  inflating: chase_db_384_384_dice_bce_0_4__hvr_0_4_1/split_2/train/mask/_Image_06R_3_2.png  \n",
            "  inflating: chase_db_384_384_dice_bce_0_4__hvr_0_4_1/split_2/train/mask/_Image_02R_2_0.png  \n",
            "  inflating: chase_db_384_384_dice_bce_0_4__hvr_0_4_1/split_2/train/mask/_Image_03R_0_4.png  \n",
            "  inflating: chase_db_384_384_dice_bce_0_4__hvr_0_4_1/split_2/train/mask/_Image_05L_0_3.png  \n",
            "  inflating: chase_db_384_384_dice_bce_0_4__hvr_0_4_1/split_2/train/mask/_Image_02L_2_4.png  \n",
            "  inflating: chase_db_384_384_dice_bce_0_4__hvr_0_4_1/split_2/train/mask/_Image_04R_2_2.png  \n",
            "  inflating: chase_db_384_384_dice_bce_0_4__hvr_0_4_1/split_2/train/mask/_Image_13R_2_4.png  \n",
            "  inflating: chase_db_384_384_dice_bce_0_4__hvr_0_4_1/split_2/train/mask/_Image_07L_3_6.png  \n",
            "  inflating: chase_db_384_384_dice_bce_0_4__hvr_0_4_1/split_2/train/mask/_Image_05L_1_7.png  \n",
            "  inflating: chase_db_384_384_dice_bce_0_4__hvr_0_4_1/split_2/train/mask/_Image_04L_2_4.png  \n",
            "  inflating: chase_db_384_384_dice_bce_0_4__hvr_0_4_1/split_2/train/mask/_Image_03L_1_5.png  \n",
            "  inflating: chase_db_384_384_dice_bce_0_4__hvr_0_4_1/split_2/train/mask/_Image_01L_3_5.png  \n",
            "  inflating: chase_db_384_384_dice_bce_0_4__hvr_0_4_1/split_2/train/mask/_Image_09L_0_8.png  \n",
            "  inflating: chase_db_384_384_dice_bce_0_4__hvr_0_4_1/split_2/train/mask/_Image_09R_3_5.png  \n",
            "  inflating: chase_db_384_384_dice_bce_0_4__hvr_0_4_1/split_2/train/mask/_Image_14L_0_5.png  \n",
            "  inflating: chase_db_384_384_dice_bce_0_4__hvr_0_4_1/split_2/train/mask/_Image_09R_0_1.png  \n",
            "  inflating: chase_db_384_384_dice_bce_0_4__hvr_0_4_1/split_2/train/mask/_Image_14R_3_0.png  \n",
            "  inflating: chase_db_384_384_dice_bce_0_4__hvr_0_4_1/split_2/train/mask/_Image_03R_0_2.png  \n",
            "  inflating: chase_db_384_384_dice_bce_0_4__hvr_0_4_1/split_2/train/mask/_Image_04R_0_6.png  \n",
            "  inflating: chase_db_384_384_dice_bce_0_4__hvr_0_4_1/split_2/train/mask/_Image_01R_0_1.png  \n",
            "  inflating: chase_db_384_384_dice_bce_0_4__hvr_0_4_1/split_2/train/mask/_Image_09R_2_8.png  \n",
            "  inflating: chase_db_384_384_dice_bce_0_4__hvr_0_4_1/split_2/train/mask/_Image_05R_0_4.png  \n",
            "  inflating: chase_db_384_384_dice_bce_0_4__hvr_0_4_1/split_2/train/mask/_Image_01R_3_4.png  \n",
            "  inflating: chase_db_384_384_dice_bce_0_4__hvr_0_4_1/split_2/train/mask/_Image_01L_0_2.png  \n",
            "  inflating: chase_db_384_384_dice_bce_0_4__hvr_0_4_1/split_2/train/mask/_Image_02L_3_4.png  \n",
            "  inflating: chase_db_384_384_dice_bce_0_4__hvr_0_4_1/split_2/train/mask/_Image_04R_2_0.png  \n",
            "  inflating: chase_db_384_384_dice_bce_0_4__hvr_0_4_1/split_2/train/mask/_Image_06L_3_5.png  \n",
            "  inflating: chase_db_384_384_dice_bce_0_4__hvr_0_4_1/split_2/train/mask/_Image_04L_3_6.png  \n",
            "  inflating: chase_db_384_384_dice_bce_0_4__hvr_0_4_1/split_2/train/mask/_Image_01R_0_8.png  \n",
            "  inflating: chase_db_384_384_dice_bce_0_4__hvr_0_4_1/split_2/train/mask/_Image_02L_3_7.png  \n",
            "  inflating: chase_db_384_384_dice_bce_0_4__hvr_0_4_1/split_2/train/mask/_Image_09L_1_7.png  \n",
            "  inflating: chase_db_384_384_dice_bce_0_4__hvr_0_4_1/split_2/train/mask/_Image_06L_2_0.png  \n",
            "  inflating: chase_db_384_384_dice_bce_0_4__hvr_0_4_1/split_2/train/mask/_Image_09L_0_5.png  \n",
            "  inflating: chase_db_384_384_dice_bce_0_4__hvr_0_4_1/split_2/train/mask/_Image_07L_2_5.png  \n",
            "  inflating: chase_db_384_384_dice_bce_0_4__hvr_0_4_1/split_2/train/mask/_Image_05R_0_7.png  \n",
            "  inflating: chase_db_384_384_dice_bce_0_4__hvr_0_4_1/split_2/train/mask/_Image_01L_2_5.png  \n",
            "  inflating: chase_db_384_384_dice_bce_0_4__hvr_0_4_1/split_2/train/mask/_Image_07L_1_5.png  \n",
            "  inflating: chase_db_384_384_dice_bce_0_4__hvr_0_4_1/split_2/train/mask/_Image_06R_2_7.png  \n",
            "  inflating: chase_db_384_384_dice_bce_0_4__hvr_0_4_1/split_2/train/mask/_Image_04R_2_1.png  \n",
            "  inflating: chase_db_384_384_dice_bce_0_4__hvr_0_4_1/split_2/train/mask/_Image_05L_0_4.png  \n",
            "  inflating: chase_db_384_384_dice_bce_0_4__hvr_0_4_1/split_2/train/mask/_Image_10R_0_6.png  \n",
            "  inflating: chase_db_384_384_dice_bce_0_4__hvr_0_4_1/split_2/train/mask/_Image_08R_1_3.png  \n",
            "  inflating: chase_db_384_384_dice_bce_0_4__hvr_0_4_1/split_2/train/mask/_Image_14L_1_3.png  \n",
            "  inflating: chase_db_384_384_dice_bce_0_4__hvr_0_4_1/split_2/train/mask/_Image_06R_1_2.png  \n",
            "  inflating: chase_db_384_384_dice_bce_0_4__hvr_0_4_1/split_2/train/mask/_Image_14R_2_3.png  \n",
            "  inflating: chase_db_384_384_dice_bce_0_4__hvr_0_4_1/split_2/train/mask/_Image_07R_2_7.png  \n",
            "  inflating: chase_db_384_384_dice_bce_0_4__hvr_0_4_1/split_2/train/mask/_Image_05R_2_5.png  \n",
            "  inflating: chase_db_384_384_dice_bce_0_4__hvr_0_4_1/split_2/train/mask/_Image_10R_2_1.png  \n",
            "  inflating: chase_db_384_384_dice_bce_0_4__hvr_0_4_1/split_2/train/mask/_Image_14R_1_1.png  \n",
            "  inflating: chase_db_384_384_dice_bce_0_4__hvr_0_4_1/split_2/train/mask/_Image_03L_2_8.png  \n",
            "  inflating: chase_db_384_384_dice_bce_0_4__hvr_0_4_1/split_2/train/mask/_Image_05L_2_0.png  \n",
            "  inflating: chase_db_384_384_dice_bce_0_4__hvr_0_4_1/split_2/train/mask/_Image_08L_0_0.png  \n",
            "  inflating: chase_db_384_384_dice_bce_0_4__hvr_0_4_1/split_2/train/mask/_Image_02L_1_3.png  \n",
            "  inflating: chase_db_384_384_dice_bce_0_4__hvr_0_4_1/split_2/train/mask/_Image_07L_0_1.png  \n",
            "  inflating: chase_db_384_384_dice_bce_0_4__hvr_0_4_1/split_2/train/mask/_Image_08R_2_0.png  \n",
            "  inflating: chase_db_384_384_dice_bce_0_4__hvr_0_4_1/split_2/train/mask/_Image_02L_2_8.png  \n",
            "  inflating: chase_db_384_384_dice_bce_0_4__hvr_0_4_1/split_2/train/mask/_Image_03L_3_8.png  \n",
            "  inflating: chase_db_384_384_dice_bce_0_4__hvr_0_4_1/split_2/train/mask/_Image_05L_3_8.png  \n",
            "  inflating: chase_db_384_384_dice_bce_0_4__hvr_0_4_1/split_2/train/mask/_Image_08R_2_5.png  \n",
            "  inflating: chase_db_384_384_dice_bce_0_4__hvr_0_4_1/split_2/train/mask/_Image_05R_1_2.png  \n",
            "  inflating: chase_db_384_384_dice_bce_0_4__hvr_0_4_1/split_2/train/mask/_Image_13R_1_2.png  \n",
            "  inflating: chase_db_384_384_dice_bce_0_4__hvr_0_4_1/split_2/train/mask/_Image_06R_2_0.png  \n",
            "  inflating: chase_db_384_384_dice_bce_0_4__hvr_0_4_1/split_2/train/mask/_Image_08L_2_6.png  \n",
            "  inflating: chase_db_384_384_dice_bce_0_4__hvr_0_4_1/split_2/train/mask/_Image_09L_3_5.png  \n",
            "  inflating: chase_db_384_384_dice_bce_0_4__hvr_0_4_1/split_2/train/mask/_Image_10L_2_1.png  \n",
            "  inflating: chase_db_384_384_dice_bce_0_4__hvr_0_4_1/split_2/train/mask/_Image_10R_3_1.png  \n",
            "  inflating: chase_db_384_384_dice_bce_0_4__hvr_0_4_1/split_2/train/mask/_Image_07L_1_3.png  \n",
            "  inflating: chase_db_384_384_dice_bce_0_4__hvr_0_4_1/split_2/train/mask/_Image_07L_3_3.png  \n",
            "  inflating: chase_db_384_384_dice_bce_0_4__hvr_0_4_1/split_2/train/mask/_Image_05L_1_5.png  \n",
            "  inflating: chase_db_384_384_dice_bce_0_4__hvr_0_4_1/split_2/train/mask/_Image_14R_0_3.png  \n",
            "  inflating: chase_db_384_384_dice_bce_0_4__hvr_0_4_1/split_2/train/mask/_Image_02L_3_5.png  \n",
            "  inflating: chase_db_384_384_dice_bce_0_4__hvr_0_4_1/split_2/train/mask/_Image_07R_1_3.png  \n",
            "  inflating: chase_db_384_384_dice_bce_0_4__hvr_0_4_1/split_2/train/mask/_Image_03R_0_5.png  \n",
            "  inflating: chase_db_384_384_dice_bce_0_4__hvr_0_4_1/split_2/train/mask/_Image_06R_0_6.png  \n",
            "  inflating: chase_db_384_384_dice_bce_0_4__hvr_0_4_1/split_2/train/mask/_Image_01L_3_3.png  \n",
            "  inflating: chase_db_384_384_dice_bce_0_4__hvr_0_4_1/split_2/train/mask/_Image_10L_0_8.png  \n",
            "  inflating: chase_db_384_384_dice_bce_0_4__hvr_0_4_1/split_2/train/mask/_Image_06L_0_5.png  \n",
            "  inflating: chase_db_384_384_dice_bce_0_4__hvr_0_4_1/split_2/train/mask/_Image_14L_0_0.png  \n",
            "  inflating: chase_db_384_384_dice_bce_0_4__hvr_0_4_1/split_2/train/mask/_Image_01L_2_8.png  \n",
            "  inflating: chase_db_384_384_dice_bce_0_4__hvr_0_4_1/split_2/train/mask/_Image_04R_1_4.png  \n",
            "  inflating: chase_db_384_384_dice_bce_0_4__hvr_0_4_1/split_2/train/mask/_Image_04R_3_3.png  \n",
            "  inflating: chase_db_384_384_dice_bce_0_4__hvr_0_4_1/split_2/train/mask/_Image_02L_2_5.png  \n",
            "  inflating: chase_db_384_384_dice_bce_0_4__hvr_0_4_1/split_2/train/mask/_Image_09L_2_0.png  \n",
            "  inflating: chase_db_384_384_dice_bce_0_4__hvr_0_4_1/split_2/train/mask/_Image_04R_2_7.png  \n",
            "  inflating: chase_db_384_384_dice_bce_0_4__hvr_0_4_1/split_2/train/mask/_Image_06R_3_7.png  \n",
            "  inflating: chase_db_384_384_dice_bce_0_4__hvr_0_4_1/split_2/train/mask/_Image_08R_3_0.png  \n",
            "  inflating: chase_db_384_384_dice_bce_0_4__hvr_0_4_1/split_2/train/mask/_Image_09R_2_7.png  \n",
            "  inflating: chase_db_384_384_dice_bce_0_4__hvr_0_4_1/split_2/train/mask/_Image_02L_0_5.png  \n",
            "  inflating: chase_db_384_384_dice_bce_0_4__hvr_0_4_1/split_2/train/mask/_Image_08R_1_5.png  \n",
            "  inflating: chase_db_384_384_dice_bce_0_4__hvr_0_4_1/split_2/train/mask/_Image_02R_3_4.png  \n",
            "  inflating: chase_db_384_384_dice_bce_0_4__hvr_0_4_1/split_2/train/mask/_Image_01R_0_6.png  \n",
            "  inflating: chase_db_384_384_dice_bce_0_4__hvr_0_4_1/split_2/train/mask/_Image_07L_3_7.png  \n",
            "  inflating: chase_db_384_384_dice_bce_0_4__hvr_0_4_1/split_2/train/mask/_Image_05R_3_7.png  \n",
            "  inflating: chase_db_384_384_dice_bce_0_4__hvr_0_4_1/split_2/train/mask/_Image_06L_0_7.png  \n",
            "  inflating: chase_db_384_384_dice_bce_0_4__hvr_0_4_1/split_2/train/mask/_Image_03R_3_6.png  \n",
            "  inflating: chase_db_384_384_dice_bce_0_4__hvr_0_4_1/split_2/train/mask/_Image_04R_1_6.png  \n",
            "  inflating: chase_db_384_384_dice_bce_0_4__hvr_0_4_1/split_2/train/mask/_Image_06L_3_0.png  \n",
            "  inflating: chase_db_384_384_dice_bce_0_4__hvr_0_4_1/split_2/train/mask/_Image_03R_2_5.png  \n",
            "  inflating: chase_db_384_384_dice_bce_0_4__hvr_0_4_1/split_2/train/mask/_Image_09R_0_2.png  \n",
            "  inflating: chase_db_384_384_dice_bce_0_4__hvr_0_4_1/split_2/train/mask/_Image_04L_2_6.png  \n",
            "  inflating: chase_db_384_384_dice_bce_0_4__hvr_0_4_1/split_2/train/mask/_Image_01L_1_8.png  \n",
            "  inflating: chase_db_384_384_dice_bce_0_4__hvr_0_4_1/split_2/train/mask/_Image_06R_3_3.png  \n",
            "  inflating: chase_db_384_384_dice_bce_0_4__hvr_0_4_1/split_2/train/mask/_Image_14R_2_7.png  \n",
            "  inflating: chase_db_384_384_dice_bce_0_4__hvr_0_4_1/split_2/train/mask/_Image_02L_0_2.png  \n",
            "  inflating: chase_db_384_384_dice_bce_0_4__hvr_0_4_1/split_2/train/mask/_Image_06R_2_5.png  \n",
            "  inflating: chase_db_384_384_dice_bce_0_4__hvr_0_4_1/split_2/train/mask/_Image_01R_3_8.png  \n",
            "  inflating: chase_db_384_384_dice_bce_0_4__hvr_0_4_1/split_2/train/mask/_Image_14R_0_2.png  \n",
            "  inflating: chase_db_384_384_dice_bce_0_4__hvr_0_4_1/split_2/train/mask/_Image_03L_1_6.png  \n",
            "  inflating: chase_db_384_384_dice_bce_0_4__hvr_0_4_1/split_2/train/mask/_Image_10L_1_0.png  \n",
            "  inflating: chase_db_384_384_dice_bce_0_4__hvr_0_4_1/split_2/train/mask/_Image_01L_2_0.png  \n",
            "  inflating: chase_db_384_384_dice_bce_0_4__hvr_0_4_1/split_2/train/mask/_Image_06R_1_3.png  \n",
            "  inflating: chase_db_384_384_dice_bce_0_4__hvr_0_4_1/split_2/train/mask/_Image_02R_2_2.png  \n",
            "  inflating: chase_db_384_384_dice_bce_0_4__hvr_0_4_1/split_2/train/mask/_Image_14L_3_7.png  \n",
            "  inflating: chase_db_384_384_dice_bce_0_4__hvr_0_4_1/split_2/train/mask/_Image_06R_0_2.png  \n",
            "  inflating: chase_db_384_384_dice_bce_0_4__hvr_0_4_1/split_2/train/mask/_Image_14L_1_7.png  \n",
            "  inflating: chase_db_384_384_dice_bce_0_4__hvr_0_4_1/split_2/train/mask/_Image_07R_2_1.png  \n",
            "  inflating: chase_db_384_384_dice_bce_0_4__hvr_0_4_1/split_2/train/mask/_Image_14L_2_1.png  \n",
            "  inflating: chase_db_384_384_dice_bce_0_4__hvr_0_4_1/split_2/train/mask/_Image_14R_1_2.png  \n",
            "  inflating: chase_db_384_384_dice_bce_0_4__hvr_0_4_1/split_2/train/mask/_Image_06L_3_8.png  \n",
            "  inflating: chase_db_384_384_dice_bce_0_4__hvr_0_4_1/split_2/train/mask/_Image_08L_0_2.png  \n",
            "  inflating: chase_db_384_384_dice_bce_0_4__hvr_0_4_1/split_2/train/mask/_Image_07R_0_7.png  \n",
            "  inflating: chase_db_384_384_dice_bce_0_4__hvr_0_4_1/split_2/train/mask/_Image_02L_1_0.png  \n",
            "  inflating: chase_db_384_384_dice_bce_0_4__hvr_0_4_1/split_2/train/mask/_Image_03R_2_1.png  \n",
            "  inflating: chase_db_384_384_dice_bce_0_4__hvr_0_4_1/split_2/train/mask/_Image_13R_2_6.png  \n",
            "  inflating: chase_db_384_384_dice_bce_0_4__hvr_0_4_1/split_2/train/mask/_Image_02R_2_8.png  \n",
            "  inflating: chase_db_384_384_dice_bce_0_4__hvr_0_4_1/split_2/train/mask/_Image_01R_0_0.png  \n",
            "  inflating: chase_db_384_384_dice_bce_0_4__hvr_0_4_1/split_2/train/mask/_Image_05L_0_6.png  \n",
            "  inflating: chase_db_384_384_dice_bce_0_4__hvr_0_4_1/split_2/train/mask/_Image_03L_3_2.png  \n",
            "  inflating: chase_db_384_384_dice_bce_0_4__hvr_0_4_1/split_2/train/mask/_Image_08L_2_4.png  \n",
            "  inflating: chase_db_384_384_dice_bce_0_4__hvr_0_4_1/split_2/train/mask/_Image_09L_1_1.png  \n",
            "  inflating: chase_db_384_384_dice_bce_0_4__hvr_0_4_1/split_2/train/mask/_Image_10R_1_3.png  \n",
            "  inflating: chase_db_384_384_dice_bce_0_4__hvr_0_4_1/split_2/train/mask/_Image_10R_3_4.png  \n",
            "  inflating: chase_db_384_384_dice_bce_0_4__hvr_0_4_1/split_2/train/mask/_Image_05R_2_0.png  \n",
            "  inflating: chase_db_384_384_dice_bce_0_4__hvr_0_4_1/split_2/train/mask/_Image_13R_1_4.png  \n",
            "  inflating: chase_db_384_384_dice_bce_0_4__hvr_0_4_1/split_2/train/mask/_Image_07R_3_7.png  \n",
            "  inflating: chase_db_384_384_dice_bce_0_4__hvr_0_4_1/split_2/train/mask/_Image_07L_3_0.png  \n",
            "  inflating: chase_db_384_384_dice_bce_0_4__hvr_0_4_1/split_2/train/mask/_Image_02L_3_0.png  \n",
            "  inflating: chase_db_384_384_dice_bce_0_4__hvr_0_4_1/split_2/train/mask/_Image_10L_2_4.png  \n",
            "  inflating: chase_db_384_384_dice_bce_0_4__hvr_0_4_1/split_2/train/mask/_Image_13R_3_8.png  \n",
            "  inflating: chase_db_384_384_dice_bce_0_4__hvr_0_4_1/split_2/train/mask/_Image_01R_0_3.png  \n",
            "  inflating: chase_db_384_384_dice_bce_0_4__hvr_0_4_1/split_2/train/mask/_Image_05R_0_3.png  \n",
            "  inflating: chase_db_384_384_dice_bce_0_4__hvr_0_4_1/split_2/train/mask/_Image_03L_0_0.png  \n",
            "  inflating: chase_db_384_384_dice_bce_0_4__hvr_0_4_1/split_2/train/mask/_Image_01L_2_4.png  \n",
            "  inflating: chase_db_384_384_dice_bce_0_4__hvr_0_4_1/split_2/train/mask/_Image_07L_0_5.png  \n",
            "  inflating: chase_db_384_384_dice_bce_0_4__hvr_0_4_1/split_2/train/mask/_Image_01L_3_0.png  \n",
            "  inflating: chase_db_384_384_dice_bce_0_4__hvr_0_4_1/split_2/train/mask/_Image_10L_1_2.png  \n",
            "  inflating: chase_db_384_384_dice_bce_0_4__hvr_0_4_1/split_2/train/mask/_Image_10R_0_4.png  \n",
            "  inflating: chase_db_384_384_dice_bce_0_4__hvr_0_4_1/split_2/train/mask/_Image_07L_3_5.png  \n",
            "  inflating: chase_db_384_384_dice_bce_0_4__hvr_0_4_1/split_2/train/mask/_Image_02R_0_5.png  \n",
            "  inflating: chase_db_384_384_dice_bce_0_4__hvr_0_4_1/split_2/train/mask/_Image_02R_1_7.png  \n",
            "  inflating: chase_db_384_384_dice_bce_0_4__hvr_0_4_1/split_2/train/mask/_Image_14L_2_4.png  \n",
            "  inflating: chase_db_384_384_dice_bce_0_4__hvr_0_4_1/split_2/train/mask/_Image_10L_2_3.png  \n",
            "  inflating: chase_db_384_384_dice_bce_0_4__hvr_0_4_1/split_2/train/mask/_Image_06R_3_8.png  \n",
            "  inflating: chase_db_384_384_dice_bce_0_4__hvr_0_4_1/split_2/train/mask/_Image_06R_1_7.png  \n",
            "  inflating: chase_db_384_384_dice_bce_0_4__hvr_0_4_1/split_2/train/mask/_Image_02R_0_4.png  \n",
            "  inflating: chase_db_384_384_dice_bce_0_4__hvr_0_4_1/split_2/train/mask/_Image_14L_3_2.png  \n",
            "  inflating: chase_db_384_384_dice_bce_0_4__hvr_0_4_1/split_2/train/mask/_Image_10R_1_5.png  \n",
            "  inflating: chase_db_384_384_dice_bce_0_4__hvr_0_4_1/split_2/train/mask/_Image_14L_0_6.png  \n",
            "  inflating: chase_db_384_384_dice_bce_0_4__hvr_0_4_1/split_2/train/mask/_Image_13R_3_2.png  \n",
            "  inflating: chase_db_384_384_dice_bce_0_4__hvr_0_4_1/split_2/train/mask/_Image_09R_0_0.png  \n",
            "  inflating: chase_db_384_384_dice_bce_0_4__hvr_0_4_1/split_2/train/mask/_Image_04R_1_3.png  \n",
            "  inflating: chase_db_384_384_dice_bce_0_4__hvr_0_4_1/split_2/train/mask/_Image_05R_3_2.png  \n",
            "  inflating: chase_db_384_384_dice_bce_0_4__hvr_0_4_1/split_2/train/mask/_Image_09R_1_3.png  \n",
            "  inflating: chase_db_384_384_dice_bce_0_4__hvr_0_4_1/split_2/train/mask/_Image_02L_2_0.png  \n",
            "  inflating: chase_db_384_384_dice_bce_0_4__hvr_0_4_1/split_2/train/mask/_Image_05R_3_6.png  \n",
            "  inflating: chase_db_384_384_dice_bce_0_4__hvr_0_4_1/split_2/train/mask/_Image_14R_0_8.png  \n",
            "  inflating: chase_db_384_384_dice_bce_0_4__hvr_0_4_1/split_2/train/mask/_Image_03L_0_2.png  \n",
            "  inflating: chase_db_384_384_dice_bce_0_4__hvr_0_4_1/split_2/train/mask/_Image_09L_1_6.png  \n",
            "  inflating: chase_db_384_384_dice_bce_0_4__hvr_0_4_1/split_2/train/mask/_Image_09L_3_8.png  \n",
            "  inflating: chase_db_384_384_dice_bce_0_4__hvr_0_4_1/split_2/train/mask/_Image_06L_1_8.png  \n",
            "  inflating: chase_db_384_384_dice_bce_0_4__hvr_0_4_1/split_2/train/mask/_Image_06L_3_6.png  \n",
            "  inflating: chase_db_384_384_dice_bce_0_4__hvr_0_4_1/split_2/train/mask/_Image_14R_2_5.png  \n",
            "  inflating: chase_db_384_384_dice_bce_0_4__hvr_0_4_1/split_2/train/mask/_Image_02R_1_3.png  \n",
            "  inflating: chase_db_384_384_dice_bce_0_4__hvr_0_4_1/split_2/train/mask/_Image_04L_0_0.png  \n",
            "  inflating: chase_db_384_384_dice_bce_0_4__hvr_0_4_1/split_2/train/mask/_Image_10R_3_3.png  \n",
            "  inflating: chase_db_384_384_dice_bce_0_4__hvr_0_4_1/split_2/train/mask/_Image_04R_0_7.png  \n",
            "  inflating: chase_db_384_384_dice_bce_0_4__hvr_0_4_1/split_2/train/mask/_Image_06R_0_7.png  \n",
            "  inflating: chase_db_384_384_dice_bce_0_4__hvr_0_4_1/split_2/train/mask/_Image_05L_2_7.png  \n",
            "  inflating: chase_db_384_384_dice_bce_0_4__hvr_0_4_1/split_2/train/mask/_Image_07R_2_5.png  \n",
            "  inflating: chase_db_384_384_dice_bce_0_4__hvr_0_4_1/split_2/train/mask/_Image_01R_0_7.png  \n",
            "  inflating: chase_db_384_384_dice_bce_0_4__hvr_0_4_1/split_2/train/mask/_Image_06L_2_4.png  \n",
            "  inflating: chase_db_384_384_dice_bce_0_4__hvr_0_4_1/split_2/train/mask/_Image_08R_0_5.png  \n",
            "  inflating: chase_db_384_384_dice_bce_0_4__hvr_0_4_1/split_2/train/mask/_Image_03R_0_0.png  \n",
            "  inflating: chase_db_384_384_dice_bce_0_4__hvr_0_4_1/split_2/train/mask/_Image_01R_0_4.png  \n",
            "  inflating: chase_db_384_384_dice_bce_0_4__hvr_0_4_1/split_2/train/mask/_Image_13R_1_1.png  \n",
            "  inflating: chase_db_384_384_dice_bce_0_4__hvr_0_4_1/split_2/train/mask/_Image_05R_2_6.png  \n",
            "  inflating: chase_db_384_384_dice_bce_0_4__hvr_0_4_1/split_2/train/mask/_Image_03L_3_4.png  \n",
            "  inflating: chase_db_384_384_dice_bce_0_4__hvr_0_4_1/split_2/train/mask/_Image_09R_2_4.png  \n",
            "  inflating: chase_db_384_384_dice_bce_0_4__hvr_0_4_1/split_2/train/mask/_Image_03L_3_0.png  \n",
            "  inflating: chase_db_384_384_dice_bce_0_4__hvr_0_4_1/split_2/train/mask/_Image_09R_2_6.png  \n",
            "  inflating: chase_db_384_384_dice_bce_0_4__hvr_0_4_1/split_2/train/mask/_Image_03L_1_3.png  \n",
            "  inflating: chase_db_384_384_dice_bce_0_4__hvr_0_4_1/split_2/train/mask/_Image_07R_2_6.png  \n",
            "  inflating: chase_db_384_384_dice_bce_0_4__hvr_0_4_1/split_2/train/mask/_Image_04L_3_7.png  \n",
            "  inflating: chase_db_384_384_dice_bce_0_4__hvr_0_4_1/split_2/train/mask/_Image_04L_1_4.png  \n",
            "  inflating: chase_db_384_384_dice_bce_0_4__hvr_0_4_1/split_2/train/mask/_Image_04R_2_4.png  \n",
            "  inflating: chase_db_384_384_dice_bce_0_4__hvr_0_4_1/split_2/train/mask/_Image_04R_3_1.png  \n",
            "  inflating: chase_db_384_384_dice_bce_0_4__hvr_0_4_1/split_2/train/mask/_Image_06R_1_6.png  \n",
            "  inflating: chase_db_384_384_dice_bce_0_4__hvr_0_4_1/split_2/train/mask/_Image_02L_0_7.png  \n",
            "  inflating: chase_db_384_384_dice_bce_0_4__hvr_0_4_1/split_2/train/mask/_Image_10R_0_2.png  \n",
            "  inflating: chase_db_384_384_dice_bce_0_4__hvr_0_4_1/split_2/train/mask/_Image_09R_2_5.png  \n",
            "  inflating: chase_db_384_384_dice_bce_0_4__hvr_0_4_1/split_2/train/mask/_Image_13R_0_4.png  \n",
            "  inflating: chase_db_384_384_dice_bce_0_4__hvr_0_4_1/split_2/train/mask/_Image_05L_1_4.png  \n",
            "  inflating: chase_db_384_384_dice_bce_0_4__hvr_0_4_1/split_2/train/mask/_Image_13R_0_6.png  \n",
            "  inflating: chase_db_384_384_dice_bce_0_4__hvr_0_4_1/split_2/train/mask/_Image_06R_1_4.png  \n",
            "   creating: chase_db_384_384_dice_bce_0_4__hvr_0_4_1/split_2/train/image/\n",
            "  inflating: chase_db_384_384_dice_bce_0_4__hvr_0_4_1/split_2/train/image/_Image_03R_3_4.png  \n",
            "  inflating: chase_db_384_384_dice_bce_0_4__hvr_0_4_1/split_2/train/image/_Image_14L_1_1.png  \n",
            "  inflating: chase_db_384_384_dice_bce_0_4__hvr_0_4_1/split_2/train/image/_Image_01L_1_2.png  \n",
            "  inflating: chase_db_384_384_dice_bce_0_4__hvr_0_4_1/split_2/train/image/_Image_09R_3_1.png  \n",
            "  inflating: chase_db_384_384_dice_bce_0_4__hvr_0_4_1/split_2/train/image/_Image_03L_0_5.png  \n",
            "  inflating: chase_db_384_384_dice_bce_0_4__hvr_0_4_1/split_2/train/image/_Image_04L_2_7.png  \n",
            "  inflating: chase_db_384_384_dice_bce_0_4__hvr_0_4_1/split_2/train/image/_Image_01L_0_3.png  \n",
            "  inflating: chase_db_384_384_dice_bce_0_4__hvr_0_4_1/split_2/train/image/_Image_03R_0_7.png  \n",
            "  inflating: chase_db_384_384_dice_bce_0_4__hvr_0_4_1/split_2/train/image/_Image_08L_3_6.png  \n",
            "  inflating: chase_db_384_384_dice_bce_0_4__hvr_0_4_1/split_2/train/image/_Image_10L_2_6.png  \n",
            "  inflating: chase_db_384_384_dice_bce_0_4__hvr_0_4_1/split_2/train/image/_Image_02L_2_7.png  \n",
            "  inflating: chase_db_384_384_dice_bce_0_4__hvr_0_4_1/split_2/train/image/_Image_05L_1_0.png  \n",
            "  inflating: chase_db_384_384_dice_bce_0_4__hvr_0_4_1/split_2/train/image/_Image_07R_1_6.png  \n",
            "  inflating: chase_db_384_384_dice_bce_0_4__hvr_0_4_1/split_2/train/image/_Image_04R_2_3.png  \n",
            "  inflating: chase_db_384_384_dice_bce_0_4__hvr_0_4_1/split_2/train/image/_Image_09L_0_2.png  \n",
            "  inflating: chase_db_384_384_dice_bce_0_4__hvr_0_4_1/split_2/train/image/_Image_08L_3_2.png  \n",
            "  inflating: chase_db_384_384_dice_bce_0_4__hvr_0_4_1/split_2/train/image/_Image_08L_3_4.png  \n",
            "  inflating: chase_db_384_384_dice_bce_0_4__hvr_0_4_1/split_2/train/image/_Image_03L_2_4.png  \n",
            "  inflating: chase_db_384_384_dice_bce_0_4__hvr_0_4_1/split_2/train/image/_Image_10L_1_7.png  \n",
            "  inflating: chase_db_384_384_dice_bce_0_4__hvr_0_4_1/split_2/train/image/_Image_06L_0_3.png  \n",
            "  inflating: chase_db_384_384_dice_bce_0_4__hvr_0_4_1/split_2/train/image/_Image_03L_2_1.png  \n",
            "  inflating: chase_db_384_384_dice_bce_0_4__hvr_0_4_1/split_2/train/image/_Image_01R_3_7.png  \n",
            "  inflating: chase_db_384_384_dice_bce_0_4__hvr_0_4_1/split_2/train/image/_Image_01R_2_0.png  \n",
            "  inflating: chase_db_384_384_dice_bce_0_4__hvr_0_4_1/split_2/train/image/_Image_04L_1_1.png  \n",
            "  inflating: chase_db_384_384_dice_bce_0_4__hvr_0_4_1/split_2/train/image/_Image_07L_1_8.png  \n",
            "  inflating: chase_db_384_384_dice_bce_0_4__hvr_0_4_1/split_2/train/image/_Image_08R_3_8.png  \n",
            "  inflating: chase_db_384_384_dice_bce_0_4__hvr_0_4_1/split_2/train/image/_Image_06L_1_1.png  \n",
            "  inflating: chase_db_384_384_dice_bce_0_4__hvr_0_4_1/split_2/train/image/_Image_04L_2_1.png  \n",
            "  inflating: chase_db_384_384_dice_bce_0_4__hvr_0_4_1/split_2/train/image/_Image_10R_1_0.png  \n",
            "  inflating: chase_db_384_384_dice_bce_0_4__hvr_0_4_1/split_2/train/image/_Image_01R_2_8.png  \n",
            "  inflating: chase_db_384_384_dice_bce_0_4__hvr_0_4_1/split_2/train/image/_Image_04R_0_5.png  \n",
            "  inflating: chase_db_384_384_dice_bce_0_4__hvr_0_4_1/split_2/train/image/_Image_02R_1_4.png  \n",
            "  inflating: chase_db_384_384_dice_bce_0_4__hvr_0_4_1/split_2/train/image/_Image_03L_0_1.png  \n",
            "  inflating: chase_db_384_384_dice_bce_0_4__hvr_0_4_1/split_2/train/image/_Image_04R_1_1.png  \n",
            "  inflating: chase_db_384_384_dice_bce_0_4__hvr_0_4_1/split_2/train/image/_Image_03L_1_7.png  \n",
            "  inflating: chase_db_384_384_dice_bce_0_4__hvr_0_4_1/split_2/train/image/_Image_01R_1_3.png  \n",
            "  inflating: chase_db_384_384_dice_bce_0_4__hvr_0_4_1/split_2/train/image/_Image_07R_0_2.png  \n",
            "  inflating: chase_db_384_384_dice_bce_0_4__hvr_0_4_1/split_2/train/image/_Image_10L_3_5.png  \n",
            "  inflating: chase_db_384_384_dice_bce_0_4__hvr_0_4_1/split_2/train/image/_Image_05R_2_1.png  \n",
            "  inflating: chase_db_384_384_dice_bce_0_4__hvr_0_4_1/split_2/train/image/_Image_05R_3_0.png  \n",
            "  inflating: chase_db_384_384_dice_bce_0_4__hvr_0_4_1/split_2/train/image/_Image_10R_1_7.png  \n",
            "  inflating: chase_db_384_384_dice_bce_0_4__hvr_0_4_1/split_2/train/image/_Image_13R_2_2.png  \n",
            "  inflating: chase_db_384_384_dice_bce_0_4__hvr_0_4_1/split_2/train/image/_Image_02L_0_6.png  \n",
            "  inflating: chase_db_384_384_dice_bce_0_4__hvr_0_4_1/split_2/train/image/_Image_07R_2_8.png  \n",
            "  inflating: chase_db_384_384_dice_bce_0_4__hvr_0_4_1/split_2/train/image/_Image_01L_1_1.png  \n",
            "  inflating: chase_db_384_384_dice_bce_0_4__hvr_0_4_1/split_2/train/image/_Image_09L_0_6.png  \n",
            "  inflating: chase_db_384_384_dice_bce_0_4__hvr_0_4_1/split_2/train/image/_Image_05R_1_1.png  \n",
            "  inflating: chase_db_384_384_dice_bce_0_4__hvr_0_4_1/split_2/train/image/_Image_05L_0_8.png  \n",
            "  inflating: chase_db_384_384_dice_bce_0_4__hvr_0_4_1/split_2/train/image/_Image_03R_3_2.png  \n",
            "  inflating: chase_db_384_384_dice_bce_0_4__hvr_0_4_1/split_2/train/image/_Image_03R_2_4.png  \n",
            "  inflating: chase_db_384_384_dice_bce_0_4__hvr_0_4_1/split_2/train/image/_Image_13R_2_1.png  \n",
            "  inflating: chase_db_384_384_dice_bce_0_4__hvr_0_4_1/split_2/train/image/_Image_02L_0_8.png  \n",
            "  inflating: chase_db_384_384_dice_bce_0_4__hvr_0_4_1/split_2/train/image/_Image_01L_1_6.png  \n",
            "  inflating: chase_db_384_384_dice_bce_0_4__hvr_0_4_1/split_2/train/image/_Image_09L_1_5.png  \n",
            "  inflating: chase_db_384_384_dice_bce_0_4__hvr_0_4_1/split_2/train/image/_Image_07L_3_8.png  \n",
            "  inflating: chase_db_384_384_dice_bce_0_4__hvr_0_4_1/split_2/train/image/_Image_05R_1_0.png  \n",
            "  inflating: chase_db_384_384_dice_bce_0_4__hvr_0_4_1/split_2/train/image/_Image_13R_2_5.png  \n",
            "  inflating: chase_db_384_384_dice_bce_0_4__hvr_0_4_1/split_2/train/image/_Image_02R_2_5.png  \n",
            "  inflating: chase_db_384_384_dice_bce_0_4__hvr_0_4_1/split_2/train/image/_Image_05R_2_3.png  \n",
            "  inflating: chase_db_384_384_dice_bce_0_4__hvr_0_4_1/split_2/train/image/_Image_08R_2_1.png  \n",
            "  inflating: chase_db_384_384_dice_bce_0_4__hvr_0_4_1/split_2/train/image/_Image_08L_1_1.png  \n",
            "  inflating: chase_db_384_384_dice_bce_0_4__hvr_0_4_1/split_2/train/image/_Image_02R_3_1.png  \n",
            "  inflating: chase_db_384_384_dice_bce_0_4__hvr_0_4_1/split_2/train/image/_Image_02L_2_2.png  \n",
            "  inflating: chase_db_384_384_dice_bce_0_4__hvr_0_4_1/split_2/train/image/_Image_02L_0_3.png  \n",
            "  inflating: chase_db_384_384_dice_bce_0_4__hvr_0_4_1/split_2/train/image/_Image_07L_1_2.png  \n",
            "  inflating: chase_db_384_384_dice_bce_0_4__hvr_0_4_1/split_2/train/image/_Image_09R_1_4.png  \n",
            "  inflating: chase_db_384_384_dice_bce_0_4__hvr_0_4_1/split_2/train/image/_Image_08R_2_4.png  \n",
            "  inflating: chase_db_384_384_dice_bce_0_4__hvr_0_4_1/split_2/train/image/_Image_07R_2_2.png  \n",
            "  inflating: chase_db_384_384_dice_bce_0_4__hvr_0_4_1/split_2/train/image/_Image_09L_2_8.png  \n",
            "  inflating: chase_db_384_384_dice_bce_0_4__hvr_0_4_1/split_2/train/image/_Image_13R_3_4.png  \n",
            "  inflating: chase_db_384_384_dice_bce_0_4__hvr_0_4_1/split_2/train/image/_Image_04R_1_0.png  \n",
            "  inflating: chase_db_384_384_dice_bce_0_4__hvr_0_4_1/split_2/train/image/_Image_10L_0_6.png  \n",
            "  inflating: chase_db_384_384_dice_bce_0_4__hvr_0_4_1/split_2/train/image/_Image_05R_1_8.png  \n",
            "  inflating: chase_db_384_384_dice_bce_0_4__hvr_0_4_1/split_2/train/image/_Image_10L_3_3.png  \n",
            "  inflating: chase_db_384_384_dice_bce_0_4__hvr_0_4_1/split_2/train/image/_Image_08R_1_2.png  \n",
            "  inflating: chase_db_384_384_dice_bce_0_4__hvr_0_4_1/split_2/train/image/_Image_07R_0_4.png  \n",
            "  inflating: chase_db_384_384_dice_bce_0_4__hvr_0_4_1/split_2/train/image/_Image_01R_2_2.png  \n",
            "  inflating: chase_db_384_384_dice_bce_0_4__hvr_0_4_1/split_2/train/image/_Image_04L_1_5.png  \n",
            "  inflating: chase_db_384_384_dice_bce_0_4__hvr_0_4_1/split_2/train/image/_Image_08R_3_6.png  \n",
            "  inflating: chase_db_384_384_dice_bce_0_4__hvr_0_4_1/split_2/train/image/_Image_04L_2_5.png  \n",
            "  inflating: chase_db_384_384_dice_bce_0_4__hvr_0_4_1/split_2/train/image/_Image_09L_3_2.png  \n",
            "  inflating: chase_db_384_384_dice_bce_0_4__hvr_0_4_1/split_2/train/image/_Image_03R_1_6.png  \n",
            "  inflating: chase_db_384_384_dice_bce_0_4__hvr_0_4_1/split_2/train/image/_Image_05L_1_3.png  \n",
            "  inflating: chase_db_384_384_dice_bce_0_4__hvr_0_4_1/split_2/train/image/_Image_08R_3_3.png  \n",
            "  inflating: chase_db_384_384_dice_bce_0_4__hvr_0_4_1/split_2/train/image/_Image_07L_2_0.png  \n",
            "  inflating: chase_db_384_384_dice_bce_0_4__hvr_0_4_1/split_2/train/image/_Image_14L_2_2.png  \n",
            "  inflating: chase_db_384_384_dice_bce_0_4__hvr_0_4_1/split_2/train/image/_Image_03L_1_2.png  \n",
            "  inflating: chase_db_384_384_dice_bce_0_4__hvr_0_4_1/split_2/train/image/_Image_03L_2_0.png  \n",
            "  inflating: chase_db_384_384_dice_bce_0_4__hvr_0_4_1/split_2/train/image/_Image_09L_1_2.png  \n",
            "  inflating: chase_db_384_384_dice_bce_0_4__hvr_0_4_1/split_2/train/image/_Image_05R_3_5.png  \n",
            "  inflating: chase_db_384_384_dice_bce_0_4__hvr_0_4_1/split_2/train/image/_Image_07R_0_8.png  \n",
            "  inflating: chase_db_384_384_dice_bce_0_4__hvr_0_4_1/split_2/train/image/_Image_04R_0_3.png  \n",
            "  inflating: chase_db_384_384_dice_bce_0_4__hvr_0_4_1/split_2/train/image/_Image_10R_3_5.png  \n",
            "  inflating: chase_db_384_384_dice_bce_0_4__hvr_0_4_1/split_2/train/image/_Image_08L_2_0.png  \n",
            "  inflating: chase_db_384_384_dice_bce_0_4__hvr_0_4_1/split_2/train/image/_Image_10L_0_7.png  \n",
            "  inflating: chase_db_384_384_dice_bce_0_4__hvr_0_4_1/split_2/train/image/_Image_10L_0_1.png  \n",
            "  inflating: chase_db_384_384_dice_bce_0_4__hvr_0_4_1/split_2/train/image/_Image_04R_3_7.png  \n",
            "  inflating: chase_db_384_384_dice_bce_0_4__hvr_0_4_1/split_2/train/image/_Image_01L_1_5.png  \n",
            "  inflating: chase_db_384_384_dice_bce_0_4__hvr_0_4_1/split_2/train/image/_Image_02L_2_1.png  \n",
            "  inflating: chase_db_384_384_dice_bce_0_4__hvr_0_4_1/split_2/train/image/_Image_05R_0_8.png  \n",
            "  inflating: chase_db_384_384_dice_bce_0_4__hvr_0_4_1/split_2/train/image/_Image_06R_1_5.png  \n",
            "  inflating: chase_db_384_384_dice_bce_0_4__hvr_0_4_1/split_2/train/image/_Image_06L_0_4.png  \n",
            "  inflating: chase_db_384_384_dice_bce_0_4__hvr_0_4_1/split_2/train/image/_Image_03R_1_8.png  \n",
            "  inflating: chase_db_384_384_dice_bce_0_4__hvr_0_4_1/split_2/train/image/_Image_14L_0_3.png  \n",
            "  inflating: chase_db_384_384_dice_bce_0_4__hvr_0_4_1/split_2/train/image/_Image_02R_3_0.png  \n",
            "  inflating: chase_db_384_384_dice_bce_0_4__hvr_0_4_1/split_2/train/image/_Image_05L_0_7.png  \n",
            "  inflating: chase_db_384_384_dice_bce_0_4__hvr_0_4_1/split_2/train/image/_Image_10L_1_5.png  \n",
            "  inflating: chase_db_384_384_dice_bce_0_4__hvr_0_4_1/split_2/train/image/_Image_07R_3_2.png  \n",
            "  inflating: chase_db_384_384_dice_bce_0_4__hvr_0_4_1/split_2/train/image/_Image_07R_3_3.png  \n",
            "  inflating: chase_db_384_384_dice_bce_0_4__hvr_0_4_1/split_2/train/image/_Image_04R_1_5.png  \n",
            "  inflating: chase_db_384_384_dice_bce_0_4__hvr_0_4_1/split_2/train/image/_Image_06L_0_1.png  \n",
            "  inflating: chase_db_384_384_dice_bce_0_4__hvr_0_4_1/split_2/train/image/_Image_03L_1_8.png  \n",
            "  inflating: chase_db_384_384_dice_bce_0_4__hvr_0_4_1/split_2/train/image/_Image_14R_3_1.png  \n",
            "  inflating: chase_db_384_384_dice_bce_0_4__hvr_0_4_1/split_2/train/image/_Image_13R_3_7.png  \n",
            "  inflating: chase_db_384_384_dice_bce_0_4__hvr_0_4_1/split_2/train/image/_Image_04L_1_6.png  \n",
            "  inflating: chase_db_384_384_dice_bce_0_4__hvr_0_4_1/split_2/train/image/_Image_08L_0_7.png  \n",
            "  inflating: chase_db_384_384_dice_bce_0_4__hvr_0_4_1/split_2/train/image/_Image_03L_3_6.png  \n",
            "  inflating: chase_db_384_384_dice_bce_0_4__hvr_0_4_1/split_2/train/image/_Image_09L_3_7.png  \n",
            "  inflating: chase_db_384_384_dice_bce_0_4__hvr_0_4_1/split_2/train/image/_Image_14L_3_6.png  \n",
            "  inflating: chase_db_384_384_dice_bce_0_4__hvr_0_4_1/split_2/train/image/_Image_06R_2_4.png  \n",
            "  inflating: chase_db_384_384_dice_bce_0_4__hvr_0_4_1/split_2/train/image/_Image_05R_0_5.png  \n",
            "  inflating: chase_db_384_384_dice_bce_0_4__hvr_0_4_1/split_2/train/image/_Image_05R_2_2.png  \n",
            "  inflating: chase_db_384_384_dice_bce_0_4__hvr_0_4_1/split_2/train/image/_Image_09L_1_4.png  \n",
            "  inflating: chase_db_384_384_dice_bce_0_4__hvr_0_4_1/split_2/train/image/_Image_08L_2_3.png  \n",
            "  inflating: chase_db_384_384_dice_bce_0_4__hvr_0_4_1/split_2/train/image/_Image_06R_0_5.png  \n",
            "  inflating: chase_db_384_384_dice_bce_0_4__hvr_0_4_1/split_2/train/image/_Image_04L_3_0.png  \n",
            "  inflating: chase_db_384_384_dice_bce_0_4__hvr_0_4_1/split_2/train/image/_Image_02R_0_2.png  \n",
            "  inflating: chase_db_384_384_dice_bce_0_4__hvr_0_4_1/split_2/train/image/_Image_13R_3_3.png  \n",
            "  inflating: chase_db_384_384_dice_bce_0_4__hvr_0_4_1/split_2/train/image/_Image_09R_1_8.png  \n",
            "  inflating: chase_db_384_384_dice_bce_0_4__hvr_0_4_1/split_2/train/image/_Image_05L_2_6.png  \n",
            "  inflating: chase_db_384_384_dice_bce_0_4__hvr_0_4_1/split_2/train/image/_Image_08R_2_6.png  \n",
            "  inflating: chase_db_384_384_dice_bce_0_4__hvr_0_4_1/split_2/train/image/_Image_06L_3_7.png  \n",
            "  inflating: chase_db_384_384_dice_bce_0_4__hvr_0_4_1/split_2/train/image/_Image_10L_3_1.png  \n",
            "  inflating: chase_db_384_384_dice_bce_0_4__hvr_0_4_1/split_2/train/image/_Image_02R_0_8.png  \n",
            "  inflating: chase_db_384_384_dice_bce_0_4__hvr_0_4_1/split_2/train/image/_Image_07L_0_8.png  \n",
            "  inflating: chase_db_384_384_dice_bce_0_4__hvr_0_4_1/split_2/train/image/_Image_08L_2_2.png  \n",
            "  inflating: chase_db_384_384_dice_bce_0_4__hvr_0_4_1/split_2/train/image/_Image_03R_0_6.png  \n",
            "  inflating: chase_db_384_384_dice_bce_0_4__hvr_0_4_1/split_2/train/image/_Image_06L_1_0.png  \n",
            "  inflating: chase_db_384_384_dice_bce_0_4__hvr_0_4_1/split_2/train/image/_Image_09R_0_7.png  \n",
            "  inflating: chase_db_384_384_dice_bce_0_4__hvr_0_4_1/split_2/train/image/_Image_07L_3_4.png  \n",
            "  inflating: chase_db_384_384_dice_bce_0_4__hvr_0_4_1/split_2/train/image/_Image_13R_1_7.png  \n",
            "  inflating: chase_db_384_384_dice_bce_0_4__hvr_0_4_1/split_2/train/image/_Image_14R_1_3.png  \n",
            "  inflating: chase_db_384_384_dice_bce_0_4__hvr_0_4_1/split_2/train/image/_Image_03L_2_3.png  \n",
            "  inflating: chase_db_384_384_dice_bce_0_4__hvr_0_4_1/split_2/train/image/_Image_06L_1_3.png  \n",
            "  inflating: chase_db_384_384_dice_bce_0_4__hvr_0_4_1/split_2/train/image/_Image_07L_2_8.png  \n",
            "  inflating: chase_db_384_384_dice_bce_0_4__hvr_0_4_1/split_2/train/image/_Image_08R_3_5.png  \n",
            "  inflating: chase_db_384_384_dice_bce_0_4__hvr_0_4_1/split_2/train/image/_Image_07R_2_4.png  \n",
            "  inflating: chase_db_384_384_dice_bce_0_4__hvr_0_4_1/split_2/train/image/_Image_09L_3_4.png  \n",
            "  inflating: chase_db_384_384_dice_bce_0_4__hvr_0_4_1/split_2/train/image/_Image_08R_1_1.png  \n",
            "  inflating: chase_db_384_384_dice_bce_0_4__hvr_0_4_1/split_2/train/image/_Image_01R_1_8.png  \n",
            "  inflating: chase_db_384_384_dice_bce_0_4__hvr_0_4_1/split_2/train/image/_Image_07R_1_1.png  \n",
            "  inflating: chase_db_384_384_dice_bce_0_4__hvr_0_4_1/split_2/train/image/_Image_08R_0_7.png  \n",
            "  inflating: chase_db_384_384_dice_bce_0_4__hvr_0_4_1/split_2/train/image/_Image_03L_1_1.png  \n",
            "  inflating: chase_db_384_384_dice_bce_0_4__hvr_0_4_1/split_2/train/image/_Image_05L_3_3.png  \n",
            "  inflating: chase_db_384_384_dice_bce_0_4__hvr_0_4_1/split_2/train/image/_Image_14L_3_4.png  \n",
            "  inflating: chase_db_384_384_dice_bce_0_4__hvr_0_4_1/split_2/train/image/_Image_05R_1_3.png  \n",
            "  inflating: chase_db_384_384_dice_bce_0_4__hvr_0_4_1/split_2/train/image/_Image_05L_1_6.png  \n",
            "  inflating: chase_db_384_384_dice_bce_0_4__hvr_0_4_1/split_2/train/image/_Image_09R_1_5.png  \n",
            "  inflating: chase_db_384_384_dice_bce_0_4__hvr_0_4_1/split_2/train/image/_Image_10R_3_2.png  \n",
            "  inflating: chase_db_384_384_dice_bce_0_4__hvr_0_4_1/split_2/train/image/_Image_02R_2_4.png  \n",
            "  inflating: chase_db_384_384_dice_bce_0_4__hvr_0_4_1/split_2/train/image/_Image_09L_1_8.png  \n",
            "  inflating: chase_db_384_384_dice_bce_0_4__hvr_0_4_1/split_2/train/image/_Image_07L_0_0.png  \n",
            "  inflating: chase_db_384_384_dice_bce_0_4__hvr_0_4_1/split_2/train/image/_Image_01R_1_1.png  \n",
            "  inflating: chase_db_384_384_dice_bce_0_4__hvr_0_4_1/split_2/train/image/_Image_05L_2_3.png  \n",
            "  inflating: chase_db_384_384_dice_bce_0_4__hvr_0_4_1/split_2/train/image/_Image_09L_2_1.png  \n",
            "  inflating: chase_db_384_384_dice_bce_0_4__hvr_0_4_1/split_2/train/image/_Image_10R_1_2.png  \n",
            "  inflating: chase_db_384_384_dice_bce_0_4__hvr_0_4_1/split_2/train/image/_Image_01L_3_7.png  \n",
            "  inflating: chase_db_384_384_dice_bce_0_4__hvr_0_4_1/split_2/train/image/_Image_05L_2_1.png  \n",
            "  inflating: chase_db_384_384_dice_bce_0_4__hvr_0_4_1/split_2/train/image/_Image_07R_1_2.png  \n",
            "  inflating: chase_db_384_384_dice_bce_0_4__hvr_0_4_1/split_2/train/image/_Image_06L_2_8.png  \n",
            "  inflating: chase_db_384_384_dice_bce_0_4__hvr_0_4_1/split_2/train/image/_Image_10R_3_0.png  \n",
            "  inflating: chase_db_384_384_dice_bce_0_4__hvr_0_4_1/split_2/train/image/_Image_05R_1_7.png  \n",
            "  inflating: chase_db_384_384_dice_bce_0_4__hvr_0_4_1/split_2/train/image/_Image_08R_0_6.png  \n",
            "  inflating: chase_db_384_384_dice_bce_0_4__hvr_0_4_1/split_2/train/image/_Image_14L_0_7.png  \n",
            "  inflating: chase_db_384_384_dice_bce_0_4__hvr_0_4_1/split_2/train/image/_Image_08L_3_8.png  \n",
            "  inflating: chase_db_384_384_dice_bce_0_4__hvr_0_4_1/split_2/train/image/_Image_02L_0_1.png  \n",
            "  inflating: chase_db_384_384_dice_bce_0_4__hvr_0_4_1/split_2/train/image/_Image_03L_2_2.png  \n",
            "  inflating: chase_db_384_384_dice_bce_0_4__hvr_0_4_1/split_2/train/image/_Image_04L_1_2.png  \n",
            "  inflating: chase_db_384_384_dice_bce_0_4__hvr_0_4_1/split_2/train/image/_Image_06L_2_3.png  \n",
            "  inflating: chase_db_384_384_dice_bce_0_4__hvr_0_4_1/split_2/train/image/_Image_06R_0_1.png  \n",
            "  inflating: chase_db_384_384_dice_bce_0_4__hvr_0_4_1/split_2/train/image/_Image_09L_0_4.png  \n",
            "  inflating: chase_db_384_384_dice_bce_0_4__hvr_0_4_1/split_2/train/image/_Image_01L_0_1.png  \n",
            "  inflating: chase_db_384_384_dice_bce_0_4__hvr_0_4_1/split_2/train/image/_Image_07L_2_4.png  \n",
            "  inflating: chase_db_384_384_dice_bce_0_4__hvr_0_4_1/split_2/train/image/_Image_01L_3_8.png  \n",
            "  inflating: chase_db_384_384_dice_bce_0_4__hvr_0_4_1/split_2/train/image/_Image_07R_1_8.png  \n",
            "  inflating: chase_db_384_384_dice_bce_0_4__hvr_0_4_1/split_2/train/image/_Image_02L_3_2.png  \n",
            "  inflating: chase_db_384_384_dice_bce_0_4__hvr_0_4_1/split_2/train/image/_Image_02R_3_5.png  \n",
            "  inflating: chase_db_384_384_dice_bce_0_4__hvr_0_4_1/split_2/train/image/_Image_09R_3_4.png  \n",
            "  inflating: chase_db_384_384_dice_bce_0_4__hvr_0_4_1/split_2/train/image/_Image_14L_1_0.png  \n",
            "  inflating: chase_db_384_384_dice_bce_0_4__hvr_0_4_1/split_2/train/image/_Image_13R_2_7.png  \n",
            "  inflating: chase_db_384_384_dice_bce_0_4__hvr_0_4_1/split_2/train/image/_Image_02L_0_4.png  \n",
            "  inflating: chase_db_384_384_dice_bce_0_4__hvr_0_4_1/split_2/train/image/_Image_08R_0_1.png  \n",
            "  inflating: chase_db_384_384_dice_bce_0_4__hvr_0_4_1/split_2/train/image/_Image_05L_2_2.png  \n",
            "  inflating: chase_db_384_384_dice_bce_0_4__hvr_0_4_1/split_2/train/image/_Image_07R_3_4.png  \n",
            "  inflating: chase_db_384_384_dice_bce_0_4__hvr_0_4_1/split_2/train/image/_Image_03R_0_8.png  \n",
            "  inflating: chase_db_384_384_dice_bce_0_4__hvr_0_4_1/split_2/train/image/_Image_10R_1_6.png  \n",
            "  inflating: chase_db_384_384_dice_bce_0_4__hvr_0_4_1/split_2/train/image/_Image_14L_2_3.png  \n",
            "  inflating: chase_db_384_384_dice_bce_0_4__hvr_0_4_1/split_2/train/image/_Image_04L_0_6.png  \n",
            "  inflating: chase_db_384_384_dice_bce_0_4__hvr_0_4_1/split_2/train/image/_Image_06L_0_2.png  \n",
            "  inflating: chase_db_384_384_dice_bce_0_4__hvr_0_4_1/split_2/train/image/_Image_03R_1_4.png  \n",
            "  inflating: chase_db_384_384_dice_bce_0_4__hvr_0_4_1/split_2/train/image/_Image_13R_3_5.png  \n",
            "  inflating: chase_db_384_384_dice_bce_0_4__hvr_0_4_1/split_2/train/image/_Image_02R_0_6.png  \n",
            "  inflating: chase_db_384_384_dice_bce_0_4__hvr_0_4_1/split_2/train/image/_Image_01L_2_1.png  \n",
            "  inflating: chase_db_384_384_dice_bce_0_4__hvr_0_4_1/split_2/train/image/_Image_02L_2_3.png  \n",
            "  inflating: chase_db_384_384_dice_bce_0_4__hvr_0_4_1/split_2/train/image/_Image_09R_2_0.png  \n",
            "  inflating: chase_db_384_384_dice_bce_0_4__hvr_0_4_1/split_2/train/image/_Image_09R_1_2.png  \n",
            "  inflating: chase_db_384_384_dice_bce_0_4__hvr_0_4_1/split_2/train/image/_Image_14R_1_0.png  \n",
            "  inflating: chase_db_384_384_dice_bce_0_4__hvr_0_4_1/split_2/train/image/_Image_09L_2_4.png  \n",
            "  inflating: chase_db_384_384_dice_bce_0_4__hvr_0_4_1/split_2/train/image/_Image_10L_3_8.png  \n",
            "  inflating: chase_db_384_384_dice_bce_0_4__hvr_0_4_1/split_2/train/image/_Image_08L_0_5.png  \n",
            "  inflating: chase_db_384_384_dice_bce_0_4__hvr_0_4_1/split_2/train/image/_Image_06L_3_3.png  \n",
            "  inflating: chase_db_384_384_dice_bce_0_4__hvr_0_4_1/split_2/train/image/_Image_02R_2_1.png  \n",
            "  inflating: chase_db_384_384_dice_bce_0_4__hvr_0_4_1/split_2/train/image/_Image_01R_0_2.png  \n",
            "  inflating: chase_db_384_384_dice_bce_0_4__hvr_0_4_1/split_2/train/image/_Image_07R_0_5.png  \n",
            "  inflating: chase_db_384_384_dice_bce_0_4__hvr_0_4_1/split_2/train/image/_Image_02R_0_1.png  \n",
            "  inflating: chase_db_384_384_dice_bce_0_4__hvr_0_4_1/split_2/train/image/_Image_10L_2_7.png  \n",
            "  inflating: chase_db_384_384_dice_bce_0_4__hvr_0_4_1/split_2/train/image/_Image_01R_3_0.png  \n",
            "  inflating: chase_db_384_384_dice_bce_0_4__hvr_0_4_1/split_2/train/image/_Image_03R_2_7.png  \n",
            "  inflating: chase_db_384_384_dice_bce_0_4__hvr_0_4_1/split_2/train/image/_Image_08R_2_2.png  \n",
            "  inflating: chase_db_384_384_dice_bce_0_4__hvr_0_4_1/split_2/train/image/_Image_05L_3_2.png  \n",
            "  inflating: chase_db_384_384_dice_bce_0_4__hvr_0_4_1/split_2/train/image/_Image_10L_0_5.png  \n",
            "  inflating: chase_db_384_384_dice_bce_0_4__hvr_0_4_1/split_2/train/image/_Image_14R_2_0.png  \n",
            "  inflating: chase_db_384_384_dice_bce_0_4__hvr_0_4_1/split_2/train/image/_Image_05R_1_6.png  \n",
            "  inflating: chase_db_384_384_dice_bce_0_4__hvr_0_4_1/split_2/train/image/_Image_05L_3_7.png  \n",
            "  inflating: chase_db_384_384_dice_bce_0_4__hvr_0_4_1/split_2/train/image/_Image_03R_1_0.png  \n",
            "  inflating: chase_db_384_384_dice_bce_0_4__hvr_0_4_1/split_2/train/image/_Image_09L_2_5.png  \n",
            "  inflating: chase_db_384_384_dice_bce_0_4__hvr_0_4_1/split_2/train/image/_Image_02R_1_0.png  \n",
            "  inflating: chase_db_384_384_dice_bce_0_4__hvr_0_4_1/split_2/train/image/_Image_06L_0_8.png  \n",
            "  inflating: chase_db_384_384_dice_bce_0_4__hvr_0_4_1/split_2/train/image/_Image_09L_3_0.png  \n",
            "  inflating: chase_db_384_384_dice_bce_0_4__hvr_0_4_1/split_2/train/image/_Image_06L_3_2.png  \n",
            "  inflating: chase_db_384_384_dice_bce_0_4__hvr_0_4_1/split_2/train/image/_Image_07R_0_1.png  \n",
            "  inflating: chase_db_384_384_dice_bce_0_4__hvr_0_4_1/split_2/train/image/_Image_07R_3_0.png  \n",
            "  inflating: chase_db_384_384_dice_bce_0_4__hvr_0_4_1/split_2/train/image/_Image_13R_0_7.png  \n",
            "  inflating: chase_db_384_384_dice_bce_0_4__hvr_0_4_1/split_2/train/image/_Image_14R_0_1.png  \n",
            "  inflating: chase_db_384_384_dice_bce_0_4__hvr_0_4_1/split_2/train/image/_Image_03R_2_2.png  \n",
            "  inflating: chase_db_384_384_dice_bce_0_4__hvr_0_4_1/split_2/train/image/_Image_05R_2_7.png  \n",
            "  inflating: chase_db_384_384_dice_bce_0_4__hvr_0_4_1/split_2/train/image/_Image_04L_2_3.png  \n",
            "  inflating: chase_db_384_384_dice_bce_0_4__hvr_0_4_1/split_2/train/image/_Image_06R_2_3.png  \n",
            "  inflating: chase_db_384_384_dice_bce_0_4__hvr_0_4_1/split_2/train/image/_Image_02L_3_3.png  \n",
            "  inflating: chase_db_384_384_dice_bce_0_4__hvr_0_4_1/split_2/train/image/_Image_06L_1_7.png  \n",
            "  inflating: chase_db_384_384_dice_bce_0_4__hvr_0_4_1/split_2/train/image/_Image_10R_2_8.png  \n",
            "  inflating: chase_db_384_384_dice_bce_0_4__hvr_0_4_1/split_2/train/image/_Image_14L_3_8.png  \n",
            "  inflating: chase_db_384_384_dice_bce_0_4__hvr_0_4_1/split_2/train/image/_Image_05L_3_6.png  \n",
            "  inflating: chase_db_384_384_dice_bce_0_4__hvr_0_4_1/split_2/train/image/_Image_08L_3_7.png  \n",
            "  inflating: chase_db_384_384_dice_bce_0_4__hvr_0_4_1/split_2/train/image/_Image_04R_0_1.png  \n",
            "  inflating: chase_db_384_384_dice_bce_0_4__hvr_0_4_1/split_2/train/image/_Image_07L_2_2.png  \n",
            "  inflating: chase_db_384_384_dice_bce_0_4__hvr_0_4_1/split_2/train/image/_Image_09R_1_6.png  \n",
            "  inflating: chase_db_384_384_dice_bce_0_4__hvr_0_4_1/split_2/train/image/_Image_01L_3_6.png  \n",
            "  inflating: chase_db_384_384_dice_bce_0_4__hvr_0_4_1/split_2/train/image/_Image_07R_2_3.png  \n",
            "  inflating: chase_db_384_384_dice_bce_0_4__hvr_0_4_1/split_2/train/image/_Image_05L_1_8.png  \n",
            "  inflating: chase_db_384_384_dice_bce_0_4__hvr_0_4_1/split_2/train/image/_Image_02R_1_5.png  \n",
            "  inflating: chase_db_384_384_dice_bce_0_4__hvr_0_4_1/split_2/train/image/_Image_02L_0_0.png  \n",
            "  inflating: chase_db_384_384_dice_bce_0_4__hvr_0_4_1/split_2/train/image/_Image_02R_1_6.png  \n",
            "  inflating: chase_db_384_384_dice_bce_0_4__hvr_0_4_1/split_2/train/image/_Image_01R_3_5.png  \n",
            "  inflating: chase_db_384_384_dice_bce_0_4__hvr_0_4_1/split_2/train/image/_Image_14L_3_3.png  \n",
            "  inflating: chase_db_384_384_dice_bce_0_4__hvr_0_4_1/split_2/train/image/_Image_07R_3_8.png  \n",
            "  inflating: chase_db_384_384_dice_bce_0_4__hvr_0_4_1/split_2/train/image/_Image_01R_2_5.png  \n",
            "  inflating: chase_db_384_384_dice_bce_0_4__hvr_0_4_1/split_2/train/image/_Image_08L_0_6.png  \n",
            "  inflating: chase_db_384_384_dice_bce_0_4__hvr_0_4_1/split_2/train/image/_Image_08R_0_2.png  \n",
            "  inflating: chase_db_384_384_dice_bce_0_4__hvr_0_4_1/split_2/train/image/_Image_08L_2_7.png  \n",
            "  inflating: chase_db_384_384_dice_bce_0_4__hvr_0_4_1/split_2/train/image/_Image_04R_2_6.png  \n",
            "  inflating: chase_db_384_384_dice_bce_0_4__hvr_0_4_1/split_2/train/image/_Image_10R_0_8.png  \n",
            "  inflating: chase_db_384_384_dice_bce_0_4__hvr_0_4_1/split_2/train/image/_Image_09L_0_3.png  \n",
            "  inflating: chase_db_384_384_dice_bce_0_4__hvr_0_4_1/split_2/train/image/_Image_01R_2_3.png  \n",
            "  inflating: chase_db_384_384_dice_bce_0_4__hvr_0_4_1/split_2/train/image/_Image_05R_1_5.png  \n",
            "  inflating: chase_db_384_384_dice_bce_0_4__hvr_0_4_1/split_2/train/image/_Image_04L_3_4.png  \n",
            "  inflating: chase_db_384_384_dice_bce_0_4__hvr_0_4_1/split_2/train/image/_Image_13R_2_8.png  \n",
            "  inflating: chase_db_384_384_dice_bce_0_4__hvr_0_4_1/split_2/train/image/_Image_14R_1_7.png  \n",
            "  inflating: chase_db_384_384_dice_bce_0_4__hvr_0_4_1/split_2/train/image/_Image_14R_2_6.png  \n",
            "  inflating: chase_db_384_384_dice_bce_0_4__hvr_0_4_1/split_2/train/image/_Image_04L_0_5.png  \n",
            "  inflating: chase_db_384_384_dice_bce_0_4__hvr_0_4_1/split_2/train/image/_Image_03R_1_5.png  \n",
            "  inflating: chase_db_384_384_dice_bce_0_4__hvr_0_4_1/split_2/train/image/_Image_04L_0_7.png  \n",
            "  inflating: chase_db_384_384_dice_bce_0_4__hvr_0_4_1/split_2/train/image/_Image_08L_1_2.png  \n",
            "  inflating: chase_db_384_384_dice_bce_0_4__hvr_0_4_1/split_2/train/image/_Image_13R_0_3.png  \n",
            "  inflating: chase_db_384_384_dice_bce_0_4__hvr_0_4_1/split_2/train/image/_Image_08R_1_7.png  \n",
            "  inflating: chase_db_384_384_dice_bce_0_4__hvr_0_4_1/split_2/train/image/_Image_10L_1_3.png  \n",
            "  inflating: chase_db_384_384_dice_bce_0_4__hvr_0_4_1/split_2/train/image/_Image_03R_3_7.png  \n",
            "  inflating: chase_db_384_384_dice_bce_0_4__hvr_0_4_1/split_2/train/image/_Image_06L_0_6.png  \n",
            "  inflating: chase_db_384_384_dice_bce_0_4__hvr_0_4_1/split_2/train/image/_Image_14L_1_8.png  \n",
            "  inflating: chase_db_384_384_dice_bce_0_4__hvr_0_4_1/split_2/train/image/_Image_01R_1_0.png  \n",
            "  inflating: chase_db_384_384_dice_bce_0_4__hvr_0_4_1/split_2/train/image/_Image_05R_2_4.png  \n",
            "  inflating: chase_db_384_384_dice_bce_0_4__hvr_0_4_1/split_2/train/image/_Image_10R_2_6.png  \n",
            "  inflating: chase_db_384_384_dice_bce_0_4__hvr_0_4_1/split_2/train/image/_Image_08L_2_5.png  \n",
            "  inflating: chase_db_384_384_dice_bce_0_4__hvr_0_4_1/split_2/train/image/_Image_10L_2_8.png  \n",
            "  inflating: chase_db_384_384_dice_bce_0_4__hvr_0_4_1/split_2/train/image/_Image_07L_1_1.png  \n",
            "  inflating: chase_db_384_384_dice_bce_0_4__hvr_0_4_1/split_2/train/image/_Image_05L_3_1.png  \n",
            "  inflating: chase_db_384_384_dice_bce_0_4__hvr_0_4_1/split_2/train/image/_Image_04L_3_3.png  \n",
            "  inflating: chase_db_384_384_dice_bce_0_4__hvr_0_4_1/split_2/train/image/_Image_10L_3_4.png  \n",
            "  inflating: chase_db_384_384_dice_bce_0_4__hvr_0_4_1/split_2/train/image/_Image_05R_0_1.png  \n",
            "  inflating: chase_db_384_384_dice_bce_0_4__hvr_0_4_1/split_2/train/image/_Image_04R_3_2.png  \n",
            "  inflating: chase_db_384_384_dice_bce_0_4__hvr_0_4_1/split_2/train/image/_Image_10L_2_5.png  \n",
            "  inflating: chase_db_384_384_dice_bce_0_4__hvr_0_4_1/split_2/train/image/_Image_14L_2_7.png  \n",
            "  inflating: chase_db_384_384_dice_bce_0_4__hvr_0_4_1/split_2/train/image/_Image_14R_0_5.png  \n",
            "  inflating: chase_db_384_384_dice_bce_0_4__hvr_0_4_1/split_2/train/image/_Image_13R_0_1.png  \n",
            "  inflating: chase_db_384_384_dice_bce_0_4__hvr_0_4_1/split_2/train/image/_Image_08L_1_5.png  \n",
            "  inflating: chase_db_384_384_dice_bce_0_4__hvr_0_4_1/split_2/train/image/_Image_14L_2_0.png  \n",
            "  inflating: chase_db_384_384_dice_bce_0_4__hvr_0_4_1/split_2/train/image/_Image_03L_3_5.png  \n",
            "  inflating: chase_db_384_384_dice_bce_0_4__hvr_0_4_1/split_2/train/image/_Image_09R_2_3.png  \n",
            "  inflating: chase_db_384_384_dice_bce_0_4__hvr_0_4_1/split_2/train/image/_Image_03L_2_5.png  \n",
            "  inflating: chase_db_384_384_dice_bce_0_4__hvr_0_4_1/split_2/train/image/_Image_10L_3_7.png  \n",
            "  inflating: chase_db_384_384_dice_bce_0_4__hvr_0_4_1/split_2/train/image/_Image_06L_3_1.png  \n",
            "  inflating: chase_db_384_384_dice_bce_0_4__hvr_0_4_1/split_2/train/image/_Image_04L_2_8.png  \n",
            "  inflating: chase_db_384_384_dice_bce_0_4__hvr_0_4_1/split_2/train/image/_Image_01R_2_1.png  \n",
            "  inflating: chase_db_384_384_dice_bce_0_4__hvr_0_4_1/split_2/train/image/_Image_14R_2_2.png  \n",
            "  inflating: chase_db_384_384_dice_bce_0_4__hvr_0_4_1/split_2/train/image/_Image_03R_3_0.png  \n",
            "  inflating: chase_db_384_384_dice_bce_0_4__hvr_0_4_1/split_2/train/image/_Image_13R_3_1.png  \n",
            "  inflating: chase_db_384_384_dice_bce_0_4__hvr_0_4_1/split_2/train/image/_Image_05L_0_2.png  \n",
            "  inflating: chase_db_384_384_dice_bce_0_4__hvr_0_4_1/split_2/train/image/_Image_05L_1_1.png  \n",
            "  inflating: chase_db_384_384_dice_bce_0_4__hvr_0_4_1/split_2/train/image/_Image_07R_1_4.png  \n",
            "  inflating: chase_db_384_384_dice_bce_0_4__hvr_0_4_1/split_2/train/image/_Image_14L_0_8.png  \n",
            "  inflating: chase_db_384_384_dice_bce_0_4__hvr_0_4_1/split_2/train/image/_Image_06R_0_0.png  \n",
            "  inflating: chase_db_384_384_dice_bce_0_4__hvr_0_4_1/split_2/train/image/_Image_05L_3_5.png  \n",
            "  inflating: chase_db_384_384_dice_bce_0_4__hvr_0_4_1/split_2/train/image/_Image_09L_2_7.png  \n",
            "  inflating: chase_db_384_384_dice_bce_0_4__hvr_0_4_1/split_2/train/image/_Image_09R_2_1.png  \n",
            "  inflating: chase_db_384_384_dice_bce_0_4__hvr_0_4_1/split_2/train/image/_Image_04R_1_2.png  \n",
            "  inflating: chase_db_384_384_dice_bce_0_4__hvr_0_4_1/split_2/train/image/_Image_05R_3_1.png  \n",
            "  inflating: chase_db_384_384_dice_bce_0_4__hvr_0_4_1/split_2/train/image/_Image_04R_1_7.png  \n",
            "  inflating: chase_db_384_384_dice_bce_0_4__hvr_0_4_1/split_2/train/image/_Image_08L_1_6.png  \n",
            "  inflating: chase_db_384_384_dice_bce_0_4__hvr_0_4_1/split_2/train/image/_Image_14L_0_1.png  \n",
            "  inflating: chase_db_384_384_dice_bce_0_4__hvr_0_4_1/split_2/train/image/_Image_08L_0_3.png  \n",
            "  inflating: chase_db_384_384_dice_bce_0_4__hvr_0_4_1/split_2/train/image/_Image_03L_3_3.png  \n",
            "  inflating: chase_db_384_384_dice_bce_0_4__hvr_0_4_1/split_2/train/image/_Image_10L_3_0.png  \n",
            "  inflating: chase_db_384_384_dice_bce_0_4__hvr_0_4_1/split_2/train/image/_Image_07R_0_0.png  \n",
            "  inflating: chase_db_384_384_dice_bce_0_4__hvr_0_4_1/split_2/train/image/_Image_03L_0_6.png  \n",
            "  inflating: chase_db_384_384_dice_bce_0_4__hvr_0_4_1/split_2/train/image/_Image_10L_0_0.png  \n",
            "  inflating: chase_db_384_384_dice_bce_0_4__hvr_0_4_1/split_2/train/image/_Image_03R_1_3.png  \n",
            "  inflating: chase_db_384_384_dice_bce_0_4__hvr_0_4_1/split_2/train/image/_Image_08R_1_0.png  \n",
            "  inflating: chase_db_384_384_dice_bce_0_4__hvr_0_4_1/split_2/train/image/_Image_06R_0_8.png  \n",
            "  inflating: chase_db_384_384_dice_bce_0_4__hvr_0_4_1/split_2/train/image/_Image_07R_3_5.png  \n",
            "  inflating: chase_db_384_384_dice_bce_0_4__hvr_0_4_1/split_2/train/image/_Image_08L_3_0.png  \n",
            "  inflating: chase_db_384_384_dice_bce_0_4__hvr_0_4_1/split_2/train/image/_Image_13R_1_5.png  \n",
            "  inflating: chase_db_384_384_dice_bce_0_4__hvr_0_4_1/split_2/train/image/_Image_07L_0_4.png  \n",
            "  inflating: chase_db_384_384_dice_bce_0_4__hvr_0_4_1/split_2/train/image/_Image_03R_2_6.png  \n",
            "  inflating: chase_db_384_384_dice_bce_0_4__hvr_0_4_1/split_2/train/image/_Image_13R_1_6.png  \n",
            "  inflating: chase_db_384_384_dice_bce_0_4__hvr_0_4_1/split_2/train/image/_Image_09L_0_1.png  \n",
            "  inflating: chase_db_384_384_dice_bce_0_4__hvr_0_4_1/split_2/train/image/_Image_03L_2_6.png  \n",
            "  inflating: chase_db_384_384_dice_bce_0_4__hvr_0_4_1/split_2/train/image/_Image_08R_3_4.png  \n",
            "  inflating: chase_db_384_384_dice_bce_0_4__hvr_0_4_1/split_2/train/image/_Image_04R_0_0.png  \n",
            "  inflating: chase_db_384_384_dice_bce_0_4__hvr_0_4_1/split_2/train/image/_Image_07R_1_0.png  \n",
            "  inflating: chase_db_384_384_dice_bce_0_4__hvr_0_4_1/split_2/train/image/_Image_01R_0_5.png  \n",
            "  inflating: chase_db_384_384_dice_bce_0_4__hvr_0_4_1/split_2/train/image/_Image_08L_1_4.png  \n",
            "  inflating: chase_db_384_384_dice_bce_0_4__hvr_0_4_1/split_2/train/image/_Image_07L_2_1.png  \n",
            "  inflating: chase_db_384_384_dice_bce_0_4__hvr_0_4_1/split_2/train/image/_Image_14L_2_8.png  \n",
            "  inflating: chase_db_384_384_dice_bce_0_4__hvr_0_4_1/split_2/train/image/_Image_03L_0_8.png  \n",
            "  inflating: chase_db_384_384_dice_bce_0_4__hvr_0_4_1/split_2/train/image/_Image_02L_1_4.png  \n",
            "  inflating: chase_db_384_384_dice_bce_0_4__hvr_0_4_1/split_2/train/image/_Image_10R_0_0.png  \n",
            "  inflating: chase_db_384_384_dice_bce_0_4__hvr_0_4_1/split_2/train/image/_Image_06R_3_4.png  \n",
            "  inflating: chase_db_384_384_dice_bce_0_4__hvr_0_4_1/split_2/train/image/_Image_09R_0_8.png  \n",
            "  inflating: chase_db_384_384_dice_bce_0_4__hvr_0_4_1/split_2/train/image/_Image_09R_3_8.png  \n",
            "  inflating: chase_db_384_384_dice_bce_0_4__hvr_0_4_1/split_2/train/image/_Image_08L_2_1.png  \n",
            "  inflating: chase_db_384_384_dice_bce_0_4__hvr_0_4_1/split_2/train/image/_Image_14R_3_6.png  \n",
            "  inflating: chase_db_384_384_dice_bce_0_4__hvr_0_4_1/split_2/train/image/_Image_08R_2_7.png  \n",
            "  inflating: chase_db_384_384_dice_bce_0_4__hvr_0_4_1/split_2/train/image/_Image_08L_3_5.png  \n",
            "  inflating: chase_db_384_384_dice_bce_0_4__hvr_0_4_1/split_2/train/image/_Image_08L_1_0.png  \n",
            "  inflating: chase_db_384_384_dice_bce_0_4__hvr_0_4_1/split_2/train/image/_Image_07L_2_3.png  \n",
            "  inflating: chase_db_384_384_dice_bce_0_4__hvr_0_4_1/split_2/train/image/_Image_08L_1_8.png  \n",
            "  inflating: chase_db_384_384_dice_bce_0_4__hvr_0_4_1/split_2/train/image/_Image_04L_2_2.png  \n",
            "  inflating: chase_db_384_384_dice_bce_0_4__hvr_0_4_1/split_2/train/image/_Image_14R_1_6.png  \n",
            "  inflating: chase_db_384_384_dice_bce_0_4__hvr_0_4_1/split_2/train/image/_Image_03R_2_3.png  \n",
            "  inflating: chase_db_384_384_dice_bce_0_4__hvr_0_4_1/split_2/train/image/_Image_06L_2_1.png  \n",
            "  inflating: chase_db_384_384_dice_bce_0_4__hvr_0_4_1/split_2/train/image/_Image_03R_3_5.png  \n",
            "  inflating: chase_db_384_384_dice_bce_0_4__hvr_0_4_1/split_2/train/image/_Image_14L_1_2.png  \n",
            "  inflating: chase_db_384_384_dice_bce_0_4__hvr_0_4_1/split_2/train/image/_Image_05R_3_8.png  \n",
            "  inflating: chase_db_384_384_dice_bce_0_4__hvr_0_4_1/split_2/train/image/_Image_06R_3_5.png  \n",
            "  inflating: chase_db_384_384_dice_bce_0_4__hvr_0_4_1/split_2/train/image/_Image_04L_0_2.png  \n",
            "  inflating: chase_db_384_384_dice_bce_0_4__hvr_0_4_1/split_2/train/image/_Image_02R_2_6.png  \n",
            "  inflating: chase_db_384_384_dice_bce_0_4__hvr_0_4_1/split_2/train/image/_Image_10R_1_1.png  \n",
            "  inflating: chase_db_384_384_dice_bce_0_4__hvr_0_4_1/split_2/train/image/_Image_03R_2_0.png  \n",
            "  inflating: chase_db_384_384_dice_bce_0_4__hvr_0_4_1/split_2/train/image/_Image_02R_0_7.png  \n",
            "  inflating: chase_db_384_384_dice_bce_0_4__hvr_0_4_1/split_2/train/image/_Image_14R_1_5.png  \n",
            "  inflating: chase_db_384_384_dice_bce_0_4__hvr_0_4_1/split_2/train/image/_Image_03R_3_1.png  \n",
            "  inflating: chase_db_384_384_dice_bce_0_4__hvr_0_4_1/split_2/train/image/_Image_04L_0_8.png  \n",
            "  inflating: chase_db_384_384_dice_bce_0_4__hvr_0_4_1/split_2/train/image/_Image_04R_0_2.png  \n",
            "  inflating: chase_db_384_384_dice_bce_0_4__hvr_0_4_1/split_2/train/image/_Image_05R_0_6.png  \n",
            "  inflating: chase_db_384_384_dice_bce_0_4__hvr_0_4_1/split_2/train/image/_Image_09R_3_7.png  \n",
            "  inflating: chase_db_384_384_dice_bce_0_4__hvr_0_4_1/split_2/train/image/_Image_08L_1_3.png  \n",
            "  inflating: chase_db_384_384_dice_bce_0_4__hvr_0_4_1/split_2/train/image/_Image_03L_0_4.png  \n",
            "  inflating: chase_db_384_384_dice_bce_0_4__hvr_0_4_1/split_2/train/image/_Image_09L_2_2.png  \n",
            "  inflating: chase_db_384_384_dice_bce_0_4__hvr_0_4_1/split_2/train/image/_Image_06R_1_1.png  \n",
            "  inflating: chase_db_384_384_dice_bce_0_4__hvr_0_4_1/split_2/train/image/_Image_01R_1_6.png  \n",
            "  inflating: chase_db_384_384_dice_bce_0_4__hvr_0_4_1/split_2/train/image/_Image_08R_0_4.png  \n",
            "  inflating: chase_db_384_384_dice_bce_0_4__hvr_0_4_1/split_2/train/image/_Image_10L_3_6.png  \n",
            "  inflating: chase_db_384_384_dice_bce_0_4__hvr_0_4_1/split_2/train/image/_Image_03R_3_8.png  \n",
            "  inflating: chase_db_384_384_dice_bce_0_4__hvr_0_4_1/split_2/train/image/_Image_03L_3_1.png  \n",
            "  inflating: chase_db_384_384_dice_bce_0_4__hvr_0_4_1/split_2/train/image/_Image_01R_3_2.png  \n",
            "  inflating: chase_db_384_384_dice_bce_0_4__hvr_0_4_1/split_2/train/image/_Image_04R_3_0.png  \n",
            "  inflating: chase_db_384_384_dice_bce_0_4__hvr_0_4_1/split_2/train/image/_Image_13R_2_0.png  \n",
            "  inflating: chase_db_384_384_dice_bce_0_4__hvr_0_4_1/split_2/train/image/_Image_04R_0_8.png  \n",
            "  inflating: chase_db_384_384_dice_bce_0_4__hvr_0_4_1/split_2/train/image/_Image_14L_0_2.png  \n",
            "  inflating: chase_db_384_384_dice_bce_0_4__hvr_0_4_1/split_2/train/image/_Image_02R_3_6.png  \n",
            "  inflating: chase_db_384_384_dice_bce_0_4__hvr_0_4_1/split_2/train/image/_Image_01L_1_7.png  \n",
            "  inflating: chase_db_384_384_dice_bce_0_4__hvr_0_4_1/split_2/train/image/_Image_06L_3_4.png  \n",
            "  inflating: chase_db_384_384_dice_bce_0_4__hvr_0_4_1/split_2/train/image/_Image_10R_0_5.png  \n",
            "  inflating: chase_db_384_384_dice_bce_0_4__hvr_0_4_1/split_2/train/image/_Image_01L_0_6.png  \n",
            "  inflating: chase_db_384_384_dice_bce_0_4__hvr_0_4_1/split_2/train/image/_Image_13R_3_6.png  \n",
            "  inflating: chase_db_384_384_dice_bce_0_4__hvr_0_4_1/split_2/train/image/_Image_10L_0_3.png  \n",
            "  inflating: chase_db_384_384_dice_bce_0_4__hvr_0_4_1/split_2/train/image/_Image_09R_0_3.png  \n",
            "  inflating: chase_db_384_384_dice_bce_0_4__hvr_0_4_1/split_2/train/image/_Image_10R_1_8.png  \n",
            "  inflating: chase_db_384_384_dice_bce_0_4__hvr_0_4_1/split_2/train/image/_Image_10R_2_0.png  \n",
            "  inflating: chase_db_384_384_dice_bce_0_4__hvr_0_4_1/split_2/train/image/_Image_08R_1_6.png  \n",
            "  inflating: chase_db_384_384_dice_bce_0_4__hvr_0_4_1/split_2/train/image/_Image_02L_3_8.png  \n",
            "  inflating: chase_db_384_384_dice_bce_0_4__hvr_0_4_1/split_2/train/image/_Image_02R_3_2.png  \n",
            "  inflating: chase_db_384_384_dice_bce_0_4__hvr_0_4_1/split_2/train/image/_Image_14R_0_7.png  \n",
            "  inflating: chase_db_384_384_dice_bce_0_4__hvr_0_4_1/split_2/train/image/_Image_04R_3_5.png  \n",
            "  inflating: chase_db_384_384_dice_bce_0_4__hvr_0_4_1/split_2/train/image/_Image_14R_0_6.png  \n",
            "  inflating: chase_db_384_384_dice_bce_0_4__hvr_0_4_1/split_2/train/image/_Image_09L_0_7.png  \n",
            "  inflating: chase_db_384_384_dice_bce_0_4__hvr_0_4_1/split_2/train/image/_Image_06L_1_6.png  \n",
            "  inflating: chase_db_384_384_dice_bce_0_4__hvr_0_4_1/split_2/train/image/_Image_13R_1_8.png  \n",
            "  inflating: chase_db_384_384_dice_bce_0_4__hvr_0_4_1/split_2/train/image/_Image_09L_3_3.png  \n",
            "  inflating: chase_db_384_384_dice_bce_0_4__hvr_0_4_1/split_2/train/image/_Image_13R_0_0.png  \n",
            "  inflating: chase_db_384_384_dice_bce_0_4__hvr_0_4_1/split_2/train/image/_Image_05L_3_0.png  \n",
            "  inflating: chase_db_384_384_dice_bce_0_4__hvr_0_4_1/split_2/train/image/_Image_09R_3_6.png  \n",
            "  inflating: chase_db_384_384_dice_bce_0_4__hvr_0_4_1/split_2/train/image/_Image_05L_1_2.png  \n",
            "  inflating: chase_db_384_384_dice_bce_0_4__hvr_0_4_1/split_2/train/image/_Image_01L_3_1.png  \n",
            "  inflating: chase_db_384_384_dice_bce_0_4__hvr_0_4_1/split_2/train/image/_Image_06R_1_0.png  \n",
            "  inflating: chase_db_384_384_dice_bce_0_4__hvr_0_4_1/split_2/train/image/_Image_09L_0_0.png  \n",
            "  inflating: chase_db_384_384_dice_bce_0_4__hvr_0_4_1/split_2/train/image/_Image_05L_0_0.png  \n",
            "  inflating: chase_db_384_384_dice_bce_0_4__hvr_0_4_1/split_2/train/image/_Image_06R_2_2.png  \n",
            "  inflating: chase_db_384_384_dice_bce_0_4__hvr_0_4_1/split_2/train/image/_Image_14R_3_2.png  \n",
            "  inflating: chase_db_384_384_dice_bce_0_4__hvr_0_4_1/split_2/train/image/_Image_05R_2_8.png  \n",
            "  inflating: chase_db_384_384_dice_bce_0_4__hvr_0_4_1/split_2/train/image/_Image_10L_2_2.png  \n",
            "  inflating: chase_db_384_384_dice_bce_0_4__hvr_0_4_1/split_2/train/image/_Image_02R_1_8.png  \n",
            "  inflating: chase_db_384_384_dice_bce_0_4__hvr_0_4_1/split_2/train/image/_Image_01R_3_3.png  \n",
            "  inflating: chase_db_384_384_dice_bce_0_4__hvr_0_4_1/split_2/train/image/_Image_06R_3_6.png  \n",
            "  inflating: chase_db_384_384_dice_bce_0_4__hvr_0_4_1/split_2/train/image/_Image_13R_3_0.png  \n",
            "  inflating: chase_db_384_384_dice_bce_0_4__hvr_0_4_1/split_2/train/image/_Image_01L_0_5.png  \n",
            "  inflating: chase_db_384_384_dice_bce_0_4__hvr_0_4_1/split_2/train/image/_Image_09L_1_0.png  \n",
            "  inflating: chase_db_384_384_dice_bce_0_4__hvr_0_4_1/split_2/train/image/_Image_09R_1_1.png  \n",
            "  inflating: chase_db_384_384_dice_bce_0_4__hvr_0_4_1/split_2/train/image/_Image_10L_0_2.png  \n",
            "  inflating: chase_db_384_384_dice_bce_0_4__hvr_0_4_1/split_2/train/image/_Image_02R_0_0.png  \n",
            "  inflating: chase_db_384_384_dice_bce_0_4__hvr_0_4_1/split_2/train/image/_Image_02L_3_6.png  \n",
            "  inflating: chase_db_384_384_dice_bce_0_4__hvr_0_4_1/split_2/train/image/_Image_13R_0_2.png  \n",
            "  inflating: chase_db_384_384_dice_bce_0_4__hvr_0_4_1/split_2/train/image/_Image_10R_2_7.png  \n",
            "  inflating: chase_db_384_384_dice_bce_0_4__hvr_0_4_1/split_2/train/image/_Image_14L_1_6.png  \n",
            "  inflating: chase_db_384_384_dice_bce_0_4__hvr_0_4_1/split_2/train/image/_Image_05L_0_5.png  \n",
            "  inflating: chase_db_384_384_dice_bce_0_4__hvr_0_4_1/split_2/train/image/_Image_08R_0_0.png  \n",
            "  inflating: chase_db_384_384_dice_bce_0_4__hvr_0_4_1/split_2/train/image/_Image_10R_2_5.png  \n",
            "  inflating: chase_db_384_384_dice_bce_0_4__hvr_0_4_1/split_2/train/image/_Image_01R_3_1.png  \n",
            "  inflating: chase_db_384_384_dice_bce_0_4__hvr_0_4_1/split_2/train/image/_Image_01L_0_8.png  \n",
            "  inflating: chase_db_384_384_dice_bce_0_4__hvr_0_4_1/split_2/train/image/_Image_08L_0_1.png  \n",
            "  inflating: chase_db_384_384_dice_bce_0_4__hvr_0_4_1/split_2/train/image/_Image_04L_1_3.png  \n",
            "  inflating: chase_db_384_384_dice_bce_0_4__hvr_0_4_1/split_2/train/image/_Image_02L_1_2.png  \n",
            "  inflating: chase_db_384_384_dice_bce_0_4__hvr_0_4_1/split_2/train/image/_Image_01R_1_7.png  \n",
            "  inflating: chase_db_384_384_dice_bce_0_4__hvr_0_4_1/split_2/train/image/_Image_14R_0_0.png  \n",
            "  inflating: chase_db_384_384_dice_bce_0_4__hvr_0_4_1/split_2/train/image/_Image_05L_2_5.png  \n",
            "  inflating: chase_db_384_384_dice_bce_0_4__hvr_0_4_1/split_2/train/image/_Image_10R_2_4.png  \n",
            "  inflating: chase_db_384_384_dice_bce_0_4__hvr_0_4_1/split_2/train/image/_Image_14L_0_4.png  \n",
            "  inflating: chase_db_384_384_dice_bce_0_4__hvr_0_4_1/split_2/train/image/_Image_10R_2_2.png  \n",
            "  inflating: chase_db_384_384_dice_bce_0_4__hvr_0_4_1/split_2/train/image/_Image_14R_2_8.png  \n",
            "  inflating: chase_db_384_384_dice_bce_0_4__hvr_0_4_1/split_2/train/image/_Image_06L_2_6.png  \n",
            "  inflating: chase_db_384_384_dice_bce_0_4__hvr_0_4_1/split_2/train/image/_Image_06L_1_5.png  \n",
            "  inflating: chase_db_384_384_dice_bce_0_4__hvr_0_4_1/split_2/train/image/_Image_07L_1_0.png  \n",
            "  inflating: chase_db_384_384_dice_bce_0_4__hvr_0_4_1/split_2/train/image/_Image_03R_2_8.png  \n",
            "  inflating: chase_db_384_384_dice_bce_0_4__hvr_0_4_1/split_2/train/image/_Image_01R_1_5.png  \n",
            "  inflating: chase_db_384_384_dice_bce_0_4__hvr_0_4_1/split_2/train/image/_Image_01L_1_4.png  \n",
            "  inflating: chase_db_384_384_dice_bce_0_4__hvr_0_4_1/split_2/train/image/_Image_04R_2_5.png  \n",
            "  inflating: chase_db_384_384_dice_bce_0_4__hvr_0_4_1/split_2/train/image/_Image_04L_0_3.png  \n",
            "  inflating: chase_db_384_384_dice_bce_0_4__hvr_0_4_1/split_2/train/image/_Image_08L_2_8.png  \n",
            "  inflating: chase_db_384_384_dice_bce_0_4__hvr_0_4_1/split_2/train/image/_Image_06R_2_6.png  \n",
            "  inflating: chase_db_384_384_dice_bce_0_4__hvr_0_4_1/split_2/train/image/_Image_14L_3_0.png  \n",
            "  inflating: chase_db_384_384_dice_bce_0_4__hvr_0_4_1/split_2/train/image/_Image_04R_3_4.png  \n",
            "  inflating: chase_db_384_384_dice_bce_0_4__hvr_0_4_1/split_2/train/image/_Image_14R_3_3.png  \n",
            "  inflating: chase_db_384_384_dice_bce_0_4__hvr_0_4_1/split_2/train/image/_Image_09R_0_4.png  \n",
            "  inflating: chase_db_384_384_dice_bce_0_4__hvr_0_4_1/split_2/train/image/_Image_10R_0_1.png  \n",
            "  inflating: chase_db_384_384_dice_bce_0_4__hvr_0_4_1/split_2/train/image/_Image_06L_1_2.png  \n",
            "  inflating: chase_db_384_384_dice_bce_0_4__hvr_0_4_1/split_2/train/image/_Image_10R_0_7.png  \n",
            "  inflating: chase_db_384_384_dice_bce_0_4__hvr_0_4_1/split_2/train/image/_Image_09R_1_0.png  \n",
            "  inflating: chase_db_384_384_dice_bce_0_4__hvr_0_4_1/split_2/train/image/_Image_04L_3_1.png  \n",
            "  inflating: chase_db_384_384_dice_bce_0_4__hvr_0_4_1/split_2/train/image/_Image_10L_1_6.png  \n",
            "  inflating: chase_db_384_384_dice_bce_0_4__hvr_0_4_1/split_2/train/image/_Image_13R_0_8.png  \n",
            "  inflating: chase_db_384_384_dice_bce_0_4__hvr_0_4_1/split_2/train/image/_Image_14L_3_1.png  \n",
            "  inflating: chase_db_384_384_dice_bce_0_4__hvr_0_4_1/split_2/train/image/_Image_09R_3_0.png  \n",
            "  inflating: chase_db_384_384_dice_bce_0_4__hvr_0_4_1/split_2/train/image/_Image_01L_2_7.png  \n",
            "  inflating: chase_db_384_384_dice_bce_0_4__hvr_0_4_1/split_2/train/image/_Image_06R_1_8.png  \n",
            "  inflating: chase_db_384_384_dice_bce_0_4__hvr_0_4_1/split_2/train/image/_Image_07L_3_2.png  \n",
            "  inflating: chase_db_384_384_dice_bce_0_4__hvr_0_4_1/split_2/train/image/_Image_08L_1_7.png  \n",
            "  inflating: chase_db_384_384_dice_bce_0_4__hvr_0_4_1/split_2/train/image/_Image_09R_1_7.png  \n",
            "  inflating: chase_db_384_384_dice_bce_0_4__hvr_0_4_1/split_2/train/image/_Image_05R_0_2.png  \n",
            "  inflating: chase_db_384_384_dice_bce_0_4__hvr_0_4_1/split_2/train/image/_Image_01L_1_3.png  \n",
            "  inflating: chase_db_384_384_dice_bce_0_4__hvr_0_4_1/split_2/train/image/_Image_10L_2_0.png  \n",
            "  inflating: chase_db_384_384_dice_bce_0_4__hvr_0_4_1/split_2/train/image/_Image_08L_0_8.png  \n",
            "  inflating: chase_db_384_384_dice_bce_0_4__hvr_0_4_1/split_2/train/image/_Image_14R_3_8.png  \n",
            "  inflating: chase_db_384_384_dice_bce_0_4__hvr_0_4_1/split_2/train/image/_Image_03R_0_3.png  \n",
            "  inflating: chase_db_384_384_dice_bce_0_4__hvr_0_4_1/split_2/train/image/_Image_02L_1_7.png  \n",
            "  inflating: chase_db_384_384_dice_bce_0_4__hvr_0_4_1/split_2/train/image/_Image_03L_1_0.png  \n",
            "  inflating: chase_db_384_384_dice_bce_0_4__hvr_0_4_1/split_2/train/image/_Image_02L_3_1.png  \n",
            "  inflating: chase_db_384_384_dice_bce_0_4__hvr_0_4_1/split_2/train/image/_Image_10L_3_2.png  \n",
            "  inflating: chase_db_384_384_dice_bce_0_4__hvr_0_4_1/split_2/train/image/_Image_09R_3_2.png  \n",
            "  inflating: chase_db_384_384_dice_bce_0_4__hvr_0_4_1/split_2/train/image/_Image_07R_2_0.png  \n",
            "  inflating: chase_db_384_384_dice_bce_0_4__hvr_0_4_1/split_2/train/image/_Image_14R_1_4.png  \n",
            "  inflating: chase_db_384_384_dice_bce_0_4__hvr_0_4_1/split_2/train/image/_Image_02R_3_3.png  \n",
            "  inflating: chase_db_384_384_dice_bce_0_4__hvr_0_4_1/split_2/train/image/_Image_02L_2_6.png  \n",
            "  inflating: chase_db_384_384_dice_bce_0_4__hvr_0_4_1/split_2/train/image/_Image_05R_3_4.png  \n",
            "  inflating: chase_db_384_384_dice_bce_0_4__hvr_0_4_1/split_2/train/image/_Image_05L_2_8.png  \n",
            "  inflating: chase_db_384_384_dice_bce_0_4__hvr_0_4_1/split_2/train/image/_Image_01L_0_7.png  \n",
            "  inflating: chase_db_384_384_dice_bce_0_4__hvr_0_4_1/split_2/train/image/_Image_06L_2_2.png  \n",
            "  inflating: chase_db_384_384_dice_bce_0_4__hvr_0_4_1/split_2/train/image/_Image_09L_2_3.png  \n",
            "  inflating: chase_db_384_384_dice_bce_0_4__hvr_0_4_1/split_2/train/image/_Image_04R_3_6.png  \n",
            "  inflating: chase_db_384_384_dice_bce_0_4__hvr_0_4_1/split_2/train/image/_Image_14L_2_5.png  \n",
            "  inflating: chase_db_384_384_dice_bce_0_4__hvr_0_4_1/split_2/train/image/_Image_09R_3_3.png  \n",
            "  inflating: chase_db_384_384_dice_bce_0_4__hvr_0_4_1/split_2/train/image/_Image_07L_3_1.png  \n",
            "  inflating: chase_db_384_384_dice_bce_0_4__hvr_0_4_1/split_2/train/image/_Image_08L_3_3.png  \n",
            "  inflating: chase_db_384_384_dice_bce_0_4__hvr_0_4_1/split_2/train/image/_Image_08R_0_8.png  \n",
            "  inflating: chase_db_384_384_dice_bce_0_4__hvr_0_4_1/split_2/train/image/_Image_08L_3_1.png  \n",
            "  inflating: chase_db_384_384_dice_bce_0_4__hvr_0_4_1/split_2/train/image/_Image_10L_1_1.png  \n",
            "  inflating: chase_db_384_384_dice_bce_0_4__hvr_0_4_1/split_2/train/image/_Image_06R_0_3.png  \n",
            "  inflating: chase_db_384_384_dice_bce_0_4__hvr_0_4_1/split_2/train/image/_Image_14L_2_6.png  \n",
            "  inflating: chase_db_384_384_dice_bce_0_4__hvr_0_4_1/split_2/train/image/_Image_01R_2_4.png  \n",
            "  inflating: chase_db_384_384_dice_bce_0_4__hvr_0_4_1/split_2/train/image/_Image_04L_1_0.png  \n",
            "  inflating: chase_db_384_384_dice_bce_0_4__hvr_0_4_1/split_2/train/image/_Image_08R_1_4.png  \n",
            "  inflating: chase_db_384_384_dice_bce_0_4__hvr_0_4_1/split_2/train/image/_Image_10L_0_4.png  \n",
            "  inflating: chase_db_384_384_dice_bce_0_4__hvr_0_4_1/split_2/train/image/_Image_13R_0_5.png  \n",
            "  inflating: chase_db_384_384_dice_bce_0_4__hvr_0_4_1/split_2/train/image/_Image_08R_2_3.png  \n",
            "  inflating: chase_db_384_384_dice_bce_0_4__hvr_0_4_1/split_2/train/image/_Image_10R_3_8.png  \n",
            "  inflating: chase_db_384_384_dice_bce_0_4__hvr_0_4_1/split_2/train/image/_Image_01L_2_6.png  \n",
            "  inflating: chase_db_384_384_dice_bce_0_4__hvr_0_4_1/split_2/train/image/_Image_04L_1_8.png  \n",
            "  inflating: chase_db_384_384_dice_bce_0_4__hvr_0_4_1/split_2/train/image/_Image_08R_2_8.png  \n",
            "  inflating: chase_db_384_384_dice_bce_0_4__hvr_0_4_1/split_2/train/image/_Image_01L_0_4.png  \n",
            "  inflating: chase_db_384_384_dice_bce_0_4__hvr_0_4_1/split_2/train/image/_Image_07R_1_5.png  \n",
            "  inflating: chase_db_384_384_dice_bce_0_4__hvr_0_4_1/split_2/train/image/_Image_07R_1_7.png  \n",
            "  inflating: chase_db_384_384_dice_bce_0_4__hvr_0_4_1/split_2/train/image/_Image_06L_2_7.png  \n",
            "  inflating: chase_db_384_384_dice_bce_0_4__hvr_0_4_1/split_2/train/image/_Image_14L_3_5.png  \n",
            "  inflating: chase_db_384_384_dice_bce_0_4__hvr_0_4_1/split_2/train/image/_Image_01R_1_2.png  \n",
            "  inflating: chase_db_384_384_dice_bce_0_4__hvr_0_4_1/split_2/train/image/_Image_05L_3_4.png  \n",
            "  inflating: chase_db_384_384_dice_bce_0_4__hvr_0_4_1/split_2/train/image/_Image_07L_1_6.png  \n",
            "  inflating: chase_db_384_384_dice_bce_0_4__hvr_0_4_1/split_2/train/image/_Image_14R_2_1.png  \n",
            "  inflating: chase_db_384_384_dice_bce_0_4__hvr_0_4_1/split_2/train/image/_Image_01L_2_2.png  \n",
            "  inflating: chase_db_384_384_dice_bce_0_4__hvr_0_4_1/split_2/train/image/_Image_01R_1_4.png  \n",
            "  inflating: chase_db_384_384_dice_bce_0_4__hvr_0_4_1/split_2/train/image/_Image_07L_0_3.png  \n",
            "  inflating: chase_db_384_384_dice_bce_0_4__hvr_0_4_1/split_2/train/image/_Image_05R_1_4.png  \n",
            "  inflating: chase_db_384_384_dice_bce_0_4__hvr_0_4_1/split_2/train/image/_Image_08R_3_7.png  \n",
            "  inflating: chase_db_384_384_dice_bce_0_4__hvr_0_4_1/split_2/train/image/_Image_03L_2_7.png  \n",
            "  inflating: chase_db_384_384_dice_bce_0_4__hvr_0_4_1/split_2/train/image/_Image_06L_1_4.png  \n",
            "  inflating: chase_db_384_384_dice_bce_0_4__hvr_0_4_1/split_2/train/image/_Image_09L_3_6.png  \n",
            "  inflating: chase_db_384_384_dice_bce_0_4__hvr_0_4_1/split_2/train/image/_Image_09L_2_6.png  \n",
            "  inflating: chase_db_384_384_dice_bce_0_4__hvr_0_4_1/split_2/train/image/_Image_07R_3_6.png  \n",
            "  inflating: chase_db_384_384_dice_bce_0_4__hvr_0_4_1/split_2/train/image/_Image_06R_0_4.png  \n",
            "  inflating: chase_db_384_384_dice_bce_0_4__hvr_0_4_1/split_2/train/image/_Image_02R_2_3.png  \n",
            "  inflating: chase_db_384_384_dice_bce_0_4__hvr_0_4_1/split_2/train/image/_Image_05L_0_1.png  \n",
            "  inflating: chase_db_384_384_dice_bce_0_4__hvr_0_4_1/split_2/train/image/_Image_13R_2_3.png  \n",
            "  inflating: chase_db_384_384_dice_bce_0_4__hvr_0_4_1/split_2/train/image/_Image_03R_1_2.png  \n",
            "  inflating: chase_db_384_384_dice_bce_0_4__hvr_0_4_1/split_2/train/image/_Image_14L_1_5.png  \n",
            "  inflating: chase_db_384_384_dice_bce_0_4__hvr_0_4_1/split_2/train/image/_Image_06L_2_5.png  \n",
            "  inflating: chase_db_384_384_dice_bce_0_4__hvr_0_4_1/split_2/train/image/_Image_09R_0_6.png  \n",
            "  inflating: chase_db_384_384_dice_bce_0_4__hvr_0_4_1/split_2/train/image/_Image_01R_2_6.png  \n",
            "  inflating: chase_db_384_384_dice_bce_0_4__hvr_0_4_1/split_2/train/image/_Image_10R_1_4.png  \n",
            "  inflating: chase_db_384_384_dice_bce_0_4__hvr_0_4_1/split_2/train/image/_Image_14R_3_7.png  \n",
            "  inflating: chase_db_384_384_dice_bce_0_4__hvr_0_4_1/split_2/train/image/_Image_02L_1_1.png  \n",
            "  inflating: chase_db_384_384_dice_bce_0_4__hvr_0_4_1/split_2/train/image/_Image_06R_2_1.png  \n",
            "  inflating: chase_db_384_384_dice_bce_0_4__hvr_0_4_1/split_2/train/image/_Image_07R_3_1.png  \n",
            "  inflating: chase_db_384_384_dice_bce_0_4__hvr_0_4_1/split_2/train/image/_Image_01R_3_6.png  \n",
            "  inflating: chase_db_384_384_dice_bce_0_4__hvr_0_4_1/split_2/train/image/_Image_03R_0_1.png  \n",
            "  inflating: chase_db_384_384_dice_bce_0_4__hvr_0_4_1/split_2/train/image/_Image_02R_3_8.png  \n",
            "  inflating: chase_db_384_384_dice_bce_0_4__hvr_0_4_1/split_2/train/image/_Image_01R_2_7.png  \n",
            "  inflating: chase_db_384_384_dice_bce_0_4__hvr_0_4_1/split_2/train/image/_Image_04L_0_1.png  \n",
            "  inflating: chase_db_384_384_dice_bce_0_4__hvr_0_4_1/split_2/train/image/_Image_03R_1_1.png  \n",
            "  inflating: chase_db_384_384_dice_bce_0_4__hvr_0_4_1/split_2/train/image/_Image_10L_1_8.png  \n",
            "  inflating: chase_db_384_384_dice_bce_0_4__hvr_0_4_1/split_2/train/image/_Image_08R_3_1.png  \n",
            "  inflating: chase_db_384_384_dice_bce_0_4__hvr_0_4_1/split_2/train/image/_Image_10R_3_7.png  \n",
            "  inflating: chase_db_384_384_dice_bce_0_4__hvr_0_4_1/split_2/train/image/_Image_09L_3_1.png  \n",
            "  inflating: chase_db_384_384_dice_bce_0_4__hvr_0_4_1/split_2/train/image/_Image_01L_0_0.png  \n",
            "  inflating: chase_db_384_384_dice_bce_0_4__hvr_0_4_1/split_2/train/image/_Image_14L_1_4.png  \n",
            "  inflating: chase_db_384_384_dice_bce_0_4__hvr_0_4_1/split_2/train/image/_Image_08R_1_8.png  \n",
            "  inflating: chase_db_384_384_dice_bce_0_4__hvr_0_4_1/split_2/train/image/_Image_04R_1_8.png  \n",
            "  inflating: chase_db_384_384_dice_bce_0_4__hvr_0_4_1/split_2/train/image/_Image_04L_3_5.png  \n",
            "  inflating: chase_db_384_384_dice_bce_0_4__hvr_0_4_1/split_2/train/image/_Image_07L_1_7.png  \n",
            "  inflating: chase_db_384_384_dice_bce_0_4__hvr_0_4_1/split_2/train/image/_Image_14R_3_5.png  \n",
            "  inflating: chase_db_384_384_dice_bce_0_4__hvr_0_4_1/split_2/train/image/_Image_02L_1_5.png  \n",
            "  inflating: chase_db_384_384_dice_bce_0_4__hvr_0_4_1/split_2/train/image/_Image_03L_1_4.png  \n",
            "  inflating: chase_db_384_384_dice_bce_0_4__hvr_0_4_1/split_2/train/image/_Image_08R_0_3.png  \n",
            "  inflating: chase_db_384_384_dice_bce_0_4__hvr_0_4_1/split_2/train/image/_Image_10R_3_6.png  \n",
            "  inflating: chase_db_384_384_dice_bce_0_4__hvr_0_4_1/split_2/train/image/_Image_02R_3_7.png  \n",
            "  inflating: chase_db_384_384_dice_bce_0_4__hvr_0_4_1/split_2/train/image/_Image_04R_2_8.png  \n",
            "  inflating: chase_db_384_384_dice_bce_0_4__hvr_0_4_1/split_2/train/image/_Image_09R_0_5.png  \n",
            "  inflating: chase_db_384_384_dice_bce_0_4__hvr_0_4_1/split_2/train/image/_Image_05R_3_3.png  \n",
            "  inflating: chase_db_384_384_dice_bce_0_4__hvr_0_4_1/split_2/train/image/_Image_07L_2_6.png  \n",
            "  inflating: chase_db_384_384_dice_bce_0_4__hvr_0_4_1/split_2/train/image/_Image_02R_2_7.png  \n",
            "  inflating: chase_db_384_384_dice_bce_0_4__hvr_0_4_1/split_2/train/image/_Image_05R_0_0.png  \n",
            "  inflating: chase_db_384_384_dice_bce_0_4__hvr_0_4_1/split_2/train/image/_Image_01L_3_4.png  \n",
            "  inflating: chase_db_384_384_dice_bce_0_4__hvr_0_4_1/split_2/train/image/_Image_04L_3_8.png  \n",
            "  inflating: chase_db_384_384_dice_bce_0_4__hvr_0_4_1/split_2/train/image/_Image_14R_2_4.png  \n",
            "  inflating: chase_db_384_384_dice_bce_0_4__hvr_0_4_1/split_2/train/image/_Image_07L_0_7.png  \n",
            "  inflating: chase_db_384_384_dice_bce_0_4__hvr_0_4_1/split_2/train/image/_Image_02R_1_1.png  \n",
            "  inflating: chase_db_384_384_dice_bce_0_4__hvr_0_4_1/split_2/train/image/_Image_03L_0_7.png  \n",
            "  inflating: chase_db_384_384_dice_bce_0_4__hvr_0_4_1/split_2/train/image/_Image_09L_1_3.png  \n",
            "  inflating: chase_db_384_384_dice_bce_0_4__hvr_0_4_1/split_2/train/image/_Image_02R_0_3.png  \n",
            "  inflating: chase_db_384_384_dice_bce_0_4__hvr_0_4_1/split_2/train/image/_Image_01L_2_3.png  \n",
            "  inflating: chase_db_384_384_dice_bce_0_4__hvr_0_4_1/split_2/train/image/_Image_01L_3_2.png  \n",
            "  inflating: chase_db_384_384_dice_bce_0_4__hvr_0_4_1/split_2/train/image/_Image_07R_0_3.png  \n",
            "  inflating: chase_db_384_384_dice_bce_0_4__hvr_0_4_1/split_2/train/image/_Image_05L_2_4.png  \n",
            "  inflating: chase_db_384_384_dice_bce_0_4__hvr_0_4_1/split_2/train/image/_Image_02R_1_2.png  \n",
            "  inflating: chase_db_384_384_dice_bce_0_4__hvr_0_4_1/split_2/train/image/_Image_03L_3_7.png  \n",
            "  inflating: chase_db_384_384_dice_bce_0_4__hvr_0_4_1/split_2/train/image/_Image_08L_0_4.png  \n",
            "  inflating: chase_db_384_384_dice_bce_0_4__hvr_0_4_1/split_2/train/image/_Image_04L_2_0.png  \n",
            "  inflating: chase_db_384_384_dice_bce_0_4__hvr_0_4_1/split_2/train/image/_Image_06L_0_0.png  \n",
            "  inflating: chase_db_384_384_dice_bce_0_4__hvr_0_4_1/split_2/train/image/_Image_03R_3_3.png  \n",
            "  inflating: chase_db_384_384_dice_bce_0_4__hvr_0_4_1/split_2/train/image/_Image_08R_3_2.png  \n",
            "  inflating: chase_db_384_384_dice_bce_0_4__hvr_0_4_1/split_2/train/image/_Image_04L_1_7.png  \n",
            "  inflating: chase_db_384_384_dice_bce_0_4__hvr_0_4_1/split_2/train/image/_Image_14R_1_8.png  \n",
            "  inflating: chase_db_384_384_dice_bce_0_4__hvr_0_4_1/split_2/train/image/_Image_09R_2_2.png  \n",
            "  inflating: chase_db_384_384_dice_bce_0_4__hvr_0_4_1/split_2/train/image/_Image_07L_2_7.png  \n",
            "  inflating: chase_db_384_384_dice_bce_0_4__hvr_0_4_1/split_2/train/image/_Image_02L_1_6.png  \n",
            "  inflating: chase_db_384_384_dice_bce_0_4__hvr_0_4_1/split_2/train/image/_Image_02L_1_8.png  \n",
            "  inflating: chase_db_384_384_dice_bce_0_4__hvr_0_4_1/split_2/train/image/_Image_14R_0_4.png  \n",
            "  inflating: chase_db_384_384_dice_bce_0_4__hvr_0_4_1/split_2/train/image/_Image_13R_1_3.png  \n",
            "  inflating: chase_db_384_384_dice_bce_0_4__hvr_0_4_1/split_2/train/image/_Image_07L_1_4.png  \n",
            "  inflating: chase_db_384_384_dice_bce_0_4__hvr_0_4_1/split_2/train/image/_Image_04R_0_4.png  \n",
            "  inflating: chase_db_384_384_dice_bce_0_4__hvr_0_4_1/split_2/train/image/_Image_07L_0_2.png  \n",
            "  inflating: chase_db_384_384_dice_bce_0_4__hvr_0_4_1/split_2/train/image/_Image_06R_3_1.png  \n",
            "  inflating: chase_db_384_384_dice_bce_0_4__hvr_0_4_1/split_2/train/image/_Image_03L_0_3.png  \n",
            "  inflating: chase_db_384_384_dice_bce_0_4__hvr_0_4_1/split_2/train/image/_Image_01L_1_0.png  \n",
            "  inflating: chase_db_384_384_dice_bce_0_4__hvr_0_4_1/split_2/train/image/_Image_04R_3_8.png  \n",
            "  inflating: chase_db_384_384_dice_bce_0_4__hvr_0_4_1/split_2/train/image/_Image_07L_0_6.png  \n",
            "  inflating: chase_db_384_384_dice_bce_0_4__hvr_0_4_1/split_2/train/image/_Image_13R_1_0.png  \n",
            "  inflating: chase_db_384_384_dice_bce_0_4__hvr_0_4_1/split_2/train/image/_Image_14R_3_4.png  \n",
            "  inflating: chase_db_384_384_dice_bce_0_4__hvr_0_4_1/split_2/train/image/_Image_04L_3_2.png  \n",
            "  inflating: chase_db_384_384_dice_bce_0_4__hvr_0_4_1/split_2/train/image/_Image_04L_0_4.png  \n",
            "  inflating: chase_db_384_384_dice_bce_0_4__hvr_0_4_1/split_2/train/image/_Image_10R_2_3.png  \n",
            "  inflating: chase_db_384_384_dice_bce_0_4__hvr_0_4_1/split_2/train/image/_Image_10R_0_3.png  \n",
            "  inflating: chase_db_384_384_dice_bce_0_4__hvr_0_4_1/split_2/train/image/_Image_06R_2_8.png  \n",
            "  inflating: chase_db_384_384_dice_bce_0_4__hvr_0_4_1/split_2/train/image/_Image_10L_1_4.png  \n",
            "  inflating: chase_db_384_384_dice_bce_0_4__hvr_0_4_1/split_2/train/image/_Image_06R_3_0.png  \n",
            "  inflating: chase_db_384_384_dice_bce_0_4__hvr_0_4_1/split_2/train/image/_Image_03R_1_7.png  \n",
            "  inflating: chase_db_384_384_dice_bce_0_4__hvr_0_4_1/split_2/train/image/_Image_07R_0_6.png  \n",
            "  inflating: chase_db_384_384_dice_bce_0_4__hvr_0_4_1/split_2/train/image/_Image_06R_3_2.png  \n",
            "  inflating: chase_db_384_384_dice_bce_0_4__hvr_0_4_1/split_2/train/image/_Image_02R_2_0.png  \n",
            "  inflating: chase_db_384_384_dice_bce_0_4__hvr_0_4_1/split_2/train/image/_Image_03R_0_4.png  \n",
            "  inflating: chase_db_384_384_dice_bce_0_4__hvr_0_4_1/split_2/train/image/_Image_05L_0_3.png  \n",
            "  inflating: chase_db_384_384_dice_bce_0_4__hvr_0_4_1/split_2/train/image/_Image_02L_2_4.png  \n",
            "  inflating: chase_db_384_384_dice_bce_0_4__hvr_0_4_1/split_2/train/image/_Image_04R_2_2.png  \n",
            "  inflating: chase_db_384_384_dice_bce_0_4__hvr_0_4_1/split_2/train/image/_Image_13R_2_4.png  \n",
            "  inflating: chase_db_384_384_dice_bce_0_4__hvr_0_4_1/split_2/train/image/_Image_07L_3_6.png  \n",
            "  inflating: chase_db_384_384_dice_bce_0_4__hvr_0_4_1/split_2/train/image/_Image_05L_1_7.png  \n",
            "  inflating: chase_db_384_384_dice_bce_0_4__hvr_0_4_1/split_2/train/image/_Image_04L_2_4.png  \n",
            "  inflating: chase_db_384_384_dice_bce_0_4__hvr_0_4_1/split_2/train/image/_Image_03L_1_5.png  \n",
            "  inflating: chase_db_384_384_dice_bce_0_4__hvr_0_4_1/split_2/train/image/_Image_01L_3_5.png  \n",
            "  inflating: chase_db_384_384_dice_bce_0_4__hvr_0_4_1/split_2/train/image/_Image_09L_0_8.png  \n",
            "  inflating: chase_db_384_384_dice_bce_0_4__hvr_0_4_1/split_2/train/image/_Image_09R_3_5.png  \n",
            "  inflating: chase_db_384_384_dice_bce_0_4__hvr_0_4_1/split_2/train/image/_Image_14L_0_5.png  \n",
            "  inflating: chase_db_384_384_dice_bce_0_4__hvr_0_4_1/split_2/train/image/_Image_09R_0_1.png  \n",
            "  inflating: chase_db_384_384_dice_bce_0_4__hvr_0_4_1/split_2/train/image/_Image_14R_3_0.png  \n",
            "  inflating: chase_db_384_384_dice_bce_0_4__hvr_0_4_1/split_2/train/image/_Image_03R_0_2.png  \n",
            "  inflating: chase_db_384_384_dice_bce_0_4__hvr_0_4_1/split_2/train/image/_Image_04R_0_6.png  \n",
            "  inflating: chase_db_384_384_dice_bce_0_4__hvr_0_4_1/split_2/train/image/_Image_01R_0_1.png  \n",
            "  inflating: chase_db_384_384_dice_bce_0_4__hvr_0_4_1/split_2/train/image/_Image_09R_2_8.png  \n",
            "  inflating: chase_db_384_384_dice_bce_0_4__hvr_0_4_1/split_2/train/image/_Image_05R_0_4.png  \n",
            "  inflating: chase_db_384_384_dice_bce_0_4__hvr_0_4_1/split_2/train/image/_Image_01R_3_4.png  \n",
            "  inflating: chase_db_384_384_dice_bce_0_4__hvr_0_4_1/split_2/train/image/_Image_01L_0_2.png  \n",
            "  inflating: chase_db_384_384_dice_bce_0_4__hvr_0_4_1/split_2/train/image/_Image_02L_3_4.png  \n",
            "  inflating: chase_db_384_384_dice_bce_0_4__hvr_0_4_1/split_2/train/image/_Image_04R_2_0.png  \n",
            "  inflating: chase_db_384_384_dice_bce_0_4__hvr_0_4_1/split_2/train/image/_Image_06L_3_5.png  \n",
            "  inflating: chase_db_384_384_dice_bce_0_4__hvr_0_4_1/split_2/train/image/_Image_04L_3_6.png  \n",
            "  inflating: chase_db_384_384_dice_bce_0_4__hvr_0_4_1/split_2/train/image/_Image_01R_0_8.png  \n",
            "  inflating: chase_db_384_384_dice_bce_0_4__hvr_0_4_1/split_2/train/image/_Image_02L_3_7.png  \n",
            "  inflating: chase_db_384_384_dice_bce_0_4__hvr_0_4_1/split_2/train/image/_Image_09L_1_7.png  \n",
            "  inflating: chase_db_384_384_dice_bce_0_4__hvr_0_4_1/split_2/train/image/_Image_06L_2_0.png  \n",
            "  inflating: chase_db_384_384_dice_bce_0_4__hvr_0_4_1/split_2/train/image/_Image_09L_0_5.png  \n",
            "  inflating: chase_db_384_384_dice_bce_0_4__hvr_0_4_1/split_2/train/image/_Image_07L_2_5.png  \n",
            "  inflating: chase_db_384_384_dice_bce_0_4__hvr_0_4_1/split_2/train/image/_Image_05R_0_7.png  \n",
            "  inflating: chase_db_384_384_dice_bce_0_4__hvr_0_4_1/split_2/train/image/_Image_01L_2_5.png  \n",
            "  inflating: chase_db_384_384_dice_bce_0_4__hvr_0_4_1/split_2/train/image/_Image_07L_1_5.png  \n",
            "  inflating: chase_db_384_384_dice_bce_0_4__hvr_0_4_1/split_2/train/image/_Image_06R_2_7.png  \n",
            "  inflating: chase_db_384_384_dice_bce_0_4__hvr_0_4_1/split_2/train/image/_Image_04R_2_1.png  \n",
            "  inflating: chase_db_384_384_dice_bce_0_4__hvr_0_4_1/split_2/train/image/_Image_05L_0_4.png  \n",
            "  inflating: chase_db_384_384_dice_bce_0_4__hvr_0_4_1/split_2/train/image/_Image_10R_0_6.png  \n",
            "  inflating: chase_db_384_384_dice_bce_0_4__hvr_0_4_1/split_2/train/image/_Image_08R_1_3.png  \n",
            "  inflating: chase_db_384_384_dice_bce_0_4__hvr_0_4_1/split_2/train/image/_Image_14L_1_3.png  \n",
            "  inflating: chase_db_384_384_dice_bce_0_4__hvr_0_4_1/split_2/train/image/_Image_06R_1_2.png  \n",
            "  inflating: chase_db_384_384_dice_bce_0_4__hvr_0_4_1/split_2/train/image/_Image_14R_2_3.png  \n",
            "  inflating: chase_db_384_384_dice_bce_0_4__hvr_0_4_1/split_2/train/image/_Image_07R_2_7.png  \n",
            "  inflating: chase_db_384_384_dice_bce_0_4__hvr_0_4_1/split_2/train/image/_Image_05R_2_5.png  \n",
            "  inflating: chase_db_384_384_dice_bce_0_4__hvr_0_4_1/split_2/train/image/_Image_10R_2_1.png  \n",
            "  inflating: chase_db_384_384_dice_bce_0_4__hvr_0_4_1/split_2/train/image/_Image_14R_1_1.png  \n",
            "  inflating: chase_db_384_384_dice_bce_0_4__hvr_0_4_1/split_2/train/image/_Image_03L_2_8.png  \n",
            "  inflating: chase_db_384_384_dice_bce_0_4__hvr_0_4_1/split_2/train/image/_Image_05L_2_0.png  \n",
            "  inflating: chase_db_384_384_dice_bce_0_4__hvr_0_4_1/split_2/train/image/_Image_08L_0_0.png  \n",
            "  inflating: chase_db_384_384_dice_bce_0_4__hvr_0_4_1/split_2/train/image/_Image_02L_1_3.png  \n",
            "  inflating: chase_db_384_384_dice_bce_0_4__hvr_0_4_1/split_2/train/image/_Image_07L_0_1.png  \n",
            "  inflating: chase_db_384_384_dice_bce_0_4__hvr_0_4_1/split_2/train/image/_Image_08R_2_0.png  \n",
            "  inflating: chase_db_384_384_dice_bce_0_4__hvr_0_4_1/split_2/train/image/_Image_02L_2_8.png  \n",
            "  inflating: chase_db_384_384_dice_bce_0_4__hvr_0_4_1/split_2/train/image/_Image_03L_3_8.png  \n",
            "  inflating: chase_db_384_384_dice_bce_0_4__hvr_0_4_1/split_2/train/image/_Image_05L_3_8.png  \n",
            "  inflating: chase_db_384_384_dice_bce_0_4__hvr_0_4_1/split_2/train/image/_Image_08R_2_5.png  \n",
            "  inflating: chase_db_384_384_dice_bce_0_4__hvr_0_4_1/split_2/train/image/_Image_05R_1_2.png  \n",
            "  inflating: chase_db_384_384_dice_bce_0_4__hvr_0_4_1/split_2/train/image/_Image_13R_1_2.png  \n",
            "  inflating: chase_db_384_384_dice_bce_0_4__hvr_0_4_1/split_2/train/image/_Image_06R_2_0.png  \n",
            "  inflating: chase_db_384_384_dice_bce_0_4__hvr_0_4_1/split_2/train/image/_Image_08L_2_6.png  \n",
            "  inflating: chase_db_384_384_dice_bce_0_4__hvr_0_4_1/split_2/train/image/_Image_09L_3_5.png  \n",
            "  inflating: chase_db_384_384_dice_bce_0_4__hvr_0_4_1/split_2/train/image/_Image_10L_2_1.png  \n",
            "  inflating: chase_db_384_384_dice_bce_0_4__hvr_0_4_1/split_2/train/image/_Image_10R_3_1.png  \n",
            "  inflating: chase_db_384_384_dice_bce_0_4__hvr_0_4_1/split_2/train/image/_Image_07L_1_3.png  \n",
            "  inflating: chase_db_384_384_dice_bce_0_4__hvr_0_4_1/split_2/train/image/_Image_07L_3_3.png  \n",
            "  inflating: chase_db_384_384_dice_bce_0_4__hvr_0_4_1/split_2/train/image/_Image_05L_1_5.png  \n",
            "  inflating: chase_db_384_384_dice_bce_0_4__hvr_0_4_1/split_2/train/image/_Image_14R_0_3.png  \n",
            "  inflating: chase_db_384_384_dice_bce_0_4__hvr_0_4_1/split_2/train/image/_Image_02L_3_5.png  \n",
            "  inflating: chase_db_384_384_dice_bce_0_4__hvr_0_4_1/split_2/train/image/_Image_07R_1_3.png  \n",
            "  inflating: chase_db_384_384_dice_bce_0_4__hvr_0_4_1/split_2/train/image/_Image_03R_0_5.png  \n",
            "  inflating: chase_db_384_384_dice_bce_0_4__hvr_0_4_1/split_2/train/image/_Image_06R_0_6.png  \n",
            "  inflating: chase_db_384_384_dice_bce_0_4__hvr_0_4_1/split_2/train/image/_Image_01L_3_3.png  \n",
            "  inflating: chase_db_384_384_dice_bce_0_4__hvr_0_4_1/split_2/train/image/_Image_10L_0_8.png  \n",
            "  inflating: chase_db_384_384_dice_bce_0_4__hvr_0_4_1/split_2/train/image/_Image_06L_0_5.png  \n",
            "  inflating: chase_db_384_384_dice_bce_0_4__hvr_0_4_1/split_2/train/image/_Image_14L_0_0.png  \n",
            "  inflating: chase_db_384_384_dice_bce_0_4__hvr_0_4_1/split_2/train/image/_Image_01L_2_8.png  \n",
            "  inflating: chase_db_384_384_dice_bce_0_4__hvr_0_4_1/split_2/train/image/_Image_04R_1_4.png  \n",
            "  inflating: chase_db_384_384_dice_bce_0_4__hvr_0_4_1/split_2/train/image/_Image_04R_3_3.png  \n",
            "  inflating: chase_db_384_384_dice_bce_0_4__hvr_0_4_1/split_2/train/image/_Image_02L_2_5.png  \n",
            "  inflating: chase_db_384_384_dice_bce_0_4__hvr_0_4_1/split_2/train/image/_Image_09L_2_0.png  \n",
            "  inflating: chase_db_384_384_dice_bce_0_4__hvr_0_4_1/split_2/train/image/_Image_04R_2_7.png  \n",
            "  inflating: chase_db_384_384_dice_bce_0_4__hvr_0_4_1/split_2/train/image/_Image_06R_3_7.png  \n",
            "  inflating: chase_db_384_384_dice_bce_0_4__hvr_0_4_1/split_2/train/image/_Image_08R_3_0.png  \n",
            "  inflating: chase_db_384_384_dice_bce_0_4__hvr_0_4_1/split_2/train/image/_Image_09R_2_7.png  \n",
            "  inflating: chase_db_384_384_dice_bce_0_4__hvr_0_4_1/split_2/train/image/_Image_02L_0_5.png  \n",
            "  inflating: chase_db_384_384_dice_bce_0_4__hvr_0_4_1/split_2/train/image/_Image_08R_1_5.png  \n",
            "  inflating: chase_db_384_384_dice_bce_0_4__hvr_0_4_1/split_2/train/image/_Image_02R_3_4.png  \n",
            "  inflating: chase_db_384_384_dice_bce_0_4__hvr_0_4_1/split_2/train/image/_Image_01R_0_6.png  \n",
            "  inflating: chase_db_384_384_dice_bce_0_4__hvr_0_4_1/split_2/train/image/_Image_07L_3_7.png  \n",
            "  inflating: chase_db_384_384_dice_bce_0_4__hvr_0_4_1/split_2/train/image/_Image_05R_3_7.png  \n",
            "  inflating: chase_db_384_384_dice_bce_0_4__hvr_0_4_1/split_2/train/image/_Image_06L_0_7.png  \n",
            "  inflating: chase_db_384_384_dice_bce_0_4__hvr_0_4_1/split_2/train/image/_Image_03R_3_6.png  \n",
            "  inflating: chase_db_384_384_dice_bce_0_4__hvr_0_4_1/split_2/train/image/_Image_04R_1_6.png  \n",
            "  inflating: chase_db_384_384_dice_bce_0_4__hvr_0_4_1/split_2/train/image/_Image_06L_3_0.png  \n",
            "  inflating: chase_db_384_384_dice_bce_0_4__hvr_0_4_1/split_2/train/image/_Image_03R_2_5.png  \n",
            "  inflating: chase_db_384_384_dice_bce_0_4__hvr_0_4_1/split_2/train/image/_Image_09R_0_2.png  \n",
            "  inflating: chase_db_384_384_dice_bce_0_4__hvr_0_4_1/split_2/train/image/_Image_04L_2_6.png  \n",
            "  inflating: chase_db_384_384_dice_bce_0_4__hvr_0_4_1/split_2/train/image/_Image_01L_1_8.png  \n",
            "  inflating: chase_db_384_384_dice_bce_0_4__hvr_0_4_1/split_2/train/image/_Image_06R_3_3.png  \n",
            "  inflating: chase_db_384_384_dice_bce_0_4__hvr_0_4_1/split_2/train/image/_Image_14R_2_7.png  \n",
            "  inflating: chase_db_384_384_dice_bce_0_4__hvr_0_4_1/split_2/train/image/_Image_02L_0_2.png  \n",
            "  inflating: chase_db_384_384_dice_bce_0_4__hvr_0_4_1/split_2/train/image/_Image_06R_2_5.png  \n",
            "  inflating: chase_db_384_384_dice_bce_0_4__hvr_0_4_1/split_2/train/image/_Image_01R_3_8.png  \n",
            "  inflating: chase_db_384_384_dice_bce_0_4__hvr_0_4_1/split_2/train/image/_Image_14R_0_2.png  \n",
            "  inflating: chase_db_384_384_dice_bce_0_4__hvr_0_4_1/split_2/train/image/_Image_03L_1_6.png  \n",
            "  inflating: chase_db_384_384_dice_bce_0_4__hvr_0_4_1/split_2/train/image/_Image_10L_1_0.png  \n",
            "  inflating: chase_db_384_384_dice_bce_0_4__hvr_0_4_1/split_2/train/image/_Image_01L_2_0.png  \n",
            "  inflating: chase_db_384_384_dice_bce_0_4__hvr_0_4_1/split_2/train/image/_Image_06R_1_3.png  \n",
            "  inflating: chase_db_384_384_dice_bce_0_4__hvr_0_4_1/split_2/train/image/_Image_02R_2_2.png  \n",
            "  inflating: chase_db_384_384_dice_bce_0_4__hvr_0_4_1/split_2/train/image/_Image_14L_3_7.png  \n",
            "  inflating: chase_db_384_384_dice_bce_0_4__hvr_0_4_1/split_2/train/image/_Image_06R_0_2.png  \n",
            "  inflating: chase_db_384_384_dice_bce_0_4__hvr_0_4_1/split_2/train/image/_Image_14L_1_7.png  \n",
            "  inflating: chase_db_384_384_dice_bce_0_4__hvr_0_4_1/split_2/train/image/_Image_07R_2_1.png  \n",
            "  inflating: chase_db_384_384_dice_bce_0_4__hvr_0_4_1/split_2/train/image/_Image_14L_2_1.png  \n",
            "  inflating: chase_db_384_384_dice_bce_0_4__hvr_0_4_1/split_2/train/image/_Image_14R_1_2.png  \n",
            "  inflating: chase_db_384_384_dice_bce_0_4__hvr_0_4_1/split_2/train/image/_Image_06L_3_8.png  \n",
            "  inflating: chase_db_384_384_dice_bce_0_4__hvr_0_4_1/split_2/train/image/_Image_08L_0_2.png  \n",
            "  inflating: chase_db_384_384_dice_bce_0_4__hvr_0_4_1/split_2/train/image/_Image_07R_0_7.png  \n",
            "  inflating: chase_db_384_384_dice_bce_0_4__hvr_0_4_1/split_2/train/image/_Image_02L_1_0.png  \n",
            "  inflating: chase_db_384_384_dice_bce_0_4__hvr_0_4_1/split_2/train/image/_Image_03R_2_1.png  \n",
            "  inflating: chase_db_384_384_dice_bce_0_4__hvr_0_4_1/split_2/train/image/_Image_13R_2_6.png  \n",
            "  inflating: chase_db_384_384_dice_bce_0_4__hvr_0_4_1/split_2/train/image/_Image_02R_2_8.png  \n",
            "  inflating: chase_db_384_384_dice_bce_0_4__hvr_0_4_1/split_2/train/image/_Image_01R_0_0.png  \n",
            "  inflating: chase_db_384_384_dice_bce_0_4__hvr_0_4_1/split_2/train/image/_Image_05L_0_6.png  \n",
            "  inflating: chase_db_384_384_dice_bce_0_4__hvr_0_4_1/split_2/train/image/_Image_03L_3_2.png  \n",
            "  inflating: chase_db_384_384_dice_bce_0_4__hvr_0_4_1/split_2/train/image/_Image_08L_2_4.png  \n",
            "  inflating: chase_db_384_384_dice_bce_0_4__hvr_0_4_1/split_2/train/image/_Image_09L_1_1.png  \n",
            "  inflating: chase_db_384_384_dice_bce_0_4__hvr_0_4_1/split_2/train/image/_Image_10R_1_3.png  \n",
            "  inflating: chase_db_384_384_dice_bce_0_4__hvr_0_4_1/split_2/train/image/_Image_10R_3_4.png  \n",
            "  inflating: chase_db_384_384_dice_bce_0_4__hvr_0_4_1/split_2/train/image/_Image_05R_2_0.png  \n",
            "  inflating: chase_db_384_384_dice_bce_0_4__hvr_0_4_1/split_2/train/image/_Image_13R_1_4.png  \n",
            "  inflating: chase_db_384_384_dice_bce_0_4__hvr_0_4_1/split_2/train/image/_Image_07R_3_7.png  \n",
            "  inflating: chase_db_384_384_dice_bce_0_4__hvr_0_4_1/split_2/train/image/_Image_07L_3_0.png  \n",
            "  inflating: chase_db_384_384_dice_bce_0_4__hvr_0_4_1/split_2/train/image/_Image_02L_3_0.png  \n",
            "  inflating: chase_db_384_384_dice_bce_0_4__hvr_0_4_1/split_2/train/image/_Image_10L_2_4.png  \n",
            "  inflating: chase_db_384_384_dice_bce_0_4__hvr_0_4_1/split_2/train/image/_Image_13R_3_8.png  \n",
            "  inflating: chase_db_384_384_dice_bce_0_4__hvr_0_4_1/split_2/train/image/_Image_01R_0_3.png  \n",
            "  inflating: chase_db_384_384_dice_bce_0_4__hvr_0_4_1/split_2/train/image/_Image_05R_0_3.png  \n",
            "  inflating: chase_db_384_384_dice_bce_0_4__hvr_0_4_1/split_2/train/image/_Image_03L_0_0.png  \n",
            "  inflating: chase_db_384_384_dice_bce_0_4__hvr_0_4_1/split_2/train/image/_Image_01L_2_4.png  \n",
            "  inflating: chase_db_384_384_dice_bce_0_4__hvr_0_4_1/split_2/train/image/_Image_07L_0_5.png  \n",
            "  inflating: chase_db_384_384_dice_bce_0_4__hvr_0_4_1/split_2/train/image/_Image_01L_3_0.png  \n",
            "  inflating: chase_db_384_384_dice_bce_0_4__hvr_0_4_1/split_2/train/image/_Image_10L_1_2.png  \n",
            "  inflating: chase_db_384_384_dice_bce_0_4__hvr_0_4_1/split_2/train/image/_Image_10R_0_4.png  \n",
            "  inflating: chase_db_384_384_dice_bce_0_4__hvr_0_4_1/split_2/train/image/_Image_07L_3_5.png  \n",
            "  inflating: chase_db_384_384_dice_bce_0_4__hvr_0_4_1/split_2/train/image/_Image_02R_0_5.png  \n",
            "  inflating: chase_db_384_384_dice_bce_0_4__hvr_0_4_1/split_2/train/image/_Image_02R_1_7.png  \n",
            "  inflating: chase_db_384_384_dice_bce_0_4__hvr_0_4_1/split_2/train/image/_Image_14L_2_4.png  \n",
            "  inflating: chase_db_384_384_dice_bce_0_4__hvr_0_4_1/split_2/train/image/_Image_10L_2_3.png  \n",
            "  inflating: chase_db_384_384_dice_bce_0_4__hvr_0_4_1/split_2/train/image/_Image_06R_3_8.png  \n",
            "  inflating: chase_db_384_384_dice_bce_0_4__hvr_0_4_1/split_2/train/image/_Image_06R_1_7.png  \n",
            "  inflating: chase_db_384_384_dice_bce_0_4__hvr_0_4_1/split_2/train/image/_Image_02R_0_4.png  \n",
            "  inflating: chase_db_384_384_dice_bce_0_4__hvr_0_4_1/split_2/train/image/_Image_14L_3_2.png  \n",
            "  inflating: chase_db_384_384_dice_bce_0_4__hvr_0_4_1/split_2/train/image/_Image_10R_1_5.png  \n",
            "  inflating: chase_db_384_384_dice_bce_0_4__hvr_0_4_1/split_2/train/image/_Image_14L_0_6.png  \n",
            "  inflating: chase_db_384_384_dice_bce_0_4__hvr_0_4_1/split_2/train/image/_Image_13R_3_2.png  \n",
            "  inflating: chase_db_384_384_dice_bce_0_4__hvr_0_4_1/split_2/train/image/_Image_09R_0_0.png  \n",
            "  inflating: chase_db_384_384_dice_bce_0_4__hvr_0_4_1/split_2/train/image/_Image_04R_1_3.png  \n",
            "  inflating: chase_db_384_384_dice_bce_0_4__hvr_0_4_1/split_2/train/image/_Image_05R_3_2.png  \n",
            "  inflating: chase_db_384_384_dice_bce_0_4__hvr_0_4_1/split_2/train/image/_Image_09R_1_3.png  \n",
            "  inflating: chase_db_384_384_dice_bce_0_4__hvr_0_4_1/split_2/train/image/_Image_02L_2_0.png  \n",
            "  inflating: chase_db_384_384_dice_bce_0_4__hvr_0_4_1/split_2/train/image/_Image_05R_3_6.png  \n",
            "  inflating: chase_db_384_384_dice_bce_0_4__hvr_0_4_1/split_2/train/image/_Image_14R_0_8.png  \n",
            "  inflating: chase_db_384_384_dice_bce_0_4__hvr_0_4_1/split_2/train/image/_Image_03L_0_2.png  \n",
            "  inflating: chase_db_384_384_dice_bce_0_4__hvr_0_4_1/split_2/train/image/_Image_09L_1_6.png  \n",
            "  inflating: chase_db_384_384_dice_bce_0_4__hvr_0_4_1/split_2/train/image/_Image_09L_3_8.png  \n",
            "  inflating: chase_db_384_384_dice_bce_0_4__hvr_0_4_1/split_2/train/image/_Image_06L_1_8.png  \n",
            "  inflating: chase_db_384_384_dice_bce_0_4__hvr_0_4_1/split_2/train/image/_Image_06L_3_6.png  \n",
            "  inflating: chase_db_384_384_dice_bce_0_4__hvr_0_4_1/split_2/train/image/_Image_14R_2_5.png  \n",
            "  inflating: chase_db_384_384_dice_bce_0_4__hvr_0_4_1/split_2/train/image/_Image_02R_1_3.png  \n",
            "  inflating: chase_db_384_384_dice_bce_0_4__hvr_0_4_1/split_2/train/image/_Image_04L_0_0.png  \n",
            "  inflating: chase_db_384_384_dice_bce_0_4__hvr_0_4_1/split_2/train/image/_Image_10R_3_3.png  \n",
            "  inflating: chase_db_384_384_dice_bce_0_4__hvr_0_4_1/split_2/train/image/_Image_04R_0_7.png  \n",
            "  inflating: chase_db_384_384_dice_bce_0_4__hvr_0_4_1/split_2/train/image/_Image_06R_0_7.png  \n",
            "  inflating: chase_db_384_384_dice_bce_0_4__hvr_0_4_1/split_2/train/image/_Image_05L_2_7.png  \n",
            "  inflating: chase_db_384_384_dice_bce_0_4__hvr_0_4_1/split_2/train/image/_Image_07R_2_5.png  \n",
            "  inflating: chase_db_384_384_dice_bce_0_4__hvr_0_4_1/split_2/train/image/_Image_01R_0_7.png  \n",
            "  inflating: chase_db_384_384_dice_bce_0_4__hvr_0_4_1/split_2/train/image/_Image_06L_2_4.png  \n",
            "  inflating: chase_db_384_384_dice_bce_0_4__hvr_0_4_1/split_2/train/image/_Image_08R_0_5.png  \n",
            "  inflating: chase_db_384_384_dice_bce_0_4__hvr_0_4_1/split_2/train/image/_Image_03R_0_0.png  \n",
            "  inflating: chase_db_384_384_dice_bce_0_4__hvr_0_4_1/split_2/train/image/_Image_01R_0_4.png  \n",
            "  inflating: chase_db_384_384_dice_bce_0_4__hvr_0_4_1/split_2/train/image/_Image_13R_1_1.png  \n",
            "  inflating: chase_db_384_384_dice_bce_0_4__hvr_0_4_1/split_2/train/image/_Image_05R_2_6.png  \n",
            "  inflating: chase_db_384_384_dice_bce_0_4__hvr_0_4_1/split_2/train/image/_Image_03L_3_4.png  \n",
            "  inflating: chase_db_384_384_dice_bce_0_4__hvr_0_4_1/split_2/train/image/_Image_09R_2_4.png  \n",
            "  inflating: chase_db_384_384_dice_bce_0_4__hvr_0_4_1/split_2/train/image/_Image_03L_3_0.png  \n",
            "  inflating: chase_db_384_384_dice_bce_0_4__hvr_0_4_1/split_2/train/image/_Image_09R_2_6.png  \n",
            "  inflating: chase_db_384_384_dice_bce_0_4__hvr_0_4_1/split_2/train/image/_Image_03L_1_3.png  \n",
            "  inflating: chase_db_384_384_dice_bce_0_4__hvr_0_4_1/split_2/train/image/_Image_07R_2_6.png  \n",
            "  inflating: chase_db_384_384_dice_bce_0_4__hvr_0_4_1/split_2/train/image/_Image_04L_3_7.png  \n",
            "  inflating: chase_db_384_384_dice_bce_0_4__hvr_0_4_1/split_2/train/image/_Image_04L_1_4.png  \n",
            "  inflating: chase_db_384_384_dice_bce_0_4__hvr_0_4_1/split_2/train/image/_Image_04R_2_4.png  \n",
            "  inflating: chase_db_384_384_dice_bce_0_4__hvr_0_4_1/split_2/train/image/_Image_04R_3_1.png  \n",
            "  inflating: chase_db_384_384_dice_bce_0_4__hvr_0_4_1/split_2/train/image/_Image_06R_1_6.png  \n",
            "  inflating: chase_db_384_384_dice_bce_0_4__hvr_0_4_1/split_2/train/image/_Image_02L_0_7.png  \n",
            "  inflating: chase_db_384_384_dice_bce_0_4__hvr_0_4_1/split_2/train/image/_Image_10R_0_2.png  \n",
            "  inflating: chase_db_384_384_dice_bce_0_4__hvr_0_4_1/split_2/train/image/_Image_09R_2_5.png  \n",
            "  inflating: chase_db_384_384_dice_bce_0_4__hvr_0_4_1/split_2/train/image/_Image_13R_0_4.png  \n",
            "  inflating: chase_db_384_384_dice_bce_0_4__hvr_0_4_1/split_2/train/image/_Image_05L_1_4.png  \n",
            "  inflating: chase_db_384_384_dice_bce_0_4__hvr_0_4_1/split_2/train/image/_Image_13R_0_6.png  \n",
            "  inflating: chase_db_384_384_dice_bce_0_4__hvr_0_4_1/split_2/train/image/_Image_06R_1_4.png  \n",
            "  inflating: chase_db_384_384_dice_bce_0_4__hvr_0_4_1/split_2/image_patches_384_384_train.csv  \n",
            "   creating: chase_db_384_384_dice_bce_0_4__hvr_0_4_1/results_reconstructed/\n",
            "   creating: chase_db_384_384_dice_bce_0_4__hvr_0_4_1/augmented/\n",
            "   creating: chase_db_384_384_dice_bce_0_4__hvr_0_4_1/augmented/train/\n",
            "   creating: chase_db_384_384_dice_bce_0_4__hvr_0_4_1/augmented/train/mask/\n",
            "  inflating: chase_db_384_384_dice_bce_0_4__hvr_0_4_1/augmented/train/mask/Image_09L_3.png  \n",
            "  inflating: chase_db_384_384_dice_bce_0_4__hvr_0_4_1/augmented/train/mask/Image_06L_0.png  \n",
            "  inflating: chase_db_384_384_dice_bce_0_4__hvr_0_4_1/augmented/train/mask/Image_08L_3.png  \n",
            "  inflating: chase_db_384_384_dice_bce_0_4__hvr_0_4_1/augmented/train/mask/Image_03R_2.png  \n",
            "  inflating: chase_db_384_384_dice_bce_0_4__hvr_0_4_1/augmented/train/mask/Image_09R_0.png  \n",
            "  inflating: chase_db_384_384_dice_bce_0_4__hvr_0_4_1/augmented/train/mask/Image_09L_2.png  \n",
            "  inflating: chase_db_384_384_dice_bce_0_4__hvr_0_4_1/augmented/train/mask/Image_10R_2.png  \n",
            "  inflating: chase_db_384_384_dice_bce_0_4__hvr_0_4_1/augmented/train/mask/Image_07R_2.png  \n",
            "  inflating: chase_db_384_384_dice_bce_0_4__hvr_0_4_1/augmented/train/mask/Image_01L_0.png  \n",
            "  inflating: chase_db_384_384_dice_bce_0_4__hvr_0_4_1/augmented/train/mask/Image_04L_2.png  \n",
            "  inflating: chase_db_384_384_dice_bce_0_4__hvr_0_4_1/augmented/train/mask/Image_08R_2.png  \n",
            "  inflating: chase_db_384_384_dice_bce_0_4__hvr_0_4_1/augmented/train/mask/Image_10L_1.png  \n",
            "  inflating: chase_db_384_384_dice_bce_0_4__hvr_0_4_1/augmented/train/mask/Image_10R_1.png  \n",
            "  inflating: chase_db_384_384_dice_bce_0_4__hvr_0_4_1/augmented/train/mask/Image_03L_3.png  \n",
            "  inflating: chase_db_384_384_dice_bce_0_4__hvr_0_4_1/augmented/train/mask/Image_06L_3.png  \n",
            "  inflating: chase_db_384_384_dice_bce_0_4__hvr_0_4_1/augmented/train/mask/Image_09L_0.png  \n",
            "  inflating: chase_db_384_384_dice_bce_0_4__hvr_0_4_1/augmented/train/mask/Image_13R_0.png  \n",
            "  inflating: chase_db_384_384_dice_bce_0_4__hvr_0_4_1/augmented/train/mask/Image_06R_1.png  \n",
            "  inflating: chase_db_384_384_dice_bce_0_4__hvr_0_4_1/augmented/train/mask/Image_01L_2.png  \n",
            "  inflating: chase_db_384_384_dice_bce_0_4__hvr_0_4_1/augmented/train/mask/Image_02L_0.png  \n",
            "  inflating: chase_db_384_384_dice_bce_0_4__hvr_0_4_1/augmented/train/mask/Image_07L_3.png  \n",
            "  inflating: chase_db_384_384_dice_bce_0_4__hvr_0_4_1/augmented/train/mask/Image_05R_2.png  \n",
            "  inflating: chase_db_384_384_dice_bce_0_4__hvr_0_4_1/augmented/train/mask/Image_08R_1.png  \n",
            "  inflating: chase_db_384_384_dice_bce_0_4__hvr_0_4_1/augmented/train/mask/Image_07L_1.png  \n",
            "  inflating: chase_db_384_384_dice_bce_0_4__hvr_0_4_1/augmented/train/mask/Image_04L_3.png  \n",
            "  inflating: chase_db_384_384_dice_bce_0_4__hvr_0_4_1/augmented/train/mask/Image_02L_3.png  \n",
            "  inflating: chase_db_384_384_dice_bce_0_4__hvr_0_4_1/augmented/train/mask/Image_09R_3.png  \n",
            "  inflating: chase_db_384_384_dice_bce_0_4__hvr_0_4_1/augmented/train/mask/Image_10R_0.png  \n",
            "  inflating: chase_db_384_384_dice_bce_0_4__hvr_0_4_1/augmented/train/mask/Image_06L_1.png  \n",
            "  inflating: chase_db_384_384_dice_bce_0_4__hvr_0_4_1/augmented/train/mask/Image_05R_0.png  \n",
            "  inflating: chase_db_384_384_dice_bce_0_4__hvr_0_4_1/augmented/train/mask/Image_14R_2.png  \n",
            "  inflating: chase_db_384_384_dice_bce_0_4__hvr_0_4_1/augmented/train/mask/Image_09R_1.png  \n",
            "  inflating: chase_db_384_384_dice_bce_0_4__hvr_0_4_1/augmented/train/mask/Image_08L_2.png  \n",
            "  inflating: chase_db_384_384_dice_bce_0_4__hvr_0_4_1/augmented/train/mask/Image_06R_3.png  \n",
            "  inflating: chase_db_384_384_dice_bce_0_4__hvr_0_4_1/augmented/train/mask/Image_14R_1.png  \n",
            "  inflating: chase_db_384_384_dice_bce_0_4__hvr_0_4_1/augmented/train/mask/Image_03R_0.png  \n",
            "  inflating: chase_db_384_384_dice_bce_0_4__hvr_0_4_1/augmented/train/mask/Image_13R_1.png  \n",
            "  inflating: chase_db_384_384_dice_bce_0_4__hvr_0_4_1/augmented/train/mask/Image_06L_2.png  \n",
            "  inflating: chase_db_384_384_dice_bce_0_4__hvr_0_4_1/augmented/train/mask/Image_01R_0.png  \n",
            "  inflating: chase_db_384_384_dice_bce_0_4__hvr_0_4_1/augmented/train/mask/Image_01L_3.png  \n",
            "  inflating: chase_db_384_384_dice_bce_0_4__hvr_0_4_1/augmented/train/mask/Image_02L_2.png  \n",
            "  inflating: chase_db_384_384_dice_bce_0_4__hvr_0_4_1/augmented/train/mask/Image_13R_2.png  \n",
            "  inflating: chase_db_384_384_dice_bce_0_4__hvr_0_4_1/augmented/train/mask/Image_05R_3.png  \n",
            "  inflating: chase_db_384_384_dice_bce_0_4__hvr_0_4_1/augmented/train/mask/Image_14R_0.png  \n",
            "  inflating: chase_db_384_384_dice_bce_0_4__hvr_0_4_1/augmented/train/mask/Image_08L_0.png  \n",
            "  inflating: chase_db_384_384_dice_bce_0_4__hvr_0_4_1/augmented/train/mask/Image_07L_0.png  \n",
            "  inflating: chase_db_384_384_dice_bce_0_4__hvr_0_4_1/augmented/train/mask/Image_01R_3.png  \n",
            "  inflating: chase_db_384_384_dice_bce_0_4__hvr_0_4_1/augmented/train/mask/Image_01L_1.png  \n",
            "  inflating: chase_db_384_384_dice_bce_0_4__hvr_0_4_1/augmented/train/mask/Image_10L_2.png  \n",
            "  inflating: chase_db_384_384_dice_bce_0_4__hvr_0_4_1/augmented/train/mask/Image_05L_1.png  \n",
            "  inflating: chase_db_384_384_dice_bce_0_4__hvr_0_4_1/augmented/train/mask/Image_02R_1.png  \n",
            "  inflating: chase_db_384_384_dice_bce_0_4__hvr_0_4_1/augmented/train/mask/Image_10L_3.png  \n",
            "  inflating: chase_db_384_384_dice_bce_0_4__hvr_0_4_1/augmented/train/mask/Image_04L_1.png  \n",
            "  inflating: chase_db_384_384_dice_bce_0_4__hvr_0_4_1/augmented/train/mask/Image_04R_2.png  \n",
            "  inflating: chase_db_384_384_dice_bce_0_4__hvr_0_4_1/augmented/train/mask/Image_04R_1.png  \n",
            "  inflating: chase_db_384_384_dice_bce_0_4__hvr_0_4_1/augmented/train/mask/Image_05R_1.png  \n",
            "  inflating: chase_db_384_384_dice_bce_0_4__hvr_0_4_1/augmented/train/mask/Image_05L_3.png  \n",
            "  inflating: chase_db_384_384_dice_bce_0_4__hvr_0_4_1/augmented/train/mask/Image_01R_2.png  \n",
            "  inflating: chase_db_384_384_dice_bce_0_4__hvr_0_4_1/augmented/train/mask/Image_03R_3.png  \n",
            "  inflating: chase_db_384_384_dice_bce_0_4__hvr_0_4_1/augmented/train/mask/Image_14R_3.png  \n",
            "  inflating: chase_db_384_384_dice_bce_0_4__hvr_0_4_1/augmented/train/mask/Image_07L_2.png  \n",
            "  inflating: chase_db_384_384_dice_bce_0_4__hvr_0_4_1/augmented/train/mask/Image_02R_0.png  \n",
            "  inflating: chase_db_384_384_dice_bce_0_4__hvr_0_4_1/augmented/train/mask/Image_14L_2.png  \n",
            "  inflating: chase_db_384_384_dice_bce_0_4__hvr_0_4_1/augmented/train/mask/Image_02L_1.png  \n",
            "  inflating: chase_db_384_384_dice_bce_0_4__hvr_0_4_1/augmented/train/mask/Image_02R_2.png  \n",
            "  inflating: chase_db_384_384_dice_bce_0_4__hvr_0_4_1/augmented/train/mask/Image_01R_1.png  \n",
            "  inflating: chase_db_384_384_dice_bce_0_4__hvr_0_4_1/augmented/train/mask/Image_03L_2.png  \n",
            "  inflating: chase_db_384_384_dice_bce_0_4__hvr_0_4_1/augmented/train/mask/Image_10R_3.png  \n",
            "  inflating: chase_db_384_384_dice_bce_0_4__hvr_0_4_1/augmented/train/mask/Image_04R_3.png  \n",
            "  inflating: chase_db_384_384_dice_bce_0_4__hvr_0_4_1/augmented/train/mask/Image_14L_3.png  \n",
            "  inflating: chase_db_384_384_dice_bce_0_4__hvr_0_4_1/augmented/train/mask/Image_02R_3.png  \n",
            "  inflating: chase_db_384_384_dice_bce_0_4__hvr_0_4_1/augmented/train/mask/Image_14L_1.png  \n",
            "  inflating: chase_db_384_384_dice_bce_0_4__hvr_0_4_1/augmented/train/mask/Image_05L_0.png  \n",
            "  inflating: chase_db_384_384_dice_bce_0_4__hvr_0_4_1/augmented/train/mask/Image_03L_1.png  \n",
            "  inflating: chase_db_384_384_dice_bce_0_4__hvr_0_4_1/augmented/train/mask/Image_05L_2.png  \n",
            "  inflating: chase_db_384_384_dice_bce_0_4__hvr_0_4_1/augmented/train/mask/Image_10L_0.png  \n",
            "  inflating: chase_db_384_384_dice_bce_0_4__hvr_0_4_1/augmented/train/mask/Image_04R_0.png  \n",
            "  inflating: chase_db_384_384_dice_bce_0_4__hvr_0_4_1/augmented/train/mask/Image_08R_3.png  \n",
            "  inflating: chase_db_384_384_dice_bce_0_4__hvr_0_4_1/augmented/train/mask/Image_07R_3.png  \n",
            "  inflating: chase_db_384_384_dice_bce_0_4__hvr_0_4_1/augmented/train/mask/Image_04L_0.png  \n",
            "  inflating: chase_db_384_384_dice_bce_0_4__hvr_0_4_1/augmented/train/mask/Image_09R_2.png  \n",
            "  inflating: chase_db_384_384_dice_bce_0_4__hvr_0_4_1/augmented/train/mask/Image_07R_0.png  \n",
            "  inflating: chase_db_384_384_dice_bce_0_4__hvr_0_4_1/augmented/train/mask/Image_14L_0.png  \n",
            "  inflating: chase_db_384_384_dice_bce_0_4__hvr_0_4_1/augmented/train/mask/Image_08L_1.png  \n",
            "  inflating: chase_db_384_384_dice_bce_0_4__hvr_0_4_1/augmented/train/mask/Image_03R_1.png  \n",
            "  inflating: chase_db_384_384_dice_bce_0_4__hvr_0_4_1/augmented/train/mask/Image_07R_1.png  \n",
            "  inflating: chase_db_384_384_dice_bce_0_4__hvr_0_4_1/augmented/train/mask/Image_08R_0.png  \n",
            "  inflating: chase_db_384_384_dice_bce_0_4__hvr_0_4_1/augmented/train/mask/Image_09L_1.png  \n",
            "  inflating: chase_db_384_384_dice_bce_0_4__hvr_0_4_1/augmented/train/mask/Image_13R_3.png  \n",
            "  inflating: chase_db_384_384_dice_bce_0_4__hvr_0_4_1/augmented/train/mask/Image_06R_0.png  \n",
            "  inflating: chase_db_384_384_dice_bce_0_4__hvr_0_4_1/augmented/train/mask/Image_06R_2.png  \n",
            "  inflating: chase_db_384_384_dice_bce_0_4__hvr_0_4_1/augmented/train/mask/Image_03L_0.png  \n",
            "   creating: chase_db_384_384_dice_bce_0_4__hvr_0_4_1/augmented/train/image/\n",
            "  inflating: chase_db_384_384_dice_bce_0_4__hvr_0_4_1/augmented/train/image/Image_09L_3.png  \n",
            "  inflating: chase_db_384_384_dice_bce_0_4__hvr_0_4_1/augmented/train/image/Image_06L_0.png  \n",
            "  inflating: chase_db_384_384_dice_bce_0_4__hvr_0_4_1/augmented/train/image/Image_08L_3.png  \n",
            "  inflating: chase_db_384_384_dice_bce_0_4__hvr_0_4_1/augmented/train/image/Image_03R_2.png  \n",
            "  inflating: chase_db_384_384_dice_bce_0_4__hvr_0_4_1/augmented/train/image/Image_09R_0.png  \n",
            "  inflating: chase_db_384_384_dice_bce_0_4__hvr_0_4_1/augmented/train/image/Image_09L_2.png  \n",
            "  inflating: chase_db_384_384_dice_bce_0_4__hvr_0_4_1/augmented/train/image/Image_10R_2.png  \n",
            "  inflating: chase_db_384_384_dice_bce_0_4__hvr_0_4_1/augmented/train/image/Image_07R_2.png  \n",
            "  inflating: chase_db_384_384_dice_bce_0_4__hvr_0_4_1/augmented/train/image/Image_01L_0.png  \n",
            "  inflating: chase_db_384_384_dice_bce_0_4__hvr_0_4_1/augmented/train/image/Image_04L_2.png  \n",
            "  inflating: chase_db_384_384_dice_bce_0_4__hvr_0_4_1/augmented/train/image/Image_08R_2.png  \n",
            "  inflating: chase_db_384_384_dice_bce_0_4__hvr_0_4_1/augmented/train/image/Image_10L_1.png  \n",
            "  inflating: chase_db_384_384_dice_bce_0_4__hvr_0_4_1/augmented/train/image/Image_10R_1.png  \n",
            "  inflating: chase_db_384_384_dice_bce_0_4__hvr_0_4_1/augmented/train/image/Image_03L_3.png  \n",
            "  inflating: chase_db_384_384_dice_bce_0_4__hvr_0_4_1/augmented/train/image/Image_06L_3.png  \n",
            "  inflating: chase_db_384_384_dice_bce_0_4__hvr_0_4_1/augmented/train/image/Image_09L_0.png  \n",
            "  inflating: chase_db_384_384_dice_bce_0_4__hvr_0_4_1/augmented/train/image/Image_13R_0.png  \n",
            "  inflating: chase_db_384_384_dice_bce_0_4__hvr_0_4_1/augmented/train/image/Image_06R_1.png  \n",
            "  inflating: chase_db_384_384_dice_bce_0_4__hvr_0_4_1/augmented/train/image/Image_01L_2.png  \n",
            "  inflating: chase_db_384_384_dice_bce_0_4__hvr_0_4_1/augmented/train/image/Image_02L_0.png  \n",
            "  inflating: chase_db_384_384_dice_bce_0_4__hvr_0_4_1/augmented/train/image/Image_07L_3.png  \n",
            "  inflating: chase_db_384_384_dice_bce_0_4__hvr_0_4_1/augmented/train/image/Image_05R_2.png  \n",
            "  inflating: chase_db_384_384_dice_bce_0_4__hvr_0_4_1/augmented/train/image/Image_08R_1.png  \n",
            "  inflating: chase_db_384_384_dice_bce_0_4__hvr_0_4_1/augmented/train/image/Image_07L_1.png  \n",
            "  inflating: chase_db_384_384_dice_bce_0_4__hvr_0_4_1/augmented/train/image/Image_04L_3.png  \n",
            "  inflating: chase_db_384_384_dice_bce_0_4__hvr_0_4_1/augmented/train/image/Image_02L_3.png  \n",
            "  inflating: chase_db_384_384_dice_bce_0_4__hvr_0_4_1/augmented/train/image/Image_09R_3.png  \n",
            "  inflating: chase_db_384_384_dice_bce_0_4__hvr_0_4_1/augmented/train/image/Image_10R_0.png  \n",
            "  inflating: chase_db_384_384_dice_bce_0_4__hvr_0_4_1/augmented/train/image/Image_06L_1.png  \n",
            "  inflating: chase_db_384_384_dice_bce_0_4__hvr_0_4_1/augmented/train/image/Image_05R_0.png  \n",
            "  inflating: chase_db_384_384_dice_bce_0_4__hvr_0_4_1/augmented/train/image/Image_14R_2.png  \n",
            "  inflating: chase_db_384_384_dice_bce_0_4__hvr_0_4_1/augmented/train/image/Image_09R_1.png  \n",
            "  inflating: chase_db_384_384_dice_bce_0_4__hvr_0_4_1/augmented/train/image/Image_08L_2.png  \n",
            "  inflating: chase_db_384_384_dice_bce_0_4__hvr_0_4_1/augmented/train/image/Image_06R_3.png  \n",
            "  inflating: chase_db_384_384_dice_bce_0_4__hvr_0_4_1/augmented/train/image/Image_14R_1.png  \n",
            "  inflating: chase_db_384_384_dice_bce_0_4__hvr_0_4_1/augmented/train/image/Image_03R_0.png  \n",
            "  inflating: chase_db_384_384_dice_bce_0_4__hvr_0_4_1/augmented/train/image/Image_13R_1.png  \n",
            "  inflating: chase_db_384_384_dice_bce_0_4__hvr_0_4_1/augmented/train/image/Image_06L_2.png  \n",
            "  inflating: chase_db_384_384_dice_bce_0_4__hvr_0_4_1/augmented/train/image/Image_01R_0.png  \n",
            "  inflating: chase_db_384_384_dice_bce_0_4__hvr_0_4_1/augmented/train/image/Image_01L_3.png  \n",
            "  inflating: chase_db_384_384_dice_bce_0_4__hvr_0_4_1/augmented/train/image/Image_02L_2.png  \n",
            "  inflating: chase_db_384_384_dice_bce_0_4__hvr_0_4_1/augmented/train/image/Image_13R_2.png  \n",
            "  inflating: chase_db_384_384_dice_bce_0_4__hvr_0_4_1/augmented/train/image/Image_05R_3.png  \n",
            "  inflating: chase_db_384_384_dice_bce_0_4__hvr_0_4_1/augmented/train/image/Image_14R_0.png  \n",
            "  inflating: chase_db_384_384_dice_bce_0_4__hvr_0_4_1/augmented/train/image/Image_08L_0.png  \n",
            "  inflating: chase_db_384_384_dice_bce_0_4__hvr_0_4_1/augmented/train/image/Image_07L_0.png  \n",
            "  inflating: chase_db_384_384_dice_bce_0_4__hvr_0_4_1/augmented/train/image/Image_01R_3.png  \n",
            "  inflating: chase_db_384_384_dice_bce_0_4__hvr_0_4_1/augmented/train/image/Image_01L_1.png  \n",
            "  inflating: chase_db_384_384_dice_bce_0_4__hvr_0_4_1/augmented/train/image/Image_10L_2.png  \n",
            "  inflating: chase_db_384_384_dice_bce_0_4__hvr_0_4_1/augmented/train/image/Image_05L_1.png  \n",
            "  inflating: chase_db_384_384_dice_bce_0_4__hvr_0_4_1/augmented/train/image/Image_02R_1.png  \n",
            "  inflating: chase_db_384_384_dice_bce_0_4__hvr_0_4_1/augmented/train/image/Image_10L_3.png  \n",
            "  inflating: chase_db_384_384_dice_bce_0_4__hvr_0_4_1/augmented/train/image/Image_04L_1.png  \n",
            "  inflating: chase_db_384_384_dice_bce_0_4__hvr_0_4_1/augmented/train/image/Image_04R_2.png  \n",
            "  inflating: chase_db_384_384_dice_bce_0_4__hvr_0_4_1/augmented/train/image/Image_04R_1.png  \n",
            "  inflating: chase_db_384_384_dice_bce_0_4__hvr_0_4_1/augmented/train/image/Image_05R_1.png  \n",
            "  inflating: chase_db_384_384_dice_bce_0_4__hvr_0_4_1/augmented/train/image/Image_05L_3.png  \n",
            "  inflating: chase_db_384_384_dice_bce_0_4__hvr_0_4_1/augmented/train/image/Image_01R_2.png  \n",
            "  inflating: chase_db_384_384_dice_bce_0_4__hvr_0_4_1/augmented/train/image/Image_03R_3.png  \n",
            "  inflating: chase_db_384_384_dice_bce_0_4__hvr_0_4_1/augmented/train/image/Image_14R_3.png  \n",
            "  inflating: chase_db_384_384_dice_bce_0_4__hvr_0_4_1/augmented/train/image/Image_07L_2.png  \n",
            "  inflating: chase_db_384_384_dice_bce_0_4__hvr_0_4_1/augmented/train/image/Image_02R_0.png  \n",
            "  inflating: chase_db_384_384_dice_bce_0_4__hvr_0_4_1/augmented/train/image/Image_14L_2.png  \n",
            "  inflating: chase_db_384_384_dice_bce_0_4__hvr_0_4_1/augmented/train/image/Image_02L_1.png  \n",
            "  inflating: chase_db_384_384_dice_bce_0_4__hvr_0_4_1/augmented/train/image/Image_02R_2.png  \n",
            "  inflating: chase_db_384_384_dice_bce_0_4__hvr_0_4_1/augmented/train/image/Image_01R_1.png  \n",
            "  inflating: chase_db_384_384_dice_bce_0_4__hvr_0_4_1/augmented/train/image/Image_03L_2.png  \n",
            "  inflating: chase_db_384_384_dice_bce_0_4__hvr_0_4_1/augmented/train/image/Image_10R_3.png  \n",
            "  inflating: chase_db_384_384_dice_bce_0_4__hvr_0_4_1/augmented/train/image/Image_04R_3.png  \n",
            "  inflating: chase_db_384_384_dice_bce_0_4__hvr_0_4_1/augmented/train/image/Image_14L_3.png  \n",
            "  inflating: chase_db_384_384_dice_bce_0_4__hvr_0_4_1/augmented/train/image/Image_02R_3.png  \n",
            "  inflating: chase_db_384_384_dice_bce_0_4__hvr_0_4_1/augmented/train/image/Image_14L_1.png  \n",
            "  inflating: chase_db_384_384_dice_bce_0_4__hvr_0_4_1/augmented/train/image/Image_05L_0.png  \n",
            "  inflating: chase_db_384_384_dice_bce_0_4__hvr_0_4_1/augmented/train/image/Image_03L_1.png  \n",
            "  inflating: chase_db_384_384_dice_bce_0_4__hvr_0_4_1/augmented/train/image/Image_05L_2.png  \n",
            "  inflating: chase_db_384_384_dice_bce_0_4__hvr_0_4_1/augmented/train/image/Image_10L_0.png  \n",
            "  inflating: chase_db_384_384_dice_bce_0_4__hvr_0_4_1/augmented/train/image/Image_04R_0.png  \n",
            "  inflating: chase_db_384_384_dice_bce_0_4__hvr_0_4_1/augmented/train/image/Image_08R_3.png  \n",
            "  inflating: chase_db_384_384_dice_bce_0_4__hvr_0_4_1/augmented/train/image/Image_07R_3.png  \n",
            "  inflating: chase_db_384_384_dice_bce_0_4__hvr_0_4_1/augmented/train/image/Image_04L_0.png  \n",
            "  inflating: chase_db_384_384_dice_bce_0_4__hvr_0_4_1/augmented/train/image/Image_09R_2.png  \n",
            "  inflating: chase_db_384_384_dice_bce_0_4__hvr_0_4_1/augmented/train/image/Image_07R_0.png  \n",
            "  inflating: chase_db_384_384_dice_bce_0_4__hvr_0_4_1/augmented/train/image/Image_14L_0.png  \n",
            "  inflating: chase_db_384_384_dice_bce_0_4__hvr_0_4_1/augmented/train/image/Image_08L_1.png  \n",
            "  inflating: chase_db_384_384_dice_bce_0_4__hvr_0_4_1/augmented/train/image/Image_03R_1.png  \n",
            "  inflating: chase_db_384_384_dice_bce_0_4__hvr_0_4_1/augmented/train/image/Image_07R_1.png  \n",
            "  inflating: chase_db_384_384_dice_bce_0_4__hvr_0_4_1/augmented/train/image/Image_08R_0.png  \n",
            "  inflating: chase_db_384_384_dice_bce_0_4__hvr_0_4_1/augmented/train/image/Image_09L_1.png  \n",
            "  inflating: chase_db_384_384_dice_bce_0_4__hvr_0_4_1/augmented/train/image/Image_13R_3.png  \n",
            "  inflating: chase_db_384_384_dice_bce_0_4__hvr_0_4_1/augmented/train/image/Image_06R_0.png  \n",
            "  inflating: chase_db_384_384_dice_bce_0_4__hvr_0_4_1/augmented/train/image/Image_06R_2.png  \n",
            "  inflating: chase_db_384_384_dice_bce_0_4__hvr_0_4_1/augmented/train/image/Image_03L_0.png  \n",
            "   creating: chase_db_384_384_dice_bce_0_4__hvr_0_4_1/results/\n",
            "  inflating: chase_db_384_384_dice_bce_0_4__hvr_0_4_1/results/_Image_11R_3.png  \n",
            "  inflating: chase_db_384_384_dice_bce_0_4__hvr_0_4_1/results/_Image_12R_1.png  \n",
            "  inflating: chase_db_384_384_dice_bce_0_4__hvr_0_4_1/results/_Image_11L_6.png  \n",
            "  inflating: chase_db_384_384_dice_bce_0_4__hvr_0_4_1/results/score_full_0_5.csv  \n",
            "  inflating: chase_db_384_384_dice_bce_0_4__hvr_0_4_1/results/_Image_11R_0.png  \n",
            "  inflating: chase_db_384_384_dice_bce_0_4__hvr_0_4_1/results/_Image_11L_2.png  \n",
            "  inflating: chase_db_384_384_dice_bce_0_4__hvr_0_4_1/results/_Image_13L_3.png  \n",
            "  inflating: chase_db_384_384_dice_bce_0_4__hvr_0_4_1/results/_Image_11R_8.png  \n",
            "  inflating: chase_db_384_384_dice_bce_0_4__hvr_0_4_1/results/_Image_12L_7.png  \n",
            "  inflating: chase_db_384_384_dice_bce_0_4__hvr_0_4_1/results/_Image_11L_1.png  \n",
            "  inflating: chase_db_384_384_dice_bce_0_4__hvr_0_4_1/results/_Image_13L_8.png  \n",
            "  inflating: chase_db_384_384_dice_bce_0_4__hvr_0_4_1/results/score_full_0_4.csv  \n",
            "  inflating: chase_db_384_384_dice_bce_0_4__hvr_0_4_1/results/_Image_12R_2.png  \n",
            "  inflating: chase_db_384_384_dice_bce_0_4__hvr_0_4_1/results/_Image_12L_3.png  \n",
            "  inflating: chase_db_384_384_dice_bce_0_4__hvr_0_4_1/results/_Image_12R_4.png  \n",
            "  inflating: chase_db_384_384_dice_bce_0_4__hvr_0_4_1/results/score.csv  \n",
            "  inflating: chase_db_384_384_dice_bce_0_4__hvr_0_4_1/results/_Image_13L_0.png  \n",
            "  inflating: chase_db_384_384_dice_bce_0_4__hvr_0_4_1/results/_Image_11R_1.png  \n",
            "  inflating: chase_db_384_384_dice_bce_0_4__hvr_0_4_1/results/_Image_12R_7.png  \n",
            "  inflating: chase_db_384_384_dice_bce_0_4__hvr_0_4_1/results/_Image_13L_6.png  \n",
            "  inflating: chase_db_384_384_dice_bce_0_4__hvr_0_4_1/results/_Image_13L_4.png  \n",
            "  inflating: chase_db_384_384_dice_bce_0_4__hvr_0_4_1/results/_Image_12L_1.png  \n",
            "  inflating: chase_db_384_384_dice_bce_0_4__hvr_0_4_1/results/_Image_12R_8.png  \n",
            "  inflating: chase_db_384_384_dice_bce_0_4__hvr_0_4_1/results/_Image_12L_8.png  \n",
            "  inflating: chase_db_384_384_dice_bce_0_4__hvr_0_4_1/results/_Image_12L_5.png  \n",
            "  inflating: chase_db_384_384_dice_bce_0_4__hvr_0_4_1/results/_Image_13L_5.png  \n",
            "  inflating: chase_db_384_384_dice_bce_0_4__hvr_0_4_1/results/_Image_11L_4.png  \n",
            "  inflating: chase_db_384_384_dice_bce_0_4__hvr_0_4_1/results/_Image_11L_7.png  \n",
            "  inflating: chase_db_384_384_dice_bce_0_4__hvr_0_4_1/results/score_full_0_6.csv  \n",
            "  inflating: chase_db_384_384_dice_bce_0_4__hvr_0_4_1/results/_Image_11L_0.png  \n",
            "  inflating: chase_db_384_384_dice_bce_0_4__hvr_0_4_1/results/_Image_11L_8.png  \n",
            "  inflating: chase_db_384_384_dice_bce_0_4__hvr_0_4_1/results/_Image_12L_4.png  \n",
            "  inflating: chase_db_384_384_dice_bce_0_4__hvr_0_4_1/results/_Image_11L_5.png  \n",
            "  inflating: chase_db_384_384_dice_bce_0_4__hvr_0_4_1/results/_Image_11R_2.png  \n",
            "  inflating: chase_db_384_384_dice_bce_0_4__hvr_0_4_1/results/_Image_12R_5.png  \n",
            "  inflating: chase_db_384_384_dice_bce_0_4__hvr_0_4_1/results/_Image_12R_0.png  \n",
            "  inflating: chase_db_384_384_dice_bce_0_4__hvr_0_4_1/results/_Image_11R_7.png  \n",
            "  inflating: chase_db_384_384_dice_bce_0_4__hvr_0_4_1/results/_Image_13L_2.png  \n",
            "  inflating: chase_db_384_384_dice_bce_0_4__hvr_0_4_1/results/_Image_11L_3.png  \n",
            "  inflating: chase_db_384_384_dice_bce_0_4__hvr_0_4_1/results/_Image_12R_6.png  \n",
            "  inflating: chase_db_384_384_dice_bce_0_4__hvr_0_4_1/results/_Image_12L_6.png  \n",
            "  inflating: chase_db_384_384_dice_bce_0_4__hvr_0_4_1/results/_Image_12R_3.png  \n",
            "  inflating: chase_db_384_384_dice_bce_0_4__hvr_0_4_1/results/_Image_13L_1.png  \n",
            "  inflating: chase_db_384_384_dice_bce_0_4__hvr_0_4_1/results/_Image_11R_4.png  \n",
            "  inflating: chase_db_384_384_dice_bce_0_4__hvr_0_4_1/results/_Image_12L_0.png  \n",
            "  inflating: chase_db_384_384_dice_bce_0_4__hvr_0_4_1/results/_Image_12L_2.png  \n",
            "  inflating: chase_db_384_384_dice_bce_0_4__hvr_0_4_1/results/_Image_11R_6.png  \n",
            "  inflating: chase_db_384_384_dice_bce_0_4__hvr_0_4_1/results/_Image_13L_7.png  \n",
            "  inflating: chase_db_384_384_dice_bce_0_4__hvr_0_4_1/results/_Image_11R_5.png  \n",
            "   creating: chase_db_384_384_dice_bce_0_4__hvr_0_4_1/trained_models/\n",
            "  inflating: chase_db_384_384_dice_bce_0_4__hvr_0_4_1/trained_models/data.csv  \n",
            "  inflating: chase_db_384_384_dice_bce_0_4__hvr_0_4_1/trained_models/model.h5  \n",
            "   creating: chase_db_384_384_dice_bce_0_4__hvr_0_4_1/predictions/\n",
            "  inflating: chase_db_384_384_dice_bce_0_4__hvr_0_4_1/predictions/_Image_11R_3.png  \n",
            "  inflating: chase_db_384_384_dice_bce_0_4__hvr_0_4_1/predictions/_Image_12R_1.png  \n",
            "  inflating: chase_db_384_384_dice_bce_0_4__hvr_0_4_1/predictions/_Image_11L_6.png  \n",
            "  inflating: chase_db_384_384_dice_bce_0_4__hvr_0_4_1/predictions/_Image_11R_0.png  \n",
            "  inflating: chase_db_384_384_dice_bce_0_4__hvr_0_4_1/predictions/_Image_11L_2.png  \n",
            "  inflating: chase_db_384_384_dice_bce_0_4__hvr_0_4_1/predictions/_Image_13L_3.png  \n",
            "  inflating: chase_db_384_384_dice_bce_0_4__hvr_0_4_1/predictions/_Image_11R_8.png  \n",
            "  inflating: chase_db_384_384_dice_bce_0_4__hvr_0_4_1/predictions/_Image_12L_7.png  \n",
            "  inflating: chase_db_384_384_dice_bce_0_4__hvr_0_4_1/predictions/_Image_11L_1.png  \n",
            "  inflating: chase_db_384_384_dice_bce_0_4__hvr_0_4_1/predictions/_Image_13L_8.png  \n",
            "  inflating: chase_db_384_384_dice_bce_0_4__hvr_0_4_1/predictions/_Image_12R_2.png  \n",
            "  inflating: chase_db_384_384_dice_bce_0_4__hvr_0_4_1/predictions/_Image_12L_3.png  \n",
            "  inflating: chase_db_384_384_dice_bce_0_4__hvr_0_4_1/predictions/_Image_12R_4.png  \n",
            "  inflating: chase_db_384_384_dice_bce_0_4__hvr_0_4_1/predictions/_Image_13L_0.png  \n",
            "  inflating: chase_db_384_384_dice_bce_0_4__hvr_0_4_1/predictions/_Image_11R_1.png  \n",
            "  inflating: chase_db_384_384_dice_bce_0_4__hvr_0_4_1/predictions/_Image_12R_7.png  \n",
            "  inflating: chase_db_384_384_dice_bce_0_4__hvr_0_4_1/predictions/_Image_13L_6.png  \n",
            "  inflating: chase_db_384_384_dice_bce_0_4__hvr_0_4_1/predictions/_Image_13L_4.png  \n",
            "  inflating: chase_db_384_384_dice_bce_0_4__hvr_0_4_1/predictions/_Image_12L_1.png  \n",
            "  inflating: chase_db_384_384_dice_bce_0_4__hvr_0_4_1/predictions/_Image_12R_8.png  \n",
            "  inflating: chase_db_384_384_dice_bce_0_4__hvr_0_4_1/predictions/_Image_12L_8.png  \n",
            "  inflating: chase_db_384_384_dice_bce_0_4__hvr_0_4_1/predictions/_Image_12L_5.png  \n",
            "  inflating: chase_db_384_384_dice_bce_0_4__hvr_0_4_1/predictions/_Image_13L_5.png  \n",
            "  inflating: chase_db_384_384_dice_bce_0_4__hvr_0_4_1/predictions/_Image_11L_4.png  \n",
            "  inflating: chase_db_384_384_dice_bce_0_4__hvr_0_4_1/predictions/_Image_11L_7.png  \n",
            "  inflating: chase_db_384_384_dice_bce_0_4__hvr_0_4_1/predictions/_Image_11L_0.png  \n",
            "  inflating: chase_db_384_384_dice_bce_0_4__hvr_0_4_1/predictions/_Image_11L_8.png  \n",
            "  inflating: chase_db_384_384_dice_bce_0_4__hvr_0_4_1/predictions/_Image_12L_4.png  \n",
            "  inflating: chase_db_384_384_dice_bce_0_4__hvr_0_4_1/predictions/_Image_11L_5.png  \n",
            "  inflating: chase_db_384_384_dice_bce_0_4__hvr_0_4_1/predictions/_Image_11R_2.png  \n",
            "  inflating: chase_db_384_384_dice_bce_0_4__hvr_0_4_1/predictions/_Image_12R_5.png  \n",
            "  inflating: chase_db_384_384_dice_bce_0_4__hvr_0_4_1/predictions/_Image_12R_0.png  \n",
            "  inflating: chase_db_384_384_dice_bce_0_4__hvr_0_4_1/predictions/_Image_11R_7.png  \n",
            "  inflating: chase_db_384_384_dice_bce_0_4__hvr_0_4_1/predictions/_Image_13L_2.png  \n",
            "  inflating: chase_db_384_384_dice_bce_0_4__hvr_0_4_1/predictions/_Image_11L_3.png  \n",
            "  inflating: chase_db_384_384_dice_bce_0_4__hvr_0_4_1/predictions/_Image_12R_6.png  \n",
            "  inflating: chase_db_384_384_dice_bce_0_4__hvr_0_4_1/predictions/_Image_12L_6.png  \n",
            "  inflating: chase_db_384_384_dice_bce_0_4__hvr_0_4_1/predictions/_Image_12R_3.png  \n",
            "  inflating: chase_db_384_384_dice_bce_0_4__hvr_0_4_1/predictions/_Image_13L_1.png  \n",
            "  inflating: chase_db_384_384_dice_bce_0_4__hvr_0_4_1/predictions/_Image_11R_4.png  \n",
            "  inflating: chase_db_384_384_dice_bce_0_4__hvr_0_4_1/predictions/_Image_12L_0.png  \n",
            "  inflating: chase_db_384_384_dice_bce_0_4__hvr_0_4_1/predictions/_Image_12L_2.png  \n",
            "  inflating: chase_db_384_384_dice_bce_0_4__hvr_0_4_1/predictions/_Image_11R_6.png  \n",
            "  inflating: chase_db_384_384_dice_bce_0_4__hvr_0_4_1/predictions/_Image_13L_7.png  \n",
            "  inflating: chase_db_384_384_dice_bce_0_4__hvr_0_4_1/predictions/_Image_11R_5.png  \n"
          ]
        }
      ],
      "source": [
        "!unzip {folder_name}.zip\n"
      ]
    },
    {
      "cell_type": "code",
      "execution_count": null,
      "metadata": {
        "colab": {
          "background_save": true
        },
        "id": "uUc7rHJNeI-p"
      },
      "outputs": [],
      "source": [
        "drive.flush_and_unmount()"
      ]
    },
    {
      "cell_type": "code",
      "execution_count": null,
      "metadata": {
        "colab": {
          "background_save": true
        },
        "id": "fXp07gx1AtsF"
      },
      "outputs": [],
      "source": [
        ""
      ]
    }
  ],
  "metadata": {
    "accelerator": "GPU",
    "colab": {
      "background_execution": "on",
      "collapsed_sections": [],
      "machine_shape": "hm",
      "name": "chase_patches_384_384_0_4_dice_aug.ipynb",
      "provenance": []
    },
    "kernelspec": {
      "display_name": "Python 3",
      "name": "python3"
    },
    "language_info": {
      "name": "python"
    }
  },
  "nbformat": 4,
  "nbformat_minor": 0
}