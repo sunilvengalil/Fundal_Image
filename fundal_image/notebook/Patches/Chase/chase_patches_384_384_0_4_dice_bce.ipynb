{
  "cells": [
    {
      "cell_type": "markdown",
      "metadata": {
        "id": "ZIUz94YO5Y0x"
      },
      "source": [
        "### Import the required libraries and modules:"
      ]
    },
    {
      "cell_type": "code",
      "execution_count": null,
      "metadata": {
        "id": "RN5vXWIK27Lr"
      },
      "outputs": [],
      "source": [
        "import tensorflow as tf\n",
        "from tensorflow.keras.layers import Conv2D, BatchNormalization, Activation, MaxPool2D, Conv2DTranspose, Concatenate, Input\n",
        "from tensorflow.keras.models import Model\n",
        "from tensorflow.keras import backend as K\n",
        "import os\n",
        "os.environ[\"TF_CPP_MIN_LOG_LEVEL\"] = \"2\"\n",
        "import numpy as np\n",
        "import cv2\n",
        "from glob import glob\n",
        "from sklearn.utils import shuffle\n",
        "import tensorflow as tf\n",
        "from tensorflow.keras.callbacks import ModelCheckpoint, CSVLogger, ReduceLROnPlateau, EarlyStopping, TensorBoard\n",
        "from tensorflow.keras.optimizers import Adam\n",
        "from tensorflow.keras.metrics import Recall, Precision\n",
        "import numpy as np"
      ]
    },
    {
      "cell_type": "code",
      "execution_count": null,
      "metadata": {
        "colab": {
          "base_uri": "https://localhost:8080/"
        },
        "id": "DguMtoH4ZJA9",
        "outputId": "1b3c7177-973a-4472-9fc8-019367892d27"
      },
      "outputs": [
        {
          "name": "stdout",
          "output_type": "stream",
          "text": [
            "Mounted at /content/gdrive\n",
            "/content/gdrive/MyDrive/medical_image_processing\n"
          ]
        }
      ],
      "source": [
        "from google.colab import drive\n",
        "drive.mount(\"/content/gdrive\", force_remount=True)\n",
        "%cd /content/gdrive/MyDrive/medical_image_processing/"
      ]
    },
    {
      "cell_type": "code",
      "execution_count": null,
      "metadata": {
        "id": "sT9NcAXcN4MK"
      },
      "outputs": [],
      "source": [
        "from fundal_image.utils import create_dir, get_filenames_sorted\n",
        "from patches import generate_patches_images_only, reconstruct_patches\n",
        "from metrics import iou, dice_coef, dice_loss, DiceBCELoss, bce\n",
        "from metrics import compute_metrics, save_results\n",
        "from utils import read_image_train, read_mask_train"
      ]
    },
    {
      "cell_type": "code",
      "execution_count": null,
      "metadata": {
        "id": "-u2FCjiRfHBT"
      },
      "outputs": [],
      "source": [
        "image_sizes = {\"HRF\": (2336, 3504), \"drive\": (584, 565), \"chase_db\": (960, 999)}\n",
        "patch_size = {\"HRF\": (768, 768),\n",
        "              \"drive\":(128, 128),\n",
        "              \"chase_db\":(384, 384)\n",
        "              }\n",
        "\n",
        "dataset_name = \"chase_db\"\n",
        "patch_size = patch_size[dataset_name]\n",
        "patch_height = patch_size[0]\n",
        "patch_width = patch_size[1]"
      ]
    },
    {
      "cell_type": "code",
      "execution_count": null,
      "metadata": {
        "id": "U_UlvLm25iVS"
      },
      "outputs": [],
      "source": [
        "loss_str = \"dice_bce\"\n",
        "with_augmentation = False\n",
        "stride=384\n",
        "seed = 42\n",
        "run_id = 1\n",
        "test_percentage = 0.4\n",
        "class_weight = 0.4\n",
        "class_weight_str = str(class_weight).replace(\".\", \"_\")\n",
        "aug_string = \"\"\n",
        "if with_augmentation:\n",
        "    aug_string = \"_hvr\"\n",
        "test_percentage_str = str(test_percentage).replace(\".\", \"_\")\n",
        "root_path = f\"/content/datasets/{dataset_name}_{patch_height}_{stride}_{loss_str}_{class_weight_str}_{aug_string}_{test_percentage_str}_{run_id}/\"\n",
        "\n",
        "images_path_train = f\"{root_path}/training/images/\"\n",
        "gt_path_train = f\"{root_path}/training/1st_manual/\"\n",
        "images_path_test = f\"{root_path}/test/images/\"\n",
        "gt_path_test = f\"{root_path}/test/1st_manual/\"\n",
        "\n",
        "create_dir(images_path_train)\n",
        "create_dir(gt_path_train)\n",
        "create_dir(images_path_test)\n",
        "create_dir(gt_path_test)"
      ]
    },
    {
      "cell_type": "code",
      "execution_count": null,
      "metadata": {
        "id": "K9UW2Mt2kh_m"
      },
      "outputs": [],
      "source": [
        "def wbce(actual, predicted):\n",
        "    y_pred = K.clip(predicted, K.epsilon(), 1 - K.epsilon())\n",
        "    term_0 = (1 - actual) * K.log(1 - y_pred)\n",
        "    term_1 = class_weight * actual * K.log(y_pred + K.epsilon())\n",
        "    return -K.mean(term_0 + term_1, axis=0)"
      ]
    },
    {
      "cell_type": "code",
      "execution_count": null,
      "metadata": {
        "colab": {
          "base_uri": "https://localhost:8080/",
          "height": 35
        },
        "id": "lFCH4PBbSW4R",
        "outputId": "c81e3148-1432-4b4c-e224-7625c8f2f220"
      },
      "outputs": [
        {
          "data": {
            "application/vnd.google.colaboratory.intrinsic+json": {
              "type": "string"
            },
            "text/plain": [
              "'/content/datasets/chase_db_384_384_dice_bce_0_4__0_4_1/'"
            ]
          },
          "execution_count": 7,
          "metadata": {},
          "output_type": "execute_result"
        }
      ],
      "source": [
        "root_path"
      ]
    },
    {
      "cell_type": "code",
      "execution_count": null,
      "metadata": {
        "colab": {
          "base_uri": "https://localhost:8080/",
          "height": 35
        },
        "id": "SAWhPu-m--qT",
        "outputId": "59253823-6a66-46d5-fa64-a83ce24aecb3"
      },
      "outputs": [
        {
          "data": {
            "application/vnd.google.colaboratory.intrinsic+json": {
              "type": "string"
            },
            "text/plain": [
              "'/content/datasets/chase_db_384_384_dice_bce_0_4__0_4_1//training/images/'"
            ]
          },
          "execution_count": 8,
          "metadata": {},
          "output_type": "execute_result"
        }
      ],
      "source": [
        "images_path_train"
      ]
    },
    {
      "cell_type": "code",
      "execution_count": null,
      "metadata": {
        "id": "cNZJSlaoCLUx"
      },
      "outputs": [],
      "source": [
        "!cp /content/gdrive/MyDrive/medical_image_processing/fundal_image/datasets/chase_db/split_1/training/images/*.* {images_path_train}\n",
        "!cp /content/gdrive/MyDrive/medical_image_processing/fundal_image/datasets/chase_db/split_1//training/groundtruth1/*.* {gt_path_train}"
      ]
    },
    {
      "cell_type": "code",
      "execution_count": null,
      "metadata": {
        "id": "mJ_FsHnH_9Lh"
      },
      "outputs": [],
      "source": [
        "!cp /content/gdrive/MyDrive/medical_image_processing/fundal_image/datasets/chase_db/split_1/test/images/*.* {images_path_test}\n",
        "!cp /content/gdrive/MyDrive/medical_image_processing/fundal_image/datasets/chase_db/split_1/test/groundtruth1/*.* {gt_path_test}"
      ]
    },
    {
      "cell_type": "code",
      "execution_count": null,
      "metadata": {
        "colab": {
          "base_uri": "https://localhost:8080/"
        },
        "id": "ZZT5_8bp-rLQ",
        "outputId": "3c202b48-35f9-4cf3-89ed-4fa2037b71a1"
      },
      "outputs": [
        {
          "name": "stdout",
          "output_type": "stream",
          "text": [
            "Image_01L.jpg  Image_03R.jpg  Image_06L.jpg  Image_08R.jpg  Image_13R.jpg\n",
            "Image_01R.jpg  Image_04L.jpg  Image_06R.jpg  Image_09L.jpg  Image_14L.jpg\n",
            "Image_02L.jpg  Image_04R.jpg  Image_07L.jpg  Image_09R.jpg  Image_14R.jpg\n",
            "Image_02R.jpg  Image_05L.jpg  Image_07R.jpg  Image_10L.jpg\n",
            "Image_03L.jpg  Image_05R.jpg  Image_08L.jpg  Image_10R.jpg\n"
          ]
        }
      ],
      "source": [
        "!ls /content/gdrive/MyDrive/medical_image_processing/fundal_image/datasets//chase_db/split_1/training/images"
      ]
    },
    {
      "cell_type": "code",
      "execution_count": null,
      "metadata": {
        "id": "FkGqIQ7m68Jc"
      },
      "outputs": [],
      "source": [
        "# images_files, gt_files = get_filenames_sorted(images_path, gt_path)\n",
        "# print(len(images_files), len(gt_files))\n",
        "# # train_test_split\n",
        "# from sklearn.model_selection import train_test_split\n",
        "# label = [_xtrain.rsplit(\"/\", 1)[1].rsplit(\".\", 1)[0].rsplit(\"_\", 1)[1] for _xtrain in images_files] \n",
        "# xtrain, xtest, ytrain, ytest = train_test_split(images_files, gt_files, stratify=label,  test_size=test_percentage, random_state=seed)"
      ]
    },
    {
      "cell_type": "code",
      "execution_count": null,
      "metadata": {
        "id": "MNEcaT4MGrDE"
      },
      "outputs": [],
      "source": [
        "xtrain, ytrain = get_filenames_sorted(images_path_train, gt_path_train)\n",
        "xtest, ytest = get_filenames_sorted(images_path_test, gt_path_test)"
      ]
    },
    {
      "cell_type": "code",
      "execution_count": null,
      "metadata": {
        "colab": {
          "base_uri": "https://localhost:8080/"
        },
        "id": "kz1zp1UAd188",
        "outputId": "137e3c9a-689a-4d1f-85ca-c1cc023e4375"
      },
      "outputs": [
        {
          "name": "stdout",
          "output_type": "stream",
          "text": [
            "23 5\n"
          ]
        }
      ],
      "source": [
        "print(len(xtrain), len(xtest))\n",
        "# print(label)"
      ]
    },
    {
      "cell_type": "code",
      "execution_count": null,
      "metadata": {
        "colab": {
          "base_uri": "https://localhost:8080/"
        },
        "id": "-7XwsJsOOsqE",
        "outputId": "019fb011-0f36-4aeb-8113-7ddc042442e9"
      },
      "outputs": [
        {
          "data": {
            "text/plain": [
              "['/content/datasets/chase_db_384_384_dice_bce_0_4__0_4_1//training/images/Image_01L.jpg',\n",
              " '/content/datasets/chase_db_384_384_dice_bce_0_4__0_4_1//training/images/Image_01R.jpg',\n",
              " '/content/datasets/chase_db_384_384_dice_bce_0_4__0_4_1//training/images/Image_02L.jpg',\n",
              " '/content/datasets/chase_db_384_384_dice_bce_0_4__0_4_1//training/images/Image_02R.jpg',\n",
              " '/content/datasets/chase_db_384_384_dice_bce_0_4__0_4_1//training/images/Image_03L.jpg']"
            ]
          },
          "execution_count": 15,
          "metadata": {},
          "output_type": "execute_result"
        }
      ],
      "source": [
        "xtrain[:5]"
      ]
    },
    {
      "cell_type": "code",
      "execution_count": null,
      "metadata": {
        "colab": {
          "base_uri": "https://localhost:8080/"
        },
        "id": "Ybo3_b3GQT5c",
        "outputId": "7bfcc4bc-205b-483d-d8e3-723db5b1c1a5"
      },
      "outputs": [
        {
          "name": "stdout",
          "output_type": "stream",
          "text": [
            "23 5\n"
          ]
        },
        {
          "data": {
            "text/plain": [
              "['/content/datasets/chase_db_384_384_dice_bce_0_4__0_4_1//training/1st_manual/Image_01L_1stHO.png',\n",
              " '/content/datasets/chase_db_384_384_dice_bce_0_4__0_4_1//training/1st_manual/Image_01R_1stHO.png',\n",
              " '/content/datasets/chase_db_384_384_dice_bce_0_4__0_4_1//training/1st_manual/Image_02L_1stHO.png',\n",
              " '/content/datasets/chase_db_384_384_dice_bce_0_4__0_4_1//training/1st_manual/Image_02R_1stHO.png',\n",
              " '/content/datasets/chase_db_384_384_dice_bce_0_4__0_4_1//training/1st_manual/Image_03L_1stHO.png']"
            ]
          },
          "execution_count": 16,
          "metadata": {},
          "output_type": "execute_result"
        }
      ],
      "source": [
        "print(len(ytrain), len(ytest))\n",
        "ytrain[:5]"
      ]
    },
    {
      "cell_type": "code",
      "execution_count": null,
      "metadata": {
        "colab": {
          "base_uri": "https://localhost:8080/"
        },
        "id": "vNdC08n-k_iJ",
        "outputId": "14a3a077-c5ab-437f-b51f-8e2d231367b1"
      },
      "outputs": [
        {
          "data": {
            "text/plain": [
              "['/content/datasets/chase_db_384_384_dice_bce_0_4__0_4_1//test/1st_manual/Image_11L_1stHO.png',\n",
              " '/content/datasets/chase_db_384_384_dice_bce_0_4__0_4_1//test/1st_manual/Image_11R_1stHO.png',\n",
              " '/content/datasets/chase_db_384_384_dice_bce_0_4__0_4_1//test/1st_manual/Image_12L_1stHO.png',\n",
              " '/content/datasets/chase_db_384_384_dice_bce_0_4__0_4_1//test/1st_manual/Image_12R_1stHO.png',\n",
              " '/content/datasets/chase_db_384_384_dice_bce_0_4__0_4_1//test/1st_manual/Image_13L_1stHO.png']"
            ]
          },
          "execution_count": 17,
          "metadata": {},
          "output_type": "execute_result"
        }
      ],
      "source": [
        "ytest[:5]"
      ]
    },
    {
      "cell_type": "code",
      "execution_count": null,
      "metadata": {
        "id": "U0r-aJAjXNIU"
      },
      "outputs": [],
      "source": [
        "from tqdm import tqdm\n",
        "import pandas as pd"
      ]
    },
    {
      "cell_type": "code",
      "execution_count": null,
      "metadata": {
        "id": "iiMeoX5dop2D"
      },
      "outputs": [],
      "source": [
        "from sklearn.feature_extraction import image\n",
        "import numpy as np\n",
        "from PIL import Image\n",
        "from tqdm import tqdm\n",
        "import pandas as pd\n",
        "import cv2\n",
        "\n",
        "from fundal_image.utils import  create_dir\n",
        "from utils import get_filenames_sorted\n",
        "\n",
        "def generate_patches_images_only(image_files,\n",
        "                                 save_path_image,\n",
        "                                 max_patch=30,\n",
        "                                 dataset_name=\"\",\n",
        "                                 patch_size=(512, 512),\n",
        "                                 stride=None,\n",
        "                                 padding=\"zeros\",\n",
        "                                 exclude_boundary=True,\n",
        "                                 zero_padding_size=(0, 0),\n",
        "                                 gt_files=None,\n",
        "                                 save_path_gt=None\n",
        "                                 ):\n",
        "    \n",
        "    def patches_with_stride(image_filename, im, _patch_size, _stride, gt_name=None, gt=None):\n",
        "        patches = []\n",
        "        gt_patches = []\n",
        "        # print(\"Image size\", im.shape)\n",
        "        metadata_list = []\n",
        "        columns = [\"image_filename\", \"row\", \"col\", \"patch_height\", \"patch_width\", \"stride\", \"num_fg_pixels\"]\n",
        "        if padding == \"zeros\":\n",
        "            num_zero_padding_height = im.shape[0] % patch_size[0]\n",
        "            num_zero_padding_width = im.shape[1] % patch_size[1]\n",
        "\n",
        "            if num_zero_padding_height > 0:\n",
        "                num_zero_padding_height = _patch_size[0] - num_zero_padding_height\n",
        "\n",
        "            if num_zero_padding_width > 0:\n",
        "                num_zero_padding_width = _patch_size[1] - num_zero_padding_width\n",
        "\n",
        "            height_odd = 0 if (num_zero_padding_height % 2) == 0 else 1\n",
        "            width_odd = 0 if (num_zero_padding_width % 2) == 0 else 1\n",
        "        else:\n",
        "            raise Exception(f\"Value for argument padding is not mentioned\")\n",
        "\n",
        "        # print(f\"Image shape {im.shape}. Patch size {_patch_size}.  Num Zero padding rows {num_zero_padding_height}. Num zero padding cols {num_zero_padding_width}\")\n",
        "        im = np.pad(im, ((num_zero_padding_height // 2, num_zero_padding_height // 2 + height_odd),\n",
        "                                (num_zero_padding_width // 2, num_zero_padding_width // 2 + width_odd),\n",
        "                                (0, 0)\n",
        "                                )\n",
        "                           )\n",
        "        if gt is not None:\n",
        "            if len(gt.shape) == 3:\n",
        "                gt = np.pad(gt, ((num_zero_padding_height // 2, num_zero_padding_height // 2 + height_odd),\n",
        "                                 (num_zero_padding_width // 2, num_zero_padding_width // 2 + width_odd),\n",
        "                                 (0, 0)\n",
        "                                 )\n",
        "                            )\n",
        "            else:\n",
        "                gt = np.pad(gt, ((num_zero_padding_height // 2, num_zero_padding_height // 2 + height_odd),\n",
        "                                 (num_zero_padding_width // 2, num_zero_padding_width // 2 + width_odd)\n",
        "                                 )\n",
        "                            )\n",
        "\n",
        "        im_gray = cv2.cvtColor(im, cv2.COLOR_BGR2GRAY)\n",
        "        # print(f\"image shape after padding {im.shape}\")\n",
        "        for row in range(0, im.shape[0], _stride):\n",
        "            for col in range(0, im.shape[1], _stride):\n",
        "                if row + _patch_size[0] >= im.shape[0]:\n",
        "                    row = im.shape[0] - _patch_size[0]\n",
        "                if col + _patch_size[1] >= im.shape[1]:\n",
        "                    col = im.shape[1] - _patch_size[1]\n",
        "                image_patch = im[row:row + _patch_size[0], col:col + _patch_size[1]]\n",
        "                num_fg_pixels = np.sum(im_gray[row:row + _patch_size[0], col:col + _patch_size[1]] > 0)\n",
        "                if gt is not None:\n",
        "                    gt_patch = gt[row:row + _patch_size[0], col:col + _patch_size[1]]\n",
        "                if num_fg_pixels > 0:\n",
        "                    patches.append(image_patch)\n",
        "                    metadata_list.append([image_filename, row, col, _patch_size[0], _patch_size[1], _stride, num_fg_pixels])\n",
        "                    if gt is not None:\n",
        "                        gt_patches.append(gt_patch)\n",
        "\n",
        "\n",
        "        metadata_df = pd.DataFrame(metadata_list, columns=columns )\n",
        "        patches_np = np.asarray(patches)\n",
        "        if gt is not None:\n",
        "            gt_patches_np = np.asarray(gt_patches)\n",
        "        else:\n",
        "            gt_patches_np = None\n",
        "\n",
        "        return patches_np, metadata_df, gt_patches_np\n",
        "\n",
        "    num_images = len(image_files)\n",
        "    print(f\"Generating patches for {num_images} images\")\n",
        "    metadata_df = None\n",
        "    create_dir(save_path_image)\n",
        "    im_patches_dict = dict()\n",
        "    gt_patches_dict = dict()\n",
        "    for idx, image_filename in tqdm(enumerate(image_files), total=len(image_files)):\n",
        "        image_filename = image_filename.replace(\"\\\\\", \"/\")\n",
        "        # print(\"Image file\", image_filename)\n",
        "        name = image_filename.rsplit(\"/\", 1)[1].rsplit(\".\", 1)[0]\n",
        "        # image1 = Image.open(x)\n",
        "        # image_array = np.asarray(image1)\n",
        "        image_array = cv2.imread(image_filename)\n",
        "\n",
        "        if gt_files is not None and len(gt_files) > 0:\n",
        "            gt_filename = gt_files[idx]\n",
        "            gt_filename = gt_filename.replace(\"\\\\\", \"/\")\n",
        "            # print(\"Image file\", image_filename)\n",
        "            gt_name = gt_filename.rsplit(\"/\", 1)[1].rsplit(\".\", 1)[0]\n",
        "\n",
        "\n",
        "            gt = cv2.imread(gt_filename)\n",
        "            # gt = np.asarray(Image.open(gt_filename))\n",
        "            # print(gt.dtype)\n",
        "            if len(gt.shape) == 3:\n",
        "                gt = cv2.cvtColor(gt, cv2.COLOR_BGR2GRAY)\n",
        "\n",
        "        if not exclude_boundary:\n",
        "            # add zero padding\n",
        "            image_array = np.pad(image_array, zero_padding_size)\n",
        "            gt = np.pad(gt, zero_padding_size)\n",
        "\n",
        "        if stride is None:\n",
        "            image_patches = image.extract_patches_2d(image_array, patch_size, max_patches=max_patch, random_state=42)\n",
        "        else:\n",
        "            ret_value = patches_with_stride(image_filename, image_array, patch_size, stride, gt_name, gt)\n",
        "            if ret_value is None :\n",
        "                raise Exception(f\"Could not create patches for {image_filename}\")\n",
        "            else:\n",
        "                image_patches, _metadata_df, gt_patches = ret_value[0], ret_value[1], ret_value[2]\n",
        "            if metadata_df is not None:\n",
        "                metadata_df = metadata_df.append(_metadata_df)\n",
        "            else:\n",
        "                metadata_df = _metadata_df\n",
        "        im_patches_dict[name] = image_patches\n",
        "        gt_patches_dict[name] = gt_patches\n",
        "\n",
        "        # print(gt_patches.dtype)\n",
        "\n",
        "\n",
        "        if save_path_image is not None and len(save_path_image) > 0:\n",
        "            count = 0\n",
        "            for i in range(len(image_patches)):\n",
        "                # data = Image.fromarray(image_patches[i])\n",
        "                # print(save_path_image, dataset_name, name)\n",
        "                image_path_file = f\"{save_path_image}/{dataset_name}_{name}_{count}.png\"\n",
        "                # print(f\"Saving patches to {image_path_file}\")\n",
        "                cv2.imwrite(image_path_file, image_patches[i])\n",
        "\n",
        "                if gt_patches is not None and save_path_gt is not None:\n",
        "                    gt_path_file = f\"{save_path_gt}/{dataset_name}_{name}_{count}.png\"\n",
        "                    # print(gt_path_file)\n",
        "                    # print(type(gt_patches))\n",
        "                    # print(gt_patches[i].shape)\n",
        "                    # print(gt_patches[i].dtype)\n",
        "                    # print(np.min(gt_patches[i]), np.max(gt_patches[i]))\n",
        "                    cv2.imwrite(gt_path_file, gt_patches[i])\n",
        "                count += 1\n",
        "\n",
        "    return im_patches_dict, metadata_df, gt_patches_dict"
      ]
    },
    {
      "cell_type": "code",
      "execution_count": null,
      "metadata": {
        "colab": {
          "base_uri": "https://localhost:8080/"
        },
        "id": "n8qZpZY_CNP0",
        "outputId": "1a4753a5-4744-4b88-bb38-4be724e221e2"
      },
      "outputs": [
        {
          "name": "stdout",
          "output_type": "stream",
          "text": [
            "Generating patches for 23 images\n"
          ]
        },
        {
          "name": "stderr",
          "output_type": "stream",
          "text": [
            "100%|██████████| 23/23 [00:01<00:00, 13.80it/s]\n"
          ]
        }
      ],
      "source": [
        "num_pixels_to_add = [0, 0]\n",
        "if (image_sizes[dataset_name][0] % patch_size[0]) > 0:\n",
        "    num_pixels_to_add[0] = ((image_sizes[\"chase_db\"][0] // patch_size[0]) + 1) * patch_size[0]\n",
        "    num_pixels_to_add[1] = ((image_sizes[\"chase_db\"][1] // patch_size[1]) + 1) * patch_size[1]\n",
        "\n",
        "split_name = \"split_2\"\n",
        "data_path = root_path\n",
        "splits =[\"train\",\"test\"]\n",
        "\n",
        "\n",
        "split = \"train\"\n",
        "#for split in splits:\n",
        "image_patches_path = f\"{data_path}/{split_name}/{split}/image/\"\n",
        "create_dir(image_patches_path)\n",
        "gt_patches_path = f\"{data_path}/{split_name}/{split}/mask/\"\n",
        "create_dir(gt_patches_path)\n",
        "im_patches_dict_train, metadata_train_df, gt_patches_dict_train = generate_patches_images_only(xtrain,\n",
        "                                                                image_patches_path,\n",
        "                                                                patch_size=patch_size,\n",
        "                                                                stride=stride,\n",
        "                                                                zero_padding_size=num_pixels_to_add,\n",
        "                                                                gt_files=ytrain,\n",
        "                                                                save_path_gt=gt_patches_path)\n",
        "metadata_train_df.to_csv(f\"{data_path}/{split_name}/image_patches_{stride}_{stride}_{split}.csv\", index=False)\n",
        "\n"
      ]
    },
    {
      "cell_type": "code",
      "execution_count": null,
      "metadata": {
        "colab": {
          "base_uri": "https://localhost:8080/",
          "height": 35
        },
        "id": "CHmd8jN3k3Rb",
        "outputId": "c0c9b402-66ef-41e3-cdc5-012acf464a08"
      },
      "outputs": [
        {
          "data": {
            "application/vnd.google.colaboratory.intrinsic+json": {
              "type": "string"
            },
            "text/plain": [
              "'/content/datasets/chase_db_384_384_dice_bce_0_4__0_4_1//split_2/train/mask/'"
            ]
          },
          "execution_count": 21,
          "metadata": {},
          "output_type": "execute_result"
        }
      ],
      "source": [
        "gt_patches_path"
      ]
    },
    {
      "cell_type": "code",
      "execution_count": null,
      "metadata": {
        "colab": {
          "base_uri": "https://localhost:8080/"
        },
        "id": "T1Bd3CHcow_C",
        "outputId": "35cde7db-5416-4930-be9c-8f0f6bef4f51"
      },
      "outputs": [
        {
          "name": "stdout",
          "output_type": "stream",
          "text": [
            "Generating patches for 5 images\n"
          ]
        },
        {
          "name": "stderr",
          "output_type": "stream",
          "text": [
            "100%|██████████| 5/5 [00:00<00:00, 14.55it/s]\n"
          ]
        }
      ],
      "source": [
        "split = \"test\"\n",
        "#for split in splits:\n",
        "image_patches_path = f\"{data_path}/{split_name}/{split}/image/\"\n",
        "create_dir(image_patches_path)\n",
        "gt_patches_path = f\"{data_path}/{split_name}/{split}/mask/\"\n",
        "create_dir(gt_patches_path)\n",
        "im_patches_dict_test, metadata_test_df, gt_patches_dict_test = generate_patches_images_only(xtest,\n",
        "                                                                image_patches_path,\n",
        "                                                                patch_size=patch_size,\n",
        "                                                                stride=stride,\n",
        "                                                                zero_padding_size=num_pixels_to_add,\n",
        "                                                                gt_files=ytest,\n",
        "                                                                save_path_gt=gt_patches_path)\n",
        "metadata_test_df.to_csv(f\"{data_path}/{split_name}/image_patches_{patch_height}_{stride}_{split}.csv\", index=False)\n"
      ]
    },
    {
      "cell_type": "code",
      "execution_count": null,
      "metadata": {
        "colab": {
          "base_uri": "https://localhost:8080/"
        },
        "id": "97Y2QDV0V30I",
        "outputId": "4f2b940a-e738-4895-fb62-b5ca765a7986"
      },
      "outputs": [
        {
          "data": {
            "text/plain": [
              "(45, 7)"
            ]
          },
          "execution_count": 23,
          "metadata": {},
          "output_type": "execute_result"
        }
      ],
      "source": [
        "metadata_test_df.shape"
      ]
    },
    {
      "cell_type": "code",
      "execution_count": null,
      "metadata": {
        "colab": {
          "base_uri": "https://localhost:8080/"
        },
        "id": "LwBcnfocO3Bj",
        "outputId": "1987aee1-f222-40e1-cd14-0bc0bb8b7487"
      },
      "outputs": [
        {
          "data": {
            "text/plain": [
              "(207, 7)"
            ]
          },
          "execution_count": 24,
          "metadata": {},
          "output_type": "execute_result"
        }
      ],
      "source": [
        "metadata_train_df.shape"
      ]
    },
    {
      "cell_type": "code",
      "execution_count": null,
      "metadata": {
        "colab": {
          "base_uri": "https://localhost:8080/",
          "height": 206
        },
        "id": "IxsMtp6lLESy",
        "outputId": "03ad1609-3863-44a7-c431-e5002c186e1d"
      },
      "outputs": [
        {
          "data": {
            "text/html": [
              "\n",
              "  <div id=\"df-1a2b936d-eee7-4463-bef5-ed717dd59035\">\n",
              "    <div class=\"colab-df-container\">\n",
              "      <div>\n",
              "<style scoped>\n",
              "    .dataframe tbody tr th:only-of-type {\n",
              "        vertical-align: middle;\n",
              "    }\n",
              "\n",
              "    .dataframe tbody tr th {\n",
              "        vertical-align: top;\n",
              "    }\n",
              "\n",
              "    .dataframe thead th {\n",
              "        text-align: right;\n",
              "    }\n",
              "</style>\n",
              "<table border=\"1\" class=\"dataframe\">\n",
              "  <thead>\n",
              "    <tr style=\"text-align: right;\">\n",
              "      <th></th>\n",
              "      <th>image_filename</th>\n",
              "      <th>row</th>\n",
              "      <th>col</th>\n",
              "      <th>patch_height</th>\n",
              "      <th>patch_width</th>\n",
              "      <th>stride</th>\n",
              "      <th>num_fg_pixels</th>\n",
              "    </tr>\n",
              "  </thead>\n",
              "  <tbody>\n",
              "    <tr>\n",
              "      <th>0</th>\n",
              "      <td>/content/datasets/chase_db_384_384_dice_bce_0_...</td>\n",
              "      <td>0</td>\n",
              "      <td>0</td>\n",
              "      <td>384</td>\n",
              "      <td>384</td>\n",
              "      <td>384</td>\n",
              "      <td>35874</td>\n",
              "    </tr>\n",
              "    <tr>\n",
              "      <th>1</th>\n",
              "      <td>/content/datasets/chase_db_384_384_dice_bce_0_...</td>\n",
              "      <td>0</td>\n",
              "      <td>384</td>\n",
              "      <td>384</td>\n",
              "      <td>384</td>\n",
              "      <td>384</td>\n",
              "      <td>100262</td>\n",
              "    </tr>\n",
              "    <tr>\n",
              "      <th>2</th>\n",
              "      <td>/content/datasets/chase_db_384_384_dice_bce_0_...</td>\n",
              "      <td>0</td>\n",
              "      <td>768</td>\n",
              "      <td>384</td>\n",
              "      <td>384</td>\n",
              "      <td>384</td>\n",
              "      <td>32901</td>\n",
              "    </tr>\n",
              "    <tr>\n",
              "      <th>3</th>\n",
              "      <td>/content/datasets/chase_db_384_384_dice_bce_0_...</td>\n",
              "      <td>384</td>\n",
              "      <td>0</td>\n",
              "      <td>384</td>\n",
              "      <td>384</td>\n",
              "      <td>384</td>\n",
              "      <td>102239</td>\n",
              "    </tr>\n",
              "    <tr>\n",
              "      <th>4</th>\n",
              "      <td>/content/datasets/chase_db_384_384_dice_bce_0_...</td>\n",
              "      <td>384</td>\n",
              "      <td>384</td>\n",
              "      <td>384</td>\n",
              "      <td>384</td>\n",
              "      <td>384</td>\n",
              "      <td>147456</td>\n",
              "    </tr>\n",
              "  </tbody>\n",
              "</table>\n",
              "</div>\n",
              "      <button class=\"colab-df-convert\" onclick=\"convertToInteractive('df-1a2b936d-eee7-4463-bef5-ed717dd59035')\"\n",
              "              title=\"Convert this dataframe to an interactive table.\"\n",
              "              style=\"display:none;\">\n",
              "        \n",
              "  <svg xmlns=\"http://www.w3.org/2000/svg\" height=\"24px\"viewBox=\"0 0 24 24\"\n",
              "       width=\"24px\">\n",
              "    <path d=\"M0 0h24v24H0V0z\" fill=\"none\"/>\n",
              "    <path d=\"M18.56 5.44l.94 2.06.94-2.06 2.06-.94-2.06-.94-.94-2.06-.94 2.06-2.06.94zm-11 1L8.5 8.5l.94-2.06 2.06-.94-2.06-.94L8.5 2.5l-.94 2.06-2.06.94zm10 10l.94 2.06.94-2.06 2.06-.94-2.06-.94-.94-2.06-.94 2.06-2.06.94z\"/><path d=\"M17.41 7.96l-1.37-1.37c-.4-.4-.92-.59-1.43-.59-.52 0-1.04.2-1.43.59L10.3 9.45l-7.72 7.72c-.78.78-.78 2.05 0 2.83L4 21.41c.39.39.9.59 1.41.59.51 0 1.02-.2 1.41-.59l7.78-7.78 2.81-2.81c.8-.78.8-2.07 0-2.86zM5.41 20L4 18.59l7.72-7.72 1.47 1.35L5.41 20z\"/>\n",
              "  </svg>\n",
              "      </button>\n",
              "      \n",
              "  <style>\n",
              "    .colab-df-container {\n",
              "      display:flex;\n",
              "      flex-wrap:wrap;\n",
              "      gap: 12px;\n",
              "    }\n",
              "\n",
              "    .colab-df-convert {\n",
              "      background-color: #E8F0FE;\n",
              "      border: none;\n",
              "      border-radius: 50%;\n",
              "      cursor: pointer;\n",
              "      display: none;\n",
              "      fill: #1967D2;\n",
              "      height: 32px;\n",
              "      padding: 0 0 0 0;\n",
              "      width: 32px;\n",
              "    }\n",
              "\n",
              "    .colab-df-convert:hover {\n",
              "      background-color: #E2EBFA;\n",
              "      box-shadow: 0px 1px 2px rgba(60, 64, 67, 0.3), 0px 1px 3px 1px rgba(60, 64, 67, 0.15);\n",
              "      fill: #174EA6;\n",
              "    }\n",
              "\n",
              "    [theme=dark] .colab-df-convert {\n",
              "      background-color: #3B4455;\n",
              "      fill: #D2E3FC;\n",
              "    }\n",
              "\n",
              "    [theme=dark] .colab-df-convert:hover {\n",
              "      background-color: #434B5C;\n",
              "      box-shadow: 0px 1px 3px 1px rgba(0, 0, 0, 0.15);\n",
              "      filter: drop-shadow(0px 1px 2px rgba(0, 0, 0, 0.3));\n",
              "      fill: #FFFFFF;\n",
              "    }\n",
              "  </style>\n",
              "\n",
              "      <script>\n",
              "        const buttonEl =\n",
              "          document.querySelector('#df-1a2b936d-eee7-4463-bef5-ed717dd59035 button.colab-df-convert');\n",
              "        buttonEl.style.display =\n",
              "          google.colab.kernel.accessAllowed ? 'block' : 'none';\n",
              "\n",
              "        async function convertToInteractive(key) {\n",
              "          const element = document.querySelector('#df-1a2b936d-eee7-4463-bef5-ed717dd59035');\n",
              "          const dataTable =\n",
              "            await google.colab.kernel.invokeFunction('convertToInteractive',\n",
              "                                                     [key], {});\n",
              "          if (!dataTable) return;\n",
              "\n",
              "          const docLinkHtml = 'Like what you see? Visit the ' +\n",
              "            '<a target=\"_blank\" href=https://colab.research.google.com/notebooks/data_table.ipynb>data table notebook</a>'\n",
              "            + ' to learn more about interactive tables.';\n",
              "          element.innerHTML = '';\n",
              "          dataTable['output_type'] = 'display_data';\n",
              "          await google.colab.output.renderOutput(dataTable, element);\n",
              "          const docLink = document.createElement('div');\n",
              "          docLink.innerHTML = docLinkHtml;\n",
              "          element.appendChild(docLink);\n",
              "        }\n",
              "      </script>\n",
              "    </div>\n",
              "  </div>\n",
              "  "
            ],
            "text/plain": [
              "                                      image_filename  row  col  patch_height  \\\n",
              "0  /content/datasets/chase_db_384_384_dice_bce_0_...    0    0           384   \n",
              "1  /content/datasets/chase_db_384_384_dice_bce_0_...    0  384           384   \n",
              "2  /content/datasets/chase_db_384_384_dice_bce_0_...    0  768           384   \n",
              "3  /content/datasets/chase_db_384_384_dice_bce_0_...  384    0           384   \n",
              "4  /content/datasets/chase_db_384_384_dice_bce_0_...  384  384           384   \n",
              "\n",
              "   patch_width  stride  num_fg_pixels  \n",
              "0          384     384          35874  \n",
              "1          384     384         100262  \n",
              "2          384     384          32901  \n",
              "3          384     384         102239  \n",
              "4          384     384         147456  "
            ]
          },
          "execution_count": 25,
          "metadata": {},
          "output_type": "execute_result"
        }
      ],
      "source": [
        "metadata_train_df.head()"
      ]
    },
    {
      "cell_type": "code",
      "execution_count": null,
      "metadata": {
        "id": "DLrslUO4gvQp"
      },
      "outputs": [],
      "source": [
        "import glob\n",
        "split = \"test\"\n",
        "image_patches_path = f\"{data_path}/{split_name}/{split}/image/\"\n",
        "\n",
        "reconstructed_original_path = f\"{data_path}/{split_name}/reconstructed/{split}/image\"\n",
        "create_dir(reconstructed_original_path)\n",
        "reconstruct_patches(im_patches_dict_test,\n",
        "                    metadata_test_df,\n",
        "                    reconstructed_original_path\n",
        "                    )\n"
      ]
    },
    {
      "cell_type": "code",
      "execution_count": null,
      "metadata": {
        "colab": {
          "base_uri": "https://localhost:8080/"
        },
        "id": "n8gpCUhvZY8m",
        "outputId": "5a0553b6-3c2c-447c-afac-0fe88ffc9e8a"
      },
      "outputs": [
        {
          "name": "stdout",
          "output_type": "stream",
          "text": [
            "['Image_11L', 'Image_11R', 'Image_12L', 'Image_12R', 'Image_13L']\n"
          ]
        }
      ],
      "source": [
        "print(list(gt_patches_dict_test.keys()))"
      ]
    },
    {
      "cell_type": "code",
      "execution_count": null,
      "metadata": {
        "colab": {
          "base_uri": "https://localhost:8080/"
        },
        "id": "tNONp29kZm8q",
        "outputId": "06c681d9-cc4c-48e9-89f4-fc360faae402"
      },
      "outputs": [
        {
          "data": {
            "text/plain": [
              "numpy.ndarray"
            ]
          },
          "execution_count": 28,
          "metadata": {},
          "output_type": "execute_result"
        }
      ],
      "source": [
        "type(gt_patches_dict_test[\"Image_11L\"])"
      ]
    },
    {
      "cell_type": "code",
      "execution_count": null,
      "metadata": {
        "id": "_TkWlhCKF7o5"
      },
      "outputs": [],
      "source": [
        "reconstructed_gt_path = f\"{data_path}/{split_name}/reconstructed/{split}/mask\"\n",
        "\n",
        "create_dir(reconstructed_gt_path)\n",
        "reconstruct_patches(gt_patches_dict_test,\n",
        "                    metadata_test_df,\n",
        "                    reconstructed_gt_path,\n",
        "                    )\n"
      ]
    },
    {
      "cell_type": "code",
      "execution_count": null,
      "metadata": {
        "colab": {
          "base_uri": "https://localhost:8080/"
        },
        "id": "Y5NJeG-731yQ",
        "outputId": "805b8816-bd89-47f7-dbaa-42d5210b0ab3"
      },
      "outputs": [
        {
          "name": "stdout",
          "output_type": "stream",
          "text": [
            "['Image_11L', 'Image_11R', 'Image_12L', 'Image_12R', 'Image_13L']\n"
          ]
        }
      ],
      "source": [
        "print([k for k in im_patches_dict_test.keys()])"
      ]
    },
    {
      "cell_type": "markdown",
      "metadata": {
        "id": "_WctlpFt6hx4"
      },
      "source": [
        "### Construct the Model:"
      ]
    },
    {
      "cell_type": "code",
      "execution_count": null,
      "metadata": {
        "colab": {
          "base_uri": "https://localhost:8080/"
        },
        "id": "epeNiZGQ5gSW",
        "outputId": "8d78220c-dd5d-4695-f1fb-84410acd33ab"
      },
      "outputs": [
        {
          "name": "stdout",
          "output_type": "stream",
          "text": [
            "Model: \"UNET\"\n",
            "__________________________________________________________________________________________________\n",
            " Layer (type)                   Output Shape         Param #     Connected to                     \n",
            "==================================================================================================\n",
            " input_1 (InputLayer)           [(None, 512, 512, 3  0           []                               \n",
            "                                )]                                                                \n",
            "                                                                                                  \n",
            " conv2d (Conv2D)                (None, 512, 512, 64  1792        ['input_1[0][0]']                \n",
            "                                )                                                                 \n",
            "                                                                                                  \n",
            " batch_normalization (BatchNorm  (None, 512, 512, 64  256        ['conv2d[0][0]']                 \n",
            " alization)                     )                                                                 \n",
            "                                                                                                  \n",
            " activation (Activation)        (None, 512, 512, 64  0           ['batch_normalization[0][0]']    \n",
            "                                )                                                                 \n",
            "                                                                                                  \n",
            " conv2d_1 (Conv2D)              (None, 512, 512, 64  36928       ['activation[0][0]']             \n",
            "                                )                                                                 \n",
            "                                                                                                  \n",
            " batch_normalization_1 (BatchNo  (None, 512, 512, 64  256        ['conv2d_1[0][0]']               \n",
            " rmalization)                   )                                                                 \n",
            "                                                                                                  \n",
            " activation_1 (Activation)      (None, 512, 512, 64  0           ['batch_normalization_1[0][0]']  \n",
            "                                )                                                                 \n",
            "                                                                                                  \n",
            " max_pooling2d (MaxPooling2D)   (None, 256, 256, 64  0           ['activation_1[0][0]']           \n",
            "                                )                                                                 \n",
            "                                                                                                  \n",
            " conv2d_2 (Conv2D)              (None, 256, 256, 12  73856       ['max_pooling2d[0][0]']          \n",
            "                                8)                                                                \n",
            "                                                                                                  \n",
            " batch_normalization_2 (BatchNo  (None, 256, 256, 12  512        ['conv2d_2[0][0]']               \n",
            " rmalization)                   8)                                                                \n",
            "                                                                                                  \n",
            " activation_2 (Activation)      (None, 256, 256, 12  0           ['batch_normalization_2[0][0]']  \n",
            "                                8)                                                                \n",
            "                                                                                                  \n",
            " conv2d_3 (Conv2D)              (None, 256, 256, 12  147584      ['activation_2[0][0]']           \n",
            "                                8)                                                                \n",
            "                                                                                                  \n",
            " batch_normalization_3 (BatchNo  (None, 256, 256, 12  512        ['conv2d_3[0][0]']               \n",
            " rmalization)                   8)                                                                \n",
            "                                                                                                  \n",
            " activation_3 (Activation)      (None, 256, 256, 12  0           ['batch_normalization_3[0][0]']  \n",
            "                                8)                                                                \n",
            "                                                                                                  \n",
            " max_pooling2d_1 (MaxPooling2D)  (None, 128, 128, 12  0          ['activation_3[0][0]']           \n",
            "                                8)                                                                \n",
            "                                                                                                  \n",
            " conv2d_4 (Conv2D)              (None, 128, 128, 25  295168      ['max_pooling2d_1[0][0]']        \n",
            "                                6)                                                                \n",
            "                                                                                                  \n",
            " batch_normalization_4 (BatchNo  (None, 128, 128, 25  1024       ['conv2d_4[0][0]']               \n",
            " rmalization)                   6)                                                                \n",
            "                                                                                                  \n",
            " activation_4 (Activation)      (None, 128, 128, 25  0           ['batch_normalization_4[0][0]']  \n",
            "                                6)                                                                \n",
            "                                                                                                  \n",
            " conv2d_5 (Conv2D)              (None, 128, 128, 25  590080      ['activation_4[0][0]']           \n",
            "                                6)                                                                \n",
            "                                                                                                  \n",
            " batch_normalization_5 (BatchNo  (None, 128, 128, 25  1024       ['conv2d_5[0][0]']               \n",
            " rmalization)                   6)                                                                \n",
            "                                                                                                  \n",
            " activation_5 (Activation)      (None, 128, 128, 25  0           ['batch_normalization_5[0][0]']  \n",
            "                                6)                                                                \n",
            "                                                                                                  \n",
            " max_pooling2d_2 (MaxPooling2D)  (None, 64, 64, 256)  0          ['activation_5[0][0]']           \n",
            "                                                                                                  \n",
            " conv2d_6 (Conv2D)              (None, 64, 64, 512)  1180160     ['max_pooling2d_2[0][0]']        \n",
            "                                                                                                  \n",
            " batch_normalization_6 (BatchNo  (None, 64, 64, 512)  2048       ['conv2d_6[0][0]']               \n",
            " rmalization)                                                                                     \n",
            "                                                                                                  \n",
            " activation_6 (Activation)      (None, 64, 64, 512)  0           ['batch_normalization_6[0][0]']  \n",
            "                                                                                                  \n",
            " conv2d_7 (Conv2D)              (None, 64, 64, 512)  2359808     ['activation_6[0][0]']           \n",
            "                                                                                                  \n",
            " batch_normalization_7 (BatchNo  (None, 64, 64, 512)  2048       ['conv2d_7[0][0]']               \n",
            " rmalization)                                                                                     \n",
            "                                                                                                  \n",
            " activation_7 (Activation)      (None, 64, 64, 512)  0           ['batch_normalization_7[0][0]']  \n",
            "                                                                                                  \n",
            " max_pooling2d_3 (MaxPooling2D)  (None, 32, 32, 512)  0          ['activation_7[0][0]']           \n",
            "                                                                                                  \n",
            " conv2d_8 (Conv2D)              (None, 32, 32, 1024  4719616     ['max_pooling2d_3[0][0]']        \n",
            "                                )                                                                 \n",
            "                                                                                                  \n",
            " batch_normalization_8 (BatchNo  (None, 32, 32, 1024  4096       ['conv2d_8[0][0]']               \n",
            " rmalization)                   )                                                                 \n",
            "                                                                                                  \n",
            " activation_8 (Activation)      (None, 32, 32, 1024  0           ['batch_normalization_8[0][0]']  \n",
            "                                )                                                                 \n",
            "                                                                                                  \n",
            " conv2d_9 (Conv2D)              (None, 32, 32, 1024  9438208     ['activation_8[0][0]']           \n",
            "                                )                                                                 \n",
            "                                                                                                  \n",
            " batch_normalization_9 (BatchNo  (None, 32, 32, 1024  4096       ['conv2d_9[0][0]']               \n",
            " rmalization)                   )                                                                 \n",
            "                                                                                                  \n",
            " activation_9 (Activation)      (None, 32, 32, 1024  0           ['batch_normalization_9[0][0]']  \n",
            "                                )                                                                 \n",
            "                                                                                                  \n",
            " conv2d_transpose (Conv2DTransp  (None, 64, 64, 512)  2097664    ['activation_9[0][0]']           \n",
            " ose)                                                                                             \n",
            "                                                                                                  \n",
            " concatenate (Concatenate)      (None, 64, 64, 1024  0           ['conv2d_transpose[0][0]',       \n",
            "                                )                                 'activation_7[0][0]']           \n",
            "                                                                                                  \n",
            " conv2d_10 (Conv2D)             (None, 64, 64, 512)  4719104     ['concatenate[0][0]']            \n",
            "                                                                                                  \n",
            " batch_normalization_10 (BatchN  (None, 64, 64, 512)  2048       ['conv2d_10[0][0]']              \n",
            " ormalization)                                                                                    \n",
            "                                                                                                  \n",
            " activation_10 (Activation)     (None, 64, 64, 512)  0           ['batch_normalization_10[0][0]'] \n",
            "                                                                                                  \n",
            " conv2d_11 (Conv2D)             (None, 64, 64, 512)  2359808     ['activation_10[0][0]']          \n",
            "                                                                                                  \n",
            " batch_normalization_11 (BatchN  (None, 64, 64, 512)  2048       ['conv2d_11[0][0]']              \n",
            " ormalization)                                                                                    \n",
            "                                                                                                  \n",
            " activation_11 (Activation)     (None, 64, 64, 512)  0           ['batch_normalization_11[0][0]'] \n",
            "                                                                                                  \n",
            " conv2d_transpose_1 (Conv2DTran  (None, 128, 128, 25  524544     ['activation_11[0][0]']          \n",
            " spose)                         6)                                                                \n",
            "                                                                                                  \n",
            " concatenate_1 (Concatenate)    (None, 128, 128, 51  0           ['conv2d_transpose_1[0][0]',     \n",
            "                                2)                                'activation_5[0][0]']           \n",
            "                                                                                                  \n",
            " conv2d_12 (Conv2D)             (None, 128, 128, 25  1179904     ['concatenate_1[0][0]']          \n",
            "                                6)                                                                \n",
            "                                                                                                  \n",
            " batch_normalization_12 (BatchN  (None, 128, 128, 25  1024       ['conv2d_12[0][0]']              \n",
            " ormalization)                  6)                                                                \n",
            "                                                                                                  \n",
            " activation_12 (Activation)     (None, 128, 128, 25  0           ['batch_normalization_12[0][0]'] \n",
            "                                6)                                                                \n",
            "                                                                                                  \n",
            " conv2d_13 (Conv2D)             (None, 128, 128, 25  590080      ['activation_12[0][0]']          \n",
            "                                6)                                                                \n",
            "                                                                                                  \n",
            " batch_normalization_13 (BatchN  (None, 128, 128, 25  1024       ['conv2d_13[0][0]']              \n",
            " ormalization)                  6)                                                                \n",
            "                                                                                                  \n",
            " activation_13 (Activation)     (None, 128, 128, 25  0           ['batch_normalization_13[0][0]'] \n",
            "                                6)                                                                \n",
            "                                                                                                  \n",
            " conv2d_transpose_2 (Conv2DTran  (None, 256, 256, 12  131200     ['activation_13[0][0]']          \n",
            " spose)                         8)                                                                \n",
            "                                                                                                  \n",
            " concatenate_2 (Concatenate)    (None, 256, 256, 25  0           ['conv2d_transpose_2[0][0]',     \n",
            "                                6)                                'activation_3[0][0]']           \n",
            "                                                                                                  \n",
            " conv2d_14 (Conv2D)             (None, 256, 256, 12  295040      ['concatenate_2[0][0]']          \n",
            "                                8)                                                                \n",
            "                                                                                                  \n",
            " batch_normalization_14 (BatchN  (None, 256, 256, 12  512        ['conv2d_14[0][0]']              \n",
            " ormalization)                  8)                                                                \n",
            "                                                                                                  \n",
            " activation_14 (Activation)     (None, 256, 256, 12  0           ['batch_normalization_14[0][0]'] \n",
            "                                8)                                                                \n",
            "                                                                                                  \n",
            " conv2d_15 (Conv2D)             (None, 256, 256, 12  147584      ['activation_14[0][0]']          \n",
            "                                8)                                                                \n",
            "                                                                                                  \n",
            " batch_normalization_15 (BatchN  (None, 256, 256, 12  512        ['conv2d_15[0][0]']              \n",
            " ormalization)                  8)                                                                \n",
            "                                                                                                  \n",
            " activation_15 (Activation)     (None, 256, 256, 12  0           ['batch_normalization_15[0][0]'] \n",
            "                                8)                                                                \n",
            "                                                                                                  \n",
            " conv2d_transpose_3 (Conv2DTran  (None, 512, 512, 64  32832      ['activation_15[0][0]']          \n",
            " spose)                         )                                                                 \n",
            "                                                                                                  \n",
            " concatenate_3 (Concatenate)    (None, 512, 512, 12  0           ['conv2d_transpose_3[0][0]',     \n",
            "                                8)                                'activation_1[0][0]']           \n",
            "                                                                                                  \n",
            " conv2d_16 (Conv2D)             (None, 512, 512, 64  73792       ['concatenate_3[0][0]']          \n",
            "                                )                                                                 \n",
            "                                                                                                  \n",
            " batch_normalization_16 (BatchN  (None, 512, 512, 64  256        ['conv2d_16[0][0]']              \n",
            " ormalization)                  )                                                                 \n",
            "                                                                                                  \n",
            " activation_16 (Activation)     (None, 512, 512, 64  0           ['batch_normalization_16[0][0]'] \n",
            "                                )                                                                 \n",
            "                                                                                                  \n",
            " conv2d_17 (Conv2D)             (None, 512, 512, 64  36928       ['activation_16[0][0]']          \n",
            "                                )                                                                 \n",
            "                                                                                                  \n",
            " batch_normalization_17 (BatchN  (None, 512, 512, 64  256        ['conv2d_17[0][0]']              \n",
            " ormalization)                  )                                                                 \n",
            "                                                                                                  \n",
            " activation_17 (Activation)     (None, 512, 512, 64  0           ['batch_normalization_17[0][0]'] \n",
            "                                )                                                                 \n",
            "                                                                                                  \n",
            " conv2d_18 (Conv2D)             (None, 512, 512, 1)  65          ['activation_17[0][0]']          \n",
            "                                                                                                  \n",
            "==================================================================================================\n",
            "Total params: 31,055,297\n",
            "Trainable params: 31,043,521\n",
            "Non-trainable params: 11,776\n",
            "__________________________________________________________________________________________________\n"
          ]
        }
      ],
      "source": [
        "def conv_block(inputs, num_filters):\n",
        "    x = Conv2D(num_filters, 3, padding=\"same\")(inputs)\n",
        "    x = BatchNormalization()(x)\n",
        "    x = Activation(\"relu\")(x)\n",
        "\n",
        "    x = Conv2D(num_filters, 3, padding=\"same\")(x)\n",
        "    x = BatchNormalization()(x)\n",
        "    x = Activation(\"relu\")(x)\n",
        "\n",
        "    return x\n",
        "\n",
        "def encoder_block(inputs, num_filters):\n",
        "    x = conv_block(inputs, num_filters)\n",
        "    p = MaxPool2D((2, 2))(x)\n",
        "    return x, p\n",
        "\n",
        "def decoder_block(inputs, skip_features, num_filters):\n",
        "    x = Conv2DTranspose(num_filters, (2, 2), strides=2, padding=\"same\")(inputs)\n",
        "    x = Concatenate()([x, skip_features])\n",
        "    x = conv_block(x, num_filters)\n",
        "    return x\n",
        "\n",
        "def build_unet(input_shape):\n",
        "    inputs = Input(input_shape)\n",
        "\n",
        "    s1, p1 = encoder_block(inputs, 64)\n",
        "    s2, p2 = encoder_block(p1, 128)\n",
        "    s3, p3 = encoder_block(p2, 256)\n",
        "    s4, p4 = encoder_block(p3, 512)\n",
        "\n",
        "    b1 = conv_block(p4, 1024)\n",
        "\n",
        "    d1 = decoder_block(b1, s4, 512)\n",
        "    d2 = decoder_block(d1, s3, 256)\n",
        "    d3 = decoder_block(d2, s2, 128)\n",
        "    d4 = decoder_block(d3, s1, 64)\n",
        "\n",
        "    outputs = Conv2D(1, 1, padding=\"same\", activation=\"sigmoid\")(d4)\n",
        "\n",
        "    model = Model(inputs, outputs, name=\"UNET\")\n",
        "    return model\n",
        "\n",
        "input_shape = (512, 512, 3)\n",
        "model = build_unet(input_shape)\n",
        "model.summary()"
      ]
    },
    {
      "cell_type": "markdown",
      "metadata": {
        "id": "TWKUCE3_6vBv"
      },
      "source": [
        "### Adding the Metrics:"
      ]
    },
    {
      "cell_type": "code",
      "execution_count": null,
      "metadata": {
        "id": "s5HXET5Z6uZX"
      },
      "outputs": [],
      "source": [
        "def iou(y_true, y_pred):\n",
        "    def f(y_true, y_pred):\n",
        "        intersection = (y_true * y_pred).sum()\n",
        "        union = y_true.sum() + y_pred.sum() - intersection\n",
        "        x = (intersection + 1e-15) / (union + 1e-15)\n",
        "        x = x.astype(np.float32)\n",
        "        return x\n",
        "    return tf.numpy_function(f, [y_true, y_pred], tf.float32)\n",
        "\n",
        "smooth = 1e-15\n",
        "def dice_coef(y_true, y_pred):\n",
        "    y_true = tf.keras.layers.Flatten()(y_true)\n",
        "    y_pred = tf.keras.layers.Flatten()(y_pred)\n",
        "    intersection = tf.reduce_sum(y_true * y_pred)\n",
        "    return (2. * intersection + smooth) / (tf.reduce_sum(y_true) + tf.reduce_sum(y_pred) + smooth)\n",
        "\n",
        "def dice_loss(y_true, y_pred):\n",
        "    return 1.0 - dice_coef(y_true, y_pred)\n",
        "\n",
        "def DiceBCELoss(y_true, y_pred):\n",
        "    \n",
        "    inputs = tf.keras.layers.Flatten()(y_true)\n",
        "    targets = tf.keras.layers.Flatten()(y_pred)\n",
        "\n",
        "    intersection = tf.reduce_sum(inputs * targets)\n",
        "    dice_loss = 1 - (2.*intersection + smooth)/(tf.reduce_sum(y_true) + tf.reduce_sum(y_pred) + smooth)\n",
        "    BCE = tf.keras.losses.BinaryCrossentropy()\n",
        "    Dice_BCE = BCE(inputs, targets) + dice_loss\n",
        "\n",
        "    return Dice_BCE\n",
        "\n",
        "def bce(y_true, y_pred):\n",
        "    \n",
        "    inputs = tf.keras.layers.Flatten()(y_true)\n",
        "    targets = tf.keras.layers.Flatten()(y_pred)\n",
        "    BCE = tf.keras.losses.BinaryCrossentropy()\n",
        "    Dice_BCE = BCE(inputs, targets)\n",
        "\n",
        "    return Dice_BCE"
      ]
    },
    {
      "cell_type": "markdown",
      "metadata": {
        "id": "fuGIkqEH65dX"
      },
      "source": [
        "\n",
        "\n",
        "### Training the Model:"
      ]
    },
    {
      "cell_type": "code",
      "execution_count": null,
      "metadata": {
        "colab": {
          "base_uri": "https://localhost:8080/"
        },
        "id": "1FT9iAYkUaeR",
        "outputId": "c30c983b-0716-4d54-c355-d1499dcc76bf"
      },
      "outputs": [
        {
          "name": "stdout",
          "output_type": "stream",
          "text": [
            "<function DiceBCELoss at 0x7f69005ac8c0>\n"
          ]
        }
      ],
      "source": [
        "if loss_str == \"bce\":\n",
        "    loss = bce\n",
        "elif loss_str == \"dice_bce\":\n",
        "    loss = DiceBCELoss\n",
        "elif loss_str == \"dice_loss\":\n",
        "    loss = dice_loss\n",
        "elif loss_str == \"wbce\":\n",
        "    loss = wbce\n",
        "else:\n",
        "    raise Exception(\"Invalid value for loss_str\")\n",
        "    \n",
        "print(loss)"
      ]
    },
    {
      "cell_type": "code",
      "execution_count": null,
      "metadata": {
        "id": "NNdxwX_-5udw"
      },
      "outputs": [],
      "source": [
        "H = patch_height\n",
        "W = patch_width\n",
        "\n",
        "def create_dir(path):\n",
        "    if not os.path.exists(path):\n",
        "        os.makedirs(path)\n",
        "\n",
        "def load_data(path):\n",
        "    x = sorted(glob(os.path.join(path, \"image\", \"*.png\")))\n",
        "    y = sorted(glob(os.path.join(path, \"mask\", \"*.png\")))\n",
        "    return x, y\n",
        "\n",
        "def shuffling(x, y):\n",
        "    x, y = shuffle(x, y, random_state=42)\n",
        "    return x, y\n",
        "\n",
        "def read_image(path):\n",
        "    path = path.decode()\n",
        "    x = cv2.imread(path, cv2.IMREAD_COLOR)\n",
        "    # x = cv2.resize(x, (W, H))\n",
        "    x = x/255.0\n",
        "    x = x.astype(np.float32)\n",
        "    return x\n",
        "\n",
        "def read_mask(path):\n",
        "    path = path.decode()\n",
        "    x = cv2.imread(path, cv2.IMREAD_GRAYSCALE)  ## (512, 512)\n",
        "    # x = cv2.resize(x, (W, H))\n",
        "    x = x/255.0\n",
        "    x = x.astype(np.float32)\n",
        "    x = np.expand_dims(x, axis=-1)              ## (512, 512, 1)\n",
        "    return x\n",
        "\n",
        "def tf_parse(x, y):\n",
        "    def _parse(x, y):\n",
        "        x = read_image(x)\n",
        "        y = read_mask(y)\n",
        "        return x, y\n",
        "\n",
        "    x, y = tf.numpy_function(_parse, [x, y], [tf.float32, tf.float32])\n",
        "    x.set_shape([H, W, 3])\n",
        "    y.set_shape([H, W, 1])\n",
        "    return x, y\n",
        "\n",
        "def tf_dataset(X, Y, batch_size=2):\n",
        "    dataset = tf.data.Dataset.from_tensor_slices((X, Y))\n",
        "    dataset = dataset.map(tf_parse)\n",
        "    dataset = dataset.batch(batch_size)\n",
        "    dataset = dataset.prefetch(4)\n",
        "    return dataset"
      ]
    },
    {
      "cell_type": "code",
      "execution_count": null,
      "metadata": {
        "id": "54fnwa9lJESj"
      },
      "outputs": [],
      "source": [
        "from keras.metrics import AUC"
      ]
    },
    {
      "cell_type": "code",
      "execution_count": null,
      "metadata": {
        "id": "ZKS1beyfSUHc"
      },
      "outputs": [],
      "source": [
        "model_dir = f\"{root_path}/trained_models/\""
      ]
    },
    {
      "cell_type": "code",
      "execution_count": null,
      "metadata": {
        "id": "q0GnRCID3HdL"
      },
      "outputs": [],
      "source": [
        "create_dir(model_dir)"
      ]
    },
    {
      "cell_type": "code",
      "execution_count": null,
      "metadata": {
        "id": "H4nNDNkuHTot"
      },
      "outputs": [],
      "source": [
        "!ls {model_dir}"
      ]
    },
    {
      "cell_type": "code",
      "execution_count": null,
      "metadata": {
        "colab": {
          "base_uri": "https://localhost:8080/"
        },
        "id": "nCnFXz7Xpvzi",
        "outputId": "c8254813-8124-486d-97ff-eb1cbfdda3e2"
      },
      "outputs": [
        {
          "name": "stdout",
          "output_type": "stream",
          "text": [
            "/content/datasets\n"
          ]
        }
      ],
      "source": [
        "%cd /content/datasets"
      ]
    },
    {
      "cell_type": "code",
      "execution_count": null,
      "metadata": {
        "id": "OxDh2J2zGsNE"
      },
      "outputs": [],
      "source": [
        "from glob import glob"
      ]
    },
    {
      "cell_type": "code",
      "execution_count": null,
      "metadata": {
        "colab": {
          "background_save": true,
          "base_uri": "https://localhost:8080/"
        },
        "id": "R9oxQCQo7Jnw",
        "outputId": "89f0720e-0c56-42fe-894d-1225bce210fc"
      },
      "outputs": [
        {
          "name": "stdout",
          "output_type": "stream",
          "text": [
            "Train: 207 - 207\n",
            "Valid: 45 - 45\n",
            "Epoch 1/50\n",
            "26/26 [==============================] - ETA: 0s - loss: 1.2886 - dice_coef: 0.1630 - iou: 0.0890 - recall: 0.6622 - precision: 0.1760 - auc: 0.8504\n",
            "Epoch 1: val_loss improved from inf to 1.63404, saving model to /content/datasets/chase_db_384_384_dice_bce_0_4__0_4_1//trained_models/model.h5\n",
            "26/26 [==============================] - 33s 578ms/step - loss: 1.2886 - dice_coef: 0.1630 - iou: 0.0890 - recall: 0.6622 - precision: 0.1760 - auc: 0.8504 - val_loss: 1.6340 - val_dice_coef: 0.0825 - val_iou: 0.0431 - val_recall: 0.5617 - val_precision: 0.0327 - val_auc: 0.2565 - lr: 1.0000e-04\n",
            "Epoch 2/50\n",
            "26/26 [==============================] - ETA: 0s - loss: 0.9702 - dice_coef: 0.2778 - iou: 0.1618 - recall: 0.6973 - precision: 0.4931 - auc: 0.9462\n",
            "Epoch 2: val_loss improved from 1.63404 to 1.62118, saving model to /content/datasets/chase_db_384_384_dice_bce_0_4__0_4_1//trained_models/model.h5\n",
            "26/26 [==============================] - 9s 358ms/step - loss: 0.9702 - dice_coef: 0.2778 - iou: 0.1618 - recall: 0.6973 - precision: 0.4931 - auc: 0.9462 - val_loss: 1.6212 - val_dice_coef: 0.0810 - val_iou: 0.0423 - val_recall: 0.2619 - val_precision: 0.0186 - val_auc: 0.2615 - lr: 1.0000e-04\n",
            "Epoch 3/50\n",
            "26/26 [==============================] - ETA: 0s - loss: 0.8207 - dice_coef: 0.3638 - iou: 0.2231 - recall: 0.7398 - precision: 0.6109 - auc: 0.9630\n",
            "Epoch 3: val_loss did not improve from 1.62118\n",
            "26/26 [==============================] - 9s 326ms/step - loss: 0.8207 - dice_coef: 0.3638 - iou: 0.2231 - recall: 0.7398 - precision: 0.6109 - auc: 0.9630 - val_loss: 2.0911 - val_dice_coef: 0.0856 - val_iou: 0.0448 - val_recall: 0.9512 - val_precision: 0.0448 - val_auc: 0.4954 - lr: 1.0000e-04\n",
            "Epoch 4/50\n",
            "26/26 [==============================] - ETA: 0s - loss: 0.7461 - dice_coef: 0.4115 - iou: 0.2598 - recall: 0.7608 - precision: 0.6486 - auc: 0.9695\n",
            "Epoch 4: val_loss improved from 1.62118 to 1.44278, saving model to /content/datasets/chase_db_384_384_dice_bce_0_4__0_4_1//trained_models/model.h5\n",
            "26/26 [==============================] - 9s 365ms/step - loss: 0.7461 - dice_coef: 0.4115 - iou: 0.2598 - recall: 0.7608 - precision: 0.6486 - auc: 0.9695 - val_loss: 1.4428 - val_dice_coef: 0.0732 - val_iou: 0.0380 - val_recall: 0.0000e+00 - val_precision: 0.0000e+00 - val_auc: 0.2560 - lr: 1.0000e-04\n",
            "Epoch 5/50\n",
            "26/26 [==============================] - ETA: 0s - loss: 0.6941 - dice_coef: 0.4455 - iou: 0.2875 - recall: 0.7766 - precision: 0.6760 - auc: 0.9727\n",
            "Epoch 5: val_loss improved from 1.44278 to 1.34606, saving model to /content/datasets/chase_db_384_384_dice_bce_0_4__0_4_1//trained_models/model.h5\n",
            "26/26 [==============================] - 9s 366ms/step - loss: 0.6941 - dice_coef: 0.4455 - iou: 0.2875 - recall: 0.7766 - precision: 0.6760 - auc: 0.9727 - val_loss: 1.3461 - val_dice_coef: 0.0691 - val_iou: 0.0358 - val_recall: 0.0000e+00 - val_precision: 0.0000e+00 - val_auc: 0.2613 - lr: 1.0000e-04\n",
            "Epoch 6/50\n",
            "26/26 [==============================] - ETA: 0s - loss: 0.6588 - dice_coef: 0.4700 - iou: 0.3082 - recall: 0.7923 - precision: 0.6911 - auc: 0.9753\n",
            "Epoch 6: val_loss improved from 1.34606 to 1.26811, saving model to /content/datasets/chase_db_384_384_dice_bce_0_4__0_4_1//trained_models/model.h5\n",
            "26/26 [==============================] - 10s 366ms/step - loss: 0.6588 - dice_coef: 0.4700 - iou: 0.3082 - recall: 0.7923 - precision: 0.6911 - auc: 0.9753 - val_loss: 1.2681 - val_dice_coef: 0.0655 - val_iou: 0.0339 - val_recall: 0.0000e+00 - val_precision: 0.0000e+00 - val_auc: 0.2724 - lr: 1.0000e-04\n",
            "Epoch 7/50\n",
            "26/26 [==============================] - ETA: 0s - loss: 0.6220 - dice_coef: 0.4964 - iou: 0.3311 - recall: 0.8081 - precision: 0.7122 - auc: 0.9772\n",
            "Epoch 7: val_loss improved from 1.26811 to 1.20653, saving model to /content/datasets/chase_db_384_384_dice_bce_0_4__0_4_1//trained_models/model.h5\n",
            "26/26 [==============================] - 10s 366ms/step - loss: 0.6220 - dice_coef: 0.4964 - iou: 0.3311 - recall: 0.8081 - precision: 0.7122 - auc: 0.9772 - val_loss: 1.2065 - val_dice_coef: 0.0614 - val_iou: 0.0317 - val_recall: 0.0000e+00 - val_precision: 0.0000e+00 - val_auc: 0.2859 - lr: 1.0000e-04\n",
            "Epoch 8/50\n",
            "26/26 [==============================] - ETA: 0s - loss: 0.5987 - dice_coef: 0.5146 - iou: 0.3475 - recall: 0.8129 - precision: 0.7221 - auc: 0.9782\n",
            "Epoch 8: val_loss improved from 1.20653 to 1.17565, saving model to /content/datasets/chase_db_384_384_dice_bce_0_4__0_4_1//trained_models/model.h5\n",
            "26/26 [==============================] - 10s 366ms/step - loss: 0.5987 - dice_coef: 0.5146 - iou: 0.3475 - recall: 0.8129 - precision: 0.7221 - auc: 0.9782 - val_loss: 1.1756 - val_dice_coef: 0.0588 - val_iou: 0.0303 - val_recall: 0.0000e+00 - val_precision: 0.0000e+00 - val_auc: 0.2928 - lr: 1.0000e-04\n",
            "Epoch 9/50\n",
            "26/26 [==============================] - ETA: 0s - loss: 0.5751 - dice_coef: 0.5317 - iou: 0.3632 - recall: 0.8197 - precision: 0.7375 - auc: 0.9791\n",
            "Epoch 9: val_loss improved from 1.17565 to 1.16082, saving model to /content/datasets/chase_db_384_384_dice_bce_0_4__0_4_1//trained_models/model.h5\n",
            "26/26 [==============================] - 10s 367ms/step - loss: 0.5751 - dice_coef: 0.5317 - iou: 0.3632 - recall: 0.8197 - precision: 0.7375 - auc: 0.9791 - val_loss: 1.1608 - val_dice_coef: 0.0560 - val_iou: 0.0288 - val_recall: 0.0000e+00 - val_precision: 0.0000e+00 - val_auc: 0.2898 - lr: 1.0000e-04\n",
            "Epoch 10/50\n",
            "26/26 [==============================] - ETA: 0s - loss: 0.5589 - dice_coef: 0.5449 - iou: 0.3759 - recall: 0.8297 - precision: 0.7394 - auc: 0.9798\n",
            "Epoch 10: val_loss improved from 1.16082 to 1.15204, saving model to /content/datasets/chase_db_384_384_dice_bce_0_4__0_4_1//trained_models/model.h5\n",
            "26/26 [==============================] - 10s 366ms/step - loss: 0.5589 - dice_coef: 0.5449 - iou: 0.3759 - recall: 0.8297 - precision: 0.7394 - auc: 0.9798 - val_loss: 1.1520 - val_dice_coef: 0.0530 - val_iou: 0.0273 - val_recall: 0.0000e+00 - val_precision: 0.0000e+00 - val_auc: 0.2587 - lr: 1.0000e-04\n",
            "Epoch 11/50\n",
            "26/26 [==============================] - ETA: 0s - loss: 0.5499 - dice_coef: 0.5516 - iou: 0.3819 - recall: 0.8220 - precision: 0.7466 - auc: 0.9794\n",
            "Epoch 11: val_loss improved from 1.15204 to 1.14923, saving model to /content/datasets/chase_db_384_384_dice_bce_0_4__0_4_1//trained_models/model.h5\n",
            "26/26 [==============================] - 9s 365ms/step - loss: 0.5499 - dice_coef: 0.5516 - iou: 0.3819 - recall: 0.8220 - precision: 0.7466 - auc: 0.9794 - val_loss: 1.1492 - val_dice_coef: 0.0542 - val_iou: 0.0279 - val_recall: 0.0016 - val_precision: 0.0288 - val_auc: 0.3102 - lr: 1.0000e-04\n",
            "Epoch 12/50\n",
            "26/26 [==============================] - ETA: 0s - loss: 0.5265 - dice_coef: 0.5698 - iou: 0.3995 - recall: 0.8271 - precision: 0.7546 - auc: 0.9796\n",
            "Epoch 12: val_loss improved from 1.14923 to 1.14132, saving model to /content/datasets/chase_db_384_384_dice_bce_0_4__0_4_1//trained_models/model.h5\n",
            "26/26 [==============================] - 9s 366ms/step - loss: 0.5265 - dice_coef: 0.5698 - iou: 0.3995 - recall: 0.8271 - precision: 0.7546 - auc: 0.9796 - val_loss: 1.1413 - val_dice_coef: 0.0565 - val_iou: 0.0291 - val_recall: 0.0087 - val_precision: 0.1171 - val_auc: 0.3388 - lr: 1.0000e-04\n",
            "Epoch 13/50\n",
            "26/26 [==============================] - ETA: 0s - loss: 0.5011 - dice_coef: 0.5888 - iou: 0.4183 - recall: 0.8375 - precision: 0.7708 - auc: 0.9819\n",
            "Epoch 13: val_loss improved from 1.14132 to 1.10450, saving model to /content/datasets/chase_db_384_384_dice_bce_0_4__0_4_1//trained_models/model.h5\n",
            "26/26 [==============================] - 10s 367ms/step - loss: 0.5011 - dice_coef: 0.5888 - iou: 0.4183 - recall: 0.8375 - precision: 0.7708 - auc: 0.9819 - val_loss: 1.1045 - val_dice_coef: 0.0897 - val_iou: 0.0470 - val_recall: 0.0521 - val_precision: 0.2613 - val_auc: 0.4893 - lr: 1.0000e-04\n",
            "Epoch 14/50\n",
            "26/26 [==============================] - ETA: 0s - loss: 0.4865 - dice_coef: 0.6001 - iou: 0.4298 - recall: 0.8391 - precision: 0.7743 - auc: 0.9824\n",
            "Epoch 14: val_loss improved from 1.10450 to 1.07601, saving model to /content/datasets/chase_db_384_384_dice_bce_0_4__0_4_1//trained_models/model.h5\n",
            "26/26 [==============================] - 9s 365ms/step - loss: 0.4865 - dice_coef: 0.6001 - iou: 0.4298 - recall: 0.8391 - precision: 0.7743 - auc: 0.9824 - val_loss: 1.0760 - val_dice_coef: 0.1188 - val_iou: 0.0633 - val_recall: 0.1003 - val_precision: 0.3221 - val_auc: 0.5371 - lr: 1.0000e-04\n",
            "Epoch 15/50\n",
            "26/26 [==============================] - ETA: 0s - loss: 0.4706 - dice_coef: 0.6129 - iou: 0.4430 - recall: 0.8446 - precision: 0.7807 - auc: 0.9831\n",
            "Epoch 15: val_loss improved from 1.07601 to 1.00990, saving model to /content/datasets/chase_db_384_384_dice_bce_0_4__0_4_1//trained_models/model.h5\n",
            "26/26 [==============================] - 10s 366ms/step - loss: 0.4706 - dice_coef: 0.6129 - iou: 0.4430 - recall: 0.8446 - precision: 0.7807 - auc: 0.9831 - val_loss: 1.0099 - val_dice_coef: 0.1702 - val_iou: 0.0933 - val_recall: 0.1690 - val_precision: 0.4363 - val_auc: 0.6329 - lr: 1.0000e-04\n",
            "Epoch 16/50\n",
            "26/26 [==============================] - ETA: 0s - loss: 0.4524 - dice_coef: 0.6273 - iou: 0.4581 - recall: 0.8524 - precision: 0.7892 - auc: 0.9839\n",
            "Epoch 16: val_loss improved from 1.00990 to 0.92969, saving model to /content/datasets/chase_db_384_384_dice_bce_0_4__0_4_1//trained_models/model.h5\n",
            "26/26 [==============================] - 10s 367ms/step - loss: 0.4524 - dice_coef: 0.6273 - iou: 0.4581 - recall: 0.8524 - precision: 0.7892 - auc: 0.9839 - val_loss: 0.9297 - val_dice_coef: 0.2325 - val_iou: 0.1322 - val_recall: 0.2359 - val_precision: 0.5097 - val_auc: 0.8208 - lr: 1.0000e-04\n",
            "Epoch 17/50\n",
            "26/26 [==============================] - ETA: 0s - loss: 0.4366 - dice_coef: 0.6398 - iou: 0.4713 - recall: 0.8550 - precision: 0.8000 - auc: 0.9844\n",
            "Epoch 17: val_loss improved from 0.92969 to 0.88418, saving model to /content/datasets/chase_db_384_384_dice_bce_0_4__0_4_1//trained_models/model.h5\n",
            "26/26 [==============================] - 10s 367ms/step - loss: 0.4366 - dice_coef: 0.6398 - iou: 0.4713 - recall: 0.8550 - precision: 0.8000 - auc: 0.9844 - val_loss: 0.8842 - val_dice_coef: 0.2653 - val_iou: 0.1539 - val_recall: 0.2607 - val_precision: 0.5646 - val_auc: 0.8901 - lr: 1.0000e-04\n",
            "Epoch 18/50\n",
            "26/26 [==============================] - ETA: 0s - loss: 0.4210 - dice_coef: 0.6521 - iou: 0.4849 - recall: 0.8590 - precision: 0.8089 - auc: 0.9850\n",
            "Epoch 18: val_loss improved from 0.88418 to 0.80664, saving model to /content/datasets/chase_db_384_384_dice_bce_0_4__0_4_1//trained_models/model.h5\n",
            "26/26 [==============================] - 10s 367ms/step - loss: 0.4210 - dice_coef: 0.6521 - iou: 0.4849 - recall: 0.8590 - precision: 0.8089 - auc: 0.9850 - val_loss: 0.8066 - val_dice_coef: 0.3286 - val_iou: 0.1974 - val_recall: 0.3510 - val_precision: 0.6151 - val_auc: 0.9092 - lr: 1.0000e-04\n",
            "Epoch 19/50\n",
            "26/26 [==============================] - ETA: 0s - loss: 0.4149 - dice_coef: 0.6575 - iou: 0.4909 - recall: 0.8526 - precision: 0.8101 - auc: 0.9841\n",
            "Epoch 19: val_loss improved from 0.80664 to 0.76264, saving model to /content/datasets/chase_db_384_384_dice_bce_0_4__0_4_1//trained_models/model.h5\n",
            "26/26 [==============================] - 9s 366ms/step - loss: 0.4149 - dice_coef: 0.6575 - iou: 0.4909 - recall: 0.8526 - precision: 0.8101 - auc: 0.9841 - val_loss: 0.7626 - val_dice_coef: 0.3674 - val_iou: 0.2261 - val_recall: 0.4109 - val_precision: 0.6176 - val_auc: 0.9317 - lr: 1.0000e-04\n",
            "Epoch 20/50\n",
            "26/26 [==============================] - ETA: 0s - loss: 0.4001 - dice_coef: 0.6695 - iou: 0.5042 - recall: 0.8595 - precision: 0.8150 - auc: 0.9850\n",
            "Epoch 20: val_loss improved from 0.76264 to 0.63105, saving model to /content/datasets/chase_db_384_384_dice_bce_0_4__0_4_1//trained_models/model.h5\n",
            "26/26 [==============================] - 9s 365ms/step - loss: 0.4001 - dice_coef: 0.6695 - iou: 0.5042 - recall: 0.8595 - precision: 0.8150 - auc: 0.9850 - val_loss: 0.6311 - val_dice_coef: 0.4704 - val_iou: 0.3081 - val_recall: 0.5500 - val_precision: 0.7443 - val_auc: 0.9460 - lr: 1.0000e-04\n",
            "Epoch 21/50\n",
            "26/26 [==============================] - ETA: 0s - loss: 0.3883 - dice_coef: 0.6794 - iou: 0.5154 - recall: 0.8618 - precision: 0.8205 - auc: 0.9853\n",
            "Epoch 21: val_loss improved from 0.63105 to 0.58179, saving model to /content/datasets/chase_db_384_384_dice_bce_0_4__0_4_1//trained_models/model.h5\n",
            "26/26 [==============================] - 9s 365ms/step - loss: 0.3883 - dice_coef: 0.6794 - iou: 0.5154 - recall: 0.8618 - precision: 0.8205 - auc: 0.9853 - val_loss: 0.5818 - val_dice_coef: 0.5109 - val_iou: 0.3437 - val_recall: 0.5867 - val_precision: 0.7780 - val_auc: 0.9598 - lr: 1.0000e-04\n",
            "Epoch 22/50\n",
            "26/26 [==============================] - ETA: 0s - loss: 0.3723 - dice_coef: 0.6918 - iou: 0.5297 - recall: 0.8685 - precision: 0.8301 - auc: 0.9866\n",
            "Epoch 22: val_loss improved from 0.58179 to 0.52592, saving model to /content/datasets/chase_db_384_384_dice_bce_0_4__0_4_1//trained_models/model.h5\n",
            "26/26 [==============================] - 10s 368ms/step - loss: 0.3723 - dice_coef: 0.6918 - iou: 0.5297 - recall: 0.8685 - precision: 0.8301 - auc: 0.9866 - val_loss: 0.5259 - val_dice_coef: 0.5601 - val_iou: 0.3898 - val_recall: 0.6657 - val_precision: 0.7883 - val_auc: 0.9664 - lr: 1.0000e-04\n",
            "Epoch 23/50\n",
            "26/26 [==============================] - ETA: 0s - loss: 0.3617 - dice_coef: 0.7009 - iou: 0.5405 - recall: 0.8667 - precision: 0.8358 - auc: 0.9861\n",
            "Epoch 23: val_loss improved from 0.52592 to 0.50392, saving model to /content/datasets/chase_db_384_384_dice_bce_0_4__0_4_1//trained_models/model.h5\n",
            "26/26 [==============================] - 10s 366ms/step - loss: 0.3617 - dice_coef: 0.7009 - iou: 0.5405 - recall: 0.8667 - precision: 0.8358 - auc: 0.9861 - val_loss: 0.5039 - val_dice_coef: 0.5767 - val_iou: 0.4061 - val_recall: 0.6743 - val_precision: 0.8130 - val_auc: 0.9702 - lr: 1.0000e-04\n",
            "Epoch 24/50\n",
            "26/26 [==============================] - ETA: 0s - loss: 0.3534 - dice_coef: 0.7081 - iou: 0.5489 - recall: 0.8682 - precision: 0.8361 - auc: 0.9863\n",
            "Epoch 24: val_loss did not improve from 0.50392\n",
            "26/26 [==============================] - 9s 327ms/step - loss: 0.3534 - dice_coef: 0.7081 - iou: 0.5489 - recall: 0.8682 - precision: 0.8361 - auc: 0.9863 - val_loss: 0.5122 - val_dice_coef: 0.5687 - val_iou: 0.3987 - val_recall: 0.6351 - val_precision: 0.8229 - val_auc: 0.9616 - lr: 1.0000e-04\n",
            "Epoch 25/50\n",
            "26/26 [==============================] - ETA: 0s - loss: 0.3459 - dice_coef: 0.7149 - iou: 0.5573 - recall: 0.8683 - precision: 0.8385 - auc: 0.9864\n",
            "Epoch 25: val_loss improved from 0.50392 to 0.49645, saving model to /content/datasets/chase_db_384_384_dice_bce_0_4__0_4_1//trained_models/model.h5\n",
            "26/26 [==============================] - 10s 367ms/step - loss: 0.3459 - dice_coef: 0.7149 - iou: 0.5573 - recall: 0.8683 - precision: 0.8385 - auc: 0.9864 - val_loss: 0.4964 - val_dice_coef: 0.5822 - val_iou: 0.4117 - val_recall: 0.6680 - val_precision: 0.8226 - val_auc: 0.9632 - lr: 1.0000e-04\n",
            "Epoch 26/50\n",
            "26/26 [==============================] - ETA: 0s - loss: 0.3405 - dice_coef: 0.7196 - iou: 0.5631 - recall: 0.8659 - precision: 0.8398 - auc: 0.9864\n",
            "Epoch 26: val_loss did not improve from 0.49645\n",
            "26/26 [==============================] - 9s 327ms/step - loss: 0.3405 - dice_coef: 0.7196 - iou: 0.5631 - recall: 0.8659 - precision: 0.8398 - auc: 0.9864 - val_loss: 0.4994 - val_dice_coef: 0.5882 - val_iou: 0.4175 - val_recall: 0.6759 - val_precision: 0.7867 - val_auc: 0.9594 - lr: 1.0000e-04\n",
            "Epoch 27/50\n",
            "26/26 [==============================] - ETA: 0s - loss: 0.3360 - dice_coef: 0.7238 - iou: 0.5679 - recall: 0.8662 - precision: 0.8355 - auc: 0.9873\n",
            "Epoch 27: val_loss improved from 0.49645 to 0.47775, saving model to /content/datasets/chase_db_384_384_dice_bce_0_4__0_4_1//trained_models/model.h5\n",
            "26/26 [==============================] - 10s 369ms/step - loss: 0.3360 - dice_coef: 0.7238 - iou: 0.5679 - recall: 0.8662 - precision: 0.8355 - auc: 0.9873 - val_loss: 0.4778 - val_dice_coef: 0.6040 - val_iou: 0.4340 - val_recall: 0.6724 - val_precision: 0.8062 - val_auc: 0.9656 - lr: 1.0000e-04\n",
            "Epoch 28/50\n",
            "26/26 [==============================] - ETA: 0s - loss: 0.3279 - dice_coef: 0.7307 - iou: 0.5765 - recall: 0.8659 - precision: 0.8413 - auc: 0.9869\n",
            "Epoch 28: val_loss did not improve from 0.47775\n",
            "26/26 [==============================] - 9s 328ms/step - loss: 0.3279 - dice_coef: 0.7307 - iou: 0.5765 - recall: 0.8659 - precision: 0.8413 - auc: 0.9869 - val_loss: 0.5030 - val_dice_coef: 0.5789 - val_iou: 0.4093 - val_recall: 0.6118 - val_precision: 0.8325 - val_auc: 0.9613 - lr: 1.0000e-04\n",
            "Epoch 29/50\n",
            "26/26 [==============================] - ETA: 0s - loss: 0.3210 - dice_coef: 0.7365 - iou: 0.5839 - recall: 0.8663 - precision: 0.8445 - auc: 0.9874\n",
            "Epoch 29: val_loss improved from 0.47775 to 0.45017, saving model to /content/datasets/chase_db_384_384_dice_bce_0_4__0_4_1//trained_models/model.h5\n",
            "26/26 [==============================] - 10s 367ms/step - loss: 0.3210 - dice_coef: 0.7365 - iou: 0.5839 - recall: 0.8663 - precision: 0.8445 - auc: 0.9874 - val_loss: 0.4502 - val_dice_coef: 0.6288 - val_iou: 0.4596 - val_recall: 0.7105 - val_precision: 0.8075 - val_auc: 0.9503 - lr: 1.0000e-04\n",
            "Epoch 30/50\n",
            "26/26 [==============================] - ETA: 0s - loss: 0.3194 - dice_coef: 0.7380 - iou: 0.5858 - recall: 0.8638 - precision: 0.8416 - auc: 0.9860\n",
            "Epoch 30: val_loss did not improve from 0.45017\n",
            "26/26 [==============================] - 9s 328ms/step - loss: 0.3194 - dice_coef: 0.7380 - iou: 0.5858 - recall: 0.8638 - precision: 0.8416 - auc: 0.9860 - val_loss: 0.4797 - val_dice_coef: 0.6061 - val_iou: 0.4355 - val_recall: 0.6446 - val_precision: 0.7935 - val_auc: 0.9497 - lr: 1.0000e-04\n",
            "Epoch 31/50\n",
            "26/26 [==============================] - ETA: 0s - loss: 0.3059 - dice_coef: 0.7482 - iou: 0.5985 - recall: 0.8709 - precision: 0.8474 - auc: 0.9871\n",
            "Epoch 31: val_loss improved from 0.45017 to 0.43386, saving model to /content/datasets/chase_db_384_384_dice_bce_0_4__0_4_1//trained_models/model.h5\n",
            "26/26 [==============================] - 10s 366ms/step - loss: 0.3059 - dice_coef: 0.7482 - iou: 0.5985 - recall: 0.8709 - precision: 0.8474 - auc: 0.9871 - val_loss: 0.4339 - val_dice_coef: 0.6447 - val_iou: 0.4766 - val_recall: 0.7192 - val_precision: 0.7909 - val_auc: 0.9636 - lr: 1.0000e-04\n",
            "Epoch 32/50\n",
            "26/26 [==============================] - ETA: 0s - loss: 0.2864 - dice_coef: 0.7633 - iou: 0.6179 - recall: 0.8803 - precision: 0.8638 - auc: 0.9880\n",
            "Epoch 32: val_loss improved from 0.43386 to 0.41840, saving model to /content/datasets/chase_db_384_384_dice_bce_0_4__0_4_1//trained_models/model.h5\n",
            "26/26 [==============================] - 9s 364ms/step - loss: 0.2864 - dice_coef: 0.7633 - iou: 0.6179 - recall: 0.8803 - precision: 0.8638 - auc: 0.9880 - val_loss: 0.4184 - val_dice_coef: 0.6607 - val_iou: 0.4941 - val_recall: 0.7281 - val_precision: 0.8053 - val_auc: 0.9647 - lr: 1.0000e-04\n",
            "Epoch 33/50\n",
            "26/26 [==============================] - ETA: 0s - loss: 0.2785 - dice_coef: 0.7703 - iou: 0.6271 - recall: 0.8827 - precision: 0.8672 - auc: 0.9891\n",
            "Epoch 33: val_loss did not improve from 0.41840\n",
            "26/26 [==============================] - 9s 328ms/step - loss: 0.2785 - dice_coef: 0.7703 - iou: 0.6271 - recall: 0.8827 - precision: 0.8672 - auc: 0.9891 - val_loss: 0.4263 - val_dice_coef: 0.6544 - val_iou: 0.4872 - val_recall: 0.7110 - val_precision: 0.8030 - val_auc: 0.9687 - lr: 1.0000e-04\n",
            "Epoch 34/50\n",
            "26/26 [==============================] - ETA: 0s - loss: 0.2761 - dice_coef: 0.7728 - iou: 0.6305 - recall: 0.8786 - precision: 0.8678 - auc: 0.9889\n",
            "Epoch 34: val_loss did not improve from 0.41840\n",
            "26/26 [==============================] - 9s 327ms/step - loss: 0.2761 - dice_coef: 0.7728 - iou: 0.6305 - recall: 0.8786 - precision: 0.8678 - auc: 0.9889 - val_loss: 0.4395 - val_dice_coef: 0.6442 - val_iou: 0.4763 - val_recall: 0.6890 - val_precision: 0.8006 - val_auc: 0.9615 - lr: 1.0000e-04\n",
            "Epoch 35/50\n",
            "26/26 [==============================] - ETA: 0s - loss: 0.2696 - dice_coef: 0.7782 - iou: 0.6377 - recall: 0.8807 - precision: 0.8705 - auc: 0.9894\n",
            "Epoch 35: val_loss did not improve from 0.41840\n",
            "26/26 [==============================] - 9s 327ms/step - loss: 0.2696 - dice_coef: 0.7782 - iou: 0.6377 - recall: 0.8807 - precision: 0.8705 - auc: 0.9894 - val_loss: 0.4494 - val_dice_coef: 0.6434 - val_iou: 0.4751 - val_recall: 0.7130 - val_precision: 0.7596 - val_auc: 0.9553 - lr: 1.0000e-04\n",
            "Epoch 36/50\n",
            "26/26 [==============================] - ETA: 0s - loss: 0.2684 - dice_coef: 0.7800 - iou: 0.6400 - recall: 0.8789 - precision: 0.8674 - auc: 0.9893\n",
            "Epoch 36: val_loss did not improve from 0.41840\n",
            "26/26 [==============================] - 9s 327ms/step - loss: 0.2684 - dice_coef: 0.7800 - iou: 0.6400 - recall: 0.8789 - precision: 0.8674 - auc: 0.9893 - val_loss: 0.4249 - val_dice_coef: 0.6653 - val_iou: 0.4992 - val_recall: 0.7466 - val_precision: 0.7626 - val_auc: 0.9535 - lr: 1.0000e-04\n",
            "Epoch 37/50\n",
            "26/26 [==============================] - ETA: 0s - loss: 0.2629 - dice_coef: 0.7842 - iou: 0.6456 - recall: 0.8771 - precision: 0.8726 - auc: 0.9894\n",
            "Epoch 37: val_loss did not improve from 0.41840\n",
            "\n",
            "Epoch 37: ReduceLROnPlateau reducing learning rate to 9.999999747378752e-06.\n",
            "26/26 [==============================] - 9s 328ms/step - loss: 0.2629 - dice_coef: 0.7842 - iou: 0.6456 - recall: 0.8771 - precision: 0.8726 - auc: 0.9894 - val_loss: 0.4265 - val_dice_coef: 0.6591 - val_iou: 0.4930 - val_recall: 0.7037 - val_precision: 0.7953 - val_auc: 0.9568 - lr: 1.0000e-04\n",
            "Epoch 38/50\n",
            "26/26 [==============================] - ETA: 0s - loss: 0.2541 - dice_coef: 0.7904 - iou: 0.6538 - recall: 0.8648 - precision: 0.8940 - auc: 0.9892\n",
            "Epoch 38: val_loss improved from 0.41840 to 0.38833, saving model to /content/datasets/chase_db_384_384_dice_bce_0_4__0_4_1//trained_models/model.h5\n",
            "26/26 [==============================] - 9s 365ms/step - loss: 0.2541 - dice_coef: 0.7904 - iou: 0.6538 - recall: 0.8648 - precision: 0.8940 - auc: 0.9892 - val_loss: 0.3883 - val_dice_coef: 0.6872 - val_iou: 0.5241 - val_recall: 0.7616 - val_precision: 0.7864 - val_auc: 0.9762 - lr: 1.0000e-05\n",
            "Epoch 39/50\n",
            "26/26 [==============================] - ETA: 0s - loss: 0.2317 - dice_coef: 0.8075 - iou: 0.6778 - recall: 0.9067 - precision: 0.8877 - auc: 0.9918\n",
            "Epoch 39: val_loss improved from 0.38833 to 0.38551, saving model to /content/datasets/chase_db_384_384_dice_bce_0_4__0_4_1//trained_models/model.h5\n",
            "26/26 [==============================] - 9s 365ms/step - loss: 0.2317 - dice_coef: 0.8075 - iou: 0.6778 - recall: 0.9067 - precision: 0.8877 - auc: 0.9918 - val_loss: 0.3855 - val_dice_coef: 0.6900 - val_iou: 0.5274 - val_recall: 0.7652 - val_precision: 0.7873 - val_auc: 0.9758 - lr: 1.0000e-05\n",
            "Epoch 40/50\n",
            "26/26 [==============================] - ETA: 0s - loss: 0.2252 - dice_coef: 0.8121 - iou: 0.6843 - recall: 0.9086 - precision: 0.8974 - auc: 0.9920\n",
            "Epoch 40: val_loss improved from 0.38551 to 0.38534, saving model to /content/datasets/chase_db_384_384_dice_bce_0_4__0_4_1//trained_models/model.h5\n",
            "26/26 [==============================] - 9s 364ms/step - loss: 0.2252 - dice_coef: 0.8121 - iou: 0.6843 - recall: 0.9086 - precision: 0.8974 - auc: 0.9920 - val_loss: 0.3853 - val_dice_coef: 0.6881 - val_iou: 0.5253 - val_recall: 0.7539 - val_precision: 0.7968 - val_auc: 0.9752 - lr: 1.0000e-05\n",
            "Epoch 41/50\n",
            "26/26 [==============================] - ETA: 0s - loss: 0.2204 - dice_coef: 0.8157 - iou: 0.6893 - recall: 0.9122 - precision: 0.9022 - auc: 0.9921\n",
            "Epoch 41: val_loss did not improve from 0.38534\n",
            "26/26 [==============================] - 9s 328ms/step - loss: 0.2204 - dice_coef: 0.8157 - iou: 0.6893 - recall: 0.9122 - precision: 0.9022 - auc: 0.9921 - val_loss: 0.3862 - val_dice_coef: 0.6870 - val_iou: 0.5240 - val_recall: 0.7496 - val_precision: 0.7997 - val_auc: 0.9746 - lr: 1.0000e-05\n",
            "Epoch 42/50\n",
            "26/26 [==============================] - ETA: 0s - loss: 0.2164 - dice_coef: 0.8186 - iou: 0.6936 - recall: 0.9152 - precision: 0.9061 - auc: 0.9922\n",
            "Epoch 42: val_loss did not improve from 0.38534\n",
            "26/26 [==============================] - 9s 328ms/step - loss: 0.2164 - dice_coef: 0.8186 - iou: 0.6936 - recall: 0.9152 - precision: 0.9061 - auc: 0.9922 - val_loss: 0.3876 - val_dice_coef: 0.6855 - val_iou: 0.5223 - val_recall: 0.7448 - val_precision: 0.8023 - val_auc: 0.9739 - lr: 1.0000e-05\n",
            "Epoch 43/50\n",
            "26/26 [==============================] - ETA: 0s - loss: 0.2128 - dice_coef: 0.8214 - iou: 0.6975 - recall: 0.9178 - precision: 0.9096 - auc: 0.9923\n",
            "Epoch 43: val_loss did not improve from 0.38534\n",
            "26/26 [==============================] - 9s 327ms/step - loss: 0.2128 - dice_coef: 0.8214 - iou: 0.6975 - recall: 0.9178 - precision: 0.9096 - auc: 0.9923 - val_loss: 0.3888 - val_dice_coef: 0.6844 - val_iou: 0.5211 - val_recall: 0.7410 - val_precision: 0.8041 - val_auc: 0.9730 - lr: 1.0000e-05\n",
            "Epoch 44/50\n",
            "26/26 [==============================] - ETA: 0s - loss: 0.2095 - dice_coef: 0.8239 - iou: 0.7011 - recall: 0.9200 - precision: 0.9128 - auc: 0.9923\n",
            "Epoch 44: val_loss did not improve from 0.38534\n",
            "26/26 [==============================] - 9s 328ms/step - loss: 0.2095 - dice_coef: 0.8239 - iou: 0.7011 - recall: 0.9200 - precision: 0.9128 - auc: 0.9923 - val_loss: 0.3899 - val_dice_coef: 0.6836 - val_iou: 0.5201 - val_recall: 0.7375 - val_precision: 0.8055 - val_auc: 0.9721 - lr: 1.0000e-05\n",
            "Epoch 45/50\n",
            "26/26 [==============================] - ETA: 0s - loss: 0.2064 - dice_coef: 0.8263 - iou: 0.7046 - recall: 0.9222 - precision: 0.9158 - auc: 0.9924\n",
            "Epoch 45: val_loss did not improve from 0.38534\n",
            "\n",
            "Epoch 45: ReduceLROnPlateau reducing learning rate to 1e-06.\n",
            "26/26 [==============================] - 9s 328ms/step - loss: 0.2064 - dice_coef: 0.8263 - iou: 0.7046 - recall: 0.9222 - precision: 0.9158 - auc: 0.9924 - val_loss: 0.3909 - val_dice_coef: 0.6828 - val_iou: 0.5193 - val_recall: 0.7343 - val_precision: 0.8069 - val_auc: 0.9712 - lr: 1.0000e-05\n",
            "Epoch 46/50\n",
            "26/26 [==============================] - ETA: 0s - loss: 0.2032 - dice_coef: 0.8288 - iou: 0.7082 - recall: 0.9270 - precision: 0.9160 - auc: 0.9925\n",
            "Epoch 46: val_loss did not improve from 0.38534\n",
            "26/26 [==============================] - 9s 328ms/step - loss: 0.2032 - dice_coef: 0.8288 - iou: 0.7082 - recall: 0.9270 - precision: 0.9160 - auc: 0.9925 - val_loss: 0.3915 - val_dice_coef: 0.6826 - val_iou: 0.5190 - val_recall: 0.7344 - val_precision: 0.8067 - val_auc: 0.9709 - lr: 1.0000e-06\n",
            "Epoch 47/50\n",
            "26/26 [==============================] - ETA: 0s - loss: 0.2029 - dice_coef: 0.8290 - iou: 0.7085 - recall: 0.9263 - precision: 0.9175 - auc: 0.9925\n",
            "Epoch 47: val_loss did not improve from 0.38534\n",
            "26/26 [==============================] - 9s 328ms/step - loss: 0.2029 - dice_coef: 0.8290 - iou: 0.7085 - recall: 0.9263 - precision: 0.9175 - auc: 0.9925 - val_loss: 0.3922 - val_dice_coef: 0.6822 - val_iou: 0.5186 - val_recall: 0.7337 - val_precision: 0.8066 - val_auc: 0.9705 - lr: 1.0000e-06\n",
            "Epoch 48/50\n",
            "26/26 [==============================] - ETA: 0s - loss: 0.2026 - dice_coef: 0.8292 - iou: 0.7088 - recall: 0.9260 - precision: 0.9185 - auc: 0.9925\n",
            "Epoch 48: val_loss did not improve from 0.38534\n",
            "26/26 [==============================] - 9s 328ms/step - loss: 0.2026 - dice_coef: 0.8292 - iou: 0.7088 - recall: 0.9260 - precision: 0.9185 - auc: 0.9925 - val_loss: 0.3930 - val_dice_coef: 0.6817 - val_iou: 0.5180 - val_recall: 0.7329 - val_precision: 0.8067 - val_auc: 0.9702 - lr: 1.0000e-06\n",
            "Epoch 49/50\n",
            "26/26 [==============================] - ETA: 0s - loss: 0.2023 - dice_coef: 0.8294 - iou: 0.7091 - recall: 0.9259 - precision: 0.9191 - auc: 0.9925\n",
            "Epoch 49: val_loss did not improve from 0.38534\n",
            "26/26 [==============================] - 9s 328ms/step - loss: 0.2023 - dice_coef: 0.8294 - iou: 0.7091 - recall: 0.9259 - precision: 0.9191 - auc: 0.9925 - val_loss: 0.3936 - val_dice_coef: 0.6813 - val_iou: 0.5176 - val_recall: 0.7321 - val_precision: 0.8067 - val_auc: 0.9699 - lr: 1.0000e-06\n",
            "Epoch 50/50\n",
            "26/26 [==============================] - ETA: 0s - loss: 0.2020 - dice_coef: 0.8296 - iou: 0.7094 - recall: 0.9259 - precision: 0.9196 - auc: 0.9925\n",
            "Epoch 50: val_loss did not improve from 0.38534\n",
            "26/26 [==============================] - 9s 327ms/step - loss: 0.2020 - dice_coef: 0.8296 - iou: 0.7094 - recall: 0.9259 - precision: 0.9196 - auc: 0.9925 - val_loss: 0.3941 - val_dice_coef: 0.6810 - val_iou: 0.5172 - val_recall: 0.7314 - val_precision: 0.8067 - val_auc: 0.9697 - lr: 1.0000e-06\n"
          ]
        },
        {
          "data": {
            "text/plain": [
              "<keras.callbacks.History at 0x7f69239e4550>"
            ]
          },
          "execution_count": null,
          "metadata": {},
          "output_type": "execute_result"
        }
      ],
      "source": [
        "\"\"\" Seeding \"\"\"\n",
        "np.random.seed(42)\n",
        "tf.random.set_seed(42)\n",
        "\n",
        "\"\"\" Directory to save files \"\"\"\n",
        "create_dir(model_dir)\n",
        "\n",
        "\"\"\" Hyperparameters \"\"\"\n",
        "batch_size = 8\n",
        "lr = 1e-4\n",
        "num_epochs = 50\n",
        "model_path = os.path.join(f\"{model_dir}\", \"model.h5\")\n",
        "csv_path = os.path.join(f\"{model_dir}\", \"data.csv\")\n",
        "\n",
        "\"\"\" Dataset \"\"\"\n",
        "dataset_path = f\"{data_path}/{split_name}\"\n",
        "train_path = os.path.join(dataset_path, \"train\")\n",
        "valid_path = os.path.join(dataset_path, \"test\")\n",
        "\n",
        "train_x, train_y = load_data(train_path)\n",
        "# train_x, train_y = shuffling(train_x, train_y)\n",
        "valid_x, valid_y = load_data(valid_path)\n",
        "\n",
        "print(f\"Train: {len(train_x)} - {len(train_y)}\")\n",
        "print(f\"Valid: {len(valid_x)} - {len(valid_y)}\")\n",
        "\n",
        "train_dataset = tf_dataset(train_x, train_y, batch_size=batch_size)\n",
        "valid_dataset = tf_dataset(valid_x, valid_y, batch_size=batch_size)\n",
        "\n",
        "train_steps = len(train_x)//batch_size\n",
        "valid_setps = len(valid_x)//batch_size\n",
        "\n",
        "if len(train_x) % batch_size != 0:\n",
        "    train_steps += 1\n",
        "if len(valid_x) % batch_size != 0:\n",
        "    valid_setps += 1\n",
        "\n",
        "\"\"\" Model \"\"\"\n",
        "model = build_unet((H, W, 3))\n",
        "model.compile(loss=loss, optimizer=Adam(lr), metrics=[dice_coef, iou, Recall(), Precision(), AUC()])\n",
        "\n",
        "callbacks = [\n",
        "    ModelCheckpoint(model_path, verbose=1, save_best_only=True),\n",
        "    ReduceLROnPlateau(monitor=\"val_loss\", factor=0.1, patience=5, min_lr=1e-6, verbose=1),\n",
        "    CSVLogger(csv_path),\n",
        "    TensorBoard(),\n",
        "    EarlyStopping(monitor=\"val_loss\", patience=10, restore_best_weights=False)\n",
        "]\n",
        "\n",
        "model.fit(\n",
        "    train_dataset,\n",
        "    epochs=num_epochs,\n",
        "    validation_data=valid_dataset,\n",
        "    steps_per_epoch=train_steps,\n",
        "    validation_steps=valid_setps,\n",
        "    callbacks=callbacks\n",
        ")"
      ]
    },
    {
      "cell_type": "markdown",
      "metadata": {
        "id": "z0HWQPIv6F3u"
      },
      "source": [
        "### Evaluating the Model:"
      ]
    },
    {
      "cell_type": "code",
      "execution_count": null,
      "metadata": {
        "colab": {
          "background_save": true
        },
        "id": "Ptl8ug8uby3R"
      },
      "outputs": [],
      "source": [
        "import os\n",
        "os.environ[\"TF_CPP_MIN_LOG_LEVEL\"] = \"2\"\n",
        "import numpy as np\n",
        "import pandas as pd\n",
        "import cv2\n",
        "from glob import glob\n",
        "from tqdm import tqdm\n",
        "import tensorflow as tf\n",
        "from tensorflow.keras.utils import CustomObjectScope\n",
        "from sklearn.metrics import accuracy_score, f1_score, jaccard_score, precision_score, recall_score\n",
        "from tensorflow.keras.models import load_model"
      ]
    },
    {
      "cell_type": "code",
      "execution_count": null,
      "metadata": {
        "colab": {
          "background_save": true
        },
        "id": "HmFXTEtz6Rhn"
      },
      "outputs": [],
      "source": [
        "\n",
        "def create_dir(path):\n",
        "    if not os.path.exists(path):\n",
        "        os.makedirs(path)\n",
        "\n",
        "def read_image(path):\n",
        "    x = cv2.imread(path, cv2.IMREAD_COLOR)\n",
        "    # x = cv2.resize(x, (W, H))\n",
        "    ori_x = x\n",
        "    x = x/255.0\n",
        "    x = x.astype(np.float32)\n",
        "    return ori_x, x\n",
        "\n",
        "def read_mask(path):\n",
        "    x = cv2.imread(path, cv2.IMREAD_GRAYSCALE)  ## (512, 512)\n",
        "    # x = cv2.resize(x, (W, H))\n",
        "    ori_x = x\n",
        "    x = x/255.0\n",
        "    x = x.astype(np.int32)\n",
        "    return ori_x, x\n",
        "\n",
        "def load_data(path):\n",
        "    x = sorted(glob(os.path.join(path, \"image\", \"*.png\")))\n",
        "    y = sorted(glob(os.path.join(path, \"mask\", \"*.png\")))\n",
        "    return x, y\n",
        "\n",
        "def save_results(ori_x, ori_y, y_pred, save_image_path):\n",
        "    line = np.ones((H, 10, 3)) * 255\n",
        "\n",
        "    ori_y = np.expand_dims(ori_y, axis=-1)\n",
        "    ori_y = np.concatenate([ori_y, ori_y, ori_y], axis=-1)\n",
        "\n",
        "    y_pred = np.expand_dims(y_pred, axis=-1)\n",
        "    y_pred = np.concatenate([y_pred, y_pred, y_pred], axis=-1) * 255\n",
        "\n",
        "    cat_images = np.concatenate([ori_x, line, ori_y, line, y_pred], axis=1)\n",
        "    cv2.imwrite(save_image_path, cat_images)"
      ]
    },
    {
      "cell_type": "code",
      "execution_count": null,
      "metadata": {
        "colab": {
          "background_save": true
        },
        "id": "AVfRbYagZChd"
      },
      "outputs": [],
      "source": [
        "import glob\n",
        "supported_extensions = [\"png\", \"jpg\", \"tif\", \"jpeg\", \"gif\", \"bmp\"]\n",
        "\n",
        "def image_files(path, file_prefix=None):\n",
        "    all_image_files = []\n",
        "    # print(\"path\", path)\n",
        "    # print(\"file_prefix\", file_prefix)\n",
        "    if file_prefix is None:\n",
        "        file_names = list(glob.glob(path + \"/*.*\" ))\n",
        "    else:\n",
        "        prefix___ = path + \"/\" + file_prefix + \".*\"\n",
        "        #print(\"prefix\", prefix___)\n",
        "        file_names = list(glob.glob(prefix___))\n",
        "\n",
        "    # print(\"filenames\", file_names)\n",
        "\n",
        "    for filename in file_names:\n",
        "        ext = filename.rsplit(\".\", 1)[1]\n",
        "        if ext.lower() in supported_extensions:\n",
        "            all_image_files.append(filename)\n",
        "    # print(\"All Image files\", all_image_files)\n",
        "    return sorted(all_image_files)\n"
      ]
    },
    {
      "cell_type": "code",
      "execution_count": null,
      "metadata": {
        "colab": {
          "background_save": true
        },
        "id": "41UgJB8nD_XH"
      },
      "outputs": [],
      "source": [
        "results_path = f\"{root_path}/results/\"\n",
        "prediction_path = f\"{root_path}/predictions/\"\n",
        "prediction_np_path = f\"{root_path}/predictions_np/\"\n",
        "create_dir(prediction_path)\n",
        "create_dir(prediction_np_path)\n",
        "create_dir(results_path)"
      ]
    },
    {
      "cell_type": "code",
      "execution_count": null,
      "metadata": {
        "colab": {
          "background_save": true
        },
        "id": "BJYCeRNgZOHE",
        "outputId": "0bd38dd4-37db-4db3-fdf4-bc9c7b78c653"
      },
      "outputs": [
        {
          "data": {
            "application/vnd.google.colaboratory.intrinsic+json": {
              "type": "string"
            },
            "text/plain": [
              "'/content/datasets/chase_db_384_384_dice_bce_0_4__0_4_1//results/'"
            ]
          },
          "execution_count": null,
          "metadata": {},
          "output_type": "execute_result"
        }
      ],
      "source": [
        "results_path"
      ]
    },
    {
      "cell_type": "code",
      "execution_count": null,
      "metadata": {
        "colab": {
          "background_save": true
        },
        "id": "R9b3W24IZwQO"
      },
      "outputs": [],
      "source": [
        "from glob import glob"
      ]
    },
    {
      "cell_type": "code",
      "execution_count": null,
      "metadata": {
        "colab": {
          "background_save": true
        },
        "id": "bVTFZdxa6TuQ",
        "outputId": "acf0b809-fe34-486d-bef8-21b2162a6cbc"
      },
      "outputs": [
        {
          "name": "stderr",
          "output_type": "stream",
          "text": [
            "  0%|          | 0/45 [00:00<?, ?it/s]/usr/local/lib/python3.7/dist-packages/ipykernel_launcher.py:28: DeprecationWarning: `np.int` is a deprecated alias for the builtin `int`. To silence this warning, use `int` by itself. Doing this will not modify any behavior and is safe. When replacing `np.int`, you may wish to use e.g. `np.int64` or `np.int32` to specify the precision. If you wish to review your current use, check the release note link for additional information.\n",
            "Deprecated in NumPy 1.20; for more details and guidance: https://numpy.org/devdocs/release/1.20.0-notes.html#deprecations\n",
            "  2%|▏         | 1/45 [00:01<00:59,  1.35s/it]/usr/local/lib/python3.7/dist-packages/ipykernel_launcher.py:28: DeprecationWarning: `np.int` is a deprecated alias for the builtin `int`. To silence this warning, use `int` by itself. Doing this will not modify any behavior and is safe. When replacing `np.int`, you may wish to use e.g. `np.int64` or `np.int32` to specify the precision. If you wish to review your current use, check the release note link for additional information.\n",
            "Deprecated in NumPy 1.20; for more details and guidance: https://numpy.org/devdocs/release/1.20.0-notes.html#deprecations\n",
            "  4%|▍         | 2/45 [00:01<00:31,  1.35it/s]/usr/local/lib/python3.7/dist-packages/ipykernel_launcher.py:28: DeprecationWarning: `np.int` is a deprecated alias for the builtin `int`. To silence this warning, use `int` by itself. Doing this will not modify any behavior and is safe. When replacing `np.int`, you may wish to use e.g. `np.int64` or `np.int32` to specify the precision. If you wish to review your current use, check the release note link for additional information.\n",
            "Deprecated in NumPy 1.20; for more details and guidance: https://numpy.org/devdocs/release/1.20.0-notes.html#deprecations\n",
            "  7%|▋         | 3/45 [00:01<00:22,  1.85it/s]/usr/local/lib/python3.7/dist-packages/ipykernel_launcher.py:28: DeprecationWarning: `np.int` is a deprecated alias for the builtin `int`. To silence this warning, use `int` by itself. Doing this will not modify any behavior and is safe. When replacing `np.int`, you may wish to use e.g. `np.int64` or `np.int32` to specify the precision. If you wish to review your current use, check the release note link for additional information.\n",
            "Deprecated in NumPy 1.20; for more details and guidance: https://numpy.org/devdocs/release/1.20.0-notes.html#deprecations\n",
            "  9%|▉         | 4/45 [00:02<00:18,  2.23it/s]/usr/local/lib/python3.7/dist-packages/ipykernel_launcher.py:28: DeprecationWarning: `np.int` is a deprecated alias for the builtin `int`. To silence this warning, use `int` by itself. Doing this will not modify any behavior and is safe. When replacing `np.int`, you may wish to use e.g. `np.int64` or `np.int32` to specify the precision. If you wish to review your current use, check the release note link for additional information.\n",
            "Deprecated in NumPy 1.20; for more details and guidance: https://numpy.org/devdocs/release/1.20.0-notes.html#deprecations\n",
            " 11%|█         | 5/45 [00:02<00:16,  2.49it/s]/usr/local/lib/python3.7/dist-packages/ipykernel_launcher.py:28: DeprecationWarning: `np.int` is a deprecated alias for the builtin `int`. To silence this warning, use `int` by itself. Doing this will not modify any behavior and is safe. When replacing `np.int`, you may wish to use e.g. `np.int64` or `np.int32` to specify the precision. If you wish to review your current use, check the release note link for additional information.\n",
            "Deprecated in NumPy 1.20; for more details and guidance: https://numpy.org/devdocs/release/1.20.0-notes.html#deprecations\n",
            " 13%|█▎        | 6/45 [00:02<00:14,  2.68it/s]/usr/local/lib/python3.7/dist-packages/ipykernel_launcher.py:28: DeprecationWarning: `np.int` is a deprecated alias for the builtin `int`. To silence this warning, use `int` by itself. Doing this will not modify any behavior and is safe. When replacing `np.int`, you may wish to use e.g. `np.int64` or `np.int32` to specify the precision. If you wish to review your current use, check the release note link for additional information.\n",
            "Deprecated in NumPy 1.20; for more details and guidance: https://numpy.org/devdocs/release/1.20.0-notes.html#deprecations\n",
            " 16%|█▌        | 7/45 [00:03<00:13,  2.82it/s]/usr/local/lib/python3.7/dist-packages/ipykernel_launcher.py:28: DeprecationWarning: `np.int` is a deprecated alias for the builtin `int`. To silence this warning, use `int` by itself. Doing this will not modify any behavior and is safe. When replacing `np.int`, you may wish to use e.g. `np.int64` or `np.int32` to specify the precision. If you wish to review your current use, check the release note link for additional information.\n",
            "Deprecated in NumPy 1.20; for more details and guidance: https://numpy.org/devdocs/release/1.20.0-notes.html#deprecations\n",
            " 18%|█▊        | 8/45 [00:03<00:12,  2.93it/s]/usr/local/lib/python3.7/dist-packages/ipykernel_launcher.py:28: DeprecationWarning: `np.int` is a deprecated alias for the builtin `int`. To silence this warning, use `int` by itself. Doing this will not modify any behavior and is safe. When replacing `np.int`, you may wish to use e.g. `np.int64` or `np.int32` to specify the precision. If you wish to review your current use, check the release note link for additional information.\n",
            "Deprecated in NumPy 1.20; for more details and guidance: https://numpy.org/devdocs/release/1.20.0-notes.html#deprecations\n",
            " 20%|██        | 9/45 [00:03<00:12,  2.98it/s]/usr/local/lib/python3.7/dist-packages/ipykernel_launcher.py:28: DeprecationWarning: `np.int` is a deprecated alias for the builtin `int`. To silence this warning, use `int` by itself. Doing this will not modify any behavior and is safe. When replacing `np.int`, you may wish to use e.g. `np.int64` or `np.int32` to specify the precision. If you wish to review your current use, check the release note link for additional information.\n",
            "Deprecated in NumPy 1.20; for more details and guidance: https://numpy.org/devdocs/release/1.20.0-notes.html#deprecations\n",
            " 22%|██▏       | 10/45 [00:04<00:11,  3.04it/s]/usr/local/lib/python3.7/dist-packages/ipykernel_launcher.py:28: DeprecationWarning: `np.int` is a deprecated alias for the builtin `int`. To silence this warning, use `int` by itself. Doing this will not modify any behavior and is safe. When replacing `np.int`, you may wish to use e.g. `np.int64` or `np.int32` to specify the precision. If you wish to review your current use, check the release note link for additional information.\n",
            "Deprecated in NumPy 1.20; for more details and guidance: https://numpy.org/devdocs/release/1.20.0-notes.html#deprecations\n",
            " 24%|██▍       | 11/45 [00:04<00:11,  3.08it/s]/usr/local/lib/python3.7/dist-packages/ipykernel_launcher.py:28: DeprecationWarning: `np.int` is a deprecated alias for the builtin `int`. To silence this warning, use `int` by itself. Doing this will not modify any behavior and is safe. When replacing `np.int`, you may wish to use e.g. `np.int64` or `np.int32` to specify the precision. If you wish to review your current use, check the release note link for additional information.\n",
            "Deprecated in NumPy 1.20; for more details and guidance: https://numpy.org/devdocs/release/1.20.0-notes.html#deprecations\n",
            " 27%|██▋       | 12/45 [00:04<00:10,  3.14it/s]/usr/local/lib/python3.7/dist-packages/ipykernel_launcher.py:28: DeprecationWarning: `np.int` is a deprecated alias for the builtin `int`. To silence this warning, use `int` by itself. Doing this will not modify any behavior and is safe. When replacing `np.int`, you may wish to use e.g. `np.int64` or `np.int32` to specify the precision. If you wish to review your current use, check the release note link for additional information.\n",
            "Deprecated in NumPy 1.20; for more details and guidance: https://numpy.org/devdocs/release/1.20.0-notes.html#deprecations\n",
            " 29%|██▉       | 13/45 [00:05<00:10,  3.15it/s]/usr/local/lib/python3.7/dist-packages/ipykernel_launcher.py:28: DeprecationWarning: `np.int` is a deprecated alias for the builtin `int`. To silence this warning, use `int` by itself. Doing this will not modify any behavior and is safe. When replacing `np.int`, you may wish to use e.g. `np.int64` or `np.int32` to specify the precision. If you wish to review your current use, check the release note link for additional information.\n",
            "Deprecated in NumPy 1.20; for more details and guidance: https://numpy.org/devdocs/release/1.20.0-notes.html#deprecations\n",
            " 31%|███       | 14/45 [00:05<00:09,  3.14it/s]/usr/local/lib/python3.7/dist-packages/ipykernel_launcher.py:28: DeprecationWarning: `np.int` is a deprecated alias for the builtin `int`. To silence this warning, use `int` by itself. Doing this will not modify any behavior and is safe. When replacing `np.int`, you may wish to use e.g. `np.int64` or `np.int32` to specify the precision. If you wish to review your current use, check the release note link for additional information.\n",
            "Deprecated in NumPy 1.20; for more details and guidance: https://numpy.org/devdocs/release/1.20.0-notes.html#deprecations\n",
            " 33%|███▎      | 15/45 [00:05<00:09,  3.15it/s]/usr/local/lib/python3.7/dist-packages/ipykernel_launcher.py:28: DeprecationWarning: `np.int` is a deprecated alias for the builtin `int`. To silence this warning, use `int` by itself. Doing this will not modify any behavior and is safe. When replacing `np.int`, you may wish to use e.g. `np.int64` or `np.int32` to specify the precision. If you wish to review your current use, check the release note link for additional information.\n",
            "Deprecated in NumPy 1.20; for more details and guidance: https://numpy.org/devdocs/release/1.20.0-notes.html#deprecations\n",
            " 36%|███▌      | 16/45 [00:06<00:09,  3.18it/s]/usr/local/lib/python3.7/dist-packages/ipykernel_launcher.py:28: DeprecationWarning: `np.int` is a deprecated alias for the builtin `int`. To silence this warning, use `int` by itself. Doing this will not modify any behavior and is safe. When replacing `np.int`, you may wish to use e.g. `np.int64` or `np.int32` to specify the precision. If you wish to review your current use, check the release note link for additional information.\n",
            "Deprecated in NumPy 1.20; for more details and guidance: https://numpy.org/devdocs/release/1.20.0-notes.html#deprecations\n",
            " 38%|███▊      | 17/45 [00:06<00:08,  3.18it/s]/usr/local/lib/python3.7/dist-packages/ipykernel_launcher.py:28: DeprecationWarning: `np.int` is a deprecated alias for the builtin `int`. To silence this warning, use `int` by itself. Doing this will not modify any behavior and is safe. When replacing `np.int`, you may wish to use e.g. `np.int64` or `np.int32` to specify the precision. If you wish to review your current use, check the release note link for additional information.\n",
            "Deprecated in NumPy 1.20; for more details and guidance: https://numpy.org/devdocs/release/1.20.0-notes.html#deprecations\n",
            " 40%|████      | 18/45 [00:06<00:08,  3.21it/s]/usr/local/lib/python3.7/dist-packages/ipykernel_launcher.py:28: DeprecationWarning: `np.int` is a deprecated alias for the builtin `int`. To silence this warning, use `int` by itself. Doing this will not modify any behavior and is safe. When replacing `np.int`, you may wish to use e.g. `np.int64` or `np.int32` to specify the precision. If you wish to review your current use, check the release note link for additional information.\n",
            "Deprecated in NumPy 1.20; for more details and guidance: https://numpy.org/devdocs/release/1.20.0-notes.html#deprecations\n",
            " 42%|████▏     | 19/45 [00:06<00:08,  3.22it/s]/usr/local/lib/python3.7/dist-packages/ipykernel_launcher.py:28: DeprecationWarning: `np.int` is a deprecated alias for the builtin `int`. To silence this warning, use `int` by itself. Doing this will not modify any behavior and is safe. When replacing `np.int`, you may wish to use e.g. `np.int64` or `np.int32` to specify the precision. If you wish to review your current use, check the release note link for additional information.\n",
            "Deprecated in NumPy 1.20; for more details and guidance: https://numpy.org/devdocs/release/1.20.0-notes.html#deprecations\n",
            " 44%|████▍     | 20/45 [00:07<00:07,  3.19it/s]/usr/local/lib/python3.7/dist-packages/ipykernel_launcher.py:28: DeprecationWarning: `np.int` is a deprecated alias for the builtin `int`. To silence this warning, use `int` by itself. Doing this will not modify any behavior and is safe. When replacing `np.int`, you may wish to use e.g. `np.int64` or `np.int32` to specify the precision. If you wish to review your current use, check the release note link for additional information.\n",
            "Deprecated in NumPy 1.20; for more details and guidance: https://numpy.org/devdocs/release/1.20.0-notes.html#deprecations\n",
            " 47%|████▋     | 21/45 [00:07<00:07,  3.16it/s]/usr/local/lib/python3.7/dist-packages/ipykernel_launcher.py:28: DeprecationWarning: `np.int` is a deprecated alias for the builtin `int`. To silence this warning, use `int` by itself. Doing this will not modify any behavior and is safe. When replacing `np.int`, you may wish to use e.g. `np.int64` or `np.int32` to specify the precision. If you wish to review your current use, check the release note link for additional information.\n",
            "Deprecated in NumPy 1.20; for more details and guidance: https://numpy.org/devdocs/release/1.20.0-notes.html#deprecations\n",
            " 49%|████▉     | 22/45 [00:07<00:07,  3.14it/s]/usr/local/lib/python3.7/dist-packages/ipykernel_launcher.py:28: DeprecationWarning: `np.int` is a deprecated alias for the builtin `int`. To silence this warning, use `int` by itself. Doing this will not modify any behavior and is safe. When replacing `np.int`, you may wish to use e.g. `np.int64` or `np.int32` to specify the precision. If you wish to review your current use, check the release note link for additional information.\n",
            "Deprecated in NumPy 1.20; for more details and guidance: https://numpy.org/devdocs/release/1.20.0-notes.html#deprecations\n",
            " 51%|█████     | 23/45 [00:08<00:07,  3.10it/s]/usr/local/lib/python3.7/dist-packages/ipykernel_launcher.py:28: DeprecationWarning: `np.int` is a deprecated alias for the builtin `int`. To silence this warning, use `int` by itself. Doing this will not modify any behavior and is safe. When replacing `np.int`, you may wish to use e.g. `np.int64` or `np.int32` to specify the precision. If you wish to review your current use, check the release note link for additional information.\n",
            "Deprecated in NumPy 1.20; for more details and guidance: https://numpy.org/devdocs/release/1.20.0-notes.html#deprecations\n",
            " 53%|█████▎    | 24/45 [00:08<00:06,  3.09it/s]/usr/local/lib/python3.7/dist-packages/ipykernel_launcher.py:28: DeprecationWarning: `np.int` is a deprecated alias for the builtin `int`. To silence this warning, use `int` by itself. Doing this will not modify any behavior and is safe. When replacing `np.int`, you may wish to use e.g. `np.int64` or `np.int32` to specify the precision. If you wish to review your current use, check the release note link for additional information.\n",
            "Deprecated in NumPy 1.20; for more details and guidance: https://numpy.org/devdocs/release/1.20.0-notes.html#deprecations\n",
            " 56%|█████▌    | 25/45 [00:08<00:06,  3.11it/s]/usr/local/lib/python3.7/dist-packages/ipykernel_launcher.py:28: DeprecationWarning: `np.int` is a deprecated alias for the builtin `int`. To silence this warning, use `int` by itself. Doing this will not modify any behavior and is safe. When replacing `np.int`, you may wish to use e.g. `np.int64` or `np.int32` to specify the precision. If you wish to review your current use, check the release note link for additional information.\n",
            "Deprecated in NumPy 1.20; for more details and guidance: https://numpy.org/devdocs/release/1.20.0-notes.html#deprecations\n",
            " 58%|█████▊    | 26/45 [00:09<00:06,  3.13it/s]/usr/local/lib/python3.7/dist-packages/ipykernel_launcher.py:28: DeprecationWarning: `np.int` is a deprecated alias for the builtin `int`. To silence this warning, use `int` by itself. Doing this will not modify any behavior and is safe. When replacing `np.int`, you may wish to use e.g. `np.int64` or `np.int32` to specify the precision. If you wish to review your current use, check the release note link for additional information.\n",
            "Deprecated in NumPy 1.20; for more details and guidance: https://numpy.org/devdocs/release/1.20.0-notes.html#deprecations\n",
            " 60%|██████    | 27/45 [00:09<00:05,  3.18it/s]/usr/local/lib/python3.7/dist-packages/ipykernel_launcher.py:28: DeprecationWarning: `np.int` is a deprecated alias for the builtin `int`. To silence this warning, use `int` by itself. Doing this will not modify any behavior and is safe. When replacing `np.int`, you may wish to use e.g. `np.int64` or `np.int32` to specify the precision. If you wish to review your current use, check the release note link for additional information.\n",
            "Deprecated in NumPy 1.20; for more details and guidance: https://numpy.org/devdocs/release/1.20.0-notes.html#deprecations\n",
            " 62%|██████▏   | 28/45 [00:09<00:05,  3.21it/s]/usr/local/lib/python3.7/dist-packages/ipykernel_launcher.py:28: DeprecationWarning: `np.int` is a deprecated alias for the builtin `int`. To silence this warning, use `int` by itself. Doing this will not modify any behavior and is safe. When replacing `np.int`, you may wish to use e.g. `np.int64` or `np.int32` to specify the precision. If you wish to review your current use, check the release note link for additional information.\n",
            "Deprecated in NumPy 1.20; for more details and guidance: https://numpy.org/devdocs/release/1.20.0-notes.html#deprecations\n",
            " 64%|██████▍   | 29/45 [00:10<00:04,  3.21it/s]/usr/local/lib/python3.7/dist-packages/ipykernel_launcher.py:28: DeprecationWarning: `np.int` is a deprecated alias for the builtin `int`. To silence this warning, use `int` by itself. Doing this will not modify any behavior and is safe. When replacing `np.int`, you may wish to use e.g. `np.int64` or `np.int32` to specify the precision. If you wish to review your current use, check the release note link for additional information.\n",
            "Deprecated in NumPy 1.20; for more details and guidance: https://numpy.org/devdocs/release/1.20.0-notes.html#deprecations\n",
            " 67%|██████▋   | 30/45 [00:10<00:04,  3.20it/s]/usr/local/lib/python3.7/dist-packages/ipykernel_launcher.py:28: DeprecationWarning: `np.int` is a deprecated alias for the builtin `int`. To silence this warning, use `int` by itself. Doing this will not modify any behavior and is safe. When replacing `np.int`, you may wish to use e.g. `np.int64` or `np.int32` to specify the precision. If you wish to review your current use, check the release note link for additional information.\n",
            "Deprecated in NumPy 1.20; for more details and guidance: https://numpy.org/devdocs/release/1.20.0-notes.html#deprecations\n",
            " 69%|██████▉   | 31/45 [00:10<00:04,  3.19it/s]/usr/local/lib/python3.7/dist-packages/ipykernel_launcher.py:28: DeprecationWarning: `np.int` is a deprecated alias for the builtin `int`. To silence this warning, use `int` by itself. Doing this will not modify any behavior and is safe. When replacing `np.int`, you may wish to use e.g. `np.int64` or `np.int32` to specify the precision. If you wish to review your current use, check the release note link for additional information.\n",
            "Deprecated in NumPy 1.20; for more details and guidance: https://numpy.org/devdocs/release/1.20.0-notes.html#deprecations\n",
            " 71%|███████   | 32/45 [00:11<00:04,  3.17it/s]/usr/local/lib/python3.7/dist-packages/ipykernel_launcher.py:28: DeprecationWarning: `np.int` is a deprecated alias for the builtin `int`. To silence this warning, use `int` by itself. Doing this will not modify any behavior and is safe. When replacing `np.int`, you may wish to use e.g. `np.int64` or `np.int32` to specify the precision. If you wish to review your current use, check the release note link for additional information.\n",
            "Deprecated in NumPy 1.20; for more details and guidance: https://numpy.org/devdocs/release/1.20.0-notes.html#deprecations\n",
            " 73%|███████▎  | 33/45 [00:11<00:03,  3.15it/s]/usr/local/lib/python3.7/dist-packages/ipykernel_launcher.py:28: DeprecationWarning: `np.int` is a deprecated alias for the builtin `int`. To silence this warning, use `int` by itself. Doing this will not modify any behavior and is safe. When replacing `np.int`, you may wish to use e.g. `np.int64` or `np.int32` to specify the precision. If you wish to review your current use, check the release note link for additional information.\n",
            "Deprecated in NumPy 1.20; for more details and guidance: https://numpy.org/devdocs/release/1.20.0-notes.html#deprecations\n",
            " 76%|███████▌  | 34/45 [00:11<00:03,  3.20it/s]/usr/local/lib/python3.7/dist-packages/ipykernel_launcher.py:28: DeprecationWarning: `np.int` is a deprecated alias for the builtin `int`. To silence this warning, use `int` by itself. Doing this will not modify any behavior and is safe. When replacing `np.int`, you may wish to use e.g. `np.int64` or `np.int32` to specify the precision. If you wish to review your current use, check the release note link for additional information.\n",
            "Deprecated in NumPy 1.20; for more details and guidance: https://numpy.org/devdocs/release/1.20.0-notes.html#deprecations\n",
            " 78%|███████▊  | 35/45 [00:12<00:03,  3.19it/s]/usr/local/lib/python3.7/dist-packages/ipykernel_launcher.py:28: DeprecationWarning: `np.int` is a deprecated alias for the builtin `int`. To silence this warning, use `int` by itself. Doing this will not modify any behavior and is safe. When replacing `np.int`, you may wish to use e.g. `np.int64` or `np.int32` to specify the precision. If you wish to review your current use, check the release note link for additional information.\n",
            "Deprecated in NumPy 1.20; for more details and guidance: https://numpy.org/devdocs/release/1.20.0-notes.html#deprecations\n",
            " 80%|████████  | 36/45 [00:12<00:02,  3.21it/s]/usr/local/lib/python3.7/dist-packages/ipykernel_launcher.py:28: DeprecationWarning: `np.int` is a deprecated alias for the builtin `int`. To silence this warning, use `int` by itself. Doing this will not modify any behavior and is safe. When replacing `np.int`, you may wish to use e.g. `np.int64` or `np.int32` to specify the precision. If you wish to review your current use, check the release note link for additional information.\n",
            "Deprecated in NumPy 1.20; for more details and guidance: https://numpy.org/devdocs/release/1.20.0-notes.html#deprecations\n",
            " 82%|████████▏ | 37/45 [00:12<00:02,  3.20it/s]/usr/local/lib/python3.7/dist-packages/ipykernel_launcher.py:28: DeprecationWarning: `np.int` is a deprecated alias for the builtin `int`. To silence this warning, use `int` by itself. Doing this will not modify any behavior and is safe. When replacing `np.int`, you may wish to use e.g. `np.int64` or `np.int32` to specify the precision. If you wish to review your current use, check the release note link for additional information.\n",
            "Deprecated in NumPy 1.20; for more details and guidance: https://numpy.org/devdocs/release/1.20.0-notes.html#deprecations\n",
            " 84%|████████▍ | 38/45 [00:12<00:02,  3.19it/s]/usr/local/lib/python3.7/dist-packages/ipykernel_launcher.py:28: DeprecationWarning: `np.int` is a deprecated alias for the builtin `int`. To silence this warning, use `int` by itself. Doing this will not modify any behavior and is safe. When replacing `np.int`, you may wish to use e.g. `np.int64` or `np.int32` to specify the precision. If you wish to review your current use, check the release note link for additional information.\n",
            "Deprecated in NumPy 1.20; for more details and guidance: https://numpy.org/devdocs/release/1.20.0-notes.html#deprecations\n",
            " 87%|████████▋ | 39/45 [00:13<00:01,  3.18it/s]/usr/local/lib/python3.7/dist-packages/ipykernel_launcher.py:28: DeprecationWarning: `np.int` is a deprecated alias for the builtin `int`. To silence this warning, use `int` by itself. Doing this will not modify any behavior and is safe. When replacing `np.int`, you may wish to use e.g. `np.int64` or `np.int32` to specify the precision. If you wish to review your current use, check the release note link for additional information.\n",
            "Deprecated in NumPy 1.20; for more details and guidance: https://numpy.org/devdocs/release/1.20.0-notes.html#deprecations\n",
            " 89%|████████▉ | 40/45 [00:13<00:01,  3.15it/s]/usr/local/lib/python3.7/dist-packages/ipykernel_launcher.py:28: DeprecationWarning: `np.int` is a deprecated alias for the builtin `int`. To silence this warning, use `int` by itself. Doing this will not modify any behavior and is safe. When replacing `np.int`, you may wish to use e.g. `np.int64` or `np.int32` to specify the precision. If you wish to review your current use, check the release note link for additional information.\n",
            "Deprecated in NumPy 1.20; for more details and guidance: https://numpy.org/devdocs/release/1.20.0-notes.html#deprecations\n",
            " 91%|█████████ | 41/45 [00:13<00:01,  3.14it/s]/usr/local/lib/python3.7/dist-packages/ipykernel_launcher.py:28: DeprecationWarning: `np.int` is a deprecated alias for the builtin `int`. To silence this warning, use `int` by itself. Doing this will not modify any behavior and is safe. When replacing `np.int`, you may wish to use e.g. `np.int64` or `np.int32` to specify the precision. If you wish to review your current use, check the release note link for additional information.\n",
            "Deprecated in NumPy 1.20; for more details and guidance: https://numpy.org/devdocs/release/1.20.0-notes.html#deprecations\n",
            " 93%|█████████▎| 42/45 [00:14<00:00,  3.17it/s]/usr/local/lib/python3.7/dist-packages/ipykernel_launcher.py:28: DeprecationWarning: `np.int` is a deprecated alias for the builtin `int`. To silence this warning, use `int` by itself. Doing this will not modify any behavior and is safe. When replacing `np.int`, you may wish to use e.g. `np.int64` or `np.int32` to specify the precision. If you wish to review your current use, check the release note link for additional information.\n",
            "Deprecated in NumPy 1.20; for more details and guidance: https://numpy.org/devdocs/release/1.20.0-notes.html#deprecations\n",
            " 96%|█████████▌| 43/45 [00:14<00:00,  3.18it/s]/usr/local/lib/python3.7/dist-packages/ipykernel_launcher.py:28: DeprecationWarning: `np.int` is a deprecated alias for the builtin `int`. To silence this warning, use `int` by itself. Doing this will not modify any behavior and is safe. When replacing `np.int`, you may wish to use e.g. `np.int64` or `np.int32` to specify the precision. If you wish to review your current use, check the release note link for additional information.\n",
            "Deprecated in NumPy 1.20; for more details and guidance: https://numpy.org/devdocs/release/1.20.0-notes.html#deprecations\n",
            " 98%|█████████▊| 44/45 [00:14<00:00,  3.19it/s]/usr/local/lib/python3.7/dist-packages/ipykernel_launcher.py:28: DeprecationWarning: `np.int` is a deprecated alias for the builtin `int`. To silence this warning, use `int` by itself. Doing this will not modify any behavior and is safe. When replacing `np.int`, you may wish to use e.g. `np.int64` or `np.int32` to specify the precision. If you wish to review your current use, check the release note link for additional information.\n",
            "Deprecated in NumPy 1.20; for more details and guidance: https://numpy.org/devdocs/release/1.20.0-notes.html#deprecations\n",
            "100%|██████████| 45/45 [00:15<00:00,  2.96it/s]"
          ]
        },
        {
          "name": "stdout",
          "output_type": "stream",
          "text": [
            "Accuracy: 0.98013\n",
            "F1: 0.73107\n",
            "Jaccard: 0.58510\n",
            "Recall: 0.70050\n",
            "Precision: 0.78298\n",
            "AUC: 0.97331\n",
            "Dice Coeff: 0.60606\n"
          ]
        },
        {
          "name": "stderr",
          "output_type": "stream",
          "text": [
            "\n"
          ]
        }
      ],
      "source": [
        "from copy import deepcopy\n",
        "from sklearn.metrics import roc_auc_score\n",
        "# prediction_path = \"predictions\"\n",
        "\n",
        "\"\"\" Save the results in this folder \"\"\"\n",
        "# create_dir(\"results_sunil_test\")\n",
        "# create_dir(prediction_path)\n",
        "\n",
        "\"\"\" Load the model \"\"\"\n",
        "# with CustomObjectScope({'iou': iou, 'dice_coef': dice_coef}):\n",
        "model_path = os.path.join(f\"{model_dir}\", \"model.h5\")\n",
        "\n",
        "model = load_model(model_path, compile=False)\n",
        "\n",
        "\"\"\" Load the dataset \"\"\"\n",
        "dataset_path = os.path.join(f\"{data_path}/{split_name}\", \"test\")\n",
        "test_x, test_y = load_data(dataset_path)\n",
        "\n",
        "\"\"\" Make the prediction and calculate the metrics values \"\"\"\n",
        "SCORE = []\n",
        "for x, y in tqdm(zip(test_x, test_y), total=len(test_x)):\n",
        "    \"\"\" Extracting name \"\"\"\n",
        "    name = x.split(\"/\")[-1].split(\".\")[0]\n",
        "\n",
        "    \"\"\" Read the image and mask \"\"\"\n",
        "    ori_x, x = read_image(x)\n",
        "    ori_y, y = read_mask(y)\n",
        "    y = y.astype(np.int)\n",
        "\n",
        "    \"\"\" Prediction \"\"\"\n",
        "    y_pred = model.predict(np.expand_dims(x, axis=0))[0]\n",
        "    np.save(f\"{prediction_np_path}/{name}.npy\", y_pred)\n",
        "    y_prob = deepcopy(y_pred).flatten()\n",
        "    y_pred = y_pred > 0.5\n",
        "    y_pred = y_pred.astype(np.int32)\n",
        "    y_pred = np.squeeze(y_pred, axis=-1)\n",
        "\n",
        "    \"\"\" Saving the images \"\"\"\n",
        "    save_image_path = f\"{results_path}/{name}.png\"\n",
        "#    print(ori_x.shape, ori_y.shape, y_pred.shape)\n",
        "    save_results(ori_x, ori_y, y_pred, save_image_path)\n",
        "    cv2.imwrite(f\"{prediction_path}/{name}.png\", y_pred * 255)\n",
        "    \n",
        "\n",
        "    \"\"\" Flatten the array \"\"\"\n",
        "    y = y.flatten()\n",
        "    y_pred = y_pred.flatten()\n",
        "\n",
        "    \"\"\" Calculate the metrics \"\"\"\n",
        "    acc_value = accuracy_score(y, y_pred)\n",
        "    f1_value = f1_score(y, y_pred, labels=[0, 1], average=\"binary\")\n",
        "    jac_value = jaccard_score(y, y_pred, labels=[0, 1], average=\"binary\")\n",
        "    recall_value = recall_score(y, y_pred, labels=[0, 1], average=\"binary\")\n",
        "    precision_value = precision_score(y, y_pred, labels=[0, 1], average=\"binary\")\n",
        "    if np.sum(y) == 0 or np.sum(y) == H * W:\n",
        "        auc_value = 1\n",
        "    else:\n",
        "        auc_value = roc_auc_score(y, y_prob)\n",
        "    dice_value = dice_coef(y.astype(np.float64), y_prob)\n",
        "\n",
        "    SCORE.append([name, acc_value, f1_value, jac_value, recall_value, precision_value, auc_value, dice_value])\n",
        "\n",
        "score = [s[1:] for s in SCORE]\n",
        "score = np.mean(score, axis=0)\n",
        "print(f\"Accuracy: {score[0]:0.5f}\")\n",
        "print(f\"F1: {score[1]:0.5f}\")\n",
        "print(f\"Jaccard: {score[2]:0.5f}\")\n",
        "print(f\"Recall: {score[3]:0.5f}\")\n",
        "print(f\"Precision: {score[4]:0.5f}\")\n",
        "print(f\"AUC: {score[5]:0.5f}\")\n",
        "print(f\"Dice Coeff: {score[6]:0.5f}\")\n",
        "\"\"\" Saving \"\"\"\n",
        "df = pd.DataFrame(SCORE, columns=[\"Image\", \"Acc\", \"F1\", \"Jaccard\", \"Recall\", \"Precision\", \"AUC\", \"Dice Coeff\"])\n",
        "df.to_csv(f\"{results_path}/score.csv\")"
      ]
    },
    {
      "cell_type": "markdown",
      "metadata": {
        "id": "PzqpDXW0Kcyu"
      },
      "source": [
        "# Reconstruct original image"
      ]
    },
    {
      "cell_type": "code",
      "execution_count": null,
      "metadata": {
        "colab": {
          "background_save": true
        },
        "id": "NJaxhmgEvs9i",
        "outputId": "67c3f5f2-62c1-4e7f-fe50-4e1696bc1fd7"
      },
      "outputs": [
        {
          "data": {
            "application/vnd.google.colaboratory.intrinsic+json": {
              "type": "string"
            },
            "text/plain": [
              "'/content/datasets/chase_db_384_384_dice_bce_0_4__0_4_1//predictions_np/'"
            ]
          },
          "execution_count": null,
          "metadata": {},
          "output_type": "execute_result"
        }
      ],
      "source": [
        "prediction_np_path"
      ]
    },
    {
      "cell_type": "code",
      "execution_count": null,
      "metadata": {
        "colab": {
          "background_save": true
        },
        "id": "gwjhBM8y1Bf_"
      },
      "outputs": [],
      "source": [
        "from glob import glob"
      ]
    },
    {
      "cell_type": "code",
      "execution_count": null,
      "metadata": {
        "colab": {
          "background_save": true
        },
        "id": "s7p1_eLnI51P",
        "outputId": "1dc1c38a-ac67-496e-db0a-1f7f09e49571"
      },
      "outputs": [
        {
          "name": "stdout",
          "output_type": "stream",
          "text": [
            "file /content/datasets/chase_db_384_384_dice_bce_0_4__0_4_1//predictions_np/_Image_12L_8.npy\n",
            "Image_12L 8\n",
            "file /content/datasets/chase_db_384_384_dice_bce_0_4__0_4_1//predictions_np/_Image_13L_3.npy\n",
            "Image_13L 3\n",
            "file /content/datasets/chase_db_384_384_dice_bce_0_4__0_4_1//predictions_np/_Image_12L_3.npy\n",
            "Image_12L 3\n",
            "file /content/datasets/chase_db_384_384_dice_bce_0_4__0_4_1//predictions_np/_Image_11R_1.npy\n",
            "Image_11R 1\n",
            "file /content/datasets/chase_db_384_384_dice_bce_0_4__0_4_1//predictions_np/_Image_12L_5.npy\n",
            "Image_12L 5\n",
            "file /content/datasets/chase_db_384_384_dice_bce_0_4__0_4_1//predictions_np/_Image_11L_5.npy\n",
            "Image_11L 5\n",
            "file /content/datasets/chase_db_384_384_dice_bce_0_4__0_4_1//predictions_np/_Image_12L_2.npy\n",
            "Image_12L 2\n",
            "file /content/datasets/chase_db_384_384_dice_bce_0_4__0_4_1//predictions_np/_Image_13L_0.npy\n",
            "Image_13L 0\n",
            "file /content/datasets/chase_db_384_384_dice_bce_0_4__0_4_1//predictions_np/_Image_13L_2.npy\n",
            "Image_13L 2\n",
            "file /content/datasets/chase_db_384_384_dice_bce_0_4__0_4_1//predictions_np/_Image_12L_4.npy\n",
            "Image_12L 4\n",
            "file /content/datasets/chase_db_384_384_dice_bce_0_4__0_4_1//predictions_np/_Image_12R_0.npy\n",
            "Image_12R 0\n",
            "file /content/datasets/chase_db_384_384_dice_bce_0_4__0_4_1//predictions_np/_Image_13L_4.npy\n",
            "Image_13L 4\n",
            "file /content/datasets/chase_db_384_384_dice_bce_0_4__0_4_1//predictions_np/_Image_11L_6.npy\n",
            "Image_11L 6\n",
            "file /content/datasets/chase_db_384_384_dice_bce_0_4__0_4_1//predictions_np/_Image_11R_4.npy\n",
            "Image_11R 4\n",
            "file /content/datasets/chase_db_384_384_dice_bce_0_4__0_4_1//predictions_np/_Image_13L_7.npy\n",
            "Image_13L 7\n",
            "file /content/datasets/chase_db_384_384_dice_bce_0_4__0_4_1//predictions_np/_Image_11L_2.npy\n",
            "Image_11L 2\n",
            "file /content/datasets/chase_db_384_384_dice_bce_0_4__0_4_1//predictions_np/_Image_11R_0.npy\n",
            "Image_11R 0\n",
            "file /content/datasets/chase_db_384_384_dice_bce_0_4__0_4_1//predictions_np/_Image_12R_6.npy\n",
            "Image_12R 6\n",
            "file /content/datasets/chase_db_384_384_dice_bce_0_4__0_4_1//predictions_np/_Image_12R_2.npy\n",
            "Image_12R 2\n",
            "file /content/datasets/chase_db_384_384_dice_bce_0_4__0_4_1//predictions_np/_Image_11R_7.npy\n",
            "Image_11R 7\n",
            "file /content/datasets/chase_db_384_384_dice_bce_0_4__0_4_1//predictions_np/_Image_13L_6.npy\n",
            "Image_13L 6\n",
            "file /content/datasets/chase_db_384_384_dice_bce_0_4__0_4_1//predictions_np/_Image_11R_2.npy\n",
            "Image_11R 2\n",
            "file /content/datasets/chase_db_384_384_dice_bce_0_4__0_4_1//predictions_np/_Image_11L_3.npy\n",
            "Image_11L 3\n",
            "file /content/datasets/chase_db_384_384_dice_bce_0_4__0_4_1//predictions_np/_Image_11L_8.npy\n",
            "Image_11L 8\n",
            "file /content/datasets/chase_db_384_384_dice_bce_0_4__0_4_1//predictions_np/_Image_11L_4.npy\n",
            "Image_11L 4\n",
            "file /content/datasets/chase_db_384_384_dice_bce_0_4__0_4_1//predictions_np/_Image_13L_8.npy\n",
            "Image_13L 8\n",
            "file /content/datasets/chase_db_384_384_dice_bce_0_4__0_4_1//predictions_np/_Image_11R_5.npy\n",
            "Image_11R 5\n",
            "file /content/datasets/chase_db_384_384_dice_bce_0_4__0_4_1//predictions_np/_Image_12R_7.npy\n",
            "Image_12R 7\n",
            "file /content/datasets/chase_db_384_384_dice_bce_0_4__0_4_1//predictions_np/_Image_11R_8.npy\n",
            "Image_11R 8\n",
            "file /content/datasets/chase_db_384_384_dice_bce_0_4__0_4_1//predictions_np/_Image_12R_5.npy\n",
            "Image_12R 5\n",
            "file /content/datasets/chase_db_384_384_dice_bce_0_4__0_4_1//predictions_np/_Image_12L_1.npy\n",
            "Image_12L 1\n",
            "file /content/datasets/chase_db_384_384_dice_bce_0_4__0_4_1//predictions_np/_Image_13L_1.npy\n",
            "Image_13L 1\n",
            "file /content/datasets/chase_db_384_384_dice_bce_0_4__0_4_1//predictions_np/_Image_12R_1.npy\n",
            "Image_12R 1\n",
            "file /content/datasets/chase_db_384_384_dice_bce_0_4__0_4_1//predictions_np/_Image_12R_4.npy\n",
            "Image_12R 4\n",
            "file /content/datasets/chase_db_384_384_dice_bce_0_4__0_4_1//predictions_np/_Image_12R_8.npy\n",
            "Image_12R 8\n",
            "file /content/datasets/chase_db_384_384_dice_bce_0_4__0_4_1//predictions_np/_Image_12L_6.npy\n",
            "Image_12L 6\n",
            "file /content/datasets/chase_db_384_384_dice_bce_0_4__0_4_1//predictions_np/_Image_13L_5.npy\n",
            "Image_13L 5\n",
            "file /content/datasets/chase_db_384_384_dice_bce_0_4__0_4_1//predictions_np/_Image_12R_3.npy\n",
            "Image_12R 3\n",
            "file /content/datasets/chase_db_384_384_dice_bce_0_4__0_4_1//predictions_np/_Image_11L_1.npy\n",
            "Image_11L 1\n",
            "file /content/datasets/chase_db_384_384_dice_bce_0_4__0_4_1//predictions_np/_Image_11L_7.npy\n",
            "Image_11L 7\n",
            "file /content/datasets/chase_db_384_384_dice_bce_0_4__0_4_1//predictions_np/_Image_12L_7.npy\n",
            "Image_12L 7\n",
            "file /content/datasets/chase_db_384_384_dice_bce_0_4__0_4_1//predictions_np/_Image_12L_0.npy\n",
            "Image_12L 0\n",
            "file /content/datasets/chase_db_384_384_dice_bce_0_4__0_4_1//predictions_np/_Image_11R_6.npy\n",
            "Image_11R 6\n",
            "file /content/datasets/chase_db_384_384_dice_bce_0_4__0_4_1//predictions_np/_Image_11R_3.npy\n",
            "Image_11R 3\n",
            "file /content/datasets/chase_db_384_384_dice_bce_0_4__0_4_1//predictions_np/_Image_11L_0.npy\n",
            "Image_11L 0\n"
          ]
        }
      ],
      "source": [
        "# Create patches dictionary\n",
        "predicted_patches_dict = dict()\n",
        "for file in glob(f\"{prediction_np_path}/*.npy\"):\n",
        "    print(\"file\", file)\n",
        "    patch = np.load(file)\n",
        "    fname_without_ext = file.rsplit(\"/\", 1)[1].rsplit(\".\", 1)[0]\n",
        "    fname_without_ext = fname_without_ext[1:]\n",
        "    patch_number = int(fname_without_ext.rsplit(\"_\", 1)[1])\n",
        "    image_file = fname_without_ext.rsplit(\"_\", 1)[0]\n",
        "    print(image_file, patch_number )\n",
        "\n",
        "    if image_file in predicted_patches_dict.keys():\n",
        "        predicted_patches_dict[image_file][patch_number] = np.load(file)\n",
        "    else:\n",
        "        patches = [None] * 140\n",
        "        patches[patch_number] = np.load(file)\n",
        "        predicted_patches_dict[image_file] = patches"
      ]
    },
    {
      "cell_type": "code",
      "execution_count": null,
      "metadata": {
        "colab": {
          "background_save": true
        },
        "id": "2kB-A6HbLNsv"
      },
      "outputs": [],
      "source": [
        "reconstructed_predictions_path = f\"{data_path}/{split_name}/reconstructed/{split}/predictions_reconstructed\"\n",
        "create_dir(reconstructed_predictions_path)\n",
        "reconstruct_patches(predicted_patches_dict,\n",
        "                    metadata_test_df,\n",
        "                    reconstructed_predictions_path,\n",
        "                    mfactor=255\n",
        "                    )\n"
      ]
    },
    {
      "cell_type": "code",
      "execution_count": null,
      "metadata": {
        "colab": {
          "background_save": true
        },
        "id": "z_uMeATOLyQP",
        "outputId": "13f4970c-db87-4e3b-ea28-9de77b3246f4"
      },
      "outputs": [
        {
          "name": "stdout",
          "output_type": "stream",
          "text": [
            "/content/datasets\n"
          ]
        }
      ],
      "source": [
        "!pwd"
      ]
    },
    {
      "cell_type": "code",
      "execution_count": null,
      "metadata": {
        "colab": {
          "background_save": true
        },
        "id": "2OzcJGOQg4Dy"
      },
      "outputs": [],
      "source": [
        "def read_mask(path):\n",
        "    print(path)\n",
        "    x = cv2.imread(path, cv2.IMREAD_GRAYSCALE)  ## (512, 512)\n",
        "    # x = cv2.resize(x, (W, H))\n",
        "    ori_x = x\n",
        "    x = x/255.0\n",
        "#    x = x.astype(np.int32)\n",
        "    return ori_x, x"
      ]
    },
    {
      "cell_type": "code",
      "execution_count": null,
      "metadata": {
        "colab": {
          "background_save": true
        },
        "id": "M5ILDoicjTef"
      },
      "outputs": [],
      "source": [
        "def save_results(ori_x, ori_y, y_pred, save_image_path):\n",
        "    line = np.ones((ori_x.shape[0], 10, 3)) * 255\n",
        "\n",
        "    ori_y = np.expand_dims(ori_y, axis=-1)\n",
        "    ori_y = np.concatenate([ori_y, ori_y, ori_y], axis=-1)\n",
        "\n",
        "    y_pred = np.expand_dims(y_pred, axis=-1)\n",
        "    y_pred = np.concatenate([y_pred, y_pred, y_pred], axis=-1) * 255\n",
        "\n",
        "    cat_images = np.concatenate([ori_x, line, ori_y, line, y_pred], axis=1)\n",
        "    print(f\"Saving image of size {cat_images.shape} to {save_image_path}\")\n",
        "    cv2.imwrite(save_image_path, cat_images)"
      ]
    },
    {
      "cell_type": "code",
      "execution_count": null,
      "metadata": {
        "colab": {
          "background_save": true
        },
        "id": "bS5LTt4QXwQi"
      },
      "outputs": [],
      "source": [
        "results_path_reconstructed = f\"{root_path}/results_reconstructed/\"\n",
        "create_dir(results_path_reconstructed)"
      ]
    },
    {
      "cell_type": "code",
      "execution_count": null,
      "metadata": {
        "colab": {
          "background_save": true
        },
        "id": "6sKjdzsaNloF"
      },
      "outputs": [],
      "source": [
        "from glob import glob"
      ]
    },
    {
      "cell_type": "code",
      "execution_count": null,
      "metadata": {
        "colab": {
          "background_save": true
        },
        "id": "_iqapJ3ITb7l",
        "outputId": "e15bbd97-4b57-4931-b82f-f5951500fc37"
      },
      "outputs": [
        {
          "name": "stdout",
          "output_type": "stream",
          "text": [
            "Threshold 0.4\n"
          ]
        },
        {
          "name": "stderr",
          "output_type": "stream",
          "text": [
            "\r  0%|          | 0/45 [00:00<?, ?it/s]"
          ]
        },
        {
          "name": "stdout",
          "output_type": "stream",
          "text": [
            "_Image_11L_0\n",
            "(384, 384, 1) 0.99999964 0.0014715953\n",
            "(384, 384, 3) (384, 384) (384, 384)\n"
          ]
        },
        {
          "name": "stderr",
          "output_type": "stream",
          "text": [
            "\r  2%|▏         | 1/45 [00:00<00:14,  3.11it/s]"
          ]
        },
        {
          "name": "stdout",
          "output_type": "stream",
          "text": [
            "_Image_11L_1\n",
            "(384, 384, 1) 0.99999845 0.0017070018\n",
            "(384, 384, 3) (384, 384) (384, 384)\n"
          ]
        },
        {
          "name": "stderr",
          "output_type": "stream",
          "text": [
            "\r  4%|▍         | 2/45 [00:00<00:13,  3.18it/s]"
          ]
        },
        {
          "name": "stdout",
          "output_type": "stream",
          "text": [
            "_Image_11L_2\n",
            "(384, 384, 1) 0.99960214 0.00333593\n",
            "(384, 384, 3) (384, 384) (384, 384)\n"
          ]
        },
        {
          "name": "stderr",
          "output_type": "stream",
          "text": [
            "\r  7%|▋         | 3/45 [00:00<00:13,  3.17it/s]"
          ]
        },
        {
          "name": "stdout",
          "output_type": "stream",
          "text": [
            "_Image_11L_3\n",
            "(384, 384, 1) 0.99999714 0.0020180484\n",
            "(384, 384, 3) (384, 384) (384, 384)\n"
          ]
        },
        {
          "name": "stderr",
          "output_type": "stream",
          "text": [
            "\r  9%|▉         | 4/45 [00:01<00:13,  3.08it/s]"
          ]
        },
        {
          "name": "stdout",
          "output_type": "stream",
          "text": [
            "_Image_11L_4\n",
            "(384, 384, 1) 1.0 7.8474955e-07\n",
            "(384, 384, 3) (384, 384) (384, 384)\n"
          ]
        },
        {
          "name": "stderr",
          "output_type": "stream",
          "text": [
            "\r 11%|█         | 5/45 [00:01<00:13,  3.07it/s]"
          ]
        },
        {
          "name": "stdout",
          "output_type": "stream",
          "text": [
            "_Image_11L_5\n",
            "(384, 384, 1) 0.99990654 0.002750468\n",
            "(384, 384, 3) (384, 384) (384, 384)\n"
          ]
        },
        {
          "name": "stderr",
          "output_type": "stream",
          "text": [
            "\r 13%|█▎        | 6/45 [00:01<00:12,  3.06it/s]"
          ]
        },
        {
          "name": "stdout",
          "output_type": "stream",
          "text": [
            "_Image_11L_6\n",
            "(384, 384, 1) 0.9999982 0.0026593462\n",
            "(384, 384, 3) (384, 384) (384, 384)\n"
          ]
        },
        {
          "name": "stderr",
          "output_type": "stream",
          "text": [
            "\r 16%|█▌        | 7/45 [00:02<00:12,  3.07it/s]"
          ]
        },
        {
          "name": "stdout",
          "output_type": "stream",
          "text": [
            "_Image_11L_7\n",
            "(384, 384, 1) 1.0 0.0028836355\n",
            "(384, 384, 3) (384, 384) (384, 384)\n"
          ]
        },
        {
          "name": "stderr",
          "output_type": "stream",
          "text": [
            "\r 18%|█▊        | 8/45 [00:02<00:12,  3.07it/s]"
          ]
        },
        {
          "name": "stdout",
          "output_type": "stream",
          "text": [
            "_Image_11L_8\n",
            "(384, 384, 1) 0.9999995 0.0032433558\n",
            "(384, 384, 3) (384, 384) (384, 384)\n"
          ]
        },
        {
          "name": "stderr",
          "output_type": "stream",
          "text": [
            "\r 20%|██        | 9/45 [00:02<00:11,  3.07it/s]"
          ]
        },
        {
          "name": "stdout",
          "output_type": "stream",
          "text": [
            "_Image_11R_0\n",
            "(384, 384, 1) 0.9999113 0.001535997\n",
            "(384, 384, 3) (384, 384) (384, 384)\n"
          ]
        },
        {
          "name": "stderr",
          "output_type": "stream",
          "text": [
            "\r 22%|██▏       | 10/45 [00:03<00:11,  3.11it/s]"
          ]
        },
        {
          "name": "stdout",
          "output_type": "stream",
          "text": [
            "_Image_11R_1\n",
            "(384, 384, 1) 0.99999046 0.0011546485\n",
            "(384, 384, 3) (384, 384) (384, 384)\n"
          ]
        },
        {
          "name": "stderr",
          "output_type": "stream",
          "text": [
            "\r 24%|██▍       | 11/45 [00:03<00:10,  3.11it/s]"
          ]
        },
        {
          "name": "stdout",
          "output_type": "stream",
          "text": [
            "_Image_11R_2\n",
            "(384, 384, 1) 0.99993277 0.0027233306\n",
            "(384, 384, 3) (384, 384) (384, 384)\n"
          ]
        },
        {
          "name": "stderr",
          "output_type": "stream",
          "text": [
            "\r 27%|██▋       | 12/45 [00:03<00:10,  3.13it/s]"
          ]
        },
        {
          "name": "stdout",
          "output_type": "stream",
          "text": [
            "_Image_11R_3\n",
            "(384, 384, 1) 0.9996705 0.0021966626\n",
            "(384, 384, 3) (384, 384) (384, 384)\n"
          ]
        },
        {
          "name": "stderr",
          "output_type": "stream",
          "text": [
            "\r 29%|██▉       | 13/45 [00:04<00:10,  3.09it/s]"
          ]
        },
        {
          "name": "stdout",
          "output_type": "stream",
          "text": [
            "_Image_11R_4\n",
            "(384, 384, 1) 1.0 9.387242e-07\n",
            "(384, 384, 3) (384, 384) (384, 384)\n"
          ]
        },
        {
          "name": "stderr",
          "output_type": "stream",
          "text": [
            "\r 31%|███       | 14/45 [00:04<00:11,  2.58it/s]"
          ]
        },
        {
          "name": "stdout",
          "output_type": "stream",
          "text": [
            "_Image_11R_5\n",
            "(384, 384, 1) 0.99999607 0.0032121134\n",
            "(384, 384, 3) (384, 384) (384, 384)\n"
          ]
        },
        {
          "name": "stderr",
          "output_type": "stream",
          "text": [
            "\r 33%|███▎      | 15/45 [00:05<00:11,  2.71it/s]"
          ]
        },
        {
          "name": "stdout",
          "output_type": "stream",
          "text": [
            "_Image_11R_6\n",
            "(384, 384, 1) 0.9991242 0.0040833955\n",
            "(384, 384, 3) (384, 384) (384, 384)\n"
          ]
        },
        {
          "name": "stderr",
          "output_type": "stream",
          "text": [
            "\r 36%|███▌      | 16/45 [00:05<00:10,  2.83it/s]"
          ]
        },
        {
          "name": "stdout",
          "output_type": "stream",
          "text": [
            "_Image_11R_7\n",
            "(384, 384, 1) 0.99999976 0.002893547\n",
            "(384, 384, 3) (384, 384) (384, 384)\n"
          ]
        },
        {
          "name": "stderr",
          "output_type": "stream",
          "text": [
            "\r 38%|███▊      | 17/45 [00:05<00:09,  2.92it/s]"
          ]
        },
        {
          "name": "stdout",
          "output_type": "stream",
          "text": [
            "_Image_11R_8\n",
            "(384, 384, 1) 0.9999993 0.0027042814\n",
            "(384, 384, 3) (384, 384) (384, 384)\n"
          ]
        },
        {
          "name": "stderr",
          "output_type": "stream",
          "text": [
            "\r 40%|████      | 18/45 [00:06<00:08,  3.01it/s]"
          ]
        },
        {
          "name": "stdout",
          "output_type": "stream",
          "text": [
            "_Image_12L_0\n",
            "(384, 384, 1) 0.99996746 0.00324559\n",
            "(384, 384, 3) (384, 384) (384, 384)\n"
          ]
        },
        {
          "name": "stderr",
          "output_type": "stream",
          "text": [
            "\r 42%|████▏     | 19/45 [00:06<00:08,  3.08it/s]"
          ]
        },
        {
          "name": "stdout",
          "output_type": "stream",
          "text": [
            "_Image_12L_1\n",
            "(384, 384, 1) 0.99999917 0.0030890827\n",
            "(384, 384, 3) (384, 384) (384, 384)\n"
          ]
        },
        {
          "name": "stderr",
          "output_type": "stream",
          "text": [
            "\r 44%|████▍     | 20/45 [00:06<00:08,  3.09it/s]"
          ]
        },
        {
          "name": "stdout",
          "output_type": "stream",
          "text": [
            "_Image_12L_2\n",
            "(384, 384, 1) 0.9999958 0.0028134114\n",
            "(384, 384, 3) (384, 384) (384, 384)\n"
          ]
        },
        {
          "name": "stderr",
          "output_type": "stream",
          "text": [
            "\r 47%|████▋     | 21/45 [00:06<00:07,  3.12it/s]"
          ]
        },
        {
          "name": "stdout",
          "output_type": "stream",
          "text": [
            "_Image_12L_3\n",
            "(384, 384, 1) 0.9999975 0.0037716026\n",
            "(384, 384, 3) (384, 384) (384, 384)\n"
          ]
        },
        {
          "name": "stderr",
          "output_type": "stream",
          "text": [
            "\r 49%|████▉     | 22/45 [00:07<00:07,  3.10it/s]"
          ]
        },
        {
          "name": "stdout",
          "output_type": "stream",
          "text": [
            "_Image_12L_4\n",
            "(384, 384, 1) 1.0 3.5459134e-06\n",
            "(384, 384, 3) (384, 384) (384, 384)\n"
          ]
        },
        {
          "name": "stderr",
          "output_type": "stream",
          "text": [
            "\r 51%|█████     | 23/45 [00:07<00:07,  3.07it/s]"
          ]
        },
        {
          "name": "stdout",
          "output_type": "stream",
          "text": [
            "_Image_12L_5\n",
            "(384, 384, 1) 0.99992025 0.002533801\n",
            "(384, 384, 3) (384, 384) (384, 384)\n"
          ]
        },
        {
          "name": "stderr",
          "output_type": "stream",
          "text": [
            "\r 53%|█████▎    | 24/45 [00:07<00:06,  3.07it/s]"
          ]
        },
        {
          "name": "stdout",
          "output_type": "stream",
          "text": [
            "_Image_12L_6\n",
            "(384, 384, 1) 0.999995 0.0036508318\n",
            "(384, 384, 3) (384, 384) (384, 384)\n"
          ]
        },
        {
          "name": "stderr",
          "output_type": "stream",
          "text": [
            "\r 56%|█████▌    | 25/45 [00:08<00:06,  3.12it/s]"
          ]
        },
        {
          "name": "stdout",
          "output_type": "stream",
          "text": [
            "_Image_12L_7\n",
            "(384, 384, 1) 1.0 0.0028932844\n",
            "(384, 384, 3) (384, 384) (384, 384)\n"
          ]
        },
        {
          "name": "stderr",
          "output_type": "stream",
          "text": [
            "\r 58%|█████▊    | 26/45 [00:08<00:06,  3.12it/s]"
          ]
        },
        {
          "name": "stdout",
          "output_type": "stream",
          "text": [
            "_Image_12L_8\n",
            "(384, 384, 1) 0.9999999 0.0023753187\n",
            "(384, 384, 3) (384, 384) (384, 384)\n"
          ]
        },
        {
          "name": "stderr",
          "output_type": "stream",
          "text": [
            "\r 60%|██████    | 27/45 [00:08<00:05,  3.15it/s]"
          ]
        },
        {
          "name": "stdout",
          "output_type": "stream",
          "text": [
            "_Image_12R_0\n",
            "(384, 384, 1) 0.9999995 0.002390481\n",
            "(384, 384, 3) (384, 384) (384, 384)\n"
          ]
        },
        {
          "name": "stderr",
          "output_type": "stream",
          "text": [
            "\r 62%|██████▏   | 28/45 [00:09<00:05,  3.16it/s]"
          ]
        },
        {
          "name": "stdout",
          "output_type": "stream",
          "text": [
            "_Image_12R_1\n",
            "(384, 384, 1) 0.99999976 0.0033721367\n",
            "(384, 384, 3) (384, 384) (384, 384)\n"
          ]
        },
        {
          "name": "stderr",
          "output_type": "stream",
          "text": [
            "\r 64%|██████▍   | 29/45 [00:09<00:05,  3.16it/s]"
          ]
        },
        {
          "name": "stdout",
          "output_type": "stream",
          "text": [
            "_Image_12R_2\n",
            "(384, 384, 1) 0.9999933 0.0020125294\n",
            "(384, 384, 3) (384, 384) (384, 384)\n"
          ]
        },
        {
          "name": "stderr",
          "output_type": "stream",
          "text": [
            "\r 67%|██████▋   | 30/45 [00:09<00:04,  3.18it/s]"
          ]
        },
        {
          "name": "stdout",
          "output_type": "stream",
          "text": [
            "_Image_12R_3\n",
            "(384, 384, 1) 0.9999654 0.0031266646\n",
            "(384, 384, 3) (384, 384) (384, 384)\n"
          ]
        },
        {
          "name": "stderr",
          "output_type": "stream",
          "text": [
            "\r 69%|██████▉   | 31/45 [00:10<00:04,  3.17it/s]"
          ]
        },
        {
          "name": "stdout",
          "output_type": "stream",
          "text": [
            "_Image_12R_4\n",
            "(384, 384, 1) 1.0 3.5887274e-06\n",
            "(384, 384, 3) (384, 384) (384, 384)\n"
          ]
        },
        {
          "name": "stderr",
          "output_type": "stream",
          "text": [
            "\r 71%|███████   | 32/45 [00:10<00:04,  3.14it/s]"
          ]
        },
        {
          "name": "stdout",
          "output_type": "stream",
          "text": [
            "_Image_12R_5\n",
            "(384, 384, 1) 1.0 0.0027924771\n",
            "(384, 384, 3) (384, 384) (384, 384)\n"
          ]
        },
        {
          "name": "stderr",
          "output_type": "stream",
          "text": [
            "\r 73%|███████▎  | 33/45 [00:10<00:03,  3.14it/s]"
          ]
        },
        {
          "name": "stdout",
          "output_type": "stream",
          "text": [
            "_Image_12R_6\n",
            "(384, 384, 1) 0.999982 0.003003292\n",
            "(384, 384, 3) (384, 384) (384, 384)\n"
          ]
        },
        {
          "name": "stderr",
          "output_type": "stream",
          "text": [
            "\r 76%|███████▌  | 34/45 [00:11<00:03,  3.15it/s]"
          ]
        },
        {
          "name": "stdout",
          "output_type": "stream",
          "text": [
            "_Image_12R_7\n",
            "(384, 384, 1) 1.0 0.0032122738\n",
            "(384, 384, 3) (384, 384) (384, 384)\n"
          ]
        },
        {
          "name": "stderr",
          "output_type": "stream",
          "text": [
            "\r 78%|███████▊  | 35/45 [00:11<00:03,  3.16it/s]"
          ]
        },
        {
          "name": "stdout",
          "output_type": "stream",
          "text": [
            "_Image_12R_8\n",
            "(384, 384, 1) 0.9999999 0.003491936\n",
            "(384, 384, 3) (384, 384) (384, 384)\n"
          ]
        },
        {
          "name": "stderr",
          "output_type": "stream",
          "text": [
            "\r 80%|████████  | 36/45 [00:11<00:02,  3.16it/s]"
          ]
        },
        {
          "name": "stdout",
          "output_type": "stream",
          "text": [
            "_Image_13L_0\n",
            "(384, 384, 1) 0.9999994 0.002964906\n",
            "(384, 384, 3) (384, 384) (384, 384)\n"
          ]
        },
        {
          "name": "stderr",
          "output_type": "stream",
          "text": [
            "\r 82%|████████▏ | 37/45 [00:12<00:02,  3.16it/s]"
          ]
        },
        {
          "name": "stdout",
          "output_type": "stream",
          "text": [
            "_Image_13L_1\n",
            "(384, 384, 1) 0.9999999 0.0047487747\n",
            "(384, 384, 3) (384, 384) (384, 384)\n"
          ]
        },
        {
          "name": "stderr",
          "output_type": "stream",
          "text": [
            "\r 84%|████████▍ | 38/45 [00:12<00:02,  3.11it/s]"
          ]
        },
        {
          "name": "stdout",
          "output_type": "stream",
          "text": [
            "_Image_13L_2\n",
            "(384, 384, 1) 0.99998736 0.003596103\n",
            "(384, 384, 3) (384, 384) (384, 384)\n"
          ]
        },
        {
          "name": "stderr",
          "output_type": "stream",
          "text": [
            "\r 87%|████████▋ | 39/45 [00:12<00:01,  3.11it/s]"
          ]
        },
        {
          "name": "stdout",
          "output_type": "stream",
          "text": [
            "_Image_13L_3\n",
            "(384, 384, 1) 0.9999981 0.002528208\n",
            "(384, 384, 3) (384, 384) (384, 384)\n"
          ]
        },
        {
          "name": "stderr",
          "output_type": "stream",
          "text": [
            "\r 89%|████████▉ | 40/45 [00:13<00:01,  3.09it/s]"
          ]
        },
        {
          "name": "stdout",
          "output_type": "stream",
          "text": [
            "_Image_13L_4\n",
            "(384, 384, 1) 1.0 0.00020193683\n",
            "(384, 384, 3) (384, 384) (384, 384)\n"
          ]
        },
        {
          "name": "stderr",
          "output_type": "stream",
          "text": [
            "\r 91%|█████████ | 41/45 [00:13<00:01,  3.11it/s]"
          ]
        },
        {
          "name": "stdout",
          "output_type": "stream",
          "text": [
            "_Image_13L_5\n",
            "(384, 384, 1) 0.9999989 0.0033791487\n",
            "(384, 384, 3) (384, 384) (384, 384)\n"
          ]
        },
        {
          "name": "stderr",
          "output_type": "stream",
          "text": [
            "\r 93%|█████████▎| 42/45 [00:13<00:00,  3.10it/s]"
          ]
        },
        {
          "name": "stdout",
          "output_type": "stream",
          "text": [
            "_Image_13L_6\n",
            "(384, 384, 1) 0.9990916 0.002325967\n",
            "(384, 384, 3) (384, 384) (384, 384)\n"
          ]
        },
        {
          "name": "stderr",
          "output_type": "stream",
          "text": [
            "\r 96%|█████████▌| 43/45 [00:13<00:00,  3.13it/s]"
          ]
        },
        {
          "name": "stdout",
          "output_type": "stream",
          "text": [
            "_Image_13L_7\n",
            "(384, 384, 1) 0.9999989 0.0030000599\n",
            "(384, 384, 3) (384, 384) (384, 384)\n"
          ]
        },
        {
          "name": "stderr",
          "output_type": "stream",
          "text": [
            "\r 98%|█████████▊| 44/45 [00:14<00:00,  3.12it/s]"
          ]
        },
        {
          "name": "stdout",
          "output_type": "stream",
          "text": [
            "_Image_13L_8\n",
            "(384, 384, 1) 0.9999931 0.0046511083\n",
            "(384, 384, 3) (384, 384) (384, 384)\n"
          ]
        },
        {
          "name": "stderr",
          "output_type": "stream",
          "text": [
            "100%|██████████| 45/45 [00:14<00:00,  3.08it/s]"
          ]
        },
        {
          "name": "stdout",
          "output_type": "stream",
          "text": [
            "Threshold: 0.40000\n",
            "Accuracy: 0.98001\n",
            "F1: 0.73554\n",
            "Jaccard: 0.58997\n",
            "Recall: 0.71711\n",
            "Precision: 0.77130\n",
            "AUC: 0.97331\n",
            "Dice Coeff: 0.60606\n"
          ]
        },
        {
          "name": "stderr",
          "output_type": "stream",
          "text": [
            "\n"
          ]
        }
      ],
      "source": [
        "dataset_path = f\"{root_path}/{split_name}/{split}/\"\n",
        "df_0_4, score_0_4 = compute_metrics(dataset_path,\n",
        "                    results_path=results_path,\n",
        "                    threshold=0.4,\n",
        "                    model=model,\n",
        "                    predictions_path=prediction_path,\n",
        "                    prediction_np_path=prediction_np_path)"
      ]
    },
    {
      "cell_type": "code",
      "execution_count": null,
      "metadata": {
        "colab": {
          "background_save": true
        },
        "id": "awC6MfPbujiZ",
        "outputId": "670bebb0-567f-476d-acc9-990128b219a6"
      },
      "outputs": [
        {
          "name": "stdout",
          "output_type": "stream",
          "text": [
            "Threshold 0.5\n"
          ]
        },
        {
          "name": "stderr",
          "output_type": "stream",
          "text": [
            "\r  0%|          | 0/45 [00:00<?, ?it/s]"
          ]
        },
        {
          "name": "stdout",
          "output_type": "stream",
          "text": [
            "_Image_11L_0\n",
            "(384, 384, 1) 0.99999964 0.0014715953\n",
            "(384, 384, 3) (384, 384) (384, 384)\n"
          ]
        },
        {
          "name": "stderr",
          "output_type": "stream",
          "text": [
            "\r  2%|▏         | 1/45 [00:00<00:13,  3.23it/s]"
          ]
        },
        {
          "name": "stdout",
          "output_type": "stream",
          "text": [
            "_Image_11L_1\n",
            "(384, 384, 1) 0.99999845 0.0017070018\n",
            "(384, 384, 3) (384, 384) (384, 384)\n"
          ]
        },
        {
          "name": "stderr",
          "output_type": "stream",
          "text": [
            "\r  4%|▍         | 2/45 [00:00<00:13,  3.22it/s]"
          ]
        },
        {
          "name": "stdout",
          "output_type": "stream",
          "text": [
            "_Image_11L_2\n",
            "(384, 384, 1) 0.99960214 0.00333593\n",
            "(384, 384, 3) (384, 384) (384, 384)\n"
          ]
        },
        {
          "name": "stderr",
          "output_type": "stream",
          "text": [
            "\r  7%|▋         | 3/45 [00:00<00:13,  3.21it/s]"
          ]
        },
        {
          "name": "stdout",
          "output_type": "stream",
          "text": [
            "_Image_11L_3\n",
            "(384, 384, 1) 0.99999714 0.0020180484\n",
            "(384, 384, 3) (384, 384) (384, 384)\n"
          ]
        },
        {
          "name": "stderr",
          "output_type": "stream",
          "text": [
            "\r  9%|▉         | 4/45 [00:01<00:12,  3.22it/s]"
          ]
        },
        {
          "name": "stdout",
          "output_type": "stream",
          "text": [
            "_Image_11L_4\n",
            "(384, 384, 1) 1.0 7.8474955e-07\n",
            "(384, 384, 3) (384, 384) (384, 384)\n"
          ]
        },
        {
          "name": "stderr",
          "output_type": "stream",
          "text": [
            "\r 11%|█         | 5/45 [00:01<00:12,  3.18it/s]"
          ]
        },
        {
          "name": "stdout",
          "output_type": "stream",
          "text": [
            "_Image_11L_5\n",
            "(384, 384, 1) 0.99990654 0.002750468\n",
            "(384, 384, 3) (384, 384) (384, 384)\n"
          ]
        },
        {
          "name": "stderr",
          "output_type": "stream",
          "text": [
            "\r 13%|█▎        | 6/45 [00:01<00:12,  3.19it/s]"
          ]
        },
        {
          "name": "stdout",
          "output_type": "stream",
          "text": [
            "_Image_11L_6\n",
            "(384, 384, 1) 0.9999982 0.0026593462\n",
            "(384, 384, 3) (384, 384) (384, 384)\n"
          ]
        },
        {
          "name": "stderr",
          "output_type": "stream",
          "text": [
            "\r 16%|█▌        | 7/45 [00:02<00:12,  3.14it/s]"
          ]
        },
        {
          "name": "stdout",
          "output_type": "stream",
          "text": [
            "_Image_11L_7\n",
            "(384, 384, 1) 1.0 0.0028836355\n",
            "(384, 384, 3) (384, 384) (384, 384)\n"
          ]
        },
        {
          "name": "stderr",
          "output_type": "stream",
          "text": [
            "\r 18%|█▊        | 8/45 [00:02<00:11,  3.13it/s]"
          ]
        },
        {
          "name": "stdout",
          "output_type": "stream",
          "text": [
            "_Image_11L_8\n",
            "(384, 384, 1) 0.9999995 0.0032433558\n",
            "(384, 384, 3) (384, 384) (384, 384)\n"
          ]
        },
        {
          "name": "stderr",
          "output_type": "stream",
          "text": [
            "\r 20%|██        | 9/45 [00:02<00:11,  3.10it/s]"
          ]
        },
        {
          "name": "stdout",
          "output_type": "stream",
          "text": [
            "_Image_11R_0\n",
            "(384, 384, 1) 0.9999113 0.001535997\n",
            "(384, 384, 3) (384, 384) (384, 384)\n"
          ]
        },
        {
          "name": "stderr",
          "output_type": "stream",
          "text": [
            "\r 22%|██▏       | 10/45 [00:03<00:11,  3.12it/s]"
          ]
        },
        {
          "name": "stdout",
          "output_type": "stream",
          "text": [
            "_Image_11R_1\n",
            "(384, 384, 1) 0.99999046 0.0011546485\n",
            "(384, 384, 3) (384, 384) (384, 384)\n"
          ]
        },
        {
          "name": "stderr",
          "output_type": "stream",
          "text": [
            "\r 24%|██▍       | 11/45 [00:03<00:10,  3.12it/s]"
          ]
        },
        {
          "name": "stdout",
          "output_type": "stream",
          "text": [
            "_Image_11R_2\n",
            "(384, 384, 1) 0.99993277 0.0027233306\n",
            "(384, 384, 3) (384, 384) (384, 384)\n"
          ]
        },
        {
          "name": "stderr",
          "output_type": "stream",
          "text": [
            "\r 27%|██▋       | 12/45 [00:03<00:10,  3.15it/s]"
          ]
        },
        {
          "name": "stdout",
          "output_type": "stream",
          "text": [
            "_Image_11R_3\n",
            "(384, 384, 1) 0.9996705 0.0021966626\n",
            "(384, 384, 3) (384, 384) (384, 384)\n"
          ]
        },
        {
          "name": "stderr",
          "output_type": "stream",
          "text": [
            "\r 29%|██▉       | 13/45 [00:04<00:10,  3.13it/s]"
          ]
        },
        {
          "name": "stdout",
          "output_type": "stream",
          "text": [
            "_Image_11R_4\n",
            "(384, 384, 1) 1.0 9.387242e-07\n",
            "(384, 384, 3) (384, 384) (384, 384)\n"
          ]
        },
        {
          "name": "stderr",
          "output_type": "stream",
          "text": [
            "\r 31%|███       | 14/45 [00:04<00:09,  3.12it/s]"
          ]
        },
        {
          "name": "stdout",
          "output_type": "stream",
          "text": [
            "_Image_11R_5\n",
            "(384, 384, 1) 0.99999607 0.0032121134\n",
            "(384, 384, 3) (384, 384) (384, 384)\n"
          ]
        },
        {
          "name": "stderr",
          "output_type": "stream",
          "text": [
            "\r 33%|███▎      | 15/45 [00:04<00:09,  3.14it/s]"
          ]
        },
        {
          "name": "stdout",
          "output_type": "stream",
          "text": [
            "_Image_11R_6\n",
            "(384, 384, 1) 0.9991242 0.0040833955\n",
            "(384, 384, 3) (384, 384) (384, 384)\n"
          ]
        },
        {
          "name": "stderr",
          "output_type": "stream",
          "text": [
            "\r 36%|███▌      | 16/45 [00:05<00:09,  3.14it/s]"
          ]
        },
        {
          "name": "stdout",
          "output_type": "stream",
          "text": [
            "_Image_11R_7\n",
            "(384, 384, 1) 0.99999976 0.002893547\n",
            "(384, 384, 3) (384, 384) (384, 384)\n"
          ]
        },
        {
          "name": "stderr",
          "output_type": "stream",
          "text": [
            "\r 38%|███▊      | 17/45 [00:05<00:09,  3.10it/s]"
          ]
        },
        {
          "name": "stdout",
          "output_type": "stream",
          "text": [
            "_Image_11R_8\n",
            "(384, 384, 1) 0.9999993 0.0027042814\n",
            "(384, 384, 3) (384, 384) (384, 384)\n"
          ]
        },
        {
          "name": "stderr",
          "output_type": "stream",
          "text": [
            "\r 40%|████      | 18/45 [00:05<00:08,  3.13it/s]"
          ]
        },
        {
          "name": "stdout",
          "output_type": "stream",
          "text": [
            "_Image_12L_0\n",
            "(384, 384, 1) 0.99996746 0.00324559\n",
            "(384, 384, 3) (384, 384) (384, 384)\n"
          ]
        },
        {
          "name": "stderr",
          "output_type": "stream",
          "text": [
            "\r 42%|████▏     | 19/45 [00:06<00:08,  3.15it/s]"
          ]
        },
        {
          "name": "stdout",
          "output_type": "stream",
          "text": [
            "_Image_12L_1\n",
            "(384, 384, 1) 0.99999917 0.0030890827\n",
            "(384, 384, 3) (384, 384) (384, 384)\n"
          ]
        },
        {
          "name": "stderr",
          "output_type": "stream",
          "text": [
            "\r 44%|████▍     | 20/45 [00:06<00:07,  3.15it/s]"
          ]
        },
        {
          "name": "stdout",
          "output_type": "stream",
          "text": [
            "_Image_12L_2\n",
            "(384, 384, 1) 0.9999958 0.0028134114\n",
            "(384, 384, 3) (384, 384) (384, 384)\n"
          ]
        },
        {
          "name": "stderr",
          "output_type": "stream",
          "text": [
            "\r 47%|████▋     | 21/45 [00:06<00:07,  3.17it/s]"
          ]
        },
        {
          "name": "stdout",
          "output_type": "stream",
          "text": [
            "_Image_12L_3\n",
            "(384, 384, 1) 0.9999975 0.0037716026\n",
            "(384, 384, 3) (384, 384) (384, 384)\n"
          ]
        },
        {
          "name": "stderr",
          "output_type": "stream",
          "text": [
            "\r 49%|████▉     | 22/45 [00:06<00:07,  3.16it/s]"
          ]
        },
        {
          "name": "stdout",
          "output_type": "stream",
          "text": [
            "_Image_12L_4\n",
            "(384, 384, 1) 1.0 3.5459134e-06\n",
            "(384, 384, 3) (384, 384) (384, 384)\n"
          ]
        },
        {
          "name": "stderr",
          "output_type": "stream",
          "text": [
            "\r 51%|█████     | 23/45 [00:07<00:07,  3.11it/s]"
          ]
        },
        {
          "name": "stdout",
          "output_type": "stream",
          "text": [
            "_Image_12L_5\n",
            "(384, 384, 1) 0.99992025 0.002533801\n",
            "(384, 384, 3) (384, 384) (384, 384)\n"
          ]
        },
        {
          "name": "stderr",
          "output_type": "stream",
          "text": [
            "\r 53%|█████▎    | 24/45 [00:07<00:06,  3.12it/s]"
          ]
        },
        {
          "name": "stdout",
          "output_type": "stream",
          "text": [
            "_Image_12L_6\n",
            "(384, 384, 1) 0.999995 0.0036508318\n",
            "(384, 384, 3) (384, 384) (384, 384)\n"
          ]
        },
        {
          "name": "stderr",
          "output_type": "stream",
          "text": [
            "\r 56%|█████▌    | 25/45 [00:07<00:06,  3.13it/s]"
          ]
        },
        {
          "name": "stdout",
          "output_type": "stream",
          "text": [
            "_Image_12L_7\n",
            "(384, 384, 1) 1.0 0.0028932844\n",
            "(384, 384, 3) (384, 384) (384, 384)\n"
          ]
        },
        {
          "name": "stderr",
          "output_type": "stream",
          "text": [
            "\r 58%|█████▊    | 26/45 [00:08<00:06,  3.09it/s]"
          ]
        },
        {
          "name": "stdout",
          "output_type": "stream",
          "text": [
            "_Image_12L_8\n",
            "(384, 384, 1) 0.9999999 0.0023753187\n",
            "(384, 384, 3) (384, 384) (384, 384)\n"
          ]
        },
        {
          "name": "stderr",
          "output_type": "stream",
          "text": [
            "\r 60%|██████    | 27/45 [00:08<00:05,  3.12it/s]"
          ]
        },
        {
          "name": "stdout",
          "output_type": "stream",
          "text": [
            "_Image_12R_0\n",
            "(384, 384, 1) 0.9999995 0.002390481\n",
            "(384, 384, 3) (384, 384) (384, 384)\n"
          ]
        },
        {
          "name": "stderr",
          "output_type": "stream",
          "text": [
            "\r 62%|██████▏   | 28/45 [00:08<00:05,  3.12it/s]"
          ]
        },
        {
          "name": "stdout",
          "output_type": "stream",
          "text": [
            "_Image_12R_1\n",
            "(384, 384, 1) 0.99999976 0.0033721367\n",
            "(384, 384, 3) (384, 384) (384, 384)\n"
          ]
        },
        {
          "name": "stderr",
          "output_type": "stream",
          "text": [
            "\r 64%|██████▍   | 29/45 [00:09<00:05,  3.09it/s]"
          ]
        },
        {
          "name": "stdout",
          "output_type": "stream",
          "text": [
            "_Image_12R_2\n",
            "(384, 384, 1) 0.9999933 0.0020125294\n",
            "(384, 384, 3) (384, 384) (384, 384)\n"
          ]
        },
        {
          "name": "stderr",
          "output_type": "stream",
          "text": [
            "\r 67%|██████▋   | 30/45 [00:09<00:04,  3.12it/s]"
          ]
        },
        {
          "name": "stdout",
          "output_type": "stream",
          "text": [
            "_Image_12R_3\n",
            "(384, 384, 1) 0.9999654 0.0031266646\n",
            "(384, 384, 3) (384, 384) (384, 384)\n"
          ]
        },
        {
          "name": "stderr",
          "output_type": "stream",
          "text": [
            "\r 69%|██████▉   | 31/45 [00:09<00:04,  3.11it/s]"
          ]
        },
        {
          "name": "stdout",
          "output_type": "stream",
          "text": [
            "_Image_12R_4\n",
            "(384, 384, 1) 1.0 3.5887274e-06\n",
            "(384, 384, 3) (384, 384) (384, 384)\n"
          ]
        },
        {
          "name": "stderr",
          "output_type": "stream",
          "text": [
            "\r 71%|███████   | 32/45 [00:10<00:04,  3.09it/s]"
          ]
        },
        {
          "name": "stdout",
          "output_type": "stream",
          "text": [
            "_Image_12R_5\n",
            "(384, 384, 1) 1.0 0.0027924771\n",
            "(384, 384, 3) (384, 384) (384, 384)\n"
          ]
        },
        {
          "name": "stderr",
          "output_type": "stream",
          "text": [
            "\r 73%|███████▎  | 33/45 [00:10<00:03,  3.09it/s]"
          ]
        },
        {
          "name": "stdout",
          "output_type": "stream",
          "text": [
            "_Image_12R_6\n",
            "(384, 384, 1) 0.999982 0.003003292\n",
            "(384, 384, 3) (384, 384) (384, 384)\n"
          ]
        },
        {
          "name": "stderr",
          "output_type": "stream",
          "text": [
            "\r 76%|███████▌  | 34/45 [00:10<00:03,  3.08it/s]"
          ]
        },
        {
          "name": "stdout",
          "output_type": "stream",
          "text": [
            "_Image_12R_7\n",
            "(384, 384, 1) 1.0 0.0032122738\n",
            "(384, 384, 3) (384, 384) (384, 384)\n"
          ]
        },
        {
          "name": "stderr",
          "output_type": "stream",
          "text": [
            "\r 78%|███████▊  | 35/45 [00:11<00:03,  3.05it/s]"
          ]
        },
        {
          "name": "stdout",
          "output_type": "stream",
          "text": [
            "_Image_12R_8\n",
            "(384, 384, 1) 0.9999999 0.003491936\n",
            "(384, 384, 3) (384, 384) (384, 384)\n"
          ]
        },
        {
          "name": "stderr",
          "output_type": "stream",
          "text": [
            "\r 80%|████████  | 36/45 [00:11<00:02,  3.07it/s]"
          ]
        },
        {
          "name": "stdout",
          "output_type": "stream",
          "text": [
            "_Image_13L_0\n",
            "(384, 384, 1) 0.9999994 0.002964906\n",
            "(384, 384, 3) (384, 384) (384, 384)\n"
          ]
        },
        {
          "name": "stderr",
          "output_type": "stream",
          "text": [
            "\r 82%|████████▏ | 37/45 [00:11<00:02,  3.13it/s]"
          ]
        },
        {
          "name": "stdout",
          "output_type": "stream",
          "text": [
            "_Image_13L_1\n",
            "(384, 384, 1) 0.9999999 0.0047487747\n",
            "(384, 384, 3) (384, 384) (384, 384)\n"
          ]
        },
        {
          "name": "stderr",
          "output_type": "stream",
          "text": [
            "\r 84%|████████▍ | 38/45 [00:12<00:02,  3.14it/s]"
          ]
        },
        {
          "name": "stdout",
          "output_type": "stream",
          "text": [
            "_Image_13L_2\n",
            "(384, 384, 1) 0.99998736 0.003596103\n",
            "(384, 384, 3) (384, 384) (384, 384)\n"
          ]
        },
        {
          "name": "stderr",
          "output_type": "stream",
          "text": [
            "\r 87%|████████▋ | 39/45 [00:12<00:01,  3.16it/s]"
          ]
        },
        {
          "name": "stdout",
          "output_type": "stream",
          "text": [
            "_Image_13L_3\n",
            "(384, 384, 1) 0.9999981 0.002528208\n",
            "(384, 384, 3) (384, 384) (384, 384)\n"
          ]
        },
        {
          "name": "stderr",
          "output_type": "stream",
          "text": [
            "\r 89%|████████▉ | 40/45 [00:12<00:01,  3.15it/s]"
          ]
        },
        {
          "name": "stdout",
          "output_type": "stream",
          "text": [
            "_Image_13L_4\n",
            "(384, 384, 1) 1.0 0.00020193683\n",
            "(384, 384, 3) (384, 384) (384, 384)\n"
          ]
        },
        {
          "name": "stderr",
          "output_type": "stream",
          "text": [
            "\r 91%|█████████ | 41/45 [00:13<00:01,  3.10it/s]"
          ]
        },
        {
          "name": "stdout",
          "output_type": "stream",
          "text": [
            "_Image_13L_5\n",
            "(384, 384, 1) 0.9999989 0.0033791487\n",
            "(384, 384, 3) (384, 384) (384, 384)\n"
          ]
        },
        {
          "name": "stderr",
          "output_type": "stream",
          "text": [
            "\r 93%|█████████▎| 42/45 [00:13<00:00,  3.06it/s]"
          ]
        },
        {
          "name": "stdout",
          "output_type": "stream",
          "text": [
            "_Image_13L_6\n",
            "(384, 384, 1) 0.9990916 0.002325967\n",
            "(384, 384, 3) (384, 384) (384, 384)\n"
          ]
        },
        {
          "name": "stderr",
          "output_type": "stream",
          "text": [
            "\r 96%|█████████▌| 43/45 [00:13<00:00,  3.07it/s]"
          ]
        },
        {
          "name": "stdout",
          "output_type": "stream",
          "text": [
            "_Image_13L_7\n",
            "(384, 384, 1) 0.9999989 0.0030000599\n",
            "(384, 384, 3) (384, 384) (384, 384)\n"
          ]
        },
        {
          "name": "stderr",
          "output_type": "stream",
          "text": [
            "\r 98%|█████████▊| 44/45 [00:14<00:00,  3.03it/s]"
          ]
        },
        {
          "name": "stdout",
          "output_type": "stream",
          "text": [
            "_Image_13L_8\n",
            "(384, 384, 1) 0.9999931 0.0046511083\n",
            "(384, 384, 3) (384, 384) (384, 384)\n"
          ]
        },
        {
          "name": "stderr",
          "output_type": "stream",
          "text": [
            "100%|██████████| 45/45 [00:14<00:00,  3.12it/s]"
          ]
        },
        {
          "name": "stdout",
          "output_type": "stream",
          "text": [
            "Threshold: 0.50000\n",
            "Accuracy: 0.98013\n",
            "F1: 0.73107\n",
            "Jaccard: 0.58510\n",
            "Recall: 0.70050\n",
            "Precision: 0.78298\n",
            "AUC: 0.97331\n",
            "Dice Coeff: 0.60606\n"
          ]
        },
        {
          "name": "stderr",
          "output_type": "stream",
          "text": [
            "\n"
          ]
        }
      ],
      "source": [
        "dataset_path = f\"{root_path}/{split_name}/{split}/\"\n",
        "df_0_5, score_0_5 = compute_metrics(dataset_path,\n",
        "                    results_path=results_path,\n",
        "                    threshold=0.5,\n",
        "                    model=model,\n",
        "                    predictions_path=prediction_path,\n",
        "                    prediction_np_path=prediction_np_path)"
      ]
    },
    {
      "cell_type": "code",
      "execution_count": null,
      "metadata": {
        "colab": {
          "background_save": true
        },
        "id": "a5lvUqu1uoxt",
        "outputId": "61753f20-3771-4020-9c81-aafcb26df6f3"
      },
      "outputs": [
        {
          "name": "stdout",
          "output_type": "stream",
          "text": [
            "Threshold 0.6\n"
          ]
        },
        {
          "name": "stderr",
          "output_type": "stream",
          "text": [
            "\r  0%|          | 0/45 [00:00<?, ?it/s]"
          ]
        },
        {
          "name": "stdout",
          "output_type": "stream",
          "text": [
            "_Image_11L_0\n",
            "(384, 384, 1) 0.99999964 0.0014715953\n",
            "(384, 384, 3) (384, 384) (384, 384)\n"
          ]
        },
        {
          "name": "stderr",
          "output_type": "stream",
          "text": [
            "\r  2%|▏         | 1/45 [00:00<00:13,  3.17it/s]"
          ]
        },
        {
          "name": "stdout",
          "output_type": "stream",
          "text": [
            "_Image_11L_1\n",
            "(384, 384, 1) 0.99999845 0.0017070018\n",
            "(384, 384, 3) (384, 384) (384, 384)\n"
          ]
        },
        {
          "name": "stderr",
          "output_type": "stream",
          "text": [
            "\r  4%|▍         | 2/45 [00:00<00:13,  3.17it/s]"
          ]
        },
        {
          "name": "stdout",
          "output_type": "stream",
          "text": [
            "_Image_11L_2\n",
            "(384, 384, 1) 0.99960214 0.00333593\n",
            "(384, 384, 3) (384, 384) (384, 384)\n"
          ]
        },
        {
          "name": "stderr",
          "output_type": "stream",
          "text": [
            "\r  7%|▋         | 3/45 [00:00<00:13,  3.18it/s]"
          ]
        },
        {
          "name": "stdout",
          "output_type": "stream",
          "text": [
            "_Image_11L_3\n",
            "(384, 384, 1) 0.99999714 0.0020180484\n",
            "(384, 384, 3) (384, 384) (384, 384)\n"
          ]
        },
        {
          "name": "stderr",
          "output_type": "stream",
          "text": [
            "\r  9%|▉         | 4/45 [00:01<00:13,  3.15it/s]"
          ]
        },
        {
          "name": "stdout",
          "output_type": "stream",
          "text": [
            "_Image_11L_4\n",
            "(384, 384, 1) 1.0 7.8474955e-07\n",
            "(384, 384, 3) (384, 384) (384, 384)\n"
          ]
        },
        {
          "name": "stderr",
          "output_type": "stream",
          "text": [
            "\r 11%|█         | 5/45 [00:01<00:12,  3.12it/s]"
          ]
        },
        {
          "name": "stdout",
          "output_type": "stream",
          "text": [
            "_Image_11L_5\n",
            "(384, 384, 1) 0.99990654 0.002750468\n",
            "(384, 384, 3) (384, 384) (384, 384)\n"
          ]
        },
        {
          "name": "stderr",
          "output_type": "stream",
          "text": [
            "\r 13%|█▎        | 6/45 [00:01<00:12,  3.09it/s]"
          ]
        },
        {
          "name": "stdout",
          "output_type": "stream",
          "text": [
            "_Image_11L_6\n",
            "(384, 384, 1) 0.9999982 0.0026593462\n",
            "(384, 384, 3) (384, 384) (384, 384)\n"
          ]
        },
        {
          "name": "stderr",
          "output_type": "stream",
          "text": [
            "\r 16%|█▌        | 7/45 [00:02<00:12,  3.06it/s]"
          ]
        },
        {
          "name": "stdout",
          "output_type": "stream",
          "text": [
            "_Image_11L_7\n",
            "(384, 384, 1) 1.0 0.0028836355\n",
            "(384, 384, 3) (384, 384) (384, 384)\n"
          ]
        },
        {
          "name": "stderr",
          "output_type": "stream",
          "text": [
            "\r 18%|█▊        | 8/45 [00:02<00:12,  2.92it/s]"
          ]
        },
        {
          "name": "stdout",
          "output_type": "stream",
          "text": [
            "_Image_11L_8\n",
            "(384, 384, 1) 0.9999995 0.0032433558\n",
            "(384, 384, 3) (384, 384) (384, 384)\n"
          ]
        },
        {
          "name": "stderr",
          "output_type": "stream",
          "text": [
            "\r 20%|██        | 9/45 [00:02<00:12,  2.85it/s]"
          ]
        },
        {
          "name": "stdout",
          "output_type": "stream",
          "text": [
            "_Image_11R_0\n",
            "(384, 384, 1) 0.9999113 0.001535997\n",
            "(384, 384, 3) (384, 384) (384, 384)\n"
          ]
        },
        {
          "name": "stderr",
          "output_type": "stream",
          "text": [
            "\r 22%|██▏       | 10/45 [00:03<00:12,  2.90it/s]"
          ]
        },
        {
          "name": "stdout",
          "output_type": "stream",
          "text": [
            "_Image_11R_1\n",
            "(384, 384, 1) 0.99999046 0.0011546485\n",
            "(384, 384, 3) (384, 384) (384, 384)\n"
          ]
        },
        {
          "name": "stderr",
          "output_type": "stream",
          "text": [
            "\r 24%|██▍       | 11/45 [00:03<00:11,  2.90it/s]"
          ]
        },
        {
          "name": "stdout",
          "output_type": "stream",
          "text": [
            "_Image_11R_2\n",
            "(384, 384, 1) 0.99993277 0.0027233306\n",
            "(384, 384, 3) (384, 384) (384, 384)\n"
          ]
        },
        {
          "name": "stderr",
          "output_type": "stream",
          "text": [
            "\r 27%|██▋       | 12/45 [00:04<00:11,  2.94it/s]"
          ]
        },
        {
          "name": "stdout",
          "output_type": "stream",
          "text": [
            "_Image_11R_3\n",
            "(384, 384, 1) 0.9996705 0.0021966626\n",
            "(384, 384, 3) (384, 384) (384, 384)\n"
          ]
        },
        {
          "name": "stderr",
          "output_type": "stream",
          "text": [
            "\r 29%|██▉       | 13/45 [00:04<00:10,  3.00it/s]"
          ]
        },
        {
          "name": "stdout",
          "output_type": "stream",
          "text": [
            "_Image_11R_4\n",
            "(384, 384, 1) 1.0 9.387242e-07\n",
            "(384, 384, 3) (384, 384) (384, 384)\n"
          ]
        },
        {
          "name": "stderr",
          "output_type": "stream",
          "text": [
            "\r 31%|███       | 14/45 [00:04<00:10,  3.03it/s]"
          ]
        },
        {
          "name": "stdout",
          "output_type": "stream",
          "text": [
            "_Image_11R_5\n",
            "(384, 384, 1) 0.99999607 0.0032121134\n",
            "(384, 384, 3) (384, 384) (384, 384)\n"
          ]
        },
        {
          "name": "stderr",
          "output_type": "stream",
          "text": [
            "\r 33%|███▎      | 15/45 [00:04<00:09,  3.06it/s]"
          ]
        },
        {
          "name": "stdout",
          "output_type": "stream",
          "text": [
            "_Image_11R_6\n",
            "(384, 384, 1) 0.9991242 0.0040833955\n",
            "(384, 384, 3) (384, 384) (384, 384)\n"
          ]
        },
        {
          "name": "stderr",
          "output_type": "stream",
          "text": [
            "\r 36%|███▌      | 16/45 [00:05<00:09,  3.08it/s]"
          ]
        },
        {
          "name": "stdout",
          "output_type": "stream",
          "text": [
            "_Image_11R_7\n",
            "(384, 384, 1) 0.99999976 0.002893547\n",
            "(384, 384, 3) (384, 384) (384, 384)\n"
          ]
        },
        {
          "name": "stderr",
          "output_type": "stream",
          "text": [
            "\r 38%|███▊      | 17/45 [00:05<00:09,  3.10it/s]"
          ]
        },
        {
          "name": "stdout",
          "output_type": "stream",
          "text": [
            "_Image_11R_8\n",
            "(384, 384, 1) 0.9999993 0.0027042814\n",
            "(384, 384, 3) (384, 384) (384, 384)\n"
          ]
        },
        {
          "name": "stderr",
          "output_type": "stream",
          "text": [
            "\r 40%|████      | 18/45 [00:05<00:08,  3.08it/s]"
          ]
        },
        {
          "name": "stdout",
          "output_type": "stream",
          "text": [
            "_Image_12L_0\n",
            "(384, 384, 1) 0.99996746 0.00324559\n",
            "(384, 384, 3) (384, 384) (384, 384)\n"
          ]
        },
        {
          "name": "stderr",
          "output_type": "stream",
          "text": [
            "\r 42%|████▏     | 19/45 [00:06<00:08,  3.08it/s]"
          ]
        },
        {
          "name": "stdout",
          "output_type": "stream",
          "text": [
            "_Image_12L_1\n",
            "(384, 384, 1) 0.99999917 0.0030890827\n",
            "(384, 384, 3) (384, 384) (384, 384)\n"
          ]
        },
        {
          "name": "stderr",
          "output_type": "stream",
          "text": [
            "\r 44%|████▍     | 20/45 [00:06<00:08,  3.10it/s]"
          ]
        },
        {
          "name": "stdout",
          "output_type": "stream",
          "text": [
            "_Image_12L_2\n",
            "(384, 384, 1) 0.9999958 0.0028134114\n",
            "(384, 384, 3) (384, 384) (384, 384)\n"
          ]
        },
        {
          "name": "stderr",
          "output_type": "stream",
          "text": [
            "\r 47%|████▋     | 21/45 [00:06<00:07,  3.14it/s]"
          ]
        },
        {
          "name": "stdout",
          "output_type": "stream",
          "text": [
            "_Image_12L_3\n",
            "(384, 384, 1) 0.9999975 0.0037716026\n",
            "(384, 384, 3) (384, 384) (384, 384)\n"
          ]
        },
        {
          "name": "stderr",
          "output_type": "stream",
          "text": [
            "\r 49%|████▉     | 22/45 [00:07<00:07,  3.16it/s]"
          ]
        },
        {
          "name": "stdout",
          "output_type": "stream",
          "text": [
            "_Image_12L_4\n",
            "(384, 384, 1) 1.0 3.5459134e-06\n",
            "(384, 384, 3) (384, 384) (384, 384)\n"
          ]
        },
        {
          "name": "stderr",
          "output_type": "stream",
          "text": [
            "\r 51%|█████     | 23/45 [00:07<00:06,  3.16it/s]"
          ]
        },
        {
          "name": "stdout",
          "output_type": "stream",
          "text": [
            "_Image_12L_5\n",
            "(384, 384, 1) 0.99992025 0.002533801\n",
            "(384, 384, 3) (384, 384) (384, 384)\n"
          ]
        },
        {
          "name": "stderr",
          "output_type": "stream",
          "text": [
            "\r 53%|█████▎    | 24/45 [00:07<00:06,  3.16it/s]"
          ]
        },
        {
          "name": "stdout",
          "output_type": "stream",
          "text": [
            "_Image_12L_6\n",
            "(384, 384, 1) 0.999995 0.0036508318\n",
            "(384, 384, 3) (384, 384) (384, 384)\n"
          ]
        },
        {
          "name": "stderr",
          "output_type": "stream",
          "text": [
            "\r 56%|█████▌    | 25/45 [00:08<00:06,  3.16it/s]"
          ]
        },
        {
          "name": "stdout",
          "output_type": "stream",
          "text": [
            "_Image_12L_7\n",
            "(384, 384, 1) 1.0 0.0028932844\n",
            "(384, 384, 3) (384, 384) (384, 384)\n"
          ]
        },
        {
          "name": "stderr",
          "output_type": "stream",
          "text": [
            "\r 58%|█████▊    | 26/45 [00:08<00:06,  3.14it/s]"
          ]
        },
        {
          "name": "stdout",
          "output_type": "stream",
          "text": [
            "_Image_12L_8\n",
            "(384, 384, 1) 0.9999999 0.0023753187\n",
            "(384, 384, 3) (384, 384) (384, 384)\n"
          ]
        },
        {
          "name": "stderr",
          "output_type": "stream",
          "text": [
            "\r 60%|██████    | 27/45 [00:08<00:05,  3.11it/s]"
          ]
        },
        {
          "name": "stdout",
          "output_type": "stream",
          "text": [
            "_Image_12R_0\n",
            "(384, 384, 1) 0.9999995 0.002390481\n",
            "(384, 384, 3) (384, 384) (384, 384)\n"
          ]
        },
        {
          "name": "stderr",
          "output_type": "stream",
          "text": [
            "\r 62%|██████▏   | 28/45 [00:09<00:05,  3.08it/s]"
          ]
        },
        {
          "name": "stdout",
          "output_type": "stream",
          "text": [
            "_Image_12R_1\n",
            "(384, 384, 1) 0.99999976 0.0033721367\n",
            "(384, 384, 3) (384, 384) (384, 384)\n"
          ]
        },
        {
          "name": "stderr",
          "output_type": "stream",
          "text": [
            "\r 64%|██████▍   | 29/45 [00:09<00:05,  3.08it/s]"
          ]
        },
        {
          "name": "stdout",
          "output_type": "stream",
          "text": [
            "_Image_12R_2\n",
            "(384, 384, 1) 0.9999933 0.0020125294\n",
            "(384, 384, 3) (384, 384) (384, 384)\n"
          ]
        },
        {
          "name": "stderr",
          "output_type": "stream",
          "text": [
            "\r 67%|██████▋   | 30/45 [00:09<00:04,  3.10it/s]"
          ]
        },
        {
          "name": "stdout",
          "output_type": "stream",
          "text": [
            "_Image_12R_3\n",
            "(384, 384, 1) 0.9999654 0.0031266646\n",
            "(384, 384, 3) (384, 384) (384, 384)\n"
          ]
        },
        {
          "name": "stderr",
          "output_type": "stream",
          "text": [
            "\r 69%|██████▉   | 31/45 [00:10<00:04,  3.13it/s]"
          ]
        },
        {
          "name": "stdout",
          "output_type": "stream",
          "text": [
            "_Image_12R_4\n",
            "(384, 384, 1) 1.0 3.5887274e-06\n",
            "(384, 384, 3) (384, 384) (384, 384)\n"
          ]
        },
        {
          "name": "stderr",
          "output_type": "stream",
          "text": [
            "\r 71%|███████   | 32/45 [00:10<00:04,  3.14it/s]"
          ]
        },
        {
          "name": "stdout",
          "output_type": "stream",
          "text": [
            "_Image_12R_5\n",
            "(384, 384, 1) 1.0 0.0027924771\n",
            "(384, 384, 3) (384, 384) (384, 384)\n"
          ]
        },
        {
          "name": "stderr",
          "output_type": "stream",
          "text": [
            "\r 73%|███████▎  | 33/45 [00:10<00:03,  3.17it/s]"
          ]
        },
        {
          "name": "stdout",
          "output_type": "stream",
          "text": [
            "_Image_12R_6\n",
            "(384, 384, 1) 0.999982 0.003003292\n",
            "(384, 384, 3) (384, 384) (384, 384)\n"
          ]
        },
        {
          "name": "stderr",
          "output_type": "stream",
          "text": [
            "\r 76%|███████▌  | 34/45 [00:11<00:03,  3.17it/s]"
          ]
        },
        {
          "name": "stdout",
          "output_type": "stream",
          "text": [
            "_Image_12R_7\n",
            "(384, 384, 1) 1.0 0.0032122738\n",
            "(384, 384, 3) (384, 384) (384, 384)\n"
          ]
        },
        {
          "name": "stderr",
          "output_type": "stream",
          "text": [
            "\r 78%|███████▊  | 35/45 [00:11<00:03,  3.15it/s]"
          ]
        },
        {
          "name": "stdout",
          "output_type": "stream",
          "text": [
            "_Image_12R_8\n",
            "(384, 384, 1) 0.9999999 0.003491936\n",
            "(384, 384, 3) (384, 384) (384, 384)\n"
          ]
        },
        {
          "name": "stderr",
          "output_type": "stream",
          "text": [
            "\r 80%|████████  | 36/45 [00:11<00:02,  3.15it/s]"
          ]
        },
        {
          "name": "stdout",
          "output_type": "stream",
          "text": [
            "_Image_13L_0\n",
            "(384, 384, 1) 0.9999994 0.002964906\n",
            "(384, 384, 3) (384, 384) (384, 384)\n"
          ]
        },
        {
          "name": "stderr",
          "output_type": "stream",
          "text": [
            "\r 82%|████████▏ | 37/45 [00:11<00:02,  3.16it/s]"
          ]
        },
        {
          "name": "stdout",
          "output_type": "stream",
          "text": [
            "_Image_13L_1\n",
            "(384, 384, 1) 0.9999999 0.0047487747\n",
            "(384, 384, 3) (384, 384) (384, 384)\n"
          ]
        },
        {
          "name": "stderr",
          "output_type": "stream",
          "text": [
            "\r 84%|████████▍ | 38/45 [00:12<00:02,  3.11it/s]"
          ]
        },
        {
          "name": "stdout",
          "output_type": "stream",
          "text": [
            "_Image_13L_2\n",
            "(384, 384, 1) 0.99998736 0.003596103\n",
            "(384, 384, 3) (384, 384) (384, 384)\n"
          ]
        },
        {
          "name": "stderr",
          "output_type": "stream",
          "text": [
            "\r 87%|████████▋ | 39/45 [00:12<00:01,  3.06it/s]"
          ]
        },
        {
          "name": "stdout",
          "output_type": "stream",
          "text": [
            "_Image_13L_3\n",
            "(384, 384, 1) 0.9999981 0.002528208\n",
            "(384, 384, 3) (384, 384) (384, 384)\n"
          ]
        },
        {
          "name": "stderr",
          "output_type": "stream",
          "text": [
            "\r 89%|████████▉ | 40/45 [00:12<00:01,  3.02it/s]"
          ]
        },
        {
          "name": "stdout",
          "output_type": "stream",
          "text": [
            "_Image_13L_4\n",
            "(384, 384, 1) 1.0 0.00020193683\n",
            "(384, 384, 3) (384, 384) (384, 384)\n"
          ]
        },
        {
          "name": "stderr",
          "output_type": "stream",
          "text": [
            "\r 91%|█████████ | 41/45 [00:13<00:01,  3.04it/s]"
          ]
        },
        {
          "name": "stdout",
          "output_type": "stream",
          "text": [
            "_Image_13L_5\n",
            "(384, 384, 1) 0.9999989 0.0033791487\n",
            "(384, 384, 3) (384, 384) (384, 384)\n"
          ]
        },
        {
          "name": "stderr",
          "output_type": "stream",
          "text": [
            "\r 93%|█████████▎| 42/45 [00:13<00:00,  3.07it/s]"
          ]
        },
        {
          "name": "stdout",
          "output_type": "stream",
          "text": [
            "_Image_13L_6\n",
            "(384, 384, 1) 0.9990916 0.002325967\n",
            "(384, 384, 3) (384, 384) (384, 384)\n"
          ]
        },
        {
          "name": "stderr",
          "output_type": "stream",
          "text": [
            "\r 96%|█████████▌| 43/45 [00:13<00:00,  3.10it/s]"
          ]
        },
        {
          "name": "stdout",
          "output_type": "stream",
          "text": [
            "_Image_13L_7\n",
            "(384, 384, 1) 0.9999989 0.0030000599\n",
            "(384, 384, 3) (384, 384) (384, 384)\n"
          ]
        },
        {
          "name": "stderr",
          "output_type": "stream",
          "text": [
            "\r 98%|█████████▊| 44/45 [00:14<00:00,  3.08it/s]"
          ]
        },
        {
          "name": "stdout",
          "output_type": "stream",
          "text": [
            "_Image_13L_8\n",
            "(384, 384, 1) 0.9999931 0.0046511083\n",
            "(384, 384, 3) (384, 384) (384, 384)\n"
          ]
        },
        {
          "name": "stderr",
          "output_type": "stream",
          "text": [
            "100%|██████████| 45/45 [00:14<00:00,  3.08it/s]"
          ]
        },
        {
          "name": "stdout",
          "output_type": "stream",
          "text": [
            "Threshold: 0.60000\n",
            "Accuracy: 0.98017\n",
            "F1: 0.72540\n",
            "Jaccard: 0.57879\n",
            "Recall: 0.68336\n",
            "Precision: 0.79421\n",
            "AUC: 0.97331\n",
            "Dice Coeff: 0.60606\n"
          ]
        },
        {
          "name": "stderr",
          "output_type": "stream",
          "text": [
            "\n"
          ]
        }
      ],
      "source": [
        "dataset_path = f\"{root_path}/{split_name}/{split}/\"\n",
        "df_0_6, score_0_6 = compute_metrics(dataset_path,\n",
        "                    results_path=results_path,\n",
        "                    threshold=0.6,\n",
        "                    model=model,\n",
        "                    predictions_path=prediction_path,\n",
        "                    prediction_np_path=prediction_np_path)"
      ]
    },
    {
      "cell_type": "code",
      "execution_count": null,
      "metadata": {
        "colab": {
          "background_save": true
        },
        "id": "braGlLM9Wgr9",
        "outputId": "500c1209-b096-45bc-b64f-8d8eae25969c"
      },
      "outputs": [
        {
          "data": {
            "application/vnd.google.colaboratory.intrinsic+json": {
              "type": "string"
            },
            "text/plain": [
              "'/content/datasets/chase_db_384_384_dice_bce_0_4__0_4_1//results_reconstructed/'"
            ]
          },
          "execution_count": null,
          "metadata": {},
          "output_type": "execute_result"
        }
      ],
      "source": [
        "results_path_reconstructed"
      ]
    },
    {
      "cell_type": "code",
      "execution_count": null,
      "metadata": {
        "colab": {
          "background_save": true
        },
        "id": "ATVyvynpSGYQ",
        "outputId": "274468c6-3316-421a-b016-5f6449bb44cc"
      },
      "outputs": [
        {
          "name": "stdout",
          "output_type": "stream",
          "text": [
            "chase_db_384_384_dice_bce_0_4__0_4_1  logs\n"
          ]
        }
      ],
      "source": [
        "!ls "
      ]
    },
    {
      "cell_type": "code",
      "execution_count": null,
      "metadata": {
        "colab": {
          "background_save": true
        },
        "id": "NwV0hgRzjBbR",
        "outputId": "ccdf7c17-0567-48ad-a165-aa261aa522b8"
      },
      "outputs": [
        {
          "name": "stdout",
          "output_type": "stream",
          "text": [
            "chase_db_384_384_dice_bce_0_4__0_4_1\n"
          ]
        }
      ],
      "source": [
        "folder_name = root_path.split(\"/\")[3]\n",
        "print(folder_name)"
      ]
    },
    {
      "cell_type": "code",
      "execution_count": null,
      "metadata": {
        "colab": {
          "background_save": true
        },
        "id": "tGxzllboKasD",
        "outputId": "cb33bc0f-0836-4642-c9f1-425c261ae046"
      },
      "outputs": [
        {
          "name": "stdout",
          "output_type": "stream",
          "text": [
            "  adding: chase_db_384_384_dice_bce_0_4__0_4_1/ (stored 0%)\n",
            "  adding: chase_db_384_384_dice_bce_0_4__0_4_1/test/ (stored 0%)\n",
            "  adding: chase_db_384_384_dice_bce_0_4__0_4_1/test/1st_manual/ (stored 0%)\n",
            "  adding: chase_db_384_384_dice_bce_0_4__0_4_1/test/1st_manual/Image_13L_1stHO.png (deflated 0%)\n",
            "  adding: chase_db_384_384_dice_bce_0_4__0_4_1/test/1st_manual/Image_12L_1stHO.png (deflated 0%)\n",
            "  adding: chase_db_384_384_dice_bce_0_4__0_4_1/test/1st_manual/Image_12R_1stHO.png (deflated 0%)\n",
            "  adding: chase_db_384_384_dice_bce_0_4__0_4_1/test/1st_manual/Image_11R_1stHO.png (deflated 0%)\n",
            "  adding: chase_db_384_384_dice_bce_0_4__0_4_1/test/1st_manual/Image_11L_1stHO.png (deflated 0%)\n",
            "  adding: chase_db_384_384_dice_bce_0_4__0_4_1/test/images/ (stored 0%)\n",
            "  adding: chase_db_384_384_dice_bce_0_4__0_4_1/test/images/Image_12L.jpg (deflated 7%)\n",
            "  adding: chase_db_384_384_dice_bce_0_4__0_4_1/test/images/Image_11R.jpg (deflated 7%)\n",
            "  adding: chase_db_384_384_dice_bce_0_4__0_4_1/test/images/Image_12R.jpg (deflated 6%)\n",
            "  adding: chase_db_384_384_dice_bce_0_4__0_4_1/test/images/Image_11L.jpg (deflated 6%)\n",
            "  adding: chase_db_384_384_dice_bce_0_4__0_4_1/test/images/Image_13L.jpg (deflated 8%)\n",
            "  adding: chase_db_384_384_dice_bce_0_4__0_4_1/training/ (stored 0%)\n",
            "  adding: chase_db_384_384_dice_bce_0_4__0_4_1/training/1st_manual/ (stored 0%)\n",
            "  adding: chase_db_384_384_dice_bce_0_4__0_4_1/training/1st_manual/Image_04L_1stHO.png (deflated 0%)\n",
            "  adding: chase_db_384_384_dice_bce_0_4__0_4_1/training/1st_manual/Image_09L_1stHO.png (deflated 0%)\n",
            "  adding: chase_db_384_384_dice_bce_0_4__0_4_1/training/1st_manual/Image_04R_1stHO.png (deflated 0%)\n",
            "  adding: chase_db_384_384_dice_bce_0_4__0_4_1/training/1st_manual/Image_09R_1stHO.png (deflated 0%)\n",
            "  adding: chase_db_384_384_dice_bce_0_4__0_4_1/training/1st_manual/Image_05R_1stHO.png (deflated 0%)\n",
            "  adding: chase_db_384_384_dice_bce_0_4__0_4_1/training/1st_manual/Image_05L_1stHO.png (deflated 0%)\n",
            "  adding: chase_db_384_384_dice_bce_0_4__0_4_1/training/1st_manual/Image_10R_1stHO.png (deflated 0%)\n",
            "  adding: chase_db_384_384_dice_bce_0_4__0_4_1/training/1st_manual/Image_07R_1stHO.png (deflated 0%)\n",
            "  adding: chase_db_384_384_dice_bce_0_4__0_4_1/training/1st_manual/Image_07L_1stHO.png (deflated 0%)\n",
            "  adding: chase_db_384_384_dice_bce_0_4__0_4_1/training/1st_manual/Image_06R_1stHO.png (deflated 0%)\n",
            "  adding: chase_db_384_384_dice_bce_0_4__0_4_1/training/1st_manual/Image_03L_1stHO.png (deflated 0%)\n",
            "  adding: chase_db_384_384_dice_bce_0_4__0_4_1/training/1st_manual/Image_14R_1stHO.png (deflated 0%)\n",
            "  adding: chase_db_384_384_dice_bce_0_4__0_4_1/training/1st_manual/Image_01L_1stHO.png (deflated 0%)\n",
            "  adding: chase_db_384_384_dice_bce_0_4__0_4_1/training/1st_manual/Image_06L_1stHO.png (deflated 0%)\n",
            "  adding: chase_db_384_384_dice_bce_0_4__0_4_1/training/1st_manual/Image_10L_1stHO.png (deflated 0%)\n",
            "  adding: chase_db_384_384_dice_bce_0_4__0_4_1/training/1st_manual/Image_08L_1stHO.png (deflated 0%)\n",
            "  adding: chase_db_384_384_dice_bce_0_4__0_4_1/training/1st_manual/Image_14L_1stHO.png (stored 0%)\n",
            "  adding: chase_db_384_384_dice_bce_0_4__0_4_1/training/1st_manual/Image_08R_1stHO.png (deflated 0%)\n",
            "  adding: chase_db_384_384_dice_bce_0_4__0_4_1/training/1st_manual/Image_01R_1stHO.png (deflated 0%)\n",
            "  adding: chase_db_384_384_dice_bce_0_4__0_4_1/training/1st_manual/Image_03R_1stHO.png (deflated 0%)\n",
            "  adding: chase_db_384_384_dice_bce_0_4__0_4_1/training/1st_manual/Image_02L_1stHO.png (deflated 0%)\n",
            "  adding: chase_db_384_384_dice_bce_0_4__0_4_1/training/1st_manual/Image_02R_1stHO.png (deflated 0%)\n",
            "  adding: chase_db_384_384_dice_bce_0_4__0_4_1/training/1st_manual/Image_13R_1stHO.png (deflated 0%)\n",
            "  adding: chase_db_384_384_dice_bce_0_4__0_4_1/training/images/ (stored 0%)\n",
            "  adding: chase_db_384_384_dice_bce_0_4__0_4_1/training/images/Image_02L.jpg (deflated 6%)\n",
            "  adding: chase_db_384_384_dice_bce_0_4__0_4_1/training/images/Image_06R.jpg (deflated 7%)\n",
            "  adding: chase_db_384_384_dice_bce_0_4__0_4_1/training/images/Image_03R.jpg (deflated 6%)\n",
            "  adding: chase_db_384_384_dice_bce_0_4__0_4_1/training/images/Image_07R.jpg (deflated 6%)\n",
            "  adding: chase_db_384_384_dice_bce_0_4__0_4_1/training/images/Image_10R.jpg (deflated 6%)\n",
            "  adding: chase_db_384_384_dice_bce_0_4__0_4_1/training/images/Image_05L.jpg (deflated 6%)\n",
            "  adding: chase_db_384_384_dice_bce_0_4__0_4_1/training/images/Image_09R.jpg (deflated 7%)\n",
            "  adding: chase_db_384_384_dice_bce_0_4__0_4_1/training/images/Image_04R.jpg (deflated 7%)\n",
            "  adding: chase_db_384_384_dice_bce_0_4__0_4_1/training/images/Image_14R.jpg (deflated 8%)\n",
            "  adding: chase_db_384_384_dice_bce_0_4__0_4_1/training/images/Image_10L.jpg (deflated 6%)\n",
            "  adding: chase_db_384_384_dice_bce_0_4__0_4_1/training/images/Image_08L.jpg (deflated 8%)\n",
            "  adding: chase_db_384_384_dice_bce_0_4__0_4_1/training/images/Image_03L.jpg (deflated 6%)\n",
            "  adding: chase_db_384_384_dice_bce_0_4__0_4_1/training/images/Image_08R.jpg (deflated 9%)\n",
            "  adding: chase_db_384_384_dice_bce_0_4__0_4_1/training/images/Image_05R.jpg (deflated 6%)\n",
            "  adding: chase_db_384_384_dice_bce_0_4__0_4_1/training/images/Image_13R.jpg (deflated 8%)\n",
            "  adding: chase_db_384_384_dice_bce_0_4__0_4_1/training/images/Image_02R.jpg (deflated 7%)\n",
            "  adding: chase_db_384_384_dice_bce_0_4__0_4_1/training/images/Image_01L.jpg (deflated 6%)\n",
            "  adding: chase_db_384_384_dice_bce_0_4__0_4_1/training/images/Image_04L.jpg (deflated 7%)\n",
            "  adding: chase_db_384_384_dice_bce_0_4__0_4_1/training/images/Image_01R.jpg (deflated 7%)\n",
            "  adding: chase_db_384_384_dice_bce_0_4__0_4_1/training/images/Image_14L.jpg (deflated 6%)\n",
            "  adding: chase_db_384_384_dice_bce_0_4__0_4_1/training/images/Image_07L.jpg (deflated 6%)\n",
            "  adding: chase_db_384_384_dice_bce_0_4__0_4_1/training/images/Image_09L.jpg (deflated 8%)\n",
            "  adding: chase_db_384_384_dice_bce_0_4__0_4_1/training/images/Image_06L.jpg (deflated 7%)\n",
            "  adding: chase_db_384_384_dice_bce_0_4__0_4_1/predictions_np/ (stored 0%)\n",
            "  adding: chase_db_384_384_dice_bce_0_4__0_4_1/predictions_np/_Image_12L_8.npy (deflated 41%)\n",
            "  adding: chase_db_384_384_dice_bce_0_4__0_4_1/predictions_np/_Image_13L_3.npy (deflated 16%)\n",
            "  adding: chase_db_384_384_dice_bce_0_4__0_4_1/predictions_np/_Image_12L_3.npy (deflated 16%)\n",
            "  adding: chase_db_384_384_dice_bce_0_4__0_4_1/predictions_np/_Image_11R_1.npy (deflated 18%)\n",
            "  adding: chase_db_384_384_dice_bce_0_4__0_4_1/predictions_np/_Image_12L_5.npy (deflated 17%)\n",
            "  adding: chase_db_384_384_dice_bce_0_4__0_4_1/predictions_np/_Image_11L_5.npy (deflated 17%)\n",
            "  adding: chase_db_384_384_dice_bce_0_4__0_4_1/predictions_np/_Image_12L_2.npy (deflated 41%)\n",
            "  adding: chase_db_384_384_dice_bce_0_4__0_4_1/predictions_np/_Image_13L_0.npy (deflated 40%)\n",
            "  adding: chase_db_384_384_dice_bce_0_4__0_4_1/predictions_np/_Image_13L_2.npy (deflated 42%)\n",
            "  adding: chase_db_384_384_dice_bce_0_4__0_4_1/predictions_np/_Image_12L_4.npy (deflated 15%)\n",
            "  adding: chase_db_384_384_dice_bce_0_4__0_4_1/predictions_np/_Image_12R_0.npy (deflated 40%)\n",
            "  adding: chase_db_384_384_dice_bce_0_4__0_4_1/predictions_np/_Image_13L_4.npy (deflated 14%)\n",
            "  adding: chase_db_384_384_dice_bce_0_4__0_4_1/predictions_np/_Image_11L_6.npy (deflated 39%)\n",
            "  adding: chase_db_384_384_dice_bce_0_4__0_4_1/predictions_np/_Image_11R_4.npy (deflated 13%)\n",
            "  adding: chase_db_384_384_dice_bce_0_4__0_4_1/predictions_np/_Image_13L_7.npy (deflated 19%)\n",
            "  adding: chase_db_384_384_dice_bce_0_4__0_4_1/predictions_np/_Image_11L_2.npy (deflated 41%)\n",
            "  adding: chase_db_384_384_dice_bce_0_4__0_4_1/predictions_np/_Image_11R_0.npy (deflated 39%)\n",
            "  adding: chase_db_384_384_dice_bce_0_4__0_4_1/predictions_np/_Image_12R_6.npy (deflated 40%)\n",
            "  adding: chase_db_384_384_dice_bce_0_4__0_4_1/predictions_np/_Image_12R_2.npy (deflated 41%)\n",
            "  adding: chase_db_384_384_dice_bce_0_4__0_4_1/predictions_np/_Image_11R_7.npy (deflated 19%)\n",
            "  adding: chase_db_384_384_dice_bce_0_4__0_4_1/predictions_np/_Image_13L_6.npy (deflated 40%)\n",
            "  adding: chase_db_384_384_dice_bce_0_4__0_4_1/predictions_np/_Image_11R_2.npy (deflated 41%)\n",
            "  adding: chase_db_384_384_dice_bce_0_4__0_4_1/predictions_np/_Image_11L_3.npy (deflated 15%)\n",
            "  adding: chase_db_384_384_dice_bce_0_4__0_4_1/predictions_np/_Image_11L_8.npy (deflated 41%)\n",
            "  adding: chase_db_384_384_dice_bce_0_4__0_4_1/predictions_np/_Image_11L_4.npy (deflated 14%)\n",
            "  adding: chase_db_384_384_dice_bce_0_4__0_4_1/predictions_np/_Image_13L_8.npy (deflated 42%)\n",
            "  adding: chase_db_384_384_dice_bce_0_4__0_4_1/predictions_np/_Image_11R_5.npy (deflated 17%)\n",
            "  adding: chase_db_384_384_dice_bce_0_4__0_4_1/predictions_np/_Image_12R_7.npy (deflated 19%)\n",
            "  adding: chase_db_384_384_dice_bce_0_4__0_4_1/predictions_np/_Image_11R_8.npy (deflated 42%)\n",
            "  adding: chase_db_384_384_dice_bce_0_4__0_4_1/predictions_np/_Image_12R_5.npy (deflated 17%)\n",
            "  adding: chase_db_384_384_dice_bce_0_4__0_4_1/predictions_np/_Image_12L_1.npy (deflated 18%)\n",
            "  adding: chase_db_384_384_dice_bce_0_4__0_4_1/predictions_np/_Image_13L_1.npy (deflated 19%)\n",
            "  adding: chase_db_384_384_dice_bce_0_4__0_4_1/predictions_np/_Image_12R_1.npy (deflated 19%)\n",
            "  adding: chase_db_384_384_dice_bce_0_4__0_4_1/predictions_np/_Image_12R_4.npy (deflated 14%)\n",
            "  adding: chase_db_384_384_dice_bce_0_4__0_4_1/predictions_np/_Image_12R_8.npy (deflated 42%)\n",
            "  adding: chase_db_384_384_dice_bce_0_4__0_4_1/predictions_np/_Image_12L_6.npy (deflated 40%)\n",
            "  adding: chase_db_384_384_dice_bce_0_4__0_4_1/predictions_np/_Image_13L_5.npy (deflated 17%)\n",
            "  adding: chase_db_384_384_dice_bce_0_4__0_4_1/predictions_np/_Image_12R_3.npy (deflated 16%)\n",
            "  adding: chase_db_384_384_dice_bce_0_4__0_4_1/predictions_np/_Image_11L_1.npy (deflated 18%)\n",
            "  adding: chase_db_384_384_dice_bce_0_4__0_4_1/predictions_np/_Image_11L_7.npy (deflated 19%)\n",
            "  adding: chase_db_384_384_dice_bce_0_4__0_4_1/predictions_np/_Image_12L_7.npy (deflated 19%)\n",
            "  adding: chase_db_384_384_dice_bce_0_4__0_4_1/predictions_np/_Image_12L_0.npy (deflated 40%)\n",
            "  adding: chase_db_384_384_dice_bce_0_4__0_4_1/predictions_np/_Image_11R_6.npy (deflated 40%)\n",
            "  adding: chase_db_384_384_dice_bce_0_4__0_4_1/predictions_np/_Image_11R_3.npy (deflated 16%)\n",
            "  adding: chase_db_384_384_dice_bce_0_4__0_4_1/predictions_np/_Image_11L_0.npy (deflated 39%)\n",
            "  adding: chase_db_384_384_dice_bce_0_4__0_4_1/split_2/ (stored 0%)\n",
            "  adding: chase_db_384_384_dice_bce_0_4__0_4_1/split_2/test/ (stored 0%)\n",
            "  adding: chase_db_384_384_dice_bce_0_4__0_4_1/split_2/test/mask/ (stored 0%)\n",
            "  adding: chase_db_384_384_dice_bce_0_4__0_4_1/split_2/test/mask/_Image_11R_3.png (deflated 12%)\n",
            "  adding: chase_db_384_384_dice_bce_0_4__0_4_1/split_2/test/mask/_Image_12R_1.png (deflated 21%)\n",
            "  adding: chase_db_384_384_dice_bce_0_4__0_4_1/split_2/test/mask/_Image_11L_6.png (deflated 25%)\n",
            "  adding: chase_db_384_384_dice_bce_0_4__0_4_1/split_2/test/mask/_Image_11R_0.png (deflated 45%)\n",
            "  adding: chase_db_384_384_dice_bce_0_4__0_4_1/split_2/test/mask/_Image_11L_2.png (deflated 51%)\n",
            "  adding: chase_db_384_384_dice_bce_0_4__0_4_1/split_2/test/mask/_Image_13L_3.png (deflated 8%)\n",
            "  adding: chase_db_384_384_dice_bce_0_4__0_4_1/split_2/test/mask/_Image_11R_8.png (deflated 33%)\n",
            "  adding: chase_db_384_384_dice_bce_0_4__0_4_1/split_2/test/mask/_Image_12L_7.png (deflated 18%)\n",
            "  adding: chase_db_384_384_dice_bce_0_4__0_4_1/split_2/test/mask/_Image_11L_1.png (deflated 19%)\n",
            "  adding: chase_db_384_384_dice_bce_0_4__0_4_1/split_2/test/mask/_Image_13L_8.png (deflated 25%)\n",
            "  adding: chase_db_384_384_dice_bce_0_4__0_4_1/split_2/test/mask/_Image_12R_2.png (deflated 27%)\n",
            "  adding: chase_db_384_384_dice_bce_0_4__0_4_1/split_2/test/mask/_Image_12L_3.png (deflated 12%)\n",
            "  adding: chase_db_384_384_dice_bce_0_4__0_4_1/split_2/test/mask/_Image_12R_4.png (deflated 13%)\n",
            "  adding: chase_db_384_384_dice_bce_0_4__0_4_1/split_2/test/mask/_Image_13L_0.png (deflated 24%)\n",
            "  adding: chase_db_384_384_dice_bce_0_4__0_4_1/split_2/test/mask/_Image_11R_1.png (deflated 22%)\n",
            "  adding: chase_db_384_384_dice_bce_0_4__0_4_1/split_2/test/mask/_Image_12R_7.png (deflated 17%)\n",
            "  adding: chase_db_384_384_dice_bce_0_4__0_4_1/split_2/test/mask/_Image_13L_6.png (deflated 29%)\n",
            "  adding: chase_db_384_384_dice_bce_0_4__0_4_1/split_2/test/mask/_Image_13L_4.png (deflated 12%)\n",
            "  adding: chase_db_384_384_dice_bce_0_4__0_4_1/split_2/test/mask/_Image_12L_1.png (deflated 22%)\n",
            "  adding: chase_db_384_384_dice_bce_0_4__0_4_1/split_2/test/mask/_Image_12R_8.png (deflated 26%)\n",
            "  adding: chase_db_384_384_dice_bce_0_4__0_4_1/split_2/test/mask/_Image_12L_8.png (deflated 23%)\n",
            "  adding: chase_db_384_384_dice_bce_0_4__0_4_1/split_2/test/mask/_Image_12L_5.png (deflated 12%)\n",
            "  adding: chase_db_384_384_dice_bce_0_4__0_4_1/split_2/test/mask/_Image_13L_5.png (deflated 14%)\n",
            "  adding: chase_db_384_384_dice_bce_0_4__0_4_1/split_2/test/mask/_Image_11L_4.png (deflated 12%)\n",
            "  adding: chase_db_384_384_dice_bce_0_4__0_4_1/split_2/test/mask/_Image_11L_7.png (deflated 15%)\n",
            "  adding: chase_db_384_384_dice_bce_0_4__0_4_1/split_2/test/mask/_Image_11L_0.png (deflated 26%)\n",
            "  adding: chase_db_384_384_dice_bce_0_4__0_4_1/split_2/test/mask/_Image_11L_8.png (deflated 29%)\n",
            "  adding: chase_db_384_384_dice_bce_0_4__0_4_1/split_2/test/mask/_Image_12L_4.png (deflated 14%)\n",
            "  adding: chase_db_384_384_dice_bce_0_4__0_4_1/split_2/test/mask/_Image_11L_5.png (deflated 16%)\n",
            "  adding: chase_db_384_384_dice_bce_0_4__0_4_1/split_2/test/mask/_Image_11R_2.png (deflated 34%)\n",
            "  adding: chase_db_384_384_dice_bce_0_4__0_4_1/split_2/test/mask/_Image_12R_5.png (deflated 12%)\n",
            "  adding: chase_db_384_384_dice_bce_0_4__0_4_1/split_2/test/mask/_Image_12R_0.png (deflated 30%)\n",
            "  adding: chase_db_384_384_dice_bce_0_4__0_4_1/split_2/test/mask/_Image_11R_7.png (deflated 21%)\n",
            "  adding: chase_db_384_384_dice_bce_0_4__0_4_1/split_2/test/mask/_Image_13L_2.png (deflated 35%)\n",
            "  adding: chase_db_384_384_dice_bce_0_4__0_4_1/split_2/test/mask/_Image_11L_3.png (deflated 11%)\n",
            "  adding: chase_db_384_384_dice_bce_0_4__0_4_1/split_2/test/mask/_Image_12R_6.png (deflated 26%)\n",
            "  adding: chase_db_384_384_dice_bce_0_4__0_4_1/split_2/test/mask/_Image_12L_6.png (deflated 26%)\n",
            "  adding: chase_db_384_384_dice_bce_0_4__0_4_1/split_2/test/mask/_Image_12R_3.png (deflated 8%)\n",
            "  adding: chase_db_384_384_dice_bce_0_4__0_4_1/split_2/test/mask/_Image_13L_1.png (deflated 21%)\n",
            "  adding: chase_db_384_384_dice_bce_0_4__0_4_1/split_2/test/mask/_Image_11R_4.png (deflated 13%)\n",
            "  adding: chase_db_384_384_dice_bce_0_4__0_4_1/split_2/test/mask/_Image_12L_0.png (deflated 25%)\n",
            "  adding: chase_db_384_384_dice_bce_0_4__0_4_1/split_2/test/mask/_Image_12L_2.png (deflated 24%)\n",
            "  adding: chase_db_384_384_dice_bce_0_4__0_4_1/split_2/test/mask/_Image_11R_6.png (deflated 45%)\n",
            "  adding: chase_db_384_384_dice_bce_0_4__0_4_1/split_2/test/mask/_Image_13L_7.png (deflated 18%)\n",
            "  adding: chase_db_384_384_dice_bce_0_4__0_4_1/split_2/test/mask/_Image_11R_5.png (deflated 11%)\n",
            "  adding: chase_db_384_384_dice_bce_0_4__0_4_1/split_2/test/image/ (stored 0%)\n",
            "  adding: chase_db_384_384_dice_bce_0_4__0_4_1/split_2/test/image/_Image_11R_3.png (deflated 3%)\n",
            "  adding: chase_db_384_384_dice_bce_0_4__0_4_1/split_2/test/image/_Image_12R_1.png (deflated 3%)\n",
            "  adding: chase_db_384_384_dice_bce_0_4__0_4_1/split_2/test/image/_Image_11L_6.png (deflated 4%)\n",
            "  adding: chase_db_384_384_dice_bce_0_4__0_4_1/split_2/test/image/_Image_11R_0.png (deflated 3%)\n",
            "  adding: chase_db_384_384_dice_bce_0_4__0_4_1/split_2/test/image/_Image_11L_2.png (deflated 3%)\n",
            "  adding: chase_db_384_384_dice_bce_0_4__0_4_1/split_2/test/image/_Image_13L_3.png (deflated 8%)\n",
            "  adding: chase_db_384_384_dice_bce_0_4__0_4_1/split_2/test/image/_Image_11R_8.png (deflated 3%)\n",
            "  adding: chase_db_384_384_dice_bce_0_4__0_4_1/split_2/test/image/_Image_12L_7.png (deflated 1%)\n",
            "  adding: chase_db_384_384_dice_bce_0_4__0_4_1/split_2/test/image/_Image_11L_1.png (deflated 3%)\n",
            "  adding: chase_db_384_384_dice_bce_0_4__0_4_1/split_2/test/image/_Image_13L_8.png (deflated 7%)\n",
            "  adding: chase_db_384_384_dice_bce_0_4__0_4_1/split_2/test/image/_Image_12R_2.png (deflated 3%)\n",
            "  adding: chase_db_384_384_dice_bce_0_4__0_4_1/split_2/test/image/_Image_12L_3.png (deflated 3%)\n",
            "  adding: chase_db_384_384_dice_bce_0_4__0_4_1/split_2/test/image/_Image_12R_4.png (deflated 1%)\n",
            "  adding: chase_db_384_384_dice_bce_0_4__0_4_1/split_2/test/image/_Image_13L_0.png (deflated 6%)\n",
            "  adding: chase_db_384_384_dice_bce_0_4__0_4_1/split_2/test/image/_Image_11R_1.png (deflated 4%)\n",
            "  adding: chase_db_384_384_dice_bce_0_4__0_4_1/split_2/test/image/_Image_12R_7.png (deflated 1%)\n",
            "  adding: chase_db_384_384_dice_bce_0_4__0_4_1/split_2/test/image/_Image_13L_6.png (deflated 8%)\n",
            "  adding: chase_db_384_384_dice_bce_0_4__0_4_1/split_2/test/image/_Image_13L_4.png (deflated 2%)\n",
            "  adding: chase_db_384_384_dice_bce_0_4__0_4_1/split_2/test/image/_Image_12L_1.png (deflated 4%)\n",
            "  adding: chase_db_384_384_dice_bce_0_4__0_4_1/split_2/test/image/_Image_12R_8.png (deflated 3%)\n",
            "  adding: chase_db_384_384_dice_bce_0_4__0_4_1/split_2/test/image/_Image_12L_8.png (deflated 2%)\n",
            "  adding: chase_db_384_384_dice_bce_0_4__0_4_1/split_2/test/image/_Image_12L_5.png (deflated 3%)\n",
            "  adding: chase_db_384_384_dice_bce_0_4__0_4_1/split_2/test/image/_Image_13L_5.png (deflated 8%)\n",
            "  adding: chase_db_384_384_dice_bce_0_4__0_4_1/split_2/test/image/_Image_11L_4.png (deflated 1%)\n",
            "  adding: chase_db_384_384_dice_bce_0_4__0_4_1/split_2/test/image/_Image_11L_7.png (deflated 1%)\n",
            "  adding: chase_db_384_384_dice_bce_0_4__0_4_1/split_2/test/image/_Image_11L_0.png (deflated 5%)\n",
            "  adding: chase_db_384_384_dice_bce_0_4__0_4_1/split_2/test/image/_Image_11L_8.png (deflated 3%)\n",
            "  adding: chase_db_384_384_dice_bce_0_4__0_4_1/split_2/test/image/_Image_12L_4.png (deflated 1%)\n",
            "  adding: chase_db_384_384_dice_bce_0_4__0_4_1/split_2/test/image/_Image_11L_5.png (deflated 2%)\n",
            "  adding: chase_db_384_384_dice_bce_0_4__0_4_1/split_2/test/image/_Image_11R_2.png (deflated 4%)\n",
            "  adding: chase_db_384_384_dice_bce_0_4__0_4_1/split_2/test/image/_Image_12R_5.png (deflated 2%)\n",
            "  adding: chase_db_384_384_dice_bce_0_4__0_4_1/split_2/test/image/_Image_12R_0.png (deflated 4%)\n",
            "  adding: chase_db_384_384_dice_bce_0_4__0_4_1/split_2/test/image/_Image_11R_7.png (deflated 1%)\n",
            "  adding: chase_db_384_384_dice_bce_0_4__0_4_1/split_2/test/image/_Image_13L_2.png (deflated 9%)\n",
            "  adding: chase_db_384_384_dice_bce_0_4__0_4_1/split_2/test/image/_Image_11L_3.png (deflated 3%)\n",
            "  adding: chase_db_384_384_dice_bce_0_4__0_4_1/split_2/test/image/_Image_12R_6.png (deflated 3%)\n",
            "  adding: chase_db_384_384_dice_bce_0_4__0_4_1/split_2/test/image/_Image_12L_6.png (deflated 3%)\n",
            "  adding: chase_db_384_384_dice_bce_0_4__0_4_1/split_2/test/image/_Image_12R_3.png (deflated 3%)\n",
            "  adding: chase_db_384_384_dice_bce_0_4__0_4_1/split_2/test/image/_Image_13L_1.png (deflated 7%)\n",
            "  adding: chase_db_384_384_dice_bce_0_4__0_4_1/split_2/test/image/_Image_11R_4.png (deflated 1%)\n",
            "  adding: chase_db_384_384_dice_bce_0_4__0_4_1/split_2/test/image/_Image_12L_0.png (deflated 7%)\n",
            "  adding: chase_db_384_384_dice_bce_0_4__0_4_1/split_2/test/image/_Image_12L_2.png (deflated 3%)\n",
            "  adding: chase_db_384_384_dice_bce_0_4__0_4_1/split_2/test/image/_Image_11R_6.png (deflated 3%)\n",
            "  adding: chase_db_384_384_dice_bce_0_4__0_4_1/split_2/test/image/_Image_13L_7.png (deflated 7%)\n",
            "  adding: chase_db_384_384_dice_bce_0_4__0_4_1/split_2/test/image/_Image_11R_5.png (deflated 3%)\n",
            "  adding: chase_db_384_384_dice_bce_0_4__0_4_1/split_2/reconstructed/ (stored 0%)\n",
            "  adding: chase_db_384_384_dice_bce_0_4__0_4_1/split_2/reconstructed/test/ (stored 0%)\n",
            "  adding: chase_db_384_384_dice_bce_0_4__0_4_1/split_2/reconstructed/test/mask/ (stored 0%)\n",
            "  adding: chase_db_384_384_dice_bce_0_4__0_4_1/split_2/reconstructed/test/mask/Image_13L.png (deflated 17%)\n",
            "  adding: chase_db_384_384_dice_bce_0_4__0_4_1/split_2/reconstructed/test/mask/Image_12R.png (deflated 15%)\n",
            "  adding: chase_db_384_384_dice_bce_0_4__0_4_1/split_2/reconstructed/test/mask/Image_12L.png (deflated 16%)\n",
            "  adding: chase_db_384_384_dice_bce_0_4__0_4_1/split_2/reconstructed/test/mask/Image_11R.png (deflated 17%)\n",
            "  adding: chase_db_384_384_dice_bce_0_4__0_4_1/split_2/reconstructed/test/mask/Image_11L.png (deflated 16%)\n",
            "  adding: chase_db_384_384_dice_bce_0_4__0_4_1/split_2/reconstructed/test/predictions_reconstructed/ (stored 0%)\n",
            "  adding: chase_db_384_384_dice_bce_0_4__0_4_1/split_2/reconstructed/test/predictions_reconstructed/Image_13L.png (deflated 24%)\n",
            "  adding: chase_db_384_384_dice_bce_0_4__0_4_1/split_2/reconstructed/test/predictions_reconstructed/Image_12R.png (deflated 20%)\n",
            "  adding: chase_db_384_384_dice_bce_0_4__0_4_1/split_2/reconstructed/test/predictions_reconstructed/Image_12L.png (deflated 20%)\n",
            "  adding: chase_db_384_384_dice_bce_0_4__0_4_1/split_2/reconstructed/test/predictions_reconstructed/Image_11R.png (deflated 22%)\n",
            "  adding: chase_db_384_384_dice_bce_0_4__0_4_1/split_2/reconstructed/test/predictions_reconstructed/Image_11L.png (deflated 22%)\n",
            "  adding: chase_db_384_384_dice_bce_0_4__0_4_1/split_2/reconstructed/test/image/ (stored 0%)\n",
            "  adding: chase_db_384_384_dice_bce_0_4__0_4_1/split_2/reconstructed/test/image/Image_13L.png (deflated 6%)\n",
            "  adding: chase_db_384_384_dice_bce_0_4__0_4_1/split_2/reconstructed/test/image/Image_12R.png (deflated 2%)\n",
            "  adding: chase_db_384_384_dice_bce_0_4__0_4_1/split_2/reconstructed/test/image/Image_12L.png (deflated 2%)\n",
            "  adding: chase_db_384_384_dice_bce_0_4__0_4_1/split_2/reconstructed/test/image/Image_11R.png (deflated 2%)\n",
            "  adding: chase_db_384_384_dice_bce_0_4__0_4_1/split_2/reconstructed/test/image/Image_11L.png (deflated 2%)\n",
            "  adding: chase_db_384_384_dice_bce_0_4__0_4_1/split_2/image_patches_384_384_test.csv (deflated 91%)\n",
            "  adding: chase_db_384_384_dice_bce_0_4__0_4_1/split_2/train/ (stored 0%)\n",
            "  adding: chase_db_384_384_dice_bce_0_4__0_4_1/split_2/train/mask/ (stored 0%)\n",
            "  adding: chase_db_384_384_dice_bce_0_4__0_4_1/split_2/train/mask/_Image_05R_1.png (deflated 21%)\n",
            "  adding: chase_db_384_384_dice_bce_0_4__0_4_1/split_2/train/mask/_Image_14L_3.png (deflated 13%)\n",
            "  adding: chase_db_384_384_dice_bce_0_4__0_4_1/split_2/train/mask/_Image_09R_6.png (deflated 47%)\n",
            "  adding: chase_db_384_384_dice_bce_0_4__0_4_1/split_2/train/mask/_Image_04L_0.png (deflated 35%)\n",
            "  adding: chase_db_384_384_dice_bce_0_4__0_4_1/split_2/train/mask/_Image_03L_0.png (deflated 25%)\n",
            "  adding: chase_db_384_384_dice_bce_0_4__0_4_1/split_2/train/mask/_Image_07R_3.png (deflated 6%)\n",
            "  adding: chase_db_384_384_dice_bce_0_4__0_4_1/split_2/train/mask/_Image_10R_4.png (deflated 14%)\n",
            "  adding: chase_db_384_384_dice_bce_0_4__0_4_1/split_2/train/mask/_Image_10L_2.png (deflated 30%)\n",
            "  adding: chase_db_384_384_dice_bce_0_4__0_4_1/split_2/train/mask/_Image_13R_7.png (deflated 19%)\n",
            "  adding: chase_db_384_384_dice_bce_0_4__0_4_1/split_2/train/mask/_Image_02L_0.png (deflated 24%)\n",
            "  adding: chase_db_384_384_dice_bce_0_4__0_4_1/split_2/train/mask/_Image_02L_4.png (deflated 13%)\n",
            "  adding: chase_db_384_384_dice_bce_0_4__0_4_1/split_2/train/mask/_Image_08L_3.png (deflated 9%)\n",
            "  adding: chase_db_384_384_dice_bce_0_4__0_4_1/split_2/train/mask/_Image_02L_5.png (deflated 10%)\n",
            "  adding: chase_db_384_384_dice_bce_0_4__0_4_1/split_2/train/mask/_Image_02R_1.png (deflated 16%)\n",
            "  adding: chase_db_384_384_dice_bce_0_4__0_4_1/split_2/train/mask/_Image_10R_3.png (deflated 12%)\n",
            "  adding: chase_db_384_384_dice_bce_0_4__0_4_1/split_2/train/mask/_Image_14R_1.png (deflated 26%)\n",
            "  adding: chase_db_384_384_dice_bce_0_4__0_4_1/split_2/train/mask/_Image_08R_8.png (deflated 32%)\n",
            "  adding: chase_db_384_384_dice_bce_0_4__0_4_1/split_2/train/mask/_Image_08R_1.png (deflated 22%)\n",
            "  adding: chase_db_384_384_dice_bce_0_4__0_4_1/split_2/train/mask/_Image_06R_2.png (deflated 27%)\n",
            "  adding: chase_db_384_384_dice_bce_0_4__0_4_1/split_2/train/mask/_Image_04R_7.png (deflated 18%)\n",
            "  adding: chase_db_384_384_dice_bce_0_4__0_4_1/split_2/train/mask/_Image_09R_0.png (deflated 27%)\n",
            "  adding: chase_db_384_384_dice_bce_0_4__0_4_1/split_2/train/mask/_Image_10L_4.png (deflated 13%)\n",
            "  adding: chase_db_384_384_dice_bce_0_4__0_4_1/split_2/train/mask/_Image_04R_5.png (deflated 16%)\n",
            "  adding: chase_db_384_384_dice_bce_0_4__0_4_1/split_2/train/mask/_Image_13R_6.png (deflated 27%)\n",
            "  adding: chase_db_384_384_dice_bce_0_4__0_4_1/split_2/train/mask/_Image_06L_0.png (deflated 28%)\n",
            "  adding: chase_db_384_384_dice_bce_0_4__0_4_1/split_2/train/mask/_Image_01R_4.png (deflated 12%)\n",
            "  adding: chase_db_384_384_dice_bce_0_4__0_4_1/split_2/train/mask/_Image_14L_8.png (deflated 27%)\n",
            "  adding: chase_db_384_384_dice_bce_0_4__0_4_1/split_2/train/mask/_Image_05L_1.png (deflated 21%)\n",
            "  adding: chase_db_384_384_dice_bce_0_4__0_4_1/split_2/train/mask/_Image_09L_1.png (deflated 22%)\n",
            "  adding: chase_db_384_384_dice_bce_0_4__0_4_1/split_2/train/mask/_Image_02L_7.png (deflated 17%)\n",
            "  adding: chase_db_384_384_dice_bce_0_4__0_4_1/split_2/train/mask/_Image_06L_1.png (deflated 20%)\n",
            "  adding: chase_db_384_384_dice_bce_0_4__0_4_1/split_2/train/mask/_Image_03R_4.png (deflated 12%)\n",
            "  adding: chase_db_384_384_dice_bce_0_4__0_4_1/split_2/train/mask/_Image_01L_8.png (deflated 26%)\n",
            "  adding: chase_db_384_384_dice_bce_0_4__0_4_1/split_2/train/mask/_Image_01R_5.png (deflated 13%)\n",
            "  adding: chase_db_384_384_dice_bce_0_4__0_4_1/split_2/train/mask/_Image_14L_0.png (deflated 21%)\n",
            "  adding: chase_db_384_384_dice_bce_0_4__0_4_1/split_2/train/mask/_Image_05L_3.png (deflated 12%)\n",
            "  adding: chase_db_384_384_dice_bce_0_4__0_4_1/split_2/train/mask/_Image_08L_6.png (deflated 26%)\n",
            "  adding: chase_db_384_384_dice_bce_0_4__0_4_1/split_2/train/mask/_Image_13R_5.png (deflated 11%)\n",
            "  adding: chase_db_384_384_dice_bce_0_4__0_4_1/split_2/train/mask/_Image_07L_2.png (deflated 26%)\n",
            "  adding: chase_db_384_384_dice_bce_0_4__0_4_1/split_2/train/mask/_Image_02L_1.png (deflated 20%)\n",
            "  adding: chase_db_384_384_dice_bce_0_4__0_4_1/split_2/train/mask/_Image_05R_2.png (deflated 28%)\n",
            "  adding: chase_db_384_384_dice_bce_0_4__0_4_1/split_2/train/mask/_Image_07L_5.png (deflated 10%)\n",
            "  adding: chase_db_384_384_dice_bce_0_4__0_4_1/split_2/train/mask/_Image_14L_1.png (deflated 20%)\n",
            "  adding: chase_db_384_384_dice_bce_0_4__0_4_1/split_2/train/mask/_Image_05L_7.png (deflated 17%)\n",
            "  adding: chase_db_384_384_dice_bce_0_4__0_4_1/split_2/train/mask/_Image_10R_1.png (deflated 22%)\n",
            "  adding: chase_db_384_384_dice_bce_0_4__0_4_1/split_2/train/mask/_Image_08L_7.png (deflated 21%)\n",
            "  adding: chase_db_384_384_dice_bce_0_4__0_4_1/split_2/train/mask/_Image_05L_5.png (deflated 12%)\n",
            "  adding: chase_db_384_384_dice_bce_0_4__0_4_1/split_2/train/mask/_Image_07L_3.png (deflated 15%)\n",
            "  adding: chase_db_384_384_dice_bce_0_4__0_4_1/split_2/train/mask/_Image_04R_3.png (deflated 14%)\n",
            "  adding: chase_db_384_384_dice_bce_0_4__0_4_1/split_2/train/mask/_Image_03R_7.png (deflated 18%)\n",
            "  adding: chase_db_384_384_dice_bce_0_4__0_4_1/split_2/train/mask/_Image_04R_6.png (deflated 30%)\n",
            "  adding: chase_db_384_384_dice_bce_0_4__0_4_1/split_2/train/mask/_Image_13R_3.png (deflated 12%)\n",
            "  adding: chase_db_384_384_dice_bce_0_4__0_4_1/split_2/train/mask/_Image_08R_6.png (deflated 43%)\n",
            "  adding: chase_db_384_384_dice_bce_0_4__0_4_1/split_2/train/mask/_Image_09L_4.png (deflated 16%)\n",
            "  adding: chase_db_384_384_dice_bce_0_4__0_4_1/split_2/train/mask/_Image_02L_3.png (deflated 6%)\n",
            "  adding: chase_db_384_384_dice_bce_0_4__0_4_1/split_2/train/mask/_Image_04L_2.png (deflated 46%)\n",
            "  adding: chase_db_384_384_dice_bce_0_4__0_4_1/split_2/train/mask/_Image_09R_4.png (deflated 14%)\n",
            "  adding: chase_db_384_384_dice_bce_0_4__0_4_1/split_2/train/mask/_Image_10L_7.png (deflated 19%)\n",
            "  adding: chase_db_384_384_dice_bce_0_4__0_4_1/split_2/train/mask/_Image_01R_6.png (deflated 35%)\n",
            "  adding: chase_db_384_384_dice_bce_0_4__0_4_1/split_2/train/mask/_Image_02R_5.png (deflated 9%)\n",
            "  adding: chase_db_384_384_dice_bce_0_4__0_4_1/split_2/train/mask/_Image_07L_0.png (deflated 27%)\n",
            "  adding: chase_db_384_384_dice_bce_0_4__0_4_1/split_2/train/mask/_Image_05R_5.png (deflated 11%)\n",
            "  adding: chase_db_384_384_dice_bce_0_4__0_4_1/split_2/train/mask/_Image_09L_2.png (deflated 42%)\n",
            "  adding: chase_db_384_384_dice_bce_0_4__0_4_1/split_2/train/mask/_Image_03L_3.png (deflated 11%)\n",
            "  adding: chase_db_384_384_dice_bce_0_4__0_4_1/split_2/train/mask/_Image_04L_8.png (deflated 54%)\n",
            "  adding: chase_db_384_384_dice_bce_0_4__0_4_1/split_2/train/mask/_Image_02L_8.png (deflated 24%)\n",
            "  adding: chase_db_384_384_dice_bce_0_4__0_4_1/split_2/train/mask/_Image_03R_3.png (deflated 15%)\n",
            "  adding: chase_db_384_384_dice_bce_0_4__0_4_1/split_2/train/mask/_Image_08L_4.png (deflated 14%)\n",
            "  adding: chase_db_384_384_dice_bce_0_4__0_4_1/split_2/train/mask/_Image_10L_3.png (deflated 16%)\n",
            "  adding: chase_db_384_384_dice_bce_0_4__0_4_1/split_2/train/mask/_Image_05L_6.png (deflated 23%)\n",
            "  adding: chase_db_384_384_dice_bce_0_4__0_4_1/split_2/train/mask/_Image_01L_2.png (deflated 23%)\n",
            "  adding: chase_db_384_384_dice_bce_0_4__0_4_1/split_2/train/mask/_Image_03L_2.png (deflated 21%)\n",
            "  adding: chase_db_384_384_dice_bce_0_4__0_4_1/split_2/train/mask/_Image_08L_5.png (deflated 8%)\n",
            "  adding: chase_db_384_384_dice_bce_0_4__0_4_1/split_2/train/mask/_Image_05R_4.png (deflated 13%)\n",
            "  adding: chase_db_384_384_dice_bce_0_4__0_4_1/split_2/train/mask/_Image_04L_4.png (deflated 15%)\n",
            "  adding: chase_db_384_384_dice_bce_0_4__0_4_1/split_2/train/mask/_Image_07R_4.png (deflated 10%)\n",
            "  adding: chase_db_384_384_dice_bce_0_4__0_4_1/split_2/train/mask/_Image_05R_6.png (deflated 20%)\n",
            "  adding: chase_db_384_384_dice_bce_0_4__0_4_1/split_2/train/mask/_Image_02L_2.png (deflated 25%)\n",
            "  adding: chase_db_384_384_dice_bce_0_4__0_4_1/split_2/train/mask/_Image_14R_7.png (deflated 19%)\n",
            "  adding: chase_db_384_384_dice_bce_0_4__0_4_1/split_2/train/mask/_Image_14R_0.png (deflated 31%)\n",
            "  adding: chase_db_384_384_dice_bce_0_4__0_4_1/split_2/train/mask/_Image_08R_0.png (deflated 32%)\n",
            "  adding: chase_db_384_384_dice_bce_0_4__0_4_1/split_2/train/mask/_Image_07R_1.png (deflated 20%)\n",
            "  adding: chase_db_384_384_dice_bce_0_4__0_4_1/split_2/train/mask/_Image_03R_0.png (deflated 30%)\n",
            "  adding: chase_db_384_384_dice_bce_0_4__0_4_1/split_2/train/mask/_Image_05R_7.png (deflated 20%)\n",
            "  adding: chase_db_384_384_dice_bce_0_4__0_4_1/split_2/train/mask/_Image_08R_7.png (deflated 17%)\n",
            "  adding: chase_db_384_384_dice_bce_0_4__0_4_1/split_2/train/mask/_Image_09R_2.png (deflated 30%)\n",
            "  adding: chase_db_384_384_dice_bce_0_4__0_4_1/split_2/train/mask/_Image_09L_7.png (deflated 19%)\n",
            "  adding: chase_db_384_384_dice_bce_0_4__0_4_1/split_2/train/mask/_Image_08R_2.png (deflated 28%)\n",
            "  adding: chase_db_384_384_dice_bce_0_4__0_4_1/split_2/train/mask/_Image_02R_3.png (deflated 12%)\n",
            "  adding: chase_db_384_384_dice_bce_0_4__0_4_1/split_2/train/mask/_Image_14R_5.png (deflated 16%)\n",
            "  adding: chase_db_384_384_dice_bce_0_4__0_4_1/split_2/train/mask/_Image_01L_1.png (deflated 21%)\n",
            "  adding: chase_db_384_384_dice_bce_0_4__0_4_1/split_2/train/mask/_Image_06R_7.png (deflated 16%)\n",
            "  adding: chase_db_384_384_dice_bce_0_4__0_4_1/split_2/train/mask/_Image_08R_3.png (deflated 15%)\n",
            "  adding: chase_db_384_384_dice_bce_0_4__0_4_1/split_2/train/mask/_Image_04R_0.png (deflated 31%)\n",
            "  adding: chase_db_384_384_dice_bce_0_4__0_4_1/split_2/train/mask/_Image_03R_6.png (deflated 29%)\n",
            "  adding: chase_db_384_384_dice_bce_0_4__0_4_1/split_2/train/mask/_Image_03R_8.png (deflated 32%)\n",
            "  adding: chase_db_384_384_dice_bce_0_4__0_4_1/split_2/train/mask/_Image_09L_3.png (deflated 8%)\n",
            "  adding: chase_db_384_384_dice_bce_0_4__0_4_1/split_2/train/mask/_Image_07L_8.png (deflated 25%)\n",
            "  adding: chase_db_384_384_dice_bce_0_4__0_4_1/split_2/train/mask/_Image_03L_6.png (deflated 24%)\n",
            "  adding: chase_db_384_384_dice_bce_0_4__0_4_1/split_2/train/mask/_Image_09R_7.png (deflated 19%)\n",
            "  adding: chase_db_384_384_dice_bce_0_4__0_4_1/split_2/train/mask/_Image_04R_4.png (deflated 14%)\n",
            "  adding: chase_db_384_384_dice_bce_0_4__0_4_1/split_2/train/mask/_Image_04L_7.png (deflated 19%)\n",
            "  adding: chase_db_384_384_dice_bce_0_4__0_4_1/split_2/train/mask/_Image_10L_8.png (deflated 31%)\n",
            "  adding: chase_db_384_384_dice_bce_0_4__0_4_1/split_2/train/mask/_Image_02R_7.png (deflated 16%)\n",
            "  adding: chase_db_384_384_dice_bce_0_4__0_4_1/split_2/train/mask/_Image_07L_7.png (deflated 18%)\n",
            "  adding: chase_db_384_384_dice_bce_0_4__0_4_1/split_2/train/mask/_Image_14L_4.png (deflated 14%)\n",
            "  adding: chase_db_384_384_dice_bce_0_4__0_4_1/split_2/train/mask/_Image_13R_0.png (deflated 26%)\n",
            "  adding: chase_db_384_384_dice_bce_0_4__0_4_1/split_2/train/mask/_Image_07L_6.png (deflated 26%)\n",
            "  adding: chase_db_384_384_dice_bce_0_4__0_4_1/split_2/train/mask/_Image_07R_5.png (deflated 13%)\n",
            "  adding: chase_db_384_384_dice_bce_0_4__0_4_1/split_2/train/mask/_Image_13R_8.png (deflated 34%)\n",
            "  adding: chase_db_384_384_dice_bce_0_4__0_4_1/split_2/train/mask/_Image_14R_4.png (deflated 16%)\n",
            "  adding: chase_db_384_384_dice_bce_0_4__0_4_1/split_2/train/mask/_Image_04L_6.png (deflated 22%)\n",
            "  adding: chase_db_384_384_dice_bce_0_4__0_4_1/split_2/train/mask/_Image_02R_2.png (deflated 28%)\n",
            "  adding: chase_db_384_384_dice_bce_0_4__0_4_1/split_2/train/mask/_Image_09R_3.png (deflated 31%)\n",
            "  adding: chase_db_384_384_dice_bce_0_4__0_4_1/split_2/train/mask/_Image_06R_4.png (deflated 15%)\n",
            "  adding: chase_db_384_384_dice_bce_0_4__0_4_1/split_2/train/mask/_Image_05L_8.png (deflated 28%)\n",
            "  adding: chase_db_384_384_dice_bce_0_4__0_4_1/split_2/train/mask/_Image_07R_2.png (deflated 34%)\n",
            "  adding: chase_db_384_384_dice_bce_0_4__0_4_1/split_2/train/mask/_Image_09R_5.png (deflated 15%)\n",
            "  adding: chase_db_384_384_dice_bce_0_4__0_4_1/split_2/train/mask/_Image_04L_3.png (deflated 10%)\n",
            "  adding: chase_db_384_384_dice_bce_0_4__0_4_1/split_2/train/mask/_Image_04R_2.png (deflated 32%)\n",
            "  adding: chase_db_384_384_dice_bce_0_4__0_4_1/split_2/train/mask/_Image_10R_5.png (deflated 18%)\n",
            "  adding: chase_db_384_384_dice_bce_0_4__0_4_1/split_2/train/mask/_Image_01R_0.png (deflated 24%)\n",
            "  adding: chase_db_384_384_dice_bce_0_4__0_4_1/split_2/train/mask/_Image_01R_8.png (deflated 41%)\n",
            "  adding: chase_db_384_384_dice_bce_0_4__0_4_1/split_2/train/mask/_Image_04L_1.png (deflated 23%)\n",
            "  adding: chase_db_384_384_dice_bce_0_4__0_4_1/split_2/train/mask/_Image_05R_3.png (deflated 16%)\n",
            "  adding: chase_db_384_384_dice_bce_0_4__0_4_1/split_2/train/mask/_Image_07R_8.png (deflated 29%)\n",
            "  adding: chase_db_384_384_dice_bce_0_4__0_4_1/split_2/train/mask/_Image_04L_5.png (deflated 14%)\n",
            "  adding: chase_db_384_384_dice_bce_0_4__0_4_1/split_2/train/mask/_Image_10R_8.png (deflated 36%)\n",
            "  adding: chase_db_384_384_dice_bce_0_4__0_4_1/split_2/train/mask/_Image_01L_0.png (deflated 23%)\n",
            "  adding: chase_db_384_384_dice_bce_0_4__0_4_1/split_2/train/mask/_Image_07L_4.png (deflated 11%)\n",
            "  adding: chase_db_384_384_dice_bce_0_4__0_4_1/split_2/train/mask/_Image_06L_7.png (deflated 22%)\n",
            "  adding: chase_db_384_384_dice_bce_0_4__0_4_1/split_2/train/mask/_Image_14R_3.png (deflated 17%)\n",
            "  adding: chase_db_384_384_dice_bce_0_4__0_4_1/split_2/train/mask/_Image_03L_4.png (deflated 15%)\n",
            "  adding: chase_db_384_384_dice_bce_0_4__0_4_1/split_2/train/mask/_Image_01R_1.png (deflated 21%)\n",
            "  adding: chase_db_384_384_dice_bce_0_4__0_4_1/split_2/train/mask/_Image_04R_1.png (deflated 21%)\n",
            "  adding: chase_db_384_384_dice_bce_0_4__0_4_1/split_2/train/mask/_Image_04R_8.png (deflated 45%)\n",
            "  adding: chase_db_384_384_dice_bce_0_4__0_4_1/split_2/train/mask/_Image_13R_1.png (deflated 22%)\n",
            "  adding: chase_db_384_384_dice_bce_0_4__0_4_1/split_2/train/mask/_Image_03L_8.png (deflated 24%)\n",
            "  adding: chase_db_384_384_dice_bce_0_4__0_4_1/split_2/train/mask/_Image_14L_2.png (deflated 36%)\n",
            "  adding: chase_db_384_384_dice_bce_0_4__0_4_1/split_2/train/mask/_Image_09L_8.png (deflated 24%)\n",
            "  adding: chase_db_384_384_dice_bce_0_4__0_4_1/split_2/train/mask/_Image_13R_2.png (deflated 25%)\n",
            "  adding: chase_db_384_384_dice_bce_0_4__0_4_1/split_2/train/mask/_Image_09R_8.png (deflated 34%)\n",
            "  adding: chase_db_384_384_dice_bce_0_4__0_4_1/split_2/train/mask/_Image_08L_1.png (deflated 24%)\n",
            "  adding: chase_db_384_384_dice_bce_0_4__0_4_1/split_2/train/mask/_Image_02R_8.png (deflated 30%)\n",
            "  adding: chase_db_384_384_dice_bce_0_4__0_4_1/split_2/train/mask/_Image_02R_6.png (deflated 29%)\n",
            "  adding: chase_db_384_384_dice_bce_0_4__0_4_1/split_2/train/mask/_Image_06L_3.png (deflated 11%)\n",
            "  adding: chase_db_384_384_dice_bce_0_4__0_4_1/split_2/train/mask/_Image_02R_0.png (deflated 26%)\n",
            "  adding: chase_db_384_384_dice_bce_0_4__0_4_1/split_2/train/mask/_Image_10L_1.png (deflated 16%)\n",
            "  adding: chase_db_384_384_dice_bce_0_4__0_4_1/split_2/train/mask/_Image_10L_5.png (deflated 11%)\n",
            "  adding: chase_db_384_384_dice_bce_0_4__0_4_1/split_2/train/mask/_Image_10R_0.png (deflated 25%)\n",
            "  adding: chase_db_384_384_dice_bce_0_4__0_4_1/split_2/train/mask/_Image_07R_6.png (deflated 21%)\n",
            "  adding: chase_db_384_384_dice_bce_0_4__0_4_1/split_2/train/mask/_Image_09L_6.png (deflated 42%)\n",
            "  adding: chase_db_384_384_dice_bce_0_4__0_4_1/split_2/train/mask/_Image_10R_7.png (deflated 18%)\n",
            "  adding: chase_db_384_384_dice_bce_0_4__0_4_1/split_2/train/mask/_Image_10L_0.png (deflated 35%)\n",
            "  adding: chase_db_384_384_dice_bce_0_4__0_4_1/split_2/train/mask/_Image_14R_2.png (deflated 32%)\n",
            "  adding: chase_db_384_384_dice_bce_0_4__0_4_1/split_2/train/mask/_Image_13R_4.png (deflated 14%)\n",
            "  adding: chase_db_384_384_dice_bce_0_4__0_4_1/split_2/train/mask/_Image_03R_5.png (deflated 14%)\n",
            "  adding: chase_db_384_384_dice_bce_0_4__0_4_1/split_2/train/mask/_Image_06R_5.png (deflated 16%)\n",
            "  adding: chase_db_384_384_dice_bce_0_4__0_4_1/split_2/train/mask/_Image_07R_7.png (deflated 15%)\n",
            "  adding: chase_db_384_384_dice_bce_0_4__0_4_1/split_2/train/mask/_Image_14R_8.png (deflated 37%)\n",
            "  adding: chase_db_384_384_dice_bce_0_4__0_4_1/split_2/train/mask/_Image_06R_1.png (deflated 21%)\n",
            "  adding: chase_db_384_384_dice_bce_0_4__0_4_1/split_2/train/mask/_Image_01R_7.png (deflated 17%)\n",
            "  adding: chase_db_384_384_dice_bce_0_4__0_4_1/split_2/train/mask/_Image_08R_4.png (deflated 12%)\n",
            "  adding: chase_db_384_384_dice_bce_0_4__0_4_1/split_2/train/mask/_Image_01L_6.png (deflated 22%)\n",
            "  adding: chase_db_384_384_dice_bce_0_4__0_4_1/split_2/train/mask/_Image_14L_7.png (deflated 27%)\n",
            "  adding: chase_db_384_384_dice_bce_0_4__0_4_1/split_2/train/mask/_Image_02L_6.png (deflated 35%)\n",
            "  adding: chase_db_384_384_dice_bce_0_4__0_4_1/split_2/train/mask/_Image_06L_6.png (deflated 21%)\n",
            "  adding: chase_db_384_384_dice_bce_0_4__0_4_1/split_2/train/mask/_Image_10R_6.png (deflated 25%)\n",
            "  adding: chase_db_384_384_dice_bce_0_4__0_4_1/split_2/train/mask/_Image_07L_1.png (deflated 21%)\n",
            "  adding: chase_db_384_384_dice_bce_0_4__0_4_1/split_2/train/mask/_Image_09L_5.png (deflated 19%)\n",
            "  adding: chase_db_384_384_dice_bce_0_4__0_4_1/split_2/train/mask/_Image_01L_5.png (deflated 9%)\n",
            "  adding: chase_db_384_384_dice_bce_0_4__0_4_1/split_2/train/mask/_Image_03L_1.png (deflated 20%)\n",
            "  adding: chase_db_384_384_dice_bce_0_4__0_4_1/split_2/train/mask/_Image_01R_2.png (deflated 31%)\n",
            "  adding: chase_db_384_384_dice_bce_0_4__0_4_1/split_2/train/mask/_Image_05R_0.png (deflated 25%)\n",
            "  adding: chase_db_384_384_dice_bce_0_4__0_4_1/split_2/train/mask/_Image_03R_2.png (deflated 25%)\n",
            "  adding: chase_db_384_384_dice_bce_0_4__0_4_1/split_2/train/mask/_Image_01L_4.png (deflated 12%)\n",
            "  adding: chase_db_384_384_dice_bce_0_4__0_4_1/split_2/train/mask/_Image_02R_4.png (deflated 13%)\n",
            "  adding: chase_db_384_384_dice_bce_0_4__0_4_1/split_2/train/mask/_Image_03L_7.png (deflated 15%)\n",
            "  adding: chase_db_384_384_dice_bce_0_4__0_4_1/split_2/train/mask/_Image_06R_3.png (deflated 11%)\n",
            "  adding: chase_db_384_384_dice_bce_0_4__0_4_1/split_2/train/mask/_Image_06R_8.png (deflated 34%)\n",
            "  adding: chase_db_384_384_dice_bce_0_4__0_4_1/split_2/train/mask/_Image_14L_6.png (deflated 30%)\n",
            "  adding: chase_db_384_384_dice_bce_0_4__0_4_1/split_2/train/mask/_Image_10R_2.png (deflated 34%)\n",
            "  adding: chase_db_384_384_dice_bce_0_4__0_4_1/split_2/train/mask/_Image_01L_3.png (deflated 20%)\n",
            "  adding: chase_db_384_384_dice_bce_0_4__0_4_1/split_2/train/mask/_Image_09R_1.png (deflated 24%)\n",
            "  adding: chase_db_384_384_dice_bce_0_4__0_4_1/split_2/train/mask/_Image_05L_0.png (deflated 23%)\n",
            "  adding: chase_db_384_384_dice_bce_0_4__0_4_1/split_2/train/mask/_Image_06L_8.png (deflated 30%)\n",
            "  adding: chase_db_384_384_dice_bce_0_4__0_4_1/split_2/train/mask/_Image_08R_5.png (deflated 10%)\n",
            "  adding: chase_db_384_384_dice_bce_0_4__0_4_1/split_2/train/mask/_Image_08L_8.png (deflated 28%)\n",
            "  adding: chase_db_384_384_dice_bce_0_4__0_4_1/split_2/train/mask/_Image_14R_6.png (deflated 74%)\n",
            "  adding: chase_db_384_384_dice_bce_0_4__0_4_1/split_2/train/mask/_Image_01L_7.png (deflated 20%)\n",
            "  adding: chase_db_384_384_dice_bce_0_4__0_4_1/split_2/train/mask/_Image_09L_0.png (deflated 28%)\n",
            "  adding: chase_db_384_384_dice_bce_0_4__0_4_1/split_2/train/mask/_Image_06L_5.png (deflated 12%)\n",
            "  adding: chase_db_384_384_dice_bce_0_4__0_4_1/split_2/train/mask/_Image_10L_6.png (deflated 29%)\n",
            "  adding: chase_db_384_384_dice_bce_0_4__0_4_1/split_2/train/mask/_Image_08L_2.png (deflated 30%)\n",
            "  adding: chase_db_384_384_dice_bce_0_4__0_4_1/split_2/train/mask/_Image_06L_4.png (deflated 12%)\n",
            "  adding: chase_db_384_384_dice_bce_0_4__0_4_1/split_2/train/mask/_Image_06L_2.png (deflated 29%)\n",
            "  adding: chase_db_384_384_dice_bce_0_4__0_4_1/split_2/train/mask/_Image_06R_0.png (deflated 26%)\n",
            "  adding: chase_db_384_384_dice_bce_0_4__0_4_1/split_2/train/mask/_Image_05L_2.png (deflated 22%)\n",
            "  adding: chase_db_384_384_dice_bce_0_4__0_4_1/split_2/train/mask/_Image_05R_8.png (deflated 29%)\n",
            "  adding: chase_db_384_384_dice_bce_0_4__0_4_1/split_2/train/mask/_Image_01R_3.png (deflated 12%)\n",
            "  adding: chase_db_384_384_dice_bce_0_4__0_4_1/split_2/train/mask/_Image_07R_0.png (deflated 43%)\n",
            "  adding: chase_db_384_384_dice_bce_0_4__0_4_1/split_2/train/mask/_Image_14L_5.png (deflated 10%)\n",
            "  adding: chase_db_384_384_dice_bce_0_4__0_4_1/split_2/train/mask/_Image_05L_4.png (deflated 14%)\n",
            "  adding: chase_db_384_384_dice_bce_0_4__0_4_1/split_2/train/mask/_Image_03R_1.png (deflated 18%)\n",
            "  adding: chase_db_384_384_dice_bce_0_4__0_4_1/split_2/train/mask/_Image_08L_0.png (deflated 29%)\n",
            "  adding: chase_db_384_384_dice_bce_0_4__0_4_1/split_2/train/mask/_Image_03L_5.png (deflated 12%)\n",
            "  adding: chase_db_384_384_dice_bce_0_4__0_4_1/split_2/train/mask/_Image_06R_6.png (deflated 41%)\n",
            "  adding: chase_db_384_384_dice_bce_0_4__0_4_1/split_2/train/image/ (stored 0%)\n",
            "  adding: chase_db_384_384_dice_bce_0_4__0_4_1/split_2/train/image/_Image_05R_1.png (deflated 3%)\n",
            "  adding: chase_db_384_384_dice_bce_0_4__0_4_1/split_2/train/image/_Image_14L_3.png (deflated 2%)\n",
            "  adding: chase_db_384_384_dice_bce_0_4__0_4_1/split_2/train/image/_Image_09R_6.png (deflated 3%)\n",
            "  adding: chase_db_384_384_dice_bce_0_4__0_4_1/split_2/train/image/_Image_04L_0.png (deflated 4%)\n",
            "  adding: chase_db_384_384_dice_bce_0_4__0_4_1/split_2/train/image/_Image_03L_0.png (deflated 3%)\n",
            "  adding: chase_db_384_384_dice_bce_0_4__0_4_1/split_2/train/image/_Image_07R_3.png (deflated 2%)\n",
            "  adding: chase_db_384_384_dice_bce_0_4__0_4_1/split_2/train/image/_Image_10R_4.png (deflated 1%)\n",
            "  adding: chase_db_384_384_dice_bce_0_4__0_4_1/split_2/train/image/_Image_10L_2.png (deflated 4%)\n",
            "  adding: chase_db_384_384_dice_bce_0_4__0_4_1/split_2/train/image/_Image_13R_7.png (deflated 6%)\n",
            "  adding: chase_db_384_384_dice_bce_0_4__0_4_1/split_2/train/image/_Image_02L_0.png (deflated 4%)\n",
            "  adding: chase_db_384_384_dice_bce_0_4__0_4_1/split_2/train/image/_Image_02L_4.png (deflated 2%)\n",
            "  adding: chase_db_384_384_dice_bce_0_4__0_4_1/split_2/train/image/_Image_08L_3.png (deflated 3%)\n",
            "  adding: chase_db_384_384_dice_bce_0_4__0_4_1/split_2/train/image/_Image_02L_5.png (deflated 3%)\n",
            "  adding: chase_db_384_384_dice_bce_0_4__0_4_1/split_2/train/image/_Image_02R_1.png (deflated 4%)\n",
            "  adding: chase_db_384_384_dice_bce_0_4__0_4_1/split_2/train/image/_Image_10R_3.png (deflated 4%)\n",
            "  adding: chase_db_384_384_dice_bce_0_4__0_4_1/split_2/train/image/_Image_14R_1.png (deflated 4%)\n",
            "  adding: chase_db_384_384_dice_bce_0_4__0_4_1/split_2/train/image/_Image_08R_8.png (deflated 5%)\n",
            "  adding: chase_db_384_384_dice_bce_0_4__0_4_1/split_2/train/image/_Image_08R_1.png (deflated 5%)\n",
            "  adding: chase_db_384_384_dice_bce_0_4__0_4_1/split_2/train/image/_Image_06R_2.png (deflated 5%)\n",
            "  adding: chase_db_384_384_dice_bce_0_4__0_4_1/split_2/train/image/_Image_04R_7.png (deflated 3%)\n",
            "  adding: chase_db_384_384_dice_bce_0_4__0_4_1/split_2/train/image/_Image_09R_0.png (deflated 3%)\n",
            "  adding: chase_db_384_384_dice_bce_0_4__0_4_1/split_2/train/image/_Image_10L_4.png (deflated 1%)\n",
            "  adding: chase_db_384_384_dice_bce_0_4__0_4_1/split_2/train/image/_Image_04R_5.png (deflated 3%)\n",
            "  adding: chase_db_384_384_dice_bce_0_4__0_4_1/split_2/train/image/_Image_13R_6.png (deflated 9%)\n",
            "  adding: chase_db_384_384_dice_bce_0_4__0_4_1/split_2/train/image/_Image_06L_0.png (deflated 4%)\n",
            "  adding: chase_db_384_384_dice_bce_0_4__0_4_1/split_2/train/image/_Image_01R_4.png (deflated 1%)\n",
            "  adding: chase_db_384_384_dice_bce_0_4__0_4_1/split_2/train/image/_Image_14L_8.png (deflated 3%)\n",
            "  adding: chase_db_384_384_dice_bce_0_4__0_4_1/split_2/train/image/_Image_05L_1.png (deflated 3%)\n",
            "  adding: chase_db_384_384_dice_bce_0_4__0_4_1/split_2/train/image/_Image_09L_1.png (deflated 3%)\n",
            "  adding: chase_db_384_384_dice_bce_0_4__0_4_1/split_2/train/image/_Image_02L_7.png (deflated 2%)\n",
            "  adding: chase_db_384_384_dice_bce_0_4__0_4_1/split_2/train/image/_Image_06L_1.png (deflated 5%)\n",
            "  adding: chase_db_384_384_dice_bce_0_4__0_4_1/split_2/train/image/_Image_03R_4.png (deflated 1%)\n",
            "  adding: chase_db_384_384_dice_bce_0_4__0_4_1/split_2/train/image/_Image_01L_8.png (deflated 4%)\n",
            "  adding: chase_db_384_384_dice_bce_0_4__0_4_1/split_2/train/image/_Image_01R_5.png (deflated 2%)\n",
            "  adding: chase_db_384_384_dice_bce_0_4__0_4_1/split_2/train/image/_Image_14L_0.png (deflated 3%)\n",
            "  adding: chase_db_384_384_dice_bce_0_4__0_4_1/split_2/train/image/_Image_05L_3.png (deflated 3%)\n",
            "  adding: chase_db_384_384_dice_bce_0_4__0_4_1/split_2/train/image/_Image_08L_6.png (deflated 5%)\n",
            "  adding: chase_db_384_384_dice_bce_0_4__0_4_1/split_2/train/image/_Image_13R_5.png (deflated 6%)\n",
            "  adding: chase_db_384_384_dice_bce_0_4__0_4_1/split_2/train/image/_Image_07L_2.png (deflated 4%)\n",
            "  adding: chase_db_384_384_dice_bce_0_4__0_4_1/split_2/train/image/_Image_02L_1.png (deflated 4%)\n",
            "  adding: chase_db_384_384_dice_bce_0_4__0_4_1/split_2/train/image/_Image_05R_2.png (deflated 3%)\n",
            "  adding: chase_db_384_384_dice_bce_0_4__0_4_1/split_2/train/image/_Image_07L_5.png (deflated 3%)\n",
            "  adding: chase_db_384_384_dice_bce_0_4__0_4_1/split_2/train/image/_Image_14L_1.png (deflated 3%)\n",
            "  adding: chase_db_384_384_dice_bce_0_4__0_4_1/split_2/train/image/_Image_05L_7.png (deflated 3%)\n",
            "  adding: chase_db_384_384_dice_bce_0_4__0_4_1/split_2/train/image/_Image_10R_1.png (deflated 3%)\n",
            "  adding: chase_db_384_384_dice_bce_0_4__0_4_1/split_2/train/image/_Image_08L_7.png (deflated 4%)\n",
            "  adding: chase_db_384_384_dice_bce_0_4__0_4_1/split_2/train/image/_Image_05L_5.png (deflated 3%)\n",
            "  adding: chase_db_384_384_dice_bce_0_4__0_4_1/split_2/train/image/_Image_07L_3.png (deflated 4%)\n",
            "  adding: chase_db_384_384_dice_bce_0_4__0_4_1/split_2/train/image/_Image_04R_3.png (deflated 3%)\n",
            "  adding: chase_db_384_384_dice_bce_0_4__0_4_1/split_2/train/image/_Image_03R_7.png (deflated 2%)\n",
            "  adding: chase_db_384_384_dice_bce_0_4__0_4_1/split_2/train/image/_Image_04R_6.png (deflated 3%)\n",
            "  adding: chase_db_384_384_dice_bce_0_4__0_4_1/split_2/train/image/_Image_13R_3.png (deflated 10%)\n",
            "  adding: chase_db_384_384_dice_bce_0_4__0_4_1/split_2/train/image/_Image_08R_6.png (deflated 5%)\n",
            "  adding: chase_db_384_384_dice_bce_0_4__0_4_1/split_2/train/image/_Image_09L_4.png (deflated 2%)\n",
            "  adding: chase_db_384_384_dice_bce_0_4__0_4_1/split_2/train/image/_Image_02L_3.png (deflated 4%)\n",
            "  adding: chase_db_384_384_dice_bce_0_4__0_4_1/split_2/train/image/_Image_04L_2.png (deflated 4%)\n",
            "  adding: chase_db_384_384_dice_bce_0_4__0_4_1/split_2/train/image/_Image_09R_4.png (deflated 2%)\n",
            "  adding: chase_db_384_384_dice_bce_0_4__0_4_1/split_2/train/image/_Image_10L_7.png (deflated 2%)\n",
            "  adding: chase_db_384_384_dice_bce_0_4__0_4_1/split_2/train/image/_Image_01R_6.png (deflated 5%)\n",
            "  adding: chase_db_384_384_dice_bce_0_4__0_4_1/split_2/train/image/_Image_02R_5.png (deflated 3%)\n",
            "  adding: chase_db_384_384_dice_bce_0_4__0_4_1/split_2/train/image/_Image_07L_0.png (deflated 3%)\n",
            "  adding: chase_db_384_384_dice_bce_0_4__0_4_1/split_2/train/image/_Image_05R_5.png (deflated 3%)\n",
            "  adding: chase_db_384_384_dice_bce_0_4__0_4_1/split_2/train/image/_Image_09L_2.png (deflated 4%)\n",
            "  adding: chase_db_384_384_dice_bce_0_4__0_4_1/split_2/train/image/_Image_03L_3.png (deflated 2%)\n",
            "  adding: chase_db_384_384_dice_bce_0_4__0_4_1/split_2/train/image/_Image_04L_8.png (deflated 5%)\n",
            "  adding: chase_db_384_384_dice_bce_0_4__0_4_1/split_2/train/image/_Image_02L_8.png (deflated 4%)\n",
            "  adding: chase_db_384_384_dice_bce_0_4__0_4_1/split_2/train/image/_Image_03R_3.png (deflated 4%)\n",
            "  adding: chase_db_384_384_dice_bce_0_4__0_4_1/split_2/train/image/_Image_08L_4.png (deflated 2%)\n",
            "  adding: chase_db_384_384_dice_bce_0_4__0_4_1/split_2/train/image/_Image_10L_3.png (deflated 3%)\n",
            "  adding: chase_db_384_384_dice_bce_0_4__0_4_1/split_2/train/image/_Image_05L_6.png (deflated 3%)\n",
            "  adding: chase_db_384_384_dice_bce_0_4__0_4_1/split_2/train/image/_Image_01L_2.png (deflated 4%)\n",
            "  adding: chase_db_384_384_dice_bce_0_4__0_4_1/split_2/train/image/_Image_03L_2.png (deflated 3%)\n",
            "  adding: chase_db_384_384_dice_bce_0_4__0_4_1/split_2/train/image/_Image_08L_5.png (deflated 5%)\n",
            "  adding: chase_db_384_384_dice_bce_0_4__0_4_1/split_2/train/image/_Image_05R_4.png (deflated 1%)\n",
            "  adding: chase_db_384_384_dice_bce_0_4__0_4_1/split_2/train/image/_Image_04L_4.png (deflated 2%)\n",
            "  adding: chase_db_384_384_dice_bce_0_4__0_4_1/split_2/train/image/_Image_07R_4.png (deflated 2%)\n",
            "  adding: chase_db_384_384_dice_bce_0_4__0_4_1/split_2/train/image/_Image_05R_6.png (deflated 3%)\n",
            "  adding: chase_db_384_384_dice_bce_0_4__0_4_1/split_2/train/image/_Image_02L_2.png (deflated 3%)\n",
            "  adding: chase_db_384_384_dice_bce_0_4__0_4_1/split_2/train/image/_Image_14R_7.png (deflated 2%)\n",
            "  adding: chase_db_384_384_dice_bce_0_4__0_4_1/split_2/train/image/_Image_14R_0.png (deflated 5%)\n",
            "  adding: chase_db_384_384_dice_bce_0_4__0_4_1/split_2/train/image/_Image_08R_0.png (deflated 4%)\n",
            "  adding: chase_db_384_384_dice_bce_0_4__0_4_1/split_2/train/image/_Image_07R_1.png (deflated 3%)\n",
            "  adding: chase_db_384_384_dice_bce_0_4__0_4_1/split_2/train/image/_Image_03R_0.png (deflated 3%)\n",
            "  adding: chase_db_384_384_dice_bce_0_4__0_4_1/split_2/train/image/_Image_05R_7.png (deflated 2%)\n",
            "  adding: chase_db_384_384_dice_bce_0_4__0_4_1/split_2/train/image/_Image_08R_7.png (deflated 4%)\n",
            "  adding: chase_db_384_384_dice_bce_0_4__0_4_1/split_2/train/image/_Image_09R_2.png (deflated 6%)\n",
            "  adding: chase_db_384_384_dice_bce_0_4__0_4_1/split_2/train/image/_Image_09L_7.png (deflated 1%)\n",
            "  adding: chase_db_384_384_dice_bce_0_4__0_4_1/split_2/train/image/_Image_08R_2.png (deflated 5%)\n",
            "  adding: chase_db_384_384_dice_bce_0_4__0_4_1/split_2/train/image/_Image_02R_3.png (deflated 5%)\n",
            "  adding: chase_db_384_384_dice_bce_0_4__0_4_1/split_2/train/image/_Image_14R_5.png (deflated 2%)\n",
            "  adding: chase_db_384_384_dice_bce_0_4__0_4_1/split_2/train/image/_Image_01L_1.png (deflated 2%)\n",
            "  adding: chase_db_384_384_dice_bce_0_4__0_4_1/split_2/train/image/_Image_06R_7.png (deflated 2%)\n",
            "  adding: chase_db_384_384_dice_bce_0_4__0_4_1/split_2/train/image/_Image_08R_3.png (deflated 6%)\n",
            "  adding: chase_db_384_384_dice_bce_0_4__0_4_1/split_2/train/image/_Image_04R_0.png (deflated 4%)\n",
            "  adding: chase_db_384_384_dice_bce_0_4__0_4_1/split_2/train/image/_Image_03R_6.png (deflated 4%)\n",
            "  adding: chase_db_384_384_dice_bce_0_4__0_4_1/split_2/train/image/_Image_03R_8.png (deflated 3%)\n",
            "  adding: chase_db_384_384_dice_bce_0_4__0_4_1/split_2/train/image/_Image_09L_3.png (deflated 7%)\n",
            "  adding: chase_db_384_384_dice_bce_0_4__0_4_1/split_2/train/image/_Image_07L_8.png (deflated 3%)\n",
            "  adding: chase_db_384_384_dice_bce_0_4__0_4_1/split_2/train/image/_Image_03L_6.png (deflated 3%)\n",
            "  adding: chase_db_384_384_dice_bce_0_4__0_4_1/split_2/train/image/_Image_09R_7.png (deflated 1%)\n",
            "  adding: chase_db_384_384_dice_bce_0_4__0_4_1/split_2/train/image/_Image_04R_4.png (deflated 2%)\n",
            "  adding: chase_db_384_384_dice_bce_0_4__0_4_1/split_2/train/image/_Image_04L_7.png (deflated 2%)\n",
            "  adding: chase_db_384_384_dice_bce_0_4__0_4_1/split_2/train/image/_Image_10L_8.png (deflated 4%)\n",
            "  adding: chase_db_384_384_dice_bce_0_4__0_4_1/split_2/train/image/_Image_02R_7.png (deflated 2%)\n",
            "  adding: chase_db_384_384_dice_bce_0_4__0_4_1/split_2/train/image/_Image_07L_7.png (deflated 2%)\n",
            "  adding: chase_db_384_384_dice_bce_0_4__0_4_1/split_2/train/image/_Image_14L_4.png (deflated 2%)\n",
            "  adding: chase_db_384_384_dice_bce_0_4__0_4_1/split_2/train/image/_Image_13R_0.png (deflated 7%)\n",
            "  adding: chase_db_384_384_dice_bce_0_4__0_4_1/split_2/train/image/_Image_07L_6.png (deflated 4%)\n",
            "  adding: chase_db_384_384_dice_bce_0_4__0_4_1/split_2/train/image/_Image_07R_5.png (deflated 2%)\n",
            "  adding: chase_db_384_384_dice_bce_0_4__0_4_1/split_2/train/image/_Image_13R_8.png (deflated 8%)\n",
            "  adding: chase_db_384_384_dice_bce_0_4__0_4_1/split_2/train/image/_Image_14R_4.png (deflated 1%)\n",
            "  adding: chase_db_384_384_dice_bce_0_4__0_4_1/split_2/train/image/_Image_04L_6.png (deflated 3%)\n",
            "  adding: chase_db_384_384_dice_bce_0_4__0_4_1/split_2/train/image/_Image_02R_2.png (deflated 6%)\n",
            "  adding: chase_db_384_384_dice_bce_0_4__0_4_1/split_2/train/image/_Image_09R_3.png (deflated 3%)\n",
            "  adding: chase_db_384_384_dice_bce_0_4__0_4_1/split_2/train/image/_Image_06R_4.png (deflated 2%)\n",
            "  adding: chase_db_384_384_dice_bce_0_4__0_4_1/split_2/train/image/_Image_05L_8.png (deflated 3%)\n",
            "  adding: chase_db_384_384_dice_bce_0_4__0_4_1/split_2/train/image/_Image_07R_2.png (deflated 4%)\n",
            "  adding: chase_db_384_384_dice_bce_0_4__0_4_1/split_2/train/image/_Image_09R_5.png (deflated 7%)\n",
            "  adding: chase_db_384_384_dice_bce_0_4__0_4_1/split_2/train/image/_Image_04L_3.png (deflated 4%)\n",
            "  adding: chase_db_384_384_dice_bce_0_4__0_4_1/split_2/train/image/_Image_04R_2.png (deflated 3%)\n",
            "  adding: chase_db_384_384_dice_bce_0_4__0_4_1/split_2/train/image/_Image_10R_5.png (deflated 3%)\n",
            "  adding: chase_db_384_384_dice_bce_0_4__0_4_1/split_2/train/image/_Image_01R_0.png (deflated 4%)\n",
            "  adding: chase_db_384_384_dice_bce_0_4__0_4_1/split_2/train/image/_Image_01R_8.png (deflated 3%)\n",
            "  adding: chase_db_384_384_dice_bce_0_4__0_4_1/split_2/train/image/_Image_04L_1.png (deflated 4%)\n",
            "  adding: chase_db_384_384_dice_bce_0_4__0_4_1/split_2/train/image/_Image_05R_3.png (deflated 4%)\n",
            "  adding: chase_db_384_384_dice_bce_0_4__0_4_1/split_2/train/image/_Image_07R_8.png (deflated 3%)\n",
            "  adding: chase_db_384_384_dice_bce_0_4__0_4_1/split_2/train/image/_Image_04L_5.png (deflated 4%)\n",
            "  adding: chase_db_384_384_dice_bce_0_4__0_4_1/split_2/train/image/_Image_10R_8.png (deflated 4%)\n",
            "  adding: chase_db_384_384_dice_bce_0_4__0_4_1/split_2/train/image/_Image_01L_0.png (deflated 3%)\n",
            "  adding: chase_db_384_384_dice_bce_0_4__0_4_1/split_2/train/image/_Image_07L_4.png (deflated 2%)\n",
            "  adding: chase_db_384_384_dice_bce_0_4__0_4_1/split_2/train/image/_Image_06L_7.png (deflated 2%)\n",
            "  adding: chase_db_384_384_dice_bce_0_4__0_4_1/split_2/train/image/_Image_14R_3.png (deflated 4%)\n",
            "  adding: chase_db_384_384_dice_bce_0_4__0_4_1/split_2/train/image/_Image_03L_4.png (deflated 1%)\n",
            "  adding: chase_db_384_384_dice_bce_0_4__0_4_1/split_2/train/image/_Image_01R_1.png (deflated 3%)\n",
            "  adding: chase_db_384_384_dice_bce_0_4__0_4_1/split_2/train/image/_Image_04R_1.png (deflated 3%)\n",
            "  adding: chase_db_384_384_dice_bce_0_4__0_4_1/split_2/train/image/_Image_04R_8.png (deflated 4%)\n",
            "  adding: chase_db_384_384_dice_bce_0_4__0_4_1/split_2/train/image/_Image_13R_1.png (deflated 7%)\n",
            "  adding: chase_db_384_384_dice_bce_0_4__0_4_1/split_2/train/image/_Image_03L_8.png (deflated 3%)\n",
            "  adding: chase_db_384_384_dice_bce_0_4__0_4_1/split_2/train/image/_Image_14L_2.png (deflated 3%)\n",
            "  adding: chase_db_384_384_dice_bce_0_4__0_4_1/split_2/train/image/_Image_09L_8.png (deflated 4%)\n",
            "  adding: chase_db_384_384_dice_bce_0_4__0_4_1/split_2/train/image/_Image_13R_2.png (deflated 6%)\n",
            "  adding: chase_db_384_384_dice_bce_0_4__0_4_1/split_2/train/image/_Image_09R_8.png (deflated 4%)\n",
            "  adding: chase_db_384_384_dice_bce_0_4__0_4_1/split_2/train/image/_Image_08L_1.png (deflated 5%)\n",
            "  adding: chase_db_384_384_dice_bce_0_4__0_4_1/split_2/train/image/_Image_02R_8.png (deflated 3%)\n",
            "  adding: chase_db_384_384_dice_bce_0_4__0_4_1/split_2/train/image/_Image_02R_6.png (deflated 4%)\n",
            "  adding: chase_db_384_384_dice_bce_0_4__0_4_1/split_2/train/image/_Image_06L_3.png (deflated 3%)\n",
            "  adding: chase_db_384_384_dice_bce_0_4__0_4_1/split_2/train/image/_Image_02R_0.png (deflated 4%)\n",
            "  adding: chase_db_384_384_dice_bce_0_4__0_4_1/split_2/train/image/_Image_10L_1.png (deflated 5%)\n",
            "  adding: chase_db_384_384_dice_bce_0_4__0_4_1/split_2/train/image/_Image_10L_5.png (deflated 5%)\n",
            "  adding: chase_db_384_384_dice_bce_0_4__0_4_1/split_2/train/image/_Image_10R_0.png (deflated 4%)\n",
            "  adding: chase_db_384_384_dice_bce_0_4__0_4_1/split_2/train/image/_Image_07R_6.png (deflated 4%)\n",
            "  adding: chase_db_384_384_dice_bce_0_4__0_4_1/split_2/train/image/_Image_09L_6.png (deflated 5%)\n",
            "  adding: chase_db_384_384_dice_bce_0_4__0_4_1/split_2/train/image/_Image_10R_7.png (deflated 2%)\n",
            "  adding: chase_db_384_384_dice_bce_0_4__0_4_1/split_2/train/image/_Image_10L_0.png (deflated 5%)\n",
            "  adding: chase_db_384_384_dice_bce_0_4__0_4_1/split_2/train/image/_Image_14R_2.png (deflated 4%)\n",
            "  adding: chase_db_384_384_dice_bce_0_4__0_4_1/split_2/train/image/_Image_13R_4.png (deflated 3%)\n",
            "  adding: chase_db_384_384_dice_bce_0_4__0_4_1/split_2/train/image/_Image_03R_5.png (deflated 2%)\n",
            "  adding: chase_db_384_384_dice_bce_0_4__0_4_1/split_2/train/image/_Image_06R_5.png (deflated 3%)\n",
            "  adding: chase_db_384_384_dice_bce_0_4__0_4_1/split_2/train/image/_Image_07R_7.png (deflated 2%)\n",
            "  adding: chase_db_384_384_dice_bce_0_4__0_4_1/split_2/train/image/_Image_14R_8.png (deflated 3%)\n",
            "  adding: chase_db_384_384_dice_bce_0_4__0_4_1/split_2/train/image/_Image_06R_1.png (deflated 4%)\n",
            "  adding: chase_db_384_384_dice_bce_0_4__0_4_1/split_2/train/image/_Image_01R_7.png (deflated 2%)\n",
            "  adding: chase_db_384_384_dice_bce_0_4__0_4_1/split_2/train/image/_Image_08R_4.png (deflated 2%)\n",
            "  adding: chase_db_384_384_dice_bce_0_4__0_4_1/split_2/train/image/_Image_01L_6.png (deflated 3%)\n",
            "  adding: chase_db_384_384_dice_bce_0_4__0_4_1/split_2/train/image/_Image_14L_7.png (deflated 3%)\n",
            "  adding: chase_db_384_384_dice_bce_0_4__0_4_1/split_2/train/image/_Image_02L_6.png (deflated 5%)\n",
            "  adding: chase_db_384_384_dice_bce_0_4__0_4_1/split_2/train/image/_Image_06L_6.png (deflated 3%)\n",
            "  adding: chase_db_384_384_dice_bce_0_4__0_4_1/split_2/train/image/_Image_10R_6.png (deflated 4%)\n",
            "  adding: chase_db_384_384_dice_bce_0_4__0_4_1/split_2/train/image/_Image_07L_1.png (deflated 4%)\n",
            "  adding: chase_db_384_384_dice_bce_0_4__0_4_1/split_2/train/image/_Image_09L_5.png (deflated 3%)\n",
            "  adding: chase_db_384_384_dice_bce_0_4__0_4_1/split_2/train/image/_Image_01L_5.png (deflated 5%)\n",
            "  adding: chase_db_384_384_dice_bce_0_4__0_4_1/split_2/train/image/_Image_03L_1.png (deflated 3%)\n",
            "  adding: chase_db_384_384_dice_bce_0_4__0_4_1/split_2/train/image/_Image_01R_2.png (deflated 5%)\n",
            "  adding: chase_db_384_384_dice_bce_0_4__0_4_1/split_2/train/image/_Image_05R_0.png (deflated 3%)\n",
            "  adding: chase_db_384_384_dice_bce_0_4__0_4_1/split_2/train/image/_Image_03R_2.png (deflated 5%)\n",
            "  adding: chase_db_384_384_dice_bce_0_4__0_4_1/split_2/train/image/_Image_01L_4.png (deflated 1%)\n",
            "  adding: chase_db_384_384_dice_bce_0_4__0_4_1/split_2/train/image/_Image_02R_4.png (deflated 2%)\n",
            "  adding: chase_db_384_384_dice_bce_0_4__0_4_1/split_2/train/image/_Image_03L_7.png (deflated 2%)\n",
            "  adding: chase_db_384_384_dice_bce_0_4__0_4_1/split_2/train/image/_Image_06R_3.png (deflated 6%)\n",
            "  adding: chase_db_384_384_dice_bce_0_4__0_4_1/split_2/train/image/_Image_06R_8.png (deflated 3%)\n",
            "  adding: chase_db_384_384_dice_bce_0_4__0_4_1/split_2/train/image/_Image_14L_6.png (deflated 2%)\n",
            "  adding: chase_db_384_384_dice_bce_0_4__0_4_1/split_2/train/image/_Image_10R_2.png (deflated 5%)\n",
            "  adding: chase_db_384_384_dice_bce_0_4__0_4_1/split_2/train/image/_Image_01L_3.png (deflated 2%)\n",
            "  adding: chase_db_384_384_dice_bce_0_4__0_4_1/split_2/train/image/_Image_09R_1.png (deflated 3%)\n",
            "  adding: chase_db_384_384_dice_bce_0_4__0_4_1/split_2/train/image/_Image_05L_0.png (deflated 3%)\n",
            "  adding: chase_db_384_384_dice_bce_0_4__0_4_1/split_2/train/image/_Image_06L_8.png (deflated 4%)\n",
            "  adding: chase_db_384_384_dice_bce_0_4__0_4_1/split_2/train/image/_Image_08R_5.png (deflated 4%)\n",
            "  adding: chase_db_384_384_dice_bce_0_4__0_4_1/split_2/train/image/_Image_08L_8.png (deflated 5%)\n",
            "  adding: chase_db_384_384_dice_bce_0_4__0_4_1/split_2/train/image/_Image_14R_6.png (deflated 4%)\n",
            "  adding: chase_db_384_384_dice_bce_0_4__0_4_1/split_2/train/image/_Image_01L_7.png (deflated 1%)\n",
            "  adding: chase_db_384_384_dice_bce_0_4__0_4_1/split_2/train/image/_Image_09L_0.png (deflated 6%)\n",
            "  adding: chase_db_384_384_dice_bce_0_4__0_4_1/split_2/train/image/_Image_06L_5.png (deflated 4%)\n",
            "  adding: chase_db_384_384_dice_bce_0_4__0_4_1/split_2/train/image/_Image_10L_6.png (deflated 4%)\n",
            "  adding: chase_db_384_384_dice_bce_0_4__0_4_1/split_2/train/image/_Image_08L_2.png (deflated 4%)\n",
            "  adding: chase_db_384_384_dice_bce_0_4__0_4_1/split_2/train/image/_Image_06L_4.png (deflated 2%)\n",
            "  adding: chase_db_384_384_dice_bce_0_4__0_4_1/split_2/train/image/_Image_06L_2.png (deflated 5%)\n",
            "  adding: chase_db_384_384_dice_bce_0_4__0_4_1/split_2/train/image/_Image_06R_0.png (deflated 3%)\n",
            "  adding: chase_db_384_384_dice_bce_0_4__0_4_1/split_2/train/image/_Image_05L_2.png (deflated 3%)\n",
            "  adding: chase_db_384_384_dice_bce_0_4__0_4_1/split_2/train/image/_Image_05R_8.png (deflated 3%)\n",
            "  adding: chase_db_384_384_dice_bce_0_4__0_4_1/split_2/train/image/_Image_01R_3.png (deflated 5%)\n",
            "  adding: chase_db_384_384_dice_bce_0_4__0_4_1/split_2/train/image/_Image_07R_0.png (deflated 3%)\n",
            "  adding: chase_db_384_384_dice_bce_0_4__0_4_1/split_2/train/image/_Image_14L_5.png (deflated 3%)\n",
            "  adding: chase_db_384_384_dice_bce_0_4__0_4_1/split_2/train/image/_Image_05L_4.png (deflated 2%)\n",
            "  adding: chase_db_384_384_dice_bce_0_4__0_4_1/split_2/train/image/_Image_03R_1.png (deflated 3%)\n",
            "  adding: chase_db_384_384_dice_bce_0_4__0_4_1/split_2/train/image/_Image_08L_0.png (deflated 6%)\n",
            "  adding: chase_db_384_384_dice_bce_0_4__0_4_1/split_2/train/image/_Image_03L_5.png (deflated 3%)\n",
            "  adding: chase_db_384_384_dice_bce_0_4__0_4_1/split_2/train/image/_Image_06R_6.png (deflated 4%)\n",
            "  adding: chase_db_384_384_dice_bce_0_4__0_4_1/split_2/image_patches_384_384_train.csv (deflated 94%)\n",
            "  adding: chase_db_384_384_dice_bce_0_4__0_4_1/results_reconstructed/ (stored 0%)\n",
            "  adding: chase_db_384_384_dice_bce_0_4__0_4_1/results/ (stored 0%)\n",
            "  adding: chase_db_384_384_dice_bce_0_4__0_4_1/results/_Image_11R_3.png (deflated 5%)\n",
            "  adding: chase_db_384_384_dice_bce_0_4__0_4_1/results/_Image_12R_1.png (deflated 7%)\n",
            "  adding: chase_db_384_384_dice_bce_0_4__0_4_1/results/_Image_11L_6.png (deflated 11%)\n",
            "  adding: chase_db_384_384_dice_bce_0_4__0_4_1/results/score_full_0_5.csv (deflated 61%)\n",
            "  adding: chase_db_384_384_dice_bce_0_4__0_4_1/results/_Image_11R_0.png (deflated 11%)\n",
            "  adding: chase_db_384_384_dice_bce_0_4__0_4_1/results/_Image_11L_2.png (deflated 12%)\n",
            "  adding: chase_db_384_384_dice_bce_0_4__0_4_1/results/_Image_13L_3.png (deflated 10%)\n",
            "  adding: chase_db_384_384_dice_bce_0_4__0_4_1/results/_Image_11R_8.png (deflated 11%)\n",
            "  adding: chase_db_384_384_dice_bce_0_4__0_4_1/results/_Image_12L_7.png (deflated 5%)\n",
            "  adding: chase_db_384_384_dice_bce_0_4__0_4_1/results/_Image_11L_1.png (deflated 6%)\n",
            "  adding: chase_db_384_384_dice_bce_0_4__0_4_1/results/_Image_13L_8.png (deflated 15%)\n",
            "  adding: chase_db_384_384_dice_bce_0_4__0_4_1/results/score_full_0_4.csv (deflated 61%)\n",
            "  adding: chase_db_384_384_dice_bce_0_4__0_4_1/results/_Image_12R_2.png (deflated 11%)\n",
            "  adding: chase_db_384_384_dice_bce_0_4__0_4_1/results/_Image_12L_3.png (deflated 5%)\n",
            "  adding: chase_db_384_384_dice_bce_0_4__0_4_1/results/_Image_12R_4.png (deflated 4%)\n",
            "  adding: chase_db_384_384_dice_bce_0_4__0_4_1/results/score.csv (deflated 61%)\n",
            "  adding: chase_db_384_384_dice_bce_0_4__0_4_1/results/_Image_13L_0.png (deflated 13%)\n",
            "  adding: chase_db_384_384_dice_bce_0_4__0_4_1/results/_Image_11R_1.png (deflated 7%)\n",
            "  adding: chase_db_384_384_dice_bce_0_4__0_4_1/results/_Image_12R_7.png (deflated 5%)\n",
            "  adding: chase_db_384_384_dice_bce_0_4__0_4_1/results/_Image_13L_6.png (deflated 15%)\n",
            "  adding: chase_db_384_384_dice_bce_0_4__0_4_1/results/_Image_13L_4.png (deflated 4%)\n",
            "  adding: chase_db_384_384_dice_bce_0_4__0_4_1/results/_Image_12L_1.png (deflated 7%)\n",
            "  adding: chase_db_384_384_dice_bce_0_4__0_4_1/results/_Image_12R_8.png (deflated 10%)\n",
            "  adding: chase_db_384_384_dice_bce_0_4__0_4_1/results/_Image_12L_8.png (deflated 8%)\n",
            "  adding: chase_db_384_384_dice_bce_0_4__0_4_1/results/_Image_12L_5.png (deflated 6%)\n",
            "  adding: chase_db_384_384_dice_bce_0_4__0_4_1/results/_Image_13L_5.png (deflated 12%)\n",
            "  adding: chase_db_384_384_dice_bce_0_4__0_4_1/results/_Image_11L_4.png (deflated 4%)\n",
            "  adding: chase_db_384_384_dice_bce_0_4__0_4_1/results/_Image_11L_7.png (deflated 4%)\n",
            "  adding: chase_db_384_384_dice_bce_0_4__0_4_1/results/score_full_0_6.csv (deflated 61%)\n",
            "  adding: chase_db_384_384_dice_bce_0_4__0_4_1/results/_Image_11L_0.png (deflated 12%)\n",
            "  adding: chase_db_384_384_dice_bce_0_4__0_4_1/results/_Image_11L_8.png (deflated 10%)\n",
            "  adding: chase_db_384_384_dice_bce_0_4__0_4_1/results/_Image_12L_4.png (deflated 4%)\n",
            "  adding: chase_db_384_384_dice_bce_0_4__0_4_1/results/_Image_11L_5.png (deflated 6%)\n",
            "  adding: chase_db_384_384_dice_bce_0_4__0_4_1/results/_Image_11R_2.png (deflated 12%)\n",
            "  adding: chase_db_384_384_dice_bce_0_4__0_4_1/results/_Image_12R_5.png (deflated 5%)\n",
            "  adding: chase_db_384_384_dice_bce_0_4__0_4_1/results/_Image_12R_0.png (deflated 10%)\n",
            "  adding: chase_db_384_384_dice_bce_0_4__0_4_1/results/_Image_11R_7.png (deflated 5%)\n",
            "  adding: chase_db_384_384_dice_bce_0_4__0_4_1/results/_Image_13L_2.png (deflated 17%)\n",
            "  adding: chase_db_384_384_dice_bce_0_4__0_4_1/results/_Image_11L_3.png (deflated 6%)\n",
            "  adding: chase_db_384_384_dice_bce_0_4__0_4_1/results/_Image_12R_6.png (deflated 11%)\n",
            "  adding: chase_db_384_384_dice_bce_0_4__0_4_1/results/_Image_12L_6.png (deflated 10%)\n",
            "  adding: chase_db_384_384_dice_bce_0_4__0_4_1/results/_Image_12R_3.png (deflated 6%)\n",
            "  adding: chase_db_384_384_dice_bce_0_4__0_4_1/results/_Image_13L_1.png (deflated 10%)\n",
            "  adding: chase_db_384_384_dice_bce_0_4__0_4_1/results/_Image_11R_4.png (deflated 4%)\n",
            "  adding: chase_db_384_384_dice_bce_0_4__0_4_1/results/_Image_12L_0.png (deflated 15%)\n",
            "  adding: chase_db_384_384_dice_bce_0_4__0_4_1/results/_Image_12L_2.png (deflated 10%)\n",
            "  adding: chase_db_384_384_dice_bce_0_4__0_4_1/results/_Image_11R_6.png (deflated 11%)\n",
            "  adding: chase_db_384_384_dice_bce_0_4__0_4_1/results/_Image_13L_7.png (deflated 11%)\n",
            "  adding: chase_db_384_384_dice_bce_0_4__0_4_1/results/_Image_11R_5.png (deflated 7%)\n",
            "  adding: chase_db_384_384_dice_bce_0_4__0_4_1/trained_models/ (stored 0%)\n",
            "  adding: chase_db_384_384_dice_bce_0_4__0_4_1/trained_models/data.csv (deflated 52%)\n",
            "  adding: chase_db_384_384_dice_bce_0_4__0_4_1/trained_models/model.h5 (deflated 8%)\n",
            "  adding: chase_db_384_384_dice_bce_0_4__0_4_1/predictions/ (stored 0%)\n",
            "  adding: chase_db_384_384_dice_bce_0_4__0_4_1/predictions/_Image_11R_3.png (deflated 42%)\n",
            "  adding: chase_db_384_384_dice_bce_0_4__0_4_1/predictions/_Image_12R_1.png (deflated 20%)\n",
            "  adding: chase_db_384_384_dice_bce_0_4__0_4_1/predictions/_Image_11L_6.png (deflated 43%)\n",
            "  adding: chase_db_384_384_dice_bce_0_4__0_4_1/predictions/_Image_11R_0.png (deflated 48%)\n",
            "  adding: chase_db_384_384_dice_bce_0_4__0_4_1/predictions/_Image_11L_2.png (deflated 54%)\n",
            "  adding: chase_db_384_384_dice_bce_0_4__0_4_1/predictions/_Image_13L_3.png (deflated 18%)\n",
            "  adding: chase_db_384_384_dice_bce_0_4__0_4_1/predictions/_Image_11R_8.png (deflated 34%)\n",
            "  adding: chase_db_384_384_dice_bce_0_4__0_4_1/predictions/_Image_12L_7.png (deflated 17%)\n",
            "  adding: chase_db_384_384_dice_bce_0_4__0_4_1/predictions/_Image_11L_1.png (deflated 18%)\n",
            "  adding: chase_db_384_384_dice_bce_0_4__0_4_1/predictions/_Image_13L_8.png (deflated 28%)\n",
            "  adding: chase_db_384_384_dice_bce_0_4__0_4_1/predictions/_Image_12R_2.png (deflated 27%)\n",
            "  adding: chase_db_384_384_dice_bce_0_4__0_4_1/predictions/_Image_12L_3.png (deflated 21%)\n",
            "  adding: chase_db_384_384_dice_bce_0_4__0_4_1/predictions/_Image_12R_4.png (deflated 12%)\n",
            "  adding: chase_db_384_384_dice_bce_0_4__0_4_1/predictions/_Image_13L_0.png (deflated 30%)\n",
            "  adding: chase_db_384_384_dice_bce_0_4__0_4_1/predictions/_Image_11R_1.png (deflated 20%)\n",
            "  adding: chase_db_384_384_dice_bce_0_4__0_4_1/predictions/_Image_12R_7.png (deflated 17%)\n",
            "  adding: chase_db_384_384_dice_bce_0_4__0_4_1/predictions/_Image_13L_6.png (deflated 40%)\n",
            "  adding: chase_db_384_384_dice_bce_0_4__0_4_1/predictions/_Image_13L_4.png (deflated 11%)\n",
            "  adding: chase_db_384_384_dice_bce_0_4__0_4_1/predictions/_Image_12L_1.png (deflated 19%)\n",
            "  adding: chase_db_384_384_dice_bce_0_4__0_4_1/predictions/_Image_12R_8.png (deflated 26%)\n",
            "  adding: chase_db_384_384_dice_bce_0_4__0_4_1/predictions/_Image_12L_8.png (deflated 24%)\n",
            "  adding: chase_db_384_384_dice_bce_0_4__0_4_1/predictions/_Image_12L_5.png (deflated 27%)\n",
            "  adding: chase_db_384_384_dice_bce_0_4__0_4_1/predictions/_Image_13L_5.png (deflated 25%)\n",
            "  adding: chase_db_384_384_dice_bce_0_4__0_4_1/predictions/_Image_11L_4.png (deflated 12%)\n",
            "  adding: chase_db_384_384_dice_bce_0_4__0_4_1/predictions/_Image_11L_7.png (deflated 17%)\n",
            "  adding: chase_db_384_384_dice_bce_0_4__0_4_1/predictions/_Image_11L_0.png (deflated 40%)\n",
            "  adding: chase_db_384_384_dice_bce_0_4__0_4_1/predictions/_Image_11L_8.png (deflated 30%)\n",
            "  adding: chase_db_384_384_dice_bce_0_4__0_4_1/predictions/_Image_12L_4.png (deflated 12%)\n",
            "  adding: chase_db_384_384_dice_bce_0_4__0_4_1/predictions/_Image_11L_5.png (deflated 33%)\n",
            "  adding: chase_db_384_384_dice_bce_0_4__0_4_1/predictions/_Image_11R_2.png (deflated 38%)\n",
            "  adding: chase_db_384_384_dice_bce_0_4__0_4_1/predictions/_Image_12R_5.png (deflated 14%)\n",
            "  adding: chase_db_384_384_dice_bce_0_4__0_4_1/predictions/_Image_12R_0.png (deflated 29%)\n",
            "  adding: chase_db_384_384_dice_bce_0_4__0_4_1/predictions/_Image_11R_7.png (deflated 24%)\n",
            "  adding: chase_db_384_384_dice_bce_0_4__0_4_1/predictions/_Image_13L_2.png (deflated 43%)\n",
            "  adding: chase_db_384_384_dice_bce_0_4__0_4_1/predictions/_Image_11L_3.png (deflated 17%)\n",
            "  adding: chase_db_384_384_dice_bce_0_4__0_4_1/predictions/_Image_12R_6.png (deflated 30%)\n",
            "  adding: chase_db_384_384_dice_bce_0_4__0_4_1/predictions/_Image_12L_6.png (deflated 26%)\n",
            "  adding: chase_db_384_384_dice_bce_0_4__0_4_1/predictions/_Image_12R_3.png (deflated 16%)\n",
            "  adding: chase_db_384_384_dice_bce_0_4__0_4_1/predictions/_Image_13L_1.png (deflated 21%)\n",
            "  adding: chase_db_384_384_dice_bce_0_4__0_4_1/predictions/_Image_11R_4.png (deflated 13%)\n",
            "  adding: chase_db_384_384_dice_bce_0_4__0_4_1/predictions/_Image_12L_0.png (deflated 36%)\n",
            "  adding: chase_db_384_384_dice_bce_0_4__0_4_1/predictions/_Image_12L_2.png (deflated 22%)\n",
            "  adding: chase_db_384_384_dice_bce_0_4__0_4_1/predictions/_Image_11R_6.png (deflated 73%)\n",
            "  adding: chase_db_384_384_dice_bce_0_4__0_4_1/predictions/_Image_13L_7.png (deflated 19%)\n",
            "  adding: chase_db_384_384_dice_bce_0_4__0_4_1/predictions/_Image_11R_5.png (deflated 21%)\n"
          ]
        }
      ],
      "source": [
        "!zip -r {folder_name}.zip  {folder_name}/"
      ]
    },
    {
      "cell_type": "code",
      "execution_count": null,
      "metadata": {
        "colab": {
          "background_save": true
        },
        "id": "8L9ewIL3ach6",
        "outputId": "bb24b2d4-cc0f-4f20-cd70-973347816506"
      },
      "outputs": [
        {
          "name": "stdout",
          "output_type": "stream",
          "text": [
            "total 380M\n",
            "drwxr-xr-x  4 root root 4.0K Mar 14 04:49 logs\n",
            "drwxr-xr-x 10 root root 4.0K Mar 14 04:57 chase_db_384_384_dice_bce_0_4__0_4_1\n",
            "-rw-r--r--  1 root root 380M Mar 14 04:58 chase_db_384_384_dice_bce_0_4__0_4_1.zip\n"
          ]
        }
      ],
      "source": [
        "!ls -ltrh\n"
      ]
    },
    {
      "cell_type": "code",
      "execution_count": null,
      "metadata": {
        "colab": {
          "background_save": true
        },
        "id": "HgeR9u--S9HC",
        "outputId": "df9a7981-b873-41cb-b3e2-015e161b4126"
      },
      "outputs": [
        {
          "name": "stdout",
          "output_type": "stream",
          "text": [
            "02_g_test.png\n",
            "chase_db_128_128_dice_bce_0_4__0_4_1\n",
            "chase_db_128_128_dice_bce_0_4__0_4_1.zip\n",
            "chase_db_128_128_dice_bce_0_4__hvr_0_4_1\n",
            "chase_db_128_128_dice_bce_0_4__hvr_0_4_1.zip\n",
            "chase_db_256_128_dice_bce_0_4__hvr_0_4_1\n",
            "chase_db_256_128_dice_bce_0_4__hvr_0_4_1.zip\n",
            "chase_db_256_256_dice_bce_0_4__0_4_1\n",
            "chase_db_256_256_dice_bce_0_4__0_4_1.zip\n",
            "chase_db_320_320_dice_bce_0_4__0_4_1\n",
            "chase_db_320_320_dice_bce_0_4__0_4_1.zip\n",
            "drive_128_128_dice_bce_0_4__0_4_1\n",
            "drive_128_128_dice_bce_0_4__0_4_1.zip\n",
            "drive_128_128_dice_bce_0_4__hvr_0_4_1\n",
            "drive_128_128_dice_bce_0_4__hvr_0_4_1.zip\n",
            "drive_128_128_dice_loss_0_4__0_4_1\n",
            "drive_128_128_dice_loss_0_4__0_4_1.zip\n",
            "drive_128_128_dice_loss_0_4__hvr_0_4_1\n",
            "drive_128_128_dice_loss_0_4__hvr_0_4_1.zip\n",
            "drive_256_256_dice_bce_0_4__0_4_1\n",
            "drive_256_256_dice_bce_0_4__0_4_1.zip\n",
            "drive_256_256_dice_bce_0_4__hvr_0_4_1\n",
            "drive_256_256_dice_bce_0_4__hvr_0_4_1.zip\n",
            "drive_256_256_dice_loss_0_4__0_4_1\n",
            "drive_256_256_dice_loss_0_4__0_4_1.zip\n",
            "drive_256_256_dice_loss_0_4__hvr_0_4_1\n",
            "drive_256_256_dice_loss_0_4__hvr_0_4_1.zip\n",
            "drive_64_64_dice_bce_0_4__0_4_1\n",
            "drive_64_64_dice_bce_0_4__0_4_1.zip\n",
            "drive_64_64_dice_bce_0_4__hvr_0_4_1\n",
            "drive_64_64_dice_bce_0_4__hvr_0_4_1.zip\n",
            "drive_64_64_dice_loss_0_4__0_4_1\n",
            "drive_64_64_dice_loss_0_4__0_4_1.zip\n",
            "drive_64_64_dice_loss_0_4__hvr_0_4_1\n",
            "drive_64_64_dice_loss_0_4__hvr_0_4_1.zip\n",
            "hrf_256_256_dice_loss_1\n",
            "hrf_256_256_dice_loss_1.zip\n",
            "hrf_256_256_dice_loss_hvr_1.zip\n",
            "hrf_256_256_dice_loss_hvr_2.zip\n",
            "hrf_512_256_bce_hvr_xval_10_42.zip\n",
            "hrf_512_512\n",
            "hrf_512_512_bce\n",
            "hrf_512_512_bce_1\n",
            "hrf_512_512_bce_1.zip\n",
            "hrf_512_512_bce_2\n",
            "hrf_512_512_bce_2.zip\n",
            "hrf_512_512_bce_hvr\n",
            "hrf_512_512_bce_hvr_0_3\n",
            "hrf_512_512_bce_hvr_0_33_42.zip\n",
            "hrf_512_512_bce_hvr_0_33_43\n",
            "hrf_512_512_bce_hvr_0_33_43.zip\n",
            "hrf_512_512_bce_hvr_0_3_44\n",
            "hrf_512_512_bce_hvr_0_3_44.zip\n",
            "hrf_512_512_bce_hvr_feb_3_1.zip\n",
            "hrf_512_512_bce_hvr_feb_5_1.zip\n",
            "hrf_512_512_bce_hvr_xval_2_42.zip\n",
            "hrf_512_512_bce_hvr_xval_5_42\n",
            "hrf_512_512_bce_hvr_xval_5_42_10epochs\n",
            "hrf_512_512_bce_hvr_xval_5_42.csv\n",
            "hrf_512_512_bce_hvr.zip\n",
            "hrf_512_512_bce.zip\n",
            "hrf_512_512_dice\n",
            "hrf_512_512_dice_bce\n",
            "hrf_512_512_dice_bce_0_4_2\n",
            "hrf_512_512_dice_bce_0_4_2.zip\n",
            "hrf_512_512_dice_bce_1\n",
            "hrf_512_512_dice_bce_1.zip\n",
            "hrf_512_512_dice_bce_hvr\n",
            "hrf_512_512_dice_bce_hvr_0_3_feb4.zip\n",
            "hrf_512_512_dice_bce_hvr_2.zip\n",
            "hrf_512_512_dice_bce_hvr_jan_31_2.zip\n",
            "hrf_512_512_dice_bce_hvr_jan_31.zip\n",
            "hrf_512_512_dice_bce_hvr_xval_5_42.zip\n",
            "hrf_512_512_dice_bce_hvr_xval_9_42_10epochs.zip\n",
            "hrf_512_512_dice_bce_hvr.zip\n",
            "hrf_512_512_DiceBCELoss\n",
            "hrf_512_512_dice_loss_0_4_1\n",
            "hrf_512_512_dice_loss_0_4_1.zip\n",
            "hrf_512_512_dice_loss_2\n",
            "hrf_512_512_dice_loss_2.zip\n",
            "hrf_512_512_dice_loss_3\n",
            "hrf_512_512_dice_loss_3.zip\n",
            "hrf_512_512_dice_loss_hvr_0_3_feb_3.zip\n",
            "hrf_512_512_dice_loss_hvr_0_4_feb4.zip\n",
            "hrf_512_512_dice_loss_hvr_3.zip\n",
            "hrf_512_512_dice_loss_hvr_xval_5_42.zip\n",
            "hrf_512_512_dice.zip\n",
            "hrf_512_512.zip\n",
            "hrf_768_768_bce_0_4_1\n",
            "hrf_768_768_bce_0_4_1.zip\n",
            "hrf_768_768_bce_hvr_1.zip\n",
            "hrf_768_768_dice_bce_0_4_1\n",
            "hrf_768_768_dice_bce_0_4_1.zip\n",
            "hrf_768_768_dice_bce_hvr_1.zip\n",
            "hrf_768_768_dice_loss_0_4_1\n",
            "hrf_768_768_dice_loss_0_4_1.zip\n",
            "hrf_768_768_dice_loss_hvr_2.zip\n",
            "hrf_768_768_wbce_0_4__0_3_1\n",
            "hrf_768_768_wbce_0_4__0_3_1.zip\n",
            "hrf_768_768_wbce_0_4__0_4_1\n",
            "hrf_768_768_wbce_0_4__0_4_1.zip\n",
            "hrf_768_768_wbce_0_5__0_3_1\n",
            "hrf_768_768_wbce_0_5__0_3_1.zip\n",
            "hrf_768_768_wbce_0_6__0_3_1\n",
            "hrf_768_768_wbce_0_6__0_3_1.zip\n",
            "hrf_768_768_wbce_0_6__0_4_1\n",
            "hrf_768_768_wbce_0_6__0_4_1.zip\n",
            "hrf_768_768_wbce_0_6__hvr_1.zip\n",
            "hrf_patches_512.zip\n",
            "hrf.zip\n",
            "idrid_512_512_dice_bce_0_4__hvr_0_4_1\n",
            "idrid_512_512_dice_bce_0_4__hvr_0_4_1.zip\n",
            "idrid_768_768_dice_bce_0_4__hvr_0_4_1\n",
            "idrid_768_768_dice_bce_0_4__hvr_0_4_1.zip\n",
            "non_overlapping_512\n",
            "split_2.zip\n"
          ]
        }
      ],
      "source": [
        "!ls /content/gdrive/MyDrive/Blood_Vessel_Results/hrf_patches/"
      ]
    },
    {
      "cell_type": "code",
      "execution_count": null,
      "metadata": {
        "colab": {
          "background_save": true
        },
        "id": "uxv_dah3MAdT"
      },
      "outputs": [],
      "source": [
        "!cp {folder_name}.zip /content/gdrive/MyDrive/Blood_Vessel_Results/hrf_patches/"
      ]
    },
    {
      "cell_type": "code",
      "execution_count": null,
      "metadata": {
        "colab": {
          "background_save": true
        },
        "id": "LDtPmTRvTZEg",
        "outputId": "afde0f16-98d3-4814-9079-053b78eb8fed"
      },
      "outputs": [
        {
          "name": "stdout",
          "output_type": "stream",
          "text": [
            "/content/gdrive/MyDrive/Blood_Vessel_Results/hrf_patches\n"
          ]
        }
      ],
      "source": [
        "%cd /content/gdrive/MyDrive/Blood_Vessel_Results/hrf_patches/"
      ]
    },
    {
      "cell_type": "code",
      "execution_count": null,
      "metadata": {
        "colab": {
          "background_save": true
        },
        "id": "l9g3FzQFUzN1",
        "outputId": "76c4fb0e-86e3-41de-b508-18807e1487b2"
      },
      "outputs": [
        {
          "name": "stdout",
          "output_type": "stream",
          "text": [
            "/content/gdrive/MyDrive/Blood_Vessel_Results/hrf_patches\n"
          ]
        }
      ],
      "source": [
        "!pwd"
      ]
    },
    {
      "cell_type": "code",
      "execution_count": null,
      "metadata": {
        "colab": {
          "background_save": true
        },
        "id": "AnpquhqmU1gr",
        "outputId": "b988d049-d458-423f-94b8-7833a8471453"
      },
      "outputs": [
        {
          "name": "stdout",
          "output_type": "stream",
          "text": [
            "02_g_test.png\n",
            "chase_db_128_128_dice_bce_0_4__0_4_1\n",
            "chase_db_128_128_dice_bce_0_4__0_4_1.zip\n",
            "chase_db_128_128_dice_bce_0_4__hvr_0_4_1\n",
            "chase_db_128_128_dice_bce_0_4__hvr_0_4_1.zip\n",
            "chase_db_256_128_dice_bce_0_4__hvr_0_4_1\n",
            "chase_db_256_128_dice_bce_0_4__hvr_0_4_1.zip\n",
            "chase_db_256_256_dice_bce_0_4__0_4_1\n",
            "chase_db_256_256_dice_bce_0_4__0_4_1.zip\n",
            "chase_db_320_320_dice_bce_0_4__0_4_1\n",
            "chase_db_320_320_dice_bce_0_4__0_4_1.zip\n",
            "chase_db_384_384_dice_bce_0_4__0_4_1.zip\n",
            "drive_128_128_dice_bce_0_4__0_4_1\n",
            "drive_128_128_dice_bce_0_4__0_4_1.zip\n",
            "drive_128_128_dice_bce_0_4__hvr_0_4_1\n",
            "drive_128_128_dice_bce_0_4__hvr_0_4_1.zip\n",
            "drive_128_128_dice_loss_0_4__0_4_1\n",
            "drive_128_128_dice_loss_0_4__0_4_1.zip\n",
            "drive_128_128_dice_loss_0_4__hvr_0_4_1\n",
            "drive_128_128_dice_loss_0_4__hvr_0_4_1.zip\n",
            "drive_256_256_dice_bce_0_4__0_4_1\n",
            "drive_256_256_dice_bce_0_4__0_4_1.zip\n",
            "drive_256_256_dice_bce_0_4__hvr_0_4_1\n",
            "drive_256_256_dice_bce_0_4__hvr_0_4_1.zip\n",
            "drive_256_256_dice_loss_0_4__0_4_1\n",
            "drive_256_256_dice_loss_0_4__0_4_1.zip\n",
            "drive_256_256_dice_loss_0_4__hvr_0_4_1\n",
            "drive_256_256_dice_loss_0_4__hvr_0_4_1.zip\n",
            "drive_64_64_dice_bce_0_4__0_4_1\n",
            "drive_64_64_dice_bce_0_4__0_4_1.zip\n",
            "drive_64_64_dice_bce_0_4__hvr_0_4_1\n",
            "drive_64_64_dice_bce_0_4__hvr_0_4_1.zip\n",
            "drive_64_64_dice_loss_0_4__0_4_1\n",
            "drive_64_64_dice_loss_0_4__0_4_1.zip\n",
            "drive_64_64_dice_loss_0_4__hvr_0_4_1\n",
            "drive_64_64_dice_loss_0_4__hvr_0_4_1.zip\n",
            "hrf_256_256_dice_loss_1\n",
            "hrf_256_256_dice_loss_1.zip\n",
            "hrf_256_256_dice_loss_hvr_1.zip\n",
            "hrf_256_256_dice_loss_hvr_2.zip\n",
            "hrf_512_256_bce_hvr_xval_10_42.zip\n",
            "hrf_512_512\n",
            "hrf_512_512_bce\n",
            "hrf_512_512_bce_1\n",
            "hrf_512_512_bce_1.zip\n",
            "hrf_512_512_bce_2\n",
            "hrf_512_512_bce_2.zip\n",
            "hrf_512_512_bce_hvr\n",
            "hrf_512_512_bce_hvr_0_3\n",
            "hrf_512_512_bce_hvr_0_33_42.zip\n",
            "hrf_512_512_bce_hvr_0_33_43\n",
            "hrf_512_512_bce_hvr_0_33_43.zip\n",
            "hrf_512_512_bce_hvr_0_3_44\n",
            "hrf_512_512_bce_hvr_0_3_44.zip\n",
            "hrf_512_512_bce_hvr_feb_3_1.zip\n",
            "hrf_512_512_bce_hvr_feb_5_1.zip\n",
            "hrf_512_512_bce_hvr_xval_2_42.zip\n",
            "hrf_512_512_bce_hvr_xval_5_42\n",
            "hrf_512_512_bce_hvr_xval_5_42_10epochs\n",
            "hrf_512_512_bce_hvr_xval_5_42.csv\n",
            "hrf_512_512_bce_hvr.zip\n",
            "hrf_512_512_bce.zip\n",
            "hrf_512_512_dice\n",
            "hrf_512_512_dice_bce\n",
            "hrf_512_512_dice_bce_0_4_2\n",
            "hrf_512_512_dice_bce_0_4_2.zip\n",
            "hrf_512_512_dice_bce_1\n",
            "hrf_512_512_dice_bce_1.zip\n",
            "hrf_512_512_dice_bce_hvr\n",
            "hrf_512_512_dice_bce_hvr_0_3_feb4.zip\n",
            "hrf_512_512_dice_bce_hvr_2.zip\n",
            "hrf_512_512_dice_bce_hvr_jan_31_2.zip\n",
            "hrf_512_512_dice_bce_hvr_jan_31.zip\n",
            "hrf_512_512_dice_bce_hvr_xval_5_42.zip\n",
            "hrf_512_512_dice_bce_hvr_xval_9_42_10epochs.zip\n",
            "hrf_512_512_dice_bce_hvr.zip\n",
            "hrf_512_512_DiceBCELoss\n",
            "hrf_512_512_dice_loss_0_4_1\n",
            "hrf_512_512_dice_loss_0_4_1.zip\n",
            "hrf_512_512_dice_loss_2\n",
            "hrf_512_512_dice_loss_2.zip\n",
            "hrf_512_512_dice_loss_3\n",
            "hrf_512_512_dice_loss_3.zip\n",
            "hrf_512_512_dice_loss_hvr_0_3_feb_3.zip\n",
            "hrf_512_512_dice_loss_hvr_0_4_feb4.zip\n",
            "hrf_512_512_dice_loss_hvr_3.zip\n",
            "hrf_512_512_dice_loss_hvr_xval_5_42.zip\n",
            "hrf_512_512_dice.zip\n",
            "hrf_512_512.zip\n",
            "hrf_768_768_bce_0_4_1\n",
            "hrf_768_768_bce_0_4_1.zip\n",
            "hrf_768_768_bce_hvr_1.zip\n",
            "hrf_768_768_dice_bce_0_4_1\n",
            "hrf_768_768_dice_bce_0_4_1.zip\n",
            "hrf_768_768_dice_bce_hvr_1.zip\n",
            "hrf_768_768_dice_loss_0_4_1\n",
            "hrf_768_768_dice_loss_0_4_1.zip\n",
            "hrf_768_768_dice_loss_hvr_2.zip\n",
            "hrf_768_768_wbce_0_4__0_3_1\n",
            "hrf_768_768_wbce_0_4__0_3_1.zip\n",
            "hrf_768_768_wbce_0_4__0_4_1\n",
            "hrf_768_768_wbce_0_4__0_4_1.zip\n",
            "hrf_768_768_wbce_0_5__0_3_1\n",
            "hrf_768_768_wbce_0_5__0_3_1.zip\n",
            "hrf_768_768_wbce_0_6__0_3_1\n",
            "hrf_768_768_wbce_0_6__0_3_1.zip\n",
            "hrf_768_768_wbce_0_6__0_4_1\n",
            "hrf_768_768_wbce_0_6__0_4_1.zip\n",
            "hrf_768_768_wbce_0_6__hvr_1.zip\n",
            "hrf_patches_512.zip\n",
            "hrf.zip\n",
            "idrid_512_512_dice_bce_0_4__hvr_0_4_1\n",
            "idrid_512_512_dice_bce_0_4__hvr_0_4_1.zip\n",
            "idrid_768_768_dice_bce_0_4__hvr_0_4_1\n",
            "idrid_768_768_dice_bce_0_4__hvr_0_4_1.zip\n",
            "non_overlapping_512\n",
            "split_2.zip\n"
          ]
        }
      ],
      "source": [
        "!ls"
      ]
    },
    {
      "cell_type": "code",
      "execution_count": null,
      "metadata": {
        "colab": {
          "background_save": true
        },
        "id": "QjOj2UhYTmPO",
        "outputId": "19a4089c-e567-4104-8851-df748ee61589"
      },
      "outputs": [
        {
          "name": "stdout",
          "output_type": "stream",
          "text": [
            "Archive:  chase_db_384_384_dice_bce_0_4__0_4_1.zip\n",
            "   creating: chase_db_384_384_dice_bce_0_4__0_4_1/\n",
            "   creating: chase_db_384_384_dice_bce_0_4__0_4_1/test/\n",
            "   creating: chase_db_384_384_dice_bce_0_4__0_4_1/test/1st_manual/\n",
            "  inflating: chase_db_384_384_dice_bce_0_4__0_4_1/test/1st_manual/Image_13L_1stHO.png  \n",
            "  inflating: chase_db_384_384_dice_bce_0_4__0_4_1/test/1st_manual/Image_12L_1stHO.png  \n",
            "  inflating: chase_db_384_384_dice_bce_0_4__0_4_1/test/1st_manual/Image_12R_1stHO.png  \n",
            "  inflating: chase_db_384_384_dice_bce_0_4__0_4_1/test/1st_manual/Image_11R_1stHO.png  \n",
            "  inflating: chase_db_384_384_dice_bce_0_4__0_4_1/test/1st_manual/Image_11L_1stHO.png  \n",
            "   creating: chase_db_384_384_dice_bce_0_4__0_4_1/test/images/\n",
            "  inflating: chase_db_384_384_dice_bce_0_4__0_4_1/test/images/Image_12L.jpg  \n",
            "  inflating: chase_db_384_384_dice_bce_0_4__0_4_1/test/images/Image_11R.jpg  \n",
            "  inflating: chase_db_384_384_dice_bce_0_4__0_4_1/test/images/Image_12R.jpg  \n",
            "  inflating: chase_db_384_384_dice_bce_0_4__0_4_1/test/images/Image_11L.jpg  \n",
            "  inflating: chase_db_384_384_dice_bce_0_4__0_4_1/test/images/Image_13L.jpg  \n",
            "   creating: chase_db_384_384_dice_bce_0_4__0_4_1/training/\n",
            "   creating: chase_db_384_384_dice_bce_0_4__0_4_1/training/1st_manual/\n",
            "  inflating: chase_db_384_384_dice_bce_0_4__0_4_1/training/1st_manual/Image_04L_1stHO.png  \n",
            "  inflating: chase_db_384_384_dice_bce_0_4__0_4_1/training/1st_manual/Image_09L_1stHO.png  \n",
            "  inflating: chase_db_384_384_dice_bce_0_4__0_4_1/training/1st_manual/Image_04R_1stHO.png  \n",
            "  inflating: chase_db_384_384_dice_bce_0_4__0_4_1/training/1st_manual/Image_09R_1stHO.png  \n",
            "  inflating: chase_db_384_384_dice_bce_0_4__0_4_1/training/1st_manual/Image_05R_1stHO.png  \n",
            "  inflating: chase_db_384_384_dice_bce_0_4__0_4_1/training/1st_manual/Image_05L_1stHO.png  \n",
            "  inflating: chase_db_384_384_dice_bce_0_4__0_4_1/training/1st_manual/Image_10R_1stHO.png  \n",
            "  inflating: chase_db_384_384_dice_bce_0_4__0_4_1/training/1st_manual/Image_07R_1stHO.png  \n",
            "  inflating: chase_db_384_384_dice_bce_0_4__0_4_1/training/1st_manual/Image_07L_1stHO.png  \n",
            "  inflating: chase_db_384_384_dice_bce_0_4__0_4_1/training/1st_manual/Image_06R_1stHO.png  \n",
            "  inflating: chase_db_384_384_dice_bce_0_4__0_4_1/training/1st_manual/Image_03L_1stHO.png  \n",
            "  inflating: chase_db_384_384_dice_bce_0_4__0_4_1/training/1st_manual/Image_14R_1stHO.png  \n",
            "  inflating: chase_db_384_384_dice_bce_0_4__0_4_1/training/1st_manual/Image_01L_1stHO.png  \n",
            "  inflating: chase_db_384_384_dice_bce_0_4__0_4_1/training/1st_manual/Image_06L_1stHO.png  \n",
            "  inflating: chase_db_384_384_dice_bce_0_4__0_4_1/training/1st_manual/Image_10L_1stHO.png  \n",
            "  inflating: chase_db_384_384_dice_bce_0_4__0_4_1/training/1st_manual/Image_08L_1stHO.png  \n",
            " extracting: chase_db_384_384_dice_bce_0_4__0_4_1/training/1st_manual/Image_14L_1stHO.png  \n",
            "  inflating: chase_db_384_384_dice_bce_0_4__0_4_1/training/1st_manual/Image_08R_1stHO.png  \n",
            "  inflating: chase_db_384_384_dice_bce_0_4__0_4_1/training/1st_manual/Image_01R_1stHO.png  \n",
            "  inflating: chase_db_384_384_dice_bce_0_4__0_4_1/training/1st_manual/Image_03R_1stHO.png  \n",
            "  inflating: chase_db_384_384_dice_bce_0_4__0_4_1/training/1st_manual/Image_02L_1stHO.png  \n",
            "  inflating: chase_db_384_384_dice_bce_0_4__0_4_1/training/1st_manual/Image_02R_1stHO.png  \n",
            "  inflating: chase_db_384_384_dice_bce_0_4__0_4_1/training/1st_manual/Image_13R_1stHO.png  \n",
            "   creating: chase_db_384_384_dice_bce_0_4__0_4_1/training/images/\n",
            "  inflating: chase_db_384_384_dice_bce_0_4__0_4_1/training/images/Image_02L.jpg  \n",
            "  inflating: chase_db_384_384_dice_bce_0_4__0_4_1/training/images/Image_06R.jpg  \n",
            "  inflating: chase_db_384_384_dice_bce_0_4__0_4_1/training/images/Image_03R.jpg  \n",
            "  inflating: chase_db_384_384_dice_bce_0_4__0_4_1/training/images/Image_07R.jpg  \n",
            "  inflating: chase_db_384_384_dice_bce_0_4__0_4_1/training/images/Image_10R.jpg  \n",
            "  inflating: chase_db_384_384_dice_bce_0_4__0_4_1/training/images/Image_05L.jpg  \n",
            "  inflating: chase_db_384_384_dice_bce_0_4__0_4_1/training/images/Image_09R.jpg  \n",
            "  inflating: chase_db_384_384_dice_bce_0_4__0_4_1/training/images/Image_04R.jpg  \n",
            "  inflating: chase_db_384_384_dice_bce_0_4__0_4_1/training/images/Image_14R.jpg  \n",
            "  inflating: chase_db_384_384_dice_bce_0_4__0_4_1/training/images/Image_10L.jpg  \n",
            "  inflating: chase_db_384_384_dice_bce_0_4__0_4_1/training/images/Image_08L.jpg  \n",
            "  inflating: chase_db_384_384_dice_bce_0_4__0_4_1/training/images/Image_03L.jpg  \n",
            "  inflating: chase_db_384_384_dice_bce_0_4__0_4_1/training/images/Image_08R.jpg  \n",
            "  inflating: chase_db_384_384_dice_bce_0_4__0_4_1/training/images/Image_05R.jpg  \n",
            "  inflating: chase_db_384_384_dice_bce_0_4__0_4_1/training/images/Image_13R.jpg  \n",
            "  inflating: chase_db_384_384_dice_bce_0_4__0_4_1/training/images/Image_02R.jpg  \n",
            "  inflating: chase_db_384_384_dice_bce_0_4__0_4_1/training/images/Image_01L.jpg  \n",
            "  inflating: chase_db_384_384_dice_bce_0_4__0_4_1/training/images/Image_04L.jpg  \n",
            "  inflating: chase_db_384_384_dice_bce_0_4__0_4_1/training/images/Image_01R.jpg  \n",
            "  inflating: chase_db_384_384_dice_bce_0_4__0_4_1/training/images/Image_14L.jpg  \n",
            "  inflating: chase_db_384_384_dice_bce_0_4__0_4_1/training/images/Image_07L.jpg  \n",
            "  inflating: chase_db_384_384_dice_bce_0_4__0_4_1/training/images/Image_09L.jpg  \n",
            "  inflating: chase_db_384_384_dice_bce_0_4__0_4_1/training/images/Image_06L.jpg  \n",
            "   creating: chase_db_384_384_dice_bce_0_4__0_4_1/predictions_np/\n",
            "  inflating: chase_db_384_384_dice_bce_0_4__0_4_1/predictions_np/_Image_12L_8.npy  \n",
            "  inflating: chase_db_384_384_dice_bce_0_4__0_4_1/predictions_np/_Image_13L_3.npy  \n",
            "  inflating: chase_db_384_384_dice_bce_0_4__0_4_1/predictions_np/_Image_12L_3.npy  \n",
            "  inflating: chase_db_384_384_dice_bce_0_4__0_4_1/predictions_np/_Image_11R_1.npy  \n",
            "  inflating: chase_db_384_384_dice_bce_0_4__0_4_1/predictions_np/_Image_12L_5.npy  \n",
            "  inflating: chase_db_384_384_dice_bce_0_4__0_4_1/predictions_np/_Image_11L_5.npy  \n",
            "  inflating: chase_db_384_384_dice_bce_0_4__0_4_1/predictions_np/_Image_12L_2.npy  \n",
            "  inflating: chase_db_384_384_dice_bce_0_4__0_4_1/predictions_np/_Image_13L_0.npy  \n",
            "  inflating: chase_db_384_384_dice_bce_0_4__0_4_1/predictions_np/_Image_13L_2.npy  \n",
            "  inflating: chase_db_384_384_dice_bce_0_4__0_4_1/predictions_np/_Image_12L_4.npy  \n",
            "  inflating: chase_db_384_384_dice_bce_0_4__0_4_1/predictions_np/_Image_12R_0.npy  \n",
            "  inflating: chase_db_384_384_dice_bce_0_4__0_4_1/predictions_np/_Image_13L_4.npy  \n",
            "  inflating: chase_db_384_384_dice_bce_0_4__0_4_1/predictions_np/_Image_11L_6.npy  \n",
            "  inflating: chase_db_384_384_dice_bce_0_4__0_4_1/predictions_np/_Image_11R_4.npy  \n",
            "  inflating: chase_db_384_384_dice_bce_0_4__0_4_1/predictions_np/_Image_13L_7.npy  \n",
            "  inflating: chase_db_384_384_dice_bce_0_4__0_4_1/predictions_np/_Image_11L_2.npy  \n",
            "  inflating: chase_db_384_384_dice_bce_0_4__0_4_1/predictions_np/_Image_11R_0.npy  \n",
            "  inflating: chase_db_384_384_dice_bce_0_4__0_4_1/predictions_np/_Image_12R_6.npy  \n",
            "  inflating: chase_db_384_384_dice_bce_0_4__0_4_1/predictions_np/_Image_12R_2.npy  \n",
            "  inflating: chase_db_384_384_dice_bce_0_4__0_4_1/predictions_np/_Image_11R_7.npy  \n",
            "  inflating: chase_db_384_384_dice_bce_0_4__0_4_1/predictions_np/_Image_13L_6.npy  \n",
            "  inflating: chase_db_384_384_dice_bce_0_4__0_4_1/predictions_np/_Image_11R_2.npy  \n",
            "  inflating: chase_db_384_384_dice_bce_0_4__0_4_1/predictions_np/_Image_11L_3.npy  \n",
            "  inflating: chase_db_384_384_dice_bce_0_4__0_4_1/predictions_np/_Image_11L_8.npy  \n",
            "  inflating: chase_db_384_384_dice_bce_0_4__0_4_1/predictions_np/_Image_11L_4.npy  \n",
            "  inflating: chase_db_384_384_dice_bce_0_4__0_4_1/predictions_np/_Image_13L_8.npy  \n",
            "  inflating: chase_db_384_384_dice_bce_0_4__0_4_1/predictions_np/_Image_11R_5.npy  \n",
            "  inflating: chase_db_384_384_dice_bce_0_4__0_4_1/predictions_np/_Image_12R_7.npy  \n",
            "  inflating: chase_db_384_384_dice_bce_0_4__0_4_1/predictions_np/_Image_11R_8.npy  \n",
            "  inflating: chase_db_384_384_dice_bce_0_4__0_4_1/predictions_np/_Image_12R_5.npy  \n",
            "  inflating: chase_db_384_384_dice_bce_0_4__0_4_1/predictions_np/_Image_12L_1.npy  \n",
            "  inflating: chase_db_384_384_dice_bce_0_4__0_4_1/predictions_np/_Image_13L_1.npy  \n",
            "  inflating: chase_db_384_384_dice_bce_0_4__0_4_1/predictions_np/_Image_12R_1.npy  \n",
            "  inflating: chase_db_384_384_dice_bce_0_4__0_4_1/predictions_np/_Image_12R_4.npy  \n",
            "  inflating: chase_db_384_384_dice_bce_0_4__0_4_1/predictions_np/_Image_12R_8.npy  \n",
            "  inflating: chase_db_384_384_dice_bce_0_4__0_4_1/predictions_np/_Image_12L_6.npy  \n",
            "  inflating: chase_db_384_384_dice_bce_0_4__0_4_1/predictions_np/_Image_13L_5.npy  \n",
            "  inflating: chase_db_384_384_dice_bce_0_4__0_4_1/predictions_np/_Image_12R_3.npy  \n",
            "  inflating: chase_db_384_384_dice_bce_0_4__0_4_1/predictions_np/_Image_11L_1.npy  \n",
            "  inflating: chase_db_384_384_dice_bce_0_4__0_4_1/predictions_np/_Image_11L_7.npy  \n",
            "  inflating: chase_db_384_384_dice_bce_0_4__0_4_1/predictions_np/_Image_12L_7.npy  \n",
            "  inflating: chase_db_384_384_dice_bce_0_4__0_4_1/predictions_np/_Image_12L_0.npy  \n",
            "  inflating: chase_db_384_384_dice_bce_0_4__0_4_1/predictions_np/_Image_11R_6.npy  \n",
            "  inflating: chase_db_384_384_dice_bce_0_4__0_4_1/predictions_np/_Image_11R_3.npy  \n",
            "  inflating: chase_db_384_384_dice_bce_0_4__0_4_1/predictions_np/_Image_11L_0.npy  \n",
            "   creating: chase_db_384_384_dice_bce_0_4__0_4_1/split_2/\n",
            "   creating: chase_db_384_384_dice_bce_0_4__0_4_1/split_2/test/\n",
            "   creating: chase_db_384_384_dice_bce_0_4__0_4_1/split_2/test/mask/\n",
            "  inflating: chase_db_384_384_dice_bce_0_4__0_4_1/split_2/test/mask/_Image_11R_3.png  \n",
            "  inflating: chase_db_384_384_dice_bce_0_4__0_4_1/split_2/test/mask/_Image_12R_1.png  \n",
            "  inflating: chase_db_384_384_dice_bce_0_4__0_4_1/split_2/test/mask/_Image_11L_6.png  \n",
            "  inflating: chase_db_384_384_dice_bce_0_4__0_4_1/split_2/test/mask/_Image_11R_0.png  \n",
            "  inflating: chase_db_384_384_dice_bce_0_4__0_4_1/split_2/test/mask/_Image_11L_2.png  \n",
            "  inflating: chase_db_384_384_dice_bce_0_4__0_4_1/split_2/test/mask/_Image_13L_3.png  \n",
            "  inflating: chase_db_384_384_dice_bce_0_4__0_4_1/split_2/test/mask/_Image_11R_8.png  \n",
            "  inflating: chase_db_384_384_dice_bce_0_4__0_4_1/split_2/test/mask/_Image_12L_7.png  \n",
            "  inflating: chase_db_384_384_dice_bce_0_4__0_4_1/split_2/test/mask/_Image_11L_1.png  \n",
            "  inflating: chase_db_384_384_dice_bce_0_4__0_4_1/split_2/test/mask/_Image_13L_8.png  \n",
            "  inflating: chase_db_384_384_dice_bce_0_4__0_4_1/split_2/test/mask/_Image_12R_2.png  \n",
            "  inflating: chase_db_384_384_dice_bce_0_4__0_4_1/split_2/test/mask/_Image_12L_3.png  \n",
            "  inflating: chase_db_384_384_dice_bce_0_4__0_4_1/split_2/test/mask/_Image_12R_4.png  \n",
            "  inflating: chase_db_384_384_dice_bce_0_4__0_4_1/split_2/test/mask/_Image_13L_0.png  \n",
            "  inflating: chase_db_384_384_dice_bce_0_4__0_4_1/split_2/test/mask/_Image_11R_1.png  \n",
            "  inflating: chase_db_384_384_dice_bce_0_4__0_4_1/split_2/test/mask/_Image_12R_7.png  \n",
            "  inflating: chase_db_384_384_dice_bce_0_4__0_4_1/split_2/test/mask/_Image_13L_6.png  \n",
            "  inflating: chase_db_384_384_dice_bce_0_4__0_4_1/split_2/test/mask/_Image_13L_4.png  \n",
            "  inflating: chase_db_384_384_dice_bce_0_4__0_4_1/split_2/test/mask/_Image_12L_1.png  \n",
            "  inflating: chase_db_384_384_dice_bce_0_4__0_4_1/split_2/test/mask/_Image_12R_8.png  \n",
            "  inflating: chase_db_384_384_dice_bce_0_4__0_4_1/split_2/test/mask/_Image_12L_8.png  \n",
            "  inflating: chase_db_384_384_dice_bce_0_4__0_4_1/split_2/test/mask/_Image_12L_5.png  \n",
            "  inflating: chase_db_384_384_dice_bce_0_4__0_4_1/split_2/test/mask/_Image_13L_5.png  \n",
            "  inflating: chase_db_384_384_dice_bce_0_4__0_4_1/split_2/test/mask/_Image_11L_4.png  \n",
            "  inflating: chase_db_384_384_dice_bce_0_4__0_4_1/split_2/test/mask/_Image_11L_7.png  \n",
            "  inflating: chase_db_384_384_dice_bce_0_4__0_4_1/split_2/test/mask/_Image_11L_0.png  \n",
            "  inflating: chase_db_384_384_dice_bce_0_4__0_4_1/split_2/test/mask/_Image_11L_8.png  \n",
            "  inflating: chase_db_384_384_dice_bce_0_4__0_4_1/split_2/test/mask/_Image_12L_4.png  \n",
            "  inflating: chase_db_384_384_dice_bce_0_4__0_4_1/split_2/test/mask/_Image_11L_5.png  \n",
            "  inflating: chase_db_384_384_dice_bce_0_4__0_4_1/split_2/test/mask/_Image_11R_2.png  \n",
            "  inflating: chase_db_384_384_dice_bce_0_4__0_4_1/split_2/test/mask/_Image_12R_5.png  \n",
            "  inflating: chase_db_384_384_dice_bce_0_4__0_4_1/split_2/test/mask/_Image_12R_0.png  \n",
            "  inflating: chase_db_384_384_dice_bce_0_4__0_4_1/split_2/test/mask/_Image_11R_7.png  \n",
            "  inflating: chase_db_384_384_dice_bce_0_4__0_4_1/split_2/test/mask/_Image_13L_2.png  \n",
            "  inflating: chase_db_384_384_dice_bce_0_4__0_4_1/split_2/test/mask/_Image_11L_3.png  \n",
            "  inflating: chase_db_384_384_dice_bce_0_4__0_4_1/split_2/test/mask/_Image_12R_6.png  \n",
            "  inflating: chase_db_384_384_dice_bce_0_4__0_4_1/split_2/test/mask/_Image_12L_6.png  \n",
            "  inflating: chase_db_384_384_dice_bce_0_4__0_4_1/split_2/test/mask/_Image_12R_3.png  \n",
            "  inflating: chase_db_384_384_dice_bce_0_4__0_4_1/split_2/test/mask/_Image_13L_1.png  \n",
            "  inflating: chase_db_384_384_dice_bce_0_4__0_4_1/split_2/test/mask/_Image_11R_4.png  \n",
            "  inflating: chase_db_384_384_dice_bce_0_4__0_4_1/split_2/test/mask/_Image_12L_0.png  \n",
            "  inflating: chase_db_384_384_dice_bce_0_4__0_4_1/split_2/test/mask/_Image_12L_2.png  \n",
            "  inflating: chase_db_384_384_dice_bce_0_4__0_4_1/split_2/test/mask/_Image_11R_6.png  \n",
            "  inflating: chase_db_384_384_dice_bce_0_4__0_4_1/split_2/test/mask/_Image_13L_7.png  \n",
            "  inflating: chase_db_384_384_dice_bce_0_4__0_4_1/split_2/test/mask/_Image_11R_5.png  \n",
            "   creating: chase_db_384_384_dice_bce_0_4__0_4_1/split_2/test/image/\n",
            "  inflating: chase_db_384_384_dice_bce_0_4__0_4_1/split_2/test/image/_Image_11R_3.png  \n",
            "  inflating: chase_db_384_384_dice_bce_0_4__0_4_1/split_2/test/image/_Image_12R_1.png  \n",
            "  inflating: chase_db_384_384_dice_bce_0_4__0_4_1/split_2/test/image/_Image_11L_6.png  \n",
            "  inflating: chase_db_384_384_dice_bce_0_4__0_4_1/split_2/test/image/_Image_11R_0.png  \n",
            "  inflating: chase_db_384_384_dice_bce_0_4__0_4_1/split_2/test/image/_Image_11L_2.png  \n",
            "  inflating: chase_db_384_384_dice_bce_0_4__0_4_1/split_2/test/image/_Image_13L_3.png  \n",
            "  inflating: chase_db_384_384_dice_bce_0_4__0_4_1/split_2/test/image/_Image_11R_8.png  \n",
            "  inflating: chase_db_384_384_dice_bce_0_4__0_4_1/split_2/test/image/_Image_12L_7.png  \n",
            "  inflating: chase_db_384_384_dice_bce_0_4__0_4_1/split_2/test/image/_Image_11L_1.png  \n",
            "  inflating: chase_db_384_384_dice_bce_0_4__0_4_1/split_2/test/image/_Image_13L_8.png  \n",
            "  inflating: chase_db_384_384_dice_bce_0_4__0_4_1/split_2/test/image/_Image_12R_2.png  \n",
            "  inflating: chase_db_384_384_dice_bce_0_4__0_4_1/split_2/test/image/_Image_12L_3.png  \n",
            "  inflating: chase_db_384_384_dice_bce_0_4__0_4_1/split_2/test/image/_Image_12R_4.png  \n",
            "  inflating: chase_db_384_384_dice_bce_0_4__0_4_1/split_2/test/image/_Image_13L_0.png  \n",
            "  inflating: chase_db_384_384_dice_bce_0_4__0_4_1/split_2/test/image/_Image_11R_1.png  \n",
            "  inflating: chase_db_384_384_dice_bce_0_4__0_4_1/split_2/test/image/_Image_12R_7.png  \n",
            "  inflating: chase_db_384_384_dice_bce_0_4__0_4_1/split_2/test/image/_Image_13L_6.png  \n",
            "  inflating: chase_db_384_384_dice_bce_0_4__0_4_1/split_2/test/image/_Image_13L_4.png  \n",
            "  inflating: chase_db_384_384_dice_bce_0_4__0_4_1/split_2/test/image/_Image_12L_1.png  \n",
            "  inflating: chase_db_384_384_dice_bce_0_4__0_4_1/split_2/test/image/_Image_12R_8.png  \n",
            "  inflating: chase_db_384_384_dice_bce_0_4__0_4_1/split_2/test/image/_Image_12L_8.png  \n",
            "  inflating: chase_db_384_384_dice_bce_0_4__0_4_1/split_2/test/image/_Image_12L_5.png  \n",
            "  inflating: chase_db_384_384_dice_bce_0_4__0_4_1/split_2/test/image/_Image_13L_5.png  \n",
            "  inflating: chase_db_384_384_dice_bce_0_4__0_4_1/split_2/test/image/_Image_11L_4.png  \n",
            "  inflating: chase_db_384_384_dice_bce_0_4__0_4_1/split_2/test/image/_Image_11L_7.png  \n",
            "  inflating: chase_db_384_384_dice_bce_0_4__0_4_1/split_2/test/image/_Image_11L_0.png  \n",
            "  inflating: chase_db_384_384_dice_bce_0_4__0_4_1/split_2/test/image/_Image_11L_8.png  \n",
            "  inflating: chase_db_384_384_dice_bce_0_4__0_4_1/split_2/test/image/_Image_12L_4.png  \n",
            "  inflating: chase_db_384_384_dice_bce_0_4__0_4_1/split_2/test/image/_Image_11L_5.png  \n",
            "  inflating: chase_db_384_384_dice_bce_0_4__0_4_1/split_2/test/image/_Image_11R_2.png  \n",
            "  inflating: chase_db_384_384_dice_bce_0_4__0_4_1/split_2/test/image/_Image_12R_5.png  \n",
            "  inflating: chase_db_384_384_dice_bce_0_4__0_4_1/split_2/test/image/_Image_12R_0.png  \n",
            "  inflating: chase_db_384_384_dice_bce_0_4__0_4_1/split_2/test/image/_Image_11R_7.png  \n",
            "  inflating: chase_db_384_384_dice_bce_0_4__0_4_1/split_2/test/image/_Image_13L_2.png  \n",
            "  inflating: chase_db_384_384_dice_bce_0_4__0_4_1/split_2/test/image/_Image_11L_3.png  \n",
            "  inflating: chase_db_384_384_dice_bce_0_4__0_4_1/split_2/test/image/_Image_12R_6.png  \n",
            "  inflating: chase_db_384_384_dice_bce_0_4__0_4_1/split_2/test/image/_Image_12L_6.png  \n",
            "  inflating: chase_db_384_384_dice_bce_0_4__0_4_1/split_2/test/image/_Image_12R_3.png  \n",
            "  inflating: chase_db_384_384_dice_bce_0_4__0_4_1/split_2/test/image/_Image_13L_1.png  \n",
            "  inflating: chase_db_384_384_dice_bce_0_4__0_4_1/split_2/test/image/_Image_11R_4.png  \n",
            "  inflating: chase_db_384_384_dice_bce_0_4__0_4_1/split_2/test/image/_Image_12L_0.png  \n",
            "  inflating: chase_db_384_384_dice_bce_0_4__0_4_1/split_2/test/image/_Image_12L_2.png  \n",
            "  inflating: chase_db_384_384_dice_bce_0_4__0_4_1/split_2/test/image/_Image_11R_6.png  \n",
            "  inflating: chase_db_384_384_dice_bce_0_4__0_4_1/split_2/test/image/_Image_13L_7.png  \n",
            "  inflating: chase_db_384_384_dice_bce_0_4__0_4_1/split_2/test/image/_Image_11R_5.png  \n",
            "   creating: chase_db_384_384_dice_bce_0_4__0_4_1/split_2/reconstructed/\n",
            "   creating: chase_db_384_384_dice_bce_0_4__0_4_1/split_2/reconstructed/test/\n",
            "   creating: chase_db_384_384_dice_bce_0_4__0_4_1/split_2/reconstructed/test/mask/\n",
            "  inflating: chase_db_384_384_dice_bce_0_4__0_4_1/split_2/reconstructed/test/mask/Image_13L.png  \n",
            "  inflating: chase_db_384_384_dice_bce_0_4__0_4_1/split_2/reconstructed/test/mask/Image_12R.png  \n",
            "  inflating: chase_db_384_384_dice_bce_0_4__0_4_1/split_2/reconstructed/test/mask/Image_12L.png  \n",
            "  inflating: chase_db_384_384_dice_bce_0_4__0_4_1/split_2/reconstructed/test/mask/Image_11R.png  \n",
            "  inflating: chase_db_384_384_dice_bce_0_4__0_4_1/split_2/reconstructed/test/mask/Image_11L.png  \n",
            "   creating: chase_db_384_384_dice_bce_0_4__0_4_1/split_2/reconstructed/test/predictions_reconstructed/\n",
            "  inflating: chase_db_384_384_dice_bce_0_4__0_4_1/split_2/reconstructed/test/predictions_reconstructed/Image_13L.png  \n",
            "  inflating: chase_db_384_384_dice_bce_0_4__0_4_1/split_2/reconstructed/test/predictions_reconstructed/Image_12R.png  \n",
            "  inflating: chase_db_384_384_dice_bce_0_4__0_4_1/split_2/reconstructed/test/predictions_reconstructed/Image_12L.png  \n",
            "  inflating: chase_db_384_384_dice_bce_0_4__0_4_1/split_2/reconstructed/test/predictions_reconstructed/Image_11R.png  \n",
            "  inflating: chase_db_384_384_dice_bce_0_4__0_4_1/split_2/reconstructed/test/predictions_reconstructed/Image_11L.png  \n",
            "   creating: chase_db_384_384_dice_bce_0_4__0_4_1/split_2/reconstructed/test/image/\n",
            "  inflating: chase_db_384_384_dice_bce_0_4__0_4_1/split_2/reconstructed/test/image/Image_13L.png  \n",
            "  inflating: chase_db_384_384_dice_bce_0_4__0_4_1/split_2/reconstructed/test/image/Image_12R.png  \n",
            "  inflating: chase_db_384_384_dice_bce_0_4__0_4_1/split_2/reconstructed/test/image/Image_12L.png  \n",
            "  inflating: chase_db_384_384_dice_bce_0_4__0_4_1/split_2/reconstructed/test/image/Image_11R.png  \n",
            "  inflating: chase_db_384_384_dice_bce_0_4__0_4_1/split_2/reconstructed/test/image/Image_11L.png  \n",
            "  inflating: chase_db_384_384_dice_bce_0_4__0_4_1/split_2/image_patches_384_384_test.csv  \n",
            "   creating: chase_db_384_384_dice_bce_0_4__0_4_1/split_2/train/\n",
            "   creating: chase_db_384_384_dice_bce_0_4__0_4_1/split_2/train/mask/\n",
            "  inflating: chase_db_384_384_dice_bce_0_4__0_4_1/split_2/train/mask/_Image_05R_1.png  \n",
            "  inflating: chase_db_384_384_dice_bce_0_4__0_4_1/split_2/train/mask/_Image_14L_3.png  \n",
            "  inflating: chase_db_384_384_dice_bce_0_4__0_4_1/split_2/train/mask/_Image_09R_6.png  \n",
            "  inflating: chase_db_384_384_dice_bce_0_4__0_4_1/split_2/train/mask/_Image_04L_0.png  \n",
            "  inflating: chase_db_384_384_dice_bce_0_4__0_4_1/split_2/train/mask/_Image_03L_0.png  \n",
            "  inflating: chase_db_384_384_dice_bce_0_4__0_4_1/split_2/train/mask/_Image_07R_3.png  \n",
            "  inflating: chase_db_384_384_dice_bce_0_4__0_4_1/split_2/train/mask/_Image_10R_4.png  \n",
            "  inflating: chase_db_384_384_dice_bce_0_4__0_4_1/split_2/train/mask/_Image_10L_2.png  \n",
            "  inflating: chase_db_384_384_dice_bce_0_4__0_4_1/split_2/train/mask/_Image_13R_7.png  \n",
            "  inflating: chase_db_384_384_dice_bce_0_4__0_4_1/split_2/train/mask/_Image_02L_0.png  \n",
            "  inflating: chase_db_384_384_dice_bce_0_4__0_4_1/split_2/train/mask/_Image_02L_4.png  \n",
            "  inflating: chase_db_384_384_dice_bce_0_4__0_4_1/split_2/train/mask/_Image_08L_3.png  \n",
            "  inflating: chase_db_384_384_dice_bce_0_4__0_4_1/split_2/train/mask/_Image_02L_5.png  \n",
            "  inflating: chase_db_384_384_dice_bce_0_4__0_4_1/split_2/train/mask/_Image_02R_1.png  \n",
            "  inflating: chase_db_384_384_dice_bce_0_4__0_4_1/split_2/train/mask/_Image_10R_3.png  \n",
            "  inflating: chase_db_384_384_dice_bce_0_4__0_4_1/split_2/train/mask/_Image_14R_1.png  \n",
            "  inflating: chase_db_384_384_dice_bce_0_4__0_4_1/split_2/train/mask/_Image_08R_8.png  \n",
            "  inflating: chase_db_384_384_dice_bce_0_4__0_4_1/split_2/train/mask/_Image_08R_1.png  \n",
            "  inflating: chase_db_384_384_dice_bce_0_4__0_4_1/split_2/train/mask/_Image_06R_2.png  \n",
            "  inflating: chase_db_384_384_dice_bce_0_4__0_4_1/split_2/train/mask/_Image_04R_7.png  \n",
            "  inflating: chase_db_384_384_dice_bce_0_4__0_4_1/split_2/train/mask/_Image_09R_0.png  \n",
            "  inflating: chase_db_384_384_dice_bce_0_4__0_4_1/split_2/train/mask/_Image_10L_4.png  \n",
            "  inflating: chase_db_384_384_dice_bce_0_4__0_4_1/split_2/train/mask/_Image_04R_5.png  \n",
            "  inflating: chase_db_384_384_dice_bce_0_4__0_4_1/split_2/train/mask/_Image_13R_6.png  \n",
            "  inflating: chase_db_384_384_dice_bce_0_4__0_4_1/split_2/train/mask/_Image_06L_0.png  \n",
            "  inflating: chase_db_384_384_dice_bce_0_4__0_4_1/split_2/train/mask/_Image_01R_4.png  \n",
            "  inflating: chase_db_384_384_dice_bce_0_4__0_4_1/split_2/train/mask/_Image_14L_8.png  \n",
            "  inflating: chase_db_384_384_dice_bce_0_4__0_4_1/split_2/train/mask/_Image_05L_1.png  \n",
            "  inflating: chase_db_384_384_dice_bce_0_4__0_4_1/split_2/train/mask/_Image_09L_1.png  \n",
            "  inflating: chase_db_384_384_dice_bce_0_4__0_4_1/split_2/train/mask/_Image_02L_7.png  \n",
            "  inflating: chase_db_384_384_dice_bce_0_4__0_4_1/split_2/train/mask/_Image_06L_1.png  \n",
            "  inflating: chase_db_384_384_dice_bce_0_4__0_4_1/split_2/train/mask/_Image_03R_4.png  \n",
            "  inflating: chase_db_384_384_dice_bce_0_4__0_4_1/split_2/train/mask/_Image_01L_8.png  \n",
            "  inflating: chase_db_384_384_dice_bce_0_4__0_4_1/split_2/train/mask/_Image_01R_5.png  \n",
            "  inflating: chase_db_384_384_dice_bce_0_4__0_4_1/split_2/train/mask/_Image_14L_0.png  \n",
            "  inflating: chase_db_384_384_dice_bce_0_4__0_4_1/split_2/train/mask/_Image_05L_3.png  \n",
            "  inflating: chase_db_384_384_dice_bce_0_4__0_4_1/split_2/train/mask/_Image_08L_6.png  \n",
            "  inflating: chase_db_384_384_dice_bce_0_4__0_4_1/split_2/train/mask/_Image_13R_5.png  \n",
            "  inflating: chase_db_384_384_dice_bce_0_4__0_4_1/split_2/train/mask/_Image_07L_2.png  \n",
            "  inflating: chase_db_384_384_dice_bce_0_4__0_4_1/split_2/train/mask/_Image_02L_1.png  \n",
            "  inflating: chase_db_384_384_dice_bce_0_4__0_4_1/split_2/train/mask/_Image_05R_2.png  \n",
            "  inflating: chase_db_384_384_dice_bce_0_4__0_4_1/split_2/train/mask/_Image_07L_5.png  \n",
            "  inflating: chase_db_384_384_dice_bce_0_4__0_4_1/split_2/train/mask/_Image_14L_1.png  \n",
            "  inflating: chase_db_384_384_dice_bce_0_4__0_4_1/split_2/train/mask/_Image_05L_7.png  \n",
            "  inflating: chase_db_384_384_dice_bce_0_4__0_4_1/split_2/train/mask/_Image_10R_1.png  \n",
            "  inflating: chase_db_384_384_dice_bce_0_4__0_4_1/split_2/train/mask/_Image_08L_7.png  \n",
            "  inflating: chase_db_384_384_dice_bce_0_4__0_4_1/split_2/train/mask/_Image_05L_5.png  \n",
            "  inflating: chase_db_384_384_dice_bce_0_4__0_4_1/split_2/train/mask/_Image_07L_3.png  \n",
            "  inflating: chase_db_384_384_dice_bce_0_4__0_4_1/split_2/train/mask/_Image_04R_3.png  \n",
            "  inflating: chase_db_384_384_dice_bce_0_4__0_4_1/split_2/train/mask/_Image_03R_7.png  \n",
            "  inflating: chase_db_384_384_dice_bce_0_4__0_4_1/split_2/train/mask/_Image_04R_6.png  \n",
            "  inflating: chase_db_384_384_dice_bce_0_4__0_4_1/split_2/train/mask/_Image_13R_3.png  \n",
            "  inflating: chase_db_384_384_dice_bce_0_4__0_4_1/split_2/train/mask/_Image_08R_6.png  \n",
            "  inflating: chase_db_384_384_dice_bce_0_4__0_4_1/split_2/train/mask/_Image_09L_4.png  \n",
            "  inflating: chase_db_384_384_dice_bce_0_4__0_4_1/split_2/train/mask/_Image_02L_3.png  \n",
            "  inflating: chase_db_384_384_dice_bce_0_4__0_4_1/split_2/train/mask/_Image_04L_2.png  \n",
            "  inflating: chase_db_384_384_dice_bce_0_4__0_4_1/split_2/train/mask/_Image_09R_4.png  \n",
            "  inflating: chase_db_384_384_dice_bce_0_4__0_4_1/split_2/train/mask/_Image_10L_7.png  \n",
            "  inflating: chase_db_384_384_dice_bce_0_4__0_4_1/split_2/train/mask/_Image_01R_6.png  \n",
            "  inflating: chase_db_384_384_dice_bce_0_4__0_4_1/split_2/train/mask/_Image_02R_5.png  \n",
            "  inflating: chase_db_384_384_dice_bce_0_4__0_4_1/split_2/train/mask/_Image_07L_0.png  \n",
            "  inflating: chase_db_384_384_dice_bce_0_4__0_4_1/split_2/train/mask/_Image_05R_5.png  \n",
            "  inflating: chase_db_384_384_dice_bce_0_4__0_4_1/split_2/train/mask/_Image_09L_2.png  \n",
            "  inflating: chase_db_384_384_dice_bce_0_4__0_4_1/split_2/train/mask/_Image_03L_3.png  \n",
            "  inflating: chase_db_384_384_dice_bce_0_4__0_4_1/split_2/train/mask/_Image_04L_8.png  \n",
            "  inflating: chase_db_384_384_dice_bce_0_4__0_4_1/split_2/train/mask/_Image_02L_8.png  \n",
            "  inflating: chase_db_384_384_dice_bce_0_4__0_4_1/split_2/train/mask/_Image_03R_3.png  \n",
            "  inflating: chase_db_384_384_dice_bce_0_4__0_4_1/split_2/train/mask/_Image_08L_4.png  \n",
            "  inflating: chase_db_384_384_dice_bce_0_4__0_4_1/split_2/train/mask/_Image_10L_3.png  \n",
            "  inflating: chase_db_384_384_dice_bce_0_4__0_4_1/split_2/train/mask/_Image_05L_6.png  \n",
            "  inflating: chase_db_384_384_dice_bce_0_4__0_4_1/split_2/train/mask/_Image_01L_2.png  \n",
            "  inflating: chase_db_384_384_dice_bce_0_4__0_4_1/split_2/train/mask/_Image_03L_2.png  \n",
            "  inflating: chase_db_384_384_dice_bce_0_4__0_4_1/split_2/train/mask/_Image_08L_5.png  \n",
            "  inflating: chase_db_384_384_dice_bce_0_4__0_4_1/split_2/train/mask/_Image_05R_4.png  \n",
            "  inflating: chase_db_384_384_dice_bce_0_4__0_4_1/split_2/train/mask/_Image_04L_4.png  \n",
            "  inflating: chase_db_384_384_dice_bce_0_4__0_4_1/split_2/train/mask/_Image_07R_4.png  \n",
            "  inflating: chase_db_384_384_dice_bce_0_4__0_4_1/split_2/train/mask/_Image_05R_6.png  \n",
            "  inflating: chase_db_384_384_dice_bce_0_4__0_4_1/split_2/train/mask/_Image_02L_2.png  \n",
            "  inflating: chase_db_384_384_dice_bce_0_4__0_4_1/split_2/train/mask/_Image_14R_7.png  \n",
            "  inflating: chase_db_384_384_dice_bce_0_4__0_4_1/split_2/train/mask/_Image_14R_0.png  \n",
            "  inflating: chase_db_384_384_dice_bce_0_4__0_4_1/split_2/train/mask/_Image_08R_0.png  \n",
            "  inflating: chase_db_384_384_dice_bce_0_4__0_4_1/split_2/train/mask/_Image_07R_1.png  \n",
            "  inflating: chase_db_384_384_dice_bce_0_4__0_4_1/split_2/train/mask/_Image_03R_0.png  \n",
            "  inflating: chase_db_384_384_dice_bce_0_4__0_4_1/split_2/train/mask/_Image_05R_7.png  \n",
            "  inflating: chase_db_384_384_dice_bce_0_4__0_4_1/split_2/train/mask/_Image_08R_7.png  \n",
            "  inflating: chase_db_384_384_dice_bce_0_4__0_4_1/split_2/train/mask/_Image_09R_2.png  \n",
            "  inflating: chase_db_384_384_dice_bce_0_4__0_4_1/split_2/train/mask/_Image_09L_7.png  \n",
            "  inflating: chase_db_384_384_dice_bce_0_4__0_4_1/split_2/train/mask/_Image_08R_2.png  \n",
            "  inflating: chase_db_384_384_dice_bce_0_4__0_4_1/split_2/train/mask/_Image_02R_3.png  \n",
            "  inflating: chase_db_384_384_dice_bce_0_4__0_4_1/split_2/train/mask/_Image_14R_5.png  \n",
            "  inflating: chase_db_384_384_dice_bce_0_4__0_4_1/split_2/train/mask/_Image_01L_1.png  \n",
            "  inflating: chase_db_384_384_dice_bce_0_4__0_4_1/split_2/train/mask/_Image_06R_7.png  \n",
            "  inflating: chase_db_384_384_dice_bce_0_4__0_4_1/split_2/train/mask/_Image_08R_3.png  \n",
            "  inflating: chase_db_384_384_dice_bce_0_4__0_4_1/split_2/train/mask/_Image_04R_0.png  \n",
            "  inflating: chase_db_384_384_dice_bce_0_4__0_4_1/split_2/train/mask/_Image_03R_6.png  \n",
            "  inflating: chase_db_384_384_dice_bce_0_4__0_4_1/split_2/train/mask/_Image_03R_8.png  \n",
            "  inflating: chase_db_384_384_dice_bce_0_4__0_4_1/split_2/train/mask/_Image_09L_3.png  \n",
            "  inflating: chase_db_384_384_dice_bce_0_4__0_4_1/split_2/train/mask/_Image_07L_8.png  \n",
            "  inflating: chase_db_384_384_dice_bce_0_4__0_4_1/split_2/train/mask/_Image_03L_6.png  \n",
            "  inflating: chase_db_384_384_dice_bce_0_4__0_4_1/split_2/train/mask/_Image_09R_7.png  \n",
            "  inflating: chase_db_384_384_dice_bce_0_4__0_4_1/split_2/train/mask/_Image_04R_4.png  \n",
            "  inflating: chase_db_384_384_dice_bce_0_4__0_4_1/split_2/train/mask/_Image_04L_7.png  \n",
            "  inflating: chase_db_384_384_dice_bce_0_4__0_4_1/split_2/train/mask/_Image_10L_8.png  \n",
            "  inflating: chase_db_384_384_dice_bce_0_4__0_4_1/split_2/train/mask/_Image_02R_7.png  \n",
            "  inflating: chase_db_384_384_dice_bce_0_4__0_4_1/split_2/train/mask/_Image_07L_7.png  \n",
            "  inflating: chase_db_384_384_dice_bce_0_4__0_4_1/split_2/train/mask/_Image_14L_4.png  \n",
            "  inflating: chase_db_384_384_dice_bce_0_4__0_4_1/split_2/train/mask/_Image_13R_0.png  \n",
            "  inflating: chase_db_384_384_dice_bce_0_4__0_4_1/split_2/train/mask/_Image_07L_6.png  \n",
            "  inflating: chase_db_384_384_dice_bce_0_4__0_4_1/split_2/train/mask/_Image_07R_5.png  \n",
            "  inflating: chase_db_384_384_dice_bce_0_4__0_4_1/split_2/train/mask/_Image_13R_8.png  \n",
            "  inflating: chase_db_384_384_dice_bce_0_4__0_4_1/split_2/train/mask/_Image_14R_4.png  \n",
            "  inflating: chase_db_384_384_dice_bce_0_4__0_4_1/split_2/train/mask/_Image_04L_6.png  \n",
            "  inflating: chase_db_384_384_dice_bce_0_4__0_4_1/split_2/train/mask/_Image_02R_2.png  \n",
            "  inflating: chase_db_384_384_dice_bce_0_4__0_4_1/split_2/train/mask/_Image_09R_3.png  \n",
            "  inflating: chase_db_384_384_dice_bce_0_4__0_4_1/split_2/train/mask/_Image_06R_4.png  \n",
            "  inflating: chase_db_384_384_dice_bce_0_4__0_4_1/split_2/train/mask/_Image_05L_8.png  \n",
            "  inflating: chase_db_384_384_dice_bce_0_4__0_4_1/split_2/train/mask/_Image_07R_2.png  \n",
            "  inflating: chase_db_384_384_dice_bce_0_4__0_4_1/split_2/train/mask/_Image_09R_5.png  \n",
            "  inflating: chase_db_384_384_dice_bce_0_4__0_4_1/split_2/train/mask/_Image_04L_3.png  \n",
            "  inflating: chase_db_384_384_dice_bce_0_4__0_4_1/split_2/train/mask/_Image_04R_2.png  \n",
            "  inflating: chase_db_384_384_dice_bce_0_4__0_4_1/split_2/train/mask/_Image_10R_5.png  \n",
            "  inflating: chase_db_384_384_dice_bce_0_4__0_4_1/split_2/train/mask/_Image_01R_0.png  \n",
            "  inflating: chase_db_384_384_dice_bce_0_4__0_4_1/split_2/train/mask/_Image_01R_8.png  \n",
            "  inflating: chase_db_384_384_dice_bce_0_4__0_4_1/split_2/train/mask/_Image_04L_1.png  \n",
            "  inflating: chase_db_384_384_dice_bce_0_4__0_4_1/split_2/train/mask/_Image_05R_3.png  \n",
            "  inflating: chase_db_384_384_dice_bce_0_4__0_4_1/split_2/train/mask/_Image_07R_8.png  \n",
            "  inflating: chase_db_384_384_dice_bce_0_4__0_4_1/split_2/train/mask/_Image_04L_5.png  \n",
            "  inflating: chase_db_384_384_dice_bce_0_4__0_4_1/split_2/train/mask/_Image_10R_8.png  \n",
            "  inflating: chase_db_384_384_dice_bce_0_4__0_4_1/split_2/train/mask/_Image_01L_0.png  \n",
            "  inflating: chase_db_384_384_dice_bce_0_4__0_4_1/split_2/train/mask/_Image_07L_4.png  \n",
            "  inflating: chase_db_384_384_dice_bce_0_4__0_4_1/split_2/train/mask/_Image_06L_7.png  \n",
            "  inflating: chase_db_384_384_dice_bce_0_4__0_4_1/split_2/train/mask/_Image_14R_3.png  \n",
            "  inflating: chase_db_384_384_dice_bce_0_4__0_4_1/split_2/train/mask/_Image_03L_4.png  \n",
            "  inflating: chase_db_384_384_dice_bce_0_4__0_4_1/split_2/train/mask/_Image_01R_1.png  \n",
            "  inflating: chase_db_384_384_dice_bce_0_4__0_4_1/split_2/train/mask/_Image_04R_1.png  \n",
            "  inflating: chase_db_384_384_dice_bce_0_4__0_4_1/split_2/train/mask/_Image_04R_8.png  \n",
            "  inflating: chase_db_384_384_dice_bce_0_4__0_4_1/split_2/train/mask/_Image_13R_1.png  \n",
            "  inflating: chase_db_384_384_dice_bce_0_4__0_4_1/split_2/train/mask/_Image_03L_8.png  \n",
            "  inflating: chase_db_384_384_dice_bce_0_4__0_4_1/split_2/train/mask/_Image_14L_2.png  \n",
            "  inflating: chase_db_384_384_dice_bce_0_4__0_4_1/split_2/train/mask/_Image_09L_8.png  \n",
            "  inflating: chase_db_384_384_dice_bce_0_4__0_4_1/split_2/train/mask/_Image_13R_2.png  \n",
            "  inflating: chase_db_384_384_dice_bce_0_4__0_4_1/split_2/train/mask/_Image_09R_8.png  \n",
            "  inflating: chase_db_384_384_dice_bce_0_4__0_4_1/split_2/train/mask/_Image_08L_1.png  \n",
            "  inflating: chase_db_384_384_dice_bce_0_4__0_4_1/split_2/train/mask/_Image_02R_8.png  \n",
            "  inflating: chase_db_384_384_dice_bce_0_4__0_4_1/split_2/train/mask/_Image_02R_6.png  \n",
            "  inflating: chase_db_384_384_dice_bce_0_4__0_4_1/split_2/train/mask/_Image_06L_3.png  \n",
            "  inflating: chase_db_384_384_dice_bce_0_4__0_4_1/split_2/train/mask/_Image_02R_0.png  \n",
            "  inflating: chase_db_384_384_dice_bce_0_4__0_4_1/split_2/train/mask/_Image_10L_1.png  \n",
            "  inflating: chase_db_384_384_dice_bce_0_4__0_4_1/split_2/train/mask/_Image_10L_5.png  \n",
            "  inflating: chase_db_384_384_dice_bce_0_4__0_4_1/split_2/train/mask/_Image_10R_0.png  \n",
            "  inflating: chase_db_384_384_dice_bce_0_4__0_4_1/split_2/train/mask/_Image_07R_6.png  \n",
            "  inflating: chase_db_384_384_dice_bce_0_4__0_4_1/split_2/train/mask/_Image_09L_6.png  \n",
            "  inflating: chase_db_384_384_dice_bce_0_4__0_4_1/split_2/train/mask/_Image_10R_7.png  \n",
            "  inflating: chase_db_384_384_dice_bce_0_4__0_4_1/split_2/train/mask/_Image_10L_0.png  \n",
            "  inflating: chase_db_384_384_dice_bce_0_4__0_4_1/split_2/train/mask/_Image_14R_2.png  \n",
            "  inflating: chase_db_384_384_dice_bce_0_4__0_4_1/split_2/train/mask/_Image_13R_4.png  \n",
            "  inflating: chase_db_384_384_dice_bce_0_4__0_4_1/split_2/train/mask/_Image_03R_5.png  \n",
            "  inflating: chase_db_384_384_dice_bce_0_4__0_4_1/split_2/train/mask/_Image_06R_5.png  \n",
            "  inflating: chase_db_384_384_dice_bce_0_4__0_4_1/split_2/train/mask/_Image_07R_7.png  \n",
            "  inflating: chase_db_384_384_dice_bce_0_4__0_4_1/split_2/train/mask/_Image_14R_8.png  \n",
            "  inflating: chase_db_384_384_dice_bce_0_4__0_4_1/split_2/train/mask/_Image_06R_1.png  \n",
            "  inflating: chase_db_384_384_dice_bce_0_4__0_4_1/split_2/train/mask/_Image_01R_7.png  \n",
            "  inflating: chase_db_384_384_dice_bce_0_4__0_4_1/split_2/train/mask/_Image_08R_4.png  \n",
            "  inflating: chase_db_384_384_dice_bce_0_4__0_4_1/split_2/train/mask/_Image_01L_6.png  \n",
            "  inflating: chase_db_384_384_dice_bce_0_4__0_4_1/split_2/train/mask/_Image_14L_7.png  \n",
            "  inflating: chase_db_384_384_dice_bce_0_4__0_4_1/split_2/train/mask/_Image_02L_6.png  \n",
            "  inflating: chase_db_384_384_dice_bce_0_4__0_4_1/split_2/train/mask/_Image_06L_6.png  \n",
            "  inflating: chase_db_384_384_dice_bce_0_4__0_4_1/split_2/train/mask/_Image_10R_6.png  \n",
            "  inflating: chase_db_384_384_dice_bce_0_4__0_4_1/split_2/train/mask/_Image_07L_1.png  \n",
            "  inflating: chase_db_384_384_dice_bce_0_4__0_4_1/split_2/train/mask/_Image_09L_5.png  \n",
            "  inflating: chase_db_384_384_dice_bce_0_4__0_4_1/split_2/train/mask/_Image_01L_5.png  \n",
            "  inflating: chase_db_384_384_dice_bce_0_4__0_4_1/split_2/train/mask/_Image_03L_1.png  \n",
            "  inflating: chase_db_384_384_dice_bce_0_4__0_4_1/split_2/train/mask/_Image_01R_2.png  \n",
            "  inflating: chase_db_384_384_dice_bce_0_4__0_4_1/split_2/train/mask/_Image_05R_0.png  \n",
            "  inflating: chase_db_384_384_dice_bce_0_4__0_4_1/split_2/train/mask/_Image_03R_2.png  \n",
            "  inflating: chase_db_384_384_dice_bce_0_4__0_4_1/split_2/train/mask/_Image_01L_4.png  \n",
            "  inflating: chase_db_384_384_dice_bce_0_4__0_4_1/split_2/train/mask/_Image_02R_4.png  \n",
            "  inflating: chase_db_384_384_dice_bce_0_4__0_4_1/split_2/train/mask/_Image_03L_7.png  \n",
            "  inflating: chase_db_384_384_dice_bce_0_4__0_4_1/split_2/train/mask/_Image_06R_3.png  \n",
            "  inflating: chase_db_384_384_dice_bce_0_4__0_4_1/split_2/train/mask/_Image_06R_8.png  \n",
            "  inflating: chase_db_384_384_dice_bce_0_4__0_4_1/split_2/train/mask/_Image_14L_6.png  \n",
            "  inflating: chase_db_384_384_dice_bce_0_4__0_4_1/split_2/train/mask/_Image_10R_2.png  \n",
            "  inflating: chase_db_384_384_dice_bce_0_4__0_4_1/split_2/train/mask/_Image_01L_3.png  \n",
            "  inflating: chase_db_384_384_dice_bce_0_4__0_4_1/split_2/train/mask/_Image_09R_1.png  \n",
            "  inflating: chase_db_384_384_dice_bce_0_4__0_4_1/split_2/train/mask/_Image_05L_0.png  \n",
            "  inflating: chase_db_384_384_dice_bce_0_4__0_4_1/split_2/train/mask/_Image_06L_8.png  \n",
            "  inflating: chase_db_384_384_dice_bce_0_4__0_4_1/split_2/train/mask/_Image_08R_5.png  \n",
            "  inflating: chase_db_384_384_dice_bce_0_4__0_4_1/split_2/train/mask/_Image_08L_8.png  \n",
            "  inflating: chase_db_384_384_dice_bce_0_4__0_4_1/split_2/train/mask/_Image_14R_6.png  \n",
            "  inflating: chase_db_384_384_dice_bce_0_4__0_4_1/split_2/train/mask/_Image_01L_7.png  \n",
            "  inflating: chase_db_384_384_dice_bce_0_4__0_4_1/split_2/train/mask/_Image_09L_0.png  \n",
            "  inflating: chase_db_384_384_dice_bce_0_4__0_4_1/split_2/train/mask/_Image_06L_5.png  \n",
            "  inflating: chase_db_384_384_dice_bce_0_4__0_4_1/split_2/train/mask/_Image_10L_6.png  \n",
            "  inflating: chase_db_384_384_dice_bce_0_4__0_4_1/split_2/train/mask/_Image_08L_2.png  \n",
            "  inflating: chase_db_384_384_dice_bce_0_4__0_4_1/split_2/train/mask/_Image_06L_4.png  \n",
            "  inflating: chase_db_384_384_dice_bce_0_4__0_4_1/split_2/train/mask/_Image_06L_2.png  \n",
            "  inflating: chase_db_384_384_dice_bce_0_4__0_4_1/split_2/train/mask/_Image_06R_0.png  \n",
            "  inflating: chase_db_384_384_dice_bce_0_4__0_4_1/split_2/train/mask/_Image_05L_2.png  \n",
            "  inflating: chase_db_384_384_dice_bce_0_4__0_4_1/split_2/train/mask/_Image_05R_8.png  \n",
            "  inflating: chase_db_384_384_dice_bce_0_4__0_4_1/split_2/train/mask/_Image_01R_3.png  \n",
            "  inflating: chase_db_384_384_dice_bce_0_4__0_4_1/split_2/train/mask/_Image_07R_0.png  \n",
            "  inflating: chase_db_384_384_dice_bce_0_4__0_4_1/split_2/train/mask/_Image_14L_5.png  \n",
            "  inflating: chase_db_384_384_dice_bce_0_4__0_4_1/split_2/train/mask/_Image_05L_4.png  \n",
            "  inflating: chase_db_384_384_dice_bce_0_4__0_4_1/split_2/train/mask/_Image_03R_1.png  \n",
            "  inflating: chase_db_384_384_dice_bce_0_4__0_4_1/split_2/train/mask/_Image_08L_0.png  \n",
            "  inflating: chase_db_384_384_dice_bce_0_4__0_4_1/split_2/train/mask/_Image_03L_5.png  \n",
            "  inflating: chase_db_384_384_dice_bce_0_4__0_4_1/split_2/train/mask/_Image_06R_6.png  \n",
            "   creating: chase_db_384_384_dice_bce_0_4__0_4_1/split_2/train/image/\n",
            "  inflating: chase_db_384_384_dice_bce_0_4__0_4_1/split_2/train/image/_Image_05R_1.png  \n",
            "  inflating: chase_db_384_384_dice_bce_0_4__0_4_1/split_2/train/image/_Image_14L_3.png  \n",
            "  inflating: chase_db_384_384_dice_bce_0_4__0_4_1/split_2/train/image/_Image_09R_6.png  \n",
            "  inflating: chase_db_384_384_dice_bce_0_4__0_4_1/split_2/train/image/_Image_04L_0.png  \n",
            "  inflating: chase_db_384_384_dice_bce_0_4__0_4_1/split_2/train/image/_Image_03L_0.png  \n",
            "  inflating: chase_db_384_384_dice_bce_0_4__0_4_1/split_2/train/image/_Image_07R_3.png  \n",
            "  inflating: chase_db_384_384_dice_bce_0_4__0_4_1/split_2/train/image/_Image_10R_4.png  \n",
            "  inflating: chase_db_384_384_dice_bce_0_4__0_4_1/split_2/train/image/_Image_10L_2.png  \n",
            "  inflating: chase_db_384_384_dice_bce_0_4__0_4_1/split_2/train/image/_Image_13R_7.png  \n",
            "  inflating: chase_db_384_384_dice_bce_0_4__0_4_1/split_2/train/image/_Image_02L_0.png  \n",
            "  inflating: chase_db_384_384_dice_bce_0_4__0_4_1/split_2/train/image/_Image_02L_4.png  \n",
            "  inflating: chase_db_384_384_dice_bce_0_4__0_4_1/split_2/train/image/_Image_08L_3.png  \n",
            "  inflating: chase_db_384_384_dice_bce_0_4__0_4_1/split_2/train/image/_Image_02L_5.png  \n",
            "  inflating: chase_db_384_384_dice_bce_0_4__0_4_1/split_2/train/image/_Image_02R_1.png  \n",
            "  inflating: chase_db_384_384_dice_bce_0_4__0_4_1/split_2/train/image/_Image_10R_3.png  \n",
            "  inflating: chase_db_384_384_dice_bce_0_4__0_4_1/split_2/train/image/_Image_14R_1.png  \n",
            "  inflating: chase_db_384_384_dice_bce_0_4__0_4_1/split_2/train/image/_Image_08R_8.png  \n",
            "  inflating: chase_db_384_384_dice_bce_0_4__0_4_1/split_2/train/image/_Image_08R_1.png  \n",
            "  inflating: chase_db_384_384_dice_bce_0_4__0_4_1/split_2/train/image/_Image_06R_2.png  \n",
            "  inflating: chase_db_384_384_dice_bce_0_4__0_4_1/split_2/train/image/_Image_04R_7.png  \n",
            "  inflating: chase_db_384_384_dice_bce_0_4__0_4_1/split_2/train/image/_Image_09R_0.png  \n",
            "  inflating: chase_db_384_384_dice_bce_0_4__0_4_1/split_2/train/image/_Image_10L_4.png  \n",
            "  inflating: chase_db_384_384_dice_bce_0_4__0_4_1/split_2/train/image/_Image_04R_5.png  \n",
            "  inflating: chase_db_384_384_dice_bce_0_4__0_4_1/split_2/train/image/_Image_13R_6.png  \n",
            "  inflating: chase_db_384_384_dice_bce_0_4__0_4_1/split_2/train/image/_Image_06L_0.png  \n",
            "  inflating: chase_db_384_384_dice_bce_0_4__0_4_1/split_2/train/image/_Image_01R_4.png  \n",
            "  inflating: chase_db_384_384_dice_bce_0_4__0_4_1/split_2/train/image/_Image_14L_8.png  \n",
            "  inflating: chase_db_384_384_dice_bce_0_4__0_4_1/split_2/train/image/_Image_05L_1.png  \n",
            "  inflating: chase_db_384_384_dice_bce_0_4__0_4_1/split_2/train/image/_Image_09L_1.png  \n",
            "  inflating: chase_db_384_384_dice_bce_0_4__0_4_1/split_2/train/image/_Image_02L_7.png  \n",
            "  inflating: chase_db_384_384_dice_bce_0_4__0_4_1/split_2/train/image/_Image_06L_1.png  \n",
            "  inflating: chase_db_384_384_dice_bce_0_4__0_4_1/split_2/train/image/_Image_03R_4.png  \n",
            "  inflating: chase_db_384_384_dice_bce_0_4__0_4_1/split_2/train/image/_Image_01L_8.png  \n",
            "  inflating: chase_db_384_384_dice_bce_0_4__0_4_1/split_2/train/image/_Image_01R_5.png  \n",
            "  inflating: chase_db_384_384_dice_bce_0_4__0_4_1/split_2/train/image/_Image_14L_0.png  \n",
            "  inflating: chase_db_384_384_dice_bce_0_4__0_4_1/split_2/train/image/_Image_05L_3.png  \n",
            "  inflating: chase_db_384_384_dice_bce_0_4__0_4_1/split_2/train/image/_Image_08L_6.png  \n",
            "  inflating: chase_db_384_384_dice_bce_0_4__0_4_1/split_2/train/image/_Image_13R_5.png  \n",
            "  inflating: chase_db_384_384_dice_bce_0_4__0_4_1/split_2/train/image/_Image_07L_2.png  \n",
            "  inflating: chase_db_384_384_dice_bce_0_4__0_4_1/split_2/train/image/_Image_02L_1.png  \n",
            "  inflating: chase_db_384_384_dice_bce_0_4__0_4_1/split_2/train/image/_Image_05R_2.png  \n",
            "  inflating: chase_db_384_384_dice_bce_0_4__0_4_1/split_2/train/image/_Image_07L_5.png  \n",
            "  inflating: chase_db_384_384_dice_bce_0_4__0_4_1/split_2/train/image/_Image_14L_1.png  \n",
            "  inflating: chase_db_384_384_dice_bce_0_4__0_4_1/split_2/train/image/_Image_05L_7.png  \n",
            "  inflating: chase_db_384_384_dice_bce_0_4__0_4_1/split_2/train/image/_Image_10R_1.png  \n",
            "  inflating: chase_db_384_384_dice_bce_0_4__0_4_1/split_2/train/image/_Image_08L_7.png  \n",
            "  inflating: chase_db_384_384_dice_bce_0_4__0_4_1/split_2/train/image/_Image_05L_5.png  \n",
            "  inflating: chase_db_384_384_dice_bce_0_4__0_4_1/split_2/train/image/_Image_07L_3.png  \n",
            "  inflating: chase_db_384_384_dice_bce_0_4__0_4_1/split_2/train/image/_Image_04R_3.png  \n",
            "  inflating: chase_db_384_384_dice_bce_0_4__0_4_1/split_2/train/image/_Image_03R_7.png  \n",
            "  inflating: chase_db_384_384_dice_bce_0_4__0_4_1/split_2/train/image/_Image_04R_6.png  \n",
            "  inflating: chase_db_384_384_dice_bce_0_4__0_4_1/split_2/train/image/_Image_13R_3.png  \n",
            "  inflating: chase_db_384_384_dice_bce_0_4__0_4_1/split_2/train/image/_Image_08R_6.png  \n",
            "  inflating: chase_db_384_384_dice_bce_0_4__0_4_1/split_2/train/image/_Image_09L_4.png  \n",
            "  inflating: chase_db_384_384_dice_bce_0_4__0_4_1/split_2/train/image/_Image_02L_3.png  \n",
            "  inflating: chase_db_384_384_dice_bce_0_4__0_4_1/split_2/train/image/_Image_04L_2.png  \n",
            "  inflating: chase_db_384_384_dice_bce_0_4__0_4_1/split_2/train/image/_Image_09R_4.png  \n",
            "  inflating: chase_db_384_384_dice_bce_0_4__0_4_1/split_2/train/image/_Image_10L_7.png  \n",
            "  inflating: chase_db_384_384_dice_bce_0_4__0_4_1/split_2/train/image/_Image_01R_6.png  \n",
            "  inflating: chase_db_384_384_dice_bce_0_4__0_4_1/split_2/train/image/_Image_02R_5.png  \n",
            "  inflating: chase_db_384_384_dice_bce_0_4__0_4_1/split_2/train/image/_Image_07L_0.png  \n",
            "  inflating: chase_db_384_384_dice_bce_0_4__0_4_1/split_2/train/image/_Image_05R_5.png  \n",
            "  inflating: chase_db_384_384_dice_bce_0_4__0_4_1/split_2/train/image/_Image_09L_2.png  \n",
            "  inflating: chase_db_384_384_dice_bce_0_4__0_4_1/split_2/train/image/_Image_03L_3.png  \n",
            "  inflating: chase_db_384_384_dice_bce_0_4__0_4_1/split_2/train/image/_Image_04L_8.png  \n",
            "  inflating: chase_db_384_384_dice_bce_0_4__0_4_1/split_2/train/image/_Image_02L_8.png  \n",
            "  inflating: chase_db_384_384_dice_bce_0_4__0_4_1/split_2/train/image/_Image_03R_3.png  \n",
            "  inflating: chase_db_384_384_dice_bce_0_4__0_4_1/split_2/train/image/_Image_08L_4.png  \n",
            "  inflating: chase_db_384_384_dice_bce_0_4__0_4_1/split_2/train/image/_Image_10L_3.png  \n",
            "  inflating: chase_db_384_384_dice_bce_0_4__0_4_1/split_2/train/image/_Image_05L_6.png  \n",
            "  inflating: chase_db_384_384_dice_bce_0_4__0_4_1/split_2/train/image/_Image_01L_2.png  \n",
            "  inflating: chase_db_384_384_dice_bce_0_4__0_4_1/split_2/train/image/_Image_03L_2.png  \n",
            "  inflating: chase_db_384_384_dice_bce_0_4__0_4_1/split_2/train/image/_Image_08L_5.png  \n",
            "  inflating: chase_db_384_384_dice_bce_0_4__0_4_1/split_2/train/image/_Image_05R_4.png  \n",
            "  inflating: chase_db_384_384_dice_bce_0_4__0_4_1/split_2/train/image/_Image_04L_4.png  \n",
            "  inflating: chase_db_384_384_dice_bce_0_4__0_4_1/split_2/train/image/_Image_07R_4.png  \n",
            "  inflating: chase_db_384_384_dice_bce_0_4__0_4_1/split_2/train/image/_Image_05R_6.png  \n",
            "  inflating: chase_db_384_384_dice_bce_0_4__0_4_1/split_2/train/image/_Image_02L_2.png  \n",
            "  inflating: chase_db_384_384_dice_bce_0_4__0_4_1/split_2/train/image/_Image_14R_7.png  \n",
            "  inflating: chase_db_384_384_dice_bce_0_4__0_4_1/split_2/train/image/_Image_14R_0.png  \n",
            "  inflating: chase_db_384_384_dice_bce_0_4__0_4_1/split_2/train/image/_Image_08R_0.png  \n",
            "  inflating: chase_db_384_384_dice_bce_0_4__0_4_1/split_2/train/image/_Image_07R_1.png  \n",
            "  inflating: chase_db_384_384_dice_bce_0_4__0_4_1/split_2/train/image/_Image_03R_0.png  \n",
            "  inflating: chase_db_384_384_dice_bce_0_4__0_4_1/split_2/train/image/_Image_05R_7.png  \n",
            "  inflating: chase_db_384_384_dice_bce_0_4__0_4_1/split_2/train/image/_Image_08R_7.png  \n",
            "  inflating: chase_db_384_384_dice_bce_0_4__0_4_1/split_2/train/image/_Image_09R_2.png  \n",
            "  inflating: chase_db_384_384_dice_bce_0_4__0_4_1/split_2/train/image/_Image_09L_7.png  \n",
            "  inflating: chase_db_384_384_dice_bce_0_4__0_4_1/split_2/train/image/_Image_08R_2.png  \n",
            "  inflating: chase_db_384_384_dice_bce_0_4__0_4_1/split_2/train/image/_Image_02R_3.png  \n",
            "  inflating: chase_db_384_384_dice_bce_0_4__0_4_1/split_2/train/image/_Image_14R_5.png  \n",
            "  inflating: chase_db_384_384_dice_bce_0_4__0_4_1/split_2/train/image/_Image_01L_1.png  \n",
            "  inflating: chase_db_384_384_dice_bce_0_4__0_4_1/split_2/train/image/_Image_06R_7.png  \n",
            "  inflating: chase_db_384_384_dice_bce_0_4__0_4_1/split_2/train/image/_Image_08R_3.png  \n",
            "  inflating: chase_db_384_384_dice_bce_0_4__0_4_1/split_2/train/image/_Image_04R_0.png  \n",
            "  inflating: chase_db_384_384_dice_bce_0_4__0_4_1/split_2/train/image/_Image_03R_6.png  \n",
            "  inflating: chase_db_384_384_dice_bce_0_4__0_4_1/split_2/train/image/_Image_03R_8.png  \n",
            "  inflating: chase_db_384_384_dice_bce_0_4__0_4_1/split_2/train/image/_Image_09L_3.png  \n",
            "  inflating: chase_db_384_384_dice_bce_0_4__0_4_1/split_2/train/image/_Image_07L_8.png  \n",
            "  inflating: chase_db_384_384_dice_bce_0_4__0_4_1/split_2/train/image/_Image_03L_6.png  \n",
            "  inflating: chase_db_384_384_dice_bce_0_4__0_4_1/split_2/train/image/_Image_09R_7.png  \n",
            "  inflating: chase_db_384_384_dice_bce_0_4__0_4_1/split_2/train/image/_Image_04R_4.png  \n",
            "  inflating: chase_db_384_384_dice_bce_0_4__0_4_1/split_2/train/image/_Image_04L_7.png  \n",
            "  inflating: chase_db_384_384_dice_bce_0_4__0_4_1/split_2/train/image/_Image_10L_8.png  \n",
            "  inflating: chase_db_384_384_dice_bce_0_4__0_4_1/split_2/train/image/_Image_02R_7.png  \n",
            "  inflating: chase_db_384_384_dice_bce_0_4__0_4_1/split_2/train/image/_Image_07L_7.png  \n",
            "  inflating: chase_db_384_384_dice_bce_0_4__0_4_1/split_2/train/image/_Image_14L_4.png  \n",
            "  inflating: chase_db_384_384_dice_bce_0_4__0_4_1/split_2/train/image/_Image_13R_0.png  \n",
            "  inflating: chase_db_384_384_dice_bce_0_4__0_4_1/split_2/train/image/_Image_07L_6.png  \n",
            "  inflating: chase_db_384_384_dice_bce_0_4__0_4_1/split_2/train/image/_Image_07R_5.png  \n",
            "  inflating: chase_db_384_384_dice_bce_0_4__0_4_1/split_2/train/image/_Image_13R_8.png  \n",
            "  inflating: chase_db_384_384_dice_bce_0_4__0_4_1/split_2/train/image/_Image_14R_4.png  \n",
            "  inflating: chase_db_384_384_dice_bce_0_4__0_4_1/split_2/train/image/_Image_04L_6.png  \n",
            "  inflating: chase_db_384_384_dice_bce_0_4__0_4_1/split_2/train/image/_Image_02R_2.png  \n",
            "  inflating: chase_db_384_384_dice_bce_0_4__0_4_1/split_2/train/image/_Image_09R_3.png  \n",
            "  inflating: chase_db_384_384_dice_bce_0_4__0_4_1/split_2/train/image/_Image_06R_4.png  \n",
            "  inflating: chase_db_384_384_dice_bce_0_4__0_4_1/split_2/train/image/_Image_05L_8.png  \n",
            "  inflating: chase_db_384_384_dice_bce_0_4__0_4_1/split_2/train/image/_Image_07R_2.png  \n",
            "  inflating: chase_db_384_384_dice_bce_0_4__0_4_1/split_2/train/image/_Image_09R_5.png  \n",
            "  inflating: chase_db_384_384_dice_bce_0_4__0_4_1/split_2/train/image/_Image_04L_3.png  \n",
            "  inflating: chase_db_384_384_dice_bce_0_4__0_4_1/split_2/train/image/_Image_04R_2.png  \n",
            "  inflating: chase_db_384_384_dice_bce_0_4__0_4_1/split_2/train/image/_Image_10R_5.png  \n",
            "  inflating: chase_db_384_384_dice_bce_0_4__0_4_1/split_2/train/image/_Image_01R_0.png  \n",
            "  inflating: chase_db_384_384_dice_bce_0_4__0_4_1/split_2/train/image/_Image_01R_8.png  \n",
            "  inflating: chase_db_384_384_dice_bce_0_4__0_4_1/split_2/train/image/_Image_04L_1.png  \n",
            "  inflating: chase_db_384_384_dice_bce_0_4__0_4_1/split_2/train/image/_Image_05R_3.png  \n",
            "  inflating: chase_db_384_384_dice_bce_0_4__0_4_1/split_2/train/image/_Image_07R_8.png  \n",
            "  inflating: chase_db_384_384_dice_bce_0_4__0_4_1/split_2/train/image/_Image_04L_5.png  \n",
            "  inflating: chase_db_384_384_dice_bce_0_4__0_4_1/split_2/train/image/_Image_10R_8.png  \n",
            "  inflating: chase_db_384_384_dice_bce_0_4__0_4_1/split_2/train/image/_Image_01L_0.png  \n",
            "  inflating: chase_db_384_384_dice_bce_0_4__0_4_1/split_2/train/image/_Image_07L_4.png  \n",
            "  inflating: chase_db_384_384_dice_bce_0_4__0_4_1/split_2/train/image/_Image_06L_7.png  \n",
            "  inflating: chase_db_384_384_dice_bce_0_4__0_4_1/split_2/train/image/_Image_14R_3.png  \n",
            "  inflating: chase_db_384_384_dice_bce_0_4__0_4_1/split_2/train/image/_Image_03L_4.png  \n",
            "  inflating: chase_db_384_384_dice_bce_0_4__0_4_1/split_2/train/image/_Image_01R_1.png  \n",
            "  inflating: chase_db_384_384_dice_bce_0_4__0_4_1/split_2/train/image/_Image_04R_1.png  \n",
            "  inflating: chase_db_384_384_dice_bce_0_4__0_4_1/split_2/train/image/_Image_04R_8.png  \n",
            "  inflating: chase_db_384_384_dice_bce_0_4__0_4_1/split_2/train/image/_Image_13R_1.png  \n",
            "  inflating: chase_db_384_384_dice_bce_0_4__0_4_1/split_2/train/image/_Image_03L_8.png  \n",
            "  inflating: chase_db_384_384_dice_bce_0_4__0_4_1/split_2/train/image/_Image_14L_2.png  \n",
            "  inflating: chase_db_384_384_dice_bce_0_4__0_4_1/split_2/train/image/_Image_09L_8.png  \n",
            "  inflating: chase_db_384_384_dice_bce_0_4__0_4_1/split_2/train/image/_Image_13R_2.png  \n",
            "  inflating: chase_db_384_384_dice_bce_0_4__0_4_1/split_2/train/image/_Image_09R_8.png  \n",
            "  inflating: chase_db_384_384_dice_bce_0_4__0_4_1/split_2/train/image/_Image_08L_1.png  \n",
            "  inflating: chase_db_384_384_dice_bce_0_4__0_4_1/split_2/train/image/_Image_02R_8.png  \n",
            "  inflating: chase_db_384_384_dice_bce_0_4__0_4_1/split_2/train/image/_Image_02R_6.png  \n",
            "  inflating: chase_db_384_384_dice_bce_0_4__0_4_1/split_2/train/image/_Image_06L_3.png  \n",
            "  inflating: chase_db_384_384_dice_bce_0_4__0_4_1/split_2/train/image/_Image_02R_0.png  \n",
            "  inflating: chase_db_384_384_dice_bce_0_4__0_4_1/split_2/train/image/_Image_10L_1.png  \n",
            "  inflating: chase_db_384_384_dice_bce_0_4__0_4_1/split_2/train/image/_Image_10L_5.png  \n",
            "  inflating: chase_db_384_384_dice_bce_0_4__0_4_1/split_2/train/image/_Image_10R_0.png  \n",
            "  inflating: chase_db_384_384_dice_bce_0_4__0_4_1/split_2/train/image/_Image_07R_6.png  \n",
            "  inflating: chase_db_384_384_dice_bce_0_4__0_4_1/split_2/train/image/_Image_09L_6.png  \n",
            "  inflating: chase_db_384_384_dice_bce_0_4__0_4_1/split_2/train/image/_Image_10R_7.png  \n",
            "  inflating: chase_db_384_384_dice_bce_0_4__0_4_1/split_2/train/image/_Image_10L_0.png  \n",
            "  inflating: chase_db_384_384_dice_bce_0_4__0_4_1/split_2/train/image/_Image_14R_2.png  \n",
            "  inflating: chase_db_384_384_dice_bce_0_4__0_4_1/split_2/train/image/_Image_13R_4.png  \n",
            "  inflating: chase_db_384_384_dice_bce_0_4__0_4_1/split_2/train/image/_Image_03R_5.png  \n",
            "  inflating: chase_db_384_384_dice_bce_0_4__0_4_1/split_2/train/image/_Image_06R_5.png  \n",
            "  inflating: chase_db_384_384_dice_bce_0_4__0_4_1/split_2/train/image/_Image_07R_7.png  \n",
            "  inflating: chase_db_384_384_dice_bce_0_4__0_4_1/split_2/train/image/_Image_14R_8.png  \n",
            "  inflating: chase_db_384_384_dice_bce_0_4__0_4_1/split_2/train/image/_Image_06R_1.png  \n",
            "  inflating: chase_db_384_384_dice_bce_0_4__0_4_1/split_2/train/image/_Image_01R_7.png  \n",
            "  inflating: chase_db_384_384_dice_bce_0_4__0_4_1/split_2/train/image/_Image_08R_4.png  \n",
            "  inflating: chase_db_384_384_dice_bce_0_4__0_4_1/split_2/train/image/_Image_01L_6.png  \n",
            "  inflating: chase_db_384_384_dice_bce_0_4__0_4_1/split_2/train/image/_Image_14L_7.png  \n",
            "  inflating: chase_db_384_384_dice_bce_0_4__0_4_1/split_2/train/image/_Image_02L_6.png  \n",
            "  inflating: chase_db_384_384_dice_bce_0_4__0_4_1/split_2/train/image/_Image_06L_6.png  \n",
            "  inflating: chase_db_384_384_dice_bce_0_4__0_4_1/split_2/train/image/_Image_10R_6.png  \n",
            "  inflating: chase_db_384_384_dice_bce_0_4__0_4_1/split_2/train/image/_Image_07L_1.png  \n",
            "  inflating: chase_db_384_384_dice_bce_0_4__0_4_1/split_2/train/image/_Image_09L_5.png  \n",
            "  inflating: chase_db_384_384_dice_bce_0_4__0_4_1/split_2/train/image/_Image_01L_5.png  \n",
            "  inflating: chase_db_384_384_dice_bce_0_4__0_4_1/split_2/train/image/_Image_03L_1.png  \n",
            "  inflating: chase_db_384_384_dice_bce_0_4__0_4_1/split_2/train/image/_Image_01R_2.png  \n",
            "  inflating: chase_db_384_384_dice_bce_0_4__0_4_1/split_2/train/image/_Image_05R_0.png  \n",
            "  inflating: chase_db_384_384_dice_bce_0_4__0_4_1/split_2/train/image/_Image_03R_2.png  \n",
            "  inflating: chase_db_384_384_dice_bce_0_4__0_4_1/split_2/train/image/_Image_01L_4.png  \n",
            "  inflating: chase_db_384_384_dice_bce_0_4__0_4_1/split_2/train/image/_Image_02R_4.png  \n",
            "  inflating: chase_db_384_384_dice_bce_0_4__0_4_1/split_2/train/image/_Image_03L_7.png  \n",
            "  inflating: chase_db_384_384_dice_bce_0_4__0_4_1/split_2/train/image/_Image_06R_3.png  \n",
            "  inflating: chase_db_384_384_dice_bce_0_4__0_4_1/split_2/train/image/_Image_06R_8.png  \n",
            "  inflating: chase_db_384_384_dice_bce_0_4__0_4_1/split_2/train/image/_Image_14L_6.png  \n",
            "  inflating: chase_db_384_384_dice_bce_0_4__0_4_1/split_2/train/image/_Image_10R_2.png  \n",
            "  inflating: chase_db_384_384_dice_bce_0_4__0_4_1/split_2/train/image/_Image_01L_3.png  \n",
            "  inflating: chase_db_384_384_dice_bce_0_4__0_4_1/split_2/train/image/_Image_09R_1.png  \n",
            "  inflating: chase_db_384_384_dice_bce_0_4__0_4_1/split_2/train/image/_Image_05L_0.png  \n",
            "  inflating: chase_db_384_384_dice_bce_0_4__0_4_1/split_2/train/image/_Image_06L_8.png  \n",
            "  inflating: chase_db_384_384_dice_bce_0_4__0_4_1/split_2/train/image/_Image_08R_5.png  \n",
            "  inflating: chase_db_384_384_dice_bce_0_4__0_4_1/split_2/train/image/_Image_08L_8.png  \n",
            "  inflating: chase_db_384_384_dice_bce_0_4__0_4_1/split_2/train/image/_Image_14R_6.png  \n",
            "  inflating: chase_db_384_384_dice_bce_0_4__0_4_1/split_2/train/image/_Image_01L_7.png  \n",
            "  inflating: chase_db_384_384_dice_bce_0_4__0_4_1/split_2/train/image/_Image_09L_0.png  \n",
            "  inflating: chase_db_384_384_dice_bce_0_4__0_4_1/split_2/train/image/_Image_06L_5.png  \n",
            "  inflating: chase_db_384_384_dice_bce_0_4__0_4_1/split_2/train/image/_Image_10L_6.png  \n",
            "  inflating: chase_db_384_384_dice_bce_0_4__0_4_1/split_2/train/image/_Image_08L_2.png  \n",
            "  inflating: chase_db_384_384_dice_bce_0_4__0_4_1/split_2/train/image/_Image_06L_4.png  \n",
            "  inflating: chase_db_384_384_dice_bce_0_4__0_4_1/split_2/train/image/_Image_06L_2.png  \n",
            "  inflating: chase_db_384_384_dice_bce_0_4__0_4_1/split_2/train/image/_Image_06R_0.png  \n",
            "  inflating: chase_db_384_384_dice_bce_0_4__0_4_1/split_2/train/image/_Image_05L_2.png  \n",
            "  inflating: chase_db_384_384_dice_bce_0_4__0_4_1/split_2/train/image/_Image_05R_8.png  \n",
            "  inflating: chase_db_384_384_dice_bce_0_4__0_4_1/split_2/train/image/_Image_01R_3.png  \n",
            "  inflating: chase_db_384_384_dice_bce_0_4__0_4_1/split_2/train/image/_Image_07R_0.png  \n",
            "  inflating: chase_db_384_384_dice_bce_0_4__0_4_1/split_2/train/image/_Image_14L_5.png  \n",
            "  inflating: chase_db_384_384_dice_bce_0_4__0_4_1/split_2/train/image/_Image_05L_4.png  \n",
            "  inflating: chase_db_384_384_dice_bce_0_4__0_4_1/split_2/train/image/_Image_03R_1.png  \n",
            "  inflating: chase_db_384_384_dice_bce_0_4__0_4_1/split_2/train/image/_Image_08L_0.png  \n",
            "  inflating: chase_db_384_384_dice_bce_0_4__0_4_1/split_2/train/image/_Image_03L_5.png  \n",
            "  inflating: chase_db_384_384_dice_bce_0_4__0_4_1/split_2/train/image/_Image_06R_6.png  \n",
            "  inflating: chase_db_384_384_dice_bce_0_4__0_4_1/split_2/image_patches_384_384_train.csv  \n",
            "   creating: chase_db_384_384_dice_bce_0_4__0_4_1/results_reconstructed/\n",
            "   creating: chase_db_384_384_dice_bce_0_4__0_4_1/results/\n",
            "  inflating: chase_db_384_384_dice_bce_0_4__0_4_1/results/_Image_11R_3.png  \n",
            "  inflating: chase_db_384_384_dice_bce_0_4__0_4_1/results/_Image_12R_1.png  \n",
            "  inflating: chase_db_384_384_dice_bce_0_4__0_4_1/results/_Image_11L_6.png  \n",
            "  inflating: chase_db_384_384_dice_bce_0_4__0_4_1/results/score_full_0_5.csv  \n",
            "  inflating: chase_db_384_384_dice_bce_0_4__0_4_1/results/_Image_11R_0.png  \n",
            "  inflating: chase_db_384_384_dice_bce_0_4__0_4_1/results/_Image_11L_2.png  \n",
            "  inflating: chase_db_384_384_dice_bce_0_4__0_4_1/results/_Image_13L_3.png  \n",
            "  inflating: chase_db_384_384_dice_bce_0_4__0_4_1/results/_Image_11R_8.png  \n",
            "  inflating: chase_db_384_384_dice_bce_0_4__0_4_1/results/_Image_12L_7.png  \n",
            "  inflating: chase_db_384_384_dice_bce_0_4__0_4_1/results/_Image_11L_1.png  \n",
            "  inflating: chase_db_384_384_dice_bce_0_4__0_4_1/results/_Image_13L_8.png  \n",
            "  inflating: chase_db_384_384_dice_bce_0_4__0_4_1/results/score_full_0_4.csv  \n",
            "  inflating: chase_db_384_384_dice_bce_0_4__0_4_1/results/_Image_12R_2.png  \n",
            "  inflating: chase_db_384_384_dice_bce_0_4__0_4_1/results/_Image_12L_3.png  \n",
            "  inflating: chase_db_384_384_dice_bce_0_4__0_4_1/results/_Image_12R_4.png  \n",
            "  inflating: chase_db_384_384_dice_bce_0_4__0_4_1/results/score.csv  \n",
            "  inflating: chase_db_384_384_dice_bce_0_4__0_4_1/results/_Image_13L_0.png  \n",
            "  inflating: chase_db_384_384_dice_bce_0_4__0_4_1/results/_Image_11R_1.png  \n",
            "  inflating: chase_db_384_384_dice_bce_0_4__0_4_1/results/_Image_12R_7.png  \n",
            "  inflating: chase_db_384_384_dice_bce_0_4__0_4_1/results/_Image_13L_6.png  \n",
            "  inflating: chase_db_384_384_dice_bce_0_4__0_4_1/results/_Image_13L_4.png  \n",
            "  inflating: chase_db_384_384_dice_bce_0_4__0_4_1/results/_Image_12L_1.png  \n",
            "  inflating: chase_db_384_384_dice_bce_0_4__0_4_1/results/_Image_12R_8.png  \n",
            "  inflating: chase_db_384_384_dice_bce_0_4__0_4_1/results/_Image_12L_8.png  \n",
            "  inflating: chase_db_384_384_dice_bce_0_4__0_4_1/results/_Image_12L_5.png  \n",
            "  inflating: chase_db_384_384_dice_bce_0_4__0_4_1/results/_Image_13L_5.png  \n",
            "  inflating: chase_db_384_384_dice_bce_0_4__0_4_1/results/_Image_11L_4.png  \n",
            "  inflating: chase_db_384_384_dice_bce_0_4__0_4_1/results/_Image_11L_7.png  \n",
            "  inflating: chase_db_384_384_dice_bce_0_4__0_4_1/results/score_full_0_6.csv  \n",
            "  inflating: chase_db_384_384_dice_bce_0_4__0_4_1/results/_Image_11L_0.png  \n",
            "  inflating: chase_db_384_384_dice_bce_0_4__0_4_1/results/_Image_11L_8.png  \n",
            "  inflating: chase_db_384_384_dice_bce_0_4__0_4_1/results/_Image_12L_4.png  \n",
            "  inflating: chase_db_384_384_dice_bce_0_4__0_4_1/results/_Image_11L_5.png  \n",
            "  inflating: chase_db_384_384_dice_bce_0_4__0_4_1/results/_Image_11R_2.png  \n",
            "  inflating: chase_db_384_384_dice_bce_0_4__0_4_1/results/_Image_12R_5.png  \n",
            "  inflating: chase_db_384_384_dice_bce_0_4__0_4_1/results/_Image_12R_0.png  \n",
            "  inflating: chase_db_384_384_dice_bce_0_4__0_4_1/results/_Image_11R_7.png  \n",
            "  inflating: chase_db_384_384_dice_bce_0_4__0_4_1/results/_Image_13L_2.png  \n",
            "  inflating: chase_db_384_384_dice_bce_0_4__0_4_1/results/_Image_11L_3.png  \n",
            "  inflating: chase_db_384_384_dice_bce_0_4__0_4_1/results/_Image_12R_6.png  \n",
            "  inflating: chase_db_384_384_dice_bce_0_4__0_4_1/results/_Image_12L_6.png  \n",
            "  inflating: chase_db_384_384_dice_bce_0_4__0_4_1/results/_Image_12R_3.png  \n",
            "  inflating: chase_db_384_384_dice_bce_0_4__0_4_1/results/_Image_13L_1.png  \n",
            "  inflating: chase_db_384_384_dice_bce_0_4__0_4_1/results/_Image_11R_4.png  \n",
            "  inflating: chase_db_384_384_dice_bce_0_4__0_4_1/results/_Image_12L_0.png  \n",
            "  inflating: chase_db_384_384_dice_bce_0_4__0_4_1/results/_Image_12L_2.png  \n",
            "  inflating: chase_db_384_384_dice_bce_0_4__0_4_1/results/_Image_11R_6.png  \n",
            "  inflating: chase_db_384_384_dice_bce_0_4__0_4_1/results/_Image_13L_7.png  \n",
            "  inflating: chase_db_384_384_dice_bce_0_4__0_4_1/results/_Image_11R_5.png  \n",
            "   creating: chase_db_384_384_dice_bce_0_4__0_4_1/trained_models/\n",
            "  inflating: chase_db_384_384_dice_bce_0_4__0_4_1/trained_models/data.csv  \n",
            "  inflating: chase_db_384_384_dice_bce_0_4__0_4_1/trained_models/model.h5  \n",
            "   creating: chase_db_384_384_dice_bce_0_4__0_4_1/predictions/\n",
            "  inflating: chase_db_384_384_dice_bce_0_4__0_4_1/predictions/_Image_11R_3.png  \n",
            "  inflating: chase_db_384_384_dice_bce_0_4__0_4_1/predictions/_Image_12R_1.png  \n",
            "  inflating: chase_db_384_384_dice_bce_0_4__0_4_1/predictions/_Image_11L_6.png  \n",
            "  inflating: chase_db_384_384_dice_bce_0_4__0_4_1/predictions/_Image_11R_0.png  \n",
            "  inflating: chase_db_384_384_dice_bce_0_4__0_4_1/predictions/_Image_11L_2.png  \n",
            "  inflating: chase_db_384_384_dice_bce_0_4__0_4_1/predictions/_Image_13L_3.png  \n",
            "  inflating: chase_db_384_384_dice_bce_0_4__0_4_1/predictions/_Image_11R_8.png  \n",
            "  inflating: chase_db_384_384_dice_bce_0_4__0_4_1/predictions/_Image_12L_7.png  \n",
            "  inflating: chase_db_384_384_dice_bce_0_4__0_4_1/predictions/_Image_11L_1.png  \n",
            "  inflating: chase_db_384_384_dice_bce_0_4__0_4_1/predictions/_Image_13L_8.png  \n",
            "  inflating: chase_db_384_384_dice_bce_0_4__0_4_1/predictions/_Image_12R_2.png  \n",
            "  inflating: chase_db_384_384_dice_bce_0_4__0_4_1/predictions/_Image_12L_3.png  \n",
            "  inflating: chase_db_384_384_dice_bce_0_4__0_4_1/predictions/_Image_12R_4.png  \n",
            "  inflating: chase_db_384_384_dice_bce_0_4__0_4_1/predictions/_Image_13L_0.png  \n",
            "  inflating: chase_db_384_384_dice_bce_0_4__0_4_1/predictions/_Image_11R_1.png  \n",
            "  inflating: chase_db_384_384_dice_bce_0_4__0_4_1/predictions/_Image_12R_7.png  \n",
            "  inflating: chase_db_384_384_dice_bce_0_4__0_4_1/predictions/_Image_13L_6.png  \n",
            "  inflating: chase_db_384_384_dice_bce_0_4__0_4_1/predictions/_Image_13L_4.png  \n",
            "  inflating: chase_db_384_384_dice_bce_0_4__0_4_1/predictions/_Image_12L_1.png  \n",
            "  inflating: chase_db_384_384_dice_bce_0_4__0_4_1/predictions/_Image_12R_8.png  \n",
            "  inflating: chase_db_384_384_dice_bce_0_4__0_4_1/predictions/_Image_12L_8.png  \n",
            "  inflating: chase_db_384_384_dice_bce_0_4__0_4_1/predictions/_Image_12L_5.png  \n",
            "  inflating: chase_db_384_384_dice_bce_0_4__0_4_1/predictions/_Image_13L_5.png  \n",
            "  inflating: chase_db_384_384_dice_bce_0_4__0_4_1/predictions/_Image_11L_4.png  \n",
            "  inflating: chase_db_384_384_dice_bce_0_4__0_4_1/predictions/_Image_11L_7.png  \n",
            "  inflating: chase_db_384_384_dice_bce_0_4__0_4_1/predictions/_Image_11L_0.png  \n",
            "  inflating: chase_db_384_384_dice_bce_0_4__0_4_1/predictions/_Image_11L_8.png  \n",
            "  inflating: chase_db_384_384_dice_bce_0_4__0_4_1/predictions/_Image_12L_4.png  \n",
            "  inflating: chase_db_384_384_dice_bce_0_4__0_4_1/predictions/_Image_11L_5.png  \n",
            "  inflating: chase_db_384_384_dice_bce_0_4__0_4_1/predictions/_Image_11R_2.png  \n",
            "  inflating: chase_db_384_384_dice_bce_0_4__0_4_1/predictions/_Image_12R_5.png  \n",
            "  inflating: chase_db_384_384_dice_bce_0_4__0_4_1/predictions/_Image_12R_0.png  \n",
            "  inflating: chase_db_384_384_dice_bce_0_4__0_4_1/predictions/_Image_11R_7.png  \n",
            "  inflating: chase_db_384_384_dice_bce_0_4__0_4_1/predictions/_Image_13L_2.png  \n",
            "  inflating: chase_db_384_384_dice_bce_0_4__0_4_1/predictions/_Image_11L_3.png  \n",
            "  inflating: chase_db_384_384_dice_bce_0_4__0_4_1/predictions/_Image_12R_6.png  \n",
            "  inflating: chase_db_384_384_dice_bce_0_4__0_4_1/predictions/_Image_12L_6.png  \n",
            "  inflating: chase_db_384_384_dice_bce_0_4__0_4_1/predictions/_Image_12R_3.png  \n",
            "  inflating: chase_db_384_384_dice_bce_0_4__0_4_1/predictions/_Image_13L_1.png  \n",
            "  inflating: chase_db_384_384_dice_bce_0_4__0_4_1/predictions/_Image_11R_4.png  \n",
            "  inflating: chase_db_384_384_dice_bce_0_4__0_4_1/predictions/_Image_12L_0.png  \n",
            "  inflating: chase_db_384_384_dice_bce_0_4__0_4_1/predictions/_Image_12L_2.png  \n",
            "  inflating: chase_db_384_384_dice_bce_0_4__0_4_1/predictions/_Image_11R_6.png  \n",
            "  inflating: chase_db_384_384_dice_bce_0_4__0_4_1/predictions/_Image_13L_7.png  \n",
            "  inflating: chase_db_384_384_dice_bce_0_4__0_4_1/predictions/_Image_11R_5.png  \n"
          ]
        }
      ],
      "source": [
        "!unzip {folder_name}.zip\n"
      ]
    },
    {
      "cell_type": "code",
      "execution_count": null,
      "metadata": {
        "colab": {
          "background_save": true
        },
        "id": "uUc7rHJNeI-p"
      },
      "outputs": [],
      "source": [
        "drive.flush_and_unmount()"
      ]
    },
    {
      "cell_type": "code",
      "execution_count": null,
      "metadata": {
        "colab": {
          "background_save": true
        },
        "id": "fXp07gx1AtsF"
      },
      "outputs": [],
      "source": [
        ""
      ]
    }
  ],
  "metadata": {
    "accelerator": "GPU",
    "colab": {
      "background_execution": "on",
      "collapsed_sections": [],
      "machine_shape": "hm",
      "name": "chase_patches_384_384_0_4_dice_bce.ipynb",
      "provenance": []
    },
    "kernelspec": {
      "display_name": "Python 3",
      "name": "python3"
    },
    "language_info": {
      "name": "python"
    }
  },
  "nbformat": 4,
  "nbformat_minor": 0
}