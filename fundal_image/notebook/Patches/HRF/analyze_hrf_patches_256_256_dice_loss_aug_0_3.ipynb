{
  "cells": [
    {
      "cell_type": "markdown",
      "metadata": {
        "id": "YZexI7Y_f6Yn"
      },
      "source": [
        "# Analyze results"
      ]
    },
    {
      "cell_type": "code",
      "execution_count": null,
      "metadata": {
        "id": "e6UZ2eGOf4Hh"
      },
      "outputs": [],
      "source": [
        "import matplotlib.pyplot as plt\n",
        "import numpy as np\n",
        "from sklearn.model_selection import StratifiedKFold\n",
        "import random"
      ]
    },
    {
      "cell_type": "code",
      "execution_count": null,
      "metadata": {
        "id": "HyTlzGiKz17u"
      },
      "outputs": [],
      "source": [
        "import tensorflow as tf\n",
        "from tensorflow.keras.layers import Conv2D, BatchNormalization, Activation, MaxPool2D, Conv2DTranspose, Concatenate, Input\n",
        "from tensorflow.keras.models import Model\n",
        "from tensorflow.keras import backend as K\n",
        "import os\n",
        "os.environ[\"TF_CPP_MIN_LOG_LEVEL\"] = \"2\"\n",
        "import numpy as np\n",
        "import cv2\n",
        "from glob import glob\n",
        "from sklearn.utils import shuffle\n",
        "import tensorflow as tf\n",
        "from tensorflow.keras.callbacks import ModelCheckpoint, CSVLogger, ReduceLROnPlateau, EarlyStopping, TensorBoard\n",
        "from tensorflow.keras.optimizers import Adam\n",
        "from tensorflow.keras.metrics import Recall, Precision, AUC\n",
        "import numpy as np"
      ]
    },
    {
      "cell_type": "code",
      "execution_count": null,
      "metadata": {
        "colab": {
          "base_uri": "https://localhost:8080/"
        },
        "id": "TLjaKEGK4jWt",
        "outputId": "a321bf84-1244-4445-e7c7-8a10bed2d29f"
      },
      "outputs": [
        {
          "output_type": "stream",
          "name": "stdout",
          "text": [
            "Mounted at /content/gdrive\n",
            "/content/gdrive/MyDrive/medical_image_processing\n"
          ]
        }
      ],
      "source": [
        "from google.colab import drive\n",
        "drive.mount(\"/content/gdrive\", force_remount=True)\n",
        "%cd /content/gdrive/MyDrive/medical_image_processing/"
      ]
    },
    {
      "cell_type": "code",
      "execution_count": null,
      "metadata": {
        "id": "furs_cpCXIBz"
      },
      "outputs": [],
      "source": [
        "from copy import deepcopy\n",
        "from glob import glob\n",
        "from tensorflow.keras.models import load_model\n",
        "from sklearn.metrics import roc_auc_score, accuracy_score, f1_score, jaccard_score, recall_score, precision_score\n",
        "from tqdm import tqdm\n",
        "\n",
        "# prediction_path = \"predictions\"\n",
        "\n",
        "\"\"\" Make the prediction and calculate the metrics values \"\"\"\n",
        "def compute_metrics(data_path:str,\n",
        "                    results_path:str,\n",
        "                    threshold:float,\n",
        "                    model=None,\n",
        "                    predictions_path:str=None,\n",
        "                    prediction_np_path=None):\n",
        "    \"\"\" Load the dataset \"\"\"\n",
        "    test_x, test_y = get_filenames_sorted(f\"{data_path}/image\", f\"{data_path}/mask\")\n",
        "    SCORE = []\n",
        "    print(\"Threshold\", threshold)\n",
        "    for x, y in tqdm(zip(test_x, test_y), total=len(test_x) ):\n",
        "        if model is None and predictions_path is None:\n",
        "            raise Exception(\"Invalid input parameters. Both model and prediction_path can not be None\")\n",
        "        \"\"\" Extracting name \"\"\"\n",
        "        name = x.split(\"/\")[-1].split(\".\")[0]\n",
        "\n",
        "        \"\"\" Read the image and mask \"\"\"\n",
        "        ori_x, x = read_image(x)\n",
        "        ori_y, y = read_mask(y)\n",
        "        y = y.astype(np.int)\n",
        "        print(name)\n",
        "\n",
        "    #     \"\"\" Prediction \"\"\"\n",
        "        if model != None:\n",
        "            y_pred = model.predict(np.expand_dims(x, axis=0))[0]\n",
        "        else:\n",
        "            print(\"Reading predicted image from \",f\"{predictions_path}/{name}.png\")\n",
        "            orig_y_pred, y_pred = read_mask(f\"{predictions_path}/{name}.png\")\n",
        "            print(y_pred.shape, np.max(orig_y_pred), np.min(orig_y_pred))\n",
        "        print(y_pred.shape, np.max(y_pred), np.min(y_pred))\n",
        "        if prediction_np_path is not None:\n",
        "            np.save(f\"{prediction_np_path}/{name}.npy\", y_pred)\n",
        "\n",
        "\n",
        "        y_prob = deepcopy(y_pred).flatten()\n",
        "        y_pred = y_pred > threshold\n",
        "        y_pred = y_pred.astype(np.int32)\n",
        "        y_pred = np.squeeze(y_pred)\n",
        "\n",
        "\n",
        "        \"\"\" Saving the images \"\"\"\n",
        "        save_image_path = f\"{results_path}/{name}.png\"\n",
        "        print(ori_x.shape, ori_y.shape,y_pred.shape)\n",
        "        save_results(ori_x, ori_y, y_pred, save_image_path)\n",
        "        \n",
        "        if model is not None:\n",
        "            cv2.imwrite(f\"{prediction_path}/{name}.png\", y_pred * 255)\n",
        "        \n",
        "\n",
        "        \"\"\" Flatten the array \"\"\"\n",
        "        y = y.flatten()\n",
        "        y_pred = y_pred.flatten()\n",
        "\n",
        "        \"\"\" Calculate the metrics \"\"\"\n",
        "        acc_value = accuracy_score(y, y_pred)\n",
        "        f1_value = f1_score(y, y_pred, labels=[0, 1], average=\"binary\")\n",
        "        jac_value = jaccard_score(y, y_pred, labels=[0, 1], average=\"binary\")\n",
        "        recall_value = recall_score(y, y_pred, labels=[0, 1], average=\"binary\")\n",
        "        precision_value = precision_score(y, y_pred, labels=[0, 1], average=\"binary\")\n",
        "        if np.sum(y) == 0 or np.sum(y) == H * W:\n",
        "            auc_value = 1\n",
        "        else:\n",
        "            auc_value = roc_auc_score(y, y_prob)\n",
        "        dice_value = dice_coef(y.astype(np.float64), y_prob)\n",
        "\n",
        "        SCORE.append([name, acc_value, f1_value, jac_value, recall_value, precision_value, auc_value, dice_value])\n",
        "\n",
        "    score = [s[1:] for s in SCORE]\n",
        "    score = np.mean(score, axis=0)\n",
        "    print(f\"Accuracy: {score[0]:0.5f}\")\n",
        "    print(f\"F1: {score[1]:0.5f}\")\n",
        "    print(f\"Jaccard: {score[2]:0.5f}\")\n",
        "    print(f\"Recall: {score[3]:0.5f}\")\n",
        "    print(f\"Precision: {score[4]:0.5f}\")\n",
        "    print(f\"AUC: {score[5]:0.5f}\")\n",
        "    print(f\"Dice Coeff: {score[6]:0.5f}\")\n",
        "\n",
        "    \"\"\" Saving \"\"\"\n",
        "    df = pd.DataFrame(SCORE, columns=[\"Image\", \"Acc\", \"F1\", \"Jaccard\", \"Recall\", \"Precision\", \"AUC\", \"Dice Coef\"])\n",
        "    df.to_csv(f\"{results_path}/score_full.csv\")\n",
        "    return df, score"
      ]
    },
    {
      "cell_type": "code",
      "execution_count": null,
      "metadata": {
        "id": "oAoXpm_x4zjF"
      },
      "outputs": [],
      "source": [
        "from fundal_image.utils import create_dir\n",
        "from fundal_image.utils import get_filenames_sorted\n",
        "from patches import reconstruct_patches"
      ]
    },
    {
      "cell_type": "code",
      "execution_count": null,
      "metadata": {
        "id": "OOBws594_P8I"
      },
      "outputs": [],
      "source": [
        "loss_str = \"dice_loss\"\n",
        "with_augmentation = True\n",
        "stride=512\n",
        "test_percentage=0.3"
      ]
    },
    {
      "cell_type": "code",
      "execution_count": null,
      "metadata": {
        "id": "VAQgOuWlKZ04"
      },
      "outputs": [],
      "source": [
        "image_sizes = {\"HRF\": (2336, 3504), \"drive\": (584, 565), \"chase_db\": (960, 999)}\n",
        "patch_size = {\"HRF\": (512, 512)}\n",
        "\n",
        "dataset_name = \"HRF\"\n",
        "num_pixels_to_add = [0, 0]\n",
        "if (image_sizes[\"HRF\"][0] % patch_size[\"HRF\"][0]) > 0:\n",
        "    num_pixels_to_add[0] = ((image_sizes[\"HRF\"][0] // patch_size[\"HRF\"][0]) + 1) * patch_size[\"HRF\"][0]\n",
        "    num_pixels_to_add[1] = ((image_sizes[\"HRF\"][1] // patch_size[\"HRF\"][1]) + 1) * patch_size[\"HRF\"][1]\n"
      ]
    },
    {
      "cell_type": "code",
      "source": [
        "num_pixels_to_add"
      ],
      "metadata": {
        "colab": {
          "base_uri": "https://localhost:8080/"
        },
        "id": "rVUkWqZ9MYBD",
        "outputId": "3f6a73f0-ac0c-4def-b62d-396730ead381"
      },
      "execution_count": null,
      "outputs": [
        {
          "output_type": "execute_result",
          "data": {
            "text/plain": [
              "[2560, 3584]"
            ]
          },
          "metadata": {},
          "execution_count": 10
        }
      ]
    },
    {
      "cell_type": "code",
      "execution_count": null,
      "metadata": {
        "id": "qwbvqSZ9_QNd"
      },
      "outputs": [],
      "source": [
        "\n",
        "seed = 42\n",
        "\n",
        "aug_string = \"\"\n",
        "if with_augmentation:\n",
        "    aug_string = \"_hvr\"\n",
        "root_path = f\"/content/datasets/hrf_512_{stride}_{loss_str}{aug_string}/\"\n",
        "images_path = f\"{root_path}/images/\"\n",
        "gt_path = f\"{root_path}/groundtruth\"\n",
        "create_dir(\"/content/datasets/\")\n",
        "# create_dir(images_path)\n",
        "# create_dir(gt_path)"
      ]
    },
    {
      "cell_type": "code",
      "execution_count": null,
      "metadata": {
        "colab": {
          "base_uri": "https://localhost:8080/"
        },
        "id": "3Uv6sUCM_QXe",
        "outputId": "c2824d64-3bce-4174-806a-280a500d7559"
      },
      "outputs": [
        {
          "output_type": "stream",
          "name": "stdout",
          "text": [
            "/content/datasets/hrf_512_512_dice_loss_hvr/\n"
          ]
        }
      ],
      "source": [
        "print(root_path)"
      ]
    },
    {
      "cell_type": "code",
      "execution_count": null,
      "metadata": {
        "colab": {
          "base_uri": "https://localhost:8080/"
        },
        "id": "xe5VsEjs8vkZ",
        "outputId": "65acf42a-f148-46fd-b79e-cb27eb695380"
      },
      "outputs": [
        {
          "output_type": "stream",
          "name": "stdout",
          "text": [
            "/content/datasets\n"
          ]
        }
      ],
      "source": [
        "%cd /content/datasets/"
      ]
    },
    {
      "cell_type": "code",
      "execution_count": null,
      "metadata": {
        "colab": {
          "base_uri": "https://localhost:8080/"
        },
        "id": "WFv3vGz093v6",
        "outputId": "627662da-e25d-4ee7-a881-0126d45017fa"
      },
      "outputs": [
        {
          "output_type": "stream",
          "name": "stdout",
          "text": [
            "02_g_test.png\n",
            "hrf_512_256_bce_hvr_xval_10_42.zip\n",
            "hrf_512_512\n",
            "hrf_512_512_bce\n",
            "hrf_512_512_bce_2\n",
            "hrf_512_512_bce_2.zip\n",
            "hrf_512_512_bce_hvr\n",
            "hrf_512_512_bce_hvr_0_3\n",
            "hrf_512_512_bce_hvr_0_33_42.zip\n",
            "hrf_512_512_bce_hvr_0_33_43\n",
            "hrf_512_512_bce_hvr_0_33_43.zip\n",
            "hrf_512_512_bce_hvr_0_3_44\n",
            "hrf_512_512_bce_hvr_0_3_44.zip\n",
            "hrf_512_512_bce_hvr_feb_3_1.zip\n",
            "hrf_512_512_bce_hvr_xval_2_42.zip\n",
            "hrf_512_512_bce_hvr_xval_5_42\n",
            "hrf_512_512_bce_hvr_xval_5_42_10epochs\n",
            "hrf_512_512_bce_hvr_xval_5_42.csv\n",
            "hrf_512_512_bce_hvr.zip\n",
            "hrf_512_512_bce.zip\n",
            "hrf_512_512_dice\n",
            "hrf_512_512_dice_bce\n",
            "hrf_512_512_dice_bce_hvr\n",
            "hrf_512_512_dice_bce_hvr_2.zip\n",
            "hrf_512_512_dice_bce_hvr_jan_31_2.zip\n",
            "hrf_512_512_dice_bce_hvr_jan_31.zip\n",
            "hrf_512_512_dice_bce_hvr_xval_5_42.zip\n",
            "hrf_512_512_dice_bce_hvr_xval_9_42_10epochs.zip\n",
            "hrf_512_512_dice_bce_hvr.zip\n",
            "hrf_512_512_DiceBCELoss\n",
            "hrf_512_512_dice_loss_2\n",
            "hrf_512_512_dice_loss_2.zip\n",
            "hrf_512_512_dice_loss_hvr_0_3_feb_3.zip\n",
            "hrf_512_512_dice_loss_hvr_xval_5_42.zip\n",
            "hrf_512_512_dice.zip\n",
            "hrf_512_512.zip\n",
            "hrf_patches_512.zip\n",
            "hrf.zip\n",
            "non_overlapping_512\n",
            "split_2.zip\n"
          ]
        }
      ],
      "source": [
        "!ls /content/gdrive/MyDrive/Blood_Vessel_Results/hrf_patches/"
      ]
    },
    {
      "cell_type": "code",
      "execution_count": null,
      "metadata": {
        "colab": {
          "base_uri": "https://localhost:8080/"
        },
        "id": "VcZkyKtm8uX6",
        "outputId": "4085a83e-c304-4ab5-af78-184a87d97496"
      },
      "outputs": [
        {
          "output_type": "stream",
          "name": "stdout",
          "text": [
            "\u001b[1;30;43mStreaming output truncated to the last 5000 lines.\u001b[0m\n",
            "  inflating: hrf_512_512_dice_loss_hvr_0_3_feb_3/split_2/train/mask/_01_g_0_8.png  \n",
            "  inflating: hrf_512_512_dice_loss_hvr_0_3_feb_3/split_2/train/mask/_08_h_1_26.png  \n",
            "  inflating: hrf_512_512_dice_loss_hvr_0_3_feb_3/split_2/train/mask/_07_dr_0_4.png  \n",
            "  inflating: hrf_512_512_dice_loss_hvr_0_3_feb_3/split_2/train/mask/_15_g_3_26.png  \n",
            "  inflating: hrf_512_512_dice_loss_hvr_0_3_feb_3/split_2/train/mask/_09_h_3_34.png  \n",
            "  inflating: hrf_512_512_dice_loss_hvr_0_3_feb_3/split_2/train/mask/_10_dr_2_15.png  \n",
            "  inflating: hrf_512_512_dice_loss_hvr_0_3_feb_3/split_2/train/mask/_04_h_1_31.png  \n",
            "  inflating: hrf_512_512_dice_loss_hvr_0_3_feb_3/split_2/train/mask/_03_g_0_11.png  \n",
            "  inflating: hrf_512_512_dice_loss_hvr_0_3_feb_3/split_2/train/mask/_04_h_0_20.png  \n",
            "  inflating: hrf_512_512_dice_loss_hvr_0_3_feb_3/split_2/train/mask/_14_g_2_18.png  \n",
            "  inflating: hrf_512_512_dice_loss_hvr_0_3_feb_3/split_2/train/mask/_14_dr_2_19.png  \n",
            "  inflating: hrf_512_512_dice_loss_hvr_0_3_feb_3/split_2/train/mask/_09_g_3_16.png  \n",
            "  inflating: hrf_512_512_dice_loss_hvr_0_3_feb_3/split_2/train/mask/_04_dr_1_34.png  \n",
            "  inflating: hrf_512_512_dice_loss_hvr_0_3_feb_3/split_2/train/mask/_13_h_0_1.png  \n",
            "  inflating: hrf_512_512_dice_loss_hvr_0_3_feb_3/split_2/train/mask/_09_dr_1_20.png  \n",
            "  inflating: hrf_512_512_dice_loss_hvr_0_3_feb_3/split_2/train/mask/_01_g_1_16.png  \n",
            "  inflating: hrf_512_512_dice_loss_hvr_0_3_feb_3/split_2/train/mask/_02_h_0_17.png  \n",
            "  inflating: hrf_512_512_dice_loss_hvr_0_3_feb_3/split_2/train/mask/_01_dr_0_13.png  \n",
            "  inflating: hrf_512_512_dice_loss_hvr_0_3_feb_3/split_2/train/mask/_06_h_0_34.png  \n",
            "  inflating: hrf_512_512_dice_loss_hvr_0_3_feb_3/split_2/train/mask/_01_h_2_15.png  \n",
            "  inflating: hrf_512_512_dice_loss_hvr_0_3_feb_3/split_2/train/mask/_02_dr_2_31.png  \n",
            "  inflating: hrf_512_512_dice_loss_hvr_0_3_feb_3/split_2/train/mask/_09_dr_2_14.png  \n",
            "  inflating: hrf_512_512_dice_loss_hvr_0_3_feb_3/split_2/train/mask/_10_g_1_27.png  \n",
            "  inflating: hrf_512_512_dice_loss_hvr_0_3_feb_3/split_2/train/mask/_09_h_3_30.png  \n",
            "  inflating: hrf_512_512_dice_loss_hvr_0_3_feb_3/split_2/train/mask/_03_dr_3_9.png  \n",
            "  inflating: hrf_512_512_dice_loss_hvr_0_3_feb_3/split_2/train/mask/_10_g_3_5.png  \n",
            "  inflating: hrf_512_512_dice_loss_hvr_0_3_feb_3/split_2/train/mask/_12_dr_1_14.png  \n",
            "  inflating: hrf_512_512_dice_loss_hvr_0_3_feb_3/split_2/train/mask/_10_dr_0_31.png  \n",
            "  inflating: hrf_512_512_dice_loss_hvr_0_3_feb_3/split_2/train/mask/_04_g_0_0.png  \n",
            "  inflating: hrf_512_512_dice_loss_hvr_0_3_feb_3/split_2/train/mask/_05_h_0_24.png  \n",
            "  inflating: hrf_512_512_dice_loss_hvr_0_3_feb_3/split_2/train/mask/_01_g_3_23.png  \n",
            "  inflating: hrf_512_512_dice_loss_hvr_0_3_feb_3/split_2/train/mask/_07_h_1_11.png  \n",
            "  inflating: hrf_512_512_dice_loss_hvr_0_3_feb_3/split_2/train/mask/_14_dr_0_2.png  \n",
            "  inflating: hrf_512_512_dice_loss_hvr_0_3_feb_3/split_2/train/mask/_04_dr_0_33.png  \n",
            "  inflating: hrf_512_512_dice_loss_hvr_0_3_feb_3/split_2/train/mask/_01_h_1_23.png  \n",
            "  inflating: hrf_512_512_dice_loss_hvr_0_3_feb_3/split_2/train/mask/_14_dr_3_26.png  \n",
            "  inflating: hrf_512_512_dice_loss_hvr_0_3_feb_3/split_2/train/mask/_14_dr_3_13.png  \n",
            "  inflating: hrf_512_512_dice_loss_hvr_0_3_feb_3/split_2/train/mask/_11_g_3_0.png  \n",
            "  inflating: hrf_512_512_dice_loss_hvr_0_3_feb_3/split_2/train/mask/_04_h_1_8.png  \n",
            "  inflating: hrf_512_512_dice_loss_hvr_0_3_feb_3/split_2/train/mask/_08_h_1_25.png  \n",
            "  inflating: hrf_512_512_dice_loss_hvr_0_3_feb_3/split_2/train/mask/_13_g_1_22.png  \n",
            "  inflating: hrf_512_512_dice_loss_hvr_0_3_feb_3/split_2/train/mask/_04_h_0_30.png  \n",
            "  inflating: hrf_512_512_dice_loss_hvr_0_3_feb_3/split_2/train/mask/_07_dr_3_15.png  \n",
            "  inflating: hrf_512_512_dice_loss_hvr_0_3_feb_3/split_2/train/mask/_14_dr_0_34.png  \n",
            "  inflating: hrf_512_512_dice_loss_hvr_0_3_feb_3/split_2/train/mask/_06_dr_3_24.png  \n",
            "  inflating: hrf_512_512_dice_loss_hvr_0_3_feb_3/split_2/train/mask/_14_h_1_17.png  \n",
            "  inflating: hrf_512_512_dice_loss_hvr_0_3_feb_3/split_2/train/mask/_10_dr_2_5.png  \n",
            "  inflating: hrf_512_512_dice_loss_hvr_0_3_feb_3/split_2/train/mask/_01_g_3_6.png  \n",
            "  inflating: hrf_512_512_dice_loss_hvr_0_3_feb_3/split_2/train/mask/_13_h_1_26.png  \n",
            "  inflating: hrf_512_512_dice_loss_hvr_0_3_feb_3/split_2/train/mask/_12_dr_0_14.png  \n",
            "  inflating: hrf_512_512_dice_loss_hvr_0_3_feb_3/split_2/train/mask/_12_dr_1_24.png  \n",
            "  inflating: hrf_512_512_dice_loss_hvr_0_3_feb_3/split_2/train/mask/_10_g_2_14.png  \n",
            "  inflating: hrf_512_512_dice_loss_hvr_0_3_feb_3/split_2/train/mask/_05_h_3_0.png  \n",
            "  inflating: hrf_512_512_dice_loss_hvr_0_3_feb_3/split_2/train/mask/_09_g_0_2.png  \n",
            "  inflating: hrf_512_512_dice_loss_hvr_0_3_feb_3/split_2/train/mask/_10_g_1_6.png  \n",
            "  inflating: hrf_512_512_dice_loss_hvr_0_3_feb_3/split_2/train/mask/_11_g_3_25.png  \n",
            "  inflating: hrf_512_512_dice_loss_hvr_0_3_feb_3/split_2/train/mask/_10_g_1_20.png  \n",
            "  inflating: hrf_512_512_dice_loss_hvr_0_3_feb_3/split_2/train/mask/_11_g_1_25.png  \n",
            "  inflating: hrf_512_512_dice_loss_hvr_0_3_feb_3/split_2/train/mask/_14_h_0_28.png  \n",
            "  inflating: hrf_512_512_dice_loss_hvr_0_3_feb_3/split_2/train/mask/_14_dr_3_19.png  \n",
            "  inflating: hrf_512_512_dice_loss_hvr_0_3_feb_3/split_2/train/mask/_15_dr_3_25.png  \n",
            "  inflating: hrf_512_512_dice_loss_hvr_0_3_feb_3/split_2/train/mask/_14_g_2_9.png  \n",
            "  inflating: hrf_512_512_dice_loss_hvr_0_3_feb_3/split_2/train/mask/_11_g_2_22.png  \n",
            "  inflating: hrf_512_512_dice_loss_hvr_0_3_feb_3/split_2/train/mask/_09_dr_3_20.png  \n",
            "  inflating: hrf_512_512_dice_loss_hvr_0_3_feb_3/split_2/train/mask/_09_g_2_31.png  \n",
            "  inflating: hrf_512_512_dice_loss_hvr_0_3_feb_3/split_2/train/mask/_09_h_3_16.png  \n",
            "  inflating: hrf_512_512_dice_loss_hvr_0_3_feb_3/split_2/train/mask/_04_dr_2_26.png  \n",
            "  inflating: hrf_512_512_dice_loss_hvr_0_3_feb_3/split_2/train/mask/_07_h_1_25.png  \n",
            "  inflating: hrf_512_512_dice_loss_hvr_0_3_feb_3/split_2/train/mask/_06_dr_2_11.png  \n",
            "  inflating: hrf_512_512_dice_loss_hvr_0_3_feb_3/split_2/train/mask/_07_h_3_17.png  \n",
            "  inflating: hrf_512_512_dice_loss_hvr_0_3_feb_3/split_2/train/mask/_07_h_3_13.png  \n",
            "  inflating: hrf_512_512_dice_loss_hvr_0_3_feb_3/split_2/train/mask/_01_dr_2_22.png  \n",
            "  inflating: hrf_512_512_dice_loss_hvr_0_3_feb_3/split_2/train/mask/_09_dr_1_22.png  \n",
            "  inflating: hrf_512_512_dice_loss_hvr_0_3_feb_3/split_2/train/mask/_01_dr_2_1.png  \n",
            "  inflating: hrf_512_512_dice_loss_hvr_0_3_feb_3/split_2/train/mask/_07_dr_1_8.png  \n",
            "  inflating: hrf_512_512_dice_loss_hvr_0_3_feb_3/split_2/train/mask/_06_dr_1_32.png  \n",
            "  inflating: hrf_512_512_dice_loss_hvr_0_3_feb_3/split_2/train/mask/_02_dr_0_27.png  \n",
            "  inflating: hrf_512_512_dice_loss_hvr_0_3_feb_3/split_2/train/mask/_10_dr_0_11.png  \n",
            "  inflating: hrf_512_512_dice_loss_hvr_0_3_feb_3/split_2/train/mask/_09_h_1_8.png  \n",
            "  inflating: hrf_512_512_dice_loss_hvr_0_3_feb_3/split_2/train/mask/_02_dr_0_34.png  \n",
            "  inflating: hrf_512_512_dice_loss_hvr_0_3_feb_3/split_2/train/mask/_02_h_3_19.png  \n",
            "  inflating: hrf_512_512_dice_loss_hvr_0_3_feb_3/split_2/train/mask/_15_g_0_4.png  \n",
            "  inflating: hrf_512_512_dice_loss_hvr_0_3_feb_3/split_2/train/mask/_10_g_1_5.png  \n",
            "  inflating: hrf_512_512_dice_loss_hvr_0_3_feb_3/split_2/train/mask/_14_g_2_26.png  \n",
            "  inflating: hrf_512_512_dice_loss_hvr_0_3_feb_3/split_2/train/mask/_13_g_2_19.png  \n",
            "  inflating: hrf_512_512_dice_loss_hvr_0_3_feb_3/split_2/train/mask/_07_g_0_26.png  \n",
            "  inflating: hrf_512_512_dice_loss_hvr_0_3_feb_3/split_2/train/mask/_14_dr_1_9.png  \n",
            "  inflating: hrf_512_512_dice_loss_hvr_0_3_feb_3/split_2/train/mask/_04_g_1_5.png  \n",
            "  inflating: hrf_512_512_dice_loss_hvr_0_3_feb_3/split_2/train/mask/_15_g_3_30.png  \n",
            "  inflating: hrf_512_512_dice_loss_hvr_0_3_feb_3/split_2/train/mask/_04_dr_2_9.png  \n",
            "  inflating: hrf_512_512_dice_loss_hvr_0_3_feb_3/split_2/train/mask/_04_h_0_18.png  \n",
            "  inflating: hrf_512_512_dice_loss_hvr_0_3_feb_3/split_2/train/mask/_07_g_1_6.png  \n",
            "  inflating: hrf_512_512_dice_loss_hvr_0_3_feb_3/split_2/train/mask/_07_h_1_24.png  \n",
            "  inflating: hrf_512_512_dice_loss_hvr_0_3_feb_3/split_2/train/mask/_09_dr_0_20.png  \n",
            "  inflating: hrf_512_512_dice_loss_hvr_0_3_feb_3/split_2/train/mask/_01_h_3_8.png  \n",
            "  inflating: hrf_512_512_dice_loss_hvr_0_3_feb_3/split_2/train/mask/_10_dr_2_2.png  \n",
            "  inflating: hrf_512_512_dice_loss_hvr_0_3_feb_3/split_2/train/mask/_07_h_0_11.png  \n",
            "  inflating: hrf_512_512_dice_loss_hvr_0_3_feb_3/split_2/train/mask/_03_dr_0_23.png  \n",
            "  inflating: hrf_512_512_dice_loss_hvr_0_3_feb_3/split_2/train/mask/_15_dr_0_34.png  \n",
            "  inflating: hrf_512_512_dice_loss_hvr_0_3_feb_3/split_2/train/mask/_14_h_3_3.png  \n",
            "  inflating: hrf_512_512_dice_loss_hvr_0_3_feb_3/split_2/train/mask/_08_h_2_11.png  \n",
            "  inflating: hrf_512_512_dice_loss_hvr_0_3_feb_3/split_2/train/mask/_13_h_0_20.png  \n",
            "  inflating: hrf_512_512_dice_loss_hvr_0_3_feb_3/split_2/train/mask/_11_g_1_12.png  \n",
            "  inflating: hrf_512_512_dice_loss_hvr_0_3_feb_3/split_2/train/mask/_11_g_2_15.png  \n",
            "  inflating: hrf_512_512_dice_loss_hvr_0_3_feb_3/split_2/train/mask/_02_h_3_0.png  \n",
            "  inflating: hrf_512_512_dice_loss_hvr_0_3_feb_3/split_2/train/mask/_09_h_3_3.png  \n",
            "  inflating: hrf_512_512_dice_loss_hvr_0_3_feb_3/split_2/train/mask/_09_dr_2_4.png  \n",
            "  inflating: hrf_512_512_dice_loss_hvr_0_3_feb_3/split_2/train/mask/_13_h_1_33.png  \n",
            "  inflating: hrf_512_512_dice_loss_hvr_0_3_feb_3/split_2/train/mask/_05_h_2_12.png  \n",
            "  inflating: hrf_512_512_dice_loss_hvr_0_3_feb_3/split_2/train/mask/_07_h_2_28.png  \n",
            "  inflating: hrf_512_512_dice_loss_hvr_0_3_feb_3/split_2/train/mask/_15_dr_2_32.png  \n",
            "  inflating: hrf_512_512_dice_loss_hvr_0_3_feb_3/split_2/train/mask/_07_dr_2_21.png  \n",
            "  inflating: hrf_512_512_dice_loss_hvr_0_3_feb_3/split_2/train/mask/_07_g_0_22.png  \n",
            "  inflating: hrf_512_512_dice_loss_hvr_0_3_feb_3/split_2/train/mask/_11_g_3_34.png  \n",
            "  inflating: hrf_512_512_dice_loss_hvr_0_3_feb_3/split_2/train/mask/_01_dr_1_23.png  \n",
            "  inflating: hrf_512_512_dice_loss_hvr_0_3_feb_3/split_2/train/mask/_01_g_1_25.png  \n",
            "  inflating: hrf_512_512_dice_loss_hvr_0_3_feb_3/split_2/train/mask/_10_dr_0_6.png  \n",
            "  inflating: hrf_512_512_dice_loss_hvr_0_3_feb_3/split_2/train/mask/_15_g_1_23.png  \n",
            "  inflating: hrf_512_512_dice_loss_hvr_0_3_feb_3/split_2/train/mask/_10_dr_3_22.png  \n",
            "  inflating: hrf_512_512_dice_loss_hvr_0_3_feb_3/split_2/train/mask/_09_dr_3_24.png  \n",
            "  inflating: hrf_512_512_dice_loss_hvr_0_3_feb_3/split_2/train/mask/_09_h_0_22.png  \n",
            "  inflating: hrf_512_512_dice_loss_hvr_0_3_feb_3/split_2/train/mask/_09_dr_2_16.png  \n",
            "  inflating: hrf_512_512_dice_loss_hvr_0_3_feb_3/split_2/train/mask/_04_h_3_19.png  \n",
            "  inflating: hrf_512_512_dice_loss_hvr_0_3_feb_3/split_2/train/mask/_08_h_0_14.png  \n",
            "  inflating: hrf_512_512_dice_loss_hvr_0_3_feb_3/split_2/train/mask/_04_g_1_12.png  \n",
            "  inflating: hrf_512_512_dice_loss_hvr_0_3_feb_3/split_2/train/mask/_03_dr_2_20.png  \n",
            "  inflating: hrf_512_512_dice_loss_hvr_0_3_feb_3/split_2/train/mask/_06_dr_1_9.png  \n",
            "  inflating: hrf_512_512_dice_loss_hvr_0_3_feb_3/split_2/train/mask/_06_h_0_15.png  \n",
            "  inflating: hrf_512_512_dice_loss_hvr_0_3_feb_3/split_2/train/mask/_02_h_1_10.png  \n",
            "  inflating: hrf_512_512_dice_loss_hvr_0_3_feb_3/split_2/train/mask/_10_g_1_31.png  \n",
            "  inflating: hrf_512_512_dice_loss_hvr_0_3_feb_3/split_2/train/mask/_07_dr_3_24.png  \n",
            "  inflating: hrf_512_512_dice_loss_hvr_0_3_feb_3/split_2/train/mask/_10_dr_3_0.png  \n",
            "  inflating: hrf_512_512_dice_loss_hvr_0_3_feb_3/split_2/train/mask/_15_dr_0_17.png  \n",
            "  inflating: hrf_512_512_dice_loss_hvr_0_3_feb_3/split_2/train/mask/_12_dr_1_21.png  \n",
            "  inflating: hrf_512_512_dice_loss_hvr_0_3_feb_3/split_2/train/mask/_14_g_0_13.png  \n",
            "  inflating: hrf_512_512_dice_loss_hvr_0_3_feb_3/split_2/train/mask/_07_dr_3_27.png  \n",
            "  inflating: hrf_512_512_dice_loss_hvr_0_3_feb_3/split_2/train/mask/_10_g_2_28.png  \n",
            "  inflating: hrf_512_512_dice_loss_hvr_0_3_feb_3/split_2/train/mask/_08_h_0_31.png  \n",
            "  inflating: hrf_512_512_dice_loss_hvr_0_3_feb_3/split_2/train/mask/_15_g_3_7.png  \n",
            "  inflating: hrf_512_512_dice_loss_hvr_0_3_feb_3/split_2/train/mask/_01_g_1_6.png  \n",
            "  inflating: hrf_512_512_dice_loss_hvr_0_3_feb_3/split_2/train/mask/_13_g_3_29.png  \n",
            "  inflating: hrf_512_512_dice_loss_hvr_0_3_feb_3/split_2/train/mask/_13_g_3_31.png  \n",
            "  inflating: hrf_512_512_dice_loss_hvr_0_3_feb_3/split_2/train/mask/_01_h_0_32.png  \n",
            "  inflating: hrf_512_512_dice_loss_hvr_0_3_feb_3/split_2/train/mask/_13_h_3_12.png  \n",
            "  inflating: hrf_512_512_dice_loss_hvr_0_3_feb_3/split_2/train/mask/_11_g_2_29.png  \n",
            "  inflating: hrf_512_512_dice_loss_hvr_0_3_feb_3/split_2/train/mask/_01_h_1_32.png  \n",
            "  inflating: hrf_512_512_dice_loss_hvr_0_3_feb_3/split_2/train/mask/_04_dr_2_8.png  \n",
            "  inflating: hrf_512_512_dice_loss_hvr_0_3_feb_3/split_2/train/mask/_14_dr_1_7.png  \n",
            "  inflating: hrf_512_512_dice_loss_hvr_0_3_feb_3/split_2/train/mask/_07_dr_0_5.png  \n",
            "  inflating: hrf_512_512_dice_loss_hvr_0_3_feb_3/split_2/train/mask/_09_h_2_9.png  \n",
            "  inflating: hrf_512_512_dice_loss_hvr_0_3_feb_3/split_2/train/mask/_02_dr_2_27.png  \n",
            "  inflating: hrf_512_512_dice_loss_hvr_0_3_feb_3/split_2/train/mask/_15_dr_2_28.png  \n",
            "  inflating: hrf_512_512_dice_loss_hvr_0_3_feb_3/split_2/train/mask/_07_dr_0_9.png  \n",
            "  inflating: hrf_512_512_dice_loss_hvr_0_3_feb_3/split_2/train/mask/_06_dr_0_20.png  \n",
            "  inflating: hrf_512_512_dice_loss_hvr_0_3_feb_3/split_2/train/mask/_06_dr_1_27.png  \n",
            "  inflating: hrf_512_512_dice_loss_hvr_0_3_feb_3/split_2/train/mask/_14_dr_1_24.png  \n",
            "  inflating: hrf_512_512_dice_loss_hvr_0_3_feb_3/split_2/train/mask/_06_dr_1_13.png  \n",
            "  inflating: hrf_512_512_dice_loss_hvr_0_3_feb_3/split_2/train/mask/_10_g_1_8.png  \n",
            "  inflating: hrf_512_512_dice_loss_hvr_0_3_feb_3/split_2/train/mask/_04_g_3_0.png  \n",
            "  inflating: hrf_512_512_dice_loss_hvr_0_3_feb_3/split_2/train/mask/_14_h_2_6.png  \n",
            "  inflating: hrf_512_512_dice_loss_hvr_0_3_feb_3/split_2/train/mask/_11_g_0_21.png  \n",
            "  inflating: hrf_512_512_dice_loss_hvr_0_3_feb_3/split_2/train/mask/_06_h_3_19.png  \n",
            "  inflating: hrf_512_512_dice_loss_hvr_0_3_feb_3/split_2/train/mask/_07_h_0_2.png  \n",
            "  inflating: hrf_512_512_dice_loss_hvr_0_3_feb_3/split_2/train/mask/_04_h_2_18.png  \n",
            "  inflating: hrf_512_512_dice_loss_hvr_0_3_feb_3/split_2/train/mask/_04_h_2_4.png  \n",
            "  inflating: hrf_512_512_dice_loss_hvr_0_3_feb_3/split_2/train/mask/_12_dr_2_13.png  \n",
            "  inflating: hrf_512_512_dice_loss_hvr_0_3_feb_3/split_2/train/mask/_04_dr_1_30.png  \n",
            "  inflating: hrf_512_512_dice_loss_hvr_0_3_feb_3/split_2/train/mask/_01_g_2_2.png  \n",
            "  inflating: hrf_512_512_dice_loss_hvr_0_3_feb_3/split_2/train/mask/_07_g_0_20.png  \n",
            "  inflating: hrf_512_512_dice_loss_hvr_0_3_feb_3/split_2/train/mask/_01_dr_1_22.png  \n",
            "  inflating: hrf_512_512_dice_loss_hvr_0_3_feb_3/split_2/train/mask/_11_g_1_23.png  \n",
            "  inflating: hrf_512_512_dice_loss_hvr_0_3_feb_3/split_2/train/mask/_04_dr_0_13.png  \n",
            "  inflating: hrf_512_512_dice_loss_hvr_0_3_feb_3/split_2/train/mask/_04_g_2_8.png  \n",
            "  inflating: hrf_512_512_dice_loss_hvr_0_3_feb_3/split_2/train/mask/_13_g_2_6.png  \n",
            "  inflating: hrf_512_512_dice_loss_hvr_0_3_feb_3/split_2/train/mask/_14_h_1_0.png  \n",
            "  inflating: hrf_512_512_dice_loss_hvr_0_3_feb_3/split_2/train/mask/_14_h_2_24.png  \n",
            "  inflating: hrf_512_512_dice_loss_hvr_0_3_feb_3/split_2/train/mask/_04_dr_3_17.png  \n",
            "  inflating: hrf_512_512_dice_loss_hvr_0_3_feb_3/split_2/train/mask/_04_dr_0_20.png  \n",
            "  inflating: hrf_512_512_dice_loss_hvr_0_3_feb_3/split_2/train/mask/_09_dr_2_10.png  \n",
            "  inflating: hrf_512_512_dice_loss_hvr_0_3_feb_3/split_2/train/mask/_06_h_2_32.png  \n",
            "  inflating: hrf_512_512_dice_loss_hvr_0_3_feb_3/split_2/train/mask/_02_h_3_13.png  \n",
            "  inflating: hrf_512_512_dice_loss_hvr_0_3_feb_3/split_2/train/mask/_11_g_3_4.png  \n",
            "  inflating: hrf_512_512_dice_loss_hvr_0_3_feb_3/split_2/train/mask/_06_dr_0_29.png  \n",
            "  inflating: hrf_512_512_dice_loss_hvr_0_3_feb_3/split_2/train/mask/_05_h_0_17.png  \n",
            "  inflating: hrf_512_512_dice_loss_hvr_0_3_feb_3/split_2/train/mask/_15_dr_0_4.png  \n",
            "  inflating: hrf_512_512_dice_loss_hvr_0_3_feb_3/split_2/train/mask/_14_g_0_33.png  \n",
            "  inflating: hrf_512_512_dice_loss_hvr_0_3_feb_3/split_2/train/mask/_09_g_0_30.png  \n",
            "  inflating: hrf_512_512_dice_loss_hvr_0_3_feb_3/split_2/train/mask/_14_dr_1_20.png  \n",
            "  inflating: hrf_512_512_dice_loss_hvr_0_3_feb_3/split_2/train/mask/_10_g_2_5.png  \n",
            "  inflating: hrf_512_512_dice_loss_hvr_0_3_feb_3/split_2/train/mask/_11_g_2_0.png  \n",
            "  inflating: hrf_512_512_dice_loss_hvr_0_3_feb_3/split_2/train/mask/_05_h_1_30.png  \n",
            "  inflating: hrf_512_512_dice_loss_hvr_0_3_feb_3/split_2/train/mask/_07_h_1_20.png  \n",
            "  inflating: hrf_512_512_dice_loss_hvr_0_3_feb_3/split_2/train/mask/_09_dr_1_34.png  \n",
            "  inflating: hrf_512_512_dice_loss_hvr_0_3_feb_3/split_2/train/mask/_11_g_0_13.png  \n",
            "  inflating: hrf_512_512_dice_loss_hvr_0_3_feb_3/split_2/train/mask/_09_h_3_19.png  \n",
            "  inflating: hrf_512_512_dice_loss_hvr_0_3_feb_3/split_2/train/mask/_09_dr_0_22.png  \n",
            "  inflating: hrf_512_512_dice_loss_hvr_0_3_feb_3/split_2/train/mask/_07_dr_0_20.png  \n",
            "  inflating: hrf_512_512_dice_loss_hvr_0_3_feb_3/split_2/train/mask/_14_g_2_25.png  \n",
            "  inflating: hrf_512_512_dice_loss_hvr_0_3_feb_3/split_2/train/mask/_01_h_1_18.png  \n",
            "  inflating: hrf_512_512_dice_loss_hvr_0_3_feb_3/split_2/train/mask/_13_h_2_25.png  \n",
            "  inflating: hrf_512_512_dice_loss_hvr_0_3_feb_3/split_2/train/mask/_13_g_0_27.png  \n",
            "  inflating: hrf_512_512_dice_loss_hvr_0_3_feb_3/split_2/train/mask/_01_dr_0_12.png  \n",
            "  inflating: hrf_512_512_dice_loss_hvr_0_3_feb_3/split_2/train/mask/_07_h_2_8.png  \n",
            "  inflating: hrf_512_512_dice_loss_hvr_0_3_feb_3/split_2/train/mask/_14_dr_0_13.png  \n",
            "  inflating: hrf_512_512_dice_loss_hvr_0_3_feb_3/split_2/train/mask/_13_g_0_2.png  \n",
            "  inflating: hrf_512_512_dice_loss_hvr_0_3_feb_3/split_2/train/mask/_13_g_3_18.png  \n",
            "  inflating: hrf_512_512_dice_loss_hvr_0_3_feb_3/split_2/train/mask/_04_g_3_12.png  \n",
            "  inflating: hrf_512_512_dice_loss_hvr_0_3_feb_3/split_2/train/mask/_15_g_0_32.png  \n",
            "  inflating: hrf_512_512_dice_loss_hvr_0_3_feb_3/split_2/train/mask/_15_g_0_3.png  \n",
            "  inflating: hrf_512_512_dice_loss_hvr_0_3_feb_3/split_2/train/mask/_09_g_3_28.png  \n",
            "  inflating: hrf_512_512_dice_loss_hvr_0_3_feb_3/split_2/train/mask/_08_h_3_5.png  \n",
            "  inflating: hrf_512_512_dice_loss_hvr_0_3_feb_3/split_2/train/mask/_15_g_0_1.png  \n",
            "  inflating: hrf_512_512_dice_loss_hvr_0_3_feb_3/split_2/train/mask/_15_dr_3_13.png  \n",
            "  inflating: hrf_512_512_dice_loss_hvr_0_3_feb_3/split_2/train/mask/_04_dr_0_3.png  \n",
            "  inflating: hrf_512_512_dice_loss_hvr_0_3_feb_3/split_2/train/mask/_01_h_1_6.png  \n",
            "  inflating: hrf_512_512_dice_loss_hvr_0_3_feb_3/split_2/train/mask/_04_h_2_6.png  \n",
            "  inflating: hrf_512_512_dice_loss_hvr_0_3_feb_3/split_2/train/mask/_02_dr_2_8.png  \n",
            "  inflating: hrf_512_512_dice_loss_hvr_0_3_feb_3/split_2/train/mask/_13_g_1_8.png  \n",
            "  inflating: hrf_512_512_dice_loss_hvr_0_3_feb_3/split_2/train/mask/_05_h_1_29.png  \n",
            "  inflating: hrf_512_512_dice_loss_hvr_0_3_feb_3/split_2/train/mask/_09_h_2_28.png  \n",
            "  inflating: hrf_512_512_dice_loss_hvr_0_3_feb_3/split_2/train/mask/_06_h_0_12.png  \n",
            "  inflating: hrf_512_512_dice_loss_hvr_0_3_feb_3/split_2/train/mask/_04_g_2_33.png  \n",
            "  inflating: hrf_512_512_dice_loss_hvr_0_3_feb_3/split_2/train/mask/_12_dr_1_12.png  \n",
            "  inflating: hrf_512_512_dice_loss_hvr_0_3_feb_3/split_2/train/mask/_15_g_1_13.png  \n",
            "  inflating: hrf_512_512_dice_loss_hvr_0_3_feb_3/split_2/train/mask/_15_g_3_32.png  \n",
            "  inflating: hrf_512_512_dice_loss_hvr_0_3_feb_3/split_2/train/mask/_05_h_1_20.png  \n",
            "  inflating: hrf_512_512_dice_loss_hvr_0_3_feb_3/split_2/train/mask/_02_h_0_34.png  \n",
            "  inflating: hrf_512_512_dice_loss_hvr_0_3_feb_3/split_2/train/mask/_08_h_3_32.png  \n",
            "  inflating: hrf_512_512_dice_loss_hvr_0_3_feb_3/split_2/train/mask/_01_h_0_30.png  \n",
            "  inflating: hrf_512_512_dice_loss_hvr_0_3_feb_3/split_2/train/mask/_13_g_0_33.png  \n",
            "  inflating: hrf_512_512_dice_loss_hvr_0_3_feb_3/split_2/train/mask/_04_h_2_8.png  \n",
            "  inflating: hrf_512_512_dice_loss_hvr_0_3_feb_3/split_2/train/mask/_14_g_3_17.png  \n",
            "  inflating: hrf_512_512_dice_loss_hvr_0_3_feb_3/split_2/train/mask/_14_dr_3_12.png  \n",
            "  inflating: hrf_512_512_dice_loss_hvr_0_3_feb_3/split_2/train/mask/_09_h_2_27.png  \n",
            "  inflating: hrf_512_512_dice_loss_hvr_0_3_feb_3/split_2/train/mask/_02_h_1_20.png  \n",
            "  inflating: hrf_512_512_dice_loss_hvr_0_3_feb_3/split_2/train/mask/_01_dr_3_29.png  \n",
            "  inflating: hrf_512_512_dice_loss_hvr_0_3_feb_3/split_2/train/mask/_08_h_0_15.png  \n",
            "  inflating: hrf_512_512_dice_loss_hvr_0_3_feb_3/split_2/train/mask/_02_dr_2_0.png  \n",
            "  inflating: hrf_512_512_dice_loss_hvr_0_3_feb_3/split_2/train/mask/_07_h_2_1.png  \n",
            "  inflating: hrf_512_512_dice_loss_hvr_0_3_feb_3/split_2/train/mask/_01_g_0_3.png  \n",
            "  inflating: hrf_512_512_dice_loss_hvr_0_3_feb_3/split_2/train/mask/_04_h_1_30.png  \n",
            "  inflating: hrf_512_512_dice_loss_hvr_0_3_feb_3/split_2/train/mask/_07_g_1_25.png  \n",
            "  inflating: hrf_512_512_dice_loss_hvr_0_3_feb_3/split_2/train/mask/_07_h_0_29.png  \n",
            "  inflating: hrf_512_512_dice_loss_hvr_0_3_feb_3/split_2/train/mask/_07_h_2_14.png  \n",
            "  inflating: hrf_512_512_dice_loss_hvr_0_3_feb_3/split_2/train/mask/_11_g_1_14.png  \n",
            "  inflating: hrf_512_512_dice_loss_hvr_0_3_feb_3/split_2/train/mask/_11_g_2_31.png  \n",
            "  inflating: hrf_512_512_dice_loss_hvr_0_3_feb_3/split_2/train/mask/_14_g_2_32.png  \n",
            "  inflating: hrf_512_512_dice_loss_hvr_0_3_feb_3/split_2/train/mask/_14_dr_1_26.png  \n",
            "  inflating: hrf_512_512_dice_loss_hvr_0_3_feb_3/split_2/train/mask/_13_h_2_32.png  \n",
            "  inflating: hrf_512_512_dice_loss_hvr_0_3_feb_3/split_2/train/mask/_06_h_3_5.png  \n",
            "  inflating: hrf_512_512_dice_loss_hvr_0_3_feb_3/split_2/train/mask/_06_h_2_7.png  \n",
            "  inflating: hrf_512_512_dice_loss_hvr_0_3_feb_3/split_2/train/mask/_14_g_2_31.png  \n",
            "  inflating: hrf_512_512_dice_loss_hvr_0_3_feb_3/split_2/train/mask/_09_dr_0_11.png  \n",
            "  inflating: hrf_512_512_dice_loss_hvr_0_3_feb_3/split_2/train/mask/_15_dr_0_6.png  \n",
            "  inflating: hrf_512_512_dice_loss_hvr_0_3_feb_3/split_2/train/mask/_13_h_0_31.png  \n",
            "  inflating: hrf_512_512_dice_loss_hvr_0_3_feb_3/split_2/train/mask/_10_g_2_30.png  \n",
            "  inflating: hrf_512_512_dice_loss_hvr_0_3_feb_3/split_2/train/mask/_04_h_1_1.png  \n",
            "  inflating: hrf_512_512_dice_loss_hvr_0_3_feb_3/split_2/train/mask/_11_g_0_22.png  \n",
            "  inflating: hrf_512_512_dice_loss_hvr_0_3_feb_3/split_2/train/mask/_14_dr_1_33.png  \n",
            "  inflating: hrf_512_512_dice_loss_hvr_0_3_feb_3/split_2/train/mask/_13_g_1_34.png  \n",
            "  inflating: hrf_512_512_dice_loss_hvr_0_3_feb_3/split_2/train/mask/_14_dr_1_10.png  \n",
            "  inflating: hrf_512_512_dice_loss_hvr_0_3_feb_3/split_2/train/mask/_11_g_3_1.png  \n",
            "  inflating: hrf_512_512_dice_loss_hvr_0_3_feb_3/split_2/train/mask/_15_g_3_17.png  \n",
            "  inflating: hrf_512_512_dice_loss_hvr_0_3_feb_3/split_2/train/mask/_03_g_3_17.png  \n",
            "  inflating: hrf_512_512_dice_loss_hvr_0_3_feb_3/split_2/train/mask/_08_h_2_19.png  \n",
            "  inflating: hrf_512_512_dice_loss_hvr_0_3_feb_3/split_2/train/mask/_04_dr_2_7.png  \n",
            "  inflating: hrf_512_512_dice_loss_hvr_0_3_feb_3/split_2/train/mask/_06_dr_3_7.png  \n",
            "  inflating: hrf_512_512_dice_loss_hvr_0_3_feb_3/split_2/train/mask/_01_h_2_7.png  \n",
            "  inflating: hrf_512_512_dice_loss_hvr_0_3_feb_3/split_2/train/mask/_02_h_2_5.png  \n",
            "  inflating: hrf_512_512_dice_loss_hvr_0_3_feb_3/split_2/train/mask/_10_dr_1_18.png  \n",
            "  inflating: hrf_512_512_dice_loss_hvr_0_3_feb_3/split_2/train/mask/_06_h_0_2.png  \n",
            "  inflating: hrf_512_512_dice_loss_hvr_0_3_feb_3/split_2/train/mask/_01_dr_0_26.png  \n",
            "  inflating: hrf_512_512_dice_loss_hvr_0_3_feb_3/split_2/train/mask/_07_dr_0_16.png  \n",
            "  inflating: hrf_512_512_dice_loss_hvr_0_3_feb_3/split_2/train/mask/_06_dr_3_19.png  \n",
            "  inflating: hrf_512_512_dice_loss_hvr_0_3_feb_3/split_2/train/mask/_08_h_3_14.png  \n",
            "  inflating: hrf_512_512_dice_loss_hvr_0_3_feb_3/split_2/train/mask/_06_h_2_14.png  \n",
            "  inflating: hrf_512_512_dice_loss_hvr_0_3_feb_3/split_2/train/mask/_09_g_1_18.png  \n",
            "  inflating: hrf_512_512_dice_loss_hvr_0_3_feb_3/split_2/train/mask/_07_h_2_24.png  \n",
            "  inflating: hrf_512_512_dice_loss_hvr_0_3_feb_3/split_2/train/mask/_14_g_0_7.png  \n",
            "  inflating: hrf_512_512_dice_loss_hvr_0_3_feb_3/split_2/train/mask/_05_h_1_4.png  \n",
            "  inflating: hrf_512_512_dice_loss_hvr_0_3_feb_3/split_2/train/mask/_09_g_2_4.png  \n",
            "  inflating: hrf_512_512_dice_loss_hvr_0_3_feb_3/split_2/train/mask/_09_g_2_7.png  \n",
            "  inflating: hrf_512_512_dice_loss_hvr_0_3_feb_3/split_2/train/mask/_09_h_0_31.png  \n",
            "  inflating: hrf_512_512_dice_loss_hvr_0_3_feb_3/split_2/train/mask/_10_g_2_26.png  \n",
            "  inflating: hrf_512_512_dice_loss_hvr_0_3_feb_3/split_2/train/mask/_01_g_3_4.png  \n",
            "  inflating: hrf_512_512_dice_loss_hvr_0_3_feb_3/split_2/train/mask/_13_h_0_11.png  \n",
            "  inflating: hrf_512_512_dice_loss_hvr_0_3_feb_3/split_2/train/mask/_09_dr_1_17.png  \n",
            "  inflating: hrf_512_512_dice_loss_hvr_0_3_feb_3/split_2/train/mask/_09_dr_3_8.png  \n",
            "  inflating: hrf_512_512_dice_loss_hvr_0_3_feb_3/split_2/train/mask/_10_dr_3_2.png  \n",
            "  inflating: hrf_512_512_dice_loss_hvr_0_3_feb_3/split_2/train/mask/_06_dr_1_2.png  \n",
            "  inflating: hrf_512_512_dice_loss_hvr_0_3_feb_3/split_2/train/mask/_11_g_1_6.png  \n",
            "  inflating: hrf_512_512_dice_loss_hvr_0_3_feb_3/split_2/train/mask/_04_g_3_33.png  \n",
            "  inflating: hrf_512_512_dice_loss_hvr_0_3_feb_3/split_2/train/mask/_07_dr_2_23.png  \n",
            "  inflating: hrf_512_512_dice_loss_hvr_0_3_feb_3/split_2/train/mask/_01_dr_0_25.png  \n",
            "  inflating: hrf_512_512_dice_loss_hvr_0_3_feb_3/split_2/train/mask/_02_h_0_4.png  \n",
            "  inflating: hrf_512_512_dice_loss_hvr_0_3_feb_3/split_2/train/mask/_14_g_3_9.png  \n",
            "  inflating: hrf_512_512_dice_loss_hvr_0_3_feb_3/split_2/train/mask/_14_g_0_5.png  \n",
            "  inflating: hrf_512_512_dice_loss_hvr_0_3_feb_3/split_2/train/mask/_07_dr_2_6.png  \n",
            "  inflating: hrf_512_512_dice_loss_hvr_0_3_feb_3/split_2/train/mask/_13_h_1_14.png  \n",
            "  inflating: hrf_512_512_dice_loss_hvr_0_3_feb_3/split_2/train/mask/_03_g_0_25.png  \n",
            "  inflating: hrf_512_512_dice_loss_hvr_0_3_feb_3/split_2/train/mask/_10_dr_3_13.png  \n",
            "  inflating: hrf_512_512_dice_loss_hvr_0_3_feb_3/split_2/train/mask/_10_dr_1_29.png  \n",
            "  inflating: hrf_512_512_dice_loss_hvr_0_3_feb_3/split_2/train/mask/_02_dr_0_0.png  \n",
            "  inflating: hrf_512_512_dice_loss_hvr_0_3_feb_3/split_2/train/mask/_04_g_1_2.png  \n",
            "  inflating: hrf_512_512_dice_loss_hvr_0_3_feb_3/split_2/train/mask/_13_h_2_15.png  \n",
            "  inflating: hrf_512_512_dice_loss_hvr_0_3_feb_3/split_2/train/mask/_11_g_2_26.png  \n",
            "  inflating: hrf_512_512_dice_loss_hvr_0_3_feb_3/split_2/train/mask/_01_h_2_2.png  \n",
            "  inflating: hrf_512_512_dice_loss_hvr_0_3_feb_3/split_2/train/mask/_13_g_2_12.png  \n",
            "  inflating: hrf_512_512_dice_loss_hvr_0_3_feb_3/split_2/train/mask/_09_h_2_5.png  \n",
            "  inflating: hrf_512_512_dice_loss_hvr_0_3_feb_3/split_2/train/mask/_09_h_1_12.png  \n",
            "  inflating: hrf_512_512_dice_loss_hvr_0_3_feb_3/split_2/train/mask/_15_dr_0_7.png  \n",
            "  inflating: hrf_512_512_dice_loss_hvr_0_3_feb_3/split_2/train/mask/_07_h_1_29.png  \n",
            "  inflating: hrf_512_512_dice_loss_hvr_0_3_feb_3/split_2/train/mask/_04_dr_0_9.png  \n",
            "  inflating: hrf_512_512_dice_loss_hvr_0_3_feb_3/split_2/train/mask/_15_g_2_17.png  \n",
            "  inflating: hrf_512_512_dice_loss_hvr_0_3_feb_3/split_2/train/mask/_01_g_1_32.png  \n",
            "  inflating: hrf_512_512_dice_loss_hvr_0_3_feb_3/split_2/train/mask/_15_g_1_2.png  \n",
            "  inflating: hrf_512_512_dice_loss_hvr_0_3_feb_3/split_2/train/mask/_01_h_0_34.png  \n",
            "  inflating: hrf_512_512_dice_loss_hvr_0_3_feb_3/split_2/train/mask/_15_dr_2_8.png  \n",
            "  inflating: hrf_512_512_dice_loss_hvr_0_3_feb_3/split_2/train/mask/_08_h_0_22.png  \n",
            "  inflating: hrf_512_512_dice_loss_hvr_0_3_feb_3/split_2/train/mask/_07_h_3_16.png  \n",
            "  inflating: hrf_512_512_dice_loss_hvr_0_3_feb_3/split_2/train/mask/_09_h_3_20.png  \n",
            "  inflating: hrf_512_512_dice_loss_hvr_0_3_feb_3/split_2/train/mask/_03_g_1_31.png  \n",
            "  inflating: hrf_512_512_dice_loss_hvr_0_3_feb_3/split_2/train/mask/_14_h_1_1.png  \n",
            "  inflating: hrf_512_512_dice_loss_hvr_0_3_feb_3/split_2/train/mask/_03_g_1_13.png  \n",
            "  inflating: hrf_512_512_dice_loss_hvr_0_3_feb_3/split_2/train/mask/_07_h_1_13.png  \n",
            "  inflating: hrf_512_512_dice_loss_hvr_0_3_feb_3/split_2/train/mask/_02_h_2_10.png  \n",
            "  inflating: hrf_512_512_dice_loss_hvr_0_3_feb_3/split_2/train/mask/_07_g_3_1.png  \n",
            "  inflating: hrf_512_512_dice_loss_hvr_0_3_feb_3/split_2/train/mask/_10_g_0_26.png  \n",
            "  inflating: hrf_512_512_dice_loss_hvr_0_3_feb_3/split_2/train/mask/_10_g_0_9.png  \n",
            "  inflating: hrf_512_512_dice_loss_hvr_0_3_feb_3/split_2/train/mask/_04_h_3_28.png  \n",
            "  inflating: hrf_512_512_dice_loss_hvr_0_3_feb_3/split_2/train/mask/_07_h_2_0.png  \n",
            "  inflating: hrf_512_512_dice_loss_hvr_0_3_feb_3/split_2/train/mask/_11_g_2_19.png  \n",
            "  inflating: hrf_512_512_dice_loss_hvr_0_3_feb_3/split_2/train/mask/_07_dr_3_26.png  \n",
            "  inflating: hrf_512_512_dice_loss_hvr_0_3_feb_3/split_2/train/mask/_14_dr_1_34.png  \n",
            "  inflating: hrf_512_512_dice_loss_hvr_0_3_feb_3/split_2/train/mask/_09_dr_3_7.png  \n",
            "  inflating: hrf_512_512_dice_loss_hvr_0_3_feb_3/split_2/train/mask/_13_g_3_9.png  \n",
            "  inflating: hrf_512_512_dice_loss_hvr_0_3_feb_3/split_2/train/mask/_06_dr_0_23.png  \n",
            "  inflating: hrf_512_512_dice_loss_hvr_0_3_feb_3/split_2/train/mask/_01_g_1_15.png  \n",
            "  inflating: hrf_512_512_dice_loss_hvr_0_3_feb_3/split_2/train/mask/_14_g_2_28.png  \n",
            "  inflating: hrf_512_512_dice_loss_hvr_0_3_feb_3/split_2/train/mask/_11_g_1_11.png  \n",
            "  inflating: hrf_512_512_dice_loss_hvr_0_3_feb_3/split_2/train/mask/_03_g_2_16.png  \n",
            "  inflating: hrf_512_512_dice_loss_hvr_0_3_feb_3/split_2/train/mask/_02_h_3_24.png  \n",
            "  inflating: hrf_512_512_dice_loss_hvr_0_3_feb_3/split_2/train/mask/_03_dr_0_33.png  \n",
            "  inflating: hrf_512_512_dice_loss_hvr_0_3_feb_3/split_2/train/mask/_14_g_2_19.png  \n",
            "  inflating: hrf_512_512_dice_loss_hvr_0_3_feb_3/split_2/train/mask/_01_h_3_32.png  \n",
            "  inflating: hrf_512_512_dice_loss_hvr_0_3_feb_3/split_2/train/mask/_02_h_2_15.png  \n",
            "  inflating: hrf_512_512_dice_loss_hvr_0_3_feb_3/split_2/train/mask/_15_g_2_10.png  \n",
            "  inflating: hrf_512_512_dice_loss_hvr_0_3_feb_3/split_2/train/mask/_03_g_1_27.png  \n",
            "  inflating: hrf_512_512_dice_loss_hvr_0_3_feb_3/split_2/train/mask/_04_h_0_21.png  \n",
            "  inflating: hrf_512_512_dice_loss_hvr_0_3_feb_3/split_2/train/mask/_01_g_2_25.png  \n",
            "  inflating: hrf_512_512_dice_loss_hvr_0_3_feb_3/split_2/train/mask/_04_g_3_11.png  \n",
            "  inflating: hrf_512_512_dice_loss_hvr_0_3_feb_3/split_2/train/mask/_02_dr_0_7.png  \n",
            "  inflating: hrf_512_512_dice_loss_hvr_0_3_feb_3/split_2/train/mask/_09_h_0_23.png  \n",
            "  inflating: hrf_512_512_dice_loss_hvr_0_3_feb_3/split_2/train/mask/_07_h_0_16.png  \n",
            "  inflating: hrf_512_512_dice_loss_hvr_0_3_feb_3/split_2/train/mask/_12_dr_1_20.png  \n",
            "  inflating: hrf_512_512_dice_loss_hvr_0_3_feb_3/split_2/train/mask/_02_h_0_3.png  \n",
            "  inflating: hrf_512_512_dice_loss_hvr_0_3_feb_3/split_2/train/mask/_03_g_2_15.png  \n",
            "  inflating: hrf_512_512_dice_loss_hvr_0_3_feb_3/split_2/train/mask/_05_h_0_25.png  \n",
            "  inflating: hrf_512_512_dice_loss_hvr_0_3_feb_3/split_2/train/mask/_04_g_1_10.png  \n",
            "  inflating: hrf_512_512_dice_loss_hvr_0_3_feb_3/split_2/train/mask/_04_h_2_24.png  \n",
            "  inflating: hrf_512_512_dice_loss_hvr_0_3_feb_3/split_2/train/mask/_02_h_3_9.png  \n",
            "  inflating: hrf_512_512_dice_loss_hvr_0_3_feb_3/split_2/train/mask/_01_h_3_2.png  \n",
            "  inflating: hrf_512_512_dice_loss_hvr_0_3_feb_3/split_2/train/mask/_15_dr_2_19.png  \n",
            "  inflating: hrf_512_512_dice_loss_hvr_0_3_feb_3/split_2/train/mask/_08_h_0_34.png  \n",
            "  inflating: hrf_512_512_dice_loss_hvr_0_3_feb_3/split_2/train/mask/_11_g_1_15.png  \n",
            "  inflating: hrf_512_512_dice_loss_hvr_0_3_feb_3/split_2/train/mask/_15_dr_2_17.png  \n",
            "  inflating: hrf_512_512_dice_loss_hvr_0_3_feb_3/split_2/train/mask/_03_dr_2_1.png  \n",
            "  inflating: hrf_512_512_dice_loss_hvr_0_3_feb_3/split_2/train/mask/_03_g_2_21.png  \n",
            "  inflating: hrf_512_512_dice_loss_hvr_0_3_feb_3/split_2/train/mask/_08_h_2_6.png  \n",
            "  inflating: hrf_512_512_dice_loss_hvr_0_3_feb_3/split_2/train/mask/_09_dr_3_21.png  \n",
            "  inflating: hrf_512_512_dice_loss_hvr_0_3_feb_3/split_2/train/mask/_14_h_3_18.png  \n",
            "  inflating: hrf_512_512_dice_loss_hvr_0_3_feb_3/split_2/train/mask/_07_g_3_26.png  \n",
            "  inflating: hrf_512_512_dice_loss_hvr_0_3_feb_3/split_2/train/mask/_01_g_3_19.png  \n",
            "  inflating: hrf_512_512_dice_loss_hvr_0_3_feb_3/split_2/train/mask/_14_dr_1_21.png  \n",
            "  inflating: hrf_512_512_dice_loss_hvr_0_3_feb_3/split_2/train/mask/_03_dr_2_3.png  \n",
            "  inflating: hrf_512_512_dice_loss_hvr_0_3_feb_3/split_2/train/mask/_13_g_3_13.png  \n",
            "  inflating: hrf_512_512_dice_loss_hvr_0_3_feb_3/split_2/train/mask/_10_dr_1_1.png  \n",
            "  inflating: hrf_512_512_dice_loss_hvr_0_3_feb_3/split_2/train/mask/_10_dr_1_23.png  \n",
            "  inflating: hrf_512_512_dice_loss_hvr_0_3_feb_3/split_2/train/mask/_01_g_0_33.png  \n",
            "  inflating: hrf_512_512_dice_loss_hvr_0_3_feb_3/split_2/train/mask/_13_h_2_19.png  \n",
            "  inflating: hrf_512_512_dice_loss_hvr_0_3_feb_3/split_2/train/mask/_09_g_3_30.png  \n",
            "  inflating: hrf_512_512_dice_loss_hvr_0_3_feb_3/split_2/train/mask/_14_h_0_12.png  \n",
            "  inflating: hrf_512_512_dice_loss_hvr_0_3_feb_3/split_2/train/mask/_14_g_0_20.png  \n",
            "  inflating: hrf_512_512_dice_loss_hvr_0_3_feb_3/split_2/train/mask/_07_h_1_1.png  \n",
            "  inflating: hrf_512_512_dice_loss_hvr_0_3_feb_3/split_2/train/mask/_06_dr_2_12.png  \n",
            "  inflating: hrf_512_512_dice_loss_hvr_0_3_feb_3/split_2/train/mask/_12_dr_3_9.png  \n",
            "  inflating: hrf_512_512_dice_loss_hvr_0_3_feb_3/split_2/train/mask/_09_dr_3_10.png  \n",
            "  inflating: hrf_512_512_dice_loss_hvr_0_3_feb_3/split_2/train/mask/_04_dr_2_18.png  \n",
            "  inflating: hrf_512_512_dice_loss_hvr_0_3_feb_3/split_2/train/mask/_04_g_0_9.png  \n",
            "  inflating: hrf_512_512_dice_loss_hvr_0_3_feb_3/split_2/train/mask/_05_h_3_6.png  \n",
            "  inflating: hrf_512_512_dice_loss_hvr_0_3_feb_3/split_2/train/mask/_14_h_0_15.png  \n",
            "  inflating: hrf_512_512_dice_loss_hvr_0_3_feb_3/split_2/train/mask/_09_g_3_29.png  \n",
            "  inflating: hrf_512_512_dice_loss_hvr_0_3_feb_3/split_2/train/mask/_14_g_0_8.png  \n",
            "  inflating: hrf_512_512_dice_loss_hvr_0_3_feb_3/split_2/train/mask/_13_h_3_22.png  \n",
            "  inflating: hrf_512_512_dice_loss_hvr_0_3_feb_3/split_2/train/mask/_01_g_2_30.png  \n",
            "  inflating: hrf_512_512_dice_loss_hvr_0_3_feb_3/split_2/train/mask/_12_dr_3_25.png  \n",
            "  inflating: hrf_512_512_dice_loss_hvr_0_3_feb_3/split_2/train/mask/_14_dr_0_19.png  \n",
            "  inflating: hrf_512_512_dice_loss_hvr_0_3_feb_3/split_2/train/mask/_09_g_1_16.png  \n",
            "  inflating: hrf_512_512_dice_loss_hvr_0_3_feb_3/split_2/train/mask/_12_dr_3_24.png  \n",
            "  inflating: hrf_512_512_dice_loss_hvr_0_3_feb_3/split_2/train/mask/_07_h_3_23.png  \n",
            "  inflating: hrf_512_512_dice_loss_hvr_0_3_feb_3/split_2/train/mask/_02_h_1_24.png  \n",
            "  inflating: hrf_512_512_dice_loss_hvr_0_3_feb_3/split_2/train/mask/_06_h_1_32.png  \n",
            "  inflating: hrf_512_512_dice_loss_hvr_0_3_feb_3/split_2/train/mask/_04_g_1_33.png  \n",
            "  inflating: hrf_512_512_dice_loss_hvr_0_3_feb_3/split_2/train/mask/_03_dr_2_22.png  \n",
            "  inflating: hrf_512_512_dice_loss_hvr_0_3_feb_3/split_2/train/mask/_10_dr_1_26.png  \n",
            "  inflating: hrf_512_512_dice_loss_hvr_0_3_feb_3/split_2/train/mask/_06_h_0_8.png  \n",
            "  inflating: hrf_512_512_dice_loss_hvr_0_3_feb_3/split_2/train/mask/_06_dr_3_10.png  \n",
            "  inflating: hrf_512_512_dice_loss_hvr_0_3_feb_3/split_2/train/mask/_10_g_2_33.png  \n",
            "  inflating: hrf_512_512_dice_loss_hvr_0_3_feb_3/split_2/train/mask/_03_g_2_14.png  \n",
            "  inflating: hrf_512_512_dice_loss_hvr_0_3_feb_3/split_2/train/mask/_14_g_1_10.png  \n",
            "  inflating: hrf_512_512_dice_loss_hvr_0_3_feb_3/split_2/train/mask/_07_g_0_4.png  \n",
            "  inflating: hrf_512_512_dice_loss_hvr_0_3_feb_3/split_2/train/mask/_14_g_0_15.png  \n",
            "  inflating: hrf_512_512_dice_loss_hvr_0_3_feb_3/split_2/train/mask/_02_h_2_16.png  \n",
            "  inflating: hrf_512_512_dice_loss_hvr_0_3_feb_3/split_2/train/mask/_06_h_1_33.png  \n",
            "  inflating: hrf_512_512_dice_loss_hvr_0_3_feb_3/split_2/train/mask/_04_h_0_15.png  \n",
            "  inflating: hrf_512_512_dice_loss_hvr_0_3_feb_3/split_2/train/mask/_04_g_1_24.png  \n",
            "  inflating: hrf_512_512_dice_loss_hvr_0_3_feb_3/split_2/train/mask/_06_dr_2_16.png  \n",
            "  inflating: hrf_512_512_dice_loss_hvr_0_3_feb_3/split_2/train/mask/_01_dr_3_14.png  \n",
            "  inflating: hrf_512_512_dice_loss_hvr_0_3_feb_3/split_2/train/mask/_15_g_2_18.png  \n",
            "  inflating: hrf_512_512_dice_loss_hvr_0_3_feb_3/split_2/train/mask/_10_g_3_24.png  \n",
            "  inflating: hrf_512_512_dice_loss_hvr_0_3_feb_3/split_2/train/mask/_01_g_0_17.png  \n",
            "  inflating: hrf_512_512_dice_loss_hvr_0_3_feb_3/split_2/train/mask/_10_dr_2_13.png  \n",
            "  inflating: hrf_512_512_dice_loss_hvr_0_3_feb_3/split_2/train/mask/_07_g_2_3.png  \n",
            "  inflating: hrf_512_512_dice_loss_hvr_0_3_feb_3/split_2/train/mask/_12_dr_2_8.png  \n",
            "  inflating: hrf_512_512_dice_loss_hvr_0_3_feb_3/split_2/train/mask/_13_g_1_16.png  \n",
            "  inflating: hrf_512_512_dice_loss_hvr_0_3_feb_3/split_2/train/mask/_01_g_1_7.png  \n",
            "  inflating: hrf_512_512_dice_loss_hvr_0_3_feb_3/split_2/train/mask/_14_dr_2_17.png  \n",
            "  inflating: hrf_512_512_dice_loss_hvr_0_3_feb_3/split_2/train/mask/_15_dr_2_34.png  \n",
            "  inflating: hrf_512_512_dice_loss_hvr_0_3_feb_3/split_2/train/mask/_07_h_0_0.png  \n",
            "  inflating: hrf_512_512_dice_loss_hvr_0_3_feb_3/split_2/train/mask/_15_g_1_22.png  \n",
            "  inflating: hrf_512_512_dice_loss_hvr_0_3_feb_3/split_2/train/mask/_09_g_3_3.png  \n",
            "  inflating: hrf_512_512_dice_loss_hvr_0_3_feb_3/split_2/train/mask/_11_g_2_11.png  \n",
            "  inflating: hrf_512_512_dice_loss_hvr_0_3_feb_3/split_2/train/mask/_02_dr_3_7.png  \n",
            "  inflating: hrf_512_512_dice_loss_hvr_0_3_feb_3/split_2/train/mask/_15_g_1_30.png  \n",
            "  inflating: hrf_512_512_dice_loss_hvr_0_3_feb_3/split_2/train/mask/_07_dr_1_26.png  \n",
            "  inflating: hrf_512_512_dice_loss_hvr_0_3_feb_3/split_2/train/mask/_08_h_3_7.png  \n",
            "  inflating: hrf_512_512_dice_loss_hvr_0_3_feb_3/split_2/train/mask/_07_dr_3_23.png  \n",
            "  inflating: hrf_512_512_dice_loss_hvr_0_3_feb_3/split_2/train/mask/_06_dr_3_25.png  \n",
            "  inflating: hrf_512_512_dice_loss_hvr_0_3_feb_3/split_2/train/mask/_10_dr_1_15.png  \n",
            "  inflating: hrf_512_512_dice_loss_hvr_0_3_feb_3/split_2/train/mask/_12_dr_1_8.png  \n",
            "  inflating: hrf_512_512_dice_loss_hvr_0_3_feb_3/split_2/train/mask/_15_g_1_33.png  \n",
            "  inflating: hrf_512_512_dice_loss_hvr_0_3_feb_3/split_2/train/mask/_14_dr_3_27.png  \n",
            "  inflating: hrf_512_512_dice_loss_hvr_0_3_feb_3/split_2/train/mask/_06_dr_0_32.png  \n",
            "  inflating: hrf_512_512_dice_loss_hvr_0_3_feb_3/split_2/train/mask/_13_h_0_23.png  \n",
            "  inflating: hrf_512_512_dice_loss_hvr_0_3_feb_3/split_2/train/mask/_07_g_1_28.png  \n",
            "  inflating: hrf_512_512_dice_loss_hvr_0_3_feb_3/split_2/train/mask/_01_dr_1_8.png  \n",
            "  inflating: hrf_512_512_dice_loss_hvr_0_3_feb_3/split_2/train/mask/_07_h_3_25.png  \n",
            "  inflating: hrf_512_512_dice_loss_hvr_0_3_feb_3/split_2/train/mask/_11_g_3_15.png  \n",
            "  inflating: hrf_512_512_dice_loss_hvr_0_3_feb_3/split_2/train/mask/_10_g_3_8.png  \n",
            "  inflating: hrf_512_512_dice_loss_hvr_0_3_feb_3/split_2/train/mask/_09_h_1_31.png  \n",
            "  inflating: hrf_512_512_dice_loss_hvr_0_3_feb_3/split_2/train/mask/_07_dr_1_13.png  \n",
            "  inflating: hrf_512_512_dice_loss_hvr_0_3_feb_3/split_2/train/mask/_14_dr_3_28.png  \n",
            "  inflating: hrf_512_512_dice_loss_hvr_0_3_feb_3/split_2/train/mask/_10_dr_1_17.png  \n",
            "  inflating: hrf_512_512_dice_loss_hvr_0_3_feb_3/split_2/train/mask/_02_h_0_27.png  \n",
            "  inflating: hrf_512_512_dice_loss_hvr_0_3_feb_3/split_2/train/mask/_10_g_1_1.png  \n",
            "  inflating: hrf_512_512_dice_loss_hvr_0_3_feb_3/split_2/train/mask/_14_h_0_13.png  \n",
            "  inflating: hrf_512_512_dice_loss_hvr_0_3_feb_3/split_2/train/mask/_09_g_0_14.png  \n",
            "  inflating: hrf_512_512_dice_loss_hvr_0_3_feb_3/split_2/train/mask/_15_g_2_15.png  \n",
            "  inflating: hrf_512_512_dice_loss_hvr_0_3_feb_3/split_2/train/mask/_10_dr_1_9.png  \n",
            "  inflating: hrf_512_512_dice_loss_hvr_0_3_feb_3/split_2/train/mask/_09_dr_1_0.png  \n",
            "  inflating: hrf_512_512_dice_loss_hvr_0_3_feb_3/split_2/train/mask/_09_h_3_13.png  \n",
            "  inflating: hrf_512_512_dice_loss_hvr_0_3_feb_3/split_2/train/mask/_01_dr_3_11.png  \n",
            "  inflating: hrf_512_512_dice_loss_hvr_0_3_feb_3/split_2/train/mask/_14_dr_1_23.png  \n",
            "  inflating: hrf_512_512_dice_loss_hvr_0_3_feb_3/split_2/train/mask/_02_h_0_9.png  \n",
            "  inflating: hrf_512_512_dice_loss_hvr_0_3_feb_3/split_2/train/mask/_03_dr_3_33.png  \n",
            "  inflating: hrf_512_512_dice_loss_hvr_0_3_feb_3/split_2/train/mask/_06_h_2_11.png  \n",
            "  inflating: hrf_512_512_dice_loss_hvr_0_3_feb_3/split_2/train/mask/_01_g_1_13.png  \n",
            "  inflating: hrf_512_512_dice_loss_hvr_0_3_feb_3/split_2/train/mask/_10_dr_3_32.png  \n",
            "  inflating: hrf_512_512_dice_loss_hvr_0_3_feb_3/split_2/train/mask/_14_g_3_33.png  \n",
            "  inflating: hrf_512_512_dice_loss_hvr_0_3_feb_3/split_2/train/mask/_14_dr_1_16.png  \n",
            "  inflating: hrf_512_512_dice_loss_hvr_0_3_feb_3/split_2/train/mask/_03_g_3_33.png  \n",
            "  inflating: hrf_512_512_dice_loss_hvr_0_3_feb_3/split_2/train/mask/_09_h_2_12.png  \n",
            "  inflating: hrf_512_512_dice_loss_hvr_0_3_feb_3/split_2/train/mask/_01_dr_2_11.png  \n",
            "  inflating: hrf_512_512_dice_loss_hvr_0_3_feb_3/split_2/train/mask/_12_dr_1_9.png  \n",
            "  inflating: hrf_512_512_dice_loss_hvr_0_3_feb_3/split_2/train/mask/_11_g_3_23.png  \n",
            "  inflating: hrf_512_512_dice_loss_hvr_0_3_feb_3/split_2/train/mask/_08_h_2_10.png  \n",
            "  inflating: hrf_512_512_dice_loss_hvr_0_3_feb_3/split_2/train/mask/_13_g_1_15.png  \n",
            "  inflating: hrf_512_512_dice_loss_hvr_0_3_feb_3/split_2/train/mask/_01_dr_3_6.png  \n",
            "  inflating: hrf_512_512_dice_loss_hvr_0_3_feb_3/split_2/train/mask/_02_h_0_23.png  \n",
            "  inflating: hrf_512_512_dice_loss_hvr_0_3_feb_3/split_2/train/mask/_07_dr_1_22.png  \n",
            "  inflating: hrf_512_512_dice_loss_hvr_0_3_feb_3/split_2/train/mask/_02_dr_2_17.png  \n",
            "  inflating: hrf_512_512_dice_loss_hvr_0_3_feb_3/split_2/train/mask/_02_h_2_25.png  \n",
            "  inflating: hrf_512_512_dice_loss_hvr_0_3_feb_3/split_2/train/mask/_01_h_3_23.png  \n",
            "  inflating: hrf_512_512_dice_loss_hvr_0_3_feb_3/split_2/train/mask/_12_dr_3_21.png  \n",
            "  inflating: hrf_512_512_dice_loss_hvr_0_3_feb_3/split_2/train/mask/_01_dr_1_27.png  \n",
            "  inflating: hrf_512_512_dice_loss_hvr_0_3_feb_3/split_2/train/mask/_07_g_1_21.png  \n",
            "  inflating: hrf_512_512_dice_loss_hvr_0_3_feb_3/split_2/train/mask/_13_h_2_5.png  \n",
            "  inflating: hrf_512_512_dice_loss_hvr_0_3_feb_3/split_2/train/mask/_09_g_0_22.png  \n",
            "  inflating: hrf_512_512_dice_loss_hvr_0_3_feb_3/split_2/train/mask/_10_dr_3_26.png  \n",
            "  inflating: hrf_512_512_dice_loss_hvr_0_3_feb_3/split_2/train/mask/_08_h_0_27.png  \n",
            "  inflating: hrf_512_512_dice_loss_hvr_0_3_feb_3/split_2/train/mask/_13_g_3_20.png  \n",
            "  inflating: hrf_512_512_dice_loss_hvr_0_3_feb_3/split_2/train/mask/_04_h_0_8.png  \n",
            "  inflating: hrf_512_512_dice_loss_hvr_0_3_feb_3/split_2/train/mask/_05_h_2_25.png  \n",
            "  inflating: hrf_512_512_dice_loss_hvr_0_3_feb_3/split_2/train/mask/_14_h_3_13.png  \n",
            "  inflating: hrf_512_512_dice_loss_hvr_0_3_feb_3/split_2/train/mask/_07_g_2_12.png  \n",
            "  inflating: hrf_512_512_dice_loss_hvr_0_3_feb_3/split_2/train/mask/_12_dr_2_10.png  \n",
            "  inflating: hrf_512_512_dice_loss_hvr_0_3_feb_3/split_2/train/mask/_11_g_3_19.png  \n",
            "  inflating: hrf_512_512_dice_loss_hvr_0_3_feb_3/split_2/train/mask/_15_dr_1_21.png  \n",
            "  inflating: hrf_512_512_dice_loss_hvr_0_3_feb_3/split_2/train/mask/_14_g_1_14.png  \n",
            "  inflating: hrf_512_512_dice_loss_hvr_0_3_feb_3/split_2/train/mask/_04_g_2_20.png  \n",
            "  inflating: hrf_512_512_dice_loss_hvr_0_3_feb_3/split_2/train/mask/_08_h_2_5.png  \n",
            "  inflating: hrf_512_512_dice_loss_hvr_0_3_feb_3/split_2/train/mask/_14_dr_0_8.png  \n",
            "  inflating: hrf_512_512_dice_loss_hvr_0_3_feb_3/split_2/train/mask/_13_h_3_11.png  \n",
            "  inflating: hrf_512_512_dice_loss_hvr_0_3_feb_3/split_2/train/mask/_15_g_0_14.png  \n",
            "  inflating: hrf_512_512_dice_loss_hvr_0_3_feb_3/split_2/train/mask/_07_g_2_13.png  \n",
            "  inflating: hrf_512_512_dice_loss_hvr_0_3_feb_3/split_2/train/mask/_09_h_1_14.png  \n",
            "  inflating: hrf_512_512_dice_loss_hvr_0_3_feb_3/split_2/train/mask/_02_h_3_2.png  \n",
            "  inflating: hrf_512_512_dice_loss_hvr_0_3_feb_3/split_2/train/mask/_08_h_2_9.png  \n",
            "  inflating: hrf_512_512_dice_loss_hvr_0_3_feb_3/split_2/train/mask/_09_dr_3_34.png  \n",
            "  inflating: hrf_512_512_dice_loss_hvr_0_3_feb_3/split_2/train/mask/_06_h_1_0.png  \n",
            "  inflating: hrf_512_512_dice_loss_hvr_0_3_feb_3/split_2/train/mask/_14_dr_2_28.png  \n",
            "  inflating: hrf_512_512_dice_loss_hvr_0_3_feb_3/split_2/train/mask/_04_dr_1_7.png  \n",
            "  inflating: hrf_512_512_dice_loss_hvr_0_3_feb_3/split_2/train/mask/_11_g_0_18.png  \n",
            "  inflating: hrf_512_512_dice_loss_hvr_0_3_feb_3/split_2/train/mask/_14_dr_2_11.png  \n",
            "  inflating: hrf_512_512_dice_loss_hvr_0_3_feb_3/split_2/train/mask/_07_h_3_12.png  \n",
            "  inflating: hrf_512_512_dice_loss_hvr_0_3_feb_3/split_2/train/mask/_07_dr_1_6.png  \n",
            "  inflating: hrf_512_512_dice_loss_hvr_0_3_feb_3/split_2/train/mask/_01_dr_0_9.png  \n",
            "  inflating: hrf_512_512_dice_loss_hvr_0_3_feb_3/split_2/train/mask/_04_h_0_3.png  \n",
            "  inflating: hrf_512_512_dice_loss_hvr_0_3_feb_3/split_2/train/mask/_09_h_2_21.png  \n",
            "  inflating: hrf_512_512_dice_loss_hvr_0_3_feb_3/split_2/train/mask/_04_dr_1_9.png  \n",
            "  inflating: hrf_512_512_dice_loss_hvr_0_3_feb_3/split_2/train/mask/_02_h_1_11.png  \n",
            "  inflating: hrf_512_512_dice_loss_hvr_0_3_feb_3/split_2/train/mask/_12_dr_0_20.png  \n",
            "  inflating: hrf_512_512_dice_loss_hvr_0_3_feb_3/split_2/train/mask/_10_g_2_19.png  \n",
            "  inflating: hrf_512_512_dice_loss_hvr_0_3_feb_3/split_2/train/mask/_10_g_3_23.png  \n",
            "  inflating: hrf_512_512_dice_loss_hvr_0_3_feb_3/split_2/train/mask/_01_h_0_22.png  \n",
            "  inflating: hrf_512_512_dice_loss_hvr_0_3_feb_3/split_2/train/mask/_03_dr_1_19.png  \n",
            "  inflating: hrf_512_512_dice_loss_hvr_0_3_feb_3/split_2/train/mask/_10_dr_2_7.png  \n",
            "  inflating: hrf_512_512_dice_loss_hvr_0_3_feb_3/split_2/train/mask/_04_h_1_20.png  \n",
            "  inflating: hrf_512_512_dice_loss_hvr_0_3_feb_3/split_2/train/mask/_07_dr_3_16.png  \n",
            "  inflating: hrf_512_512_dice_loss_hvr_0_3_feb_3/split_2/train/mask/_02_h_1_30.png  \n",
            "  inflating: hrf_512_512_dice_loss_hvr_0_3_feb_3/split_2/train/mask/_10_g_2_15.png  \n",
            "  inflating: hrf_512_512_dice_loss_hvr_0_3_feb_3/split_2/train/mask/_05_h_0_21.png  \n",
            "  inflating: hrf_512_512_dice_loss_hvr_0_3_feb_3/split_2/train/mask/_07_g_2_27.png  \n",
            "  inflating: hrf_512_512_dice_loss_hvr_0_3_feb_3/split_2/train/mask/_01_g_2_21.png  \n",
            "  inflating: hrf_512_512_dice_loss_hvr_0_3_feb_3/split_2/train/mask/_10_dr_2_4.png  \n",
            "  inflating: hrf_512_512_dice_loss_hvr_0_3_feb_3/split_2/train/mask/_14_g_1_7.png  \n",
            "  inflating: hrf_512_512_dice_loss_hvr_0_3_feb_3/split_2/train/mask/_08_h_1_2.png  \n",
            "  inflating: hrf_512_512_dice_loss_hvr_0_3_feb_3/split_2/train/mask/_07_h_2_26.png  \n",
            "  inflating: hrf_512_512_dice_loss_hvr_0_3_feb_3/split_2/train/mask/_07_g_0_8.png  \n",
            "  inflating: hrf_512_512_dice_loss_hvr_0_3_feb_3/split_2/train/mask/_01_dr_1_33.png  \n",
            "  inflating: hrf_512_512_dice_loss_hvr_0_3_feb_3/split_2/train/mask/_15_g_3_18.png  \n",
            "  inflating: hrf_512_512_dice_loss_hvr_0_3_feb_3/split_2/train/mask/_10_g_3_1.png  \n",
            "  inflating: hrf_512_512_dice_loss_hvr_0_3_feb_3/split_2/train/mask/_14_h_3_9.png  \n",
            "  inflating: hrf_512_512_dice_loss_hvr_0_3_feb_3/split_2/train/mask/_14_g_2_33.png  \n",
            "  inflating: hrf_512_512_dice_loss_hvr_0_3_feb_3/split_2/train/mask/_14_g_1_2.png  \n",
            "  inflating: hrf_512_512_dice_loss_hvr_0_3_feb_3/split_2/train/mask/_04_h_1_24.png  \n",
            "  inflating: hrf_512_512_dice_loss_hvr_0_3_feb_3/split_2/train/mask/_02_dr_3_17.png  \n",
            "  inflating: hrf_512_512_dice_loss_hvr_0_3_feb_3/split_2/train/mask/_15_g_3_15.png  \n",
            "  inflating: hrf_512_512_dice_loss_hvr_0_3_feb_3/split_2/train/mask/_07_h_3_1.png  \n",
            "  inflating: hrf_512_512_dice_loss_hvr_0_3_feb_3/split_2/train/mask/_11_g_3_3.png  \n",
            "  inflating: hrf_512_512_dice_loss_hvr_0_3_feb_3/split_2/train/mask/_07_dr_0_14.png  \n",
            "  inflating: hrf_512_512_dice_loss_hvr_0_3_feb_3/split_2/train/mask/_10_g_1_4.png  \n",
            "  inflating: hrf_512_512_dice_loss_hvr_0_3_feb_3/split_2/train/mask/_14_h_3_10.png  \n",
            "  inflating: hrf_512_512_dice_loss_hvr_0_3_feb_3/split_2/train/mask/_07_g_1_15.png  \n",
            "  inflating: hrf_512_512_dice_loss_hvr_0_3_feb_3/split_2/train/mask/_01_g_2_27.png  \n",
            "  inflating: hrf_512_512_dice_loss_hvr_0_3_feb_3/split_2/train/mask/_15_g_1_24.png  \n",
            "  inflating: hrf_512_512_dice_loss_hvr_0_3_feb_3/split_2/train/mask/_02_dr_0_2.png  \n",
            "  inflating: hrf_512_512_dice_loss_hvr_0_3_feb_3/split_2/train/mask/_01_h_2_27.png  \n",
            "  inflating: hrf_512_512_dice_loss_hvr_0_3_feb_3/split_2/train/mask/_14_h_0_20.png  \n",
            "  inflating: hrf_512_512_dice_loss_hvr_0_3_feb_3/split_2/train/mask/_12_dr_3_2.png  \n",
            "  inflating: hrf_512_512_dice_loss_hvr_0_3_feb_3/split_2/train/mask/_09_h_2_34.png  \n",
            "  inflating: hrf_512_512_dice_loss_hvr_0_3_feb_3/split_2/train/mask/_04_h_1_22.png  \n",
            "  inflating: hrf_512_512_dice_loss_hvr_0_3_feb_3/split_2/train/mask/_08_h_3_11.png  \n",
            "  inflating: hrf_512_512_dice_loss_hvr_0_3_feb_3/split_2/train/mask/_10_dr_3_10.png  \n",
            "  inflating: hrf_512_512_dice_loss_hvr_0_3_feb_3/split_2/train/mask/_07_h_3_0.png  \n",
            "  inflating: hrf_512_512_dice_loss_hvr_0_3_feb_3/split_2/train/mask/_15_g_2_2.png  \n",
            "  inflating: hrf_512_512_dice_loss_hvr_0_3_feb_3/split_2/train/mask/_08_h_2_14.png  \n",
            "  inflating: hrf_512_512_dice_loss_hvr_0_3_feb_3/split_2/train/mask/_12_dr_1_7.png  \n",
            "  inflating: hrf_512_512_dice_loss_hvr_0_3_feb_3/split_2/train/mask/_15_g_2_22.png  \n",
            "  inflating: hrf_512_512_dice_loss_hvr_0_3_feb_3/split_2/train/mask/_02_h_1_13.png  \n",
            "  inflating: hrf_512_512_dice_loss_hvr_0_3_feb_3/split_2/train/mask/_10_dr_2_24.png  \n",
            "  inflating: hrf_512_512_dice_loss_hvr_0_3_feb_3/split_2/train/mask/_01_h_3_14.png  \n",
            "  inflating: hrf_512_512_dice_loss_hvr_0_3_feb_3/split_2/train/mask/_12_dr_3_29.png  \n",
            "  inflating: hrf_512_512_dice_loss_hvr_0_3_feb_3/split_2/train/mask/_01_g_2_32.png  \n",
            "  inflating: hrf_512_512_dice_loss_hvr_0_3_feb_3/split_2/train/mask/_01_g_1_17.png  \n",
            "  inflating: hrf_512_512_dice_loss_hvr_0_3_feb_3/split_2/train/mask/_12_dr_1_1.png  \n",
            "  inflating: hrf_512_512_dice_loss_hvr_0_3_feb_3/split_2/train/mask/_03_dr_3_24.png  \n",
            "  inflating: hrf_512_512_dice_loss_hvr_0_3_feb_3/split_2/train/mask/_01_dr_0_21.png  \n",
            "  inflating: hrf_512_512_dice_loss_hvr_0_3_feb_3/split_2/train/mask/_10_dr_0_8.png  \n",
            "  inflating: hrf_512_512_dice_loss_hvr_0_3_feb_3/split_2/train/mask/_01_h_0_4.png  \n",
            "  inflating: hrf_512_512_dice_loss_hvr_0_3_feb_3/split_2/train/mask/_07_dr_1_17.png  \n",
            "  inflating: hrf_512_512_dice_loss_hvr_0_3_feb_3/split_2/train/mask/_14_dr_3_15.png  \n",
            "  inflating: hrf_512_512_dice_loss_hvr_0_3_feb_3/split_2/train/mask/_10_g_1_7.png  \n",
            "  inflating: hrf_512_512_dice_loss_hvr_0_3_feb_3/split_2/train/mask/_02_h_2_14.png  \n",
            "  inflating: hrf_512_512_dice_loss_hvr_0_3_feb_3/split_2/train/mask/_09_g_1_32.png  \n",
            "  inflating: hrf_512_512_dice_loss_hvr_0_3_feb_3/split_2/train/mask/_09_dr_1_10.png  \n",
            "  inflating: hrf_512_512_dice_loss_hvr_0_3_feb_3/split_2/train/mask/_02_h_1_27.png  \n",
            "  inflating: hrf_512_512_dice_loss_hvr_0_3_feb_3/split_2/train/mask/_08_h_1_10.png  \n",
            "  inflating: hrf_512_512_dice_loss_hvr_0_3_feb_3/split_2/train/mask/_06_dr_3_34.png  \n",
            "  inflating: hrf_512_512_dice_loss_hvr_0_3_feb_3/split_2/train/mask/_13_h_1_9.png  \n",
            "  inflating: hrf_512_512_dice_loss_hvr_0_3_feb_3/split_2/train/mask/_09_h_2_0.png  \n",
            "  inflating: hrf_512_512_dice_loss_hvr_0_3_feb_3/split_2/train/mask/_14_h_2_13.png  \n",
            "  inflating: hrf_512_512_dice_loss_hvr_0_3_feb_3/split_2/train/mask/_09_g_1_17.png  \n",
            "  inflating: hrf_512_512_dice_loss_hvr_0_3_feb_3/split_2/train/mask/_14_h_3_1.png  \n",
            "  inflating: hrf_512_512_dice_loss_hvr_0_3_feb_3/split_2/train/mask/_01_dr_2_25.png  \n",
            "  inflating: hrf_512_512_dice_loss_hvr_0_3_feb_3/split_2/train/mask/_14_h_3_14.png  \n",
            "  inflating: hrf_512_512_dice_loss_hvr_0_3_feb_3/split_2/train/mask/_06_h_2_5.png  \n",
            "  inflating: hrf_512_512_dice_loss_hvr_0_3_feb_3/split_2/train/mask/_06_h_0_19.png  \n",
            "  inflating: hrf_512_512_dice_loss_hvr_0_3_feb_3/split_2/train/mask/_09_dr_3_4.png  \n",
            "  inflating: hrf_512_512_dice_loss_hvr_0_3_feb_3/split_2/train/mask/_11_g_2_25.png  \n",
            "  inflating: hrf_512_512_dice_loss_hvr_0_3_feb_3/split_2/train/mask/_15_g_2_29.png  \n",
            "  inflating: hrf_512_512_dice_loss_hvr_0_3_feb_3/split_2/train/mask/_04_dr_3_1.png  \n",
            "  inflating: hrf_512_512_dice_loss_hvr_0_3_feb_3/split_2/train/mask/_01_h_0_5.png  \n",
            "  inflating: hrf_512_512_dice_loss_hvr_0_3_feb_3/split_2/train/mask/_09_g_2_23.png  \n",
            "  inflating: hrf_512_512_dice_loss_hvr_0_3_feb_3/split_2/train/mask/_07_g_1_29.png  \n",
            "  inflating: hrf_512_512_dice_loss_hvr_0_3_feb_3/split_2/train/mask/_14_dr_2_14.png  \n",
            "  inflating: hrf_512_512_dice_loss_hvr_0_3_feb_3/split_2/train/mask/_07_dr_1_27.png  \n",
            "  inflating: hrf_512_512_dice_loss_hvr_0_3_feb_3/split_2/train/mask/_06_dr_3_0.png  \n",
            "  inflating: hrf_512_512_dice_loss_hvr_0_3_feb_3/split_2/train/mask/_08_h_2_28.png  \n",
            "  inflating: hrf_512_512_dice_loss_hvr_0_3_feb_3/split_2/train/mask/_04_h_2_31.png  \n",
            "  inflating: hrf_512_512_dice_loss_hvr_0_3_feb_3/split_2/train/mask/_06_dr_3_12.png  \n",
            "  inflating: hrf_512_512_dice_loss_hvr_0_3_feb_3/split_2/train/mask/_13_h_1_13.png  \n",
            "  inflating: hrf_512_512_dice_loss_hvr_0_3_feb_3/split_2/train/mask/_09_h_3_11.png  \n",
            "  inflating: hrf_512_512_dice_loss_hvr_0_3_feb_3/split_2/train/mask/_05_h_3_22.png  \n",
            "  inflating: hrf_512_512_dice_loss_hvr_0_3_feb_3/split_2/train/mask/_06_h_2_18.png  \n",
            "  inflating: hrf_512_512_dice_loss_hvr_0_3_feb_3/split_2/train/mask/_01_h_0_23.png  \n",
            "  inflating: hrf_512_512_dice_loss_hvr_0_3_feb_3/split_2/train/mask/_10_g_0_2.png  \n",
            "  inflating: hrf_512_512_dice_loss_hvr_0_3_feb_3/split_2/train/mask/_11_g_1_2.png  \n",
            "  inflating: hrf_512_512_dice_loss_hvr_0_3_feb_3/split_2/train/mask/_01_g_1_26.png  \n",
            "  inflating: hrf_512_512_dice_loss_hvr_0_3_feb_3/split_2/train/mask/_14_g_3_7.png  \n",
            "  inflating: hrf_512_512_dice_loss_hvr_0_3_feb_3/split_2/train/mask/_15_g_3_11.png  \n",
            "  inflating: hrf_512_512_dice_loss_hvr_0_3_feb_3/split_2/train/mask/_12_dr_0_3.png  \n",
            "  inflating: hrf_512_512_dice_loss_hvr_0_3_feb_3/split_2/train/mask/_06_dr_0_0.png  \n",
            "  inflating: hrf_512_512_dice_loss_hvr_0_3_feb_3/split_2/train/mask/_03_dr_1_31.png  \n",
            "  inflating: hrf_512_512_dice_loss_hvr_0_3_feb_3/split_2/train/mask/_05_h_3_17.png  \n",
            "  inflating: hrf_512_512_dice_loss_hvr_0_3_feb_3/split_2/train/mask/_15_g_1_21.png  \n",
            "  inflating: hrf_512_512_dice_loss_hvr_0_3_feb_3/split_2/train/mask/_09_h_0_25.png  \n",
            "  inflating: hrf_512_512_dice_loss_hvr_0_3_feb_3/split_2/train/mask/_07_g_2_23.png  \n",
            "  inflating: hrf_512_512_dice_loss_hvr_0_3_feb_3/split_2/train/mask/_14_dr_3_17.png  \n",
            "  inflating: hrf_512_512_dice_loss_hvr_0_3_feb_3/split_2/train/mask/_02_dr_2_10.png  \n",
            "  inflating: hrf_512_512_dice_loss_hvr_0_3_feb_3/split_2/train/mask/_03_g_0_18.png  \n",
            "  inflating: hrf_512_512_dice_loss_hvr_0_3_feb_3/split_2/train/mask/_01_h_2_11.png  \n",
            "  inflating: hrf_512_512_dice_loss_hvr_0_3_feb_3/split_2/train/mask/_14_h_0_25.png  \n",
            "  inflating: hrf_512_512_dice_loss_hvr_0_3_feb_3/split_2/train/mask/_05_h_3_23.png  \n",
            "  inflating: hrf_512_512_dice_loss_hvr_0_3_feb_3/split_2/train/mask/_15_g_0_16.png  \n",
            "  inflating: hrf_512_512_dice_loss_hvr_0_3_feb_3/split_2/train/mask/_02_dr_0_24.png  \n",
            "  inflating: hrf_512_512_dice_loss_hvr_0_3_feb_3/split_2/train/mask/_11_g_2_23.png  \n",
            "  inflating: hrf_512_512_dice_loss_hvr_0_3_feb_3/split_2/train/mask/_04_dr_2_11.png  \n",
            "  inflating: hrf_512_512_dice_loss_hvr_0_3_feb_3/split_2/train/mask/_08_h_2_18.png  \n",
            "  inflating: hrf_512_512_dice_loss_hvr_0_3_feb_3/split_2/train/mask/_01_dr_2_31.png  \n",
            "  inflating: hrf_512_512_dice_loss_hvr_0_3_feb_3/split_2/train/mask/_14_dr_2_1.png  \n",
            "  inflating: hrf_512_512_dice_loss_hvr_0_3_feb_3/split_2/train/mask/_15_g_1_25.png  \n",
            "  inflating: hrf_512_512_dice_loss_hvr_0_3_feb_3/split_2/train/mask/_07_g_3_5.png  \n",
            "  inflating: hrf_512_512_dice_loss_hvr_0_3_feb_3/split_2/train/mask/_03_dr_2_24.png  \n",
            "  inflating: hrf_512_512_dice_loss_hvr_0_3_feb_3/split_2/train/mask/_06_h_2_13.png  \n",
            "  inflating: hrf_512_512_dice_loss_hvr_0_3_feb_3/split_2/train/mask/_11_g_2_21.png  \n",
            "  inflating: hrf_512_512_dice_loss_hvr_0_3_feb_3/split_2/train/mask/_09_g_3_18.png  \n",
            "  inflating: hrf_512_512_dice_loss_hvr_0_3_feb_3/split_2/train/mask/_09_dr_3_33.png  \n",
            "  inflating: hrf_512_512_dice_loss_hvr_0_3_feb_3/split_2/train/mask/_14_dr_1_19.png  \n",
            "  inflating: hrf_512_512_dice_loss_hvr_0_3_feb_3/split_2/train/mask/_03_dr_0_28.png  \n",
            "  inflating: hrf_512_512_dice_loss_hvr_0_3_feb_3/split_2/train/mask/_12_dr_1_29.png  \n",
            "  inflating: hrf_512_512_dice_loss_hvr_0_3_feb_3/split_2/train/mask/_01_dr_1_16.png  \n",
            "  inflating: hrf_512_512_dice_loss_hvr_0_3_feb_3/split_2/train/mask/_04_g_1_29.png  \n",
            "  inflating: hrf_512_512_dice_loss_hvr_0_3_feb_3/split_2/train/mask/_10_dr_3_15.png  \n",
            "  inflating: hrf_512_512_dice_loss_hvr_0_3_feb_3/split_2/train/mask/_02_h_1_2.png  \n",
            "  inflating: hrf_512_512_dice_loss_hvr_0_3_feb_3/split_2/train/mask/_14_g_2_23.png  \n",
            "  inflating: hrf_512_512_dice_loss_hvr_0_3_feb_3/split_2/train/mask/_14_h_1_28.png  \n",
            "  inflating: hrf_512_512_dice_loss_hvr_0_3_feb_3/split_2/train/mask/_01_dr_0_4.png  \n",
            "  inflating: hrf_512_512_dice_loss_hvr_0_3_feb_3/split_2/train/mask/_07_g_3_10.png  \n",
            "  inflating: hrf_512_512_dice_loss_hvr_0_3_feb_3/split_2/train/mask/_06_dr_2_34.png  \n",
            "  inflating: hrf_512_512_dice_loss_hvr_0_3_feb_3/split_2/train/mask/_03_dr_3_23.png  \n",
            "  inflating: hrf_512_512_dice_loss_hvr_0_3_feb_3/split_2/train/mask/_07_dr_1_0.png  \n",
            "  inflating: hrf_512_512_dice_loss_hvr_0_3_feb_3/split_2/train/mask/_14_dr_3_30.png  \n",
            "  inflating: hrf_512_512_dice_loss_hvr_0_3_feb_3/split_2/train/mask/_11_g_2_17.png  \n",
            "  inflating: hrf_512_512_dice_loss_hvr_0_3_feb_3/split_2/train/mask/_03_g_0_34.png  \n",
            "  inflating: hrf_512_512_dice_loss_hvr_0_3_feb_3/split_2/train/mask/_01_g_2_5.png  \n",
            "  inflating: hrf_512_512_dice_loss_hvr_0_3_feb_3/split_2/train/mask/_14_g_3_14.png  \n",
            "  inflating: hrf_512_512_dice_loss_hvr_0_3_feb_3/split_2/train/mask/_15_dr_0_23.png  \n",
            "  inflating: hrf_512_512_dice_loss_hvr_0_3_feb_3/split_2/train/mask/_04_dr_3_11.png  \n",
            "  inflating: hrf_512_512_dice_loss_hvr_0_3_feb_3/split_2/train/mask/_03_dr_1_30.png  \n",
            "  inflating: hrf_512_512_dice_loss_hvr_0_3_feb_3/split_2/train/mask/_07_dr_3_6.png  \n",
            "  inflating: hrf_512_512_dice_loss_hvr_0_3_feb_3/split_2/train/mask/_06_dr_2_28.png  \n",
            "  inflating: hrf_512_512_dice_loss_hvr_0_3_feb_3/split_2/train/mask/_10_dr_2_0.png  \n",
            "  inflating: hrf_512_512_dice_loss_hvr_0_3_feb_3/split_2/train/mask/_12_dr_0_16.png  \n",
            "  inflating: hrf_512_512_dice_loss_hvr_0_3_feb_3/split_2/train/mask/_15_dr_2_12.png  \n",
            "  inflating: hrf_512_512_dice_loss_hvr_0_3_feb_3/split_2/train/mask/_08_h_1_6.png  \n",
            "  inflating: hrf_512_512_dice_loss_hvr_0_3_feb_3/split_2/train/mask/_09_h_1_7.png  \n",
            "  inflating: hrf_512_512_dice_loss_hvr_0_3_feb_3/split_2/train/mask/_07_h_1_27.png  \n",
            "  inflating: hrf_512_512_dice_loss_hvr_0_3_feb_3/split_2/train/mask/_09_g_1_9.png  \n",
            "  inflating: hrf_512_512_dice_loss_hvr_0_3_feb_3/split_2/train/mask/_10_g_1_14.png  \n",
            "  inflating: hrf_512_512_dice_loss_hvr_0_3_feb_3/split_2/train/mask/_06_dr_3_15.png  \n",
            "  inflating: hrf_512_512_dice_loss_hvr_0_3_feb_3/split_2/train/mask/_07_g_0_14.png  \n",
            "  inflating: hrf_512_512_dice_loss_hvr_0_3_feb_3/split_2/train/mask/_13_h_2_26.png  \n",
            "  inflating: hrf_512_512_dice_loss_hvr_0_3_feb_3/split_2/train/mask/_04_h_2_11.png  \n",
            "  inflating: hrf_512_512_dice_loss_hvr_0_3_feb_3/split_2/train/mask/_08_h_3_22.png  \n",
            "  inflating: hrf_512_512_dice_loss_hvr_0_3_feb_3/split_2/train/mask/_15_dr_3_18.png  \n",
            "  inflating: hrf_512_512_dice_loss_hvr_0_3_feb_3/split_2/train/mask/_03_g_0_32.png  \n",
            "  inflating: hrf_512_512_dice_loss_hvr_0_3_feb_3/split_2/train/mask/_03_g_2_8.png  \n",
            "  inflating: hrf_512_512_dice_loss_hvr_0_3_feb_3/split_2/train/mask/_15_dr_2_31.png  \n",
            "  inflating: hrf_512_512_dice_loss_hvr_0_3_feb_3/split_2/train/mask/_04_dr_3_19.png  \n",
            "  inflating: hrf_512_512_dice_loss_hvr_0_3_feb_3/split_2/train/mask/_14_h_1_22.png  \n",
            "  inflating: hrf_512_512_dice_loss_hvr_0_3_feb_3/split_2/train/mask/_09_g_0_0.png  \n",
            "  inflating: hrf_512_512_dice_loss_hvr_0_3_feb_3/split_2/train/mask/_03_dr_1_20.png  \n",
            "  inflating: hrf_512_512_dice_loss_hvr_0_3_feb_3/split_2/train/mask/_13_g_3_15.png  \n",
            "  inflating: hrf_512_512_dice_loss_hvr_0_3_feb_3/split_2/train/mask/_04_dr_1_14.png  \n",
            "  inflating: hrf_512_512_dice_loss_hvr_0_3_feb_3/split_2/train/mask/_15_g_3_0.png  \n",
            "  inflating: hrf_512_512_dice_loss_hvr_0_3_feb_3/split_2/train/mask/_07_g_1_33.png  \n",
            "  inflating: hrf_512_512_dice_loss_hvr_0_3_feb_3/split_2/train/mask/_13_g_3_24.png  \n",
            "  inflating: hrf_512_512_dice_loss_hvr_0_3_feb_3/split_2/train/mask/_12_dr_0_7.png  \n",
            "  inflating: hrf_512_512_dice_loss_hvr_0_3_feb_3/split_2/train/mask/_06_h_2_4.png  \n",
            "  inflating: hrf_512_512_dice_loss_hvr_0_3_feb_3/split_2/train/mask/_09_g_1_10.png  \n",
            "  inflating: hrf_512_512_dice_loss_hvr_0_3_feb_3/split_2/train/mask/_13_h_1_2.png  \n",
            "  inflating: hrf_512_512_dice_loss_hvr_0_3_feb_3/split_2/train/mask/_02_dr_0_8.png  \n",
            "  inflating: hrf_512_512_dice_loss_hvr_0_3_feb_3/split_2/train/mask/_15_dr_2_4.png  \n",
            "  inflating: hrf_512_512_dice_loss_hvr_0_3_feb_3/split_2/train/mask/_01_dr_3_10.png  \n",
            "  inflating: hrf_512_512_dice_loss_hvr_0_3_feb_3/split_2/train/mask/_09_g_2_3.png  \n",
            "  inflating: hrf_512_512_dice_loss_hvr_0_3_feb_3/split_2/train/mask/_11_g_1_34.png  \n",
            "  inflating: hrf_512_512_dice_loss_hvr_0_3_feb_3/split_2/train/mask/_12_dr_0_26.png  \n",
            "  inflating: hrf_512_512_dice_loss_hvr_0_3_feb_3/split_2/train/mask/_04_dr_2_0.png  \n",
            "  inflating: hrf_512_512_dice_loss_hvr_0_3_feb_3/split_2/train/mask/_04_h_0_32.png  \n",
            "  inflating: hrf_512_512_dice_loss_hvr_0_3_feb_3/split_2/train/mask/_03_g_0_22.png  \n",
            "  inflating: hrf_512_512_dice_loss_hvr_0_3_feb_3/split_2/train/mask/_09_h_1_33.png  \n",
            "  inflating: hrf_512_512_dice_loss_hvr_0_3_feb_3/split_2/train/mask/_04_dr_0_6.png  \n",
            "  inflating: hrf_512_512_dice_loss_hvr_0_3_feb_3/split_2/train/mask/_01_dr_0_18.png  \n",
            "  inflating: hrf_512_512_dice_loss_hvr_0_3_feb_3/split_2/train/mask/_01_h_2_13.png  \n",
            "  inflating: hrf_512_512_dice_loss_hvr_0_3_feb_3/split_2/train/mask/_05_h_0_29.png  \n",
            "  inflating: hrf_512_512_dice_loss_hvr_0_3_feb_3/split_2/train/mask/_11_g_0_16.png  \n",
            "  inflating: hrf_512_512_dice_loss_hvr_0_3_feb_3/split_2/train/mask/_06_dr_2_29.png  \n",
            "  inflating: hrf_512_512_dice_loss_hvr_0_3_feb_3/split_2/train/mask/_08_h_0_7.png  \n",
            "  inflating: hrf_512_512_dice_loss_hvr_0_3_feb_3/split_2/train/mask/_01_g_3_3.png  \n",
            "  inflating: hrf_512_512_dice_loss_hvr_0_3_feb_3/split_2/train/mask/_15_dr_3_1.png  \n",
            "  inflating: hrf_512_512_dice_loss_hvr_0_3_feb_3/split_2/train/mask/_11_g_0_6.png  \n",
            "  inflating: hrf_512_512_dice_loss_hvr_0_3_feb_3/split_2/train/mask/_11_g_1_10.png  \n",
            "  inflating: hrf_512_512_dice_loss_hvr_0_3_feb_3/split_2/train/mask/_09_g_2_2.png  \n",
            "  inflating: hrf_512_512_dice_loss_hvr_0_3_feb_3/split_2/train/mask/_03_g_0_15.png  \n",
            "  inflating: hrf_512_512_dice_loss_hvr_0_3_feb_3/split_2/train/mask/_15_dr_3_22.png  \n",
            "  inflating: hrf_512_512_dice_loss_hvr_0_3_feb_3/split_2/train/mask/_08_h_1_9.png  \n",
            "  inflating: hrf_512_512_dice_loss_hvr_0_3_feb_3/split_2/train/mask/_07_h_0_23.png  \n",
            "  inflating: hrf_512_512_dice_loss_hvr_0_3_feb_3/split_2/train/mask/_03_g_3_2.png  \n",
            "  inflating: hrf_512_512_dice_loss_hvr_0_3_feb_3/split_2/train/mask/_02_dr_2_33.png  \n",
            "  inflating: hrf_512_512_dice_loss_hvr_0_3_feb_3/split_2/train/mask/_02_h_1_17.png  \n",
            "  inflating: hrf_512_512_dice_loss_hvr_0_3_feb_3/split_2/train/mask/_09_h_1_1.png  \n",
            "  inflating: hrf_512_512_dice_loss_hvr_0_3_feb_3/split_2/train/mask/_14_h_2_32.png  \n",
            "  inflating: hrf_512_512_dice_loss_hvr_0_3_feb_3/split_2/train/mask/_13_h_0_8.png  \n",
            "  inflating: hrf_512_512_dice_loss_hvr_0_3_feb_3/split_2/train/mask/_09_g_3_10.png  \n",
            "  inflating: hrf_512_512_dice_loss_hvr_0_3_feb_3/split_2/train/mask/_04_dr_3_16.png  \n",
            "  inflating: hrf_512_512_dice_loss_hvr_0_3_feb_3/split_2/train/mask/_11_g_0_3.png  \n",
            "  inflating: hrf_512_512_dice_loss_hvr_0_3_feb_3/split_2/train/mask/_07_dr_3_32.png  \n",
            "  inflating: hrf_512_512_dice_loss_hvr_0_3_feb_3/split_2/train/mask/_02_dr_2_12.png  \n",
            "  inflating: hrf_512_512_dice_loss_hvr_0_3_feb_3/split_2/train/mask/_09_dr_1_23.png  \n",
            "  inflating: hrf_512_512_dice_loss_hvr_0_3_feb_3/split_2/train/mask/_04_g_2_21.png  \n",
            "  inflating: hrf_512_512_dice_loss_hvr_0_3_feb_3/split_2/train/mask/_04_g_0_11.png  \n",
            "  inflating: hrf_512_512_dice_loss_hvr_0_3_feb_3/split_2/train/mask/_10_g_0_33.png  \n",
            "  inflating: hrf_512_512_dice_loss_hvr_0_3_feb_3/split_2/train/mask/_06_h_0_29.png  \n",
            "  inflating: hrf_512_512_dice_loss_hvr_0_3_feb_3/split_2/train/mask/_06_h_2_1.png  \n",
            "  inflating: hrf_512_512_dice_loss_hvr_0_3_feb_3/split_2/train/mask/_02_dr_2_20.png  \n",
            "  inflating: hrf_512_512_dice_loss_hvr_0_3_feb_3/split_2/train/mask/_03_dr_2_29.png  \n",
            "  inflating: hrf_512_512_dice_loss_hvr_0_3_feb_3/split_2/train/mask/_06_dr_0_5.png  \n",
            "  inflating: hrf_512_512_dice_loss_hvr_0_3_feb_3/split_2/train/mask/_06_h_2_33.png  \n",
            "  inflating: hrf_512_512_dice_loss_hvr_0_3_feb_3/split_2/train/mask/_14_g_0_18.png  \n",
            "  inflating: hrf_512_512_dice_loss_hvr_0_3_feb_3/split_2/train/mask/_04_dr_2_10.png  \n",
            "  inflating: hrf_512_512_dice_loss_hvr_0_3_feb_3/split_2/train/mask/_04_h_0_2.png  \n",
            "  inflating: hrf_512_512_dice_loss_hvr_0_3_feb_3/split_2/train/mask/_01_dr_2_30.png  \n",
            "  inflating: hrf_512_512_dice_loss_hvr_0_3_feb_3/split_2/train/mask/_07_h_2_3.png  \n",
            "  inflating: hrf_512_512_dice_loss_hvr_0_3_feb_3/split_2/train/mask/_10_g_1_13.png  \n",
            "  inflating: hrf_512_512_dice_loss_hvr_0_3_feb_3/split_2/train/mask/_01_dr_1_32.png  \n",
            "  inflating: hrf_512_512_dice_loss_hvr_0_3_feb_3/split_2/train/mask/_01_h_0_14.png  \n",
            "  inflating: hrf_512_512_dice_loss_hvr_0_3_feb_3/split_2/train/mask/_01_g_0_10.png  \n",
            "  inflating: hrf_512_512_dice_loss_hvr_0_3_feb_3/split_2/train/mask/_03_g_2_28.png  \n",
            "  inflating: hrf_512_512_dice_loss_hvr_0_3_feb_3/split_2/train/mask/_11_g_3_9.png  \n",
            "  inflating: hrf_512_512_dice_loss_hvr_0_3_feb_3/split_2/train/mask/_04_h_0_29.png  \n",
            "  inflating: hrf_512_512_dice_loss_hvr_0_3_feb_3/split_2/train/mask/_08_h_3_13.png  \n",
            "  inflating: hrf_512_512_dice_loss_hvr_0_3_feb_3/split_2/train/mask/_08_h_0_11.png  \n",
            "  inflating: hrf_512_512_dice_loss_hvr_0_3_feb_3/split_2/train/mask/_07_h_1_19.png  \n",
            "  inflating: hrf_512_512_dice_loss_hvr_0_3_feb_3/split_2/train/mask/_08_h_2_7.png  \n",
            "  inflating: hrf_512_512_dice_loss_hvr_0_3_feb_3/split_2/train/mask/_06_h_3_14.png  \n",
            "  inflating: hrf_512_512_dice_loss_hvr_0_3_feb_3/split_2/train/mask/_14_dr_0_7.png  \n",
            "  inflating: hrf_512_512_dice_loss_hvr_0_3_feb_3/split_2/train/mask/_05_h_0_7.png  \n",
            "  inflating: hrf_512_512_dice_loss_hvr_0_3_feb_3/split_2/train/mask/_05_h_1_25.png  \n",
            "  inflating: hrf_512_512_dice_loss_hvr_0_3_feb_3/split_2/train/mask/_15_dr_3_34.png  \n",
            "  inflating: hrf_512_512_dice_loss_hvr_0_3_feb_3/split_2/train/mask/_01_g_1_33.png  \n",
            "  inflating: hrf_512_512_dice_loss_hvr_0_3_feb_3/split_2/train/mask/_11_g_3_29.png  \n",
            "  inflating: hrf_512_512_dice_loss_hvr_0_3_feb_3/split_2/train/mask/_02_h_3_27.png  \n",
            "  inflating: hrf_512_512_dice_loss_hvr_0_3_feb_3/split_2/train/mask/_10_dr_2_21.png  \n",
            "  inflating: hrf_512_512_dice_loss_hvr_0_3_feb_3/split_2/train/mask/_09_dr_2_11.png  \n",
            "  inflating: hrf_512_512_dice_loss_hvr_0_3_feb_3/split_2/train/mask/_06_h_3_1.png  \n",
            "  inflating: hrf_512_512_dice_loss_hvr_0_3_feb_3/split_2/train/mask/_15_dr_2_10.png  \n",
            "  inflating: hrf_512_512_dice_loss_hvr_0_3_feb_3/split_2/train/mask/_06_dr_0_28.png  \n",
            "  inflating: hrf_512_512_dice_loss_hvr_0_3_feb_3/split_2/train/mask/_05_h_3_26.png  \n",
            "  inflating: hrf_512_512_dice_loss_hvr_0_3_feb_3/split_2/train/mask/_14_h_3_2.png  \n",
            "  inflating: hrf_512_512_dice_loss_hvr_0_3_feb_3/split_2/train/mask/_01_g_1_22.png  \n",
            "  inflating: hrf_512_512_dice_loss_hvr_0_3_feb_3/split_2/train/mask/_06_h_1_9.png  \n",
            "  inflating: hrf_512_512_dice_loss_hvr_0_3_feb_3/split_2/train/mask/_02_dr_3_3.png  \n",
            "  inflating: hrf_512_512_dice_loss_hvr_0_3_feb_3/split_2/train/mask/_07_dr_1_15.png  \n",
            "  inflating: hrf_512_512_dice_loss_hvr_0_3_feb_3/split_2/train/mask/_02_h_1_8.png  \n",
            "  inflating: hrf_512_512_dice_loss_hvr_0_3_feb_3/split_2/train/mask/_07_dr_0_1.png  \n",
            "  inflating: hrf_512_512_dice_loss_hvr_0_3_feb_3/split_2/train/mask/_15_dr_3_2.png  \n",
            "  inflating: hrf_512_512_dice_loss_hvr_0_3_feb_3/split_2/train/mask/_01_dr_2_8.png  \n",
            "  inflating: hrf_512_512_dice_loss_hvr_0_3_feb_3/split_2/train/mask/_04_g_3_9.png  \n",
            "  inflating: hrf_512_512_dice_loss_hvr_0_3_feb_3/split_2/train/mask/_03_dr_0_27.png  \n",
            "  inflating: hrf_512_512_dice_loss_hvr_0_3_feb_3/split_2/train/mask/_11_g_3_26.png  \n",
            "  inflating: hrf_512_512_dice_loss_hvr_0_3_feb_3/split_2/train/mask/_12_dr_2_30.png  \n",
            "  inflating: hrf_512_512_dice_loss_hvr_0_3_feb_3/split_2/train/mask/_14_dr_0_22.png  \n",
            "  inflating: hrf_512_512_dice_loss_hvr_0_3_feb_3/split_2/train/mask/_10_g_0_14.png  \n",
            "  inflating: hrf_512_512_dice_loss_hvr_0_3_feb_3/split_2/train/mask/_05_h_0_10.png  \n",
            "  inflating: hrf_512_512_dice_loss_hvr_0_3_feb_3/split_2/train/mask/_14_h_1_12.png  \n",
            "  inflating: hrf_512_512_dice_loss_hvr_0_3_feb_3/split_2/train/mask/_10_g_1_16.png  \n",
            "  inflating: hrf_512_512_dice_loss_hvr_0_3_feb_3/split_2/train/mask/_14_h_0_7.png  \n",
            "  inflating: hrf_512_512_dice_loss_hvr_0_3_feb_3/split_2/train/mask/_04_h_3_18.png  \n",
            "  inflating: hrf_512_512_dice_loss_hvr_0_3_feb_3/split_2/train/mask/_06_h_1_21.png  \n",
            "  inflating: hrf_512_512_dice_loss_hvr_0_3_feb_3/split_2/train/mask/_15_dr_3_29.png  \n",
            "  inflating: hrf_512_512_dice_loss_hvr_0_3_feb_3/split_2/train/mask/_01_dr_3_17.png  \n",
            "  inflating: hrf_512_512_dice_loss_hvr_0_3_feb_3/split_2/train/mask/_06_h_1_22.png  \n",
            "  inflating: hrf_512_512_dice_loss_hvr_0_3_feb_3/split_2/train/mask/_04_h_1_5.png  \n",
            "  inflating: hrf_512_512_dice_loss_hvr_0_3_feb_3/split_2/train/mask/_09_dr_0_7.png  \n",
            "  inflating: hrf_512_512_dice_loss_hvr_0_3_feb_3/split_2/train/mask/_10_g_3_2.png  \n",
            "  inflating: hrf_512_512_dice_loss_hvr_0_3_feb_3/split_2/train/mask/_10_dr_1_24.png  \n",
            "  inflating: hrf_512_512_dice_loss_hvr_0_3_feb_3/split_2/train/mask/_03_g_1_14.png  \n",
            "  inflating: hrf_512_512_dice_loss_hvr_0_3_feb_3/split_2/train/mask/_01_h_0_18.png  \n",
            "  inflating: hrf_512_512_dice_loss_hvr_0_3_feb_3/split_2/train/mask/_14_h_2_27.png  \n",
            "  inflating: hrf_512_512_dice_loss_hvr_0_3_feb_3/split_2/train/mask/_05_h_1_5.png  \n",
            "  inflating: hrf_512_512_dice_loss_hvr_0_3_feb_3/split_2/train/mask/_04_dr_3_34.png  \n",
            "  inflating: hrf_512_512_dice_loss_hvr_0_3_feb_3/split_2/train/mask/_09_dr_1_18.png  \n",
            "  inflating: hrf_512_512_dice_loss_hvr_0_3_feb_3/split_2/train/mask/_15_dr_0_29.png  \n",
            "  inflating: hrf_512_512_dice_loss_hvr_0_3_feb_3/split_2/train/mask/_13_h_2_34.png  \n",
            "  inflating: hrf_512_512_dice_loss_hvr_0_3_feb_3/split_2/train/mask/_13_h_0_14.png  \n",
            "  inflating: hrf_512_512_dice_loss_hvr_0_3_feb_3/split_2/train/mask/_02_h_2_11.png  \n",
            "  inflating: hrf_512_512_dice_loss_hvr_0_3_feb_3/split_2/train/mask/_14_g_3_28.png  \n",
            "  inflating: hrf_512_512_dice_loss_hvr_0_3_feb_3/split_2/train/mask/_09_h_1_18.png  \n",
            "  inflating: hrf_512_512_dice_loss_hvr_0_3_feb_3/split_2/train/mask/_04_dr_0_2.png  \n",
            "  inflating: hrf_512_512_dice_loss_hvr_0_3_feb_3/split_2/train/mask/_04_g_3_32.png  \n",
            "  inflating: hrf_512_512_dice_loss_hvr_0_3_feb_3/split_2/train/mask/_13_h_0_9.png  \n",
            "  inflating: hrf_512_512_dice_loss_hvr_0_3_feb_3/split_2/train/mask/_10_g_1_26.png  \n",
            "  inflating: hrf_512_512_dice_loss_hvr_0_3_feb_3/split_2/train/mask/_06_h_3_4.png  \n",
            "  inflating: hrf_512_512_dice_loss_hvr_0_3_feb_3/split_2/train/mask/_08_h_1_34.png  \n",
            "  inflating: hrf_512_512_dice_loss_hvr_0_3_feb_3/split_2/train/mask/_13_h_1_5.png  \n",
            "  inflating: hrf_512_512_dice_loss_hvr_0_3_feb_3/split_2/train/mask/_03_dr_1_14.png  \n",
            "  inflating: hrf_512_512_dice_loss_hvr_0_3_feb_3/split_2/train/mask/_04_g_1_23.png  \n",
            "  inflating: hrf_512_512_dice_loss_hvr_0_3_feb_3/split_2/train/mask/_14_h_1_13.png  \n",
            "  inflating: hrf_512_512_dice_loss_hvr_0_3_feb_3/split_2/train/mask/_14_dr_0_10.png  \n",
            "  inflating: hrf_512_512_dice_loss_hvr_0_3_feb_3/split_2/train/mask/_01_g_0_28.png  \n",
            "  inflating: hrf_512_512_dice_loss_hvr_0_3_feb_3/split_2/train/mask/_04_h_2_2.png  \n",
            "  inflating: hrf_512_512_dice_loss_hvr_0_3_feb_3/split_2/train/mask/_10_dr_2_23.png  \n",
            "  inflating: hrf_512_512_dice_loss_hvr_0_3_feb_3/split_2/train/mask/_03_g_1_33.png  \n",
            "  inflating: hrf_512_512_dice_loss_hvr_0_3_feb_3/split_2/train/mask/_07_g_0_5.png  \n",
            "  inflating: hrf_512_512_dice_loss_hvr_0_3_feb_3/split_2/train/mask/_01_dr_1_18.png  \n",
            "  inflating: hrf_512_512_dice_loss_hvr_0_3_feb_3/split_2/train/mask/_15_dr_2_21.png  \n",
            "  inflating: hrf_512_512_dice_loss_hvr_0_3_feb_3/split_2/train/mask/_08_h_1_4.png  \n",
            "  inflating: hrf_512_512_dice_loss_hvr_0_3_feb_3/split_2/train/mask/_03_g_1_18.png  \n",
            "  inflating: hrf_512_512_dice_loss_hvr_0_3_feb_3/split_2/train/mask/_03_dr_3_19.png  \n",
            "  inflating: hrf_512_512_dice_loss_hvr_0_3_feb_3/split_2/train/mask/_08_h_0_21.png  \n",
            "  inflating: hrf_512_512_dice_loss_hvr_0_3_feb_3/split_2/train/mask/_03_g_1_22.png  \n",
            "  inflating: hrf_512_512_dice_loss_hvr_0_3_feb_3/split_2/train/mask/_09_dr_3_30.png  \n",
            "  inflating: hrf_512_512_dice_loss_hvr_0_3_feb_3/split_2/train/mask/_03_dr_3_5.png  \n",
            "  inflating: hrf_512_512_dice_loss_hvr_0_3_feb_3/split_2/train/mask/_01_h_2_10.png  \n",
            "  inflating: hrf_512_512_dice_loss_hvr_0_3_feb_3/split_2/train/mask/_09_g_2_1.png  \n",
            "  inflating: hrf_512_512_dice_loss_hvr_0_3_feb_3/split_2/train/mask/_05_h_3_11.png  \n",
            "  inflating: hrf_512_512_dice_loss_hvr_0_3_feb_3/split_2/train/mask/_06_h_3_30.png  \n",
            "  inflating: hrf_512_512_dice_loss_hvr_0_3_feb_3/split_2/train/mask/_02_h_0_32.png  \n",
            "  inflating: hrf_512_512_dice_loss_hvr_0_3_feb_3/split_2/train/mask/_11_g_0_12.png  \n",
            "  inflating: hrf_512_512_dice_loss_hvr_0_3_feb_3/split_2/train/mask/_04_dr_1_5.png  \n",
            "  inflating: hrf_512_512_dice_loss_hvr_0_3_feb_3/split_2/train/mask/_10_dr_1_6.png  \n",
            "  inflating: hrf_512_512_dice_loss_hvr_0_3_feb_3/split_2/train/mask/_10_dr_3_30.png  \n",
            "  inflating: hrf_512_512_dice_loss_hvr_0_3_feb_3/split_2/train/mask/_03_dr_3_31.png  \n",
            "  inflating: hrf_512_512_dice_loss_hvr_0_3_feb_3/split_2/train/mask/_09_h_1_4.png  \n",
            "  inflating: hrf_512_512_dice_loss_hvr_0_3_feb_3/split_2/train/mask/_01_dr_0_5.png  \n",
            "  inflating: hrf_512_512_dice_loss_hvr_0_3_feb_3/split_2/train/mask/_02_dr_1_12.png  \n",
            "  inflating: hrf_512_512_dice_loss_hvr_0_3_feb_3/split_2/train/mask/_10_dr_3_34.png  \n",
            "  inflating: hrf_512_512_dice_loss_hvr_0_3_feb_3/split_2/train/mask/_01_dr_0_7.png  \n",
            "  inflating: hrf_512_512_dice_loss_hvr_0_3_feb_3/split_2/train/mask/_04_dr_0_19.png  \n",
            "  inflating: hrf_512_512_dice_loss_hvr_0_3_feb_3/split_2/train/mask/_12_dr_2_12.png  \n",
            "  inflating: hrf_512_512_dice_loss_hvr_0_3_feb_3/split_2/train/mask/_14_dr_2_7.png  \n",
            "  inflating: hrf_512_512_dice_loss_hvr_0_3_feb_3/split_2/train/mask/_04_g_0_5.png  \n",
            "  inflating: hrf_512_512_dice_loss_hvr_0_3_feb_3/split_2/train/mask/_07_g_2_11.png  \n",
            "  inflating: hrf_512_512_dice_loss_hvr_0_3_feb_3/split_2/train/mask/_11_g_2_20.png  \n",
            "  inflating: hrf_512_512_dice_loss_hvr_0_3_feb_3/split_2/train/mask/_02_h_2_26.png  \n",
            "  inflating: hrf_512_512_dice_loss_hvr_0_3_feb_3/split_2/train/mask/_01_g_0_22.png  \n",
            "  inflating: hrf_512_512_dice_loss_hvr_0_3_feb_3/split_2/train/mask/_07_h_0_28.png  \n",
            "  inflating: hrf_512_512_dice_loss_hvr_0_3_feb_3/split_2/train/mask/_10_dr_2_10.png  \n",
            "  inflating: hrf_512_512_dice_loss_hvr_0_3_feb_3/split_2/train/mask/_09_h_0_18.png  \n",
            "  inflating: hrf_512_512_dice_loss_hvr_0_3_feb_3/split_2/train/mask/_15_g_2_9.png  \n",
            "  inflating: hrf_512_512_dice_loss_hvr_0_3_feb_3/split_2/train/mask/_04_dr_3_6.png  \n",
            "  inflating: hrf_512_512_dice_loss_hvr_0_3_feb_3/split_2/train/mask/_09_h_3_14.png  \n",
            "  inflating: hrf_512_512_dice_loss_hvr_0_3_feb_3/split_2/train/mask/_15_dr_0_15.png  \n",
            "  inflating: hrf_512_512_dice_loss_hvr_0_3_feb_3/split_2/train/mask/_01_g_1_21.png  \n",
            "  inflating: hrf_512_512_dice_loss_hvr_0_3_feb_3/split_2/train/mask/_04_g_2_29.png  \n",
            "  inflating: hrf_512_512_dice_loss_hvr_0_3_feb_3/split_2/train/mask/_13_h_0_5.png  \n",
            "  inflating: hrf_512_512_dice_loss_hvr_0_3_feb_3/split_2/train/mask/_01_dr_0_32.png  \n",
            "  inflating: hrf_512_512_dice_loss_hvr_0_3_feb_3/split_2/train/mask/_10_dr_3_6.png  \n",
            "  inflating: hrf_512_512_dice_loss_hvr_0_3_feb_3/split_2/train/mask/_02_h_1_1.png  \n",
            "  inflating: hrf_512_512_dice_loss_hvr_0_3_feb_3/split_2/train/mask/_15_dr_1_11.png  \n",
            "  inflating: hrf_512_512_dice_loss_hvr_0_3_feb_3/split_2/train/mask/_12_dr_1_31.png  \n",
            "  inflating: hrf_512_512_dice_loss_hvr_0_3_feb_3/split_2/train/mask/_01_h_1_8.png  \n",
            "  inflating: hrf_512_512_dice_loss_hvr_0_3_feb_3/split_2/train/mask/_13_h_3_10.png  \n",
            "  inflating: hrf_512_512_dice_loss_hvr_0_3_feb_3/split_2/train/mask/_15_dr_3_31.png  \n",
            "  inflating: hrf_512_512_dice_loss_hvr_0_3_feb_3/split_2/train/mask/_03_g_3_21.png  \n",
            "  inflating: hrf_512_512_dice_loss_hvr_0_3_feb_3/split_2/train/mask/_07_dr_0_31.png  \n",
            "  inflating: hrf_512_512_dice_loss_hvr_0_3_feb_3/split_2/train/mask/_05_h_0_15.png  \n",
            "  inflating: hrf_512_512_dice_loss_hvr_0_3_feb_3/split_2/train/mask/_07_h_2_25.png  \n",
            "  inflating: hrf_512_512_dice_loss_hvr_0_3_feb_3/split_2/train/mask/_13_h_2_33.png  \n",
            "  inflating: hrf_512_512_dice_loss_hvr_0_3_feb_3/split_2/train/mask/_14_dr_2_30.png  \n",
            "  inflating: hrf_512_512_dice_loss_hvr_0_3_feb_3/split_2/train/mask/_08_h_2_1.png  \n",
            "  inflating: hrf_512_512_dice_loss_hvr_0_3_feb_3/split_2/train/mask/_14_g_0_12.png  \n",
            "  inflating: hrf_512_512_dice_loss_hvr_0_3_feb_3/split_2/train/mask/_09_g_3_25.png  \n",
            "  inflating: hrf_512_512_dice_loss_hvr_0_3_feb_3/split_2/train/mask/_02_h_0_1.png  \n",
            "  inflating: hrf_512_512_dice_loss_hvr_0_3_feb_3/split_2/train/mask/_09_dr_3_27.png  \n",
            "  inflating: hrf_512_512_dice_loss_hvr_0_3_feb_3/split_2/train/mask/_14_g_3_34.png  \n",
            "  inflating: hrf_512_512_dice_loss_hvr_0_3_feb_3/split_2/train/mask/_01_h_2_30.png  \n",
            "  inflating: hrf_512_512_dice_loss_hvr_0_3_feb_3/split_2/train/mask/_12_dr_0_28.png  \n",
            "  inflating: hrf_512_512_dice_loss_hvr_0_3_feb_3/split_2/train/mask/_14_g_1_12.png  \n",
            "  inflating: hrf_512_512_dice_loss_hvr_0_3_feb_3/split_2/train/mask/_07_g_1_18.png  \n",
            "  inflating: hrf_512_512_dice_loss_hvr_0_3_feb_3/split_2/train/mask/_07_g_0_0.png  \n",
            "  inflating: hrf_512_512_dice_loss_hvr_0_3_feb_3/split_2/train/mask/_13_g_2_15.png  \n",
            "  inflating: hrf_512_512_dice_loss_hvr_0_3_feb_3/split_2/train/mask/_10_dr_3_20.png  \n",
            "  inflating: hrf_512_512_dice_loss_hvr_0_3_feb_3/split_2/train/mask/_14_g_0_19.png  \n",
            "  inflating: hrf_512_512_dice_loss_hvr_0_3_feb_3/split_2/train/mask/_07_g_3_22.png  \n",
            "  inflating: hrf_512_512_dice_loss_hvr_0_3_feb_3/split_2/train/mask/_14_h_2_5.png  \n",
            "  inflating: hrf_512_512_dice_loss_hvr_0_3_feb_3/split_2/train/mask/_10_dr_0_32.png  \n",
            "  inflating: hrf_512_512_dice_loss_hvr_0_3_feb_3/split_2/train/mask/_07_h_3_6.png  \n",
            "  inflating: hrf_512_512_dice_loss_hvr_0_3_feb_3/split_2/train/mask/_10_g_1_3.png  \n",
            "  inflating: hrf_512_512_dice_loss_hvr_0_3_feb_3/split_2/train/mask/_14_dr_0_5.png  \n",
            "  inflating: hrf_512_512_dice_loss_hvr_0_3_feb_3/split_2/train/mask/_11_g_0_25.png  \n",
            "  inflating: hrf_512_512_dice_loss_hvr_0_3_feb_3/split_2/train/mask/_01_dr_2_29.png  \n",
            "  inflating: hrf_512_512_dice_loss_hvr_0_3_feb_3/split_2/train/mask/_14_h_1_11.png  \n",
            "  inflating: hrf_512_512_dice_loss_hvr_0_3_feb_3/split_2/train/mask/_05_h_1_18.png  \n",
            "  inflating: hrf_512_512_dice_loss_hvr_0_3_feb_3/split_2/train/mask/_05_h_0_23.png  \n",
            "  inflating: hrf_512_512_dice_loss_hvr_0_3_feb_3/split_2/train/mask/_01_dr_0_28.png  \n",
            "  inflating: hrf_512_512_dice_loss_hvr_0_3_feb_3/split_2/train/mask/_09_h_0_33.png  \n",
            "  inflating: hrf_512_512_dice_loss_hvr_0_3_feb_3/split_2/train/mask/_04_g_3_4.png  \n",
            "  inflating: hrf_512_512_dice_loss_hvr_0_3_feb_3/split_2/train/mask/_07_dr_3_30.png  \n",
            "  inflating: hrf_512_512_dice_loss_hvr_0_3_feb_3/split_2/train/mask/_04_g_0_7.png  \n",
            "  inflating: hrf_512_512_dice_loss_hvr_0_3_feb_3/split_2/train/mask/_06_dr_1_10.png  \n",
            "  inflating: hrf_512_512_dice_loss_hvr_0_3_feb_3/split_2/train/mask/_05_h_3_12.png  \n",
            "  inflating: hrf_512_512_dice_loss_hvr_0_3_feb_3/split_2/train/mask/_15_g_3_23.png  \n",
            "  inflating: hrf_512_512_dice_loss_hvr_0_3_feb_3/split_2/train/mask/_09_dr_0_4.png  \n",
            "  inflating: hrf_512_512_dice_loss_hvr_0_3_feb_3/split_2/train/mask/_09_g_1_33.png  \n",
            "  inflating: hrf_512_512_dice_loss_hvr_0_3_feb_3/split_2/train/mask/_01_h_3_18.png  \n",
            "  inflating: hrf_512_512_dice_loss_hvr_0_3_feb_3/split_2/train/mask/_14_dr_3_25.png  \n",
            "  inflating: hrf_512_512_dice_loss_hvr_0_3_feb_3/split_2/train/mask/_07_g_3_21.png  \n",
            "  inflating: hrf_512_512_dice_loss_hvr_0_3_feb_3/split_2/train/mask/_09_dr_3_31.png  \n",
            "  inflating: hrf_512_512_dice_loss_hvr_0_3_feb_3/split_2/train/mask/_09_dr_1_31.png  \n",
            "  inflating: hrf_512_512_dice_loss_hvr_0_3_feb_3/split_2/train/mask/_03_dr_2_17.png  \n",
            "  inflating: hrf_512_512_dice_loss_hvr_0_3_feb_3/split_2/train/mask/_07_g_2_18.png  \n",
            "  inflating: hrf_512_512_dice_loss_hvr_0_3_feb_3/split_2/train/mask/_04_dr_3_2.png  \n",
            "  inflating: hrf_512_512_dice_loss_hvr_0_3_feb_3/split_2/train/mask/_07_dr_0_10.png  \n",
            "  inflating: hrf_512_512_dice_loss_hvr_0_3_feb_3/split_2/train/mask/_03_g_3_13.png  \n",
            "  inflating: hrf_512_512_dice_loss_hvr_0_3_feb_3/split_2/train/mask/_02_h_1_12.png  \n",
            "  inflating: hrf_512_512_dice_loss_hvr_0_3_feb_3/split_2/train/mask/_15_g_2_8.png  \n",
            "  inflating: hrf_512_512_dice_loss_hvr_0_3_feb_3/split_2/train/mask/_09_g_2_0.png  \n",
            "  inflating: hrf_512_512_dice_loss_hvr_0_3_feb_3/split_2/train/mask/_07_g_3_23.png  \n",
            "  inflating: hrf_512_512_dice_loss_hvr_0_3_feb_3/split_2/train/mask/_13_g_0_0.png  \n",
            "  inflating: hrf_512_512_dice_loss_hvr_0_3_feb_3/split_2/train/mask/_06_dr_3_23.png  \n",
            "  inflating: hrf_512_512_dice_loss_hvr_0_3_feb_3/split_2/train/mask/_03_dr_3_34.png  \n",
            "  inflating: hrf_512_512_dice_loss_hvr_0_3_feb_3/split_2/train/mask/_12_dr_0_29.png  \n",
            "  inflating: hrf_512_512_dice_loss_hvr_0_3_feb_3/split_2/train/mask/_04_g_1_26.png  \n",
            "  inflating: hrf_512_512_dice_loss_hvr_0_3_feb_3/split_2/train/mask/_05_h_2_16.png  \n",
            "  inflating: hrf_512_512_dice_loss_hvr_0_3_feb_3/split_2/train/mask/_12_dr_0_5.png  \n",
            "  inflating: hrf_512_512_dice_loss_hvr_0_3_feb_3/split_2/train/mask/_04_g_2_10.png  \n",
            "  inflating: hrf_512_512_dice_loss_hvr_0_3_feb_3/split_2/train/mask/_14_h_2_18.png  \n",
            "  inflating: hrf_512_512_dice_loss_hvr_0_3_feb_3/split_2/train/mask/_07_dr_3_28.png  \n",
            "  inflating: hrf_512_512_dice_loss_hvr_0_3_feb_3/split_2/train/mask/_11_g_2_33.png  \n",
            "  inflating: hrf_512_512_dice_loss_hvr_0_3_feb_3/split_2/train/mask/_01_g_2_31.png  \n",
            "  inflating: hrf_512_512_dice_loss_hvr_0_3_feb_3/split_2/train/mask/_01_h_1_26.png  \n",
            "  inflating: hrf_512_512_dice_loss_hvr_0_3_feb_3/split_2/train/mask/_14_h_2_14.png  \n",
            "  inflating: hrf_512_512_dice_loss_hvr_0_3_feb_3/split_2/train/mask/_04_g_0_28.png  \n",
            "  inflating: hrf_512_512_dice_loss_hvr_0_3_feb_3/split_2/train/mask/_09_h_1_27.png  \n",
            "  inflating: hrf_512_512_dice_loss_hvr_0_3_feb_3/split_2/train/mask/_03_g_3_27.png  \n",
            "  inflating: hrf_512_512_dice_loss_hvr_0_3_feb_3/split_2/train/mask/_09_dr_2_29.png  \n",
            "  inflating: hrf_512_512_dice_loss_hvr_0_3_feb_3/split_2/train/mask/_04_g_3_3.png  \n",
            "  inflating: hrf_512_512_dice_loss_hvr_0_3_feb_3/split_2/train/mask/_07_dr_2_9.png  \n",
            "  inflating: hrf_512_512_dice_loss_hvr_0_3_feb_3/split_2/train/mask/_13_g_2_9.png  \n",
            "  inflating: hrf_512_512_dice_loss_hvr_0_3_feb_3/split_2/train/mask/_14_h_0_26.png  \n",
            "  inflating: hrf_512_512_dice_loss_hvr_0_3_feb_3/split_2/train/mask/_03_g_2_12.png  \n",
            "  inflating: hrf_512_512_dice_loss_hvr_0_3_feb_3/split_2/train/mask/_05_h_0_16.png  \n",
            "  inflating: hrf_512_512_dice_loss_hvr_0_3_feb_3/split_2/train/mask/_11_g_1_8.png  \n",
            "  inflating: hrf_512_512_dice_loss_hvr_0_3_feb_3/split_2/train/mask/_07_h_0_7.png  \n",
            "  inflating: hrf_512_512_dice_loss_hvr_0_3_feb_3/split_2/train/mask/_15_dr_3_9.png  \n",
            "  inflating: hrf_512_512_dice_loss_hvr_0_3_feb_3/split_2/train/mask/_06_dr_3_6.png  \n",
            "  inflating: hrf_512_512_dice_loss_hvr_0_3_feb_3/split_2/train/mask/_01_dr_1_11.png  \n",
            "  inflating: hrf_512_512_dice_loss_hvr_0_3_feb_3/split_2/train/mask/_04_dr_0_28.png  \n",
            "  inflating: hrf_512_512_dice_loss_hvr_0_3_feb_3/split_2/train/mask/_02_dr_1_30.png  \n",
            "  inflating: hrf_512_512_dice_loss_hvr_0_3_feb_3/split_2/train/mask/_02_h_2_17.png  \n",
            "  inflating: hrf_512_512_dice_loss_hvr_0_3_feb_3/split_2/train/mask/_07_g_3_11.png  \n",
            "  inflating: hrf_512_512_dice_loss_hvr_0_3_feb_3/split_2/train/mask/_14_h_0_24.png  \n",
            "  inflating: hrf_512_512_dice_loss_hvr_0_3_feb_3/split_2/train/mask/_05_h_0_11.png  \n",
            "  inflating: hrf_512_512_dice_loss_hvr_0_3_feb_3/split_2/train/mask/_03_dr_1_25.png  \n",
            "  inflating: hrf_512_512_dice_loss_hvr_0_3_feb_3/split_2/train/mask/_07_h_3_5.png  \n",
            "  inflating: hrf_512_512_dice_loss_hvr_0_3_feb_3/split_2/train/mask/_11_g_3_24.png  \n",
            "  inflating: hrf_512_512_dice_loss_hvr_0_3_feb_3/split_2/train/mask/_15_dr_3_8.png  \n",
            "  inflating: hrf_512_512_dice_loss_hvr_0_3_feb_3/split_2/train/mask/_07_dr_2_17.png  \n",
            "  inflating: hrf_512_512_dice_loss_hvr_0_3_feb_3/split_2/train/mask/_06_dr_2_2.png  \n",
            "  inflating: hrf_512_512_dice_loss_hvr_0_3_feb_3/split_2/train/mask/_03_g_0_16.png  \n",
            "  inflating: hrf_512_512_dice_loss_hvr_0_3_feb_3/split_2/train/mask/_05_h_2_7.png  \n",
            "  inflating: hrf_512_512_dice_loss_hvr_0_3_feb_3/split_2/train/mask/_05_h_3_24.png  \n",
            "  inflating: hrf_512_512_dice_loss_hvr_0_3_feb_3/split_2/train/mask/_08_h_0_1.png  \n",
            "  inflating: hrf_512_512_dice_loss_hvr_0_3_feb_3/split_2/train/mask/_09_g_0_20.png  \n",
            "  inflating: hrf_512_512_dice_loss_hvr_0_3_feb_3/split_2/train/mask/_04_g_0_30.png  \n",
            "  inflating: hrf_512_512_dice_loss_hvr_0_3_feb_3/split_2/train/mask/_15_dr_3_3.png  \n",
            "  inflating: hrf_512_512_dice_loss_hvr_0_3_feb_3/split_2/train/mask/_02_h_3_28.png  \n",
            "  inflating: hrf_512_512_dice_loss_hvr_0_3_feb_3/split_2/train/mask/_14_g_1_4.png  \n",
            "  inflating: hrf_512_512_dice_loss_hvr_0_3_feb_3/split_2/train/mask/_11_g_2_5.png  \n",
            "  inflating: hrf_512_512_dice_loss_hvr_0_3_feb_3/split_2/train/mask/_04_g_0_20.png  \n",
            "  inflating: hrf_512_512_dice_loss_hvr_0_3_feb_3/split_2/train/mask/_14_h_1_9.png  \n",
            "  inflating: hrf_512_512_dice_loss_hvr_0_3_feb_3/split_2/train/mask/_04_g_2_18.png  \n",
            "  inflating: hrf_512_512_dice_loss_hvr_0_3_feb_3/split_2/train/mask/_07_g_3_31.png  \n",
            "  inflating: hrf_512_512_dice_loss_hvr_0_3_feb_3/split_2/train/mask/_14_dr_1_12.png  \n",
            "  inflating: hrf_512_512_dice_loss_hvr_0_3_feb_3/split_2/train/mask/_14_h_3_16.png  \n",
            "  inflating: hrf_512_512_dice_loss_hvr_0_3_feb_3/split_2/train/mask/_15_dr_0_24.png  \n",
            "  inflating: hrf_512_512_dice_loss_hvr_0_3_feb_3/split_2/train/mask/_14_g_1_27.png  \n",
            "  inflating: hrf_512_512_dice_loss_hvr_0_3_feb_3/split_2/train/mask/_14_g_1_9.png  \n",
            "  inflating: hrf_512_512_dice_loss_hvr_0_3_feb_3/split_2/train/mask/_09_g_0_16.png  \n",
            "  inflating: hrf_512_512_dice_loss_hvr_0_3_feb_3/split_2/train/mask/_13_h_2_17.png  \n",
            "  inflating: hrf_512_512_dice_loss_hvr_0_3_feb_3/split_2/train/mask/_04_dr_3_12.png  \n",
            "  inflating: hrf_512_512_dice_loss_hvr_0_3_feb_3/split_2/train/mask/_15_dr_3_21.png  \n",
            "  inflating: hrf_512_512_dice_loss_hvr_0_3_feb_3/split_2/train/mask/_01_g_0_12.png  \n",
            "  inflating: hrf_512_512_dice_loss_hvr_0_3_feb_3/split_2/train/mask/_03_g_2_19.png  \n",
            "  inflating: hrf_512_512_dice_loss_hvr_0_3_feb_3/split_2/train/mask/_15_g_0_11.png  \n",
            "  inflating: hrf_512_512_dice_loss_hvr_0_3_feb_3/split_2/train/mask/_09_g_3_17.png  \n",
            "  inflating: hrf_512_512_dice_loss_hvr_0_3_feb_3/split_2/train/mask/_01_h_1_10.png  \n",
            "  inflating: hrf_512_512_dice_loss_hvr_0_3_feb_3/split_2/train/mask/_13_g_2_33.png  \n",
            "  inflating: hrf_512_512_dice_loss_hvr_0_3_feb_3/split_2/train/mask/_02_dr_0_30.png  \n",
            "  inflating: hrf_512_512_dice_loss_hvr_0_3_feb_3/split_2/train/mask/_01_dr_0_10.png  \n",
            "  inflating: hrf_512_512_dice_loss_hvr_0_3_feb_3/split_2/train/mask/_01_h_2_24.png  \n",
            "  inflating: hrf_512_512_dice_loss_hvr_0_3_feb_3/split_2/train/mask/_07_dr_2_34.png  \n",
            "  inflating: hrf_512_512_dice_loss_hvr_0_3_feb_3/split_2/train/mask/_13_h_1_7.png  \n",
            "  inflating: hrf_512_512_dice_loss_hvr_0_3_feb_3/split_2/train/mask/_14_dr_0_16.png  \n",
            "  inflating: hrf_512_512_dice_loss_hvr_0_3_feb_3/split_2/train/mask/_14_g_2_16.png  \n",
            "  inflating: hrf_512_512_dice_loss_hvr_0_3_feb_3/split_2/train/mask/_09_g_1_27.png  \n",
            "  inflating: hrf_512_512_dice_loss_hvr_0_3_feb_3/split_2/train/mask/_10_dr_0_27.png  \n",
            "  inflating: hrf_512_512_dice_loss_hvr_0_3_feb_3/split_2/train/mask/_03_dr_3_22.png  \n",
            "  inflating: hrf_512_512_dice_loss_hvr_0_3_feb_3/split_2/train/mask/_09_h_3_25.png  \n",
            "  inflating: hrf_512_512_dice_loss_hvr_0_3_feb_3/split_2/train/mask/_09_g_1_34.png  \n",
            "  inflating: hrf_512_512_dice_loss_hvr_0_3_feb_3/split_2/train/mask/_15_dr_2_22.png  \n",
            "  inflating: hrf_512_512_dice_loss_hvr_0_3_feb_3/split_2/train/mask/_13_g_0_18.png  \n",
            "  inflating: hrf_512_512_dice_loss_hvr_0_3_feb_3/split_2/train/mask/_14_h_2_4.png  \n",
            "  inflating: hrf_512_512_dice_loss_hvr_0_3_feb_3/split_2/train/mask/_09_dr_1_27.png  \n",
            "  inflating: hrf_512_512_dice_loss_hvr_0_3_feb_3/split_2/train/mask/_06_dr_0_4.png  \n",
            "  inflating: hrf_512_512_dice_loss_hvr_0_3_feb_3/split_2/train/mask/_09_h_1_30.png  \n",
            "  inflating: hrf_512_512_dice_loss_hvr_0_3_feb_3/split_2/train/mask/_05_h_1_10.png  \n",
            "  inflating: hrf_512_512_dice_loss_hvr_0_3_feb_3/split_2/train/mask/_07_g_0_24.png  \n",
            "  inflating: hrf_512_512_dice_loss_hvr_0_3_feb_3/split_2/train/mask/_09_g_1_0.png  \n",
            "  inflating: hrf_512_512_dice_loss_hvr_0_3_feb_3/split_2/train/mask/_01_g_2_20.png  \n",
            "  inflating: hrf_512_512_dice_loss_hvr_0_3_feb_3/split_2/train/mask/_14_dr_0_15.png  \n",
            "  inflating: hrf_512_512_dice_loss_hvr_0_3_feb_3/split_2/train/mask/_11_g_0_19.png  \n",
            "  inflating: hrf_512_512_dice_loss_hvr_0_3_feb_3/split_2/train/mask/_13_g_1_31.png  \n",
            "  inflating: hrf_512_512_dice_loss_hvr_0_3_feb_3/split_2/train/mask/_10_dr_3_5.png  \n",
            "  inflating: hrf_512_512_dice_loss_hvr_0_3_feb_3/split_2/train/mask/_01_dr_3_9.png  \n",
            "  inflating: hrf_512_512_dice_loss_hvr_0_3_feb_3/split_2/train/mask/_06_dr_1_6.png  \n",
            "  inflating: hrf_512_512_dice_loss_hvr_0_3_feb_3/split_2/train/mask/_02_h_2_1.png  \n",
            "  inflating: hrf_512_512_dice_loss_hvr_0_3_feb_3/split_2/train/mask/_04_dr_0_7.png  \n",
            "  inflating: hrf_512_512_dice_loss_hvr_0_3_feb_3/split_2/train/mask/_12_dr_1_26.png  \n",
            "  inflating: hrf_512_512_dice_loss_hvr_0_3_feb_3/split_2/train/mask/_14_h_1_33.png  \n",
            "  inflating: hrf_512_512_dice_loss_hvr_0_3_feb_3/split_2/train/mask/_07_h_1_26.png  \n",
            "  inflating: hrf_512_512_dice_loss_hvr_0_3_feb_3/split_2/train/mask/_03_g_1_32.png  \n",
            "  inflating: hrf_512_512_dice_loss_hvr_0_3_feb_3/split_2/train/mask/_07_h_1_14.png  \n",
            "  inflating: hrf_512_512_dice_loss_hvr_0_3_feb_3/split_2/train/mask/_02_dr_1_13.png  \n",
            "  inflating: hrf_512_512_dice_loss_hvr_0_3_feb_3/split_2/train/mask/_10_dr_2_11.png  \n",
            "  inflating: hrf_512_512_dice_loss_hvr_0_3_feb_3/split_2/train/mask/_01_dr_0_16.png  \n",
            "  inflating: hrf_512_512_dice_loss_hvr_0_3_feb_3/split_2/train/mask/_01_dr_3_21.png  \n",
            "  inflating: hrf_512_512_dice_loss_hvr_0_3_feb_3/split_2/train/mask/_01_dr_2_2.png  \n",
            "  inflating: hrf_512_512_dice_loss_hvr_0_3_feb_3/split_2/train/mask/_09_h_1_6.png  \n",
            "  inflating: hrf_512_512_dice_loss_hvr_0_3_feb_3/split_2/train/mask/_01_g_3_20.png  \n",
            "  inflating: hrf_512_512_dice_loss_hvr_0_3_feb_3/split_2/train/mask/_01_h_0_16.png  \n",
            "  inflating: hrf_512_512_dice_loss_hvr_0_3_feb_3/split_2/train/mask/_03_dr_0_6.png  \n",
            "  inflating: hrf_512_512_dice_loss_hvr_0_3_feb_3/split_2/train/mask/_09_h_1_29.png  \n",
            "  inflating: hrf_512_512_dice_loss_hvr_0_3_feb_3/split_2/train/mask/_15_dr_0_10.png  \n",
            "  inflating: hrf_512_512_dice_loss_hvr_0_3_feb_3/split_2/train/mask/_02_dr_2_9.png  \n",
            "  inflating: hrf_512_512_dice_loss_hvr_0_3_feb_3/split_2/train/mask/_13_g_1_0.png  \n",
            "  inflating: hrf_512_512_dice_loss_hvr_0_3_feb_3/split_2/train/mask/_06_h_3_17.png  \n",
            "  inflating: hrf_512_512_dice_loss_hvr_0_3_feb_3/split_2/train/mask/_09_h_0_0.png  \n",
            "  inflating: hrf_512_512_dice_loss_hvr_0_3_feb_3/split_2/train/mask/_03_g_0_3.png  \n",
            "  inflating: hrf_512_512_dice_loss_hvr_0_3_feb_3/split_2/train/mask/_01_h_2_31.png  \n",
            "  inflating: hrf_512_512_dice_loss_hvr_0_3_feb_3/split_2/train/mask/_07_g_1_5.png  \n",
            "  inflating: hrf_512_512_dice_loss_hvr_0_3_feb_3/split_2/train/mask/_13_g_0_15.png  \n",
            "  inflating: hrf_512_512_dice_loss_hvr_0_3_feb_3/split_2/train/mask/_14_g_2_14.png  \n",
            "  inflating: hrf_512_512_dice_loss_hvr_0_3_feb_3/split_2/train/mask/_02_dr_0_25.png  \n",
            "  inflating: hrf_512_512_dice_loss_hvr_0_3_feb_3/split_2/train/mask/_03_g_1_3.png  \n",
            "  inflating: hrf_512_512_dice_loss_hvr_0_3_feb_3/split_2/train/mask/_03_dr_0_8.png  \n",
            "  inflating: hrf_512_512_dice_loss_hvr_0_3_feb_3/split_2/train/mask/_07_g_0_33.png  \n",
            "  inflating: hrf_512_512_dice_loss_hvr_0_3_feb_3/split_2/train/mask/_07_dr_1_29.png  \n",
            "  inflating: hrf_512_512_dice_loss_hvr_0_3_feb_3/split_2/train/mask/_01_h_1_3.png  \n",
            "  inflating: hrf_512_512_dice_loss_hvr_0_3_feb_3/split_2/train/mask/_06_dr_0_17.png  \n",
            "  inflating: hrf_512_512_dice_loss_hvr_0_3_feb_3/split_2/train/mask/_13_g_2_28.png  \n",
            "  inflating: hrf_512_512_dice_loss_hvr_0_3_feb_3/split_2/train/mask/_07_h_3_34.png  \n",
            "  inflating: hrf_512_512_dice_loss_hvr_0_3_feb_3/split_2/train/mask/_10_dr_0_16.png  \n",
            "  inflating: hrf_512_512_dice_loss_hvr_0_3_feb_3/split_2/train/mask/_06_h_3_9.png  \n",
            "  inflating: hrf_512_512_dice_loss_hvr_0_3_feb_3/split_2/train/mask/_15_g_2_24.png  \n",
            "  inflating: hrf_512_512_dice_loss_hvr_0_3_feb_3/split_2/train/mask/_09_h_1_28.png  \n",
            "  inflating: hrf_512_512_dice_loss_hvr_0_3_feb_3/split_2/train/mask/_15_dr_3_16.png  \n",
            "  inflating: hrf_512_512_dice_loss_hvr_0_3_feb_3/split_2/train/mask/_15_g_1_14.png  \n",
            "  inflating: hrf_512_512_dice_loss_hvr_0_3_feb_3/split_2/train/mask/_07_h_0_20.png  \n",
            "  inflating: hrf_512_512_dice_loss_hvr_0_3_feb_3/split_2/train/mask/_04_dr_3_4.png  \n",
            "  inflating: hrf_512_512_dice_loss_hvr_0_3_feb_3/split_2/train/mask/_06_h_1_8.png  \n",
            "  inflating: hrf_512_512_dice_loss_hvr_0_3_feb_3/split_2/train/mask/_13_g_2_24.png  \n",
            "  inflating: hrf_512_512_dice_loss_hvr_0_3_feb_3/split_2/train/mask/_09_h_0_9.png  \n",
            "  inflating: hrf_512_512_dice_loss_hvr_0_3_feb_3/split_2/train/mask/_10_dr_2_8.png  \n",
            "  inflating: hrf_512_512_dice_loss_hvr_0_3_feb_3/split_2/train/mask/_07_dr_1_11.png  \n",
            "  inflating: hrf_512_512_dice_loss_hvr_0_3_feb_3/split_2/train/mask/_10_dr_0_29.png  \n",
            "  inflating: hrf_512_512_dice_loss_hvr_0_3_feb_3/split_2/train/mask/_04_g_3_24.png  \n",
            "  inflating: hrf_512_512_dice_loss_hvr_0_3_feb_3/split_2/train/mask/_04_g_1_28.png  \n",
            "  inflating: hrf_512_512_dice_loss_hvr_0_3_feb_3/split_2/train/mask/_01_h_3_20.png  \n",
            "  inflating: hrf_512_512_dice_loss_hvr_0_3_feb_3/split_2/train/mask/_04_dr_0_11.png  \n",
            "  inflating: hrf_512_512_dice_loss_hvr_0_3_feb_3/split_2/train/mask/_04_h_2_16.png  \n",
            "  inflating: hrf_512_512_dice_loss_hvr_0_3_feb_3/split_2/train/mask/_07_g_1_4.png  \n",
            "  inflating: hrf_512_512_dice_loss_hvr_0_3_feb_3/split_2/train/mask/_07_h_2_32.png  \n",
            "  inflating: hrf_512_512_dice_loss_hvr_0_3_feb_3/split_2/train/mask/_02_h_2_33.png  \n",
            "  inflating: hrf_512_512_dice_loss_hvr_0_3_feb_3/split_2/train/mask/_06_h_3_11.png  \n",
            "  inflating: hrf_512_512_dice_loss_hvr_0_3_feb_3/split_2/train/mask/_13_h_1_4.png  \n",
            "  inflating: hrf_512_512_dice_loss_hvr_0_3_feb_3/split_2/train/mask/_13_g_0_13.png  \n",
            "  inflating: hrf_512_512_dice_loss_hvr_0_3_feb_3/split_2/train/mask/_06_dr_3_5.png  \n",
            "  inflating: hrf_512_512_dice_loss_hvr_0_3_feb_3/split_2/train/mask/_09_dr_0_14.png  \n",
            "  inflating: hrf_512_512_dice_loss_hvr_0_3_feb_3/split_2/train/mask/_10_g_3_16.png  \n",
            "  inflating: hrf_512_512_dice_loss_hvr_0_3_feb_3/split_2/train/mask/_11_g_3_32.png  \n",
            "  inflating: hrf_512_512_dice_loss_hvr_0_3_feb_3/split_2/train/mask/_03_dr_2_10.png  \n",
            "  inflating: hrf_512_512_dice_loss_hvr_0_3_feb_3/split_2/train/mask/_04_h_1_14.png  \n",
            "  inflating: hrf_512_512_dice_loss_hvr_0_3_feb_3/split_2/train/mask/_01_h_0_31.png  \n",
            "  inflating: hrf_512_512_dice_loss_hvr_0_3_feb_3/split_2/train/mask/_05_h_2_26.png  \n",
            "  inflating: hrf_512_512_dice_loss_hvr_0_3_feb_3/split_2/train/mask/_03_dr_2_7.png  \n",
            "  inflating: hrf_512_512_dice_loss_hvr_0_3_feb_3/split_2/train/mask/_10_g_2_24.png  \n",
            "  inflating: hrf_512_512_dice_loss_hvr_0_3_feb_3/split_2/train/mask/_05_h_3_8.png  \n",
            "  inflating: hrf_512_512_dice_loss_hvr_0_3_feb_3/split_2/train/mask/_10_dr_3_4.png  \n",
            "  inflating: hrf_512_512_dice_loss_hvr_0_3_feb_3/split_2/train/mask/_07_g_0_21.png  \n",
            "  inflating: hrf_512_512_dice_loss_hvr_0_3_feb_3/split_2/train/mask/_06_dr_3_32.png  \n",
            "  inflating: hrf_512_512_dice_loss_hvr_0_3_feb_3/split_2/train/mask/_14_dr_1_2.png  \n",
            "  inflating: hrf_512_512_dice_loss_hvr_0_3_feb_3/split_2/train/mask/_11_g_3_14.png  \n",
            "  inflating: hrf_512_512_dice_loss_hvr_0_3_feb_3/split_2/train/mask/_09_g_3_32.png  \n",
            "  inflating: hrf_512_512_dice_loss_hvr_0_3_feb_3/split_2/train/mask/_13_g_3_11.png  \n",
            "  inflating: hrf_512_512_dice_loss_hvr_0_3_feb_3/split_2/train/mask/_07_dr_3_12.png  \n",
            "  inflating: hrf_512_512_dice_loss_hvr_0_3_feb_3/split_2/train/mask/_09_dr_0_23.png  \n",
            "  inflating: hrf_512_512_dice_loss_hvr_0_3_feb_3/split_2/train/mask/_15_dr_1_9.png  \n",
            "  inflating: hrf_512_512_dice_loss_hvr_0_3_feb_3/split_2/train/mask/_04_h_2_23.png  \n",
            "  inflating: hrf_512_512_dice_loss_hvr_0_3_feb_3/split_2/train/mask/_08_h_1_0.png  \n",
            "  inflating: hrf_512_512_dice_loss_hvr_0_3_feb_3/split_2/train/mask/_09_dr_2_17.png  \n",
            "  inflating: hrf_512_512_dice_loss_hvr_0_3_feb_3/split_2/train/mask/_10_g_1_0.png  \n",
            "  inflating: hrf_512_512_dice_loss_hvr_0_3_feb_3/split_2/train/mask/_06_dr_0_11.png  \n",
            "  inflating: hrf_512_512_dice_loss_hvr_0_3_feb_3/split_2/train/mask/_11_g_3_33.png  \n",
            "  inflating: hrf_512_512_dice_loss_hvr_0_3_feb_3/split_2/train/mask/_03_g_0_12.png  \n",
            "  inflating: hrf_512_512_dice_loss_hvr_0_3_feb_3/split_2/train/mask/_01_g_0_23.png  \n",
            "  inflating: hrf_512_512_dice_loss_hvr_0_3_feb_3/split_2/train/mask/_04_g_1_16.png  \n",
            "  inflating: hrf_512_512_dice_loss_hvr_0_3_feb_3/split_2/train/mask/_07_dr_0_21.png  \n",
            "  inflating: hrf_512_512_dice_loss_hvr_0_3_feb_3/split_2/train/mask/_02_h_1_6.png  \n",
            "  inflating: hrf_512_512_dice_loss_hvr_0_3_feb_3/split_2/train/mask/_12_dr_1_13.png  \n",
            "  inflating: hrf_512_512_dice_loss_hvr_0_3_feb_3/split_2/train/mask/_09_dr_3_3.png  \n",
            "  inflating: hrf_512_512_dice_loss_hvr_0_3_feb_3/split_2/train/mask/_10_dr_2_6.png  \n",
            "  inflating: hrf_512_512_dice_loss_hvr_0_3_feb_3/split_2/train/mask/_12_dr_1_15.png  \n",
            "  inflating: hrf_512_512_dice_loss_hvr_0_3_feb_3/split_2/train/mask/_14_h_2_34.png  \n",
            "  inflating: hrf_512_512_dice_loss_hvr_0_3_feb_3/split_2/train/mask/_09_g_1_26.png  \n",
            "  inflating: hrf_512_512_dice_loss_hvr_0_3_feb_3/split_2/train/mask/_12_dr_0_21.png  \n",
            "  inflating: hrf_512_512_dice_loss_hvr_0_3_feb_3/split_2/train/mask/_10_g_2_8.png  \n",
            "  inflating: hrf_512_512_dice_loss_hvr_0_3_feb_3/split_2/train/mask/_01_dr_1_19.png  \n",
            "  inflating: hrf_512_512_dice_loss_hvr_0_3_feb_3/split_2/train/mask/_15_dr_1_32.png  \n",
            "  inflating: hrf_512_512_dice_loss_hvr_0_3_feb_3/split_2/train/mask/_07_dr_2_3.png  \n",
            "  inflating: hrf_512_512_dice_loss_hvr_0_3_feb_3/split_2/train/mask/_13_g_2_23.png  \n",
            "  inflating: hrf_512_512_dice_loss_hvr_0_3_feb_3/split_2/train/mask/_05_h_0_1.png  \n",
            "  inflating: hrf_512_512_dice_loss_hvr_0_3_feb_3/split_2/train/mask/_01_dr_2_16.png  \n",
            "  inflating: hrf_512_512_dice_loss_hvr_0_3_feb_3/split_2/train/mask/_14_g_0_14.png  \n",
            "  inflating: hrf_512_512_dice_loss_hvr_0_3_feb_3/split_2/train/mask/_05_h_1_13.png  \n",
            "  inflating: hrf_512_512_dice_loss_hvr_0_3_feb_3/split_2/train/mask/_01_g_0_20.png  \n",
            "  inflating: hrf_512_512_dice_loss_hvr_0_3_feb_3/split_2/train/mask/_11_g_2_30.png  \n",
            "  inflating: hrf_512_512_dice_loss_hvr_0_3_feb_3/split_2/train/mask/_13_h_2_18.png  \n",
            "  inflating: hrf_512_512_dice_loss_hvr_0_3_feb_3/split_2/train/mask/_04_dr_3_22.png  \n",
            "  inflating: hrf_512_512_dice_loss_hvr_0_3_feb_3/split_2/train/mask/_02_h_1_34.png  \n",
            "  inflating: hrf_512_512_dice_loss_hvr_0_3_feb_3/split_2/train/mask/_07_dr_3_1.png  \n",
            "  inflating: hrf_512_512_dice_loss_hvr_0_3_feb_3/split_2/train/mask/_14_g_0_3.png  \n",
            "  inflating: hrf_512_512_dice_loss_hvr_0_3_feb_3/split_2/train/mask/_09_g_0_32.png  \n",
            "  inflating: hrf_512_512_dice_loss_hvr_0_3_feb_3/split_2/train/mask/_13_h_2_10.png  \n",
            "  inflating: hrf_512_512_dice_loss_hvr_0_3_feb_3/split_2/train/mask/_03_dr_3_4.png  \n",
            "  inflating: hrf_512_512_dice_loss_hvr_0_3_feb_3/split_2/train/mask/_04_dr_0_22.png  \n",
            "  inflating: hrf_512_512_dice_loss_hvr_0_3_feb_3/split_2/train/mask/_09_dr_3_18.png  \n",
            "  inflating: hrf_512_512_dice_loss_hvr_0_3_feb_3/split_2/train/mask/_14_dr_3_22.png  \n",
            "  inflating: hrf_512_512_dice_loss_hvr_0_3_feb_3/split_2/train/mask/_01_dr_2_0.png  \n",
            "  inflating: hrf_512_512_dice_loss_hvr_0_3_feb_3/split_2/train/mask/_10_dr_1_27.png  \n",
            "  inflating: hrf_512_512_dice_loss_hvr_0_3_feb_3/split_2/train/mask/_03_g_2_17.png  \n",
            "  inflating: hrf_512_512_dice_loss_hvr_0_3_feb_3/split_2/train/mask/_06_h_0_9.png  \n",
            "  inflating: hrf_512_512_dice_loss_hvr_0_3_feb_3/split_2/train/mask/_05_h_0_33.png  \n",
            "  inflating: hrf_512_512_dice_loss_hvr_0_3_feb_3/split_2/train/mask/_04_g_2_26.png  \n",
            "  inflating: hrf_512_512_dice_loss_hvr_0_3_feb_3/split_2/train/mask/_13_g_1_7.png  \n",
            "  inflating: hrf_512_512_dice_loss_hvr_0_3_feb_3/split_2/train/mask/_15_dr_2_18.png  \n",
            "  inflating: hrf_512_512_dice_loss_hvr_0_3_feb_3/split_2/train/mask/_01_dr_3_1.png  \n",
            "  inflating: hrf_512_512_dice_loss_hvr_0_3_feb_3/split_2/train/mask/_01_h_1_4.png  \n",
            "  inflating: hrf_512_512_dice_loss_hvr_0_3_feb_3/split_2/train/mask/_04_h_0_28.png  \n",
            "  inflating: hrf_512_512_dice_loss_hvr_0_3_feb_3/split_2/train/mask/_15_dr_3_32.png  \n",
            "  inflating: hrf_512_512_dice_loss_hvr_0_3_feb_3/split_2/train/mask/_06_dr_0_21.png  \n",
            "  inflating: hrf_512_512_dice_loss_hvr_0_3_feb_3/split_2/train/mask/_06_h_1_27.png  \n",
            "  inflating: hrf_512_512_dice_loss_hvr_0_3_feb_3/split_2/train/mask/_07_dr_2_25.png  \n",
            "  inflating: hrf_512_512_dice_loss_hvr_0_3_feb_3/split_2/train/mask/_08_h_3_19.png  \n",
            "  inflating: hrf_512_512_dice_loss_hvr_0_3_feb_3/split_2/train/mask/_09_dr_0_1.png  \n",
            "  inflating: hrf_512_512_dice_loss_hvr_0_3_feb_3/split_2/train/mask/_14_h_1_23.png  \n",
            "  inflating: hrf_512_512_dice_loss_hvr_0_3_feb_3/split_2/train/mask/_02_dr_0_6.png  \n",
            "  inflating: hrf_512_512_dice_loss_hvr_0_3_feb_3/split_2/train/mask/_08_h_0_8.png  \n",
            "  inflating: hrf_512_512_dice_loss_hvr_0_3_feb_3/split_2/train/mask/_04_dr_1_33.png  \n",
            "  inflating: hrf_512_512_dice_loss_hvr_0_3_feb_3/split_2/train/mask/_06_h_1_23.png  \n",
            "  inflating: hrf_512_512_dice_loss_hvr_0_3_feb_3/split_2/train/mask/_01_dr_3_31.png  \n",
            "  inflating: hrf_512_512_dice_loss_hvr_0_3_feb_3/split_2/train/mask/_09_g_0_6.png  \n",
            "  inflating: hrf_512_512_dice_loss_hvr_0_3_feb_3/split_2/train/mask/_10_dr_1_34.png  \n",
            "  inflating: hrf_512_512_dice_loss_hvr_0_3_feb_3/split_2/train/mask/_05_h_2_27.png  \n",
            "  inflating: hrf_512_512_dice_loss_hvr_0_3_feb_3/split_2/train/mask/_10_g_3_9.png  \n",
            "  inflating: hrf_512_512_dice_loss_hvr_0_3_feb_3/split_2/train/mask/_13_g_3_8.png  \n",
            "  inflating: hrf_512_512_dice_loss_hvr_0_3_feb_3/split_2/train/mask/_01_h_2_17.png  \n",
            "  inflating: hrf_512_512_dice_loss_hvr_0_3_feb_3/split_2/train/mask/_07_h_1_32.png  \n",
            "  inflating: hrf_512_512_dice_loss_hvr_0_3_feb_3/split_2/train/mask/_03_dr_2_0.png  \n",
            "  inflating: hrf_512_512_dice_loss_hvr_0_3_feb_3/split_2/train/mask/_02_h_3_25.png  \n",
            "  inflating: hrf_512_512_dice_loss_hvr_0_3_feb_3/split_2/train/mask/_14_h_3_31.png  \n",
            "  inflating: hrf_512_512_dice_loss_hvr_0_3_feb_3/split_2/train/mask/_15_dr_1_17.png  \n",
            "  inflating: hrf_512_512_dice_loss_hvr_0_3_feb_3/split_2/train/mask/_11_g_1_16.png  \n",
            "  inflating: hrf_512_512_dice_loss_hvr_0_3_feb_3/split_2/train/mask/_01_h_1_11.png  \n",
            "  inflating: hrf_512_512_dice_loss_hvr_0_3_feb_3/split_2/train/mask/_01_dr_0_11.png  \n",
            "  inflating: hrf_512_512_dice_loss_hvr_0_3_feb_3/split_2/train/mask/_10_dr_0_0.png  \n",
            "  inflating: hrf_512_512_dice_loss_hvr_0_3_feb_3/split_2/train/mask/_11_g_0_11.png  \n",
            "  inflating: hrf_512_512_dice_loss_hvr_0_3_feb_3/split_2/train/mask/_06_h_0_30.png  \n",
            "  inflating: hrf_512_512_dice_loss_hvr_0_3_feb_3/split_2/train/mask/_09_g_0_4.png  \n",
            "  inflating: hrf_512_512_dice_loss_hvr_0_3_feb_3/split_2/train/mask/_15_dr_2_24.png  \n",
            "  inflating: hrf_512_512_dice_loss_hvr_0_3_feb_3/split_2/train/mask/_08_h_2_17.png  \n",
            "  inflating: hrf_512_512_dice_loss_hvr_0_3_feb_3/split_2/train/mask/_10_dr_0_7.png  \n",
            "  inflating: hrf_512_512_dice_loss_hvr_0_3_feb_3/split_2/train/mask/_14_dr_2_15.png  \n",
            "  inflating: hrf_512_512_dice_loss_hvr_0_3_feb_3/split_2/train/mask/_09_g_0_3.png  \n",
            "  inflating: hrf_512_512_dice_loss_hvr_0_3_feb_3/split_2/train/mask/_02_h_0_18.png  \n",
            "  inflating: hrf_512_512_dice_loss_hvr_0_3_feb_3/split_2/train/mask/_04_dr_0_24.png  \n",
            "  inflating: hrf_512_512_dice_loss_hvr_0_3_feb_3/split_2/train/mask/_02_h_0_16.png  \n",
            "  inflating: hrf_512_512_dice_loss_hvr_0_3_feb_3/split_2/train/mask/_07_g_1_10.png  \n",
            "  inflating: hrf_512_512_dice_loss_hvr_0_3_feb_3/split_2/train/mask/_08_h_1_17.png  \n",
            "  inflating: hrf_512_512_dice_loss_hvr_0_3_feb_3/split_2/train/mask/_13_h_1_3.png  \n",
            "  inflating: hrf_512_512_dice_loss_hvr_0_3_feb_3/split_2/train/mask/_15_dr_2_2.png  \n",
            "  inflating: hrf_512_512_dice_loss_hvr_0_3_feb_3/split_2/train/mask/_06_h_2_17.png  \n",
            "  inflating: hrf_512_512_dice_loss_hvr_0_3_feb_3/split_2/train/mask/_12_dr_0_30.png  \n",
            "  inflating: hrf_512_512_dice_loss_hvr_0_3_feb_3/split_2/train/mask/_04_h_0_16.png  \n",
            "  inflating: hrf_512_512_dice_loss_hvr_0_3_feb_3/split_2/train/mask/_11_g_0_24.png  \n",
            "  inflating: hrf_512_512_dice_loss_hvr_0_3_feb_3/split_2/train/mask/_01_dr_2_9.png  \n",
            "  inflating: hrf_512_512_dice_loss_hvr_0_3_feb_3/split_2/train/mask/_04_h_3_29.png  \n",
            "  inflating: hrf_512_512_dice_loss_hvr_0_3_feb_3/split_2/train/mask/_07_dr_1_1.png  \n",
            "  inflating: hrf_512_512_dice_loss_hvr_0_3_feb_3/split_2/train/mask/_03_g_1_34.png  \n",
            "  inflating: hrf_512_512_dice_loss_hvr_0_3_feb_3/split_2/train/mask/_14_g_0_23.png  \n",
            "  inflating: hrf_512_512_dice_loss_hvr_0_3_feb_3/split_2/train/mask/_02_h_3_23.png  \n",
            "  inflating: hrf_512_512_dice_loss_hvr_0_3_feb_3/split_2/train/mask/_01_dr_2_4.png  \n",
            "  inflating: hrf_512_512_dice_loss_hvr_0_3_feb_3/split_2/train/mask/_07_g_3_15.png  \n",
            "  inflating: hrf_512_512_dice_loss_hvr_0_3_feb_3/split_2/train/mask/_10_dr_3_31.png  \n",
            "  inflating: hrf_512_512_dice_loss_hvr_0_3_feb_3/split_2/train/mask/_07_h_1_0.png  \n",
            "  inflating: hrf_512_512_dice_loss_hvr_0_3_feb_3/split_2/train/mask/_06_dr_3_2.png  \n",
            "  inflating: hrf_512_512_dice_loss_hvr_0_3_feb_3/split_2/train/mask/_07_g_0_29.png  \n",
            "  inflating: hrf_512_512_dice_loss_hvr_0_3_feb_3/split_2/train/mask/_06_dr_2_32.png  \n",
            "  inflating: hrf_512_512_dice_loss_hvr_0_3_feb_3/split_2/train/mask/_13_g_0_17.png  \n",
            "  inflating: hrf_512_512_dice_loss_hvr_0_3_feb_3/split_2/train/mask/_08_h_1_7.png  \n",
            "  inflating: hrf_512_512_dice_loss_hvr_0_3_feb_3/split_2/train/mask/_03_dr_0_14.png  \n",
            "  inflating: hrf_512_512_dice_loss_hvr_0_3_feb_3/split_2/train/mask/_03_dr_3_28.png  \n",
            "  inflating: hrf_512_512_dice_loss_hvr_0_3_feb_3/split_2/train/mask/_07_h_2_2.png  \n",
            "  inflating: hrf_512_512_dice_loss_hvr_0_3_feb_3/split_2/train/mask/_14_dr_2_25.png  \n",
            "  inflating: hrf_512_512_dice_loss_hvr_0_3_feb_3/split_2/train/mask/_04_h_2_5.png  \n",
            "  inflating: hrf_512_512_dice_loss_hvr_0_3_feb_3/split_2/train/mask/_09_h_2_16.png  \n",
            "  inflating: hrf_512_512_dice_loss_hvr_0_3_feb_3/split_2/train/mask/_12_dr_3_33.png  \n",
            "  inflating: hrf_512_512_dice_loss_hvr_0_3_feb_3/split_2/train/mask/_01_dr_2_28.png  \n",
            "  inflating: hrf_512_512_dice_loss_hvr_0_3_feb_3/split_2/train/mask/_04_dr_1_29.png  \n",
            "  inflating: hrf_512_512_dice_loss_hvr_0_3_feb_3/split_2/train/mask/_06_dr_0_13.png  \n",
            "  inflating: hrf_512_512_dice_loss_hvr_0_3_feb_3/split_2/train/mask/_14_dr_3_16.png  \n",
            "  inflating: hrf_512_512_dice_loss_hvr_0_3_feb_3/split_2/train/mask/_04_h_3_4.png  \n",
            "  inflating: hrf_512_512_dice_loss_hvr_0_3_feb_3/split_2/train/mask/_14_g_3_12.png  \n",
            "  inflating: hrf_512_512_dice_loss_hvr_0_3_feb_3/split_2/train/mask/_02_dr_1_10.png  \n",
            "  inflating: hrf_512_512_dice_loss_hvr_0_3_feb_3/split_2/train/mask/_07_dr_0_29.png  \n",
            "  inflating: hrf_512_512_dice_loss_hvr_0_3_feb_3/split_2/train/mask/_14_h_1_10.png  \n",
            "  inflating: hrf_512_512_dice_loss_hvr_0_3_feb_3/split_2/train/mask/_10_g_3_4.png  \n",
            "  inflating: hrf_512_512_dice_loss_hvr_0_3_feb_3/split_2/train/mask/_14_g_3_19.png  \n",
            "  inflating: hrf_512_512_dice_loss_hvr_0_3_feb_3/split_2/train/mask/_05_h_3_15.png  \n",
            "  inflating: hrf_512_512_dice_loss_hvr_0_3_feb_3/split_2/train/mask/_01_g_2_29.png  \n",
            "  inflating: hrf_512_512_dice_loss_hvr_0_3_feb_3/split_2/train/mask/_14_h_0_2.png  \n",
            "  inflating: hrf_512_512_dice_loss_hvr_0_3_feb_3/split_2/train/mask/_03_g_3_22.png  \n",
            "  inflating: hrf_512_512_dice_loss_hvr_0_3_feb_3/split_2/train/mask/_06_dr_3_30.png  \n",
            "  inflating: hrf_512_512_dice_loss_hvr_0_3_feb_3/split_2/train/mask/_04_h_2_27.png  \n",
            "  inflating: hrf_512_512_dice_loss_hvr_0_3_feb_3/split_2/train/mask/_05_h_2_29.png  \n",
            "  inflating: hrf_512_512_dice_loss_hvr_0_3_feb_3/split_2/train/mask/_09_dr_0_31.png  \n",
            "  inflating: hrf_512_512_dice_loss_hvr_0_3_feb_3/split_2/train/mask/_02_h_3_33.png  \n",
            "  inflating: hrf_512_512_dice_loss_hvr_0_3_feb_3/split_2/train/mask/_07_dr_2_7.png  \n",
            "  inflating: hrf_512_512_dice_loss_hvr_0_3_feb_3/split_2/train/mask/_10_dr_0_26.png  \n",
            "  inflating: hrf_512_512_dice_loss_hvr_0_3_feb_3/split_2/train/mask/_02_dr_3_16.png  \n",
            "  inflating: hrf_512_512_dice_loss_hvr_0_3_feb_3/split_2/train/mask/_15_dr_2_13.png  \n",
            "  inflating: hrf_512_512_dice_loss_hvr_0_3_feb_3/split_2/train/mask/_04_h_3_20.png  \n",
            "  inflating: hrf_512_512_dice_loss_hvr_0_3_feb_3/split_2/train/mask/_02_h_2_24.png  \n",
            "  inflating: hrf_512_512_dice_loss_hvr_0_3_feb_3/split_2/train/mask/_09_h_1_26.png  \n",
            "  inflating: hrf_512_512_dice_loss_hvr_0_3_feb_3/split_2/train/mask/_07_dr_3_3.png  \n",
            "  inflating: hrf_512_512_dice_loss_hvr_0_3_feb_3/split_2/train/mask/_11_g_1_20.png  \n",
            "  inflating: hrf_512_512_dice_loss_hvr_0_3_feb_3/split_2/train/mask/_07_g_2_26.png  \n",
            "  inflating: hrf_512_512_dice_loss_hvr_0_3_feb_3/split_2/train/mask/_02_dr_0_16.png  \n",
            "  inflating: hrf_512_512_dice_loss_hvr_0_3_feb_3/split_2/train/mask/_11_g_1_31.png  \n",
            "  inflating: hrf_512_512_dice_loss_hvr_0_3_feb_3/split_2/train/mask/_06_h_3_3.png  \n",
            "  inflating: hrf_512_512_dice_loss_hvr_0_3_feb_3/split_2/train/mask/_03_g_1_20.png  \n",
            "  inflating: hrf_512_512_dice_loss_hvr_0_3_feb_3/split_2/train/mask/_06_h_3_8.png  \n",
            "  inflating: hrf_512_512_dice_loss_hvr_0_3_feb_3/split_2/train/mask/_14_h_0_9.png  \n",
            "  inflating: hrf_512_512_dice_loss_hvr_0_3_feb_3/split_2/train/mask/_15_dr_0_25.png  \n",
            "  inflating: hrf_512_512_dice_loss_hvr_0_3_feb_3/split_2/train/mask/_09_dr_0_2.png  \n",
            "  inflating: hrf_512_512_dice_loss_hvr_0_3_feb_3/split_2/train/mask/_04_g_1_7.png  \n",
            "  inflating: hrf_512_512_dice_loss_hvr_0_3_feb_3/split_2/train/mask/_04_h_3_5.png  \n",
            "  inflating: hrf_512_512_dice_loss_hvr_0_3_feb_3/split_2/train/mask/_04_dr_2_32.png  \n",
            "  inflating: hrf_512_512_dice_loss_hvr_0_3_feb_3/split_2/train/mask/_09_dr_0_0.png  \n",
            "  inflating: hrf_512_512_dice_loss_hvr_0_3_feb_3/split_2/train/mask/_01_h_1_1.png  \n",
            "  inflating: hrf_512_512_dice_loss_hvr_0_3_feb_3/split_2/train/mask/_02_dr_0_23.png  \n",
            "  inflating: hrf_512_512_dice_loss_hvr_0_3_feb_3/split_2/train/mask/_10_g_2_13.png  \n",
            "  inflating: hrf_512_512_dice_loss_hvr_0_3_feb_3/split_2/train/mask/_02_h_0_19.png  \n",
            "  inflating: hrf_512_512_dice_loss_hvr_0_3_feb_3/split_2/train/mask/_13_g_2_4.png  \n",
            "  inflating: hrf_512_512_dice_loss_hvr_0_3_feb_3/split_2/train/mask/_10_dr_1_10.png  \n",
            "  inflating: hrf_512_512_dice_loss_hvr_0_3_feb_3/split_2/train/mask/_08_h_0_4.png  \n",
            "  inflating: hrf_512_512_dice_loss_hvr_0_3_feb_3/split_2/train/mask/_14_h_2_11.png  \n",
            "  inflating: hrf_512_512_dice_loss_hvr_0_3_feb_3/split_2/train/mask/_02_dr_2_24.png  \n",
            "  inflating: hrf_512_512_dice_loss_hvr_0_3_feb_3/split_2/train/mask/_09_g_2_32.png  \n",
            "  inflating: hrf_512_512_dice_loss_hvr_0_3_feb_3/split_2/train/mask/_07_dr_1_33.png  \n",
            "  inflating: hrf_512_512_dice_loss_hvr_0_3_feb_3/split_2/train/mask/_06_dr_3_11.png  \n",
            "  inflating: hrf_512_512_dice_loss_hvr_0_3_feb_3/split_2/train/mask/_07_h_2_13.png  \n",
            "  inflating: hrf_512_512_dice_loss_hvr_0_3_feb_3/split_2/train/mask/_04_dr_1_28.png  \n",
            "  inflating: hrf_512_512_dice_loss_hvr_0_3_feb_3/split_2/train/mask/_14_dr_0_0.png  \n",
            "  inflating: hrf_512_512_dice_loss_hvr_0_3_feb_3/split_2/train/mask/_15_g_3_34.png  \n",
            "  inflating: hrf_512_512_dice_loss_hvr_0_3_feb_3/split_2/train/mask/_13_g_3_27.png  \n",
            "  inflating: hrf_512_512_dice_loss_hvr_0_3_feb_3/split_2/train/mask/_03_g_3_23.png  \n",
            "  inflating: hrf_512_512_dice_loss_hvr_0_3_feb_3/split_2/train/mask/_09_h_2_18.png  \n",
            "  inflating: hrf_512_512_dice_loss_hvr_0_3_feb_3/split_2/train/mask/_03_dr_0_17.png  \n",
            "  inflating: hrf_512_512_dice_loss_hvr_0_3_feb_3/split_2/train/mask/_13_g_1_1.png  \n",
            "  inflating: hrf_512_512_dice_loss_hvr_0_3_feb_3/split_2/train/mask/_09_dr_3_23.png  \n",
            "  inflating: hrf_512_512_dice_loss_hvr_0_3_feb_3/split_2/train/mask/_15_dr_0_18.png  \n",
            "  inflating: hrf_512_512_dice_loss_hvr_0_3_feb_3/split_2/train/mask/_10_dr_1_5.png  \n",
            "  inflating: hrf_512_512_dice_loss_hvr_0_3_feb_3/split_2/train/mask/_13_h_3_19.png  \n",
            "  inflating: hrf_512_512_dice_loss_hvr_0_3_feb_3/split_2/train/mask/_09_g_3_19.png  \n",
            "  inflating: hrf_512_512_dice_loss_hvr_0_3_feb_3/split_2/train/mask/_04_g_0_15.png  \n",
            "  inflating: hrf_512_512_dice_loss_hvr_0_3_feb_3/split_2/train/mask/_11_g_0_0.png  \n",
            "  inflating: hrf_512_512_dice_loss_hvr_0_3_feb_3/split_2/train/mask/_04_h_0_17.png  \n",
            "  inflating: hrf_512_512_dice_loss_hvr_0_3_feb_3/split_2/train/mask/_13_h_3_26.png  \n",
            "  inflating: hrf_512_512_dice_loss_hvr_0_3_feb_3/split_2/train/mask/_03_dr_1_28.png  \n",
            "  inflating: hrf_512_512_dice_loss_hvr_0_3_feb_3/split_2/train/mask/_08_h_1_30.png  \n",
            "  inflating: hrf_512_512_dice_loss_hvr_0_3_feb_3/split_2/train/mask/_14_dr_1_32.png  \n",
            "  inflating: hrf_512_512_dice_loss_hvr_0_3_feb_3/split_2/train/mask/_07_g_2_19.png  \n",
            "  inflating: hrf_512_512_dice_loss_hvr_0_3_feb_3/split_2/train/mask/_13_g_0_21.png  \n",
            "  inflating: hrf_512_512_dice_loss_hvr_0_3_feb_3/split_2/train/mask/_06_h_2_23.png  \n",
            "  inflating: hrf_512_512_dice_loss_hvr_0_3_feb_3/split_2/train/mask/_03_dr_2_5.png  \n",
            "  inflating: hrf_512_512_dice_loss_hvr_0_3_feb_3/split_2/train/mask/_13_h_3_8.png  \n",
            "  inflating: hrf_512_512_dice_loss_hvr_0_3_feb_3/split_2/train/mask/_01_h_2_23.png  \n",
            "  inflating: hrf_512_512_dice_loss_hvr_0_3_feb_3/split_2/train/mask/_08_h_0_2.png  \n",
            "  inflating: hrf_512_512_dice_loss_hvr_0_3_feb_3/split_2/train/mask/_12_dr_2_1.png  \n",
            "  inflating: hrf_512_512_dice_loss_hvr_0_3_feb_3/split_2/train/mask/_02_dr_0_1.png  \n",
            "  inflating: hrf_512_512_dice_loss_hvr_0_3_feb_3/split_2/train/mask/_13_g_1_28.png  \n",
            "  inflating: hrf_512_512_dice_loss_hvr_0_3_feb_3/split_2/train/mask/_07_dr_2_24.png  \n",
            "  inflating: hrf_512_512_dice_loss_hvr_0_3_feb_3/split_2/train/mask/_13_h_3_17.png  \n",
            "  inflating: hrf_512_512_dice_loss_hvr_0_3_feb_3/split_2/train/mask/_02_dr_2_14.png  \n",
            "  inflating: hrf_512_512_dice_loss_hvr_0_3_feb_3/split_2/train/mask/_01_g_1_12.png  \n",
            "  inflating: hrf_512_512_dice_loss_hvr_0_3_feb_3/split_2/train/mask/_10_dr_0_28.png  \n",
            "  inflating: hrf_512_512_dice_loss_hvr_0_3_feb_3/split_2/train/mask/_07_h_3_9.png  \n",
            "  inflating: hrf_512_512_dice_loss_hvr_0_3_feb_3/split_2/train/mask/_13_g_2_22.png  \n",
            "  inflating: hrf_512_512_dice_loss_hvr_0_3_feb_3/split_2/train/mask/_04_dr_1_27.png  \n",
            "  inflating: hrf_512_512_dice_loss_hvr_0_3_feb_3/split_2/train/mask/_04_dr_1_22.png  \n",
            "  inflating: hrf_512_512_dice_loss_hvr_0_3_feb_3/split_2/train/mask/_01_g_1_11.png  \n",
            "  inflating: hrf_512_512_dice_loss_hvr_0_3_feb_3/split_2/train/mask/_01_h_3_16.png  \n",
            "  inflating: hrf_512_512_dice_loss_hvr_0_3_feb_3/split_2/train/mask/_12_dr_2_7.png  \n",
            "  inflating: hrf_512_512_dice_loss_hvr_0_3_feb_3/split_2/train/mask/_13_g_3_5.png  \n",
            "  inflating: hrf_512_512_dice_loss_hvr_0_3_feb_3/split_2/train/mask/_09_g_1_14.png  \n",
            "  inflating: hrf_512_512_dice_loss_hvr_0_3_feb_3/split_2/train/mask/_09_g_3_34.png  \n",
            "  inflating: hrf_512_512_dice_loss_hvr_0_3_feb_3/split_2/train/mask/_06_h_2_29.png  \n",
            "  inflating: hrf_512_512_dice_loss_hvr_0_3_feb_3/split_2/train/mask/_07_dr_1_20.png  \n",
            "  inflating: hrf_512_512_dice_loss_hvr_0_3_feb_3/split_2/train/mask/_14_g_1_15.png  \n",
            "  inflating: hrf_512_512_dice_loss_hvr_0_3_feb_3/split_2/train/mask/_14_h_2_8.png  \n",
            "  inflating: hrf_512_512_dice_loss_hvr_0_3_feb_3/split_2/train/mask/_06_dr_2_13.png  \n",
            "  inflating: hrf_512_512_dice_loss_hvr_0_3_feb_3/split_2/train/mask/_13_h_3_13.png  \n",
            "  inflating: hrf_512_512_dice_loss_hvr_0_3_feb_3/split_2/train/mask/_06_h_0_31.png  \n",
            "  inflating: hrf_512_512_dice_loss_hvr_0_3_feb_3/split_2/train/mask/_08_h_0_12.png  \n",
            "  inflating: hrf_512_512_dice_loss_hvr_0_3_feb_3/split_2/train/mask/_07_h_0_18.png  \n",
            "  inflating: hrf_512_512_dice_loss_hvr_0_3_feb_3/split_2/train/mask/_01_h_3_10.png  \n",
            "  inflating: hrf_512_512_dice_loss_hvr_0_3_feb_3/split_2/train/mask/_13_h_0_32.png  \n",
            "  inflating: hrf_512_512_dice_loss_hvr_0_3_feb_3/split_2/train/mask/_14_h_1_20.png  \n",
            "  inflating: hrf_512_512_dice_loss_hvr_0_3_feb_3/split_2/train/mask/_07_g_0_31.png  \n",
            "  inflating: hrf_512_512_dice_loss_hvr_0_3_feb_3/split_2/train/mask/_15_g_3_12.png  \n",
            "  inflating: hrf_512_512_dice_loss_hvr_0_3_feb_3/split_2/train/mask/_14_g_2_30.png  \n",
            "  inflating: hrf_512_512_dice_loss_hvr_0_3_feb_3/split_2/train/mask/_13_g_0_24.png  \n",
            "  inflating: hrf_512_512_dice_loss_hvr_0_3_feb_3/split_2/train/mask/_14_h_1_3.png  \n",
            "  inflating: hrf_512_512_dice_loss_hvr_0_3_feb_3/split_2/train/mask/_09_dr_2_27.png  \n",
            "  inflating: hrf_512_512_dice_loss_hvr_0_3_feb_3/split_2/train/mask/_15_dr_1_16.png  \n",
            "  inflating: hrf_512_512_dice_loss_hvr_0_3_feb_3/split_2/train/mask/_09_h_0_27.png  \n",
            "  inflating: hrf_512_512_dice_loss_hvr_0_3_feb_3/split_2/train/mask/_01_h_2_12.png  \n",
            "  inflating: hrf_512_512_dice_loss_hvr_0_3_feb_3/split_2/train/mask/_02_h_2_20.png  \n",
            "  inflating: hrf_512_512_dice_loss_hvr_0_3_feb_3/split_2/train/mask/_03_dr_0_16.png  \n",
            "  inflating: hrf_512_512_dice_loss_hvr_0_3_feb_3/split_2/train/mask/_06_dr_1_16.png  \n",
            "  inflating: hrf_512_512_dice_loss_hvr_0_3_feb_3/split_2/train/mask/_01_h_1_29.png  \n",
            "  inflating: hrf_512_512_dice_loss_hvr_0_3_feb_3/split_2/train/mask/_04_g_0_33.png  \n",
            "  inflating: hrf_512_512_dice_loss_hvr_0_3_feb_3/split_2/train/mask/_12_dr_3_22.png  \n",
            "  inflating: hrf_512_512_dice_loss_hvr_0_3_feb_3/split_2/train/mask/_01_g_2_16.png  \n",
            "  inflating: hrf_512_512_dice_loss_hvr_0_3_feb_3/split_2/train/mask/_01_h_3_1.png  \n",
            "  inflating: hrf_512_512_dice_loss_hvr_0_3_feb_3/split_2/train/mask/_09_dr_1_8.png  \n",
            "  inflating: hrf_512_512_dice_loss_hvr_0_3_feb_3/split_2/train/mask/_04_g_2_13.png  \n",
            "  inflating: hrf_512_512_dice_loss_hvr_0_3_feb_3/split_2/train/mask/_14_h_2_15.png  \n",
            "  inflating: hrf_512_512_dice_loss_hvr_0_3_feb_3/split_2/train/mask/_09_g_2_25.png  \n",
            "  inflating: hrf_512_512_dice_loss_hvr_0_3_feb_3/split_2/train/mask/_09_dr_0_12.png  \n",
            "  inflating: hrf_512_512_dice_loss_hvr_0_3_feb_3/split_2/train/mask/_03_g_2_32.png  \n",
            "  inflating: hrf_512_512_dice_loss_hvr_0_3_feb_3/split_2/train/mask/_08_h_0_23.png  \n",
            "  inflating: hrf_512_512_dice_loss_hvr_0_3_feb_3/split_2/train/mask/_13_h_0_34.png  \n",
            "  inflating: hrf_512_512_dice_loss_hvr_0_3_feb_3/split_2/train/mask/_01_g_1_5.png  \n",
            "  inflating: hrf_512_512_dice_loss_hvr_0_3_feb_3/split_2/train/mask/_10_g_0_7.png  \n",
            "  inflating: hrf_512_512_dice_loss_hvr_0_3_feb_3/split_2/train/mask/_06_h_2_21.png  \n",
            "  inflating: hrf_512_512_dice_loss_hvr_0_3_feb_3/split_2/train/mask/_08_h_2_27.png  \n",
            "  inflating: hrf_512_512_dice_loss_hvr_0_3_feb_3/split_2/train/mask/_15_dr_3_14.png  \n",
            "  inflating: hrf_512_512_dice_loss_hvr_0_3_feb_3/split_2/train/mask/_04_g_0_2.png  \n",
            "  inflating: hrf_512_512_dice_loss_hvr_0_3_feb_3/split_2/train/mask/_02_h_0_21.png  \n",
            "  inflating: hrf_512_512_dice_loss_hvr_0_3_feb_3/split_2/train/mask/_15_g_1_15.png  \n",
            "  inflating: hrf_512_512_dice_loss_hvr_0_3_feb_3/split_2/train/mask/_13_h_1_27.png  \n",
            "  inflating: hrf_512_512_dice_loss_hvr_0_3_feb_3/split_2/train/mask/_09_h_2_26.png  \n",
            "  inflating: hrf_512_512_dice_loss_hvr_0_3_feb_3/split_2/train/mask/_03_dr_1_13.png  \n",
            "  inflating: hrf_512_512_dice_loss_hvr_0_3_feb_3/split_2/train/mask/_07_dr_1_5.png  \n",
            "  inflating: hrf_512_512_dice_loss_hvr_0_3_feb_3/split_2/train/mask/_06_dr_0_25.png  \n",
            "  inflating: hrf_512_512_dice_loss_hvr_0_3_feb_3/split_2/train/mask/_15_dr_1_18.png  \n",
            "  inflating: hrf_512_512_dice_loss_hvr_0_3_feb_3/split_2/train/mask/_07_g_3_2.png  \n",
            "  inflating: hrf_512_512_dice_loss_hvr_0_3_feb_3/split_2/train/mask/_04_dr_0_29.png  \n",
            "  inflating: hrf_512_512_dice_loss_hvr_0_3_feb_3/split_2/train/mask/_09_g_2_27.png  \n",
            "  inflating: hrf_512_512_dice_loss_hvr_0_3_feb_3/split_2/train/mask/_13_h_2_1.png  \n",
            "  inflating: hrf_512_512_dice_loss_hvr_0_3_feb_3/split_2/train/mask/_04_g_0_14.png  \n",
            "  inflating: hrf_512_512_dice_loss_hvr_0_3_feb_3/split_2/train/mask/_04_dr_3_27.png  \n",
            "  inflating: hrf_512_512_dice_loss_hvr_0_3_feb_3/split_2/train/mask/_10_g_2_22.png  \n",
            "  inflating: hrf_512_512_dice_loss_hvr_0_3_feb_3/split_2/train/mask/_09_dr_1_30.png  \n",
            "  inflating: hrf_512_512_dice_loss_hvr_0_3_feb_3/split_2/train/mask/_10_dr_1_32.png  \n",
            "  inflating: hrf_512_512_dice_loss_hvr_0_3_feb_3/split_2/train/mask/_12_dr_3_18.png  \n",
            "  inflating: hrf_512_512_dice_loss_hvr_0_3_feb_3/split_2/train/mask/_07_dr_2_0.png  \n",
            "  inflating: hrf_512_512_dice_loss_hvr_0_3_feb_3/split_2/train/mask/_09_g_2_33.png  \n",
            "  inflating: hrf_512_512_dice_loss_hvr_0_3_feb_3/split_2/train/mask/_14_dr_3_31.png  \n",
            "  inflating: hrf_512_512_dice_loss_hvr_0_3_feb_3/split_2/train/mask/_02_dr_1_32.png  \n",
            "  inflating: hrf_512_512_dice_loss_hvr_0_3_feb_3/split_2/train/mask/_04_h_1_17.png  \n",
            "  inflating: hrf_512_512_dice_loss_hvr_0_3_feb_3/split_2/train/mask/_10_g_3_27.png  \n",
            "  inflating: hrf_512_512_dice_loss_hvr_0_3_feb_3/split_2/train/mask/_10_g_0_13.png  \n",
            "  inflating: hrf_512_512_dice_loss_hvr_0_3_feb_3/split_2/train/mask/_05_h_2_0.png  \n",
            "  inflating: hrf_512_512_dice_loss_hvr_0_3_feb_3/split_2/train/mask/_01_dr_2_20.png  \n",
            "  inflating: hrf_512_512_dice_loss_hvr_0_3_feb_3/split_2/train/mask/_04_g_0_10.png  \n",
            "  inflating: hrf_512_512_dice_loss_hvr_0_3_feb_3/split_2/train/mask/_01_h_0_17.png  \n",
            "  inflating: hrf_512_512_dice_loss_hvr_0_3_feb_3/split_2/train/mask/_02_h_0_26.png  \n",
            "  inflating: hrf_512_512_dice_loss_hvr_0_3_feb_3/split_2/train/mask/_13_g_0_31.png  \n",
            "  inflating: hrf_512_512_dice_loss_hvr_0_3_feb_3/split_2/train/mask/_10_dr_0_1.png  \n",
            "  inflating: hrf_512_512_dice_loss_hvr_0_3_feb_3/split_2/train/mask/_04_h_3_15.png  \n",
            "  inflating: hrf_512_512_dice_loss_hvr_0_3_feb_3/split_2/train/mask/_10_g_3_19.png  \n",
            "  inflating: hrf_512_512_dice_loss_hvr_0_3_feb_3/split_2/train/mask/_13_h_0_12.png  \n",
            "  inflating: hrf_512_512_dice_loss_hvr_0_3_feb_3/split_2/train/mask/_03_g_3_7.png  \n",
            "  inflating: hrf_512_512_dice_loss_hvr_0_3_feb_3/split_2/train/mask/_13_g_3_3.png  \n",
            "  inflating: hrf_512_512_dice_loss_hvr_0_3_feb_3/split_2/train/mask/_04_dr_0_17.png  \n",
            "  inflating: hrf_512_512_dice_loss_hvr_0_3_feb_3/split_2/train/mask/_07_dr_2_14.png  \n",
            "  inflating: hrf_512_512_dice_loss_hvr_0_3_feb_3/split_2/train/mask/_14_g_2_0.png  \n",
            "  inflating: hrf_512_512_dice_loss_hvr_0_3_feb_3/split_2/train/mask/_08_h_3_17.png  \n",
            "  inflating: hrf_512_512_dice_loss_hvr_0_3_feb_3/split_2/train/mask/_06_dr_1_21.png  \n",
            "  inflating: hrf_512_512_dice_loss_hvr_0_3_feb_3/split_2/train/mask/_03_dr_2_15.png  \n",
            "  inflating: hrf_512_512_dice_loss_hvr_0_3_feb_3/split_2/train/mask/_03_dr_0_29.png  \n",
            "  inflating: hrf_512_512_dice_loss_hvr_0_3_feb_3/split_2/train/mask/_01_h_1_0.png  \n",
            "  inflating: hrf_512_512_dice_loss_hvr_0_3_feb_3/split_2/train/mask/_12_dr_3_13.png  \n",
            "  inflating: hrf_512_512_dice_loss_hvr_0_3_feb_3/split_2/train/mask/_07_g_3_25.png  \n",
            "  inflating: hrf_512_512_dice_loss_hvr_0_3_feb_3/split_2/train/mask/_15_g_1_0.png  \n",
            "  inflating: hrf_512_512_dice_loss_hvr_0_3_feb_3/split_2/train/mask/_03_dr_0_20.png  \n",
            "  inflating: hrf_512_512_dice_loss_hvr_0_3_feb_3/split_2/train/mask/_09_g_3_26.png  \n",
            "  inflating: hrf_512_512_dice_loss_hvr_0_3_feb_3/split_2/train/mask/_14_h_0_14.png  \n",
            "  inflating: hrf_512_512_dice_loss_hvr_0_3_feb_3/split_2/train/mask/_01_g_0_4.png  \n",
            "  inflating: hrf_512_512_dice_loss_hvr_0_3_feb_3/split_2/train/mask/_01_dr_3_13.png  \n",
            "  inflating: hrf_512_512_dice_loss_hvr_0_3_feb_3/split_2/train/mask/_02_dr_3_25.png  \n",
            "  inflating: hrf_512_512_dice_loss_hvr_0_3_feb_3/split_2/train/mask/_12_dr_0_4.png  \n",
            "  inflating: hrf_512_512_dice_loss_hvr_0_3_feb_3/split_2/train/mask/_07_g_1_20.png  \n",
            "  inflating: hrf_512_512_dice_loss_hvr_0_3_feb_3/split_2/train/mask/_09_h_1_2.png  \n",
            "  inflating: hrf_512_512_dice_loss_hvr_0_3_feb_3/split_2/train/mask/_12_dr_0_13.png  \n",
            "  inflating: hrf_512_512_dice_loss_hvr_0_3_feb_3/split_2/train/mask/_07_g_1_14.png  \n",
            "  inflating: hrf_512_512_dice_loss_hvr_0_3_feb_3/split_2/train/mask/_01_dr_1_31.png  \n",
            "  inflating: hrf_512_512_dice_loss_hvr_0_3_feb_3/split_2/train/mask/_07_dr_0_3.png  \n",
            "  inflating: hrf_512_512_dice_loss_hvr_0_3_feb_3/split_2/train/mask/_15_g_1_19.png  \n",
            "  inflating: hrf_512_512_dice_loss_hvr_0_3_feb_3/split_2/train/mask/_03_g_3_29.png  \n",
            "  inflating: hrf_512_512_dice_loss_hvr_0_3_feb_3/split_2/train/mask/_03_g_3_1.png  \n",
            "  inflating: hrf_512_512_dice_loss_hvr_0_3_feb_3/split_2/train/mask/_07_g_0_25.png  \n",
            "  inflating: hrf_512_512_dice_loss_hvr_0_3_feb_3/split_2/train/mask/_06_h_0_7.png  \n",
            "  inflating: hrf_512_512_dice_loss_hvr_0_3_feb_3/split_2/train/mask/_04_g_0_26.png  \n",
            "  inflating: hrf_512_512_dice_loss_hvr_0_3_feb_3/split_2/train/mask/_05_h_0_18.png  \n",
            "  inflating: hrf_512_512_dice_loss_hvr_0_3_feb_3/split_2/train/mask/_02_h_3_34.png  \n",
            "  inflating: hrf_512_512_dice_loss_hvr_0_3_feb_3/split_2/train/mask/_01_dr_3_15.png  \n",
            "  inflating: hrf_512_512_dice_loss_hvr_0_3_feb_3/split_2/train/mask/_02_dr_3_5.png  \n",
            "  inflating: hrf_512_512_dice_loss_hvr_0_3_feb_3/split_2/train/mask/_03_g_2_1.png  \n",
            "  inflating: hrf_512_512_dice_loss_hvr_0_3_feb_3/split_2/train/mask/_10_g_3_20.png  \n",
            "  inflating: hrf_512_512_dice_loss_hvr_0_3_feb_3/split_2/train/mask/_04_g_3_22.png  \n",
            "  inflating: hrf_512_512_dice_loss_hvr_0_3_feb_3/split_2/train/mask/_09_g_3_31.png  \n",
            "  inflating: hrf_512_512_dice_loss_hvr_0_3_feb_3/split_2/train/mask/_14_dr_1_11.png  \n",
            "  inflating: hrf_512_512_dice_loss_hvr_0_3_feb_3/split_2/train/mask/_14_h_3_32.png  \n",
            "  inflating: hrf_512_512_dice_loss_hvr_0_3_feb_3/split_2/train/mask/_14_g_1_11.png  \n",
            "  inflating: hrf_512_512_dice_loss_hvr_0_3_feb_3/split_2/train/mask/_14_g_1_20.png  \n",
            "  inflating: hrf_512_512_dice_loss_hvr_0_3_feb_3/split_2/train/mask/_10_dr_2_30.png  \n",
            "  inflating: hrf_512_512_dice_loss_hvr_0_3_feb_3/split_2/train/mask/_01_dr_1_30.png  \n",
            "  inflating: hrf_512_512_dice_loss_hvr_0_3_feb_3/split_2/train/mask/_10_g_2_23.png  \n",
            "  inflating: hrf_512_512_dice_loss_hvr_0_3_feb_3/split_2/train/mask/_15_dr_2_3.png  \n",
            "  inflating: hrf_512_512_dice_loss_hvr_0_3_feb_3/split_2/train/mask/_15_dr_1_0.png  \n",
            "  inflating: hrf_512_512_dice_loss_hvr_0_3_feb_3/split_2/train/mask/_13_g_0_14.png  \n",
            "  inflating: hrf_512_512_dice_loss_hvr_0_3_feb_3/split_2/train/mask/_05_h_2_5.png  \n",
            "  inflating: hrf_512_512_dice_loss_hvr_0_3_feb_3/split_2/train/mask/_10_dr_1_8.png  \n",
            "  inflating: hrf_512_512_dice_loss_hvr_0_3_feb_3/split_2/train/mask/_14_g_2_27.png  \n",
            "  inflating: hrf_512_512_dice_loss_hvr_0_3_feb_3/split_2/train/mask/_01_g_0_6.png  \n",
            "  inflating: hrf_512_512_dice_loss_hvr_0_3_feb_3/split_2/train/mask/_10_g_1_2.png  \n",
            "  inflating: hrf_512_512_dice_loss_hvr_0_3_feb_3/split_2/train/mask/_12_dr_2_26.png  \n",
            "  inflating: hrf_512_512_dice_loss_hvr_0_3_feb_3/split_2/train/mask/_09_g_2_30.png  \n",
            "  inflating: hrf_512_512_dice_loss_hvr_0_3_feb_3/split_2/train/mask/_06_h_1_5.png  \n",
            "  inflating: hrf_512_512_dice_loss_hvr_0_3_feb_3/split_2/train/mask/_10_g_1_17.png  \n",
            "  inflating: hrf_512_512_dice_loss_hvr_0_3_feb_3/split_2/train/mask/_14_g_1_22.png  \n",
            "  inflating: hrf_512_512_dice_loss_hvr_0_3_feb_3/split_2/train/mask/_09_dr_2_26.png  \n",
            "  inflating: hrf_512_512_dice_loss_hvr_0_3_feb_3/split_2/train/mask/_07_dr_1_18.png  \n",
            "  inflating: hrf_512_512_dice_loss_hvr_0_3_feb_3/split_2/train/mask/_13_g_0_12.png  \n",
            "  inflating: hrf_512_512_dice_loss_hvr_0_3_feb_3/split_2/train/mask/_01_dr_1_15.png  \n",
            "  inflating: hrf_512_512_dice_loss_hvr_0_3_feb_3/split_2/train/mask/_07_g_3_8.png  \n",
            "  inflating: hrf_512_512_dice_loss_hvr_0_3_feb_3/split_2/train/mask/_01_h_3_21.png  \n",
            "  inflating: hrf_512_512_dice_loss_hvr_0_3_feb_3/split_2/train/mask/_03_g_0_31.png  \n",
            "  inflating: hrf_512_512_dice_loss_hvr_0_3_feb_3/split_2/train/mask/_02_dr_1_25.png  \n",
            "  inflating: hrf_512_512_dice_loss_hvr_0_3_feb_3/split_2/train/mask/_09_dr_2_2.png  \n",
            "  inflating: hrf_512_512_dice_loss_hvr_0_3_feb_3/split_2/train/mask/_10_dr_1_21.png  \n",
            "  inflating: hrf_512_512_dice_loss_hvr_0_3_feb_3/split_2/train/mask/_11_g_1_9.png  \n",
            "  inflating: hrf_512_512_dice_loss_hvr_0_3_feb_3/split_2/train/mask/_14_h_2_1.png  \n",
            "  inflating: hrf_512_512_dice_loss_hvr_0_3_feb_3/split_2/train/mask/_02_dr_1_19.png  \n",
            "  inflating: hrf_512_512_dice_loss_hvr_0_3_feb_3/split_2/train/mask/_03_dr_3_13.png  \n",
            "  inflating: hrf_512_512_dice_loss_hvr_0_3_feb_3/split_2/train/mask/_10_dr_0_13.png  \n",
            "  inflating: hrf_512_512_dice_loss_hvr_0_3_feb_3/split_2/train/mask/_09_h_2_20.png  \n",
            "  inflating: hrf_512_512_dice_loss_hvr_0_3_feb_3/split_2/train/mask/_12_dr_2_29.png  \n",
            "  inflating: hrf_512_512_dice_loss_hvr_0_3_feb_3/split_2/train/mask/_01_dr_0_14.png  \n",
            "  inflating: hrf_512_512_dice_loss_hvr_0_3_feb_3/split_2/train/mask/_14_g_2_17.png  \n",
            "  inflating: hrf_512_512_dice_loss_hvr_0_3_feb_3/split_2/train/mask/_14_g_3_29.png  \n",
            "  inflating: hrf_512_512_dice_loss_hvr_0_3_feb_3/split_2/train/mask/_04_dr_1_16.png  \n",
            "  inflating: hrf_512_512_dice_loss_hvr_0_3_feb_3/split_2/train/mask/_06_dr_0_6.png  \n",
            "  inflating: hrf_512_512_dice_loss_hvr_0_3_feb_3/split_2/train/mask/_01_g_2_12.png  \n",
            "  inflating: hrf_512_512_dice_loss_hvr_0_3_feb_3/split_2/train/mask/_11_g_0_30.png  \n",
            "  inflating: hrf_512_512_dice_loss_hvr_0_3_feb_3/split_2/train/mask/_14_dr_2_8.png  \n",
            "  inflating: hrf_512_512_dice_loss_hvr_0_3_feb_3/split_2/train/mask/_08_h_0_10.png  \n",
            "  inflating: hrf_512_512_dice_loss_hvr_0_3_feb_3/split_2/train/mask/_14_dr_3_5.png  \n",
            "  inflating: hrf_512_512_dice_loss_hvr_0_3_feb_3/split_2/train/mask/_08_h_1_22.png  \n",
            "  inflating: hrf_512_512_dice_loss_hvr_0_3_feb_3/split_2/train/mask/_14_h_3_27.png  \n",
            "  inflating: hrf_512_512_dice_loss_hvr_0_3_feb_3/split_2/train/mask/_05_h_0_6.png  \n",
            "  inflating: hrf_512_512_dice_loss_hvr_0_3_feb_3/split_2/train/mask/_14_g_0_29.png  \n",
            "  inflating: hrf_512_512_dice_loss_hvr_0_3_feb_3/split_2/train/mask/_14_h_0_6.png  \n",
            "  inflating: hrf_512_512_dice_loss_hvr_0_3_feb_3/split_2/train/mask/_14_h_3_26.png  \n",
            "  inflating: hrf_512_512_dice_loss_hvr_0_3_feb_3/split_2/train/mask/_02_h_3_3.png  \n",
            "  inflating: hrf_512_512_dice_loss_hvr_0_3_feb_3/split_2/train/mask/_14_dr_1_15.png  \n",
            "  inflating: hrf_512_512_dice_loss_hvr_0_3_feb_3/split_2/train/mask/_09_g_1_30.png  \n",
            "  inflating: hrf_512_512_dice_loss_hvr_0_3_feb_3/split_2/train/mask/_13_g_3_12.png  \n",
            "  inflating: hrf_512_512_dice_loss_hvr_0_3_feb_3/split_2/train/mask/_15_dr_2_27.png  \n",
            "  inflating: hrf_512_512_dice_loss_hvr_0_3_feb_3/split_2/train/mask/_07_dr_3_5.png  \n",
            "  inflating: hrf_512_512_dice_loss_hvr_0_3_feb_3/split_2/train/mask/_13_g_3_1.png  \n",
            "  inflating: hrf_512_512_dice_loss_hvr_0_3_feb_3/split_2/train/mask/_13_g_1_2.png  \n",
            "  inflating: hrf_512_512_dice_loss_hvr_0_3_feb_3/split_2/train/mask/_08_h_0_5.png  \n",
            "  inflating: hrf_512_512_dice_loss_hvr_0_3_feb_3/split_2/train/mask/_10_g_1_21.png  \n",
            "  inflating: hrf_512_512_dice_loss_hvr_0_3_feb_3/split_2/train/mask/_07_dr_0_2.png  \n",
            "  inflating: hrf_512_512_dice_loss_hvr_0_3_feb_3/split_2/train/mask/_02_dr_3_6.png  \n",
            "  inflating: hrf_512_512_dice_loss_hvr_0_3_feb_3/split_2/train/mask/_04_dr_0_27.png  \n",
            "  inflating: hrf_512_512_dice_loss_hvr_0_3_feb_3/split_2/train/mask/_04_h_0_9.png  \n",
            "  inflating: hrf_512_512_dice_loss_hvr_0_3_feb_3/split_2/train/mask/_02_h_1_32.png  \n",
            "  inflating: hrf_512_512_dice_loss_hvr_0_3_feb_3/split_2/train/mask/_04_g_2_12.png  \n",
            "  inflating: hrf_512_512_dice_loss_hvr_0_3_feb_3/split_2/train/mask/_07_dr_1_9.png  \n",
            "  inflating: hrf_512_512_dice_loss_hvr_0_3_feb_3/split_2/train/mask/_14_g_3_22.png  \n",
            "  inflating: hrf_512_512_dice_loss_hvr_0_3_feb_3/split_2/train/mask/_07_dr_3_31.png  \n",
            "  inflating: hrf_512_512_dice_loss_hvr_0_3_feb_3/split_2/train/mask/_06_h_2_10.png  \n",
            "  inflating: hrf_512_512_dice_loss_hvr_0_3_feb_3/split_2/train/mask/_02_dr_3_18.png  \n",
            "  inflating: hrf_512_512_dice_loss_hvr_0_3_feb_3/split_2/train/mask/_07_dr_0_27.png  \n",
            "  inflating: hrf_512_512_dice_loss_hvr_0_3_feb_3/split_2/train/mask/_07_h_3_27.png  \n",
            "  inflating: hrf_512_512_dice_loss_hvr_0_3_feb_3/split_2/train/mask/_07_h_3_30.png  \n",
            "  inflating: hrf_512_512_dice_loss_hvr_0_3_feb_3/split_2/train/mask/_05_h_2_28.png  \n",
            "  inflating: hrf_512_512_dice_loss_hvr_0_3_feb_3/split_2/train/mask/_08_h_2_13.png  \n",
            "  inflating: hrf_512_512_dice_loss_hvr_0_3_feb_3/split_2/train/mask/_01_dr_2_6.png  \n",
            "  inflating: hrf_512_512_dice_loss_hvr_0_3_feb_3/split_2/train/mask/_15_g_1_10.png  \n",
            "  inflating: hrf_512_512_dice_loss_hvr_0_3_feb_3/split_2/train/mask/_09_dr_2_25.png  \n",
            "  inflating: hrf_512_512_dice_loss_hvr_0_3_feb_3/split_2/train/mask/_12_dr_1_23.png  \n",
            "  inflating: hrf_512_512_dice_loss_hvr_0_3_feb_3/split_2/train/mask/_04_h_0_31.png  \n",
            "  inflating: hrf_512_512_dice_loss_hvr_0_3_feb_3/split_2/train/mask/_14_g_3_3.png  \n",
            "  inflating: hrf_512_512_dice_loss_hvr_0_3_feb_3/split_2/train/mask/_13_g_2_30.png  \n",
            "  inflating: hrf_512_512_dice_loss_hvr_0_3_feb_3/split_2/train/mask/_05_h_1_24.png  \n",
            "  inflating: hrf_512_512_dice_loss_hvr_0_3_feb_3/split_2/train/mask/_13_h_0_22.png  \n",
            "  inflating: hrf_512_512_dice_loss_hvr_0_3_feb_3/split_2/train/mask/_10_dr_0_9.png  \n",
            "  inflating: hrf_512_512_dice_loss_hvr_0_3_feb_3/split_2/train/mask/_14_g_1_0.png  \n",
            "  inflating: hrf_512_512_dice_loss_hvr_0_3_feb_3/split_2/train/mask/_10_dr_2_34.png  \n",
            "  inflating: hrf_512_512_dice_loss_hvr_0_3_feb_3/split_2/train/mask/_12_dr_2_20.png  \n",
            "  inflating: hrf_512_512_dice_loss_hvr_0_3_feb_3/split_2/train/mask/_03_dr_1_17.png  \n",
            "  inflating: hrf_512_512_dice_loss_hvr_0_3_feb_3/split_2/train/mask/_05_h_0_20.png  \n",
            "  inflating: hrf_512_512_dice_loss_hvr_0_3_feb_3/split_2/train/mask/_01_g_2_33.png  \n",
            "  inflating: hrf_512_512_dice_loss_hvr_0_3_feb_3/split_2/train/mask/_13_g_3_19.png  \n",
            "  inflating: hrf_512_512_dice_loss_hvr_0_3_feb_3/split_2/train/mask/_07_h_2_6.png  \n",
            "  inflating: hrf_512_512_dice_loss_hvr_0_3_feb_3/split_2/train/mask/_01_dr_0_6.png  \n",
            "  inflating: hrf_512_512_dice_loss_hvr_0_3_feb_3/split_2/train/mask/_07_g_2_2.png  \n",
            "  inflating: hrf_512_512_dice_loss_hvr_0_3_feb_3/split_2/train/mask/_15_dr_2_7.png  \n",
            "  inflating: hrf_512_512_dice_loss_hvr_0_3_feb_3/split_2/train/mask/_04_h_3_3.png  \n",
            "  inflating: hrf_512_512_dice_loss_hvr_0_3_feb_3/split_2/train/mask/_09_dr_2_32.png  \n",
            "  inflating: hrf_512_512_dice_loss_hvr_0_3_feb_3/split_2/train/mask/_10_dr_0_12.png  \n",
            "  inflating: hrf_512_512_dice_loss_hvr_0_3_feb_3/split_2/train/mask/_03_dr_3_8.png  \n",
            "  inflating: hrf_512_512_dice_loss_hvr_0_3_feb_3/split_2/train/mask/_13_h_1_24.png  \n",
            "  inflating: hrf_512_512_dice_loss_hvr_0_3_feb_3/split_2/train/mask/_03_g_2_18.png  \n",
            "  inflating: hrf_512_512_dice_loss_hvr_0_3_feb_3/split_2/train/mask/_11_g_3_17.png  \n",
            "  inflating: hrf_512_512_dice_loss_hvr_0_3_feb_3/split_2/train/mask/_06_dr_0_19.png  \n",
            "  inflating: hrf_512_512_dice_loss_hvr_0_3_feb_3/split_2/train/mask/_09_dr_1_24.png  \n",
            "  inflating: hrf_512_512_dice_loss_hvr_0_3_feb_3/split_2/train/mask/_09_g_2_29.png  \n",
            "  inflating: hrf_512_512_dice_loss_hvr_0_3_feb_3/split_2/train/mask/_04_dr_2_31.png  \n",
            "  inflating: hrf_512_512_dice_loss_hvr_0_3_feb_3/split_2/train/mask/_03_dr_3_26.png  \n",
            "  inflating: hrf_512_512_dice_loss_hvr_0_3_feb_3/split_2/train/mask/_06_h_0_10.png  \n",
            "  inflating: hrf_512_512_dice_loss_hvr_0_3_feb_3/split_2/train/mask/_13_h_1_19.png  \n",
            "  inflating: hrf_512_512_dice_loss_hvr_0_3_feb_3/split_2/train/mask/_04_g_2_5.png  \n",
            "  inflating: hrf_512_512_dice_loss_hvr_0_3_feb_3/split_2/train/mask/_15_dr_3_24.png  \n",
            "  inflating: hrf_512_512_dice_loss_hvr_0_3_feb_3/split_2/train/mask/_07_h_0_34.png  \n",
            "  inflating: hrf_512_512_dice_loss_hvr_0_3_feb_3/split_2/train/mask/_06_dr_0_2.png  \n",
            "  inflating: hrf_512_512_dice_loss_hvr_0_3_feb_3/split_2/train/mask/_01_dr_0_23.png  \n",
            "  inflating: hrf_512_512_dice_loss_hvr_0_3_feb_3/split_2/train/mask/_09_h_0_6.png  \n",
            "  inflating: hrf_512_512_dice_loss_hvr_0_3_feb_3/split_2/train/mask/_14_h_2_2.png  \n",
            "  inflating: hrf_512_512_dice_loss_hvr_0_3_feb_3/split_2/train/mask/_07_h_0_22.png  \n",
            "  inflating: hrf_512_512_dice_loss_hvr_0_3_feb_3/split_2/train/mask/_01_dr_2_5.png  \n",
            "  inflating: hrf_512_512_dice_loss_hvr_0_3_feb_3/split_2/train/mask/_10_dr_0_17.png  \n",
            "  inflating: hrf_512_512_dice_loss_hvr_0_3_feb_3/split_2/train/mask/_01_g_1_27.png  \n",
            "  inflating: hrf_512_512_dice_loss_hvr_0_3_feb_3/split_2/train/mask/_03_dr_1_2.png  \n",
            "  inflating: hrf_512_512_dice_loss_hvr_0_3_feb_3/split_2/train/mask/_02_dr_2_16.png  \n",
            "  inflating: hrf_512_512_dice_loss_hvr_0_3_feb_3/split_2/train/mask/_02_dr_0_29.png  \n",
            "  inflating: hrf_512_512_dice_loss_hvr_0_3_feb_3/split_2/train/mask/_12_dr_3_17.png  \n",
            "  inflating: hrf_512_512_dice_loss_hvr_0_3_feb_3/split_2/train/mask/_04_dr_3_9.png  \n",
            "  inflating: hrf_512_512_dice_loss_hvr_0_3_feb_3/split_2/train/mask/_05_h_2_8.png  \n",
            "  inflating: hrf_512_512_dice_loss_hvr_0_3_feb_3/split_2/train/mask/_13_h_2_11.png  \n",
            "  inflating: hrf_512_512_dice_loss_hvr_0_3_feb_3/split_2/train/mask/_09_h_2_22.png  \n",
            "  inflating: hrf_512_512_dice_loss_hvr_0_3_feb_3/split_2/train/mask/_03_dr_1_29.png  \n",
            "  inflating: hrf_512_512_dice_loss_hvr_0_3_feb_3/split_2/train/mask/_09_h_1_9.png  \n",
            "  inflating: hrf_512_512_dice_loss_hvr_0_3_feb_3/split_2/train/mask/_07_h_1_34.png  \n",
            "  inflating: hrf_512_512_dice_loss_hvr_0_3_feb_3/split_2/train/mask/_10_dr_0_25.png  \n",
            "  inflating: hrf_512_512_dice_loss_hvr_0_3_feb_3/split_2/train/mask/_12_dr_0_17.png  \n",
            "  inflating: hrf_512_512_dice_loss_hvr_0_3_feb_3/split_2/train/mask/_02_h_3_5.png  \n",
            "  inflating: hrf_512_512_dice_loss_hvr_0_3_feb_3/split_2/train/mask/_07_g_2_16.png  \n",
            "  inflating: hrf_512_512_dice_loss_hvr_0_3_feb_3/split_2/train/mask/_14_dr_0_31.png  \n",
            "  inflating: hrf_512_512_dice_loss_hvr_0_3_feb_3/split_2/train/mask/_13_g_2_20.png  \n",
            "  inflating: hrf_512_512_dice_loss_hvr_0_3_feb_3/split_2/train/mask/_13_h_3_1.png  \n",
            "  inflating: hrf_512_512_dice_loss_hvr_0_3_feb_3/split_2/train/mask/_14_g_3_26.png  \n",
            "  inflating: hrf_512_512_dice_loss_hvr_0_3_feb_3/split_2/train/mask/_01_g_0_27.png  \n",
            "  inflating: hrf_512_512_dice_loss_hvr_0_3_feb_3/split_2/train/mask/_07_dr_3_19.png  \n",
            "  inflating: hrf_512_512_dice_loss_hvr_0_3_feb_3/split_2/train/mask/_15_dr_2_20.png  \n",
            "  inflating: hrf_512_512_dice_loss_hvr_0_3_feb_3/split_2/train/mask/_05_h_0_4.png  \n",
            "  inflating: hrf_512_512_dice_loss_hvr_0_3_feb_3/split_2/train/mask/_14_g_3_31.png  \n",
            "  inflating: hrf_512_512_dice_loss_hvr_0_3_feb_3/split_2/train/mask/_09_h_2_1.png  \n",
            "  inflating: hrf_512_512_dice_loss_hvr_0_3_feb_3/split_2/train/mask/_14_dr_2_16.png  \n",
            "  inflating: hrf_512_512_dice_loss_hvr_0_3_feb_3/split_2/train/mask/_04_g_2_6.png  \n",
            "  inflating: hrf_512_512_dice_loss_hvr_0_3_feb_3/split_2/train/mask/_15_g_0_13.png  \n",
            "  inflating: hrf_512_512_dice_loss_hvr_0_3_feb_3/split_2/train/mask/_06_dr_2_7.png  \n",
            "  inflating: hrf_512_512_dice_loss_hvr_0_3_feb_3/split_2/train/mask/_02_dr_2_5.png  \n",
            "  inflating: hrf_512_512_dice_loss_hvr_0_3_feb_3/split_2/train/mask/_07_h_3_18.png  \n",
            "  inflating: hrf_512_512_dice_loss_hvr_0_3_feb_3/split_2/train/mask/_14_h_1_24.png  \n",
            "  inflating: hrf_512_512_dice_loss_hvr_0_3_feb_3/split_2/train/mask/_07_h_1_15.png  \n",
            "  inflating: hrf_512_512_dice_loss_hvr_0_3_feb_3/split_2/train/mask/_01_g_2_23.png  \n",
            "  inflating: hrf_512_512_dice_loss_hvr_0_3_feb_3/split_2/train/mask/_02_h_2_30.png  \n",
            "  inflating: hrf_512_512_dice_loss_hvr_0_3_feb_3/split_2/train/mask/_09_h_0_21.png  \n",
            "  inflating: hrf_512_512_dice_loss_hvr_0_3_feb_3/split_2/train/mask/_12_dr_3_32.png  \n",
            "  inflating: hrf_512_512_dice_loss_hvr_0_3_feb_3/split_2/train/mask/_01_g_0_31.png  \n",
            "  inflating: hrf_512_512_dice_loss_hvr_0_3_feb_3/split_2/train/mask/_07_dr_3_10.png  \n",
            "  inflating: hrf_512_512_dice_loss_hvr_0_3_feb_3/split_2/train/mask/_04_g_3_28.png  \n",
            "  inflating: hrf_512_512_dice_loss_hvr_0_3_feb_3/split_2/train/mask/_09_h_2_29.png  \n",
            "  inflating: hrf_512_512_dice_loss_hvr_0_3_feb_3/split_2/train/mask/_08_h_1_21.png  \n",
            "  inflating: hrf_512_512_dice_loss_hvr_0_3_feb_3/split_2/train/mask/_03_g_1_8.png  \n",
            "  inflating: hrf_512_512_dice_loss_hvr_0_3_feb_3/split_2/train/mask/_02_h_3_8.png  \n",
            "  inflating: hrf_512_512_dice_loss_hvr_0_3_feb_3/split_2/train/mask/_04_h_1_25.png  \n",
            "  inflating: hrf_512_512_dice_loss_hvr_0_3_feb_3/split_2/train/mask/_12_dr_0_8.png  \n",
            "  inflating: hrf_512_512_dice_loss_hvr_0_3_feb_3/split_2/train/mask/_14_g_2_15.png  \n",
            "  inflating: hrf_512_512_dice_loss_hvr_0_3_feb_3/split_2/train/mask/_12_dr_1_11.png  \n",
            "  inflating: hrf_512_512_dice_loss_hvr_0_3_feb_3/split_2/train/mask/_05_h_2_19.png  \n",
            "  inflating: hrf_512_512_dice_loss_hvr_0_3_feb_3/split_2/train/mask/_10_dr_0_19.png  \n",
            "  inflating: hrf_512_512_dice_loss_hvr_0_3_feb_3/split_2/train/mask/_12_dr_3_12.png  \n",
            "  inflating: hrf_512_512_dice_loss_hvr_0_3_feb_3/split_2/train/mask/_11_g_2_6.png  \n",
            "  inflating: hrf_512_512_dice_loss_hvr_0_3_feb_3/split_2/train/mask/_06_h_1_3.png  \n",
            "  inflating: hrf_512_512_dice_loss_hvr_0_3_feb_3/split_2/train/mask/_07_dr_2_19.png  \n",
            "  inflating: hrf_512_512_dice_loss_hvr_0_3_feb_3/split_2/train/mask/_09_dr_2_15.png  \n",
            "  inflating: hrf_512_512_dice_loss_hvr_0_3_feb_3/split_2/train/mask/_04_dr_0_31.png  \n",
            "  inflating: hrf_512_512_dice_loss_hvr_0_3_feb_3/split_2/train/mask/_10_g_3_30.png  \n",
            "  inflating: hrf_512_512_dice_loss_hvr_0_3_feb_3/split_2/train/mask/_14_dr_1_14.png  \n",
            "  inflating: hrf_512_512_dice_loss_hvr_0_3_feb_3/split_2/train/mask/_15_g_1_29.png  \n",
            "  inflating: hrf_512_512_dice_loss_hvr_0_3_feb_3/split_2/train/mask/_02_dr_1_0.png  \n",
            "  inflating: hrf_512_512_dice_loss_hvr_0_3_feb_3/split_2/train/mask/_08_h_2_31.png  \n",
            "  inflating: hrf_512_512_dice_loss_hvr_0_3_feb_3/split_2/train/mask/_11_g_3_7.png  \n",
            "  inflating: hrf_512_512_dice_loss_hvr_0_3_feb_3/split_2/train/mask/_03_dr_2_23.png  \n",
            "  inflating: hrf_512_512_dice_loss_hvr_0_3_feb_3/split_2/train/mask/_09_dr_3_29.png  \n",
            "  inflating: hrf_512_512_dice_loss_hvr_0_3_feb_3/split_2/train/mask/_09_dr_2_33.png  \n",
            "  inflating: hrf_512_512_dice_loss_hvr_0_3_feb_3/split_2/train/mask/_03_dr_2_6.png  \n",
            "  inflating: hrf_512_512_dice_loss_hvr_0_3_feb_3/split_2/train/mask/_11_g_2_16.png  \n",
            "  inflating: hrf_512_512_dice_loss_hvr_0_3_feb_3/split_2/train/mask/_07_dr_3_4.png  \n",
            "  inflating: hrf_512_512_dice_loss_hvr_0_3_feb_3/split_2/train/mask/_09_g_3_7.png  \n",
            "  inflating: hrf_512_512_dice_loss_hvr_0_3_feb_3/split_2/train/mask/_06_dr_1_23.png  \n",
            "  inflating: hrf_512_512_dice_loss_hvr_0_3_feb_3/split_2/train/mask/_04_g_1_8.png  \n",
            "  inflating: hrf_512_512_dice_loss_hvr_0_3_feb_3/split_2/train/mask/_04_h_3_22.png  \n",
            "  inflating: hrf_512_512_dice_loss_hvr_0_3_feb_3/split_2/train/mask/_14_h_0_21.png  \n",
            "  inflating: hrf_512_512_dice_loss_hvr_0_3_feb_3/split_2/train/mask/_14_h_1_18.png  \n",
            "  inflating: hrf_512_512_dice_loss_hvr_0_3_feb_3/split_2/train/mask/_04_g_1_15.png  \n",
            "  inflating: hrf_512_512_dice_loss_hvr_0_3_feb_3/split_2/train/mask/_02_h_1_22.png  \n",
            "  inflating: hrf_512_512_dice_loss_hvr_0_3_feb_3/split_2/train/mask/_12_dr_0_2.png  \n",
            "  inflating: hrf_512_512_dice_loss_hvr_0_3_feb_3/split_2/train/mask/_09_dr_2_7.png  \n",
            "  inflating: hrf_512_512_dice_loss_hvr_0_3_feb_3/split_2/train/mask/_04_dr_1_6.png  \n",
            "  inflating: hrf_512_512_dice_loss_hvr_0_3_feb_3/split_2/train/mask/_14_dr_2_29.png  \n",
            "  inflating: hrf_512_512_dice_loss_hvr_0_3_feb_3/split_2/train/mask/_08_h_2_12.png  \n",
            "  inflating: hrf_512_512_dice_loss_hvr_0_3_feb_3/split_2/train/mask/_09_g_1_19.png  \n",
            "  inflating: hrf_512_512_dice_loss_hvr_0_3_feb_3/split_2/train/mask/_15_dr_3_0.png  \n",
            "  inflating: hrf_512_512_dice_loss_hvr_0_3_feb_3/split_2/train/mask/_12_dr_0_22.png  \n",
            "  inflating: hrf_512_512_dice_loss_hvr_0_3_feb_3/split_2/train/mask/_09_dr_3_26.png  \n",
            "  inflating: hrf_512_512_dice_loss_hvr_0_3_feb_3/split_2/train/mask/_15_g_1_18.png  \n",
            "  inflating: hrf_512_512_dice_loss_hvr_0_3_feb_3/split_2/train/mask/_09_h_0_8.png  \n",
            "  inflating: hrf_512_512_dice_loss_hvr_0_3_feb_3/split_2/train/mask/_10_g_1_10.png  \n",
            "  inflating: hrf_512_512_dice_loss_hvr_0_3_feb_3/split_2/train/mask/_06_dr_2_3.png  \n",
            "  inflating: hrf_512_512_dice_loss_hvr_0_3_feb_3/split_2/train/mask/_09_h_2_14.png  \n",
            "  inflating: hrf_512_512_dice_loss_hvr_0_3_feb_3/split_2/train/mask/_02_h_0_25.png  \n",
            "  inflating: hrf_512_512_dice_loss_hvr_0_3_feb_3/split_2/train/mask/_13_g_0_29.png  \n",
            "  inflating: hrf_512_512_dice_loss_hvr_0_3_feb_3/split_2/train/mask/_06_dr_0_34.png  \n",
            "  inflating: hrf_512_512_dice_loss_hvr_0_3_feb_3/split_2/train/mask/_15_g_3_22.png  \n",
            "  inflating: hrf_512_512_dice_loss_hvr_0_3_feb_3/split_2/train/mask/_06_h_1_7.png  \n",
            "  inflating: hrf_512_512_dice_loss_hvr_0_3_feb_3/split_2/train/mask/_10_dr_3_28.png  \n",
            "  inflating: hrf_512_512_dice_loss_hvr_0_3_feb_3/split_2/train/mask/_15_dr_1_5.png  \n",
            "  inflating: hrf_512_512_dice_loss_hvr_0_3_feb_3/split_2/train/mask/_10_dr_2_33.png  \n",
            "  inflating: hrf_512_512_dice_loss_hvr_0_3_feb_3/split_2/train/mask/_09_h_0_7.png  \n",
            "  inflating: hrf_512_512_dice_loss_hvr_0_3_feb_3/split_2/train/mask/_13_g_0_34.png  \n",
            "  inflating: hrf_512_512_dice_loss_hvr_0_3_feb_3/split_2/train/mask/_02_h_1_3.png  \n",
            "  inflating: hrf_512_512_dice_loss_hvr_0_3_feb_3/split_2/train/mask/_02_dr_3_12.png  \n",
            "  inflating: hrf_512_512_dice_loss_hvr_0_3_feb_3/split_2/train/mask/_06_h_1_16.png  \n",
            "  inflating: hrf_512_512_dice_loss_hvr_0_3_feb_3/split_2/train/mask/_15_dr_1_34.png  \n",
            "  inflating: hrf_512_512_dice_loss_hvr_0_3_feb_3/split_2/train/mask/_01_h_1_24.png  \n",
            "  inflating: hrf_512_512_dice_loss_hvr_0_3_feb_3/split_2/train/mask/_15_g_2_33.png  \n",
            "  inflating: hrf_512_512_dice_loss_hvr_0_3_feb_3/split_2/train/mask/_12_dr_1_28.png  \n",
            "  inflating: hrf_512_512_dice_loss_hvr_0_3_feb_3/split_2/train/mask/_13_h_2_14.png  \n",
            "  inflating: hrf_512_512_dice_loss_hvr_0_3_feb_3/split_2/train/mask/_06_dr_1_29.png  \n",
            "  inflating: hrf_512_512_dice_loss_hvr_0_3_feb_3/split_2/train/mask/_15_g_3_33.png  \n",
            "  inflating: hrf_512_512_dice_loss_hvr_0_3_feb_3/split_2/train/mask/_04_h_1_19.png  \n",
            "  inflating: hrf_512_512_dice_loss_hvr_0_3_feb_3/split_2/train/mask/_13_h_2_12.png  \n",
            "  inflating: hrf_512_512_dice_loss_hvr_0_3_feb_3/split_2/train/mask/_11_g_0_14.png  \n",
            "  inflating: hrf_512_512_dice_loss_hvr_0_3_feb_3/split_2/train/mask/_04_h_1_15.png  \n",
            "  inflating: hrf_512_512_dice_loss_hvr_0_3_feb_3/split_2/train/mask/_07_g_0_1.png  \n",
            "  inflating: hrf_512_512_dice_loss_hvr_0_3_feb_3/split_2/train/mask/_08_h_1_5.png  \n",
            "  inflating: hrf_512_512_dice_loss_hvr_0_3_feb_3/split_2/train/mask/_13_h_2_22.png  \n",
            "  inflating: hrf_512_512_dice_loss_hvr_0_3_feb_3/split_2/train/mask/_03_dr_1_18.png  \n",
            "  inflating: hrf_512_512_dice_loss_hvr_0_3_feb_3/split_2/train/mask/_04_h_1_27.png  \n",
            "  inflating: hrf_512_512_dice_loss_hvr_0_3_feb_3/split_2/train/mask/_06_h_2_24.png  \n",
            "  inflating: hrf_512_512_dice_loss_hvr_0_3_feb_3/split_2/train/mask/_03_g_3_10.png  \n",
            "  inflating: hrf_512_512_dice_loss_hvr_0_3_feb_3/split_2/train/mask/_06_h_1_31.png  \n",
            "  inflating: hrf_512_512_dice_loss_hvr_0_3_feb_3/split_2/train/mask/_04_h_3_21.png  \n",
            "  inflating: hrf_512_512_dice_loss_hvr_0_3_feb_3/split_2/train/mask/_13_h_0_10.png  \n",
            "  inflating: hrf_512_512_dice_loss_hvr_0_3_feb_3/split_2/train/mask/_04_dr_2_33.png  \n",
            "  inflating: hrf_512_512_dice_loss_hvr_0_3_feb_3/split_2/train/mask/_06_h_3_0.png  \n",
            "  inflating: hrf_512_512_dice_loss_hvr_0_3_feb_3/split_2/train/mask/_14_g_0_31.png  \n",
            "  inflating: hrf_512_512_dice_loss_hvr_0_3_feb_3/split_2/train/mask/_05_h_1_19.png  \n",
            "  inflating: hrf_512_512_dice_loss_hvr_0_3_feb_3/split_2/train/mask/_14_h_2_28.png  \n",
            "  inflating: hrf_512_512_dice_loss_hvr_0_3_feb_3/split_2/train/mask/_13_g_1_27.png  \n",
            "  inflating: hrf_512_512_dice_loss_hvr_0_3_feb_3/split_2/train/mask/_01_h_0_11.png  \n",
            "  inflating: hrf_512_512_dice_loss_hvr_0_3_feb_3/split_2/train/mask/_04_dr_3_24.png  \n",
            "  inflating: hrf_512_512_dice_loss_hvr_0_3_feb_3/split_2/train/mask/_04_dr_3_26.png  \n",
            "  inflating: hrf_512_512_dice_loss_hvr_0_3_feb_3/split_2/train/mask/_06_h_0_27.png  \n",
            "  inflating: hrf_512_512_dice_loss_hvr_0_3_feb_3/split_2/train/mask/_10_dr_1_12.png  \n",
            "  inflating: hrf_512_512_dice_loss_hvr_0_3_feb_3/split_2/train/mask/_01_g_3_17.png  \n",
            "  inflating: hrf_512_512_dice_loss_hvr_0_3_feb_3/split_2/train/mask/_10_g_2_6.png  \n",
            "  inflating: hrf_512_512_dice_loss_hvr_0_3_feb_3/split_2/train/mask/_14_g_3_5.png  \n",
            "  inflating: hrf_512_512_dice_loss_hvr_0_3_feb_3/split_2/train/mask/_09_dr_2_9.png  \n",
            "  inflating: hrf_512_512_dice_loss_hvr_0_3_feb_3/split_2/train/mask/_05_h_3_33.png  \n",
            "  inflating: hrf_512_512_dice_loss_hvr_0_3_feb_3/split_2/train/mask/_09_g_3_13.png  \n",
            "  inflating: hrf_512_512_dice_loss_hvr_0_3_feb_3/split_2/train/mask/_09_h_0_4.png  \n",
            "  inflating: hrf_512_512_dice_loss_hvr_0_3_feb_3/split_2/train/mask/_07_h_3_8.png  \n",
            "  inflating: hrf_512_512_dice_loss_hvr_0_3_feb_3/split_2/train/mask/_05_h_3_25.png  \n",
            "  inflating: hrf_512_512_dice_loss_hvr_0_3_feb_3/split_2/train/mask/_01_h_1_31.png  \n",
            "  inflating: hrf_512_512_dice_loss_hvr_0_3_feb_3/split_2/train/mask/_09_dr_0_33.png  \n",
            "  inflating: hrf_512_512_dice_loss_hvr_0_3_feb_3/split_2/train/mask/_05_h_2_34.png  \n",
            "  inflating: hrf_512_512_dice_loss_hvr_0_3_feb_3/split_2/train/mask/_03_dr_1_16.png  \n",
            "  inflating: hrf_512_512_dice_loss_hvr_0_3_feb_3/split_2/train/mask/_12_dr_1_3.png  \n",
            "  inflating: hrf_512_512_dice_loss_hvr_0_3_feb_3/split_2/train/mask/_14_g_1_13.png  \n",
            "  inflating: hrf_512_512_dice_loss_hvr_0_3_feb_3/split_2/train/mask/_14_g_0_11.png  \n",
            "  inflating: hrf_512_512_dice_loss_hvr_0_3_feb_3/split_2/train/mask/_01_g_0_0.png  \n",
            "  inflating: hrf_512_512_dice_loss_hvr_0_3_feb_3/split_2/train/mask/_06_h_0_20.png  \n",
            "  inflating: hrf_512_512_dice_loss_hvr_0_3_feb_3/split_2/train/mask/_10_g_0_20.png  \n",
            "  inflating: hrf_512_512_dice_loss_hvr_0_3_feb_3/split_2/train/mask/_10_dr_0_34.png  \n",
            "  inflating: hrf_512_512_dice_loss_hvr_0_3_feb_3/split_2/train/mask/_03_dr_3_25.png  \n",
            "  inflating: hrf_512_512_dice_loss_hvr_0_3_feb_3/split_2/train/mask/_04_h_3_17.png  \n",
            "  inflating: hrf_512_512_dice_loss_hvr_0_3_feb_3/split_2/train/mask/_04_g_1_27.png  \n",
            "  inflating: hrf_512_512_dice_loss_hvr_0_3_feb_3/split_2/train/mask/_03_dr_1_6.png  \n",
            "  inflating: hrf_512_512_dice_loss_hvr_0_3_feb_3/split_2/train/mask/_09_g_3_27.png  \n",
            "  inflating: hrf_512_512_dice_loss_hvr_0_3_feb_3/split_2/train/mask/_03_g_2_11.png  \n",
            "  inflating: hrf_512_512_dice_loss_hvr_0_3_feb_3/split_2/train/mask/_10_dr_2_31.png  \n",
            "  inflating: hrf_512_512_dice_loss_hvr_0_3_feb_3/split_2/train/mask/_01_h_2_0.png  \n",
            "  inflating: hrf_512_512_dice_loss_hvr_0_3_feb_3/split_2/train/mask/_09_h_0_2.png  \n",
            "  inflating: hrf_512_512_dice_loss_hvr_0_3_feb_3/split_2/train/mask/_02_dr_1_31.png  \n",
            "  inflating: hrf_512_512_dice_loss_hvr_0_3_feb_3/split_2/train/mask/_02_h_1_7.png  \n",
            "  inflating: hrf_512_512_dice_loss_hvr_0_3_feb_3/split_2/train/mask/_14_g_0_10.png  \n",
            "  inflating: hrf_512_512_dice_loss_hvr_0_3_feb_3/split_2/train/mask/_02_h_0_8.png  \n",
            "  inflating: hrf_512_512_dice_loss_hvr_0_3_feb_3/split_2/train/mask/_04_g_1_9.png  \n",
            "  inflating: hrf_512_512_dice_loss_hvr_0_3_feb_3/split_2/train/mask/_04_h_1_26.png  \n",
            "  inflating: hrf_512_512_dice_loss_hvr_0_3_feb_3/split_2/train/mask/_10_g_0_23.png  \n",
            "  inflating: hrf_512_512_dice_loss_hvr_0_3_feb_3/split_2/train/mask/_14_g_1_8.png  \n",
            "  inflating: hrf_512_512_dice_loss_hvr_0_3_feb_3/split_2/train/mask/_14_h_3_23.png  \n",
            "  inflating: hrf_512_512_dice_loss_hvr_0_3_feb_3/split_2/train/mask/_03_dr_3_30.png  \n",
            "  inflating: hrf_512_512_dice_loss_hvr_0_3_feb_3/split_2/train/mask/_08_h_3_24.png  \n",
            "  inflating: hrf_512_512_dice_loss_hvr_0_3_feb_3/split_2/train/mask/_01_g_3_12.png  \n",
            "  inflating: hrf_512_512_dice_loss_hvr_0_3_feb_3/split_2/train/mask/_02_dr_2_1.png  \n",
            "  inflating: hrf_512_512_dice_loss_hvr_0_3_feb_3/split_2/train/mask/_08_h_2_2.png  \n",
            "  inflating: hrf_512_512_dice_loss_hvr_0_3_feb_3/split_2/train/mask/_08_h_2_8.png  \n",
            "  inflating: hrf_512_512_dice_loss_hvr_0_3_feb_3/split_2/train/mask/_11_g_1_17.png  \n",
            "  inflating: hrf_512_512_dice_loss_hvr_0_3_feb_3/split_2/train/mask/_02_h_0_33.png  \n",
            "  inflating: hrf_512_512_dice_loss_hvr_0_3_feb_3/split_2/train/mask/_02_dr_2_28.png  \n",
            "  inflating: hrf_512_512_dice_loss_hvr_0_3_feb_3/split_2/train/mask/_15_g_2_25.png  \n",
            "  inflating: hrf_512_512_dice_loss_hvr_0_3_feb_3/split_2/train/mask/_15_g_2_11.png  \n",
            "  inflating: hrf_512_512_dice_loss_hvr_0_3_feb_3/split_2/train/mask/_07_g_1_17.png  \n",
            "  inflating: hrf_512_512_dice_loss_hvr_0_3_feb_3/split_2/train/mask/_09_dr_0_29.png  \n",
            "  inflating: hrf_512_512_dice_loss_hvr_0_3_feb_3/split_2/train/mask/_14_g_1_5.png  \n",
            "  inflating: hrf_512_512_dice_loss_hvr_0_3_feb_3/split_2/train/mask/_14_g_1_21.png  \n",
            "  inflating: hrf_512_512_dice_loss_hvr_0_3_feb_3/split_2/train/mask/_09_h_3_6.png  \n",
            "  inflating: hrf_512_512_dice_loss_hvr_0_3_feb_3/split_2/train/mask/_04_g_2_16.png  \n",
            "  inflating: hrf_512_512_dice_loss_hvr_0_3_feb_3/split_2/train/mask/_07_g_3_34.png  \n",
            "  inflating: hrf_512_512_dice_loss_hvr_0_3_feb_3/split_2/train/mask/_10_g_0_10.png  \n",
            "  inflating: hrf_512_512_dice_loss_hvr_0_3_feb_3/split_2/train/mask/_04_g_3_18.png  \n",
            "  inflating: hrf_512_512_dice_loss_hvr_0_3_feb_3/split_2/train/mask/_03_dr_2_33.png  \n",
            "  inflating: hrf_512_512_dice_loss_hvr_0_3_feb_3/split_2/train/mask/_12_dr_3_8.png  \n",
            "  inflating: hrf_512_512_dice_loss_hvr_0_3_feb_3/split_2/train/mask/_11_g_2_24.png  \n",
            "  inflating: hrf_512_512_dice_loss_hvr_0_3_feb_3/split_2/train/mask/_11_g_0_27.png  \n",
            "  inflating: hrf_512_512_dice_loss_hvr_0_3_feb_3/split_2/train/mask/_15_dr_1_1.png  \n",
            "  inflating: hrf_512_512_dice_loss_hvr_0_3_feb_3/split_2/train/mask/_03_dr_1_3.png  \n",
            "  inflating: hrf_512_512_dice_loss_hvr_0_3_feb_3/split_2/train/mask/_01_h_3_26.png  \n",
            "  inflating: hrf_512_512_dice_loss_hvr_0_3_feb_3/split_2/train/mask/_07_h_0_10.png  \n",
            "  inflating: hrf_512_512_dice_loss_hvr_0_3_feb_3/split_2/train/mask/_06_h_1_6.png  \n",
            "  inflating: hrf_512_512_dice_loss_hvr_0_3_feb_3/split_2/train/mask/_04_g_1_0.png  \n",
            "  inflating: hrf_512_512_dice_loss_hvr_0_3_feb_3/split_2/train/mask/_13_h_2_8.png  \n",
            "  inflating: hrf_512_512_dice_loss_hvr_0_3_feb_3/split_2/train/mask/_07_dr_3_25.png  \n",
            "  inflating: hrf_512_512_dice_loss_hvr_0_3_feb_3/split_2/train/mask/_12_dr_0_18.png  \n",
            "  inflating: hrf_512_512_dice_loss_hvr_0_3_feb_3/split_2/train/mask/_03_dr_3_29.png  \n",
            "  inflating: hrf_512_512_dice_loss_hvr_0_3_feb_3/split_2/train/mask/_04_dr_1_12.png  \n",
            "  inflating: hrf_512_512_dice_loss_hvr_0_3_feb_3/split_2/train/mask/_05_h_1_12.png  \n",
            "  inflating: hrf_512_512_dice_loss_hvr_0_3_feb_3/split_2/train/mask/_07_h_2_23.png  \n",
            "  inflating: hrf_512_512_dice_loss_hvr_0_3_feb_3/split_2/train/mask/_03_g_3_14.png  \n",
            "  inflating: hrf_512_512_dice_loss_hvr_0_3_feb_3/split_2/train/mask/_12_dr_3_31.png  \n",
            "  inflating: hrf_512_512_dice_loss_hvr_0_3_feb_3/split_2/train/mask/_05_h_0_34.png  \n",
            "  inflating: hrf_512_512_dice_loss_hvr_0_3_feb_3/split_2/train/mask/_07_dr_2_16.png  \n",
            "  inflating: hrf_512_512_dice_loss_hvr_0_3_feb_3/split_2/train/mask/_01_dr_1_3.png  \n",
            "  inflating: hrf_512_512_dice_loss_hvr_0_3_feb_3/split_2/train/mask/_07_dr_2_31.png  \n",
            "  inflating: hrf_512_512_dice_loss_hvr_0_3_feb_3/split_2/train/mask/_01_g_2_11.png  \n",
            "  inflating: hrf_512_512_dice_loss_hvr_0_3_feb_3/split_2/train/mask/_14_g_1_33.png  \n",
            "  inflating: hrf_512_512_dice_loss_hvr_0_3_feb_3/split_2/train/mask/_01_dr_3_3.png  \n",
            "  inflating: hrf_512_512_dice_loss_hvr_0_3_feb_3/split_2/train/mask/_15_g_0_26.png  \n",
            "  inflating: hrf_512_512_dice_loss_hvr_0_3_feb_3/split_2/train/mask/_04_dr_3_20.png  \n",
            "  inflating: hrf_512_512_dice_loss_hvr_0_3_feb_3/split_2/train/mask/_09_g_3_15.png  \n",
            "  inflating: hrf_512_512_dice_loss_hvr_0_3_feb_3/split_2/train/mask/_14_g_3_27.png  \n",
            "  inflating: hrf_512_512_dice_loss_hvr_0_3_feb_3/split_2/train/mask/_08_h_2_23.png  \n",
            "  inflating: hrf_512_512_dice_loss_hvr_0_3_feb_3/split_2/train/mask/_03_g_0_19.png  \n",
            "  inflating: hrf_512_512_dice_loss_hvr_0_3_feb_3/split_2/train/mask/_14_g_3_21.png  \n",
            "  inflating: hrf_512_512_dice_loss_hvr_0_3_feb_3/split_2/train/mask/_15_g_1_9.png  \n",
            "  inflating: hrf_512_512_dice_loss_hvr_0_3_feb_3/split_2/train/mask/_03_dr_3_1.png  \n",
            "  inflating: hrf_512_512_dice_loss_hvr_0_3_feb_3/split_2/train/mask/_04_g_3_14.png  \n",
            "  inflating: hrf_512_512_dice_loss_hvr_0_3_feb_3/split_2/train/mask/_07_dr_3_14.png  \n",
            "  inflating: hrf_512_512_dice_loss_hvr_0_3_feb_3/split_2/train/mask/_03_g_2_27.png  \n",
            "  inflating: hrf_512_512_dice_loss_hvr_0_3_feb_3/split_2/train/mask/_10_g_0_29.png  \n",
            "  inflating: hrf_512_512_dice_loss_hvr_0_3_feb_3/split_2/train/mask/_10_dr_3_12.png  \n",
            "  inflating: hrf_512_512_dice_loss_hvr_0_3_feb_3/split_2/train/mask/_15_g_3_2.png  \n",
            "  inflating: hrf_512_512_dice_loss_hvr_0_3_feb_3/split_2/train/mask/_09_h_2_7.png  \n",
            "  inflating: hrf_512_512_dice_loss_hvr_0_3_feb_3/split_2/train/mask/_04_dr_3_25.png  \n",
            "  inflating: hrf_512_512_dice_loss_hvr_0_3_feb_3/split_2/train/mask/_07_dr_1_21.png  \n",
            "  inflating: hrf_512_512_dice_loss_hvr_0_3_feb_3/split_2/train/mask/_06_dr_2_27.png  \n",
            "  inflating: hrf_512_512_dice_loss_hvr_0_3_feb_3/split_2/train/mask/_07_h_0_27.png  \n",
            "  inflating: hrf_512_512_dice_loss_hvr_0_3_feb_3/split_2/train/mask/_07_g_3_12.png  \n",
            "  inflating: hrf_512_512_dice_loss_hvr_0_3_feb_3/split_2/train/mask/_09_g_1_23.png  \n",
            "  inflating: hrf_512_512_dice_loss_hvr_0_3_feb_3/split_2/train/mask/_03_dr_1_22.png  \n",
            "  inflating: hrf_512_512_dice_loss_hvr_0_3_feb_3/split_2/train/mask/_13_g_3_21.png  \n",
            "  inflating: hrf_512_512_dice_loss_hvr_0_3_feb_3/split_2/train/mask/_12_dr_1_17.png  \n",
            "  inflating: hrf_512_512_dice_loss_hvr_0_3_feb_3/split_2/train/mask/_07_g_3_4.png  \n",
            "  inflating: hrf_512_512_dice_loss_hvr_0_3_feb_3/split_2/train/mask/_11_g_1_28.png  \n",
            "  inflating: hrf_512_512_dice_loss_hvr_0_3_feb_3/split_2/train/mask/_09_h_3_23.png  \n",
            "  inflating: hrf_512_512_dice_loss_hvr_0_3_feb_3/split_2/train/mask/_13_g_1_32.png  \n",
            "  inflating: hrf_512_512_dice_loss_hvr_0_3_feb_3/split_2/train/mask/_07_dr_0_17.png  \n",
            "  inflating: hrf_512_512_dice_loss_hvr_0_3_feb_3/split_2/train/mask/_13_h_3_34.png  \n",
            "  inflating: hrf_512_512_dice_loss_hvr_0_3_feb_3/split_2/train/mask/_06_dr_0_33.png  \n",
            "  inflating: hrf_512_512_dice_loss_hvr_0_3_feb_3/split_2/train/mask/_01_dr_2_18.png  \n",
            "  inflating: hrf_512_512_dice_loss_hvr_0_3_feb_3/split_2/train/mask/_07_g_0_7.png  \n",
            "  inflating: hrf_512_512_dice_loss_hvr_0_3_feb_3/split_2/train/mask/_01_dr_3_33.png  \n",
            "  inflating: hrf_512_512_dice_loss_hvr_0_3_feb_3/split_2/train/mask/_13_g_0_19.png  \n",
            "  inflating: hrf_512_512_dice_loss_hvr_0_3_feb_3/split_2/train/mask/_07_h_3_33.png  \n",
            "  inflating: hrf_512_512_dice_loss_hvr_0_3_feb_3/split_2/train/mask/_01_h_3_27.png  \n",
            "  inflating: hrf_512_512_dice_loss_hvr_0_3_feb_3/split_2/train/mask/_03_g_3_25.png  \n",
            "  inflating: hrf_512_512_dice_loss_hvr_0_3_feb_3/split_2/train/mask/_08_h_3_34.png  \n",
            "  inflating: hrf_512_512_dice_loss_hvr_0_3_feb_3/split_2/train/mask/_07_g_2_10.png  \n",
            "  inflating: hrf_512_512_dice_loss_hvr_0_3_feb_3/split_2/train/mask/_04_dr_1_2.png  \n",
            "  inflating: hrf_512_512_dice_loss_hvr_0_3_feb_3/split_2/train/mask/_02_dr_3_34.png  \n",
            "  inflating: hrf_512_512_dice_loss_hvr_0_3_feb_3/split_2/train/mask/_01_g_2_10.png  \n",
            "  inflating: hrf_512_512_dice_loss_hvr_0_3_feb_3/split_2/train/mask/_05_h_0_12.png  \n",
            "  inflating: hrf_512_512_dice_loss_hvr_0_3_feb_3/split_2/train/mask/_03_dr_0_32.png  \n",
            "  inflating: hrf_512_512_dice_loss_hvr_0_3_feb_3/split_2/train/mask/_04_h_1_21.png  \n",
            "  inflating: hrf_512_512_dice_loss_hvr_0_3_feb_3/split_2/train/mask/_05_h_3_34.png  \n",
            "  inflating: hrf_512_512_dice_loss_hvr_0_3_feb_3/split_2/train/mask/_11_g_1_22.png  \n",
            "  inflating: hrf_512_512_dice_loss_hvr_0_3_feb_3/split_2/train/mask/_07_h_0_32.png  \n",
            "  inflating: hrf_512_512_dice_loss_hvr_0_3_feb_3/split_2/train/mask/_09_dr_1_28.png  \n",
            "  inflating: hrf_512_512_dice_loss_hvr_0_3_feb_3/split_2/train/mask/_03_g_0_20.png  \n",
            "  inflating: hrf_512_512_dice_loss_hvr_0_3_feb_3/split_2/train/mask/_15_dr_3_12.png  \n",
            "  inflating: hrf_512_512_dice_loss_hvr_0_3_feb_3/split_2/train/mask/_06_dr_2_31.png  \n",
            "  inflating: hrf_512_512_dice_loss_hvr_0_3_feb_3/split_2/train/mask/_06_h_1_14.png  \n",
            "  inflating: hrf_512_512_dice_loss_hvr_0_3_feb_3/split_2/train/mask/_10_dr_3_24.png  \n",
            "  inflating: hrf_512_512_dice_loss_hvr_0_3_feb_3/split_2/train/mask/_06_h_1_2.png  \n",
            "  inflating: hrf_512_512_dice_loss_hvr_0_3_feb_3/split_2/train/mask/_13_h_0_6.png  \n",
            "  inflating: hrf_512_512_dice_loss_hvr_0_3_feb_3/split_2/train/mask/_14_g_3_15.png  \n",
            "  inflating: hrf_512_512_dice_loss_hvr_0_3_feb_3/split_2/train/mask/_01_g_0_32.png  \n",
            "  inflating: hrf_512_512_dice_loss_hvr_0_3_feb_3/split_2/train/mask/_09_g_3_20.png  \n",
            "  inflating: hrf_512_512_dice_loss_hvr_0_3_feb_3/split_2/train/mask/_03_g_2_3.png  \n",
            "  inflating: hrf_512_512_dice_loss_hvr_0_3_feb_3/split_2/train/mask/_04_h_1_10.png  \n",
            "  inflating: hrf_512_512_dice_loss_hvr_0_3_feb_3/split_2/train/mask/_09_dr_3_22.png  \n",
            "  inflating: hrf_512_512_dice_loss_hvr_0_3_feb_3/split_2/train/mask/_04_h_1_3.png  \n",
            "  inflating: hrf_512_512_dice_loss_hvr_0_3_feb_3/split_2/train/mask/_02_h_0_5.png  \n",
            "  inflating: hrf_512_512_dice_loss_hvr_0_3_feb_3/split_2/train/mask/_14_g_3_10.png  \n",
            "  inflating: hrf_512_512_dice_loss_hvr_0_3_feb_3/split_2/train/mask/_09_g_1_11.png  \n",
            "  inflating: hrf_512_512_dice_loss_hvr_0_3_feb_3/split_2/train/mask/_13_g_0_9.png  \n",
            "  inflating: hrf_512_512_dice_loss_hvr_0_3_feb_3/split_2/train/mask/_12_dr_1_6.png  \n",
            "  inflating: hrf_512_512_dice_loss_hvr_0_3_feb_3/split_2/train/mask/_08_h_2_26.png  \n",
            "  inflating: hrf_512_512_dice_loss_hvr_0_3_feb_3/split_2/train/mask/_03_g_0_8.png  \n",
            "  inflating: hrf_512_512_dice_loss_hvr_0_3_feb_3/split_2/train/mask/_11_g_0_8.png  \n",
            "  inflating: hrf_512_512_dice_loss_hvr_0_3_feb_3/split_2/train/mask/_11_g_2_4.png  \n",
            "  inflating: hrf_512_512_dice_loss_hvr_0_3_feb_3/split_2/train/mask/_06_h_3_28.png  \n",
            "  inflating: hrf_512_512_dice_loss_hvr_0_3_feb_3/split_2/train/mask/_05_h_1_33.png  \n",
            "  inflating: hrf_512_512_dice_loss_hvr_0_3_feb_3/split_2/train/mask/_09_h_2_33.png  \n",
            "  inflating: hrf_512_512_dice_loss_hvr_0_3_feb_3/split_2/train/mask/_01_g_0_15.png  \n",
            "  inflating: hrf_512_512_dice_loss_hvr_0_3_feb_3/split_2/train/mask/_07_h_2_27.png  \n",
            "  inflating: hrf_512_512_dice_loss_hvr_0_3_feb_3/split_2/train/mask/_04_g_0_27.png  \n",
            "  inflating: hrf_512_512_dice_loss_hvr_0_3_feb_3/split_2/train/mask/_04_g_1_20.png  \n",
            "  inflating: hrf_512_512_dice_loss_hvr_0_3_feb_3/split_2/train/mask/_04_g_2_19.png  \n",
            "  inflating: hrf_512_512_dice_loss_hvr_0_3_feb_3/split_2/train/mask/_07_dr_2_20.png  \n",
            "  inflating: hrf_512_512_dice_loss_hvr_0_3_feb_3/split_2/train/mask/_03_dr_2_30.png  \n",
            "  inflating: hrf_512_512_dice_loss_hvr_0_3_feb_3/split_2/train/mask/_14_g_1_30.png  \n",
            "  inflating: hrf_512_512_dice_loss_hvr_0_3_feb_3/split_2/train/mask/_01_g_2_15.png  \n",
            "  inflating: hrf_512_512_dice_loss_hvr_0_3_feb_3/split_2/train/mask/_14_h_1_7.png  \n",
            "  inflating: hrf_512_512_dice_loss_hvr_0_3_feb_3/split_2/train/mask/_12_dr_3_23.png  \n",
            "  inflating: hrf_512_512_dice_loss_hvr_0_3_feb_3/split_2/train/mask/_04_h_3_23.png  \n",
            "  inflating: hrf_512_512_dice_loss_hvr_0_3_feb_3/split_2/train/mask/_07_g_3_14.png  \n",
            "  inflating: hrf_512_512_dice_loss_hvr_0_3_feb_3/split_2/train/mask/_09_h_3_29.png  \n",
            "  inflating: hrf_512_512_dice_loss_hvr_0_3_feb_3/split_2/train/mask/_04_g_1_14.png  \n",
            "  inflating: hrf_512_512_dice_loss_hvr_0_3_feb_3/split_2/train/mask/_09_h_0_29.png  \n",
            "  inflating: hrf_512_512_dice_loss_hvr_0_3_feb_3/split_2/train/mask/_03_dr_3_11.png  \n",
            "  inflating: hrf_512_512_dice_loss_hvr_0_3_feb_3/split_2/train/mask/_02_dr_2_4.png  \n",
            "  inflating: hrf_512_512_dice_loss_hvr_0_3_feb_3/split_2/train/mask/_11_g_0_5.png  \n",
            "  inflating: hrf_512_512_dice_loss_hvr_0_3_feb_3/split_2/train/mask/_01_dr_1_9.png  \n",
            "  inflating: hrf_512_512_dice_loss_hvr_0_3_feb_3/split_2/train/mask/_09_dr_1_6.png  \n",
            "  inflating: hrf_512_512_dice_loss_hvr_0_3_feb_3/split_2/train/mask/_05_h_3_2.png  \n",
            "  inflating: hrf_512_512_dice_loss_hvr_0_3_feb_3/split_2/train/mask/_14_dr_1_28.png  \n",
            "  inflating: hrf_512_512_dice_loss_hvr_0_3_feb_3/split_2/train/mask/_01_dr_2_32.png  \n",
            "  inflating: hrf_512_512_dice_loss_hvr_0_3_feb_3/split_2/train/mask/_15_g_0_34.png  \n",
            "  inflating: hrf_512_512_dice_loss_hvr_0_3_feb_3/split_2/train/mask/_06_dr_2_14.png  \n",
            "  inflating: hrf_512_512_dice_loss_hvr_0_3_feb_3/split_2/train/mask/_06_h_3_2.png  \n",
            "  inflating: hrf_512_512_dice_loss_hvr_0_3_feb_3/split_2/train/mask/_04_h_0_33.png  \n",
            "  inflating: hrf_512_512_dice_loss_hvr_0_3_feb_3/split_2/train/mask/_09_g_3_1.png  \n",
            "  inflating: hrf_512_512_dice_loss_hvr_0_3_feb_3/split_2/train/mask/_14_g_0_2.png  \n",
            "  inflating: hrf_512_512_dice_loss_hvr_0_3_feb_3/split_2/train/mask/_01_h_0_25.png  \n",
            "  inflating: hrf_512_512_dice_loss_hvr_0_3_feb_3/split_2/train/mask/_11_g_0_17.png  \n",
            "  inflating: hrf_512_512_dice_loss_hvr_0_3_feb_3/split_2/train/mask/_01_g_1_1.png  \n",
            "  inflating: hrf_512_512_dice_loss_hvr_0_3_feb_3/split_2/train/mask/_06_dr_2_1.png  \n",
            "  inflating: hrf_512_512_dice_loss_hvr_0_3_feb_3/split_2/train/mask/_03_dr_3_16.png  \n",
            "  inflating: hrf_512_512_dice_loss_hvr_0_3_feb_3/split_2/train/mask/_04_dr_1_13.png  \n",
            "  inflating: hrf_512_512_dice_loss_hvr_0_3_feb_3/split_2/train/mask/_01_h_0_8.png  \n",
            "  inflating: hrf_512_512_dice_loss_hvr_0_3_feb_3/split_2/train/mask/_04_h_1_32.png  \n",
            "  inflating: hrf_512_512_dice_loss_hvr_0_3_feb_3/split_2/train/mask/_04_h_2_34.png  \n",
            "  inflating: hrf_512_512_dice_loss_hvr_0_3_feb_3/split_2/train/mask/_04_h_0_19.png  \n",
            "  inflating: hrf_512_512_dice_loss_hvr_0_3_feb_3/split_2/train/mask/_15_g_2_28.png  \n",
            "  inflating: hrf_512_512_dice_loss_hvr_0_3_feb_3/split_2/train/mask/_07_dr_2_33.png  \n",
            "  inflating: hrf_512_512_dice_loss_hvr_0_3_feb_3/split_2/train/mask/_06_dr_3_28.png  \n",
            "  inflating: hrf_512_512_dice_loss_hvr_0_3_feb_3/split_2/train/mask/_02_dr_0_11.png  \n",
            "  inflating: hrf_512_512_dice_loss_hvr_0_3_feb_3/split_2/train/mask/_14_h_1_25.png  \n",
            "  inflating: hrf_512_512_dice_loss_hvr_0_3_feb_3/split_2/train/mask/_06_h_0_6.png  \n",
            "  inflating: hrf_512_512_dice_loss_hvr_0_3_feb_3/split_2/train/mask/_15_g_2_4.png  \n",
            "  inflating: hrf_512_512_dice_loss_hvr_0_3_feb_3/split_2/train/mask/_13_h_1_22.png  \n",
            "  inflating: hrf_512_512_dice_loss_hvr_0_3_feb_3/split_2/train/mask/_12_dr_2_16.png  \n",
            "  inflating: hrf_512_512_dice_loss_hvr_0_3_feb_3/split_2/train/mask/_12_dr_0_6.png  \n",
            "  inflating: hrf_512_512_dice_loss_hvr_0_3_feb_3/split_2/train/mask/_03_dr_2_8.png  \n",
            "  inflating: hrf_512_512_dice_loss_hvr_0_3_feb_3/split_2/train/mask/_07_dr_1_28.png  \n",
            "  inflating: hrf_512_512_dice_loss_hvr_0_3_feb_3/split_2/train/mask/_10_dr_3_17.png  \n",
            "  inflating: hrf_512_512_dice_loss_hvr_0_3_feb_3/split_2/train/mask/_03_g_1_26.png  \n",
            "  inflating: hrf_512_512_dice_loss_hvr_0_3_feb_3/split_2/train/mask/_09_dr_2_34.png  \n",
            "  inflating: hrf_512_512_dice_loss_hvr_0_3_feb_3/split_2/train/mask/_07_h_0_9.png  \n",
            "  inflating: hrf_512_512_dice_loss_hvr_0_3_feb_3/split_2/train/mask/_04_dr_2_23.png  \n",
            "  inflating: hrf_512_512_dice_loss_hvr_0_3_feb_3/split_2/train/mask/_14_dr_0_21.png  \n",
            "  inflating: hrf_512_512_dice_loss_hvr_0_3_feb_3/split_2/train/mask/_04_dr_1_26.png  \n",
            "  inflating: hrf_512_512_dice_loss_hvr_0_3_feb_3/split_2/train/mask/_10_dr_2_1.png  \n",
            "  inflating: hrf_512_512_dice_loss_hvr_0_3_feb_3/split_2/train/mask/_09_h_0_28.png  \n",
            "  inflating: hrf_512_512_dice_loss_hvr_0_3_feb_3/split_2/train/mask/_09_dr_3_32.png  \n",
            "  inflating: hrf_512_512_dice_loss_hvr_0_3_feb_3/split_2/train/mask/_14_dr_0_9.png  \n",
            "  inflating: hrf_512_512_dice_loss_hvr_0_3_feb_3/split_2/train/mask/_07_h_0_30.png  \n",
            "  inflating: hrf_512_512_dice_loss_hvr_0_3_feb_3/split_2/train/mask/_06_h_3_31.png  \n",
            "  inflating: hrf_512_512_dice_loss_hvr_0_3_feb_3/split_2/train/mask/_13_h_0_16.png  \n",
            "  inflating: hrf_512_512_dice_loss_hvr_0_3_feb_3/split_2/train/mask/_04_dr_3_3.png  \n",
            "  inflating: hrf_512_512_dice_loss_hvr_0_3_feb_3/split_2/train/mask/_09_g_2_28.png  \n",
            "  inflating: hrf_512_512_dice_loss_hvr_0_3_feb_3/split_2/train/mask/_06_h_3_29.png  \n",
            "  inflating: hrf_512_512_dice_loss_hvr_0_3_feb_3/split_2/train/mask/_15_dr_0_28.png  \n",
            "  inflating: hrf_512_512_dice_loss_hvr_0_3_feb_3/split_2/train/mask/_15_dr_1_15.png  \n",
            "  inflating: hrf_512_512_dice_loss_hvr_0_3_feb_3/split_2/train/mask/_13_h_2_23.png  \n",
            "  inflating: hrf_512_512_dice_loss_hvr_0_3_feb_3/split_2/train/mask/_08_h_2_0.png  \n",
            "  inflating: hrf_512_512_dice_loss_hvr_0_3_feb_3/split_2/train/mask/_03_g_0_13.png  \n",
            "  inflating: hrf_512_512_dice_loss_hvr_0_3_feb_3/split_2/train/mask/_11_g_0_4.png  \n",
            "  inflating: hrf_512_512_dice_loss_hvr_0_3_feb_3/split_2/train/mask/_01_dr_1_2.png  \n",
            "  inflating: hrf_512_512_dice_loss_hvr_0_3_feb_3/split_2/train/mask/_09_h_1_23.png  \n",
            "  inflating: hrf_512_512_dice_loss_hvr_0_3_feb_3/split_2/train/mask/_07_g_2_22.png  \n",
            "  inflating: hrf_512_512_dice_loss_hvr_0_3_feb_3/split_2/train/mask/_09_g_0_31.png  \n",
            "  inflating: hrf_512_512_dice_loss_hvr_0_3_feb_3/split_2/train/mask/_03_g_1_16.png  \n",
            "  inflating: hrf_512_512_dice_loss_hvr_0_3_feb_3/split_2/train/mask/_12_dr_1_19.png  \n",
            "  inflating: hrf_512_512_dice_loss_hvr_0_3_feb_3/split_2/train/mask/_03_g_1_0.png  \n",
            "  inflating: hrf_512_512_dice_loss_hvr_0_3_feb_3/split_2/train/mask/_04_dr_3_28.png  \n",
            "  inflating: hrf_512_512_dice_loss_hvr_0_3_feb_3/split_2/train/mask/_06_dr_1_4.png  \n",
            "  inflating: hrf_512_512_dice_loss_hvr_0_3_feb_3/split_2/train/mask/_04_dr_3_8.png  \n",
            "  inflating: hrf_512_512_dice_loss_hvr_0_3_feb_3/split_2/train/mask/_07_dr_2_27.png  \n",
            "  inflating: hrf_512_512_dice_loss_hvr_0_3_feb_3/split_2/train/mask/_01_h_1_12.png  \n",
            "  inflating: hrf_512_512_dice_loss_hvr_0_3_feb_3/split_2/train/mask/_15_g_3_13.png  \n",
            "  inflating: hrf_512_512_dice_loss_hvr_0_3_feb_3/split_2/train/mask/_14_h_1_16.png  \n",
            "  inflating: hrf_512_512_dice_loss_hvr_0_3_feb_3/split_2/train/mask/_01_h_3_11.png  \n",
            "  inflating: hrf_512_512_dice_loss_hvr_0_3_feb_3/split_2/train/mask/_09_dr_0_26.png  \n",
            "  inflating: hrf_512_512_dice_loss_hvr_0_3_feb_3/split_2/train/mask/_02_dr_2_11.png  \n",
            "  inflating: hrf_512_512_dice_loss_hvr_0_3_feb_3/split_2/train/mask/_13_g_1_3.png  \n",
            "  inflating: hrf_512_512_dice_loss_hvr_0_3_feb_3/split_2/train/mask/_01_h_3_34.png  \n",
            "  inflating: hrf_512_512_dice_loss_hvr_0_3_feb_3/split_2/train/mask/_08_h_2_34.png  \n",
            "  inflating: hrf_512_512_dice_loss_hvr_0_3_feb_3/split_2/train/mask/_06_dr_0_31.png  \n",
            "  inflating: hrf_512_512_dice_loss_hvr_0_3_feb_3/split_2/train/mask/_03_g_2_7.png  \n",
            "  inflating: hrf_512_512_dice_loss_hvr_0_3_feb_3/split_2/train/mask/_09_g_0_26.png  \n",
            "  inflating: hrf_512_512_dice_loss_hvr_0_3_feb_3/split_2/train/mask/_14_h_3_24.png  \n",
            "  inflating: hrf_512_512_dice_loss_hvr_0_3_feb_3/split_2/train/mask/_10_dr_1_19.png  \n",
            "  inflating: hrf_512_512_dice_loss_hvr_0_3_feb_3/split_2/train/mask/_13_g_3_10.png  \n",
            "  inflating: hrf_512_512_dice_loss_hvr_0_3_feb_3/split_2/train/mask/_03_dr_2_13.png  \n",
            "  inflating: hrf_512_512_dice_loss_hvr_0_3_feb_3/split_2/train/mask/_06_dr_1_33.png  \n",
            "  inflating: hrf_512_512_dice_loss_hvr_0_3_feb_3/split_2/train/mask/_03_dr_0_31.png  \n",
            "  inflating: hrf_512_512_dice_loss_hvr_0_3_feb_3/split_2/train/mask/_07_dr_3_33.png  \n",
            "  inflating: hrf_512_512_dice_loss_hvr_0_3_feb_3/split_2/train/mask/_09_h_0_32.png  \n",
            "  inflating: hrf_512_512_dice_loss_hvr_0_3_feb_3/split_2/train/mask/_04_h_3_12.png  \n",
            "  inflating: hrf_512_512_dice_loss_hvr_0_3_feb_3/split_2/train/mask/_01_h_0_28.png  \n",
            "  inflating: hrf_512_512_dice_loss_hvr_0_3_feb_3/split_2/train/mask/_06_dr_2_20.png  \n",
            "  inflating: hrf_512_512_dice_loss_hvr_0_3_feb_3/split_2/train/mask/_09_h_1_11.png  \n",
            "  inflating: hrf_512_512_dice_loss_hvr_0_3_feb_3/split_2/train/mask/_12_dr_0_23.png  \n",
            "  inflating: hrf_512_512_dice_loss_hvr_0_3_feb_3/split_2/train/mask/_08_h_1_29.png  \n",
            "  inflating: hrf_512_512_dice_loss_hvr_0_3_feb_3/split_2/train/mask/_01_dr_3_4.png  \n",
            "  inflating: hrf_512_512_dice_loss_hvr_0_3_feb_3/split_2/train/mask/_03_g_3_11.png  \n",
            "  inflating: hrf_512_512_dice_loss_hvr_0_3_feb_3/split_2/train/mask/_07_dr_1_16.png  \n",
            "  inflating: hrf_512_512_dice_loss_hvr_0_3_feb_3/split_2/train/mask/_08_h_2_20.png  \n",
            "  inflating: hrf_512_512_dice_loss_hvr_0_3_feb_3/split_2/train/mask/_14_dr_2_31.png  \n",
            "  inflating: hrf_512_512_dice_loss_hvr_0_3_feb_3/split_2/train/mask/_01_g_0_7.png  \n",
            "  inflating: hrf_512_512_dice_loss_hvr_0_3_feb_3/split_2/train/mask/_13_g_1_20.png  \n",
            "  inflating: hrf_512_512_dice_loss_hvr_0_3_feb_3/split_2/train/mask/_05_h_1_2.png  \n",
            "  inflating: hrf_512_512_dice_loss_hvr_0_3_feb_3/split_2/train/mask/_09_dr_2_6.png  \n",
            "  inflating: hrf_512_512_dice_loss_hvr_0_3_feb_3/split_2/train/mask/_03_g_1_11.png  \n",
            "  inflating: hrf_512_512_dice_loss_hvr_0_3_feb_3/split_2/train/mask/_01_dr_0_24.png  \n",
            "  inflating: hrf_512_512_dice_loss_hvr_0_3_feb_3/split_2/train/mask/_10_g_1_34.png  \n",
            "  inflating: hrf_512_512_dice_loss_hvr_0_3_feb_3/split_2/train/mask/_13_g_2_14.png  \n",
            "  inflating: hrf_512_512_dice_loss_hvr_0_3_feb_3/split_2/train/mask/_14_h_1_8.png  \n",
            "  inflating: hrf_512_512_dice_loss_hvr_0_3_feb_3/split_2/train/mask/_15_dr_2_9.png  \n",
            "  inflating: hrf_512_512_dice_loss_hvr_0_3_feb_3/split_2/train/mask/_14_dr_3_24.png  \n",
            "  inflating: hrf_512_512_dice_loss_hvr_0_3_feb_3/split_2/train/mask/_09_dr_2_23.png  \n",
            "  inflating: hrf_512_512_dice_loss_hvr_0_3_feb_3/split_2/train/mask/_01_g_1_29.png  \n",
            "  inflating: hrf_512_512_dice_loss_hvr_0_3_feb_3/split_2/train/mask/_13_g_2_5.png  \n",
            "  inflating: hrf_512_512_dice_loss_hvr_0_3_feb_3/split_2/train/mask/_04_dr_2_2.png  \n",
            "  inflating: hrf_512_512_dice_loss_hvr_0_3_feb_3/split_2/train/mask/_12_dr_0_32.png  \n",
            "  inflating: hrf_512_512_dice_loss_hvr_0_3_feb_3/split_2/train/mask/_12_dr_2_32.png  \n",
            "  inflating: hrf_512_512_dice_loss_hvr_0_3_feb_3/split_2/train/mask/_15_dr_1_25.png  \n",
            "  inflating: hrf_512_512_dice_loss_hvr_0_3_feb_3/split_2/train/mask/_03_g_1_2.png  \n",
            "  inflating: hrf_512_512_dice_loss_hvr_0_3_feb_3/split_2/train/mask/_06_h_2_34.png  \n",
            "  inflating: hrf_512_512_dice_loss_hvr_0_3_feb_3/split_2/train/mask/_12_dr_1_4.png  \n",
            "  inflating: hrf_512_512_dice_loss_hvr_0_3_feb_3/split_2/train/mask/_13_g_3_17.png  \n",
            "  inflating: hrf_512_512_dice_loss_hvr_0_3_feb_3/split_2/train/mask/_03_dr_3_0.png  \n",
            "  inflating: hrf_512_512_dice_loss_hvr_0_3_feb_3/split_2/train/mask/_01_dr_2_7.png  \n",
            "  inflating: hrf_512_512_dice_loss_hvr_0_3_feb_3/split_2/train/mask/_14_h_0_27.png  \n",
            "  inflating: hrf_512_512_dice_loss_hvr_0_3_feb_3/split_2/train/mask/_11_g_2_32.png  \n",
            "  inflating: hrf_512_512_dice_loss_hvr_0_3_feb_3/split_2/train/mask/_14_g_0_25.png  \n",
            "  inflating: hrf_512_512_dice_loss_hvr_0_3_feb_3/split_2/train/mask/_15_g_0_20.png  \n",
            "  inflating: hrf_512_512_dice_loss_hvr_0_3_feb_3/split_2/train/mask/_13_g_2_1.png  \n",
            "  inflating: hrf_512_512_dice_loss_hvr_0_3_feb_3/split_2/train/mask/_15_dr_2_33.png  \n",
            "  inflating: hrf_512_512_dice_loss_hvr_0_3_feb_3/split_2/train/mask/_04_h_3_13.png  \n",
            "  inflating: hrf_512_512_dice_loss_hvr_0_3_feb_3/split_2/train/mask/_01_g_3_21.png  \n",
            "  inflating: hrf_512_512_dice_loss_hvr_0_3_feb_3/split_2/train/mask/_14_dr_3_20.png  \n",
            "  inflating: hrf_512_512_dice_loss_hvr_0_3_feb_3/split_2/train/mask/_10_g_2_1.png  \n",
            "  inflating: hrf_512_512_dice_loss_hvr_0_3_feb_3/split_2/train/mask/_03_dr_2_2.png  \n",
            "  inflating: hrf_512_512_dice_loss_hvr_0_3_feb_3/split_2/train/mask/_14_g_1_28.png  \n",
            "  inflating: hrf_512_512_dice_loss_hvr_0_3_feb_3/split_2/train/mask/_07_g_1_26.png  \n",
            "  inflating: hrf_512_512_dice_loss_hvr_0_3_feb_3/split_2/train/mask/_13_g_2_26.png  \n",
            "  inflating: hrf_512_512_dice_loss_hvr_0_3_feb_3/split_2/train/mask/_15_dr_1_20.png  \n",
            "  inflating: hrf_512_512_dice_loss_hvr_0_3_feb_3/split_2/train/mask/_03_dr_2_21.png  \n",
            "  inflating: hrf_512_512_dice_loss_hvr_0_3_feb_3/split_2/train/mask/_14_dr_3_21.png  \n",
            "  inflating: hrf_512_512_dice_loss_hvr_0_3_feb_3/split_2/train/mask/_09_h_0_1.png  \n",
            "  inflating: hrf_512_512_dice_loss_hvr_0_3_feb_3/split_2/train/mask/_12_dr_1_22.png  \n",
            "  inflating: hrf_512_512_dice_loss_hvr_0_3_feb_3/split_2/train/mask/_04_g_1_6.png  \n",
            "  inflating: hrf_512_512_dice_loss_hvr_0_3_feb_3/split_2/train/mask/_15_dr_0_27.png  \n",
            "  inflating: hrf_512_512_dice_loss_hvr_0_3_feb_3/split_2/train/mask/_13_h_3_21.png  \n",
            "  inflating: hrf_512_512_dice_loss_hvr_0_3_feb_3/split_2/train/mask/_12_dr_2_27.png  \n",
            "  inflating: hrf_512_512_dice_loss_hvr_0_3_feb_3/split_2/train/mask/_11_g_2_10.png  \n",
            "  inflating: hrf_512_512_dice_loss_hvr_0_3_feb_3/split_2/train/mask/_07_h_3_24.png  \n",
            "  inflating: hrf_512_512_dice_loss_hvr_0_3_feb_3/split_2/train/mask/_06_dr_0_27.png  \n",
            "  inflating: hrf_512_512_dice_loss_hvr_0_3_feb_3/split_2/train/mask/_04_dr_2_34.png  \n",
            "  inflating: hrf_512_512_dice_loss_hvr_0_3_feb_3/split_2/train/mask/_15_dr_1_23.png  \n",
            "  inflating: hrf_512_512_dice_loss_hvr_0_3_feb_3/split_2/train/mask/_01_h_1_13.png  \n",
            "  inflating: hrf_512_512_dice_loss_hvr_0_3_feb_3/split_2/train/mask/_04_h_2_7.png  \n",
            "  inflating: hrf_512_512_dice_loss_hvr_0_3_feb_3/split_2/train/mask/_14_dr_0_25.png  \n",
            "  inflating: hrf_512_512_dice_loss_hvr_0_3_feb_3/split_2/train/mask/_02_dr_1_4.png  \n",
            "  inflating: hrf_512_512_dice_loss_hvr_0_3_feb_3/split_2/train/mask/_06_h_2_19.png  \n",
            "  inflating: hrf_512_512_dice_loss_hvr_0_3_feb_3/split_2/train/mask/_15_dr_1_26.png  \n",
            "  inflating: hrf_512_512_dice_loss_hvr_0_3_feb_3/split_2/train/mask/_02_dr_1_16.png  \n",
            "  inflating: hrf_512_512_dice_loss_hvr_0_3_feb_3/split_2/train/mask/_12_dr_3_7.png  \n",
            "  inflating: hrf_512_512_dice_loss_hvr_0_3_feb_3/split_2/train/mask/_14_h_3_11.png  \n",
            "  inflating: hrf_512_512_dice_loss_hvr_0_3_feb_3/split_2/train/mask/_11_g_1_13.png  \n",
            "  inflating: hrf_512_512_dice_loss_hvr_0_3_feb_3/split_2/train/mask/_02_dr_3_11.png  \n",
            "  inflating: hrf_512_512_dice_loss_hvr_0_3_feb_3/split_2/train/mask/_09_dr_1_9.png  \n",
            "  inflating: hrf_512_512_dice_loss_hvr_0_3_feb_3/split_2/train/mask/_12_dr_1_25.png  \n",
            "  inflating: hrf_512_512_dice_loss_hvr_0_3_feb_3/split_2/train/mask/_01_g_2_7.png  \n",
            "  inflating: hrf_512_512_dice_loss_hvr_0_3_feb_3/split_2/train/mask/_14_g_2_3.png  \n",
            "  inflating: hrf_512_512_dice_loss_hvr_0_3_feb_3/split_2/train/mask/_12_dr_1_2.png  \n",
            "  inflating: hrf_512_512_dice_loss_hvr_0_3_feb_3/split_2/train/mask/_15_dr_0_5.png  \n",
            "  inflating: hrf_512_512_dice_loss_hvr_0_3_feb_3/split_2/train/mask/_01_g_3_32.png  \n",
            "  inflating: hrf_512_512_dice_loss_hvr_0_3_feb_3/split_2/train/mask/_02_h_2_6.png  \n",
            "  inflating: hrf_512_512_dice_loss_hvr_0_3_feb_3/split_2/train/mask/_01_h_2_4.png  \n",
            "  inflating: hrf_512_512_dice_loss_hvr_0_3_feb_3/split_2/train/mask/_08_h_1_24.png  \n",
            "  inflating: hrf_512_512_dice_loss_hvr_0_3_feb_3/split_2/train/mask/_14_h_3_8.png  \n",
            "  inflating: hrf_512_512_dice_loss_hvr_0_3_feb_3/split_2/train/mask/_10_dr_0_22.png  \n",
            "  inflating: hrf_512_512_dice_loss_hvr_0_3_feb_3/split_2/train/mask/_12_dr_0_9.png  \n",
            "  inflating: hrf_512_512_dice_loss_hvr_0_3_feb_3/split_2/train/mask/_02_dr_1_6.png  \n",
            "  inflating: hrf_512_512_dice_loss_hvr_0_3_feb_3/split_2/train/mask/_06_dr_2_18.png  \n",
            "  inflating: hrf_512_512_dice_loss_hvr_0_3_feb_3/split_2/train/mask/_14_g_1_1.png  \n",
            "  inflating: hrf_512_512_dice_loss_hvr_0_3_feb_3/split_2/train/mask/_06_dr_2_30.png  \n",
            "  inflating: hrf_512_512_dice_loss_hvr_0_3_feb_3/split_2/train/mask/_12_dr_3_10.png  \n",
            "  inflating: hrf_512_512_dice_loss_hvr_0_3_feb_3/split_2/train/mask/_06_dr_3_17.png  \n",
            "  inflating: hrf_512_512_dice_loss_hvr_0_3_feb_3/split_2/train/mask/_07_h_0_5.png  \n",
            "  inflating: hrf_512_512_dice_loss_hvr_0_3_feb_3/split_2/train/mask/_02_dr_1_22.png  \n",
            "  inflating: hrf_512_512_dice_loss_hvr_0_3_feb_3/split_2/train/mask/_07_dr_1_2.png  \n",
            "  inflating: hrf_512_512_dice_loss_hvr_0_3_feb_3/split_2/train/mask/_03_dr_3_20.png  \n",
            "  inflating: hrf_512_512_dice_loss_hvr_0_3_feb_3/split_2/train/mask/_11_g_2_34.png  \n",
            "  inflating: hrf_512_512_dice_loss_hvr_0_3_feb_3/split_2/train/mask/_14_h_3_29.png  \n",
            "  inflating: hrf_512_512_dice_loss_hvr_0_3_feb_3/split_2/train/mask/_14_dr_3_14.png  \n",
            "  inflating: hrf_512_512_dice_loss_hvr_0_3_feb_3/split_2/train/mask/_04_h_1_0.png  \n",
            "  inflating: hrf_512_512_dice_loss_hvr_0_3_feb_3/split_2/train/mask/_10_g_0_6.png  \n",
            "  inflating: hrf_512_512_dice_loss_hvr_0_3_feb_3/split_2/train/mask/_04_g_2_25.png  \n",
            "  inflating: hrf_512_512_dice_loss_hvr_0_3_feb_3/split_2/train/mask/_02_h_0_22.png  \n",
            "  inflating: hrf_512_512_dice_loss_hvr_0_3_feb_3/split_2/train/mask/_06_h_1_1.png  \n",
            "  inflating: hrf_512_512_dice_loss_hvr_0_3_feb_3/split_2/train/mask/_07_h_2_30.png  \n",
            "  inflating: hrf_512_512_dice_loss_hvr_0_3_feb_3/split_2/train/mask/_15_dr_1_10.png  \n",
            "  inflating: hrf_512_512_dice_loss_hvr_0_3_feb_3/split_2/train/mask/_15_dr_0_8.png  \n",
            "  inflating: hrf_512_512_dice_loss_hvr_0_3_feb_3/split_2/train/mask/_05_h_0_13.png  \n",
            "  inflating: hrf_512_512_dice_loss_hvr_0_3_feb_3/split_2/train/mask/_01_h_2_16.png  \n",
            "  inflating: hrf_512_512_dice_loss_hvr_0_3_feb_3/split_2/train/mask/_15_g_3_9.png  \n",
            "  inflating: hrf_512_512_dice_loss_hvr_0_3_feb_3/split_2/train/mask/_02_h_3_15.png  \n",
            "  inflating: hrf_512_512_dice_loss_hvr_0_3_feb_3/split_2/train/mask/_07_dr_0_23.png  \n",
            "  inflating: hrf_512_512_dice_loss_hvr_0_3_feb_3/split_2/train/mask/_09_g_3_21.png  \n",
            "  inflating: hrf_512_512_dice_loss_hvr_0_3_feb_3/split_2/train/mask/_07_g_3_16.png  \n",
            "  inflating: hrf_512_512_dice_loss_hvr_0_3_feb_3/split_2/train/mask/_09_g_2_24.png  \n",
            "  inflating: hrf_512_512_dice_loss_hvr_0_3_feb_3/split_2/train/mask/_10_dr_2_16.png  \n",
            "  inflating: hrf_512_512_dice_loss_hvr_0_3_feb_3/split_2/train/mask/_06_h_1_30.png  \n",
            "  inflating: hrf_512_512_dice_loss_hvr_0_3_feb_3/split_2/train/mask/_14_g_1_17.png  \n",
            "  inflating: hrf_512_512_dice_loss_hvr_0_3_feb_3/split_2/train/mask/_12_dr_0_24.png  \n",
            "  inflating: hrf_512_512_dice_loss_hvr_0_3_feb_3/split_2/train/mask/_13_g_2_21.png  \n",
            "  inflating: hrf_512_512_dice_loss_hvr_0_3_feb_3/split_2/train/mask/_03_g_2_2.png  \n",
            "  inflating: hrf_512_512_dice_loss_hvr_0_3_feb_3/split_2/train/mask/_09_g_3_24.png  \n",
            "  inflating: hrf_512_512_dice_loss_hvr_0_3_feb_3/split_2/train/mask/_06_dr_2_8.png  \n",
            "  inflating: hrf_512_512_dice_loss_hvr_0_3_feb_3/split_2/train/mask/_04_g_3_21.png  \n",
            "  inflating: hrf_512_512_dice_loss_hvr_0_3_feb_3/split_2/train/mask/_09_h_3_27.png  \n",
            "  inflating: hrf_512_512_dice_loss_hvr_0_3_feb_3/split_2/train/mask/_07_dr_2_32.png  \n",
            "  inflating: hrf_512_512_dice_loss_hvr_0_3_feb_3/split_2/train/mask/_06_h_0_21.png  \n",
            "  inflating: hrf_512_512_dice_loss_hvr_0_3_feb_3/split_2/train/mask/_15_dr_3_27.png  \n",
            "  inflating: hrf_512_512_dice_loss_hvr_0_3_feb_3/split_2/train/mask/_07_g_0_2.png  \n",
            "  inflating: hrf_512_512_dice_loss_hvr_0_3_feb_3/split_2/train/mask/_15_dr_0_11.png  \n",
            "  inflating: hrf_512_512_dice_loss_hvr_0_3_feb_3/split_2/train/mask/_04_h_3_14.png  \n",
            "  inflating: hrf_512_512_dice_loss_hvr_0_3_feb_3/split_2/train/mask/_03_dr_2_18.png  \n",
            "  inflating: hrf_512_512_dice_loss_hvr_0_3_feb_3/split_2/train/mask/_14_h_0_17.png  \n",
            "  inflating: hrf_512_512_dice_loss_hvr_0_3_feb_3/split_2/train/mask/_10_dr_1_31.png  \n",
            "  inflating: hrf_512_512_dice_loss_hvr_0_3_feb_3/split_2/train/mask/_14_h_3_0.png  \n",
            "  inflating: hrf_512_512_dice_loss_hvr_0_3_feb_3/split_2/train/mask/_01_h_1_33.png  \n",
            "  inflating: hrf_512_512_dice_loss_hvr_0_3_feb_3/split_2/train/mask/_13_h_1_0.png  \n",
            "  inflating: hrf_512_512_dice_loss_hvr_0_3_feb_3/split_2/train/mask/_06_h_3_27.png  \n",
            "  inflating: hrf_512_512_dice_loss_hvr_0_3_feb_3/split_2/train/mask/_02_dr_2_13.png  \n",
            "  inflating: hrf_512_512_dice_loss_hvr_0_3_feb_3/split_2/train/mask/_03_g_1_28.png  \n",
            "  inflating: hrf_512_512_dice_loss_hvr_0_3_feb_3/split_2/train/mask/_13_g_0_26.png  \n",
            "  inflating: hrf_512_512_dice_loss_hvr_0_3_feb_3/split_2/train/mask/_04_dr_0_21.png  \n",
            "  inflating: hrf_512_512_dice_loss_hvr_0_3_feb_3/split_2/train/mask/_14_h_0_33.png  \n",
            "  inflating: hrf_512_512_dice_loss_hvr_0_3_feb_3/split_2/train/mask/_01_g_3_5.png  \n",
            "  inflating: hrf_512_512_dice_loss_hvr_0_3_feb_3/split_2/train/mask/_01_g_3_31.png  \n",
            "  inflating: hrf_512_512_dice_loss_hvr_0_3_feb_3/split_2/train/mask/_09_dr_2_3.png  \n",
            "  inflating: hrf_512_512_dice_loss_hvr_0_3_feb_3/split_2/train/mask/_11_g_1_5.png  \n",
            "  inflating: hrf_512_512_dice_loss_hvr_0_3_feb_3/split_2/train/mask/_02_dr_3_8.png  \n",
            "  inflating: hrf_512_512_dice_loss_hvr_0_3_feb_3/split_2/train/mask/_15_g_1_4.png  \n",
            "  inflating: hrf_512_512_dice_loss_hvr_0_3_feb_3/split_2/train/mask/_09_h_1_20.png  \n",
            "  inflating: hrf_512_512_dice_loss_hvr_0_3_feb_3/split_2/train/mask/_14_h_0_3.png  \n",
            "  inflating: hrf_512_512_dice_loss_hvr_0_3_feb_3/split_2/train/mask/_10_g_3_17.png  \n",
            "  inflating: hrf_512_512_dice_loss_hvr_0_3_feb_3/split_2/train/mask/_14_dr_2_13.png  \n",
            "  inflating: hrf_512_512_dice_loss_hvr_0_3_feb_3/split_2/train/mask/_12_dr_3_1.png  \n",
            "  inflating: hrf_512_512_dice_loss_hvr_0_3_feb_3/split_2/train/mask/_13_h_0_7.png  \n",
            "  inflating: hrf_512_512_dice_loss_hvr_0_3_feb_3/split_2/train/mask/_13_g_2_10.png  \n",
            "  inflating: hrf_512_512_dice_loss_hvr_0_3_feb_3/split_2/train/mask/_11_g_1_24.png  \n",
            "  inflating: hrf_512_512_dice_loss_hvr_0_3_feb_3/split_2/train/mask/_01_dr_2_13.png  \n",
            "  inflating: hrf_512_512_dice_loss_hvr_0_3_feb_3/split_2/train/mask/_14_h_1_21.png  \n",
            "  inflating: hrf_512_512_dice_loss_hvr_0_3_feb_3/split_2/train/mask/_02_dr_1_21.png  \n",
            "  inflating: hrf_512_512_dice_loss_hvr_0_3_feb_3/split_2/train/mask/_09_h_0_30.png  \n",
            "  inflating: hrf_512_512_dice_loss_hvr_0_3_feb_3/split_2/train/mask/_03_dr_3_2.png  \n",
            "  inflating: hrf_512_512_dice_loss_hvr_0_3_feb_3/split_2/train/mask/_13_g_0_3.png  \n",
            "  inflating: hrf_512_512_dice_loss_hvr_0_3_feb_3/split_2/train/mask/_04_g_3_5.png  \n",
            "  inflating: hrf_512_512_dice_loss_hvr_0_3_feb_3/split_2/train/mask/_06_h_0_13.png  \n",
            "  inflating: hrf_512_512_dice_loss_hvr_0_3_feb_3/split_2/train/mask/_04_h_1_23.png  \n",
            "  inflating: hrf_512_512_dice_loss_hvr_0_3_feb_3/split_2/train/mask/_05_h_2_15.png  \n",
            "  inflating: hrf_512_512_dice_loss_hvr_0_3_feb_3/split_2/train/mask/_02_h_2_3.png  \n",
            "  inflating: hrf_512_512_dice_loss_hvr_0_3_feb_3/split_2/train/mask/_07_dr_0_18.png  \n",
            "  inflating: hrf_512_512_dice_loss_hvr_0_3_feb_3/split_2/train/mask/_14_h_3_21.png  \n",
            "  inflating: hrf_512_512_dice_loss_hvr_0_3_feb_3/split_2/train/mask/_05_h_2_14.png  \n",
            "  inflating: hrf_512_512_dice_loss_hvr_0_3_feb_3/split_2/train/mask/_14_dr_3_34.png  \n",
            "  inflating: hrf_512_512_dice_loss_hvr_0_3_feb_3/split_2/train/mask/_09_dr_1_1.png  \n",
            "  inflating: hrf_512_512_dice_loss_hvr_0_3_feb_3/split_2/train/mask/_11_g_0_28.png  \n",
            "  inflating: hrf_512_512_dice_loss_hvr_0_3_feb_3/split_2/train/mask/_03_dr_0_26.png  \n",
            "  inflating: hrf_512_512_dice_loss_hvr_0_3_feb_3/split_2/train/mask/_02_dr_0_18.png  \n",
            "  inflating: hrf_512_512_dice_loss_hvr_0_3_feb_3/split_2/train/mask/_08_h_2_25.png  \n",
            "  inflating: hrf_512_512_dice_loss_hvr_0_3_feb_3/split_2/train/mask/_05_h_2_31.png  \n",
            "  inflating: hrf_512_512_dice_loss_hvr_0_3_feb_3/split_2/train/mask/_11_g_0_9.png  \n",
            "  inflating: hrf_512_512_dice_loss_hvr_0_3_feb_3/split_2/train/mask/_13_h_2_2.png  \n",
            "  inflating: hrf_512_512_dice_loss_hvr_0_3_feb_3/split_2/train/mask/_03_g_0_26.png  \n",
            "  inflating: hrf_512_512_dice_loss_hvr_0_3_feb_3/split_2/train/mask/_01_dr_2_23.png  \n",
            "  inflating: hrf_512_512_dice_loss_hvr_0_3_feb_3/split_2/train/mask/_09_dr_0_21.png  \n",
            "  inflating: hrf_512_512_dice_loss_hvr_0_3_feb_3/split_2/train/mask/_10_g_1_24.png  \n",
            "  inflating: hrf_512_512_dice_loss_hvr_0_3_feb_3/split_2/train/mask/_04_dr_3_30.png  \n",
            "  inflating: hrf_512_512_dice_loss_hvr_0_3_feb_3/split_2/train/mask/_13_h_1_12.png  \n",
            "  inflating: hrf_512_512_dice_loss_hvr_0_3_feb_3/split_2/train/mask/_13_g_1_14.png  \n",
            "  inflating: hrf_512_512_dice_loss_hvr_0_3_feb_3/split_2/train/mask/_04_h_0_23.png  \n",
            "  inflating: hrf_512_512_dice_loss_hvr_0_3_feb_3/split_2/train/mask/_03_g_2_22.png  \n",
            "  inflating: hrf_512_512_dice_loss_hvr_0_3_feb_3/split_2/train/mask/_13_h_1_6.png  \n",
            "  inflating: hrf_512_512_dice_loss_hvr_0_3_feb_3/split_2/train/mask/_09_dr_0_5.png  \n",
            "  inflating: hrf_512_512_dice_loss_hvr_0_3_feb_3/split_2/train/mask/_03_g_1_17.png  \n",
            "  inflating: hrf_512_512_dice_loss_hvr_0_3_feb_3/split_2/train/mask/_04_h_0_10.png  \n",
            "  inflating: hrf_512_512_dice_loss_hvr_0_3_feb_3/split_2/train/mask/_06_dr_3_18.png  \n",
            "  inflating: hrf_512_512_dice_loss_hvr_0_3_feb_3/split_2/train/mask/_04_dr_3_5.png  \n",
            "  inflating: hrf_512_512_dice_loss_hvr_0_3_feb_3/split_2/train/mask/_08_h_3_18.png  \n",
            "  inflating: hrf_512_512_dice_loss_hvr_0_3_feb_3/split_2/train/mask/_12_dr_0_11.png  \n",
            "  inflating: hrf_512_512_dice_loss_hvr_0_3_feb_3/split_2/train/mask/_09_dr_0_16.png  \n",
            "  inflating: hrf_512_512_dice_loss_hvr_0_3_feb_3/split_2/train/mask/_13_g_3_16.png  \n",
            "  inflating: hrf_512_512_dice_loss_hvr_0_3_feb_3/split_2/train/mask/_14_g_1_24.png  \n",
            "  inflating: hrf_512_512_dice_loss_hvr_0_3_feb_3/split_2/train/mask/_02_h_2_12.png  \n",
            "  inflating: hrf_512_512_dice_loss_hvr_0_3_feb_3/split_2/train/mask/_13_h_2_4.png  \n",
            "  inflating: hrf_512_512_dice_loss_hvr_0_3_feb_3/split_2/train/mask/_10_dr_2_20.png  \n",
            "  inflating: hrf_512_512_dice_loss_hvr_0_3_feb_3/split_2/train/mask/_10_g_1_32.png  \n",
            "  inflating: hrf_512_512_dice_loss_hvr_0_3_feb_3/split_2/train/mask/_05_h_0_32.png  \n",
            "  inflating: hrf_512_512_dice_loss_hvr_0_3_feb_3/split_2/train/mask/_10_g_0_5.png  \n",
            "  inflating: hrf_512_512_dice_loss_hvr_0_3_feb_3/split_2/train/mask/_02_h_1_9.png  \n",
            "  inflating: hrf_512_512_dice_loss_hvr_0_3_feb_3/split_2/train/mask/_04_dr_3_10.png  \n",
            "  inflating: hrf_512_512_dice_loss_hvr_0_3_feb_3/split_2/train/mask/_13_h_1_25.png  \n",
            "  inflating: hrf_512_512_dice_loss_hvr_0_3_feb_3/split_2/train/mask/_01_dr_2_26.png  \n",
            "  inflating: hrf_512_512_dice_loss_hvr_0_3_feb_3/split_2/train/mask/_03_dr_2_9.png  \n",
            "  inflating: hrf_512_512_dice_loss_hvr_0_3_feb_3/split_2/train/mask/_02_dr_1_17.png  \n",
            "  inflating: hrf_512_512_dice_loss_hvr_0_3_feb_3/split_2/train/mask/_08_h_0_20.png  \n",
            "  inflating: hrf_512_512_dice_loss_hvr_0_3_feb_3/split_2/train/mask/_02_h_1_0.png  \n",
            "  inflating: hrf_512_512_dice_loss_hvr_0_3_feb_3/split_2/train/mask/_06_dr_3_22.png  \n",
            "  inflating: hrf_512_512_dice_loss_hvr_0_3_feb_3/split_2/train/mask/_03_g_0_9.png  \n",
            "  inflating: hrf_512_512_dice_loss_hvr_0_3_feb_3/split_2/train/mask/_09_dr_0_10.png  \n",
            "  inflating: hrf_512_512_dice_loss_hvr_0_3_feb_3/split_2/train/mask/_03_g_3_4.png  \n",
            "  inflating: hrf_512_512_dice_loss_hvr_0_3_feb_3/split_2/train/mask/_13_g_2_32.png  \n",
            "  inflating: hrf_512_512_dice_loss_hvr_0_3_feb_3/split_2/train/mask/_15_g_0_12.png  \n",
            "  inflating: hrf_512_512_dice_loss_hvr_0_3_feb_3/split_2/train/mask/_05_h_2_18.png  \n",
            "  inflating: hrf_512_512_dice_loss_hvr_0_3_feb_3/split_2/train/mask/_10_dr_3_29.png  \n",
            "  inflating: hrf_512_512_dice_loss_hvr_0_3_feb_3/split_2/train/mask/_01_h_2_14.png  \n",
            "  inflating: hrf_512_512_dice_loss_hvr_0_3_feb_3/split_2/train/mask/_15_g_0_24.png  \n",
            "  inflating: hrf_512_512_dice_loss_hvr_0_3_feb_3/split_2/train/mask/_14_g_2_24.png  \n",
            "  inflating: hrf_512_512_dice_loss_hvr_0_3_feb_3/split_2/train/mask/_15_g_2_27.png  \n",
            "  inflating: hrf_512_512_dice_loss_hvr_0_3_feb_3/split_2/train/mask/_14_dr_1_31.png  \n",
            "  inflating: hrf_512_512_dice_loss_hvr_0_3_feb_3/split_2/train/mask/_04_g_1_17.png  \n",
            "  inflating: hrf_512_512_dice_loss_hvr_0_3_feb_3/split_2/train/mask/_04_dr_2_24.png  \n",
            "  inflating: hrf_512_512_dice_loss_hvr_0_3_feb_3/split_2/train/mask/_01_dr_0_1.png  \n",
            "  inflating: hrf_512_512_dice_loss_hvr_0_3_feb_3/split_2/train/mask/_07_h_3_20.png  \n",
            "  inflating: hrf_512_512_dice_loss_hvr_0_3_feb_3/split_2/train/mask/_01_h_0_1.png  \n",
            "  inflating: hrf_512_512_dice_loss_hvr_0_3_feb_3/split_2/train/mask/_01_dr_3_16.png  \n",
            "  inflating: hrf_512_512_dice_loss_hvr_0_3_feb_3/split_2/train/mask/_06_h_3_24.png  \n",
            "  inflating: hrf_512_512_dice_loss_hvr_0_3_feb_3/split_2/train/mask/_01_h_3_29.png  \n",
            "  inflating: hrf_512_512_dice_loss_hvr_0_3_feb_3/split_2/train/mask/_09_h_1_24.png  \n",
            "  inflating: hrf_512_512_dice_loss_hvr_0_3_feb_3/split_2/train/mask/_13_h_1_31.png  \n",
            "  inflating: hrf_512_512_dice_loss_hvr_0_3_feb_3/split_2/train/mask/_01_g_3_34.png  \n",
            "  inflating: hrf_512_512_dice_loss_hvr_0_3_feb_3/split_2/train/mask/_10_dr_2_25.png  \n",
            "  inflating: hrf_512_512_dice_loss_hvr_0_3_feb_3/split_2/train/mask/_01_dr_0_15.png  \n",
            "  inflating: hrf_512_512_dice_loss_hvr_0_3_feb_3/split_2/train/mask/_12_dr_0_27.png  \n",
            "  inflating: hrf_512_512_dice_loss_hvr_0_3_feb_3/split_2/train/mask/_15_dr_0_0.png  \n",
            "  inflating: hrf_512_512_dice_loss_hvr_0_3_feb_3/split_2/train/mask/_10_g_2_31.png  \n",
            "  inflating: hrf_512_512_dice_loss_hvr_0_3_feb_3/split_2/train/mask/_08_h_0_26.png  \n",
            "  inflating: hrf_512_512_dice_loss_hvr_0_3_feb_3/split_2/train/mask/_10_g_2_34.png  \n",
            "  inflating: hrf_512_512_dice_loss_hvr_0_3_feb_3/split_2/train/mask/_07_g_0_3.png  \n",
            "  inflating: hrf_512_512_dice_loss_hvr_0_3_feb_3/split_2/train/mask/_12_dr_1_10.png  \n",
            "  inflating: hrf_512_512_dice_loss_hvr_0_3_feb_3/split_2/train/mask/_01_dr_3_8.png  \n",
            "  inflating: hrf_512_512_dice_loss_hvr_0_3_feb_3/split_2/train/mask/_14_h_3_4.png  \n",
            "  inflating: hrf_512_512_dice_loss_hvr_0_3_feb_3/split_2/train/mask/_15_g_1_26.png  \n",
            "  inflating: hrf_512_512_dice_loss_hvr_0_3_feb_3/split_2/train/mask/_10_dr_3_33.png  \n",
            "  inflating: hrf_512_512_dice_loss_hvr_0_3_feb_3/split_2/train/mask/_13_g_3_26.png  \n",
            "  inflating: hrf_512_512_dice_loss_hvr_0_3_feb_3/split_2/train/mask/_09_g_1_29.png  \n",
            "  inflating: hrf_512_512_dice_loss_hvr_0_3_feb_3/split_2/train/mask/_04_dr_0_8.png  \n",
            "  inflating: hrf_512_512_dice_loss_hvr_0_3_feb_3/split_2/train/mask/_14_h_3_30.png  \n",
            "  inflating: hrf_512_512_dice_loss_hvr_0_3_feb_3/split_2/train/mask/_04_h_2_10.png  \n",
            "  inflating: hrf_512_512_dice_loss_hvr_0_3_feb_3/split_2/train/mask/_07_g_1_0.png  \n",
            "  inflating: hrf_512_512_dice_loss_hvr_0_3_feb_3/split_2/train/mask/_02_h_1_26.png  \n",
            "  inflating: hrf_512_512_dice_loss_hvr_0_3_feb_3/split_2/train/mask/_13_h_0_28.png  \n",
            "  inflating: hrf_512_512_dice_loss_hvr_0_3_feb_3/split_2/train/mask/_14_h_2_19.png  \n",
            "  inflating: hrf_512_512_dice_loss_hvr_0_3_feb_3/split_2/train/mask/_08_h_3_3.png  \n",
            "  inflating: hrf_512_512_dice_loss_hvr_0_3_feb_3/split_2/train/mask/_04_g_0_29.png  \n",
            "  inflating: hrf_512_512_dice_loss_hvr_0_3_feb_3/split_2/train/mask/_07_g_1_22.png  \n",
            "  inflating: hrf_512_512_dice_loss_hvr_0_3_feb_3/split_2/train/mask/_03_dr_0_24.png  \n",
            "  inflating: hrf_512_512_dice_loss_hvr_0_3_feb_3/split_2/train/mask/_09_dr_1_16.png  \n",
            "  inflating: hrf_512_512_dice_loss_hvr_0_3_feb_3/split_2/train/mask/_04_h_3_26.png  \n",
            "  inflating: hrf_512_512_dice_loss_hvr_0_3_feb_3/split_2/train/mask/_01_dr_3_18.png  \n",
            "  inflating: hrf_512_512_dice_loss_hvr_0_3_feb_3/split_2/train/mask/_03_dr_0_3.png  \n",
            "  inflating: hrf_512_512_dice_loss_hvr_0_3_feb_3/split_2/train/mask/_02_h_3_31.png  \n",
            "  inflating: hrf_512_512_dice_loss_hvr_0_3_feb_3/split_2/train/mask/_09_dr_3_14.png  \n",
            "  inflating: hrf_512_512_dice_loss_hvr_0_3_feb_3/split_2/train/mask/_09_h_0_19.png  \n",
            "  inflating: hrf_512_512_dice_loss_hvr_0_3_feb_3/split_2/train/mask/_03_g_3_24.png  \n",
            "  inflating: hrf_512_512_dice_loss_hvr_0_3_feb_3/split_2/train/mask/_13_g_2_29.png  \n",
            "  inflating: hrf_512_512_dice_loss_hvr_0_3_feb_3/split_2/train/mask/_13_h_0_17.png  \n",
            "  inflating: hrf_512_512_dice_loss_hvr_0_3_feb_3/split_2/train/mask/_14_g_2_34.png  \n",
            "  inflating: hrf_512_512_dice_loss_hvr_0_3_feb_3/split_2/train/mask/_07_h_1_18.png  \n",
            "  inflating: hrf_512_512_dice_loss_hvr_0_3_feb_3/split_2/train/mask/_06_h_0_22.png  \n",
            "  inflating: hrf_512_512_dice_loss_hvr_0_3_feb_3/split_2/train/mask/_01_h_3_9.png  \n",
            "  inflating: hrf_512_512_dice_loss_hvr_0_3_feb_3/split_2/train/mask/_02_h_2_29.png  \n",
            "  inflating: hrf_512_512_dice_loss_hvr_0_3_feb_3/split_2/train/mask/_15_g_3_3.png  \n",
            "  inflating: hrf_512_512_dice_loss_hvr_0_3_feb_3/split_2/train/mask/_01_g_2_1.png  \n",
            "  inflating: hrf_512_512_dice_loss_hvr_0_3_feb_3/split_2/train/mask/_09_g_1_1.png  \n",
            "  inflating: hrf_512_512_dice_loss_hvr_0_3_feb_3/split_2/train/mask/_13_h_0_4.png  \n",
            "  inflating: hrf_512_512_dice_loss_hvr_0_3_feb_3/split_2/train/mask/_04_h_2_33.png  \n",
            "  inflating: hrf_512_512_dice_loss_hvr_0_3_feb_3/split_2/train/mask/_01_h_0_29.png  \n",
            "  inflating: hrf_512_512_dice_loss_hvr_0_3_feb_3/split_2/train/mask/_10_g_1_33.png  \n",
            "  inflating: hrf_512_512_dice_loss_hvr_0_3_feb_3/split_2/train/mask/_04_h_2_22.png  \n",
            "  inflating: hrf_512_512_dice_loss_hvr_0_3_feb_3/split_2/train/mask/_09_g_0_10.png  \n",
            "  inflating: hrf_512_512_dice_loss_hvr_0_3_feb_3/split_2/train/mask/_04_dr_2_1.png  \n",
            "  inflating: hrf_512_512_dice_loss_hvr_0_3_feb_3/split_2/train/mask/_04_h_1_9.png  \n",
            "  inflating: hrf_512_512_dice_loss_hvr_0_3_feb_3/split_2/train/mask/_14_g_0_32.png  \n",
            "  inflating: hrf_512_512_dice_loss_hvr_0_3_feb_3/split_2/train/mask/_04_h_0_5.png  \n",
            "  inflating: hrf_512_512_dice_loss_hvr_0_3_feb_3/split_2/train/mask/_04_h_2_32.png  \n",
            "  inflating: hrf_512_512_dice_loss_hvr_0_3_feb_3/split_2/train/mask/_06_dr_0_9.png  \n",
            "  inflating: hrf_512_512_dice_loss_hvr_0_3_feb_3/split_2/train/mask/_12_dr_3_4.png  \n",
            "  inflating: hrf_512_512_dice_loss_hvr_0_3_feb_3/split_2/train/mask/_05_h_2_4.png  \n",
            "  inflating: hrf_512_512_dice_loss_hvr_0_3_feb_3/split_2/train/mask/_03_dr_0_9.png  \n",
            "  inflating: hrf_512_512_dice_loss_hvr_0_3_feb_3/split_2/train/mask/_03_g_1_7.png  \n",
            "  inflating: hrf_512_512_dice_loss_hvr_0_3_feb_3/split_2/train/mask/_01_dr_3_19.png  \n",
            "  inflating: hrf_512_512_dice_loss_hvr_0_3_feb_3/split_2/train/mask/_06_h_1_15.png  \n",
            "  inflating: hrf_512_512_dice_loss_hvr_0_3_feb_3/split_2/train/mask/_13_h_3_15.png  \n",
            "  inflating: hrf_512_512_dice_loss_hvr_0_3_feb_3/split_2/train/mask/_04_dr_0_16.png  \n",
            "  inflating: hrf_512_512_dice_loss_hvr_0_3_feb_3/split_2/train/mask/_07_h_1_31.png  \n",
            "  inflating: hrf_512_512_dice_loss_hvr_0_3_feb_3/split_2/train/mask/_09_h_2_4.png  \n",
            "  inflating: hrf_512_512_dice_loss_hvr_0_3_feb_3/split_2/train/mask/_01_g_1_34.png  \n",
            "  inflating: hrf_512_512_dice_loss_hvr_0_3_feb_3/split_2/train/mask/_15_g_1_28.png  \n",
            "  inflating: hrf_512_512_dice_loss_hvr_0_3_feb_3/split_2/train/mask/_02_dr_0_28.png  \n",
            "  inflating: hrf_512_512_dice_loss_hvr_0_3_feb_3/split_2/train/mask/_11_g_0_34.png  \n",
            "  inflating: hrf_512_512_dice_loss_hvr_0_3_feb_3/split_2/train/mask/_03_g_2_13.png  \n",
            "  inflating: hrf_512_512_dice_loss_hvr_0_3_feb_3/split_2/train/mask/_03_g_3_12.png  \n",
            "  inflating: hrf_512_512_dice_loss_hvr_0_3_feb_3/split_2/train/mask/_06_h_0_1.png  \n",
            "  inflating: hrf_512_512_dice_loss_hvr_0_3_feb_3/split_2/train/mask/_02_dr_1_9.png  \n",
            "  inflating: hrf_512_512_dice_loss_hvr_0_3_feb_3/split_2/train/mask/_07_h_2_21.png  \n",
            "  inflating: hrf_512_512_dice_loss_hvr_0_3_feb_3/split_2/train/mask/_08_h_3_1.png  \n",
            "  inflating: hrf_512_512_dice_loss_hvr_0_3_feb_3/split_2/train/mask/_07_h_0_13.png  \n",
            "  inflating: hrf_512_512_dice_loss_hvr_0_3_feb_3/split_2/train/mask/_07_g_0_9.png  \n",
            "  inflating: hrf_512_512_dice_loss_hvr_0_3_feb_3/split_2/train/mask/_13_h_1_32.png  \n",
            "  inflating: hrf_512_512_dice_loss_hvr_0_3_feb_3/split_2/train/mask/_04_g_0_17.png  \n",
            "  inflating: hrf_512_512_dice_loss_hvr_0_3_feb_3/split_2/train/mask/_15_dr_2_14.png  \n",
            "  inflating: hrf_512_512_dice_loss_hvr_0_3_feb_3/split_2/train/mask/_01_h_3_22.png  \n",
            "  inflating: hrf_512_512_dice_loss_hvr_0_3_feb_3/split_2/train/mask/_07_dr_2_8.png  \n",
            "  inflating: hrf_512_512_dice_loss_hvr_0_3_feb_3/split_2/train/mask/_05_h_0_30.png  \n",
            "  inflating: hrf_512_512_dice_loss_hvr_0_3_feb_3/split_2/train/mask/_02_h_2_2.png  \n",
            "  inflating: hrf_512_512_dice_loss_hvr_0_3_feb_3/split_2/train/mask/_02_dr_1_8.png  \n",
            "  inflating: hrf_512_512_dice_loss_hvr_0_3_feb_3/split_2/train/mask/_02_dr_1_15.png  \n",
            "  inflating: hrf_512_512_dice_loss_hvr_0_3_feb_3/split_2/train/mask/_15_dr_1_22.png  \n",
            "  inflating: hrf_512_512_dice_loss_hvr_0_3_feb_3/split_2/train/mask/_04_g_1_19.png  \n",
            "  inflating: hrf_512_512_dice_loss_hvr_0_3_feb_3/split_2/train/mask/_12_dr_3_11.png  \n",
            "  inflating: hrf_512_512_dice_loss_hvr_0_3_feb_3/split_2/train/mask/_01_h_0_27.png  \n",
            "  inflating: hrf_512_512_dice_loss_hvr_0_3_feb_3/split_2/train/mask/_07_h_1_12.png  \n",
            "  inflating: hrf_512_512_dice_loss_hvr_0_3_feb_3/split_2/train/mask/_03_g_0_23.png  \n",
            "  inflating: hrf_512_512_dice_loss_hvr_0_3_feb_3/split_2/train/mask/_04_h_2_29.png  \n",
            "  inflating: hrf_512_512_dice_loss_hvr_0_3_feb_3/split_2/train/mask/_03_g_2_10.png  \n",
            "  inflating: hrf_512_512_dice_loss_hvr_0_3_feb_3/split_2/train/mask/_01_g_1_30.png  \n",
            "  inflating: hrf_512_512_dice_loss_hvr_0_3_feb_3/split_2/train/mask/_09_dr_1_26.png  \n",
            "  inflating: hrf_512_512_dice_loss_hvr_0_3_feb_3/split_2/train/mask/_01_h_2_34.png  \n",
            "  inflating: hrf_512_512_dice_loss_hvr_0_3_feb_3/split_2/train/mask/_04_g_2_23.png  \n",
            "  inflating: hrf_512_512_dice_loss_hvr_0_3_feb_3/split_2/train/mask/_12_dr_2_28.png  \n",
            "  inflating: hrf_512_512_dice_loss_hvr_0_3_feb_3/split_2/train/mask/_02_h_0_30.png  \n",
            "  inflating: hrf_512_512_dice_loss_hvr_0_3_feb_3/split_2/train/mask/_07_h_1_8.png  \n",
            "  inflating: hrf_512_512_dice_loss_hvr_0_3_feb_3/split_2/train/mask/_15_dr_0_22.png  \n",
            "  inflating: hrf_512_512_dice_loss_hvr_0_3_feb_3/split_2/train/mask/_14_dr_1_17.png  \n",
            "  inflating: hrf_512_512_dice_loss_hvr_0_3_feb_3/split_2/train/mask/_02_dr_3_0.png  \n",
            "  inflating: hrf_512_512_dice_loss_hvr_0_3_feb_3/split_2/train/mask/_01_g_1_20.png  \n",
            "  inflating: hrf_512_512_dice_loss_hvr_0_3_feb_3/split_2/train/mask/_05_h_3_10.png  \n",
            "  inflating: hrf_512_512_dice_loss_hvr_0_3_feb_3/split_2/train/mask/_13_g_2_31.png  \n",
            "  inflating: hrf_512_512_dice_loss_hvr_0_3_feb_3/split_2/train/mask/_06_h_3_26.png  \n",
            "  inflating: hrf_512_512_dice_loss_hvr_0_3_feb_3/split_2/train/mask/_03_g_3_6.png  \n",
            "  inflating: hrf_512_512_dice_loss_hvr_0_3_feb_3/split_2/train/mask/_15_g_1_32.png  \n",
            "  inflating: hrf_512_512_dice_loss_hvr_0_3_feb_3/split_2/train/mask/_15_dr_0_12.png  \n",
            "  inflating: hrf_512_512_dice_loss_hvr_0_3_feb_3/split_2/train/mask/_04_h_3_2.png  \n",
            "  inflating: hrf_512_512_dice_loss_hvr_0_3_feb_3/split_2/train/mask/_15_g_1_7.png  \n",
            "  inflating: hrf_512_512_dice_loss_hvr_0_3_feb_3/split_2/train/mask/_10_g_3_12.png  \n",
            "  inflating: hrf_512_512_dice_loss_hvr_0_3_feb_3/split_2/train/mask/_09_h_3_5.png  \n",
            "  inflating: hrf_512_512_dice_loss_hvr_0_3_feb_3/split_2/train/mask/_02_dr_0_26.png  \n",
            "  inflating: hrf_512_512_dice_loss_hvr_0_3_feb_3/split_2/train/mask/_06_h_0_17.png  \n",
            "  inflating: hrf_512_512_dice_loss_hvr_0_3_feb_3/split_2/train/mask/_07_g_2_29.png  \n",
            "  inflating: hrf_512_512_dice_loss_hvr_0_3_feb_3/split_2/train/mask/_05_h_1_7.png  \n",
            "  inflating: hrf_512_512_dice_loss_hvr_0_3_feb_3/split_2/train/mask/_15_dr_0_26.png  \n",
            "  inflating: hrf_512_512_dice_loss_hvr_0_3_feb_3/split_2/train/mask/_14_dr_3_23.png  \n",
            "  inflating: hrf_512_512_dice_loss_hvr_0_3_feb_3/split_2/train/mask/_01_dr_0_22.png  \n",
            "  inflating: hrf_512_512_dice_loss_hvr_0_3_feb_3/split_2/train/mask/_07_h_1_4.png  \n",
            "  inflating: hrf_512_512_dice_loss_hvr_0_3_feb_3/split_2/train/mask/_13_h_2_24.png  \n",
            "  inflating: hrf_512_512_dice_loss_hvr_0_3_feb_3/split_2/train/mask/_09_h_1_3.png  \n",
            "  inflating: hrf_512_512_dice_loss_hvr_0_3_feb_3/split_2/train/mask/_10_dr_0_24.png  \n",
            "  inflating: hrf_512_512_dice_loss_hvr_0_3_feb_3/split_2/train/mask/_01_g_2_28.png  \n",
            "  inflating: hrf_512_512_dice_loss_hvr_0_3_feb_3/split_2/train/mask/_02_h_3_22.png  \n",
            "  inflating: hrf_512_512_dice_loss_hvr_0_3_feb_3/split_2/train/mask/_15_g_0_27.png  \n",
            "  inflating: hrf_512_512_dice_loss_hvr_0_3_feb_3/split_2/train/mask/_13_h_0_26.png  \n",
            "  inflating: hrf_512_512_dice_loss_hvr_0_3_feb_3/split_2/train/mask/_05_h_3_5.png  \n",
            "  inflating: hrf_512_512_dice_loss_hvr_0_3_feb_3/split_2/train/mask/_01_g_3_2.png  \n",
            "  inflating: hrf_512_512_dice_loss_hvr_0_3_feb_3/split_2/train/mask/_01_g_1_10.png  \n",
            "  inflating: hrf_512_512_dice_loss_hvr_0_3_feb_3/split_2/train/mask/_08_h_1_28.png  \n",
            "  inflating: hrf_512_512_dice_loss_hvr_0_3_feb_3/split_2/train/mask/_10_dr_0_18.png  \n",
            "  inflating: hrf_512_512_dice_loss_hvr_0_3_feb_3/split_2/train/mask/_10_dr_1_22.png  \n",
            "  inflating: hrf_512_512_dice_loss_hvr_0_3_feb_3/split_2/train/mask/_06_dr_1_30.png  \n",
            "  inflating: hrf_512_512_dice_loss_hvr_0_3_feb_3/split_2/train/mask/_09_g_0_12.png  \n",
            "  inflating: hrf_512_512_dice_loss_hvr_0_3_feb_3/split_2/train/mask/_05_h_3_1.png  \n",
            "  inflating: hrf_512_512_dice_loss_hvr_0_3_feb_3/split_2/train/mask/_06_dr_1_31.png  \n",
            "  inflating: hrf_512_512_dice_loss_hvr_0_3_feb_3/split_2/train/mask/_09_g_0_17.png  \n",
            "  inflating: hrf_512_512_dice_loss_hvr_0_3_feb_3/split_2/train/mask/_04_g_1_1.png  \n",
            "  inflating: hrf_512_512_dice_loss_hvr_0_3_feb_3/split_2/train/mask/_02_dr_0_15.png  \n",
            "  inflating: hrf_512_512_dice_loss_hvr_0_3_feb_3/split_2/train/mask/_15_dr_3_28.png  \n",
            "  inflating: hrf_512_512_dice_loss_hvr_0_3_feb_3/split_2/train/mask/_01_g_0_5.png  \n",
            "  inflating: hrf_512_512_dice_loss_hvr_0_3_feb_3/split_2/train/mask/_03_g_3_30.png  \n",
            "  inflating: hrf_512_512_dice_loss_hvr_0_3_feb_3/split_2/train/mask/_14_dr_1_13.png  \n",
            "  inflating: hrf_512_512_dice_loss_hvr_0_3_feb_3/split_2/train/mask/_15_g_3_6.png  \n",
            "  inflating: hrf_512_512_dice_loss_hvr_0_3_feb_3/split_2/train/mask/_09_h_2_10.png  \n",
            "  inflating: hrf_512_512_dice_loss_hvr_0_3_feb_3/split_2/train/mask/_14_h_0_32.png  \n",
            "  inflating: hrf_512_512_dice_loss_hvr_0_3_feb_3/split_2/train/mask/_10_dr_0_15.png  \n",
            "  inflating: hrf_512_512_dice_loss_hvr_0_3_feb_3/split_2/train/mask/_02_h_3_29.png  \n",
            "  inflating: hrf_512_512_dice_loss_hvr_0_3_feb_3/split_2/train/mask/_13_g_1_13.png  \n",
            "  inflating: hrf_512_512_dice_loss_hvr_0_3_feb_3/split_2/train/mask/_15_dr_1_30.png  \n",
            "  inflating: hrf_512_512_dice_loss_hvr_0_3_feb_3/split_2/train/mask/_14_g_1_19.png  \n",
            "  inflating: hrf_512_512_dice_loss_hvr_0_3_feb_3/split_2/train/mask/_04_dr_0_4.png  \n",
            "  inflating: hrf_512_512_dice_loss_hvr_0_3_feb_3/split_2/train/mask/_10_dr_1_3.png  \n",
            "  inflating: hrf_512_512_dice_loss_hvr_0_3_feb_3/split_2/train/mask/_09_h_0_10.png  \n",
            "  inflating: hrf_512_512_dice_loss_hvr_0_3_feb_3/split_2/train/mask/_01_h_3_12.png  \n",
            "  inflating: hrf_512_512_dice_loss_hvr_0_3_feb_3/split_2/train/mask/_01_dr_1_17.png  \n",
            "  inflating: hrf_512_512_dice_loss_hvr_0_3_feb_3/split_2/train/mask/_13_g_1_10.png  \n",
            "  inflating: hrf_512_512_dice_loss_hvr_0_3_feb_3/split_2/train/mask/_07_dr_0_34.png  \n",
            "  inflating: hrf_512_512_dice_loss_hvr_0_3_feb_3/split_2/image_patches_512_512_test.csv  \n",
            "   creating: hrf_512_512_dice_loss_hvr_0_3_feb_3/split_2/reconstructed/\n",
            "   creating: hrf_512_512_dice_loss_hvr_0_3_feb_3/split_2/reconstructed/test/\n",
            "   creating: hrf_512_512_dice_loss_hvr_0_3_feb_3/split_2/reconstructed/test/image/\n",
            "  inflating: hrf_512_512_dice_loss_hvr_0_3_feb_3/split_2/reconstructed/test/image/06_g.png  \n",
            "  inflating: hrf_512_512_dice_loss_hvr_0_3_feb_3/split_2/reconstructed/test/image/05_dr.png  \n",
            "  inflating: hrf_512_512_dice_loss_hvr_0_3_feb_3/split_2/reconstructed/test/image/11_dr.png  \n",
            "  inflating: hrf_512_512_dice_loss_hvr_0_3_feb_3/split_2/reconstructed/test/image/13_dr.png  \n",
            "  inflating: hrf_512_512_dice_loss_hvr_0_3_feb_3/split_2/reconstructed/test/image/12_g.png  \n",
            "  inflating: hrf_512_512_dice_loss_hvr_0_3_feb_3/split_2/reconstructed/test/image/12_h.png  \n",
            "  inflating: hrf_512_512_dice_loss_hvr_0_3_feb_3/split_2/reconstructed/test/image/10_h.png  \n",
            "  inflating: hrf_512_512_dice_loss_hvr_0_3_feb_3/split_2/reconstructed/test/image/02_g.png  \n",
            "  inflating: hrf_512_512_dice_loss_hvr_0_3_feb_3/split_2/reconstructed/test/image/15_h.png  \n",
            "  inflating: hrf_512_512_dice_loss_hvr_0_3_feb_3/split_2/reconstructed/test/image/05_g.png  \n",
            "  inflating: hrf_512_512_dice_loss_hvr_0_3_feb_3/split_2/reconstructed/test/image/08_dr.png  \n",
            "  inflating: hrf_512_512_dice_loss_hvr_0_3_feb_3/split_2/reconstructed/test/image/11_h.png  \n",
            "  inflating: hrf_512_512_dice_loss_hvr_0_3_feb_3/split_2/reconstructed/test/image/03_h.png  \n",
            "  inflating: hrf_512_512_dice_loss_hvr_0_3_feb_3/split_2/reconstructed/test/image/08_g.png  \n",
            "   creating: hrf_512_512_dice_loss_hvr_0_3_feb_3/split_2/reconstructed/test/predictions_reconstructed/\n",
            "  inflating: hrf_512_512_dice_loss_hvr_0_3_feb_3/split_2/reconstructed/test/predictions_reconstructed/06_g.png  \n",
            "  inflating: hrf_512_512_dice_loss_hvr_0_3_feb_3/split_2/reconstructed/test/predictions_reconstructed/05_dr.png  \n",
            "  inflating: hrf_512_512_dice_loss_hvr_0_3_feb_3/split_2/reconstructed/test/predictions_reconstructed/11_dr.png  \n",
            "  inflating: hrf_512_512_dice_loss_hvr_0_3_feb_3/split_2/reconstructed/test/predictions_reconstructed/13_dr.png  \n",
            "  inflating: hrf_512_512_dice_loss_hvr_0_3_feb_3/split_2/reconstructed/test/predictions_reconstructed/12_g.png  \n",
            "  inflating: hrf_512_512_dice_loss_hvr_0_3_feb_3/split_2/reconstructed/test/predictions_reconstructed/12_h.png  \n",
            "  inflating: hrf_512_512_dice_loss_hvr_0_3_feb_3/split_2/reconstructed/test/predictions_reconstructed/10_h.png  \n",
            "  inflating: hrf_512_512_dice_loss_hvr_0_3_feb_3/split_2/reconstructed/test/predictions_reconstructed/02_g.png  \n",
            "  inflating: hrf_512_512_dice_loss_hvr_0_3_feb_3/split_2/reconstructed/test/predictions_reconstructed/15_h.png  \n",
            "  inflating: hrf_512_512_dice_loss_hvr_0_3_feb_3/split_2/reconstructed/test/predictions_reconstructed/05_g.png  \n",
            "  inflating: hrf_512_512_dice_loss_hvr_0_3_feb_3/split_2/reconstructed/test/predictions_reconstructed/08_dr.png  \n",
            "  inflating: hrf_512_512_dice_loss_hvr_0_3_feb_3/split_2/reconstructed/test/predictions_reconstructed/11_h.png  \n",
            "  inflating: hrf_512_512_dice_loss_hvr_0_3_feb_3/split_2/reconstructed/test/predictions_reconstructed/03_h.png  \n",
            "  inflating: hrf_512_512_dice_loss_hvr_0_3_feb_3/split_2/reconstructed/test/predictions_reconstructed/08_g.png  \n",
            "   creating: hrf_512_512_dice_loss_hvr_0_3_feb_3/split_2/reconstructed/test/mask/\n",
            "  inflating: hrf_512_512_dice_loss_hvr_0_3_feb_3/split_2/reconstructed/test/mask/06_g.png  \n",
            "  inflating: hrf_512_512_dice_loss_hvr_0_3_feb_3/split_2/reconstructed/test/mask/05_dr.png  \n",
            "  inflating: hrf_512_512_dice_loss_hvr_0_3_feb_3/split_2/reconstructed/test/mask/11_dr.png  \n",
            "  inflating: hrf_512_512_dice_loss_hvr_0_3_feb_3/split_2/reconstructed/test/mask/13_dr.png  \n",
            "  inflating: hrf_512_512_dice_loss_hvr_0_3_feb_3/split_2/reconstructed/test/mask/12_g.png  \n",
            "  inflating: hrf_512_512_dice_loss_hvr_0_3_feb_3/split_2/reconstructed/test/mask/12_h.png  \n",
            "  inflating: hrf_512_512_dice_loss_hvr_0_3_feb_3/split_2/reconstructed/test/mask/10_h.png  \n",
            "  inflating: hrf_512_512_dice_loss_hvr_0_3_feb_3/split_2/reconstructed/test/mask/02_g.png  \n",
            "  inflating: hrf_512_512_dice_loss_hvr_0_3_feb_3/split_2/reconstructed/test/mask/15_h.png  \n",
            "  inflating: hrf_512_512_dice_loss_hvr_0_3_feb_3/split_2/reconstructed/test/mask/05_g.png  \n",
            "  inflating: hrf_512_512_dice_loss_hvr_0_3_feb_3/split_2/reconstructed/test/mask/08_dr.png  \n",
            "  inflating: hrf_512_512_dice_loss_hvr_0_3_feb_3/split_2/reconstructed/test/mask/11_h.png  \n",
            "  inflating: hrf_512_512_dice_loss_hvr_0_3_feb_3/split_2/reconstructed/test/mask/03_h.png  \n",
            "  inflating: hrf_512_512_dice_loss_hvr_0_3_feb_3/split_2/reconstructed/test/mask/08_g.png  \n",
            "  inflating: hrf_512_512_dice_loss_hvr_0_3_feb_3/split_2/image_patches_512_512_train.csv  \n",
            "   creating: hrf_512_512_dice_loss_hvr_0_3_feb_3/split_2/test/\n",
            "   creating: hrf_512_512_dice_loss_hvr_0_3_feb_3/split_2/test/image/\n",
            "  inflating: hrf_512_512_dice_loss_hvr_0_3_feb_3/split_2/test/image/_15_h_23.png  \n",
            "  inflating: hrf_512_512_dice_loss_hvr_0_3_feb_3/split_2/test/image/_03_h_0.png  \n",
            "  inflating: hrf_512_512_dice_loss_hvr_0_3_feb_3/split_2/test/image/_05_g_11.png  \n",
            "  inflating: hrf_512_512_dice_loss_hvr_0_3_feb_3/split_2/test/image/_08_dr_20.png  \n",
            "  inflating: hrf_512_512_dice_loss_hvr_0_3_feb_3/split_2/test/image/_08_dr_4.png  \n",
            "  inflating: hrf_512_512_dice_loss_hvr_0_3_feb_3/split_2/test/image/_13_dr_8.png  \n",
            "  inflating: hrf_512_512_dice_loss_hvr_0_3_feb_3/split_2/test/image/_05_g_22.png  \n",
            "  inflating: hrf_512_512_dice_loss_hvr_0_3_feb_3/split_2/test/image/_03_h_1.png  \n",
            "  inflating: hrf_512_512_dice_loss_hvr_0_3_feb_3/split_2/test/image/_08_g_27.png  \n",
            "  inflating: hrf_512_512_dice_loss_hvr_0_3_feb_3/split_2/test/image/_11_dr_7.png  \n",
            "  inflating: hrf_512_512_dice_loss_hvr_0_3_feb_3/split_2/test/image/_08_g_16.png  \n",
            "  inflating: hrf_512_512_dice_loss_hvr_0_3_feb_3/split_2/test/image/_15_h_11.png  \n",
            "  inflating: hrf_512_512_dice_loss_hvr_0_3_feb_3/split_2/test/image/_15_h_4.png  \n",
            "  inflating: hrf_512_512_dice_loss_hvr_0_3_feb_3/split_2/test/image/_05_g_32.png  \n",
            "  inflating: hrf_512_512_dice_loss_hvr_0_3_feb_3/split_2/test/image/_03_h_28.png  \n",
            "  inflating: hrf_512_512_dice_loss_hvr_0_3_feb_3/split_2/test/image/_06_g_32.png  \n",
            "  inflating: hrf_512_512_dice_loss_hvr_0_3_feb_3/split_2/test/image/_03_h_11.png  \n",
            "  inflating: hrf_512_512_dice_loss_hvr_0_3_feb_3/split_2/test/image/_08_g_23.png  \n",
            "  inflating: hrf_512_512_dice_loss_hvr_0_3_feb_3/split_2/test/image/_12_g_32.png  \n",
            "  inflating: hrf_512_512_dice_loss_hvr_0_3_feb_3/split_2/test/image/_06_g_9.png  \n",
            "  inflating: hrf_512_512_dice_loss_hvr_0_3_feb_3/split_2/test/image/_02_g_25.png  \n",
            "  inflating: hrf_512_512_dice_loss_hvr_0_3_feb_3/split_2/test/image/_12_g_14.png  \n",
            "  inflating: hrf_512_512_dice_loss_hvr_0_3_feb_3/split_2/test/image/_08_dr_10.png  \n",
            "  inflating: hrf_512_512_dice_loss_hvr_0_3_feb_3/split_2/test/image/_11_dr_30.png  \n",
            "  inflating: hrf_512_512_dice_loss_hvr_0_3_feb_3/split_2/test/image/_11_dr_8.png  \n",
            "  inflating: hrf_512_512_dice_loss_hvr_0_3_feb_3/split_2/test/image/_05_dr_22.png  \n",
            "  inflating: hrf_512_512_dice_loss_hvr_0_3_feb_3/split_2/test/image/_06_g_34.png  \n",
            "  inflating: hrf_512_512_dice_loss_hvr_0_3_feb_3/split_2/test/image/_13_dr_17.png  \n",
            "  inflating: hrf_512_512_dice_loss_hvr_0_3_feb_3/split_2/test/image/_03_h_12.png  \n",
            "  inflating: hrf_512_512_dice_loss_hvr_0_3_feb_3/split_2/test/image/_05_g_14.png  \n",
            "  inflating: hrf_512_512_dice_loss_hvr_0_3_feb_3/split_2/test/image/_12_g_8.png  \n",
            "  inflating: hrf_512_512_dice_loss_hvr_0_3_feb_3/split_2/test/image/_02_g_22.png  \n",
            "  inflating: hrf_512_512_dice_loss_hvr_0_3_feb_3/split_2/test/image/_12_h_1.png  \n",
            "  inflating: hrf_512_512_dice_loss_hvr_0_3_feb_3/split_2/test/image/_11_dr_22.png  \n",
            "  inflating: hrf_512_512_dice_loss_hvr_0_3_feb_3/split_2/test/image/_06_g_6.png  \n",
            "  inflating: hrf_512_512_dice_loss_hvr_0_3_feb_3/split_2/test/image/_11_dr_14.png  \n",
            "  inflating: hrf_512_512_dice_loss_hvr_0_3_feb_3/split_2/test/image/_02_g_34.png  \n",
            "  inflating: hrf_512_512_dice_loss_hvr_0_3_feb_3/split_2/test/image/_11_h_33.png  \n",
            "  inflating: hrf_512_512_dice_loss_hvr_0_3_feb_3/split_2/test/image/_05_g_17.png  \n",
            "  inflating: hrf_512_512_dice_loss_hvr_0_3_feb_3/split_2/test/image/_08_g_17.png  \n",
            "  inflating: hrf_512_512_dice_loss_hvr_0_3_feb_3/split_2/test/image/_08_g_13.png  \n",
            "  inflating: hrf_512_512_dice_loss_hvr_0_3_feb_3/split_2/test/image/_08_g_28.png  \n",
            "  inflating: hrf_512_512_dice_loss_hvr_0_3_feb_3/split_2/test/image/_08_g_3.png  \n",
            "  inflating: hrf_512_512_dice_loss_hvr_0_3_feb_3/split_2/test/image/_11_dr_15.png  \n",
            "  inflating: hrf_512_512_dice_loss_hvr_0_3_feb_3/split_2/test/image/_06_g_24.png  \n",
            "  inflating: hrf_512_512_dice_loss_hvr_0_3_feb_3/split_2/test/image/_06_g_33.png  \n",
            "  inflating: hrf_512_512_dice_loss_hvr_0_3_feb_3/split_2/test/image/_02_g_21.png  \n",
            "  inflating: hrf_512_512_dice_loss_hvr_0_3_feb_3/split_2/test/image/_08_dr_22.png  \n",
            "  inflating: hrf_512_512_dice_loss_hvr_0_3_feb_3/split_2/test/image/_10_h_26.png  \n",
            "  inflating: hrf_512_512_dice_loss_hvr_0_3_feb_3/split_2/test/image/_13_dr_21.png  \n",
            "  inflating: hrf_512_512_dice_loss_hvr_0_3_feb_3/split_2/test/image/_08_dr_18.png  \n",
            "  inflating: hrf_512_512_dice_loss_hvr_0_3_feb_3/split_2/test/image/_08_dr_3.png  \n",
            "  inflating: hrf_512_512_dice_loss_hvr_0_3_feb_3/split_2/test/image/_02_g_15.png  \n",
            "  inflating: hrf_512_512_dice_loss_hvr_0_3_feb_3/split_2/test/image/_12_h_3.png  \n",
            "  inflating: hrf_512_512_dice_loss_hvr_0_3_feb_3/split_2/test/image/_11_dr_18.png  \n",
            "  inflating: hrf_512_512_dice_loss_hvr_0_3_feb_3/split_2/test/image/_15_h_2.png  \n",
            "  inflating: hrf_512_512_dice_loss_hvr_0_3_feb_3/split_2/test/image/_08_dr_6.png  \n",
            "  inflating: hrf_512_512_dice_loss_hvr_0_3_feb_3/split_2/test/image/_08_dr_19.png  \n",
            "  inflating: hrf_512_512_dice_loss_hvr_0_3_feb_3/split_2/test/image/_15_h_34.png  \n",
            "  inflating: hrf_512_512_dice_loss_hvr_0_3_feb_3/split_2/test/image/_08_g_11.png  \n",
            "  inflating: hrf_512_512_dice_loss_hvr_0_3_feb_3/split_2/test/image/_11_h_17.png  \n",
            "  inflating: hrf_512_512_dice_loss_hvr_0_3_feb_3/split_2/test/image/_05_dr_34.png  \n",
            "  inflating: hrf_512_512_dice_loss_hvr_0_3_feb_3/split_2/test/image/_08_g_1.png  \n",
            "  inflating: hrf_512_512_dice_loss_hvr_0_3_feb_3/split_2/test/image/_12_g_28.png  \n",
            "  inflating: hrf_512_512_dice_loss_hvr_0_3_feb_3/split_2/test/image/_10_h_18.png  \n",
            "  inflating: hrf_512_512_dice_loss_hvr_0_3_feb_3/split_2/test/image/_05_dr_13.png  \n",
            "  inflating: hrf_512_512_dice_loss_hvr_0_3_feb_3/split_2/test/image/_15_h_7.png  \n",
            "  inflating: hrf_512_512_dice_loss_hvr_0_3_feb_3/split_2/test/image/_08_dr_21.png  \n",
            "  inflating: hrf_512_512_dice_loss_hvr_0_3_feb_3/split_2/test/image/_03_h_31.png  \n",
            "  inflating: hrf_512_512_dice_loss_hvr_0_3_feb_3/split_2/test/image/_12_h_16.png  \n",
            "  inflating: hrf_512_512_dice_loss_hvr_0_3_feb_3/split_2/test/image/_08_dr_23.png  \n",
            "  inflating: hrf_512_512_dice_loss_hvr_0_3_feb_3/split_2/test/image/_03_h_29.png  \n",
            "  inflating: hrf_512_512_dice_loss_hvr_0_3_feb_3/split_2/test/image/_11_h_16.png  \n",
            "  inflating: hrf_512_512_dice_loss_hvr_0_3_feb_3/split_2/test/image/_12_g_22.png  \n",
            "  inflating: hrf_512_512_dice_loss_hvr_0_3_feb_3/split_2/test/image/_11_dr_6.png  \n",
            "  inflating: hrf_512_512_dice_loss_hvr_0_3_feb_3/split_2/test/image/_11_dr_12.png  \n",
            "  inflating: hrf_512_512_dice_loss_hvr_0_3_feb_3/split_2/test/image/_12_g_31.png  \n",
            "  inflating: hrf_512_512_dice_loss_hvr_0_3_feb_3/split_2/test/image/_12_h_0.png  \n",
            "  inflating: hrf_512_512_dice_loss_hvr_0_3_feb_3/split_2/test/image/_02_g_27.png  \n",
            "  inflating: hrf_512_512_dice_loss_hvr_0_3_feb_3/split_2/test/image/_05_g_13.png  \n",
            "  inflating: hrf_512_512_dice_loss_hvr_0_3_feb_3/split_2/test/image/_06_g_29.png  \n",
            "  inflating: hrf_512_512_dice_loss_hvr_0_3_feb_3/split_2/test/image/_12_h_4.png  \n",
            "  inflating: hrf_512_512_dice_loss_hvr_0_3_feb_3/split_2/test/image/_05_dr_7.png  \n",
            "  inflating: hrf_512_512_dice_loss_hvr_0_3_feb_3/split_2/test/image/_02_g_31.png  \n",
            "  inflating: hrf_512_512_dice_loss_hvr_0_3_feb_3/split_2/test/image/_11_dr_17.png  \n",
            "  inflating: hrf_512_512_dice_loss_hvr_0_3_feb_3/split_2/test/image/_11_h_19.png  \n",
            "  inflating: hrf_512_512_dice_loss_hvr_0_3_feb_3/split_2/test/image/_12_g_0.png  \n",
            "  inflating: hrf_512_512_dice_loss_hvr_0_3_feb_3/split_2/test/image/_08_dr_17.png  \n",
            "  inflating: hrf_512_512_dice_loss_hvr_0_3_feb_3/split_2/test/image/_10_h_24.png  \n",
            "  inflating: hrf_512_512_dice_loss_hvr_0_3_feb_3/split_2/test/image/_06_g_18.png  \n",
            "  inflating: hrf_512_512_dice_loss_hvr_0_3_feb_3/split_2/test/image/_10_h_3.png  \n",
            "  inflating: hrf_512_512_dice_loss_hvr_0_3_feb_3/split_2/test/image/_12_g_7.png  \n",
            "  inflating: hrf_512_512_dice_loss_hvr_0_3_feb_3/split_2/test/image/_02_g_9.png  \n",
            "  inflating: hrf_512_512_dice_loss_hvr_0_3_feb_3/split_2/test/image/_08_g_22.png  \n",
            "  inflating: hrf_512_512_dice_loss_hvr_0_3_feb_3/split_2/test/image/_05_g_10.png  \n",
            "  inflating: hrf_512_512_dice_loss_hvr_0_3_feb_3/split_2/test/image/_03_h_5.png  \n",
            "  inflating: hrf_512_512_dice_loss_hvr_0_3_feb_3/split_2/test/image/_05_g_33.png  \n",
            "  inflating: hrf_512_512_dice_loss_hvr_0_3_feb_3/split_2/test/image/_11_h_28.png  \n",
            "  inflating: hrf_512_512_dice_loss_hvr_0_3_feb_3/split_2/test/image/_15_h_1.png  \n",
            "  inflating: hrf_512_512_dice_loss_hvr_0_3_feb_3/split_2/test/image/_08_dr_11.png  \n",
            "  inflating: hrf_512_512_dice_loss_hvr_0_3_feb_3/split_2/test/image/_12_h_8.png  \n",
            "  inflating: hrf_512_512_dice_loss_hvr_0_3_feb_3/split_2/test/image/_13_dr_9.png  \n",
            "  inflating: hrf_512_512_dice_loss_hvr_0_3_feb_3/split_2/test/image/_05_dr_5.png  \n",
            "  inflating: hrf_512_512_dice_loss_hvr_0_3_feb_3/split_2/test/image/_15_h_5.png  \n",
            "  inflating: hrf_512_512_dice_loss_hvr_0_3_feb_3/split_2/test/image/_08_dr_24.png  \n",
            "  inflating: hrf_512_512_dice_loss_hvr_0_3_feb_3/split_2/test/image/_10_h_23.png  \n",
            "  inflating: hrf_512_512_dice_loss_hvr_0_3_feb_3/split_2/test/image/_08_g_24.png  \n",
            "  inflating: hrf_512_512_dice_loss_hvr_0_3_feb_3/split_2/test/image/_02_g_30.png  \n",
            "  inflating: hrf_512_512_dice_loss_hvr_0_3_feb_3/split_2/test/image/_08_g_32.png  \n",
            "  inflating: hrf_512_512_dice_loss_hvr_0_3_feb_3/split_2/test/image/_11_h_20.png  \n",
            "  inflating: hrf_512_512_dice_loss_hvr_0_3_feb_3/split_2/test/image/_11_h_26.png  \n",
            "  inflating: hrf_512_512_dice_loss_hvr_0_3_feb_3/split_2/test/image/_13_dr_12.png  \n",
            "  inflating: hrf_512_512_dice_loss_hvr_0_3_feb_3/split_2/test/image/_13_dr_15.png  \n",
            "  inflating: hrf_512_512_dice_loss_hvr_0_3_feb_3/split_2/test/image/_05_dr_12.png  \n",
            "  inflating: hrf_512_512_dice_loss_hvr_0_3_feb_3/split_2/test/image/_11_dr_33.png  \n",
            "  inflating: hrf_512_512_dice_loss_hvr_0_3_feb_3/split_2/test/image/_08_g_8.png  \n",
            "  inflating: hrf_512_512_dice_loss_hvr_0_3_feb_3/split_2/test/image/_12_h_2.png  \n",
            "  inflating: hrf_512_512_dice_loss_hvr_0_3_feb_3/split_2/test/image/_06_g_22.png  \n",
            "  inflating: hrf_512_512_dice_loss_hvr_0_3_feb_3/split_2/test/image/_02_g_4.png  \n",
            "  inflating: hrf_512_512_dice_loss_hvr_0_3_feb_3/split_2/test/image/_13_dr_32.png  \n",
            "  inflating: hrf_512_512_dice_loss_hvr_0_3_feb_3/split_2/test/image/_03_h_2.png  \n",
            "  inflating: hrf_512_512_dice_loss_hvr_0_3_feb_3/split_2/test/image/_12_h_29.png  \n",
            "  inflating: hrf_512_512_dice_loss_hvr_0_3_feb_3/split_2/test/image/_10_h_9.png  \n",
            "  inflating: hrf_512_512_dice_loss_hvr_0_3_feb_3/split_2/test/image/_08_dr_16.png  \n",
            "  inflating: hrf_512_512_dice_loss_hvr_0_3_feb_3/split_2/test/image/_13_dr_27.png  \n",
            "  inflating: hrf_512_512_dice_loss_hvr_0_3_feb_3/split_2/test/image/_12_h_30.png  \n",
            "  inflating: hrf_512_512_dice_loss_hvr_0_3_feb_3/split_2/test/image/_15_h_3.png  \n",
            "  inflating: hrf_512_512_dice_loss_hvr_0_3_feb_3/split_2/test/image/_10_h_16.png  \n",
            "  inflating: hrf_512_512_dice_loss_hvr_0_3_feb_3/split_2/test/image/_08_dr_26.png  \n",
            "  inflating: hrf_512_512_dice_loss_hvr_0_3_feb_3/split_2/test/image/_05_g_20.png  \n",
            "  inflating: hrf_512_512_dice_loss_hvr_0_3_feb_3/split_2/test/image/_06_g_1.png  \n",
            "  inflating: hrf_512_512_dice_loss_hvr_0_3_feb_3/split_2/test/image/_02_g_29.png  \n",
            "  inflating: hrf_512_512_dice_loss_hvr_0_3_feb_3/split_2/test/image/_08_dr_13.png  \n",
            "  inflating: hrf_512_512_dice_loss_hvr_0_3_feb_3/split_2/test/image/_08_g_0.png  \n",
            "  inflating: hrf_512_512_dice_loss_hvr_0_3_feb_3/split_2/test/image/_05_g_26.png  \n",
            "  inflating: hrf_512_512_dice_loss_hvr_0_3_feb_3/split_2/test/image/_02_g_12.png  \n",
            "  inflating: hrf_512_512_dice_loss_hvr_0_3_feb_3/split_2/test/image/_10_h_33.png  \n",
            "  inflating: hrf_512_512_dice_loss_hvr_0_3_feb_3/split_2/test/image/_02_g_2.png  \n",
            "  inflating: hrf_512_512_dice_loss_hvr_0_3_feb_3/split_2/test/image/_05_dr_16.png  \n",
            "  inflating: hrf_512_512_dice_loss_hvr_0_3_feb_3/split_2/test/image/_12_h_11.png  \n",
            "  inflating: hrf_512_512_dice_loss_hvr_0_3_feb_3/split_2/test/image/_05_dr_0.png  \n",
            "  inflating: hrf_512_512_dice_loss_hvr_0_3_feb_3/split_2/test/image/_03_h_8.png  \n",
            "  inflating: hrf_512_512_dice_loss_hvr_0_3_feb_3/split_2/test/image/_12_h_5.png  \n",
            "  inflating: hrf_512_512_dice_loss_hvr_0_3_feb_3/split_2/test/image/_10_h_27.png  \n",
            "  inflating: hrf_512_512_dice_loss_hvr_0_3_feb_3/split_2/test/image/_03_h_17.png  \n",
            "  inflating: hrf_512_512_dice_loss_hvr_0_3_feb_3/split_2/test/image/_15_h_17.png  \n",
            "  inflating: hrf_512_512_dice_loss_hvr_0_3_feb_3/split_2/test/image/_12_h_14.png  \n",
            "  inflating: hrf_512_512_dice_loss_hvr_0_3_feb_3/split_2/test/image/_15_h_6.png  \n",
            "  inflating: hrf_512_512_dice_loss_hvr_0_3_feb_3/split_2/test/image/_03_h_21.png  \n",
            "  inflating: hrf_512_512_dice_loss_hvr_0_3_feb_3/split_2/test/image/_13_dr_20.png  \n",
            "  inflating: hrf_512_512_dice_loss_hvr_0_3_feb_3/split_2/test/image/_12_g_5.png  \n",
            "  inflating: hrf_512_512_dice_loss_hvr_0_3_feb_3/split_2/test/image/_10_h_28.png  \n",
            "  inflating: hrf_512_512_dice_loss_hvr_0_3_feb_3/split_2/test/image/_06_g_5.png  \n",
            "  inflating: hrf_512_512_dice_loss_hvr_0_3_feb_3/split_2/test/image/_08_g_14.png  \n",
            "  inflating: hrf_512_512_dice_loss_hvr_0_3_feb_3/split_2/test/image/_15_h_29.png  \n",
            "  inflating: hrf_512_512_dice_loss_hvr_0_3_feb_3/split_2/test/image/_05_dr_6.png  \n",
            "  inflating: hrf_512_512_dice_loss_hvr_0_3_feb_3/split_2/test/image/_11_dr_25.png  \n",
            "  inflating: hrf_512_512_dice_loss_hvr_0_3_feb_3/split_2/test/image/_05_dr_31.png  \n",
            "  inflating: hrf_512_512_dice_loss_hvr_0_3_feb_3/split_2/test/image/_06_g_19.png  \n",
            "  inflating: hrf_512_512_dice_loss_hvr_0_3_feb_3/split_2/test/image/_03_h_15.png  \n",
            "  inflating: hrf_512_512_dice_loss_hvr_0_3_feb_3/split_2/test/image/_12_g_17.png  \n",
            "  inflating: hrf_512_512_dice_loss_hvr_0_3_feb_3/split_2/test/image/_02_g_11.png  \n",
            "  inflating: hrf_512_512_dice_loss_hvr_0_3_feb_3/split_2/test/image/_13_dr_10.png  \n",
            "  inflating: hrf_512_512_dice_loss_hvr_0_3_feb_3/split_2/test/image/_11_dr_11.png  \n",
            "  inflating: hrf_512_512_dice_loss_hvr_0_3_feb_3/split_2/test/image/_08_g_34.png  \n",
            "  inflating: hrf_512_512_dice_loss_hvr_0_3_feb_3/split_2/test/image/_15_h_10.png  \n",
            "  inflating: hrf_512_512_dice_loss_hvr_0_3_feb_3/split_2/test/image/_12_h_12.png  \n",
            "  inflating: hrf_512_512_dice_loss_hvr_0_3_feb_3/split_2/test/image/_10_h_20.png  \n",
            "  inflating: hrf_512_512_dice_loss_hvr_0_3_feb_3/split_2/test/image/_08_g_31.png  \n",
            "  inflating: hrf_512_512_dice_loss_hvr_0_3_feb_3/split_2/test/image/_08_g_25.png  \n",
            "  inflating: hrf_512_512_dice_loss_hvr_0_3_feb_3/split_2/test/image/_15_h_18.png  \n",
            "  inflating: hrf_512_512_dice_loss_hvr_0_3_feb_3/split_2/test/image/_15_h_24.png  \n",
            "  inflating: hrf_512_512_dice_loss_hvr_0_3_feb_3/split_2/test/image/_06_g_7.png  \n",
            "  inflating: hrf_512_512_dice_loss_hvr_0_3_feb_3/split_2/test/image/_10_h_30.png  \n",
            "  inflating: hrf_512_512_dice_loss_hvr_0_3_feb_3/split_2/test/image/_11_h_21.png  \n",
            "  inflating: hrf_512_512_dice_loss_hvr_0_3_feb_3/split_2/test/image/_06_g_27.png  \n",
            "  inflating: hrf_512_512_dice_loss_hvr_0_3_feb_3/split_2/test/image/_05_g_29.png  \n",
            "  inflating: hrf_512_512_dice_loss_hvr_0_3_feb_3/split_2/test/image/_08_dr_30.png  \n",
            "  inflating: hrf_512_512_dice_loss_hvr_0_3_feb_3/split_2/test/image/_15_h_9.png  \n",
            "  inflating: hrf_512_512_dice_loss_hvr_0_3_feb_3/split_2/test/image/_08_dr_31.png  \n",
            "  inflating: hrf_512_512_dice_loss_hvr_0_3_feb_3/split_2/test/image/_08_g_2.png  \n",
            "  inflating: hrf_512_512_dice_loss_hvr_0_3_feb_3/split_2/test/image/_02_g_17.png  \n",
            "  inflating: hrf_512_512_dice_loss_hvr_0_3_feb_3/split_2/test/image/_08_dr_15.png  \n",
            "  inflating: hrf_512_512_dice_loss_hvr_0_3_feb_3/split_2/test/image/_08_g_15.png  \n",
            "  inflating: hrf_512_512_dice_loss_hvr_0_3_feb_3/split_2/test/image/_05_dr_20.png  \n",
            "  inflating: hrf_512_512_dice_loss_hvr_0_3_feb_3/split_2/test/image/_11_dr_26.png  \n",
            "  inflating: hrf_512_512_dice_loss_hvr_0_3_feb_3/split_2/test/image/_13_dr_5.png  \n",
            "  inflating: hrf_512_512_dice_loss_hvr_0_3_feb_3/split_2/test/image/_08_g_6.png  \n",
            "  inflating: hrf_512_512_dice_loss_hvr_0_3_feb_3/split_2/test/image/_12_g_10.png  \n",
            "  inflating: hrf_512_512_dice_loss_hvr_0_3_feb_3/split_2/test/image/_11_h_30.png  \n",
            "  inflating: hrf_512_512_dice_loss_hvr_0_3_feb_3/split_2/test/image/_03_h_6.png  \n",
            "  inflating: hrf_512_512_dice_loss_hvr_0_3_feb_3/split_2/test/image/_11_h_0.png  \n",
            "  inflating: hrf_512_512_dice_loss_hvr_0_3_feb_3/split_2/test/image/_13_dr_34.png  \n",
            "  inflating: hrf_512_512_dice_loss_hvr_0_3_feb_3/split_2/test/image/_11_dr_23.png  \n",
            "  inflating: hrf_512_512_dice_loss_hvr_0_3_feb_3/split_2/test/image/_08_g_7.png  \n",
            "  inflating: hrf_512_512_dice_loss_hvr_0_3_feb_3/split_2/test/image/_11_h_22.png  \n",
            "  inflating: hrf_512_512_dice_loss_hvr_0_3_feb_3/split_2/test/image/_08_g_21.png  \n",
            "  inflating: hrf_512_512_dice_loss_hvr_0_3_feb_3/split_2/test/image/_10_h_15.png  \n",
            "  inflating: hrf_512_512_dice_loss_hvr_0_3_feb_3/split_2/test/image/_12_h_13.png  \n",
            "  inflating: hrf_512_512_dice_loss_hvr_0_3_feb_3/split_2/test/image/_11_h_18.png  \n",
            "  inflating: hrf_512_512_dice_loss_hvr_0_3_feb_3/split_2/test/image/_12_h_31.png  \n",
            "  inflating: hrf_512_512_dice_loss_hvr_0_3_feb_3/split_2/test/image/_05_g_6.png  \n",
            "  inflating: hrf_512_512_dice_loss_hvr_0_3_feb_3/split_2/test/image/_13_dr_3.png  \n",
            "  inflating: hrf_512_512_dice_loss_hvr_0_3_feb_3/split_2/test/image/_10_h_17.png  \n",
            "  inflating: hrf_512_512_dice_loss_hvr_0_3_feb_3/split_2/test/image/_13_dr_23.png  \n",
            "  inflating: hrf_512_512_dice_loss_hvr_0_3_feb_3/split_2/test/image/_11_h_12.png  \n",
            "  inflating: hrf_512_512_dice_loss_hvr_0_3_feb_3/split_2/test/image/_12_g_13.png  \n",
            "  inflating: hrf_512_512_dice_loss_hvr_0_3_feb_3/split_2/test/image/_03_h_10.png  \n",
            "  inflating: hrf_512_512_dice_loss_hvr_0_3_feb_3/split_2/test/image/_15_h_8.png  \n",
            "  inflating: hrf_512_512_dice_loss_hvr_0_3_feb_3/split_2/test/image/_10_h_11.png  \n",
            "  inflating: hrf_512_512_dice_loss_hvr_0_3_feb_3/split_2/test/image/_10_h_19.png  \n",
            "  inflating: hrf_512_512_dice_loss_hvr_0_3_feb_3/split_2/test/image/_08_dr_14.png  \n",
            "  inflating: hrf_512_512_dice_loss_hvr_0_3_feb_3/split_2/test/image/_10_h_5.png  \n",
            "  inflating: hrf_512_512_dice_loss_hvr_0_3_feb_3/split_2/test/image/_11_h_29.png  \n",
            "  inflating: hrf_512_512_dice_loss_hvr_0_3_feb_3/split_2/test/image/_11_dr_9.png  \n",
            "  inflating: hrf_512_512_dice_loss_hvr_0_3_feb_3/split_2/test/image/_11_h_3.png  \n",
            "  inflating: hrf_512_512_dice_loss_hvr_0_3_feb_3/split_2/test/image/_06_g_11.png  \n",
            "  inflating: hrf_512_512_dice_loss_hvr_0_3_feb_3/split_2/test/image/_12_g_34.png  \n",
            "  inflating: hrf_512_512_dice_loss_hvr_0_3_feb_3/split_2/test/image/_03_h_14.png  \n",
            "  inflating: hrf_512_512_dice_loss_hvr_0_3_feb_3/split_2/test/image/_10_h_7.png  \n",
            "  inflating: hrf_512_512_dice_loss_hvr_0_3_feb_3/split_2/test/image/_03_h_7.png  \n",
            "  inflating: hrf_512_512_dice_loss_hvr_0_3_feb_3/split_2/test/image/_10_h_13.png  \n",
            "  inflating: hrf_512_512_dice_loss_hvr_0_3_feb_3/split_2/test/image/_08_g_33.png  \n",
            "  inflating: hrf_512_512_dice_loss_hvr_0_3_feb_3/split_2/test/image/_11_h_2.png  \n",
            "  inflating: hrf_512_512_dice_loss_hvr_0_3_feb_3/split_2/test/image/_06_g_30.png  \n",
            "  inflating: hrf_512_512_dice_loss_hvr_0_3_feb_3/split_2/test/image/_05_g_0.png  \n",
            "  inflating: hrf_512_512_dice_loss_hvr_0_3_feb_3/split_2/test/image/_11_h_6.png  \n",
            "  inflating: hrf_512_512_dice_loss_hvr_0_3_feb_3/split_2/test/image/_12_h_25.png  \n",
            "  inflating: hrf_512_512_dice_loss_hvr_0_3_feb_3/split_2/test/image/_02_g_14.png  \n",
            "  inflating: hrf_512_512_dice_loss_hvr_0_3_feb_3/split_2/test/image/_10_h_2.png  \n",
            "  inflating: hrf_512_512_dice_loss_hvr_0_3_feb_3/split_2/test/image/_13_dr_31.png  \n",
            "  inflating: hrf_512_512_dice_loss_hvr_0_3_feb_3/split_2/test/image/_11_dr_20.png  \n",
            "  inflating: hrf_512_512_dice_loss_hvr_0_3_feb_3/split_2/test/image/_05_g_18.png  \n",
            "  inflating: hrf_512_512_dice_loss_hvr_0_3_feb_3/split_2/test/image/_11_h_7.png  \n",
            "  inflating: hrf_512_512_dice_loss_hvr_0_3_feb_3/split_2/test/image/_03_h_26.png  \n",
            "  inflating: hrf_512_512_dice_loss_hvr_0_3_feb_3/split_2/test/image/_12_g_25.png  \n",
            "  inflating: hrf_512_512_dice_loss_hvr_0_3_feb_3/split_2/test/image/_10_h_0.png  \n",
            "  inflating: hrf_512_512_dice_loss_hvr_0_3_feb_3/split_2/test/image/_11_dr_24.png  \n",
            "  inflating: hrf_512_512_dice_loss_hvr_0_3_feb_3/split_2/test/image/_03_h_3.png  \n",
            "  inflating: hrf_512_512_dice_loss_hvr_0_3_feb_3/split_2/test/image/_13_dr_2.png  \n",
            "  inflating: hrf_512_512_dice_loss_hvr_0_3_feb_3/split_2/test/image/_11_h_13.png  \n",
            "  inflating: hrf_512_512_dice_loss_hvr_0_3_feb_3/split_2/test/image/_10_h_34.png  \n",
            "  inflating: hrf_512_512_dice_loss_hvr_0_3_feb_3/split_2/test/image/_10_h_1.png  \n",
            "  inflating: hrf_512_512_dice_loss_hvr_0_3_feb_3/split_2/test/image/_05_g_4.png  \n",
            "  inflating: hrf_512_512_dice_loss_hvr_0_3_feb_3/split_2/test/image/_11_h_5.png  \n",
            "  inflating: hrf_512_512_dice_loss_hvr_0_3_feb_3/split_2/test/image/_05_g_12.png  \n",
            "  inflating: hrf_512_512_dice_loss_hvr_0_3_feb_3/split_2/test/image/_15_h_27.png  \n",
            "  inflating: hrf_512_512_dice_loss_hvr_0_3_feb_3/split_2/test/image/_02_g_28.png  \n",
            "  inflating: hrf_512_512_dice_loss_hvr_0_3_feb_3/split_2/test/image/_08_g_29.png  \n",
            "  inflating: hrf_512_512_dice_loss_hvr_0_3_feb_3/split_2/test/image/_11_dr_19.png  \n",
            "  inflating: hrf_512_512_dice_loss_hvr_0_3_feb_3/split_2/test/image/_12_g_16.png  \n",
            "  inflating: hrf_512_512_dice_loss_hvr_0_3_feb_3/split_2/test/image/_13_dr_11.png  \n",
            "  inflating: hrf_512_512_dice_loss_hvr_0_3_feb_3/split_2/test/image/_13_dr_4.png  \n",
            "  inflating: hrf_512_512_dice_loss_hvr_0_3_feb_3/split_2/test/image/_05_g_15.png  \n",
            "  inflating: hrf_512_512_dice_loss_hvr_0_3_feb_3/split_2/test/image/_13_dr_33.png  \n",
            "  inflating: hrf_512_512_dice_loss_hvr_0_3_feb_3/split_2/test/image/_15_h_26.png  \n",
            "  inflating: hrf_512_512_dice_loss_hvr_0_3_feb_3/split_2/test/image/_02_g_6.png  \n",
            "  inflating: hrf_512_512_dice_loss_hvr_0_3_feb_3/split_2/test/image/_05_dr_33.png  \n",
            "  inflating: hrf_512_512_dice_loss_hvr_0_3_feb_3/split_2/test/image/_05_dr_26.png  \n",
            "  inflating: hrf_512_512_dice_loss_hvr_0_3_feb_3/split_2/test/image/_13_dr_14.png  \n",
            "  inflating: hrf_512_512_dice_loss_hvr_0_3_feb_3/split_2/test/image/_02_g_10.png  \n",
            "  inflating: hrf_512_512_dice_loss_hvr_0_3_feb_3/split_2/test/image/_15_h_28.png  \n",
            "  inflating: hrf_512_512_dice_loss_hvr_0_3_feb_3/split_2/test/image/_08_g_18.png  \n",
            "  inflating: hrf_512_512_dice_loss_hvr_0_3_feb_3/split_2/test/image/_12_g_11.png  \n",
            "  inflating: hrf_512_512_dice_loss_hvr_0_3_feb_3/split_2/test/image/_06_g_10.png  \n",
            "  inflating: hrf_512_512_dice_loss_hvr_0_3_feb_3/split_2/test/image/_13_dr_13.png  \n",
            "  inflating: hrf_512_512_dice_loss_hvr_0_3_feb_3/split_2/test/image/_11_dr_4.png  \n",
            "  inflating: hrf_512_512_dice_loss_hvr_0_3_feb_3/split_2/test/image/_03_h_23.png  \n",
            "  inflating: hrf_512_512_dice_loss_hvr_0_3_feb_3/split_2/test/image/_12_h_34.png  \n",
            "  inflating: hrf_512_512_dice_loss_hvr_0_3_feb_3/split_2/test/image/_08_dr_34.png  \n",
            "  inflating: hrf_512_512_dice_loss_hvr_0_3_feb_3/split_2/test/image/_12_h_7.png  \n",
            "  inflating: hrf_512_512_dice_loss_hvr_0_3_feb_3/split_2/test/image/_12_h_17.png  \n",
            "  inflating: hrf_512_512_dice_loss_hvr_0_3_feb_3/split_2/test/image/_11_h_14.png  \n",
            "  inflating: hrf_512_512_dice_loss_hvr_0_3_feb_3/split_2/test/image/_03_h_32.png  \n",
            "  inflating: hrf_512_512_dice_loss_hvr_0_3_feb_3/split_2/test/image/_06_g_0.png  \n",
            "  inflating: hrf_512_512_dice_loss_hvr_0_3_feb_3/split_2/test/image/_12_g_9.png  \n",
            "  inflating: hrf_512_512_dice_loss_hvr_0_3_feb_3/split_2/test/image/_05_dr_3.png  \n",
            "  inflating: hrf_512_512_dice_loss_hvr_0_3_feb_3/split_2/test/image/_10_h_29.png  \n",
            "  inflating: hrf_512_512_dice_loss_hvr_0_3_feb_3/split_2/test/image/_15_h_16.png  \n",
            "  inflating: hrf_512_512_dice_loss_hvr_0_3_feb_3/split_2/test/image/_12_h_24.png  \n",
            "  inflating: hrf_512_512_dice_loss_hvr_0_3_feb_3/split_2/test/image/_05_dr_23.png  \n",
            "  inflating: hrf_512_512_dice_loss_hvr_0_3_feb_3/split_2/test/image/_15_h_14.png  \n",
            "  inflating: hrf_512_512_dice_loss_hvr_0_3_feb_3/split_2/test/image/_08_dr_2.png  \n",
            "  inflating: hrf_512_512_dice_loss_hvr_0_3_feb_3/split_2/test/image/_13_dr_0.png  \n",
            "  inflating: hrf_512_512_dice_loss_hvr_0_3_feb_3/split_2/test/image/_02_g_18.png  \n",
            "  inflating: hrf_512_512_dice_loss_hvr_0_3_feb_3/split_2/test/image/_10_h_14.png  \n",
            "  inflating: hrf_512_512_dice_loss_hvr_0_3_feb_3/split_2/test/image/_13_dr_25.png  \n",
            "  inflating: hrf_512_512_dice_loss_hvr_0_3_feb_3/split_2/test/image/_03_h_16.png  \n",
            "  inflating: hrf_512_512_dice_loss_hvr_0_3_feb_3/split_2/test/image/_02_g_23.png  \n",
            "  inflating: hrf_512_512_dice_loss_hvr_0_3_feb_3/split_2/test/image/_02_g_24.png  \n",
            "  inflating: hrf_512_512_dice_loss_hvr_0_3_feb_3/split_2/test/image/_11_dr_13.png  \n",
            "  inflating: hrf_512_512_dice_loss_hvr_0_3_feb_3/split_2/test/image/_12_g_20.png  \n",
            "  inflating: hrf_512_512_dice_loss_hvr_0_3_feb_3/split_2/test/image/_10_h_22.png  \n",
            "  inflating: hrf_512_512_dice_loss_hvr_0_3_feb_3/split_2/test/image/_12_g_15.png  \n",
            "  inflating: hrf_512_512_dice_loss_hvr_0_3_feb_3/split_2/test/image/_11_dr_29.png  \n",
            "  inflating: hrf_512_512_dice_loss_hvr_0_3_feb_3/split_2/test/image/_02_g_32.png  \n",
            "  inflating: hrf_512_512_dice_loss_hvr_0_3_feb_3/split_2/test/image/_06_g_2.png  \n",
            "  inflating: hrf_512_512_dice_loss_hvr_0_3_feb_3/split_2/test/image/_08_g_30.png  \n",
            "  inflating: hrf_512_512_dice_loss_hvr_0_3_feb_3/split_2/test/image/_08_dr_9.png  \n",
            "  inflating: hrf_512_512_dice_loss_hvr_0_3_feb_3/split_2/test/image/_03_h_34.png  \n",
            "  inflating: hrf_512_512_dice_loss_hvr_0_3_feb_3/split_2/test/image/_06_g_8.png  \n",
            "  inflating: hrf_512_512_dice_loss_hvr_0_3_feb_3/split_2/test/image/_03_h_25.png  \n",
            "  inflating: hrf_512_512_dice_loss_hvr_0_3_feb_3/split_2/test/image/_12_g_24.png  \n",
            "  inflating: hrf_512_512_dice_loss_hvr_0_3_feb_3/split_2/test/image/_05_dr_1.png  \n",
            "  inflating: hrf_512_512_dice_loss_hvr_0_3_feb_3/split_2/test/image/_05_dr_8.png  \n",
            "  inflating: hrf_512_512_dice_loss_hvr_0_3_feb_3/split_2/test/image/_10_h_32.png  \n",
            "  inflating: hrf_512_512_dice_loss_hvr_0_3_feb_3/split_2/test/image/_15_h_32.png  \n",
            "  inflating: hrf_512_512_dice_loss_hvr_0_3_feb_3/split_2/test/image/_11_h_11.png  \n",
            "  inflating: hrf_512_512_dice_loss_hvr_0_3_feb_3/split_2/test/image/_08_g_5.png  \n",
            "  inflating: hrf_512_512_dice_loss_hvr_0_3_feb_3/split_2/test/image/_10_h_4.png  \n",
            "  inflating: hrf_512_512_dice_loss_hvr_0_3_feb_3/split_2/test/image/_08_dr_29.png  \n",
            "  inflating: hrf_512_512_dice_loss_hvr_0_3_feb_3/split_2/test/image/_11_dr_1.png  \n",
            "  inflating: hrf_512_512_dice_loss_hvr_0_3_feb_3/split_2/test/image/_05_g_2.png  \n",
            "  inflating: hrf_512_512_dice_loss_hvr_0_3_feb_3/split_2/test/image/_08_dr_25.png  \n",
            "  inflating: hrf_512_512_dice_loss_hvr_0_3_feb_3/split_2/test/image/_06_g_26.png  \n",
            "  inflating: hrf_512_512_dice_loss_hvr_0_3_feb_3/split_2/test/image/_11_dr_34.png  \n",
            "  inflating: hrf_512_512_dice_loss_hvr_0_3_feb_3/split_2/test/image/_12_h_33.png  \n",
            "  inflating: hrf_512_512_dice_loss_hvr_0_3_feb_3/split_2/test/image/_03_h_27.png  \n",
            "  inflating: hrf_512_512_dice_loss_hvr_0_3_feb_3/split_2/test/image/_11_h_31.png  \n",
            "  inflating: hrf_512_512_dice_loss_hvr_0_3_feb_3/split_2/test/image/_10_h_12.png  \n",
            "  inflating: hrf_512_512_dice_loss_hvr_0_3_feb_3/split_2/test/image/_12_g_19.png  \n",
            "  inflating: hrf_512_512_dice_loss_hvr_0_3_feb_3/split_2/test/image/_12_g_30.png  \n",
            "  inflating: hrf_512_512_dice_loss_hvr_0_3_feb_3/split_2/test/image/_06_g_3.png  \n",
            "  inflating: hrf_512_512_dice_loss_hvr_0_3_feb_3/split_2/test/image/_05_dr_11.png  \n",
            "  inflating: hrf_512_512_dice_loss_hvr_0_3_feb_3/split_2/test/image/_11_dr_28.png  \n",
            "  inflating: hrf_512_512_dice_loss_hvr_0_3_feb_3/split_2/test/image/_13_dr_29.png  \n",
            "  inflating: hrf_512_512_dice_loss_hvr_0_3_feb_3/split_2/test/image/_06_g_23.png  \n",
            "  inflating: hrf_512_512_dice_loss_hvr_0_3_feb_3/split_2/test/image/_05_dr_15.png  \n",
            "  inflating: hrf_512_512_dice_loss_hvr_0_3_feb_3/split_2/test/image/_12_h_32.png  \n",
            "  inflating: hrf_512_512_dice_loss_hvr_0_3_feb_3/split_2/test/image/_12_g_3.png  \n",
            "  inflating: hrf_512_512_dice_loss_hvr_0_3_feb_3/split_2/test/image/_05_dr_32.png  \n",
            "  inflating: hrf_512_512_dice_loss_hvr_0_3_feb_3/split_2/test/image/_11_dr_32.png  \n",
            "  inflating: hrf_512_512_dice_loss_hvr_0_3_feb_3/split_2/test/image/_13_dr_22.png  \n",
            "  inflating: hrf_512_512_dice_loss_hvr_0_3_feb_3/split_2/test/image/_13_dr_1.png  \n",
            "  inflating: hrf_512_512_dice_loss_hvr_0_3_feb_3/split_2/test/image/_08_g_9.png  \n",
            "  inflating: hrf_512_512_dice_loss_hvr_0_3_feb_3/split_2/test/image/_12_g_26.png  \n",
            "  inflating: hrf_512_512_dice_loss_hvr_0_3_feb_3/split_2/test/image/_03_h_22.png  \n",
            "  inflating: hrf_512_512_dice_loss_hvr_0_3_feb_3/split_2/test/image/_11_h_4.png  \n",
            "  inflating: hrf_512_512_dice_loss_hvr_0_3_feb_3/split_2/test/image/_02_g_5.png  \n",
            "  inflating: hrf_512_512_dice_loss_hvr_0_3_feb_3/split_2/test/image/_05_g_19.png  \n",
            "  inflating: hrf_512_512_dice_loss_hvr_0_3_feb_3/split_2/test/image/_12_g_23.png  \n",
            "  inflating: hrf_512_512_dice_loss_hvr_0_3_feb_3/split_2/test/image/_12_g_33.png  \n",
            "  inflating: hrf_512_512_dice_loss_hvr_0_3_feb_3/split_2/test/image/_06_g_15.png  \n",
            "  inflating: hrf_512_512_dice_loss_hvr_0_3_feb_3/split_2/test/image/_12_g_27.png  \n",
            "  inflating: hrf_512_512_dice_loss_hvr_0_3_feb_3/split_2/test/image/_02_g_13.png  \n",
            "  inflating: hrf_512_512_dice_loss_hvr_0_3_feb_3/split_2/test/image/_05_g_27.png  \n",
            "  inflating: hrf_512_512_dice_loss_hvr_0_3_feb_3/split_2/test/image/_11_h_27.png  \n",
            "  inflating: hrf_512_512_dice_loss_hvr_0_3_feb_3/split_2/test/image/_08_g_20.png  \n",
            "  inflating: hrf_512_512_dice_loss_hvr_0_3_feb_3/split_2/test/image/_08_g_4.png  \n",
            "  inflating: hrf_512_512_dice_loss_hvr_0_3_feb_3/split_2/test/image/_05_dr_4.png  \n",
            "  inflating: hrf_512_512_dice_loss_hvr_0_3_feb_3/split_2/test/image/_05_g_28.png  \n",
            "  inflating: hrf_512_512_dice_loss_hvr_0_3_feb_3/split_2/test/image/_08_dr_8.png  \n",
            "  inflating: hrf_512_512_dice_loss_hvr_0_3_feb_3/split_2/test/image/_08_dr_1.png  \n",
            "  inflating: hrf_512_512_dice_loss_hvr_0_3_feb_3/split_2/test/image/_03_h_33.png  \n",
            "  inflating: hrf_512_512_dice_loss_hvr_0_3_feb_3/split_2/test/image/_15_h_0.png  \n",
            "  inflating: hrf_512_512_dice_loss_hvr_0_3_feb_3/split_2/test/image/_08_dr_12.png  \n",
            "  inflating: hrf_512_512_dice_loss_hvr_0_3_feb_3/split_2/test/image/_12_h_28.png  \n",
            "  inflating: hrf_512_512_dice_loss_hvr_0_3_feb_3/split_2/test/image/_15_h_25.png  \n",
            "  inflating: hrf_512_512_dice_loss_hvr_0_3_feb_3/split_2/test/image/_13_dr_18.png  \n",
            "  inflating: hrf_512_512_dice_loss_hvr_0_3_feb_3/split_2/test/image/_12_h_20.png  \n",
            "  inflating: hrf_512_512_dice_loss_hvr_0_3_feb_3/split_2/test/image/_12_h_19.png  \n",
            "  inflating: hrf_512_512_dice_loss_hvr_0_3_feb_3/split_2/test/image/_02_g_26.png  \n",
            "  inflating: hrf_512_512_dice_loss_hvr_0_3_feb_3/split_2/test/image/_13_dr_6.png  \n",
            "  inflating: hrf_512_512_dice_loss_hvr_0_3_feb_3/split_2/test/image/_02_g_0.png  \n",
            "  inflating: hrf_512_512_dice_loss_hvr_0_3_feb_3/split_2/test/image/_15_h_33.png  \n",
            "  inflating: hrf_512_512_dice_loss_hvr_0_3_feb_3/split_2/test/image/_02_g_1.png  \n",
            "  inflating: hrf_512_512_dice_loss_hvr_0_3_feb_3/split_2/test/image/_05_g_7.png  \n",
            "  inflating: hrf_512_512_dice_loss_hvr_0_3_feb_3/split_2/test/image/_05_dr_27.png  \n",
            "  inflating: hrf_512_512_dice_loss_hvr_0_3_feb_3/split_2/test/image/_12_g_1.png  \n",
            "  inflating: hrf_512_512_dice_loss_hvr_0_3_feb_3/split_2/test/image/_03_h_13.png  \n",
            "  inflating: hrf_512_512_dice_loss_hvr_0_3_feb_3/split_2/test/image/_11_dr_3.png  \n",
            "  inflating: hrf_512_512_dice_loss_hvr_0_3_feb_3/split_2/test/image/_02_g_19.png  \n",
            "  inflating: hrf_512_512_dice_loss_hvr_0_3_feb_3/split_2/test/image/_10_h_8.png  \n",
            "  inflating: hrf_512_512_dice_loss_hvr_0_3_feb_3/split_2/test/image/_15_h_15.png  \n",
            "  inflating: hrf_512_512_dice_loss_hvr_0_3_feb_3/split_2/test/image/_02_g_3.png  \n",
            "  inflating: hrf_512_512_dice_loss_hvr_0_3_feb_3/split_2/test/image/_03_h_4.png  \n",
            "  inflating: hrf_512_512_dice_loss_hvr_0_3_feb_3/split_2/test/image/_06_g_31.png  \n",
            "  inflating: hrf_512_512_dice_loss_hvr_0_3_feb_3/split_2/test/image/_06_g_4.png  \n",
            "  inflating: hrf_512_512_dice_loss_hvr_0_3_feb_3/split_2/test/image/_13_dr_16.png  \n",
            "  inflating: hrf_512_512_dice_loss_hvr_0_3_feb_3/split_2/test/image/_11_h_25.png  \n",
            "  inflating: hrf_512_512_dice_loss_hvr_0_3_feb_3/split_2/test/image/_02_g_16.png  \n",
            "  inflating: hrf_512_512_dice_loss_hvr_0_3_feb_3/split_2/test/image/_05_g_8.png  \n",
            "  inflating: hrf_512_512_dice_loss_hvr_0_3_feb_3/split_2/test/image/_11_h_24.png  \n",
            "  inflating: hrf_512_512_dice_loss_hvr_0_3_feb_3/split_2/test/image/_08_g_10.png  \n",
            "  inflating: hrf_512_512_dice_loss_hvr_0_3_feb_3/split_2/test/image/_05_dr_29.png  \n",
            "  inflating: hrf_512_512_dice_loss_hvr_0_3_feb_3/split_2/test/image/_08_g_26.png  \n",
            "  inflating: hrf_512_512_dice_loss_hvr_0_3_feb_3/split_2/test/image/_05_dr_28.png  \n",
            "  inflating: hrf_512_512_dice_loss_hvr_0_3_feb_3/split_2/test/image/_12_g_18.png  \n",
            "  inflating: hrf_512_512_dice_loss_hvr_0_3_feb_3/split_2/test/image/_11_dr_2.png  \n",
            "  inflating: hrf_512_512_dice_loss_hvr_0_3_feb_3/split_2/test/image/_08_dr_27.png  \n",
            "  inflating: hrf_512_512_dice_loss_hvr_0_3_feb_3/split_2/test/image/_10_h_10.png  \n",
            "  inflating: hrf_512_512_dice_loss_hvr_0_3_feb_3/split_2/test/image/_05_dr_2.png  \n",
            "  inflating: hrf_512_512_dice_loss_hvr_0_3_feb_3/split_2/test/image/_11_dr_5.png  \n",
            "  inflating: hrf_512_512_dice_loss_hvr_0_3_feb_3/split_2/test/image/_05_g_5.png  \n",
            "  inflating: hrf_512_512_dice_loss_hvr_0_3_feb_3/split_2/test/image/_10_h_31.png  \n",
            "  inflating: hrf_512_512_dice_loss_hvr_0_3_feb_3/split_2/test/image/_15_h_21.png  \n",
            "  inflating: hrf_512_512_dice_loss_hvr_0_3_feb_3/split_2/test/image/_13_dr_30.png  \n",
            "  inflating: hrf_512_512_dice_loss_hvr_0_3_feb_3/split_2/test/image/_08_dr_5.png  \n",
            "  inflating: hrf_512_512_dice_loss_hvr_0_3_feb_3/split_2/test/image/_10_h_25.png  \n",
            "  inflating: hrf_512_512_dice_loss_hvr_0_3_feb_3/split_2/test/image/_12_h_27.png  \n",
            "  inflating: hrf_512_512_dice_loss_hvr_0_3_feb_3/split_2/test/image/_08_dr_0.png  \n",
            "  inflating: hrf_512_512_dice_loss_hvr_0_3_feb_3/split_2/test/image/_05_dr_18.png  \n",
            "  inflating: hrf_512_512_dice_loss_hvr_0_3_feb_3/split_2/test/image/_06_g_17.png  \n",
            "  inflating: hrf_512_512_dice_loss_hvr_0_3_feb_3/split_2/test/image/_15_h_22.png  \n",
            "  inflating: hrf_512_512_dice_loss_hvr_0_3_feb_3/split_2/test/image/_13_dr_7.png  \n",
            "  inflating: hrf_512_512_dice_loss_hvr_0_3_feb_3/split_2/test/image/_05_g_9.png  \n",
            "  inflating: hrf_512_512_dice_loss_hvr_0_3_feb_3/split_2/test/image/_05_dr_10.png  \n",
            "  inflating: hrf_512_512_dice_loss_hvr_0_3_feb_3/split_2/test/image/_05_g_16.png  \n",
            "  inflating: hrf_512_512_dice_loss_hvr_0_3_feb_3/split_2/test/image/_13_dr_19.png  \n",
            "  inflating: hrf_512_512_dice_loss_hvr_0_3_feb_3/split_2/test/image/_15_h_30.png  \n",
            "  inflating: hrf_512_512_dice_loss_hvr_0_3_feb_3/split_2/test/image/_03_h_9.png  \n",
            "  inflating: hrf_512_512_dice_loss_hvr_0_3_feb_3/split_2/test/image/_08_dr_33.png  \n",
            "  inflating: hrf_512_512_dice_loss_hvr_0_3_feb_3/split_2/test/image/_15_h_12.png  \n",
            "  inflating: hrf_512_512_dice_loss_hvr_0_3_feb_3/split_2/test/image/_05_dr_21.png  \n",
            "  inflating: hrf_512_512_dice_loss_hvr_0_3_feb_3/split_2/test/image/_11_h_9.png  \n",
            "  inflating: hrf_512_512_dice_loss_hvr_0_3_feb_3/split_2/test/image/_12_h_10.png  \n",
            "  inflating: hrf_512_512_dice_loss_hvr_0_3_feb_3/split_2/test/image/_11_dr_27.png  \n",
            "  inflating: hrf_512_512_dice_loss_hvr_0_3_feb_3/split_2/test/image/_06_g_20.png  \n",
            "  inflating: hrf_512_512_dice_loss_hvr_0_3_feb_3/split_2/test/image/_05_g_30.png  \n",
            "  inflating: hrf_512_512_dice_loss_hvr_0_3_feb_3/split_2/test/image/_12_h_22.png  \n",
            "  inflating: hrf_512_512_dice_loss_hvr_0_3_feb_3/split_2/test/image/_05_dr_9.png  \n",
            "  inflating: hrf_512_512_dice_loss_hvr_0_3_feb_3/split_2/test/image/_05_dr_30.png  \n",
            "  inflating: hrf_512_512_dice_loss_hvr_0_3_feb_3/split_2/test/image/_11_h_1.png  \n",
            "  inflating: hrf_512_512_dice_loss_hvr_0_3_feb_3/split_2/test/image/_11_h_10.png  \n",
            "  inflating: hrf_512_512_dice_loss_hvr_0_3_feb_3/split_2/test/image/_05_g_24.png  \n",
            "  inflating: hrf_512_512_dice_loss_hvr_0_3_feb_3/split_2/test/image/_02_g_7.png  \n",
            "  inflating: hrf_512_512_dice_loss_hvr_0_3_feb_3/split_2/test/image/_13_dr_28.png  \n",
            "  inflating: hrf_512_512_dice_loss_hvr_0_3_feb_3/split_2/test/image/_06_g_12.png  \n",
            "  inflating: hrf_512_512_dice_loss_hvr_0_3_feb_3/split_2/test/image/_15_h_31.png  \n",
            "  inflating: hrf_512_512_dice_loss_hvr_0_3_feb_3/split_2/test/image/_11_dr_31.png  \n",
            "  inflating: hrf_512_512_dice_loss_hvr_0_3_feb_3/split_2/test/image/_12_h_21.png  \n",
            "  inflating: hrf_512_512_dice_loss_hvr_0_3_feb_3/split_2/test/image/_10_h_6.png  \n",
            "  inflating: hrf_512_512_dice_loss_hvr_0_3_feb_3/split_2/test/image/_10_h_21.png  \n",
            "  inflating: hrf_512_512_dice_loss_hvr_0_3_feb_3/split_2/test/image/_11_dr_21.png  \n",
            "  inflating: hrf_512_512_dice_loss_hvr_0_3_feb_3/split_2/test/image/_08_g_12.png  \n",
            "  inflating: hrf_512_512_dice_loss_hvr_0_3_feb_3/split_2/test/image/_12_g_12.png  \n",
            "  inflating: hrf_512_512_dice_loss_hvr_0_3_feb_3/split_2/test/image/_12_h_15.png  \n",
            "  inflating: hrf_512_512_dice_loss_hvr_0_3_feb_3/split_2/test/image/_05_g_23.png  \n",
            "  inflating: hrf_512_512_dice_loss_hvr_0_3_feb_3/split_2/test/image/_11_h_34.png  \n",
            "  inflating: hrf_512_512_dice_loss_hvr_0_3_feb_3/split_2/test/image/_05_g_31.png  \n",
            "  inflating: hrf_512_512_dice_loss_hvr_0_3_feb_3/split_2/test/image/_08_dr_32.png  \n",
            "  inflating: hrf_512_512_dice_loss_hvr_0_3_feb_3/split_2/test/image/_12_h_6.png  \n",
            "  inflating: hrf_512_512_dice_loss_hvr_0_3_feb_3/split_2/test/image/_05_dr_24.png  \n",
            "  inflating: hrf_512_512_dice_loss_hvr_0_3_feb_3/split_2/test/image/_03_h_30.png  \n",
            "  inflating: hrf_512_512_dice_loss_hvr_0_3_feb_3/split_2/test/image/_11_h_15.png  \n",
            "  inflating: hrf_512_512_dice_loss_hvr_0_3_feb_3/split_2/test/image/_08_dr_28.png  \n",
            "  inflating: hrf_512_512_dice_loss_hvr_0_3_feb_3/split_2/test/image/_05_dr_17.png  \n",
            "  inflating: hrf_512_512_dice_loss_hvr_0_3_feb_3/split_2/test/image/_06_g_25.png  \n",
            "  inflating: hrf_512_512_dice_loss_hvr_0_3_feb_3/split_2/test/image/_05_g_21.png  \n",
            "  inflating: hrf_512_512_dice_loss_hvr_0_3_feb_3/split_2/test/image/_06_g_14.png  \n",
            "  inflating: hrf_512_512_dice_loss_hvr_0_3_feb_3/split_2/test/image/_11_h_23.png  \n",
            "  inflating: hrf_512_512_dice_loss_hvr_0_3_feb_3/split_2/test/image/_11_dr_16.png  \n",
            "  inflating: hrf_512_512_dice_loss_hvr_0_3_feb_3/split_2/test/image/_06_g_28.png  \n",
            "  inflating: hrf_512_512_dice_loss_hvr_0_3_feb_3/split_2/test/image/_11_dr_0.png  \n",
            "  inflating: hrf_512_512_dice_loss_hvr_0_3_feb_3/split_2/test/image/_06_g_13.png  \n",
            "  inflating: hrf_512_512_dice_loss_hvr_0_3_feb_3/split_2/test/image/_05_dr_19.png  \n",
            "  inflating: hrf_512_512_dice_loss_hvr_0_3_feb_3/split_2/test/image/_03_h_19.png  \n",
            "  inflating: hrf_512_512_dice_loss_hvr_0_3_feb_3/split_2/test/image/_13_dr_26.png  \n",
            "  inflating: hrf_512_512_dice_loss_hvr_0_3_feb_3/split_2/test/image/_13_dr_24.png  \n",
            "  inflating: hrf_512_512_dice_loss_hvr_0_3_feb_3/split_2/test/image/_12_h_9.png  \n",
            "  inflating: hrf_512_512_dice_loss_hvr_0_3_feb_3/split_2/test/image/_03_h_20.png  \n",
            "  inflating: hrf_512_512_dice_loss_hvr_0_3_feb_3/split_2/test/image/_12_g_2.png  \n",
            "  inflating: hrf_512_512_dice_loss_hvr_0_3_feb_3/split_2/test/image/_15_h_19.png  \n",
            "  inflating: hrf_512_512_dice_loss_hvr_0_3_feb_3/split_2/test/image/_08_g_19.png  \n",
            "  inflating: hrf_512_512_dice_loss_hvr_0_3_feb_3/split_2/test/image/_15_h_13.png  \n",
            "  inflating: hrf_512_512_dice_loss_hvr_0_3_feb_3/split_2/test/image/_05_g_34.png  \n",
            "  inflating: hrf_512_512_dice_loss_hvr_0_3_feb_3/split_2/test/image/_12_h_23.png  \n",
            "  inflating: hrf_512_512_dice_loss_hvr_0_3_feb_3/split_2/test/image/_11_h_32.png  \n",
            "  inflating: hrf_512_512_dice_loss_hvr_0_3_feb_3/split_2/test/image/_12_g_4.png  \n",
            "  inflating: hrf_512_512_dice_loss_hvr_0_3_feb_3/split_2/test/image/_12_g_6.png  \n",
            "  inflating: hrf_512_512_dice_loss_hvr_0_3_feb_3/split_2/test/image/_03_h_24.png  \n",
            "  inflating: hrf_512_512_dice_loss_hvr_0_3_feb_3/split_2/test/image/_12_g_29.png  \n",
            "  inflating: hrf_512_512_dice_loss_hvr_0_3_feb_3/split_2/test/image/_05_g_3.png  \n",
            "  inflating: hrf_512_512_dice_loss_hvr_0_3_feb_3/split_2/test/image/_15_h_20.png  \n",
            "  inflating: hrf_512_512_dice_loss_hvr_0_3_feb_3/split_2/test/image/_05_dr_25.png  \n",
            "  inflating: hrf_512_512_dice_loss_hvr_0_3_feb_3/split_2/test/image/_08_dr_7.png  \n",
            "  inflating: hrf_512_512_dice_loss_hvr_0_3_feb_3/split_2/test/image/_02_g_8.png  \n",
            "  inflating: hrf_512_512_dice_loss_hvr_0_3_feb_3/split_2/test/image/_02_g_20.png  \n",
            "  inflating: hrf_512_512_dice_loss_hvr_0_3_feb_3/split_2/test/image/_05_g_25.png  \n",
            "  inflating: hrf_512_512_dice_loss_hvr_0_3_feb_3/split_2/test/image/_05_dr_14.png  \n",
            "  inflating: hrf_512_512_dice_loss_hvr_0_3_feb_3/split_2/test/image/_06_g_21.png  \n",
            "  inflating: hrf_512_512_dice_loss_hvr_0_3_feb_3/split_2/test/image/_11_dr_10.png  \n",
            "  inflating: hrf_512_512_dice_loss_hvr_0_3_feb_3/split_2/test/image/_03_h_18.png  \n",
            "  inflating: hrf_512_512_dice_loss_hvr_0_3_feb_3/split_2/test/image/_11_h_8.png  \n",
            "  inflating: hrf_512_512_dice_loss_hvr_0_3_feb_3/split_2/test/image/_12_h_26.png  \n",
            "  inflating: hrf_512_512_dice_loss_hvr_0_3_feb_3/split_2/test/image/_05_g_1.png  \n",
            "  inflating: hrf_512_512_dice_loss_hvr_0_3_feb_3/split_2/test/image/_02_g_33.png  \n",
            "  inflating: hrf_512_512_dice_loss_hvr_0_3_feb_3/split_2/test/image/_06_g_16.png  \n",
            "  inflating: hrf_512_512_dice_loss_hvr_0_3_feb_3/split_2/test/image/_12_h_18.png  \n",
            "  inflating: hrf_512_512_dice_loss_hvr_0_3_feb_3/split_2/test/image/_12_g_21.png  \n",
            "   creating: hrf_512_512_dice_loss_hvr_0_3_feb_3/split_2/test/mask/\n",
            "  inflating: hrf_512_512_dice_loss_hvr_0_3_feb_3/split_2/test/mask/_15_h_23.png  \n",
            "  inflating: hrf_512_512_dice_loss_hvr_0_3_feb_3/split_2/test/mask/_03_h_0.png  \n",
            "  inflating: hrf_512_512_dice_loss_hvr_0_3_feb_3/split_2/test/mask/_05_g_11.png  \n",
            "  inflating: hrf_512_512_dice_loss_hvr_0_3_feb_3/split_2/test/mask/_08_dr_20.png  \n",
            "  inflating: hrf_512_512_dice_loss_hvr_0_3_feb_3/split_2/test/mask/_08_dr_4.png  \n",
            "  inflating: hrf_512_512_dice_loss_hvr_0_3_feb_3/split_2/test/mask/_13_dr_8.png  \n",
            "  inflating: hrf_512_512_dice_loss_hvr_0_3_feb_3/split_2/test/mask/_05_g_22.png  \n",
            "  inflating: hrf_512_512_dice_loss_hvr_0_3_feb_3/split_2/test/mask/_03_h_1.png  \n",
            "  inflating: hrf_512_512_dice_loss_hvr_0_3_feb_3/split_2/test/mask/_08_g_27.png  \n",
            "  inflating: hrf_512_512_dice_loss_hvr_0_3_feb_3/split_2/test/mask/_11_dr_7.png  \n",
            "  inflating: hrf_512_512_dice_loss_hvr_0_3_feb_3/split_2/test/mask/_08_g_16.png  \n",
            "  inflating: hrf_512_512_dice_loss_hvr_0_3_feb_3/split_2/test/mask/_15_h_11.png  \n",
            "  inflating: hrf_512_512_dice_loss_hvr_0_3_feb_3/split_2/test/mask/_15_h_4.png  \n",
            "  inflating: hrf_512_512_dice_loss_hvr_0_3_feb_3/split_2/test/mask/_05_g_32.png  \n",
            "  inflating: hrf_512_512_dice_loss_hvr_0_3_feb_3/split_2/test/mask/_03_h_28.png  \n",
            "  inflating: hrf_512_512_dice_loss_hvr_0_3_feb_3/split_2/test/mask/_06_g_32.png  \n",
            "  inflating: hrf_512_512_dice_loss_hvr_0_3_feb_3/split_2/test/mask/_03_h_11.png  \n",
            "  inflating: hrf_512_512_dice_loss_hvr_0_3_feb_3/split_2/test/mask/_08_g_23.png  \n",
            "  inflating: hrf_512_512_dice_loss_hvr_0_3_feb_3/split_2/test/mask/_12_g_32.png  \n",
            "  inflating: hrf_512_512_dice_loss_hvr_0_3_feb_3/split_2/test/mask/_06_g_9.png  \n",
            "  inflating: hrf_512_512_dice_loss_hvr_0_3_feb_3/split_2/test/mask/_02_g_25.png  \n",
            "  inflating: hrf_512_512_dice_loss_hvr_0_3_feb_3/split_2/test/mask/_12_g_14.png  \n",
            "  inflating: hrf_512_512_dice_loss_hvr_0_3_feb_3/split_2/test/mask/_08_dr_10.png  \n",
            "  inflating: hrf_512_512_dice_loss_hvr_0_3_feb_3/split_2/test/mask/_11_dr_30.png  \n",
            "  inflating: hrf_512_512_dice_loss_hvr_0_3_feb_3/split_2/test/mask/_11_dr_8.png  \n",
            "  inflating: hrf_512_512_dice_loss_hvr_0_3_feb_3/split_2/test/mask/_05_dr_22.png  \n",
            "  inflating: hrf_512_512_dice_loss_hvr_0_3_feb_3/split_2/test/mask/_06_g_34.png  \n",
            "  inflating: hrf_512_512_dice_loss_hvr_0_3_feb_3/split_2/test/mask/_13_dr_17.png  \n",
            "  inflating: hrf_512_512_dice_loss_hvr_0_3_feb_3/split_2/test/mask/_03_h_12.png  \n",
            "  inflating: hrf_512_512_dice_loss_hvr_0_3_feb_3/split_2/test/mask/_05_g_14.png  \n",
            "  inflating: hrf_512_512_dice_loss_hvr_0_3_feb_3/split_2/test/mask/_12_g_8.png  \n",
            "  inflating: hrf_512_512_dice_loss_hvr_0_3_feb_3/split_2/test/mask/_02_g_22.png  \n",
            "  inflating: hrf_512_512_dice_loss_hvr_0_3_feb_3/split_2/test/mask/_12_h_1.png  \n",
            "  inflating: hrf_512_512_dice_loss_hvr_0_3_feb_3/split_2/test/mask/_11_dr_22.png  \n",
            "  inflating: hrf_512_512_dice_loss_hvr_0_3_feb_3/split_2/test/mask/_06_g_6.png  \n",
            "  inflating: hrf_512_512_dice_loss_hvr_0_3_feb_3/split_2/test/mask/_11_dr_14.png  \n",
            "  inflating: hrf_512_512_dice_loss_hvr_0_3_feb_3/split_2/test/mask/_02_g_34.png  \n",
            "  inflating: hrf_512_512_dice_loss_hvr_0_3_feb_3/split_2/test/mask/_11_h_33.png  \n",
            "  inflating: hrf_512_512_dice_loss_hvr_0_3_feb_3/split_2/test/mask/_05_g_17.png  \n",
            "  inflating: hrf_512_512_dice_loss_hvr_0_3_feb_3/split_2/test/mask/_08_g_17.png  \n",
            "  inflating: hrf_512_512_dice_loss_hvr_0_3_feb_3/split_2/test/mask/_08_g_13.png  \n",
            "  inflating: hrf_512_512_dice_loss_hvr_0_3_feb_3/split_2/test/mask/_08_g_28.png  \n",
            "  inflating: hrf_512_512_dice_loss_hvr_0_3_feb_3/split_2/test/mask/_08_g_3.png  \n",
            "  inflating: hrf_512_512_dice_loss_hvr_0_3_feb_3/split_2/test/mask/_11_dr_15.png  \n",
            "  inflating: hrf_512_512_dice_loss_hvr_0_3_feb_3/split_2/test/mask/_06_g_24.png  \n",
            "  inflating: hrf_512_512_dice_loss_hvr_0_3_feb_3/split_2/test/mask/_06_g_33.png  \n",
            "  inflating: hrf_512_512_dice_loss_hvr_0_3_feb_3/split_2/test/mask/_02_g_21.png  \n",
            "  inflating: hrf_512_512_dice_loss_hvr_0_3_feb_3/split_2/test/mask/_08_dr_22.png  \n",
            "  inflating: hrf_512_512_dice_loss_hvr_0_3_feb_3/split_2/test/mask/_10_h_26.png  \n",
            "  inflating: hrf_512_512_dice_loss_hvr_0_3_feb_3/split_2/test/mask/_13_dr_21.png  \n",
            "  inflating: hrf_512_512_dice_loss_hvr_0_3_feb_3/split_2/test/mask/_08_dr_18.png  \n",
            "  inflating: hrf_512_512_dice_loss_hvr_0_3_feb_3/split_2/test/mask/_08_dr_3.png  \n",
            "  inflating: hrf_512_512_dice_loss_hvr_0_3_feb_3/split_2/test/mask/_02_g_15.png  \n",
            "  inflating: hrf_512_512_dice_loss_hvr_0_3_feb_3/split_2/test/mask/_12_h_3.png  \n",
            "  inflating: hrf_512_512_dice_loss_hvr_0_3_feb_3/split_2/test/mask/_11_dr_18.png  \n",
            "  inflating: hrf_512_512_dice_loss_hvr_0_3_feb_3/split_2/test/mask/_15_h_2.png  \n",
            "  inflating: hrf_512_512_dice_loss_hvr_0_3_feb_3/split_2/test/mask/_08_dr_6.png  \n",
            "  inflating: hrf_512_512_dice_loss_hvr_0_3_feb_3/split_2/test/mask/_08_dr_19.png  \n",
            "  inflating: hrf_512_512_dice_loss_hvr_0_3_feb_3/split_2/test/mask/_15_h_34.png  \n",
            "  inflating: hrf_512_512_dice_loss_hvr_0_3_feb_3/split_2/test/mask/_08_g_11.png  \n",
            "  inflating: hrf_512_512_dice_loss_hvr_0_3_feb_3/split_2/test/mask/_11_h_17.png  \n",
            "  inflating: hrf_512_512_dice_loss_hvr_0_3_feb_3/split_2/test/mask/_05_dr_34.png  \n",
            "  inflating: hrf_512_512_dice_loss_hvr_0_3_feb_3/split_2/test/mask/_08_g_1.png  \n",
            "  inflating: hrf_512_512_dice_loss_hvr_0_3_feb_3/split_2/test/mask/_12_g_28.png  \n",
            "  inflating: hrf_512_512_dice_loss_hvr_0_3_feb_3/split_2/test/mask/_10_h_18.png  \n",
            "  inflating: hrf_512_512_dice_loss_hvr_0_3_feb_3/split_2/test/mask/_05_dr_13.png  \n",
            "  inflating: hrf_512_512_dice_loss_hvr_0_3_feb_3/split_2/test/mask/_15_h_7.png  \n",
            "  inflating: hrf_512_512_dice_loss_hvr_0_3_feb_3/split_2/test/mask/_08_dr_21.png  \n",
            "  inflating: hrf_512_512_dice_loss_hvr_0_3_feb_3/split_2/test/mask/_03_h_31.png  \n",
            "  inflating: hrf_512_512_dice_loss_hvr_0_3_feb_3/split_2/test/mask/_12_h_16.png  \n",
            "  inflating: hrf_512_512_dice_loss_hvr_0_3_feb_3/split_2/test/mask/_08_dr_23.png  \n",
            "  inflating: hrf_512_512_dice_loss_hvr_0_3_feb_3/split_2/test/mask/_03_h_29.png  \n",
            "  inflating: hrf_512_512_dice_loss_hvr_0_3_feb_3/split_2/test/mask/_11_h_16.png  \n",
            "  inflating: hrf_512_512_dice_loss_hvr_0_3_feb_3/split_2/test/mask/_12_g_22.png  \n",
            "  inflating: hrf_512_512_dice_loss_hvr_0_3_feb_3/split_2/test/mask/_11_dr_6.png  \n",
            "  inflating: hrf_512_512_dice_loss_hvr_0_3_feb_3/split_2/test/mask/_11_dr_12.png  \n",
            "  inflating: hrf_512_512_dice_loss_hvr_0_3_feb_3/split_2/test/mask/_12_g_31.png  \n",
            "  inflating: hrf_512_512_dice_loss_hvr_0_3_feb_3/split_2/test/mask/_12_h_0.png  \n",
            "  inflating: hrf_512_512_dice_loss_hvr_0_3_feb_3/split_2/test/mask/_02_g_27.png  \n",
            "  inflating: hrf_512_512_dice_loss_hvr_0_3_feb_3/split_2/test/mask/_05_g_13.png  \n",
            "  inflating: hrf_512_512_dice_loss_hvr_0_3_feb_3/split_2/test/mask/_06_g_29.png  \n",
            "  inflating: hrf_512_512_dice_loss_hvr_0_3_feb_3/split_2/test/mask/_12_h_4.png  \n",
            "  inflating: hrf_512_512_dice_loss_hvr_0_3_feb_3/split_2/test/mask/_05_dr_7.png  \n",
            "  inflating: hrf_512_512_dice_loss_hvr_0_3_feb_3/split_2/test/mask/_02_g_31.png  \n",
            "  inflating: hrf_512_512_dice_loss_hvr_0_3_feb_3/split_2/test/mask/_11_dr_17.png  \n",
            "  inflating: hrf_512_512_dice_loss_hvr_0_3_feb_3/split_2/test/mask/_11_h_19.png  \n",
            "  inflating: hrf_512_512_dice_loss_hvr_0_3_feb_3/split_2/test/mask/_12_g_0.png  \n",
            "  inflating: hrf_512_512_dice_loss_hvr_0_3_feb_3/split_2/test/mask/_08_dr_17.png  \n",
            "  inflating: hrf_512_512_dice_loss_hvr_0_3_feb_3/split_2/test/mask/_10_h_24.png  \n",
            "  inflating: hrf_512_512_dice_loss_hvr_0_3_feb_3/split_2/test/mask/_06_g_18.png  \n",
            "  inflating: hrf_512_512_dice_loss_hvr_0_3_feb_3/split_2/test/mask/_10_h_3.png  \n",
            "  inflating: hrf_512_512_dice_loss_hvr_0_3_feb_3/split_2/test/mask/_12_g_7.png  \n",
            "  inflating: hrf_512_512_dice_loss_hvr_0_3_feb_3/split_2/test/mask/_02_g_9.png  \n",
            "  inflating: hrf_512_512_dice_loss_hvr_0_3_feb_3/split_2/test/mask/_08_g_22.png  \n",
            "  inflating: hrf_512_512_dice_loss_hvr_0_3_feb_3/split_2/test/mask/_05_g_10.png  \n",
            "  inflating: hrf_512_512_dice_loss_hvr_0_3_feb_3/split_2/test/mask/_03_h_5.png  \n",
            "  inflating: hrf_512_512_dice_loss_hvr_0_3_feb_3/split_2/test/mask/_05_g_33.png  \n",
            "  inflating: hrf_512_512_dice_loss_hvr_0_3_feb_3/split_2/test/mask/_11_h_28.png  \n",
            "  inflating: hrf_512_512_dice_loss_hvr_0_3_feb_3/split_2/test/mask/_15_h_1.png  \n",
            "  inflating: hrf_512_512_dice_loss_hvr_0_3_feb_3/split_2/test/mask/_08_dr_11.png  \n",
            "  inflating: hrf_512_512_dice_loss_hvr_0_3_feb_3/split_2/test/mask/_12_h_8.png  \n",
            "  inflating: hrf_512_512_dice_loss_hvr_0_3_feb_3/split_2/test/mask/_13_dr_9.png  \n",
            "  inflating: hrf_512_512_dice_loss_hvr_0_3_feb_3/split_2/test/mask/_05_dr_5.png  \n",
            "  inflating: hrf_512_512_dice_loss_hvr_0_3_feb_3/split_2/test/mask/_15_h_5.png  \n",
            "  inflating: hrf_512_512_dice_loss_hvr_0_3_feb_3/split_2/test/mask/_08_dr_24.png  \n",
            "  inflating: hrf_512_512_dice_loss_hvr_0_3_feb_3/split_2/test/mask/_10_h_23.png  \n",
            "  inflating: hrf_512_512_dice_loss_hvr_0_3_feb_3/split_2/test/mask/_08_g_24.png  \n",
            "  inflating: hrf_512_512_dice_loss_hvr_0_3_feb_3/split_2/test/mask/_02_g_30.png  \n",
            "  inflating: hrf_512_512_dice_loss_hvr_0_3_feb_3/split_2/test/mask/_08_g_32.png  \n",
            "  inflating: hrf_512_512_dice_loss_hvr_0_3_feb_3/split_2/test/mask/_11_h_20.png  \n",
            "  inflating: hrf_512_512_dice_loss_hvr_0_3_feb_3/split_2/test/mask/_11_h_26.png  \n",
            "  inflating: hrf_512_512_dice_loss_hvr_0_3_feb_3/split_2/test/mask/_13_dr_12.png  \n",
            "  inflating: hrf_512_512_dice_loss_hvr_0_3_feb_3/split_2/test/mask/_13_dr_15.png  \n",
            "  inflating: hrf_512_512_dice_loss_hvr_0_3_feb_3/split_2/test/mask/_05_dr_12.png  \n",
            "  inflating: hrf_512_512_dice_loss_hvr_0_3_feb_3/split_2/test/mask/_11_dr_33.png  \n",
            "  inflating: hrf_512_512_dice_loss_hvr_0_3_feb_3/split_2/test/mask/_08_g_8.png  \n",
            "  inflating: hrf_512_512_dice_loss_hvr_0_3_feb_3/split_2/test/mask/_12_h_2.png  \n",
            "  inflating: hrf_512_512_dice_loss_hvr_0_3_feb_3/split_2/test/mask/_06_g_22.png  \n",
            "  inflating: hrf_512_512_dice_loss_hvr_0_3_feb_3/split_2/test/mask/_02_g_4.png  \n",
            "  inflating: hrf_512_512_dice_loss_hvr_0_3_feb_3/split_2/test/mask/_13_dr_32.png  \n",
            "  inflating: hrf_512_512_dice_loss_hvr_0_3_feb_3/split_2/test/mask/_03_h_2.png  \n",
            "  inflating: hrf_512_512_dice_loss_hvr_0_3_feb_3/split_2/test/mask/_12_h_29.png  \n",
            "  inflating: hrf_512_512_dice_loss_hvr_0_3_feb_3/split_2/test/mask/_10_h_9.png  \n",
            "  inflating: hrf_512_512_dice_loss_hvr_0_3_feb_3/split_2/test/mask/_08_dr_16.png  \n",
            "  inflating: hrf_512_512_dice_loss_hvr_0_3_feb_3/split_2/test/mask/_13_dr_27.png  \n",
            "  inflating: hrf_512_512_dice_loss_hvr_0_3_feb_3/split_2/test/mask/_12_h_30.png  \n",
            "  inflating: hrf_512_512_dice_loss_hvr_0_3_feb_3/split_2/test/mask/_15_h_3.png  \n",
            "  inflating: hrf_512_512_dice_loss_hvr_0_3_feb_3/split_2/test/mask/_10_h_16.png  \n",
            "  inflating: hrf_512_512_dice_loss_hvr_0_3_feb_3/split_2/test/mask/_08_dr_26.png  \n",
            "  inflating: hrf_512_512_dice_loss_hvr_0_3_feb_3/split_2/test/mask/_05_g_20.png  \n",
            "  inflating: hrf_512_512_dice_loss_hvr_0_3_feb_3/split_2/test/mask/_06_g_1.png  \n",
            "  inflating: hrf_512_512_dice_loss_hvr_0_3_feb_3/split_2/test/mask/_02_g_29.png  \n",
            "  inflating: hrf_512_512_dice_loss_hvr_0_3_feb_3/split_2/test/mask/_08_dr_13.png  \n",
            "  inflating: hrf_512_512_dice_loss_hvr_0_3_feb_3/split_2/test/mask/_08_g_0.png  \n",
            "  inflating: hrf_512_512_dice_loss_hvr_0_3_feb_3/split_2/test/mask/_05_g_26.png  \n",
            "  inflating: hrf_512_512_dice_loss_hvr_0_3_feb_3/split_2/test/mask/_02_g_12.png  \n",
            "  inflating: hrf_512_512_dice_loss_hvr_0_3_feb_3/split_2/test/mask/_10_h_33.png  \n",
            "  inflating: hrf_512_512_dice_loss_hvr_0_3_feb_3/split_2/test/mask/_02_g_2.png  \n",
            "  inflating: hrf_512_512_dice_loss_hvr_0_3_feb_3/split_2/test/mask/_05_dr_16.png  \n",
            "  inflating: hrf_512_512_dice_loss_hvr_0_3_feb_3/split_2/test/mask/_12_h_11.png  \n",
            "  inflating: hrf_512_512_dice_loss_hvr_0_3_feb_3/split_2/test/mask/_05_dr_0.png  \n",
            "  inflating: hrf_512_512_dice_loss_hvr_0_3_feb_3/split_2/test/mask/_03_h_8.png  \n",
            "  inflating: hrf_512_512_dice_loss_hvr_0_3_feb_3/split_2/test/mask/_12_h_5.png  \n",
            "  inflating: hrf_512_512_dice_loss_hvr_0_3_feb_3/split_2/test/mask/_10_h_27.png  \n",
            "  inflating: hrf_512_512_dice_loss_hvr_0_3_feb_3/split_2/test/mask/_03_h_17.png  \n",
            "  inflating: hrf_512_512_dice_loss_hvr_0_3_feb_3/split_2/test/mask/_15_h_17.png  \n",
            "  inflating: hrf_512_512_dice_loss_hvr_0_3_feb_3/split_2/test/mask/_12_h_14.png  \n",
            "  inflating: hrf_512_512_dice_loss_hvr_0_3_feb_3/split_2/test/mask/_15_h_6.png  \n",
            "  inflating: hrf_512_512_dice_loss_hvr_0_3_feb_3/split_2/test/mask/_03_h_21.png  \n",
            "  inflating: hrf_512_512_dice_loss_hvr_0_3_feb_3/split_2/test/mask/_13_dr_20.png  \n",
            "  inflating: hrf_512_512_dice_loss_hvr_0_3_feb_3/split_2/test/mask/_12_g_5.png  \n",
            "  inflating: hrf_512_512_dice_loss_hvr_0_3_feb_3/split_2/test/mask/_10_h_28.png  \n",
            "  inflating: hrf_512_512_dice_loss_hvr_0_3_feb_3/split_2/test/mask/_06_g_5.png  \n",
            "  inflating: hrf_512_512_dice_loss_hvr_0_3_feb_3/split_2/test/mask/_08_g_14.png  \n",
            "  inflating: hrf_512_512_dice_loss_hvr_0_3_feb_3/split_2/test/mask/_15_h_29.png  \n",
            "  inflating: hrf_512_512_dice_loss_hvr_0_3_feb_3/split_2/test/mask/_05_dr_6.png  \n",
            "  inflating: hrf_512_512_dice_loss_hvr_0_3_feb_3/split_2/test/mask/_11_dr_25.png  \n",
            "  inflating: hrf_512_512_dice_loss_hvr_0_3_feb_3/split_2/test/mask/_05_dr_31.png  \n",
            "  inflating: hrf_512_512_dice_loss_hvr_0_3_feb_3/split_2/test/mask/_06_g_19.png  \n",
            "  inflating: hrf_512_512_dice_loss_hvr_0_3_feb_3/split_2/test/mask/_03_h_15.png  \n",
            "  inflating: hrf_512_512_dice_loss_hvr_0_3_feb_3/split_2/test/mask/_12_g_17.png  \n",
            "  inflating: hrf_512_512_dice_loss_hvr_0_3_feb_3/split_2/test/mask/_02_g_11.png  \n",
            "  inflating: hrf_512_512_dice_loss_hvr_0_3_feb_3/split_2/test/mask/_13_dr_10.png  \n",
            "  inflating: hrf_512_512_dice_loss_hvr_0_3_feb_3/split_2/test/mask/_11_dr_11.png  \n",
            "  inflating: hrf_512_512_dice_loss_hvr_0_3_feb_3/split_2/test/mask/_08_g_34.png  \n",
            "  inflating: hrf_512_512_dice_loss_hvr_0_3_feb_3/split_2/test/mask/_15_h_10.png  \n",
            "  inflating: hrf_512_512_dice_loss_hvr_0_3_feb_3/split_2/test/mask/_12_h_12.png  \n",
            "  inflating: hrf_512_512_dice_loss_hvr_0_3_feb_3/split_2/test/mask/_10_h_20.png  \n",
            "  inflating: hrf_512_512_dice_loss_hvr_0_3_feb_3/split_2/test/mask/_08_g_31.png  \n",
            "  inflating: hrf_512_512_dice_loss_hvr_0_3_feb_3/split_2/test/mask/_08_g_25.png  \n",
            "  inflating: hrf_512_512_dice_loss_hvr_0_3_feb_3/split_2/test/mask/_15_h_18.png  \n",
            "  inflating: hrf_512_512_dice_loss_hvr_0_3_feb_3/split_2/test/mask/_15_h_24.png  \n",
            "  inflating: hrf_512_512_dice_loss_hvr_0_3_feb_3/split_2/test/mask/_06_g_7.png  \n",
            "  inflating: hrf_512_512_dice_loss_hvr_0_3_feb_3/split_2/test/mask/_10_h_30.png  \n",
            "  inflating: hrf_512_512_dice_loss_hvr_0_3_feb_3/split_2/test/mask/_11_h_21.png  \n",
            "  inflating: hrf_512_512_dice_loss_hvr_0_3_feb_3/split_2/test/mask/_06_g_27.png  \n",
            "  inflating: hrf_512_512_dice_loss_hvr_0_3_feb_3/split_2/test/mask/_05_g_29.png  \n",
            "  inflating: hrf_512_512_dice_loss_hvr_0_3_feb_3/split_2/test/mask/_08_dr_30.png  \n",
            "  inflating: hrf_512_512_dice_loss_hvr_0_3_feb_3/split_2/test/mask/_15_h_9.png  \n",
            "  inflating: hrf_512_512_dice_loss_hvr_0_3_feb_3/split_2/test/mask/_08_dr_31.png  \n",
            "  inflating: hrf_512_512_dice_loss_hvr_0_3_feb_3/split_2/test/mask/_08_g_2.png  \n",
            "  inflating: hrf_512_512_dice_loss_hvr_0_3_feb_3/split_2/test/mask/_02_g_17.png  \n",
            "  inflating: hrf_512_512_dice_loss_hvr_0_3_feb_3/split_2/test/mask/_08_dr_15.png  \n",
            "  inflating: hrf_512_512_dice_loss_hvr_0_3_feb_3/split_2/test/mask/_08_g_15.png  \n",
            "  inflating: hrf_512_512_dice_loss_hvr_0_3_feb_3/split_2/test/mask/_05_dr_20.png  \n",
            "  inflating: hrf_512_512_dice_loss_hvr_0_3_feb_3/split_2/test/mask/_11_dr_26.png  \n",
            "  inflating: hrf_512_512_dice_loss_hvr_0_3_feb_3/split_2/test/mask/_13_dr_5.png  \n",
            "  inflating: hrf_512_512_dice_loss_hvr_0_3_feb_3/split_2/test/mask/_08_g_6.png  \n",
            "  inflating: hrf_512_512_dice_loss_hvr_0_3_feb_3/split_2/test/mask/_12_g_10.png  \n",
            "  inflating: hrf_512_512_dice_loss_hvr_0_3_feb_3/split_2/test/mask/_11_h_30.png  \n",
            "  inflating: hrf_512_512_dice_loss_hvr_0_3_feb_3/split_2/test/mask/_03_h_6.png  \n",
            "  inflating: hrf_512_512_dice_loss_hvr_0_3_feb_3/split_2/test/mask/_11_h_0.png  \n",
            "  inflating: hrf_512_512_dice_loss_hvr_0_3_feb_3/split_2/test/mask/_13_dr_34.png  \n",
            "  inflating: hrf_512_512_dice_loss_hvr_0_3_feb_3/split_2/test/mask/_11_dr_23.png  \n",
            "  inflating: hrf_512_512_dice_loss_hvr_0_3_feb_3/split_2/test/mask/_08_g_7.png  \n",
            "  inflating: hrf_512_512_dice_loss_hvr_0_3_feb_3/split_2/test/mask/_11_h_22.png  \n",
            "  inflating: hrf_512_512_dice_loss_hvr_0_3_feb_3/split_2/test/mask/_08_g_21.png  \n",
            "  inflating: hrf_512_512_dice_loss_hvr_0_3_feb_3/split_2/test/mask/_10_h_15.png  \n",
            "  inflating: hrf_512_512_dice_loss_hvr_0_3_feb_3/split_2/test/mask/_12_h_13.png  \n",
            "  inflating: hrf_512_512_dice_loss_hvr_0_3_feb_3/split_2/test/mask/_11_h_18.png  \n",
            "  inflating: hrf_512_512_dice_loss_hvr_0_3_feb_3/split_2/test/mask/_12_h_31.png  \n",
            "  inflating: hrf_512_512_dice_loss_hvr_0_3_feb_3/split_2/test/mask/_05_g_6.png  \n",
            "  inflating: hrf_512_512_dice_loss_hvr_0_3_feb_3/split_2/test/mask/_13_dr_3.png  \n",
            "  inflating: hrf_512_512_dice_loss_hvr_0_3_feb_3/split_2/test/mask/_10_h_17.png  \n",
            "  inflating: hrf_512_512_dice_loss_hvr_0_3_feb_3/split_2/test/mask/_13_dr_23.png  \n",
            "  inflating: hrf_512_512_dice_loss_hvr_0_3_feb_3/split_2/test/mask/_11_h_12.png  \n",
            "  inflating: hrf_512_512_dice_loss_hvr_0_3_feb_3/split_2/test/mask/_12_g_13.png  \n",
            "  inflating: hrf_512_512_dice_loss_hvr_0_3_feb_3/split_2/test/mask/_03_h_10.png  \n",
            "  inflating: hrf_512_512_dice_loss_hvr_0_3_feb_3/split_2/test/mask/_15_h_8.png  \n",
            "  inflating: hrf_512_512_dice_loss_hvr_0_3_feb_3/split_2/test/mask/_10_h_11.png  \n",
            "  inflating: hrf_512_512_dice_loss_hvr_0_3_feb_3/split_2/test/mask/_10_h_19.png  \n",
            "  inflating: hrf_512_512_dice_loss_hvr_0_3_feb_3/split_2/test/mask/_08_dr_14.png  \n",
            "  inflating: hrf_512_512_dice_loss_hvr_0_3_feb_3/split_2/test/mask/_10_h_5.png  \n",
            "  inflating: hrf_512_512_dice_loss_hvr_0_3_feb_3/split_2/test/mask/_11_h_29.png  \n",
            "  inflating: hrf_512_512_dice_loss_hvr_0_3_feb_3/split_2/test/mask/_11_dr_9.png  \n",
            "  inflating: hrf_512_512_dice_loss_hvr_0_3_feb_3/split_2/test/mask/_11_h_3.png  \n",
            "  inflating: hrf_512_512_dice_loss_hvr_0_3_feb_3/split_2/test/mask/_06_g_11.png  \n",
            "  inflating: hrf_512_512_dice_loss_hvr_0_3_feb_3/split_2/test/mask/_12_g_34.png  \n",
            "  inflating: hrf_512_512_dice_loss_hvr_0_3_feb_3/split_2/test/mask/_03_h_14.png  \n",
            "  inflating: hrf_512_512_dice_loss_hvr_0_3_feb_3/split_2/test/mask/_10_h_7.png  \n",
            "  inflating: hrf_512_512_dice_loss_hvr_0_3_feb_3/split_2/test/mask/_03_h_7.png  \n",
            "  inflating: hrf_512_512_dice_loss_hvr_0_3_feb_3/split_2/test/mask/_10_h_13.png  \n",
            "  inflating: hrf_512_512_dice_loss_hvr_0_3_feb_3/split_2/test/mask/_08_g_33.png  \n",
            "  inflating: hrf_512_512_dice_loss_hvr_0_3_feb_3/split_2/test/mask/_11_h_2.png  \n",
            "  inflating: hrf_512_512_dice_loss_hvr_0_3_feb_3/split_2/test/mask/_06_g_30.png  \n",
            "  inflating: hrf_512_512_dice_loss_hvr_0_3_feb_3/split_2/test/mask/_05_g_0.png  \n",
            "  inflating: hrf_512_512_dice_loss_hvr_0_3_feb_3/split_2/test/mask/_11_h_6.png  \n",
            "  inflating: hrf_512_512_dice_loss_hvr_0_3_feb_3/split_2/test/mask/_12_h_25.png  \n",
            "  inflating: hrf_512_512_dice_loss_hvr_0_3_feb_3/split_2/test/mask/_02_g_14.png  \n",
            "  inflating: hrf_512_512_dice_loss_hvr_0_3_feb_3/split_2/test/mask/_10_h_2.png  \n",
            "  inflating: hrf_512_512_dice_loss_hvr_0_3_feb_3/split_2/test/mask/_13_dr_31.png  \n",
            "  inflating: hrf_512_512_dice_loss_hvr_0_3_feb_3/split_2/test/mask/_11_dr_20.png  \n",
            "  inflating: hrf_512_512_dice_loss_hvr_0_3_feb_3/split_2/test/mask/_05_g_18.png  \n",
            "  inflating: hrf_512_512_dice_loss_hvr_0_3_feb_3/split_2/test/mask/_11_h_7.png  \n",
            "  inflating: hrf_512_512_dice_loss_hvr_0_3_feb_3/split_2/test/mask/_03_h_26.png  \n",
            "  inflating: hrf_512_512_dice_loss_hvr_0_3_feb_3/split_2/test/mask/_12_g_25.png  \n",
            "  inflating: hrf_512_512_dice_loss_hvr_0_3_feb_3/split_2/test/mask/_10_h_0.png  \n",
            "  inflating: hrf_512_512_dice_loss_hvr_0_3_feb_3/split_2/test/mask/_11_dr_24.png  \n",
            "  inflating: hrf_512_512_dice_loss_hvr_0_3_feb_3/split_2/test/mask/_03_h_3.png  \n",
            "  inflating: hrf_512_512_dice_loss_hvr_0_3_feb_3/split_2/test/mask/_13_dr_2.png  \n",
            "  inflating: hrf_512_512_dice_loss_hvr_0_3_feb_3/split_2/test/mask/_11_h_13.png  \n",
            "  inflating: hrf_512_512_dice_loss_hvr_0_3_feb_3/split_2/test/mask/_10_h_34.png  \n",
            "  inflating: hrf_512_512_dice_loss_hvr_0_3_feb_3/split_2/test/mask/_10_h_1.png  \n",
            "  inflating: hrf_512_512_dice_loss_hvr_0_3_feb_3/split_2/test/mask/_05_g_4.png  \n",
            "  inflating: hrf_512_512_dice_loss_hvr_0_3_feb_3/split_2/test/mask/_11_h_5.png  \n",
            "  inflating: hrf_512_512_dice_loss_hvr_0_3_feb_3/split_2/test/mask/_05_g_12.png  \n",
            "  inflating: hrf_512_512_dice_loss_hvr_0_3_feb_3/split_2/test/mask/_15_h_27.png  \n",
            "  inflating: hrf_512_512_dice_loss_hvr_0_3_feb_3/split_2/test/mask/_02_g_28.png  \n",
            "  inflating: hrf_512_512_dice_loss_hvr_0_3_feb_3/split_2/test/mask/_08_g_29.png  \n",
            "  inflating: hrf_512_512_dice_loss_hvr_0_3_feb_3/split_2/test/mask/_11_dr_19.png  \n",
            "  inflating: hrf_512_512_dice_loss_hvr_0_3_feb_3/split_2/test/mask/_12_g_16.png  \n",
            "  inflating: hrf_512_512_dice_loss_hvr_0_3_feb_3/split_2/test/mask/_13_dr_11.png  \n",
            "  inflating: hrf_512_512_dice_loss_hvr_0_3_feb_3/split_2/test/mask/_13_dr_4.png  \n",
            "  inflating: hrf_512_512_dice_loss_hvr_0_3_feb_3/split_2/test/mask/_05_g_15.png  \n",
            "  inflating: hrf_512_512_dice_loss_hvr_0_3_feb_3/split_2/test/mask/_13_dr_33.png  \n",
            "  inflating: hrf_512_512_dice_loss_hvr_0_3_feb_3/split_2/test/mask/_15_h_26.png  \n",
            "  inflating: hrf_512_512_dice_loss_hvr_0_3_feb_3/split_2/test/mask/_02_g_6.png  \n",
            "  inflating: hrf_512_512_dice_loss_hvr_0_3_feb_3/split_2/test/mask/_05_dr_33.png  \n",
            "  inflating: hrf_512_512_dice_loss_hvr_0_3_feb_3/split_2/test/mask/_05_dr_26.png  \n",
            "  inflating: hrf_512_512_dice_loss_hvr_0_3_feb_3/split_2/test/mask/_13_dr_14.png  \n",
            "  inflating: hrf_512_512_dice_loss_hvr_0_3_feb_3/split_2/test/mask/_02_g_10.png  \n",
            "  inflating: hrf_512_512_dice_loss_hvr_0_3_feb_3/split_2/test/mask/_15_h_28.png  \n",
            "  inflating: hrf_512_512_dice_loss_hvr_0_3_feb_3/split_2/test/mask/_08_g_18.png  \n",
            "  inflating: hrf_512_512_dice_loss_hvr_0_3_feb_3/split_2/test/mask/_12_g_11.png  \n",
            "  inflating: hrf_512_512_dice_loss_hvr_0_3_feb_3/split_2/test/mask/_06_g_10.png  \n",
            "  inflating: hrf_512_512_dice_loss_hvr_0_3_feb_3/split_2/test/mask/_13_dr_13.png  \n",
            "  inflating: hrf_512_512_dice_loss_hvr_0_3_feb_3/split_2/test/mask/_11_dr_4.png  \n",
            "  inflating: hrf_512_512_dice_loss_hvr_0_3_feb_3/split_2/test/mask/_03_h_23.png  \n",
            "  inflating: hrf_512_512_dice_loss_hvr_0_3_feb_3/split_2/test/mask/_12_h_34.png  \n",
            "  inflating: hrf_512_512_dice_loss_hvr_0_3_feb_3/split_2/test/mask/_08_dr_34.png  \n",
            "  inflating: hrf_512_512_dice_loss_hvr_0_3_feb_3/split_2/test/mask/_12_h_7.png  \n",
            "  inflating: hrf_512_512_dice_loss_hvr_0_3_feb_3/split_2/test/mask/_12_h_17.png  \n",
            "  inflating: hrf_512_512_dice_loss_hvr_0_3_feb_3/split_2/test/mask/_11_h_14.png  \n",
            "  inflating: hrf_512_512_dice_loss_hvr_0_3_feb_3/split_2/test/mask/_03_h_32.png  \n",
            "  inflating: hrf_512_512_dice_loss_hvr_0_3_feb_3/split_2/test/mask/_06_g_0.png  \n",
            "  inflating: hrf_512_512_dice_loss_hvr_0_3_feb_3/split_2/test/mask/_12_g_9.png  \n",
            "  inflating: hrf_512_512_dice_loss_hvr_0_3_feb_3/split_2/test/mask/_05_dr_3.png  \n",
            "  inflating: hrf_512_512_dice_loss_hvr_0_3_feb_3/split_2/test/mask/_10_h_29.png  \n",
            "  inflating: hrf_512_512_dice_loss_hvr_0_3_feb_3/split_2/test/mask/_15_h_16.png  \n",
            "  inflating: hrf_512_512_dice_loss_hvr_0_3_feb_3/split_2/test/mask/_12_h_24.png  \n",
            "  inflating: hrf_512_512_dice_loss_hvr_0_3_feb_3/split_2/test/mask/_05_dr_23.png  \n",
            "  inflating: hrf_512_512_dice_loss_hvr_0_3_feb_3/split_2/test/mask/_15_h_14.png  \n",
            "  inflating: hrf_512_512_dice_loss_hvr_0_3_feb_3/split_2/test/mask/_08_dr_2.png  \n",
            "  inflating: hrf_512_512_dice_loss_hvr_0_3_feb_3/split_2/test/mask/_13_dr_0.png  \n",
            "  inflating: hrf_512_512_dice_loss_hvr_0_3_feb_3/split_2/test/mask/_02_g_18.png  \n",
            "  inflating: hrf_512_512_dice_loss_hvr_0_3_feb_3/split_2/test/mask/_10_h_14.png  \n",
            "  inflating: hrf_512_512_dice_loss_hvr_0_3_feb_3/split_2/test/mask/_13_dr_25.png  \n",
            "  inflating: hrf_512_512_dice_loss_hvr_0_3_feb_3/split_2/test/mask/_03_h_16.png  \n",
            "  inflating: hrf_512_512_dice_loss_hvr_0_3_feb_3/split_2/test/mask/_02_g_23.png  \n",
            "  inflating: hrf_512_512_dice_loss_hvr_0_3_feb_3/split_2/test/mask/_02_g_24.png  \n",
            "  inflating: hrf_512_512_dice_loss_hvr_0_3_feb_3/split_2/test/mask/_11_dr_13.png  \n",
            "  inflating: hrf_512_512_dice_loss_hvr_0_3_feb_3/split_2/test/mask/_12_g_20.png  \n",
            "  inflating: hrf_512_512_dice_loss_hvr_0_3_feb_3/split_2/test/mask/_10_h_22.png  \n",
            "  inflating: hrf_512_512_dice_loss_hvr_0_3_feb_3/split_2/test/mask/_12_g_15.png  \n",
            "  inflating: hrf_512_512_dice_loss_hvr_0_3_feb_3/split_2/test/mask/_11_dr_29.png  \n",
            "  inflating: hrf_512_512_dice_loss_hvr_0_3_feb_3/split_2/test/mask/_02_g_32.png  \n",
            "  inflating: hrf_512_512_dice_loss_hvr_0_3_feb_3/split_2/test/mask/_06_g_2.png  \n",
            "  inflating: hrf_512_512_dice_loss_hvr_0_3_feb_3/split_2/test/mask/_08_g_30.png  \n",
            "  inflating: hrf_512_512_dice_loss_hvr_0_3_feb_3/split_2/test/mask/_08_dr_9.png  \n",
            "  inflating: hrf_512_512_dice_loss_hvr_0_3_feb_3/split_2/test/mask/_03_h_34.png  \n",
            "  inflating: hrf_512_512_dice_loss_hvr_0_3_feb_3/split_2/test/mask/_06_g_8.png  \n",
            "  inflating: hrf_512_512_dice_loss_hvr_0_3_feb_3/split_2/test/mask/_03_h_25.png  \n",
            "  inflating: hrf_512_512_dice_loss_hvr_0_3_feb_3/split_2/test/mask/_12_g_24.png  \n",
            "  inflating: hrf_512_512_dice_loss_hvr_0_3_feb_3/split_2/test/mask/_05_dr_1.png  \n",
            "  inflating: hrf_512_512_dice_loss_hvr_0_3_feb_3/split_2/test/mask/_05_dr_8.png  \n",
            "  inflating: hrf_512_512_dice_loss_hvr_0_3_feb_3/split_2/test/mask/_10_h_32.png  \n",
            "  inflating: hrf_512_512_dice_loss_hvr_0_3_feb_3/split_2/test/mask/_15_h_32.png  \n",
            "  inflating: hrf_512_512_dice_loss_hvr_0_3_feb_3/split_2/test/mask/_11_h_11.png  \n",
            "  inflating: hrf_512_512_dice_loss_hvr_0_3_feb_3/split_2/test/mask/_08_g_5.png  \n",
            "  inflating: hrf_512_512_dice_loss_hvr_0_3_feb_3/split_2/test/mask/_10_h_4.png  \n",
            "  inflating: hrf_512_512_dice_loss_hvr_0_3_feb_3/split_2/test/mask/_08_dr_29.png  \n",
            "  inflating: hrf_512_512_dice_loss_hvr_0_3_feb_3/split_2/test/mask/_11_dr_1.png  \n",
            "  inflating: hrf_512_512_dice_loss_hvr_0_3_feb_3/split_2/test/mask/_05_g_2.png  \n",
            "  inflating: hrf_512_512_dice_loss_hvr_0_3_feb_3/split_2/test/mask/_08_dr_25.png  \n",
            "  inflating: hrf_512_512_dice_loss_hvr_0_3_feb_3/split_2/test/mask/_06_g_26.png  \n",
            "  inflating: hrf_512_512_dice_loss_hvr_0_3_feb_3/split_2/test/mask/_11_dr_34.png  \n",
            "  inflating: hrf_512_512_dice_loss_hvr_0_3_feb_3/split_2/test/mask/_12_h_33.png  \n",
            "  inflating: hrf_512_512_dice_loss_hvr_0_3_feb_3/split_2/test/mask/_03_h_27.png  \n",
            "  inflating: hrf_512_512_dice_loss_hvr_0_3_feb_3/split_2/test/mask/_11_h_31.png  \n",
            "  inflating: hrf_512_512_dice_loss_hvr_0_3_feb_3/split_2/test/mask/_10_h_12.png  \n",
            "  inflating: hrf_512_512_dice_loss_hvr_0_3_feb_3/split_2/test/mask/_12_g_19.png  \n",
            "  inflating: hrf_512_512_dice_loss_hvr_0_3_feb_3/split_2/test/mask/_12_g_30.png  \n",
            "  inflating: hrf_512_512_dice_loss_hvr_0_3_feb_3/split_2/test/mask/_06_g_3.png  \n",
            "  inflating: hrf_512_512_dice_loss_hvr_0_3_feb_3/split_2/test/mask/_05_dr_11.png  \n",
            "  inflating: hrf_512_512_dice_loss_hvr_0_3_feb_3/split_2/test/mask/_11_dr_28.png  \n",
            "  inflating: hrf_512_512_dice_loss_hvr_0_3_feb_3/split_2/test/mask/_13_dr_29.png  \n",
            "  inflating: hrf_512_512_dice_loss_hvr_0_3_feb_3/split_2/test/mask/_06_g_23.png  \n",
            "  inflating: hrf_512_512_dice_loss_hvr_0_3_feb_3/split_2/test/mask/_05_dr_15.png  \n",
            "  inflating: hrf_512_512_dice_loss_hvr_0_3_feb_3/split_2/test/mask/_12_h_32.png  \n",
            "  inflating: hrf_512_512_dice_loss_hvr_0_3_feb_3/split_2/test/mask/_12_g_3.png  \n",
            "  inflating: hrf_512_512_dice_loss_hvr_0_3_feb_3/split_2/test/mask/_05_dr_32.png  \n",
            "  inflating: hrf_512_512_dice_loss_hvr_0_3_feb_3/split_2/test/mask/_11_dr_32.png  \n",
            "  inflating: hrf_512_512_dice_loss_hvr_0_3_feb_3/split_2/test/mask/_13_dr_22.png  \n",
            "  inflating: hrf_512_512_dice_loss_hvr_0_3_feb_3/split_2/test/mask/_13_dr_1.png  \n",
            "  inflating: hrf_512_512_dice_loss_hvr_0_3_feb_3/split_2/test/mask/_08_g_9.png  \n",
            "  inflating: hrf_512_512_dice_loss_hvr_0_3_feb_3/split_2/test/mask/_12_g_26.png  \n",
            "  inflating: hrf_512_512_dice_loss_hvr_0_3_feb_3/split_2/test/mask/_03_h_22.png  \n",
            "  inflating: hrf_512_512_dice_loss_hvr_0_3_feb_3/split_2/test/mask/_11_h_4.png  \n",
            "  inflating: hrf_512_512_dice_loss_hvr_0_3_feb_3/split_2/test/mask/_02_g_5.png  \n",
            "  inflating: hrf_512_512_dice_loss_hvr_0_3_feb_3/split_2/test/mask/_05_g_19.png  \n",
            "  inflating: hrf_512_512_dice_loss_hvr_0_3_feb_3/split_2/test/mask/_12_g_23.png  \n",
            "  inflating: hrf_512_512_dice_loss_hvr_0_3_feb_3/split_2/test/mask/_12_g_33.png  \n",
            "  inflating: hrf_512_512_dice_loss_hvr_0_3_feb_3/split_2/test/mask/_06_g_15.png  \n",
            "  inflating: hrf_512_512_dice_loss_hvr_0_3_feb_3/split_2/test/mask/_12_g_27.png  \n",
            "  inflating: hrf_512_512_dice_loss_hvr_0_3_feb_3/split_2/test/mask/_02_g_13.png  \n",
            "  inflating: hrf_512_512_dice_loss_hvr_0_3_feb_3/split_2/test/mask/_05_g_27.png  \n",
            "  inflating: hrf_512_512_dice_loss_hvr_0_3_feb_3/split_2/test/mask/_11_h_27.png  \n",
            "  inflating: hrf_512_512_dice_loss_hvr_0_3_feb_3/split_2/test/mask/_08_g_20.png  \n",
            "  inflating: hrf_512_512_dice_loss_hvr_0_3_feb_3/split_2/test/mask/_08_g_4.png  \n",
            "  inflating: hrf_512_512_dice_loss_hvr_0_3_feb_3/split_2/test/mask/_05_dr_4.png  \n",
            "  inflating: hrf_512_512_dice_loss_hvr_0_3_feb_3/split_2/test/mask/_05_g_28.png  \n",
            "  inflating: hrf_512_512_dice_loss_hvr_0_3_feb_3/split_2/test/mask/_08_dr_8.png  \n",
            "  inflating: hrf_512_512_dice_loss_hvr_0_3_feb_3/split_2/test/mask/_08_dr_1.png  \n",
            "  inflating: hrf_512_512_dice_loss_hvr_0_3_feb_3/split_2/test/mask/_03_h_33.png  \n",
            "  inflating: hrf_512_512_dice_loss_hvr_0_3_feb_3/split_2/test/mask/_15_h_0.png  \n",
            "  inflating: hrf_512_512_dice_loss_hvr_0_3_feb_3/split_2/test/mask/_08_dr_12.png  \n",
            "  inflating: hrf_512_512_dice_loss_hvr_0_3_feb_3/split_2/test/mask/_12_h_28.png  \n",
            "  inflating: hrf_512_512_dice_loss_hvr_0_3_feb_3/split_2/test/mask/_15_h_25.png  \n",
            "  inflating: hrf_512_512_dice_loss_hvr_0_3_feb_3/split_2/test/mask/_13_dr_18.png  \n",
            "  inflating: hrf_512_512_dice_loss_hvr_0_3_feb_3/split_2/test/mask/_12_h_20.png  \n",
            "  inflating: hrf_512_512_dice_loss_hvr_0_3_feb_3/split_2/test/mask/_12_h_19.png  \n",
            "  inflating: hrf_512_512_dice_loss_hvr_0_3_feb_3/split_2/test/mask/_02_g_26.png  \n",
            "  inflating: hrf_512_512_dice_loss_hvr_0_3_feb_3/split_2/test/mask/_13_dr_6.png  \n",
            "  inflating: hrf_512_512_dice_loss_hvr_0_3_feb_3/split_2/test/mask/_02_g_0.png  \n",
            "  inflating: hrf_512_512_dice_loss_hvr_0_3_feb_3/split_2/test/mask/_15_h_33.png  \n",
            "  inflating: hrf_512_512_dice_loss_hvr_0_3_feb_3/split_2/test/mask/_02_g_1.png  \n",
            "  inflating: hrf_512_512_dice_loss_hvr_0_3_feb_3/split_2/test/mask/_05_g_7.png  \n",
            "  inflating: hrf_512_512_dice_loss_hvr_0_3_feb_3/split_2/test/mask/_05_dr_27.png  \n",
            "  inflating: hrf_512_512_dice_loss_hvr_0_3_feb_3/split_2/test/mask/_12_g_1.png  \n",
            "  inflating: hrf_512_512_dice_loss_hvr_0_3_feb_3/split_2/test/mask/_03_h_13.png  \n",
            "  inflating: hrf_512_512_dice_loss_hvr_0_3_feb_3/split_2/test/mask/_11_dr_3.png  \n",
            "  inflating: hrf_512_512_dice_loss_hvr_0_3_feb_3/split_2/test/mask/_02_g_19.png  \n",
            "  inflating: hrf_512_512_dice_loss_hvr_0_3_feb_3/split_2/test/mask/_10_h_8.png  \n",
            "  inflating: hrf_512_512_dice_loss_hvr_0_3_feb_3/split_2/test/mask/_15_h_15.png  \n",
            "  inflating: hrf_512_512_dice_loss_hvr_0_3_feb_3/split_2/test/mask/_02_g_3.png  \n",
            "  inflating: hrf_512_512_dice_loss_hvr_0_3_feb_3/split_2/test/mask/_03_h_4.png  \n",
            "  inflating: hrf_512_512_dice_loss_hvr_0_3_feb_3/split_2/test/mask/_06_g_31.png  \n",
            "  inflating: hrf_512_512_dice_loss_hvr_0_3_feb_3/split_2/test/mask/_06_g_4.png  \n",
            "  inflating: hrf_512_512_dice_loss_hvr_0_3_feb_3/split_2/test/mask/_13_dr_16.png  \n",
            "  inflating: hrf_512_512_dice_loss_hvr_0_3_feb_3/split_2/test/mask/_11_h_25.png  \n",
            "  inflating: hrf_512_512_dice_loss_hvr_0_3_feb_3/split_2/test/mask/_02_g_16.png  \n",
            "  inflating: hrf_512_512_dice_loss_hvr_0_3_feb_3/split_2/test/mask/_05_g_8.png  \n",
            "  inflating: hrf_512_512_dice_loss_hvr_0_3_feb_3/split_2/test/mask/_11_h_24.png  \n",
            "  inflating: hrf_512_512_dice_loss_hvr_0_3_feb_3/split_2/test/mask/_08_g_10.png  \n",
            "  inflating: hrf_512_512_dice_loss_hvr_0_3_feb_3/split_2/test/mask/_05_dr_29.png  \n",
            "  inflating: hrf_512_512_dice_loss_hvr_0_3_feb_3/split_2/test/mask/_08_g_26.png  \n",
            "  inflating: hrf_512_512_dice_loss_hvr_0_3_feb_3/split_2/test/mask/_05_dr_28.png  \n",
            "  inflating: hrf_512_512_dice_loss_hvr_0_3_feb_3/split_2/test/mask/_12_g_18.png  \n",
            "  inflating: hrf_512_512_dice_loss_hvr_0_3_feb_3/split_2/test/mask/_11_dr_2.png  \n",
            "  inflating: hrf_512_512_dice_loss_hvr_0_3_feb_3/split_2/test/mask/_08_dr_27.png  \n",
            "  inflating: hrf_512_512_dice_loss_hvr_0_3_feb_3/split_2/test/mask/_10_h_10.png  \n",
            "  inflating: hrf_512_512_dice_loss_hvr_0_3_feb_3/split_2/test/mask/_05_dr_2.png  \n",
            "  inflating: hrf_512_512_dice_loss_hvr_0_3_feb_3/split_2/test/mask/_11_dr_5.png  \n",
            "  inflating: hrf_512_512_dice_loss_hvr_0_3_feb_3/split_2/test/mask/_05_g_5.png  \n",
            "  inflating: hrf_512_512_dice_loss_hvr_0_3_feb_3/split_2/test/mask/_10_h_31.png  \n",
            "  inflating: hrf_512_512_dice_loss_hvr_0_3_feb_3/split_2/test/mask/_15_h_21.png  \n",
            "  inflating: hrf_512_512_dice_loss_hvr_0_3_feb_3/split_2/test/mask/_13_dr_30.png  \n",
            "  inflating: hrf_512_512_dice_loss_hvr_0_3_feb_3/split_2/test/mask/_08_dr_5.png  \n",
            "  inflating: hrf_512_512_dice_loss_hvr_0_3_feb_3/split_2/test/mask/_10_h_25.png  \n",
            "  inflating: hrf_512_512_dice_loss_hvr_0_3_feb_3/split_2/test/mask/_12_h_27.png  \n",
            "  inflating: hrf_512_512_dice_loss_hvr_0_3_feb_3/split_2/test/mask/_08_dr_0.png  \n",
            "  inflating: hrf_512_512_dice_loss_hvr_0_3_feb_3/split_2/test/mask/_05_dr_18.png  \n",
            "  inflating: hrf_512_512_dice_loss_hvr_0_3_feb_3/split_2/test/mask/_06_g_17.png  \n",
            "  inflating: hrf_512_512_dice_loss_hvr_0_3_feb_3/split_2/test/mask/_15_h_22.png  \n",
            "  inflating: hrf_512_512_dice_loss_hvr_0_3_feb_3/split_2/test/mask/_13_dr_7.png  \n",
            "  inflating: hrf_512_512_dice_loss_hvr_0_3_feb_3/split_2/test/mask/_05_g_9.png  \n",
            "  inflating: hrf_512_512_dice_loss_hvr_0_3_feb_3/split_2/test/mask/_05_dr_10.png  \n",
            "  inflating: hrf_512_512_dice_loss_hvr_0_3_feb_3/split_2/test/mask/_05_g_16.png  \n",
            "  inflating: hrf_512_512_dice_loss_hvr_0_3_feb_3/split_2/test/mask/_13_dr_19.png  \n",
            "  inflating: hrf_512_512_dice_loss_hvr_0_3_feb_3/split_2/test/mask/_15_h_30.png  \n",
            "  inflating: hrf_512_512_dice_loss_hvr_0_3_feb_3/split_2/test/mask/_03_h_9.png  \n",
            "  inflating: hrf_512_512_dice_loss_hvr_0_3_feb_3/split_2/test/mask/_08_dr_33.png  \n",
            "  inflating: hrf_512_512_dice_loss_hvr_0_3_feb_3/split_2/test/mask/_15_h_12.png  \n",
            "  inflating: hrf_512_512_dice_loss_hvr_0_3_feb_3/split_2/test/mask/_05_dr_21.png  \n",
            "  inflating: hrf_512_512_dice_loss_hvr_0_3_feb_3/split_2/test/mask/_11_h_9.png  \n",
            "  inflating: hrf_512_512_dice_loss_hvr_0_3_feb_3/split_2/test/mask/_12_h_10.png  \n",
            "  inflating: hrf_512_512_dice_loss_hvr_0_3_feb_3/split_2/test/mask/_11_dr_27.png  \n",
            "  inflating: hrf_512_512_dice_loss_hvr_0_3_feb_3/split_2/test/mask/_06_g_20.png  \n",
            "  inflating: hrf_512_512_dice_loss_hvr_0_3_feb_3/split_2/test/mask/_05_g_30.png  \n",
            "  inflating: hrf_512_512_dice_loss_hvr_0_3_feb_3/split_2/test/mask/_12_h_22.png  \n",
            "  inflating: hrf_512_512_dice_loss_hvr_0_3_feb_3/split_2/test/mask/_05_dr_9.png  \n",
            "  inflating: hrf_512_512_dice_loss_hvr_0_3_feb_3/split_2/test/mask/_05_dr_30.png  \n",
            "  inflating: hrf_512_512_dice_loss_hvr_0_3_feb_3/split_2/test/mask/_11_h_1.png  \n",
            "  inflating: hrf_512_512_dice_loss_hvr_0_3_feb_3/split_2/test/mask/_11_h_10.png  \n",
            "  inflating: hrf_512_512_dice_loss_hvr_0_3_feb_3/split_2/test/mask/_05_g_24.png  \n",
            "  inflating: hrf_512_512_dice_loss_hvr_0_3_feb_3/split_2/test/mask/_02_g_7.png  \n",
            "  inflating: hrf_512_512_dice_loss_hvr_0_3_feb_3/split_2/test/mask/_13_dr_28.png  \n",
            "  inflating: hrf_512_512_dice_loss_hvr_0_3_feb_3/split_2/test/mask/_06_g_12.png  \n",
            "  inflating: hrf_512_512_dice_loss_hvr_0_3_feb_3/split_2/test/mask/_15_h_31.png  \n",
            "  inflating: hrf_512_512_dice_loss_hvr_0_3_feb_3/split_2/test/mask/_11_dr_31.png  \n",
            "  inflating: hrf_512_512_dice_loss_hvr_0_3_feb_3/split_2/test/mask/_12_h_21.png  \n",
            "  inflating: hrf_512_512_dice_loss_hvr_0_3_feb_3/split_2/test/mask/_10_h_6.png  \n",
            "  inflating: hrf_512_512_dice_loss_hvr_0_3_feb_3/split_2/test/mask/_10_h_21.png  \n",
            "  inflating: hrf_512_512_dice_loss_hvr_0_3_feb_3/split_2/test/mask/_11_dr_21.png  \n",
            "  inflating: hrf_512_512_dice_loss_hvr_0_3_feb_3/split_2/test/mask/_08_g_12.png  \n",
            "  inflating: hrf_512_512_dice_loss_hvr_0_3_feb_3/split_2/test/mask/_12_g_12.png  \n",
            "  inflating: hrf_512_512_dice_loss_hvr_0_3_feb_3/split_2/test/mask/_12_h_15.png  \n",
            "  inflating: hrf_512_512_dice_loss_hvr_0_3_feb_3/split_2/test/mask/_05_g_23.png  \n",
            "  inflating: hrf_512_512_dice_loss_hvr_0_3_feb_3/split_2/test/mask/_11_h_34.png  \n",
            "  inflating: hrf_512_512_dice_loss_hvr_0_3_feb_3/split_2/test/mask/_05_g_31.png  \n",
            "  inflating: hrf_512_512_dice_loss_hvr_0_3_feb_3/split_2/test/mask/_08_dr_32.png  \n",
            "  inflating: hrf_512_512_dice_loss_hvr_0_3_feb_3/split_2/test/mask/_12_h_6.png  \n",
            "  inflating: hrf_512_512_dice_loss_hvr_0_3_feb_3/split_2/test/mask/_05_dr_24.png  \n",
            "  inflating: hrf_512_512_dice_loss_hvr_0_3_feb_3/split_2/test/mask/_03_h_30.png  \n",
            "  inflating: hrf_512_512_dice_loss_hvr_0_3_feb_3/split_2/test/mask/_11_h_15.png  \n",
            "  inflating: hrf_512_512_dice_loss_hvr_0_3_feb_3/split_2/test/mask/_08_dr_28.png  \n",
            "  inflating: hrf_512_512_dice_loss_hvr_0_3_feb_3/split_2/test/mask/_05_dr_17.png  \n",
            "  inflating: hrf_512_512_dice_loss_hvr_0_3_feb_3/split_2/test/mask/_06_g_25.png  \n",
            "  inflating: hrf_512_512_dice_loss_hvr_0_3_feb_3/split_2/test/mask/_05_g_21.png  \n",
            "  inflating: hrf_512_512_dice_loss_hvr_0_3_feb_3/split_2/test/mask/_06_g_14.png  \n",
            "  inflating: hrf_512_512_dice_loss_hvr_0_3_feb_3/split_2/test/mask/_11_h_23.png  \n",
            "  inflating: hrf_512_512_dice_loss_hvr_0_3_feb_3/split_2/test/mask/_11_dr_16.png  \n",
            "  inflating: hrf_512_512_dice_loss_hvr_0_3_feb_3/split_2/test/mask/_06_g_28.png  \n",
            "  inflating: hrf_512_512_dice_loss_hvr_0_3_feb_3/split_2/test/mask/_11_dr_0.png  \n",
            "  inflating: hrf_512_512_dice_loss_hvr_0_3_feb_3/split_2/test/mask/_06_g_13.png  \n",
            "  inflating: hrf_512_512_dice_loss_hvr_0_3_feb_3/split_2/test/mask/_05_dr_19.png  \n",
            "  inflating: hrf_512_512_dice_loss_hvr_0_3_feb_3/split_2/test/mask/_03_h_19.png  \n",
            "  inflating: hrf_512_512_dice_loss_hvr_0_3_feb_3/split_2/test/mask/_13_dr_26.png  \n",
            "  inflating: hrf_512_512_dice_loss_hvr_0_3_feb_3/split_2/test/mask/_13_dr_24.png  \n",
            "  inflating: hrf_512_512_dice_loss_hvr_0_3_feb_3/split_2/test/mask/_12_h_9.png  \n",
            "  inflating: hrf_512_512_dice_loss_hvr_0_3_feb_3/split_2/test/mask/_03_h_20.png  \n",
            "  inflating: hrf_512_512_dice_loss_hvr_0_3_feb_3/split_2/test/mask/_12_g_2.png  \n",
            "  inflating: hrf_512_512_dice_loss_hvr_0_3_feb_3/split_2/test/mask/_15_h_19.png  \n",
            "  inflating: hrf_512_512_dice_loss_hvr_0_3_feb_3/split_2/test/mask/_08_g_19.png  \n",
            "  inflating: hrf_512_512_dice_loss_hvr_0_3_feb_3/split_2/test/mask/_15_h_13.png  \n",
            "  inflating: hrf_512_512_dice_loss_hvr_0_3_feb_3/split_2/test/mask/_05_g_34.png  \n",
            "  inflating: hrf_512_512_dice_loss_hvr_0_3_feb_3/split_2/test/mask/_12_h_23.png  \n",
            "  inflating: hrf_512_512_dice_loss_hvr_0_3_feb_3/split_2/test/mask/_11_h_32.png  \n",
            "  inflating: hrf_512_512_dice_loss_hvr_0_3_feb_3/split_2/test/mask/_12_g_4.png  \n",
            "  inflating: hrf_512_512_dice_loss_hvr_0_3_feb_3/split_2/test/mask/_12_g_6.png  \n",
            "  inflating: hrf_512_512_dice_loss_hvr_0_3_feb_3/split_2/test/mask/_03_h_24.png  \n",
            "  inflating: hrf_512_512_dice_loss_hvr_0_3_feb_3/split_2/test/mask/_12_g_29.png  \n",
            "  inflating: hrf_512_512_dice_loss_hvr_0_3_feb_3/split_2/test/mask/_05_g_3.png  \n",
            "  inflating: hrf_512_512_dice_loss_hvr_0_3_feb_3/split_2/test/mask/_15_h_20.png  \n",
            "  inflating: hrf_512_512_dice_loss_hvr_0_3_feb_3/split_2/test/mask/_05_dr_25.png  \n",
            "  inflating: hrf_512_512_dice_loss_hvr_0_3_feb_3/split_2/test/mask/_08_dr_7.png  \n",
            "  inflating: hrf_512_512_dice_loss_hvr_0_3_feb_3/split_2/test/mask/_02_g_8.png  \n",
            "  inflating: hrf_512_512_dice_loss_hvr_0_3_feb_3/split_2/test/mask/_02_g_20.png  \n",
            "  inflating: hrf_512_512_dice_loss_hvr_0_3_feb_3/split_2/test/mask/_05_g_25.png  \n",
            "  inflating: hrf_512_512_dice_loss_hvr_0_3_feb_3/split_2/test/mask/_05_dr_14.png  \n",
            "  inflating: hrf_512_512_dice_loss_hvr_0_3_feb_3/split_2/test/mask/_06_g_21.png  \n",
            "  inflating: hrf_512_512_dice_loss_hvr_0_3_feb_3/split_2/test/mask/_11_dr_10.png  \n",
            "  inflating: hrf_512_512_dice_loss_hvr_0_3_feb_3/split_2/test/mask/_03_h_18.png  \n",
            "  inflating: hrf_512_512_dice_loss_hvr_0_3_feb_3/split_2/test/mask/_11_h_8.png  \n",
            "  inflating: hrf_512_512_dice_loss_hvr_0_3_feb_3/split_2/test/mask/_12_h_26.png  \n",
            "  inflating: hrf_512_512_dice_loss_hvr_0_3_feb_3/split_2/test/mask/_05_g_1.png  \n",
            "  inflating: hrf_512_512_dice_loss_hvr_0_3_feb_3/split_2/test/mask/_02_g_33.png  \n",
            "  inflating: hrf_512_512_dice_loss_hvr_0_3_feb_3/split_2/test/mask/_06_g_16.png  \n",
            "  inflating: hrf_512_512_dice_loss_hvr_0_3_feb_3/split_2/test/mask/_12_h_18.png  \n",
            "  inflating: hrf_512_512_dice_loss_hvr_0_3_feb_3/split_2/test/mask/_12_g_21.png  \n",
            "   creating: hrf_512_512_dice_loss_hvr_0_3_feb_3/predictions/\n",
            "  inflating: hrf_512_512_dice_loss_hvr_0_3_feb_3/predictions/_15_h_23.png  \n",
            "  inflating: hrf_512_512_dice_loss_hvr_0_3_feb_3/predictions/_03_h_0.png  \n",
            "  inflating: hrf_512_512_dice_loss_hvr_0_3_feb_3/predictions/_05_g_11.png  \n",
            "  inflating: hrf_512_512_dice_loss_hvr_0_3_feb_3/predictions/_08_dr_20.png  \n",
            "  inflating: hrf_512_512_dice_loss_hvr_0_3_feb_3/predictions/_08_dr_4.png  \n",
            "  inflating: hrf_512_512_dice_loss_hvr_0_3_feb_3/predictions/_13_dr_8.png  \n",
            "  inflating: hrf_512_512_dice_loss_hvr_0_3_feb_3/predictions/_05_g_22.png  \n",
            "  inflating: hrf_512_512_dice_loss_hvr_0_3_feb_3/predictions/_03_h_1.png  \n",
            "  inflating: hrf_512_512_dice_loss_hvr_0_3_feb_3/predictions/_08_g_27.png  \n",
            "  inflating: hrf_512_512_dice_loss_hvr_0_3_feb_3/predictions/_11_dr_7.png  \n",
            "  inflating: hrf_512_512_dice_loss_hvr_0_3_feb_3/predictions/_08_g_16.png  \n",
            "  inflating: hrf_512_512_dice_loss_hvr_0_3_feb_3/predictions/_15_h_11.png  \n",
            "  inflating: hrf_512_512_dice_loss_hvr_0_3_feb_3/predictions/_15_h_4.png  \n",
            "  inflating: hrf_512_512_dice_loss_hvr_0_3_feb_3/predictions/_05_g_32.png  \n",
            "  inflating: hrf_512_512_dice_loss_hvr_0_3_feb_3/predictions/_03_h_28.png  \n",
            "  inflating: hrf_512_512_dice_loss_hvr_0_3_feb_3/predictions/_06_g_32.png  \n",
            "  inflating: hrf_512_512_dice_loss_hvr_0_3_feb_3/predictions/_03_h_11.png  \n",
            "  inflating: hrf_512_512_dice_loss_hvr_0_3_feb_3/predictions/_08_g_23.png  \n",
            "  inflating: hrf_512_512_dice_loss_hvr_0_3_feb_3/predictions/_12_g_32.png  \n",
            "  inflating: hrf_512_512_dice_loss_hvr_0_3_feb_3/predictions/_06_g_9.png  \n",
            "  inflating: hrf_512_512_dice_loss_hvr_0_3_feb_3/predictions/_02_g_25.png  \n",
            "  inflating: hrf_512_512_dice_loss_hvr_0_3_feb_3/predictions/_12_g_14.png  \n",
            "  inflating: hrf_512_512_dice_loss_hvr_0_3_feb_3/predictions/_08_dr_10.png  \n",
            "  inflating: hrf_512_512_dice_loss_hvr_0_3_feb_3/predictions/_11_dr_30.png  \n",
            "  inflating: hrf_512_512_dice_loss_hvr_0_3_feb_3/predictions/_11_dr_8.png  \n",
            "  inflating: hrf_512_512_dice_loss_hvr_0_3_feb_3/predictions/_05_dr_22.png  \n",
            "  inflating: hrf_512_512_dice_loss_hvr_0_3_feb_3/predictions/_06_g_34.png  \n",
            "  inflating: hrf_512_512_dice_loss_hvr_0_3_feb_3/predictions/_13_dr_17.png  \n",
            "  inflating: hrf_512_512_dice_loss_hvr_0_3_feb_3/predictions/_03_h_12.png  \n",
            "  inflating: hrf_512_512_dice_loss_hvr_0_3_feb_3/predictions/_05_g_14.png  \n",
            "  inflating: hrf_512_512_dice_loss_hvr_0_3_feb_3/predictions/_12_g_8.png  \n",
            "  inflating: hrf_512_512_dice_loss_hvr_0_3_feb_3/predictions/_02_g_22.png  \n",
            "  inflating: hrf_512_512_dice_loss_hvr_0_3_feb_3/predictions/_12_h_1.png  \n",
            "  inflating: hrf_512_512_dice_loss_hvr_0_3_feb_3/predictions/_11_dr_22.png  \n",
            "  inflating: hrf_512_512_dice_loss_hvr_0_3_feb_3/predictions/_06_g_6.png  \n",
            "  inflating: hrf_512_512_dice_loss_hvr_0_3_feb_3/predictions/_11_dr_14.png  \n",
            "  inflating: hrf_512_512_dice_loss_hvr_0_3_feb_3/predictions/_02_g_34.png  \n",
            "  inflating: hrf_512_512_dice_loss_hvr_0_3_feb_3/predictions/_11_h_33.png  \n",
            "  inflating: hrf_512_512_dice_loss_hvr_0_3_feb_3/predictions/_05_g_17.png  \n",
            "  inflating: hrf_512_512_dice_loss_hvr_0_3_feb_3/predictions/_08_g_17.png  \n",
            "  inflating: hrf_512_512_dice_loss_hvr_0_3_feb_3/predictions/_08_g_13.png  \n",
            "  inflating: hrf_512_512_dice_loss_hvr_0_3_feb_3/predictions/_08_g_28.png  \n",
            "  inflating: hrf_512_512_dice_loss_hvr_0_3_feb_3/predictions/_08_g_3.png  \n",
            "  inflating: hrf_512_512_dice_loss_hvr_0_3_feb_3/predictions/_11_dr_15.png  \n",
            "  inflating: hrf_512_512_dice_loss_hvr_0_3_feb_3/predictions/_06_g_24.png  \n",
            "  inflating: hrf_512_512_dice_loss_hvr_0_3_feb_3/predictions/_06_g_33.png  \n",
            "  inflating: hrf_512_512_dice_loss_hvr_0_3_feb_3/predictions/_02_g_21.png  \n",
            "  inflating: hrf_512_512_dice_loss_hvr_0_3_feb_3/predictions/_08_dr_22.png  \n",
            "  inflating: hrf_512_512_dice_loss_hvr_0_3_feb_3/predictions/_10_h_26.png  \n",
            "  inflating: hrf_512_512_dice_loss_hvr_0_3_feb_3/predictions/_13_dr_21.png  \n",
            "  inflating: hrf_512_512_dice_loss_hvr_0_3_feb_3/predictions/_08_dr_18.png  \n",
            "  inflating: hrf_512_512_dice_loss_hvr_0_3_feb_3/predictions/_08_dr_3.png  \n",
            "  inflating: hrf_512_512_dice_loss_hvr_0_3_feb_3/predictions/_02_g_15.png  \n",
            "  inflating: hrf_512_512_dice_loss_hvr_0_3_feb_3/predictions/_12_h_3.png  \n",
            "  inflating: hrf_512_512_dice_loss_hvr_0_3_feb_3/predictions/_11_dr_18.png  \n",
            "  inflating: hrf_512_512_dice_loss_hvr_0_3_feb_3/predictions/_15_h_2.png  \n",
            "  inflating: hrf_512_512_dice_loss_hvr_0_3_feb_3/predictions/_08_dr_6.png  \n",
            "  inflating: hrf_512_512_dice_loss_hvr_0_3_feb_3/predictions/_08_dr_19.png  \n",
            "  inflating: hrf_512_512_dice_loss_hvr_0_3_feb_3/predictions/_15_h_34.png  \n",
            "  inflating: hrf_512_512_dice_loss_hvr_0_3_feb_3/predictions/_08_g_11.png  \n",
            "  inflating: hrf_512_512_dice_loss_hvr_0_3_feb_3/predictions/_11_h_17.png  \n",
            "  inflating: hrf_512_512_dice_loss_hvr_0_3_feb_3/predictions/_05_dr_34.png  \n",
            "  inflating: hrf_512_512_dice_loss_hvr_0_3_feb_3/predictions/_08_g_1.png  \n",
            "  inflating: hrf_512_512_dice_loss_hvr_0_3_feb_3/predictions/_12_g_28.png  \n",
            "  inflating: hrf_512_512_dice_loss_hvr_0_3_feb_3/predictions/_10_h_18.png  \n",
            "  inflating: hrf_512_512_dice_loss_hvr_0_3_feb_3/predictions/_05_dr_13.png  \n",
            "  inflating: hrf_512_512_dice_loss_hvr_0_3_feb_3/predictions/_15_h_7.png  \n",
            "  inflating: hrf_512_512_dice_loss_hvr_0_3_feb_3/predictions/_08_dr_21.png  \n",
            "  inflating: hrf_512_512_dice_loss_hvr_0_3_feb_3/predictions/_03_h_31.png  \n",
            "  inflating: hrf_512_512_dice_loss_hvr_0_3_feb_3/predictions/_12_h_16.png  \n",
            "  inflating: hrf_512_512_dice_loss_hvr_0_3_feb_3/predictions/_08_dr_23.png  \n",
            "  inflating: hrf_512_512_dice_loss_hvr_0_3_feb_3/predictions/_03_h_29.png  \n",
            "  inflating: hrf_512_512_dice_loss_hvr_0_3_feb_3/predictions/_11_h_16.png  \n",
            "  inflating: hrf_512_512_dice_loss_hvr_0_3_feb_3/predictions/_12_g_22.png  \n",
            "  inflating: hrf_512_512_dice_loss_hvr_0_3_feb_3/predictions/_11_dr_6.png  \n",
            "  inflating: hrf_512_512_dice_loss_hvr_0_3_feb_3/predictions/_11_dr_12.png  \n",
            "  inflating: hrf_512_512_dice_loss_hvr_0_3_feb_3/predictions/_12_g_31.png  \n",
            "  inflating: hrf_512_512_dice_loss_hvr_0_3_feb_3/predictions/_12_h_0.png  \n",
            "  inflating: hrf_512_512_dice_loss_hvr_0_3_feb_3/predictions/_02_g_27.png  \n",
            "  inflating: hrf_512_512_dice_loss_hvr_0_3_feb_3/predictions/_05_g_13.png  \n",
            "  inflating: hrf_512_512_dice_loss_hvr_0_3_feb_3/predictions/_06_g_29.png  \n",
            "  inflating: hrf_512_512_dice_loss_hvr_0_3_feb_3/predictions/_12_h_4.png  \n",
            "  inflating: hrf_512_512_dice_loss_hvr_0_3_feb_3/predictions/_05_dr_7.png  \n",
            "  inflating: hrf_512_512_dice_loss_hvr_0_3_feb_3/predictions/_02_g_31.png  \n",
            "  inflating: hrf_512_512_dice_loss_hvr_0_3_feb_3/predictions/_11_dr_17.png  \n",
            "  inflating: hrf_512_512_dice_loss_hvr_0_3_feb_3/predictions/_11_h_19.png  \n",
            "  inflating: hrf_512_512_dice_loss_hvr_0_3_feb_3/predictions/_12_g_0.png  \n",
            "  inflating: hrf_512_512_dice_loss_hvr_0_3_feb_3/predictions/_08_dr_17.png  \n",
            "  inflating: hrf_512_512_dice_loss_hvr_0_3_feb_3/predictions/_10_h_24.png  \n",
            "  inflating: hrf_512_512_dice_loss_hvr_0_3_feb_3/predictions/_06_g_18.png  \n",
            "  inflating: hrf_512_512_dice_loss_hvr_0_3_feb_3/predictions/_10_h_3.png  \n",
            "  inflating: hrf_512_512_dice_loss_hvr_0_3_feb_3/predictions/_12_g_7.png  \n",
            "  inflating: hrf_512_512_dice_loss_hvr_0_3_feb_3/predictions/_02_g_9.png  \n",
            "  inflating: hrf_512_512_dice_loss_hvr_0_3_feb_3/predictions/_08_g_22.png  \n",
            "  inflating: hrf_512_512_dice_loss_hvr_0_3_feb_3/predictions/_05_g_10.png  \n",
            "  inflating: hrf_512_512_dice_loss_hvr_0_3_feb_3/predictions/_03_h_5.png  \n",
            "  inflating: hrf_512_512_dice_loss_hvr_0_3_feb_3/predictions/_05_g_33.png  \n",
            "  inflating: hrf_512_512_dice_loss_hvr_0_3_feb_3/predictions/_11_h_28.png  \n",
            "  inflating: hrf_512_512_dice_loss_hvr_0_3_feb_3/predictions/_15_h_1.png  \n",
            "  inflating: hrf_512_512_dice_loss_hvr_0_3_feb_3/predictions/_08_dr_11.png  \n",
            "  inflating: hrf_512_512_dice_loss_hvr_0_3_feb_3/predictions/_12_h_8.png  \n",
            "  inflating: hrf_512_512_dice_loss_hvr_0_3_feb_3/predictions/_13_dr_9.png  \n",
            "  inflating: hrf_512_512_dice_loss_hvr_0_3_feb_3/predictions/_05_dr_5.png  \n",
            "  inflating: hrf_512_512_dice_loss_hvr_0_3_feb_3/predictions/_15_h_5.png  \n",
            "  inflating: hrf_512_512_dice_loss_hvr_0_3_feb_3/predictions/_08_dr_24.png  \n",
            "  inflating: hrf_512_512_dice_loss_hvr_0_3_feb_3/predictions/_10_h_23.png  \n",
            "  inflating: hrf_512_512_dice_loss_hvr_0_3_feb_3/predictions/_08_g_24.png  \n",
            "  inflating: hrf_512_512_dice_loss_hvr_0_3_feb_3/predictions/_02_g_30.png  \n",
            "  inflating: hrf_512_512_dice_loss_hvr_0_3_feb_3/predictions/_08_g_32.png  \n",
            "  inflating: hrf_512_512_dice_loss_hvr_0_3_feb_3/predictions/_11_h_20.png  \n",
            "  inflating: hrf_512_512_dice_loss_hvr_0_3_feb_3/predictions/_11_h_26.png  \n",
            "  inflating: hrf_512_512_dice_loss_hvr_0_3_feb_3/predictions/_13_dr_12.png  \n",
            "  inflating: hrf_512_512_dice_loss_hvr_0_3_feb_3/predictions/_13_dr_15.png  \n",
            "  inflating: hrf_512_512_dice_loss_hvr_0_3_feb_3/predictions/_05_dr_12.png  \n",
            "  inflating: hrf_512_512_dice_loss_hvr_0_3_feb_3/predictions/_11_dr_33.png  \n",
            "  inflating: hrf_512_512_dice_loss_hvr_0_3_feb_3/predictions/_08_g_8.png  \n",
            "  inflating: hrf_512_512_dice_loss_hvr_0_3_feb_3/predictions/_12_h_2.png  \n",
            "  inflating: hrf_512_512_dice_loss_hvr_0_3_feb_3/predictions/_06_g_22.png  \n",
            "  inflating: hrf_512_512_dice_loss_hvr_0_3_feb_3/predictions/_02_g_4.png  \n",
            "  inflating: hrf_512_512_dice_loss_hvr_0_3_feb_3/predictions/_13_dr_32.png  \n",
            "  inflating: hrf_512_512_dice_loss_hvr_0_3_feb_3/predictions/_03_h_2.png  \n",
            "  inflating: hrf_512_512_dice_loss_hvr_0_3_feb_3/predictions/_12_h_29.png  \n",
            "  inflating: hrf_512_512_dice_loss_hvr_0_3_feb_3/predictions/_10_h_9.png  \n",
            "  inflating: hrf_512_512_dice_loss_hvr_0_3_feb_3/predictions/_08_dr_16.png  \n",
            "  inflating: hrf_512_512_dice_loss_hvr_0_3_feb_3/predictions/_13_dr_27.png  \n",
            "  inflating: hrf_512_512_dice_loss_hvr_0_3_feb_3/predictions/_12_h_30.png  \n",
            "  inflating: hrf_512_512_dice_loss_hvr_0_3_feb_3/predictions/_15_h_3.png  \n",
            "  inflating: hrf_512_512_dice_loss_hvr_0_3_feb_3/predictions/_10_h_16.png  \n",
            "  inflating: hrf_512_512_dice_loss_hvr_0_3_feb_3/predictions/_08_dr_26.png  \n",
            "  inflating: hrf_512_512_dice_loss_hvr_0_3_feb_3/predictions/_05_g_20.png  \n",
            "  inflating: hrf_512_512_dice_loss_hvr_0_3_feb_3/predictions/_06_g_1.png  \n",
            "  inflating: hrf_512_512_dice_loss_hvr_0_3_feb_3/predictions/_02_g_29.png  \n",
            "  inflating: hrf_512_512_dice_loss_hvr_0_3_feb_3/predictions/_08_dr_13.png  \n",
            "  inflating: hrf_512_512_dice_loss_hvr_0_3_feb_3/predictions/_08_g_0.png  \n",
            "  inflating: hrf_512_512_dice_loss_hvr_0_3_feb_3/predictions/_05_g_26.png  \n",
            "  inflating: hrf_512_512_dice_loss_hvr_0_3_feb_3/predictions/_02_g_12.png  \n",
            "  inflating: hrf_512_512_dice_loss_hvr_0_3_feb_3/predictions/_10_h_33.png  \n",
            "  inflating: hrf_512_512_dice_loss_hvr_0_3_feb_3/predictions/_02_g_2.png  \n",
            "  inflating: hrf_512_512_dice_loss_hvr_0_3_feb_3/predictions/_05_dr_16.png  \n",
            "  inflating: hrf_512_512_dice_loss_hvr_0_3_feb_3/predictions/_12_h_11.png  \n",
            "  inflating: hrf_512_512_dice_loss_hvr_0_3_feb_3/predictions/_05_dr_0.png  \n",
            "  inflating: hrf_512_512_dice_loss_hvr_0_3_feb_3/predictions/_03_h_8.png  \n",
            "  inflating: hrf_512_512_dice_loss_hvr_0_3_feb_3/predictions/_12_h_5.png  \n",
            "  inflating: hrf_512_512_dice_loss_hvr_0_3_feb_3/predictions/_10_h_27.png  \n",
            "  inflating: hrf_512_512_dice_loss_hvr_0_3_feb_3/predictions/_03_h_17.png  \n",
            "  inflating: hrf_512_512_dice_loss_hvr_0_3_feb_3/predictions/_15_h_17.png  \n",
            "  inflating: hrf_512_512_dice_loss_hvr_0_3_feb_3/predictions/_12_h_14.png  \n",
            "  inflating: hrf_512_512_dice_loss_hvr_0_3_feb_3/predictions/_15_h_6.png  \n",
            "  inflating: hrf_512_512_dice_loss_hvr_0_3_feb_3/predictions/_03_h_21.png  \n",
            "  inflating: hrf_512_512_dice_loss_hvr_0_3_feb_3/predictions/_13_dr_20.png  \n",
            "  inflating: hrf_512_512_dice_loss_hvr_0_3_feb_3/predictions/_12_g_5.png  \n",
            "  inflating: hrf_512_512_dice_loss_hvr_0_3_feb_3/predictions/_10_h_28.png  \n",
            "  inflating: hrf_512_512_dice_loss_hvr_0_3_feb_3/predictions/_06_g_5.png  \n",
            "  inflating: hrf_512_512_dice_loss_hvr_0_3_feb_3/predictions/_08_g_14.png  \n",
            "  inflating: hrf_512_512_dice_loss_hvr_0_3_feb_3/predictions/_15_h_29.png  \n",
            "  inflating: hrf_512_512_dice_loss_hvr_0_3_feb_3/predictions/_05_dr_6.png  \n",
            "  inflating: hrf_512_512_dice_loss_hvr_0_3_feb_3/predictions/_11_dr_25.png  \n",
            "  inflating: hrf_512_512_dice_loss_hvr_0_3_feb_3/predictions/_05_dr_31.png  \n",
            "  inflating: hrf_512_512_dice_loss_hvr_0_3_feb_3/predictions/_06_g_19.png  \n",
            "  inflating: hrf_512_512_dice_loss_hvr_0_3_feb_3/predictions/_03_h_15.png  \n",
            "  inflating: hrf_512_512_dice_loss_hvr_0_3_feb_3/predictions/_12_g_17.png  \n",
            "  inflating: hrf_512_512_dice_loss_hvr_0_3_feb_3/predictions/_02_g_11.png  \n",
            "  inflating: hrf_512_512_dice_loss_hvr_0_3_feb_3/predictions/_13_dr_10.png  \n",
            "  inflating: hrf_512_512_dice_loss_hvr_0_3_feb_3/predictions/_11_dr_11.png  \n",
            "  inflating: hrf_512_512_dice_loss_hvr_0_3_feb_3/predictions/_08_g_34.png  \n",
            "  inflating: hrf_512_512_dice_loss_hvr_0_3_feb_3/predictions/_15_h_10.png  \n",
            "  inflating: hrf_512_512_dice_loss_hvr_0_3_feb_3/predictions/_12_h_12.png  \n",
            "  inflating: hrf_512_512_dice_loss_hvr_0_3_feb_3/predictions/_10_h_20.png  \n",
            "  inflating: hrf_512_512_dice_loss_hvr_0_3_feb_3/predictions/_08_g_31.png  \n",
            "  inflating: hrf_512_512_dice_loss_hvr_0_3_feb_3/predictions/_08_g_25.png  \n",
            "  inflating: hrf_512_512_dice_loss_hvr_0_3_feb_3/predictions/_15_h_18.png  \n",
            "  inflating: hrf_512_512_dice_loss_hvr_0_3_feb_3/predictions/_15_h_24.png  \n",
            "  inflating: hrf_512_512_dice_loss_hvr_0_3_feb_3/predictions/_06_g_7.png  \n",
            "  inflating: hrf_512_512_dice_loss_hvr_0_3_feb_3/predictions/_10_h_30.png  \n",
            "  inflating: hrf_512_512_dice_loss_hvr_0_3_feb_3/predictions/_11_h_21.png  \n",
            "  inflating: hrf_512_512_dice_loss_hvr_0_3_feb_3/predictions/_06_g_27.png  \n",
            "  inflating: hrf_512_512_dice_loss_hvr_0_3_feb_3/predictions/_05_g_29.png  \n",
            "  inflating: hrf_512_512_dice_loss_hvr_0_3_feb_3/predictions/_08_dr_30.png  \n",
            "  inflating: hrf_512_512_dice_loss_hvr_0_3_feb_3/predictions/_15_h_9.png  \n",
            "  inflating: hrf_512_512_dice_loss_hvr_0_3_feb_3/predictions/_08_dr_31.png  \n",
            "  inflating: hrf_512_512_dice_loss_hvr_0_3_feb_3/predictions/_08_g_2.png  \n",
            "  inflating: hrf_512_512_dice_loss_hvr_0_3_feb_3/predictions/_02_g_17.png  \n",
            "  inflating: hrf_512_512_dice_loss_hvr_0_3_feb_3/predictions/_08_dr_15.png  \n",
            "  inflating: hrf_512_512_dice_loss_hvr_0_3_feb_3/predictions/_08_g_15.png  \n",
            "  inflating: hrf_512_512_dice_loss_hvr_0_3_feb_3/predictions/_05_dr_20.png  \n",
            "  inflating: hrf_512_512_dice_loss_hvr_0_3_feb_3/predictions/_11_dr_26.png  \n",
            "  inflating: hrf_512_512_dice_loss_hvr_0_3_feb_3/predictions/_13_dr_5.png  \n",
            "  inflating: hrf_512_512_dice_loss_hvr_0_3_feb_3/predictions/_08_g_6.png  \n",
            "  inflating: hrf_512_512_dice_loss_hvr_0_3_feb_3/predictions/_12_g_10.png  \n",
            "  inflating: hrf_512_512_dice_loss_hvr_0_3_feb_3/predictions/_11_h_30.png  \n",
            "  inflating: hrf_512_512_dice_loss_hvr_0_3_feb_3/predictions/_03_h_6.png  \n",
            "  inflating: hrf_512_512_dice_loss_hvr_0_3_feb_3/predictions/_11_h_0.png  \n",
            "  inflating: hrf_512_512_dice_loss_hvr_0_3_feb_3/predictions/_13_dr_34.png  \n",
            "  inflating: hrf_512_512_dice_loss_hvr_0_3_feb_3/predictions/_11_dr_23.png  \n",
            "  inflating: hrf_512_512_dice_loss_hvr_0_3_feb_3/predictions/_08_g_7.png  \n",
            "  inflating: hrf_512_512_dice_loss_hvr_0_3_feb_3/predictions/_11_h_22.png  \n",
            "  inflating: hrf_512_512_dice_loss_hvr_0_3_feb_3/predictions/_08_g_21.png  \n",
            "  inflating: hrf_512_512_dice_loss_hvr_0_3_feb_3/predictions/_10_h_15.png  \n",
            "  inflating: hrf_512_512_dice_loss_hvr_0_3_feb_3/predictions/_12_h_13.png  \n",
            "  inflating: hrf_512_512_dice_loss_hvr_0_3_feb_3/predictions/_11_h_18.png  \n",
            "  inflating: hrf_512_512_dice_loss_hvr_0_3_feb_3/predictions/_12_h_31.png  \n",
            "  inflating: hrf_512_512_dice_loss_hvr_0_3_feb_3/predictions/_05_g_6.png  \n",
            "  inflating: hrf_512_512_dice_loss_hvr_0_3_feb_3/predictions/_13_dr_3.png  \n",
            "  inflating: hrf_512_512_dice_loss_hvr_0_3_feb_3/predictions/_10_h_17.png  \n",
            "  inflating: hrf_512_512_dice_loss_hvr_0_3_feb_3/predictions/_13_dr_23.png  \n",
            "  inflating: hrf_512_512_dice_loss_hvr_0_3_feb_3/predictions/_11_h_12.png  \n",
            "  inflating: hrf_512_512_dice_loss_hvr_0_3_feb_3/predictions/_12_g_13.png  \n",
            "  inflating: hrf_512_512_dice_loss_hvr_0_3_feb_3/predictions/_03_h_10.png  \n",
            "  inflating: hrf_512_512_dice_loss_hvr_0_3_feb_3/predictions/_15_h_8.png  \n",
            "  inflating: hrf_512_512_dice_loss_hvr_0_3_feb_3/predictions/_10_h_11.png  \n",
            "  inflating: hrf_512_512_dice_loss_hvr_0_3_feb_3/predictions/_10_h_19.png  \n",
            "  inflating: hrf_512_512_dice_loss_hvr_0_3_feb_3/predictions/_08_dr_14.png  \n",
            "  inflating: hrf_512_512_dice_loss_hvr_0_3_feb_3/predictions/_10_h_5.png  \n",
            "  inflating: hrf_512_512_dice_loss_hvr_0_3_feb_3/predictions/_11_h_29.png  \n",
            "  inflating: hrf_512_512_dice_loss_hvr_0_3_feb_3/predictions/_11_dr_9.png  \n",
            "  inflating: hrf_512_512_dice_loss_hvr_0_3_feb_3/predictions/_11_h_3.png  \n",
            "  inflating: hrf_512_512_dice_loss_hvr_0_3_feb_3/predictions/_06_g_11.png  \n",
            "  inflating: hrf_512_512_dice_loss_hvr_0_3_feb_3/predictions/_12_g_34.png  \n",
            "  inflating: hrf_512_512_dice_loss_hvr_0_3_feb_3/predictions/_03_h_14.png  \n",
            "  inflating: hrf_512_512_dice_loss_hvr_0_3_feb_3/predictions/_10_h_7.png  \n",
            "  inflating: hrf_512_512_dice_loss_hvr_0_3_feb_3/predictions/_03_h_7.png  \n",
            "  inflating: hrf_512_512_dice_loss_hvr_0_3_feb_3/predictions/_10_h_13.png  \n",
            "  inflating: hrf_512_512_dice_loss_hvr_0_3_feb_3/predictions/_08_g_33.png  \n",
            "  inflating: hrf_512_512_dice_loss_hvr_0_3_feb_3/predictions/_11_h_2.png  \n",
            "  inflating: hrf_512_512_dice_loss_hvr_0_3_feb_3/predictions/_06_g_30.png  \n",
            "  inflating: hrf_512_512_dice_loss_hvr_0_3_feb_3/predictions/_05_g_0.png  \n",
            "  inflating: hrf_512_512_dice_loss_hvr_0_3_feb_3/predictions/_11_h_6.png  \n",
            "  inflating: hrf_512_512_dice_loss_hvr_0_3_feb_3/predictions/_12_h_25.png  \n",
            "  inflating: hrf_512_512_dice_loss_hvr_0_3_feb_3/predictions/_02_g_14.png  \n",
            "  inflating: hrf_512_512_dice_loss_hvr_0_3_feb_3/predictions/_10_h_2.png  \n",
            "  inflating: hrf_512_512_dice_loss_hvr_0_3_feb_3/predictions/_13_dr_31.png  \n",
            "  inflating: hrf_512_512_dice_loss_hvr_0_3_feb_3/predictions/_11_dr_20.png  \n",
            "  inflating: hrf_512_512_dice_loss_hvr_0_3_feb_3/predictions/_05_g_18.png  \n",
            "  inflating: hrf_512_512_dice_loss_hvr_0_3_feb_3/predictions/_11_h_7.png  \n",
            "  inflating: hrf_512_512_dice_loss_hvr_0_3_feb_3/predictions/_03_h_26.png  \n",
            "  inflating: hrf_512_512_dice_loss_hvr_0_3_feb_3/predictions/_12_g_25.png  \n",
            "  inflating: hrf_512_512_dice_loss_hvr_0_3_feb_3/predictions/_10_h_0.png  \n",
            "  inflating: hrf_512_512_dice_loss_hvr_0_3_feb_3/predictions/_11_dr_24.png  \n",
            "  inflating: hrf_512_512_dice_loss_hvr_0_3_feb_3/predictions/_03_h_3.png  \n",
            "  inflating: hrf_512_512_dice_loss_hvr_0_3_feb_3/predictions/_13_dr_2.png  \n",
            "  inflating: hrf_512_512_dice_loss_hvr_0_3_feb_3/predictions/_11_h_13.png  \n",
            "  inflating: hrf_512_512_dice_loss_hvr_0_3_feb_3/predictions/_10_h_34.png  \n",
            "  inflating: hrf_512_512_dice_loss_hvr_0_3_feb_3/predictions/_10_h_1.png  \n",
            "  inflating: hrf_512_512_dice_loss_hvr_0_3_feb_3/predictions/_05_g_4.png  \n",
            "  inflating: hrf_512_512_dice_loss_hvr_0_3_feb_3/predictions/_11_h_5.png  \n",
            "  inflating: hrf_512_512_dice_loss_hvr_0_3_feb_3/predictions/_05_g_12.png  \n",
            "  inflating: hrf_512_512_dice_loss_hvr_0_3_feb_3/predictions/_15_h_27.png  \n",
            "  inflating: hrf_512_512_dice_loss_hvr_0_3_feb_3/predictions/_02_g_28.png  \n",
            "  inflating: hrf_512_512_dice_loss_hvr_0_3_feb_3/predictions/_08_g_29.png  \n",
            "  inflating: hrf_512_512_dice_loss_hvr_0_3_feb_3/predictions/_11_dr_19.png  \n",
            "  inflating: hrf_512_512_dice_loss_hvr_0_3_feb_3/predictions/_12_g_16.png  \n",
            "  inflating: hrf_512_512_dice_loss_hvr_0_3_feb_3/predictions/_13_dr_11.png  \n",
            "  inflating: hrf_512_512_dice_loss_hvr_0_3_feb_3/predictions/_13_dr_4.png  \n",
            "  inflating: hrf_512_512_dice_loss_hvr_0_3_feb_3/predictions/_05_g_15.png  \n",
            "  inflating: hrf_512_512_dice_loss_hvr_0_3_feb_3/predictions/_13_dr_33.png  \n",
            "  inflating: hrf_512_512_dice_loss_hvr_0_3_feb_3/predictions/_15_h_26.png  \n",
            "  inflating: hrf_512_512_dice_loss_hvr_0_3_feb_3/predictions/_02_g_6.png  \n",
            "  inflating: hrf_512_512_dice_loss_hvr_0_3_feb_3/predictions/_05_dr_33.png  \n",
            "  inflating: hrf_512_512_dice_loss_hvr_0_3_feb_3/predictions/_05_dr_26.png  \n",
            "  inflating: hrf_512_512_dice_loss_hvr_0_3_feb_3/predictions/_13_dr_14.png  \n",
            "  inflating: hrf_512_512_dice_loss_hvr_0_3_feb_3/predictions/_02_g_10.png  \n",
            "  inflating: hrf_512_512_dice_loss_hvr_0_3_feb_3/predictions/_15_h_28.png  \n",
            "  inflating: hrf_512_512_dice_loss_hvr_0_3_feb_3/predictions/_08_g_18.png  \n",
            "  inflating: hrf_512_512_dice_loss_hvr_0_3_feb_3/predictions/_12_g_11.png  \n",
            "  inflating: hrf_512_512_dice_loss_hvr_0_3_feb_3/predictions/_06_g_10.png  \n",
            "  inflating: hrf_512_512_dice_loss_hvr_0_3_feb_3/predictions/_13_dr_13.png  \n",
            "  inflating: hrf_512_512_dice_loss_hvr_0_3_feb_3/predictions/_11_dr_4.png  \n",
            "  inflating: hrf_512_512_dice_loss_hvr_0_3_feb_3/predictions/_03_h_23.png  \n",
            "  inflating: hrf_512_512_dice_loss_hvr_0_3_feb_3/predictions/_12_h_34.png  \n",
            "  inflating: hrf_512_512_dice_loss_hvr_0_3_feb_3/predictions/_08_dr_34.png  \n",
            "  inflating: hrf_512_512_dice_loss_hvr_0_3_feb_3/predictions/_12_h_7.png  \n",
            "  inflating: hrf_512_512_dice_loss_hvr_0_3_feb_3/predictions/_12_h_17.png  \n",
            "  inflating: hrf_512_512_dice_loss_hvr_0_3_feb_3/predictions/_11_h_14.png  \n",
            "  inflating: hrf_512_512_dice_loss_hvr_0_3_feb_3/predictions/_03_h_32.png  \n",
            "  inflating: hrf_512_512_dice_loss_hvr_0_3_feb_3/predictions/_06_g_0.png  \n",
            "  inflating: hrf_512_512_dice_loss_hvr_0_3_feb_3/predictions/_12_g_9.png  \n",
            "  inflating: hrf_512_512_dice_loss_hvr_0_3_feb_3/predictions/_05_dr_3.png  \n",
            "  inflating: hrf_512_512_dice_loss_hvr_0_3_feb_3/predictions/_10_h_29.png  \n",
            "  inflating: hrf_512_512_dice_loss_hvr_0_3_feb_3/predictions/_15_h_16.png  \n",
            "  inflating: hrf_512_512_dice_loss_hvr_0_3_feb_3/predictions/_12_h_24.png  \n",
            "  inflating: hrf_512_512_dice_loss_hvr_0_3_feb_3/predictions/_05_dr_23.png  \n",
            "  inflating: hrf_512_512_dice_loss_hvr_0_3_feb_3/predictions/_15_h_14.png  \n",
            "  inflating: hrf_512_512_dice_loss_hvr_0_3_feb_3/predictions/_08_dr_2.png  \n",
            "  inflating: hrf_512_512_dice_loss_hvr_0_3_feb_3/predictions/_13_dr_0.png  \n",
            "  inflating: hrf_512_512_dice_loss_hvr_0_3_feb_3/predictions/_02_g_18.png  \n",
            "  inflating: hrf_512_512_dice_loss_hvr_0_3_feb_3/predictions/_10_h_14.png  \n",
            "  inflating: hrf_512_512_dice_loss_hvr_0_3_feb_3/predictions/_13_dr_25.png  \n",
            "  inflating: hrf_512_512_dice_loss_hvr_0_3_feb_3/predictions/_03_h_16.png  \n",
            "  inflating: hrf_512_512_dice_loss_hvr_0_3_feb_3/predictions/_02_g_23.png  \n",
            "  inflating: hrf_512_512_dice_loss_hvr_0_3_feb_3/predictions/_02_g_24.png  \n",
            "  inflating: hrf_512_512_dice_loss_hvr_0_3_feb_3/predictions/_11_dr_13.png  \n",
            "  inflating: hrf_512_512_dice_loss_hvr_0_3_feb_3/predictions/_12_g_20.png  \n",
            "  inflating: hrf_512_512_dice_loss_hvr_0_3_feb_3/predictions/_10_h_22.png  \n",
            "  inflating: hrf_512_512_dice_loss_hvr_0_3_feb_3/predictions/_12_g_15.png  \n",
            "  inflating: hrf_512_512_dice_loss_hvr_0_3_feb_3/predictions/_11_dr_29.png  \n",
            "  inflating: hrf_512_512_dice_loss_hvr_0_3_feb_3/predictions/_02_g_32.png  \n",
            "  inflating: hrf_512_512_dice_loss_hvr_0_3_feb_3/predictions/_06_g_2.png  \n",
            "  inflating: hrf_512_512_dice_loss_hvr_0_3_feb_3/predictions/_08_g_30.png  \n",
            "  inflating: hrf_512_512_dice_loss_hvr_0_3_feb_3/predictions/_08_dr_9.png  \n",
            "  inflating: hrf_512_512_dice_loss_hvr_0_3_feb_3/predictions/_03_h_34.png  \n",
            "  inflating: hrf_512_512_dice_loss_hvr_0_3_feb_3/predictions/_06_g_8.png  \n",
            "  inflating: hrf_512_512_dice_loss_hvr_0_3_feb_3/predictions/_03_h_25.png  \n",
            "  inflating: hrf_512_512_dice_loss_hvr_0_3_feb_3/predictions/_12_g_24.png  \n",
            "  inflating: hrf_512_512_dice_loss_hvr_0_3_feb_3/predictions/_05_dr_1.png  \n",
            "  inflating: hrf_512_512_dice_loss_hvr_0_3_feb_3/predictions/_05_dr_8.png  \n",
            "  inflating: hrf_512_512_dice_loss_hvr_0_3_feb_3/predictions/_10_h_32.png  \n",
            "  inflating: hrf_512_512_dice_loss_hvr_0_3_feb_3/predictions/_15_h_32.png  \n",
            "  inflating: hrf_512_512_dice_loss_hvr_0_3_feb_3/predictions/_11_h_11.png  \n",
            "  inflating: hrf_512_512_dice_loss_hvr_0_3_feb_3/predictions/_08_g_5.png  \n",
            "  inflating: hrf_512_512_dice_loss_hvr_0_3_feb_3/predictions/_10_h_4.png  \n",
            "  inflating: hrf_512_512_dice_loss_hvr_0_3_feb_3/predictions/_08_dr_29.png  \n",
            "  inflating: hrf_512_512_dice_loss_hvr_0_3_feb_3/predictions/_11_dr_1.png  \n",
            "  inflating: hrf_512_512_dice_loss_hvr_0_3_feb_3/predictions/_05_g_2.png  \n",
            "  inflating: hrf_512_512_dice_loss_hvr_0_3_feb_3/predictions/_08_dr_25.png  \n",
            "  inflating: hrf_512_512_dice_loss_hvr_0_3_feb_3/predictions/_06_g_26.png  \n",
            "  inflating: hrf_512_512_dice_loss_hvr_0_3_feb_3/predictions/_11_dr_34.png  \n",
            "  inflating: hrf_512_512_dice_loss_hvr_0_3_feb_3/predictions/_12_h_33.png  \n",
            "  inflating: hrf_512_512_dice_loss_hvr_0_3_feb_3/predictions/_03_h_27.png  \n",
            "  inflating: hrf_512_512_dice_loss_hvr_0_3_feb_3/predictions/_11_h_31.png  \n",
            "  inflating: hrf_512_512_dice_loss_hvr_0_3_feb_3/predictions/_10_h_12.png  \n",
            "  inflating: hrf_512_512_dice_loss_hvr_0_3_feb_3/predictions/_12_g_19.png  \n",
            "  inflating: hrf_512_512_dice_loss_hvr_0_3_feb_3/predictions/_12_g_30.png  \n",
            "  inflating: hrf_512_512_dice_loss_hvr_0_3_feb_3/predictions/_06_g_3.png  \n",
            "  inflating: hrf_512_512_dice_loss_hvr_0_3_feb_3/predictions/_05_dr_11.png  \n",
            "  inflating: hrf_512_512_dice_loss_hvr_0_3_feb_3/predictions/_11_dr_28.png  \n",
            "  inflating: hrf_512_512_dice_loss_hvr_0_3_feb_3/predictions/_13_dr_29.png  \n",
            "  inflating: hrf_512_512_dice_loss_hvr_0_3_feb_3/predictions/_06_g_23.png  \n",
            "  inflating: hrf_512_512_dice_loss_hvr_0_3_feb_3/predictions/_05_dr_15.png  \n",
            "  inflating: hrf_512_512_dice_loss_hvr_0_3_feb_3/predictions/_12_h_32.png  \n",
            "  inflating: hrf_512_512_dice_loss_hvr_0_3_feb_3/predictions/_12_g_3.png  \n",
            "  inflating: hrf_512_512_dice_loss_hvr_0_3_feb_3/predictions/_05_dr_32.png  \n",
            "  inflating: hrf_512_512_dice_loss_hvr_0_3_feb_3/predictions/_11_dr_32.png  \n",
            "  inflating: hrf_512_512_dice_loss_hvr_0_3_feb_3/predictions/_13_dr_22.png  \n",
            "  inflating: hrf_512_512_dice_loss_hvr_0_3_feb_3/predictions/_13_dr_1.png  \n",
            "  inflating: hrf_512_512_dice_loss_hvr_0_3_feb_3/predictions/_08_g_9.png  \n",
            "  inflating: hrf_512_512_dice_loss_hvr_0_3_feb_3/predictions/_12_g_26.png  \n",
            "  inflating: hrf_512_512_dice_loss_hvr_0_3_feb_3/predictions/_03_h_22.png  \n",
            "  inflating: hrf_512_512_dice_loss_hvr_0_3_feb_3/predictions/_11_h_4.png  \n",
            "  inflating: hrf_512_512_dice_loss_hvr_0_3_feb_3/predictions/_02_g_5.png  \n",
            "  inflating: hrf_512_512_dice_loss_hvr_0_3_feb_3/predictions/_05_g_19.png  \n",
            "  inflating: hrf_512_512_dice_loss_hvr_0_3_feb_3/predictions/_12_g_23.png  \n",
            "  inflating: hrf_512_512_dice_loss_hvr_0_3_feb_3/predictions/_12_g_33.png  \n",
            "  inflating: hrf_512_512_dice_loss_hvr_0_3_feb_3/predictions/_06_g_15.png  \n",
            "  inflating: hrf_512_512_dice_loss_hvr_0_3_feb_3/predictions/_12_g_27.png  \n",
            "  inflating: hrf_512_512_dice_loss_hvr_0_3_feb_3/predictions/_02_g_13.png  \n",
            "  inflating: hrf_512_512_dice_loss_hvr_0_3_feb_3/predictions/_05_g_27.png  \n",
            "  inflating: hrf_512_512_dice_loss_hvr_0_3_feb_3/predictions/_11_h_27.png  \n",
            "  inflating: hrf_512_512_dice_loss_hvr_0_3_feb_3/predictions/_08_g_20.png  \n",
            "  inflating: hrf_512_512_dice_loss_hvr_0_3_feb_3/predictions/_08_g_4.png  \n",
            "  inflating: hrf_512_512_dice_loss_hvr_0_3_feb_3/predictions/_05_dr_4.png  \n",
            "  inflating: hrf_512_512_dice_loss_hvr_0_3_feb_3/predictions/_05_g_28.png  \n",
            "  inflating: hrf_512_512_dice_loss_hvr_0_3_feb_3/predictions/_08_dr_8.png  \n",
            "  inflating: hrf_512_512_dice_loss_hvr_0_3_feb_3/predictions/_08_dr_1.png  \n",
            "  inflating: hrf_512_512_dice_loss_hvr_0_3_feb_3/predictions/_03_h_33.png  \n",
            "  inflating: hrf_512_512_dice_loss_hvr_0_3_feb_3/predictions/_15_h_0.png  \n",
            "  inflating: hrf_512_512_dice_loss_hvr_0_3_feb_3/predictions/_08_dr_12.png  \n",
            "  inflating: hrf_512_512_dice_loss_hvr_0_3_feb_3/predictions/_12_h_28.png  \n",
            "  inflating: hrf_512_512_dice_loss_hvr_0_3_feb_3/predictions/_15_h_25.png  \n",
            "  inflating: hrf_512_512_dice_loss_hvr_0_3_feb_3/predictions/_13_dr_18.png  \n",
            "  inflating: hrf_512_512_dice_loss_hvr_0_3_feb_3/predictions/_12_h_20.png  \n",
            "  inflating: hrf_512_512_dice_loss_hvr_0_3_feb_3/predictions/_12_h_19.png  \n",
            "  inflating: hrf_512_512_dice_loss_hvr_0_3_feb_3/predictions/_02_g_26.png  \n",
            "  inflating: hrf_512_512_dice_loss_hvr_0_3_feb_3/predictions/_13_dr_6.png  \n",
            "  inflating: hrf_512_512_dice_loss_hvr_0_3_feb_3/predictions/_02_g_0.png  \n",
            "  inflating: hrf_512_512_dice_loss_hvr_0_3_feb_3/predictions/_15_h_33.png  \n",
            "  inflating: hrf_512_512_dice_loss_hvr_0_3_feb_3/predictions/_02_g_1.png  \n",
            "  inflating: hrf_512_512_dice_loss_hvr_0_3_feb_3/predictions/_05_g_7.png  \n",
            "  inflating: hrf_512_512_dice_loss_hvr_0_3_feb_3/predictions/_05_dr_27.png  \n",
            "  inflating: hrf_512_512_dice_loss_hvr_0_3_feb_3/predictions/_12_g_1.png  \n",
            "  inflating: hrf_512_512_dice_loss_hvr_0_3_feb_3/predictions/_03_h_13.png  \n",
            "  inflating: hrf_512_512_dice_loss_hvr_0_3_feb_3/predictions/_11_dr_3.png  \n",
            "  inflating: hrf_512_512_dice_loss_hvr_0_3_feb_3/predictions/_02_g_19.png  \n",
            "  inflating: hrf_512_512_dice_loss_hvr_0_3_feb_3/predictions/_10_h_8.png  \n",
            "  inflating: hrf_512_512_dice_loss_hvr_0_3_feb_3/predictions/_15_h_15.png  \n",
            "  inflating: hrf_512_512_dice_loss_hvr_0_3_feb_3/predictions/_02_g_3.png  \n",
            "  inflating: hrf_512_512_dice_loss_hvr_0_3_feb_3/predictions/_03_h_4.png  \n",
            "  inflating: hrf_512_512_dice_loss_hvr_0_3_feb_3/predictions/_06_g_31.png  \n",
            "  inflating: hrf_512_512_dice_loss_hvr_0_3_feb_3/predictions/_06_g_4.png  \n",
            "  inflating: hrf_512_512_dice_loss_hvr_0_3_feb_3/predictions/_13_dr_16.png  \n",
            "  inflating: hrf_512_512_dice_loss_hvr_0_3_feb_3/predictions/_11_h_25.png  \n",
            "  inflating: hrf_512_512_dice_loss_hvr_0_3_feb_3/predictions/_02_g_16.png  \n",
            "  inflating: hrf_512_512_dice_loss_hvr_0_3_feb_3/predictions/_05_g_8.png  \n",
            "  inflating: hrf_512_512_dice_loss_hvr_0_3_feb_3/predictions/_11_h_24.png  \n",
            "  inflating: hrf_512_512_dice_loss_hvr_0_3_feb_3/predictions/_08_g_10.png  \n",
            "  inflating: hrf_512_512_dice_loss_hvr_0_3_feb_3/predictions/_05_dr_29.png  \n",
            "  inflating: hrf_512_512_dice_loss_hvr_0_3_feb_3/predictions/_08_g_26.png  \n",
            "  inflating: hrf_512_512_dice_loss_hvr_0_3_feb_3/predictions/_05_dr_28.png  \n",
            "  inflating: hrf_512_512_dice_loss_hvr_0_3_feb_3/predictions/_12_g_18.png  \n",
            "  inflating: hrf_512_512_dice_loss_hvr_0_3_feb_3/predictions/_11_dr_2.png  \n",
            "  inflating: hrf_512_512_dice_loss_hvr_0_3_feb_3/predictions/_08_dr_27.png  \n",
            "  inflating: hrf_512_512_dice_loss_hvr_0_3_feb_3/predictions/_10_h_10.png  \n",
            "  inflating: hrf_512_512_dice_loss_hvr_0_3_feb_3/predictions/_05_dr_2.png  \n",
            "  inflating: hrf_512_512_dice_loss_hvr_0_3_feb_3/predictions/_11_dr_5.png  \n",
            "  inflating: hrf_512_512_dice_loss_hvr_0_3_feb_3/predictions/_05_g_5.png  \n",
            "  inflating: hrf_512_512_dice_loss_hvr_0_3_feb_3/predictions/_10_h_31.png  \n",
            "  inflating: hrf_512_512_dice_loss_hvr_0_3_feb_3/predictions/_15_h_21.png  \n",
            "  inflating: hrf_512_512_dice_loss_hvr_0_3_feb_3/predictions/_13_dr_30.png  \n",
            "  inflating: hrf_512_512_dice_loss_hvr_0_3_feb_3/predictions/_08_dr_5.png  \n",
            "  inflating: hrf_512_512_dice_loss_hvr_0_3_feb_3/predictions/_10_h_25.png  \n",
            "  inflating: hrf_512_512_dice_loss_hvr_0_3_feb_3/predictions/_12_h_27.png  \n",
            "  inflating: hrf_512_512_dice_loss_hvr_0_3_feb_3/predictions/_08_dr_0.png  \n",
            "  inflating: hrf_512_512_dice_loss_hvr_0_3_feb_3/predictions/_05_dr_18.png  \n",
            "  inflating: hrf_512_512_dice_loss_hvr_0_3_feb_3/predictions/_06_g_17.png  \n",
            "  inflating: hrf_512_512_dice_loss_hvr_0_3_feb_3/predictions/_15_h_22.png  \n",
            "  inflating: hrf_512_512_dice_loss_hvr_0_3_feb_3/predictions/_13_dr_7.png  \n",
            "  inflating: hrf_512_512_dice_loss_hvr_0_3_feb_3/predictions/_05_g_9.png  \n",
            "  inflating: hrf_512_512_dice_loss_hvr_0_3_feb_3/predictions/_05_dr_10.png  \n",
            "  inflating: hrf_512_512_dice_loss_hvr_0_3_feb_3/predictions/_05_g_16.png  \n",
            "  inflating: hrf_512_512_dice_loss_hvr_0_3_feb_3/predictions/_13_dr_19.png  \n",
            "  inflating: hrf_512_512_dice_loss_hvr_0_3_feb_3/predictions/_15_h_30.png  \n",
            "  inflating: hrf_512_512_dice_loss_hvr_0_3_feb_3/predictions/_03_h_9.png  \n",
            "  inflating: hrf_512_512_dice_loss_hvr_0_3_feb_3/predictions/_08_dr_33.png  \n",
            "  inflating: hrf_512_512_dice_loss_hvr_0_3_feb_3/predictions/_15_h_12.png  \n",
            "  inflating: hrf_512_512_dice_loss_hvr_0_3_feb_3/predictions/_05_dr_21.png  \n",
            "  inflating: hrf_512_512_dice_loss_hvr_0_3_feb_3/predictions/_11_h_9.png  \n",
            "  inflating: hrf_512_512_dice_loss_hvr_0_3_feb_3/predictions/_12_h_10.png  \n",
            "  inflating: hrf_512_512_dice_loss_hvr_0_3_feb_3/predictions/_11_dr_27.png  \n",
            "  inflating: hrf_512_512_dice_loss_hvr_0_3_feb_3/predictions/_06_g_20.png  \n",
            "  inflating: hrf_512_512_dice_loss_hvr_0_3_feb_3/predictions/_05_g_30.png  \n",
            "  inflating: hrf_512_512_dice_loss_hvr_0_3_feb_3/predictions/_12_h_22.png  \n",
            "  inflating: hrf_512_512_dice_loss_hvr_0_3_feb_3/predictions/_05_dr_9.png  \n",
            "  inflating: hrf_512_512_dice_loss_hvr_0_3_feb_3/predictions/_05_dr_30.png  \n",
            "  inflating: hrf_512_512_dice_loss_hvr_0_3_feb_3/predictions/_11_h_1.png  \n",
            "  inflating: hrf_512_512_dice_loss_hvr_0_3_feb_3/predictions/_11_h_10.png  \n",
            "  inflating: hrf_512_512_dice_loss_hvr_0_3_feb_3/predictions/_05_g_24.png  \n",
            "  inflating: hrf_512_512_dice_loss_hvr_0_3_feb_3/predictions/_02_g_7.png  \n",
            "  inflating: hrf_512_512_dice_loss_hvr_0_3_feb_3/predictions/_13_dr_28.png  \n",
            "  inflating: hrf_512_512_dice_loss_hvr_0_3_feb_3/predictions/_06_g_12.png  \n",
            "  inflating: hrf_512_512_dice_loss_hvr_0_3_feb_3/predictions/_15_h_31.png  \n",
            "  inflating: hrf_512_512_dice_loss_hvr_0_3_feb_3/predictions/_11_dr_31.png  \n",
            "  inflating: hrf_512_512_dice_loss_hvr_0_3_feb_3/predictions/_12_h_21.png  \n",
            "  inflating: hrf_512_512_dice_loss_hvr_0_3_feb_3/predictions/_10_h_6.png  \n",
            "  inflating: hrf_512_512_dice_loss_hvr_0_3_feb_3/predictions/_10_h_21.png  \n",
            "  inflating: hrf_512_512_dice_loss_hvr_0_3_feb_3/predictions/_11_dr_21.png  \n",
            "  inflating: hrf_512_512_dice_loss_hvr_0_3_feb_3/predictions/_08_g_12.png  \n",
            "  inflating: hrf_512_512_dice_loss_hvr_0_3_feb_3/predictions/_12_g_12.png  \n",
            "  inflating: hrf_512_512_dice_loss_hvr_0_3_feb_3/predictions/_12_h_15.png  \n",
            "  inflating: hrf_512_512_dice_loss_hvr_0_3_feb_3/predictions/_05_g_23.png  \n",
            "  inflating: hrf_512_512_dice_loss_hvr_0_3_feb_3/predictions/_11_h_34.png  \n",
            "  inflating: hrf_512_512_dice_loss_hvr_0_3_feb_3/predictions/_05_g_31.png  \n",
            "  inflating: hrf_512_512_dice_loss_hvr_0_3_feb_3/predictions/_08_dr_32.png  \n",
            "  inflating: hrf_512_512_dice_loss_hvr_0_3_feb_3/predictions/_12_h_6.png  \n",
            "  inflating: hrf_512_512_dice_loss_hvr_0_3_feb_3/predictions/_05_dr_24.png  \n",
            "  inflating: hrf_512_512_dice_loss_hvr_0_3_feb_3/predictions/_03_h_30.png  \n",
            "  inflating: hrf_512_512_dice_loss_hvr_0_3_feb_3/predictions/_11_h_15.png  \n",
            "  inflating: hrf_512_512_dice_loss_hvr_0_3_feb_3/predictions/_08_dr_28.png  \n",
            "  inflating: hrf_512_512_dice_loss_hvr_0_3_feb_3/predictions/_05_dr_17.png  \n",
            "  inflating: hrf_512_512_dice_loss_hvr_0_3_feb_3/predictions/_06_g_25.png  \n",
            "  inflating: hrf_512_512_dice_loss_hvr_0_3_feb_3/predictions/_05_g_21.png  \n",
            "  inflating: hrf_512_512_dice_loss_hvr_0_3_feb_3/predictions/_06_g_14.png  \n",
            "  inflating: hrf_512_512_dice_loss_hvr_0_3_feb_3/predictions/_11_h_23.png  \n",
            "  inflating: hrf_512_512_dice_loss_hvr_0_3_feb_3/predictions/_11_dr_16.png  \n",
            "  inflating: hrf_512_512_dice_loss_hvr_0_3_feb_3/predictions/_06_g_28.png  \n",
            "  inflating: hrf_512_512_dice_loss_hvr_0_3_feb_3/predictions/_11_dr_0.png  \n",
            "  inflating: hrf_512_512_dice_loss_hvr_0_3_feb_3/predictions/_06_g_13.png  \n",
            "  inflating: hrf_512_512_dice_loss_hvr_0_3_feb_3/predictions/_05_dr_19.png  \n",
            "  inflating: hrf_512_512_dice_loss_hvr_0_3_feb_3/predictions/_03_h_19.png  \n",
            "  inflating: hrf_512_512_dice_loss_hvr_0_3_feb_3/predictions/_13_dr_26.png  \n",
            "  inflating: hrf_512_512_dice_loss_hvr_0_3_feb_3/predictions/_13_dr_24.png  \n",
            "  inflating: hrf_512_512_dice_loss_hvr_0_3_feb_3/predictions/_12_h_9.png  \n",
            "  inflating: hrf_512_512_dice_loss_hvr_0_3_feb_3/predictions/_03_h_20.png  \n",
            "  inflating: hrf_512_512_dice_loss_hvr_0_3_feb_3/predictions/_12_g_2.png  \n",
            "  inflating: hrf_512_512_dice_loss_hvr_0_3_feb_3/predictions/_15_h_19.png  \n",
            "  inflating: hrf_512_512_dice_loss_hvr_0_3_feb_3/predictions/_08_g_19.png  \n",
            "  inflating: hrf_512_512_dice_loss_hvr_0_3_feb_3/predictions/_15_h_13.png  \n",
            "  inflating: hrf_512_512_dice_loss_hvr_0_3_feb_3/predictions/_05_g_34.png  \n",
            "  inflating: hrf_512_512_dice_loss_hvr_0_3_feb_3/predictions/_12_h_23.png  \n",
            "  inflating: hrf_512_512_dice_loss_hvr_0_3_feb_3/predictions/_11_h_32.png  \n",
            "  inflating: hrf_512_512_dice_loss_hvr_0_3_feb_3/predictions/_12_g_4.png  \n",
            "  inflating: hrf_512_512_dice_loss_hvr_0_3_feb_3/predictions/_12_g_6.png  \n",
            "  inflating: hrf_512_512_dice_loss_hvr_0_3_feb_3/predictions/_03_h_24.png  \n",
            "  inflating: hrf_512_512_dice_loss_hvr_0_3_feb_3/predictions/_12_g_29.png  \n",
            "  inflating: hrf_512_512_dice_loss_hvr_0_3_feb_3/predictions/_05_g_3.png  \n",
            "  inflating: hrf_512_512_dice_loss_hvr_0_3_feb_3/predictions/_15_h_20.png  \n",
            "  inflating: hrf_512_512_dice_loss_hvr_0_3_feb_3/predictions/_05_dr_25.png  \n",
            "  inflating: hrf_512_512_dice_loss_hvr_0_3_feb_3/predictions/_08_dr_7.png  \n",
            "  inflating: hrf_512_512_dice_loss_hvr_0_3_feb_3/predictions/_02_g_8.png  \n",
            "  inflating: hrf_512_512_dice_loss_hvr_0_3_feb_3/predictions/_02_g_20.png  \n",
            "  inflating: hrf_512_512_dice_loss_hvr_0_3_feb_3/predictions/_05_g_25.png  \n",
            "  inflating: hrf_512_512_dice_loss_hvr_0_3_feb_3/predictions/_05_dr_14.png  \n",
            "  inflating: hrf_512_512_dice_loss_hvr_0_3_feb_3/predictions/_06_g_21.png  \n",
            "  inflating: hrf_512_512_dice_loss_hvr_0_3_feb_3/predictions/_11_dr_10.png  \n",
            "  inflating: hrf_512_512_dice_loss_hvr_0_3_feb_3/predictions/_03_h_18.png  \n",
            "  inflating: hrf_512_512_dice_loss_hvr_0_3_feb_3/predictions/_11_h_8.png  \n",
            "  inflating: hrf_512_512_dice_loss_hvr_0_3_feb_3/predictions/_12_h_26.png  \n",
            "  inflating: hrf_512_512_dice_loss_hvr_0_3_feb_3/predictions/_05_g_1.png  \n",
            "  inflating: hrf_512_512_dice_loss_hvr_0_3_feb_3/predictions/_02_g_33.png  \n",
            "  inflating: hrf_512_512_dice_loss_hvr_0_3_feb_3/predictions/_06_g_16.png  \n",
            "  inflating: hrf_512_512_dice_loss_hvr_0_3_feb_3/predictions/_12_h_18.png  \n",
            "  inflating: hrf_512_512_dice_loss_hvr_0_3_feb_3/predictions/_12_g_21.png  \n",
            "   creating: hrf_512_512_dice_loss_hvr_0_3_feb_3/predictions_np/\n",
            "  inflating: hrf_512_512_dice_loss_hvr_0_3_feb_3/predictions_np/_06_g_33.npy  \n",
            "  inflating: hrf_512_512_dice_loss_hvr_0_3_feb_3/predictions_np/_08_dr_16.npy  \n",
            "  inflating: hrf_512_512_dice_loss_hvr_0_3_feb_3/predictions_np/_11_dr_9.npy  \n",
            "  inflating: hrf_512_512_dice_loss_hvr_0_3_feb_3/predictions_np/_15_h_1.npy  \n",
            "  inflating: hrf_512_512_dice_loss_hvr_0_3_feb_3/predictions_np/_13_dr_6.npy  \n",
            "  inflating: hrf_512_512_dice_loss_hvr_0_3_feb_3/predictions_np/_11_h_3.npy  \n",
            "  inflating: hrf_512_512_dice_loss_hvr_0_3_feb_3/predictions_np/_05_g_17.npy  \n",
            "  inflating: hrf_512_512_dice_loss_hvr_0_3_feb_3/predictions_np/_02_g_17.npy  \n",
            "  inflating: hrf_512_512_dice_loss_hvr_0_3_feb_3/predictions_np/_02_g_0.npy  \n",
            "  inflating: hrf_512_512_dice_loss_hvr_0_3_feb_3/predictions_np/_15_h_14.npy  \n",
            "  inflating: hrf_512_512_dice_loss_hvr_0_3_feb_3/predictions_np/_15_h_18.npy  \n",
            "  inflating: hrf_512_512_dice_loss_hvr_0_3_feb_3/predictions_np/_03_h_26.npy  \n",
            "  inflating: hrf_512_512_dice_loss_hvr_0_3_feb_3/predictions_np/_05_g_1.npy  \n",
            "  inflating: hrf_512_512_dice_loss_hvr_0_3_feb_3/predictions_np/_06_g_14.npy  \n",
            "  inflating: hrf_512_512_dice_loss_hvr_0_3_feb_3/predictions_np/_06_g_30.npy  \n",
            "  inflating: hrf_512_512_dice_loss_hvr_0_3_feb_3/predictions_np/_08_g_13.npy  \n",
            "  inflating: hrf_512_512_dice_loss_hvr_0_3_feb_3/predictions_np/_02_g_20.npy  \n",
            "  inflating: hrf_512_512_dice_loss_hvr_0_3_feb_3/predictions_np/_12_h_4.npy  \n",
            "  inflating: hrf_512_512_dice_loss_hvr_0_3_feb_3/predictions_np/_05_g_11.npy  \n",
            "  inflating: hrf_512_512_dice_loss_hvr_0_3_feb_3/predictions_np/_08_g_8.npy  \n",
            "  inflating: hrf_512_512_dice_loss_hvr_0_3_feb_3/predictions_np/_08_dr_9.npy  \n",
            "  inflating: hrf_512_512_dice_loss_hvr_0_3_feb_3/predictions_np/_11_h_15.npy  \n",
            "  inflating: hrf_512_512_dice_loss_hvr_0_3_feb_3/predictions_np/_02_g_32.npy  \n",
            "  inflating: hrf_512_512_dice_loss_hvr_0_3_feb_3/predictions_np/_08_dr_8.npy  \n",
            "  inflating: hrf_512_512_dice_loss_hvr_0_3_feb_3/predictions_np/_08_dr_1.npy  \n",
            "  inflating: hrf_512_512_dice_loss_hvr_0_3_feb_3/predictions_np/_03_h_7.npy  \n",
            "  inflating: hrf_512_512_dice_loss_hvr_0_3_feb_3/predictions_np/_11_dr_19.npy  \n",
            "  inflating: hrf_512_512_dice_loss_hvr_0_3_feb_3/predictions_np/_15_h_19.npy  \n",
            "  inflating: hrf_512_512_dice_loss_hvr_0_3_feb_3/predictions_np/_13_dr_24.npy  \n",
            "  inflating: hrf_512_512_dice_loss_hvr_0_3_feb_3/predictions_np/_12_h_14.npy  \n",
            "  inflating: hrf_512_512_dice_loss_hvr_0_3_feb_3/predictions_np/_11_dr_27.npy  \n",
            "  inflating: hrf_512_512_dice_loss_hvr_0_3_feb_3/predictions_np/_13_dr_25.npy  \n",
            "  inflating: hrf_512_512_dice_loss_hvr_0_3_feb_3/predictions_np/_12_g_28.npy  \n",
            "  inflating: hrf_512_512_dice_loss_hvr_0_3_feb_3/predictions_np/_13_dr_28.npy  \n",
            "  inflating: hrf_512_512_dice_loss_hvr_0_3_feb_3/predictions_np/_08_dr_24.npy  \n",
            "  inflating: hrf_512_512_dice_loss_hvr_0_3_feb_3/predictions_np/_02_g_18.npy  \n",
            "  inflating: hrf_512_512_dice_loss_hvr_0_3_feb_3/predictions_np/_11_dr_13.npy  \n",
            "  inflating: hrf_512_512_dice_loss_hvr_0_3_feb_3/predictions_np/_15_h_27.npy  \n",
            "  inflating: hrf_512_512_dice_loss_hvr_0_3_feb_3/predictions_np/_03_h_30.npy  \n",
            "  inflating: hrf_512_512_dice_loss_hvr_0_3_feb_3/predictions_np/_11_dr_20.npy  \n",
            "  inflating: hrf_512_512_dice_loss_hvr_0_3_feb_3/predictions_np/_05_g_6.npy  \n",
            "  inflating: hrf_512_512_dice_loss_hvr_0_3_feb_3/predictions_np/_08_g_10.npy  \n",
            "  inflating: hrf_512_512_dice_loss_hvr_0_3_feb_3/predictions_np/_11_h_24.npy  \n",
            "  inflating: hrf_512_512_dice_loss_hvr_0_3_feb_3/predictions_np/_06_g_8.npy  \n",
            "  inflating: hrf_512_512_dice_loss_hvr_0_3_feb_3/predictions_np/_11_h_26.npy  \n",
            "  inflating: hrf_512_512_dice_loss_hvr_0_3_feb_3/predictions_np/_08_dr_7.npy  \n",
            "  inflating: hrf_512_512_dice_loss_hvr_0_3_feb_3/predictions_np/_12_g_7.npy  \n",
            "  inflating: hrf_512_512_dice_loss_hvr_0_3_feb_3/predictions_np/_15_h_25.npy  \n",
            "  inflating: hrf_512_512_dice_loss_hvr_0_3_feb_3/predictions_np/_11_dr_15.npy  \n",
            "  inflating: hrf_512_512_dice_loss_hvr_0_3_feb_3/predictions_np/_05_dr_7.npy  \n",
            "  inflating: hrf_512_512_dice_loss_hvr_0_3_feb_3/predictions_np/_13_dr_19.npy  \n",
            "  inflating: hrf_512_512_dice_loss_hvr_0_3_feb_3/predictions_np/_05_dr_17.npy  \n",
            "  inflating: hrf_512_512_dice_loss_hvr_0_3_feb_3/predictions_np/_08_dr_21.npy  \n",
            "  inflating: hrf_512_512_dice_loss_hvr_0_3_feb_3/predictions_np/_13_dr_27.npy  \n",
            "  inflating: hrf_512_512_dice_loss_hvr_0_3_feb_3/predictions_np/_12_g_20.npy  \n",
            "  inflating: hrf_512_512_dice_loss_hvr_0_3_feb_3/predictions_np/_08_g_7.npy  \n",
            "  inflating: hrf_512_512_dice_loss_hvr_0_3_feb_3/predictions_np/_15_h_23.npy  \n",
            "  inflating: hrf_512_512_dice_loss_hvr_0_3_feb_3/predictions_np/_08_g_4.npy  \n",
            "  inflating: hrf_512_512_dice_loss_hvr_0_3_feb_3/predictions_np/_13_dr_29.npy  \n",
            "  inflating: hrf_512_512_dice_loss_hvr_0_3_feb_3/predictions_np/_08_dr_32.npy  \n",
            "  inflating: hrf_512_512_dice_loss_hvr_0_3_feb_3/predictions_np/_05_dr_3.npy  \n",
            "  inflating: hrf_512_512_dice_loss_hvr_0_3_feb_3/predictions_np/_08_g_1.npy  \n",
            "  inflating: hrf_512_512_dice_loss_hvr_0_3_feb_3/predictions_np/_06_g_29.npy  \n",
            "  inflating: hrf_512_512_dice_loss_hvr_0_3_feb_3/predictions_np/_12_g_21.npy  \n",
            "  inflating: hrf_512_512_dice_loss_hvr_0_3_feb_3/predictions_np/_13_dr_13.npy  \n",
            "  inflating: hrf_512_512_dice_loss_hvr_0_3_feb_3/predictions_np/_03_h_34.npy  \n",
            "  inflating: hrf_512_512_dice_loss_hvr_0_3_feb_3/predictions_np/_08_dr_31.npy  \n",
            "  inflating: hrf_512_512_dice_loss_hvr_0_3_feb_3/predictions_np/_10_h_30.npy  \n",
            "  inflating: hrf_512_512_dice_loss_hvr_0_3_feb_3/predictions_np/_11_h_21.npy  \n",
            "  inflating: hrf_512_512_dice_loss_hvr_0_3_feb_3/predictions_np/_10_h_14.npy  \n",
            "  inflating: hrf_512_512_dice_loss_hvr_0_3_feb_3/predictions_np/_11_h_4.npy  \n",
            "  inflating: hrf_512_512_dice_loss_hvr_0_3_feb_3/predictions_np/_06_g_16.npy  \n",
            "  inflating: hrf_512_512_dice_loss_hvr_0_3_feb_3/predictions_np/_12_g_4.npy  \n",
            "  inflating: hrf_512_512_dice_loss_hvr_0_3_feb_3/predictions_np/_06_g_12.npy  \n",
            "  inflating: hrf_512_512_dice_loss_hvr_0_3_feb_3/predictions_np/_15_h_32.npy  \n",
            "  inflating: hrf_512_512_dice_loss_hvr_0_3_feb_3/predictions_np/_08_g_5.npy  \n",
            "  inflating: hrf_512_512_dice_loss_hvr_0_3_feb_3/predictions_np/_11_h_28.npy  \n",
            "  inflating: hrf_512_512_dice_loss_hvr_0_3_feb_3/predictions_np/_12_h_7.npy  \n",
            "  inflating: hrf_512_512_dice_loss_hvr_0_3_feb_3/predictions_np/_08_g_18.npy  \n",
            "  inflating: hrf_512_512_dice_loss_hvr_0_3_feb_3/predictions_np/_08_dr_3.npy  \n",
            "  inflating: hrf_512_512_dice_loss_hvr_0_3_feb_3/predictions_np/_11_dr_5.npy  \n",
            "  inflating: hrf_512_512_dice_loss_hvr_0_3_feb_3/predictions_np/_08_g_20.npy  \n",
            "  inflating: hrf_512_512_dice_loss_hvr_0_3_feb_3/predictions_np/_10_h_18.npy  \n",
            "  inflating: hrf_512_512_dice_loss_hvr_0_3_feb_3/predictions_np/_12_g_23.npy  \n",
            "  inflating: hrf_512_512_dice_loss_hvr_0_3_feb_3/predictions_np/_05_dr_6.npy  \n",
            "  inflating: hrf_512_512_dice_loss_hvr_0_3_feb_3/predictions_np/_05_g_14.npy  \n",
            "  inflating: hrf_512_512_dice_loss_hvr_0_3_feb_3/predictions_np/_11_dr_29.npy  \n",
            "  inflating: hrf_512_512_dice_loss_hvr_0_3_feb_3/predictions_np/_12_g_31.npy  \n",
            "  inflating: hrf_512_512_dice_loss_hvr_0_3_feb_3/predictions_np/_12_g_22.npy  \n",
            "  inflating: hrf_512_512_dice_loss_hvr_0_3_feb_3/predictions_np/_06_g_3.npy  \n",
            "  inflating: hrf_512_512_dice_loss_hvr_0_3_feb_3/predictions_np/_12_g_19.npy  \n",
            "  inflating: hrf_512_512_dice_loss_hvr_0_3_feb_3/predictions_np/_08_g_34.npy  \n",
            "  inflating: hrf_512_512_dice_loss_hvr_0_3_feb_3/predictions_np/_11_dr_11.npy  \n",
            "  inflating: hrf_512_512_dice_loss_hvr_0_3_feb_3/predictions_np/_11_h_22.npy  \n",
            "  inflating: hrf_512_512_dice_loss_hvr_0_3_feb_3/predictions_np/_08_g_6.npy  \n",
            "  inflating: hrf_512_512_dice_loss_hvr_0_3_feb_3/predictions_np/_02_g_11.npy  \n",
            "  inflating: hrf_512_512_dice_loss_hvr_0_3_feb_3/predictions_np/_05_g_12.npy  \n",
            "  inflating: hrf_512_512_dice_loss_hvr_0_3_feb_3/predictions_np/_12_h_15.npy  \n",
            "  inflating: hrf_512_512_dice_loss_hvr_0_3_feb_3/predictions_np/_08_dr_4.npy  \n",
            "  inflating: hrf_512_512_dice_loss_hvr_0_3_feb_3/predictions_np/_02_g_25.npy  \n",
            "  inflating: hrf_512_512_dice_loss_hvr_0_3_feb_3/predictions_np/_05_g_27.npy  \n",
            "  inflating: hrf_512_512_dice_loss_hvr_0_3_feb_3/predictions_np/_10_h_15.npy  \n",
            "  inflating: hrf_512_512_dice_loss_hvr_0_3_feb_3/predictions_np/_13_dr_26.npy  \n",
            "  inflating: hrf_512_512_dice_loss_hvr_0_3_feb_3/predictions_np/_15_h_5.npy  \n",
            "  inflating: hrf_512_512_dice_loss_hvr_0_3_feb_3/predictions_np/_12_g_5.npy  \n",
            "  inflating: hrf_512_512_dice_loss_hvr_0_3_feb_3/predictions_np/_03_h_27.npy  \n",
            "  inflating: hrf_512_512_dice_loss_hvr_0_3_feb_3/predictions_np/_05_g_32.npy  \n",
            "  inflating: hrf_512_512_dice_loss_hvr_0_3_feb_3/predictions_np/_10_h_24.npy  \n",
            "  inflating: hrf_512_512_dice_loss_hvr_0_3_feb_3/predictions_np/_05_g_20.npy  \n",
            "  inflating: hrf_512_512_dice_loss_hvr_0_3_feb_3/predictions_np/_10_h_8.npy  \n",
            "  inflating: hrf_512_512_dice_loss_hvr_0_3_feb_3/predictions_np/_08_dr_27.npy  \n",
            "  inflating: hrf_512_512_dice_loss_hvr_0_3_feb_3/predictions_np/_08_dr_29.npy  \n",
            "  inflating: hrf_512_512_dice_loss_hvr_0_3_feb_3/predictions_np/_12_g_27.npy  \n",
            "  inflating: hrf_512_512_dice_loss_hvr_0_3_feb_3/predictions_np/_08_g_28.npy  \n",
            "  inflating: hrf_512_512_dice_loss_hvr_0_3_feb_3/predictions_np/_03_h_24.npy  \n",
            "  inflating: hrf_512_512_dice_loss_hvr_0_3_feb_3/predictions_np/_15_h_22.npy  \n",
            "  inflating: hrf_512_512_dice_loss_hvr_0_3_feb_3/predictions_np/_08_g_33.npy  \n",
            "  inflating: hrf_512_512_dice_loss_hvr_0_3_feb_3/predictions_np/_06_g_21.npy  \n",
            "  inflating: hrf_512_512_dice_loss_hvr_0_3_feb_3/predictions_np/_05_dr_25.npy  \n",
            "  inflating: hrf_512_512_dice_loss_hvr_0_3_feb_3/predictions_np/_15_h_10.npy  \n",
            "  inflating: hrf_512_512_dice_loss_hvr_0_3_feb_3/predictions_np/_11_h_6.npy  \n",
            "  inflating: hrf_512_512_dice_loss_hvr_0_3_feb_3/predictions_np/_11_h_33.npy  \n",
            "  inflating: hrf_512_512_dice_loss_hvr_0_3_feb_3/predictions_np/_05_dr_29.npy  \n",
            "  inflating: hrf_512_512_dice_loss_hvr_0_3_feb_3/predictions_np/_08_g_14.npy  \n",
            "  inflating: hrf_512_512_dice_loss_hvr_0_3_feb_3/predictions_np/_11_h_27.npy  \n",
            "  inflating: hrf_512_512_dice_loss_hvr_0_3_feb_3/predictions_np/_11_dr_24.npy  \n",
            "  inflating: hrf_512_512_dice_loss_hvr_0_3_feb_3/predictions_np/_13_dr_3.npy  \n",
            "  inflating: hrf_512_512_dice_loss_hvr_0_3_feb_3/predictions_np/_05_g_23.npy  \n",
            "  inflating: hrf_512_512_dice_loss_hvr_0_3_feb_3/predictions_np/_05_dr_0.npy  \n",
            "  inflating: hrf_512_512_dice_loss_hvr_0_3_feb_3/predictions_np/_12_h_31.npy  \n",
            "  inflating: hrf_512_512_dice_loss_hvr_0_3_feb_3/predictions_np/_12_h_18.npy  \n",
            "  inflating: hrf_512_512_dice_loss_hvr_0_3_feb_3/predictions_np/_08_dr_26.npy  \n",
            "  inflating: hrf_512_512_dice_loss_hvr_0_3_feb_3/predictions_np/_11_h_0.npy  \n",
            "  inflating: hrf_512_512_dice_loss_hvr_0_3_feb_3/predictions_np/_05_dr_23.npy  \n",
            "  inflating: hrf_512_512_dice_loss_hvr_0_3_feb_3/predictions_np/_08_g_26.npy  \n",
            "  inflating: hrf_512_512_dice_loss_hvr_0_3_feb_3/predictions_np/_12_h_32.npy  \n",
            "  inflating: hrf_512_512_dice_loss_hvr_0_3_feb_3/predictions_np/_03_h_13.npy  \n",
            "  inflating: hrf_512_512_dice_loss_hvr_0_3_feb_3/predictions_np/_03_h_11.npy  \n",
            "  inflating: hrf_512_512_dice_loss_hvr_0_3_feb_3/predictions_np/_11_dr_25.npy  \n",
            "  inflating: hrf_512_512_dice_loss_hvr_0_3_feb_3/predictions_np/_05_g_4.npy  \n",
            "  inflating: hrf_512_512_dice_loss_hvr_0_3_feb_3/predictions_np/_05_g_5.npy  \n",
            "  inflating: hrf_512_512_dice_loss_hvr_0_3_feb_3/predictions_np/_05_dr_22.npy  \n",
            "  inflating: hrf_512_512_dice_loss_hvr_0_3_feb_3/predictions_np/_02_g_22.npy  \n",
            "  inflating: hrf_512_512_dice_loss_hvr_0_3_feb_3/predictions_np/_05_g_29.npy  \n",
            "  inflating: hrf_512_512_dice_loss_hvr_0_3_feb_3/predictions_np/_03_h_18.npy  \n",
            "  inflating: hrf_512_512_dice_loss_hvr_0_3_feb_3/predictions_np/_05_dr_34.npy  \n",
            "  inflating: hrf_512_512_dice_loss_hvr_0_3_feb_3/predictions_np/_08_g_19.npy  \n",
            "  inflating: hrf_512_512_dice_loss_hvr_0_3_feb_3/predictions_np/_02_g_10.npy  \n",
            "  inflating: hrf_512_512_dice_loss_hvr_0_3_feb_3/predictions_np/_12_h_29.npy  \n",
            "  inflating: hrf_512_512_dice_loss_hvr_0_3_feb_3/predictions_np/_02_g_5.npy  \n",
            "  inflating: hrf_512_512_dice_loss_hvr_0_3_feb_3/predictions_np/_05_dr_11.npy  \n",
            "  inflating: hrf_512_512_dice_loss_hvr_0_3_feb_3/predictions_np/_11_h_20.npy  \n",
            "  inflating: hrf_512_512_dice_loss_hvr_0_3_feb_3/predictions_np/_06_g_19.npy  \n",
            "  inflating: hrf_512_512_dice_loss_hvr_0_3_feb_3/predictions_np/_06_g_31.npy  \n",
            "  inflating: hrf_512_512_dice_loss_hvr_0_3_feb_3/predictions_np/_13_dr_30.npy  \n",
            "  inflating: hrf_512_512_dice_loss_hvr_0_3_feb_3/predictions_np/_10_h_7.npy  \n",
            "  inflating: hrf_512_512_dice_loss_hvr_0_3_feb_3/predictions_np/_03_h_22.npy  \n",
            "  inflating: hrf_512_512_dice_loss_hvr_0_3_feb_3/predictions_np/_08_dr_22.npy  \n",
            "  inflating: hrf_512_512_dice_loss_hvr_0_3_feb_3/predictions_np/_11_h_23.npy  \n",
            "  inflating: hrf_512_512_dice_loss_hvr_0_3_feb_3/predictions_np/_02_g_28.npy  \n",
            "  inflating: hrf_512_512_dice_loss_hvr_0_3_feb_3/predictions_np/_12_g_26.npy  \n",
            "  inflating: hrf_512_512_dice_loss_hvr_0_3_feb_3/predictions_np/_03_h_25.npy  \n",
            "  inflating: hrf_512_512_dice_loss_hvr_0_3_feb_3/predictions_np/_15_h_30.npy  \n",
            "  inflating: hrf_512_512_dice_loss_hvr_0_3_feb_3/predictions_np/_05_g_16.npy  \n",
            "  inflating: hrf_512_512_dice_loss_hvr_0_3_feb_3/predictions_np/_10_h_28.npy  \n",
            "  inflating: hrf_512_512_dice_loss_hvr_0_3_feb_3/predictions_np/_13_dr_9.npy  \n",
            "  inflating: hrf_512_512_dice_loss_hvr_0_3_feb_3/predictions_np/_12_h_10.npy  \n",
            "  inflating: hrf_512_512_dice_loss_hvr_0_3_feb_3/predictions_np/_15_h_13.npy  \n",
            "  inflating: hrf_512_512_dice_loss_hvr_0_3_feb_3/predictions_np/_11_dr_1.npy  \n",
            "  inflating: hrf_512_512_dice_loss_hvr_0_3_feb_3/predictions_np/_08_g_16.npy  \n",
            "  inflating: hrf_512_512_dice_loss_hvr_0_3_feb_3/predictions_np/_11_dr_0.npy  \n",
            "  inflating: hrf_512_512_dice_loss_hvr_0_3_feb_3/predictions_np/_08_g_11.npy  \n",
            "  inflating: hrf_512_512_dice_loss_hvr_0_3_feb_3/predictions_np/_08_dr_20.npy  \n",
            "  inflating: hrf_512_512_dice_loss_hvr_0_3_feb_3/predictions_np/_13_dr_21.npy  \n",
            "  inflating: hrf_512_512_dice_loss_hvr_0_3_feb_3/predictions_np/_05_dr_15.npy  \n",
            "  inflating: hrf_512_512_dice_loss_hvr_0_3_feb_3/predictions_np/_12_g_16.npy  \n",
            "  inflating: hrf_512_512_dice_loss_hvr_0_3_feb_3/predictions_np/_05_g_10.npy  \n",
            "  inflating: hrf_512_512_dice_loss_hvr_0_3_feb_3/predictions_np/_15_h_26.npy  \n",
            "  inflating: hrf_512_512_dice_loss_hvr_0_3_feb_3/predictions_np/_11_h_8.npy  \n",
            "  inflating: hrf_512_512_dice_loss_hvr_0_3_feb_3/predictions_np/_08_dr_33.npy  \n",
            "  inflating: hrf_512_512_dice_loss_hvr_0_3_feb_3/predictions_np/_13_dr_14.npy  \n",
            "  inflating: hrf_512_512_dice_loss_hvr_0_3_feb_3/predictions_np/_12_g_3.npy  \n",
            "  inflating: hrf_512_512_dice_loss_hvr_0_3_feb_3/predictions_np/_05_dr_1.npy  \n",
            "  inflating: hrf_512_512_dice_loss_hvr_0_3_feb_3/predictions_np/_02_g_13.npy  \n",
            "  inflating: hrf_512_512_dice_loss_hvr_0_3_feb_3/predictions_np/_13_dr_11.npy  \n",
            "  inflating: hrf_512_512_dice_loss_hvr_0_3_feb_3/predictions_np/_12_g_15.npy  \n",
            "  inflating: hrf_512_512_dice_loss_hvr_0_3_feb_3/predictions_np/_11_dr_32.npy  \n",
            "  inflating: hrf_512_512_dice_loss_hvr_0_3_feb_3/predictions_np/_15_h_28.npy  \n",
            "  inflating: hrf_512_512_dice_loss_hvr_0_3_feb_3/predictions_np/_05_g_24.npy  \n",
            "  inflating: hrf_512_512_dice_loss_hvr_0_3_feb_3/predictions_np/_15_h_21.npy  \n",
            "  inflating: hrf_512_512_dice_loss_hvr_0_3_feb_3/predictions_np/_13_dr_22.npy  \n",
            "  inflating: hrf_512_512_dice_loss_hvr_0_3_feb_3/predictions_np/_11_dr_2.npy  \n",
            "  inflating: hrf_512_512_dice_loss_hvr_0_3_feb_3/predictions_np/_15_h_20.npy  \n",
            "  inflating: hrf_512_512_dice_loss_hvr_0_3_feb_3/predictions_np/_08_dr_17.npy  \n",
            "  inflating: hrf_512_512_dice_loss_hvr_0_3_feb_3/predictions_np/_02_g_27.npy  \n",
            "  inflating: hrf_512_512_dice_loss_hvr_0_3_feb_3/predictions_np/_13_dr_8.npy  \n",
            "  inflating: hrf_512_512_dice_loss_hvr_0_3_feb_3/predictions_np/_03_h_1.npy  \n",
            "  inflating: hrf_512_512_dice_loss_hvr_0_3_feb_3/predictions_np/_10_h_3.npy  \n",
            "  inflating: hrf_512_512_dice_loss_hvr_0_3_feb_3/predictions_np/_13_dr_23.npy  \n",
            "  inflating: hrf_512_512_dice_loss_hvr_0_3_feb_3/predictions_np/_02_g_23.npy  \n",
            "  inflating: hrf_512_512_dice_loss_hvr_0_3_feb_3/predictions_np/_12_g_32.npy  \n",
            "  inflating: hrf_512_512_dice_loss_hvr_0_3_feb_3/predictions_np/_10_h_27.npy  \n",
            "  inflating: hrf_512_512_dice_loss_hvr_0_3_feb_3/predictions_np/_06_g_26.npy  \n",
            "  inflating: hrf_512_512_dice_loss_hvr_0_3_feb_3/predictions_np/_05_dr_14.npy  \n",
            "  inflating: hrf_512_512_dice_loss_hvr_0_3_feb_3/predictions_np/_15_h_4.npy  \n",
            "  inflating: hrf_512_512_dice_loss_hvr_0_3_feb_3/predictions_np/_10_h_17.npy  \n",
            "  inflating: hrf_512_512_dice_loss_hvr_0_3_feb_3/predictions_np/_05_g_30.npy  \n",
            "  inflating: hrf_512_512_dice_loss_hvr_0_3_feb_3/predictions_np/_05_dr_27.npy  \n",
            "  inflating: hrf_512_512_dice_loss_hvr_0_3_feb_3/predictions_np/_15_h_12.npy  \n",
            "  inflating: hrf_512_512_dice_loss_hvr_0_3_feb_3/predictions_np/_12_g_29.npy  \n",
            "  inflating: hrf_512_512_dice_loss_hvr_0_3_feb_3/predictions_np/_10_h_13.npy  \n",
            "  inflating: hrf_512_512_dice_loss_hvr_0_3_feb_3/predictions_np/_05_g_19.npy  \n",
            "  inflating: hrf_512_512_dice_loss_hvr_0_3_feb_3/predictions_np/_10_h_25.npy  \n",
            "  inflating: hrf_512_512_dice_loss_hvr_0_3_feb_3/predictions_np/_12_g_30.npy  \n",
            "  inflating: hrf_512_512_dice_loss_hvr_0_3_feb_3/predictions_np/_12_h_3.npy  \n",
            "  inflating: hrf_512_512_dice_loss_hvr_0_3_feb_3/predictions_np/_06_g_28.npy  \n",
            "  inflating: hrf_512_512_dice_loss_hvr_0_3_feb_3/predictions_np/_05_dr_32.npy  \n",
            "  inflating: hrf_512_512_dice_loss_hvr_0_3_feb_3/predictions_np/_06_g_17.npy  \n",
            "  inflating: hrf_512_512_dice_loss_hvr_0_3_feb_3/predictions_np/_11_dr_14.npy  \n",
            "  inflating: hrf_512_512_dice_loss_hvr_0_3_feb_3/predictions_np/_06_g_23.npy  \n",
            "  inflating: hrf_512_512_dice_loss_hvr_0_3_feb_3/predictions_np/_05_dr_18.npy  \n",
            "  inflating: hrf_512_512_dice_loss_hvr_0_3_feb_3/predictions_np/_12_g_9.npy  \n",
            "  inflating: hrf_512_512_dice_loss_hvr_0_3_feb_3/predictions_np/_05_dr_8.npy  \n",
            "  inflating: hrf_512_512_dice_loss_hvr_0_3_feb_3/predictions_np/_11_dr_33.npy  \n",
            "  inflating: hrf_512_512_dice_loss_hvr_0_3_feb_3/predictions_np/_05_g_0.npy  \n",
            "  inflating: hrf_512_512_dice_loss_hvr_0_3_feb_3/predictions_np/_11_h_11.npy  \n",
            "  inflating: hrf_512_512_dice_loss_hvr_0_3_feb_3/predictions_np/_05_dr_26.npy  \n",
            "  inflating: hrf_512_512_dice_loss_hvr_0_3_feb_3/predictions_np/_11_dr_7.npy  \n",
            "  inflating: hrf_512_512_dice_loss_hvr_0_3_feb_3/predictions_np/_12_g_6.npy  \n",
            "  inflating: hrf_512_512_dice_loss_hvr_0_3_feb_3/predictions_np/_10_h_5.npy  \n",
            "  inflating: hrf_512_512_dice_loss_hvr_0_3_feb_3/predictions_np/_10_h_32.npy  \n",
            "  inflating: hrf_512_512_dice_loss_hvr_0_3_feb_3/predictions_np/_11_h_1.npy  \n",
            "  inflating: hrf_512_512_dice_loss_hvr_0_3_feb_3/predictions_np/_12_g_25.npy  \n",
            "  inflating: hrf_512_512_dice_loss_hvr_0_3_feb_3/predictions_np/_11_h_16.npy  \n",
            "  inflating: hrf_512_512_dice_loss_hvr_0_3_feb_3/predictions_np/_10_h_12.npy  \n",
            "  inflating: hrf_512_512_dice_loss_hvr_0_3_feb_3/predictions_np/_08_g_30.npy  \n",
            "  inflating: hrf_512_512_dice_loss_hvr_0_3_feb_3/predictions_np/_02_g_34.npy  \n",
            "  inflating: hrf_512_512_dice_loss_hvr_0_3_feb_3/predictions_np/_05_g_25.npy  \n",
            "  inflating: hrf_512_512_dice_loss_hvr_0_3_feb_3/predictions_np/_11_dr_22.npy  \n",
            "  inflating: hrf_512_512_dice_loss_hvr_0_3_feb_3/predictions_np/_11_dr_34.npy  \n",
            "  inflating: hrf_512_512_dice_loss_hvr_0_3_feb_3/predictions_np/_02_g_31.npy  \n",
            "  inflating: hrf_512_512_dice_loss_hvr_0_3_feb_3/predictions_np/_05_g_31.npy  \n",
            "  inflating: hrf_512_512_dice_loss_hvr_0_3_feb_3/predictions_np/_11_dr_28.npy  \n",
            "  inflating: hrf_512_512_dice_loss_hvr_0_3_feb_3/predictions_np/_11_dr_10.npy  \n",
            "  inflating: hrf_512_512_dice_loss_hvr_0_3_feb_3/predictions_np/_11_dr_16.npy  \n",
            "  inflating: hrf_512_512_dice_loss_hvr_0_3_feb_3/predictions_np/_15_h_0.npy  \n",
            "  inflating: hrf_512_512_dice_loss_hvr_0_3_feb_3/predictions_np/_02_g_16.npy  \n",
            "  inflating: hrf_512_512_dice_loss_hvr_0_3_feb_3/predictions_np/_12_h_9.npy  \n",
            "  inflating: hrf_512_512_dice_loss_hvr_0_3_feb_3/predictions_np/_11_h_14.npy  \n",
            "  inflating: hrf_512_512_dice_loss_hvr_0_3_feb_3/predictions_np/_15_h_11.npy  \n",
            "  inflating: hrf_512_512_dice_loss_hvr_0_3_feb_3/predictions_np/_03_h_6.npy  \n",
            "  inflating: hrf_512_512_dice_loss_hvr_0_3_feb_3/predictions_np/_11_h_25.npy  \n",
            "  inflating: hrf_512_512_dice_loss_hvr_0_3_feb_3/predictions_np/_13_dr_34.npy  \n",
            "  inflating: hrf_512_512_dice_loss_hvr_0_3_feb_3/predictions_np/_10_h_11.npy  \n",
            "  inflating: hrf_512_512_dice_loss_hvr_0_3_feb_3/predictions_np/_12_h_20.npy  \n",
            "  inflating: hrf_512_512_dice_loss_hvr_0_3_feb_3/predictions_np/_08_dr_34.npy  \n",
            "  inflating: hrf_512_512_dice_loss_hvr_0_3_feb_3/predictions_np/_05_dr_20.npy  \n",
            "  inflating: hrf_512_512_dice_loss_hvr_0_3_feb_3/predictions_np/_05_g_21.npy  \n",
            "  inflating: hrf_512_512_dice_loss_hvr_0_3_feb_3/predictions_np/_05_dr_2.npy  \n",
            "  inflating: hrf_512_512_dice_loss_hvr_0_3_feb_3/predictions_np/_03_h_23.npy  \n",
            "  inflating: hrf_512_512_dice_loss_hvr_0_3_feb_3/predictions_np/_08_dr_10.npy  \n",
            "  inflating: hrf_512_512_dice_loss_hvr_0_3_feb_3/predictions_np/_06_g_25.npy  \n",
            "  inflating: hrf_512_512_dice_loss_hvr_0_3_feb_3/predictions_np/_08_g_15.npy  \n",
            "  inflating: hrf_512_512_dice_loss_hvr_0_3_feb_3/predictions_np/_10_h_6.npy  \n",
            "  inflating: hrf_512_512_dice_loss_hvr_0_3_feb_3/predictions_np/_02_g_21.npy  \n",
            "  inflating: hrf_512_512_dice_loss_hvr_0_3_feb_3/predictions_np/_13_dr_4.npy  \n",
            "  inflating: hrf_512_512_dice_loss_hvr_0_3_feb_3/predictions_np/_05_g_34.npy  \n",
            "  inflating: hrf_512_512_dice_loss_hvr_0_3_feb_3/predictions_np/_12_g_33.npy  \n",
            "  inflating: hrf_512_512_dice_loss_hvr_0_3_feb_3/predictions_np/_11_h_29.npy  \n",
            "  inflating: hrf_512_512_dice_loss_hvr_0_3_feb_3/predictions_np/_15_h_9.npy  \n",
            "  inflating: hrf_512_512_dice_loss_hvr_0_3_feb_3/predictions_np/_08_g_23.npy  \n",
            "  inflating: hrf_512_512_dice_loss_hvr_0_3_feb_3/predictions_np/_15_h_33.npy  \n",
            "  inflating: hrf_512_512_dice_loss_hvr_0_3_feb_3/predictions_np/_13_dr_17.npy  \n",
            "  inflating: hrf_512_512_dice_loss_hvr_0_3_feb_3/predictions_np/_12_h_23.npy  \n",
            "  inflating: hrf_512_512_dice_loss_hvr_0_3_feb_3/predictions_np/_05_dr_28.npy  \n",
            "  inflating: hrf_512_512_dice_loss_hvr_0_3_feb_3/predictions_np/_12_h_27.npy  \n",
            "  inflating: hrf_512_512_dice_loss_hvr_0_3_feb_3/predictions_np/_05_dr_10.npy  \n",
            "  inflating: hrf_512_512_dice_loss_hvr_0_3_feb_3/predictions_np/_12_g_13.npy  \n",
            "  inflating: hrf_512_512_dice_loss_hvr_0_3_feb_3/predictions_np/_05_dr_16.npy  \n",
            "  inflating: hrf_512_512_dice_loss_hvr_0_3_feb_3/predictions_np/_13_dr_10.npy  \n",
            "  inflating: hrf_512_512_dice_loss_hvr_0_3_feb_3/predictions_np/_13_dr_0.npy  \n",
            "  inflating: hrf_512_512_dice_loss_hvr_0_3_feb_3/predictions_np/_05_g_28.npy  \n",
            "  inflating: hrf_512_512_dice_loss_hvr_0_3_feb_3/predictions_np/_11_h_7.npy  \n",
            "  inflating: hrf_512_512_dice_loss_hvr_0_3_feb_3/predictions_np/_08_g_21.npy  \n",
            "  inflating: hrf_512_512_dice_loss_hvr_0_3_feb_3/predictions_np/_11_dr_26.npy  \n",
            "  inflating: hrf_512_512_dice_loss_hvr_0_3_feb_3/predictions_np/_11_dr_30.npy  \n",
            "  inflating: hrf_512_512_dice_loss_hvr_0_3_feb_3/predictions_np/_12_g_2.npy  \n",
            "  inflating: hrf_512_512_dice_loss_hvr_0_3_feb_3/predictions_np/_11_dr_18.npy  \n",
            "  inflating: hrf_512_512_dice_loss_hvr_0_3_feb_3/predictions_np/_06_g_32.npy  \n",
            "  inflating: hrf_512_512_dice_loss_hvr_0_3_feb_3/predictions_np/_11_h_19.npy  \n",
            "  inflating: hrf_512_512_dice_loss_hvr_0_3_feb_3/predictions_np/_08_dr_30.npy  \n",
            "  inflating: hrf_512_512_dice_loss_hvr_0_3_feb_3/predictions_np/_15_h_31.npy  \n",
            "  inflating: hrf_512_512_dice_loss_hvr_0_3_feb_3/predictions_np/_15_h_17.npy  \n",
            "  inflating: hrf_512_512_dice_loss_hvr_0_3_feb_3/predictions_np/_05_dr_19.npy  \n",
            "  inflating: hrf_512_512_dice_loss_hvr_0_3_feb_3/predictions_np/_11_h_10.npy  \n",
            "  inflating: hrf_512_512_dice_loss_hvr_0_3_feb_3/predictions_np/_12_g_1.npy  \n",
            "  inflating: hrf_512_512_dice_loss_hvr_0_3_feb_3/predictions_np/_03_h_4.npy  \n",
            "  inflating: hrf_512_512_dice_loss_hvr_0_3_feb_3/predictions_np/_02_g_29.npy  \n",
            "  inflating: hrf_512_512_dice_loss_hvr_0_3_feb_3/predictions_np/_02_g_15.npy  \n",
            "  inflating: hrf_512_512_dice_loss_hvr_0_3_feb_3/predictions_np/_03_h_29.npy  \n",
            "  inflating: hrf_512_512_dice_loss_hvr_0_3_feb_3/predictions_np/_03_h_17.npy  \n",
            "  inflating: hrf_512_512_dice_loss_hvr_0_3_feb_3/predictions_np/_10_h_1.npy  \n",
            "  inflating: hrf_512_512_dice_loss_hvr_0_3_feb_3/predictions_np/_08_dr_28.npy  \n",
            "  inflating: hrf_512_512_dice_loss_hvr_0_3_feb_3/predictions_np/_10_h_31.npy  \n",
            "  inflating: hrf_512_512_dice_loss_hvr_0_3_feb_3/predictions_np/_03_h_9.npy  \n",
            "  inflating: hrf_512_512_dice_loss_hvr_0_3_feb_3/predictions_np/_11_dr_4.npy  \n",
            "  inflating: hrf_512_512_dice_loss_hvr_0_3_feb_3/predictions_np/_08_g_31.npy  \n",
            "  inflating: hrf_512_512_dice_loss_hvr_0_3_feb_3/predictions_np/_05_dr_4.npy  \n",
            "  inflating: hrf_512_512_dice_loss_hvr_0_3_feb_3/predictions_np/_02_g_30.npy  \n",
            "  inflating: hrf_512_512_dice_loss_hvr_0_3_feb_3/predictions_np/_11_dr_3.npy  \n",
            "  inflating: hrf_512_512_dice_loss_hvr_0_3_feb_3/predictions_np/_10_h_9.npy  \n",
            "  inflating: hrf_512_512_dice_loss_hvr_0_3_feb_3/predictions_np/_03_h_15.npy  \n",
            "  inflating: hrf_512_512_dice_loss_hvr_0_3_feb_3/predictions_np/_11_dr_17.npy  \n",
            "  inflating: hrf_512_512_dice_loss_hvr_0_3_feb_3/predictions_np/_05_g_7.npy  \n",
            "  inflating: hrf_512_512_dice_loss_hvr_0_3_feb_3/predictions_np/_13_dr_32.npy  \n",
            "  inflating: hrf_512_512_dice_loss_hvr_0_3_feb_3/predictions_np/_08_dr_25.npy  \n",
            "  inflating: hrf_512_512_dice_loss_hvr_0_3_feb_3/predictions_np/_03_h_20.npy  \n",
            "  inflating: hrf_512_512_dice_loss_hvr_0_3_feb_3/predictions_np/_12_g_34.npy  \n",
            "  inflating: hrf_512_512_dice_loss_hvr_0_3_feb_3/predictions_np/_02_g_4.npy  \n",
            "  inflating: hrf_512_512_dice_loss_hvr_0_3_feb_3/predictions_np/_15_h_34.npy  \n",
            "  inflating: hrf_512_512_dice_loss_hvr_0_3_feb_3/predictions_np/_12_h_13.npy  \n",
            "  inflating: hrf_512_512_dice_loss_hvr_0_3_feb_3/predictions_np/_15_h_8.npy  \n",
            "  inflating: hrf_512_512_dice_loss_hvr_0_3_feb_3/predictions_np/_12_h_28.npy  \n",
            "  inflating: hrf_512_512_dice_loss_hvr_0_3_feb_3/predictions_np/_11_h_2.npy  \n",
            "  inflating: hrf_512_512_dice_loss_hvr_0_3_feb_3/predictions_np/_12_h_30.npy  \n",
            "  inflating: hrf_512_512_dice_loss_hvr_0_3_feb_3/predictions_np/_12_g_12.npy  \n",
            "  inflating: hrf_512_512_dice_loss_hvr_0_3_feb_3/predictions_np/_06_g_18.npy  \n",
            "  inflating: hrf_512_512_dice_loss_hvr_0_3_feb_3/predictions_np/_10_h_21.npy  \n",
            "  inflating: hrf_512_512_dice_loss_hvr_0_3_feb_3/predictions_np/_02_g_14.npy  \n",
            "  inflating: hrf_512_512_dice_loss_hvr_0_3_feb_3/predictions_np/_10_h_33.npy  \n",
            "  inflating: hrf_512_512_dice_loss_hvr_0_3_feb_3/predictions_np/_15_h_6.npy  \n",
            "  inflating: hrf_512_512_dice_loss_hvr_0_3_feb_3/predictions_np/_12_g_0.npy  \n",
            "  inflating: hrf_512_512_dice_loss_hvr_0_3_feb_3/predictions_np/_05_g_15.npy  \n",
            "  inflating: hrf_512_512_dice_loss_hvr_0_3_feb_3/predictions_np/_02_g_2.npy  \n",
            "  inflating: hrf_512_512_dice_loss_hvr_0_3_feb_3/predictions_np/_12_h_25.npy  \n",
            "  inflating: hrf_512_512_dice_loss_hvr_0_3_feb_3/predictions_np/_12_h_21.npy  \n",
            "  inflating: hrf_512_512_dice_loss_hvr_0_3_feb_3/predictions_np/_08_g_22.npy  \n",
            "  inflating: hrf_512_512_dice_loss_hvr_0_3_feb_3/predictions_np/_05_dr_33.npy  \n",
            "  inflating: hrf_512_512_dice_loss_hvr_0_3_feb_3/predictions_np/_12_h_12.npy  \n",
            "  inflating: hrf_512_512_dice_loss_hvr_0_3_feb_3/predictions_np/_12_h_2.npy  \n",
            "  inflating: hrf_512_512_dice_loss_hvr_0_3_feb_3/predictions_np/_13_dr_20.npy  \n",
            "  inflating: hrf_512_512_dice_loss_hvr_0_3_feb_3/predictions_np/_10_h_16.npy  \n",
            "  inflating: hrf_512_512_dice_loss_hvr_0_3_feb_3/predictions_np/_10_h_19.npy  \n",
            "  inflating: hrf_512_512_dice_loss_hvr_0_3_feb_3/predictions_np/_08_g_3.npy  \n",
            "  inflating: hrf_512_512_dice_loss_hvr_0_3_feb_3/predictions_np/_10_h_2.npy  \n",
            "  inflating: hrf_512_512_dice_loss_hvr_0_3_feb_3/predictions_np/_08_dr_19.npy  \n",
            "  inflating: hrf_512_512_dice_loss_hvr_0_3_feb_3/predictions_np/_12_h_24.npy  \n",
            "  inflating: hrf_512_512_dice_loss_hvr_0_3_feb_3/predictions_np/_05_dr_12.npy  \n",
            "  inflating: hrf_512_512_dice_loss_hvr_0_3_feb_3/predictions_np/_13_dr_12.npy  \n",
            "  inflating: hrf_512_512_dice_loss_hvr_0_3_feb_3/predictions_np/_08_g_29.npy  \n",
            "  inflating: hrf_512_512_dice_loss_hvr_0_3_feb_3/predictions_np/_08_g_12.npy  \n",
            "  inflating: hrf_512_512_dice_loss_hvr_0_3_feb_3/predictions_np/_08_dr_0.npy  \n",
            "  inflating: hrf_512_512_dice_loss_hvr_0_3_feb_3/predictions_np/_15_h_29.npy  \n",
            "  inflating: hrf_512_512_dice_loss_hvr_0_3_feb_3/predictions_np/_03_h_5.npy  \n",
            "  inflating: hrf_512_512_dice_loss_hvr_0_3_feb_3/predictions_np/_11_dr_21.npy  \n",
            "  inflating: hrf_512_512_dice_loss_hvr_0_3_feb_3/predictions_np/_06_g_6.npy  \n",
            "  inflating: hrf_512_512_dice_loss_hvr_0_3_feb_3/predictions_np/_15_h_7.npy  \n",
            "  inflating: hrf_512_512_dice_loss_hvr_0_3_feb_3/predictions_np/_03_h_19.npy  \n",
            "  inflating: hrf_512_512_dice_loss_hvr_0_3_feb_3/predictions_np/_13_dr_18.npy  \n",
            "  inflating: hrf_512_512_dice_loss_hvr_0_3_feb_3/predictions_np/_08_dr_15.npy  \n",
            "  inflating: hrf_512_512_dice_loss_hvr_0_3_feb_3/predictions_np/_12_g_8.npy  \n",
            "  inflating: hrf_512_512_dice_loss_hvr_0_3_feb_3/predictions_np/_03_h_10.npy  \n",
            "  inflating: hrf_512_512_dice_loss_hvr_0_3_feb_3/predictions_np/_02_g_8.npy  \n",
            "  inflating: hrf_512_512_dice_loss_hvr_0_3_feb_3/predictions_np/_12_h_6.npy  \n",
            "  inflating: hrf_512_512_dice_loss_hvr_0_3_feb_3/predictions_np/_12_h_22.npy  \n",
            "  inflating: hrf_512_512_dice_loss_hvr_0_3_feb_3/predictions_np/_02_g_1.npy  \n",
            "  inflating: hrf_512_512_dice_loss_hvr_0_3_feb_3/predictions_np/_10_h_29.npy  \n",
            "  inflating: hrf_512_512_dice_loss_hvr_0_3_feb_3/predictions_np/_12_g_10.npy  \n",
            "  inflating: hrf_512_512_dice_loss_hvr_0_3_feb_3/predictions_np/_03_h_8.npy  \n",
            "  inflating: hrf_512_512_dice_loss_hvr_0_3_feb_3/predictions_np/_06_g_27.npy  \n",
            "  inflating: hrf_512_512_dice_loss_hvr_0_3_feb_3/predictions_np/_05_g_2.npy  \n",
            "  inflating: hrf_512_512_dice_loss_hvr_0_3_feb_3/predictions_np/_11_h_9.npy  \n",
            "  inflating: hrf_512_512_dice_loss_hvr_0_3_feb_3/predictions_np/_06_g_7.npy  \n",
            "  inflating: hrf_512_512_dice_loss_hvr_0_3_feb_3/predictions_np/_05_dr_13.npy  \n",
            "  inflating: hrf_512_512_dice_loss_hvr_0_3_feb_3/predictions_np/_03_h_31.npy  \n",
            "  inflating: hrf_512_512_dice_loss_hvr_0_3_feb_3/predictions_np/_12_h_26.npy  \n",
            "  inflating: hrf_512_512_dice_loss_hvr_0_3_feb_3/predictions_np/_06_g_34.npy  \n",
            "  inflating: hrf_512_512_dice_loss_hvr_0_3_feb_3/predictions_np/_02_g_6.npy  \n",
            "  inflating: hrf_512_512_dice_loss_hvr_0_3_feb_3/predictions_np/_05_g_33.npy  \n",
            "  inflating: hrf_512_512_dice_loss_hvr_0_3_feb_3/predictions_np/_06_g_22.npy  \n",
            "  inflating: hrf_512_512_dice_loss_hvr_0_3_feb_3/predictions_np/_06_g_15.npy  \n",
            "  inflating: hrf_512_512_dice_loss_hvr_0_3_feb_3/predictions_np/_08_dr_12.npy  \n",
            "  inflating: hrf_512_512_dice_loss_hvr_0_3_feb_3/predictions_np/_12_h_5.npy  \n",
            "  inflating: hrf_512_512_dice_loss_hvr_0_3_feb_3/predictions_np/_10_h_34.npy  \n",
            "  inflating: hrf_512_512_dice_loss_hvr_0_3_feb_3/predictions_np/_10_h_22.npy  \n",
            "  inflating: hrf_512_512_dice_loss_hvr_0_3_feb_3/predictions_np/_08_g_25.npy  \n",
            "  inflating: hrf_512_512_dice_loss_hvr_0_3_feb_3/predictions_np/_06_g_13.npy  \n",
            "  inflating: hrf_512_512_dice_loss_hvr_0_3_feb_3/predictions_np/_06_g_0.npy  \n",
            "  inflating: hrf_512_512_dice_loss_hvr_0_3_feb_3/predictions_np/_02_g_24.npy  \n",
            "  inflating: hrf_512_512_dice_loss_hvr_0_3_feb_3/predictions_np/_13_dr_33.npy  \n",
            "  inflating: hrf_512_512_dice_loss_hvr_0_3_feb_3/predictions_np/_02_g_19.npy  \n",
            "  inflating: hrf_512_512_dice_loss_hvr_0_3_feb_3/predictions_np/_11_dr_8.npy  \n",
            "  inflating: hrf_512_512_dice_loss_hvr_0_3_feb_3/predictions_np/_06_g_9.npy  \n",
            "  inflating: hrf_512_512_dice_loss_hvr_0_3_feb_3/predictions_np/_12_g_17.npy  \n",
            "  inflating: hrf_512_512_dice_loss_hvr_0_3_feb_3/predictions_np/_08_g_17.npy  \n",
            "  inflating: hrf_512_512_dice_loss_hvr_0_3_feb_3/predictions_np/_02_g_12.npy  \n",
            "  inflating: hrf_512_512_dice_loss_hvr_0_3_feb_3/predictions_np/_02_g_26.npy  \n",
            "  inflating: hrf_512_512_dice_loss_hvr_0_3_feb_3/predictions_np/_13_dr_5.npy  \n",
            "  inflating: hrf_512_512_dice_loss_hvr_0_3_feb_3/predictions_np/_11_dr_6.npy  \n",
            "  inflating: hrf_512_512_dice_loss_hvr_0_3_feb_3/predictions_np/_11_h_17.npy  \n",
            "  inflating: hrf_512_512_dice_loss_hvr_0_3_feb_3/predictions_np/_03_h_3.npy  \n",
            "  inflating: hrf_512_512_dice_loss_hvr_0_3_feb_3/predictions_np/_08_g_27.npy  \n",
            "  inflating: hrf_512_512_dice_loss_hvr_0_3_feb_3/predictions_np/_15_h_16.npy  \n",
            "  inflating: hrf_512_512_dice_loss_hvr_0_3_feb_3/predictions_np/_13_dr_16.npy  \n",
            "  inflating: hrf_512_512_dice_loss_hvr_0_3_feb_3/predictions_np/_08_g_32.npy  \n",
            "  inflating: hrf_512_512_dice_loss_hvr_0_3_feb_3/predictions_np/_03_h_28.npy  \n",
            "  inflating: hrf_512_512_dice_loss_hvr_0_3_feb_3/predictions_np/_10_h_10.npy  \n",
            "  inflating: hrf_512_512_dice_loss_hvr_0_3_feb_3/predictions_np/_06_g_1.npy  \n",
            "  inflating: hrf_512_512_dice_loss_hvr_0_3_feb_3/predictions_np/_11_h_13.npy  \n",
            "  inflating: hrf_512_512_dice_loss_hvr_0_3_feb_3/predictions_np/_10_h_0.npy  \n",
            "  inflating: hrf_512_512_dice_loss_hvr_0_3_feb_3/predictions_np/_06_g_20.npy  \n",
            "  inflating: hrf_512_512_dice_loss_hvr_0_3_feb_3/predictions_np/_02_g_33.npy  \n",
            "  inflating: hrf_512_512_dice_loss_hvr_0_3_feb_3/predictions_np/_11_h_34.npy  \n",
            "  inflating: hrf_512_512_dice_loss_hvr_0_3_feb_3/predictions_np/_03_h_32.npy  \n",
            "  inflating: hrf_512_512_dice_loss_hvr_0_3_feb_3/predictions_np/_03_h_0.npy  \n",
            "  inflating: hrf_512_512_dice_loss_hvr_0_3_feb_3/predictions_np/_08_g_24.npy  \n",
            "  inflating: hrf_512_512_dice_loss_hvr_0_3_feb_3/predictions_np/_13_dr_15.npy  \n",
            "  inflating: hrf_512_512_dice_loss_hvr_0_3_feb_3/predictions_np/_02_g_9.npy  \n",
            "  inflating: hrf_512_512_dice_loss_hvr_0_3_feb_3/predictions_np/_12_h_0.npy  \n",
            "  inflating: hrf_512_512_dice_loss_hvr_0_3_feb_3/predictions_np/_08_dr_11.npy  \n",
            "  inflating: hrf_512_512_dice_loss_hvr_0_3_feb_3/predictions_np/_05_dr_9.npy  \n",
            "  inflating: hrf_512_512_dice_loss_hvr_0_3_feb_3/predictions_np/_10_h_23.npy  \n",
            "  inflating: hrf_512_512_dice_loss_hvr_0_3_feb_3/predictions_np/_11_h_5.npy  \n",
            "  inflating: hrf_512_512_dice_loss_hvr_0_3_feb_3/predictions_np/_05_dr_31.npy  \n",
            "  inflating: hrf_512_512_dice_loss_hvr_0_3_feb_3/predictions_np/_13_dr_31.npy  \n",
            "  inflating: hrf_512_512_dice_loss_hvr_0_3_feb_3/predictions_np/_05_g_13.npy  \n",
            "  inflating: hrf_512_512_dice_loss_hvr_0_3_feb_3/predictions_np/_08_dr_23.npy  \n",
            "  inflating: hrf_512_512_dice_loss_hvr_0_3_feb_3/predictions_np/_05_g_22.npy  \n",
            "  inflating: hrf_512_512_dice_loss_hvr_0_3_feb_3/predictions_np/_15_h_15.npy  \n",
            "  inflating: hrf_512_512_dice_loss_hvr_0_3_feb_3/predictions_np/_11_h_31.npy  \n",
            "  inflating: hrf_512_512_dice_loss_hvr_0_3_feb_3/predictions_np/_15_h_3.npy  \n",
            "  inflating: hrf_512_512_dice_loss_hvr_0_3_feb_3/predictions_np/_12_g_11.npy  \n",
            "  inflating: hrf_512_512_dice_loss_hvr_0_3_feb_3/predictions_np/_12_h_11.npy  \n",
            "  inflating: hrf_512_512_dice_loss_hvr_0_3_feb_3/predictions_np/_05_dr_5.npy  \n",
            "  inflating: hrf_512_512_dice_loss_hvr_0_3_feb_3/predictions_np/_13_dr_1.npy  \n",
            "  inflating: hrf_512_512_dice_loss_hvr_0_3_feb_3/predictions_np/_13_dr_2.npy  \n",
            "  inflating: hrf_512_512_dice_loss_hvr_0_3_feb_3/predictions_np/_08_dr_13.npy  \n",
            "  inflating: hrf_512_512_dice_loss_hvr_0_3_feb_3/predictions_np/_08_dr_14.npy  \n",
            "  inflating: hrf_512_512_dice_loss_hvr_0_3_feb_3/predictions_np/_12_g_14.npy  \n",
            "  inflating: hrf_512_512_dice_loss_hvr_0_3_feb_3/predictions_np/_05_dr_30.npy  \n",
            "  inflating: hrf_512_512_dice_loss_hvr_0_3_feb_3/predictions_np/_10_h_26.npy  \n",
            "  inflating: hrf_512_512_dice_loss_hvr_0_3_feb_3/predictions_np/_06_g_24.npy  \n",
            "  inflating: hrf_512_512_dice_loss_hvr_0_3_feb_3/predictions_np/_10_h_4.npy  \n",
            "  inflating: hrf_512_512_dice_loss_hvr_0_3_feb_3/predictions_np/_11_h_30.npy  \n",
            "  inflating: hrf_512_512_dice_loss_hvr_0_3_feb_3/predictions_np/_13_dr_7.npy  \n",
            "  inflating: hrf_512_512_dice_loss_hvr_0_3_feb_3/predictions_np/_11_h_32.npy  \n",
            "  inflating: hrf_512_512_dice_loss_hvr_0_3_feb_3/predictions_np/_05_g_3.npy  \n",
            "  inflating: hrf_512_512_dice_loss_hvr_0_3_feb_3/predictions_np/_02_g_7.npy  \n",
            "  inflating: hrf_512_512_dice_loss_hvr_0_3_feb_3/predictions_np/_15_h_2.npy  \n",
            "  inflating: hrf_512_512_dice_loss_hvr_0_3_feb_3/predictions_np/_12_g_18.npy  \n",
            "  inflating: hrf_512_512_dice_loss_hvr_0_3_feb_3/predictions_np/_06_g_11.npy  \n",
            "  inflating: hrf_512_512_dice_loss_hvr_0_3_feb_3/predictions_np/_03_h_16.npy  \n",
            "  inflating: hrf_512_512_dice_loss_hvr_0_3_feb_3/predictions_np/_05_dr_21.npy  \n",
            "  inflating: hrf_512_512_dice_loss_hvr_0_3_feb_3/predictions_np/_12_h_33.npy  \n",
            "  inflating: hrf_512_512_dice_loss_hvr_0_3_feb_3/predictions_np/_15_h_24.npy  \n",
            "  inflating: hrf_512_512_dice_loss_hvr_0_3_feb_3/predictions_np/_05_g_8.npy  \n",
            "  inflating: hrf_512_512_dice_loss_hvr_0_3_feb_3/predictions_np/_05_g_18.npy  \n",
            "  inflating: hrf_512_512_dice_loss_hvr_0_3_feb_3/predictions_np/_03_h_2.npy  \n",
            "  inflating: hrf_512_512_dice_loss_hvr_0_3_feb_3/predictions_np/_06_g_10.npy  \n",
            "  inflating: hrf_512_512_dice_loss_hvr_0_3_feb_3/predictions_np/_11_dr_31.npy  \n",
            "  inflating: hrf_512_512_dice_loss_hvr_0_3_feb_3/predictions_np/_08_dr_6.npy  \n",
            "  inflating: hrf_512_512_dice_loss_hvr_0_3_feb_3/predictions_np/_03_h_12.npy  \n",
            "  inflating: hrf_512_512_dice_loss_hvr_0_3_feb_3/predictions_np/_05_g_26.npy  \n",
            "  inflating: hrf_512_512_dice_loss_hvr_0_3_feb_3/predictions_np/_03_h_33.npy  \n",
            "  inflating: hrf_512_512_dice_loss_hvr_0_3_feb_3/predictions_np/_08_g_2.npy  \n",
            "  inflating: hrf_512_512_dice_loss_hvr_0_3_feb_3/predictions_np/_02_g_3.npy  \n",
            "  inflating: hrf_512_512_dice_loss_hvr_0_3_feb_3/predictions_np/_12_h_34.npy  \n",
            "  inflating: hrf_512_512_dice_loss_hvr_0_3_feb_3/predictions_np/_06_g_5.npy  \n",
            "  inflating: hrf_512_512_dice_loss_hvr_0_3_feb_3/predictions_np/_03_h_14.npy  \n",
            "  inflating: hrf_512_512_dice_loss_hvr_0_3_feb_3/predictions_np/_08_dr_18.npy  \n",
            "  inflating: hrf_512_512_dice_loss_hvr_0_3_feb_3/predictions_np/_08_dr_5.npy  \n",
            "  inflating: hrf_512_512_dice_loss_hvr_0_3_feb_3/predictions_np/_05_dr_24.npy  \n",
            "  inflating: hrf_512_512_dice_loss_hvr_0_3_feb_3/predictions_np/_12_h_1.npy  \n",
            "  inflating: hrf_512_512_dice_loss_hvr_0_3_feb_3/predictions_np/_11_h_12.npy  \n",
            "  inflating: hrf_512_512_dice_loss_hvr_0_3_feb_3/predictions_np/_12_h_8.npy  \n",
            "  inflating: hrf_512_512_dice_loss_hvr_0_3_feb_3/predictions_np/_10_h_20.npy  \n",
            "  inflating: hrf_512_512_dice_loss_hvr_0_3_feb_3/predictions_np/_11_dr_12.npy  \n",
            "  inflating: hrf_512_512_dice_loss_hvr_0_3_feb_3/predictions_np/_03_h_21.npy  \n",
            "  inflating: hrf_512_512_dice_loss_hvr_0_3_feb_3/predictions_np/_08_g_9.npy  \n",
            "  inflating: hrf_512_512_dice_loss_hvr_0_3_feb_3/predictions_np/_08_g_0.npy  \n",
            "  inflating: hrf_512_512_dice_loss_hvr_0_3_feb_3/predictions_np/_08_dr_2.npy  \n",
            "  inflating: hrf_512_512_dice_loss_hvr_0_3_feb_3/predictions_np/_12_h_17.npy  \n",
            "  inflating: hrf_512_512_dice_loss_hvr_0_3_feb_3/predictions_np/_11_h_18.npy  \n",
            "  inflating: hrf_512_512_dice_loss_hvr_0_3_feb_3/predictions_np/_12_g_24.npy  \n",
            "  inflating: hrf_512_512_dice_loss_hvr_0_3_feb_3/predictions_np/_12_h_16.npy  \n",
            "  inflating: hrf_512_512_dice_loss_hvr_0_3_feb_3/predictions_np/_12_h_19.npy  \n",
            "  inflating: hrf_512_512_dice_loss_hvr_0_3_feb_3/predictions_np/_05_g_9.npy  \n",
            "  inflating: hrf_512_512_dice_loss_hvr_0_3_feb_3/predictions_np/_11_dr_23.npy  \n",
            "  inflating: hrf_512_512_dice_loss_hvr_0_3_feb_3/predictions_np/_06_g_2.npy  \n",
            "  inflating: hrf_512_512_dice_loss_hvr_0_3_feb_3/predictions_np/_06_g_4.npy  \n",
            "   creating: hrf_512_512_dice_loss_hvr_0_3_feb_3/images/\n",
            "  inflating: hrf_512_512_dice_loss_hvr_0_3_feb_3/images/13_h.jpg  \n",
            "  inflating: hrf_512_512_dice_loss_hvr_0_3_feb_3/images/08_h.jpg  \n",
            "  inflating: hrf_512_512_dice_loss_hvr_0_3_feb_3/images/08_dr.JPG  \n",
            "  inflating: hrf_512_512_dice_loss_hvr_0_3_feb_3/images/06_dr.JPG  \n",
            "  inflating: hrf_512_512_dice_loss_hvr_0_3_feb_3/images/13_g.jpg  \n",
            "  inflating: hrf_512_512_dice_loss_hvr_0_3_feb_3/images/15_g.jpg  \n",
            "  inflating: hrf_512_512_dice_loss_hvr_0_3_feb_3/images/07_dr.JPG  \n",
            "  inflating: hrf_512_512_dice_loss_hvr_0_3_feb_3/images/04_g.jpg  \n",
            "  inflating: hrf_512_512_dice_loss_hvr_0_3_feb_3/images/04_h.jpg  \n",
            "  inflating: hrf_512_512_dice_loss_hvr_0_3_feb_3/images/05_dr.JPG  \n",
            "  inflating: hrf_512_512_dice_loss_hvr_0_3_feb_3/images/05_h.jpg  \n",
            "  inflating: hrf_512_512_dice_loss_hvr_0_3_feb_3/images/11_h.jpg  \n",
            "  inflating: hrf_512_512_dice_loss_hvr_0_3_feb_3/images/01_h.jpg  \n",
            "  inflating: hrf_512_512_dice_loss_hvr_0_3_feb_3/images/06_h.jpg  \n",
            "  inflating: hrf_512_512_dice_loss_hvr_0_3_feb_3/images/14_h.jpg  \n",
            "  inflating: hrf_512_512_dice_loss_hvr_0_3_feb_3/images/08_g.jpg  \n",
            "  inflating: hrf_512_512_dice_loss_hvr_0_3_feb_3/images/01_g.jpg  \n",
            "  inflating: hrf_512_512_dice_loss_hvr_0_3_feb_3/images/02_g.jpg  \n",
            "  inflating: hrf_512_512_dice_loss_hvr_0_3_feb_3/images/10_h.jpg  \n",
            "  inflating: hrf_512_512_dice_loss_hvr_0_3_feb_3/images/09_g.jpg  \n",
            "  inflating: hrf_512_512_dice_loss_hvr_0_3_feb_3/images/12_g.jpg  \n",
            "  inflating: hrf_512_512_dice_loss_hvr_0_3_feb_3/images/12_dr.JPG  \n",
            "  inflating: hrf_512_512_dice_loss_hvr_0_3_feb_3/images/01_dr.JPG  \n",
            "  inflating: hrf_512_512_dice_loss_hvr_0_3_feb_3/images/09_dr.JPG  \n",
            "  inflating: hrf_512_512_dice_loss_hvr_0_3_feb_3/images/03_h.jpg  \n",
            "  inflating: hrf_512_512_dice_loss_hvr_0_3_feb_3/images/09_h.jpg  \n",
            "  inflating: hrf_512_512_dice_loss_hvr_0_3_feb_3/images/02_dr.JPG  \n",
            "  inflating: hrf_512_512_dice_loss_hvr_0_3_feb_3/images/12_h.jpg  \n",
            "  inflating: hrf_512_512_dice_loss_hvr_0_3_feb_3/images/14_dr.JPG  \n",
            "  inflating: hrf_512_512_dice_loss_hvr_0_3_feb_3/images/06_g.jpg  \n",
            "  inflating: hrf_512_512_dice_loss_hvr_0_3_feb_3/images/05_g.jpg  \n",
            "  inflating: hrf_512_512_dice_loss_hvr_0_3_feb_3/images/04_dr.JPG  \n",
            "  inflating: hrf_512_512_dice_loss_hvr_0_3_feb_3/images/03_dr.JPG  \n",
            "  inflating: hrf_512_512_dice_loss_hvr_0_3_feb_3/images/10_g.jpg  \n",
            "  inflating: hrf_512_512_dice_loss_hvr_0_3_feb_3/images/11_g.jpg  \n",
            "  inflating: hrf_512_512_dice_loss_hvr_0_3_feb_3/images/07_h.jpg  \n",
            "  inflating: hrf_512_512_dice_loss_hvr_0_3_feb_3/images/02_h.jpg  \n",
            "  inflating: hrf_512_512_dice_loss_hvr_0_3_feb_3/images/15_dr.JPG  \n",
            "  inflating: hrf_512_512_dice_loss_hvr_0_3_feb_3/images/03_g.jpg  \n",
            "  inflating: hrf_512_512_dice_loss_hvr_0_3_feb_3/images/13_dr.JPG  \n",
            "  inflating: hrf_512_512_dice_loss_hvr_0_3_feb_3/images/07_g.jpg  \n",
            "  inflating: hrf_512_512_dice_loss_hvr_0_3_feb_3/images/14_g.jpg  \n",
            "  inflating: hrf_512_512_dice_loss_hvr_0_3_feb_3/images/11_dr.JPG  \n",
            "  inflating: hrf_512_512_dice_loss_hvr_0_3_feb_3/images/10_dr.JPG  \n",
            "  inflating: hrf_512_512_dice_loss_hvr_0_3_feb_3/images/15_h.jpg  \n",
            "   creating: hrf_512_512_dice_loss_hvr_0_3_feb_3/results_reconstructed/\n",
            "  inflating: hrf_512_512_dice_loss_hvr_0_3_feb_3/results_reconstructed/06_g.png  \n",
            "  inflating: hrf_512_512_dice_loss_hvr_0_3_feb_3/results_reconstructed/05_dr.png  \n",
            "  inflating: hrf_512_512_dice_loss_hvr_0_3_feb_3/results_reconstructed/11_dr.png  \n",
            "  inflating: hrf_512_512_dice_loss_hvr_0_3_feb_3/results_reconstructed/13_dr.png  \n",
            "  inflating: hrf_512_512_dice_loss_hvr_0_3_feb_3/results_reconstructed/12_g.png  \n",
            "  inflating: hrf_512_512_dice_loss_hvr_0_3_feb_3/results_reconstructed/12_h.png  \n",
            "  inflating: hrf_512_512_dice_loss_hvr_0_3_feb_3/results_reconstructed/10_h.png  \n",
            "  inflating: hrf_512_512_dice_loss_hvr_0_3_feb_3/results_reconstructed/02_g.png  \n",
            "  inflating: hrf_512_512_dice_loss_hvr_0_3_feb_3/results_reconstructed/15_h.png  \n",
            "  inflating: hrf_512_512_dice_loss_hvr_0_3_feb_3/results_reconstructed/score_full.csv  \n",
            "  inflating: hrf_512_512_dice_loss_hvr_0_3_feb_3/results_reconstructed/05_g.png  \n",
            "  inflating: hrf_512_512_dice_loss_hvr_0_3_feb_3/results_reconstructed/08_dr.png  \n",
            "  inflating: hrf_512_512_dice_loss_hvr_0_3_feb_3/results_reconstructed/11_h.png  \n",
            "  inflating: hrf_512_512_dice_loss_hvr_0_3_feb_3/results_reconstructed/03_h.png  \n",
            "  inflating: hrf_512_512_dice_loss_hvr_0_3_feb_3/results_reconstructed/08_g.png  \n",
            "   creating: hrf_512_512_dice_loss_hvr_0_3_feb_3/results/\n",
            "  inflating: hrf_512_512_dice_loss_hvr_0_3_feb_3/results/_15_h_23.png  \n",
            "  inflating: hrf_512_512_dice_loss_hvr_0_3_feb_3/results/_03_h_0.png  \n",
            "  inflating: hrf_512_512_dice_loss_hvr_0_3_feb_3/results/_05_g_11.png  \n",
            "  inflating: hrf_512_512_dice_loss_hvr_0_3_feb_3/results/_08_dr_20.png  \n",
            "  inflating: hrf_512_512_dice_loss_hvr_0_3_feb_3/results/_08_dr_4.png  \n",
            "  inflating: hrf_512_512_dice_loss_hvr_0_3_feb_3/results/_13_dr_8.png  \n",
            "  inflating: hrf_512_512_dice_loss_hvr_0_3_feb_3/results/_05_g_22.png  \n",
            "  inflating: hrf_512_512_dice_loss_hvr_0_3_feb_3/results/_03_h_1.png  \n",
            "  inflating: hrf_512_512_dice_loss_hvr_0_3_feb_3/results/_08_g_27.png  \n",
            "  inflating: hrf_512_512_dice_loss_hvr_0_3_feb_3/results/_11_dr_7.png  \n",
            "  inflating: hrf_512_512_dice_loss_hvr_0_3_feb_3/results/_08_g_16.png  \n",
            "  inflating: hrf_512_512_dice_loss_hvr_0_3_feb_3/results/_15_h_11.png  \n",
            "  inflating: hrf_512_512_dice_loss_hvr_0_3_feb_3/results/_15_h_4.png  \n",
            "  inflating: hrf_512_512_dice_loss_hvr_0_3_feb_3/results/_05_g_32.png  \n",
            "  inflating: hrf_512_512_dice_loss_hvr_0_3_feb_3/results/_03_h_28.png  \n",
            "  inflating: hrf_512_512_dice_loss_hvr_0_3_feb_3/results/_06_g_32.png  \n",
            "  inflating: hrf_512_512_dice_loss_hvr_0_3_feb_3/results/_03_h_11.png  \n",
            "  inflating: hrf_512_512_dice_loss_hvr_0_3_feb_3/results/_08_g_23.png  \n",
            "  inflating: hrf_512_512_dice_loss_hvr_0_3_feb_3/results/_12_g_32.png  \n",
            "  inflating: hrf_512_512_dice_loss_hvr_0_3_feb_3/results/_06_g_9.png  \n",
            "  inflating: hrf_512_512_dice_loss_hvr_0_3_feb_3/results/_02_g_25.png  \n",
            "  inflating: hrf_512_512_dice_loss_hvr_0_3_feb_3/results/_12_g_14.png  \n",
            "  inflating: hrf_512_512_dice_loss_hvr_0_3_feb_3/results/_08_dr_10.png  \n",
            "  inflating: hrf_512_512_dice_loss_hvr_0_3_feb_3/results/_11_dr_30.png  \n",
            "  inflating: hrf_512_512_dice_loss_hvr_0_3_feb_3/results/_11_dr_8.png  \n",
            "  inflating: hrf_512_512_dice_loss_hvr_0_3_feb_3/results/_05_dr_22.png  \n",
            "  inflating: hrf_512_512_dice_loss_hvr_0_3_feb_3/results/_06_g_34.png  \n",
            "  inflating: hrf_512_512_dice_loss_hvr_0_3_feb_3/results/_13_dr_17.png  \n",
            "  inflating: hrf_512_512_dice_loss_hvr_0_3_feb_3/results/_03_h_12.png  \n",
            "  inflating: hrf_512_512_dice_loss_hvr_0_3_feb_3/results/_05_g_14.png  \n",
            "  inflating: hrf_512_512_dice_loss_hvr_0_3_feb_3/results/_12_g_8.png  \n",
            "  inflating: hrf_512_512_dice_loss_hvr_0_3_feb_3/results/_02_g_22.png  \n",
            "  inflating: hrf_512_512_dice_loss_hvr_0_3_feb_3/results/_12_h_1.png  \n",
            "  inflating: hrf_512_512_dice_loss_hvr_0_3_feb_3/results/_11_dr_22.png  \n",
            "  inflating: hrf_512_512_dice_loss_hvr_0_3_feb_3/results/_06_g_6.png  \n",
            "  inflating: hrf_512_512_dice_loss_hvr_0_3_feb_3/results/_11_dr_14.png  \n",
            "  inflating: hrf_512_512_dice_loss_hvr_0_3_feb_3/results/_02_g_34.png  \n",
            "  inflating: hrf_512_512_dice_loss_hvr_0_3_feb_3/results/_11_h_33.png  \n",
            "  inflating: hrf_512_512_dice_loss_hvr_0_3_feb_3/results/_05_g_17.png  \n",
            "  inflating: hrf_512_512_dice_loss_hvr_0_3_feb_3/results/_08_g_17.png  \n",
            "  inflating: hrf_512_512_dice_loss_hvr_0_3_feb_3/results/_08_g_13.png  \n",
            "  inflating: hrf_512_512_dice_loss_hvr_0_3_feb_3/results/_08_g_28.png  \n",
            "  inflating: hrf_512_512_dice_loss_hvr_0_3_feb_3/results/_08_g_3.png  \n",
            "  inflating: hrf_512_512_dice_loss_hvr_0_3_feb_3/results/_11_dr_15.png  \n",
            "  inflating: hrf_512_512_dice_loss_hvr_0_3_feb_3/results/_06_g_24.png  \n",
            "  inflating: hrf_512_512_dice_loss_hvr_0_3_feb_3/results/_06_g_33.png  \n",
            "  inflating: hrf_512_512_dice_loss_hvr_0_3_feb_3/results/_02_g_21.png  \n",
            "  inflating: hrf_512_512_dice_loss_hvr_0_3_feb_3/results/_08_dr_22.png  \n",
            "  inflating: hrf_512_512_dice_loss_hvr_0_3_feb_3/results/_10_h_26.png  \n",
            "  inflating: hrf_512_512_dice_loss_hvr_0_3_feb_3/results/_13_dr_21.png  \n",
            "  inflating: hrf_512_512_dice_loss_hvr_0_3_feb_3/results/_08_dr_18.png  \n",
            "  inflating: hrf_512_512_dice_loss_hvr_0_3_feb_3/results/_08_dr_3.png  \n",
            "  inflating: hrf_512_512_dice_loss_hvr_0_3_feb_3/results/_02_g_15.png  \n",
            "  inflating: hrf_512_512_dice_loss_hvr_0_3_feb_3/results/_12_h_3.png  \n",
            "  inflating: hrf_512_512_dice_loss_hvr_0_3_feb_3/results/_11_dr_18.png  \n",
            "  inflating: hrf_512_512_dice_loss_hvr_0_3_feb_3/results/_15_h_2.png  \n",
            "  inflating: hrf_512_512_dice_loss_hvr_0_3_feb_3/results/_08_dr_6.png  \n",
            "  inflating: hrf_512_512_dice_loss_hvr_0_3_feb_3/results/_08_dr_19.png  \n",
            "  inflating: hrf_512_512_dice_loss_hvr_0_3_feb_3/results/_15_h_34.png  \n",
            "  inflating: hrf_512_512_dice_loss_hvr_0_3_feb_3/results/_08_g_11.png  \n",
            "  inflating: hrf_512_512_dice_loss_hvr_0_3_feb_3/results/_11_h_17.png  \n",
            "  inflating: hrf_512_512_dice_loss_hvr_0_3_feb_3/results/_05_dr_34.png  \n",
            "  inflating: hrf_512_512_dice_loss_hvr_0_3_feb_3/results/_08_g_1.png  \n",
            "  inflating: hrf_512_512_dice_loss_hvr_0_3_feb_3/results/_12_g_28.png  \n",
            "  inflating: hrf_512_512_dice_loss_hvr_0_3_feb_3/results/_10_h_18.png  \n",
            "  inflating: hrf_512_512_dice_loss_hvr_0_3_feb_3/results/_05_dr_13.png  \n",
            "  inflating: hrf_512_512_dice_loss_hvr_0_3_feb_3/results/_15_h_7.png  \n",
            "  inflating: hrf_512_512_dice_loss_hvr_0_3_feb_3/results/_08_dr_21.png  \n",
            "  inflating: hrf_512_512_dice_loss_hvr_0_3_feb_3/results/_03_h_31.png  \n",
            "  inflating: hrf_512_512_dice_loss_hvr_0_3_feb_3/results/_12_h_16.png  \n",
            "  inflating: hrf_512_512_dice_loss_hvr_0_3_feb_3/results/_08_dr_23.png  \n",
            "  inflating: hrf_512_512_dice_loss_hvr_0_3_feb_3/results/_03_h_29.png  \n",
            "  inflating: hrf_512_512_dice_loss_hvr_0_3_feb_3/results/_11_h_16.png  \n",
            "  inflating: hrf_512_512_dice_loss_hvr_0_3_feb_3/results/_12_g_22.png  \n",
            "  inflating: hrf_512_512_dice_loss_hvr_0_3_feb_3/results/_11_dr_6.png  \n",
            "  inflating: hrf_512_512_dice_loss_hvr_0_3_feb_3/results/_11_dr_12.png  \n",
            "  inflating: hrf_512_512_dice_loss_hvr_0_3_feb_3/results/_12_g_31.png  \n",
            "  inflating: hrf_512_512_dice_loss_hvr_0_3_feb_3/results/_12_h_0.png  \n",
            "  inflating: hrf_512_512_dice_loss_hvr_0_3_feb_3/results/_02_g_27.png  \n",
            "  inflating: hrf_512_512_dice_loss_hvr_0_3_feb_3/results/_05_g_13.png  \n",
            "  inflating: hrf_512_512_dice_loss_hvr_0_3_feb_3/results/_06_g_29.png  \n",
            "  inflating: hrf_512_512_dice_loss_hvr_0_3_feb_3/results/_12_h_4.png  \n",
            "  inflating: hrf_512_512_dice_loss_hvr_0_3_feb_3/results/_05_dr_7.png  \n",
            "  inflating: hrf_512_512_dice_loss_hvr_0_3_feb_3/results/_02_g_31.png  \n",
            "  inflating: hrf_512_512_dice_loss_hvr_0_3_feb_3/results/_11_dr_17.png  \n",
            "  inflating: hrf_512_512_dice_loss_hvr_0_3_feb_3/results/_11_h_19.png  \n",
            "  inflating: hrf_512_512_dice_loss_hvr_0_3_feb_3/results/_12_g_0.png  \n",
            "  inflating: hrf_512_512_dice_loss_hvr_0_3_feb_3/results/_08_dr_17.png  \n",
            "  inflating: hrf_512_512_dice_loss_hvr_0_3_feb_3/results/_10_h_24.png  \n",
            "  inflating: hrf_512_512_dice_loss_hvr_0_3_feb_3/results/_06_g_18.png  \n",
            "  inflating: hrf_512_512_dice_loss_hvr_0_3_feb_3/results/_10_h_3.png  \n",
            "  inflating: hrf_512_512_dice_loss_hvr_0_3_feb_3/results/_12_g_7.png  \n",
            "  inflating: hrf_512_512_dice_loss_hvr_0_3_feb_3/results/_02_g_9.png  \n",
            "  inflating: hrf_512_512_dice_loss_hvr_0_3_feb_3/results/_08_g_22.png  \n",
            "  inflating: hrf_512_512_dice_loss_hvr_0_3_feb_3/results/_05_g_10.png  \n",
            "  inflating: hrf_512_512_dice_loss_hvr_0_3_feb_3/results/_03_h_5.png  \n",
            "  inflating: hrf_512_512_dice_loss_hvr_0_3_feb_3/results/_05_g_33.png  \n",
            "  inflating: hrf_512_512_dice_loss_hvr_0_3_feb_3/results/_11_h_28.png  \n",
            "  inflating: hrf_512_512_dice_loss_hvr_0_3_feb_3/results/_15_h_1.png  \n",
            "  inflating: hrf_512_512_dice_loss_hvr_0_3_feb_3/results/_08_dr_11.png  \n",
            "  inflating: hrf_512_512_dice_loss_hvr_0_3_feb_3/results/_12_h_8.png  \n",
            "  inflating: hrf_512_512_dice_loss_hvr_0_3_feb_3/results/_13_dr_9.png  \n",
            "  inflating: hrf_512_512_dice_loss_hvr_0_3_feb_3/results/_05_dr_5.png  \n",
            "  inflating: hrf_512_512_dice_loss_hvr_0_3_feb_3/results/_15_h_5.png  \n",
            "  inflating: hrf_512_512_dice_loss_hvr_0_3_feb_3/results/_08_dr_24.png  \n",
            "  inflating: hrf_512_512_dice_loss_hvr_0_3_feb_3/results/_10_h_23.png  \n",
            "  inflating: hrf_512_512_dice_loss_hvr_0_3_feb_3/results/_08_g_24.png  \n",
            "  inflating: hrf_512_512_dice_loss_hvr_0_3_feb_3/results/_02_g_30.png  \n",
            "  inflating: hrf_512_512_dice_loss_hvr_0_3_feb_3/results/_08_g_32.png  \n",
            "  inflating: hrf_512_512_dice_loss_hvr_0_3_feb_3/results/_11_h_20.png  \n",
            "  inflating: hrf_512_512_dice_loss_hvr_0_3_feb_3/results/_11_h_26.png  \n",
            "  inflating: hrf_512_512_dice_loss_hvr_0_3_feb_3/results/_13_dr_12.png  \n",
            "  inflating: hrf_512_512_dice_loss_hvr_0_3_feb_3/results/_13_dr_15.png  \n",
            "  inflating: hrf_512_512_dice_loss_hvr_0_3_feb_3/results/_05_dr_12.png  \n",
            "  inflating: hrf_512_512_dice_loss_hvr_0_3_feb_3/results/_11_dr_33.png  \n",
            "  inflating: hrf_512_512_dice_loss_hvr_0_3_feb_3/results/_08_g_8.png  \n",
            "  inflating: hrf_512_512_dice_loss_hvr_0_3_feb_3/results/_12_h_2.png  \n",
            "  inflating: hrf_512_512_dice_loss_hvr_0_3_feb_3/results/_06_g_22.png  \n",
            "  inflating: hrf_512_512_dice_loss_hvr_0_3_feb_3/results/_02_g_4.png  \n",
            "  inflating: hrf_512_512_dice_loss_hvr_0_3_feb_3/results/_13_dr_32.png  \n",
            "  inflating: hrf_512_512_dice_loss_hvr_0_3_feb_3/results/_03_h_2.png  \n",
            "  inflating: hrf_512_512_dice_loss_hvr_0_3_feb_3/results/_12_h_29.png  \n",
            "  inflating: hrf_512_512_dice_loss_hvr_0_3_feb_3/results/_10_h_9.png  \n",
            "  inflating: hrf_512_512_dice_loss_hvr_0_3_feb_3/results/_08_dr_16.png  \n",
            "  inflating: hrf_512_512_dice_loss_hvr_0_3_feb_3/results/_13_dr_27.png  \n",
            "  inflating: hrf_512_512_dice_loss_hvr_0_3_feb_3/results/_12_h_30.png  \n",
            "  inflating: hrf_512_512_dice_loss_hvr_0_3_feb_3/results/_15_h_3.png  \n",
            "  inflating: hrf_512_512_dice_loss_hvr_0_3_feb_3/results/_10_h_16.png  \n",
            "  inflating: hrf_512_512_dice_loss_hvr_0_3_feb_3/results/_08_dr_26.png  \n",
            "  inflating: hrf_512_512_dice_loss_hvr_0_3_feb_3/results/_05_g_20.png  \n",
            "  inflating: hrf_512_512_dice_loss_hvr_0_3_feb_3/results/_06_g_1.png  \n",
            "  inflating: hrf_512_512_dice_loss_hvr_0_3_feb_3/results/_02_g_29.png  \n",
            "  inflating: hrf_512_512_dice_loss_hvr_0_3_feb_3/results/_08_dr_13.png  \n",
            "  inflating: hrf_512_512_dice_loss_hvr_0_3_feb_3/results/_08_g_0.png  \n",
            "  inflating: hrf_512_512_dice_loss_hvr_0_3_feb_3/results/_05_g_26.png  \n",
            "  inflating: hrf_512_512_dice_loss_hvr_0_3_feb_3/results/_02_g_12.png  \n",
            "  inflating: hrf_512_512_dice_loss_hvr_0_3_feb_3/results/_10_h_33.png  \n",
            "  inflating: hrf_512_512_dice_loss_hvr_0_3_feb_3/results/_02_g_2.png  \n",
            "  inflating: hrf_512_512_dice_loss_hvr_0_3_feb_3/results/_05_dr_16.png  \n",
            "  inflating: hrf_512_512_dice_loss_hvr_0_3_feb_3/results/_12_h_11.png  \n",
            "  inflating: hrf_512_512_dice_loss_hvr_0_3_feb_3/results/_05_dr_0.png  \n",
            "  inflating: hrf_512_512_dice_loss_hvr_0_3_feb_3/results/_03_h_8.png  \n",
            "  inflating: hrf_512_512_dice_loss_hvr_0_3_feb_3/results/_12_h_5.png  \n",
            "  inflating: hrf_512_512_dice_loss_hvr_0_3_feb_3/results/_10_h_27.png  \n",
            "  inflating: hrf_512_512_dice_loss_hvr_0_3_feb_3/results/_03_h_17.png  \n",
            "  inflating: hrf_512_512_dice_loss_hvr_0_3_feb_3/results/_15_h_17.png  \n",
            "  inflating: hrf_512_512_dice_loss_hvr_0_3_feb_3/results/_12_h_14.png  \n",
            "  inflating: hrf_512_512_dice_loss_hvr_0_3_feb_3/results/_15_h_6.png  \n",
            "  inflating: hrf_512_512_dice_loss_hvr_0_3_feb_3/results/_03_h_21.png  \n",
            "  inflating: hrf_512_512_dice_loss_hvr_0_3_feb_3/results/_13_dr_20.png  \n",
            "  inflating: hrf_512_512_dice_loss_hvr_0_3_feb_3/results/_12_g_5.png  \n",
            "  inflating: hrf_512_512_dice_loss_hvr_0_3_feb_3/results/_10_h_28.png  \n",
            "  inflating: hrf_512_512_dice_loss_hvr_0_3_feb_3/results/_06_g_5.png  \n",
            "  inflating: hrf_512_512_dice_loss_hvr_0_3_feb_3/results/_08_g_14.png  \n",
            "  inflating: hrf_512_512_dice_loss_hvr_0_3_feb_3/results/_15_h_29.png  \n",
            "  inflating: hrf_512_512_dice_loss_hvr_0_3_feb_3/results/_05_dr_6.png  \n",
            "  inflating: hrf_512_512_dice_loss_hvr_0_3_feb_3/results/_11_dr_25.png  \n",
            "  inflating: hrf_512_512_dice_loss_hvr_0_3_feb_3/results/_05_dr_31.png  \n",
            "  inflating: hrf_512_512_dice_loss_hvr_0_3_feb_3/results/_06_g_19.png  \n",
            "  inflating: hrf_512_512_dice_loss_hvr_0_3_feb_3/results/_03_h_15.png  \n",
            "  inflating: hrf_512_512_dice_loss_hvr_0_3_feb_3/results/_12_g_17.png  \n",
            "  inflating: hrf_512_512_dice_loss_hvr_0_3_feb_3/results/_02_g_11.png  \n",
            "  inflating: hrf_512_512_dice_loss_hvr_0_3_feb_3/results/_13_dr_10.png  \n",
            "  inflating: hrf_512_512_dice_loss_hvr_0_3_feb_3/results/_11_dr_11.png  \n",
            "  inflating: hrf_512_512_dice_loss_hvr_0_3_feb_3/results/_08_g_34.png  \n",
            "  inflating: hrf_512_512_dice_loss_hvr_0_3_feb_3/results/_15_h_10.png  \n",
            "  inflating: hrf_512_512_dice_loss_hvr_0_3_feb_3/results/_12_h_12.png  \n",
            "  inflating: hrf_512_512_dice_loss_hvr_0_3_feb_3/results/_10_h_20.png  \n",
            "  inflating: hrf_512_512_dice_loss_hvr_0_3_feb_3/results/_08_g_31.png  \n",
            "  inflating: hrf_512_512_dice_loss_hvr_0_3_feb_3/results/_08_g_25.png  \n",
            "  inflating: hrf_512_512_dice_loss_hvr_0_3_feb_3/results/_15_h_18.png  \n",
            "  inflating: hrf_512_512_dice_loss_hvr_0_3_feb_3/results/_15_h_24.png  \n",
            "  inflating: hrf_512_512_dice_loss_hvr_0_3_feb_3/results/_06_g_7.png  \n",
            "  inflating: hrf_512_512_dice_loss_hvr_0_3_feb_3/results/_10_h_30.png  \n",
            "  inflating: hrf_512_512_dice_loss_hvr_0_3_feb_3/results/_11_h_21.png  \n",
            "  inflating: hrf_512_512_dice_loss_hvr_0_3_feb_3/results/_06_g_27.png  \n",
            "  inflating: hrf_512_512_dice_loss_hvr_0_3_feb_3/results/_05_g_29.png  \n",
            "  inflating: hrf_512_512_dice_loss_hvr_0_3_feb_3/results/_08_dr_30.png  \n",
            "  inflating: hrf_512_512_dice_loss_hvr_0_3_feb_3/results/_15_h_9.png  \n",
            "  inflating: hrf_512_512_dice_loss_hvr_0_3_feb_3/results/_08_dr_31.png  \n",
            "  inflating: hrf_512_512_dice_loss_hvr_0_3_feb_3/results/_08_g_2.png  \n",
            "  inflating: hrf_512_512_dice_loss_hvr_0_3_feb_3/results/_02_g_17.png  \n",
            "  inflating: hrf_512_512_dice_loss_hvr_0_3_feb_3/results/_08_dr_15.png  \n",
            "  inflating: hrf_512_512_dice_loss_hvr_0_3_feb_3/results/_08_g_15.png  \n",
            "  inflating: hrf_512_512_dice_loss_hvr_0_3_feb_3/results/_05_dr_20.png  \n",
            "  inflating: hrf_512_512_dice_loss_hvr_0_3_feb_3/results/_11_dr_26.png  \n",
            "  inflating: hrf_512_512_dice_loss_hvr_0_3_feb_3/results/_13_dr_5.png  \n",
            "  inflating: hrf_512_512_dice_loss_hvr_0_3_feb_3/results/_08_g_6.png  \n",
            "  inflating: hrf_512_512_dice_loss_hvr_0_3_feb_3/results/_12_g_10.png  \n",
            "  inflating: hrf_512_512_dice_loss_hvr_0_3_feb_3/results/_11_h_30.png  \n",
            "  inflating: hrf_512_512_dice_loss_hvr_0_3_feb_3/results/_03_h_6.png  \n",
            "  inflating: hrf_512_512_dice_loss_hvr_0_3_feb_3/results/_11_h_0.png  \n",
            "  inflating: hrf_512_512_dice_loss_hvr_0_3_feb_3/results/_13_dr_34.png  \n",
            "  inflating: hrf_512_512_dice_loss_hvr_0_3_feb_3/results/_11_dr_23.png  \n",
            "  inflating: hrf_512_512_dice_loss_hvr_0_3_feb_3/results/_08_g_7.png  \n",
            "  inflating: hrf_512_512_dice_loss_hvr_0_3_feb_3/results/_11_h_22.png  \n",
            "  inflating: hrf_512_512_dice_loss_hvr_0_3_feb_3/results/_08_g_21.png  \n",
            "  inflating: hrf_512_512_dice_loss_hvr_0_3_feb_3/results/_10_h_15.png  \n",
            "  inflating: hrf_512_512_dice_loss_hvr_0_3_feb_3/results/_12_h_13.png  \n",
            "  inflating: hrf_512_512_dice_loss_hvr_0_3_feb_3/results/_11_h_18.png  \n",
            "  inflating: hrf_512_512_dice_loss_hvr_0_3_feb_3/results/_12_h_31.png  \n",
            "  inflating: hrf_512_512_dice_loss_hvr_0_3_feb_3/results/_05_g_6.png  \n",
            "  inflating: hrf_512_512_dice_loss_hvr_0_3_feb_3/results/_13_dr_3.png  \n",
            "  inflating: hrf_512_512_dice_loss_hvr_0_3_feb_3/results/_10_h_17.png  \n",
            "  inflating: hrf_512_512_dice_loss_hvr_0_3_feb_3/results/_13_dr_23.png  \n",
            "  inflating: hrf_512_512_dice_loss_hvr_0_3_feb_3/results/_11_h_12.png  \n",
            "  inflating: hrf_512_512_dice_loss_hvr_0_3_feb_3/results/_12_g_13.png  \n",
            "  inflating: hrf_512_512_dice_loss_hvr_0_3_feb_3/results/_03_h_10.png  \n",
            "  inflating: hrf_512_512_dice_loss_hvr_0_3_feb_3/results/_15_h_8.png  \n",
            "  inflating: hrf_512_512_dice_loss_hvr_0_3_feb_3/results/_10_h_11.png  \n",
            "  inflating: hrf_512_512_dice_loss_hvr_0_3_feb_3/results/_10_h_19.png  \n",
            "  inflating: hrf_512_512_dice_loss_hvr_0_3_feb_3/results/_08_dr_14.png  \n",
            "  inflating: hrf_512_512_dice_loss_hvr_0_3_feb_3/results/_10_h_5.png  \n",
            "  inflating: hrf_512_512_dice_loss_hvr_0_3_feb_3/results/_11_h_29.png  \n",
            "  inflating: hrf_512_512_dice_loss_hvr_0_3_feb_3/results/_11_dr_9.png  \n",
            "  inflating: hrf_512_512_dice_loss_hvr_0_3_feb_3/results/_11_h_3.png  \n",
            "  inflating: hrf_512_512_dice_loss_hvr_0_3_feb_3/results/_06_g_11.png  \n",
            "  inflating: hrf_512_512_dice_loss_hvr_0_3_feb_3/results/_12_g_34.png  \n",
            "  inflating: hrf_512_512_dice_loss_hvr_0_3_feb_3/results/_03_h_14.png  \n",
            "  inflating: hrf_512_512_dice_loss_hvr_0_3_feb_3/results/_10_h_7.png  \n",
            "  inflating: hrf_512_512_dice_loss_hvr_0_3_feb_3/results/_03_h_7.png  \n",
            "  inflating: hrf_512_512_dice_loss_hvr_0_3_feb_3/results/_10_h_13.png  \n",
            "  inflating: hrf_512_512_dice_loss_hvr_0_3_feb_3/results/_08_g_33.png  \n",
            "  inflating: hrf_512_512_dice_loss_hvr_0_3_feb_3/results/_11_h_2.png  \n",
            "  inflating: hrf_512_512_dice_loss_hvr_0_3_feb_3/results/_06_g_30.png  \n",
            "  inflating: hrf_512_512_dice_loss_hvr_0_3_feb_3/results/_05_g_0.png  \n",
            "  inflating: hrf_512_512_dice_loss_hvr_0_3_feb_3/results/_11_h_6.png  \n",
            "  inflating: hrf_512_512_dice_loss_hvr_0_3_feb_3/results/_12_h_25.png  \n",
            "  inflating: hrf_512_512_dice_loss_hvr_0_3_feb_3/results/_02_g_14.png  \n",
            "  inflating: hrf_512_512_dice_loss_hvr_0_3_feb_3/results/_10_h_2.png  \n",
            "  inflating: hrf_512_512_dice_loss_hvr_0_3_feb_3/results/_13_dr_31.png  \n",
            "  inflating: hrf_512_512_dice_loss_hvr_0_3_feb_3/results/_11_dr_20.png  \n",
            "  inflating: hrf_512_512_dice_loss_hvr_0_3_feb_3/results/_05_g_18.png  \n",
            "  inflating: hrf_512_512_dice_loss_hvr_0_3_feb_3/results/_11_h_7.png  \n",
            "  inflating: hrf_512_512_dice_loss_hvr_0_3_feb_3/results/_03_h_26.png  \n",
            "  inflating: hrf_512_512_dice_loss_hvr_0_3_feb_3/results/_12_g_25.png  \n",
            "  inflating: hrf_512_512_dice_loss_hvr_0_3_feb_3/results/_10_h_0.png  \n",
            "  inflating: hrf_512_512_dice_loss_hvr_0_3_feb_3/results/_11_dr_24.png  \n",
            "  inflating: hrf_512_512_dice_loss_hvr_0_3_feb_3/results/_03_h_3.png  \n",
            "  inflating: hrf_512_512_dice_loss_hvr_0_3_feb_3/results/_13_dr_2.png  \n",
            "  inflating: hrf_512_512_dice_loss_hvr_0_3_feb_3/results/_11_h_13.png  \n",
            "  inflating: hrf_512_512_dice_loss_hvr_0_3_feb_3/results/_10_h_34.png  \n",
            "  inflating: hrf_512_512_dice_loss_hvr_0_3_feb_3/results/_10_h_1.png  \n",
            "  inflating: hrf_512_512_dice_loss_hvr_0_3_feb_3/results/_05_g_4.png  \n",
            "  inflating: hrf_512_512_dice_loss_hvr_0_3_feb_3/results/_11_h_5.png  \n",
            "  inflating: hrf_512_512_dice_loss_hvr_0_3_feb_3/results/_05_g_12.png  \n",
            "  inflating: hrf_512_512_dice_loss_hvr_0_3_feb_3/results/_15_h_27.png  \n",
            "  inflating: hrf_512_512_dice_loss_hvr_0_3_feb_3/results/_02_g_28.png  \n",
            "  inflating: hrf_512_512_dice_loss_hvr_0_3_feb_3/results/_08_g_29.png  \n",
            "  inflating: hrf_512_512_dice_loss_hvr_0_3_feb_3/results/_11_dr_19.png  \n",
            "  inflating: hrf_512_512_dice_loss_hvr_0_3_feb_3/results/_12_g_16.png  \n",
            "  inflating: hrf_512_512_dice_loss_hvr_0_3_feb_3/results/_13_dr_11.png  \n",
            "  inflating: hrf_512_512_dice_loss_hvr_0_3_feb_3/results/_13_dr_4.png  \n",
            "  inflating: hrf_512_512_dice_loss_hvr_0_3_feb_3/results/_05_g_15.png  \n",
            "  inflating: hrf_512_512_dice_loss_hvr_0_3_feb_3/results/_13_dr_33.png  \n",
            "  inflating: hrf_512_512_dice_loss_hvr_0_3_feb_3/results/_15_h_26.png  \n",
            "  inflating: hrf_512_512_dice_loss_hvr_0_3_feb_3/results/_02_g_6.png  \n",
            "  inflating: hrf_512_512_dice_loss_hvr_0_3_feb_3/results/_05_dr_33.png  \n",
            "  inflating: hrf_512_512_dice_loss_hvr_0_3_feb_3/results/_05_dr_26.png  \n",
            "  inflating: hrf_512_512_dice_loss_hvr_0_3_feb_3/results/_13_dr_14.png  \n",
            "  inflating: hrf_512_512_dice_loss_hvr_0_3_feb_3/results/_02_g_10.png  \n",
            "  inflating: hrf_512_512_dice_loss_hvr_0_3_feb_3/results/_15_h_28.png  \n",
            "  inflating: hrf_512_512_dice_loss_hvr_0_3_feb_3/results/_08_g_18.png  \n",
            "  inflating: hrf_512_512_dice_loss_hvr_0_3_feb_3/results/_12_g_11.png  \n",
            "  inflating: hrf_512_512_dice_loss_hvr_0_3_feb_3/results/_06_g_10.png  \n",
            "  inflating: hrf_512_512_dice_loss_hvr_0_3_feb_3/results/_13_dr_13.png  \n",
            "  inflating: hrf_512_512_dice_loss_hvr_0_3_feb_3/results/_11_dr_4.png  \n",
            "  inflating: hrf_512_512_dice_loss_hvr_0_3_feb_3/results/_03_h_23.png  \n",
            "  inflating: hrf_512_512_dice_loss_hvr_0_3_feb_3/results/_12_h_34.png  \n",
            "  inflating: hrf_512_512_dice_loss_hvr_0_3_feb_3/results/_08_dr_34.png  \n",
            "  inflating: hrf_512_512_dice_loss_hvr_0_3_feb_3/results/_12_h_7.png  \n",
            "  inflating: hrf_512_512_dice_loss_hvr_0_3_feb_3/results/_12_h_17.png  \n",
            "  inflating: hrf_512_512_dice_loss_hvr_0_3_feb_3/results/_11_h_14.png  \n",
            "  inflating: hrf_512_512_dice_loss_hvr_0_3_feb_3/results/_03_h_32.png  \n",
            "  inflating: hrf_512_512_dice_loss_hvr_0_3_feb_3/results/_06_g_0.png  \n",
            "  inflating: hrf_512_512_dice_loss_hvr_0_3_feb_3/results/_12_g_9.png  \n",
            "  inflating: hrf_512_512_dice_loss_hvr_0_3_feb_3/results/_05_dr_3.png  \n",
            "  inflating: hrf_512_512_dice_loss_hvr_0_3_feb_3/results/_10_h_29.png  \n",
            "  inflating: hrf_512_512_dice_loss_hvr_0_3_feb_3/results/_15_h_16.png  \n",
            "  inflating: hrf_512_512_dice_loss_hvr_0_3_feb_3/results/_12_h_24.png  \n",
            "  inflating: hrf_512_512_dice_loss_hvr_0_3_feb_3/results/_05_dr_23.png  \n",
            "  inflating: hrf_512_512_dice_loss_hvr_0_3_feb_3/results/_15_h_14.png  \n",
            "  inflating: hrf_512_512_dice_loss_hvr_0_3_feb_3/results/_08_dr_2.png  \n",
            "  inflating: hrf_512_512_dice_loss_hvr_0_3_feb_3/results/_13_dr_0.png  \n",
            "  inflating: hrf_512_512_dice_loss_hvr_0_3_feb_3/results/_02_g_18.png  \n",
            "  inflating: hrf_512_512_dice_loss_hvr_0_3_feb_3/results/_10_h_14.png  \n",
            "  inflating: hrf_512_512_dice_loss_hvr_0_3_feb_3/results/_13_dr_25.png  \n",
            "  inflating: hrf_512_512_dice_loss_hvr_0_3_feb_3/results/_03_h_16.png  \n",
            "  inflating: hrf_512_512_dice_loss_hvr_0_3_feb_3/results/_02_g_23.png  \n",
            "  inflating: hrf_512_512_dice_loss_hvr_0_3_feb_3/results/_02_g_24.png  \n",
            "  inflating: hrf_512_512_dice_loss_hvr_0_3_feb_3/results/_11_dr_13.png  \n",
            "  inflating: hrf_512_512_dice_loss_hvr_0_3_feb_3/results/_12_g_20.png  \n",
            "  inflating: hrf_512_512_dice_loss_hvr_0_3_feb_3/results/_10_h_22.png  \n",
            "  inflating: hrf_512_512_dice_loss_hvr_0_3_feb_3/results/_12_g_15.png  \n",
            "  inflating: hrf_512_512_dice_loss_hvr_0_3_feb_3/results/_11_dr_29.png  \n",
            "  inflating: hrf_512_512_dice_loss_hvr_0_3_feb_3/results/_02_g_32.png  \n",
            "  inflating: hrf_512_512_dice_loss_hvr_0_3_feb_3/results/_06_g_2.png  \n",
            "  inflating: hrf_512_512_dice_loss_hvr_0_3_feb_3/results/_08_g_30.png  \n",
            "  inflating: hrf_512_512_dice_loss_hvr_0_3_feb_3/results/_08_dr_9.png  \n",
            "  inflating: hrf_512_512_dice_loss_hvr_0_3_feb_3/results/_03_h_34.png  \n",
            "  inflating: hrf_512_512_dice_loss_hvr_0_3_feb_3/results/_06_g_8.png  \n",
            "  inflating: hrf_512_512_dice_loss_hvr_0_3_feb_3/results/_03_h_25.png  \n",
            "  inflating: hrf_512_512_dice_loss_hvr_0_3_feb_3/results/_12_g_24.png  \n",
            "  inflating: hrf_512_512_dice_loss_hvr_0_3_feb_3/results/_05_dr_1.png  \n",
            "  inflating: hrf_512_512_dice_loss_hvr_0_3_feb_3/results/_05_dr_8.png  \n",
            "  inflating: hrf_512_512_dice_loss_hvr_0_3_feb_3/results/_10_h_32.png  \n",
            "  inflating: hrf_512_512_dice_loss_hvr_0_3_feb_3/results/_15_h_32.png  \n",
            "  inflating: hrf_512_512_dice_loss_hvr_0_3_feb_3/results/_11_h_11.png  \n",
            "  inflating: hrf_512_512_dice_loss_hvr_0_3_feb_3/results/_08_g_5.png  \n",
            "  inflating: hrf_512_512_dice_loss_hvr_0_3_feb_3/results/_10_h_4.png  \n",
            "  inflating: hrf_512_512_dice_loss_hvr_0_3_feb_3/results/_08_dr_29.png  \n",
            "  inflating: hrf_512_512_dice_loss_hvr_0_3_feb_3/results/_11_dr_1.png  \n",
            "  inflating: hrf_512_512_dice_loss_hvr_0_3_feb_3/results/_05_g_2.png  \n",
            "  inflating: hrf_512_512_dice_loss_hvr_0_3_feb_3/results/_08_dr_25.png  \n",
            "  inflating: hrf_512_512_dice_loss_hvr_0_3_feb_3/results/_06_g_26.png  \n",
            "  inflating: hrf_512_512_dice_loss_hvr_0_3_feb_3/results/_11_dr_34.png  \n",
            "  inflating: hrf_512_512_dice_loss_hvr_0_3_feb_3/results/_12_h_33.png  \n",
            "  inflating: hrf_512_512_dice_loss_hvr_0_3_feb_3/results/_03_h_27.png  \n",
            "  inflating: hrf_512_512_dice_loss_hvr_0_3_feb_3/results/_11_h_31.png  \n",
            "  inflating: hrf_512_512_dice_loss_hvr_0_3_feb_3/results/_10_h_12.png  \n",
            "  inflating: hrf_512_512_dice_loss_hvr_0_3_feb_3/results/_12_g_19.png  \n",
            "  inflating: hrf_512_512_dice_loss_hvr_0_3_feb_3/results/_12_g_30.png  \n",
            "  inflating: hrf_512_512_dice_loss_hvr_0_3_feb_3/results/_06_g_3.png  \n",
            "  inflating: hrf_512_512_dice_loss_hvr_0_3_feb_3/results/_05_dr_11.png  \n",
            "  inflating: hrf_512_512_dice_loss_hvr_0_3_feb_3/results/_11_dr_28.png  \n",
            "  inflating: hrf_512_512_dice_loss_hvr_0_3_feb_3/results/_13_dr_29.png  \n",
            "  inflating: hrf_512_512_dice_loss_hvr_0_3_feb_3/results/_06_g_23.png  \n",
            "  inflating: hrf_512_512_dice_loss_hvr_0_3_feb_3/results/_05_dr_15.png  \n",
            "  inflating: hrf_512_512_dice_loss_hvr_0_3_feb_3/results/_12_h_32.png  \n",
            "  inflating: hrf_512_512_dice_loss_hvr_0_3_feb_3/results/_12_g_3.png  \n",
            "  inflating: hrf_512_512_dice_loss_hvr_0_3_feb_3/results/_05_dr_32.png  \n",
            "  inflating: hrf_512_512_dice_loss_hvr_0_3_feb_3/results/_11_dr_32.png  \n",
            "  inflating: hrf_512_512_dice_loss_hvr_0_3_feb_3/results/_13_dr_22.png  \n",
            "  inflating: hrf_512_512_dice_loss_hvr_0_3_feb_3/results/_13_dr_1.png  \n",
            "  inflating: hrf_512_512_dice_loss_hvr_0_3_feb_3/results/_08_g_9.png  \n",
            "  inflating: hrf_512_512_dice_loss_hvr_0_3_feb_3/results/_12_g_26.png  \n",
            "  inflating: hrf_512_512_dice_loss_hvr_0_3_feb_3/results/_03_h_22.png  \n",
            "  inflating: hrf_512_512_dice_loss_hvr_0_3_feb_3/results/_11_h_4.png  \n",
            "  inflating: hrf_512_512_dice_loss_hvr_0_3_feb_3/results/_02_g_5.png  \n",
            "  inflating: hrf_512_512_dice_loss_hvr_0_3_feb_3/results/_05_g_19.png  \n",
            "  inflating: hrf_512_512_dice_loss_hvr_0_3_feb_3/results/_12_g_23.png  \n",
            "  inflating: hrf_512_512_dice_loss_hvr_0_3_feb_3/results/_12_g_33.png  \n",
            "  inflating: hrf_512_512_dice_loss_hvr_0_3_feb_3/results/_06_g_15.png  \n",
            "  inflating: hrf_512_512_dice_loss_hvr_0_3_feb_3/results/_12_g_27.png  \n",
            "  inflating: hrf_512_512_dice_loss_hvr_0_3_feb_3/results/_02_g_13.png  \n",
            "  inflating: hrf_512_512_dice_loss_hvr_0_3_feb_3/results/_05_g_27.png  \n",
            "  inflating: hrf_512_512_dice_loss_hvr_0_3_feb_3/results/_11_h_27.png  \n",
            "  inflating: hrf_512_512_dice_loss_hvr_0_3_feb_3/results/_08_g_20.png  \n",
            "  inflating: hrf_512_512_dice_loss_hvr_0_3_feb_3/results/_08_g_4.png  \n",
            "  inflating: hrf_512_512_dice_loss_hvr_0_3_feb_3/results/_05_dr_4.png  \n",
            "  inflating: hrf_512_512_dice_loss_hvr_0_3_feb_3/results/_05_g_28.png  \n",
            "  inflating: hrf_512_512_dice_loss_hvr_0_3_feb_3/results/_08_dr_8.png  \n",
            "  inflating: hrf_512_512_dice_loss_hvr_0_3_feb_3/results/_08_dr_1.png  \n",
            "  inflating: hrf_512_512_dice_loss_hvr_0_3_feb_3/results/_03_h_33.png  \n",
            "  inflating: hrf_512_512_dice_loss_hvr_0_3_feb_3/results/_15_h_0.png  \n",
            "  inflating: hrf_512_512_dice_loss_hvr_0_3_feb_3/results/_08_dr_12.png  \n",
            "  inflating: hrf_512_512_dice_loss_hvr_0_3_feb_3/results/_12_h_28.png  \n",
            "  inflating: hrf_512_512_dice_loss_hvr_0_3_feb_3/results/_15_h_25.png  \n",
            "  inflating: hrf_512_512_dice_loss_hvr_0_3_feb_3/results/_13_dr_18.png  \n",
            "  inflating: hrf_512_512_dice_loss_hvr_0_3_feb_3/results/_12_h_20.png  \n",
            "  inflating: hrf_512_512_dice_loss_hvr_0_3_feb_3/results/_12_h_19.png  \n",
            "  inflating: hrf_512_512_dice_loss_hvr_0_3_feb_3/results/_02_g_26.png  \n",
            "  inflating: hrf_512_512_dice_loss_hvr_0_3_feb_3/results/_13_dr_6.png  \n",
            "  inflating: hrf_512_512_dice_loss_hvr_0_3_feb_3/results/_02_g_0.png  \n",
            "  inflating: hrf_512_512_dice_loss_hvr_0_3_feb_3/results/_15_h_33.png  \n",
            "  inflating: hrf_512_512_dice_loss_hvr_0_3_feb_3/results/_02_g_1.png  \n",
            "  inflating: hrf_512_512_dice_loss_hvr_0_3_feb_3/results/_05_g_7.png  \n",
            "  inflating: hrf_512_512_dice_loss_hvr_0_3_feb_3/results/_05_dr_27.png  \n",
            "  inflating: hrf_512_512_dice_loss_hvr_0_3_feb_3/results/_12_g_1.png  \n",
            "  inflating: hrf_512_512_dice_loss_hvr_0_3_feb_3/results/_03_h_13.png  \n",
            "  inflating: hrf_512_512_dice_loss_hvr_0_3_feb_3/results/_11_dr_3.png  \n",
            "  inflating: hrf_512_512_dice_loss_hvr_0_3_feb_3/results/_02_g_19.png  \n",
            "  inflating: hrf_512_512_dice_loss_hvr_0_3_feb_3/results/_10_h_8.png  \n",
            "  inflating: hrf_512_512_dice_loss_hvr_0_3_feb_3/results/_15_h_15.png  \n",
            "  inflating: hrf_512_512_dice_loss_hvr_0_3_feb_3/results/_02_g_3.png  \n",
            "  inflating: hrf_512_512_dice_loss_hvr_0_3_feb_3/results/_03_h_4.png  \n",
            "  inflating: hrf_512_512_dice_loss_hvr_0_3_feb_3/results/_06_g_31.png  \n",
            "  inflating: hrf_512_512_dice_loss_hvr_0_3_feb_3/results/_06_g_4.png  \n",
            "  inflating: hrf_512_512_dice_loss_hvr_0_3_feb_3/results/_13_dr_16.png  \n",
            "  inflating: hrf_512_512_dice_loss_hvr_0_3_feb_3/results/_11_h_25.png  \n",
            "  inflating: hrf_512_512_dice_loss_hvr_0_3_feb_3/results/_02_g_16.png  \n",
            "  inflating: hrf_512_512_dice_loss_hvr_0_3_feb_3/results/_05_g_8.png  \n",
            "  inflating: hrf_512_512_dice_loss_hvr_0_3_feb_3/results/_11_h_24.png  \n",
            "  inflating: hrf_512_512_dice_loss_hvr_0_3_feb_3/results/_08_g_10.png  \n",
            "  inflating: hrf_512_512_dice_loss_hvr_0_3_feb_3/results/_05_dr_29.png  \n",
            "  inflating: hrf_512_512_dice_loss_hvr_0_3_feb_3/results/_08_g_26.png  \n",
            "  inflating: hrf_512_512_dice_loss_hvr_0_3_feb_3/results/_05_dr_28.png  \n",
            "  inflating: hrf_512_512_dice_loss_hvr_0_3_feb_3/results/_12_g_18.png  \n",
            "  inflating: hrf_512_512_dice_loss_hvr_0_3_feb_3/results/_11_dr_2.png  \n",
            "  inflating: hrf_512_512_dice_loss_hvr_0_3_feb_3/results/_08_dr_27.png  \n",
            "  inflating: hrf_512_512_dice_loss_hvr_0_3_feb_3/results/_10_h_10.png  \n",
            "  inflating: hrf_512_512_dice_loss_hvr_0_3_feb_3/results/_05_dr_2.png  \n",
            "  inflating: hrf_512_512_dice_loss_hvr_0_3_feb_3/results/_11_dr_5.png  \n",
            "  inflating: hrf_512_512_dice_loss_hvr_0_3_feb_3/results/_05_g_5.png  \n",
            "  inflating: hrf_512_512_dice_loss_hvr_0_3_feb_3/results/_10_h_31.png  \n",
            "  inflating: hrf_512_512_dice_loss_hvr_0_3_feb_3/results/_15_h_21.png  \n",
            "  inflating: hrf_512_512_dice_loss_hvr_0_3_feb_3/results/_13_dr_30.png  \n",
            "  inflating: hrf_512_512_dice_loss_hvr_0_3_feb_3/results/_08_dr_5.png  \n",
            "  inflating: hrf_512_512_dice_loss_hvr_0_3_feb_3/results/_10_h_25.png  \n",
            "  inflating: hrf_512_512_dice_loss_hvr_0_3_feb_3/results/_12_h_27.png  \n",
            "  inflating: hrf_512_512_dice_loss_hvr_0_3_feb_3/results/_08_dr_0.png  \n",
            "  inflating: hrf_512_512_dice_loss_hvr_0_3_feb_3/results/_05_dr_18.png  \n",
            "  inflating: hrf_512_512_dice_loss_hvr_0_3_feb_3/results/_06_g_17.png  \n",
            "  inflating: hrf_512_512_dice_loss_hvr_0_3_feb_3/results/_15_h_22.png  \n",
            "  inflating: hrf_512_512_dice_loss_hvr_0_3_feb_3/results/_13_dr_7.png  \n",
            "  inflating: hrf_512_512_dice_loss_hvr_0_3_feb_3/results/_05_g_9.png  \n",
            "  inflating: hrf_512_512_dice_loss_hvr_0_3_feb_3/results/_05_dr_10.png  \n",
            "  inflating: hrf_512_512_dice_loss_hvr_0_3_feb_3/results/_05_g_16.png  \n",
            "  inflating: hrf_512_512_dice_loss_hvr_0_3_feb_3/results/_13_dr_19.png  \n",
            "  inflating: hrf_512_512_dice_loss_hvr_0_3_feb_3/results/_15_h_30.png  \n",
            "  inflating: hrf_512_512_dice_loss_hvr_0_3_feb_3/results/_03_h_9.png  \n",
            "  inflating: hrf_512_512_dice_loss_hvr_0_3_feb_3/results/_08_dr_33.png  \n",
            "  inflating: hrf_512_512_dice_loss_hvr_0_3_feb_3/results/_15_h_12.png  \n",
            "  inflating: hrf_512_512_dice_loss_hvr_0_3_feb_3/results/_05_dr_21.png  \n",
            "  inflating: hrf_512_512_dice_loss_hvr_0_3_feb_3/results/_11_h_9.png  \n",
            "  inflating: hrf_512_512_dice_loss_hvr_0_3_feb_3/results/_12_h_10.png  \n",
            "  inflating: hrf_512_512_dice_loss_hvr_0_3_feb_3/results/_11_dr_27.png  \n",
            "  inflating: hrf_512_512_dice_loss_hvr_0_3_feb_3/results/_06_g_20.png  \n",
            "  inflating: hrf_512_512_dice_loss_hvr_0_3_feb_3/results/score.csv  \n",
            "  inflating: hrf_512_512_dice_loss_hvr_0_3_feb_3/results/_05_g_30.png  \n",
            "  inflating: hrf_512_512_dice_loss_hvr_0_3_feb_3/results/_12_h_22.png  \n",
            "  inflating: hrf_512_512_dice_loss_hvr_0_3_feb_3/results/_05_dr_9.png  \n",
            "  inflating: hrf_512_512_dice_loss_hvr_0_3_feb_3/results/_05_dr_30.png  \n",
            "  inflating: hrf_512_512_dice_loss_hvr_0_3_feb_3/results/_11_h_1.png  \n",
            "  inflating: hrf_512_512_dice_loss_hvr_0_3_feb_3/results/_11_h_10.png  \n",
            "  inflating: hrf_512_512_dice_loss_hvr_0_3_feb_3/results/_05_g_24.png  \n",
            "  inflating: hrf_512_512_dice_loss_hvr_0_3_feb_3/results/_02_g_7.png  \n",
            "  inflating: hrf_512_512_dice_loss_hvr_0_3_feb_3/results/_13_dr_28.png  \n",
            "  inflating: hrf_512_512_dice_loss_hvr_0_3_feb_3/results/_06_g_12.png  \n",
            "  inflating: hrf_512_512_dice_loss_hvr_0_3_feb_3/results/_15_h_31.png  \n",
            "  inflating: hrf_512_512_dice_loss_hvr_0_3_feb_3/results/_11_dr_31.png  \n",
            "  inflating: hrf_512_512_dice_loss_hvr_0_3_feb_3/results/_12_h_21.png  \n",
            "  inflating: hrf_512_512_dice_loss_hvr_0_3_feb_3/results/_10_h_6.png  \n",
            "  inflating: hrf_512_512_dice_loss_hvr_0_3_feb_3/results/_10_h_21.png  \n",
            "  inflating: hrf_512_512_dice_loss_hvr_0_3_feb_3/results/_11_dr_21.png  \n",
            "  inflating: hrf_512_512_dice_loss_hvr_0_3_feb_3/results/_08_g_12.png  \n",
            "  inflating: hrf_512_512_dice_loss_hvr_0_3_feb_3/results/_12_g_12.png  \n",
            "  inflating: hrf_512_512_dice_loss_hvr_0_3_feb_3/results/_12_h_15.png  \n",
            "  inflating: hrf_512_512_dice_loss_hvr_0_3_feb_3/results/_05_g_23.png  \n",
            "  inflating: hrf_512_512_dice_loss_hvr_0_3_feb_3/results/_11_h_34.png  \n",
            "  inflating: hrf_512_512_dice_loss_hvr_0_3_feb_3/results/_05_g_31.png  \n",
            "  inflating: hrf_512_512_dice_loss_hvr_0_3_feb_3/results/_08_dr_32.png  \n",
            "  inflating: hrf_512_512_dice_loss_hvr_0_3_feb_3/results/_12_h_6.png  \n",
            "  inflating: hrf_512_512_dice_loss_hvr_0_3_feb_3/results/_05_dr_24.png  \n",
            "  inflating: hrf_512_512_dice_loss_hvr_0_3_feb_3/results/_03_h_30.png  \n",
            "  inflating: hrf_512_512_dice_loss_hvr_0_3_feb_3/results/_11_h_15.png  \n",
            "  inflating: hrf_512_512_dice_loss_hvr_0_3_feb_3/results/_08_dr_28.png  \n",
            "  inflating: hrf_512_512_dice_loss_hvr_0_3_feb_3/results/_05_dr_17.png  \n",
            "  inflating: hrf_512_512_dice_loss_hvr_0_3_feb_3/results/_06_g_25.png  \n",
            "  inflating: hrf_512_512_dice_loss_hvr_0_3_feb_3/results/_05_g_21.png  \n",
            "  inflating: hrf_512_512_dice_loss_hvr_0_3_feb_3/results/_06_g_14.png  \n",
            "  inflating: hrf_512_512_dice_loss_hvr_0_3_feb_3/results/_11_h_23.png  \n",
            "  inflating: hrf_512_512_dice_loss_hvr_0_3_feb_3/results/_11_dr_16.png  \n",
            "  inflating: hrf_512_512_dice_loss_hvr_0_3_feb_3/results/_06_g_28.png  \n",
            "  inflating: hrf_512_512_dice_loss_hvr_0_3_feb_3/results/_11_dr_0.png  \n",
            "  inflating: hrf_512_512_dice_loss_hvr_0_3_feb_3/results/_06_g_13.png  \n",
            "  inflating: hrf_512_512_dice_loss_hvr_0_3_feb_3/results/_05_dr_19.png  \n",
            "  inflating: hrf_512_512_dice_loss_hvr_0_3_feb_3/results/_03_h_19.png  \n",
            "  inflating: hrf_512_512_dice_loss_hvr_0_3_feb_3/results/_13_dr_26.png  \n",
            "  inflating: hrf_512_512_dice_loss_hvr_0_3_feb_3/results/_13_dr_24.png  \n",
            "  inflating: hrf_512_512_dice_loss_hvr_0_3_feb_3/results/_12_h_9.png  \n",
            "  inflating: hrf_512_512_dice_loss_hvr_0_3_feb_3/results/_03_h_20.png  \n",
            "  inflating: hrf_512_512_dice_loss_hvr_0_3_feb_3/results/_12_g_2.png  \n",
            "  inflating: hrf_512_512_dice_loss_hvr_0_3_feb_3/results/_15_h_19.png  \n",
            "  inflating: hrf_512_512_dice_loss_hvr_0_3_feb_3/results/_08_g_19.png  \n",
            "  inflating: hrf_512_512_dice_loss_hvr_0_3_feb_3/results/_15_h_13.png  \n",
            "  inflating: hrf_512_512_dice_loss_hvr_0_3_feb_3/results/_05_g_34.png  \n",
            "  inflating: hrf_512_512_dice_loss_hvr_0_3_feb_3/results/_12_h_23.png  \n",
            "  inflating: hrf_512_512_dice_loss_hvr_0_3_feb_3/results/_11_h_32.png  \n",
            "  inflating: hrf_512_512_dice_loss_hvr_0_3_feb_3/results/_12_g_4.png  \n",
            "  inflating: hrf_512_512_dice_loss_hvr_0_3_feb_3/results/_12_g_6.png  \n",
            "  inflating: hrf_512_512_dice_loss_hvr_0_3_feb_3/results/_03_h_24.png  \n",
            "  inflating: hrf_512_512_dice_loss_hvr_0_3_feb_3/results/_12_g_29.png  \n",
            "  inflating: hrf_512_512_dice_loss_hvr_0_3_feb_3/results/_05_g_3.png  \n",
            "  inflating: hrf_512_512_dice_loss_hvr_0_3_feb_3/results/_15_h_20.png  \n",
            "  inflating: hrf_512_512_dice_loss_hvr_0_3_feb_3/results/_05_dr_25.png  \n",
            "  inflating: hrf_512_512_dice_loss_hvr_0_3_feb_3/results/_08_dr_7.png  \n",
            "  inflating: hrf_512_512_dice_loss_hvr_0_3_feb_3/results/_02_g_8.png  \n",
            "  inflating: hrf_512_512_dice_loss_hvr_0_3_feb_3/results/_02_g_20.png  \n",
            "  inflating: hrf_512_512_dice_loss_hvr_0_3_feb_3/results/_05_g_25.png  \n",
            "  inflating: hrf_512_512_dice_loss_hvr_0_3_feb_3/results/_05_dr_14.png  \n",
            "  inflating: hrf_512_512_dice_loss_hvr_0_3_feb_3/results/_06_g_21.png  \n",
            "  inflating: hrf_512_512_dice_loss_hvr_0_3_feb_3/results/_11_dr_10.png  \n",
            "  inflating: hrf_512_512_dice_loss_hvr_0_3_feb_3/results/_03_h_18.png  \n",
            "  inflating: hrf_512_512_dice_loss_hvr_0_3_feb_3/results/_11_h_8.png  \n",
            "  inflating: hrf_512_512_dice_loss_hvr_0_3_feb_3/results/_12_h_26.png  \n",
            "  inflating: hrf_512_512_dice_loss_hvr_0_3_feb_3/results/_05_g_1.png  \n",
            "  inflating: hrf_512_512_dice_loss_hvr_0_3_feb_3/results/_02_g_33.png  \n",
            "  inflating: hrf_512_512_dice_loss_hvr_0_3_feb_3/results/_06_g_16.png  \n",
            "  inflating: hrf_512_512_dice_loss_hvr_0_3_feb_3/results/_12_h_18.png  \n",
            "  inflating: hrf_512_512_dice_loss_hvr_0_3_feb_3/results/_12_g_21.png  \n",
            "   creating: hrf_512_512_dice_loss_hvr_0_3_feb_3/groundtruth/\n",
            "  inflating: hrf_512_512_dice_loss_hvr_0_3_feb_3/groundtruth/04_dr.tif  \n",
            "  inflating: hrf_512_512_dice_loss_hvr_0_3_feb_3/groundtruth/11_dr.tif  \n",
            "  inflating: hrf_512_512_dice_loss_hvr_0_3_feb_3/groundtruth/03_h.tif  \n",
            "  inflating: hrf_512_512_dice_loss_hvr_0_3_feb_3/groundtruth/15_h.tif  \n",
            "  inflating: hrf_512_512_dice_loss_hvr_0_3_feb_3/groundtruth/10_h.tif  \n",
            "  inflating: hrf_512_512_dice_loss_hvr_0_3_feb_3/groundtruth/15_g.tif  \n",
            "  inflating: hrf_512_512_dice_loss_hvr_0_3_feb_3/groundtruth/15_dr.tif  \n",
            "  inflating: hrf_512_512_dice_loss_hvr_0_3_feb_3/groundtruth/06_dr.tif  \n",
            "  inflating: hrf_512_512_dice_loss_hvr_0_3_feb_3/groundtruth/07_g.tif  \n",
            "  inflating: hrf_512_512_dice_loss_hvr_0_3_feb_3/groundtruth/09_g.tif  \n",
            "  inflating: hrf_512_512_dice_loss_hvr_0_3_feb_3/groundtruth/12_g.tif  \n",
            "  inflating: hrf_512_512_dice_loss_hvr_0_3_feb_3/groundtruth/08_dr.tif  \n",
            "  inflating: hrf_512_512_dice_loss_hvr_0_3_feb_3/groundtruth/10_g.tif  \n",
            "  inflating: hrf_512_512_dice_loss_hvr_0_3_feb_3/groundtruth/07_dr.tif  \n",
            "  inflating: hrf_512_512_dice_loss_hvr_0_3_feb_3/groundtruth/04_g.tif  \n",
            "  inflating: hrf_512_512_dice_loss_hvr_0_3_feb_3/groundtruth/13_g.tif  \n",
            "  inflating: hrf_512_512_dice_loss_hvr_0_3_feb_3/groundtruth/11_g.tif  \n",
            "  inflating: hrf_512_512_dice_loss_hvr_0_3_feb_3/groundtruth/14_g.tif  \n",
            "  inflating: hrf_512_512_dice_loss_hvr_0_3_feb_3/groundtruth/07_h.tif  \n",
            "  inflating: hrf_512_512_dice_loss_hvr_0_3_feb_3/groundtruth/12_dr.tif  \n",
            "  inflating: hrf_512_512_dice_loss_hvr_0_3_feb_3/groundtruth/05_g.tif  \n",
            "  inflating: hrf_512_512_dice_loss_hvr_0_3_feb_3/groundtruth/02_g.tif  \n",
            "  inflating: hrf_512_512_dice_loss_hvr_0_3_feb_3/groundtruth/09_dr.tif  \n",
            "  inflating: hrf_512_512_dice_loss_hvr_0_3_feb_3/groundtruth/01_h.tif  \n",
            "  inflating: hrf_512_512_dice_loss_hvr_0_3_feb_3/groundtruth/02_h.tif  \n",
            "  inflating: hrf_512_512_dice_loss_hvr_0_3_feb_3/groundtruth/11_h.tif  \n",
            "  inflating: hrf_512_512_dice_loss_hvr_0_3_feb_3/groundtruth/12_h.tif  \n",
            "  inflating: hrf_512_512_dice_loss_hvr_0_3_feb_3/groundtruth/02_dr.tif  \n",
            "  inflating: hrf_512_512_dice_loss_hvr_0_3_feb_3/groundtruth/05_dr.tif  \n",
            "  inflating: hrf_512_512_dice_loss_hvr_0_3_feb_3/groundtruth/09_h.tif  \n",
            "  inflating: hrf_512_512_dice_loss_hvr_0_3_feb_3/groundtruth/06_g.tif  \n",
            "  inflating: hrf_512_512_dice_loss_hvr_0_3_feb_3/groundtruth/01_dr.tif  \n",
            "  inflating: hrf_512_512_dice_loss_hvr_0_3_feb_3/groundtruth/04_h.tif  \n",
            "  inflating: hrf_512_512_dice_loss_hvr_0_3_feb_3/groundtruth/13_dr.tif  \n",
            "  inflating: hrf_512_512_dice_loss_hvr_0_3_feb_3/groundtruth/08_g.tif  \n",
            "  inflating: hrf_512_512_dice_loss_hvr_0_3_feb_3/groundtruth/01_g.tif  \n",
            "  inflating: hrf_512_512_dice_loss_hvr_0_3_feb_3/groundtruth/03_g.tif  \n",
            "  inflating: hrf_512_512_dice_loss_hvr_0_3_feb_3/groundtruth/14_dr.tif  \n",
            "  inflating: hrf_512_512_dice_loss_hvr_0_3_feb_3/groundtruth/14_h.tif  \n",
            "  inflating: hrf_512_512_dice_loss_hvr_0_3_feb_3/groundtruth/08_h.tif  \n",
            "  inflating: hrf_512_512_dice_loss_hvr_0_3_feb_3/groundtruth/06_h.tif  \n",
            "  inflating: hrf_512_512_dice_loss_hvr_0_3_feb_3/groundtruth/10_dr.tif  \n",
            "  inflating: hrf_512_512_dice_loss_hvr_0_3_feb_3/groundtruth/05_h.tif  \n",
            "  inflating: hrf_512_512_dice_loss_hvr_0_3_feb_3/groundtruth/13_h.tif  \n",
            "  inflating: hrf_512_512_dice_loss_hvr_0_3_feb_3/groundtruth/03_dr.tif  \n"
          ]
        }
      ],
      "source": [
        "!unzip /content/gdrive/MyDrive/Blood_Vessel_Results/hrf_patches/hrf_512_512_dice_loss_hvr_0_3_feb_3.zip"
      ]
    },
    {
      "cell_type": "code",
      "execution_count": null,
      "metadata": {
        "colab": {
          "base_uri": "https://localhost:8080/"
        },
        "id": "O4zc00ZY8F6j",
        "outputId": "896e7d3e-2880-4a03-bcb9-a5156bcca7d5"
      },
      "outputs": [
        {
          "output_type": "stream",
          "name": "stdout",
          "text": [
            "/content/datasets\n"
          ]
        }
      ],
      "source": [
        "!pwd"
      ]
    },
    {
      "cell_type": "code",
      "execution_count": null,
      "metadata": {
        "id": "dqSNXSNgPTyF"
      },
      "outputs": [],
      "source": [
        "# Create patches dictionary\n",
        "def create_patches_dictionary(prediction_np_path:str):\n",
        "    predicted_patches_dict = dict()\n",
        "    for file in glob(f\"{prediction_np_path}/*.npy\"):\n",
        "        patch = np.load(file)\n",
        "        fname_without_ext = file.rsplit(\"/\", 1)[1].rsplit(\".\", 1)[0]\n",
        "        fname_without_ext = fname_without_ext[1:]\n",
        "        patch_number = int(fname_without_ext.rsplit(\"_\", 1)[1])\n",
        "        image_file = fname_without_ext.rsplit(\"_\", 1)[0]\n",
        "\n",
        "        if image_file in predicted_patches_dict.keys():\n",
        "            predicted_patches_dict[image_file][patch_number] = patch\n",
        "        else:\n",
        "            print(\"Creating a new patch list \")\n",
        "            patches = [None] * 140\n",
        "            patches[patch_number] = patch\n",
        "            predicted_patches_dict[image_file] = patches\n",
        "    return predicted_patches_dict"
      ]
    },
    {
      "cell_type": "code",
      "source": [
        "root_path = \"/content/datasets/hrf_512_512_dice_loss_hvr_0_3_feb_3/\""
      ],
      "metadata": {
        "id": "9D1HmbK1LSd6"
      },
      "execution_count": null,
      "outputs": []
    },
    {
      "cell_type": "code",
      "execution_count": null,
      "metadata": {
        "colab": {
          "base_uri": "https://localhost:8080/"
        },
        "id": "UsyjFR-D8GFt",
        "outputId": "cd8c1855-8073-4293-f069-fd29b529e6d2"
      },
      "outputs": [
        {
          "output_type": "stream",
          "name": "stdout",
          "text": [
            "/content/datasets/hrf_512_512_dice_loss_hvr_0_3_feb_3\n"
          ]
        }
      ],
      "source": [
        "%cd {root_path}"
      ]
    },
    {
      "cell_type": "code",
      "execution_count": null,
      "metadata": {
        "colab": {
          "base_uri": "https://localhost:8080/"
        },
        "id": "_13yXQx3rcNz",
        "outputId": "691eee6d-2e92-4b4c-9b13-94022203f759"
      },
      "outputs": [
        {
          "output_type": "stream",
          "name": "stdout",
          "text": [
            "augmented    images\t  predictions_np  results_reconstructed  trained_models\n",
            "groundtruth  predictions  results\t  split_2\n"
          ]
        }
      ],
      "source": [
        "!ls"
      ]
    },
    {
      "cell_type": "code",
      "source": [
        "import pandas as pd\n"
      ],
      "metadata": {
        "id": "ouANXZWmq8n9"
      },
      "execution_count": null,
      "outputs": []
    },
    {
      "cell_type": "code",
      "source": [
        "!pwd"
      ],
      "metadata": {
        "colab": {
          "base_uri": "https://localhost:8080/"
        },
        "id": "AuhdIwx3KoKE",
        "outputId": "025d0f06-0820-48a4-d080-9617306ba3bc"
      },
      "execution_count": null,
      "outputs": [
        {
          "output_type": "stream",
          "name": "stdout",
          "text": [
            "/content/datasets/hrf_512_512_dice_loss_hvr_0_3_feb_3\n"
          ]
        }
      ]
    },
    {
      "cell_type": "code",
      "source": [
        "scores_df = pd.read_csv(f\"results_reconstructed/score_full.csv\")"
      ],
      "metadata": {
        "id": "aoHIBdTyqQgz"
      },
      "execution_count": null,
      "outputs": []
    },
    {
      "cell_type": "code",
      "source": [
        "scores_df.mean()"
      ],
      "metadata": {
        "colab": {
          "base_uri": "https://localhost:8080/"
        },
        "id": "30Vwbewkq6Sk",
        "outputId": "007f08e6-7f61-4b1c-e178-df0387721276"
      },
      "execution_count": null,
      "outputs": [
        {
          "output_type": "stream",
          "name": "stderr",
          "text": [
            "/usr/local/lib/python3.7/dist-packages/ipykernel_launcher.py:1: FutureWarning: Dropping of nuisance columns in DataFrame reductions (with 'numeric_only=None') is deprecated; in a future version this will raise TypeError.  Select only valid columns before calling the reduction.\n",
            "  \"\"\"Entry point for launching an IPython kernel.\n"
          ]
        },
        {
          "output_type": "execute_result",
          "data": {
            "text/plain": [
              "Unnamed: 0    6.500000\n",
              "Acc           0.975091\n",
              "F1            0.822570\n",
              "Jaccard       0.699562\n",
              "Recall        0.827475\n",
              "Precision     0.823881\n",
              "AUC           0.919179\n",
              "dtype: float64"
            ]
          },
          "metadata": {},
          "execution_count": 42
        }
      ]
    },
    {
      "cell_type": "code",
      "source": [
        "!ls trained_models"
      ],
      "metadata": {
        "colab": {
          "base_uri": "https://localhost:8080/"
        },
        "id": "W6QFfQgvtCL5",
        "outputId": "e79a3e60-d2e0-4c74-f354-ec2050055369"
      },
      "execution_count": null,
      "outputs": [
        {
          "output_type": "stream",
          "name": "stdout",
          "text": [
            "data.csv  model.h5\n"
          ]
        }
      ]
    },
    {
      "cell_type": "code",
      "execution_count": null,
      "metadata": {
        "colab": {
          "base_uri": "https://localhost:8080/",
          "height": 206
        },
        "id": "eGMKnm-_HG4G",
        "outputId": "327617c8-d71c-48ab-c3ea-a724dea42cdc"
      },
      "outputs": [
        {
          "output_type": "execute_result",
          "data": {
            "text/html": [
              "\n",
              "  <div id=\"df-8f67c701-5f1e-429f-a9f2-b6d40dce5832\">\n",
              "    <div class=\"colab-df-container\">\n",
              "      <div>\n",
              "<style scoped>\n",
              "    .dataframe tbody tr th:only-of-type {\n",
              "        vertical-align: middle;\n",
              "    }\n",
              "\n",
              "    .dataframe tbody tr th {\n",
              "        vertical-align: top;\n",
              "    }\n",
              "\n",
              "    .dataframe thead th {\n",
              "        text-align: right;\n",
              "    }\n",
              "</style>\n",
              "<table border=\"1\" class=\"dataframe\">\n",
              "  <thead>\n",
              "    <tr style=\"text-align: right;\">\n",
              "      <th></th>\n",
              "      <th>epoch</th>\n",
              "      <th>auc</th>\n",
              "      <th>dice_coef</th>\n",
              "      <th>iou</th>\n",
              "      <th>loss</th>\n",
              "      <th>lr</th>\n",
              "      <th>precision</th>\n",
              "      <th>recall</th>\n",
              "      <th>val_auc</th>\n",
              "      <th>val_dice_coef</th>\n",
              "      <th>val_iou</th>\n",
              "      <th>val_loss</th>\n",
              "      <th>val_precision</th>\n",
              "      <th>val_recall</th>\n",
              "    </tr>\n",
              "  </thead>\n",
              "  <tbody>\n",
              "    <tr>\n",
              "      <th>0</th>\n",
              "      <td>0</td>\n",
              "      <td>0.936999</td>\n",
              "      <td>0.582726</td>\n",
              "      <td>0.421921</td>\n",
              "      <td>0.417244</td>\n",
              "      <td>0.0001</td>\n",
              "      <td>0.568627</td>\n",
              "      <td>0.815696</td>\n",
              "      <td>0.915969</td>\n",
              "      <td>0.653754</td>\n",
              "      <td>0.489486</td>\n",
              "      <td>0.347554</td>\n",
              "      <td>0.832863</td>\n",
              "      <td>0.701500</td>\n",
              "    </tr>\n",
              "    <tr>\n",
              "      <th>1</th>\n",
              "      <td>1</td>\n",
              "      <td>0.947425</td>\n",
              "      <td>0.738846</td>\n",
              "      <td>0.587964</td>\n",
              "      <td>0.261059</td>\n",
              "      <td>0.0001</td>\n",
              "      <td>0.770279</td>\n",
              "      <td>0.820870</td>\n",
              "      <td>0.911679</td>\n",
              "      <td>0.333604</td>\n",
              "      <td>0.202742</td>\n",
              "      <td>0.668923</td>\n",
              "      <td>0.195333</td>\n",
              "      <td>0.979304</td>\n",
              "    </tr>\n",
              "    <tr>\n",
              "      <th>2</th>\n",
              "      <td>2</td>\n",
              "      <td>0.945647</td>\n",
              "      <td>0.776336</td>\n",
              "      <td>0.635948</td>\n",
              "      <td>0.223575</td>\n",
              "      <td>0.0001</td>\n",
              "      <td>0.788698</td>\n",
              "      <td>0.818481</td>\n",
              "      <td>0.924169</td>\n",
              "      <td>0.774624</td>\n",
              "      <td>0.634806</td>\n",
              "      <td>0.226355</td>\n",
              "      <td>0.847180</td>\n",
              "      <td>0.755440</td>\n",
              "    </tr>\n",
              "    <tr>\n",
              "      <th>3</th>\n",
              "      <td>3</td>\n",
              "      <td>0.937810</td>\n",
              "      <td>0.792801</td>\n",
              "      <td>0.658030</td>\n",
              "      <td>0.207107</td>\n",
              "      <td>0.0001</td>\n",
              "      <td>0.796272</td>\n",
              "      <td>0.821561</td>\n",
              "      <td>0.937182</td>\n",
              "      <td>0.804504</td>\n",
              "      <td>0.674957</td>\n",
              "      <td>0.196213</td>\n",
              "      <td>0.826227</td>\n",
              "      <td>0.814807</td>\n",
              "    </tr>\n",
              "    <tr>\n",
              "      <th>4</th>\n",
              "      <td>4</td>\n",
              "      <td>0.931955</td>\n",
              "      <td>0.801684</td>\n",
              "      <td>0.670218</td>\n",
              "      <td>0.198230</td>\n",
              "      <td>0.0001</td>\n",
              "      <td>0.801457</td>\n",
              "      <td>0.823785</td>\n",
              "      <td>0.914754</td>\n",
              "      <td>0.805297</td>\n",
              "      <td>0.676338</td>\n",
              "      <td>0.195171</td>\n",
              "      <td>0.846120</td>\n",
              "      <td>0.787289</td>\n",
              "    </tr>\n",
              "  </tbody>\n",
              "</table>\n",
              "</div>\n",
              "      <button class=\"colab-df-convert\" onclick=\"convertToInteractive('df-8f67c701-5f1e-429f-a9f2-b6d40dce5832')\"\n",
              "              title=\"Convert this dataframe to an interactive table.\"\n",
              "              style=\"display:none;\">\n",
              "        \n",
              "  <svg xmlns=\"http://www.w3.org/2000/svg\" height=\"24px\"viewBox=\"0 0 24 24\"\n",
              "       width=\"24px\">\n",
              "    <path d=\"M0 0h24v24H0V0z\" fill=\"none\"/>\n",
              "    <path d=\"M18.56 5.44l.94 2.06.94-2.06 2.06-.94-2.06-.94-.94-2.06-.94 2.06-2.06.94zm-11 1L8.5 8.5l.94-2.06 2.06-.94-2.06-.94L8.5 2.5l-.94 2.06-2.06.94zm10 10l.94 2.06.94-2.06 2.06-.94-2.06-.94-.94-2.06-.94 2.06-2.06.94z\"/><path d=\"M17.41 7.96l-1.37-1.37c-.4-.4-.92-.59-1.43-.59-.52 0-1.04.2-1.43.59L10.3 9.45l-7.72 7.72c-.78.78-.78 2.05 0 2.83L4 21.41c.39.39.9.59 1.41.59.51 0 1.02-.2 1.41-.59l7.78-7.78 2.81-2.81c.8-.78.8-2.07 0-2.86zM5.41 20L4 18.59l7.72-7.72 1.47 1.35L5.41 20z\"/>\n",
              "  </svg>\n",
              "      </button>\n",
              "      \n",
              "  <style>\n",
              "    .colab-df-container {\n",
              "      display:flex;\n",
              "      flex-wrap:wrap;\n",
              "      gap: 12px;\n",
              "    }\n",
              "\n",
              "    .colab-df-convert {\n",
              "      background-color: #E8F0FE;\n",
              "      border: none;\n",
              "      border-radius: 50%;\n",
              "      cursor: pointer;\n",
              "      display: none;\n",
              "      fill: #1967D2;\n",
              "      height: 32px;\n",
              "      padding: 0 0 0 0;\n",
              "      width: 32px;\n",
              "    }\n",
              "\n",
              "    .colab-df-convert:hover {\n",
              "      background-color: #E2EBFA;\n",
              "      box-shadow: 0px 1px 2px rgba(60, 64, 67, 0.3), 0px 1px 3px 1px rgba(60, 64, 67, 0.15);\n",
              "      fill: #174EA6;\n",
              "    }\n",
              "\n",
              "    [theme=dark] .colab-df-convert {\n",
              "      background-color: #3B4455;\n",
              "      fill: #D2E3FC;\n",
              "    }\n",
              "\n",
              "    [theme=dark] .colab-df-convert:hover {\n",
              "      background-color: #434B5C;\n",
              "      box-shadow: 0px 1px 3px 1px rgba(0, 0, 0, 0.15);\n",
              "      filter: drop-shadow(0px 1px 2px rgba(0, 0, 0, 0.3));\n",
              "      fill: #FFFFFF;\n",
              "    }\n",
              "  </style>\n",
              "\n",
              "      <script>\n",
              "        const buttonEl =\n",
              "          document.querySelector('#df-8f67c701-5f1e-429f-a9f2-b6d40dce5832 button.colab-df-convert');\n",
              "        buttonEl.style.display =\n",
              "          google.colab.kernel.accessAllowed ? 'block' : 'none';\n",
              "\n",
              "        async function convertToInteractive(key) {\n",
              "          const element = document.querySelector('#df-8f67c701-5f1e-429f-a9f2-b6d40dce5832');\n",
              "          const dataTable =\n",
              "            await google.colab.kernel.invokeFunction('convertToInteractive',\n",
              "                                                     [key], {});\n",
              "          if (!dataTable) return;\n",
              "\n",
              "          const docLinkHtml = 'Like what you see? Visit the ' +\n",
              "            '<a target=\"_blank\" href=https://colab.research.google.com/notebooks/data_table.ipynb>data table notebook</a>'\n",
              "            + ' to learn more about interactive tables.';\n",
              "          element.innerHTML = '';\n",
              "          dataTable['output_type'] = 'display_data';\n",
              "          await google.colab.output.renderOutput(dataTable, element);\n",
              "          const docLink = document.createElement('div');\n",
              "          docLink.innerHTML = docLinkHtml;\n",
              "          element.appendChild(docLink);\n",
              "        }\n",
              "      </script>\n",
              "    </div>\n",
              "  </div>\n",
              "  "
            ],
            "text/plain": [
              "   epoch       auc  dice_coef  ...  val_loss  val_precision  val_recall\n",
              "0      0  0.936999   0.582726  ...  0.347554       0.832863    0.701500\n",
              "1      1  0.947425   0.738846  ...  0.668923       0.195333    0.979304\n",
              "2      2  0.945647   0.776336  ...  0.226355       0.847180    0.755440\n",
              "3      3  0.937810   0.792801  ...  0.196213       0.826227    0.814807\n",
              "4      4  0.931955   0.801684  ...  0.195171       0.846120    0.787289\n",
              "\n",
              "[5 rows x 14 columns]"
            ]
          },
          "metadata": {},
          "execution_count": 44
        }
      ],
      "source": [
        "history_df = pd.read_csv(f\"trained_models/data.csv\")\n",
        "history_df.head()"
      ]
    },
    {
      "cell_type": "code",
      "execution_count": null,
      "metadata": {
        "id": "hqM8PqwGHCD7",
        "colab": {
          "base_uri": "https://localhost:8080/",
          "height": 514
        },
        "outputId": "d6607b9c-8cb2-408e-a208-3ae51a09b242"
      },
      "outputs": [
        {
          "output_type": "execute_result",
          "data": {
            "text/plain": [
              "Text(0.5, 0, 'Epochs')"
            ]
          },
          "metadata": {},
          "execution_count": 45
        },
        {
          "output_type": "display_data",
          "data": {
            "image/png": "[encoded data removed]",
            "text/plain": [
              "<Figure size 1440x576 with 1 Axes>"
            ]
          },
          "metadata": {
            "needs_background": "light"
          }
        }
      ],
      "source": [
        "plt.figure(figsize=(20, 8))\n",
        "plt.plot(history_df.loss)\n",
        "plt.plot(history_df.val_loss)\n",
        "plt.plot(history_df.val_dice_coef)\n",
        "plt.legend([\"train_loss\", \"val_loss\"])\n",
        "plt.grid(\"both\")\n",
        "plt.xlabel(\"Epochs\")\n"
      ]
    },
    {
      "cell_type": "code",
      "execution_count": null,
      "metadata": {
        "id": "xmYIf-E-IOX2"
      },
      "outputs": [],
      "source": [
        "H = 512\n",
        "W = 512\n",
        "\n",
        "def read_image(path):\n",
        "    x = cv2.imread(path, cv2.IMREAD_COLOR)\n",
        "    # x = cv2.resize(x, (W, H))\n",
        "    ori_x = x\n",
        "    x = x/255.0\n",
        "    x = x.astype(np.float32)\n",
        "    return ori_x, x\n",
        "\n",
        "def read_mask(path):\n",
        "    x = cv2.imread(path, cv2.IMREAD_GRAYSCALE)  ## (512, 512)\n",
        "    # x = cv2.resize(x, (W, H))\n",
        "    ori_x = x\n",
        "    x = x/255.0\n",
        "#    x = x.astype(np.int32)\n",
        "    return ori_x, x\n",
        "\n",
        "def load_data(path):\n",
        "    x = sorted(glob(os.path.join(path, \"image\", \"*.png\")))\n",
        "    y = sorted(glob(os.path.join(path, \"mask\", \"*.png\")))\n",
        "    return x, y\n",
        "\n",
        "def save_results(ori_x, ori_y, y_pred, save_image_path):\n",
        "    line = np.ones((ori_x.shape[0], 10, 3)) * 255\n",
        "\n",
        "    ori_y = np.expand_dims(ori_y, axis=-1)\n",
        "    ori_y = np.concatenate([ori_y, ori_y, ori_y], axis=-1)\n",
        "\n",
        "    y_pred = np.expand_dims(y_pred, axis=-1)\n",
        "    y_pred = np.concatenate([y_pred, y_pred, y_pred], axis=-1) * 255\n",
        "    print(ori_x.shape, line.shape, ori_y.shape, line.shape, y_pred.shape)\n",
        "\n",
        "    cat_images = np.concatenate([ori_x, line, ori_y, line, y_pred], axis=1)\n",
        "    cv2.imwrite(save_image_path, cat_images)"
      ]
    },
    {
      "cell_type": "code",
      "source": [
        "!ls"
      ],
      "metadata": {
        "colab": {
          "base_uri": "https://localhost:8080/"
        },
        "id": "JoFCay8O1BKM",
        "outputId": "aa30cec2-6563-455a-e679-aa6829fb3c32"
      },
      "execution_count": null,
      "outputs": [
        {
          "output_type": "stream",
          "name": "stdout",
          "text": [
            "augmented    images\t  predictions_np  results_reconstructed  trained_models\n",
            "groundtruth  predictions  results\t  split_2\n"
          ]
        }
      ]
    },
    {
      "cell_type": "code",
      "source": [
        "split_name = \"split_2\""
      ],
      "metadata": {
        "id": "4IXt3tGe1YMO"
      },
      "execution_count": null,
      "outputs": []
    },
    {
      "cell_type": "code",
      "source": [
        "smooth = 1e-15\n",
        "def dice_coef(y_true, y_pred):\n",
        "    y_true = tf.keras.layers.Flatten()(y_true)\n",
        "    y_pred = tf.keras.layers.Flatten()(y_pred)\n",
        "    intersection = tf.reduce_sum(y_true * y_pred)\n",
        "    return (2. * intersection + smooth) / (tf.reduce_sum(y_true) + tf.reduce_sum(y_pred) + smooth)"
      ],
      "metadata": {
        "id": "k0SxUgYHLzF1"
      },
      "execution_count": null,
      "outputs": []
    },
    {
      "cell_type": "code",
      "execution_count": null,
      "metadata": {
        "colab": {
          "base_uri": "https://localhost:8080/"
        },
        "id": "4TaqtBB8A2pj",
        "outputId": "d67cd18a-b93a-46de-87d5-eab4adb108d5"
      },
      "outputs": [
        {
          "output_type": "stream",
          "name": "stdout",
          "text": [
            "Model dir /content/datasets/hrf_512_512_dice_loss_hvr_0_3_feb_3//trained_models/\n",
            "Number of images in split test : 490 \n",
            "Threshold 0.5\n"
          ]
        },
        {
          "output_type": "stream",
          "name": "stderr",
          "text": [
            "\r  0%|          | 0/490 [00:00<?, ?it/s]"
          ]
        },
        {
          "output_type": "stream",
          "name": "stdout",
          "text": [
            "_02_g_0\n",
            "(512, 512, 1) 1.0 2.7056296e-06\n",
            "(512, 512, 3) (512, 512) (512, 512)\n",
            "(512, 512, 3) (512, 10, 3) (512, 512, 3) (512, 10, 3) (512, 512, 3)\n"
          ]
        },
        {
          "output_type": "stream",
          "name": "stderr",
          "text": [
            "\r  0%|          | 1/490 [00:00<06:39,  1.22it/s]"
          ]
        },
        {
          "output_type": "stream",
          "name": "stdout",
          "text": [
            "_02_g_1\n",
            "(512, 512, 1) 1.0 1.914536e-07\n",
            "(512, 512, 3) (512, 512) (512, 512)\n",
            "(512, 512, 3) (512, 10, 3) (512, 512, 3) (512, 10, 3) (512, 512, 3)\n"
          ]
        },
        {
          "output_type": "stream",
          "name": "stderr",
          "text": [
            "\r  0%|          | 2/490 [00:01<05:07,  1.59it/s]"
          ]
        },
        {
          "output_type": "stream",
          "name": "stdout",
          "text": [
            "_02_g_10\n",
            "(512, 512, 1) 1.0 8.456697e-07\n",
            "(512, 512, 3) (512, 512) (512, 512)\n",
            "(512, 512, 3) (512, 10, 3) (512, 512, 3) (512, 10, 3) (512, 512, 3)\n"
          ]
        },
        {
          "output_type": "stream",
          "name": "stderr",
          "text": [
            "\r  1%|          | 3/490 [00:01<04:38,  1.75it/s]"
          ]
        },
        {
          "output_type": "stream",
          "name": "stdout",
          "text": [
            "_02_g_11\n",
            "(512, 512, 1) 1.0 2.633566e-07\n",
            "(512, 512, 3) (512, 512) (512, 512)\n",
            "(512, 512, 3) (512, 10, 3) (512, 512, 3) (512, 10, 3) (512, 512, 3)\n"
          ]
        },
        {
          "output_type": "stream",
          "name": "stderr",
          "text": [
            "\r  1%|          | 4/490 [00:02<04:25,  1.83it/s]"
          ]
        },
        {
          "output_type": "stream",
          "name": "stdout",
          "text": [
            "_02_g_12\n",
            "(512, 512, 1) 1.0 5.466589e-07\n",
            "(512, 512, 3) (512, 512) (512, 512)\n",
            "(512, 512, 3) (512, 10, 3) (512, 512, 3) (512, 10, 3) (512, 512, 3)\n"
          ]
        },
        {
          "output_type": "stream",
          "name": "stderr",
          "text": [
            "\r  1%|          | 5/490 [00:02<04:18,  1.88it/s]"
          ]
        },
        {
          "output_type": "stream",
          "name": "stdout",
          "text": [
            "_02_g_13\n",
            "(512, 512, 1) 1.0 6.888694e-07\n",
            "(512, 512, 3) (512, 512) (512, 512)\n",
            "(512, 512, 3) (512, 10, 3) (512, 512, 3) (512, 10, 3) (512, 512, 3)\n"
          ]
        },
        {
          "output_type": "stream",
          "name": "stderr",
          "text": [
            "\r  1%|          | 6/490 [00:03<04:13,  1.91it/s]"
          ]
        },
        {
          "output_type": "stream",
          "name": "stdout",
          "text": [
            "_02_g_14\n",
            "(512, 512, 1) 1.0 6.8205594e-07\n",
            "(512, 512, 3) (512, 512) (512, 512)\n",
            "(512, 512, 3) (512, 10, 3) (512, 512, 3) (512, 10, 3) (512, 512, 3)\n"
          ]
        },
        {
          "output_type": "stream",
          "name": "stderr",
          "text": [
            "\r  1%|▏         | 7/490 [00:03<04:11,  1.92it/s]"
          ]
        },
        {
          "output_type": "stream",
          "name": "stdout",
          "text": [
            "_02_g_15\n",
            "(512, 512, 1) 1.0 1.9231108e-07\n",
            "(512, 512, 3) (512, 512) (512, 512)\n",
            "(512, 512, 3) (512, 10, 3) (512, 512, 3) (512, 10, 3) (512, 512, 3)\n"
          ]
        },
        {
          "output_type": "stream",
          "name": "stderr",
          "text": [
            "\r  2%|▏         | 8/490 [00:04<04:12,  1.91it/s]"
          ]
        },
        {
          "output_type": "stream",
          "name": "stdout",
          "text": [
            "_02_g_16\n",
            "(512, 512, 1) 1.0 9.313808e-07\n",
            "(512, 512, 3) (512, 512) (512, 512)\n",
            "(512, 512, 3) (512, 10, 3) (512, 512, 3) (512, 10, 3) (512, 512, 3)\n"
          ]
        },
        {
          "output_type": "stream",
          "name": "stderr",
          "text": [
            "\r  2%|▏         | 9/490 [00:04<04:06,  1.95it/s]"
          ]
        },
        {
          "output_type": "stream",
          "name": "stdout",
          "text": [
            "_02_g_17\n",
            "(512, 512, 1) 1.0 1.4906341e-06\n",
            "(512, 512, 3) (512, 512) (512, 512)\n",
            "(512, 512, 3) (512, 10, 3) (512, 512, 3) (512, 10, 3) (512, 512, 3)\n"
          ]
        },
        {
          "output_type": "stream",
          "name": "stderr",
          "text": [
            "\r  2%|▏         | 10/490 [00:05<04:04,  1.96it/s]"
          ]
        },
        {
          "output_type": "stream",
          "name": "stdout",
          "text": [
            "_02_g_18\n",
            "(512, 512, 1) 1.0 6.3653533e-07\n",
            "(512, 512, 3) (512, 512) (512, 512)\n",
            "(512, 512, 3) (512, 10, 3) (512, 512, 3) (512, 10, 3) (512, 512, 3)\n"
          ]
        },
        {
          "output_type": "stream",
          "name": "stderr",
          "text": [
            "\r  2%|▏         | 11/490 [00:05<04:04,  1.96it/s]"
          ]
        },
        {
          "output_type": "stream",
          "name": "stdout",
          "text": [
            "_02_g_19\n",
            "(512, 512, 1) 1.0 4.2712682e-07\n",
            "(512, 512, 3) (512, 512) (512, 512)\n",
            "(512, 512, 3) (512, 10, 3) (512, 512, 3) (512, 10, 3) (512, 512, 3)\n"
          ]
        },
        {
          "output_type": "stream",
          "name": "stderr",
          "text": [
            "\r  2%|▏         | 12/490 [00:06<04:07,  1.93it/s]"
          ]
        },
        {
          "output_type": "stream",
          "name": "stdout",
          "text": [
            "_02_g_2\n",
            "(512, 512, 1) 1.0 5.137722e-07\n",
            "(512, 512, 3) (512, 512) (512, 512)\n",
            "(512, 512, 3) (512, 10, 3) (512, 512, 3) (512, 10, 3) (512, 512, 3)\n"
          ]
        },
        {
          "output_type": "stream",
          "name": "stderr",
          "text": [
            "\r  3%|▎         | 13/490 [00:06<04:04,  1.95it/s]"
          ]
        },
        {
          "output_type": "stream",
          "name": "stdout",
          "text": [
            "_02_g_20\n",
            "(512, 512, 1) 1.0 4.810768e-07\n",
            "(512, 512, 3) (512, 512) (512, 512)\n",
            "(512, 512, 3) (512, 10, 3) (512, 512, 3) (512, 10, 3) (512, 512, 3)\n"
          ]
        },
        {
          "output_type": "stream",
          "name": "stderr",
          "text": [
            "\r  3%|▎         | 14/490 [00:07<04:05,  1.94it/s]"
          ]
        },
        {
          "output_type": "stream",
          "name": "stdout",
          "text": [
            "_02_g_21\n",
            "(512, 512, 1) 1.0 2.4965757e-06\n",
            "(512, 512, 3) (512, 512) (512, 512)\n",
            "(512, 512, 3) (512, 10, 3) (512, 512, 3) (512, 10, 3) (512, 512, 3)\n"
          ]
        },
        {
          "output_type": "stream",
          "name": "stderr",
          "text": [
            "\r  3%|▎         | 15/490 [00:07<04:07,  1.92it/s]"
          ]
        },
        {
          "output_type": "stream",
          "name": "stdout",
          "text": [
            "_02_g_22\n",
            "(512, 512, 1) 1.0 5.0355203e-07\n",
            "(512, 512, 3) (512, 512) (512, 512)\n",
            "(512, 512, 3) (512, 10, 3) (512, 512, 3) (512, 10, 3) (512, 512, 3)\n"
          ]
        },
        {
          "output_type": "stream",
          "name": "stderr",
          "text": [
            "\r  3%|▎         | 16/490 [00:08<04:05,  1.93it/s]"
          ]
        },
        {
          "output_type": "stream",
          "name": "stdout",
          "text": [
            "_02_g_23\n",
            "(512, 512, 1) 1.0 8.623802e-07\n",
            "(512, 512, 3) (512, 512) (512, 512)\n",
            "(512, 512, 3) (512, 10, 3) (512, 512, 3) (512, 10, 3) (512, 512, 3)\n"
          ]
        },
        {
          "output_type": "stream",
          "name": "stderr",
          "text": [
            "\r  3%|▎         | 17/490 [00:09<04:05,  1.93it/s]"
          ]
        },
        {
          "output_type": "stream",
          "name": "stdout",
          "text": [
            "_02_g_24\n",
            "(512, 512, 1) 1.0 8.6805716e-07\n",
            "(512, 512, 3) (512, 512) (512, 512)\n",
            "(512, 512, 3) (512, 10, 3) (512, 512, 3) (512, 10, 3) (512, 512, 3)\n"
          ]
        },
        {
          "output_type": "stream",
          "name": "stderr",
          "text": [
            "\r  4%|▎         | 18/490 [00:09<04:02,  1.94it/s]"
          ]
        },
        {
          "output_type": "stream",
          "name": "stdout",
          "text": [
            "_02_g_25\n",
            "(512, 512, 1) 1.0 5.793952e-07\n",
            "(512, 512, 3) (512, 512) (512, 512)\n",
            "(512, 512, 3) (512, 10, 3) (512, 512, 3) (512, 10, 3) (512, 512, 3)\n"
          ]
        },
        {
          "output_type": "stream",
          "name": "stderr",
          "text": [
            "\r  4%|▍         | 19/490 [00:10<04:04,  1.92it/s]"
          ]
        },
        {
          "output_type": "stream",
          "name": "stdout",
          "text": [
            "_02_g_26\n",
            "(512, 512, 1) 1.0 5.759465e-07\n",
            "(512, 512, 3) (512, 512) (512, 512)\n",
            "(512, 512, 3) (512, 10, 3) (512, 512, 3) (512, 10, 3) (512, 512, 3)\n"
          ]
        },
        {
          "output_type": "stream",
          "name": "stderr",
          "text": [
            "\r  4%|▍         | 20/490 [00:10<04:09,  1.89it/s]"
          ]
        },
        {
          "output_type": "stream",
          "name": "stdout",
          "text": [
            "_02_g_27\n",
            "(512, 512, 1) 1.0 3.9536505e-07\n",
            "(512, 512, 3) (512, 512) (512, 512)\n",
            "(512, 512, 3) (512, 10, 3) (512, 512, 3) (512, 10, 3) (512, 512, 3)\n"
          ]
        },
        {
          "output_type": "stream",
          "name": "stderr",
          "text": [
            "\r  4%|▍         | 21/490 [00:11<04:07,  1.90it/s]"
          ]
        },
        {
          "output_type": "stream",
          "name": "stdout",
          "text": [
            "_02_g_28\n",
            "(512, 512, 1) 1.0 3.6671179e-06\n",
            "(512, 512, 3) (512, 512) (512, 512)\n",
            "(512, 512, 3) (512, 10, 3) (512, 512, 3) (512, 10, 3) (512, 512, 3)\n"
          ]
        },
        {
          "output_type": "stream",
          "name": "stderr",
          "text": [
            "\r  4%|▍         | 22/490 [00:11<04:01,  1.94it/s]"
          ]
        },
        {
          "output_type": "stream",
          "name": "stdout",
          "text": [
            "_02_g_29\n",
            "(512, 512, 1) 1.0 2.3070265e-07\n",
            "(512, 512, 3) (512, 512) (512, 512)\n",
            "(512, 512, 3) (512, 10, 3) (512, 512, 3) (512, 10, 3) (512, 512, 3)\n"
          ]
        },
        {
          "output_type": "stream",
          "name": "stderr",
          "text": [
            "\r  5%|▍         | 23/490 [00:12<04:00,  1.94it/s]"
          ]
        },
        {
          "output_type": "stream",
          "name": "stdout",
          "text": [
            "_02_g_3\n",
            "(512, 512, 1) 1.0 6.024297e-07\n",
            "(512, 512, 3) (512, 512) (512, 512)\n",
            "(512, 512, 3) (512, 10, 3) (512, 512, 3) (512, 10, 3) (512, 512, 3)\n"
          ]
        },
        {
          "output_type": "stream",
          "name": "stderr",
          "text": [
            "\r  5%|▍         | 24/490 [00:12<03:58,  1.96it/s]"
          ]
        },
        {
          "output_type": "stream",
          "name": "stdout",
          "text": [
            "_02_g_30\n",
            "(512, 512, 1) 1.0 5.8333944e-07\n",
            "(512, 512, 3) (512, 512) (512, 512)\n",
            "(512, 512, 3) (512, 10, 3) (512, 512, 3) (512, 10, 3) (512, 512, 3)\n"
          ]
        },
        {
          "output_type": "stream",
          "name": "stderr",
          "text": [
            "\r  5%|▌         | 25/490 [00:13<03:56,  1.97it/s]"
          ]
        },
        {
          "output_type": "stream",
          "name": "stdout",
          "text": [
            "_02_g_31\n",
            "(512, 512, 1) 1.0 2.9561224e-07\n",
            "(512, 512, 3) (512, 512) (512, 512)\n",
            "(512, 512, 3) (512, 10, 3) (512, 512, 3) (512, 10, 3) (512, 512, 3)\n"
          ]
        },
        {
          "output_type": "stream",
          "name": "stderr",
          "text": [
            "\r  5%|▌         | 26/490 [00:13<03:53,  1.98it/s]"
          ]
        },
        {
          "output_type": "stream",
          "name": "stdout",
          "text": [
            "_02_g_32\n",
            "(512, 512, 1) 1.0 6.257387e-07\n",
            "(512, 512, 3) (512, 512) (512, 512)\n",
            "(512, 512, 3) (512, 10, 3) (512, 512, 3) (512, 10, 3) (512, 512, 3)\n"
          ]
        },
        {
          "output_type": "stream",
          "name": "stderr",
          "text": [
            "\r  6%|▌         | 27/490 [00:14<03:53,  1.98it/s]"
          ]
        },
        {
          "output_type": "stream",
          "name": "stdout",
          "text": [
            "_02_g_33\n",
            "(512, 512, 1) 1.0 7.4994887e-07\n",
            "(512, 512, 3) (512, 512) (512, 512)\n",
            "(512, 512, 3) (512, 10, 3) (512, 512, 3) (512, 10, 3) (512, 512, 3)\n"
          ]
        },
        {
          "output_type": "stream",
          "name": "stderr",
          "text": [
            "\r  6%|▌         | 28/490 [00:14<03:51,  1.99it/s]"
          ]
        },
        {
          "output_type": "stream",
          "name": "stdout",
          "text": [
            "_02_g_34\n",
            "(512, 512, 1) 1.0 7.689529e-06\n",
            "(512, 512, 3) (512, 512) (512, 512)\n",
            "(512, 512, 3) (512, 10, 3) (512, 512, 3) (512, 10, 3) (512, 512, 3)\n"
          ]
        },
        {
          "output_type": "stream",
          "name": "stderr",
          "text": [
            "\r  6%|▌         | 29/490 [00:15<03:50,  2.00it/s]"
          ]
        },
        {
          "output_type": "stream",
          "name": "stdout",
          "text": [
            "_02_g_4\n",
            "(512, 512, 1) 1.0 3.362554e-07\n",
            "(512, 512, 3) (512, 512) (512, 512)\n",
            "(512, 512, 3) (512, 10, 3) (512, 512, 3) (512, 10, 3) (512, 512, 3)\n"
          ]
        },
        {
          "output_type": "stream",
          "name": "stderr",
          "text": [
            "\r  6%|▌         | 30/490 [00:15<03:50,  2.00it/s]"
          ]
        },
        {
          "output_type": "stream",
          "name": "stdout",
          "text": [
            "_02_g_5\n",
            "(512, 512, 1) 1.0 3.9088786e-07\n",
            "(512, 512, 3) (512, 512) (512, 512)\n",
            "(512, 512, 3) (512, 10, 3) (512, 512, 3) (512, 10, 3) (512, 512, 3)\n"
          ]
        },
        {
          "output_type": "stream",
          "name": "stderr",
          "text": [
            "\r  6%|▋         | 31/490 [00:16<03:49,  2.00it/s]"
          ]
        },
        {
          "output_type": "stream",
          "name": "stdout",
          "text": [
            "_02_g_6\n",
            "(512, 512, 1) 1.0 2.7154497e-06\n",
            "(512, 512, 3) (512, 512) (512, 512)\n",
            "(512, 512, 3) (512, 10, 3) (512, 512, 3) (512, 10, 3) (512, 512, 3)\n"
          ]
        },
        {
          "output_type": "stream",
          "name": "stderr",
          "text": [
            "\r  7%|▋         | 32/490 [00:16<03:47,  2.01it/s]"
          ]
        },
        {
          "output_type": "stream",
          "name": "stdout",
          "text": [
            "_02_g_7\n",
            "(512, 512, 1) 1.0 4.6148818e-07\n",
            "(512, 512, 3) (512, 512) (512, 512)\n",
            "(512, 512, 3) (512, 10, 3) (512, 512, 3) (512, 10, 3) (512, 512, 3)\n"
          ]
        },
        {
          "output_type": "stream",
          "name": "stderr",
          "text": [
            "\r  7%|▋         | 33/490 [00:17<03:47,  2.00it/s]"
          ]
        },
        {
          "output_type": "stream",
          "name": "stdout",
          "text": [
            "_02_g_8\n",
            "(512, 512, 1) 1.0 1.0523604e-06\n",
            "(512, 512, 3) (512, 512) (512, 512)\n",
            "(512, 512, 3) (512, 10, 3) (512, 512, 3) (512, 10, 3) (512, 512, 3)\n"
          ]
        },
        {
          "output_type": "stream",
          "name": "stderr",
          "text": [
            "\r  7%|▋         | 34/490 [00:17<03:47,  2.00it/s]"
          ]
        },
        {
          "output_type": "stream",
          "name": "stdout",
          "text": [
            "_02_g_9\n",
            "(512, 512, 1) 1.0 7.7229663e-07\n",
            "(512, 512, 3) (512, 512) (512, 512)\n",
            "(512, 512, 3) (512, 10, 3) (512, 512, 3) (512, 10, 3) (512, 512, 3)\n"
          ]
        },
        {
          "output_type": "stream",
          "name": "stderr",
          "text": [
            "\r  7%|▋         | 35/490 [00:18<03:47,  2.00it/s]"
          ]
        },
        {
          "output_type": "stream",
          "name": "stdout",
          "text": [
            "_03_h_0\n",
            "(512, 512, 1) 1.0 1.7773538e-06\n",
            "(512, 512, 3) (512, 512) (512, 512)\n",
            "(512, 512, 3) (512, 10, 3) (512, 512, 3) (512, 10, 3) (512, 512, 3)\n"
          ]
        },
        {
          "output_type": "stream",
          "name": "stderr",
          "text": [
            "\r  7%|▋         | 36/490 [00:18<03:45,  2.01it/s]"
          ]
        },
        {
          "output_type": "stream",
          "name": "stdout",
          "text": [
            "_03_h_1\n",
            "(512, 512, 1) 1.0 9.946203e-07\n",
            "(512, 512, 3) (512, 512) (512, 512)\n",
            "(512, 512, 3) (512, 10, 3) (512, 512, 3) (512, 10, 3) (512, 512, 3)\n"
          ]
        },
        {
          "output_type": "stream",
          "name": "stderr",
          "text": [
            "\r  8%|▊         | 37/490 [00:19<03:45,  2.01it/s]"
          ]
        },
        {
          "output_type": "stream",
          "name": "stdout",
          "text": [
            "_03_h_10\n",
            "(512, 512, 1) 1.0 1.0363217e-06\n",
            "(512, 512, 3) (512, 512) (512, 512)\n",
            "(512, 512, 3) (512, 10, 3) (512, 512, 3) (512, 10, 3) (512, 512, 3)\n"
          ]
        },
        {
          "output_type": "stream",
          "name": "stderr",
          "text": [
            "\r  8%|▊         | 38/490 [00:19<03:45,  2.00it/s]"
          ]
        },
        {
          "output_type": "stream",
          "name": "stdout",
          "text": [
            "_03_h_11\n",
            "(512, 512, 1) 1.0 1.4869908e-06\n",
            "(512, 512, 3) (512, 512) (512, 512)\n",
            "(512, 512, 3) (512, 10, 3) (512, 512, 3) (512, 10, 3) (512, 512, 3)\n"
          ]
        },
        {
          "output_type": "stream",
          "name": "stderr",
          "text": [
            "\r  8%|▊         | 39/490 [00:20<03:46,  1.99it/s]"
          ]
        },
        {
          "output_type": "stream",
          "name": "stdout",
          "text": [
            "_03_h_12\n",
            "(512, 512, 1) 1.0 5.82595e-07\n",
            "(512, 512, 3) (512, 512) (512, 512)\n",
            "(512, 512, 3) (512, 10, 3) (512, 512, 3) (512, 10, 3) (512, 512, 3)\n"
          ]
        },
        {
          "output_type": "stream",
          "name": "stderr",
          "text": [
            "\r  8%|▊         | 40/490 [00:20<03:47,  1.98it/s]"
          ]
        },
        {
          "output_type": "stream",
          "name": "stdout",
          "text": [
            "_03_h_13\n",
            "(512, 512, 1) 1.0 3.4056911e-06\n",
            "(512, 512, 3) (512, 512) (512, 512)\n",
            "(512, 512, 3) (512, 10, 3) (512, 512, 3) (512, 10, 3) (512, 512, 3)\n"
          ]
        },
        {
          "output_type": "stream",
          "name": "stderr",
          "text": [
            "\r  8%|▊         | 41/490 [00:21<03:46,  1.98it/s]"
          ]
        },
        {
          "output_type": "stream",
          "name": "stdout",
          "text": [
            "_03_h_14\n",
            "(512, 512, 1) 1.0 1.3734464e-06\n",
            "(512, 512, 3) (512, 512) (512, 512)\n",
            "(512, 512, 3) (512, 10, 3) (512, 512, 3) (512, 10, 3) (512, 512, 3)\n"
          ]
        },
        {
          "output_type": "stream",
          "name": "stderr",
          "text": [
            "\r  9%|▊         | 42/490 [00:21<03:45,  1.99it/s]"
          ]
        },
        {
          "output_type": "stream",
          "name": "stdout",
          "text": [
            "_03_h_15\n",
            "(512, 512, 1) 1.0 6.853212e-07\n",
            "(512, 512, 3) (512, 512) (512, 512)\n",
            "(512, 512, 3) (512, 10, 3) (512, 512, 3) (512, 10, 3) (512, 512, 3)\n"
          ]
        },
        {
          "output_type": "stream",
          "name": "stderr",
          "text": [
            "\r  9%|▉         | 43/490 [00:22<03:46,  1.98it/s]"
          ]
        },
        {
          "output_type": "stream",
          "name": "stdout",
          "text": [
            "_03_h_16\n",
            "(512, 512, 1) 1.0 9.0714735e-07\n",
            "(512, 512, 3) (512, 512) (512, 512)\n",
            "(512, 512, 3) (512, 10, 3) (512, 512, 3) (512, 10, 3) (512, 512, 3)\n"
          ]
        },
        {
          "output_type": "stream",
          "name": "stderr",
          "text": [
            "\r  9%|▉         | 44/490 [00:22<03:45,  1.98it/s]"
          ]
        },
        {
          "output_type": "stream",
          "name": "stdout",
          "text": [
            "_03_h_17\n",
            "(512, 512, 1) 1.0 2.4019528e-06\n",
            "(512, 512, 3) (512, 512) (512, 512)\n",
            "(512, 512, 3) (512, 10, 3) (512, 512, 3) (512, 10, 3) (512, 512, 3)\n"
          ]
        },
        {
          "output_type": "stream",
          "name": "stderr",
          "text": [
            "\r  9%|▉         | 45/490 [00:23<03:45,  1.98it/s]"
          ]
        },
        {
          "output_type": "stream",
          "name": "stdout",
          "text": [
            "_03_h_18\n",
            "(512, 512, 1) 1.0 8.6342123e-07\n",
            "(512, 512, 3) (512, 512) (512, 512)\n",
            "(512, 512, 3) (512, 10, 3) (512, 512, 3) (512, 10, 3) (512, 512, 3)\n"
          ]
        },
        {
          "output_type": "stream",
          "name": "stderr",
          "text": [
            "\r  9%|▉         | 46/490 [00:23<03:45,  1.97it/s]"
          ]
        },
        {
          "output_type": "stream",
          "name": "stdout",
          "text": [
            "_03_h_19\n",
            "(512, 512, 1) 1.0 5.917521e-08\n",
            "(512, 512, 3) (512, 512) (512, 512)\n",
            "(512, 512, 3) (512, 10, 3) (512, 512, 3) (512, 10, 3) (512, 512, 3)\n"
          ]
        },
        {
          "output_type": "stream",
          "name": "stderr",
          "text": [
            "\r 10%|▉         | 47/490 [00:24<03:44,  1.97it/s]"
          ]
        },
        {
          "output_type": "stream",
          "name": "stdout",
          "text": [
            "_03_h_2\n",
            "(512, 512, 1) 1.0 5.7579655e-07\n",
            "(512, 512, 3) (512, 512) (512, 512)\n",
            "(512, 512, 3) (512, 10, 3) (512, 512, 3) (512, 10, 3) (512, 512, 3)\n"
          ]
        },
        {
          "output_type": "stream",
          "name": "stderr",
          "text": [
            "\r 10%|▉         | 48/490 [00:24<03:42,  1.99it/s]"
          ]
        },
        {
          "output_type": "stream",
          "name": "stdout",
          "text": [
            "_03_h_20\n",
            "(512, 512, 1) 1.0 7.484656e-07\n",
            "(512, 512, 3) (512, 512) (512, 512)\n",
            "(512, 512, 3) (512, 10, 3) (512, 512, 3) (512, 10, 3) (512, 512, 3)\n"
          ]
        },
        {
          "output_type": "stream",
          "name": "stderr",
          "text": [
            "\r 10%|█         | 49/490 [00:25<03:46,  1.95it/s]"
          ]
        },
        {
          "output_type": "stream",
          "name": "stdout",
          "text": [
            "_03_h_21\n",
            "(512, 512, 1) 1.0 1.415731e-06\n",
            "(512, 512, 3) (512, 512) (512, 512)\n",
            "(512, 512, 3) (512, 10, 3) (512, 512, 3) (512, 10, 3) (512, 512, 3)\n"
          ]
        },
        {
          "output_type": "stream",
          "name": "stderr",
          "text": [
            "\r 10%|█         | 50/490 [00:25<03:48,  1.93it/s]"
          ]
        },
        {
          "output_type": "stream",
          "name": "stdout",
          "text": [
            "_03_h_22\n",
            "(512, 512, 1) 1.0 9.3320523e-07\n",
            "(512, 512, 3) (512, 512) (512, 512)\n",
            "(512, 512, 3) (512, 10, 3) (512, 512, 3) (512, 10, 3) (512, 512, 3)\n"
          ]
        },
        {
          "output_type": "stream",
          "name": "stderr",
          "text": [
            "\r 10%|█         | 51/490 [00:26<03:48,  1.92it/s]"
          ]
        },
        {
          "output_type": "stream",
          "name": "stdout",
          "text": [
            "_03_h_23\n",
            "(512, 512, 1) 1.0 1.1295089e-06\n",
            "(512, 512, 3) (512, 512) (512, 512)\n",
            "(512, 512, 3) (512, 10, 3) (512, 512, 3) (512, 10, 3) (512, 512, 3)\n"
          ]
        },
        {
          "output_type": "stream",
          "name": "stderr",
          "text": [
            "\r 11%|█         | 52/490 [00:26<03:46,  1.93it/s]"
          ]
        },
        {
          "output_type": "stream",
          "name": "stdout",
          "text": [
            "_03_h_24\n",
            "(512, 512, 1) 1.0 1.8810553e-06\n",
            "(512, 512, 3) (512, 512) (512, 512)\n",
            "(512, 512, 3) (512, 10, 3) (512, 512, 3) (512, 10, 3) (512, 512, 3)\n"
          ]
        },
        {
          "output_type": "stream",
          "name": "stderr",
          "text": [
            "\r 11%|█         | 53/490 [00:27<03:45,  1.94it/s]"
          ]
        },
        {
          "output_type": "stream",
          "name": "stdout",
          "text": [
            "_03_h_25\n",
            "(512, 512, 1) 1.0 1.5445839e-06\n",
            "(512, 512, 3) (512, 512) (512, 512)\n",
            "(512, 512, 3) (512, 10, 3) (512, 512, 3) (512, 10, 3) (512, 512, 3)\n"
          ]
        },
        {
          "output_type": "stream",
          "name": "stderr",
          "text": [
            "\r 11%|█         | 54/490 [00:27<03:45,  1.93it/s]"
          ]
        },
        {
          "output_type": "stream",
          "name": "stdout",
          "text": [
            "_03_h_26\n",
            "(512, 512, 1) 1.0 1.3649379e-06\n",
            "(512, 512, 3) (512, 512) (512, 512)\n",
            "(512, 512, 3) (512, 10, 3) (512, 512, 3) (512, 10, 3) (512, 512, 3)\n"
          ]
        },
        {
          "output_type": "stream",
          "name": "stderr",
          "text": [
            "\r 11%|█         | 55/490 [00:28<03:44,  1.94it/s]"
          ]
        },
        {
          "output_type": "stream",
          "name": "stdout",
          "text": [
            "_03_h_27\n",
            "(512, 512, 1) 1.0 2.4880023e-06\n",
            "(512, 512, 3) (512, 512) (512, 512)\n",
            "(512, 512, 3) (512, 10, 3) (512, 512, 3) (512, 10, 3) (512, 512, 3)\n"
          ]
        },
        {
          "output_type": "stream",
          "name": "stderr",
          "text": [
            "\r 11%|█▏        | 56/490 [00:28<03:42,  1.95it/s]"
          ]
        },
        {
          "output_type": "stream",
          "name": "stdout",
          "text": [
            "_03_h_28\n",
            "(512, 512, 1) 1.0 7.2490984e-06\n",
            "(512, 512, 3) (512, 512) (512, 512)\n",
            "(512, 512, 3) (512, 10, 3) (512, 512, 3) (512, 10, 3) (512, 512, 3)\n"
          ]
        },
        {
          "output_type": "stream",
          "name": "stderr",
          "text": [
            "\r 12%|█▏        | 57/490 [00:29<03:40,  1.97it/s]"
          ]
        },
        {
          "output_type": "stream",
          "name": "stdout",
          "text": [
            "_03_h_29\n",
            "(512, 512, 1) 1.0 1.9552251e-06\n",
            "(512, 512, 3) (512, 512) (512, 512)\n",
            "(512, 512, 3) (512, 10, 3) (512, 512, 3) (512, 10, 3) (512, 512, 3)\n"
          ]
        },
        {
          "output_type": "stream",
          "name": "stderr",
          "text": [
            "\r 12%|█▏        | 58/490 [00:29<03:39,  1.97it/s]"
          ]
        },
        {
          "output_type": "stream",
          "name": "stdout",
          "text": [
            "_03_h_3\n",
            "(512, 512, 1) 1.0 8.040584e-07\n",
            "(512, 512, 3) (512, 512) (512, 512)\n",
            "(512, 512, 3) (512, 10, 3) (512, 512, 3) (512, 10, 3) (512, 512, 3)\n"
          ]
        },
        {
          "output_type": "stream",
          "name": "stderr",
          "text": [
            "\r 12%|█▏        | 59/490 [00:30<03:38,  1.97it/s]"
          ]
        },
        {
          "output_type": "stream",
          "name": "stdout",
          "text": [
            "_03_h_30\n",
            "(512, 512, 1) 1.0 9.254539e-07\n",
            "(512, 512, 3) (512, 512) (512, 512)\n",
            "(512, 512, 3) (512, 10, 3) (512, 512, 3) (512, 10, 3) (512, 512, 3)\n"
          ]
        },
        {
          "output_type": "stream",
          "name": "stderr",
          "text": [
            "\r 12%|█▏        | 60/490 [00:30<03:36,  1.99it/s]"
          ]
        },
        {
          "output_type": "stream",
          "name": "stdout",
          "text": [
            "_03_h_31\n",
            "(512, 512, 1) 1.0 1.7732701e-06\n",
            "(512, 512, 3) (512, 512) (512, 512)\n",
            "(512, 512, 3) (512, 10, 3) (512, 512, 3) (512, 10, 3) (512, 512, 3)\n"
          ]
        },
        {
          "output_type": "stream",
          "name": "stderr",
          "text": [
            "\r 12%|█▏        | 61/490 [00:31<03:37,  1.98it/s]"
          ]
        },
        {
          "output_type": "stream",
          "name": "stdout",
          "text": [
            "_03_h_32\n",
            "(512, 512, 1) 1.0 1.5776006e-06\n",
            "(512, 512, 3) (512, 512) (512, 512)\n",
            "(512, 512, 3) (512, 10, 3) (512, 512, 3) (512, 10, 3) (512, 512, 3)\n"
          ]
        },
        {
          "output_type": "stream",
          "name": "stderr",
          "text": [
            "\r 13%|█▎        | 62/490 [00:31<03:52,  1.84it/s]"
          ]
        },
        {
          "output_type": "stream",
          "name": "stdout",
          "text": [
            "_03_h_33\n",
            "(512, 512, 1) 1.0 2.7375643e-06\n",
            "(512, 512, 3) (512, 512) (512, 512)\n",
            "(512, 512, 3) (512, 10, 3) (512, 512, 3) (512, 10, 3) (512, 512, 3)\n"
          ]
        },
        {
          "output_type": "stream",
          "name": "stderr",
          "text": [
            "\r 13%|█▎        | 63/490 [00:32<03:52,  1.84it/s]"
          ]
        },
        {
          "output_type": "stream",
          "name": "stdout",
          "text": [
            "_03_h_34\n",
            "(512, 512, 1) 1.0 6.6833277e-06\n",
            "(512, 512, 3) (512, 512) (512, 512)\n",
            "(512, 512, 3) (512, 10, 3) (512, 512, 3) (512, 10, 3) (512, 512, 3)\n"
          ]
        },
        {
          "output_type": "stream",
          "name": "stderr",
          "text": [
            "\r 13%|█▎        | 64/490 [00:33<03:45,  1.89it/s]"
          ]
        },
        {
          "output_type": "stream",
          "name": "stdout",
          "text": [
            "_03_h_4\n",
            "(512, 512, 1) 1.0 7.6038054e-07\n",
            "(512, 512, 3) (512, 512) (512, 512)\n",
            "(512, 512, 3) (512, 10, 3) (512, 512, 3) (512, 10, 3) (512, 512, 3)\n"
          ]
        },
        {
          "output_type": "stream",
          "name": "stderr",
          "text": [
            "\r 13%|█▎        | 65/490 [00:33<03:40,  1.92it/s]"
          ]
        },
        {
          "output_type": "stream",
          "name": "stdout",
          "text": [
            "_03_h_5\n",
            "(512, 512, 1) 1.0 1.1103326e-06\n",
            "(512, 512, 3) (512, 512) (512, 512)\n",
            "(512, 512, 3) (512, 10, 3) (512, 512, 3) (512, 10, 3) (512, 512, 3)\n"
          ]
        },
        {
          "output_type": "stream",
          "name": "stderr",
          "text": [
            "\r 13%|█▎        | 66/490 [00:34<03:38,  1.94it/s]"
          ]
        },
        {
          "output_type": "stream",
          "name": "stdout",
          "text": [
            "_03_h_6\n",
            "(512, 512, 1) 1.0 1.6883847e-06\n",
            "(512, 512, 3) (512, 512) (512, 512)\n",
            "(512, 512, 3) (512, 10, 3) (512, 512, 3) (512, 10, 3) (512, 512, 3)\n"
          ]
        },
        {
          "output_type": "stream",
          "name": "stderr",
          "text": [
            "\r 14%|█▎        | 67/490 [00:34<03:38,  1.94it/s]"
          ]
        },
        {
          "output_type": "stream",
          "name": "stdout",
          "text": [
            "_03_h_7\n",
            "(512, 512, 1) 1.0 1.3550355e-06\n",
            "(512, 512, 3) (512, 512) (512, 512)\n",
            "(512, 512, 3) (512, 10, 3) (512, 512, 3) (512, 10, 3) (512, 512, 3)\n"
          ]
        },
        {
          "output_type": "stream",
          "name": "stderr",
          "text": [
            "\r 14%|█▍        | 68/490 [00:35<03:40,  1.91it/s]"
          ]
        },
        {
          "output_type": "stream",
          "name": "stdout",
          "text": [
            "_03_h_8\n",
            "(512, 512, 1) 1.0 4.8723433e-07\n",
            "(512, 512, 3) (512, 512) (512, 512)\n",
            "(512, 512, 3) (512, 10, 3) (512, 512, 3) (512, 10, 3) (512, 512, 3)\n"
          ]
        },
        {
          "output_type": "stream",
          "name": "stderr",
          "text": [
            "\r 14%|█▍        | 69/490 [00:35<03:39,  1.92it/s]"
          ]
        },
        {
          "output_type": "stream",
          "name": "stdout",
          "text": [
            "_03_h_9\n",
            "(512, 512, 1) 1.0 5.2490316e-07\n",
            "(512, 512, 3) (512, 512) (512, 512)\n",
            "(512, 512, 3) (512, 10, 3) (512, 512, 3) (512, 10, 3) (512, 512, 3)\n"
          ]
        },
        {
          "output_type": "stream",
          "name": "stderr",
          "text": [
            "\r 14%|█▍        | 70/490 [00:36<03:40,  1.90it/s]"
          ]
        },
        {
          "output_type": "stream",
          "name": "stdout",
          "text": [
            "_05_dr_0\n",
            "(512, 512, 1) 1.0 1.2640116e-06\n",
            "(512, 512, 3) (512, 512) (512, 512)\n",
            "(512, 512, 3) (512, 10, 3) (512, 512, 3) (512, 10, 3) (512, 512, 3)\n"
          ]
        },
        {
          "output_type": "stream",
          "name": "stderr",
          "text": [
            "\r 14%|█▍        | 71/490 [00:36<03:37,  1.93it/s]"
          ]
        },
        {
          "output_type": "stream",
          "name": "stdout",
          "text": [
            "_05_dr_1\n",
            "(512, 512, 1) 1.0 6.910237e-07\n",
            "(512, 512, 3) (512, 512) (512, 512)\n",
            "(512, 512, 3) (512, 10, 3) (512, 512, 3) (512, 10, 3) (512, 512, 3)\n"
          ]
        },
        {
          "output_type": "stream",
          "name": "stderr",
          "text": [
            "\r 15%|█▍        | 72/490 [00:37<03:39,  1.90it/s]"
          ]
        },
        {
          "output_type": "stream",
          "name": "stdout",
          "text": [
            "_05_dr_10\n",
            "(512, 512, 1) 1.0 1.3250632e-06\n",
            "(512, 512, 3) (512, 512) (512, 512)\n",
            "(512, 512, 3) (512, 10, 3) (512, 512, 3) (512, 10, 3) (512, 512, 3)\n"
          ]
        },
        {
          "output_type": "stream",
          "name": "stderr",
          "text": [
            "\r 15%|█▍        | 73/490 [00:37<03:37,  1.92it/s]"
          ]
        },
        {
          "output_type": "stream",
          "name": "stdout",
          "text": [
            "_05_dr_11\n",
            "(512, 512, 1) 1.0 1.2423116e-06\n",
            "(512, 512, 3) (512, 512) (512, 512)\n",
            "(512, 512, 3) (512, 10, 3) (512, 512, 3) (512, 10, 3) (512, 512, 3)\n"
          ]
        },
        {
          "output_type": "stream",
          "name": "stderr",
          "text": [
            "\r 15%|█▌        | 74/490 [00:38<03:34,  1.94it/s]"
          ]
        },
        {
          "output_type": "stream",
          "name": "stdout",
          "text": [
            "_05_dr_12\n",
            "(512, 512, 1) 1.0 3.7205703e-07\n",
            "(512, 512, 3) (512, 512) (512, 512)\n",
            "(512, 512, 3) (512, 10, 3) (512, 512, 3) (512, 10, 3) (512, 512, 3)\n"
          ]
        },
        {
          "output_type": "stream",
          "name": "stderr",
          "text": [
            "\r 15%|█▌        | 75/490 [00:38<03:32,  1.95it/s]"
          ]
        },
        {
          "output_type": "stream",
          "name": "stdout",
          "text": [
            "_05_dr_13\n",
            "(512, 512, 1) 1.0 1.4563315e-06\n",
            "(512, 512, 3) (512, 512) (512, 512)\n",
            "(512, 512, 3) (512, 10, 3) (512, 512, 3) (512, 10, 3) (512, 512, 3)\n"
          ]
        },
        {
          "output_type": "stream",
          "name": "stderr",
          "text": [
            "\r 16%|█▌        | 76/490 [00:39<03:35,  1.93it/s]"
          ]
        },
        {
          "output_type": "stream",
          "name": "stdout",
          "text": [
            "_05_dr_14\n",
            "(512, 512, 1) 1.0 1.0360194e-06\n",
            "(512, 512, 3) (512, 512) (512, 512)\n",
            "(512, 512, 3) (512, 10, 3) (512, 512, 3) (512, 10, 3) (512, 512, 3)\n"
          ]
        },
        {
          "output_type": "stream",
          "name": "stderr",
          "text": [
            "\r 16%|█▌        | 77/490 [00:39<03:31,  1.95it/s]"
          ]
        },
        {
          "output_type": "stream",
          "name": "stdout",
          "text": [
            "_05_dr_15\n",
            "(512, 512, 1) 1.0 2.5371384e-07\n",
            "(512, 512, 3) (512, 512) (512, 512)\n",
            "(512, 512, 3) (512, 10, 3) (512, 512, 3) (512, 10, 3) (512, 512, 3)\n"
          ]
        },
        {
          "output_type": "stream",
          "name": "stderr",
          "text": [
            "\r 16%|█▌        | 78/490 [00:40<03:30,  1.96it/s]"
          ]
        },
        {
          "output_type": "stream",
          "name": "stdout",
          "text": [
            "_05_dr_16\n",
            "(512, 512, 1) 1.0 6.384809e-08\n",
            "(512, 512, 3) (512, 512) (512, 512)\n",
            "(512, 512, 3) (512, 10, 3) (512, 512, 3) (512, 10, 3) (512, 512, 3)\n"
          ]
        },
        {
          "output_type": "stream",
          "name": "stderr",
          "text": [
            "\r 16%|█▌        | 79/490 [00:40<03:29,  1.97it/s]"
          ]
        },
        {
          "output_type": "stream",
          "name": "stdout",
          "text": [
            "_05_dr_17\n",
            "(512, 512, 1) 1.0 9.759633e-07\n",
            "(512, 512, 3) (512, 512) (512, 512)\n",
            "(512, 512, 3) (512, 10, 3) (512, 512, 3) (512, 10, 3) (512, 512, 3)\n"
          ]
        },
        {
          "output_type": "stream",
          "name": "stderr",
          "text": [
            "\r 16%|█▋        | 80/490 [00:41<03:28,  1.97it/s]"
          ]
        },
        {
          "output_type": "stream",
          "name": "stdout",
          "text": [
            "_05_dr_18\n",
            "(512, 512, 1) 1.0 9.328368e-07\n",
            "(512, 512, 3) (512, 512) (512, 512)\n",
            "(512, 512, 3) (512, 10, 3) (512, 512, 3) (512, 10, 3) (512, 512, 3)\n"
          ]
        },
        {
          "output_type": "stream",
          "name": "stderr",
          "text": [
            "\r 17%|█▋        | 81/490 [00:41<03:30,  1.94it/s]"
          ]
        },
        {
          "output_type": "stream",
          "name": "stdout",
          "text": [
            "_05_dr_19\n",
            "(512, 512, 1) 1.0 6.0449634e-07\n",
            "(512, 512, 3) (512, 512) (512, 512)\n",
            "(512, 512, 3) (512, 10, 3) (512, 512, 3) (512, 10, 3) (512, 512, 3)\n"
          ]
        },
        {
          "output_type": "stream",
          "name": "stderr",
          "text": [
            "\r 17%|█▋        | 82/490 [00:42<03:29,  1.95it/s]"
          ]
        },
        {
          "output_type": "stream",
          "name": "stdout",
          "text": [
            "_05_dr_2\n",
            "(512, 512, 1) 1.0 7.118354e-07\n",
            "(512, 512, 3) (512, 512) (512, 512)\n",
            "(512, 512, 3) (512, 10, 3) (512, 512, 3) (512, 10, 3) (512, 512, 3)\n"
          ]
        },
        {
          "output_type": "stream",
          "name": "stderr",
          "text": [
            "\r 17%|█▋        | 83/490 [00:42<03:28,  1.95it/s]"
          ]
        },
        {
          "output_type": "stream",
          "name": "stdout",
          "text": [
            "_05_dr_20\n",
            "(512, 512, 1) 1.0 8.509671e-07\n",
            "(512, 512, 3) (512, 512) (512, 512)\n",
            "(512, 512, 3) (512, 10, 3) (512, 512, 3) (512, 10, 3) (512, 512, 3)\n"
          ]
        },
        {
          "output_type": "stream",
          "name": "stderr",
          "text": [
            "\r 17%|█▋        | 84/490 [00:43<03:27,  1.96it/s]"
          ]
        },
        {
          "output_type": "stream",
          "name": "stdout",
          "text": [
            "_05_dr_21\n",
            "(512, 512, 1) 1.0 3.0398535e-06\n",
            "(512, 512, 3) (512, 512) (512, 512)\n",
            "(512, 512, 3) (512, 10, 3) (512, 512, 3) (512, 10, 3) (512, 512, 3)\n"
          ]
        },
        {
          "output_type": "stream",
          "name": "stderr",
          "text": [
            "\r 17%|█▋        | 85/490 [00:43<03:26,  1.96it/s]"
          ]
        },
        {
          "output_type": "stream",
          "name": "stdout",
          "text": [
            "_05_dr_22\n",
            "(512, 512, 1) 1.0 1.5711925e-06\n",
            "(512, 512, 3) (512, 512) (512, 512)\n",
            "(512, 512, 3) (512, 10, 3) (512, 512, 3) (512, 10, 3) (512, 512, 3)\n"
          ]
        },
        {
          "output_type": "stream",
          "name": "stderr",
          "text": [
            "\r 18%|█▊        | 86/490 [00:44<03:30,  1.92it/s]"
          ]
        },
        {
          "output_type": "stream",
          "name": "stdout",
          "text": [
            "_05_dr_23\n",
            "(512, 512, 1) 1.0 1.1185163e-06\n",
            "(512, 512, 3) (512, 512) (512, 512)\n",
            "(512, 512, 3) (512, 10, 3) (512, 512, 3) (512, 10, 3) (512, 512, 3)\n"
          ]
        },
        {
          "output_type": "stream",
          "name": "stderr",
          "text": [
            "\r 18%|█▊        | 87/490 [00:44<03:27,  1.94it/s]"
          ]
        },
        {
          "output_type": "stream",
          "name": "stdout",
          "text": [
            "_05_dr_24\n",
            "(512, 512, 1) 1.0 1.0418095e-06\n",
            "(512, 512, 3) (512, 512) (512, 512)\n",
            "(512, 512, 3) (512, 10, 3) (512, 512, 3) (512, 10, 3) (512, 512, 3)\n"
          ]
        },
        {
          "output_type": "stream",
          "name": "stderr",
          "text": [
            "\r 18%|█▊        | 88/490 [00:45<03:28,  1.93it/s]"
          ]
        },
        {
          "output_type": "stream",
          "name": "stdout",
          "text": [
            "_05_dr_25\n",
            "(512, 512, 1) 1.0 1.3369635e-06\n",
            "(512, 512, 3) (512, 512) (512, 512)\n",
            "(512, 512, 3) (512, 10, 3) (512, 512, 3) (512, 10, 3) (512, 512, 3)\n"
          ]
        },
        {
          "output_type": "stream",
          "name": "stderr",
          "text": [
            "\r 18%|█▊        | 89/490 [00:45<03:30,  1.90it/s]"
          ]
        },
        {
          "output_type": "stream",
          "name": "stdout",
          "text": [
            "_05_dr_26\n",
            "(512, 512, 1) 1.0 1.1477534e-06\n",
            "(512, 512, 3) (512, 512) (512, 512)\n",
            "(512, 512, 3) (512, 10, 3) (512, 512, 3) (512, 10, 3) (512, 512, 3)\n"
          ]
        },
        {
          "output_type": "stream",
          "name": "stderr",
          "text": [
            "\r 18%|█▊        | 90/490 [00:46<03:29,  1.91it/s]"
          ]
        },
        {
          "output_type": "stream",
          "name": "stdout",
          "text": [
            "_05_dr_27\n",
            "(512, 512, 1) 1.0 7.5907275e-07\n",
            "(512, 512, 3) (512, 512) (512, 512)\n",
            "(512, 512, 3) (512, 10, 3) (512, 512, 3) (512, 10, 3) (512, 512, 3)\n"
          ]
        },
        {
          "output_type": "stream",
          "name": "stderr",
          "text": [
            "\r 19%|█▊        | 91/490 [00:46<03:29,  1.91it/s]"
          ]
        },
        {
          "output_type": "stream",
          "name": "stdout",
          "text": [
            "_05_dr_28\n",
            "(512, 512, 1) 1.0 5.2324112e-06\n",
            "(512, 512, 3) (512, 512) (512, 512)\n",
            "(512, 512, 3) (512, 10, 3) (512, 512, 3) (512, 10, 3) (512, 512, 3)\n"
          ]
        },
        {
          "output_type": "stream",
          "name": "stderr",
          "text": [
            "\r 19%|█▉        | 92/490 [00:47<03:27,  1.92it/s]"
          ]
        },
        {
          "output_type": "stream",
          "name": "stdout",
          "text": [
            "_05_dr_29\n",
            "(512, 512, 1) 1.0 5.236377e-07\n",
            "(512, 512, 3) (512, 512) (512, 512)\n",
            "(512, 512, 3) (512, 10, 3) (512, 512, 3) (512, 10, 3) (512, 512, 3)\n"
          ]
        },
        {
          "output_type": "stream",
          "name": "stderr",
          "text": [
            "\r 19%|█▉        | 93/490 [00:47<03:26,  1.92it/s]"
          ]
        },
        {
          "output_type": "stream",
          "name": "stdout",
          "text": [
            "_05_dr_3\n",
            "(512, 512, 1) 1.0 7.031432e-07\n",
            "(512, 512, 3) (512, 512) (512, 512)\n",
            "(512, 512, 3) (512, 10, 3) (512, 512, 3) (512, 10, 3) (512, 512, 3)\n"
          ]
        },
        {
          "output_type": "stream",
          "name": "stderr",
          "text": [
            "\r 19%|█▉        | 94/490 [00:48<03:26,  1.92it/s]"
          ]
        },
        {
          "output_type": "stream",
          "name": "stdout",
          "text": [
            "_05_dr_30\n",
            "(512, 512, 1) 1.0 1.6160475e-06\n",
            "(512, 512, 3) (512, 512) (512, 512)\n",
            "(512, 512, 3) (512, 10, 3) (512, 512, 3) (512, 10, 3) (512, 512, 3)\n"
          ]
        },
        {
          "output_type": "stream",
          "name": "stderr",
          "text": [
            "\r 19%|█▉        | 95/490 [00:49<03:23,  1.94it/s]"
          ]
        },
        {
          "output_type": "stream",
          "name": "stdout",
          "text": [
            "_05_dr_31\n",
            "(512, 512, 1) 1.0 7.3732565e-07\n",
            "(512, 512, 3) (512, 512) (512, 512)\n",
            "(512, 512, 3) (512, 10, 3) (512, 512, 3) (512, 10, 3) (512, 512, 3)\n"
          ]
        },
        {
          "output_type": "stream",
          "name": "stderr",
          "text": [
            "\r 20%|█▉        | 96/490 [00:49<03:20,  1.97it/s]"
          ]
        },
        {
          "output_type": "stream",
          "name": "stdout",
          "text": [
            "_05_dr_32\n",
            "(512, 512, 1) 1.0 1.4338325e-06\n",
            "(512, 512, 3) (512, 512) (512, 512)\n",
            "(512, 512, 3) (512, 10, 3) (512, 512, 3) (512, 10, 3) (512, 512, 3)\n"
          ]
        },
        {
          "output_type": "stream",
          "name": "stderr",
          "text": [
            "\r 20%|█▉        | 97/490 [00:50<03:18,  1.98it/s]"
          ]
        },
        {
          "output_type": "stream",
          "name": "stdout",
          "text": [
            "_05_dr_33\n",
            "(512, 512, 1) 1.0 9.47563e-07\n",
            "(512, 512, 3) (512, 512) (512, 512)\n",
            "(512, 512, 3) (512, 10, 3) (512, 512, 3) (512, 10, 3) (512, 512, 3)\n"
          ]
        },
        {
          "output_type": "stream",
          "name": "stderr",
          "text": [
            "\r 20%|██        | 98/490 [00:50<03:17,  1.98it/s]"
          ]
        },
        {
          "output_type": "stream",
          "name": "stdout",
          "text": [
            "_05_dr_34\n",
            "(512, 512, 1) 1.0 3.270474e-06\n",
            "(512, 512, 3) (512, 512) (512, 512)\n",
            "(512, 512, 3) (512, 10, 3) (512, 512, 3) (512, 10, 3) (512, 512, 3)\n"
          ]
        },
        {
          "output_type": "stream",
          "name": "stderr",
          "text": [
            "\r 20%|██        | 99/490 [00:51<03:16,  1.99it/s]"
          ]
        },
        {
          "output_type": "stream",
          "name": "stdout",
          "text": [
            "_05_dr_4\n",
            "(512, 512, 1) 1.0 1.0364581e-06\n",
            "(512, 512, 3) (512, 512) (512, 512)\n",
            "(512, 512, 3) (512, 10, 3) (512, 512, 3) (512, 10, 3) (512, 512, 3)\n"
          ]
        },
        {
          "output_type": "stream",
          "name": "stderr",
          "text": [
            "\r 20%|██        | 100/490 [00:51<03:14,  2.00it/s]"
          ]
        },
        {
          "output_type": "stream",
          "name": "stdout",
          "text": [
            "_05_dr_5\n",
            "(512, 512, 1) 1.0 7.5705856e-07\n",
            "(512, 512, 3) (512, 512) (512, 512)\n",
            "(512, 512, 3) (512, 10, 3) (512, 512, 3) (512, 10, 3) (512, 512, 3)\n"
          ]
        },
        {
          "output_type": "stream",
          "name": "stderr",
          "text": [
            "\r 21%|██        | 101/490 [00:52<03:15,  1.99it/s]"
          ]
        },
        {
          "output_type": "stream",
          "name": "stdout",
          "text": [
            "_05_dr_6\n",
            "(512, 512, 1) 1.0 1.0684821e-06\n",
            "(512, 512, 3) (512, 512) (512, 512)\n",
            "(512, 512, 3) (512, 10, 3) (512, 512, 3) (512, 10, 3) (512, 512, 3)\n"
          ]
        },
        {
          "output_type": "stream",
          "name": "stderr",
          "text": [
            "\r 21%|██        | 102/490 [00:52<03:16,  1.97it/s]"
          ]
        },
        {
          "output_type": "stream",
          "name": "stdout",
          "text": [
            "_05_dr_7\n",
            "(512, 512, 1) 1.0 8.2375664e-07\n",
            "(512, 512, 3) (512, 512) (512, 512)\n",
            "(512, 512, 3) (512, 10, 3) (512, 512, 3) (512, 10, 3) (512, 512, 3)\n"
          ]
        },
        {
          "output_type": "stream",
          "name": "stderr",
          "text": [
            "\r 21%|██        | 103/490 [00:53<03:16,  1.97it/s]"
          ]
        },
        {
          "output_type": "stream",
          "name": "stdout",
          "text": [
            "_05_dr_8\n",
            "(512, 512, 1) 1.0 2.276102e-06\n",
            "(512, 512, 3) (512, 512) (512, 512)\n",
            "(512, 512, 3) (512, 10, 3) (512, 512, 3) (512, 10, 3) (512, 512, 3)\n"
          ]
        },
        {
          "output_type": "stream",
          "name": "stderr",
          "text": [
            "\r 21%|██        | 104/490 [00:53<03:16,  1.97it/s]"
          ]
        },
        {
          "output_type": "stream",
          "name": "stdout",
          "text": [
            "_05_dr_9\n",
            "(512, 512, 1) 1.0 1.3665542e-06\n",
            "(512, 512, 3) (512, 512) (512, 512)\n",
            "(512, 512, 3) (512, 10, 3) (512, 512, 3) (512, 10, 3) (512, 512, 3)\n"
          ]
        },
        {
          "output_type": "stream",
          "name": "stderr",
          "text": [
            "\r 21%|██▏       | 105/490 [00:54<03:14,  1.97it/s]"
          ]
        },
        {
          "output_type": "stream",
          "name": "stdout",
          "text": [
            "_05_g_0\n",
            "(512, 512, 1) 1.0 2.3099817e-06\n",
            "(512, 512, 3) (512, 512) (512, 512)\n",
            "(512, 512, 3) (512, 10, 3) (512, 512, 3) (512, 10, 3) (512, 512, 3)\n"
          ]
        },
        {
          "output_type": "stream",
          "name": "stderr",
          "text": [
            "\r 22%|██▏       | 106/490 [00:54<03:13,  1.98it/s]"
          ]
        },
        {
          "output_type": "stream",
          "name": "stdout",
          "text": [
            "_05_g_1\n",
            "(512, 512, 1) 1.0 1.2549158e-06\n",
            "(512, 512, 3) (512, 512) (512, 512)\n",
            "(512, 512, 3) (512, 10, 3) (512, 512, 3) (512, 10, 3) (512, 512, 3)\n"
          ]
        },
        {
          "output_type": "stream",
          "name": "stderr",
          "text": [
            "\r 22%|██▏       | 107/490 [00:55<03:12,  1.99it/s]"
          ]
        },
        {
          "output_type": "stream",
          "name": "stdout",
          "text": [
            "_05_g_10\n",
            "(512, 512, 1) 1.0 6.4044576e-07\n",
            "(512, 512, 3) (512, 512) (512, 512)\n",
            "(512, 512, 3) (512, 10, 3) (512, 512, 3) (512, 10, 3) (512, 512, 3)\n"
          ]
        },
        {
          "output_type": "stream",
          "name": "stderr",
          "text": [
            "\r 22%|██▏       | 108/490 [00:55<03:13,  1.98it/s]"
          ]
        },
        {
          "output_type": "stream",
          "name": "stdout",
          "text": [
            "_05_g_11\n",
            "(512, 512, 1) 1.0 4.4571797e-07\n",
            "(512, 512, 3) (512, 512) (512, 512)\n",
            "(512, 512, 3) (512, 10, 3) (512, 512, 3) (512, 10, 3) (512, 512, 3)\n"
          ]
        },
        {
          "output_type": "stream",
          "name": "stderr",
          "text": [
            "\r 22%|██▏       | 109/490 [00:56<03:18,  1.92it/s]"
          ]
        },
        {
          "output_type": "stream",
          "name": "stdout",
          "text": [
            "_05_g_12\n",
            "(512, 512, 1) 1.0 1.1539028e-06\n",
            "(512, 512, 3) (512, 512) (512, 512)\n",
            "(512, 512, 3) (512, 10, 3) (512, 512, 3) (512, 10, 3) (512, 512, 3)\n"
          ]
        },
        {
          "output_type": "stream",
          "name": "stderr",
          "text": [
            "\r 22%|██▏       | 110/490 [00:56<03:16,  1.93it/s]"
          ]
        },
        {
          "output_type": "stream",
          "name": "stdout",
          "text": [
            "_05_g_13\n",
            "(512, 512, 1) 1.0 3.402898e-07\n",
            "(512, 512, 3) (512, 512) (512, 512)\n",
            "(512, 512, 3) (512, 10, 3) (512, 512, 3) (512, 10, 3) (512, 512, 3)\n"
          ]
        },
        {
          "output_type": "stream",
          "name": "stderr",
          "text": [
            "\r 23%|██▎       | 111/490 [00:57<03:15,  1.94it/s]"
          ]
        },
        {
          "output_type": "stream",
          "name": "stdout",
          "text": [
            "_05_g_14\n",
            "(512, 512, 1) 1.0 1.8919252e-06\n",
            "(512, 512, 3) (512, 512) (512, 512)\n",
            "(512, 512, 3) (512, 10, 3) (512, 512, 3) (512, 10, 3) (512, 512, 3)\n"
          ]
        },
        {
          "output_type": "stream",
          "name": "stderr",
          "text": [
            "\r 23%|██▎       | 112/490 [00:57<03:12,  1.96it/s]"
          ]
        },
        {
          "output_type": "stream",
          "name": "stdout",
          "text": [
            "_05_g_15\n",
            "(512, 512, 1) 1.0 4.4850057e-07\n",
            "(512, 512, 3) (512, 512) (512, 512)\n",
            "(512, 512, 3) (512, 10, 3) (512, 512, 3) (512, 10, 3) (512, 512, 3)\n"
          ]
        },
        {
          "output_type": "stream",
          "name": "stderr",
          "text": [
            "\r 23%|██▎       | 113/490 [00:58<03:10,  1.97it/s]"
          ]
        },
        {
          "output_type": "stream",
          "name": "stdout",
          "text": [
            "_05_g_16\n",
            "(512, 512, 1) 1.0 5.4521456e-07\n",
            "(512, 512, 3) (512, 512) (512, 512)\n",
            "(512, 512, 3) (512, 10, 3) (512, 512, 3) (512, 10, 3) (512, 512, 3)\n"
          ]
        },
        {
          "output_type": "stream",
          "name": "stderr",
          "text": [
            "\r 23%|██▎       | 114/490 [00:58<03:10,  1.98it/s]"
          ]
        },
        {
          "output_type": "stream",
          "name": "stdout",
          "text": [
            "_05_g_17\n",
            "(512, 512, 1) 1.0 1.8187933e-07\n",
            "(512, 512, 3) (512, 512) (512, 512)\n",
            "(512, 512, 3) (512, 10, 3) (512, 512, 3) (512, 10, 3) (512, 512, 3)\n"
          ]
        },
        {
          "output_type": "stream",
          "name": "stderr",
          "text": [
            "\r 23%|██▎       | 115/490 [00:59<03:17,  1.90it/s]"
          ]
        },
        {
          "output_type": "stream",
          "name": "stdout",
          "text": [
            "_05_g_18\n",
            "(512, 512, 1) 1.0 8.231747e-07\n",
            "(512, 512, 3) (512, 512) (512, 512)\n",
            "(512, 512, 3) (512, 10, 3) (512, 512, 3) (512, 10, 3) (512, 512, 3)\n"
          ]
        },
        {
          "output_type": "stream",
          "name": "stderr",
          "text": [
            "\r 24%|██▎       | 116/490 [00:59<03:22,  1.85it/s]"
          ]
        },
        {
          "output_type": "stream",
          "name": "stdout",
          "text": [
            "_05_g_19\n",
            "(512, 512, 1) 1.0 1.3908661e-07\n",
            "(512, 512, 3) (512, 512) (512, 512)\n",
            "(512, 512, 3) (512, 10, 3) (512, 512, 3) (512, 10, 3) (512, 512, 3)\n"
          ]
        },
        {
          "output_type": "stream",
          "name": "stderr",
          "text": [
            "\r 24%|██▍       | 117/490 [01:00<03:26,  1.81it/s]"
          ]
        },
        {
          "output_type": "stream",
          "name": "stdout",
          "text": [
            "_05_g_2\n",
            "(512, 512, 1) 1.0 2.080545e-07\n",
            "(512, 512, 3) (512, 512) (512, 512)\n",
            "(512, 512, 3) (512, 10, 3) (512, 512, 3) (512, 10, 3) (512, 512, 3)\n"
          ]
        },
        {
          "output_type": "stream",
          "name": "stderr",
          "text": [
            "\r 24%|██▍       | 118/490 [01:00<03:27,  1.79it/s]"
          ]
        },
        {
          "output_type": "stream",
          "name": "stdout",
          "text": [
            "_05_g_20\n",
            "(512, 512, 1) 1.0 4.5158006e-07\n",
            "(512, 512, 3) (512, 512) (512, 512)\n",
            "(512, 512, 3) (512, 10, 3) (512, 512, 3) (512, 10, 3) (512, 512, 3)\n"
          ]
        },
        {
          "output_type": "stream",
          "name": "stderr",
          "text": [
            "\r 24%|██▍       | 119/490 [01:01<03:29,  1.77it/s]"
          ]
        },
        {
          "output_type": "stream",
          "name": "stdout",
          "text": [
            "_05_g_21\n",
            "(512, 512, 1) 1.0 6.492836e-07\n",
            "(512, 512, 3) (512, 512) (512, 512)\n",
            "(512, 512, 3) (512, 10, 3) (512, 512, 3) (512, 10, 3) (512, 512, 3)\n"
          ]
        },
        {
          "output_type": "stream",
          "name": "stderr",
          "text": [
            "\r 24%|██▍       | 120/490 [01:02<03:29,  1.76it/s]"
          ]
        },
        {
          "output_type": "stream",
          "name": "stdout",
          "text": [
            "_05_g_22\n",
            "(512, 512, 1) 1.0 8.173368e-07\n",
            "(512, 512, 3) (512, 512) (512, 512)\n",
            "(512, 512, 3) (512, 10, 3) (512, 512, 3) (512, 10, 3) (512, 512, 3)\n"
          ]
        },
        {
          "output_type": "stream",
          "name": "stderr",
          "text": [
            "\r 25%|██▍       | 121/490 [01:02<03:30,  1.75it/s]"
          ]
        },
        {
          "output_type": "stream",
          "name": "stdout",
          "text": [
            "_05_g_23\n",
            "(512, 512, 1) 1.0 4.076038e-07\n",
            "(512, 512, 3) (512, 512) (512, 512)\n",
            "(512, 512, 3) (512, 10, 3) (512, 512, 3) (512, 10, 3) (512, 512, 3)\n"
          ]
        },
        {
          "output_type": "stream",
          "name": "stderr",
          "text": [
            "\r 25%|██▍       | 122/490 [01:03<03:27,  1.78it/s]"
          ]
        },
        {
          "output_type": "stream",
          "name": "stdout",
          "text": [
            "_05_g_24\n",
            "(512, 512, 1) 1.0 3.9746817e-07\n",
            "(512, 512, 3) (512, 512) (512, 512)\n",
            "(512, 512, 3) (512, 10, 3) (512, 512, 3) (512, 10, 3) (512, 512, 3)\n"
          ]
        },
        {
          "output_type": "stream",
          "name": "stderr",
          "text": [
            "\r 25%|██▌       | 123/490 [01:03<03:22,  1.82it/s]"
          ]
        },
        {
          "output_type": "stream",
          "name": "stdout",
          "text": [
            "_05_g_25\n",
            "(512, 512, 1) 1.0 4.1796804e-07\n",
            "(512, 512, 3) (512, 512) (512, 512)\n",
            "(512, 512, 3) (512, 10, 3) (512, 512, 3) (512, 10, 3) (512, 512, 3)\n"
          ]
        },
        {
          "output_type": "stream",
          "name": "stderr",
          "text": [
            "\r 25%|██▌       | 124/490 [01:04<03:17,  1.85it/s]"
          ]
        },
        {
          "output_type": "stream",
          "name": "stdout",
          "text": [
            "_05_g_26\n",
            "(512, 512, 1) 1.0 3.287293e-07\n",
            "(512, 512, 3) (512, 512) (512, 512)\n",
            "(512, 512, 3) (512, 10, 3) (512, 512, 3) (512, 10, 3) (512, 512, 3)\n"
          ]
        },
        {
          "output_type": "stream",
          "name": "stderr",
          "text": [
            "\r 26%|██▌       | 125/490 [01:04<03:12,  1.89it/s]"
          ]
        },
        {
          "output_type": "stream",
          "name": "stdout",
          "text": [
            "_05_g_27\n",
            "(512, 512, 1) 1.0 7.2530764e-07\n",
            "(512, 512, 3) (512, 512) (512, 512)\n",
            "(512, 512, 3) (512, 10, 3) (512, 512, 3) (512, 10, 3) (512, 512, 3)\n"
          ]
        },
        {
          "output_type": "stream",
          "name": "stderr",
          "text": [
            "\r 26%|██▌       | 126/490 [01:05<03:09,  1.92it/s]"
          ]
        },
        {
          "output_type": "stream",
          "name": "stdout",
          "text": [
            "_05_g_28\n",
            "(512, 512, 1) 0.00058721576 5.081735e-06\n",
            "(512, 512, 3) (512, 512) (512, 512)\n",
            "(512, 512, 3) (512, 10, 3) (512, 512, 3) (512, 10, 3) (512, 512, 3)\n"
          ]
        },
        {
          "output_type": "stream",
          "name": "stderr",
          "text": [
            "/usr/local/lib/python3.7/dist-packages/sklearn/metrics/_classification.py:1318: UndefinedMetricWarning: Precision is ill-defined and being set to 0.0 due to no predicted samples. Use `zero_division` parameter to control this behavior.\n",
            "  _warn_prf(average, modifier, msg_start, len(result))\n",
            "\r 26%|██▌       | 127/490 [01:05<03:06,  1.95it/s]"
          ]
        },
        {
          "output_type": "stream",
          "name": "stdout",
          "text": [
            "_05_g_29\n",
            "(512, 512, 1) 1.0 8.045208e-07\n",
            "(512, 512, 3) (512, 512) (512, 512)\n",
            "(512, 512, 3) (512, 10, 3) (512, 512, 3) (512, 10, 3) (512, 512, 3)\n"
          ]
        },
        {
          "output_type": "stream",
          "name": "stderr",
          "text": [
            "\r 26%|██▌       | 128/490 [01:06<03:05,  1.95it/s]"
          ]
        },
        {
          "output_type": "stream",
          "name": "stdout",
          "text": [
            "_05_g_3\n",
            "(512, 512, 1) 1.0 2.9118218e-07\n",
            "(512, 512, 3) (512, 512) (512, 512)\n",
            "(512, 512, 3) (512, 10, 3) (512, 512, 3) (512, 10, 3) (512, 512, 3)\n"
          ]
        },
        {
          "output_type": "stream",
          "name": "stderr",
          "text": [
            "\r 26%|██▋       | 129/490 [01:06<03:03,  1.97it/s]"
          ]
        },
        {
          "output_type": "stream",
          "name": "stdout",
          "text": [
            "_05_g_30\n",
            "(512, 512, 1) 1.0 3.9152286e-07\n",
            "(512, 512, 3) (512, 512) (512, 512)\n",
            "(512, 512, 3) (512, 10, 3) (512, 512, 3) (512, 10, 3) (512, 512, 3)\n"
          ]
        },
        {
          "output_type": "stream",
          "name": "stderr",
          "text": [
            "\r 27%|██▋       | 130/490 [01:07<03:02,  1.98it/s]"
          ]
        },
        {
          "output_type": "stream",
          "name": "stdout",
          "text": [
            "_05_g_31\n",
            "(512, 512, 1) 1.0 4.6358386e-07\n",
            "(512, 512, 3) (512, 512) (512, 512)\n",
            "(512, 512, 3) (512, 10, 3) (512, 512, 3) (512, 10, 3) (512, 512, 3)\n"
          ]
        },
        {
          "output_type": "stream",
          "name": "stderr",
          "text": [
            "\r 27%|██▋       | 131/490 [01:07<03:00,  1.99it/s]"
          ]
        },
        {
          "output_type": "stream",
          "name": "stdout",
          "text": [
            "_05_g_32\n",
            "(512, 512, 1) 1.0 7.576834e-07\n",
            "(512, 512, 3) (512, 512) (512, 512)\n",
            "(512, 512, 3) (512, 10, 3) (512, 512, 3) (512, 10, 3) (512, 512, 3)\n"
          ]
        },
        {
          "output_type": "stream",
          "name": "stderr",
          "text": [
            "\r 27%|██▋       | 132/490 [01:08<03:00,  1.99it/s]"
          ]
        },
        {
          "output_type": "stream",
          "name": "stdout",
          "text": [
            "_05_g_33\n",
            "(512, 512, 1) 1.0 4.5045354e-07\n",
            "(512, 512, 3) (512, 512) (512, 512)\n",
            "(512, 512, 3) (512, 10, 3) (512, 512, 3) (512, 10, 3) (512, 512, 3)\n"
          ]
        },
        {
          "output_type": "stream",
          "name": "stderr",
          "text": [
            "\r 27%|██▋       | 133/490 [01:08<02:59,  1.99it/s]"
          ]
        },
        {
          "output_type": "stream",
          "name": "stdout",
          "text": [
            "_05_g_34\n",
            "(512, 512, 1) 1.0 5.4067277e-06\n",
            "(512, 512, 3) (512, 512) (512, 512)\n",
            "(512, 512, 3) (512, 10, 3) (512, 512, 3) (512, 10, 3) (512, 512, 3)\n"
          ]
        },
        {
          "output_type": "stream",
          "name": "stderr",
          "text": [
            "\r 27%|██▋       | 134/490 [01:09<02:58,  2.00it/s]"
          ]
        },
        {
          "output_type": "stream",
          "name": "stdout",
          "text": [
            "_05_g_4\n",
            "(512, 512, 1) 1.0 4.035965e-07\n",
            "(512, 512, 3) (512, 512) (512, 512)\n",
            "(512, 512, 3) (512, 10, 3) (512, 512, 3) (512, 10, 3) (512, 512, 3)\n"
          ]
        },
        {
          "output_type": "stream",
          "name": "stderr",
          "text": [
            "\r 28%|██▊       | 135/490 [01:09<02:58,  1.99it/s]"
          ]
        },
        {
          "output_type": "stream",
          "name": "stdout",
          "text": [
            "_05_g_5\n",
            "(512, 512, 1) 1.0 8.302752e-07\n",
            "(512, 512, 3) (512, 512) (512, 512)\n",
            "(512, 512, 3) (512, 10, 3) (512, 512, 3) (512, 10, 3) (512, 512, 3)\n"
          ]
        },
        {
          "output_type": "stream",
          "name": "stderr",
          "text": [
            "\r 28%|██▊       | 136/490 [01:10<02:59,  1.97it/s]"
          ]
        },
        {
          "output_type": "stream",
          "name": "stdout",
          "text": [
            "_05_g_6\n",
            "(512, 512, 1) 1.0 8.0168473e-07\n",
            "(512, 512, 3) (512, 512) (512, 512)\n",
            "(512, 512, 3) (512, 10, 3) (512, 512, 3) (512, 10, 3) (512, 512, 3)\n"
          ]
        },
        {
          "output_type": "stream",
          "name": "stderr",
          "text": [
            "\r 28%|██▊       | 137/490 [01:10<02:57,  1.99it/s]"
          ]
        },
        {
          "output_type": "stream",
          "name": "stdout",
          "text": [
            "_05_g_7\n",
            "(512, 512, 1) 1.0 4.871219e-07\n",
            "(512, 512, 3) (512, 512) (512, 512)\n",
            "(512, 512, 3) (512, 10, 3) (512, 512, 3) (512, 10, 3) (512, 512, 3)\n"
          ]
        },
        {
          "output_type": "stream",
          "name": "stderr",
          "text": [
            "\r 28%|██▊       | 138/490 [01:11<02:56,  2.00it/s]"
          ]
        },
        {
          "output_type": "stream",
          "name": "stdout",
          "text": [
            "_05_g_8\n",
            "(512, 512, 1) 1.0 9.06714e-07\n",
            "(512, 512, 3) (512, 512) (512, 512)\n",
            "(512, 512, 3) (512, 10, 3) (512, 512, 3) (512, 10, 3) (512, 512, 3)\n"
          ]
        },
        {
          "output_type": "stream",
          "name": "stderr",
          "text": [
            "\r 28%|██▊       | 139/490 [01:11<02:55,  2.00it/s]"
          ]
        },
        {
          "output_type": "stream",
          "name": "stdout",
          "text": [
            "_05_g_9\n",
            "(512, 512, 1) 1.0 3.586014e-07\n",
            "(512, 512, 3) (512, 512) (512, 512)\n",
            "(512, 512, 3) (512, 10, 3) (512, 512, 3) (512, 10, 3) (512, 512, 3)\n"
          ]
        },
        {
          "output_type": "stream",
          "name": "stderr",
          "text": [
            "\r 29%|██▊       | 140/490 [01:12<02:55,  1.99it/s]"
          ]
        },
        {
          "output_type": "stream",
          "name": "stdout",
          "text": [
            "_06_g_0\n",
            "(512, 512, 1) 1.0 3.0671276e-06\n",
            "(512, 512, 3) (512, 512) (512, 512)\n",
            "(512, 512, 3) (512, 10, 3) (512, 512, 3) (512, 10, 3) (512, 512, 3)\n"
          ]
        },
        {
          "output_type": "stream",
          "name": "stderr",
          "text": [
            "\r 29%|██▉       | 141/490 [01:12<02:57,  1.97it/s]"
          ]
        },
        {
          "output_type": "stream",
          "name": "stdout",
          "text": [
            "_06_g_1\n",
            "(512, 512, 1) 1.0 5.156812e-07\n",
            "(512, 512, 3) (512, 512) (512, 512)\n",
            "(512, 512, 3) (512, 10, 3) (512, 512, 3) (512, 10, 3) (512, 512, 3)\n"
          ]
        },
        {
          "output_type": "stream",
          "name": "stderr",
          "text": [
            "\r 29%|██▉       | 142/490 [01:13<03:00,  1.93it/s]"
          ]
        },
        {
          "output_type": "stream",
          "name": "stdout",
          "text": [
            "_06_g_10\n",
            "(512, 512, 1) 1.0 7.170176e-07\n",
            "(512, 512, 3) (512, 512) (512, 512)\n",
            "(512, 512, 3) (512, 10, 3) (512, 512, 3) (512, 10, 3) (512, 512, 3)\n"
          ]
        },
        {
          "output_type": "stream",
          "name": "stderr",
          "text": [
            "\r 29%|██▉       | 143/490 [01:13<03:00,  1.92it/s]"
          ]
        },
        {
          "output_type": "stream",
          "name": "stdout",
          "text": [
            "_06_g_11\n",
            "(512, 512, 1) 1.0 6.011115e-07\n",
            "(512, 512, 3) (512, 512) (512, 512)\n",
            "(512, 512, 3) (512, 10, 3) (512, 512, 3) (512, 10, 3) (512, 512, 3)\n"
          ]
        },
        {
          "output_type": "stream",
          "name": "stderr",
          "text": [
            "\r 29%|██▉       | 144/490 [01:14<03:00,  1.92it/s]"
          ]
        },
        {
          "output_type": "stream",
          "name": "stdout",
          "text": [
            "_06_g_12\n",
            "(512, 512, 1) 1.0 5.92663e-07\n",
            "(512, 512, 3) (512, 512) (512, 512)\n",
            "(512, 512, 3) (512, 10, 3) (512, 512, 3) (512, 10, 3) (512, 512, 3)\n"
          ]
        },
        {
          "output_type": "stream",
          "name": "stderr",
          "text": [
            "\r 30%|██▉       | 145/490 [01:14<02:58,  1.93it/s]"
          ]
        },
        {
          "output_type": "stream",
          "name": "stdout",
          "text": [
            "_06_g_13\n",
            "(512, 512, 1) 1.0 1.1374528e-06\n",
            "(512, 512, 3) (512, 512) (512, 512)\n",
            "(512, 512, 3) (512, 10, 3) (512, 512, 3) (512, 10, 3) (512, 512, 3)\n"
          ]
        },
        {
          "output_type": "stream",
          "name": "stderr",
          "text": [
            "\r 30%|██▉       | 146/490 [01:15<02:56,  1.95it/s]"
          ]
        },
        {
          "output_type": "stream",
          "name": "stdout",
          "text": [
            "_06_g_14\n",
            "(512, 512, 1) 1.0 1.6776838e-06\n",
            "(512, 512, 3) (512, 512) (512, 512)\n",
            "(512, 512, 3) (512, 10, 3) (512, 512, 3) (512, 10, 3) (512, 512, 3)\n"
          ]
        },
        {
          "output_type": "stream",
          "name": "stderr",
          "text": [
            "\r 30%|███       | 147/490 [01:15<02:56,  1.94it/s]"
          ]
        },
        {
          "output_type": "stream",
          "name": "stdout",
          "text": [
            "_06_g_15\n",
            "(512, 512, 1) 1.0 5.369523e-07\n",
            "(512, 512, 3) (512, 512) (512, 512)\n",
            "(512, 512, 3) (512, 10, 3) (512, 512, 3) (512, 10, 3) (512, 512, 3)\n"
          ]
        },
        {
          "output_type": "stream",
          "name": "stderr",
          "text": [
            "\r 30%|███       | 148/490 [01:16<02:56,  1.94it/s]"
          ]
        },
        {
          "output_type": "stream",
          "name": "stdout",
          "text": [
            "_06_g_16\n",
            "(512, 512, 1) 1.0 2.6804017e-07\n",
            "(512, 512, 3) (512, 512) (512, 512)\n",
            "(512, 512, 3) (512, 10, 3) (512, 512, 3) (512, 10, 3) (512, 512, 3)\n"
          ]
        },
        {
          "output_type": "stream",
          "name": "stderr",
          "text": [
            "\r 30%|███       | 149/490 [01:16<02:55,  1.94it/s]"
          ]
        },
        {
          "output_type": "stream",
          "name": "stdout",
          "text": [
            "_06_g_17\n",
            "(512, 512, 1) 1.0 8.679578e-07\n",
            "(512, 512, 3) (512, 512) (512, 512)\n",
            "(512, 512, 3) (512, 10, 3) (512, 512, 3) (512, 10, 3) (512, 512, 3)\n"
          ]
        },
        {
          "output_type": "stream",
          "name": "stderr",
          "text": [
            "\r 31%|███       | 150/490 [01:17<02:54,  1.95it/s]"
          ]
        },
        {
          "output_type": "stream",
          "name": "stdout",
          "text": [
            "_06_g_18\n",
            "(512, 512, 1) 1.0 4.0138207e-07\n",
            "(512, 512, 3) (512, 512) (512, 512)\n",
            "(512, 512, 3) (512, 10, 3) (512, 512, 3) (512, 10, 3) (512, 512, 3)\n"
          ]
        },
        {
          "output_type": "stream",
          "name": "stderr",
          "text": [
            "\r 31%|███       | 151/490 [01:17<02:54,  1.94it/s]"
          ]
        },
        {
          "output_type": "stream",
          "name": "stdout",
          "text": [
            "_06_g_19\n",
            "(512, 512, 1) 1.0 2.626616e-07\n",
            "(512, 512, 3) (512, 512) (512, 512)\n",
            "(512, 512, 3) (512, 10, 3) (512, 512, 3) (512, 10, 3) (512, 512, 3)\n"
          ]
        },
        {
          "output_type": "stream",
          "name": "stderr",
          "text": [
            "\r 31%|███       | 152/490 [01:18<02:53,  1.95it/s]"
          ]
        },
        {
          "output_type": "stream",
          "name": "stdout",
          "text": [
            "_06_g_2\n",
            "(512, 512, 1) 1.0 2.3031247e-07\n",
            "(512, 512, 3) (512, 512) (512, 512)\n",
            "(512, 512, 3) (512, 10, 3) (512, 512, 3) (512, 10, 3) (512, 512, 3)\n"
          ]
        },
        {
          "output_type": "stream",
          "name": "stderr",
          "text": [
            "\r 31%|███       | 153/490 [01:18<02:51,  1.96it/s]"
          ]
        },
        {
          "output_type": "stream",
          "name": "stdout",
          "text": [
            "_06_g_20\n",
            "(512, 512, 1) 1.0 1.4093594e-06\n",
            "(512, 512, 3) (512, 512) (512, 512)\n",
            "(512, 512, 3) (512, 10, 3) (512, 512, 3) (512, 10, 3) (512, 512, 3)\n"
          ]
        },
        {
          "output_type": "stream",
          "name": "stderr",
          "text": [
            "\r 31%|███▏      | 154/490 [01:19<02:50,  1.97it/s]"
          ]
        },
        {
          "output_type": "stream",
          "name": "stdout",
          "text": [
            "_06_g_21\n",
            "(512, 512, 1) 1.0 3.424261e-06\n",
            "(512, 512, 3) (512, 512) (512, 512)\n",
            "(512, 512, 3) (512, 10, 3) (512, 512, 3) (512, 10, 3) (512, 512, 3)\n"
          ]
        },
        {
          "output_type": "stream",
          "name": "stderr",
          "text": [
            "\r 32%|███▏      | 155/490 [01:19<02:48,  1.98it/s]"
          ]
        },
        {
          "output_type": "stream",
          "name": "stdout",
          "text": [
            "_06_g_22\n",
            "(512, 512, 1) 1.0 5.5065954e-07\n",
            "(512, 512, 3) (512, 512) (512, 512)\n",
            "(512, 512, 3) (512, 10, 3) (512, 512, 3) (512, 10, 3) (512, 512, 3)\n"
          ]
        },
        {
          "output_type": "stream",
          "name": "stderr",
          "text": [
            "\r 32%|███▏      | 156/490 [01:20<02:48,  1.98it/s]"
          ]
        },
        {
          "output_type": "stream",
          "name": "stdout",
          "text": [
            "_06_g_23\n",
            "(512, 512, 1) 1.0 3.9772374e-07\n",
            "(512, 512, 3) (512, 512) (512, 512)\n",
            "(512, 512, 3) (512, 10, 3) (512, 512, 3) (512, 10, 3) (512, 512, 3)\n"
          ]
        },
        {
          "output_type": "stream",
          "name": "stderr",
          "text": [
            "\r 32%|███▏      | 157/490 [01:21<02:49,  1.97it/s]"
          ]
        },
        {
          "output_type": "stream",
          "name": "stdout",
          "text": [
            "_06_g_24\n",
            "(512, 512, 1) 1.0 5.965661e-07\n",
            "(512, 512, 3) (512, 512) (512, 512)\n",
            "(512, 512, 3) (512, 10, 3) (512, 512, 3) (512, 10, 3) (512, 512, 3)\n"
          ]
        },
        {
          "output_type": "stream",
          "name": "stderr",
          "text": [
            "\r 32%|███▏      | 158/490 [01:21<02:53,  1.92it/s]"
          ]
        },
        {
          "output_type": "stream",
          "name": "stdout",
          "text": [
            "_06_g_25\n",
            "(512, 512, 1) 1.0 1.8519101e-07\n",
            "(512, 512, 3) (512, 512) (512, 512)\n",
            "(512, 512, 3) (512, 10, 3) (512, 512, 3) (512, 10, 3) (512, 512, 3)\n"
          ]
        },
        {
          "output_type": "stream",
          "name": "stderr",
          "text": [
            "\r 32%|███▏      | 159/490 [01:22<02:53,  1.90it/s]"
          ]
        },
        {
          "output_type": "stream",
          "name": "stdout",
          "text": [
            "_06_g_26\n",
            "(512, 512, 1) 1.0 2.750321e-07\n",
            "(512, 512, 3) (512, 512) (512, 512)\n",
            "(512, 512, 3) (512, 10, 3) (512, 512, 3) (512, 10, 3) (512, 512, 3)\n"
          ]
        },
        {
          "output_type": "stream",
          "name": "stderr",
          "text": [
            "\r 33%|███▎      | 160/490 [01:22<02:54,  1.89it/s]"
          ]
        },
        {
          "output_type": "stream",
          "name": "stdout",
          "text": [
            "_06_g_27\n",
            "(512, 512, 1) 1.0 1.2654724e-06\n",
            "(512, 512, 3) (512, 512) (512, 512)\n",
            "(512, 512, 3) (512, 10, 3) (512, 512, 3) (512, 10, 3) (512, 512, 3)\n"
          ]
        },
        {
          "output_type": "stream",
          "name": "stderr",
          "text": [
            "\r 33%|███▎      | 161/490 [01:23<02:53,  1.89it/s]"
          ]
        },
        {
          "output_type": "stream",
          "name": "stdout",
          "text": [
            "_06_g_28\n",
            "(512, 512, 1) 1.0 3.4843372e-06\n",
            "(512, 512, 3) (512, 512) (512, 512)\n",
            "(512, 512, 3) (512, 10, 3) (512, 512, 3) (512, 10, 3) (512, 512, 3)\n"
          ]
        },
        {
          "output_type": "stream",
          "name": "stderr",
          "text": [
            "\r 33%|███▎      | 162/490 [01:23<02:54,  1.88it/s]"
          ]
        },
        {
          "output_type": "stream",
          "name": "stdout",
          "text": [
            "_06_g_29\n",
            "(512, 512, 1) 1.0 3.9540956e-07\n",
            "(512, 512, 3) (512, 512) (512, 512)\n",
            "(512, 512, 3) (512, 10, 3) (512, 512, 3) (512, 10, 3) (512, 512, 3)\n"
          ]
        },
        {
          "output_type": "stream",
          "name": "stderr",
          "text": [
            "\r 33%|███▎      | 163/490 [01:24<02:52,  1.90it/s]"
          ]
        },
        {
          "output_type": "stream",
          "name": "stdout",
          "text": [
            "_06_g_3\n",
            "(512, 512, 1) 1.0 3.9014415e-07\n",
            "(512, 512, 3) (512, 512) (512, 512)\n",
            "(512, 512, 3) (512, 10, 3) (512, 512, 3) (512, 10, 3) (512, 512, 3)\n"
          ]
        },
        {
          "output_type": "stream",
          "name": "stderr",
          "text": [
            "\r 33%|███▎      | 164/490 [01:24<02:49,  1.92it/s]"
          ]
        },
        {
          "output_type": "stream",
          "name": "stdout",
          "text": [
            "_06_g_30\n",
            "(512, 512, 1) 1.0 5.211378e-07\n",
            "(512, 512, 3) (512, 512) (512, 512)\n",
            "(512, 512, 3) (512, 10, 3) (512, 512, 3) (512, 10, 3) (512, 512, 3)\n"
          ]
        },
        {
          "output_type": "stream",
          "name": "stderr",
          "text": [
            "\r 34%|███▎      | 165/490 [01:25<02:48,  1.93it/s]"
          ]
        },
        {
          "output_type": "stream",
          "name": "stdout",
          "text": [
            "_06_g_31\n",
            "(512, 512, 1) 1.0 6.97646e-07\n",
            "(512, 512, 3) (512, 512) (512, 512)\n",
            "(512, 512, 3) (512, 10, 3) (512, 512, 3) (512, 10, 3) (512, 512, 3)\n"
          ]
        },
        {
          "output_type": "stream",
          "name": "stderr",
          "text": [
            "\r 34%|███▍      | 166/490 [01:25<02:46,  1.94it/s]"
          ]
        },
        {
          "output_type": "stream",
          "name": "stdout",
          "text": [
            "_06_g_32\n",
            "(512, 512, 1) 1.0 4.009968e-07\n",
            "(512, 512, 3) (512, 512) (512, 512)\n",
            "(512, 512, 3) (512, 10, 3) (512, 512, 3) (512, 10, 3) (512, 512, 3)\n"
          ]
        },
        {
          "output_type": "stream",
          "name": "stderr",
          "text": [
            "\r 34%|███▍      | 167/490 [01:26<02:45,  1.95it/s]"
          ]
        },
        {
          "output_type": "stream",
          "name": "stdout",
          "text": [
            "_06_g_33\n",
            "(512, 512, 1) 1.0 1.1665619e-06\n",
            "(512, 512, 3) (512, 512) (512, 512)\n",
            "(512, 512, 3) (512, 10, 3) (512, 512, 3) (512, 10, 3) (512, 512, 3)\n"
          ]
        },
        {
          "output_type": "stream",
          "name": "stderr",
          "text": [
            "\r 34%|███▍      | 168/490 [01:26<02:44,  1.96it/s]"
          ]
        },
        {
          "output_type": "stream",
          "name": "stdout",
          "text": [
            "_06_g_34\n",
            "(512, 512, 1) 1.0 1.5711189e-06\n",
            "(512, 512, 3) (512, 512) (512, 512)\n",
            "(512, 512, 3) (512, 10, 3) (512, 512, 3) (512, 10, 3) (512, 512, 3)\n"
          ]
        },
        {
          "output_type": "stream",
          "name": "stderr",
          "text": [
            "\r 34%|███▍      | 169/490 [01:27<02:42,  1.98it/s]"
          ]
        },
        {
          "output_type": "stream",
          "name": "stdout",
          "text": [
            "_06_g_4\n",
            "(512, 512, 1) 1.0 3.795968e-07\n",
            "(512, 512, 3) (512, 512) (512, 512)\n",
            "(512, 512, 3) (512, 10, 3) (512, 512, 3) (512, 10, 3) (512, 512, 3)\n"
          ]
        },
        {
          "output_type": "stream",
          "name": "stderr",
          "text": [
            "\r 35%|███▍      | 170/490 [01:27<02:43,  1.96it/s]"
          ]
        },
        {
          "output_type": "stream",
          "name": "stdout",
          "text": [
            "_06_g_5\n",
            "(512, 512, 1) 1.0 1.8839314e-06\n",
            "(512, 512, 3) (512, 512) (512, 512)\n",
            "(512, 512, 3) (512, 10, 3) (512, 512, 3) (512, 10, 3) (512, 512, 3)\n"
          ]
        },
        {
          "output_type": "stream",
          "name": "stderr",
          "text": [
            "\r 35%|███▍      | 171/490 [01:28<02:42,  1.96it/s]"
          ]
        },
        {
          "output_type": "stream",
          "name": "stdout",
          "text": [
            "_06_g_6\n",
            "(512, 512, 1) 1.0 3.7859131e-06\n",
            "(512, 512, 3) (512, 512) (512, 512)\n",
            "(512, 512, 3) (512, 10, 3) (512, 512, 3) (512, 10, 3) (512, 512, 3)\n"
          ]
        },
        {
          "output_type": "stream",
          "name": "stderr",
          "text": [
            "\r 35%|███▌      | 172/490 [01:28<02:41,  1.97it/s]"
          ]
        },
        {
          "output_type": "stream",
          "name": "stdout",
          "text": [
            "_06_g_7\n",
            "(512, 512, 1) 1.0 6.156652e-07\n",
            "(512, 512, 3) (512, 512) (512, 512)\n",
            "(512, 512, 3) (512, 10, 3) (512, 512, 3) (512, 10, 3) (512, 512, 3)\n"
          ]
        },
        {
          "output_type": "stream",
          "name": "stderr",
          "text": [
            "\r 35%|███▌      | 173/490 [01:29<02:40,  1.97it/s]"
          ]
        },
        {
          "output_type": "stream",
          "name": "stdout",
          "text": [
            "_06_g_8\n",
            "(512, 512, 1) 1.0 5.7886666e-07\n",
            "(512, 512, 3) (512, 512) (512, 512)\n",
            "(512, 512, 3) (512, 10, 3) (512, 512, 3) (512, 10, 3) (512, 512, 3)\n"
          ]
        },
        {
          "output_type": "stream",
          "name": "stderr",
          "text": [
            "\r 36%|███▌      | 174/490 [01:29<02:40,  1.97it/s]"
          ]
        },
        {
          "output_type": "stream",
          "name": "stdout",
          "text": [
            "_06_g_9\n",
            "(512, 512, 1) 1.0 7.5119584e-07\n",
            "(512, 512, 3) (512, 512) (512, 512)\n",
            "(512, 512, 3) (512, 10, 3) (512, 512, 3) (512, 10, 3) (512, 512, 3)\n"
          ]
        },
        {
          "output_type": "stream",
          "name": "stderr",
          "text": [
            "\r 36%|███▌      | 175/490 [01:30<02:39,  1.98it/s]"
          ]
        },
        {
          "output_type": "stream",
          "name": "stdout",
          "text": [
            "_08_dr_0\n",
            "(512, 512, 1) 0.9522638 1.8675496e-07\n",
            "(512, 512, 3) (512, 512) (512, 512)\n",
            "(512, 512, 3) (512, 10, 3) (512, 512, 3) (512, 10, 3) (512, 512, 3)\n"
          ]
        },
        {
          "output_type": "stream",
          "name": "stderr",
          "text": [
            "\r 36%|███▌      | 176/490 [01:30<02:36,  2.00it/s]"
          ]
        },
        {
          "output_type": "stream",
          "name": "stdout",
          "text": [
            "_08_dr_1\n",
            "(512, 512, 1) 1.0 2.678835e-07\n",
            "(512, 512, 3) (512, 512) (512, 512)\n",
            "(512, 512, 3) (512, 10, 3) (512, 512, 3) (512, 10, 3) (512, 512, 3)\n"
          ]
        },
        {
          "output_type": "stream",
          "name": "stderr",
          "text": [
            "\r 36%|███▌      | 177/490 [01:31<02:35,  2.01it/s]"
          ]
        },
        {
          "output_type": "stream",
          "name": "stdout",
          "text": [
            "_08_dr_10\n",
            "(512, 512, 1) 1.0 1.3715284e-07\n",
            "(512, 512, 3) (512, 512) (512, 512)\n",
            "(512, 512, 3) (512, 10, 3) (512, 512, 3) (512, 10, 3) (512, 512, 3)\n"
          ]
        },
        {
          "output_type": "stream",
          "name": "stderr",
          "text": [
            "\r 36%|███▋      | 178/490 [01:31<02:37,  1.99it/s]"
          ]
        },
        {
          "output_type": "stream",
          "name": "stdout",
          "text": [
            "_08_dr_11\n",
            "(512, 512, 1) 1.0 2.7330776e-07\n",
            "(512, 512, 3) (512, 512) (512, 512)\n",
            "(512, 512, 3) (512, 10, 3) (512, 512, 3) (512, 10, 3) (512, 512, 3)\n"
          ]
        },
        {
          "output_type": "stream",
          "name": "stderr",
          "text": [
            "\r 37%|███▋      | 179/490 [01:32<02:35,  2.00it/s]"
          ]
        },
        {
          "output_type": "stream",
          "name": "stdout",
          "text": [
            "_08_dr_12\n",
            "(512, 512, 1) 1.0 2.3870356e-07\n",
            "(512, 512, 3) (512, 512) (512, 512)\n",
            "(512, 512, 3) (512, 10, 3) (512, 512, 3) (512, 10, 3) (512, 512, 3)\n"
          ]
        },
        {
          "output_type": "stream",
          "name": "stderr",
          "text": [
            "\r 37%|███▋      | 180/490 [01:32<02:35,  1.99it/s]"
          ]
        },
        {
          "output_type": "stream",
          "name": "stdout",
          "text": [
            "_08_dr_13\n",
            "(512, 512, 1) 1.0 7.3119713e-07\n",
            "(512, 512, 3) (512, 512) (512, 512)\n",
            "(512, 512, 3) (512, 10, 3) (512, 512, 3) (512, 10, 3) (512, 512, 3)\n"
          ]
        },
        {
          "output_type": "stream",
          "name": "stderr",
          "text": [
            "\r 37%|███▋      | 181/490 [01:33<02:35,  1.99it/s]"
          ]
        },
        {
          "output_type": "stream",
          "name": "stdout",
          "text": [
            "_08_dr_14\n",
            "(512, 512, 1) 1.0 9.117583e-08\n",
            "(512, 512, 3) (512, 512) (512, 512)\n",
            "(512, 512, 3) (512, 10, 3) (512, 512, 3) (512, 10, 3) (512, 512, 3)\n"
          ]
        },
        {
          "output_type": "stream",
          "name": "stderr",
          "text": [
            "\r 37%|███▋      | 182/490 [01:33<02:35,  1.99it/s]"
          ]
        },
        {
          "output_type": "stream",
          "name": "stdout",
          "text": [
            "_08_dr_15\n",
            "(512, 512, 1) 1.0 2.9214345e-07\n",
            "(512, 512, 3) (512, 512) (512, 512)\n",
            "(512, 512, 3) (512, 10, 3) (512, 512, 3) (512, 10, 3) (512, 512, 3)\n"
          ]
        },
        {
          "output_type": "stream",
          "name": "stderr",
          "text": [
            "\r 37%|███▋      | 183/490 [01:34<02:35,  1.98it/s]"
          ]
        },
        {
          "output_type": "stream",
          "name": "stdout",
          "text": [
            "_08_dr_16\n",
            "(512, 512, 1) 1.0 8.148947e-08\n",
            "(512, 512, 3) (512, 512) (512, 512)\n",
            "(512, 512, 3) (512, 10, 3) (512, 512, 3) (512, 10, 3) (512, 512, 3)\n"
          ]
        },
        {
          "output_type": "stream",
          "name": "stderr",
          "text": [
            "\r 38%|███▊      | 184/490 [01:34<02:34,  1.98it/s]"
          ]
        },
        {
          "output_type": "stream",
          "name": "stdout",
          "text": [
            "_08_dr_17\n",
            "(512, 512, 1) 1.0 8.123542e-08\n",
            "(512, 512, 3) (512, 512) (512, 512)\n",
            "(512, 512, 3) (512, 10, 3) (512, 512, 3) (512, 10, 3) (512, 512, 3)\n"
          ]
        },
        {
          "output_type": "stream",
          "name": "stderr",
          "text": [
            "\r 38%|███▊      | 185/490 [01:35<02:34,  1.98it/s]"
          ]
        },
        {
          "output_type": "stream",
          "name": "stdout",
          "text": [
            "_08_dr_18\n",
            "(512, 512, 1) 1.0 1.7480875e-07\n",
            "(512, 512, 3) (512, 512) (512, 512)\n",
            "(512, 512, 3) (512, 10, 3) (512, 512, 3) (512, 10, 3) (512, 512, 3)\n"
          ]
        },
        {
          "output_type": "stream",
          "name": "stderr",
          "text": [
            "\r 38%|███▊      | 186/490 [01:35<02:33,  1.98it/s]"
          ]
        },
        {
          "output_type": "stream",
          "name": "stdout",
          "text": [
            "_08_dr_19\n",
            "(512, 512, 1) 1.0 1.5715251e-07\n",
            "(512, 512, 3) (512, 512) (512, 512)\n",
            "(512, 512, 3) (512, 10, 3) (512, 512, 3) (512, 10, 3) (512, 512, 3)\n"
          ]
        },
        {
          "output_type": "stream",
          "name": "stderr",
          "text": [
            "\r 38%|███▊      | 187/490 [01:36<02:33,  1.97it/s]"
          ]
        },
        {
          "output_type": "stream",
          "name": "stdout",
          "text": [
            "_08_dr_2\n",
            "(512, 512, 1) 1.0 3.2170615e-07\n",
            "(512, 512, 3) (512, 512) (512, 512)\n",
            "(512, 512, 3) (512, 10, 3) (512, 512, 3) (512, 10, 3) (512, 512, 3)\n"
          ]
        },
        {
          "output_type": "stream",
          "name": "stderr",
          "text": [
            "\r 38%|███▊      | 188/490 [01:36<02:33,  1.97it/s]"
          ]
        },
        {
          "output_type": "stream",
          "name": "stdout",
          "text": [
            "_08_dr_20\n",
            "(512, 512, 1) 1.0 3.2433448e-07\n",
            "(512, 512, 3) (512, 512) (512, 512)\n",
            "(512, 512, 3) (512, 10, 3) (512, 512, 3) (512, 10, 3) (512, 512, 3)\n"
          ]
        },
        {
          "output_type": "stream",
          "name": "stderr",
          "text": [
            "\r 39%|███▊      | 189/490 [01:37<02:32,  1.98it/s]"
          ]
        },
        {
          "output_type": "stream",
          "name": "stdout",
          "text": [
            "_08_dr_21\n",
            "(512, 512, 1) 1.0 9.859116e-08\n",
            "(512, 512, 3) (512, 512) (512, 512)\n",
            "(512, 512, 3) (512, 10, 3) (512, 512, 3) (512, 10, 3) (512, 512, 3)\n"
          ]
        },
        {
          "output_type": "stream",
          "name": "stderr",
          "text": [
            "\r 39%|███▉      | 190/490 [01:37<02:31,  1.98it/s]"
          ]
        },
        {
          "output_type": "stream",
          "name": "stdout",
          "text": [
            "_08_dr_22\n",
            "(512, 512, 1) 1.0 1.768383e-07\n",
            "(512, 512, 3) (512, 512) (512, 512)\n",
            "(512, 512, 3) (512, 10, 3) (512, 512, 3) (512, 10, 3) (512, 512, 3)\n"
          ]
        },
        {
          "output_type": "stream",
          "name": "stderr",
          "text": [
            "\r 39%|███▉      | 191/490 [01:38<02:31,  1.97it/s]"
          ]
        },
        {
          "output_type": "stream",
          "name": "stdout",
          "text": [
            "_08_dr_23\n",
            "(512, 512, 1) 1.0 1.1673193e-07\n",
            "(512, 512, 3) (512, 512) (512, 512)\n",
            "(512, 512, 3) (512, 10, 3) (512, 512, 3) (512, 10, 3) (512, 512, 3)\n"
          ]
        },
        {
          "output_type": "stream",
          "name": "stderr",
          "text": [
            "\r 39%|███▉      | 192/490 [01:38<02:30,  1.98it/s]"
          ]
        },
        {
          "output_type": "stream",
          "name": "stdout",
          "text": [
            "_08_dr_24\n",
            "(512, 512, 1) 1.0 2.0881282e-07\n",
            "(512, 512, 3) (512, 512) (512, 512)\n",
            "(512, 512, 3) (512, 10, 3) (512, 512, 3) (512, 10, 3) (512, 512, 3)\n"
          ]
        },
        {
          "output_type": "stream",
          "name": "stderr",
          "text": [
            "\r 39%|███▉      | 193/490 [01:39<02:30,  1.97it/s]"
          ]
        },
        {
          "output_type": "stream",
          "name": "stdout",
          "text": [
            "_08_dr_25\n",
            "(512, 512, 1) 1.0 1.277391e-07\n",
            "(512, 512, 3) (512, 512) (512, 512)\n",
            "(512, 512, 3) (512, 10, 3) (512, 512, 3) (512, 10, 3) (512, 512, 3)\n"
          ]
        },
        {
          "output_type": "stream",
          "name": "stderr",
          "text": [
            "\r 40%|███▉      | 194/490 [01:39<02:30,  1.97it/s]"
          ]
        },
        {
          "output_type": "stream",
          "name": "stdout",
          "text": [
            "_08_dr_26\n",
            "(512, 512, 1) 1.0 3.1061904e-07\n",
            "(512, 512, 3) (512, 512) (512, 512)\n",
            "(512, 512, 3) (512, 10, 3) (512, 512, 3) (512, 10, 3) (512, 512, 3)\n"
          ]
        },
        {
          "output_type": "stream",
          "name": "stderr",
          "text": [
            "\r 40%|███▉      | 195/490 [01:40<02:30,  1.96it/s]"
          ]
        },
        {
          "output_type": "stream",
          "name": "stdout",
          "text": [
            "_08_dr_27\n",
            "(512, 512, 1) 1.0 8.556178e-07\n",
            "(512, 512, 3) (512, 512) (512, 512)\n",
            "(512, 512, 3) (512, 10, 3) (512, 512, 3) (512, 10, 3) (512, 512, 3)\n"
          ]
        },
        {
          "output_type": "stream",
          "name": "stderr",
          "text": [
            "\r 40%|████      | 196/490 [01:40<02:29,  1.97it/s]"
          ]
        },
        {
          "output_type": "stream",
          "name": "stdout",
          "text": [
            "_08_dr_28\n",
            "(512, 512, 1) 1.0 2.0508124e-07\n",
            "(512, 512, 3) (512, 512) (512, 512)\n",
            "(512, 512, 3) (512, 10, 3) (512, 512, 3) (512, 10, 3) (512, 512, 3)\n"
          ]
        },
        {
          "output_type": "stream",
          "name": "stderr",
          "text": [
            "\r 40%|████      | 197/490 [01:41<02:27,  1.99it/s]"
          ]
        },
        {
          "output_type": "stream",
          "name": "stdout",
          "text": [
            "_08_dr_29\n",
            "(512, 512, 1) 1.0 2.0442847e-07\n",
            "(512, 512, 3) (512, 512) (512, 512)\n",
            "(512, 512, 3) (512, 10, 3) (512, 512, 3) (512, 10, 3) (512, 512, 3)\n"
          ]
        },
        {
          "output_type": "stream",
          "name": "stderr",
          "text": [
            "\r 40%|████      | 198/490 [01:41<02:26,  1.99it/s]"
          ]
        },
        {
          "output_type": "stream",
          "name": "stdout",
          "text": [
            "_08_dr_3\n",
            "(512, 512, 1) 1.0 1.98267e-07\n",
            "(512, 512, 3) (512, 512) (512, 512)\n",
            "(512, 512, 3) (512, 10, 3) (512, 512, 3) (512, 10, 3) (512, 512, 3)\n"
          ]
        },
        {
          "output_type": "stream",
          "name": "stderr",
          "text": [
            "\r 41%|████      | 199/490 [01:42<02:27,  1.97it/s]"
          ]
        },
        {
          "output_type": "stream",
          "name": "stdout",
          "text": [
            "_08_dr_30\n",
            "(512, 512, 1) 1.0 2.0557157e-07\n",
            "(512, 512, 3) (512, 512) (512, 512)\n",
            "(512, 512, 3) (512, 10, 3) (512, 512, 3) (512, 10, 3) (512, 512, 3)\n"
          ]
        },
        {
          "output_type": "stream",
          "name": "stderr",
          "text": [
            "\r 41%|████      | 200/490 [01:42<02:29,  1.94it/s]"
          ]
        },
        {
          "output_type": "stream",
          "name": "stdout",
          "text": [
            "_08_dr_31\n",
            "(512, 512, 1) 1.0 1.3426258e-07\n",
            "(512, 512, 3) (512, 512) (512, 512)\n",
            "(512, 512, 3) (512, 10, 3) (512, 512, 3) (512, 10, 3) (512, 512, 3)\n"
          ]
        },
        {
          "output_type": "stream",
          "name": "stderr",
          "text": [
            "\r 41%|████      | 201/490 [01:43<02:27,  1.96it/s]"
          ]
        },
        {
          "output_type": "stream",
          "name": "stdout",
          "text": [
            "_08_dr_32\n",
            "(512, 512, 1) 1.0 1.9914059e-07\n",
            "(512, 512, 3) (512, 512) (512, 512)\n",
            "(512, 512, 3) (512, 10, 3) (512, 512, 3) (512, 10, 3) (512, 512, 3)\n"
          ]
        },
        {
          "output_type": "stream",
          "name": "stderr",
          "text": [
            "\r 41%|████      | 202/490 [01:43<02:26,  1.97it/s]"
          ]
        },
        {
          "output_type": "stream",
          "name": "stdout",
          "text": [
            "_08_dr_33\n",
            "(512, 512, 1) 1.0 5.00267e-07\n",
            "(512, 512, 3) (512, 512) (512, 512)\n",
            "(512, 512, 3) (512, 10, 3) (512, 512, 3) (512, 10, 3) (512, 512, 3)\n"
          ]
        },
        {
          "output_type": "stream",
          "name": "stderr",
          "text": [
            "\r 41%|████▏     | 203/490 [01:44<02:26,  1.97it/s]"
          ]
        },
        {
          "output_type": "stream",
          "name": "stdout",
          "text": [
            "_08_dr_34\n",
            "(512, 512, 1) 1.0 2.0280597e-06\n",
            "(512, 512, 3) (512, 512) (512, 512)\n",
            "(512, 512, 3) (512, 10, 3) (512, 512, 3) (512, 10, 3) (512, 512, 3)\n"
          ]
        },
        {
          "output_type": "stream",
          "name": "stderr",
          "text": [
            "\r 42%|████▏     | 204/490 [01:44<02:24,  1.97it/s]"
          ]
        },
        {
          "output_type": "stream",
          "name": "stdout",
          "text": [
            "_08_dr_4\n",
            "(512, 512, 1) 1.0 3.7385607e-07\n",
            "(512, 512, 3) (512, 512) (512, 512)\n",
            "(512, 512, 3) (512, 10, 3) (512, 512, 3) (512, 10, 3) (512, 512, 3)\n"
          ]
        },
        {
          "output_type": "stream",
          "name": "stderr",
          "text": [
            "\r 42%|████▏     | 205/490 [01:45<02:24,  1.97it/s]"
          ]
        },
        {
          "output_type": "stream",
          "name": "stdout",
          "text": [
            "_08_dr_5\n",
            "(512, 512, 1) 1.0 6.633137e-07\n",
            "(512, 512, 3) (512, 512) (512, 512)\n",
            "(512, 512, 3) (512, 10, 3) (512, 512, 3) (512, 10, 3) (512, 512, 3)\n"
          ]
        },
        {
          "output_type": "stream",
          "name": "stderr",
          "text": [
            "\r 42%|████▏     | 206/490 [01:45<02:24,  1.96it/s]"
          ]
        },
        {
          "output_type": "stream",
          "name": "stdout",
          "text": [
            "_08_dr_6\n",
            "(512, 512, 1) 1.0 1.5433235e-06\n",
            "(512, 512, 3) (512, 512) (512, 512)\n",
            "(512, 512, 3) (512, 10, 3) (512, 512, 3) (512, 10, 3) (512, 512, 3)\n"
          ]
        },
        {
          "output_type": "stream",
          "name": "stderr",
          "text": [
            "\r 42%|████▏     | 207/490 [01:46<02:24,  1.96it/s]"
          ]
        },
        {
          "output_type": "stream",
          "name": "stdout",
          "text": [
            "_08_dr_7\n",
            "(512, 512, 1) 1.0 7.030474e-08\n",
            "(512, 512, 3) (512, 512) (512, 512)\n",
            "(512, 512, 3) (512, 10, 3) (512, 512, 3) (512, 10, 3) (512, 512, 3)\n"
          ]
        },
        {
          "output_type": "stream",
          "name": "stderr",
          "text": [
            "\r 42%|████▏     | 208/490 [01:47<02:23,  1.97it/s]"
          ]
        },
        {
          "output_type": "stream",
          "name": "stdout",
          "text": [
            "_08_dr_8\n",
            "(512, 512, 1) 1.0 2.0485038e-07\n",
            "(512, 512, 3) (512, 512) (512, 512)\n",
            "(512, 512, 3) (512, 10, 3) (512, 512, 3) (512, 10, 3) (512, 512, 3)\n"
          ]
        },
        {
          "output_type": "stream",
          "name": "stderr",
          "text": [
            "\r 43%|████▎     | 209/490 [01:47<02:24,  1.94it/s]"
          ]
        },
        {
          "output_type": "stream",
          "name": "stdout",
          "text": [
            "_08_dr_9\n",
            "(512, 512, 1) 1.0 1.5378505e-07\n",
            "(512, 512, 3) (512, 512) (512, 512)\n",
            "(512, 512, 3) (512, 10, 3) (512, 512, 3) (512, 10, 3) (512, 512, 3)\n"
          ]
        },
        {
          "output_type": "stream",
          "name": "stderr",
          "text": [
            "\r 43%|████▎     | 210/490 [01:48<02:26,  1.91it/s]"
          ]
        },
        {
          "output_type": "stream",
          "name": "stdout",
          "text": [
            "_08_g_0\n",
            "(512, 512, 1) 1.0 6.3639936e-07\n",
            "(512, 512, 3) (512, 512) (512, 512)\n",
            "(512, 512, 3) (512, 10, 3) (512, 512, 3) (512, 10, 3) (512, 512, 3)\n"
          ]
        },
        {
          "output_type": "stream",
          "name": "stderr",
          "text": [
            "\r 43%|████▎     | 211/490 [01:48<02:26,  1.91it/s]"
          ]
        },
        {
          "output_type": "stream",
          "name": "stdout",
          "text": [
            "_08_g_1\n",
            "(512, 512, 1) 1.0 3.2313906e-07\n",
            "(512, 512, 3) (512, 512) (512, 512)\n",
            "(512, 512, 3) (512, 10, 3) (512, 512, 3) (512, 10, 3) (512, 512, 3)\n"
          ]
        },
        {
          "output_type": "stream",
          "name": "stderr",
          "text": [
            "\r 43%|████▎     | 212/490 [01:49<02:26,  1.90it/s]"
          ]
        },
        {
          "output_type": "stream",
          "name": "stdout",
          "text": [
            "_08_g_10\n",
            "(512, 512, 1) 1.0 4.5001727e-07\n",
            "(512, 512, 3) (512, 512) (512, 512)\n",
            "(512, 512, 3) (512, 10, 3) (512, 512, 3) (512, 10, 3) (512, 512, 3)\n"
          ]
        },
        {
          "output_type": "stream",
          "name": "stderr",
          "text": [
            "\r 43%|████▎     | 213/490 [01:49<02:26,  1.89it/s]"
          ]
        },
        {
          "output_type": "stream",
          "name": "stdout",
          "text": [
            "_08_g_11\n",
            "(512, 512, 1) 1.0 1.6146365e-07\n",
            "(512, 512, 3) (512, 512) (512, 512)\n",
            "(512, 512, 3) (512, 10, 3) (512, 512, 3) (512, 10, 3) (512, 512, 3)\n"
          ]
        },
        {
          "output_type": "stream",
          "name": "stderr",
          "text": [
            "\r 44%|████▎     | 214/490 [01:50<02:24,  1.90it/s]"
          ]
        },
        {
          "output_type": "stream",
          "name": "stdout",
          "text": [
            "_08_g_12\n",
            "(512, 512, 1) 1.0 2.879595e-07\n",
            "(512, 512, 3) (512, 512) (512, 512)\n",
            "(512, 512, 3) (512, 10, 3) (512, 512, 3) (512, 10, 3) (512, 512, 3)\n"
          ]
        },
        {
          "output_type": "stream",
          "name": "stderr",
          "text": [
            "\r 44%|████▍     | 215/490 [01:50<02:23,  1.91it/s]"
          ]
        },
        {
          "output_type": "stream",
          "name": "stdout",
          "text": [
            "_08_g_13\n",
            "(512, 512, 1) 1.0 3.2958843e-07\n",
            "(512, 512, 3) (512, 512) (512, 512)\n",
            "(512, 512, 3) (512, 10, 3) (512, 512, 3) (512, 10, 3) (512, 512, 3)\n"
          ]
        },
        {
          "output_type": "stream",
          "name": "stderr",
          "text": [
            "\r 44%|████▍     | 216/490 [01:51<02:21,  1.94it/s]"
          ]
        },
        {
          "output_type": "stream",
          "name": "stdout",
          "text": [
            "_08_g_14\n",
            "(512, 512, 1) 1.0 4.7146165e-07\n",
            "(512, 512, 3) (512, 512) (512, 512)\n",
            "(512, 512, 3) (512, 10, 3) (512, 512, 3) (512, 10, 3) (512, 512, 3)\n"
          ]
        },
        {
          "output_type": "stream",
          "name": "stderr",
          "text": [
            "\r 44%|████▍     | 217/490 [01:51<02:20,  1.95it/s]"
          ]
        },
        {
          "output_type": "stream",
          "name": "stdout",
          "text": [
            "_08_g_15\n",
            "(512, 512, 1) 1.0 3.3023503e-07\n",
            "(512, 512, 3) (512, 512) (512, 512)\n",
            "(512, 512, 3) (512, 10, 3) (512, 512, 3) (512, 10, 3) (512, 512, 3)\n"
          ]
        },
        {
          "output_type": "stream",
          "name": "stderr",
          "text": [
            "\r 44%|████▍     | 218/490 [01:52<02:19,  1.94it/s]"
          ]
        },
        {
          "output_type": "stream",
          "name": "stdout",
          "text": [
            "_08_g_16\n",
            "(512, 512, 1) 1.0 7.196758e-08\n",
            "(512, 512, 3) (512, 512) (512, 512)\n",
            "(512, 512, 3) (512, 10, 3) (512, 512, 3) (512, 10, 3) (512, 512, 3)\n"
          ]
        },
        {
          "output_type": "stream",
          "name": "stderr",
          "text": [
            "\r 45%|████▍     | 219/490 [01:52<02:18,  1.95it/s]"
          ]
        },
        {
          "output_type": "stream",
          "name": "stdout",
          "text": [
            "_08_g_17\n",
            "(512, 512, 1) 1.0 4.148352e-07\n",
            "(512, 512, 3) (512, 512) (512, 512)\n",
            "(512, 512, 3) (512, 10, 3) (512, 512, 3) (512, 10, 3) (512, 512, 3)\n"
          ]
        },
        {
          "output_type": "stream",
          "name": "stderr",
          "text": [
            "\r 45%|████▍     | 220/490 [01:53<02:18,  1.95it/s]"
          ]
        },
        {
          "output_type": "stream",
          "name": "stdout",
          "text": [
            "_08_g_18\n",
            "(512, 512, 1) 1.0 3.0033937e-07\n",
            "(512, 512, 3) (512, 512) (512, 512)\n",
            "(512, 512, 3) (512, 10, 3) (512, 512, 3) (512, 10, 3) (512, 512, 3)\n"
          ]
        },
        {
          "output_type": "stream",
          "name": "stderr",
          "text": [
            "\r 45%|████▌     | 221/490 [01:53<02:17,  1.96it/s]"
          ]
        },
        {
          "output_type": "stream",
          "name": "stdout",
          "text": [
            "_08_g_19\n",
            "(512, 512, 1) 1.0 1.212181e-07\n",
            "(512, 512, 3) (512, 512) (512, 512)\n",
            "(512, 512, 3) (512, 10, 3) (512, 512, 3) (512, 10, 3) (512, 512, 3)\n"
          ]
        },
        {
          "output_type": "stream",
          "name": "stderr",
          "text": [
            "\r 45%|████▌     | 222/490 [01:54<02:17,  1.95it/s]"
          ]
        },
        {
          "output_type": "stream",
          "name": "stdout",
          "text": [
            "_08_g_2\n",
            "(512, 512, 1) 1.0 2.4012465e-07\n",
            "(512, 512, 3) (512, 512) (512, 512)\n",
            "(512, 512, 3) (512, 10, 3) (512, 512, 3) (512, 10, 3) (512, 512, 3)\n"
          ]
        },
        {
          "output_type": "stream",
          "name": "stderr",
          "text": [
            "\r 46%|████▌     | 223/490 [01:54<02:15,  1.97it/s]"
          ]
        },
        {
          "output_type": "stream",
          "name": "stdout",
          "text": [
            "_08_g_20\n",
            "(512, 512, 1) 1.0 3.4616386e-07\n",
            "(512, 512, 3) (512, 512) (512, 512)\n",
            "(512, 512, 3) (512, 10, 3) (512, 512, 3) (512, 10, 3) (512, 512, 3)\n"
          ]
        },
        {
          "output_type": "stream",
          "name": "stderr",
          "text": [
            "\r 46%|████▌     | 224/490 [01:55<02:15,  1.96it/s]"
          ]
        },
        {
          "output_type": "stream",
          "name": "stdout",
          "text": [
            "_08_g_21\n",
            "(512, 512, 1) 1.0 6.1198136e-07\n",
            "(512, 512, 3) (512, 512) (512, 512)\n",
            "(512, 512, 3) (512, 10, 3) (512, 512, 3) (512, 10, 3) (512, 512, 3)\n"
          ]
        },
        {
          "output_type": "stream",
          "name": "stderr",
          "text": [
            "\r 46%|████▌     | 225/490 [01:55<02:14,  1.97it/s]"
          ]
        },
        {
          "output_type": "stream",
          "name": "stdout",
          "text": [
            "_08_g_22\n",
            "(512, 512, 1) 1.0 1.5837418e-07\n",
            "(512, 512, 3) (512, 512) (512, 512)\n",
            "(512, 512, 3) (512, 10, 3) (512, 512, 3) (512, 10, 3) (512, 512, 3)\n"
          ]
        },
        {
          "output_type": "stream",
          "name": "stderr",
          "text": [
            "\r 46%|████▌     | 226/490 [01:56<02:13,  1.97it/s]"
          ]
        },
        {
          "output_type": "stream",
          "name": "stdout",
          "text": [
            "_08_g_23\n",
            "(512, 512, 1) 1.0 5.1262737e-07\n",
            "(512, 512, 3) (512, 512) (512, 512)\n",
            "(512, 512, 3) (512, 10, 3) (512, 512, 3) (512, 10, 3) (512, 512, 3)\n"
          ]
        },
        {
          "output_type": "stream",
          "name": "stderr",
          "text": [
            "\r 46%|████▋     | 227/490 [01:56<02:13,  1.97it/s]"
          ]
        },
        {
          "output_type": "stream",
          "name": "stdout",
          "text": [
            "_08_g_24\n",
            "(512, 512, 1) 1.0 3.709456e-07\n",
            "(512, 512, 3) (512, 512) (512, 512)\n",
            "(512, 512, 3) (512, 10, 3) (512, 512, 3) (512, 10, 3) (512, 512, 3)\n"
          ]
        },
        {
          "output_type": "stream",
          "name": "stderr",
          "text": [
            "\r 47%|████▋     | 228/490 [01:57<02:14,  1.95it/s]"
          ]
        },
        {
          "output_type": "stream",
          "name": "stdout",
          "text": [
            "_08_g_25\n",
            "(512, 512, 1) 1.0 3.4925802e-07\n",
            "(512, 512, 3) (512, 512) (512, 512)\n",
            "(512, 512, 3) (512, 10, 3) (512, 512, 3) (512, 10, 3) (512, 512, 3)\n"
          ]
        },
        {
          "output_type": "stream",
          "name": "stderr",
          "text": [
            "\r 47%|████▋     | 229/490 [01:57<02:13,  1.95it/s]"
          ]
        },
        {
          "output_type": "stream",
          "name": "stdout",
          "text": [
            "_08_g_26\n",
            "(512, 512, 1) 1.0 4.34166e-07\n",
            "(512, 512, 3) (512, 512) (512, 512)\n",
            "(512, 512, 3) (512, 10, 3) (512, 512, 3) (512, 10, 3) (512, 512, 3)\n"
          ]
        },
        {
          "output_type": "stream",
          "name": "stderr",
          "text": [
            "\r 47%|████▋     | 230/490 [01:58<02:14,  1.93it/s]"
          ]
        },
        {
          "output_type": "stream",
          "name": "stdout",
          "text": [
            "_08_g_27\n",
            "(512, 512, 1) 1.0 4.647179e-07\n",
            "(512, 512, 3) (512, 512) (512, 512)\n",
            "(512, 512, 3) (512, 10, 3) (512, 512, 3) (512, 10, 3) (512, 512, 3)\n"
          ]
        },
        {
          "output_type": "stream",
          "name": "stderr",
          "text": [
            "\r 47%|████▋     | 231/490 [01:58<02:12,  1.95it/s]"
          ]
        },
        {
          "output_type": "stream",
          "name": "stdout",
          "text": [
            "_08_g_28\n",
            "(512, 512, 1) 1.0 2.90358e-06\n",
            "(512, 512, 3) (512, 512) (512, 512)\n",
            "(512, 512, 3) (512, 10, 3) (512, 512, 3) (512, 10, 3) (512, 512, 3)\n"
          ]
        },
        {
          "output_type": "stream",
          "name": "stderr",
          "text": [
            "\r 47%|████▋     | 232/490 [01:59<02:12,  1.95it/s]"
          ]
        },
        {
          "output_type": "stream",
          "name": "stdout",
          "text": [
            "_08_g_29\n",
            "(512, 512, 1) 1.0 8.152582e-07\n",
            "(512, 512, 3) (512, 512) (512, 512)\n",
            "(512, 512, 3) (512, 10, 3) (512, 512, 3) (512, 10, 3) (512, 512, 3)\n"
          ]
        },
        {
          "output_type": "stream",
          "name": "stderr",
          "text": [
            "\r 48%|████▊     | 233/490 [01:59<02:12,  1.94it/s]"
          ]
        },
        {
          "output_type": "stream",
          "name": "stdout",
          "text": [
            "_08_g_3\n",
            "(512, 512, 1) 1.0 2.5649388e-07\n",
            "(512, 512, 3) (512, 512) (512, 512)\n",
            "(512, 512, 3) (512, 10, 3) (512, 512, 3) (512, 10, 3) (512, 512, 3)\n"
          ]
        },
        {
          "output_type": "stream",
          "name": "stderr",
          "text": [
            "\r 48%|████▊     | 234/490 [02:00<02:12,  1.93it/s]"
          ]
        },
        {
          "output_type": "stream",
          "name": "stdout",
          "text": [
            "_08_g_30\n",
            "(512, 512, 1) 1.0 1.3850763e-07\n",
            "(512, 512, 3) (512, 512) (512, 512)\n",
            "(512, 512, 3) (512, 10, 3) (512, 512, 3) (512, 10, 3) (512, 512, 3)\n"
          ]
        },
        {
          "output_type": "stream",
          "name": "stderr",
          "text": [
            "\r 48%|████▊     | 235/490 [02:00<02:13,  1.91it/s]"
          ]
        },
        {
          "output_type": "stream",
          "name": "stdout",
          "text": [
            "_08_g_31\n",
            "(512, 512, 1) 1.0 3.558732e-07\n",
            "(512, 512, 3) (512, 512) (512, 512)\n",
            "(512, 512, 3) (512, 10, 3) (512, 512, 3) (512, 10, 3) (512, 512, 3)\n"
          ]
        },
        {
          "output_type": "stream",
          "name": "stderr",
          "text": [
            "\r 48%|████▊     | 236/490 [02:01<02:14,  1.89it/s]"
          ]
        },
        {
          "output_type": "stream",
          "name": "stdout",
          "text": [
            "_08_g_32\n",
            "(512, 512, 1) 1.0 5.905766e-07\n",
            "(512, 512, 3) (512, 512) (512, 512)\n",
            "(512, 512, 3) (512, 10, 3) (512, 512, 3) (512, 10, 3) (512, 512, 3)\n"
          ]
        },
        {
          "output_type": "stream",
          "name": "stderr",
          "text": [
            "\r 48%|████▊     | 237/490 [02:02<02:14,  1.89it/s]"
          ]
        },
        {
          "output_type": "stream",
          "name": "stdout",
          "text": [
            "_08_g_33\n",
            "(512, 512, 1) 1.0 3.7852314e-07\n",
            "(512, 512, 3) (512, 512) (512, 512)\n",
            "(512, 512, 3) (512, 10, 3) (512, 512, 3) (512, 10, 3) (512, 512, 3)\n"
          ]
        },
        {
          "output_type": "stream",
          "name": "stderr",
          "text": [
            "\r 49%|████▊     | 238/490 [02:02<02:13,  1.89it/s]"
          ]
        },
        {
          "output_type": "stream",
          "name": "stdout",
          "text": [
            "_08_g_34\n",
            "(512, 512, 1) 0.9999999 7.3269553e-06\n",
            "(512, 512, 3) (512, 512) (512, 512)\n",
            "(512, 512, 3) (512, 10, 3) (512, 512, 3) (512, 10, 3) (512, 512, 3)\n"
          ]
        },
        {
          "output_type": "stream",
          "name": "stderr",
          "text": [
            "\r 49%|████▉     | 239/490 [02:03<02:11,  1.91it/s]"
          ]
        },
        {
          "output_type": "stream",
          "name": "stdout",
          "text": [
            "_08_g_4\n",
            "(512, 512, 1) 1.0 4.1751824e-07\n",
            "(512, 512, 3) (512, 512) (512, 512)\n",
            "(512, 512, 3) (512, 10, 3) (512, 512, 3) (512, 10, 3) (512, 512, 3)\n"
          ]
        },
        {
          "output_type": "stream",
          "name": "stderr",
          "text": [
            "\r 49%|████▉     | 240/490 [02:03<02:11,  1.91it/s]"
          ]
        },
        {
          "output_type": "stream",
          "name": "stdout",
          "text": [
            "_08_g_5\n",
            "(512, 512, 1) 1.0 2.7209998e-07\n",
            "(512, 512, 3) (512, 512) (512, 512)\n",
            "(512, 512, 3) (512, 10, 3) (512, 512, 3) (512, 10, 3) (512, 512, 3)\n"
          ]
        },
        {
          "output_type": "stream",
          "name": "stderr",
          "text": [
            "\r 49%|████▉     | 241/490 [02:04<02:09,  1.92it/s]"
          ]
        },
        {
          "output_type": "stream",
          "name": "stdout",
          "text": [
            "_08_g_6\n",
            "(512, 512, 1) 1.0 1.1063963e-06\n",
            "(512, 512, 3) (512, 512) (512, 512)\n",
            "(512, 512, 3) (512, 10, 3) (512, 512, 3) (512, 10, 3) (512, 512, 3)\n"
          ]
        },
        {
          "output_type": "stream",
          "name": "stderr",
          "text": [
            "\r 49%|████▉     | 242/490 [02:04<02:07,  1.95it/s]"
          ]
        },
        {
          "output_type": "stream",
          "name": "stdout",
          "text": [
            "_08_g_7\n",
            "(512, 512, 1) 1.0 1.6748542e-07\n",
            "(512, 512, 3) (512, 512) (512, 512)\n",
            "(512, 512, 3) (512, 10, 3) (512, 512, 3) (512, 10, 3) (512, 512, 3)\n"
          ]
        },
        {
          "output_type": "stream",
          "name": "stderr",
          "text": [
            "\r 50%|████▉     | 243/490 [02:05<02:05,  1.96it/s]"
          ]
        },
        {
          "output_type": "stream",
          "name": "stdout",
          "text": [
            "_08_g_8\n",
            "(512, 512, 1) 1.0 3.9815333e-07\n",
            "(512, 512, 3) (512, 512) (512, 512)\n",
            "(512, 512, 3) (512, 10, 3) (512, 512, 3) (512, 10, 3) (512, 512, 3)\n"
          ]
        },
        {
          "output_type": "stream",
          "name": "stderr",
          "text": [
            "\r 50%|████▉     | 244/490 [02:05<02:05,  1.96it/s]"
          ]
        },
        {
          "output_type": "stream",
          "name": "stdout",
          "text": [
            "_08_g_9\n",
            "(512, 512, 1) 1.0 2.466329e-07\n",
            "(512, 512, 3) (512, 512) (512, 512)\n",
            "(512, 512, 3) (512, 10, 3) (512, 512, 3) (512, 10, 3) (512, 512, 3)\n"
          ]
        },
        {
          "output_type": "stream",
          "name": "stderr",
          "text": [
            "\r 50%|█████     | 245/490 [02:06<02:05,  1.96it/s]"
          ]
        },
        {
          "output_type": "stream",
          "name": "stdout",
          "text": [
            "_10_h_0\n",
            "(512, 512, 1) 1.0 1.2087343e-06\n",
            "(512, 512, 3) (512, 512) (512, 512)\n",
            "(512, 512, 3) (512, 10, 3) (512, 512, 3) (512, 10, 3) (512, 512, 3)\n"
          ]
        },
        {
          "output_type": "stream",
          "name": "stderr",
          "text": [
            "\r 50%|█████     | 246/490 [02:06<02:04,  1.96it/s]"
          ]
        },
        {
          "output_type": "stream",
          "name": "stdout",
          "text": [
            "_10_h_1\n",
            "(512, 512, 1) 1.0 4.116725e-07\n",
            "(512, 512, 3) (512, 512) (512, 512)\n",
            "(512, 512, 3) (512, 10, 3) (512, 512, 3) (512, 10, 3) (512, 512, 3)\n"
          ]
        },
        {
          "output_type": "stream",
          "name": "stderr",
          "text": [
            "\r 50%|█████     | 247/490 [02:07<02:03,  1.97it/s]"
          ]
        },
        {
          "output_type": "stream",
          "name": "stdout",
          "text": [
            "_10_h_10\n",
            "(512, 512, 1) 1.0 6.2640083e-07\n",
            "(512, 512, 3) (512, 512) (512, 512)\n",
            "(512, 512, 3) (512, 10, 3) (512, 512, 3) (512, 10, 3) (512, 512, 3)\n"
          ]
        },
        {
          "output_type": "stream",
          "name": "stderr",
          "text": [
            "\r 51%|█████     | 248/490 [02:07<02:02,  1.97it/s]"
          ]
        },
        {
          "output_type": "stream",
          "name": "stdout",
          "text": [
            "_10_h_11\n",
            "(512, 512, 1) 1.0 8.395873e-07\n",
            "(512, 512, 3) (512, 512) (512, 512)\n",
            "(512, 512, 3) (512, 10, 3) (512, 512, 3) (512, 10, 3) (512, 512, 3)\n"
          ]
        },
        {
          "output_type": "stream",
          "name": "stderr",
          "text": [
            "\r 51%|█████     | 249/490 [02:08<02:01,  1.98it/s]"
          ]
        },
        {
          "output_type": "stream",
          "name": "stdout",
          "text": [
            "_10_h_12\n",
            "(512, 512, 1) 1.0 3.187895e-07\n",
            "(512, 512, 3) (512, 512) (512, 512)\n",
            "(512, 512, 3) (512, 10, 3) (512, 512, 3) (512, 10, 3) (512, 512, 3)\n"
          ]
        },
        {
          "output_type": "stream",
          "name": "stderr",
          "text": [
            "\r 51%|█████     | 250/490 [02:08<02:01,  1.97it/s]"
          ]
        },
        {
          "output_type": "stream",
          "name": "stdout",
          "text": [
            "_10_h_13\n",
            "(512, 512, 1) 1.0 3.7869899e-07\n",
            "(512, 512, 3) (512, 512) (512, 512)\n",
            "(512, 512, 3) (512, 10, 3) (512, 512, 3) (512, 10, 3) (512, 512, 3)\n"
          ]
        },
        {
          "output_type": "stream",
          "name": "stderr",
          "text": [
            "\r 51%|█████     | 251/490 [02:09<02:00,  1.98it/s]"
          ]
        },
        {
          "output_type": "stream",
          "name": "stdout",
          "text": [
            "_10_h_14\n",
            "(512, 512, 1) 1.0 1.3103391e-06\n",
            "(512, 512, 3) (512, 512) (512, 512)\n",
            "(512, 512, 3) (512, 10, 3) (512, 512, 3) (512, 10, 3) (512, 512, 3)\n"
          ]
        },
        {
          "output_type": "stream",
          "name": "stderr",
          "text": [
            "\r 51%|█████▏    | 252/490 [02:09<02:00,  1.98it/s]"
          ]
        },
        {
          "output_type": "stream",
          "name": "stdout",
          "text": [
            "_10_h_15\n",
            "(512, 512, 1) 1.0 4.4629303e-07\n",
            "(512, 512, 3) (512, 512) (512, 512)\n",
            "(512, 512, 3) (512, 10, 3) (512, 512, 3) (512, 10, 3) (512, 512, 3)\n"
          ]
        },
        {
          "output_type": "stream",
          "name": "stderr",
          "text": [
            "\r 52%|█████▏    | 253/490 [02:10<01:59,  1.98it/s]"
          ]
        },
        {
          "output_type": "stream",
          "name": "stdout",
          "text": [
            "_10_h_16\n",
            "(512, 512, 1) 1.0 1.1994075e-07\n",
            "(512, 512, 3) (512, 512) (512, 512)\n",
            "(512, 512, 3) (512, 10, 3) (512, 512, 3) (512, 10, 3) (512, 512, 3)\n"
          ]
        },
        {
          "output_type": "stream",
          "name": "stderr",
          "text": [
            "\r 52%|█████▏    | 254/490 [02:10<01:58,  1.99it/s]"
          ]
        },
        {
          "output_type": "stream",
          "name": "stdout",
          "text": [
            "_10_h_17\n",
            "(512, 512, 1) 1.0 8.3724615e-07\n",
            "(512, 512, 3) (512, 512) (512, 512)\n",
            "(512, 512, 3) (512, 10, 3) (512, 512, 3) (512, 10, 3) (512, 512, 3)\n"
          ]
        },
        {
          "output_type": "stream",
          "name": "stderr",
          "text": [
            "\r 52%|█████▏    | 255/490 [02:11<01:58,  1.99it/s]"
          ]
        },
        {
          "output_type": "stream",
          "name": "stdout",
          "text": [
            "_10_h_18\n",
            "(512, 512, 1) 1.0 5.956617e-07\n",
            "(512, 512, 3) (512, 512) (512, 512)\n",
            "(512, 512, 3) (512, 10, 3) (512, 512, 3) (512, 10, 3) (512, 512, 3)\n"
          ]
        },
        {
          "output_type": "stream",
          "name": "stderr",
          "text": [
            "\r 52%|█████▏    | 256/490 [02:11<01:58,  1.97it/s]"
          ]
        },
        {
          "output_type": "stream",
          "name": "stdout",
          "text": [
            "_10_h_19\n",
            "(512, 512, 1) 1.0 6.3700475e-07\n",
            "(512, 512, 3) (512, 512) (512, 512)\n",
            "(512, 512, 3) (512, 10, 3) (512, 512, 3) (512, 10, 3) (512, 512, 3)\n"
          ]
        },
        {
          "output_type": "stream",
          "name": "stderr",
          "text": [
            "\r 52%|█████▏    | 257/490 [02:12<01:58,  1.97it/s]"
          ]
        },
        {
          "output_type": "stream",
          "name": "stdout",
          "text": [
            "_10_h_2\n",
            "(512, 512, 1) 1.0 3.7862822e-07\n",
            "(512, 512, 3) (512, 512) (512, 512)\n",
            "(512, 512, 3) (512, 10, 3) (512, 512, 3) (512, 10, 3) (512, 512, 3)\n"
          ]
        },
        {
          "output_type": "stream",
          "name": "stderr",
          "text": [
            "\r 53%|█████▎    | 258/490 [02:12<01:57,  1.97it/s]"
          ]
        },
        {
          "output_type": "stream",
          "name": "stdout",
          "text": [
            "_10_h_20\n",
            "(512, 512, 1) 1.0 1.1263808e-06\n",
            "(512, 512, 3) (512, 512) (512, 512)\n",
            "(512, 512, 3) (512, 10, 3) (512, 512, 3) (512, 10, 3) (512, 512, 3)\n"
          ]
        },
        {
          "output_type": "stream",
          "name": "stderr",
          "text": [
            "\r 53%|█████▎    | 259/490 [02:13<01:56,  1.98it/s]"
          ]
        },
        {
          "output_type": "stream",
          "name": "stdout",
          "text": [
            "_10_h_21\n",
            "(512, 512, 1) 1.0 1.0424267e-06\n",
            "(512, 512, 3) (512, 512) (512, 512)\n",
            "(512, 512, 3) (512, 10, 3) (512, 512, 3) (512, 10, 3) (512, 512, 3)\n"
          ]
        },
        {
          "output_type": "stream",
          "name": "stderr",
          "text": [
            "\r 53%|█████▎    | 260/490 [02:13<01:55,  1.99it/s]"
          ]
        },
        {
          "output_type": "stream",
          "name": "stdout",
          "text": [
            "_10_h_22\n",
            "(512, 512, 1) 1.0 3.0065172e-07\n",
            "(512, 512, 3) (512, 512) (512, 512)\n",
            "(512, 512, 3) (512, 10, 3) (512, 512, 3) (512, 10, 3) (512, 512, 3)\n"
          ]
        },
        {
          "output_type": "stream",
          "name": "stderr",
          "text": [
            "\r 53%|█████▎    | 261/490 [02:14<01:55,  1.99it/s]"
          ]
        },
        {
          "output_type": "stream",
          "name": "stdout",
          "text": [
            "_10_h_23\n",
            "(512, 512, 1) 1.0 9.455031e-07\n",
            "(512, 512, 3) (512, 512) (512, 512)\n",
            "(512, 512, 3) (512, 10, 3) (512, 512, 3) (512, 10, 3) (512, 512, 3)\n"
          ]
        },
        {
          "output_type": "stream",
          "name": "stderr",
          "text": [
            "\r 53%|█████▎    | 262/490 [02:14<01:54,  1.99it/s]"
          ]
        },
        {
          "output_type": "stream",
          "name": "stdout",
          "text": [
            "_10_h_24\n",
            "(512, 512, 1) 1.0 6.9181624e-07\n",
            "(512, 512, 3) (512, 512) (512, 512)\n",
            "(512, 512, 3) (512, 10, 3) (512, 512, 3) (512, 10, 3) (512, 512, 3)\n"
          ]
        },
        {
          "output_type": "stream",
          "name": "stderr",
          "text": [
            "\r 54%|█████▎    | 263/490 [02:15<01:54,  1.99it/s]"
          ]
        },
        {
          "output_type": "stream",
          "name": "stdout",
          "text": [
            "_10_h_25\n",
            "(512, 512, 1) 1.0 6.6704064e-07\n",
            "(512, 512, 3) (512, 512) (512, 512)\n",
            "(512, 512, 3) (512, 10, 3) (512, 512, 3) (512, 10, 3) (512, 512, 3)\n"
          ]
        },
        {
          "output_type": "stream",
          "name": "stderr",
          "text": [
            "\r 54%|█████▍    | 264/490 [02:15<01:54,  1.98it/s]"
          ]
        },
        {
          "output_type": "stream",
          "name": "stdout",
          "text": [
            "_10_h_26\n",
            "(512, 512, 1) 1.0 5.4641964e-07\n",
            "(512, 512, 3) (512, 512) (512, 512)\n",
            "(512, 512, 3) (512, 10, 3) (512, 512, 3) (512, 10, 3) (512, 512, 3)\n"
          ]
        },
        {
          "output_type": "stream",
          "name": "stderr",
          "text": [
            "\r 54%|█████▍    | 265/490 [02:16<01:55,  1.94it/s]"
          ]
        },
        {
          "output_type": "stream",
          "name": "stdout",
          "text": [
            "_10_h_27\n",
            "(512, 512, 1) 1.0 8.217142e-07\n",
            "(512, 512, 3) (512, 512) (512, 512)\n",
            "(512, 512, 3) (512, 10, 3) (512, 512, 3) (512, 10, 3) (512, 512, 3)\n"
          ]
        },
        {
          "output_type": "stream",
          "name": "stderr",
          "text": [
            "\r 54%|█████▍    | 266/490 [02:16<01:54,  1.96it/s]"
          ]
        },
        {
          "output_type": "stream",
          "name": "stdout",
          "text": [
            "_10_h_28\n",
            "(512, 512, 1) 1.0 5.4980233e-06\n",
            "(512, 512, 3) (512, 512) (512, 512)\n",
            "(512, 512, 3) (512, 10, 3) (512, 512, 3) (512, 10, 3) (512, 512, 3)\n"
          ]
        },
        {
          "output_type": "stream",
          "name": "stderr",
          "text": [
            "\r 54%|█████▍    | 267/490 [02:17<01:53,  1.97it/s]"
          ]
        },
        {
          "output_type": "stream",
          "name": "stdout",
          "text": [
            "_10_h_29\n",
            "(512, 512, 1) 1.0 1.5425068e-06\n",
            "(512, 512, 3) (512, 512) (512, 512)\n",
            "(512, 512, 3) (512, 10, 3) (512, 512, 3) (512, 10, 3) (512, 512, 3)\n"
          ]
        },
        {
          "output_type": "stream",
          "name": "stderr",
          "text": [
            "\r 55%|█████▍    | 268/490 [02:17<01:52,  1.98it/s]"
          ]
        },
        {
          "output_type": "stream",
          "name": "stdout",
          "text": [
            "_10_h_3\n",
            "(512, 512, 1) 1.0 7.3857694e-07\n",
            "(512, 512, 3) (512, 512) (512, 512)\n",
            "(512, 512, 3) (512, 10, 3) (512, 512, 3) (512, 10, 3) (512, 512, 3)\n"
          ]
        },
        {
          "output_type": "stream",
          "name": "stderr",
          "text": [
            "\r 55%|█████▍    | 269/490 [02:18<01:51,  1.99it/s]"
          ]
        },
        {
          "output_type": "stream",
          "name": "stdout",
          "text": [
            "_10_h_30\n",
            "(512, 512, 1) 1.0 7.121688e-07\n",
            "(512, 512, 3) (512, 512) (512, 512)\n",
            "(512, 512, 3) (512, 10, 3) (512, 512, 3) (512, 10, 3) (512, 512, 3)\n"
          ]
        },
        {
          "output_type": "stream",
          "name": "stderr",
          "text": [
            "\r 55%|█████▌    | 270/490 [02:18<01:50,  2.00it/s]"
          ]
        },
        {
          "output_type": "stream",
          "name": "stdout",
          "text": [
            "_10_h_31\n",
            "(512, 512, 1) 1.0 5.329399e-07\n",
            "(512, 512, 3) (512, 512) (512, 512)\n",
            "(512, 512, 3) (512, 10, 3) (512, 512, 3) (512, 10, 3) (512, 512, 3)\n"
          ]
        },
        {
          "output_type": "stream",
          "name": "stderr",
          "text": [
            "\r 55%|█████▌    | 271/490 [02:19<01:49,  2.00it/s]"
          ]
        },
        {
          "output_type": "stream",
          "name": "stdout",
          "text": [
            "_10_h_32\n",
            "(512, 512, 1) 1.0 6.859306e-07\n",
            "(512, 512, 3) (512, 512) (512, 512)\n",
            "(512, 512, 3) (512, 10, 3) (512, 512, 3) (512, 10, 3) (512, 512, 3)\n"
          ]
        },
        {
          "output_type": "stream",
          "name": "stderr",
          "text": [
            "\r 56%|█████▌    | 272/490 [02:19<01:49,  1.99it/s]"
          ]
        },
        {
          "output_type": "stream",
          "name": "stdout",
          "text": [
            "_10_h_33\n",
            "(512, 512, 1) 1.0 6.360499e-07\n",
            "(512, 512, 3) (512, 512) (512, 512)\n",
            "(512, 512, 3) (512, 10, 3) (512, 512, 3) (512, 10, 3) (512, 512, 3)\n"
          ]
        },
        {
          "output_type": "stream",
          "name": "stderr",
          "text": [
            "\r 56%|█████▌    | 273/490 [02:20<01:49,  1.99it/s]"
          ]
        },
        {
          "output_type": "stream",
          "name": "stdout",
          "text": [
            "_10_h_34\n",
            "(512, 512, 1) 1.0 5.2161095e-06\n",
            "(512, 512, 3) (512, 512) (512, 512)\n",
            "(512, 512, 3) (512, 10, 3) (512, 512, 3) (512, 10, 3) (512, 512, 3)\n"
          ]
        },
        {
          "output_type": "stream",
          "name": "stderr",
          "text": [
            "\r 56%|█████▌    | 274/490 [02:20<01:47,  2.00it/s]"
          ]
        },
        {
          "output_type": "stream",
          "name": "stdout",
          "text": [
            "_10_h_4\n",
            "(512, 512, 1) 1.0 4.0199117e-07\n",
            "(512, 512, 3) (512, 512) (512, 512)\n",
            "(512, 512, 3) (512, 10, 3) (512, 512, 3) (512, 10, 3) (512, 512, 3)\n"
          ]
        },
        {
          "output_type": "stream",
          "name": "stderr",
          "text": [
            "\r 56%|█████▌    | 275/490 [02:21<01:47,  2.01it/s]"
          ]
        },
        {
          "output_type": "stream",
          "name": "stdout",
          "text": [
            "_10_h_5\n",
            "(512, 512, 1) 1.0 3.5535365e-07\n",
            "(512, 512, 3) (512, 512) (512, 512)\n",
            "(512, 512, 3) (512, 10, 3) (512, 512, 3) (512, 10, 3) (512, 512, 3)\n"
          ]
        },
        {
          "output_type": "stream",
          "name": "stderr",
          "text": [
            "\r 56%|█████▋    | 276/490 [02:21<01:46,  2.00it/s]"
          ]
        },
        {
          "output_type": "stream",
          "name": "stdout",
          "text": [
            "_10_h_6\n",
            "(512, 512, 1) 1.0 1.4739212e-06\n",
            "(512, 512, 3) (512, 512) (512, 512)\n",
            "(512, 512, 3) (512, 10, 3) (512, 512, 3) (512, 10, 3) (512, 512, 3)\n"
          ]
        },
        {
          "output_type": "stream",
          "name": "stderr",
          "text": [
            "\r 57%|█████▋    | 277/490 [02:22<01:45,  2.01it/s]"
          ]
        },
        {
          "output_type": "stream",
          "name": "stdout",
          "text": [
            "_10_h_7\n",
            "(512, 512, 1) 1.0 4.929486e-07\n",
            "(512, 512, 3) (512, 512) (512, 512)\n",
            "(512, 512, 3) (512, 10, 3) (512, 512, 3) (512, 10, 3) (512, 512, 3)\n"
          ]
        },
        {
          "output_type": "stream",
          "name": "stderr",
          "text": [
            "\r 57%|█████▋    | 278/490 [02:22<01:45,  2.02it/s]"
          ]
        },
        {
          "output_type": "stream",
          "name": "stdout",
          "text": [
            "_10_h_8\n",
            "(512, 512, 1) 1.0 8.602454e-07\n",
            "(512, 512, 3) (512, 512) (512, 512)\n",
            "(512, 512, 3) (512, 10, 3) (512, 512, 3) (512, 10, 3) (512, 512, 3)\n"
          ]
        },
        {
          "output_type": "stream",
          "name": "stderr",
          "text": [
            "\r 57%|█████▋    | 279/490 [02:23<01:45,  2.01it/s]"
          ]
        },
        {
          "output_type": "stream",
          "name": "stdout",
          "text": [
            "_10_h_9\n",
            "(512, 512, 1) 1.0 1.0973383e-06\n",
            "(512, 512, 3) (512, 512) (512, 512)\n",
            "(512, 512, 3) (512, 10, 3) (512, 512, 3) (512, 10, 3) (512, 512, 3)\n"
          ]
        },
        {
          "output_type": "stream",
          "name": "stderr",
          "text": [
            "\r 57%|█████▋    | 280/490 [02:23<01:45,  1.99it/s]"
          ]
        },
        {
          "output_type": "stream",
          "name": "stdout",
          "text": [
            "_11_dr_0\n",
            "(512, 512, 1) 1.0 2.8526163e-06\n",
            "(512, 512, 3) (512, 512) (512, 512)\n",
            "(512, 512, 3) (512, 10, 3) (512, 512, 3) (512, 10, 3) (512, 512, 3)\n"
          ]
        },
        {
          "output_type": "stream",
          "name": "stderr",
          "text": [
            "\r 57%|█████▋    | 281/490 [02:24<01:44,  2.00it/s]"
          ]
        },
        {
          "output_type": "stream",
          "name": "stdout",
          "text": [
            "_11_dr_1\n",
            "(512, 512, 1) 1.0 8.4754123e-07\n",
            "(512, 512, 3) (512, 512) (512, 512)\n",
            "(512, 512, 3) (512, 10, 3) (512, 512, 3) (512, 10, 3) (512, 512, 3)\n"
          ]
        },
        {
          "output_type": "stream",
          "name": "stderr",
          "text": [
            "\r 58%|█████▊    | 282/490 [02:24<01:43,  2.00it/s]"
          ]
        },
        {
          "output_type": "stream",
          "name": "stdout",
          "text": [
            "_11_dr_10\n",
            "(512, 512, 1) 1.0 4.3380842e-07\n",
            "(512, 512, 3) (512, 512) (512, 512)\n",
            "(512, 512, 3) (512, 10, 3) (512, 512, 3) (512, 10, 3) (512, 512, 3)\n"
          ]
        },
        {
          "output_type": "stream",
          "name": "stderr",
          "text": [
            "\r 58%|█████▊    | 283/490 [02:25<01:43,  1.99it/s]"
          ]
        },
        {
          "output_type": "stream",
          "name": "stdout",
          "text": [
            "_11_dr_11\n",
            "(512, 512, 1) 1.0 4.7688127e-07\n",
            "(512, 512, 3) (512, 512) (512, 512)\n",
            "(512, 512, 3) (512, 10, 3) (512, 512, 3) (512, 10, 3) (512, 512, 3)\n"
          ]
        },
        {
          "output_type": "stream",
          "name": "stderr",
          "text": [
            "\r 58%|█████▊    | 284/490 [02:25<01:43,  2.00it/s]"
          ]
        },
        {
          "output_type": "stream",
          "name": "stdout",
          "text": [
            "_11_dr_12\n",
            "(512, 512, 1) 1.0 2.0757577e-06\n",
            "(512, 512, 3) (512, 512) (512, 512)\n",
            "(512, 512, 3) (512, 10, 3) (512, 512, 3) (512, 10, 3) (512, 512, 3)\n"
          ]
        },
        {
          "output_type": "stream",
          "name": "stderr",
          "text": [
            "\r 58%|█████▊    | 285/490 [02:26<01:43,  1.99it/s]"
          ]
        },
        {
          "output_type": "stream",
          "name": "stdout",
          "text": [
            "_11_dr_13\n",
            "(512, 512, 1) 1.0 8.8135215e-07\n",
            "(512, 512, 3) (512, 512) (512, 512)\n",
            "(512, 512, 3) (512, 10, 3) (512, 512, 3) (512, 10, 3) (512, 512, 3)\n"
          ]
        },
        {
          "output_type": "stream",
          "name": "stderr",
          "text": [
            "\r 58%|█████▊    | 286/490 [02:26<01:42,  1.99it/s]"
          ]
        },
        {
          "output_type": "stream",
          "name": "stdout",
          "text": [
            "_11_dr_14\n",
            "(512, 512, 1) 1.0 6.677834e-07\n",
            "(512, 512, 3) (512, 512) (512, 512)\n",
            "(512, 512, 3) (512, 10, 3) (512, 512, 3) (512, 10, 3) (512, 512, 3)\n"
          ]
        },
        {
          "output_type": "stream",
          "name": "stderr",
          "text": [
            "\r 59%|█████▊    | 287/490 [02:27<01:41,  1.99it/s]"
          ]
        },
        {
          "output_type": "stream",
          "name": "stdout",
          "text": [
            "_11_dr_15\n",
            "(512, 512, 1) 1.0 4.3671741e-07\n",
            "(512, 512, 3) (512, 512) (512, 512)\n",
            "(512, 512, 3) (512, 10, 3) (512, 512, 3) (512, 10, 3) (512, 512, 3)\n"
          ]
        },
        {
          "output_type": "stream",
          "name": "stderr",
          "text": [
            "\r 59%|█████▉    | 288/490 [02:27<01:41,  1.98it/s]"
          ]
        },
        {
          "output_type": "stream",
          "name": "stdout",
          "text": [
            "_11_dr_16\n",
            "(512, 512, 1) 1.0 9.2523413e-07\n",
            "(512, 512, 3) (512, 512) (512, 512)\n",
            "(512, 512, 3) (512, 10, 3) (512, 512, 3) (512, 10, 3) (512, 512, 3)\n"
          ]
        },
        {
          "output_type": "stream",
          "name": "stderr",
          "text": [
            "\r 59%|█████▉    | 289/490 [02:28<01:41,  1.98it/s]"
          ]
        },
        {
          "output_type": "stream",
          "name": "stdout",
          "text": [
            "_11_dr_17\n",
            "(512, 512, 1) 1.0 5.018281e-07\n",
            "(512, 512, 3) (512, 512) (512, 512)\n",
            "(512, 512, 3) (512, 10, 3) (512, 512, 3) (512, 10, 3) (512, 512, 3)\n"
          ]
        },
        {
          "output_type": "stream",
          "name": "stderr",
          "text": [
            "\r 59%|█████▉    | 290/490 [02:28<01:40,  1.98it/s]"
          ]
        },
        {
          "output_type": "stream",
          "name": "stdout",
          "text": [
            "_11_dr_18\n",
            "(512, 512, 1) 1.0 8.388286e-07\n",
            "(512, 512, 3) (512, 512) (512, 512)\n",
            "(512, 512, 3) (512, 10, 3) (512, 512, 3) (512, 10, 3) (512, 512, 3)\n"
          ]
        },
        {
          "output_type": "stream",
          "name": "stderr",
          "text": [
            "\r 59%|█████▉    | 291/490 [02:29<01:40,  1.98it/s]"
          ]
        },
        {
          "output_type": "stream",
          "name": "stdout",
          "text": [
            "_11_dr_19\n",
            "(512, 512, 1) 1.0 2.564244e-07\n",
            "(512, 512, 3) (512, 512) (512, 512)\n",
            "(512, 512, 3) (512, 10, 3) (512, 512, 3) (512, 10, 3) (512, 512, 3)\n"
          ]
        },
        {
          "output_type": "stream",
          "name": "stderr",
          "text": [
            "\r 60%|█████▉    | 292/490 [02:29<01:40,  1.97it/s]"
          ]
        },
        {
          "output_type": "stream",
          "name": "stdout",
          "text": [
            "_11_dr_2\n",
            "(512, 512, 1) 1.0 5.62151e-07\n",
            "(512, 512, 3) (512, 512) (512, 512)\n",
            "(512, 512, 3) (512, 10, 3) (512, 512, 3) (512, 10, 3) (512, 512, 3)\n"
          ]
        },
        {
          "output_type": "stream",
          "name": "stderr",
          "text": [
            "\r 60%|█████▉    | 293/490 [02:30<01:39,  1.98it/s]"
          ]
        },
        {
          "output_type": "stream",
          "name": "stdout",
          "text": [
            "_11_dr_20\n",
            "(512, 512, 1) 1.0 7.5823635e-07\n",
            "(512, 512, 3) (512, 512) (512, 512)\n",
            "(512, 512, 3) (512, 10, 3) (512, 512, 3) (512, 10, 3) (512, 512, 3)\n"
          ]
        },
        {
          "output_type": "stream",
          "name": "stderr",
          "text": [
            "\r 60%|██████    | 294/490 [02:30<01:38,  1.99it/s]"
          ]
        },
        {
          "output_type": "stream",
          "name": "stdout",
          "text": [
            "_11_dr_21\n",
            "(512, 512, 1) 1.0 7.097936e-07\n",
            "(512, 512, 3) (512, 512) (512, 512)\n",
            "(512, 512, 3) (512, 10, 3) (512, 512, 3) (512, 10, 3) (512, 512, 3)\n"
          ]
        },
        {
          "output_type": "stream",
          "name": "stderr",
          "text": [
            "\r 60%|██████    | 295/490 [02:31<01:37,  2.00it/s]"
          ]
        },
        {
          "output_type": "stream",
          "name": "stdout",
          "text": [
            "_11_dr_22\n",
            "(512, 512, 1) 1.0 5.0545293e-07\n",
            "(512, 512, 3) (512, 512) (512, 512)\n",
            "(512, 512, 3) (512, 10, 3) (512, 512, 3) (512, 10, 3) (512, 512, 3)\n"
          ]
        },
        {
          "output_type": "stream",
          "name": "stderr",
          "text": [
            "\r 60%|██████    | 296/490 [02:31<01:37,  1.99it/s]"
          ]
        },
        {
          "output_type": "stream",
          "name": "stdout",
          "text": [
            "_11_dr_23\n",
            "(512, 512, 1) 1.0 4.46914e-07\n",
            "(512, 512, 3) (512, 512) (512, 512)\n",
            "(512, 512, 3) (512, 10, 3) (512, 512, 3) (512, 10, 3) (512, 512, 3)\n"
          ]
        },
        {
          "output_type": "stream",
          "name": "stderr",
          "text": [
            "\r 61%|██████    | 297/490 [02:32<01:37,  1.99it/s]"
          ]
        },
        {
          "output_type": "stream",
          "name": "stdout",
          "text": [
            "_11_dr_24\n",
            "(512, 512, 1) 1.0 7.871668e-07\n",
            "(512, 512, 3) (512, 512) (512, 512)\n",
            "(512, 512, 3) (512, 10, 3) (512, 512, 3) (512, 10, 3) (512, 512, 3)\n"
          ]
        },
        {
          "output_type": "stream",
          "name": "stderr",
          "text": [
            "\r 61%|██████    | 298/490 [02:32<01:36,  1.98it/s]"
          ]
        },
        {
          "output_type": "stream",
          "name": "stdout",
          "text": [
            "_11_dr_25\n",
            "(512, 512, 1) 1.0 6.8188166e-07\n",
            "(512, 512, 3) (512, 512) (512, 512)\n",
            "(512, 512, 3) (512, 10, 3) (512, 512, 3) (512, 10, 3) (512, 512, 3)\n"
          ]
        },
        {
          "output_type": "stream",
          "name": "stderr",
          "text": [
            "\r 61%|██████    | 299/490 [02:33<01:36,  1.99it/s]"
          ]
        },
        {
          "output_type": "stream",
          "name": "stdout",
          "text": [
            "_11_dr_26\n",
            "(512, 512, 1) 1.0 1.9379422e-06\n",
            "(512, 512, 3) (512, 512) (512, 512)\n",
            "(512, 512, 3) (512, 10, 3) (512, 512, 3) (512, 10, 3) (512, 512, 3)\n"
          ]
        },
        {
          "output_type": "stream",
          "name": "stderr",
          "text": [
            "\r 61%|██████    | 300/490 [02:33<01:35,  1.99it/s]"
          ]
        },
        {
          "output_type": "stream",
          "name": "stdout",
          "text": [
            "_11_dr_27\n",
            "(512, 512, 1) 1.0 4.2000786e-07\n",
            "(512, 512, 3) (512, 512) (512, 512)\n",
            "(512, 512, 3) (512, 10, 3) (512, 512, 3) (512, 10, 3) (512, 512, 3)\n"
          ]
        },
        {
          "output_type": "stream",
          "name": "stderr",
          "text": [
            "\r 61%|██████▏   | 301/490 [02:34<01:34,  2.00it/s]"
          ]
        },
        {
          "output_type": "stream",
          "name": "stdout",
          "text": [
            "_11_dr_28\n",
            "(512, 512, 1) 0.001004357 7.037166e-06\n",
            "(512, 512, 3) (512, 512) (512, 512)\n",
            "(512, 512, 3) (512, 10, 3) (512, 512, 3) (512, 10, 3) (512, 512, 3)\n"
          ]
        },
        {
          "output_type": "stream",
          "name": "stderr",
          "text": [
            "/usr/local/lib/python3.7/dist-packages/sklearn/metrics/_classification.py:1318: UndefinedMetricWarning: Precision is ill-defined and being set to 0.0 due to no predicted samples. Use `zero_division` parameter to control this behavior.\n",
            "  _warn_prf(average, modifier, msg_start, len(result))\n",
            "\r 62%|██████▏   | 302/490 [02:34<01:33,  2.01it/s]"
          ]
        },
        {
          "output_type": "stream",
          "name": "stdout",
          "text": [
            "_11_dr_29\n",
            "(512, 512, 1) 1.0 6.195791e-07\n",
            "(512, 512, 3) (512, 512) (512, 512)\n",
            "(512, 512, 3) (512, 10, 3) (512, 512, 3) (512, 10, 3) (512, 512, 3)\n"
          ]
        },
        {
          "output_type": "stream",
          "name": "stderr",
          "text": [
            "\r 62%|██████▏   | 303/490 [02:35<01:33,  2.01it/s]"
          ]
        },
        {
          "output_type": "stream",
          "name": "stdout",
          "text": [
            "_11_dr_3\n",
            "(512, 512, 1) 1.0 7.19382e-07\n",
            "(512, 512, 3) (512, 512) (512, 512)\n",
            "(512, 512, 3) (512, 10, 3) (512, 512, 3) (512, 10, 3) (512, 512, 3)\n"
          ]
        },
        {
          "output_type": "stream",
          "name": "stderr",
          "text": [
            "\r 62%|██████▏   | 304/490 [02:35<01:32,  2.00it/s]"
          ]
        },
        {
          "output_type": "stream",
          "name": "stdout",
          "text": [
            "_11_dr_30\n",
            "(512, 512, 1) 1.0 6.0572665e-07\n",
            "(512, 512, 3) (512, 512) (512, 512)\n",
            "(512, 512, 3) (512, 10, 3) (512, 512, 3) (512, 10, 3) (512, 512, 3)\n"
          ]
        },
        {
          "output_type": "stream",
          "name": "stderr",
          "text": [
            "\r 62%|██████▏   | 305/490 [02:36<01:32,  2.01it/s]"
          ]
        },
        {
          "output_type": "stream",
          "name": "stdout",
          "text": [
            "_11_dr_31\n",
            "(512, 512, 1) 1.0 6.632208e-07\n",
            "(512, 512, 3) (512, 512) (512, 512)\n",
            "(512, 512, 3) (512, 10, 3) (512, 512, 3) (512, 10, 3) (512, 512, 3)\n"
          ]
        },
        {
          "output_type": "stream",
          "name": "stderr",
          "text": [
            "\r 62%|██████▏   | 306/490 [02:36<01:31,  2.00it/s]"
          ]
        },
        {
          "output_type": "stream",
          "name": "stdout",
          "text": [
            "_11_dr_32\n",
            "(512, 512, 1) 1.0 4.7954506e-07\n",
            "(512, 512, 3) (512, 512) (512, 512)\n",
            "(512, 512, 3) (512, 10, 3) (512, 512, 3) (512, 10, 3) (512, 512, 3)\n"
          ]
        },
        {
          "output_type": "stream",
          "name": "stderr",
          "text": [
            "\r 63%|██████▎   | 307/490 [02:37<01:31,  2.00it/s]"
          ]
        },
        {
          "output_type": "stream",
          "name": "stdout",
          "text": [
            "_11_dr_33\n",
            "(512, 512, 1) 1.0 1.4843895e-06\n",
            "(512, 512, 3) (512, 512) (512, 512)\n",
            "(512, 512, 3) (512, 10, 3) (512, 512, 3) (512, 10, 3) (512, 512, 3)\n"
          ]
        },
        {
          "output_type": "stream",
          "name": "stderr",
          "text": [
            "\r 63%|██████▎   | 308/490 [02:37<01:30,  2.01it/s]"
          ]
        },
        {
          "output_type": "stream",
          "name": "stdout",
          "text": [
            "_11_dr_34\n",
            "(512, 512, 1) 1.0 4.592145e-06\n",
            "(512, 512, 3) (512, 512) (512, 512)\n",
            "(512, 512, 3) (512, 10, 3) (512, 512, 3) (512, 10, 3) (512, 512, 3)\n"
          ]
        },
        {
          "output_type": "stream",
          "name": "stderr",
          "text": [
            "\r 63%|██████▎   | 309/490 [02:38<01:30,  1.99it/s]"
          ]
        },
        {
          "output_type": "stream",
          "name": "stdout",
          "text": [
            "_11_dr_4\n",
            "(512, 512, 1) 1.0 1.0224632e-06\n",
            "(512, 512, 3) (512, 512) (512, 512)\n",
            "(512, 512, 3) (512, 10, 3) (512, 512, 3) (512, 10, 3) (512, 512, 3)\n"
          ]
        },
        {
          "output_type": "stream",
          "name": "stderr",
          "text": [
            "\r 63%|██████▎   | 310/490 [02:38<01:30,  2.00it/s]"
          ]
        },
        {
          "output_type": "stream",
          "name": "stdout",
          "text": [
            "_11_dr_5\n",
            "(512, 512, 1) 1.0 1.2051166e-06\n",
            "(512, 512, 3) (512, 512) (512, 512)\n",
            "(512, 512, 3) (512, 10, 3) (512, 512, 3) (512, 10, 3) (512, 512, 3)\n"
          ]
        },
        {
          "output_type": "stream",
          "name": "stderr",
          "text": [
            "\r 63%|██████▎   | 311/490 [02:39<01:29,  1.99it/s]"
          ]
        },
        {
          "output_type": "stream",
          "name": "stdout",
          "text": [
            "_11_dr_6\n",
            "(512, 512, 1) 1.0 4.004869e-06\n",
            "(512, 512, 3) (512, 512) (512, 512)\n",
            "(512, 512, 3) (512, 10, 3) (512, 512, 3) (512, 10, 3) (512, 512, 3)\n"
          ]
        },
        {
          "output_type": "stream",
          "name": "stderr",
          "text": [
            "\r 64%|██████▎   | 312/490 [02:39<01:29,  2.00it/s]"
          ]
        },
        {
          "output_type": "stream",
          "name": "stdout",
          "text": [
            "_11_dr_7\n",
            "(512, 512, 1) 1.0 8.7503065e-07\n",
            "(512, 512, 3) (512, 512) (512, 512)\n",
            "(512, 512, 3) (512, 10, 3) (512, 512, 3) (512, 10, 3) (512, 512, 3)\n"
          ]
        },
        {
          "output_type": "stream",
          "name": "stderr",
          "text": [
            "\r 64%|██████▍   | 313/490 [02:40<01:29,  1.97it/s]"
          ]
        },
        {
          "output_type": "stream",
          "name": "stdout",
          "text": [
            "_11_dr_8\n",
            "(512, 512, 1) 1.0 4.0820368e-07\n",
            "(512, 512, 3) (512, 512) (512, 512)\n",
            "(512, 512, 3) (512, 10, 3) (512, 512, 3) (512, 10, 3) (512, 512, 3)\n"
          ]
        },
        {
          "output_type": "stream",
          "name": "stderr",
          "text": [
            "\r 64%|██████▍   | 314/490 [02:40<01:28,  1.98it/s]"
          ]
        },
        {
          "output_type": "stream",
          "name": "stdout",
          "text": [
            "_11_dr_9\n",
            "(512, 512, 1) 1.0 7.359642e-07\n",
            "(512, 512, 3) (512, 512) (512, 512)\n",
            "(512, 512, 3) (512, 10, 3) (512, 512, 3) (512, 10, 3) (512, 512, 3)\n"
          ]
        },
        {
          "output_type": "stream",
          "name": "stderr",
          "text": [
            "\r 64%|██████▍   | 315/490 [02:41<01:28,  1.99it/s]"
          ]
        },
        {
          "output_type": "stream",
          "name": "stdout",
          "text": [
            "_11_h_0\n",
            "(512, 512, 1) 1.0 1.5509975e-06\n",
            "(512, 512, 3) (512, 512) (512, 512)\n",
            "(512, 512, 3) (512, 10, 3) (512, 512, 3) (512, 10, 3) (512, 512, 3)\n"
          ]
        },
        {
          "output_type": "stream",
          "name": "stderr",
          "text": [
            "\r 64%|██████▍   | 316/490 [02:41<01:26,  2.01it/s]"
          ]
        },
        {
          "output_type": "stream",
          "name": "stdout",
          "text": [
            "_11_h_1\n",
            "(512, 512, 1) 1.0 3.3026996e-07\n",
            "(512, 512, 3) (512, 512) (512, 512)\n",
            "(512, 512, 3) (512, 10, 3) (512, 512, 3) (512, 10, 3) (512, 512, 3)\n"
          ]
        },
        {
          "output_type": "stream",
          "name": "stderr",
          "text": [
            "\r 65%|██████▍   | 317/490 [02:42<01:26,  2.01it/s]"
          ]
        },
        {
          "output_type": "stream",
          "name": "stdout",
          "text": [
            "_11_h_10\n",
            "(512, 512, 1) 1.0 2.8875093e-07\n",
            "(512, 512, 3) (512, 512) (512, 512)\n",
            "(512, 512, 3) (512, 10, 3) (512, 512, 3) (512, 10, 3) (512, 512, 3)\n"
          ]
        },
        {
          "output_type": "stream",
          "name": "stderr",
          "text": [
            "\r 65%|██████▍   | 318/490 [02:42<01:25,  2.00it/s]"
          ]
        },
        {
          "output_type": "stream",
          "name": "stdout",
          "text": [
            "_11_h_11\n",
            "(512, 512, 1) 1.0 1.620432e-06\n",
            "(512, 512, 3) (512, 512) (512, 512)\n",
            "(512, 512, 3) (512, 10, 3) (512, 512, 3) (512, 10, 3) (512, 512, 3)\n"
          ]
        },
        {
          "output_type": "stream",
          "name": "stderr",
          "text": [
            "\r 65%|██████▌   | 319/490 [02:43<01:27,  1.96it/s]"
          ]
        },
        {
          "output_type": "stream",
          "name": "stdout",
          "text": [
            "_11_h_12\n",
            "(512, 512, 1) 1.0 1.9326783e-06\n",
            "(512, 512, 3) (512, 512) (512, 512)\n",
            "(512, 512, 3) (512, 10, 3) (512, 512, 3) (512, 10, 3) (512, 512, 3)\n"
          ]
        },
        {
          "output_type": "stream",
          "name": "stderr",
          "text": [
            "\r 65%|██████▌   | 320/490 [02:43<01:26,  1.96it/s]"
          ]
        },
        {
          "output_type": "stream",
          "name": "stdout",
          "text": [
            "_11_h_13\n",
            "(512, 512, 1) 1.0 3.490733e-06\n",
            "(512, 512, 3) (512, 512) (512, 512)\n",
            "(512, 512, 3) (512, 10, 3) (512, 512, 3) (512, 10, 3) (512, 512, 3)\n"
          ]
        },
        {
          "output_type": "stream",
          "name": "stderr",
          "text": [
            "\r 66%|██████▌   | 321/490 [02:44<01:25,  1.97it/s]"
          ]
        },
        {
          "output_type": "stream",
          "name": "stdout",
          "text": [
            "_11_h_14\n",
            "(512, 512, 1) 1.0 7.315424e-07\n",
            "(512, 512, 3) (512, 512) (512, 512)\n",
            "(512, 512, 3) (512, 10, 3) (512, 512, 3) (512, 10, 3) (512, 512, 3)\n"
          ]
        },
        {
          "output_type": "stream",
          "name": "stderr",
          "text": [
            "\r 66%|██████▌   | 322/490 [02:44<01:24,  1.98it/s]"
          ]
        },
        {
          "output_type": "stream",
          "name": "stdout",
          "text": [
            "_11_h_15\n",
            "(512, 512, 1) 1.0 6.3094484e-07\n",
            "(512, 512, 3) (512, 512) (512, 512)\n",
            "(512, 512, 3) (512, 10, 3) (512, 512, 3) (512, 10, 3) (512, 512, 3)\n"
          ]
        },
        {
          "output_type": "stream",
          "name": "stderr",
          "text": [
            "\r 66%|██████▌   | 323/490 [02:45<01:24,  1.98it/s]"
          ]
        },
        {
          "output_type": "stream",
          "name": "stdout",
          "text": [
            "_11_h_16\n",
            "(512, 512, 1) 1.0 7.3793416e-07\n",
            "(512, 512, 3) (512, 512) (512, 512)\n",
            "(512, 512, 3) (512, 10, 3) (512, 512, 3) (512, 10, 3) (512, 512, 3)\n"
          ]
        },
        {
          "output_type": "stream",
          "name": "stderr",
          "text": [
            "\r 66%|██████▌   | 324/490 [02:45<01:23,  1.98it/s]"
          ]
        },
        {
          "output_type": "stream",
          "name": "stdout",
          "text": [
            "_11_h_17\n",
            "(512, 512, 1) 1.0 7.850025e-07\n",
            "(512, 512, 3) (512, 512) (512, 512)\n",
            "(512, 512, 3) (512, 10, 3) (512, 512, 3) (512, 10, 3) (512, 512, 3)\n"
          ]
        },
        {
          "output_type": "stream",
          "name": "stderr",
          "text": [
            "\r 66%|██████▋   | 325/490 [02:46<01:23,  1.98it/s]"
          ]
        },
        {
          "output_type": "stream",
          "name": "stdout",
          "text": [
            "_11_h_18\n",
            "(512, 512, 1) 1.0 9.053523e-07\n",
            "(512, 512, 3) (512, 512) (512, 512)\n",
            "(512, 512, 3) (512, 10, 3) (512, 512, 3) (512, 10, 3) (512, 512, 3)\n"
          ]
        },
        {
          "output_type": "stream",
          "name": "stderr",
          "text": [
            "\r 67%|██████▋   | 326/490 [02:46<01:22,  1.99it/s]"
          ]
        },
        {
          "output_type": "stream",
          "name": "stdout",
          "text": [
            "_11_h_19\n",
            "(512, 512, 1) 1.0 4.0148964e-07\n",
            "(512, 512, 3) (512, 512) (512, 512)\n",
            "(512, 512, 3) (512, 10, 3) (512, 512, 3) (512, 10, 3) (512, 512, 3)\n"
          ]
        },
        {
          "output_type": "stream",
          "name": "stderr",
          "text": [
            "\r 67%|██████▋   | 327/490 [02:47<01:21,  1.99it/s]"
          ]
        },
        {
          "output_type": "stream",
          "name": "stdout",
          "text": [
            "_11_h_2\n",
            "(512, 512, 1) 1.0 5.158455e-07\n",
            "(512, 512, 3) (512, 512) (512, 512)\n",
            "(512, 512, 3) (512, 10, 3) (512, 512, 3) (512, 10, 3) (512, 512, 3)\n"
          ]
        },
        {
          "output_type": "stream",
          "name": "stderr",
          "text": [
            "\r 67%|██████▋   | 328/490 [02:47<01:21,  1.99it/s]"
          ]
        },
        {
          "output_type": "stream",
          "name": "stdout",
          "text": [
            "_11_h_20\n",
            "(512, 512, 1) 1.0 9.969698e-07\n",
            "(512, 512, 3) (512, 512) (512, 512)\n",
            "(512, 512, 3) (512, 10, 3) (512, 512, 3) (512, 10, 3) (512, 512, 3)\n"
          ]
        },
        {
          "output_type": "stream",
          "name": "stderr",
          "text": [
            "\r 67%|██████▋   | 329/490 [02:48<01:20,  1.99it/s]"
          ]
        },
        {
          "output_type": "stream",
          "name": "stdout",
          "text": [
            "_11_h_21\n",
            "(512, 512, 1) 1.0 1.4627872e-06\n",
            "(512, 512, 3) (512, 512) (512, 512)\n",
            "(512, 512, 3) (512, 10, 3) (512, 512, 3) (512, 10, 3) (512, 512, 3)\n"
          ]
        },
        {
          "output_type": "stream",
          "name": "stderr",
          "text": [
            "\r 67%|██████▋   | 330/490 [02:48<01:19,  2.01it/s]"
          ]
        },
        {
          "output_type": "stream",
          "name": "stdout",
          "text": [
            "_11_h_22\n",
            "(512, 512, 1) 1.0 4.9649367e-07\n",
            "(512, 512, 3) (512, 512) (512, 512)\n",
            "(512, 512, 3) (512, 10, 3) (512, 512, 3) (512, 10, 3) (512, 512, 3)\n"
          ]
        },
        {
          "output_type": "stream",
          "name": "stderr",
          "text": [
            "\r 68%|██████▊   | 331/490 [02:49<01:20,  1.98it/s]"
          ]
        },
        {
          "output_type": "stream",
          "name": "stdout",
          "text": [
            "_11_h_23\n",
            "(512, 512, 1) 1.0 1.1192781e-06\n",
            "(512, 512, 3) (512, 512) (512, 512)\n",
            "(512, 512, 3) (512, 10, 3) (512, 512, 3) (512, 10, 3) (512, 512, 3)\n"
          ]
        },
        {
          "output_type": "stream",
          "name": "stderr",
          "text": [
            "\r 68%|██████▊   | 332/490 [02:49<01:19,  1.98it/s]"
          ]
        },
        {
          "output_type": "stream",
          "name": "stdout",
          "text": [
            "_11_h_24\n",
            "(512, 512, 1) 1.0 1.7697275e-06\n",
            "(512, 512, 3) (512, 512) (512, 512)\n",
            "(512, 512, 3) (512, 10, 3) (512, 512, 3) (512, 10, 3) (512, 512, 3)\n"
          ]
        },
        {
          "output_type": "stream",
          "name": "stderr",
          "text": [
            "\r 68%|██████▊   | 333/490 [02:50<01:18,  1.99it/s]"
          ]
        },
        {
          "output_type": "stream",
          "name": "stdout",
          "text": [
            "_11_h_25\n",
            "(512, 512, 1) 1.0 1.7009437e-06\n",
            "(512, 512, 3) (512, 512) (512, 512)\n",
            "(512, 512, 3) (512, 10, 3) (512, 512, 3) (512, 10, 3) (512, 512, 3)\n"
          ]
        },
        {
          "output_type": "stream",
          "name": "stderr",
          "text": [
            "\r 68%|██████▊   | 334/490 [02:50<01:18,  1.99it/s]"
          ]
        },
        {
          "output_type": "stream",
          "name": "stdout",
          "text": [
            "_11_h_26\n",
            "(512, 512, 1) 1.0 1.2754803e-06\n",
            "(512, 512, 3) (512, 512) (512, 512)\n",
            "(512, 512, 3) (512, 10, 3) (512, 512, 3) (512, 10, 3) (512, 512, 3)\n"
          ]
        },
        {
          "output_type": "stream",
          "name": "stderr",
          "text": [
            "\r 68%|██████▊   | 335/490 [02:51<01:17,  2.00it/s]"
          ]
        },
        {
          "output_type": "stream",
          "name": "stdout",
          "text": [
            "_11_h_27\n",
            "(512, 512, 1) 1.0 2.3177802e-06\n",
            "(512, 512, 3) (512, 512) (512, 512)\n",
            "(512, 512, 3) (512, 10, 3) (512, 512, 3) (512, 10, 3) (512, 512, 3)\n"
          ]
        },
        {
          "output_type": "stream",
          "name": "stderr",
          "text": [
            "\r 69%|██████▊   | 336/490 [02:51<01:17,  2.00it/s]"
          ]
        },
        {
          "output_type": "stream",
          "name": "stdout",
          "text": [
            "_11_h_28\n",
            "(512, 512, 1) 1.0 6.247237e-06\n",
            "(512, 512, 3) (512, 512) (512, 512)\n",
            "(512, 512, 3) (512, 10, 3) (512, 512, 3) (512, 10, 3) (512, 512, 3)\n"
          ]
        },
        {
          "output_type": "stream",
          "name": "stderr",
          "text": [
            "\r 69%|██████▉   | 337/490 [02:52<01:16,  2.00it/s]"
          ]
        },
        {
          "output_type": "stream",
          "name": "stdout",
          "text": [
            "_11_h_29\n",
            "(512, 512, 1) 1.0 1.2763966e-06\n",
            "(512, 512, 3) (512, 512) (512, 512)\n",
            "(512, 512, 3) (512, 10, 3) (512, 512, 3) (512, 10, 3) (512, 512, 3)\n"
          ]
        },
        {
          "output_type": "stream",
          "name": "stderr",
          "text": [
            "\r 69%|██████▉   | 338/490 [02:52<01:15,  2.00it/s]"
          ]
        },
        {
          "output_type": "stream",
          "name": "stdout",
          "text": [
            "_11_h_3\n",
            "(512, 512, 1) 1.0 1.0683201e-06\n",
            "(512, 512, 3) (512, 512) (512, 512)\n",
            "(512, 512, 3) (512, 10, 3) (512, 512, 3) (512, 10, 3) (512, 512, 3)\n"
          ]
        },
        {
          "output_type": "stream",
          "name": "stderr",
          "text": [
            "\r 69%|██████▉   | 339/490 [02:53<01:15,  2.01it/s]"
          ]
        },
        {
          "output_type": "stream",
          "name": "stdout",
          "text": [
            "_11_h_30\n",
            "(512, 512, 1) 1.0 1.0409714e-06\n",
            "(512, 512, 3) (512, 512) (512, 512)\n",
            "(512, 512, 3) (512, 10, 3) (512, 512, 3) (512, 10, 3) (512, 512, 3)\n"
          ]
        },
        {
          "output_type": "stream",
          "name": "stderr",
          "text": [
            "\r 69%|██████▉   | 340/490 [02:53<01:14,  2.02it/s]"
          ]
        },
        {
          "output_type": "stream",
          "name": "stdout",
          "text": [
            "_11_h_31\n",
            "(512, 512, 1) 1.0 1.1470269e-06\n",
            "(512, 512, 3) (512, 512) (512, 512)\n",
            "(512, 512, 3) (512, 10, 3) (512, 512, 3) (512, 10, 3) (512, 512, 3)\n"
          ]
        },
        {
          "output_type": "stream",
          "name": "stderr",
          "text": [
            "\r 70%|██████▉   | 341/490 [02:54<01:13,  2.02it/s]"
          ]
        },
        {
          "output_type": "stream",
          "name": "stdout",
          "text": [
            "_11_h_32\n",
            "(512, 512, 1) 1.0 2.1696878e-06\n",
            "(512, 512, 3) (512, 512) (512, 512)\n",
            "(512, 512, 3) (512, 10, 3) (512, 512, 3) (512, 10, 3) (512, 512, 3)\n"
          ]
        },
        {
          "output_type": "stream",
          "name": "stderr",
          "text": [
            "\r 70%|██████▉   | 342/490 [02:54<01:13,  2.01it/s]"
          ]
        },
        {
          "output_type": "stream",
          "name": "stdout",
          "text": [
            "_11_h_33\n",
            "(512, 512, 1) 1.0 8.0929186e-07\n",
            "(512, 512, 3) (512, 512) (512, 512)\n",
            "(512, 512, 3) (512, 10, 3) (512, 512, 3) (512, 10, 3) (512, 512, 3)\n"
          ]
        },
        {
          "output_type": "stream",
          "name": "stderr",
          "text": [
            "\r 70%|███████   | 343/490 [02:55<01:13,  2.01it/s]"
          ]
        },
        {
          "output_type": "stream",
          "name": "stdout",
          "text": [
            "_11_h_34\n",
            "(512, 512, 1) 1.0 9.689543e-06\n",
            "(512, 512, 3) (512, 512) (512, 512)\n",
            "(512, 512, 3) (512, 10, 3) (512, 512, 3) (512, 10, 3) (512, 512, 3)\n"
          ]
        },
        {
          "output_type": "stream",
          "name": "stderr",
          "text": [
            "\r 70%|███████   | 344/490 [02:55<01:12,  2.00it/s]"
          ]
        },
        {
          "output_type": "stream",
          "name": "stdout",
          "text": [
            "_11_h_4\n",
            "(512, 512, 1) 1.0 1.0014934e-06\n",
            "(512, 512, 3) (512, 512) (512, 512)\n",
            "(512, 512, 3) (512, 10, 3) (512, 512, 3) (512, 10, 3) (512, 512, 3)\n"
          ]
        },
        {
          "output_type": "stream",
          "name": "stderr",
          "text": [
            "\r 70%|███████   | 345/490 [02:56<01:12,  2.01it/s]"
          ]
        },
        {
          "output_type": "stream",
          "name": "stdout",
          "text": [
            "_11_h_5\n",
            "(512, 512, 1) 1.0 1.8377191e-06\n",
            "(512, 512, 3) (512, 512) (512, 512)\n",
            "(512, 512, 3) (512, 10, 3) (512, 512, 3) (512, 10, 3) (512, 512, 3)\n"
          ]
        },
        {
          "output_type": "stream",
          "name": "stderr",
          "text": [
            "\r 71%|███████   | 346/490 [02:56<01:11,  2.01it/s]"
          ]
        },
        {
          "output_type": "stream",
          "name": "stdout",
          "text": [
            "_11_h_6\n",
            "(512, 512, 1) 1.0 9.9508525e-06\n",
            "(512, 512, 3) (512, 512) (512, 512)\n",
            "(512, 512, 3) (512, 10, 3) (512, 512, 3) (512, 10, 3) (512, 512, 3)\n"
          ]
        },
        {
          "output_type": "stream",
          "name": "stderr",
          "text": [
            "\r 71%|███████   | 347/490 [02:57<01:10,  2.02it/s]"
          ]
        },
        {
          "output_type": "stream",
          "name": "stdout",
          "text": [
            "_11_h_7\n",
            "(512, 512, 1) 1.0 1.4471716e-06\n",
            "(512, 512, 3) (512, 512) (512, 512)\n",
            "(512, 512, 3) (512, 10, 3) (512, 512, 3) (512, 10, 3) (512, 512, 3)\n"
          ]
        },
        {
          "output_type": "stream",
          "name": "stderr",
          "text": [
            "\r 71%|███████   | 348/490 [02:57<01:10,  2.01it/s]"
          ]
        },
        {
          "output_type": "stream",
          "name": "stdout",
          "text": [
            "_11_h_8\n",
            "(512, 512, 1) 1.0 3.6347302e-07\n",
            "(512, 512, 3) (512, 512) (512, 512)\n",
            "(512, 512, 3) (512, 10, 3) (512, 512, 3) (512, 10, 3) (512, 512, 3)\n"
          ]
        },
        {
          "output_type": "stream",
          "name": "stderr",
          "text": [
            "\r 71%|███████   | 349/490 [02:58<01:10,  2.01it/s]"
          ]
        },
        {
          "output_type": "stream",
          "name": "stdout",
          "text": [
            "_11_h_9\n",
            "(512, 512, 1) 1.0 5.1704876e-07\n",
            "(512, 512, 3) (512, 512) (512, 512)\n",
            "(512, 512, 3) (512, 10, 3) (512, 512, 3) (512, 10, 3) (512, 512, 3)\n"
          ]
        },
        {
          "output_type": "stream",
          "name": "stderr",
          "text": [
            "\r 71%|███████▏  | 350/490 [02:58<01:09,  2.01it/s]"
          ]
        },
        {
          "output_type": "stream",
          "name": "stdout",
          "text": [
            "_12_g_0\n",
            "(512, 512, 1) 1.0 1.4621066e-06\n",
            "(512, 512, 3) (512, 512) (512, 512)\n",
            "(512, 512, 3) (512, 10, 3) (512, 512, 3) (512, 10, 3) (512, 512, 3)\n"
          ]
        },
        {
          "output_type": "stream",
          "name": "stderr",
          "text": [
            "\r 72%|███████▏  | 351/490 [02:59<01:09,  2.01it/s]"
          ]
        },
        {
          "output_type": "stream",
          "name": "stdout",
          "text": [
            "_12_g_1\n",
            "(512, 512, 1) 1.0 2.6986203e-07\n",
            "(512, 512, 3) (512, 512) (512, 512)\n",
            "(512, 512, 3) (512, 10, 3) (512, 512, 3) (512, 10, 3) (512, 512, 3)\n"
          ]
        },
        {
          "output_type": "stream",
          "name": "stderr",
          "text": [
            "\r 72%|███████▏  | 352/490 [02:59<01:09,  1.99it/s]"
          ]
        },
        {
          "output_type": "stream",
          "name": "stdout",
          "text": [
            "_12_g_10\n",
            "(512, 512, 1) 1.0 3.016325e-07\n",
            "(512, 512, 3) (512, 512) (512, 512)\n",
            "(512, 512, 3) (512, 10, 3) (512, 512, 3) (512, 10, 3) (512, 512, 3)\n"
          ]
        },
        {
          "output_type": "stream",
          "name": "stderr",
          "text": [
            "\r 72%|███████▏  | 353/490 [03:00<01:08,  1.99it/s]"
          ]
        },
        {
          "output_type": "stream",
          "name": "stdout",
          "text": [
            "_12_g_11\n",
            "(512, 512, 1) 1.0 1.8831287e-07\n",
            "(512, 512, 3) (512, 512) (512, 512)\n",
            "(512, 512, 3) (512, 10, 3) (512, 512, 3) (512, 10, 3) (512, 512, 3)\n"
          ]
        },
        {
          "output_type": "stream",
          "name": "stderr",
          "text": [
            "\r 72%|███████▏  | 354/490 [03:00<01:08,  1.99it/s]"
          ]
        },
        {
          "output_type": "stream",
          "name": "stdout",
          "text": [
            "_12_g_12\n",
            "(512, 512, 1) 1.0 1.9321683e-07\n",
            "(512, 512, 3) (512, 512) (512, 512)\n",
            "(512, 512, 3) (512, 10, 3) (512, 512, 3) (512, 10, 3) (512, 512, 3)\n"
          ]
        },
        {
          "output_type": "stream",
          "name": "stderr",
          "text": [
            "\r 72%|███████▏  | 355/490 [03:01<01:07,  1.99it/s]"
          ]
        },
        {
          "output_type": "stream",
          "name": "stdout",
          "text": [
            "_12_g_13\n",
            "(512, 512, 1) 1.0 2.6793998e-07\n",
            "(512, 512, 3) (512, 512) (512, 512)\n",
            "(512, 512, 3) (512, 10, 3) (512, 512, 3) (512, 10, 3) (512, 512, 3)\n"
          ]
        },
        {
          "output_type": "stream",
          "name": "stderr",
          "text": [
            "\r 73%|███████▎  | 356/490 [03:01<01:07,  1.98it/s]"
          ]
        },
        {
          "output_type": "stream",
          "name": "stdout",
          "text": [
            "_12_g_14\n",
            "(512, 512, 1) 1.0 3.9354322e-07\n",
            "(512, 512, 3) (512, 512) (512, 512)\n",
            "(512, 512, 3) (512, 10, 3) (512, 512, 3) (512, 10, 3) (512, 512, 3)\n"
          ]
        },
        {
          "output_type": "stream",
          "name": "stderr",
          "text": [
            "\r 73%|███████▎  | 357/490 [03:02<01:06,  1.99it/s]"
          ]
        },
        {
          "output_type": "stream",
          "name": "stdout",
          "text": [
            "_12_g_15\n",
            "(512, 512, 1) 1.0 5.100264e-07\n",
            "(512, 512, 3) (512, 512) (512, 512)\n",
            "(512, 512, 3) (512, 10, 3) (512, 512, 3) (512, 10, 3) (512, 512, 3)\n"
          ]
        },
        {
          "output_type": "stream",
          "name": "stderr",
          "text": [
            "\r 73%|███████▎  | 358/490 [03:02<01:06,  1.98it/s]"
          ]
        },
        {
          "output_type": "stream",
          "name": "stdout",
          "text": [
            "_12_g_16\n",
            "(512, 512, 1) 1.0 2.2493435e-07\n",
            "(512, 512, 3) (512, 512) (512, 512)\n",
            "(512, 512, 3) (512, 10, 3) (512, 512, 3) (512, 10, 3) (512, 512, 3)\n"
          ]
        },
        {
          "output_type": "stream",
          "name": "stderr",
          "text": [
            "\r 73%|███████▎  | 359/490 [03:03<01:06,  1.98it/s]"
          ]
        },
        {
          "output_type": "stream",
          "name": "stdout",
          "text": [
            "_12_g_17\n",
            "(512, 512, 1) 1.0 1.6713902e-07\n",
            "(512, 512, 3) (512, 512) (512, 512)\n",
            "(512, 512, 3) (512, 10, 3) (512, 512, 3) (512, 10, 3) (512, 512, 3)\n"
          ]
        },
        {
          "output_type": "stream",
          "name": "stderr",
          "text": [
            "\r 73%|███████▎  | 360/490 [03:03<01:06,  1.97it/s]"
          ]
        },
        {
          "output_type": "stream",
          "name": "stdout",
          "text": [
            "_12_g_18\n",
            "(512, 512, 1) 1.0 2.667951e-07\n",
            "(512, 512, 3) (512, 512) (512, 512)\n",
            "(512, 512, 3) (512, 10, 3) (512, 512, 3) (512, 10, 3) (512, 512, 3)\n"
          ]
        },
        {
          "output_type": "stream",
          "name": "stderr",
          "text": [
            "\r 74%|███████▎  | 361/490 [03:04<01:05,  1.96it/s]"
          ]
        },
        {
          "output_type": "stream",
          "name": "stdout",
          "text": [
            "_12_g_19\n",
            "(512, 512, 1) 1.0 2.3569096e-07\n",
            "(512, 512, 3) (512, 512) (512, 512)\n",
            "(512, 512, 3) (512, 10, 3) (512, 512, 3) (512, 10, 3) (512, 512, 3)\n"
          ]
        },
        {
          "output_type": "stream",
          "name": "stderr",
          "text": [
            "\r 74%|███████▍  | 362/490 [03:04<01:05,  1.97it/s]"
          ]
        },
        {
          "output_type": "stream",
          "name": "stdout",
          "text": [
            "_12_g_2\n",
            "(512, 512, 1) 1.0 7.474371e-08\n",
            "(512, 512, 3) (512, 512) (512, 512)\n",
            "(512, 512, 3) (512, 10, 3) (512, 512, 3) (512, 10, 3) (512, 512, 3)\n"
          ]
        },
        {
          "output_type": "stream",
          "name": "stderr",
          "text": [
            "\r 74%|███████▍  | 363/490 [03:05<01:04,  1.97it/s]"
          ]
        },
        {
          "output_type": "stream",
          "name": "stdout",
          "text": [
            "_12_g_20\n",
            "(512, 512, 1) 1.0 2.8479906e-07\n",
            "(512, 512, 3) (512, 512) (512, 512)\n",
            "(512, 512, 3) (512, 10, 3) (512, 512, 3) (512, 10, 3) (512, 512, 3)\n"
          ]
        },
        {
          "output_type": "stream",
          "name": "stderr",
          "text": [
            "\r 74%|███████▍  | 364/490 [03:05<01:04,  1.97it/s]"
          ]
        },
        {
          "output_type": "stream",
          "name": "stdout",
          "text": [
            "_12_g_21\n",
            "(512, 512, 1) 1.0 5.74099e-07\n",
            "(512, 512, 3) (512, 512) (512, 512)\n",
            "(512, 512, 3) (512, 10, 3) (512, 512, 3) (512, 10, 3) (512, 512, 3)\n"
          ]
        },
        {
          "output_type": "stream",
          "name": "stderr",
          "text": [
            "\r 74%|███████▍  | 365/490 [03:06<01:03,  1.97it/s]"
          ]
        },
        {
          "output_type": "stream",
          "name": "stdout",
          "text": [
            "_12_g_22\n",
            "(512, 512, 1) 1.0 1.3036392e-07\n",
            "(512, 512, 3) (512, 512) (512, 512)\n",
            "(512, 512, 3) (512, 10, 3) (512, 512, 3) (512, 10, 3) (512, 512, 3)\n"
          ]
        },
        {
          "output_type": "stream",
          "name": "stderr",
          "text": [
            "\r 75%|███████▍  | 366/490 [03:06<01:03,  1.96it/s]"
          ]
        },
        {
          "output_type": "stream",
          "name": "stdout",
          "text": [
            "_12_g_23\n",
            "(512, 512, 1) 1.0 3.105225e-07\n",
            "(512, 512, 3) (512, 512) (512, 512)\n",
            "(512, 512, 3) (512, 10, 3) (512, 512, 3) (512, 10, 3) (512, 512, 3)\n"
          ]
        },
        {
          "output_type": "stream",
          "name": "stderr",
          "text": [
            "\r 75%|███████▍  | 367/490 [03:07<01:02,  1.96it/s]"
          ]
        },
        {
          "output_type": "stream",
          "name": "stdout",
          "text": [
            "_12_g_24\n",
            "(512, 512, 1) 1.0 1.864663e-07\n",
            "(512, 512, 3) (512, 512) (512, 512)\n",
            "(512, 512, 3) (512, 10, 3) (512, 512, 3) (512, 10, 3) (512, 512, 3)\n"
          ]
        },
        {
          "output_type": "stream",
          "name": "stderr",
          "text": [
            "\r 75%|███████▌  | 368/490 [03:07<01:02,  1.96it/s]"
          ]
        },
        {
          "output_type": "stream",
          "name": "stdout",
          "text": [
            "_12_g_25\n",
            "(512, 512, 1) 1.0 1.6145518e-07\n",
            "(512, 512, 3) (512, 512) (512, 512)\n",
            "(512, 512, 3) (512, 10, 3) (512, 512, 3) (512, 10, 3) (512, 512, 3)\n"
          ]
        },
        {
          "output_type": "stream",
          "name": "stderr",
          "text": [
            "\r 75%|███████▌  | 369/490 [03:08<01:01,  1.96it/s]"
          ]
        },
        {
          "output_type": "stream",
          "name": "stdout",
          "text": [
            "_12_g_26\n",
            "(512, 512, 1) 1.0 2.2409543e-07\n",
            "(512, 512, 3) (512, 512) (512, 512)\n",
            "(512, 512, 3) (512, 10, 3) (512, 512, 3) (512, 10, 3) (512, 512, 3)\n"
          ]
        },
        {
          "output_type": "stream",
          "name": "stderr",
          "text": [
            "\r 76%|███████▌  | 370/490 [03:08<01:01,  1.96it/s]"
          ]
        },
        {
          "output_type": "stream",
          "name": "stdout",
          "text": [
            "_12_g_27\n",
            "(512, 512, 1) 1.0 5.552797e-07\n",
            "(512, 512, 3) (512, 512) (512, 512)\n",
            "(512, 512, 3) (512, 10, 3) (512, 512, 3) (512, 10, 3) (512, 512, 3)\n"
          ]
        },
        {
          "output_type": "stream",
          "name": "stderr",
          "text": [
            "\r 76%|███████▌  | 371/490 [03:09<01:00,  1.96it/s]"
          ]
        },
        {
          "output_type": "stream",
          "name": "stdout",
          "text": [
            "_12_g_28\n",
            "(512, 512, 1) 1.0 1.3677917e-06\n",
            "(512, 512, 3) (512, 512) (512, 512)\n",
            "(512, 512, 3) (512, 10, 3) (512, 512, 3) (512, 10, 3) (512, 512, 3)\n"
          ]
        },
        {
          "output_type": "stream",
          "name": "stderr",
          "text": [
            "\r 76%|███████▌  | 372/490 [03:09<00:59,  1.98it/s]"
          ]
        },
        {
          "output_type": "stream",
          "name": "stdout",
          "text": [
            "_12_g_29\n",
            "(512, 512, 1) 1.0 8.296098e-08\n",
            "(512, 512, 3) (512, 512) (512, 512)\n",
            "(512, 512, 3) (512, 10, 3) (512, 512, 3) (512, 10, 3) (512, 512, 3)\n"
          ]
        },
        {
          "output_type": "stream",
          "name": "stderr",
          "text": [
            "\r 76%|███████▌  | 373/490 [03:10<00:58,  1.99it/s]"
          ]
        },
        {
          "output_type": "stream",
          "name": "stdout",
          "text": [
            "_12_g_3\n",
            "(512, 512, 1) 1.0 3.8995333e-07\n",
            "(512, 512, 3) (512, 512) (512, 512)\n",
            "(512, 512, 3) (512, 10, 3) (512, 512, 3) (512, 10, 3) (512, 512, 3)\n"
          ]
        },
        {
          "output_type": "stream",
          "name": "stderr",
          "text": [
            "\r 76%|███████▋  | 374/490 [03:10<00:58,  1.99it/s]"
          ]
        },
        {
          "output_type": "stream",
          "name": "stdout",
          "text": [
            "_12_g_30\n",
            "(512, 512, 1) 1.0 2.3638924e-07\n",
            "(512, 512, 3) (512, 512) (512, 512)\n",
            "(512, 512, 3) (512, 10, 3) (512, 512, 3) (512, 10, 3) (512, 512, 3)\n"
          ]
        },
        {
          "output_type": "stream",
          "name": "stderr",
          "text": [
            "\r 77%|███████▋  | 375/490 [03:11<00:57,  1.99it/s]"
          ]
        },
        {
          "output_type": "stream",
          "name": "stdout",
          "text": [
            "_12_g_31\n",
            "(512, 512, 1) 1.0 7.5924376e-08\n",
            "(512, 512, 3) (512, 512) (512, 512)\n",
            "(512, 512, 3) (512, 10, 3) (512, 512, 3) (512, 10, 3) (512, 512, 3)\n"
          ]
        },
        {
          "output_type": "stream",
          "name": "stderr",
          "text": [
            "\r 77%|███████▋  | 376/490 [03:12<00:57,  1.98it/s]"
          ]
        },
        {
          "output_type": "stream",
          "name": "stdout",
          "text": [
            "_12_g_32\n",
            "(512, 512, 1) 1.0 3.5348583e-07\n",
            "(512, 512, 3) (512, 512) (512, 512)\n",
            "(512, 512, 3) (512, 10, 3) (512, 512, 3) (512, 10, 3) (512, 512, 3)\n"
          ]
        },
        {
          "output_type": "stream",
          "name": "stderr",
          "text": [
            "\r 77%|███████▋  | 377/490 [03:12<00:56,  1.98it/s]"
          ]
        },
        {
          "output_type": "stream",
          "name": "stdout",
          "text": [
            "_12_g_33\n",
            "(512, 512, 1) 1.0 9.099811e-08\n",
            "(512, 512, 3) (512, 512) (512, 512)\n",
            "(512, 512, 3) (512, 10, 3) (512, 512, 3) (512, 10, 3) (512, 512, 3)\n"
          ]
        },
        {
          "output_type": "stream",
          "name": "stderr",
          "text": [
            "\r 77%|███████▋  | 378/490 [03:13<00:56,  1.98it/s]"
          ]
        },
        {
          "output_type": "stream",
          "name": "stdout",
          "text": [
            "_12_g_34\n",
            "(512, 512, 1) 1.0 1.837274e-06\n",
            "(512, 512, 3) (512, 512) (512, 512)\n",
            "(512, 512, 3) (512, 10, 3) (512, 512, 3) (512, 10, 3) (512, 512, 3)\n"
          ]
        },
        {
          "output_type": "stream",
          "name": "stderr",
          "text": [
            "\r 77%|███████▋  | 379/490 [03:13<00:55,  2.00it/s]"
          ]
        },
        {
          "output_type": "stream",
          "name": "stdout",
          "text": [
            "_12_g_4\n",
            "(512, 512, 1) 1.0 3.04187e-07\n",
            "(512, 512, 3) (512, 512) (512, 512)\n",
            "(512, 512, 3) (512, 10, 3) (512, 512, 3) (512, 10, 3) (512, 512, 3)\n"
          ]
        },
        {
          "output_type": "stream",
          "name": "stderr",
          "text": [
            "\r 78%|███████▊  | 380/490 [03:14<00:54,  2.01it/s]"
          ]
        },
        {
          "output_type": "stream",
          "name": "stdout",
          "text": [
            "_12_g_5\n",
            "(512, 512, 1) 1.0 2.0481777e-07\n",
            "(512, 512, 3) (512, 512) (512, 512)\n",
            "(512, 512, 3) (512, 10, 3) (512, 512, 3) (512, 10, 3) (512, 512, 3)\n"
          ]
        },
        {
          "output_type": "stream",
          "name": "stderr",
          "text": [
            "\r 78%|███████▊  | 381/490 [03:14<00:54,  2.00it/s]"
          ]
        },
        {
          "output_type": "stream",
          "name": "stdout",
          "text": [
            "_12_g_6\n",
            "(512, 512, 1) 1.0 1.7811667e-06\n",
            "(512, 512, 3) (512, 512) (512, 512)\n",
            "(512, 512, 3) (512, 10, 3) (512, 512, 3) (512, 10, 3) (512, 512, 3)\n"
          ]
        },
        {
          "output_type": "stream",
          "name": "stderr",
          "text": [
            "\r 78%|███████▊  | 382/490 [03:14<00:53,  2.02it/s]"
          ]
        },
        {
          "output_type": "stream",
          "name": "stdout",
          "text": [
            "_12_g_7\n",
            "(512, 512, 1) 1.0 6.366373e-07\n",
            "(512, 512, 3) (512, 512) (512, 512)\n",
            "(512, 512, 3) (512, 10, 3) (512, 512, 3) (512, 10, 3) (512, 512, 3)\n"
          ]
        },
        {
          "output_type": "stream",
          "name": "stderr",
          "text": [
            "\r 78%|███████▊  | 383/490 [03:15<00:53,  2.01it/s]"
          ]
        },
        {
          "output_type": "stream",
          "name": "stdout",
          "text": [
            "_12_g_8\n",
            "(512, 512, 1) 1.0 5.6547555e-07\n",
            "(512, 512, 3) (512, 512) (512, 512)\n",
            "(512, 512, 3) (512, 10, 3) (512, 512, 3) (512, 10, 3) (512, 512, 3)\n"
          ]
        },
        {
          "output_type": "stream",
          "name": "stderr",
          "text": [
            "\r 78%|███████▊  | 384/490 [03:16<00:53,  1.98it/s]"
          ]
        },
        {
          "output_type": "stream",
          "name": "stdout",
          "text": [
            "_12_g_9\n",
            "(512, 512, 1) 1.0 5.1857023e-07\n",
            "(512, 512, 3) (512, 512) (512, 512)\n",
            "(512, 512, 3) (512, 10, 3) (512, 512, 3) (512, 10, 3) (512, 512, 3)\n"
          ]
        },
        {
          "output_type": "stream",
          "name": "stderr",
          "text": [
            "\r 79%|███████▊  | 385/490 [03:16<00:58,  1.79it/s]"
          ]
        },
        {
          "output_type": "stream",
          "name": "stdout",
          "text": [
            "_12_h_0\n",
            "(512, 512, 1) 1.0 4.287709e-06\n",
            "(512, 512, 3) (512, 512) (512, 512)\n",
            "(512, 512, 3) (512, 10, 3) (512, 512, 3) (512, 10, 3) (512, 512, 3)\n"
          ]
        },
        {
          "output_type": "stream",
          "name": "stderr",
          "text": [
            "\r 79%|███████▉  | 386/490 [03:17<00:55,  1.86it/s]"
          ]
        },
        {
          "output_type": "stream",
          "name": "stdout",
          "text": [
            "_12_h_1\n",
            "(512, 512, 1) 1.0 9.794683e-07\n",
            "(512, 512, 3) (512, 512) (512, 512)\n",
            "(512, 512, 3) (512, 10, 3) (512, 512, 3) (512, 10, 3) (512, 512, 3)\n"
          ]
        },
        {
          "output_type": "stream",
          "name": "stderr",
          "text": [
            "\r 79%|███████▉  | 387/490 [03:17<00:54,  1.90it/s]"
          ]
        },
        {
          "output_type": "stream",
          "name": "stdout",
          "text": [
            "_12_h_10\n",
            "(512, 512, 1) 1.0 7.8210763e-07\n",
            "(512, 512, 3) (512, 512) (512, 512)\n",
            "(512, 512, 3) (512, 10, 3) (512, 512, 3) (512, 10, 3) (512, 512, 3)\n"
          ]
        },
        {
          "output_type": "stream",
          "name": "stderr",
          "text": [
            "\r 79%|███████▉  | 388/490 [03:18<00:52,  1.93it/s]"
          ]
        },
        {
          "output_type": "stream",
          "name": "stdout",
          "text": [
            "_12_h_11\n",
            "(512, 512, 1) 1.0 9.611898e-07\n",
            "(512, 512, 3) (512, 512) (512, 512)\n",
            "(512, 512, 3) (512, 10, 3) (512, 512, 3) (512, 10, 3) (512, 512, 3)\n"
          ]
        },
        {
          "output_type": "stream",
          "name": "stderr",
          "text": [
            "\r 79%|███████▉  | 389/490 [03:18<00:51,  1.95it/s]"
          ]
        },
        {
          "output_type": "stream",
          "name": "stdout",
          "text": [
            "_12_h_12\n",
            "(512, 512, 1) 1.0 4.4855878e-07\n",
            "(512, 512, 3) (512, 512) (512, 512)\n",
            "(512, 512, 3) (512, 10, 3) (512, 512, 3) (512, 10, 3) (512, 512, 3)\n"
          ]
        },
        {
          "output_type": "stream",
          "name": "stderr",
          "text": [
            "\r 80%|███████▉  | 390/490 [03:19<00:50,  1.97it/s]"
          ]
        },
        {
          "output_type": "stream",
          "name": "stdout",
          "text": [
            "_12_h_13\n",
            "(512, 512, 1) 1.0 8.4196154e-07\n",
            "(512, 512, 3) (512, 512) (512, 512)\n",
            "(512, 512, 3) (512, 10, 3) (512, 512, 3) (512, 10, 3) (512, 512, 3)\n"
          ]
        },
        {
          "output_type": "stream",
          "name": "stderr",
          "text": [
            "\r 80%|███████▉  | 391/490 [03:19<00:49,  1.99it/s]"
          ]
        },
        {
          "output_type": "stream",
          "name": "stdout",
          "text": [
            "_12_h_14\n",
            "(512, 512, 1) 1.0 9.131137e-07\n",
            "(512, 512, 3) (512, 512) (512, 512)\n",
            "(512, 512, 3) (512, 10, 3) (512, 512, 3) (512, 10, 3) (512, 512, 3)\n"
          ]
        },
        {
          "output_type": "stream",
          "name": "stderr",
          "text": [
            "\r 80%|████████  | 392/490 [03:20<00:48,  2.00it/s]"
          ]
        },
        {
          "output_type": "stream",
          "name": "stdout",
          "text": [
            "_12_h_15\n",
            "(512, 512, 1) 1.0 4.846678e-07\n",
            "(512, 512, 3) (512, 512) (512, 512)\n",
            "(512, 512, 3) (512, 10, 3) (512, 512, 3) (512, 10, 3) (512, 512, 3)\n"
          ]
        },
        {
          "output_type": "stream",
          "name": "stderr",
          "text": [
            "\r 80%|████████  | 393/490 [03:20<00:48,  1.99it/s]"
          ]
        },
        {
          "output_type": "stream",
          "name": "stdout",
          "text": [
            "_12_h_16\n",
            "(512, 512, 1) 1.0 4.2884473e-08\n",
            "(512, 512, 3) (512, 512) (512, 512)\n",
            "(512, 512, 3) (512, 10, 3) (512, 512, 3) (512, 10, 3) (512, 512, 3)\n"
          ]
        },
        {
          "output_type": "stream",
          "name": "stderr",
          "text": [
            "\r 80%|████████  | 394/490 [03:21<00:48,  2.00it/s]"
          ]
        },
        {
          "output_type": "stream",
          "name": "stdout",
          "text": [
            "_12_h_17\n",
            "(512, 512, 1) 1.0 1.0453535e-06\n",
            "(512, 512, 3) (512, 512) (512, 512)\n",
            "(512, 512, 3) (512, 10, 3) (512, 512, 3) (512, 10, 3) (512, 512, 3)\n"
          ]
        },
        {
          "output_type": "stream",
          "name": "stderr",
          "text": [
            "\r 81%|████████  | 395/490 [03:21<00:47,  2.00it/s]"
          ]
        },
        {
          "output_type": "stream",
          "name": "stdout",
          "text": [
            "_12_h_18\n",
            "(512, 512, 1) 1.0 1.1673466e-06\n",
            "(512, 512, 3) (512, 512) (512, 512)\n",
            "(512, 512, 3) (512, 10, 3) (512, 512, 3) (512, 10, 3) (512, 512, 3)\n"
          ]
        },
        {
          "output_type": "stream",
          "name": "stderr",
          "text": [
            "\r 81%|████████  | 396/490 [03:22<00:47,  1.97it/s]"
          ]
        },
        {
          "output_type": "stream",
          "name": "stdout",
          "text": [
            "_12_h_19\n",
            "(512, 512, 1) 1.0 6.234478e-07\n",
            "(512, 512, 3) (512, 512) (512, 512)\n",
            "(512, 512, 3) (512, 10, 3) (512, 512, 3) (512, 10, 3) (512, 512, 3)\n"
          ]
        },
        {
          "output_type": "stream",
          "name": "stderr",
          "text": [
            "\r 81%|████████  | 397/490 [03:22<00:47,  1.98it/s]"
          ]
        },
        {
          "output_type": "stream",
          "name": "stdout",
          "text": [
            "_12_h_2\n",
            "(512, 512, 1) 1.0 7.49715e-07\n",
            "(512, 512, 3) (512, 512) (512, 512)\n",
            "(512, 512, 3) (512, 10, 3) (512, 512, 3) (512, 10, 3) (512, 512, 3)\n"
          ]
        },
        {
          "output_type": "stream",
          "name": "stderr",
          "text": [
            "\r 81%|████████  | 398/490 [03:23<00:46,  1.99it/s]"
          ]
        },
        {
          "output_type": "stream",
          "name": "stdout",
          "text": [
            "_12_h_20\n",
            "(512, 512, 1) 1.0 4.354577e-07\n",
            "(512, 512, 3) (512, 512) (512, 512)\n",
            "(512, 512, 3) (512, 10, 3) (512, 512, 3) (512, 10, 3) (512, 512, 3)\n"
          ]
        },
        {
          "output_type": "stream",
          "name": "stderr",
          "text": [
            "\r 81%|████████▏ | 399/490 [03:23<00:45,  2.00it/s]"
          ]
        },
        {
          "output_type": "stream",
          "name": "stdout",
          "text": [
            "_12_h_21\n",
            "(512, 512, 1) 1.0 2.0152656e-06\n",
            "(512, 512, 3) (512, 512) (512, 512)\n",
            "(512, 512, 3) (512, 10, 3) (512, 512, 3) (512, 10, 3) (512, 512, 3)\n"
          ]
        },
        {
          "output_type": "stream",
          "name": "stderr",
          "text": [
            "\r 82%|████████▏ | 400/490 [03:24<00:44,  2.01it/s]"
          ]
        },
        {
          "output_type": "stream",
          "name": "stdout",
          "text": [
            "_12_h_22\n",
            "(512, 512, 1) 1.0 5.3894644e-07\n",
            "(512, 512, 3) (512, 512) (512, 512)\n",
            "(512, 512, 3) (512, 10, 3) (512, 512, 3) (512, 10, 3) (512, 512, 3)\n"
          ]
        },
        {
          "output_type": "stream",
          "name": "stderr",
          "text": [
            "\r 82%|████████▏ | 401/490 [03:24<00:44,  2.00it/s]"
          ]
        },
        {
          "output_type": "stream",
          "name": "stdout",
          "text": [
            "_12_h_23\n",
            "(512, 512, 1) 1.0 5.4181794e-07\n",
            "(512, 512, 3) (512, 512) (512, 512)\n",
            "(512, 512, 3) (512, 10, 3) (512, 512, 3) (512, 10, 3) (512, 512, 3)\n"
          ]
        },
        {
          "output_type": "stream",
          "name": "stderr",
          "text": [
            "\r 82%|████████▏ | 402/490 [03:25<00:43,  2.00it/s]"
          ]
        },
        {
          "output_type": "stream",
          "name": "stdout",
          "text": [
            "_12_h_24\n",
            "(512, 512, 1) 1.0 8.757177e-07\n",
            "(512, 512, 3) (512, 512) (512, 512)\n",
            "(512, 512, 3) (512, 10, 3) (512, 512, 3) (512, 10, 3) (512, 512, 3)\n"
          ]
        },
        {
          "output_type": "stream",
          "name": "stderr",
          "text": [
            "\r 82%|████████▏ | 403/490 [03:25<00:43,  2.00it/s]"
          ]
        },
        {
          "output_type": "stream",
          "name": "stdout",
          "text": [
            "_12_h_25\n",
            "(512, 512, 1) 1.0 1.0243e-06\n",
            "(512, 512, 3) (512, 512) (512, 512)\n",
            "(512, 512, 3) (512, 10, 3) (512, 512, 3) (512, 10, 3) (512, 512, 3)\n"
          ]
        },
        {
          "output_type": "stream",
          "name": "stderr",
          "text": [
            "\r 82%|████████▏ | 404/490 [03:26<00:42,  2.00it/s]"
          ]
        },
        {
          "output_type": "stream",
          "name": "stdout",
          "text": [
            "_12_h_26\n",
            "(512, 512, 1) 1.0 8.868967e-07\n",
            "(512, 512, 3) (512, 512) (512, 512)\n",
            "(512, 512, 3) (512, 10, 3) (512, 512, 3) (512, 10, 3) (512, 512, 3)\n"
          ]
        },
        {
          "output_type": "stream",
          "name": "stderr",
          "text": [
            "\r 83%|████████▎ | 405/490 [03:26<00:42,  2.00it/s]"
          ]
        },
        {
          "output_type": "stream",
          "name": "stdout",
          "text": [
            "_12_h_27\n",
            "(512, 512, 1) 1.0 7.710477e-07\n",
            "(512, 512, 3) (512, 512) (512, 512)\n",
            "(512, 512, 3) (512, 10, 3) (512, 512, 3) (512, 10, 3) (512, 512, 3)\n"
          ]
        },
        {
          "output_type": "stream",
          "name": "stderr",
          "text": [
            "\r 83%|████████▎ | 406/490 [03:27<00:41,  2.01it/s]"
          ]
        },
        {
          "output_type": "stream",
          "name": "stdout",
          "text": [
            "_12_h_28\n",
            "(512, 512, 1) 1.0 7.5328085e-06\n",
            "(512, 512, 3) (512, 512) (512, 512)\n",
            "(512, 512, 3) (512, 10, 3) (512, 512, 3) (512, 10, 3) (512, 512, 3)\n"
          ]
        },
        {
          "output_type": "stream",
          "name": "stderr",
          "text": [
            "\r 83%|████████▎ | 407/490 [03:27<00:41,  2.02it/s]"
          ]
        },
        {
          "output_type": "stream",
          "name": "stdout",
          "text": [
            "_12_h_29\n",
            "(512, 512, 1) 1.0 1.3945905e-06\n",
            "(512, 512, 3) (512, 512) (512, 512)\n",
            "(512, 512, 3) (512, 10, 3) (512, 512, 3) (512, 10, 3) (512, 512, 3)\n"
          ]
        },
        {
          "output_type": "stream",
          "name": "stderr",
          "text": [
            "\r 83%|████████▎ | 408/490 [03:28<00:40,  2.03it/s]"
          ]
        },
        {
          "output_type": "stream",
          "name": "stdout",
          "text": [
            "_12_h_3\n",
            "(512, 512, 1) 1.0 1.5109578e-06\n",
            "(512, 512, 3) (512, 512) (512, 512)\n",
            "(512, 512, 3) (512, 10, 3) (512, 512, 3) (512, 10, 3) (512, 512, 3)\n"
          ]
        },
        {
          "output_type": "stream",
          "name": "stderr",
          "text": [
            "\r 83%|████████▎ | 409/490 [03:28<00:39,  2.03it/s]"
          ]
        },
        {
          "output_type": "stream",
          "name": "stdout",
          "text": [
            "_12_h_30\n",
            "(512, 512, 1) 1.0 2.8976413e-07\n",
            "(512, 512, 3) (512, 512) (512, 512)\n",
            "(512, 512, 3) (512, 10, 3) (512, 512, 3) (512, 10, 3) (512, 512, 3)\n"
          ]
        },
        {
          "output_type": "stream",
          "name": "stderr",
          "text": [
            "\r 84%|████████▎ | 410/490 [03:29<00:39,  2.03it/s]"
          ]
        },
        {
          "output_type": "stream",
          "name": "stdout",
          "text": [
            "_12_h_31\n",
            "(512, 512, 1) 1.0 1.229543e-06\n",
            "(512, 512, 3) (512, 512) (512, 512)\n",
            "(512, 512, 3) (512, 10, 3) (512, 512, 3) (512, 10, 3) (512, 512, 3)\n"
          ]
        },
        {
          "output_type": "stream",
          "name": "stderr",
          "text": [
            "\r 84%|████████▍ | 411/490 [03:29<00:39,  2.02it/s]"
          ]
        },
        {
          "output_type": "stream",
          "name": "stdout",
          "text": [
            "_12_h_32\n",
            "(512, 512, 1) 1.0 8.556235e-07\n",
            "(512, 512, 3) (512, 512) (512, 512)\n",
            "(512, 512, 3) (512, 10, 3) (512, 512, 3) (512, 10, 3) (512, 512, 3)\n"
          ]
        },
        {
          "output_type": "stream",
          "name": "stderr",
          "text": [
            "\r 84%|████████▍ | 412/490 [03:30<00:38,  2.02it/s]"
          ]
        },
        {
          "output_type": "stream",
          "name": "stdout",
          "text": [
            "_12_h_33\n",
            "(512, 512, 1) 1.0 6.372089e-07\n",
            "(512, 512, 3) (512, 512) (512, 512)\n",
            "(512, 512, 3) (512, 10, 3) (512, 512, 3) (512, 10, 3) (512, 512, 3)\n"
          ]
        },
        {
          "output_type": "stream",
          "name": "stderr",
          "text": [
            "\r 84%|████████▍ | 413/490 [03:30<00:37,  2.03it/s]"
          ]
        },
        {
          "output_type": "stream",
          "name": "stdout",
          "text": [
            "_12_h_34\n",
            "(512, 512, 1) 1.0 5.68553e-06\n",
            "(512, 512, 3) (512, 512) (512, 512)\n",
            "(512, 512, 3) (512, 10, 3) (512, 512, 3) (512, 10, 3) (512, 512, 3)\n"
          ]
        },
        {
          "output_type": "stream",
          "name": "stderr",
          "text": [
            "\r 84%|████████▍ | 414/490 [03:31<00:37,  2.03it/s]"
          ]
        },
        {
          "output_type": "stream",
          "name": "stdout",
          "text": [
            "_12_h_4\n",
            "(512, 512, 1) 1.0 5.4843537e-07\n",
            "(512, 512, 3) (512, 512) (512, 512)\n",
            "(512, 512, 3) (512, 10, 3) (512, 512, 3) (512, 10, 3) (512, 512, 3)\n"
          ]
        },
        {
          "output_type": "stream",
          "name": "stderr",
          "text": [
            "\r 85%|████████▍ | 415/490 [03:31<00:36,  2.04it/s]"
          ]
        },
        {
          "output_type": "stream",
          "name": "stdout",
          "text": [
            "_12_h_5\n",
            "(512, 512, 1) 1.0 7.6190634e-07\n",
            "(512, 512, 3) (512, 512) (512, 512)\n",
            "(512, 512, 3) (512, 10, 3) (512, 512, 3) (512, 10, 3) (512, 512, 3)\n"
          ]
        },
        {
          "output_type": "stream",
          "name": "stderr",
          "text": [
            "\r 85%|████████▍ | 416/490 [03:32<00:36,  2.03it/s]"
          ]
        },
        {
          "output_type": "stream",
          "name": "stdout",
          "text": [
            "_12_h_6\n",
            "(512, 512, 1) 1.0 1.8039437e-06\n",
            "(512, 512, 3) (512, 512) (512, 512)\n",
            "(512, 512, 3) (512, 10, 3) (512, 512, 3) (512, 10, 3) (512, 512, 3)\n"
          ]
        },
        {
          "output_type": "stream",
          "name": "stderr",
          "text": [
            "\r 85%|████████▌ | 417/490 [03:32<00:36,  2.02it/s]"
          ]
        },
        {
          "output_type": "stream",
          "name": "stdout",
          "text": [
            "_12_h_7\n",
            "(512, 512, 1) 1.0 4.5881478e-07\n",
            "(512, 512, 3) (512, 512) (512, 512)\n",
            "(512, 512, 3) (512, 10, 3) (512, 512, 3) (512, 10, 3) (512, 512, 3)\n"
          ]
        },
        {
          "output_type": "stream",
          "name": "stderr",
          "text": [
            "\r 85%|████████▌ | 418/490 [03:33<00:35,  2.02it/s]"
          ]
        },
        {
          "output_type": "stream",
          "name": "stdout",
          "text": [
            "_12_h_8\n",
            "(512, 512, 1) 1.0 1.3848056e-07\n",
            "(512, 512, 3) (512, 512) (512, 512)\n",
            "(512, 512, 3) (512, 10, 3) (512, 512, 3) (512, 10, 3) (512, 512, 3)\n"
          ]
        },
        {
          "output_type": "stream",
          "name": "stderr",
          "text": [
            "\r 86%|████████▌ | 419/490 [03:33<00:35,  2.01it/s]"
          ]
        },
        {
          "output_type": "stream",
          "name": "stdout",
          "text": [
            "_12_h_9\n",
            "(512, 512, 1) 1.0 9.7029876e-08\n",
            "(512, 512, 3) (512, 512) (512, 512)\n",
            "(512, 512, 3) (512, 10, 3) (512, 512, 3) (512, 10, 3) (512, 512, 3)\n"
          ]
        },
        {
          "output_type": "stream",
          "name": "stderr",
          "text": [
            "\r 86%|████████▌ | 420/490 [03:34<00:34,  2.01it/s]"
          ]
        },
        {
          "output_type": "stream",
          "name": "stdout",
          "text": [
            "_13_dr_0\n",
            "(512, 512, 1) 1.0 7.518781e-07\n",
            "(512, 512, 3) (512, 512) (512, 512)\n",
            "(512, 512, 3) (512, 10, 3) (512, 512, 3) (512, 10, 3) (512, 512, 3)\n"
          ]
        },
        {
          "output_type": "stream",
          "name": "stderr",
          "text": [
            "\r 86%|████████▌ | 421/490 [03:34<00:34,  2.02it/s]"
          ]
        },
        {
          "output_type": "stream",
          "name": "stdout",
          "text": [
            "_13_dr_1\n",
            "(512, 512, 1) 1.0 2.2851796e-07\n",
            "(512, 512, 3) (512, 512) (512, 512)\n",
            "(512, 512, 3) (512, 10, 3) (512, 512, 3) (512, 10, 3) (512, 512, 3)\n"
          ]
        },
        {
          "output_type": "stream",
          "name": "stderr",
          "text": [
            "\r 86%|████████▌ | 422/490 [03:35<00:33,  2.02it/s]"
          ]
        },
        {
          "output_type": "stream",
          "name": "stdout",
          "text": [
            "_13_dr_10\n",
            "(512, 512, 1) 1.0 2.9572334e-07\n",
            "(512, 512, 3) (512, 512) (512, 512)\n",
            "(512, 512, 3) (512, 10, 3) (512, 512, 3) (512, 10, 3) (512, 512, 3)\n"
          ]
        },
        {
          "output_type": "stream",
          "name": "stderr",
          "text": [
            "\r 86%|████████▋ | 423/490 [03:35<00:33,  2.01it/s]"
          ]
        },
        {
          "output_type": "stream",
          "name": "stdout",
          "text": [
            "_13_dr_11\n",
            "(512, 512, 1) 1.0 2.3240743e-07\n",
            "(512, 512, 3) (512, 512) (512, 512)\n",
            "(512, 512, 3) (512, 10, 3) (512, 512, 3) (512, 10, 3) (512, 512, 3)\n"
          ]
        },
        {
          "output_type": "stream",
          "name": "stderr",
          "text": [
            "\r 87%|████████▋ | 424/490 [03:36<00:32,  2.01it/s]"
          ]
        },
        {
          "output_type": "stream",
          "name": "stdout",
          "text": [
            "_13_dr_12\n",
            "(512, 512, 1) 1.0 2.9879152e-07\n",
            "(512, 512, 3) (512, 512) (512, 512)\n",
            "(512, 512, 3) (512, 10, 3) (512, 512, 3) (512, 10, 3) (512, 512, 3)\n"
          ]
        },
        {
          "output_type": "stream",
          "name": "stderr",
          "text": [
            "\r 87%|████████▋ | 425/490 [03:36<00:32,  2.00it/s]"
          ]
        },
        {
          "output_type": "stream",
          "name": "stdout",
          "text": [
            "_13_dr_13\n",
            "(512, 512, 1) 1.0 6.6838106e-07\n",
            "(512, 512, 3) (512, 512) (512, 512)\n",
            "(512, 512, 3) (512, 10, 3) (512, 512, 3) (512, 10, 3) (512, 512, 3)\n"
          ]
        },
        {
          "output_type": "stream",
          "name": "stderr",
          "text": [
            "\r 87%|████████▋ | 426/490 [03:37<00:31,  2.01it/s]"
          ]
        },
        {
          "output_type": "stream",
          "name": "stdout",
          "text": [
            "_13_dr_14\n",
            "(512, 512, 1) 1.0 3.2117552e-07\n",
            "(512, 512, 3) (512, 512) (512, 512)\n",
            "(512, 512, 3) (512, 10, 3) (512, 512, 3) (512, 10, 3) (512, 512, 3)\n"
          ]
        },
        {
          "output_type": "stream",
          "name": "stderr",
          "text": [
            "\r 87%|████████▋ | 427/490 [03:37<00:31,  2.01it/s]"
          ]
        },
        {
          "output_type": "stream",
          "name": "stdout",
          "text": [
            "_13_dr_15\n",
            "(512, 512, 1) 1.0 2.8250082e-07\n",
            "(512, 512, 3) (512, 512) (512, 512)\n",
            "(512, 512, 3) (512, 10, 3) (512, 512, 3) (512, 10, 3) (512, 512, 3)\n"
          ]
        },
        {
          "output_type": "stream",
          "name": "stderr",
          "text": [
            "\r 87%|████████▋ | 428/490 [03:38<00:30,  2.01it/s]"
          ]
        },
        {
          "output_type": "stream",
          "name": "stdout",
          "text": [
            "_13_dr_16\n",
            "(512, 512, 1) 1.0 2.0890704e-07\n",
            "(512, 512, 3) (512, 512) (512, 512)\n",
            "(512, 512, 3) (512, 10, 3) (512, 512, 3) (512, 10, 3) (512, 512, 3)\n"
          ]
        },
        {
          "output_type": "stream",
          "name": "stderr",
          "text": [
            "\r 88%|████████▊ | 429/490 [03:38<00:30,  2.00it/s]"
          ]
        },
        {
          "output_type": "stream",
          "name": "stdout",
          "text": [
            "_13_dr_17\n",
            "(512, 512, 1) 1.0 8.780377e-08\n",
            "(512, 512, 3) (512, 512) (512, 512)\n",
            "(512, 512, 3) (512, 10, 3) (512, 512, 3) (512, 10, 3) (512, 512, 3)\n"
          ]
        },
        {
          "output_type": "stream",
          "name": "stderr",
          "text": [
            "\r 88%|████████▊ | 430/490 [03:39<00:29,  2.00it/s]"
          ]
        },
        {
          "output_type": "stream",
          "name": "stdout",
          "text": [
            "_13_dr_18\n",
            "(512, 512, 1) 1.0 3.429777e-07\n",
            "(512, 512, 3) (512, 512) (512, 512)\n",
            "(512, 512, 3) (512, 10, 3) (512, 512, 3) (512, 10, 3) (512, 512, 3)\n"
          ]
        },
        {
          "output_type": "stream",
          "name": "stderr",
          "text": [
            "\r 88%|████████▊ | 431/490 [03:39<00:29,  2.01it/s]"
          ]
        },
        {
          "output_type": "stream",
          "name": "stdout",
          "text": [
            "_13_dr_19\n",
            "(512, 512, 1) 1.0 4.1810358e-07\n",
            "(512, 512, 3) (512, 512) (512, 512)\n",
            "(512, 512, 3) (512, 10, 3) (512, 512, 3) (512, 10, 3) (512, 512, 3)\n"
          ]
        },
        {
          "output_type": "stream",
          "name": "stderr",
          "text": [
            "\r 88%|████████▊ | 432/490 [03:40<00:29,  2.00it/s]"
          ]
        },
        {
          "output_type": "stream",
          "name": "stdout",
          "text": [
            "_13_dr_2\n",
            "(512, 512, 1) 1.0 4.982145e-07\n",
            "(512, 512, 3) (512, 512) (512, 512)\n",
            "(512, 512, 3) (512, 10, 3) (512, 512, 3) (512, 10, 3) (512, 512, 3)\n"
          ]
        },
        {
          "output_type": "stream",
          "name": "stderr",
          "text": [
            "\r 88%|████████▊ | 433/490 [03:40<00:28,  2.01it/s]"
          ]
        },
        {
          "output_type": "stream",
          "name": "stdout",
          "text": [
            "_13_dr_20\n",
            "(512, 512, 1) 1.0 3.790491e-07\n",
            "(512, 512, 3) (512, 512) (512, 512)\n",
            "(512, 512, 3) (512, 10, 3) (512, 512, 3) (512, 10, 3) (512, 512, 3)\n"
          ]
        },
        {
          "output_type": "stream",
          "name": "stderr",
          "text": [
            "\r 89%|████████▊ | 434/490 [03:41<00:27,  2.02it/s]"
          ]
        },
        {
          "output_type": "stream",
          "name": "stdout",
          "text": [
            "_13_dr_21\n",
            "(512, 512, 1) 1.0 7.2527587e-07\n",
            "(512, 512, 3) (512, 512) (512, 512)\n",
            "(512, 512, 3) (512, 10, 3) (512, 512, 3) (512, 10, 3) (512, 512, 3)\n"
          ]
        },
        {
          "output_type": "stream",
          "name": "stderr",
          "text": [
            "\r 89%|████████▉ | 435/490 [03:41<00:27,  2.02it/s]"
          ]
        },
        {
          "output_type": "stream",
          "name": "stdout",
          "text": [
            "_13_dr_22\n",
            "(512, 512, 1) 1.0 4.6769227e-07\n",
            "(512, 512, 3) (512, 512) (512, 512)\n",
            "(512, 512, 3) (512, 10, 3) (512, 512, 3) (512, 10, 3) (512, 512, 3)\n"
          ]
        },
        {
          "output_type": "stream",
          "name": "stderr",
          "text": [
            "\r 89%|████████▉ | 436/490 [03:42<00:27,  1.99it/s]"
          ]
        },
        {
          "output_type": "stream",
          "name": "stdout",
          "text": [
            "_13_dr_23\n",
            "(512, 512, 1) 1.0 1.8032216e-07\n",
            "(512, 512, 3) (512, 512) (512, 512)\n",
            "(512, 512, 3) (512, 10, 3) (512, 512, 3) (512, 10, 3) (512, 512, 3)\n"
          ]
        },
        {
          "output_type": "stream",
          "name": "stderr",
          "text": [
            "\r 89%|████████▉ | 437/490 [03:42<00:26,  1.99it/s]"
          ]
        },
        {
          "output_type": "stream",
          "name": "stdout",
          "text": [
            "_13_dr_24\n",
            "(512, 512, 1) 1.0 6.1128316e-07\n",
            "(512, 512, 3) (512, 512) (512, 512)\n",
            "(512, 512, 3) (512, 10, 3) (512, 512, 3) (512, 10, 3) (512, 512, 3)\n"
          ]
        },
        {
          "output_type": "stream",
          "name": "stderr",
          "text": [
            "\r 89%|████████▉ | 438/490 [03:43<00:26,  1.98it/s]"
          ]
        },
        {
          "output_type": "stream",
          "name": "stdout",
          "text": [
            "_13_dr_25\n",
            "(512, 512, 1) 1.0 4.6286064e-07\n",
            "(512, 512, 3) (512, 512) (512, 512)\n",
            "(512, 512, 3) (512, 10, 3) (512, 512, 3) (512, 10, 3) (512, 512, 3)\n"
          ]
        },
        {
          "output_type": "stream",
          "name": "stderr",
          "text": [
            "\r 90%|████████▉ | 439/490 [03:43<00:25,  1.99it/s]"
          ]
        },
        {
          "output_type": "stream",
          "name": "stdout",
          "text": [
            "_13_dr_26\n",
            "(512, 512, 1) 1.0 3.04461e-07\n",
            "(512, 512, 3) (512, 512) (512, 512)\n",
            "(512, 512, 3) (512, 10, 3) (512, 512, 3) (512, 10, 3) (512, 512, 3)\n"
          ]
        },
        {
          "output_type": "stream",
          "name": "stderr",
          "text": [
            "\r 90%|████████▉ | 440/490 [03:44<00:25,  1.98it/s]"
          ]
        },
        {
          "output_type": "stream",
          "name": "stdout",
          "text": [
            "_13_dr_27\n",
            "(512, 512, 1) 1.0 5.2364516e-07\n",
            "(512, 512, 3) (512, 512) (512, 512)\n",
            "(512, 512, 3) (512, 10, 3) (512, 512, 3) (512, 10, 3) (512, 512, 3)\n"
          ]
        },
        {
          "output_type": "stream",
          "name": "stderr",
          "text": [
            "\r 90%|█████████ | 441/490 [03:44<00:24,  1.98it/s]"
          ]
        },
        {
          "output_type": "stream",
          "name": "stdout",
          "text": [
            "_13_dr_28\n",
            "(512, 512, 1) 1.0 1.9247982e-06\n",
            "(512, 512, 3) (512, 512) (512, 512)\n",
            "(512, 512, 3) (512, 10, 3) (512, 512, 3) (512, 10, 3) (512, 512, 3)\n"
          ]
        },
        {
          "output_type": "stream",
          "name": "stderr",
          "text": [
            "\r 90%|█████████ | 442/490 [03:45<00:24,  2.00it/s]"
          ]
        },
        {
          "output_type": "stream",
          "name": "stdout",
          "text": [
            "_13_dr_29\n",
            "(512, 512, 1) 1.0 5.7342214e-07\n",
            "(512, 512, 3) (512, 512) (512, 512)\n",
            "(512, 512, 3) (512, 10, 3) (512, 512, 3) (512, 10, 3) (512, 512, 3)\n"
          ]
        },
        {
          "output_type": "stream",
          "name": "stderr",
          "text": [
            "\r 90%|█████████ | 443/490 [03:45<00:23,  2.01it/s]"
          ]
        },
        {
          "output_type": "stream",
          "name": "stdout",
          "text": [
            "_13_dr_3\n",
            "(512, 512, 1) 1.0 3.493406e-07\n",
            "(512, 512, 3) (512, 512) (512, 512)\n",
            "(512, 512, 3) (512, 10, 3) (512, 512, 3) (512, 10, 3) (512, 512, 3)\n"
          ]
        },
        {
          "output_type": "stream",
          "name": "stderr",
          "text": [
            "\r 91%|█████████ | 444/490 [03:46<00:22,  2.02it/s]"
          ]
        },
        {
          "output_type": "stream",
          "name": "stdout",
          "text": [
            "_13_dr_30\n",
            "(512, 512, 1) 1.0 1.5719371e-07\n",
            "(512, 512, 3) (512, 512) (512, 512)\n",
            "(512, 512, 3) (512, 10, 3) (512, 512, 3) (512, 10, 3) (512, 512, 3)\n"
          ]
        },
        {
          "output_type": "stream",
          "name": "stderr",
          "text": [
            "\r 91%|█████████ | 445/490 [03:46<00:22,  2.02it/s]"
          ]
        },
        {
          "output_type": "stream",
          "name": "stdout",
          "text": [
            "_13_dr_31\n",
            "(512, 512, 1) 1.0 4.5111645e-07\n",
            "(512, 512, 3) (512, 512) (512, 512)\n",
            "(512, 512, 3) (512, 10, 3) (512, 512, 3) (512, 10, 3) (512, 512, 3)\n"
          ]
        },
        {
          "output_type": "stream",
          "name": "stderr",
          "text": [
            "\r 91%|█████████ | 446/490 [03:47<00:21,  2.03it/s]"
          ]
        },
        {
          "output_type": "stream",
          "name": "stdout",
          "text": [
            "_13_dr_32\n",
            "(512, 512, 1) 1.0 2.6128475e-07\n",
            "(512, 512, 3) (512, 512) (512, 512)\n",
            "(512, 512, 3) (512, 10, 3) (512, 512, 3) (512, 10, 3) (512, 512, 3)\n"
          ]
        },
        {
          "output_type": "stream",
          "name": "stderr",
          "text": [
            "\r 91%|█████████ | 447/490 [03:47<00:21,  2.03it/s]"
          ]
        },
        {
          "output_type": "stream",
          "name": "stdout",
          "text": [
            "_13_dr_33\n",
            "(512, 512, 1) 1.0 9.663921e-07\n",
            "(512, 512, 3) (512, 512) (512, 512)\n",
            "(512, 512, 3) (512, 10, 3) (512, 512, 3) (512, 10, 3) (512, 512, 3)\n"
          ]
        },
        {
          "output_type": "stream",
          "name": "stderr",
          "text": [
            "\r 91%|█████████▏| 448/490 [03:48<00:20,  2.03it/s]"
          ]
        },
        {
          "output_type": "stream",
          "name": "stdout",
          "text": [
            "_13_dr_34\n",
            "(512, 512, 1) 0.00016254644 4.32016e-06\n",
            "(512, 512, 3) (512, 512) (512, 512)\n",
            "(512, 512, 3) (512, 10, 3) (512, 512, 3) (512, 10, 3) (512, 512, 3)\n"
          ]
        },
        {
          "output_type": "stream",
          "name": "stderr",
          "text": [
            "/usr/local/lib/python3.7/dist-packages/sklearn/metrics/_classification.py:1580: UndefinedMetricWarning: F-score is ill-defined and being set to 0.0 due to no true nor predicted samples. Use `zero_division` parameter to control this behavior.\n",
            "  _warn_prf(average, \"true nor predicted\", \"F-score is\", len(true_sum))\n",
            "/usr/local/lib/python3.7/dist-packages/sklearn/metrics/_classification.py:1318: UndefinedMetricWarning: Jaccard is ill-defined and being set to 0.0 due to no true or predicted samples. Use `zero_division` parameter to control this behavior.\n",
            "  _warn_prf(average, modifier, msg_start, len(result))\n",
            "/usr/local/lib/python3.7/dist-packages/sklearn/metrics/_classification.py:1318: UndefinedMetricWarning: Recall is ill-defined and being set to 0.0 due to no true samples. Use `zero_division` parameter to control this behavior.\n",
            "  _warn_prf(average, modifier, msg_start, len(result))\n",
            "/usr/local/lib/python3.7/dist-packages/sklearn/metrics/_classification.py:1318: UndefinedMetricWarning: Precision is ill-defined and being set to 0.0 due to no predicted samples. Use `zero_division` parameter to control this behavior.\n",
            "  _warn_prf(average, modifier, msg_start, len(result))\n",
            " 92%|█████████▏| 449/490 [03:48<00:19,  2.13it/s]"
          ]
        },
        {
          "output_type": "stream",
          "name": "stdout",
          "text": [
            "_13_dr_4\n",
            "(512, 512, 1) 1.0 2.3869697e-07\n",
            "(512, 512, 3) (512, 512) (512, 512)\n",
            "(512, 512, 3) (512, 10, 3) (512, 512, 3) (512, 10, 3) (512, 512, 3)\n"
          ]
        },
        {
          "output_type": "stream",
          "name": "stderr",
          "text": [
            "\r 92%|█████████▏| 450/490 [03:48<00:19,  2.09it/s]"
          ]
        },
        {
          "output_type": "stream",
          "name": "stdout",
          "text": [
            "_13_dr_5\n",
            "(512, 512, 1) 1.0 2.068524e-07\n",
            "(512, 512, 3) (512, 512) (512, 512)\n",
            "(512, 512, 3) (512, 10, 3) (512, 512, 3) (512, 10, 3) (512, 512, 3)\n"
          ]
        },
        {
          "output_type": "stream",
          "name": "stderr",
          "text": [
            "\r 92%|█████████▏| 451/490 [03:49<00:18,  2.08it/s]"
          ]
        },
        {
          "output_type": "stream",
          "name": "stdout",
          "text": [
            "_13_dr_6\n",
            "(512, 512, 1) 1.0 4.0658033e-06\n",
            "(512, 512, 3) (512, 512) (512, 512)\n",
            "(512, 512, 3) (512, 10, 3) (512, 512, 3) (512, 10, 3) (512, 512, 3)\n"
          ]
        },
        {
          "output_type": "stream",
          "name": "stderr",
          "text": [
            "\r 92%|█████████▏| 452/490 [03:49<00:18,  2.07it/s]"
          ]
        },
        {
          "output_type": "stream",
          "name": "stdout",
          "text": [
            "_13_dr_7\n",
            "(512, 512, 1) 1.0 3.2329993e-07\n",
            "(512, 512, 3) (512, 512) (512, 512)\n",
            "(512, 512, 3) (512, 10, 3) (512, 512, 3) (512, 10, 3) (512, 512, 3)\n"
          ]
        },
        {
          "output_type": "stream",
          "name": "stderr",
          "text": [
            "\r 92%|█████████▏| 453/490 [03:50<00:18,  2.05it/s]"
          ]
        },
        {
          "output_type": "stream",
          "name": "stdout",
          "text": [
            "_13_dr_8\n",
            "(512, 512, 1) 1.0 5.002035e-07\n",
            "(512, 512, 3) (512, 512) (512, 512)\n",
            "(512, 512, 3) (512, 10, 3) (512, 512, 3) (512, 10, 3) (512, 512, 3)\n"
          ]
        },
        {
          "output_type": "stream",
          "name": "stderr",
          "text": [
            "\r 93%|█████████▎| 454/490 [03:50<00:17,  2.04it/s]"
          ]
        },
        {
          "output_type": "stream",
          "name": "stdout",
          "text": [
            "_13_dr_9\n",
            "(512, 512, 1) 1.0 3.0783198e-07\n",
            "(512, 512, 3) (512, 512) (512, 512)\n",
            "(512, 512, 3) (512, 10, 3) (512, 512, 3) (512, 10, 3) (512, 512, 3)\n"
          ]
        },
        {
          "output_type": "stream",
          "name": "stderr",
          "text": [
            "\r 93%|█████████▎| 455/490 [03:51<00:17,  2.03it/s]"
          ]
        },
        {
          "output_type": "stream",
          "name": "stdout",
          "text": [
            "_15_h_0\n",
            "(512, 512, 1) 1.0 8.375009e-07\n",
            "(512, 512, 3) (512, 512) (512, 512)\n",
            "(512, 512, 3) (512, 10, 3) (512, 512, 3) (512, 10, 3) (512, 512, 3)\n"
          ]
        },
        {
          "output_type": "stream",
          "name": "stderr",
          "text": [
            "\r 93%|█████████▎| 456/490 [03:51<00:16,  2.03it/s]"
          ]
        },
        {
          "output_type": "stream",
          "name": "stdout",
          "text": [
            "_15_h_1\n",
            "(512, 512, 1) 1.0 9.3030515e-08\n",
            "(512, 512, 3) (512, 512) (512, 512)\n",
            "(512, 512, 3) (512, 10, 3) (512, 512, 3) (512, 10, 3) (512, 512, 3)\n"
          ]
        },
        {
          "output_type": "stream",
          "name": "stderr",
          "text": [
            "\r 93%|█████████▎| 457/490 [03:52<00:16,  2.02it/s]"
          ]
        },
        {
          "output_type": "stream",
          "name": "stdout",
          "text": [
            "_15_h_10\n",
            "(512, 512, 1) 1.0 1.6931108e-07\n",
            "(512, 512, 3) (512, 512) (512, 512)\n",
            "(512, 512, 3) (512, 10, 3) (512, 512, 3) (512, 10, 3) (512, 512, 3)\n"
          ]
        },
        {
          "output_type": "stream",
          "name": "stderr",
          "text": [
            "\r 93%|█████████▎| 458/490 [03:52<00:15,  2.02it/s]"
          ]
        },
        {
          "output_type": "stream",
          "name": "stdout",
          "text": [
            "_15_h_11\n",
            "(512, 512, 1) 1.0 4.7568258e-07\n",
            "(512, 512, 3) (512, 512) (512, 512)\n",
            "(512, 512, 3) (512, 10, 3) (512, 512, 3) (512, 10, 3) (512, 512, 3)\n"
          ]
        },
        {
          "output_type": "stream",
          "name": "stderr",
          "text": [
            "\r 94%|█████████▎| 459/490 [03:53<00:15,  2.02it/s]"
          ]
        },
        {
          "output_type": "stream",
          "name": "stdout",
          "text": [
            "_15_h_12\n",
            "(512, 512, 1) 1.0 7.212821e-07\n",
            "(512, 512, 3) (512, 512) (512, 512)\n",
            "(512, 512, 3) (512, 10, 3) (512, 512, 3) (512, 10, 3) (512, 512, 3)\n"
          ]
        },
        {
          "output_type": "stream",
          "name": "stderr",
          "text": [
            "\r 94%|█████████▍| 460/490 [03:53<00:14,  2.00it/s]"
          ]
        },
        {
          "output_type": "stream",
          "name": "stdout",
          "text": [
            "_15_h_13\n",
            "(512, 512, 1) 1.0 3.662476e-07\n",
            "(512, 512, 3) (512, 512) (512, 512)\n",
            "(512, 512, 3) (512, 10, 3) (512, 512, 3) (512, 10, 3) (512, 512, 3)\n"
          ]
        },
        {
          "output_type": "stream",
          "name": "stderr",
          "text": [
            "\r 94%|█████████▍| 461/490 [03:54<00:14,  1.98it/s]"
          ]
        },
        {
          "output_type": "stream",
          "name": "stdout",
          "text": [
            "_15_h_14\n",
            "(512, 512, 1) 1.0 3.6263788e-07\n",
            "(512, 512, 3) (512, 512) (512, 512)\n",
            "(512, 512, 3) (512, 10, 3) (512, 512, 3) (512, 10, 3) (512, 512, 3)\n"
          ]
        },
        {
          "output_type": "stream",
          "name": "stderr",
          "text": [
            "\r 94%|█████████▍| 462/490 [03:54<00:14,  1.99it/s]"
          ]
        },
        {
          "output_type": "stream",
          "name": "stdout",
          "text": [
            "_15_h_15\n",
            "(512, 512, 1) 1.0 2.9233996e-07\n",
            "(512, 512, 3) (512, 512) (512, 512)\n",
            "(512, 512, 3) (512, 10, 3) (512, 512, 3) (512, 10, 3) (512, 512, 3)\n"
          ]
        },
        {
          "output_type": "stream",
          "name": "stderr",
          "text": [
            "\r 94%|█████████▍| 463/490 [03:55<00:13,  1.97it/s]"
          ]
        },
        {
          "output_type": "stream",
          "name": "stdout",
          "text": [
            "_15_h_16\n",
            "(512, 512, 1) 1.0 3.5683803e-07\n",
            "(512, 512, 3) (512, 512) (512, 512)\n",
            "(512, 512, 3) (512, 10, 3) (512, 512, 3) (512, 10, 3) (512, 512, 3)\n"
          ]
        },
        {
          "output_type": "stream",
          "name": "stderr",
          "text": [
            "\r 95%|█████████▍| 464/490 [03:55<00:13,  1.99it/s]"
          ]
        },
        {
          "output_type": "stream",
          "name": "stdout",
          "text": [
            "_15_h_17\n",
            "(512, 512, 1) 1.0 2.5303316e-07\n",
            "(512, 512, 3) (512, 512) (512, 512)\n",
            "(512, 512, 3) (512, 10, 3) (512, 512, 3) (512, 10, 3) (512, 512, 3)\n"
          ]
        },
        {
          "output_type": "stream",
          "name": "stderr",
          "text": [
            "\r 95%|█████████▍| 465/490 [03:56<00:12,  1.99it/s]"
          ]
        },
        {
          "output_type": "stream",
          "name": "stdout",
          "text": [
            "_15_h_18\n",
            "(512, 512, 1) 1.0 1.8997126e-07\n",
            "(512, 512, 3) (512, 512) (512, 512)\n",
            "(512, 512, 3) (512, 10, 3) (512, 512, 3) (512, 10, 3) (512, 512, 3)\n"
          ]
        },
        {
          "output_type": "stream",
          "name": "stderr",
          "text": [
            "\r 95%|█████████▌| 466/490 [03:56<00:12,  1.99it/s]"
          ]
        },
        {
          "output_type": "stream",
          "name": "stdout",
          "text": [
            "_15_h_19\n",
            "(512, 512, 1) 1.0 5.013578e-07\n",
            "(512, 512, 3) (512, 512) (512, 512)\n",
            "(512, 512, 3) (512, 10, 3) (512, 512, 3) (512, 10, 3) (512, 512, 3)\n"
          ]
        },
        {
          "output_type": "stream",
          "name": "stderr",
          "text": [
            "\r 95%|█████████▌| 467/490 [03:57<00:11,  2.00it/s]"
          ]
        },
        {
          "output_type": "stream",
          "name": "stdout",
          "text": [
            "_15_h_2\n",
            "(512, 512, 1) 1.0 4.97901e-07\n",
            "(512, 512, 3) (512, 512) (512, 512)\n",
            "(512, 512, 3) (512, 10, 3) (512, 512, 3) (512, 10, 3) (512, 512, 3)\n"
          ]
        },
        {
          "output_type": "stream",
          "name": "stderr",
          "text": [
            "\r 96%|█████████▌| 468/490 [03:57<00:10,  2.00it/s]"
          ]
        },
        {
          "output_type": "stream",
          "name": "stdout",
          "text": [
            "_15_h_20\n",
            "(512, 512, 1) 1.0 8.2109153e-07\n",
            "(512, 512, 3) (512, 512) (512, 512)\n",
            "(512, 512, 3) (512, 10, 3) (512, 512, 3) (512, 10, 3) (512, 512, 3)\n"
          ]
        },
        {
          "output_type": "stream",
          "name": "stderr",
          "text": [
            "\r 96%|█████████▌| 469/490 [03:58<00:10,  2.01it/s]"
          ]
        },
        {
          "output_type": "stream",
          "name": "stdout",
          "text": [
            "_15_h_21\n",
            "(512, 512, 1) 1.0 3.911474e-07\n",
            "(512, 512, 3) (512, 512) (512, 512)\n",
            "(512, 512, 3) (512, 10, 3) (512, 512, 3) (512, 10, 3) (512, 512, 3)\n"
          ]
        },
        {
          "output_type": "stream",
          "name": "stderr",
          "text": [
            "\r 96%|█████████▌| 470/490 [03:58<00:09,  2.01it/s]"
          ]
        },
        {
          "output_type": "stream",
          "name": "stdout",
          "text": [
            "_15_h_22\n",
            "(512, 512, 1) 1.0 3.978163e-07\n",
            "(512, 512, 3) (512, 512) (512, 512)\n",
            "(512, 512, 3) (512, 10, 3) (512, 512, 3) (512, 10, 3) (512, 512, 3)\n"
          ]
        },
        {
          "output_type": "stream",
          "name": "stderr",
          "text": [
            "\r 96%|█████████▌| 471/490 [03:59<00:09,  2.00it/s]"
          ]
        },
        {
          "output_type": "stream",
          "name": "stdout",
          "text": [
            "_15_h_23\n",
            "(512, 512, 1) 1.0 3.6782276e-07\n",
            "(512, 512, 3) (512, 512) (512, 512)\n",
            "(512, 512, 3) (512, 10, 3) (512, 512, 3) (512, 10, 3) (512, 512, 3)\n"
          ]
        },
        {
          "output_type": "stream",
          "name": "stderr",
          "text": [
            "\r 96%|█████████▋| 472/490 [03:59<00:09,  2.00it/s]"
          ]
        },
        {
          "output_type": "stream",
          "name": "stdout",
          "text": [
            "_15_h_24\n",
            "(512, 512, 1) 1.0 2.671335e-07\n",
            "(512, 512, 3) (512, 512) (512, 512)\n",
            "(512, 512, 3) (512, 10, 3) (512, 512, 3) (512, 10, 3) (512, 512, 3)\n"
          ]
        },
        {
          "output_type": "stream",
          "name": "stderr",
          "text": [
            "\r 97%|█████████▋| 473/490 [04:00<00:08,  1.99it/s]"
          ]
        },
        {
          "output_type": "stream",
          "name": "stdout",
          "text": [
            "_15_h_25\n",
            "(512, 512, 1) 1.0 4.3242594e-07\n",
            "(512, 512, 3) (512, 512) (512, 512)\n",
            "(512, 512, 3) (512, 10, 3) (512, 512, 3) (512, 10, 3) (512, 512, 3)\n"
          ]
        },
        {
          "output_type": "stream",
          "name": "stderr",
          "text": [
            "\r 97%|█████████▋| 474/490 [04:00<00:08,  1.98it/s]"
          ]
        },
        {
          "output_type": "stream",
          "name": "stdout",
          "text": [
            "_15_h_26\n",
            "(512, 512, 1) 1.0 2.4801133e-07\n",
            "(512, 512, 3) (512, 512) (512, 512)\n",
            "(512, 512, 3) (512, 10, 3) (512, 512, 3) (512, 10, 3) (512, 512, 3)\n"
          ]
        },
        {
          "output_type": "stream",
          "name": "stderr",
          "text": [
            "\r 97%|█████████▋| 475/490 [04:01<00:07,  1.99it/s]"
          ]
        },
        {
          "output_type": "stream",
          "name": "stdout",
          "text": [
            "_15_h_27\n",
            "(512, 512, 1) 1.0 9.187504e-07\n",
            "(512, 512, 3) (512, 512) (512, 512)\n",
            "(512, 512, 3) (512, 10, 3) (512, 512, 3) (512, 10, 3) (512, 512, 3)\n"
          ]
        },
        {
          "output_type": "stream",
          "name": "stderr",
          "text": [
            "\r 97%|█████████▋| 476/490 [04:01<00:06,  2.00it/s]"
          ]
        },
        {
          "output_type": "stream",
          "name": "stdout",
          "text": [
            "_15_h_28\n",
            "(512, 512, 1) 1.0 2.3897787e-06\n",
            "(512, 512, 3) (512, 512) (512, 512)\n",
            "(512, 512, 3) (512, 10, 3) (512, 512, 3) (512, 10, 3) (512, 512, 3)\n"
          ]
        },
        {
          "output_type": "stream",
          "name": "stderr",
          "text": [
            "\r 97%|█████████▋| 477/490 [04:02<00:06,  2.01it/s]"
          ]
        },
        {
          "output_type": "stream",
          "name": "stdout",
          "text": [
            "_15_h_29\n",
            "(512, 512, 1) 1.0 5.478541e-07\n",
            "(512, 512, 3) (512, 512) (512, 512)\n",
            "(512, 512, 3) (512, 10, 3) (512, 512, 3) (512, 10, 3) (512, 512, 3)\n"
          ]
        },
        {
          "output_type": "stream",
          "name": "stderr",
          "text": [
            "\r 98%|█████████▊| 478/490 [04:02<00:05,  2.01it/s]"
          ]
        },
        {
          "output_type": "stream",
          "name": "stdout",
          "text": [
            "_15_h_3\n",
            "(512, 512, 1) 1.0 2.9735597e-07\n",
            "(512, 512, 3) (512, 512) (512, 512)\n",
            "(512, 512, 3) (512, 10, 3) (512, 512, 3) (512, 10, 3) (512, 512, 3)\n"
          ]
        },
        {
          "output_type": "stream",
          "name": "stderr",
          "text": [
            "\r 98%|█████████▊| 479/490 [04:03<00:05,  2.01it/s]"
          ]
        },
        {
          "output_type": "stream",
          "name": "stdout",
          "text": [
            "_15_h_30\n",
            "(512, 512, 1) 1.0 1.531132e-07\n",
            "(512, 512, 3) (512, 512) (512, 512)\n",
            "(512, 512, 3) (512, 10, 3) (512, 512, 3) (512, 10, 3) (512, 512, 3)\n"
          ]
        },
        {
          "output_type": "stream",
          "name": "stderr",
          "text": [
            "\r 98%|█████████▊| 480/490 [04:03<00:04,  2.01it/s]"
          ]
        },
        {
          "output_type": "stream",
          "name": "stdout",
          "text": [
            "_15_h_31\n",
            "(512, 512, 1) 1.0 1.5471208e-07\n",
            "(512, 512, 3) (512, 512) (512, 512)\n",
            "(512, 512, 3) (512, 10, 3) (512, 512, 3) (512, 10, 3) (512, 512, 3)\n"
          ]
        },
        {
          "output_type": "stream",
          "name": "stderr",
          "text": [
            "\r 98%|█████████▊| 481/490 [04:04<00:04,  2.01it/s]"
          ]
        },
        {
          "output_type": "stream",
          "name": "stdout",
          "text": [
            "_15_h_32\n",
            "(512, 512, 1) 1.0 2.4172678e-07\n",
            "(512, 512, 3) (512, 512) (512, 512)\n",
            "(512, 512, 3) (512, 10, 3) (512, 512, 3) (512, 10, 3) (512, 512, 3)\n"
          ]
        },
        {
          "output_type": "stream",
          "name": "stderr",
          "text": [
            "\r 98%|█████████▊| 482/490 [04:04<00:03,  2.02it/s]"
          ]
        },
        {
          "output_type": "stream",
          "name": "stdout",
          "text": [
            "_15_h_33\n",
            "(512, 512, 1) 1.0 7.952056e-07\n",
            "(512, 512, 3) (512, 512) (512, 512)\n",
            "(512, 512, 3) (512, 10, 3) (512, 512, 3) (512, 10, 3) (512, 512, 3)\n"
          ]
        },
        {
          "output_type": "stream",
          "name": "stderr",
          "text": [
            "\r 99%|█████████▊| 483/490 [04:05<00:03,  2.00it/s]"
          ]
        },
        {
          "output_type": "stream",
          "name": "stdout",
          "text": [
            "_15_h_34\n",
            "(512, 512, 1) 1.0 3.160673e-06\n",
            "(512, 512, 3) (512, 512) (512, 512)\n",
            "(512, 512, 3) (512, 10, 3) (512, 512, 3) (512, 10, 3) (512, 512, 3)\n"
          ]
        },
        {
          "output_type": "stream",
          "name": "stderr",
          "text": [
            "\r 99%|█████████▉| 484/490 [04:05<00:02,  2.00it/s]"
          ]
        },
        {
          "output_type": "stream",
          "name": "stdout",
          "text": [
            "_15_h_4\n",
            "(512, 512, 1) 1.0 2.4464617e-07\n",
            "(512, 512, 3) (512, 512) (512, 512)\n",
            "(512, 512, 3) (512, 10, 3) (512, 512, 3) (512, 10, 3) (512, 512, 3)\n"
          ]
        },
        {
          "output_type": "stream",
          "name": "stderr",
          "text": [
            "\r 99%|█████████▉| 485/490 [04:06<00:02,  2.00it/s]"
          ]
        },
        {
          "output_type": "stream",
          "name": "stdout",
          "text": [
            "_15_h_5\n",
            "(512, 512, 1) 1.0 3.2734872e-07\n",
            "(512, 512, 3) (512, 512) (512, 512)\n",
            "(512, 512, 3) (512, 10, 3) (512, 512, 3) (512, 10, 3) (512, 512, 3)\n"
          ]
        },
        {
          "output_type": "stream",
          "name": "stderr",
          "text": [
            "\r 99%|█████████▉| 486/490 [04:06<00:02,  1.99it/s]"
          ]
        },
        {
          "output_type": "stream",
          "name": "stdout",
          "text": [
            "_15_h_6\n",
            "(512, 512, 1) 1.0 2.3045293e-06\n",
            "(512, 512, 3) (512, 512) (512, 512)\n",
            "(512, 512, 3) (512, 10, 3) (512, 512, 3) (512, 10, 3) (512, 512, 3)\n"
          ]
        },
        {
          "output_type": "stream",
          "name": "stderr",
          "text": [
            "\r 99%|█████████▉| 487/490 [04:07<00:01,  1.99it/s]"
          ]
        },
        {
          "output_type": "stream",
          "name": "stdout",
          "text": [
            "_15_h_7\n",
            "(512, 512, 1) 1.0 1.7496369e-07\n",
            "(512, 512, 3) (512, 512) (512, 512)\n",
            "(512, 512, 3) (512, 10, 3) (512, 512, 3) (512, 10, 3) (512, 512, 3)\n"
          ]
        },
        {
          "output_type": "stream",
          "name": "stderr",
          "text": [
            "\r100%|█████████▉| 488/490 [04:07<00:01,  2.00it/s]"
          ]
        },
        {
          "output_type": "stream",
          "name": "stdout",
          "text": [
            "_15_h_8\n",
            "(512, 512, 1) 1.0 3.8543706e-07\n",
            "(512, 512, 3) (512, 512) (512, 512)\n",
            "(512, 512, 3) (512, 10, 3) (512, 512, 3) (512, 10, 3) (512, 512, 3)\n"
          ]
        },
        {
          "output_type": "stream",
          "name": "stderr",
          "text": [
            "\r100%|█████████▉| 489/490 [04:08<00:00,  1.99it/s]"
          ]
        },
        {
          "output_type": "stream",
          "name": "stdout",
          "text": [
            "_15_h_9\n",
            "(512, 512, 1) 1.0 5.7301435e-07\n",
            "(512, 512, 3) (512, 512) (512, 512)\n",
            "(512, 512, 3) (512, 10, 3) (512, 512, 3) (512, 10, 3) (512, 512, 3)\n"
          ]
        },
        {
          "output_type": "stream",
          "name": "stderr",
          "text": [
            "100%|██████████| 490/490 [04:08<00:00,  1.97it/s]\n"
          ]
        },
        {
          "output_type": "stream",
          "name": "stdout",
          "text": [
            "Accuracy: 0.97513\n",
            "F1: 0.78268\n",
            "Jaccard: 0.65711\n",
            "Recall: 0.78568\n",
            "Precision: 0.79662\n",
            "AUC: 0.91218\n",
            "Dice Coeff: 0.78194\n",
            "Threshold 0.5\n"
          ]
        },
        {
          "output_type": "stream",
          "name": "stderr",
          "text": [
            "\r  0%|          | 0/14 [00:00<?, ?it/s]"
          ]
        },
        {
          "output_type": "stream",
          "name": "stdout",
          "text": [
            "02_g\n",
            "Reading predicted image from  reconstructed/test/predictions_reconstructed_recomputed//02_g.png\n",
            "(2560, 3584) 255 0\n",
            "(2560, 3584) 1.0 0.0\n",
            "(2560, 3584, 3) (2560, 3584) (2560, 3584)\n",
            "(2560, 3584, 3) (2560, 10, 3) (2560, 3584, 3) (2560, 10, 3) (2560, 3584, 3)\n"
          ]
        },
        {
          "output_type": "stream",
          "name": "stderr",
          "text": [
            "\r  7%|▋         | 1/14 [00:17<03:47, 17.53s/it]"
          ]
        },
        {
          "output_type": "stream",
          "name": "stdout",
          "text": [
            "03_h\n",
            "Reading predicted image from  reconstructed/test/predictions_reconstructed_recomputed//03_h.png\n",
            "(2560, 3584) 255 0\n",
            "(2560, 3584) 1.0 0.0\n",
            "(2560, 3584, 3) (2560, 3584) (2560, 3584)\n",
            "(2560, 3584, 3) (2560, 10, 3) (2560, 3584, 3) (2560, 10, 3) (2560, 3584, 3)\n"
          ]
        },
        {
          "output_type": "stream",
          "name": "stderr",
          "text": [
            "\r 14%|█▍        | 2/14 [00:34<03:28, 17.42s/it]"
          ]
        },
        {
          "output_type": "stream",
          "name": "stdout",
          "text": [
            "05_dr\n",
            "Reading predicted image from  reconstructed/test/predictions_reconstructed_recomputed//05_dr.png\n",
            "(2560, 3584) 255 0\n",
            "(2560, 3584) 1.0 0.0\n",
            "(2560, 3584, 3) (2560, 3584) (2560, 3584)\n",
            "(2560, 3584, 3) (2560, 10, 3) (2560, 3584, 3) (2560, 10, 3) (2560, 3584, 3)\n"
          ]
        },
        {
          "output_type": "stream",
          "name": "stderr",
          "text": [
            "\r 21%|██▏       | 3/14 [00:52<03:10, 17.33s/it]"
          ]
        },
        {
          "output_type": "stream",
          "name": "stdout",
          "text": [
            "05_g\n",
            "Reading predicted image from  reconstructed/test/predictions_reconstructed_recomputed//05_g.png\n",
            "(2560, 3584) 255 0\n",
            "(2560, 3584) 1.0 0.0\n",
            "(2560, 3584, 3) (2560, 3584) (2560, 3584)\n",
            "(2560, 3584, 3) (2560, 10, 3) (2560, 3584, 3) (2560, 10, 3) (2560, 3584, 3)\n"
          ]
        },
        {
          "output_type": "stream",
          "name": "stderr",
          "text": [
            "\r 29%|██▊       | 4/14 [01:09<02:51, 17.16s/it]"
          ]
        },
        {
          "output_type": "stream",
          "name": "stdout",
          "text": [
            "06_g\n",
            "Reading predicted image from  reconstructed/test/predictions_reconstructed_recomputed//06_g.png\n",
            "(2560, 3584) 255 0\n",
            "(2560, 3584) 1.0 0.0\n",
            "(2560, 3584, 3) (2560, 3584) (2560, 3584)\n",
            "(2560, 3584, 3) (2560, 10, 3) (2560, 3584, 3) (2560, 10, 3) (2560, 3584, 3)\n"
          ]
        },
        {
          "output_type": "stream",
          "name": "stderr",
          "text": [
            "\r 36%|███▌      | 5/14 [01:25<02:33, 17.10s/it]"
          ]
        },
        {
          "output_type": "stream",
          "name": "stdout",
          "text": [
            "08_dr\n",
            "Reading predicted image from  reconstructed/test/predictions_reconstructed_recomputed//08_dr.png\n",
            "(2560, 3584) 255 0\n",
            "(2560, 3584) 1.0 0.0\n",
            "(2560, 3584, 3) (2560, 3584) (2560, 3584)\n",
            "(2560, 3584, 3) (2560, 10, 3) (2560, 3584, 3) (2560, 10, 3) (2560, 3584, 3)\n"
          ]
        },
        {
          "output_type": "stream",
          "name": "stderr",
          "text": [
            "\r 43%|████▎     | 6/14 [01:43<02:17, 17.23s/it]"
          ]
        },
        {
          "output_type": "stream",
          "name": "stdout",
          "text": [
            "08_g\n",
            "Reading predicted image from  reconstructed/test/predictions_reconstructed_recomputed//08_g.png\n",
            "(2560, 3584) 255 0\n",
            "(2560, 3584) 1.0 0.0\n",
            "(2560, 3584, 3) (2560, 3584) (2560, 3584)\n",
            "(2560, 3584, 3) (2560, 10, 3) (2560, 3584, 3) (2560, 10, 3) (2560, 3584, 3)\n"
          ]
        },
        {
          "output_type": "stream",
          "name": "stderr",
          "text": [
            "\r 50%|█████     | 7/14 [02:00<02:00, 17.22s/it]"
          ]
        },
        {
          "output_type": "stream",
          "name": "stdout",
          "text": [
            "10_h\n",
            "Reading predicted image from  reconstructed/test/predictions_reconstructed_recomputed//10_h.png\n",
            "(2560, 3584) 255 0\n",
            "(2560, 3584) 1.0 0.0\n",
            "(2560, 3584, 3) (2560, 3584) (2560, 3584)\n",
            "(2560, 3584, 3) (2560, 10, 3) (2560, 3584, 3) (2560, 10, 3) (2560, 3584, 3)\n"
          ]
        },
        {
          "output_type": "stream",
          "name": "stderr",
          "text": [
            "\r 57%|█████▋    | 8/14 [02:17<01:43, 17.22s/it]"
          ]
        },
        {
          "output_type": "stream",
          "name": "stdout",
          "text": [
            "11_dr\n",
            "Reading predicted image from  reconstructed/test/predictions_reconstructed_recomputed//11_dr.png\n",
            "(2560, 3584) 255 0\n",
            "(2560, 3584) 1.0 0.0\n",
            "(2560, 3584, 3) (2560, 3584) (2560, 3584)\n",
            "(2560, 3584, 3) (2560, 10, 3) (2560, 3584, 3) (2560, 10, 3) (2560, 3584, 3)\n"
          ]
        },
        {
          "output_type": "stream",
          "name": "stderr",
          "text": [
            "\r 64%|██████▍   | 9/14 [02:35<01:26, 17.24s/it]"
          ]
        },
        {
          "output_type": "stream",
          "name": "stdout",
          "text": [
            "11_h\n",
            "Reading predicted image from  reconstructed/test/predictions_reconstructed_recomputed//11_h.png\n",
            "(2560, 3584) 255 0\n",
            "(2560, 3584) 1.0 0.0\n",
            "(2560, 3584, 3) (2560, 3584) (2560, 3584)\n",
            "(2560, 3584, 3) (2560, 10, 3) (2560, 3584, 3) (2560, 10, 3) (2560, 3584, 3)\n"
          ]
        },
        {
          "output_type": "stream",
          "name": "stderr",
          "text": [
            "\r 71%|███████▏  | 10/14 [02:52<01:08, 17.12s/it]"
          ]
        },
        {
          "output_type": "stream",
          "name": "stdout",
          "text": [
            "12_g\n",
            "Reading predicted image from  reconstructed/test/predictions_reconstructed_recomputed//12_g.png\n",
            "(2560, 3584) 255 0\n",
            "(2560, 3584) 1.0 0.0\n",
            "(2560, 3584, 3) (2560, 3584) (2560, 3584)\n",
            "(2560, 3584, 3) (2560, 10, 3) (2560, 3584, 3) (2560, 10, 3) (2560, 3584, 3)\n"
          ]
        },
        {
          "output_type": "stream",
          "name": "stderr",
          "text": [
            "\r 79%|███████▊  | 11/14 [03:09<00:51, 17.12s/it]"
          ]
        },
        {
          "output_type": "stream",
          "name": "stdout",
          "text": [
            "12_h\n",
            "Reading predicted image from  reconstructed/test/predictions_reconstructed_recomputed//12_h.png\n",
            "(2560, 3584) 255 0\n",
            "(2560, 3584) 1.0 0.0\n",
            "(2560, 3584, 3) (2560, 3584) (2560, 3584)\n",
            "(2560, 3584, 3) (2560, 10, 3) (2560, 3584, 3) (2560, 10, 3) (2560, 3584, 3)\n"
          ]
        },
        {
          "output_type": "stream",
          "name": "stderr",
          "text": [
            "\r 86%|████████▌ | 12/14 [03:26<00:34, 17.07s/it]"
          ]
        },
        {
          "output_type": "stream",
          "name": "stdout",
          "text": [
            "13_dr\n",
            "Reading predicted image from  reconstructed/test/predictions_reconstructed_recomputed//13_dr.png\n",
            "(2560, 3584) 255 0\n",
            "(2560, 3584) 1.0 0.0\n",
            "(2560, 3584, 3) (2560, 3584) (2560, 3584)\n",
            "(2560, 3584, 3) (2560, 10, 3) (2560, 3584, 3) (2560, 10, 3) (2560, 3584, 3)\n"
          ]
        },
        {
          "output_type": "stream",
          "name": "stderr",
          "text": [
            "\r 93%|█████████▎| 13/14 [03:43<00:17, 17.11s/it]"
          ]
        },
        {
          "output_type": "stream",
          "name": "stdout",
          "text": [
            "15_h\n",
            "Reading predicted image from  reconstructed/test/predictions_reconstructed_recomputed//15_h.png\n",
            "(2560, 3584) 255 0\n",
            "(2560, 3584) 1.0 0.0\n",
            "(2560, 3584, 3) (2560, 3584) (2560, 3584)\n",
            "(2560, 3584, 3) (2560, 10, 3) (2560, 3584, 3) (2560, 10, 3) (2560, 3584, 3)\n"
          ]
        },
        {
          "output_type": "stream",
          "name": "stderr",
          "text": [
            "100%|██████████| 14/14 [04:00<00:00, 17.16s/it]"
          ]
        },
        {
          "output_type": "stream",
          "name": "stdout",
          "text": [
            "Accuracy: 0.97513\n",
            "F1: 0.82253\n",
            "Jaccard: 0.69949\n",
            "Recall: 0.82598\n",
            "Precision: 0.82530\n",
            "AUC: 0.91918\n",
            "Dice Coeff: 0.82237\n"
          ]
        },
        {
          "output_type": "stream",
          "name": "stderr",
          "text": [
            "\n"
          ]
        }
      ],
      "source": [
        "split=\"test\"\n",
        "f1_scores = []\n",
        "threshold = 0.5\n",
        "num_epchs_completed = 20\n",
        "\n",
        "model_dir = f\"{root_path}/trained_models/\"\n",
        "print(\"Model dir\", model_dir)\n",
        "data_path = f\"{root_path}/{split_name}/{split}\"\n",
        "num_test_images = len(os.listdir(f\"{data_path}/mask\"))\n",
        "print(f\"Number of images in split {split} : {num_test_images} \")\n",
        "\n",
        "# Prediction for patches\n",
        "results_path = f\"{root_path}/results_recomputed/\"\n",
        "prediction_path = f\"{root_path}/predictions_recomputed/\"\n",
        "prediction_np_path = f\"{root_path}/predictions_np_recomputed/\"\n",
        "create_dir(prediction_path)\n",
        "create_dir(prediction_np_path)\n",
        "create_dir(results_path)\n",
        "\n",
        "\"\"\" Load the model \"\"\"\n",
        "# with CustomObjectScope({'iou': iou, 'dice_coef': dice_coef}):\n",
        "model_path = os.path.join(f\"{model_dir}\", f\"model.h5\")\n",
        "model = load_model(model_path, compile=False)\n",
        "\n",
        "\n",
        "# Predict and compute metrics at patch level\n",
        "df, score = compute_metrics(data_path=data_path,\n",
        "                            results_path=results_path,\n",
        "                            threshold=0.5, \n",
        "                            model=model,\n",
        "                            prediction_np_path=prediction_np_path )\n",
        "\n",
        "# Reconstruct full image \n",
        "\n",
        "# Reconstructing Patches\n",
        "predicted_patches_dict = create_patches_dictionary(prediction_np_path=prediction_np_path)\n",
        "metadata_test_df_filename = f\"{root_path}/{split_name}/image_patches_512_512_test.csv\"\n",
        "\n",
        "metadata_test_df = pd.read_csv(metadata_test_df_filename)\n",
        "reconstructed_predictions_path = f\"reconstructed/{split}/predictions_reconstructed_recomputed/\"\n",
        "create_dir(reconstructed_predictions_path)\n",
        "reconstruct_patches(predicted_patches_dict,\n",
        "                    metadata_test_df,\n",
        "                    reconstructed_predictions_path,\n",
        "                    mfactor=255\n",
        "                    )\n",
        "\n",
        "test_full_image_path = f\"{root_path}/{split_name}/reconstructed/{split}\"\n",
        "results_path_reconstructed = f\"{root_path}/{split_name}/results_reconstructed_recomputed/\"\n",
        "create_dir(results_path_reconstructed)\n",
        "df, score = compute_metrics(data_path=test_full_image_path,\n",
        "                results_path=results_path_reconstructed,\n",
        "                threshold=threshold,\n",
        "                predictions_path=reconstructed_predictions_path)\n",
        "f1_scores.append(score[1])\n",
        "\n"
      ]
    },
    {
      "cell_type": "code",
      "execution_count": null,
      "metadata": {
        "id": "MNt2FXbl3Za_"
      },
      "outputs": [],
      "source": [
        "drive.flush_and_unmount()"
      ]
    },
    {
      "cell_type": "code",
      "execution_count": null,
      "metadata": {
        "id": "flbXhy-t6pSW"
      },
      "outputs": [],
      "source": [
        ""
      ]
    }
  ],
  "metadata": {
    "colab": {
      "collapsed_sections": [],
      "machine_shape": "hm",
      "name": "analyze_hrf_patches_256_256_dice_loss_aug_0_3.ipynb",
      "provenance": []
    },
    "kernelspec": {
      "display_name": "Python 3",
      "name": "python3"
    },
    "language_info": {
      "name": "python"
    },
    "accelerator": "GPU"
  },
  "nbformat": 4,
  "nbformat_minor": 0
}