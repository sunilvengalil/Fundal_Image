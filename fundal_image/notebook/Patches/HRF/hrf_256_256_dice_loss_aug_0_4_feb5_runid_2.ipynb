{
  "nbformat": 4,
  "nbformat_minor": 0,
  "metadata": {
    "colab": {
      "name": "hrf_256_256_dice_loss_aug_0_4_feb5_runid_2.ipynb",
      "provenance": [],
      "collapsed_sections": [
        "_WctlpFt6hx4"
      ],
      "machine_shape": "hm",
      "toc_visible": true
    },
    "kernelspec": {
      "name": "python3",
      "display_name": "Python 3"
    },
    "language_info": {
      "name": "python"
    },
    "accelerator": "GPU"
  },
  "cells": [
    {
      "cell_type": "markdown",
      "metadata": {
        "id": "ZIUz94YO5Y0x"
      },
      "source": [
        "### Import the required libraries and modules:"
      ]
    },
    {
      "cell_type": "code",
      "metadata": {
        "id": "RN5vXWIK27Lr"
      },
      "source": [
        "import tensorflow as tf\n",
        "from tensorflow.keras.layers import Conv2D, BatchNormalization, Activation, MaxPool2D, Conv2DTranspose, Concatenate, Input\n",
        "from tensorflow.keras.models import Model\n",
        "from tensorflow.keras import backend as K\n",
        "import os\n",
        "os.environ[\"TF_CPP_MIN_LOG_LEVEL\"] = \"2\"\n",
        "import numpy as np\n",
        "import cv2\n",
        "from glob import glob\n",
        "from sklearn.utils import shuffle\n",
        "import tensorflow as tf\n",
        "from tensorflow.keras.callbacks import ModelCheckpoint, CSVLogger, ReduceLROnPlateau, EarlyStopping, TensorBoard\n",
        "from tensorflow.keras.optimizers import Adam\n",
        "from tensorflow.keras.metrics import Recall, Precision\n",
        "import numpy as np"
      ],
      "execution_count": null,
      "outputs": []
    },
    {
      "cell_type": "code",
      "metadata": {
        "id": "DguMtoH4ZJA9",
        "colab": {
          "base_uri": "https://localhost:8080/"
        },
        "outputId": "36901d1d-2a0f-417a-d3c4-36eddc7f8774"
      },
      "source": [
        "from google.colab import drive\n",
        "drive.mount(\"/content/gdrive\", force_remount=True)\n",
        "%cd /content/gdrive/MyDrive/medical_image_processing/"
      ],
      "execution_count": null,
      "outputs": [
        {
          "output_type": "stream",
          "name": "stdout",
          "text": [
            "Mounted at /content/gdrive\n",
            "/content/gdrive/MyDrive/medical_image_processing\n"
          ]
        }
      ]
    },
    {
      "cell_type": "code",
      "source": [
        "from fundal_image.utils import create_dir, get_filenames_sorted\n",
        "from patches import generate_patches_images_only, reconstruct_patches\n",
        "from metrics import iou, dice_coef, dice_loss, DiceBCELoss, bce\n",
        "from metrics import compute_metrics, save_results\n",
        "from utils import read_image_train, read_mask_train"
      ],
      "metadata": {
        "id": "7juC9su-jeB2"
      },
      "execution_count": null,
      "outputs": []
    },
    {
      "cell_type": "code",
      "source": [
        "image_sizes = {\"HRF\": (2336, 3504), \"drive\": (584, 565), \"chase_db\": (960, 999)}\n",
        "patch_size = {\"HRF\": (256, 256)}\n",
        "\n",
        "dataset_name = \"HRF\"\n",
        "patch_size = patch_size[dataset_name]\n",
        "patch_height = patch_size[0]\n"
      ],
      "metadata": {
        "id": "XdqaiZMNaTvE"
      },
      "execution_count": null,
      "outputs": []
    },
    {
      "cell_type": "code",
      "source": [
        "loss_str = \"dice_loss\"\n",
        "with_augmentation = True\n",
        "stride=256\n",
        "seed = 42\n",
        "run_id = 2\n",
        "test_percentage = 0.4\n",
        "\n",
        "aug_string = \"\"\n",
        "if with_augmentation:\n",
        "    aug_string = \"_hvr\"\n",
        "root_path = f\"/content/datasets/hrf_{patch_height}_{stride}_{loss_str}{aug_string}_{run_id}/\"\n",
        "images_path = f\"{root_path}/images/\"\n",
        "gt_path = f\"{root_path}/groundtruth\"\n",
        "model_dir = f\"{root_path}/trained_models/\"\n",
        "\n"
      ],
      "metadata": {
        "id": "pYTeMlHo_HEa"
      },
      "execution_count": null,
      "outputs": []
    },
    {
      "cell_type": "code",
      "source": [
        "root_path\n",
        "create_dir(root_path)"
      ],
      "metadata": {
        "id": "O7UxJ6j7alvz"
      },
      "execution_count": null,
      "outputs": []
    },
    {
      "cell_type": "code",
      "source": [
        "num_pixels_to_add = [0, 0]\n",
        "if (image_sizes[\"HRF\"][0] % patch_size[0]) > 0:\n",
        "    num_pixels_to_add[0] = ((image_sizes[\"HRF\"][0] // patch_size[0]) + 1) * patch_size[0]\n",
        "    num_pixels_to_add[1] = ((image_sizes[\"HRF\"][1] // patch_size[1]) + 1) * patch_size[1]\n",
        "\n",
        "split_name = \"split_2\"\n",
        "data_path = root_path\n",
        "splits =[\"train\",\"test\"]"
      ],
      "metadata": {
        "id": "jeFvt9FzEaz1"
      },
      "execution_count": null,
      "outputs": []
    },
    {
      "cell_type": "code",
      "source": [
        "create_dir(images_path)\n",
        "create_dir(gt_path)"
      ],
      "metadata": {
        "id": "ji_Lc1CzAnuo"
      },
      "execution_count": null,
      "outputs": []
    },
    {
      "cell_type": "markdown",
      "source": [
        "# Copy images and ground truth"
      ],
      "metadata": {
        "id": "ruiUOfDRAwVF"
      }
    },
    {
      "cell_type": "code",
      "source": [
        "!cp /content/gdrive/MyDrive/medical_image_processing/fundal_image/datasets/HRF/images/*.* {root_path}/images\n",
        "!cp /content/gdrive/MyDrive/medical_image_processing/fundal_image/datasets/HRF/groundtruth/*.* {root_path}/groundtruth/\n",
        "\n"
      ],
      "metadata": {
        "id": "-pjSJx6uGx6u"
      },
      "execution_count": null,
      "outputs": []
    },
    {
      "cell_type": "code",
      "source": [
        "!ls {images_path}"
      ],
      "metadata": {
        "colab": {
          "base_uri": "https://localhost:8080/"
        },
        "id": "WDt08vl4dIbn",
        "outputId": "59246d22-fc4b-4836-fc1a-74f61f46147d"
      },
      "execution_count": null,
      "outputs": [
        {
          "output_type": "stream",
          "name": "stdout",
          "text": [
            "01_dr.JPG  03_g.jpg   05_h.jpg\t 08_dr.JPG  10_g.jpg   12_h.jpg   15_dr.JPG\n",
            "01_g.jpg   03_h.jpg   06_dr.JPG  08_g.jpg   10_h.jpg   13_dr.JPG  15_g.jpg\n",
            "01_h.jpg   04_dr.JPG  06_g.jpg\t 08_h.jpg   11_dr.JPG  13_g.jpg   15_h.jpg\n",
            "02_dr.JPG  04_g.jpg   06_h.jpg\t 09_dr.JPG  11_g.jpg   13_h.jpg\n",
            "02_g.jpg   04_h.jpg   07_dr.JPG  09_g.jpg   11_h.jpg   14_dr.JPG\n",
            "02_h.jpg   05_dr.JPG  07_g.jpg\t 09_h.jpg   12_dr.JPG  14_g.jpg\n",
            "03_dr.JPG  05_g.jpg   07_h.jpg\t 10_dr.JPG  12_g.jpg   14_h.jpg\n"
          ]
        }
      ]
    },
    {
      "cell_type": "code",
      "source": [
        "\n",
        "images_files, gt_files = get_filenames_sorted(images_path, gt_path)\n",
        "print(len(images_files), len(gt_files))\n"
      ],
      "metadata": {
        "colab": {
          "base_uri": "https://localhost:8080/"
        },
        "id": "FkGqIQ7m68Jc",
        "outputId": "a7cfb472-bb5d-4598-c2d3-470ad23c68ac"
      },
      "execution_count": null,
      "outputs": [
        {
          "output_type": "stream",
          "name": "stdout",
          "text": [
            "45 45\n"
          ]
        }
      ]
    },
    {
      "cell_type": "code",
      "source": [
        "label = [_xtrain.rsplit(\"/\", 1)[1].rsplit(\".\", 1)[0].rsplit(\"_\", 1)[1] for _xtrain in images_files] \n",
        "print(label)"
      ],
      "metadata": {
        "colab": {
          "base_uri": "https://localhost:8080/"
        },
        "id": "QwiMvBhrInKy",
        "outputId": "a363f757-5d1b-4660-8504-d9258181ee25"
      },
      "execution_count": null,
      "outputs": [
        {
          "output_type": "stream",
          "name": "stdout",
          "text": [
            "['dr', 'g', 'h', 'dr', 'g', 'h', 'dr', 'g', 'h', 'dr', 'g', 'h', 'dr', 'g', 'h', 'dr', 'g', 'h', 'dr', 'g', 'h', 'dr', 'g', 'h', 'dr', 'g', 'h', 'dr', 'g', 'h', 'dr', 'g', 'h', 'dr', 'g', 'h', 'dr', 'g', 'h', 'dr', 'g', 'h', 'dr', 'g', 'h']\n"
          ]
        }
      ]
    },
    {
      "cell_type": "code",
      "source": [
        "# train_test_split\n",
        "xtrain = []\n",
        "xtest = []\n",
        "test_x = None\n",
        "if test_x is None or len(test_x) == 0:\n",
        "    print(\"Creating train test split\")\n",
        "    from sklearn.model_selection import train_test_split\n",
        "    label = [_xtrain.rsplit(\"/\", 1)[1].rsplit(\".\", 1)[0].rsplit(\"_\", 1)[1] for _xtrain in images_files] \n",
        "    xtrain, xtest, ytrain, ytest = train_test_split(images_files, gt_files, stratify=label,  test_size=test_percentage, random_state=seed)\n",
        "else:\n",
        "    # copy if there are any images without data_augmentation\n",
        "    xtrain = [f for f in images_files if f.rsplit(\"/\", 1)[1].rsplit(\".\", 1)[0] not in test_x]\n",
        "    xtest = [f for f in images_files if f.rsplit(\"/\", 1)[1].rsplit(\".\", 1)[0]  in test_x]\n",
        "\n",
        "    # copy augmented images\n",
        "    for f in images_files:\n",
        "        name = f.rsplit(\"/\", 1)[1].rsplit(\".\", 1)[0]\n",
        "        if name.rsplit(\"_\", 1)[1].isnumeric():\n",
        "            if name.rsplit(\"_\", 1)[0] in test_x:\n",
        "                xtest.append(f)\n",
        "            else:\n",
        "                xtrain.append(f)\n",
        "\n",
        "\n"
      ],
      "metadata": {
        "id": "5QZTNCQ2lfyD",
        "colab": {
          "base_uri": "https://localhost:8080/"
        },
        "outputId": "b516c09d-6352-43d4-8d2b-592f45f6ff6c"
      },
      "execution_count": null,
      "outputs": [
        {
          "output_type": "stream",
          "name": "stdout",
          "text": [
            "Creating train test split\n"
          ]
        }
      ]
    },
    {
      "cell_type": "code",
      "source": [
        "print(len(xtrain), len(xtest))\n"
      ],
      "metadata": {
        "colab": {
          "base_uri": "https://localhost:8080/"
        },
        "id": "kz1zp1UAd188",
        "outputId": "81f462d8-fc99-4aad-8acd-55bb30d0f071"
      },
      "execution_count": null,
      "outputs": [
        {
          "output_type": "stream",
          "name": "stdout",
          "text": [
            "27 18\n"
          ]
        }
      ]
    },
    {
      "cell_type": "code",
      "source": [
        "from albumentations import HorizontalFlip, VerticalFlip, Rotate\n",
        "def augment_data(images, masks, save_path, augment=True):\n",
        "    H = 2336\n",
        "    W = 3504\n",
        "\n",
        "    for idx, (x, y) in tqdm(enumerate(zip(images, masks)), total=len(images)):\n",
        "        \"\"\" Extracting names \"\"\"\n",
        "        name = x.rsplit(\"/\", 1)[1].rsplit(\".\", 1)[0]\n",
        "        print(name)\n",
        "        \"\"\" Reading image and mask \"\"\"\n",
        "        x = cv2.imread(x, cv2.IMREAD_COLOR)\n",
        "        y = cv2.imread(y, cv2.IMREAD_GRAYSCALE)\n",
        "\n",
        "        if augment == True:\n",
        "            aug = HorizontalFlip(p=1.0)\n",
        "            augmented = aug(image=x, mask=y)\n",
        "            x1 = augmented[\"image\"]\n",
        "            y1 = augmented[\"mask\"]\n",
        "\n",
        "            aug = VerticalFlip(p=1.0)\n",
        "            augmented = aug(image=x, mask=y)\n",
        "            x2 = augmented[\"image\"]\n",
        "            y2 = augmented[\"mask\"]\n",
        "\n",
        "            aug = Rotate(limit=45, p=1.0)\n",
        "            augmented = aug(image=x, mask=y)\n",
        "            x3 = augmented[\"image\"]\n",
        "            y3 = augmented[\"mask\"]\n",
        "\n",
        "            X = [x, x1, x2, x3]\n",
        "            Y = [y, y1, y2, y3]\n",
        "\n",
        "            X = [x, x1, x2, x3]\n",
        "            Y = [y, y1, y2, y3]\n",
        "\n",
        "        else:\n",
        "            X = [x]\n",
        "            Y = [y]\n",
        "\n",
        "        index = 0\n",
        "        for i, m in zip(X, Y):\n",
        "            i = cv2.resize(i, (W, H))\n",
        "            m = cv2.resize(m, (W, H))\n",
        "\n",
        "            if len(X) == 1:\n",
        "                tmp_image_name = f\"{name}.png\"\n",
        "                tmp_mask_name = f\"{name}.png\"\n",
        "            else:\n",
        "                tmp_image_name = f\"{name}_{index}.png\"\n",
        "                tmp_mask_name = f\"{name}_{index}.png\"\n",
        "\n",
        "            image_path = os.path.join(save_path, \"image\", tmp_image_name)\n",
        "            mask_path = os.path.join(save_path, \"mask\", tmp_mask_name)\n",
        "\n",
        "            cv2.imwrite(image_path, i)\n",
        "            cv2.imwrite(mask_path, m)\n",
        "\n",
        "            index += 1"
      ],
      "metadata": {
        "id": "RGWmhiF4Kvf1"
      },
      "execution_count": null,
      "outputs": []
    },
    {
      "cell_type": "code",
      "source": [
        "create_dir(f\"{root_path}/augmented/train/image/\")\n",
        "create_dir(f\"{root_path}/augmented/train/mask/\")"
      ],
      "metadata": {
        "id": "G4da5nlLMYAF"
      },
      "execution_count": null,
      "outputs": []
    },
    {
      "cell_type": "code",
      "source": [
        "from tqdm import tqdm"
      ],
      "metadata": {
        "id": "h1JIWEdLTpmt"
      },
      "execution_count": null,
      "outputs": []
    },
    {
      "cell_type": "code",
      "source": [
        "augment_data(xtrain, ytrain, f\"{root_path}/augmented/train/\", True )"
      ],
      "metadata": {
        "colab": {
          "base_uri": "https://localhost:8080/"
        },
        "id": "jr3oVZfvL4aF",
        "outputId": "117cb952-19c1-4fbd-a8f9-b07a100e716a"
      },
      "execution_count": null,
      "outputs": [
        {
          "output_type": "stream",
          "name": "stderr",
          "text": [
            "\r  0%|          | 0/27 [00:00<?, ?it/s]"
          ]
        },
        {
          "output_type": "stream",
          "name": "stdout",
          "text": [
            "13_g\n"
          ]
        },
        {
          "output_type": "stream",
          "name": "stderr",
          "text": [
            "\r  4%|▎         | 1/27 [00:01<00:49,  1.90s/it]"
          ]
        },
        {
          "output_type": "stream",
          "name": "stdout",
          "text": [
            "11_g\n"
          ]
        },
        {
          "output_type": "stream",
          "name": "stderr",
          "text": [
            "\r  7%|▋         | 2/27 [00:03<00:47,  1.92s/it]"
          ]
        },
        {
          "output_type": "stream",
          "name": "stdout",
          "text": [
            "06_dr\n"
          ]
        },
        {
          "output_type": "stream",
          "name": "stderr",
          "text": [
            "\r 11%|█         | 3/27 [00:05<00:45,  1.90s/it]"
          ]
        },
        {
          "output_type": "stream",
          "name": "stdout",
          "text": [
            "04_g\n"
          ]
        },
        {
          "output_type": "stream",
          "name": "stderr",
          "text": [
            "\r 15%|█▍        | 4/27 [00:07<00:43,  1.88s/it]"
          ]
        },
        {
          "output_type": "stream",
          "name": "stdout",
          "text": [
            "09_dr\n"
          ]
        },
        {
          "output_type": "stream",
          "name": "stderr",
          "text": [
            "\r 19%|█▊        | 5/27 [00:09<00:42,  1.92s/it]"
          ]
        },
        {
          "output_type": "stream",
          "name": "stdout",
          "text": [
            "04_h\n"
          ]
        },
        {
          "output_type": "stream",
          "name": "stderr",
          "text": [
            "\r 22%|██▏       | 6/27 [00:11<00:40,  1.92s/it]"
          ]
        },
        {
          "output_type": "stream",
          "name": "stdout",
          "text": [
            "02_h\n"
          ]
        },
        {
          "output_type": "stream",
          "name": "stderr",
          "text": [
            "\r 26%|██▌       | 7/27 [00:13<00:38,  1.91s/it]"
          ]
        },
        {
          "output_type": "stream",
          "name": "stdout",
          "text": [
            "13_h\n"
          ]
        },
        {
          "output_type": "stream",
          "name": "stderr",
          "text": [
            "\r 30%|██▉       | 8/27 [00:15<00:35,  1.86s/it]"
          ]
        },
        {
          "output_type": "stream",
          "name": "stdout",
          "text": [
            "11_h\n"
          ]
        },
        {
          "output_type": "stream",
          "name": "stderr",
          "text": [
            "\r 33%|███▎      | 9/27 [00:16<00:32,  1.82s/it]"
          ]
        },
        {
          "output_type": "stream",
          "name": "stdout",
          "text": [
            "10_dr\n"
          ]
        },
        {
          "output_type": "stream",
          "name": "stderr",
          "text": [
            "\r 37%|███▋      | 10/27 [00:18<00:30,  1.81s/it]"
          ]
        },
        {
          "output_type": "stream",
          "name": "stdout",
          "text": [
            "01_dr\n"
          ]
        },
        {
          "output_type": "stream",
          "name": "stderr",
          "text": [
            "\r 41%|████      | 11/27 [00:20<00:29,  1.83s/it]"
          ]
        },
        {
          "output_type": "stream",
          "name": "stdout",
          "text": [
            "02_dr\n"
          ]
        },
        {
          "output_type": "stream",
          "name": "stderr",
          "text": [
            "\r 44%|████▍     | 12/27 [00:22<00:27,  1.84s/it]"
          ]
        },
        {
          "output_type": "stream",
          "name": "stdout",
          "text": [
            "09_g\n"
          ]
        },
        {
          "output_type": "stream",
          "name": "stderr",
          "text": [
            "\r 48%|████▊     | 13/27 [00:24<00:25,  1.82s/it]"
          ]
        },
        {
          "output_type": "stream",
          "name": "stdout",
          "text": [
            "12_g\n"
          ]
        },
        {
          "output_type": "stream",
          "name": "stderr",
          "text": [
            "\r 52%|█████▏    | 14/27 [00:25<00:23,  1.80s/it]"
          ]
        },
        {
          "output_type": "stream",
          "name": "stdout",
          "text": [
            "08_h\n"
          ]
        },
        {
          "output_type": "stream",
          "name": "stderr",
          "text": [
            "\r 56%|█████▌    | 15/27 [00:27<00:21,  1.77s/it]"
          ]
        },
        {
          "output_type": "stream",
          "name": "stdout",
          "text": [
            "01_g\n"
          ]
        },
        {
          "output_type": "stream",
          "name": "stderr",
          "text": [
            "\r 59%|█████▉    | 16/27 [00:29<00:19,  1.78s/it]"
          ]
        },
        {
          "output_type": "stream",
          "name": "stdout",
          "text": [
            "07_g\n"
          ]
        },
        {
          "output_type": "stream",
          "name": "stderr",
          "text": [
            "\r 63%|██████▎   | 17/27 [00:31<00:19,  1.92s/it]"
          ]
        },
        {
          "output_type": "stream",
          "name": "stdout",
          "text": [
            "12_dr\n"
          ]
        },
        {
          "output_type": "stream",
          "name": "stderr",
          "text": [
            "\r 67%|██████▋   | 18/27 [00:33<00:17,  1.89s/it]"
          ]
        },
        {
          "output_type": "stream",
          "name": "stdout",
          "text": [
            "07_h\n"
          ]
        },
        {
          "output_type": "stream",
          "name": "stderr",
          "text": [
            "\r 70%|███████   | 19/27 [00:35<00:14,  1.83s/it]"
          ]
        },
        {
          "output_type": "stream",
          "name": "stdout",
          "text": [
            "14_h\n"
          ]
        },
        {
          "output_type": "stream",
          "name": "stderr",
          "text": [
            "\r 74%|███████▍  | 20/27 [00:36<00:12,  1.78s/it]"
          ]
        },
        {
          "output_type": "stream",
          "name": "stdout",
          "text": [
            "10_g\n"
          ]
        },
        {
          "output_type": "stream",
          "name": "stderr",
          "text": [
            "\r 78%|███████▊  | 21/27 [00:38<00:10,  1.77s/it]"
          ]
        },
        {
          "output_type": "stream",
          "name": "stdout",
          "text": [
            "14_dr\n"
          ]
        },
        {
          "output_type": "stream",
          "name": "stderr",
          "text": [
            "\r 81%|████████▏ | 22/27 [00:40<00:09,  1.80s/it]"
          ]
        },
        {
          "output_type": "stream",
          "name": "stdout",
          "text": [
            "14_g\n"
          ]
        },
        {
          "output_type": "stream",
          "name": "stderr",
          "text": [
            "\r 85%|████████▌ | 23/27 [00:42<00:07,  1.77s/it]"
          ]
        },
        {
          "output_type": "stream",
          "name": "stdout",
          "text": [
            "03_h\n"
          ]
        },
        {
          "output_type": "stream",
          "name": "stderr",
          "text": [
            "\r 89%|████████▉ | 24/27 [00:43<00:05,  1.79s/it]"
          ]
        },
        {
          "output_type": "stream",
          "name": "stdout",
          "text": [
            "15_dr\n"
          ]
        },
        {
          "output_type": "stream",
          "name": "stderr",
          "text": [
            "\r 93%|█████████▎| 25/27 [00:45<00:03,  1.82s/it]"
          ]
        },
        {
          "output_type": "stream",
          "name": "stdout",
          "text": [
            "05_h\n"
          ]
        },
        {
          "output_type": "stream",
          "name": "stderr",
          "text": [
            "\r 96%|█████████▋| 26/27 [00:47<00:01,  1.81s/it]"
          ]
        },
        {
          "output_type": "stream",
          "name": "stdout",
          "text": [
            "03_dr\n"
          ]
        },
        {
          "output_type": "stream",
          "name": "stderr",
          "text": [
            "100%|██████████| 27/27 [00:49<00:00,  1.83s/it]\n"
          ]
        }
      ]
    },
    {
      "cell_type": "code",
      "source": [
        "xtrain, ytrain = get_filenames_sorted(f\"{root_path}/augmented/train/image\", f\"{root_path}/augmented/train/mask\")"
      ],
      "metadata": {
        "id": "f4o43mxvPmLY"
      },
      "execution_count": null,
      "outputs": []
    },
    {
      "cell_type": "code",
      "source": [
        "print(len(xtrain), len(ytrain))"
      ],
      "metadata": {
        "colab": {
          "base_uri": "https://localhost:8080/"
        },
        "id": "XqztMAVCQJIh",
        "outputId": "6234859c-b4a1-4d3c-c0fa-f926bda9e680"
      },
      "execution_count": null,
      "outputs": [
        {
          "output_type": "stream",
          "name": "stdout",
          "text": [
            "108 108\n"
          ]
        }
      ]
    },
    {
      "cell_type": "code",
      "source": [
        "split = \"train\"\n",
        "#for split in splits:\n",
        "image_patches_path = f\"{data_path}/{split_name}/{split}/image/\"\n",
        "create_dir(image_patches_path)\n",
        "gt_patches_path = f\"{data_path}/{split_name}/{split}/mask/\"\n",
        "create_dir(gt_patches_path)\n",
        "\n",
        "im_patches_dict_train, metadata_train_df, gt_patches_dict_train = generate_patches_images_only(xtrain,\n",
        "                                                                image_patches_path,\n",
        "                                                                patch_size=patch_size,\n",
        "                                                                stride=stride,\n",
        "                                                                zero_padding_size=num_pixels_to_add,\n",
        "                                                                gt_files=ytrain,\n",
        "                                                                save_path_gt=gt_patches_path)\n",
        "patch_height = patch_size[0]\n",
        "metadata_train_df.to_csv(f\"{data_path}/{split_name}/image_patches_{patch_height}_{stride}_{split}.csv\", index=False)"
      ],
      "metadata": {
        "colab": {
          "base_uri": "https://localhost:8080/"
        },
        "id": "n8qZpZY_CNP0",
        "outputId": "5cdf217b-e73a-436a-8ea3-92e939f6fe10"
      },
      "execution_count": null,
      "outputs": [
        {
          "output_type": "stream",
          "name": "stdout",
          "text": [
            "Generating patches for 108 images\n"
          ]
        },
        {
          "output_type": "stream",
          "name": "stderr",
          "text": [
            "100%|██████████| 108/108 [01:20<00:00,  1.33it/s]\n"
          ]
        }
      ]
    },
    {
      "cell_type": "code",
      "source": [
        "split = \"test\"\n",
        "#for split in splits:\n",
        "image_patches_path = f\"{data_path}/{split_name}/{split}/image/\"\n",
        "create_dir(image_patches_path)\n",
        "gt_patches_path = f\"{data_path}/{split_name}/{split}/mask/\"\n",
        "create_dir(gt_patches_path)\n",
        "im_patches_dict_test, metadata_test_df, gt_patches_dict_test = generate_patches_images_only(xtest,\n",
        "                                                                image_patches_path,\n",
        "                                                                patch_size=patch_size,\n",
        "                                                                stride=stride,\n",
        "                                                                zero_padding_size=num_pixels_to_add,\n",
        "                                                                gt_files=ytest,\n",
        "                                                                save_path_gt=gt_patches_path)\n",
        "metadata_test_df.to_csv(f\"{data_path}/{split_name}/image_patches_{patch_size}_{stride}_{split}.csv\", index=False)\n"
      ],
      "metadata": {
        "colab": {
          "base_uri": "https://localhost:8080/"
        },
        "id": "T1Bd3CHcow_C",
        "outputId": "b47441e5-2244-4927-af55-e8addc11f15f"
      },
      "execution_count": null,
      "outputs": [
        {
          "output_type": "stream",
          "name": "stdout",
          "text": [
            "Generating patches for 18 images\n"
          ]
        },
        {
          "output_type": "stream",
          "name": "stderr",
          "text": [
            "100%|██████████| 18/18 [00:11<00:00,  1.52it/s]\n"
          ]
        }
      ]
    },
    {
      "cell_type": "code",
      "source": [
        "metadata_test_df.shape"
      ],
      "metadata": {
        "colab": {
          "base_uri": "https://localhost:8080/"
        },
        "id": "97Y2QDV0V30I",
        "outputId": "93e27ab7-7d20-4fb9-9ead-612d3f159e21"
      },
      "execution_count": null,
      "outputs": [
        {
          "output_type": "execute_result",
          "data": {
            "text/plain": [
              "(2520, 7)"
            ]
          },
          "metadata": {},
          "execution_count": 23
        }
      ]
    },
    {
      "cell_type": "code",
      "source": [
        "metadata_train_df.head()"
      ],
      "metadata": {
        "colab": {
          "base_uri": "https://localhost:8080/",
          "height": 206
        },
        "id": "IxsMtp6lLESy",
        "outputId": "be44adb1-1151-4c4c-aa91-ca5bd8e5ed06"
      },
      "execution_count": null,
      "outputs": [
        {
          "output_type": "execute_result",
          "data": {
            "text/html": [
              "\n",
              "  <div id=\"df-1e7dba29-0dd1-41e2-b511-18665cdcda1e\">\n",
              "    <div class=\"colab-df-container\">\n",
              "      <div>\n",
              "<style scoped>\n",
              "    .dataframe tbody tr th:only-of-type {\n",
              "        vertical-align: middle;\n",
              "    }\n",
              "\n",
              "    .dataframe tbody tr th {\n",
              "        vertical-align: top;\n",
              "    }\n",
              "\n",
              "    .dataframe thead th {\n",
              "        text-align: right;\n",
              "    }\n",
              "</style>\n",
              "<table border=\"1\" class=\"dataframe\">\n",
              "  <thead>\n",
              "    <tr style=\"text-align: right;\">\n",
              "      <th></th>\n",
              "      <th>image_filename</th>\n",
              "      <th>row</th>\n",
              "      <th>col</th>\n",
              "      <th>patch_height</th>\n",
              "      <th>patch_width</th>\n",
              "      <th>stride</th>\n",
              "      <th>num_fg_pixels</th>\n",
              "    </tr>\n",
              "  </thead>\n",
              "  <tbody>\n",
              "    <tr>\n",
              "      <th>0</th>\n",
              "      <td>/content/datasets/hrf_256_256_dice_loss_hvr_2/...</td>\n",
              "      <td>0</td>\n",
              "      <td>0</td>\n",
              "      <td>256</td>\n",
              "      <td>256</td>\n",
              "      <td>256</td>\n",
              "      <td>17825</td>\n",
              "    </tr>\n",
              "    <tr>\n",
              "      <th>1</th>\n",
              "      <td>/content/datasets/hrf_256_256_dice_loss_hvr_2/...</td>\n",
              "      <td>0</td>\n",
              "      <td>256</td>\n",
              "      <td>256</td>\n",
              "      <td>256</td>\n",
              "      <td>256</td>\n",
              "      <td>21296</td>\n",
              "    </tr>\n",
              "    <tr>\n",
              "      <th>2</th>\n",
              "      <td>/content/datasets/hrf_256_256_dice_loss_hvr_2/...</td>\n",
              "      <td>0</td>\n",
              "      <td>512</td>\n",
              "      <td>256</td>\n",
              "      <td>256</td>\n",
              "      <td>256</td>\n",
              "      <td>32971</td>\n",
              "    </tr>\n",
              "    <tr>\n",
              "      <th>3</th>\n",
              "      <td>/content/datasets/hrf_256_256_dice_loss_hvr_2/...</td>\n",
              "      <td>0</td>\n",
              "      <td>768</td>\n",
              "      <td>256</td>\n",
              "      <td>256</td>\n",
              "      <td>256</td>\n",
              "      <td>36864</td>\n",
              "    </tr>\n",
              "    <tr>\n",
              "      <th>4</th>\n",
              "      <td>/content/datasets/hrf_256_256_dice_loss_hvr_2/...</td>\n",
              "      <td>0</td>\n",
              "      <td>1024</td>\n",
              "      <td>256</td>\n",
              "      <td>256</td>\n",
              "      <td>256</td>\n",
              "      <td>36864</td>\n",
              "    </tr>\n",
              "  </tbody>\n",
              "</table>\n",
              "</div>\n",
              "      <button class=\"colab-df-convert\" onclick=\"convertToInteractive('df-1e7dba29-0dd1-41e2-b511-18665cdcda1e')\"\n",
              "              title=\"Convert this dataframe to an interactive table.\"\n",
              "              style=\"display:none;\">\n",
              "        \n",
              "  <svg xmlns=\"http://www.w3.org/2000/svg\" height=\"24px\"viewBox=\"0 0 24 24\"\n",
              "       width=\"24px\">\n",
              "    <path d=\"M0 0h24v24H0V0z\" fill=\"none\"/>\n",
              "    <path d=\"M18.56 5.44l.94 2.06.94-2.06 2.06-.94-2.06-.94-.94-2.06-.94 2.06-2.06.94zm-11 1L8.5 8.5l.94-2.06 2.06-.94-2.06-.94L8.5 2.5l-.94 2.06-2.06.94zm10 10l.94 2.06.94-2.06 2.06-.94-2.06-.94-.94-2.06-.94 2.06-2.06.94z\"/><path d=\"M17.41 7.96l-1.37-1.37c-.4-.4-.92-.59-1.43-.59-.52 0-1.04.2-1.43.59L10.3 9.45l-7.72 7.72c-.78.78-.78 2.05 0 2.83L4 21.41c.39.39.9.59 1.41.59.51 0 1.02-.2 1.41-.59l7.78-7.78 2.81-2.81c.8-.78.8-2.07 0-2.86zM5.41 20L4 18.59l7.72-7.72 1.47 1.35L5.41 20z\"/>\n",
              "  </svg>\n",
              "      </button>\n",
              "      \n",
              "  <style>\n",
              "    .colab-df-container {\n",
              "      display:flex;\n",
              "      flex-wrap:wrap;\n",
              "      gap: 12px;\n",
              "    }\n",
              "\n",
              "    .colab-df-convert {\n",
              "      background-color: #E8F0FE;\n",
              "      border: none;\n",
              "      border-radius: 50%;\n",
              "      cursor: pointer;\n",
              "      display: none;\n",
              "      fill: #1967D2;\n",
              "      height: 32px;\n",
              "      padding: 0 0 0 0;\n",
              "      width: 32px;\n",
              "    }\n",
              "\n",
              "    .colab-df-convert:hover {\n",
              "      background-color: #E2EBFA;\n",
              "      box-shadow: 0px 1px 2px rgba(60, 64, 67, 0.3), 0px 1px 3px 1px rgba(60, 64, 67, 0.15);\n",
              "      fill: #174EA6;\n",
              "    }\n",
              "\n",
              "    [theme=dark] .colab-df-convert {\n",
              "      background-color: #3B4455;\n",
              "      fill: #D2E3FC;\n",
              "    }\n",
              "\n",
              "    [theme=dark] .colab-df-convert:hover {\n",
              "      background-color: #434B5C;\n",
              "      box-shadow: 0px 1px 3px 1px rgba(0, 0, 0, 0.15);\n",
              "      filter: drop-shadow(0px 1px 2px rgba(0, 0, 0, 0.3));\n",
              "      fill: #FFFFFF;\n",
              "    }\n",
              "  </style>\n",
              "\n",
              "      <script>\n",
              "        const buttonEl =\n",
              "          document.querySelector('#df-1e7dba29-0dd1-41e2-b511-18665cdcda1e button.colab-df-convert');\n",
              "        buttonEl.style.display =\n",
              "          google.colab.kernel.accessAllowed ? 'block' : 'none';\n",
              "\n",
              "        async function convertToInteractive(key) {\n",
              "          const element = document.querySelector('#df-1e7dba29-0dd1-41e2-b511-18665cdcda1e');\n",
              "          const dataTable =\n",
              "            await google.colab.kernel.invokeFunction('convertToInteractive',\n",
              "                                                     [key], {});\n",
              "          if (!dataTable) return;\n",
              "\n",
              "          const docLinkHtml = 'Like what you see? Visit the ' +\n",
              "            '<a target=\"_blank\" href=https://colab.research.google.com/notebooks/data_table.ipynb>data table notebook</a>'\n",
              "            + ' to learn more about interactive tables.';\n",
              "          element.innerHTML = '';\n",
              "          dataTable['output_type'] = 'display_data';\n",
              "          await google.colab.output.renderOutput(dataTable, element);\n",
              "          const docLink = document.createElement('div');\n",
              "          docLink.innerHTML = docLinkHtml;\n",
              "          element.appendChild(docLink);\n",
              "        }\n",
              "      </script>\n",
              "    </div>\n",
              "  </div>\n",
              "  "
            ],
            "text/plain": [
              "                                      image_filename  ...  num_fg_pixels\n",
              "0  /content/datasets/hrf_256_256_dice_loss_hvr_2/...  ...          17825\n",
              "1  /content/datasets/hrf_256_256_dice_loss_hvr_2/...  ...          21296\n",
              "2  /content/datasets/hrf_256_256_dice_loss_hvr_2/...  ...          32971\n",
              "3  /content/datasets/hrf_256_256_dice_loss_hvr_2/...  ...          36864\n",
              "4  /content/datasets/hrf_256_256_dice_loss_hvr_2/...  ...          36864\n",
              "\n",
              "[5 rows x 7 columns]"
            ]
          },
          "metadata": {},
          "execution_count": 24
        }
      ]
    },
    {
      "cell_type": "code",
      "source": [
        "import glob\n",
        "split = \"test\"\n",
        "image_patches_path = f\"{data_path}/{split_name}/{split}/image/\"\n",
        "\n",
        "reconstructed_original_path = f\"{data_path}/{split_name}/reconstructed/{split}/image\"\n",
        "create_dir(reconstructed_original_path)\n",
        "reconstruct_patches(im_patches_dict_test,\n",
        "                    metadata_test_df,\n",
        "                    reconstructed_original_path\n",
        "                    )\n"
      ],
      "metadata": {
        "id": "DLrslUO4gvQp"
      },
      "execution_count": null,
      "outputs": []
    },
    {
      "cell_type": "code",
      "source": [
        "reconstructed_gt_path = f\"{data_path}/{split_name}/reconstructed/{split}/mask\"\n",
        "\n",
        "create_dir(reconstructed_gt_path)\n",
        "reconstruct_patches(gt_patches_dict_test,\n",
        "                    metadata_test_df,\n",
        "                    reconstructed_gt_path,\n",
        "                    )\n"
      ],
      "metadata": {
        "id": "_TkWlhCKF7o5"
      },
      "execution_count": null,
      "outputs": []
    },
    {
      "cell_type": "code",
      "source": [
        "print([k for k in im_patches_dict_test.keys()])"
      ],
      "metadata": {
        "colab": {
          "base_uri": "https://localhost:8080/"
        },
        "id": "Y5NJeG-731yQ",
        "outputId": "b184f36c-f880-41b2-a6c4-e758e52e91be"
      },
      "execution_count": null,
      "outputs": [
        {
          "output_type": "stream",
          "name": "stdout",
          "text": [
            "['11_dr', '05_dr', '07_dr', '01_h', '15_g', '06_h', '15_h', '04_dr', '10_h', '06_g', '02_g', '05_g', '13_dr', '09_h', '03_g', '08_dr', '08_g', '12_h']\n"
          ]
        }
      ]
    },
    {
      "cell_type": "markdown",
      "metadata": {
        "id": "_WctlpFt6hx4"
      },
      "source": [
        "### Construct the Model:"
      ]
    },
    {
      "cell_type": "code",
      "metadata": {
        "colab": {
          "base_uri": "https://localhost:8080/"
        },
        "id": "epeNiZGQ5gSW",
        "outputId": "f919b8c1-5e3b-4d9e-f59e-f315b3e86e13"
      },
      "source": [
        "def conv_block(inputs, num_filters):\n",
        "    x = Conv2D(num_filters, 3, padding=\"same\")(inputs)\n",
        "    x = BatchNormalization()(x)\n",
        "    x = Activation(\"relu\")(x)\n",
        "\n",
        "    x = Conv2D(num_filters, 3, padding=\"same\")(x)\n",
        "    x = BatchNormalization()(x)\n",
        "    x = Activation(\"relu\")(x)\n",
        "\n",
        "    return x\n",
        "\n",
        "def encoder_block(inputs, num_filters):\n",
        "    x = conv_block(inputs, num_filters)\n",
        "    p = MaxPool2D((2, 2))(x)\n",
        "    return x, p\n",
        "\n",
        "def decoder_block(inputs, skip_features, num_filters):\n",
        "    x = Conv2DTranspose(num_filters, (2, 2), strides=2, padding=\"same\")(inputs)\n",
        "    x = Concatenate()([x, skip_features])\n",
        "    x = conv_block(x, num_filters)\n",
        "    return x\n",
        "\n",
        "def build_unet(input_shape):\n",
        "    inputs = Input(input_shape)\n",
        "\n",
        "    s1, p1 = encoder_block(inputs, 64)\n",
        "    s2, p2 = encoder_block(p1, 128)\n",
        "    s3, p3 = encoder_block(p2, 256)\n",
        "    s4, p4 = encoder_block(p3, 512)\n",
        "\n",
        "    b1 = conv_block(p4, 1024)\n",
        "\n",
        "    d1 = decoder_block(b1, s4, 512)\n",
        "    d2 = decoder_block(d1, s3, 256)\n",
        "    d3 = decoder_block(d2, s2, 128)\n",
        "    d4 = decoder_block(d3, s1, 64)\n",
        "\n",
        "    outputs = Conv2D(1, 1, padding=\"same\", activation=\"sigmoid\")(d4)\n",
        "\n",
        "    model = Model(inputs, outputs, name=\"UNET\")\n",
        "    return model\n",
        "\n",
        "input_shape = (patch_size[0], patch_size[1], 3)\n",
        "model = build_unet(input_shape)\n",
        "model.summary()"
      ],
      "execution_count": null,
      "outputs": [
        {
          "output_type": "stream",
          "name": "stdout",
          "text": [
            "Model: \"UNET\"\n",
            "__________________________________________________________________________________________________\n",
            " Layer (type)                   Output Shape         Param #     Connected to                     \n",
            "==================================================================================================\n",
            " input_1 (InputLayer)           [(None, 256, 256, 3  0           []                               \n",
            "                                )]                                                                \n",
            "                                                                                                  \n",
            " conv2d (Conv2D)                (None, 256, 256, 64  1792        ['input_1[0][0]']                \n",
            "                                )                                                                 \n",
            "                                                                                                  \n",
            " batch_normalization (BatchNorm  (None, 256, 256, 64  256        ['conv2d[0][0]']                 \n",
            " alization)                     )                                                                 \n",
            "                                                                                                  \n",
            " activation (Activation)        (None, 256, 256, 64  0           ['batch_normalization[0][0]']    \n",
            "                                )                                                                 \n",
            "                                                                                                  \n",
            " conv2d_1 (Conv2D)              (None, 256, 256, 64  36928       ['activation[0][0]']             \n",
            "                                )                                                                 \n",
            "                                                                                                  \n",
            " batch_normalization_1 (BatchNo  (None, 256, 256, 64  256        ['conv2d_1[0][0]']               \n",
            " rmalization)                   )                                                                 \n",
            "                                                                                                  \n",
            " activation_1 (Activation)      (None, 256, 256, 64  0           ['batch_normalization_1[0][0]']  \n",
            "                                )                                                                 \n",
            "                                                                                                  \n",
            " max_pooling2d (MaxPooling2D)   (None, 128, 128, 64  0           ['activation_1[0][0]']           \n",
            "                                )                                                                 \n",
            "                                                                                                  \n",
            " conv2d_2 (Conv2D)              (None, 128, 128, 12  73856       ['max_pooling2d[0][0]']          \n",
            "                                8)                                                                \n",
            "                                                                                                  \n",
            " batch_normalization_2 (BatchNo  (None, 128, 128, 12  512        ['conv2d_2[0][0]']               \n",
            " rmalization)                   8)                                                                \n",
            "                                                                                                  \n",
            " activation_2 (Activation)      (None, 128, 128, 12  0           ['batch_normalization_2[0][0]']  \n",
            "                                8)                                                                \n",
            "                                                                                                  \n",
            " conv2d_3 (Conv2D)              (None, 128, 128, 12  147584      ['activation_2[0][0]']           \n",
            "                                8)                                                                \n",
            "                                                                                                  \n",
            " batch_normalization_3 (BatchNo  (None, 128, 128, 12  512        ['conv2d_3[0][0]']               \n",
            " rmalization)                   8)                                                                \n",
            "                                                                                                  \n",
            " activation_3 (Activation)      (None, 128, 128, 12  0           ['batch_normalization_3[0][0]']  \n",
            "                                8)                                                                \n",
            "                                                                                                  \n",
            " max_pooling2d_1 (MaxPooling2D)  (None, 64, 64, 128)  0          ['activation_3[0][0]']           \n",
            "                                                                                                  \n",
            " conv2d_4 (Conv2D)              (None, 64, 64, 256)  295168      ['max_pooling2d_1[0][0]']        \n",
            "                                                                                                  \n",
            " batch_normalization_4 (BatchNo  (None, 64, 64, 256)  1024       ['conv2d_4[0][0]']               \n",
            " rmalization)                                                                                     \n",
            "                                                                                                  \n",
            " activation_4 (Activation)      (None, 64, 64, 256)  0           ['batch_normalization_4[0][0]']  \n",
            "                                                                                                  \n",
            " conv2d_5 (Conv2D)              (None, 64, 64, 256)  590080      ['activation_4[0][0]']           \n",
            "                                                                                                  \n",
            " batch_normalization_5 (BatchNo  (None, 64, 64, 256)  1024       ['conv2d_5[0][0]']               \n",
            " rmalization)                                                                                     \n",
            "                                                                                                  \n",
            " activation_5 (Activation)      (None, 64, 64, 256)  0           ['batch_normalization_5[0][0]']  \n",
            "                                                                                                  \n",
            " max_pooling2d_2 (MaxPooling2D)  (None, 32, 32, 256)  0          ['activation_5[0][0]']           \n",
            "                                                                                                  \n",
            " conv2d_6 (Conv2D)              (None, 32, 32, 512)  1180160     ['max_pooling2d_2[0][0]']        \n",
            "                                                                                                  \n",
            " batch_normalization_6 (BatchNo  (None, 32, 32, 512)  2048       ['conv2d_6[0][0]']               \n",
            " rmalization)                                                                                     \n",
            "                                                                                                  \n",
            " activation_6 (Activation)      (None, 32, 32, 512)  0           ['batch_normalization_6[0][0]']  \n",
            "                                                                                                  \n",
            " conv2d_7 (Conv2D)              (None, 32, 32, 512)  2359808     ['activation_6[0][0]']           \n",
            "                                                                                                  \n",
            " batch_normalization_7 (BatchNo  (None, 32, 32, 512)  2048       ['conv2d_7[0][0]']               \n",
            " rmalization)                                                                                     \n",
            "                                                                                                  \n",
            " activation_7 (Activation)      (None, 32, 32, 512)  0           ['batch_normalization_7[0][0]']  \n",
            "                                                                                                  \n",
            " max_pooling2d_3 (MaxPooling2D)  (None, 16, 16, 512)  0          ['activation_7[0][0]']           \n",
            "                                                                                                  \n",
            " conv2d_8 (Conv2D)              (None, 16, 16, 1024  4719616     ['max_pooling2d_3[0][0]']        \n",
            "                                )                                                                 \n",
            "                                                                                                  \n",
            " batch_normalization_8 (BatchNo  (None, 16, 16, 1024  4096       ['conv2d_8[0][0]']               \n",
            " rmalization)                   )                                                                 \n",
            "                                                                                                  \n",
            " activation_8 (Activation)      (None, 16, 16, 1024  0           ['batch_normalization_8[0][0]']  \n",
            "                                )                                                                 \n",
            "                                                                                                  \n",
            " conv2d_9 (Conv2D)              (None, 16, 16, 1024  9438208     ['activation_8[0][0]']           \n",
            "                                )                                                                 \n",
            "                                                                                                  \n",
            " batch_normalization_9 (BatchNo  (None, 16, 16, 1024  4096       ['conv2d_9[0][0]']               \n",
            " rmalization)                   )                                                                 \n",
            "                                                                                                  \n",
            " activation_9 (Activation)      (None, 16, 16, 1024  0           ['batch_normalization_9[0][0]']  \n",
            "                                )                                                                 \n",
            "                                                                                                  \n",
            " conv2d_transpose (Conv2DTransp  (None, 32, 32, 512)  2097664    ['activation_9[0][0]']           \n",
            " ose)                                                                                             \n",
            "                                                                                                  \n",
            " concatenate (Concatenate)      (None, 32, 32, 1024  0           ['conv2d_transpose[0][0]',       \n",
            "                                )                                 'activation_7[0][0]']           \n",
            "                                                                                                  \n",
            " conv2d_10 (Conv2D)             (None, 32, 32, 512)  4719104     ['concatenate[0][0]']            \n",
            "                                                                                                  \n",
            " batch_normalization_10 (BatchN  (None, 32, 32, 512)  2048       ['conv2d_10[0][0]']              \n",
            " ormalization)                                                                                    \n",
            "                                                                                                  \n",
            " activation_10 (Activation)     (None, 32, 32, 512)  0           ['batch_normalization_10[0][0]'] \n",
            "                                                                                                  \n",
            " conv2d_11 (Conv2D)             (None, 32, 32, 512)  2359808     ['activation_10[0][0]']          \n",
            "                                                                                                  \n",
            " batch_normalization_11 (BatchN  (None, 32, 32, 512)  2048       ['conv2d_11[0][0]']              \n",
            " ormalization)                                                                                    \n",
            "                                                                                                  \n",
            " activation_11 (Activation)     (None, 32, 32, 512)  0           ['batch_normalization_11[0][0]'] \n",
            "                                                                                                  \n",
            " conv2d_transpose_1 (Conv2DTran  (None, 64, 64, 256)  524544     ['activation_11[0][0]']          \n",
            " spose)                                                                                           \n",
            "                                                                                                  \n",
            " concatenate_1 (Concatenate)    (None, 64, 64, 512)  0           ['conv2d_transpose_1[0][0]',     \n",
            "                                                                  'activation_5[0][0]']           \n",
            "                                                                                                  \n",
            " conv2d_12 (Conv2D)             (None, 64, 64, 256)  1179904     ['concatenate_1[0][0]']          \n",
            "                                                                                                  \n",
            " batch_normalization_12 (BatchN  (None, 64, 64, 256)  1024       ['conv2d_12[0][0]']              \n",
            " ormalization)                                                                                    \n",
            "                                                                                                  \n",
            " activation_12 (Activation)     (None, 64, 64, 256)  0           ['batch_normalization_12[0][0]'] \n",
            "                                                                                                  \n",
            " conv2d_13 (Conv2D)             (None, 64, 64, 256)  590080      ['activation_12[0][0]']          \n",
            "                                                                                                  \n",
            " batch_normalization_13 (BatchN  (None, 64, 64, 256)  1024       ['conv2d_13[0][0]']              \n",
            " ormalization)                                                                                    \n",
            "                                                                                                  \n",
            " activation_13 (Activation)     (None, 64, 64, 256)  0           ['batch_normalization_13[0][0]'] \n",
            "                                                                                                  \n",
            " conv2d_transpose_2 (Conv2DTran  (None, 128, 128, 12  131200     ['activation_13[0][0]']          \n",
            " spose)                         8)                                                                \n",
            "                                                                                                  \n",
            " concatenate_2 (Concatenate)    (None, 128, 128, 25  0           ['conv2d_transpose_2[0][0]',     \n",
            "                                6)                                'activation_3[0][0]']           \n",
            "                                                                                                  \n",
            " conv2d_14 (Conv2D)             (None, 128, 128, 12  295040      ['concatenate_2[0][0]']          \n",
            "                                8)                                                                \n",
            "                                                                                                  \n",
            " batch_normalization_14 (BatchN  (None, 128, 128, 12  512        ['conv2d_14[0][0]']              \n",
            " ormalization)                  8)                                                                \n",
            "                                                                                                  \n",
            " activation_14 (Activation)     (None, 128, 128, 12  0           ['batch_normalization_14[0][0]'] \n",
            "                                8)                                                                \n",
            "                                                                                                  \n",
            " conv2d_15 (Conv2D)             (None, 128, 128, 12  147584      ['activation_14[0][0]']          \n",
            "                                8)                                                                \n",
            "                                                                                                  \n",
            " batch_normalization_15 (BatchN  (None, 128, 128, 12  512        ['conv2d_15[0][0]']              \n",
            " ormalization)                  8)                                                                \n",
            "                                                                                                  \n",
            " activation_15 (Activation)     (None, 128, 128, 12  0           ['batch_normalization_15[0][0]'] \n",
            "                                8)                                                                \n",
            "                                                                                                  \n",
            " conv2d_transpose_3 (Conv2DTran  (None, 256, 256, 64  32832      ['activation_15[0][0]']          \n",
            " spose)                         )                                                                 \n",
            "                                                                                                  \n",
            " concatenate_3 (Concatenate)    (None, 256, 256, 12  0           ['conv2d_transpose_3[0][0]',     \n",
            "                                8)                                'activation_1[0][0]']           \n",
            "                                                                                                  \n",
            " conv2d_16 (Conv2D)             (None, 256, 256, 64  73792       ['concatenate_3[0][0]']          \n",
            "                                )                                                                 \n",
            "                                                                                                  \n",
            " batch_normalization_16 (BatchN  (None, 256, 256, 64  256        ['conv2d_16[0][0]']              \n",
            " ormalization)                  )                                                                 \n",
            "                                                                                                  \n",
            " activation_16 (Activation)     (None, 256, 256, 64  0           ['batch_normalization_16[0][0]'] \n",
            "                                )                                                                 \n",
            "                                                                                                  \n",
            " conv2d_17 (Conv2D)             (None, 256, 256, 64  36928       ['activation_16[0][0]']          \n",
            "                                )                                                                 \n",
            "                                                                                                  \n",
            " batch_normalization_17 (BatchN  (None, 256, 256, 64  256        ['conv2d_17[0][0]']              \n",
            " ormalization)                  )                                                                 \n",
            "                                                                                                  \n",
            " activation_17 (Activation)     (None, 256, 256, 64  0           ['batch_normalization_17[0][0]'] \n",
            "                                )                                                                 \n",
            "                                                                                                  \n",
            " conv2d_18 (Conv2D)             (None, 256, 256, 1)  65          ['activation_17[0][0]']          \n",
            "                                                                                                  \n",
            "==================================================================================================\n",
            "Total params: 31,055,297\n",
            "Trainable params: 31,043,521\n",
            "Non-trainable params: 11,776\n",
            "__________________________________________________________________________________________________\n"
          ]
        }
      ]
    },
    {
      "cell_type": "markdown",
      "metadata": {
        "id": "fuGIkqEH65dX"
      },
      "source": [
        "\n",
        "\n",
        "### Training the Model:"
      ]
    },
    {
      "cell_type": "code",
      "source": [
        "if loss_str == \"bce\":\n",
        "    loss = bce\n",
        "elif loss_str == \"dice_bce\":\n",
        "    loss = DiceBCELoss\n",
        "elif loss_str == \"dice_loss\":\n",
        "    loss = dice_loss\n",
        "else:\n",
        "    raise Exception(\"Invalid value for loss_str\")\n",
        "    \n"
      ],
      "metadata": {
        "id": "0qPpqpcxCy5p"
      },
      "execution_count": null,
      "outputs": []
    },
    {
      "cell_type": "code",
      "source": [
        "loss"
      ],
      "metadata": {
        "colab": {
          "base_uri": "https://localhost:8080/"
        },
        "id": "nZGGZNwdDkKx",
        "outputId": "051c109b-944d-45eb-8b3c-762f7bc5af9a"
      },
      "execution_count": null,
      "outputs": [
        {
          "output_type": "execute_result",
          "data": {
            "text/plain": [
              "<function metrics.dice_loss>"
            ]
          },
          "metadata": {},
          "execution_count": 30
        }
      ]
    },
    {
      "cell_type": "code",
      "metadata": {
        "id": "NNdxwX_-5udw"
      },
      "source": [
        "H = patch_size[0]\n",
        "W = patch_size[1]\n",
        "\n",
        "def create_dir(path):\n",
        "    if not os.path.exists(path):\n",
        "        os.makedirs(path)\n",
        "\n",
        "def load_data(path):\n",
        "    x = sorted(glob(os.path.join(path, \"image\", \"*.png\")))\n",
        "    y = sorted(glob(os.path.join(path, \"mask\", \"*.png\")))\n",
        "    return x, y\n",
        "\n",
        "def shuffling(x, y):\n",
        "    x, y = shuffle(x, y, random_state=42)\n",
        "    return x, y\n",
        "\n",
        "def tf_parse(x, y):\n",
        "    def _parse(x, y):\n",
        "        x = read_image_train(x)\n",
        "        y = read_mask_train(y)\n",
        "        return x, y\n",
        "\n",
        "    x, y = tf.numpy_function(_parse, [x, y], [tf.float32, tf.float32])\n",
        "    x.set_shape([H, W, 3])\n",
        "    y.set_shape([H, W, 1])\n",
        "    return x, y\n",
        "\n",
        "def tf_dataset(X, Y, batch_size=2):\n",
        "    dataset = tf.data.Dataset.from_tensor_slices((X, Y))\n",
        "    dataset = dataset.map(tf_parse)\n",
        "    dataset = dataset.batch(batch_size)\n",
        "    dataset = dataset.prefetch(4)\n",
        "    return dataset"
      ],
      "execution_count": null,
      "outputs": []
    },
    {
      "cell_type": "code",
      "source": [
        "from keras.metrics import AUC"
      ],
      "metadata": {
        "id": "54fnwa9lJESj"
      },
      "execution_count": null,
      "outputs": []
    },
    {
      "cell_type": "code",
      "source": [
        "create_dir(model_dir)\n",
        "%cd /content/datasets"
      ],
      "metadata": {
        "id": "ZKS1beyfSUHc",
        "colab": {
          "base_uri": "https://localhost:8080/"
        },
        "outputId": "b6e19c5c-b2fb-423d-bb56-282cd010e2aa"
      },
      "execution_count": null,
      "outputs": [
        {
          "output_type": "stream",
          "name": "stdout",
          "text": [
            "/content/datasets\n"
          ]
        }
      ]
    },
    {
      "cell_type": "code",
      "source": [
        "num_epochs_completed = 0"
      ],
      "metadata": {
        "id": "mmqwnYJMgKbH"
      },
      "execution_count": null,
      "outputs": []
    },
    {
      "cell_type": "code",
      "source": [
        "from tensorflow.keras.models import load_model\n",
        "from tensorflow.keras.utils import CustomObjectScope\n"
      ],
      "metadata": {
        "id": "xfyfVmKOfoEm"
      },
      "execution_count": null,
      "outputs": []
    },
    {
      "cell_type": "code",
      "source": [
        "from glob import glob"
      ],
      "metadata": {
        "id": "OxDh2J2zGsNE"
      },
      "execution_count": null,
      "outputs": []
    },
    {
      "cell_type": "code",
      "metadata": {
        "colab": {
          "base_uri": "https://localhost:8080/"
        },
        "id": "R9oxQCQo7Jnw",
        "outputId": "59d337f4-c2fa-4113-b9cd-e80bea3e86ac"
      },
      "source": [
        "\"\"\" Seeding \"\"\"\n",
        "np.random.seed(42)\n",
        "tf.random.set_seed(42)\n",
        "\n",
        "\"\"\" Directory to save files \"\"\"\n",
        "create_dir(model_dir)\n",
        "\n",
        "\"\"\" Hyperparameters \"\"\"\n",
        "batch_size = 16\n",
        "lr = 1e-4\n",
        "num_epochs = 50\n",
        "\n",
        "last_model_path = os.path.join(f\"{model_dir}\", f\"model_{num_epochs_completed}.h5\")\n",
        "\n",
        "model_path = os.path.join(f\"{model_dir}\", \"model.h5\")\n",
        "csv_path = os.path.join(f\"{model_dir}\", \"data.csv\")\n",
        "\n",
        "\"\"\" Dataset \"\"\"\n",
        "dataset_path = f\"{data_path}/{split_name}\"\n",
        "train_path = os.path.join(dataset_path, \"train\")\n",
        "valid_path = os.path.join(dataset_path, \"test\")\n",
        "\n",
        "train_x, train_y = load_data(train_path)\n",
        "train_x, train_y = shuffling(train_x, train_y)\n",
        "valid_x, valid_y = load_data(valid_path)\n",
        "\n",
        "print(f\"Train: {len(train_x)} - {len(train_y)}\")\n",
        "print(f\"Valid: {len(valid_x)} - {len(valid_y)}\")\n",
        "\n",
        "train_dataset = tf_dataset(train_x, train_y, batch_size=batch_size)\n",
        "valid_dataset = tf_dataset(valid_x, valid_y, batch_size=batch_size)\n",
        "\n",
        "train_steps = len(train_x)//batch_size\n",
        "valid_setps = len(valid_x)//batch_size\n",
        "\n",
        "if len(train_x) % batch_size != 0:\n",
        "    train_steps += 1\n",
        "if len(valid_x) % batch_size != 0:\n",
        "    valid_setps += 1\n",
        "\n",
        "\"\"\" Model \"\"\"\n",
        "model = build_unet((H, W, 3))\n",
        "# with CustomObjectScope({\"DiceBCELoss\":DiceBCELoss, \"dice_coef\":dice_coef, \"iou\":iou}):\n",
        "#     model = load_model(last_model_path)\n",
        "model.compile(loss=loss, optimizer=Adam(lr), metrics=[dice_coef, iou, Recall(), Precision(), AUC()])\n",
        "\n",
        "callbacks = [\n",
        "    ModelCheckpoint(model_path, verbose=1, save_best_only=True, monitor=\"val_dice_coef\", mode=\"max\"),\n",
        "    ReduceLROnPlateau(monitor=\"val_loss\", factor=0.1, patience=5, min_lr=1e-6, verbose=1),\n",
        "    CSVLogger(csv_path),\n",
        "    TensorBoard(),\n",
        "    EarlyStopping(monitor=\"val_dice_coef\", patience=10, restore_best_weights=False, mode=\"max\")\n",
        "]\n",
        "\n",
        "model.fit(\n",
        "    train_dataset,\n",
        "    epochs=num_epochs,\n",
        "    validation_data=valid_dataset,\n",
        "    steps_per_epoch=train_steps,\n",
        "    validation_steps=valid_setps,\n",
        "    callbacks=callbacks\n",
        ")"
      ],
      "execution_count": null,
      "outputs": [
        {
          "output_type": "stream",
          "name": "stdout",
          "text": [
            "Train: 15120 - 15120\n",
            "Valid: 2520 - 2520\n",
            "Epoch 1/50\n",
            "945/945 [==============================] - ETA: 0s - loss: 0.3566 - dice_coef: 0.6434 - iou: 0.4854 - recall: 0.8078 - precision: 0.6340 - auc: 0.9321\n",
            "Epoch 00001: val_dice_coef improved from -inf to 0.73677, saving model to /content/datasets/hrf_256_256_dice_loss_hvr_2//trained_models/model.h5\n",
            "945/945 [==============================] - 417s 424ms/step - loss: 0.3566 - dice_coef: 0.6434 - iou: 0.4854 - recall: 0.8078 - precision: 0.6340 - auc: 0.9321 - val_loss: 0.2633 - val_dice_coef: 0.7368 - val_iou: 0.5879 - val_recall: 0.8212 - val_precision: 0.7754 - val_auc: 0.9377 - lr: 1.0000e-04\n",
            "Epoch 2/50\n",
            "945/945 [==============================] - ETA: 0s - loss: 0.2263 - dice_coef: 0.7737 - iou: 0.6324 - recall: 0.8105 - precision: 0.7887 - auc: 0.9395\n",
            "Epoch 00002: val_dice_coef improved from 0.73677 to 0.78895, saving model to /content/datasets/hrf_256_256_dice_loss_hvr_2//trained_models/model.h5\n",
            "945/945 [==============================] - 400s 423ms/step - loss: 0.2263 - dice_coef: 0.7737 - iou: 0.6324 - recall: 0.8105 - precision: 0.7887 - auc: 0.9395 - val_loss: 0.2112 - val_dice_coef: 0.7889 - val_iou: 0.6546 - val_recall: 0.8108 - val_precision: 0.8149 - val_auc: 0.9363 - lr: 1.0000e-04\n",
            "Epoch 3/50\n",
            "945/945 [==============================] - ETA: 0s - loss: 0.2052 - dice_coef: 0.7947 - iou: 0.6605 - recall: 0.8126 - precision: 0.7992 - auc: 0.9288\n",
            "Epoch 00003: val_dice_coef improved from 0.78895 to 0.79924, saving model to /content/datasets/hrf_256_256_dice_loss_hvr_2//trained_models/model.h5\n",
            "945/945 [==============================] - 400s 423ms/step - loss: 0.2052 - dice_coef: 0.7947 - iou: 0.6605 - recall: 0.8126 - precision: 0.7992 - auc: 0.9288 - val_loss: 0.2009 - val_dice_coef: 0.7992 - val_iou: 0.6684 - val_recall: 0.8063 - val_precision: 0.8228 - val_auc: 0.9226 - lr: 1.0000e-04\n",
            "Epoch 4/50\n",
            "945/945 [==============================] - ETA: 0s - loss: 0.1957 - dice_coef: 0.8043 - iou: 0.6737 - recall: 0.8172 - precision: 0.8049 - auc: 0.9228\n",
            "Epoch 00004: val_dice_coef improved from 0.79924 to 0.80292, saving model to /content/datasets/hrf_256_256_dice_loss_hvr_2//trained_models/model.h5\n",
            "945/945 [==============================] - 400s 423ms/step - loss: 0.1957 - dice_coef: 0.8043 - iou: 0.6737 - recall: 0.8172 - precision: 0.8049 - auc: 0.9228 - val_loss: 0.1972 - val_dice_coef: 0.8029 - val_iou: 0.6737 - val_recall: 0.8339 - val_precision: 0.7965 - val_auc: 0.9267 - lr: 1.0000e-04\n",
            "Epoch 5/50\n",
            "945/945 [==============================] - ETA: 0s - loss: 0.1906 - dice_coef: 0.8094 - iou: 0.6808 - recall: 0.8202 - precision: 0.8083 - auc: 0.9199\n",
            "Epoch 00005: val_dice_coef improved from 0.80292 to 0.80684, saving model to /content/datasets/hrf_256_256_dice_loss_hvr_2//trained_models/model.h5\n",
            "945/945 [==============================] - 400s 423ms/step - loss: 0.1906 - dice_coef: 0.8094 - iou: 0.6808 - recall: 0.8202 - precision: 0.8083 - auc: 0.9199 - val_loss: 0.1933 - val_dice_coef: 0.8068 - val_iou: 0.6789 - val_recall: 0.8196 - val_precision: 0.8145 - val_auc: 0.9176 - lr: 1.0000e-04\n",
            "Epoch 6/50\n",
            "945/945 [==============================] - ETA: 0s - loss: 0.1872 - dice_coef: 0.8128 - iou: 0.6855 - recall: 0.8225 - precision: 0.8109 - auc: 0.9185\n",
            "Epoch 00006: val_dice_coef improved from 0.80684 to 0.80969, saving model to /content/datasets/hrf_256_256_dice_loss_hvr_2//trained_models/model.h5\n",
            "945/945 [==============================] - 400s 423ms/step - loss: 0.1872 - dice_coef: 0.8128 - iou: 0.6855 - recall: 0.8225 - precision: 0.8109 - auc: 0.9185 - val_loss: 0.1904 - val_dice_coef: 0.8097 - val_iou: 0.6829 - val_recall: 0.8311 - val_precision: 0.8071 - val_auc: 0.9206 - lr: 1.0000e-04\n",
            "Epoch 7/50\n",
            "945/945 [==============================] - ETA: 0s - loss: 0.1844 - dice_coef: 0.8156 - iou: 0.6895 - recall: 0.8251 - precision: 0.8131 - auc: 0.9178\n",
            "Epoch 00007: val_dice_coef did not improve from 0.80969\n",
            "945/945 [==============================] - 399s 422ms/step - loss: 0.1844 - dice_coef: 0.8156 - iou: 0.6895 - recall: 0.8251 - precision: 0.8131 - auc: 0.9178 - val_loss: 0.2002 - val_dice_coef: 0.8000 - val_iou: 0.6695 - val_recall: 0.8271 - val_precision: 0.7932 - val_auc: 0.9161 - lr: 1.0000e-04\n",
            "Epoch 8/50\n",
            "945/945 [==============================] - ETA: 0s - loss: 0.1825 - dice_coef: 0.8175 - iou: 0.6921 - recall: 0.8267 - precision: 0.8146 - auc: 0.9173\n",
            "Epoch 00008: val_dice_coef did not improve from 0.80969\n",
            "945/945 [==============================] - 399s 422ms/step - loss: 0.1825 - dice_coef: 0.8175 - iou: 0.6921 - recall: 0.8267 - precision: 0.8146 - auc: 0.9173 - val_loss: 0.1931 - val_dice_coef: 0.8070 - val_iou: 0.6793 - val_recall: 0.8341 - val_precision: 0.7996 - val_auc: 0.9198 - lr: 1.0000e-04\n",
            "Epoch 9/50\n",
            "945/945 [==============================] - ETA: 0s - loss: 0.1803 - dice_coef: 0.8197 - iou: 0.6954 - recall: 0.8285 - precision: 0.8169 - auc: 0.9173\n",
            "Epoch 00009: val_dice_coef did not improve from 0.80969\n",
            "945/945 [==============================] - 399s 422ms/step - loss: 0.1803 - dice_coef: 0.8197 - iou: 0.6954 - recall: 0.8285 - precision: 0.8169 - auc: 0.9173 - val_loss: 0.1953 - val_dice_coef: 0.8048 - val_iou: 0.6762 - val_recall: 0.8124 - val_precision: 0.8171 - val_auc: 0.9092 - lr: 1.0000e-04\n",
            "Epoch 10/50\n",
            "945/945 [==============================] - ETA: 0s - loss: 0.1783 - dice_coef: 0.8217 - iou: 0.6982 - recall: 0.8305 - precision: 0.8186 - auc: 0.9174\n",
            "Epoch 00010: val_dice_coef did not improve from 0.80969\n",
            "945/945 [==============================] - 399s 422ms/step - loss: 0.1783 - dice_coef: 0.8217 - iou: 0.6982 - recall: 0.8305 - precision: 0.8186 - auc: 0.9174 - val_loss: 0.1915 - val_dice_coef: 0.8086 - val_iou: 0.6815 - val_recall: 0.8349 - val_precision: 0.8007 - val_auc: 0.9176 - lr: 1.0000e-04\n",
            "Epoch 11/50\n",
            "945/945 [==============================] - ETA: 0s - loss: 0.1760 - dice_coef: 0.8240 - iou: 0.7015 - recall: 0.8328 - precision: 0.8207 - auc: 0.9177\n",
            "Epoch 00011: val_dice_coef improved from 0.80969 to 0.81070, saving model to /content/datasets/hrf_256_256_dice_loss_hvr_2//trained_models/model.h5\n",
            "945/945 [==============================] - 400s 423ms/step - loss: 0.1760 - dice_coef: 0.8240 - iou: 0.7015 - recall: 0.8328 - precision: 0.8207 - auc: 0.9177 - val_loss: 0.1894 - val_dice_coef: 0.8107 - val_iou: 0.6843 - val_recall: 0.8254 - val_precision: 0.8131 - val_auc: 0.9131 - lr: 1.0000e-04\n",
            "Epoch 12/50\n",
            "945/945 [==============================] - ETA: 0s - loss: 0.1756 - dice_coef: 0.8244 - iou: 0.7020 - recall: 0.8330 - precision: 0.8213 - auc: 0.9173\n",
            "Epoch 00012: val_dice_coef did not improve from 0.81070\n",
            "945/945 [==============================] - 399s 422ms/step - loss: 0.1756 - dice_coef: 0.8244 - iou: 0.7020 - recall: 0.8330 - precision: 0.8213 - auc: 0.9173 - val_loss: 0.1973 - val_dice_coef: 0.8028 - val_iou: 0.6736 - val_recall: 0.8356 - val_precision: 0.7895 - val_auc: 0.9167 - lr: 1.0000e-04\n",
            "Epoch 13/50\n",
            "945/945 [==============================] - ETA: 0s - loss: 0.1726 - dice_coef: 0.8274 - iou: 0.7063 - recall: 0.8359 - precision: 0.8241 - auc: 0.9183\n",
            "Epoch 00013: val_dice_coef did not improve from 0.81070\n",
            "945/945 [==============================] - 399s 422ms/step - loss: 0.1726 - dice_coef: 0.8274 - iou: 0.7063 - recall: 0.8359 - precision: 0.8241 - auc: 0.9183 - val_loss: 0.1897 - val_dice_coef: 0.8105 - val_iou: 0.6840 - val_recall: 0.8253 - val_precision: 0.8124 - val_auc: 0.9116 - lr: 1.0000e-04\n",
            "Epoch 14/50\n",
            "945/945 [==============================] - ETA: 0s - loss: 0.1705 - dice_coef: 0.8295 - iou: 0.7094 - recall: 0.8381 - precision: 0.8260 - auc: 0.9190\n",
            "Epoch 00014: val_dice_coef did not improve from 0.81070\n",
            "945/945 [==============================] - 399s 422ms/step - loss: 0.1705 - dice_coef: 0.8295 - iou: 0.7094 - recall: 0.8381 - precision: 0.8260 - auc: 0.9190 - val_loss: 0.1908 - val_dice_coef: 0.8093 - val_iou: 0.6824 - val_recall: 0.8291 - val_precision: 0.8063 - val_auc: 0.9131 - lr: 1.0000e-04\n",
            "Epoch 15/50\n",
            "945/945 [==============================] - ETA: 0s - loss: 0.1681 - dice_coef: 0.8319 - iou: 0.7128 - recall: 0.8399 - precision: 0.8287 - auc: 0.9195\n",
            "Epoch 00015: val_dice_coef improved from 0.81070 to 0.81160, saving model to /content/datasets/hrf_256_256_dice_loss_hvr_2//trained_models/model.h5\n",
            "945/945 [==============================] - 400s 423ms/step - loss: 0.1681 - dice_coef: 0.8319 - iou: 0.7128 - recall: 0.8399 - precision: 0.8287 - auc: 0.9195 - val_loss: 0.1885 - val_dice_coef: 0.8116 - val_iou: 0.6856 - val_recall: 0.8364 - val_precision: 0.8039 - val_auc: 0.9163 - lr: 1.0000e-04\n",
            "Epoch 16/50\n",
            "945/945 [==============================] - ETA: 0s - loss: 0.1656 - dice_coef: 0.8344 - iou: 0.7165 - recall: 0.8422 - precision: 0.8313 - auc: 0.9205\n",
            "Epoch 00016: val_dice_coef did not improve from 0.81160\n",
            "945/945 [==============================] - 399s 422ms/step - loss: 0.1656 - dice_coef: 0.8344 - iou: 0.7165 - recall: 0.8422 - precision: 0.8313 - auc: 0.9205 - val_loss: 0.1899 - val_dice_coef: 0.8103 - val_iou: 0.6837 - val_recall: 0.8374 - val_precision: 0.8002 - val_auc: 0.9164 - lr: 1.0000e-04\n",
            "Epoch 17/50\n",
            "945/945 [==============================] - ETA: 0s - loss: 0.1630 - dice_coef: 0.8370 - iou: 0.7204 - recall: 0.8444 - precision: 0.8341 - auc: 0.9217\n",
            "Epoch 00017: val_dice_coef did not improve from 0.81160\n",
            "945/945 [==============================] - 399s 422ms/step - loss: 0.1630 - dice_coef: 0.8370 - iou: 0.7204 - recall: 0.8444 - precision: 0.8341 - auc: 0.9217 - val_loss: 0.1901 - val_dice_coef: 0.8100 - val_iou: 0.6832 - val_recall: 0.8219 - val_precision: 0.8143 - val_auc: 0.9094 - lr: 1.0000e-04\n",
            "Epoch 18/50\n",
            "945/945 [==============================] - ETA: 0s - loss: 0.1600 - dice_coef: 0.8400 - iou: 0.7247 - recall: 0.8466 - precision: 0.8375 - auc: 0.9225\n",
            "Epoch 00018: val_dice_coef did not improve from 0.81160\n",
            "945/945 [==============================] - 399s 422ms/step - loss: 0.1600 - dice_coef: 0.8400 - iou: 0.7247 - recall: 0.8466 - precision: 0.8375 - auc: 0.9225 - val_loss: 0.1902 - val_dice_coef: 0.8099 - val_iou: 0.6832 - val_recall: 0.8330 - val_precision: 0.8034 - val_auc: 0.9139 - lr: 1.0000e-04\n",
            "Epoch 19/50\n",
            "945/945 [==============================] - ETA: 0s - loss: 0.1563 - dice_coef: 0.8437 - iou: 0.7302 - recall: 0.8495 - precision: 0.8416 - auc: 0.9239\n",
            "Epoch 00019: val_dice_coef did not improve from 0.81160\n",
            "945/945 [==============================] - 399s 422ms/step - loss: 0.1563 - dice_coef: 0.8437 - iou: 0.7302 - recall: 0.8495 - precision: 0.8416 - auc: 0.9239 - val_loss: 0.1913 - val_dice_coef: 0.8088 - val_iou: 0.6816 - val_recall: 0.8271 - val_precision: 0.8075 - val_auc: 0.9111 - lr: 1.0000e-04\n",
            "Epoch 20/50\n",
            "945/945 [==============================] - ETA: 0s - loss: 0.1523 - dice_coef: 0.8477 - iou: 0.7361 - recall: 0.8527 - precision: 0.8460 - auc: 0.9254\n",
            "Epoch 00020: val_dice_coef did not improve from 0.81160\n",
            "\n",
            "Epoch 00020: ReduceLROnPlateau reducing learning rate to 9.999999747378752e-06.\n",
            "945/945 [==============================] - 399s 422ms/step - loss: 0.1523 - dice_coef: 0.8477 - iou: 0.7361 - recall: 0.8527 - precision: 0.8460 - auc: 0.9254 - val_loss: 0.1932 - val_dice_coef: 0.8069 - val_iou: 0.6787 - val_recall: 0.8144 - val_precision: 0.8164 - val_auc: 0.9051 - lr: 1.0000e-04\n",
            "Epoch 21/50\n",
            "945/945 [==============================] - ETA: 0s - loss: 0.1444 - dice_coef: 0.8556 - iou: 0.7481 - recall: 0.8592 - precision: 0.8551 - auc: 0.9288\n",
            "Epoch 00021: val_dice_coef did not improve from 0.81160\n",
            "945/945 [==============================] - 399s 422ms/step - loss: 0.1444 - dice_coef: 0.8556 - iou: 0.7481 - recall: 0.8592 - precision: 0.8551 - auc: 0.9288 - val_loss: 0.1924 - val_dice_coef: 0.8076 - val_iou: 0.6795 - val_recall: 0.8046 - val_precision: 0.8265 - val_auc: 0.9011 - lr: 1.0000e-05\n",
            "Epoch 22/50\n",
            "945/945 [==============================] - ETA: 0s - loss: 0.1396 - dice_coef: 0.8604 - iou: 0.7554 - recall: 0.8627 - precision: 0.8607 - auc: 0.9308\n",
            "Epoch 00022: val_dice_coef did not improve from 0.81160\n",
            "945/945 [==============================] - 399s 422ms/step - loss: 0.1396 - dice_coef: 0.8604 - iou: 0.7554 - recall: 0.8627 - precision: 0.8607 - auc: 0.9308 - val_loss: 0.1932 - val_dice_coef: 0.8068 - val_iou: 0.6784 - val_recall: 0.8031 - val_precision: 0.8265 - val_auc: 0.9003 - lr: 1.0000e-05\n",
            "Epoch 23/50\n",
            "945/945 [==============================] - ETA: 0s - loss: 0.1364 - dice_coef: 0.8636 - iou: 0.7603 - recall: 0.8651 - precision: 0.8644 - auc: 0.9320\n",
            "Epoch 00023: val_dice_coef did not improve from 0.81160\n",
            "945/945 [==============================] - 399s 423ms/step - loss: 0.1364 - dice_coef: 0.8636 - iou: 0.7603 - recall: 0.8651 - precision: 0.8644 - auc: 0.9320 - val_loss: 0.1943 - val_dice_coef: 0.8058 - val_iou: 0.6769 - val_recall: 0.8011 - val_precision: 0.8264 - val_auc: 0.8993 - lr: 1.0000e-05\n",
            "Epoch 24/50\n",
            "945/945 [==============================] - ETA: 0s - loss: 0.1337 - dice_coef: 0.8663 - iou: 0.7645 - recall: 0.8671 - precision: 0.8675 - auc: 0.9330\n",
            "Epoch 00024: val_dice_coef did not improve from 0.81160\n",
            "945/945 [==============================] - 399s 423ms/step - loss: 0.1337 - dice_coef: 0.8663 - iou: 0.7645 - recall: 0.8671 - precision: 0.8675 - auc: 0.9330 - val_loss: 0.1944 - val_dice_coef: 0.8056 - val_iou: 0.6767 - val_recall: 0.8015 - val_precision: 0.8257 - val_auc: 0.8993 - lr: 1.0000e-05\n",
            "Epoch 25/50\n",
            "945/945 [==============================] - ETA: 0s - loss: 0.1313 - dice_coef: 0.8687 - iou: 0.7683 - recall: 0.8688 - precision: 0.8705 - auc: 0.9339\n",
            "Epoch 00025: val_dice_coef did not improve from 0.81160\n",
            "\n",
            "Epoch 00025: ReduceLROnPlateau reducing learning rate to 1e-06.\n",
            "945/945 [==============================] - 399s 423ms/step - loss: 0.1313 - dice_coef: 0.8687 - iou: 0.7683 - recall: 0.8688 - precision: 0.8705 - auc: 0.9339 - val_loss: 0.1956 - val_dice_coef: 0.8044 - val_iou: 0.6750 - val_recall: 0.7996 - val_precision: 0.8254 - val_auc: 0.8983 - lr: 1.0000e-05\n"
          ]
        },
        {
          "output_type": "execute_result",
          "data": {
            "text/plain": [
              "<keras.callbacks.History at 0x7ff2e6172d50>"
            ]
          },
          "metadata": {},
          "execution_count": 37
        }
      ]
    },
    {
      "cell_type": "markdown",
      "metadata": {
        "id": "z0HWQPIv6F3u"
      },
      "source": [
        "# Evaluating the Model:"
      ]
    },
    {
      "cell_type": "code",
      "metadata": {
        "id": "Ptl8ug8uby3R"
      },
      "source": [
        "import os\n",
        "os.environ[\"TF_CPP_MIN_LOG_LEVEL\"] = \"2\"\n",
        "import numpy as np\n",
        "import pandas as pd\n",
        "import cv2\n",
        "from glob import glob\n",
        "from tqdm import tqdm\n",
        "import tensorflow as tf\n",
        "from tensorflow.keras.utils import CustomObjectScope\n",
        "from sklearn.metrics import accuracy_score, f1_score, jaccard_score, precision_score, recall_score\n",
        "from tensorflow.keras.models import load_model"
      ],
      "execution_count": null,
      "outputs": []
    },
    {
      "cell_type": "code",
      "source": [
        "zip_filename = root_path.rsplit(\"/\")[-2]\n",
        "zip_filename += \".zip\""
      ],
      "metadata": {
        "id": "7ZuzbcR2BpQM"
      },
      "execution_count": null,
      "outputs": []
    },
    {
      "cell_type": "code",
      "source": [
        "!ls /content/gdrive/MyDrive/Blood_Vessel_Results/hrf_patches/hrf_256_*"
      ],
      "metadata": {
        "colab": {
          "base_uri": "https://localhost:8080/"
        },
        "id": "LcSi_4J9C5ZP",
        "outputId": "c1e4cdab-31fe-4c01-efe0-c52d44a3bae7"
      },
      "execution_count": null,
      "outputs": [
        {
          "output_type": "stream",
          "name": "stdout",
          "text": [
            "/content/gdrive/MyDrive/Blood_Vessel_Results/hrf_patches/hrf_256_256_dice_loss_1.zip\n",
            "/content/gdrive/MyDrive/Blood_Vessel_Results/hrf_patches/hrf_256_256_dice_loss_hvr_1.zip\n",
            "\n",
            "/content/gdrive/MyDrive/Blood_Vessel_Results/hrf_patches/hrf_256_256_dice_loss_1:\n",
            "groundtruth  predictions     results\t\t    split_2\n",
            "images\t     predictions_np  results_reconstructed  trained_models\n"
          ]
        }
      ]
    },
    {
      "cell_type": "code",
      "source": [
        "%cd /content/datasets\n",
        "!cp /content/gdrive/MyDrive/Blood_Vessel_Results/hrf_patches/{zip_filename} ."
      ],
      "metadata": {
        "colab": {
          "base_uri": "https://localhost:8080/"
        },
        "id": "b6TJDboGAVCu",
        "outputId": "8eb19e10-bb86-4975-8017-8c2051628d36"
      },
      "execution_count": null,
      "outputs": [
        {
          "output_type": "stream",
          "name": "stdout",
          "text": [
            "/content/datasets\n",
            "cp: cannot stat '/content/gdrive/MyDrive/Blood_Vessel_Results/hrf_patches/hrf_256_256_dice_loss_hvr_2.zip': No such file or directory\n"
          ]
        }
      ]
    },
    {
      "cell_type": "code",
      "source": [
        "!ls"
      ],
      "metadata": {
        "colab": {
          "base_uri": "https://localhost:8080/"
        },
        "id": "wUgcMFMuDjNx",
        "outputId": "91ef0c6c-9b32-4335-acbd-2cf02453a051"
      },
      "execution_count": null,
      "outputs": [
        {
          "output_type": "stream",
          "name": "stdout",
          "text": [
            "hrf_256_256_dice_loss_hvr_1  hrf_256_256_dice_loss_hvr_2  logs\n"
          ]
        }
      ]
    },
    {
      "cell_type": "code",
      "source": [
        "!unzip {zip_filename}"
      ],
      "metadata": {
        "colab": {
          "base_uri": "https://localhost:8080/"
        },
        "id": "y6vDJbcPDV4g",
        "outputId": "4b2efd18-2613-4baa-f839-da049b7c00f3"
      },
      "execution_count": null,
      "outputs": [
        {
          "output_type": "stream",
          "name": "stdout",
          "text": [
            "unzip:  cannot find or open hrf_256_256_dice_loss_hvr_2.zip, hrf_256_256_dice_loss_hvr_2.zip.zip or hrf_256_256_dice_loss_hvr_2.zip.ZIP.\n"
          ]
        }
      ]
    },
    {
      "cell_type": "code",
      "metadata": {
        "id": "HmFXTEtz6Rhn"
      },
      "source": [
        "H = patch_size[0]\n",
        "W = patch_size[1]\n",
        "\n",
        "def create_dir(path):\n",
        "    if not os.path.exists(path):\n",
        "        os.makedirs(path)\n",
        "\n",
        "def read_image(path):\n",
        "    x = cv2.imread(path, cv2.IMREAD_COLOR)\n",
        "    # x = cv2.resize(x, (W, H))\n",
        "    ori_x = x\n",
        "    x = x/255.0\n",
        "    x = x.astype(np.float32)\n",
        "    return ori_x, x\n",
        "\n",
        "def read_mask(path):\n",
        "    x = cv2.imread(path, cv2.IMREAD_GRAYSCALE)  ## (512, 512)\n",
        "    # x = cv2.resize(x, (W, H))\n",
        "    ori_x = x\n",
        "    x = x/255.0\n",
        "    x = x.astype(np.int32)\n",
        "    return ori_x, x\n",
        "\n",
        "def load_data(path):\n",
        "    x = sorted(glob(os.path.join(path, \"image\", \"*.png\")))\n",
        "    y = sorted(glob(os.path.join(path, \"mask\", \"*.png\")))\n",
        "    return x, y\n",
        "\n",
        "def save_results(ori_x, ori_y, y_pred, save_image_path):\n",
        "    line = np.ones((H, 10, 3)) * 255\n",
        "\n",
        "    ori_y = np.expand_dims(ori_y, axis=-1)\n",
        "    ori_y = np.concatenate([ori_y, ori_y, ori_y], axis=-1)\n",
        "\n",
        "    y_pred = np.expand_dims(y_pred, axis=-1)\n",
        "    y_pred = np.concatenate([y_pred, y_pred, y_pred], axis=-1) * 255\n",
        "\n",
        "    cat_images = np.concatenate([ori_x, line, ori_y, line, y_pred], axis=1)\n",
        "    cv2.imwrite(save_image_path, cat_images)"
      ],
      "execution_count": null,
      "outputs": []
    },
    {
      "cell_type": "code",
      "source": [
        "import glob\n",
        "supported_extensions = [\"png\", \"jpg\", \"tif\", \"jpeg\", \"gif\", \"bmp\"]\n",
        "\n",
        "def image_files(path, file_prefix=None):\n",
        "    all_image_files = []\n",
        "    # print(\"path\", path)\n",
        "    # print(\"file_prefix\", file_prefix)\n",
        "    if file_prefix is None:\n",
        "        file_names = list(glob.glob(path + \"/*.*\" ))\n",
        "    else:\n",
        "        prefix___ = path + \"/\" + file_prefix + \".*\"\n",
        "        #print(\"prefix\", prefix___)\n",
        "        file_names = list(glob.glob(prefix___))\n",
        "\n",
        "    # print(\"filenames\", file_names)\n",
        "\n",
        "    for filename in file_names:\n",
        "        ext = filename.rsplit(\".\", 1)[1]\n",
        "        if ext.lower() in supported_extensions:\n",
        "            all_image_files.append(filename)\n",
        "    # print(\"All Image files\", all_image_files)\n",
        "    return sorted(all_image_files)\n"
      ],
      "metadata": {
        "id": "AVfRbYagZChd"
      },
      "execution_count": null,
      "outputs": []
    },
    {
      "cell_type": "code",
      "source": [
        "results_path = f\"{root_path}/results/\"\n",
        "prediction_path = f\"{root_path}/predictions/\"\n",
        "prediction_np_path = f\"{root_path}/predictions_np/\"\n",
        "create_dir(prediction_path)\n",
        "create_dir(prediction_np_path)\n",
        "create_dir(results_path)"
      ],
      "metadata": {
        "id": "41UgJB8nD_XH"
      },
      "execution_count": null,
      "outputs": []
    },
    {
      "cell_type": "code",
      "source": [
        "results_path"
      ],
      "metadata": {
        "colab": {
          "base_uri": "https://localhost:8080/",
          "height": 35
        },
        "id": "BJYCeRNgZOHE",
        "outputId": "75f38856-abf0-4d01-9697-c25ccf4e8ae7"
      },
      "execution_count": null,
      "outputs": [
        {
          "output_type": "execute_result",
          "data": {
            "application/vnd.google.colaboratory.intrinsic+json": {
              "type": "string"
            },
            "text/plain": [
              "'/content/datasets/hrf_256_256_dice_loss_hvr_2//results/'"
            ]
          },
          "metadata": {},
          "execution_count": 47
        }
      ]
    },
    {
      "cell_type": "code",
      "source": [
        "from glob import glob"
      ],
      "metadata": {
        "id": "R9b3W24IZwQO"
      },
      "execution_count": null,
      "outputs": []
    },
    {
      "cell_type": "code",
      "source": [
        "model_path = os.path.join(f\"{model_dir}\", \"model.h5\")\n",
        "csv_path = os.path.join(f\"{model_dir}\", \"data.csv\")"
      ],
      "metadata": {
        "id": "HMhrao5rGCyr"
      },
      "execution_count": null,
      "outputs": []
    },
    {
      "cell_type": "code",
      "source": [
        "model = load_model(model_path, compile=False)"
      ],
      "metadata": {
        "id": "YhY85wIxFXeQ"
      },
      "execution_count": null,
      "outputs": []
    },
    {
      "cell_type": "code",
      "metadata": {
        "id": "bVTFZdxa6TuQ",
        "colab": {
          "base_uri": "https://localhost:8080/"
        },
        "outputId": "319ffc02-8422-4f83-ed6b-2bfcf7c75a18"
      },
      "source": [
        "split=\"test\"\n",
        "dataset_path = f\"{root_path}/{split_name}/{split}/\"\n",
        "df, score = compute_metrics(dataset_path,\n",
        "                    results_path=results_path,\n",
        "                    threshold=0.5,\n",
        "                    model=model,\n",
        "                    predictions_path=prediction_path,\n",
        "                    prediction_np_path=prediction_np_path)"
      ],
      "execution_count": null,
      "outputs": [
        {
          "metadata": {
            "tags": null
          },
          "name": "stdout",
          "output_type": "stream",
          "text": [
            "Threshold 0.5\n"
          ]
        },
        {
          "metadata": {
            "tags": null
          },
          "name": "stderr",
          "output_type": "stream",
          "text": [
            "\r  0%|          | 0/2520 [00:00<?, ?it/s]"
          ]
        },
        {
          "metadata": {
            "tags": null
          },
          "name": "stdout",
          "output_type": "stream",
          "text": [
            "_01_h_0\n"
          ]
        },
        {
          "metadata": {
            "tags": null
          },
          "name": "stderr",
          "output_type": "stream",
          "text": [
            "/usr/local/lib/python3.7/dist-packages/sklearn/metrics/_classification.py:1580: UndefinedMetricWarning: F-score is ill-defined and being set to 0.0 due to no true nor predicted samples. Use `zero_division` parameter to control this behavior.\n",
            "  _warn_prf(average, \"true nor predicted\", \"F-score is\", len(true_sum))\n",
            "/usr/local/lib/python3.7/dist-packages/sklearn/metrics/_classification.py:1318: UndefinedMetricWarning: Jaccard is ill-defined and being set to 0.0 due to no true or predicted samples. Use `zero_division` parameter to control this behavior.\n",
            "  _warn_prf(average, modifier, msg_start, len(result))\n",
            "/usr/local/lib/python3.7/dist-packages/sklearn/metrics/_classification.py:1318: UndefinedMetricWarning: Recall is ill-defined and being set to 0.0 due to no true samples. Use `zero_division` parameter to control this behavior.\n",
            "  _warn_prf(average, modifier, msg_start, len(result))\n",
            "/usr/local/lib/python3.7/dist-packages/sklearn/metrics/_classification.py:1318: UndefinedMetricWarning: Precision is ill-defined and being set to 0.0 due to no predicted samples. Use `zero_division` parameter to control this behavior.\n",
            "  _warn_prf(average, modifier, msg_start, len(result))\n",
            "\r  0%|          | 1/2520 [00:00<38:19,  1.10it/s]"
          ]
        },
        {
          "metadata": {
            "tags": null
          },
          "name": "stdout",
          "output_type": "stream",
          "text": [
            "(256, 256, 1) 9.172952e-06 3.1133467e-07\n",
            "(256, 256, 3) (256, 256) (256, 256)\n",
            "_01_h_1\n",
            "(256, 256, 1) 9.502838e-06 2.2953886e-07\n",
            "(256, 256, 3) (256, 256) (256, 256)\n"
          ]
        },
        {
          "metadata": {
            "tags": null
          },
          "name": "stderr",
          "output_type": "stream",
          "text": [
            "/usr/local/lib/python3.7/dist-packages/sklearn/metrics/_classification.py:1580: UndefinedMetricWarning: F-score is ill-defined and being set to 0.0 due to no true nor predicted samples. Use `zero_division` parameter to control this behavior.\n",
            "  _warn_prf(average, \"true nor predicted\", \"F-score is\", len(true_sum))\n",
            "/usr/local/lib/python3.7/dist-packages/sklearn/metrics/_classification.py:1318: UndefinedMetricWarning: Jaccard is ill-defined and being set to 0.0 due to no true or predicted samples. Use `zero_division` parameter to control this behavior.\n",
            "  _warn_prf(average, modifier, msg_start, len(result))\n",
            "/usr/local/lib/python3.7/dist-packages/sklearn/metrics/_classification.py:1318: UndefinedMetricWarning: Recall is ill-defined and being set to 0.0 due to no true samples. Use `zero_division` parameter to control this behavior.\n",
            "  _warn_prf(average, modifier, msg_start, len(result))\n",
            "/usr/local/lib/python3.7/dist-packages/sklearn/metrics/_classification.py:1318: UndefinedMetricWarning: Precision is ill-defined and being set to 0.0 due to no predicted samples. Use `zero_division` parameter to control this behavior.\n",
            "  _warn_prf(average, modifier, msg_start, len(result))\n",
            "  0%|          | 3/2520 [00:01<13:40,  3.07it/s]"
          ]
        },
        {
          "metadata": {
            "tags": null
          },
          "name": "stdout",
          "output_type": "stream",
          "text": [
            "_01_h_10\n",
            "(256, 256, 1) 1.0 1.4565978e-13\n",
            "(256, 256, 3) (256, 256) (256, 256)\n",
            "_01_h_100\n"
          ]
        },
        {
          "metadata": {
            "tags": null
          },
          "name": "stderr",
          "output_type": "stream",
          "text": [
            "\r  0%|          | 4/2520 [00:01<10:58,  3.82it/s]"
          ]
        },
        {
          "metadata": {
            "tags": null
          },
          "name": "stdout",
          "output_type": "stream",
          "text": [
            "(256, 256, 1) 1.0 6.339844e-13\n",
            "(256, 256, 3) (256, 256) (256, 256)\n",
            "_01_h_101\n",
            "(256, 256, 1) 1.0 5.36962e-12\n",
            "(256, 256, 3) (256, 256) (256, 256)\n"
          ]
        },
        {
          "metadata": {
            "tags": null
          },
          "name": "stderr",
          "output_type": "stream",
          "text": [
            "  0%|          | 6/2520 [00:01<08:34,  4.89it/s]"
          ]
        },
        {
          "metadata": {
            "tags": null
          },
          "name": "stdout",
          "output_type": "stream",
          "text": [
            "_01_h_102\n",
            "(256, 256, 1) 1.0 1.5509583e-12\n",
            "(256, 256, 3) (256, 256) (256, 256)\n",
            "_01_h_103\n"
          ]
        },
        {
          "metadata": {
            "tags": null
          },
          "name": "stderr",
          "output_type": "stream",
          "text": [
            "\r  0%|          | 7/2520 [00:01<08:02,  5.21it/s]"
          ]
        },
        {
          "metadata": {
            "tags": null
          },
          "name": "stdout",
          "output_type": "stream",
          "text": [
            "(256, 256, 1) 1.0 2.2229048e-11\n",
            "(256, 256, 3) (256, 256) (256, 256)\n",
            "_01_h_104\n",
            "(256, 256, 1) 1.0 1.6771921e-10\n",
            "(256, 256, 3) (256, 256) (256, 256)\n"
          ]
        },
        {
          "metadata": {
            "tags": null
          },
          "name": "stderr",
          "output_type": "stream",
          "text": [
            "  0%|          | 9/2520 [00:02<07:25,  5.63it/s]"
          ]
        },
        {
          "metadata": {
            "tags": null
          },
          "name": "stdout",
          "output_type": "stream",
          "text": [
            "_01_h_105\n",
            "(256, 256, 1) 1.0 1.685317e-11\n",
            "(256, 256, 3) (256, 256) (256, 256)\n",
            "_01_h_106\n"
          ]
        },
        {
          "metadata": {
            "tags": null
          },
          "name": "stderr",
          "output_type": "stream",
          "text": [
            "\r  0%|          | 10/2520 [00:02<07:15,  5.77it/s]"
          ]
        },
        {
          "metadata": {
            "tags": null
          },
          "name": "stdout",
          "output_type": "stream",
          "text": [
            "(256, 256, 1) 1.0 4.245939e-11\n",
            "(256, 256, 3) (256, 256) (256, 256)\n",
            "_01_h_107\n",
            "(256, 256, 1) 1.0 1.4856265e-10\n",
            "(256, 256, 3) (256, 256) (256, 256)\n"
          ]
        },
        {
          "metadata": {
            "tags": null
          },
          "name": "stderr",
          "output_type": "stream",
          "text": [
            "  0%|          | 12/2520 [00:02<07:03,  5.93it/s]"
          ]
        },
        {
          "metadata": {
            "tags": null
          },
          "name": "stdout",
          "output_type": "stream",
          "text": [
            "_01_h_108\n",
            "(256, 256, 1) 1.0 1.0403931e-11\n",
            "(256, 256, 3) (256, 256) (256, 256)\n",
            "_01_h_109\n"
          ]
        },
        {
          "metadata": {
            "tags": null
          },
          "name": "stderr",
          "output_type": "stream",
          "text": [
            "\r  1%|          | 13/2520 [00:02<07:05,  5.89it/s]"
          ]
        },
        {
          "metadata": {
            "tags": null
          },
          "name": "stdout",
          "output_type": "stream",
          "text": [
            "(256, 256, 1) 1.0 7.973137e-12\n",
            "(256, 256, 3) (256, 256) (256, 256)\n",
            "_01_h_11\n",
            "(256, 256, 1) 1.0 4.825105e-13\n",
            "(256, 256, 3) (256, 256) (256, 256)\n"
          ]
        },
        {
          "metadata": {
            "tags": null
          },
          "name": "stderr",
          "output_type": "stream",
          "text": [
            "  1%|          | 15/2520 [00:03<07:00,  5.96it/s]"
          ]
        },
        {
          "metadata": {
            "tags": null
          },
          "name": "stdout",
          "output_type": "stream",
          "text": [
            "_01_h_110\n",
            "(256, 256, 1) 1.0 2.2073938e-12\n",
            "(256, 256, 3) (256, 256) (256, 256)\n",
            "_01_h_111\n"
          ]
        },
        {
          "metadata": {
            "tags": null
          },
          "name": "stderr",
          "output_type": "stream",
          "text": [
            "\r  1%|          | 16/2520 [00:03<06:56,  6.02it/s]"
          ]
        },
        {
          "metadata": {
            "tags": null
          },
          "name": "stdout",
          "output_type": "stream",
          "text": [
            "(256, 256, 1) 0.9998287 7.35113e-11\n",
            "(256, 256, 3) (256, 256) (256, 256)\n",
            "_01_h_112\n",
            "(256, 256, 1) 1.0229381e-05 3.0536623e-07\n",
            "(256, 256, 3) (256, 256) (256, 256)\n"
          ]
        },
        {
          "metadata": {
            "tags": null
          },
          "name": "stderr",
          "output_type": "stream",
          "text": [
            "/usr/local/lib/python3.7/dist-packages/sklearn/metrics/_classification.py:1580: UndefinedMetricWarning: F-score is ill-defined and being set to 0.0 due to no true nor predicted samples. Use `zero_division` parameter to control this behavior.\n",
            "  _warn_prf(average, \"true nor predicted\", \"F-score is\", len(true_sum))\n",
            "/usr/local/lib/python3.7/dist-packages/sklearn/metrics/_classification.py:1318: UndefinedMetricWarning: Jaccard is ill-defined and being set to 0.0 due to no true or predicted samples. Use `zero_division` parameter to control this behavior.\n",
            "  _warn_prf(average, modifier, msg_start, len(result))\n",
            "/usr/local/lib/python3.7/dist-packages/sklearn/metrics/_classification.py:1318: UndefinedMetricWarning: Recall is ill-defined and being set to 0.0 due to no true samples. Use `zero_division` parameter to control this behavior.\n",
            "  _warn_prf(average, modifier, msg_start, len(result))\n",
            "/usr/local/lib/python3.7/dist-packages/sklearn/metrics/_classification.py:1318: UndefinedMetricWarning: Precision is ill-defined and being set to 0.0 due to no predicted samples. Use `zero_division` parameter to control this behavior.\n",
            "  _warn_prf(average, modifier, msg_start, len(result))\n",
            "  1%|          | 18/2520 [00:03<06:42,  6.21it/s]"
          ]
        },
        {
          "metadata": {
            "tags": null
          },
          "name": "stdout",
          "output_type": "stream",
          "text": [
            "_01_h_113\n",
            "(256, 256, 1) 1.0 4.8829343e-12\n",
            "(256, 256, 3) (256, 256) (256, 256)\n",
            "_01_h_114\n"
          ]
        },
        {
          "metadata": {
            "tags": null
          },
          "name": "stderr",
          "output_type": "stream",
          "text": [
            "\r  1%|          | 19/2520 [00:03<06:43,  6.21it/s]"
          ]
        },
        {
          "metadata": {
            "tags": null
          },
          "name": "stdout",
          "output_type": "stream",
          "text": [
            "(256, 256, 1) 1.0 1.1086038e-12\n",
            "(256, 256, 3) (256, 256) (256, 256)\n",
            "_01_h_115\n",
            "(256, 256, 1) 1.0 5.6973805e-13\n",
            "(256, 256, 3) (256, 256) (256, 256)\n"
          ]
        },
        {
          "metadata": {
            "tags": null
          },
          "name": "stderr",
          "output_type": "stream",
          "text": [
            "  1%|          | 21/2520 [00:04<06:49,  6.10it/s]"
          ]
        },
        {
          "metadata": {
            "tags": null
          },
          "name": "stdout",
          "output_type": "stream",
          "text": [
            "_01_h_116\n",
            "(256, 256, 1) 1.0 3.1356818e-12\n",
            "(256, 256, 3) (256, 256) (256, 256)\n",
            "_01_h_117\n"
          ]
        },
        {
          "metadata": {
            "tags": null
          },
          "name": "stderr",
          "output_type": "stream",
          "text": [
            "\r  1%|          | 22/2520 [00:04<06:56,  6.00it/s]"
          ]
        },
        {
          "metadata": {
            "tags": null
          },
          "name": "stdout",
          "output_type": "stream",
          "text": [
            "(256, 256, 1) 1.0 5.8519856e-11\n",
            "(256, 256, 3) (256, 256) (256, 256)\n",
            "_01_h_118\n",
            "(256, 256, 1) 1.0 2.467352e-10\n",
            "(256, 256, 3) (256, 256) (256, 256)\n"
          ]
        },
        {
          "metadata": {
            "tags": null
          },
          "name": "stderr",
          "output_type": "stream",
          "text": [
            "  1%|          | 24/2520 [00:04<06:52,  6.06it/s]"
          ]
        },
        {
          "metadata": {
            "tags": null
          },
          "name": "stdout",
          "output_type": "stream",
          "text": [
            "_01_h_119\n",
            "(256, 256, 1) 1.0 1.3017906e-11\n",
            "(256, 256, 3) (256, 256) (256, 256)\n",
            "_01_h_12\n"
          ]
        },
        {
          "metadata": {
            "tags": null
          },
          "name": "stderr",
          "output_type": "stream",
          "text": [
            "/usr/local/lib/python3.7/dist-packages/sklearn/metrics/_classification.py:1580: UndefinedMetricWarning: F-score is ill-defined and being set to 0.0 due to no true nor predicted samples. Use `zero_division` parameter to control this behavior.\n",
            "  _warn_prf(average, \"true nor predicted\", \"F-score is\", len(true_sum))\n",
            "/usr/local/lib/python3.7/dist-packages/sklearn/metrics/_classification.py:1318: UndefinedMetricWarning: Jaccard is ill-defined and being set to 0.0 due to no true or predicted samples. Use `zero_division` parameter to control this behavior.\n",
            "  _warn_prf(average, modifier, msg_start, len(result))\n",
            "/usr/local/lib/python3.7/dist-packages/sklearn/metrics/_classification.py:1318: UndefinedMetricWarning: Recall is ill-defined and being set to 0.0 due to no true samples. Use `zero_division` parameter to control this behavior.\n",
            "  _warn_prf(average, modifier, msg_start, len(result))\n",
            "/usr/local/lib/python3.7/dist-packages/sklearn/metrics/_classification.py:1318: UndefinedMetricWarning: Precision is ill-defined and being set to 0.0 due to no predicted samples. Use `zero_division` parameter to control this behavior.\n",
            "  _warn_prf(average, modifier, msg_start, len(result))\n",
            "\r  1%|          | 25/2520 [00:04<06:34,  6.32it/s]"
          ]
        },
        {
          "metadata": {
            "tags": null
          },
          "name": "stdout",
          "output_type": "stream",
          "text": [
            "(256, 256, 1) 0.020671308 2.9231493e-09\n",
            "(256, 256, 3) (256, 256) (256, 256)\n",
            "_01_h_120\n",
            "(256, 256, 1) 1.0 4.1189177e-11\n",
            "(256, 256, 3) (256, 256) (256, 256)\n"
          ]
        },
        {
          "metadata": {
            "tags": null
          },
          "name": "stderr",
          "output_type": "stream",
          "text": [
            "  1%|          | 27/2520 [00:05<06:49,  6.08it/s]"
          ]
        },
        {
          "metadata": {
            "tags": null
          },
          "name": "stdout",
          "output_type": "stream",
          "text": [
            "_01_h_121\n",
            "(256, 256, 1) 1.0 1.0180074e-11\n",
            "(256, 256, 3) (256, 256) (256, 256)\n",
            "_01_h_122\n"
          ]
        },
        {
          "metadata": {
            "tags": null
          },
          "name": "stderr",
          "output_type": "stream",
          "text": [
            "\r  1%|          | 28/2520 [00:05<06:51,  6.06it/s]"
          ]
        },
        {
          "metadata": {
            "tags": null
          },
          "name": "stdout",
          "output_type": "stream",
          "text": [
            "(256, 256, 1) 1.0 1.2887105e-13\n",
            "(256, 256, 3) (256, 256) (256, 256)\n",
            "_01_h_123\n",
            "(256, 256, 1) 1.0 6.97512e-13\n",
            "(256, 256, 3) (256, 256) (256, 256)\n"
          ]
        },
        {
          "metadata": {
            "tags": null
          },
          "name": "stderr",
          "output_type": "stream",
          "text": [
            "  1%|          | 30/2520 [00:05<07:01,  5.91it/s]"
          ]
        },
        {
          "metadata": {
            "tags": null
          },
          "name": "stdout",
          "output_type": "stream",
          "text": [
            "_01_h_124\n",
            "(256, 256, 1) 1.0 6.2277154e-12\n",
            "(256, 256, 3) (256, 256) (256, 256)\n",
            "_01_h_125\n"
          ]
        },
        {
          "metadata": {
            "tags": null
          },
          "name": "stderr",
          "output_type": "stream",
          "text": [
            "/usr/local/lib/python3.7/dist-packages/sklearn/metrics/_classification.py:1580: UndefinedMetricWarning: F-score is ill-defined and being set to 0.0 due to no true nor predicted samples. Use `zero_division` parameter to control this behavior.\n",
            "  _warn_prf(average, \"true nor predicted\", \"F-score is\", len(true_sum))\n",
            "/usr/local/lib/python3.7/dist-packages/sklearn/metrics/_classification.py:1318: UndefinedMetricWarning: Jaccard is ill-defined and being set to 0.0 due to no true or predicted samples. Use `zero_division` parameter to control this behavior.\n",
            "  _warn_prf(average, modifier, msg_start, len(result))\n",
            "/usr/local/lib/python3.7/dist-packages/sklearn/metrics/_classification.py:1318: UndefinedMetricWarning: Recall is ill-defined and being set to 0.0 due to no true samples. Use `zero_division` parameter to control this behavior.\n",
            "  _warn_prf(average, modifier, msg_start, len(result))\n",
            "/usr/local/lib/python3.7/dist-packages/sklearn/metrics/_classification.py:1318: UndefinedMetricWarning: Precision is ill-defined and being set to 0.0 due to no predicted samples. Use `zero_division` parameter to control this behavior.\n",
            "  _warn_prf(average, modifier, msg_start, len(result))\n",
            "\r  1%|          | 31/2520 [00:05<06:45,  6.13it/s]"
          ]
        },
        {
          "metadata": {
            "tags": null
          },
          "name": "stdout",
          "output_type": "stream",
          "text": [
            "(256, 256, 1) 1.09595285e-05 2.3247172e-07\n",
            "(256, 256, 3) (256, 256) (256, 256)\n",
            "_01_h_126\n",
            "(256, 256, 1) 1.0990383e-05 3.1129312e-07\n",
            "(256, 256, 3) (256, 256) (256, 256)\n"
          ]
        },
        {
          "metadata": {
            "tags": null
          },
          "name": "stderr",
          "output_type": "stream",
          "text": [
            "/usr/local/lib/python3.7/dist-packages/sklearn/metrics/_classification.py:1580: UndefinedMetricWarning: F-score is ill-defined and being set to 0.0 due to no true nor predicted samples. Use `zero_division` parameter to control this behavior.\n",
            "  _warn_prf(average, \"true nor predicted\", \"F-score is\", len(true_sum))\n",
            "/usr/local/lib/python3.7/dist-packages/sklearn/metrics/_classification.py:1318: UndefinedMetricWarning: Jaccard is ill-defined and being set to 0.0 due to no true or predicted samples. Use `zero_division` parameter to control this behavior.\n",
            "  _warn_prf(average, modifier, msg_start, len(result))\n",
            "/usr/local/lib/python3.7/dist-packages/sklearn/metrics/_classification.py:1318: UndefinedMetricWarning: Recall is ill-defined and being set to 0.0 due to no true samples. Use `zero_division` parameter to control this behavior.\n",
            "  _warn_prf(average, modifier, msg_start, len(result))\n",
            "/usr/local/lib/python3.7/dist-packages/sklearn/metrics/_classification.py:1318: UndefinedMetricWarning: Precision is ill-defined and being set to 0.0 due to no predicted samples. Use `zero_division` parameter to control this behavior.\n",
            "  _warn_prf(average, modifier, msg_start, len(result))\n",
            "  1%|▏         | 32/2520 [00:05<06:36,  6.27it/s]/usr/local/lib/python3.7/dist-packages/sklearn/metrics/_classification.py:1580: UndefinedMetricWarning: F-score is ill-defined and being set to 0.0 due to no true nor predicted samples. Use `zero_division` parameter to control this behavior.\n",
            "  _warn_prf(average, \"true nor predicted\", \"F-score is\", len(true_sum))\n",
            "/usr/local/lib/python3.7/dist-packages/sklearn/metrics/_classification.py:1318: UndefinedMetricWarning: Jaccard is ill-defined and being set to 0.0 due to no true or predicted samples. Use `zero_division` parameter to control this behavior.\n",
            "  _warn_prf(average, modifier, msg_start, len(result))\n",
            "/usr/local/lib/python3.7/dist-packages/sklearn/metrics/_classification.py:1318: UndefinedMetricWarning: Recall is ill-defined and being set to 0.0 due to no true samples. Use `zero_division` parameter to control this behavior.\n",
            "  _warn_prf(average, modifier, msg_start, len(result))\n",
            "/usr/local/lib/python3.7/dist-packages/sklearn/metrics/_classification.py:1318: UndefinedMetricWarning: Precision is ill-defined and being set to 0.0 due to no predicted samples. Use `zero_division` parameter to control this behavior.\n",
            "  _warn_prf(average, modifier, msg_start, len(result))\n",
            "  1%|▏         | 33/2520 [00:06<06:27,  6.43it/s]"
          ]
        },
        {
          "metadata": {
            "tags": null
          },
          "name": "stdout",
          "output_type": "stream",
          "text": [
            "_01_h_127\n",
            "(256, 256, 1) 1.0990383e-05 2.4940098e-07\n",
            "(256, 256, 3) (256, 256) (256, 256)\n",
            "_01_h_128\n"
          ]
        },
        {
          "metadata": {
            "tags": null
          },
          "name": "stderr",
          "output_type": "stream",
          "text": [
            "\r  1%|▏         | 34/2520 [00:06<06:31,  6.36it/s]"
          ]
        },
        {
          "metadata": {
            "tags": null
          },
          "name": "stdout",
          "output_type": "stream",
          "text": [
            "(256, 256, 1) 1.0 8.345853e-12\n",
            "(256, 256, 3) (256, 256) (256, 256)\n",
            "_01_h_129\n",
            "(256, 256, 1) 1.0 3.4000957e-13\n",
            "(256, 256, 3) (256, 256) (256, 256)\n"
          ]
        },
        {
          "metadata": {
            "tags": null
          },
          "name": "stderr",
          "output_type": "stream",
          "text": [
            "  1%|▏         | 35/2520 [00:06<06:36,  6.27it/s]/usr/local/lib/python3.7/dist-packages/sklearn/metrics/_classification.py:1580: UndefinedMetricWarning: F-score is ill-defined and being set to 0.0 due to no true nor predicted samples. Use `zero_division` parameter to control this behavior.\n",
            "  _warn_prf(average, \"true nor predicted\", \"F-score is\", len(true_sum))\n",
            "/usr/local/lib/python3.7/dist-packages/sklearn/metrics/_classification.py:1318: UndefinedMetricWarning: Jaccard is ill-defined and being set to 0.0 due to no true or predicted samples. Use `zero_division` parameter to control this behavior.\n",
            "  _warn_prf(average, modifier, msg_start, len(result))\n",
            "/usr/local/lib/python3.7/dist-packages/sklearn/metrics/_classification.py:1318: UndefinedMetricWarning: Recall is ill-defined and being set to 0.0 due to no true samples. Use `zero_division` parameter to control this behavior.\n",
            "  _warn_prf(average, modifier, msg_start, len(result))\n",
            "/usr/local/lib/python3.7/dist-packages/sklearn/metrics/_classification.py:1318: UndefinedMetricWarning: Precision is ill-defined and being set to 0.0 due to no predicted samples. Use `zero_division` parameter to control this behavior.\n",
            "  _warn_prf(average, modifier, msg_start, len(result))\n",
            "  1%|▏         | 36/2520 [00:06<06:25,  6.44it/s]"
          ]
        },
        {
          "metadata": {
            "tags": null
          },
          "name": "stdout",
          "output_type": "stream",
          "text": [
            "_01_h_13\n",
            "(256, 256, 1) 1.0946201e-05 2.8194287e-07\n",
            "(256, 256, 3) (256, 256) (256, 256)\n",
            "_01_h_130\n"
          ]
        },
        {
          "metadata": {
            "tags": null
          },
          "name": "stderr",
          "output_type": "stream",
          "text": [
            "\r  1%|▏         | 37/2520 [00:06<06:29,  6.37it/s]"
          ]
        },
        {
          "metadata": {
            "tags": null
          },
          "name": "stdout",
          "output_type": "stream",
          "text": [
            "(256, 256, 1) 1.0 5.887281e-12\n",
            "(256, 256, 3) (256, 256) (256, 256)\n",
            "_01_h_131\n",
            "(256, 256, 1) 1.0 1.599335e-10\n",
            "(256, 256, 3) (256, 256) (256, 256)\n"
          ]
        },
        {
          "metadata": {
            "tags": null
          },
          "name": "stderr",
          "output_type": "stream",
          "text": [
            "  2%|▏         | 39/2520 [00:07<06:43,  6.15it/s]"
          ]
        },
        {
          "metadata": {
            "tags": null
          },
          "name": "stdout",
          "output_type": "stream",
          "text": [
            "_01_h_132\n",
            "(256, 256, 1) 1.0 3.1346803e-10\n",
            "(256, 256, 3) (256, 256) (256, 256)\n",
            "_01_h_133\n"
          ]
        },
        {
          "metadata": {
            "tags": null
          },
          "name": "stderr",
          "output_type": "stream",
          "text": [
            "\r  2%|▏         | 40/2520 [00:07<06:43,  6.14it/s]"
          ]
        },
        {
          "metadata": {
            "tags": null
          },
          "name": "stdout",
          "output_type": "stream",
          "text": [
            "(256, 256, 1) 1.0 1.0006489e-11\n",
            "(256, 256, 3) (256, 256) (256, 256)\n",
            "_01_h_134\n",
            "(256, 256, 1) 1.0 1.6110135e-12\n",
            "(256, 256, 3) (256, 256) (256, 256)\n"
          ]
        },
        {
          "metadata": {
            "tags": null
          },
          "name": "stderr",
          "output_type": "stream",
          "text": [
            "  2%|▏         | 42/2520 [00:07<06:42,  6.15it/s]"
          ]
        },
        {
          "metadata": {
            "tags": null
          },
          "name": "stdout",
          "output_type": "stream",
          "text": [
            "_01_h_135\n",
            "(256, 256, 1) 1.0 1.06814994e-10\n",
            "(256, 256, 3) (256, 256) (256, 256)\n",
            "_01_h_136\n"
          ]
        },
        {
          "metadata": {
            "tags": null
          },
          "name": "stderr",
          "output_type": "stream",
          "text": [
            "\r  2%|▏         | 43/2520 [00:07<06:42,  6.16it/s]"
          ]
        },
        {
          "metadata": {
            "tags": null
          },
          "name": "stdout",
          "output_type": "stream",
          "text": [
            "(256, 256, 1) 1.0 1.04740175e-11\n",
            "(256, 256, 3) (256, 256) (256, 256)\n",
            "_01_h_137\n",
            "(256, 256, 1) 1.0 7.031985e-13\n",
            "(256, 256, 3) (256, 256) (256, 256)\n"
          ]
        },
        {
          "metadata": {
            "tags": null
          },
          "name": "stderr",
          "output_type": "stream",
          "text": [
            "  2%|▏         | 44/2520 [00:07<06:41,  6.17it/s]/usr/local/lib/python3.7/dist-packages/sklearn/metrics/_classification.py:1580: UndefinedMetricWarning: F-score is ill-defined and being set to 0.0 due to no true nor predicted samples. Use `zero_division` parameter to control this behavior.\n",
            "  _warn_prf(average, \"true nor predicted\", \"F-score is\", len(true_sum))\n",
            "/usr/local/lib/python3.7/dist-packages/sklearn/metrics/_classification.py:1318: UndefinedMetricWarning: Jaccard is ill-defined and being set to 0.0 due to no true or predicted samples. Use `zero_division` parameter to control this behavior.\n",
            "  _warn_prf(average, modifier, msg_start, len(result))\n",
            "/usr/local/lib/python3.7/dist-packages/sklearn/metrics/_classification.py:1318: UndefinedMetricWarning: Recall is ill-defined and being set to 0.0 due to no true samples. Use `zero_division` parameter to control this behavior.\n",
            "  _warn_prf(average, modifier, msg_start, len(result))\n",
            "/usr/local/lib/python3.7/dist-packages/sklearn/metrics/_classification.py:1318: UndefinedMetricWarning: Precision is ill-defined and being set to 0.0 due to no predicted samples. Use `zero_division` parameter to control this behavior.\n",
            "  _warn_prf(average, modifier, msg_start, len(result))\n",
            "  2%|▏         | 45/2520 [00:08<06:27,  6.38it/s]"
          ]
        },
        {
          "metadata": {
            "tags": null
          },
          "name": "stdout",
          "output_type": "stream",
          "text": [
            "_01_h_138\n",
            "(256, 256, 1) 1.0990383e-05 2.3802185e-07\n",
            "(256, 256, 3) (256, 256) (256, 256)\n",
            "_01_h_139\n"
          ]
        },
        {
          "metadata": {
            "tags": null
          },
          "name": "stderr",
          "output_type": "stream",
          "text": [
            "/usr/local/lib/python3.7/dist-packages/sklearn/metrics/_classification.py:1580: UndefinedMetricWarning: F-score is ill-defined and being set to 0.0 due to no true nor predicted samples. Use `zero_division` parameter to control this behavior.\n",
            "  _warn_prf(average, \"true nor predicted\", \"F-score is\", len(true_sum))\n",
            "/usr/local/lib/python3.7/dist-packages/sklearn/metrics/_classification.py:1318: UndefinedMetricWarning: Jaccard is ill-defined and being set to 0.0 due to no true or predicted samples. Use `zero_division` parameter to control this behavior.\n",
            "  _warn_prf(average, modifier, msg_start, len(result))\n",
            "/usr/local/lib/python3.7/dist-packages/sklearn/metrics/_classification.py:1318: UndefinedMetricWarning: Recall is ill-defined and being set to 0.0 due to no true samples. Use `zero_division` parameter to control this behavior.\n",
            "  _warn_prf(average, modifier, msg_start, len(result))\n",
            "/usr/local/lib/python3.7/dist-packages/sklearn/metrics/_classification.py:1318: UndefinedMetricWarning: Precision is ill-defined and being set to 0.0 due to no predicted samples. Use `zero_division` parameter to control this behavior.\n",
            "  _warn_prf(average, modifier, msg_start, len(result))\n",
            "\r  2%|▏         | 46/2520 [00:08<06:23,  6.44it/s]"
          ]
        },
        {
          "metadata": {
            "tags": null
          },
          "name": "stdout",
          "output_type": "stream",
          "text": [
            "(256, 256, 1) 1.0990383e-05 2.432772e-07\n",
            "(256, 256, 3) (256, 256) (256, 256)\n",
            "_01_h_14\n"
          ]
        },
        {
          "metadata": {
            "tags": null
          },
          "name": "stderr",
          "output_type": "stream",
          "text": [
            "/usr/local/lib/python3.7/dist-packages/sklearn/metrics/_classification.py:1580: UndefinedMetricWarning: F-score is ill-defined and being set to 0.0 due to no true nor predicted samples. Use `zero_division` parameter to control this behavior.\n",
            "  _warn_prf(average, \"true nor predicted\", \"F-score is\", len(true_sum))\n",
            "/usr/local/lib/python3.7/dist-packages/sklearn/metrics/_classification.py:1318: UndefinedMetricWarning: Jaccard is ill-defined and being set to 0.0 due to no true or predicted samples. Use `zero_division` parameter to control this behavior.\n",
            "  _warn_prf(average, modifier, msg_start, len(result))\n",
            "/usr/local/lib/python3.7/dist-packages/sklearn/metrics/_classification.py:1318: UndefinedMetricWarning: Recall is ill-defined and being set to 0.0 due to no true samples. Use `zero_division` parameter to control this behavior.\n",
            "  _warn_prf(average, modifier, msg_start, len(result))\n",
            "/usr/local/lib/python3.7/dist-packages/sklearn/metrics/_classification.py:1318: UndefinedMetricWarning: Precision is ill-defined and being set to 0.0 due to no predicted samples. Use `zero_division` parameter to control this behavior.\n",
            "  _warn_prf(average, modifier, msg_start, len(result))\n",
            "\r  2%|▏         | 47/2520 [00:08<08:52,  4.65it/s]"
          ]
        },
        {
          "metadata": {
            "tags": null
          },
          "name": "stdout",
          "output_type": "stream",
          "text": [
            "(256, 256, 1) 1.1423913e-05 3.1134775e-07\n",
            "(256, 256, 3) (256, 256) (256, 256)\n",
            "_01_h_15\n",
            "(256, 256, 1) 1.0 5.6769255e-12\n",
            "(256, 256, 3) (256, 256) (256, 256)\n"
          ]
        },
        {
          "metadata": {
            "tags": null
          },
          "name": "stderr",
          "output_type": "stream",
          "text": [
            "  2%|▏         | 49/2520 [00:08<07:46,  5.30it/s]"
          ]
        },
        {
          "metadata": {
            "tags": null
          },
          "name": "stdout",
          "output_type": "stream",
          "text": [
            "_01_h_16\n",
            "(256, 256, 1) 1.0 1.3563403e-12\n",
            "(256, 256, 3) (256, 256) (256, 256)\n",
            "_01_h_17\n"
          ]
        },
        {
          "metadata": {
            "tags": null
          },
          "name": "stderr",
          "output_type": "stream",
          "text": [
            "\r  2%|▏         | 50/2520 [00:09<07:26,  5.53it/s]"
          ]
        },
        {
          "metadata": {
            "tags": null
          },
          "name": "stdout",
          "output_type": "stream",
          "text": [
            "(256, 256, 1) 1.0 7.535418e-13\n",
            "(256, 256, 3) (256, 256) (256, 256)\n",
            "_01_h_18\n",
            "(256, 256, 1) 1.0 2.0309765e-12\n",
            "(256, 256, 3) (256, 256) (256, 256)\n"
          ]
        },
        {
          "metadata": {
            "tags": null
          },
          "name": "stderr",
          "output_type": "stream",
          "text": [
            "  2%|▏         | 52/2520 [00:09<07:08,  5.76it/s]"
          ]
        },
        {
          "metadata": {
            "tags": null
          },
          "name": "stdout",
          "output_type": "stream",
          "text": [
            "_01_h_19\n",
            "(256, 256, 1) 1.0 2.905956e-12\n",
            "(256, 256, 3) (256, 256) (256, 256)\n",
            "_01_h_2\n"
          ]
        },
        {
          "metadata": {
            "tags": null
          },
          "name": "stderr",
          "output_type": "stream",
          "text": [
            "\r  2%|▏         | 53/2520 [00:09<06:58,  5.89it/s]"
          ]
        },
        {
          "metadata": {
            "tags": null
          },
          "name": "stdout",
          "output_type": "stream",
          "text": [
            "(256, 256, 1) 1.0 3.9926925e-12\n",
            "(256, 256, 3) (256, 256) (256, 256)\n",
            "_01_h_20\n",
            "(256, 256, 1) 1.0 3.651092e-12\n",
            "(256, 256, 3) (256, 256) (256, 256)\n"
          ]
        },
        {
          "metadata": {
            "tags": null
          },
          "name": "stderr",
          "output_type": "stream",
          "text": [
            "  2%|▏         | 55/2520 [00:09<07:05,  5.80it/s]"
          ]
        },
        {
          "metadata": {
            "tags": null
          },
          "name": "stdout",
          "output_type": "stream",
          "text": [
            "_01_h_21\n",
            "(256, 256, 1) 1.0 2.3959308e-11\n",
            "(256, 256, 3) (256, 256) (256, 256)\n",
            "_01_h_22\n"
          ]
        },
        {
          "metadata": {
            "tags": null
          },
          "name": "stderr",
          "output_type": "stream",
          "text": [
            "\r  2%|▏         | 56/2520 [00:10<07:05,  5.79it/s]"
          ]
        },
        {
          "metadata": {
            "tags": null
          },
          "name": "stdout",
          "output_type": "stream",
          "text": [
            "(256, 256, 1) 1.0 7.2902335e-12\n",
            "(256, 256, 3) (256, 256) (256, 256)\n",
            "_01_h_23\n",
            "(256, 256, 1) 1.0 9.292353e-13\n",
            "(256, 256, 3) (256, 256) (256, 256)\n"
          ]
        },
        {
          "metadata": {
            "tags": null
          },
          "name": "stderr",
          "output_type": "stream",
          "text": [
            "  2%|▏         | 58/2520 [00:10<07:05,  5.79it/s]"
          ]
        },
        {
          "metadata": {
            "tags": null
          },
          "name": "stdout",
          "output_type": "stream",
          "text": [
            "_01_h_24\n",
            "(256, 256, 1) 1.0 3.8273098e-13\n",
            "(256, 256, 3) (256, 256) (256, 256)\n",
            "_01_h_25\n"
          ]
        },
        {
          "metadata": {
            "tags": null
          },
          "name": "stderr",
          "output_type": "stream",
          "text": [
            "\r  2%|▏         | 59/2520 [00:10<07:03,  5.82it/s]"
          ]
        },
        {
          "metadata": {
            "tags": null
          },
          "name": "stdout",
          "output_type": "stream",
          "text": [
            "(256, 256, 1) 1.0 5.7540485e-13\n",
            "(256, 256, 3) (256, 256) (256, 256)\n",
            "_01_h_26\n",
            "(256, 256, 1) 1.0 1.8142847e-12\n",
            "(256, 256, 3) (256, 256) (256, 256)\n"
          ]
        },
        {
          "metadata": {
            "tags": null
          },
          "name": "stderr",
          "output_type": "stream",
          "text": [
            "  2%|▏         | 60/2520 [00:10<07:01,  5.84it/s]/usr/local/lib/python3.7/dist-packages/sklearn/metrics/_classification.py:1580: UndefinedMetricWarning: F-score is ill-defined and being set to 0.0 due to no true nor predicted samples. Use `zero_division` parameter to control this behavior.\n",
            "  _warn_prf(average, \"true nor predicted\", \"F-score is\", len(true_sum))\n",
            "/usr/local/lib/python3.7/dist-packages/sklearn/metrics/_classification.py:1318: UndefinedMetricWarning: Jaccard is ill-defined and being set to 0.0 due to no true or predicted samples. Use `zero_division` parameter to control this behavior.\n",
            "  _warn_prf(average, modifier, msg_start, len(result))\n",
            "/usr/local/lib/python3.7/dist-packages/sklearn/metrics/_classification.py:1318: UndefinedMetricWarning: Recall is ill-defined and being set to 0.0 due to no true samples. Use `zero_division` parameter to control this behavior.\n",
            "  _warn_prf(average, modifier, msg_start, len(result))\n",
            "/usr/local/lib/python3.7/dist-packages/sklearn/metrics/_classification.py:1318: UndefinedMetricWarning: Precision is ill-defined and being set to 0.0 due to no predicted samples. Use `zero_division` parameter to control this behavior.\n",
            "  _warn_prf(average, modifier, msg_start, len(result))\n",
            "  2%|▏         | 61/2520 [00:10<06:45,  6.07it/s]"
          ]
        },
        {
          "metadata": {
            "tags": null
          },
          "name": "stdout",
          "output_type": "stream",
          "text": [
            "_01_h_27\n",
            "(256, 256, 1) 1.0953426e-05 2.6347544e-07\n",
            "(256, 256, 3) (256, 256) (256, 256)\n",
            "_01_h_28\n"
          ]
        },
        {
          "metadata": {
            "tags": null
          },
          "name": "stderr",
          "output_type": "stream",
          "text": [
            "/usr/local/lib/python3.7/dist-packages/sklearn/metrics/_classification.py:1580: UndefinedMetricWarning: F-score is ill-defined and being set to 0.0 due to no true nor predicted samples. Use `zero_division` parameter to control this behavior.\n",
            "  _warn_prf(average, \"true nor predicted\", \"F-score is\", len(true_sum))\n",
            "/usr/local/lib/python3.7/dist-packages/sklearn/metrics/_classification.py:1318: UndefinedMetricWarning: Jaccard is ill-defined and being set to 0.0 due to no true or predicted samples. Use `zero_division` parameter to control this behavior.\n",
            "  _warn_prf(average, modifier, msg_start, len(result))\n",
            "/usr/local/lib/python3.7/dist-packages/sklearn/metrics/_classification.py:1318: UndefinedMetricWarning: Recall is ill-defined and being set to 0.0 due to no true samples. Use `zero_division` parameter to control this behavior.\n",
            "  _warn_prf(average, modifier, msg_start, len(result))\n",
            "/usr/local/lib/python3.7/dist-packages/sklearn/metrics/_classification.py:1318: UndefinedMetricWarning: Precision is ill-defined and being set to 0.0 due to no predicted samples. Use `zero_division` parameter to control this behavior.\n",
            "  _warn_prf(average, modifier, msg_start, len(result))\n",
            "\r  2%|▏         | 62/2520 [00:11<06:30,  6.29it/s]"
          ]
        },
        {
          "metadata": {
            "tags": null
          },
          "name": "stdout",
          "output_type": "stream",
          "text": [
            "(256, 256, 1) 5.0212147e-06 1.6121563e-09\n",
            "(256, 256, 3) (256, 256) (256, 256)\n",
            "_01_h_29\n",
            "(256, 256, 1) 1.0 8.51882e-13\n",
            "(256, 256, 3) (256, 256) (256, 256)\n"
          ]
        },
        {
          "metadata": {
            "tags": null
          },
          "name": "stderr",
          "output_type": "stream",
          "text": [
            "  3%|▎         | 64/2520 [00:11<06:44,  6.08it/s]"
          ]
        },
        {
          "metadata": {
            "tags": null
          },
          "name": "stdout",
          "output_type": "stream",
          "text": [
            "_01_h_3\n",
            "(256, 256, 1) 1.0 2.9332593e-12\n",
            "(256, 256, 3) (256, 256) (256, 256)\n",
            "_01_h_30\n"
          ]
        },
        {
          "metadata": {
            "tags": null
          },
          "name": "stderr",
          "output_type": "stream",
          "text": [
            "\r  3%|▎         | 65/2520 [00:11<06:57,  5.88it/s]"
          ]
        },
        {
          "metadata": {
            "tags": null
          },
          "name": "stdout",
          "output_type": "stream",
          "text": [
            "(256, 256, 1) 1.0 3.1459904e-13\n",
            "(256, 256, 3) (256, 256) (256, 256)\n",
            "_01_h_31\n",
            "(256, 256, 1) 1.0 6.6999666e-13\n",
            "(256, 256, 3) (256, 256) (256, 256)\n"
          ]
        },
        {
          "metadata": {
            "tags": null
          },
          "name": "stderr",
          "output_type": "stream",
          "text": [
            "  3%|▎         | 67/2520 [00:11<06:58,  5.86it/s]"
          ]
        },
        {
          "metadata": {
            "tags": null
          },
          "name": "stdout",
          "output_type": "stream",
          "text": [
            "_01_h_32\n",
            "(256, 256, 1) 1.0 1.0880431e-12\n",
            "(256, 256, 3) (256, 256) (256, 256)\n",
            "_01_h_33\n"
          ]
        },
        {
          "metadata": {
            "tags": null
          },
          "name": "stderr",
          "output_type": "stream",
          "text": [
            "\r  3%|▎         | 68/2520 [00:12<06:56,  5.89it/s]"
          ]
        },
        {
          "metadata": {
            "tags": null
          },
          "name": "stdout",
          "output_type": "stream",
          "text": [
            "(256, 256, 1) 1.0 8.067502e-13\n",
            "(256, 256, 3) (256, 256) (256, 256)\n",
            "_01_h_34\n",
            "(256, 256, 1) 1.0 1.3151701e-11\n",
            "(256, 256, 3) (256, 256) (256, 256)\n"
          ]
        },
        {
          "metadata": {
            "tags": null
          },
          "name": "stderr",
          "output_type": "stream",
          "text": [
            "  3%|▎         | 70/2520 [00:12<06:49,  5.98it/s]"
          ]
        },
        {
          "metadata": {
            "tags": null
          },
          "name": "stdout",
          "output_type": "stream",
          "text": [
            "_01_h_35\n",
            "(256, 256, 1) 1.0 1.1475478e-10\n",
            "(256, 256, 3) (256, 256) (256, 256)\n",
            "_01_h_36\n"
          ]
        },
        {
          "metadata": {
            "tags": null
          },
          "name": "stderr",
          "output_type": "stream",
          "text": [
            "\r  3%|▎         | 71/2520 [00:12<06:53,  5.92it/s]"
          ]
        },
        {
          "metadata": {
            "tags": null
          },
          "name": "stdout",
          "output_type": "stream",
          "text": [
            "(256, 256, 1) 1.0 3.1524568e-11\n",
            "(256, 256, 3) (256, 256) (256, 256)\n",
            "_01_h_37\n",
            "(256, 256, 1) 1.0 1.33855895e-11\n",
            "(256, 256, 3) (256, 256) (256, 256)\n"
          ]
        },
        {
          "metadata": {
            "tags": null
          },
          "name": "stderr",
          "output_type": "stream",
          "text": [
            "  3%|▎         | 73/2520 [00:12<06:48,  6.00it/s]"
          ]
        },
        {
          "metadata": {
            "tags": null
          },
          "name": "stdout",
          "output_type": "stream",
          "text": [
            "_01_h_38\n",
            "(256, 256, 1) 1.0 3.808936e-13\n",
            "(256, 256, 3) (256, 256) (256, 256)\n",
            "_01_h_39\n"
          ]
        },
        {
          "metadata": {
            "tags": null
          },
          "name": "stderr",
          "output_type": "stream",
          "text": [
            "\r  3%|▎         | 74/2520 [00:13<06:47,  6.00it/s]"
          ]
        },
        {
          "metadata": {
            "tags": null
          },
          "name": "stdout",
          "output_type": "stream",
          "text": [
            "(256, 256, 1) 1.0 9.129934e-13\n",
            "(256, 256, 3) (256, 256) (256, 256)\n",
            "_01_h_4\n",
            "(256, 256, 1) 1.0 1.8545692e-12\n",
            "(256, 256, 3) (256, 256) (256, 256)\n"
          ]
        },
        {
          "metadata": {
            "tags": null
          },
          "name": "stderr",
          "output_type": "stream",
          "text": [
            "  3%|▎         | 76/2520 [00:13<06:41,  6.08it/s]"
          ]
        },
        {
          "metadata": {
            "tags": null
          },
          "name": "stdout",
          "output_type": "stream",
          "text": [
            "_01_h_40\n",
            "(256, 256, 1) 1.0 8.76075e-13\n",
            "(256, 256, 3) (256, 256) (256, 256)\n",
            "_01_h_41\n"
          ]
        },
        {
          "metadata": {
            "tags": null
          },
          "name": "stderr",
          "output_type": "stream",
          "text": [
            "\r  3%|▎         | 77/2520 [00:13<06:38,  6.13it/s]"
          ]
        },
        {
          "metadata": {
            "tags": null
          },
          "name": "stdout",
          "output_type": "stream",
          "text": [
            "(256, 256, 1) 1.0 4.7438845e-11\n",
            "(256, 256, 3) (256, 256) (256, 256)\n",
            "_01_h_42\n",
            "(256, 256, 1) 1.0 8.43512e-12\n",
            "(256, 256, 3) (256, 256) (256, 256)\n"
          ]
        },
        {
          "metadata": {
            "tags": null
          },
          "name": "stderr",
          "output_type": "stream",
          "text": [
            "  3%|▎         | 79/2520 [00:13<06:46,  6.01it/s]"
          ]
        },
        {
          "metadata": {
            "tags": null
          },
          "name": "stdout",
          "output_type": "stream",
          "text": [
            "_01_h_43\n",
            "(256, 256, 1) 1.0 4.8493405e-14\n",
            "(256, 256, 3) (256, 256) (256, 256)\n",
            "_01_h_44\n"
          ]
        },
        {
          "metadata": {
            "tags": null
          },
          "name": "stderr",
          "output_type": "stream",
          "text": [
            "\r  3%|▎         | 80/2520 [00:14<06:47,  5.99it/s]"
          ]
        },
        {
          "metadata": {
            "tags": null
          },
          "name": "stdout",
          "output_type": "stream",
          "text": [
            "(256, 256, 1) 1.0 1.1957658e-12\n",
            "(256, 256, 3) (256, 256) (256, 256)\n",
            "_01_h_45\n",
            "(256, 256, 1) 1.0 9.895905e-13\n",
            "(256, 256, 3) (256, 256) (256, 256)\n"
          ]
        },
        {
          "metadata": {
            "tags": null
          },
          "name": "stderr",
          "output_type": "stream",
          "text": [
            "  3%|▎         | 82/2520 [00:14<06:43,  6.04it/s]"
          ]
        },
        {
          "metadata": {
            "tags": null
          },
          "name": "stdout",
          "output_type": "stream",
          "text": [
            "_01_h_46\n",
            "(256, 256, 1) 1.0 2.665613e-12\n",
            "(256, 256, 3) (256, 256) (256, 256)\n",
            "_01_h_47\n"
          ]
        },
        {
          "metadata": {
            "tags": null
          },
          "name": "stderr",
          "output_type": "stream",
          "text": [
            "\r  3%|▎         | 83/2520 [00:14<06:45,  6.01it/s]"
          ]
        },
        {
          "metadata": {
            "tags": null
          },
          "name": "stdout",
          "output_type": "stream",
          "text": [
            "(256, 256, 1) 1.0 5.8543184e-11\n",
            "(256, 256, 3) (256, 256) (256, 256)\n",
            "_01_h_48\n",
            "(256, 256, 1) 1.0 3.2673933e-11\n",
            "(256, 256, 3) (256, 256) (256, 256)\n"
          ]
        },
        {
          "metadata": {
            "tags": null
          },
          "name": "stderr",
          "output_type": "stream",
          "text": [
            "  3%|▎         | 85/2520 [00:14<06:46,  6.00it/s]"
          ]
        },
        {
          "metadata": {
            "tags": null
          },
          "name": "stdout",
          "output_type": "stream",
          "text": [
            "_01_h_49\n",
            "(256, 256, 1) 1.0 2.169052e-11\n",
            "(256, 256, 3) (256, 256) (256, 256)\n",
            "_01_h_5\n"
          ]
        },
        {
          "metadata": {
            "tags": null
          },
          "name": "stderr",
          "output_type": "stream",
          "text": [
            "\r  3%|▎         | 86/2520 [00:15<06:49,  5.94it/s]"
          ]
        },
        {
          "metadata": {
            "tags": null
          },
          "name": "stdout",
          "output_type": "stream",
          "text": [
            "(256, 256, 1) 1.0 3.8198055e-13\n",
            "(256, 256, 3) (256, 256) (256, 256)\n",
            "_01_h_50\n",
            "(256, 256, 1) 1.0 4.906526e-12\n",
            "(256, 256, 3) (256, 256) (256, 256)\n"
          ]
        },
        {
          "metadata": {
            "tags": null
          },
          "name": "stderr",
          "output_type": "stream",
          "text": [
            "  3%|▎         | 88/2520 [00:15<06:54,  5.87it/s]"
          ]
        },
        {
          "metadata": {
            "tags": null
          },
          "name": "stdout",
          "output_type": "stream",
          "text": [
            "_01_h_51\n",
            "(256, 256, 1) 1.0 6.2635487e-12\n",
            "(256, 256, 3) (256, 256) (256, 256)\n",
            "_01_h_52\n"
          ]
        },
        {
          "metadata": {
            "tags": null
          },
          "name": "stderr",
          "output_type": "stream",
          "text": [
            "\r  4%|▎         | 89/2520 [00:15<06:52,  5.89it/s]"
          ]
        },
        {
          "metadata": {
            "tags": null
          },
          "name": "stdout",
          "output_type": "stream",
          "text": [
            "(256, 256, 1) 1.0 1.2597699e-10\n",
            "(256, 256, 3) (256, 256) (256, 256)\n",
            "_01_h_53\n",
            "(256, 256, 1) 1.0 2.4363536e-12\n",
            "(256, 256, 3) (256, 256) (256, 256)\n"
          ]
        },
        {
          "metadata": {
            "tags": null
          },
          "name": "stderr",
          "output_type": "stream",
          "text": [
            "  4%|▎         | 91/2520 [00:15<06:54,  5.86it/s]"
          ]
        },
        {
          "metadata": {
            "tags": null
          },
          "name": "stdout",
          "output_type": "stream",
          "text": [
            "_01_h_54\n",
            "(256, 256, 1) 1.0 6.681577e-13\n",
            "(256, 256, 3) (256, 256) (256, 256)\n",
            "_01_h_55\n"
          ]
        },
        {
          "metadata": {
            "tags": null
          },
          "name": "stderr",
          "output_type": "stream",
          "text": [
            "\r  4%|▎         | 92/2520 [00:16<06:50,  5.92it/s]"
          ]
        },
        {
          "metadata": {
            "tags": null
          },
          "name": "stdout",
          "output_type": "stream",
          "text": [
            "(256, 256, 1) 1.0 5.6501115e-13\n",
            "(256, 256, 3) (256, 256) (256, 256)\n",
            "_01_h_56\n",
            "(256, 256, 1) 1.0 6.295981e-13\n",
            "(256, 256, 3) (256, 256) (256, 256)\n"
          ]
        },
        {
          "metadata": {
            "tags": null
          },
          "name": "stderr",
          "output_type": "stream",
          "text": [
            "  4%|▎         | 94/2520 [00:16<06:40,  6.06it/s]"
          ]
        },
        {
          "metadata": {
            "tags": null
          },
          "name": "stdout",
          "output_type": "stream",
          "text": [
            "_01_h_57\n",
            "(256, 256, 1) 1.0 5.036184e-13\n",
            "(256, 256, 3) (256, 256) (256, 256)\n",
            "_01_h_58\n"
          ]
        },
        {
          "metadata": {
            "tags": null
          },
          "name": "stderr",
          "output_type": "stream",
          "text": [
            "\r  4%|▍         | 95/2520 [00:16<06:45,  5.98it/s]"
          ]
        },
        {
          "metadata": {
            "tags": null
          },
          "name": "stdout",
          "output_type": "stream",
          "text": [
            "(256, 256, 1) 1.0 6.370755e-13\n",
            "(256, 256, 3) (256, 256) (256, 256)\n",
            "_01_h_59\n",
            "(256, 256, 1) 1.0 3.860421e-12\n",
            "(256, 256, 3) (256, 256) (256, 256)\n"
          ]
        },
        {
          "metadata": {
            "tags": null
          },
          "name": "stderr",
          "output_type": "stream",
          "text": [
            "  4%|▍         | 97/2520 [00:16<06:43,  6.00it/s]"
          ]
        },
        {
          "metadata": {
            "tags": null
          },
          "name": "stdout",
          "output_type": "stream",
          "text": [
            "_01_h_6\n",
            "(256, 256, 1) 1.0 6.329095e-12\n",
            "(256, 256, 3) (256, 256) (256, 256)\n",
            "_01_h_60\n"
          ]
        },
        {
          "metadata": {
            "tags": null
          },
          "name": "stderr",
          "output_type": "stream",
          "text": [
            "\r  4%|▍         | 98/2520 [00:17<06:41,  6.03it/s]"
          ]
        },
        {
          "metadata": {
            "tags": null
          },
          "name": "stdout",
          "output_type": "stream",
          "text": [
            "(256, 256, 1) 1.0 1.4001294e-12\n",
            "(256, 256, 3) (256, 256) (256, 256)\n",
            "_01_h_61\n",
            "(256, 256, 1) 1.0 1.5806531e-11\n",
            "(256, 256, 3) (256, 256) (256, 256)\n"
          ]
        },
        {
          "metadata": {
            "tags": null
          },
          "name": "stderr",
          "output_type": "stream",
          "text": [
            "  4%|▍         | 100/2520 [00:17<06:40,  6.04it/s]"
          ]
        },
        {
          "metadata": {
            "tags": null
          },
          "name": "stdout",
          "output_type": "stream",
          "text": [
            "_01_h_62\n",
            "(256, 256, 1) 1.0 5.3674495e-12\n",
            "(256, 256, 3) (256, 256) (256, 256)\n",
            "_01_h_63\n"
          ]
        },
        {
          "metadata": {
            "tags": null
          },
          "name": "stderr",
          "output_type": "stream",
          "text": [
            "\r  4%|▍         | 101/2520 [00:17<06:39,  6.06it/s]"
          ]
        },
        {
          "metadata": {
            "tags": null
          },
          "name": "stdout",
          "output_type": "stream",
          "text": [
            "(256, 256, 1) 1.0 2.759728e-13\n",
            "(256, 256, 3) (256, 256) (256, 256)\n",
            "_01_h_64\n",
            "(256, 256, 1) 1.0 3.6424238e-13\n",
            "(256, 256, 3) (256, 256) (256, 256)\n"
          ]
        },
        {
          "metadata": {
            "tags": null
          },
          "name": "stderr",
          "output_type": "stream",
          "text": [
            "  4%|▍         | 103/2520 [00:17<06:42,  6.01it/s]"
          ]
        },
        {
          "metadata": {
            "tags": null
          },
          "name": "stdout",
          "output_type": "stream",
          "text": [
            "_01_h_65\n",
            "(256, 256, 1) 1.0 9.0328136e-13\n",
            "(256, 256, 3) (256, 256) (256, 256)\n",
            "_01_h_66\n"
          ]
        },
        {
          "metadata": {
            "tags": null
          },
          "name": "stderr",
          "output_type": "stream",
          "text": [
            "\r  4%|▍         | 104/2520 [00:18<06:43,  5.99it/s]"
          ]
        },
        {
          "metadata": {
            "tags": null
          },
          "name": "stdout",
          "output_type": "stream",
          "text": [
            "(256, 256, 1) 1.0 8.748851e-15\n",
            "(256, 256, 3) (256, 256) (256, 256)\n",
            "_01_h_67\n",
            "(256, 256, 1) 1.0 5.16796e-13\n",
            "(256, 256, 3) (256, 256) (256, 256)\n"
          ]
        },
        {
          "metadata": {
            "tags": null
          },
          "name": "stderr",
          "output_type": "stream",
          "text": [
            "  4%|▍         | 106/2520 [00:18<06:39,  6.04it/s]"
          ]
        },
        {
          "metadata": {
            "tags": null
          },
          "name": "stdout",
          "output_type": "stream",
          "text": [
            "_01_h_68\n",
            "(256, 256, 1) 1.0 6.84778e-13\n",
            "(256, 256, 3) (256, 256) (256, 256)\n",
            "_01_h_69\n"
          ]
        },
        {
          "metadata": {
            "tags": null
          },
          "name": "stderr",
          "output_type": "stream",
          "text": [
            "\r  4%|▍         | 107/2520 [00:18<06:36,  6.08it/s]"
          ]
        },
        {
          "metadata": {
            "tags": null
          },
          "name": "stdout",
          "output_type": "stream",
          "text": [
            "(256, 256, 1) 1.0 1.5163053e-12\n",
            "(256, 256, 3) (256, 256) (256, 256)\n",
            "_01_h_7\n",
            "(256, 256, 1) 1.0 3.5525088e-12\n",
            "(256, 256, 3) (256, 256) (256, 256)\n"
          ]
        },
        {
          "metadata": {
            "tags": null
          },
          "name": "stderr",
          "output_type": "stream",
          "text": [
            "  4%|▍         | 109/2520 [00:18<06:38,  6.05it/s]"
          ]
        },
        {
          "metadata": {
            "tags": null
          },
          "name": "stdout",
          "output_type": "stream",
          "text": [
            "_01_h_70\n",
            "(256, 256, 1) 1.0 1.2419434e-10\n",
            "(256, 256, 3) (256, 256) (256, 256)\n",
            "_01_h_71\n"
          ]
        },
        {
          "metadata": {
            "tags": null
          },
          "name": "stderr",
          "output_type": "stream",
          "text": [
            "\r  4%|▍         | 110/2520 [00:19<06:39,  6.03it/s]"
          ]
        },
        {
          "metadata": {
            "tags": null
          },
          "name": "stdout",
          "output_type": "stream",
          "text": [
            "(256, 256, 1) 1.0 7.792641e-13\n",
            "(256, 256, 3) (256, 256) (256, 256)\n",
            "_01_h_72\n",
            "(256, 256, 1) 1.0 2.8939633e-13\n",
            "(256, 256, 3) (256, 256) (256, 256)\n"
          ]
        },
        {
          "metadata": {
            "tags": null
          },
          "name": "stderr",
          "output_type": "stream",
          "text": [
            "  4%|▍         | 112/2520 [00:19<06:40,  6.01it/s]"
          ]
        },
        {
          "metadata": {
            "tags": null
          },
          "name": "stdout",
          "output_type": "stream",
          "text": [
            "_01_h_73\n",
            "(256, 256, 1) 1.0 3.2843476e-13\n",
            "(256, 256, 3) (256, 256) (256, 256)\n",
            "_01_h_74\n"
          ]
        },
        {
          "metadata": {
            "tags": null
          },
          "name": "stderr",
          "output_type": "stream",
          "text": [
            "\r  4%|▍         | 113/2520 [00:19<06:41,  5.99it/s]"
          ]
        },
        {
          "metadata": {
            "tags": null
          },
          "name": "stdout",
          "output_type": "stream",
          "text": [
            "(256, 256, 1) 1.0 6.5481613e-12\n",
            "(256, 256, 3) (256, 256) (256, 256)\n",
            "_01_h_75\n",
            "(256, 256, 1) 1.0 2.9729914e-12\n",
            "(256, 256, 3) (256, 256) (256, 256)\n"
          ]
        },
        {
          "metadata": {
            "tags": null
          },
          "name": "stderr",
          "output_type": "stream",
          "text": [
            "  5%|▍         | 115/2520 [00:19<06:46,  5.92it/s]"
          ]
        },
        {
          "metadata": {
            "tags": null
          },
          "name": "stdout",
          "output_type": "stream",
          "text": [
            "_01_h_76\n",
            "(256, 256, 1) 1.0 1.552871e-11\n",
            "(256, 256, 3) (256, 256) (256, 256)\n",
            "_01_h_77\n"
          ]
        },
        {
          "metadata": {
            "tags": null
          },
          "name": "stderr",
          "output_type": "stream",
          "text": [
            "\r  5%|▍         | 116/2520 [00:20<06:44,  5.95it/s]"
          ]
        },
        {
          "metadata": {
            "tags": null
          },
          "name": "stdout",
          "output_type": "stream",
          "text": [
            "(256, 256, 1) 1.0 5.053189e-12\n",
            "(256, 256, 3) (256, 256) (256, 256)\n",
            "_01_h_78\n",
            "(256, 256, 1) 1.0 1.8314289e-12\n",
            "(256, 256, 3) (256, 256) (256, 256)\n"
          ]
        },
        {
          "metadata": {
            "tags": null
          },
          "name": "stderr",
          "output_type": "stream",
          "text": [
            "  5%|▍         | 118/2520 [00:20<06:43,  5.95it/s]"
          ]
        },
        {
          "metadata": {
            "tags": null
          },
          "name": "stdout",
          "output_type": "stream",
          "text": [
            "_01_h_79\n",
            "(256, 256, 1) 1.0 1.7485685e-12\n",
            "(256, 256, 3) (256, 256) (256, 256)\n",
            "_01_h_8\n"
          ]
        },
        {
          "metadata": {
            "tags": null
          },
          "name": "stderr",
          "output_type": "stream",
          "text": [
            "\r  5%|▍         | 119/2520 [00:20<06:47,  5.89it/s]"
          ]
        },
        {
          "metadata": {
            "tags": null
          },
          "name": "stdout",
          "output_type": "stream",
          "text": [
            "(256, 256, 1) 1.0 9.593525e-13\n",
            "(256, 256, 3) (256, 256) (256, 256)\n",
            "_01_h_80\n",
            "(256, 256, 1) 1.0 3.9400972e-13\n",
            "(256, 256, 3) (256, 256) (256, 256)\n"
          ]
        },
        {
          "metadata": {
            "tags": null
          },
          "name": "stderr",
          "output_type": "stream",
          "text": [
            "  5%|▍         | 121/2520 [00:20<06:45,  5.91it/s]"
          ]
        },
        {
          "metadata": {
            "tags": null
          },
          "name": "stdout",
          "output_type": "stream",
          "text": [
            "_01_h_81\n",
            "(256, 256, 1) 1.0 3.8040263e-14\n",
            "(256, 256, 3) (256, 256) (256, 256)\n",
            "_01_h_82\n"
          ]
        },
        {
          "metadata": {
            "tags": null
          },
          "name": "stderr",
          "output_type": "stream",
          "text": [
            "\r  5%|▍         | 122/2520 [00:21<06:43,  5.95it/s]"
          ]
        },
        {
          "metadata": {
            "tags": null
          },
          "name": "stdout",
          "output_type": "stream",
          "text": [
            "(256, 256, 1) 1.0 8.607917e-13\n",
            "(256, 256, 3) (256, 256) (256, 256)\n",
            "_01_h_83\n",
            "(256, 256, 1) 1.0 2.7745443e-12\n",
            "(256, 256, 3) (256, 256) (256, 256)\n"
          ]
        },
        {
          "metadata": {
            "tags": null
          },
          "name": "stderr",
          "output_type": "stream",
          "text": [
            "  5%|▍         | 124/2520 [00:21<06:32,  6.11it/s]"
          ]
        },
        {
          "metadata": {
            "tags": null
          },
          "name": "stdout",
          "output_type": "stream",
          "text": [
            "_01_h_84\n",
            "(256, 256, 1) 1.0 1.0286964e-10\n",
            "(256, 256, 3) (256, 256) (256, 256)\n",
            "_01_h_85\n"
          ]
        },
        {
          "metadata": {
            "tags": null
          },
          "name": "stderr",
          "output_type": "stream",
          "text": [
            "\r  5%|▍         | 125/2520 [00:21<06:31,  6.12it/s]"
          ]
        },
        {
          "metadata": {
            "tags": null
          },
          "name": "stdout",
          "output_type": "stream",
          "text": [
            "(256, 256, 1) 1.0 8.959564e-13\n",
            "(256, 256, 3) (256, 256) (256, 256)\n",
            "_01_h_86\n",
            "(256, 256, 1) 1.0 1.855192e-12\n",
            "(256, 256, 3) (256, 256) (256, 256)\n"
          ]
        },
        {
          "metadata": {
            "tags": null
          },
          "name": "stderr",
          "output_type": "stream",
          "text": [
            "  5%|▌         | 127/2520 [00:21<06:45,  5.90it/s]"
          ]
        },
        {
          "metadata": {
            "tags": null
          },
          "name": "stdout",
          "output_type": "stream",
          "text": [
            "_01_h_87\n",
            "(256, 256, 1) 1.0 1.2567351e-12\n",
            "(256, 256, 3) (256, 256) (256, 256)\n",
            "_01_h_88\n"
          ]
        },
        {
          "metadata": {
            "tags": null
          },
          "name": "stderr",
          "output_type": "stream",
          "text": [
            "\r  5%|▌         | 128/2520 [00:22<06:46,  5.88it/s]"
          ]
        },
        {
          "metadata": {
            "tags": null
          },
          "name": "stdout",
          "output_type": "stream",
          "text": [
            "(256, 256, 1) 1.0 5.461068e-13\n",
            "(256, 256, 3) (256, 256) (256, 256)\n",
            "_01_h_89\n",
            "(256, 256, 1) 1.0 1.0257114e-12\n",
            "(256, 256, 3) (256, 256) (256, 256)\n"
          ]
        },
        {
          "metadata": {
            "tags": null
          },
          "name": "stderr",
          "output_type": "stream",
          "text": [
            "  5%|▌         | 130/2520 [00:22<06:38,  6.00it/s]"
          ]
        },
        {
          "metadata": {
            "tags": null
          },
          "name": "stdout",
          "output_type": "stream",
          "text": [
            "_01_h_9\n",
            "(256, 256, 1) 1.0 2.1376234e-12\n",
            "(256, 256, 3) (256, 256) (256, 256)\n",
            "_01_h_90\n"
          ]
        },
        {
          "metadata": {
            "tags": null
          },
          "name": "stderr",
          "output_type": "stream",
          "text": [
            "\r  5%|▌         | 131/2520 [00:22<06:35,  6.05it/s]"
          ]
        },
        {
          "metadata": {
            "tags": null
          },
          "name": "stdout",
          "output_type": "stream",
          "text": [
            "(256, 256, 1) 1.0 7.1089483e-13\n",
            "(256, 256, 3) (256, 256) (256, 256)\n",
            "_01_h_91\n",
            "(256, 256, 1) 1.0 9.43829e-13\n",
            "(256, 256, 3) (256, 256) (256, 256)\n"
          ]
        },
        {
          "metadata": {
            "tags": null
          },
          "name": "stderr",
          "output_type": "stream",
          "text": [
            "  5%|▌         | 133/2520 [00:22<06:37,  6.01it/s]"
          ]
        },
        {
          "metadata": {
            "tags": null
          },
          "name": "stdout",
          "output_type": "stream",
          "text": [
            "_01_h_92\n",
            "(256, 256, 1) 1.0 2.2718336e-11\n",
            "(256, 256, 3) (256, 256) (256, 256)\n",
            "_01_h_93\n"
          ]
        },
        {
          "metadata": {
            "tags": null
          },
          "name": "stderr",
          "output_type": "stream",
          "text": [
            "\r  5%|▌         | 134/2520 [00:23<06:36,  6.02it/s]"
          ]
        },
        {
          "metadata": {
            "tags": null
          },
          "name": "stdout",
          "output_type": "stream",
          "text": [
            "(256, 256, 1) 1.0 1.9868696e-10\n",
            "(256, 256, 3) (256, 256) (256, 256)\n",
            "_01_h_94\n",
            "(256, 256, 1) 1.0 5.6147295e-11\n",
            "(256, 256, 3) (256, 256) (256, 256)\n"
          ]
        },
        {
          "metadata": {
            "tags": null
          },
          "name": "stderr",
          "output_type": "stream",
          "text": [
            "  5%|▌         | 136/2520 [00:23<06:40,  5.95it/s]"
          ]
        },
        {
          "metadata": {
            "tags": null
          },
          "name": "stdout",
          "output_type": "stream",
          "text": [
            "_01_h_95\n",
            "(256, 256, 1) 1.0 1.183768e-12\n",
            "(256, 256, 3) (256, 256) (256, 256)\n",
            "_01_h_96\n"
          ]
        },
        {
          "metadata": {
            "tags": null
          },
          "name": "stderr",
          "output_type": "stream",
          "text": [
            "\r  5%|▌         | 137/2520 [00:23<06:44,  5.89it/s]"
          ]
        },
        {
          "metadata": {
            "tags": null
          },
          "name": "stdout",
          "output_type": "stream",
          "text": [
            "(256, 256, 1) 1.0 3.776371e-12\n",
            "(256, 256, 3) (256, 256) (256, 256)\n",
            "_01_h_97\n",
            "(256, 256, 1) 1.0 5.1165225e-11\n",
            "(256, 256, 3) (256, 256) (256, 256)\n"
          ]
        },
        {
          "metadata": {
            "tags": null
          },
          "name": "stderr",
          "output_type": "stream",
          "text": [
            "  5%|▌         | 138/2520 [00:23<06:42,  5.92it/s]/usr/local/lib/python3.7/dist-packages/sklearn/metrics/_classification.py:1580: UndefinedMetricWarning: F-score is ill-defined and being set to 0.0 due to no true nor predicted samples. Use `zero_division` parameter to control this behavior.\n",
            "  _warn_prf(average, \"true nor predicted\", \"F-score is\", len(true_sum))\n",
            "/usr/local/lib/python3.7/dist-packages/sklearn/metrics/_classification.py:1318: UndefinedMetricWarning: Jaccard is ill-defined and being set to 0.0 due to no true or predicted samples. Use `zero_division` parameter to control this behavior.\n",
            "  _warn_prf(average, modifier, msg_start, len(result))\n",
            "/usr/local/lib/python3.7/dist-packages/sklearn/metrics/_classification.py:1318: UndefinedMetricWarning: Recall is ill-defined and being set to 0.0 due to no true samples. Use `zero_division` parameter to control this behavior.\n",
            "  _warn_prf(average, modifier, msg_start, len(result))\n",
            "/usr/local/lib/python3.7/dist-packages/sklearn/metrics/_classification.py:1318: UndefinedMetricWarning: Precision is ill-defined and being set to 0.0 due to no predicted samples. Use `zero_division` parameter to control this behavior.\n",
            "  _warn_prf(average, modifier, msg_start, len(result))\n",
            "  6%|▌         | 139/2520 [00:23<06:32,  6.07it/s]"
          ]
        },
        {
          "metadata": {
            "tags": null
          },
          "name": "stdout",
          "output_type": "stream",
          "text": [
            "_01_h_98\n",
            "(256, 256, 1) 9.153186e-06 6.6890755e-09\n",
            "(256, 256, 3) (256, 256) (256, 256)\n",
            "_01_h_99\n"
          ]
        },
        {
          "metadata": {
            "tags": null
          },
          "name": "stderr",
          "output_type": "stream",
          "text": [
            "\r  6%|▌         | 140/2520 [00:24<06:39,  5.96it/s]"
          ]
        },
        {
          "metadata": {
            "tags": null
          },
          "name": "stdout",
          "output_type": "stream",
          "text": [
            "(256, 256, 1) 1.0 1.5674066e-12\n",
            "(256, 256, 3) (256, 256) (256, 256)\n",
            "_02_g_0\n",
            "(256, 256, 1) 1.1837819e-05 3.1136406e-07\n",
            "(256, 256, 3) (256, 256) (256, 256)\n"
          ]
        },
        {
          "metadata": {
            "tags": null
          },
          "name": "stderr",
          "output_type": "stream",
          "text": [
            "/usr/local/lib/python3.7/dist-packages/sklearn/metrics/_classification.py:1580: UndefinedMetricWarning: F-score is ill-defined and being set to 0.0 due to no true nor predicted samples. Use `zero_division` parameter to control this behavior.\n",
            "  _warn_prf(average, \"true nor predicted\", \"F-score is\", len(true_sum))\n",
            "/usr/local/lib/python3.7/dist-packages/sklearn/metrics/_classification.py:1318: UndefinedMetricWarning: Jaccard is ill-defined and being set to 0.0 due to no true or predicted samples. Use `zero_division` parameter to control this behavior.\n",
            "  _warn_prf(average, modifier, msg_start, len(result))\n",
            "/usr/local/lib/python3.7/dist-packages/sklearn/metrics/_classification.py:1318: UndefinedMetricWarning: Recall is ill-defined and being set to 0.0 due to no true samples. Use `zero_division` parameter to control this behavior.\n",
            "  _warn_prf(average, modifier, msg_start, len(result))\n",
            "/usr/local/lib/python3.7/dist-packages/sklearn/metrics/_classification.py:1318: UndefinedMetricWarning: Precision is ill-defined and being set to 0.0 due to no predicted samples. Use `zero_division` parameter to control this behavior.\n",
            "  _warn_prf(average, modifier, msg_start, len(result))\n",
            "  6%|▌         | 141/2520 [00:24<06:28,  6.12it/s]/usr/local/lib/python3.7/dist-packages/sklearn/metrics/_classification.py:1580: UndefinedMetricWarning: F-score is ill-defined and being set to 0.0 due to no true nor predicted samples. Use `zero_division` parameter to control this behavior.\n",
            "  _warn_prf(average, \"true nor predicted\", \"F-score is\", len(true_sum))\n",
            "/usr/local/lib/python3.7/dist-packages/sklearn/metrics/_classification.py:1318: UndefinedMetricWarning: Jaccard is ill-defined and being set to 0.0 due to no true or predicted samples. Use `zero_division` parameter to control this behavior.\n",
            "  _warn_prf(average, modifier, msg_start, len(result))\n",
            "/usr/local/lib/python3.7/dist-packages/sklearn/metrics/_classification.py:1318: UndefinedMetricWarning: Recall is ill-defined and being set to 0.0 due to no true samples. Use `zero_division` parameter to control this behavior.\n",
            "  _warn_prf(average, modifier, msg_start, len(result))\n",
            "/usr/local/lib/python3.7/dist-packages/sklearn/metrics/_classification.py:1318: UndefinedMetricWarning: Precision is ill-defined and being set to 0.0 due to no predicted samples. Use `zero_division` parameter to control this behavior.\n",
            "  _warn_prf(average, modifier, msg_start, len(result))\n",
            "  6%|▌         | 142/2520 [00:24<06:15,  6.34it/s]"
          ]
        },
        {
          "metadata": {
            "tags": null
          },
          "name": "stdout",
          "output_type": "stream",
          "text": [
            "_02_g_1\n",
            "(256, 256, 1) 1.1188682e-05 2.84258e-07\n",
            "(256, 256, 3) (256, 256) (256, 256)\n",
            "_02_g_10\n"
          ]
        },
        {
          "metadata": {
            "tags": null
          },
          "name": "stderr",
          "output_type": "stream",
          "text": [
            "\r  6%|▌         | 143/2520 [00:24<06:23,  6.20it/s]"
          ]
        },
        {
          "metadata": {
            "tags": null
          },
          "name": "stdout",
          "output_type": "stream",
          "text": [
            "(256, 256, 1) 1.0 1.3671061e-12\n",
            "(256, 256, 3) (256, 256) (256, 256)\n",
            "_02_g_100\n",
            "(256, 256, 1) 1.0 1.2180758e-13\n",
            "(256, 256, 3) (256, 256) (256, 256)\n"
          ]
        },
        {
          "metadata": {
            "tags": null
          },
          "name": "stderr",
          "output_type": "stream",
          "text": [
            "  6%|▌         | 145/2520 [00:24<06:31,  6.07it/s]"
          ]
        },
        {
          "metadata": {
            "tags": null
          },
          "name": "stdout",
          "output_type": "stream",
          "text": [
            "_02_g_101\n",
            "(256, 256, 1) 1.0 1.0375487e-12\n",
            "(256, 256, 3) (256, 256) (256, 256)\n",
            "_02_g_102\n"
          ]
        },
        {
          "metadata": {
            "tags": null
          },
          "name": "stderr",
          "output_type": "stream",
          "text": [
            "\r  6%|▌         | 146/2520 [00:25<06:32,  6.04it/s]"
          ]
        },
        {
          "metadata": {
            "tags": null
          },
          "name": "stdout",
          "output_type": "stream",
          "text": [
            "(256, 256, 1) 1.0 8.7150344e-13\n",
            "(256, 256, 3) (256, 256) (256, 256)\n",
            "_02_g_103\n",
            "(256, 256, 1) 1.0 1.7754948e-12\n",
            "(256, 256, 3) (256, 256) (256, 256)\n"
          ]
        },
        {
          "metadata": {
            "tags": null
          },
          "name": "stderr",
          "output_type": "stream",
          "text": [
            "  6%|▌         | 148/2520 [00:25<06:37,  5.97it/s]"
          ]
        },
        {
          "metadata": {
            "tags": null
          },
          "name": "stdout",
          "output_type": "stream",
          "text": [
            "_02_g_104\n",
            "(256, 256, 1) 1.0 3.85749e-13\n",
            "(256, 256, 3) (256, 256) (256, 256)\n",
            "_02_g_105\n"
          ]
        },
        {
          "metadata": {
            "tags": null
          },
          "name": "stderr",
          "output_type": "stream",
          "text": [
            "\r  6%|▌         | 149/2520 [00:25<06:37,  5.97it/s]"
          ]
        },
        {
          "metadata": {
            "tags": null
          },
          "name": "stdout",
          "output_type": "stream",
          "text": [
            "(256, 256, 1) 1.0 3.660364e-13\n",
            "(256, 256, 3) (256, 256) (256, 256)\n",
            "_02_g_106\n",
            "(256, 256, 1) 1.0 1.9056675e-12\n",
            "(256, 256, 3) (256, 256) (256, 256)\n"
          ]
        },
        {
          "metadata": {
            "tags": null
          },
          "name": "stderr",
          "output_type": "stream",
          "text": [
            "  6%|▌         | 151/2520 [00:25<06:41,  5.90it/s]"
          ]
        },
        {
          "metadata": {
            "tags": null
          },
          "name": "stdout",
          "output_type": "stream",
          "text": [
            "_02_g_107\n",
            "(256, 256, 1) 1.0 3.530695e-13\n",
            "(256, 256, 3) (256, 256) (256, 256)\n",
            "_02_g_108\n"
          ]
        },
        {
          "metadata": {
            "tags": null
          },
          "name": "stderr",
          "output_type": "stream",
          "text": [
            "\r  6%|▌         | 152/2520 [00:26<06:41,  5.90it/s]"
          ]
        },
        {
          "metadata": {
            "tags": null
          },
          "name": "stdout",
          "output_type": "stream",
          "text": [
            "(256, 256, 1) 1.0 1.8412736e-13\n",
            "(256, 256, 3) (256, 256) (256, 256)\n",
            "_02_g_109\n",
            "(256, 256, 1) 1.0 1.4215618e-13\n",
            "(256, 256, 3) (256, 256) (256, 256)\n"
          ]
        },
        {
          "metadata": {
            "tags": null
          },
          "name": "stderr",
          "output_type": "stream",
          "text": [
            "  6%|▌         | 154/2520 [00:26<06:33,  6.01it/s]"
          ]
        },
        {
          "metadata": {
            "tags": null
          },
          "name": "stdout",
          "output_type": "stream",
          "text": [
            "_02_g_11\n",
            "(256, 256, 1) 1.0 1.7479592e-11\n",
            "(256, 256, 3) (256, 256) (256, 256)\n",
            "_02_g_110\n"
          ]
        },
        {
          "metadata": {
            "tags": null
          },
          "name": "stderr",
          "output_type": "stream",
          "text": [
            "\r  6%|▌         | 155/2520 [00:26<06:35,  5.99it/s]"
          ]
        },
        {
          "metadata": {
            "tags": null
          },
          "name": "stdout",
          "output_type": "stream",
          "text": [
            "(256, 256, 1) 1.0 1.2452646e-13\n",
            "(256, 256, 3) (256, 256) (256, 256)\n",
            "_02_g_111\n",
            "(256, 256, 1) 1.0 6.055531e-11\n",
            "(256, 256, 3) (256, 256) (256, 256)\n"
          ]
        },
        {
          "metadata": {
            "tags": null
          },
          "name": "stderr",
          "output_type": "stream",
          "text": [
            "/usr/local/lib/python3.7/dist-packages/sklearn/metrics/_classification.py:1318: UndefinedMetricWarning: Recall is ill-defined and being set to 0.0 due to no true samples. Use `zero_division` parameter to control this behavior.\n",
            "  _warn_prf(average, modifier, msg_start, len(result))\n",
            "  6%|▌         | 156/2520 [00:26<06:23,  6.16it/s]/usr/local/lib/python3.7/dist-packages/sklearn/metrics/_classification.py:1580: UndefinedMetricWarning: F-score is ill-defined and being set to 0.0 due to no true nor predicted samples. Use `zero_division` parameter to control this behavior.\n",
            "  _warn_prf(average, \"true nor predicted\", \"F-score is\", len(true_sum))\n",
            "/usr/local/lib/python3.7/dist-packages/sklearn/metrics/_classification.py:1318: UndefinedMetricWarning: Jaccard is ill-defined and being set to 0.0 due to no true or predicted samples. Use `zero_division` parameter to control this behavior.\n",
            "  _warn_prf(average, modifier, msg_start, len(result))\n",
            "/usr/local/lib/python3.7/dist-packages/sklearn/metrics/_classification.py:1318: UndefinedMetricWarning: Recall is ill-defined and being set to 0.0 due to no true samples. Use `zero_division` parameter to control this behavior.\n",
            "  _warn_prf(average, modifier, msg_start, len(result))\n",
            "/usr/local/lib/python3.7/dist-packages/sklearn/metrics/_classification.py:1318: UndefinedMetricWarning: Precision is ill-defined and being set to 0.0 due to no predicted samples. Use `zero_division` parameter to control this behavior.\n",
            "  _warn_prf(average, modifier, msg_start, len(result))\n",
            "  6%|▌         | 157/2520 [00:26<06:17,  6.26it/s]"
          ]
        },
        {
          "metadata": {
            "tags": null
          },
          "name": "stdout",
          "output_type": "stream",
          "text": [
            "_02_g_112\n",
            "(256, 256, 1) 1.1541721e-05 3.1134388e-07\n",
            "(256, 256, 3) (256, 256) (256, 256)\n",
            "_02_g_113\n"
          ]
        },
        {
          "metadata": {
            "tags": null
          },
          "name": "stderr",
          "output_type": "stream",
          "text": [
            "\r  6%|▋         | 158/2520 [00:27<06:21,  6.19it/s]"
          ]
        },
        {
          "metadata": {
            "tags": null
          },
          "name": "stdout",
          "output_type": "stream",
          "text": [
            "(256, 256, 1) 1.0 6.158082e-13\n",
            "(256, 256, 3) (256, 256) (256, 256)\n",
            "_02_g_114\n",
            "(256, 256, 1) 1.0 9.349113e-14\n",
            "(256, 256, 3) (256, 256) (256, 256)\n"
          ]
        },
        {
          "metadata": {
            "tags": null
          },
          "name": "stderr",
          "output_type": "stream",
          "text": [
            "  6%|▋         | 160/2520 [00:27<06:36,  5.95it/s]"
          ]
        },
        {
          "metadata": {
            "tags": null
          },
          "name": "stdout",
          "output_type": "stream",
          "text": [
            "_02_g_115\n",
            "(256, 256, 1) 1.0 8.2895924e-13\n",
            "(256, 256, 3) (256, 256) (256, 256)\n",
            "_02_g_116\n"
          ]
        },
        {
          "metadata": {
            "tags": null
          },
          "name": "stderr",
          "output_type": "stream",
          "text": [
            "\r  6%|▋         | 161/2520 [00:27<06:43,  5.85it/s]"
          ]
        },
        {
          "metadata": {
            "tags": null
          },
          "name": "stdout",
          "output_type": "stream",
          "text": [
            "(256, 256, 1) 1.0 2.2665951e-12\n",
            "(256, 256, 3) (256, 256) (256, 256)\n",
            "_02_g_117\n",
            "(256, 256, 1) 1.0 4.8018657e-14\n",
            "(256, 256, 3) (256, 256) (256, 256)\n"
          ]
        },
        {
          "metadata": {
            "tags": null
          },
          "name": "stderr",
          "output_type": "stream",
          "text": [
            "  6%|▋         | 163/2520 [00:27<06:38,  5.92it/s]"
          ]
        },
        {
          "metadata": {
            "tags": null
          },
          "name": "stdout",
          "output_type": "stream",
          "text": [
            "_02_g_118\n",
            "(256, 256, 1) 1.0 5.9096022e-12\n",
            "(256, 256, 3) (256, 256) (256, 256)\n",
            "_02_g_119\n"
          ]
        },
        {
          "metadata": {
            "tags": null
          },
          "name": "stderr",
          "output_type": "stream",
          "text": [
            "\r  7%|▋         | 164/2520 [00:28<06:40,  5.89it/s]"
          ]
        },
        {
          "metadata": {
            "tags": null
          },
          "name": "stdout",
          "output_type": "stream",
          "text": [
            "(256, 256, 1) 1.0 1.617615e-12\n",
            "(256, 256, 3) (256, 256) (256, 256)\n",
            "_02_g_12\n",
            "(256, 256, 1) 0.9925876 4.30665e-09\n",
            "(256, 256, 3) (256, 256) (256, 256)\n"
          ]
        },
        {
          "metadata": {
            "tags": null
          },
          "name": "stderr",
          "output_type": "stream",
          "text": [
            "/usr/local/lib/python3.7/dist-packages/sklearn/metrics/_classification.py:1318: UndefinedMetricWarning: Recall is ill-defined and being set to 0.0 due to no true samples. Use `zero_division` parameter to control this behavior.\n",
            "  _warn_prf(average, modifier, msg_start, len(result))\n",
            "  7%|▋         | 166/2520 [00:28<06:27,  6.08it/s]"
          ]
        },
        {
          "metadata": {
            "tags": null
          },
          "name": "stdout",
          "output_type": "stream",
          "text": [
            "_02_g_120\n",
            "(256, 256, 1) 1.0 1.7590597e-11\n",
            "(256, 256, 3) (256, 256) (256, 256)\n",
            "_02_g_121\n"
          ]
        },
        {
          "metadata": {
            "tags": null
          },
          "name": "stderr",
          "output_type": "stream",
          "text": [
            "\r  7%|▋         | 167/2520 [00:28<06:35,  5.95it/s]"
          ]
        },
        {
          "metadata": {
            "tags": null
          },
          "name": "stdout",
          "output_type": "stream",
          "text": [
            "(256, 256, 1) 1.0 1.2503513e-12\n",
            "(256, 256, 3) (256, 256) (256, 256)\n",
            "_02_g_122\n",
            "(256, 256, 1) 1.0 1.2033848e-12\n",
            "(256, 256, 3) (256, 256) (256, 256)\n"
          ]
        },
        {
          "metadata": {
            "tags": null
          },
          "name": "stderr",
          "output_type": "stream",
          "text": [
            "  7%|▋         | 169/2520 [00:28<06:38,  5.90it/s]"
          ]
        },
        {
          "metadata": {
            "tags": null
          },
          "name": "stdout",
          "output_type": "stream",
          "text": [
            "_02_g_123\n",
            "(256, 256, 1) 1.0 1.1591109e-12\n",
            "(256, 256, 3) (256, 256) (256, 256)\n",
            "_02_g_124\n"
          ]
        },
        {
          "metadata": {
            "tags": null
          },
          "name": "stderr",
          "output_type": "stream",
          "text": [
            "\r  7%|▋         | 170/2520 [00:29<06:37,  5.91it/s]"
          ]
        },
        {
          "metadata": {
            "tags": null
          },
          "name": "stdout",
          "output_type": "stream",
          "text": [
            "(256, 256, 1) 1.0 4.695422e-13\n",
            "(256, 256, 3) (256, 256) (256, 256)\n",
            "_02_g_125\n",
            "(256, 256, 1) 1.095563e-05 2.564907e-07\n",
            "(256, 256, 3) (256, 256) (256, 256)\n"
          ]
        },
        {
          "metadata": {
            "tags": null
          },
          "name": "stderr",
          "output_type": "stream",
          "text": [
            "/usr/local/lib/python3.7/dist-packages/sklearn/metrics/_classification.py:1580: UndefinedMetricWarning: F-score is ill-defined and being set to 0.0 due to no true nor predicted samples. Use `zero_division` parameter to control this behavior.\n",
            "  _warn_prf(average, \"true nor predicted\", \"F-score is\", len(true_sum))\n",
            "/usr/local/lib/python3.7/dist-packages/sklearn/metrics/_classification.py:1318: UndefinedMetricWarning: Jaccard is ill-defined and being set to 0.0 due to no true or predicted samples. Use `zero_division` parameter to control this behavior.\n",
            "  _warn_prf(average, modifier, msg_start, len(result))\n",
            "/usr/local/lib/python3.7/dist-packages/sklearn/metrics/_classification.py:1318: UndefinedMetricWarning: Recall is ill-defined and being set to 0.0 due to no true samples. Use `zero_division` parameter to control this behavior.\n",
            "  _warn_prf(average, modifier, msg_start, len(result))\n",
            "/usr/local/lib/python3.7/dist-packages/sklearn/metrics/_classification.py:1318: UndefinedMetricWarning: Precision is ill-defined and being set to 0.0 due to no predicted samples. Use `zero_division` parameter to control this behavior.\n",
            "  _warn_prf(average, modifier, msg_start, len(result))\n",
            "  7%|▋         | 171/2520 [00:29<06:24,  6.10it/s]/usr/local/lib/python3.7/dist-packages/sklearn/metrics/_classification.py:1580: UndefinedMetricWarning: F-score is ill-defined and being set to 0.0 due to no true nor predicted samples. Use `zero_division` parameter to control this behavior.\n",
            "  _warn_prf(average, \"true nor predicted\", \"F-score is\", len(true_sum))\n",
            "/usr/local/lib/python3.7/dist-packages/sklearn/metrics/_classification.py:1318: UndefinedMetricWarning: Jaccard is ill-defined and being set to 0.0 due to no true or predicted samples. Use `zero_division` parameter to control this behavior.\n",
            "  _warn_prf(average, modifier, msg_start, len(result))\n",
            "/usr/local/lib/python3.7/dist-packages/sklearn/metrics/_classification.py:1318: UndefinedMetricWarning: Recall is ill-defined and being set to 0.0 due to no true samples. Use `zero_division` parameter to control this behavior.\n",
            "  _warn_prf(average, modifier, msg_start, len(result))\n",
            "/usr/local/lib/python3.7/dist-packages/sklearn/metrics/_classification.py:1318: UndefinedMetricWarning: Precision is ill-defined and being set to 0.0 due to no predicted samples. Use `zero_division` parameter to control this behavior.\n",
            "  _warn_prf(average, modifier, msg_start, len(result))\n",
            "  7%|▋         | 172/2520 [00:29<06:14,  6.27it/s]"
          ]
        },
        {
          "metadata": {
            "tags": null
          },
          "name": "stdout",
          "output_type": "stream",
          "text": [
            "_02_g_126\n",
            "(256, 256, 1) 1.0990383e-05 3.1129312e-07\n",
            "(256, 256, 3) (256, 256) (256, 256)\n",
            "_02_g_127\n"
          ]
        },
        {
          "metadata": {
            "tags": null
          },
          "name": "stderr",
          "output_type": "stream",
          "text": [
            "/usr/local/lib/python3.7/dist-packages/sklearn/metrics/_classification.py:1580: UndefinedMetricWarning: F-score is ill-defined and being set to 0.0 due to no true nor predicted samples. Use `zero_division` parameter to control this behavior.\n",
            "  _warn_prf(average, \"true nor predicted\", \"F-score is\", len(true_sum))\n",
            "/usr/local/lib/python3.7/dist-packages/sklearn/metrics/_classification.py:1318: UndefinedMetricWarning: Jaccard is ill-defined and being set to 0.0 due to no true or predicted samples. Use `zero_division` parameter to control this behavior.\n",
            "  _warn_prf(average, modifier, msg_start, len(result))\n",
            "/usr/local/lib/python3.7/dist-packages/sklearn/metrics/_classification.py:1318: UndefinedMetricWarning: Recall is ill-defined and being set to 0.0 due to no true samples. Use `zero_division` parameter to control this behavior.\n",
            "  _warn_prf(average, modifier, msg_start, len(result))\n",
            "/usr/local/lib/python3.7/dist-packages/sklearn/metrics/_classification.py:1318: UndefinedMetricWarning: Precision is ill-defined and being set to 0.0 due to no predicted samples. Use `zero_division` parameter to control this behavior.\n",
            "  _warn_prf(average, modifier, msg_start, len(result))\n",
            "\r  7%|▋         | 173/2520 [00:29<06:03,  6.46it/s]"
          ]
        },
        {
          "metadata": {
            "tags": null
          },
          "name": "stdout",
          "output_type": "stream",
          "text": [
            "(256, 256, 1) 1.0990383e-05 2.3241563e-07\n",
            "(256, 256, 3) (256, 256) (256, 256)\n",
            "_02_g_128\n",
            "(256, 256, 1) 1.0 2.7256947e-12\n",
            "(256, 256, 3) (256, 256) (256, 256)\n"
          ]
        },
        {
          "metadata": {
            "tags": null
          },
          "name": "stderr",
          "output_type": "stream",
          "text": [
            "  7%|▋         | 175/2520 [00:29<06:23,  6.12it/s]"
          ]
        },
        {
          "metadata": {
            "tags": null
          },
          "name": "stdout",
          "output_type": "stream",
          "text": [
            "_02_g_129\n",
            "(256, 256, 1) 1.0 1.2921145e-13\n",
            "(256, 256, 3) (256, 256) (256, 256)\n",
            "_02_g_13\n"
          ]
        },
        {
          "metadata": {
            "tags": null
          },
          "name": "stderr",
          "output_type": "stream",
          "text": [
            "/usr/local/lib/python3.7/dist-packages/sklearn/metrics/_classification.py:1580: UndefinedMetricWarning: F-score is ill-defined and being set to 0.0 due to no true nor predicted samples. Use `zero_division` parameter to control this behavior.\n",
            "  _warn_prf(average, \"true nor predicted\", \"F-score is\", len(true_sum))\n",
            "/usr/local/lib/python3.7/dist-packages/sklearn/metrics/_classification.py:1318: UndefinedMetricWarning: Jaccard is ill-defined and being set to 0.0 due to no true or predicted samples. Use `zero_division` parameter to control this behavior.\n",
            "  _warn_prf(average, modifier, msg_start, len(result))\n",
            "/usr/local/lib/python3.7/dist-packages/sklearn/metrics/_classification.py:1318: UndefinedMetricWarning: Recall is ill-defined and being set to 0.0 due to no true samples. Use `zero_division` parameter to control this behavior.\n",
            "  _warn_prf(average, modifier, msg_start, len(result))\n",
            "/usr/local/lib/python3.7/dist-packages/sklearn/metrics/_classification.py:1318: UndefinedMetricWarning: Precision is ill-defined and being set to 0.0 due to no predicted samples. Use `zero_division` parameter to control this behavior.\n",
            "  _warn_prf(average, modifier, msg_start, len(result))\n",
            "\r  7%|▋         | 176/2520 [00:30<06:11,  6.31it/s]"
          ]
        },
        {
          "metadata": {
            "tags": null
          },
          "name": "stdout",
          "output_type": "stream",
          "text": [
            "(256, 256, 1) 1.09561115e-05 2.4861686e-07\n",
            "(256, 256, 3) (256, 256) (256, 256)\n",
            "_02_g_130\n",
            "(256, 256, 1) 1.0 3.0888597e-11\n",
            "(256, 256, 3) (256, 256) (256, 256)\n"
          ]
        },
        {
          "metadata": {
            "tags": null
          },
          "name": "stderr",
          "output_type": "stream",
          "text": [
            "  7%|▋         | 178/2520 [00:30<06:14,  6.25it/s]"
          ]
        },
        {
          "metadata": {
            "tags": null
          },
          "name": "stdout",
          "output_type": "stream",
          "text": [
            "_02_g_131\n",
            "(256, 256, 1) 1.0 1.5231545e-12\n",
            "(256, 256, 3) (256, 256) (256, 256)\n",
            "_02_g_132\n"
          ]
        },
        {
          "metadata": {
            "tags": null
          },
          "name": "stderr",
          "output_type": "stream",
          "text": [
            "\r  7%|▋         | 179/2520 [00:30<06:17,  6.21it/s]"
          ]
        },
        {
          "metadata": {
            "tags": null
          },
          "name": "stdout",
          "output_type": "stream",
          "text": [
            "(256, 256, 1) 1.0 7.551378e-12\n",
            "(256, 256, 3) (256, 256) (256, 256)\n",
            "_02_g_133\n",
            "(256, 256, 1) 1.0 2.3533096e-13\n",
            "(256, 256, 3) (256, 256) (256, 256)\n"
          ]
        },
        {
          "metadata": {
            "tags": null
          },
          "name": "stderr",
          "output_type": "stream",
          "text": [
            "  7%|▋         | 181/2520 [00:30<06:18,  6.18it/s]"
          ]
        },
        {
          "metadata": {
            "tags": null
          },
          "name": "stdout",
          "output_type": "stream",
          "text": [
            "_02_g_134\n",
            "(256, 256, 1) 1.0 5.6467634e-12\n",
            "(256, 256, 3) (256, 256) (256, 256)\n",
            "_02_g_135\n"
          ]
        },
        {
          "metadata": {
            "tags": null
          },
          "name": "stderr",
          "output_type": "stream",
          "text": [
            "\r  7%|▋         | 182/2520 [00:31<06:21,  6.13it/s]"
          ]
        },
        {
          "metadata": {
            "tags": null
          },
          "name": "stdout",
          "output_type": "stream",
          "text": [
            "(256, 256, 1) 1.0 3.439496e-11\n",
            "(256, 256, 3) (256, 256) (256, 256)\n",
            "_02_g_136\n",
            "(256, 256, 1) 1.0 7.842836e-12\n",
            "(256, 256, 3) (256, 256) (256, 256)\n"
          ]
        },
        {
          "metadata": {
            "tags": null
          },
          "name": "stderr",
          "output_type": "stream",
          "text": [
            "  7%|▋         | 184/2520 [00:31<06:25,  6.06it/s]"
          ]
        },
        {
          "metadata": {
            "tags": null
          },
          "name": "stdout",
          "output_type": "stream",
          "text": [
            "_02_g_137\n",
            "(256, 256, 1) 1.0 1.2095727e-12\n",
            "(256, 256, 3) (256, 256) (256, 256)\n",
            "_02_g_138\n"
          ]
        },
        {
          "metadata": {
            "tags": null
          },
          "name": "stderr",
          "output_type": "stream",
          "text": [
            "/usr/local/lib/python3.7/dist-packages/sklearn/metrics/_classification.py:1580: UndefinedMetricWarning: F-score is ill-defined and being set to 0.0 due to no true nor predicted samples. Use `zero_division` parameter to control this behavior.\n",
            "  _warn_prf(average, \"true nor predicted\", \"F-score is\", len(true_sum))\n",
            "/usr/local/lib/python3.7/dist-packages/sklearn/metrics/_classification.py:1318: UndefinedMetricWarning: Jaccard is ill-defined and being set to 0.0 due to no true or predicted samples. Use `zero_division` parameter to control this behavior.\n",
            "  _warn_prf(average, modifier, msg_start, len(result))\n",
            "/usr/local/lib/python3.7/dist-packages/sklearn/metrics/_classification.py:1318: UndefinedMetricWarning: Recall is ill-defined and being set to 0.0 due to no true samples. Use `zero_division` parameter to control this behavior.\n",
            "  _warn_prf(average, modifier, msg_start, len(result))\n",
            "/usr/local/lib/python3.7/dist-packages/sklearn/metrics/_classification.py:1318: UndefinedMetricWarning: Precision is ill-defined and being set to 0.0 due to no predicted samples. Use `zero_division` parameter to control this behavior.\n",
            "  _warn_prf(average, modifier, msg_start, len(result))\n",
            "\r  7%|▋         | 185/2520 [00:31<06:11,  6.28it/s]"
          ]
        },
        {
          "metadata": {
            "tags": null
          },
          "name": "stdout",
          "output_type": "stream",
          "text": [
            "(256, 256, 1) 1.0990383e-05 2.3952657e-07\n",
            "(256, 256, 3) (256, 256) (256, 256)\n",
            "_02_g_139\n",
            "(256, 256, 1) 1.0990383e-05 2.5953344e-07\n",
            "(256, 256, 3) (256, 256) (256, 256)\n"
          ]
        },
        {
          "metadata": {
            "tags": null
          },
          "name": "stderr",
          "output_type": "stream",
          "text": [
            "/usr/local/lib/python3.7/dist-packages/sklearn/metrics/_classification.py:1580: UndefinedMetricWarning: F-score is ill-defined and being set to 0.0 due to no true nor predicted samples. Use `zero_division` parameter to control this behavior.\n",
            "  _warn_prf(average, \"true nor predicted\", \"F-score is\", len(true_sum))\n",
            "/usr/local/lib/python3.7/dist-packages/sklearn/metrics/_classification.py:1318: UndefinedMetricWarning: Jaccard is ill-defined and being set to 0.0 due to no true or predicted samples. Use `zero_division` parameter to control this behavior.\n",
            "  _warn_prf(average, modifier, msg_start, len(result))\n",
            "/usr/local/lib/python3.7/dist-packages/sklearn/metrics/_classification.py:1318: UndefinedMetricWarning: Recall is ill-defined and being set to 0.0 due to no true samples. Use `zero_division` parameter to control this behavior.\n",
            "  _warn_prf(average, modifier, msg_start, len(result))\n",
            "/usr/local/lib/python3.7/dist-packages/sklearn/metrics/_classification.py:1318: UndefinedMetricWarning: Precision is ill-defined and being set to 0.0 due to no predicted samples. Use `zero_division` parameter to control this behavior.\n",
            "  _warn_prf(average, modifier, msg_start, len(result))\n",
            "  7%|▋         | 186/2520 [00:31<06:01,  6.46it/s]/usr/local/lib/python3.7/dist-packages/sklearn/metrics/_classification.py:1580: UndefinedMetricWarning: F-score is ill-defined and being set to 0.0 due to no true nor predicted samples. Use `zero_division` parameter to control this behavior.\n",
            "  _warn_prf(average, \"true nor predicted\", \"F-score is\", len(true_sum))\n",
            "/usr/local/lib/python3.7/dist-packages/sklearn/metrics/_classification.py:1318: UndefinedMetricWarning: Jaccard is ill-defined and being set to 0.0 due to no true or predicted samples. Use `zero_division` parameter to control this behavior.\n",
            "  _warn_prf(average, modifier, msg_start, len(result))\n",
            "/usr/local/lib/python3.7/dist-packages/sklearn/metrics/_classification.py:1318: UndefinedMetricWarning: Recall is ill-defined and being set to 0.0 due to no true samples. Use `zero_division` parameter to control this behavior.\n",
            "  _warn_prf(average, modifier, msg_start, len(result))\n",
            "/usr/local/lib/python3.7/dist-packages/sklearn/metrics/_classification.py:1318: UndefinedMetricWarning: Precision is ill-defined and being set to 0.0 due to no predicted samples. Use `zero_division` parameter to control this behavior.\n",
            "  _warn_prf(average, modifier, msg_start, len(result))\n",
            "  7%|▋         | 187/2520 [00:31<05:54,  6.57it/s]"
          ]
        },
        {
          "metadata": {
            "tags": null
          },
          "name": "stdout",
          "output_type": "stream",
          "text": [
            "_02_g_14\n",
            "(256, 256, 1) 7.601872e-06 3.0246957e-07\n",
            "(256, 256, 3) (256, 256) (256, 256)\n",
            "_02_g_15\n"
          ]
        },
        {
          "metadata": {
            "tags": null
          },
          "name": "stderr",
          "output_type": "stream",
          "text": [
            "\r  7%|▋         | 188/2520 [00:31<06:06,  6.36it/s]"
          ]
        },
        {
          "metadata": {
            "tags": null
          },
          "name": "stdout",
          "output_type": "stream",
          "text": [
            "(256, 256, 1) 1.0 4.8661435e-12\n",
            "(256, 256, 3) (256, 256) (256, 256)\n",
            "_02_g_16\n",
            "(256, 256, 1) 1.0 4.5061676e-12\n",
            "(256, 256, 3) (256, 256) (256, 256)\n"
          ]
        },
        {
          "metadata": {
            "tags": null
          },
          "name": "stderr",
          "output_type": "stream",
          "text": [
            "  8%|▊         | 190/2520 [00:32<06:24,  6.05it/s]"
          ]
        },
        {
          "metadata": {
            "tags": null
          },
          "name": "stdout",
          "output_type": "stream",
          "text": [
            "_02_g_17\n",
            "(256, 256, 1) 1.0 1.2062867e-13\n",
            "(256, 256, 3) (256, 256) (256, 256)\n",
            "_02_g_18\n"
          ]
        },
        {
          "metadata": {
            "tags": null
          },
          "name": "stderr",
          "output_type": "stream",
          "text": [
            "\r  8%|▊         | 191/2520 [00:32<06:29,  5.98it/s]"
          ]
        },
        {
          "metadata": {
            "tags": null
          },
          "name": "stdout",
          "output_type": "stream",
          "text": [
            "(256, 256, 1) 1.0 3.5896328e-14\n",
            "(256, 256, 3) (256, 256) (256, 256)\n",
            "_02_g_19\n",
            "(256, 256, 1) 1.0 2.834186e-13\n",
            "(256, 256, 3) (256, 256) (256, 256)\n"
          ]
        },
        {
          "metadata": {
            "tags": null
          },
          "name": "stderr",
          "output_type": "stream",
          "text": [
            "  8%|▊         | 193/2520 [00:32<06:28,  5.98it/s]"
          ]
        },
        {
          "metadata": {
            "tags": null
          },
          "name": "stdout",
          "output_type": "stream",
          "text": [
            "_02_g_2\n",
            "(256, 256, 1) 1.0 1.4775323e-11\n",
            "(256, 256, 3) (256, 256) (256, 256)\n",
            "_02_g_20\n"
          ]
        },
        {
          "metadata": {
            "tags": null
          },
          "name": "stderr",
          "output_type": "stream",
          "text": [
            "\r  8%|▊         | 194/2520 [00:32<06:27,  6.00it/s]"
          ]
        },
        {
          "metadata": {
            "tags": null
          },
          "name": "stdout",
          "output_type": "stream",
          "text": [
            "(256, 256, 1) 1.0 1.6325823e-13\n",
            "(256, 256, 3) (256, 256) (256, 256)\n",
            "_02_g_21\n",
            "(256, 256, 1) 1.0 2.0797136e-13\n",
            "(256, 256, 3) (256, 256) (256, 256)\n"
          ]
        },
        {
          "metadata": {
            "tags": null
          },
          "name": "stderr",
          "output_type": "stream",
          "text": [
            "  8%|▊         | 196/2520 [00:33<06:24,  6.04it/s]"
          ]
        },
        {
          "metadata": {
            "tags": null
          },
          "name": "stdout",
          "output_type": "stream",
          "text": [
            "_02_g_22\n",
            "(256, 256, 1) 1.0 1.00685275e-13\n",
            "(256, 256, 3) (256, 256) (256, 256)\n",
            "_02_g_23\n"
          ]
        },
        {
          "metadata": {
            "tags": null
          },
          "name": "stderr",
          "output_type": "stream",
          "text": [
            "\r  8%|▊         | 197/2520 [00:33<06:20,  6.10it/s]"
          ]
        },
        {
          "metadata": {
            "tags": null
          },
          "name": "stdout",
          "output_type": "stream",
          "text": [
            "(256, 256, 1) 1.0 4.828677e-13\n",
            "(256, 256, 3) (256, 256) (256, 256)\n",
            "_02_g_24\n",
            "(256, 256, 1) 1.0 6.406907e-14\n",
            "(256, 256, 3) (256, 256) (256, 256)\n"
          ]
        },
        {
          "metadata": {
            "tags": null
          },
          "name": "stderr",
          "output_type": "stream",
          "text": [
            "  8%|▊         | 199/2520 [00:33<06:28,  5.98it/s]"
          ]
        },
        {
          "metadata": {
            "tags": null
          },
          "name": "stdout",
          "output_type": "stream",
          "text": [
            "_02_g_25\n",
            "(256, 256, 1) 1.0 2.5488574e-13\n",
            "(256, 256, 3) (256, 256) (256, 256)\n",
            "_02_g_26\n"
          ]
        },
        {
          "metadata": {
            "tags": null
          },
          "name": "stderr",
          "output_type": "stream",
          "text": [
            "\r  8%|▊         | 200/2520 [00:33<06:29,  5.96it/s]"
          ]
        },
        {
          "metadata": {
            "tags": null
          },
          "name": "stdout",
          "output_type": "stream",
          "text": [
            "(256, 256, 1) 1.0 2.4011322e-11\n",
            "(256, 256, 3) (256, 256) (256, 256)\n",
            "_02_g_27\n",
            "(256, 256, 1) 1.095516e-05 2.5918789e-07\n",
            "(256, 256, 3) (256, 256) (256, 256)\n"
          ]
        },
        {
          "metadata": {
            "tags": null
          },
          "name": "stderr",
          "output_type": "stream",
          "text": [
            "/usr/local/lib/python3.7/dist-packages/sklearn/metrics/_classification.py:1580: UndefinedMetricWarning: F-score is ill-defined and being set to 0.0 due to no true nor predicted samples. Use `zero_division` parameter to control this behavior.\n",
            "  _warn_prf(average, \"true nor predicted\", \"F-score is\", len(true_sum))\n",
            "/usr/local/lib/python3.7/dist-packages/sklearn/metrics/_classification.py:1318: UndefinedMetricWarning: Jaccard is ill-defined and being set to 0.0 due to no true or predicted samples. Use `zero_division` parameter to control this behavior.\n",
            "  _warn_prf(average, modifier, msg_start, len(result))\n",
            "/usr/local/lib/python3.7/dist-packages/sklearn/metrics/_classification.py:1318: UndefinedMetricWarning: Recall is ill-defined and being set to 0.0 due to no true samples. Use `zero_division` parameter to control this behavior.\n",
            "  _warn_prf(average, modifier, msg_start, len(result))\n",
            "/usr/local/lib/python3.7/dist-packages/sklearn/metrics/_classification.py:1318: UndefinedMetricWarning: Precision is ill-defined and being set to 0.0 due to no predicted samples. Use `zero_division` parameter to control this behavior.\n",
            "  _warn_prf(average, modifier, msg_start, len(result))\n",
            "  8%|▊         | 201/2520 [00:34<06:22,  6.07it/s]/usr/local/lib/python3.7/dist-packages/sklearn/metrics/_classification.py:1580: UndefinedMetricWarning: F-score is ill-defined and being set to 0.0 due to no true nor predicted samples. Use `zero_division` parameter to control this behavior.\n",
            "  _warn_prf(average, \"true nor predicted\", \"F-score is\", len(true_sum))\n",
            "/usr/local/lib/python3.7/dist-packages/sklearn/metrics/_classification.py:1318: UndefinedMetricWarning: Jaccard is ill-defined and being set to 0.0 due to no true or predicted samples. Use `zero_division` parameter to control this behavior.\n",
            "  _warn_prf(average, modifier, msg_start, len(result))\n",
            "/usr/local/lib/python3.7/dist-packages/sklearn/metrics/_classification.py:1318: UndefinedMetricWarning: Recall is ill-defined and being set to 0.0 due to no true samples. Use `zero_division` parameter to control this behavior.\n",
            "  _warn_prf(average, modifier, msg_start, len(result))\n",
            "/usr/local/lib/python3.7/dist-packages/sklearn/metrics/_classification.py:1318: UndefinedMetricWarning: Precision is ill-defined and being set to 0.0 due to no predicted samples. Use `zero_division` parameter to control this behavior.\n",
            "  _warn_prf(average, modifier, msg_start, len(result))\n",
            "  8%|▊         | 202/2520 [00:34<06:13,  6.20it/s]"
          ]
        },
        {
          "metadata": {
            "tags": null
          },
          "name": "stdout",
          "output_type": "stream",
          "text": [
            "_02_g_28\n",
            "(256, 256, 1) 1.8887411e-05 3.111159e-07\n",
            "(256, 256, 3) (256, 256) (256, 256)\n",
            "_02_g_29\n"
          ]
        },
        {
          "metadata": {
            "tags": null
          },
          "name": "stderr",
          "output_type": "stream",
          "text": [
            "\r  8%|▊         | 203/2520 [00:34<06:16,  6.15it/s]"
          ]
        },
        {
          "metadata": {
            "tags": null
          },
          "name": "stdout",
          "output_type": "stream",
          "text": [
            "(256, 256, 1) 1.0 1.2823288e-12\n",
            "(256, 256, 3) (256, 256) (256, 256)\n",
            "_02_g_3\n",
            "(256, 256, 1) 1.0 6.8886644e-13\n",
            "(256, 256, 3) (256, 256) (256, 256)\n"
          ]
        },
        {
          "metadata": {
            "tags": null
          },
          "name": "stderr",
          "output_type": "stream",
          "text": [
            "  8%|▊         | 205/2520 [00:34<06:18,  6.11it/s]"
          ]
        },
        {
          "metadata": {
            "tags": null
          },
          "name": "stdout",
          "output_type": "stream",
          "text": [
            "_02_g_30\n",
            "(256, 256, 1) 1.0 2.3501528e-12\n",
            "(256, 256, 3) (256, 256) (256, 256)\n",
            "_02_g_31\n"
          ]
        },
        {
          "metadata": {
            "tags": null
          },
          "name": "stderr",
          "output_type": "stream",
          "text": [
            "\r  8%|▊         | 206/2520 [00:34<06:19,  6.10it/s]"
          ]
        },
        {
          "metadata": {
            "tags": null
          },
          "name": "stdout",
          "output_type": "stream",
          "text": [
            "(256, 256, 1) 1.0 2.435716e-13\n",
            "(256, 256, 3) (256, 256) (256, 256)\n",
            "_02_g_32\n",
            "(256, 256, 1) 1.0 1.5759502e-12\n",
            "(256, 256, 3) (256, 256) (256, 256)\n"
          ]
        },
        {
          "metadata": {
            "tags": null
          },
          "name": "stderr",
          "output_type": "stream",
          "text": [
            "  8%|▊         | 208/2520 [00:35<06:22,  6.05it/s]"
          ]
        },
        {
          "metadata": {
            "tags": null
          },
          "name": "stdout",
          "output_type": "stream",
          "text": [
            "_02_g_33\n",
            "(256, 256, 1) 1.0 1.0854459e-12\n",
            "(256, 256, 3) (256, 256) (256, 256)\n",
            "_02_g_34\n"
          ]
        },
        {
          "metadata": {
            "tags": null
          },
          "name": "stderr",
          "output_type": "stream",
          "text": [
            "\r  8%|▊         | 209/2520 [00:35<06:23,  6.03it/s]"
          ]
        },
        {
          "metadata": {
            "tags": null
          },
          "name": "stdout",
          "output_type": "stream",
          "text": [
            "(256, 256, 1) 1.0 9.05479e-13\n",
            "(256, 256, 3) (256, 256) (256, 256)\n",
            "_02_g_35\n",
            "(256, 256, 1) 1.0 4.879571e-13\n",
            "(256, 256, 3) (256, 256) (256, 256)\n"
          ]
        },
        {
          "metadata": {
            "tags": null
          },
          "name": "stderr",
          "output_type": "stream",
          "text": [
            "  8%|▊         | 211/2520 [00:35<06:26,  5.98it/s]"
          ]
        },
        {
          "metadata": {
            "tags": null
          },
          "name": "stdout",
          "output_type": "stream",
          "text": [
            "_02_g_36\n",
            "(256, 256, 1) 1.0 6.615291e-14\n",
            "(256, 256, 3) (256, 256) (256, 256)\n",
            "_02_g_37\n"
          ]
        },
        {
          "metadata": {
            "tags": null
          },
          "name": "stderr",
          "output_type": "stream",
          "text": [
            "\r  8%|▊         | 212/2520 [00:35<06:28,  5.93it/s]"
          ]
        },
        {
          "metadata": {
            "tags": null
          },
          "name": "stdout",
          "output_type": "stream",
          "text": [
            "(256, 256, 1) 1.0 5.0263e-13\n",
            "(256, 256, 3) (256, 256) (256, 256)\n",
            "_02_g_38\n",
            "(256, 256, 1) 1.0 1.7793586e-13\n",
            "(256, 256, 3) (256, 256) (256, 256)\n"
          ]
        },
        {
          "metadata": {
            "tags": null
          },
          "name": "stderr",
          "output_type": "stream",
          "text": [
            "  8%|▊         | 214/2520 [00:36<06:38,  5.79it/s]"
          ]
        },
        {
          "metadata": {
            "tags": null
          },
          "name": "stdout",
          "output_type": "stream",
          "text": [
            "_02_g_39\n",
            "(256, 256, 1) 1.0 2.1353607e-13\n",
            "(256, 256, 3) (256, 256) (256, 256)\n",
            "_02_g_4\n"
          ]
        },
        {
          "metadata": {
            "tags": null
          },
          "name": "stderr",
          "output_type": "stream",
          "text": [
            "\r  9%|▊         | 215/2520 [00:36<06:37,  5.80it/s]"
          ]
        },
        {
          "metadata": {
            "tags": null
          },
          "name": "stdout",
          "output_type": "stream",
          "text": [
            "(256, 256, 1) 1.0 5.422002e-13\n",
            "(256, 256, 3) (256, 256) (256, 256)\n",
            "_02_g_40\n",
            "(256, 256, 1) 1.0 7.713464e-14\n",
            "(256, 256, 3) (256, 256) (256, 256)\n"
          ]
        },
        {
          "metadata": {
            "tags": null
          },
          "name": "stderr",
          "output_type": "stream",
          "text": [
            "  9%|▊         | 216/2520 [00:36<06:33,  5.86it/s]/usr/local/lib/python3.7/dist-packages/sklearn/metrics/_classification.py:1580: UndefinedMetricWarning: F-score is ill-defined and being set to 0.0 due to no true nor predicted samples. Use `zero_division` parameter to control this behavior.\n",
            "  _warn_prf(average, \"true nor predicted\", \"F-score is\", len(true_sum))\n",
            "/usr/local/lib/python3.7/dist-packages/sklearn/metrics/_classification.py:1318: UndefinedMetricWarning: Jaccard is ill-defined and being set to 0.0 due to no true or predicted samples. Use `zero_division` parameter to control this behavior.\n",
            "  _warn_prf(average, modifier, msg_start, len(result))\n",
            "/usr/local/lib/python3.7/dist-packages/sklearn/metrics/_classification.py:1318: UndefinedMetricWarning: Recall is ill-defined and being set to 0.0 due to no true samples. Use `zero_division` parameter to control this behavior.\n",
            "  _warn_prf(average, modifier, msg_start, len(result))\n",
            "/usr/local/lib/python3.7/dist-packages/sklearn/metrics/_classification.py:1318: UndefinedMetricWarning: Precision is ill-defined and being set to 0.0 due to no predicted samples. Use `zero_division` parameter to control this behavior.\n",
            "  _warn_prf(average, modifier, msg_start, len(result))\n",
            "  9%|▊         | 217/2520 [00:36<06:16,  6.11it/s]"
          ]
        },
        {
          "metadata": {
            "tags": null
          },
          "name": "stdout",
          "output_type": "stream",
          "text": [
            "_02_g_41\n",
            "(256, 256, 1) 0.050897136 1.5778595e-09\n",
            "(256, 256, 3) (256, 256) (256, 256)\n",
            "_02_g_42\n"
          ]
        },
        {
          "metadata": {
            "tags": null
          },
          "name": "stderr",
          "output_type": "stream",
          "text": [
            "\r  9%|▊         | 218/2520 [00:36<06:16,  6.11it/s]"
          ]
        },
        {
          "metadata": {
            "tags": null
          },
          "name": "stdout",
          "output_type": "stream",
          "text": [
            "(256, 256, 1) 1.0 7.1577627e-10\n",
            "(256, 256, 3) (256, 256) (256, 256)\n",
            "_02_g_43\n",
            "(256, 256, 1) 1.0 1.1023078e-12\n",
            "(256, 256, 3) (256, 256) (256, 256)\n"
          ]
        },
        {
          "metadata": {
            "tags": null
          },
          "name": "stderr",
          "output_type": "stream",
          "text": [
            "  9%|▊         | 220/2520 [00:37<06:23,  6.00it/s]"
          ]
        },
        {
          "metadata": {
            "tags": null
          },
          "name": "stdout",
          "output_type": "stream",
          "text": [
            "_02_g_44\n",
            "(256, 256, 1) 1.0 9.6987505e-12\n",
            "(256, 256, 3) (256, 256) (256, 256)\n",
            "_02_g_45\n"
          ]
        },
        {
          "metadata": {
            "tags": null
          },
          "name": "stderr",
          "output_type": "stream",
          "text": [
            "\r  9%|▉         | 221/2520 [00:37<06:24,  5.99it/s]"
          ]
        },
        {
          "metadata": {
            "tags": null
          },
          "name": "stdout",
          "output_type": "stream",
          "text": [
            "(256, 256, 1) 1.0 1.7383331e-12\n",
            "(256, 256, 3) (256, 256) (256, 256)\n",
            "_02_g_46\n",
            "(256, 256, 1) 1.0 3.1201864e-13\n",
            "(256, 256, 3) (256, 256) (256, 256)\n"
          ]
        },
        {
          "metadata": {
            "tags": null
          },
          "name": "stderr",
          "output_type": "stream",
          "text": [
            "  9%|▉         | 223/2520 [00:37<06:33,  5.83it/s]"
          ]
        },
        {
          "metadata": {
            "tags": null
          },
          "name": "stdout",
          "output_type": "stream",
          "text": [
            "_02_g_47\n",
            "(256, 256, 1) 1.0 9.67552e-13\n",
            "(256, 256, 3) (256, 256) (256, 256)\n",
            "_02_g_48\n"
          ]
        },
        {
          "metadata": {
            "tags": null
          },
          "name": "stderr",
          "output_type": "stream",
          "text": [
            "\r  9%|▉         | 224/2520 [00:37<06:30,  5.89it/s]"
          ]
        },
        {
          "metadata": {
            "tags": null
          },
          "name": "stdout",
          "output_type": "stream",
          "text": [
            "(256, 256, 1) 1.0 3.6431462e-13\n",
            "(256, 256, 3) (256, 256) (256, 256)\n",
            "_02_g_49\n",
            "(256, 256, 1) 1.0 1.3051089e-12\n",
            "(256, 256, 3) (256, 256) (256, 256)\n"
          ]
        },
        {
          "metadata": {
            "tags": null
          },
          "name": "stderr",
          "output_type": "stream",
          "text": [
            "  9%|▉         | 226/2520 [00:38<06:32,  5.85it/s]"
          ]
        },
        {
          "metadata": {
            "tags": null
          },
          "name": "stdout",
          "output_type": "stream",
          "text": [
            "_02_g_5\n",
            "(256, 256, 1) 1.0 2.4197362e-13\n",
            "(256, 256, 3) (256, 256) (256, 256)\n",
            "_02_g_50\n"
          ]
        },
        {
          "metadata": {
            "tags": null
          },
          "name": "stderr",
          "output_type": "stream",
          "text": [
            "\r  9%|▉         | 227/2520 [00:38<06:33,  5.83it/s]"
          ]
        },
        {
          "metadata": {
            "tags": null
          },
          "name": "stdout",
          "output_type": "stream",
          "text": [
            "(256, 256, 1) 1.0 8.9744087e-13\n",
            "(256, 256, 3) (256, 256) (256, 256)\n",
            "_02_g_51\n",
            "(256, 256, 1) 1.0 3.3886622e-13\n",
            "(256, 256, 3) (256, 256) (256, 256)\n"
          ]
        },
        {
          "metadata": {
            "tags": null
          },
          "name": "stderr",
          "output_type": "stream",
          "text": [
            "  9%|▉         | 229/2520 [00:38<06:32,  5.84it/s]"
          ]
        },
        {
          "metadata": {
            "tags": null
          },
          "name": "stdout",
          "output_type": "stream",
          "text": [
            "_02_g_52\n",
            "(256, 256, 1) 1.0 1.2208016e-13\n",
            "(256, 256, 3) (256, 256) (256, 256)\n",
            "_02_g_53\n"
          ]
        },
        {
          "metadata": {
            "tags": null
          },
          "name": "stderr",
          "output_type": "stream",
          "text": [
            "\r  9%|▉         | 230/2520 [00:38<06:26,  5.93it/s]"
          ]
        },
        {
          "metadata": {
            "tags": null
          },
          "name": "stdout",
          "output_type": "stream",
          "text": [
            "(256, 256, 1) 1.0 1.5008186e-13\n",
            "(256, 256, 3) (256, 256) (256, 256)\n",
            "_02_g_54\n",
            "(256, 256, 1) 1.0 2.5527458e-12\n",
            "(256, 256, 3) (256, 256) (256, 256)\n"
          ]
        },
        {
          "metadata": {
            "tags": null
          },
          "name": "stderr",
          "output_type": "stream",
          "text": [
            "  9%|▉         | 232/2520 [00:39<06:26,  5.93it/s]"
          ]
        },
        {
          "metadata": {
            "tags": null
          },
          "name": "stdout",
          "output_type": "stream",
          "text": [
            "_02_g_55\n",
            "(256, 256, 1) 1.0 3.7490705e-12\n",
            "(256, 256, 3) (256, 256) (256, 256)\n",
            "_02_g_56\n"
          ]
        },
        {
          "metadata": {
            "tags": null
          },
          "name": "stderr",
          "output_type": "stream",
          "text": [
            "\r  9%|▉         | 233/2520 [00:39<06:22,  5.98it/s]"
          ]
        },
        {
          "metadata": {
            "tags": null
          },
          "name": "stdout",
          "output_type": "stream",
          "text": [
            "(256, 256, 1) 1.0 1.450893e-11\n",
            "(256, 256, 3) (256, 256) (256, 256)\n",
            "_02_g_57\n",
            "(256, 256, 1) 1.0 4.8332506e-12\n",
            "(256, 256, 3) (256, 256) (256, 256)\n"
          ]
        },
        {
          "metadata": {
            "tags": null
          },
          "name": "stderr",
          "output_type": "stream",
          "text": [
            "  9%|▉         | 235/2520 [00:39<06:21,  5.98it/s]"
          ]
        },
        {
          "metadata": {
            "tags": null
          },
          "name": "stdout",
          "output_type": "stream",
          "text": [
            "_02_g_58\n",
            "(256, 256, 1) 1.0 9.587836e-13\n",
            "(256, 256, 3) (256, 256) (256, 256)\n",
            "_02_g_59\n"
          ]
        },
        {
          "metadata": {
            "tags": null
          },
          "name": "stderr",
          "output_type": "stream",
          "text": [
            "\r  9%|▉         | 236/2520 [00:40<06:25,  5.92it/s]"
          ]
        },
        {
          "metadata": {
            "tags": null
          },
          "name": "stdout",
          "output_type": "stream",
          "text": [
            "(256, 256, 1) 1.0 2.691869e-12\n",
            "(256, 256, 3) (256, 256) (256, 256)\n",
            "_02_g_6\n",
            "(256, 256, 1) 1.0 1.8159386e-13\n",
            "(256, 256, 3) (256, 256) (256, 256)\n"
          ]
        },
        {
          "metadata": {
            "tags": null
          },
          "name": "stderr",
          "output_type": "stream",
          "text": [
            "  9%|▉         | 238/2520 [00:40<06:20,  6.00it/s]"
          ]
        },
        {
          "metadata": {
            "tags": null
          },
          "name": "stdout",
          "output_type": "stream",
          "text": [
            "_02_g_60\n",
            "(256, 256, 1) 1.0 1.8354247e-13\n",
            "(256, 256, 3) (256, 256) (256, 256)\n",
            "_02_g_61\n"
          ]
        },
        {
          "metadata": {
            "tags": null
          },
          "name": "stderr",
          "output_type": "stream",
          "text": [
            "\r  9%|▉         | 239/2520 [00:40<06:29,  5.85it/s]"
          ]
        },
        {
          "metadata": {
            "tags": null
          },
          "name": "stdout",
          "output_type": "stream",
          "text": [
            "(256, 256, 1) 1.0 2.2833573e-12\n",
            "(256, 256, 3) (256, 256) (256, 256)\n",
            "_02_g_62\n",
            "(256, 256, 1) 1.0 1.1519726e-11\n",
            "(256, 256, 3) (256, 256) (256, 256)\n"
          ]
        },
        {
          "metadata": {
            "tags": null
          },
          "name": "stderr",
          "output_type": "stream",
          "text": [
            " 10%|▉         | 241/2520 [00:40<06:28,  5.86it/s]"
          ]
        },
        {
          "metadata": {
            "tags": null
          },
          "name": "stdout",
          "output_type": "stream",
          "text": [
            "_02_g_63\n",
            "(256, 256, 1) 1.0 1.4231849e-12\n",
            "(256, 256, 3) (256, 256) (256, 256)\n",
            "_02_g_64\n"
          ]
        },
        {
          "metadata": {
            "tags": null
          },
          "name": "stderr",
          "output_type": "stream",
          "text": [
            "\r 10%|▉         | 242/2520 [00:41<06:28,  5.87it/s]"
          ]
        },
        {
          "metadata": {
            "tags": null
          },
          "name": "stdout",
          "output_type": "stream",
          "text": [
            "(256, 256, 1) 1.0 4.3942803e-13\n",
            "(256, 256, 3) (256, 256) (256, 256)\n",
            "_02_g_65\n",
            "(256, 256, 1) 1.0 8.380683e-14\n",
            "(256, 256, 3) (256, 256) (256, 256)\n"
          ]
        },
        {
          "metadata": {
            "tags": null
          },
          "name": "stderr",
          "output_type": "stream",
          "text": [
            " 10%|▉         | 244/2520 [00:41<06:21,  5.96it/s]"
          ]
        },
        {
          "metadata": {
            "tags": null
          },
          "name": "stdout",
          "output_type": "stream",
          "text": [
            "_02_g_66\n",
            "(256, 256, 1) 1.0 4.9524322e-14\n",
            "(256, 256, 3) (256, 256) (256, 256)\n",
            "_02_g_67\n"
          ]
        },
        {
          "metadata": {
            "tags": null
          },
          "name": "stderr",
          "output_type": "stream",
          "text": [
            "\r 10%|▉         | 245/2520 [00:41<06:20,  5.98it/s]"
          ]
        },
        {
          "metadata": {
            "tags": null
          },
          "name": "stdout",
          "output_type": "stream",
          "text": [
            "(256, 256, 1) 1.0 3.3486527e-13\n",
            "(256, 256, 3) (256, 256) (256, 256)\n",
            "_02_g_68\n",
            "(256, 256, 1) 1.0 7.219053e-13\n",
            "(256, 256, 3) (256, 256) (256, 256)\n"
          ]
        },
        {
          "metadata": {
            "tags": null
          },
          "name": "stderr",
          "output_type": "stream",
          "text": [
            " 10%|▉         | 247/2520 [00:41<06:18,  6.00it/s]"
          ]
        },
        {
          "metadata": {
            "tags": null
          },
          "name": "stdout",
          "output_type": "stream",
          "text": [
            "_02_g_69\n",
            "(256, 256, 1) 1.0 2.1656156e-12\n",
            "(256, 256, 3) (256, 256) (256, 256)\n",
            "_02_g_7\n"
          ]
        },
        {
          "metadata": {
            "tags": null
          },
          "name": "stderr",
          "output_type": "stream",
          "text": [
            "\r 10%|▉         | 248/2520 [00:42<06:19,  5.99it/s]"
          ]
        },
        {
          "metadata": {
            "tags": null
          },
          "name": "stdout",
          "output_type": "stream",
          "text": [
            "(256, 256, 1) 1.0 5.7060476e-13\n",
            "(256, 256, 3) (256, 256) (256, 256)\n",
            "_02_g_70\n",
            "(256, 256, 1) 1.0 9.634634e-10\n",
            "(256, 256, 3) (256, 256) (256, 256)\n"
          ]
        },
        {
          "metadata": {
            "tags": null
          },
          "name": "stderr",
          "output_type": "stream",
          "text": [
            " 10%|▉         | 250/2520 [00:42<06:24,  5.91it/s]"
          ]
        },
        {
          "metadata": {
            "tags": null
          },
          "name": "stdout",
          "output_type": "stream",
          "text": [
            "_02_g_71\n",
            "(256, 256, 1) 1.0 6.5490327e-13\n",
            "(256, 256, 3) (256, 256) (256, 256)\n",
            "_02_g_72\n"
          ]
        },
        {
          "metadata": {
            "tags": null
          },
          "name": "stderr",
          "output_type": "stream",
          "text": [
            "\r 10%|▉         | 251/2520 [00:42<06:22,  5.92it/s]"
          ]
        },
        {
          "metadata": {
            "tags": null
          },
          "name": "stdout",
          "output_type": "stream",
          "text": [
            "(256, 256, 1) 1.0 1.4320045e-12\n",
            "(256, 256, 3) (256, 256) (256, 256)\n",
            "_02_g_73\n",
            "(256, 256, 1) 1.0 6.963077e-13\n",
            "(256, 256, 3) (256, 256) (256, 256)\n"
          ]
        },
        {
          "metadata": {
            "tags": null
          },
          "name": "stderr",
          "output_type": "stream",
          "text": [
            " 10%|█         | 253/2520 [00:42<06:19,  5.98it/s]"
          ]
        },
        {
          "metadata": {
            "tags": null
          },
          "name": "stdout",
          "output_type": "stream",
          "text": [
            "_02_g_74\n",
            "(256, 256, 1) 1.0 3.640382e-13\n",
            "(256, 256, 3) (256, 256) (256, 256)\n",
            "_02_g_75\n"
          ]
        },
        {
          "metadata": {
            "tags": null
          },
          "name": "stderr",
          "output_type": "stream",
          "text": [
            "\r 10%|█         | 254/2520 [00:43<06:17,  6.00it/s]"
          ]
        },
        {
          "metadata": {
            "tags": null
          },
          "name": "stdout",
          "output_type": "stream",
          "text": [
            "(256, 256, 1) 1.0 7.390431e-13\n",
            "(256, 256, 3) (256, 256) (256, 256)\n",
            "_02_g_76\n",
            "(256, 256, 1) 1.0 1.9450257e-12\n",
            "(256, 256, 3) (256, 256) (256, 256)\n"
          ]
        },
        {
          "metadata": {
            "tags": null
          },
          "name": "stderr",
          "output_type": "stream",
          "text": [
            " 10%|█         | 256/2520 [00:43<06:19,  5.97it/s]"
          ]
        },
        {
          "metadata": {
            "tags": null
          },
          "name": "stdout",
          "output_type": "stream",
          "text": [
            "_02_g_77\n",
            "(256, 256, 1) 1.0 5.980586e-12\n",
            "(256, 256, 3) (256, 256) (256, 256)\n",
            "_02_g_78\n"
          ]
        },
        {
          "metadata": {
            "tags": null
          },
          "name": "stderr",
          "output_type": "stream",
          "text": [
            "\r 10%|█         | 257/2520 [00:43<06:15,  6.02it/s]"
          ]
        },
        {
          "metadata": {
            "tags": null
          },
          "name": "stdout",
          "output_type": "stream",
          "text": [
            "(256, 256, 1) 1.0 7.489294e-13\n",
            "(256, 256, 3) (256, 256) (256, 256)\n",
            "_02_g_79\n",
            "(256, 256, 1) 1.0 3.7602197e-13\n",
            "(256, 256, 3) (256, 256) (256, 256)\n"
          ]
        },
        {
          "metadata": {
            "tags": null
          },
          "name": "stderr",
          "output_type": "stream",
          "text": [
            " 10%|█         | 259/2520 [00:43<06:13,  6.06it/s]"
          ]
        },
        {
          "metadata": {
            "tags": null
          },
          "name": "stdout",
          "output_type": "stream",
          "text": [
            "_02_g_8\n",
            "(256, 256, 1) 1.0 7.090356e-13\n",
            "(256, 256, 3) (256, 256) (256, 256)\n",
            "_02_g_80\n"
          ]
        },
        {
          "metadata": {
            "tags": null
          },
          "name": "stderr",
          "output_type": "stream",
          "text": [
            "\r 10%|█         | 260/2520 [00:44<06:15,  6.02it/s]"
          ]
        },
        {
          "metadata": {
            "tags": null
          },
          "name": "stdout",
          "output_type": "stream",
          "text": [
            "(256, 256, 1) 1.0 2.5883985e-13\n",
            "(256, 256, 3) (256, 256) (256, 256)\n",
            "_02_g_81\n",
            "(256, 256, 1) 1.0 4.8167813e-14\n",
            "(256, 256, 3) (256, 256) (256, 256)\n"
          ]
        },
        {
          "metadata": {
            "tags": null
          },
          "name": "stderr",
          "output_type": "stream",
          "text": [
            " 10%|█         | 262/2520 [00:44<06:16,  5.99it/s]"
          ]
        },
        {
          "metadata": {
            "tags": null
          },
          "name": "stdout",
          "output_type": "stream",
          "text": [
            "_02_g_82\n",
            "(256, 256, 1) 1.0 2.0335376e-13\n",
            "(256, 256, 3) (256, 256) (256, 256)\n",
            "_02_g_83\n"
          ]
        },
        {
          "metadata": {
            "tags": null
          },
          "name": "stderr",
          "output_type": "stream",
          "text": [
            "\r 10%|█         | 263/2520 [00:44<06:19,  5.95it/s]"
          ]
        },
        {
          "metadata": {
            "tags": null
          },
          "name": "stdout",
          "output_type": "stream",
          "text": [
            "(256, 256, 1) 1.0 6.1879083e-12\n",
            "(256, 256, 3) (256, 256) (256, 256)\n",
            "_02_g_84\n",
            "(256, 256, 1) 1.0 7.0327477e-10\n",
            "(256, 256, 3) (256, 256) (256, 256)\n"
          ]
        },
        {
          "metadata": {
            "tags": null
          },
          "name": "stderr",
          "output_type": "stream",
          "text": [
            " 11%|█         | 265/2520 [00:44<06:16,  5.99it/s]"
          ]
        },
        {
          "metadata": {
            "tags": null
          },
          "name": "stdout",
          "output_type": "stream",
          "text": [
            "_02_g_85\n",
            "(256, 256, 1) 1.0 9.65143e-13\n",
            "(256, 256, 3) (256, 256) (256, 256)\n",
            "_02_g_86\n"
          ]
        },
        {
          "metadata": {
            "tags": null
          },
          "name": "stderr",
          "output_type": "stream",
          "text": [
            "\r 11%|█         | 266/2520 [00:45<06:14,  6.03it/s]"
          ]
        },
        {
          "metadata": {
            "tags": null
          },
          "name": "stdout",
          "output_type": "stream",
          "text": [
            "(256, 256, 1) 1.0 8.7220015e-13\n",
            "(256, 256, 3) (256, 256) (256, 256)\n",
            "_02_g_87\n",
            "(256, 256, 1) 1.0 4.0245118e-13\n",
            "(256, 256, 3) (256, 256) (256, 256)\n"
          ]
        },
        {
          "metadata": {
            "tags": null
          },
          "name": "stderr",
          "output_type": "stream",
          "text": [
            " 11%|█         | 268/2520 [00:45<06:16,  5.98it/s]"
          ]
        },
        {
          "metadata": {
            "tags": null
          },
          "name": "stdout",
          "output_type": "stream",
          "text": [
            "_02_g_88\n",
            "(256, 256, 1) 1.0 1.6299516e-11\n",
            "(256, 256, 3) (256, 256) (256, 256)\n",
            "_02_g_89\n"
          ]
        },
        {
          "metadata": {
            "tags": null
          },
          "name": "stderr",
          "output_type": "stream",
          "text": [
            "\r 11%|█         | 269/2520 [00:45<06:14,  6.01it/s]"
          ]
        },
        {
          "metadata": {
            "tags": null
          },
          "name": "stdout",
          "output_type": "stream",
          "text": [
            "(256, 256, 1) 1.0 2.5571318e-12\n",
            "(256, 256, 3) (256, 256) (256, 256)\n",
            "_02_g_9\n",
            "(256, 256, 1) 1.0 5.808056e-13\n",
            "(256, 256, 3) (256, 256) (256, 256)\n"
          ]
        },
        {
          "metadata": {
            "tags": null
          },
          "name": "stderr",
          "output_type": "stream",
          "text": [
            " 11%|█         | 271/2520 [00:45<06:18,  5.94it/s]"
          ]
        },
        {
          "metadata": {
            "tags": null
          },
          "name": "stdout",
          "output_type": "stream",
          "text": [
            "_02_g_90\n",
            "(256, 256, 1) 1.0 8.4797837e-13\n",
            "(256, 256, 3) (256, 256) (256, 256)\n",
            "_02_g_91\n"
          ]
        },
        {
          "metadata": {
            "tags": null
          },
          "name": "stderr",
          "output_type": "stream",
          "text": [
            "\r 11%|█         | 272/2520 [00:46<06:17,  5.95it/s]"
          ]
        },
        {
          "metadata": {
            "tags": null
          },
          "name": "stdout",
          "output_type": "stream",
          "text": [
            "(256, 256, 1) 1.0 2.9053398e-13\n",
            "(256, 256, 3) (256, 256) (256, 256)\n",
            "_02_g_92\n",
            "(256, 256, 1) 1.0 6.0179314e-13\n",
            "(256, 256, 3) (256, 256) (256, 256)\n"
          ]
        },
        {
          "metadata": {
            "tags": null
          },
          "name": "stderr",
          "output_type": "stream",
          "text": [
            " 11%|█         | 274/2520 [00:46<06:21,  5.89it/s]"
          ]
        },
        {
          "metadata": {
            "tags": null
          },
          "name": "stdout",
          "output_type": "stream",
          "text": [
            "_02_g_93\n",
            "(256, 256, 1) 1.0 9.3298036e-14\n",
            "(256, 256, 3) (256, 256) (256, 256)\n",
            "_02_g_94\n"
          ]
        },
        {
          "metadata": {
            "tags": null
          },
          "name": "stderr",
          "output_type": "stream",
          "text": [
            "\r 11%|█         | 275/2520 [00:46<06:18,  5.93it/s]"
          ]
        },
        {
          "metadata": {
            "tags": null
          },
          "name": "stdout",
          "output_type": "stream",
          "text": [
            "(256, 256, 1) 1.0 6.018617e-14\n",
            "(256, 256, 3) (256, 256) (256, 256)\n",
            "_02_g_95\n",
            "(256, 256, 1) 1.0 1.2619997e-13\n",
            "(256, 256, 3) (256, 256) (256, 256)\n"
          ]
        },
        {
          "metadata": {
            "tags": null
          },
          "name": "stderr",
          "output_type": "stream",
          "text": [
            " 11%|█         | 277/2520 [00:46<06:24,  5.83it/s]"
          ]
        },
        {
          "metadata": {
            "tags": null
          },
          "name": "stdout",
          "output_type": "stream",
          "text": [
            "_02_g_96\n",
            "(256, 256, 1) 1.0 4.397819e-13\n",
            "(256, 256, 3) (256, 256) (256, 256)\n",
            "_02_g_97\n"
          ]
        },
        {
          "metadata": {
            "tags": null
          },
          "name": "stderr",
          "output_type": "stream",
          "text": [
            "\r 11%|█         | 278/2520 [00:47<06:19,  5.91it/s]"
          ]
        },
        {
          "metadata": {
            "tags": null
          },
          "name": "stdout",
          "output_type": "stream",
          "text": [
            "(256, 256, 1) 1.0 1.4851234e-12\n",
            "(256, 256, 3) (256, 256) (256, 256)\n",
            "_02_g_98\n",
            "(256, 256, 1) 1.04516375e-05 3.1124472e-07\n",
            "(256, 256, 3) (256, 256) (256, 256)\n"
          ]
        },
        {
          "metadata": {
            "tags": null
          },
          "name": "stderr",
          "output_type": "stream",
          "text": [
            "/usr/local/lib/python3.7/dist-packages/sklearn/metrics/_classification.py:1580: UndefinedMetricWarning: F-score is ill-defined and being set to 0.0 due to no true nor predicted samples. Use `zero_division` parameter to control this behavior.\n",
            "  _warn_prf(average, \"true nor predicted\", \"F-score is\", len(true_sum))\n",
            "/usr/local/lib/python3.7/dist-packages/sklearn/metrics/_classification.py:1318: UndefinedMetricWarning: Jaccard is ill-defined and being set to 0.0 due to no true or predicted samples. Use `zero_division` parameter to control this behavior.\n",
            "  _warn_prf(average, modifier, msg_start, len(result))\n",
            "/usr/local/lib/python3.7/dist-packages/sklearn/metrics/_classification.py:1318: UndefinedMetricWarning: Recall is ill-defined and being set to 0.0 due to no true samples. Use `zero_division` parameter to control this behavior.\n",
            "  _warn_prf(average, modifier, msg_start, len(result))\n",
            "/usr/local/lib/python3.7/dist-packages/sklearn/metrics/_classification.py:1318: UndefinedMetricWarning: Precision is ill-defined and being set to 0.0 due to no predicted samples. Use `zero_division` parameter to control this behavior.\n",
            "  _warn_prf(average, modifier, msg_start, len(result))\n",
            " 11%|█         | 280/2520 [00:47<06:08,  6.08it/s]"
          ]
        },
        {
          "metadata": {
            "tags": null
          },
          "name": "stdout",
          "output_type": "stream",
          "text": [
            "_02_g_99\n",
            "(256, 256, 1) 1.0 6.0058486e-12\n",
            "(256, 256, 3) (256, 256) (256, 256)\n",
            "_03_g_0\n"
          ]
        },
        {
          "metadata": {
            "tags": null
          },
          "name": "stderr",
          "output_type": "stream",
          "text": [
            "/usr/local/lib/python3.7/dist-packages/sklearn/metrics/_classification.py:1580: UndefinedMetricWarning: F-score is ill-defined and being set to 0.0 due to no true nor predicted samples. Use `zero_division` parameter to control this behavior.\n",
            "  _warn_prf(average, \"true nor predicted\", \"F-score is\", len(true_sum))\n",
            "/usr/local/lib/python3.7/dist-packages/sklearn/metrics/_classification.py:1318: UndefinedMetricWarning: Jaccard is ill-defined and being set to 0.0 due to no true or predicted samples. Use `zero_division` parameter to control this behavior.\n",
            "  _warn_prf(average, modifier, msg_start, len(result))\n",
            "/usr/local/lib/python3.7/dist-packages/sklearn/metrics/_classification.py:1318: UndefinedMetricWarning: Recall is ill-defined and being set to 0.0 due to no true samples. Use `zero_division` parameter to control this behavior.\n",
            "  _warn_prf(average, modifier, msg_start, len(result))\n",
            "/usr/local/lib/python3.7/dist-packages/sklearn/metrics/_classification.py:1318: UndefinedMetricWarning: Precision is ill-defined and being set to 0.0 due to no predicted samples. Use `zero_division` parameter to control this behavior.\n",
            "  _warn_prf(average, modifier, msg_start, len(result))\n",
            "\r 11%|█         | 281/2520 [00:47<05:54,  6.32it/s]"
          ]
        },
        {
          "metadata": {
            "tags": null
          },
          "name": "stdout",
          "output_type": "stream",
          "text": [
            "(256, 256, 1) 1.0253436e-05 3.113611e-07\n",
            "(256, 256, 3) (256, 256) (256, 256)\n",
            "_03_g_1\n",
            "(256, 256, 1) 1.0702366e-05 2.844174e-07\n",
            "(256, 256, 3) (256, 256) (256, 256)\n"
          ]
        },
        {
          "metadata": {
            "tags": null
          },
          "name": "stderr",
          "output_type": "stream",
          "text": [
            "/usr/local/lib/python3.7/dist-packages/sklearn/metrics/_classification.py:1580: UndefinedMetricWarning: F-score is ill-defined and being set to 0.0 due to no true nor predicted samples. Use `zero_division` parameter to control this behavior.\n",
            "  _warn_prf(average, \"true nor predicted\", \"F-score is\", len(true_sum))\n",
            "/usr/local/lib/python3.7/dist-packages/sklearn/metrics/_classification.py:1318: UndefinedMetricWarning: Jaccard is ill-defined and being set to 0.0 due to no true or predicted samples. Use `zero_division` parameter to control this behavior.\n",
            "  _warn_prf(average, modifier, msg_start, len(result))\n",
            "/usr/local/lib/python3.7/dist-packages/sklearn/metrics/_classification.py:1318: UndefinedMetricWarning: Recall is ill-defined and being set to 0.0 due to no true samples. Use `zero_division` parameter to control this behavior.\n",
            "  _warn_prf(average, modifier, msg_start, len(result))\n",
            "/usr/local/lib/python3.7/dist-packages/sklearn/metrics/_classification.py:1318: UndefinedMetricWarning: Precision is ill-defined and being set to 0.0 due to no predicted samples. Use `zero_division` parameter to control this behavior.\n",
            "  _warn_prf(average, modifier, msg_start, len(result))\n",
            " 11%|█         | 283/2520 [00:47<05:50,  6.38it/s]"
          ]
        },
        {
          "metadata": {
            "tags": null
          },
          "name": "stdout",
          "output_type": "stream",
          "text": [
            "_03_g_10\n",
            "(256, 256, 1) 1.0 1.7539516e-10\n",
            "(256, 256, 3) (256, 256) (256, 256)\n",
            "_03_g_100\n"
          ]
        },
        {
          "metadata": {
            "tags": null
          },
          "name": "stderr",
          "output_type": "stream",
          "text": [
            "\r 11%|█▏        | 284/2520 [00:47<05:55,  6.29it/s]"
          ]
        },
        {
          "metadata": {
            "tags": null
          },
          "name": "stdout",
          "output_type": "stream",
          "text": [
            "(256, 256, 1) 1.0 4.929031e-11\n",
            "(256, 256, 3) (256, 256) (256, 256)\n",
            "_03_g_101\n",
            "(256, 256, 1) 1.0 3.008738e-11\n",
            "(256, 256, 3) (256, 256) (256, 256)\n"
          ]
        },
        {
          "metadata": {
            "tags": null
          },
          "name": "stderr",
          "output_type": "stream",
          "text": [
            " 11%|█▏        | 286/2520 [00:48<06:01,  6.18it/s]"
          ]
        },
        {
          "metadata": {
            "tags": null
          },
          "name": "stdout",
          "output_type": "stream",
          "text": [
            "_03_g_102\n",
            "(256, 256, 1) 1.0 2.55752e-10\n",
            "(256, 256, 3) (256, 256) (256, 256)\n",
            "_03_g_103\n"
          ]
        },
        {
          "metadata": {
            "tags": null
          },
          "name": "stderr",
          "output_type": "stream",
          "text": [
            "\r 11%|█▏        | 287/2520 [00:48<06:09,  6.05it/s]"
          ]
        },
        {
          "metadata": {
            "tags": null
          },
          "name": "stdout",
          "output_type": "stream",
          "text": [
            "(256, 256, 1) 1.0 6.629233e-11\n",
            "(256, 256, 3) (256, 256) (256, 256)\n",
            "_03_g_104\n",
            "(256, 256, 1) 1.0 5.6602344e-11\n",
            "(256, 256, 3) (256, 256) (256, 256)\n"
          ]
        },
        {
          "metadata": {
            "tags": null
          },
          "name": "stderr",
          "output_type": "stream",
          "text": [
            " 11%|█▏        | 289/2520 [00:48<06:09,  6.04it/s]"
          ]
        },
        {
          "metadata": {
            "tags": null
          },
          "name": "stdout",
          "output_type": "stream",
          "text": [
            "_03_g_105\n",
            "(256, 256, 1) 1.0 3.8768537e-12\n",
            "(256, 256, 3) (256, 256) (256, 256)\n",
            "_03_g_106\n"
          ]
        },
        {
          "metadata": {
            "tags": null
          },
          "name": "stderr",
          "output_type": "stream",
          "text": [
            "\r 12%|█▏        | 290/2520 [00:48<06:07,  6.06it/s]"
          ]
        },
        {
          "metadata": {
            "tags": null
          },
          "name": "stdout",
          "output_type": "stream",
          "text": [
            "(256, 256, 1) 1.0 1.7007193e-12\n",
            "(256, 256, 3) (256, 256) (256, 256)\n",
            "_03_g_107\n",
            "(256, 256, 1) 1.0 1.4133093e-11\n",
            "(256, 256, 3) (256, 256) (256, 256)\n"
          ]
        },
        {
          "metadata": {
            "tags": null
          },
          "name": "stderr",
          "output_type": "stream",
          "text": [
            " 12%|█▏        | 292/2520 [00:49<06:06,  6.08it/s]"
          ]
        },
        {
          "metadata": {
            "tags": null
          },
          "name": "stdout",
          "output_type": "stream",
          "text": [
            "_03_g_108\n",
            "(256, 256, 1) 1.0 1.5656178e-11\n",
            "(256, 256, 3) (256, 256) (256, 256)\n",
            "_03_g_109\n"
          ]
        },
        {
          "metadata": {
            "tags": null
          },
          "name": "stderr",
          "output_type": "stream",
          "text": [
            "\r 12%|█▏        | 293/2520 [00:49<06:06,  6.08it/s]"
          ]
        },
        {
          "metadata": {
            "tags": null
          },
          "name": "stdout",
          "output_type": "stream",
          "text": [
            "(256, 256, 1) 1.0 7.390506e-12\n",
            "(256, 256, 3) (256, 256) (256, 256)\n",
            "_03_g_11\n",
            "(256, 256, 1) 0.9986136 5.0972315e-09\n",
            "(256, 256, 3) (256, 256) (256, 256)\n"
          ]
        },
        {
          "metadata": {
            "tags": null
          },
          "name": "stderr",
          "output_type": "stream",
          "text": [
            " 12%|█▏        | 295/2520 [00:49<06:07,  6.06it/s]"
          ]
        },
        {
          "metadata": {
            "tags": null
          },
          "name": "stdout",
          "output_type": "stream",
          "text": [
            "_03_g_110\n",
            "(256, 256, 1) 1.0 9.311076e-12\n",
            "(256, 256, 3) (256, 256) (256, 256)\n",
            "_03_g_111\n"
          ]
        },
        {
          "metadata": {
            "tags": null
          },
          "name": "stderr",
          "output_type": "stream",
          "text": [
            "/usr/local/lib/python3.7/dist-packages/sklearn/metrics/_classification.py:1580: UndefinedMetricWarning: F-score is ill-defined and being set to 0.0 due to no true nor predicted samples. Use `zero_division` parameter to control this behavior.\n",
            "  _warn_prf(average, \"true nor predicted\", \"F-score is\", len(true_sum))\n",
            "/usr/local/lib/python3.7/dist-packages/sklearn/metrics/_classification.py:1318: UndefinedMetricWarning: Jaccard is ill-defined and being set to 0.0 due to no true or predicted samples. Use `zero_division` parameter to control this behavior.\n",
            "  _warn_prf(average, modifier, msg_start, len(result))\n",
            "/usr/local/lib/python3.7/dist-packages/sklearn/metrics/_classification.py:1318: UndefinedMetricWarning: Recall is ill-defined and being set to 0.0 due to no true samples. Use `zero_division` parameter to control this behavior.\n",
            "  _warn_prf(average, modifier, msg_start, len(result))\n",
            "/usr/local/lib/python3.7/dist-packages/sklearn/metrics/_classification.py:1318: UndefinedMetricWarning: Precision is ill-defined and being set to 0.0 due to no predicted samples. Use `zero_division` parameter to control this behavior.\n",
            "  _warn_prf(average, modifier, msg_start, len(result))\n",
            "\r 12%|█▏        | 296/2520 [00:49<06:00,  6.16it/s]"
          ]
        },
        {
          "metadata": {
            "tags": null
          },
          "name": "stdout",
          "output_type": "stream",
          "text": [
            "(256, 256, 1) 1.0949384e-05 6.072348e-11\n",
            "(256, 256, 3) (256, 256) (256, 256)\n",
            "_03_g_112\n",
            "(256, 256, 1) 1.14388495e-05 3.0791796e-07\n",
            "(256, 256, 3) (256, 256) (256, 256)\n"
          ]
        },
        {
          "metadata": {
            "tags": null
          },
          "name": "stderr",
          "output_type": "stream",
          "text": [
            "/usr/local/lib/python3.7/dist-packages/sklearn/metrics/_classification.py:1580: UndefinedMetricWarning: F-score is ill-defined and being set to 0.0 due to no true nor predicted samples. Use `zero_division` parameter to control this behavior.\n",
            "  _warn_prf(average, \"true nor predicted\", \"F-score is\", len(true_sum))\n",
            "/usr/local/lib/python3.7/dist-packages/sklearn/metrics/_classification.py:1318: UndefinedMetricWarning: Jaccard is ill-defined and being set to 0.0 due to no true or predicted samples. Use `zero_division` parameter to control this behavior.\n",
            "  _warn_prf(average, modifier, msg_start, len(result))\n",
            "/usr/local/lib/python3.7/dist-packages/sklearn/metrics/_classification.py:1318: UndefinedMetricWarning: Recall is ill-defined and being set to 0.0 due to no true samples. Use `zero_division` parameter to control this behavior.\n",
            "  _warn_prf(average, modifier, msg_start, len(result))\n",
            "/usr/local/lib/python3.7/dist-packages/sklearn/metrics/_classification.py:1318: UndefinedMetricWarning: Precision is ill-defined and being set to 0.0 due to no predicted samples. Use `zero_division` parameter to control this behavior.\n",
            "  _warn_prf(average, modifier, msg_start, len(result))\n",
            " 12%|█▏        | 297/2520 [00:50<05:49,  6.36it/s]/usr/local/lib/python3.7/dist-packages/sklearn/metrics/_classification.py:1580: UndefinedMetricWarning: F-score is ill-defined and being set to 0.0 due to no true nor predicted samples. Use `zero_division` parameter to control this behavior.\n",
            "  _warn_prf(average, \"true nor predicted\", \"F-score is\", len(true_sum))\n",
            "/usr/local/lib/python3.7/dist-packages/sklearn/metrics/_classification.py:1318: UndefinedMetricWarning: Jaccard is ill-defined and being set to 0.0 due to no true or predicted samples. Use `zero_division` parameter to control this behavior.\n",
            "  _warn_prf(average, modifier, msg_start, len(result))\n",
            "/usr/local/lib/python3.7/dist-packages/sklearn/metrics/_classification.py:1318: UndefinedMetricWarning: Recall is ill-defined and being set to 0.0 due to no true samples. Use `zero_division` parameter to control this behavior.\n",
            "  _warn_prf(average, modifier, msg_start, len(result))\n",
            "/usr/local/lib/python3.7/dist-packages/sklearn/metrics/_classification.py:1318: UndefinedMetricWarning: Precision is ill-defined and being set to 0.0 due to no predicted samples. Use `zero_division` parameter to control this behavior.\n",
            "  _warn_prf(average, modifier, msg_start, len(result))\n",
            " 12%|█▏        | 298/2520 [00:50<05:48,  6.38it/s]"
          ]
        },
        {
          "metadata": {
            "tags": null
          },
          "name": "stdout",
          "output_type": "stream",
          "text": [
            "_03_g_113\n",
            "(256, 256, 1) 1.6379236e-05 5.3989632e-11\n",
            "(256, 256, 3) (256, 256) (256, 256)\n",
            "_03_g_114\n"
          ]
        },
        {
          "metadata": {
            "tags": null
          },
          "name": "stderr",
          "output_type": "stream",
          "text": [
            "\r 12%|█▏        | 299/2520 [00:50<05:56,  6.23it/s]"
          ]
        },
        {
          "metadata": {
            "tags": null
          },
          "name": "stdout",
          "output_type": "stream",
          "text": [
            "(256, 256, 1) 1.0 6.8293045e-11\n",
            "(256, 256, 3) (256, 256) (256, 256)\n",
            "_03_g_115\n",
            "(256, 256, 1) 1.0 1.0027462e-12\n",
            "(256, 256, 3) (256, 256) (256, 256)\n"
          ]
        },
        {
          "metadata": {
            "tags": null
          },
          "name": "stderr",
          "output_type": "stream",
          "text": [
            " 12%|█▏        | 301/2520 [00:50<06:06,  6.05it/s]"
          ]
        },
        {
          "metadata": {
            "tags": null
          },
          "name": "stdout",
          "output_type": "stream",
          "text": [
            "_03_g_116\n",
            "(256, 256, 1) 1.0 1.2146527e-11\n",
            "(256, 256, 3) (256, 256) (256, 256)\n",
            "_03_g_117\n"
          ]
        },
        {
          "metadata": {
            "tags": null
          },
          "name": "stderr",
          "output_type": "stream",
          "text": [
            "\r 12%|█▏        | 302/2520 [00:50<06:07,  6.04it/s]"
          ]
        },
        {
          "metadata": {
            "tags": null
          },
          "name": "stdout",
          "output_type": "stream",
          "text": [
            "(256, 256, 1) 1.0 1.9767382e-11\n",
            "(256, 256, 3) (256, 256) (256, 256)\n",
            "_03_g_118\n",
            "(256, 256, 1) 1.0 6.388317e-12\n",
            "(256, 256, 3) (256, 256) (256, 256)\n"
          ]
        },
        {
          "metadata": {
            "tags": null
          },
          "name": "stderr",
          "output_type": "stream",
          "text": [
            " 12%|█▏        | 304/2520 [00:51<06:12,  5.96it/s]"
          ]
        },
        {
          "metadata": {
            "tags": null
          },
          "name": "stdout",
          "output_type": "stream",
          "text": [
            "_03_g_119\n",
            "(256, 256, 1) 1.0 1.1483551e-11\n",
            "(256, 256, 3) (256, 256) (256, 256)\n",
            "_03_g_12\n"
          ]
        },
        {
          "metadata": {
            "tags": null
          },
          "name": "stderr",
          "output_type": "stream",
          "text": [
            "\r 12%|█▏        | 305/2520 [00:51<06:08,  6.02it/s]"
          ]
        },
        {
          "metadata": {
            "tags": null
          },
          "name": "stdout",
          "output_type": "stream",
          "text": [
            "(256, 256, 1) 1.0 6.462212e-09\n",
            "(256, 256, 3) (256, 256) (256, 256)\n",
            "_03_g_120\n",
            "(256, 256, 1) 1.0 7.572262e-12\n",
            "(256, 256, 3) (256, 256) (256, 256)\n"
          ]
        },
        {
          "metadata": {
            "tags": null
          },
          "name": "stderr",
          "output_type": "stream",
          "text": [
            " 12%|█▏        | 307/2520 [00:51<06:11,  5.95it/s]"
          ]
        },
        {
          "metadata": {
            "tags": null
          },
          "name": "stdout",
          "output_type": "stream",
          "text": [
            "_03_g_121\n",
            "(256, 256, 1) 1.0 4.9252507e-12\n",
            "(256, 256, 3) (256, 256) (256, 256)\n",
            "_03_g_122\n"
          ]
        },
        {
          "metadata": {
            "tags": null
          },
          "name": "stderr",
          "output_type": "stream",
          "text": [
            "\r 12%|█▏        | 308/2520 [00:51<06:16,  5.87it/s]"
          ]
        },
        {
          "metadata": {
            "tags": null
          },
          "name": "stdout",
          "output_type": "stream",
          "text": [
            "(256, 256, 1) 1.0 1.3750061e-12\n",
            "(256, 256, 3) (256, 256) (256, 256)\n",
            "_03_g_123\n",
            "(256, 256, 1) 1.0 8.550323e-12\n",
            "(256, 256, 3) (256, 256) (256, 256)\n"
          ]
        },
        {
          "metadata": {
            "tags": null
          },
          "name": "stderr",
          "output_type": "stream",
          "text": [
            " 12%|█▏        | 310/2520 [00:52<06:16,  5.86it/s]"
          ]
        },
        {
          "metadata": {
            "tags": null
          },
          "name": "stdout",
          "output_type": "stream",
          "text": [
            "_03_g_124\n",
            "(256, 256, 1) 1.0 3.9040945e-12\n",
            "(256, 256, 3) (256, 256) (256, 256)\n",
            "_03_g_125\n"
          ]
        },
        {
          "metadata": {
            "tags": null
          },
          "name": "stderr",
          "output_type": "stream",
          "text": [
            "/usr/local/lib/python3.7/dist-packages/sklearn/metrics/_classification.py:1580: UndefinedMetricWarning: F-score is ill-defined and being set to 0.0 due to no true nor predicted samples. Use `zero_division` parameter to control this behavior.\n",
            "  _warn_prf(average, \"true nor predicted\", \"F-score is\", len(true_sum))\n",
            "/usr/local/lib/python3.7/dist-packages/sklearn/metrics/_classification.py:1318: UndefinedMetricWarning: Jaccard is ill-defined and being set to 0.0 due to no true or predicted samples. Use `zero_division` parameter to control this behavior.\n",
            "  _warn_prf(average, modifier, msg_start, len(result))\n",
            "/usr/local/lib/python3.7/dist-packages/sklearn/metrics/_classification.py:1318: UndefinedMetricWarning: Recall is ill-defined and being set to 0.0 due to no true samples. Use `zero_division` parameter to control this behavior.\n",
            "  _warn_prf(average, modifier, msg_start, len(result))\n",
            "/usr/local/lib/python3.7/dist-packages/sklearn/metrics/_classification.py:1318: UndefinedMetricWarning: Precision is ill-defined and being set to 0.0 due to no predicted samples. Use `zero_division` parameter to control this behavior.\n",
            "  _warn_prf(average, modifier, msg_start, len(result))\n",
            "\r 12%|█▏        | 311/2520 [00:52<06:06,  6.03it/s]"
          ]
        },
        {
          "metadata": {
            "tags": null
          },
          "name": "stdout",
          "output_type": "stream",
          "text": [
            "(256, 256, 1) 1.094644e-05 2.4046886e-07\n",
            "(256, 256, 3) (256, 256) (256, 256)\n",
            "_03_g_126\n",
            "(256, 256, 1) 1.0990383e-05 3.0108586e-07\n",
            "(256, 256, 3) (256, 256) (256, 256)\n"
          ]
        },
        {
          "metadata": {
            "tags": null
          },
          "name": "stderr",
          "output_type": "stream",
          "text": [
            "/usr/local/lib/python3.7/dist-packages/sklearn/metrics/_classification.py:1580: UndefinedMetricWarning: F-score is ill-defined and being set to 0.0 due to no true nor predicted samples. Use `zero_division` parameter to control this behavior.\n",
            "  _warn_prf(average, \"true nor predicted\", \"F-score is\", len(true_sum))\n",
            "/usr/local/lib/python3.7/dist-packages/sklearn/metrics/_classification.py:1318: UndefinedMetricWarning: Jaccard is ill-defined and being set to 0.0 due to no true or predicted samples. Use `zero_division` parameter to control this behavior.\n",
            "  _warn_prf(average, modifier, msg_start, len(result))\n",
            "/usr/local/lib/python3.7/dist-packages/sklearn/metrics/_classification.py:1318: UndefinedMetricWarning: Recall is ill-defined and being set to 0.0 due to no true samples. Use `zero_division` parameter to control this behavior.\n",
            "  _warn_prf(average, modifier, msg_start, len(result))\n",
            "/usr/local/lib/python3.7/dist-packages/sklearn/metrics/_classification.py:1318: UndefinedMetricWarning: Precision is ill-defined and being set to 0.0 due to no predicted samples. Use `zero_division` parameter to control this behavior.\n",
            "  _warn_prf(average, modifier, msg_start, len(result))\n",
            " 12%|█▏        | 312/2520 [00:52<06:01,  6.10it/s]/usr/local/lib/python3.7/dist-packages/sklearn/metrics/_classification.py:1580: UndefinedMetricWarning: F-score is ill-defined and being set to 0.0 due to no true nor predicted samples. Use `zero_division` parameter to control this behavior.\n",
            "  _warn_prf(average, \"true nor predicted\", \"F-score is\", len(true_sum))\n",
            "/usr/local/lib/python3.7/dist-packages/sklearn/metrics/_classification.py:1318: UndefinedMetricWarning: Jaccard is ill-defined and being set to 0.0 due to no true or predicted samples. Use `zero_division` parameter to control this behavior.\n",
            "  _warn_prf(average, modifier, msg_start, len(result))\n",
            "/usr/local/lib/python3.7/dist-packages/sklearn/metrics/_classification.py:1318: UndefinedMetricWarning: Recall is ill-defined and being set to 0.0 due to no true samples. Use `zero_division` parameter to control this behavior.\n",
            "  _warn_prf(average, modifier, msg_start, len(result))\n",
            "/usr/local/lib/python3.7/dist-packages/sklearn/metrics/_classification.py:1318: UndefinedMetricWarning: Precision is ill-defined and being set to 0.0 due to no predicted samples. Use `zero_division` parameter to control this behavior.\n",
            "  _warn_prf(average, modifier, msg_start, len(result))\n",
            " 12%|█▏        | 313/2520 [00:52<05:57,  6.17it/s]"
          ]
        },
        {
          "metadata": {
            "tags": null
          },
          "name": "stdout",
          "output_type": "stream",
          "text": [
            "_03_g_127\n",
            "(256, 256, 1) 1.0990383e-05 2.7897377e-07\n",
            "(256, 256, 3) (256, 256) (256, 256)\n",
            "_03_g_128\n"
          ]
        },
        {
          "metadata": {
            "tags": null
          },
          "name": "stderr",
          "output_type": "stream",
          "text": [
            "\r 12%|█▏        | 314/2520 [00:52<06:03,  6.07it/s]"
          ]
        },
        {
          "metadata": {
            "tags": null
          },
          "name": "stdout",
          "output_type": "stream",
          "text": [
            "(256, 256, 1) 1.0 4.935793e-12\n",
            "(256, 256, 3) (256, 256) (256, 256)\n",
            "_03_g_129\n",
            "(256, 256, 1) 1.0 1.01912055e-11\n",
            "(256, 256, 3) (256, 256) (256, 256)\n"
          ]
        },
        {
          "metadata": {
            "tags": null
          },
          "name": "stderr",
          "output_type": "stream",
          "text": [
            " 12%|█▎        | 315/2520 [00:53<06:06,  6.02it/s]/usr/local/lib/python3.7/dist-packages/sklearn/metrics/_classification.py:1580: UndefinedMetricWarning: F-score is ill-defined and being set to 0.0 due to no true nor predicted samples. Use `zero_division` parameter to control this behavior.\n",
            "  _warn_prf(average, \"true nor predicted\", \"F-score is\", len(true_sum))\n",
            "/usr/local/lib/python3.7/dist-packages/sklearn/metrics/_classification.py:1318: UndefinedMetricWarning: Jaccard is ill-defined and being set to 0.0 due to no true or predicted samples. Use `zero_division` parameter to control this behavior.\n",
            "  _warn_prf(average, modifier, msg_start, len(result))\n",
            "/usr/local/lib/python3.7/dist-packages/sklearn/metrics/_classification.py:1318: UndefinedMetricWarning: Recall is ill-defined and being set to 0.0 due to no true samples. Use `zero_division` parameter to control this behavior.\n",
            "  _warn_prf(average, modifier, msg_start, len(result))\n",
            "/usr/local/lib/python3.7/dist-packages/sklearn/metrics/_classification.py:1318: UndefinedMetricWarning: Precision is ill-defined and being set to 0.0 due to no predicted samples. Use `zero_division` parameter to control this behavior.\n",
            "  _warn_prf(average, modifier, msg_start, len(result))\n",
            " 13%|█▎        | 316/2520 [00:53<05:54,  6.21it/s]"
          ]
        },
        {
          "metadata": {
            "tags": null
          },
          "name": "stdout",
          "output_type": "stream",
          "text": [
            "_03_g_13\n",
            "(256, 256, 1) 1.0959602e-05 2.673251e-07\n",
            "(256, 256, 3) (256, 256) (256, 256)\n",
            "_03_g_130\n"
          ]
        },
        {
          "metadata": {
            "tags": null
          },
          "name": "stderr",
          "output_type": "stream",
          "text": [
            "\r 13%|█▎        | 317/2520 [00:53<05:58,  6.15it/s]"
          ]
        },
        {
          "metadata": {
            "tags": null
          },
          "name": "stdout",
          "output_type": "stream",
          "text": [
            "(256, 256, 1) 1.0 6.3282864e-12\n",
            "(256, 256, 3) (256, 256) (256, 256)\n",
            "_03_g_131\n",
            "(256, 256, 1) 1.0 5.716072e-12\n",
            "(256, 256, 3) (256, 256) (256, 256)\n"
          ]
        },
        {
          "metadata": {
            "tags": null
          },
          "name": "stderr",
          "output_type": "stream",
          "text": [
            " 13%|█▎        | 319/2520 [00:53<06:03,  6.06it/s]"
          ]
        },
        {
          "metadata": {
            "tags": null
          },
          "name": "stdout",
          "output_type": "stream",
          "text": [
            "_03_g_132\n",
            "(256, 256, 1) 1.0 1.1424107e-11\n",
            "(256, 256, 3) (256, 256) (256, 256)\n",
            "_03_g_133\n"
          ]
        },
        {
          "metadata": {
            "tags": null
          },
          "name": "stderr",
          "output_type": "stream",
          "text": [
            "\r 13%|█▎        | 320/2520 [00:53<06:11,  5.92it/s]"
          ]
        },
        {
          "metadata": {
            "tags": null
          },
          "name": "stdout",
          "output_type": "stream",
          "text": [
            "(256, 256, 1) 1.0 8.879811e-12\n",
            "(256, 256, 3) (256, 256) (256, 256)\n",
            "_03_g_134\n",
            "(256, 256, 1) 1.0 1.7063534e-12\n",
            "(256, 256, 3) (256, 256) (256, 256)\n"
          ]
        },
        {
          "metadata": {
            "tags": null
          },
          "name": "stderr",
          "output_type": "stream",
          "text": [
            " 13%|█▎        | 322/2520 [00:54<06:07,  5.98it/s]"
          ]
        },
        {
          "metadata": {
            "tags": null
          },
          "name": "stdout",
          "output_type": "stream",
          "text": [
            "_03_g_135\n",
            "(256, 256, 1) 1.0 4.2605555e-12\n",
            "(256, 256, 3) (256, 256) (256, 256)\n",
            "_03_g_136\n"
          ]
        },
        {
          "metadata": {
            "tags": null
          },
          "name": "stderr",
          "output_type": "stream",
          "text": [
            "\r 13%|█▎        | 323/2520 [00:54<06:06,  5.99it/s]"
          ]
        },
        {
          "metadata": {
            "tags": null
          },
          "name": "stdout",
          "output_type": "stream",
          "text": [
            "(256, 256, 1) 1.0 1.5537096e-11\n",
            "(256, 256, 3) (256, 256) (256, 256)\n",
            "_03_g_137\n",
            "(256, 256, 1) 1.0 2.983159e-12\n",
            "(256, 256, 3) (256, 256) (256, 256)\n"
          ]
        },
        {
          "metadata": {
            "tags": null
          },
          "name": "stderr",
          "output_type": "stream",
          "text": [
            " 13%|█▎        | 324/2520 [00:54<06:08,  5.97it/s]/usr/local/lib/python3.7/dist-packages/sklearn/metrics/_classification.py:1580: UndefinedMetricWarning: F-score is ill-defined and being set to 0.0 due to no true nor predicted samples. Use `zero_division` parameter to control this behavior.\n",
            "  _warn_prf(average, \"true nor predicted\", \"F-score is\", len(true_sum))\n",
            "/usr/local/lib/python3.7/dist-packages/sklearn/metrics/_classification.py:1318: UndefinedMetricWarning: Jaccard is ill-defined and being set to 0.0 due to no true or predicted samples. Use `zero_division` parameter to control this behavior.\n",
            "  _warn_prf(average, modifier, msg_start, len(result))\n",
            "/usr/local/lib/python3.7/dist-packages/sklearn/metrics/_classification.py:1318: UndefinedMetricWarning: Recall is ill-defined and being set to 0.0 due to no true samples. Use `zero_division` parameter to control this behavior.\n",
            "  _warn_prf(average, modifier, msg_start, len(result))\n",
            "/usr/local/lib/python3.7/dist-packages/sklearn/metrics/_classification.py:1318: UndefinedMetricWarning: Precision is ill-defined and being set to 0.0 due to no predicted samples. Use `zero_division` parameter to control this behavior.\n",
            "  _warn_prf(average, modifier, msg_start, len(result))\n",
            " 13%|█▎        | 325/2520 [00:54<05:57,  6.13it/s]"
          ]
        },
        {
          "metadata": {
            "tags": null
          },
          "name": "stdout",
          "output_type": "stream",
          "text": [
            "_03_g_138\n",
            "(256, 256, 1) 1.0990383e-05 2.4710496e-07\n",
            "(256, 256, 3) (256, 256) (256, 256)\n",
            "_03_g_139\n"
          ]
        },
        {
          "metadata": {
            "tags": null
          },
          "name": "stderr",
          "output_type": "stream",
          "text": [
            "/usr/local/lib/python3.7/dist-packages/sklearn/metrics/_classification.py:1580: UndefinedMetricWarning: F-score is ill-defined and being set to 0.0 due to no true nor predicted samples. Use `zero_division` parameter to control this behavior.\n",
            "  _warn_prf(average, \"true nor predicted\", \"F-score is\", len(true_sum))\n",
            "/usr/local/lib/python3.7/dist-packages/sklearn/metrics/_classification.py:1318: UndefinedMetricWarning: Jaccard is ill-defined and being set to 0.0 due to no true or predicted samples. Use `zero_division` parameter to control this behavior.\n",
            "  _warn_prf(average, modifier, msg_start, len(result))\n",
            "/usr/local/lib/python3.7/dist-packages/sklearn/metrics/_classification.py:1318: UndefinedMetricWarning: Recall is ill-defined and being set to 0.0 due to no true samples. Use `zero_division` parameter to control this behavior.\n",
            "  _warn_prf(average, modifier, msg_start, len(result))\n",
            "/usr/local/lib/python3.7/dist-packages/sklearn/metrics/_classification.py:1318: UndefinedMetricWarning: Precision is ill-defined and being set to 0.0 due to no predicted samples. Use `zero_division` parameter to control this behavior.\n",
            "  _warn_prf(average, modifier, msg_start, len(result))\n",
            "\r 13%|█▎        | 326/2520 [00:54<05:47,  6.31it/s]"
          ]
        },
        {
          "metadata": {
            "tags": null
          },
          "name": "stdout",
          "output_type": "stream",
          "text": [
            "(256, 256, 1) 1.0990383e-05 2.3331394e-07\n",
            "(256, 256, 3) (256, 256) (256, 256)\n",
            "_03_g_14\n",
            "(256, 256, 1) 9.524859e-06 2.9116634e-07\n",
            "(256, 256, 3) (256, 256) (256, 256)\n"
          ]
        },
        {
          "metadata": {
            "tags": null
          },
          "name": "stderr",
          "output_type": "stream",
          "text": [
            "/usr/local/lib/python3.7/dist-packages/sklearn/metrics/_classification.py:1580: UndefinedMetricWarning: F-score is ill-defined and being set to 0.0 due to no true nor predicted samples. Use `zero_division` parameter to control this behavior.\n",
            "  _warn_prf(average, \"true nor predicted\", \"F-score is\", len(true_sum))\n",
            "/usr/local/lib/python3.7/dist-packages/sklearn/metrics/_classification.py:1318: UndefinedMetricWarning: Jaccard is ill-defined and being set to 0.0 due to no true or predicted samples. Use `zero_division` parameter to control this behavior.\n",
            "  _warn_prf(average, modifier, msg_start, len(result))\n",
            "/usr/local/lib/python3.7/dist-packages/sklearn/metrics/_classification.py:1318: UndefinedMetricWarning: Recall is ill-defined and being set to 0.0 due to no true samples. Use `zero_division` parameter to control this behavior.\n",
            "  _warn_prf(average, modifier, msg_start, len(result))\n",
            "/usr/local/lib/python3.7/dist-packages/sklearn/metrics/_classification.py:1318: UndefinedMetricWarning: Precision is ill-defined and being set to 0.0 due to no predicted samples. Use `zero_division` parameter to control this behavior.\n",
            "  _warn_prf(average, modifier, msg_start, len(result))\n",
            " 13%|█▎        | 328/2520 [00:55<05:50,  6.26it/s]"
          ]
        },
        {
          "metadata": {
            "tags": null
          },
          "name": "stdout",
          "output_type": "stream",
          "text": [
            "_03_g_15\n",
            "(256, 256, 1) 1.0 6.384641e-11\n",
            "(256, 256, 3) (256, 256) (256, 256)\n",
            "_03_g_16\n"
          ]
        },
        {
          "metadata": {
            "tags": null
          },
          "name": "stderr",
          "output_type": "stream",
          "text": [
            "\r 13%|█▎        | 329/2520 [00:55<05:58,  6.11it/s]"
          ]
        },
        {
          "metadata": {
            "tags": null
          },
          "name": "stdout",
          "output_type": "stream",
          "text": [
            "(256, 256, 1) 1.0 1.6120286e-11\n",
            "(256, 256, 3) (256, 256) (256, 256)\n",
            "_03_g_17\n",
            "(256, 256, 1) 1.0 5.339668e-11\n",
            "(256, 256, 3) (256, 256) (256, 256)\n"
          ]
        },
        {
          "metadata": {
            "tags": null
          },
          "name": "stderr",
          "output_type": "stream",
          "text": [
            " 13%|█▎        | 331/2520 [00:55<06:01,  6.05it/s]"
          ]
        },
        {
          "metadata": {
            "tags": null
          },
          "name": "stdout",
          "output_type": "stream",
          "text": [
            "_03_g_18\n",
            "(256, 256, 1) 1.0 5.917704e-11\n",
            "(256, 256, 3) (256, 256) (256, 256)\n",
            "_03_g_19\n"
          ]
        },
        {
          "metadata": {
            "tags": null
          },
          "name": "stderr",
          "output_type": "stream",
          "text": [
            "\r 13%|█▎        | 332/2520 [00:55<06:04,  6.01it/s]"
          ]
        },
        {
          "metadata": {
            "tags": null
          },
          "name": "stdout",
          "output_type": "stream",
          "text": [
            "(256, 256, 1) 1.0 3.3878192e-11\n",
            "(256, 256, 3) (256, 256) (256, 256)\n",
            "_03_g_2\n",
            "(256, 256, 1) 1.0 7.017963e-11\n",
            "(256, 256, 3) (256, 256) (256, 256)\n"
          ]
        },
        {
          "metadata": {
            "tags": null
          },
          "name": "stderr",
          "output_type": "stream",
          "text": [
            " 13%|█▎        | 334/2520 [00:56<06:05,  5.97it/s]"
          ]
        },
        {
          "metadata": {
            "tags": null
          },
          "name": "stdout",
          "output_type": "stream",
          "text": [
            "_03_g_20\n",
            "(256, 256, 1) 1.0 1.1009505e-12\n",
            "(256, 256, 3) (256, 256) (256, 256)\n",
            "_03_g_21\n"
          ]
        },
        {
          "metadata": {
            "tags": null
          },
          "name": "stderr",
          "output_type": "stream",
          "text": [
            "\r 13%|█▎        | 335/2520 [00:56<06:06,  5.96it/s]"
          ]
        },
        {
          "metadata": {
            "tags": null
          },
          "name": "stdout",
          "output_type": "stream",
          "text": [
            "(256, 256, 1) 1.0 4.1839787e-12\n",
            "(256, 256, 3) (256, 256) (256, 256)\n",
            "_03_g_22\n",
            "(256, 256, 1) 1.0 1.18524635e-11\n",
            "(256, 256, 3) (256, 256) (256, 256)\n"
          ]
        },
        {
          "metadata": {
            "tags": null
          },
          "name": "stderr",
          "output_type": "stream",
          "text": [
            " 13%|█▎        | 337/2520 [00:56<06:08,  5.93it/s]"
          ]
        },
        {
          "metadata": {
            "tags": null
          },
          "name": "stdout",
          "output_type": "stream",
          "text": [
            "_03_g_23\n",
            "(256, 256, 1) 1.0 4.510469e-11\n",
            "(256, 256, 3) (256, 256) (256, 256)\n",
            "_03_g_24\n"
          ]
        },
        {
          "metadata": {
            "tags": null
          },
          "name": "stderr",
          "output_type": "stream",
          "text": [
            "\r 13%|█▎        | 338/2520 [00:56<06:09,  5.91it/s]"
          ]
        },
        {
          "metadata": {
            "tags": null
          },
          "name": "stdout",
          "output_type": "stream",
          "text": [
            "(256, 256, 1) 1.0 2.2278063e-12\n",
            "(256, 256, 3) (256, 256) (256, 256)\n",
            "_03_g_25\n",
            "(256, 256, 1) 1.0 4.9397136e-11\n",
            "(256, 256, 3) (256, 256) (256, 256)\n"
          ]
        },
        {
          "metadata": {
            "tags": null
          },
          "name": "stderr",
          "output_type": "stream",
          "text": [
            " 13%|█▎        | 340/2520 [00:57<06:03,  5.99it/s]"
          ]
        },
        {
          "metadata": {
            "tags": null
          },
          "name": "stdout",
          "output_type": "stream",
          "text": [
            "_03_g_26\n",
            "(256, 256, 1) 1.0 2.3117598e-11\n",
            "(256, 256, 3) (256, 256) (256, 256)\n",
            "_03_g_27\n"
          ]
        },
        {
          "metadata": {
            "tags": null
          },
          "name": "stderr",
          "output_type": "stream",
          "text": [
            "/usr/local/lib/python3.7/dist-packages/sklearn/metrics/_classification.py:1580: UndefinedMetricWarning: F-score is ill-defined and being set to 0.0 due to no true nor predicted samples. Use `zero_division` parameter to control this behavior.\n",
            "  _warn_prf(average, \"true nor predicted\", \"F-score is\", len(true_sum))\n",
            "/usr/local/lib/python3.7/dist-packages/sklearn/metrics/_classification.py:1318: UndefinedMetricWarning: Jaccard is ill-defined and being set to 0.0 due to no true or predicted samples. Use `zero_division` parameter to control this behavior.\n",
            "  _warn_prf(average, modifier, msg_start, len(result))\n",
            "/usr/local/lib/python3.7/dist-packages/sklearn/metrics/_classification.py:1318: UndefinedMetricWarning: Recall is ill-defined and being set to 0.0 due to no true samples. Use `zero_division` parameter to control this behavior.\n",
            "  _warn_prf(average, modifier, msg_start, len(result))\n",
            "/usr/local/lib/python3.7/dist-packages/sklearn/metrics/_classification.py:1318: UndefinedMetricWarning: Precision is ill-defined and being set to 0.0 due to no predicted samples. Use `zero_division` parameter to control this behavior.\n",
            "  _warn_prf(average, modifier, msg_start, len(result))\n",
            "\r 14%|█▎        | 341/2520 [00:57<05:51,  6.19it/s]"
          ]
        },
        {
          "metadata": {
            "tags": null
          },
          "name": "stdout",
          "output_type": "stream",
          "text": [
            "(256, 256, 1) 1.0965299e-05 2.4436054e-07\n",
            "(256, 256, 3) (256, 256) (256, 256)\n",
            "_03_g_28\n",
            "(256, 256, 1) 5.307541e-06 6.2034483e-12\n",
            "(256, 256, 3) (256, 256) (256, 256)\n"
          ]
        },
        {
          "output_type": "stream",
          "name": "stderr",
          "text": [
            "/usr/local/lib/python3.7/dist-packages/sklearn/metrics/_classification.py:1580: UndefinedMetricWarning: F-score is ill-defined and being set to 0.0 due to no true nor predicted samples. Use `zero_division` parameter to control this behavior.\n",
            "  _warn_prf(average, \"true nor predicted\", \"F-score is\", len(true_sum))\n",
            "/usr/local/lib/python3.7/dist-packages/sklearn/metrics/_classification.py:1318: UndefinedMetricWarning: Jaccard is ill-defined and being set to 0.0 due to no true or predicted samples. Use `zero_division` parameter to control this behavior.\n",
            "  _warn_prf(average, modifier, msg_start, len(result))\n",
            "/usr/local/lib/python3.7/dist-packages/sklearn/metrics/_classification.py:1318: UndefinedMetricWarning: Recall is ill-defined and being set to 0.0 due to no true samples. Use `zero_division` parameter to control this behavior.\n",
            "  _warn_prf(average, modifier, msg_start, len(result))\n",
            "/usr/local/lib/python3.7/dist-packages/sklearn/metrics/_classification.py:1318: UndefinedMetricWarning: Precision is ill-defined and being set to 0.0 due to no predicted samples. Use `zero_division` parameter to control this behavior.\n",
            "  _warn_prf(average, modifier, msg_start, len(result))\n",
            " 14%|█▎        | 343/2520 [00:57<05:56,  6.10it/s]"
          ]
        },
        {
          "output_type": "stream",
          "name": "stdout",
          "text": [
            "_03_g_29\n",
            "(256, 256, 1) 1.0 4.3385115e-11\n",
            "(256, 256, 3) (256, 256) (256, 256)\n",
            "_03_g_3\n"
          ]
        },
        {
          "output_type": "stream",
          "name": "stderr",
          "text": [
            "\r 14%|█▎        | 344/2520 [00:57<06:02,  6.00it/s]"
          ]
        },
        {
          "output_type": "stream",
          "name": "stdout",
          "text": [
            "(256, 256, 1) 1.0 1.1357738e-10\n",
            "(256, 256, 3) (256, 256) (256, 256)\n",
            "_03_g_30\n",
            "(256, 256, 1) 1.0 2.9507237e-11\n",
            "(256, 256, 3) (256, 256) (256, 256)\n"
          ]
        },
        {
          "output_type": "stream",
          "name": "stderr",
          "text": [
            " 14%|█▎        | 346/2520 [00:58<06:05,  5.95it/s]"
          ]
        },
        {
          "output_type": "stream",
          "name": "stdout",
          "text": [
            "_03_g_31\n",
            "(256, 256, 1) 1.0 2.1669555e-11\n",
            "(256, 256, 3) (256, 256) (256, 256)\n",
            "_03_g_32\n"
          ]
        },
        {
          "output_type": "stream",
          "name": "stderr",
          "text": [
            "\r 14%|█▍        | 347/2520 [00:58<06:03,  5.98it/s]"
          ]
        },
        {
          "output_type": "stream",
          "name": "stdout",
          "text": [
            "(256, 256, 1) 1.0 7.469611e-12\n",
            "(256, 256, 3) (256, 256) (256, 256)\n",
            "_03_g_33\n",
            "(256, 256, 1) 1.0 2.5932735e-11\n",
            "(256, 256, 3) (256, 256) (256, 256)\n"
          ]
        },
        {
          "output_type": "stream",
          "name": "stderr",
          "text": [
            " 14%|█▍        | 349/2520 [00:58<06:08,  5.89it/s]"
          ]
        },
        {
          "output_type": "stream",
          "name": "stdout",
          "text": [
            "_03_g_34\n",
            "(256, 256, 1) 1.0 1.1115579e-11\n",
            "(256, 256, 3) (256, 256) (256, 256)\n",
            "_03_g_35\n"
          ]
        },
        {
          "output_type": "stream",
          "name": "stderr",
          "text": [
            "\r 14%|█▍        | 350/2520 [00:58<06:08,  5.88it/s]"
          ]
        },
        {
          "output_type": "stream",
          "name": "stdout",
          "text": [
            "(256, 256, 1) 1.0 9.093199e-12\n",
            "(256, 256, 3) (256, 256) (256, 256)\n",
            "_03_g_36\n",
            "(256, 256, 1) 1.0 6.367503e-12\n",
            "(256, 256, 3) (256, 256) (256, 256)\n"
          ]
        },
        {
          "output_type": "stream",
          "name": "stderr",
          "text": [
            " 14%|█▍        | 352/2520 [00:59<06:11,  5.83it/s]"
          ]
        },
        {
          "output_type": "stream",
          "name": "stdout",
          "text": [
            "_03_g_37\n",
            "(256, 256, 1) 1.0 1.9222382e-11\n",
            "(256, 256, 3) (256, 256) (256, 256)\n",
            "_03_g_38\n"
          ]
        },
        {
          "output_type": "stream",
          "name": "stderr",
          "text": [
            "\r 14%|█▍        | 353/2520 [00:59<06:09,  5.86it/s]"
          ]
        },
        {
          "output_type": "stream",
          "name": "stdout",
          "text": [
            "(256, 256, 1) 1.0 2.793348e-11\n",
            "(256, 256, 3) (256, 256) (256, 256)\n",
            "_03_g_39\n",
            "(256, 256, 1) 1.0 2.0749395e-13\n",
            "(256, 256, 3) (256, 256) (256, 256)\n"
          ]
        },
        {
          "output_type": "stream",
          "name": "stderr",
          "text": [
            " 14%|█▍        | 355/2520 [00:59<06:06,  5.91it/s]"
          ]
        },
        {
          "output_type": "stream",
          "name": "stdout",
          "text": [
            "_03_g_4\n",
            "(256, 256, 1) 1.0 7.9551095e-11\n",
            "(256, 256, 3) (256, 256) (256, 256)\n",
            "_03_g_40\n"
          ]
        },
        {
          "output_type": "stream",
          "name": "stderr",
          "text": [
            "\r 14%|█▍        | 356/2520 [00:59<06:02,  5.98it/s]"
          ]
        },
        {
          "output_type": "stream",
          "name": "stdout",
          "text": [
            "(256, 256, 1) 1.0 5.264045e-12\n",
            "(256, 256, 3) (256, 256) (256, 256)\n",
            "_03_g_41\n",
            "(256, 256, 1) 4.6477187e-05 2.1927227e-09\n",
            "(256, 256, 3) (256, 256) (256, 256)\n"
          ]
        },
        {
          "output_type": "stream",
          "name": "stderr",
          "text": [
            "/usr/local/lib/python3.7/dist-packages/sklearn/metrics/_classification.py:1318: UndefinedMetricWarning: Precision is ill-defined and being set to 0.0 due to no predicted samples. Use `zero_division` parameter to control this behavior.\n",
            "  _warn_prf(average, modifier, msg_start, len(result))\n",
            " 14%|█▍        | 357/2520 [01:00<06:02,  5.97it/s]/usr/local/lib/python3.7/dist-packages/sklearn/metrics/_classification.py:1318: UndefinedMetricWarning: Precision is ill-defined and being set to 0.0 due to no predicted samples. Use `zero_division` parameter to control this behavior.\n",
            "  _warn_prf(average, modifier, msg_start, len(result))\n",
            " 14%|█▍        | 358/2520 [01:00<06:04,  5.93it/s]"
          ]
        },
        {
          "output_type": "stream",
          "name": "stdout",
          "text": [
            "_03_g_42\n",
            "(256, 256, 1) 5.069139e-05 5.100112e-12\n",
            "(256, 256, 3) (256, 256) (256, 256)\n",
            "_03_g_43\n"
          ]
        },
        {
          "output_type": "stream",
          "name": "stderr",
          "text": [
            "\r 14%|█▍        | 359/2520 [01:00<06:06,  5.89it/s]"
          ]
        },
        {
          "output_type": "stream",
          "name": "stdout",
          "text": [
            "(256, 256, 1) 1.0 1.7745936e-09\n",
            "(256, 256, 3) (256, 256) (256, 256)\n",
            "_03_g_44\n",
            "(256, 256, 1) 1.0 7.6622854e-11\n",
            "(256, 256, 3) (256, 256) (256, 256)\n"
          ]
        },
        {
          "output_type": "stream",
          "name": "stderr",
          "text": [
            " 14%|█▍        | 361/2520 [01:00<06:07,  5.88it/s]"
          ]
        },
        {
          "output_type": "stream",
          "name": "stdout",
          "text": [
            "_03_g_45\n",
            "(256, 256, 1) 1.0 3.3589665e-12\n",
            "(256, 256, 3) (256, 256) (256, 256)\n",
            "_03_g_46\n"
          ]
        },
        {
          "output_type": "stream",
          "name": "stderr",
          "text": [
            "\r 14%|█▍        | 362/2520 [01:00<06:05,  5.90it/s]"
          ]
        },
        {
          "output_type": "stream",
          "name": "stdout",
          "text": [
            "(256, 256, 1) 1.0 5.2086276e-11\n",
            "(256, 256, 3) (256, 256) (256, 256)\n",
            "_03_g_47\n",
            "(256, 256, 1) 1.0 1.2931463e-11\n",
            "(256, 256, 3) (256, 256) (256, 256)\n"
          ]
        },
        {
          "output_type": "stream",
          "name": "stderr",
          "text": [
            " 14%|█▍        | 364/2520 [01:01<06:05,  5.91it/s]"
          ]
        },
        {
          "output_type": "stream",
          "name": "stdout",
          "text": [
            "_03_g_48\n",
            "(256, 256, 1) 1.0 8.214441e-12\n",
            "(256, 256, 3) (256, 256) (256, 256)\n",
            "_03_g_49\n"
          ]
        },
        {
          "output_type": "stream",
          "name": "stderr",
          "text": [
            "\r 14%|█▍        | 365/2520 [01:01<06:07,  5.87it/s]"
          ]
        },
        {
          "output_type": "stream",
          "name": "stdout",
          "text": [
            "(256, 256, 1) 1.0 2.5934121e-11\n",
            "(256, 256, 3) (256, 256) (256, 256)\n",
            "_03_g_5\n",
            "(256, 256, 1) 1.0 1.6166379e-11\n",
            "(256, 256, 3) (256, 256) (256, 256)\n"
          ]
        },
        {
          "output_type": "stream",
          "name": "stderr",
          "text": [
            " 15%|█▍        | 367/2520 [01:01<06:02,  5.94it/s]"
          ]
        },
        {
          "output_type": "stream",
          "name": "stdout",
          "text": [
            "_03_g_50\n",
            "(256, 256, 1) 1.0 3.8897732e-11\n",
            "(256, 256, 3) (256, 256) (256, 256)\n",
            "_03_g_51\n"
          ]
        },
        {
          "output_type": "stream",
          "name": "stderr",
          "text": [
            "\r 15%|█▍        | 368/2520 [01:01<06:12,  5.78it/s]"
          ]
        },
        {
          "output_type": "stream",
          "name": "stdout",
          "text": [
            "(256, 256, 1) 1.0 4.8601513e-12\n",
            "(256, 256, 3) (256, 256) (256, 256)\n",
            "_03_g_52\n",
            "(256, 256, 1) 1.0 9.203599e-12\n",
            "(256, 256, 3) (256, 256) (256, 256)\n"
          ]
        },
        {
          "output_type": "stream",
          "name": "stderr",
          "text": [
            " 15%|█▍        | 370/2520 [01:02<06:11,  5.78it/s]"
          ]
        },
        {
          "output_type": "stream",
          "name": "stdout",
          "text": [
            "_03_g_53\n",
            "(256, 256, 1) 1.0 4.0458544e-13\n",
            "(256, 256, 3) (256, 256) (256, 256)\n",
            "_03_g_54\n"
          ]
        },
        {
          "output_type": "stream",
          "name": "stderr",
          "text": [
            "\r 15%|█▍        | 371/2520 [01:02<06:07,  5.85it/s]"
          ]
        },
        {
          "output_type": "stream",
          "name": "stdout",
          "text": [
            "(256, 256, 1) 1.0 2.2756358e-12\n",
            "(256, 256, 3) (256, 256) (256, 256)\n",
            "_03_g_55\n",
            "(256, 256, 1) 0.32283404 7.1621875e-10\n",
            "(256, 256, 3) (256, 256) (256, 256)\n"
          ]
        },
        {
          "output_type": "stream",
          "name": "stderr",
          "text": [
            "/usr/local/lib/python3.7/dist-packages/sklearn/metrics/_classification.py:1580: UndefinedMetricWarning: F-score is ill-defined and being set to 0.0 due to no true nor predicted samples. Use `zero_division` parameter to control this behavior.\n",
            "  _warn_prf(average, \"true nor predicted\", \"F-score is\", len(true_sum))\n",
            "/usr/local/lib/python3.7/dist-packages/sklearn/metrics/_classification.py:1318: UndefinedMetricWarning: Jaccard is ill-defined and being set to 0.0 due to no true or predicted samples. Use `zero_division` parameter to control this behavior.\n",
            "  _warn_prf(average, modifier, msg_start, len(result))\n",
            "/usr/local/lib/python3.7/dist-packages/sklearn/metrics/_classification.py:1318: UndefinedMetricWarning: Recall is ill-defined and being set to 0.0 due to no true samples. Use `zero_division` parameter to control this behavior.\n",
            "  _warn_prf(average, modifier, msg_start, len(result))\n",
            "/usr/local/lib/python3.7/dist-packages/sklearn/metrics/_classification.py:1318: UndefinedMetricWarning: Precision is ill-defined and being set to 0.0 due to no predicted samples. Use `zero_division` parameter to control this behavior.\n",
            "  _warn_prf(average, modifier, msg_start, len(result))\n",
            " 15%|█▍        | 372/2520 [01:02<05:51,  6.11it/s]/usr/local/lib/python3.7/dist-packages/sklearn/metrics/_classification.py:1580: UndefinedMetricWarning: F-score is ill-defined and being set to 0.0 due to no true nor predicted samples. Use `zero_division` parameter to control this behavior.\n",
            "  _warn_prf(average, \"true nor predicted\", \"F-score is\", len(true_sum))\n",
            "/usr/local/lib/python3.7/dist-packages/sklearn/metrics/_classification.py:1318: UndefinedMetricWarning: Jaccard is ill-defined and being set to 0.0 due to no true or predicted samples. Use `zero_division` parameter to control this behavior.\n",
            "  _warn_prf(average, modifier, msg_start, len(result))\n",
            "/usr/local/lib/python3.7/dist-packages/sklearn/metrics/_classification.py:1318: UndefinedMetricWarning: Recall is ill-defined and being set to 0.0 due to no true samples. Use `zero_division` parameter to control this behavior.\n",
            "  _warn_prf(average, modifier, msg_start, len(result))\n",
            "/usr/local/lib/python3.7/dist-packages/sklearn/metrics/_classification.py:1318: UndefinedMetricWarning: Precision is ill-defined and being set to 0.0 due to no predicted samples. Use `zero_division` parameter to control this behavior.\n",
            "  _warn_prf(average, modifier, msg_start, len(result))\n",
            " 15%|█▍        | 373/2520 [01:02<05:41,  6.30it/s]"
          ]
        },
        {
          "output_type": "stream",
          "name": "stdout",
          "text": [
            "_03_g_56\n",
            "(256, 256, 1) 4.851042e-05 5.2505678e-12\n",
            "(256, 256, 3) (256, 256) (256, 256)\n",
            "_03_g_57\n"
          ]
        },
        {
          "output_type": "stream",
          "name": "stderr",
          "text": [
            "\r 15%|█▍        | 374/2520 [01:02<05:47,  6.17it/s]"
          ]
        },
        {
          "output_type": "stream",
          "name": "stdout",
          "text": [
            "(256, 256, 1) 0.99999976 1.9238833e-09\n",
            "(256, 256, 3) (256, 256) (256, 256)\n",
            "_03_g_58\n",
            "(256, 256, 1) 1.0 4.8246523e-10\n",
            "(256, 256, 3) (256, 256) (256, 256)\n"
          ]
        },
        {
          "output_type": "stream",
          "name": "stderr",
          "text": [
            " 15%|█▍        | 375/2520 [01:03<05:50,  6.12it/s]/usr/local/lib/python3.7/dist-packages/sklearn/metrics/_classification.py:1318: UndefinedMetricWarning: Precision is ill-defined and being set to 0.0 due to no predicted samples. Use `zero_division` parameter to control this behavior.\n",
            "  _warn_prf(average, modifier, msg_start, len(result))\n",
            " 15%|█▍        | 376/2520 [01:03<05:54,  6.06it/s]"
          ]
        },
        {
          "output_type": "stream",
          "name": "stdout",
          "text": [
            "_03_g_59\n",
            "(256, 256, 1) 9.766274e-06 3.6073504e-09\n",
            "(256, 256, 3) (256, 256) (256, 256)\n",
            "_03_g_6\n"
          ]
        },
        {
          "output_type": "stream",
          "name": "stderr",
          "text": [
            "\r 15%|█▍        | 377/2520 [01:03<05:52,  6.08it/s]"
          ]
        },
        {
          "output_type": "stream",
          "name": "stdout",
          "text": [
            "(256, 256, 1) 1.0 3.4991268e-12\n",
            "(256, 256, 3) (256, 256) (256, 256)\n",
            "_03_g_60\n",
            "(256, 256, 1) 1.0 6.4402296e-11\n",
            "(256, 256, 3) (256, 256) (256, 256)\n"
          ]
        },
        {
          "output_type": "stream",
          "name": "stderr",
          "text": [
            " 15%|█▌        | 379/2520 [01:03<05:55,  6.02it/s]"
          ]
        },
        {
          "output_type": "stream",
          "name": "stdout",
          "text": [
            "_03_g_61\n",
            "(256, 256, 1) 1.0 5.2944468e-11\n",
            "(256, 256, 3) (256, 256) (256, 256)\n",
            "_03_g_62\n"
          ]
        },
        {
          "output_type": "stream",
          "name": "stderr",
          "text": [
            "\r 15%|█▌        | 380/2520 [01:03<06:01,  5.92it/s]"
          ]
        },
        {
          "output_type": "stream",
          "name": "stdout",
          "text": [
            "(256, 256, 1) 1.0 1.0377661e-09\n",
            "(256, 256, 3) (256, 256) (256, 256)\n",
            "_03_g_63\n",
            "(256, 256, 1) 1.0 2.6380348e-10\n",
            "(256, 256, 3) (256, 256) (256, 256)\n"
          ]
        },
        {
          "output_type": "stream",
          "name": "stderr",
          "text": [
            " 15%|█▌        | 382/2520 [01:04<05:58,  5.96it/s]"
          ]
        },
        {
          "output_type": "stream",
          "name": "stdout",
          "text": [
            "_03_g_64\n",
            "(256, 256, 1) 1.0 1.5532999e-12\n",
            "(256, 256, 3) (256, 256) (256, 256)\n",
            "_03_g_65\n"
          ]
        },
        {
          "output_type": "stream",
          "name": "stderr",
          "text": [
            "\r 15%|█▌        | 383/2520 [01:04<05:59,  5.95it/s]"
          ]
        },
        {
          "output_type": "stream",
          "name": "stdout",
          "text": [
            "(256, 256, 1) 1.0 1.480258e-10\n",
            "(256, 256, 3) (256, 256) (256, 256)\n",
            "_03_g_66\n",
            "(256, 256, 1) 1.0 1.2756763e-12\n",
            "(256, 256, 3) (256, 256) (256, 256)\n"
          ]
        },
        {
          "output_type": "stream",
          "name": "stderr",
          "text": [
            " 15%|█▌        | 385/2520 [01:04<06:06,  5.82it/s]"
          ]
        },
        {
          "output_type": "stream",
          "name": "stdout",
          "text": [
            "_03_g_67\n",
            "(256, 256, 1) 1.0 1.7753449e-13\n",
            "(256, 256, 3) (256, 256) (256, 256)\n",
            "_03_g_68\n"
          ]
        },
        {
          "output_type": "stream",
          "name": "stderr",
          "text": [
            "\r 15%|█▌        | 386/2520 [01:05<06:05,  5.84it/s]"
          ]
        },
        {
          "output_type": "stream",
          "name": "stdout",
          "text": [
            "(256, 256, 1) 1.0 1.1067241e-11\n",
            "(256, 256, 3) (256, 256) (256, 256)\n",
            "_03_g_69\n",
            "(256, 256, 1) 1.0 1.2071057e-10\n",
            "(256, 256, 3) (256, 256) (256, 256)\n"
          ]
        },
        {
          "output_type": "stream",
          "name": "stderr",
          "text": [
            " 15%|█▌        | 388/2520 [01:05<05:58,  5.94it/s]"
          ]
        },
        {
          "output_type": "stream",
          "name": "stdout",
          "text": [
            "_03_g_7\n",
            "(256, 256, 1) 1.0 1.0986645e-11\n",
            "(256, 256, 3) (256, 256) (256, 256)\n",
            "_03_g_70\n"
          ]
        },
        {
          "output_type": "stream",
          "name": "stderr",
          "text": [
            "/usr/local/lib/python3.7/dist-packages/sklearn/metrics/_classification.py:1318: UndefinedMetricWarning: Precision is ill-defined and being set to 0.0 due to no predicted samples. Use `zero_division` parameter to control this behavior.\n",
            "  _warn_prf(average, modifier, msg_start, len(result))\n",
            "\r 15%|█▌        | 389/2520 [01:05<05:58,  5.94it/s]"
          ]
        },
        {
          "output_type": "stream",
          "name": "stdout",
          "text": [
            "(256, 256, 1) 1.626278e-05 8.906375e-12\n",
            "(256, 256, 3) (256, 256) (256, 256)\n",
            "_03_g_71\n",
            "(256, 256, 1) 1.0 1.43743715e-11\n",
            "(256, 256, 3) (256, 256) (256, 256)\n"
          ]
        },
        {
          "output_type": "stream",
          "name": "stderr",
          "text": [
            " 16%|█▌        | 391/2520 [01:05<06:04,  5.83it/s]"
          ]
        },
        {
          "output_type": "stream",
          "name": "stdout",
          "text": [
            "_03_g_72\n",
            "(256, 256, 1) 1.0 2.4870392e-11\n",
            "(256, 256, 3) (256, 256) (256, 256)\n",
            "_03_g_73\n"
          ]
        },
        {
          "output_type": "stream",
          "name": "stderr",
          "text": [
            "\r 16%|█▌        | 392/2520 [01:06<06:07,  5.79it/s]"
          ]
        },
        {
          "output_type": "stream",
          "name": "stdout",
          "text": [
            "(256, 256, 1) 1.0 2.7330287e-09\n",
            "(256, 256, 3) (256, 256) (256, 256)\n",
            "_03_g_74\n",
            "(256, 256, 1) 1.0 1.6286108e-09\n",
            "(256, 256, 3) (256, 256) (256, 256)\n"
          ]
        },
        {
          "output_type": "stream",
          "name": "stderr",
          "text": [
            " 16%|█▌        | 393/2520 [01:06<06:08,  5.78it/s]/usr/local/lib/python3.7/dist-packages/sklearn/metrics/_classification.py:1318: UndefinedMetricWarning: Precision is ill-defined and being set to 0.0 due to no predicted samples. Use `zero_division` parameter to control this behavior.\n",
            "  _warn_prf(average, modifier, msg_start, len(result))\n",
            " 16%|█▌        | 394/2520 [01:06<06:03,  5.85it/s]"
          ]
        },
        {
          "output_type": "stream",
          "name": "stdout",
          "text": [
            "_03_g_75\n",
            "(256, 256, 1) 0.0007167807 9.626515e-10\n",
            "(256, 256, 3) (256, 256) (256, 256)\n",
            "_03_g_76\n"
          ]
        },
        {
          "output_type": "stream",
          "name": "stderr",
          "text": [
            "\r 16%|█▌        | 395/2520 [01:06<06:00,  5.90it/s]"
          ]
        },
        {
          "output_type": "stream",
          "name": "stdout",
          "text": [
            "(256, 256, 1) 0.99994314 5.454167e-09\n",
            "(256, 256, 3) (256, 256) (256, 256)\n",
            "_03_g_77\n",
            "(256, 256, 1) 1.3727922e-05 2.355898e-08\n",
            "(256, 256, 3) (256, 256) (256, 256)\n"
          ]
        },
        {
          "output_type": "stream",
          "name": "stderr",
          "text": [
            "/usr/local/lib/python3.7/dist-packages/sklearn/metrics/_classification.py:1318: UndefinedMetricWarning: Precision is ill-defined and being set to 0.0 due to no predicted samples. Use `zero_division` parameter to control this behavior.\n",
            "  _warn_prf(average, modifier, msg_start, len(result))\n",
            " 16%|█▌        | 397/2520 [01:06<05:59,  5.90it/s]"
          ]
        },
        {
          "output_type": "stream",
          "name": "stdout",
          "text": [
            "_03_g_78\n",
            "(256, 256, 1) 1.0 4.3602382e-11\n",
            "(256, 256, 3) (256, 256) (256, 256)\n",
            "_03_g_79\n"
          ]
        },
        {
          "output_type": "stream",
          "name": "stderr",
          "text": [
            "\r 16%|█▌        | 398/2520 [01:07<05:58,  5.92it/s]"
          ]
        },
        {
          "output_type": "stream",
          "name": "stdout",
          "text": [
            "(256, 256, 1) 1.0 2.3150193e-12\n",
            "(256, 256, 3) (256, 256) (256, 256)\n",
            "_03_g_8\n",
            "(256, 256, 1) 1.0 3.2018182e-12\n",
            "(256, 256, 3) (256, 256) (256, 256)\n"
          ]
        },
        {
          "output_type": "stream",
          "name": "stderr",
          "text": [
            " 16%|█▌        | 400/2520 [01:07<06:03,  5.84it/s]"
          ]
        },
        {
          "output_type": "stream",
          "name": "stdout",
          "text": [
            "_03_g_80\n",
            "(256, 256, 1) 1.0 1.1834448e-13\n",
            "(256, 256, 3) (256, 256) (256, 256)\n",
            "_03_g_81\n"
          ]
        },
        {
          "output_type": "stream",
          "name": "stderr",
          "text": [
            "\r 16%|█▌        | 401/2520 [01:07<06:03,  5.83it/s]"
          ]
        },
        {
          "output_type": "stream",
          "name": "stdout",
          "text": [
            "(256, 256, 1) 1.0 3.4672178e-12\n",
            "(256, 256, 3) (256, 256) (256, 256)\n",
            "_03_g_82\n",
            "(256, 256, 1) 1.0 3.194518e-11\n",
            "(256, 256, 3) (256, 256) (256, 256)\n"
          ]
        },
        {
          "output_type": "stream",
          "name": "stderr",
          "text": [
            " 16%|█▌        | 403/2520 [01:07<05:55,  5.96it/s]"
          ]
        },
        {
          "output_type": "stream",
          "name": "stdout",
          "text": [
            "_03_g_83\n",
            "(256, 256, 1) 1.0 3.920887e-11\n",
            "(256, 256, 3) (256, 256) (256, 256)\n",
            "_03_g_84\n"
          ]
        },
        {
          "output_type": "stream",
          "name": "stderr",
          "text": [
            "/usr/local/lib/python3.7/dist-packages/sklearn/metrics/_classification.py:1318: UndefinedMetricWarning: Precision is ill-defined and being set to 0.0 due to no predicted samples. Use `zero_division` parameter to control this behavior.\n",
            "  _warn_prf(average, modifier, msg_start, len(result))\n",
            "\r 16%|█▌        | 404/2520 [01:08<05:53,  5.99it/s]"
          ]
        },
        {
          "output_type": "stream",
          "name": "stdout",
          "text": [
            "(256, 256, 1) 1.5681682e-05 1.5643462e-11\n",
            "(256, 256, 3) (256, 256) (256, 256)\n",
            "_03_g_85\n",
            "(256, 256, 1) 1.0 3.4810126e-09\n",
            "(256, 256, 3) (256, 256) (256, 256)\n"
          ]
        },
        {
          "output_type": "stream",
          "name": "stderr",
          "text": [
            " 16%|█▌        | 406/2520 [01:08<05:52,  5.99it/s]"
          ]
        },
        {
          "output_type": "stream",
          "name": "stdout",
          "text": [
            "_03_g_86\n",
            "(256, 256, 1) 1.0 1.249589e-11\n",
            "(256, 256, 3) (256, 256) (256, 256)\n",
            "_03_g_87\n"
          ]
        },
        {
          "output_type": "stream",
          "name": "stderr",
          "text": [
            "\r 16%|█▌        | 407/2520 [01:08<05:54,  5.97it/s]"
          ]
        },
        {
          "output_type": "stream",
          "name": "stdout",
          "text": [
            "(256, 256, 1) 1.0 4.3939435e-10\n",
            "(256, 256, 3) (256, 256) (256, 256)\n",
            "_03_g_88\n",
            "(256, 256, 1) 1.0 2.2917633e-10\n",
            "(256, 256, 3) (256, 256) (256, 256)\n"
          ]
        },
        {
          "output_type": "stream",
          "name": "stderr",
          "text": [
            " 16%|█▌        | 409/2520 [01:08<05:59,  5.87it/s]"
          ]
        },
        {
          "output_type": "stream",
          "name": "stdout",
          "text": [
            "_03_g_89\n",
            "(256, 256, 1) 1.0 4.9202864e-11\n",
            "(256, 256, 3) (256, 256) (256, 256)\n",
            "_03_g_9\n"
          ]
        },
        {
          "output_type": "stream",
          "name": "stderr",
          "text": [
            "\r 16%|█▋        | 410/2520 [01:09<05:53,  5.97it/s]"
          ]
        },
        {
          "output_type": "stream",
          "name": "stdout",
          "text": [
            "(256, 256, 1) 1.0 1.8047633e-11\n",
            "(256, 256, 3) (256, 256) (256, 256)\n",
            "_03_g_90\n",
            "(256, 256, 1) 1.0 7.2988815e-10\n",
            "(256, 256, 3) (256, 256) (256, 256)\n"
          ]
        },
        {
          "output_type": "stream",
          "name": "stderr",
          "text": [
            " 16%|█▋        | 412/2520 [01:09<05:49,  6.03it/s]"
          ]
        },
        {
          "output_type": "stream",
          "name": "stdout",
          "text": [
            "_03_g_91\n",
            "(256, 256, 1) 1.0 3.2478274e-11\n",
            "(256, 256, 3) (256, 256) (256, 256)\n",
            "_03_g_92\n"
          ]
        },
        {
          "output_type": "stream",
          "name": "stderr",
          "text": [
            "\r 16%|█▋        | 413/2520 [01:09<05:49,  6.03it/s]"
          ]
        },
        {
          "output_type": "stream",
          "name": "stdout",
          "text": [
            "(256, 256, 1) 1.0 3.7491298e-11\n",
            "(256, 256, 3) (256, 256) (256, 256)\n",
            "_03_g_93\n",
            "(256, 256, 1) 1.0 1.669232e-11\n",
            "(256, 256, 3) (256, 256) (256, 256)\n"
          ]
        },
        {
          "output_type": "stream",
          "name": "stderr",
          "text": [
            " 16%|█▋        | 415/2520 [01:09<05:51,  5.98it/s]"
          ]
        },
        {
          "output_type": "stream",
          "name": "stdout",
          "text": [
            "_03_g_94\n",
            "(256, 256, 1) 1.0 1.3751406e-11\n",
            "(256, 256, 3) (256, 256) (256, 256)\n",
            "_03_g_95\n"
          ]
        },
        {
          "output_type": "stream",
          "name": "stderr",
          "text": [
            "\r 17%|█▋        | 416/2520 [01:10<05:56,  5.90it/s]"
          ]
        },
        {
          "output_type": "stream",
          "name": "stdout",
          "text": [
            "(256, 256, 1) 1.0 1.0679702e-11\n",
            "(256, 256, 3) (256, 256) (256, 256)\n",
            "_03_g_96\n",
            "(256, 256, 1) 1.0 1.0302549e-11\n",
            "(256, 256, 3) (256, 256) (256, 256)\n"
          ]
        },
        {
          "output_type": "stream",
          "name": "stderr",
          "text": [
            " 17%|█▋        | 417/2520 [01:10<05:57,  5.89it/s]/usr/local/lib/python3.7/dist-packages/sklearn/metrics/_classification.py:1318: UndefinedMetricWarning: Precision is ill-defined and being set to 0.0 due to no predicted samples. Use `zero_division` parameter to control this behavior.\n",
            "  _warn_prf(average, modifier, msg_start, len(result))\n",
            " 17%|█▋        | 418/2520 [01:10<05:54,  5.93it/s]"
          ]
        },
        {
          "output_type": "stream",
          "name": "stdout",
          "text": [
            "_03_g_97\n",
            "(256, 256, 1) 1.5354195e-05 3.831331e-11\n",
            "(256, 256, 3) (256, 256) (256, 256)\n",
            "_03_g_98\n"
          ]
        },
        {
          "output_type": "stream",
          "name": "stderr",
          "text": [
            "/usr/local/lib/python3.7/dist-packages/sklearn/metrics/_classification.py:1580: UndefinedMetricWarning: F-score is ill-defined and being set to 0.0 due to no true nor predicted samples. Use `zero_division` parameter to control this behavior.\n",
            "  _warn_prf(average, \"true nor predicted\", \"F-score is\", len(true_sum))\n",
            "/usr/local/lib/python3.7/dist-packages/sklearn/metrics/_classification.py:1318: UndefinedMetricWarning: Jaccard is ill-defined and being set to 0.0 due to no true or predicted samples. Use `zero_division` parameter to control this behavior.\n",
            "  _warn_prf(average, modifier, msg_start, len(result))\n",
            "/usr/local/lib/python3.7/dist-packages/sklearn/metrics/_classification.py:1318: UndefinedMetricWarning: Recall is ill-defined and being set to 0.0 due to no true samples. Use `zero_division` parameter to control this behavior.\n",
            "  _warn_prf(average, modifier, msg_start, len(result))\n",
            "/usr/local/lib/python3.7/dist-packages/sklearn/metrics/_classification.py:1318: UndefinedMetricWarning: Precision is ill-defined and being set to 0.0 due to no predicted samples. Use `zero_division` parameter to control this behavior.\n",
            "  _warn_prf(average, modifier, msg_start, len(result))\n",
            "\r 17%|█▋        | 419/2520 [01:10<05:42,  6.13it/s]"
          ]
        },
        {
          "output_type": "stream",
          "name": "stdout",
          "text": [
            "(256, 256, 1) 1.1377326e-05 3.3025936e-11\n",
            "(256, 256, 3) (256, 256) (256, 256)\n",
            "_03_g_99\n",
            "(256, 256, 1) 1.0 4.907755e-11\n",
            "(256, 256, 3) (256, 256) (256, 256)\n"
          ]
        },
        {
          "output_type": "stream",
          "name": "stderr",
          "text": [
            " 17%|█▋        | 420/2520 [01:10<05:45,  6.08it/s]/usr/local/lib/python3.7/dist-packages/sklearn/metrics/_classification.py:1580: UndefinedMetricWarning: F-score is ill-defined and being set to 0.0 due to no true nor predicted samples. Use `zero_division` parameter to control this behavior.\n",
            "  _warn_prf(average, \"true nor predicted\", \"F-score is\", len(true_sum))\n",
            "/usr/local/lib/python3.7/dist-packages/sklearn/metrics/_classification.py:1318: UndefinedMetricWarning: Jaccard is ill-defined and being set to 0.0 due to no true or predicted samples. Use `zero_division` parameter to control this behavior.\n",
            "  _warn_prf(average, modifier, msg_start, len(result))\n",
            "/usr/local/lib/python3.7/dist-packages/sklearn/metrics/_classification.py:1318: UndefinedMetricWarning: Recall is ill-defined and being set to 0.0 due to no true samples. Use `zero_division` parameter to control this behavior.\n",
            "  _warn_prf(average, modifier, msg_start, len(result))\n",
            "/usr/local/lib/python3.7/dist-packages/sklearn/metrics/_classification.py:1318: UndefinedMetricWarning: Precision is ill-defined and being set to 0.0 due to no predicted samples. Use `zero_division` parameter to control this behavior.\n",
            "  _warn_prf(average, modifier, msg_start, len(result))\n",
            " 17%|█▋        | 421/2520 [01:10<05:33,  6.29it/s]"
          ]
        },
        {
          "output_type": "stream",
          "name": "stdout",
          "text": [
            "_04_dr_0\n",
            "(256, 256, 1) 1.1289982e-05 3.1114143e-07\n",
            "(256, 256, 3) (256, 256) (256, 256)\n",
            "_04_dr_1\n"
          ]
        },
        {
          "output_type": "stream",
          "name": "stderr",
          "text": [
            "/usr/local/lib/python3.7/dist-packages/sklearn/metrics/_classification.py:1580: UndefinedMetricWarning: F-score is ill-defined and being set to 0.0 due to no true nor predicted samples. Use `zero_division` parameter to control this behavior.\n",
            "  _warn_prf(average, \"true nor predicted\", \"F-score is\", len(true_sum))\n",
            "/usr/local/lib/python3.7/dist-packages/sklearn/metrics/_classification.py:1318: UndefinedMetricWarning: Jaccard is ill-defined and being set to 0.0 due to no true or predicted samples. Use `zero_division` parameter to control this behavior.\n",
            "  _warn_prf(average, modifier, msg_start, len(result))\n",
            "/usr/local/lib/python3.7/dist-packages/sklearn/metrics/_classification.py:1318: UndefinedMetricWarning: Recall is ill-defined and being set to 0.0 due to no true samples. Use `zero_division` parameter to control this behavior.\n",
            "  _warn_prf(average, modifier, msg_start, len(result))\n",
            "/usr/local/lib/python3.7/dist-packages/sklearn/metrics/_classification.py:1318: UndefinedMetricWarning: Precision is ill-defined and being set to 0.0 due to no predicted samples. Use `zero_division` parameter to control this behavior.\n",
            "  _warn_prf(average, modifier, msg_start, len(result))\n",
            "\r 17%|█▋        | 422/2520 [01:11<05:26,  6.44it/s]"
          ]
        },
        {
          "output_type": "stream",
          "name": "stdout",
          "text": [
            "(256, 256, 1) 1.2475958e-05 2.6912235e-07\n",
            "(256, 256, 3) (256, 256) (256, 256)\n",
            "_04_dr_10\n",
            "(256, 256, 1) 1.0 3.120676e-12\n",
            "(256, 256, 3) (256, 256) (256, 256)\n"
          ]
        },
        {
          "output_type": "stream",
          "name": "stderr",
          "text": [
            " 17%|█▋        | 424/2520 [01:11<05:45,  6.06it/s]"
          ]
        },
        {
          "output_type": "stream",
          "name": "stdout",
          "text": [
            "_04_dr_100\n",
            "(256, 256, 1) 1.0 4.102787e-12\n",
            "(256, 256, 3) (256, 256) (256, 256)\n",
            "_04_dr_101\n"
          ]
        },
        {
          "output_type": "stream",
          "name": "stderr",
          "text": [
            "\r 17%|█▋        | 425/2520 [01:11<05:48,  6.01it/s]"
          ]
        },
        {
          "output_type": "stream",
          "name": "stdout",
          "text": [
            "(256, 256, 1) 1.0 2.4590547e-14\n",
            "(256, 256, 3) (256, 256) (256, 256)\n",
            "_04_dr_102\n",
            "(256, 256, 1) 1.0 3.0701212e-12\n",
            "(256, 256, 3) (256, 256) (256, 256)\n"
          ]
        },
        {
          "output_type": "stream",
          "name": "stderr",
          "text": [
            " 17%|█▋        | 427/2520 [01:11<05:53,  5.91it/s]"
          ]
        },
        {
          "output_type": "stream",
          "name": "stdout",
          "text": [
            "_04_dr_103\n",
            "(256, 256, 1) 1.0 5.1957825e-13\n",
            "(256, 256, 3) (256, 256) (256, 256)\n",
            "_04_dr_104\n"
          ]
        },
        {
          "output_type": "stream",
          "name": "stderr",
          "text": [
            "\r 17%|█▋        | 428/2520 [01:12<06:00,  5.81it/s]"
          ]
        },
        {
          "output_type": "stream",
          "name": "stdout",
          "text": [
            "(256, 256, 1) 1.0 4.09153e-14\n",
            "(256, 256, 3) (256, 256) (256, 256)\n",
            "_04_dr_105\n",
            "(256, 256, 1) 1.0 8.437482e-13\n",
            "(256, 256, 3) (256, 256) (256, 256)\n"
          ]
        },
        {
          "output_type": "stream",
          "name": "stderr",
          "text": [
            " 17%|█▋        | 430/2520 [01:12<06:06,  5.70it/s]"
          ]
        },
        {
          "output_type": "stream",
          "name": "stdout",
          "text": [
            "_04_dr_106\n",
            "(256, 256, 1) 1.0 2.6803544e-14\n",
            "(256, 256, 3) (256, 256) (256, 256)\n",
            "_04_dr_107\n"
          ]
        },
        {
          "output_type": "stream",
          "name": "stderr",
          "text": [
            "\r 17%|█▋        | 431/2520 [01:12<06:05,  5.72it/s]"
          ]
        },
        {
          "output_type": "stream",
          "name": "stdout",
          "text": [
            "(256, 256, 1) 1.0 1.0820352e-12\n",
            "(256, 256, 3) (256, 256) (256, 256)\n",
            "_04_dr_108\n",
            "(256, 256, 1) 1.0 5.656171e-13\n",
            "(256, 256, 3) (256, 256) (256, 256)\n"
          ]
        },
        {
          "output_type": "stream",
          "name": "stderr",
          "text": [
            " 17%|█▋        | 433/2520 [01:12<06:01,  5.77it/s]"
          ]
        },
        {
          "output_type": "stream",
          "name": "stdout",
          "text": [
            "_04_dr_109\n",
            "(256, 256, 1) 1.0 1.6899417e-12\n",
            "(256, 256, 3) (256, 256) (256, 256)\n",
            "_04_dr_11\n"
          ]
        },
        {
          "output_type": "stream",
          "name": "stderr",
          "text": [
            "\r 17%|█▋        | 434/2520 [01:13<05:56,  5.84it/s]"
          ]
        },
        {
          "output_type": "stream",
          "name": "stdout",
          "text": [
            "(256, 256, 1) 1.0 1.7419682e-11\n",
            "(256, 256, 3) (256, 256) (256, 256)\n",
            "_04_dr_110\n",
            "(256, 256, 1) 1.0 5.099886e-13\n",
            "(256, 256, 3) (256, 256) (256, 256)\n"
          ]
        },
        {
          "output_type": "stream",
          "name": "stderr",
          "text": [
            " 17%|█▋        | 435/2520 [01:13<05:51,  5.93it/s]/usr/local/lib/python3.7/dist-packages/sklearn/metrics/_classification.py:1580: UndefinedMetricWarning: F-score is ill-defined and being set to 0.0 due to no true nor predicted samples. Use `zero_division` parameter to control this behavior.\n",
            "  _warn_prf(average, \"true nor predicted\", \"F-score is\", len(true_sum))\n",
            "/usr/local/lib/python3.7/dist-packages/sklearn/metrics/_classification.py:1318: UndefinedMetricWarning: Jaccard is ill-defined and being set to 0.0 due to no true or predicted samples. Use `zero_division` parameter to control this behavior.\n",
            "  _warn_prf(average, modifier, msg_start, len(result))\n",
            "/usr/local/lib/python3.7/dist-packages/sklearn/metrics/_classification.py:1318: UndefinedMetricWarning: Recall is ill-defined and being set to 0.0 due to no true samples. Use `zero_division` parameter to control this behavior.\n",
            "  _warn_prf(average, modifier, msg_start, len(result))\n",
            "/usr/local/lib/python3.7/dist-packages/sklearn/metrics/_classification.py:1318: UndefinedMetricWarning: Precision is ill-defined and being set to 0.0 due to no predicted samples. Use `zero_division` parameter to control this behavior.\n",
            "  _warn_prf(average, modifier, msg_start, len(result))\n",
            " 17%|█▋        | 436/2520 [01:13<05:35,  6.21it/s]"
          ]
        },
        {
          "output_type": "stream",
          "name": "stdout",
          "text": [
            "_04_dr_111\n",
            "(256, 256, 1) 1.4044984e-05 5.4721776e-11\n",
            "(256, 256, 3) (256, 256) (256, 256)\n",
            "_04_dr_112\n"
          ]
        },
        {
          "output_type": "stream",
          "name": "stderr",
          "text": [
            "/usr/local/lib/python3.7/dist-packages/sklearn/metrics/_classification.py:1580: UndefinedMetricWarning: F-score is ill-defined and being set to 0.0 due to no true nor predicted samples. Use `zero_division` parameter to control this behavior.\n",
            "  _warn_prf(average, \"true nor predicted\", \"F-score is\", len(true_sum))\n",
            "/usr/local/lib/python3.7/dist-packages/sklearn/metrics/_classification.py:1318: UndefinedMetricWarning: Jaccard is ill-defined and being set to 0.0 due to no true or predicted samples. Use `zero_division` parameter to control this behavior.\n",
            "  _warn_prf(average, modifier, msg_start, len(result))\n",
            "/usr/local/lib/python3.7/dist-packages/sklearn/metrics/_classification.py:1318: UndefinedMetricWarning: Recall is ill-defined and being set to 0.0 due to no true samples. Use `zero_division` parameter to control this behavior.\n",
            "  _warn_prf(average, modifier, msg_start, len(result))\n",
            "/usr/local/lib/python3.7/dist-packages/sklearn/metrics/_classification.py:1318: UndefinedMetricWarning: Precision is ill-defined and being set to 0.0 due to no predicted samples. Use `zero_division` parameter to control this behavior.\n",
            "  _warn_prf(average, modifier, msg_start, len(result))\n",
            "\r 17%|█▋        | 437/2520 [01:13<05:25,  6.40it/s]"
          ]
        },
        {
          "output_type": "stream",
          "name": "stdout",
          "text": [
            "(256, 256, 1) 1.2902498e-05 3.0616314e-07\n",
            "(256, 256, 3) (256, 256) (256, 256)\n",
            "_04_dr_113\n",
            "(256, 256, 1) 1.0 2.869436e-11\n",
            "(256, 256, 3) (256, 256) (256, 256)\n"
          ]
        },
        {
          "output_type": "stream",
          "name": "stderr",
          "text": [
            " 17%|█▋        | 439/2520 [01:13<05:44,  6.03it/s]"
          ]
        },
        {
          "output_type": "stream",
          "name": "stdout",
          "text": [
            "_04_dr_114\n",
            "(256, 256, 1) 1.0 4.8741854e-13\n",
            "(256, 256, 3) (256, 256) (256, 256)\n",
            "_04_dr_115\n"
          ]
        },
        {
          "output_type": "stream",
          "name": "stderr",
          "text": [
            "\r 17%|█▋        | 440/2520 [01:14<05:51,  5.91it/s]"
          ]
        },
        {
          "output_type": "stream",
          "name": "stdout",
          "text": [
            "(256, 256, 1) 1.0 4.1894643e-12\n",
            "(256, 256, 3) (256, 256) (256, 256)\n",
            "_04_dr_116\n",
            "(256, 256, 1) 1.0 7.0594675e-13\n",
            "(256, 256, 3) (256, 256) (256, 256)\n"
          ]
        },
        {
          "output_type": "stream",
          "name": "stderr",
          "text": [
            " 18%|█▊        | 442/2520 [01:14<05:53,  5.87it/s]"
          ]
        },
        {
          "output_type": "stream",
          "name": "stdout",
          "text": [
            "_04_dr_117\n",
            "(256, 256, 1) 1.0 1.2405285e-12\n",
            "(256, 256, 3) (256, 256) (256, 256)\n",
            "_04_dr_118\n"
          ]
        },
        {
          "output_type": "stream",
          "name": "stderr",
          "text": [
            "\r 18%|█▊        | 443/2520 [01:14<05:53,  5.87it/s]"
          ]
        },
        {
          "output_type": "stream",
          "name": "stdout",
          "text": [
            "(256, 256, 1) 1.0 1.2875607e-13\n",
            "(256, 256, 3) (256, 256) (256, 256)\n",
            "_04_dr_119\n",
            "(256, 256, 1) 1.0 5.797409e-13\n",
            "(256, 256, 3) (256, 256) (256, 256)\n"
          ]
        },
        {
          "output_type": "stream",
          "name": "stderr",
          "text": [
            " 18%|█▊        | 445/2520 [01:14<05:52,  5.88it/s]"
          ]
        },
        {
          "output_type": "stream",
          "name": "stdout",
          "text": [
            "_04_dr_12\n",
            "(256, 256, 1) 1.0 1.6406956e-09\n",
            "(256, 256, 3) (256, 256) (256, 256)\n",
            "_04_dr_120\n"
          ]
        },
        {
          "output_type": "stream",
          "name": "stderr",
          "text": [
            "\r 18%|█▊        | 446/2520 [01:15<05:55,  5.84it/s]"
          ]
        },
        {
          "output_type": "stream",
          "name": "stdout",
          "text": [
            "(256, 256, 1) 1.0 4.5142086e-13\n",
            "(256, 256, 3) (256, 256) (256, 256)\n",
            "_04_dr_121\n",
            "(256, 256, 1) 1.0 2.3894846e-13\n",
            "(256, 256, 3) (256, 256) (256, 256)\n"
          ]
        },
        {
          "output_type": "stream",
          "name": "stderr",
          "text": [
            " 18%|█▊        | 448/2520 [01:15<05:59,  5.77it/s]"
          ]
        },
        {
          "output_type": "stream",
          "name": "stdout",
          "text": [
            "_04_dr_122\n",
            "(256, 256, 1) 1.0 1.9489723e-13\n",
            "(256, 256, 3) (256, 256) (256, 256)\n",
            "_04_dr_123\n"
          ]
        },
        {
          "output_type": "stream",
          "name": "stderr",
          "text": [
            "\r 18%|█▊        | 449/2520 [01:15<05:55,  5.82it/s]"
          ]
        },
        {
          "output_type": "stream",
          "name": "stdout",
          "text": [
            "(256, 256, 1) 1.0 3.090205e-10\n",
            "(256, 256, 3) (256, 256) (256, 256)\n",
            "_04_dr_124\n",
            "(256, 256, 1) 1.0 2.0086131e-12\n",
            "(256, 256, 3) (256, 256) (256, 256)\n"
          ]
        },
        {
          "output_type": "stream",
          "name": "stderr",
          "text": [
            " 18%|█▊        | 450/2520 [01:15<05:53,  5.85it/s]/usr/local/lib/python3.7/dist-packages/sklearn/metrics/_classification.py:1580: UndefinedMetricWarning: F-score is ill-defined and being set to 0.0 due to no true nor predicted samples. Use `zero_division` parameter to control this behavior.\n",
            "  _warn_prf(average, \"true nor predicted\", \"F-score is\", len(true_sum))\n",
            "/usr/local/lib/python3.7/dist-packages/sklearn/metrics/_classification.py:1318: UndefinedMetricWarning: Jaccard is ill-defined and being set to 0.0 due to no true or predicted samples. Use `zero_division` parameter to control this behavior.\n",
            "  _warn_prf(average, modifier, msg_start, len(result))\n",
            "/usr/local/lib/python3.7/dist-packages/sklearn/metrics/_classification.py:1318: UndefinedMetricWarning: Recall is ill-defined and being set to 0.0 due to no true samples. Use `zero_division` parameter to control this behavior.\n",
            "  _warn_prf(average, modifier, msg_start, len(result))\n",
            "/usr/local/lib/python3.7/dist-packages/sklearn/metrics/_classification.py:1318: UndefinedMetricWarning: Precision is ill-defined and being set to 0.0 due to no predicted samples. Use `zero_division` parameter to control this behavior.\n",
            "  _warn_prf(average, modifier, msg_start, len(result))\n",
            " 18%|█▊        | 451/2520 [01:15<05:41,  6.05it/s]"
          ]
        },
        {
          "output_type": "stream",
          "name": "stdout",
          "text": [
            "_04_dr_125\n",
            "(256, 256, 1) 1.09545435e-05 2.3830529e-07\n",
            "(256, 256, 3) (256, 256) (256, 256)\n",
            "_04_dr_126\n"
          ]
        },
        {
          "output_type": "stream",
          "name": "stderr",
          "text": [
            "/usr/local/lib/python3.7/dist-packages/sklearn/metrics/_classification.py:1580: UndefinedMetricWarning: F-score is ill-defined and being set to 0.0 due to no true nor predicted samples. Use `zero_division` parameter to control this behavior.\n",
            "  _warn_prf(average, \"true nor predicted\", \"F-score is\", len(true_sum))\n",
            "/usr/local/lib/python3.7/dist-packages/sklearn/metrics/_classification.py:1318: UndefinedMetricWarning: Jaccard is ill-defined and being set to 0.0 due to no true or predicted samples. Use `zero_division` parameter to control this behavior.\n",
            "  _warn_prf(average, modifier, msg_start, len(result))\n",
            "/usr/local/lib/python3.7/dist-packages/sklearn/metrics/_classification.py:1318: UndefinedMetricWarning: Recall is ill-defined and being set to 0.0 due to no true samples. Use `zero_division` parameter to control this behavior.\n",
            "  _warn_prf(average, modifier, msg_start, len(result))\n",
            "/usr/local/lib/python3.7/dist-packages/sklearn/metrics/_classification.py:1318: UndefinedMetricWarning: Precision is ill-defined and being set to 0.0 due to no predicted samples. Use `zero_division` parameter to control this behavior.\n",
            "  _warn_prf(average, modifier, msg_start, len(result))\n",
            " 18%|█▊        | 452/2520 [01:16<05:30,  6.25it/s]"
          ]
        },
        {
          "output_type": "stream",
          "name": "stdout",
          "text": [
            "(256, 256, 1) 1.0990383e-05 3.0918594e-07\n",
            "(256, 256, 3) (256, 256) (256, 256)\n",
            "_04_dr_127\n",
            "(256, 256, 1) 1.0990383e-05 2.5232134e-07\n",
            "(256, 256, 3) (256, 256) (256, 256)\n"
          ]
        },
        {
          "output_type": "stream",
          "name": "stderr",
          "text": [
            "/usr/local/lib/python3.7/dist-packages/sklearn/metrics/_classification.py:1580: UndefinedMetricWarning: F-score is ill-defined and being set to 0.0 due to no true nor predicted samples. Use `zero_division` parameter to control this behavior.\n",
            "  _warn_prf(average, \"true nor predicted\", \"F-score is\", len(true_sum))\n",
            "/usr/local/lib/python3.7/dist-packages/sklearn/metrics/_classification.py:1318: UndefinedMetricWarning: Jaccard is ill-defined and being set to 0.0 due to no true or predicted samples. Use `zero_division` parameter to control this behavior.\n",
            "  _warn_prf(average, modifier, msg_start, len(result))\n",
            "/usr/local/lib/python3.7/dist-packages/sklearn/metrics/_classification.py:1318: UndefinedMetricWarning: Recall is ill-defined and being set to 0.0 due to no true samples. Use `zero_division` parameter to control this behavior.\n",
            "  _warn_prf(average, modifier, msg_start, len(result))\n",
            "/usr/local/lib/python3.7/dist-packages/sklearn/metrics/_classification.py:1318: UndefinedMetricWarning: Precision is ill-defined and being set to 0.0 due to no predicted samples. Use `zero_division` parameter to control this behavior.\n",
            "  _warn_prf(average, modifier, msg_start, len(result))\n",
            " 18%|█▊        | 454/2520 [01:16<05:26,  6.32it/s]"
          ]
        },
        {
          "output_type": "stream",
          "name": "stdout",
          "text": [
            "_04_dr_128\n",
            "(256, 256, 1) 1.0 5.9257144e-10\n",
            "(256, 256, 3) (256, 256) (256, 256)\n",
            "_04_dr_129\n"
          ]
        },
        {
          "output_type": "stream",
          "name": "stderr",
          "text": [
            "/usr/local/lib/python3.7/dist-packages/sklearn/metrics/_classification.py:1318: UndefinedMetricWarning: Recall is ill-defined and being set to 0.0 due to no true samples. Use `zero_division` parameter to control this behavior.\n",
            "  _warn_prf(average, modifier, msg_start, len(result))\n",
            "\r 18%|█▊        | 455/2520 [01:16<05:19,  6.46it/s]"
          ]
        },
        {
          "output_type": "stream",
          "name": "stdout",
          "text": [
            "(256, 256, 1) 1.0 1.0099046e-10\n",
            "(256, 256, 3) (256, 256) (256, 256)\n",
            "_04_dr_13\n",
            "(256, 256, 1) 1.0965393e-05 2.7803486e-07\n",
            "(256, 256, 3) (256, 256) (256, 256)\n"
          ]
        },
        {
          "output_type": "stream",
          "name": "stderr",
          "text": [
            "/usr/local/lib/python3.7/dist-packages/sklearn/metrics/_classification.py:1580: UndefinedMetricWarning: F-score is ill-defined and being set to 0.0 due to no true nor predicted samples. Use `zero_division` parameter to control this behavior.\n",
            "  _warn_prf(average, \"true nor predicted\", \"F-score is\", len(true_sum))\n",
            "/usr/local/lib/python3.7/dist-packages/sklearn/metrics/_classification.py:1318: UndefinedMetricWarning: Jaccard is ill-defined and being set to 0.0 due to no true or predicted samples. Use `zero_division` parameter to control this behavior.\n",
            "  _warn_prf(average, modifier, msg_start, len(result))\n",
            "/usr/local/lib/python3.7/dist-packages/sklearn/metrics/_classification.py:1318: UndefinedMetricWarning: Recall is ill-defined and being set to 0.0 due to no true samples. Use `zero_division` parameter to control this behavior.\n",
            "  _warn_prf(average, modifier, msg_start, len(result))\n",
            "/usr/local/lib/python3.7/dist-packages/sklearn/metrics/_classification.py:1318: UndefinedMetricWarning: Precision is ill-defined and being set to 0.0 due to no predicted samples. Use `zero_division` parameter to control this behavior.\n",
            "  _warn_prf(average, modifier, msg_start, len(result))\n",
            " 18%|█▊        | 457/2520 [01:16<05:26,  6.32it/s]"
          ]
        },
        {
          "output_type": "stream",
          "name": "stdout",
          "text": [
            "_04_dr_130\n",
            "(256, 256, 1) 1.0 9.15831e-13\n",
            "(256, 256, 3) (256, 256) (256, 256)\n",
            "_04_dr_131\n"
          ]
        },
        {
          "output_type": "stream",
          "name": "stderr",
          "text": [
            "\r 18%|█▊        | 458/2520 [01:17<05:34,  6.16it/s]"
          ]
        },
        {
          "output_type": "stream",
          "name": "stdout",
          "text": [
            "(256, 256, 1) 1.0 7.52192e-13\n",
            "(256, 256, 3) (256, 256) (256, 256)\n",
            "_04_dr_132\n",
            "(256, 256, 1) 1.0 1.1980967e-12\n",
            "(256, 256, 3) (256, 256) (256, 256)\n"
          ]
        },
        {
          "output_type": "stream",
          "name": "stderr",
          "text": [
            " 18%|█▊        | 460/2520 [01:17<05:34,  6.16it/s]"
          ]
        },
        {
          "output_type": "stream",
          "name": "stdout",
          "text": [
            "_04_dr_133\n",
            "(256, 256, 1) 1.0 5.36466e-14\n",
            "(256, 256, 3) (256, 256) (256, 256)\n",
            "_04_dr_134\n"
          ]
        },
        {
          "output_type": "stream",
          "name": "stderr",
          "text": [
            "\r 18%|█▊        | 461/2520 [01:17<05:33,  6.17it/s]"
          ]
        },
        {
          "output_type": "stream",
          "name": "stdout",
          "text": [
            "(256, 256, 1) 1.0 6.502544e-13\n",
            "(256, 256, 3) (256, 256) (256, 256)\n",
            "_04_dr_135\n",
            "(256, 256, 1) 1.0 6.7715995e-14\n",
            "(256, 256, 3) (256, 256) (256, 256)\n"
          ]
        },
        {
          "output_type": "stream",
          "name": "stderr",
          "text": [
            " 18%|█▊        | 463/2520 [01:17<05:39,  6.07it/s]"
          ]
        },
        {
          "output_type": "stream",
          "name": "stdout",
          "text": [
            "_04_dr_136\n",
            "(256, 256, 1) 1.0 2.3018095e-13\n",
            "(256, 256, 3) (256, 256) (256, 256)\n",
            "_04_dr_137\n"
          ]
        },
        {
          "output_type": "stream",
          "name": "stderr",
          "text": [
            "/usr/local/lib/python3.7/dist-packages/sklearn/metrics/_classification.py:1318: UndefinedMetricWarning: Recall is ill-defined and being set to 0.0 due to no true samples. Use `zero_division` parameter to control this behavior.\n",
            "  _warn_prf(average, modifier, msg_start, len(result))\n",
            "\r 18%|█▊        | 464/2520 [01:18<05:35,  6.13it/s]"
          ]
        },
        {
          "output_type": "stream",
          "name": "stdout",
          "text": [
            "(256, 256, 1) 1.0 9.991536e-12\n",
            "(256, 256, 3) (256, 256) (256, 256)\n",
            "_04_dr_138\n",
            "(256, 256, 1) 1.0990383e-05 2.7175093e-07\n",
            "(256, 256, 3) (256, 256) (256, 256)\n"
          ]
        },
        {
          "output_type": "stream",
          "name": "stderr",
          "text": [
            "/usr/local/lib/python3.7/dist-packages/sklearn/metrics/_classification.py:1580: UndefinedMetricWarning: F-score is ill-defined and being set to 0.0 due to no true nor predicted samples. Use `zero_division` parameter to control this behavior.\n",
            "  _warn_prf(average, \"true nor predicted\", \"F-score is\", len(true_sum))\n",
            "/usr/local/lib/python3.7/dist-packages/sklearn/metrics/_classification.py:1318: UndefinedMetricWarning: Jaccard is ill-defined and being set to 0.0 due to no true or predicted samples. Use `zero_division` parameter to control this behavior.\n",
            "  _warn_prf(average, modifier, msg_start, len(result))\n",
            "/usr/local/lib/python3.7/dist-packages/sklearn/metrics/_classification.py:1318: UndefinedMetricWarning: Recall is ill-defined and being set to 0.0 due to no true samples. Use `zero_division` parameter to control this behavior.\n",
            "  _warn_prf(average, modifier, msg_start, len(result))\n",
            "/usr/local/lib/python3.7/dist-packages/sklearn/metrics/_classification.py:1318: UndefinedMetricWarning: Precision is ill-defined and being set to 0.0 due to no predicted samples. Use `zero_division` parameter to control this behavior.\n",
            "  _warn_prf(average, modifier, msg_start, len(result))\n",
            " 18%|█▊        | 465/2520 [01:18<05:24,  6.34it/s]/usr/local/lib/python3.7/dist-packages/sklearn/metrics/_classification.py:1580: UndefinedMetricWarning: F-score is ill-defined and being set to 0.0 due to no true nor predicted samples. Use `zero_division` parameter to control this behavior.\n",
            "  _warn_prf(average, \"true nor predicted\", \"F-score is\", len(true_sum))\n",
            "/usr/local/lib/python3.7/dist-packages/sklearn/metrics/_classification.py:1318: UndefinedMetricWarning: Jaccard is ill-defined and being set to 0.0 due to no true or predicted samples. Use `zero_division` parameter to control this behavior.\n",
            "  _warn_prf(average, modifier, msg_start, len(result))\n",
            "/usr/local/lib/python3.7/dist-packages/sklearn/metrics/_classification.py:1318: UndefinedMetricWarning: Recall is ill-defined and being set to 0.0 due to no true samples. Use `zero_division` parameter to control this behavior.\n",
            "  _warn_prf(average, modifier, msg_start, len(result))\n",
            "/usr/local/lib/python3.7/dist-packages/sklearn/metrics/_classification.py:1318: UndefinedMetricWarning: Precision is ill-defined and being set to 0.0 due to no predicted samples. Use `zero_division` parameter to control this behavior.\n",
            "  _warn_prf(average, modifier, msg_start, len(result))\n",
            " 18%|█▊        | 466/2520 [01:18<05:18,  6.45it/s]"
          ]
        },
        {
          "output_type": "stream",
          "name": "stdout",
          "text": [
            "_04_dr_139\n",
            "(256, 256, 1) 1.0990383e-05 2.647982e-07\n",
            "(256, 256, 3) (256, 256) (256, 256)\n",
            "_04_dr_14\n"
          ]
        },
        {
          "output_type": "stream",
          "name": "stderr",
          "text": [
            "/usr/local/lib/python3.7/dist-packages/sklearn/metrics/_classification.py:1580: UndefinedMetricWarning: F-score is ill-defined and being set to 0.0 due to no true nor predicted samples. Use `zero_division` parameter to control this behavior.\n",
            "  _warn_prf(average, \"true nor predicted\", \"F-score is\", len(true_sum))\n",
            "/usr/local/lib/python3.7/dist-packages/sklearn/metrics/_classification.py:1318: UndefinedMetricWarning: Jaccard is ill-defined and being set to 0.0 due to no true or predicted samples. Use `zero_division` parameter to control this behavior.\n",
            "  _warn_prf(average, modifier, msg_start, len(result))\n",
            "/usr/local/lib/python3.7/dist-packages/sklearn/metrics/_classification.py:1318: UndefinedMetricWarning: Recall is ill-defined and being set to 0.0 due to no true samples. Use `zero_division` parameter to control this behavior.\n",
            "  _warn_prf(average, modifier, msg_start, len(result))\n",
            "/usr/local/lib/python3.7/dist-packages/sklearn/metrics/_classification.py:1318: UndefinedMetricWarning: Precision is ill-defined and being set to 0.0 due to no predicted samples. Use `zero_division` parameter to control this behavior.\n",
            "  _warn_prf(average, modifier, msg_start, len(result))\n",
            "\r 19%|█▊        | 467/2520 [01:18<05:11,  6.58it/s]"
          ]
        },
        {
          "output_type": "stream",
          "name": "stdout",
          "text": [
            "(256, 256, 1) 1.277788e-05 3.107435e-07\n",
            "(256, 256, 3) (256, 256) (256, 256)\n",
            "_04_dr_15\n",
            "(256, 256, 1) 0.00019165686 1.1606872e-10\n",
            "(256, 256, 3) (256, 256) (256, 256)\n"
          ]
        },
        {
          "output_type": "stream",
          "name": "stderr",
          "text": [
            "/usr/local/lib/python3.7/dist-packages/sklearn/metrics/_classification.py:1580: UndefinedMetricWarning: F-score is ill-defined and being set to 0.0 due to no true nor predicted samples. Use `zero_division` parameter to control this behavior.\n",
            "  _warn_prf(average, \"true nor predicted\", \"F-score is\", len(true_sum))\n",
            "/usr/local/lib/python3.7/dist-packages/sklearn/metrics/_classification.py:1318: UndefinedMetricWarning: Jaccard is ill-defined and being set to 0.0 due to no true or predicted samples. Use `zero_division` parameter to control this behavior.\n",
            "  _warn_prf(average, modifier, msg_start, len(result))\n",
            "/usr/local/lib/python3.7/dist-packages/sklearn/metrics/_classification.py:1318: UndefinedMetricWarning: Recall is ill-defined and being set to 0.0 due to no true samples. Use `zero_division` parameter to control this behavior.\n",
            "  _warn_prf(average, modifier, msg_start, len(result))\n",
            "/usr/local/lib/python3.7/dist-packages/sklearn/metrics/_classification.py:1318: UndefinedMetricWarning: Precision is ill-defined and being set to 0.0 due to no predicted samples. Use `zero_division` parameter to control this behavior.\n",
            "  _warn_prf(average, modifier, msg_start, len(result))\n",
            " 19%|█▊        | 469/2520 [01:18<05:20,  6.39it/s]"
          ]
        },
        {
          "output_type": "stream",
          "name": "stdout",
          "text": [
            "_04_dr_16\n",
            "(256, 256, 1) 1.0 3.7847212e-12\n",
            "(256, 256, 3) (256, 256) (256, 256)\n",
            "_04_dr_17\n"
          ]
        },
        {
          "output_type": "stream",
          "name": "stderr",
          "text": [
            "\r 19%|█▊        | 470/2520 [01:18<05:26,  6.28it/s]"
          ]
        },
        {
          "output_type": "stream",
          "name": "stdout",
          "text": [
            "(256, 256, 1) 1.0 1.09313884e-13\n",
            "(256, 256, 3) (256, 256) (256, 256)\n",
            "_04_dr_18\n",
            "(256, 256, 1) 1.0 3.059784e-13\n",
            "(256, 256, 3) (256, 256) (256, 256)\n"
          ]
        },
        {
          "output_type": "stream",
          "name": "stderr",
          "text": [
            " 19%|█▊        | 472/2520 [01:19<05:38,  6.06it/s]"
          ]
        },
        {
          "output_type": "stream",
          "name": "stdout",
          "text": [
            "_04_dr_19\n",
            "(256, 256, 1) 1.0 1.10592105e-13\n",
            "(256, 256, 3) (256, 256) (256, 256)\n",
            "_04_dr_2\n"
          ]
        },
        {
          "output_type": "stream",
          "name": "stderr",
          "text": [
            "/usr/local/lib/python3.7/dist-packages/sklearn/metrics/_classification.py:1318: UndefinedMetricWarning: Precision is ill-defined and being set to 0.0 due to no predicted samples. Use `zero_division` parameter to control this behavior.\n",
            "  _warn_prf(average, modifier, msg_start, len(result))\n",
            "\r 19%|█▉        | 473/2520 [01:19<05:37,  6.06it/s]"
          ]
        },
        {
          "output_type": "stream",
          "name": "stdout",
          "text": [
            "(256, 256, 1) 0.000979621 7.9170705e-11\n",
            "(256, 256, 3) (256, 256) (256, 256)\n",
            "_04_dr_20\n",
            "(256, 256, 1) 1.0 4.1656058e-13\n",
            "(256, 256, 3) (256, 256) (256, 256)\n"
          ]
        },
        {
          "output_type": "stream",
          "name": "stderr",
          "text": [
            " 19%|█▉        | 475/2520 [01:19<05:41,  5.99it/s]"
          ]
        },
        {
          "output_type": "stream",
          "name": "stdout",
          "text": [
            "_04_dr_21\n",
            "(256, 256, 1) 1.0 6.2706936e-13\n",
            "(256, 256, 3) (256, 256) (256, 256)\n",
            "_04_dr_22\n"
          ]
        },
        {
          "output_type": "stream",
          "name": "stderr",
          "text": [
            "\r 19%|█▉        | 476/2520 [01:19<05:49,  5.85it/s]"
          ]
        },
        {
          "output_type": "stream",
          "name": "stdout",
          "text": [
            "(256, 256, 1) 1.0 4.300994e-13\n",
            "(256, 256, 3) (256, 256) (256, 256)\n",
            "_04_dr_23\n",
            "(256, 256, 1) 1.0 1.4347239e-13\n",
            "(256, 256, 3) (256, 256) (256, 256)\n"
          ]
        },
        {
          "output_type": "stream",
          "name": "stderr",
          "text": [
            "\r 19%|█▉        | 477/2520 [01:20<05:50,  5.83it/s]"
          ]
        }
      ]
    },
    {
      "cell_type": "code",
      "source": [
        "model_dir"
      ],
      "metadata": {
        "id": "TGEQL9ZVakEt"
      },
      "execution_count": null,
      "outputs": []
    },
    {
      "cell_type": "markdown",
      "source": [
        "# Reconstruct predicted image"
      ],
      "metadata": {
        "id": "PzqpDXW0Kcyu"
      }
    },
    {
      "cell_type": "code",
      "source": [
        "prediction_np_path"
      ],
      "metadata": {
        "id": "NJaxhmgEvs9i"
      },
      "execution_count": null,
      "outputs": []
    },
    {
      "cell_type": "code",
      "source": [
        "from glob import glob"
      ],
      "metadata": {
        "id": "gwjhBM8y1Bf_"
      },
      "execution_count": null,
      "outputs": []
    },
    {
      "cell_type": "code",
      "source": [
        "# Create patches dictionary\n",
        "predicted_patches_dict = dict()\n",
        "for file in glob(f\"{prediction_np_path}/*.npy\"):\n",
        "    print(\"file\", file)\n",
        "    patch = np.load(file)\n",
        "    fname_without_ext = file.rsplit(\"/\", 1)[1].rsplit(\".\", 1)[0]\n",
        "    fname_without_ext = fname_without_ext[1:]\n",
        "    patch_number = int(fname_without_ext.rsplit(\"_\", 1)[1])\n",
        "    image_file = fname_without_ext.rsplit(\"_\", 1)[0]\n",
        "    print(image_file, patch_number )\n",
        "\n",
        "    if image_file in predicted_patches_dict.keys():\n",
        "        predicted_patches_dict[image_file][patch_number] = np.load(file)\n",
        "    else:\n",
        "        patches = [None] * 140\n",
        "        patches[patch_number] = np.load(file)\n",
        "        predicted_patches_dict[image_file] = patches\n",
        "\n",
        "        \n",
        "\n",
        "\n"
      ],
      "metadata": {
        "id": "s7p1_eLnI51P"
      },
      "execution_count": null,
      "outputs": []
    },
    {
      "cell_type": "code",
      "source": [
        "reconstructed_predictions_path = f\"{data_path}/{split_name}/reconstructed/{split}/predictions_reconstructed\"\n",
        "create_dir(reconstructed_predictions_path)\n",
        "reconstruct_patches(predicted_patches_dict,\n",
        "                    metadata_test_df,\n",
        "                    reconstructed_predictions_path,\n",
        "                    mfactor=255\n",
        "                    )\n"
      ],
      "metadata": {
        "id": "2kB-A6HbLNsv"
      },
      "execution_count": null,
      "outputs": []
    },
    {
      "cell_type": "code",
      "source": [
        "!pwd"
      ],
      "metadata": {
        "id": "z_uMeATOLyQP"
      },
      "execution_count": null,
      "outputs": []
    },
    {
      "cell_type": "code",
      "source": [
        "def read_mask(path):\n",
        "    print(path)\n",
        "    x = cv2.imread(path, cv2.IMREAD_GRAYSCALE)  ## (512, 512)\n",
        "    # x = cv2.resize(x, (W, H))\n",
        "    ori_x = x\n",
        "    x = x/255.0\n",
        "#    x = x.astype(np.int32)\n",
        "    return ori_x, x"
      ],
      "metadata": {
        "id": "2OzcJGOQg4Dy"
      },
      "execution_count": null,
      "outputs": []
    },
    {
      "cell_type": "code",
      "source": [
        "def save_results(ori_x, ori_y, y_pred, save_image_path):\n",
        "    line = np.ones((2560, 10, 3)) * 255\n",
        "\n",
        "    ori_y = np.expand_dims(ori_y, axis=-1)\n",
        "    ori_y = np.concatenate([ori_y, ori_y, ori_y], axis=-1)\n",
        "\n",
        "    y_pred = np.expand_dims(y_pred, axis=-1)\n",
        "    y_pred = np.concatenate([y_pred, y_pred, y_pred], axis=-1) * 255\n",
        "\n",
        "    cat_images = np.concatenate([ori_x, line, ori_y, line, y_pred], axis=1)\n",
        "    print(f\"Saving image of size {cat_images.shape} to {save_image_path}\")\n",
        "    cv2.imwrite(save_image_path, cat_images)"
      ],
      "metadata": {
        "id": "M5ILDoicjTef"
      },
      "execution_count": null,
      "outputs": []
    },
    {
      "cell_type": "code",
      "source": [
        "results_path_reconstructed = f\"{root_path}/results_reconstructed/\"\n",
        "create_dir(results_path_reconstructed)"
      ],
      "metadata": {
        "id": "bS5LTt4QXwQi"
      },
      "execution_count": null,
      "outputs": []
    },
    {
      "cell_type": "code",
      "source": [
        "from glob import glob"
      ],
      "metadata": {
        "id": "6sKjdzsaNloF"
      },
      "execution_count": null,
      "outputs": []
    },
    {
      "cell_type": "code",
      "source": [
        "dataset_path = f\"{root_path}/{split_name}/reconstructed/test/\""
      ],
      "metadata": {
        "id": "ptwpfrrBnp9-"
      },
      "execution_count": null,
      "outputs": []
    },
    {
      "cell_type": "code",
      "source": [
        "df, scores = compute_metrics(dataset_path,\n",
        "                    results_path=results_path_reconstructed,\n",
        "                    threshold=0.4,\n",
        "                    model=None,\n",
        "                    predictions_path=f\"{root_path}/{split_name}/reconstructed/test/predictions_reconstructed/\",\n",
        "                    prediction_np_path=None)"
      ],
      "metadata": {
        "colab": {
          "base_uri": "https://localhost:8080/"
        },
        "id": "_iqapJ3ITb7l",
        "outputId": "992ac50c-bbf7-43fb-c16e-2afec7864462"
      },
      "execution_count": null,
      "outputs": [
        {
          "metadata": {
            "tags": null
          },
          "name": "stdout",
          "output_type": "stream",
          "text": [
            "Threshold 0.4\n"
          ]
        },
        {
          "metadata": {
            "tags": null
          },
          "name": "stderr",
          "output_type": "stream",
          "text": [
            "\r  0%|          | 0/18 [00:00<?, ?it/s]"
          ]
        },
        {
          "metadata": {
            "tags": null
          },
          "name": "stdout",
          "output_type": "stream",
          "text": [
            "01_h\n",
            "Reading predicted image from  /content/datasets/hrf_256_256_dice_loss_hvr_2//split_2/reconstructed/test/predictions_reconstructed//01_h.png\n",
            "(2560, 3584) 255 0\n",
            "(2560, 3584) 1 0\n",
            "(2560, 3584, 3) (2560, 3584) (2560, 3584)\n"
          ]
        },
        {
          "metadata": {
            "tags": null
          },
          "name": "stderr",
          "output_type": "stream",
          "text": [
            "\r  6%|▌         | 1/18 [00:15<04:23, 15.49s/it]"
          ]
        },
        {
          "metadata": {
            "tags": null
          },
          "name": "stdout",
          "output_type": "stream",
          "text": [
            "02_g\n",
            "Reading predicted image from  /content/datasets/hrf_256_256_dice_loss_hvr_2//split_2/reconstructed/test/predictions_reconstructed//02_g.png\n",
            "(2560, 3584) 255 0\n",
            "(2560, 3584) 1 0\n",
            "(2560, 3584, 3) (2560, 3584) (2560, 3584)\n"
          ]
        },
        {
          "metadata": {
            "tags": null
          },
          "name": "stderr",
          "output_type": "stream",
          "text": [
            "\r 11%|█         | 2/18 [00:31<04:10, 15.63s/it]"
          ]
        },
        {
          "metadata": {
            "tags": null
          },
          "name": "stdout",
          "output_type": "stream",
          "text": [
            "03_g\n",
            "Reading predicted image from  /content/datasets/hrf_256_256_dice_loss_hvr_2//split_2/reconstructed/test/predictions_reconstructed//03_g.png\n",
            "(2560, 3584) 255 0\n",
            "(2560, 3584) 1 0\n",
            "(2560, 3584, 3) (2560, 3584) (2560, 3584)\n"
          ]
        },
        {
          "metadata": {
            "tags": null
          },
          "name": "stderr",
          "output_type": "stream",
          "text": [
            "\r 17%|█▋        | 3/18 [00:46<03:53, 15.59s/it]"
          ]
        },
        {
          "metadata": {
            "tags": null
          },
          "name": "stdout",
          "output_type": "stream",
          "text": [
            "04_dr\n",
            "Reading predicted image from  /content/datasets/hrf_256_256_dice_loss_hvr_2//split_2/reconstructed/test/predictions_reconstructed//04_dr.png\n",
            "(2560, 3584) 255 0\n",
            "(2560, 3584) 1 0\n",
            "(2560, 3584, 3) (2560, 3584) (2560, 3584)\n"
          ]
        },
        {
          "metadata": {
            "tags": null
          },
          "name": "stderr",
          "output_type": "stream",
          "text": [
            "\r 22%|██▏       | 4/18 [01:02<03:37, 15.51s/it]"
          ]
        },
        {
          "metadata": {
            "tags": null
          },
          "name": "stdout",
          "output_type": "stream",
          "text": [
            "05_dr\n",
            "Reading predicted image from  /content/datasets/hrf_256_256_dice_loss_hvr_2//split_2/reconstructed/test/predictions_reconstructed//05_dr.png\n",
            "(2560, 3584) 255 0\n",
            "(2560, 3584) 1 0\n",
            "(2560, 3584, 3) (2560, 3584) (2560, 3584)\n"
          ]
        },
        {
          "metadata": {
            "tags": null
          },
          "name": "stderr",
          "output_type": "stream",
          "text": [
            "\r 28%|██▊       | 5/18 [01:17<03:20, 15.44s/it]"
          ]
        },
        {
          "metadata": {
            "tags": null
          },
          "name": "stdout",
          "output_type": "stream",
          "text": [
            "05_g\n",
            "Reading predicted image from  /content/datasets/hrf_256_256_dice_loss_hvr_2//split_2/reconstructed/test/predictions_reconstructed//05_g.png\n",
            "(2560, 3584) 255 0\n",
            "(2560, 3584) 1 0\n",
            "(2560, 3584, 3) (2560, 3584) (2560, 3584)\n"
          ]
        },
        {
          "metadata": {
            "tags": null
          },
          "name": "stderr",
          "output_type": "stream",
          "text": [
            "\r 33%|███▎      | 6/18 [01:33<03:05, 15.48s/it]"
          ]
        },
        {
          "metadata": {
            "tags": null
          },
          "name": "stdout",
          "output_type": "stream",
          "text": [
            "06_g\n",
            "Reading predicted image from  /content/datasets/hrf_256_256_dice_loss_hvr_2//split_2/reconstructed/test/predictions_reconstructed//06_g.png\n",
            "(2560, 3584) 255 0\n",
            "(2560, 3584) 1 0\n",
            "(2560, 3584, 3) (2560, 3584) (2560, 3584)\n"
          ]
        },
        {
          "metadata": {
            "tags": null
          },
          "name": "stderr",
          "output_type": "stream",
          "text": [
            "\r 39%|███▉      | 7/18 [01:48<02:49, 15.44s/it]"
          ]
        },
        {
          "metadata": {
            "tags": null
          },
          "name": "stdout",
          "output_type": "stream",
          "text": [
            "06_h\n",
            "Reading predicted image from  /content/datasets/hrf_256_256_dice_loss_hvr_2//split_2/reconstructed/test/predictions_reconstructed//06_h.png\n",
            "(2560, 3584) 255 0\n",
            "(2560, 3584) 1 0\n",
            "(2560, 3584, 3) (2560, 3584) (2560, 3584)\n"
          ]
        },
        {
          "metadata": {
            "tags": null
          },
          "name": "stderr",
          "output_type": "stream",
          "text": [
            "\r 44%|████▍     | 8/18 [02:03<02:34, 15.46s/it]"
          ]
        },
        {
          "metadata": {
            "tags": null
          },
          "name": "stdout",
          "output_type": "stream",
          "text": [
            "07_dr\n",
            "Reading predicted image from  /content/datasets/hrf_256_256_dice_loss_hvr_2//split_2/reconstructed/test/predictions_reconstructed//07_dr.png\n",
            "(2560, 3584) 255 0\n",
            "(2560, 3584) 1 0\n",
            "(2560, 3584, 3) (2560, 3584) (2560, 3584)\n"
          ]
        },
        {
          "metadata": {
            "tags": null
          },
          "name": "stderr",
          "output_type": "stream",
          "text": [
            "\r 50%|█████     | 9/18 [02:19<02:18, 15.43s/it]"
          ]
        },
        {
          "metadata": {
            "tags": null
          },
          "name": "stdout",
          "output_type": "stream",
          "text": [
            "08_dr\n",
            "Reading predicted image from  /content/datasets/hrf_256_256_dice_loss_hvr_2//split_2/reconstructed/test/predictions_reconstructed//08_dr.png\n",
            "(2560, 3584) 255 0\n",
            "(2560, 3584) 1 0\n",
            "(2560, 3584, 3) (2560, 3584) (2560, 3584)\n"
          ]
        },
        {
          "metadata": {
            "tags": null
          },
          "name": "stderr",
          "output_type": "stream",
          "text": [
            "\r 56%|█████▌    | 10/18 [02:34<02:03, 15.49s/it]"
          ]
        },
        {
          "metadata": {
            "tags": null
          },
          "name": "stdout",
          "output_type": "stream",
          "text": [
            "08_g\n",
            "Reading predicted image from  /content/datasets/hrf_256_256_dice_loss_hvr_2//split_2/reconstructed/test/predictions_reconstructed//08_g.png\n",
            "(2560, 3584) 255 0\n",
            "(2560, 3584) 1 0\n",
            "(2560, 3584, 3) (2560, 3584) (2560, 3584)\n"
          ]
        },
        {
          "metadata": {
            "tags": null
          },
          "name": "stderr",
          "output_type": "stream",
          "text": [
            "\r 61%|██████    | 11/18 [02:50<01:48, 15.49s/it]"
          ]
        },
        {
          "metadata": {
            "tags": null
          },
          "name": "stdout",
          "output_type": "stream",
          "text": [
            "09_h\n",
            "Reading predicted image from  /content/datasets/hrf_256_256_dice_loss_hvr_2//split_2/reconstructed/test/predictions_reconstructed//09_h.png\n",
            "(2560, 3584) 255 0\n",
            "(2560, 3584) 1 0\n",
            "(2560, 3584, 3) (2560, 3584) (2560, 3584)\n"
          ]
        },
        {
          "output_type": "stream",
          "name": "stderr",
          "text": [
            "\r 67%|██████▋   | 12/18 [03:05<01:33, 15.53s/it]"
          ]
        },
        {
          "output_type": "stream",
          "name": "stdout",
          "text": [
            "10_h\n",
            "Reading predicted image from  /content/datasets/hrf_256_256_dice_loss_hvr_2//split_2/reconstructed/test/predictions_reconstructed//10_h.png\n",
            "(2560, 3584) 255 0\n",
            "(2560, 3584) 1 0\n",
            "(2560, 3584, 3) (2560, 3584) (2560, 3584)\n"
          ]
        },
        {
          "output_type": "stream",
          "name": "stderr",
          "text": [
            "\r 72%|███████▏  | 13/18 [03:21<01:17, 15.58s/it]"
          ]
        },
        {
          "output_type": "stream",
          "name": "stdout",
          "text": [
            "11_dr\n",
            "Reading predicted image from  /content/datasets/hrf_256_256_dice_loss_hvr_2//split_2/reconstructed/test/predictions_reconstructed//11_dr.png\n",
            "(2560, 3584) 255 0\n",
            "(2560, 3584) 1 0\n",
            "(2560, 3584, 3) (2560, 3584) (2560, 3584)\n"
          ]
        },
        {
          "output_type": "stream",
          "name": "stderr",
          "text": [
            "\r 78%|███████▊  | 14/18 [03:37<01:02, 15.64s/it]"
          ]
        },
        {
          "output_type": "stream",
          "name": "stdout",
          "text": [
            "12_h\n",
            "Reading predicted image from  /content/datasets/hrf_256_256_dice_loss_hvr_2//split_2/reconstructed/test/predictions_reconstructed//12_h.png\n",
            "(2560, 3584) 255 0\n",
            "(2560, 3584) 1 0\n",
            "(2560, 3584, 3) (2560, 3584) (2560, 3584)\n"
          ]
        },
        {
          "output_type": "stream",
          "name": "stderr",
          "text": [
            "\r 83%|████████▎ | 15/18 [03:52<00:46, 15.56s/it]"
          ]
        },
        {
          "output_type": "stream",
          "name": "stdout",
          "text": [
            "13_dr\n",
            "Reading predicted image from  /content/datasets/hrf_256_256_dice_loss_hvr_2//split_2/reconstructed/test/predictions_reconstructed//13_dr.png\n",
            "(2560, 3584) 255 0\n",
            "(2560, 3584) 1 0\n",
            "(2560, 3584, 3) (2560, 3584) (2560, 3584)\n"
          ]
        },
        {
          "output_type": "stream",
          "name": "stderr",
          "text": [
            "\r 89%|████████▉ | 16/18 [04:08<00:31, 15.54s/it]"
          ]
        },
        {
          "output_type": "stream",
          "name": "stdout",
          "text": [
            "15_g\n",
            "Reading predicted image from  /content/datasets/hrf_256_256_dice_loss_hvr_2//split_2/reconstructed/test/predictions_reconstructed//15_g.png\n",
            "(2560, 3584) 255 0\n",
            "(2560, 3584) 1 0\n",
            "(2560, 3584, 3) (2560, 3584) (2560, 3584)\n"
          ]
        },
        {
          "output_type": "stream",
          "name": "stderr",
          "text": [
            "\r 94%|█████████▍| 17/18 [04:23<00:15, 15.54s/it]"
          ]
        },
        {
          "output_type": "stream",
          "name": "stdout",
          "text": [
            "15_h\n",
            "Reading predicted image from  /content/datasets/hrf_256_256_dice_loss_hvr_2//split_2/reconstructed/test/predictions_reconstructed//15_h.png\n",
            "(2560, 3584) 255 0\n",
            "(2560, 3584) 1 0\n",
            "(2560, 3584, 3) (2560, 3584) (2560, 3584)\n"
          ]
        },
        {
          "output_type": "stream",
          "name": "stderr",
          "text": [
            "100%|██████████| 18/18 [04:39<00:00, 15.53s/it]"
          ]
        },
        {
          "output_type": "stream",
          "name": "stdout",
          "text": [
            "Threshold: 0.40000\n",
            "Accuracy: 0.97530\n",
            "F1: 0.81656\n",
            "Jaccard: 0.69135\n",
            "Recall: 0.82141\n",
            "Precision: 0.81830\n",
            "AUC: 0.90400\n",
            "Dice Coeff: 0.81656\n"
          ]
        },
        {
          "output_type": "stream",
          "name": "stderr",
          "text": [
            "\n"
          ]
        }
      ]
    },
    {
      "cell_type": "code",
      "source": [
        "df, scores = compute_metrics(dataset_path,\n",
        "                    results_path=results_path_reconstructed,\n",
        "                    threshold=0.5,\n",
        "                    model=None,\n",
        "                    predictions_path=f\"{root_path}/{split_name}/reconstructed/test/predictions_reconstructed/\",\n",
        "                    prediction_np_path=None)"
      ],
      "metadata": {
        "colab": {
          "base_uri": "https://localhost:8080/"
        },
        "id": "awC6MfPbujiZ",
        "outputId": "4f706b57-f5cb-4d9b-8516-8f27628104b1"
      },
      "execution_count": null,
      "outputs": [
        {
          "output_type": "stream",
          "name": "stdout",
          "text": [
            "Threshold 0.5\n"
          ]
        },
        {
          "output_type": "stream",
          "name": "stderr",
          "text": [
            "\r  0%|          | 0/18 [00:00<?, ?it/s]"
          ]
        },
        {
          "output_type": "stream",
          "name": "stdout",
          "text": [
            "01_h\n",
            "Reading predicted image from  /content/datasets/hrf_256_256_dice_loss_hvr_2//split_2/reconstructed/test/predictions_reconstructed//01_h.png\n",
            "(2560, 3584) 255 0\n",
            "(2560, 3584) 1 0\n",
            "(2560, 3584, 3) (2560, 3584) (2560, 3584)\n"
          ]
        },
        {
          "output_type": "stream",
          "name": "stderr",
          "text": [
            "\r  6%|▌         | 1/18 [00:15<04:24, 15.53s/it]"
          ]
        },
        {
          "output_type": "stream",
          "name": "stdout",
          "text": [
            "02_g\n",
            "Reading predicted image from  /content/datasets/hrf_256_256_dice_loss_hvr_2//split_2/reconstructed/test/predictions_reconstructed//02_g.png\n",
            "(2560, 3584) 255 0\n",
            "(2560, 3584) 1 0\n",
            "(2560, 3584, 3) (2560, 3584) (2560, 3584)\n"
          ]
        },
        {
          "output_type": "stream",
          "name": "stderr",
          "text": [
            "\r 11%|█         | 2/18 [00:31<04:09, 15.58s/it]"
          ]
        },
        {
          "output_type": "stream",
          "name": "stdout",
          "text": [
            "03_g\n",
            "Reading predicted image from  /content/datasets/hrf_256_256_dice_loss_hvr_2//split_2/reconstructed/test/predictions_reconstructed//03_g.png\n",
            "(2560, 3584) 255 0\n",
            "(2560, 3584) 1 0\n",
            "(2560, 3584, 3) (2560, 3584) (2560, 3584)\n"
          ]
        },
        {
          "output_type": "stream",
          "name": "stderr",
          "text": [
            "\r 17%|█▋        | 3/18 [00:46<03:53, 15.54s/it]"
          ]
        },
        {
          "output_type": "stream",
          "name": "stdout",
          "text": [
            "04_dr\n",
            "Reading predicted image from  /content/datasets/hrf_256_256_dice_loss_hvr_2//split_2/reconstructed/test/predictions_reconstructed//04_dr.png\n",
            "(2560, 3584) 255 0\n",
            "(2560, 3584) 1 0\n",
            "(2560, 3584, 3) (2560, 3584) (2560, 3584)\n"
          ]
        },
        {
          "output_type": "stream",
          "name": "stderr",
          "text": [
            "\r 22%|██▏       | 4/18 [01:02<03:38, 15.59s/it]"
          ]
        },
        {
          "output_type": "stream",
          "name": "stdout",
          "text": [
            "05_dr\n",
            "Reading predicted image from  /content/datasets/hrf_256_256_dice_loss_hvr_2//split_2/reconstructed/test/predictions_reconstructed//05_dr.png\n",
            "(2560, 3584) 255 0\n",
            "(2560, 3584) 1 0\n",
            "(2560, 3584, 3) (2560, 3584) (2560, 3584)\n"
          ]
        },
        {
          "output_type": "stream",
          "name": "stderr",
          "text": [
            "\r 28%|██▊       | 5/18 [01:17<03:22, 15.59s/it]"
          ]
        },
        {
          "output_type": "stream",
          "name": "stdout",
          "text": [
            "05_g\n",
            "Reading predicted image from  /content/datasets/hrf_256_256_dice_loss_hvr_2//split_2/reconstructed/test/predictions_reconstructed//05_g.png\n",
            "(2560, 3584) 255 0\n",
            "(2560, 3584) 1 0\n",
            "(2560, 3584, 3) (2560, 3584) (2560, 3584)\n"
          ]
        },
        {
          "output_type": "stream",
          "name": "stderr",
          "text": [
            "\r 33%|███▎      | 6/18 [01:33<03:07, 15.59s/it]"
          ]
        },
        {
          "output_type": "stream",
          "name": "stdout",
          "text": [
            "06_g\n",
            "Reading predicted image from  /content/datasets/hrf_256_256_dice_loss_hvr_2//split_2/reconstructed/test/predictions_reconstructed//06_g.png\n",
            "(2560, 3584) 255 0\n",
            "(2560, 3584) 1 0\n",
            "(2560, 3584, 3) (2560, 3584) (2560, 3584)\n"
          ]
        },
        {
          "output_type": "stream",
          "name": "stderr",
          "text": [
            "\r 39%|███▉      | 7/18 [01:49<02:52, 15.65s/it]"
          ]
        },
        {
          "output_type": "stream",
          "name": "stdout",
          "text": [
            "06_h\n",
            "Reading predicted image from  /content/datasets/hrf_256_256_dice_loss_hvr_2//split_2/reconstructed/test/predictions_reconstructed//06_h.png\n",
            "(2560, 3584) 255 0\n",
            "(2560, 3584) 1 0\n",
            "(2560, 3584, 3) (2560, 3584) (2560, 3584)\n"
          ]
        },
        {
          "output_type": "stream",
          "name": "stderr",
          "text": [
            "\r 44%|████▍     | 8/18 [02:04<02:36, 15.62s/it]"
          ]
        },
        {
          "output_type": "stream",
          "name": "stdout",
          "text": [
            "07_dr\n",
            "Reading predicted image from  /content/datasets/hrf_256_256_dice_loss_hvr_2//split_2/reconstructed/test/predictions_reconstructed//07_dr.png\n",
            "(2560, 3584) 255 0\n",
            "(2560, 3584) 1 0\n",
            "(2560, 3584, 3) (2560, 3584) (2560, 3584)\n"
          ]
        },
        {
          "output_type": "stream",
          "name": "stderr",
          "text": [
            "\r 50%|█████     | 9/18 [02:20<02:20, 15.63s/it]"
          ]
        },
        {
          "output_type": "stream",
          "name": "stdout",
          "text": [
            "08_dr\n",
            "Reading predicted image from  /content/datasets/hrf_256_256_dice_loss_hvr_2//split_2/reconstructed/test/predictions_reconstructed//08_dr.png\n",
            "(2560, 3584) 255 0\n",
            "(2560, 3584) 1 0\n",
            "(2560, 3584, 3) (2560, 3584) (2560, 3584)\n"
          ]
        },
        {
          "output_type": "stream",
          "name": "stderr",
          "text": [
            "\r 56%|█████▌    | 10/18 [02:36<02:04, 15.62s/it]"
          ]
        },
        {
          "output_type": "stream",
          "name": "stdout",
          "text": [
            "08_g\n",
            "Reading predicted image from  /content/datasets/hrf_256_256_dice_loss_hvr_2//split_2/reconstructed/test/predictions_reconstructed//08_g.png\n",
            "(2560, 3584) 255 0\n",
            "(2560, 3584) 1 0\n",
            "(2560, 3584, 3) (2560, 3584) (2560, 3584)\n"
          ]
        },
        {
          "output_type": "stream",
          "name": "stderr",
          "text": [
            "\r 61%|██████    | 11/18 [02:51<01:49, 15.64s/it]"
          ]
        },
        {
          "output_type": "stream",
          "name": "stdout",
          "text": [
            "09_h\n",
            "Reading predicted image from  /content/datasets/hrf_256_256_dice_loss_hvr_2//split_2/reconstructed/test/predictions_reconstructed//09_h.png\n",
            "(2560, 3584) 255 0\n",
            "(2560, 3584) 1 0\n",
            "(2560, 3584, 3) (2560, 3584) (2560, 3584)\n"
          ]
        },
        {
          "output_type": "stream",
          "name": "stderr",
          "text": [
            "\r 67%|██████▋   | 12/18 [03:07<01:33, 15.57s/it]"
          ]
        },
        {
          "output_type": "stream",
          "name": "stdout",
          "text": [
            "10_h\n",
            "Reading predicted image from  /content/datasets/hrf_256_256_dice_loss_hvr_2//split_2/reconstructed/test/predictions_reconstructed//10_h.png\n",
            "(2560, 3584) 255 0\n",
            "(2560, 3584) 1 0\n",
            "(2560, 3584, 3) (2560, 3584) (2560, 3584)\n"
          ]
        },
        {
          "output_type": "stream",
          "name": "stderr",
          "text": [
            "\r 72%|███████▏  | 13/18 [03:22<01:18, 15.60s/it]"
          ]
        },
        {
          "output_type": "stream",
          "name": "stdout",
          "text": [
            "11_dr\n",
            "Reading predicted image from  /content/datasets/hrf_256_256_dice_loss_hvr_2//split_2/reconstructed/test/predictions_reconstructed//11_dr.png\n",
            "(2560, 3584) 255 0\n",
            "(2560, 3584) 1 0\n",
            "(2560, 3584, 3) (2560, 3584) (2560, 3584)\n"
          ]
        },
        {
          "output_type": "stream",
          "name": "stderr",
          "text": [
            "\r 78%|███████▊  | 14/18 [03:38<01:02, 15.62s/it]"
          ]
        },
        {
          "output_type": "stream",
          "name": "stdout",
          "text": [
            "12_h\n",
            "Reading predicted image from  /content/datasets/hrf_256_256_dice_loss_hvr_2//split_2/reconstructed/test/predictions_reconstructed//12_h.png\n",
            "(2560, 3584) 255 0\n",
            "(2560, 3584) 1 0\n",
            "(2560, 3584, 3) (2560, 3584) (2560, 3584)\n"
          ]
        },
        {
          "output_type": "stream",
          "name": "stderr",
          "text": [
            "\r 83%|████████▎ | 15/18 [03:53<00:46, 15.55s/it]"
          ]
        },
        {
          "output_type": "stream",
          "name": "stdout",
          "text": [
            "13_dr\n",
            "Reading predicted image from  /content/datasets/hrf_256_256_dice_loss_hvr_2//split_2/reconstructed/test/predictions_reconstructed//13_dr.png\n",
            "(2560, 3584) 255 0\n",
            "(2560, 3584) 1 0\n",
            "(2560, 3584, 3) (2560, 3584) (2560, 3584)\n"
          ]
        },
        {
          "output_type": "stream",
          "name": "stderr",
          "text": [
            "\r 89%|████████▉ | 16/18 [04:09<00:31, 15.51s/it]"
          ]
        },
        {
          "output_type": "stream",
          "name": "stdout",
          "text": [
            "15_g\n",
            "Reading predicted image from  /content/datasets/hrf_256_256_dice_loss_hvr_2//split_2/reconstructed/test/predictions_reconstructed//15_g.png\n",
            "(2560, 3584) 255 0\n",
            "(2560, 3584) 1 0\n",
            "(2560, 3584, 3) (2560, 3584) (2560, 3584)\n"
          ]
        },
        {
          "output_type": "stream",
          "name": "stderr",
          "text": [
            "\r 94%|█████████▍| 17/18 [04:24<00:15, 15.55s/it]"
          ]
        },
        {
          "output_type": "stream",
          "name": "stdout",
          "text": [
            "15_h\n",
            "Reading predicted image from  /content/datasets/hrf_256_256_dice_loss_hvr_2//split_2/reconstructed/test/predictions_reconstructed//15_h.png\n",
            "(2560, 3584) 255 0\n",
            "(2560, 3584) 1 0\n",
            "(2560, 3584, 3) (2560, 3584) (2560, 3584)\n"
          ]
        },
        {
          "output_type": "stream",
          "name": "stderr",
          "text": [
            "100%|██████████| 18/18 [04:40<00:00, 15.59s/it]"
          ]
        },
        {
          "output_type": "stream",
          "name": "stdout",
          "text": [
            "Threshold: 0.50000\n",
            "Accuracy: 0.97530\n",
            "F1: 0.81656\n",
            "Jaccard: 0.69135\n",
            "Recall: 0.82141\n",
            "Precision: 0.81830\n",
            "AUC: 0.90400\n",
            "Dice Coeff: 0.81656\n"
          ]
        },
        {
          "output_type": "stream",
          "name": "stderr",
          "text": [
            "\n"
          ]
        }
      ]
    },
    {
      "cell_type": "code",
      "source": [
        "df, scores = compute_metrics(dataset_path,\n",
        "                    results_path=results_path_reconstructed,\n",
        "                    threshold=0.6,\n",
        "                    model=None,\n",
        "                    predictions_path=f\"{root_path}/{split_name}/reconstructed/test/predictions_reconstructed/\",\n",
        "                    prediction_np_path=None)"
      ],
      "metadata": {
        "id": "a5lvUqu1uoxt",
        "colab": {
          "base_uri": "https://localhost:8080/"
        },
        "outputId": "31ab0e25-aeaf-411a-c011-d60ab2eadadb"
      },
      "execution_count": null,
      "outputs": [
        {
          "output_type": "stream",
          "name": "stdout",
          "text": [
            "Threshold 0.6\n"
          ]
        },
        {
          "output_type": "stream",
          "name": "stderr",
          "text": [
            "\r  0%|          | 0/18 [00:00<?, ?it/s]"
          ]
        },
        {
          "output_type": "stream",
          "name": "stdout",
          "text": [
            "01_h\n",
            "Reading predicted image from  /content/datasets/hrf_256_256_dice_loss_hvr_2//split_2/reconstructed/test/predictions_reconstructed//01_h.png\n",
            "(2560, 3584) 255 0\n",
            "(2560, 3584) 1 0\n",
            "(2560, 3584, 3) (2560, 3584) (2560, 3584)\n"
          ]
        },
        {
          "output_type": "stream",
          "name": "stderr",
          "text": [
            "\r  6%|▌         | 1/18 [00:15<04:22, 15.47s/it]"
          ]
        },
        {
          "output_type": "stream",
          "name": "stdout",
          "text": [
            "02_g\n",
            "Reading predicted image from  /content/datasets/hrf_256_256_dice_loss_hvr_2//split_2/reconstructed/test/predictions_reconstructed//02_g.png\n",
            "(2560, 3584) 255 0\n",
            "(2560, 3584) 1 0\n",
            "(2560, 3584, 3) (2560, 3584) (2560, 3584)\n"
          ]
        },
        {
          "output_type": "stream",
          "name": "stderr",
          "text": [
            "\r 11%|█         | 2/18 [00:31<04:08, 15.52s/it]"
          ]
        },
        {
          "output_type": "stream",
          "name": "stdout",
          "text": [
            "03_g\n",
            "Reading predicted image from  /content/datasets/hrf_256_256_dice_loss_hvr_2//split_2/reconstructed/test/predictions_reconstructed//03_g.png\n",
            "(2560, 3584) 255 0\n",
            "(2560, 3584) 1 0\n",
            "(2560, 3584, 3) (2560, 3584) (2560, 3584)\n"
          ]
        },
        {
          "output_type": "stream",
          "name": "stderr",
          "text": [
            "\r 17%|█▋        | 3/18 [00:46<03:51, 15.46s/it]"
          ]
        },
        {
          "output_type": "stream",
          "name": "stdout",
          "text": [
            "04_dr\n",
            "Reading predicted image from  /content/datasets/hrf_256_256_dice_loss_hvr_2//split_2/reconstructed/test/predictions_reconstructed//04_dr.png\n",
            "(2560, 3584) 255 0\n",
            "(2560, 3584) 1 0\n",
            "(2560, 3584, 3) (2560, 3584) (2560, 3584)\n"
          ]
        },
        {
          "output_type": "stream",
          "name": "stderr",
          "text": [
            "\r 22%|██▏       | 4/18 [01:01<03:36, 15.49s/it]"
          ]
        },
        {
          "output_type": "stream",
          "name": "stdout",
          "text": [
            "05_dr\n",
            "Reading predicted image from  /content/datasets/hrf_256_256_dice_loss_hvr_2//split_2/reconstructed/test/predictions_reconstructed//05_dr.png\n",
            "(2560, 3584) 255 0\n",
            "(2560, 3584) 1 0\n",
            "(2560, 3584, 3) (2560, 3584) (2560, 3584)\n"
          ]
        },
        {
          "output_type": "stream",
          "name": "stderr",
          "text": [
            "\r 28%|██▊       | 5/18 [01:17<03:21, 15.50s/it]"
          ]
        },
        {
          "output_type": "stream",
          "name": "stdout",
          "text": [
            "05_g\n",
            "Reading predicted image from  /content/datasets/hrf_256_256_dice_loss_hvr_2//split_2/reconstructed/test/predictions_reconstructed//05_g.png\n",
            "(2560, 3584) 255 0\n",
            "(2560, 3584) 1 0\n",
            "(2560, 3584, 3) (2560, 3584) (2560, 3584)\n"
          ]
        },
        {
          "output_type": "stream",
          "name": "stderr",
          "text": [
            "\r 33%|███▎      | 6/18 [01:32<03:05, 15.47s/it]"
          ]
        },
        {
          "output_type": "stream",
          "name": "stdout",
          "text": [
            "06_g\n",
            "Reading predicted image from  /content/datasets/hrf_256_256_dice_loss_hvr_2//split_2/reconstructed/test/predictions_reconstructed//06_g.png\n",
            "(2560, 3584) 255 0\n",
            "(2560, 3584) 1 0\n",
            "(2560, 3584, 3) (2560, 3584) (2560, 3584)\n"
          ]
        },
        {
          "output_type": "stream",
          "name": "stderr",
          "text": [
            "\r 39%|███▉      | 7/18 [01:48<02:50, 15.47s/it]"
          ]
        },
        {
          "output_type": "stream",
          "name": "stdout",
          "text": [
            "06_h\n",
            "Reading predicted image from  /content/datasets/hrf_256_256_dice_loss_hvr_2//split_2/reconstructed/test/predictions_reconstructed//06_h.png\n",
            "(2560, 3584) 255 0\n",
            "(2560, 3584) 1 0\n",
            "(2560, 3584, 3) (2560, 3584) (2560, 3584)\n"
          ]
        },
        {
          "output_type": "stream",
          "name": "stderr",
          "text": [
            "\r 44%|████▍     | 8/18 [02:03<02:34, 15.44s/it]"
          ]
        },
        {
          "output_type": "stream",
          "name": "stdout",
          "text": [
            "07_dr\n",
            "Reading predicted image from  /content/datasets/hrf_256_256_dice_loss_hvr_2//split_2/reconstructed/test/predictions_reconstructed//07_dr.png\n",
            "(2560, 3584) 255 0\n",
            "(2560, 3584) 1 0\n",
            "(2560, 3584, 3) (2560, 3584) (2560, 3584)\n"
          ]
        },
        {
          "output_type": "stream",
          "name": "stderr",
          "text": [
            "\r 50%|█████     | 9/18 [02:19<02:19, 15.45s/it]"
          ]
        },
        {
          "output_type": "stream",
          "name": "stdout",
          "text": [
            "08_dr\n",
            "Reading predicted image from  /content/datasets/hrf_256_256_dice_loss_hvr_2//split_2/reconstructed/test/predictions_reconstructed//08_dr.png\n",
            "(2560, 3584) 255 0\n",
            "(2560, 3584) 1 0\n",
            "(2560, 3584, 3) (2560, 3584) (2560, 3584)\n"
          ]
        },
        {
          "output_type": "stream",
          "name": "stderr",
          "text": [
            "\r 56%|█████▌    | 10/18 [02:34<02:03, 15.44s/it]"
          ]
        },
        {
          "output_type": "stream",
          "name": "stdout",
          "text": [
            "08_g\n",
            "Reading predicted image from  /content/datasets/hrf_256_256_dice_loss_hvr_2//split_2/reconstructed/test/predictions_reconstructed//08_g.png\n",
            "(2560, 3584) 255 0\n",
            "(2560, 3584) 1 0\n",
            "(2560, 3584, 3) (2560, 3584) (2560, 3584)\n"
          ]
        },
        {
          "output_type": "stream",
          "name": "stderr",
          "text": [
            "\r 61%|██████    | 11/18 [02:50<01:48, 15.51s/it]"
          ]
        },
        {
          "output_type": "stream",
          "name": "stdout",
          "text": [
            "09_h\n",
            "Reading predicted image from  /content/datasets/hrf_256_256_dice_loss_hvr_2//split_2/reconstructed/test/predictions_reconstructed//09_h.png\n",
            "(2560, 3584) 255 0\n",
            "(2560, 3584) 1 0\n",
            "(2560, 3584, 3) (2560, 3584) (2560, 3584)\n"
          ]
        },
        {
          "output_type": "stream",
          "name": "stderr",
          "text": [
            "\r 67%|██████▋   | 12/18 [03:05<01:32, 15.46s/it]"
          ]
        },
        {
          "output_type": "stream",
          "name": "stdout",
          "text": [
            "10_h\n",
            "Reading predicted image from  /content/datasets/hrf_256_256_dice_loss_hvr_2//split_2/reconstructed/test/predictions_reconstructed//10_h.png\n",
            "(2560, 3584) 255 0\n",
            "(2560, 3584) 1 0\n",
            "(2560, 3584, 3) (2560, 3584) (2560, 3584)\n"
          ]
        },
        {
          "output_type": "stream",
          "name": "stderr",
          "text": [
            "\r 72%|███████▏  | 13/18 [03:21<01:17, 15.50s/it]"
          ]
        },
        {
          "output_type": "stream",
          "name": "stdout",
          "text": [
            "11_dr\n",
            "Reading predicted image from  /content/datasets/hrf_256_256_dice_loss_hvr_2//split_2/reconstructed/test/predictions_reconstructed//11_dr.png\n",
            "(2560, 3584) 255 0\n",
            "(2560, 3584) 1 0\n",
            "(2560, 3584, 3) (2560, 3584) (2560, 3584)\n"
          ]
        },
        {
          "output_type": "stream",
          "name": "stderr",
          "text": [
            "\r 78%|███████▊  | 14/18 [03:36<01:02, 15.55s/it]"
          ]
        },
        {
          "output_type": "stream",
          "name": "stdout",
          "text": [
            "12_h\n",
            "Reading predicted image from  /content/datasets/hrf_256_256_dice_loss_hvr_2//split_2/reconstructed/test/predictions_reconstructed//12_h.png\n",
            "(2560, 3584) 255 0\n",
            "(2560, 3584) 1 0\n",
            "(2560, 3584, 3) (2560, 3584) (2560, 3584)\n"
          ]
        },
        {
          "output_type": "stream",
          "name": "stderr",
          "text": [
            "\r 83%|████████▎ | 15/18 [03:52<00:46, 15.50s/it]"
          ]
        },
        {
          "output_type": "stream",
          "name": "stdout",
          "text": [
            "13_dr\n",
            "Reading predicted image from  /content/datasets/hrf_256_256_dice_loss_hvr_2//split_2/reconstructed/test/predictions_reconstructed//13_dr.png\n",
            "(2560, 3584) 255 0\n",
            "(2560, 3584) 1 0\n",
            "(2560, 3584, 3) (2560, 3584) (2560, 3584)\n"
          ]
        },
        {
          "output_type": "stream",
          "name": "stderr",
          "text": [
            "\r 89%|████████▉ | 16/18 [04:07<00:30, 15.44s/it]"
          ]
        },
        {
          "output_type": "stream",
          "name": "stdout",
          "text": [
            "15_g\n",
            "Reading predicted image from  /content/datasets/hrf_256_256_dice_loss_hvr_2//split_2/reconstructed/test/predictions_reconstructed//15_g.png\n",
            "(2560, 3584) 255 0\n",
            "(2560, 3584) 1 0\n",
            "(2560, 3584, 3) (2560, 3584) (2560, 3584)\n"
          ]
        },
        {
          "output_type": "stream",
          "name": "stderr",
          "text": [
            "\r 94%|█████████▍| 17/18 [04:23<00:15, 15.50s/it]"
          ]
        },
        {
          "output_type": "stream",
          "name": "stdout",
          "text": [
            "15_h\n",
            "Reading predicted image from  /content/datasets/hrf_256_256_dice_loss_hvr_2//split_2/reconstructed/test/predictions_reconstructed//15_h.png\n",
            "(2560, 3584) 255 0\n",
            "(2560, 3584) 1 0\n",
            "(2560, 3584, 3) (2560, 3584) (2560, 3584)\n"
          ]
        },
        {
          "output_type": "stream",
          "name": "stderr",
          "text": [
            "100%|██████████| 18/18 [04:38<00:00, 15.49s/it]"
          ]
        },
        {
          "output_type": "stream",
          "name": "stdout",
          "text": [
            "Threshold: 0.60000\n",
            "Accuracy: 0.97530\n",
            "F1: 0.81656\n",
            "Jaccard: 0.69135\n",
            "Recall: 0.82141\n",
            "Precision: 0.81830\n",
            "AUC: 0.90400\n",
            "Dice Coeff: 0.81656\n"
          ]
        },
        {
          "output_type": "stream",
          "name": "stderr",
          "text": [
            "\n"
          ]
        }
      ]
    },
    {
      "cell_type": "code",
      "source": [
        "history_df = pd.read_csv(csv_path)"
      ],
      "metadata": {
        "id": "OK9UsQOfcp6e"
      },
      "execution_count": null,
      "outputs": []
    },
    {
      "cell_type": "code",
      "source": [
        "history_df.shape"
      ],
      "metadata": {
        "id": "nh-0QC_5vW-m",
        "colab": {
          "base_uri": "https://localhost:8080/"
        },
        "outputId": "ea58464f-6b46-44d1-d8fd-1e3e33fd8913"
      },
      "execution_count": null,
      "outputs": [
        {
          "output_type": "execute_result",
          "data": {
            "text/plain": [
              "(25, 14)"
            ]
          },
          "metadata": {},
          "execution_count": 67
        }
      ]
    },
    {
      "cell_type": "code",
      "source": [
        "history_df.head(50)"
      ],
      "metadata": {
        "id": "dyKm3VYVvXHh",
        "colab": {
          "base_uri": "https://localhost:8080/",
          "height": 897
        },
        "outputId": "7c17e003-d701-44ea-d6c8-384d02431879"
      },
      "execution_count": null,
      "outputs": [
        {
          "output_type": "execute_result",
          "data": {
            "text/html": [
              "\n",
              "  <div id=\"df-1c95e046-ba58-47ac-ba7d-fbc67fb8f071\">\n",
              "    <div class=\"colab-df-container\">\n",
              "      <div>\n",
              "<style scoped>\n",
              "    .dataframe tbody tr th:only-of-type {\n",
              "        vertical-align: middle;\n",
              "    }\n",
              "\n",
              "    .dataframe tbody tr th {\n",
              "        vertical-align: top;\n",
              "    }\n",
              "\n",
              "    .dataframe thead th {\n",
              "        text-align: right;\n",
              "    }\n",
              "</style>\n",
              "<table border=\"1\" class=\"dataframe\">\n",
              "  <thead>\n",
              "    <tr style=\"text-align: right;\">\n",
              "      <th></th>\n",
              "      <th>epoch</th>\n",
              "      <th>auc</th>\n",
              "      <th>dice_coef</th>\n",
              "      <th>iou</th>\n",
              "      <th>loss</th>\n",
              "      <th>lr</th>\n",
              "      <th>precision</th>\n",
              "      <th>recall</th>\n",
              "      <th>val_auc</th>\n",
              "      <th>val_dice_coef</th>\n",
              "      <th>val_iou</th>\n",
              "      <th>val_loss</th>\n",
              "      <th>val_precision</th>\n",
              "      <th>val_recall</th>\n",
              "    </tr>\n",
              "  </thead>\n",
              "  <tbody>\n",
              "    <tr>\n",
              "      <th>0</th>\n",
              "      <td>0</td>\n",
              "      <td>0.932098</td>\n",
              "      <td>0.643424</td>\n",
              "      <td>0.485427</td>\n",
              "      <td>0.356577</td>\n",
              "      <td>0.00010</td>\n",
              "      <td>0.633961</td>\n",
              "      <td>0.807798</td>\n",
              "      <td>0.937724</td>\n",
              "      <td>0.736774</td>\n",
              "      <td>0.587943</td>\n",
              "      <td>0.263271</td>\n",
              "      <td>0.775385</td>\n",
              "      <td>0.821211</td>\n",
              "    </tr>\n",
              "    <tr>\n",
              "      <th>1</th>\n",
              "      <td>1</td>\n",
              "      <td>0.939542</td>\n",
              "      <td>0.773744</td>\n",
              "      <td>0.632393</td>\n",
              "      <td>0.226256</td>\n",
              "      <td>0.00010</td>\n",
              "      <td>0.788685</td>\n",
              "      <td>0.810547</td>\n",
              "      <td>0.936253</td>\n",
              "      <td>0.788950</td>\n",
              "      <td>0.654557</td>\n",
              "      <td>0.211199</td>\n",
              "      <td>0.814901</td>\n",
              "      <td>0.810783</td>\n",
              "    </tr>\n",
              "    <tr>\n",
              "      <th>2</th>\n",
              "      <td>2</td>\n",
              "      <td>0.928829</td>\n",
              "      <td>0.794750</td>\n",
              "      <td>0.660518</td>\n",
              "      <td>0.205250</td>\n",
              "      <td>0.00010</td>\n",
              "      <td>0.799214</td>\n",
              "      <td>0.812636</td>\n",
              "      <td>0.922630</td>\n",
              "      <td>0.799243</td>\n",
              "      <td>0.668378</td>\n",
              "      <td>0.200908</td>\n",
              "      <td>0.822751</td>\n",
              "      <td>0.806280</td>\n",
              "    </tr>\n",
              "    <tr>\n",
              "      <th>3</th>\n",
              "      <td>3</td>\n",
              "      <td>0.922771</td>\n",
              "      <td>0.804318</td>\n",
              "      <td>0.673666</td>\n",
              "      <td>0.195681</td>\n",
              "      <td>0.00010</td>\n",
              "      <td>0.804920</td>\n",
              "      <td>0.817154</td>\n",
              "      <td>0.926746</td>\n",
              "      <td>0.802919</td>\n",
              "      <td>0.673669</td>\n",
              "      <td>0.197201</td>\n",
              "      <td>0.796494</td>\n",
              "      <td>0.833909</td>\n",
              "    </tr>\n",
              "    <tr>\n",
              "      <th>4</th>\n",
              "      <td>4</td>\n",
              "      <td>0.919928</td>\n",
              "      <td>0.809407</td>\n",
              "      <td>0.680753</td>\n",
              "      <td>0.190593</td>\n",
              "      <td>0.00010</td>\n",
              "      <td>0.808296</td>\n",
              "      <td>0.820197</td>\n",
              "      <td>0.917642</td>\n",
              "      <td>0.806840</td>\n",
              "      <td>0.678938</td>\n",
              "      <td>0.193288</td>\n",
              "      <td>0.814491</td>\n",
              "      <td>0.819646</td>\n",
              "    </tr>\n",
              "    <tr>\n",
              "      <th>5</th>\n",
              "      <td>5</td>\n",
              "      <td>0.918543</td>\n",
              "      <td>0.812797</td>\n",
              "      <td>0.685519</td>\n",
              "      <td>0.187203</td>\n",
              "      <td>0.00010</td>\n",
              "      <td>0.810946</td>\n",
              "      <td>0.822527</td>\n",
              "      <td>0.920611</td>\n",
              "      <td>0.809694</td>\n",
              "      <td>0.682942</td>\n",
              "      <td>0.190443</td>\n",
              "      <td>0.807130</td>\n",
              "      <td>0.831088</td>\n",
              "    </tr>\n",
              "    <tr>\n",
              "      <th>6</th>\n",
              "      <td>6</td>\n",
              "      <td>0.917775</td>\n",
              "      <td>0.815634</td>\n",
              "      <td>0.689533</td>\n",
              "      <td>0.184366</td>\n",
              "      <td>0.00010</td>\n",
              "      <td>0.813053</td>\n",
              "      <td>0.825132</td>\n",
              "      <td>0.916123</td>\n",
              "      <td>0.799970</td>\n",
              "      <td>0.669467</td>\n",
              "      <td>0.200168</td>\n",
              "      <td>0.793176</td>\n",
              "      <td>0.827143</td>\n",
              "    </tr>\n",
              "    <tr>\n",
              "      <th>7</th>\n",
              "      <td>7</td>\n",
              "      <td>0.917345</td>\n",
              "      <td>0.817483</td>\n",
              "      <td>0.692145</td>\n",
              "      <td>0.182516</td>\n",
              "      <td>0.00010</td>\n",
              "      <td>0.814624</td>\n",
              "      <td>0.826697</td>\n",
              "      <td>0.919818</td>\n",
              "      <td>0.807031</td>\n",
              "      <td>0.679341</td>\n",
              "      <td>0.193067</td>\n",
              "      <td>0.799559</td>\n",
              "      <td>0.834120</td>\n",
              "    </tr>\n",
              "    <tr>\n",
              "      <th>8</th>\n",
              "      <td>8</td>\n",
              "      <td>0.917332</td>\n",
              "      <td>0.819746</td>\n",
              "      <td>0.695363</td>\n",
              "      <td>0.180254</td>\n",
              "      <td>0.00010</td>\n",
              "      <td>0.816948</td>\n",
              "      <td>0.828517</td>\n",
              "      <td>0.909179</td>\n",
              "      <td>0.804792</td>\n",
              "      <td>0.676229</td>\n",
              "      <td>0.195307</td>\n",
              "      <td>0.817071</td>\n",
              "      <td>0.812373</td>\n",
              "    </tr>\n",
              "    <tr>\n",
              "      <th>9</th>\n",
              "      <td>9</td>\n",
              "      <td>0.917441</td>\n",
              "      <td>0.821708</td>\n",
              "      <td>0.698174</td>\n",
              "      <td>0.178292</td>\n",
              "      <td>0.00010</td>\n",
              "      <td>0.818599</td>\n",
              "      <td>0.830501</td>\n",
              "      <td>0.917588</td>\n",
              "      <td>0.808640</td>\n",
              "      <td>0.681541</td>\n",
              "      <td>0.191450</td>\n",
              "      <td>0.800745</td>\n",
              "      <td>0.834921</td>\n",
              "    </tr>\n",
              "    <tr>\n",
              "      <th>10</th>\n",
              "      <td>10</td>\n",
              "      <td>0.917724</td>\n",
              "      <td>0.823995</td>\n",
              "      <td>0.701455</td>\n",
              "      <td>0.176005</td>\n",
              "      <td>0.00010</td>\n",
              "      <td>0.820736</td>\n",
              "      <td>0.832790</td>\n",
              "      <td>0.913128</td>\n",
              "      <td>0.810699</td>\n",
              "      <td>0.684330</td>\n",
              "      <td>0.189395</td>\n",
              "      <td>0.813127</td>\n",
              "      <td>0.825436</td>\n",
              "    </tr>\n",
              "    <tr>\n",
              "      <th>11</th>\n",
              "      <td>11</td>\n",
              "      <td>0.917326</td>\n",
              "      <td>0.824379</td>\n",
              "      <td>0.702031</td>\n",
              "      <td>0.175620</td>\n",
              "      <td>0.00010</td>\n",
              "      <td>0.821256</td>\n",
              "      <td>0.833036</td>\n",
              "      <td>0.916682</td>\n",
              "      <td>0.802812</td>\n",
              "      <td>0.673606</td>\n",
              "      <td>0.197285</td>\n",
              "      <td>0.789452</td>\n",
              "      <td>0.835647</td>\n",
              "    </tr>\n",
              "    <tr>\n",
              "      <th>12</th>\n",
              "      <td>12</td>\n",
              "      <td>0.918300</td>\n",
              "      <td>0.827353</td>\n",
              "      <td>0.706302</td>\n",
              "      <td>0.172647</td>\n",
              "      <td>0.00010</td>\n",
              "      <td>0.824129</td>\n",
              "      <td>0.835896</td>\n",
              "      <td>0.911595</td>\n",
              "      <td>0.810471</td>\n",
              "      <td>0.684002</td>\n",
              "      <td>0.189679</td>\n",
              "      <td>0.812407</td>\n",
              "      <td>0.825319</td>\n",
              "    </tr>\n",
              "    <tr>\n",
              "      <th>13</th>\n",
              "      <td>13</td>\n",
              "      <td>0.918969</td>\n",
              "      <td>0.829497</td>\n",
              "      <td>0.709397</td>\n",
              "      <td>0.170504</td>\n",
              "      <td>0.00010</td>\n",
              "      <td>0.826007</td>\n",
              "      <td>0.838134</td>\n",
              "      <td>0.913077</td>\n",
              "      <td>0.809343</td>\n",
              "      <td>0.682433</td>\n",
              "      <td>0.190775</td>\n",
              "      <td>0.806323</td>\n",
              "      <td>0.829072</td>\n",
              "    </tr>\n",
              "    <tr>\n",
              "      <th>14</th>\n",
              "      <td>14</td>\n",
              "      <td>0.919523</td>\n",
              "      <td>0.831869</td>\n",
              "      <td>0.712844</td>\n",
              "      <td>0.168130</td>\n",
              "      <td>0.00010</td>\n",
              "      <td>0.828681</td>\n",
              "      <td>0.839927</td>\n",
              "      <td>0.916319</td>\n",
              "      <td>0.811604</td>\n",
              "      <td>0.685613</td>\n",
              "      <td>0.188512</td>\n",
              "      <td>0.803942</td>\n",
              "      <td>0.836366</td>\n",
              "    </tr>\n",
              "    <tr>\n",
              "      <th>15</th>\n",
              "      <td>15</td>\n",
              "      <td>0.920523</td>\n",
              "      <td>0.834387</td>\n",
              "      <td>0.716510</td>\n",
              "      <td>0.165613</td>\n",
              "      <td>0.00010</td>\n",
              "      <td>0.831293</td>\n",
              "      <td>0.842160</td>\n",
              "      <td>0.916371</td>\n",
              "      <td>0.810257</td>\n",
              "      <td>0.683736</td>\n",
              "      <td>0.189875</td>\n",
              "      <td>0.800233</td>\n",
              "      <td>0.837385</td>\n",
              "    </tr>\n",
              "    <tr>\n",
              "      <th>16</th>\n",
              "      <td>16</td>\n",
              "      <td>0.921724</td>\n",
              "      <td>0.837039</td>\n",
              "      <td>0.720402</td>\n",
              "      <td>0.162961</td>\n",
              "      <td>0.00010</td>\n",
              "      <td>0.834102</td>\n",
              "      <td>0.844417</td>\n",
              "      <td>0.909420</td>\n",
              "      <td>0.809978</td>\n",
              "      <td>0.683197</td>\n",
              "      <td>0.190121</td>\n",
              "      <td>0.814338</td>\n",
              "      <td>0.821860</td>\n",
              "    </tr>\n",
              "    <tr>\n",
              "      <th>17</th>\n",
              "      <td>17</td>\n",
              "      <td>0.922549</td>\n",
              "      <td>0.839967</td>\n",
              "      <td>0.724707</td>\n",
              "      <td>0.160032</td>\n",
              "      <td>0.00010</td>\n",
              "      <td>0.837457</td>\n",
              "      <td>0.846584</td>\n",
              "      <td>0.913859</td>\n",
              "      <td>0.809944</td>\n",
              "      <td>0.683159</td>\n",
              "      <td>0.190155</td>\n",
              "      <td>0.803418</td>\n",
              "      <td>0.833010</td>\n",
              "    </tr>\n",
              "    <tr>\n",
              "      <th>18</th>\n",
              "      <td>18</td>\n",
              "      <td>0.923856</td>\n",
              "      <td>0.843670</td>\n",
              "      <td>0.730195</td>\n",
              "      <td>0.156330</td>\n",
              "      <td>0.00010</td>\n",
              "      <td>0.841559</td>\n",
              "      <td>0.849523</td>\n",
              "      <td>0.911099</td>\n",
              "      <td>0.808846</td>\n",
              "      <td>0.681629</td>\n",
              "      <td>0.191273</td>\n",
              "      <td>0.807503</td>\n",
              "      <td>0.827122</td>\n",
              "    </tr>\n",
              "    <tr>\n",
              "      <th>19</th>\n",
              "      <td>19</td>\n",
              "      <td>0.925415</td>\n",
              "      <td>0.847660</td>\n",
              "      <td>0.736150</td>\n",
              "      <td>0.152340</td>\n",
              "      <td>0.00010</td>\n",
              "      <td>0.846008</td>\n",
              "      <td>0.852699</td>\n",
              "      <td>0.905138</td>\n",
              "      <td>0.806865</td>\n",
              "      <td>0.678714</td>\n",
              "      <td>0.193208</td>\n",
              "      <td>0.816360</td>\n",
              "      <td>0.814360</td>\n",
              "    </tr>\n",
              "    <tr>\n",
              "      <th>20</th>\n",
              "      <td>20</td>\n",
              "      <td>0.928825</td>\n",
              "      <td>0.855552</td>\n",
              "      <td>0.748084</td>\n",
              "      <td>0.144448</td>\n",
              "      <td>0.00001</td>\n",
              "      <td>0.855054</td>\n",
              "      <td>0.859154</td>\n",
              "      <td>0.901106</td>\n",
              "      <td>0.807628</td>\n",
              "      <td>0.679512</td>\n",
              "      <td>0.192424</td>\n",
              "      <td>0.826467</td>\n",
              "      <td>0.804633</td>\n",
              "    </tr>\n",
              "    <tr>\n",
              "      <th>21</th>\n",
              "      <td>21</td>\n",
              "      <td>0.930767</td>\n",
              "      <td>0.860371</td>\n",
              "      <td>0.755432</td>\n",
              "      <td>0.139629</td>\n",
              "      <td>0.00001</td>\n",
              "      <td>0.860748</td>\n",
              "      <td>0.862662</td>\n",
              "      <td>0.900257</td>\n",
              "      <td>0.806819</td>\n",
              "      <td>0.678366</td>\n",
              "      <td>0.193234</td>\n",
              "      <td>0.826536</td>\n",
              "      <td>0.803091</td>\n",
              "    </tr>\n",
              "    <tr>\n",
              "      <th>22</th>\n",
              "      <td>22</td>\n",
              "      <td>0.931992</td>\n",
              "      <td>0.863551</td>\n",
              "      <td>0.760319</td>\n",
              "      <td>0.136449</td>\n",
              "      <td>0.00001</td>\n",
              "      <td>0.864433</td>\n",
              "      <td>0.865063</td>\n",
              "      <td>0.899269</td>\n",
              "      <td>0.805760</td>\n",
              "      <td>0.676864</td>\n",
              "      <td>0.194292</td>\n",
              "      <td>0.826384</td>\n",
              "      <td>0.801134</td>\n",
              "    </tr>\n",
              "    <tr>\n",
              "      <th>23</th>\n",
              "      <td>23</td>\n",
              "      <td>0.933037</td>\n",
              "      <td>0.866262</td>\n",
              "      <td>0.764508</td>\n",
              "      <td>0.133738</td>\n",
              "      <td>0.00001</td>\n",
              "      <td>0.867534</td>\n",
              "      <td>0.867138</td>\n",
              "      <td>0.899325</td>\n",
              "      <td>0.805614</td>\n",
              "      <td>0.676664</td>\n",
              "      <td>0.194435</td>\n",
              "      <td>0.825745</td>\n",
              "      <td>0.801494</td>\n",
              "    </tr>\n",
              "    <tr>\n",
              "      <th>24</th>\n",
              "      <td>24</td>\n",
              "      <td>0.933903</td>\n",
              "      <td>0.868715</td>\n",
              "      <td>0.768322</td>\n",
              "      <td>0.131285</td>\n",
              "      <td>0.00001</td>\n",
              "      <td>0.870527</td>\n",
              "      <td>0.868849</td>\n",
              "      <td>0.898303</td>\n",
              "      <td>0.804428</td>\n",
              "      <td>0.675000</td>\n",
              "      <td>0.195615</td>\n",
              "      <td>0.825405</td>\n",
              "      <td>0.799565</td>\n",
              "    </tr>\n",
              "  </tbody>\n",
              "</table>\n",
              "</div>\n",
              "      <button class=\"colab-df-convert\" onclick=\"convertToInteractive('df-1c95e046-ba58-47ac-ba7d-fbc67fb8f071')\"\n",
              "              title=\"Convert this dataframe to an interactive table.\"\n",
              "              style=\"display:none;\">\n",
              "        \n",
              "  <svg xmlns=\"http://www.w3.org/2000/svg\" height=\"24px\"viewBox=\"0 0 24 24\"\n",
              "       width=\"24px\">\n",
              "    <path d=\"M0 0h24v24H0V0z\" fill=\"none\"/>\n",
              "    <path d=\"M18.56 5.44l.94 2.06.94-2.06 2.06-.94-2.06-.94-.94-2.06-.94 2.06-2.06.94zm-11 1L8.5 8.5l.94-2.06 2.06-.94-2.06-.94L8.5 2.5l-.94 2.06-2.06.94zm10 10l.94 2.06.94-2.06 2.06-.94-2.06-.94-.94-2.06-.94 2.06-2.06.94z\"/><path d=\"M17.41 7.96l-1.37-1.37c-.4-.4-.92-.59-1.43-.59-.52 0-1.04.2-1.43.59L10.3 9.45l-7.72 7.72c-.78.78-.78 2.05 0 2.83L4 21.41c.39.39.9.59 1.41.59.51 0 1.02-.2 1.41-.59l7.78-7.78 2.81-2.81c.8-.78.8-2.07 0-2.86zM5.41 20L4 18.59l7.72-7.72 1.47 1.35L5.41 20z\"/>\n",
              "  </svg>\n",
              "      </button>\n",
              "      \n",
              "  <style>\n",
              "    .colab-df-container {\n",
              "      display:flex;\n",
              "      flex-wrap:wrap;\n",
              "      gap: 12px;\n",
              "    }\n",
              "\n",
              "    .colab-df-convert {\n",
              "      background-color: #E8F0FE;\n",
              "      border: none;\n",
              "      border-radius: 50%;\n",
              "      cursor: pointer;\n",
              "      display: none;\n",
              "      fill: #1967D2;\n",
              "      height: 32px;\n",
              "      padding: 0 0 0 0;\n",
              "      width: 32px;\n",
              "    }\n",
              "\n",
              "    .colab-df-convert:hover {\n",
              "      background-color: #E2EBFA;\n",
              "      box-shadow: 0px 1px 2px rgba(60, 64, 67, 0.3), 0px 1px 3px 1px rgba(60, 64, 67, 0.15);\n",
              "      fill: #174EA6;\n",
              "    }\n",
              "\n",
              "    [theme=dark] .colab-df-convert {\n",
              "      background-color: #3B4455;\n",
              "      fill: #D2E3FC;\n",
              "    }\n",
              "\n",
              "    [theme=dark] .colab-df-convert:hover {\n",
              "      background-color: #434B5C;\n",
              "      box-shadow: 0px 1px 3px 1px rgba(0, 0, 0, 0.15);\n",
              "      filter: drop-shadow(0px 1px 2px rgba(0, 0, 0, 0.3));\n",
              "      fill: #FFFFFF;\n",
              "    }\n",
              "  </style>\n",
              "\n",
              "      <script>\n",
              "        const buttonEl =\n",
              "          document.querySelector('#df-1c95e046-ba58-47ac-ba7d-fbc67fb8f071 button.colab-df-convert');\n",
              "        buttonEl.style.display =\n",
              "          google.colab.kernel.accessAllowed ? 'block' : 'none';\n",
              "\n",
              "        async function convertToInteractive(key) {\n",
              "          const element = document.querySelector('#df-1c95e046-ba58-47ac-ba7d-fbc67fb8f071');\n",
              "          const dataTable =\n",
              "            await google.colab.kernel.invokeFunction('convertToInteractive',\n",
              "                                                     [key], {});\n",
              "          if (!dataTable) return;\n",
              "\n",
              "          const docLinkHtml = 'Like what you see? Visit the ' +\n",
              "            '<a target=\"_blank\" href=https://colab.research.google.com/notebooks/data_table.ipynb>data table notebook</a>'\n",
              "            + ' to learn more about interactive tables.';\n",
              "          element.innerHTML = '';\n",
              "          dataTable['output_type'] = 'display_data';\n",
              "          await google.colab.output.renderOutput(dataTable, element);\n",
              "          const docLink = document.createElement('div');\n",
              "          docLink.innerHTML = docLinkHtml;\n",
              "          element.appendChild(docLink);\n",
              "        }\n",
              "      </script>\n",
              "    </div>\n",
              "  </div>\n",
              "  "
            ],
            "text/plain": [
              "    epoch       auc  dice_coef  ...  val_loss  val_precision  val_recall\n",
              "0       0  0.932098   0.643424  ...  0.263271       0.775385    0.821211\n",
              "1       1  0.939542   0.773744  ...  0.211199       0.814901    0.810783\n",
              "2       2  0.928829   0.794750  ...  0.200908       0.822751    0.806280\n",
              "3       3  0.922771   0.804318  ...  0.197201       0.796494    0.833909\n",
              "4       4  0.919928   0.809407  ...  0.193288       0.814491    0.819646\n",
              "5       5  0.918543   0.812797  ...  0.190443       0.807130    0.831088\n",
              "6       6  0.917775   0.815634  ...  0.200168       0.793176    0.827143\n",
              "7       7  0.917345   0.817483  ...  0.193067       0.799559    0.834120\n",
              "8       8  0.917332   0.819746  ...  0.195307       0.817071    0.812373\n",
              "9       9  0.917441   0.821708  ...  0.191450       0.800745    0.834921\n",
              "10     10  0.917724   0.823995  ...  0.189395       0.813127    0.825436\n",
              "11     11  0.917326   0.824379  ...  0.197285       0.789452    0.835647\n",
              "12     12  0.918300   0.827353  ...  0.189679       0.812407    0.825319\n",
              "13     13  0.918969   0.829497  ...  0.190775       0.806323    0.829072\n",
              "14     14  0.919523   0.831869  ...  0.188512       0.803942    0.836366\n",
              "15     15  0.920523   0.834387  ...  0.189875       0.800233    0.837385\n",
              "16     16  0.921724   0.837039  ...  0.190121       0.814338    0.821860\n",
              "17     17  0.922549   0.839967  ...  0.190155       0.803418    0.833010\n",
              "18     18  0.923856   0.843670  ...  0.191273       0.807503    0.827122\n",
              "19     19  0.925415   0.847660  ...  0.193208       0.816360    0.814360\n",
              "20     20  0.928825   0.855552  ...  0.192424       0.826467    0.804633\n",
              "21     21  0.930767   0.860371  ...  0.193234       0.826536    0.803091\n",
              "22     22  0.931992   0.863551  ...  0.194292       0.826384    0.801134\n",
              "23     23  0.933037   0.866262  ...  0.194435       0.825745    0.801494\n",
              "24     24  0.933903   0.868715  ...  0.195615       0.825405    0.799565\n",
              "\n",
              "[25 rows x 14 columns]"
            ]
          },
          "metadata": {},
          "execution_count": 68
        }
      ]
    },
    {
      "cell_type": "code",
      "source": [
        "results_path"
      ],
      "metadata": {
        "id": "braGlLM9Wgr9",
        "colab": {
          "base_uri": "https://localhost:8080/",
          "height": 35
        },
        "outputId": "70e12e5e-4f5c-4eeb-c2fb-312da4e43e7a"
      },
      "execution_count": null,
      "outputs": [
        {
          "output_type": "execute_result",
          "data": {
            "application/vnd.google.colaboratory.intrinsic+json": {
              "type": "string"
            },
            "text/plain": [
              "'/content/datasets/hrf_256_256_dice_loss_hvr_2//results/'"
            ]
          },
          "metadata": {},
          "execution_count": 69
        }
      ]
    },
    {
      "cell_type": "code",
      "source": [
        "!zip -r hrf_256_256_dice_loss_hvr_2.zip  hrf_256_256_dice_loss_hvr_2/"
      ],
      "metadata": {
        "id": "tGxzllboKasD",
        "colab": {
          "base_uri": "https://localhost:8080/"
        },
        "outputId": "b7ba5f01-8cdc-41b5-c120-bfc10ff161bf"
      },
      "execution_count": null,
      "outputs": [
        {
          "output_type": "stream",
          "name": "stdout",
          "text": [
            "\u001b[1;30;43mStreaming output truncated to the last 5000 lines.\u001b[0m\n",
            "  adding: hrf_256_256_dice_loss_hvr_2/split_2/train/mask/_11_h_1_5.png (deflated 32%)\n",
            "  adding: hrf_256_256_dice_loss_hvr_2/split_2/train/mask/_13_h_1_109.png (deflated 25%)\n",
            "  adding: hrf_256_256_dice_loss_hvr_2/split_2/train/mask/_07_g_0_79.png (deflated 24%)\n",
            "  adding: hrf_256_256_dice_loss_hvr_2/split_2/train/mask/_14_g_3_78.png (deflated 23%)\n",
            "  adding: hrf_256_256_dice_loss_hvr_2/split_2/train/mask/_10_dr_3_46.png (deflated 26%)\n",
            "  adding: hrf_256_256_dice_loss_hvr_2/split_2/train/mask/_01_dr_1_34.png (deflated 23%)\n",
            "  adding: hrf_256_256_dice_loss_hvr_2/split_2/train/mask/_12_g_3_38.png (deflated 23%)\n",
            "  adding: hrf_256_256_dice_loss_hvr_2/split_2/train/mask/_06_dr_0_14.png (deflated 85%)\n",
            "  adding: hrf_256_256_dice_loss_hvr_2/split_2/train/mask/_12_dr_0_53.png (deflated 27%)\n",
            "  adding: hrf_256_256_dice_loss_hvr_2/split_2/train/mask/_14_h_1_13.png (deflated 85%)\n",
            "  adding: hrf_256_256_dice_loss_hvr_2/split_2/train/mask/_03_h_2_36.png (deflated 27%)\n",
            "  adding: hrf_256_256_dice_loss_hvr_2/split_2/train/mask/_05_h_1_89.png (deflated 27%)\n",
            "  adding: hrf_256_256_dice_loss_hvr_2/split_2/train/mask/_02_h_3_115.png (deflated 27%)\n",
            "  adding: hrf_256_256_dice_loss_hvr_2/split_2/train/mask/_10_g_1_65.png (deflated 28%)\n",
            "  adding: hrf_256_256_dice_loss_hvr_2/split_2/train/mask/_03_dr_3_81.png (deflated 37%)\n",
            "  adding: hrf_256_256_dice_loss_hvr_2/split_2/train/mask/_11_h_2_53.png (deflated 20%)\n",
            "  adding: hrf_256_256_dice_loss_hvr_2/split_2/train/mask/_13_g_2_116.png (deflated 28%)\n",
            "  adding: hrf_256_256_dice_loss_hvr_2/split_2/train/mask/_07_h_3_69.png (deflated 27%)\n",
            "  adding: hrf_256_256_dice_loss_hvr_2/split_2/train/mask/_04_h_2_131.png (deflated 29%)\n",
            "  adding: hrf_256_256_dice_loss_hvr_2/split_2/train/mask/_05_h_3_52.png (deflated 21%)\n",
            "  adding: hrf_256_256_dice_loss_hvr_2/split_2/train/mask/_12_g_2_46.png (deflated 24%)\n",
            "  adding: hrf_256_256_dice_loss_hvr_2/split_2/train/mask/_15_dr_3_121.png (deflated 46%)\n",
            "  adding: hrf_256_256_dice_loss_hvr_2/split_2/train/mask/_02_h_0_139.png (deflated 85%)\n",
            "  adding: hrf_256_256_dice_loss_hvr_2/split_2/train/mask/_14_dr_3_77.png (deflated 41%)\n",
            "  adding: hrf_256_256_dice_loss_hvr_2/split_2/train/mask/_14_dr_0_139.png (deflated 85%)\n",
            "  adding: hrf_256_256_dice_loss_hvr_2/split_2/train/mask/_14_h_1_137.png (deflated 62%)\n",
            "  adding: hrf_256_256_dice_loss_hvr_2/split_2/train/mask/_12_g_2_133.png (deflated 37%)\n",
            "  adding: hrf_256_256_dice_loss_hvr_2/split_2/train/mask/_11_g_2_133.png (deflated 33%)\n",
            "  adding: hrf_256_256_dice_loss_hvr_2/split_2/train/mask/_05_h_2_69.png (deflated 51%)\n",
            "  adding: hrf_256_256_dice_loss_hvr_2/split_2/train/mask/_10_dr_1_99.png (deflated 24%)\n",
            "  adding: hrf_256_256_dice_loss_hvr_2/split_2/train/mask/_09_g_2_126.png (deflated 85%)\n",
            "  adding: hrf_256_256_dice_loss_hvr_2/split_2/train/mask/_09_g_2_41.png (deflated 85%)\n",
            "  adding: hrf_256_256_dice_loss_hvr_2/split_2/train/mask/_03_h_1_18.png (deflated 24%)\n",
            "  adding: hrf_256_256_dice_loss_hvr_2/split_2/train/mask/_07_g_0_52.png (deflated 21%)\n",
            "  adding: hrf_256_256_dice_loss_hvr_2/split_2/train/mask/_12_dr_0_45.png (deflated 23%)\n",
            "  adding: hrf_256_256_dice_loss_hvr_2/split_2/train/mask/_03_dr_2_80.png (deflated 24%)\n",
            "  adding: hrf_256_256_dice_loss_hvr_2/split_2/train/mask/_10_dr_3_57.png (deflated 20%)\n",
            "  adding: hrf_256_256_dice_loss_hvr_2/split_2/train/mask/_01_g_2_23.png (deflated 27%)\n",
            "  adding: hrf_256_256_dice_loss_hvr_2/split_2/train/mask/_03_dr_2_82.png (deflated 43%)\n",
            "  adding: hrf_256_256_dice_loss_hvr_2/split_2/train/mask/_08_h_1_14.png (deflated 85%)\n",
            "  adding: hrf_256_256_dice_loss_hvr_2/split_2/train/mask/_12_g_3_50.png (deflated 21%)\n",
            "  adding: hrf_256_256_dice_loss_hvr_2/split_2/train/mask/_01_dr_0_16.png (deflated 34%)\n",
            "  adding: hrf_256_256_dice_loss_hvr_2/split_2/train/mask/_02_h_3_35.png (deflated 22%)\n",
            "  adding: hrf_256_256_dice_loss_hvr_2/split_2/train/mask/_07_g_1_121.png (deflated 28%)\n",
            "  adding: hrf_256_256_dice_loss_hvr_2/split_2/train/mask/_02_h_1_66.png (deflated 21%)\n",
            "  adding: hrf_256_256_dice_loss_hvr_2/split_2/train/mask/_09_g_2_131.png (deflated 35%)\n",
            "  adding: hrf_256_256_dice_loss_hvr_2/split_2/train/mask/_07_h_2_110.png (deflated 26%)\n",
            "  adding: hrf_256_256_dice_loss_hvr_2/split_2/train/mask/_14_dr_0_57.png (deflated 20%)\n",
            "  adding: hrf_256_256_dice_loss_hvr_2/split_2/train/mask/_10_g_1_49.png (deflated 20%)\n",
            "  adding: hrf_256_256_dice_loss_hvr_2/split_2/train/mask/_03_h_0_75.png (deflated 32%)\n",
            "  adding: hrf_256_256_dice_loss_hvr_2/split_2/train/mask/_03_dr_3_103.png (deflated 15%)\n",
            "  adding: hrf_256_256_dice_loss_hvr_2/split_2/train/mask/_11_g_0_13.png (deflated 85%)\n",
            "  adding: hrf_256_256_dice_loss_hvr_2/split_2/train/mask/_02_dr_2_62.png (deflated 30%)\n",
            "  adding: hrf_256_256_dice_loss_hvr_2/split_2/train/mask/_15_dr_1_75.png (deflated 20%)\n",
            "  adding: hrf_256_256_dice_loss_hvr_2/split_2/train/mask/_04_h_0_44.png (deflated 16%)\n",
            "  adding: hrf_256_256_dice_loss_hvr_2/split_2/train/mask/_06_dr_2_4.png (deflated 32%)\n",
            "  adding: hrf_256_256_dice_loss_hvr_2/split_2/train/mask/_10_dr_2_44.png (deflated 18%)\n",
            "  adding: hrf_256_256_dice_loss_hvr_2/split_2/train/mask/_06_dr_0_98.png (deflated 85%)\n",
            "  adding: hrf_256_256_dice_loss_hvr_2/split_2/train/mask/_02_h_1_46.png (deflated 24%)\n",
            "  adding: hrf_256_256_dice_loss_hvr_2/split_2/train/mask/_07_h_0_69.png (deflated 42%)\n",
            "  adding: hrf_256_256_dice_loss_hvr_2/split_2/train/mask/_15_dr_1_62.png (deflated 29%)\n",
            "  adding: hrf_256_256_dice_loss_hvr_2/split_2/train/mask/_02_h_0_26.png (deflated 41%)\n",
            "  adding: hrf_256_256_dice_loss_hvr_2/split_2/train/mask/_04_h_0_60.png (deflated 27%)\n",
            "  adding: hrf_256_256_dice_loss_hvr_2/split_2/train/mask/_11_h_1_104.png (deflated 10%)\n",
            "  adding: hrf_256_256_dice_loss_hvr_2/split_2/train/mask/_10_dr_2_40.png (deflated 27%)\n",
            "  adding: hrf_256_256_dice_loss_hvr_2/split_2/train/mask/_14_g_2_37.png (deflated 21%)\n",
            "  adding: hrf_256_256_dice_loss_hvr_2/split_2/train/mask/_12_dr_0_27.png (deflated 85%)\n",
            "  adding: hrf_256_256_dice_loss_hvr_2/split_2/train/mask/_04_g_3_41.png (deflated 75%)\n",
            "  adding: hrf_256_256_dice_loss_hvr_2/split_2/train/mask/_02_dr_0_98.png (deflated 85%)\n",
            "  adding: hrf_256_256_dice_loss_hvr_2/split_2/train/mask/_09_dr_0_138.png (deflated 85%)\n",
            "  adding: hrf_256_256_dice_loss_hvr_2/split_2/train/mask/_12_g_1_121.png (deflated 21%)\n",
            "  adding: hrf_256_256_dice_loss_hvr_2/split_2/train/mask/_10_dr_0_130.png (deflated 29%)\n",
            "  adding: hrf_256_256_dice_loss_hvr_2/split_2/train/mask/_12_g_2_28.png (deflated 85%)\n",
            "  adding: hrf_256_256_dice_loss_hvr_2/split_2/train/mask/_15_dr_0_130.png (deflated 24%)\n",
            "  adding: hrf_256_256_dice_loss_hvr_2/split_2/train/mask/_05_h_0_76.png (deflated 34%)\n",
            "  adding: hrf_256_256_dice_loss_hvr_2/split_2/train/mask/_03_h_2_136.png (deflated 33%)\n",
            "  adding: hrf_256_256_dice_loss_hvr_2/split_2/train/mask/_06_dr_1_104.png (deflated 23%)\n",
            "  adding: hrf_256_256_dice_loss_hvr_2/split_2/train/mask/_14_dr_2_37.png (deflated 30%)\n",
            "  adding: hrf_256_256_dice_loss_hvr_2/split_2/train/mask/_07_h_3_52.png (deflated 18%)\n",
            "  adding: hrf_256_256_dice_loss_hvr_2/split_2/train/mask/_03_h_2_63.png (deflated 32%)\n",
            "  adding: hrf_256_256_dice_loss_hvr_2/split_2/train/mask/_07_g_1_70.png (deflated 31%)\n",
            "  adding: hrf_256_256_dice_loss_hvr_2/split_2/train/mask/_14_g_3_88.png (deflated 21%)\n",
            "  adding: hrf_256_256_dice_loss_hvr_2/split_2/train/mask/_05_h_3_95.png (deflated 30%)\n",
            "  adding: hrf_256_256_dice_loss_hvr_2/split_2/train/mask/_07_g_0_63.png (deflated 32%)\n",
            "  adding: hrf_256_256_dice_loss_hvr_2/split_2/train/mask/_10_g_1_17.png (deflated 28%)\n",
            "  adding: hrf_256_256_dice_loss_hvr_2/split_2/train/mask/_14_dr_0_73.png (deflated 30%)\n",
            "  adding: hrf_256_256_dice_loss_hvr_2/split_2/train/mask/_05_h_0_122.png (deflated 32%)\n",
            "  adding: hrf_256_256_dice_loss_hvr_2/split_2/train/mask/_03_h_3_67.png (deflated 24%)\n",
            "  adding: hrf_256_256_dice_loss_hvr_2/split_2/train/mask/_11_h_3_31.png (deflated 22%)\n",
            "  adding: hrf_256_256_dice_loss_hvr_2/split_2/train/mask/_04_g_1_134.png (deflated 33%)\n",
            "  adding: hrf_256_256_dice_loss_hvr_2/split_2/train/mask/_02_h_3_13.png (deflated 85%)\n",
            "  adding: hrf_256_256_dice_loss_hvr_2/split_2/train/mask/_10_g_2_47.png (deflated 24%)\n",
            "  adding: hrf_256_256_dice_loss_hvr_2/split_2/train/mask/_01_g_0_90.png (deflated 32%)\n",
            "  adding: hrf_256_256_dice_loss_hvr_2/split_2/train/mask/_15_dr_2_30.png (deflated 28%)\n",
            "  adding: hrf_256_256_dice_loss_hvr_2/split_2/train/mask/_02_h_0_107.png (deflated 25%)\n",
            "  adding: hrf_256_256_dice_loss_hvr_2/split_2/train/mask/_04_g_0_88.png (deflated 25%)\n",
            "  adding: hrf_256_256_dice_loss_hvr_2/split_2/train/mask/_10_dr_3_47.png (deflated 28%)\n",
            "  adding: hrf_256_256_dice_loss_hvr_2/split_2/train/mask/_15_dr_2_139.png (deflated 85%)\n",
            "  adding: hrf_256_256_dice_loss_hvr_2/split_2/train/mask/_12_g_3_108.png (deflated 21%)\n",
            "  adding: hrf_256_256_dice_loss_hvr_2/split_2/train/mask/_01_dr_2_51.png (deflated 25%)\n",
            "  adding: hrf_256_256_dice_loss_hvr_2/split_2/train/mask/_03_h_3_70.png (deflated 23%)\n",
            "  adding: hrf_256_256_dice_loss_hvr_2/split_2/train/mask/_13_h_3_63.png (deflated 42%)\n",
            "  adding: hrf_256_256_dice_loss_hvr_2/split_2/train/mask/_11_h_0_54.png (deflated 25%)\n",
            "  adding: hrf_256_256_dice_loss_hvr_2/split_2/train/mask/_10_g_1_136.png (deflated 30%)\n",
            "  adding: hrf_256_256_dice_loss_hvr_2/split_2/train/mask/_06_dr_0_69.png (deflated 36%)\n",
            "  adding: hrf_256_256_dice_loss_hvr_2/split_2/train/mask/_12_dr_2_138.png (deflated 85%)\n",
            "  adding: hrf_256_256_dice_loss_hvr_2/split_2/train/mask/_04_g_1_0.png (deflated 85%)\n",
            "  adding: hrf_256_256_dice_loss_hvr_2/split_2/train/mask/_10_dr_1_113.png (deflated 40%)\n",
            "  adding: hrf_256_256_dice_loss_hvr_2/split_2/train/mask/_02_h_0_46.png (deflated 19%)\n",
            "  adding: hrf_256_256_dice_loss_hvr_2/split_2/train/mask/_12_g_1_65.png (deflated 17%)\n",
            "  adding: hrf_256_256_dice_loss_hvr_2/split_2/train/mask/_15_dr_1_3.png (deflated 32%)\n",
            "  adding: hrf_256_256_dice_loss_hvr_2/split_2/train/mask/_10_dr_2_13.png (deflated 85%)\n",
            "  adding: hrf_256_256_dice_loss_hvr_2/split_2/train/mask/_04_h_1_5.png (deflated 28%)\n",
            "  adding: hrf_256_256_dice_loss_hvr_2/split_2/train/mask/_11_g_1_122.png (deflated 27%)\n",
            "  adding: hrf_256_256_dice_loss_hvr_2/split_2/train/mask/_04_h_3_129.png (deflated 30%)\n",
            "  adding: hrf_256_256_dice_loss_hvr_2/split_2/train/mask/_12_dr_0_107.png (deflated 24%)\n",
            "  adding: hrf_256_256_dice_loss_hvr_2/split_2/train/mask/_01_g_1_82.png (deflated 40%)\n",
            "  adding: hrf_256_256_dice_loss_hvr_2/split_2/train/mask/_01_g_3_58.png (deflated 20%)\n",
            "  adding: hrf_256_256_dice_loss_hvr_2/split_2/train/mask/_14_h_1_121.png (deflated 27%)\n",
            "  adding: hrf_256_256_dice_loss_hvr_2/split_2/train/mask/_07_h_1_51.png (deflated 22%)\n",
            "  adding: hrf_256_256_dice_loss_hvr_2/split_2/train/mask/_10_dr_3_26.png (deflated 45%)\n",
            "  adding: hrf_256_256_dice_loss_hvr_2/split_2/train/mask/_07_g_0_103.png (deflated 19%)\n",
            "  adding: hrf_256_256_dice_loss_hvr_2/split_2/train/mask/_15_dr_3_105.png (deflated 21%)\n",
            "  adding: hrf_256_256_dice_loss_hvr_2/split_2/train/mask/_14_dr_2_114.png (deflated 30%)\n",
            "  adding: hrf_256_256_dice_loss_hvr_2/split_2/train/mask/_14_dr_1_41.png (deflated 85%)\n",
            "  adding: hrf_256_256_dice_loss_hvr_2/split_2/train/mask/_11_h_1_112.png (deflated 85%)\n",
            "  adding: hrf_256_256_dice_loss_hvr_2/split_2/train/mask/_12_g_1_3.png (deflated 34%)\n",
            "  adding: hrf_256_256_dice_loss_hvr_2/split_2/train/mask/_04_h_3_133.png (deflated 25%)\n",
            "  adding: hrf_256_256_dice_loss_hvr_2/split_2/train/mask/_05_h_2_116.png (deflated 14%)\n",
            "  adding: hrf_256_256_dice_loss_hvr_2/split_2/train/mask/_14_dr_0_15.png (deflated 28%)\n",
            "  adding: hrf_256_256_dice_loss_hvr_2/split_2/train/mask/_10_g_0_1.png (deflated 85%)\n",
            "  adding: hrf_256_256_dice_loss_hvr_2/split_2/train/mask/_11_h_2_101.png (deflated 13%)\n",
            "  adding: hrf_256_256_dice_loss_hvr_2/split_2/train/mask/_14_g_2_125.png (deflated 85%)\n",
            "  adding: hrf_256_256_dice_loss_hvr_2/split_2/train/mask/_03_dr_0_132.png (deflated 32%)\n",
            "  adding: hrf_256_256_dice_loss_hvr_2/split_2/train/mask/_08_h_3_117.png (deflated 22%)\n",
            "  adding: hrf_256_256_dice_loss_hvr_2/split_2/train/mask/_14_h_0_55.png (deflated 85%)\n",
            "  adding: hrf_256_256_dice_loss_hvr_2/split_2/train/mask/_14_h_2_107.png (deflated 20%)\n",
            "  adding: hrf_256_256_dice_loss_hvr_2/split_2/train/mask/_01_g_1_11.png (deflated 34%)\n",
            "  adding: hrf_256_256_dice_loss_hvr_2/split_2/train/mask/_09_dr_3_7.png (deflated 32%)\n",
            "  adding: hrf_256_256_dice_loss_hvr_2/split_2/train/mask/_09_dr_0_24.png (deflated 34%)\n",
            "  adding: hrf_256_256_dice_loss_hvr_2/split_2/train/mask/_09_g_0_92.png (deflated 23%)\n",
            "  adding: hrf_256_256_dice_loss_hvr_2/split_2/train/mask/_15_dr_1_109.png (deflated 30%)\n",
            "  adding: hrf_256_256_dice_loss_hvr_2/split_2/train/mask/_12_dr_1_19.png (deflated 16%)\n",
            "  adding: hrf_256_256_dice_loss_hvr_2/split_2/train/mask/_06_dr_2_36.png (deflated 18%)\n",
            "  adding: hrf_256_256_dice_loss_hvr_2/split_2/train/mask/_08_h_3_53.png (deflated 14%)\n",
            "  adding: hrf_256_256_dice_loss_hvr_2/split_2/train/mask/_05_h_2_16.png (deflated 53%)\n",
            "  adding: hrf_256_256_dice_loss_hvr_2/split_2/train/mask/_07_h_2_89.png (deflated 20%)\n",
            "  adding: hrf_256_256_dice_loss_hvr_2/split_2/train/mask/_13_g_3_75.png (deflated 29%)\n",
            "  adding: hrf_256_256_dice_loss_hvr_2/split_2/train/mask/_04_g_0_78.png (deflated 32%)\n",
            "  adding: hrf_256_256_dice_loss_hvr_2/split_2/train/mask/_01_g_2_139.png (deflated 85%)\n",
            "  adding: hrf_256_256_dice_loss_hvr_2/split_2/train/mask/_15_dr_1_107.png (deflated 31%)\n",
            "  adding: hrf_256_256_dice_loss_hvr_2/split_2/train/mask/_14_h_0_123.png (deflated 32%)\n",
            "  adding: hrf_256_256_dice_loss_hvr_2/split_2/train/mask/_14_dr_2_20.png (deflated 36%)\n",
            "  adding: hrf_256_256_dice_loss_hvr_2/split_2/train/mask/_10_dr_3_35.png (deflated 21%)\n",
            "  adding: hrf_256_256_dice_loss_hvr_2/split_2/train/mask/_11_h_2_18.png (deflated 27%)\n",
            "  adding: hrf_256_256_dice_loss_hvr_2/split_2/train/mask/_12_g_3_101.png (deflated 19%)\n",
            "  adding: hrf_256_256_dice_loss_hvr_2/split_2/train/mask/_12_dr_2_52.png (deflated 28%)\n",
            "  adding: hrf_256_256_dice_loss_hvr_2/split_2/train/mask/_01_g_2_118.png (deflated 18%)\n",
            "  adding: hrf_256_256_dice_loss_hvr_2/split_2/train/mask/_15_dr_1_52.png (deflated 28%)\n",
            "  adding: hrf_256_256_dice_loss_hvr_2/split_2/train/mask/_09_g_3_54.png (deflated 23%)\n",
            "  adding: hrf_256_256_dice_loss_hvr_2/split_2/train/mask/_14_h_0_78.png (deflated 33%)\n",
            "  adding: hrf_256_256_dice_loss_hvr_2/split_2/train/mask/_03_dr_0_94.png (deflated 28%)\n",
            "  adding: hrf_256_256_dice_loss_hvr_2/split_2/train/mask/_14_h_3_66.png (deflated 19%)\n",
            "  adding: hrf_256_256_dice_loss_hvr_2/split_2/train/mask/_09_g_1_47.png (deflated 24%)\n",
            "  adding: hrf_256_256_dice_loss_hvr_2/split_2/train/mask/_15_dr_0_16.png (deflated 35%)\n",
            "  adding: hrf_256_256_dice_loss_hvr_2/split_2/train/mask/_06_dr_2_63.png (deflated 85%)\n",
            "  adding: hrf_256_256_dice_loss_hvr_2/split_2/train/mask/_14_g_1_104.png (deflated 20%)\n",
            "  adding: hrf_256_256_dice_loss_hvr_2/split_2/train/mask/_03_h_1_40.png (deflated 31%)\n",
            "  adding: hrf_256_256_dice_loss_hvr_2/split_2/train/mask/_01_g_2_122.png (deflated 28%)\n",
            "  adding: hrf_256_256_dice_loss_hvr_2/split_2/train/mask/_13_h_2_38.png (deflated 32%)\n",
            "  adding: hrf_256_256_dice_loss_hvr_2/split_2/train/mask/_12_dr_0_137.png (deflated 53%)\n",
            "  adding: hrf_256_256_dice_loss_hvr_2/split_2/train/mask/_14_h_3_103.png (deflated 13%)\n",
            "  adding: hrf_256_256_dice_loss_hvr_2/split_2/train/mask/_03_dr_0_28.png (deflated 85%)\n",
            "  adding: hrf_256_256_dice_loss_hvr_2/split_2/train/mask/_08_h_0_1.png (deflated 85%)\n",
            "  adding: hrf_256_256_dice_loss_hvr_2/split_2/train/mask/_02_dr_1_88.png (deflated 14%)\n",
            "  adding: hrf_256_256_dice_loss_hvr_2/split_2/train/mask/_03_dr_3_138.png (deflated 35%)\n",
            "  adding: hrf_256_256_dice_loss_hvr_2/split_2/train/mask/_11_g_3_12.png (deflated 60%)\n",
            "  adding: hrf_256_256_dice_loss_hvr_2/split_2/train/mask/_12_g_2_44.png (deflated 21%)\n",
            "  adding: hrf_256_256_dice_loss_hvr_2/split_2/train/mask/_01_g_1_126.png (deflated 85%)\n",
            "  adding: hrf_256_256_dice_loss_hvr_2/split_2/train/mask/_02_dr_0_116.png (deflated 26%)\n",
            "  adding: hrf_256_256_dice_loss_hvr_2/split_2/train/mask/_10_dr_3_43.png (deflated 22%)\n",
            "  adding: hrf_256_256_dice_loss_hvr_2/split_2/train/mask/_02_dr_2_27.png (deflated 85%)\n",
            "  adding: hrf_256_256_dice_loss_hvr_2/split_2/train/mask/_07_g_3_94.png (deflated 27%)\n",
            "  adding: hrf_256_256_dice_loss_hvr_2/split_2/train/mask/_02_dr_2_104.png (deflated 18%)\n",
            "  adding: hrf_256_256_dice_loss_hvr_2/split_2/train/mask/_07_h_0_43.png (deflated 27%)\n",
            "  adding: hrf_256_256_dice_loss_hvr_2/split_2/train/mask/_04_h_0_32.png (deflated 25%)\n",
            "  adding: hrf_256_256_dice_loss_hvr_2/split_2/train/mask/_13_h_3_18.png (deflated 25%)\n",
            "  adding: hrf_256_256_dice_loss_hvr_2/split_2/train/mask/_01_dr_1_13.png (deflated 85%)\n",
            "  adding: hrf_256_256_dice_loss_hvr_2/split_2/train/mask/_13_g_0_19.png (deflated 25%)\n",
            "  adding: hrf_256_256_dice_loss_hvr_2/split_2/train/mask/_15_dr_0_23.png (deflated 26%)\n",
            "  adding: hrf_256_256_dice_loss_hvr_2/split_2/train/mask/_14_dr_2_44.png (deflated 19%)\n",
            "  adding: hrf_256_256_dice_loss_hvr_2/split_2/train/mask/_10_dr_2_65.png (deflated 29%)\n",
            "  adding: hrf_256_256_dice_loss_hvr_2/split_2/train/mask/_09_g_3_125.png (deflated 58%)\n",
            "  adding: hrf_256_256_dice_loss_hvr_2/split_2/train/mask/_07_g_0_127.png (deflated 85%)\n",
            "  adding: hrf_256_256_dice_loss_hvr_2/split_2/train/mask/_10_g_3_117.png (deflated 17%)\n",
            "  adding: hrf_256_256_dice_loss_hvr_2/split_2/train/mask/_05_h_0_39.png (deflated 29%)\n",
            "  adding: hrf_256_256_dice_loss_hvr_2/split_2/train/mask/_10_dr_0_13.png (deflated 85%)\n",
            "  adding: hrf_256_256_dice_loss_hvr_2/split_2/train/mask/_02_dr_0_95.png (deflated 27%)\n",
            "  adding: hrf_256_256_dice_loss_hvr_2/split_2/train/mask/_10_g_1_138.png (deflated 85%)\n",
            "  adding: hrf_256_256_dice_loss_hvr_2/split_2/train/mask/_02_h_2_27.png (deflated 85%)\n",
            "  adding: hrf_256_256_dice_loss_hvr_2/split_2/train/mask/_02_h_1_82.png (deflated 21%)\n",
            "  adding: hrf_256_256_dice_loss_hvr_2/split_2/train/mask/_05_h_3_91.png (deflated 26%)\n",
            "  adding: hrf_256_256_dice_loss_hvr_2/split_2/train/mask/_11_h_0_72.png (deflated 19%)\n",
            "  adding: hrf_256_256_dice_loss_hvr_2/split_2/train/mask/_09_dr_1_112.png (deflated 85%)\n",
            "  adding: hrf_256_256_dice_loss_hvr_2/split_2/train/mask/_07_g_1_105.png (deflated 23%)\n",
            "  adding: hrf_256_256_dice_loss_hvr_2/split_2/train/mask/_10_dr_2_64.png (deflated 25%)\n",
            "  adding: hrf_256_256_dice_loss_hvr_2/split_2/train/mask/_02_h_0_84.png (deflated 53%)\n",
            "  adding: hrf_256_256_dice_loss_hvr_2/split_2/train/mask/_09_dr_0_14.png (deflated 85%)\n",
            "  adding: hrf_256_256_dice_loss_hvr_2/split_2/train/mask/_04_g_0_50.png (deflated 23%)\n",
            "  adding: hrf_256_256_dice_loss_hvr_2/split_2/train/mask/_05_h_3_133.png (deflated 39%)\n",
            "  adding: hrf_256_256_dice_loss_hvr_2/split_2/train/mask/_13_h_0_24.png (deflated 23%)\n",
            "  adding: hrf_256_256_dice_loss_hvr_2/split_2/train/mask/_05_h_3_2.png (deflated 31%)\n",
            "  adding: hrf_256_256_dice_loss_hvr_2/split_2/train/mask/_01_g_2_47.png (deflated 26%)\n",
            "  adding: hrf_256_256_dice_loss_hvr_2/split_2/train/mask/_07_h_1_59.png (deflated 25%)\n",
            "  adding: hrf_256_256_dice_loss_hvr_2/split_2/train/mask/_07_h_3_56.png (deflated 77%)\n",
            "  adding: hrf_256_256_dice_loss_hvr_2/split_2/train/mask/_03_dr_0_135.png (deflated 59%)\n",
            "  adding: hrf_256_256_dice_loss_hvr_2/split_2/train/mask/_07_g_3_31.png (deflated 25%)\n",
            "  adding: hrf_256_256_dice_loss_hvr_2/split_2/train/mask/_03_dr_3_57.png (deflated 28%)\n",
            "  adding: hrf_256_256_dice_loss_hvr_2/split_2/train/mask/_04_g_0_99.png (deflated 35%)\n",
            "  adding: hrf_256_256_dice_loss_hvr_2/split_2/train/mask/_09_dr_3_65.png (deflated 21%)\n",
            "  adding: hrf_256_256_dice_loss_hvr_2/split_2/train/mask/_04_g_2_84.png (deflated 63%)\n",
            "  adding: hrf_256_256_dice_loss_hvr_2/split_2/train/mask/_05_h_0_53.png (deflated 31%)\n",
            "  adding: hrf_256_256_dice_loss_hvr_2/split_2/train/mask/_08_h_2_134.png (deflated 27%)\n",
            "  adding: hrf_256_256_dice_loss_hvr_2/split_2/train/mask/_10_g_0_59.png (deflated 25%)\n",
            "  adding: hrf_256_256_dice_loss_hvr_2/split_2/train/mask/_02_dr_3_22.png (deflated 24%)\n",
            "  adding: hrf_256_256_dice_loss_hvr_2/split_2/train/mask/_06_dr_1_18.png (deflated 21%)\n",
            "  adding: hrf_256_256_dice_loss_hvr_2/split_2/train/mask/_12_dr_2_67.png (deflated 27%)\n",
            "  adding: hrf_256_256_dice_loss_hvr_2/split_2/train/mask/_11_h_1_29.png (deflated 23%)\n",
            "  adding: hrf_256_256_dice_loss_hvr_2/split_2/train/mask/_14_h_0_105.png (deflated 19%)\n",
            "  adding: hrf_256_256_dice_loss_hvr_2/split_2/train/mask/_01_g_3_123.png (deflated 26%)\n",
            "  adding: hrf_256_256_dice_loss_hvr_2/split_2/train/mask/_10_g_2_17.png (deflated 20%)\n",
            "  adding: hrf_256_256_dice_loss_hvr_2/split_2/train/mask/_13_g_0_37.png (deflated 13%)\n",
            "  adding: hrf_256_256_dice_loss_hvr_2/split_2/train/mask/_06_dr_3_114.png (deflated 34%)\n",
            "  adding: hrf_256_256_dice_loss_hvr_2/split_2/train/mask/_02_dr_3_78.png (deflated 26%)\n",
            "  adding: hrf_256_256_dice_loss_hvr_2/split_2/train/mask/_11_g_2_66.png (deflated 24%)\n",
            "  adding: hrf_256_256_dice_loss_hvr_2/split_2/train/mask/_13_g_0_45.png (deflated 24%)\n",
            "  adding: hrf_256_256_dice_loss_hvr_2/split_2/train/mask/_11_g_2_68.png (deflated 15%)\n",
            "  adding: hrf_256_256_dice_loss_hvr_2/split_2/train/mask/_04_h_3_9.png (deflated 24%)\n",
            "  adding: hrf_256_256_dice_loss_hvr_2/split_2/train/mask/_08_h_3_25.png (deflated 24%)\n",
            "  adding: hrf_256_256_dice_loss_hvr_2/split_2/train/mask/_12_g_0_73.png (deflated 34%)\n",
            "  adding: hrf_256_256_dice_loss_hvr_2/split_2/train/mask/_13_g_2_115.png (deflated 21%)\n",
            "  adding: hrf_256_256_dice_loss_hvr_2/split_2/train/mask/_10_g_0_85.png (deflated 39%)\n",
            "  adding: hrf_256_256_dice_loss_hvr_2/split_2/train/mask/_12_dr_2_46.png (deflated 24%)\n",
            "  adding: hrf_256_256_dice_loss_hvr_2/split_2/train/mask/_01_dr_2_57.png (deflated 74%)\n",
            "  adding: hrf_256_256_dice_loss_hvr_2/split_2/train/mask/_12_dr_1_81.png (deflated 22%)\n",
            "  adding: hrf_256_256_dice_loss_hvr_2/split_2/train/mask/_13_g_3_128.png (deflated 53%)\n",
            "  adding: hrf_256_256_dice_loss_hvr_2/split_2/train/mask/_11_g_3_44.png (deflated 20%)\n",
            "  adding: hrf_256_256_dice_loss_hvr_2/split_2/train/mask/_13_h_0_28.png (deflated 85%)\n",
            "  adding: hrf_256_256_dice_loss_hvr_2/split_2/train/mask/_09_dr_1_67.png (deflated 20%)\n",
            "  adding: hrf_256_256_dice_loss_hvr_2/split_2/train/mask/_04_g_1_15.png (deflated 57%)\n",
            "  adding: hrf_256_256_dice_loss_hvr_2/split_2/train/mask/_09_dr_0_73.png (deflated 36%)\n",
            "  adding: hrf_256_256_dice_loss_hvr_2/split_2/train/mask/_12_g_0_61.png (deflated 19%)\n",
            "  adding: hrf_256_256_dice_loss_hvr_2/split_2/train/mask/_07_g_0_16.png (deflated 33%)\n",
            "  adding: hrf_256_256_dice_loss_hvr_2/split_2/train/mask/_15_dr_0_93.png (deflated 51%)\n",
            "  adding: hrf_256_256_dice_loss_hvr_2/split_2/train/mask/_11_g_2_139.png (deflated 85%)\n",
            "  adding: hrf_256_256_dice_loss_hvr_2/split_2/train/mask/_08_h_3_72.png (deflated 15%)\n",
            "  adding: hrf_256_256_dice_loss_hvr_2/split_2/train/mask/_15_dr_1_87.png (deflated 24%)\n",
            "  adding: hrf_256_256_dice_loss_hvr_2/split_2/train/mask/_11_g_0_118.png (deflated 22%)\n",
            "  adding: hrf_256_256_dice_loss_hvr_2/split_2/train/mask/_14_dr_3_21.png (deflated 18%)\n",
            "  adding: hrf_256_256_dice_loss_hvr_2/split_2/train/mask/_13_h_1_43.png (deflated 17%)\n",
            "  adding: hrf_256_256_dice_loss_hvr_2/split_2/train/mask/_07_h_3_21.png (deflated 18%)\n",
            "  adding: hrf_256_256_dice_loss_hvr_2/split_2/train/mask/_04_g_3_117.png (deflated 25%)\n",
            "  adding: hrf_256_256_dice_loss_hvr_2/split_2/train/mask/_04_h_0_78.png (deflated 22%)\n",
            "  adding: hrf_256_256_dice_loss_hvr_2/split_2/train/mask/_03_dr_3_40.png (deflated 24%)\n",
            "  adding: hrf_256_256_dice_loss_hvr_2/split_2/train/mask/_12_dr_1_61.png (deflated 30%)\n",
            "  adding: hrf_256_256_dice_loss_hvr_2/split_2/train/mask/_10_g_2_130.png (deflated 32%)\n",
            "  adding: hrf_256_256_dice_loss_hvr_2/split_2/train/mask/_02_dr_2_129.png (deflated 40%)\n",
            "  adding: hrf_256_256_dice_loss_hvr_2/split_2/train/mask/_06_dr_2_58.png (deflated 26%)\n",
            "  adding: hrf_256_256_dice_loss_hvr_2/split_2/train/mask/_12_g_2_85.png (deflated 16%)\n",
            "  adding: hrf_256_256_dice_loss_hvr_2/split_2/train/mask/_03_dr_0_127.png (deflated 85%)\n",
            "  adding: hrf_256_256_dice_loss_hvr_2/split_2/train/mask/_01_g_3_74.png (deflated 31%)\n",
            "  adding: hrf_256_256_dice_loss_hvr_2/split_2/train/mask/_09_g_2_111.png (deflated 85%)\n",
            "  adding: hrf_256_256_dice_loss_hvr_2/split_2/train/mask/_06_dr_0_106.png (deflated 19%)\n",
            "  adding: hrf_256_256_dice_loss_hvr_2/split_2/train/mask/_14_dr_3_115.png (deflated 34%)\n",
            "  adding: hrf_256_256_dice_loss_hvr_2/split_2/train/mask/_02_h_3_1.png (deflated 37%)\n",
            "  adding: hrf_256_256_dice_loss_hvr_2/split_2/train/mask/_11_g_2_33.png (deflated 23%)\n",
            "  adding: hrf_256_256_dice_loss_hvr_2/split_2/train/mask/_09_dr_0_131.png (deflated 40%)\n",
            "  adding: hrf_256_256_dice_loss_hvr_2/split_2/train/mask/_01_dr_3_76.png (deflated 33%)\n",
            "  adding: hrf_256_256_dice_loss_hvr_2/split_2/train/mask/_06_dr_3_81.png (deflated 18%)\n",
            "  adding: hrf_256_256_dice_loss_hvr_2/split_2/train/mask/_13_h_2_82.png (deflated 22%)\n",
            "  adding: hrf_256_256_dice_loss_hvr_2/split_2/train/mask/_09_dr_3_124.png (deflated 64%)\n",
            "  adding: hrf_256_256_dice_loss_hvr_2/split_2/train/mask/_07_h_0_0.png (deflated 85%)\n",
            "  adding: hrf_256_256_dice_loss_hvr_2/split_2/train/mask/_03_h_2_15.png (deflated 38%)\n",
            "  adding: hrf_256_256_dice_loss_hvr_2/split_2/train/mask/_12_dr_1_120.png (deflated 33%)\n",
            "  adding: hrf_256_256_dice_loss_hvr_2/split_2/train/mask/_09_dr_1_80.png (deflated 36%)\n",
            "  adding: hrf_256_256_dice_loss_hvr_2/split_2/train/mask/_04_h_3_138.png (deflated 30%)\n",
            "  adding: hrf_256_256_dice_loss_hvr_2/split_2/train/mask/_09_g_3_52.png (deflated 18%)\n",
            "  adding: hrf_256_256_dice_loss_hvr_2/split_2/train/mask/_12_dr_3_4.png (deflated 26%)\n",
            "  adding: hrf_256_256_dice_loss_hvr_2/split_2/train/mask/_08_h_1_56.png (deflated 42%)\n",
            "  adding: hrf_256_256_dice_loss_hvr_2/split_2/train/mask/_04_g_3_47.png (deflated 15%)\n",
            "  adding: hrf_256_256_dice_loss_hvr_2/split_2/train/mask/_06_dr_1_63.png (deflated 30%)\n",
            "  adding: hrf_256_256_dice_loss_hvr_2/split_2/train/mask/_13_g_1_94.png (deflated 20%)\n",
            "  adding: hrf_256_256_dice_loss_hvr_2/split_2/train/mask/_04_h_2_101.png (deflated 27%)\n",
            "  adding: hrf_256_256_dice_loss_hvr_2/split_2/train/mask/_12_g_2_13.png (deflated 85%)\n",
            "  adding: hrf_256_256_dice_loss_hvr_2/split_2/train/mask/_03_dr_1_73.png (deflated 20%)\n",
            "  adding: hrf_256_256_dice_loss_hvr_2/split_2/train/mask/_04_h_1_60.png (deflated 29%)\n",
            "  adding: hrf_256_256_dice_loss_hvr_2/split_2/train/mask/_09_dr_3_105.png (deflated 24%)\n",
            "  adding: hrf_256_256_dice_loss_hvr_2/split_2/train/mask/_13_h_2_7.png (deflated 28%)\n",
            "  adding: hrf_256_256_dice_loss_hvr_2/split_2/train/mask/_02_h_1_44.png (deflated 27%)\n",
            "  adding: hrf_256_256_dice_loss_hvr_2/split_2/train/mask/_10_dr_0_102.png (deflated 22%)\n",
            "  adding: hrf_256_256_dice_loss_hvr_2/split_2/train/mask/_01_dr_2_7.png (deflated 26%)\n",
            "  adding: hrf_256_256_dice_loss_hvr_2/split_2/train/mask/_03_h_2_71.png (deflated 24%)\n",
            "  adding: hrf_256_256_dice_loss_hvr_2/split_2/train/mask/_01_g_3_137.png (deflated 49%)\n",
            "  adding: hrf_256_256_dice_loss_hvr_2/split_2/train/mask/_11_h_3_139.png (deflated 85%)\n",
            "  adding: hrf_256_256_dice_loss_hvr_2/split_2/train/mask/_09_g_3_126.png (deflated 43%)\n",
            "  adding: hrf_256_256_dice_loss_hvr_2/split_2/train/mask/_10_g_1_86.png (deflated 21%)\n",
            "  adding: hrf_256_256_dice_loss_hvr_2/split_2/train/mask/_10_dr_2_111.png (deflated 76%)\n",
            "  adding: hrf_256_256_dice_loss_hvr_2/split_2/train/mask/_14_g_3_60.png (deflated 19%)\n",
            "  adding: hrf_256_256_dice_loss_hvr_2/split_2/train/mask/_13_g_1_57.png (deflated 30%)\n",
            "  adding: hrf_256_256_dice_loss_hvr_2/split_2/train/mask/_12_dr_0_41.png (deflated 85%)\n",
            "  adding: hrf_256_256_dice_loss_hvr_2/split_2/train/mask/_15_dr_3_131.png (deflated 33%)\n",
            "  adding: hrf_256_256_dice_loss_hvr_2/split_2/train/mask/_14_g_1_52.png (deflated 29%)\n",
            "  adding: hrf_256_256_dice_loss_hvr_2/split_2/train/mask/_07_g_0_125.png (deflated 85%)\n",
            "  adding: hrf_256_256_dice_loss_hvr_2/split_2/train/mask/_03_h_1_7.png (deflated 34%)\n",
            "  adding: hrf_256_256_dice_loss_hvr_2/split_2/train/mask/_02_h_0_60.png (deflated 17%)\n",
            "  adding: hrf_256_256_dice_loss_hvr_2/split_2/train/mask/_05_h_3_134.png (deflated 66%)\n",
            "  adding: hrf_256_256_dice_loss_hvr_2/split_2/train/mask/_13_h_1_76.png (deflated 27%)\n",
            "  adding: hrf_256_256_dice_loss_hvr_2/split_2/train/mask/_07_h_3_1.png (deflated 85%)\n",
            "  adding: hrf_256_256_dice_loss_hvr_2/split_2/train/mask/_14_g_3_111.png (deflated 85%)\n",
            "  adding: hrf_256_256_dice_loss_hvr_2/split_2/train/mask/_09_dr_2_110.png (deflated 32%)\n",
            "  adding: hrf_256_256_dice_loss_hvr_2/split_2/train/mask/_14_dr_2_45.png (deflated 27%)\n",
            "  adding: hrf_256_256_dice_loss_hvr_2/split_2/train/mask/_08_h_3_11.png (deflated 42%)\n",
            "  adding: hrf_256_256_dice_loss_hvr_2/split_2/train/mask/_12_g_0_41.png (deflated 85%)\n",
            "  adding: hrf_256_256_dice_loss_hvr_2/split_2/train/mask/_09_dr_0_50.png (deflated 21%)\n",
            "  adding: hrf_256_256_dice_loss_hvr_2/split_2/train/mask/_04_g_2_54.png (deflated 24%)\n",
            "  adding: hrf_256_256_dice_loss_hvr_2/split_2/train/mask/_11_h_0_104.png (deflated 17%)\n",
            "  adding: hrf_256_256_dice_loss_hvr_2/split_2/train/mask/_10_g_0_113.png (deflated 61%)\n",
            "  adding: hrf_256_256_dice_loss_hvr_2/split_2/train/mask/_03_dr_2_5.png (deflated 55%)\n",
            "  adding: hrf_256_256_dice_loss_hvr_2/split_2/train/mask/_14_g_2_48.png (deflated 24%)\n",
            "  adding: hrf_256_256_dice_loss_hvr_2/split_2/train/mask/_06_dr_3_99.png (deflated 19%)\n",
            "  adding: hrf_256_256_dice_loss_hvr_2/split_2/train/mask/_07_g_3_14.png (deflated 85%)\n",
            "  adding: hrf_256_256_dice_loss_hvr_2/split_2/train/mask/_02_h_0_92.png (deflated 29%)\n",
            "  adding: hrf_256_256_dice_loss_hvr_2/split_2/train/mask/_04_g_2_7.png (deflated 38%)\n",
            "  adding: hrf_256_256_dice_loss_hvr_2/split_2/train/mask/_12_g_3_111.png (deflated 77%)\n",
            "  adding: hrf_256_256_dice_loss_hvr_2/split_2/train/mask/_01_g_2_3.png (deflated 32%)\n",
            "  adding: hrf_256_256_dice_loss_hvr_2/split_2/train/mask/_06_dr_1_118.png (deflated 15%)\n",
            "  adding: hrf_256_256_dice_loss_hvr_2/split_2/train/mask/_15_dr_0_67.png (deflated 20%)\n",
            "  adding: hrf_256_256_dice_loss_hvr_2/split_2/train/mask/_12_dr_2_61.png (deflated 22%)\n",
            "  adding: hrf_256_256_dice_loss_hvr_2/split_2/train/mask/_14_h_1_124.png (deflated 56%)\n",
            "  adding: hrf_256_256_dice_loss_hvr_2/split_2/train/mask/_14_dr_1_92.png (deflated 24%)\n",
            "  adding: hrf_256_256_dice_loss_hvr_2/split_2/train/mask/_12_g_3_47.png (deflated 25%)\n",
            "  adding: hrf_256_256_dice_loss_hvr_2/split_2/train/mask/_14_h_0_62.png (deflated 30%)\n",
            "  adding: hrf_256_256_dice_loss_hvr_2/split_2/train/mask/_02_dr_1_4.png (deflated 66%)\n",
            "  adding: hrf_256_256_dice_loss_hvr_2/split_2/train/mask/_04_h_2_33.png (deflated 19%)\n",
            "  adding: hrf_256_256_dice_loss_hvr_2/split_2/train/mask/_02_h_2_18.png (deflated 30%)\n",
            "  adding: hrf_256_256_dice_loss_hvr_2/split_2/train/mask/_08_h_0_119.png (deflated 18%)\n",
            "  adding: hrf_256_256_dice_loss_hvr_2/split_2/train/mask/_09_dr_2_135.png (deflated 41%)\n",
            "  adding: hrf_256_256_dice_loss_hvr_2/split_2/train/mask/_08_h_2_23.png (deflated 22%)\n",
            "  adding: hrf_256_256_dice_loss_hvr_2/split_2/train/mask/_14_h_0_106.png (deflated 20%)\n",
            "  adding: hrf_256_256_dice_loss_hvr_2/split_2/train/mask/_01_dr_3_43.png (deflated 29%)\n",
            "  adding: hrf_256_256_dice_loss_hvr_2/split_2/train/mask/_13_g_3_45.png (deflated 17%)\n",
            "  adding: hrf_256_256_dice_loss_hvr_2/split_2/train/mask/_08_h_0_41.png (deflated 85%)\n",
            "  adding: hrf_256_256_dice_loss_hvr_2/split_2/train/mask/_02_dr_1_72.png (deflated 22%)\n",
            "  adding: hrf_256_256_dice_loss_hvr_2/split_2/train/mask/_11_h_1_57.png (deflated 27%)\n",
            "  adding: hrf_256_256_dice_loss_hvr_2/split_2/train/mask/_06_dr_3_29.png (deflated 25%)\n",
            "  adding: hrf_256_256_dice_loss_hvr_2/split_2/train/mask/_02_h_1_6.png (deflated 35%)\n",
            "  adding: hrf_256_256_dice_loss_hvr_2/split_2/train/mask/_07_g_3_13.png (deflated 85%)\n",
            "  adding: hrf_256_256_dice_loss_hvr_2/split_2/train/mask/_09_dr_1_4.png (deflated 40%)\n",
            "  adding: hrf_256_256_dice_loss_hvr_2/split_2/train/mask/_01_dr_0_38.png (deflated 29%)\n",
            "  adding: hrf_256_256_dice_loss_hvr_2/split_2/train/mask/_03_dr_0_91.png (deflated 24%)\n",
            "  adding: hrf_256_256_dice_loss_hvr_2/split_2/train/mask/_03_dr_0_25.png (deflated 22%)\n",
            "  adding: hrf_256_256_dice_loss_hvr_2/split_2/train/mask/_07_g_3_124.png (deflated 49%)\n",
            "  adding: hrf_256_256_dice_loss_hvr_2/split_2/train/mask/_13_h_0_11.png (deflated 25%)\n",
            "  adding: hrf_256_256_dice_loss_hvr_2/split_2/train/mask/_13_h_1_93.png (deflated 27%)\n",
            "  adding: hrf_256_256_dice_loss_hvr_2/split_2/train/mask/_02_dr_0_133.png (deflated 30%)\n",
            "  adding: hrf_256_256_dice_loss_hvr_2/split_2/train/mask/_07_h_0_42.png (deflated 57%)\n",
            "  adding: hrf_256_256_dice_loss_hvr_2/split_2/train/mask/_04_g_3_27.png (deflated 85%)\n",
            "  adding: hrf_256_256_dice_loss_hvr_2/split_2/train/mask/_10_dr_3_129.png (deflated 32%)\n",
            "  adding: hrf_256_256_dice_loss_hvr_2/split_2/train/mask/_02_h_3_37.png (deflated 19%)\n",
            "  adding: hrf_256_256_dice_loss_hvr_2/split_2/train/mask/_07_h_1_122.png (deflated 21%)\n",
            "  adding: hrf_256_256_dice_loss_hvr_2/split_2/train/mask/_07_g_1_68.png (deflated 21%)\n",
            "  adding: hrf_256_256_dice_loss_hvr_2/split_2/train/mask/_12_dr_3_76.png (deflated 33%)\n",
            "  adding: hrf_256_256_dice_loss_hvr_2/split_2/train/mask/_15_dr_0_18.png (deflated 21%)\n",
            "  adding: hrf_256_256_dice_loss_hvr_2/split_2/train/mask/_03_dr_3_73.png (deflated 22%)\n",
            "  adding: hrf_256_256_dice_loss_hvr_2/split_2/train/mask/_14_g_1_12.png (deflated 85%)\n",
            "  adding: hrf_256_256_dice_loss_hvr_2/split_2/train/mask/_05_h_3_118.png (deflated 17%)\n",
            "  adding: hrf_256_256_dice_loss_hvr_2/split_2/train/mask/_14_g_1_84.png (deflated 74%)\n",
            "  adding: hrf_256_256_dice_loss_hvr_2/split_2/train/mask/_14_h_3_44.png (deflated 21%)\n",
            "  adding: hrf_256_256_dice_loss_hvr_2/split_2/train/mask/_12_dr_2_55.png (deflated 85%)\n",
            "  adding: hrf_256_256_dice_loss_hvr_2/split_2/train/mask/_07_h_2_108.png (deflated 18%)\n",
            "  adding: hrf_256_256_dice_loss_hvr_2/split_2/train/mask/_06_dr_3_82.png (deflated 20%)\n",
            "  adding: hrf_256_256_dice_loss_hvr_2/split_2/train/mask/_03_dr_3_129.png (deflated 38%)\n",
            "  adding: hrf_256_256_dice_loss_hvr_2/split_2/train/mask/_01_g_2_64.png (deflated 27%)\n",
            "  adding: hrf_256_256_dice_loss_hvr_2/split_2/train/mask/_12_dr_2_15.png (deflated 85%)\n",
            "  adding: hrf_256_256_dice_loss_hvr_2/split_2/train/mask/_01_dr_3_121.png (deflated 13%)\n",
            "  adding: hrf_256_256_dice_loss_hvr_2/split_2/train/mask/_10_dr_3_29.png (deflated 22%)\n",
            "  adding: hrf_256_256_dice_loss_hvr_2/split_2/train/mask/_05_h_2_72.png (deflated 20%)\n",
            "  adding: hrf_256_256_dice_loss_hvr_2/split_2/train/mask/_01_g_0_25.png (deflated 39%)\n",
            "  adding: hrf_256_256_dice_loss_hvr_2/split_2/train/mask/_07_g_2_1.png (deflated 85%)\n",
            "  adding: hrf_256_256_dice_loss_hvr_2/split_2/train/mask/_02_h_1_20.png (deflated 18%)\n",
            "  adding: hrf_256_256_dice_loss_hvr_2/split_2/train/mask/_07_h_0_38.png (deflated 18%)\n",
            "  adding: hrf_256_256_dice_loss_hvr_2/split_2/train/mask/_06_dr_0_67.png (deflated 17%)\n",
            "  adding: hrf_256_256_dice_loss_hvr_2/split_2/train/mask/_10_g_2_118.png (deflated 24%)\n",
            "  adding: hrf_256_256_dice_loss_hvr_2/split_2/train/mask/_15_dr_0_79.png (deflated 30%)\n",
            "  adding: hrf_256_256_dice_loss_hvr_2/split_2/train/mask/_07_h_2_10.png (deflated 30%)\n",
            "  adding: hrf_256_256_dice_loss_hvr_2/split_2/train/mask/_12_dr_2_10.png (deflated 31%)\n",
            "  adding: hrf_256_256_dice_loss_hvr_2/split_2/train/mask/_09_g_0_6.png (deflated 28%)\n",
            "  adding: hrf_256_256_dice_loss_hvr_2/split_2/train/mask/_09_g_1_122.png (deflated 27%)\n",
            "  adding: hrf_256_256_dice_loss_hvr_2/split_2/train/mask/_13_g_2_66.png (deflated 22%)\n",
            "  adding: hrf_256_256_dice_loss_hvr_2/split_2/train/mask/_14_h_1_63.png (deflated 31%)\n",
            "  adding: hrf_256_256_dice_loss_hvr_2/split_2/train/mask/_06_dr_1_133.png (deflated 30%)\n",
            "  adding: hrf_256_256_dice_loss_hvr_2/split_2/train/mask/_06_dr_3_96.png (deflated 31%)\n",
            "  adding: hrf_256_256_dice_loss_hvr_2/split_2/train/mask/_11_g_3_20.png (deflated 18%)\n",
            "  adding: hrf_256_256_dice_loss_hvr_2/split_2/train/mask/_10_g_0_25.png (deflated 22%)\n",
            "  adding: hrf_256_256_dice_loss_hvr_2/split_2/train/mask/_14_h_0_11.png (deflated 32%)\n",
            "  adding: hrf_256_256_dice_loss_hvr_2/split_2/train/mask/_13_h_2_62.png (deflated 43%)\n",
            "  adding: hrf_256_256_dice_loss_hvr_2/split_2/train/mask/_09_dr_3_58.png (deflated 24%)\n",
            "  adding: hrf_256_256_dice_loss_hvr_2/split_2/train/mask/_13_h_3_30.png (deflated 20%)\n",
            "  adding: hrf_256_256_dice_loss_hvr_2/split_2/train/mask/_09_g_3_4.png (deflated 35%)\n",
            "  adding: hrf_256_256_dice_loss_hvr_2/split_2/train/mask/_14_g_3_17.png (deflated 25%)\n",
            "  adding: hrf_256_256_dice_loss_hvr_2/split_2/train/mask/_05_h_1_41.png (deflated 85%)\n",
            "  adding: hrf_256_256_dice_loss_hvr_2/split_2/train/mask/_14_g_1_89.png (deflated 26%)\n",
            "  adding: hrf_256_256_dice_loss_hvr_2/split_2/train/mask/_11_h_3_64.png (deflated 16%)\n",
            "  adding: hrf_256_256_dice_loss_hvr_2/split_2/train/mask/_12_dr_1_129.png (deflated 31%)\n",
            "  adding: hrf_256_256_dice_loss_hvr_2/split_2/train/mask/_09_dr_0_128.png (deflated 85%)\n",
            "  adding: hrf_256_256_dice_loss_hvr_2/split_2/train/mask/_10_dr_1_24.png (deflated 40%)\n",
            "  adding: hrf_256_256_dice_loss_hvr_2/split_2/train/mask/_04_g_0_91.png (deflated 27%)\n",
            "  adding: hrf_256_256_dice_loss_hvr_2/split_2/train/mask/_04_h_2_95.png (deflated 34%)\n",
            "  adding: hrf_256_256_dice_loss_hvr_2/split_2/train/mask/_02_h_2_104.png (deflated 11%)\n",
            "  adding: hrf_256_256_dice_loss_hvr_2/split_2/train/mask/_08_h_2_110.png (deflated 32%)\n",
            "  adding: hrf_256_256_dice_loss_hvr_2/split_2/train/mask/_11_g_1_119.png (deflated 20%)\n",
            "  adding: hrf_256_256_dice_loss_hvr_2/split_2/train/mask/_02_dr_3_129.png (deflated 27%)\n",
            "  adding: hrf_256_256_dice_loss_hvr_2/split_2/train/mask/_15_dr_3_65.png (deflated 20%)\n",
            "  adding: hrf_256_256_dice_loss_hvr_2/split_2/train/mask/_01_dr_0_139.png (deflated 85%)\n",
            "  adding: hrf_256_256_dice_loss_hvr_2/split_2/train/mask/_02_h_2_4.png (deflated 38%)\n",
            "  adding: hrf_256_256_dice_loss_hvr_2/split_2/train/mask/_03_dr_3_27.png (deflated 52%)\n",
            "  adding: hrf_256_256_dice_loss_hvr_2/split_2/train/mask/_04_h_2_25.png (deflated 23%)\n",
            "  adding: hrf_256_256_dice_loss_hvr_2/split_2/train/mask/_07_h_0_59.png (deflated 17%)\n",
            "  adding: hrf_256_256_dice_loss_hvr_2/split_2/train/mask/_06_dr_2_24.png (deflated 22%)\n",
            "  adding: hrf_256_256_dice_loss_hvr_2/split_2/train/mask/_14_g_1_7.png (deflated 28%)\n",
            "  adding: hrf_256_256_dice_loss_hvr_2/split_2/train/mask/_11_g_3_117.png (deflated 19%)\n",
            "  adding: hrf_256_256_dice_loss_hvr_2/split_2/train/mask/_02_dr_3_95.png (deflated 18%)\n",
            "  adding: hrf_256_256_dice_loss_hvr_2/split_2/train/mask/_14_g_0_36.png (deflated 25%)\n",
            "  adding: hrf_256_256_dice_loss_hvr_2/split_2/train/mask/_06_dr_0_101.png (deflated 24%)\n",
            "  adding: hrf_256_256_dice_loss_hvr_2/split_2/train/mask/_04_g_0_26.png (deflated 56%)\n",
            "  adding: hrf_256_256_dice_loss_hvr_2/split_2/train/mask/_14_dr_1_16.png (deflated 40%)\n",
            "  adding: hrf_256_256_dice_loss_hvr_2/split_2/train/mask/_13_h_2_71.png (deflated 24%)\n",
            "  adding: hrf_256_256_dice_loss_hvr_2/split_2/train/mask/_03_dr_3_137.png (deflated 26%)\n",
            "  adding: hrf_256_256_dice_loss_hvr_2/split_2/train/mask/_03_h_2_95.png (deflated 25%)\n",
            "  adding: hrf_256_256_dice_loss_hvr_2/split_2/train/mask/_09_dr_2_107.png (deflated 26%)\n",
            "  adding: hrf_256_256_dice_loss_hvr_2/split_2/train/mask/_05_h_1_31.png (deflated 25%)\n",
            "  adding: hrf_256_256_dice_loss_hvr_2/split_2/train/mask/_11_g_3_111.png (deflated 23%)\n",
            "  adding: hrf_256_256_dice_loss_hvr_2/split_2/train/mask/_05_h_2_105.png (deflated 17%)\n",
            "  adding: hrf_256_256_dice_loss_hvr_2/split_2/train/mask/_09_g_2_74.png (deflated 22%)\n",
            "  adding: hrf_256_256_dice_loss_hvr_2/split_2/train/mask/_07_h_3_15.png (deflated 31%)\n",
            "  adding: hrf_256_256_dice_loss_hvr_2/split_2/train/mask/_04_h_0_43.png (deflated 20%)\n",
            "  adding: hrf_256_256_dice_loss_hvr_2/split_2/train/mask/_12_g_3_20.png (deflated 19%)\n",
            "  adding: hrf_256_256_dice_loss_hvr_2/split_2/train/mask/_11_h_0_118.png (deflated 18%)\n",
            "  adding: hrf_256_256_dice_loss_hvr_2/split_2/train/mask/_10_g_1_19.png (deflated 23%)\n",
            "  adding: hrf_256_256_dice_loss_hvr_2/split_2/train/mask/_10_dr_1_123.png (deflated 28%)\n",
            "  adding: hrf_256_256_dice_loss_hvr_2/split_2/train/mask/_14_h_2_78.png (deflated 23%)\n",
            "  adding: hrf_256_256_dice_loss_hvr_2/split_2/train/mask/_01_dr_3_96.png (deflated 21%)\n",
            "  adding: hrf_256_256_dice_loss_hvr_2/split_2/train/mask/_15_dr_2_18.png (deflated 25%)\n",
            "  adding: hrf_256_256_dice_loss_hvr_2/split_2/train/mask/_07_h_3_12.png (deflated 31%)\n",
            "  adding: hrf_256_256_dice_loss_hvr_2/split_2/train/mask/_02_h_1_67.png (deflated 21%)\n",
            "  adding: hrf_256_256_dice_loss_hvr_2/split_2/train/mask/_04_g_3_52.png (deflated 24%)\n",
            "  adding: hrf_256_256_dice_loss_hvr_2/split_2/train/mask/_01_dr_0_5.png (deflated 29%)\n",
            "  adding: hrf_256_256_dice_loss_hvr_2/split_2/train/mask/_04_h_2_22.png (deflated 24%)\n",
            "  adding: hrf_256_256_dice_loss_hvr_2/split_2/train/mask/_05_h_0_81.png (deflated 26%)\n",
            "  adding: hrf_256_256_dice_loss_hvr_2/split_2/train/mask/_04_h_2_13.png (deflated 85%)\n",
            "  adding: hrf_256_256_dice_loss_hvr_2/split_2/train/mask/_12_dr_3_42.png (deflated 57%)\n",
            "  adding: hrf_256_256_dice_loss_hvr_2/split_2/train/mask/_10_dr_2_22.png (deflated 11%)\n",
            "  adding: hrf_256_256_dice_loss_hvr_2/split_2/train/mask/_11_g_3_26.png (deflated 42%)\n",
            "  adding: hrf_256_256_dice_loss_hvr_2/split_2/train/mask/_14_h_3_4.png (deflated 30%)\n",
            "  adding: hrf_256_256_dice_loss_hvr_2/split_2/train/mask/_14_h_1_119.png (deflated 18%)\n",
            "  adding: hrf_256_256_dice_loss_hvr_2/split_2/train/mask/_14_dr_1_32.png (deflated 25%)\n",
            "  adding: hrf_256_256_dice_loss_hvr_2/split_2/train/mask/_03_dr_0_104.png (deflated 28%)\n",
            "  adding: hrf_256_256_dice_loss_hvr_2/split_2/train/mask/_09_g_1_51.png (deflated 24%)\n",
            "  adding: hrf_256_256_dice_loss_hvr_2/split_2/train/mask/_09_dr_1_28.png (deflated 85%)\n",
            "  adding: hrf_256_256_dice_loss_hvr_2/split_2/train/mask/_06_dr_3_48.png (deflated 33%)\n",
            "  adding: hrf_256_256_dice_loss_hvr_2/split_2/train/mask/_03_dr_3_77.png (deflated 44%)\n",
            "  adding: hrf_256_256_dice_loss_hvr_2/split_2/train/mask/_14_h_0_0.png (deflated 85%)\n",
            "  adding: hrf_256_256_dice_loss_hvr_2/split_2/train/mask/_01_dr_0_76.png (deflated 31%)\n",
            "  adding: hrf_256_256_dice_loss_hvr_2/split_2/train/mask/_04_h_1_132.png (deflated 26%)\n",
            "  adding: hrf_256_256_dice_loss_hvr_2/split_2/train/mask/_09_dr_1_54.png (deflated 24%)\n",
            "  adding: hrf_256_256_dice_loss_hvr_2/split_2/train/mask/_09_g_0_128.png (deflated 32%)\n",
            "  adding: hrf_256_256_dice_loss_hvr_2/split_2/train/mask/_11_h_2_128.png (deflated 26%)\n",
            "  adding: hrf_256_256_dice_loss_hvr_2/split_2/train/mask/_08_h_2_78.png (deflated 33%)\n",
            "  adding: hrf_256_256_dice_loss_hvr_2/split_2/train/mask/_03_dr_2_6.png (deflated 32%)\n",
            "  adding: hrf_256_256_dice_loss_hvr_2/split_2/train/mask/_10_g_3_104.png (deflated 22%)\n",
            "  adding: hrf_256_256_dice_loss_hvr_2/split_2/train/mask/_09_dr_3_22.png (deflated 24%)\n",
            "  adding: hrf_256_256_dice_loss_hvr_2/split_2/train/mask/_14_dr_1_42.png (deflated 36%)\n",
            "  adding: hrf_256_256_dice_loss_hvr_2/split_2/train/mask/_13_g_1_116.png (deflated 29%)\n",
            "  adding: hrf_256_256_dice_loss_hvr_2/split_2/train/mask/_07_h_0_79.png (deflated 24%)\n",
            "  adding: hrf_256_256_dice_loss_hvr_2/split_2/train/mask/_10_dr_0_44.png (deflated 19%)\n",
            "  adding: hrf_256_256_dice_loss_hvr_2/split_2/train/mask/_13_g_2_88.png (deflated 18%)\n",
            "  adding: hrf_256_256_dice_loss_hvr_2/split_2/train/mask/_13_h_3_115.png (deflated 23%)\n",
            "  adding: hrf_256_256_dice_loss_hvr_2/split_2/train/mask/_04_h_3_45.png (deflated 14%)\n",
            "  adding: hrf_256_256_dice_loss_hvr_2/split_2/train/mask/_11_g_1_36.png (deflated 26%)\n",
            "  adding: hrf_256_256_dice_loss_hvr_2/split_2/train/mask/_11_h_1_137.png (deflated 85%)\n",
            "  adding: hrf_256_256_dice_loss_hvr_2/split_2/train/mask/_10_g_2_139.png (deflated 85%)\n",
            "  adding: hrf_256_256_dice_loss_hvr_2/split_2/train/mask/_13_h_2_67.png (deflated 25%)\n",
            "  adding: hrf_256_256_dice_loss_hvr_2/split_2/train/mask/_10_g_2_3.png (deflated 29%)\n",
            "  adding: hrf_256_256_dice_loss_hvr_2/split_2/train/mask/_01_g_3_131.png (deflated 30%)\n",
            "  adding: hrf_256_256_dice_loss_hvr_2/split_2/train/mask/_02_h_3_0.png (deflated 60%)\n",
            "  adding: hrf_256_256_dice_loss_hvr_2/split_2/train/mask/_08_h_1_80.png (deflated 23%)\n",
            "  adding: hrf_256_256_dice_loss_hvr_2/split_2/train/mask/_11_h_1_130.png (deflated 38%)\n",
            "  adding: hrf_256_256_dice_loss_hvr_2/split_2/train/mask/_02_h_2_34.png (deflated 23%)\n",
            "  adding: hrf_256_256_dice_loss_hvr_2/split_2/train/mask/_07_g_2_39.png (deflated 25%)\n",
            "  adding: hrf_256_256_dice_loss_hvr_2/split_2/train/mask/_13_g_1_106.png (deflated 28%)\n",
            "  adding: hrf_256_256_dice_loss_hvr_2/split_2/train/mask/_12_g_3_19.png (deflated 28%)\n",
            "  adding: hrf_256_256_dice_loss_hvr_2/split_2/train/mask/_09_g_2_28.png (deflated 85%)\n",
            "  adding: hrf_256_256_dice_loss_hvr_2/split_2/train/mask/_05_h_3_43.png (deflated 19%)\n",
            "  adding: hrf_256_256_dice_loss_hvr_2/split_2/train/mask/_14_g_1_108.png (deflated 25%)\n",
            "  adding: hrf_256_256_dice_loss_hvr_2/split_2/train/mask/_07_h_3_7.png (deflated 37%)\n",
            "  adding: hrf_256_256_dice_loss_hvr_2/split_2/train/mask/_02_dr_1_91.png (deflated 24%)\n",
            "  adding: hrf_256_256_dice_loss_hvr_2/split_2/train/mask/_11_h_3_131.png (deflated 30%)\n",
            "  adding: hrf_256_256_dice_loss_hvr_2/split_2/train/mask/_09_dr_2_20.png (deflated 14%)\n",
            "  adding: hrf_256_256_dice_loss_hvr_2/split_2/train/mask/_07_g_0_107.png (deflated 20%)\n",
            "  adding: hrf_256_256_dice_loss_hvr_2/split_2/train/mask/_08_h_2_40.png (deflated 31%)\n",
            "  adding: hrf_256_256_dice_loss_hvr_2/split_2/train/mask/_15_dr_1_44.png (deflated 39%)\n",
            "  adding: hrf_256_256_dice_loss_hvr_2/split_2/train/mask/_07_h_0_37.png (deflated 18%)\n",
            "  adding: hrf_256_256_dice_loss_hvr_2/split_2/train/mask/_04_g_1_5.png (deflated 45%)\n",
            "  adding: hrf_256_256_dice_loss_hvr_2/split_2/train/mask/_14_h_3_54.png (deflated 26%)\n",
            "  adding: hrf_256_256_dice_loss_hvr_2/split_2/train/mask/_09_g_0_138.png (deflated 85%)\n",
            "  adding: hrf_256_256_dice_loss_hvr_2/split_2/train/mask/_09_g_2_78.png (deflated 28%)\n",
            "  adding: hrf_256_256_dice_loss_hvr_2/split_2/train/mask/_04_g_2_94.png (deflated 22%)\n",
            "  adding: hrf_256_256_dice_loss_hvr_2/split_2/train/mask/_03_h_3_35.png (deflated 14%)\n",
            "  adding: hrf_256_256_dice_loss_hvr_2/split_2/train/mask/_14_h_1_53.png (deflated 22%)\n",
            "  adding: hrf_256_256_dice_loss_hvr_2/split_2/train/mask/_02_h_0_41.png (deflated 85%)\n",
            "  adding: hrf_256_256_dice_loss_hvr_2/split_2/train/mask/_12_g_0_98.png (deflated 85%)\n",
            "  adding: hrf_256_256_dice_loss_hvr_2/split_2/train/mask/_12_g_0_52.png (deflated 17%)\n",
            "  adding: hrf_256_256_dice_loss_hvr_2/split_2/train/mask/_02_dr_2_1.png (deflated 85%)\n",
            "  adding: hrf_256_256_dice_loss_hvr_2/split_2/train/mask/_13_h_2_25.png (deflated 36%)\n",
            "  adding: hrf_256_256_dice_loss_hvr_2/split_2/train/mask/_02_h_3_67.png (deflated 27%)\n",
            "  adding: hrf_256_256_dice_loss_hvr_2/split_2/train/mask/_05_h_2_128.png (deflated 48%)\n",
            "  adding: hrf_256_256_dice_loss_hvr_2/split_2/train/mask/_12_dr_3_58.png (deflated 21%)\n",
            "  adding: hrf_256_256_dice_loss_hvr_2/split_2/train/mask/_12_dr_1_82.png (deflated 17%)\n",
            "  adding: hrf_256_256_dice_loss_hvr_2/split_2/train/mask/_09_g_0_76.png (deflated 33%)\n",
            "  adding: hrf_256_256_dice_loss_hvr_2/split_2/train/mask/_02_dr_2_80.png (deflated 25%)\n",
            "  adding: hrf_256_256_dice_loss_hvr_2/split_2/train/mask/_09_dr_0_4.png (deflated 39%)\n",
            "  adding: hrf_256_256_dice_loss_hvr_2/split_2/train/mask/_11_h_3_21.png (deflated 15%)\n",
            "  adding: hrf_256_256_dice_loss_hvr_2/split_2/train/mask/_10_g_2_97.png (deflated 38%)\n",
            "  adding: hrf_256_256_dice_loss_hvr_2/split_2/train/mask/_14_dr_3_85.png (deflated 18%)\n",
            "  adding: hrf_256_256_dice_loss_hvr_2/split_2/train/mask/_01_dr_3_114.png (deflated 70%)\n",
            "  adding: hrf_256_256_dice_loss_hvr_2/split_2/train/mask/_01_dr_1_73.png (deflated 24%)\n",
            "  adding: hrf_256_256_dice_loss_hvr_2/split_2/train/mask/_11_h_2_95.png (deflated 20%)\n",
            "  adding: hrf_256_256_dice_loss_hvr_2/split_2/train/mask/_13_g_0_78.png (deflated 27%)\n",
            "  adding: hrf_256_256_dice_loss_hvr_2/split_2/train/mask/_12_dr_3_83.png (deflated 31%)\n",
            "  adding: hrf_256_256_dice_loss_hvr_2/split_2/train/mask/_03_dr_1_99.png (deflated 22%)\n",
            "  adding: hrf_256_256_dice_loss_hvr_2/split_2/train/mask/_14_h_0_58.png (deflated 25%)\n",
            "  adding: hrf_256_256_dice_loss_hvr_2/split_2/train/mask/_02_h_0_21.png (deflated 16%)\n",
            "  adding: hrf_256_256_dice_loss_hvr_2/split_2/train/mask/_01_dr_0_68.png (deflated 29%)\n",
            "  adding: hrf_256_256_dice_loss_hvr_2/split_2/train/mask/_14_g_1_35.png (deflated 22%)\n",
            "  adding: hrf_256_256_dice_loss_hvr_2/split_2/train/mask/_15_dr_1_113.png (deflated 26%)\n",
            "  adding: hrf_256_256_dice_loss_hvr_2/split_2/train/mask/_08_h_2_16.png (deflated 21%)\n",
            "  adding: hrf_256_256_dice_loss_hvr_2/split_2/train/mask/_02_h_2_88.png (deflated 21%)\n",
            "  adding: hrf_256_256_dice_loss_hvr_2/split_2/train/mask/_13_g_3_63.png (deflated 31%)\n",
            "  adding: hrf_256_256_dice_loss_hvr_2/split_2/train/mask/_10_g_1_31.png (deflated 47%)\n",
            "  adding: hrf_256_256_dice_loss_hvr_2/split_2/train/mask/_13_h_0_41.png (deflated 85%)\n",
            "  adding: hrf_256_256_dice_loss_hvr_2/split_2/train/mask/_04_h_2_18.png (deflated 24%)\n",
            "  adding: hrf_256_256_dice_loss_hvr_2/split_2/train/mask/_11_h_0_114.png (deflated 45%)\n",
            "  adding: hrf_256_256_dice_loss_hvr_2/split_2/train/mask/_09_g_2_129.png (deflated 33%)\n",
            "  adding: hrf_256_256_dice_loss_hvr_2/split_2/train/mask/_12_dr_0_91.png (deflated 22%)\n",
            "  adding: hrf_256_256_dice_loss_hvr_2/split_2/train/mask/_05_h_3_108.png (deflated 24%)\n",
            "  adding: hrf_256_256_dice_loss_hvr_2/split_2/train/mask/_03_h_2_25.png (deflated 33%)\n",
            "  adding: hrf_256_256_dice_loss_hvr_2/split_2/train/mask/_14_g_2_80.png (deflated 33%)\n",
            "  adding: hrf_256_256_dice_loss_hvr_2/split_2/train/mask/_04_h_0_128.png (deflated 43%)\n",
            "  adding: hrf_256_256_dice_loss_hvr_2/split_2/train/mask/_02_dr_3_80.png (deflated 26%)\n",
            "  adding: hrf_256_256_dice_loss_hvr_2/split_2/train/mask/_11_h_1_63.png (deflated 22%)\n",
            "  adding: hrf_256_256_dice_loss_hvr_2/split_2/train/mask/_08_h_1_91.png (deflated 27%)\n",
            "  adding: hrf_256_256_dice_loss_hvr_2/split_2/train/mask/_08_h_3_69.png (deflated 32%)\n",
            "  adding: hrf_256_256_dice_loss_hvr_2/split_2/train/mask/_06_dr_3_130.png (deflated 33%)\n",
            "  adding: hrf_256_256_dice_loss_hvr_2/split_2/train/mask/_01_dr_3_32.png (deflated 22%)\n",
            "  adding: hrf_256_256_dice_loss_hvr_2/split_2/train/mask/_03_dr_3_132.png (deflated 39%)\n",
            "  adding: hrf_256_256_dice_loss_hvr_2/split_2/train/mask/_09_g_0_60.png (deflated 23%)\n",
            "  adding: hrf_256_256_dice_loss_hvr_2/split_2/train/mask/_01_dr_2_15.png (deflated 32%)\n",
            "  adding: hrf_256_256_dice_loss_hvr_2/split_2/train/mask/_07_h_2_40.png (deflated 31%)\n",
            "  adding: hrf_256_256_dice_loss_hvr_2/split_2/train/mask/_13_h_0_134.png (deflated 29%)\n",
            "  adding: hrf_256_256_dice_loss_hvr_2/split_2/train/mask/_13_h_2_10.png (deflated 28%)\n",
            "  adding: hrf_256_256_dice_loss_hvr_2/split_2/train/mask/_14_h_1_77.png (deflated 33%)\n",
            "  adding: hrf_256_256_dice_loss_hvr_2/split_2/train/mask/_06_dr_0_82.png (deflated 43%)\n",
            "  adding: hrf_256_256_dice_loss_hvr_2/split_2/train/mask/_03_h_2_81.png (deflated 24%)\n",
            "  adding: hrf_256_256_dice_loss_hvr_2/split_2/train/mask/_08_h_3_129.png (deflated 55%)\n",
            "  adding: hrf_256_256_dice_loss_hvr_2/split_2/train/mask/_14_h_0_21.png (deflated 14%)\n",
            "  adding: hrf_256_256_dice_loss_hvr_2/split_2/train/mask/_14_dr_1_115.png (deflated 33%)\n",
            "  adding: hrf_256_256_dice_loss_hvr_2/split_2/train/mask/_11_h_1_44.png (deflated 20%)\n",
            "  adding: hrf_256_256_dice_loss_hvr_2/split_2/train/mask/_12_dr_0_47.png (deflated 23%)\n",
            "  adding: hrf_256_256_dice_loss_hvr_2/split_2/train/mask/_12_g_1_132.png (deflated 37%)\n",
            "  adding: hrf_256_256_dice_loss_hvr_2/split_2/train/mask/_11_h_2_100.png (deflated 47%)\n",
            "  adding: hrf_256_256_dice_loss_hvr_2/split_2/train/mask/_03_h_3_19.png (deflated 16%)\n",
            "  adding: hrf_256_256_dice_loss_hvr_2/split_2/train/mask/_10_dr_2_101.png (deflated 38%)\n",
            "  adding: hrf_256_256_dice_loss_hvr_2/split_2/train/mask/_03_dr_1_18.png (deflated 24%)\n",
            "  adding: hrf_256_256_dice_loss_hvr_2/split_2/train/mask/_14_h_1_107.png (deflated 20%)\n",
            "  adding: hrf_256_256_dice_loss_hvr_2/split_2/train/mask/_10_g_0_57.png (deflated 29%)\n",
            "  adding: hrf_256_256_dice_loss_hvr_2/split_2/train/mask/_02_h_1_99.png (deflated 16%)\n",
            "  adding: hrf_256_256_dice_loss_hvr_2/split_2/train/mask/_03_dr_3_53.png (deflated 43%)\n",
            "  adding: hrf_256_256_dice_loss_hvr_2/split_2/train/mask/_10_dr_2_99.png (deflated 20%)\n",
            "  adding: hrf_256_256_dice_loss_hvr_2/split_2/train/mask/_10_dr_1_59.png (deflated 28%)\n",
            "  adding: hrf_256_256_dice_loss_hvr_2/split_2/train/mask/_04_g_2_3.png (deflated 32%)\n",
            "  adding: hrf_256_256_dice_loss_hvr_2/split_2/train/mask/_15_dr_2_90.png (deflated 21%)\n",
            "  adding: hrf_256_256_dice_loss_hvr_2/split_2/train/mask/_11_h_3_111.png (deflated 72%)\n",
            "  adding: hrf_256_256_dice_loss_hvr_2/split_2/train/mask/_08_h_3_85.png (deflated 26%)\n",
            "  adding: hrf_256_256_dice_loss_hvr_2/split_2/train/mask/_04_g_3_21.png (deflated 18%)\n",
            "  adding: hrf_256_256_dice_loss_hvr_2/split_2/train/mask/_10_g_2_102.png (deflated 26%)\n",
            "  adding: hrf_256_256_dice_loss_hvr_2/split_2/train/mask/_06_dr_2_113.png (deflated 34%)\n",
            "  adding: hrf_256_256_dice_loss_hvr_2/split_2/train/mask/_01_dr_3_133.png (deflated 25%)\n",
            "  adding: hrf_256_256_dice_loss_hvr_2/split_2/train/mask/_14_g_1_126.png (deflated 85%)\n",
            "  adding: hrf_256_256_dice_loss_hvr_2/split_2/train/mask/_09_g_3_94.png (deflated 18%)\n",
            "  adding: hrf_256_256_dice_loss_hvr_2/split_2/train/mask/_12_g_1_53.png (deflated 16%)\n",
            "  adding: hrf_256_256_dice_loss_hvr_2/split_2/train/mask/_11_h_1_59.png (deflated 23%)\n",
            "  adding: hrf_256_256_dice_loss_hvr_2/split_2/train/mask/_09_g_0_91.png (deflated 25%)\n",
            "  adding: hrf_256_256_dice_loss_hvr_2/split_2/train/mask/_05_h_0_107.png (deflated 15%)\n",
            "  adding: hrf_256_256_dice_loss_hvr_2/split_2/train/mask/_04_g_2_136.png (deflated 32%)\n",
            "  adding: hrf_256_256_dice_loss_hvr_2/split_2/train/mask/_07_h_3_59.png (deflated 27%)\n",
            "  adding: hrf_256_256_dice_loss_hvr_2/split_2/train/mask/_07_h_3_76.png (deflated 28%)\n",
            "  adding: hrf_256_256_dice_loss_hvr_2/split_2/train/mask/_06_dr_1_91.png (deflated 25%)\n",
            "  adding: hrf_256_256_dice_loss_hvr_2/split_2/train/mask/_15_dr_3_15.png (deflated 51%)\n",
            "  adding: hrf_256_256_dice_loss_hvr_2/split_2/train/mask/_08_h_3_29.png (deflated 26%)\n",
            "  adding: hrf_256_256_dice_loss_hvr_2/split_2/train/mask/_03_dr_2_27.png (deflated 85%)\n",
            "  adding: hrf_256_256_dice_loss_hvr_2/split_2/train/mask/_06_dr_3_56.png (deflated 28%)\n",
            "  adding: hrf_256_256_dice_loss_hvr_2/split_2/train/mask/_04_g_1_7.png (deflated 34%)\n",
            "  adding: hrf_256_256_dice_loss_hvr_2/split_2/train/mask/_03_h_0_78.png (deflated 25%)\n",
            "  adding: hrf_256_256_dice_loss_hvr_2/split_2/train/mask/_08_h_3_52.png (deflated 21%)\n",
            "  adding: hrf_256_256_dice_loss_hvr_2/split_2/train/mask/_01_g_1_75.png (deflated 27%)\n",
            "  adding: hrf_256_256_dice_loss_hvr_2/split_2/train/mask/_09_dr_2_139.png (deflated 85%)\n",
            "  adding: hrf_256_256_dice_loss_hvr_2/split_2/train/mask/_02_h_0_72.png (deflated 25%)\n",
            "  adding: hrf_256_256_dice_loss_hvr_2/split_2/train/mask/_15_dr_0_48.png (deflated 21%)\n",
            "  adding: hrf_256_256_dice_loss_hvr_2/split_2/train/mask/_09_dr_1_40.png (deflated 45%)\n",
            "  adding: hrf_256_256_dice_loss_hvr_2/split_2/train/mask/_10_dr_0_90.png (deflated 23%)\n",
            "  adding: hrf_256_256_dice_loss_hvr_2/split_2/train/mask/_07_h_2_55.png (deflated 59%)\n",
            "  adding: hrf_256_256_dice_loss_hvr_2/split_2/train/mask/_15_dr_0_135.png (deflated 34%)\n",
            "  adding: hrf_256_256_dice_loss_hvr_2/split_2/train/mask/_11_h_3_24.png (deflated 25%)\n",
            "  adding: hrf_256_256_dice_loss_hvr_2/split_2/train/mask/_12_g_0_93.png (deflated 25%)\n",
            "  adding: hrf_256_256_dice_loss_hvr_2/split_2/train/mask/_10_dr_2_135.png (deflated 24%)\n",
            "  adding: hrf_256_256_dice_loss_hvr_2/split_2/train/mask/_14_g_3_120.png (deflated 26%)\n",
            "  adding: hrf_256_256_dice_loss_hvr_2/split_2/train/mask/_11_g_0_27.png (deflated 85%)\n",
            "  adding: hrf_256_256_dice_loss_hvr_2/split_2/train/mask/_09_dr_3_29.png (deflated 61%)\n",
            "  adding: hrf_256_256_dice_loss_hvr_2/split_2/train/mask/_14_g_0_121.png (deflated 26%)\n",
            "  adding: hrf_256_256_dice_loss_hvr_2/split_2/train/mask/_14_g_1_49.png (deflated 20%)\n",
            "  adding: hrf_256_256_dice_loss_hvr_2/split_2/train/mask/_03_h_1_27.png (deflated 85%)\n",
            "  adding: hrf_256_256_dice_loss_hvr_2/split_2/train/mask/_04_g_0_138.png (deflated 85%)\n",
            "  adding: hrf_256_256_dice_loss_hvr_2/split_2/train/mask/_14_g_2_42.png (deflated 76%)\n",
            "  adding: hrf_256_256_dice_loss_hvr_2/split_2/train/mask/_01_g_0_10.png (deflated 31%)\n",
            "  adding: hrf_256_256_dice_loss_hvr_2/split_2/train/mask/_13_g_0_18.png (deflated 27%)\n",
            "  adding: hrf_256_256_dice_loss_hvr_2/split_2/train/mask/_07_h_1_82.png (deflated 38%)\n",
            "  adding: hrf_256_256_dice_loss_hvr_2/split_2/train/mask/_14_g_2_136.png (deflated 42%)\n",
            "  adding: hrf_256_256_dice_loss_hvr_2/split_2/train/mask/_05_h_2_37.png (deflated 15%)\n",
            "  adding: hrf_256_256_dice_loss_hvr_2/split_2/train/mask/_13_g_0_14.png (deflated 85%)\n",
            "  adding: hrf_256_256_dice_loss_hvr_2/split_2/train/mask/_05_h_3_72.png (deflated 16%)\n",
            "  adding: hrf_256_256_dice_loss_hvr_2/split_2/train/mask/_10_dr_3_32.png (deflated 22%)\n",
            "  adding: hrf_256_256_dice_loss_hvr_2/split_2/train/mask/_02_dr_3_113.png (deflated 17%)\n",
            "  adding: hrf_256_256_dice_loss_hvr_2/split_2/train/mask/_01_g_3_24.png (deflated 33%)\n",
            "  adding: hrf_256_256_dice_loss_hvr_2/split_2/train/mask/_07_h_0_108.png (deflated 31%)\n",
            "  adding: hrf_256_256_dice_loss_hvr_2/split_2/train/mask/_01_dr_3_134.png (deflated 32%)\n",
            "  adding: hrf_256_256_dice_loss_hvr_2/split_2/train/mask/_02_dr_0_13.png (deflated 85%)\n",
            "  adding: hrf_256_256_dice_loss_hvr_2/split_2/train/mask/_13_g_2_0.png (deflated 85%)\n",
            "  adding: hrf_256_256_dice_loss_hvr_2/split_2/train/mask/_12_dr_2_95.png (deflated 25%)\n",
            "  adding: hrf_256_256_dice_loss_hvr_2/split_2/train/mask/_12_g_0_62.png (deflated 27%)\n",
            "  adding: hrf_256_256_dice_loss_hvr_2/split_2/train/mask/_02_h_0_40.png (deflated 30%)\n",
            "  adding: hrf_256_256_dice_loss_hvr_2/split_2/train/mask/_02_h_0_120.png (deflated 19%)\n",
            "  adding: hrf_256_256_dice_loss_hvr_2/split_2/train/mask/_12_g_1_101.png (deflated 18%)\n",
            "  adding: hrf_256_256_dice_loss_hvr_2/split_2/train/mask/_01_g_0_122.png (deflated 23%)\n",
            "  adding: hrf_256_256_dice_loss_hvr_2/split_2/train/mask/_07_g_2_105.png (deflated 22%)\n",
            "  adding: hrf_256_256_dice_loss_hvr_2/split_2/train/mask/_11_h_1_66.png (deflated 21%)\n",
            "  adding: hrf_256_256_dice_loss_hvr_2/split_2/train/mask/_11_g_3_40.png (deflated 18%)\n",
            "  adding: hrf_256_256_dice_loss_hvr_2/split_2/train/mask/_04_h_0_134.png (deflated 39%)\n",
            "  adding: hrf_256_256_dice_loss_hvr_2/split_2/train/mask/_02_h_2_114.png (deflated 28%)\n",
            "  adding: hrf_256_256_dice_loss_hvr_2/split_2/train/mask/_06_dr_0_35.png (deflated 24%)\n",
            "  adding: hrf_256_256_dice_loss_hvr_2/split_2/train/mask/_10_g_2_58.png (deflated 36%)\n",
            "  adding: hrf_256_256_dice_loss_hvr_2/split_2/train/mask/_13_g_1_131.png (deflated 30%)\n",
            "  adding: hrf_256_256_dice_loss_hvr_2/split_2/train/mask/_02_dr_1_65.png (deflated 26%)\n",
            "  adding: hrf_256_256_dice_loss_hvr_2/split_2/train/mask/_08_h_1_138.png (deflated 85%)\n",
            "  adding: hrf_256_256_dice_loss_hvr_2/split_2/train/mask/_12_g_0_67.png (deflated 24%)\n",
            "  adding: hrf_256_256_dice_loss_hvr_2/split_2/train/mask/_14_h_3_57.png (deflated 29%)\n",
            "  adding: hrf_256_256_dice_loss_hvr_2/split_2/train/mask/_14_dr_1_25.png (deflated 29%)\n",
            "  adding: hrf_256_256_dice_loss_hvr_2/split_2/train/mask/_02_h_2_74.png (deflated 16%)\n",
            "  adding: hrf_256_256_dice_loss_hvr_2/split_2/train/mask/_11_h_0_36.png (deflated 13%)\n",
            "  adding: hrf_256_256_dice_loss_hvr_2/split_2/train/mask/_01_dr_1_135.png (deflated 60%)\n",
            "  adding: hrf_256_256_dice_loss_hvr_2/split_2/train/mask/_14_g_0_38.png (deflated 18%)\n",
            "  adding: hrf_256_256_dice_loss_hvr_2/split_2/train/mask/_03_dr_0_2.png (deflated 80%)\n",
            "  adding: hrf_256_256_dice_loss_hvr_2/split_2/train/mask/_07_g_3_65.png (deflated 24%)\n",
            "  adding: hrf_256_256_dice_loss_hvr_2/split_2/train/mask/_02_dr_2_37.png (deflated 18%)\n",
            "  adding: hrf_256_256_dice_loss_hvr_2/split_2/train/mask/_02_h_3_31.png (deflated 25%)\n",
            "  adding: hrf_256_256_dice_loss_hvr_2/split_2/train/mask/_12_g_1_55.png (deflated 44%)\n",
            "  adding: hrf_256_256_dice_loss_hvr_2/split_2/train/mask/_12_g_0_120.png (deflated 23%)\n",
            "  adding: hrf_256_256_dice_loss_hvr_2/split_2/train/mask/_12_g_3_42.png (deflated 85%)\n",
            "  adding: hrf_256_256_dice_loss_hvr_2/split_2/train/mask/_04_g_2_105.png (deflated 31%)\n",
            "  adding: hrf_256_256_dice_loss_hvr_2/split_2/train/mask/_08_h_2_115.png (deflated 23%)\n",
            "  adding: hrf_256_256_dice_loss_hvr_2/split_2/train/mask/_04_h_0_120.png (deflated 24%)\n",
            "  adding: hrf_256_256_dice_loss_hvr_2/split_2/train/mask/_01_dr_0_57.png (deflated 33%)\n",
            "  adding: hrf_256_256_dice_loss_hvr_2/split_2/train/mask/_08_h_0_52.png (deflated 23%)\n",
            "  adding: hrf_256_256_dice_loss_hvr_2/split_2/train/mask/_11_g_3_1.png (deflated 26%)\n",
            "  adding: hrf_256_256_dice_loss_hvr_2/split_2/train/mask/_11_g_2_58.png (deflated 30%)\n",
            "  adding: hrf_256_256_dice_loss_hvr_2/split_2/train/mask/_12_g_3_70.png (deflated 33%)\n",
            "  adding: hrf_256_256_dice_loss_hvr_2/split_2/train/mask/_02_dr_0_128.png (deflated 42%)\n",
            "  adding: hrf_256_256_dice_loss_hvr_2/split_2/train/mask/_01_g_3_13.png (deflated 85%)\n",
            "  adding: hrf_256_256_dice_loss_hvr_2/split_2/train/mask/_09_g_1_73.png (deflated 27%)\n",
            "  adding: hrf_256_256_dice_loss_hvr_2/split_2/train/mask/_12_dr_3_69.png (deflated 33%)\n",
            "  adding: hrf_256_256_dice_loss_hvr_2/split_2/train/mask/_15_dr_1_10.png (deflated 68%)\n",
            "  adding: hrf_256_256_dice_loss_hvr_2/split_2/train/mask/_12_dr_3_107.png (deflated 27%)\n",
            "  adding: hrf_256_256_dice_loss_hvr_2/split_2/train/mask/_13_h_1_108.png (deflated 22%)\n",
            "  adding: hrf_256_256_dice_loss_hvr_2/split_2/train/mask/_09_g_0_73.png (deflated 26%)\n",
            "  adding: hrf_256_256_dice_loss_hvr_2/split_2/train/mask/_02_dr_3_92.png (deflated 18%)\n",
            "  adding: hrf_256_256_dice_loss_hvr_2/split_2/train/mask/_14_g_0_48.png (deflated 18%)\n",
            "  adding: hrf_256_256_dice_loss_hvr_2/split_2/train/mask/_02_h_1_114.png (deflated 27%)\n",
            "  adding: hrf_256_256_dice_loss_hvr_2/split_2/train/mask/_13_h_3_112.png (deflated 44%)\n",
            "  adding: hrf_256_256_dice_loss_hvr_2/split_2/train/mask/_04_g_3_40.png (deflated 27%)\n",
            "  adding: hrf_256_256_dice_loss_hvr_2/split_2/train/mask/_15_dr_0_113.png (deflated 67%)\n",
            "  adding: hrf_256_256_dice_loss_hvr_2/split_2/train/mask/_12_dr_0_124.png (deflated 44%)\n",
            "  adding: hrf_256_256_dice_loss_hvr_2/split_2/train/mask/_11_g_0_7.png (deflated 33%)\n",
            "  adding: hrf_256_256_dice_loss_hvr_2/split_2/train/mask/_14_h_1_38.png (deflated 29%)\n",
            "  adding: hrf_256_256_dice_loss_hvr_2/split_2/train/mask/_03_h_2_103.png (deflated 19%)\n",
            "  adding: hrf_256_256_dice_loss_hvr_2/split_2/train/mask/_01_dr_0_118.png (deflated 30%)\n",
            "  adding: hrf_256_256_dice_loss_hvr_2/split_2/train/mask/_07_h_0_53.png (deflated 26%)\n",
            "  adding: hrf_256_256_dice_loss_hvr_2/split_2/train/mask/_14_dr_2_2.png (deflated 42%)\n",
            "  adding: hrf_256_256_dice_loss_hvr_2/split_2/train/mask/_06_dr_0_13.png (deflated 85%)\n",
            "  adding: hrf_256_256_dice_loss_hvr_2/split_2/train/mask/_12_dr_1_102.png (deflated 24%)\n",
            "  adding: hrf_256_256_dice_loss_hvr_2/split_2/train/mask/_07_h_2_34.png (deflated 28%)\n",
            "  adding: hrf_256_256_dice_loss_hvr_2/split_2/train/mask/_10_g_0_24.png (deflated 27%)\n",
            "  adding: hrf_256_256_dice_loss_hvr_2/split_2/train/mask/_05_h_1_127.png (deflated 85%)\n",
            "  adding: hrf_256_256_dice_loss_hvr_2/split_2/train/mask/_04_g_1_85.png (deflated 25%)\n",
            "  adding: hrf_256_256_dice_loss_hvr_2/split_2/train/mask/_12_dr_2_115.png (deflated 40%)\n",
            "  adding: hrf_256_256_dice_loss_hvr_2/split_2/train/mask/_07_g_2_71.png (deflated 21%)\n",
            "  adding: hrf_256_256_dice_loss_hvr_2/split_2/train/mask/_07_h_2_54.png (deflated 22%)\n",
            "  adding: hrf_256_256_dice_loss_hvr_2/split_2/train/mask/_13_h_1_110.png (deflated 21%)\n",
            "  adding: hrf_256_256_dice_loss_hvr_2/split_2/train/mask/_08_h_1_132.png (deflated 33%)\n",
            "  adding: hrf_256_256_dice_loss_hvr_2/split_2/train/mask/_10_dr_1_15.png (deflated 23%)\n",
            "  adding: hrf_256_256_dice_loss_hvr_2/split_2/train/mask/_01_dr_3_116.png (deflated 21%)\n",
            "  adding: hrf_256_256_dice_loss_hvr_2/split_2/train/mask/_09_dr_2_121.png (deflated 30%)\n",
            "  adding: hrf_256_256_dice_loss_hvr_2/split_2/train/mask/_07_g_1_134.png (deflated 34%)\n",
            "  adding: hrf_256_256_dice_loss_hvr_2/split_2/train/mask/_03_dr_1_108.png (deflated 54%)\n",
            "  adding: hrf_256_256_dice_loss_hvr_2/split_2/train/mask/_13_h_1_74.png (deflated 25%)\n",
            "  adding: hrf_256_256_dice_loss_hvr_2/split_2/train/mask/_09_g_1_102.png (deflated 23%)\n",
            "  adding: hrf_256_256_dice_loss_hvr_2/split_2/train/mask/_07_h_3_26.png (deflated 20%)\n",
            "  adding: hrf_256_256_dice_loss_hvr_2/split_2/train/mask/_07_g_0_132.png (deflated 31%)\n",
            "  adding: hrf_256_256_dice_loss_hvr_2/split_2/train/mask/_11_h_2_123.png (deflated 21%)\n",
            "  adding: hrf_256_256_dice_loss_hvr_2/split_2/train/mask/_06_dr_1_68.png (deflated 28%)\n",
            "  adding: hrf_256_256_dice_loss_hvr_2/split_2/train/mask/_04_h_2_37.png (deflated 25%)\n",
            "  adding: hrf_256_256_dice_loss_hvr_2/split_2/train/mask/_02_dr_3_117.png (deflated 22%)\n",
            "  adding: hrf_256_256_dice_loss_hvr_2/split_2/train/mask/_07_g_3_54.png (deflated 20%)\n",
            "  adding: hrf_256_256_dice_loss_hvr_2/split_2/train/mask/_12_dr_1_1.png (deflated 85%)\n",
            "  adding: hrf_256_256_dice_loss_hvr_2/split_2/train/mask/_10_dr_3_99.png (deflated 18%)\n",
            "  adding: hrf_256_256_dice_loss_hvr_2/split_2/train/mask/_05_h_0_78.png (deflated 18%)\n",
            "  adding: hrf_256_256_dice_loss_hvr_2/split_2/train/mask/_03_dr_0_72.png (deflated 25%)\n",
            "  adding: hrf_256_256_dice_loss_hvr_2/split_2/train/mask/_07_g_0_13.png (deflated 85%)\n",
            "  adding: hrf_256_256_dice_loss_hvr_2/split_2/train/mask/_15_dr_3_0.png (deflated 85%)\n",
            "  adding: hrf_256_256_dice_loss_hvr_2/split_2/train/mask/_13_g_0_96.png (deflated 23%)\n",
            "  adding: hrf_256_256_dice_loss_hvr_2/split_2/train/mask/_13_g_0_64.png (deflated 24%)\n",
            "  adding: hrf_256_256_dice_loss_hvr_2/split_2/train/mask/_05_h_0_48.png (deflated 22%)\n",
            "  adding: hrf_256_256_dice_loss_hvr_2/split_2/train/mask/_09_g_3_2.png (deflated 29%)\n",
            "  adding: hrf_256_256_dice_loss_hvr_2/split_2/train/mask/_07_g_1_139.png (deflated 85%)\n",
            "  adding: hrf_256_256_dice_loss_hvr_2/split_2/train/mask/_06_dr_2_55.png (deflated 85%)\n",
            "  adding: hrf_256_256_dice_loss_hvr_2/split_2/train/mask/_01_g_3_83.png (deflated 28%)\n",
            "  adding: hrf_256_256_dice_loss_hvr_2/split_2/train/mask/_14_g_2_35.png (deflated 18%)\n",
            "  adding: hrf_256_256_dice_loss_hvr_2/split_2/train/mask/_07_g_1_65.png (deflated 29%)\n",
            "  adding: hrf_256_256_dice_loss_hvr_2/split_2/train/mask/_14_h_2_95.png (deflated 26%)\n",
            "  adding: hrf_256_256_dice_loss_hvr_2/split_2/train/mask/_03_h_3_132.png (deflated 61%)\n",
            "  adding: hrf_256_256_dice_loss_hvr_2/split_2/train/mask/_01_g_0_87.png (deflated 30%)\n",
            "  adding: hrf_256_256_dice_loss_hvr_2/split_2/train/mask/_03_dr_0_45.png (deflated 35%)\n",
            "  adding: hrf_256_256_dice_loss_hvr_2/split_2/train/mask/_01_g_0_120.png (deflated 24%)\n",
            "  adding: hrf_256_256_dice_loss_hvr_2/split_2/train/mask/_02_h_0_14.png (deflated 85%)\n",
            "  adding: hrf_256_256_dice_loss_hvr_2/split_2/train/mask/_10_dr_1_4.png (deflated 24%)\n",
            "  adding: hrf_256_256_dice_loss_hvr_2/split_2/train/mask/_13_h_0_69.png (deflated 48%)\n",
            "  adding: hrf_256_256_dice_loss_hvr_2/split_2/train/mask/_03_dr_0_13.png (deflated 85%)\n",
            "  adding: hrf_256_256_dice_loss_hvr_2/split_2/train/mask/_01_g_0_123.png (deflated 18%)\n",
            "  adding: hrf_256_256_dice_loss_hvr_2/split_2/train/mask/_03_dr_2_92.png (deflated 30%)\n",
            "  adding: hrf_256_256_dice_loss_hvr_2/split_2/train/mask/_02_dr_3_88.png (deflated 23%)\n",
            "  adding: hrf_256_256_dice_loss_hvr_2/split_2/train/mask/_15_dr_2_31.png (deflated 26%)\n",
            "  adding: hrf_256_256_dice_loss_hvr_2/split_2/train/mask/_09_g_3_19.png (deflated 16%)\n",
            "  adding: hrf_256_256_dice_loss_hvr_2/split_2/train/mask/_14_dr_2_65.png (deflated 26%)\n",
            "  adding: hrf_256_256_dice_loss_hvr_2/split_2/train/mask/_14_g_0_133.png (deflated 32%)\n",
            "  adding: hrf_256_256_dice_loss_hvr_2/split_2/train/mask/_12_dr_2_72.png (deflated 24%)\n",
            "  adding: hrf_256_256_dice_loss_hvr_2/split_2/train/mask/_07_g_1_16.png (deflated 33%)\n",
            "  adding: hrf_256_256_dice_loss_hvr_2/split_2/train/mask/_03_dr_2_114.png (deflated 24%)\n",
            "  adding: hrf_256_256_dice_loss_hvr_2/split_2/train/mask/_10_dr_2_79.png (deflated 18%)\n",
            "  adding: hrf_256_256_dice_loss_hvr_2/split_2/train/mask/_03_h_0_10.png (deflated 31%)\n",
            "  adding: hrf_256_256_dice_loss_hvr_2/split_2/train/mask/_11_g_2_130.png (deflated 41%)\n",
            "  adding: hrf_256_256_dice_loss_hvr_2/split_2/train/mask/_10_dr_2_93.png (deflated 21%)\n",
            "  adding: hrf_256_256_dice_loss_hvr_2/split_2/train/mask/_15_dr_0_61.png (deflated 33%)\n",
            "  adding: hrf_256_256_dice_loss_hvr_2/split_2/train/mask/_14_dr_3_110.png (deflated 20%)\n",
            "  adding: hrf_256_256_dice_loss_hvr_2/split_2/train/mask/_04_h_2_53.png (deflated 28%)\n",
            "  adding: hrf_256_256_dice_loss_hvr_2/split_2/train/mask/_09_g_3_51.png (deflated 20%)\n",
            "  adding: hrf_256_256_dice_loss_hvr_2/split_2/train/mask/_04_g_1_14.png (deflated 85%)\n",
            "  adding: hrf_256_256_dice_loss_hvr_2/split_2/train/mask/_05_h_1_77.png (deflated 34%)\n",
            "  adding: hrf_256_256_dice_loss_hvr_2/split_2/train/mask/_15_dr_3_72.png (deflated 24%)\n",
            "  adding: hrf_256_256_dice_loss_hvr_2/split_2/train/mask/_07_h_0_76.png (deflated 36%)\n",
            "  adding: hrf_256_256_dice_loss_hvr_2/split_2/train/mask/_15_dr_3_95.png (deflated 27%)\n",
            "  adding: hrf_256_256_dice_loss_hvr_2/split_2/train/mask/_04_h_2_8.png (deflated 39%)\n",
            "  adding: hrf_256_256_dice_loss_hvr_2/split_2/train/mask/_09_g_3_8.png (deflated 37%)\n",
            "  adding: hrf_256_256_dice_loss_hvr_2/split_2/train/mask/_06_dr_3_52.png (deflated 28%)\n",
            "  adding: hrf_256_256_dice_loss_hvr_2/split_2/train/mask/_07_g_2_34.png (deflated 21%)\n",
            "  adding: hrf_256_256_dice_loss_hvr_2/split_2/train/mask/_12_dr_0_63.png (deflated 33%)\n",
            "  adding: hrf_256_256_dice_loss_hvr_2/split_2/train/mask/_04_g_0_37.png (deflated 19%)\n",
            "  adding: hrf_256_256_dice_loss_hvr_2/split_2/train/mask/_07_h_2_109.png (deflated 40%)\n",
            "  adding: hrf_256_256_dice_loss_hvr_2/split_2/train/mask/_03_dr_0_105.png (deflated 26%)\n",
            "  adding: hrf_256_256_dice_loss_hvr_2/split_2/train/mask/_14_dr_2_10.png (deflated 41%)\n",
            "  adding: hrf_256_256_dice_loss_hvr_2/split_2/train/mask/_06_dr_1_25.png (deflated 20%)\n",
            "  adding: hrf_256_256_dice_loss_hvr_2/split_2/train/mask/_07_g_1_78.png (deflated 22%)\n",
            "  adding: hrf_256_256_dice_loss_hvr_2/split_2/train/mask/_01_dr_1_108.png (deflated 25%)\n",
            "  adding: hrf_256_256_dice_loss_hvr_2/split_2/train/mask/_11_h_0_47.png (deflated 19%)\n",
            "  adding: hrf_256_256_dice_loss_hvr_2/split_2/train/mask/_08_h_1_20.png (deflated 16%)\n",
            "  adding: hrf_256_256_dice_loss_hvr_2/split_2/train/mask/_04_h_0_69.png (deflated 32%)\n",
            "  adding: hrf_256_256_dice_loss_hvr_2/split_2/train/mask/_03_dr_1_5.png (deflated 30%)\n",
            "  adding: hrf_256_256_dice_loss_hvr_2/split_2/train/mask/_11_h_0_138.png (deflated 85%)\n",
            "  adding: hrf_256_256_dice_loss_hvr_2/split_2/train/mask/_15_dr_1_38.png (deflated 21%)\n",
            "  adding: hrf_256_256_dice_loss_hvr_2/split_2/train/mask/_10_g_0_14.png (deflated 85%)\n",
            "  adding: hrf_256_256_dice_loss_hvr_2/split_2/train/mask/_04_g_0_36.png (deflated 20%)\n",
            "  adding: hrf_256_256_dice_loss_hvr_2/split_2/train/mask/_04_h_2_79.png (deflated 31%)\n",
            "  adding: hrf_256_256_dice_loss_hvr_2/split_2/train/mask/_11_g_2_105.png (deflated 21%)\n",
            "  adding: hrf_256_256_dice_loss_hvr_2/split_2/train/mask/_14_g_1_43.png (deflated 18%)\n",
            "  adding: hrf_256_256_dice_loss_hvr_2/split_2/train/mask/_12_dr_0_36.png (deflated 30%)\n",
            "  adding: hrf_256_256_dice_loss_hvr_2/split_2/train/mask/_03_h_3_12.png (deflated 24%)\n",
            "  adding: hrf_256_256_dice_loss_hvr_2/split_2/train/mask/_03_dr_2_112.png (deflated 85%)\n",
            "  adding: hrf_256_256_dice_loss_hvr_2/split_2/train/mask/_12_g_3_14.png (deflated 85%)\n",
            "  adding: hrf_256_256_dice_loss_hvr_2/split_2/train/mask/_08_h_3_133.png (deflated 34%)\n",
            "  adding: hrf_256_256_dice_loss_hvr_2/split_2/train/mask/_10_dr_1_115.png (deflated 25%)\n",
            "  adding: hrf_256_256_dice_loss_hvr_2/split_2/train/mask/_12_g_0_92.png (deflated 27%)\n",
            "  adding: hrf_256_256_dice_loss_hvr_2/split_2/train/mask/_02_h_3_95.png (deflated 24%)\n",
            "  adding: hrf_256_256_dice_loss_hvr_2/split_2/train/mask/_06_dr_3_121.png (deflated 22%)\n",
            "  adding: hrf_256_256_dice_loss_hvr_2/split_2/train/mask/_01_dr_0_10.png (deflated 32%)\n",
            "  adding: hrf_256_256_dice_loss_hvr_2/split_2/train/mask/_08_h_0_66.png (deflated 28%)\n",
            "  adding: hrf_256_256_dice_loss_hvr_2/split_2/train/mask/_07_g_1_52.png (deflated 24%)\n",
            "  adding: hrf_256_256_dice_loss_hvr_2/split_2/train/mask/_12_g_3_124.png (deflated 52%)\n",
            "  adding: hrf_256_256_dice_loss_hvr_2/split_2/train/mask/_02_dr_3_98.png (deflated 29%)\n",
            "  adding: hrf_256_256_dice_loss_hvr_2/split_2/train/mask/_08_h_1_122.png (deflated 28%)\n",
            "  adding: hrf_256_256_dice_loss_hvr_2/split_2/train/mask/_14_h_0_60.png (deflated 23%)\n",
            "  adding: hrf_256_256_dice_loss_hvr_2/split_2/train/mask/_14_h_0_126.png (deflated 85%)\n",
            "  adding: hrf_256_256_dice_loss_hvr_2/split_2/train/mask/_09_g_1_108.png (deflated 23%)\n",
            "  adding: hrf_256_256_dice_loss_hvr_2/split_2/train/mask/_03_dr_2_127.png (deflated 85%)\n",
            "  adding: hrf_256_256_dice_loss_hvr_2/split_2/train/mask/_07_h_0_52.png (deflated 23%)\n",
            "  adding: hrf_256_256_dice_loss_hvr_2/split_2/train/mask/_03_dr_0_136.png (deflated 27%)\n",
            "  adding: hrf_256_256_dice_loss_hvr_2/split_2/train/mask/_03_dr_1_1.png (deflated 85%)\n",
            "  adding: hrf_256_256_dice_loss_hvr_2/split_2/train/mask/_14_g_1_30.png (deflated 26%)\n",
            "  adding: hrf_256_256_dice_loss_hvr_2/split_2/train/mask/_11_g_1_103.png (deflated 18%)\n",
            "  adding: hrf_256_256_dice_loss_hvr_2/split_2/train/mask/_06_dr_0_1.png (deflated 85%)\n",
            "  adding: hrf_256_256_dice_loss_hvr_2/split_2/train/mask/_06_dr_1_30.png (deflated 30%)\n",
            "  adding: hrf_256_256_dice_loss_hvr_2/split_2/train/mask/_02_h_2_120.png (deflated 17%)\n",
            "  adding: hrf_256_256_dice_loss_hvr_2/split_2/train/mask/_04_g_3_64.png (deflated 29%)\n",
            "  adding: hrf_256_256_dice_loss_hvr_2/split_2/train/mask/_15_dr_3_10.png (deflated 38%)\n",
            "  adding: hrf_256_256_dice_loss_hvr_2/split_2/train/mask/_03_dr_3_30.png (deflated 23%)\n",
            "  adding: hrf_256_256_dice_loss_hvr_2/split_2/train/mask/_01_g_3_78.png (deflated 23%)\n",
            "  adding: hrf_256_256_dice_loss_hvr_2/split_2/train/mask/_10_g_0_51.png (deflated 20%)\n",
            "  adding: hrf_256_256_dice_loss_hvr_2/split_2/train/mask/_13_g_3_7.png (deflated 37%)\n",
            "  adding: hrf_256_256_dice_loss_hvr_2/split_2/train/mask/_13_g_2_25.png (deflated 30%)\n",
            "  adding: hrf_256_256_dice_loss_hvr_2/split_2/train/mask/_14_g_3_0.png (deflated 85%)\n",
            "  adding: hrf_256_256_dice_loss_hvr_2/split_2/train/mask/_11_h_2_121.png (deflated 26%)\n",
            "  adding: hrf_256_256_dice_loss_hvr_2/split_2/train/mask/_09_dr_2_123.png (deflated 38%)\n",
            "  adding: hrf_256_256_dice_loss_hvr_2/split_2/train/mask/_03_dr_2_24.png (deflated 24%)\n",
            "  adding: hrf_256_256_dice_loss_hvr_2/split_2/train/mask/_14_dr_2_66.png (deflated 30%)\n",
            "  adding: hrf_256_256_dice_loss_hvr_2/split_2/train/mask/_04_g_1_73.png (deflated 24%)\n",
            "  adding: hrf_256_256_dice_loss_hvr_2/split_2/train/mask/_14_g_3_62.png (deflated 26%)\n",
            "  adding: hrf_256_256_dice_loss_hvr_2/split_2/train/mask/_04_g_0_7.png (deflated 26%)\n",
            "  adding: hrf_256_256_dice_loss_hvr_2/split_2/train/mask/_08_h_1_41.png (deflated 85%)\n",
            "  adding: hrf_256_256_dice_loss_hvr_2/split_2/train/mask/_14_g_0_117.png (deflated 33%)\n",
            "  adding: hrf_256_256_dice_loss_hvr_2/split_2/train/mask/_01_dr_0_127.png (deflated 85%)\n",
            "  adding: hrf_256_256_dice_loss_hvr_2/split_2/train/mask/_12_dr_0_44.png (deflated 18%)\n",
            "  adding: hrf_256_256_dice_loss_hvr_2/split_2/train/mask/_10_dr_1_128.png (deflated 38%)\n",
            "  adding: hrf_256_256_dice_loss_hvr_2/split_2/train/mask/_03_dr_2_132.png (deflated 28%)\n",
            "  adding: hrf_256_256_dice_loss_hvr_2/split_2/train/mask/_04_h_1_75.png (deflated 22%)\n",
            "  adding: hrf_256_256_dice_loss_hvr_2/split_2/train/mask/_08_h_0_14.png (deflated 85%)\n",
            "  adding: hrf_256_256_dice_loss_hvr_2/split_2/train/mask/_10_g_3_44.png (deflated 21%)\n",
            "  adding: hrf_256_256_dice_loss_hvr_2/split_2/train/mask/_15_dr_2_117.png (deflated 24%)\n",
            "  adding: hrf_256_256_dice_loss_hvr_2/split_2/train/mask/_04_h_2_52.png (deflated 27%)\n",
            "  adding: hrf_256_256_dice_loss_hvr_2/split_2/train/mask/_07_g_2_98.png (deflated 85%)\n",
            "  adding: hrf_256_256_dice_loss_hvr_2/split_2/train/mask/_14_g_1_66.png (deflated 25%)\n",
            "  adding: hrf_256_256_dice_loss_hvr_2/split_2/train/mask/_12_g_2_26.png (deflated 37%)\n",
            "  adding: hrf_256_256_dice_loss_hvr_2/split_2/train/mask/_10_g_3_132.png (deflated 37%)\n",
            "  adding: hrf_256_256_dice_loss_hvr_2/split_2/train/mask/_06_dr_2_32.png (deflated 20%)\n",
            "  adding: hrf_256_256_dice_loss_hvr_2/split_2/train/mask/_12_dr_3_114.png (deflated 25%)\n",
            "  adding: hrf_256_256_dice_loss_hvr_2/split_2/train/mask/_12_dr_0_77.png (deflated 63%)\n",
            "  adding: hrf_256_256_dice_loss_hvr_2/split_2/train/mask/_13_g_2_56.png (deflated 85%)\n",
            "  adding: hrf_256_256_dice_loss_hvr_2/split_2/train/mask/_09_dr_2_72.png (deflated 20%)\n",
            "  adding: hrf_256_256_dice_loss_hvr_2/split_2/train/mask/_14_dr_1_39.png (deflated 27%)\n",
            "  adding: hrf_256_256_dice_loss_hvr_2/split_2/train/mask/_01_dr_0_66.png (deflated 31%)\n",
            "  adding: hrf_256_256_dice_loss_hvr_2/split_2/train/mask/_09_dr_0_40.png (deflated 33%)\n",
            "  adding: hrf_256_256_dice_loss_hvr_2/split_2/train/mask/_15_dr_0_0.png (deflated 85%)\n",
            "  adding: hrf_256_256_dice_loss_hvr_2/split_2/train/mask/_13_g_2_15.png (deflated 69%)\n",
            "  adding: hrf_256_256_dice_loss_hvr_2/split_2/train/mask/_07_h_1_126.png (deflated 85%)\n",
            "  adding: hrf_256_256_dice_loss_hvr_2/split_2/train/mask/_05_h_2_80.png (deflated 16%)\n",
            "  adding: hrf_256_256_dice_loss_hvr_2/split_2/train/mask/_07_g_1_4.png (deflated 30%)\n",
            "  adding: hrf_256_256_dice_loss_hvr_2/split_2/train/mask/_10_g_2_96.png (deflated 20%)\n",
            "  adding: hrf_256_256_dice_loss_hvr_2/split_2/train/mask/_04_h_1_129.png (deflated 38%)\n",
            "  adding: hrf_256_256_dice_loss_hvr_2/split_2/train/mask/_14_g_0_78.png (deflated 26%)\n",
            "  adding: hrf_256_256_dice_loss_hvr_2/split_2/train/mask/_12_g_3_115.png (deflated 23%)\n",
            "  adding: hrf_256_256_dice_loss_hvr_2/split_2/train/mask/_14_dr_1_89.png (deflated 35%)\n",
            "  adding: hrf_256_256_dice_loss_hvr_2/split_2/train/mask/_06_dr_2_5.png (deflated 31%)\n",
            "  adding: hrf_256_256_dice_loss_hvr_2/split_2/train/mask/_14_h_2_73.png (deflated 21%)\n",
            "  adding: hrf_256_256_dice_loss_hvr_2/split_2/train/mask/_04_g_2_123.png (deflated 27%)\n",
            "  adding: hrf_256_256_dice_loss_hvr_2/split_2/train/mask/_07_h_2_127.png (deflated 85%)\n",
            "  adding: hrf_256_256_dice_loss_hvr_2/split_2/train/mask/_01_dr_1_17.png (deflated 27%)\n",
            "  adding: hrf_256_256_dice_loss_hvr_2/split_2/train/mask/_09_g_3_6.png (deflated 29%)\n",
            "  adding: hrf_256_256_dice_loss_hvr_2/split_2/train/mask/_09_g_0_0.png (deflated 85%)\n",
            "  adding: hrf_256_256_dice_loss_hvr_2/split_2/train/mask/_11_h_0_32.png (deflated 18%)\n",
            "  adding: hrf_256_256_dice_loss_hvr_2/split_2/train/mask/_14_dr_3_59.png (deflated 19%)\n",
            "  adding: hrf_256_256_dice_loss_hvr_2/split_2/train/mask/_08_h_0_21.png (deflated 15%)\n",
            "  adding: hrf_256_256_dice_loss_hvr_2/split_2/train/mask/_04_h_3_139.png (deflated 32%)\n",
            "  adding: hrf_256_256_dice_loss_hvr_2/split_2/train/mask/_02_dr_1_110.png (deflated 29%)\n",
            "  adding: hrf_256_256_dice_loss_hvr_2/split_2/train/mask/_11_h_2_80.png (deflated 23%)\n",
            "  adding: hrf_256_256_dice_loss_hvr_2/split_2/train/mask/_12_dr_3_47.png (deflated 28%)\n",
            "  adding: hrf_256_256_dice_loss_hvr_2/split_2/train/mask/_07_g_3_118.png (deflated 23%)\n",
            "  adding: hrf_256_256_dice_loss_hvr_2/split_2/train/mask/_02_h_2_129.png (deflated 47%)\n",
            "  adding: hrf_256_256_dice_loss_hvr_2/split_2/train/mask/_11_h_1_38.png (deflated 15%)\n",
            "  adding: hrf_256_256_dice_loss_hvr_2/split_2/train/mask/_04_g_3_126.png (deflated 85%)\n",
            "  adding: hrf_256_256_dice_loss_hvr_2/split_2/train/mask/_05_h_3_21.png (deflated 17%)\n",
            "  adding: hrf_256_256_dice_loss_hvr_2/split_2/train/mask/_03_dr_3_51.png (deflated 16%)\n",
            "  adding: hrf_256_256_dice_loss_hvr_2/split_2/train/mask/_15_dr_3_49.png (deflated 23%)\n",
            "  adding: hrf_256_256_dice_loss_hvr_2/split_2/train/mask/_07_h_0_44.png (deflated 28%)\n",
            "  adding: hrf_256_256_dice_loss_hvr_2/split_2/train/mask/_10_g_0_77.png (deflated 24%)\n",
            "  adding: hrf_256_256_dice_loss_hvr_2/split_2/train/mask/_13_h_3_108.png (deflated 26%)\n",
            "  adding: hrf_256_256_dice_loss_hvr_2/split_2/train/mask/_05_h_1_3.png (deflated 32%)\n",
            "  adding: hrf_256_256_dice_loss_hvr_2/split_2/train/mask/_05_h_0_131.png (deflated 50%)\n",
            "  adding: hrf_256_256_dice_loss_hvr_2/split_2/train/mask/_10_dr_3_18.png (deflated 25%)\n",
            "  adding: hrf_256_256_dice_loss_hvr_2/split_2/train/mask/_11_h_3_23.png (deflated 26%)\n",
            "  adding: hrf_256_256_dice_loss_hvr_2/split_2/train/mask/_03_dr_2_74.png (deflated 24%)\n",
            "  adding: hrf_256_256_dice_loss_hvr_2/split_2/train/mask/_03_dr_2_28.png (deflated 85%)\n",
            "  adding: hrf_256_256_dice_loss_hvr_2/split_2/train/mask/_14_dr_0_130.png (deflated 46%)\n",
            "  adding: hrf_256_256_dice_loss_hvr_2/split_2/train/mask/_14_h_3_55.png (deflated 85%)\n",
            "  adding: hrf_256_256_dice_loss_hvr_2/split_2/train/mask/_09_g_2_102.png (deflated 21%)\n",
            "  adding: hrf_256_256_dice_loss_hvr_2/split_2/train/mask/_05_h_3_88.png (deflated 24%)\n",
            "  adding: hrf_256_256_dice_loss_hvr_2/split_2/train/mask/_12_dr_0_14.png (deflated 85%)\n",
            "  adding: hrf_256_256_dice_loss_hvr_2/split_2/train/mask/_13_h_2_96.png (deflated 17%)\n",
            "  adding: hrf_256_256_dice_loss_hvr_2/split_2/train/mask/_14_h_2_100.png (deflated 21%)\n",
            "  adding: hrf_256_256_dice_loss_hvr_2/split_2/train/mask/_07_g_1_32.png (deflated 20%)\n",
            "  adding: hrf_256_256_dice_loss_hvr_2/split_2/train/mask/_03_dr_3_107.png (deflated 19%)\n",
            "  adding: hrf_256_256_dice_loss_hvr_2/split_2/train/mask/_03_dr_2_46.png (deflated 18%)\n",
            "  adding: hrf_256_256_dice_loss_hvr_2/split_2/train/mask/_07_g_0_120.png (deflated 24%)\n",
            "  adding: hrf_256_256_dice_loss_hvr_2/split_2/train/mask/_04_g_3_25.png (deflated 31%)\n",
            "  adding: hrf_256_256_dice_loss_hvr_2/split_2/train/mask/_08_h_0_45.png (deflated 20%)\n",
            "  adding: hrf_256_256_dice_loss_hvr_2/split_2/train/mask/_04_h_1_20.png (deflated 19%)\n",
            "  adding: hrf_256_256_dice_loss_hvr_2/split_2/train/mask/_06_dr_3_86.png (deflated 26%)\n",
            "  adding: hrf_256_256_dice_loss_hvr_2/split_2/train/mask/_04_h_2_134.png (deflated 28%)\n",
            "  adding: hrf_256_256_dice_loss_hvr_2/split_2/train/mask/_01_dr_3_49.png (deflated 17%)\n",
            "  adding: hrf_256_256_dice_loss_hvr_2/split_2/train/mask/_08_h_1_18.png (deflated 20%)\n",
            "  adding: hrf_256_256_dice_loss_hvr_2/split_2/train/mask/_14_h_3_95.png (deflated 23%)\n",
            "  adding: hrf_256_256_dice_loss_hvr_2/split_2/train/mask/_03_h_1_14.png (deflated 85%)\n",
            "  adding: hrf_256_256_dice_loss_hvr_2/split_2/train/mask/_02_dr_1_64.png (deflated 28%)\n",
            "  adding: hrf_256_256_dice_loss_hvr_2/split_2/train/mask/_10_dr_2_73.png (deflated 25%)\n",
            "  adding: hrf_256_256_dice_loss_hvr_2/split_2/train/mask/_02_dr_2_52.png (deflated 20%)\n",
            "  adding: hrf_256_256_dice_loss_hvr_2/split_2/train/mask/_09_g_1_82.png (deflated 36%)\n",
            "  adding: hrf_256_256_dice_loss_hvr_2/split_2/train/mask/_10_g_3_23.png (deflated 25%)\n",
            "  adding: hrf_256_256_dice_loss_hvr_2/split_2/train/mask/_12_g_1_129.png (deflated 30%)\n",
            "  adding: hrf_256_256_dice_loss_hvr_2/split_2/train/mask/_06_dr_0_51.png (deflated 21%)\n",
            "  adding: hrf_256_256_dice_loss_hvr_2/split_2/train/mask/_10_g_1_21.png (deflated 25%)\n",
            "  adding: hrf_256_256_dice_loss_hvr_2/split_2/train/mask/_09_g_3_80.png (deflated 16%)\n",
            "  adding: hrf_256_256_dice_loss_hvr_2/split_2/train/mask/_03_dr_0_33.png (deflated 24%)\n",
            "  adding: hrf_256_256_dice_loss_hvr_2/split_2/train/mask/_14_g_2_137.png (deflated 27%)\n",
            "  adding: hrf_256_256_dice_loss_hvr_2/split_2/train/mask/_14_g_2_34.png (deflated 16%)\n",
            "  adding: hrf_256_256_dice_loss_hvr_2/split_2/train/mask/_01_dr_3_72.png (deflated 18%)\n",
            "  adding: hrf_256_256_dice_loss_hvr_2/split_2/train/mask/_01_dr_3_109.png (deflated 15%)\n",
            "  adding: hrf_256_256_dice_loss_hvr_2/split_2/train/mask/_12_g_3_62.png (deflated 20%)\n",
            "  adding: hrf_256_256_dice_loss_hvr_2/split_2/train/mask/_10_dr_2_38.png (deflated 22%)\n",
            "  adding: hrf_256_256_dice_loss_hvr_2/split_2/train/mask/_10_g_3_116.png (deflated 22%)\n",
            "  adding: hrf_256_256_dice_loss_hvr_2/split_2/train/mask/_13_g_3_37.png (deflated 14%)\n",
            "  adding: hrf_256_256_dice_loss_hvr_2/split_2/train/mask/_14_dr_0_112.png (deflated 85%)\n",
            "  adding: hrf_256_256_dice_loss_hvr_2/split_2/train/mask/_10_g_1_133.png (deflated 51%)\n",
            "  adding: hrf_256_256_dice_loss_hvr_2/split_2/train/mask/_14_g_0_112.png (deflated 85%)\n",
            "  adding: hrf_256_256_dice_loss_hvr_2/split_2/train/mask/_10_dr_1_66.png (deflated 26%)\n",
            "  adding: hrf_256_256_dice_loss_hvr_2/split_2/train/mask/_12_g_3_58.png (deflated 22%)\n",
            "  adding: hrf_256_256_dice_loss_hvr_2/split_2/train/mask/_04_h_0_27.png (deflated 85%)\n",
            "  adding: hrf_256_256_dice_loss_hvr_2/split_2/train/mask/_14_dr_3_56.png (deflated 48%)\n",
            "  adding: hrf_256_256_dice_loss_hvr_2/split_2/train/mask/_05_h_3_40.png (deflated 24%)\n",
            "  adding: hrf_256_256_dice_loss_hvr_2/split_2/train/mask/_13_g_1_92.png (deflated 26%)\n",
            "  adding: hrf_256_256_dice_loss_hvr_2/split_2/train/mask/_10_g_2_15.png (deflated 62%)\n",
            "  adding: hrf_256_256_dice_loss_hvr_2/split_2/train/mask/_10_g_3_53.png (deflated 25%)\n",
            "  adding: hrf_256_256_dice_loss_hvr_2/split_2/train/mask/_14_g_2_40.png (deflated 21%)\n",
            "  adding: hrf_256_256_dice_loss_hvr_2/split_2/train/mask/_05_h_1_111.png (deflated 85%)\n",
            "  adding: hrf_256_256_dice_loss_hvr_2/split_2/train/mask/_05_h_1_136.png (deflated 29%)\n",
            "  adding: hrf_256_256_dice_loss_hvr_2/split_2/train/mask/_01_dr_0_102.png (deflated 16%)\n",
            "  adding: hrf_256_256_dice_loss_hvr_2/split_2/train/mask/_02_dr_0_9.png (deflated 70%)\n",
            "  adding: hrf_256_256_dice_loss_hvr_2/split_2/train/mask/_04_g_1_1.png (deflated 85%)\n",
            "  adding: hrf_256_256_dice_loss_hvr_2/split_2/train/mask/_02_dr_2_132.png (deflated 41%)\n",
            "  adding: hrf_256_256_dice_loss_hvr_2/split_2/train/mask/_05_h_3_67.png (deflated 22%)\n",
            "  adding: hrf_256_256_dice_loss_hvr_2/split_2/train/mask/_06_dr_1_128.png (deflated 41%)\n",
            "  adding: hrf_256_256_dice_loss_hvr_2/split_2/train/mask/_10_dr_3_11.png (deflated 49%)\n",
            "  adding: hrf_256_256_dice_loss_hvr_2/split_2/train/mask/_09_g_0_11.png (deflated 27%)\n",
            "  adding: hrf_256_256_dice_loss_hvr_2/split_2/train/mask/_04_h_1_18.png (deflated 23%)\n",
            "  adding: hrf_256_256_dice_loss_hvr_2/split_2/train/mask/_07_g_1_123.png (deflated 36%)\n",
            "  adding: hrf_256_256_dice_loss_hvr_2/split_2/train/mask/_07_h_3_51.png (deflated 18%)\n",
            "  adding: hrf_256_256_dice_loss_hvr_2/split_2/train/mask/_01_g_3_127.png (deflated 85%)\n",
            "  adding: hrf_256_256_dice_loss_hvr_2/split_2/train/mask/_12_g_3_80.png (deflated 18%)\n",
            "  adding: hrf_256_256_dice_loss_hvr_2/split_2/train/mask/_13_h_1_107.png (deflated 17%)\n",
            "  adding: hrf_256_256_dice_loss_hvr_2/split_2/train/mask/_11_g_3_74.png (deflated 21%)\n",
            "  adding: hrf_256_256_dice_loss_hvr_2/split_2/train/mask/_12_g_3_29.png (deflated 20%)\n",
            "  adding: hrf_256_256_dice_loss_hvr_2/split_2/train/mask/_14_h_0_98.png (deflated 85%)\n",
            "  adding: hrf_256_256_dice_loss_hvr_2/split_2/train/mask/_11_h_0_79.png (deflated 19%)\n",
            "  adding: hrf_256_256_dice_loss_hvr_2/split_2/train/mask/_01_g_0_52.png (deflated 28%)\n",
            "  adding: hrf_256_256_dice_loss_hvr_2/split_2/train/mask/_04_g_3_76.png (deflated 25%)\n",
            "  adding: hrf_256_256_dice_loss_hvr_2/split_2/train/mask/_01_g_1_64.png (deflated 41%)\n",
            "  adding: hrf_256_256_dice_loss_hvr_2/split_2/train/mask/_13_h_3_98.png (deflated 85%)\n",
            "  adding: hrf_256_256_dice_loss_hvr_2/split_2/train/mask/_12_dr_3_12.png (deflated 85%)\n",
            "  adding: hrf_256_256_dice_loss_hvr_2/split_2/train/mask/_13_g_0_106.png (deflated 21%)\n",
            "  adding: hrf_256_256_dice_loss_hvr_2/split_2/train/mask/_09_dr_0_120.png (deflated 32%)\n",
            "  adding: hrf_256_256_dice_loss_hvr_2/split_2/train/mask/_02_dr_3_131.png (deflated 24%)\n",
            "  adding: hrf_256_256_dice_loss_hvr_2/split_2/train/mask/_08_h_1_77.png (deflated 29%)\n",
            "  adding: hrf_256_256_dice_loss_hvr_2/split_2/train/mask/_04_g_3_93.png (deflated 25%)\n",
            "  adding: hrf_256_256_dice_loss_hvr_2/split_2/train/mask/_08_h_2_139.png (deflated 85%)\n",
            "  adding: hrf_256_256_dice_loss_hvr_2/split_2/train/mask/_04_g_3_56.png (deflated 40%)\n",
            "  adding: hrf_256_256_dice_loss_hvr_2/split_2/train/mask/_07_g_1_69.png (deflated 43%)\n",
            "  adding: hrf_256_256_dice_loss_hvr_2/split_2/train/mask/_01_dr_2_126.png (deflated 85%)\n",
            "  adding: hrf_256_256_dice_loss_hvr_2/split_2/train/mask/_04_h_1_82.png (deflated 22%)\n",
            "  adding: hrf_256_256_dice_loss_hvr_2/split_2/train/mask/_11_g_1_128.png (deflated 67%)\n",
            "  adding: hrf_256_256_dice_loss_hvr_2/split_2/train/mask/_03_dr_3_115.png (deflated 27%)\n",
            "  adding: hrf_256_256_dice_loss_hvr_2/split_2/train/mask/_12_g_1_34.png (deflated 27%)\n",
            "  adding: hrf_256_256_dice_loss_hvr_2/split_2/train/mask/_14_dr_3_101.png (deflated 23%)\n",
            "  adding: hrf_256_256_dice_loss_hvr_2/split_2/train/mask/_05_h_0_24.png (deflated 37%)\n",
            "  adding: hrf_256_256_dice_loss_hvr_2/split_2/train/mask/_02_h_3_7.png (deflated 35%)\n",
            "  adding: hrf_256_256_dice_loss_hvr_2/split_2/train/mask/_12_g_2_103.png (deflated 23%)\n",
            "  adding: hrf_256_256_dice_loss_hvr_2/split_2/train/mask/_07_g_0_54.png (deflated 14%)\n",
            "  adding: hrf_256_256_dice_loss_hvr_2/split_2/train/mask/_04_g_2_134.png (deflated 49%)\n",
            "  adding: hrf_256_256_dice_loss_hvr_2/split_2/train/mask/_13_h_0_53.png (deflated 21%)\n",
            "  adding: hrf_256_256_dice_loss_hvr_2/split_2/train/mask/_13_h_2_13.png (deflated 85%)\n",
            "  adding: hrf_256_256_dice_loss_hvr_2/split_2/train/mask/_11_h_1_118.png (deflated 29%)\n",
            "  adding: hrf_256_256_dice_loss_hvr_2/split_2/train/mask/_15_dr_1_17.png (deflated 28%)\n",
            "  adding: hrf_256_256_dice_loss_hvr_2/split_2/train/mask/_13_g_2_9.png (deflated 42%)\n",
            "  adding: hrf_256_256_dice_loss_hvr_2/split_2/train/mask/_12_g_2_138.png (deflated 85%)\n",
            "  adding: hrf_256_256_dice_loss_hvr_2/split_2/train/mask/_05_h_3_90.png (deflated 26%)\n",
            "  adding: hrf_256_256_dice_loss_hvr_2/split_2/train/mask/_10_g_3_40.png (deflated 21%)\n",
            "  adding: hrf_256_256_dice_loss_hvr_2/split_2/train/mask/_09_dr_3_131.png (deflated 31%)\n",
            "  adding: hrf_256_256_dice_loss_hvr_2/split_2/train/mask/_09_dr_2_82.png (deflated 22%)\n",
            "  adding: hrf_256_256_dice_loss_hvr_2/split_2/train/mask/_14_dr_0_70.png (deflated 73%)\n",
            "  adding: hrf_256_256_dice_loss_hvr_2/split_2/train/mask/_14_g_3_13.png (deflated 48%)\n",
            "  adding: hrf_256_256_dice_loss_hvr_2/split_2/train/mask/_02_dr_0_129.png (deflated 61%)\n",
            "  adding: hrf_256_256_dice_loss_hvr_2/split_2/train/mask/_14_h_2_45.png (deflated 22%)\n",
            "  adding: hrf_256_256_dice_loss_hvr_2/split_2/train/mask/_04_h_2_135.png (deflated 40%)\n",
            "  adding: hrf_256_256_dice_loss_hvr_2/split_2/train/mask/_03_h_2_11.png (deflated 72%)\n",
            "  adding: hrf_256_256_dice_loss_hvr_2/split_2/train/mask/_14_g_2_20.png (deflated 21%)\n",
            "  adding: hrf_256_256_dice_loss_hvr_2/split_2/train/mask/_03_dr_2_91.png (deflated 23%)\n",
            "  adding: hrf_256_256_dice_loss_hvr_2/split_2/train/mask/_11_h_3_104.png (deflated 18%)\n",
            "  adding: hrf_256_256_dice_loss_hvr_2/split_2/train/mask/_14_g_1_2.png (deflated 29%)\n",
            "  adding: hrf_256_256_dice_loss_hvr_2/split_2/train/mask/_05_h_1_43.png (deflated 27%)\n",
            "  adding: hrf_256_256_dice_loss_hvr_2/split_2/train/mask/_04_g_0_126.png (deflated 85%)\n",
            "  adding: hrf_256_256_dice_loss_hvr_2/split_2/train/mask/_01_g_2_39.png (deflated 31%)\n",
            "  adding: hrf_256_256_dice_loss_hvr_2/split_2/train/mask/_02_h_2_122.png (deflated 23%)\n",
            "  adding: hrf_256_256_dice_loss_hvr_2/split_2/train/mask/_13_g_1_91.png (deflated 25%)\n",
            "  adding: hrf_256_256_dice_loss_hvr_2/split_2/train/mask/_09_g_0_97.png (deflated 73%)\n",
            "  adding: hrf_256_256_dice_loss_hvr_2/split_2/train/mask/_07_h_1_93.png (deflated 23%)\n",
            "  adding: hrf_256_256_dice_loss_hvr_2/split_2/train/mask/_09_g_0_95.png (deflated 29%)\n",
            "  adding: hrf_256_256_dice_loss_hvr_2/split_2/train/mask/_09_g_2_18.png (deflated 30%)\n",
            "  adding: hrf_256_256_dice_loss_hvr_2/split_2/train/mask/_07_h_3_114.png (deflated 18%)\n",
            "  adding: hrf_256_256_dice_loss_hvr_2/split_2/train/mask/_02_dr_2_112.png (deflated 85%)\n",
            "  adding: hrf_256_256_dice_loss_hvr_2/split_2/train/mask/_13_h_2_54.png (deflated 16%)\n",
            "  adding: hrf_256_256_dice_loss_hvr_2/split_2/train/mask/_11_g_3_24.png (deflated 21%)\n",
            "  adding: hrf_256_256_dice_loss_hvr_2/split_2/train/mask/_06_dr_2_110.png (deflated 21%)\n",
            "  adding: hrf_256_256_dice_loss_hvr_2/split_2/train/mask/_14_h_3_126.png (deflated 85%)\n",
            "  adding: hrf_256_256_dice_loss_hvr_2/split_2/train/mask/_07_g_3_99.png (deflated 20%)\n",
            "  adding: hrf_256_256_dice_loss_hvr_2/split_2/train/mask/_05_h_3_89.png (deflated 22%)\n",
            "  adding: hrf_256_256_dice_loss_hvr_2/split_2/train/mask/_10_g_3_76.png (deflated 28%)\n",
            "  adding: hrf_256_256_dice_loss_hvr_2/split_2/train/mask/_04_h_3_27.png (deflated 42%)\n",
            "  adding: hrf_256_256_dice_loss_hvr_2/split_2/train/mask/_13_g_0_43.png (deflated 30%)\n",
            "  adding: hrf_256_256_dice_loss_hvr_2/split_2/train/mask/_12_g_0_33.png (deflated 23%)\n",
            "  adding: hrf_256_256_dice_loss_hvr_2/split_2/train/mask/_04_h_1_49.png (deflated 22%)\n",
            "  adding: hrf_256_256_dice_loss_hvr_2/split_2/train/mask/_14_dr_3_129.png (deflated 39%)\n",
            "  adding: hrf_256_256_dice_loss_hvr_2/split_2/train/mask/_01_dr_1_57.png (deflated 30%)\n",
            "  adding: hrf_256_256_dice_loss_hvr_2/split_2/train/mask/_03_dr_2_59.png (deflated 27%)\n",
            "  adding: hrf_256_256_dice_loss_hvr_2/split_2/train/mask/_13_g_2_21.png (deflated 17%)\n",
            "  adding: hrf_256_256_dice_loss_hvr_2/split_2/train/mask/_13_g_0_17.png (deflated 21%)\n",
            "  adding: hrf_256_256_dice_loss_hvr_2/split_2/train/mask/_01_g_3_99.png (deflated 27%)\n",
            "  adding: hrf_256_256_dice_loss_hvr_2/split_2/train/mask/_14_g_3_52.png (deflated 20%)\n",
            "  adding: hrf_256_256_dice_loss_hvr_2/split_2/train/mask/_10_g_0_16.png (deflated 29%)\n",
            "  adding: hrf_256_256_dice_loss_hvr_2/split_2/train/mask/_13_g_1_62.png (deflated 31%)\n",
            "  adding: hrf_256_256_dice_loss_hvr_2/split_2/train/mask/_14_h_3_92.png (deflated 20%)\n",
            "  adding: hrf_256_256_dice_loss_hvr_2/split_2/train/mask/_07_g_2_10.png (deflated 32%)\n",
            "  adding: hrf_256_256_dice_loss_hvr_2/split_2/train/mask/_11_g_1_110.png (deflated 36%)\n",
            "  adding: hrf_256_256_dice_loss_hvr_2/split_2/train/mask/_13_h_1_29.png (deflated 21%)\n",
            "  adding: hrf_256_256_dice_loss_hvr_2/split_2/train/mask/_08_h_2_128.png (deflated 33%)\n",
            "  adding: hrf_256_256_dice_loss_hvr_2/split_2/train/mask/_07_g_0_70.png (deflated 41%)\n",
            "  adding: hrf_256_256_dice_loss_hvr_2/split_2/train/mask/_12_g_0_116.png (deflated 22%)\n",
            "  adding: hrf_256_256_dice_loss_hvr_2/split_2/train/mask/_11_h_1_69.png (deflated 37%)\n",
            "  adding: hrf_256_256_dice_loss_hvr_2/split_2/train/mask/_07_g_1_14.png (deflated 85%)\n",
            "  adding: hrf_256_256_dice_loss_hvr_2/split_2/train/mask/_09_g_0_127.png (deflated 85%)\n",
            "  adding: hrf_256_256_dice_loss_hvr_2/split_2/train/mask/_03_dr_2_97.png (deflated 77%)\n",
            "  adding: hrf_256_256_dice_loss_hvr_2/split_2/train/mask/_09_g_3_110.png (deflated 23%)\n",
            "  adding: hrf_256_256_dice_loss_hvr_2/split_2/train/mask/_14_dr_1_61.png (deflated 31%)\n",
            "  adding: hrf_256_256_dice_loss_hvr_2/split_2/train/mask/_13_g_2_135.png (deflated 34%)\n",
            "  adding: hrf_256_256_dice_loss_hvr_2/split_2/train/mask/_04_g_3_124.png (deflated 31%)\n",
            "  adding: hrf_256_256_dice_loss_hvr_2/split_2/train/mask/_12_dr_3_74.png (deflated 26%)\n",
            "  adding: hrf_256_256_dice_loss_hvr_2/split_2/train/mask/_14_dr_3_132.png (deflated 25%)\n",
            "  adding: hrf_256_256_dice_loss_hvr_2/split_2/train/mask/_14_g_3_73.png (deflated 24%)\n",
            "  adding: hrf_256_256_dice_loss_hvr_2/split_2/train/mask/_14_dr_1_40.png (deflated 20%)\n",
            "  adding: hrf_256_256_dice_loss_hvr_2/split_2/train/mask/_04_h_2_41.png (deflated 85%)\n",
            "  adding: hrf_256_256_dice_loss_hvr_2/split_2/train/mask/_10_dr_0_124.png (deflated 41%)\n",
            "  adding: hrf_256_256_dice_loss_hvr_2/split_2/train/mask/_05_h_2_23.png (deflated 22%)\n",
            "  adding: hrf_256_256_dice_loss_hvr_2/split_2/train/mask/_04_g_1_104.png (deflated 20%)\n",
            "  adding: hrf_256_256_dice_loss_hvr_2/split_2/train/mask/_15_dr_2_124.png (deflated 50%)\n",
            "  adding: hrf_256_256_dice_loss_hvr_2/split_2/train/mask/_11_g_3_79.png (deflated 15%)\n",
            "  adding: hrf_256_256_dice_loss_hvr_2/split_2/train/mask/_15_dr_1_66.png (deflated 25%)\n",
            "  adding: hrf_256_256_dice_loss_hvr_2/split_2/train/mask/_03_h_1_133.png (deflated 33%)\n",
            "  adding: hrf_256_256_dice_loss_hvr_2/split_2/train/mask/_13_g_3_127.png (deflated 85%)\n",
            "  adding: hrf_256_256_dice_loss_hvr_2/split_2/train/mask/_14_g_1_82.png (deflated 22%)\n",
            "  adding: hrf_256_256_dice_loss_hvr_2/split_2/train/mask/_03_h_0_101.png (deflated 20%)\n",
            "  adding: hrf_256_256_dice_loss_hvr_2/split_2/train/mask/_12_g_0_126.png (deflated 85%)\n",
            "  adding: hrf_256_256_dice_loss_hvr_2/split_2/train/mask/_09_dr_3_0.png (deflated 36%)\n",
            "  adding: hrf_256_256_dice_loss_hvr_2/split_2/train/mask/_12_g_2_58.png (deflated 19%)\n",
            "  adding: hrf_256_256_dice_loss_hvr_2/split_2/train/mask/_15_dr_1_2.png (deflated 56%)\n",
            "  adding: hrf_256_256_dice_loss_hvr_2/split_2/train/mask/_10_g_1_41.png (deflated 85%)\n",
            "  adding: hrf_256_256_dice_loss_hvr_2/split_2/train/mask/_04_h_0_121.png (deflated 21%)\n",
            "  adding: hrf_256_256_dice_loss_hvr_2/split_2/train/mask/_06_dr_3_94.png (deflated 22%)\n",
            "  adding: hrf_256_256_dice_loss_hvr_2/split_2/train/mask/_08_h_0_73.png (deflated 23%)\n",
            "  adding: hrf_256_256_dice_loss_hvr_2/split_2/train/mask/_08_h_0_44.png (deflated 23%)\n",
            "  adding: hrf_256_256_dice_loss_hvr_2/split_2/train/mask/_04_g_3_78.png (deflated 37%)\n",
            "  adding: hrf_256_256_dice_loss_hvr_2/split_2/train/mask/_06_dr_0_65.png (deflated 30%)\n",
            "  adding: hrf_256_256_dice_loss_hvr_2/split_2/train/mask/_11_g_0_10.png (deflated 29%)\n",
            "  adding: hrf_256_256_dice_loss_hvr_2/split_2/train/mask/_14_dr_2_108.png (deflated 27%)\n",
            "  adding: hrf_256_256_dice_loss_hvr_2/split_2/train/mask/_09_dr_0_96.png (deflated 17%)\n",
            "  adding: hrf_256_256_dice_loss_hvr_2/split_2/train/mask/_13_h_2_46.png (deflated 25%)\n",
            "  adding: hrf_256_256_dice_loss_hvr_2/split_2/train/mask/_10_dr_0_128.png (deflated 37%)\n",
            "  adding: hrf_256_256_dice_loss_hvr_2/split_2/train/mask/_14_g_3_18.png (deflated 36%)\n",
            "  adding: hrf_256_256_dice_loss_hvr_2/split_2/train/mask/_14_dr_1_78.png (deflated 16%)\n",
            "  adding: hrf_256_256_dice_loss_hvr_2/split_2/train/mask/_07_g_2_108.png (deflated 23%)\n",
            "  adding: hrf_256_256_dice_loss_hvr_2/split_2/train/mask/_03_h_2_97.png (deflated 42%)\n",
            "  adding: hrf_256_256_dice_loss_hvr_2/split_2/train/mask/_14_g_0_92.png (deflated 26%)\n",
            "  adding: hrf_256_256_dice_loss_hvr_2/split_2/train/mask/_08_h_0_48.png (deflated 17%)\n",
            "  adding: hrf_256_256_dice_loss_hvr_2/split_2/train/mask/_10_dr_0_23.png (deflated 22%)\n",
            "  adding: hrf_256_256_dice_loss_hvr_2/split_2/train/mask/_04_h_1_22.png (deflated 25%)\n",
            "  adding: hrf_256_256_dice_loss_hvr_2/split_2/train/mask/_09_dr_0_1.png (deflated 85%)\n",
            "  adding: hrf_256_256_dice_loss_hvr_2/split_2/train/mask/_02_dr_0_102.png (deflated 22%)\n",
            "  adding: hrf_256_256_dice_loss_hvr_2/split_2/train/mask/_14_h_3_122.png (deflated 18%)\n",
            "  adding: hrf_256_256_dice_loss_hvr_2/split_2/train/mask/_01_g_3_48.png (deflated 18%)\n",
            "  adding: hrf_256_256_dice_loss_hvr_2/split_2/train/mask/_10_g_3_30.png (deflated 20%)\n",
            "  adding: hrf_256_256_dice_loss_hvr_2/split_2/train/mask/_01_g_1_89.png (deflated 25%)\n",
            "  adding: hrf_256_256_dice_loss_hvr_2/split_2/train/mask/_07_g_1_53.png (deflated 23%)\n",
            "  adding: hrf_256_256_dice_loss_hvr_2/split_2/train/mask/_03_dr_1_22.png (deflated 21%)\n",
            "  adding: hrf_256_256_dice_loss_hvr_2/split_2/train/mask/_15_dr_0_95.png (deflated 40%)\n",
            "  adding: hrf_256_256_dice_loss_hvr_2/split_2/train/mask/_10_g_3_16.png (deflated 28%)\n",
            "  adding: hrf_256_256_dice_loss_hvr_2/split_2/train/mask/_04_h_1_23.png (deflated 18%)\n",
            "  adding: hrf_256_256_dice_loss_hvr_2/split_2/train/mask/_01_g_2_93.png (deflated 18%)\n",
            "  adding: hrf_256_256_dice_loss_hvr_2/split_2/train/mask/_14_dr_1_135.png (deflated 38%)\n",
            "  adding: hrf_256_256_dice_loss_hvr_2/split_2/train/mask/_04_g_3_88.png (deflated 18%)\n",
            "  adding: hrf_256_256_dice_loss_hvr_2/split_2/train/mask/_07_h_2_86.png (deflated 28%)\n",
            "  adding: hrf_256_256_dice_loss_hvr_2/split_2/train/mask/_06_dr_0_7.png (deflated 25%)\n",
            "  adding: hrf_256_256_dice_loss_hvr_2/split_2/train/mask/_09_g_2_48.png (deflated 23%)\n",
            "  adding: hrf_256_256_dice_loss_hvr_2/split_2/train/mask/_01_dr_0_45.png (deflated 23%)\n",
            "  adding: hrf_256_256_dice_loss_hvr_2/split_2/train/mask/_07_g_1_83.png (deflated 45%)\n",
            "  adding: hrf_256_256_dice_loss_hvr_2/split_2/train/mask/_11_h_2_69.png (deflated 27%)\n",
            "  adding: hrf_256_256_dice_loss_hvr_2/split_2/train/mask/_09_g_1_53.png (deflated 21%)\n",
            "  adding: hrf_256_256_dice_loss_hvr_2/split_2/train/mask/_13_h_3_117.png (deflated 22%)\n",
            "  adding: hrf_256_256_dice_loss_hvr_2/split_2/train/mask/_05_h_1_53.png (deflated 24%)\n",
            "  adding: hrf_256_256_dice_loss_hvr_2/split_2/train/mask/_11_g_2_67.png (deflated 16%)\n",
            "  adding: hrf_256_256_dice_loss_hvr_2/split_2/train/mask/_05_h_0_129.png (deflated 32%)\n",
            "  adding: hrf_256_256_dice_loss_hvr_2/split_2/train/mask/_07_h_2_74.png (deflated 20%)\n",
            "  adding: hrf_256_256_dice_loss_hvr_2/split_2/train/mask/_08_h_2_86.png (deflated 24%)\n",
            "  adding: hrf_256_256_dice_loss_hvr_2/split_2/train/mask/_11_g_1_19.png (deflated 32%)\n",
            "  adding: hrf_256_256_dice_loss_hvr_2/split_2/train/mask/_10_g_0_71.png (deflated 27%)\n",
            "  adding: hrf_256_256_dice_loss_hvr_2/split_2/train/mask/_01_g_2_5.png (deflated 40%)\n",
            "  adding: hrf_256_256_dice_loss_hvr_2/split_2/train/mask/_14_dr_2_27.png (deflated 85%)\n",
            "  adding: hrf_256_256_dice_loss_hvr_2/split_2/train/mask/_03_h_3_90.png (deflated 23%)\n",
            "  adding: hrf_256_256_dice_loss_hvr_2/split_2/train/mask/_09_g_0_108.png (deflated 21%)\n",
            "  adding: hrf_256_256_dice_loss_hvr_2/split_2/train/mask/_03_dr_0_75.png (deflated 24%)\n",
            "  adding: hrf_256_256_dice_loss_hvr_2/split_2/train/mask/_02_h_3_101.png (deflated 23%)\n",
            "  adding: hrf_256_256_dice_loss_hvr_2/split_2/train/mask/_12_dr_2_39.png (deflated 26%)\n",
            "  adding: hrf_256_256_dice_loss_hvr_2/split_2/train/mask/_04_g_2_104.png (deflated 25%)\n",
            "  adding: hrf_256_256_dice_loss_hvr_2/split_2/train/mask/_08_h_0_76.png (deflated 28%)\n",
            "  adding: hrf_256_256_dice_loss_hvr_2/split_2/train/mask/_14_h_3_13.png (deflated 85%)\n",
            "  adding: hrf_256_256_dice_loss_hvr_2/split_2/train/mask/_08_h_1_29.png (deflated 35%)\n",
            "  adding: hrf_256_256_dice_loss_hvr_2/split_2/train/mask/_01_dr_3_104.png (deflated 19%)\n",
            "  adding: hrf_256_256_dice_loss_hvr_2/split_2/train/mask/_13_g_2_102.png (deflated 17%)\n",
            "  adding: hrf_256_256_dice_loss_hvr_2/split_2/train/mask/_10_dr_0_46.png (deflated 29%)\n",
            "  adding: hrf_256_256_dice_loss_hvr_2/split_2/train/mask/_02_h_2_130.png (deflated 31%)\n",
            "  adding: hrf_256_256_dice_loss_hvr_2/split_2/train/mask/_02_dr_1_82.png (deflated 31%)\n",
            "  adding: hrf_256_256_dice_loss_hvr_2/split_2/train/mask/_14_h_2_33.png (deflated 14%)\n",
            "  adding: hrf_256_256_dice_loss_hvr_2/split_2/train/mask/_09_g_3_27.png (deflated 21%)\n",
            "  adding: hrf_256_256_dice_loss_hvr_2/split_2/train/mask/_03_h_2_37.png (deflated 21%)\n",
            "  adding: hrf_256_256_dice_loss_hvr_2/split_2/train/mask/_12_dr_3_68.png (deflated 20%)\n",
            "  adding: hrf_256_256_dice_loss_hvr_2/split_2/train/mask/_11_g_0_1.png (deflated 85%)\n",
            "  adding: hrf_256_256_dice_loss_hvr_2/split_2/train/mask/_09_g_3_67.png (deflated 16%)\n",
            "  adding: hrf_256_256_dice_loss_hvr_2/split_2/train/mask/_14_h_3_83.png (deflated 85%)\n",
            "  adding: hrf_256_256_dice_loss_hvr_2/split_2/train/mask/_13_g_2_48.png (deflated 25%)\n",
            "  adding: hrf_256_256_dice_loss_hvr_2/split_2/train/mask/_10_dr_1_44.png (deflated 27%)\n",
            "  adding: hrf_256_256_dice_loss_hvr_2/split_2/train/mask/_13_h_2_47.png (deflated 22%)\n",
            "  adding: hrf_256_256_dice_loss_hvr_2/split_2/train/mask/_09_dr_3_55.png (deflated 44%)\n",
            "  adding: hrf_256_256_dice_loss_hvr_2/split_2/train/mask/_09_dr_2_68.png (deflated 29%)\n",
            "  adding: hrf_256_256_dice_loss_hvr_2/split_2/train/mask/_02_h_2_90.png (deflated 25%)\n",
            "  adding: hrf_256_256_dice_loss_hvr_2/split_2/train/mask/_01_dr_0_133.png (deflated 26%)\n",
            "  adding: hrf_256_256_dice_loss_hvr_2/split_2/train/mask/_03_h_3_31.png (deflated 22%)\n",
            "  adding: hrf_256_256_dice_loss_hvr_2/split_2/train/mask/_04_h_3_43.png (deflated 21%)\n",
            "  adding: hrf_256_256_dice_loss_hvr_2/split_2/train/mask/_01_dr_1_98.png (deflated 76%)\n",
            "  adding: hrf_256_256_dice_loss_hvr_2/split_2/train/mask/_07_h_0_47.png (deflated 20%)\n",
            "  adding: hrf_256_256_dice_loss_hvr_2/split_2/train/mask/_09_g_1_83.png (deflated 48%)\n",
            "  adding: hrf_256_256_dice_loss_hvr_2/split_2/train/mask/_15_dr_0_73.png (deflated 25%)\n",
            "  adding: hrf_256_256_dice_loss_hvr_2/split_2/train/mask/_04_g_3_60.png (deflated 21%)\n",
            "  adding: hrf_256_256_dice_loss_hvr_2/split_2/train/mask/_12_g_3_109.png (deflated 28%)\n",
            "  adding: hrf_256_256_dice_loss_hvr_2/split_2/train/mask/_04_g_3_121.png (deflated 26%)\n",
            "  adding: hrf_256_256_dice_loss_hvr_2/split_2/train/mask/_08_h_3_88.png (deflated 15%)\n",
            "  adding: hrf_256_256_dice_loss_hvr_2/split_2/train/mask/_12_g_1_27.png (deflated 85%)\n",
            "  adding: hrf_256_256_dice_loss_hvr_2/split_2/train/mask/_10_dr_3_128.png (deflated 27%)\n",
            "  adding: hrf_256_256_dice_loss_hvr_2/split_2/train/mask/_14_g_0_3.png (deflated 38%)\n",
            "  adding: hrf_256_256_dice_loss_hvr_2/split_2/train/mask/_02_dr_1_83.png (deflated 85%)\n",
            "  adding: hrf_256_256_dice_loss_hvr_2/split_2/train/mask/_01_dr_3_105.png (deflated 24%)\n",
            "  adding: hrf_256_256_dice_loss_hvr_2/split_2/train/mask/_03_dr_2_60.png (deflated 26%)\n",
            "  adding: hrf_256_256_dice_loss_hvr_2/split_2/train/mask/_07_h_3_33.png (deflated 16%)\n",
            "  adding: hrf_256_256_dice_loss_hvr_2/split_2/train/mask/_10_g_1_7.png (deflated 31%)\n",
            "  adding: hrf_256_256_dice_loss_hvr_2/split_2/train/mask/_08_h_1_128.png (deflated 35%)\n",
            "  adding: hrf_256_256_dice_loss_hvr_2/split_2/train/mask/_10_dr_3_114.png (deflated 19%)\n",
            "  adding: hrf_256_256_dice_loss_hvr_2/split_2/train/mask/_03_h_1_124.png (deflated 40%)\n",
            "  adding: hrf_256_256_dice_loss_hvr_2/split_2/train/mask/_13_h_2_129.png (deflated 29%)\n",
            "  adding: hrf_256_256_dice_loss_hvr_2/split_2/train/mask/_11_h_3_1.png (deflated 85%)\n",
            "  adding: hrf_256_256_dice_loss_hvr_2/split_2/train/mask/_07_g_1_3.png (deflated 48%)\n",
            "  adding: hrf_256_256_dice_loss_hvr_2/split_2/train/mask/_11_h_0_41.png (deflated 85%)\n",
            "  adding: hrf_256_256_dice_loss_hvr_2/split_2/train/mask/_09_g_3_28.png (deflated 85%)\n",
            "  adding: hrf_256_256_dice_loss_hvr_2/split_2/train/mask/_12_g_1_104.png (deflated 26%)\n",
            "  adding: hrf_256_256_dice_loss_hvr_2/split_2/train/mask/_07_h_1_55.png (deflated 57%)\n",
            "  adding: hrf_256_256_dice_loss_hvr_2/split_2/train/mask/_14_g_0_13.png (deflated 85%)\n",
            "  adding: hrf_256_256_dice_loss_hvr_2/split_2/train/mask/_12_dr_1_59.png (deflated 29%)\n",
            "  adding: hrf_256_256_dice_loss_hvr_2/split_2/train/mask/_14_g_2_91.png (deflated 28%)\n",
            "  adding: hrf_256_256_dice_loss_hvr_2/split_2/train/mask/_03_h_2_38.png (deflated 36%)\n",
            "  adding: hrf_256_256_dice_loss_hvr_2/split_2/train/mask/_08_h_2_56.png (deflated 43%)\n",
            "  adding: hrf_256_256_dice_loss_hvr_2/split_2/train/mask/_10_dr_0_93.png (deflated 27%)\n",
            "  adding: hrf_256_256_dice_loss_hvr_2/split_2/train/mask/_05_h_2_36.png (deflated 26%)\n",
            "  adding: hrf_256_256_dice_loss_hvr_2/split_2/train/mask/_06_dr_1_98.png (deflated 85%)\n",
            "  adding: hrf_256_256_dice_loss_hvr_2/split_2/train/mask/_14_h_2_68.png (deflated 38%)\n",
            "  adding: hrf_256_256_dice_loss_hvr_2/split_2/train/mask/_10_g_2_129.png (deflated 27%)\n",
            "  adding: hrf_256_256_dice_loss_hvr_2/split_2/train/mask/_01_g_0_2.png (deflated 33%)\n",
            "  adding: hrf_256_256_dice_loss_hvr_2/split_2/train/mask/_14_h_3_101.png (deflated 24%)\n",
            "  adding: hrf_256_256_dice_loss_hvr_2/split_2/train/mask/_14_dr_1_63.png (deflated 20%)\n",
            "  adding: hrf_256_256_dice_loss_hvr_2/split_2/train/mask/_04_g_3_24.png (deflated 22%)\n",
            "  adding: hrf_256_256_dice_loss_hvr_2/split_2/train/mask/_14_h_3_104.png (deflated 15%)\n",
            "  adding: hrf_256_256_dice_loss_hvr_2/split_2/train/mask/_03_h_1_63.png (deflated 32%)\n",
            "  adding: hrf_256_256_dice_loss_hvr_2/split_2/train/mask/_13_h_2_132.png (deflated 29%)\n",
            "  adding: hrf_256_256_dice_loss_hvr_2/split_2/train/mask/_06_dr_2_86.png (deflated 24%)\n",
            "  adding: hrf_256_256_dice_loss_hvr_2/split_2/train/mask/_02_h_1_56.png (deflated 38%)\n",
            "  adding: hrf_256_256_dice_loss_hvr_2/split_2/train/mask/_06_dr_2_131.png (deflated 85%)\n",
            "  adding: hrf_256_256_dice_loss_hvr_2/split_2/train/mask/_07_g_3_120.png (deflated 20%)\n",
            "  adding: hrf_256_256_dice_loss_hvr_2/split_2/train/mask/_10_g_2_131.png (deflated 30%)\n",
            "  adding: hrf_256_256_dice_loss_hvr_2/split_2/train/mask/_05_h_0_72.png (deflated 21%)\n",
            "  adding: hrf_256_256_dice_loss_hvr_2/split_2/train/mask/_10_g_3_27.png (deflated 85%)\n",
            "  adding: hrf_256_256_dice_loss_hvr_2/split_2/train/mask/_09_g_0_135.png (deflated 49%)\n",
            "  adding: hrf_256_256_dice_loss_hvr_2/split_2/train/mask/_05_h_1_116.png (deflated 20%)\n",
            "  adding: hrf_256_256_dice_loss_hvr_2/split_2/train/mask/_10_dr_1_29.png (deflated 27%)\n",
            "  adding: hrf_256_256_dice_loss_hvr_2/split_2/train/mask/_02_dr_0_46.png (deflated 23%)\n",
            "  adding: hrf_256_256_dice_loss_hvr_2/split_2/train/mask/_09_dr_2_40.png (deflated 19%)\n",
            "  adding: hrf_256_256_dice_loss_hvr_2/split_2/train/mask/_03_dr_1_114.png (deflated 35%)\n",
            "  adding: hrf_256_256_dice_loss_hvr_2/split_2/train/mask/_06_dr_2_18.png (deflated 18%)\n",
            "  adding: hrf_256_256_dice_loss_hvr_2/split_2/train/mask/_13_h_1_52.png (deflated 24%)\n",
            "  adding: hrf_256_256_dice_loss_hvr_2/split_2/train/mask/_13_h_2_51.png (deflated 15%)\n",
            "  adding: hrf_256_256_dice_loss_hvr_2/split_2/train/mask/_14_g_0_77.png (deflated 32%)\n",
            "  adding: hrf_256_256_dice_loss_hvr_2/split_2/train/mask/_04_g_2_49.png (deflated 27%)\n",
            "  adding: hrf_256_256_dice_loss_hvr_2/split_2/train/mask/_04_g_3_97.png (deflated 76%)\n",
            "  adding: hrf_256_256_dice_loss_hvr_2/split_2/train/mask/_12_dr_3_87.png (deflated 28%)\n",
            "  adding: hrf_256_256_dice_loss_hvr_2/split_2/train/mask/_02_h_2_116.png (deflated 31%)\n",
            "  adding: hrf_256_256_dice_loss_hvr_2/split_2/train/mask/_07_g_0_55.png (deflated 37%)\n",
            "  adding: hrf_256_256_dice_loss_hvr_2/split_2/train/mask/_07_h_1_24.png (deflated 38%)\n",
            "  adding: hrf_256_256_dice_loss_hvr_2/split_2/train/mask/_01_g_3_9.png (deflated 49%)\n",
            "  adding: hrf_256_256_dice_loss_hvr_2/split_2/train/mask/_11_g_3_62.png (deflated 23%)\n",
            "  adding: hrf_256_256_dice_loss_hvr_2/split_2/train/mask/_14_dr_2_90.png (deflated 20%)\n",
            "  adding: hrf_256_256_dice_loss_hvr_2/split_2/train/mask/_05_h_3_49.png (deflated 21%)\n",
            "  adding: hrf_256_256_dice_loss_hvr_2/split_2/train/mask/_14_h_0_94.png (deflated 25%)\n",
            "  adding: hrf_256_256_dice_loss_hvr_2/split_2/train/mask/_06_dr_1_74.png (deflated 19%)\n",
            "  adding: hrf_256_256_dice_loss_hvr_2/split_2/train/mask/_05_h_3_77.png (deflated 33%)\n",
            "  adding: hrf_256_256_dice_loss_hvr_2/split_2/train/mask/_11_g_0_31.png (deflated 18%)\n",
            "  adding: hrf_256_256_dice_loss_hvr_2/split_2/train/mask/_10_g_0_31.png (deflated 15%)\n",
            "  adding: hrf_256_256_dice_loss_hvr_2/split_2/train/mask/_14_h_2_86.png (deflated 20%)\n",
            "  adding: hrf_256_256_dice_loss_hvr_2/split_2/train/mask/_03_dr_2_113.png (deflated 28%)\n",
            "  adding: hrf_256_256_dice_loss_hvr_2/split_2/train/mask/_03_dr_2_37.png (deflated 21%)\n",
            "  adding: hrf_256_256_dice_loss_hvr_2/split_2/train/mask/_07_h_0_70.png (deflated 85%)\n",
            "  adding: hrf_256_256_dice_loss_hvr_2/split_2/train/mask/_10_g_1_12.png (deflated 85%)\n",
            "  adding: hrf_256_256_dice_loss_hvr_2/split_2/train/mask/_12_dr_0_35.png (deflated 31%)\n",
            "  adding: hrf_256_256_dice_loss_hvr_2/split_2/train/mask/_01_dr_2_131.png (deflated 29%)\n",
            "  adding: hrf_256_256_dice_loss_hvr_2/split_2/train/mask/_09_g_0_35.png (deflated 27%)\n",
            "  adding: hrf_256_256_dice_loss_hvr_2/split_2/train/mask/_03_dr_3_64.png (deflated 27%)\n",
            "  adding: hrf_256_256_dice_loss_hvr_2/split_2/train/mask/_03_h_0_44.png (deflated 14%)\n",
            "  adding: hrf_256_256_dice_loss_hvr_2/split_2/train/mask/_09_dr_1_102.png (deflated 23%)\n",
            "  adding: hrf_256_256_dice_loss_hvr_2/split_2/train/mask/_15_dr_2_10.png (deflated 46%)\n",
            "  adding: hrf_256_256_dice_loss_hvr_2/split_2/train/mask/_10_dr_1_18.png (deflated 22%)\n",
            "  adding: hrf_256_256_dice_loss_hvr_2/split_2/train/mask/_02_h_1_94.png (deflated 27%)\n",
            "  adding: hrf_256_256_dice_loss_hvr_2/split_2/train/mask/_03_h_3_113.png (deflated 23%)\n",
            "  adding: hrf_256_256_dice_loss_hvr_2/split_2/train/mask/_14_h_0_45.png (deflated 28%)\n",
            "  adding: hrf_256_256_dice_loss_hvr_2/split_2/train/mask/_14_h_0_28.png (deflated 83%)\n",
            "  adding: hrf_256_256_dice_loss_hvr_2/split_2/train/mask/_11_g_3_110.png (deflated 18%)\n",
            "  adding: hrf_256_256_dice_loss_hvr_2/split_2/train/mask/_07_h_3_22.png (deflated 26%)\n",
            "  adding: hrf_256_256_dice_loss_hvr_2/split_2/train/mask/_13_g_2_110.png (deflated 24%)\n",
            "  adding: hrf_256_256_dice_loss_hvr_2/split_2/train/mask/_14_dr_2_12.png (deflated 85%)\n",
            "  adding: hrf_256_256_dice_loss_hvr_2/split_2/train/mask/_12_g_3_135.png (deflated 26%)\n",
            "  adding: hrf_256_256_dice_loss_hvr_2/split_2/train/mask/_09_g_1_55.png (deflated 66%)\n",
            "  adding: hrf_256_256_dice_loss_hvr_2/split_2/train/mask/_11_h_1_87.png (deflated 16%)\n",
            "  adding: hrf_256_256_dice_loss_hvr_2/split_2/train/mask/_07_h_0_41.png (deflated 75%)\n",
            "  adding: hrf_256_256_dice_loss_hvr_2/split_2/train/mask/_07_h_1_7.png (deflated 35%)\n",
            "  adding: hrf_256_256_dice_loss_hvr_2/split_2/train/mask/_10_g_2_116.png (deflated 18%)\n",
            "  adding: hrf_256_256_dice_loss_hvr_2/split_2/train/mask/_01_g_0_125.png (deflated 85%)\n",
            "  adding: hrf_256_256_dice_loss_hvr_2/split_2/train/mask/_04_h_2_99.png (deflated 21%)\n",
            "  adding: hrf_256_256_dice_loss_hvr_2/split_2/train/mask/_14_h_3_8.png (deflated 34%)\n",
            "  adding: hrf_256_256_dice_loss_hvr_2/split_2/train/mask/_03_dr_3_136.png (deflated 36%)\n",
            "  adding: hrf_256_256_dice_loss_hvr_2/split_2/train/mask/_07_h_3_95.png (deflated 24%)\n",
            "  adding: hrf_256_256_dice_loss_hvr_2/split_2/train/mask/_15_dr_0_108.png (deflated 80%)\n",
            "  adding: hrf_256_256_dice_loss_hvr_2/split_2/train/mask/_06_dr_3_33.png (deflated 26%)\n",
            "  adding: hrf_256_256_dice_loss_hvr_2/split_2/train/mask/_09_dr_1_70.png (deflated 55%)\n",
            "  adding: hrf_256_256_dice_loss_hvr_2/split_2/train/mask/_06_dr_0_131.png (deflated 31%)\n",
            "  adding: hrf_256_256_dice_loss_hvr_2/split_2/train/mask/_08_h_2_17.png (deflated 27%)\n",
            "  adding: hrf_256_256_dice_loss_hvr_2/split_2/train/mask/_09_g_1_85.png (deflated 18%)\n",
            "  adding: hrf_256_256_dice_loss_hvr_2/split_2/train/mask/_07_h_0_112.png (deflated 85%)\n",
            "  adding: hrf_256_256_dice_loss_hvr_2/split_2/train/mask/_05_h_2_137.png (deflated 76%)\n",
            "  adding: hrf_256_256_dice_loss_hvr_2/split_2/train/mask/_07_g_2_89.png (deflated 25%)\n",
            "  adding: hrf_256_256_dice_loss_hvr_2/split_2/train/mask/_13_g_0_133.png (deflated 39%)\n",
            "  adding: hrf_256_256_dice_loss_hvr_2/split_2/train/mask/_05_h_2_24.png (deflated 32%)\n",
            "  adding: hrf_256_256_dice_loss_hvr_2/split_2/train/mask/_14_h_2_98.png (deflated 83%)\n",
            "  adding: hrf_256_256_dice_loss_hvr_2/split_2/train/mask/_10_dr_2_76.png (deflated 24%)\n",
            "  adding: hrf_256_256_dice_loss_hvr_2/split_2/train/mask/_10_g_2_113.png (deflated 50%)\n",
            "  adding: hrf_256_256_dice_loss_hvr_2/split_2/train/mask/_02_h_1_30.png (deflated 15%)\n",
            "  adding: hrf_256_256_dice_loss_hvr_2/split_2/train/mask/_02_h_0_101.png (deflated 24%)\n",
            "  adding: hrf_256_256_dice_loss_hvr_2/split_2/train/mask/_03_h_0_134.png (deflated 41%)\n",
            "  adding: hrf_256_256_dice_loss_hvr_2/split_2/train/mask/_01_dr_2_110.png (deflated 30%)\n",
            "  adding: hrf_256_256_dice_loss_hvr_2/split_2/train/mask/_07_h_1_111.png (deflated 85%)\n",
            "  adding: hrf_256_256_dice_loss_hvr_2/split_2/train/mask/_08_h_2_12.png (deflated 85%)\n",
            "  adding: hrf_256_256_dice_loss_hvr_2/split_2/train/mask/_01_dr_3_27.png (deflated 85%)\n",
            "  adding: hrf_256_256_dice_loss_hvr_2/split_2/train/mask/_12_dr_3_71.png (deflated 23%)\n",
            "  adding: hrf_256_256_dice_loss_hvr_2/split_2/train/mask/_07_h_3_38.png (deflated 20%)\n",
            "  adding: hrf_256_256_dice_loss_hvr_2/split_2/train/mask/_08_h_2_105.png (deflated 18%)\n",
            "  adding: hrf_256_256_dice_loss_hvr_2/split_2/train/mask/_04_h_0_83.png (deflated 32%)\n",
            "  adding: hrf_256_256_dice_loss_hvr_2/split_2/train/mask/_10_g_3_107.png (deflated 24%)\n",
            "  adding: hrf_256_256_dice_loss_hvr_2/split_2/train/mask/_14_g_1_138.png (deflated 85%)\n",
            "  adding: hrf_256_256_dice_loss_hvr_2/split_2/train/mask/_01_dr_3_26.png (deflated 42%)\n",
            "  adding: hrf_256_256_dice_loss_hvr_2/split_2/train/mask/_12_dr_1_101.png (deflated 21%)\n",
            "  adding: hrf_256_256_dice_loss_hvr_2/split_2/train/mask/_14_dr_3_106.png (deflated 18%)\n",
            "  adding: hrf_256_256_dice_loss_hvr_2/split_2/train/mask/_09_g_1_80.png (deflated 25%)\n",
            "  adding: hrf_256_256_dice_loss_hvr_2/split_2/train/mask/_14_h_2_90.png (deflated 18%)\n",
            "  adding: hrf_256_256_dice_loss_hvr_2/split_2/train/mask/_03_dr_1_90.png (deflated 23%)\n",
            "  adding: hrf_256_256_dice_loss_hvr_2/split_2/train/mask/_15_dr_2_122.png (deflated 25%)\n",
            "  adding: hrf_256_256_dice_loss_hvr_2/split_2/train/mask/_13_h_1_22.png (deflated 18%)\n",
            "  adding: hrf_256_256_dice_loss_hvr_2/split_2/train/mask/_14_h_1_60.png (deflated 23%)\n",
            "  adding: hrf_256_256_dice_loss_hvr_2/split_2/train/mask/_05_h_1_80.png (deflated 27%)\n",
            "  adding: hrf_256_256_dice_loss_hvr_2/split_2/train/mask/_04_h_0_110.png (deflated 38%)\n",
            "  adding: hrf_256_256_dice_loss_hvr_2/split_2/train/mask/_14_h_0_120.png (deflated 20%)\n",
            "  adding: hrf_256_256_dice_loss_hvr_2/split_2/train/mask/_05_h_1_81.png (deflated 24%)\n",
            "  adding: hrf_256_256_dice_loss_hvr_2/split_2/train/mask/_07_h_3_136.png (deflated 42%)\n",
            "  adding: hrf_256_256_dice_loss_hvr_2/split_2/train/mask/_14_h_2_130.png (deflated 30%)\n",
            "  adding: hrf_256_256_dice_loss_hvr_2/split_2/train/mask/_11_h_2_108.png (deflated 20%)\n",
            "  adding: hrf_256_256_dice_loss_hvr_2/split_2/train/mask/_15_dr_3_73.png (deflated 21%)\n",
            "  adding: hrf_256_256_dice_loss_hvr_2/split_2/train/mask/_13_g_1_107.png (deflated 18%)\n",
            "  adding: hrf_256_256_dice_loss_hvr_2/split_2/train/mask/_15_dr_2_59.png (deflated 25%)\n",
            "  adding: hrf_256_256_dice_loss_hvr_2/split_2/train/mask/_14_dr_1_45.png (deflated 29%)\n",
            "  adding: hrf_256_256_dice_loss_hvr_2/split_2/train/mask/_11_h_0_81.png (deflated 18%)\n",
            "  adding: hrf_256_256_dice_loss_hvr_2/split_2/train/mask/_10_dr_3_33.png (deflated 22%)\n",
            "  adding: hrf_256_256_dice_loss_hvr_2/split_2/train/mask/_11_g_2_28.png (deflated 85%)\n",
            "  adding: hrf_256_256_dice_loss_hvr_2/split_2/train/mask/_11_g_1_45.png (deflated 22%)\n",
            "  adding: hrf_256_256_dice_loss_hvr_2/split_2/train/mask/_13_h_2_37.png (deflated 22%)\n",
            "  adding: hrf_256_256_dice_loss_hvr_2/split_2/train/mask/_09_dr_1_120.png (deflated 17%)\n",
            "  adding: hrf_256_256_dice_loss_hvr_2/split_2/train/mask/_03_h_2_92.png (deflated 25%)\n",
            "  adding: hrf_256_256_dice_loss_hvr_2/split_2/train/mask/_08_h_1_59.png (deflated 28%)\n",
            "  adding: hrf_256_256_dice_loss_hvr_2/split_2/train/mask/_03_h_3_53.png (deflated 23%)\n",
            "  adding: hrf_256_256_dice_loss_hvr_2/split_2/train/mask/_14_dr_3_126.png (deflated 85%)\n",
            "  adding: hrf_256_256_dice_loss_hvr_2/split_2/train/mask/_08_h_1_110.png (deflated 23%)\n",
            "  adding: hrf_256_256_dice_loss_hvr_2/split_2/train/mask/_03_h_2_5.png (deflated 27%)\n",
            "  adding: hrf_256_256_dice_loss_hvr_2/split_2/train/mask/_14_dr_3_29.png (deflated 24%)\n",
            "  adding: hrf_256_256_dice_loss_hvr_2/split_2/train/mask/_13_h_3_80.png (deflated 19%)\n",
            "  adding: hrf_256_256_dice_loss_hvr_2/split_2/train/mask/_04_h_3_71.png (deflated 21%)\n",
            "  adding: hrf_256_256_dice_loss_hvr_2/split_2/train/mask/_04_g_1_136.png (deflated 30%)\n",
            "  adding: hrf_256_256_dice_loss_hvr_2/split_2/train/mask/_09_g_0_21.png (deflated 23%)\n",
            "  adding: hrf_256_256_dice_loss_hvr_2/split_2/train/mask/_03_h_1_26.png (deflated 49%)\n",
            "  adding: hrf_256_256_dice_loss_hvr_2/split_2/train/mask/_13_g_3_106.png (deflated 15%)\n",
            "  adding: hrf_256_256_dice_loss_hvr_2/split_2/train/mask/_09_g_1_70.png (deflated 39%)\n",
            "  adding: hrf_256_256_dice_loss_hvr_2/split_2/train/mask/_14_g_1_62.png (deflated 30%)\n",
            "  adding: hrf_256_256_dice_loss_hvr_2/split_2/train/mask/_10_dr_2_94.png (deflated 28%)\n",
            "  adding: hrf_256_256_dice_loss_hvr_2/split_2/train/mask/_04_g_0_51.png (deflated 24%)\n",
            "  adding: hrf_256_256_dice_loss_hvr_2/split_2/train/mask/_03_h_0_67.png (deflated 24%)\n",
            "  adding: hrf_256_256_dice_loss_hvr_2/split_2/train/mask/_13_h_2_133.png (deflated 47%)\n",
            "  adding: hrf_256_256_dice_loss_hvr_2/split_2/train/mask/_14_g_2_96.png (deflated 18%)\n",
            "  adding: hrf_256_256_dice_loss_hvr_2/split_2/train/mask/_10_dr_0_133.png (deflated 31%)\n",
            "  adding: hrf_256_256_dice_loss_hvr_2/split_2/train/mask/_03_h_2_133.png (deflated 27%)\n",
            "  adding: hrf_256_256_dice_loss_hvr_2/split_2/train/mask/_11_h_2_87.png (deflated 25%)\n",
            "  adding: hrf_256_256_dice_loss_hvr_2/split_2/train/mask/_01_g_0_124.png (deflated 65%)\n",
            "  adding: hrf_256_256_dice_loss_hvr_2/split_2/train/mask/_14_g_0_12.png (deflated 69%)\n",
            "  adding: hrf_256_256_dice_loss_hvr_2/split_2/train/mask/_04_h_1_96.png (deflated 12%)\n",
            "  adding: hrf_256_256_dice_loss_hvr_2/split_2/train/mask/_05_h_3_47.png (deflated 22%)\n",
            "  adding: hrf_256_256_dice_loss_hvr_2/split_2/train/mask/_03_dr_0_93.png (deflated 32%)\n",
            "  adding: hrf_256_256_dice_loss_hvr_2/split_2/train/mask/_09_g_2_49.png (deflated 25%)\n",
            "  adding: hrf_256_256_dice_loss_hvr_2/split_2/train/mask/_11_h_0_102.png (deflated 16%)\n",
            "  adding: hrf_256_256_dice_loss_hvr_2/split_2/train/mask/_12_g_3_76.png (deflated 18%)\n",
            "  adding: hrf_256_256_dice_loss_hvr_2/split_2/train/mask/_03_dr_1_60.png (deflated 21%)\n",
            "  adding: hrf_256_256_dice_loss_hvr_2/split_2/train/mask/_12_dr_3_20.png (deflated 14%)\n",
            "  adding: hrf_256_256_dice_loss_hvr_2/split_2/train/mask/_11_g_1_5.png (deflated 28%)\n",
            "  adding: hrf_256_256_dice_loss_hvr_2/split_2/train/mask/_03_dr_2_98.png (deflated 85%)\n",
            "  adding: hrf_256_256_dice_loss_hvr_2/split_2/train/mask/_01_dr_0_93.png (deflated 25%)\n",
            "  adding: hrf_256_256_dice_loss_hvr_2/split_2/train/mask/_01_dr_0_91.png (deflated 24%)\n",
            "  adding: hrf_256_256_dice_loss_hvr_2/split_2/train/mask/_08_h_3_71.png (deflated 25%)\n",
            "  adding: hrf_256_256_dice_loss_hvr_2/split_2/train/mask/_13_g_3_122.png (deflated 28%)\n",
            "  adding: hrf_256_256_dice_loss_hvr_2/split_2/train/mask/_03_dr_2_126.png (deflated 85%)\n",
            "  adding: hrf_256_256_dice_loss_hvr_2/split_2/train/mask/_11_g_1_136.png (deflated 31%)\n",
            "  adding: hrf_256_256_dice_loss_hvr_2/split_2/train/mask/_14_h_2_65.png (deflated 26%)\n",
            "  adding: hrf_256_256_dice_loss_hvr_2/split_2/train/mask/_13_g_3_34.png (deflated 26%)\n",
            "  adding: hrf_256_256_dice_loss_hvr_2/split_2/train/mask/_09_dr_2_44.png (deflated 21%)\n",
            "  adding: hrf_256_256_dice_loss_hvr_2/split_2/train/mask/_09_dr_2_94.png (deflated 23%)\n",
            "  adding: hrf_256_256_dice_loss_hvr_2/split_2/train/mask/_05_h_0_80.png (deflated 19%)\n",
            "  adding: hrf_256_256_dice_loss_hvr_2/split_2/train/mask/_11_g_3_41.png (deflated 85%)\n",
            "  adding: hrf_256_256_dice_loss_hvr_2/split_2/train/mask/_13_h_1_132.png (deflated 30%)\n",
            "  adding: hrf_256_256_dice_loss_hvr_2/split_2/train/mask/_07_h_2_49.png (deflated 28%)\n",
            "  adding: hrf_256_256_dice_loss_hvr_2/split_2/train/mask/_14_dr_2_1.png (deflated 85%)\n",
            "  adding: hrf_256_256_dice_loss_hvr_2/split_2/train/mask/_06_dr_2_73.png (deflated 27%)\n",
            "  adding: hrf_256_256_dice_loss_hvr_2/split_2/train/mask/_07_h_2_38.png (deflated 31%)\n",
            "  adding: hrf_256_256_dice_loss_hvr_2/split_2/train/mask/_10_g_3_137.png (deflated 36%)\n",
            "  adding: hrf_256_256_dice_loss_hvr_2/split_2/train/mask/_13_h_1_53.png (deflated 33%)\n",
            "  adding: hrf_256_256_dice_loss_hvr_2/split_2/train/mask/_11_g_1_116.png (deflated 38%)\n",
            "  adding: hrf_256_256_dice_loss_hvr_2/split_2/train/mask/_11_g_1_16.png (deflated 31%)\n",
            "  adding: hrf_256_256_dice_loss_hvr_2/split_2/train/mask/_07_g_1_115.png (deflated 24%)\n",
            "  adding: hrf_256_256_dice_loss_hvr_2/split_2/train/mask/_08_h_1_22.png (deflated 16%)\n",
            "  adding: hrf_256_256_dice_loss_hvr_2/split_2/train/mask/_14_g_2_129.png (deflated 39%)\n",
            "  adding: hrf_256_256_dice_loss_hvr_2/split_2/train/mask/_12_dr_0_23.png (deflated 21%)\n",
            "  adding: hrf_256_256_dice_loss_hvr_2/split_2/train/mask/_06_dr_2_129.png (deflated 42%)\n",
            "  adding: hrf_256_256_dice_loss_hvr_2/split_2/train/mask/_12_g_2_134.png (deflated 30%)\n",
            "  adding: hrf_256_256_dice_loss_hvr_2/split_2/train/mask/_12_g_1_5.png (deflated 31%)\n",
            "  adding: hrf_256_256_dice_loss_hvr_2/split_2/train/mask/_08_h_0_93.png (deflated 23%)\n",
            "  adding: hrf_256_256_dice_loss_hvr_2/split_2/train/mask/_14_h_0_130.png (deflated 59%)\n",
            "  adding: hrf_256_256_dice_loss_hvr_2/split_2/train/mask/_14_dr_1_111.png (deflated 85%)\n",
            "  adding: hrf_256_256_dice_loss_hvr_2/split_2/train/mask/_15_dr_3_53.png (deflated 25%)\n",
            "  adding: hrf_256_256_dice_loss_hvr_2/split_2/train/mask/_09_dr_0_49.png (deflated 25%)\n",
            "  adding: hrf_256_256_dice_loss_hvr_2/split_2/train/mask/_03_h_0_4.png (deflated 36%)\n",
            "  adding: hrf_256_256_dice_loss_hvr_2/split_2/train/mask/_14_h_2_20.png (deflated 20%)\n",
            "  adding: hrf_256_256_dice_loss_hvr_2/split_2/train/mask/_07_g_0_135.png (deflated 36%)\n",
            "  adding: hrf_256_256_dice_loss_hvr_2/split_2/train/mask/_11_g_0_20.png (deflated 22%)\n",
            "  adding: hrf_256_256_dice_loss_hvr_2/split_2/train/mask/_13_h_3_16.png (deflated 17%)\n",
            "  adding: hrf_256_256_dice_loss_hvr_2/split_2/train/mask/_03_h_1_86.png (deflated 21%)\n",
            "  adding: hrf_256_256_dice_loss_hvr_2/split_2/train/mask/_09_dr_1_62.png (deflated 28%)\n",
            "  adding: hrf_256_256_dice_loss_hvr_2/split_2/train/mask/_01_dr_2_102.png (deflated 21%)\n",
            "  adding: hrf_256_256_dice_loss_hvr_2/split_2/train/mask/_13_h_2_53.png (deflated 26%)\n",
            "  adding: hrf_256_256_dice_loss_hvr_2/split_2/train/mask/_13_g_1_50.png (deflated 15%)\n",
            "  adding: hrf_256_256_dice_loss_hvr_2/split_2/train/mask/_01_g_3_40.png (deflated 22%)\n",
            "  adding: hrf_256_256_dice_loss_hvr_2/split_2/train/mask/_02_h_3_43.png (deflated 17%)\n",
            "  adding: hrf_256_256_dice_loss_hvr_2/split_2/train/mask/_10_dr_0_15.png (deflated 35%)\n",
            "  adding: hrf_256_256_dice_loss_hvr_2/split_2/train/mask/_13_g_2_38.png (deflated 25%)\n",
            "  adding: hrf_256_256_dice_loss_hvr_2/split_2/train/mask/_10_g_2_87.png (deflated 22%)\n",
            "  adding: hrf_256_256_dice_loss_hvr_2/split_2/train/mask/_12_dr_3_95.png (deflated 25%)\n",
            "  adding: hrf_256_256_dice_loss_hvr_2/split_2/train/mask/_02_dr_1_38.png (deflated 34%)\n",
            "  adding: hrf_256_256_dice_loss_hvr_2/split_2/train/mask/_13_g_2_93.png (deflated 19%)\n",
            "  adding: hrf_256_256_dice_loss_hvr_2/split_2/train/mask/_01_dr_2_67.png (deflated 33%)\n",
            "  adding: hrf_256_256_dice_loss_hvr_2/split_2/train/mask/_11_h_2_29.png (deflated 27%)\n",
            "  adding: hrf_256_256_dice_loss_hvr_2/split_2/train/mask/_07_g_2_82.png (deflated 16%)\n",
            "  adding: hrf_256_256_dice_loss_hvr_2/split_2/train/mask/_13_h_3_9.png (deflated 28%)\n",
            "  adding: hrf_256_256_dice_loss_hvr_2/split_2/train/mask/_05_h_0_139.png (deflated 85%)\n",
            "  adding: hrf_256_256_dice_loss_hvr_2/split_2/train/mask/_08_h_0_63.png (deflated 33%)\n",
            "  adding: hrf_256_256_dice_loss_hvr_2/split_2/train/mask/_14_g_1_77.png (deflated 21%)\n",
            "  adding: hrf_256_256_dice_loss_hvr_2/split_2/train/mask/_01_dr_1_133.png (deflated 27%)\n",
            "  adding: hrf_256_256_dice_loss_hvr_2/split_2/train/mask/_11_h_3_78.png (deflated 25%)\n",
            "  adding: hrf_256_256_dice_loss_hvr_2/split_2/train/mask/_01_g_0_138.png (deflated 85%)\n",
            "  adding: hrf_256_256_dice_loss_hvr_2/split_2/train/mask/_10_g_2_6.png (deflated 52%)\n",
            "  adding: hrf_256_256_dice_loss_hvr_2/split_2/train/mask/_11_h_1_54.png (deflated 20%)\n",
            "  adding: hrf_256_256_dice_loss_hvr_2/split_2/train/mask/_14_h_1_91.png (deflated 19%)\n",
            "  adding: hrf_256_256_dice_loss_hvr_2/split_2/train/mask/_10_g_2_24.png (deflated 41%)\n",
            "  adding: hrf_256_256_dice_loss_hvr_2/split_2/train/mask/_06_dr_2_75.png (deflated 31%)\n",
            "  adding: hrf_256_256_dice_loss_hvr_2/split_2/train/mask/_14_h_0_39.png (deflated 23%)\n",
            "  adding: hrf_256_256_dice_loss_hvr_2/split_2/train/mask/_01_dr_1_35.png (deflated 17%)\n",
            "  adding: hrf_256_256_dice_loss_hvr_2/split_2/train/mask/_09_g_0_34.png (deflated 25%)\n",
            "  adding: hrf_256_256_dice_loss_hvr_2/split_2/train/mask/_06_dr_2_80.png (deflated 21%)\n",
            "  adding: hrf_256_256_dice_loss_hvr_2/split_2/train/mask/_12_g_0_118.png (deflated 27%)\n",
            "  adding: hrf_256_256_dice_loss_hvr_2/split_2/train/mask/_10_dr_3_73.png (deflated 23%)\n",
            "  adding: hrf_256_256_dice_loss_hvr_2/split_2/train/mask/_10_dr_2_84.png (deflated 44%)\n",
            "  adding: hrf_256_256_dice_loss_hvr_2/split_2/train/mask/_14_h_2_85.png (deflated 19%)\n",
            "  adding: hrf_256_256_dice_loss_hvr_2/split_2/train/mask/_09_g_3_39.png (deflated 25%)\n",
            "  adding: hrf_256_256_dice_loss_hvr_2/split_2/train/mask/_14_dr_2_99.png (deflated 19%)\n",
            "  adding: hrf_256_256_dice_loss_hvr_2/split_2/train/mask/_09_g_2_110.png (deflated 22%)\n",
            "  adding: hrf_256_256_dice_loss_hvr_2/split_2/train/mask/_12_g_1_62.png (deflated 21%)\n",
            "  adding: hrf_256_256_dice_loss_hvr_2/split_2/train/mask/_13_h_1_126.png (deflated 85%)\n",
            "  adding: hrf_256_256_dice_loss_hvr_2/split_2/train/mask/_02_dr_2_38.png (deflated 19%)\n",
            "  adding: hrf_256_256_dice_loss_hvr_2/split_2/train/mask/_14_dr_1_62.png (deflated 22%)\n",
            "  adding: hrf_256_256_dice_loss_hvr_2/split_2/train/mask/_03_dr_3_43.png (deflated 18%)\n",
            "  adding: hrf_256_256_dice_loss_hvr_2/split_2/train/mask/_13_g_1_127.png (deflated 85%)\n",
            "  adding: hrf_256_256_dice_loss_hvr_2/split_2/train/mask/_14_dr_1_47.png (deflated 27%)\n",
            "  adding: hrf_256_256_dice_loss_hvr_2/split_2/train/mask/_12_dr_0_82.png (deflated 31%)\n",
            "  adding: hrf_256_256_dice_loss_hvr_2/split_2/train/mask/_04_g_3_0.png (deflated 85%)\n",
            "  adding: hrf_256_256_dice_loss_hvr_2/split_2/train/mask/_03_h_3_4.png (deflated 30%)\n",
            "  adding: hrf_256_256_dice_loss_hvr_2/split_2/train/mask/_09_g_0_15.png (deflated 69%)\n",
            "  adding: hrf_256_256_dice_loss_hvr_2/split_2/train/mask/_02_dr_3_111.png (deflated 75%)\n",
            "  adding: hrf_256_256_dice_loss_hvr_2/split_2/train/mask/_01_dr_1_113.png (deflated 63%)\n",
            "  adding: hrf_256_256_dice_loss_hvr_2/split_2/train/mask/_09_g_1_93.png (deflated 20%)\n",
            "  adding: hrf_256_256_dice_loss_hvr_2/split_2/train/mask/_11_g_2_26.png (deflated 32%)\n",
            "  adding: hrf_256_256_dice_loss_hvr_2/split_2/train/mask/_11_g_2_24.png (deflated 42%)\n",
            "  adding: hrf_256_256_dice_loss_hvr_2/split_2/train/mask/_15_dr_1_18.png (deflated 24%)\n",
            "  adding: hrf_256_256_dice_loss_hvr_2/split_2/train/mask/_10_g_2_67.png (deflated 21%)\n",
            "  adding: hrf_256_256_dice_loss_hvr_2/split_2/train/mask/_10_g_0_6.png (deflated 32%)\n",
            "  adding: hrf_256_256_dice_loss_hvr_2/split_2/train/mask/_09_dr_3_59.png (deflated 41%)\n",
            "  adding: hrf_256_256_dice_loss_hvr_2/split_2/train/mask/_09_g_1_74.png (deflated 28%)\n",
            "  adding: hrf_256_256_dice_loss_hvr_2/split_2/train/mask/_11_h_1_133.png (deflated 28%)\n",
            "  adding: hrf_256_256_dice_loss_hvr_2/split_2/train/mask/_10_dr_1_27.png (deflated 85%)\n",
            "  adding: hrf_256_256_dice_loss_hvr_2/split_2/train/mask/_03_h_2_78.png (deflated 23%)\n",
            "  adding: hrf_256_256_dice_loss_hvr_2/split_2/train/mask/_01_g_1_135.png (deflated 35%)\n",
            "  adding: hrf_256_256_dice_loss_hvr_2/split_2/train/mask/_04_h_3_10.png (deflated 35%)\n",
            "  adding: hrf_256_256_dice_loss_hvr_2/split_2/train/mask/_03_dr_3_3.png (deflated 31%)\n",
            "  adding: hrf_256_256_dice_loss_hvr_2/split_2/train/mask/_10_g_0_79.png (deflated 18%)\n",
            "  adding: hrf_256_256_dice_loss_hvr_2/split_2/train/mask/_11_g_0_37.png (deflated 20%)\n",
            "  adding: hrf_256_256_dice_loss_hvr_2/split_2/train/mask/_09_g_2_30.png (deflated 25%)\n",
            "  adding: hrf_256_256_dice_loss_hvr_2/split_2/train/mask/_01_g_0_107.png (deflated 18%)\n",
            "  adding: hrf_256_256_dice_loss_hvr_2/split_2/train/mask/_14_dr_2_15.png (deflated 42%)\n",
            "  adding: hrf_256_256_dice_loss_hvr_2/split_2/train/mask/_01_g_3_81.png (deflated 29%)\n",
            "  adding: hrf_256_256_dice_loss_hvr_2/split_2/train/mask/_03_h_1_61.png (deflated 24%)\n",
            "  adding: hrf_256_256_dice_loss_hvr_2/split_2/train/mask/_04_h_1_114.png (deflated 26%)\n",
            "  adding: hrf_256_256_dice_loss_hvr_2/split_2/train/mask/_08_h_3_32.png (deflated 19%)\n",
            "  adding: hrf_256_256_dice_loss_hvr_2/split_2/train/mask/_04_h_1_2.png (deflated 30%)\n",
            "  adding: hrf_256_256_dice_loss_hvr_2/split_2/train/mask/_09_dr_2_39.png (deflated 26%)\n",
            "  adding: hrf_256_256_dice_loss_hvr_2/split_2/train/mask/_07_h_0_133.png (deflated 35%)\n",
            "  adding: hrf_256_256_dice_loss_hvr_2/split_2/train/mask/_03_h_3_26.png (deflated 15%)\n",
            "  adding: hrf_256_256_dice_loss_hvr_2/split_2/train/mask/_11_g_2_114.png (deflated 19%)\n",
            "  adding: hrf_256_256_dice_loss_hvr_2/split_2/train/mask/_03_h_2_137.png (deflated 41%)\n",
            "  adding: hrf_256_256_dice_loss_hvr_2/split_2/train/mask/_13_g_0_65.png (deflated 24%)\n",
            "  adding: hrf_256_256_dice_loss_hvr_2/split_2/train/mask/_05_h_0_74.png (deflated 21%)\n",
            "  adding: hrf_256_256_dice_loss_hvr_2/split_2/train/mask/_11_h_0_8.png (deflated 34%)\n",
            "  adding: hrf_256_256_dice_loss_hvr_2/split_2/train/mask/_09_dr_1_44.png (deflated 26%)\n",
            "  adding: hrf_256_256_dice_loss_hvr_2/split_2/train/mask/_07_h_0_110.png (deflated 31%)\n",
            "  adding: hrf_256_256_dice_loss_hvr_2/split_2/train/mask/_13_g_2_42.png (deflated 52%)\n",
            "  adding: hrf_256_256_dice_loss_hvr_2/split_2/train/mask/_11_g_1_89.png (deflated 23%)\n",
            "  adding: hrf_256_256_dice_loss_hvr_2/split_2/train/mask/_14_h_0_70.png (deflated 71%)\n",
            "  adding: hrf_256_256_dice_loss_hvr_2/split_2/train/mask/_04_h_1_25.png (deflated 17%)\n",
            "  adding: hrf_256_256_dice_loss_hvr_2/split_2/train/mask/_03_h_0_19.png (deflated 16%)\n",
            "  adding: hrf_256_256_dice_loss_hvr_2/split_2/train/mask/_13_g_2_67.png (deflated 24%)\n",
            "  adding: hrf_256_256_dice_loss_hvr_2/split_2/train/mask/_04_h_1_116.png (deflated 23%)\n",
            "  adding: hrf_256_256_dice_loss_hvr_2/split_2/train/mask/_07_g_3_114.png (deflated 28%)\n",
            "  adding: hrf_256_256_dice_loss_hvr_2/split_2/train/mask/_03_dr_1_19.png (deflated 19%)\n",
            "  adding: hrf_256_256_dice_loss_hvr_2/split_2/train/mask/_01_g_3_104.png (deflated 27%)\n",
            "  adding: hrf_256_256_dice_loss_hvr_2/split_2/train/mask/_02_dr_1_130.png (deflated 30%)\n",
            "  adding: hrf_256_256_dice_loss_hvr_2/split_2/train/mask/_11_h_1_132.png (deflated 31%)\n",
            "  adding: hrf_256_256_dice_loss_hvr_2/split_2/train/mask/_03_h_0_14.png (deflated 85%)\n",
            "  adding: hrf_256_256_dice_loss_hvr_2/split_2/train/mask/_07_g_2_65.png (deflated 22%)\n",
            "  adding: hrf_256_256_dice_loss_hvr_2/split_2/train/mask/_09_dr_0_23.png (deflated 30%)\n",
            "  adding: hrf_256_256_dice_loss_hvr_2/split_2/train/mask/_10_dr_0_89.png (deflated 19%)\n",
            "  adding: hrf_256_256_dice_loss_hvr_2/split_2/train/mask/_11_h_3_40.png (deflated 37%)\n",
            "  adding: hrf_256_256_dice_loss_hvr_2/split_2/train/mask/_12_dr_3_117.png (deflated 28%)\n",
            "  adding: hrf_256_256_dice_loss_hvr_2/split_2/train/mask/_11_h_1_31.png (deflated 19%)\n",
            "  adding: hrf_256_256_dice_loss_hvr_2/split_2/train/mask/_04_h_3_57.png (deflated 20%)\n",
            "  adding: hrf_256_256_dice_loss_hvr_2/split_2/train/mask/_06_dr_3_54.png (deflated 20%)\n",
            "  adding: hrf_256_256_dice_loss_hvr_2/split_2/train/mask/_13_g_2_40.png (deflated 25%)\n",
            "  adding: hrf_256_256_dice_loss_hvr_2/split_2/train/mask/_10_dr_2_26.png (deflated 40%)\n",
            "  adding: hrf_256_256_dice_loss_hvr_2/split_2/train/mask/_13_h_1_8.png (deflated 29%)\n",
            "  adding: hrf_256_256_dice_loss_hvr_2/split_2/train/mask/_14_h_1_51.png (deflated 18%)\n",
            "  adding: hrf_256_256_dice_loss_hvr_2/split_2/train/mask/_11_h_0_57.png (deflated 25%)\n",
            "  adding: hrf_256_256_dice_loss_hvr_2/split_2/train/mask/_10_g_0_93.png (deflated 19%)\n",
            "  adding: hrf_256_256_dice_loss_hvr_2/split_2/train/mask/_13_g_3_110.png (deflated 27%)\n",
            "  adding: hrf_256_256_dice_loss_hvr_2/split_2/train/mask/_12_dr_1_74.png (deflated 25%)\n",
            "  adding: hrf_256_256_dice_loss_hvr_2/split_2/train/mask/_08_h_0_89.png (deflated 21%)\n",
            "  adding: hrf_256_256_dice_loss_hvr_2/split_2/train/mask/_05_h_0_43.png (deflated 29%)\n",
            "  adding: hrf_256_256_dice_loss_hvr_2/split_2/train/mask/_11_h_3_96.png (deflated 18%)\n",
            "  adding: hrf_256_256_dice_loss_hvr_2/split_2/train/mask/_13_h_1_13.png (deflated 85%)\n",
            "  adding: hrf_256_256_dice_loss_hvr_2/split_2/train/mask/_03_dr_1_8.png (deflated 30%)\n",
            "  adding: hrf_256_256_dice_loss_hvr_2/split_2/train/mask/_03_dr_0_59.png (deflated 22%)\n",
            "  adding: hrf_256_256_dice_loss_hvr_2/split_2/train/mask/_12_dr_2_139.png (deflated 85%)\n",
            "  adding: hrf_256_256_dice_loss_hvr_2/split_2/train/mask/_02_dr_3_20.png (deflated 12%)\n",
            "  adding: hrf_256_256_dice_loss_hvr_2/split_2/train/mask/_01_dr_1_28.png (deflated 85%)\n",
            "  adding: hrf_256_256_dice_loss_hvr_2/split_2/train/mask/_04_h_1_139.png (deflated 85%)\n",
            "  adding: hrf_256_256_dice_loss_hvr_2/split_2/train/mask/_10_g_3_60.png (deflated 24%)\n",
            "  adding: hrf_256_256_dice_loss_hvr_2/split_2/train/mask/_08_h_0_98.png (deflated 85%)\n",
            "  adding: hrf_256_256_dice_loss_hvr_2/split_2/train/mask/_01_dr_3_83.png (deflated 56%)\n",
            "  adding: hrf_256_256_dice_loss_hvr_2/split_2/train/mask/_13_g_0_13.png (deflated 85%)\n",
            "  adding: hrf_256_256_dice_loss_hvr_2/split_2/train/mask/_13_h_1_28.png (deflated 85%)\n",
            "  adding: hrf_256_256_dice_loss_hvr_2/split_2/train/mask/_11_h_0_5.png (deflated 39%)\n",
            "  adding: hrf_256_256_dice_loss_hvr_2/split_2/train/mask/_02_h_3_103.png (deflated 25%)\n",
            "  adding: hrf_256_256_dice_loss_hvr_2/split_2/train/mask/_03_dr_1_52.png (deflated 35%)\n",
            "  adding: hrf_256_256_dice_loss_hvr_2/split_2/train/mask/_14_g_0_49.png (deflated 27%)\n",
            "  adding: hrf_256_256_dice_loss_hvr_2/split_2/train/mask/_12_g_3_107.png (deflated 23%)\n",
            "  adding: hrf_256_256_dice_loss_hvr_2/split_2/train/mask/_05_h_2_25.png (deflated 31%)\n",
            "  adding: hrf_256_256_dice_loss_hvr_2/split_2/train/mask/_01_g_2_20.png (deflated 13%)\n",
            "  adding: hrf_256_256_dice_loss_hvr_2/split_2/train/mask/_12_dr_0_86.png (deflated 23%)\n",
            "  adding: hrf_256_256_dice_loss_hvr_2/split_2/train/mask/_10_g_0_17.png (deflated 35%)\n",
            "  adding: hrf_256_256_dice_loss_hvr_2/split_2/train/mask/_12_dr_2_48.png (deflated 24%)\n",
            "  adding: hrf_256_256_dice_loss_hvr_2/split_2/train/mask/_13_h_2_104.png (deflated 23%)\n",
            "  adding: hrf_256_256_dice_loss_hvr_2/split_2/train/mask/_04_g_1_66.png (deflated 21%)\n",
            "  adding: hrf_256_256_dice_loss_hvr_2/split_2/train/mask/_04_g_1_129.png (deflated 28%)\n",
            "  adding: hrf_256_256_dice_loss_hvr_2/split_2/train/mask/_10_g_0_81.png (deflated 21%)\n",
            "  adding: hrf_256_256_dice_loss_hvr_2/split_2/train/mask/_14_h_3_105.png (deflated 18%)\n",
            "  adding: hrf_256_256_dice_loss_hvr_2/split_2/train/mask/_01_g_3_82.png (deflated 15%)\n",
            "  adding: hrf_256_256_dice_loss_hvr_2/split_2/train/mask/_05_h_2_92.png (deflated 22%)\n",
            "  adding: hrf_256_256_dice_loss_hvr_2/split_2/train/mask/_07_h_0_122.png (deflated 40%)\n",
            "  adding: hrf_256_256_dice_loss_hvr_2/split_2/train/mask/_14_g_3_65.png (deflated 28%)\n",
            "  adding: hrf_256_256_dice_loss_hvr_2/split_2/train/mask/_04_g_2_88.png (deflated 23%)\n",
            "  adding: hrf_256_256_dice_loss_hvr_2/split_2/train/mask/_04_g_2_52.png (deflated 28%)\n",
            "  adding: hrf_256_256_dice_loss_hvr_2/split_2/train/mask/_06_dr_3_61.png (deflated 29%)\n",
            "  adding: hrf_256_256_dice_loss_hvr_2/split_2/train/mask/_14_h_0_111.png (deflated 85%)\n",
            "  adding: hrf_256_256_dice_loss_hvr_2/split_2/train/mask/_05_h_0_79.png (deflated 17%)\n",
            "  adding: hrf_256_256_dice_loss_hvr_2/split_2/train/mask/_02_h_0_131.png (deflated 44%)\n",
            "  adding: hrf_256_256_dice_loss_hvr_2/split_2/train/mask/_11_g_1_30.png (deflated 23%)\n",
            "  adding: hrf_256_256_dice_loss_hvr_2/split_2/train/mask/_04_h_1_41.png (deflated 85%)\n",
            "  adding: hrf_256_256_dice_loss_hvr_2/split_2/train/mask/_04_h_1_28.png (deflated 85%)\n",
            "  adding: hrf_256_256_dice_loss_hvr_2/split_2/train/mask/_01_g_1_4.png (deflated 29%)\n",
            "  adding: hrf_256_256_dice_loss_hvr_2/split_2/train/mask/_09_g_3_97.png (deflated 57%)\n",
            "  adding: hrf_256_256_dice_loss_hvr_2/split_2/train/mask/_05_h_2_50.png (deflated 28%)\n",
            "  adding: hrf_256_256_dice_loss_hvr_2/split_2/train/mask/_02_dr_1_42.png (deflated 40%)\n",
            "  adding: hrf_256_256_dice_loss_hvr_2/split_2/train/mask/_03_h_1_82.png (deflated 28%)\n",
            "  adding: hrf_256_256_dice_loss_hvr_2/split_2/train/mask/_01_dr_2_22.png (deflated 21%)\n",
            "  adding: hrf_256_256_dice_loss_hvr_2/split_2/train/mask/_09_g_0_70.png (deflated 47%)\n",
            "  adding: hrf_256_256_dice_loss_hvr_2/split_2/train/mask/_04_h_1_79.png (deflated 17%)\n",
            "  adding: hrf_256_256_dice_loss_hvr_2/split_2/train/mask/_14_g_2_46.png (deflated 20%)\n",
            "  adding: hrf_256_256_dice_loss_hvr_2/split_2/train/mask/_15_dr_1_48.png (deflated 22%)\n",
            "  adding: hrf_256_256_dice_loss_hvr_2/split_2/train/mask/_06_dr_1_19.png (deflated 22%)\n",
            "  adding: hrf_256_256_dice_loss_hvr_2/split_2/train/mask/_12_dr_2_109.png (deflated 22%)\n",
            "  adding: hrf_256_256_dice_loss_hvr_2/split_2/train/mask/_05_h_1_23.png (deflated 13%)\n",
            "  adding: hrf_256_256_dice_loss_hvr_2/split_2/train/mask/_14_g_2_30.png (deflated 18%)\n",
            "  adding: hrf_256_256_dice_loss_hvr_2/split_2/train/mask/_09_dr_1_14.png (deflated 85%)\n",
            "  adding: hrf_256_256_dice_loss_hvr_2/split_2/train/mask/_13_g_1_16.png (deflated 35%)\n",
            "  adding: hrf_256_256_dice_loss_hvr_2/split_2/train/mask/_08_h_1_118.png (deflated 17%)\n",
            "  adding: hrf_256_256_dice_loss_hvr_2/split_2/train/mask/_01_g_1_35.png (deflated 18%)\n",
            "  adding: hrf_256_256_dice_loss_hvr_2/split_2/train/mask/_04_g_2_109.png (deflated 31%)\n",
            "  adding: hrf_256_256_dice_loss_hvr_2/split_2/train/mask/_10_g_2_94.png (deflated 23%)\n",
            "  adding: hrf_256_256_dice_loss_hvr_2/split_2/train/mask/_02_dr_1_122.png (deflated 28%)\n",
            "  adding: hrf_256_256_dice_loss_hvr_2/split_2/train/mask/_12_g_2_101.png (deflated 35%)\n",
            "  adding: hrf_256_256_dice_loss_hvr_2/split_2/train/mask/_02_h_0_2.png (deflated 44%)\n",
            "  adding: hrf_256_256_dice_loss_hvr_2/split_2/train/mask/_09_g_3_81.png (deflated 20%)\n",
            "  adding: hrf_256_256_dice_loss_hvr_2/split_2/train/mask/_02_dr_0_28.png (deflated 85%)\n",
            "  adding: hrf_256_256_dice_loss_hvr_2/split_2/train/mask/_09_dr_3_34.png (deflated 22%)\n",
            "  adding: hrf_256_256_dice_loss_hvr_2/split_2/train/mask/_10_dr_2_87.png (deflated 30%)\n",
            "  adding: hrf_256_256_dice_loss_hvr_2/split_2/train/mask/_10_dr_2_59.png (deflated 23%)\n",
            "  adding: hrf_256_256_dice_loss_hvr_2/split_2/train/mask/_06_dr_0_24.png (deflated 31%)\n",
            "  adding: hrf_256_256_dice_loss_hvr_2/split_2/train/mask/_12_dr_2_88.png (deflated 25%)\n",
            "  adding: hrf_256_256_dice_loss_hvr_2/split_2/train/mask/_14_g_0_60.png (deflated 18%)\n",
            "  adding: hrf_256_256_dice_loss_hvr_2/split_2/train/mask/_02_dr_0_53.png (deflated 32%)\n",
            "  adding: hrf_256_256_dice_loss_hvr_2/split_2/train/mask/_12_g_3_103.png (deflated 20%)\n",
            "  adding: hrf_256_256_dice_loss_hvr_2/split_2/train/mask/_08_h_1_43.png (deflated 21%)\n",
            "  adding: hrf_256_256_dice_loss_hvr_2/split_2/train/mask/_14_g_3_35.png (deflated 22%)\n",
            "  adding: hrf_256_256_dice_loss_hvr_2/split_2/train/mask/_08_h_2_91.png (deflated 22%)\n",
            "  adding: hrf_256_256_dice_loss_hvr_2/split_2/train/mask/_13_g_3_78.png (deflated 23%)\n",
            "  adding: hrf_256_256_dice_loss_hvr_2/split_2/train/mask/_04_h_0_61.png (deflated 26%)\n",
            "  adding: hrf_256_256_dice_loss_hvr_2/split_2/train/mask/_11_h_3_129.png (deflated 33%)\n",
            "  adding: hrf_256_256_dice_loss_hvr_2/split_2/train/mask/_15_dr_3_69.png (deflated 46%)\n",
            "  adding: hrf_256_256_dice_loss_hvr_2/split_2/train/mask/_11_h_0_96.png (deflated 21%)\n",
            "  adding: hrf_256_256_dice_loss_hvr_2/split_2/train/mask/_12_dr_1_138.png (deflated 85%)\n",
            "  adding: hrf_256_256_dice_loss_hvr_2/split_2/train/mask/_01_g_2_137.png (deflated 34%)\n",
            "  adding: hrf_256_256_dice_loss_hvr_2/split_2/train/mask/_06_dr_2_121.png (deflated 22%)\n",
            "  adding: hrf_256_256_dice_loss_hvr_2/split_2/train/mask/_14_dr_0_61.png (deflated 33%)\n",
            "  adding: hrf_256_256_dice_loss_hvr_2/split_2/train/mask/_04_h_3_68.png (deflated 25%)\n",
            "  adding: hrf_256_256_dice_loss_hvr_2/split_2/train/mask/_10_dr_2_21.png (deflated 12%)\n",
            "  adding: hrf_256_256_dice_loss_hvr_2/split_2/train/mask/_07_g_0_100.png (deflated 25%)\n",
            "  adding: hrf_256_256_dice_loss_hvr_2/split_2/train/mask/_15_dr_0_86.png (deflated 35%)\n",
            "  adding: hrf_256_256_dice_loss_hvr_2/split_2/train/mask/_15_dr_2_129.png (deflated 68%)\n",
            "  adding: hrf_256_256_dice_loss_hvr_2/split_2/train/mask/_06_dr_0_48.png (deflated 31%)\n",
            "  adding: hrf_256_256_dice_loss_hvr_2/split_2/train/mask/_09_g_0_57.png (deflated 25%)\n",
            "  adding: hrf_256_256_dice_loss_hvr_2/split_2/train/mask/_12_dr_2_14.png (deflated 85%)\n",
            "  adding: hrf_256_256_dice_loss_hvr_2/split_2/train/mask/_13_h_3_128.png (deflated 50%)\n",
            "  adding: hrf_256_256_dice_loss_hvr_2/split_2/train/mask/_03_dr_3_86.png (deflated 18%)\n",
            "  adding: hrf_256_256_dice_loss_hvr_2/split_2/train/mask/_12_dr_1_108.png (deflated 27%)\n",
            "  adding: hrf_256_256_dice_loss_hvr_2/split_2/train/mask/_10_g_1_119.png (deflated 21%)\n",
            "  adding: hrf_256_256_dice_loss_hvr_2/split_2/train/mask/_10_dr_2_0.png (deflated 85%)\n",
            "  adding: hrf_256_256_dice_loss_hvr_2/split_2/train/mask/_04_h_1_112.png (deflated 85%)\n",
            "  adding: hrf_256_256_dice_loss_hvr_2/split_2/train/mask/_02_h_0_62.png (deflated 18%)\n",
            "  adding: hrf_256_256_dice_loss_hvr_2/split_2/train/mask/_10_g_0_40.png (deflated 22%)\n",
            "  adding: hrf_256_256_dice_loss_hvr_2/split_2/train/mask/_03_dr_0_60.png (deflated 23%)\n",
            "  adding: hrf_256_256_dice_loss_hvr_2/split_2/train/mask/_01_g_0_79.png (deflated 27%)\n",
            "  adding: hrf_256_256_dice_loss_hvr_2/split_2/train/mask/_01_dr_3_30.png (deflated 17%)\n",
            "  adding: hrf_256_256_dice_loss_hvr_2/split_2/train/mask/_14_g_1_117.png (deflated 27%)\n",
            "  adding: hrf_256_256_dice_loss_hvr_2/split_2/train/mask/_05_h_1_107.png (deflated 25%)\n",
            "  adding: hrf_256_256_dice_loss_hvr_2/split_2/train/mask/_07_g_0_71.png (deflated 28%)\n",
            "  adding: hrf_256_256_dice_loss_hvr_2/split_2/train/mask/_02_dr_3_105.png (deflated 25%)\n",
            "  adding: hrf_256_256_dice_loss_hvr_2/split_2/train/mask/_02_dr_1_77.png (deflated 30%)\n",
            "  adding: hrf_256_256_dice_loss_hvr_2/split_2/train/mask/_13_h_1_35.png (deflated 22%)\n",
            "  adding: hrf_256_256_dice_loss_hvr_2/split_2/train/mask/_14_dr_0_90.png (deflated 17%)\n",
            "  adding: hrf_256_256_dice_loss_hvr_2/split_2/train/mask/_09_dr_2_57.png (deflated 85%)\n",
            "  adding: hrf_256_256_dice_loss_hvr_2/split_2/train/mask/_02_dr_0_57.png (deflated 34%)\n",
            "  adding: hrf_256_256_dice_loss_hvr_2/split_2/train/mask/_12_g_2_47.png (deflated 20%)\n",
            "  adding: hrf_256_256_dice_loss_hvr_2/split_2/train/mask/_09_g_1_98.png (deflated 85%)\n",
            "  adding: hrf_256_256_dice_loss_hvr_2/split_2/train/mask/_10_dr_0_11.png (deflated 31%)\n",
            "  adding: hrf_256_256_dice_loss_hvr_2/split_2/train/mask/_12_dr_2_130.png (deflated 85%)\n",
            "  adding: hrf_256_256_dice_loss_hvr_2/split_2/train/mask/_10_dr_0_72.png (deflated 16%)\n",
            "  adding: hrf_256_256_dice_loss_hvr_2/split_2/train/mask/_04_h_1_135.png (deflated 51%)\n",
            "  adding: hrf_256_256_dice_loss_hvr_2/split_2/train/mask/_01_g_3_68.png (deflated 16%)\n",
            "  adding: hrf_256_256_dice_loss_hvr_2/split_2/train/mask/_01_g_2_65.png (deflated 28%)\n",
            "  adding: hrf_256_256_dice_loss_hvr_2/split_2/train/mask/_11_h_3_38.png (deflated 21%)\n",
            "  adding: hrf_256_256_dice_loss_hvr_2/split_2/train/mask/_14_g_2_133.png (deflated 31%)\n",
            "  adding: hrf_256_256_dice_loss_hvr_2/split_2/train/mask/_07_g_0_104.png (deflated 20%)\n",
            "  adding: hrf_256_256_dice_loss_hvr_2/split_2/train/mask/_12_dr_1_13.png (deflated 85%)\n",
            "  adding: hrf_256_256_dice_loss_hvr_2/split_2/train/mask/_11_h_3_130.png (deflated 31%)\n",
            "  adding: hrf_256_256_dice_loss_hvr_2/split_2/train/mask/_07_h_0_106.png (deflated 28%)\n",
            "  adding: hrf_256_256_dice_loss_hvr_2/split_2/train/mask/_07_g_0_3.png (deflated 33%)\n",
            "  adding: hrf_256_256_dice_loss_hvr_2/split_2/train/mask/_14_h_3_65.png (deflated 24%)\n",
            "  adding: hrf_256_256_dice_loss_hvr_2/split_2/train/mask/_01_g_0_6.png (deflated 30%)\n",
            "  adding: hrf_256_256_dice_loss_hvr_2/split_2/train/mask/_09_dr_3_64.png (deflated 22%)\n",
            "  adding: hrf_256_256_dice_loss_hvr_2/split_2/train/mask/_14_h_0_92.png (deflated 21%)\n",
            "  adding: hrf_256_256_dice_loss_hvr_2/split_2/train/mask/_07_h_1_11.png (deflated 71%)\n",
            "  adding: hrf_256_256_dice_loss_hvr_2/split_2/train/mask/_15_dr_1_91.png (deflated 26%)\n",
            "  adding: hrf_256_256_dice_loss_hvr_2/split_2/train/mask/_04_g_2_30.png (deflated 22%)\n",
            "  adding: hrf_256_256_dice_loss_hvr_2/split_2/train/mask/_01_g_1_55.png (deflated 79%)\n",
            "  adding: hrf_256_256_dice_loss_hvr_2/split_2/train/mask/_13_h_0_62.png (deflated 30%)\n",
            "  adding: hrf_256_256_dice_loss_hvr_2/split_2/train/mask/_15_dr_0_57.png (deflated 26%)\n",
            "  adding: hrf_256_256_dice_loss_hvr_2/split_2/train/mask/_06_dr_0_26.png (deflated 31%)\n",
            "  adding: hrf_256_256_dice_loss_hvr_2/split_2/train/mask/_04_g_3_5.png (deflated 27%)\n",
            "  adding: hrf_256_256_dice_loss_hvr_2/split_2/train/mask/_12_g_0_65.png (deflated 27%)\n",
            "  adding: hrf_256_256_dice_loss_hvr_2/split_2/train/mask/_03_dr_0_62.png (deflated 29%)\n",
            "  adding: hrf_256_256_dice_loss_hvr_2/split_2/train/mask/_05_h_1_79.png (deflated 21%)\n",
            "  adding: hrf_256_256_dice_loss_hvr_2/split_2/train/mask/_12_g_2_32.png (deflated 24%)\n",
            "  adding: hrf_256_256_dice_loss_hvr_2/split_2/train/mask/_03_dr_2_115.png (deflated 41%)\n",
            "  adding: hrf_256_256_dice_loss_hvr_2/split_2/train/mask/_05_h_2_107.png (deflated 16%)\n",
            "  adding: hrf_256_256_dice_loss_hvr_2/split_2/train/mask/_15_dr_1_56.png (deflated 58%)\n",
            "  adding: hrf_256_256_dice_loss_hvr_2/split_2/train/mask/_02_dr_3_33.png (deflated 24%)\n",
            "  adding: hrf_256_256_dice_loss_hvr_2/split_2/train/mask/_06_dr_3_25.png (deflated 25%)\n",
            "  adding: hrf_256_256_dice_loss_hvr_2/split_2/train/mask/_11_g_2_110.png (deflated 17%)\n",
            "  adding: hrf_256_256_dice_loss_hvr_2/split_2/train/mask/_10_dr_0_74.png (deflated 20%)\n",
            "  adding: hrf_256_256_dice_loss_hvr_2/split_2/train/mask/_02_h_1_117.png (deflated 20%)\n",
            "  adding: hrf_256_256_dice_loss_hvr_2/split_2/train/mask/_11_h_2_37.png (deflated 18%)\n",
            "  adding: hrf_256_256_dice_loss_hvr_2/split_2/train/mask/_03_h_1_138.png (deflated 85%)\n",
            "  adding: hrf_256_256_dice_loss_hvr_2/split_2/train/mask/_11_h_3_73.png (deflated 20%)\n",
            "  adding: hrf_256_256_dice_loss_hvr_2/split_2/train/mask/_05_h_2_95.png (deflated 31%)\n",
            "  adding: hrf_256_256_dice_loss_hvr_2/split_2/train/mask/_06_dr_2_92.png (deflated 22%)\n",
            "  adding: hrf_256_256_dice_loss_hvr_2/split_2/train/mask/_12_dr_1_17.png (deflated 23%)\n",
            "  adding: hrf_256_256_dice_loss_hvr_2/split_2/train/mask/_12_g_0_57.png (deflated 27%)\n",
            "  adding: hrf_256_256_dice_loss_hvr_2/split_2/train/mask/_15_dr_1_138.png (deflated 85%)\n",
            "  adding: hrf_256_256_dice_loss_hvr_2/split_2/train/mask/_07_g_3_18.png (deflated 20%)\n",
            "  adding: hrf_256_256_dice_loss_hvr_2/split_2/train/mask/_08_h_3_21.png (deflated 17%)\n",
            "  adding: hrf_256_256_dice_loss_hvr_2/split_2/train/mask/_09_dr_0_112.png (deflated 85%)\n",
            "  adding: hrf_256_256_dice_loss_hvr_2/split_2/train/mask/_02_dr_3_24.png (deflated 20%)\n",
            "  adding: hrf_256_256_dice_loss_hvr_2/split_2/train/mask/_07_g_2_115.png (deflated 27%)\n",
            "  adding: hrf_256_256_dice_loss_hvr_2/split_2/train/mask/_12_g_3_112.png (deflated 24%)\n",
            "  adding: hrf_256_256_dice_loss_hvr_2/split_2/train/mask/_07_h_3_81.png (deflated 16%)\n",
            "  adding: hrf_256_256_dice_loss_hvr_2/split_2/train/mask/_06_dr_0_119.png (deflated 15%)\n",
            "  adding: hrf_256_256_dice_loss_hvr_2/split_2/train/mask/_13_g_0_24.png (deflated 26%)\n",
            "  adding: hrf_256_256_dice_loss_hvr_2/split_2/train/mask/_14_dr_3_121.png (deflated 36%)\n",
            "  adding: hrf_256_256_dice_loss_hvr_2/split_2/train/mask/_02_h_3_99.png (deflated 30%)\n",
            "  adding: hrf_256_256_dice_loss_hvr_2/split_2/train/mask/_01_dr_0_85.png (deflated 57%)\n",
            "  adding: hrf_256_256_dice_loss_hvr_2/split_2/train/mask/_05_h_1_49.png (deflated 22%)\n",
            "  adding: hrf_256_256_dice_loss_hvr_2/split_2/train/mask/_14_h_3_113.png (deflated 57%)\n",
            "  adding: hrf_256_256_dice_loss_hvr_2/split_2/train/mask/_01_g_2_88.png (deflated 20%)\n",
            "  adding: hrf_256_256_dice_loss_hvr_2/split_2/train/mask/_14_h_1_127.png (deflated 85%)\n",
            "  adding: hrf_256_256_dice_loss_hvr_2/split_2/train/mask/_11_h_2_130.png (deflated 29%)\n",
            "  adding: hrf_256_256_dice_loss_hvr_2/split_2/train/mask/_12_dr_3_126.png (deflated 57%)\n",
            "  adding: hrf_256_256_dice_loss_hvr_2/split_2/train/mask/_14_dr_2_38.png (deflated 39%)\n",
            "  adding: hrf_256_256_dice_loss_hvr_2/split_2/train/mask/_13_h_0_68.png (deflated 23%)\n",
            "  adding: hrf_256_256_dice_loss_hvr_2/split_2/train/mask/_14_h_0_41.png (deflated 57%)\n",
            "  adding: hrf_256_256_dice_loss_hvr_2/split_2/train/mask/_08_h_3_40.png (deflated 32%)\n",
            "  adding: hrf_256_256_dice_loss_hvr_2/split_2/train/mask/_04_g_3_4.png (deflated 35%)\n",
            "  adding: hrf_256_256_dice_loss_hvr_2/split_2/train/mask/_06_dr_1_129.png (deflated 46%)\n",
            "  adding: hrf_256_256_dice_loss_hvr_2/split_2/train/mask/_13_h_3_27.png (deflated 29%)\n",
            "  adding: hrf_256_256_dice_loss_hvr_2/split_2/train/mask/_09_dr_3_120.png (deflated 25%)\n",
            "  adding: hrf_256_256_dice_loss_hvr_2/split_2/train/mask/_15_dr_1_29.png (deflated 36%)\n",
            "  adding: hrf_256_256_dice_loss_hvr_2/split_2/train/mask/_11_g_2_100.png (deflated 19%)\n",
            "  adding: hrf_256_256_dice_loss_hvr_2/split_2/train/mask/_12_dr_3_97.png (deflated 45%)\n",
            "  adding: hrf_256_256_dice_loss_hvr_2/split_2/train/mask/_11_g_0_135.png (deflated 32%)\n",
            "  adding: hrf_256_256_dice_loss_hvr_2/split_2/train/mask/_12_g_2_22.png (deflated 22%)\n",
            "  adding: hrf_256_256_dice_loss_hvr_2/split_2/train/mask/_10_g_3_70.png (deflated 62%)\n",
            "  adding: hrf_256_256_dice_loss_hvr_2/split_2/train/mask/_09_g_0_103.png (deflated 19%)\n",
            "  adding: hrf_256_256_dice_loss_hvr_2/split_2/train/mask/_11_h_2_60.png (deflated 26%)\n",
            "  adding: hrf_256_256_dice_loss_hvr_2/split_2/train/mask/_07_h_0_78.png (deflated 25%)\n",
            "  adding: hrf_256_256_dice_loss_hvr_2/split_2/train/mask/_02_h_1_103.png (deflated 15%)\n",
            "  adding: hrf_256_256_dice_loss_hvr_2/split_2/train/mask/_01_g_0_133.png (deflated 39%)\n",
            "  adding: hrf_256_256_dice_loss_hvr_2/split_2/train/mask/_09_g_0_78.png (deflated 30%)\n",
            "  adding: hrf_256_256_dice_loss_hvr_2/split_2/train/mask/_13_g_0_35.png (deflated 28%)\n",
            "  adding: hrf_256_256_dice_loss_hvr_2/split_2/train/mask/_14_dr_3_49.png (deflated 25%)\n",
            "  adding: hrf_256_256_dice_loss_hvr_2/split_2/train/mask/_01_dr_1_137.png (deflated 85%)\n",
            "  adding: hrf_256_256_dice_loss_hvr_2/split_2/train/mask/_15_dr_3_123.png (deflated 29%)\n",
            "  adding: hrf_256_256_dice_loss_hvr_2/split_2/train/mask/_14_g_2_63.png (deflated 33%)\n",
            "  adding: hrf_256_256_dice_loss_hvr_2/split_2/train/mask/_04_g_2_53.png (deflated 21%)\n",
            "  adding: hrf_256_256_dice_loss_hvr_2/split_2/train/mask/_03_dr_0_80.png (deflated 16%)\n",
            "  adding: hrf_256_256_dice_loss_hvr_2/split_2/train/mask/_14_g_0_74.png (deflated 21%)\n",
            "  adding: hrf_256_256_dice_loss_hvr_2/split_2/train/mask/_01_g_3_28.png (deflated 85%)\n",
            "  adding: hrf_256_256_dice_loss_hvr_2/split_2/train/mask/_04_h_2_94.png (deflated 23%)\n",
            "  adding: hrf_256_256_dice_loss_hvr_2/split_2/train/mask/_05_h_3_53.png (deflated 23%)\n",
            "  adding: hrf_256_256_dice_loss_hvr_2/split_2/train/mask/_13_g_3_105.png (deflated 17%)\n",
            "  adding: hrf_256_256_dice_loss_hvr_2/split_2/train/mask/_12_dr_2_59.png (deflated 35%)\n",
            "  adding: hrf_256_256_dice_loss_hvr_2/split_2/train/mask/_01_dr_0_2.png (deflated 37%)\n",
            "  adding: hrf_256_256_dice_loss_hvr_2/split_2/train/mask/_10_dr_0_83.png (deflated 31%)\n",
            "  adding: hrf_256_256_dice_loss_hvr_2/split_2/train/mask/_01_dr_0_98.png (deflated 85%)\n",
            "  adding: hrf_256_256_dice_loss_hvr_2/split_2/train/mask/_02_h_0_114.png (deflated 19%)\n",
            "  adding: hrf_256_256_dice_loss_hvr_2/split_2/train/mask/_13_g_1_22.png (deflated 26%)\n",
            "  adding: hrf_256_256_dice_loss_hvr_2/split_2/train/mask/_09_g_0_72.png (deflated 20%)\n",
            "  adding: hrf_256_256_dice_loss_hvr_2/split_2/train/mask/_12_g_3_90.png (deflated 20%)\n",
            "  adding: hrf_256_256_dice_loss_hvr_2/split_2/train/mask/_02_h_2_24.png (deflated 24%)\n",
            "  adding: hrf_256_256_dice_loss_hvr_2/split_2/train/mask/_13_g_0_67.png (deflated 22%)\n",
            "  adding: hrf_256_256_dice_loss_hvr_2/split_2/train/mask/_08_h_2_3.png (deflated 31%)\n",
            "  adding: hrf_256_256_dice_loss_hvr_2/split_2/train/mask/_14_dr_2_58.png (deflated 20%)\n",
            "  adding: hrf_256_256_dice_loss_hvr_2/split_2/train/mask/_14_h_2_89.png (deflated 14%)\n",
            "  adding: hrf_256_256_dice_loss_hvr_2/split_2/train/mask/_09_dr_1_27.png (deflated 85%)\n",
            "  adding: hrf_256_256_dice_loss_hvr_2/split_2/train/mask/_03_h_0_71.png (deflated 29%)\n",
            "  adding: hrf_256_256_dice_loss_hvr_2/split_2/train/mask/_11_h_1_110.png (deflated 28%)\n",
            "  adding: hrf_256_256_dice_loss_hvr_2/split_2/train/mask/_14_h_2_114.png (deflated 20%)\n",
            "  adding: hrf_256_256_dice_loss_hvr_2/split_2/train/mask/_04_h_0_100.png (deflated 23%)\n",
            "  adding: hrf_256_256_dice_loss_hvr_2/split_2/train/mask/_02_h_2_65.png (deflated 25%)\n",
            "  adding: hrf_256_256_dice_loss_hvr_2/split_2/train/mask/_10_dr_1_111.png (deflated 85%)\n",
            "  adding: hrf_256_256_dice_loss_hvr_2/split_2/train/mask/_09_dr_0_74.png (deflated 28%)\n",
            "  adding: hrf_256_256_dice_loss_hvr_2/split_2/train/mask/_14_dr_1_126.png (deflated 85%)\n",
            "  adding: hrf_256_256_dice_loss_hvr_2/split_2/train/mask/_11_g_0_0.png (deflated 85%)\n",
            "  adding: hrf_256_256_dice_loss_hvr_2/split_2/train/mask/_11_h_1_58.png (deflated 20%)\n",
            "  adding: hrf_256_256_dice_loss_hvr_2/split_2/train/mask/_11_g_1_42.png (deflated 48%)\n",
            "  adding: hrf_256_256_dice_loss_hvr_2/split_2/train/mask/_14_dr_2_82.png (deflated 25%)\n",
            "  adding: hrf_256_256_dice_loss_hvr_2/split_2/train/mask/_01_g_2_46.png (deflated 29%)\n",
            "  adding: hrf_256_256_dice_loss_hvr_2/split_2/train/mask/_14_dr_3_137.png (deflated 42%)\n",
            "  adding: hrf_256_256_dice_loss_hvr_2/split_2/train/mask/_06_dr_0_103.png (deflated 23%)\n",
            "  adding: hrf_256_256_dice_loss_hvr_2/split_2/train/mask/_02_h_2_98.png (deflated 85%)\n",
            "  adding: hrf_256_256_dice_loss_hvr_2/split_2/train/mask/_10_dr_2_9.png (deflated 25%)\n",
            "  adding: hrf_256_256_dice_loss_hvr_2/split_2/train/mask/_05_h_2_90.png (deflated 23%)\n",
            "  adding: hrf_256_256_dice_loss_hvr_2/split_2/train/mask/_14_dr_3_114.png (deflated 38%)\n",
            "  adding: hrf_256_256_dice_loss_hvr_2/split_2/train/mask/_13_g_2_120.png (deflated 19%)\n",
            "  adding: hrf_256_256_dice_loss_hvr_2/split_2/train/mask/_14_g_3_46.png (deflated 18%)\n",
            "  adding: hrf_256_256_dice_loss_hvr_2/split_2/train/mask/_15_dr_1_127.png (deflated 85%)\n",
            "  adding: hrf_256_256_dice_loss_hvr_2/split_2/train/mask/_13_g_3_44.png (deflated 24%)\n",
            "  adding: hrf_256_256_dice_loss_hvr_2/split_2/train/mask/_01_dr_0_115.png (deflated 22%)\n",
            "  adding: hrf_256_256_dice_loss_hvr_2/split_2/train/mask/_02_h_1_21.png (deflated 28%)\n",
            "  adding: hrf_256_256_dice_loss_hvr_2/split_2/train/mask/_06_dr_0_44.png (deflated 23%)\n",
            "  adding: hrf_256_256_dice_loss_hvr_2/split_2/train/mask/_14_h_0_17.png (deflated 23%)\n",
            "  adding: hrf_256_256_dice_loss_hvr_2/split_2/train/mask/_07_h_2_35.png (deflated 30%)\n",
            "  adding: hrf_256_256_dice_loss_hvr_2/split_2/train/mask/_01_dr_0_117.png (deflated 21%)\n",
            "  adding: hrf_256_256_dice_loss_hvr_2/split_2/train/mask/_15_dr_1_36.png (deflated 24%)\n",
            "  adding: hrf_256_256_dice_loss_hvr_2/split_2/train/mask/_09_g_2_33.png (deflated 19%)\n",
            "  adding: hrf_256_256_dice_loss_hvr_2/split_2/train/mask/_01_g_1_0.png (deflated 85%)\n",
            "  adding: hrf_256_256_dice_loss_hvr_2/split_2/train/mask/_04_h_1_34.png (deflated 19%)\n",
            "  adding: hrf_256_256_dice_loss_hvr_2/split_2/train/mask/_14_h_0_13.png (deflated 85%)\n",
            "  adding: hrf_256_256_dice_loss_hvr_2/split_2/train/mask/_01_g_3_50.png (deflated 20%)\n",
            "  adding: hrf_256_256_dice_loss_hvr_2/split_2/train/mask/_02_h_0_103.png (deflated 25%)\n",
            "  adding: hrf_256_256_dice_loss_hvr_2/split_2/train/mask/_13_g_1_103.png (deflated 19%)\n",
            "  adding: hrf_256_256_dice_loss_hvr_2/split_2/train/mask/_12_dr_1_134.png (deflated 40%)\n",
            "  adding: hrf_256_256_dice_loss_hvr_2/split_2/train/mask/_14_dr_3_16.png (deflated 30%)\n",
            "  adding: hrf_256_256_dice_loss_hvr_2/split_2/train/mask/_13_g_2_24.png (deflated 28%)\n",
            "  adding: hrf_256_256_dice_loss_hvr_2/split_2/train/mask/_01_g_2_82.png (deflated 21%)\n",
            "  adding: hrf_256_256_dice_loss_hvr_2/split_2/train/mask/_12_g_0_17.png (deflated 40%)\n",
            "  adding: hrf_256_256_dice_loss_hvr_2/split_2/train/mask/_07_g_3_12.png (deflated 85%)\n",
            "  adding: hrf_256_256_dice_loss_hvr_2/split_2/train/mask/_14_g_2_66.png (deflated 25%)\n",
            "  adding: hrf_256_256_dice_loss_hvr_2/split_2/train/mask/_06_dr_1_8.png (deflated 85%)\n",
            "  adding: hrf_256_256_dice_loss_hvr_2/split_2/train/mask/_11_g_2_106.png (deflated 17%)\n",
            "  adding: hrf_256_256_dice_loss_hvr_2/split_2/train/mask/_09_dr_1_87.png (deflated 28%)\n",
            "  adding: hrf_256_256_dice_loss_hvr_2/split_2/train/mask/_14_dr_0_4.png (deflated 35%)\n",
            "  adding: hrf_256_256_dice_loss_hvr_2/split_2/train/mask/_03_h_0_34.png (deflated 28%)\n",
            "  adding: hrf_256_256_dice_loss_hvr_2/split_2/train/mask/_11_h_0_99.png (deflated 26%)\n",
            "  adding: hrf_256_256_dice_loss_hvr_2/split_2/train/mask/_11_g_3_43.png (deflated 21%)\n",
            "  adding: hrf_256_256_dice_loss_hvr_2/split_2/train/mask/_15_dr_2_9.png (deflated 35%)\n",
            "  adding: hrf_256_256_dice_loss_hvr_2/split_2/train/mask/_02_h_1_81.png (deflated 24%)\n",
            "  adding: hrf_256_256_dice_loss_hvr_2/split_2/train/mask/_02_dr_2_58.png (deflated 32%)\n",
            "  adding: hrf_256_256_dice_loss_hvr_2/split_2/train/mask/_03_dr_1_2.png (deflated 38%)\n",
            "  adding: hrf_256_256_dice_loss_hvr_2/split_2/train/mask/_14_g_2_92.png (deflated 27%)\n",
            "  adding: hrf_256_256_dice_loss_hvr_2/split_2/train/mask/_06_dr_3_49.png (deflated 31%)\n",
            "  adding: hrf_256_256_dice_loss_hvr_2/split_2/train/mask/_07_h_2_13.png (deflated 85%)\n",
            "  adding: hrf_256_256_dice_loss_hvr_2/split_2/train/mask/_09_dr_1_24.png (deflated 17%)\n",
            "  adding: hrf_256_256_dice_loss_hvr_2/split_2/train/mask/_10_g_0_46.png (deflated 27%)\n",
            "  adding: hrf_256_256_dice_loss_hvr_2/split_2/train/mask/_09_dr_2_132.png (deflated 36%)\n",
            "  adding: hrf_256_256_dice_loss_hvr_2/split_2/train/mask/_15_dr_0_123.png (deflated 25%)\n",
            "  adding: hrf_256_256_dice_loss_hvr_2/split_2/train/mask/_07_h_0_20.png (deflated 22%)\n",
            "  adding: hrf_256_256_dice_loss_hvr_2/split_2/train/mask/_08_h_0_97.png (deflated 41%)\n",
            "  adding: hrf_256_256_dice_loss_hvr_2/split_2/train/mask/_02_dr_0_39.png (deflated 29%)\n",
            "  adding: hrf_256_256_dice_loss_hvr_2/split_2/train/mask/_01_dr_0_51.png (deflated 28%)\n",
            "  adding: hrf_256_256_dice_loss_hvr_2/split_2/train/mask/_01_dr_1_115.png (deflated 17%)\n",
            "  adding: hrf_256_256_dice_loss_hvr_2/split_2/train/mask/_10_g_3_94.png (deflated 32%)\n",
            "  adding: hrf_256_256_dice_loss_hvr_2/split_2/train/mask/_04_h_2_35.png (deflated 31%)\n",
            "  adding: hrf_256_256_dice_loss_hvr_2/split_2/train/mask/_07_g_2_48.png (deflated 19%)\n",
            "  adding: hrf_256_256_dice_loss_hvr_2/split_2/train/mask/_14_g_3_44.png (deflated 23%)\n",
            "  adding: hrf_256_256_dice_loss_hvr_2/split_2/train/mask/_12_g_0_56.png (deflated 66%)\n",
            "  adding: hrf_256_256_dice_loss_hvr_2/split_2/train/mask/_15_dr_0_72.png (deflated 26%)\n",
            "  adding: hrf_256_256_dice_loss_hvr_2/split_2/train/mask/_14_g_2_50.png (deflated 26%)\n",
            "  adding: hrf_256_256_dice_loss_hvr_2/split_2/train/mask/_14_g_3_59.png (deflated 21%)\n",
            "  adding: hrf_256_256_dice_loss_hvr_2/split_2/train/mask/_08_h_2_100.png (deflated 25%)\n",
            "  adding: hrf_256_256_dice_loss_hvr_2/split_2/train/mask/_11_h_3_114.png (deflated 42%)\n",
            "  adding: hrf_256_256_dice_loss_hvr_2/split_2/train/mask/_04_h_1_51.png (deflated 15%)\n",
            "  adding: hrf_256_256_dice_loss_hvr_2/split_2/train/mask/_01_g_3_46.png (deflated 18%)\n",
            "  adding: hrf_256_256_dice_loss_hvr_2/split_2/train/mask/_07_g_2_26.png (deflated 64%)\n",
            "  adding: hrf_256_256_dice_loss_hvr_2/split_2/train/mask/_02_h_1_11.png (deflated 42%)\n",
            "  adding: hrf_256_256_dice_loss_hvr_2/split_2/train/mask/_08_h_3_54.png (deflated 22%)\n",
            "  adding: hrf_256_256_dice_loss_hvr_2/split_2/train/mask/_04_g_2_137.png (deflated 34%)\n",
            "  adding: hrf_256_256_dice_loss_hvr_2/split_2/train/mask/_02_h_3_61.png (deflated 22%)\n",
            "  adding: hrf_256_256_dice_loss_hvr_2/split_2/train/mask/_11_g_3_128.png (deflated 38%)\n",
            "  adding: hrf_256_256_dice_loss_hvr_2/split_2/train/mask/_04_h_3_121.png (deflated 18%)\n",
            "  adding: hrf_256_256_dice_loss_hvr_2/split_2/train/mask/_15_dr_2_82.png (deflated 15%)\n",
            "  adding: hrf_256_256_dice_loss_hvr_2/split_2/train/mask/_06_dr_0_76.png (deflated 42%)\n",
            "  adding: hrf_256_256_dice_loss_hvr_2/split_2/train/mask/_14_g_3_36.png (deflated 27%)\n",
            "  adding: hrf_256_256_dice_loss_hvr_2/split_2/train/mask/_07_h_0_93.png (deflated 24%)\n",
            "  adding: hrf_256_256_dice_loss_hvr_2/split_2/train/mask/_09_g_1_115.png (deflated 31%)\n",
            "  adding: hrf_256_256_dice_loss_hvr_2/split_2/train/mask/_09_dr_1_82.png (deflated 85%)\n",
            "  adding: hrf_256_256_dice_loss_hvr_2/split_2/train/mask/_02_dr_1_125.png (deflated 85%)\n",
            "  adding: hrf_256_256_dice_loss_hvr_2/split_2/train/mask/_05_h_0_7.png (deflated 33%)\n",
            "  adding: hrf_256_256_dice_loss_hvr_2/split_2/train/mask/_05_h_1_20.png (deflated 15%)\n",
            "  adding: hrf_256_256_dice_loss_hvr_2/split_2/train/mask/_01_dr_2_115.png (deflated 31%)\n",
            "  adding: hrf_256_256_dice_loss_hvr_2/split_2/train/mask/_07_g_0_11.png (deflated 33%)\n",
            "  adding: hrf_256_256_dice_loss_hvr_2/split_2/train/mask/_14_dr_2_26.png (deflated 51%)\n",
            "  adding: hrf_256_256_dice_loss_hvr_2/split_2/train/mask/_13_g_0_112.png (deflated 85%)\n",
            "  adding: hrf_256_256_dice_loss_hvr_2/split_2/train/mask/_07_h_0_139.png (deflated 85%)\n",
            "  adding: hrf_256_256_dice_loss_hvr_2/split_2/train/mask/_07_h_2_51.png (deflated 22%)\n",
            "  adding: hrf_256_256_dice_loss_hvr_2/split_2/train/mask/_03_h_0_40.png (deflated 27%)\n",
            "  adding: hrf_256_256_dice_loss_hvr_2/split_2/train/mask/_10_g_2_46.png (deflated 29%)\n",
            "  adding: hrf_256_256_dice_loss_hvr_2/split_2/train/mask/_11_h_0_94.png (deflated 17%)\n",
            "  adding: hrf_256_256_dice_loss_hvr_2/split_2/train/mask/_11_g_2_1.png (deflated 85%)\n",
            "  adding: hrf_256_256_dice_loss_hvr_2/split_2/train/mask/_07_h_2_46.png (deflated 24%)\n",
            "  adding: hrf_256_256_dice_loss_hvr_2/split_2/train/mask/_09_g_3_134.png (deflated 32%)\n",
            "  adding: hrf_256_256_dice_loss_hvr_2/split_2/train/mask/_06_dr_1_33.png (deflated 20%)\n",
            "  adding: hrf_256_256_dice_loss_hvr_2/split_2/train/mask/_10_dr_3_95.png (deflated 23%)\n",
            "  adding: hrf_256_256_dice_loss_hvr_2/split_2/train/mask/_07_g_0_34.png (deflated 24%)\n",
            "  adding: hrf_256_256_dice_loss_hvr_2/split_2/train/mask/_14_dr_2_52.png (deflated 25%)\n",
            "  adding: hrf_256_256_dice_loss_hvr_2/split_2/train/mask/_06_dr_1_94.png (deflated 28%)\n",
            "  adding: hrf_256_256_dice_loss_hvr_2/split_2/train/mask/_06_dr_1_136.png (deflated 45%)\n",
            "  adding: hrf_256_256_dice_loss_hvr_2/split_2/train/mask/_14_h_0_50.png (deflated 24%)\n",
            "  adding: hrf_256_256_dice_loss_hvr_2/split_2/train/mask/_03_dr_3_121.png (deflated 17%)\n",
            "  adding: hrf_256_256_dice_loss_hvr_2/split_2/train/mask/_05_h_1_130.png (deflated 38%)\n",
            "  adding: hrf_256_256_dice_loss_hvr_2/split_2/train/mask/_01_dr_1_55.png (deflated 59%)\n",
            "  adding: hrf_256_256_dice_loss_hvr_2/split_2/train/mask/_03_dr_3_128.png (deflated 31%)\n",
            "  adding: hrf_256_256_dice_loss_hvr_2/split_2/train/mask/_14_dr_0_41.png (deflated 75%)\n",
            "  adding: hrf_256_256_dice_loss_hvr_2/split_2/train/mask/_13_h_2_81.png (deflated 18%)\n",
            "  adding: hrf_256_256_dice_loss_hvr_2/split_2/train/mask/_06_dr_0_63.png (deflated 24%)\n",
            "  adding: hrf_256_256_dice_loss_hvr_2/split_2/train/mask/_05_h_1_72.png (deflated 24%)\n",
            "  adding: hrf_256_256_dice_loss_hvr_2/split_2/train/mask/_15_dr_3_90.png (deflated 31%)\n",
            "  adding: hrf_256_256_dice_loss_hvr_2/split_2/train/mask/_02_h_3_127.png (deflated 85%)\n",
            "  adding: hrf_256_256_dice_loss_hvr_2/split_2/train/mask/_14_h_2_4.png (deflated 59%)\n",
            "  adding: hrf_256_256_dice_loss_hvr_2/split_2/train/mask/_13_h_2_69.png (deflated 67%)\n",
            "  adding: hrf_256_256_dice_loss_hvr_2/split_2/train/mask/_10_g_3_128.png (deflated 31%)\n",
            "  adding: hrf_256_256_dice_loss_hvr_2/split_2/train/mask/_12_g_0_78.png (deflated 32%)\n",
            "  adding: hrf_256_256_dice_loss_hvr_2/split_2/train/mask/_01_g_0_42.png (deflated 80%)\n",
            "  adding: hrf_256_256_dice_loss_hvr_2/split_2/train/mask/_06_dr_0_43.png (deflated 27%)\n",
            "  adding: hrf_256_256_dice_loss_hvr_2/split_2/train/mask/_03_h_2_21.png (deflated 17%)\n",
            "  adding: hrf_256_256_dice_loss_hvr_2/split_2/train/mask/_10_dr_2_46.png (deflated 22%)\n",
            "  adding: hrf_256_256_dice_loss_hvr_2/split_2/train/mask/_09_g_2_90.png (deflated 22%)\n",
            "  adding: hrf_256_256_dice_loss_hvr_2/split_2/train/mask/_01_g_3_132.png (deflated 33%)\n",
            "  adding: hrf_256_256_dice_loss_hvr_2/split_2/train/mask/_04_g_1_86.png (deflated 18%)\n",
            "  adding: hrf_256_256_dice_loss_hvr_2/split_2/train/mask/_11_g_0_127.png (deflated 85%)\n",
            "  adding: hrf_256_256_dice_loss_hvr_2/split_2/train/mask/_08_h_1_78.png (deflated 22%)\n",
            "  adding: hrf_256_256_dice_loss_hvr_2/split_2/train/mask/_01_dr_0_136.png (deflated 45%)\n",
            "  adding: hrf_256_256_dice_loss_hvr_2/split_2/train/mask/_13_g_1_81.png (deflated 22%)\n",
            "  adding: hrf_256_256_dice_loss_hvr_2/split_2/train/mask/_03_dr_1_134.png (deflated 54%)\n",
            "  adding: hrf_256_256_dice_loss_hvr_2/split_2/train/mask/_13_h_3_20.png (deflated 13%)\n",
            "  adding: hrf_256_256_dice_loss_hvr_2/split_2/train/mask/_08_h_1_71.png (deflated 23%)\n",
            "  adding: hrf_256_256_dice_loss_hvr_2/split_2/train/mask/_06_dr_0_22.png (deflated 21%)\n",
            "  adding: hrf_256_256_dice_loss_hvr_2/split_2/train/mask/_06_dr_2_0.png (deflated 85%)\n",
            "  adding: hrf_256_256_dice_loss_hvr_2/split_2/train/mask/_01_dr_0_54.png (deflated 47%)\n",
            "  adding: hrf_256_256_dice_loss_hvr_2/split_2/train/mask/_04_g_0_116.png (deflated 33%)\n",
            "  adding: hrf_256_256_dice_loss_hvr_2/split_2/train/mask/_13_g_1_28.png (deflated 85%)\n",
            "  adding: hrf_256_256_dice_loss_hvr_2/split_2/train/mask/_04_h_3_52.png (deflated 21%)\n",
            "  adding: hrf_256_256_dice_loss_hvr_2/split_2/train/mask/_09_dr_3_27.png (deflated 29%)\n",
            "  adding: hrf_256_256_dice_loss_hvr_2/split_2/train/mask/_14_dr_0_97.png (deflated 72%)\n",
            "  adding: hrf_256_256_dice_loss_hvr_2/split_2/train/mask/_14_g_1_73.png (deflated 25%)\n",
            "  adding: hrf_256_256_dice_loss_hvr_2/split_2/train/mask/_11_g_3_16.png (deflated 20%)\n",
            "  adding: hrf_256_256_dice_loss_hvr_2/split_2/train/mask/_15_dr_0_71.png (deflated 31%)\n",
            "  adding: hrf_256_256_dice_loss_hvr_2/split_2/train/mask/_05_h_3_61.png (deflated 26%)\n",
            "  adding: hrf_256_256_dice_loss_hvr_2/split_2/train/mask/_04_h_0_5.png (deflated 28%)\n",
            "  adding: hrf_256_256_dice_loss_hvr_2/split_2/train/mask/_03_dr_0_81.png (deflated 34%)\n",
            "  adding: hrf_256_256_dice_loss_hvr_2/split_2/train/mask/_04_h_0_59.png (deflated 23%)\n",
            "  adding: hrf_256_256_dice_loss_hvr_2/split_2/train/mask/_14_dr_0_51.png (deflated 33%)\n",
            "  adding: hrf_256_256_dice_loss_hvr_2/split_2/train/mask/_02_dr_1_118.png (deflated 19%)\n",
            "  adding: hrf_256_256_dice_loss_hvr_2/split_2/train/mask/_07_h_1_29.png (deflated 26%)\n",
            "  adding: hrf_256_256_dice_loss_hvr_2/split_2/train/mask/_14_dr_0_64.png (deflated 32%)\n",
            "  adding: hrf_256_256_dice_loss_hvr_2/split_2/train/mask/_09_dr_3_72.png (deflated 28%)\n",
            "  adding: hrf_256_256_dice_loss_hvr_2/split_2/train/mask/_13_h_0_106.png (deflated 23%)\n",
            "  adding: hrf_256_256_dice_loss_hvr_2/split_2/train/mask/_11_h_0_46.png (deflated 27%)\n",
            "  adding: hrf_256_256_dice_loss_hvr_2/split_2/train/mask/_13_g_2_125.png (deflated 85%)\n",
            "  adding: hrf_256_256_dice_loss_hvr_2/split_2/train/mask/_04_g_2_34.png (deflated 16%)\n",
            "  adding: hrf_256_256_dice_loss_hvr_2/split_2/train/mask/_13_h_3_94.png (deflated 19%)\n",
            "  adding: hrf_256_256_dice_loss_hvr_2/split_2/train/mask/_06_dr_2_111.png (deflated 77%)\n",
            "  adding: hrf_256_256_dice_loss_hvr_2/split_2/train/mask/_11_g_2_115.png (deflated 18%)\n",
            "  adding: hrf_256_256_dice_loss_hvr_2/split_2/train/mask/_09_g_0_124.png (deflated 57%)\n",
            "  adding: hrf_256_256_dice_loss_hvr_2/split_2/train/mask/_10_g_3_112.png (deflated 85%)\n",
            "  adding: hrf_256_256_dice_loss_hvr_2/split_2/train/mask/_07_g_1_20.png (deflated 20%)\n",
            "  adding: hrf_256_256_dice_loss_hvr_2/split_2/train/mask/_09_g_0_118.png (deflated 18%)\n",
            "  adding: hrf_256_256_dice_loss_hvr_2/split_2/train/mask/_03_dr_0_36.png (deflated 22%)\n",
            "  adding: hrf_256_256_dice_loss_hvr_2/split_2/train/mask/_09_g_1_8.png (deflated 35%)\n",
            "  adding: hrf_256_256_dice_loss_hvr_2/split_2/train/mask/_09_g_1_57.png (deflated 27%)\n",
            "  adding: hrf_256_256_dice_loss_hvr_2/split_2/train/mask/_15_dr_3_45.png (deflated 26%)\n",
            "  adding: hrf_256_256_dice_loss_hvr_2/split_2/train/mask/_11_h_0_101.png (deflated 18%)\n",
            "  adding: hrf_256_256_dice_loss_hvr_2/split_2/train/mask/_06_dr_1_67.png (deflated 27%)\n",
            "  adding: hrf_256_256_dice_loss_hvr_2/split_2/train/mask/_13_h_1_127.png (deflated 85%)\n",
            "  adding: hrf_256_256_dice_loss_hvr_2/split_2/train/mask/_07_h_0_80.png (deflated 26%)\n",
            "  adding: hrf_256_256_dice_loss_hvr_2/split_2/train/mask/_08_h_2_7.png (deflated 32%)\n",
            "  adding: hrf_256_256_dice_loss_hvr_2/split_2/train/mask/_06_dr_2_105.png (deflated 24%)\n",
            "  adding: hrf_256_256_dice_loss_hvr_2/split_2/train/mask/_10_g_2_18.png (deflated 16%)\n",
            "  adding: hrf_256_256_dice_loss_hvr_2/split_2/train/mask/_10_g_0_105.png (deflated 21%)\n",
            "  adding: hrf_256_256_dice_loss_hvr_2/split_2/train/mask/_14_h_0_103.png (deflated 14%)\n",
            "  adding: hrf_256_256_dice_loss_hvr_2/split_2/train/mask/_02_h_2_113.png (deflated 32%)\n",
            "  adding: hrf_256_256_dice_loss_hvr_2/split_2/train/mask/_14_g_0_19.png (deflated 22%)\n",
            "  adding: hrf_256_256_dice_loss_hvr_2/split_2/train/mask/_02_dr_2_29.png (deflated 29%)\n",
            "  adding: hrf_256_256_dice_loss_hvr_2/split_2/train/mask/_15_dr_0_50.png (deflated 28%)\n",
            "  adding: hrf_256_256_dice_loss_hvr_2/split_2/train/mask/_02_h_3_8.png (deflated 24%)\n",
            "  adding: hrf_256_256_dice_loss_hvr_2/split_2/train/mask/_07_h_3_45.png (deflated 20%)\n",
            "  adding: hrf_256_256_dice_loss_hvr_2/split_2/train/mask/_06_dr_3_74.png (deflated 28%)\n",
            "  adding: hrf_256_256_dice_loss_hvr_2/split_2/train/mask/_02_dr_1_96.png (deflated 27%)\n",
            "  adding: hrf_256_256_dice_loss_hvr_2/split_2/train/mask/_03_dr_0_57.png (deflated 37%)\n",
            "  adding: hrf_256_256_dice_loss_hvr_2/split_2/train/mask/_03_h_0_106.png (deflated 25%)\n",
            "  adding: hrf_256_256_dice_loss_hvr_2/split_2/train/mask/_11_h_1_46.png (deflated 17%)\n",
            "  adding: hrf_256_256_dice_loss_hvr_2/split_2/train/mask/_12_dr_2_101.png (deflated 37%)\n",
            "  adding: hrf_256_256_dice_loss_hvr_2/split_2/train/mask/_04_g_1_28.png (deflated 85%)\n",
            "  adding: hrf_256_256_dice_loss_hvr_2/split_2/train/mask/_15_dr_1_137.png (deflated 65%)\n",
            "  adding: hrf_256_256_dice_loss_hvr_2/split_2/train/mask/_12_g_1_6.png (deflated 37%)\n",
            "  adding: hrf_256_256_dice_loss_hvr_2/split_2/train/mask/_01_dr_3_68.png (deflated 19%)\n",
            "  adding: hrf_256_256_dice_loss_hvr_2/split_2/train/mask/_12_g_1_54.png (deflated 14%)\n",
            "  adding: hrf_256_256_dice_loss_hvr_2/split_2/train/mask/_09_dr_2_124.png (deflated 25%)\n",
            "  adding: hrf_256_256_dice_loss_hvr_2/split_2/train/mask/_01_dr_0_49.png (deflated 18%)\n",
            "  adding: hrf_256_256_dice_loss_hvr_2/split_2/train/mask/_11_g_0_64.png (deflated 23%)\n",
            "  adding: hrf_256_256_dice_loss_hvr_2/split_2/train/mask/_12_g_2_54.png (deflated 24%)\n",
            "  adding: hrf_256_256_dice_loss_hvr_2/split_2/train/mask/_15_dr_0_66.png (deflated 17%)\n",
            "  adding: hrf_256_256_dice_loss_hvr_2/split_2/train/mask/_13_h_2_21.png (deflated 13%)\n",
            "  adding: hrf_256_256_dice_loss_hvr_2/split_2/train/mask/_04_h_3_69.png (deflated 33%)\n",
            "  adding: hrf_256_256_dice_loss_hvr_2/split_2/train/mask/_04_h_2_1.png (deflated 85%)\n",
            "  adding: hrf_256_256_dice_loss_hvr_2/split_2/train/mask/_05_h_3_20.png (deflated 13%)\n",
            "  adding: hrf_256_256_dice_loss_hvr_2/split_2/train/mask/_03_h_0_28.png (deflated 85%)\n",
            "  adding: hrf_256_256_dice_loss_hvr_2/split_2/train/mask/_12_dr_1_126.png (deflated 85%)\n",
            "  adding: hrf_256_256_dice_loss_hvr_2/split_2/train/mask/_03_h_2_70.png (deflated 63%)\n",
            "  adding: hrf_256_256_dice_loss_hvr_2/split_2/train/mask/_09_dr_1_129.png (deflated 34%)\n",
            "  adding: hrf_256_256_dice_loss_hvr_2/split_2/train/mask/_11_h_2_63.png (deflated 42%)\n",
            "  adding: hrf_256_256_dice_loss_hvr_2/split_2/train/mask/_04_h_2_115.png (deflated 29%)\n",
            "  adding: hrf_256_256_dice_loss_hvr_2/split_2/train/mask/_11_g_3_46.png (deflated 18%)\n",
            "  adding: hrf_256_256_dice_loss_hvr_2/split_2/train/mask/_06_dr_1_134.png (deflated 30%)\n",
            "  adding: hrf_256_256_dice_loss_hvr_2/split_2/train/mask/_11_h_3_35.png (deflated 17%)\n",
            "  adding: hrf_256_256_dice_loss_hvr_2/split_2/train/mask/_08_h_1_75.png (deflated 29%)\n",
            "  adding: hrf_256_256_dice_loss_hvr_2/split_2/train/mask/_14_dr_1_33.png (deflated 28%)\n",
            "  adding: hrf_256_256_dice_loss_hvr_2/split_2/train/mask/_09_g_3_30.png (deflated 14%)\n",
            "  adding: hrf_256_256_dice_loss_hvr_2/split_2/train/mask/_10_g_3_26.png (deflated 47%)\n",
            "  adding: hrf_256_256_dice_loss_hvr_2/split_2/train/mask/_10_dr_0_45.png (deflated 30%)\n",
            "  adding: hrf_256_256_dice_loss_hvr_2/split_2/train/mask/_04_g_1_131.png (deflated 29%)\n",
            "  adding: hrf_256_256_dice_loss_hvr_2/split_2/train/mask/_14_h_0_6.png (deflated 45%)\n",
            "  adding: hrf_256_256_dice_loss_hvr_2/split_2/train/mask/_02_h_2_36.png (deflated 16%)\n",
            "  adding: hrf_256_256_dice_loss_hvr_2/split_2/train/mask/_03_dr_2_26.png (deflated 66%)\n",
            "  adding: hrf_256_256_dice_loss_hvr_2/split_2/train/mask/_03_h_2_75.png (deflated 26%)\n",
            "  adding: hrf_256_256_dice_loss_hvr_2/split_2/train/mask/_13_h_1_19.png (deflated 13%)\n",
            "  adding: hrf_256_256_dice_loss_hvr_2/split_2/train/mask/_10_g_1_5.png (deflated 31%)\n",
            "  adding: hrf_256_256_dice_loss_hvr_2/split_2/train/mask/_05_h_2_123.png (deflated 48%)\n",
            "  adding: hrf_256_256_dice_loss_hvr_2/split_2/train/mask/_02_h_2_100.png (deflated 21%)\n",
            "  adding: hrf_256_256_dice_loss_hvr_2/split_2/train/mask/_02_dr_2_4.png (deflated 39%)\n",
            "  adding: hrf_256_256_dice_loss_hvr_2/split_2/train/mask/_08_h_2_120.png (deflated 19%)\n",
            "  adding: hrf_256_256_dice_loss_hvr_2/split_2/train/mask/_10_g_2_27.png (deflated 85%)\n",
            "  adding: hrf_256_256_dice_loss_hvr_2/split_2/train/mask/_12_g_2_112.png (deflated 85%)\n",
            "  adding: hrf_256_256_dice_loss_hvr_2/split_2/train/mask/_10_dr_0_59.png (deflated 26%)\n",
            "  adding: hrf_256_256_dice_loss_hvr_2/split_2/train/mask/_12_dr_3_113.png (deflated 37%)\n",
            "  adding: hrf_256_256_dice_loss_hvr_2/split_2/train/mask/_13_g_1_65.png (deflated 21%)\n",
            "  adding: hrf_256_256_dice_loss_hvr_2/split_2/train/mask/_08_h_1_97.png (deflated 58%)\n",
            "  adding: hrf_256_256_dice_loss_hvr_2/split_2/train/mask/_04_h_0_51.png (deflated 22%)\n",
            "  adding: hrf_256_256_dice_loss_hvr_2/split_2/train/mask/_04_g_2_81.png (deflated 54%)\n",
            "  adding: hrf_256_256_dice_loss_hvr_2/split_2/train/mask/_13_g_0_90.png (deflated 25%)\n",
            "  adding: hrf_256_256_dice_loss_hvr_2/split_2/train/mask/_12_g_3_94.png (deflated 22%)\n",
            "  adding: hrf_256_256_dice_loss_hvr_2/split_2/train/mask/_10_g_1_127.png (deflated 85%)\n",
            "  adding: hrf_256_256_dice_loss_hvr_2/split_2/train/mask/_11_g_3_2.png (deflated 27%)\n",
            "  adding: hrf_256_256_dice_loss_hvr_2/split_2/train/mask/_13_g_2_83.png (deflated 63%)\n",
            "  adding: hrf_256_256_dice_loss_hvr_2/split_2/train/mask/_14_h_1_59.png (deflated 19%)\n",
            "  adding: hrf_256_256_dice_loss_hvr_2/split_2/train/mask/_13_g_1_69.png (deflated 85%)\n",
            "  adding: hrf_256_256_dice_loss_hvr_2/split_2/train/mask/_06_dr_3_100.png (deflated 15%)\n",
            "  adding: hrf_256_256_dice_loss_hvr_2/split_2/train/mask/_14_dr_3_45.png (deflated 26%)\n",
            "  adding: hrf_256_256_dice_loss_hvr_2/split_2/train/mask/_12_g_0_9.png (deflated 48%)\n",
            "  adding: hrf_256_256_dice_loss_hvr_2/split_2/train/mask/_07_h_0_23.png (deflated 23%)\n",
            "  adding: hrf_256_256_dice_loss_hvr_2/split_2/train/mask/_08_h_0_18.png (deflated 30%)\n",
            "  adding: hrf_256_256_dice_loss_hvr_2/split_2/train/mask/_14_h_1_0.png (deflated 85%)\n",
            "  adding: hrf_256_256_dice_loss_hvr_2/split_2/train/mask/_07_h_3_55.png (deflated 29%)\n",
            "  adding: hrf_256_256_dice_loss_hvr_2/split_2/train/mask/_11_g_0_105.png (deflated 24%)\n",
            "  adding: hrf_256_256_dice_loss_hvr_2/split_2/train/mask/_06_dr_0_88.png (deflated 23%)\n",
            "  adding: hrf_256_256_dice_loss_hvr_2/split_2/train/mask/_02_dr_2_24.png (deflated 16%)\n",
            "  adding: hrf_256_256_dice_loss_hvr_2/split_2/train/mask/_11_g_1_18.png (deflated 24%)\n",
            "  adding: hrf_256_256_dice_loss_hvr_2/split_2/train/mask/_09_dr_0_101.png (deflated 53%)\n",
            "  adding: hrf_256_256_dice_loss_hvr_2/split_2/train/mask/_01_dr_1_76.png (deflated 53%)\n",
            "  adding: hrf_256_256_dice_loss_hvr_2/split_2/train/mask/_10_g_2_72.png (deflated 25%)\n",
            "  adding: hrf_256_256_dice_loss_hvr_2/split_2/train/mask/_01_dr_0_39.png (deflated 52%)\n",
            "  adding: hrf_256_256_dice_loss_hvr_2/split_2/train/mask/_01_dr_1_88.png (deflated 25%)\n",
            "  adding: hrf_256_256_dice_loss_hvr_2/split_2/train/mask/_02_h_2_2.png (deflated 34%)\n",
            "  adding: hrf_256_256_dice_loss_hvr_2/split_2/train/mask/_05_h_2_108.png (deflated 23%)\n",
            "  adding: hrf_256_256_dice_loss_hvr_2/split_2/train/mask/_12_g_3_56.png (deflated 27%)\n",
            "  adding: hrf_256_256_dice_loss_hvr_2/split_2/train/mask/_12_g_2_63.png (deflated 29%)\n",
            "  adding: hrf_256_256_dice_loss_hvr_2/split_2/train/mask/_12_dr_3_82.png (deflated 19%)\n",
            "  adding: hrf_256_256_dice_loss_hvr_2/split_2/train/mask/_03_dr_0_114.png (deflated 27%)\n",
            "  adding: hrf_256_256_dice_loss_hvr_2/split_2/train/mask/_12_g_2_50.png (deflated 27%)\n",
            "  adding: hrf_256_256_dice_loss_hvr_2/split_2/train/mask/_14_h_2_58.png (deflated 18%)\n",
            "  adding: hrf_256_256_dice_loss_hvr_2/split_2/train/mask/_12_g_3_122.png (deflated 25%)\n",
            "  adding: hrf_256_256_dice_loss_hvr_2/split_2/train/mask/_09_g_1_90.png (deflated 25%)\n",
            "  adding: hrf_256_256_dice_loss_hvr_2/split_2/train/mask/_06_dr_3_38.png (deflated 28%)\n",
            "  adding: hrf_256_256_dice_loss_hvr_2/split_2/train/mask/_09_dr_2_61.png (deflated 31%)\n",
            "  adding: hrf_256_256_dice_loss_hvr_2/split_2/train/mask/_10_g_3_24.png (deflated 31%)\n",
            "  adding: hrf_256_256_dice_loss_hvr_2/split_2/train/mask/_05_h_1_120.png (deflated 20%)\n",
            "  adding: hrf_256_256_dice_loss_hvr_2/split_2/train/mask/_11_h_0_117.png (deflated 15%)\n",
            "  adding: hrf_256_256_dice_loss_hvr_2/split_2/train/mask/_07_h_1_97.png (deflated 52%)\n",
            "  adding: hrf_256_256_dice_loss_hvr_2/split_2/train/mask/_11_g_1_133.png (deflated 41%)\n",
            "  adding: hrf_256_256_dice_loss_hvr_2/split_2/train/mask/_14_g_2_71.png (deflated 23%)\n",
            "  adding: hrf_256_256_dice_loss_hvr_2/split_2/train/mask/_13_h_3_40.png (deflated 26%)\n",
            "  adding: hrf_256_256_dice_loss_hvr_2/split_2/train/mask/_01_g_3_85.png (deflated 38%)\n",
            "  adding: hrf_256_256_dice_loss_hvr_2/split_2/train/mask/_02_dr_0_62.png (deflated 38%)\n",
            "  adding: hrf_256_256_dice_loss_hvr_2/split_2/train/mask/_14_dr_0_63.png (deflated 23%)\n",
            "  adding: hrf_256_256_dice_loss_hvr_2/split_2/train/mask/_10_g_0_60.png (deflated 26%)\n",
            "  adding: hrf_256_256_dice_loss_hvr_2/split_2/train/mask/_14_dr_3_22.png (deflated 19%)\n",
            "  adding: hrf_256_256_dice_loss_hvr_2/split_2/train/mask/_02_h_3_11.png (deflated 39%)\n",
            "  adding: hrf_256_256_dice_loss_hvr_2/split_2/train/mask/_14_h_0_26.png (deflated 58%)\n",
            "  adding: hrf_256_256_dice_loss_hvr_2/split_2/train/mask/_04_h_0_37.png (deflated 14%)\n",
            "  adding: hrf_256_256_dice_loss_hvr_2/split_2/train/mask/_03_dr_2_50.png (deflated 25%)\n",
            "  adding: hrf_256_256_dice_loss_hvr_2/split_2/train/mask/_03_h_2_113.png (deflated 48%)\n",
            "  adding: hrf_256_256_dice_loss_hvr_2/split_2/train/mask/_05_h_0_17.png (deflated 18%)\n",
            "  adding: hrf_256_256_dice_loss_hvr_2/split_2/train/mask/_14_g_3_12.png (deflated 31%)\n",
            "  adding: hrf_256_256_dice_loss_hvr_2/split_2/train/mask/_12_dr_3_100.png (deflated 19%)\n",
            "  adding: hrf_256_256_dice_loss_hvr_2/split_2/train/mask/_02_h_1_139.png (deflated 85%)\n",
            "  adding: hrf_256_256_dice_loss_hvr_2/split_2/train/mask/_15_dr_0_89.png (deflated 26%)\n",
            "  adding: hrf_256_256_dice_loss_hvr_2/split_2/train/mask/_15_dr_3_55.png (deflated 42%)\n",
            "  adding: hrf_256_256_dice_loss_hvr_2/split_2/train/mask/_11_g_2_101.png (deflated 18%)\n",
            "  adding: hrf_256_256_dice_loss_hvr_2/split_2/train/mask/_09_dr_1_93.png (deflated 29%)\n",
            "  adding: hrf_256_256_dice_loss_hvr_2/split_2/train/mask/_04_g_0_64.png (deflated 40%)\n",
            "  adding: hrf_256_256_dice_loss_hvr_2/split_2/train/mask/_03_h_2_117.png (deflated 14%)\n",
            "  adding: hrf_256_256_dice_loss_hvr_2/split_2/train/mask/_11_h_1_94.png (deflated 16%)\n",
            "  adding: hrf_256_256_dice_loss_hvr_2/split_2/train/mask/_09_dr_2_112.png (deflated 85%)\n",
            "  adding: hrf_256_256_dice_loss_hvr_2/split_2/train/mask/_05_h_0_108.png (deflated 32%)\n",
            "  adding: hrf_256_256_dice_loss_hvr_2/split_2/train/mask/_07_g_0_119.png (deflated 19%)\n",
            "  adding: hrf_256_256_dice_loss_hvr_2/split_2/train/mask/_03_h_2_57.png (deflated 27%)\n",
            "  adding: hrf_256_256_dice_loss_hvr_2/split_2/train/mask/_06_dr_1_58.png (deflated 16%)\n",
            "  adding: hrf_256_256_dice_loss_hvr_2/split_2/train/mask/_07_g_1_64.png (deflated 24%)\n",
            "  adding: hrf_256_256_dice_loss_hvr_2/split_2/train/mask/_08_h_3_70.png (deflated 36%)\n",
            "  adding: hrf_256_256_dice_loss_hvr_2/split_2/train/mask/_14_h_3_34.png (deflated 16%)\n",
            "  adding: hrf_256_256_dice_loss_hvr_2/split_2/train/mask/_10_dr_1_13.png (deflated 85%)\n",
            "  adding: hrf_256_256_dice_loss_hvr_2/split_2/train/mask/_01_g_0_121.png (deflated 27%)\n",
            "  adding: hrf_256_256_dice_loss_hvr_2/split_2/train/mask/_14_g_3_137.png (deflated 26%)\n",
            "  adding: hrf_256_256_dice_loss_hvr_2/split_2/train/mask/_09_dr_0_137.png (deflated 85%)\n",
            "  adding: hrf_256_256_dice_loss_hvr_2/split_2/train/mask/_15_dr_1_92.png (deflated 26%)\n",
            "  adding: hrf_256_256_dice_loss_hvr_2/split_2/train/mask/_09_g_0_83.png (deflated 39%)\n",
            "  adding: hrf_256_256_dice_loss_hvr_2/split_2/train/mask/_02_h_0_117.png (deflated 24%)\n",
            "  adding: hrf_256_256_dice_loss_hvr_2/split_2/train/mask/_10_dr_1_106.png (deflated 26%)\n",
            "  adding: hrf_256_256_dice_loss_hvr_2/split_2/train/mask/_09_g_0_120.png (deflated 25%)\n",
            "  adding: hrf_256_256_dice_loss_hvr_2/split_2/train/mask/_01_g_0_49.png (deflated 23%)\n",
            "  adding: hrf_256_256_dice_loss_hvr_2/split_2/train/mask/_10_g_1_3.png (deflated 28%)\n",
            "  adding: hrf_256_256_dice_loss_hvr_2/split_2/train/mask/_09_g_1_60.png (deflated 30%)\n",
            "  adding: hrf_256_256_dice_loss_hvr_2/split_2/train/mask/_13_g_1_86.png (deflated 24%)\n",
            "  adding: hrf_256_256_dice_loss_hvr_2/split_2/train/mask/_09_dr_3_11.png (deflated 29%)\n",
            "  adding: hrf_256_256_dice_loss_hvr_2/split_2/train/mask/_01_dr_1_53.png (deflated 28%)\n",
            "  adding: hrf_256_256_dice_loss_hvr_2/split_2/train/mask/_14_g_0_15.png (deflated 47%)\n",
            "  adding: hrf_256_256_dice_loss_hvr_2/split_2/train/mask/_14_h_3_89.png (deflated 16%)\n",
            "  adding: hrf_256_256_dice_loss_hvr_2/split_2/train/mask/_02_h_2_60.png (deflated 28%)\n",
            "  adding: hrf_256_256_dice_loss_hvr_2/split_2/train/mask/_11_g_3_108.png (deflated 30%)\n",
            "  adding: hrf_256_256_dice_loss_hvr_2/split_2/train/mask/_01_g_1_127.png (deflated 85%)\n",
            "  adding: hrf_256_256_dice_loss_hvr_2/split_2/train/mask/_11_g_3_51.png (deflated 25%)\n",
            "  adding: hrf_256_256_dice_loss_hvr_2/split_2/train/mask/_12_dr_0_120.png (deflated 23%)\n",
            "  adding: hrf_256_256_dice_loss_hvr_2/split_2/train/mask/_14_h_3_72.png (deflated 18%)\n",
            "  adding: hrf_256_256_dice_loss_hvr_2/split_2/train/mask/_08_h_3_126.png (deflated 64%)\n",
            "  adding: hrf_256_256_dice_loss_hvr_2/split_2/train/mask/_02_dr_2_23.png (deflated 31%)\n",
            "  adding: hrf_256_256_dice_loss_hvr_2/split_2/train/mask/_12_g_0_71.png (deflated 23%)\n",
            "  adding: hrf_256_256_dice_loss_hvr_2/split_2/train/mask/_03_dr_1_82.png (deflated 25%)\n",
            "  adding: hrf_256_256_dice_loss_hvr_2/split_2/train/mask/_13_g_1_68.png (deflated 27%)\n",
            "  adding: hrf_256_256_dice_loss_hvr_2/split_2/train/mask/_11_h_1_32.png (deflated 15%)\n",
            "  adding: hrf_256_256_dice_loss_hvr_2/split_2/train/mask/_10_dr_3_110.png (deflated 30%)\n",
            "  adding: hrf_256_256_dice_loss_hvr_2/split_2/train/mask/_14_dr_0_108.png (deflated 38%)\n",
            "  adding: hrf_256_256_dice_loss_hvr_2/split_2/train/mask/_13_h_0_55.png (deflated 24%)\n",
            "  adding: hrf_256_256_dice_loss_hvr_2/split_2/train/mask/_02_h_1_0.png (deflated 85%)\n",
            "  adding: hrf_256_256_dice_loss_hvr_2/split_2/train/mask/_06_dr_3_57.png (deflated 28%)\n",
            "  adding: hrf_256_256_dice_loss_hvr_2/split_2/train/mask/_13_g_0_60.png (deflated 20%)\n",
            "  adding: hrf_256_256_dice_loss_hvr_2/split_2/train/mask/_11_g_2_91.png (deflated 29%)\n",
            "  adding: hrf_256_256_dice_loss_hvr_2/split_2/train/mask/_03_dr_3_50.png (deflated 25%)\n",
            "  adding: hrf_256_256_dice_loss_hvr_2/split_2/train/mask/_01_dr_3_46.png (deflated 20%)\n",
            "  adding: hrf_256_256_dice_loss_hvr_2/split_2/train/mask/_01_dr_1_62.png (deflated 34%)\n",
            "  adding: hrf_256_256_dice_loss_hvr_2/split_2/train/mask/_01_dr_0_44.png (deflated 27%)\n",
            "  adding: hrf_256_256_dice_loss_hvr_2/split_2/train/mask/_13_g_1_61.png (deflated 25%)\n",
            "  adding: hrf_256_256_dice_loss_hvr_2/split_2/train/mask/_03_dr_1_25.png (deflated 25%)\n",
            "  adding: hrf_256_256_dice_loss_hvr_2/split_2/train/mask/_01_dr_2_48.png (deflated 17%)\n",
            "  adding: hrf_256_256_dice_loss_hvr_2/split_2/train/mask/_13_h_2_122.png (deflated 23%)\n",
            "  adding: hrf_256_256_dice_loss_hvr_2/split_2/train/mask/_12_g_3_53.png (deflated 21%)\n",
            "  adding: hrf_256_256_dice_loss_hvr_2/split_2/train/mask/_10_g_2_12.png (deflated 85%)\n",
            "  adding: hrf_256_256_dice_loss_hvr_2/split_2/train/mask/_07_h_0_28.png (deflated 85%)\n",
            "  adding: hrf_256_256_dice_loss_hvr_2/split_2/train/mask/_12_g_0_106.png (deflated 23%)\n",
            "  adding: hrf_256_256_dice_loss_hvr_2/split_2/train/mask/_12_g_0_75.png (deflated 23%)\n",
            "  adding: hrf_256_256_dice_loss_hvr_2/split_2/train/mask/_12_g_2_5.png (deflated 27%)\n",
            "  adding: hrf_256_256_dice_loss_hvr_2/split_2/train/mask/_04_h_2_36.png (deflated 19%)\n",
            "  adding: hrf_256_256_dice_loss_hvr_2/split_2/train/mask/_14_dr_2_113.png (deflated 27%)\n",
            "  adding: hrf_256_256_dice_loss_hvr_2/split_2/train/mask/_10_dr_0_54.png (deflated 26%)\n",
            "  adding: hrf_256_256_dice_loss_hvr_2/split_2/train/mask/_07_h_1_47.png (deflated 34%)\n",
            "  adding: hrf_256_256_dice_loss_hvr_2/split_2/train/mask/_04_g_1_21.png (deflated 20%)\n",
            "  adding: hrf_256_256_dice_loss_hvr_2/split_2/train/mask/_03_h_0_133.png (deflated 27%)\n",
            "  adding: hrf_256_256_dice_loss_hvr_2/split_2/train/mask/_04_h_0_124.png (deflated 54%)\n",
            "  adding: hrf_256_256_dice_loss_hvr_2/split_2/train/mask/_04_h_2_124.png (deflated 37%)\n",
            "  adding: hrf_256_256_dice_loss_hvr_2/split_2/train/mask/_04_h_0_105.png (deflated 31%)\n",
            "  adding: hrf_256_256_dice_loss_hvr_2/split_2/train/mask/_13_g_2_60.png (deflated 30%)\n",
            "  adding: hrf_256_256_dice_loss_hvr_2/split_2/train/mask/_07_g_3_16.png (deflated 21%)\n",
            "  adding: hrf_256_256_dice_loss_hvr_2/split_2/train/mask/_13_g_2_81.png (deflated 22%)\n",
            "  adding: hrf_256_256_dice_loss_hvr_2/split_2/train/mask/_05_h_1_17.png (deflated 38%)\n",
            "  adding: hrf_256_256_dice_loss_hvr_2/split_2/train/mask/_10_dr_1_12.png (deflated 85%)\n",
            "  adding: hrf_256_256_dice_loss_hvr_2/split_2/train/mask/_04_g_0_86.png (deflated 18%)\n",
            "  adding: hrf_256_256_dice_loss_hvr_2/split_2/train/mask/_04_g_0_75.png (deflated 25%)\n",
            "  adding: hrf_256_256_dice_loss_hvr_2/split_2/train/mask/_08_h_2_9.png (deflated 26%)\n",
            "  adding: hrf_256_256_dice_loss_hvr_2/split_2/train/mask/_13_h_1_83.png (deflated 49%)\n",
            "  adding: hrf_256_256_dice_loss_hvr_2/split_2/train/mask/_02_dr_1_30.png (deflated 30%)\n",
            "  adding: hrf_256_256_dice_loss_hvr_2/split_2/train/mask/_10_g_0_37.png (deflated 20%)\n",
            "  adding: hrf_256_256_dice_loss_hvr_2/split_2/train/mask/_15_dr_3_135.png (deflated 32%)\n",
            "  adding: hrf_256_256_dice_loss_hvr_2/split_2/train/mask/_13_h_0_123.png (deflated 36%)\n",
            "  adding: hrf_256_256_dice_loss_hvr_2/split_2/train/mask/_13_h_1_51.png (deflated 20%)\n",
            "  adding: hrf_256_256_dice_loss_hvr_2/split_2/train/mask/_02_dr_1_87.png (deflated 19%)\n",
            "  adding: hrf_256_256_dice_loss_hvr_2/split_2/train/mask/_03_h_1_135.png (deflated 31%)\n",
            "  adding: hrf_256_256_dice_loss_hvr_2/split_2/train/mask/_02_h_0_89.png (deflated 11%)\n",
            "  adding: hrf_256_256_dice_loss_hvr_2/split_2/train/mask/_04_g_3_104.png (deflated 15%)\n",
            "  adding: hrf_256_256_dice_loss_hvr_2/split_2/train/mask/_11_g_0_3.png (deflated 43%)\n",
            "  adding: hrf_256_256_dice_loss_hvr_2/split_2/train/mask/_14_h_0_81.png (deflated 21%)\n",
            "  adding: hrf_256_256_dice_loss_hvr_2/split_2/train/mask/_12_dr_1_58.png (deflated 31%)\n",
            "  adding: hrf_256_256_dice_loss_hvr_2/split_2/train/mask/_14_dr_1_12.png (deflated 85%)\n",
            "  adding: hrf_256_256_dice_loss_hvr_2/split_2/train/mask/_09_g_2_122.png (deflated 16%)\n",
            "  adding: hrf_256_256_dice_loss_hvr_2/split_2/train/mask/_14_h_0_122.png (deflated 18%)\n",
            "  adding: hrf_256_256_dice_loss_hvr_2/split_2/train/mask/_14_h_1_43.png (deflated 26%)\n",
            "  adding: hrf_256_256_dice_loss_hvr_2/split_2/train/mask/_08_h_0_84.png (deflated 59%)\n",
            "  adding: hrf_256_256_dice_loss_hvr_2/split_2/train/mask/_04_h_0_24.png (deflated 20%)\n",
            "  adding: hrf_256_256_dice_loss_hvr_2/split_2/train/mask/_13_h_2_92.png (deflated 29%)\n",
            "  adding: hrf_256_256_dice_loss_hvr_2/split_2/train/mask/_14_dr_1_105.png (deflated 23%)\n",
            "  adding: hrf_256_256_dice_loss_hvr_2/split_2/train/mask/_03_h_3_15.png (deflated 27%)\n",
            "  adding: hrf_256_256_dice_loss_hvr_2/split_2/train/mask/_11_g_0_48.png (deflated 23%)\n",
            "  adding: hrf_256_256_dice_loss_hvr_2/split_2/train/mask/_02_h_1_32.png (deflated 23%)\n",
            "  adding: hrf_256_256_dice_loss_hvr_2/split_2/train/mask/_14_g_3_130.png (deflated 40%)\n",
            "  adding: hrf_256_256_dice_loss_hvr_2/split_2/train/mask/_10_g_2_111.png (deflated 85%)\n",
            "  adding: hrf_256_256_dice_loss_hvr_2/split_2/train/mask/_02_dr_0_52.png (deflated 29%)\n",
            "  adding: hrf_256_256_dice_loss_hvr_2/split_2/train/mask/_05_h_2_41.png (deflated 85%)\n",
            "  adding: hrf_256_256_dice_loss_hvr_2/split_2/train/mask/_03_dr_0_31.png (deflated 38%)\n",
            "  adding: hrf_256_256_dice_loss_hvr_2/split_2/train/mask/_14_g_0_62.png (deflated 34%)\n",
            "  adding: hrf_256_256_dice_loss_hvr_2/split_2/train/mask/_11_g_0_19.png (deflated 22%)\n",
            "  adding: hrf_256_256_dice_loss_hvr_2/split_2/train/mask/_02_dr_3_71.png (deflated 37%)\n",
            "  adding: hrf_256_256_dice_loss_hvr_2/split_2/train/mask/_01_dr_2_66.png (deflated 26%)\n",
            "  adding: hrf_256_256_dice_loss_hvr_2/split_2/train/mask/_04_g_0_16.png (deflated 30%)\n",
            "  adding: hrf_256_256_dice_loss_hvr_2/split_2/train/mask/_13_h_0_63.png (deflated 30%)\n",
            "  adding: hrf_256_256_dice_loss_hvr_2/split_2/train/mask/_13_g_0_0.png (deflated 85%)\n",
            "  adding: hrf_256_256_dice_loss_hvr_2/split_2/train/mask/_01_g_1_78.png (deflated 28%)\n",
            "  adding: hrf_256_256_dice_loss_hvr_2/split_2/train/mask/_01_g_0_60.png (deflated 30%)\n",
            "  adding: hrf_256_256_dice_loss_hvr_2/split_2/train/mask/_02_dr_3_104.png (deflated 20%)\n",
            "  adding: hrf_256_256_dice_loss_hvr_2/split_2/train/mask/_01_g_1_67.png (deflated 23%)\n",
            "  adding: hrf_256_256_dice_loss_hvr_2/split_2/train/mask/_05_h_2_91.png (deflated 19%)\n",
            "  adding: hrf_256_256_dice_loss_hvr_2/split_2/train/mask/_01_dr_3_14.png (deflated 24%)\n",
            "  adding: hrf_256_256_dice_loss_hvr_2/split_2/train/mask/_13_h_3_49.png (deflated 19%)\n",
            "  adding: hrf_256_256_dice_loss_hvr_2/split_2/train/mask/_02_dr_1_100.png (deflated 28%)\n",
            "  adding: hrf_256_256_dice_loss_hvr_2/split_2/train/mask/_01_g_2_31.png (deflated 15%)\n",
            "  adding: hrf_256_256_dice_loss_hvr_2/split_2/train/mask/_11_g_2_128.png (deflated 53%)\n",
            "  adding: hrf_256_256_dice_loss_hvr_2/split_2/train/mask/_13_g_1_46.png (deflated 19%)\n",
            "  adding: hrf_256_256_dice_loss_hvr_2/split_2/train/mask/_06_dr_2_54.png (deflated 22%)\n",
            "  adding: hrf_256_256_dice_loss_hvr_2/split_2/train/mask/_12_dr_3_132.png (deflated 34%)\n",
            "  adding: hrf_256_256_dice_loss_hvr_2/split_2/train/mask/_15_dr_3_99.png (deflated 27%)\n",
            "  adding: hrf_256_256_dice_loss_hvr_2/split_2/train/mask/_14_h_0_34.png (deflated 15%)\n",
            "  adding: hrf_256_256_dice_loss_hvr_2/split_2/train/mask/_06_dr_3_62.png (deflated 32%)\n",
            "  adding: hrf_256_256_dice_loss_hvr_2/split_2/train/mask/_03_dr_3_59.png (deflated 33%)\n",
            "  adding: hrf_256_256_dice_loss_hvr_2/split_2/train/mask/_14_h_1_31.png (deflated 17%)\n",
            "  adding: hrf_256_256_dice_loss_hvr_2/split_2/train/mask/_09_g_3_50.png (deflated 26%)\n",
            "  adding: hrf_256_256_dice_loss_hvr_2/split_2/train/mask/_05_h_3_68.png (deflated 16%)\n",
            "  adding: hrf_256_256_dice_loss_hvr_2/split_2/train/mask/_09_dr_2_60.png (deflated 27%)\n",
            "  adding: hrf_256_256_dice_loss_hvr_2/split_2/train/mask/_09_g_2_17.png (deflated 26%)\n",
            "  adding: hrf_256_256_dice_loss_hvr_2/split_2/train/mask/_11_g_3_90.png (deflated 22%)\n",
            "  adding: hrf_256_256_dice_loss_hvr_2/split_2/train/mask/_11_g_2_63.png (deflated 27%)\n",
            "  adding: hrf_256_256_dice_loss_hvr_2/split_2/train/mask/_08_h_0_118.png (deflated 16%)\n",
            "  adding: hrf_256_256_dice_loss_hvr_2/split_2/train/mask/_02_h_1_110.png (deflated 20%)\n",
            "  adding: hrf_256_256_dice_loss_hvr_2/split_2/train/mask/_14_h_1_49.png (deflated 20%)\n",
            "  adding: hrf_256_256_dice_loss_hvr_2/split_2/train/mask/_14_dr_0_83.png (deflated 49%)\n",
            "  adding: hrf_256_256_dice_loss_hvr_2/split_2/train/mask/_09_dr_3_53.png (deflated 26%)\n",
            "  adding: hrf_256_256_dice_loss_hvr_2/split_2/train/mask/_02_dr_0_29.png (deflated 39%)\n",
            "  adding: hrf_256_256_dice_loss_hvr_2/split_2/train/mask/_02_h_1_3.png (deflated 27%)\n",
            "  adding: hrf_256_256_dice_loss_hvr_2/split_2/train/mask/_11_h_0_11.png (deflated 40%)\n",
            "  adding: hrf_256_256_dice_loss_hvr_2/split_2/train/mask/_07_h_2_70.png (deflated 77%)\n",
            "  adding: hrf_256_256_dice_loss_hvr_2/split_2/train/mask/_04_g_1_35.png (deflated 26%)\n",
            "  adding: hrf_256_256_dice_loss_hvr_2/split_2/train/mask/_04_g_1_96.png (deflated 22%)\n",
            "  adding: hrf_256_256_dice_loss_hvr_2/split_2/train/mask/_03_h_2_16.png (deflated 21%)\n",
            "  adding: hrf_256_256_dice_loss_hvr_2/split_2/train/mask/_11_g_3_105.png (deflated 16%)\n",
            "  adding: hrf_256_256_dice_loss_hvr_2/split_2/train/mask/_10_dr_3_38.png (deflated 24%)\n",
            "  adding: hrf_256_256_dice_loss_hvr_2/split_2/train/mask/_05_h_1_83.png (deflated 66%)\n",
            "  adding: hrf_256_256_dice_loss_hvr_2/split_2/train/mask/_14_dr_3_65.png (deflated 26%)\n",
            "  adding: hrf_256_256_dice_loss_hvr_2/split_2/train/mask/_15_dr_2_119.png (deflated 30%)\n",
            "  adding: hrf_256_256_dice_loss_hvr_2/split_2/train/mask/_14_h_1_103.png (deflated 19%)\n",
            "  adding: hrf_256_256_dice_loss_hvr_2/split_2/train/mask/_10_dr_0_108.png (deflated 22%)\n",
            "  adding: hrf_256_256_dice_loss_hvr_2/split_2/train/mask/_13_g_3_130.png (deflated 33%)\n",
            "  adding: hrf_256_256_dice_loss_hvr_2/split_2/train/mask/_07_g_0_60.png (deflated 29%)\n",
            "  adding: hrf_256_256_dice_loss_hvr_2/split_2/train/mask/_15_dr_0_40.png (deflated 34%)\n",
            "  adding: hrf_256_256_dice_loss_hvr_2/split_2/train/mask/_04_g_3_128.png (deflated 44%)\n",
            "  adding: hrf_256_256_dice_loss_hvr_2/split_2/train/mask/_02_h_0_85.png (deflated 35%)\n",
            "  adding: hrf_256_256_dice_loss_hvr_2/split_2/train/mask/_10_g_1_16.png (deflated 23%)\n",
            "  adding: hrf_256_256_dice_loss_hvr_2/split_2/train/mask/_10_dr_2_96.png (deflated 24%)\n",
            "  adding: hrf_256_256_dice_loss_hvr_2/split_2/train/mask/_12_g_0_77.png (deflated 29%)\n",
            "  adding: hrf_256_256_dice_loss_hvr_2/split_2/train/mask/_08_h_3_134.png (deflated 35%)\n",
            "  adding: hrf_256_256_dice_loss_hvr_2/split_2/train/mask/_12_dr_2_73.png (deflated 27%)\n",
            "  adding: hrf_256_256_dice_loss_hvr_2/split_2/train/mask/_06_dr_3_85.png (deflated 21%)\n",
            "  adding: hrf_256_256_dice_loss_hvr_2/split_2/train/mask/_10_dr_0_47.png (deflated 30%)\n",
            "  adding: hrf_256_256_dice_loss_hvr_2/split_2/train/mask/_05_h_2_120.png (deflated 19%)\n",
            "  adding: hrf_256_256_dice_loss_hvr_2/split_2/train/mask/_14_g_0_98.png (deflated 85%)\n",
            "  adding: hrf_256_256_dice_loss_hvr_2/split_2/train/mask/_02_h_3_137.png (deflated 31%)\n",
            "  adding: hrf_256_256_dice_loss_hvr_2/split_2/train/mask/_12_dr_0_110.png (deflated 25%)\n",
            "  adding: hrf_256_256_dice_loss_hvr_2/split_2/train/mask/_06_dr_0_37.png (deflated 21%)\n",
            "  adding: hrf_256_256_dice_loss_hvr_2/split_2/train/mask/_06_dr_0_114.png (deflated 16%)\n",
            "  adding: hrf_256_256_dice_loss_hvr_2/split_2/train/mask/_02_dr_0_111.png (deflated 85%)\n",
            "  adding: hrf_256_256_dice_loss_hvr_2/split_2/train/mask/_13_g_2_119.png (deflated 9%)\n",
            "  adding: hrf_256_256_dice_loss_hvr_2/split_2/train/mask/_12_dr_2_131.png (deflated 35%)\n",
            "  adding: hrf_256_256_dice_loss_hvr_2/split_2/train/mask/_14_g_2_24.png (deflated 16%)\n",
            "  adding: hrf_256_256_dice_loss_hvr_2/split_2/train/mask/_11_g_1_131.png (deflated 36%)\n",
            "  adding: hrf_256_256_dice_loss_hvr_2/split_2/train/mask/_04_h_2_130.png (deflated 33%)\n",
            "  adding: hrf_256_256_dice_loss_hvr_2/split_2/train/mask/_13_h_2_112.png (deflated 85%)\n",
            "  adding: hrf_256_256_dice_loss_hvr_2/split_2/train/mask/_15_dr_2_70.png (deflated 28%)\n",
            "  adding: hrf_256_256_dice_loss_hvr_2/split_2/train/mask/_09_g_3_66.png (deflated 22%)\n",
            "  adding: hrf_256_256_dice_loss_hvr_2/split_2/train/mask/_11_g_3_112.png (deflated 40%)\n",
            "  adding: hrf_256_256_dice_loss_hvr_2/split_2/train/mask/_11_h_1_77.png (deflated 24%)\n",
            "  adding: hrf_256_256_dice_loss_hvr_2/split_2/train/mask/_01_dr_0_37.png (deflated 20%)\n",
            "  adding: hrf_256_256_dice_loss_hvr_2/split_2/train/mask/_10_g_2_52.png (deflated 33%)\n",
            "  adding: hrf_256_256_dice_loss_hvr_2/split_2/train/mask/_04_h_0_63.png (deflated 24%)\n",
            "  adding: hrf_256_256_dice_loss_hvr_2/split_2/train/mask/_14_g_1_119.png (deflated 23%)\n",
            "  adding: hrf_256_256_dice_loss_hvr_2/split_2/train/mask/_02_dr_3_128.png (deflated 31%)\n",
            "  adding: hrf_256_256_dice_loss_hvr_2/split_2/train/mask/_14_dr_0_32.png (deflated 24%)\n",
            "  adding: hrf_256_256_dice_loss_hvr_2/split_2/train/mask/_03_h_1_81.png (deflated 25%)\n",
            "  adding: hrf_256_256_dice_loss_hvr_2/split_2/train/mask/_01_dr_1_4.png (deflated 37%)\n",
            "  adding: hrf_256_256_dice_loss_hvr_2/split_2/train/mask/_14_h_2_121.png (deflated 17%)\n",
            "  adding: hrf_256_256_dice_loss_hvr_2/split_2/train/mask/_07_g_0_99.png (deflated 26%)\n",
            "  adding: hrf_256_256_dice_loss_hvr_2/split_2/train/mask/_13_g_3_18.png (deflated 19%)\n",
            "  adding: hrf_256_256_dice_loss_hvr_2/split_2/train/mask/_14_g_0_6.png (deflated 29%)\n",
            "  adding: hrf_256_256_dice_loss_hvr_2/split_2/train/mask/_11_g_3_45.png (deflated 25%)\n",
            "  adding: hrf_256_256_dice_loss_hvr_2/split_2/train/mask/_03_dr_2_0.png (deflated 85%)\n",
            "  adding: hrf_256_256_dice_loss_hvr_2/split_2/train/mask/_14_h_2_40.png (deflated 26%)\n",
            "  adding: hrf_256_256_dice_loss_hvr_2/split_2/train/mask/_09_g_1_77.png (deflated 34%)\n",
            "  adding: hrf_256_256_dice_loss_hvr_2/split_2/train/mask/_14_dr_3_66.png (deflated 27%)\n",
            "  adding: hrf_256_256_dice_loss_hvr_2/split_2/train/mask/_09_g_2_38.png (deflated 22%)\n",
            "  adding: hrf_256_256_dice_loss_hvr_2/split_2/train/mask/_02_dr_0_38.png (deflated 25%)\n",
            "  adding: hrf_256_256_dice_loss_hvr_2/split_2/train/mask/_09_dr_0_72.png (deflated 34%)\n",
            "  adding: hrf_256_256_dice_loss_hvr_2/split_2/train/mask/_03_dr_0_43.png (deflated 14%)\n",
            "  adding: hrf_256_256_dice_loss_hvr_2/split_2/train/mask/_10_dr_1_26.png (deflated 37%)\n",
            "  adding: hrf_256_256_dice_loss_hvr_2/split_2/train/mask/_10_dr_2_51.png (deflated 26%)\n",
            "  adding: hrf_256_256_dice_loss_hvr_2/split_2/train/mask/_02_dr_3_68.png (deflated 23%)\n",
            "  adding: hrf_256_256_dice_loss_hvr_2/split_2/train/mask/_01_dr_0_77.png (deflated 54%)\n",
            "  adding: hrf_256_256_dice_loss_hvr_2/split_2/train/mask/_06_dr_2_103.png (deflated 30%)\n",
            "  adding: hrf_256_256_dice_loss_hvr_2/split_2/train/mask/_10_dr_3_17.png (deflated 25%)\n",
            "  adding: hrf_256_256_dice_loss_hvr_2/split_2/train/mask/_06_dr_3_27.png (deflated 85%)\n",
            "  adding: hrf_256_256_dice_loss_hvr_2/split_2/train/mask/_06_dr_0_79.png (deflated 19%)\n",
            "  adding: hrf_256_256_dice_loss_hvr_2/split_2/train/mask/_02_h_3_110.png (deflated 23%)\n",
            "  adding: hrf_256_256_dice_loss_hvr_2/split_2/train/mask/_01_dr_3_86.png (deflated 17%)\n",
            "  adding: hrf_256_256_dice_loss_hvr_2/split_2/train/mask/_06_dr_2_44.png (deflated 28%)\n",
            "  adding: hrf_256_256_dice_loss_hvr_2/split_2/train/mask/_15_dr_1_132.png (deflated 28%)\n",
            "  adding: hrf_256_256_dice_loss_hvr_2/split_2/train/mask/_09_dr_0_52.png (deflated 23%)\n",
            "  adding: hrf_256_256_dice_loss_hvr_2/split_2/train/mask/_14_dr_1_57.png (deflated 26%)\n",
            "  adding: hrf_256_256_dice_loss_hvr_2/split_2/train/mask/_14_h_3_139.png (deflated 85%)\n",
            "  adding: hrf_256_256_dice_loss_hvr_2/split_2/train/mask/_11_h_0_44.png (deflated 17%)\n",
            "  adding: hrf_256_256_dice_loss_hvr_2/split_2/train/mask/_06_dr_2_34.png (deflated 31%)\n",
            "  adding: hrf_256_256_dice_loss_hvr_2/split_2/train/mask/_03_dr_2_129.png (deflated 30%)\n",
            "  adding: hrf_256_256_dice_loss_hvr_2/split_2/train/mask/_10_g_2_23.png (deflated 29%)\n",
            "  adding: hrf_256_256_dice_loss_hvr_2/split_2/train/mask/_13_h_2_3.png (deflated 30%)\n",
            "  adding: hrf_256_256_dice_loss_hvr_2/split_2/train/mask/_09_dr_0_114.png (deflated 29%)\n",
            "  adding: hrf_256_256_dice_loss_hvr_2/split_2/train/mask/_11_g_1_28.png (deflated 71%)\n",
            "  adding: hrf_256_256_dice_loss_hvr_2/split_2/train/mask/_08_h_3_7.png (deflated 33%)\n",
            "  adding: hrf_256_256_dice_loss_hvr_2/split_2/train/mask/_15_dr_2_71.png (deflated 25%)\n",
            "  adding: hrf_256_256_dice_loss_hvr_2/split_2/train/mask/_09_g_0_99.png (deflated 27%)\n",
            "  adding: hrf_256_256_dice_loss_hvr_2/split_2/train/mask/_05_h_2_135.png (deflated 34%)\n",
            "  adding: hrf_256_256_dice_loss_hvr_2/split_2/train/mask/_14_dr_1_22.png (deflated 24%)\n",
            "  adding: hrf_256_256_dice_loss_hvr_2/split_2/train/mask/_04_h_2_57.png (deflated 21%)\n",
            "  adding: hrf_256_256_dice_loss_hvr_2/split_2/train/mask/_06_dr_0_110.png (deflated 19%)\n",
            "  adding: hrf_256_256_dice_loss_hvr_2/split_2/train/mask/_02_dr_2_36.png (deflated 18%)\n",
            "  adding: hrf_256_256_dice_loss_hvr_2/split_2/train/mask/_12_dr_3_7.png (deflated 26%)\n",
            "  adding: hrf_256_256_dice_loss_hvr_2/split_2/train/mask/_10_dr_3_27.png (deflated 48%)\n",
            "  adding: hrf_256_256_dice_loss_hvr_2/split_2/train/mask/_12_dr_3_109.png (deflated 18%)\n",
            "  adding: hrf_256_256_dice_loss_hvr_2/split_2/train/mask/_09_g_1_65.png (deflated 22%)\n",
            "  adding: hrf_256_256_dice_loss_hvr_2/split_2/train/mask/_14_g_1_88.png (deflated 25%)\n",
            "  adding: hrf_256_256_dice_loss_hvr_2/split_2/train/mask/_14_dr_2_36.png (deflated 17%)\n",
            "  adding: hrf_256_256_dice_loss_hvr_2/split_2/train/mask/_09_g_1_112.png (deflated 85%)\n",
            "  adding: hrf_256_256_dice_loss_hvr_2/split_2/train/mask/_09_dr_0_132.png (deflated 36%)\n",
            "  adding: hrf_256_256_dice_loss_hvr_2/split_2/train/mask/_04_g_2_38.png (deflated 23%)\n",
            "  adding: hrf_256_256_dice_loss_hvr_2/split_2/train/mask/_01_g_2_108.png (deflated 31%)\n",
            "  adding: hrf_256_256_dice_loss_hvr_2/split_2/train/mask/_05_h_2_78.png (deflated 17%)\n",
            "  adding: hrf_256_256_dice_loss_hvr_2/split_2/train/mask/_04_h_0_40.png (deflated 40%)\n",
            "  adding: hrf_256_256_dice_loss_hvr_2/split_2/train/mask/_03_h_0_121.png (deflated 18%)\n",
            "  adding: hrf_256_256_dice_loss_hvr_2/split_2/train/mask/_02_dr_0_30.png (deflated 18%)\n",
            "  adding: hrf_256_256_dice_loss_hvr_2/split_2/train/mask/_10_dr_1_53.png (deflated 19%)\n",
            "  adding: hrf_256_256_dice_loss_hvr_2/split_2/train/mask/_02_h_0_108.png (deflated 13%)\n",
            "  adding: hrf_256_256_dice_loss_hvr_2/split_2/train/mask/_01_g_3_118.png (deflated 21%)\n",
            "  adding: hrf_256_256_dice_loss_hvr_2/split_2/train/mask/_08_h_3_77.png (deflated 31%)\n",
            "  adding: hrf_256_256_dice_loss_hvr_2/split_2/train/mask/_01_g_1_40.png (deflated 36%)\n",
            "  adding: hrf_256_256_dice_loss_hvr_2/split_2/train/mask/_07_g_0_97.png (deflated 68%)\n",
            "  adding: hrf_256_256_dice_loss_hvr_2/split_2/train/mask/_07_g_3_44.png (deflated 22%)\n",
            "  adding: hrf_256_256_dice_loss_hvr_2/split_2/train/mask/_01_g_2_85.png (deflated 41%)\n",
            "  adding: hrf_256_256_dice_loss_hvr_2/split_2/train/mask/_07_g_0_109.png (deflated 25%)\n",
            "  adding: hrf_256_256_dice_loss_hvr_2/split_2/train/mask/_04_g_1_39.png (deflated 24%)\n",
            "  adding: hrf_256_256_dice_loss_hvr_2/split_2/train/mask/_10_dr_1_104.png (deflated 24%)\n",
            "  adding: hrf_256_256_dice_loss_hvr_2/split_2/train/mask/_01_g_3_45.png (deflated 31%)\n",
            "  adding: hrf_256_256_dice_loss_hvr_2/split_2/train/mask/_09_dr_1_121.png (deflated 36%)\n",
            "  adding: hrf_256_256_dice_loss_hvr_2/split_2/train/mask/_04_h_3_93.png (deflated 21%)\n",
            "  adding: hrf_256_256_dice_loss_hvr_2/split_2/train/mask/_11_g_3_82.png (deflated 22%)\n",
            "  adding: hrf_256_256_dice_loss_hvr_2/split_2/train/mask/_11_h_2_39.png (deflated 22%)\n",
            "  adding: hrf_256_256_dice_loss_hvr_2/split_2/train/mask/_13_h_0_100.png (deflated 23%)\n",
            "  adding: hrf_256_256_dice_loss_hvr_2/split_2/train/mask/_09_dr_0_25.png (deflated 37%)\n",
            "  adding: hrf_256_256_dice_loss_hvr_2/split_2/train/mask/_12_g_2_33.png (deflated 21%)\n",
            "  adding: hrf_256_256_dice_loss_hvr_2/split_2/train/mask/_02_dr_0_42.png (deflated 47%)\n",
            "  adding: hrf_256_256_dice_loss_hvr_2/split_2/train/mask/_06_dr_2_52.png (deflated 27%)\n",
            "  adding: hrf_256_256_dice_loss_hvr_2/split_2/train/mask/_13_g_0_83.png (deflated 52%)\n",
            "  adding: hrf_256_256_dice_loss_hvr_2/split_2/train/mask/_07_h_1_36.png (deflated 18%)\n",
            "  adding: hrf_256_256_dice_loss_hvr_2/split_2/train/mask/_10_g_0_86.png (deflated 37%)\n",
            "  adding: hrf_256_256_dice_loss_hvr_2/split_2/train/mask/_08_h_0_40.png (deflated 33%)\n",
            "  adding: hrf_256_256_dice_loss_hvr_2/split_2/train/mask/_07_g_2_70.png (deflated 43%)\n",
            "  adding: hrf_256_256_dice_loss_hvr_2/split_2/train/mask/_13_g_0_25.png (deflated 36%)\n",
            "  adding: hrf_256_256_dice_loss_hvr_2/split_2/train/mask/_08_h_2_66.png (deflated 23%)\n",
            "  adding: hrf_256_256_dice_loss_hvr_2/split_2/train/mask/_05_h_0_32.png (deflated 18%)\n",
            "  adding: hrf_256_256_dice_loss_hvr_2/split_2/train/mask/_12_g_1_90.png (deflated 24%)\n",
            "  adding: hrf_256_256_dice_loss_hvr_2/split_2/train/mask/_09_g_3_93.png (deflated 22%)\n",
            "  adding: hrf_256_256_dice_loss_hvr_2/split_2/train/mask/_01_dr_3_29.png (deflated 26%)\n",
            "  adding: hrf_256_256_dice_loss_hvr_2/split_2/train/mask/_02_h_1_126.png (deflated 85%)\n",
            "  adding: hrf_256_256_dice_loss_hvr_2/split_2/train/mask/_10_g_0_48.png (deflated 18%)\n",
            "  adding: hrf_256_256_dice_loss_hvr_2/split_2/train/mask/_01_dr_2_135.png (deflated 36%)\n",
            "  adding: hrf_256_256_dice_loss_hvr_2/split_2/train/mask/_09_dr_3_109.png (deflated 19%)\n",
            "  adding: hrf_256_256_dice_loss_hvr_2/split_2/train/mask/_10_g_0_63.png (deflated 31%)\n",
            "  adding: hrf_256_256_dice_loss_hvr_2/split_2/train/mask/_14_h_2_74.png (deflated 23%)\n",
            "  adding: hrf_256_256_dice_loss_hvr_2/split_2/train/mask/_03_h_0_114.png (deflated 22%)\n",
            "  adding: hrf_256_256_dice_loss_hvr_2/split_2/train/mask/_07_g_1_1.png (deflated 79%)\n",
            "  adding: hrf_256_256_dice_loss_hvr_2/split_2/train/mask/_10_dr_3_125.png (deflated 30%)\n",
            "  adding: hrf_256_256_dice_loss_hvr_2/split_2/train/mask/_14_h_2_6.png (deflated 30%)\n",
            "  adding: hrf_256_256_dice_loss_hvr_2/split_2/train/mask/_01_g_1_136.png (deflated 31%)\n",
            "  adding: hrf_256_256_dice_loss_hvr_2/split_2/train/mask/_09_g_2_139.png (deflated 85%)\n",
            "  adding: hrf_256_256_dice_loss_hvr_2/split_2/train/mask/_14_g_0_66.png (deflated 33%)\n",
            "  adding: hrf_256_256_dice_loss_hvr_2/split_2/train/mask/_10_g_3_18.png (deflated 20%)\n",
            "  adding: hrf_256_256_dice_loss_hvr_2/split_2/train/mask/_10_g_3_43.png (deflated 29%)\n",
            "  adding: hrf_256_256_dice_loss_hvr_2/split_2/train/mask/_02_dr_3_60.png (deflated 23%)\n",
            "  adding: hrf_256_256_dice_loss_hvr_2/split_2/train/mask/_05_h_3_14.png (deflated 85%)\n",
            "  adding: hrf_256_256_dice_loss_hvr_2/split_2/train/mask/_15_dr_3_34.png (deflated 21%)\n",
            "  adding: hrf_256_256_dice_loss_hvr_2/split_2/train/mask/_03_h_0_99.png (deflated 22%)\n",
            "  adding: hrf_256_256_dice_loss_hvr_2/split_2/train/mask/_09_dr_0_21.png (deflated 22%)\n",
            "  adding: hrf_256_256_dice_loss_hvr_2/split_2/train/mask/_07_h_3_29.png (deflated 24%)\n",
            "  adding: hrf_256_256_dice_loss_hvr_2/split_2/train/mask/_02_h_2_19.png (deflated 25%)\n",
            "  adding: hrf_256_256_dice_loss_hvr_2/split_2/train/mask/_02_h_2_85.png (deflated 16%)\n",
            "  adding: hrf_256_256_dice_loss_hvr_2/split_2/train/mask/_07_g_3_60.png (deflated 31%)\n",
            "  adding: hrf_256_256_dice_loss_hvr_2/split_2/train/mask/_14_h_3_38.png (deflated 17%)\n",
            "  adding: hrf_256_256_dice_loss_hvr_2/split_2/train/mask/_14_dr_3_18.png (deflated 31%)\n",
            "  adding: hrf_256_256_dice_loss_hvr_2/split_2/train/mask/_14_h_1_85.png (deflated 39%)\n",
            "  adding: hrf_256_256_dice_loss_hvr_2/split_2/train/mask/_05_h_2_87.png (deflated 21%)\n",
            "  adding: hrf_256_256_dice_loss_hvr_2/split_2/train/mask/_04_g_0_113.png (deflated 24%)\n",
            "  adding: hrf_256_256_dice_loss_hvr_2/split_2/train/mask/_04_g_0_30.png (deflated 25%)\n",
            "  adding: hrf_256_256_dice_loss_hvr_2/split_2/train/mask/_09_g_0_12.png (deflated 72%)\n",
            "  adding: hrf_256_256_dice_loss_hvr_2/split_2/train/mask/_07_h_1_98.png (deflated 69%)\n",
            "  adding: hrf_256_256_dice_loss_hvr_2/split_2/train/mask/_11_h_3_2.png (deflated 33%)\n",
            "  adding: hrf_256_256_dice_loss_hvr_2/split_2/train/mask/_12_g_2_71.png (deflated 28%)\n",
            "  adding: hrf_256_256_dice_loss_hvr_2/split_2/train/mask/_12_dr_2_123.png (deflated 22%)\n",
            "  adding: hrf_256_256_dice_loss_hvr_2/split_2/train/mask/_11_h_0_100.png (deflated 16%)\n",
            "  adding: hrf_256_256_dice_loss_hvr_2/split_2/train/mask/_10_dr_1_28.png (deflated 80%)\n",
            "  adding: hrf_256_256_dice_loss_hvr_2/split_2/train/mask/_14_g_3_121.png (deflated 22%)\n",
            "  adding: hrf_256_256_dice_loss_hvr_2/split_2/train/mask/_01_g_0_32.png (deflated 20%)\n",
            "  adding: hrf_256_256_dice_loss_hvr_2/split_2/train/mask/_14_dr_1_10.png (deflated 38%)\n",
            "  adding: hrf_256_256_dice_loss_hvr_2/split_2/train/mask/_06_dr_3_78.png (deflated 29%)\n",
            "  adding: hrf_256_256_dice_loss_hvr_2/split_2/train/mask/_02_h_0_53.png (deflated 28%)\n",
            "  adding: hrf_256_256_dice_loss_hvr_2/split_2/train/mask/_07_h_2_60.png (deflated 24%)\n",
            "  adding: hrf_256_256_dice_loss_hvr_2/split_2/train/mask/_08_h_0_124.png (deflated 72%)\n",
            "  adding: hrf_256_256_dice_loss_hvr_2/split_2/train/mask/_12_g_2_100.png (deflated 17%)\n",
            "  adding: hrf_256_256_dice_loss_hvr_2/split_2/train/mask/_03_dr_2_34.png (deflated 28%)\n",
            "  adding: hrf_256_256_dice_loss_hvr_2/split_2/train/mask/_11_h_1_120.png (deflated 15%)\n",
            "  adding: hrf_256_256_dice_loss_hvr_2/split_2/train/mask/_07_g_3_19.png (deflated 19%)\n",
            "  adding: hrf_256_256_dice_loss_hvr_2/split_2/train/mask/_04_g_3_65.png (deflated 27%)\n",
            "  adding: hrf_256_256_dice_loss_hvr_2/split_2/train/mask/_09_dr_1_17.png (deflated 32%)\n",
            "  adding: hrf_256_256_dice_loss_hvr_2/split_2/train/mask/_04_h_3_65.png (deflated 26%)\n",
            "  adding: hrf_256_256_dice_loss_hvr_2/split_2/train/mask/_12_g_1_108.png (deflated 25%)\n",
            "  adding: hrf_256_256_dice_loss_hvr_2/split_2/train/mask/_07_g_0_77.png (deflated 43%)\n",
            "  adding: hrf_256_256_dice_loss_hvr_2/split_2/train/mask/_15_dr_2_74.png (deflated 30%)\n",
            "  adding: hrf_256_256_dice_loss_hvr_2/split_2/train/mask/_08_h_3_39.png (deflated 22%)\n",
            "  adding: hrf_256_256_dice_loss_hvr_2/split_2/train/mask/_04_h_0_92.png (deflated 26%)\n",
            "  adding: hrf_256_256_dice_loss_hvr_2/split_2/train/mask/_02_h_1_47.png (deflated 19%)\n",
            "  adding: hrf_256_256_dice_loss_hvr_2/split_2/train/mask/_11_h_3_127.png (deflated 85%)\n",
            "  adding: hrf_256_256_dice_loss_hvr_2/split_2/train/mask/_14_dr_0_133.png (deflated 38%)\n",
            "  adding: hrf_256_256_dice_loss_hvr_2/split_2/train/mask/_01_dr_3_80.png (deflated 18%)\n",
            "  adding: hrf_256_256_dice_loss_hvr_2/split_2/train/mask/_02_h_2_21.png (deflated 17%)\n",
            "  adding: hrf_256_256_dice_loss_hvr_2/split_2/train/mask/_06_dr_3_6.png (deflated 64%)\n",
            "  adding: hrf_256_256_dice_loss_hvr_2/split_2/train/mask/_14_h_0_86.png (deflated 21%)\n",
            "  adding: hrf_256_256_dice_loss_hvr_2/split_2/train/mask/_01_dr_1_125.png (deflated 85%)\n",
            "  adding: hrf_256_256_dice_loss_hvr_2/split_2/train/mask/_14_g_2_89.png (deflated 16%)\n",
            "  adding: hrf_256_256_dice_loss_hvr_2/split_2/train/mask/_11_h_1_115.png (deflated 23%)\n",
            "  adding: hrf_256_256_dice_loss_hvr_2/split_2/train/mask/_07_h_1_54.png (deflated 23%)\n",
            "  adding: hrf_256_256_dice_loss_hvr_2/split_2/train/mask/_03_dr_3_99.png (deflated 23%)\n",
            "  adding: hrf_256_256_dice_loss_hvr_2/split_2/train/mask/_01_g_0_23.png (deflated 24%)\n",
            "  adding: hrf_256_256_dice_loss_hvr_2/split_2/train/mask/_09_dr_0_20.png (deflated 31%)\n",
            "  adding: hrf_256_256_dice_loss_hvr_2/split_2/train/mask/_11_h_1_55.png (deflated 64%)\n",
            "  adding: hrf_256_256_dice_loss_hvr_2/split_2/train/mask/_08_h_2_75.png (deflated 23%)\n",
            "  adding: hrf_256_256_dice_loss_hvr_2/split_2/train/mask/_10_dr_0_132.png (deflated 33%)\n",
            "  adding: hrf_256_256_dice_loss_hvr_2/split_2/train/mask/_12_g_2_12.png (deflated 85%)\n",
            "  adding: hrf_256_256_dice_loss_hvr_2/split_2/train/mask/_10_dr_2_16.png (deflated 29%)\n",
            "  adding: hrf_256_256_dice_loss_hvr_2/split_2/train/mask/_10_g_0_0.png (deflated 85%)\n",
            "  adding: hrf_256_256_dice_loss_hvr_2/split_2/train/mask/_04_h_2_45.png (deflated 20%)\n",
            "  adding: hrf_256_256_dice_loss_hvr_2/split_2/train/mask/_06_dr_0_50.png (deflated 23%)\n",
            "  adding: hrf_256_256_dice_loss_hvr_2/split_2/train/mask/_07_h_1_65.png (deflated 20%)\n",
            "  adding: hrf_256_256_dice_loss_hvr_2/split_2/train/mask/_02_h_0_22.png (deflated 18%)\n",
            "  adding: hrf_256_256_dice_loss_hvr_2/split_2/train/mask/_06_dr_1_126.png (deflated 85%)\n",
            "  adding: hrf_256_256_dice_loss_hvr_2/split_2/train/mask/_06_dr_0_33.png (deflated 30%)\n",
            "  adding: hrf_256_256_dice_loss_hvr_2/split_2/train/mask/_11_h_2_72.png (deflated 20%)\n",
            "  adding: hrf_256_256_dice_loss_hvr_2/split_2/train/mask/_15_dr_1_88.png (deflated 52%)\n",
            "  adding: hrf_256_256_dice_loss_hvr_2/split_2/train/mask/_14_g_0_28.png (deflated 85%)\n",
            "  adding: hrf_256_256_dice_loss_hvr_2/split_2/train/mask/_10_g_1_110.png (deflated 35%)\n",
            "  adding: hrf_256_256_dice_loss_hvr_2/split_2/train/mask/_12_dr_3_139.png (deflated 28%)\n",
            "  adding: hrf_256_256_dice_loss_hvr_2/split_2/train/mask/_06_dr_0_9.png (deflated 34%)\n",
            "  adding: hrf_256_256_dice_loss_hvr_2/split_2/train/mask/_13_g_1_38.png (deflated 22%)\n",
            "  adding: hrf_256_256_dice_loss_hvr_2/split_2/train/mask/_13_g_3_20.png (deflated 16%)\n",
            "  adding: hrf_256_256_dice_loss_hvr_2/split_2/train/mask/_07_h_1_73.png (deflated 25%)\n",
            "  adding: hrf_256_256_dice_loss_hvr_2/split_2/train/mask/_15_dr_0_52.png (deflated 15%)\n",
            "  adding: hrf_256_256_dice_loss_hvr_2/split_2/train/mask/_15_dr_2_45.png (deflated 27%)\n",
            "  adding: hrf_256_256_dice_loss_hvr_2/split_2/train/mask/_15_dr_3_24.png (deflated 32%)\n",
            "  adding: hrf_256_256_dice_loss_hvr_2/split_2/train/mask/_04_g_1_47.png (deflated 24%)\n",
            "  adding: hrf_256_256_dice_loss_hvr_2/split_2/train/mask/_05_h_2_48.png (deflated 30%)\n",
            "  adding: hrf_256_256_dice_loss_hvr_2/split_2/train/mask/_14_g_3_72.png (deflated 16%)\n",
            "  adding: hrf_256_256_dice_loss_hvr_2/split_2/train/mask/_07_g_3_43.png (deflated 27%)\n",
            "  adding: hrf_256_256_dice_loss_hvr_2/split_2/train/mask/_02_h_1_76.png (deflated 30%)\n",
            "  adding: hrf_256_256_dice_loss_hvr_2/split_2/train/mask/_07_h_1_136.png (deflated 28%)\n",
            "  adding: hrf_256_256_dice_loss_hvr_2/split_2/train/mask/_10_dr_3_62.png (deflated 22%)\n",
            "  adding: hrf_256_256_dice_loss_hvr_2/split_2/train/mask/_14_dr_3_81.png (deflated 19%)\n",
            "  adding: hrf_256_256_dice_loss_hvr_2/split_2/train/mask/_04_h_1_113.png (deflated 54%)\n",
            "  adding: hrf_256_256_dice_loss_hvr_2/split_2/train/mask/_12_dr_2_106.png (deflated 30%)\n",
            "  adding: hrf_256_256_dice_loss_hvr_2/split_2/train/mask/_05_h_1_70.png (deflated 52%)\n",
            "  adding: hrf_256_256_dice_loss_hvr_2/split_2/train/mask/_14_g_1_67.png (deflated 17%)\n",
            "  adding: hrf_256_256_dice_loss_hvr_2/split_2/train/mask/_07_g_1_97.png (deflated 73%)\n",
            "  adding: hrf_256_256_dice_loss_hvr_2/split_2/train/mask/_07_h_3_92.png (deflated 23%)\n",
            "  adding: hrf_256_256_dice_loss_hvr_2/split_2/train/mask/_01_g_3_31.png (deflated 18%)\n",
            "  adding: hrf_256_256_dice_loss_hvr_2/split_2/train/mask/_01_g_1_120.png (deflated 23%)\n",
            "  adding: hrf_256_256_dice_loss_hvr_2/split_2/train/mask/_07_g_3_78.png (deflated 29%)\n",
            "  adding: hrf_256_256_dice_loss_hvr_2/split_2/train/mask/_04_g_2_139.png (deflated 85%)\n",
            "  adding: hrf_256_256_dice_loss_hvr_2/split_2/train/mask/_11_h_3_87.png (deflated 18%)\n",
            "  adding: hrf_256_256_dice_loss_hvr_2/split_2/train/mask/_01_dr_1_48.png (deflated 15%)\n",
            "  adding: hrf_256_256_dice_loss_hvr_2/split_2/train/mask/_14_g_2_25.png (deflated 16%)\n",
            "  adding: hrf_256_256_dice_loss_hvr_2/split_2/train/mask/_03_dr_1_21.png (deflated 16%)\n",
            "  adding: hrf_256_256_dice_loss_hvr_2/split_2/train/mask/_01_g_0_46.png (deflated 20%)\n",
            "  adding: hrf_256_256_dice_loss_hvr_2/split_2/train/mask/_04_g_2_9.png (deflated 35%)\n",
            "  adding: hrf_256_256_dice_loss_hvr_2/split_2/train/mask/_03_h_0_97.png (deflated 70%)\n",
            "  adding: hrf_256_256_dice_loss_hvr_2/split_2/train/mask/_12_g_2_74.png (deflated 19%)\n",
            "  adding: hrf_256_256_dice_loss_hvr_2/split_2/train/mask/_10_dr_0_116.png (deflated 32%)\n",
            "  adding: hrf_256_256_dice_loss_hvr_2/split_2/train/mask/_09_g_0_129.png (deflated 35%)\n",
            "  adding: hrf_256_256_dice_loss_hvr_2/split_2/train/mask/_12_dr_3_3.png (deflated 33%)\n",
            "  adding: hrf_256_256_dice_loss_hvr_2/split_2/train/mask/_12_g_2_98.png (deflated 85%)\n",
            "  adding: hrf_256_256_dice_loss_hvr_2/split_2/train/mask/_01_dr_2_2.png (deflated 85%)\n",
            "  adding: hrf_256_256_dice_loss_hvr_2/split_2/train/mask/_02_dr_1_119.png (deflated 20%)\n",
            "  adding: hrf_256_256_dice_loss_hvr_2/split_2/train/mask/_02_dr_2_128.png (deflated 65%)\n",
            "  adding: hrf_256_256_dice_loss_hvr_2/split_2/train/mask/_08_h_2_8.png (deflated 34%)\n",
            "  adding: hrf_256_256_dice_loss_hvr_2/split_2/train/mask/_14_g_0_54.png (deflated 17%)\n",
            "  adding: hrf_256_256_dice_loss_hvr_2/split_2/train/mask/_14_g_2_62.png (deflated 20%)\n",
            "  adding: hrf_256_256_dice_loss_hvr_2/split_2/train/mask/_07_g_3_63.png (deflated 32%)\n",
            "  adding: hrf_256_256_dice_loss_hvr_2/split_2/train/mask/_13_h_1_85.png (deflated 16%)\n",
            "  adding: hrf_256_256_dice_loss_hvr_2/split_2/train/mask/_04_h_3_4.png (deflated 32%)\n",
            "  adding: hrf_256_256_dice_loss_hvr_2/split_2/train/mask/_08_h_2_123.png (deflated 28%)\n",
            "  adding: hrf_256_256_dice_loss_hvr_2/split_2/train/mask/_13_h_3_58.png (deflated 20%)\n",
            "  adding: hrf_256_256_dice_loss_hvr_2/split_2/train/mask/_07_h_1_14.png (deflated 85%)\n",
            "  adding: hrf_256_256_dice_loss_hvr_2/split_2/train/mask/_11_g_1_10.png (deflated 45%)\n",
            "  adding: hrf_256_256_dice_loss_hvr_2/split_2/train/mask/_04_g_0_96.png (deflated 24%)\n",
            "  adding: hrf_256_256_dice_loss_hvr_2/split_2/train/mask/_15_dr_1_28.png (deflated 85%)\n",
            "  adding: hrf_256_256_dice_loss_hvr_2/split_2/train/mask/_12_dr_2_102.png (deflated 20%)\n",
            "  adding: hrf_256_256_dice_loss_hvr_2/split_2/train/mask/_01_g_2_86.png (deflated 15%)\n",
            "  adding: hrf_256_256_dice_loss_hvr_2/split_2/train/mask/_07_h_3_80.png (deflated 18%)\n",
            "  adding: hrf_256_256_dice_loss_hvr_2/split_2/train/mask/_14_g_2_102.png (deflated 21%)\n",
            "  adding: hrf_256_256_dice_loss_hvr_2/split_2/train/mask/_02_h_0_124.png (deflated 33%)\n",
            "  adding: hrf_256_256_dice_loss_hvr_2/split_2/train/mask/_11_g_1_32.png (deflated 23%)\n",
            "  adding: hrf_256_256_dice_loss_hvr_2/split_2/train/mask/_14_g_1_114.png (deflated 16%)\n",
            "  adding: hrf_256_256_dice_loss_hvr_2/split_2/train/mask/_14_h_1_48.png (deflated 28%)\n",
            "  adding: hrf_256_256_dice_loss_hvr_2/split_2/train/mask/_13_g_0_38.png (deflated 23%)\n",
            "  adding: hrf_256_256_dice_loss_hvr_2/split_2/train/mask/_10_g_3_99.png (deflated 32%)\n",
            "  adding: hrf_256_256_dice_loss_hvr_2/split_2/train/mask/_07_g_2_46.png (deflated 33%)\n",
            "  adding: hrf_256_256_dice_loss_hvr_2/split_2/train/mask/_10_g_0_62.png (deflated 26%)\n",
            "  adding: hrf_256_256_dice_loss_hvr_2/split_2/train/mask/_09_dr_2_1.png (deflated 85%)\n",
            "  adding: hrf_256_256_dice_loss_hvr_2/split_2/train/mask/_03_dr_3_45.png (deflated 25%)\n",
            "  adding: hrf_256_256_dice_loss_hvr_2/split_2/train/mask/_08_h_3_3.png (deflated 38%)\n",
            "  adding: hrf_256_256_dice_loss_hvr_2/split_2/train/mask/_02_dr_0_43.png (deflated 24%)\n",
            "  adding: hrf_256_256_dice_loss_hvr_2/split_2/train/mask/_14_g_3_95.png (deflated 24%)\n",
            "  adding: hrf_256_256_dice_loss_hvr_2/split_2/train/mask/_11_g_0_67.png (deflated 18%)\n",
            "  adding: hrf_256_256_dice_loss_hvr_2/split_2/train/mask/_14_g_2_33.png (deflated 23%)\n",
            "  adding: hrf_256_256_dice_loss_hvr_2/split_2/train/mask/_11_h_3_49.png (deflated 16%)\n",
            "  adding: hrf_256_256_dice_loss_hvr_2/split_2/train/mask/_13_h_0_20.png (deflated 19%)\n",
            "  adding: hrf_256_256_dice_loss_hvr_2/split_2/train/mask/_11_h_1_21.png (deflated 16%)\n",
            "  adding: hrf_256_256_dice_loss_hvr_2/split_2/train/mask/_13_h_3_132.png (deflated 28%)\n",
            "  adding: hrf_256_256_dice_loss_hvr_2/split_2/train/mask/_10_g_2_29.png (deflated 35%)\n",
            "  adding: hrf_256_256_dice_loss_hvr_2/split_2/train/mask/_03_h_3_124.png (deflated 41%)\n",
            "  adding: hrf_256_256_dice_loss_hvr_2/split_2/train/mask/_04_h_0_104.png (deflated 20%)\n",
            "  adding: hrf_256_256_dice_loss_hvr_2/split_2/train/mask/_13_h_0_36.png (deflated 15%)\n",
            "  adding: hrf_256_256_dice_loss_hvr_2/split_2/train/mask/_07_g_2_11.png (deflated 38%)\n",
            "  adding: hrf_256_256_dice_loss_hvr_2/split_2/train/mask/_06_dr_3_14.png (deflated 85%)\n",
            "  adding: hrf_256_256_dice_loss_hvr_2/split_2/train/mask/_08_h_1_15.png (deflated 24%)\n",
            "  adding: hrf_256_256_dice_loss_hvr_2/split_2/train/mask/_11_h_0_62.png (deflated 22%)\n",
            "  adding: hrf_256_256_dice_loss_hvr_2/split_2/train/mask/_12_dr_0_105.png (deflated 25%)\n",
            "  adding: hrf_256_256_dice_loss_hvr_2/split_2/train/mask/_09_dr_1_9.png (deflated 40%)\n",
            "  adding: hrf_256_256_dice_loss_hvr_2/split_2/train/mask/_12_g_0_84.png (deflated 58%)\n",
            "  adding: hrf_256_256_dice_loss_hvr_2/split_2/train/mask/_13_h_3_22.png (deflated 15%)\n",
            "  adding: hrf_256_256_dice_loss_hvr_2/split_2/train/mask/_12_dr_1_127.png (deflated 85%)\n",
            "  adding: hrf_256_256_dice_loss_hvr_2/split_2/train/mask/_14_g_2_108.png (deflated 18%)\n",
            "  adding: hrf_256_256_dice_loss_hvr_2/split_2/train/mask/_09_g_0_116.png (deflated 30%)\n",
            "  adding: hrf_256_256_dice_loss_hvr_2/split_2/train/mask/_13_h_3_87.png (deflated 18%)\n",
            "  adding: hrf_256_256_dice_loss_hvr_2/split_2/train/mask/_15_dr_1_94.png (deflated 25%)\n",
            "  adding: hrf_256_256_dice_loss_hvr_2/split_2/train/mask/_05_h_3_128.png (deflated 85%)\n",
            "  adding: hrf_256_256_dice_loss_hvr_2/split_2/train/mask/_07_g_2_121.png (deflated 21%)\n",
            "  adding: hrf_256_256_dice_loss_hvr_2/split_2/train/mask/_03_dr_3_32.png (deflated 22%)\n",
            "  adding: hrf_256_256_dice_loss_hvr_2/split_2/train/mask/_07_g_3_64.png (deflated 26%)\n",
            "  adding: hrf_256_256_dice_loss_hvr_2/split_2/train/mask/_07_h_3_103.png (deflated 28%)\n",
            "  adding: hrf_256_256_dice_loss_hvr_2/split_2/train/mask/_07_h_0_77.png (deflated 38%)\n",
            "  adding: hrf_256_256_dice_loss_hvr_2/split_2/train/mask/_04_h_0_42.png (deflated 50%)\n",
            "  adding: hrf_256_256_dice_loss_hvr_2/split_2/train/mask/_03_h_2_4.png (deflated 33%)\n",
            "  adding: hrf_256_256_dice_loss_hvr_2/split_2/train/mask/_13_h_3_38.png (deflated 20%)\n",
            "  adding: hrf_256_256_dice_loss_hvr_2/split_2/train/mask/_14_h_0_74.png (deflated 20%)\n",
            "  adding: hrf_256_256_dice_loss_hvr_2/split_2/train/mask/_03_h_1_12.png (deflated 85%)\n",
            "  adding: hrf_256_256_dice_loss_hvr_2/split_2/train/mask/_01_dr_1_7.png (deflated 32%)\n",
            "  adding: hrf_256_256_dice_loss_hvr_2/split_2/train/mask/_13_h_2_30.png (deflated 23%)\n",
            "  adding: hrf_256_256_dice_loss_hvr_2/split_2/train/mask/_09_dr_0_11.png (deflated 42%)\n",
            "  adding: hrf_256_256_dice_loss_hvr_2/split_2/train/mask/_05_h_1_86.png (deflated 25%)\n",
            "  adding: hrf_256_256_dice_loss_hvr_2/split_2/train/mask/_13_h_2_138.png (deflated 85%)\n",
            "  adding: hrf_256_256_dice_loss_hvr_2/split_2/train/mask/_05_h_1_114.png (deflated 30%)\n",
            "  adding: hrf_256_256_dice_loss_hvr_2/split_2/train/mask/_09_dr_0_78.png (deflated 28%)\n",
            "  adding: hrf_256_256_dice_loss_hvr_2/split_2/train/mask/_11_h_2_65.png (deflated 19%)\n",
            "  adding: hrf_256_256_dice_loss_hvr_2/split_2/train/mask/_02_dr_1_53.png (deflated 32%)\n",
            "  adding: hrf_256_256_dice_loss_hvr_2/split_2/train/mask/_14_dr_2_25.png (deflated 30%)\n",
            "  adding: hrf_256_256_dice_loss_hvr_2/split_2/train/mask/_10_dr_0_131.png (deflated 31%)\n",
            "  adding: hrf_256_256_dice_loss_hvr_2/split_2/train/mask/_05_h_1_63.png (deflated 35%)\n",
            "  adding: hrf_256_256_dice_loss_hvr_2/split_2/train/mask/_07_g_2_41.png (deflated 85%)\n",
            "  adding: hrf_256_256_dice_loss_hvr_2/split_2/train/mask/_14_g_1_116.png (deflated 24%)\n",
            "  adding: hrf_256_256_dice_loss_hvr_2/split_2/train/mask/_09_g_3_91.png (deflated 21%)\n",
            "  adding: hrf_256_256_dice_loss_hvr_2/split_2/train/mask/_03_h_3_48.png (deflated 20%)\n",
            "  adding: hrf_256_256_dice_loss_hvr_2/split_2/train/mask/_12_g_1_77.png (deflated 25%)\n",
            "  adding: hrf_256_256_dice_loss_hvr_2/split_2/train/mask/_09_dr_3_42.png (deflated 85%)\n",
            "  adding: hrf_256_256_dice_loss_hvr_2/split_2/train/mask/_11_h_0_50.png (deflated 21%)\n",
            "  adding: hrf_256_256_dice_loss_hvr_2/split_2/train/mask/_07_g_2_31.png (deflated 18%)\n",
            "  adding: hrf_256_256_dice_loss_hvr_2/split_2/train/mask/_11_g_0_71.png (deflated 15%)\n",
            "  adding: hrf_256_256_dice_loss_hvr_2/split_2/train/mask/_02_dr_2_96.png (deflated 24%)\n",
            "  adding: hrf_256_256_dice_loss_hvr_2/split_2/train/mask/_08_h_0_49.png (deflated 22%)\n",
            "  adding: hrf_256_256_dice_loss_hvr_2/split_2/train/mask/_04_h_2_34.png (deflated 20%)\n",
            "  adding: hrf_256_256_dice_loss_hvr_2/split_2/train/mask/_06_dr_3_136.png (deflated 32%)\n",
            "  adding: hrf_256_256_dice_loss_hvr_2/split_2/train/mask/_08_h_1_27.png (deflated 85%)\n",
            "  adding: hrf_256_256_dice_loss_hvr_2/split_2/train/mask/_10_dr_0_21.png (deflated 14%)\n",
            "  adding: hrf_256_256_dice_loss_hvr_2/split_2/train/mask/_02_dr_3_63.png (deflated 24%)\n",
            "  adding: hrf_256_256_dice_loss_hvr_2/split_2/train/mask/_09_g_3_41.png (deflated 25%)\n",
            "  adding: hrf_256_256_dice_loss_hvr_2/split_2/train/mask/_02_h_0_49.png (deflated 26%)\n",
            "  adding: hrf_256_256_dice_loss_hvr_2/split_2/train/mask/_13_g_0_59.png (deflated 21%)\n",
            "  adding: hrf_256_256_dice_loss_hvr_2/split_2/train/mask/_13_h_3_133.png (deflated 31%)\n",
            "  adding: hrf_256_256_dice_loss_hvr_2/split_2/train/mask/_12_dr_2_50.png (deflated 25%)\n",
            "  adding: hrf_256_256_dice_loss_hvr_2/split_2/train/mask/_09_g_3_90.png (deflated 24%)\n",
            "  adding: hrf_256_256_dice_loss_hvr_2/split_2/train/mask/_01_dr_1_37.png (deflated 21%)\n",
            "  adding: hrf_256_256_dice_loss_hvr_2/split_2/train/mask/_14_g_1_3.png (deflated 43%)\n",
            "  adding: hrf_256_256_dice_loss_hvr_2/split_2/train/mask/_08_h_1_48.png (deflated 24%)\n",
            "  adding: hrf_256_256_dice_loss_hvr_2/split_2/train/mask/_14_h_3_45.png (deflated 29%)\n",
            "  adding: hrf_256_256_dice_loss_hvr_2/split_2/train/mask/_02_h_0_35.png (deflated 15%)\n",
            "  adding: hrf_256_256_dice_loss_hvr_2/split_2/train/mask/_14_dr_0_125.png (deflated 85%)\n",
            "  adding: hrf_256_256_dice_loss_hvr_2/split_2/train/mask/_10_dr_3_113.png (deflated 45%)\n",
            "  adding: hrf_256_256_dice_loss_hvr_2/split_2/train/mask/_07_g_1_103.png (deflated 18%)\n",
            "  adding: hrf_256_256_dice_loss_hvr_2/split_2/train/mask/_03_h_0_139.png (deflated 85%)\n",
            "  adding: hrf_256_256_dice_loss_hvr_2/split_2/train/mask/_12_g_2_37.png (deflated 27%)\n",
            "  adding: hrf_256_256_dice_loss_hvr_2/split_2/train/mask/_10_g_0_36.png (deflated 21%)\n",
            "  adding: hrf_256_256_dice_loss_hvr_2/split_2/train/mask/_14_g_2_127.png (deflated 85%)\n",
            "  adding: hrf_256_256_dice_loss_hvr_2/split_2/train/mask/_11_h_0_128.png (deflated 85%)\n",
            "  adding: hrf_256_256_dice_loss_hvr_2/split_2/train/mask/_03_dr_1_0.png (deflated 85%)\n",
            "  adding: hrf_256_256_dice_loss_hvr_2/split_2/train/mask/_09_g_1_14.png (deflated 85%)\n",
            "  adding: hrf_256_256_dice_loss_hvr_2/split_2/train/mask/_05_h_1_73.png (deflated 22%)\n",
            "  adding: hrf_256_256_dice_loss_hvr_2/split_2/train/mask/_02_dr_1_69.png (deflated 56%)\n",
            "  adding: hrf_256_256_dice_loss_hvr_2/split_2/train/mask/_09_g_0_139.png (deflated 85%)\n",
            "  adding: hrf_256_256_dice_loss_hvr_2/split_2/train/mask/_07_h_1_22.png (deflated 17%)\n",
            "  adding: hrf_256_256_dice_loss_hvr_2/split_2/train/mask/_12_g_2_19.png (deflated 24%)\n",
            "  adding: hrf_256_256_dice_loss_hvr_2/split_2/train/mask/_11_g_2_61.png (deflated 34%)\n",
            "  adding: hrf_256_256_dice_loss_hvr_2/split_2/train/mask/_13_h_0_93.png (deflated 15%)\n",
            "  adding: hrf_256_256_dice_loss_hvr_2/split_2/train/mask/_11_h_2_135.png (deflated 39%)\n",
            "  adding: hrf_256_256_dice_loss_hvr_2/split_2/train/mask/_01_g_2_9.png (deflated 46%)\n",
            "  adding: hrf_256_256_dice_loss_hvr_2/split_2/train/mask/_15_dr_3_87.png (deflated 26%)\n",
            "  adding: hrf_256_256_dice_loss_hvr_2/split_2/train/mask/_04_g_0_17.png (deflated 41%)\n",
            "  adding: hrf_256_256_dice_loss_hvr_2/split_2/train/mask/_04_h_1_106.png (deflated 19%)\n",
            "  adding: hrf_256_256_dice_loss_hvr_2/split_2/train/mask/_05_h_0_18.png (deflated 13%)\n",
            "  adding: hrf_256_256_dice_loss_hvr_2/split_2/train/mask/_13_g_1_51.png (deflated 18%)\n",
            "  adding: hrf_256_256_dice_loss_hvr_2/split_2/train/mask/_08_h_3_51.png (deflated 23%)\n",
            "  adding: hrf_256_256_dice_loss_hvr_2/split_2/train/mask/_12_g_0_18.png (deflated 25%)\n",
            "  adding: hrf_256_256_dice_loss_hvr_2/split_2/train/mask/_01_dr_1_59.png (deflated 31%)\n",
            "  adding: hrf_256_256_dice_loss_hvr_2/split_2/train/mask/_04_g_3_103.png (deflated 19%)\n",
            "  adding: hrf_256_256_dice_loss_hvr_2/split_2/train/mask/_15_dr_0_7.png (deflated 25%)\n",
            "  adding: hrf_256_256_dice_loss_hvr_2/split_2/train/mask/_03_dr_1_11.png (deflated 80%)\n",
            "  adding: hrf_256_256_dice_loss_hvr_2/split_2/train/mask/_13_h_0_73.png (deflated 26%)\n",
            "  adding: hrf_256_256_dice_loss_hvr_2/split_2/train/mask/_02_h_2_133.png (deflated 32%)\n",
            "  adding: hrf_256_256_dice_loss_hvr_2/split_2/train/mask/_10_g_2_26.png (deflated 45%)\n",
            "  adding: hrf_256_256_dice_loss_hvr_2/split_2/train/mask/_11_h_3_119.png (deflated 24%)\n",
            "  adding: hrf_256_256_dice_loss_hvr_2/split_2/train/mask/_14_g_1_98.png (deflated 82%)\n",
            "  adding: hrf_256_256_dice_loss_hvr_2/split_2/train/mask/_15_dr_2_105.png (deflated 32%)\n",
            "  adding: hrf_256_256_dice_loss_hvr_2/split_2/train/mask/_13_g_2_46.png (deflated 33%)\n",
            "  adding: hrf_256_256_dice_loss_hvr_2/split_2/train/mask/_11_h_1_129.png (deflated 39%)\n",
            "  adding: hrf_256_256_dice_loss_hvr_2/split_2/train/mask/_15_dr_3_43.png (deflated 26%)\n",
            "  adding: hrf_256_256_dice_loss_hvr_2/split_2/train/mask/_06_dr_1_103.png (deflated 20%)\n",
            "  adding: hrf_256_256_dice_loss_hvr_2/split_2/train/mask/_13_h_2_91.png (deflated 22%)\n",
            "  adding: hrf_256_256_dice_loss_hvr_2/split_2/train/mask/_04_h_2_73.png (deflated 24%)\n",
            "  adding: hrf_256_256_dice_loss_hvr_2/split_2/train/mask/_13_g_3_12.png (deflated 85%)\n",
            "  adding: hrf_256_256_dice_loss_hvr_2/split_2/train/mask/_11_h_2_75.png (deflated 20%)\n",
            "  adding: hrf_256_256_dice_loss_hvr_2/split_2/train/mask/_01_dr_2_134.png (deflated 33%)\n",
            "  adding: hrf_256_256_dice_loss_hvr_2/split_2/train/mask/_11_g_3_97.png (deflated 17%)\n",
            "  adding: hrf_256_256_dice_loss_hvr_2/split_2/train/mask/_09_g_1_130.png (deflated 45%)\n",
            "  adding: hrf_256_256_dice_loss_hvr_2/split_2/train/mask/_13_h_0_125.png (deflated 85%)\n",
            "  adding: hrf_256_256_dice_loss_hvr_2/split_2/train/mask/_09_g_1_128.png (deflated 43%)\n",
            "  adding: hrf_256_256_dice_loss_hvr_2/split_2/train/mask/_07_g_2_113.png (deflated 41%)\n",
            "  adding: hrf_256_256_dice_loss_hvr_2/split_2/train/mask/_14_dr_0_104.png (deflated 24%)\n",
            "  adding: hrf_256_256_dice_loss_hvr_2/split_2/train/mask/_09_g_3_42.png (deflated 66%)\n",
            "  adding: hrf_256_256_dice_loss_hvr_2/split_2/train/mask/_08_h_3_84.png (deflated 73%)\n",
            "  adding: hrf_256_256_dice_loss_hvr_2/split_2/train/mask/_02_h_2_58.png (deflated 25%)\n",
            "  adding: hrf_256_256_dice_loss_hvr_2/split_2/train/mask/_09_dr_2_58.png (deflated 34%)\n",
            "  adding: hrf_256_256_dice_loss_hvr_2/split_2/train/mask/_02_h_1_125.png (deflated 85%)\n",
            "  adding: hrf_256_256_dice_loss_hvr_2/split_2/train/mask/_08_h_2_52.png (deflated 23%)\n",
            "  adding: hrf_256_256_dice_loss_hvr_2/split_2/train/mask/_11_h_3_118.png (deflated 27%)\n",
            "  adding: hrf_256_256_dice_loss_hvr_2/split_2/train/mask/_03_dr_0_118.png (deflated 18%)\n",
            "  adding: hrf_256_256_dice_loss_hvr_2/split_2/train/mask/_06_dr_0_2.png (deflated 47%)\n",
            "  adding: hrf_256_256_dice_loss_hvr_2/split_2/train/mask/_04_g_3_119.png (deflated 22%)\n",
            "  adding: hrf_256_256_dice_loss_hvr_2/split_2/train/mask/_08_h_1_17.png (deflated 26%)\n",
            "  adding: hrf_256_256_dice_loss_hvr_2/split_2/train/mask/_11_g_2_4.png (deflated 30%)\n",
            "  adding: hrf_256_256_dice_loss_hvr_2/split_2/train/mask/_07_h_1_124.png (deflated 75%)\n",
            "  adding: hrf_256_256_dice_loss_hvr_2/split_2/train/mask/_07_g_3_129.png (deflated 33%)\n",
            "  adding: hrf_256_256_dice_loss_hvr_2/split_2/train/mask/_03_h_0_104.png (deflated 27%)\n",
            "  adding: hrf_256_256_dice_loss_hvr_2/split_2/train/mask/_14_h_0_71.png (deflated 14%)\n",
            "  adding: hrf_256_256_dice_loss_hvr_2/split_2/train/mask/_06_dr_3_115.png (deflated 15%)\n",
            "  adding: hrf_256_256_dice_loss_hvr_2/split_2/train/mask/_04_h_2_132.png (deflated 39%)\n",
            "  adding: hrf_256_256_dice_loss_hvr_2/split_2/train/mask/_14_h_2_54.png (deflated 39%)\n",
            "  adding: hrf_256_256_dice_loss_hvr_2/split_2/train/mask/_09_g_2_132.png (deflated 28%)\n",
            "  adding: hrf_256_256_dice_loss_hvr_2/split_2/train/mask/_11_h_0_21.png (deflated 18%)\n",
            "  adding: hrf_256_256_dice_loss_hvr_2/split_2/train/mask/_02_h_1_105.png (deflated 23%)\n",
            "  adding: hrf_256_256_dice_loss_hvr_2/split_2/train/mask/_09_dr_1_55.png (deflated 50%)\n",
            "  adding: hrf_256_256_dice_loss_hvr_2/split_2/train/mask/_03_dr_0_52.png (deflated 23%)\n",
            "  adding: hrf_256_256_dice_loss_hvr_2/split_2/train/mask/_10_g_1_90.png (deflated 31%)\n",
            "  adding: hrf_256_256_dice_loss_hvr_2/split_2/train/mask/_13_g_3_113.png (deflated 30%)\n",
            "  adding: hrf_256_256_dice_loss_hvr_2/split_2/train/mask/_03_h_2_102.png (deflated 21%)\n",
            "  adding: hrf_256_256_dice_loss_hvr_2/split_2/train/mask/_10_dr_2_57.png (deflated 15%)\n",
            "  adding: hrf_256_256_dice_loss_hvr_2/split_2/train/mask/_04_g_1_132.png (deflated 35%)\n",
            "  adding: hrf_256_256_dice_loss_hvr_2/split_2/train/mask/_11_g_2_88.png (deflated 27%)\n",
            "  adding: hrf_256_256_dice_loss_hvr_2/split_2/train/mask/_13_h_1_80.png (deflated 24%)\n",
            "  adding: hrf_256_256_dice_loss_hvr_2/split_2/train/mask/_14_dr_2_55.png (deflated 72%)\n",
            "  adding: hrf_256_256_dice_loss_hvr_2/split_2/train/mask/_04_g_0_131.png (deflated 30%)\n",
            "  adding: hrf_256_256_dice_loss_hvr_2/split_2/train/mask/_05_h_2_28.png (deflated 85%)\n",
            "  adding: hrf_256_256_dice_loss_hvr_2/split_2/train/mask/_02_dr_1_68.png (deflated 32%)\n",
            "  adding: hrf_256_256_dice_loss_hvr_2/split_2/train/mask/_14_g_0_23.png (deflated 28%)\n",
            "  adding: hrf_256_256_dice_loss_hvr_2/split_2/train/mask/_11_g_1_9.png (deflated 41%)\n",
            "  adding: hrf_256_256_dice_loss_hvr_2/split_2/train/mask/_03_dr_3_100.png (deflated 31%)\n",
            "  adding: hrf_256_256_dice_loss_hvr_2/split_2/train/mask/_14_dr_2_61.png (deflated 17%)\n",
            "  adding: hrf_256_256_dice_loss_hvr_2/split_2/train/mask/_04_h_2_88.png (deflated 16%)\n",
            "  adding: hrf_256_256_dice_loss_hvr_2/split_2/train/mask/_13_h_1_3.png (deflated 29%)\n",
            "  adding: hrf_256_256_dice_loss_hvr_2/split_2/train/mask/_03_dr_1_49.png (deflated 29%)\n",
            "  adding: hrf_256_256_dice_loss_hvr_2/split_2/train/mask/_01_dr_3_118.png (deflated 20%)\n",
            "  adding: hrf_256_256_dice_loss_hvr_2/split_2/train/mask/_02_h_3_109.png (deflated 25%)\n",
            "  adding: hrf_256_256_dice_loss_hvr_2/split_2/train/mask/_05_h_3_129.png (deflated 50%)\n",
            "  adding: hrf_256_256_dice_loss_hvr_2/split_2/train/mask/_13_g_0_84.png (deflated 52%)\n",
            "  adding: hrf_256_256_dice_loss_hvr_2/split_2/train/mask/_02_h_3_90.png (deflated 19%)\n",
            "  adding: hrf_256_256_dice_loss_hvr_2/split_2/train/mask/_01_dr_0_34.png (deflated 17%)\n",
            "  adding: hrf_256_256_dice_loss_hvr_2/split_2/train/mask/_06_dr_0_57.png (deflated 29%)\n",
            "  adding: hrf_256_256_dice_loss_hvr_2/split_2/train/mask/_09_dr_2_73.png (deflated 25%)\n",
            "  adding: hrf_256_256_dice_loss_hvr_2/split_2/train/mask/_10_g_2_85.png (deflated 26%)\n",
            "  adding: hrf_256_256_dice_loss_hvr_2/split_2/train/mask/_09_dr_0_119.png (deflated 24%)\n",
            "  adding: hrf_256_256_dice_loss_hvr_2/split_2/train/mask/_01_g_1_41.png (deflated 85%)\n",
            "  adding: hrf_256_256_dice_loss_hvr_2/split_2/train/mask/_07_h_1_37.png (deflated 37%)\n",
            "  adding: hrf_256_256_dice_loss_hvr_2/split_2/train/mask/_01_g_0_71.png (deflated 39%)\n",
            "  adding: hrf_256_256_dice_loss_hvr_2/split_2/train/mask/_12_g_2_105.png (deflated 28%)\n",
            "  adding: hrf_256_256_dice_loss_hvr_2/split_2/train/mask/_14_h_0_40.png (deflated 18%)\n",
            "  adding: hrf_256_256_dice_loss_hvr_2/split_2/train/mask/_10_dr_0_37.png (deflated 23%)\n",
            "  adding: hrf_256_256_dice_loss_hvr_2/split_2/train/mask/_07_g_3_101.png (deflated 19%)\n",
            "  adding: hrf_256_256_dice_loss_hvr_2/split_2/train/mask/_06_dr_3_28.png (deflated 85%)\n",
            "  adding: hrf_256_256_dice_loss_hvr_2/split_2/train/mask/_03_dr_3_111.png (deflated 85%)\n",
            "  adding: hrf_256_256_dice_loss_hvr_2/split_2/train/mask/_12_g_0_64.png (deflated 27%)\n",
            "  adding: hrf_256_256_dice_loss_hvr_2/split_2/train/mask/_08_h_2_98.png (deflated 85%)\n",
            "  adding: hrf_256_256_dice_loss_hvr_2/split_2/train/mask/_13_g_3_41.png (deflated 77%)\n",
            "  adding: hrf_256_256_dice_loss_hvr_2/split_2/train/mask/_05_h_3_71.png (deflated 16%)\n",
            "  adding: hrf_256_256_dice_loss_hvr_2/split_2/train/mask/_07_h_1_35.png (deflated 20%)\n",
            "  adding: hrf_256_256_dice_loss_hvr_2/split_2/train/mask/_03_dr_3_11.png (deflated 85%)\n",
            "  adding: hrf_256_256_dice_loss_hvr_2/split_2/train/mask/_13_h_2_128.png (deflated 41%)\n",
            "  adding: hrf_256_256_dice_loss_hvr_2/split_2/train/mask/_13_h_0_31.png (deflated 15%)\n",
            "  adding: hrf_256_256_dice_loss_hvr_2/split_2/train/mask/_10_dr_1_134.png (deflated 31%)\n",
            "  adding: hrf_256_256_dice_loss_hvr_2/split_2/train/mask/_11_h_1_131.png (deflated 36%)\n",
            "  adding: hrf_256_256_dice_loss_hvr_2/split_2/train/mask/_04_g_2_6.png (deflated 33%)\n",
            "  adding: hrf_256_256_dice_loss_hvr_2/split_2/train/mask/_10_g_1_70.png (deflated 36%)\n",
            "  adding: hrf_256_256_dice_loss_hvr_2/split_2/train/mask/_12_g_3_98.png (deflated 17%)\n",
            "  adding: hrf_256_256_dice_loss_hvr_2/split_2/train/mask/_03_dr_3_8.png (deflated 26%)\n",
            "  adding: hrf_256_256_dice_loss_hvr_2/split_2/train/mask/_05_h_3_31.png (deflated 15%)\n",
            "  adding: hrf_256_256_dice_loss_hvr_2/split_2/train/mask/_04_g_3_120.png (deflated 13%)\n",
            "  adding: hrf_256_256_dice_loss_hvr_2/split_2/train/mask/_06_dr_0_117.png (deflated 25%)\n",
            "  adding: hrf_256_256_dice_loss_hvr_2/split_2/train/mask/_11_h_1_100.png (deflated 21%)\n",
            "  adding: hrf_256_256_dice_loss_hvr_2/split_2/train/mask/_10_dr_3_48.png (deflated 19%)\n",
            "  adding: hrf_256_256_dice_loss_hvr_2/split_2/train/mask/_15_dr_0_101.png (deflated 25%)\n",
            "  adding: hrf_256_256_dice_loss_hvr_2/split_2/train/mask/_10_dr_1_138.png (deflated 85%)\n",
            "  adding: hrf_256_256_dice_loss_hvr_2/split_2/train/mask/_05_h_0_26.png (deflated 41%)\n",
            "  adding: hrf_256_256_dice_loss_hvr_2/split_2/train/mask/_12_dr_1_128.png (deflated 50%)\n",
            "  adding: hrf_256_256_dice_loss_hvr_2/split_2/train/mask/_07_h_2_42.png (deflated 51%)\n",
            "  adding: hrf_256_256_dice_loss_hvr_2/split_2/train/mask/_13_h_2_36.png (deflated 23%)\n",
            "  adding: hrf_256_256_dice_loss_hvr_2/split_2/train/mask/_14_g_1_70.png (deflated 44%)\n",
            "  adding: hrf_256_256_dice_loss_hvr_2/split_2/train/mask/_03_h_1_5.png (deflated 31%)\n",
            "  adding: hrf_256_256_dice_loss_hvr_2/split_2/train/mask/_09_dr_2_17.png (deflated 21%)\n",
            "  adding: hrf_256_256_dice_loss_hvr_2/split_2/train/mask/_13_g_3_39.png (deflated 26%)\n",
            "  adding: hrf_256_256_dice_loss_hvr_2/split_2/train/mask/_07_g_3_90.png (deflated 22%)\n",
            "  adding: hrf_256_256_dice_loss_hvr_2/split_2/train/mask/_02_h_3_123.png (deflated 31%)\n",
            "  adding: hrf_256_256_dice_loss_hvr_2/split_2/train/mask/_10_g_3_89.png (deflated 20%)\n",
            "  adding: hrf_256_256_dice_loss_hvr_2/split_2/train/mask/_13_g_2_99.png (deflated 34%)\n",
            "  adding: hrf_256_256_dice_loss_hvr_2/split_2/train/mask/_13_h_0_49.png (deflated 22%)\n",
            "  adding: hrf_256_256_dice_loss_hvr_2/split_2/train/mask/_10_dr_0_30.png (deflated 25%)\n",
            "  adding: hrf_256_256_dice_loss_hvr_2/split_2/train/mask/_03_h_1_123.png (deflated 22%)\n",
            "  adding: hrf_256_256_dice_loss_hvr_2/split_2/train/mask/_08_h_0_114.png (deflated 22%)\n",
            "  adding: hrf_256_256_dice_loss_hvr_2/split_2/train/mask/_08_h_3_16.png (deflated 25%)\n",
            "  adding: hrf_256_256_dice_loss_hvr_2/split_2/train/mask/_02_dr_2_120.png (deflated 21%)\n",
            "  adding: hrf_256_256_dice_loss_hvr_2/split_2/train/mask/_13_g_2_1.png (deflated 85%)\n",
            "  adding: hrf_256_256_dice_loss_hvr_2/split_2/train/mask/_09_g_1_31.png (deflated 26%)\n",
            "  adding: hrf_256_256_dice_loss_hvr_2/split_2/train/mask/_09_dr_1_116.png (deflated 26%)\n",
            "  adding: hrf_256_256_dice_loss_hvr_2/split_2/train/mask/_10_dr_1_9.png (deflated 34%)\n",
            "  adding: hrf_256_256_dice_loss_hvr_2/split_2/train/mask/_13_g_3_103.png (deflated 27%)\n",
            "  adding: hrf_256_256_dice_loss_hvr_2/split_2/train/mask/_14_h_2_27.png (deflated 85%)\n",
            "  adding: hrf_256_256_dice_loss_hvr_2/split_2/train/mask/_10_dr_2_18.png (deflated 32%)\n",
            "  adding: hrf_256_256_dice_loss_hvr_2/split_2/train/mask/_10_g_0_83.png (deflated 36%)\n",
            "  adding: hrf_256_256_dice_loss_hvr_2/split_2/train/mask/_09_dr_1_125.png (deflated 85%)\n",
            "  adding: hrf_256_256_dice_loss_hvr_2/split_2/train/mask/_13_g_0_55.png (deflated 43%)\n",
            "  adding: hrf_256_256_dice_loss_hvr_2/split_2/train/mask/_10_g_0_135.png (deflated 54%)\n",
            "  adding: hrf_256_256_dice_loss_hvr_2/split_2/train/mask/_09_dr_3_91.png (deflated 25%)\n",
            "  adding: hrf_256_256_dice_loss_hvr_2/split_2/train/mask/_07_g_1_84.png (deflated 65%)\n",
            "  adding: hrf_256_256_dice_loss_hvr_2/split_2/train/mask/_09_dr_2_65.png (deflated 26%)\n",
            "  adding: hrf_256_256_dice_loss_hvr_2/split_2/train/mask/_07_h_2_47.png (deflated 26%)\n",
            "  adding: hrf_256_256_dice_loss_hvr_2/split_2/train/mask/_14_g_1_29.png (deflated 44%)\n",
            "  adding: hrf_256_256_dice_loss_hvr_2/split_2/train/mask/_10_dr_3_120.png (deflated 18%)\n",
            "  adding: hrf_256_256_dice_loss_hvr_2/split_2/train/mask/_13_h_3_77.png (deflated 24%)\n",
            "  adding: hrf_256_256_dice_loss_hvr_2/split_2/train/mask/_14_h_0_85.png (deflated 15%)\n",
            "  adding: hrf_256_256_dice_loss_hvr_2/split_2/train/mask/_09_g_2_123.png (deflated 24%)\n",
            "  adding: hrf_256_256_dice_loss_hvr_2/split_2/train/mask/_14_g_3_5.png (deflated 34%)\n",
            "  adding: hrf_256_256_dice_loss_hvr_2/split_2/train/mask/_14_h_2_133.png (deflated 37%)\n",
            "  adding: hrf_256_256_dice_loss_hvr_2/split_2/train/mask/_02_h_3_64.png (deflated 32%)\n",
            "  adding: hrf_256_256_dice_loss_hvr_2/split_2/train/mask/_13_h_2_100.png (deflated 20%)\n",
            "  adding: hrf_256_256_dice_loss_hvr_2/split_2/train/mask/_01_g_3_66.png (deflated 18%)\n",
            "  adding: hrf_256_256_dice_loss_hvr_2/split_2/train/mask/_03_dr_3_0.png (deflated 30%)\n",
            "  adding: hrf_256_256_dice_loss_hvr_2/split_2/train/mask/_10_g_1_77.png (deflated 34%)\n",
            "  adding: hrf_256_256_dice_loss_hvr_2/split_2/train/mask/_03_dr_1_123.png (deflated 27%)\n",
            "  adding: hrf_256_256_dice_loss_hvr_2/split_2/train/mask/_04_h_2_10.png (deflated 38%)\n",
            "  adding: hrf_256_256_dice_loss_hvr_2/split_2/train/mask/_10_g_3_2.png (deflated 50%)\n",
            "  adding: hrf_256_256_dice_loss_hvr_2/split_2/train/mask/_10_g_0_2.png (deflated 42%)\n",
            "  adding: hrf_256_256_dice_loss_hvr_2/split_2/train/mask/_10_g_0_23.png (deflated 23%)\n",
            "  adding: hrf_256_256_dice_loss_hvr_2/split_2/train/mask/_05_h_3_29.png (deflated 34%)\n",
            "  adding: hrf_256_256_dice_loss_hvr_2/split_2/train/mask/_08_h_0_53.png (deflated 24%)\n",
            "  adding: hrf_256_256_dice_loss_hvr_2/split_2/train/mask/_09_dr_1_69.png (deflated 49%)\n",
            "  adding: hrf_256_256_dice_loss_hvr_2/split_2/train/mask/_14_h_0_89.png (deflated 17%)\n",
            "  adding: hrf_256_256_dice_loss_hvr_2/split_2/train/mask/_10_dr_1_81.png (deflated 19%)\n",
            "  adding: hrf_256_256_dice_loss_hvr_2/split_2/train/mask/_10_g_0_15.png (deflated 50%)\n",
            "  adding: hrf_256_256_dice_loss_hvr_2/split_2/train/mask/_14_dr_3_99.png (deflated 18%)\n",
            "  adding: hrf_256_256_dice_loss_hvr_2/split_2/train/mask/_10_g_3_6.png (deflated 29%)\n",
            "  adding: hrf_256_256_dice_loss_hvr_2/split_2/train/mask/_11_g_2_72.png (deflated 27%)\n",
            "  adding: hrf_256_256_dice_loss_hvr_2/split_2/train/mask/_04_h_0_55.png (deflated 54%)\n",
            "  adding: hrf_256_256_dice_loss_hvr_2/split_2/train/mask/_12_g_1_24.png (deflated 39%)\n",
            "  adding: hrf_256_256_dice_loss_hvr_2/split_2/train/mask/_06_dr_3_58.png (deflated 27%)\n",
            "  adding: hrf_256_256_dice_loss_hvr_2/split_2/train/mask/_14_g_2_41.png (deflated 82%)\n",
            "  adding: hrf_256_256_dice_loss_hvr_2/split_2/train/mask/_14_dr_2_34.png (deflated 25%)\n",
            "  adding: hrf_256_256_dice_loss_hvr_2/split_2/train/mask/_08_h_2_64.png (deflated 29%)\n",
            "  adding: hrf_256_256_dice_loss_hvr_2/split_2/train/mask/_01_g_2_30.png (deflated 30%)\n",
            "  adding: hrf_256_256_dice_loss_hvr_2/split_2/train/mask/_08_h_2_5.png (deflated 36%)\n",
            "  adding: hrf_256_256_dice_loss_hvr_2/split_2/train/mask/_03_dr_3_101.png (deflated 30%)\n",
            "  adding: hrf_256_256_dice_loss_hvr_2/split_2/train/mask/_09_g_3_36.png (deflated 25%)\n",
            "  adding: hrf_256_256_dice_loss_hvr_2/split_2/train/mask/_02_dr_3_91.png (deflated 27%)\n",
            "  adding: hrf_256_256_dice_loss_hvr_2/split_2/train/mask/_13_h_2_40.png (deflated 29%)\n",
            "  adding: hrf_256_256_dice_loss_hvr_2/split_2/train/mask/_11_h_2_99.png (deflated 44%)\n",
            "  adding: hrf_256_256_dice_loss_hvr_2/split_2/train/mask/_02_h_2_134.png (deflated 34%)\n",
            "  adding: hrf_256_256_dice_loss_hvr_2/split_2/train/mask/_14_dr_3_86.png (deflated 27%)\n",
            "  adding: hrf_256_256_dice_loss_hvr_2/split_2/train/mask/_13_h_0_108.png (deflated 30%)\n",
            "  adding: hrf_256_256_dice_loss_hvr_2/split_2/train/mask/_04_h_0_89.png (deflated 25%)\n",
            "  adding: hrf_256_256_dice_loss_hvr_2/split_2/train/mask/_01_dr_3_21.png (deflated 27%)\n",
            "  adding: hrf_256_256_dice_loss_hvr_2/split_2/train/mask/_12_dr_0_52.png (deflated 25%)\n",
            "  adding: hrf_256_256_dice_loss_hvr_2/split_2/train/mask/_01_dr_3_58.png (deflated 25%)\n",
            "  adding: hrf_256_256_dice_loss_hvr_2/split_2/train/mask/_07_g_1_11.png (deflated 36%)\n",
            "  adding: hrf_256_256_dice_loss_hvr_2/split_2/train/mask/_07_g_2_15.png (deflated 52%)\n",
            "  adding: hrf_256_256_dice_loss_hvr_2/split_2/train/mask/_03_h_2_106.png (deflated 23%)\n",
            "  adding: hrf_256_256_dice_loss_hvr_2/split_2/train/mask/_15_dr_0_132.png (deflated 28%)\n",
            "  adding: hrf_256_256_dice_loss_hvr_2/split_2/train/mask/_04_g_1_30.png (deflated 29%)\n",
            "  adding: hrf_256_256_dice_loss_hvr_2/split_2/train/mask/_13_h_1_2.png (deflated 23%)\n",
            "  adding: hrf_256_256_dice_loss_hvr_2/split_2/train/mask/_07_h_2_115.png (deflated 36%)\n",
            "  adding: hrf_256_256_dice_loss_hvr_2/split_2/train/mask/_09_g_1_124.png (deflated 35%)\n",
            "  adding: hrf_256_256_dice_loss_hvr_2/split_2/train/mask/_04_g_2_138.png (deflated 85%)\n",
            "  adding: hrf_256_256_dice_loss_hvr_2/split_2/train/mask/_10_g_2_43.png (deflated 38%)\n",
            "  adding: hrf_256_256_dice_loss_hvr_2/split_2/train/mask/_11_g_2_27.png (deflated 85%)\n",
            "  adding: hrf_256_256_dice_loss_hvr_2/split_2/train/mask/_10_g_0_112.png (deflated 85%)\n",
            "  adding: hrf_256_256_dice_loss_hvr_2/split_2/train/mask/_14_dr_2_119.png (deflated 17%)\n",
            "  adding: hrf_256_256_dice_loss_hvr_2/split_2/train/mask/_08_h_0_79.png (deflated 29%)\n",
            "  adding: hrf_256_256_dice_loss_hvr_2/split_2/train/mask/_14_h_1_92.png (deflated 14%)\n",
            "  adding: hrf_256_256_dice_loss_hvr_2/split_2/train/mask/_13_g_0_40.png (deflated 25%)\n",
            "  adding: hrf_256_256_dice_loss_hvr_2/split_2/train/mask/_13_g_3_66.png (deflated 25%)\n",
            "  adding: hrf_256_256_dice_loss_hvr_2/split_2/train/mask/_14_dr_0_74.png (deflated 18%)\n",
            "  adding: hrf_256_256_dice_loss_hvr_2/split_2/train/mask/_05_h_1_54.png (deflated 30%)\n",
            "  adding: hrf_256_256_dice_loss_hvr_2/split_2/train/mask/_06_dr_0_78.png (deflated 24%)\n",
            "  adding: hrf_256_256_dice_loss_hvr_2/split_2/train/mask/_03_dr_3_2.png (deflated 38%)\n",
            "  adding: hrf_256_256_dice_loss_hvr_2/split_2/train/mask/_13_g_1_49.png (deflated 25%)\n",
            "  adding: hrf_256_256_dice_loss_hvr_2/split_2/train/mask/_10_g_0_104.png (deflated 26%)\n",
            "  adding: hrf_256_256_dice_loss_hvr_2/split_2/train/mask/_01_g_3_109.png (deflated 20%)\n",
            "  adding: hrf_256_256_dice_loss_hvr_2/split_2/train/mask/_12_dr_1_78.png (deflated 21%)\n",
            "  adding: hrf_256_256_dice_loss_hvr_2/split_2/train/mask/_03_dr_3_25.png (deflated 33%)\n",
            "  adding: hrf_256_256_dice_loss_hvr_2/split_2/train/mask/_03_h_1_68.png (deflated 21%)\n",
            "  adding: hrf_256_256_dice_loss_hvr_2/split_2/train/mask/_08_h_3_95.png (deflated 23%)\n",
            "  adding: hrf_256_256_dice_loss_hvr_2/split_2/train/mask/_10_g_0_4.png (deflated 32%)\n",
            "  adding: hrf_256_256_dice_loss_hvr_2/split_2/train/mask/_01_dr_0_72.png (deflated 21%)\n",
            "  adding: hrf_256_256_dice_loss_hvr_2/split_2/train/mask/_03_h_0_112.png (deflated 85%)\n",
            "  adding: hrf_256_256_dice_loss_hvr_2/split_2/train/mask/_10_g_3_97.png (deflated 53%)\n",
            "  adding: hrf_256_256_dice_loss_hvr_2/split_2/train/mask/_15_dr_0_8.png (deflated 36%)\n",
            "  adding: hrf_256_256_dice_loss_hvr_2/split_2/train/mask/_01_g_1_121.png (deflated 26%)\n",
            "  adding: hrf_256_256_dice_loss_hvr_2/split_2/train/mask/_01_dr_3_112.png (deflated 45%)\n",
            "  adding: hrf_256_256_dice_loss_hvr_2/split_2/train/mask/_10_dr_0_118.png (deflated 17%)\n",
            "  adding: hrf_256_256_dice_loss_hvr_2/split_2/train/mask/_04_h_3_90.png (deflated 19%)\n",
            "  adding: hrf_256_256_dice_loss_hvr_2/split_2/train/mask/_01_dr_2_4.png (deflated 61%)\n",
            "  adding: hrf_256_256_dice_loss_hvr_2/split_2/train/mask/_14_dr_1_58.png (deflated 25%)\n",
            "  adding: hrf_256_256_dice_loss_hvr_2/split_2/train/mask/_13_h_2_39.png (deflated 23%)\n",
            "  adding: hrf_256_256_dice_loss_hvr_2/split_2/train/mask/_04_g_3_131.png (deflated 30%)\n",
            "  adding: hrf_256_256_dice_loss_hvr_2/split_2/train/mask/_01_dr_0_101.png (deflated 27%)\n",
            "  adding: hrf_256_256_dice_loss_hvr_2/split_2/train/mask/_09_dr_3_125.png (deflated 57%)\n",
            "  adding: hrf_256_256_dice_loss_hvr_2/split_2/train/mask/_07_h_3_4.png (deflated 37%)\n",
            "  adding: hrf_256_256_dice_loss_hvr_2/split_2/train/mask/_09_dr_0_39.png (deflated 28%)\n",
            "  adding: hrf_256_256_dice_loss_hvr_2/split_2/train/mask/_14_h_0_3.png (deflated 29%)\n",
            "  adding: hrf_256_256_dice_loss_hvr_2/split_2/train/mask/_01_g_0_14.png (deflated 85%)\n",
            "  adding: hrf_256_256_dice_loss_hvr_2/split_2/train/mask/_09_g_2_70.png (deflated 26%)\n",
            "  adding: hrf_256_256_dice_loss_hvr_2/split_2/train/mask/_02_h_2_71.png (deflated 28%)\n",
            "  adding: hrf_256_256_dice_loss_hvr_2/split_2/train/mask/_12_dr_0_22.png (deflated 16%)\n",
            "  adding: hrf_256_256_dice_loss_hvr_2/split_2/train/mask/_12_dr_0_48.png (deflated 22%)\n",
            "  adding: hrf_256_256_dice_loss_hvr_2/split_2/train/mask/_02_dr_1_52.png (deflated 23%)\n",
            "  adding: hrf_256_256_dice_loss_hvr_2/split_2/train/mask/_03_h_1_85.png (deflated 25%)\n",
            "  adding: hrf_256_256_dice_loss_hvr_2/split_2/train/mask/_11_g_0_68.png (deflated 23%)\n",
            "  adding: hrf_256_256_dice_loss_hvr_2/split_2/train/mask/_13_g_1_126.png (deflated 85%)\n",
            "  adding: hrf_256_256_dice_loss_hvr_2/split_2/train/mask/_03_h_2_19.png (deflated 21%)\n",
            "  adding: hrf_256_256_dice_loss_hvr_2/split_2/train/mask/_07_h_3_75.png (deflated 33%)\n",
            "  adding: hrf_256_256_dice_loss_hvr_2/split_2/train/mask/_12_g_3_114.png (deflated 33%)\n",
            "  adding: hrf_256_256_dice_loss_hvr_2/split_2/train/mask/_03_h_1_120.png (deflated 21%)\n",
            "  adding: hrf_256_256_dice_loss_hvr_2/split_2/train/mask/_02_dr_2_126.png (deflated 85%)\n",
            "  adding: hrf_256_256_dice_loss_hvr_2/split_2/train/mask/_04_g_3_72.png (deflated 14%)\n",
            "  adding: hrf_256_256_dice_loss_hvr_2/split_2/train/mask/_03_h_3_74.png (deflated 27%)\n",
            "  adding: hrf_256_256_dice_loss_hvr_2/split_2/train/mask/_05_h_3_97.png (deflated 39%)\n",
            "  adding: hrf_256_256_dice_loss_hvr_2/split_2/train/mask/_02_dr_0_70.png (deflated 85%)\n",
            "  adding: hrf_256_256_dice_loss_hvr_2/split_2/train/mask/_11_h_3_135.png (deflated 28%)\n",
            "  adding: hrf_256_256_dice_loss_hvr_2/split_2/train/mask/_11_h_3_4.png (deflated 43%)\n",
            "  adding: hrf_256_256_dice_loss_hvr_2/split_2/train/mask/_05_h_1_15.png (deflated 46%)\n",
            "  adding: hrf_256_256_dice_loss_hvr_2/split_2/train/mask/_02_dr_0_132.png (deflated 23%)\n",
            "  adding: hrf_256_256_dice_loss_hvr_2/split_2/train/mask/_12_dr_2_93.png (deflated 34%)\n",
            "  adding: hrf_256_256_dice_loss_hvr_2/split_2/train/mask/_07_h_1_94.png (deflated 23%)\n",
            "  adding: hrf_256_256_dice_loss_hvr_2/split_2/train/mask/_12_dr_0_61.png (deflated 19%)\n",
            "  adding: hrf_256_256_dice_loss_hvr_2/split_2/train/mask/_07_g_2_117.png (deflated 20%)\n",
            "  adding: hrf_256_256_dice_loss_hvr_2/split_2/train/mask/_12_dr_3_16.png (deflated 32%)\n",
            "  adding: hrf_256_256_dice_loss_hvr_2/split_2/train/mask/_07_g_3_69.png (deflated 43%)\n",
            "  adding: hrf_256_256_dice_loss_hvr_2/split_2/train/mask/_08_h_1_2.png (deflated 50%)\n",
            "  adding: hrf_256_256_dice_loss_hvr_2/split_2/train/mask/_07_g_1_77.png (deflated 32%)\n",
            "  adding: hrf_256_256_dice_loss_hvr_2/split_2/train/mask/_07_g_1_18.png (deflated 21%)\n",
            "  adding: hrf_256_256_dice_loss_hvr_2/split_2/train/mask/_04_h_2_50.png (deflated 26%)\n",
            "  adding: hrf_256_256_dice_loss_hvr_2/split_2/train/mask/_07_g_0_45.png (deflated 25%)\n",
            "  adding: hrf_256_256_dice_loss_hvr_2/split_2/train/mask/_03_h_0_91.png (deflated 27%)\n",
            "  adding: hrf_256_256_dice_loss_hvr_2/split_2/train/mask/_10_g_2_59.png (deflated 23%)\n",
            "  adding: hrf_256_256_dice_loss_hvr_2/split_2/train/mask/_09_dr_2_106.png (deflated 18%)\n",
            "  adding: hrf_256_256_dice_loss_hvr_2/split_2/train/mask/_02_dr_2_11.png (deflated 39%)\n",
            "  adding: hrf_256_256_dice_loss_hvr_2/split_2/train/mask/_13_g_0_102.png (deflated 17%)\n",
            "  adding: hrf_256_256_dice_loss_hvr_2/split_2/train/mask/_15_dr_2_6.png (deflated 28%)\n",
            "  adding: hrf_256_256_dice_loss_hvr_2/split_2/train/mask/_02_h_0_3.png (deflated 46%)\n",
            "  adding: hrf_256_256_dice_loss_hvr_2/split_2/train/mask/_07_h_3_32.png (deflated 29%)\n",
            "  adding: hrf_256_256_dice_loss_hvr_2/split_2/train/mask/_02_h_0_73.png (deflated 28%)\n",
            "  adding: hrf_256_256_dice_loss_hvr_2/split_2/train/mask/_01_dr_3_124.png (deflated 35%)\n",
            "  adding: hrf_256_256_dice_loss_hvr_2/split_2/train/mask/_11_g_0_75.png (deflated 34%)\n",
            "  adding: hrf_256_256_dice_loss_hvr_2/split_2/train/mask/_09_dr_1_5.png (deflated 37%)\n",
            "  adding: hrf_256_256_dice_loss_hvr_2/split_2/train/mask/_14_g_2_100.png (deflated 16%)\n",
            "  adding: hrf_256_256_dice_loss_hvr_2/split_2/train/mask/_12_dr_1_139.png (deflated 85%)\n",
            "  adding: hrf_256_256_dice_loss_hvr_2/split_2/train/mask/_01_g_0_35.png (deflated 12%)\n",
            "  adding: hrf_256_256_dice_loss_hvr_2/split_2/train/mask/_04_g_3_105.png (deflated 17%)\n",
            "  adding: hrf_256_256_dice_loss_hvr_2/split_2/train/mask/_10_g_0_8.png (deflated 31%)\n",
            "  adding: hrf_256_256_dice_loss_hvr_2/split_2/train/mask/_02_h_2_51.png (deflated 27%)\n",
            "  adding: hrf_256_256_dice_loss_hvr_2/split_2/train/mask/_14_g_3_102.png (deflated 21%)\n",
            "  adding: hrf_256_256_dice_loss_hvr_2/split_2/train/mask/_03_dr_1_125.png (deflated 85%)\n",
            "  adding: hrf_256_256_dice_loss_hvr_2/split_2/train/mask/_15_dr_0_4.png (deflated 28%)\n",
            "  adding: hrf_256_256_dice_loss_hvr_2/split_2/train/mask/_03_h_2_120.png (deflated 17%)\n",
            "  adding: hrf_256_256_dice_loss_hvr_2/split_2/train/mask/_13_g_1_79.png (deflated 32%)\n",
            "  adding: hrf_256_256_dice_loss_hvr_2/split_2/train/mask/_10_g_2_81.png (deflated 17%)\n",
            "  adding: hrf_256_256_dice_loss_hvr_2/split_2/train/mask/_09_g_1_16.png (deflated 22%)\n",
            "  adding: hrf_256_256_dice_loss_hvr_2/split_2/train/mask/_11_h_2_133.png (deflated 34%)\n",
            "  adding: hrf_256_256_dice_loss_hvr_2/split_2/train/mask/_08_h_2_118.png (deflated 15%)\n",
            "  adding: hrf_256_256_dice_loss_hvr_2/split_2/train/mask/_01_dr_1_16.png (deflated 31%)\n",
            "  adding: hrf_256_256_dice_loss_hvr_2/split_2/train/mask/_10_dr_3_45.png (deflated 28%)\n",
            "  adding: hrf_256_256_dice_loss_hvr_2/split_2/train/mask/_05_h_2_34.png (deflated 22%)\n",
            "  adding: hrf_256_256_dice_loss_hvr_2/split_2/train/mask/_04_g_0_120.png (deflated 15%)\n",
            "  adding: hrf_256_256_dice_loss_hvr_2/split_2/train/mask/_02_h_0_52.png (deflated 23%)\n",
            "  adding: hrf_256_256_dice_loss_hvr_2/split_2/train/mask/_03_h_2_61.png (deflated 32%)\n",
            "  adding: hrf_256_256_dice_loss_hvr_2/split_2/train/mask/_11_h_1_117.png (deflated 25%)\n",
            "  adding: hrf_256_256_dice_loss_hvr_2/split_2/train/mask/_07_g_1_132.png (deflated 35%)\n",
            "  adding: hrf_256_256_dice_loss_hvr_2/split_2/train/mask/_11_h_1_30.png (deflated 27%)\n",
            "  adding: hrf_256_256_dice_loss_hvr_2/split_2/train/mask/_10_g_1_95.png (deflated 37%)\n",
            "  adding: hrf_256_256_dice_loss_hvr_2/split_2/train/mask/_11_h_0_95.png (deflated 20%)\n",
            "  adding: hrf_256_256_dice_loss_hvr_2/split_2/train/mask/_13_g_3_38.png (deflated 23%)\n",
            "  adding: hrf_256_256_dice_loss_hvr_2/split_2/train/mask/_15_dr_3_40.png (deflated 26%)\n",
            "  adding: hrf_256_256_dice_loss_hvr_2/split_2/train/mask/_06_dr_0_123.png (deflated 32%)\n",
            "  adding: hrf_256_256_dice_loss_hvr_2/split_2/train/mask/_03_h_1_60.png (deflated 25%)\n",
            "  adding: hrf_256_256_dice_loss_hvr_2/split_2/train/mask/_14_h_2_41.png (deflated 85%)\n",
            "  adding: hrf_256_256_dice_loss_hvr_2/split_2/train/mask/_01_dr_3_23.png (deflated 36%)\n",
            "  adding: hrf_256_256_dice_loss_hvr_2/split_2/train/mask/_15_dr_3_132.png (deflated 25%)\n",
            "  adding: hrf_256_256_dice_loss_hvr_2/split_2/train/mask/_10_g_0_5.png (deflated 29%)\n",
            "  adding: hrf_256_256_dice_loss_hvr_2/split_2/train/mask/_09_dr_2_83.png (deflated 40%)\n",
            "  adding: hrf_256_256_dice_loss_hvr_2/split_2/train/mask/_15_dr_0_137.png (deflated 38%)\n",
            "  adding: hrf_256_256_dice_loss_hvr_2/split_2/train/mask/_02_h_0_115.png (deflated 35%)\n",
            "  adding: hrf_256_256_dice_loss_hvr_2/split_2/train/mask/_01_g_0_43.png (deflated 39%)\n",
            "  adding: hrf_256_256_dice_loss_hvr_2/split_2/train/mask/_13_g_1_41.png (deflated 85%)\n",
            "  adding: hrf_256_256_dice_loss_hvr_2/split_2/train/mask/_05_h_2_127.png (deflated 85%)\n",
            "  adding: hrf_256_256_dice_loss_hvr_2/split_2/train/mask/_13_h_3_110.png (deflated 18%)\n",
            "  adding: hrf_256_256_dice_loss_hvr_2/split_2/train/mask/_09_dr_0_81.png (deflated 22%)\n",
            "  adding: hrf_256_256_dice_loss_hvr_2/split_2/train/mask/_15_dr_1_114.png (deflated 25%)\n",
            "  adding: hrf_256_256_dice_loss_hvr_2/split_2/train/mask/_14_h_0_35.png (deflated 28%)\n",
            "  adding: hrf_256_256_dice_loss_hvr_2/split_2/train/mask/_14_g_2_101.png (deflated 27%)\n",
            "  adding: hrf_256_256_dice_loss_hvr_2/split_2/train/mask/_09_dr_2_131.png (deflated 29%)\n",
            "  adding: hrf_256_256_dice_loss_hvr_2/split_2/train/mask/_01_g_0_104.png (deflated 27%)\n",
            "  adding: hrf_256_256_dice_loss_hvr_2/split_2/train/mask/_02_h_1_108.png (deflated 24%)\n",
            "  adding: hrf_256_256_dice_loss_hvr_2/split_2/train/mask/_13_h_3_116.png (deflated 18%)\n",
            "  adding: hrf_256_256_dice_loss_hvr_2/split_2/train/mask/_13_h_3_93.png (deflated 25%)\n",
            "  adding: hrf_256_256_dice_loss_hvr_2/split_2/train/mask/_01_g_1_99.png (deflated 29%)\n",
            "  adding: hrf_256_256_dice_loss_hvr_2/split_2/train/mask/_04_h_2_15.png (deflated 82%)\n",
            "  adding: hrf_256_256_dice_loss_hvr_2/split_2/train/mask/_12_g_0_129.png (deflated 54%)\n",
            "  adding: hrf_256_256_dice_loss_hvr_2/split_2/train/mask/_13_g_0_97.png (deflated 44%)\n",
            "  adding: hrf_256_256_dice_loss_hvr_2/split_2/train/mask/_14_g_1_40.png (deflated 19%)\n",
            "  adding: hrf_256_256_dice_loss_hvr_2/split_2/train/mask/_01_g_1_26.png (deflated 50%)\n",
            "  adding: hrf_256_256_dice_loss_hvr_2/split_2/train/mask/_03_dr_2_67.png (deflated 35%)\n",
            "  adding: hrf_256_256_dice_loss_hvr_2/split_2/train/mask/_11_h_2_94.png (deflated 12%)\n",
            "  adding: hrf_256_256_dice_loss_hvr_2/split_2/train/mask/_02_h_2_23.png (deflated 25%)\n",
            "  adding: hrf_256_256_dice_loss_hvr_2/split_2/train/mask/_10_g_1_71.png (deflated 23%)\n",
            "  adding: hrf_256_256_dice_loss_hvr_2/split_2/train/mask/_14_h_3_120.png (deflated 20%)\n",
            "  adding: hrf_256_256_dice_loss_hvr_2/split_2/train/mask/_07_h_1_133.png (deflated 25%)\n",
            "  adding: hrf_256_256_dice_loss_hvr_2/split_2/train/mask/_14_g_3_67.png (deflated 30%)\n",
            "  adding: hrf_256_256_dice_loss_hvr_2/split_2/train/mask/_07_h_2_61.png (deflated 41%)\n",
            "  adding: hrf_256_256_dice_loss_hvr_2/split_2/train/mask/_15_dr_0_111.png (deflated 79%)\n",
            "  adding: hrf_256_256_dice_loss_hvr_2/split_2/train/mask/_01_dr_3_15.png (deflated 15%)\n",
            "  adding: hrf_256_256_dice_loss_hvr_2/split_2/train/mask/_06_dr_1_5.png (deflated 32%)\n",
            "  adding: hrf_256_256_dice_loss_hvr_2/split_2/train/mask/_07_h_0_125.png (deflated 85%)\n",
            "  adding: hrf_256_256_dice_loss_hvr_2/split_2/train/mask/_01_dr_3_117.png (deflated 20%)\n",
            "  adding: hrf_256_256_dice_loss_hvr_2/split_2/train/mask/_04_g_2_76.png (deflated 22%)\n",
            "  adding: hrf_256_256_dice_loss_hvr_2/split_2/train/mask/_13_h_2_59.png (deflated 27%)\n",
            "  adding: hrf_256_256_dice_loss_hvr_2/split_2/train/mask/_03_h_3_40.png (deflated 14%)\n",
            "  adding: hrf_256_256_dice_loss_hvr_2/split_2/train/mask/_07_h_0_8.png (deflated 29%)\n",
            "  adding: hrf_256_256_dice_loss_hvr_2/split_2/train/mask/_11_g_1_82.png (deflated 15%)\n",
            "  adding: hrf_256_256_dice_loss_hvr_2/split_2/train/mask/_13_h_1_27.png (deflated 85%)\n",
            "  adding: hrf_256_256_dice_loss_hvr_2/split_2/train/mask/_09_dr_1_56.png (deflated 43%)\n",
            "  adding: hrf_256_256_dice_loss_hvr_2/split_2/train/mask/_01_g_0_24.png (deflated 28%)\n",
            "  adding: hrf_256_256_dice_loss_hvr_2/split_2/train/mask/_01_dr_2_98.png (deflated 85%)\n",
            "  adding: hrf_256_256_dice_loss_hvr_2/split_2/train/mask/_02_dr_3_43.png (deflated 22%)\n",
            "  adding: hrf_256_256_dice_loss_hvr_2/split_2/train/mask/_07_h_1_64.png (deflated 27%)\n",
            "  adding: hrf_256_256_dice_loss_hvr_2/split_2/train/mask/_01_g_2_131.png (deflated 33%)\n",
            "  adding: hrf_256_256_dice_loss_hvr_2/split_2/train/mask/_07_g_2_132.png (deflated 58%)\n",
            "  adding: hrf_256_256_dice_loss_hvr_2/split_2/train/mask/_11_g_2_38.png (deflated 27%)\n",
            "  adding: hrf_256_256_dice_loss_hvr_2/split_2/train/mask/_04_h_1_43.png (deflated 14%)\n",
            "  adding: hrf_256_256_dice_loss_hvr_2/split_2/train/mask/_04_g_3_101.png (deflated 21%)\n",
            "  adding: hrf_256_256_dice_loss_hvr_2/split_2/train/mask/_13_h_3_121.png (deflated 23%)\n",
            "  adding: hrf_256_256_dice_loss_hvr_2/split_2/train/mask/_02_h_1_93.png (deflated 23%)\n",
            "  adding: hrf_256_256_dice_loss_hvr_2/split_2/train/mask/_11_h_1_17.png (deflated 31%)\n",
            "  adding: hrf_256_256_dice_loss_hvr_2/split_2/train/mask/_12_g_2_82.png (deflated 21%)\n",
            "  adding: hrf_256_256_dice_loss_hvr_2/split_2/train/mask/_02_dr_2_91.png (deflated 25%)\n",
            "  adding: hrf_256_256_dice_loss_hvr_2/split_2/train/mask/_14_dr_2_30.png (deflated 27%)\n",
            "  adding: hrf_256_256_dice_loss_hvr_2/split_2/train/mask/_09_dr_3_67.png (deflated 22%)\n",
            "  adding: hrf_256_256_dice_loss_hvr_2/split_2/train/mask/_11_h_1_92.png (deflated 28%)\n",
            "  adding: hrf_256_256_dice_loss_hvr_2/split_2/train/mask/_13_g_3_94.png (deflated 24%)\n",
            "  adding: hrf_256_256_dice_loss_hvr_2/split_2/train/mask/_08_h_2_94.png (deflated 24%)\n",
            "  adding: hrf_256_256_dice_loss_hvr_2/split_2/train/mask/_10_dr_3_81.png (deflated 19%)\n",
            "  adding: hrf_256_256_dice_loss_hvr_2/split_2/train/mask/_06_dr_2_9.png (deflated 37%)\n",
            "  adding: hrf_256_256_dice_loss_hvr_2/split_2/train/mask/_10_g_2_50.png (deflated 21%)\n",
            "  adding: hrf_256_256_dice_loss_hvr_2/split_2/train/mask/_03_h_3_87.png (deflated 18%)\n",
            "  adding: hrf_256_256_dice_loss_hvr_2/split_2/train/mask/_12_g_2_31.png (deflated 26%)\n",
            "  adding: hrf_256_256_dice_loss_hvr_2/split_2/train/mask/_04_h_2_65.png (deflated 25%)\n",
            "  adding: hrf_256_256_dice_loss_hvr_2/split_2/train/mask/_10_dr_1_103.png (deflated 18%)\n",
            "  adding: hrf_256_256_dice_loss_hvr_2/split_2/train/mask/_15_dr_2_94.png (deflated 15%)\n",
            "  adding: hrf_256_256_dice_loss_hvr_2/split_2/train/mask/_09_dr_0_59.png (deflated 25%)\n",
            "  adding: hrf_256_256_dice_loss_hvr_2/split_2/train/mask/_01_dr_2_5.png (deflated 38%)\n",
            "  adding: hrf_256_256_dice_loss_hvr_2/split_2/train/mask/_12_g_2_16.png (deflated 28%)\n",
            "  adding: hrf_256_256_dice_loss_hvr_2/split_2/train/mask/_01_g_2_98.png (deflated 85%)\n",
            "  adding: hrf_256_256_dice_loss_hvr_2/split_2/train/mask/_04_g_0_134.png (deflated 29%)\n",
            "  adding: hrf_256_256_dice_loss_hvr_2/split_2/train/mask/_06_dr_1_137.png (deflated 73%)\n",
            "  adding: hrf_256_256_dice_loss_hvr_2/split_2/train/mask/_11_g_3_65.png (deflated 21%)\n",
            "  adding: hrf_256_256_dice_loss_hvr_2/split_2/train/mask/_09_g_1_1.png (deflated 73%)\n",
            "  adding: hrf_256_256_dice_loss_hvr_2/split_2/train/mask/_09_g_2_50.png (deflated 24%)\n",
            "  adding: hrf_256_256_dice_loss_hvr_2/split_2/train/mask/_08_h_3_99.png (deflated 21%)\n",
            "  adding: hrf_256_256_dice_loss_hvr_2/split_2/train/mask/_13_g_1_93.png (deflated 32%)\n",
            "  adding: hrf_256_256_dice_loss_hvr_2/split_2/train/mask/_11_g_2_0.png (deflated 85%)\n",
            "  adding: hrf_256_256_dice_loss_hvr_2/split_2/train/mask/_04_h_1_101.png (deflated 27%)\n",
            "  adding: hrf_256_256_dice_loss_hvr_2/split_2/train/mask/_04_g_2_113.png (deflated 22%)\n",
            "  adding: hrf_256_256_dice_loss_hvr_2/split_2/train/mask/_05_h_3_59.png (deflated 24%)\n",
            "  adding: hrf_256_256_dice_loss_hvr_2/split_2/train/mask/_03_h_2_66.png (deflated 20%)\n",
            "  adding: hrf_256_256_dice_loss_hvr_2/split_2/train/mask/_03_h_0_1.png (deflated 85%)\n",
            "  adding: hrf_256_256_dice_loss_hvr_2/split_2/train/mask/_14_g_1_136.png (deflated 32%)\n",
            "  adding: hrf_256_256_dice_loss_hvr_2/split_2/train/mask/_04_h_0_28.png (deflated 85%)\n",
            "  adding: hrf_256_256_dice_loss_hvr_2/split_2/train/mask/_15_dr_2_14.png (deflated 85%)\n",
            "  adding: hrf_256_256_dice_loss_hvr_2/split_2/train/mask/_04_h_3_11.png (deflated 49%)\n",
            "  adding: hrf_256_256_dice_loss_hvr_2/split_2/train/mask/_08_h_1_101.png (deflated 30%)\n",
            "  adding: hrf_256_256_dice_loss_hvr_2/split_2/train/mask/_06_dr_0_120.png (deflated 21%)\n",
            "  adding: hrf_256_256_dice_loss_hvr_2/split_2/train/mask/_02_h_3_59.png (deflated 21%)\n",
            "  adding: hrf_256_256_dice_loss_hvr_2/split_2/train/mask/_13_g_0_101.png (deflated 24%)\n",
            "  adding: hrf_256_256_dice_loss_hvr_2/split_2/train/mask/_01_g_1_79.png (deflated 27%)\n",
            "  adding: hrf_256_256_dice_loss_hvr_2/split_2/train/mask/_03_h_3_136.png (deflated 32%)\n",
            "  adding: hrf_256_256_dice_loss_hvr_2/split_2/train/mask/_06_dr_1_114.png (deflated 29%)\n",
            "  adding: hrf_256_256_dice_loss_hvr_2/split_2/train/mask/_14_dr_0_7.png (deflated 37%)\n",
            "  adding: hrf_256_256_dice_loss_hvr_2/split_2/train/mask/_04_g_1_116.png (deflated 24%)\n",
            "  adding: hrf_256_256_dice_loss_hvr_2/split_2/train/mask/_03_dr_3_83.png (deflated 34%)\n",
            "  adding: hrf_256_256_dice_loss_hvr_2/split_2/train/mask/_08_h_3_67.png (deflated 17%)\n",
            "  adding: hrf_256_256_dice_loss_hvr_2/split_2/train/mask/_10_dr_0_68.png (deflated 27%)\n",
            "  adding: hrf_256_256_dice_loss_hvr_2/split_2/train/mask/_07_h_3_105.png (deflated 27%)\n",
            "  adding: hrf_256_256_dice_loss_hvr_2/split_2/train/mask/_01_g_3_51.png (deflated 23%)\n",
            "  adding: hrf_256_256_dice_loss_hvr_2/split_2/train/mask/_12_dr_3_60.png (deflated 21%)\n",
            "  adding: hrf_256_256_dice_loss_hvr_2/split_2/train/mask/_05_h_0_56.png (deflated 30%)\n",
            "  adding: hrf_256_256_dice_loss_hvr_2/split_2/train/mask/_14_g_3_85.png (deflated 34%)\n",
            "  adding: hrf_256_256_dice_loss_hvr_2/split_2/train/mask/_12_dr_1_70.png (deflated 44%)\n",
            "  adding: hrf_256_256_dice_loss_hvr_2/split_2/train/mask/_04_h_3_101.png (deflated 21%)\n",
            "  adding: hrf_256_256_dice_loss_hvr_2/split_2/train/mask/_06_dr_2_106.png (deflated 19%)\n",
            "  adding: hrf_256_256_dice_loss_hvr_2/split_2/train/mask/_10_dr_2_25.png (deflated 39%)\n",
            "  adding: hrf_256_256_dice_loss_hvr_2/split_2/train/mask/_03_h_1_64.png (deflated 25%)\n",
            "  adding: hrf_256_256_dice_loss_hvr_2/split_2/train/mask/_11_h_1_1.png (deflated 85%)\n",
            "  adding: hrf_256_256_dice_loss_hvr_2/split_2/train/mask/_11_h_1_33.png (deflated 12%)\n",
            "  adding: hrf_256_256_dice_loss_hvr_2/split_2/train/mask/_13_h_1_61.png (deflated 20%)\n",
            "  adding: hrf_256_256_dice_loss_hvr_2/split_2/train/mask/_03_h_1_134.png (deflated 29%)\n",
            "  adding: hrf_256_256_dice_loss_hvr_2/split_2/train/mask/_02_h_0_8.png (deflated 34%)\n",
            "  adding: hrf_256_256_dice_loss_hvr_2/split_2/train/mask/_01_dr_3_3.png (deflated 31%)\n",
            "  adding: hrf_256_256_dice_loss_hvr_2/split_2/train/mask/_11_g_0_94.png (deflated 21%)\n",
            "  adding: hrf_256_256_dice_loss_hvr_2/split_2/train/mask/_09_dr_1_76.png (deflated 72%)\n",
            "  adding: hrf_256_256_dice_loss_hvr_2/split_2/train/mask/_12_dr_3_61.png (deflated 22%)\n",
            "  adding: hrf_256_256_dice_loss_hvr_2/split_2/train/mask/_01_dr_0_111.png (deflated 74%)\n",
            "  adding: hrf_256_256_dice_loss_hvr_2/split_2/train/mask/_06_dr_0_58.png (deflated 28%)\n",
            "  adding: hrf_256_256_dice_loss_hvr_2/split_2/train/mask/_01_g_3_67.png (deflated 20%)\n",
            "  adding: hrf_256_256_dice_loss_hvr_2/split_2/train/mask/_03_dr_0_29.png (deflated 40%)\n",
            "  adding: hrf_256_256_dice_loss_hvr_2/split_2/train/mask/_09_g_2_47.png (deflated 28%)\n",
            "  adding: hrf_256_256_dice_loss_hvr_2/split_2/train/mask/_03_h_3_27.png (deflated 30%)\n",
            "  adding: hrf_256_256_dice_loss_hvr_2/split_2/train/mask/_02_h_3_74.png (deflated 19%)\n",
            "  adding: hrf_256_256_dice_loss_hvr_2/split_2/train/mask/_05_h_2_100.png (deflated 21%)\n",
            "  adding: hrf_256_256_dice_loss_hvr_2/split_2/train/mask/_04_g_1_103.png (deflated 28%)\n",
            "  adding: hrf_256_256_dice_loss_hvr_2/split_2/train/mask/_08_h_2_104.png (deflated 11%)\n",
            "  adding: hrf_256_256_dice_loss_hvr_2/split_2/train/mask/_09_g_0_123.png (deflated 20%)\n",
            "  adding: hrf_256_256_dice_loss_hvr_2/split_2/train/mask/_08_h_2_1.png (deflated 85%)\n",
            "  adding: hrf_256_256_dice_loss_hvr_2/split_2/train/mask/_09_g_2_32.png (deflated 23%)\n",
            "  adding: hrf_256_256_dice_loss_hvr_2/split_2/train/mask/_14_h_1_88.png (deflated 24%)\n",
            "  adding: hrf_256_256_dice_loss_hvr_2/split_2/train/mask/_15_dr_0_92.png (deflated 22%)\n",
            "  adding: hrf_256_256_dice_loss_hvr_2/split_2/train/mask/_15_dr_2_13.png (deflated 85%)\n",
            "  adding: hrf_256_256_dice_loss_hvr_2/split_2/train/mask/_03_h_3_6.png (deflated 25%)\n",
            "  adding: hrf_256_256_dice_loss_hvr_2/split_2/train/mask/_03_dr_2_118.png (deflated 17%)\n",
            "  adding: hrf_256_256_dice_loss_hvr_2/split_2/train/mask/_13_g_1_58.png (deflated 21%)\n",
            "  adding: hrf_256_256_dice_loss_hvr_2/split_2/train/mask/_06_dr_0_128.png (deflated 74%)\n",
            "  adding: hrf_256_256_dice_loss_hvr_2/split_2/train/mask/_09_g_2_112.png (deflated 85%)\n",
            "  adding: hrf_256_256_dice_loss_hvr_2/split_2/train/mask/_07_h_0_60.png (deflated 20%)\n",
            "  adding: hrf_256_256_dice_loss_hvr_2/split_2/train/mask/_13_h_1_91.png (deflated 21%)\n",
            "  adding: hrf_256_256_dice_loss_hvr_2/split_2/train/mask/_05_h_2_13.png (deflated 85%)\n",
            "  adding: hrf_256_256_dice_loss_hvr_2/split_2/train/mask/_11_g_2_82.png (deflated 23%)\n",
            "  adding: hrf_256_256_dice_loss_hvr_2/split_2/train/mask/_06_dr_3_139.png (deflated 85%)\n",
            "  adding: hrf_256_256_dice_loss_hvr_2/split_2/train/mask/_10_dr_1_37.png (deflated 29%)\n",
            "  adding: hrf_256_256_dice_loss_hvr_2/split_2/train/mask/_15_dr_1_103.png (deflated 17%)\n",
            "  adding: hrf_256_256_dice_loss_hvr_2/split_2/train/mask/_09_dr_1_115.png (deflated 30%)\n",
            "  adding: hrf_256_256_dice_loss_hvr_2/split_2/train/mask/_15_dr_0_131.png (deflated 32%)\n",
            "  adding: hrf_256_256_dice_loss_hvr_2/split_2/train/mask/_09_dr_3_25.png (deflated 23%)\n",
            "  adding: hrf_256_256_dice_loss_hvr_2/split_2/train/mask/_08_h_3_108.png (deflated 23%)\n",
            "  adding: hrf_256_256_dice_loss_hvr_2/split_2/train/mask/_09_g_1_89.png (deflated 22%)\n",
            "  adding: hrf_256_256_dice_loss_hvr_2/split_2/train/mask/_04_g_2_33.png (deflated 21%)\n",
            "  adding: hrf_256_256_dice_loss_hvr_2/split_2/train/mask/_04_h_1_78.png (deflated 19%)\n",
            "  adding: hrf_256_256_dice_loss_hvr_2/split_2/train/mask/_12_dr_3_90.png (deflated 27%)\n",
            "  adding: hrf_256_256_dice_loss_hvr_2/split_2/train/mask/_04_g_1_46.png (deflated 24%)\n",
            "  adding: hrf_256_256_dice_loss_hvr_2/split_2/train/mask/_01_dr_3_132.png (deflated 35%)\n",
            "  adding: hrf_256_256_dice_loss_hvr_2/split_2/train/mask/_09_dr_3_122.png (deflated 28%)\n",
            "  adding: hrf_256_256_dice_loss_hvr_2/split_2/train/mask/_01_g_1_44.png (deflated 27%)\n",
            "  adding: hrf_256_256_dice_loss_hvr_2/split_2/train/mask/_10_g_2_56.png (deflated 45%)\n",
            "  adding: hrf_256_256_dice_loss_hvr_2/split_2/train/mask/_07_g_3_0.png (deflated 85%)\n",
            "  adding: hrf_256_256_dice_loss_hvr_2/split_2/train/mask/_02_h_2_117.png (deflated 25%)\n",
            "  adding: hrf_256_256_dice_loss_hvr_2/split_2/train/mask/_11_g_2_22.png (deflated 25%)\n",
            "  adding: hrf_256_256_dice_loss_hvr_2/split_2/train/mask/_13_h_3_107.png (deflated 21%)\n",
            "  adding: hrf_256_256_dice_loss_hvr_2/split_2/train/mask/_14_dr_1_96.png (deflated 15%)\n",
            "  adding: hrf_256_256_dice_loss_hvr_2/split_2/train/mask/_11_g_3_124.png (deflated 18%)\n",
            "  adding: hrf_256_256_dice_loss_hvr_2/split_2/train/mask/_03_h_2_51.png (deflated 25%)\n",
            "  adding: hrf_256_256_dice_loss_hvr_2/split_2/train/mask/_10_g_0_110.png (deflated 20%)\n",
            "  adding: hrf_256_256_dice_loss_hvr_2/split_2/train/mask/_02_h_2_35.png (deflated 32%)\n",
            "  adding: hrf_256_256_dice_loss_hvr_2/split_2/train/mask/_03_dr_0_46.png (deflated 19%)\n",
            "  adding: hrf_256_256_dice_loss_hvr_2/split_2/train/mask/_01_dr_2_123.png (deflated 30%)\n",
            "  adding: hrf_256_256_dice_loss_hvr_2/split_2/train/mask/_07_h_2_66.png (deflated 26%)\n",
            "  adding: hrf_256_256_dice_loss_hvr_2/split_2/train/mask/_10_g_1_79.png (deflated 29%)\n",
            "  adding: hrf_256_256_dice_loss_hvr_2/split_2/train/mask/_04_h_2_121.png (deflated 23%)\n",
            "  adding: hrf_256_256_dice_loss_hvr_2/split_2/train/mask/_02_dr_0_36.png (deflated 20%)\n",
            "  adding: hrf_256_256_dice_loss_hvr_2/split_2/train/mask/_02_h_3_5.png (deflated 39%)\n",
            "  adding: hrf_256_256_dice_loss_hvr_2/split_2/train/mask/_12_g_0_121.png (deflated 18%)\n",
            "  adding: hrf_256_256_dice_loss_hvr_2/split_2/train/mask/_04_h_1_72.png (deflated 21%)\n",
            "  adding: hrf_256_256_dice_loss_hvr_2/split_2/train/mask/_04_g_2_59.png (deflated 24%)\n",
            "  adding: hrf_256_256_dice_loss_hvr_2/split_2/train/mask/_03_dr_3_116.png (deflated 54%)\n",
            "  adding: hrf_256_256_dice_loss_hvr_2/split_2/train/mask/_07_h_0_121.png (deflated 16%)\n",
            "  adding: hrf_256_256_dice_loss_hvr_2/split_2/train/mask/_10_g_2_112.png (deflated 85%)\n",
            "  adding: hrf_256_256_dice_loss_hvr_2/split_2/train/mask/_01_g_3_70.png (deflated 76%)\n",
            "  adding: hrf_256_256_dice_loss_hvr_2/split_2/train/mask/_14_dr_1_8.png (deflated 30%)\n",
            "  adding: hrf_256_256_dice_loss_hvr_2/split_2/train/mask/_01_g_0_108.png (deflated 17%)\n",
            "  adding: hrf_256_256_dice_loss_hvr_2/split_2/train/mask/_08_h_0_31.png (deflated 21%)\n",
            "  adding: hrf_256_256_dice_loss_hvr_2/split_2/train/mask/_11_h_3_7.png (deflated 34%)\n",
            "  adding: hrf_256_256_dice_loss_hvr_2/split_2/train/mask/_13_h_0_6.png (deflated 30%)\n",
            "  adding: hrf_256_256_dice_loss_hvr_2/split_2/train/mask/_07_g_1_21.png (deflated 24%)\n",
            "  adding: hrf_256_256_dice_loss_hvr_2/split_2/train/mask/_07_h_0_66.png (deflated 25%)\n",
            "  adding: hrf_256_256_dice_loss_hvr_2/split_2/train/mask/_14_h_1_94.png (deflated 24%)\n",
            "  adding: hrf_256_256_dice_loss_hvr_2/split_2/train/mask/_04_h_2_119.png (deflated 18%)\n",
            "  adding: hrf_256_256_dice_loss_hvr_2/split_2/train/mask/_09_g_2_8.png (deflated 67%)\n",
            "  adding: hrf_256_256_dice_loss_hvr_2/split_2/train/mask/_13_g_2_20.png (deflated 31%)\n",
            "  adding: hrf_256_256_dice_loss_hvr_2/split_2/train/mask/_08_h_3_91.png (deflated 27%)\n",
            "  adding: hrf_256_256_dice_loss_hvr_2/split_2/train/mask/_01_g_1_137.png (deflated 39%)\n",
            "  adding: hrf_256_256_dice_loss_hvr_2/split_2/train/mask/_14_h_1_96.png (deflated 15%)\n",
            "  adding: hrf_256_256_dice_loss_hvr_2/split_2/train/mask/_06_dr_1_84.png (deflated 85%)\n",
            "  adding: hrf_256_256_dice_loss_hvr_2/split_2/train/mask/_10_dr_3_101.png (deflated 27%)\n",
            "  adding: hrf_256_256_dice_loss_hvr_2/split_2/train/mask/_10_g_0_13.png (deflated 85%)\n",
            "  adding: hrf_256_256_dice_loss_hvr_2/split_2/train/mask/_09_dr_0_113.png (deflated 51%)\n",
            "  adding: hrf_256_256_dice_loss_hvr_2/split_2/train/mask/_01_dr_1_78.png (deflated 26%)\n",
            "  adding: hrf_256_256_dice_loss_hvr_2/split_2/train/mask/_01_dr_2_53.png (deflated 21%)\n",
            "  adding: hrf_256_256_dice_loss_hvr_2/split_2/train/mask/_12_dr_0_13.png (deflated 85%)\n",
            "  adding: hrf_256_256_dice_loss_hvr_2/split_2/train/mask/_14_g_1_15.png (deflated 29%)\n",
            "  adding: hrf_256_256_dice_loss_hvr_2/split_2/train/mask/_09_dr_3_18.png (deflated 22%)\n",
            "  adding: hrf_256_256_dice_loss_hvr_2/split_2/train/mask/_15_dr_1_119.png (deflated 33%)\n",
            "  adding: hrf_256_256_dice_loss_hvr_2/split_2/train/mask/_04_g_0_124.png (deflated 33%)\n",
            "  adding: hrf_256_256_dice_loss_hvr_2/split_2/train/mask/_13_g_2_74.png (deflated 20%)\n",
            "  adding: hrf_256_256_dice_loss_hvr_2/split_2/train/mask/_07_g_0_136.png (deflated 32%)\n",
            "  adding: hrf_256_256_dice_loss_hvr_2/split_2/train/mask/_06_dr_2_94.png (deflated 32%)\n",
            "  adding: hrf_256_256_dice_loss_hvr_2/split_2/train/mask/_14_g_1_63.png (deflated 36%)\n",
            "  adding: hrf_256_256_dice_loss_hvr_2/split_2/train/mask/_08_h_2_99.png (deflated 22%)\n",
            "  adding: hrf_256_256_dice_loss_hvr_2/split_2/train/mask/_14_h_3_88.png (deflated 19%)\n",
            "  adding: hrf_256_256_dice_loss_hvr_2/split_2/train/mask/_12_dr_1_16.png (deflated 20%)\n",
            "  adding: hrf_256_256_dice_loss_hvr_2/split_2/train/mask/_11_g_1_40.png (deflated 23%)\n",
            "  adding: hrf_256_256_dice_loss_hvr_2/split_2/train/mask/_03_dr_3_67.png (deflated 19%)\n",
            "  adding: hrf_256_256_dice_loss_hvr_2/split_2/train/mask/_12_g_0_35.png (deflated 27%)\n",
            "  adding: hrf_256_256_dice_loss_hvr_2/split_2/train/mask/_05_h_2_67.png (deflated 26%)\n",
            "  adding: hrf_256_256_dice_loss_hvr_2/split_2/train/mask/_09_dr_2_102.png (deflated 19%)\n",
            "  adding: hrf_256_256_dice_loss_hvr_2/split_2/train/mask/_01_g_2_12.png (deflated 85%)\n",
            "  adding: hrf_256_256_dice_loss_hvr_2/split_2/train/mask/_02_h_2_39.png (deflated 19%)\n",
            "  adding: hrf_256_256_dice_loss_hvr_2/split_2/train/mask/_03_h_2_93.png (deflated 9%)\n",
            "  adding: hrf_256_256_dice_loss_hvr_2/split_2/train/mask/_04_g_2_89.png (deflated 12%)\n",
            "  adding: hrf_256_256_dice_loss_hvr_2/split_2/train/mask/_02_dr_0_16.png (deflated 16%)\n",
            "  adding: hrf_256_256_dice_loss_hvr_2/split_2/train/mask/_09_dr_0_89.png (deflated 26%)\n",
            "  adding: hrf_256_256_dice_loss_hvr_2/split_2/train/mask/_15_dr_0_35.png (deflated 31%)\n",
            "  adding: hrf_256_256_dice_loss_hvr_2/split_2/train/mask/_10_g_1_111.png (deflated 85%)\n",
            "  adding: hrf_256_256_dice_loss_hvr_2/split_2/train/mask/_03_dr_3_5.png (deflated 36%)\n",
            "  adding: hrf_256_256_dice_loss_hvr_2/split_2/train/mask/_11_g_0_112.png (deflated 85%)\n",
            "  adding: hrf_256_256_dice_loss_hvr_2/split_2/train/mask/_12_dr_1_99.png (deflated 25%)\n",
            "  adding: hrf_256_256_dice_loss_hvr_2/split_2/train/mask/_04_g_2_77.png (deflated 32%)\n",
            "  adding: hrf_256_256_dice_loss_hvr_2/split_2/train/mask/_10_g_1_137.png (deflated 35%)\n",
            "  adding: hrf_256_256_dice_loss_hvr_2/split_2/train/mask/_11_h_3_82.png (deflated 27%)\n",
            "  adding: hrf_256_256_dice_loss_hvr_2/split_2/train/mask/_12_dr_1_62.png (deflated 34%)\n",
            "  adding: hrf_256_256_dice_loss_hvr_2/split_2/train/mask/_08_h_0_33.png (deflated 13%)\n",
            "  adding: hrf_256_256_dice_loss_hvr_2/split_2/train/mask/_01_g_3_43.png (deflated 28%)\n",
            "  adding: hrf_256_256_dice_loss_hvr_2/split_2/train/mask/_11_h_0_49.png (deflated 19%)\n",
            "  adding: hrf_256_256_dice_loss_hvr_2/split_2/train/mask/_13_h_2_136.png (deflated 29%)\n",
            "  adding: hrf_256_256_dice_loss_hvr_2/split_2/train/mask/_03_h_1_121.png (deflated 24%)\n",
            "  adding: hrf_256_256_dice_loss_hvr_2/split_2/train/mask/_14_h_2_59.png (deflated 17%)\n",
            "  adding: hrf_256_256_dice_loss_hvr_2/split_2/train/mask/_04_g_3_100.png (deflated 17%)\n",
            "  adding: hrf_256_256_dice_loss_hvr_2/split_2/train/mask/_03_dr_2_7.png (deflated 27%)\n",
            "  adding: hrf_256_256_dice_loss_hvr_2/split_2/train/mask/_01_g_2_113.png (deflated 49%)\n",
            "  adding: hrf_256_256_dice_loss_hvr_2/split_2/train/mask/_01_g_2_59.png (deflated 29%)\n",
            "  adding: hrf_256_256_dice_loss_hvr_2/split_2/train/mask/_14_g_3_87.png (deflated 26%)\n",
            "  adding: hrf_256_256_dice_loss_hvr_2/split_2/train/mask/_07_g_0_87.png (deflated 28%)\n",
            "  adding: hrf_256_256_dice_loss_hvr_2/split_2/train/mask/_02_h_2_14.png (deflated 85%)\n",
            "  adding: hrf_256_256_dice_loss_hvr_2/split_2/train/mask/_12_g_1_49.png (deflated 30%)\n",
            "  adding: hrf_256_256_dice_loss_hvr_2/split_2/train/mask/_10_g_1_15.png (deflated 33%)\n",
            "  adding: hrf_256_256_dice_loss_hvr_2/split_2/train/mask/_04_h_3_37.png (deflated 16%)\n",
            "  adding: hrf_256_256_dice_loss_hvr_2/split_2/train/mask/_07_g_2_12.png (deflated 85%)\n",
            "  adding: hrf_256_256_dice_loss_hvr_2/split_2/train/mask/_01_g_1_94.png (deflated 30%)\n",
            "  adding: hrf_256_256_dice_loss_hvr_2/split_2/train/mask/_09_g_3_57.png (deflated 28%)\n",
            "  adding: hrf_256_256_dice_loss_hvr_2/split_2/train/mask/_01_g_2_35.png (deflated 31%)\n",
            "  adding: hrf_256_256_dice_loss_hvr_2/split_2/train/mask/_09_dr_2_31.png (deflated 54%)\n",
            "  adding: hrf_256_256_dice_loss_hvr_2/split_2/train/mask/_04_g_3_8.png (deflated 31%)\n",
            "  adding: hrf_256_256_dice_loss_hvr_2/split_2/train/mask/_04_g_3_73.png (deflated 35%)\n",
            "  adding: hrf_256_256_dice_loss_hvr_2/split_2/train/mask/_07_h_1_123.png (deflated 22%)\n",
            "  adding: hrf_256_256_dice_loss_hvr_2/split_2/train/mask/_10_dr_3_108.png (deflated 19%)\n",
            "  adding: hrf_256_256_dice_loss_hvr_2/split_2/train/mask/_05_h_3_64.png (deflated 18%)\n",
            "  adding: hrf_256_256_dice_loss_hvr_2/split_2/train/mask/_14_g_1_91.png (deflated 22%)\n",
            "  adding: hrf_256_256_dice_loss_hvr_2/split_2/train/mask/_14_g_3_126.png (deflated 85%)\n",
            "  adding: hrf_256_256_dice_loss_hvr_2/split_2/train/mask/_05_h_3_100.png (deflated 21%)\n",
            "  adding: hrf_256_256_dice_loss_hvr_2/split_2/train/mask/_12_g_1_10.png (deflated 53%)\n",
            "  adding: hrf_256_256_dice_loss_hvr_2/split_2/train/mask/_02_h_1_35.png (deflated 12%)\n",
            "  adding: hrf_256_256_dice_loss_hvr_2/split_2/train/mask/_13_h_1_120.png (deflated 27%)\n",
            "  adding: hrf_256_256_dice_loss_hvr_2/split_2/train/mask/_11_g_3_136.png (deflated 28%)\n",
            "  adding: hrf_256_256_dice_loss_hvr_2/split_2/train/mask/_01_g_2_41.png (deflated 85%)\n",
            "  adding: hrf_256_256_dice_loss_hvr_2/split_2/train/mask/_10_g_2_45.png (deflated 30%)\n",
            "  adding: hrf_256_256_dice_loss_hvr_2/split_2/train/mask/_10_g_3_120.png (deflated 24%)\n",
            "  adding: hrf_256_256_dice_loss_hvr_2/split_2/train/mask/_13_h_1_63.png (deflated 32%)\n",
            "  adding: hrf_256_256_dice_loss_hvr_2/split_2/train/mask/_02_h_1_130.png (deflated 45%)\n",
            "  adding: hrf_256_256_dice_loss_hvr_2/split_2/train/mask/_01_dr_1_31.png (deflated 25%)\n",
            "  adding: hrf_256_256_dice_loss_hvr_2/split_2/train/mask/_06_dr_0_42.png (deflated 66%)\n",
            "  adding: hrf_256_256_dice_loss_hvr_2/split_2/train/mask/_12_g_2_61.png (deflated 24%)\n",
            "  adding: hrf_256_256_dice_loss_hvr_2/split_2/train/mask/_06_dr_0_135.png (deflated 36%)\n",
            "  adding: hrf_256_256_dice_loss_hvr_2/split_2/train/mask/_09_g_3_109.png (deflated 18%)\n",
            "  adding: hrf_256_256_dice_loss_hvr_2/split_2/train/mask/_04_h_1_71.png (deflated 24%)\n",
            "  adding: hrf_256_256_dice_loss_hvr_2/split_2/train/mask/_15_dr_2_2.png (deflated 64%)\n",
            "  adding: hrf_256_256_dice_loss_hvr_2/split_2/train/mask/_08_h_1_68.png (deflated 28%)\n",
            "  adding: hrf_256_256_dice_loss_hvr_2/split_2/train/mask/_04_h_0_99.png (deflated 22%)\n",
            "  adding: hrf_256_256_dice_loss_hvr_2/split_2/train/mask/_04_h_1_19.png (deflated 21%)\n",
            "  adding: hrf_256_256_dice_loss_hvr_2/split_2/train/mask/_13_g_1_110.png (deflated 25%)\n",
            "  adding: hrf_256_256_dice_loss_hvr_2/split_2/train/mask/_08_h_1_126.png (deflated 85%)\n",
            "  adding: hrf_256_256_dice_loss_hvr_2/split_2/train/mask/_08_h_2_57.png (deflated 17%)\n",
            "  adding: hrf_256_256_dice_loss_hvr_2/split_2/train/mask/_01_dr_3_87.png (deflated 22%)\n",
            "  adding: hrf_256_256_dice_loss_hvr_2/split_2/train/mask/_03_h_1_48.png (deflated 21%)\n",
            "  adding: hrf_256_256_dice_loss_hvr_2/split_2/train/mask/_04_g_3_12.png (deflated 74%)\n",
            "  adding: hrf_256_256_dice_loss_hvr_2/split_2/train/mask/_13_g_1_113.png (deflated 85%)\n",
            "  adding: hrf_256_256_dice_loss_hvr_2/split_2/train/mask/_05_h_2_26.png (deflated 52%)\n",
            "  adding: hrf_256_256_dice_loss_hvr_2/split_2/train/mask/_03_dr_2_68.png (deflated 33%)\n",
            "  adding: hrf_256_256_dice_loss_hvr_2/split_2/train/mask/_13_g_2_134.png (deflated 33%)\n",
            "  adding: hrf_256_256_dice_loss_hvr_2/split_2/train/mask/_04_h_2_136.png (deflated 30%)\n",
            "  adding: hrf_256_256_dice_loss_hvr_2/split_2/train/mask/_03_dr_0_12.png (deflated 85%)\n",
            "  adding: hrf_256_256_dice_loss_hvr_2/split_2/train/mask/_14_dr_1_46.png (deflated 32%)\n",
            "  adding: hrf_256_256_dice_loss_hvr_2/split_2/train/mask/_05_h_2_134.png (deflated 30%)\n",
            "  adding: hrf_256_256_dice_loss_hvr_2/split_2/train/mask/_10_g_0_119.png (deflated 17%)\n",
            "  adding: hrf_256_256_dice_loss_hvr_2/split_2/train/mask/_10_dr_0_9.png (deflated 26%)\n",
            "  adding: hrf_256_256_dice_loss_hvr_2/split_2/train/mask/_01_g_0_105.png (deflated 30%)\n",
            "  adding: hrf_256_256_dice_loss_hvr_2/split_2/train/mask/_14_h_3_130.png (deflated 67%)\n",
            "  adding: hrf_256_256_dice_loss_hvr_2/split_2/train/mask/_09_dr_1_107.png (deflated 25%)\n",
            "  adding: hrf_256_256_dice_loss_hvr_2/split_2/train/mask/_01_g_2_56.png (deflated 46%)\n",
            "  adding: hrf_256_256_dice_loss_hvr_2/split_2/train/mask/_02_h_1_88.png (deflated 29%)\n",
            "  adding: hrf_256_256_dice_loss_hvr_2/split_2/train/mask/_03_h_0_120.png (deflated 19%)\n",
            "  adding: hrf_256_256_dice_loss_hvr_2/split_2/train/mask/_07_g_1_45.png (deflated 20%)\n",
            "  adding: hrf_256_256_dice_loss_hvr_2/split_2/train/mask/_09_dr_1_101.png (deflated 34%)\n",
            "  adding: hrf_256_256_dice_loss_hvr_2/split_2/train/mask/_04_g_0_34.png (deflated 28%)\n",
            "  adding: hrf_256_256_dice_loss_hvr_2/split_2/train/mask/_05_h_1_134.png (deflated 50%)\n",
            "  adding: hrf_256_256_dice_loss_hvr_2/split_2/train/mask/_12_g_3_100.png (deflated 23%)\n",
            "  adding: hrf_256_256_dice_loss_hvr_2/split_2/train/mask/_08_h_0_137.png (deflated 35%)\n",
            "  adding: hrf_256_256_dice_loss_hvr_2/split_2/train/mask/_04_h_3_53.png (deflated 22%)\n",
            "  adding: hrf_256_256_dice_loss_hvr_2/split_2/train/mask/_12_dr_2_19.png (deflated 31%)\n",
            "  adding: hrf_256_256_dice_loss_hvr_2/split_2/train/mask/_09_g_0_112.png (deflated 85%)\n",
            "  adding: hrf_256_256_dice_loss_hvr_2/split_2/train/mask/_01_dr_0_47.png (deflated 18%)\n",
            "  adding: hrf_256_256_dice_loss_hvr_2/split_2/train/mask/_11_h_2_13.png (deflated 85%)\n",
            "  adding: hrf_256_256_dice_loss_hvr_2/split_2/train/mask/_09_g_2_109.png (deflated 33%)\n",
            "  adding: hrf_256_256_dice_loss_hvr_2/split_2/train/mask/_09_g_2_121.png (deflated 23%)\n",
            "  adding: hrf_256_256_dice_loss_hvr_2/split_2/train/mask/_10_dr_2_33.png (deflated 26%)\n",
            "  adding: hrf_256_256_dice_loss_hvr_2/split_2/train/mask/_01_g_1_74.png (deflated 27%)\n",
            "  adding: hrf_256_256_dice_loss_hvr_2/split_2/train/mask/_10_dr_1_1.png (deflated 73%)\n",
            "  adding: hrf_256_256_dice_loss_hvr_2/split_2/train/mask/_09_g_3_7.png (deflated 24%)\n",
            "  adding: hrf_256_256_dice_loss_hvr_2/split_2/train/mask/_11_g_0_60.png (deflated 21%)\n",
            "  adding: hrf_256_256_dice_loss_hvr_2/split_2/train/mask/_08_h_3_38.png (deflated 28%)\n",
            "  adding: hrf_256_256_dice_loss_hvr_2/split_2/train/mask/_07_h_1_78.png (deflated 38%)\n",
            "  adding: hrf_256_256_dice_loss_hvr_2/split_2/train/mask/_01_dr_1_80.png (deflated 21%)\n",
            "  adding: hrf_256_256_dice_loss_hvr_2/split_2/train/mask/_01_dr_0_61.png (deflated 29%)\n",
            "  adding: hrf_256_256_dice_loss_hvr_2/split_2/train/mask/_14_h_3_129.png (deflated 31%)\n",
            "  adding: hrf_256_256_dice_loss_hvr_2/split_2/train/mask/_13_h_0_90.png (deflated 22%)\n",
            "  adding: hrf_256_256_dice_loss_hvr_2/split_2/train/mask/_03_dr_0_92.png (deflated 26%)\n",
            "  adding: hrf_256_256_dice_loss_hvr_2/split_2/train/mask/_02_h_3_39.png (deflated 23%)\n",
            "  adding: hrf_256_256_dice_loss_hvr_2/split_2/train/mask/_11_h_0_69.png (deflated 51%)\n",
            "  adding: hrf_256_256_dice_loss_hvr_2/split_2/train/mask/_09_g_2_135.png (deflated 28%)\n",
            "  adding: hrf_256_256_dice_loss_hvr_2/split_2/train/mask/_03_h_0_105.png (deflated 19%)\n",
            "  adding: hrf_256_256_dice_loss_hvr_2/split_2/train/mask/_14_h_1_36.png (deflated 15%)\n",
            "  adding: hrf_256_256_dice_loss_hvr_2/split_2/train/mask/_04_h_0_87.png (deflated 21%)\n",
            "  adding: hrf_256_256_dice_loss_hvr_2/split_2/train/mask/_05_h_0_3.png (deflated 46%)\n",
            "  adding: hrf_256_256_dice_loss_hvr_2/split_2/train/mask/_01_g_2_126.png (deflated 85%)\n",
            "  adding: hrf_256_256_dice_loss_hvr_2/split_2/train/mask/_14_h_1_89.png (deflated 20%)\n",
            "  adding: hrf_256_256_dice_loss_hvr_2/split_2/train/mask/_04_g_3_91.png (deflated 26%)\n",
            "  adding: hrf_256_256_dice_loss_hvr_2/split_2/train/mask/_09_g_1_84.png (deflated 73%)\n",
            "  adding: hrf_256_256_dice_loss_hvr_2/split_2/train/mask/_12_dr_0_102.png (deflated 19%)\n",
            "  adding: hrf_256_256_dice_loss_hvr_2/split_2/train/mask/_10_dr_1_86.png (deflated 26%)\n",
            "  adding: hrf_256_256_dice_loss_hvr_2/split_2/train/mask/_01_g_0_89.png (deflated 26%)\n",
            "  adding: hrf_256_256_dice_loss_hvr_2/split_2/train/mask/_03_dr_2_103.png (deflated 24%)\n",
            "  adding: hrf_256_256_dice_loss_hvr_2/split_2/train/mask/_02_h_3_134.png (deflated 27%)\n",
            "  adding: hrf_256_256_dice_loss_hvr_2/split_2/train/mask/_05_h_2_10.png (deflated 28%)\n",
            "  adding: hrf_256_256_dice_loss_hvr_2/split_2/train/mask/_12_dr_0_127.png (deflated 85%)\n",
            "  adding: hrf_256_256_dice_loss_hvr_2/split_2/train/mask/_02_dr_3_114.png (deflated 23%)\n",
            "  adding: hrf_256_256_dice_loss_hvr_2/split_2/train/mask/_14_dr_3_139.png (deflated 85%)\n",
            "  adding: hrf_256_256_dice_loss_hvr_2/split_2/train/mask/_02_dr_2_5.png (deflated 29%)\n",
            "  adding: hrf_256_256_dice_loss_hvr_2/split_2/train/mask/_13_h_0_40.png (deflated 20%)\n",
            "  adding: hrf_256_256_dice_loss_hvr_2/split_2/train/mask/_10_dr_0_84.png (deflated 67%)\n",
            "  adding: hrf_256_256_dice_loss_hvr_2/split_2/train/mask/_11_h_0_28.png (deflated 85%)\n",
            "  adding: hrf_256_256_dice_loss_hvr_2/split_2/train/mask/_07_h_1_72.png (deflated 20%)\n",
            "  adding: hrf_256_256_dice_loss_hvr_2/split_2/train/mask/_15_dr_0_91.png (deflated 27%)\n",
            "  adding: hrf_256_256_dice_loss_hvr_2/split_2/train/mask/_12_dr_1_51.png (deflated 26%)\n",
            "  adding: hrf_256_256_dice_loss_hvr_2/split_2/train/mask/_14_dr_1_128.png (deflated 29%)\n",
            "  adding: hrf_256_256_dice_loss_hvr_2/split_2/train/mask/_14_dr_1_104.png (deflated 15%)\n",
            "  adding: hrf_256_256_dice_loss_hvr_2/split_2/train/mask/_08_h_1_94.png (deflated 30%)\n",
            "  adding: hrf_256_256_dice_loss_hvr_2/split_2/train/mask/_09_dr_0_117.png (deflated 22%)\n",
            "  adding: hrf_256_256_dice_loss_hvr_2/split_2/train/mask/_07_h_3_93.png (deflated 26%)\n",
            "  adding: hrf_256_256_dice_loss_hvr_2/split_2/train/mask/_12_g_1_69.png (deflated 61%)\n",
            "  adding: hrf_256_256_dice_loss_hvr_2/split_2/train/mask/_13_h_1_123.png (deflated 40%)\n",
            "  adding: hrf_256_256_dice_loss_hvr_2/split_2/train/mask/_05_h_2_15.png (deflated 85%)\n",
            "  adding: hrf_256_256_dice_loss_hvr_2/split_2/train/mask/_13_g_2_58.png (deflated 23%)\n",
            "  adding: hrf_256_256_dice_loss_hvr_2/split_2/train/mask/_04_h_3_40.png (deflated 25%)\n",
            "  adding: hrf_256_256_dice_loss_hvr_2/split_2/train/mask/_04_h_3_38.png (deflated 20%)\n",
            "  adding: hrf_256_256_dice_loss_hvr_2/split_2/train/mask/_07_g_3_91.png (deflated 24%)\n",
            "  adding: hrf_256_256_dice_loss_hvr_2/split_2/train/mask/_14_g_0_136.png (deflated 28%)\n",
            "  adding: hrf_256_256_dice_loss_hvr_2/split_2/train/mask/_03_dr_1_30.png (deflated 22%)\n",
            "  adding: hrf_256_256_dice_loss_hvr_2/split_2/train/mask/_14_g_1_123.png (deflated 22%)\n",
            "  adding: hrf_256_256_dice_loss_hvr_2/split_2/train/mask/_04_g_3_58.png (deflated 25%)\n",
            "  adding: hrf_256_256_dice_loss_hvr_2/split_2/train/mask/_04_g_0_48.png (deflated 19%)\n",
            "  adding: hrf_256_256_dice_loss_hvr_2/split_2/train/mask/_11_g_3_18.png (deflated 24%)\n",
            "  adding: hrf_256_256_dice_loss_hvr_2/split_2/train/mask/_02_h_0_106.png (deflated 16%)\n",
            "  adding: hrf_256_256_dice_loss_hvr_2/split_2/train/mask/_03_h_2_77.png (deflated 28%)\n",
            "  adding: hrf_256_256_dice_loss_hvr_2/split_2/train/mask/_14_dr_2_118.png (deflated 16%)\n",
            "  adding: hrf_256_256_dice_loss_hvr_2/split_2/train/mask/_01_dr_0_99.png (deflated 40%)\n",
            "  adding: hrf_256_256_dice_loss_hvr_2/split_2/train/mask/_13_h_2_93.png (deflated 17%)\n",
            "  adding: hrf_256_256_dice_loss_hvr_2/split_2/train/mask/_14_g_0_97.png (deflated 74%)\n",
            "  adding: hrf_256_256_dice_loss_hvr_2/split_2/train/mask/_02_h_0_44.png (deflated 27%)\n",
            "  adding: hrf_256_256_dice_loss_hvr_2/split_2/train/mask/_08_h_3_74.png (deflated 15%)\n",
            "  adding: hrf_256_256_dice_loss_hvr_2/split_2/train/mask/_11_g_0_84.png (deflated 85%)\n",
            "  adding: hrf_256_256_dice_loss_hvr_2/split_2/train/mask/_02_dr_2_15.png (deflated 43%)\n",
            "  adding: hrf_256_256_dice_loss_hvr_2/split_2/train/mask/_07_h_0_102.png (deflated 41%)\n",
            "  adding: hrf_256_256_dice_loss_hvr_2/split_2/train/mask/_08_h_2_69.png (deflated 33%)\n",
            "  adding: hrf_256_256_dice_loss_hvr_2/split_2/train/mask/_04_g_2_13.png (deflated 85%)\n",
            "  adding: hrf_256_256_dice_loss_hvr_2/split_2/train/mask/_10_dr_1_102.png (deflated 20%)\n",
            "  adding: hrf_256_256_dice_loss_hvr_2/split_2/train/mask/_15_dr_3_91.png (deflated 22%)\n",
            "  adding: hrf_256_256_dice_loss_hvr_2/split_2/train/mask/_09_g_2_13.png (deflated 85%)\n",
            "  adding: hrf_256_256_dice_loss_hvr_2/split_2/train/mask/_10_dr_1_32.png (deflated 21%)\n",
            "  adding: hrf_256_256_dice_loss_hvr_2/split_2/train/mask/_10_g_2_30.png (deflated 23%)\n",
            "  adding: hrf_256_256_dice_loss_hvr_2/split_2/train/mask/_10_g_2_132.png (deflated 31%)\n",
            "  adding: hrf_256_256_dice_loss_hvr_2/split_2/train/mask/_06_dr_1_107.png (deflated 18%)\n",
            "  adding: hrf_256_256_dice_loss_hvr_2/split_2/train/mask/_13_g_3_79.png (deflated 22%)\n",
            "  adding: hrf_256_256_dice_loss_hvr_2/split_2/train/mask/_09_g_3_61.png (deflated 22%)\n",
            "  adding: hrf_256_256_dice_loss_hvr_2/split_2/train/mask/_12_g_3_91.png (deflated 20%)\n",
            "  adding: hrf_256_256_dice_loss_hvr_2/split_2/train/mask/_07_h_3_63.png (deflated 22%)\n",
            "  adding: hrf_256_256_dice_loss_hvr_2/split_2/train/mask/_14_g_0_61.png (deflated 18%)\n",
            "  adding: hrf_256_256_dice_loss_hvr_2/split_2/train/mask/_02_dr_0_138.png (deflated 85%)\n",
            "  adding: hrf_256_256_dice_loss_hvr_2/split_2/train/mask/_02_dr_2_93.png (deflated 30%)\n",
            "  adding: hrf_256_256_dice_loss_hvr_2/split_2/train/mask/_10_g_2_84.png (deflated 58%)\n",
            "  adding: hrf_256_256_dice_loss_hvr_2/split_2/train/mask/_14_dr_0_55.png (deflated 41%)\n",
            "  adding: hrf_256_256_dice_loss_hvr_2/split_2/train/mask/_13_g_1_72.png (deflated 26%)\n",
            "  adding: hrf_256_256_dice_loss_hvr_2/split_2/train/mask/_10_g_2_86.png (deflated 18%)\n",
            "  adding: hrf_256_256_dice_loss_hvr_2/split_2/train/mask/_07_h_0_9.png (deflated 52%)\n",
            "  adding: hrf_256_256_dice_loss_hvr_2/split_2/train/mask/_15_dr_3_111.png (deflated 64%)\n",
            "  adding: hrf_256_256_dice_loss_hvr_2/split_2/train/mask/_13_g_3_133.png (deflated 26%)\n",
            "  adding: hrf_256_256_dice_loss_hvr_2/split_2/train/mask/_14_h_2_101.png (deflated 32%)\n",
            "  adding: hrf_256_256_dice_loss_hvr_2/split_2/train/mask/_06_dr_2_14.png (deflated 85%)\n",
            "  adding: hrf_256_256_dice_loss_hvr_2/split_2/train/mask/_12_dr_0_29.png (deflated 21%)\n",
            "  adding: hrf_256_256_dice_loss_hvr_2/split_2/train/mask/_11_g_3_56.png (deflated 51%)\n",
            "  adding: hrf_256_256_dice_loss_hvr_2/split_2/train/mask/_09_dr_3_41.png (deflated 45%)\n",
            "  adding: hrf_256_256_dice_loss_hvr_2/split_2/train/mask/_02_h_0_19.png (deflated 25%)\n",
            "  adding: hrf_256_256_dice_loss_hvr_2/split_2/train/mask/_06_dr_1_16.png (deflated 37%)\n",
            "  adding: hrf_256_256_dice_loss_hvr_2/split_2/train/mask/_09_g_0_51.png (deflated 27%)\n",
            "  adding: hrf_256_256_dice_loss_hvr_2/split_2/train/mask/_11_h_0_91.png (deflated 24%)\n",
            "  adding: hrf_256_256_dice_loss_hvr_2/split_2/train/mask/_01_dr_2_73.png (deflated 24%)\n",
            "  adding: hrf_256_256_dice_loss_hvr_2/split_2/train/mask/_11_h_3_121.png (deflated 21%)\n",
            "  adding: hrf_256_256_dice_loss_hvr_2/split_2/train/mask/_02_dr_1_32.png (deflated 16%)\n",
            "  adding: hrf_256_256_dice_loss_hvr_2/split_2/train/mask/_10_g_3_95.png (deflated 21%)\n",
            "  adding: hrf_256_256_dice_loss_hvr_2/split_2/train/mask/_03_dr_3_49.png (deflated 20%)\n",
            "  adding: hrf_256_256_dice_loss_hvr_2/split_2/train/mask/_08_h_3_55.png (deflated 50%)\n",
            "  adding: hrf_256_256_dice_loss_hvr_2/split_2/train/mask/_01_g_2_72.png (deflated 24%)\n",
            "  adding: hrf_256_256_dice_loss_hvr_2/split_2/train/mask/_12_dr_3_122.png (deflated 33%)\n",
            "  adding: hrf_256_256_dice_loss_hvr_2/split_2/train/mask/_13_h_0_48.png (deflated 19%)\n",
            "  adding: hrf_256_256_dice_loss_hvr_2/split_2/train/mask/_07_g_2_36.png (deflated 18%)\n",
            "  adding: hrf_256_256_dice_loss_hvr_2/split_2/train/mask/_04_h_3_80.png (deflated 28%)\n",
            "  adding: hrf_256_256_dice_loss_hvr_2/split_2/train/mask/_14_g_0_32.png (deflated 21%)\n",
            "  adding: hrf_256_256_dice_loss_hvr_2/split_2/train/mask/_09_dr_3_63.png (deflated 24%)\n",
            "  adding: hrf_256_256_dice_loss_hvr_2/split_2/train/mask/_02_dr_1_137.png (deflated 43%)\n",
            "  adding: hrf_256_256_dice_loss_hvr_2/split_2/train/mask/_10_g_1_39.png (deflated 22%)\n",
            "  adding: hrf_256_256_dice_loss_hvr_2/split_2/train/mask/_02_dr_0_61.png (deflated 28%)\n",
            "  adding: hrf_256_256_dice_loss_hvr_2/split_2/train/mask/_12_g_2_53.png (deflated 23%)\n",
            "  adding: hrf_256_256_dice_loss_hvr_2/split_2/train/mask/_13_h_3_97.png (deflated 27%)\n",
            "  adding: hrf_256_256_dice_loss_hvr_2/split_2/train/mask/_11_g_3_55.png (deflated 78%)\n",
            "  adding: hrf_256_256_dice_loss_hvr_2/split_2/train/mask/_02_h_1_53.png (deflated 24%)\n",
            "  adding: hrf_256_256_dice_loss_hvr_2/split_2/train/mask/_13_g_3_132.png (deflated 31%)\n",
            "  adding: hrf_256_256_dice_loss_hvr_2/split_2/train/mask/_12_g_0_130.png (deflated 29%)\n",
            "  adding: hrf_256_256_dice_loss_hvr_2/split_2/train/mask/_14_g_0_109.png (deflated 19%)\n",
            "  adding: hrf_256_256_dice_loss_hvr_2/split_2/train/mask/_07_h_3_64.png (deflated 24%)\n",
            "  adding: hrf_256_256_dice_loss_hvr_2/split_2/train/mask/_11_h_0_121.png (deflated 37%)\n",
            "  adding: hrf_256_256_dice_loss_hvr_2/split_2/train/mask/_12_g_3_59.png (deflated 16%)\n",
            "  adding: hrf_256_256_dice_loss_hvr_2/split_2/train/mask/_04_h_1_117.png (deflated 24%)\n",
            "  adding: hrf_256_256_dice_loss_hvr_2/split_2/train/mask/_09_g_0_126.png (deflated 85%)\n",
            "  adding: hrf_256_256_dice_loss_hvr_2/split_2/train/mask/_05_h_0_50.png (deflated 22%)\n",
            "  adding: hrf_256_256_dice_loss_hvr_2/split_2/train/mask/_11_g_2_93.png (deflated 16%)\n",
            "  adding: hrf_256_256_dice_loss_hvr_2/split_2/train/mask/_01_dr_3_135.png (deflated 32%)\n",
            "  adding: hrf_256_256_dice_loss_hvr_2/split_2/train/mask/_14_g_3_4.png (deflated 32%)\n",
            "  adding: hrf_256_256_dice_loss_hvr_2/split_2/train/mask/_13_h_0_119.png (deflated 13%)\n",
            "  adding: hrf_256_256_dice_loss_hvr_2/split_2/train/mask/_15_dr_0_138.png (deflated 85%)\n",
            "  adding: hrf_256_256_dice_loss_hvr_2/split_2/train/mask/_06_dr_0_64.png (deflated 21%)\n",
            "  adding: hrf_256_256_dice_loss_hvr_2/split_2/train/mask/_12_g_0_49.png (deflated 23%)\n",
            "  adding: hrf_256_256_dice_loss_hvr_2/split_2/train/mask/_10_g_2_39.png (deflated 21%)\n",
            "  adding: hrf_256_256_dice_loss_hvr_2/split_2/train/mask/_14_h_3_41.png (deflated 59%)\n",
            "  adding: hrf_256_256_dice_loss_hvr_2/split_2/train/mask/_02_h_1_41.png (deflated 85%)\n",
            "  adding: hrf_256_256_dice_loss_hvr_2/split_2/train/mask/_12_dr_1_40.png (deflated 21%)\n",
            "  adding: hrf_256_256_dice_loss_hvr_2/split_2/train/mask/_15_dr_2_108.png (deflated 17%)\n",
            "  adding: hrf_256_256_dice_loss_hvr_2/split_2/train/mask/_07_g_3_123.png (deflated 19%)\n",
            "  adding: hrf_256_256_dice_loss_hvr_2/split_2/train/mask/_12_dr_2_122.png (deflated 23%)\n",
            "  adding: hrf_256_256_dice_loss_hvr_2/split_2/train/mask/_04_g_2_26.png (deflated 32%)\n",
            "  adding: hrf_256_256_dice_loss_hvr_2/split_2/train/mask/_13_g_1_33.png (deflated 20%)\n",
            "  adding: hrf_256_256_dice_loss_hvr_2/split_2/train/mask/_03_dr_0_63.png (deflated 23%)\n",
            "  adding: hrf_256_256_dice_loss_hvr_2/split_2/train/mask/_03_h_0_74.png (deflated 27%)\n",
            "  adding: hrf_256_256_dice_loss_hvr_2/split_2/train/mask/_12_g_0_22.png (deflated 21%)\n",
            "  adding: hrf_256_256_dice_loss_hvr_2/split_2/train/mask/_14_h_0_46.png (deflated 18%)\n",
            "  adding: hrf_256_256_dice_loss_hvr_2/split_2/train/mask/_02_dr_2_30.png (deflated 51%)\n",
            "  adding: hrf_256_256_dice_loss_hvr_2/split_2/train/mask/_12_g_2_90.png (deflated 30%)\n",
            "  adding: hrf_256_256_dice_loss_hvr_2/split_2/train/mask/_07_g_0_94.png (deflated 29%)\n",
            "  adding: hrf_256_256_dice_loss_hvr_2/split_2/train/mask/_10_dr_2_41.png (deflated 85%)\n",
            "  adding: hrf_256_256_dice_loss_hvr_2/split_2/train/mask/_10_dr_0_60.png (deflated 24%)\n",
            "  adding: hrf_256_256_dice_loss_hvr_2/split_2/train/mask/_06_dr_0_0.png (deflated 85%)\n",
            "  adding: hrf_256_256_dice_loss_hvr_2/split_2/train/mask/_11_h_2_119.png (deflated 18%)\n",
            "  adding: hrf_256_256_dice_loss_hvr_2/split_2/train/mask/_06_dr_1_62.png (deflated 24%)\n",
            "  adding: hrf_256_256_dice_loss_hvr_2/split_2/train/mask/_04_h_3_89.png (deflated 24%)\n",
            "  adding: hrf_256_256_dice_loss_hvr_2/split_2/train/mask/_13_h_1_30.png (deflated 30%)\n",
            "  adding: hrf_256_256_dice_loss_hvr_2/split_2/train/mask/_14_dr_0_59.png (deflated 21%)\n",
            "  adding: hrf_256_256_dice_loss_hvr_2/split_2/train/mask/_04_h_1_9.png (deflated 33%)\n",
            "  adding: hrf_256_256_dice_loss_hvr_2/split_2/train/mask/_11_g_3_125.png (deflated 20%)\n",
            "  adding: hrf_256_256_dice_loss_hvr_2/split_2/train/mask/_13_h_1_72.png (deflated 23%)\n",
            "  adding: hrf_256_256_dice_loss_hvr_2/split_2/train/mask/_14_h_1_134.png (deflated 32%)\n",
            "  adding: hrf_256_256_dice_loss_hvr_2/split_2/train/mask/_14_g_3_24.png (deflated 33%)\n",
            "  adding: hrf_256_256_dice_loss_hvr_2/split_2/train/mask/_07_h_2_17.png (deflated 19%)\n",
            "  adding: hrf_256_256_dice_loss_hvr_2/split_2/train/mask/_14_dr_1_87.png (deflated 25%)\n",
            "  adding: hrf_256_256_dice_loss_hvr_2/split_2/train/mask/_01_dr_3_33.png (deflated 22%)\n",
            "  adding: hrf_256_256_dice_loss_hvr_2/split_2/train/mask/_13_g_1_48.png (deflated 22%)\n",
            "  adding: hrf_256_256_dice_loss_hvr_2/split_2/train/mask/_02_h_3_16.png (deflated 34%)\n",
            "  adding: hrf_256_256_dice_loss_hvr_2/split_2/train/mask/_02_h_2_119.png (deflated 15%)\n",
            "  adding: hrf_256_256_dice_loss_hvr_2/split_2/train/mask/_06_dr_3_59.png (deflated 24%)\n",
            "  adding: hrf_256_256_dice_loss_hvr_2/split_2/train/mask/_13_h_0_79.png (deflated 25%)\n",
            "  adding: hrf_256_256_dice_loss_hvr_2/split_2/train/mask/_02_h_3_105.png (deflated 30%)\n",
            "  adding: hrf_256_256_dice_loss_hvr_2/split_2/train/mask/_08_h_0_60.png (deflated 19%)\n",
            "  adding: hrf_256_256_dice_loss_hvr_2/split_2/train/mask/_08_h_2_89.png (deflated 23%)\n",
            "  adding: hrf_256_256_dice_loss_hvr_2/split_2/train/mask/_01_dr_1_97.png (deflated 73%)\n",
            "  adding: hrf_256_256_dice_loss_hvr_2/split_2/train/mask/_07_g_3_113.png (deflated 75%)\n",
            "  adding: hrf_256_256_dice_loss_hvr_2/split_2/train/mask/_14_h_2_39.png (deflated 13%)\n",
            "  adding: hrf_256_256_dice_loss_hvr_2/split_2/train/mask/_03_h_3_129.png (deflated 23%)\n",
            "  adding: hrf_256_256_dice_loss_hvr_2/split_2/train/mask/_05_h_2_7.png (deflated 41%)\n",
            "  adding: hrf_256_256_dice_loss_hvr_2/split_2/train/mask/_04_h_0_106.png (deflated 19%)\n",
            "  adding: hrf_256_256_dice_loss_hvr_2/split_2/train/mask/_13_g_0_127.png (deflated 85%)\n",
            "  adding: hrf_256_256_dice_loss_hvr_2/split_2/train/mask/_13_g_0_73.png (deflated 27%)\n",
            "  adding: hrf_256_256_dice_loss_hvr_2/split_2/train/mask/_04_g_0_100.png (deflated 22%)\n",
            "  adding: hrf_256_256_dice_loss_hvr_2/split_2/train/mask/_02_h_2_28.png (deflated 85%)\n",
            "  adding: hrf_256_256_dice_loss_hvr_2/split_2/train/mask/_07_g_2_125.png (deflated 85%)\n",
            "  adding: hrf_256_256_dice_loss_hvr_2/split_2/train/mask/_10_g_0_78.png (deflated 28%)\n",
            "  adding: hrf_256_256_dice_loss_hvr_2/split_2/train/mask/_03_h_1_49.png (deflated 27%)\n",
            "  adding: hrf_256_256_dice_loss_hvr_2/split_2/train/mask/_10_g_3_82.png (deflated 23%)\n",
            "  adding: hrf_256_256_dice_loss_hvr_2/split_2/train/mask/_02_dr_2_59.png (deflated 30%)\n",
            "  adding: hrf_256_256_dice_loss_hvr_2/split_2/train/mask/_01_dr_0_30.png (deflated 34%)\n",
            "  adding: hrf_256_256_dice_loss_hvr_2/split_2/train/mask/_08_h_1_139.png (deflated 85%)\n",
            "  adding: hrf_256_256_dice_loss_hvr_2/split_2/train/mask/_10_dr_2_137.png (deflated 32%)\n",
            "  adding: hrf_256_256_dice_loss_hvr_2/split_2/train/mask/_11_h_0_134.png (deflated 37%)\n",
            "  adding: hrf_256_256_dice_loss_hvr_2/split_2/train/mask/_15_dr_2_132.png (deflated 37%)\n",
            "  adding: hrf_256_256_dice_loss_hvr_2/split_2/train/mask/_11_g_3_47.png (deflated 27%)\n",
            "  adding: hrf_256_256_dice_loss_hvr_2/split_2/train/mask/_13_h_1_42.png (deflated 20%)\n",
            "  adding: hrf_256_256_dice_loss_hvr_2/split_2/train/mask/_04_g_2_86.png (deflated 22%)\n",
            "  adding: hrf_256_256_dice_loss_hvr_2/split_2/train/mask/_14_g_1_72.png (deflated 27%)\n",
            "  adding: hrf_256_256_dice_loss_hvr_2/split_2/train/mask/_12_g_1_44.png (deflated 21%)\n",
            "  adding: hrf_256_256_dice_loss_hvr_2/split_2/train/mask/_14_h_2_42.png (deflated 39%)\n",
            "  adding: hrf_256_256_dice_loss_hvr_2/split_2/train/mask/_11_h_2_5.png (deflated 33%)\n",
            "  adding: hrf_256_256_dice_loss_hvr_2/split_2/train/mask/_12_dr_3_135.png (deflated 29%)\n",
            "  adding: hrf_256_256_dice_loss_hvr_2/split_2/train/mask/_15_dr_0_102.png (deflated 28%)\n",
            "  adding: hrf_256_256_dice_loss_hvr_2/split_2/train/mask/_05_h_3_139.png (deflated 85%)\n",
            "  adding: hrf_256_256_dice_loss_hvr_2/split_2/train/mask/_01_g_1_95.png (deflated 19%)\n",
            "  adding: hrf_256_256_dice_loss_hvr_2/split_2/train/mask/_02_h_1_71.png (deflated 27%)\n",
            "  adding: hrf_256_256_dice_loss_hvr_2/split_2/train/mask/_01_g_1_3.png (deflated 32%)\n",
            "  adding: hrf_256_256_dice_loss_hvr_2/split_2/train/mask/_09_dr_2_54.png (deflated 16%)\n",
            "  adding: hrf_256_256_dice_loss_hvr_2/split_2/train/mask/_02_h_0_20.png (deflated 29%)\n",
            "  adding: hrf_256_256_dice_loss_hvr_2/split_2/train/mask/_12_dr_0_58.png (deflated 24%)\n",
            "  adding: hrf_256_256_dice_loss_hvr_2/split_2/train/mask/_12_dr_3_46.png (deflated 24%)\n",
            "  adding: hrf_256_256_dice_loss_hvr_2/split_2/train/mask/_09_dr_0_56.png (deflated 45%)\n",
            "  adding: hrf_256_256_dice_loss_hvr_2/split_2/train/mask/_07_g_0_130.png (deflated 24%)\n",
            "  adding: hrf_256_256_dice_loss_hvr_2/split_2/train/mask/_03_h_3_111.png (deflated 85%)\n",
            "  adding: hrf_256_256_dice_loss_hvr_2/split_2/train/mask/_13_g_0_79.png (deflated 16%)\n",
            "  adding: hrf_256_256_dice_loss_hvr_2/split_2/train/mask/_14_h_1_118.png (deflated 23%)\n",
            "  adding: hrf_256_256_dice_loss_hvr_2/split_2/train/mask/_13_g_0_5.png (deflated 28%)\n",
            "  adding: hrf_256_256_dice_loss_hvr_2/split_2/train/mask/_04_h_2_83.png (deflated 32%)\n",
            "  adding: hrf_256_256_dice_loss_hvr_2/split_2/train/mask/_02_h_2_79.png (deflated 24%)\n",
            "  adding: hrf_256_256_dice_loss_hvr_2/split_2/train/mask/_03_h_3_23.png (deflated 24%)\n",
            "  adding: hrf_256_256_dice_loss_hvr_2/split_2/train/mask/_04_h_3_21.png (deflated 20%)\n",
            "  adding: hrf_256_256_dice_loss_hvr_2/split_2/train/mask/_10_dr_0_92.png (deflated 32%)\n",
            "  adding: hrf_256_256_dice_loss_hvr_2/split_2/train/mask/_01_dr_1_51.png (deflated 20%)\n",
            "  adding: hrf_256_256_dice_loss_hvr_2/split_2/train/mask/_01_g_2_134.png (deflated 32%)\n",
            "  adding: hrf_256_256_dice_loss_hvr_2/split_2/train/mask/_12_g_2_43.png (deflated 20%)\n",
            "  adding: hrf_256_256_dice_loss_hvr_2/split_2/train/mask/_01_dr_3_0.png (deflated 26%)\n",
            "  adding: hrf_256_256_dice_loss_hvr_2/split_2/train/mask/_04_g_2_107.png (deflated 20%)\n",
            "  adding: hrf_256_256_dice_loss_hvr_2/split_2/train/mask/_07_h_1_101.png (deflated 28%)\n",
            "  adding: hrf_256_256_dice_loss_hvr_2/split_2/train/mask/_14_h_1_3.png (deflated 26%)\n",
            "  adding: hrf_256_256_dice_loss_hvr_2/split_2/train/mask/_12_g_3_21.png (deflated 19%)\n",
            "  adding: hrf_256_256_dice_loss_hvr_2/split_2/train/mask/_04_h_0_29.png (deflated 20%)\n",
            "  adding: hrf_256_256_dice_loss_hvr_2/split_2/train/mask/_14_h_1_12.png (deflated 85%)\n",
            "  adding: hrf_256_256_dice_loss_hvr_2/split_2/train/mask/_06_dr_0_136.png (deflated 41%)\n",
            "  adding: hrf_256_256_dice_loss_hvr_2/split_2/train/mask/_09_g_3_72.png (deflated 17%)\n",
            "  adding: hrf_256_256_dice_loss_hvr_2/split_2/train/mask/_13_h_1_11.png (deflated 41%)\n",
            "  adding: hrf_256_256_dice_loss_hvr_2/split_2/train/mask/_05_h_1_65.png (deflated 23%)\n",
            "  adding: hrf_256_256_dice_loss_hvr_2/split_2/train/mask/_13_h_3_109.png (deflated 18%)\n",
            "  adding: hrf_256_256_dice_loss_hvr_2/split_2/train/mask/_09_g_1_61.png (deflated 29%)\n",
            "  adding: hrf_256_256_dice_loss_hvr_2/split_2/train/mask/_09_dr_2_100.png (deflated 21%)\n",
            "  adding: hrf_256_256_dice_loss_hvr_2/split_2/train/mask/_04_h_2_91.png (deflated 23%)\n",
            "  adding: hrf_256_256_dice_loss_hvr_2/split_2/train/mask/_15_dr_1_83.png (deflated 55%)\n",
            "  adding: hrf_256_256_dice_loss_hvr_2/split_2/train/mask/_09_g_0_132.png (deflated 31%)\n",
            "  adding: hrf_256_256_dice_loss_hvr_2/split_2/train/mask/_02_dr_3_66.png (deflated 22%)\n",
            "  adding: hrf_256_256_dice_loss_hvr_2/split_2/train/mask/_13_h_3_82.png (deflated 17%)\n",
            "  adding: hrf_256_256_dice_loss_hvr_2/split_2/train/mask/_01_g_0_3.png (deflated 38%)\n",
            "  adding: hrf_256_256_dice_loss_hvr_2/split_2/train/mask/_08_h_3_87.png (deflated 20%)\n",
            "  adding: hrf_256_256_dice_loss_hvr_2/split_2/train/mask/_10_g_0_100.png (deflated 23%)\n",
            "  adding: hrf_256_256_dice_loss_hvr_2/split_2/train/mask/_13_g_3_131.png (deflated 44%)\n",
            "  adding: hrf_256_256_dice_loss_hvr_2/split_2/train/mask/_14_dr_2_132.png (deflated 47%)\n",
            "  adding: hrf_256_256_dice_loss_hvr_2/split_2/train/mask/_14_g_2_113.png (deflated 46%)\n",
            "  adding: hrf_256_256_dice_loss_hvr_2/split_2/train/mask/_15_dr_0_56.png (deflated 29%)\n",
            "  adding: hrf_256_256_dice_loss_hvr_2/split_2/train/mask/_09_dr_3_81.png (deflated 19%)\n",
            "  adding: hrf_256_256_dice_loss_hvr_2/split_2/train/mask/_02_dr_1_124.png (deflated 40%)\n",
            "  adding: hrf_256_256_dice_loss_hvr_2/split_2/train/mask/_11_h_1_102.png (deflated 18%)\n",
            "  adding: hrf_256_256_dice_loss_hvr_2/split_2/train/mask/_07_g_2_52.png (deflated 28%)\n",
            "  adding: hrf_256_256_dice_loss_hvr_2/split_2/train/mask/_03_dr_1_131.png (deflated 39%)\n",
            "  adding: hrf_256_256_dice_loss_hvr_2/split_2/train/mask/_11_g_2_37.png (deflated 20%)\n",
            "  adding: hrf_256_256_dice_loss_hvr_2/split_2/train/mask/_13_h_3_130.png (deflated 29%)\n",
            "  adding: hrf_256_256_dice_loss_hvr_2/split_2/train/mask/_14_h_1_65.png (deflated 23%)\n",
            "  adding: hrf_256_256_dice_loss_hvr_2/split_2/train/mask/_08_h_0_83.png (deflated 35%)\n",
            "  adding: hrf_256_256_dice_loss_hvr_2/split_2/train/mask/_02_dr_0_131.png (deflated 29%)\n",
            "  adding: hrf_256_256_dice_loss_hvr_2/split_2/train/mask/_01_dr_1_15.png (deflated 70%)\n",
            "  adding: hrf_256_256_dice_loss_hvr_2/split_2/train/mask/_12_dr_1_122.png (deflated 21%)\n",
            "  adding: hrf_256_256_dice_loss_hvr_2/split_2/train/mask/_11_h_3_94.png (deflated 12%)\n",
            "  adding: hrf_256_256_dice_loss_hvr_2/split_2/train/mask/_06_dr_0_99.png (deflated 21%)\n",
            "  adding: hrf_256_256_dice_loss_hvr_2/split_2/train/mask/_11_g_1_21.png (deflated 21%)\n",
            "  adding: hrf_256_256_dice_loss_hvr_2/split_2/train/mask/_13_g_3_11.png (deflated 31%)\n",
            "  adding: hrf_256_256_dice_loss_hvr_2/split_2/train/mask/_14_dr_3_138.png (deflated 85%)\n",
            "  adding: hrf_256_256_dice_loss_hvr_2/split_2/train/mask/_09_g_1_91.png (deflated 24%)\n",
            "  adding: hrf_256_256_dice_loss_hvr_2/split_2/train/mask/_07_g_1_118.png (deflated 21%)\n",
            "  adding: hrf_256_256_dice_loss_hvr_2/split_2/train/mask/_07_h_1_52.png (deflated 25%)\n",
            "  adding: hrf_256_256_dice_loss_hvr_2/split_2/train/mask/_13_h_3_0.png (deflated 25%)\n",
            "  adding: hrf_256_256_dice_loss_hvr_2/split_2/train/mask/_02_dr_2_14.png (deflated 85%)\n",
            "  adding: hrf_256_256_dice_loss_hvr_2/split_2/train/mask/_14_dr_3_98.png (deflated 85%)\n",
            "  adding: hrf_256_256_dice_loss_hvr_2/split_2/train/mask/_13_g_3_19.png (deflated 25%)\n",
            "  adding: hrf_256_256_dice_loss_hvr_2/split_2/train/mask/_07_g_3_104.png (deflated 20%)\n",
            "  adding: hrf_256_256_dice_loss_hvr_2/split_2/train/mask/_05_h_0_136.png (deflated 28%)\n",
            "  adding: hrf_256_256_dice_loss_hvr_2/split_2/train/mask/_15_dr_1_98.png (deflated 80%)\n",
            "  adding: hrf_256_256_dice_loss_hvr_2/split_2/train/mask/_08_h_1_54.png (deflated 17%)\n",
            "  adding: hrf_256_256_dice_loss_hvr_2/split_2/train/mask/_04_g_2_78.png (deflated 40%)\n",
            "  adding: hrf_256_256_dice_loss_hvr_2/split_2/train/mask/_02_h_0_75.png (deflated 16%)\n",
            "  adding: hrf_256_256_dice_loss_hvr_2/split_2/train/mask/_12_g_2_62.png (deflated 26%)\n",
            "  adding: hrf_256_256_dice_loss_hvr_2/split_2/train/mask/_09_g_1_72.png (deflated 21%)\n",
            "  adding: hrf_256_256_dice_loss_hvr_2/split_2/train/mask/_11_h_2_102.png (deflated 17%)\n",
            "  adding: hrf_256_256_dice_loss_hvr_2/split_2/train/mask/_11_h_1_50.png (deflated 20%)\n",
            "  adding: hrf_256_256_dice_loss_hvr_2/split_2/train/mask/_13_g_1_88.png (deflated 25%)\n",
            "  adding: hrf_256_256_dice_loss_hvr_2/split_2/train/mask/_05_h_2_60.png (deflated 22%)\n",
            "  adding: hrf_256_256_dice_loss_hvr_2/split_2/train/mask/_01_dr_3_93.png (deflated 19%)\n",
            "  adding: hrf_256_256_dice_loss_hvr_2/split_2/train/mask/_01_g_0_27.png (deflated 85%)\n",
            "  adding: hrf_256_256_dice_loss_hvr_2/split_2/train/mask/_13_h_0_74.png (deflated 25%)\n",
            "  adding: hrf_256_256_dice_loss_hvr_2/split_2/train/mask/_02_dr_1_139.png (deflated 85%)\n",
            "  adding: hrf_256_256_dice_loss_hvr_2/split_2/train/mask/_02_h_3_75.png (deflated 18%)\n",
            "  adding: hrf_256_256_dice_loss_hvr_2/split_2/train/mask/_01_g_0_75.png (deflated 28%)\n",
            "  adding: hrf_256_256_dice_loss_hvr_2/split_2/train/mask/_11_g_1_102.png (deflated 20%)\n",
            "  adding: hrf_256_256_dice_loss_hvr_2/split_2/train/mask/_07_g_1_80.png (deflated 25%)\n",
            "  adding: hrf_256_256_dice_loss_hvr_2/split_2/train/mask/_13_h_2_6.png (deflated 53%)\n",
            "  adding: hrf_256_256_dice_loss_hvr_2/split_2/train/mask/_09_dr_1_21.png (deflated 28%)\n",
            "  adding: hrf_256_256_dice_loss_hvr_2/split_2/train/mask/_08_h_2_127.png (deflated 85%)\n",
            "  adding: hrf_256_256_dice_loss_hvr_2/split_2/train/mask/_14_dr_2_11.png (deflated 30%)\n",
            "  adding: hrf_256_256_dice_loss_hvr_2/split_2/train/mask/_15_dr_2_57.png (deflated 31%)\n",
            "  adding: hrf_256_256_dice_loss_hvr_2/split_2/train/mask/_14_h_1_81.png (deflated 19%)\n",
            "  adding: hrf_256_256_dice_loss_hvr_2/split_2/train/mask/_03_dr_1_26.png (deflated 32%)\n",
            "  adding: hrf_256_256_dice_loss_hvr_2/split_2/train/mask/_11_g_1_139.png (deflated 85%)\n",
            "  adding: hrf_256_256_dice_loss_hvr_2/split_2/train/mask/_01_dr_2_55.png (deflated 85%)\n",
            "  adding: hrf_256_256_dice_loss_hvr_2/split_2/train/mask/_08_h_0_54.png (deflated 23%)\n",
            "  adding: hrf_256_256_dice_loss_hvr_2/split_2/train/mask/_03_dr_2_102.png (deflated 19%)\n",
            "  adding: hrf_256_256_dice_loss_hvr_2/split_2/train/mask/_01_dr_2_82.png (deflated 29%)\n",
            "  adding: hrf_256_256_dice_loss_hvr_2/split_2/train/mask/_09_dr_2_99.png (deflated 44%)\n",
            "  adding: hrf_256_256_dice_loss_hvr_2/split_2/train/mask/_13_h_3_90.png (deflated 23%)\n",
            "  adding: hrf_256_256_dice_loss_hvr_2/split_2/train/mask/_14_g_2_114.png (deflated 29%)\n",
            "  adding: hrf_256_256_dice_loss_hvr_2/split_2/train/mask/_09_dr_0_55.png (deflated 51%)\n",
            "  adding: hrf_256_256_dice_loss_hvr_2/split_2/train/mask/_04_g_1_6.png (deflated 27%)\n",
            "  adding: hrf_256_256_dice_loss_hvr_2/split_2/train/mask/_02_dr_0_88.png (deflated 28%)\n",
            "  adding: hrf_256_256_dice_loss_hvr_2/split_2/train/mask/_12_dr_2_0.png (deflated 85%)\n",
            "  adding: hrf_256_256_dice_loss_hvr_2/split_2/train/mask/_02_dr_3_1.png (deflated 85%)\n",
            "  adding: hrf_256_256_dice_loss_hvr_2/split_2/train/mask/_02_h_0_45.png (deflated 26%)\n",
            "  adding: hrf_256_256_dice_loss_hvr_2/split_2/train/mask/_08_h_1_119.png (deflated 15%)\n",
            "  adding: hrf_256_256_dice_loss_hvr_2/split_2/train/mask/_01_dr_0_100.png (deflated 22%)\n",
            "  adding: hrf_256_256_dice_loss_hvr_2/split_2/train/mask/_01_dr_2_133.png (deflated 40%)\n",
            "  adding: hrf_256_256_dice_loss_hvr_2/split_2/train/mask/_04_h_1_33.png (deflated 18%)\n",
            "  adding: hrf_256_256_dice_loss_hvr_2/split_2/train/mask/_03_h_3_25.png (deflated 16%)\n",
            "  adding: hrf_256_256_dice_loss_hvr_2/split_2/train/mask/_04_g_0_130.png (deflated 48%)\n",
            "  adding: hrf_256_256_dice_loss_hvr_2/split_2/train/mask/_03_h_1_8.png (deflated 32%)\n",
            "  adding: hrf_256_256_dice_loss_hvr_2/split_2/train/mask/_14_h_2_19.png (deflated 32%)\n",
            "  adding: hrf_256_256_dice_loss_hvr_2/split_2/train/mask/_14_dr_2_73.png (deflated 22%)\n",
            "  adding: hrf_256_256_dice_loss_hvr_2/split_2/train/mask/_11_h_2_88.png (deflated 26%)\n",
            "  adding: hrf_256_256_dice_loss_hvr_2/split_2/train/mask/_13_h_0_124.png (deflated 46%)\n",
            "  adding: hrf_256_256_dice_loss_hvr_2/split_2/train/mask/_12_dr_3_101.png (deflated 27%)\n",
            "  adding: hrf_256_256_dice_loss_hvr_2/split_2/train/mask/_06_dr_3_20.png (deflated 15%)\n",
            "  adding: hrf_256_256_dice_loss_hvr_2/split_2/train/mask/_03_h_2_26.png (deflated 43%)\n",
            "  adding: hrf_256_256_dice_loss_hvr_2/split_2/train/mask/_04_g_0_33.png (deflated 18%)\n",
            "  adding: hrf_256_256_dice_loss_hvr_2/split_2/train/mask/_13_g_0_77.png (deflated 29%)\n",
            "  adding: hrf_256_256_dice_loss_hvr_2/split_2/train/mask/_07_h_0_84.png (deflated 52%)\n",
            "  adding: hrf_256_256_dice_loss_hvr_2/split_2/train/mask/_03_h_0_68.png (deflated 20%)\n",
            "  adding: hrf_256_256_dice_loss_hvr_2/split_2/train/mask/_14_dr_1_18.png (deflated 19%)\n",
            "  adding: hrf_256_256_dice_loss_hvr_2/split_2/train/mask/_02_h_2_53.png (deflated 22%)\n",
            "  adding: hrf_256_256_dice_loss_hvr_2/split_2/train/mask/_07_h_1_75.png (deflated 25%)\n",
            "  adding: hrf_256_256_dice_loss_hvr_2/split_2/train/mask/_09_g_2_100.png (deflated 27%)\n",
            "  adding: hrf_256_256_dice_loss_hvr_2/split_2/train/mask/_11_h_3_89.png (deflated 28%)\n",
            "  adding: hrf_256_256_dice_loss_hvr_2/split_2/train/mask/_03_dr_1_35.png (deflated 24%)\n",
            "  adding: hrf_256_256_dice_loss_hvr_2/split_2/train/mask/_02_dr_0_80.png (deflated 22%)\n",
            "  adding: hrf_256_256_dice_loss_hvr_2/split_2/train/mask/_01_g_2_2.png (deflated 39%)\n",
            "  adding: hrf_256_256_dice_loss_hvr_2/split_2/train/mask/_10_g_1_131.png (deflated 35%)\n",
            "  adding: hrf_256_256_dice_loss_hvr_2/split_2/train/mask/_15_dr_1_60.png (deflated 44%)\n",
            "  adding: hrf_256_256_dice_loss_hvr_2/split_2/train/mask/_09_dr_0_134.png (deflated 29%)\n",
            "  adding: hrf_256_256_dice_loss_hvr_2/split_2/train/mask/_14_dr_3_27.png (deflated 85%)\n",
            "  adding: hrf_256_256_dice_loss_hvr_2/split_2/train/mask/_09_g_3_53.png (deflated 24%)\n",
            "  adding: hrf_256_256_dice_loss_hvr_2/split_2/train/mask/_08_h_3_119.png (deflated 15%)\n",
            "  adding: hrf_256_256_dice_loss_hvr_2/split_2/train/mask/_14_dr_2_85.png (deflated 23%)\n",
            "  adding: hrf_256_256_dice_loss_hvr_2/split_2/train/mask/_02_h_0_48.png (deflated 25%)\n",
            "  adding: hrf_256_256_dice_loss_hvr_2/split_2/train/mask/_13_h_3_101.png (deflated 28%)\n",
            "  adding: hrf_256_256_dice_loss_hvr_2/split_2/train/mask/_07_h_1_2.png (deflated 31%)\n",
            "  adding: hrf_256_256_dice_loss_hvr_2/split_2/train/mask/_07_g_0_14.png (deflated 85%)\n",
            "  adding: hrf_256_256_dice_loss_hvr_2/split_2/train/mask/_11_g_3_9.png (deflated 34%)\n",
            "  adding: hrf_256_256_dice_loss_hvr_2/split_2/train/mask/_12_dr_2_104.png (deflated 20%)\n",
            "  adding: hrf_256_256_dice_loss_hvr_2/split_2/train/mask/_04_g_3_44.png (deflated 14%)\n",
            "  adding: hrf_256_256_dice_loss_hvr_2/split_2/train/mask/_07_g_2_61.png (deflated 23%)\n",
            "  adding: hrf_256_256_dice_loss_hvr_2/split_2/train/mask/_03_dr_1_66.png (deflated 23%)\n",
            "  adding: hrf_256_256_dice_loss_hvr_2/split_2/train/mask/_09_g_1_113.png (deflated 56%)\n",
            "  adding: hrf_256_256_dice_loss_hvr_2/split_2/train/mask/_10_g_0_26.png (deflated 36%)\n",
            "  adding: hrf_256_256_dice_loss_hvr_2/split_2/train/mask/_14_dr_2_88.png (deflated 29%)\n",
            "  adding: hrf_256_256_dice_loss_hvr_2/split_2/train/mask/_04_g_3_108.png (deflated 28%)\n",
            "  adding: hrf_256_256_dice_loss_hvr_2/split_2/train/mask/_13_g_0_103.png (deflated 28%)\n",
            "  adding: hrf_256_256_dice_loss_hvr_2/split_2/train/mask/_05_h_1_135.png (deflated 31%)\n",
            "  adding: hrf_256_256_dice_loss_hvr_2/split_2/train/mask/_04_h_0_31.png (deflated 26%)\n",
            "  adding: hrf_256_256_dice_loss_hvr_2/split_2/train/mask/_05_h_0_132.png (deflated 30%)\n",
            "  adding: hrf_256_256_dice_loss_hvr_2/split_2/train/mask/_13_g_0_80.png (deflated 21%)\n",
            "  adding: hrf_256_256_dice_loss_hvr_2/split_2/train/mask/_07_h_1_0.png (deflated 85%)\n",
            "  adding: hrf_256_256_dice_loss_hvr_2/split_2/train/mask/_10_g_3_49.png (deflated 21%)\n",
            "  adding: hrf_256_256_dice_loss_hvr_2/split_2/train/mask/_08_h_3_75.png (deflated 26%)\n",
            "  adding: hrf_256_256_dice_loss_hvr_2/split_2/train/mask/_03_h_1_31.png (deflated 19%)\n",
            "  adding: hrf_256_256_dice_loss_hvr_2/split_2/train/mask/_07_g_0_9.png (deflated 32%)\n",
            "  adding: hrf_256_256_dice_loss_hvr_2/split_2/train/mask/_15_dr_1_77.png (deflated 32%)\n",
            "  adding: hrf_256_256_dice_loss_hvr_2/split_2/train/mask/_14_g_1_128.png (deflated 33%)\n",
            "  adding: hrf_256_256_dice_loss_hvr_2/split_2/train/mask/_12_g_1_11.png (deflated 36%)\n",
            "  adding: hrf_256_256_dice_loss_hvr_2/split_2/train/mask/_01_dr_0_35.png (deflated 23%)\n",
            "  adding: hrf_256_256_dice_loss_hvr_2/split_2/train/mask/_10_dr_1_94.png (deflated 27%)\n",
            "  adding: hrf_256_256_dice_loss_hvr_2/split_2/train/mask/_14_h_2_76.png (deflated 30%)\n",
            "  adding: hrf_256_256_dice_loss_hvr_2/split_2/train/mask/_10_g_0_52.png (deflated 23%)\n",
            "  adding: hrf_256_256_dice_loss_hvr_2/split_2/train/mask/_09_dr_1_38.png (deflated 35%)\n",
            "  adding: hrf_256_256_dice_loss_hvr_2/split_2/train/mask/_04_h_1_59.png (deflated 25%)\n",
            "  adding: hrf_256_256_dice_loss_hvr_2/split_2/train/mask/_10_g_0_90.png (deflated 21%)\n",
            "  adding: hrf_256_256_dice_loss_hvr_2/split_2/train/mask/_04_h_1_68.png (deflated 22%)\n",
            "  adding: hrf_256_256_dice_loss_hvr_2/split_2/train/mask/_07_g_1_54.png (deflated 30%)\n",
            "  adding: hrf_256_256_dice_loss_hvr_2/split_2/train/mask/_02_h_0_99.png (deflated 18%)\n",
            "  adding: hrf_256_256_dice_loss_hvr_2/split_2/train/mask/_09_dr_1_137.png (deflated 85%)\n",
            "  adding: hrf_256_256_dice_loss_hvr_2/split_2/train/mask/_06_dr_1_53.png (deflated 24%)\n",
            "  adding: hrf_256_256_dice_loss_hvr_2/split_2/train/mask/_11_g_2_71.png (deflated 24%)\n",
            "  adding: hrf_256_256_dice_loss_hvr_2/split_2/train/mask/_06_dr_1_34.png (deflated 21%)\n",
            "  adding: hrf_256_256_dice_loss_hvr_2/split_2/train/mask/_08_h_2_97.png (deflated 42%)\n",
            "  adding: hrf_256_256_dice_loss_hvr_2/split_2/train/mask/_03_h_3_79.png (deflated 15%)\n",
            "  adding: hrf_256_256_dice_loss_hvr_2/split_2/train/mask/_14_dr_3_38.png (deflated 18%)\n",
            "  adding: hrf_256_256_dice_loss_hvr_2/split_2/train/mask/_12_dr_2_28.png (deflated 85%)\n",
            "  adding: hrf_256_256_dice_loss_hvr_2/split_2/train/mask/_03_dr_3_39.png (deflated 66%)\n",
            "  adding: hrf_256_256_dice_loss_hvr_2/split_2/train/mask/_05_h_2_119.png (deflated 15%)\n",
            "  adding: hrf_256_256_dice_loss_hvr_2/split_2/train/mask/_11_g_3_36.png (deflated 16%)\n",
            "  adding: hrf_256_256_dice_loss_hvr_2/split_2/train/mask/_12_g_0_7.png (deflated 38%)\n",
            "  adding: hrf_256_256_dice_loss_hvr_2/split_2/train/mask/_10_dr_1_34.png (deflated 26%)\n",
            "  adding: hrf_256_256_dice_loss_hvr_2/split_2/train/mask/_10_g_1_123.png (deflated 29%)\n",
            "  adding: hrf_256_256_dice_loss_hvr_2/split_2/train/mask/_03_h_3_127.png (deflated 23%)\n",
            "  adding: hrf_256_256_dice_loss_hvr_2/split_2/train/mask/_13_h_3_51.png (deflated 36%)\n",
            "  adding: hrf_256_256_dice_loss_hvr_2/split_2/train/mask/_10_dr_1_45.png (deflated 26%)\n",
            "  adding: hrf_256_256_dice_loss_hvr_2/split_2/train/mask/_01_dr_1_44.png (deflated 36%)\n",
            "  adding: hrf_256_256_dice_loss_hvr_2/split_2/train/mask/_14_g_3_57.png (deflated 21%)\n",
            "  adding: hrf_256_256_dice_loss_hvr_2/split_2/train/mask/_04_h_1_102.png (deflated 26%)\n",
            "  adding: hrf_256_256_dice_loss_hvr_2/split_2/train/mask/_01_dr_3_137.png (deflated 38%)\n",
            "  adding: hrf_256_256_dice_loss_hvr_2/split_2/train/mask/_11_g_0_4.png (deflated 41%)\n",
            "  adding: hrf_256_256_dice_loss_hvr_2/split_2/train/mask/_07_h_2_135.png (deflated 51%)\n",
            "  adding: hrf_256_256_dice_loss_hvr_2/split_2/train/mask/_13_g_0_122.png (deflated 28%)\n",
            "  adding: hrf_256_256_dice_loss_hvr_2/split_2/train/mask/_13_h_0_85.png (deflated 31%)\n",
            "  adding: hrf_256_256_dice_loss_hvr_2/split_2/train/mask/_11_h_3_22.png (deflated 18%)\n",
            "  adding: hrf_256_256_dice_loss_hvr_2/split_2/train/mask/_09_g_2_68.png (deflated 28%)\n",
            "  adding: hrf_256_256_dice_loss_hvr_2/split_2/train/mask/_10_dr_3_121.png (deflated 26%)\n",
            "  adding: hrf_256_256_dice_loss_hvr_2/split_2/train/mask/_07_h_0_22.png (deflated 19%)\n",
            "  adding: hrf_256_256_dice_loss_hvr_2/split_2/train/mask/_10_g_3_126.png (deflated 85%)\n",
            "  adding: hrf_256_256_dice_loss_hvr_2/split_2/train/mask/_03_dr_2_104.png (deflated 25%)\n",
            "  adding: hrf_256_256_dice_loss_hvr_2/split_2/train/mask/_14_dr_3_58.png (deflated 19%)\n",
            "  adding: hrf_256_256_dice_loss_hvr_2/split_2/train/mask/_11_h_2_109.png (deflated 29%)\n",
            "  adding: hrf_256_256_dice_loss_hvr_2/split_2/train/mask/_07_g_3_38.png (deflated 21%)\n",
            "  adding: hrf_256_256_dice_loss_hvr_2/split_2/train/mask/_12_g_1_72.png (deflated 22%)\n",
            "  adding: hrf_256_256_dice_loss_hvr_2/split_2/train/mask/_04_h_2_27.png (deflated 85%)\n",
            "  adding: hrf_256_256_dice_loss_hvr_2/split_2/train/mask/_03_dr_3_20.png (deflated 22%)\n",
            "  adding: hrf_256_256_dice_loss_hvr_2/split_2/train/mask/_06_dr_3_10.png (deflated 35%)\n",
            "  adding: hrf_256_256_dice_loss_hvr_2/split_2/train/mask/_02_dr_2_32.png (deflated 22%)\n",
            "  adding: hrf_256_256_dice_loss_hvr_2/split_2/train/mask/_14_g_2_107.png (deflated 21%)\n",
            "  adding: hrf_256_256_dice_loss_hvr_2/split_2/train/mask/_07_g_1_48.png (deflated 26%)\n",
            "  adding: hrf_256_256_dice_loss_hvr_2/split_2/train/mask/_11_g_2_53.png (deflated 19%)\n",
            "  adding: hrf_256_256_dice_loss_hvr_2/split_2/train/mask/_12_g_0_37.png (deflated 27%)\n",
            "  adding: hrf_256_256_dice_loss_hvr_2/split_2/train/mask/_02_h_3_73.png (deflated 19%)\n",
            "  adding: hrf_256_256_dice_loss_hvr_2/split_2/train/mask/_13_g_1_87.png (deflated 24%)\n",
            "  adding: hrf_256_256_dice_loss_hvr_2/split_2/train/mask/_08_h_1_116.png (deflated 21%)\n",
            "  adding: hrf_256_256_dice_loss_hvr_2/split_2/train/mask/_08_h_2_132.png (deflated 29%)\n",
            "  adding: hrf_256_256_dice_loss_hvr_2/split_2/train/mask/_14_h_0_51.png (deflated 24%)\n",
            "  adding: hrf_256_256_dice_loss_hvr_2/split_2/train/mask/_06_dr_3_1.png (deflated 85%)\n",
            "  adding: hrf_256_256_dice_loss_hvr_2/split_2/train/mask/_13_g_3_60.png (deflated 18%)\n",
            "  adding: hrf_256_256_dice_loss_hvr_2/split_2/train/mask/_03_h_2_87.png (deflated 19%)\n",
            "  adding: hrf_256_256_dice_loss_hvr_2/split_2/train/mask/_11_h_3_59.png (deflated 32%)\n",
            "  adding: hrf_256_256_dice_loss_hvr_2/split_2/train/mask/_11_g_3_31.png (deflated 19%)\n",
            "  adding: hrf_256_256_dice_loss_hvr_2/split_2/train/mask/_11_g_2_89.png (deflated 25%)\n",
            "  adding: hrf_256_256_dice_loss_hvr_2/split_2/train/mask/_01_g_2_115.png (deflated 23%)\n",
            "  adding: hrf_256_256_dice_loss_hvr_2/split_2/train/mask/_07_h_1_21.png (deflated 21%)\n",
            "  adding: hrf_256_256_dice_loss_hvr_2/split_2/train/mask/_02_h_1_97.png (deflated 46%)\n",
            "  adding: hrf_256_256_dice_loss_hvr_2/split_2/train/mask/_14_dr_0_49.png (deflated 21%)\n",
            "  adding: hrf_256_256_dice_loss_hvr_2/split_2/train/mask/_13_g_0_28.png (deflated 85%)\n",
            "  adding: hrf_256_256_dice_loss_hvr_2/split_2/train/mask/_04_g_2_135.png (deflated 31%)\n",
            "  adding: hrf_256_256_dice_loss_hvr_2/split_2/train/mask/_03_dr_3_48.png (deflated 31%)\n",
            "  adding: hrf_256_256_dice_loss_hvr_2/split_2/train/mask/_02_dr_3_17.png (deflated 24%)\n",
            "  adding: hrf_256_256_dice_loss_hvr_2/split_2/train/mask/_09_g_0_65.png (deflated 31%)\n",
            "  adding: hrf_256_256_dice_loss_hvr_2/split_2/train/mask/_04_h_0_75.png (deflated 19%)\n",
            "  adding: hrf_256_256_dice_loss_hvr_2/split_2/train/mask/_08_h_2_133.png (deflated 35%)\n",
            "  adding: hrf_256_256_dice_loss_hvr_2/split_2/train/mask/_01_dr_1_99.png (deflated 17%)\n",
            "  adding: hrf_256_256_dice_loss_hvr_2/split_2/train/mask/_13_h_2_22.png (deflated 24%)\n",
            "  adding: hrf_256_256_dice_loss_hvr_2/split_2/train/mask/_11_h_1_101.png (deflated 17%)\n",
            "  adding: hrf_256_256_dice_loss_hvr_2/split_2/train/mask/_06_dr_1_90.png (deflated 38%)\n",
            "  adding: hrf_256_256_dice_loss_hvr_2/split_2/train/mask/_01_dr_3_90.png (deflated 27%)\n",
            "  adding: hrf_256_256_dice_loss_hvr_2/split_2/train/mask/_11_h_3_44.png (deflated 23%)\n",
            "  adding: hrf_256_256_dice_loss_hvr_2/split_2/train/mask/_07_g_0_38.png (deflated 23%)\n",
            "  adding: hrf_256_256_dice_loss_hvr_2/split_2/train/mask/_09_g_2_65.png (deflated 29%)\n",
            "  adding: hrf_256_256_dice_loss_hvr_2/split_2/train/mask/_11_g_1_125.png (deflated 85%)\n",
            "  adding: hrf_256_256_dice_loss_hvr_2/split_2/train/mask/_03_h_2_30.png (deflated 25%)\n",
            "  adding: hrf_256_256_dice_loss_hvr_2/split_2/train/mask/_04_h_1_46.png (deflated 23%)\n",
            "  adding: hrf_256_256_dice_loss_hvr_2/split_2/train/mask/_08_h_3_43.png (deflated 23%)\n",
            "  adding: hrf_256_256_dice_loss_hvr_2/split_2/train/mask/_14_dr_0_50.png (deflated 26%)\n",
            "  adding: hrf_256_256_dice_loss_hvr_2/split_2/train/mask/_07_g_2_133.png (deflated 29%)\n",
            "  adding: hrf_256_256_dice_loss_hvr_2/split_2/train/mask/_14_dr_1_116.png (deflated 26%)\n",
            "  adding: hrf_256_256_dice_loss_hvr_2/split_2/train/mask/_10_dr_1_82.png (deflated 11%)\n",
            "  adding: hrf_256_256_dice_loss_hvr_2/split_2/train/mask/_13_g_1_71.png (deflated 21%)\n",
            "  adding: hrf_256_256_dice_loss_hvr_2/split_2/train/mask/_03_dr_3_130.png (deflated 35%)\n",
            "  adding: hrf_256_256_dice_loss_hvr_2/split_2/train/mask/_14_g_0_100.png (deflated 18%)\n",
            "  adding: hrf_256_256_dice_loss_hvr_2/split_2/train/mask/_14_g_2_88.png (deflated 21%)\n",
            "  adding: hrf_256_256_dice_loss_hvr_2/split_2/train/mask/_14_dr_2_56.png (deflated 74%)\n",
            "  adding: hrf_256_256_dice_loss_hvr_2/split_2/train/mask/_14_g_3_1.png (deflated 85%)\n",
            "  adding: hrf_256_256_dice_loss_hvr_2/split_2/train/mask/_15_dr_2_24.png (deflated 26%)\n",
            "  adding: hrf_256_256_dice_loss_hvr_2/split_2/train/mask/_03_dr_3_117.png (deflated 20%)\n",
            "  adding: hrf_256_256_dice_loss_hvr_2/split_2/train/mask/_11_g_0_130.png (deflated 30%)\n",
            "  adding: hrf_256_256_dice_loss_hvr_2/split_2/train/mask/_12_g_2_119.png (deflated 23%)\n",
            "  adding: hrf_256_256_dice_loss_hvr_2/split_2/train/mask/_11_g_0_8.png (deflated 28%)\n",
            "  adding: hrf_256_256_dice_loss_hvr_2/split_2/train/mask/_09_dr_3_115.png (deflated 19%)\n",
            "  adding: hrf_256_256_dice_loss_hvr_2/split_2/train/mask/_12_dr_0_57.png (deflated 28%)\n",
            "  adding: hrf_256_256_dice_loss_hvr_2/split_2/train/mask/_01_g_0_63.png (deflated 31%)\n",
            "  adding: hrf_256_256_dice_loss_hvr_2/split_2/train/mask/_03_h_0_87.png (deflated 19%)\n",
            "  adding: hrf_256_256_dice_loss_hvr_2/split_2/train/mask/_07_h_3_97.png (deflated 41%)\n",
            "  adding: hrf_256_256_dice_loss_hvr_2/split_2/train/mask/_05_h_3_82.png (deflated 15%)\n",
            "  adding: hrf_256_256_dice_loss_hvr_2/split_2/train/mask/_14_h_2_28.png (deflated 85%)\n",
            "  adding: hrf_256_256_dice_loss_hvr_2/split_2/train/mask/_13_h_0_21.png (deflated 18%)\n",
            "  adding: hrf_256_256_dice_loss_hvr_2/split_2/train/mask/_06_dr_3_107.png (deflated 23%)\n",
            "  adding: hrf_256_256_dice_loss_hvr_2/split_2/train/mask/_11_g_3_34.png (deflated 20%)\n",
            "  adding: hrf_256_256_dice_loss_hvr_2/split_2/train/mask/_04_h_0_68.png (deflated 21%)\n",
            "  adding: hrf_256_256_dice_loss_hvr_2/split_2/train/mask/_05_h_2_53.png (deflated 28%)\n",
            "  adding: hrf_256_256_dice_loss_hvr_2/split_2/train/mask/_14_g_2_29.png (deflated 35%)\n",
            "  adding: hrf_256_256_dice_loss_hvr_2/split_2/train/mask/_11_g_1_31.png (deflated 25%)\n",
            "  adding: hrf_256_256_dice_loss_hvr_2/split_2/train/mask/_13_h_2_117.png (deflated 18%)\n",
            "  adding: hrf_256_256_dice_loss_hvr_2/split_2/train/mask/_02_h_1_1.png (deflated 84%)\n",
            "  adding: hrf_256_256_dice_loss_hvr_2/split_2/train/mask/_04_g_2_87.png (deflated 25%)\n",
            "  adding: hrf_256_256_dice_loss_hvr_2/split_2/train/mask/_03_h_0_11.png (deflated 41%)\n",
            "  adding: hrf_256_256_dice_loss_hvr_2/split_2/train/mask/_14_h_3_94.png (deflated 25%)\n",
            "  adding: hrf_256_256_dice_loss_hvr_2/split_2/train/mask/_12_g_3_72.png (deflated 32%)\n",
            "  adding: hrf_256_256_dice_loss_hvr_2/split_2/train/mask/_06_dr_2_27.png (deflated 85%)\n",
            "  adding: hrf_256_256_dice_loss_hvr_2/split_2/train/mask/_15_dr_2_35.png (deflated 27%)\n",
            "  adding: hrf_256_256_dice_loss_hvr_2/split_2/train/mask/_01_g_0_126.png (deflated 85%)\n",
            "  adding: hrf_256_256_dice_loss_hvr_2/split_2/train/mask/_14_g_1_20.png (deflated 17%)\n",
            "  adding: hrf_256_256_dice_loss_hvr_2/split_2/train/mask/_10_dr_0_114.png (deflated 28%)\n",
            "  adding: hrf_256_256_dice_loss_hvr_2/split_2/train/mask/_04_g_0_82.png (deflated 30%)\n",
            "  adding: hrf_256_256_dice_loss_hvr_2/split_2/train/mask/_14_dr_2_91.png (deflated 22%)\n",
            "  adding: hrf_256_256_dice_loss_hvr_2/split_2/train/mask/_11_g_1_61.png (deflated 22%)\n",
            "  adding: hrf_256_256_dice_loss_hvr_2/split_2/train/mask/_06_dr_0_5.png (deflated 85%)\n",
            "  adding: hrf_256_256_dice_loss_hvr_2/split_2/train/mask/_07_h_2_24.png (deflated 39%)\n",
            "  adding: hrf_256_256_dice_loss_hvr_2/split_2/train/mask/_07_h_2_69.png (deflated 42%)\n",
            "  adding: hrf_256_256_dice_loss_hvr_2/split_2/train/mask/_04_h_1_63.png (deflated 22%)\n",
            "  adding: hrf_256_256_dice_loss_hvr_2/split_2/train/mask/_14_h_2_67.png (deflated 21%)\n",
            "  adding: hrf_256_256_dice_loss_hvr_2/split_2/train/mask/_14_g_2_116.png (deflated 20%)\n",
            "  adding: hrf_256_256_dice_loss_hvr_2/split_2/train/mask/_04_h_3_134.png (deflated 42%)\n",
            "  adding: hrf_256_256_dice_loss_hvr_2/split_2/train/mask/_10_g_0_42.png (deflated 58%)\n",
            "  adding: hrf_256_256_dice_loss_hvr_2/split_2/train/mask/_01_g_3_12.png (deflated 85%)\n",
            "  adding: hrf_256_256_dice_loss_hvr_2/split_2/train/mask/_04_g_1_22.png (deflated 16%)\n",
            "  adding: hrf_256_256_dice_loss_hvr_2/split_2/train/mask/_13_h_1_136.png (deflated 30%)\n",
            "  adding: hrf_256_256_dice_loss_hvr_2/split_2/train/mask/_02_h_3_88.png (deflated 30%)\n",
            "  adding: hrf_256_256_dice_loss_hvr_2/split_2/train/mask/_07_g_0_12.png (deflated 79%)\n",
            "  adding: hrf_256_256_dice_loss_hvr_2/split_2/train/mask/_15_dr_0_2.png (deflated 51%)\n",
            "  adding: hrf_256_256_dice_loss_hvr_2/split_2/train/mask/_03_h_1_28.png (deflated 85%)\n",
            "  adding: hrf_256_256_dice_loss_hvr_2/split_2/train/mask/_11_g_3_107.png (deflated 23%)\n",
            "  adding: hrf_256_256_dice_loss_hvr_2/split_2/train/mask/_10_g_3_77.png (deflated 24%)\n",
            "  adding: hrf_256_256_dice_loss_hvr_2/split_2/train/mask/_14_h_0_64.png (deflated 24%)\n",
            "  adding: hrf_256_256_dice_loss_hvr_2/split_2/train/mask/_02_h_3_119.png (deflated 15%)\n",
            "  adding: hrf_256_256_dice_loss_hvr_2/split_2/train/mask/_09_g_0_16.png (deflated 24%)\n",
            "  adding: hrf_256_256_dice_loss_hvr_2/split_2/train/mask/_04_h_3_73.png (deflated 26%)\n",
            "  adding: hrf_256_256_dice_loss_hvr_2/split_2/train/mask/_11_g_1_57.png (deflated 22%)\n",
            "  adding: hrf_256_256_dice_loss_hvr_2/split_2/train/mask/_15_dr_0_100.png (deflated 28%)\n",
            "  adding: hrf_256_256_dice_loss_hvr_2/split_2/train/mask/_04_g_1_121.png (deflated 30%)\n",
            "  adding: hrf_256_256_dice_loss_hvr_2/split_2/train/mask/_13_g_1_115.png (deflated 28%)\n",
            "  adding: hrf_256_256_dice_loss_hvr_2/split_2/train/mask/_12_g_2_135.png (deflated 48%)\n",
            "  adding: hrf_256_256_dice_loss_hvr_2/split_2/train/mask/_02_dr_2_13.png (deflated 85%)\n",
            "  adding: hrf_256_256_dice_loss_hvr_2/split_2/train/mask/_10_dr_1_105.png (deflated 22%)\n",
            "  adding: hrf_256_256_dice_loss_hvr_2/split_2/train/mask/_07_h_0_54.png (deflated 21%)\n",
            "  adding: hrf_256_256_dice_loss_hvr_2/split_2/train/mask/_10_dr_2_138.png (deflated 72%)\n",
            "  adding: hrf_256_256_dice_loss_hvr_2/split_2/train/mask/_03_h_3_76.png (deflated 22%)\n",
            "  adding: hrf_256_256_dice_loss_hvr_2/split_2/train/mask/_04_g_2_0.png (deflated 85%)\n",
            "  adding: hrf_256_256_dice_loss_hvr_2/split_2/train/mask/_09_dr_2_138.png (deflated 85%)\n",
            "  adding: hrf_256_256_dice_loss_hvr_2/split_2/train/mask/_03_h_2_132.png (deflated 35%)\n",
            "  adding: hrf_256_256_dice_loss_hvr_2/split_2/train/mask/_08_h_1_34.png (deflated 19%)\n",
            "  adding: hrf_256_256_dice_loss_hvr_2/split_2/train/mask/_07_g_0_111.png (deflated 85%)\n",
            "  adding: hrf_256_256_dice_loss_hvr_2/split_2/train/mask/_12_g_3_26.png (deflated 24%)\n",
            "  adding: hrf_256_256_dice_loss_hvr_2/split_2/train/mask/_14_h_1_97.png (deflated 40%)\n",
            "  adding: hrf_256_256_dice_loss_hvr_2/split_2/train/mask/_04_h_3_33.png (deflated 16%)\n",
            "  adding: hrf_256_256_dice_loss_hvr_2/split_2/train/mask/_03_h_2_0.png (deflated 85%)\n",
            "  adding: hrf_256_256_dice_loss_hvr_2/split_2/train/mask/_14_g_2_28.png (deflated 85%)\n",
            "  adding: hrf_256_256_dice_loss_hvr_2/split_2/train/mask/_04_h_2_120.png (deflated 20%)\n",
            "  adding: hrf_256_256_dice_loss_hvr_2/split_2/train/mask/_03_h_1_99.png (deflated 16%)\n",
            "  adding: hrf_256_256_dice_loss_hvr_2/split_2/train/mask/_09_dr_2_116.png (deflated 21%)\n",
            "  adding: hrf_256_256_dice_loss_hvr_2/split_2/train/mask/_14_h_0_48.png (deflated 18%)\n",
            "  adding: hrf_256_256_dice_loss_hvr_2/split_2/train/mask/_15_dr_1_105.png (deflated 18%)\n",
            "  adding: hrf_256_256_dice_loss_hvr_2/split_2/train/mask/_11_g_1_26.png (deflated 50%)\n",
            "  adding: hrf_256_256_dice_loss_hvr_2/split_2/train/mask/_02_dr_0_20.png (deflated 13%)\n",
            "  adding: hrf_256_256_dice_loss_hvr_2/split_2/train/mask/_07_h_2_25.png (deflated 35%)\n",
            "  adding: hrf_256_256_dice_loss_hvr_2/split_2/train/mask/_13_h_3_105.png (deflated 23%)\n",
            "  adding: hrf_256_256_dice_loss_hvr_2/split_2/train/mask/_03_dr_0_68.png (deflated 42%)\n",
            "  adding: hrf_256_256_dice_loss_hvr_2/split_2/train/mask/_08_h_1_51.png (deflated 14%)\n",
            "  adding: hrf_256_256_dice_loss_hvr_2/split_2/train/mask/_04_g_0_73.png (deflated 24%)\n",
            "  adding: hrf_256_256_dice_loss_hvr_2/split_2/train/mask/_14_dr_0_10.png (deflated 32%)\n",
            "  adding: hrf_256_256_dice_loss_hvr_2/split_2/train/mask/_12_dr_0_40.png (deflated 15%)\n",
            "  adding: hrf_256_256_dice_loss_hvr_2/split_2/train/mask/_01_dr_2_23.png (deflated 24%)\n",
            "  adding: hrf_256_256_dice_loss_hvr_2/split_2/train/mask/_01_g_3_44.png (deflated 16%)\n",
            "  adding: hrf_256_256_dice_loss_hvr_2/split_2/train/mask/_01_g_3_111.png (deflated 85%)\n",
            "  adding: hrf_256_256_dice_loss_hvr_2/split_2/train/mask/_05_h_2_68.png (deflated 18%)\n",
            "  adding: hrf_256_256_dice_loss_hvr_2/split_2/train/mask/_14_g_1_53.png (deflated 35%)\n",
            "  adding: hrf_256_256_dice_loss_hvr_2/split_2/train/mask/_06_dr_1_50.png (deflated 32%)\n",
            "  adding: hrf_256_256_dice_loss_hvr_2/split_2/train/mask/_07_h_1_28.png (deflated 71%)\n",
            "  adding: hrf_256_256_dice_loss_hvr_2/split_2/train/mask/_14_h_3_68.png (deflated 24%)\n",
            "  adding: hrf_256_256_dice_loss_hvr_2/split_2/train/mask/_11_g_2_77.png (deflated 28%)\n",
            "  adding: hrf_256_256_dice_loss_hvr_2/split_2/train/mask/_01_dr_2_100.png (deflated 33%)\n",
            "  adding: hrf_256_256_dice_loss_hvr_2/split_2/train/mask/_06_dr_3_40.png (deflated 20%)\n",
            "  adding: hrf_256_256_dice_loss_hvr_2/split_2/train/mask/_09_g_3_43.png (deflated 23%)\n",
            "  adding: hrf_256_256_dice_loss_hvr_2/split_2/train/mask/_09_dr_2_71.png (deflated 37%)\n",
            "  adding: hrf_256_256_dice_loss_hvr_2/split_2/train/mask/_01_dr_3_53.png (deflated 34%)\n",
            "  adding: hrf_256_256_dice_loss_hvr_2/split_2/train/mask/_14_dr_2_105.png (deflated 22%)\n",
            "  adding: hrf_256_256_dice_loss_hvr_2/split_2/train/mask/_04_g_1_17.png (deflated 40%)\n",
            "  adding: hrf_256_256_dice_loss_hvr_2/split_2/train/mask/_04_g_1_123.png (deflated 20%)\n",
            "  adding: hrf_256_256_dice_loss_hvr_2/split_2/train/mask/_04_h_0_102.png (deflated 17%)\n",
            "  adding: hrf_256_256_dice_loss_hvr_2/split_2/train/mask/_10_g_1_92.png (deflated 23%)\n",
            "  adding: hrf_256_256_dice_loss_hvr_2/split_2/train/mask/_11_g_2_84.png (deflated 55%)\n",
            "  adding: hrf_256_256_dice_loss_hvr_2/split_2/train/mask/_13_g_3_52.png (deflated 19%)\n",
            "  adding: hrf_256_256_dice_loss_hvr_2/split_2/train/mask/_01_dr_1_45.png (deflated 21%)\n",
            "  adding: hrf_256_256_dice_loss_hvr_2/split_2/train/mask/_02_h_3_28.png (deflated 85%)\n",
            "  adding: hrf_256_256_dice_loss_hvr_2/split_2/train/mask/_04_h_0_4.png (deflated 33%)\n",
            "  adding: hrf_256_256_dice_loss_hvr_2/split_2/train/mask/_14_h_2_50.png (deflated 20%)\n",
            "  adding: hrf_256_256_dice_loss_hvr_2/split_2/train/mask/_10_g_1_28.png (deflated 85%)\n",
            "  adding: hrf_256_256_dice_loss_hvr_2/split_2/train/mask/_14_dr_2_78.png (deflated 32%)\n",
            "  adding: hrf_256_256_dice_loss_hvr_2/split_2/train/mask/_14_g_0_129.png (deflated 33%)\n",
            "  adding: hrf_256_256_dice_loss_hvr_2/split_2/train/mask/_15_dr_3_38.png (deflated 24%)\n",
            "  adding: hrf_256_256_dice_loss_hvr_2/split_2/train/mask/_14_dr_1_73.png (deflated 29%)\n",
            "  adding: hrf_256_256_dice_loss_hvr_2/split_2/train/mask/_04_h_2_112.png (deflated 85%)\n",
            "  adding: hrf_256_256_dice_loss_hvr_2/split_2/train/mask/_14_dr_0_62.png (deflated 21%)\n",
            "  adding: hrf_256_256_dice_loss_hvr_2/split_2/train/mask/_09_g_1_39.png (deflated 28%)\n",
            "  adding: hrf_256_256_dice_loss_hvr_2/split_2/train/mask/_12_g_0_94.png (deflated 27%)\n",
            "  adding: hrf_256_256_dice_loss_hvr_2/split_2/train/mask/_15_dr_3_96.png (deflated 24%)\n",
            "  adding: hrf_256_256_dice_loss_hvr_2/split_2/train/mask/_09_dr_2_25.png (deflated 43%)\n",
            "  adding: hrf_256_256_dice_loss_hvr_2/split_2/train/mask/_09_g_2_103.png (deflated 20%)\n",
            "  adding: hrf_256_256_dice_loss_hvr_2/split_2/train/mask/_02_h_2_42.png (deflated 54%)\n",
            "  adding: hrf_256_256_dice_loss_hvr_2/split_2/train/mask/_04_g_1_26.png (deflated 25%)\n",
            "  adding: hrf_256_256_dice_loss_hvr_2/split_2/train/mask/_12_g_3_15.png (deflated 45%)\n",
            "  adding: hrf_256_256_dice_loss_hvr_2/split_2/train/mask/_07_h_3_50.png (deflated 28%)\n",
            "  adding: hrf_256_256_dice_loss_hvr_2/split_2/train/mask/_07_h_1_116.png (deflated 19%)\n",
            "  adding: hrf_256_256_dice_loss_hvr_2/split_2/train/mask/_10_dr_0_115.png (deflated 23%)\n",
            "  adding: hrf_256_256_dice_loss_hvr_2/split_2/train/mask/_03_h_1_36.png (deflated 20%)\n",
            "  adding: hrf_256_256_dice_loss_hvr_2/split_2/train/mask/_11_g_2_81.png (deflated 17%)\n",
            "  adding: hrf_256_256_dice_loss_hvr_2/split_2/train/mask/_03_h_1_25.png (deflated 17%)\n",
            "  adding: hrf_256_256_dice_loss_hvr_2/split_2/train/mask/_02_h_2_22.png (deflated 21%)\n",
            "  adding: hrf_256_256_dice_loss_hvr_2/split_2/train/mask/_08_h_0_132.png (deflated 43%)\n",
            "  adding: hrf_256_256_dice_loss_hvr_2/split_2/train/mask/_04_h_0_53.png (deflated 34%)\n",
            "  adding: hrf_256_256_dice_loss_hvr_2/split_2/train/mask/_03_h_2_105.png (deflated 19%)\n",
            "  adding: hrf_256_256_dice_loss_hvr_2/split_2/train/mask/_12_dr_0_114.png (deflated 40%)\n",
            "  adding: hrf_256_256_dice_loss_hvr_2/split_2/train/mask/_01_g_2_89.png (deflated 21%)\n",
            "  adding: hrf_256_256_dice_loss_hvr_2/split_2/train/mask/_10_dr_1_92.png (deflated 18%)\n",
            "  adding: hrf_256_256_dice_loss_hvr_2/split_2/train/mask/_07_h_3_91.png (deflated 23%)\n",
            "  adding: hrf_256_256_dice_loss_hvr_2/split_2/train/mask/_09_dr_3_19.png (deflated 34%)\n",
            "  adding: hrf_256_256_dice_loss_hvr_2/split_2/train/mask/_08_h_2_51.png (deflated 23%)\n",
            "  adding: hrf_256_256_dice_loss_hvr_2/split_2/train/mask/_14_h_3_6.png (deflated 47%)\n",
            "  adding: hrf_256_256_dice_loss_hvr_2/split_2/train/mask/_15_dr_0_25.png (deflated 38%)\n",
            "  adding: hrf_256_256_dice_loss_hvr_2/split_2/train/mask/_04_h_0_35.png (deflated 19%)\n",
            "  adding: hrf_256_256_dice_loss_hvr_2/split_2/train/mask/_02_dr_0_85.png (deflated 27%)\n",
            "  adding: hrf_256_256_dice_loss_hvr_2/split_2/train/mask/_12_dr_2_7.png (deflated 28%)\n",
            "  adding: hrf_256_256_dice_loss_hvr_2/split_2/train/mask/_10_g_3_29.png (deflated 26%)\n",
            "  adding: hrf_256_256_dice_loss_hvr_2/split_2/train/mask/_10_dr_1_83.png (deflated 41%)\n",
            "  adding: hrf_256_256_dice_loss_hvr_2/split_2/train/mask/_02_dr_2_46.png (deflated 27%)\n",
            "  adding: hrf_256_256_dice_loss_hvr_2/split_2/train/mask/_11_h_2_86.png (deflated 18%)\n",
            "  adding: hrf_256_256_dice_loss_hvr_2/split_2/train/mask/_03_h_3_101.png (deflated 28%)\n",
            "  adding: hrf_256_256_dice_loss_hvr_2/split_2/train/mask/_03_h_2_134.png (deflated 30%)\n",
            "  adding: hrf_256_256_dice_loss_hvr_2/split_2/train/mask/_13_h_1_54.png (deflated 31%)\n",
            "  adding: hrf_256_256_dice_loss_hvr_2/split_2/train/mask/_09_g_3_87.png (deflated 24%)\n",
            "  adding: hrf_256_256_dice_loss_hvr_2/split_2/train/mask/_12_dr_1_49.png (deflated 22%)\n",
            "  adding: hrf_256_256_dice_loss_hvr_2/split_2/train/mask/_09_g_0_122.png (deflated 29%)\n",
            "  adding: hrf_256_256_dice_loss_hvr_2/split_2/train/mask/_14_dr_3_103.png (deflated 18%)\n",
            "  adding: hrf_256_256_dice_loss_hvr_2/split_2/train/mask/_08_h_2_38.png (deflated 33%)\n",
            "  adding: hrf_256_256_dice_loss_hvr_2/split_2/train/mask/_13_h_3_6.png (deflated 37%)\n",
            "  adding: hrf_256_256_dice_loss_hvr_2/split_2/train/mask/_14_h_3_98.png (deflated 85%)\n",
            "  adding: hrf_256_256_dice_loss_hvr_2/split_2/train/mask/_12_g_2_75.png (deflated 19%)\n",
            "  adding: hrf_256_256_dice_loss_hvr_2/split_2/train/mask/_11_g_3_77.png (deflated 23%)\n",
            "  adding: hrf_256_256_dice_loss_hvr_2/split_2/train/mask/_09_dr_2_6.png (deflated 36%)\n",
            "  adding: hrf_256_256_dice_loss_hvr_2/split_2/train/mask/_10_g_3_78.png (deflated 32%)\n",
            "  adding: hrf_256_256_dice_loss_hvr_2/split_2/train/mask/_14_dr_0_22.png (deflated 22%)\n",
            "  adding: hrf_256_256_dice_loss_hvr_2/split_2/train/mask/_04_h_0_66.png (deflated 23%)\n",
            "  adding: hrf_256_256_dice_loss_hvr_2/split_2/train/mask/_02_h_2_47.png (deflated 12%)\n",
            "  adding: hrf_256_256_dice_loss_hvr_2/split_2/train/mask/_12_g_2_48.png (deflated 19%)\n",
            "  adding: hrf_256_256_dice_loss_hvr_2/split_2/train/mask/_10_dr_3_91.png (deflated 26%)\n",
            "  adding: hrf_256_256_dice_loss_hvr_2/split_2/train/mask/_11_g_1_75.png (deflated 21%)\n",
            "  adding: hrf_256_256_dice_loss_hvr_2/split_2/train/mask/_03_h_2_99.png (deflated 31%)\n",
            "  adding: hrf_256_256_dice_loss_hvr_2/split_2/train/mask/_02_dr_0_69.png (deflated 40%)\n",
            "  adding: hrf_256_256_dice_loss_hvr_2/split_2/train/mask/_01_dr_0_3.png (deflated 34%)\n",
            "  adding: hrf_256_256_dice_loss_hvr_2/split_2/train/mask/_09_g_1_41.png (deflated 85%)\n",
            "  adding: hrf_256_256_dice_loss_hvr_2/split_2/train/mask/_11_h_1_61.png (deflated 18%)\n",
            "  adding: hrf_256_256_dice_loss_hvr_2/split_2/train/mask/_12_dr_3_116.png (deflated 29%)\n",
            "  adding: hrf_256_256_dice_loss_hvr_2/split_2/train/mask/_07_g_3_110.png (deflated 26%)\n",
            "  adding: hrf_256_256_dice_loss_hvr_2/split_2/train/mask/_03_dr_1_104.png (deflated 28%)\n",
            "  adding: hrf_256_256_dice_loss_hvr_2/split_2/train/mask/_01_dr_2_49.png (deflated 22%)\n",
            "  adding: hrf_256_256_dice_loss_hvr_2/split_2/train/mask/_09_g_2_2.png (deflated 32%)\n",
            "  adding: hrf_256_256_dice_loss_hvr_2/split_2/train/mask/_10_dr_3_56.png (deflated 34%)\n",
            "  adding: hrf_256_256_dice_loss_hvr_2/split_2/train/mask/_02_h_0_5.png (deflated 45%)\n",
            "  adding: hrf_256_256_dice_loss_hvr_2/split_2/train/mask/_04_h_2_126.png (deflated 85%)\n",
            "  adding: hrf_256_256_dice_loss_hvr_2/split_2/train/mask/_03_dr_3_93.png (deflated 26%)\n",
            "  adding: hrf_256_256_dice_loss_hvr_2/split_2/train/mask/_14_dr_0_65.png (deflated 31%)\n",
            "  adding: hrf_256_256_dice_loss_hvr_2/split_2/train/mask/_10_dr_1_88.png (deflated 27%)\n",
            "  adding: hrf_256_256_dice_loss_hvr_2/split_2/train/mask/_02_h_3_14.png (deflated 85%)\n",
            "  adding: hrf_256_256_dice_loss_hvr_2/split_2/train/mask/_08_h_3_66.png (deflated 22%)\n",
            "  adding: hrf_256_256_dice_loss_hvr_2/split_2/train/mask/_12_dr_1_103.png (deflated 28%)\n",
            "  adding: hrf_256_256_dice_loss_hvr_2/split_2/train/mask/_07_g_3_116.png (deflated 21%)\n",
            "  adding: hrf_256_256_dice_loss_hvr_2/split_2/train/mask/_01_g_1_108.png (deflated 15%)\n",
            "  adding: hrf_256_256_dice_loss_hvr_2/split_2/train/mask/_02_dr_2_130.png (deflated 37%)\n",
            "  adding: hrf_256_256_dice_loss_hvr_2/split_2/train/mask/_01_dr_0_83.png (deflated 36%)\n",
            "  adding: hrf_256_256_dice_loss_hvr_2/split_2/train/mask/_12_g_0_11.png (deflated 42%)\n",
            "  adding: hrf_256_256_dice_loss_hvr_2/split_2/train/mask/_06_dr_1_23.png (deflated 16%)\n",
            "  adding: hrf_256_256_dice_loss_hvr_2/split_2/train/mask/_07_g_3_50.png (deflated 21%)\n",
            "  adding: hrf_256_256_dice_loss_hvr_2/split_2/train/mask/_11_h_1_60.png (deflated 16%)\n",
            "  adding: hrf_256_256_dice_loss_hvr_2/split_2/train/mask/_14_h_3_136.png (deflated 28%)\n",
            "  adding: hrf_256_256_dice_loss_hvr_2/split_2/train/mask/_08_h_1_73.png (deflated 20%)\n",
            "  adding: hrf_256_256_dice_loss_hvr_2/split_2/train/mask/_09_dr_0_35.png (deflated 14%)\n",
            "  adding: hrf_256_256_dice_loss_hvr_2/split_2/train/mask/_15_dr_2_125.png (deflated 85%)\n",
            "  adding: hrf_256_256_dice_loss_hvr_2/split_2/train/mask/_04_g_3_74.png (deflated 24%)\n",
            "  adding: hrf_256_256_dice_loss_hvr_2/split_2/train/mask/_03_dr_2_35.png (deflated 26%)\n",
            "  adding: hrf_256_256_dice_loss_hvr_2/split_2/train/mask/_14_h_3_82.png (deflated 37%)\n",
            "  adding: hrf_256_256_dice_loss_hvr_2/split_2/train/mask/_03_h_1_10.png (deflated 42%)\n",
            "  adding: hrf_256_256_dice_loss_hvr_2/split_2/train/mask/_07_h_2_37.png (deflated 15%)\n",
            "  adding: hrf_256_256_dice_loss_hvr_2/split_2/train/mask/_14_h_0_31.png (deflated 30%)\n",
            "  adding: hrf_256_256_dice_loss_hvr_2/split_2/train/mask/_14_dr_2_32.png (deflated 18%)\n",
            "  adding: hrf_256_256_dice_loss_hvr_2/split_2/train/mask/_08_h_3_122.png (deflated 20%)\n",
            "  adding: hrf_256_256_dice_loss_hvr_2/split_2/train/mask/_02_h_0_127.png (deflated 85%)\n",
            "  adding: hrf_256_256_dice_loss_hvr_2/split_2/train/mask/_08_h_3_27.png (deflated 38%)\n",
            "  adding: hrf_256_256_dice_loss_hvr_2/split_2/train/mask/_09_dr_0_44.png (deflated 20%)\n",
            "  adding: hrf_256_256_dice_loss_hvr_2/split_2/train/mask/_12_dr_3_36.png (deflated 28%)\n",
            "  adding: hrf_256_256_dice_loss_hvr_2/split_2/train/mask/_08_h_0_28.png (deflated 85%)\n",
            "  adding: hrf_256_256_dice_loss_hvr_2/split_2/train/mask/_14_g_1_24.png (deflated 34%)\n",
            "  adding: hrf_256_256_dice_loss_hvr_2/split_2/train/mask/_07_h_3_28.png (deflated 85%)\n",
            "  adding: hrf_256_256_dice_loss_hvr_2/split_2/train/mask/_09_g_3_113.png (deflated 28%)\n",
            "  adding: hrf_256_256_dice_loss_hvr_2/split_2/train/mask/_05_h_3_24.png (deflated 28%)\n",
            "  adding: hrf_256_256_dice_loss_hvr_2/split_2/train/mask/_01_g_1_91.png (deflated 31%)\n",
            "  adding: hrf_256_256_dice_loss_hvr_2/split_2/train/mask/_02_dr_1_105.png (deflated 14%)\n",
            "  adding: hrf_256_256_dice_loss_hvr_2/split_2/train/mask/_01_g_1_97.png (deflated 40%)\n",
            "  adding: hrf_256_256_dice_loss_hvr_2/split_2/train/mask/_10_g_0_38.png (deflated 45%)\n",
            "  adding: hrf_256_256_dice_loss_hvr_2/split_2/train/mask/_04_h_2_96.png (deflated 13%)\n",
            "  adding: hrf_256_256_dice_loss_hvr_2/split_2/train/mask/_09_g_2_15.png (deflated 34%)\n",
            "  adding: hrf_256_256_dice_loss_hvr_2/split_2/train/mask/_11_g_1_3.png (deflated 31%)\n",
            "  adding: hrf_256_256_dice_loss_hvr_2/split_2/train/mask/_14_h_3_91.png (deflated 17%)\n",
            "  adding: hrf_256_256_dice_loss_hvr_2/split_2/train/mask/_04_h_1_12.png (deflated 85%)\n",
            "  adding: hrf_256_256_dice_loss_hvr_2/split_2/train/mask/_13_g_0_23.png (deflated 30%)\n",
            "  adding: hrf_256_256_dice_loss_hvr_2/split_2/train/mask/_05_h_1_102.png (deflated 18%)\n",
            "  adding: hrf_256_256_dice_loss_hvr_2/split_2/train/mask/_12_dr_0_65.png (deflated 22%)\n",
            "  adding: hrf_256_256_dice_loss_hvr_2/split_2/train/mask/_13_g_3_84.png (deflated 85%)\n",
            "  adding: hrf_256_256_dice_loss_hvr_2/split_2/train/mask/_11_h_0_108.png (deflated 16%)\n",
            "  adding: hrf_256_256_dice_loss_hvr_2/split_2/train/mask/_14_dr_2_68.png (deflated 26%)\n",
            "  adding: hrf_256_256_dice_loss_hvr_2/split_2/train/mask/_14_h_3_61.png (deflated 21%)\n",
            "  adding: hrf_256_256_dice_loss_hvr_2/split_2/train/mask/_02_dr_1_113.png (deflated 23%)\n",
            "  adding: hrf_256_256_dice_loss_hvr_2/split_2/train/mask/_03_h_0_5.png (deflated 33%)\n",
            "  adding: hrf_256_256_dice_loss_hvr_2/split_2/train/mask/_03_h_0_25.png (deflated 20%)\n",
            "  adding: hrf_256_256_dice_loss_hvr_2/split_2/train/mask/_14_dr_3_79.png (deflated 29%)\n",
            "  adding: hrf_256_256_dice_loss_hvr_2/split_2/train/mask/_03_h_1_103.png (deflated 21%)\n",
            "  adding: hrf_256_256_dice_loss_hvr_2/split_2/train/mask/_10_g_3_91.png (deflated 26%)\n",
            "  adding: hrf_256_256_dice_loss_hvr_2/split_2/train/mask/_11_g_1_69.png (deflated 28%)\n",
            "  adding: hrf_256_256_dice_loss_hvr_2/split_2/train/mask/_14_dr_3_51.png (deflated 32%)\n",
            "  adding: hrf_256_256_dice_loss_hvr_2/split_2/train/mask/_09_g_2_6.png (deflated 31%)\n",
            "  adding: hrf_256_256_dice_loss_hvr_2/split_2/train/mask/_08_h_2_58.png (deflated 20%)\n",
            "  adding: hrf_256_256_dice_loss_hvr_2/split_2/train/mask/_13_g_3_48.png (deflated 21%)\n",
            "  adding: hrf_256_256_dice_loss_hvr_2/split_2/train/mask/_08_h_3_31.png (deflated 36%)\n",
            "  adding: hrf_256_256_dice_loss_hvr_2/split_2/train/mask/_14_h_1_20.png (deflated 14%)\n",
            "  adding: hrf_256_256_dice_loss_hvr_2/split_2/train/mask/_12_dr_0_46.png (deflated 25%)\n",
            "  adding: hrf_256_256_dice_loss_hvr_2/split_2/train/mask/_02_dr_1_111.png (deflated 85%)\n",
            "  adding: hrf_256_256_dice_loss_hvr_2/split_2/train/mask/_04_h_2_98.png (deflated 85%)\n",
            "  adding: hrf_256_256_dice_loss_hvr_2/split_2/train/mask/_10_dr_1_139.png (deflated 85%)\n",
            "  adding: hrf_256_256_dice_loss_hvr_2/split_2/train/mask/_07_h_3_42.png (deflated 85%)\n",
            "  adding: hrf_256_256_dice_loss_hvr_2/split_2/train/mask/_02_dr_1_37.png (deflated 20%)\n",
            "  adding: hrf_256_256_dice_loss_hvr_2/split_2/train/mask/_14_h_0_133.png (deflated 27%)\n",
            "  adding: hrf_256_256_dice_loss_hvr_2/split_2/train/mask/_07_g_1_10.png (deflated 34%)\n",
            "  adding: hrf_256_256_dice_loss_hvr_2/split_2/train/mask/_03_h_1_119.png (deflated 29%)\n",
            "  adding: hrf_256_256_dice_loss_hvr_2/split_2/train/mask/_12_g_1_117.png (deflated 21%)\n",
            "  adding: hrf_256_256_dice_loss_hvr_2/split_2/train/mask/_10_g_1_46.png (deflated 22%)\n",
            "  adding: hrf_256_256_dice_loss_hvr_2/split_2/train/mask/_05_h_1_122.png (deflated 29%)\n",
            "  adding: hrf_256_256_dice_loss_hvr_2/split_2/train/mask/_12_dr_0_132.png (deflated 28%)\n",
            "  adding: hrf_256_256_dice_loss_hvr_2/split_2/train/mask/_09_g_1_9.png (deflated 32%)\n",
            "  adding: hrf_256_256_dice_loss_hvr_2/split_2/train/mask/_08_h_0_6.png (deflated 28%)\n",
            "  adding: hrf_256_256_dice_loss_hvr_2/split_2/train/mask/_07_h_2_122.png (deflated 22%)\n",
            "  adding: hrf_256_256_dice_loss_hvr_2/split_2/train/mask/_09_g_3_13.png (deflated 41%)\n",
            "  adding: hrf_256_256_dice_loss_hvr_2/split_2/train/mask/_01_dr_3_108.png (deflated 26%)\n",
            "  adding: hrf_256_256_dice_loss_hvr_2/split_2/train/mask/_10_g_2_122.png (deflated 28%)\n",
            "  adding: hrf_256_256_dice_loss_hvr_2/split_2/train/mask/_11_g_0_113.png (deflated 38%)\n",
            "  adding: hrf_256_256_dice_loss_hvr_2/split_2/train/mask/_01_g_1_30.png (deflated 30%)\n",
            "  adding: hrf_256_256_dice_loss_hvr_2/split_2/train/mask/_14_g_0_43.png (deflated 34%)\n",
            "  adding: hrf_256_256_dice_loss_hvr_2/split_2/train/mask/_02_dr_0_4.png (deflated 38%)\n",
            "  adding: hrf_256_256_dice_loss_hvr_2/split_2/train/mask/_08_h_1_69.png (deflated 76%)\n",
            "  adding: hrf_256_256_dice_loss_hvr_2/split_2/train/mask/_06_dr_0_59.png (deflated 27%)\n",
            "  adding: hrf_256_256_dice_loss_hvr_2/split_2/train/mask/_15_dr_0_59.png (deflated 27%)\n",
            "  adding: hrf_256_256_dice_loss_hvr_2/split_2/train/mask/_02_h_2_9.png (deflated 42%)\n",
            "  adding: hrf_256_256_dice_loss_hvr_2/split_2/train/mask/_07_h_3_20.png (deflated 23%)\n",
            "  adding: hrf_256_256_dice_loss_hvr_2/split_2/train/mask/_08_h_0_105.png (deflated 18%)\n",
            "  adding: hrf_256_256_dice_loss_hvr_2/split_2/train/mask/_09_g_3_55.png (deflated 23%)\n",
            "  adding: hrf_256_256_dice_loss_hvr_2/split_2/train/mask/_03_h_1_33.png (deflated 23%)\n",
            "  adding: hrf_256_256_dice_loss_hvr_2/split_2/train/mask/_05_h_2_35.png (deflated 29%)\n",
            "  adding: hrf_256_256_dice_loss_hvr_2/split_2/train/mask/_10_dr_3_6.png (deflated 27%)\n",
            "  adding: hrf_256_256_dice_loss_hvr_2/split_2/train/mask/_11_h_2_82.png (deflated 27%)\n",
            "  adding: hrf_256_256_dice_loss_hvr_2/split_2/train/mask/_14_g_0_41.png (deflated 85%)\n",
            "  adding: hrf_256_256_dice_loss_hvr_2/split_2/train/mask/_01_g_2_48.png (deflated 32%)\n",
            "  adding: hrf_256_256_dice_loss_hvr_2/split_2/train/mask/_14_g_0_57.png (deflated 23%)\n",
            "  adding: hrf_256_256_dice_loss_hvr_2/split_2/train/mask/_10_g_0_9.png (deflated 32%)\n",
            "  adding: hrf_256_256_dice_loss_hvr_2/split_2/train/mask/_02_dr_2_118.png (deflated 12%)\n",
            "  adding: hrf_256_256_dice_loss_hvr_2/split_2/train/mask/_07_h_1_88.png (deflated 21%)\n",
            "  adding: hrf_256_256_dice_loss_hvr_2/split_2/train/mask/_02_dr_0_6.png (deflated 41%)\n",
            "  adding: hrf_256_256_dice_loss_hvr_2/split_2/train/mask/_02_h_3_17.png (deflated 31%)\n",
            "  adding: hrf_256_256_dice_loss_hvr_2/split_2/train/mask/_07_h_1_95.png (deflated 29%)\n",
            "  adding: hrf_256_256_dice_loss_hvr_2/split_2/train/mask/_11_g_0_115.png (deflated 30%)\n",
            "  adding: hrf_256_256_dice_loss_hvr_2/split_2/train/mask/_05_h_2_89.png (deflated 24%)\n",
            "  adding: hrf_256_256_dice_loss_hvr_2/split_2/train/mask/_14_g_1_90.png (deflated 26%)\n",
            "  adding: hrf_256_256_dice_loss_hvr_2/split_2/train/mask/_13_g_3_80.png (deflated 24%)\n",
            "  adding: hrf_256_256_dice_loss_hvr_2/split_2/train/mask/_14_dr_2_128.png (deflated 60%)\n",
            "  adding: hrf_256_256_dice_loss_hvr_2/split_2/train/mask/_01_dr_1_66.png (deflated 25%)\n",
            "  adding: hrf_256_256_dice_loss_hvr_2/split_2/train/mask/_13_g_0_53.png (deflated 25%)\n",
            "  adding: hrf_256_256_dice_loss_hvr_2/split_2/train/mask/_01_g_3_62.png (deflated 29%)\n",
            "  adding: hrf_256_256_dice_loss_hvr_2/split_2/train/mask/_01_dr_3_64.png (deflated 31%)\n",
            "  adding: hrf_256_256_dice_loss_hvr_2/split_2/train/mask/_01_g_1_61.png (deflated 25%)\n",
            "  adding: hrf_256_256_dice_loss_hvr_2/split_2/train/mask/_07_g_0_40.png (deflated 34%)\n",
            "  adding: hrf_256_256_dice_loss_hvr_2/split_2/train/mask/_09_g_1_35.png (deflated 24%)\n",
            "  adding: hrf_256_256_dice_loss_hvr_2/split_2/train/mask/_09_dr_2_47.png (deflated 25%)\n",
            "  adding: hrf_256_256_dice_loss_hvr_2/split_2/train/mask/_09_dr_3_10.png (deflated 29%)\n",
            "  adding: hrf_256_256_dice_loss_hvr_2/split_2/train/mask/_14_dr_2_110.png (deflated 28%)\n",
            "  adding: hrf_256_256_dice_loss_hvr_2/split_2/train/mask/_08_h_2_33.png (deflated 19%)\n",
            "  adding: hrf_256_256_dice_loss_hvr_2/split_2/train/mask/_14_h_0_136.png (deflated 25%)\n",
            "  adding: hrf_256_256_dice_loss_hvr_2/split_2/train/mask/_05_h_3_104.png (deflated 34%)\n",
            "  adding: hrf_256_256_dice_loss_hvr_2/split_2/train/mask/_01_dr_3_75.png (deflated 27%)\n",
            "  adding: hrf_256_256_dice_loss_hvr_2/split_2/train/mask/_04_h_0_94.png (deflated 27%)\n",
            "  adding: hrf_256_256_dice_loss_hvr_2/split_2/train/mask/_10_dr_3_124.png (deflated 35%)\n",
            "  adding: hrf_256_256_dice_loss_hvr_2/split_2/train/mask/_14_h_3_134.png (deflated 33%)\n",
            "  adding: hrf_256_256_dice_loss_hvr_2/split_2/train/mask/_11_g_3_88.png (deflated 25%)\n",
            "  adding: hrf_256_256_dice_loss_hvr_2/split_2/train/mask/_14_h_1_25.png (deflated 24%)\n",
            "  adding: hrf_256_256_dice_loss_hvr_2/split_2/train/mask/_14_h_2_51.png (deflated 25%)\n",
            "  adding: hrf_256_256_dice_loss_hvr_2/split_2/train/mask/_11_h_2_46.png (deflated 20%)\n",
            "  adding: hrf_256_256_dice_loss_hvr_2/split_2/train/mask/_12_dr_0_97.png (deflated 85%)\n",
            "  adding: hrf_256_256_dice_loss_hvr_2/split_2/train/mask/_03_h_0_3.png (deflated 43%)\n",
            "  adding: hrf_256_256_dice_loss_hvr_2/split_2/train/mask/_12_dr_0_83.png (deflated 45%)\n",
            "  adding: hrf_256_256_dice_loss_hvr_2/split_2/train/mask/_04_h_2_24.png (deflated 22%)\n",
            "  adding: hrf_256_256_dice_loss_hvr_2/split_2/train/mask/_13_g_3_56.png (deflated 85%)\n",
            "  adding: hrf_256_256_dice_loss_hvr_2/split_2/train/mask/_11_g_3_72.png (deflated 21%)\n",
            "  adding: hrf_256_256_dice_loss_hvr_2/split_2/train/mask/_12_g_1_78.png (deflated 24%)\n",
            "  adding: hrf_256_256_dice_loss_hvr_2/split_2/train/mask/_14_dr_2_13.png (deflated 85%)\n",
            "  adding: hrf_256_256_dice_loss_hvr_2/split_2/train/mask/_09_g_3_62.png (deflated 36%)\n",
            "  adding: hrf_256_256_dice_loss_hvr_2/split_2/train/mask/_14_h_2_44.png (deflated 20%)\n",
            "  adding: hrf_256_256_dice_loss_hvr_2/split_2/train/mask/_06_dr_0_126.png (deflated 85%)\n",
            "  adding: hrf_256_256_dice_loss_hvr_2/split_2/train/mask/_11_h_0_27.png (deflated 85%)\n",
            "  adding: hrf_256_256_dice_loss_hvr_2/split_2/train/mask/_14_g_2_139.png (deflated 85%)\n",
            "  adding: hrf_256_256_dice_loss_hvr_2/split_2/train/mask/_14_h_0_107.png (deflated 14%)\n",
            "  adding: hrf_256_256_dice_loss_hvr_2/split_2/train/mask/_02_h_1_86.png (deflated 22%)\n",
            "  adding: hrf_256_256_dice_loss_hvr_2/split_2/train/mask/_13_g_0_82.png (deflated 22%)\n",
            "  adding: hrf_256_256_dice_loss_hvr_2/split_2/train/mask/_07_g_0_122.png (deflated 22%)\n",
            "  adding: hrf_256_256_dice_loss_hvr_2/split_2/train/mask/_07_h_0_16.png (deflated 27%)\n",
            "  adding: hrf_256_256_dice_loss_hvr_2/split_2/train/mask/_01_dr_0_6.png (deflated 34%)\n",
            "  adding: hrf_256_256_dice_loss_hvr_2/split_2/train/mask/_03_dr_0_41.png (deflated 85%)\n",
            "  adding: hrf_256_256_dice_loss_hvr_2/split_2/train/mask/_05_h_3_56.png (deflated 45%)\n",
            "  adding: hrf_256_256_dice_loss_hvr_2/split_2/train/mask/_01_g_0_12.png (deflated 85%)\n",
            "  adding: hrf_256_256_dice_loss_hvr_2/split_2/train/mask/_08_h_1_1.png (deflated 85%)\n",
            "  adding: hrf_256_256_dice_loss_hvr_2/split_2/train/mask/_02_h_3_42.png (deflated 44%)\n",
            "  adding: hrf_256_256_dice_loss_hvr_2/split_2/train/mask/_03_h_2_34.png (deflated 27%)\n",
            "  adding: hrf_256_256_dice_loss_hvr_2/split_2/train/mask/_11_g_3_49.png (deflated 26%)\n",
            "  adding: hrf_256_256_dice_loss_hvr_2/split_2/train/mask/_14_g_3_113.png (deflated 47%)\n",
            "  adding: hrf_256_256_dice_loss_hvr_2/split_2/train/mask/_07_h_2_67.png (deflated 23%)\n",
            "  adding: hrf_256_256_dice_loss_hvr_2/split_2/train/mask/_12_dr_3_111.png (deflated 29%)\n",
            "  adding: hrf_256_256_dice_loss_hvr_2/split_2/train/mask/_11_h_3_81.png (deflated 16%)\n",
            "  adding: hrf_256_256_dice_loss_hvr_2/split_2/train/mask/_12_dr_2_111.png (deflated 85%)\n",
            "  adding: hrf_256_256_dice_loss_hvr_2/split_2/train/mask/_05_h_3_105.png (deflated 24%)\n",
            "  adding: hrf_256_256_dice_loss_hvr_2/split_2/train/mask/_06_dr_1_36.png (deflated 32%)\n",
            "  adding: hrf_256_256_dice_loss_hvr_2/split_2/train/mask/_04_h_1_122.png (deflated 19%)\n",
            "  adding: hrf_256_256_dice_loss_hvr_2/split_2/train/mask/_02_dr_3_21.png (deflated 24%)\n",
            "  adding: hrf_256_256_dice_loss_hvr_2/split_2/train/mask/_05_h_0_89.png (deflated 25%)\n",
            "  adding: hrf_256_256_dice_loss_hvr_2/split_2/train/mask/_12_g_1_91.png (deflated 17%)\n",
            "  adding: hrf_256_256_dice_loss_hvr_2/split_2/train/mask/_09_g_2_1.png (deflated 85%)\n",
            "  adding: hrf_256_256_dice_loss_hvr_2/split_2/train/mask/_01_dr_3_89.png (deflated 29%)\n",
            "  adding: hrf_256_256_dice_loss_hvr_2/split_2/train/mask/_09_g_0_113.png (deflated 33%)\n",
            "  adding: hrf_256_256_dice_loss_hvr_2/split_2/train/mask/_15_dr_2_29.png (deflated 25%)\n",
            "  adding: hrf_256_256_dice_loss_hvr_2/split_2/train/mask/_07_h_1_131.png (deflated 35%)\n",
            "  adding: hrf_256_256_dice_loss_hvr_2/split_2/train/mask/_10_g_0_45.png (deflated 21%)\n",
            "  adding: hrf_256_256_dice_loss_hvr_2/split_2/train/mask/_06_dr_1_135.png (deflated 33%)\n",
            "  adding: hrf_256_256_dice_loss_hvr_2/split_2/train/mask/_14_h_0_12.png (deflated 85%)\n",
            "  adding: hrf_256_256_dice_loss_hvr_2/split_2/train/mask/_12_dr_2_94.png (deflated 25%)\n",
            "  adding: hrf_256_256_dice_loss_hvr_2/split_2/train/mask/_07_g_2_77.png (deflated 31%)\n",
            "  adding: hrf_256_256_dice_loss_hvr_2/split_2/train/mask/_10_dr_0_39.png (deflated 22%)\n",
            "  adding: hrf_256_256_dice_loss_hvr_2/split_2/train/mask/_09_dr_0_10.png (deflated 43%)\n",
            "  adding: hrf_256_256_dice_loss_hvr_2/split_2/train/mask/_11_h_1_98.png (deflated 83%)\n",
            "  adding: hrf_256_256_dice_loss_hvr_2/split_2/train/mask/_08_h_2_11.png (deflated 36%)\n",
            "  adding: hrf_256_256_dice_loss_hvr_2/split_2/train/mask/_10_dr_0_63.png (deflated 25%)\n",
            "  adding: hrf_256_256_dice_loss_hvr_2/split_2/train/mask/_06_dr_2_31.png (deflated 23%)\n",
            "  adding: hrf_256_256_dice_loss_hvr_2/split_2/train/mask/_13_g_3_23.png (deflated 24%)\n",
            "  adding: hrf_256_256_dice_loss_hvr_2/split_2/train/mask/_14_dr_2_100.png (deflated 27%)\n",
            "  adding: hrf_256_256_dice_loss_hvr_2/split_2/train/mask/_05_h_2_3.png (deflated 32%)\n",
            "  adding: hrf_256_256_dice_loss_hvr_2/split_2/train/mask/_14_dr_3_80.png (deflated 30%)\n",
            "  adding: hrf_256_256_dice_loss_hvr_2/split_2/train/mask/_04_h_0_7.png (deflated 34%)\n",
            "  adding: hrf_256_256_dice_loss_hvr_2/split_2/train/mask/_01_dr_1_2.png (deflated 64%)\n",
            "  adding: hrf_256_256_dice_loss_hvr_2/split_2/train/mask/_02_dr_1_76.png (deflated 37%)\n",
            "  adding: hrf_256_256_dice_loss_hvr_2/split_2/train/mask/_01_dr_3_9.png (deflated 42%)\n",
            "  adding: hrf_256_256_dice_loss_hvr_2/split_2/train/mask/_02_dr_1_103.png (deflated 19%)\n",
            "  adding: hrf_256_256_dice_loss_hvr_2/split_2/train/mask/_07_h_2_82.png (deflated 27%)\n",
            "  adding: hrf_256_256_dice_loss_hvr_2/split_2/train/mask/_10_g_1_37.png (deflated 25%)\n",
            "  adding: hrf_256_256_dice_loss_hvr_2/split_2/train/mask/_09_dr_1_110.png (deflated 85%)\n",
            "  adding: hrf_256_256_dice_loss_hvr_2/split_2/train/mask/_04_h_0_34.png (deflated 38%)\n",
            "  adding: hrf_256_256_dice_loss_hvr_2/split_2/train/mask/_03_dr_0_115.png (deflated 32%)\n",
            "  adding: hrf_256_256_dice_loss_hvr_2/split_2/train/mask/_02_h_3_57.png (deflated 19%)\n",
            "  adding: hrf_256_256_dice_loss_hvr_2/split_2/train/mask/_13_h_0_2.png (deflated 40%)\n",
            "  adding: hrf_256_256_dice_loss_hvr_2/split_2/train/mask/_14_dr_2_6.png (deflated 31%)\n",
            "  adding: hrf_256_256_dice_loss_hvr_2/split_2/train/mask/_13_h_3_25.png (deflated 18%)\n",
            "  adding: hrf_256_256_dice_loss_hvr_2/split_2/train/mask/_12_g_3_2.png (deflated 39%)\n",
            "  adding: hrf_256_256_dice_loss_hvr_2/split_2/train/mask/_02_h_1_80.png (deflated 26%)\n",
            "  adding: hrf_256_256_dice_loss_hvr_2/split_2/train/mask/_05_h_2_62.png (deflated 33%)\n",
            "  adding: hrf_256_256_dice_loss_hvr_2/split_2/train/mask/_01_g_1_104.png (deflated 31%)\n",
            "  adding: hrf_256_256_dice_loss_hvr_2/split_2/train/mask/_14_dr_1_120.png (deflated 18%)\n",
            "  adding: hrf_256_256_dice_loss_hvr_2/split_2/train/mask/_08_h_1_3.png (deflated 29%)\n",
            "  adding: hrf_256_256_dice_loss_hvr_2/split_2/train/mask/_10_g_0_136.png (deflated 37%)\n",
            "  adding: hrf_256_256_dice_loss_hvr_2/split_2/train/mask/_07_g_0_31.png (deflated 24%)\n",
            "  adding: hrf_256_256_dice_loss_hvr_2/split_2/train/mask/_04_g_3_9.png (deflated 41%)\n",
            "  adding: hrf_256_256_dice_loss_hvr_2/split_2/train/mask/_13_h_0_3.png (deflated 29%)\n",
            "  adding: hrf_256_256_dice_loss_hvr_2/split_2/train/mask/_07_g_0_102.png (deflated 33%)\n",
            "  adding: hrf_256_256_dice_loss_hvr_2/split_2/train/mask/_10_g_1_43.png (deflated 21%)\n",
            "  adding: hrf_256_256_dice_loss_hvr_2/split_2/train/mask/_13_g_2_69.png (deflated 51%)\n",
            "  adding: hrf_256_256_dice_loss_hvr_2/split_2/train/mask/_14_h_0_135.png (deflated 31%)\n",
            "  adding: hrf_256_256_dice_loss_hvr_2/split_2/train/mask/_05_h_1_110.png (deflated 62%)\n",
            "  adding: hrf_256_256_dice_loss_hvr_2/split_2/train/mask/_14_g_3_97.png (deflated 63%)\n",
            "  adding: hrf_256_256_dice_loss_hvr_2/split_2/train/mask/_07_h_3_96.png (deflated 14%)\n",
            "  adding: hrf_256_256_dice_loss_hvr_2/split_2/train/mask/_02_h_1_85.png (deflated 24%)\n",
            "  adding: hrf_256_256_dice_loss_hvr_2/split_2/train/mask/_10_dr_2_78.png (deflated 27%)\n",
            "  adding: hrf_256_256_dice_loss_hvr_2/split_2/train/mask/_03_h_1_136.png (deflated 37%)\n",
            "  adding: hrf_256_256_dice_loss_hvr_2/split_2/train/mask/_04_g_1_12.png (deflated 85%)\n",
            "  adding: hrf_256_256_dice_loss_hvr_2/split_2/train/mask/_08_h_2_85.png (deflated 18%)\n",
            "  adding: hrf_256_256_dice_loss_hvr_2/split_2/train/mask/_02_dr_1_98.png (deflated 85%)\n",
            "  adding: hrf_256_256_dice_loss_hvr_2/split_2/train/mask/_12_dr_3_70.png (deflated 31%)\n",
            "  adding: hrf_256_256_dice_loss_hvr_2/split_2/train/mask/_13_h_2_0.png (deflated 85%)\n",
            "  adding: hrf_256_256_dice_loss_hvr_2/split_2/train/mask/_15_dr_0_24.png (deflated 24%)\n",
            "  adding: hrf_256_256_dice_loss_hvr_2/split_2/train/mask/_10_g_2_70.png (deflated 46%)\n",
            "  adding: hrf_256_256_dice_loss_hvr_2/split_2/train/mask/_03_dr_3_26.png (deflated 62%)\n",
            "  adding: hrf_256_256_dice_loss_hvr_2/split_2/train/mask/_03_dr_3_63.png (deflated 21%)\n",
            "  adding: hrf_256_256_dice_loss_hvr_2/split_2/train/mask/_14_h_1_23.png (deflated 20%)\n",
            "  adding: hrf_256_256_dice_loss_hvr_2/split_2/train/mask/_13_g_0_138.png (deflated 85%)\n",
            "  adding: hrf_256_256_dice_loss_hvr_2/split_2/train/mask/_08_h_1_108.png (deflated 41%)\n",
            "  adding: hrf_256_256_dice_loss_hvr_2/split_2/train/mask/_14_h_3_20.png (deflated 17%)\n",
            "  adding: hrf_256_256_dice_loss_hvr_2/split_2/train/mask/_12_dr_0_32.png (deflated 21%)\n",
            "  adding: hrf_256_256_dice_loss_hvr_2/split_2/train/mask/_13_h_1_62.png (deflated 30%)\n",
            "  adding: hrf_256_256_dice_loss_hvr_2/split_2/train/mask/_10_g_2_91.png (deflated 20%)\n",
            "  adding: hrf_256_256_dice_loss_hvr_2/split_2/train/mask/_03_h_0_86.png (deflated 22%)\n",
            "  adding: hrf_256_256_dice_loss_hvr_2/split_2/train/mask/_02_h_0_82.png (deflated 29%)\n",
            "  adding: hrf_256_256_dice_loss_hvr_2/split_2/train/mask/_06_dr_0_45.png (deflated 26%)\n",
            "  adding: hrf_256_256_dice_loss_hvr_2/split_2/train/mask/_12_g_3_97.png (deflated 68%)\n",
            "  adding: hrf_256_256_dice_loss_hvr_2/split_2/train/mask/_07_g_3_66.png (deflated 17%)\n",
            "  adding: hrf_256_256_dice_loss_hvr_2/split_2/train/mask/_14_dr_0_71.png (deflated 16%)\n",
            "  adding: hrf_256_256_dice_loss_hvr_2/split_2/train/mask/_05_h_2_139.png (deflated 85%)\n",
            "  adding: hrf_256_256_dice_loss_hvr_2/split_2/train/mask/_04_h_3_120.png (deflated 13%)\n",
            "  adding: hrf_256_256_dice_loss_hvr_2/split_2/train/mask/_12_g_2_111.png (deflated 85%)\n",
            "  adding: hrf_256_256_dice_loss_hvr_2/split_2/train/mask/_04_h_0_132.png (deflated 27%)\n",
            "  adding: hrf_256_256_dice_loss_hvr_2/split_2/train/mask/_10_g_2_36.png (deflated 15%)\n",
            "  adding: hrf_256_256_dice_loss_hvr_2/split_2/train/mask/_09_g_1_118.png (deflated 21%)\n",
            "  adding: hrf_256_256_dice_loss_hvr_2/split_2/train/mask/_04_h_3_70.png (deflated 33%)\n",
            "  adding: hrf_256_256_dice_loss_hvr_2/split_2/train/mask/_11_g_3_14.png (deflated 22%)\n",
            "  adding: hrf_256_256_dice_loss_hvr_2/split_2/train/mask/_10_g_1_61.png (deflated 21%)\n",
            "  adding: hrf_256_256_dice_loss_hvr_2/split_2/train/mask/_06_dr_0_38.png (deflated 33%)\n",
            "  adding: hrf_256_256_dice_loss_hvr_2/split_2/train/mask/_11_h_0_4.png (deflated 31%)\n",
            "  adding: hrf_256_256_dice_loss_hvr_2/split_2/train/mask/_08_h_1_127.png (deflated 85%)\n",
            "  adding: hrf_256_256_dice_loss_hvr_2/split_2/train/mask/_03_dr_0_122.png (deflated 22%)\n",
            "  adding: hrf_256_256_dice_loss_hvr_2/split_2/train/mask/_10_g_1_11.png (deflated 42%)\n",
            "  adding: hrf_256_256_dice_loss_hvr_2/split_2/train/mask/_09_dr_1_131.png (deflated 29%)\n",
            "  adding: hrf_256_256_dice_loss_hvr_2/split_2/train/mask/_02_dr_3_69.png (deflated 28%)\n",
            "  adding: hrf_256_256_dice_loss_hvr_2/split_2/train/mask/_10_dr_0_85.png (deflated 20%)\n",
            "  adding: hrf_256_256_dice_loss_hvr_2/split_2/train/mask/_12_g_3_89.png (deflated 23%)\n",
            "  adding: hrf_256_256_dice_loss_hvr_2/split_2/train/mask/_08_h_2_59.png (deflated 23%)\n",
            "  adding: hrf_256_256_dice_loss_hvr_2/split_2/train/mask/_02_h_1_5.png (deflated 34%)\n",
            "  adding: hrf_256_256_dice_loss_hvr_2/split_2/train/mask/_08_h_0_39.png (deflated 22%)\n",
            "  adding: hrf_256_256_dice_loss_hvr_2/split_2/train/mask/_12_dr_1_56.png (deflated 75%)\n",
            "  adding: hrf_256_256_dice_loss_hvr_2/split_2/train/mask/_10_g_3_75.png (deflated 31%)\n",
            "  adding: hrf_256_256_dice_loss_hvr_2/split_2/train/mask/_14_h_0_9.png (deflated 37%)\n",
            "  adding: hrf_256_256_dice_loss_hvr_2/split_2/train/mask/_01_dr_0_64.png (deflated 31%)\n",
            "  adding: hrf_256_256_dice_loss_hvr_2/split_2/train/mask/_10_g_0_29.png (deflated 20%)\n",
            "  adding: hrf_256_256_dice_loss_hvr_2/split_2/train/mask/_11_g_1_44.png (deflated 22%)\n",
            "  adding: hrf_256_256_dice_loss_hvr_2/split_2/train/mask/_08_h_0_111.png (deflated 85%)\n",
            "  adding: hrf_256_256_dice_loss_hvr_2/split_2/train/mask/_15_dr_1_27.png (deflated 85%)\n",
            "  adding: hrf_256_256_dice_loss_hvr_2/split_2/train/mask/_09_dr_3_84.png (deflated 65%)\n",
            "  adding: hrf_256_256_dice_loss_hvr_2/split_2/train/mask/_01_g_2_138.png (deflated 85%)\n",
            "  adding: hrf_256_256_dice_loss_hvr_2/split_2/train/mask/_13_h_3_76.png (deflated 41%)\n",
            "  adding: hrf_256_256_dice_loss_hvr_2/split_2/train/mask/_08_h_3_1.png (deflated 32%)\n",
            "  adding: hrf_256_256_dice_loss_hvr_2/split_2/train/mask/_03_h_0_6.png (deflated 35%)\n",
            "  adding: hrf_256_256_dice_loss_hvr_2/split_2/train/mask/_05_h_1_16.png (deflated 52%)\n",
            "  adding: hrf_256_256_dice_loss_hvr_2/split_2/train/mask/_01_dr_0_134.png (deflated 29%)\n",
            "  adding: hrf_256_256_dice_loss_hvr_2/split_2/train/mask/_02_h_3_49.png (deflated 23%)\n",
            "  adding: hrf_256_256_dice_loss_hvr_2/split_2/train/mask/_05_h_0_31.png (deflated 23%)\n",
            "  adding: hrf_256_256_dice_loss_hvr_2/split_2/train/mask/_02_dr_0_124.png (deflated 25%)\n",
            "  adding: hrf_256_256_dice_loss_hvr_2/split_2/train/mask/_08_h_0_64.png (deflated 33%)\n",
            "  adding: hrf_256_256_dice_loss_hvr_2/split_2/train/mask/_08_h_0_35.png (deflated 19%)\n",
            "  adding: hrf_256_256_dice_loss_hvr_2/split_2/train/mask/_02_h_0_98.png (deflated 85%)\n",
            "  adding: hrf_256_256_dice_loss_hvr_2/split_2/train/mask/_13_g_3_116.png (deflated 21%)\n",
            "  adding: hrf_256_256_dice_loss_hvr_2/split_2/train/mask/_12_dr_0_125.png (deflated 85%)\n",
            "  adding: hrf_256_256_dice_loss_hvr_2/split_2/train/mask/_07_h_0_65.png (deflated 23%)\n",
            "  adding: hrf_256_256_dice_loss_hvr_2/split_2/train/mask/_09_g_1_66.png (deflated 23%)\n",
            "  adding: hrf_256_256_dice_loss_hvr_2/split_2/train/mask/_13_g_0_36.png (deflated 19%)\n",
            "  adding: hrf_256_256_dice_loss_hvr_2/split_2/train/mask/_14_g_1_76.png (deflated 36%)\n",
            "  adding: hrf_256_256_dice_loss_hvr_2/split_2/train/mask/_14_g_3_43.png (deflated 24%)\n",
            "  adding: hrf_256_256_dice_loss_hvr_2/split_2/train/mask/_01_g_2_76.png (deflated 31%)\n",
            "  adding: hrf_256_256_dice_loss_hvr_2/split_2/train/mask/_02_h_3_54.png (deflated 18%)\n",
            "  adding: hrf_256_256_dice_loss_hvr_2/split_2/train/mask/_13_g_1_54.png (deflated 31%)\n",
            "  adding: hrf_256_256_dice_loss_hvr_2/split_2/train/mask/_02_dr_0_72.png (deflated 32%)\n",
            "  adding: hrf_256_256_dice_loss_hvr_2/split_2/train/mask/_05_h_3_54.png (deflated 25%)\n",
            "  adding: hrf_256_256_dice_loss_hvr_2/split_2/train/mask/_12_g_1_127.png (deflated 85%)\n",
            "  adding: hrf_256_256_dice_loss_hvr_2/split_2/train/mask/_02_h_2_0.png (deflated 85%)\n",
            "  adding: hrf_256_256_dice_loss_hvr_2/split_2/train/mask/_14_h_3_5.png (deflated 28%)\n",
            "  adding: hrf_256_256_dice_loss_hvr_2/split_2/train/mask/_12_g_1_66.png (deflated 21%)\n",
            "  adding: hrf_256_256_dice_loss_hvr_2/split_2/train/mask/_14_g_2_68.png (deflated 38%)\n",
            "  adding: hrf_256_256_dice_loss_hvr_2/split_2/train/mask/_10_g_2_1.png (deflated 85%)\n",
            "  adding: hrf_256_256_dice_loss_hvr_2/split_2/train/mask/_12_g_0_83.png (deflated 33%)\n",
            "  adding: hrf_256_256_dice_loss_hvr_2/split_2/train/mask/_02_dr_2_35.png (deflated 36%)\n",
            "  adding: hrf_256_256_dice_loss_hvr_2/split_2/train/mask/_05_h_2_51.png (deflated 39%)\n",
            "  adding: hrf_256_256_dice_loss_hvr_2/split_2/train/mask/_02_h_0_13.png (deflated 85%)\n",
            "  adding: hrf_256_256_dice_loss_hvr_2/split_2/train/mask/_08_h_1_44.png (deflated 21%)\n",
            "  adding: hrf_256_256_dice_loss_hvr_2/split_2/train/mask/_11_g_2_23.png (deflated 40%)\n",
            "  adding: hrf_256_256_dice_loss_hvr_2/split_2/train/mask/_02_h_2_102.png (deflated 29%)\n",
            "  adding: hrf_256_256_dice_loss_hvr_2/split_2/train/mask/_01_dr_0_109.png (deflated 27%)\n",
            "  adding: hrf_256_256_dice_loss_hvr_2/split_2/train/mask/_02_dr_1_93.png (deflated 28%)\n",
            "  adding: hrf_256_256_dice_loss_hvr_2/split_2/train/mask/_03_dr_2_31.png (deflated 57%)\n",
            "  adding: hrf_256_256_dice_loss_hvr_2/split_2/train/mask/_03_dr_3_66.png (deflated 25%)\n",
            "  adding: hrf_256_256_dice_loss_hvr_2/split_2/train/mask/_14_dr_3_69.png (deflated 46%)\n",
            "  adding: hrf_256_256_dice_loss_hvr_2/split_2/train/mask/_09_g_2_10.png (deflated 28%)\n",
            "  adding: hrf_256_256_dice_loss_hvr_2/split_2/train/mask/_02_dr_3_67.png (deflated 25%)\n",
            "  adding: hrf_256_256_dice_loss_hvr_2/split_2/train/mask/_14_h_2_94.png (deflated 28%)\n",
            "  adding: hrf_256_256_dice_loss_hvr_2/split_2/train/mask/_09_g_0_115.png (deflated 26%)\n",
            "  adding: hrf_256_256_dice_loss_hvr_2/split_2/train/mask/_14_h_2_72.png (deflated 25%)\n",
            "  adding: hrf_256_256_dice_loss_hvr_2/split_2/train/mask/_02_h_3_2.png (deflated 43%)\n",
            "  adding: hrf_256_256_dice_loss_hvr_2/split_2/train/mask/_14_dr_0_106.png (deflated 17%)\n",
            "  adding: hrf_256_256_dice_loss_hvr_2/split_2/train/mask/_10_g_1_34.png (deflated 15%)\n",
            "  adding: hrf_256_256_dice_loss_hvr_2/split_2/train/mask/_14_dr_1_49.png (deflated 22%)\n",
            "  adding: hrf_256_256_dice_loss_hvr_2/split_2/train/mask/_09_g_2_91.png (deflated 24%)\n",
            "  adding: hrf_256_256_dice_loss_hvr_2/split_2/train/mask/_11_g_3_127.png (deflated 81%)\n",
            "  adding: hrf_256_256_dice_loss_hvr_2/split_2/train/mask/_03_dr_0_17.png (deflated 42%)\n",
            "  adding: hrf_256_256_dice_loss_hvr_2/split_2/train/mask/_03_h_2_115.png (deflated 28%)\n",
            "  adding: hrf_256_256_dice_loss_hvr_2/split_2/train/mask/_04_h_0_52.png (deflated 23%)\n",
            "  adding: hrf_256_256_dice_loss_hvr_2/split_2/train/mask/_07_h_1_56.png (deflated 41%)\n",
            "  adding: hrf_256_256_dice_loss_hvr_2/split_2/train/mask/_13_h_2_41.png (deflated 61%)\n",
            "  adding: hrf_256_256_dice_loss_hvr_2/split_2/train/mask/_04_g_1_77.png (deflated 25%)\n",
            "  adding: hrf_256_256_dice_loss_hvr_2/split_2/train/mask/_14_g_2_1.png (deflated 85%)\n",
            "  adding: hrf_256_256_dice_loss_hvr_2/split_2/train/mask/_03_dr_0_65.png (deflated 20%)\n",
            "  adding: hrf_256_256_dice_loss_hvr_2/split_2/train/mask/_05_h_3_94.png (deflated 26%)\n",
            "  adding: hrf_256_256_dice_loss_hvr_2/split_2/train/mask/_04_h_2_76.png (deflated 22%)\n",
            "  adding: hrf_256_256_dice_loss_hvr_2/split_2/train/mask/_09_g_0_117.png (deflated 23%)\n",
            "  adding: hrf_256_256_dice_loss_hvr_2/split_2/train/mask/_14_h_2_119.png (deflated 14%)\n",
            "  adding: hrf_256_256_dice_loss_hvr_2/split_2/train/mask/_02_dr_1_1.png (deflated 78%)\n",
            "  adding: hrf_256_256_dice_loss_hvr_2/split_2/train/mask/_05_h_2_38.png (deflated 32%)\n",
            "  adding: hrf_256_256_dice_loss_hvr_2/split_2/train/mask/_10_dr_0_14.png (deflated 85%)\n",
            "  adding: hrf_256_256_dice_loss_hvr_2/split_2/train/mask/_01_dr_0_121.png (deflated 24%)\n",
            "  adding: hrf_256_256_dice_loss_hvr_2/split_2/train/mask/_12_g_3_131.png (deflated 34%)\n",
            "  adding: hrf_256_256_dice_loss_hvr_2/split_2/train/mask/_08_h_2_39.png (deflated 13%)\n",
            "  adding: hrf_256_256_dice_loss_hvr_2/split_2/train/mask/_03_h_1_83.png (deflated 42%)\n",
            "  adding: hrf_256_256_dice_loss_hvr_2/split_2/train/mask/_13_h_2_70.png (deflated 38%)\n",
            "  adding: hrf_256_256_dice_loss_hvr_2/split_2/train/mask/_10_dr_2_103.png (deflated 21%)\n",
            "  adding: hrf_256_256_dice_loss_hvr_2/split_2/train/mask/_02_dr_3_119.png (deflated 23%)\n",
            "  adding: hrf_256_256_dice_loss_hvr_2/split_2/train/mask/_13_g_3_117.png (deflated 22%)\n",
            "  adding: hrf_256_256_dice_loss_hvr_2/split_2/train/mask/_09_dr_1_32.png (deflated 28%)\n",
            "  adding: hrf_256_256_dice_loss_hvr_2/split_2/train/mask/_02_h_0_24.png (deflated 24%)\n",
            "  adding: hrf_256_256_dice_loss_hvr_2/split_2/train/mask/_07_h_3_24.png (deflated 32%)\n",
            "  adding: hrf_256_256_dice_loss_hvr_2/split_2/train/mask/_13_g_0_58.png (deflated 24%)\n",
            "  adding: hrf_256_256_dice_loss_hvr_2/split_2/train/mask/_04_h_3_74.png (deflated 19%)\n",
            "  adding: hrf_256_256_dice_loss_hvr_2/split_2/train/mask/_15_dr_1_47.png (deflated 26%)\n",
            "  adding: hrf_256_256_dice_loss_hvr_2/split_2/train/mask/_09_dr_0_34.png (deflated 14%)\n",
            "  adding: hrf_256_256_dice_loss_hvr_2/split_2/train/mask/_06_dr_3_131.png (deflated 41%)\n",
            "  adding: hrf_256_256_dice_loss_hvr_2/split_2/train/mask/_11_h_0_139.png (deflated 85%)\n",
            "  adding: hrf_256_256_dice_loss_hvr_2/split_2/train/mask/_12_g_3_93.png (deflated 22%)\n",
            "  adding: hrf_256_256_dice_loss_hvr_2/split_2/train/mask/_04_g_3_90.png (deflated 29%)\n",
            "  adding: hrf_256_256_dice_loss_hvr_2/split_2/train/mask/_02_h_3_82.png (deflated 20%)\n",
            "  adding: hrf_256_256_dice_loss_hvr_2/split_2/train/mask/_14_g_1_33.png (deflated 22%)\n",
            "  adding: hrf_256_256_dice_loss_hvr_2/split_2/train/mask/_02_h_3_63.png (deflated 22%)\n",
            "  adding: hrf_256_256_dice_loss_hvr_2/split_2/train/mask/_12_dr_3_11.png (deflated 53%)\n",
            "  adding: hrf_256_256_dice_loss_hvr_2/split_2/train/mask/_10_dr_0_122.png (deflated 25%)\n",
            "  adding: hrf_256_256_dice_loss_hvr_2/split_2/train/mask/_02_h_1_2.png (deflated 26%)\n",
            "  adding: hrf_256_256_dice_loss_hvr_2/split_2/train/mask/_13_g_0_104.png (deflated 19%)\n",
            "  adding: hrf_256_256_dice_loss_hvr_2/split_2/train/mask/_05_h_2_114.png (deflated 33%)\n",
            "  adding: hrf_256_256_dice_loss_hvr_2/split_2/train/mask/_07_g_3_59.png (deflated 31%)\n",
            "  adding: hrf_256_256_dice_loss_hvr_2/split_2/train/mask/_03_dr_2_94.png (deflated 23%)\n",
            "  adding: hrf_256_256_dice_loss_hvr_2/split_2/train/mask/_14_g_2_126.png (deflated 85%)\n",
            "  adding: hrf_256_256_dice_loss_hvr_2/split_2/train/mask/_12_g_0_25.png (deflated 23%)\n",
            "  adding: hrf_256_256_dice_loss_hvr_2/split_2/train/mask/_13_g_1_20.png (deflated 10%)\n",
            "  adding: hrf_256_256_dice_loss_hvr_2/split_2/train/mask/_07_g_1_9.png (deflated 35%)\n",
            "  adding: hrf_256_256_dice_loss_hvr_2/split_2/train/mask/_04_h_2_67.png (deflated 23%)\n",
            "  adding: hrf_256_256_dice_loss_hvr_2/split_2/train/mask/_07_g_0_96.png (deflated 25%)\n",
            "  adding: hrf_256_256_dice_loss_hvr_2/split_2/train/mask/_02_h_1_91.png (deflated 27%)\n",
            "  adding: hrf_256_256_dice_loss_hvr_2/split_2/train/mask/_08_h_0_133.png (deflated 33%)\n",
            "  adding: hrf_256_256_dice_loss_hvr_2/split_2/train/mask/_04_g_2_15.png (deflated 23%)\n",
            "  adding: hrf_256_256_dice_loss_hvr_2/split_2/train/mask/_15_dr_2_83.png (deflated 57%)\n",
            "  adding: hrf_256_256_dice_loss_hvr_2/split_2/train/mask/_07_h_0_117.png (deflated 21%)\n",
            "  adding: hrf_256_256_dice_loss_hvr_2/split_2/train/mask/_09_g_3_82.png (deflated 20%)\n",
            "  adding: hrf_256_256_dice_loss_hvr_2/split_2/train/mask/_02_dr_1_28.png (deflated 85%)\n",
            "  adding: hrf_256_256_dice_loss_hvr_2/split_2/train/mask/_04_g_2_8.png (deflated 29%)\n",
            "  adding: hrf_256_256_dice_loss_hvr_2/split_2/train/mask/_15_dr_3_62.png (deflated 31%)\n",
            "  adding: hrf_256_256_dice_loss_hvr_2/split_2/train/mask/_03_h_2_85.png (deflated 17%)\n",
            "  adding: hrf_256_256_dice_loss_hvr_2/split_2/train/mask/_07_h_3_83.png (deflated 50%)\n",
            "  adding: hrf_256_256_dice_loss_hvr_2/split_2/train/mask/_10_g_0_89.png (deflated 24%)\n",
            "  adding: hrf_256_256_dice_loss_hvr_2/split_2/train/mask/_04_g_2_60.png (deflated 27%)\n",
            "  adding: hrf_256_256_dice_loss_hvr_2/split_2/train/mask/_02_dr_3_139.png (deflated 38%)\n",
            "  adding: hrf_256_256_dice_loss_hvr_2/split_2/train/mask/_15_dr_0_75.png (deflated 25%)\n",
            "  adding: hrf_256_256_dice_loss_hvr_2/split_2/train/mask/_05_h_3_63.png (deflated 22%)\n",
            "  adding: hrf_256_256_dice_loss_hvr_2/split_2/train/mask/_06_dr_0_81.png (deflated 22%)\n",
            "  adding: hrf_256_256_dice_loss_hvr_2/split_2/train/mask/_12_g_2_6.png (deflated 28%)\n",
            "  adding: hrf_256_256_dice_loss_hvr_2/split_2/train/mask/_15_dr_3_42.png (deflated 75%)\n",
            "  adding: hrf_256_256_dice_loss_hvr_2/split_2/train/mask/_06_dr_2_93.png (deflated 21%)\n",
            "  adding: hrf_256_256_dice_loss_hvr_2/split_2/train/mask/_08_h_0_123.png (deflated 13%)\n",
            "  adding: hrf_256_256_dice_loss_hvr_2/split_2/train/mask/_13_g_3_31.png (deflated 26%)\n",
            "  adding: hrf_256_256_dice_loss_hvr_2/split_2/train/mask/_12_g_2_79.png (deflated 27%)\n",
            "  adding: hrf_256_256_dice_loss_hvr_2/split_2/train/mask/_14_g_1_107.png (deflated 23%)\n",
            "  adding: hrf_256_256_dice_loss_hvr_2/split_2/train/mask/_07_g_1_125.png (deflated 85%)\n",
            "  adding: hrf_256_256_dice_loss_hvr_2/split_2/train/mask/_03_dr_1_56.png (deflated 37%)\n",
            "  adding: hrf_256_256_dice_loss_hvr_2/split_2/train/mask/_12_dr_2_25.png (deflated 21%)\n",
            "  adding: hrf_256_256_dice_loss_hvr_2/split_2/train/mask/_09_dr_1_11.png (deflated 85%)\n",
            "  adding: hrf_256_256_dice_loss_hvr_2/split_2/train/mask/_14_h_0_16.png (deflated 20%)\n",
            "  adding: hrf_256_256_dice_loss_hvr_2/split_2/train/mask/_04_h_0_6.png (deflated 38%)\n",
            "  adding: hrf_256_256_dice_loss_hvr_2/split_2/train/mask/_11_h_3_132.png (deflated 29%)\n",
            "  adding: hrf_256_256_dice_loss_hvr_2/split_2/train/mask/_12_g_3_104.png (deflated 18%)\n",
            "  adding: hrf_256_256_dice_loss_hvr_2/split_2/train/mask/_10_g_3_74.png (deflated 27%)\n",
            "  adding: hrf_256_256_dice_loss_hvr_2/split_2/train/mask/_14_g_1_14.png (deflated 85%)\n",
            "  adding: hrf_256_256_dice_loss_hvr_2/split_2/train/mask/_12_g_2_113.png (deflated 50%)\n",
            "  adding: hrf_256_256_dice_loss_hvr_2/split_2/train/mask/_02_h_1_22.png (deflated 25%)\n",
            "  adding: hrf_256_256_dice_loss_hvr_2/split_2/train/mask/_11_g_3_3.png (deflated 42%)\n",
            "  adding: hrf_256_256_dice_loss_hvr_2/split_2/train/mask/_02_h_3_23.png (deflated 16%)\n",
            "  adding: hrf_256_256_dice_loss_hvr_2/split_2/train/mask/_11_h_3_74.png (deflated 26%)\n",
            "  adding: hrf_256_256_dice_loss_hvr_2/split_2/train/mask/_13_h_1_111.png (deflated 85%)\n",
            "  adding: hrf_256_256_dice_loss_hvr_2/split_2/train/mask/_11_h_2_132.png (deflated 35%)\n",
            "  adding: hrf_256_256_dice_loss_hvr_2/split_2/train/mask/_12_dr_3_26.png (deflated 65%)\n",
            "  adding: hrf_256_256_dice_loss_hvr_2/split_2/train/mask/_10_g_3_136.png (deflated 41%)\n",
            "  adding: hrf_256_256_dice_loss_hvr_2/split_2/train/mask/_11_g_2_52.png (deflated 22%)\n",
            "  adding: hrf_256_256_dice_loss_hvr_2/split_2/train/mask/_12_g_2_34.png (deflated 26%)\n",
            "  adding: hrf_256_256_dice_loss_hvr_2/split_2/train/mask/_07_g_0_80.png (deflated 21%)\n",
            "  adding: hrf_256_256_dice_loss_hvr_2/split_2/train/mask/_13_h_1_115.png (deflated 20%)\n",
            "  adding: hrf_256_256_dice_loss_hvr_2/split_2/train/mask/_03_dr_1_41.png (deflated 85%)\n",
            "  adding: hrf_256_256_dice_loss_hvr_2/split_2/train/mask/_10_g_1_52.png (deflated 24%)\n",
            "  adding: hrf_256_256_dice_loss_hvr_2/split_2/train/mask/_15_dr_2_52.png (deflated 23%)\n",
            "  adding: hrf_256_256_dice_loss_hvr_2/split_2/train/mask/_04_g_3_35.png (deflated 35%)\n",
            "  adding: hrf_256_256_dice_loss_hvr_2/split_2/train/mask/_08_h_0_100.png (deflated 34%)\n",
            "  adding: hrf_256_256_dice_loss_hvr_2/split_2/train/mask/_04_h_3_99.png (deflated 14%)\n",
            "  adding: hrf_256_256_dice_loss_hvr_2/split_2/train/mask/_04_h_3_85.png (deflated 19%)\n",
            "  adding: hrf_256_256_dice_loss_hvr_2/split_2/train/mask/_13_g_3_83.png (deflated 23%)\n",
            "  adding: hrf_256_256_dice_loss_hvr_2/split_2/train/mask/_02_h_0_90.png (deflated 26%)\n",
            "  adding: hrf_256_256_dice_loss_hvr_2/split_2/train/mask/_14_g_3_47.png (deflated 17%)\n",
            "  adding: hrf_256_256_dice_loss_hvr_2/split_2/train/mask/_12_g_3_60.png (deflated 27%)\n",
            "  adding: hrf_256_256_dice_loss_hvr_2/split_2/train/mask/_14_h_0_138.png (deflated 85%)\n",
            "  adding: hrf_256_256_dice_loss_hvr_2/split_2/train/mask/_02_dr_3_75.png (deflated 23%)\n",
            "  adding: hrf_256_256_dice_loss_hvr_2/split_2/train/mask/_05_h_1_67.png (deflated 19%)\n",
            "  adding: hrf_256_256_dice_loss_hvr_2/split_2/train/mask/_03_h_3_45.png (deflated 27%)\n",
            "  adding: hrf_256_256_dice_loss_hvr_2/split_2/train/mask/_03_dr_3_13.png (deflated 53%)\n",
            "  adding: hrf_256_256_dice_loss_hvr_2/split_2/train/mask/_12_dr_2_2.png (deflated 46%)\n",
            "  adding: hrf_256_256_dice_loss_hvr_2/split_2/train/mask/_03_dr_2_117.png (deflated 22%)\n",
            "  adding: hrf_256_256_dice_loss_hvr_2/split_2/train/mask/_11_h_2_116.png (deflated 18%)\n",
            "  adding: hrf_256_256_dice_loss_hvr_2/split_2/train/mask/_01_g_0_19.png (deflated 25%)\n",
            "  adding: hrf_256_256_dice_loss_hvr_2/split_2/train/mask/_10_dr_3_106.png (deflated 18%)\n",
            "  adding: hrf_256_256_dice_loss_hvr_2/split_2/train/mask/_06_dr_2_96.png (deflated 25%)\n",
            "  adding: hrf_256_256_dice_loss_hvr_2/split_2/train/mask/_11_g_2_9.png (deflated 32%)\n",
            "  adding: hrf_256_256_dice_loss_hvr_2/split_2/train/mask/_03_h_1_46.png (deflated 9%)\n",
            "  adding: hrf_256_256_dice_loss_hvr_2/split_2/train/mask/_05_h_2_126.png (deflated 85%)\n",
            "  adding: hrf_256_256_dice_loss_hvr_2/split_2/train/mask/_11_h_2_32.png (deflated 16%)\n",
            "  adding: hrf_256_256_dice_loss_hvr_2/split_2/train/mask/_15_dr_0_36.png (deflated 30%)\n",
            "  adding: hrf_256_256_dice_loss_hvr_2/split_2/train/mask/_10_dr_3_98.png (deflated 81%)\n",
            "  adding: hrf_256_256_dice_loss_hvr_2/split_2/train/mask/_09_dr_0_77.png (deflated 73%)\n",
            "  adding: hrf_256_256_dice_loss_hvr_2/split_2/train/mask/_10_dr_2_107.png (deflated 23%)\n",
            "  adding: hrf_256_256_dice_loss_hvr_2/split_2/train/mask/_14_g_3_123.png (deflated 25%)\n",
            "  adding: hrf_256_256_dice_loss_hvr_2/split_2/train/mask/_14_dr_3_95.png (deflated 31%)\n",
            "  adding: hrf_256_256_dice_loss_hvr_2/split_2/train/mask/_03_h_0_70.png (deflated 40%)\n",
            "  adding: hrf_256_256_dice_loss_hvr_2/split_2/train/mask/_04_h_0_8.png (deflated 27%)\n",
            "  adding: hrf_256_256_dice_loss_hvr_2/split_2/train/mask/_01_dr_2_122.png (deflated 26%)\n",
            "  adding: hrf_256_256_dice_loss_hvr_2/split_2/train/mask/_03_dr_1_87.png (deflated 27%)\n",
            "  adding: hrf_256_256_dice_loss_hvr_2/split_2/train/mask/_01_g_2_95.png (deflated 25%)\n",
            "  adding: hrf_256_256_dice_loss_hvr_2/split_2/train/mask/_04_g_3_92.png (deflated 26%)\n",
            "  adding: hrf_256_256_dice_loss_hvr_2/split_2/train/mask/_10_g_1_112.png (deflated 85%)\n",
            "  adding: hrf_256_256_dice_loss_hvr_2/split_2/train/mask/_14_dr_1_95.png (deflated 20%)\n",
            "  adding: hrf_256_256_dice_loss_hvr_2/split_2/train/mask/_09_g_0_86.png (deflated 21%)\n",
            "  adding: hrf_256_256_dice_loss_hvr_2/split_2/train/mask/_07_h_1_46.png (deflated 20%)\n",
            "  adding: hrf_256_256_dice_loss_hvr_2/split_2/train/mask/_09_g_2_34.png (deflated 21%)\n",
            "  adding: hrf_256_256_dice_loss_hvr_2/split_2/train/mask/_12_dr_3_13.png (deflated 39%)\n",
            "  adding: hrf_256_256_dice_loss_hvr_2/split_2/train/mask/_12_dr_2_133.png (deflated 30%)\n",
            "  adding: hrf_256_256_dice_loss_hvr_2/split_2/train/mask/_11_g_2_69.png (deflated 28%)\n",
            "  adding: hrf_256_256_dice_loss_hvr_2/split_2/train/mask/_10_g_2_88.png (deflated 26%)\n",
            "  adding: hrf_256_256_dice_loss_hvr_2/split_2/train/mask/_08_h_3_114.png (deflated 15%)\n",
            "  adding: hrf_256_256_dice_loss_hvr_2/split_2/train/mask/_04_h_1_94.png (deflated 20%)\n",
            "  adding: hrf_256_256_dice_loss_hvr_2/split_2/train/mask/_15_dr_2_40.png (deflated 43%)\n",
            "  adding: hrf_256_256_dice_loss_hvr_2/split_2/train/mask/_12_dr_1_111.png (deflated 85%)\n",
            "  adding: hrf_256_256_dice_loss_hvr_2/split_2/train/mask/_02_dr_1_115.png (deflated 15%)\n",
            "  adding: hrf_256_256_dice_loss_hvr_2/split_2/train/mask/_07_g_2_27.png (deflated 85%)\n",
            "  adding: hrf_256_256_dice_loss_hvr_2/split_2/train/mask/_15_dr_0_112.png (deflated 85%)\n",
            "  adding: hrf_256_256_dice_loss_hvr_2/split_2/train/mask/_09_g_1_76.png (deflated 37%)\n",
            "  adding: hrf_256_256_dice_loss_hvr_2/split_2/train/mask/_14_h_3_87.png (deflated 21%)\n",
            "  adding: hrf_256_256_dice_loss_hvr_2/split_2/train/mask/_02_dr_0_81.png (deflated 22%)\n",
            "  adding: hrf_256_256_dice_loss_hvr_2/split_2/train/mask/_04_g_1_128.png (deflated 66%)\n",
            "  adding: hrf_256_256_dice_loss_hvr_2/split_2/train/mask/_14_h_0_129.png (deflated 31%)\n",
            "  adding: hrf_256_256_dice_loss_hvr_2/split_2/train/mask/_10_dr_2_61.png (deflated 17%)\n",
            "  adding: hrf_256_256_dice_loss_hvr_2/split_2/train/mask/_06_dr_3_4.png (deflated 40%)\n",
            "  adding: hrf_256_256_dice_loss_hvr_2/split_2/train/mask/_02_h_2_46.png (deflated 21%)\n",
            "  adding: hrf_256_256_dice_loss_hvr_2/split_2/train/mask/_10_g_2_62.png (deflated 30%)\n",
            "  adding: hrf_256_256_dice_loss_hvr_2/split_2/train/mask/_04_h_0_58.png (deflated 24%)\n",
            "  adding: hrf_256_256_dice_loss_hvr_2/split_2/train/mask/_14_dr_0_123.png (deflated 31%)\n",
            "  adding: hrf_256_256_dice_loss_hvr_2/split_2/train/mask/_11_h_1_6.png (deflated 32%)\n",
            "  adding: hrf_256_256_dice_loss_hvr_2/split_2/train/mask/_04_h_1_97.png (deflated 78%)\n",
            "  adding: hrf_256_256_dice_loss_hvr_2/split_2/train/mask/_06_dr_0_28.png (deflated 85%)\n",
            "  adding: hrf_256_256_dice_loss_hvr_2/split_2/train/mask/_09_dr_3_80.png (deflated 23%)\n",
            "  adding: hrf_256_256_dice_loss_hvr_2/split_2/train/mask/_09_dr_3_102.png (deflated 23%)\n",
            "  adding: hrf_256_256_dice_loss_hvr_2/split_2/train/mask/_13_h_2_90.png (deflated 19%)\n",
            "  adding: hrf_256_256_dice_loss_hvr_2/split_2/train/mask/_07_g_0_69.png (deflated 45%)\n",
            "  adding: hrf_256_256_dice_loss_hvr_2/split_2/train/mask/_04_h_2_138.png (deflated 85%)\n",
            "  adding: hrf_256_256_dice_loss_hvr_2/split_2/train/mask/_01_g_3_22.png (deflated 19%)\n",
            "  adding: hrf_256_256_dice_loss_hvr_2/split_2/train/mask/_07_h_2_30.png (deflated 28%)\n",
            "  adding: hrf_256_256_dice_loss_hvr_2/split_2/train/mask/_06_dr_3_26.png (deflated 36%)\n",
            "  adding: hrf_256_256_dice_loss_hvr_2/split_2/train/mask/_06_dr_2_48.png (deflated 26%)\n",
            "  adding: hrf_256_256_dice_loss_hvr_2/split_2/train/mask/_05_h_0_29.png (deflated 22%)\n",
            "  adding: hrf_256_256_dice_loss_hvr_2/split_2/train/mask/_09_dr_2_43.png (deflated 37%)\n",
            "  adding: hrf_256_256_dice_loss_hvr_2/split_2/train/mask/_09_dr_3_130.png (deflated 31%)\n",
            "  adding: hrf_256_256_dice_loss_hvr_2/split_2/train/mask/_01_g_2_123.png (deflated 38%)\n",
            "  adding: hrf_256_256_dice_loss_hvr_2/split_2/train/mask/_03_h_2_24.png (deflated 22%)\n",
            "  adding: hrf_256_256_dice_loss_hvr_2/split_2/train/mask/_14_h_3_11.png (deflated 29%)\n",
            "  adding: hrf_256_256_dice_loss_hvr_2/split_2/train/mask/_14_h_1_90.png (deflated 18%)\n",
            "  adding: hrf_256_256_dice_loss_hvr_2/split_2/train/mask/_14_h_2_92.png (deflated 24%)\n",
            "  adding: hrf_256_256_dice_loss_hvr_2/split_2/train/mask/_06_dr_0_90.png (deflated 27%)\n",
            "  adding: hrf_256_256_dice_loss_hvr_2/split_2/train/mask/_02_h_3_80.png (deflated 30%)\n",
            "  adding: hrf_256_256_dice_loss_hvr_2/split_2/train/mask/_07_g_1_71.png (deflated 18%)\n",
            "  adding: hrf_256_256_dice_loss_hvr_2/split_2/train/mask/_08_h_0_82.png (deflated 24%)\n",
            "  adding: hrf_256_256_dice_loss_hvr_2/split_2/train/mask/_05_h_0_105.png (deflated 28%)\n",
            "  adding: hrf_256_256_dice_loss_hvr_2/split_2/train/mask/_12_g_0_112.png (deflated 85%)\n",
            "  adding: hrf_256_256_dice_loss_hvr_2/split_2/train/mask/_14_h_0_128.png (deflated 63%)\n",
            "  adding: hrf_256_256_dice_loss_hvr_2/split_2/train/mask/_08_h_1_100.png (deflated 13%)\n",
            "  adding: hrf_256_256_dice_loss_hvr_2/split_2/train/mask/_12_dr_1_112.png (deflated 85%)\n",
            "  adding: hrf_256_256_dice_loss_hvr_2/split_2/train/mask/_08_h_3_130.png (deflated 44%)\n",
            "  adding: hrf_256_256_dice_loss_hvr_2/split_2/train/mask/_10_g_2_101.png (deflated 16%)\n",
            "  adding: hrf_256_256_dice_loss_hvr_2/split_2/train/mask/_09_g_3_47.png (deflated 27%)\n",
            "  adding: hrf_256_256_dice_loss_hvr_2/split_2/train/mask/_12_g_3_31.png (deflated 19%)\n",
            "  adding: hrf_256_256_dice_loss_hvr_2/split_2/train/mask/_01_g_3_112.png (deflated 85%)\n",
            "  adding: hrf_256_256_dice_loss_hvr_2/split_2/train/mask/_14_dr_3_36.png (deflated 21%)\n",
            "  adding: hrf_256_256_dice_loss_hvr_2/split_2/train/mask/_11_g_0_106.png (deflated 18%)\n",
            "  adding: hrf_256_256_dice_loss_hvr_2/split_2/train/mask/_10_g_0_41.png (deflated 85%)\n",
            "  adding: hrf_256_256_dice_loss_hvr_2/split_2/train/mask/_08_h_0_62.png (deflated 25%)\n",
            "  adding: hrf_256_256_dice_loss_hvr_2/split_2/train/mask/_03_h_2_108.png (deflated 22%)\n",
            "  adding: hrf_256_256_dice_loss_hvr_2/split_2/train/mask/_04_h_0_67.png (deflated 19%)\n",
            "  adding: hrf_256_256_dice_loss_hvr_2/split_2/train/mask/_10_dr_0_125.png (deflated 85%)\n",
            "  adding: hrf_256_256_dice_loss_hvr_2/split_2/train/mask/_01_dr_3_69.png (deflated 57%)\n",
            "  adding: hrf_256_256_dice_loss_hvr_2/split_2/train/mask/_03_h_2_41.png (deflated 85%)\n",
            "  adding: hrf_256_256_dice_loss_hvr_2/split_2/train/mask/_07_g_1_111.png (deflated 85%)\n",
            "  adding: hrf_256_256_dice_loss_hvr_2/split_2/train/mask/_03_h_3_125.png (deflated 50%)\n",
            "  adding: hrf_256_256_dice_loss_hvr_2/split_2/train/mask/_02_dr_3_72.png (deflated 18%)\n",
            "  adding: hrf_256_256_dice_loss_hvr_2/split_2/train/mask/_03_dr_2_109.png (deflated 22%)\n",
            "  adding: hrf_256_256_dice_loss_hvr_2/split_2/train/mask/_13_g_1_43.png (deflated 16%)\n",
            "  adding: hrf_256_256_dice_loss_hvr_2/split_2/train/mask/_14_dr_1_98.png (deflated 83%)\n",
            "  adding: hrf_256_256_dice_loss_hvr_2/split_2/train/mask/_10_dr_2_86.png (deflated 18%)\n",
            "  adding: hrf_256_256_dice_loss_hvr_2/split_2/train/mask/_11_g_2_57.png (deflated 15%)\n",
            "  adding: hrf_256_256_dice_loss_hvr_2/split_2/train/mask/_11_g_3_73.png (deflated 16%)\n",
            "  adding: hrf_256_256_dice_loss_hvr_2/split_2/train/mask/_03_h_1_72.png (deflated 19%)\n",
            "  adding: hrf_256_256_dice_loss_hvr_2/split_2/train/mask/_12_g_2_131.png (deflated 34%)\n",
            "  adding: hrf_256_256_dice_loss_hvr_2/split_2/train/mask/_14_h_2_56.png (deflated 70%)\n",
            "  adding: hrf_256_256_dice_loss_hvr_2/split_2/train/mask/_07_h_0_138.png (deflated 85%)\n",
            "  adding: hrf_256_256_dice_loss_hvr_2/split_2/train/mask/_01_dr_3_38.png (deflated 18%)\n",
            "  adding: hrf_256_256_dice_loss_hvr_2/split_2/train/mask/_07_h_1_6.png (deflated 45%)\n",
            "  adding: hrf_256_256_dice_loss_hvr_2/split_2/train/mask/_01_dr_0_75.png (deflated 23%)\n",
            "  adding: hrf_256_256_dice_loss_hvr_2/split_2/train/mask/_10_g_2_107.png (deflated 20%)\n",
            "  adding: hrf_256_256_dice_loss_hvr_2/split_2/train/mask/_14_dr_0_31.png (deflated 27%)\n",
            "  adding: hrf_256_256_dice_loss_hvr_2/split_2/train/mask/_04_h_1_40.png (deflated 23%)\n",
            "  adding: hrf_256_256_dice_loss_hvr_2/split_2/train/mask/_01_g_1_5.png (deflated 33%)\n",
            "  adding: hrf_256_256_dice_loss_hvr_2/split_2/train/mask/_01_g_3_71.png (deflated 21%)\n",
            "  adding: hrf_256_256_dice_loss_hvr_2/split_2/train/mask/_14_h_0_53.png (deflated 26%)\n",
            "  adding: hrf_256_256_dice_loss_hvr_2/split_2/train/mask/_15_dr_1_86.png (deflated 32%)\n",
            "  adding: hrf_256_256_dice_loss_hvr_2/split_2/train/mask/_14_dr_1_77.png (deflated 37%)\n",
            "  adding: hrf_256_256_dice_loss_hvr_2/split_2/train/mask/_04_g_3_16.png (deflated 21%)\n",
            "  adding: hrf_256_256_dice_loss_hvr_2/split_2/train/mask/_14_h_0_59.png (deflated 21%)\n",
            "  adding: hrf_256_256_dice_loss_hvr_2/split_2/train/mask/_04_g_1_42.png (deflated 32%)\n",
            "  adding: hrf_256_256_dice_loss_hvr_2/split_2/train/mask/_11_h_2_114.png (deflated 33%)\n",
            "  adding: hrf_256_256_dice_loss_hvr_2/split_2/train/mask/_06_dr_0_11.png (deflated 51%)\n",
            "  adding: hrf_256_256_dice_loss_hvr_2/split_2/train/mask/_14_dr_0_107.png (deflated 30%)\n",
            "  adding: hrf_256_256_dice_loss_hvr_2/split_2/train/mask/_09_dr_2_128.png (deflated 85%)\n",
            "  adding: hrf_256_256_dice_loss_hvr_2/split_2/train/mask/_10_g_1_83.png (deflated 46%)\n",
            "  adding: hrf_256_256_dice_loss_hvr_2/split_2/train/mask/_14_dr_0_21.png (deflated 18%)\n",
            "  adding: hrf_256_256_dice_loss_hvr_2/split_2/train/mask/_04_g_1_16.png (deflated 33%)\n",
            "  adding: hrf_256_256_dice_loss_hvr_2/split_2/train/mask/_02_dr_3_94.png (deflated 27%)\n",
            "  adding: hrf_256_256_dice_loss_hvr_2/split_2/train/mask/_01_g_1_60.png (deflated 23%)\n",
            "  adding: hrf_256_256_dice_loss_hvr_2/split_2/train/mask/_11_h_0_131.png (deflated 32%)\n",
            "  adding: hrf_256_256_dice_loss_hvr_2/split_2/train/mask/_14_dr_2_33.png (deflated 21%)\n",
            "  adding: hrf_256_256_dice_loss_hvr_2/split_2/train/mask/_12_g_0_60.png (deflated 18%)\n",
            "  adding: hrf_256_256_dice_loss_hvr_2/split_2/train/mask/_14_g_1_118.png (deflated 20%)\n",
            "  adding: hrf_256_256_dice_loss_hvr_2/split_2/train/mask/_12_dr_0_111.png (deflated 85%)\n",
            "  adding: hrf_256_256_dice_loss_hvr_2/split_2/train/mask/_14_dr_3_130.png (deflated 62%)\n",
            "  adding: hrf_256_256_dice_loss_hvr_2/split_2/train/mask/_10_dr_1_90.png (deflated 24%)\n",
            "  adding: hrf_256_256_dice_loss_hvr_2/split_2/train/mask/_07_h_1_26.png (deflated 46%)\n",
            "  adding: hrf_256_256_dice_loss_hvr_2/split_2/train/mask/_14_h_3_32.png (deflated 13%)\n",
            "  adding: hrf_256_256_dice_loss_hvr_2/split_2/train/mask/_01_g_2_11.png (deflated 53%)\n",
            "  adding: hrf_256_256_dice_loss_hvr_2/split_2/train/mask/_02_h_2_30.png (deflated 18%)\n",
            "  adding: hrf_256_256_dice_loss_hvr_2/split_2/train/mask/_14_dr_0_137.png (deflated 30%)\n",
            "  adding: hrf_256_256_dice_loss_hvr_2/split_2/train/mask/_07_g_3_39.png (deflated 27%)\n",
            "  adding: hrf_256_256_dice_loss_hvr_2/split_2/train/mask/_11_h_2_59.png (deflated 23%)\n",
            "  adding: hrf_256_256_dice_loss_hvr_2/split_2/train/mask/_09_dr_1_111.png (deflated 85%)\n",
            "  adding: hrf_256_256_dice_loss_hvr_2/split_2/train/mask/_02_dr_2_66.png (deflated 22%)\n",
            "  adding: hrf_256_256_dice_loss_hvr_2/split_2/train/mask/_03_h_3_135.png (deflated 35%)\n",
            "  adding: hrf_256_256_dice_loss_hvr_2/split_2/train/mask/_02_dr_3_50.png (deflated 22%)\n",
            "  adding: hrf_256_256_dice_loss_hvr_2/split_2/train/mask/_02_h_3_129.png (deflated 34%)\n",
            "  adding: hrf_256_256_dice_loss_hvr_2/split_2/train/mask/_12_dr_2_29.png (deflated 85%)\n",
            "  adding: hrf_256_256_dice_loss_hvr_2/split_2/train/mask/_11_g_2_96.png (deflated 15%)\n",
            "  adding: hrf_256_256_dice_loss_hvr_2/split_2/train/mask/_09_g_0_107.png (deflated 25%)\n",
            "  adding: hrf_256_256_dice_loss_hvr_2/split_2/train/mask/_15_dr_0_134.png (deflated 27%)\n",
            "  adding: hrf_256_256_dice_loss_hvr_2/split_2/train/mask/_07_h_2_111.png (deflated 75%)\n",
            "  adding: hrf_256_256_dice_loss_hvr_2/split_2/train/mask/_14_h_0_69.png (deflated 85%)\n",
            "  adding: hrf_256_256_dice_loss_hvr_2/split_2/train/mask/_04_h_3_51.png (deflated 24%)\n",
            "  adding: hrf_256_256_dice_loss_hvr_2/split_2/train/mask/_07_g_1_120.png (deflated 16%)\n",
            "  adding: hrf_256_256_dice_loss_hvr_2/split_2/train/mask/_14_dr_3_96.png (deflated 25%)\n",
            "  adding: hrf_256_256_dice_loss_hvr_2/split_2/train/mask/_11_h_3_57.png (deflated 32%)\n",
            "  adding: hrf_256_256_dice_loss_hvr_2/split_2/train/mask/_15_dr_1_121.png (deflated 26%)\n",
            "  adding: hrf_256_256_dice_loss_hvr_2/split_2/train/mask/_10_g_1_125.png (deflated 85%)\n",
            "  adding: hrf_256_256_dice_loss_hvr_2/split_2/train/mask/_09_dr_2_46.png (deflated 27%)\n",
            "  adding: hrf_256_256_dice_loss_hvr_2/split_2/train/mask/_10_dr_2_30.png (deflated 21%)\n",
            "  adding: hrf_256_256_dice_loss_hvr_2/split_2/train/mask/_07_g_3_51.png (deflated 14%)\n",
            "  adding: hrf_256_256_dice_loss_hvr_2/split_2/train/mask/_07_h_1_121.png (deflated 22%)\n",
            "  adding: hrf_256_256_dice_loss_hvr_2/split_2/train/mask/_07_g_1_110.png (deflated 27%)\n",
            "  adding: hrf_256_256_dice_loss_hvr_2/split_2/train/mask/_07_g_3_15.png (deflated 32%)\n",
            "  adding: hrf_256_256_dice_loss_hvr_2/split_2/train/mask/_04_g_0_79.png (deflated 29%)\n",
            "  adding: hrf_256_256_dice_loss_hvr_2/split_2/train/mask/_11_g_1_127.png (deflated 85%)\n",
            "  adding: hrf_256_256_dice_loss_hvr_2/split_2/train/mask/_12_dr_1_5.png (deflated 33%)\n",
            "  adding: hrf_256_256_dice_loss_hvr_2/split_2/train/mask/_04_h_2_78.png (deflated 25%)\n",
            "  adding: hrf_256_256_dice_loss_hvr_2/split_2/train/mask/_11_g_2_39.png (deflated 21%)\n",
            "  adding: hrf_256_256_dice_loss_hvr_2/split_2/train/mask/_09_g_0_9.png (deflated 29%)\n",
            "  adding: hrf_256_256_dice_loss_hvr_2/split_2/train/mask/_12_dr_2_45.png (deflated 40%)\n",
            "  adding: hrf_256_256_dice_loss_hvr_2/split_2/train/mask/_15_dr_0_32.png (deflated 17%)\n",
            "  adding: hrf_256_256_dice_loss_hvr_2/split_2/train/mask/_11_h_3_72.png (deflated 21%)\n",
            "  adding: hrf_256_256_dice_loss_hvr_2/split_2/train/mask/_01_g_2_19.png (deflated 24%)\n",
            "  adding: hrf_256_256_dice_loss_hvr_2/split_2/train/mask/_03_dr_2_101.png (deflated 38%)\n",
            "  adding: hrf_256_256_dice_loss_hvr_2/split_2/train/mask/_07_g_1_89.png (deflated 23%)\n",
            "  adding: hrf_256_256_dice_loss_hvr_2/split_2/train/mask/_12_g_1_82.png (deflated 22%)\n",
            "  adding: hrf_256_256_dice_loss_hvr_2/split_2/train/mask/_05_h_2_22.png (deflated 18%)\n",
            "  adding: hrf_256_256_dice_loss_hvr_2/split_2/train/mask/_08_h_0_128.png (deflated 46%)\n",
            "  adding: hrf_256_256_dice_loss_hvr_2/split_2/train/mask/_06_dr_0_52.png (deflated 32%)\n",
            "  adding: hrf_256_256_dice_loss_hvr_2/split_2/train/mask/_05_h_1_8.png (deflated 31%)\n",
            "  adding: hrf_256_256_dice_loss_hvr_2/split_2/train/mask/_01_g_0_7.png (deflated 42%)\n",
            "  adding: hrf_256_256_dice_loss_hvr_2/split_2/train/mask/_05_h_1_1.png (deflated 62%)\n",
            "  adding: hrf_256_256_dice_loss_hvr_2/split_2/train/mask/_02_dr_2_64.png (deflated 26%)\n",
            "  adding: hrf_256_256_dice_loss_hvr_2/split_2/train/mask/_10_g_0_68.png (deflated 33%)\n",
            "  adding: hrf_256_256_dice_loss_hvr_2/split_2/train/mask/_12_dr_1_75.png (deflated 25%)\n",
            "  adding: hrf_256_256_dice_loss_hvr_2/split_2/train/mask/_13_h_0_17.png (deflated 15%)\n",
            "  adding: hrf_256_256_dice_loss_hvr_2/split_2/train/mask/_07_g_0_83.png (deflated 32%)\n",
            "  adding: hrf_256_256_dice_loss_hvr_2/split_2/train/mask/_09_g_3_133.png (deflated 27%)\n",
            "  adding: hrf_256_256_dice_loss_hvr_2/split_2/train/mask/_01_g_3_26.png (deflated 27%)\n",
            "  adding: hrf_256_256_dice_loss_hvr_2/split_2/train/mask/_01_dr_3_62.png (deflated 28%)\n",
            "  adding: hrf_256_256_dice_loss_hvr_2/split_2/train/mask/_10_dr_2_47.png (deflated 19%)\n",
            "  adding: hrf_256_256_dice_loss_hvr_2/split_2/train/mask/_12_dr_3_127.png (deflated 85%)\n",
            "  adding: hrf_256_256_dice_loss_hvr_2/split_2/train/mask/_12_g_3_11.png (deflated 26%)\n",
            "  adding: hrf_256_256_dice_loss_hvr_2/split_2/train/mask/_02_h_3_12.png (deflated 85%)\n",
            "  adding: hrf_256_256_dice_loss_hvr_2/split_2/train/mask/_10_dr_1_68.png (deflated 27%)\n",
            "  adding: hrf_256_256_dice_loss_hvr_2/split_2/train/mask/_03_dr_0_11.png (deflated 37%)\n",
            "  adding: hrf_256_256_dice_loss_hvr_2/split_2/train/mask/_04_h_3_98.png (deflated 85%)\n",
            "  adding: hrf_256_256_dice_loss_hvr_2/split_2/train/mask/_15_dr_3_108.png (deflated 31%)\n",
            "  adding: hrf_256_256_dice_loss_hvr_2/split_2/train/mask/_08_h_1_123.png (deflated 22%)\n",
            "  adding: hrf_256_256_dice_loss_hvr_2/split_2/train/mask/_10_dr_1_25.png (deflated 24%)\n",
            "  adding: hrf_256_256_dice_loss_hvr_2/split_2/train/mask/_14_h_0_57.png (deflated 29%)\n",
            "  adding: hrf_256_256_dice_loss_hvr_2/split_2/train/mask/_03_dr_3_24.png (deflated 24%)\n",
            "  adding: hrf_256_256_dice_loss_hvr_2/split_2/train/mask/_02_h_2_52.png (deflated 23%)\n",
            "  adding: hrf_256_256_dice_loss_hvr_2/split_2/train/mask/_15_dr_1_74.png (deflated 25%)\n",
            "  adding: hrf_256_256_dice_loss_hvr_2/split_2/train/mask/_12_dr_0_26.png (deflated 62%)\n",
            "  adding: hrf_256_256_dice_loss_hvr_2/split_2/train/mask/_12_g_0_1.png (deflated 85%)\n",
            "  adding: hrf_256_256_dice_loss_hvr_2/split_2/train/mask/_11_h_1_53.png (deflated 18%)\n",
            "  adding: hrf_256_256_dice_loss_hvr_2/split_2/train/mask/_03_dr_2_33.png (deflated 19%)\n",
            "  adding: hrf_256_256_dice_loss_hvr_2/split_2/train/mask/_13_g_3_81.png (deflated 21%)\n",
            "  adding: hrf_256_256_dice_loss_hvr_2/split_2/train/mask/_12_dr_2_70.png (deflated 52%)\n",
            "  adding: hrf_256_256_dice_loss_hvr_2/split_2/train/mask/_01_g_0_41.png (deflated 85%)\n",
            "  adding: hrf_256_256_dice_loss_hvr_2/split_2/train/mask/_11_h_3_77.png (deflated 37%)\n",
            "  adding: hrf_256_256_dice_loss_hvr_2/split_2/train/mask/_04_g_0_139.png (deflated 85%)\n",
            "  adding: hrf_256_256_dice_loss_hvr_2/split_2/train/mask/_03_h_2_73.png (deflated 25%)\n",
            "  adding: hrf_256_256_dice_loss_hvr_2/split_2/train/mask/_11_h_3_47.png (deflated 18%)\n",
            "  adding: hrf_256_256_dice_loss_hvr_2/split_2/train/mask/_11_g_0_124.png (deflated 30%)\n",
            "  adding: hrf_256_256_dice_loss_hvr_2/split_2/train/mask/_12_g_1_21.png (deflated 22%)\n",
            "  adding: hrf_256_256_dice_loss_hvr_2/split_2/train/mask/_11_g_1_53.png (deflated 19%)\n",
            "  adding: hrf_256_256_dice_loss_hvr_2/split_2/train/mask/_06_dr_2_45.png (deflated 28%)\n",
            "  adding: hrf_256_256_dice_loss_hvr_2/split_2/train/mask/_04_g_2_19.png (deflated 28%)\n",
            "  adding: hrf_256_256_dice_loss_hvr_2/split_2/train/mask/_12_g_2_104.png (deflated 16%)\n",
            "  adding: hrf_256_256_dice_loss_hvr_2/split_2/train/mask/_08_h_2_95.png (deflated 23%)\n",
            "  adding: hrf_256_256_dice_loss_hvr_2/split_2/train/mask/_10_g_2_133.png (deflated 33%)\n",
            "  adding: hrf_256_256_dice_loss_hvr_2/split_2/train/mask/_06_dr_0_77.png (deflated 85%)\n",
            "  adding: hrf_256_256_dice_loss_hvr_2/split_2/train/mask/_12_g_0_127.png (deflated 85%)\n",
            "  adding: hrf_256_256_dice_loss_hvr_2/split_2/train/mask/_01_g_3_25.png (deflated 29%)\n",
            "  adding: hrf_256_256_dice_loss_hvr_2/split_2/train/mask/_12_g_3_39.png (deflated 21%)\n",
            "  adding: hrf_256_256_dice_loss_hvr_2/split_2/train/mask/_13_h_0_45.png (deflated 23%)\n",
            "  adding: hrf_256_256_dice_loss_hvr_2/split_2/train/mask/_06_dr_3_91.png (deflated 31%)\n",
            "  adding: hrf_256_256_dice_loss_hvr_2/split_2/train/mask/_10_dr_0_20.png (deflated 20%)\n",
            "  adding: hrf_256_256_dice_loss_hvr_2/split_2/train/mask/_01_dr_2_78.png (deflated 31%)\n",
            "  adding: hrf_256_256_dice_loss_hvr_2/split_2/train/mask/_03_h_3_51.png (deflated 17%)\n",
            "  adding: hrf_256_256_dice_loss_hvr_2/split_2/train/mask/_14_g_0_58.png (deflated 18%)\n",
            "  adding: hrf_256_256_dice_loss_hvr_2/split_2/train/mask/_13_g_3_9.png (deflated 39%)\n",
            "  adding: hrf_256_256_dice_loss_hvr_2/split_2/train/mask/_11_h_3_52.png (deflated 16%)\n",
            "  adding: hrf_256_256_dice_loss_hvr_2/split_2/train/mask/_05_h_1_91.png (deflated 29%)\n",
            "  adding: hrf_256_256_dice_loss_hvr_2/split_2/train/mask/_15_dr_3_44.png (deflated 27%)\n",
            "  adding: hrf_256_256_dice_loss_hvr_2/split_2/train/mask/_09_g_0_85.png (deflated 18%)\n",
            "  adding: hrf_256_256_dice_loss_hvr_2/split_2/train/mask/_14_dr_3_60.png (deflated 15%)\n",
            "  adding: hrf_256_256_dice_loss_hvr_2/split_2/train/mask/_03_dr_0_7.png (deflated 27%)\n",
            "  adding: hrf_256_256_dice_loss_hvr_2/split_2/train/mask/_04_g_3_86.png (deflated 25%)\n",
            "  adding: hrf_256_256_dice_loss_hvr_2/split_2/train/mask/_10_dr_3_117.png (deflated 24%)\n",
            "  adding: hrf_256_256_dice_loss_hvr_2/split_2/train/mask/_13_g_1_97.png (deflated 53%)\n",
            "  adding: hrf_256_256_dice_loss_hvr_2/split_2/train/mask/_07_g_2_21.png (deflated 19%)\n",
            "  adding: hrf_256_256_dice_loss_hvr_2/split_2/train/mask/_06_dr_1_7.png (deflated 32%)\n",
            "  adding: hrf_256_256_dice_loss_hvr_2/split_2/train/mask/_13_h_1_88.png (deflated 16%)\n",
            "  adding: hrf_256_256_dice_loss_hvr_2/split_2/train/mask/_06_dr_2_29.png (deflated 21%)\n",
            "  adding: hrf_256_256_dice_loss_hvr_2/split_2/train/mask/_02_h_0_111.png (deflated 85%)\n",
            "  adding: hrf_256_256_dice_loss_hvr_2/split_2/train/mask/_04_h_1_14.png (deflated 85%)\n",
            "  adding: hrf_256_256_dice_loss_hvr_2/split_2/train/mask/_01_dr_0_63.png (deflated 34%)\n",
            "  adding: hrf_256_256_dice_loss_hvr_2/split_2/train/mask/_09_dr_0_46.png (deflated 25%)\n",
            "  adding: hrf_256_256_dice_loss_hvr_2/split_2/train/mask/_11_h_1_70.png (deflated 27%)\n",
            "  adding: hrf_256_256_dice_loss_hvr_2/split_2/train/mask/_09_g_3_119.png (deflated 20%)\n",
            "  adding: hrf_256_256_dice_loss_hvr_2/split_2/train/mask/_07_h_1_49.png (deflated 19%)\n",
            "  adding: hrf_256_256_dice_loss_hvr_2/split_2/train/mask/_15_dr_0_96.png (deflated 22%)\n",
            "  adding: hrf_256_256_dice_loss_hvr_2/split_2/train/mask/_03_dr_0_53.png (deflated 32%)\n",
            "  adding: hrf_256_256_dice_loss_hvr_2/split_2/train/mask/_12_dr_1_84.png (deflated 85%)\n",
            "  adding: hrf_256_256_dice_loss_hvr_2/split_2/train/mask/_07_h_3_19.png (deflated 35%)\n",
            "  adding: hrf_256_256_dice_loss_hvr_2/split_2/train/mask/_10_dr_2_69.png (deflated 30%)\n",
            "  adding: hrf_256_256_dice_loss_hvr_2/split_2/train/mask/_10_dr_3_92.png (deflated 21%)\n",
            "  adding: hrf_256_256_dice_loss_hvr_2/split_2/train/mask/_12_g_0_132.png (deflated 28%)\n",
            "  adding: hrf_256_256_dice_loss_hvr_2/split_2/train/mask/_01_g_1_59.png (deflated 17%)\n",
            "  adding: hrf_256_256_dice_loss_hvr_2/split_2/train/mask/_08_h_3_138.png (deflated 23%)\n",
            "  adding: hrf_256_256_dice_loss_hvr_2/split_2/train/mask/_14_dr_1_5.png (deflated 52%)\n",
            "  adding: hrf_256_256_dice_loss_hvr_2/split_2/train/mask/_08_h_3_123.png (deflated 12%)\n",
            "  adding: hrf_256_256_dice_loss_hvr_2/split_2/train/mask/_06_dr_0_3.png (deflated 42%)\n",
            "  adding: hrf_256_256_dice_loss_hvr_2/split_2/train/mask/_13_h_0_135.png (deflated 43%)\n",
            "  adding: hrf_256_256_dice_loss_hvr_2/split_2/train/mask/_11_h_0_39.png (deflated 28%)\n",
            "  adding: hrf_256_256_dice_loss_hvr_2/split_2/train/mask/_10_g_2_57.png (deflated 28%)\n",
            "  adding: hrf_256_256_dice_loss_hvr_2/split_2/train/mask/_03_dr_0_15.png (deflated 30%)\n",
            "  adding: hrf_256_256_dice_loss_hvr_2/split_2/train/mask/_01_dr_2_84.png (deflated 60%)\n",
            "  adding: hrf_256_256_dice_loss_hvr_2/split_2/train/mask/_12_g_3_27.png (deflated 28%)\n",
            "  adding: hrf_256_256_dice_loss_hvr_2/split_2/train/mask/_12_dr_0_135.png (deflated 31%)\n",
            "  adding: hrf_256_256_dice_loss_hvr_2/split_2/train/mask/_06_dr_1_77.png (deflated 37%)\n",
            "  adding: hrf_256_256_dice_loss_hvr_2/split_2/train/mask/_15_dr_0_12.png (deflated 74%)\n",
            "  adding: hrf_256_256_dice_loss_hvr_2/split_2/train/mask/_12_g_1_17.png (deflated 22%)\n",
            "  adding: hrf_256_256_dice_loss_hvr_2/split_2/train/mask/_15_dr_3_88.png (deflated 27%)\n",
            "  adding: hrf_256_256_dice_loss_hvr_2/split_2/train/mask/_09_dr_1_81.png (deflated 34%)\n",
            "  adding: hrf_256_256_dice_loss_hvr_2/split_2/train/mask/_10_dr_3_94.png (deflated 17%)\n",
            "  adding: hrf_256_256_dice_loss_hvr_2/split_2/train/mask/_02_dr_1_23.png (deflated 37%)\n",
            "  adding: hrf_256_256_dice_loss_hvr_2/split_2/train/mask/_03_dr_3_18.png (deflated 26%)\n",
            "  adding: hrf_256_256_dice_loss_hvr_2/split_2/train/mask/_10_g_2_0.png (deflated 85%)\n",
            "  adding: hrf_256_256_dice_loss_hvr_2/split_2/train/mask/_02_dr_3_57.png (deflated 23%)\n",
            "  adding: hrf_256_256_dice_loss_hvr_2/split_2/train/mask/_11_h_2_20.png (deflated 17%)\n",
            "  adding: hrf_256_256_dice_loss_hvr_2/split_2/train/mask/_15_dr_3_14.png (deflated 80%)\n",
            "  adding: hrf_256_256_dice_loss_hvr_2/split_2/train/mask/_11_h_0_70.png (deflated 50%)\n",
            "  adding: hrf_256_256_dice_loss_hvr_2/split_2/train/mask/_04_g_2_119.png (deflated 18%)\n",
            "  adding: hrf_256_256_dice_loss_hvr_2/split_2/train/mask/_09_dr_0_135.png (deflated 85%)\n",
            "  adding: hrf_256_256_dice_loss_hvr_2/split_2/train/mask/_12_g_0_108.png (deflated 19%)\n",
            "  adding: hrf_256_256_dice_loss_hvr_2/split_2/train/mask/_10_dr_0_126.png (deflated 85%)\n",
            "  adding: hrf_256_256_dice_loss_hvr_2/split_2/train/mask/_13_g_0_72.png (deflated 24%)\n",
            "  adding: hrf_256_256_dice_loss_hvr_2/split_2/train/mask/_03_dr_1_120.png (deflated 23%)\n",
            "  adding: hrf_256_256_dice_loss_hvr_2/split_2/train/mask/_14_g_0_84.png (deflated 76%)\n",
            "  adding: hrf_256_256_dice_loss_hvr_2/split_2/train/mask/_14_dr_3_116.png (deflated 26%)\n",
            "  adding: hrf_256_256_dice_loss_hvr_2/split_2/train/mask/_13_g_2_59.png (deflated 26%)\n",
            "  adding: hrf_256_256_dice_loss_hvr_2/split_2/train/mask/_04_h_1_16.png (deflated 40%)\n",
            "  adding: hrf_256_256_dice_loss_hvr_2/split_2/train/mask/_12_dr_2_62.png (deflated 24%)\n",
            "  adding: hrf_256_256_dice_loss_hvr_2/split_2/train/mask/_04_g_1_49.png (deflated 22%)\n",
            "  adding: hrf_256_256_dice_loss_hvr_2/split_2/train/mask/_06_dr_1_131.png (deflated 36%)\n",
            "  adding: hrf_256_256_dice_loss_hvr_2/split_2/train/mask/_13_g_3_24.png (deflated 29%)\n",
            "  adding: hrf_256_256_dice_loss_hvr_2/split_2/train/mask/_14_h_1_138.png (deflated 85%)\n",
            "  adding: hrf_256_256_dice_loss_hvr_2/split_2/train/mask/_03_h_2_33.png (deflated 26%)\n",
            "  adding: hrf_256_256_dice_loss_hvr_2/split_2/train/mask/_07_h_2_68.png (deflated 23%)\n",
            "  adding: hrf_256_256_dice_loss_hvr_2/split_2/train/mask/_09_g_1_18.png (deflated 17%)\n",
            "  adding: hrf_256_256_dice_loss_hvr_2/split_2/train/mask/_13_g_1_112.png (deflated 85%)\n",
            "  adding: hrf_256_256_dice_loss_hvr_2/split_2/train/mask/_04_g_3_110.png (deflated 27%)\n",
            "  adding: hrf_256_256_dice_loss_hvr_2/split_2/train/mask/_07_g_2_47.png (deflated 28%)\n",
            "  adding: hrf_256_256_dice_loss_hvr_2/split_2/train/mask/_01_dr_2_119.png (deflated 16%)\n",
            "  adding: hrf_256_256_dice_loss_hvr_2/split_2/train/mask/_14_g_2_119.png (deflated 16%)\n",
            "  adding: hrf_256_256_dice_loss_hvr_2/split_2/train/mask/_04_h_0_133.png (deflated 25%)\n",
            "  adding: hrf_256_256_dice_loss_hvr_2/split_2/train/mask/_03_h_1_57.png (deflated 21%)\n",
            "  adding: hrf_256_256_dice_loss_hvr_2/split_2/train/mask/_14_h_2_25.png (deflated 32%)\n",
            "  adding: hrf_256_256_dice_loss_hvr_2/split_2/train/mask/_02_dr_2_45.png (deflated 26%)\n",
            "  adding: hrf_256_256_dice_loss_hvr_2/split_2/train/mask/_14_g_0_16.png (deflated 28%)\n",
            "  adding: hrf_256_256_dice_loss_hvr_2/split_2/train/mask/_02_h_1_65.png (deflated 16%)\n",
            "  adding: hrf_256_256_dice_loss_hvr_2/split_2/train/mask/_07_g_2_97.png (deflated 37%)\n",
            "  adding: hrf_256_256_dice_loss_hvr_2/split_2/train/mask/_08_h_1_0.png (deflated 85%)\n",
            "  adding: hrf_256_256_dice_loss_hvr_2/split_2/train/mask/_02_h_1_54.png (deflated 16%)\n",
            "  adding: hrf_256_256_dice_loss_hvr_2/split_2/train/mask/_13_g_2_114.png (deflated 18%)\n",
            "  adding: hrf_256_256_dice_loss_hvr_2/split_2/train/mask/_03_h_2_94.png (deflated 19%)\n",
            "  adding: hrf_256_256_dice_loss_hvr_2/split_2/train/mask/_14_dr_1_55.png (deflated 48%)\n",
            "  adding: hrf_256_256_dice_loss_hvr_2/split_2/train/mask/_13_g_2_19.png (deflated 46%)\n",
            "  adding: hrf_256_256_dice_loss_hvr_2/split_2/train/mask/_08_h_1_45.png (deflated 25%)\n",
            "  adding: hrf_256_256_dice_loss_hvr_2/split_2/train/mask/_11_h_1_3.png (deflated 36%)\n",
            "  adding: hrf_256_256_dice_loss_hvr_2/split_2/train/mask/_14_g_3_108.png (deflated 16%)\n",
            "  adding: hrf_256_256_dice_loss_hvr_2/split_2/train/mask/_03_h_1_108.png (deflated 19%)\n",
            "  adding: hrf_256_256_dice_loss_hvr_2/split_2/train/mask/_12_g_2_132.png (deflated 27%)\n",
            "  adding: hrf_256_256_dice_loss_hvr_2/split_2/train/mask/_14_h_1_62.png (deflated 32%)\n",
            "  adding: hrf_256_256_dice_loss_hvr_2/split_2/train/mask/_12_dr_1_107.png (deflated 19%)\n",
            "  adding: hrf_256_256_dice_loss_hvr_2/split_2/train/mask/_02_h_0_74.png (deflated 28%)\n",
            "  adding: hrf_256_256_dice_loss_hvr_2/split_2/train/mask/_11_g_1_62.png (deflated 28%)\n",
            "  adding: hrf_256_256_dice_loss_hvr_2/split_2/train/mask/_15_dr_2_68.png (deflated 17%)\n",
            "  adding: hrf_256_256_dice_loss_hvr_2/split_2/train/mask/_01_dr_3_20.png (deflated 15%)\n",
            "  adding: hrf_256_256_dice_loss_hvr_2/split_2/train/mask/_11_g_2_136.png (deflated 29%)\n",
            "  adding: hrf_256_256_dice_loss_hvr_2/split_2/train/mask/_07_h_1_15.png (deflated 45%)\n",
            "  adding: hrf_256_256_dice_loss_hvr_2/split_2/train/mask/_10_g_0_10.png (deflated 28%)\n",
            "  adding: hrf_256_256_dice_loss_hvr_2/split_2/train/mask/_11_h_0_68.png (deflated 27%)\n",
            "  adding: hrf_256_256_dice_loss_hvr_2/split_2/train/mask/_11_g_0_95.png (deflated 19%)\n",
            "  adding: hrf_256_256_dice_loss_hvr_2/split_2/train/mask/_06_dr_2_119.png (deflated 30%)\n",
            "  adding: hrf_256_256_dice_loss_hvr_2/split_2/train/mask/_01_g_2_90.png (deflated 22%)\n",
            "  adding: hrf_256_256_dice_loss_hvr_2/split_2/train/mask/_14_h_1_35.png (deflated 16%)\n",
            "  adding: hrf_256_256_dice_loss_hvr_2/split_2/train/mask/_12_dr_1_54.png (deflated 37%)\n",
            "  adding: hrf_256_256_dice_loss_hvr_2/split_2/train/mask/_15_dr_1_24.png (deflated 31%)\n",
            "  adding: hrf_256_256_dice_loss_hvr_2/split_2/train/mask/_03_dr_0_124.png (deflated 67%)\n",
            "  adding: hrf_256_256_dice_loss_hvr_2/split_2/train/mask/_02_h_3_18.png (deflated 19%)\n",
            "  adding: hrf_256_256_dice_loss_hvr_2/split_2/train/mask/_02_dr_2_138.png (deflated 77%)\n",
            "  adding: hrf_256_256_dice_loss_hvr_2/split_2/train/mask/_05_h_0_30.png (deflated 21%)\n",
            "  adding: hrf_256_256_dice_loss_hvr_2/split_2/train/mask/_02_dr_2_7.png (deflated 31%)\n",
            "  adding: hrf_256_256_dice_loss_hvr_2/split_2/train/mask/_15_dr_2_75.png (deflated 32%)\n",
            "  adding: hrf_256_256_dice_loss_hvr_2/split_2/train/mask/_01_g_2_52.png (deflated 30%)\n",
            "  adding: hrf_256_256_dice_loss_hvr_2/split_2/train/mask/_05_h_3_9.png (deflated 35%)\n",
            "  adding: hrf_256_256_dice_loss_hvr_2/split_2/train/mask/_03_dr_0_113.png (deflated 43%)\n",
            "  adding: hrf_256_256_dice_loss_hvr_2/split_2/train/mask/_13_g_1_36.png (deflated 30%)\n",
            "  adding: hrf_256_256_dice_loss_hvr_2/split_2/train/mask/_14_h_0_118.png (deflated 21%)\n",
            "  adding: hrf_256_256_dice_loss_hvr_2/split_2/train/mask/_09_g_2_105.png (deflated 27%)\n",
            "  adding: hrf_256_256_dice_loss_hvr_2/split_2/train/mask/_14_dr_2_7.png (deflated 40%)\n",
            "  adding: hrf_256_256_dice_loss_hvr_2/split_2/train/mask/_02_dr_2_68.png (deflated 31%)\n",
            "  adding: hrf_256_256_dice_loss_hvr_2/split_2/train/mask/_14_dr_0_87.png (deflated 28%)\n",
            "  adding: hrf_256_256_dice_loss_hvr_2/split_2/train/mask/_10_dr_2_97.png (deflated 62%)\n",
            "  adding: hrf_256_256_dice_loss_hvr_2/split_2/train/mask/_12_dr_0_128.png (deflated 45%)\n",
            "  adding: hrf_256_256_dice_loss_hvr_2/split_2/train/mask/_10_g_3_20.png (deflated 23%)\n",
            "  adding: hrf_256_256_dice_loss_hvr_2/split_2/train/mask/_05_h_1_129.png (deflated 30%)\n",
            "  adding: hrf_256_256_dice_loss_hvr_2/split_2/train/mask/_01_g_0_132.png (deflated 32%)\n",
            "  adding: hrf_256_256_dice_loss_hvr_2/split_2/train/mask/_15_dr_2_28.png (deflated 85%)\n",
            "  adding: hrf_256_256_dice_loss_hvr_2/split_2/train/mask/_12_dr_0_79.png (deflated 24%)\n",
            "  adding: hrf_256_256_dice_loss_hvr_2/split_2/train/mask/_03_h_1_19.png (deflated 18%)\n",
            "  adding: hrf_256_256_dice_loss_hvr_2/split_2/train/mask/_14_dr_2_136.png (deflated 33%)\n",
            "  adding: hrf_256_256_dice_loss_hvr_2/split_2/train/mask/_08_h_2_114.png (deflated 31%)\n",
            "  adding: hrf_256_256_dice_loss_hvr_2/split_2/train/mask/_01_g_2_16.png (deflated 24%)\n",
            "  adding: hrf_256_256_dice_loss_hvr_2/split_2/train/mask/_03_h_0_76.png (deflated 36%)\n",
            "  adding: hrf_256_256_dice_loss_hvr_2/split_2/train/mask/_10_dr_2_31.png (deflated 41%)\n",
            "  adding: hrf_256_256_dice_loss_hvr_2/split_2/train/mask/_01_g_0_39.png (deflated 31%)\n",
            "  adding: hrf_256_256_dice_loss_hvr_2/split_2/train/mask/_03_h_2_28.png (deflated 85%)\n",
            "  adding: hrf_256_256_dice_loss_hvr_2/split_2/train/mask/_03_dr_3_94.png (deflated 20%)\n",
            "  adding: hrf_256_256_dice_loss_hvr_2/split_2/train/mask/_06_dr_0_95.png (deflated 25%)\n",
            "  adding: hrf_256_256_dice_loss_hvr_2/split_2/train/mask/_15_dr_1_21.png (deflated 45%)\n",
            "  adding: hrf_256_256_dice_loss_hvr_2/split_2/train/mask/_04_h_0_81.png (deflated 22%)\n",
            "  adding: hrf_256_256_dice_loss_hvr_2/split_2/train/mask/_03_dr_1_75.png (deflated 29%)\n",
            "  adding: hrf_256_256_dice_loss_hvr_2/split_2/train/mask/_05_h_1_94.png (deflated 27%)\n",
            "  adding: hrf_256_256_dice_loss_hvr_2/split_2/train/mask/_09_dr_0_30.png (deflated 21%)\n",
            "  adding: hrf_256_256_dice_loss_hvr_2/split_2/train/mask/_12_g_3_71.png (deflated 30%)\n",
            "  adding: hrf_256_256_dice_loss_hvr_2/split_2/train/mask/_04_h_3_36.png (deflated 20%)\n",
            "  adding: hrf_256_256_dice_loss_hvr_2/split_2/train/mask/_15_dr_1_72.png (deflated 27%)\n",
            "  adding: hrf_256_256_dice_loss_hvr_2/split_2/train/mask/_04_g_3_6.png (deflated 32%)\n",
            "  adding: hrf_256_256_dice_loss_hvr_2/split_2/train/mask/_11_g_0_70.png (deflated 34%)\n",
            "  adding: hrf_256_256_dice_loss_hvr_2/split_2/train/mask/_12_dr_0_117.png (deflated 30%)\n",
            "  adding: hrf_256_256_dice_loss_hvr_2/split_2/train/mask/_01_g_2_92.png (deflated 34%)\n",
            "  adding: hrf_256_256_dice_loss_hvr_2/split_2/train/mask/_08_h_1_12.png (deflated 85%)\n",
            "  adding: hrf_256_256_dice_loss_hvr_2/split_2/train/mask/_04_g_0_97.png (deflated 49%)\n",
            "  adding: hrf_256_256_dice_loss_hvr_2/split_2/train/mask/_14_dr_3_90.png (deflated 18%)\n",
            "  adding: hrf_256_256_dice_loss_hvr_2/split_2/train/mask/_10_dr_2_29.png (deflated 23%)\n",
            "  adding: hrf_256_256_dice_loss_hvr_2/split_2/train/mask/_14_dr_0_136.png (deflated 41%)\n",
            "  adding: hrf_256_256_dice_loss_hvr_2/split_2/train/mask/_03_dr_0_131.png (deflated 53%)\n",
            "  adding: hrf_256_256_dice_loss_hvr_2/split_2/train/mask/_01_g_1_129.png (deflated 44%)\n",
            "  adding: hrf_256_256_dice_loss_hvr_2/split_2/train/mask/_10_dr_0_26.png (deflated 31%)\n",
            "  adding: hrf_256_256_dice_loss_hvr_2/split_2/train/mask/_07_h_1_53.png (deflated 34%)\n",
            "  adding: hrf_256_256_dice_loss_hvr_2/split_2/train/mask/_03_h_0_82.png (deflated 17%)\n",
            "  adding: hrf_256_256_dice_loss_hvr_2/split_2/train/mask/_02_dr_3_86.png (deflated 17%)\n",
            "  adding: hrf_256_256_dice_loss_hvr_2/split_2/train/mask/_03_h_1_101.png (deflated 39%)\n",
            "  adding: hrf_256_256_dice_loss_hvr_2/split_2/train/mask/_12_g_0_30.png (deflated 18%)\n",
            "  adding: hrf_256_256_dice_loss_hvr_2/split_2/train/mask/_13_h_2_131.png (deflated 31%)\n",
            "  adding: hrf_256_256_dice_loss_hvr_2/split_2/train/mask/_04_g_0_72.png (deflated 21%)\n",
            "  adding: hrf_256_256_dice_loss_hvr_2/split_2/train/mask/_01_dr_2_136.png (deflated 33%)\n",
            "  adding: hrf_256_256_dice_loss_hvr_2/split_2/train/mask/_01_g_3_133.png (deflated 34%)\n",
            "  adding: hrf_256_256_dice_loss_hvr_2/split_2/train/mask/_06_dr_1_89.png (deflated 23%)\n",
            "  adding: hrf_256_256_dice_loss_hvr_2/split_2/train/mask/_12_dr_3_63.png (deflated 30%)\n",
            "  adding: hrf_256_256_dice_loss_hvr_2/split_2/train/mask/_13_h_2_56.png (deflated 47%)\n",
            "  adding: hrf_256_256_dice_loss_hvr_2/split_2/train/mask/_12_g_0_68.png (deflated 21%)\n",
            "  adding: hrf_256_256_dice_loss_hvr_2/split_2/train/mask/_05_h_3_136.png (deflated 54%)\n",
            "  adding: hrf_256_256_dice_loss_hvr_2/split_2/train/mask/_07_g_0_112.png (deflated 85%)\n",
            "  adding: hrf_256_256_dice_loss_hvr_2/split_2/train/mask/_01_g_3_98.png (deflated 85%)\n",
            "  adding: hrf_256_256_dice_loss_hvr_2/split_2/train/mask/_08_h_1_102.png (deflated 19%)\n",
            "  adding: hrf_256_256_dice_loss_hvr_2/split_2/train/mask/_02_h_1_84.png (deflated 59%)\n",
            "  adding: hrf_256_256_dice_loss_hvr_2/split_2/train/mask/_13_h_2_12.png (deflated 85%)\n",
            "  adding: hrf_256_256_dice_loss_hvr_2/split_2/train/mask/_14_h_2_139.png (deflated 85%)\n",
            "  adding: hrf_256_256_dice_loss_hvr_2/split_2/train/mask/_10_dr_0_95.png (deflated 27%)\n",
            "  adding: hrf_256_256_dice_loss_hvr_2/split_2/train/mask/_03_dr_1_138.png (deflated 85%)\n",
            "  adding: hrf_256_256_dice_loss_hvr_2/split_2/train/mask/_14_g_0_122.png (deflated 17%)\n",
            "  adding: hrf_256_256_dice_loss_hvr_2/split_2/train/mask/_02_h_1_38.png (deflated 31%)\n",
            "  adding: hrf_256_256_dice_loss_hvr_2/split_2/train/mask/_09_dr_1_86.png (deflated 23%)\n",
            "  adding: hrf_256_256_dice_loss_hvr_2/split_2/train/mask/_14_g_3_69.png (deflated 43%)\n",
            "  adding: hrf_256_256_dice_loss_hvr_2/split_2/train/mask/_07_g_3_96.png (deflated 24%)\n",
            "  adding: hrf_256_256_dice_loss_hvr_2/split_2/train/mask/_15_dr_0_109.png (deflated 46%)\n",
            "  adding: hrf_256_256_dice_loss_hvr_2/split_2/train/mask/_09_g_0_82.png (deflated 28%)\n",
            "  adding: hrf_256_256_dice_loss_hvr_2/split_2/train/mask/_03_dr_0_137.png (deflated 85%)\n",
            "  adding: hrf_256_256_dice_loss_hvr_2/split_2/train/mask/_12_g_0_19.png (deflated 25%)\n",
            "  adding: hrf_256_256_dice_loss_hvr_2/split_2/train/mask/_14_g_2_103.png (deflated 18%)\n",
            "  adding: hrf_256_256_dice_loss_hvr_2/split_2/train/mask/_14_h_2_0.png (deflated 85%)\n",
            "  adding: hrf_256_256_dice_loss_hvr_2/split_2/train/mask/_15_dr_1_115.png (deflated 22%)\n",
            "  adding: hrf_256_256_dice_loss_hvr_2/split_2/train/mask/_11_h_1_97.png (deflated 85%)\n",
            "  adding: hrf_256_256_dice_loss_hvr_2/split_2/train/mask/_04_g_1_13.png (deflated 85%)\n",
            "  adding: hrf_256_256_dice_loss_hvr_2/split_2/train/mask/_10_g_3_124.png (deflated 42%)\n",
            "  adding: hrf_256_256_dice_loss_hvr_2/split_2/train/mask/_14_g_0_93.png (deflated 26%)\n",
            "  adding: hrf_256_256_dice_loss_hvr_2/split_2/train/mask/_04_h_1_67.png (deflated 25%)\n",
            "  adding: hrf_256_256_dice_loss_hvr_2/split_2/train/mask/_10_dr_3_36.png (deflated 18%)\n",
            "  adding: hrf_256_256_dice_loss_hvr_2/split_2/train/mask/_02_dr_1_97.png (deflated 64%)\n",
            "  adding: hrf_256_256_dice_loss_hvr_2/split_2/train/mask/_04_h_1_73.png (deflated 21%)\n",
            "  adding: hrf_256_256_dice_loss_hvr_2/split_2/train/mask/_08_h_0_13.png (deflated 85%)\n",
            "  adding: hrf_256_256_dice_loss_hvr_2/split_2/train/mask/_11_g_0_108.png (deflated 27%)\n",
            "  adding: hrf_256_256_dice_loss_hvr_2/split_2/train/mask/_03_h_3_95.png (deflated 14%)\n",
            "  adding: hrf_256_256_dice_loss_hvr_2/split_2/train/mask/_10_dr_3_137.png (deflated 33%)\n",
            "  adding: hrf_256_256_dice_loss_hvr_2/split_2/train/mask/_07_h_1_67.png (deflated 21%)\n",
            "  adding: hrf_256_256_dice_loss_hvr_2/split_2/train/mask/_01_g_0_50.png (deflated 35%)\n",
            "  adding: hrf_256_256_dice_loss_hvr_2/split_2/train/mask/_01_g_3_1.png (deflated 34%)\n",
            "  adding: hrf_256_256_dice_loss_hvr_2/split_2/train/mask/_05_h_2_81.png (deflated 23%)\n",
            "  adding: hrf_256_256_dice_loss_hvr_2/split_2/train/mask/_11_g_3_48.png (deflated 22%)\n",
            "  adding: hrf_256_256_dice_loss_hvr_2/split_2/train/mask/_02_dr_1_58.png (deflated 22%)\n",
            "  adding: hrf_256_256_dice_loss_hvr_2/split_2/train/mask/_11_h_3_122.png (deflated 25%)\n",
            "  adding: hrf_256_256_dice_loss_hvr_2/split_2/train/mask/_14_g_3_107.png (deflated 22%)\n",
            "  adding: hrf_256_256_dice_loss_hvr_2/split_2/train/mask/_07_g_3_40.png (deflated 35%)\n",
            "  adding: hrf_256_256_dice_loss_hvr_2/split_2/train/mask/_12_dr_3_75.png (deflated 17%)\n",
            "  adding: hrf_256_256_dice_loss_hvr_2/split_2/train/mask/_06_dr_3_68.png (deflated 22%)\n",
            "  adding: hrf_256_256_dice_loss_hvr_2/split_2/train/mask/_14_dr_2_107.png (deflated 25%)\n",
            "  adding: hrf_256_256_dice_loss_hvr_2/split_2/train/mask/_01_dr_3_79.png (deflated 18%)\n",
            "  adding: hrf_256_256_dice_loss_hvr_2/split_2/train/mask/_14_dr_0_35.png (deflated 22%)\n",
            "  adding: hrf_256_256_dice_loss_hvr_2/split_2/train/mask/_10_g_1_20.png (deflated 25%)\n",
            "  adding: hrf_256_256_dice_loss_hvr_2/split_2/train/mask/_03_h_0_15.png (deflated 48%)\n",
            "  adding: hrf_256_256_dice_loss_hvr_2/split_2/train/mask/_04_h_0_95.png (deflated 27%)\n",
            "  adding: hrf_256_256_dice_loss_hvr_2/split_2/train/mask/_13_h_2_80.png (deflated 19%)\n",
            "  adding: hrf_256_256_dice_loss_hvr_2/split_2/train/mask/_04_g_3_19.png (deflated 15%)\n",
            "  adding: hrf_256_256_dice_loss_hvr_2/split_2/train/mask/_03_h_3_115.png (deflated 18%)\n",
            "  adding: hrf_256_256_dice_loss_hvr_2/split_2/train/mask/_13_h_0_107.png (deflated 22%)\n",
            "  adding: hrf_256_256_dice_loss_hvr_2/split_2/train/mask/_03_h_1_43.png (deflated 16%)\n",
            "  adding: hrf_256_256_dice_loss_hvr_2/split_2/train/mask/_07_h_0_33.png (deflated 19%)\n",
            "  adding: hrf_256_256_dice_loss_hvr_2/split_2/train/mask/_09_g_2_61.png (deflated 22%)\n",
            "  adding: hrf_256_256_dice_loss_hvr_2/split_2/train/mask/_11_g_0_136.png (deflated 45%)\n",
            "  adding: hrf_256_256_dice_loss_hvr_2/split_2/train/mask/_10_dr_1_91.png (deflated 25%)\n",
            "  adding: hrf_256_256_dice_loss_hvr_2/split_2/train/mask/_02_dr_1_62.png (deflated 43%)\n",
            "  adding: hrf_256_256_dice_loss_hvr_2/split_2/train/mask/_13_h_3_33.png (deflated 18%)\n",
            "  adding: hrf_256_256_dice_loss_hvr_2/split_2/train/mask/_13_g_2_109.png (deflated 21%)\n",
            "  adding: hrf_256_256_dice_loss_hvr_2/split_2/train/mask/_13_g_3_26.png (deflated 27%)\n",
            "  adding: hrf_256_256_dice_loss_hvr_2/split_2/train/mask/_14_dr_2_94.png (deflated 37%)\n",
            "  adding: hrf_256_256_dice_loss_hvr_2/split_2/train/mask/_07_g_2_18.png (deflated 27%)\n",
            "  adding: hrf_256_256_dice_loss_hvr_2/split_2/train/mask/_03_dr_0_4.png (deflated 33%)\n",
            "  adding: hrf_256_256_dice_loss_hvr_2/split_2/train/mask/_10_g_2_61.png (deflated 31%)\n",
            "  adding: hrf_256_256_dice_loss_hvr_2/split_2/train/mask/_03_h_3_17.png (deflated 19%)\n",
            "  adding: hrf_256_256_dice_loss_hvr_2/split_2/train/mask/_01_g_1_15.png (deflated 36%)\n",
            "  adding: hrf_256_256_dice_loss_hvr_2/split_2/train/mask/_13_g_3_135.png (deflated 45%)\n",
            "  adding: hrf_256_256_dice_loss_hvr_2/split_2/train/mask/_10_g_1_44.png (deflated 23%)\n",
            "  adding: hrf_256_256_dice_loss_hvr_2/split_2/train/mask/_01_dr_2_12.png (deflated 85%)\n",
            "  adding: hrf_256_256_dice_loss_hvr_2/split_2/train/mask/_13_h_0_82.png (deflated 24%)\n",
            "  adding: hrf_256_256_dice_loss_hvr_2/split_2/train/mask/_03_dr_1_36.png (deflated 24%)\n",
            "  adding: hrf_256_256_dice_loss_hvr_2/split_2/train/mask/_12_dr_1_116.png (deflated 23%)\n",
            "  adding: hrf_256_256_dice_loss_hvr_2/split_2/train/mask/_09_g_2_46.png (deflated 22%)\n",
            "  adding: hrf_256_256_dice_loss_hvr_2/split_2/train/mask/_02_dr_1_60.png (deflated 32%)\n",
            "  adding: hrf_256_256_dice_loss_hvr_2/split_2/train/mask/_02_dr_2_100.png (deflated 19%)\n",
            "  adding: hrf_256_256_dice_loss_hvr_2/split_2/train/mask/_14_g_0_131.png (deflated 44%)\n",
            "  adding: hrf_256_256_dice_loss_hvr_2/split_2/train/mask/_05_h_2_109.png (deflated 28%)\n",
            "  adding: hrf_256_256_dice_loss_hvr_2/split_2/train/mask/_07_g_2_96.png (deflated 15%)\n",
            "  adding: hrf_256_256_dice_loss_hvr_2/split_2/train/mask/_02_dr_1_129.png (deflated 29%)\n",
            "  adding: hrf_256_256_dice_loss_hvr_2/split_2/train/mask/_06_dr_3_12.png (deflated 31%)\n",
            "  adding: hrf_256_256_dice_loss_hvr_2/split_2/train/mask/_14_g_1_42.png (deflated 69%)\n",
            "  adding: hrf_256_256_dice_loss_hvr_2/split_2/train/mask/_13_g_3_22.png (deflated 14%)\n",
            "  adding: hrf_256_256_dice_loss_hvr_2/split_2/train/mask/_12_g_2_86.png (deflated 16%)\n",
            "  adding: hrf_256_256_dice_loss_hvr_2/split_2/train/mask/_10_dr_0_136.png (deflated 28%)\n",
            "  adding: hrf_256_256_dice_loss_hvr_2/split_2/train/mask/_09_dr_0_37.png (deflated 26%)\n",
            "  adding: hrf_256_256_dice_loss_hvr_2/split_2/train/mask/_12_dr_1_55.png (deflated 85%)\n",
            "  adding: hrf_256_256_dice_loss_hvr_2/split_2/train/mask/_10_dr_2_90.png (deflated 25%)\n",
            "  adding: hrf_256_256_dice_loss_hvr_2/split_2/train/mask/_12_dr_0_103.png (deflated 23%)\n",
            "  adding: hrf_256_256_dice_loss_hvr_2/split_2/train/mask/_14_h_2_3.png (deflated 33%)\n",
            "  adding: hrf_256_256_dice_loss_hvr_2/split_2/train/mask/_13_h_3_119.png (deflated 16%)\n",
            "  adding: hrf_256_256_dice_loss_hvr_2/split_2/train/mask/_10_g_2_108.png (deflated 45%)\n",
            "  adding: hrf_256_256_dice_loss_hvr_2/split_2/train/mask/_12_g_3_79.png (deflated 22%)\n",
            "  adding: hrf_256_256_dice_loss_hvr_2/split_2/train/mask/_01_dr_1_58.png (deflated 32%)\n",
            "  adding: hrf_256_256_dice_loss_hvr_2/split_2/train/mask/_15_dr_1_23.png (deflated 22%)\n",
            "  adding: hrf_256_256_dice_loss_hvr_2/split_2/train/mask/_12_g_1_45.png (deflated 16%)\n",
            "  adding: hrf_256_256_dice_loss_hvr_2/split_2/train/mask/_02_dr_2_108.png (deflated 24%)\n",
            "  adding: hrf_256_256_dice_loss_hvr_2/split_2/train/mask/_04_h_2_107.png (deflated 14%)\n",
            "  adding: hrf_256_256_dice_loss_hvr_2/split_2/train/mask/_06_dr_0_96.png (deflated 23%)\n",
            "  adding: hrf_256_256_dice_loss_hvr_2/split_2/train/mask/_15_dr_2_25.png (deflated 25%)\n",
            "  adding: hrf_256_256_dice_loss_hvr_2/split_2/train/mask/_11_h_0_89.png (deflated 28%)\n",
            "  adding: hrf_256_256_dice_loss_hvr_2/split_2/train/mask/_04_g_0_101.png (deflated 19%)\n",
            "  adding: hrf_256_256_dice_loss_hvr_2/split_2/train/mask/_03_h_3_98.png (deflated 21%)\n",
            "  adding: hrf_256_256_dice_loss_hvr_2/split_2/train/mask/_09_g_0_77.png (deflated 39%)\n",
            "  adding: hrf_256_256_dice_loss_hvr_2/split_2/train/mask/_04_g_2_125.png (deflated 85%)\n",
            "  adding: hrf_256_256_dice_loss_hvr_2/split_2/train/mask/_11_g_0_90.png (deflated 30%)\n",
            "  adding: hrf_256_256_dice_loss_hvr_2/split_2/train/mask/_13_g_0_109.png (deflated 33%)\n",
            "  adding: hrf_256_256_dice_loss_hvr_2/split_2/train/mask/_10_dr_2_127.png (deflated 85%)\n",
            "  adding: hrf_256_256_dice_loss_hvr_2/split_2/train/mask/_09_g_3_103.png (deflated 25%)\n",
            "  adding: hrf_256_256_dice_loss_hvr_2/split_2/train/mask/_03_h_2_62.png (deflated 37%)\n",
            "  adding: hrf_256_256_dice_loss_hvr_2/split_2/train/mask/_09_dr_0_109.png (deflated 27%)\n",
            "  adding: hrf_256_256_dice_loss_hvr_2/split_2/train/mask/_02_dr_2_70.png (deflated 54%)\n",
            "  adding: hrf_256_256_dice_loss_hvr_2/split_2/train/mask/_12_g_2_1.png (deflated 85%)\n",
            "  adding: hrf_256_256_dice_loss_hvr_2/split_2/train/mask/_09_dr_2_127.png (deflated 85%)\n",
            "  adding: hrf_256_256_dice_loss_hvr_2/split_2/train/mask/_04_g_3_14.png (deflated 85%)\n",
            "  adding: hrf_256_256_dice_loss_hvr_2/split_2/train/mask/_11_g_3_132.png (deflated 39%)\n",
            "  adding: hrf_256_256_dice_loss_hvr_2/split_2/train/mask/_12_g_2_8.png (deflated 34%)\n",
            "  adding: hrf_256_256_dice_loss_hvr_2/split_2/train/mask/_14_g_3_33.png (deflated 16%)\n",
            "  adding: hrf_256_256_dice_loss_hvr_2/split_2/train/mask/_15_dr_1_123.png (deflated 22%)\n",
            "  adding: hrf_256_256_dice_loss_hvr_2/split_2/train/mask/_04_h_1_6.png (deflated 34%)\n",
            "  adding: hrf_256_256_dice_loss_hvr_2/split_2/train/mask/_02_h_0_56.png (deflated 31%)\n",
            "  adding: hrf_256_256_dice_loss_hvr_2/split_2/train/mask/_07_h_1_96.png (deflated 22%)\n",
            "  adding: hrf_256_256_dice_loss_hvr_2/split_2/train/mask/_12_dr_1_100.png (deflated 26%)\n",
            "  adding: hrf_256_256_dice_loss_hvr_2/split_2/train/mask/_13_g_0_87.png (deflated 20%)\n",
            "  adding: hrf_256_256_dice_loss_hvr_2/split_2/train/mask/_13_h_2_99.png (deflated 28%)\n",
            "  adding: hrf_256_256_dice_loss_hvr_2/split_2/train/mask/_04_g_2_39.png (deflated 25%)\n",
            "  adding: hrf_256_256_dice_loss_hvr_2/split_2/train/mask/_07_h_3_35.png (deflated 23%)\n",
            "  adding: hrf_256_256_dice_loss_hvr_2/split_2/train/mask/_06_dr_2_98.png (deflated 85%)\n",
            "  adding: hrf_256_256_dice_loss_hvr_2/split_2/train/mask/_01_dr_1_130.png (deflated 41%)\n",
            "  adding: hrf_256_256_dice_loss_hvr_2/split_2/train/mask/_12_dr_2_47.png (deflated 17%)\n",
            "  adding: hrf_256_256_dice_loss_hvr_2/split_2/train/mask/_14_dr_2_84.png (deflated 52%)\n",
            "  adding: hrf_256_256_dice_loss_hvr_2/split_2/train/mask/_14_h_2_57.png (deflated 15%)\n",
            "  adding: hrf_256_256_dice_loss_hvr_2/split_2/train/mask/_13_g_2_106.png (deflated 19%)\n",
            "  adding: hrf_256_256_dice_loss_hvr_2/split_2/train/mask/_05_h_0_98.png (deflated 85%)\n",
            "  adding: hrf_256_256_dice_loss_hvr_2/split_2/train/mask/_07_h_1_107.png (deflated 42%)\n",
            "  adding: hrf_256_256_dice_loss_hvr_2/split_2/train/mask/_14_dr_2_48.png (deflated 17%)\n",
            "  adding: hrf_256_256_dice_loss_hvr_2/split_2/train/mask/_03_h_0_110.png (deflated 17%)\n",
            "  adding: hrf_256_256_dice_loss_hvr_2/split_2/train/mask/_04_h_3_64.png (deflated 24%)\n",
            "  adding: hrf_256_256_dice_loss_hvr_2/split_2/train/mask/_12_dr_1_8.png (deflated 37%)\n",
            "  adding: hrf_256_256_dice_loss_hvr_2/split_2/train/mask/_15_dr_0_14.png (deflated 85%)\n",
            "  adding: hrf_256_256_dice_loss_hvr_2/split_2/train/mask/_01_g_0_106.png (deflated 15%)\n",
            "  adding: hrf_256_256_dice_loss_hvr_2/split_2/train/mask/_01_g_3_139.png (deflated 85%)\n",
            "  adding: hrf_256_256_dice_loss_hvr_2/split_2/train/mask/_12_g_3_99.png (deflated 24%)\n",
            "  adding: hrf_256_256_dice_loss_hvr_2/split_2/train/mask/_01_dr_2_52.png (deflated 29%)\n",
            "  adding: hrf_256_256_dice_loss_hvr_2/split_2/train/mask/_12_dr_2_99.png (deflated 20%)\n",
            "  adding: hrf_256_256_dice_loss_hvr_2/split_2/train/mask/_15_dr_2_63.png (deflated 49%)\n",
            "  adding: hrf_256_256_dice_loss_hvr_2/split_2/train/mask/_01_g_3_64.png (deflated 29%)\n",
            "  adding: hrf_256_256_dice_loss_hvr_2/split_2/train/mask/_11_g_2_31.png (deflated 31%)\n",
            "  adding: hrf_256_256_dice_loss_hvr_2/split_2/train/mask/_02_h_2_38.png (deflated 13%)\n",
            "  adding: hrf_256_256_dice_loss_hvr_2/split_2/train/mask/_09_dr_0_16.png (deflated 25%)\n",
            "  adding: hrf_256_256_dice_loss_hvr_2/split_2/train/mask/_08_h_0_38.png (deflated 20%)\n",
            "  adding: hrf_256_256_dice_loss_hvr_2/split_2/train/mask/_13_g_2_45.png (deflated 21%)\n",
            "  adding: hrf_256_256_dice_loss_hvr_2/split_2/train/mask/_03_dr_0_109.png (deflated 16%)\n",
            "  adding: hrf_256_256_dice_loss_hvr_2/split_2/train/mask/_11_h_0_59.png (deflated 20%)\n",
            "  adding: hrf_256_256_dice_loss_hvr_2/split_2/train/mask/_04_h_2_4.png (deflated 52%)\n",
            "  adding: hrf_256_256_dice_loss_hvr_2/split_2/train/mask/_03_dr_0_96.png (deflated 24%)\n",
            "  adding: hrf_256_256_dice_loss_hvr_2/split_2/train/mask/_07_h_1_34.png (deflated 30%)\n",
            "  adding: hrf_256_256_dice_loss_hvr_2/split_2/train/mask/_09_dr_2_98.png (deflated 85%)\n",
            "  adding: hrf_256_256_dice_loss_hvr_2/split_2/train/mask/_01_g_3_89.png (deflated 23%)\n",
            "  adding: hrf_256_256_dice_loss_hvr_2/split_2/train/mask/_08_h_1_24.png (deflated 22%)\n",
            "  adding: hrf_256_256_dice_loss_hvr_2/split_2/train/mask/_12_g_3_3.png (deflated 28%)\n",
            "  adding: hrf_256_256_dice_loss_hvr_2/split_2/train/mask/_15_dr_3_122.png (deflated 29%)\n",
            "  adding: hrf_256_256_dice_loss_hvr_2/split_2/train/mask/_13_g_1_75.png (deflated 26%)\n",
            "  adding: hrf_256_256_dice_loss_hvr_2/split_2/train/mask/_10_g_3_67.png (deflated 18%)\n",
            "  adding: hrf_256_256_dice_loss_hvr_2/split_2/train/mask/_09_g_0_125.png (deflated 85%)\n",
            "  adding: hrf_256_256_dice_loss_hvr_2/split_2/train/mask/_02_h_1_43.png (deflated 14%)\n",
            "  adding: hrf_256_256_dice_loss_hvr_2/split_2/train/mask/_13_g_0_134.png (deflated 30%)\n",
            "  adding: hrf_256_256_dice_loss_hvr_2/split_2/train/mask/_11_g_0_25.png (deflated 29%)\n",
            "  adding: hrf_256_256_dice_loss_hvr_2/split_2/train/mask/_01_g_3_108.png (deflated 26%)\n",
            "  adding: hrf_256_256_dice_loss_hvr_2/split_2/train/mask/_12_g_1_130.png (deflated 25%)\n",
            "  adding: hrf_256_256_dice_loss_hvr_2/split_2/train/mask/_04_g_0_71.png (deflated 20%)\n",
            "  adding: hrf_256_256_dice_loss_hvr_2/split_2/train/mask/_09_dr_3_49.png (deflated 21%)\n",
            "  adding: hrf_256_256_dice_loss_hvr_2/split_2/train/mask/_11_h_1_20.png (deflated 15%)\n",
            "  adding: hrf_256_256_dice_loss_hvr_2/split_2/train/mask/_12_g_1_85.png (deflated 24%)\n",
            "  adding: hrf_256_256_dice_loss_hvr_2/split_2/train/mask/_12_dr_1_83.png (deflated 71%)\n",
            "  adding: hrf_256_256_dice_loss_hvr_2/split_2/train/mask/_14_g_3_32.png (deflated 20%)\n",
            "  adding: hrf_256_256_dice_loss_hvr_2/split_2/train/mask/_10_g_3_3.png (deflated 29%)\n",
            "  adding: hrf_256_256_dice_loss_hvr_2/split_2/train/mask/_03_dr_1_89.png (deflated 27%)\n",
            "  adding: hrf_256_256_dice_loss_hvr_2/split_2/train/mask/_02_h_0_43.png (deflated 16%)\n",
            "  adding: hrf_256_256_dice_loss_hvr_2/split_2/train/mask/_13_g_2_2.png (deflated 36%)\n",
            "  adding: hrf_256_256_dice_loss_hvr_2/split_2/train/mask/_10_dr_0_27.png (deflated 85%)\n",
            "  adding: hrf_256_256_dice_loss_hvr_2/split_2/train/mask/_09_dr_3_35.png (deflated 16%)\n",
            "  adding: hrf_256_256_dice_loss_hvr_2/split_2/train/mask/_10_g_0_54.png (deflated 20%)\n",
            "  adding: hrf_256_256_dice_loss_hvr_2/split_2/train/mask/_04_g_1_97.png (deflated 47%)\n",
            "  adding: hrf_256_256_dice_loss_hvr_2/split_2/train/mask/_03_h_3_137.png (deflated 28%)\n",
            "  adding: hrf_256_256_dice_loss_hvr_2/split_2/train/mask/_09_dr_0_136.png (deflated 39%)\n",
            "  adding: hrf_256_256_dice_loss_hvr_2/split_2/train/mask/_14_h_1_56.png (deflated 85%)\n",
            "  adding: hrf_256_256_dice_loss_hvr_2/split_2/train/mask/_02_h_2_15.png (deflated 57%)\n",
            "  adding: hrf_256_256_dice_loss_hvr_2/split_2/train/mask/_07_h_2_75.png (deflated 29%)\n",
            "  adding: hrf_256_256_dice_loss_hvr_2/split_2/train/mask/_04_g_0_77.png (deflated 50%)\n",
            "  adding: hrf_256_256_dice_loss_hvr_2/split_2/train/mask/_09_g_2_26.png (deflated 57%)\n",
            "  adding: hrf_256_256_dice_loss_hvr_2/split_2/train/mask/_07_g_2_37.png (deflated 20%)\n",
            "  adding: hrf_256_256_dice_loss_hvr_2/split_2/train/mask/_02_dr_3_0.png (deflated 70%)\n",
            "  adding: hrf_256_256_dice_loss_hvr_2/split_2/train/mask/_09_dr_3_13.png (deflated 34%)\n",
            "  adding: hrf_256_256_dice_loss_hvr_2/split_2/train/mask/_05_h_3_101.png (deflated 28%)\n",
            "  adding: hrf_256_256_dice_loss_hvr_2/split_2/train/mask/_09_g_2_60.png (deflated 19%)\n",
            "  adding: hrf_256_256_dice_loss_hvr_2/split_2/train/mask/_14_g_1_127.png (deflated 85%)\n",
            "  adding: hrf_256_256_dice_loss_hvr_2/split_2/train/mask/_04_g_2_41.png (deflated 85%)\n",
            "  adding: hrf_256_256_dice_loss_hvr_2/split_2/train/mask/_10_g_1_121.png (deflated 16%)\n",
            "  adding: hrf_256_256_dice_loss_hvr_2/split_2/train/mask/_11_g_2_10.png (deflated 45%)\n",
            "  adding: hrf_256_256_dice_loss_hvr_2/split_2/train/mask/_14_g_2_81.png (deflated 33%)\n",
            "  adding: hrf_256_256_dice_loss_hvr_2/split_2/train/mask/_11_h_3_69.png (deflated 27%)\n",
            "  adding: hrf_256_256_dice_loss_hvr_2/split_2/train/mask/_01_dr_0_104.png (deflated 25%)\n",
            "  adding: hrf_256_256_dice_loss_hvr_2/split_2/train/mask/_09_g_3_32.png (deflated 20%)\n",
            "  adding: hrf_256_256_dice_loss_hvr_2/split_2/train/mask/_01_g_0_139.png (deflated 85%)\n",
            "  adding: hrf_256_256_dice_loss_hvr_2/split_2/train/mask/_07_h_2_116.png (deflated 32%)\n",
            "  adding: hrf_256_256_dice_loss_hvr_2/split_2/train/mask/_06_dr_2_16.png (deflated 16%)\n",
            "  adding: hrf_256_256_dice_loss_hvr_2/split_2/train/mask/_01_dr_3_11.png (deflated 49%)\n",
            "  adding: hrf_256_256_dice_loss_hvr_2/split_2/train/mask/_10_dr_1_8.png (deflated 30%)\n",
            "  adding: hrf_256_256_dice_loss_hvr_2/split_2/train/mask/_01_dr_0_1.png (deflated 85%)\n",
            "  adding: hrf_256_256_dice_loss_hvr_2/split_2/train/mask/_02_h_3_21.png (deflated 16%)\n",
            "  adding: hrf_256_256_dice_loss_hvr_2/split_2/train/mask/_03_dr_1_47.png (deflated 29%)\n",
            "  adding: hrf_256_256_dice_loss_hvr_2/split_2/train/mask/_03_h_0_53.png (deflated 24%)\n",
            "  adding: hrf_256_256_dice_loss_hvr_2/split_2/train/mask/_11_g_3_71.png (deflated 21%)\n",
            "  adding: hrf_256_256_dice_loss_hvr_2/split_2/train/mask/_08_h_3_33.png (deflated 20%)\n",
            "  adding: hrf_256_256_dice_loss_hvr_2/split_2/train/mask/_08_h_3_131.png (deflated 38%)\n",
            "  adding: hrf_256_256_dice_loss_hvr_2/split_2/train/mask/_14_g_0_76.png (deflated 21%)\n",
            "  adding: hrf_256_256_dice_loss_hvr_2/split_2/train/mask/_11_h_3_14.png (deflated 85%)\n",
            "  adding: hrf_256_256_dice_loss_hvr_2/split_2/train/mask/_02_h_3_118.png (deflated 19%)\n",
            "  adding: hrf_256_256_dice_loss_hvr_2/split_2/train/mask/_08_h_0_4.png (deflated 31%)\n",
            "  adding: hrf_256_256_dice_loss_hvr_2/split_2/train/mask/_05_h_1_2.png (deflated 76%)\n",
            "  adding: hrf_256_256_dice_loss_hvr_2/split_2/train/mask/_03_dr_0_84.png (deflated 74%)\n",
            "  adding: hrf_256_256_dice_loss_hvr_2/split_2/train/mask/_11_h_0_74.png (deflated 26%)\n",
            "  adding: hrf_256_256_dice_loss_hvr_2/split_2/train/mask/_02_dr_1_59.png (deflated 25%)\n",
            "  adding: hrf_256_256_dice_loss_hvr_2/split_2/train/mask/_02_h_0_31.png (deflated 30%)\n",
            "  adding: hrf_256_256_dice_loss_hvr_2/split_2/train/mask/_12_g_0_47.png (deflated 19%)\n",
            "  adding: hrf_256_256_dice_loss_hvr_2/split_2/train/mask/_08_h_0_120.png (deflated 22%)\n",
            "  adding: hrf_256_256_dice_loss_hvr_2/split_2/train/mask/_07_h_2_104.png (deflated 20%)\n",
            "  adding: hrf_256_256_dice_loss_hvr_2/split_2/train/mask/_05_h_2_2.png (deflated 49%)\n",
            "  adding: hrf_256_256_dice_loss_hvr_2/split_2/train/mask/_03_dr_3_12.png (deflated 85%)\n",
            "  adding: hrf_256_256_dice_loss_hvr_2/split_2/train/mask/_06_dr_0_39.png (deflated 31%)\n",
            "  adding: hrf_256_256_dice_loss_hvr_2/split_2/train/mask/_02_h_3_56.png (deflated 65%)\n",
            "  adding: hrf_256_256_dice_loss_hvr_2/split_2/train/mask/_04_g_3_98.png (deflated 85%)\n",
            "  adding: hrf_256_256_dice_loss_hvr_2/split_2/train/mask/_14_dr_2_43.png (deflated 16%)\n",
            "  adding: hrf_256_256_dice_loss_hvr_2/split_2/train/mask/_14_h_2_21.png (deflated 24%)\n",
            "  adding: hrf_256_256_dice_loss_hvr_2/split_2/train/mask/_09_g_0_32.png (deflated 19%)\n",
            "  adding: hrf_256_256_dice_loss_hvr_2/split_2/train/mask/_02_h_3_84.png (deflated 70%)\n",
            "  adding: hrf_256_256_dice_loss_hvr_2/split_2/train/mask/_14_dr_1_112.png (deflated 85%)\n",
            "  adding: hrf_256_256_dice_loss_hvr_2/split_2/train/mask/_07_g_3_131.png (deflated 34%)\n",
            "  adding: hrf_256_256_dice_loss_hvr_2/split_2/train/mask/_13_g_1_44.png (deflated 26%)\n",
            "  adding: hrf_256_256_dice_loss_hvr_2/split_2/train/mask/_13_h_2_124.png (deflated 38%)\n",
            "  adding: hrf_256_256_dice_loss_hvr_2/split_2/train/mask/_01_g_3_23.png (deflated 26%)\n",
            "  adding: hrf_256_256_dice_loss_hvr_2/split_2/train/mask/_10_dr_0_137.png (deflated 38%)\n",
            "  adding: hrf_256_256_dice_loss_hvr_2/split_2/train/mask/_11_g_1_118.png (deflated 19%)\n",
            "  adding: hrf_256_256_dice_loss_hvr_2/split_2/train/mask/_10_g_3_133.png (deflated 47%)\n",
            "  adding: hrf_256_256_dice_loss_hvr_2/split_2/train/mask/_03_h_0_58.png (deflated 21%)\n",
            "  adding: hrf_256_256_dice_loss_hvr_2/split_2/train/mask/_07_g_1_51.png (deflated 23%)\n",
            "  adding: hrf_256_256_dice_loss_hvr_2/split_2/train/mask/_03_dr_1_23.png (deflated 30%)\n",
            "  adding: hrf_256_256_dice_loss_hvr_2/split_2/train/mask/_09_g_3_45.png (deflated 16%)\n",
            "  adding: hrf_256_256_dice_loss_hvr_2/split_2/train/mask/_12_g_1_67.png (deflated 22%)\n",
            "  adding: hrf_256_256_dice_loss_hvr_2/split_2/train/mask/_03_h_3_65.png (deflated 18%)\n",
            "  adding: hrf_256_256_dice_loss_hvr_2/split_2/train/mask/_14_dr_3_122.png (deflated 37%)\n",
            "  adding: hrf_256_256_dice_loss_hvr_2/split_2/train/mask/_01_g_2_121.png (deflated 24%)\n",
            "  adding: hrf_256_256_dice_loss_hvr_2/split_2/train/mask/_13_g_1_45.png (deflated 23%)\n",
            "  adding: hrf_256_256_dice_loss_hvr_2/split_2/train/mask/_14_h_2_131.png (deflated 30%)\n",
            "  adding: hrf_256_256_dice_loss_hvr_2/split_2/train/mask/_10_g_1_18.png (deflated 22%)\n",
            "  adding: hrf_256_256_dice_loss_hvr_2/split_2/train/mask/_15_dr_1_82.png (deflated 33%)\n",
            "  adding: hrf_256_256_dice_loss_hvr_2/split_2/train/mask/_04_h_0_126.png (deflated 85%)\n",
            "  adding: hrf_256_256_dice_loss_hvr_2/split_2/train/mask/_04_h_2_71.png (deflated 23%)\n",
            "  adding: hrf_256_256_dice_loss_hvr_2/split_2/train/mask/_06_dr_1_57.png (deflated 16%)\n",
            "  adding: hrf_256_256_dice_loss_hvr_2/split_2/train/mask/_08_h_1_95.png (deflated 24%)\n",
            "  adding: hrf_256_256_dice_loss_hvr_2/split_2/train/mask/_14_dr_0_79.png (deflated 26%)\n",
            "  adding: hrf_256_256_dice_loss_hvr_2/split_2/train/mask/_09_g_3_44.png (deflated 17%)\n",
            "  adding: hrf_256_256_dice_loss_hvr_2/split_2/train/mask/_07_g_3_26.png (deflated 36%)\n",
            "  adding: hrf_256_256_dice_loss_hvr_2/split_2/train/mask/_14_dr_0_135.png (deflated 37%)\n",
            "  adding: hrf_256_256_dice_loss_hvr_2/split_2/train/mask/_04_h_2_100.png (deflated 27%)\n",
            "  adding: hrf_256_256_dice_loss_hvr_2/split_2/train/mask/_11_h_3_45.png (deflated 19%)\n",
            "  adding: hrf_256_256_dice_loss_hvr_2/split_2/train/mask/_04_g_2_20.png (deflated 28%)\n",
            "  adding: hrf_256_256_dice_loss_hvr_2/split_2/train/mask/_12_g_1_95.png (deflated 21%)\n",
            "  adding: hrf_256_256_dice_loss_hvr_2/split_2/train/mask/_11_g_1_87.png (deflated 21%)\n",
            "  adding: hrf_256_256_dice_loss_hvr_2/split_2/train/mask/_08_h_1_35.png (deflated 12%)\n"
          ]
        }
      ]
    },
    {
      "cell_type": "code",
      "source": [
        "!cp hrf_256_256_dice_loss_hvr_2.zip /content/gdrive/MyDrive/Blood_Vessel_Results/hrf_patches/"
      ],
      "metadata": {
        "id": "uxv_dah3MAdT"
      },
      "execution_count": null,
      "outputs": []
    },
    {
      "cell_type": "code",
      "source": [
        "drive.flush_and_unmount()"
      ],
      "metadata": {
        "id": "PzC_D5AWMXvB"
      },
      "execution_count": null,
      "outputs": []
    },
    {
      "cell_type": "code",
      "source": [
        ""
      ],
      "metadata": {
        "id": "jbc1br921EPs"
      },
      "execution_count": null,
      "outputs": []
    }
  ]
}