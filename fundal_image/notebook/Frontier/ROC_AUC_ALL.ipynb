{
  "cells": [
    {
      "cell_type": "markdown",
      "metadata": {
        "id": "ZIUz94YO5Y0x"
      },
      "source": [
        "### Import the required libraries and modules:"
      ]
    },
    {
      "cell_type": "code",
      "execution_count": 1,
      "metadata": {
        "id": "RN5vXWIK27Lr"
      },
      "outputs": [],
      "source": [
        "import tensorflow as tf\n",
        "from tensorflow.keras.layers import Conv2D, BatchNormalization, Activation, MaxPool2D, Conv2DTranspose, Concatenate, Input\n",
        "from tensorflow.keras.models import Model\n",
        "from tensorflow.keras import backend as K\n",
        "import os\n",
        "os.environ[\"TF_CPP_MIN_LOG_LEVEL\"] = \"2\"\n",
        "import numpy as np\n",
        "import cv2\n",
        "from glob import glob\n",
        "from sklearn.utils import shuffle\n",
        "import tensorflow as tf\n",
        "from tensorflow.keras.callbacks import ModelCheckpoint, CSVLogger, ReduceLROnPlateau, EarlyStopping, TensorBoard\n",
        "from tensorflow.keras.optimizers import Adam\n",
        "from tensorflow.keras.metrics import Recall, Precision\n",
        "import numpy as np"
      ]
    },
    {
      "cell_type": "code",
      "execution_count": 2,
      "metadata": {
        "colab": {
          "base_uri": "https://localhost:8080/"
        },
        "id": "rx3CS_MbV06K",
        "outputId": "c3d103b1-1e39-4446-8d65-8d48cd03daa9"
      },
      "outputs": [
        {
          "output_type": "stream",
          "name": "stdout",
          "text": [
            "Mounted at /content/gdrive\n",
            "/content/gdrive/MyDrive/Blood_Vessel_Results/ALL_BEST_RESULTS/BV_OD_Drive\n"
          ]
        }
      ],
      "source": [
        "from google.colab import drive\n",
        "drive.mount(\"/content/gdrive\", force_remount=True)\n",
        "%cd /content/gdrive/MyDrive/Blood_Vessel_Results/ALL_BEST_RESULTS/BV_OD_Drive"
      ]
    },
    {
      "cell_type": "markdown",
      "metadata": {
        "id": "MQcINXFE59yv"
      },
      "source": [
        "### Unzip the data:"
      ]
    },
    {
      "cell_type": "code",
      "execution_count": 3,
      "metadata": {
        "id": "mA5voGSj58wH"
      },
      "outputs": [],
      "source": [
        "# !unzip new_data.zip"
      ]
    },
    {
      "cell_type": "markdown",
      "metadata": {
        "id": "_WctlpFt6hx4"
      },
      "source": [
        "### Construct the Model:"
      ]
    },
    {
      "cell_type": "code",
      "execution_count": 4,
      "metadata": {
        "colab": {
          "base_uri": "https://localhost:8080/"
        },
        "id": "epeNiZGQ5gSW",
        "outputId": "97f2d479-7098-442b-fb04-8fda75f2c571"
      },
      "outputs": [
        {
          "output_type": "stream",
          "name": "stdout",
          "text": [
            "Model: \"UNET\"\n",
            "__________________________________________________________________________________________________\n",
            " Layer (type)                   Output Shape         Param #     Connected to                     \n",
            "==================================================================================================\n",
            " input_1 (InputLayer)           [(None, 512, 512, 3  0           []                               \n",
            "                                )]                                                                \n",
            "                                                                                                  \n",
            " conv2d (Conv2D)                (None, 512, 512, 64  1792        ['input_1[0][0]']                \n",
            "                                )                                                                 \n",
            "                                                                                                  \n",
            " batch_normalization (BatchNorm  (None, 512, 512, 64  256        ['conv2d[0][0]']                 \n",
            " alization)                     )                                                                 \n",
            "                                                                                                  \n",
            " activation (Activation)        (None, 512, 512, 64  0           ['batch_normalization[0][0]']    \n",
            "                                )                                                                 \n",
            "                                                                                                  \n",
            " conv2d_1 (Conv2D)              (None, 512, 512, 64  36928       ['activation[0][0]']             \n",
            "                                )                                                                 \n",
            "                                                                                                  \n",
            " batch_normalization_1 (BatchNo  (None, 512, 512, 64  256        ['conv2d_1[0][0]']               \n",
            " rmalization)                   )                                                                 \n",
            "                                                                                                  \n",
            " activation_1 (Activation)      (None, 512, 512, 64  0           ['batch_normalization_1[0][0]']  \n",
            "                                )                                                                 \n",
            "                                                                                                  \n",
            " max_pooling2d (MaxPooling2D)   (None, 256, 256, 64  0           ['activation_1[0][0]']           \n",
            "                                )                                                                 \n",
            "                                                                                                  \n",
            " conv2d_2 (Conv2D)              (None, 256, 256, 12  73856       ['max_pooling2d[0][0]']          \n",
            "                                8)                                                                \n",
            "                                                                                                  \n",
            " batch_normalization_2 (BatchNo  (None, 256, 256, 12  512        ['conv2d_2[0][0]']               \n",
            " rmalization)                   8)                                                                \n",
            "                                                                                                  \n",
            " activation_2 (Activation)      (None, 256, 256, 12  0           ['batch_normalization_2[0][0]']  \n",
            "                                8)                                                                \n",
            "                                                                                                  \n",
            " conv2d_3 (Conv2D)              (None, 256, 256, 12  147584      ['activation_2[0][0]']           \n",
            "                                8)                                                                \n",
            "                                                                                                  \n",
            " batch_normalization_3 (BatchNo  (None, 256, 256, 12  512        ['conv2d_3[0][0]']               \n",
            " rmalization)                   8)                                                                \n",
            "                                                                                                  \n",
            " activation_3 (Activation)      (None, 256, 256, 12  0           ['batch_normalization_3[0][0]']  \n",
            "                                8)                                                                \n",
            "                                                                                                  \n",
            " max_pooling2d_1 (MaxPooling2D)  (None, 128, 128, 12  0          ['activation_3[0][0]']           \n",
            "                                8)                                                                \n",
            "                                                                                                  \n",
            " conv2d_4 (Conv2D)              (None, 128, 128, 25  295168      ['max_pooling2d_1[0][0]']        \n",
            "                                6)                                                                \n",
            "                                                                                                  \n",
            " batch_normalization_4 (BatchNo  (None, 128, 128, 25  1024       ['conv2d_4[0][0]']               \n",
            " rmalization)                   6)                                                                \n",
            "                                                                                                  \n",
            " activation_4 (Activation)      (None, 128, 128, 25  0           ['batch_normalization_4[0][0]']  \n",
            "                                6)                                                                \n",
            "                                                                                                  \n",
            " conv2d_5 (Conv2D)              (None, 128, 128, 25  590080      ['activation_4[0][0]']           \n",
            "                                6)                                                                \n",
            "                                                                                                  \n",
            " batch_normalization_5 (BatchNo  (None, 128, 128, 25  1024       ['conv2d_5[0][0]']               \n",
            " rmalization)                   6)                                                                \n",
            "                                                                                                  \n",
            " activation_5 (Activation)      (None, 128, 128, 25  0           ['batch_normalization_5[0][0]']  \n",
            "                                6)                                                                \n",
            "                                                                                                  \n",
            " max_pooling2d_2 (MaxPooling2D)  (None, 64, 64, 256)  0          ['activation_5[0][0]']           \n",
            "                                                                                                  \n",
            " conv2d_6 (Conv2D)              (None, 64, 64, 512)  1180160     ['max_pooling2d_2[0][0]']        \n",
            "                                                                                                  \n",
            " batch_normalization_6 (BatchNo  (None, 64, 64, 512)  2048       ['conv2d_6[0][0]']               \n",
            " rmalization)                                                                                     \n",
            "                                                                                                  \n",
            " activation_6 (Activation)      (None, 64, 64, 512)  0           ['batch_normalization_6[0][0]']  \n",
            "                                                                                                  \n",
            " conv2d_7 (Conv2D)              (None, 64, 64, 512)  2359808     ['activation_6[0][0]']           \n",
            "                                                                                                  \n",
            " batch_normalization_7 (BatchNo  (None, 64, 64, 512)  2048       ['conv2d_7[0][0]']               \n",
            " rmalization)                                                                                     \n",
            "                                                                                                  \n",
            " activation_7 (Activation)      (None, 64, 64, 512)  0           ['batch_normalization_7[0][0]']  \n",
            "                                                                                                  \n",
            " max_pooling2d_3 (MaxPooling2D)  (None, 32, 32, 512)  0          ['activation_7[0][0]']           \n",
            "                                                                                                  \n",
            " conv2d_8 (Conv2D)              (None, 32, 32, 1024  4719616     ['max_pooling2d_3[0][0]']        \n",
            "                                )                                                                 \n",
            "                                                                                                  \n",
            " batch_normalization_8 (BatchNo  (None, 32, 32, 1024  4096       ['conv2d_8[0][0]']               \n",
            " rmalization)                   )                                                                 \n",
            "                                                                                                  \n",
            " activation_8 (Activation)      (None, 32, 32, 1024  0           ['batch_normalization_8[0][0]']  \n",
            "                                )                                                                 \n",
            "                                                                                                  \n",
            " conv2d_9 (Conv2D)              (None, 32, 32, 1024  9438208     ['activation_8[0][0]']           \n",
            "                                )                                                                 \n",
            "                                                                                                  \n",
            " batch_normalization_9 (BatchNo  (None, 32, 32, 1024  4096       ['conv2d_9[0][0]']               \n",
            " rmalization)                   )                                                                 \n",
            "                                                                                                  \n",
            " activation_9 (Activation)      (None, 32, 32, 1024  0           ['batch_normalization_9[0][0]']  \n",
            "                                )                                                                 \n",
            "                                                                                                  \n",
            " conv2d_transpose (Conv2DTransp  (None, 64, 64, 512)  2097664    ['activation_9[0][0]']           \n",
            " ose)                                                                                             \n",
            "                                                                                                  \n",
            " concatenate (Concatenate)      (None, 64, 64, 1024  0           ['conv2d_transpose[0][0]',       \n",
            "                                )                                 'activation_7[0][0]']           \n",
            "                                                                                                  \n",
            " conv2d_10 (Conv2D)             (None, 64, 64, 512)  4719104     ['concatenate[0][0]']            \n",
            "                                                                                                  \n",
            " batch_normalization_10 (BatchN  (None, 64, 64, 512)  2048       ['conv2d_10[0][0]']              \n",
            " ormalization)                                                                                    \n",
            "                                                                                                  \n",
            " activation_10 (Activation)     (None, 64, 64, 512)  0           ['batch_normalization_10[0][0]'] \n",
            "                                                                                                  \n",
            " conv2d_11 (Conv2D)             (None, 64, 64, 512)  2359808     ['activation_10[0][0]']          \n",
            "                                                                                                  \n",
            " batch_normalization_11 (BatchN  (None, 64, 64, 512)  2048       ['conv2d_11[0][0]']              \n",
            " ormalization)                                                                                    \n",
            "                                                                                                  \n",
            " activation_11 (Activation)     (None, 64, 64, 512)  0           ['batch_normalization_11[0][0]'] \n",
            "                                                                                                  \n",
            " conv2d_transpose_1 (Conv2DTran  (None, 128, 128, 25  524544     ['activation_11[0][0]']          \n",
            " spose)                         6)                                                                \n",
            "                                                                                                  \n",
            " concatenate_1 (Concatenate)    (None, 128, 128, 51  0           ['conv2d_transpose_1[0][0]',     \n",
            "                                2)                                'activation_5[0][0]']           \n",
            "                                                                                                  \n",
            " conv2d_12 (Conv2D)             (None, 128, 128, 25  1179904     ['concatenate_1[0][0]']          \n",
            "                                6)                                                                \n",
            "                                                                                                  \n",
            " batch_normalization_12 (BatchN  (None, 128, 128, 25  1024       ['conv2d_12[0][0]']              \n",
            " ormalization)                  6)                                                                \n",
            "                                                                                                  \n",
            " activation_12 (Activation)     (None, 128, 128, 25  0           ['batch_normalization_12[0][0]'] \n",
            "                                6)                                                                \n",
            "                                                                                                  \n",
            " conv2d_13 (Conv2D)             (None, 128, 128, 25  590080      ['activation_12[0][0]']          \n",
            "                                6)                                                                \n",
            "                                                                                                  \n",
            " batch_normalization_13 (BatchN  (None, 128, 128, 25  1024       ['conv2d_13[0][0]']              \n",
            " ormalization)                  6)                                                                \n",
            "                                                                                                  \n",
            " activation_13 (Activation)     (None, 128, 128, 25  0           ['batch_normalization_13[0][0]'] \n",
            "                                6)                                                                \n",
            "                                                                                                  \n",
            " conv2d_transpose_2 (Conv2DTran  (None, 256, 256, 12  131200     ['activation_13[0][0]']          \n",
            " spose)                         8)                                                                \n",
            "                                                                                                  \n",
            " concatenate_2 (Concatenate)    (None, 256, 256, 25  0           ['conv2d_transpose_2[0][0]',     \n",
            "                                6)                                'activation_3[0][0]']           \n",
            "                                                                                                  \n",
            " conv2d_14 (Conv2D)             (None, 256, 256, 12  295040      ['concatenate_2[0][0]']          \n",
            "                                8)                                                                \n",
            "                                                                                                  \n",
            " batch_normalization_14 (BatchN  (None, 256, 256, 12  512        ['conv2d_14[0][0]']              \n",
            " ormalization)                  8)                                                                \n",
            "                                                                                                  \n",
            " activation_14 (Activation)     (None, 256, 256, 12  0           ['batch_normalization_14[0][0]'] \n",
            "                                8)                                                                \n",
            "                                                                                                  \n",
            " conv2d_15 (Conv2D)             (None, 256, 256, 12  147584      ['activation_14[0][0]']          \n",
            "                                8)                                                                \n",
            "                                                                                                  \n",
            " batch_normalization_15 (BatchN  (None, 256, 256, 12  512        ['conv2d_15[0][0]']              \n",
            " ormalization)                  8)                                                                \n",
            "                                                                                                  \n",
            " activation_15 (Activation)     (None, 256, 256, 12  0           ['batch_normalization_15[0][0]'] \n",
            "                                8)                                                                \n",
            "                                                                                                  \n",
            " conv2d_transpose_3 (Conv2DTran  (None, 512, 512, 64  32832      ['activation_15[0][0]']          \n",
            " spose)                         )                                                                 \n",
            "                                                                                                  \n",
            " concatenate_3 (Concatenate)    (None, 512, 512, 12  0           ['conv2d_transpose_3[0][0]',     \n",
            "                                8)                                'activation_1[0][0]']           \n",
            "                                                                                                  \n",
            " conv2d_16 (Conv2D)             (None, 512, 512, 64  73792       ['concatenate_3[0][0]']          \n",
            "                                )                                                                 \n",
            "                                                                                                  \n",
            " batch_normalization_16 (BatchN  (None, 512, 512, 64  256        ['conv2d_16[0][0]']              \n",
            " ormalization)                  )                                                                 \n",
            "                                                                                                  \n",
            " activation_16 (Activation)     (None, 512, 512, 64  0           ['batch_normalization_16[0][0]'] \n",
            "                                )                                                                 \n",
            "                                                                                                  \n",
            " conv2d_17 (Conv2D)             (None, 512, 512, 64  36928       ['activation_16[0][0]']          \n",
            "                                )                                                                 \n",
            "                                                                                                  \n",
            " batch_normalization_17 (BatchN  (None, 512, 512, 64  256        ['conv2d_17[0][0]']              \n",
            " ormalization)                  )                                                                 \n",
            "                                                                                                  \n",
            " activation_17 (Activation)     (None, 512, 512, 64  0           ['batch_normalization_17[0][0]'] \n",
            "                                )                                                                 \n",
            "                                                                                                  \n",
            " conv2d_18 (Conv2D)             (None, 512, 512, 2)  130         ['activation_17[0][0]']          \n",
            "                                                                                                  \n",
            "==================================================================================================\n",
            "Total params: 31,055,362\n",
            "Trainable params: 31,043,586\n",
            "Non-trainable params: 11,776\n",
            "__________________________________________________________________________________________________\n"
          ]
        }
      ],
      "source": [
        "def conv_block(inputs, num_filters):\n",
        "    x = Conv2D(num_filters, 3, padding=\"same\")(inputs)\n",
        "    x = BatchNormalization()(x)\n",
        "    x = Activation(\"relu\")(x)\n",
        "\n",
        "    x = Conv2D(num_filters, 3, padding=\"same\")(x)\n",
        "    x = BatchNormalization()(x)\n",
        "    x = Activation(\"relu\")(x)\n",
        "\n",
        "    return x\n",
        "\n",
        "def encoder_block(inputs, num_filters, strides=2):\n",
        "    x = conv_block(inputs, num_filters)\n",
        "    p = MaxPool2D(strides)(x)\n",
        "    return x, p\n",
        "\n",
        "def decoder_block(inputs, skip_features, num_filters, strides=2):\n",
        "    x = Conv2DTranspose(num_filters, (2, 2), strides=strides, padding=\"same\")(inputs)\n",
        "    x = Concatenate()([x, skip_features])\n",
        "    x = conv_block(x, num_filters)\n",
        "    return x\n",
        "\n",
        "def build_unet(input_shape, num_filters=[64, 128, 256, 512, 1024], strides=[2, 2, 2, 2]):\n",
        "    inputs = Input(input_shape)\n",
        "\n",
        "    s1, p1 = encoder_block(inputs, num_filters[0], strides=strides[0])\n",
        "    s2, p2 = encoder_block(p1, num_filters[1], strides=strides[1])\n",
        "    s3, p3 = encoder_block(p2, num_filters[2], strides=strides[2])\n",
        "    s4, p4 = encoder_block(p3, num_filters[3], strides=strides[3])\n",
        "\n",
        "    b1 = conv_block(p4, num_filters[4])\n",
        "\n",
        "    d1 = decoder_block(b1, s4, num_filters[3], strides=strides[3])\n",
        "    d2 = decoder_block(d1, s3, num_filters[2], strides=strides[2])\n",
        "    d3 = decoder_block(d2, s2, num_filters[1], strides=strides[1])\n",
        "    d4 = decoder_block(d3, s1, num_filters[0], strides=strides[0])\n",
        "\n",
        "    outputs = Conv2D(2, 1, padding=\"same\", activation=\"sigmoid\")(d4)\n",
        "\n",
        "    model = Model(inputs, outputs, name=\"UNET\")\n",
        "    return model\n",
        "\n",
        "input_shape = (512, 512, 3)\n",
        "model = build_unet(input_shape)\n",
        "model.summary()"
      ]
    },
    {
      "cell_type": "markdown",
      "metadata": {
        "id": "TWKUCE3_6vBv"
      },
      "source": [
        "### Adding the Metrics:"
      ]
    },
    {
      "cell_type": "code",
      "execution_count": 5,
      "metadata": {
        "id": "s5HXET5Z6uZX"
      },
      "outputs": [],
      "source": [
        "def iou(y_true, y_pred):\n",
        "    def f(y_true, y_pred):\n",
        "        intersection = (y_true * y_pred).sum()\n",
        "        union = y_true.sum() + y_pred.sum() - intersection\n",
        "        x = (intersection + 1e-15) / (union + 1e-15)\n",
        "        x = x.astype(np.float32)\n",
        "        return x\n",
        "    return tf.numpy_function(f, [y_true, y_pred], tf.float32)\n",
        "\n",
        "smooth = 1e-15\n",
        "def dice_coef(y_true, y_pred):\n",
        "    y_true = tf.keras.layers.Flatten()(y_true)\n",
        "    y_pred = tf.keras.layers.Flatten()(y_pred)\n",
        "    intersection = tf.reduce_sum(y_true * y_pred)\n",
        "    return (2. * intersection + smooth) / (tf.reduce_sum(y_true) + tf.reduce_sum(y_pred) + smooth)\n",
        "\n",
        "def dice_loss(y_true, y_pred):\n",
        "    return 1.0 - dice_coef(y_true, y_pred)\n",
        "\n",
        "def DiceBCELoss(y_true, y_pred):\n",
        "\n",
        "    inputs = tf.keras.layers.Flatten()(y_true)\n",
        "    targets = tf.keras.layers.Flatten()(y_pred)\n",
        "\n",
        "    intersection = tf.reduce_sum(inputs * targets)\n",
        "    dice_loss = 1 - (2.*intersection + smooth)/(tf.reduce_sum(y_true) + tf.reduce_sum(y_pred) + smooth)\n",
        "    BCE = tf.keras.losses.BinaryCrossentropy()\n",
        "    Dice_BCE = BCE(inputs, targets) + dice_loss\n",
        "\n",
        "    return Dice_BCE"
      ]
    },
    {
      "cell_type": "markdown",
      "metadata": {
        "id": "fuGIkqEH65dX"
      },
      "source": [
        "### Training the Model:"
      ]
    },
    {
      "cell_type": "code",
      "execution_count": 6,
      "metadata": {
        "id": "NNdxwX_-5udw"
      },
      "outputs": [],
      "source": [
        "W = 512\n",
        "H = 512\n",
        "\n",
        "def create_dir(path):\n",
        "    if not os.path.exists(path):\n",
        "        os.makedirs(path)\n",
        "\n",
        "def load_data(path):\n",
        "    x = sorted(glob(os.path.join(path, \"image\", \"*.png\")))\n",
        "    y = sorted(glob(os.path.join(path, \"mask\", \"*.png\")))\n",
        "    return x, y\n",
        "\n",
        "def shuffling(x, y):\n",
        "    x, y = shuffle(x, y, random_state=42)\n",
        "    return x, y\n",
        "\n",
        "def read_image(path):\n",
        "    path = path.decode()\n",
        "    x = cv2.imread(path, cv2.IMREAD_COLOR)\n",
        "    # x = cv2.resize(x, (W, H))\n",
        "    x = x/255.0\n",
        "    x = x.astype(np.float32)\n",
        "    return x\n",
        "\n",
        "def read_mask(path):\n",
        "    path = path.decode()\n",
        "    x = cv2.imread(path, cv2.IMREAD_COLOR)  ## (512, 512, 3)\n",
        "    # x = cv2.resize(x, (W, H))\n",
        "    x = x/255.0\n",
        "    x = x.astype(np.float32)\n",
        "    x = x[:,:,0:2] # Discard the last channel \n",
        "\n",
        "    return x\n",
        "\n",
        "def tf_parse(x, y):\n",
        "    def _parse(x, y):\n",
        "        x = read_image(x)\n",
        "        y = read_mask(y)\n",
        "        return x, y\n",
        "\n",
        "    x, y = tf.numpy_function(_parse, [x, y], [tf.float32, tf.float32])\n",
        "    x.set_shape([H, W, 3])\n",
        "    y.set_shape([H, W, 2])\n",
        "    return x, y\n",
        "\n",
        "def tf_dataset(X, Y, batch_size=2):\n",
        "    dataset = tf.data.Dataset.from_tensor_slices((X, Y))\n",
        "    dataset = dataset.map(tf_parse)\n",
        "    dataset = dataset.batch(batch_size)\n",
        "    dataset = dataset.prefetch(4)\n",
        "    return dataset"
      ]
    },
    {
      "cell_type": "code",
      "execution_count": 7,
      "metadata": {
        "id": "R9oxQCQo7Jnw"
      },
      "outputs": [],
      "source": [
        "# \"\"\" Seeding \"\"\"\n",
        "# np.random.seed(42)\n",
        "# tf.random.set_seed(42)\n",
        "\n",
        "# \"\"\" Directory to save files \"\"\"\n",
        "# create_dir(\"files\")\n",
        "\n",
        "# \"\"\" Hyperparameters \"\"\"\n",
        "# batch_size = 2\n",
        "# lr = 1e-4\n",
        "# num_epochs = 50\n",
        "# model_path = os.path.join(\"files\", \"model_1024.h5\")\n",
        "# csv_path = os.path.join(\"files\", \"data_1024.csv\")\n",
        "\n",
        "# \"\"\" Dataset \"\"\"\n",
        "# dataset_path = \"new_data\"\n",
        "# train_path = os.path.join(dataset_path, \"train\")\n",
        "# valid_path = os.path.join(dataset_path, \"test\")\n",
        "\n",
        "# train_x, train_y = load_data(train_path)\n",
        "# train_x, train_y = shuffling(train_x, train_y)\n",
        "# valid_x, valid_y = load_data(valid_path)\n",
        "\n",
        "# print(f\"Train: {len(train_x)} - {len(train_y)}\")\n",
        "# print(f\"Valid: {len(valid_x)} - {len(valid_y)}\")\n",
        "\n",
        "# train_dataset = tf_dataset(train_x, train_y, batch_size=batch_size)\n",
        "# valid_dataset = tf_dataset(valid_x, valid_y, batch_size=batch_size)\n",
        "\n",
        "# train_steps = len(train_x)//batch_size\n",
        "# valid_setps = len(valid_x)//batch_size\n",
        "\n",
        "# if len(train_x) % batch_size != 0:\n",
        "#     train_steps += 1\n",
        "# if len(valid_x) % batch_size != 0:\n",
        "#     valid_setps += 1\n",
        "\n",
        "# \"\"\" Model \"\"\"\n",
        "# model_1024 = build_unet((H, W, 3), num_filters=[64, 128, 256, 512, 1024], strides=[1, 2, 2, 2])\n",
        "\n",
        "# model_1024.compile(loss=DiceBCELoss, optimizer=Adam(lr), metrics=[dice_coef, iou, Recall(), Precision()])\n",
        "\n",
        "# callbacks = [\n",
        "#     ModelCheckpoint(model_path, verbose=1, save_best_only=True),\n",
        "#     ReduceLROnPlateau(monitor=\"val_loss\", factor=0.1, patience=5, min_lr=1e-6, verbose=1),\n",
        "#     CSVLogger(csv_path),\n",
        "#     TensorBoard(),\n",
        "#     EarlyStopping(monitor=\"val_loss\", patience=10, restore_best_weights=False)\n",
        "# ]\n",
        "\n",
        "# model_1024.fit(\n",
        "#     train_dataset,\n",
        "#     epochs=num_epochs,\n",
        "#     validation_data=valid_dataset,\n",
        "#     steps_per_epoch=train_steps,\n",
        "#     validation_steps=valid_setps,\n",
        "#     callbacks=callbacks\n",
        "# )"
      ]
    },
    {
      "cell_type": "markdown",
      "metadata": {
        "id": "2frB4UHf9mr3"
      },
      "source": [
        "### Evaluate The Model:"
      ]
    },
    {
      "cell_type": "code",
      "execution_count": 8,
      "metadata": {
        "id": "C5Kjrpfg9pDn"
      },
      "outputs": [],
      "source": [
        "import os\n",
        "os.environ[\"TF_CPP_MIN_LOG_LEVEL\"] = \"2\"\n",
        "import numpy as np\n",
        "import pandas as pd\n",
        "import cv2\n",
        "from glob import glob\n",
        "from tqdm import tqdm\n",
        "import tensorflow as tf\n",
        "from tensorflow.keras.utils import CustomObjectScope\n",
        "from sklearn.metrics import accuracy_score, f1_score, jaccard_score, precision_score, recall_score, auc, roc_curve, roc_auc_score\n",
        "# from metrics import dice_loss, dice_coef, iou\n",
        "# from utils import get_filenames_sorted"
      ]
    },
    {
      "cell_type": "code",
      "execution_count": 9,
      "metadata": {
        "id": "tbgjkGOU-QeQ"
      },
      "outputs": [],
      "source": [
        "H = 512\n",
        "W = 512\n",
        "\n",
        "def create_dir(path):\n",
        "    if not os.path.exists(path):\n",
        "        os.makedirs(path)\n",
        "\n",
        "def read_image(path):\n",
        "    x = cv2.imread(path, cv2.IMREAD_COLOR)\n",
        "    # x = cv2.resize(x, (W, H))\n",
        "    ori_x = x\n",
        "    x = x/255.0\n",
        "    x = x.astype(np.float32)\n",
        "    return ori_x, x\n",
        "\n",
        "def read_mask(path):\n",
        "    x = cv2.imread(path, cv2.IMREAD_COLOR)  ## (512, 512)\n",
        "    # x = cv2.resize(x, (W, H))\n",
        "    ori_x = x\n",
        "    x = x/255.0\n",
        "    x = x.astype(np.float32)\n",
        "    x = x[:,:,0:2] # Discard the last channel \n",
        "    return ori_x, x\n",
        "\n",
        "def load_data(path):\n",
        "    x = sorted(glob(os.path.join(path, \"image\", \"*.png\")))\n",
        "    y = sorted(glob(os.path.join(path, \"mask\", \"*.png\")))\n",
        "    return x, y\n",
        "\n",
        "def save_results(ori_x, ori_y, y_pred, save_image_path, channel):\n",
        "    line = np.ones((y_pred.shape[0], 10, 3)) * 255\n",
        "\n",
        "    pred_image = np.zeros((y_pred.shape[0], y_pred.shape[1], 3))\n",
        "    _y_pred = y_pred[:, :, channel]\n",
        "    _ori_y = ori_y[:, :, channel]\n",
        "    pred_image[:, :, 0] = ((_y_pred > 0.5) & (_ori_y <= 128)) * 255\n",
        "    pred_image[:, :, 1] = ((_y_pred > 0.5) & (_ori_y  > 128)) * 255\n",
        "    pred_image[:, :, 2] = ((_ori_y  > 128) & (_y_pred <= 0.5 )) * 255\n",
        "\n",
        "    print(\" saving result\", save_image_path)\n",
        "    cv2.imwrite(save_image_path, pred_image)"
      ]
    },
    {
      "cell_type": "code",
      "execution_count": 11,
      "metadata": {
        "colab": {
          "base_uri": "https://localhost:8080/"
        },
        "id": "Jmf9-n3_-EaL",
        "outputId": "407e1fd3-31ca-4a02-ab17-c748f24ea75f"
      },
      "outputs": [
        {
          "output_type": "stream",
          "name": "stdout",
          "text": [
            "files/model_1024.h5\n"
          ]
        },
        {
          "output_type": "stream",
          "name": "stderr",
          "text": [
            "\r  0%|          | 0/20 [00:00<?, ?it/s]"
          ]
        },
        {
          "output_type": "stream",
          "name": "stdout",
          "text": [
            "01_test\n",
            "255 1.0\n",
            " saving result files_demo_od_0.1_1024/01_test.png\n",
            " saving result files_demo_bv_0.1_1024/01_test.png\n"
          ]
        },
        {
          "output_type": "stream",
          "name": "stderr",
          "text": [
            "\r  5%|▌         | 1/20 [00:02<00:48,  2.56s/it]"
          ]
        },
        {
          "output_type": "stream",
          "name": "stdout",
          "text": [
            "02_test\n",
            "255 1.0\n",
            " saving result files_demo_od_0.1_1024/02_test.png\n",
            " saving result files_demo_bv_0.1_1024/02_test.png\n"
          ]
        },
        {
          "output_type": "stream",
          "name": "stderr",
          "text": [
            "\r 10%|█         | 2/20 [00:05<00:52,  2.89s/it]"
          ]
        },
        {
          "output_type": "stream",
          "name": "stdout",
          "text": [
            "03_test\n",
            "255 1.0\n",
            " saving result files_demo_od_0.1_1024/03_test.png\n",
            " saving result files_demo_bv_0.1_1024/03_test.png\n"
          ]
        },
        {
          "output_type": "stream",
          "name": "stderr",
          "text": [
            "\r 15%|█▌        | 3/20 [00:07<00:41,  2.45s/it]"
          ]
        },
        {
          "output_type": "stream",
          "name": "stdout",
          "text": [
            "04_test\n",
            "255 1.0\n",
            " saving result files_demo_od_0.1_1024/04_test.png\n",
            " saving result files_demo_bv_0.1_1024/04_test.png\n"
          ]
        },
        {
          "output_type": "stream",
          "name": "stderr",
          "text": [
            "\r 20%|██        | 4/20 [00:09<00:38,  2.39s/it]"
          ]
        },
        {
          "output_type": "stream",
          "name": "stdout",
          "text": [
            "05_test\n",
            "255 1.0\n",
            " saving result files_demo_od_0.1_1024/05_test.png\n",
            " saving result files_demo_bv_0.1_1024/05_test.png\n"
          ]
        },
        {
          "output_type": "stream",
          "name": "stderr",
          "text": [
            "\r 25%|██▌       | 5/20 [00:11<00:33,  2.21s/it]"
          ]
        },
        {
          "output_type": "stream",
          "name": "stdout",
          "text": [
            "06_test\n",
            "255 1.0\n",
            " saving result files_demo_od_0.1_1024/06_test.png\n",
            " saving result files_demo_bv_0.1_1024/06_test.png\n"
          ]
        },
        {
          "output_type": "stream",
          "name": "stderr",
          "text": [
            "\r 30%|███       | 6/20 [00:13<00:29,  2.14s/it]"
          ]
        },
        {
          "output_type": "stream",
          "name": "stdout",
          "text": [
            "07_test\n",
            "255 1.0\n",
            " saving result files_demo_od_0.1_1024/07_test.png\n",
            " saving result files_demo_bv_0.1_1024/07_test.png\n"
          ]
        },
        {
          "output_type": "stream",
          "name": "stderr",
          "text": [
            "\r 35%|███▌      | 7/20 [00:16<00:29,  2.23s/it]"
          ]
        },
        {
          "output_type": "stream",
          "name": "stdout",
          "text": [
            "08_test\n",
            "255 1.0\n",
            " saving result files_demo_od_0.1_1024/08_test.png\n",
            " saving result files_demo_bv_0.1_1024/08_test.png\n"
          ]
        },
        {
          "output_type": "stream",
          "name": "stderr",
          "text": [
            "\r 40%|████      | 8/20 [00:18<00:26,  2.17s/it]"
          ]
        },
        {
          "output_type": "stream",
          "name": "stdout",
          "text": [
            "09_test\n",
            "255 1.0\n",
            " saving result files_demo_od_0.1_1024/09_test.png\n",
            " saving result files_demo_bv_0.1_1024/09_test.png\n"
          ]
        },
        {
          "output_type": "stream",
          "name": "stderr",
          "text": [
            "\r 45%|████▌     | 9/20 [00:20<00:24,  2.18s/it]"
          ]
        },
        {
          "output_type": "stream",
          "name": "stdout",
          "text": [
            "10_test\n",
            "255 1.0\n",
            " saving result files_demo_od_0.1_1024/10_test.png\n",
            " saving result files_demo_bv_0.1_1024/10_test.png\n"
          ]
        },
        {
          "output_type": "stream",
          "name": "stderr",
          "text": [
            "\r 50%|█████     | 10/20 [00:22<00:22,  2.23s/it]"
          ]
        },
        {
          "output_type": "stream",
          "name": "stdout",
          "text": [
            "11_test\n",
            "255 1.0\n",
            " saving result files_demo_od_0.1_1024/11_test.png\n",
            " saving result files_demo_bv_0.1_1024/11_test.png\n"
          ]
        },
        {
          "output_type": "stream",
          "name": "stderr",
          "text": [
            "\r 55%|█████▌    | 11/20 [00:25<00:20,  2.26s/it]"
          ]
        },
        {
          "output_type": "stream",
          "name": "stdout",
          "text": [
            "12_test\n",
            "255 1.0\n",
            " saving result files_demo_od_0.1_1024/12_test.png\n",
            " saving result files_demo_bv_0.1_1024/12_test.png\n"
          ]
        },
        {
          "output_type": "stream",
          "name": "stderr",
          "text": [
            "\r 60%|██████    | 12/20 [00:27<00:18,  2.27s/it]"
          ]
        },
        {
          "output_type": "stream",
          "name": "stdout",
          "text": [
            "13_test\n",
            "255 1.0\n",
            " saving result files_demo_od_0.1_1024/13_test.png\n",
            " saving result files_demo_bv_0.1_1024/13_test.png\n"
          ]
        },
        {
          "output_type": "stream",
          "name": "stderr",
          "text": [
            "\r 65%|██████▌   | 13/20 [00:30<00:18,  2.65s/it]"
          ]
        },
        {
          "output_type": "stream",
          "name": "stdout",
          "text": [
            "14_test\n",
            "255 1.0\n",
            " saving result files_demo_od_0.1_1024/14_test.png\n",
            " saving result files_demo_bv_0.1_1024/14_test.png\n"
          ]
        },
        {
          "output_type": "stream",
          "name": "stderr",
          "text": [
            "\r 70%|███████   | 14/20 [00:33<00:15,  2.63s/it]"
          ]
        },
        {
          "output_type": "stream",
          "name": "stdout",
          "text": [
            "15_test\n",
            "255 1.0\n",
            " saving result files_demo_od_0.1_1024/15_test.png\n",
            " saving result files_demo_bv_0.1_1024/15_test.png\n"
          ]
        },
        {
          "output_type": "stream",
          "name": "stderr",
          "text": [
            "\r 75%|███████▌  | 15/20 [00:35<00:12,  2.45s/it]"
          ]
        },
        {
          "output_type": "stream",
          "name": "stdout",
          "text": [
            "16_test\n",
            "255 1.0\n",
            " saving result files_demo_od_0.1_1024/16_test.png\n",
            " saving result files_demo_bv_0.1_1024/16_test.png\n"
          ]
        },
        {
          "output_type": "stream",
          "name": "stderr",
          "text": [
            "\r 80%|████████  | 16/20 [00:37<00:09,  2.31s/it]"
          ]
        },
        {
          "output_type": "stream",
          "name": "stdout",
          "text": [
            "17_test\n",
            "255 1.0\n",
            " saving result files_demo_od_0.1_1024/17_test.png\n",
            " saving result files_demo_bv_0.1_1024/17_test.png\n"
          ]
        },
        {
          "output_type": "stream",
          "name": "stderr",
          "text": [
            "\r 85%|████████▌ | 17/20 [00:39<00:06,  2.20s/it]"
          ]
        },
        {
          "output_type": "stream",
          "name": "stdout",
          "text": [
            "18_test\n",
            "255 1.0\n",
            " saving result files_demo_od_0.1_1024/18_test.png\n",
            " saving result files_demo_bv_0.1_1024/18_test.png\n"
          ]
        },
        {
          "output_type": "stream",
          "name": "stderr",
          "text": [
            "\r 90%|█████████ | 18/20 [00:41<00:04,  2.10s/it]"
          ]
        },
        {
          "output_type": "stream",
          "name": "stdout",
          "text": [
            "19_test\n",
            "255 1.0\n",
            " saving result files_demo_od_0.1_1024/19_test.png\n",
            " saving result files_demo_bv_0.1_1024/19_test.png\n"
          ]
        },
        {
          "output_type": "stream",
          "name": "stderr",
          "text": [
            "\r 95%|█████████▌| 19/20 [00:43<00:02,  2.07s/it]"
          ]
        },
        {
          "output_type": "stream",
          "name": "stdout",
          "text": [
            "20_test\n",
            "255 1.0\n",
            " saving result files_demo_od_0.1_1024/20_test.png\n",
            " saving result files_demo_bv_0.1_1024/20_test.png\n"
          ]
        },
        {
          "output_type": "stream",
          "name": "stderr",
          "text": [
            "100%|██████████| 20/20 [00:45<00:00,  2.27s/it]\n"
          ]
        },
        {
          "output_type": "stream",
          "name": "stdout",
          "text": [
            "\n",
            "\n",
            "****** OD ******Metrics\n",
            "Threshold: 0.1\n",
            "Accuracy: 0.99277\n",
            "F1: 0.75059 (dice score)\n",
            "Jaccard: 0.65733\n",
            "Recall: 0.87372\n",
            "Precision: 0.77264\n",
            "AUC: 0.87372\n",
            "Specificity: 29.62276\n",
            "\n",
            "\n",
            "****** BV ******Metrics\n",
            "Threshold: 0.1\n",
            "Accuracy: 0.95889\n",
            "F1: 0.80313 (dice score)\n",
            "Jaccard: 0.67335\n",
            "Recall: 0.74930\n",
            "Precision: 0.87674\n",
            "AUC: 0.74930\n",
            "Specificity: 2524.15782\n",
            "\n",
            "\n"
          ]
        }
      ],
      "source": [
        "from copy import deepcopy\n",
        "\n",
        "data_dir = \"new_data\"\n",
        "od_channel, bv_channel = 0, 1\n",
        "\n",
        "model_dir = \"files\"\n",
        "threshold = 0.1\n",
        "\n",
        "od_result_dir = f\"files_demo_od_{threshold}_1024\"\n",
        "bv_result_dir = f\"files_demo_bv_{threshold}_1024\"\n",
        "\n",
        "create_dir(od_result_dir)\n",
        "create_dir(bv_result_dir)\n",
        "\n",
        "\"\"\" Load the model \"\"\"\n",
        "model_file_name = f\"{model_dir}/model_1024.h5\"\n",
        "print(model_file_name)\n",
        "# with CustomObjectScope({'iou': iou, 'dice_coef': dice_coef, 'dice_coef_OD': dice_coef_OD, 'dice_coef_MA': dice_coef_MA, 'dice_loss': dice_loss}):\n",
        "model = tf.keras.models.load_model(model_file_name, compile = False)\n",
        "\n",
        "\"\"\" Load the dataset \"\"\"\n",
        "# dataset_path = os.path.join(data_dir, \"test\")\n",
        "# test_x, test_y = get_filenames_sorted(data_dir + \"/test/image/\", data_dir + \"/test/mask/\" )\n",
        "\n",
        "dataset_path = os.path.join(\"new_data\", \"test\")\n",
        "test_x, test_y = load_data(dataset_path)\n",
        "\n",
        "\"\"\" Make the prediction and calculate the metrics values \"\"\"\n",
        "SCORE_BV, SCORE_OD = [], []\n",
        "for x, y in tqdm(zip(test_x, test_y), total=len(test_x)):\n",
        "    \"\"\" Extracting name \"\"\"\n",
        "    name = x.rsplit(\"/\", 1)[1].rsplit(\".\", 1)[0]\n",
        "    print(name)\n",
        "\n",
        "    \"\"\" Read the image and mask \"\"\"\n",
        "    ori_x, x = read_image(x)\n",
        "    ori_y, y = read_mask(y)\n",
        "\n",
        "    \"\"\" Prediction \"\"\"\n",
        "    y_pred = model.predict(np.expand_dims(x, axis=0))[0]\n",
        "    y_pred_prob = deepcopy(y_pred)\n",
        "    y_pred = y_pred > threshold\n",
        "    y_pred = y_pred.astype(np.float32)\n",
        "\n",
        "    print(np.max(ori_y), np.max(y))\n",
        "\n",
        "    \"\"\" Saving the images \"\"\"\n",
        "    save_image_path_od = f\"{od_result_dir}/{name}.png\"\n",
        "    save_results(ori_x, ori_y, y_pred, save_image_path_od, od_channel)\n",
        "\n",
        "    save_image_path_bv = f\"{bv_result_dir}/{name}.png\"\n",
        "    save_results(ori_x, ori_y, y_pred, save_image_path_bv, bv_channel)\n",
        "\n",
        "\n",
        "#     \"\"\" Calculate the bv metrics \"\"\"\n",
        "    bv_pred = y_pred[:, :, bv_channel].flatten()\n",
        "    bv_pred_prob = y_pred_prob[:, :, bv_channel].flatten()\n",
        "    bv_gt = y[:, :, bv_channel].flatten()\n",
        "    acc_value = accuracy_score(bv_gt > threshold, bv_pred>threshold)\n",
        "    f1_value = f1_score(bv_gt > threshold, bv_pred>threshold, labels=[0, 1], average=\"binary\")\n",
        "    jac_value = jaccard_score(bv_gt > threshold, bv_pred>threshold, labels=[0, 1], average=\"binary\")\n",
        "    recall_value = recall_score(bv_gt > threshold, bv_pred>threshold, labels=[0, 1], average=\"binary\")\n",
        "    recall_computed = np.sum((bv_gt > threshold) & (bv_pred > threshold)) / np.sum(bv_gt > threshold)\n",
        "    precision_value = precision_score(bv_gt > threshold, bv_pred>threshold, labels=[0, 1], average=\"binary\")\n",
        "    auc_score = auc(bv_gt > threshold, bv_pred_prob)\n",
        "    auc_bv = roc_auc_score(bv_gt > threshold, bv_pred_prob)\n",
        "    fpr_bv, tpr_bv, _ = roc_curve(bv_gt > threshold, bv_pred_prob)\n",
        "    SCORE_BV.append([name, acc_value, f1_value, jac_value, recall_value, precision_value, recall_computed, auc_score])\n",
        "\n",
        "#     \"\"\" Calculate the od metrics \"\"\"\n",
        "    bv_pred = y_pred[:, :, od_channel].flatten()\n",
        "    bv_pred_prob = y_pred_prob[:, :, bv_channel].flatten()\n",
        "    bv_gt = y[:, :, od_channel].flatten()\n",
        "    acc_value = accuracy_score(bv_gt > threshold, bv_pred>threshold)\n",
        "    f1_value = f1_score(bv_gt > threshold, bv_pred>threshold, labels=[0, 1], average=\"binary\")\n",
        "    jac_value = jaccard_score(bv_gt > threshold, bv_pred>threshold, labels=[0, 1], average=\"binary\")\n",
        "    recall_value = recall_score(bv_gt > threshold, bv_pred>threshold, labels=[0, 1], average=\"binary\")\n",
        "    spec_value = recall_score(bv_gt > threshold, bv_pred>threshold, labels=[0, 1], average=\"binary\", pos_label=0)\n",
        "\n",
        "    recall_computed = np.sum((bv_gt > threshold) & (bv_pred > threshold)) / np.sum(bv_gt > threshold)\n",
        "    precision_value = precision_score(bv_gt > threshold, bv_pred>threshold, labels=[0, 1], average=\"binary\")\n",
        "    auc_score = auc(bv_gt > threshold, bv_pred_prob)\n",
        "    # auc_od = roc_auc_score(bv_gt > threshold, bv_pred_prob)\n",
        "    # fpr_od, tpr_od, _ = roc_curve(bv_gt > threshold, bv_pred_prob)\n",
        "    SCORE_OD.append([name, acc_value, f1_value, jac_value, recall_value, precision_value, recall_computed, auc_score])\n",
        "    \n",
        "print(\"\\n\")\n",
        "for SCORE in [SCORE_OD, SCORE_BV]:\n",
        "    if SCORE == SCORE_OD:\n",
        "        print(\"****** OD ******Metrics\")\n",
        "    else:\n",
        "        print(\"****** BV ******Metrics\")\n",
        "    score = [s[1:] for s in SCORE]\n",
        "    score = np.mean(score, axis=0)\n",
        "    print(f\"Threshold:\", threshold)\n",
        "    print(f\"Accuracy: {score[0]:0.5f}\")\n",
        "    print(f\"F1: {score[1]:0.5f} (dice score)\")\n",
        "    print(f\"Jaccard: {score[2]:0.5f}\")\n",
        "    print(f\"Recall: {score[3]:0.5f}\")\n",
        "    print(f\"Precision: {score[4]:0.5f}\")\n",
        "    print(f\"AUC: {score[5]:0.5f}\")\n",
        "    print(f\"Specificity: {score[6]:0.5f}\")\n",
        "\n",
        "    # \"\"\" Saving \"\"\"\n",
        "    if SCORE == SCORE_OD:\n",
        "        df = pd.DataFrame(SCORE, columns=[\"Image\", \"Acc\", \"F1\", \"Jaccard\", \"Recall\", \"Precision\", \"Recall Computed\", \"AUC\"])\n",
        "        df.to_csv(f\"{od_result_dir}/score.csv\")\n",
        "    else:\n",
        "        df = pd.DataFrame(SCORE, columns=[\"Image\", \"Acc\", \"F1\", \"Jaccard\", \"Recall\", \"Precision\", \"Recall Computed\", \"AUC\"])\n",
        "        df.to_csv(f\"{bv_result_dir}/score.csv\")\n",
        "    print(\"\\n\")"
      ]
    },
    {
      "cell_type": "code",
      "source": [
        "%cd /content/gdrive/MyDrive/1_All_Computations/BV_OD_EX_DiceBCE\n",
        "\n",
        "from copy import deepcopy\n",
        "from utils import get_filenames_sorted\n",
        "\n",
        "H = 512\n",
        "W = 768\n",
        "\n",
        "def create_dir(path):\n",
        "    if not os.path.exists(path):\n",
        "        os.makedirs(path)\n",
        "\n",
        "def read_image(path):\n",
        "    x = cv2.imread(path, cv2.IMREAD_COLOR)\n",
        "    # x = cv2.resize(x, (W, H))\n",
        "    ori_x = x\n",
        "    x = x/255.0\n",
        "    x = x.astype(np.float32)\n",
        "    return ori_x, x\n",
        "\n",
        "def read_mask(path):\n",
        "    x = cv2.imread(path, cv2.IMREAD_COLOR)  ## (512, 512)\n",
        "    # x = cv2.resize(x, (W, H))\n",
        "    ori_x = x\n",
        "    x = x/255.0\n",
        "    x = x.astype(np.float32)\n",
        "    x = x[:,:,0:3] # Discard the last channel \n",
        "    return ori_x, x\n",
        "\n",
        "def load_data(path):\n",
        "    x = sorted(glob(os.path.join(path, \"image\", \"*.jpg\")))\n",
        "    y = sorted(glob(os.path.join(path, \"mask\", \"*.jpg\")))\n",
        "    return x, y\n",
        "\n",
        "def save_results(ori_x, ori_y, y_pred, save_image_path, channel):\n",
        "    line = np.ones((y_pred.shape[0], 10, 3)) * 255\n",
        "\n",
        "    pred_image = np.zeros((y_pred.shape[0], y_pred.shape[1], 3))\n",
        "    _y_pred = y_pred[:, :, channel]\n",
        "    _ori_y = ori_y[:, :, channel]\n",
        "    pred_image[:, :, 0] = ((_y_pred > 0.5) & (_ori_y <= 128)) * 255\n",
        "    pred_image[:, :, 1] = ((_y_pred > 0.5) & (_ori_y  > 128)) * 255\n",
        "    pred_image[:, :, 2] = ((_ori_y  > 128) & (_y_pred <= 0.5 )) * 255\n",
        "\n",
        "    print(\" saving result\", save_image_path)\n",
        "    cv2.imwrite(save_image_path, pred_image)\n",
        "\n",
        "data_dir = \"new_data_augment\"\n",
        "od_channel, he_channel, ex_channel = 0, 1, 2\n",
        "\n",
        "threshold = 0.25\n",
        "\n",
        "od_result_dir = f\"files_demo_bv_{threshold}\"\n",
        "he_result_dir = f\"files_demo_od_{threshold}\"\n",
        "ex_result_dir = f\"files_demo_ex_{threshold}\"\n",
        "\n",
        "create_dir(od_result_dir)\n",
        "create_dir(he_result_dir)\n",
        "create_dir(ex_result_dir)\n",
        "\n",
        "model_dir = \"files\"\n",
        "\n",
        "\"\"\" Load the model \"\"\"\n",
        "model_file_name = f\"{model_dir}/model.h5\"\n",
        "print(model_file_name)\n",
        "# with CustomObjectScope({'iou': iou, 'dice_coef': dice_coef, 'dice_loss': dice_loss}):\n",
        "model = tf.keras.models.load_model(model_file_name, compile=False)\n",
        "\n",
        "\"\"\" Load the dataset \"\"\"\n",
        "# dataset_path = os.path.join(data_dir, \"test\")\n",
        "test_x, test_y = get_filenames_sorted(data_dir + \"/test/image/\", data_dir + \"/test/mask/\" )\n",
        "\n",
        "\"\"\" Make the prediction and calculate the metrics values \"\"\"\n",
        "SCORE_OD, SCORE_HE, SCORE_EX = [], [], []\n",
        "for x, y in tqdm(zip(test_x, test_y), total=len(test_x)):\n",
        "    \"\"\" Extracting name \"\"\"\n",
        "    name = x.rsplit(\"/\", 1)[1].rsplit(\".\", 1)[0]\n",
        "    print(name)\n",
        "\n",
        "    \"\"\" Read the image and mask \"\"\"\n",
        "    ori_x, x = read_image(x)\n",
        "    ori_y, y = read_mask(y)\n",
        "\n",
        "    \"\"\" Prediction \"\"\"\n",
        "    y_pred = model.predict(np.expand_dims(x, axis=0))[0]\n",
        "    y_pred_prob = deepcopy(y_pred)\n",
        "    y_pred = y_pred > threshold\n",
        "    y_pred = y_pred.astype(np.float32)\n",
        "\n",
        "    print(np.max(ori_y), np.max(y))\n",
        "\n",
        "    \"\"\" Saving the images \"\"\"\n",
        "    save_image_path_od = f\"{od_result_dir}/{name}.png\"\n",
        "    save_results(ori_x, ori_y, y_pred, save_image_path_od, od_channel)\n",
        "\n",
        "    save_image_path_he = f\"{he_result_dir}/{name}.png\"\n",
        "    save_results(ori_x, ori_y, y_pred, save_image_path_he, he_channel)\n",
        "\n",
        "    save_image_path_ex = f\"{ex_result_dir}/{name}.png\"\n",
        "    save_results(ori_x, ori_y, y_pred, save_image_path_ex, ex_channel)\n",
        "\n",
        "    #     \"\"\" Calculate the OD metrics \"\"\"\n",
        "    ma_pred = y_pred[:, :, od_channel].flatten()\n",
        "    ma_pred_prob = y_pred_prob[:, :, od_channel].flatten()\n",
        "    ma_gt = y[:, :, od_channel].flatten()\n",
        "    acc_value = accuracy_score(ma_gt > threshold, ma_pred>threshold)\n",
        "    f1_value = f1_score(ma_gt > threshold, ma_pred>threshold, labels=[0, 1], average=\"binary\")\n",
        "    jac_value = jaccard_score(ma_gt > threshold, ma_pred>threshold, labels=[0, 1], average=\"binary\")\n",
        "    recall_value = recall_score(ma_gt > threshold, ma_pred>threshold, labels=[0, 1], average=\"binary\")\n",
        "    recall_computed = np.sum((ma_gt > threshold) & (ma_pred > threshold)) / np.sum(ma_gt > threshold)\n",
        "    precision_value = precision_score(ma_gt > threshold, ma_pred>threshold, labels=[0, 1], average=\"binary\")\n",
        "    auc_score = auc(ma_gt > threshold, ma_pred_prob)\n",
        "    SCORE_OD.append([name, acc_value, f1_value, jac_value, recall_value, precision_value, recall_computed, auc_score])\n",
        "\n",
        "    #     \"\"\" Calculate the HE metrics \"\"\"\n",
        "    bv_pred = y_pred[:, :, he_channel].flatten()\n",
        "    bv_pred_prob = y_pred_prob[:, :, he_channel].flatten()\n",
        "    bv_gt = y[:, :, he_channel].flatten()\n",
        "    acc_value = accuracy_score(bv_gt > threshold, bv_pred>threshold)\n",
        "    f1_value = f1_score(bv_gt > threshold, bv_pred>threshold, labels=[0, 1], average=\"binary\")\n",
        "    jac_value = jaccard_score(bv_gt > threshold, bv_pred>threshold, labels=[0, 1], average=\"binary\")\n",
        "    recall_value = recall_score(bv_gt > threshold, bv_pred>threshold, labels=[0, 1], average=\"binary\")\n",
        "    recall_computed = np.sum((bv_gt > threshold) & (bv_pred > threshold)) / np.sum(bv_gt > threshold)\n",
        "    precision_value = precision_score(bv_gt > threshold, bv_pred>threshold, labels=[0, 1], average=\"binary\")\n",
        "    auc_score = auc(bv_gt > threshold, bv_pred_prob)\n",
        "    auc_od = roc_auc_score(bv_gt > threshold, bv_pred_prob)\n",
        "    fpr_od, tpr_od, _ = roc_curve(bv_gt > threshold, bv_pred_prob)\n",
        "    SCORE_HE.append([name, acc_value, f1_value, jac_value, recall_value, precision_value, recall_computed, auc_score])\n",
        "\n",
        "    #     \"\"\" Calculate the EX metrics \"\"\"\n",
        "    he_pred = y_pred[:, :, ex_channel].flatten()\n",
        "    he_pred_prob = y_pred_prob[:, :, ex_channel].flatten()\n",
        "    he_gt = y[:, :, ex_channel].flatten()\n",
        "    acc_value = accuracy_score(he_gt > threshold, he_pred>threshold)\n",
        "    f1_value = f1_score(he_gt > threshold, he_pred>threshold, labels=[0, 1], average=\"binary\")\n",
        "    jac_value = jaccard_score(he_gt > threshold, he_pred>threshold, labels=[0, 1], average=\"binary\")\n",
        "    recall_value = recall_score(he_gt > threshold, he_pred>threshold, labels=[0, 1], average=\"binary\")\n",
        "    recall_computed = np.sum((he_gt > threshold) & (he_pred > threshold)) / np.sum(he_gt > threshold)\n",
        "    precision_value = precision_score(ma_gt > threshold, ma_pred>threshold, labels=[0, 1], average=\"binary\")\n",
        "    auc_score = auc(he_gt > threshold, he_pred_prob)\n",
        "    auc_ex = roc_auc_score(bv_gt > threshold, bv_pred_prob)\n",
        "    fpr_ex, tpr_ex, _ = roc_curve(bv_gt > threshold, bv_pred_prob)\n",
        "    SCORE_EX.append([name, acc_value, f1_value, jac_value, recall_value, precision_value, recall_computed, auc_score])\n",
        "    \n",
        "print(\"\\n\")\n",
        "\n",
        "for SCORE in [SCORE_OD, SCORE_HE, SCORE_EX]:\n",
        "    if SCORE == SCORE_OD:\n",
        "        print(\"****** BV Metrics ******\")\n",
        "        score = [s[1:] for s in SCORE]\n",
        "        score = np.mean(score, axis=0)\n",
        "        print(f\"Threshold:\", threshold)\n",
        "        print(f\"Accuracy: {score[0]:0.5f}\")\n",
        "        print(f\"F1: {score[1]:0.5f} (dice score)\")\n",
        "        print(f\"Jaccard: {score[2]:0.5f}\")\n",
        "        print(f\"Recall: {score[3]:0.5f}\")\n",
        "        print(f\"Precision: {score[4]:0.5f}\")\n",
        "        print(f\"AUC: {score[5]:0.5f}\")\n",
        "\n",
        "    elif SCORE == SCORE_HE:\n",
        "        print(\"****** OD Metrics ******\")\n",
        "        score = [s[1:] for s in SCORE]\n",
        "        score = np.mean(score, axis=0)\n",
        "        print(f\"Threshold:\", threshold)\n",
        "        print(f\"Accuracy: {score[0]:0.5f}\")\n",
        "        print(f\"F1: {score[1]:0.5f} (dice score)\")\n",
        "        print(f\"Jaccard: {score[2]:0.5f}\")\n",
        "        print(f\"Recall: {score[3]:0.5f}\")\n",
        "        print(f\"Precision: {score[4]:0.5f}\")\n",
        "        print(f\"AUC: {score[5]:0.5f}\")\n",
        "\n",
        "    else:\n",
        "        print(\"****** EX Metrics ******\")\n",
        "        score = [s[1:] for s in SCORE]\n",
        "        score = np.mean(score, axis=0)\n",
        "        print(f\"Threshold:\", threshold)\n",
        "        print(f\"Accuracy: {score[0]:0.5f}\")\n",
        "        print(f\"F1: {score[1]:0.5f} (dice score)\")\n",
        "        print(f\"Jaccard: {score[2]:0.5f}\")\n",
        "        print(f\"Recall: {score[3]:0.5f}\")\n",
        "        print(f\"Precision: {score[4]:0.5f}\")\n",
        "        print(f\"AUC: {score[5]:0.5f}\")\n",
        "\n",
        "    # \"\"\" Saving \"\"\"\n",
        "    if SCORE == SCORE_OD:\n",
        "        df = pd.DataFrame(SCORE, columns=[\"Image\", \"Acc\", \"F1\", \"Jaccard\", \"Recall\", \"Precision\", \"Recall Computed\", \"AUC\"])\n",
        "        df.to_csv(f\"{od_result_dir}/score.csv\")\n",
        "\n",
        "    elif SCORE == SCORE_HE:\n",
        "        df = pd.DataFrame(SCORE, columns=[\"Image\", \"Acc\", \"F1\", \"Jaccard\", \"Recall\", \"Precision\", \"Recall Computed\", \"AUC\"])\n",
        "        df.to_csv(f\"{he_result_dir}/score.csv\")\n",
        "    else:\n",
        "        df = pd.DataFrame(SCORE, columns=[\"Image\", \"Acc\", \"F1\", \"Jaccard\", \"Recall\", \"Precision\", \"Recall Computed\", \"AUC\"])\n",
        "        df.to_csv(f\"{ex_result_dir}/score.csv\")\n",
        "    print(\"\\n\")"
      ],
      "metadata": {
        "id": "u82H1cIaWvcu"
      },
      "execution_count": null,
      "outputs": []
    },
    {
      "cell_type": "code",
      "source": [
        "%cd /content/gdrive/MyDrive/1_All_Computations/BV_OD_Fovea_augment\n",
        "# !unzip new_data_augment.zip"
      ],
      "metadata": {
        "id": "LVdTjWPUebzu"
      },
      "execution_count": null,
      "outputs": []
    },
    {
      "cell_type": "code",
      "source": [
        "H = 512\n",
        "W = 768\n",
        "\n",
        "def create_dir(path):\n",
        "    if not os.path.exists(path):\n",
        "        os.makedirs(path)\n",
        "\n",
        "def read_image(path):\n",
        "    x = cv2.imread(path, cv2.IMREAD_COLOR)\n",
        "    # x = cv2.resize(x, (W, H))\n",
        "    ori_x = x\n",
        "    x = x/255.0\n",
        "    x = x.astype(np.float32)\n",
        "    return ori_x, x\n",
        "\n",
        "def read_mask(path):\n",
        "    x = cv2.imread(path, cv2.IMREAD_COLOR)  ## (512, 512)\n",
        "    # x = cv2.resize(x, (W, H))\n",
        "    ori_x = x\n",
        "    x = x/255.0\n",
        "    x = x.astype(np.float32)\n",
        "    x = x[:,:,0:3] # Discard the last channel \n",
        "    return ori_x, x\n",
        "\n",
        "def load_data(path):\n",
        "    x = sorted(glob(os.path.join(path, \"image\", \"*.jpg\")))\n",
        "    y = sorted(glob(os.path.join(path, \"mask\", \"*.jpg\")))\n",
        "    return x, y\n",
        "\n",
        "def save_results(ori_x, ori_y, y_pred, save_image_path, channel):\n",
        "    line = np.ones((y_pred.shape[0], 10, 3)) * 255\n",
        "\n",
        "    pred_image = np.zeros((y_pred.shape[0], y_pred.shape[1], 3))\n",
        "    _y_pred = y_pred[:, :, channel]\n",
        "    _ori_y = ori_y[:, :, channel]\n",
        "    pred_image[:, :, 0] = ((_y_pred > 0.5) & (_ori_y <= 128)) * 255\n",
        "    pred_image[:, :, 1] = ((_y_pred > 0.5) & (_ori_y  > 128)) * 255\n",
        "    pred_image[:, :, 2] = ((_ori_y  > 128) & (_y_pred <= 0.5 )) * 255\n",
        "\n",
        "    print(\" saving result\", save_image_path)\n",
        "    cv2.imwrite(save_image_path, pred_image)\n",
        "\n",
        "model_dir=\"/content/gdrive/MyDrive/1_All_Computations/BV_OD_Fovea_augment/files\"\n",
        "\n",
        "data_dir = \"new_data_augment\"\n",
        "od_channel, he_channel, ex_channel = 0, 1, 2\n",
        "# The names are bv_channel, od_channel, fovea_channel = 0, 1, 2. Please rename after run.\n",
        "\n",
        "od_result_dir = \"/content/gdrive/MyDrive/1_All_Computations/BV_OD_Fovea_augment/files_demo_od\"\n",
        "he_result_dir = \"/content/gdrive/MyDrive/1_All_Computations/BV_OD_Fovea_augment/files_demo_he\"\n",
        "ex_result_dir = \"/content/gdrive/MyDrive/1_All_Computations/BV_OD_Fovea_augment/files_demo_ex\"\n",
        "\n",
        "create_dir(od_result_dir)\n",
        "create_dir(he_result_dir)\n",
        "create_dir(ex_result_dir)\n",
        "\n",
        "\"\"\" Load the model \"\"\"\n",
        "model_file_name = f\"{model_dir}/model.h5\"\n",
        "print(model_file_name)\n",
        "with CustomObjectScope({'iou': iou, 'dice_coef': dice_coef, 'dice_loss': dice_loss}):\n",
        "    model = tf.keras.models.load_model(model_file_name)\n",
        "\n",
        "\"\"\" Load the dataset \"\"\"\n",
        "# dataset_path = os.path.join(data_dir, \"test\")\n",
        "test_x, test_y = get_filenames_sorted(data_dir + \"/test/image/\", data_dir + \"/test/mask/\" )\n",
        "\n",
        "\"\"\" Make the prediction and calculate the metrics values \"\"\"\n",
        "SCORE_OD, SCORE_HE, SCORE_EX = [], [], []\n",
        "for x, y in tqdm(zip(test_x, test_y), total=len(test_x)):\n",
        "    \"\"\" Extracting name \"\"\"\n",
        "    name = x.rsplit(\"/\", 1)[1].rsplit(\".\", 1)[0]\n",
        "    print(name)\n",
        "\n",
        "    \"\"\" Read the image and mask \"\"\"\n",
        "    ori_x, x = read_image(x)\n",
        "    ori_y, y = read_mask(y)\n",
        "\n",
        "    \"\"\" Prediction \"\"\"\n",
        "    y_pred = model.predict(np.expand_dims(x, axis=0))[0]\n",
        "    y_pred = y_pred > 0.5\n",
        "    y_pred = y_pred.astype(np.float32)\n",
        "\n",
        "    print(np.max(ori_y), np.max(y))\n",
        "\n",
        "    \"\"\" Saving the images \"\"\"\n",
        "    save_image_path_od = f\"{od_result_dir}/{name}.png\"\n",
        "    save_results(ori_x, ori_y, y_pred, save_image_path_od, od_channel)\n",
        "\n",
        "    save_image_path_he = f\"{he_result_dir}/{name}.png\"\n",
        "    save_results(ori_x, ori_y, y_pred, save_image_path_he, he_channel)\n",
        "\n",
        "    save_image_path_ex = f\"{ex_result_dir}/{name}.png\"\n",
        "    save_results(ori_x, ori_y, y_pred, save_image_path_ex, ex_channel)\n",
        "\n",
        "\n",
        "#     \"\"\" Calculate the OD metrics \"\"\"\n",
        "    ma_pred = y_pred[:, :, od_channel].flatten()\n",
        "    ma_gt = y[:, :, od_channel].flatten()\n",
        "    acc_value = accuracy_score(ma_gt > 0.5, ma_pred>0.5)\n",
        "    f1_value = f1_score(ma_gt > 0.5, ma_pred>0.5, labels=[0, 1], average=\"binary\")\n",
        "    jac_value = jaccard_score(ma_gt > 0.5, ma_pred>0.5, labels=[0, 1], average=\"binary\")\n",
        "    recall_value = recall_score(ma_gt > 0.5, ma_pred>0.5, labels=[0, 1], average=\"binary\")\n",
        "    recall_computed = np.sum((ma_gt > 0.5) & (ma_pred > 0.5)) / np.sum(ma_gt > 0.5)\n",
        "    precision_value = precision_score(ma_gt > 0.5, ma_pred>0.5, labels=[0, 1], average=\"binary\")\n",
        "    SCORE_OD.append([name, acc_value, f1_value, jac_value, recall_value, precision_value, recall_computed])\n",
        "\n",
        "#     \"\"\" Calculate the HE metrics \"\"\"\n",
        "    bv_pred = y_pred[:, :, he_channel].flatten()\n",
        "    bv_gt = y[:, :, he_channel].flatten()\n",
        "    acc_value = accuracy_score(bv_gt > 0.5, bv_pred>0.5)\n",
        "    f1_value = f1_score(bv_gt > 0.5, bv_pred>0.5, labels=[0, 1], average=\"binary\")\n",
        "    jac_value = jaccard_score(bv_gt > 0.5, bv_pred>0.5, labels=[0, 1], average=\"binary\")\n",
        "    recall_value = recall_score(bv_gt > 0.5, bv_pred>0.5, labels=[0, 1], average=\"binary\")\n",
        "    recall_computed = np.sum((bv_gt > 0.5) & (bv_pred > 0.5)) / np.sum(bv_gt > 0.5)\n",
        "    precision_value = precision_score(bv_gt > 0.5, bv_pred>0.5, labels=[0, 1], average=\"binary\")\n",
        "    auc_od2 = roc_auc_score(bv_gt > threshold, bv_pred_prob)\n",
        "    fpr_od2, tpr_od2, _ = roc_curve(bv_gt > threshold, bv_pred_prob)\n",
        "    SCORE_HE.append([name, acc_value, f1_value, jac_value, recall_value, precision_value, recall_computed])\n",
        "\n",
        "#     \"\"\" Calculate the EX metrics \"\"\"\n",
        "    he_pred = y_pred[:, :, ex_channel].flatten()\n",
        "    he_gt = y[:, :, ex_channel].flatten()\n",
        "    acc_value = accuracy_score(he_gt > 0.5, he_pred>0.5)\n",
        "    f1_value = f1_score(he_gt > 0.5, he_pred>0.5, labels=[0, 1], average=\"binary\")\n",
        "    jac_value = jaccard_score(he_gt > 0.5, he_pred>0.5, labels=[0, 1], average=\"binary\")\n",
        "    recall_value = recall_score(he_gt > 0.5, he_pred>0.5, labels=[0, 1], average=\"binary\")\n",
        "    recall_computed = np.sum((he_gt > 0.5) & (he_pred > 0.5)) / np.sum(he_gt > 0.5)\n",
        "    precision_value = precision_score(ma_gt > 0.5, ma_pred>0.5, labels=[0, 1], average=\"binary\")\n",
        "    auc_fovea = roc_auc_score(bv_gt > threshold, bv_pred_prob)\n",
        "    fpr_fovea, tpr_fovea, _ = roc_curve(bv_gt > threshold, bv_pred_prob)\n",
        "    SCORE_EX.append([name, acc_value, f1_value, jac_value, recall_value, precision_value, recall_computed])\n",
        "    \n",
        "print(\"\\n\")\n",
        "\n",
        "for SCORE in [SCORE_OD, SCORE_HE, SCORE_EX]:\n",
        "    if SCORE == SCORE_OD:\n",
        "        print(\"****** BV Metrics ******\")\n",
        "        score = [s[1:] for s in SCORE]\n",
        "        score = np.mean(score, axis=0)\n",
        "        print(f\"Accuracy: {score[0]:0.5f}\")\n",
        "        print(f\"F1: {score[1]:0.5f} (dice score)\")\n",
        "        print(f\"AUC: {score[1]:0.5f} (Auc score)\")\n",
        "        print(f\"Jaccard: {score[2]:0.5f}\")\n",
        "        print(f\"Recall: {score[3]:0.5f}\")\n",
        "        print(f\"Precision: {score[4]:0.5f}\")\n",
        "\n",
        "    elif SCORE == SCORE_HE:\n",
        "        print(\"****** OD Metrics ******\")\n",
        "        score = [s[1:] for s in SCORE]\n",
        "        score = np.mean(score, axis=0)\n",
        "        print(f\"Accuracy: {score[0]:0.5f}\")\n",
        "        print(f\"F1: {score[1]:0.5f} (dice score)\")\n",
        "        print(f\"AUC: {score[1]:0.5f} (Auc score)\")\n",
        "        print(f\"Jaccard: {score[2]:0.5f}\")\n",
        "        print(f\"Recall: {score[3]:0.5f}\")\n",
        "        print(f\"Precision: {score[4]:0.5f}\")\n",
        "\n",
        "    else:\n",
        "        print(\"****** Fovea Metrics ******\")\n",
        "        score = [s[1:] for s in SCORE]\n",
        "        score = np.mean(score, axis=0)\n",
        "        print(f\"Accuracy: {score[0]:0.5f}\")\n",
        "        print(f\"F1: {score[1]:0.5f} (dice score)\")\n",
        "        print(f\"AUC: {score[1]:0.5f} (Auc score)\")\n",
        "        print(f\"Jaccard: {score[2]:0.5f}\")\n",
        "        print(f\"Recall: {score[3]:0.5f}\")\n",
        "        print(f\"Precision: {score[4]:0.5f}\")\n",
        "\n",
        "    # \"\"\" Saving \"\"\"\n",
        "    if SCORE == SCORE_OD:\n",
        "        df = pd.DataFrame(SCORE, columns=[\"Image\", \"Acc\", \"F1\", \"Jaccard\", \"Recall\", \"Precision\", \"Recall Computed\"])\n",
        "        df.to_csv(f\"{od_result_dir}/score.csv\")\n",
        "\n",
        "    elif SCORE == SCORE_HE:\n",
        "        df = pd.DataFrame(SCORE, columns=[\"Image\", \"Acc\", \"F1\", \"Jaccard\", \"Recall\", \"Precision\", \"Recall Computed\"])\n",
        "        df.to_csv(f\"{he_result_dir}/score.csv\")\n",
        "    else:\n",
        "        df = pd.DataFrame(SCORE, columns=[\"Image\", \"Acc\", \"F1\", \"Jaccard\", \"Recall\", \"Precision\", \"Recall Computed\"])\n",
        "        df.to_csv(f\"{ex_result_dir}/score.csv\")\n",
        "    print(\"\\n\")"
      ],
      "metadata": {
        "id": "-FoGbhT3WlKO"
      },
      "execution_count": null,
      "outputs": []
    },
    {
      "cell_type": "code",
      "source": [
        "H = 512\n",
        "W = 768\n",
        "\n",
        "def create_dir(path):\n",
        "    if not os.path.exists(path):\n",
        "        os.makedirs(path)\n",
        "\n",
        "def read_image(path):\n",
        "    x = cv2.imread(path, cv2.IMREAD_COLOR)\n",
        "    # x = cv2.resize(x, (W, H))\n",
        "    ori_x = x\n",
        "    x = x/255.0\n",
        "    x = x.astype(np.float32)\n",
        "    return ori_x, x\n",
        "\n",
        "def read_mask(path):\n",
        "    x = cv2.imread(path, cv2.IMREAD_COLOR)  ## (512, 512)\n",
        "    # x = cv2.resize(x, (W, H))\n",
        "    ori_x = x\n",
        "    x = x/255.0\n",
        "    x = x.astype(np.float32)\n",
        "    x = x[:,:,0:3] # Discard the last channel \n",
        "    return ori_x, x\n",
        "\n",
        "def load_data(path):\n",
        "    x = sorted(glob(os.path.join(path, \"image\", \"*.jpg\")))\n",
        "    y = sorted(glob(os.path.join(path, \"mask\", \"*.jpg\")))\n",
        "    return x, y\n",
        "\n",
        "def save_results(ori_x, ori_y, y_pred, save_image_path, channel):\n",
        "    line = np.ones((y_pred.shape[0], 10, 3)) * 255\n",
        "\n",
        "    pred_image = np.zeros((y_pred.shape[0], y_pred.shape[1], 3))\n",
        "    _y_pred = y_pred[:, :, channel]\n",
        "    _ori_y = ori_y[:, :, channel]\n",
        "    pred_image[:, :, 0] = ((_y_pred > 0.5) & (_ori_y <= 128)) * 255\n",
        "    pred_image[:, :, 1] = ((_y_pred > 0.5) & (_ori_y  > 128)) * 255\n",
        "    pred_image[:, :, 2] = ((_ori_y  > 128) & (_y_pred <= 0.5 )) * 255\n",
        "\n",
        "    print(\" saving result\", save_image_path)\n",
        "    cv2.imwrite(save_image_path, pred_image)\n",
        "\n",
        "model_dir=\"/content/gdrive/MyDrive/1_All_Computations/BV_OD_Fovea_augment/files\"\n",
        "\n",
        "data_dir = \"new_data_augment\"\n",
        "od_channel, he_channel, ex_channel = 0, 1, 2\n",
        "# The names are bv_channel, od_channel, fovea_channel = 0, 1, 2. Please rename after run.\n",
        "\n",
        "od_result_dir = \"/content/gdrive/MyDrive/1_All_Computations/BV_OD_Fovea_augment/files_demo_od\"\n",
        "he_result_dir = \"/content/gdrive/MyDrive/1_All_Computations/BV_OD_Fovea_augment/files_demo_he\"\n",
        "ex_result_dir = \"/content/gdrive/MyDrive/1_All_Computations/BV_OD_Fovea_augment/files_demo_ex\"\n",
        "\n",
        "create_dir(od_result_dir)\n",
        "create_dir(he_result_dir)\n",
        "create_dir(ex_result_dir)\n",
        "\n",
        "\"\"\" Load the model \"\"\"\n",
        "model_file_name = f\"{model_dir}/model.h5\"\n",
        "print(model_file_name)\n",
        "with CustomObjectScope({'iou': iou, 'dice_coef': dice_coef, 'dice_loss': dice_loss}):\n",
        "    model = tf.keras.models.load_model(model_file_name)\n",
        "\n",
        "\"\"\" Load the dataset \"\"\"\n",
        "# dataset_path = os.path.join(data_dir, \"test\")\n",
        "test_x, test_y = get_filenames_sorted(data_dir + \"/test/image/\", data_dir + \"/test/mask/\" )\n",
        "\n",
        "\"\"\" Make the prediction and calculate the metrics values \"\"\"\n",
        "SCORE_OD, SCORE_HE, SCORE_EX = [], [], []\n",
        "for x, y in tqdm(zip(test_x, test_y), total=len(test_x)):\n",
        "    \"\"\" Extracting name \"\"\"\n",
        "    name = x.rsplit(\"/\", 1)[1].rsplit(\".\", 1)[0]\n",
        "    print(name)\n",
        "\n",
        "    \"\"\" Read the image and mask \"\"\"\n",
        "    ori_x, x = read_image(x)\n",
        "    ori_y, y = read_mask(y)\n",
        "\n",
        "    \"\"\" Prediction \"\"\"\n",
        "    y_pred = model.predict(np.expand_dims(x, axis=0))[0]\n",
        "    y_pred = y_pred > 0.5\n",
        "    y_pred = y_pred.astype(np.float32)\n",
        "\n",
        "    print(np.max(ori_y), np.max(y))\n",
        "\n",
        "    \"\"\" Saving the images \"\"\"\n",
        "    save_image_path_od = f\"{od_result_dir}/{name}.png\"\n",
        "    save_results(ori_x, ori_y, y_pred, save_image_path_od, od_channel)\n",
        "\n",
        "    save_image_path_he = f\"{he_result_dir}/{name}.png\"\n",
        "    save_results(ori_x, ori_y, y_pred, save_image_path_he, he_channel)\n",
        "\n",
        "    save_image_path_ex = f\"{ex_result_dir}/{name}.png\"\n",
        "    save_results(ori_x, ori_y, y_pred, save_image_path_ex, ex_channel)\n",
        "\n",
        "\n",
        "#     \"\"\" Calculate the OD metrics \"\"\"\n",
        "    ma_pred = y_pred[:, :, od_channel].flatten()\n",
        "    ma_gt = y[:, :, od_channel].flatten()\n",
        "    acc_value = accuracy_score(ma_gt > 0.5, ma_pred>0.5)\n",
        "    f1_value = f1_score(ma_gt > 0.5, ma_pred>0.5, labels=[0, 1], average=\"binary\")\n",
        "    jac_value = jaccard_score(ma_gt > 0.5, ma_pred>0.5, labels=[0, 1], average=\"binary\")\n",
        "    recall_value = recall_score(ma_gt > 0.5, ma_pred>0.5, labels=[0, 1], average=\"binary\")\n",
        "    recall_computed = np.sum((ma_gt > 0.5) & (ma_pred > 0.5)) / np.sum(ma_gt > 0.5)\n",
        "    precision_value = precision_score(ma_gt > 0.5, ma_pred>0.5, labels=[0, 1], average=\"binary\")\n",
        "    SCORE_OD.append([name, acc_value, f1_value, jac_value, recall_value, precision_value, recall_computed])\n",
        "\n",
        "#     \"\"\" Calculate the HE metrics \"\"\"\n",
        "    bv_pred = y_pred[:, :, he_channel].flatten()\n",
        "    bv_gt = y[:, :, he_channel].flatten()\n",
        "    acc_value = accuracy_score(bv_gt > 0.5, bv_pred>0.5)\n",
        "    f1_value = f1_score(bv_gt > 0.5, bv_pred>0.5, labels=[0, 1], average=\"binary\")\n",
        "    jac_value = jaccard_score(bv_gt > 0.5, bv_pred>0.5, labels=[0, 1], average=\"binary\")\n",
        "    recall_value = recall_score(bv_gt > 0.5, bv_pred>0.5, labels=[0, 1], average=\"binary\")\n",
        "    recall_computed = np.sum((bv_gt > 0.5) & (bv_pred > 0.5)) / np.sum(bv_gt > 0.5)\n",
        "    precision_value = precision_score(bv_gt > 0.5, bv_pred>0.5, labels=[0, 1], average=\"binary\")\n",
        "    auc_od2 = roc_auc_score(bv_gt > threshold, bv_pred_prob)\n",
        "    fpr_od2, tpr_od2, _ = roc_curve(bv_gt > threshold, bv_pred_prob)\n",
        "    SCORE_HE.append([name, acc_value, f1_value, jac_value, recall_value, precision_value, recall_computed])\n",
        "\n",
        "#     \"\"\" Calculate the EX metrics \"\"\"\n",
        "    he_pred = y_pred[:, :, ex_channel].flatten()\n",
        "    he_gt = y[:, :, ex_channel].flatten()\n",
        "    acc_value = accuracy_score(he_gt > 0.5, he_pred>0.5)\n",
        "    f1_value = f1_score(he_gt > 0.5, he_pred>0.5, labels=[0, 1], average=\"binary\")\n",
        "    jac_value = jaccard_score(he_gt > 0.5, he_pred>0.5, labels=[0, 1], average=\"binary\")\n",
        "    recall_value = recall_score(he_gt > 0.5, he_pred>0.5, labels=[0, 1], average=\"binary\")\n",
        "    recall_computed = np.sum((he_gt > 0.5) & (he_pred > 0.5)) / np.sum(he_gt > 0.5)\n",
        "    precision_value = precision_score(ma_gt > 0.5, ma_pred>0.5, labels=[0, 1], average=\"binary\")\n",
        "    auc_fovea = roc_auc_score(bv_gt > threshold, bv_pred_prob)\n",
        "    fpr_fovea, tpr_fovea, _ = roc_curve(bv_gt > threshold, bv_pred_prob)\n",
        "    SCORE_EX.append([name, acc_value, f1_value, jac_value, recall_value, precision_value, recall_computed])\n",
        "    \n",
        "print(\"\\n\")\n",
        "\n",
        "for SCORE in [SCORE_OD, SCORE_HE, SCORE_EX]:\n",
        "    if SCORE == SCORE_OD:\n",
        "        print(\"****** BV Metrics ******\")\n",
        "        score = [s[1:] for s in SCORE]\n",
        "        score = np.mean(score, axis=0)\n",
        "        print(f\"Accuracy: {score[0]:0.5f}\")\n",
        "        print(f\"F1: {score[1]:0.5f} (dice score)\")\n",
        "        print(f\"AUC: {score[1]:0.5f} (Auc score)\")\n",
        "        print(f\"Jaccard: {score[2]:0.5f}\")\n",
        "        print(f\"Recall: {score[3]:0.5f}\")\n",
        "        print(f\"Precision: {score[4]:0.5f}\")\n",
        "\n",
        "    elif SCORE == SCORE_HE:\n",
        "        print(\"****** OD Metrics ******\")\n",
        "        score = [s[1:] for s in SCORE]\n",
        "        score = np.mean(score, axis=0)\n",
        "        print(f\"Accuracy: {score[0]:0.5f}\")\n",
        "        print(f\"F1: {score[1]:0.5f} (dice score)\")\n",
        "        print(f\"AUC: {score[1]:0.5f} (Auc score)\")\n",
        "        print(f\"Jaccard: {score[2]:0.5f}\")\n",
        "        print(f\"Recall: {score[3]:0.5f}\")\n",
        "        print(f\"Precision: {score[4]:0.5f}\")\n",
        "\n",
        "    else:\n",
        "        print(\"****** Fovea Metrics ******\")\n",
        "        score = [s[1:] for s in SCORE]\n",
        "        score = np.mean(score, axis=0)\n",
        "        print(f\"Accuracy: {score[0]:0.5f}\")\n",
        "        print(f\"F1: {score[1]:0.5f} (dice score)\")\n",
        "        print(f\"AUC: {score[1]:0.5f} (Auc score)\")\n",
        "        print(f\"Jaccard: {score[2]:0.5f}\")\n",
        "        print(f\"Recall: {score[3]:0.5f}\")\n",
        "        print(f\"Precision: {score[4]:0.5f}\")\n",
        "\n",
        "    # \"\"\" Saving \"\"\"\n",
        "    if SCORE == SCORE_OD:\n",
        "        df = pd.DataFrame(SCORE, columns=[\"Image\", \"Acc\", \"F1\", \"Jaccard\", \"Recall\", \"Precision\", \"Recall Computed\"])\n",
        "        df.to_csv(f\"{od_result_dir}/score.csv\")\n",
        "\n",
        "    elif SCORE == SCORE_HE:\n",
        "        df = pd.DataFrame(SCORE, columns=[\"Image\", \"Acc\", \"F1\", \"Jaccard\", \"Recall\", \"Precision\", \"Recall Computed\"])\n",
        "        df.to_csv(f\"{he_result_dir}/score.csv\")\n",
        "    else:\n",
        "        df = pd.DataFrame(SCORE, columns=[\"Image\", \"Acc\", \"F1\", \"Jaccard\", \"Recall\", \"Precision\", \"Recall Computed\"])\n",
        "        df.to_csv(f\"{ex_result_dir}/score.csv\")\n",
        "    print(\"\\n\")"
      ],
      "metadata": {
        "id": "XY_JT_TWfpvR"
      },
      "execution_count": null,
      "outputs": []
    },
    {
      "cell_type": "code",
      "source": [
        "H = 512\n",
        "W = 768\n",
        "\n",
        "def create_dir(path):\n",
        "    if not os.path.exists(path):\n",
        "        os.makedirs(path)\n",
        "\n",
        "def read_image(path):\n",
        "    x = cv2.imread(path, cv2.IMREAD_COLOR)\n",
        "    # x = cv2.resize(x, (W, H))\n",
        "    ori_x = x\n",
        "    x = x/255.0\n",
        "    x = x.astype(np.float32)\n",
        "    return ori_x, x\n",
        "\n",
        "def read_mask(path):\n",
        "    x = cv2.imread(path, cv2.IMREAD_COLOR)  ## (512, 512)\n",
        "    # x = cv2.resize(x, (W, H))\n",
        "    ori_x = x\n",
        "    x = x/255.0\n",
        "    x = x.astype(np.float32)\n",
        "    x = x[:,:,0:3] # Discard the last channel \n",
        "    return ori_x, x\n",
        "\n",
        "def load_data(path):\n",
        "    x = sorted(glob(os.path.join(path, \"image\", \"*.jpg\")))\n",
        "    y = sorted(glob(os.path.join(path, \"mask\", \"*.jpg\")))\n",
        "    return x, y\n",
        "\n",
        "def save_results(ori_x, ori_y, y_pred, save_image_path, channel):\n",
        "    line = np.ones((y_pred.shape[0], 10, 3)) * 255\n",
        "\n",
        "    pred_image = np.zeros((y_pred.shape[0], y_pred.shape[1], 3))\n",
        "    _y_pred = y_pred[:, :, channel]\n",
        "    _ori_y = ori_y[:, :, channel]\n",
        "    pred_image[:, :, 0] = ((_y_pred > 0.5) & (_ori_y <= 128)) * 255\n",
        "    pred_image[:, :, 1] = ((_y_pred > 0.5) & (_ori_y  > 128)) * 255\n",
        "    pred_image[:, :, 2] = ((_ori_y  > 128) & (_y_pred <= 0.5 )) * 255\n",
        "\n",
        "    print(\" saving result\", save_image_path)\n",
        "    cv2.imwrite(save_image_path, pred_image)\n",
        "\n",
        "model_dir=\"/content/gdrive/MyDrive/1_All_Computations/BV_OD_Fovea_augment_2/files\"\n",
        "\n",
        "data_dir = \"new_data_augment\"\n",
        "od_channel, he_channel, ex_channel = 0, 1, 2\n",
        "# The names are bv_channel, od_channel, fovea_channel = 0, 1, 2. Please rename after run.\n",
        "\n",
        "od_result_dir = \"/content/gdrive/MyDrive/1_All_Computations/BV_OD_Fovea_augment_2/files_demo_od\"\n",
        "he_result_dir = \"/content/gdrive/MyDrive/1_All_Computations/BV_OD_Fovea_augment_2/files_demo_he\"\n",
        "ex_result_dir = \"/content/gdrive/MyDrive/1_All_Computations/BV_OD_Fovea_augment_2/files_demo_ex\"\n",
        "\n",
        "create_dir(od_result_dir)\n",
        "create_dir(he_result_dir)\n",
        "create_dir(ex_result_dir)\n",
        "\n",
        "\"\"\" Load the model \"\"\"\n",
        "model_file_name = f\"{model_dir}/model.h5\"\n",
        "print(model_file_name)\n",
        "with CustomObjectScope({'iou': iou, 'dice_coef': dice_coef, 'dice_loss': dice_loss}):\n",
        "    model = tf.keras.models.load_model(model_file_name)\n",
        "\n",
        "\"\"\" Load the dataset \"\"\"\n",
        "# dataset_path = os.path.join(data_dir, \"test\")\n",
        "test_x, test_y = get_filenames_sorted(data_dir + \"/test/image/\", data_dir + \"/test/mask/\" )\n",
        "\n",
        "\"\"\" Make the prediction and calculate the metrics values \"\"\"\n",
        "SCORE_OD, SCORE_HE, SCORE_EX = [], [], []\n",
        "for x, y in tqdm(zip(test_x, test_y), total=len(test_x)):\n",
        "    \"\"\" Extracting name \"\"\"\n",
        "    name = x.rsplit(\"/\", 1)[1].rsplit(\".\", 1)[0]\n",
        "    print(name)\n",
        "\n",
        "    \"\"\" Read the image and mask \"\"\"\n",
        "    ori_x, x = read_image(x)\n",
        "    ori_y, y = read_mask(y)\n",
        "\n",
        "    \"\"\" Prediction \"\"\"\n",
        "    y_pred = model.predict(np.expand_dims(x, axis=0))[0]\n",
        "    y_pred = y_pred > 0.5\n",
        "    y_pred = y_pred.astype(np.float32)\n",
        "\n",
        "    print(np.max(ori_y), np.max(y))\n",
        "\n",
        "    \"\"\" Saving the images \"\"\"\n",
        "    save_image_path_od = f\"{od_result_dir}/{name}.png\"\n",
        "    save_results(ori_x, ori_y, y_pred, save_image_path_od, od_channel)\n",
        "\n",
        "    save_image_path_he = f\"{he_result_dir}/{name}.png\"\n",
        "    save_results(ori_x, ori_y, y_pred, save_image_path_he, he_channel)\n",
        "\n",
        "    save_image_path_ex = f\"{ex_result_dir}/{name}.png\"\n",
        "    save_results(ori_x, ori_y, y_pred, save_image_path_ex, ex_channel)\n",
        "\n",
        "\n",
        "#     \"\"\" Calculate the OD metrics \"\"\"\n",
        "    ma_pred = y_pred[:, :, od_channel].flatten()\n",
        "    ma_gt = y[:, :, od_channel].flatten()\n",
        "    acc_value = accuracy_score(ma_gt > 0.5, ma_pred>0.5)\n",
        "    f1_value = f1_score(ma_gt > 0.5, ma_pred>0.5, labels=[0, 1], average=\"binary\")\n",
        "    jac_value = jaccard_score(ma_gt > 0.5, ma_pred>0.5, labels=[0, 1], average=\"binary\")\n",
        "    recall_value = recall_score(ma_gt > 0.5, ma_pred>0.5, labels=[0, 1], average=\"binary\")\n",
        "    recall_computed = np.sum((ma_gt > 0.5) & (ma_pred > 0.5)) / np.sum(ma_gt > 0.5)\n",
        "    precision_value = precision_score(ma_gt > 0.5, ma_pred>0.5, labels=[0, 1], average=\"binary\")\n",
        "    SCORE_OD.append([name, acc_value, f1_value, jac_value, recall_value, precision_value, recall_computed])\n",
        "\n",
        "#     \"\"\" Calculate the HE metrics \"\"\"\n",
        "    bv_pred = y_pred[:, :, he_channel].flatten()\n",
        "    bv_gt = y[:, :, he_channel].flatten()\n",
        "    acc_value = accuracy_score(bv_gt > 0.5, bv_pred>0.5)\n",
        "    f1_value = f1_score(bv_gt > 0.5, bv_pred>0.5, labels=[0, 1], average=\"binary\")\n",
        "    jac_value = jaccard_score(bv_gt > 0.5, bv_pred>0.5, labels=[0, 1], average=\"binary\")\n",
        "    recall_value = recall_score(bv_gt > 0.5, bv_pred>0.5, labels=[0, 1], average=\"binary\")\n",
        "    recall_computed = np.sum((bv_gt > 0.5) & (bv_pred > 0.5)) / np.sum(bv_gt > 0.5)\n",
        "    precision_value = precision_score(bv_gt > 0.5, bv_pred>0.5, labels=[0, 1], average=\"binary\")\n",
        "    auc_od2 = roc_auc_score(bv_gt > threshold, bv_pred_prob)\n",
        "    fpr_od2, tpr_od2, _ = roc_curve(bv_gt > threshold, bv_pred_prob)\n",
        "    SCORE_HE.append([name, acc_value, f1_value, jac_value, recall_value, precision_value, recall_computed])\n",
        "\n",
        "#     \"\"\" Calculate the EX metrics \"\"\"\n",
        "    he_pred = y_pred[:, :, ex_channel].flatten()\n",
        "    he_gt = y[:, :, ex_channel].flatten()\n",
        "    acc_value = accuracy_score(he_gt > 0.5, he_pred>0.5)\n",
        "    f1_value = f1_score(he_gt > 0.5, he_pred>0.5, labels=[0, 1], average=\"binary\")\n",
        "    jac_value = jaccard_score(he_gt > 0.5, he_pred>0.5, labels=[0, 1], average=\"binary\")\n",
        "    recall_value = recall_score(he_gt > 0.5, he_pred>0.5, labels=[0, 1], average=\"binary\")\n",
        "    recall_computed = np.sum((he_gt > 0.5) & (he_pred > 0.5)) / np.sum(he_gt > 0.5)\n",
        "    precision_value = precision_score(ma_gt > 0.5, ma_pred>0.5, labels=[0, 1], average=\"binary\")\n",
        "    auc_fovea = roc_auc_score(bv_gt > threshold, bv_pred_prob)\n",
        "    fpr_fovea, tpr_fovea, _ = roc_curve(bv_gt > threshold, bv_pred_prob)\n",
        "    SCORE_EX.append([name, acc_value, f1_value, jac_value, recall_value, precision_value, recall_computed])\n",
        "    \n",
        "print(\"\\n\")\n",
        "\n",
        "for SCORE in [SCORE_OD, SCORE_HE, SCORE_EX]:\n",
        "    if SCORE == SCORE_OD:\n",
        "        print(\"****** BV Metrics ******\")\n",
        "        score = [s[1:] for s in SCORE]\n",
        "        score = np.mean(score, axis=0)\n",
        "        print(f\"Accuracy: {score[0]:0.5f}\")\n",
        "        print(f\"F1: {score[1]:0.5f} (dice score)\")\n",
        "        print(f\"AUC: {score[1]:0.5f} (Auc score)\")\n",
        "        print(f\"Jaccard: {score[2]:0.5f}\")\n",
        "        print(f\"Recall: {score[3]:0.5f}\")\n",
        "        print(f\"Precision: {score[4]:0.5f}\")\n",
        "\n",
        "    elif SCORE == SCORE_HE:\n",
        "        print(\"****** OD Metrics ******\")\n",
        "        score = [s[1:] for s in SCORE]\n",
        "        score = np.mean(score, axis=0)\n",
        "        print(f\"Accuracy: {score[0]:0.5f}\")\n",
        "        print(f\"F1: {score[1]:0.5f} (dice score)\")\n",
        "        print(f\"AUC: {score[1]:0.5f} (Auc score)\")\n",
        "        print(f\"Jaccard: {score[2]:0.5f}\")\n",
        "        print(f\"Recall: {score[3]:0.5f}\")\n",
        "        print(f\"Precision: {score[4]:0.5f}\")\n",
        "\n",
        "    else:\n",
        "        print(\"****** Fovea Metrics ******\")\n",
        "        score = [s[1:] for s in SCORE]\n",
        "        score = np.mean(score, axis=0)\n",
        "        print(f\"Accuracy: {score[0]:0.5f}\")\n",
        "        print(f\"F1: {score[1]:0.5f} (dice score)\")\n",
        "        print(f\"AUC: {score[1]:0.5f} (Auc score)\")\n",
        "        print(f\"Jaccard: {score[2]:0.5f}\")\n",
        "        print(f\"Recall: {score[3]:0.5f}\")\n",
        "        print(f\"Precision: {score[4]:0.5f}\")\n",
        "\n",
        "    # \"\"\" Saving \"\"\"\n",
        "    if SCORE == SCORE_OD:\n",
        "        df = pd.DataFrame(SCORE, columns=[\"Image\", \"Acc\", \"F1\", \"Jaccard\", \"Recall\", \"Precision\", \"Recall Computed\"])\n",
        "        df.to_csv(f\"{od_result_dir}/score.csv\")\n",
        "\n",
        "    elif SCORE == SCORE_HE:\n",
        "        df = pd.DataFrame(SCORE, columns=[\"Image\", \"Acc\", \"F1\", \"Jaccard\", \"Recall\", \"Precision\", \"Recall Computed\"])\n",
        "        df.to_csv(f\"{he_result_dir}/score.csv\")\n",
        "    else:\n",
        "        df = pd.DataFrame(SCORE, columns=[\"Image\", \"Acc\", \"F1\", \"Jaccard\", \"Recall\", \"Precision\", \"Recall Computed\"])\n",
        "        df.to_csv(f\"{ex_result_dir}/score.csv\")\n",
        "    print(\"\\n\")"
      ],
      "metadata": {
        "colab": {
          "base_uri": "https://localhost:8080/"
        },
        "id": "6wobFiVQgruo",
        "outputId": "0a520be9-d76d-4aa9-8a8c-eea0a80fc6dc"
      },
      "execution_count": null,
      "outputs": [
        {
          "output_type": "stream",
          "name": "stdout",
          "text": [
            "/content/gdrive/MyDrive/1_All_Computations/BV_OD_Fovea_augment_2/files/model.h5\n"
          ]
        },
        {
          "output_type": "stream",
          "name": "stderr",
          "text": [
            "\r  0%|          | 0/103 [00:00<?, ?it/s]"
          ]
        },
        {
          "output_type": "stream",
          "name": "stdout",
          "text": [
            "IDRiD_001\n",
            "255 1.0\n",
            " saving result /content/gdrive/MyDrive/1_All_Computations/BV_OD_Fovea_augment_2/files_demo_od/IDRiD_001.png\n",
            " saving result /content/gdrive/MyDrive/1_All_Computations/BV_OD_Fovea_augment_2/files_demo_he/IDRiD_001.png\n",
            " saving result /content/gdrive/MyDrive/1_All_Computations/BV_OD_Fovea_augment_2/files_demo_ex/IDRiD_001.png\n"
          ]
        },
        {
          "output_type": "stream",
          "name": "stderr",
          "text": [
            "/usr/local/lib/python3.7/dist-packages/sklearn/metrics/_classification.py:1318: UndefinedMetricWarning: Precision is ill-defined and being set to 0.0 due to no predicted samples. Use `zero_division` parameter to control this behavior.\n",
            "  _warn_prf(average, modifier, msg_start, len(result))\n",
            "  1%|          | 1/103 [00:02<04:59,  2.94s/it]"
          ]
        },
        {
          "output_type": "stream",
          "name": "stdout",
          "text": [
            "IDRiD_002\n",
            "255 1.0\n",
            " saving result /content/gdrive/MyDrive/1_All_Computations/BV_OD_Fovea_augment_2/files_demo_od/IDRiD_002.png\n",
            " saving result /content/gdrive/MyDrive/1_All_Computations/BV_OD_Fovea_augment_2/files_demo_he/IDRiD_002.png\n",
            " saving result /content/gdrive/MyDrive/1_All_Computations/BV_OD_Fovea_augment_2/files_demo_ex/IDRiD_002.png\n"
          ]
        },
        {
          "output_type": "stream",
          "name": "stderr",
          "text": [
            "\r  2%|▏         | 2/103 [00:05<04:33,  2.71s/it]"
          ]
        },
        {
          "output_type": "stream",
          "name": "stdout",
          "text": [
            "IDRiD_003\n",
            "255 1.0\n",
            " saving result /content/gdrive/MyDrive/1_All_Computations/BV_OD_Fovea_augment_2/files_demo_od/IDRiD_003.png\n",
            " saving result /content/gdrive/MyDrive/1_All_Computations/BV_OD_Fovea_augment_2/files_demo_he/IDRiD_003.png\n",
            " saving result /content/gdrive/MyDrive/1_All_Computations/BV_OD_Fovea_augment_2/files_demo_ex/IDRiD_003.png\n"
          ]
        },
        {
          "output_type": "stream",
          "name": "stderr",
          "text": [
            "\r  3%|▎         | 3/103 [00:07<04:21,  2.62s/it]"
          ]
        },
        {
          "output_type": "stream",
          "name": "stdout",
          "text": [
            "IDRiD_004\n",
            "255 1.0\n",
            " saving result /content/gdrive/MyDrive/1_All_Computations/BV_OD_Fovea_augment_2/files_demo_od/IDRiD_004.png\n",
            " saving result /content/gdrive/MyDrive/1_All_Computations/BV_OD_Fovea_augment_2/files_demo_he/IDRiD_004.png\n",
            " saving result /content/gdrive/MyDrive/1_All_Computations/BV_OD_Fovea_augment_2/files_demo_ex/IDRiD_004.png\n"
          ]
        },
        {
          "output_type": "stream",
          "name": "stderr",
          "text": [
            "\r  4%|▍         | 4/103 [00:10<04:18,  2.61s/it]"
          ]
        },
        {
          "output_type": "stream",
          "name": "stdout",
          "text": [
            "IDRiD_005\n",
            "255 1.0\n",
            " saving result /content/gdrive/MyDrive/1_All_Computations/BV_OD_Fovea_augment_2/files_demo_od/IDRiD_005.png\n",
            " saving result /content/gdrive/MyDrive/1_All_Computations/BV_OD_Fovea_augment_2/files_demo_he/IDRiD_005.png\n",
            " saving result /content/gdrive/MyDrive/1_All_Computations/BV_OD_Fovea_augment_2/files_demo_ex/IDRiD_005.png\n"
          ]
        },
        {
          "output_type": "stream",
          "name": "stderr",
          "text": [
            "\r  5%|▍         | 5/103 [00:13<04:13,  2.59s/it]"
          ]
        },
        {
          "output_type": "stream",
          "name": "stdout",
          "text": [
            "IDRiD_006\n",
            "255 1.0\n",
            " saving result /content/gdrive/MyDrive/1_All_Computations/BV_OD_Fovea_augment_2/files_demo_od/IDRiD_006.png\n",
            " saving result /content/gdrive/MyDrive/1_All_Computations/BV_OD_Fovea_augment_2/files_demo_he/IDRiD_006.png\n",
            " saving result /content/gdrive/MyDrive/1_All_Computations/BV_OD_Fovea_augment_2/files_demo_ex/IDRiD_006.png\n"
          ]
        },
        {
          "output_type": "stream",
          "name": "stderr",
          "text": [
            "\r  6%|▌         | 6/103 [00:15<04:11,  2.59s/it]"
          ]
        },
        {
          "output_type": "stream",
          "name": "stdout",
          "text": [
            "IDRiD_007\n",
            "255 1.0\n",
            " saving result /content/gdrive/MyDrive/1_All_Computations/BV_OD_Fovea_augment_2/files_demo_od/IDRiD_007.png\n",
            " saving result /content/gdrive/MyDrive/1_All_Computations/BV_OD_Fovea_augment_2/files_demo_he/IDRiD_007.png\n",
            " saving result /content/gdrive/MyDrive/1_All_Computations/BV_OD_Fovea_augment_2/files_demo_ex/IDRiD_007.png\n"
          ]
        },
        {
          "output_type": "stream",
          "name": "stderr",
          "text": [
            "\r  7%|▋         | 7/103 [00:18<04:05,  2.56s/it]"
          ]
        },
        {
          "output_type": "stream",
          "name": "stdout",
          "text": [
            "IDRiD_008\n",
            "255 1.0\n",
            " saving result /content/gdrive/MyDrive/1_All_Computations/BV_OD_Fovea_augment_2/files_demo_od/IDRiD_008.png\n",
            " saving result /content/gdrive/MyDrive/1_All_Computations/BV_OD_Fovea_augment_2/files_demo_he/IDRiD_008.png\n",
            " saving result /content/gdrive/MyDrive/1_All_Computations/BV_OD_Fovea_augment_2/files_demo_ex/IDRiD_008.png\n"
          ]
        },
        {
          "output_type": "stream",
          "name": "stderr",
          "text": [
            "\r  8%|▊         | 8/103 [00:20<04:03,  2.56s/it]"
          ]
        },
        {
          "output_type": "stream",
          "name": "stdout",
          "text": [
            "IDRiD_009\n",
            "255 1.0\n",
            " saving result /content/gdrive/MyDrive/1_All_Computations/BV_OD_Fovea_augment_2/files_demo_od/IDRiD_009.png\n",
            " saving result /content/gdrive/MyDrive/1_All_Computations/BV_OD_Fovea_augment_2/files_demo_he/IDRiD_009.png\n",
            " saving result /content/gdrive/MyDrive/1_All_Computations/BV_OD_Fovea_augment_2/files_demo_ex/IDRiD_009.png\n"
          ]
        },
        {
          "output_type": "stream",
          "name": "stderr",
          "text": [
            "\r  9%|▊         | 9/103 [00:23<04:01,  2.57s/it]"
          ]
        },
        {
          "output_type": "stream",
          "name": "stdout",
          "text": [
            "IDRiD_010\n",
            "255 1.0\n",
            " saving result /content/gdrive/MyDrive/1_All_Computations/BV_OD_Fovea_augment_2/files_demo_od/IDRiD_010.png\n",
            " saving result /content/gdrive/MyDrive/1_All_Computations/BV_OD_Fovea_augment_2/files_demo_he/IDRiD_010.png\n",
            " saving result /content/gdrive/MyDrive/1_All_Computations/BV_OD_Fovea_augment_2/files_demo_ex/IDRiD_010.png\n"
          ]
        },
        {
          "output_type": "stream",
          "name": "stderr",
          "text": [
            "\r 10%|▉         | 10/103 [00:25<03:56,  2.55s/it]"
          ]
        },
        {
          "output_type": "stream",
          "name": "stdout",
          "text": [
            "IDRiD_011\n",
            "255 1.0\n",
            " saving result /content/gdrive/MyDrive/1_All_Computations/BV_OD_Fovea_augment_2/files_demo_od/IDRiD_011.png\n",
            " saving result /content/gdrive/MyDrive/1_All_Computations/BV_OD_Fovea_augment_2/files_demo_he/IDRiD_011.png\n",
            " saving result /content/gdrive/MyDrive/1_All_Computations/BV_OD_Fovea_augment_2/files_demo_ex/IDRiD_011.png\n"
          ]
        },
        {
          "output_type": "stream",
          "name": "stderr",
          "text": [
            "\r 11%|█         | 11/103 [00:28<03:58,  2.59s/it]"
          ]
        },
        {
          "output_type": "stream",
          "name": "stdout",
          "text": [
            "IDRiD_012\n",
            "255 1.0\n",
            " saving result /content/gdrive/MyDrive/1_All_Computations/BV_OD_Fovea_augment_2/files_demo_od/IDRiD_012.png\n",
            " saving result /content/gdrive/MyDrive/1_All_Computations/BV_OD_Fovea_augment_2/files_demo_he/IDRiD_012.png\n",
            " saving result /content/gdrive/MyDrive/1_All_Computations/BV_OD_Fovea_augment_2/files_demo_ex/IDRiD_012.png\n"
          ]
        },
        {
          "output_type": "stream",
          "name": "stderr",
          "text": [
            "\r 12%|█▏        | 12/103 [00:31<03:54,  2.58s/it]"
          ]
        },
        {
          "output_type": "stream",
          "name": "stdout",
          "text": [
            "IDRiD_013\n",
            "255 1.0\n",
            " saving result /content/gdrive/MyDrive/1_All_Computations/BV_OD_Fovea_augment_2/files_demo_od/IDRiD_013.png\n",
            " saving result /content/gdrive/MyDrive/1_All_Computations/BV_OD_Fovea_augment_2/files_demo_he/IDRiD_013.png\n",
            " saving result /content/gdrive/MyDrive/1_All_Computations/BV_OD_Fovea_augment_2/files_demo_ex/IDRiD_013.png\n"
          ]
        },
        {
          "output_type": "stream",
          "name": "stderr",
          "text": [
            "\r 13%|█▎        | 13/103 [00:34<04:25,  2.95s/it]"
          ]
        },
        {
          "output_type": "stream",
          "name": "stdout",
          "text": [
            "IDRiD_014\n",
            "255 1.0\n",
            " saving result /content/gdrive/MyDrive/1_All_Computations/BV_OD_Fovea_augment_2/files_demo_od/IDRiD_014.png\n",
            " saving result /content/gdrive/MyDrive/1_All_Computations/BV_OD_Fovea_augment_2/files_demo_he/IDRiD_014.png\n",
            " saving result /content/gdrive/MyDrive/1_All_Computations/BV_OD_Fovea_augment_2/files_demo_ex/IDRiD_014.png\n"
          ]
        },
        {
          "output_type": "stream",
          "name": "stderr",
          "text": [
            "\r 14%|█▎        | 14/103 [00:39<05:08,  3.46s/it]"
          ]
        },
        {
          "output_type": "stream",
          "name": "stdout",
          "text": [
            "IDRiD_015\n",
            "255 1.0\n",
            " saving result /content/gdrive/MyDrive/1_All_Computations/BV_OD_Fovea_augment_2/files_demo_od/IDRiD_015.png\n",
            " saving result /content/gdrive/MyDrive/1_All_Computations/BV_OD_Fovea_augment_2/files_demo_he/IDRiD_015.png\n",
            " saving result /content/gdrive/MyDrive/1_All_Computations/BV_OD_Fovea_augment_2/files_demo_ex/IDRiD_015.png\n"
          ]
        },
        {
          "output_type": "stream",
          "name": "stderr",
          "text": [
            "\r 15%|█▍        | 15/103 [00:44<05:31,  3.77s/it]"
          ]
        },
        {
          "output_type": "stream",
          "name": "stdout",
          "text": [
            "IDRiD_016\n",
            "255 1.0\n",
            " saving result /content/gdrive/MyDrive/1_All_Computations/BV_OD_Fovea_augment_2/files_demo_od/IDRiD_016.png\n",
            " saving result /content/gdrive/MyDrive/1_All_Computations/BV_OD_Fovea_augment_2/files_demo_he/IDRiD_016.png\n",
            " saving result /content/gdrive/MyDrive/1_All_Computations/BV_OD_Fovea_augment_2/files_demo_ex/IDRiD_016.png\n"
          ]
        },
        {
          "output_type": "stream",
          "name": "stderr",
          "text": [
            "\r 16%|█▌        | 16/103 [00:48<05:44,  3.97s/it]"
          ]
        },
        {
          "output_type": "stream",
          "name": "stdout",
          "text": [
            "IDRiD_017\n",
            "255 1.0\n",
            " saving result /content/gdrive/MyDrive/1_All_Computations/BV_OD_Fovea_augment_2/files_demo_od/IDRiD_017.png\n",
            " saving result /content/gdrive/MyDrive/1_All_Computations/BV_OD_Fovea_augment_2/files_demo_he/IDRiD_017.png\n",
            " saving result /content/gdrive/MyDrive/1_All_Computations/BV_OD_Fovea_augment_2/files_demo_ex/IDRiD_017.png\n"
          ]
        },
        {
          "output_type": "stream",
          "name": "stderr",
          "text": [
            "\r 17%|█▋        | 17/103 [00:53<06:17,  4.38s/it]"
          ]
        },
        {
          "output_type": "stream",
          "name": "stdout",
          "text": [
            "IDRiD_018\n",
            "255 1.0\n",
            " saving result /content/gdrive/MyDrive/1_All_Computations/BV_OD_Fovea_augment_2/files_demo_od/IDRiD_018.png\n",
            " saving result /content/gdrive/MyDrive/1_All_Computations/BV_OD_Fovea_augment_2/files_demo_he/IDRiD_018.png\n",
            " saving result /content/gdrive/MyDrive/1_All_Computations/BV_OD_Fovea_augment_2/files_demo_ex/IDRiD_018.png\n"
          ]
        },
        {
          "output_type": "stream",
          "name": "stderr",
          "text": [
            "\r 17%|█▋        | 18/103 [00:56<05:25,  3.83s/it]"
          ]
        },
        {
          "output_type": "stream",
          "name": "stdout",
          "text": [
            "IDRiD_019\n",
            "255 1.0\n",
            " saving result /content/gdrive/MyDrive/1_All_Computations/BV_OD_Fovea_augment_2/files_demo_od/IDRiD_019.png\n",
            " saving result /content/gdrive/MyDrive/1_All_Computations/BV_OD_Fovea_augment_2/files_demo_he/IDRiD_019.png\n",
            " saving result /content/gdrive/MyDrive/1_All_Computations/BV_OD_Fovea_augment_2/files_demo_ex/IDRiD_019.png\n"
          ]
        },
        {
          "output_type": "stream",
          "name": "stderr",
          "text": [
            "\r 18%|█▊        | 19/103 [00:59<04:52,  3.48s/it]"
          ]
        },
        {
          "output_type": "stream",
          "name": "stdout",
          "text": [
            "IDRiD_020\n",
            "255 1.0\n",
            " saving result /content/gdrive/MyDrive/1_All_Computations/BV_OD_Fovea_augment_2/files_demo_od/IDRiD_020.png\n",
            " saving result /content/gdrive/MyDrive/1_All_Computations/BV_OD_Fovea_augment_2/files_demo_he/IDRiD_020.png\n",
            " saving result /content/gdrive/MyDrive/1_All_Computations/BV_OD_Fovea_augment_2/files_demo_ex/IDRiD_020.png\n"
          ]
        },
        {
          "output_type": "stream",
          "name": "stderr",
          "text": [
            "\r 19%|█▉        | 20/103 [01:01<04:29,  3.24s/it]"
          ]
        },
        {
          "output_type": "stream",
          "name": "stdout",
          "text": [
            "IDRiD_021\n",
            "255 1.0\n",
            " saving result /content/gdrive/MyDrive/1_All_Computations/BV_OD_Fovea_augment_2/files_demo_od/IDRiD_021.png\n",
            " saving result /content/gdrive/MyDrive/1_All_Computations/BV_OD_Fovea_augment_2/files_demo_he/IDRiD_021.png\n",
            " saving result /content/gdrive/MyDrive/1_All_Computations/BV_OD_Fovea_augment_2/files_demo_ex/IDRiD_021.png\n"
          ]
        },
        {
          "output_type": "stream",
          "name": "stderr",
          "text": [
            "\r 20%|██        | 21/103 [01:04<04:09,  3.04s/it]"
          ]
        },
        {
          "output_type": "stream",
          "name": "stdout",
          "text": [
            "IDRiD_022\n",
            "255 1.0\n",
            " saving result /content/gdrive/MyDrive/1_All_Computations/BV_OD_Fovea_augment_2/files_demo_od/IDRiD_022.png\n",
            " saving result /content/gdrive/MyDrive/1_All_Computations/BV_OD_Fovea_augment_2/files_demo_he/IDRiD_022.png\n",
            " saving result /content/gdrive/MyDrive/1_All_Computations/BV_OD_Fovea_augment_2/files_demo_ex/IDRiD_022.png\n"
          ]
        },
        {
          "output_type": "stream",
          "name": "stderr",
          "text": [
            "\r 21%|██▏       | 22/103 [01:07<03:59,  2.96s/it]"
          ]
        },
        {
          "output_type": "stream",
          "name": "stdout",
          "text": [
            "IDRiD_023\n",
            "255 1.0\n",
            " saving result /content/gdrive/MyDrive/1_All_Computations/BV_OD_Fovea_augment_2/files_demo_od/IDRiD_023.png\n",
            " saving result /content/gdrive/MyDrive/1_All_Computations/BV_OD_Fovea_augment_2/files_demo_he/IDRiD_023.png\n",
            " saving result /content/gdrive/MyDrive/1_All_Computations/BV_OD_Fovea_augment_2/files_demo_ex/IDRiD_023.png\n"
          ]
        },
        {
          "output_type": "stream",
          "name": "stderr",
          "text": [
            "\r 22%|██▏       | 23/103 [01:09<03:52,  2.91s/it]"
          ]
        },
        {
          "output_type": "stream",
          "name": "stdout",
          "text": [
            "IDRiD_024\n",
            "255 1.0\n",
            " saving result /content/gdrive/MyDrive/1_All_Computations/BV_OD_Fovea_augment_2/files_demo_od/IDRiD_024.png\n",
            " saving result /content/gdrive/MyDrive/1_All_Computations/BV_OD_Fovea_augment_2/files_demo_he/IDRiD_024.png\n",
            " saving result /content/gdrive/MyDrive/1_All_Computations/BV_OD_Fovea_augment_2/files_demo_ex/IDRiD_024.png\n"
          ]
        },
        {
          "output_type": "stream",
          "name": "stderr",
          "text": [
            "\r 23%|██▎       | 24/103 [01:12<03:42,  2.82s/it]"
          ]
        },
        {
          "output_type": "stream",
          "name": "stdout",
          "text": [
            "IDRiD_025\n",
            "255 1.0\n",
            " saving result /content/gdrive/MyDrive/1_All_Computations/BV_OD_Fovea_augment_2/files_demo_od/IDRiD_025.png\n",
            " saving result /content/gdrive/MyDrive/1_All_Computations/BV_OD_Fovea_augment_2/files_demo_he/IDRiD_025.png\n",
            " saving result /content/gdrive/MyDrive/1_All_Computations/BV_OD_Fovea_augment_2/files_demo_ex/IDRiD_025.png\n"
          ]
        },
        {
          "output_type": "stream",
          "name": "stderr",
          "text": [
            "\r 24%|██▍       | 25/103 [01:15<03:33,  2.74s/it]"
          ]
        },
        {
          "output_type": "stream",
          "name": "stdout",
          "text": [
            "IDRiD_026\n",
            "255 1.0\n",
            " saving result /content/gdrive/MyDrive/1_All_Computations/BV_OD_Fovea_augment_2/files_demo_od/IDRiD_026.png\n",
            " saving result /content/gdrive/MyDrive/1_All_Computations/BV_OD_Fovea_augment_2/files_demo_he/IDRiD_026.png\n",
            " saving result /content/gdrive/MyDrive/1_All_Computations/BV_OD_Fovea_augment_2/files_demo_ex/IDRiD_026.png\n"
          ]
        },
        {
          "output_type": "stream",
          "name": "stderr",
          "text": [
            "\r 25%|██▌       | 26/103 [01:17<03:26,  2.68s/it]"
          ]
        },
        {
          "output_type": "stream",
          "name": "stdout",
          "text": [
            "IDRiD_027\n",
            "255 1.0\n",
            " saving result /content/gdrive/MyDrive/1_All_Computations/BV_OD_Fovea_augment_2/files_demo_od/IDRiD_027.png\n",
            " saving result /content/gdrive/MyDrive/1_All_Computations/BV_OD_Fovea_augment_2/files_demo_he/IDRiD_027.png\n",
            " saving result /content/gdrive/MyDrive/1_All_Computations/BV_OD_Fovea_augment_2/files_demo_ex/IDRiD_027.png\n"
          ]
        },
        {
          "output_type": "stream",
          "name": "stderr",
          "text": [
            "\r 26%|██▌       | 27/103 [01:20<03:21,  2.65s/it]"
          ]
        },
        {
          "output_type": "stream",
          "name": "stdout",
          "text": [
            "IDRiD_028\n",
            "255 1.0\n",
            " saving result /content/gdrive/MyDrive/1_All_Computations/BV_OD_Fovea_augment_2/files_demo_od/IDRiD_028.png\n",
            " saving result /content/gdrive/MyDrive/1_All_Computations/BV_OD_Fovea_augment_2/files_demo_he/IDRiD_028.png\n",
            " saving result /content/gdrive/MyDrive/1_All_Computations/BV_OD_Fovea_augment_2/files_demo_ex/IDRiD_028.png\n"
          ]
        },
        {
          "output_type": "stream",
          "name": "stderr",
          "text": [
            "\r 27%|██▋       | 28/103 [01:22<03:17,  2.63s/it]"
          ]
        },
        {
          "output_type": "stream",
          "name": "stdout",
          "text": [
            "IDRiD_029\n",
            "255 1.0\n",
            " saving result /content/gdrive/MyDrive/1_All_Computations/BV_OD_Fovea_augment_2/files_demo_od/IDRiD_029.png\n",
            " saving result /content/gdrive/MyDrive/1_All_Computations/BV_OD_Fovea_augment_2/files_demo_he/IDRiD_029.png\n",
            " saving result /content/gdrive/MyDrive/1_All_Computations/BV_OD_Fovea_augment_2/files_demo_ex/IDRiD_029.png\n"
          ]
        },
        {
          "output_type": "stream",
          "name": "stderr",
          "text": [
            "\r 28%|██▊       | 29/103 [01:25<03:15,  2.64s/it]"
          ]
        },
        {
          "output_type": "stream",
          "name": "stdout",
          "text": [
            "IDRiD_030\n",
            "255 1.0\n",
            " saving result /content/gdrive/MyDrive/1_All_Computations/BV_OD_Fovea_augment_2/files_demo_od/IDRiD_030.png\n",
            " saving result /content/gdrive/MyDrive/1_All_Computations/BV_OD_Fovea_augment_2/files_demo_he/IDRiD_030.png\n",
            " saving result /content/gdrive/MyDrive/1_All_Computations/BV_OD_Fovea_augment_2/files_demo_ex/IDRiD_030.png\n"
          ]
        },
        {
          "output_type": "stream",
          "name": "stderr",
          "text": [
            "\r 29%|██▉       | 30/103 [01:28<03:13,  2.65s/it]"
          ]
        },
        {
          "output_type": "stream",
          "name": "stdout",
          "text": [
            "IDRiD_031\n",
            "255 1.0\n",
            " saving result /content/gdrive/MyDrive/1_All_Computations/BV_OD_Fovea_augment_2/files_demo_od/IDRiD_031.png\n",
            " saving result /content/gdrive/MyDrive/1_All_Computations/BV_OD_Fovea_augment_2/files_demo_he/IDRiD_031.png\n",
            " saving result /content/gdrive/MyDrive/1_All_Computations/BV_OD_Fovea_augment_2/files_demo_ex/IDRiD_031.png\n"
          ]
        },
        {
          "output_type": "stream",
          "name": "stderr",
          "text": [
            "\r 30%|███       | 31/103 [01:30<03:10,  2.65s/it]"
          ]
        },
        {
          "output_type": "stream",
          "name": "stdout",
          "text": [
            "IDRiD_032\n",
            "255 1.0\n",
            " saving result /content/gdrive/MyDrive/1_All_Computations/BV_OD_Fovea_augment_2/files_demo_od/IDRiD_032.png\n",
            " saving result /content/gdrive/MyDrive/1_All_Computations/BV_OD_Fovea_augment_2/files_demo_he/IDRiD_032.png\n",
            " saving result /content/gdrive/MyDrive/1_All_Computations/BV_OD_Fovea_augment_2/files_demo_ex/IDRiD_032.png\n"
          ]
        },
        {
          "output_type": "stream",
          "name": "stderr",
          "text": [
            "\r 31%|███       | 32/103 [01:33<03:11,  2.70s/it]"
          ]
        },
        {
          "output_type": "stream",
          "name": "stdout",
          "text": [
            "IDRiD_033\n",
            "255 1.0\n",
            " saving result /content/gdrive/MyDrive/1_All_Computations/BV_OD_Fovea_augment_2/files_demo_od/IDRiD_033.png\n",
            " saving result /content/gdrive/MyDrive/1_All_Computations/BV_OD_Fovea_augment_2/files_demo_he/IDRiD_033.png\n",
            " saving result /content/gdrive/MyDrive/1_All_Computations/BV_OD_Fovea_augment_2/files_demo_ex/IDRiD_033.png\n"
          ]
        },
        {
          "output_type": "stream",
          "name": "stderr",
          "text": [
            "\r 32%|███▏      | 33/103 [01:36<03:10,  2.73s/it]"
          ]
        },
        {
          "output_type": "stream",
          "name": "stdout",
          "text": [
            "IDRiD_034\n",
            "255 1.0\n",
            " saving result /content/gdrive/MyDrive/1_All_Computations/BV_OD_Fovea_augment_2/files_demo_od/IDRiD_034.png\n",
            " saving result /content/gdrive/MyDrive/1_All_Computations/BV_OD_Fovea_augment_2/files_demo_he/IDRiD_034.png\n",
            " saving result /content/gdrive/MyDrive/1_All_Computations/BV_OD_Fovea_augment_2/files_demo_ex/IDRiD_034.png\n"
          ]
        },
        {
          "output_type": "stream",
          "name": "stderr",
          "text": [
            "\r 33%|███▎      | 34/103 [01:39<03:09,  2.75s/it]"
          ]
        },
        {
          "output_type": "stream",
          "name": "stdout",
          "text": [
            "IDRiD_035\n",
            "255 1.0\n",
            " saving result /content/gdrive/MyDrive/1_All_Computations/BV_OD_Fovea_augment_2/files_demo_od/IDRiD_035.png\n",
            " saving result /content/gdrive/MyDrive/1_All_Computations/BV_OD_Fovea_augment_2/files_demo_he/IDRiD_035.png\n",
            " saving result /content/gdrive/MyDrive/1_All_Computations/BV_OD_Fovea_augment_2/files_demo_ex/IDRiD_035.png\n"
          ]
        },
        {
          "output_type": "stream",
          "name": "stderr",
          "text": [
            "\r 34%|███▍      | 35/103 [01:41<03:04,  2.72s/it]"
          ]
        },
        {
          "output_type": "stream",
          "name": "stdout",
          "text": [
            "IDRiD_036\n",
            "255 1.0\n",
            " saving result /content/gdrive/MyDrive/1_All_Computations/BV_OD_Fovea_augment_2/files_demo_od/IDRiD_036.png\n",
            " saving result /content/gdrive/MyDrive/1_All_Computations/BV_OD_Fovea_augment_2/files_demo_he/IDRiD_036.png\n",
            " saving result /content/gdrive/MyDrive/1_All_Computations/BV_OD_Fovea_augment_2/files_demo_ex/IDRiD_036.png\n"
          ]
        },
        {
          "output_type": "stream",
          "name": "stderr",
          "text": [
            "\r 35%|███▍      | 36/103 [01:44<03:00,  2.70s/it]"
          ]
        },
        {
          "output_type": "stream",
          "name": "stdout",
          "text": [
            "IDRiD_037\n",
            "255 1.0\n",
            " saving result /content/gdrive/MyDrive/1_All_Computations/BV_OD_Fovea_augment_2/files_demo_od/IDRiD_037.png\n",
            " saving result /content/gdrive/MyDrive/1_All_Computations/BV_OD_Fovea_augment_2/files_demo_he/IDRiD_037.png\n",
            " saving result /content/gdrive/MyDrive/1_All_Computations/BV_OD_Fovea_augment_2/files_demo_ex/IDRiD_037.png\n"
          ]
        },
        {
          "output_type": "stream",
          "name": "stderr",
          "text": [
            "\r 36%|███▌      | 37/103 [01:47<02:58,  2.70s/it]"
          ]
        },
        {
          "output_type": "stream",
          "name": "stdout",
          "text": [
            "IDRiD_038\n",
            "255 1.0\n",
            " saving result /content/gdrive/MyDrive/1_All_Computations/BV_OD_Fovea_augment_2/files_demo_od/IDRiD_038.png\n",
            " saving result /content/gdrive/MyDrive/1_All_Computations/BV_OD_Fovea_augment_2/files_demo_he/IDRiD_038.png\n",
            " saving result /content/gdrive/MyDrive/1_All_Computations/BV_OD_Fovea_augment_2/files_demo_ex/IDRiD_038.png\n"
          ]
        },
        {
          "output_type": "stream",
          "name": "stderr",
          "text": [
            "\r 37%|███▋      | 38/103 [01:49<02:53,  2.67s/it]"
          ]
        },
        {
          "output_type": "stream",
          "name": "stdout",
          "text": [
            "IDRiD_039\n",
            "255 1.0\n",
            " saving result /content/gdrive/MyDrive/1_All_Computations/BV_OD_Fovea_augment_2/files_demo_od/IDRiD_039.png\n",
            " saving result /content/gdrive/MyDrive/1_All_Computations/BV_OD_Fovea_augment_2/files_demo_he/IDRiD_039.png\n",
            " saving result /content/gdrive/MyDrive/1_All_Computations/BV_OD_Fovea_augment_2/files_demo_ex/IDRiD_039.png\n"
          ]
        },
        {
          "output_type": "stream",
          "name": "stderr",
          "text": [
            "\r 38%|███▊      | 39/103 [01:52<02:51,  2.67s/it]"
          ]
        },
        {
          "output_type": "stream",
          "name": "stdout",
          "text": [
            "IDRiD_040\n",
            "255 1.0\n",
            " saving result /content/gdrive/MyDrive/1_All_Computations/BV_OD_Fovea_augment_2/files_demo_od/IDRiD_040.png\n",
            " saving result /content/gdrive/MyDrive/1_All_Computations/BV_OD_Fovea_augment_2/files_demo_he/IDRiD_040.png\n",
            " saving result /content/gdrive/MyDrive/1_All_Computations/BV_OD_Fovea_augment_2/files_demo_ex/IDRiD_040.png\n"
          ]
        },
        {
          "output_type": "stream",
          "name": "stderr",
          "text": [
            "\r 39%|███▉      | 40/103 [01:55<02:49,  2.69s/it]"
          ]
        },
        {
          "output_type": "stream",
          "name": "stdout",
          "text": [
            "IDRiD_041\n",
            "255 1.0\n",
            " saving result /content/gdrive/MyDrive/1_All_Computations/BV_OD_Fovea_augment_2/files_demo_od/IDRiD_041.png\n",
            " saving result /content/gdrive/MyDrive/1_All_Computations/BV_OD_Fovea_augment_2/files_demo_he/IDRiD_041.png\n",
            " saving result /content/gdrive/MyDrive/1_All_Computations/BV_OD_Fovea_augment_2/files_demo_ex/IDRiD_041.png\n"
          ]
        },
        {
          "output_type": "stream",
          "name": "stderr",
          "text": [
            "\r 40%|███▉      | 41/103 [01:57<02:46,  2.69s/it]"
          ]
        },
        {
          "output_type": "stream",
          "name": "stdout",
          "text": [
            "IDRiD_042\n",
            "255 1.0\n",
            " saving result /content/gdrive/MyDrive/1_All_Computations/BV_OD_Fovea_augment_2/files_demo_od/IDRiD_042.png\n",
            " saving result /content/gdrive/MyDrive/1_All_Computations/BV_OD_Fovea_augment_2/files_demo_he/IDRiD_042.png\n",
            " saving result /content/gdrive/MyDrive/1_All_Computations/BV_OD_Fovea_augment_2/files_demo_ex/IDRiD_042.png\n"
          ]
        },
        {
          "output_type": "stream",
          "name": "stderr",
          "text": [
            "\r 41%|████      | 42/103 [02:00<02:42,  2.67s/it]"
          ]
        },
        {
          "output_type": "stream",
          "name": "stdout",
          "text": [
            "IDRiD_043\n",
            "255 1.0\n",
            " saving result /content/gdrive/MyDrive/1_All_Computations/BV_OD_Fovea_augment_2/files_demo_od/IDRiD_043.png\n",
            " saving result /content/gdrive/MyDrive/1_All_Computations/BV_OD_Fovea_augment_2/files_demo_he/IDRiD_043.png\n",
            " saving result /content/gdrive/MyDrive/1_All_Computations/BV_OD_Fovea_augment_2/files_demo_ex/IDRiD_043.png\n"
          ]
        },
        {
          "output_type": "stream",
          "name": "stderr",
          "text": [
            "\r 42%|████▏     | 43/103 [02:03<02:39,  2.65s/it]"
          ]
        },
        {
          "output_type": "stream",
          "name": "stdout",
          "text": [
            "IDRiD_044\n",
            "255 1.0\n",
            " saving result /content/gdrive/MyDrive/1_All_Computations/BV_OD_Fovea_augment_2/files_demo_od/IDRiD_044.png\n",
            " saving result /content/gdrive/MyDrive/1_All_Computations/BV_OD_Fovea_augment_2/files_demo_he/IDRiD_044.png\n",
            " saving result /content/gdrive/MyDrive/1_All_Computations/BV_OD_Fovea_augment_2/files_demo_ex/IDRiD_044.png\n"
          ]
        },
        {
          "output_type": "stream",
          "name": "stderr",
          "text": [
            "\r 43%|████▎     | 44/103 [02:05<02:35,  2.64s/it]"
          ]
        },
        {
          "output_type": "stream",
          "name": "stdout",
          "text": [
            "IDRiD_045\n",
            "255 1.0\n",
            " saving result /content/gdrive/MyDrive/1_All_Computations/BV_OD_Fovea_augment_2/files_demo_od/IDRiD_045.png\n",
            " saving result /content/gdrive/MyDrive/1_All_Computations/BV_OD_Fovea_augment_2/files_demo_he/IDRiD_045.png\n",
            " saving result /content/gdrive/MyDrive/1_All_Computations/BV_OD_Fovea_augment_2/files_demo_ex/IDRiD_045.png\n"
          ]
        },
        {
          "output_type": "stream",
          "name": "stderr",
          "text": [
            "\r 44%|████▎     | 45/103 [02:08<02:34,  2.67s/it]"
          ]
        },
        {
          "output_type": "stream",
          "name": "stdout",
          "text": [
            "IDRiD_046\n",
            "255 1.0\n",
            " saving result /content/gdrive/MyDrive/1_All_Computations/BV_OD_Fovea_augment_2/files_demo_od/IDRiD_046.png\n",
            " saving result /content/gdrive/MyDrive/1_All_Computations/BV_OD_Fovea_augment_2/files_demo_he/IDRiD_046.png\n",
            " saving result /content/gdrive/MyDrive/1_All_Computations/BV_OD_Fovea_augment_2/files_demo_ex/IDRiD_046.png\n"
          ]
        },
        {
          "output_type": "stream",
          "name": "stderr",
          "text": [
            "\r 45%|████▍     | 46/103 [02:11<02:32,  2.68s/it]"
          ]
        },
        {
          "output_type": "stream",
          "name": "stdout",
          "text": [
            "IDRiD_047\n",
            "255 1.0\n",
            " saving result /content/gdrive/MyDrive/1_All_Computations/BV_OD_Fovea_augment_2/files_demo_od/IDRiD_047.png\n",
            " saving result /content/gdrive/MyDrive/1_All_Computations/BV_OD_Fovea_augment_2/files_demo_he/IDRiD_047.png\n",
            " saving result /content/gdrive/MyDrive/1_All_Computations/BV_OD_Fovea_augment_2/files_demo_ex/IDRiD_047.png\n"
          ]
        },
        {
          "output_type": "stream",
          "name": "stderr",
          "text": [
            "\r 46%|████▌     | 47/103 [02:14<02:46,  2.98s/it]"
          ]
        },
        {
          "output_type": "stream",
          "name": "stdout",
          "text": [
            "IDRiD_048\n",
            "255 1.0\n",
            " saving result /content/gdrive/MyDrive/1_All_Computations/BV_OD_Fovea_augment_2/files_demo_od/IDRiD_048.png\n",
            " saving result /content/gdrive/MyDrive/1_All_Computations/BV_OD_Fovea_augment_2/files_demo_he/IDRiD_048.png\n",
            " saving result /content/gdrive/MyDrive/1_All_Computations/BV_OD_Fovea_augment_2/files_demo_ex/IDRiD_048.png\n"
          ]
        },
        {
          "output_type": "stream",
          "name": "stderr",
          "text": [
            "\r 47%|████▋     | 48/103 [02:17<02:39,  2.89s/it]"
          ]
        },
        {
          "output_type": "stream",
          "name": "stdout",
          "text": [
            "IDRiD_049\n",
            "255 1.0\n",
            " saving result /content/gdrive/MyDrive/1_All_Computations/BV_OD_Fovea_augment_2/files_demo_od/IDRiD_049.png\n",
            " saving result /content/gdrive/MyDrive/1_All_Computations/BV_OD_Fovea_augment_2/files_demo_he/IDRiD_049.png\n",
            " saving result /content/gdrive/MyDrive/1_All_Computations/BV_OD_Fovea_augment_2/files_demo_ex/IDRiD_049.png\n"
          ]
        },
        {
          "output_type": "stream",
          "name": "stderr",
          "text": [
            "\r 48%|████▊     | 49/103 [02:20<02:30,  2.79s/it]"
          ]
        },
        {
          "output_type": "stream",
          "name": "stdout",
          "text": [
            "IDRiD_050\n",
            "255 1.0\n",
            " saving result /content/gdrive/MyDrive/1_All_Computations/BV_OD_Fovea_augment_2/files_demo_od/IDRiD_050.png\n",
            " saving result /content/gdrive/MyDrive/1_All_Computations/BV_OD_Fovea_augment_2/files_demo_he/IDRiD_050.png\n",
            " saving result /content/gdrive/MyDrive/1_All_Computations/BV_OD_Fovea_augment_2/files_demo_ex/IDRiD_050.png\n"
          ]
        },
        {
          "output_type": "stream",
          "name": "stderr",
          "text": [
            "\r 49%|████▊     | 50/103 [02:22<02:23,  2.71s/it]"
          ]
        },
        {
          "output_type": "stream",
          "name": "stdout",
          "text": [
            "IDRiD_051\n",
            "255 1.0\n",
            " saving result /content/gdrive/MyDrive/1_All_Computations/BV_OD_Fovea_augment_2/files_demo_od/IDRiD_051.png\n",
            " saving result /content/gdrive/MyDrive/1_All_Computations/BV_OD_Fovea_augment_2/files_demo_he/IDRiD_051.png\n",
            " saving result /content/gdrive/MyDrive/1_All_Computations/BV_OD_Fovea_augment_2/files_demo_ex/IDRiD_051.png\n"
          ]
        },
        {
          "output_type": "stream",
          "name": "stderr",
          "text": [
            "\r 50%|████▉     | 51/103 [02:25<02:20,  2.70s/it]"
          ]
        },
        {
          "output_type": "stream",
          "name": "stdout",
          "text": [
            "IDRiD_052\n",
            "255 1.0\n",
            " saving result /content/gdrive/MyDrive/1_All_Computations/BV_OD_Fovea_augment_2/files_demo_od/IDRiD_052.png\n",
            " saving result /content/gdrive/MyDrive/1_All_Computations/BV_OD_Fovea_augment_2/files_demo_he/IDRiD_052.png\n",
            " saving result /content/gdrive/MyDrive/1_All_Computations/BV_OD_Fovea_augment_2/files_demo_ex/IDRiD_052.png\n"
          ]
        },
        {
          "output_type": "stream",
          "name": "stderr",
          "text": [
            "\r 50%|█████     | 52/103 [02:27<02:18,  2.71s/it]"
          ]
        },
        {
          "output_type": "stream",
          "name": "stdout",
          "text": [
            "IDRiD_053\n",
            "255 1.0\n",
            " saving result /content/gdrive/MyDrive/1_All_Computations/BV_OD_Fovea_augment_2/files_demo_od/IDRiD_053.png\n",
            " saving result /content/gdrive/MyDrive/1_All_Computations/BV_OD_Fovea_augment_2/files_demo_he/IDRiD_053.png\n",
            " saving result /content/gdrive/MyDrive/1_All_Computations/BV_OD_Fovea_augment_2/files_demo_ex/IDRiD_053.png\n"
          ]
        },
        {
          "output_type": "stream",
          "name": "stderr",
          "text": [
            "\r 51%|█████▏    | 53/103 [02:30<02:13,  2.66s/it]"
          ]
        },
        {
          "output_type": "stream",
          "name": "stdout",
          "text": [
            "IDRiD_054\n",
            "255 1.0\n",
            " saving result /content/gdrive/MyDrive/1_All_Computations/BV_OD_Fovea_augment_2/files_demo_od/IDRiD_054.png\n",
            " saving result /content/gdrive/MyDrive/1_All_Computations/BV_OD_Fovea_augment_2/files_demo_he/IDRiD_054.png\n",
            " saving result /content/gdrive/MyDrive/1_All_Computations/BV_OD_Fovea_augment_2/files_demo_ex/IDRiD_054.png\n"
          ]
        },
        {
          "output_type": "stream",
          "name": "stderr",
          "text": [
            "\r 52%|█████▏    | 54/103 [02:33<02:12,  2.69s/it]"
          ]
        },
        {
          "output_type": "stream",
          "name": "stdout",
          "text": [
            "IDRiD_055\n",
            "255 1.0\n",
            " saving result /content/gdrive/MyDrive/1_All_Computations/BV_OD_Fovea_augment_2/files_demo_od/IDRiD_055.png\n",
            " saving result /content/gdrive/MyDrive/1_All_Computations/BV_OD_Fovea_augment_2/files_demo_he/IDRiD_055.png\n",
            " saving result /content/gdrive/MyDrive/1_All_Computations/BV_OD_Fovea_augment_2/files_demo_ex/IDRiD_055.png\n"
          ]
        },
        {
          "output_type": "stream",
          "name": "stderr",
          "text": [
            "\r 53%|█████▎    | 55/103 [02:35<02:07,  2.65s/it]"
          ]
        },
        {
          "output_type": "stream",
          "name": "stdout",
          "text": [
            "IDRiD_056\n",
            "255 1.0\n",
            " saving result /content/gdrive/MyDrive/1_All_Computations/BV_OD_Fovea_augment_2/files_demo_od/IDRiD_056.png\n",
            " saving result /content/gdrive/MyDrive/1_All_Computations/BV_OD_Fovea_augment_2/files_demo_he/IDRiD_056.png\n",
            " saving result /content/gdrive/MyDrive/1_All_Computations/BV_OD_Fovea_augment_2/files_demo_ex/IDRiD_056.png\n"
          ]
        },
        {
          "output_type": "stream",
          "name": "stderr",
          "text": [
            "\r 54%|█████▍    | 56/103 [02:38<02:04,  2.64s/it]"
          ]
        },
        {
          "output_type": "stream",
          "name": "stdout",
          "text": [
            "IDRiD_057\n",
            "255 1.0\n",
            " saving result /content/gdrive/MyDrive/1_All_Computations/BV_OD_Fovea_augment_2/files_demo_od/IDRiD_057.png\n",
            " saving result /content/gdrive/MyDrive/1_All_Computations/BV_OD_Fovea_augment_2/files_demo_he/IDRiD_057.png\n",
            " saving result /content/gdrive/MyDrive/1_All_Computations/BV_OD_Fovea_augment_2/files_demo_ex/IDRiD_057.png\n"
          ]
        },
        {
          "output_type": "stream",
          "name": "stderr",
          "text": [
            "\r 55%|█████▌    | 57/103 [02:40<01:59,  2.60s/it]"
          ]
        },
        {
          "output_type": "stream",
          "name": "stdout",
          "text": [
            "IDRiD_058\n",
            "255 1.0\n",
            " saving result /content/gdrive/MyDrive/1_All_Computations/BV_OD_Fovea_augment_2/files_demo_od/IDRiD_058.png\n",
            " saving result /content/gdrive/MyDrive/1_All_Computations/BV_OD_Fovea_augment_2/files_demo_he/IDRiD_058.png\n",
            " saving result /content/gdrive/MyDrive/1_All_Computations/BV_OD_Fovea_augment_2/files_demo_ex/IDRiD_058.png\n"
          ]
        },
        {
          "output_type": "stream",
          "name": "stderr",
          "text": [
            "\r 56%|█████▋    | 58/103 [02:43<01:57,  2.62s/it]"
          ]
        },
        {
          "output_type": "stream",
          "name": "stdout",
          "text": [
            "IDRiD_059\n",
            "255 1.0\n",
            " saving result /content/gdrive/MyDrive/1_All_Computations/BV_OD_Fovea_augment_2/files_demo_od/IDRiD_059.png\n",
            " saving result /content/gdrive/MyDrive/1_All_Computations/BV_OD_Fovea_augment_2/files_demo_he/IDRiD_059.png\n",
            " saving result /content/gdrive/MyDrive/1_All_Computations/BV_OD_Fovea_augment_2/files_demo_ex/IDRiD_059.png\n"
          ]
        },
        {
          "output_type": "stream",
          "name": "stderr",
          "text": [
            "\r 57%|█████▋    | 59/103 [02:46<01:55,  2.62s/it]"
          ]
        },
        {
          "output_type": "stream",
          "name": "stdout",
          "text": [
            "IDRiD_060\n",
            "255 1.0\n",
            " saving result /content/gdrive/MyDrive/1_All_Computations/BV_OD_Fovea_augment_2/files_demo_od/IDRiD_060.png\n",
            " saving result /content/gdrive/MyDrive/1_All_Computations/BV_OD_Fovea_augment_2/files_demo_he/IDRiD_060.png\n",
            " saving result /content/gdrive/MyDrive/1_All_Computations/BV_OD_Fovea_augment_2/files_demo_ex/IDRiD_060.png\n"
          ]
        },
        {
          "output_type": "stream",
          "name": "stderr",
          "text": [
            "\r 58%|█████▊    | 60/103 [02:48<01:53,  2.64s/it]"
          ]
        },
        {
          "output_type": "stream",
          "name": "stdout",
          "text": [
            "IDRiD_061\n",
            "255 1.0\n",
            " saving result /content/gdrive/MyDrive/1_All_Computations/BV_OD_Fovea_augment_2/files_demo_od/IDRiD_061.png\n",
            " saving result /content/gdrive/MyDrive/1_All_Computations/BV_OD_Fovea_augment_2/files_demo_he/IDRiD_061.png\n",
            " saving result /content/gdrive/MyDrive/1_All_Computations/BV_OD_Fovea_augment_2/files_demo_ex/IDRiD_061.png\n"
          ]
        },
        {
          "output_type": "stream",
          "name": "stderr",
          "text": [
            "\r 59%|█████▉    | 61/103 [02:51<01:49,  2.62s/it]"
          ]
        },
        {
          "output_type": "stream",
          "name": "stdout",
          "text": [
            "IDRiD_062\n",
            "255 1.0\n",
            " saving result /content/gdrive/MyDrive/1_All_Computations/BV_OD_Fovea_augment_2/files_demo_od/IDRiD_062.png\n",
            " saving result /content/gdrive/MyDrive/1_All_Computations/BV_OD_Fovea_augment_2/files_demo_he/IDRiD_062.png\n",
            " saving result /content/gdrive/MyDrive/1_All_Computations/BV_OD_Fovea_augment_2/files_demo_ex/IDRiD_062.png\n"
          ]
        },
        {
          "output_type": "stream",
          "name": "stderr",
          "text": [
            "\r 60%|██████    | 62/103 [02:54<01:46,  2.61s/it]"
          ]
        },
        {
          "output_type": "stream",
          "name": "stdout",
          "text": [
            "IDRiD_063\n",
            "255 1.0\n",
            " saving result /content/gdrive/MyDrive/1_All_Computations/BV_OD_Fovea_augment_2/files_demo_od/IDRiD_063.png\n",
            " saving result /content/gdrive/MyDrive/1_All_Computations/BV_OD_Fovea_augment_2/files_demo_he/IDRiD_063.png\n",
            " saving result /content/gdrive/MyDrive/1_All_Computations/BV_OD_Fovea_augment_2/files_demo_ex/IDRiD_063.png\n"
          ]
        },
        {
          "output_type": "stream",
          "name": "stderr",
          "text": [
            "\r 61%|██████    | 63/103 [02:56<01:44,  2.62s/it]"
          ]
        },
        {
          "output_type": "stream",
          "name": "stdout",
          "text": [
            "IDRiD_064\n",
            "255 1.0\n",
            " saving result /content/gdrive/MyDrive/1_All_Computations/BV_OD_Fovea_augment_2/files_demo_od/IDRiD_064.png\n",
            " saving result /content/gdrive/MyDrive/1_All_Computations/BV_OD_Fovea_augment_2/files_demo_he/IDRiD_064.png\n",
            " saving result /content/gdrive/MyDrive/1_All_Computations/BV_OD_Fovea_augment_2/files_demo_ex/IDRiD_064.png\n"
          ]
        },
        {
          "output_type": "stream",
          "name": "stderr",
          "text": [
            "\r 62%|██████▏   | 64/103 [02:59<01:44,  2.68s/it]"
          ]
        },
        {
          "output_type": "stream",
          "name": "stdout",
          "text": [
            "IDRiD_065\n",
            "255 1.0\n",
            " saving result /content/gdrive/MyDrive/1_All_Computations/BV_OD_Fovea_augment_2/files_demo_od/IDRiD_065.png\n",
            " saving result /content/gdrive/MyDrive/1_All_Computations/BV_OD_Fovea_augment_2/files_demo_he/IDRiD_065.png\n",
            " saving result /content/gdrive/MyDrive/1_All_Computations/BV_OD_Fovea_augment_2/files_demo_ex/IDRiD_065.png\n"
          ]
        },
        {
          "output_type": "stream",
          "name": "stderr",
          "text": [
            "\r 63%|██████▎   | 65/103 [03:02<01:41,  2.66s/it]"
          ]
        },
        {
          "output_type": "stream",
          "name": "stdout",
          "text": [
            "IDRiD_066\n",
            "255 1.0\n",
            " saving result /content/gdrive/MyDrive/1_All_Computations/BV_OD_Fovea_augment_2/files_demo_od/IDRiD_066.png\n",
            " saving result /content/gdrive/MyDrive/1_All_Computations/BV_OD_Fovea_augment_2/files_demo_he/IDRiD_066.png\n",
            " saving result /content/gdrive/MyDrive/1_All_Computations/BV_OD_Fovea_augment_2/files_demo_ex/IDRiD_066.png\n"
          ]
        },
        {
          "output_type": "stream",
          "name": "stderr",
          "text": [
            "\r 64%|██████▍   | 66/103 [03:04<01:38,  2.67s/it]"
          ]
        },
        {
          "output_type": "stream",
          "name": "stdout",
          "text": [
            "IDRiD_067\n",
            "255 1.0\n",
            " saving result /content/gdrive/MyDrive/1_All_Computations/BV_OD_Fovea_augment_2/files_demo_od/IDRiD_067.png\n",
            " saving result /content/gdrive/MyDrive/1_All_Computations/BV_OD_Fovea_augment_2/files_demo_he/IDRiD_067.png\n",
            " saving result /content/gdrive/MyDrive/1_All_Computations/BV_OD_Fovea_augment_2/files_demo_ex/IDRiD_067.png\n"
          ]
        },
        {
          "output_type": "stream",
          "name": "stderr",
          "text": [
            "\r 65%|██████▌   | 67/103 [03:07<01:35,  2.65s/it]"
          ]
        },
        {
          "output_type": "stream",
          "name": "stdout",
          "text": [
            "IDRiD_068\n",
            "255 1.0\n",
            " saving result /content/gdrive/MyDrive/1_All_Computations/BV_OD_Fovea_augment_2/files_demo_od/IDRiD_068.png\n",
            " saving result /content/gdrive/MyDrive/1_All_Computations/BV_OD_Fovea_augment_2/files_demo_he/IDRiD_068.png\n",
            " saving result /content/gdrive/MyDrive/1_All_Computations/BV_OD_Fovea_augment_2/files_demo_ex/IDRiD_068.png\n"
          ]
        },
        {
          "output_type": "stream",
          "name": "stderr",
          "text": [
            "\r 66%|██████▌   | 68/103 [03:10<01:32,  2.65s/it]"
          ]
        },
        {
          "output_type": "stream",
          "name": "stdout",
          "text": [
            "IDRiD_069\n",
            "255 1.0\n",
            " saving result /content/gdrive/MyDrive/1_All_Computations/BV_OD_Fovea_augment_2/files_demo_od/IDRiD_069.png\n",
            " saving result /content/gdrive/MyDrive/1_All_Computations/BV_OD_Fovea_augment_2/files_demo_he/IDRiD_069.png\n",
            " saving result /content/gdrive/MyDrive/1_All_Computations/BV_OD_Fovea_augment_2/files_demo_ex/IDRiD_069.png\n"
          ]
        },
        {
          "output_type": "stream",
          "name": "stderr",
          "text": [
            "\r 67%|██████▋   | 69/103 [03:12<01:29,  2.64s/it]"
          ]
        },
        {
          "output_type": "stream",
          "name": "stdout",
          "text": [
            "IDRiD_070\n",
            "255 1.0\n",
            " saving result /content/gdrive/MyDrive/1_All_Computations/BV_OD_Fovea_augment_2/files_demo_od/IDRiD_070.png\n",
            " saving result /content/gdrive/MyDrive/1_All_Computations/BV_OD_Fovea_augment_2/files_demo_he/IDRiD_070.png\n",
            " saving result /content/gdrive/MyDrive/1_All_Computations/BV_OD_Fovea_augment_2/files_demo_ex/IDRiD_070.png\n"
          ]
        },
        {
          "output_type": "stream",
          "name": "stderr",
          "text": [
            "\r 68%|██████▊   | 70/103 [03:15<01:27,  2.65s/it]"
          ]
        },
        {
          "output_type": "stream",
          "name": "stdout",
          "text": [
            "IDRiD_071\n",
            "255 1.0\n",
            " saving result /content/gdrive/MyDrive/1_All_Computations/BV_OD_Fovea_augment_2/files_demo_od/IDRiD_071.png\n",
            " saving result /content/gdrive/MyDrive/1_All_Computations/BV_OD_Fovea_augment_2/files_demo_he/IDRiD_071.png\n",
            " saving result /content/gdrive/MyDrive/1_All_Computations/BV_OD_Fovea_augment_2/files_demo_ex/IDRiD_071.png\n"
          ]
        },
        {
          "output_type": "stream",
          "name": "stderr",
          "text": [
            "\r 69%|██████▉   | 71/103 [03:18<01:26,  2.69s/it]"
          ]
        },
        {
          "output_type": "stream",
          "name": "stdout",
          "text": [
            "IDRiD_072\n",
            "255 1.0\n",
            " saving result /content/gdrive/MyDrive/1_All_Computations/BV_OD_Fovea_augment_2/files_demo_od/IDRiD_072.png\n",
            " saving result /content/gdrive/MyDrive/1_All_Computations/BV_OD_Fovea_augment_2/files_demo_he/IDRiD_072.png\n",
            " saving result /content/gdrive/MyDrive/1_All_Computations/BV_OD_Fovea_augment_2/files_demo_ex/IDRiD_072.png\n"
          ]
        },
        {
          "output_type": "stream",
          "name": "stderr",
          "text": [
            "\r 70%|██████▉   | 72/103 [03:20<01:23,  2.71s/it]"
          ]
        },
        {
          "output_type": "stream",
          "name": "stdout",
          "text": [
            "IDRiD_073\n",
            "255 1.0\n",
            " saving result /content/gdrive/MyDrive/1_All_Computations/BV_OD_Fovea_augment_2/files_demo_od/IDRiD_073.png\n",
            " saving result /content/gdrive/MyDrive/1_All_Computations/BV_OD_Fovea_augment_2/files_demo_he/IDRiD_073.png\n",
            " saving result /content/gdrive/MyDrive/1_All_Computations/BV_OD_Fovea_augment_2/files_demo_ex/IDRiD_073.png\n"
          ]
        },
        {
          "output_type": "stream",
          "name": "stderr",
          "text": [
            "\r 71%|███████   | 73/103 [03:23<01:21,  2.71s/it]"
          ]
        },
        {
          "output_type": "stream",
          "name": "stdout",
          "text": [
            "IDRiD_074\n",
            "255 1.0\n",
            " saving result /content/gdrive/MyDrive/1_All_Computations/BV_OD_Fovea_augment_2/files_demo_od/IDRiD_074.png\n",
            " saving result /content/gdrive/MyDrive/1_All_Computations/BV_OD_Fovea_augment_2/files_demo_he/IDRiD_074.png\n",
            " saving result /content/gdrive/MyDrive/1_All_Computations/BV_OD_Fovea_augment_2/files_demo_ex/IDRiD_074.png\n"
          ]
        },
        {
          "output_type": "stream",
          "name": "stderr",
          "text": [
            "\r 72%|███████▏  | 74/103 [03:26<01:17,  2.66s/it]"
          ]
        },
        {
          "output_type": "stream",
          "name": "stdout",
          "text": [
            "IDRiD_075\n",
            "255 1.0\n",
            " saving result /content/gdrive/MyDrive/1_All_Computations/BV_OD_Fovea_augment_2/files_demo_od/IDRiD_075.png\n",
            " saving result /content/gdrive/MyDrive/1_All_Computations/BV_OD_Fovea_augment_2/files_demo_he/IDRiD_075.png\n",
            " saving result /content/gdrive/MyDrive/1_All_Computations/BV_OD_Fovea_augment_2/files_demo_ex/IDRiD_075.png\n"
          ]
        },
        {
          "output_type": "stream",
          "name": "stderr",
          "text": [
            "\r 73%|███████▎  | 75/103 [03:29<01:20,  2.86s/it]"
          ]
        },
        {
          "output_type": "stream",
          "name": "stdout",
          "text": [
            "IDRiD_076\n",
            "255 1.0\n",
            " saving result /content/gdrive/MyDrive/1_All_Computations/BV_OD_Fovea_augment_2/files_demo_od/IDRiD_076.png\n",
            " saving result /content/gdrive/MyDrive/1_All_Computations/BV_OD_Fovea_augment_2/files_demo_he/IDRiD_076.png\n",
            " saving result /content/gdrive/MyDrive/1_All_Computations/BV_OD_Fovea_augment_2/files_demo_ex/IDRiD_076.png\n"
          ]
        },
        {
          "output_type": "stream",
          "name": "stderr",
          "text": [
            "\r 74%|███████▍  | 76/103 [03:34<01:30,  3.36s/it]"
          ]
        },
        {
          "output_type": "stream",
          "name": "stdout",
          "text": [
            "IDRiD_077\n",
            "255 1.0\n",
            " saving result /content/gdrive/MyDrive/1_All_Computations/BV_OD_Fovea_augment_2/files_demo_od/IDRiD_077.png\n",
            " saving result /content/gdrive/MyDrive/1_All_Computations/BV_OD_Fovea_augment_2/files_demo_he/IDRiD_077.png\n",
            " saving result /content/gdrive/MyDrive/1_All_Computations/BV_OD_Fovea_augment_2/files_demo_ex/IDRiD_077.png\n"
          ]
        },
        {
          "output_type": "stream",
          "name": "stderr",
          "text": [
            "\r 75%|███████▍  | 77/103 [03:39<01:44,  4.02s/it]"
          ]
        },
        {
          "output_type": "stream",
          "name": "stdout",
          "text": [
            "IDRiD_078\n",
            "255 1.0\n",
            " saving result /content/gdrive/MyDrive/1_All_Computations/BV_OD_Fovea_augment_2/files_demo_od/IDRiD_078.png\n",
            " saving result /content/gdrive/MyDrive/1_All_Computations/BV_OD_Fovea_augment_2/files_demo_he/IDRiD_078.png\n",
            " saving result /content/gdrive/MyDrive/1_All_Computations/BV_OD_Fovea_augment_2/files_demo_ex/IDRiD_078.png\n"
          ]
        },
        {
          "output_type": "stream",
          "name": "stderr",
          "text": [
            "\r 76%|███████▌  | 78/103 [03:43<01:40,  4.03s/it]"
          ]
        },
        {
          "output_type": "stream",
          "name": "stdout",
          "text": [
            "IDRiD_079\n",
            "255 1.0\n",
            " saving result /content/gdrive/MyDrive/1_All_Computations/BV_OD_Fovea_augment_2/files_demo_od/IDRiD_079.png\n",
            " saving result /content/gdrive/MyDrive/1_All_Computations/BV_OD_Fovea_augment_2/files_demo_he/IDRiD_079.png\n",
            " saving result /content/gdrive/MyDrive/1_All_Computations/BV_OD_Fovea_augment_2/files_demo_ex/IDRiD_079.png\n"
          ]
        },
        {
          "output_type": "stream",
          "name": "stderr",
          "text": [
            "\r 77%|███████▋  | 79/103 [03:47<01:32,  3.86s/it]"
          ]
        },
        {
          "output_type": "stream",
          "name": "stdout",
          "text": [
            "IDRiD_080\n",
            "255 1.0\n",
            " saving result /content/gdrive/MyDrive/1_All_Computations/BV_OD_Fovea_augment_2/files_demo_od/IDRiD_080.png\n",
            " saving result /content/gdrive/MyDrive/1_All_Computations/BV_OD_Fovea_augment_2/files_demo_he/IDRiD_080.png\n",
            " saving result /content/gdrive/MyDrive/1_All_Computations/BV_OD_Fovea_augment_2/files_demo_ex/IDRiD_080.png\n"
          ]
        },
        {
          "output_type": "stream",
          "name": "stderr",
          "text": [
            "\r 78%|███████▊  | 80/103 [03:49<01:20,  3.49s/it]"
          ]
        },
        {
          "output_type": "stream",
          "name": "stdout",
          "text": [
            "IDRiD_081\n",
            "255 1.0\n",
            " saving result /content/gdrive/MyDrive/1_All_Computations/BV_OD_Fovea_augment_2/files_demo_od/IDRiD_081.png\n",
            " saving result /content/gdrive/MyDrive/1_All_Computations/BV_OD_Fovea_augment_2/files_demo_he/IDRiD_081.png\n",
            " saving result /content/gdrive/MyDrive/1_All_Computations/BV_OD_Fovea_augment_2/files_demo_ex/IDRiD_081.png\n"
          ]
        },
        {
          "output_type": "stream",
          "name": "stderr",
          "text": [
            "\r 79%|███████▊  | 81/103 [03:52<01:10,  3.21s/it]"
          ]
        },
        {
          "output_type": "stream",
          "name": "stdout",
          "text": [
            "IDRiD_082\n",
            "255 1.0\n",
            " saving result /content/gdrive/MyDrive/1_All_Computations/BV_OD_Fovea_augment_2/files_demo_od/IDRiD_082.png\n",
            " saving result /content/gdrive/MyDrive/1_All_Computations/BV_OD_Fovea_augment_2/files_demo_he/IDRiD_082.png\n",
            " saving result /content/gdrive/MyDrive/1_All_Computations/BV_OD_Fovea_augment_2/files_demo_ex/IDRiD_082.png\n"
          ]
        },
        {
          "output_type": "stream",
          "name": "stderr",
          "text": [
            "\r 80%|███████▉  | 82/103 [03:54<01:03,  3.03s/it]"
          ]
        },
        {
          "output_type": "stream",
          "name": "stdout",
          "text": [
            "IDRiD_083\n",
            "255 1.0\n",
            " saving result /content/gdrive/MyDrive/1_All_Computations/BV_OD_Fovea_augment_2/files_demo_od/IDRiD_083.png\n",
            " saving result /content/gdrive/MyDrive/1_All_Computations/BV_OD_Fovea_augment_2/files_demo_he/IDRiD_083.png\n",
            " saving result /content/gdrive/MyDrive/1_All_Computations/BV_OD_Fovea_augment_2/files_demo_ex/IDRiD_083.png\n"
          ]
        },
        {
          "output_type": "stream",
          "name": "stderr",
          "text": [
            "\r 81%|████████  | 83/103 [03:57<00:58,  2.93s/it]"
          ]
        },
        {
          "output_type": "stream",
          "name": "stdout",
          "text": [
            "IDRiD_084\n",
            "255 1.0\n",
            " saving result /content/gdrive/MyDrive/1_All_Computations/BV_OD_Fovea_augment_2/files_demo_od/IDRiD_084.png\n",
            " saving result /content/gdrive/MyDrive/1_All_Computations/BV_OD_Fovea_augment_2/files_demo_he/IDRiD_084.png\n",
            " saving result /content/gdrive/MyDrive/1_All_Computations/BV_OD_Fovea_augment_2/files_demo_ex/IDRiD_084.png\n"
          ]
        },
        {
          "output_type": "stream",
          "name": "stderr",
          "text": [
            "\r 82%|████████▏ | 84/103 [04:00<00:57,  3.02s/it]"
          ]
        },
        {
          "output_type": "stream",
          "name": "stdout",
          "text": [
            "IDRiD_085\n",
            "255 1.0\n",
            " saving result /content/gdrive/MyDrive/1_All_Computations/BV_OD_Fovea_augment_2/files_demo_od/IDRiD_085.png\n",
            " saving result /content/gdrive/MyDrive/1_All_Computations/BV_OD_Fovea_augment_2/files_demo_he/IDRiD_085.png\n",
            " saving result /content/gdrive/MyDrive/1_All_Computations/BV_OD_Fovea_augment_2/files_demo_ex/IDRiD_085.png\n"
          ]
        },
        {
          "output_type": "stream",
          "name": "stderr",
          "text": [
            "\r 83%|████████▎ | 85/103 [04:05<01:01,  3.42s/it]"
          ]
        },
        {
          "output_type": "stream",
          "name": "stdout",
          "text": [
            "IDRiD_086\n",
            "255 1.0\n",
            " saving result /content/gdrive/MyDrive/1_All_Computations/BV_OD_Fovea_augment_2/files_demo_od/IDRiD_086.png\n",
            " saving result /content/gdrive/MyDrive/1_All_Computations/BV_OD_Fovea_augment_2/files_demo_he/IDRiD_086.png\n",
            " saving result /content/gdrive/MyDrive/1_All_Computations/BV_OD_Fovea_augment_2/files_demo_ex/IDRiD_086.png\n"
          ]
        },
        {
          "output_type": "stream",
          "name": "stderr",
          "text": [
            "\r 83%|████████▎ | 86/103 [04:09<01:04,  3.81s/it]"
          ]
        },
        {
          "output_type": "stream",
          "name": "stdout",
          "text": [
            "IDRiD_087\n",
            "255 1.0\n",
            " saving result /content/gdrive/MyDrive/1_All_Computations/BV_OD_Fovea_augment_2/files_demo_od/IDRiD_087.png\n",
            " saving result /content/gdrive/MyDrive/1_All_Computations/BV_OD_Fovea_augment_2/files_demo_he/IDRiD_087.png\n",
            " saving result /content/gdrive/MyDrive/1_All_Computations/BV_OD_Fovea_augment_2/files_demo_ex/IDRiD_087.png\n"
          ]
        },
        {
          "output_type": "stream",
          "name": "stderr",
          "text": [
            "\r 84%|████████▍ | 87/103 [04:13<01:00,  3.81s/it]"
          ]
        },
        {
          "output_type": "stream",
          "name": "stdout",
          "text": [
            "IDRiD_088\n",
            "255 1.0\n",
            " saving result /content/gdrive/MyDrive/1_All_Computations/BV_OD_Fovea_augment_2/files_demo_od/IDRiD_088.png\n",
            " saving result /content/gdrive/MyDrive/1_All_Computations/BV_OD_Fovea_augment_2/files_demo_he/IDRiD_088.png\n",
            " saving result /content/gdrive/MyDrive/1_All_Computations/BV_OD_Fovea_augment_2/files_demo_ex/IDRiD_088.png\n"
          ]
        },
        {
          "output_type": "stream",
          "name": "stderr",
          "text": [
            "\r 85%|████████▌ | 88/103 [04:18<00:59,  3.96s/it]"
          ]
        },
        {
          "output_type": "stream",
          "name": "stdout",
          "text": [
            "IDRiD_089\n",
            "255 1.0\n",
            " saving result /content/gdrive/MyDrive/1_All_Computations/BV_OD_Fovea_augment_2/files_demo_od/IDRiD_089.png\n",
            " saving result /content/gdrive/MyDrive/1_All_Computations/BV_OD_Fovea_augment_2/files_demo_he/IDRiD_089.png\n",
            " saving result /content/gdrive/MyDrive/1_All_Computations/BV_OD_Fovea_augment_2/files_demo_ex/IDRiD_089.png\n"
          ]
        },
        {
          "output_type": "stream",
          "name": "stderr",
          "text": [
            "\r 86%|████████▋ | 89/103 [04:21<00:55,  3.94s/it]"
          ]
        },
        {
          "output_type": "stream",
          "name": "stdout",
          "text": [
            "IDRiD_090\n",
            "255 1.0\n",
            " saving result /content/gdrive/MyDrive/1_All_Computations/BV_OD_Fovea_augment_2/files_demo_od/IDRiD_090.png\n",
            " saving result /content/gdrive/MyDrive/1_All_Computations/BV_OD_Fovea_augment_2/files_demo_he/IDRiD_090.png\n",
            " saving result /content/gdrive/MyDrive/1_All_Computations/BV_OD_Fovea_augment_2/files_demo_ex/IDRiD_090.png\n"
          ]
        },
        {
          "output_type": "stream",
          "name": "stderr",
          "text": [
            "\r 87%|████████▋ | 90/103 [04:24<00:47,  3.63s/it]"
          ]
        },
        {
          "output_type": "stream",
          "name": "stdout",
          "text": [
            "IDRiD_091\n",
            "255 1.0\n",
            " saving result /content/gdrive/MyDrive/1_All_Computations/BV_OD_Fovea_augment_2/files_demo_od/IDRiD_091.png\n",
            " saving result /content/gdrive/MyDrive/1_All_Computations/BV_OD_Fovea_augment_2/files_demo_he/IDRiD_091.png\n",
            " saving result /content/gdrive/MyDrive/1_All_Computations/BV_OD_Fovea_augment_2/files_demo_ex/IDRiD_091.png\n"
          ]
        },
        {
          "output_type": "stream",
          "name": "stderr",
          "text": [
            "\r 88%|████████▊ | 91/103 [04:27<00:40,  3.33s/it]"
          ]
        },
        {
          "output_type": "stream",
          "name": "stdout",
          "text": [
            "IDRiD_092\n",
            "255 1.0\n",
            " saving result /content/gdrive/MyDrive/1_All_Computations/BV_OD_Fovea_augment_2/files_demo_od/IDRiD_092.png\n",
            " saving result /content/gdrive/MyDrive/1_All_Computations/BV_OD_Fovea_augment_2/files_demo_he/IDRiD_092.png\n",
            " saving result /content/gdrive/MyDrive/1_All_Computations/BV_OD_Fovea_augment_2/files_demo_ex/IDRiD_092.png\n"
          ]
        },
        {
          "output_type": "stream",
          "name": "stderr",
          "text": [
            "\r 89%|████████▉ | 92/103 [04:30<00:34,  3.17s/it]"
          ]
        },
        {
          "output_type": "stream",
          "name": "stdout",
          "text": [
            "IDRiD_093\n",
            "255 1.0\n",
            " saving result /content/gdrive/MyDrive/1_All_Computations/BV_OD_Fovea_augment_2/files_demo_od/IDRiD_093.png\n",
            " saving result /content/gdrive/MyDrive/1_All_Computations/BV_OD_Fovea_augment_2/files_demo_he/IDRiD_093.png\n",
            " saving result /content/gdrive/MyDrive/1_All_Computations/BV_OD_Fovea_augment_2/files_demo_ex/IDRiD_093.png\n"
          ]
        },
        {
          "output_type": "stream",
          "name": "stderr",
          "text": [
            "\r 90%|█████████ | 93/103 [04:32<00:29,  2.98s/it]"
          ]
        },
        {
          "output_type": "stream",
          "name": "stdout",
          "text": [
            "IDRiD_094\n",
            "255 1.0\n",
            " saving result /content/gdrive/MyDrive/1_All_Computations/BV_OD_Fovea_augment_2/files_demo_od/IDRiD_094.png\n",
            " saving result /content/gdrive/MyDrive/1_All_Computations/BV_OD_Fovea_augment_2/files_demo_he/IDRiD_094.png\n",
            " saving result /content/gdrive/MyDrive/1_All_Computations/BV_OD_Fovea_augment_2/files_demo_ex/IDRiD_094.png\n"
          ]
        },
        {
          "output_type": "stream",
          "name": "stderr",
          "text": [
            "\r 91%|█████████▏| 94/103 [04:35<00:26,  2.90s/it]"
          ]
        },
        {
          "output_type": "stream",
          "name": "stdout",
          "text": [
            "IDRiD_095\n",
            "255 1.0\n",
            " saving result /content/gdrive/MyDrive/1_All_Computations/BV_OD_Fovea_augment_2/files_demo_od/IDRiD_095.png\n",
            " saving result /content/gdrive/MyDrive/1_All_Computations/BV_OD_Fovea_augment_2/files_demo_he/IDRiD_095.png\n",
            " saving result /content/gdrive/MyDrive/1_All_Computations/BV_OD_Fovea_augment_2/files_demo_ex/IDRiD_095.png\n"
          ]
        },
        {
          "output_type": "stream",
          "name": "stderr",
          "text": [
            "\r 92%|█████████▏| 95/103 [04:37<00:22,  2.78s/it]"
          ]
        },
        {
          "output_type": "stream",
          "name": "stdout",
          "text": [
            "IDRiD_096\n",
            "255 1.0\n",
            " saving result /content/gdrive/MyDrive/1_All_Computations/BV_OD_Fovea_augment_2/files_demo_od/IDRiD_096.png\n",
            " saving result /content/gdrive/MyDrive/1_All_Computations/BV_OD_Fovea_augment_2/files_demo_he/IDRiD_096.png\n",
            " saving result /content/gdrive/MyDrive/1_All_Computations/BV_OD_Fovea_augment_2/files_demo_ex/IDRiD_096.png\n"
          ]
        },
        {
          "output_type": "stream",
          "name": "stderr",
          "text": [
            "\r 93%|█████████▎| 96/103 [04:40<00:19,  2.78s/it]"
          ]
        },
        {
          "output_type": "stream",
          "name": "stdout",
          "text": [
            "IDRiD_097\n",
            "255 1.0\n",
            " saving result /content/gdrive/MyDrive/1_All_Computations/BV_OD_Fovea_augment_2/files_demo_od/IDRiD_097.png\n",
            " saving result /content/gdrive/MyDrive/1_All_Computations/BV_OD_Fovea_augment_2/files_demo_he/IDRiD_097.png\n",
            " saving result /content/gdrive/MyDrive/1_All_Computations/BV_OD_Fovea_augment_2/files_demo_ex/IDRiD_097.png\n"
          ]
        },
        {
          "output_type": "stream",
          "name": "stderr",
          "text": [
            "\r 94%|█████████▍| 97/103 [04:44<00:19,  3.17s/it]"
          ]
        },
        {
          "output_type": "stream",
          "name": "stdout",
          "text": [
            "IDRiD_098\n",
            "255 1.0\n",
            " saving result /content/gdrive/MyDrive/1_All_Computations/BV_OD_Fovea_augment_2/files_demo_od/IDRiD_098.png\n",
            " saving result /content/gdrive/MyDrive/1_All_Computations/BV_OD_Fovea_augment_2/files_demo_he/IDRiD_098.png\n",
            " saving result /content/gdrive/MyDrive/1_All_Computations/BV_OD_Fovea_augment_2/files_demo_ex/IDRiD_098.png\n"
          ]
        },
        {
          "output_type": "stream",
          "name": "stderr",
          "text": [
            "\r 95%|█████████▌| 98/103 [04:48<00:16,  3.29s/it]"
          ]
        },
        {
          "output_type": "stream",
          "name": "stdout",
          "text": [
            "IDRiD_099\n",
            "255 1.0\n",
            " saving result /content/gdrive/MyDrive/1_All_Computations/BV_OD_Fovea_augment_2/files_demo_od/IDRiD_099.png\n",
            " saving result /content/gdrive/MyDrive/1_All_Computations/BV_OD_Fovea_augment_2/files_demo_he/IDRiD_099.png\n",
            " saving result /content/gdrive/MyDrive/1_All_Computations/BV_OD_Fovea_augment_2/files_demo_ex/IDRiD_099.png\n"
          ]
        },
        {
          "output_type": "stream",
          "name": "stderr",
          "text": [
            "\r 96%|█████████▌| 99/103 [04:52<00:13,  3.44s/it]"
          ]
        },
        {
          "output_type": "stream",
          "name": "stdout",
          "text": [
            "IDRiD_100\n",
            "255 1.0\n",
            " saving result /content/gdrive/MyDrive/1_All_Computations/BV_OD_Fovea_augment_2/files_demo_od/IDRiD_100.png\n",
            " saving result /content/gdrive/MyDrive/1_All_Computations/BV_OD_Fovea_augment_2/files_demo_he/IDRiD_100.png\n",
            " saving result /content/gdrive/MyDrive/1_All_Computations/BV_OD_Fovea_augment_2/files_demo_ex/IDRiD_100.png\n"
          ]
        },
        {
          "output_type": "stream",
          "name": "stderr",
          "text": [
            "\r 97%|█████████▋| 100/103 [04:55<00:10,  3.53s/it]"
          ]
        },
        {
          "output_type": "stream",
          "name": "stdout",
          "text": [
            "IDRiD_101\n",
            "255 1.0\n",
            " saving result /content/gdrive/MyDrive/1_All_Computations/BV_OD_Fovea_augment_2/files_demo_od/IDRiD_101.png\n",
            " saving result /content/gdrive/MyDrive/1_All_Computations/BV_OD_Fovea_augment_2/files_demo_he/IDRiD_101.png\n",
            " saving result /content/gdrive/MyDrive/1_All_Computations/BV_OD_Fovea_augment_2/files_demo_ex/IDRiD_101.png\n"
          ]
        },
        {
          "output_type": "stream",
          "name": "stderr",
          "text": [
            "\r 98%|█████████▊| 101/103 [04:59<00:07,  3.62s/it]"
          ]
        },
        {
          "output_type": "stream",
          "name": "stdout",
          "text": [
            "IDRiD_102\n",
            "255 1.0\n",
            " saving result /content/gdrive/MyDrive/1_All_Computations/BV_OD_Fovea_augment_2/files_demo_od/IDRiD_102.png\n",
            " saving result /content/gdrive/MyDrive/1_All_Computations/BV_OD_Fovea_augment_2/files_demo_he/IDRiD_102.png\n",
            " saving result /content/gdrive/MyDrive/1_All_Computations/BV_OD_Fovea_augment_2/files_demo_ex/IDRiD_102.png\n"
          ]
        },
        {
          "output_type": "stream",
          "name": "stderr",
          "text": [
            "\r 99%|█████████▉| 102/103 [05:03<00:03,  3.54s/it]"
          ]
        },
        {
          "output_type": "stream",
          "name": "stdout",
          "text": [
            "IDRiD_103\n",
            "255 1.0\n",
            " saving result /content/gdrive/MyDrive/1_All_Computations/BV_OD_Fovea_augment_2/files_demo_od/IDRiD_103.png\n",
            " saving result /content/gdrive/MyDrive/1_All_Computations/BV_OD_Fovea_augment_2/files_demo_he/IDRiD_103.png\n",
            " saving result /content/gdrive/MyDrive/1_All_Computations/BV_OD_Fovea_augment_2/files_demo_ex/IDRiD_103.png\n"
          ]
        },
        {
          "output_type": "stream",
          "name": "stderr",
          "text": [
            "100%|██████████| 103/103 [05:06<00:00,  2.97s/it]\n"
          ]
        },
        {
          "output_type": "stream",
          "name": "stdout",
          "text": [
            "\n",
            "\n",
            "****** BV Metrics ******\n",
            "Accuracy: 0.98815\n",
            "F1: 0.88483 (dice score)\n",
            "AUC: 0.88483 (Auc score)\n",
            "Jaccard: 0.79434\n",
            "Recall: 0.92769\n",
            "Precision: 0.84666\n",
            "\n",
            "\n",
            "****** OD Metrics ******\n",
            "Accuracy: 0.99862\n",
            "F1: 0.92862 (dice score)\n",
            "AUC: 0.92862 (Auc score)\n",
            "Jaccard: 0.87618\n",
            "Recall: 0.94134\n",
            "Precision: 0.91886\n",
            "\n",
            "\n",
            "****** Fovea Metrics ******\n",
            "Accuracy: 0.99887\n",
            "F1: 0.71210 (dice score)\n",
            "AUC: 0.71210 (Auc score)\n",
            "Jaccard: 0.62007\n",
            "Recall: 0.71201\n",
            "Precision: 0.84666\n",
            "\n",
            "\n"
          ]
        }
      ]
    },
    {
      "cell_type": "code",
      "source": [
        "import matplotlib.pyplot as plt\n",
        "\n",
        "# Create ROC curve for Blood Vessels\n",
        "# plt.plot(fpr_bv, tpr_bv)\n",
        "plt.figure(figsize=(10, 8))\n",
        "plt.plot(fpr_bv, tpr_bv, label=f\"AUC_ROC={auc_bv:0.4f}\")\n",
        "plt.ylabel('True Positive Rate')\n",
        "plt.xlabel('False Positive Rate')\n",
        "#plt.title('ROC curve for Blood Vessels')\n",
        "plt.legend(loc=4)\n",
        "\n",
        "plt.rc('axes', labelsize=25)\n",
        "plt.rc('xtick', labelsize=25)\n",
        "plt.rc('ytick', labelsize=25)\n",
        "plt.savefig(\"roc_vb.pdf\", bbox_inches=\"tight\" )\n",
        "\n",
        "plt.show()"
      ],
      "metadata": {
        "id": "uFn2ObxHW0Gw",
        "colab": {
          "base_uri": "https://localhost:8080/",
          "height": 525
        },
        "outputId": "4a4c9c8f-9a38-4772-bf43-9b38a8189c5b"
      },
      "execution_count": null,
      "outputs": [
        {
          "output_type": "display_data",
          "data": {
            "text/plain": [
              "<Figure size 720x576 with 1 Axes>"
            ],
            "image/png": "[encoded data removed]"
          },
          "metadata": {
            "needs_background": "light"
          }
        }
      ]
    },
    {
      "cell_type": "code",
      "source": [
        "!ls -ltr"
      ],
      "metadata": {
        "colab": {
          "base_uri": "https://localhost:8080/"
        },
        "id": "fQqANZoPFKul",
        "outputId": "8aa4d799-dfa1-4947-e626-3fda185dac35"
      },
      "execution_count": null,
      "outputs": [
        {
          "output_type": "stream",
          "name": "stdout",
          "text": [
            "total 364517\n",
            "-rw------- 1 root root       775 May 14  2021 metrics.py\n",
            "-rw------- 1 root root     20550 Oct 20  2021 utils.py\n",
            "-rw------- 1 root root      3985 Dec 10  2021 tests.py\n",
            "-rw------- 1 root root 373119952 Dec 10  2021 new_data_augment.zip\n",
            "drwx------ 2 root root      4096 Dec 14  2021 files\n",
            "drwx------ 2 root root      4096 Dec 14  2021 logs\n",
            "drwx------ 2 root root      4096 Dec 21  2021 files_demo_bv\n",
            "drwx------ 2 root root      4096 Dec 21  2021 files_demo_fovea\n",
            "-rw------- 1 root root     58403 Jun 16 05:43 BV_OD_Fovea_Combined.ipynb\n",
            "drwx------ 2 root root      4096 Jun 16 12:06 __pycache__\n",
            "drwx------ 3 root root      4096 Jun 16 12:25 new_data_augment\n",
            "drwx------ 2 root root      4096 Jun 17 11:08 files_fovea_centers\n",
            "drwx------ 2 root root      4096 Jun 27 07:26 files_demo_od\n",
            "drwx------ 2 root root      4096 Jun 27 07:26 files_demo_he\n",
            "drwx------ 2 root root      4096 Jun 27 07:26 files_demo_ex\n",
            "-rw------- 1 root root     18674 Jun 27 07:35 roc_vb.pdf\n"
          ]
        }
      ]
    },
    {
      "cell_type": "code",
      "source": [
        "# Create ROC curve for Blood Vessels\n",
        "# plt.plot(fpr_bv, tpr_bv)\n",
        "plt.figure(figsize=(10, 8))\n",
        "\n",
        "plt.plot(fpr_od, tpr_od, label=\"AUC_ROC=\"+str(auc_od))\n",
        "plt.ylabel('True Positive Rate')\n",
        "plt.xlabel('False Positive Rate')\n",
        "# plt.title('ROC curve for Optic Disc')\n",
        "plt.legend(loc=4)\n",
        "\n",
        "plt.rc('axes', labelsize=25)\n",
        "plt.rc('xtick', labelsize=25)\n",
        "plt.rc('ytick', labelsize=25)\n",
        "plt.savefig(\"roc_od.pdf\", bbox_inches=\"tight\" )\n",
        "\n",
        "\n",
        "plt.show()"
      ],
      "metadata": {
        "id": "UxwBIcYhXj8u",
        "colab": {
          "base_uri": "https://localhost:8080/",
          "height": 525
        },
        "outputId": "870f980f-2a5b-41cb-9969-90a9adf6943c"
      },
      "execution_count": null,
      "outputs": [
        {
          "output_type": "display_data",
          "data": {
            "text/plain": [
              "<Figure size 720x576 with 1 Axes>"
            ],
            "image/png": "[encoded data removed]"
          },
          "metadata": {
            "needs_background": "light"
          }
        }
      ]
    },
    {
      "cell_type": "code",
      "source": [
        "plt.figure(figsize=(10, 8))\n",
        "\n",
        "plt.plot(fpr_ex, tpr_ex, label=\"AUC_ROC=\"+str(auc_ex))\n",
        "plt.ylabel('True Positive Rate')\n",
        "plt.xlabel('False Positive Rate')\n",
        "plt.title('ROC curve for Exudates')\n",
        "plt.legend(loc=4)\n",
        "plt.rc('axes', labelsize=25)\n",
        "plt.rc('xtick', labelsize=25)\n",
        "plt.rc('ytick', labelsize=25)\n",
        "plt.savefig(\"roc_exudates.pdf\", bbox_inches=\"tight\" )\n",
        "\n",
        "plt.show()"
      ],
      "metadata": {
        "colab": {
          "base_uri": "https://localhost:8080/",
          "height": 541
        },
        "id": "tM6dybasYN63",
        "outputId": "4d90d06b-9998-4c09-f3fe-248f8a1ca22a"
      },
      "execution_count": null,
      "outputs": [
        {
          "output_type": "display_data",
          "data": {
            "text/plain": [
              "<Figure size 720x576 with 1 Axes>"
            ],
            "image/png": "[encoded data removed]"
          },
          "metadata": {
            "needs_background": "light"
          }
        }
      ]
    },
    {
      "cell_type": "code",
      "source": [
        "# Create ROC curve for Blood Vessels\n",
        "# plt.plot(fpr_bv, tpr_bv)\n",
        "plt.figure(figsize=(10, 8))\n",
        "\n",
        "plt.plot(fpr_fovea, tpr_fovea, label=\"AUC_ROC=\"+str(auc_fovea))\n",
        "plt.ylabel('True Positive Rate')\n",
        "plt.xlabel('False Positive Rate')\n",
        "plt.title('ROC curve for Fovea')\n",
        "plt.legend(loc=4)\n",
        "plt.rc('axes', labelsize=25)\n",
        "plt.rc('xtick', labelsize=25)\n",
        "plt.rc('ytick', labelsize=25)\n",
        "plt.savefig(\"roc_fovea.pdf\", bbox_inches=\"tight\" )\n",
        "plt.show()"
      ],
      "metadata": {
        "id": "tVTVp7O5Xe8e",
        "colab": {
          "base_uri": "https://localhost:8080/",
          "height": 541
        },
        "outputId": "194bf45c-3e4f-4abe-b702-7b6e639accc9"
      },
      "execution_count": null,
      "outputs": [
        {
          "output_type": "display_data",
          "data": {
            "text/plain": [
              "<Figure size 720x576 with 1 Axes>"
            ],
            "image/png": "[encoded data removed]"
          },
          "metadata": {
            "needs_background": "light"
          }
        }
      ]
    },
    {
      "cell_type": "code",
      "source": [
        "# Create ROC curve for Blood Vessels\n",
        "# plt.plot(fpr_bv, tpr_bv)\n",
        "plt.figure(figsize=(10, 8))\n",
        "\n",
        "plt.plot(fpr_bv, tpr_bv, label=f'BV={auc_bv:.4f}')\n",
        "plt.plot(fpr_od, tpr_od, label=f'OD={auc_od:.4f}')\n",
        "plt.plot(fpr_ex, tpr_ex, label=f'EX={auc_ex:.4f}')\n",
        "plt.plot(fpr_fovea, tpr_fovea, label=f'Fov={auc_fovea:.4f}')\n",
        "plt.ylabel('True Positive Rate')\n",
        "plt.xlabel('False Positive Rate')\n",
        "#plt.title('ROC curve')\n",
        "plt.legend(loc=4)\n",
        "plt.rc('axes', labelsize=25)\n",
        "plt.rc('xtick', labelsize=25)\n",
        "plt.rc('ytick', labelsize=25)\n",
        "plt.savefig(\"roc_all.pdf\", bbox_inches=\"tight\" )\n",
        "plt.show()"
      ],
      "metadata": {
        "colab": {
          "base_uri": "https://localhost:8080/",
          "height": 525
        },
        "id": "LkDc-plVbFY7",
        "outputId": "cd201823-cd53-49aa-a150-c3eb3193d241"
      },
      "execution_count": null,
      "outputs": [
        {
          "output_type": "display_data",
          "data": {
            "text/plain": [
              "<Figure size 720x576 with 1 Axes>"
            ],
            "image/png": "[encoded data removed]"
          },
          "metadata": {
            "needs_background": "light"
          }
        }
      ]
    },
    {
      "cell_type": "markdown",
      "source": [
        "# Compute Distance from gnd center point to predicted center point for fovea."
      ],
      "metadata": {
        "id": "yzM0-sBQ8s2a"
      }
    },
    {
      "cell_type": "code",
      "source": [
        "# # GT = (x1, y1)\n",
        "# # Prediction = (x2, y2)\n",
        "# # Houghtransform - circles \n",
        "# predicted_fovea_features_dict = dict()\n",
        "# for image each predicted_image:\n",
        "#     radius, center = cv2.hough_transform(circle)\n",
        "#     predicted_fovea_features_dict[\"Filename\"] = \n",
        "#     predicted_fovea_features_dict[\"radius\"] = radius\n",
        "#     predicted_fovea_features_dict[\"predicted_center_x\"]\n",
        "#     predicted_fovea_features_dict[\"predicted_center_y\"]\n",
        "#     predicted_fovea_features_dict[\"gt_center_x\"]\n",
        "#     predicted_fovea_features_dict[\"gt_center_y\"]\n",
        "#     predicted_fovea_features_dict[\"distance\"]\n",
        "\n",
        "# predicted_fovea_features_df = pd.DataFrame(predicted_fovea_features_dict)\n",
        "\n",
        "    \n"
      ],
      "metadata": {
        "id": "EcWfbwgkc7-V"
      },
      "execution_count": null,
      "outputs": []
    },
    {
      "cell_type": "code",
      "source": [
        "!ls"
      ],
      "metadata": {
        "colab": {
          "base_uri": "https://localhost:8080/"
        },
        "id": "dobTyuRyGoQC",
        "outputId": "b1c70fb8-7767-4c8c-e0ed-979b5ce17277"
      },
      "execution_count": null,
      "outputs": [
        {
          "output_type": "stream",
          "name": "stdout",
          "text": [
            "BV_OD_Fovea_Combined.ipynb  files_fovea_centers   roc_exudates.pdf\n",
            "files\t\t\t    logs\t\t  roc_fovea.pdf\n",
            "files_demo_bv\t\t    metrics.py\t\t  roc_od.pdf\n",
            "files_demo_ex\t\t    new_data_augment\t  roc_vb.pdf\n",
            "files_demo_fovea\t    new_data_augment.zip  tests.py\n",
            "files_demo_he\t\t    __pycache__\t\t  utils.py\n",
            "files_demo_od\t\t    roc_all.pdf\n"
          ]
        }
      ]
    },
    {
      "cell_type": "code",
      "source": [
        "!ls -ltr"
      ],
      "metadata": {
        "colab": {
          "base_uri": "https://localhost:8080/"
        },
        "id": "le2kpUzxGoz4",
        "outputId": "52c1b767-c013-4a07-ce91-0829553d8d94"
      },
      "execution_count": null,
      "outputs": [
        {
          "output_type": "stream",
          "name": "stdout",
          "text": [
            "total 364623\n",
            "-rw------- 1 root root       775 May 14  2021 metrics.py\n",
            "-rw------- 1 root root     20550 Oct 20  2021 utils.py\n",
            "-rw------- 1 root root      3985 Dec 10  2021 tests.py\n",
            "-rw------- 1 root root 373119952 Dec 10  2021 new_data_augment.zip\n",
            "drwx------ 2 root root      4096 Dec 14  2021 files\n",
            "drwx------ 2 root root      4096 Dec 14  2021 logs\n",
            "drwx------ 2 root root      4096 Dec 21  2021 files_demo_bv\n",
            "drwx------ 2 root root      4096 Dec 21  2021 files_demo_fovea\n",
            "-rw------- 1 root root     58403 Jun 16 05:43 BV_OD_Fovea_Combined.ipynb\n",
            "drwx------ 2 root root      4096 Jun 16 12:06 __pycache__\n",
            "drwx------ 3 root root      4096 Jun 16 12:25 new_data_augment\n",
            "drwx------ 2 root root      4096 Jun 17 11:08 files_fovea_centers\n",
            "drwx------ 2 root root      4096 Jun 27 07:26 files_demo_od\n",
            "drwx------ 2 root root      4096 Jun 27 07:26 files_demo_he\n",
            "drwx------ 2 root root      4096 Jun 27 07:26 files_demo_ex\n",
            "-rw------- 1 root root     18674 Jun 27 07:35 roc_vb.pdf\n",
            "-rw------- 1 root root     12725 Jun 27 07:37 roc_od.pdf\n",
            "-rw------- 1 root root     14053 Jun 27 07:38 roc_exudates.pdf\n",
            "-rw------- 1 root root     37305 Jun 27 07:39 roc_fovea.pdf\n",
            "-rw------- 1 root root     44512 Jun 27 07:39 roc_all.pdf\n"
          ]
        }
      ]
    },
    {
      "cell_type": "code",
      "source": [
        "!pwd"
      ],
      "metadata": {
        "colab": {
          "base_uri": "https://localhost:8080/"
        },
        "id": "mLk2HYgIGwMn",
        "outputId": "0e8bc17c-95d1-4c09-e2a7-e8a71c1fd039"
      },
      "execution_count": null,
      "outputs": [
        {
          "output_type": "stream",
          "name": "stdout",
          "text": [
            "/content/gdrive/MyDrive/1_All_Computations/BV_OD_Fovea_augment\n"
          ]
        }
      ]
    },
    {
      "cell_type": "code",
      "source": [
        ""
      ],
      "metadata": {
        "id": "WIjRQVV4MZWC"
      },
      "execution_count": null,
      "outputs": []
    }
  ],
  "metadata": {
    "accelerator": "GPU",
    "colab": {
      "background_execution": "on",
      "collapsed_sections": [],
      "machine_shape": "hm",
      "name": "ROC_AUC_ALL.ipynb",
      "provenance": []
    },
    "kernelspec": {
      "display_name": "Python 3",
      "name": "python3"
    },
    "language_info": {
      "name": "python"
    }
  },
  "nbformat": 4,
  "nbformat_minor": 0
}