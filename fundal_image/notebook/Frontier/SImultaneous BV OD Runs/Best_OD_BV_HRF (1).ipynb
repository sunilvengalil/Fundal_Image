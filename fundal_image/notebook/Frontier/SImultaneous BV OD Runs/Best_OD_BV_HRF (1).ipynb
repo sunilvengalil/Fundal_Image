{
  "cells": [
    {
      "cell_type": "markdown",
      "metadata": {
        "id": "ZIUz94YO5Y0x"
      },
      "source": [
        "### Import the required libraries and modules:"
      ]
    },
    {
      "cell_type": "code",
      "execution_count": null,
      "metadata": {
        "id": "RN5vXWIK27Lr"
      },
      "outputs": [],
      "source": [
        "import tensorflow as tf\n",
        "from tensorflow.keras.layers import Conv2D, BatchNormalization, Activation, MaxPool2D, Conv2DTranspose, Concatenate, Input\n",
        "from tensorflow.keras.models import Model\n",
        "from tensorflow.keras import backend as K\n",
        "import os\n",
        "os.environ[\"TF_CPP_MIN_LOG_LEVEL\"] = \"2\"\n",
        "import numpy as np\n",
        "import cv2\n",
        "from glob import glob\n",
        "from sklearn.utils import shuffle\n",
        "import tensorflow as tf\n",
        "from tensorflow.keras.callbacks import ModelCheckpoint, CSVLogger, ReduceLROnPlateau, EarlyStopping, TensorBoard\n",
        "from tensorflow.keras.optimizers import Adam\n",
        "from tensorflow.keras.metrics import Recall, Precision\n",
        "import numpy as np"
      ]
    },
    {
      "cell_type": "code",
      "execution_count": null,
      "metadata": {
        "colab": {
          "base_uri": "https://localhost:8080/"
        },
        "id": "rx3CS_MbV06K",
        "outputId": "0fd01607-a484-4cc7-d559-9fd15f9b3597"
      },
      "outputs": [
        {
          "output_type": "stream",
          "name": "stdout",
          "text": [
            "Mounted at /content/gdrive\n",
            "/content/gdrive/MyDrive/Blood_Vessel_Results/ALL_BEST_RESULTS/BV_OD_HRF_Full\n"
          ]
        }
      ],
      "source": [
        "from google.colab import drive\n",
        "drive.mount(\"/content/gdrive\", force_remount=True)\n",
        "%cd /content/gdrive/MyDrive/Blood_Vessel_Results/ALL_BEST_RESULTS/BV_OD_HRF_Full"
      ]
    },
    {
      "cell_type": "markdown",
      "metadata": {
        "id": "MQcINXFE59yv"
      },
      "source": [
        "### Unzip the data:"
      ]
    },
    {
      "cell_type": "code",
      "execution_count": null,
      "metadata": {
        "id": "mA5voGSj58wH"
      },
      "outputs": [],
      "source": [
        "# !unzip new_data.zip"
      ]
    },
    {
      "cell_type": "markdown",
      "metadata": {
        "id": "_WctlpFt6hx4"
      },
      "source": [
        "### Construct the Model:"
      ]
    },
    {
      "cell_type": "code",
      "execution_count": null,
      "metadata": {
        "colab": {
          "base_uri": "https://localhost:8080/"
        },
        "id": "epeNiZGQ5gSW",
        "outputId": "f230349c-1ba1-4b7d-f2d9-06d3439ac5e0"
      },
      "outputs": [
        {
          "output_type": "stream",
          "name": "stdout",
          "text": [
            "Model: \"UNET\"\n",
            "__________________________________________________________________________________________________\n",
            " Layer (type)                   Output Shape         Param #     Connected to                     \n",
            "==================================================================================================\n",
            " input_1 (InputLayer)           [(None, 512, 512, 3  0           []                               \n",
            "                                )]                                                                \n",
            "                                                                                                  \n",
            " conv2d (Conv2D)                (None, 512, 512, 64  1792        ['input_1[0][0]']                \n",
            "                                )                                                                 \n",
            "                                                                                                  \n",
            " batch_normalization (BatchNorm  (None, 512, 512, 64  256        ['conv2d[0][0]']                 \n",
            " alization)                     )                                                                 \n",
            "                                                                                                  \n",
            " activation (Activation)        (None, 512, 512, 64  0           ['batch_normalization[0][0]']    \n",
            "                                )                                                                 \n",
            "                                                                                                  \n",
            " conv2d_1 (Conv2D)              (None, 512, 512, 64  36928       ['activation[0][0]']             \n",
            "                                )                                                                 \n",
            "                                                                                                  \n",
            " batch_normalization_1 (BatchNo  (None, 512, 512, 64  256        ['conv2d_1[0][0]']               \n",
            " rmalization)                   )                                                                 \n",
            "                                                                                                  \n",
            " activation_1 (Activation)      (None, 512, 512, 64  0           ['batch_normalization_1[0][0]']  \n",
            "                                )                                                                 \n",
            "                                                                                                  \n",
            " max_pooling2d (MaxPooling2D)   (None, 256, 256, 64  0           ['activation_1[0][0]']           \n",
            "                                )                                                                 \n",
            "                                                                                                  \n",
            " conv2d_2 (Conv2D)              (None, 256, 256, 12  73856       ['max_pooling2d[0][0]']          \n",
            "                                8)                                                                \n",
            "                                                                                                  \n",
            " batch_normalization_2 (BatchNo  (None, 256, 256, 12  512        ['conv2d_2[0][0]']               \n",
            " rmalization)                   8)                                                                \n",
            "                                                                                                  \n",
            " activation_2 (Activation)      (None, 256, 256, 12  0           ['batch_normalization_2[0][0]']  \n",
            "                                8)                                                                \n",
            "                                                                                                  \n",
            " conv2d_3 (Conv2D)              (None, 256, 256, 12  147584      ['activation_2[0][0]']           \n",
            "                                8)                                                                \n",
            "                                                                                                  \n",
            " batch_normalization_3 (BatchNo  (None, 256, 256, 12  512        ['conv2d_3[0][0]']               \n",
            " rmalization)                   8)                                                                \n",
            "                                                                                                  \n",
            " activation_3 (Activation)      (None, 256, 256, 12  0           ['batch_normalization_3[0][0]']  \n",
            "                                8)                                                                \n",
            "                                                                                                  \n",
            " max_pooling2d_1 (MaxPooling2D)  (None, 128, 128, 12  0          ['activation_3[0][0]']           \n",
            "                                8)                                                                \n",
            "                                                                                                  \n",
            " conv2d_4 (Conv2D)              (None, 128, 128, 25  295168      ['max_pooling2d_1[0][0]']        \n",
            "                                6)                                                                \n",
            "                                                                                                  \n",
            " batch_normalization_4 (BatchNo  (None, 128, 128, 25  1024       ['conv2d_4[0][0]']               \n",
            " rmalization)                   6)                                                                \n",
            "                                                                                                  \n",
            " activation_4 (Activation)      (None, 128, 128, 25  0           ['batch_normalization_4[0][0]']  \n",
            "                                6)                                                                \n",
            "                                                                                                  \n",
            " conv2d_5 (Conv2D)              (None, 128, 128, 25  590080      ['activation_4[0][0]']           \n",
            "                                6)                                                                \n",
            "                                                                                                  \n",
            " batch_normalization_5 (BatchNo  (None, 128, 128, 25  1024       ['conv2d_5[0][0]']               \n",
            " rmalization)                   6)                                                                \n",
            "                                                                                                  \n",
            " activation_5 (Activation)      (None, 128, 128, 25  0           ['batch_normalization_5[0][0]']  \n",
            "                                6)                                                                \n",
            "                                                                                                  \n",
            " max_pooling2d_2 (MaxPooling2D)  (None, 64, 64, 256)  0          ['activation_5[0][0]']           \n",
            "                                                                                                  \n",
            " conv2d_6 (Conv2D)              (None, 64, 64, 512)  1180160     ['max_pooling2d_2[0][0]']        \n",
            "                                                                                                  \n",
            " batch_normalization_6 (BatchNo  (None, 64, 64, 512)  2048       ['conv2d_6[0][0]']               \n",
            " rmalization)                                                                                     \n",
            "                                                                                                  \n",
            " activation_6 (Activation)      (None, 64, 64, 512)  0           ['batch_normalization_6[0][0]']  \n",
            "                                                                                                  \n",
            " conv2d_7 (Conv2D)              (None, 64, 64, 512)  2359808     ['activation_6[0][0]']           \n",
            "                                                                                                  \n",
            " batch_normalization_7 (BatchNo  (None, 64, 64, 512)  2048       ['conv2d_7[0][0]']               \n",
            " rmalization)                                                                                     \n",
            "                                                                                                  \n",
            " activation_7 (Activation)      (None, 64, 64, 512)  0           ['batch_normalization_7[0][0]']  \n",
            "                                                                                                  \n",
            " max_pooling2d_3 (MaxPooling2D)  (None, 32, 32, 512)  0          ['activation_7[0][0]']           \n",
            "                                                                                                  \n",
            " conv2d_8 (Conv2D)              (None, 32, 32, 1024  4719616     ['max_pooling2d_3[0][0]']        \n",
            "                                )                                                                 \n",
            "                                                                                                  \n",
            " batch_normalization_8 (BatchNo  (None, 32, 32, 1024  4096       ['conv2d_8[0][0]']               \n",
            " rmalization)                   )                                                                 \n",
            "                                                                                                  \n",
            " activation_8 (Activation)      (None, 32, 32, 1024  0           ['batch_normalization_8[0][0]']  \n",
            "                                )                                                                 \n",
            "                                                                                                  \n",
            " conv2d_9 (Conv2D)              (None, 32, 32, 1024  9438208     ['activation_8[0][0]']           \n",
            "                                )                                                                 \n",
            "                                                                                                  \n",
            " batch_normalization_9 (BatchNo  (None, 32, 32, 1024  4096       ['conv2d_9[0][0]']               \n",
            " rmalization)                   )                                                                 \n",
            "                                                                                                  \n",
            " activation_9 (Activation)      (None, 32, 32, 1024  0           ['batch_normalization_9[0][0]']  \n",
            "                                )                                                                 \n",
            "                                                                                                  \n",
            " conv2d_transpose (Conv2DTransp  (None, 64, 64, 512)  2097664    ['activation_9[0][0]']           \n",
            " ose)                                                                                             \n",
            "                                                                                                  \n",
            " concatenate (Concatenate)      (None, 64, 64, 1024  0           ['conv2d_transpose[0][0]',       \n",
            "                                )                                 'activation_7[0][0]']           \n",
            "                                                                                                  \n",
            " conv2d_10 (Conv2D)             (None, 64, 64, 512)  4719104     ['concatenate[0][0]']            \n",
            "                                                                                                  \n",
            " batch_normalization_10 (BatchN  (None, 64, 64, 512)  2048       ['conv2d_10[0][0]']              \n",
            " ormalization)                                                                                    \n",
            "                                                                                                  \n",
            " activation_10 (Activation)     (None, 64, 64, 512)  0           ['batch_normalization_10[0][0]'] \n",
            "                                                                                                  \n",
            " conv2d_11 (Conv2D)             (None, 64, 64, 512)  2359808     ['activation_10[0][0]']          \n",
            "                                                                                                  \n",
            " batch_normalization_11 (BatchN  (None, 64, 64, 512)  2048       ['conv2d_11[0][0]']              \n",
            " ormalization)                                                                                    \n",
            "                                                                                                  \n",
            " activation_11 (Activation)     (None, 64, 64, 512)  0           ['batch_normalization_11[0][0]'] \n",
            "                                                                                                  \n",
            " conv2d_transpose_1 (Conv2DTran  (None, 128, 128, 25  524544     ['activation_11[0][0]']          \n",
            " spose)                         6)                                                                \n",
            "                                                                                                  \n",
            " concatenate_1 (Concatenate)    (None, 128, 128, 51  0           ['conv2d_transpose_1[0][0]',     \n",
            "                                2)                                'activation_5[0][0]']           \n",
            "                                                                                                  \n",
            " conv2d_12 (Conv2D)             (None, 128, 128, 25  1179904     ['concatenate_1[0][0]']          \n",
            "                                6)                                                                \n",
            "                                                                                                  \n",
            " batch_normalization_12 (BatchN  (None, 128, 128, 25  1024       ['conv2d_12[0][0]']              \n",
            " ormalization)                  6)                                                                \n",
            "                                                                                                  \n",
            " activation_12 (Activation)     (None, 128, 128, 25  0           ['batch_normalization_12[0][0]'] \n",
            "                                6)                                                                \n",
            "                                                                                                  \n",
            " conv2d_13 (Conv2D)             (None, 128, 128, 25  590080      ['activation_12[0][0]']          \n",
            "                                6)                                                                \n",
            "                                                                                                  \n",
            " batch_normalization_13 (BatchN  (None, 128, 128, 25  1024       ['conv2d_13[0][0]']              \n",
            " ormalization)                  6)                                                                \n",
            "                                                                                                  \n",
            " activation_13 (Activation)     (None, 128, 128, 25  0           ['batch_normalization_13[0][0]'] \n",
            "                                6)                                                                \n",
            "                                                                                                  \n",
            " conv2d_transpose_2 (Conv2DTran  (None, 256, 256, 12  131200     ['activation_13[0][0]']          \n",
            " spose)                         8)                                                                \n",
            "                                                                                                  \n",
            " concatenate_2 (Concatenate)    (None, 256, 256, 25  0           ['conv2d_transpose_2[0][0]',     \n",
            "                                6)                                'activation_3[0][0]']           \n",
            "                                                                                                  \n",
            " conv2d_14 (Conv2D)             (None, 256, 256, 12  295040      ['concatenate_2[0][0]']          \n",
            "                                8)                                                                \n",
            "                                                                                                  \n",
            " batch_normalization_14 (BatchN  (None, 256, 256, 12  512        ['conv2d_14[0][0]']              \n",
            " ormalization)                  8)                                                                \n",
            "                                                                                                  \n",
            " activation_14 (Activation)     (None, 256, 256, 12  0           ['batch_normalization_14[0][0]'] \n",
            "                                8)                                                                \n",
            "                                                                                                  \n",
            " conv2d_15 (Conv2D)             (None, 256, 256, 12  147584      ['activation_14[0][0]']          \n",
            "                                8)                                                                \n",
            "                                                                                                  \n",
            " batch_normalization_15 (BatchN  (None, 256, 256, 12  512        ['conv2d_15[0][0]']              \n",
            " ormalization)                  8)                                                                \n",
            "                                                                                                  \n",
            " activation_15 (Activation)     (None, 256, 256, 12  0           ['batch_normalization_15[0][0]'] \n",
            "                                8)                                                                \n",
            "                                                                                                  \n",
            " conv2d_transpose_3 (Conv2DTran  (None, 512, 512, 64  32832      ['activation_15[0][0]']          \n",
            " spose)                         )                                                                 \n",
            "                                                                                                  \n",
            " concatenate_3 (Concatenate)    (None, 512, 512, 12  0           ['conv2d_transpose_3[0][0]',     \n",
            "                                8)                                'activation_1[0][0]']           \n",
            "                                                                                                  \n",
            " conv2d_16 (Conv2D)             (None, 512, 512, 64  73792       ['concatenate_3[0][0]']          \n",
            "                                )                                                                 \n",
            "                                                                                                  \n",
            " batch_normalization_16 (BatchN  (None, 512, 512, 64  256        ['conv2d_16[0][0]']              \n",
            " ormalization)                  )                                                                 \n",
            "                                                                                                  \n",
            " activation_16 (Activation)     (None, 512, 512, 64  0           ['batch_normalization_16[0][0]'] \n",
            "                                )                                                                 \n",
            "                                                                                                  \n",
            " conv2d_17 (Conv2D)             (None, 512, 512, 64  36928       ['activation_16[0][0]']          \n",
            "                                )                                                                 \n",
            "                                                                                                  \n",
            " batch_normalization_17 (BatchN  (None, 512, 512, 64  256        ['conv2d_17[0][0]']              \n",
            " ormalization)                  )                                                                 \n",
            "                                                                                                  \n",
            " activation_17 (Activation)     (None, 512, 512, 64  0           ['batch_normalization_17[0][0]'] \n",
            "                                )                                                                 \n",
            "                                                                                                  \n",
            " conv2d_18 (Conv2D)             (None, 512, 512, 2)  130         ['activation_17[0][0]']          \n",
            "                                                                                                  \n",
            "==================================================================================================\n",
            "Total params: 31,055,362\n",
            "Trainable params: 31,043,586\n",
            "Non-trainable params: 11,776\n",
            "__________________________________________________________________________________________________\n"
          ]
        }
      ],
      "source": [
        "def conv_block(inputs, num_filters):\n",
        "    x = Conv2D(num_filters, 3, padding=\"same\")(inputs)\n",
        "    x = BatchNormalization()(x)\n",
        "    x = Activation(\"relu\")(x)\n",
        "\n",
        "    x = Conv2D(num_filters, 3, padding=\"same\")(x)\n",
        "    x = BatchNormalization()(x)\n",
        "    x = Activation(\"relu\")(x)\n",
        "\n",
        "    return x\n",
        "\n",
        "def encoder_block(inputs, num_filters):\n",
        "    x = conv_block(inputs, num_filters)\n",
        "    p = MaxPool2D((2, 2))(x)\n",
        "    return x, p\n",
        "\n",
        "def decoder_block(inputs, skip_features, num_filters):\n",
        "    x = Conv2DTranspose(num_filters, (2, 2), strides=2, padding=\"same\")(inputs)\n",
        "    x = Concatenate()([x, skip_features])\n",
        "    x = conv_block(x, num_filters)\n",
        "    return x\n",
        "\n",
        "def build_unet(input_shape):\n",
        "    inputs = Input(input_shape)\n",
        "\n",
        "    s1, p1 = encoder_block(inputs, 64)\n",
        "    s2, p2 = encoder_block(p1, 128)\n",
        "    s3, p3 = encoder_block(p2, 256)\n",
        "    s4, p4 = encoder_block(p3, 512)\n",
        "\n",
        "    b1 = conv_block(p4, 1024)\n",
        "\n",
        "    d1 = decoder_block(b1, s4, 512)\n",
        "    d2 = decoder_block(d1, s3, 256)\n",
        "    d3 = decoder_block(d2, s2, 128)\n",
        "    d4 = decoder_block(d3, s1, 64)\n",
        "\n",
        "    outputs = Conv2D(2, 1, padding=\"same\", activation=\"sigmoid\")(d4)\n",
        "\n",
        "    model = Model(inputs, outputs, name=\"UNET\")\n",
        "    return model\n",
        "\n",
        "input_shape = (512, 512, 3)\n",
        "model = build_unet(input_shape)\n",
        "model.summary()"
      ]
    },
    {
      "cell_type": "markdown",
      "metadata": {
        "id": "TWKUCE3_6vBv"
      },
      "source": [
        "### Adding the Metrics:"
      ]
    },
    {
      "cell_type": "code",
      "execution_count": null,
      "metadata": {
        "id": "s5HXET5Z6uZX"
      },
      "outputs": [],
      "source": [
        "def iou(y_true, y_pred):\n",
        "    def f(y_true, y_pred):\n",
        "        intersection = (y_true * y_pred).sum()\n",
        "        union = y_true.sum() + y_pred.sum() - intersection\n",
        "        x = (intersection + 1e-15) / (union + 1e-15)\n",
        "        x = x.astype(np.float32)\n",
        "        return x\n",
        "    return tf.numpy_function(f, [y_true, y_pred], tf.float32)\n",
        "\n",
        "smooth = 1e-15\n",
        "def dice_coef(y_true, y_pred):\n",
        "    y_true = tf.keras.layers.Flatten()(y_true)\n",
        "    y_pred = tf.keras.layers.Flatten()(y_pred)\n",
        "    intersection = tf.reduce_sum(y_true * y_pred)\n",
        "    return (2. * intersection + smooth) / (tf.reduce_sum(y_true) + tf.reduce_sum(y_pred) + smooth)\n",
        "\n",
        "def dice_loss(y_true, y_pred):\n",
        "    return 1.0 - dice_coef(y_true, y_pred)\n",
        "\n",
        "def DiceBCELoss(y_true, y_pred):\n",
        "\n",
        "    inputs = tf.keras.layers.Flatten()(y_true)\n",
        "    targets = tf.keras.layers.Flatten()(y_pred)\n",
        "\n",
        "    intersection = tf.reduce_sum(inputs * targets)\n",
        "    dice_loss = 1 - (2.*intersection + smooth)/(tf.reduce_sum(y_true) + tf.reduce_sum(y_pred) + smooth)\n",
        "    BCE = tf.keras.losses.BinaryCrossentropy()\n",
        "    Dice_BCE = BCE(inputs, targets) + dice_loss\n",
        "\n",
        "    return Dice_BCE"
      ]
    },
    {
      "cell_type": "markdown",
      "metadata": {
        "id": "fuGIkqEH65dX"
      },
      "source": [
        "### Training the Model:"
      ]
    },
    {
      "cell_type": "code",
      "execution_count": null,
      "metadata": {
        "id": "NNdxwX_-5udw"
      },
      "outputs": [],
      "source": [
        "W = 512\n",
        "H = 512\n",
        "\n",
        "def create_dir(path):\n",
        "    if not os.path.exists(path):\n",
        "        os.makedirs(path)\n",
        "\n",
        "def load_data(path):\n",
        "    x = sorted(glob(os.path.join(path, \"image\", \"*.png\")))\n",
        "    y = sorted(glob(os.path.join(path, \"mask\", \"*.png\")))\n",
        "    return x, y\n",
        "\n",
        "def shuffling(x, y):\n",
        "    x, y = shuffle(x, y, random_state=42)\n",
        "    return x, y\n",
        "\n",
        "def read_image(path):\n",
        "    path = path.decode()\n",
        "    x = cv2.imread(path, cv2.IMREAD_COLOR)\n",
        "    # x = cv2.resize(x, (W, H))\n",
        "    x = x/255.0\n",
        "    x = x.astype(np.float32)\n",
        "    return x\n",
        "\n",
        "def read_mask(path):\n",
        "    path = path.decode()\n",
        "    x = cv2.imread(path, cv2.IMREAD_COLOR)  ## (512, 512, 3)\n",
        "    # x = cv2.resize(x, (W, H))\n",
        "    x = x/255.0\n",
        "    x = x.astype(np.float32)\n",
        "    x = x[:,:,0:2] # Discard the last channel \n",
        "\n",
        "    return x\n",
        "\n",
        "def tf_parse(x, y):\n",
        "    def _parse(x, y):\n",
        "        x = read_image(x)\n",
        "        y = read_mask(y)\n",
        "        return x, y\n",
        "\n",
        "    x, y = tf.numpy_function(_parse, [x, y], [tf.float32, tf.float32])\n",
        "    x.set_shape([H, W, 3])\n",
        "    y.set_shape([H, W, 2])\n",
        "    return x, y\n",
        "\n",
        "def tf_dataset(X, Y, batch_size=2):\n",
        "    dataset = tf.data.Dataset.from_tensor_slices((X, Y))\n",
        "    dataset = dataset.map(tf_parse)\n",
        "    dataset = dataset.batch(batch_size)\n",
        "    dataset = dataset.prefetch(4)\n",
        "    return dataset"
      ]
    },
    {
      "cell_type": "code",
      "execution_count": null,
      "metadata": {
        "colab": {
          "base_uri": "https://localhost:8080/"
        },
        "id": "R9oxQCQo7Jnw",
        "outputId": "46777899-c479-44f9-8fa0-917a2ccbba2a"
      },
      "outputs": [
        {
          "output_type": "stream",
          "name": "stdout",
          "text": [
            "Train: 144 - 144\n",
            "Valid: 9 - 9\n",
            "Epoch 1/50\n",
            "72/72 [==============================] - ETA: 0s - loss: 1.2000 - dice_coef: 0.1781 - iou: 0.0985 - recall: 0.5953 - precision: 0.3358\n",
            "Epoch 00001: val_loss improved from inf to 1.75872, saving model to files_working/model.h5\n",
            "72/72 [==============================] - 164s 2s/step - loss: 1.2000 - dice_coef: 0.1781 - iou: 0.0985 - recall: 0.5953 - precision: 0.3358 - val_loss: 1.7587 - val_dice_coef: 0.0721 - val_iou: 0.0374 - val_recall: 0.1803 - val_precision: 0.0220 - lr: 1.0000e-04\n",
            "Epoch 2/50\n",
            "72/72 [==============================] - ETA: 0s - loss: 0.9597 - dice_coef: 0.2720 - iou: 0.1579 - recall: 0.6659 - precision: 0.7341\n",
            "Epoch 00002: val_loss improved from 1.75872 to 1.27314, saving model to files_working/model.h5\n",
            "72/72 [==============================] - 115s 2s/step - loss: 0.9597 - dice_coef: 0.2720 - iou: 0.1579 - recall: 0.6659 - precision: 0.7341 - val_loss: 1.2731 - val_dice_coef: 0.0759 - val_iou: 0.0394 - val_recall: 0.0000e+00 - val_precision: 0.0000e+00 - lr: 1.0000e-04\n",
            "Epoch 3/50\n",
            "72/72 [==============================] - ETA: 0s - loss: 0.8751 - dice_coef: 0.3189 - iou: 0.1902 - recall: 0.6912 - precision: 0.7746\n",
            "Epoch 00003: val_loss improved from 1.27314 to 1.16826, saving model to files_working/model.h5\n",
            "72/72 [==============================] - 120s 2s/step - loss: 0.8751 - dice_coef: 0.3189 - iou: 0.1902 - recall: 0.6912 - precision: 0.7746 - val_loss: 1.1683 - val_dice_coef: 0.0703 - val_iou: 0.0364 - val_recall: 0.0000e+00 - val_precision: 0.0000e+00 - lr: 1.0000e-04\n",
            "Epoch 4/50\n",
            "72/72 [==============================] - ETA: 0s - loss: 0.8106 - dice_coef: 0.3581 - iou: 0.2186 - recall: 0.6979 - precision: 0.8015\n",
            "Epoch 00004: val_loss improved from 1.16826 to 1.11735, saving model to files_working/model.h5\n",
            "72/72 [==============================] - 118s 2s/step - loss: 0.8106 - dice_coef: 0.3581 - iou: 0.2186 - recall: 0.6979 - precision: 0.8015 - val_loss: 1.1173 - val_dice_coef: 0.0769 - val_iou: 0.0400 - val_recall: 4.5831e-04 - val_precision: 0.7939 - lr: 1.0000e-04\n",
            "Epoch 5/50\n",
            "72/72 [==============================] - ETA: 0s - loss: 0.7555 - dice_coef: 0.3933 - iou: 0.2454 - recall: 0.7014 - precision: 0.8218\n",
            "Epoch 00005: val_loss improved from 1.11735 to 1.06575, saving model to files_working/model.h5\n",
            "72/72 [==============================] - 118s 2s/step - loss: 0.7555 - dice_coef: 0.3933 - iou: 0.2454 - recall: 0.7014 - precision: 0.8218 - val_loss: 1.0658 - val_dice_coef: 0.1051 - val_iou: 0.0555 - val_recall: 0.0244 - val_precision: 0.4583 - lr: 1.0000e-04\n",
            "Epoch 6/50\n",
            "72/72 [==============================] - ETA: 0s - loss: 0.7055 - dice_coef: 0.4280 - iou: 0.2729 - recall: 0.7032 - precision: 0.8368\n",
            "Epoch 00006: val_loss improved from 1.06575 to 0.94658, saving model to files_working/model.h5\n",
            "72/72 [==============================] - 116s 2s/step - loss: 0.7055 - dice_coef: 0.4280 - iou: 0.2729 - recall: 0.7032 - precision: 0.8368 - val_loss: 0.9466 - val_dice_coef: 0.2019 - val_iou: 0.1125 - val_recall: 0.1896 - val_precision: 0.7728 - lr: 1.0000e-04\n",
            "Epoch 7/50\n",
            "72/72 [==============================] - ETA: 0s - loss: 0.6587 - dice_coef: 0.4622 - iou: 0.3013 - recall: 0.7025 - precision: 0.8512\n",
            "Epoch 00007: val_loss improved from 0.94658 to 0.82671, saving model to files_working/model.h5\n",
            "72/72 [==============================] - 116s 2s/step - loss: 0.6587 - dice_coef: 0.4622 - iou: 0.3013 - recall: 0.7025 - precision: 0.8512 - val_loss: 0.8267 - val_dice_coef: 0.2993 - val_iou: 0.1763 - val_recall: 0.3576 - val_precision: 0.8855 - lr: 1.0000e-04\n",
            "Epoch 8/50\n",
            "72/72 [==============================] - ETA: 0s - loss: 0.6148 - dice_coef: 0.4948 - iou: 0.3295 - recall: 0.6999 - precision: 0.8642\n",
            "Epoch 00008: val_loss improved from 0.82671 to 0.70739, saving model to files_working/model.h5\n",
            "72/72 [==============================] - 116s 2s/step - loss: 0.6148 - dice_coef: 0.4948 - iou: 0.3295 - recall: 0.6999 - precision: 0.8642 - val_loss: 0.7074 - val_dice_coef: 0.3984 - val_iou: 0.2492 - val_recall: 0.4844 - val_precision: 0.9289 - lr: 1.0000e-04\n",
            "Epoch 9/50\n",
            "72/72 [==============================] - ETA: 0s - loss: 0.5754 - dice_coef: 0.5251 - iou: 0.3568 - recall: 0.6966 - precision: 0.8753\n",
            "Epoch 00009: val_loss improved from 0.70739 to 0.63051, saving model to files_working/model.h5\n",
            "72/72 [==============================] - 118s 2s/step - loss: 0.5754 - dice_coef: 0.5251 - iou: 0.3568 - recall: 0.6966 - precision: 0.8753 - val_loss: 0.6305 - val_dice_coef: 0.4644 - val_iou: 0.3029 - val_recall: 0.5549 - val_precision: 0.9175 - lr: 1.0000e-04\n",
            "Epoch 10/50\n",
            "72/72 [==============================] - ETA: 0s - loss: 0.5410 - dice_coef: 0.5523 - iou: 0.3823 - recall: 0.6921 - precision: 0.8841\n",
            "Epoch 00010: val_loss improved from 0.63051 to 0.58174, saving model to files_working/model.h5\n",
            "72/72 [==============================] - 115s 2s/step - loss: 0.5410 - dice_coef: 0.5523 - iou: 0.3823 - recall: 0.6921 - precision: 0.8841 - val_loss: 0.5817 - val_dice_coef: 0.5088 - val_iou: 0.3418 - val_recall: 0.6033 - val_precision: 0.8975 - lr: 1.0000e-04\n",
            "Epoch 11/50\n",
            "72/72 [==============================] - ETA: 0s - loss: 0.5109 - dice_coef: 0.5766 - iou: 0.4059 - recall: 0.6876 - precision: 0.8906\n",
            "Epoch 00011: val_loss improved from 0.58174 to 0.53828, saving model to files_working/model.h5\n",
            "72/72 [==============================] - 119s 2s/step - loss: 0.5109 - dice_coef: 0.5766 - iou: 0.4059 - recall: 0.6876 - precision: 0.8906 - val_loss: 0.5383 - val_dice_coef: 0.5483 - val_iou: 0.3783 - val_recall: 0.6342 - val_precision: 0.8863 - lr: 1.0000e-04\n",
            "Epoch 12/50\n",
            "72/72 [==============================] - ETA: 0s - loss: 0.4824 - dice_coef: 0.5999 - iou: 0.4293 - recall: 0.6850 - precision: 0.8985\n",
            "Epoch 00012: val_loss improved from 0.53828 to 0.51333, saving model to files_working/model.h5\n",
            "72/72 [==============================] - 119s 2s/step - loss: 0.4824 - dice_coef: 0.5999 - iou: 0.4293 - recall: 0.6850 - precision: 0.8985 - val_loss: 0.5133 - val_dice_coef: 0.5687 - val_iou: 0.3982 - val_recall: 0.6091 - val_precision: 0.9028 - lr: 1.0000e-04\n",
            "Epoch 13/50\n",
            "72/72 [==============================] - ETA: 0s - loss: 0.4585 - dice_coef: 0.6202 - iou: 0.4502 - recall: 0.6814 - precision: 0.9041\n",
            "Epoch 00013: val_loss improved from 0.51333 to 0.50181, saving model to files_working/model.h5\n",
            "72/72 [==============================] - 119s 2s/step - loss: 0.4585 - dice_coef: 0.6202 - iou: 0.4502 - recall: 0.6814 - precision: 0.9041 - val_loss: 0.5018 - val_dice_coef: 0.5806 - val_iou: 0.4099 - val_recall: 0.6039 - val_precision: 0.9022 - lr: 1.0000e-04\n",
            "Epoch 14/50\n",
            "72/72 [==============================] - ETA: 0s - loss: 0.4365 - dice_coef: 0.6392 - iou: 0.4704 - recall: 0.6802 - precision: 0.9089\n",
            "Epoch 00014: val_loss improved from 0.50181 to 0.47094, saving model to files_working/model.h5\n",
            "72/72 [==============================] - 116s 2s/step - loss: 0.4365 - dice_coef: 0.6392 - iou: 0.4704 - recall: 0.6802 - precision: 0.9089 - val_loss: 0.4709 - val_dice_coef: 0.6083 - val_iou: 0.4378 - val_recall: 0.6354 - val_precision: 0.8950 - lr: 1.0000e-04\n",
            "Epoch 15/50\n",
            "72/72 [==============================] - ETA: 0s - loss: 0.4167 - dice_coef: 0.6564 - iou: 0.4893 - recall: 0.6786 - precision: 0.9141\n",
            "Epoch 00015: val_loss improved from 0.47094 to 0.45394, saving model to files_working/model.h5\n",
            "72/72 [==============================] - 122s 2s/step - loss: 0.4167 - dice_coef: 0.6564 - iou: 0.4893 - recall: 0.6786 - precision: 0.9141 - val_loss: 0.4539 - val_dice_coef: 0.6232 - val_iou: 0.4533 - val_recall: 0.6307 - val_precision: 0.9015 - lr: 1.0000e-04\n",
            "Epoch 16/50\n",
            "72/72 [==============================] - ETA: 0s - loss: 0.4002 - dice_coef: 0.6708 - iou: 0.5054 - recall: 0.6768 - precision: 0.9182\n",
            "Epoch 00016: val_loss improved from 0.45394 to 0.44447, saving model to files_working/model.h5\n",
            "72/72 [==============================] - 120s 2s/step - loss: 0.4002 - dice_coef: 0.6708 - iou: 0.5054 - recall: 0.6768 - precision: 0.9182 - val_loss: 0.4445 - val_dice_coef: 0.6305 - val_iou: 0.4611 - val_recall: 0.6107 - val_precision: 0.9111 - lr: 1.0000e-04\n",
            "Epoch 17/50\n",
            "72/72 [==============================] - ETA: 0s - loss: 0.3868 - dice_coef: 0.6826 - iou: 0.5189 - recall: 0.6751 - precision: 0.9211\n",
            "Epoch 00017: val_loss improved from 0.44447 to 0.42399, saving model to files_working/model.h5\n",
            "72/72 [==============================] - 117s 2s/step - loss: 0.3868 - dice_coef: 0.6826 - iou: 0.5189 - recall: 0.6751 - precision: 0.9211 - val_loss: 0.4240 - val_dice_coef: 0.6510 - val_iou: 0.4832 - val_recall: 0.6305 - val_precision: 0.9034 - lr: 1.0000e-04\n",
            "Epoch 18/50\n",
            "72/72 [==============================] - ETA: 0s - loss: 0.3743 - dice_coef: 0.6937 - iou: 0.5317 - recall: 0.6735 - precision: 0.9243\n",
            "Epoch 00018: val_loss improved from 0.42399 to 0.41604, saving model to files_working/model.h5\n",
            "72/72 [==============================] - 119s 2s/step - loss: 0.3743 - dice_coef: 0.6937 - iou: 0.5317 - recall: 0.6735 - precision: 0.9243 - val_loss: 0.4160 - val_dice_coef: 0.6609 - val_iou: 0.4944 - val_recall: 0.6520 - val_precision: 0.8917 - lr: 1.0000e-04\n",
            "Epoch 19/50\n",
            "72/72 [==============================] - ETA: 0s - loss: 0.3629 - dice_coef: 0.7038 - iou: 0.5437 - recall: 0.6735 - precision: 0.9268\n",
            "Epoch 00019: val_loss improved from 0.41604 to 0.40763, saving model to files_working/model.h5\n",
            "72/72 [==============================] - 116s 2s/step - loss: 0.3629 - dice_coef: 0.7038 - iou: 0.5437 - recall: 0.6735 - precision: 0.9268 - val_loss: 0.4076 - val_dice_coef: 0.6670 - val_iou: 0.5012 - val_recall: 0.6318 - val_precision: 0.9029 - lr: 1.0000e-04\n",
            "Epoch 20/50\n",
            "72/72 [==============================] - ETA: 0s - loss: 0.3529 - dice_coef: 0.7128 - iou: 0.5544 - recall: 0.6730 - precision: 0.9295\n",
            "Epoch 00020: val_loss improved from 0.40763 to 0.38986, saving model to files_working/model.h5\n",
            "72/72 [==============================] - 116s 2s/step - loss: 0.3529 - dice_coef: 0.7128 - iou: 0.5544 - recall: 0.6730 - precision: 0.9295 - val_loss: 0.3899 - val_dice_coef: 0.6833 - val_iou: 0.5196 - val_recall: 0.6473 - val_precision: 0.9050 - lr: 1.0000e-04\n",
            "Epoch 21/50\n",
            "72/72 [==============================] - ETA: 0s - loss: 0.3440 - dice_coef: 0.7208 - iou: 0.5641 - recall: 0.6730 - precision: 0.9318\n",
            "Epoch 00021: val_loss improved from 0.38986 to 0.38273, saving model to files_working/model.h5\n",
            "72/72 [==============================] - 116s 2s/step - loss: 0.3440 - dice_coef: 0.7208 - iou: 0.5641 - recall: 0.6730 - precision: 0.9318 - val_loss: 0.3827 - val_dice_coef: 0.6897 - val_iou: 0.5272 - val_recall: 0.6477 - val_precision: 0.9049 - lr: 1.0000e-04\n",
            "Epoch 22/50\n",
            "72/72 [==============================] - ETA: 0s - loss: 0.3345 - dice_coef: 0.7291 - iou: 0.5743 - recall: 0.6733 - precision: 0.9354\n",
            "Epoch 00022: val_loss did not improve from 0.38273\n",
            "72/72 [==============================] - 114s 2s/step - loss: 0.3345 - dice_coef: 0.7291 - iou: 0.5743 - recall: 0.6733 - precision: 0.9354 - val_loss: 0.3865 - val_dice_coef: 0.6895 - val_iou: 0.5272 - val_recall: 0.6435 - val_precision: 0.8998 - lr: 1.0000e-04\n",
            "Epoch 23/50\n",
            "72/72 [==============================] - ETA: 0s - loss: 0.3262 - dice_coef: 0.7365 - iou: 0.5835 - recall: 0.6737 - precision: 0.9383\n",
            "Epoch 00023: val_loss did not improve from 0.38273\n",
            "72/72 [==============================] - 111s 2s/step - loss: 0.3262 - dice_coef: 0.7365 - iou: 0.5835 - recall: 0.6737 - precision: 0.9383 - val_loss: 0.3905 - val_dice_coef: 0.6867 - val_iou: 0.5239 - val_recall: 0.6209 - val_precision: 0.8995 - lr: 1.0000e-04\n",
            "Epoch 24/50\n",
            "72/72 [==============================] - ETA: 0s - loss: 0.3169 - dice_coef: 0.7444 - iou: 0.5934 - recall: 0.6743 - precision: 0.9428\n",
            "Epoch 00024: val_loss improved from 0.38273 to 0.37349, saving model to files_working/model.h5\n",
            "72/72 [==============================] - 119s 2s/step - loss: 0.3169 - dice_coef: 0.7444 - iou: 0.5934 - recall: 0.6743 - precision: 0.9428 - val_loss: 0.3735 - val_dice_coef: 0.7024 - val_iou: 0.5423 - val_recall: 0.6527 - val_precision: 0.8978 - lr: 1.0000e-04\n",
            "Epoch 25/50\n",
            "72/72 [==============================] - ETA: 0s - loss: 0.3082 - dice_coef: 0.7519 - iou: 0.6029 - recall: 0.6755 - precision: 0.9466\n",
            "Epoch 00025: val_loss did not improve from 0.37349\n",
            "72/72 [==============================] - 111s 2s/step - loss: 0.3082 - dice_coef: 0.7519 - iou: 0.6029 - recall: 0.6755 - precision: 0.9466 - val_loss: 0.3783 - val_dice_coef: 0.6993 - val_iou: 0.5387 - val_recall: 0.6396 - val_precision: 0.8961 - lr: 1.0000e-04\n",
            "Epoch 26/50\n",
            "72/72 [==============================] - ETA: 0s - loss: 0.3051 - dice_coef: 0.7552 - iou: 0.6072 - recall: 0.6744 - precision: 0.9461\n",
            "Epoch 00026: val_loss did not improve from 0.37349\n",
            "72/72 [==============================] - 112s 2s/step - loss: 0.3051 - dice_coef: 0.7552 - iou: 0.6072 - recall: 0.6744 - precision: 0.9461 - val_loss: 0.3862 - val_dice_coef: 0.6929 - val_iou: 0.5310 - val_recall: 0.6241 - val_precision: 0.8879 - lr: 1.0000e-04\n",
            "Epoch 27/50\n",
            "72/72 [==============================] - ETA: 0s - loss: 0.2960 - dice_coef: 0.7629 - iou: 0.6171 - recall: 0.6761 - precision: 0.9508\n",
            "Epoch 00027: val_loss improved from 0.37349 to 0.37275, saving model to files_working/model.h5\n",
            "72/72 [==============================] - 119s 2s/step - loss: 0.2960 - dice_coef: 0.7629 - iou: 0.6171 - recall: 0.6761 - precision: 0.9508 - val_loss: 0.3728 - val_dice_coef: 0.7036 - val_iou: 0.5437 - val_recall: 0.6118 - val_precision: 0.9074 - lr: 1.0000e-04\n",
            "Epoch 28/50\n",
            "72/72 [==============================] - ETA: 0s - loss: 0.2907 - dice_coef: 0.7677 - iou: 0.6235 - recall: 0.6768 - precision: 0.9526\n",
            "Epoch 00028: val_loss did not improve from 0.37275\n",
            "72/72 [==============================] - 111s 2s/step - loss: 0.2907 - dice_coef: 0.7677 - iou: 0.6235 - recall: 0.6768 - precision: 0.9526 - val_loss: 0.3750 - val_dice_coef: 0.7035 - val_iou: 0.5435 - val_recall: 0.6163 - val_precision: 0.9002 - lr: 1.0000e-04\n",
            "Epoch 29/50\n",
            "72/72 [==============================] - ETA: 0s - loss: 0.2873 - dice_coef: 0.7708 - iou: 0.6276 - recall: 0.6766 - precision: 0.9530\n",
            "Epoch 00029: val_loss did not improve from 0.37275\n",
            "72/72 [==============================] - 114s 2s/step - loss: 0.2873 - dice_coef: 0.7708 - iou: 0.6276 - recall: 0.6766 - precision: 0.9530 - val_loss: 0.3800 - val_dice_coef: 0.7010 - val_iou: 0.5407 - val_recall: 0.6101 - val_precision: 0.8921 - lr: 1.0000e-04\n",
            "Epoch 30/50\n",
            "72/72 [==============================] - ETA: 0s - loss: 0.2830 - dice_coef: 0.7747 - iou: 0.6328 - recall: 0.6770 - precision: 0.9543\n",
            "Epoch 00030: val_loss improved from 0.37275 to 0.36151, saving model to files_working/model.h5\n",
            "72/72 [==============================] - 116s 2s/step - loss: 0.2830 - dice_coef: 0.7747 - iou: 0.6328 - recall: 0.6770 - precision: 0.9543 - val_loss: 0.3615 - val_dice_coef: 0.7173 - val_iou: 0.5600 - val_recall: 0.6379 - val_precision: 0.8919 - lr: 1.0000e-04\n",
            "Epoch 31/50\n",
            "72/72 [==============================] - ETA: 0s - loss: 0.2788 - dice_coef: 0.7785 - iou: 0.6378 - recall: 0.6777 - precision: 0.9561\n",
            "Epoch 00031: val_loss did not improve from 0.36151\n",
            "72/72 [==============================] - 114s 2s/step - loss: 0.2788 - dice_coef: 0.7785 - iou: 0.6378 - recall: 0.6777 - precision: 0.9561 - val_loss: 0.3728 - val_dice_coef: 0.7090 - val_iou: 0.5502 - val_recall: 0.5983 - val_precision: 0.9027 - lr: 1.0000e-04\n",
            "Epoch 32/50\n",
            "72/72 [==============================] - ETA: 0s - loss: 0.2732 - dice_coef: 0.7831 - iou: 0.6440 - recall: 0.6792 - precision: 0.9589\n",
            "Epoch 00032: val_loss did not improve from 0.36151\n",
            "72/72 [==============================] - 114s 2s/step - loss: 0.2732 - dice_coef: 0.7831 - iou: 0.6440 - recall: 0.6792 - precision: 0.9589 - val_loss: 0.3816 - val_dice_coef: 0.6987 - val_iou: 0.5379 - val_recall: 0.5704 - val_precision: 0.9026 - lr: 1.0000e-04\n",
            "Epoch 33/50\n",
            "72/72 [==============================] - ETA: 0s - loss: 0.2680 - dice_coef: 0.7876 - iou: 0.6500 - recall: 0.6802 - precision: 0.9611\n",
            "Epoch 00033: val_loss did not improve from 0.36151\n",
            "72/72 [==============================] - 111s 2s/step - loss: 0.2680 - dice_coef: 0.7876 - iou: 0.6500 - recall: 0.6802 - precision: 0.9611 - val_loss: 0.3824 - val_dice_coef: 0.7024 - val_iou: 0.5426 - val_recall: 0.5916 - val_precision: 0.8736 - lr: 1.0000e-04\n",
            "Epoch 34/50\n",
            "72/72 [==============================] - ETA: 0s - loss: 0.2646 - dice_coef: 0.7906 - iou: 0.6542 - recall: 0.6821 - precision: 0.9617\n",
            "Epoch 00034: val_loss did not improve from 0.36151\n",
            "72/72 [==============================] - 114s 2s/step - loss: 0.2646 - dice_coef: 0.7906 - iou: 0.6542 - recall: 0.6821 - precision: 0.9617 - val_loss: 0.3668 - val_dice_coef: 0.7153 - val_iou: 0.5575 - val_recall: 0.6050 - val_precision: 0.9017 - lr: 1.0000e-04\n",
            "Epoch 35/50\n",
            "72/72 [==============================] - ETA: 0s - loss: 0.2611 - dice_coef: 0.7937 - iou: 0.6583 - recall: 0.6824 - precision: 0.9633\n",
            "Epoch 00035: val_loss improved from 0.36151 to 0.35811, saving model to files_working/model.h5\n",
            "72/72 [==============================] - 116s 2s/step - loss: 0.2611 - dice_coef: 0.7937 - iou: 0.6583 - recall: 0.6824 - precision: 0.9633 - val_loss: 0.3581 - val_dice_coef: 0.7213 - val_iou: 0.5649 - val_recall: 0.5876 - val_precision: 0.9187 - lr: 1.0000e-04\n",
            "Epoch 36/50\n",
            "72/72 [==============================] - ETA: 0s - loss: 0.2558 - dice_coef: 0.7981 - iou: 0.6644 - recall: 0.6829 - precision: 0.9663\n",
            "Epoch 00036: val_loss did not improve from 0.35811\n",
            "72/72 [==============================] - 112s 2s/step - loss: 0.2558 - dice_coef: 0.7981 - iou: 0.6644 - recall: 0.6829 - precision: 0.9663 - val_loss: 0.3592 - val_dice_coef: 0.7219 - val_iou: 0.5657 - val_recall: 0.5849 - val_precision: 0.9225 - lr: 1.0000e-04\n",
            "Epoch 37/50\n",
            "72/72 [==============================] - ETA: 0s - loss: 0.2507 - dice_coef: 0.8023 - iou: 0.6702 - recall: 0.6850 - precision: 0.9682\n",
            "Epoch 00037: val_loss did not improve from 0.35811\n",
            "72/72 [==============================] - 114s 2s/step - loss: 0.2507 - dice_coef: 0.8023 - iou: 0.6702 - recall: 0.6850 - precision: 0.9682 - val_loss: 0.3614 - val_dice_coef: 0.7205 - val_iou: 0.5639 - val_recall: 0.5877 - val_precision: 0.9213 - lr: 1.0000e-04\n",
            "Epoch 38/50\n",
            "72/72 [==============================] - ETA: 0s - loss: 0.2483 - dice_coef: 0.8044 - iou: 0.6733 - recall: 0.6856 - precision: 0.9692\n",
            "Epoch 00038: val_loss improved from 0.35811 to 0.35314, saving model to files_working/model.h5\n",
            "72/72 [==============================] - 119s 2s/step - loss: 0.2483 - dice_coef: 0.8044 - iou: 0.6733 - recall: 0.6856 - precision: 0.9692 - val_loss: 0.3531 - val_dice_coef: 0.7256 - val_iou: 0.5703 - val_recall: 0.5867 - val_precision: 0.9265 - lr: 1.0000e-04\n",
            "Epoch 39/50\n",
            "72/72 [==============================] - ETA: 0s - loss: 0.2471 - dice_coef: 0.8058 - iou: 0.6751 - recall: 0.6859 - precision: 0.9689\n",
            "Epoch 00039: val_loss improved from 0.35314 to 0.33914, saving model to files_working/model.h5\n",
            "72/72 [==============================] - 116s 2s/step - loss: 0.2471 - dice_coef: 0.8058 - iou: 0.6751 - recall: 0.6859 - precision: 0.9689 - val_loss: 0.3391 - val_dice_coef: 0.7400 - val_iou: 0.5880 - val_recall: 0.6219 - val_precision: 0.9147 - lr: 1.0000e-04\n",
            "Epoch 40/50\n",
            "72/72 [==============================] - ETA: 0s - loss: 0.2447 - dice_coef: 0.8079 - iou: 0.6781 - recall: 0.6858 - precision: 0.9700\n",
            "Epoch 00040: val_loss did not improve from 0.33914\n",
            "72/72 [==============================] - 114s 2s/step - loss: 0.2447 - dice_coef: 0.8079 - iou: 0.6781 - recall: 0.6858 - precision: 0.9700 - val_loss: 0.3426 - val_dice_coef: 0.7378 - val_iou: 0.5852 - val_recall: 0.6253 - val_precision: 0.9058 - lr: 1.0000e-04\n",
            "Epoch 41/50\n",
            "72/72 [==============================] - ETA: 0s - loss: 0.2423 - dice_coef: 0.8099 - iou: 0.6809 - recall: 0.6857 - precision: 0.9708\n",
            "Epoch 00041: val_loss did not improve from 0.33914\n",
            "72/72 [==============================] - 114s 2s/step - loss: 0.2423 - dice_coef: 0.8099 - iou: 0.6809 - recall: 0.6857 - precision: 0.9708 - val_loss: 0.3440 - val_dice_coef: 0.7348 - val_iou: 0.5813 - val_recall: 0.6092 - val_precision: 0.9138 - lr: 1.0000e-04\n",
            "Epoch 42/50\n",
            "72/72 [==============================] - ETA: 0s - loss: 0.2367 - dice_coef: 0.8144 - iou: 0.6873 - recall: 0.6899 - precision: 0.9731\n",
            "Epoch 00042: val_loss did not improve from 0.33914\n",
            "72/72 [==============================] - 113s 2s/step - loss: 0.2367 - dice_coef: 0.8144 - iou: 0.6873 - recall: 0.6899 - precision: 0.9731 - val_loss: 0.3486 - val_dice_coef: 0.7333 - val_iou: 0.5796 - val_recall: 0.6048 - val_precision: 0.9167 - lr: 1.0000e-04\n",
            "Epoch 43/50\n",
            "72/72 [==============================] - ETA: 0s - loss: 0.2315 - dice_coef: 0.8187 - iou: 0.6935 - recall: 0.6913 - precision: 0.9756\n",
            "Epoch 00043: val_loss did not improve from 0.33914\n",
            "72/72 [==============================] - 114s 2s/step - loss: 0.2315 - dice_coef: 0.8187 - iou: 0.6935 - recall: 0.6913 - precision: 0.9756 - val_loss: 0.3546 - val_dice_coef: 0.7303 - val_iou: 0.5759 - val_recall: 0.6150 - val_precision: 0.8985 - lr: 1.0000e-04\n",
            "Epoch 44/50\n",
            "72/72 [==============================] - ETA: 0s - loss: 0.2282 - dice_coef: 0.8215 - iou: 0.6974 - recall: 0.6905 - precision: 0.9775\n",
            "Epoch 00044: val_loss did not improve from 0.33914\n",
            "\n",
            "Epoch 00044: ReduceLROnPlateau reducing learning rate to 9.999999747378752e-06.\n",
            "72/72 [==============================] - 111s 2s/step - loss: 0.2282 - dice_coef: 0.8215 - iou: 0.6974 - recall: 0.6905 - precision: 0.9775 - val_loss: 0.3531 - val_dice_coef: 0.7316 - val_iou: 0.5776 - val_recall: 0.6049 - val_precision: 0.9082 - lr: 1.0000e-04\n",
            "Epoch 45/50\n",
            "72/72 [==============================] - ETA: 0s - loss: 0.2263 - dice_coef: 0.8231 - iou: 0.6998 - recall: 0.6917 - precision: 0.9768\n",
            "Epoch 00045: val_loss improved from 0.33914 to 0.33851, saving model to files_working/model.h5\n",
            "72/72 [==============================] - 119s 2s/step - loss: 0.2263 - dice_coef: 0.8231 - iou: 0.6998 - recall: 0.6917 - precision: 0.9768 - val_loss: 0.3385 - val_dice_coef: 0.7400 - val_iou: 0.5881 - val_recall: 0.5994 - val_precision: 0.9269 - lr: 1.0000e-05\n",
            "Epoch 46/50\n",
            "72/72 [==============================] - ETA: 0s - loss: 0.2180 - dice_coef: 0.8292 - iou: 0.7087 - recall: 0.6948 - precision: 0.9819\n",
            "Epoch 00046: val_loss did not improve from 0.33851\n",
            "72/72 [==============================] - 114s 2s/step - loss: 0.2180 - dice_coef: 0.8292 - iou: 0.7087 - recall: 0.6948 - precision: 0.9819 - val_loss: 0.3404 - val_dice_coef: 0.7383 - val_iou: 0.5859 - val_recall: 0.5954 - val_precision: 0.9282 - lr: 1.0000e-05\n",
            "Epoch 47/50\n",
            "72/72 [==============================] - ETA: 0s - loss: 0.2148 - dice_coef: 0.8317 - iou: 0.7123 - recall: 0.6959 - precision: 0.9838\n",
            "Epoch 00047: val_loss did not improve from 0.33851\n",
            "72/72 [==============================] - 114s 2s/step - loss: 0.2148 - dice_coef: 0.8317 - iou: 0.7123 - recall: 0.6959 - precision: 0.9838 - val_loss: 0.3409 - val_dice_coef: 0.7381 - val_iou: 0.5856 - val_recall: 0.5945 - val_precision: 0.9285 - lr: 1.0000e-05\n",
            "Epoch 48/50\n",
            "72/72 [==============================] - ETA: 0s - loss: 0.2124 - dice_coef: 0.8336 - iou: 0.7151 - recall: 0.6966 - precision: 0.9851\n",
            "Epoch 00048: val_loss did not improve from 0.33851\n",
            "72/72 [==============================] - 114s 2s/step - loss: 0.2124 - dice_coef: 0.8336 - iou: 0.7151 - recall: 0.6966 - precision: 0.9851 - val_loss: 0.3411 - val_dice_coef: 0.7382 - val_iou: 0.5857 - val_recall: 0.5944 - val_precision: 0.9285 - lr: 1.0000e-05\n",
            "Epoch 49/50\n",
            "72/72 [==============================] - ETA: 0s - loss: 0.2104 - dice_coef: 0.8352 - iou: 0.7174 - recall: 0.6972 - precision: 0.9862\n",
            "Epoch 00049: val_loss did not improve from 0.33851\n",
            "72/72 [==============================] - 112s 2s/step - loss: 0.2104 - dice_coef: 0.8352 - iou: 0.7174 - recall: 0.6972 - precision: 0.9862 - val_loss: 0.3413 - val_dice_coef: 0.7383 - val_iou: 0.5858 - val_recall: 0.5944 - val_precision: 0.9282 - lr: 1.0000e-05\n",
            "Epoch 50/50\n",
            "72/72 [==============================] - ETA: 0s - loss: 0.2087 - dice_coef: 0.8366 - iou: 0.7195 - recall: 0.6978 - precision: 0.9870\n",
            "Epoch 00050: val_loss did not improve from 0.33851\n",
            "\n",
            "Epoch 00050: ReduceLROnPlateau reducing learning rate to 1e-06.\n",
            "72/72 [==============================] - 114s 2s/step - loss: 0.2087 - dice_coef: 0.8366 - iou: 0.7195 - recall: 0.6978 - precision: 0.9870 - val_loss: 0.3416 - val_dice_coef: 0.7384 - val_iou: 0.5860 - val_recall: 0.5945 - val_precision: 0.9279 - lr: 1.0000e-05\n"
          ]
        },
        {
          "output_type": "execute_result",
          "data": {
            "text/plain": [
              "<keras.callbacks.History at 0x7fe1cf035c50>"
            ]
          },
          "metadata": {},
          "execution_count": 7
        }
      ],
      "source": [
        "\"\"\" Seeding \"\"\"\n",
        "np.random.seed(42)\n",
        "tf.random.set_seed(42)\n",
        "\n",
        "\"\"\" Directory to save files \"\"\"\n",
        "create_dir(\"files_working\")\n",
        "\n",
        "\"\"\" Hyperparameters \"\"\"\n",
        "batch_size = 2\n",
        "lr = 1e-4\n",
        "num_epochs = 50\n",
        "model_path = os.path.join(\"files_working\", \"model.h5\")\n",
        "csv_path = os.path.join(\"files_working\", \"data.csv\")\n",
        "\n",
        "\"\"\" Dataset \"\"\"\n",
        "dataset_path = \"new_data\"\n",
        "train_path = os.path.join(dataset_path, \"train\")\n",
        "valid_path = os.path.join(dataset_path, \"test\")\n",
        "\n",
        "train_x, train_y = load_data(train_path)\n",
        "train_x, train_y = shuffling(train_x, train_y)\n",
        "valid_x, valid_y = load_data(valid_path)\n",
        "\n",
        "print(f\"Train: {len(train_x)} - {len(train_y)}\")\n",
        "print(f\"Valid: {len(valid_x)} - {len(valid_y)}\")\n",
        "\n",
        "train_dataset = tf_dataset(train_x, train_y, batch_size=batch_size)\n",
        "valid_dataset = tf_dataset(valid_x, valid_y, batch_size=batch_size)\n",
        "\n",
        "train_steps = len(train_x)//batch_size\n",
        "valid_setps = len(valid_x)//batch_size\n",
        "\n",
        "if len(train_x) % batch_size != 0:\n",
        "    train_steps += 1\n",
        "if len(valid_x) % batch_size != 0:\n",
        "    valid_setps += 1\n",
        "\n",
        "\"\"\" Model \"\"\"\n",
        "model = build_unet((H, W, 3))\n",
        "# model.compile(loss=tf.keras.losses.BinaryCrossentropy(), optimizer=Adam(lr), metrics=[dice_coef, iou, Recall(), Precision()])\n",
        "# model.compile(loss=dice_loss, optimizer=Adam(lr), metrics=[iou, dice_coef, dice_coef_OD, dice_coef_MA, Recall(), Precision()])\n",
        "# model.summary()\n",
        "\n",
        "model.compile(loss=DiceBCELoss, optimizer=Adam(lr), metrics=[dice_coef, iou, Recall(), Precision()])\n",
        "\n",
        "callbacks = [\n",
        "    ModelCheckpoint(model_path, verbose=1, save_best_only=True),\n",
        "    ReduceLROnPlateau(monitor=\"val_loss\", factor=0.1, patience=5, min_lr=1e-6, verbose=1),\n",
        "    CSVLogger(csv_path),\n",
        "    TensorBoard(),\n",
        "    EarlyStopping(monitor=\"val_loss\", patience=10, restore_best_weights=False)\n",
        "]\n",
        "\n",
        "model.fit(\n",
        "    train_dataset,\n",
        "    epochs=num_epochs,\n",
        "    validation_data=valid_dataset,\n",
        "    steps_per_epoch=train_steps,\n",
        "    validation_steps=valid_setps,\n",
        "    callbacks=callbacks\n",
        ")"
      ]
    },
    {
      "cell_type": "markdown",
      "metadata": {
        "id": "2frB4UHf9mr3"
      },
      "source": [
        "### Evaluate The Model:"
      ]
    },
    {
      "cell_type": "code",
      "execution_count": null,
      "metadata": {
        "id": "C5Kjrpfg9pDn"
      },
      "outputs": [],
      "source": [
        "import os\n",
        "os.environ[\"TF_CPP_MIN_LOG_LEVEL\"] = \"2\"\n",
        "import numpy as np\n",
        "import pandas as pd\n",
        "import cv2\n",
        "from glob import glob\n",
        "from tqdm import tqdm\n",
        "import tensorflow as tf\n",
        "from tensorflow.keras.utils import CustomObjectScope\n",
        "from sklearn.metrics import accuracy_score, f1_score, jaccard_score, precision_score, recall_score, auc\n",
        "from metrics import dice_loss, dice_coef, iou\n",
        "from utils import get_filenames_sorted"
      ]
    },
    {
      "cell_type": "code",
      "execution_count": null,
      "metadata": {
        "id": "tbgjkGOU-QeQ"
      },
      "outputs": [],
      "source": [
        "H = 512\n",
        "W = 512\n",
        "\n",
        "def create_dir(path):\n",
        "    if not os.path.exists(path):\n",
        "        os.makedirs(path)\n",
        "\n",
        "def read_image(path):\n",
        "    x = cv2.imread(path, cv2.IMREAD_COLOR)\n",
        "    # x = cv2.resize(x, (W, H))\n",
        "    ori_x = x\n",
        "    x = x/255.0\n",
        "    x = x.astype(np.float32)\n",
        "    return ori_x, x\n",
        "\n",
        "def read_mask(path):\n",
        "    x = cv2.imread(path, cv2.IMREAD_COLOR)  ## (512, 512)\n",
        "    # x = cv2.resize(x, (W, H))\n",
        "    ori_x = x\n",
        "    x = x/255.0\n",
        "    x = x.astype(np.float32)\n",
        "    x = x[:,:,0:2] # Discard the last channel \n",
        "    return ori_x, x\n",
        "\n",
        "def load_data(path):\n",
        "    x = sorted(glob(os.path.join(path, \"image\", \"*.png\")))\n",
        "    y = sorted(glob(os.path.join(path, \"mask\", \"*.png\")))\n",
        "    return x, y\n",
        "\n",
        "def save_results(ori_x, ori_y, y_pred, save_image_path, channel):\n",
        "    line = np.ones((y_pred.shape[0], 10, 3)) * 255\n",
        "\n",
        "    pred_image = np.zeros((y_pred.shape[0], y_pred.shape[1], 3))\n",
        "    _y_pred = y_pred[:, :, channel]\n",
        "    _ori_y = ori_y[:, :, channel]\n",
        "    pred_image[:, :, 0] = ((_y_pred > 0.5) & (_ori_y <= 128)) * 255\n",
        "    pred_image[:, :, 1] = ((_y_pred > 0.5) & (_ori_y  > 128)) * 255\n",
        "    pred_image[:, :, 2] = ((_ori_y  > 128) & (_y_pred <= 0.5 )) * 255\n",
        "\n",
        "    print(\" saving result\", save_image_path)\n",
        "    cv2.imwrite(save_image_path, pred_image)"
      ]
    },
    {
      "cell_type": "code",
      "execution_count": null,
      "metadata": {
        "colab": {
          "base_uri": "https://localhost:8080/"
        },
        "id": "HUarJfhE-ZMQ",
        "outputId": "5256e1c9-b752-4838-c48b-80e20a9fcd94"
      },
      "outputs": [
        {
          "output_type": "stream",
          "name": "stdout",
          "text": [
            "files_working/model.h5\n"
          ]
        },
        {
          "output_type": "stream",
          "name": "stderr",
          "text": [
            "\r  0%|          | 0/9 [00:00<?, ?it/s]"
          ]
        },
        {
          "output_type": "stream",
          "name": "stdout",
          "text": [
            "13_dr\n",
            "255 1.0\n",
            " saving result files_demo_od/13_dr.png\n",
            " saving result files_demo_bv/13_dr.png\n"
          ]
        },
        {
          "output_type": "stream",
          "name": "stderr",
          "text": [
            "\r 11%|█         | 1/9 [00:01<00:14,  1.77s/it]"
          ]
        },
        {
          "output_type": "stream",
          "name": "stdout",
          "text": [
            "13_g\n",
            "255 1.0\n",
            " saving result files_demo_od/13_g.png\n",
            " saving result files_demo_bv/13_g.png\n"
          ]
        },
        {
          "output_type": "stream",
          "name": "stderr",
          "text": [
            "\r 22%|██▏       | 2/9 [00:03<00:10,  1.57s/it]"
          ]
        },
        {
          "output_type": "stream",
          "name": "stdout",
          "text": [
            "13_h\n",
            "255 1.0\n",
            " saving result files_demo_od/13_h.png\n",
            " saving result files_demo_bv/13_h.png\n"
          ]
        },
        {
          "output_type": "stream",
          "name": "stderr",
          "text": [
            "\r 33%|███▎      | 3/9 [00:04<00:07,  1.30s/it]"
          ]
        },
        {
          "output_type": "stream",
          "name": "stdout",
          "text": [
            "14_dr\n",
            "255 1.0\n",
            " saving result files_demo_od/14_dr.png\n",
            " saving result files_demo_bv/14_dr.png\n"
          ]
        },
        {
          "output_type": "stream",
          "name": "stderr",
          "text": [
            "\r 44%|████▍     | 4/9 [00:05<00:05,  1.16s/it]"
          ]
        },
        {
          "output_type": "stream",
          "name": "stdout",
          "text": [
            "14_g\n",
            "255 1.0\n",
            " saving result files_demo_od/14_g.png\n",
            " saving result files_demo_bv/14_g.png\n"
          ]
        },
        {
          "output_type": "stream",
          "name": "stderr",
          "text": [
            "\r 56%|█████▌    | 5/9 [00:06<00:04,  1.09s/it]"
          ]
        },
        {
          "output_type": "stream",
          "name": "stdout",
          "text": [
            "14_h\n",
            "255 1.0\n",
            " saving result files_demo_od/14_h.png\n",
            " saving result files_demo_bv/14_h.png\n"
          ]
        },
        {
          "output_type": "stream",
          "name": "stderr",
          "text": [
            "\r 67%|██████▋   | 6/9 [00:07<00:03,  1.05s/it]"
          ]
        },
        {
          "output_type": "stream",
          "name": "stdout",
          "text": [
            "15_dr\n",
            "255 1.0\n",
            " saving result files_demo_od/15_dr.png\n",
            " saving result files_demo_bv/15_dr.png\n"
          ]
        },
        {
          "output_type": "stream",
          "name": "stderr",
          "text": [
            "\r 78%|███████▊  | 7/9 [00:08<00:02,  1.02s/it]"
          ]
        },
        {
          "output_type": "stream",
          "name": "stdout",
          "text": [
            "15_g\n",
            "255 1.0\n",
            " saving result files_demo_od/15_g.png\n",
            " saving result files_demo_bv/15_g.png\n"
          ]
        },
        {
          "output_type": "stream",
          "name": "stderr",
          "text": [
            "\r 89%|████████▉ | 8/9 [00:08<00:00,  1.01it/s]"
          ]
        },
        {
          "output_type": "stream",
          "name": "stdout",
          "text": [
            "15_h\n",
            "255 1.0\n",
            " saving result files_demo_od/15_h.png\n",
            " saving result files_demo_bv/15_h.png\n"
          ]
        },
        {
          "output_type": "stream",
          "name": "stderr",
          "text": [
            "100%|██████████| 9/9 [00:09<00:00,  1.10s/it]"
          ]
        },
        {
          "output_type": "stream",
          "name": "stdout",
          "text": [
            "\n",
            "\n",
            "****** OD ******Metrics\n",
            "Accuracy: 0.99734\n",
            "F1: 0.85937 (dice score)\n",
            "AUC: 0.85937 (Auc score)\n",
            "Jaccard: 0.76986\n",
            "Recall: 0.85376\n",
            "Precision: 0.90267\n",
            "\n",
            "\n",
            "****** BV ******Metrics\n",
            "Accuracy: 0.96699\n",
            "F1: 0.76272 (dice score)\n",
            "AUC: 0.76272 (Auc score)\n",
            "Jaccard: 0.61830\n",
            "Recall: 0.72715\n",
            "Precision: 0.80970\n",
            "\n",
            "\n"
          ]
        },
        {
          "output_type": "stream",
          "name": "stderr",
          "text": [
            "\n"
          ]
        }
      ],
      "source": [
        "data_dir = \"new_data\"\n",
        "od_channel, bv_channel = 0, 1\n",
        "\n",
        "od_result_dir = \"files_demo_od\"\n",
        "bv_result_dir = \"files_demo_bv\"\n",
        "\n",
        "create_dir(od_result_dir)\n",
        "create_dir(bv_result_dir)\n",
        "\n",
        "model_dir = \"files_working\"\n",
        "\n",
        "\"\"\" Load the model \"\"\"\n",
        "model_file_name = f\"{model_dir}/model.h5\"\n",
        "print(model_file_name)\n",
        "# with CustomObjectScope({'iou': iou, 'dice_coef': dice_coef, 'dice_coef_OD': dice_coef_OD, 'dice_coef_MA': dice_coef_MA, 'dice_loss': dice_loss}):\n",
        "model = tf.keras.models.load_model(model_file_name, compile = False)\n",
        "\n",
        "\"\"\" Load the dataset \"\"\"\n",
        "# dataset_path = os.path.join(data_dir, \"test\")\n",
        "# test_x, test_y = get_filenames_sorted(data_dir + \"/test/image/\", data_dir + \"/test/mask/\" )\n",
        "\n",
        "dataset_path = os.path.join(\"new_data\", \"test\")\n",
        "test_x, test_y = load_data(dataset_path)\n",
        "\n",
        "\"\"\" Make the prediction and calculate the metrics values \"\"\"\n",
        "SCORE_BV, SCORE_OD = [], []\n",
        "for x, y in tqdm(zip(test_x, test_y), total=len(test_x)):\n",
        "    \"\"\" Extracting name \"\"\"\n",
        "    name = x.rsplit(\"/\", 1)[1].rsplit(\".\", 1)[0]\n",
        "    print(name)\n",
        "\n",
        "    \"\"\" Read the image and mask \"\"\"\n",
        "    ori_x, x = read_image(x)\n",
        "    ori_y, y = read_mask(y)\n",
        "\n",
        "    \"\"\" Prediction \"\"\"\n",
        "    y_pred = model.predict(np.expand_dims(x, axis=0))[0]\n",
        "    y_pred = y_pred > 0.5\n",
        "    y_pred = y_pred.astype(np.float32)\n",
        "\n",
        "    print(np.max(ori_y), np.max(y))\n",
        "\n",
        "    \"\"\" Saving the images \"\"\"\n",
        "    save_image_path_od = f\"{od_result_dir}/{name}.png\"\n",
        "    save_results(ori_x, ori_y, y_pred, save_image_path_od, od_channel)\n",
        "\n",
        "    save_image_path_bv = f\"{bv_result_dir}/{name}.png\"\n",
        "    save_results(ori_x, ori_y, y_pred, save_image_path_bv, bv_channel)\n",
        "\n",
        "\n",
        "#     \"\"\" Calculate the od metrics \"\"\"\n",
        "    bv_pred = y_pred[:, :, bv_channel].flatten()\n",
        "    bv_gt = y[:, :, bv_channel].flatten()\n",
        "    acc_value = accuracy_score(bv_gt > 0.5, bv_pred>0.5)\n",
        "    f1_value = f1_score(bv_gt > 0.5, bv_pred>0.5, labels=[0, 1], average=\"binary\")\n",
        "    jac_value = jaccard_score(bv_gt > 0.5, bv_pred>0.5, labels=[0, 1], average=\"binary\")\n",
        "    recall_value = recall_score(bv_gt > 0.5, bv_pred>0.5, labels=[0, 1], average=\"binary\")\n",
        "    recall_computed = np.sum((bv_gt > 0.5) & (bv_pred > 0.5)) / np.sum(bv_gt > 0.5)\n",
        "    precision_value = precision_score(bv_gt > 0.5, bv_pred>0.5, labels=[0, 1], average=\"binary\")\n",
        "    SCORE_BV.append([name, acc_value, f1_value, jac_value, recall_value, precision_value, recall_computed])\n",
        "\n",
        "#     \"\"\" Calculate the ma metrics \"\"\"\n",
        "    bv_pred = y_pred[:, :, od_channel].flatten()\n",
        "    bv_gt = y[:, :, od_channel].flatten()\n",
        "    acc_value = accuracy_score(bv_gt > 0.5, bv_pred>0.5)\n",
        "    f1_value = f1_score(bv_gt > 0.5, bv_pred>0.5, labels=[0, 1], average=\"binary\")\n",
        "    jac_value = jaccard_score(bv_gt > 0.5, bv_pred>0.5, labels=[0, 1], average=\"binary\")\n",
        "    recall_value = recall_score(bv_gt > 0.5, bv_pred>0.5, labels=[0, 1], average=\"binary\")\n",
        "    recall_computed = np.sum((bv_gt > 0.5) & (bv_pred > 0.5)) / np.sum(bv_gt > 0.5)\n",
        "    precision_value = precision_score(bv_gt > 0.5, bv_pred>0.5, labels=[0, 1], average=\"binary\")\n",
        "    SCORE_OD.append([name, acc_value, f1_value, jac_value, recall_value, precision_value, recall_computed])\n",
        "    \n",
        "print(\"\\n\")\n",
        "for SCORE in [SCORE_OD, SCORE_BV]:\n",
        "    if SCORE == SCORE_OD:\n",
        "        print(\"****** OD ******Metrics\")\n",
        "    else:\n",
        "        print(\"****** BV ******Metrics\")\n",
        "    score = [s[1:] for s in SCORE]\n",
        "    score = np.mean(score, axis=0)\n",
        "    print(f\"Accuracy: {score[0]:0.5f}\")\n",
        "    print(f\"F1: {score[1]:0.5f} (dice score)\")\n",
        "    print(f\"AUC: {score[1]:0.5f} (Auc score)\")\n",
        "    print(f\"Jaccard: {score[2]:0.5f}\")\n",
        "    print(f\"Recall: {score[3]:0.5f}\")\n",
        "    print(f\"Precision: {score[4]:0.5f}\")\n",
        "\n",
        "    # \"\"\" Saving \"\"\"\n",
        "    if SCORE == SCORE_OD:\n",
        "        df = pd.DataFrame(SCORE, columns=[\"Image\", \"Acc\", \"F1\", \"Jaccard\", \"Recall\", \"Precision\", \"Recall Computed\"])\n",
        "        df.to_csv(f\"{od_result_dir}/score.csv\")\n",
        "    else:\n",
        "        df = pd.DataFrame(SCORE, columns=[\"Image\", \"Acc\", \"F1\", \"Jaccard\", \"Recall\", \"Precision\", \"Recall Computed\"])\n",
        "        df.to_csv(f\"{bv_result_dir}/score.csv\")\n",
        "    print(\"\\n\")"
      ]
    },
    {
      "cell_type": "code",
      "execution_count": null,
      "metadata": {
        "id": "8u-X3ysMAah7",
        "colab": {
          "base_uri": "https://localhost:8080/"
        },
        "outputId": "8efb8792-5205-4c46-f8f5-80655458fa0d"
      },
      "outputs": [
        {
          "output_type": "stream",
          "name": "stdout",
          "text": [
            "files_working/model.h5\n"
          ]
        },
        {
          "output_type": "stream",
          "name": "stderr",
          "text": [
            "\r  0%|          | 0/9 [00:00<?, ?it/s]"
          ]
        },
        {
          "output_type": "stream",
          "name": "stdout",
          "text": [
            "13_dr\n",
            "255 1.0\n",
            " saving result files_demo_od_0.1/13_dr.png\n",
            " saving result files_demo_bv_0.1/13_dr.png\n"
          ]
        },
        {
          "output_type": "stream",
          "name": "stderr",
          "text": [
            "\r 11%|█         | 1/9 [00:14<01:56, 14.62s/it]"
          ]
        },
        {
          "output_type": "stream",
          "name": "stdout",
          "text": [
            "13_g\n",
            "255 1.0\n",
            " saving result files_demo_od_0.1/13_g.png\n",
            " saving result files_demo_bv_0.1/13_g.png\n"
          ]
        },
        {
          "output_type": "stream",
          "name": "stderr",
          "text": [
            "\r 22%|██▏       | 2/9 [00:16<00:51,  7.36s/it]"
          ]
        },
        {
          "output_type": "stream",
          "name": "stdout",
          "text": [
            "13_h\n",
            "255 1.0\n",
            " saving result files_demo_od_0.1/13_h.png\n",
            " saving result files_demo_bv_0.1/13_h.png\n"
          ]
        },
        {
          "output_type": "stream",
          "name": "stderr",
          "text": [
            "\r 33%|███▎      | 3/9 [00:19<00:30,  5.03s/it]"
          ]
        },
        {
          "output_type": "stream",
          "name": "stdout",
          "text": [
            "14_dr\n",
            "255 1.0\n",
            " saving result files_demo_od_0.1/14_dr.png\n",
            " saving result files_demo_bv_0.1/14_dr.png\n"
          ]
        },
        {
          "output_type": "stream",
          "name": "stderr",
          "text": [
            "\r 44%|████▍     | 4/9 [00:21<00:19,  3.96s/it]"
          ]
        },
        {
          "output_type": "stream",
          "name": "stdout",
          "text": [
            "14_g\n",
            "255 1.0\n",
            " saving result files_demo_od_0.1/14_g.png\n",
            " saving result files_demo_bv_0.1/14_g.png\n"
          ]
        },
        {
          "output_type": "stream",
          "name": "stderr",
          "text": [
            "\r 56%|█████▌    | 5/9 [00:23<00:13,  3.41s/it]"
          ]
        },
        {
          "output_type": "stream",
          "name": "stdout",
          "text": [
            "14_h\n",
            "255 1.0\n",
            " saving result files_demo_od_0.1/14_h.png\n",
            " saving result files_demo_bv_0.1/14_h.png\n"
          ]
        },
        {
          "output_type": "stream",
          "name": "stderr",
          "text": [
            "\r 67%|██████▋   | 6/9 [00:25<00:08,  2.93s/it]"
          ]
        },
        {
          "output_type": "stream",
          "name": "stdout",
          "text": [
            "15_dr\n",
            "255 1.0\n",
            " saving result files_demo_od_0.1/15_dr.png\n",
            " saving result files_demo_bv_0.1/15_dr.png\n"
          ]
        },
        {
          "output_type": "stream",
          "name": "stderr",
          "text": [
            "\r 78%|███████▊  | 7/9 [00:27<00:05,  2.66s/it]"
          ]
        },
        {
          "output_type": "stream",
          "name": "stdout",
          "text": [
            "15_g\n",
            "255 1.0\n",
            " saving result files_demo_od_0.1/15_g.png\n",
            " saving result files_demo_bv_0.1/15_g.png\n"
          ]
        },
        {
          "output_type": "stream",
          "name": "stderr",
          "text": [
            "\r 89%|████████▉ | 8/9 [00:30<00:02,  2.70s/it]"
          ]
        },
        {
          "output_type": "stream",
          "name": "stdout",
          "text": [
            "15_h\n",
            "255 1.0\n",
            " saving result files_demo_od_0.1/15_h.png\n",
            " saving result files_demo_bv_0.1/15_h.png\n"
          ]
        },
        {
          "output_type": "stream",
          "name": "stderr",
          "text": [
            "100%|██████████| 9/9 [00:33<00:00,  3.69s/it]"
          ]
        },
        {
          "output_type": "stream",
          "name": "stdout",
          "text": [
            "\n",
            "\n",
            "****** OD ******Metrics\n",
            "Threshold: 0.1\n",
            "Accuracy: 0.99755\n",
            "F1: 0.88827 (dice score)\n",
            "Jaccard: 0.80518\n",
            "Recall: 0.90479\n",
            "Precision: 0.89089\n",
            "AUC: 0.90479\n",
            "\n",
            "\n",
            "****** BV ******Metrics\n",
            "Threshold: 0.1\n",
            "Accuracy: 0.95732\n",
            "F1: 0.76784 (dice score)\n",
            "Jaccard: 0.62485\n",
            "Recall: 0.69759\n",
            "Precision: 0.85996\n",
            "AUC: 0.69759\n",
            "\n",
            "\n"
          ]
        },
        {
          "output_type": "stream",
          "name": "stderr",
          "text": [
            "\n"
          ]
        }
      ],
      "source": [
        "from copy import deepcopy\n",
        "\n",
        "data_dir = \"new_data\"\n",
        "od_channel, bv_channel = 0, 1\n",
        "\n",
        "model_dir = \"files_working\"\n",
        "threshold = 0.1\n",
        "\n",
        "od_result_dir = f\"files_demo_od_{threshold}\"\n",
        "bv_result_dir = f\"files_demo_bv_{threshold}\"\n",
        "\n",
        "create_dir(od_result_dir)\n",
        "create_dir(bv_result_dir)\n",
        "\n",
        "\"\"\" Load the model \"\"\"\n",
        "model_file_name = f\"{model_dir}/model.h5\"\n",
        "print(model_file_name)\n",
        "# with CustomObjectScope({'iou': iou, 'dice_coef': dice_coef, 'dice_coef_OD': dice_coef_OD, 'dice_coef_MA': dice_coef_MA, 'dice_loss': dice_loss}):\n",
        "model = tf.keras.models.load_model(model_file_name, compile = False)\n",
        "\n",
        "\"\"\" Load the dataset \"\"\"\n",
        "# dataset_path = os.path.join(data_dir, \"test\")\n",
        "# test_x, test_y = get_filenames_sorted(data_dir + \"/test/image/\", data_dir + \"/test/mask/\" )\n",
        "\n",
        "dataset_path = os.path.join(\"new_data\", \"test\")\n",
        "test_x, test_y = load_data(dataset_path)\n",
        "\n",
        "\"\"\" Make the prediction and calculate the metrics values \"\"\"\n",
        "SCORE_BV, SCORE_OD = [], []\n",
        "for x, y in tqdm(zip(test_x, test_y), total=len(test_x)):\n",
        "    \"\"\" Extracting name \"\"\"\n",
        "    name = x.rsplit(\"/\", 1)[1].rsplit(\".\", 1)[0]\n",
        "    print(name)\n",
        "\n",
        "    \"\"\" Read the image and mask \"\"\"\n",
        "    ori_x, x = read_image(x)\n",
        "    ori_y, y = read_mask(y)\n",
        "\n",
        "    \"\"\" Prediction \"\"\"\n",
        "    y_pred = model.predict(np.expand_dims(x, axis=0))[0]\n",
        "    y_pred_prob = deepcopy(y_pred)\n",
        "    y_pred = y_pred > threshold\n",
        "    y_pred = y_pred.astype(np.float32)\n",
        "\n",
        "    print(np.max(ori_y), np.max(y))\n",
        "\n",
        "    \"\"\" Saving the images \"\"\"\n",
        "    save_image_path_od = f\"{od_result_dir}/{name}.png\"\n",
        "    save_results(ori_x, ori_y, y_pred, save_image_path_od, od_channel)\n",
        "\n",
        "    save_image_path_bv = f\"{bv_result_dir}/{name}.png\"\n",
        "    save_results(ori_x, ori_y, y_pred, save_image_path_bv, bv_channel)\n",
        "\n",
        "\n",
        "#     \"\"\" Calculate the od metrics \"\"\"\n",
        "    bv_pred = y_pred[:, :, bv_channel].flatten()\n",
        "    bv_pred_prob = y_pred_prob[:, :, bv_channel].flatten()\n",
        "    bv_gt = y[:, :, bv_channel].flatten()\n",
        "    acc_value = accuracy_score(bv_gt > threshold, bv_pred>threshold)\n",
        "    f1_value = f1_score(bv_gt > threshold, bv_pred>threshold, labels=[0, 1], average=\"binary\")\n",
        "    jac_value = jaccard_score(bv_gt > threshold, bv_pred>threshold, labels=[0, 1], average=\"binary\")\n",
        "    recall_value = recall_score(bv_gt > threshold, bv_pred>threshold, labels=[0, 1], average=\"binary\")\n",
        "    recall_computed = np.sum((bv_gt > threshold) & (bv_pred > threshold)) / np.sum(bv_gt > threshold)\n",
        "    precision_value = precision_score(bv_gt > threshold, bv_pred>threshold, labels=[0, 1], average=\"binary\")\n",
        "    auc_score = auc(bv_gt > threshold, bv_pred_prob)\n",
        "    SCORE_BV.append([name, acc_value, f1_value, jac_value, recall_value, precision_value, recall_computed, auc_score])\n",
        "\n",
        "#     \"\"\" Calculate the ma metrics \"\"\"\n",
        "    bv_pred = y_pred[:, :, od_channel].flatten()\n",
        "    bv_pred_prob = y_pred_prob[:, :, bv_channel].flatten()\n",
        "    bv_gt = y[:, :, od_channel].flatten()\n",
        "    acc_value = accuracy_score(bv_gt > threshold, bv_pred>threshold)\n",
        "    f1_value = f1_score(bv_gt > threshold, bv_pred>threshold, labels=[0, 1], average=\"binary\")\n",
        "    jac_value = jaccard_score(bv_gt > threshold, bv_pred>threshold, labels=[0, 1], average=\"binary\")\n",
        "    recall_value = recall_score(bv_gt > threshold, bv_pred>threshold, labels=[0, 1], average=\"binary\")\n",
        "    recall_computed = np.sum((bv_gt > threshold) & (bv_pred > threshold)) / np.sum(bv_gt > threshold)\n",
        "    precision_value = precision_score(bv_gt > threshold, bv_pred>threshold, labels=[0, 1], average=\"binary\")\n",
        "    auc_score = auc(bv_gt > threshold, bv_pred_prob)\n",
        "    SCORE_OD.append([name, acc_value, f1_value, jac_value, recall_value, precision_value, recall_computed, auc_score])\n",
        "    \n",
        "print(\"\\n\")\n",
        "for SCORE in [SCORE_OD, SCORE_BV]:\n",
        "    if SCORE == SCORE_OD:\n",
        "        print(\"****** OD ******Metrics\")\n",
        "    else:\n",
        "        print(\"****** BV ******Metrics\")\n",
        "    score = [s[1:] for s in SCORE]\n",
        "    score = np.mean(score, axis=0)\n",
        "    print(f\"Threshold:\", threshold)\n",
        "    print(f\"Accuracy: {score[0]:0.5f}\")\n",
        "    print(f\"F1: {score[1]:0.5f} (dice score)\")\n",
        "    print(f\"Jaccard: {score[2]:0.5f}\")\n",
        "    print(f\"Recall: {score[3]:0.5f}\")\n",
        "    print(f\"Precision: {score[4]:0.5f}\")\n",
        "    print(f\"AUC: {score[5]:0.5f}\")\n",
        "\n",
        "    # \"\"\" Saving \"\"\"\n",
        "    if SCORE == SCORE_OD:\n",
        "        df = pd.DataFrame(SCORE, columns=[\"Image\", \"Acc\", \"F1\", \"Jaccard\", \"Recall\", \"Precision\", \"Recall Computed\", \"AUC\"])\n",
        "        df.to_csv(f\"{od_result_dir}/score.csv\")\n",
        "    else:\n",
        "        df = pd.DataFrame(SCORE, columns=[\"Image\", \"Acc\", \"F1\", \"Jaccard\", \"Recall\", \"Precision\", \"Recall Computed\", \"AUC\"])\n",
        "        df.to_csv(f\"{bv_result_dir}/score.csv\")\n",
        "    print(\"\\n\")"
      ]
    },
    {
      "cell_type": "code",
      "source": [
        "from copy import deepcopy\n",
        "\n",
        "data_dir = \"new_data\"\n",
        "od_channel, bv_channel = 0, 1\n",
        "\n",
        "model_dir = \"files_working\"\n",
        "threshold = 0.2\n",
        "\n",
        "od_result_dir = f\"files_demo_od_{threshold}\"\n",
        "bv_result_dir = f\"files_demo_bv_{threshold}\"\n",
        "\n",
        "create_dir(od_result_dir)\n",
        "create_dir(bv_result_dir)\n",
        "\n",
        "\"\"\" Load the model \"\"\"\n",
        "model_file_name = f\"{model_dir}/model.h5\"\n",
        "print(model_file_name)\n",
        "# with CustomObjectScope({'iou': iou, 'dice_coef': dice_coef, 'dice_coef_OD': dice_coef_OD, 'dice_coef_MA': dice_coef_MA, 'dice_loss': dice_loss}):\n",
        "model = tf.keras.models.load_model(model_file_name, compile = False)\n",
        "\n",
        "\"\"\" Load the dataset \"\"\"\n",
        "# dataset_path = os.path.join(data_dir, \"test\")\n",
        "# test_x, test_y = get_filenames_sorted(data_dir + \"/test/image/\", data_dir + \"/test/mask/\" )\n",
        "\n",
        "dataset_path = os.path.join(\"new_data\", \"test\")\n",
        "test_x, test_y = load_data(dataset_path)\n",
        "\n",
        "\"\"\" Make the prediction and calculate the metrics values \"\"\"\n",
        "SCORE_BV, SCORE_OD = [], []\n",
        "for x, y in tqdm(zip(test_x, test_y), total=len(test_x)):\n",
        "    \"\"\" Extracting name \"\"\"\n",
        "    name = x.rsplit(\"/\", 1)[1].rsplit(\".\", 1)[0]\n",
        "    print(name)\n",
        "\n",
        "    \"\"\" Read the image and mask \"\"\"\n",
        "    ori_x, x = read_image(x)\n",
        "    ori_y, y = read_mask(y)\n",
        "\n",
        "    \"\"\" Prediction \"\"\"\n",
        "    y_pred = model.predict(np.expand_dims(x, axis=0))[0]\n",
        "    y_pred_prob = deepcopy(y_pred)\n",
        "    y_pred = y_pred > threshold\n",
        "    y_pred = y_pred.astype(np.float32)\n",
        "\n",
        "    print(np.max(ori_y), np.max(y))\n",
        "\n",
        "    \"\"\" Saving the images \"\"\"\n",
        "    save_image_path_od = f\"{od_result_dir}/{name}.png\"\n",
        "    save_results(ori_x, ori_y, y_pred, save_image_path_od, od_channel)\n",
        "\n",
        "    save_image_path_bv = f\"{bv_result_dir}/{name}.png\"\n",
        "    save_results(ori_x, ori_y, y_pred, save_image_path_bv, bv_channel)\n",
        "\n",
        "\n",
        "#     \"\"\" Calculate the od metrics \"\"\"\n",
        "    bv_pred = y_pred[:, :, bv_channel].flatten()\n",
        "    bv_pred_prob = y_pred_prob[:, :, bv_channel].flatten()\n",
        "    bv_gt = y[:, :, bv_channel].flatten()\n",
        "    acc_value = accuracy_score(bv_gt > threshold, bv_pred>threshold)\n",
        "    f1_value = f1_score(bv_gt > threshold, bv_pred>threshold, labels=[0, 1], average=\"binary\")\n",
        "    jac_value = jaccard_score(bv_gt > threshold, bv_pred>threshold, labels=[0, 1], average=\"binary\")\n",
        "    recall_value = recall_score(bv_gt > threshold, bv_pred>threshold, labels=[0, 1], average=\"binary\")\n",
        "    recall_computed = np.sum((bv_gt > threshold) & (bv_pred > threshold)) / np.sum(bv_gt > threshold)\n",
        "    precision_value = precision_score(bv_gt > threshold, bv_pred>threshold, labels=[0, 1], average=\"binary\")\n",
        "    auc_score = auc(bv_gt > threshold, bv_pred_prob)\n",
        "    SCORE_BV.append([name, acc_value, f1_value, jac_value, recall_value, precision_value, recall_computed, auc_score])\n",
        "\n",
        "#     \"\"\" Calculate the ma metrics \"\"\"\n",
        "    bv_pred = y_pred[:, :, od_channel].flatten()\n",
        "    bv_pred_prob = y_pred_prob[:, :, bv_channel].flatten()\n",
        "    bv_gt = y[:, :, od_channel].flatten()\n",
        "    acc_value = accuracy_score(bv_gt > threshold, bv_pred>threshold)\n",
        "    f1_value = f1_score(bv_gt > threshold, bv_pred>threshold, labels=[0, 1], average=\"binary\")\n",
        "    jac_value = jaccard_score(bv_gt > threshold, bv_pred>threshold, labels=[0, 1], average=\"binary\")\n",
        "    recall_value = recall_score(bv_gt > threshold, bv_pred>threshold, labels=[0, 1], average=\"binary\")\n",
        "    recall_computed = np.sum((bv_gt > threshold) & (bv_pred > threshold)) / np.sum(bv_gt > threshold)\n",
        "    precision_value = precision_score(bv_gt > threshold, bv_pred>threshold, labels=[0, 1], average=\"binary\")\n",
        "    auc_score = auc(bv_gt > threshold, bv_pred_prob)\n",
        "    SCORE_OD.append([name, acc_value, f1_value, jac_value, recall_value, precision_value, recall_computed, auc_score])\n",
        "    \n",
        "print(\"\\n\")\n",
        "for SCORE in [SCORE_OD, SCORE_BV]:\n",
        "    if SCORE == SCORE_OD:\n",
        "        print(\"****** OD ******Metrics\")\n",
        "    else:\n",
        "        print(\"****** BV ******Metrics\")\n",
        "    score = [s[1:] for s in SCORE]\n",
        "    score = np.mean(score, axis=0)\n",
        "    print(f\"Threshold:\", threshold)\n",
        "    print(f\"Accuracy: {score[0]:0.5f}\")\n",
        "    print(f\"F1: {score[1]:0.5f} (dice score)\")\n",
        "    print(f\"Jaccard: {score[2]:0.5f}\")\n",
        "    print(f\"Recall: {score[3]:0.5f}\")\n",
        "    print(f\"Precision: {score[4]:0.5f}\")\n",
        "    print(f\"AUC: {score[5]:0.5f}\")\n",
        "\n",
        "    # \"\"\" Saving \"\"\"\n",
        "    if SCORE == SCORE_OD:\n",
        "        df = pd.DataFrame(SCORE, columns=[\"Image\", \"Acc\", \"F1\", \"Jaccard\", \"Recall\", \"Precision\", \"Recall Computed\", \"AUC\"])\n",
        "        df.to_csv(f\"{od_result_dir}/score.csv\")\n",
        "    else:\n",
        "        df = pd.DataFrame(SCORE, columns=[\"Image\", \"Acc\", \"F1\", \"Jaccard\", \"Recall\", \"Precision\", \"Recall Computed\", \"AUC\"])\n",
        "        df.to_csv(f\"{bv_result_dir}/score.csv\")\n",
        "    print(\"\\n\")"
      ],
      "metadata": {
        "colab": {
          "base_uri": "https://localhost:8080/"
        },
        "id": "xw0kROsKBXNF",
        "outputId": "3799e78f-9cf9-4050-be96-6ea445c0e7b3"
      },
      "execution_count": null,
      "outputs": [
        {
          "output_type": "stream",
          "name": "stdout",
          "text": [
            "files_working/model.h5\n"
          ]
        },
        {
          "output_type": "stream",
          "name": "stderr",
          "text": [
            "\r  0%|          | 0/9 [00:00<?, ?it/s]"
          ]
        },
        {
          "output_type": "stream",
          "name": "stdout",
          "text": [
            "13_dr\n",
            "255 1.0\n",
            " saving result files_demo_od_0.2/13_dr.png\n",
            " saving result files_demo_bv_0.2/13_dr.png\n"
          ]
        },
        {
          "output_type": "stream",
          "name": "stderr",
          "text": [
            "\r 11%|█         | 1/9 [00:01<00:14,  1.82s/it]"
          ]
        },
        {
          "output_type": "stream",
          "name": "stdout",
          "text": [
            "13_g\n",
            "255 1.0\n",
            " saving result files_demo_od_0.2/13_g.png\n",
            " saving result files_demo_bv_0.2/13_g.png\n"
          ]
        },
        {
          "output_type": "stream",
          "name": "stderr",
          "text": [
            "\r 22%|██▏       | 2/9 [00:02<00:09,  1.31s/it]"
          ]
        },
        {
          "output_type": "stream",
          "name": "stdout",
          "text": [
            "13_h\n",
            "255 1.0\n",
            " saving result files_demo_od_0.2/13_h.png\n",
            " saving result files_demo_bv_0.2/13_h.png\n"
          ]
        },
        {
          "output_type": "stream",
          "name": "stderr",
          "text": [
            "\r 33%|███▎      | 3/9 [00:03<00:06,  1.16s/it]"
          ]
        },
        {
          "output_type": "stream",
          "name": "stdout",
          "text": [
            "14_dr\n",
            "255 1.0\n",
            " saving result files_demo_od_0.2/14_dr.png\n",
            " saving result files_demo_bv_0.2/14_dr.png\n"
          ]
        },
        {
          "output_type": "stream",
          "name": "stderr",
          "text": [
            "\r 44%|████▍     | 4/9 [00:04<00:05,  1.09s/it]"
          ]
        },
        {
          "output_type": "stream",
          "name": "stdout",
          "text": [
            "14_g\n",
            "255 1.0\n",
            " saving result files_demo_od_0.2/14_g.png\n",
            " saving result files_demo_bv_0.2/14_g.png\n"
          ]
        },
        {
          "output_type": "stream",
          "name": "stderr",
          "text": [
            "\r 56%|█████▌    | 5/9 [00:05<00:04,  1.05s/it]"
          ]
        },
        {
          "output_type": "stream",
          "name": "stdout",
          "text": [
            "14_h\n",
            "255 1.0\n",
            " saving result files_demo_od_0.2/14_h.png\n",
            " saving result files_demo_bv_0.2/14_h.png\n"
          ]
        },
        {
          "output_type": "stream",
          "name": "stderr",
          "text": [
            "\r 67%|██████▋   | 6/9 [00:06<00:03,  1.02s/it]"
          ]
        },
        {
          "output_type": "stream",
          "name": "stdout",
          "text": [
            "15_dr\n",
            "255 1.0\n",
            " saving result files_demo_od_0.2/15_dr.png\n",
            " saving result files_demo_bv_0.2/15_dr.png\n"
          ]
        },
        {
          "output_type": "stream",
          "name": "stderr",
          "text": [
            "\r 78%|███████▊  | 7/9 [00:07<00:02,  1.01s/it]"
          ]
        },
        {
          "output_type": "stream",
          "name": "stdout",
          "text": [
            "15_g\n",
            "255 1.0\n",
            " saving result files_demo_od_0.2/15_g.png\n",
            " saving result files_demo_bv_0.2/15_g.png\n"
          ]
        },
        {
          "output_type": "stream",
          "name": "stderr",
          "text": [
            "\r 89%|████████▉ | 8/9 [00:08<00:01,  1.01s/it]"
          ]
        },
        {
          "output_type": "stream",
          "name": "stdout",
          "text": [
            "15_h\n",
            "255 1.0\n",
            " saving result files_demo_od_0.2/15_h.png\n",
            " saving result files_demo_bv_0.2/15_h.png\n"
          ]
        },
        {
          "output_type": "stream",
          "name": "stderr",
          "text": [
            "100%|██████████| 9/9 [00:09<00:00,  1.07s/it]"
          ]
        },
        {
          "output_type": "stream",
          "name": "stdout",
          "text": [
            "\n",
            "\n",
            "****** OD ******Metrics\n",
            "Threshold: 0.2\n",
            "Accuracy: 0.99751\n",
            "F1: 0.88111 (dice score)\n",
            "Jaccard: 0.79585\n",
            "Recall: 0.88754\n",
            "Precision: 0.89715\n",
            "AUC: 0.88754\n",
            "\n",
            "\n",
            "****** BV ******Metrics\n",
            "Threshold: 0.2\n",
            "Accuracy: 0.95926\n",
            "F1: 0.76241 (dice score)\n",
            "Jaccard: 0.61789\n",
            "Recall: 0.68455\n",
            "Precision: 0.86709\n",
            "AUC: 0.68455\n",
            "\n",
            "\n"
          ]
        },
        {
          "output_type": "stream",
          "name": "stderr",
          "text": [
            "\n"
          ]
        }
      ]
    },
    {
      "cell_type": "code",
      "source": [
        "from copy import deepcopy\n",
        "\n",
        "data_dir = \"new_data\"\n",
        "od_channel, bv_channel = 0, 1\n",
        "\n",
        "model_dir = \"files_working\"\n",
        "threshold = 0.75\n",
        "\n",
        "od_result_dir = f\"files_demo_od_{threshold}\"\n",
        "bv_result_dir = f\"files_demo_bv_{threshold}\"\n",
        "\n",
        "create_dir(od_result_dir)\n",
        "create_dir(bv_result_dir)\n",
        "\n",
        "\"\"\" Load the model \"\"\"\n",
        "model_file_name = f\"{model_dir}/model.h5\"\n",
        "print(model_file_name)\n",
        "# with CustomObjectScope({'iou': iou, 'dice_coef': dice_coef, 'dice_coef_OD': dice_coef_OD, 'dice_coef_MA': dice_coef_MA, 'dice_loss': dice_loss}):\n",
        "model = tf.keras.models.load_model(model_file_name, compile = False)\n",
        "\n",
        "\"\"\" Load the dataset \"\"\"\n",
        "# dataset_path = os.path.join(data_dir, \"test\")\n",
        "# test_x, test_y = get_filenames_sorted(data_dir + \"/test/image/\", data_dir + \"/test/mask/\" )\n",
        "\n",
        "dataset_path = os.path.join(\"new_data\", \"test\")\n",
        "test_x, test_y = load_data(dataset_path)\n",
        "\n",
        "\"\"\" Make the prediction and calculate the metrics values \"\"\"\n",
        "SCORE_BV, SCORE_OD = [], []\n",
        "for x, y in tqdm(zip(test_x, test_y), total=len(test_x)):\n",
        "    \"\"\" Extracting name \"\"\"\n",
        "    name = x.rsplit(\"/\", 1)[1].rsplit(\".\", 1)[0]\n",
        "    print(name)\n",
        "\n",
        "    \"\"\" Read the image and mask \"\"\"\n",
        "    ori_x, x = read_image(x)\n",
        "    ori_y, y = read_mask(y)\n",
        "\n",
        "    \"\"\" Prediction \"\"\"\n",
        "    y_pred = model.predict(np.expand_dims(x, axis=0))[0]\n",
        "    y_pred_prob = deepcopy(y_pred)\n",
        "    y_pred = y_pred > threshold\n",
        "    y_pred = y_pred.astype(np.float32)\n",
        "\n",
        "    print(np.max(ori_y), np.max(y))\n",
        "\n",
        "    \"\"\" Saving the images \"\"\"\n",
        "    save_image_path_od = f\"{od_result_dir}/{name}.png\"\n",
        "    save_results(ori_x, ori_y, y_pred, save_image_path_od, od_channel)\n",
        "\n",
        "    save_image_path_bv = f\"{bv_result_dir}/{name}.png\"\n",
        "    save_results(ori_x, ori_y, y_pred, save_image_path_bv, bv_channel)\n",
        "\n",
        "\n",
        "#     \"\"\" Calculate the od metrics \"\"\"\n",
        "    bv_pred = y_pred[:, :, bv_channel].flatten()\n",
        "    bv_pred_prob = y_pred_prob[:, :, bv_channel].flatten()\n",
        "    bv_gt = y[:, :, bv_channel].flatten()\n",
        "    acc_value = accuracy_score(bv_gt > threshold, bv_pred>threshold)\n",
        "    f1_value = f1_score(bv_gt > threshold, bv_pred>threshold, labels=[0, 1], average=\"binary\")\n",
        "    jac_value = jaccard_score(bv_gt > threshold, bv_pred>threshold, labels=[0, 1], average=\"binary\")\n",
        "    recall_value = recall_score(bv_gt > threshold, bv_pred>threshold, labels=[0, 1], average=\"binary\")\n",
        "    recall_computed = np.sum((bv_gt > threshold) & (bv_pred > threshold)) / np.sum(bv_gt > threshold)\n",
        "    precision_value = precision_score(bv_gt > threshold, bv_pred>threshold, labels=[0, 1], average=\"binary\")\n",
        "    auc_score = auc(bv_gt > threshold, bv_pred_prob)\n",
        "    SCORE_BV.append([name, acc_value, f1_value, jac_value, recall_value, precision_value, recall_computed, auc_score])\n",
        "\n",
        "#     \"\"\" Calculate the ma metrics \"\"\"\n",
        "    bv_pred = y_pred[:, :, od_channel].flatten()\n",
        "    bv_pred_prob = y_pred_prob[:, :, bv_channel].flatten()\n",
        "    bv_gt = y[:, :, od_channel].flatten()\n",
        "    acc_value = accuracy_score(bv_gt > threshold, bv_pred>threshold)\n",
        "    f1_value = f1_score(bv_gt > threshold, bv_pred>threshold, labels=[0, 1], average=\"binary\")\n",
        "    jac_value = jaccard_score(bv_gt > threshold, bv_pred>threshold, labels=[0, 1], average=\"binary\")\n",
        "    recall_value = recall_score(bv_gt > threshold, bv_pred>threshold, labels=[0, 1], average=\"binary\")\n",
        "    recall_computed = np.sum((bv_gt > threshold) & (bv_pred > threshold)) / np.sum(bv_gt > threshold)\n",
        "    precision_value = precision_score(bv_gt > threshold, bv_pred>threshold, labels=[0, 1], average=\"binary\")\n",
        "    auc_score = auc(bv_gt > threshold, bv_pred_prob)\n",
        "    SCORE_OD.append([name, acc_value, f1_value, jac_value, recall_value, precision_value, recall_computed, auc_score])\n",
        "    \n",
        "print(\"\\n\")\n",
        "for SCORE in [SCORE_OD, SCORE_BV]:\n",
        "    if SCORE == SCORE_OD:\n",
        "        print(\"****** OD ******Metrics\")\n",
        "    else:\n",
        "        print(\"****** BV ******Metrics\")\n",
        "    score = [s[1:] for s in SCORE]\n",
        "    score = np.mean(score, axis=0)\n",
        "    print(f\"Threshold:\", threshold)\n",
        "    print(f\"Accuracy: {score[0]:0.5f}\")\n",
        "    print(f\"F1: {score[1]:0.5f} (dice score)\")\n",
        "    print(f\"Jaccard: {score[2]:0.5f}\")\n",
        "    print(f\"Recall: {score[3]:0.5f}\")\n",
        "    print(f\"Precision: {score[4]:0.5f}\")\n",
        "    print(f\"AUC: {score[5]:0.5f}\")\n",
        "\n",
        "    # \"\"\" Saving \"\"\"\n",
        "    if SCORE == SCORE_OD:\n",
        "        df = pd.DataFrame(SCORE, columns=[\"Image\", \"Acc\", \"F1\", \"Jaccard\", \"Recall\", \"Precision\", \"Recall Computed\", \"AUC\"])\n",
        "        df.to_csv(f\"{od_result_dir}/score.csv\")\n",
        "    else:\n",
        "        df = pd.DataFrame(SCORE, columns=[\"Image\", \"Acc\", \"F1\", \"Jaccard\", \"Recall\", \"Precision\", \"Recall Computed\", \"AUC\"])\n",
        "        df.to_csv(f\"{bv_result_dir}/score.csv\")\n",
        "    print(\"\\n\")"
      ],
      "metadata": {
        "colab": {
          "base_uri": "https://localhost:8080/"
        },
        "id": "eTdnkgbHBad8",
        "outputId": "6d714c1f-3ff1-40dd-fbf6-5ca99370a449"
      },
      "execution_count": null,
      "outputs": [
        {
          "output_type": "stream",
          "name": "stdout",
          "text": [
            "files_working/model.h5\n"
          ]
        },
        {
          "output_type": "stream",
          "name": "stderr",
          "text": [
            "\r  0%|          | 0/9 [00:00<?, ?it/s]"
          ]
        },
        {
          "output_type": "stream",
          "name": "stdout",
          "text": [
            "13_dr\n",
            "255 1.0\n",
            " saving result files_demo_od_0.75/13_dr.png\n",
            " saving result files_demo_bv_0.75/13_dr.png\n"
          ]
        },
        {
          "output_type": "stream",
          "name": "stderr",
          "text": [
            "\r 11%|█         | 1/9 [00:01<00:10,  1.37s/it]"
          ]
        },
        {
          "output_type": "stream",
          "name": "stdout",
          "text": [
            "13_g\n",
            "255 1.0\n",
            " saving result files_demo_od_0.75/13_g.png\n",
            " saving result files_demo_bv_0.75/13_g.png\n"
          ]
        },
        {
          "output_type": "stream",
          "name": "stderr",
          "text": [
            "\r 22%|██▏       | 2/9 [00:02<00:07,  1.13s/it]"
          ]
        },
        {
          "output_type": "stream",
          "name": "stdout",
          "text": [
            "13_h\n",
            "255 1.0\n",
            " saving result files_demo_od_0.75/13_h.png\n",
            " saving result files_demo_bv_0.75/13_h.png\n"
          ]
        },
        {
          "output_type": "stream",
          "name": "stderr",
          "text": [
            "\r 33%|███▎      | 3/9 [00:03<00:06,  1.05s/it]"
          ]
        },
        {
          "output_type": "stream",
          "name": "stdout",
          "text": [
            "14_dr\n",
            "255 1.0\n",
            " saving result files_demo_od_0.75/14_dr.png\n",
            " saving result files_demo_bv_0.75/14_dr.png\n"
          ]
        },
        {
          "output_type": "stream",
          "name": "stderr",
          "text": [
            "\r 44%|████▍     | 4/9 [00:04<00:05,  1.02s/it]"
          ]
        },
        {
          "output_type": "stream",
          "name": "stdout",
          "text": [
            "14_g\n",
            "255 1.0\n",
            " saving result files_demo_od_0.75/14_g.png\n",
            " saving result files_demo_bv_0.75/14_g.png\n"
          ]
        },
        {
          "output_type": "stream",
          "name": "stderr",
          "text": [
            "\r 56%|█████▌    | 5/9 [00:05<00:04,  1.02s/it]"
          ]
        },
        {
          "output_type": "stream",
          "name": "stdout",
          "text": [
            "14_h\n",
            "255 1.0\n",
            " saving result files_demo_od_0.75/14_h.png\n",
            " saving result files_demo_bv_0.75/14_h.png\n"
          ]
        },
        {
          "output_type": "stream",
          "name": "stderr",
          "text": [
            "\r 67%|██████▋   | 6/9 [00:06<00:02,  1.01it/s]"
          ]
        },
        {
          "output_type": "stream",
          "name": "stdout",
          "text": [
            "15_dr\n",
            "255 1.0\n",
            " saving result files_demo_od_0.75/15_dr.png\n",
            " saving result files_demo_bv_0.75/15_dr.png\n"
          ]
        },
        {
          "output_type": "stream",
          "name": "stderr",
          "text": [
            "\r 78%|███████▊  | 7/9 [00:07<00:01,  1.01it/s]"
          ]
        },
        {
          "output_type": "stream",
          "name": "stdout",
          "text": [
            "15_g\n",
            "255 1.0\n",
            " saving result files_demo_od_0.75/15_g.png\n",
            " saving result files_demo_bv_0.75/15_g.png\n"
          ]
        },
        {
          "output_type": "stream",
          "name": "stderr",
          "text": [
            "\r 89%|████████▉ | 8/9 [00:08<00:01,  1.21s/it]"
          ]
        },
        {
          "output_type": "stream",
          "name": "stdout",
          "text": [
            "15_h\n",
            "255 1.0\n",
            " saving result files_demo_od_0.75/15_h.png\n",
            " saving result files_demo_bv_0.75/15_h.png\n"
          ]
        },
        {
          "output_type": "stream",
          "name": "stderr",
          "text": [
            "100%|██████████| 9/9 [00:09<00:00,  1.09s/it]"
          ]
        },
        {
          "output_type": "stream",
          "name": "stdout",
          "text": [
            "\n",
            "\n",
            "****** OD ******Metrics\n",
            "Threshold: 0.75\n",
            "Accuracy: 0.99711\n",
            "F1: 0.83157 (dice score)\n",
            "Jaccard: 0.74016\n",
            "Recall: 0.81677\n",
            "Precision: 0.90556\n",
            "AUC: 0.81677\n",
            "\n",
            "\n",
            "****** BV ******Metrics\n",
            "Threshold: 0.75\n",
            "Accuracy: 0.97020\n",
            "F1: 0.73604 (dice score)\n",
            "Jaccard: 0.58371\n",
            "Recall: 0.77509\n",
            "Precision: 0.70993\n",
            "AUC: 0.77509\n",
            "\n",
            "\n"
          ]
        },
        {
          "output_type": "stream",
          "name": "stderr",
          "text": [
            "\n"
          ]
        }
      ]
    },
    {
      "cell_type": "code",
      "source": [
        "from copy import deepcopy\n",
        "\n",
        "data_dir = \"new_data\"\n",
        "od_channel, bv_channel = 0, 1\n",
        "\n",
        "model_dir = \"files_working\"\n",
        "threshold = 0.25\n",
        "\n",
        "od_result_dir = f\"files_demo_od_{threshold}\"\n",
        "bv_result_dir = f\"files_demo_bv_{threshold}\"\n",
        "\n",
        "create_dir(od_result_dir)\n",
        "create_dir(bv_result_dir)\n",
        "\n",
        "\"\"\" Load the model \"\"\"\n",
        "model_file_name = f\"{model_dir}/model.h5\"\n",
        "print(model_file_name)\n",
        "# with CustomObjectScope({'iou': iou, 'dice_coef': dice_coef, 'dice_coef_OD': dice_coef_OD, 'dice_coef_MA': dice_coef_MA, 'dice_loss': dice_loss}):\n",
        "model = tf.keras.models.load_model(model_file_name, compile = False)\n",
        "\n",
        "\"\"\" Load the dataset \"\"\"\n",
        "# dataset_path = os.path.join(data_dir, \"test\")\n",
        "# test_x, test_y = get_filenames_sorted(data_dir + \"/test/image/\", data_dir + \"/test/mask/\" )\n",
        "\n",
        "dataset_path = os.path.join(\"new_data\", \"test\")\n",
        "test_x, test_y = load_data(dataset_path)\n",
        "\n",
        "\"\"\" Make the prediction and calculate the metrics values \"\"\"\n",
        "SCORE_BV, SCORE_OD = [], []\n",
        "for x, y in tqdm(zip(test_x, test_y), total=len(test_x)):\n",
        "    \"\"\" Extracting name \"\"\"\n",
        "    name = x.rsplit(\"/\", 1)[1].rsplit(\".\", 1)[0]\n",
        "    print(name)\n",
        "\n",
        "    \"\"\" Read the image and mask \"\"\"\n",
        "    ori_x, x = read_image(x)\n",
        "    ori_y, y = read_mask(y)\n",
        "\n",
        "    \"\"\" Prediction \"\"\"\n",
        "    y_pred = model.predict(np.expand_dims(x, axis=0))[0]\n",
        "    y_pred_prob = deepcopy(y_pred)\n",
        "    y_pred = y_pred > threshold\n",
        "    y_pred = y_pred.astype(np.float32)\n",
        "\n",
        "    print(np.max(ori_y), np.max(y))\n",
        "\n",
        "    \"\"\" Saving the images \"\"\"\n",
        "    save_image_path_od = f\"{od_result_dir}/{name}.png\"\n",
        "    save_results(ori_x, ori_y, y_pred, save_image_path_od, od_channel)\n",
        "\n",
        "    save_image_path_bv = f\"{bv_result_dir}/{name}.png\"\n",
        "    save_results(ori_x, ori_y, y_pred, save_image_path_bv, bv_channel)\n",
        "\n",
        "\n",
        "#     \"\"\" Calculate the od metrics \"\"\"\n",
        "    bv_pred = y_pred[:, :, bv_channel].flatten()\n",
        "    bv_pred_prob = y_pred_prob[:, :, bv_channel].flatten()\n",
        "    bv_gt = y[:, :, bv_channel].flatten()\n",
        "    acc_value = accuracy_score(bv_gt > threshold, bv_pred>threshold)\n",
        "    f1_value = f1_score(bv_gt > threshold, bv_pred>threshold, labels=[0, 1], average=\"binary\")\n",
        "    jac_value = jaccard_score(bv_gt > threshold, bv_pred>threshold, labels=[0, 1], average=\"binary\")\n",
        "    recall_value = recall_score(bv_gt > threshold, bv_pred>threshold, labels=[0, 1], average=\"binary\")\n",
        "    recall_computed = np.sum((bv_gt > threshold) & (bv_pred > threshold)) / np.sum(bv_gt > threshold)\n",
        "    precision_value = precision_score(bv_gt > threshold, bv_pred>threshold, labels=[0, 1], average=\"binary\")\n",
        "    auc_score = auc(bv_gt > threshold, bv_pred_prob)\n",
        "    SCORE_BV.append([name, acc_value, f1_value, jac_value, recall_value, precision_value, recall_computed, auc_score])\n",
        "\n",
        "#     \"\"\" Calculate the ma metrics \"\"\"\n",
        "    bv_pred = y_pred[:, :, od_channel].flatten()\n",
        "    bv_pred_prob = y_pred_prob[:, :, bv_channel].flatten()\n",
        "    bv_gt = y[:, :, od_channel].flatten()\n",
        "    acc_value = accuracy_score(bv_gt > threshold, bv_pred>threshold)\n",
        "    f1_value = f1_score(bv_gt > threshold, bv_pred>threshold, labels=[0, 1], average=\"binary\")\n",
        "    jac_value = jaccard_score(bv_gt > threshold, bv_pred>threshold, labels=[0, 1], average=\"binary\")\n",
        "    recall_value = recall_score(bv_gt > threshold, bv_pred>threshold, labels=[0, 1], average=\"binary\")\n",
        "    recall_computed = np.sum((bv_gt > threshold) & (bv_pred > threshold)) / np.sum(bv_gt > threshold)\n",
        "    precision_value = precision_score(bv_gt > threshold, bv_pred>threshold, labels=[0, 1], average=\"binary\")\n",
        "    auc_score = auc(bv_gt > threshold, bv_pred_prob)\n",
        "    SCORE_OD.append([name, acc_value, f1_value, jac_value, recall_value, precision_value, recall_computed, auc_score])\n",
        "    \n",
        "print(\"\\n\")\n",
        "for SCORE in [SCORE_OD, SCORE_BV]:\n",
        "    if SCORE == SCORE_OD:\n",
        "        print(\"****** OD ******Metrics\")\n",
        "    else:\n",
        "        print(\"****** BV ******Metrics\")\n",
        "    score = [s[1:] for s in SCORE]\n",
        "    score = np.mean(score, axis=0)\n",
        "    print(f\"Threshold:\", threshold)\n",
        "    print(f\"Accuracy: {score[0]:0.5f}\")\n",
        "    print(f\"F1: {score[1]:0.5f} (dice score)\")\n",
        "    print(f\"Jaccard: {score[2]:0.5f}\")\n",
        "    print(f\"Recall: {score[3]:0.5f}\")\n",
        "    print(f\"Precision: {score[4]:0.5f}\")\n",
        "    print(f\"AUC: {score[5]:0.5f}\")\n",
        "\n",
        "    # \"\"\" Saving \"\"\"\n",
        "    if SCORE == SCORE_OD:\n",
        "        df = pd.DataFrame(SCORE, columns=[\"Image\", \"Acc\", \"F1\", \"Jaccard\", \"Recall\", \"Precision\", \"Recall Computed\", \"AUC\"])\n",
        "        df.to_csv(f\"{od_result_dir}/score.csv\")\n",
        "    else:\n",
        "        df = pd.DataFrame(SCORE, columns=[\"Image\", \"Acc\", \"F1\", \"Jaccard\", \"Recall\", \"Precision\", \"Recall Computed\", \"AUC\"])\n",
        "        df.to_csv(f\"{bv_result_dir}/score.csv\")\n",
        "    print(\"\\n\")"
      ],
      "metadata": {
        "colab": {
          "base_uri": "https://localhost:8080/"
        },
        "id": "rTJbgENQBdHs",
        "outputId": "0347cd59-71b1-4f77-fde2-432169abc29a"
      },
      "execution_count": null,
      "outputs": [
        {
          "output_type": "stream",
          "name": "stdout",
          "text": [
            "files_working/model.h5\n"
          ]
        },
        {
          "output_type": "stream",
          "name": "stderr",
          "text": [
            "\r  0%|          | 0/9 [00:00<?, ?it/s]"
          ]
        },
        {
          "output_type": "stream",
          "name": "stdout",
          "text": [
            "13_dr\n",
            "255 1.0\n",
            " saving result files_demo_od_0.25/13_dr.png\n",
            " saving result files_demo_bv_0.25/13_dr.png\n"
          ]
        },
        {
          "output_type": "stream",
          "name": "stderr",
          "text": [
            "\r 11%|█         | 1/9 [00:01<00:11,  1.41s/it]"
          ]
        },
        {
          "output_type": "stream",
          "name": "stdout",
          "text": [
            "13_g\n",
            "255 1.0\n",
            " saving result files_demo_od_0.25/13_g.png\n",
            " saving result files_demo_bv_0.25/13_g.png\n"
          ]
        },
        {
          "output_type": "stream",
          "name": "stderr",
          "text": [
            "\r 22%|██▏       | 2/9 [00:02<00:08,  1.15s/it]"
          ]
        },
        {
          "output_type": "stream",
          "name": "stdout",
          "text": [
            "13_h\n",
            "255 1.0\n",
            " saving result files_demo_od_0.25/13_h.png\n",
            " saving result files_demo_bv_0.25/13_h.png\n"
          ]
        },
        {
          "output_type": "stream",
          "name": "stderr",
          "text": [
            "\r 33%|███▎      | 3/9 [00:03<00:06,  1.08s/it]"
          ]
        },
        {
          "output_type": "stream",
          "name": "stdout",
          "text": [
            "14_dr\n",
            "255 1.0\n",
            " saving result files_demo_od_0.25/14_dr.png\n",
            " saving result files_demo_bv_0.25/14_dr.png\n"
          ]
        },
        {
          "output_type": "stream",
          "name": "stderr",
          "text": [
            "\r 44%|████▍     | 4/9 [00:04<00:05,  1.04s/it]"
          ]
        },
        {
          "output_type": "stream",
          "name": "stdout",
          "text": [
            "14_g\n",
            "255 1.0\n",
            " saving result files_demo_od_0.25/14_g.png\n",
            " saving result files_demo_bv_0.25/14_g.png\n"
          ]
        },
        {
          "output_type": "stream",
          "name": "stderr",
          "text": [
            "\r 56%|█████▌    | 5/9 [00:05<00:04,  1.02s/it]"
          ]
        },
        {
          "output_type": "stream",
          "name": "stdout",
          "text": [
            "14_h\n",
            "255 1.0\n",
            " saving result files_demo_od_0.25/14_h.png\n",
            " saving result files_demo_bv_0.25/14_h.png\n"
          ]
        },
        {
          "output_type": "stream",
          "name": "stderr",
          "text": [
            "\r 67%|██████▋   | 6/9 [00:06<00:03,  1.01s/it]"
          ]
        },
        {
          "output_type": "stream",
          "name": "stdout",
          "text": [
            "15_dr\n",
            "255 1.0\n",
            " saving result files_demo_od_0.25/15_dr.png\n",
            " saving result files_demo_bv_0.25/15_dr.png\n"
          ]
        },
        {
          "output_type": "stream",
          "name": "stderr",
          "text": [
            "\r 78%|███████▊  | 7/9 [00:07<00:01,  1.01it/s]"
          ]
        },
        {
          "output_type": "stream",
          "name": "stdout",
          "text": [
            "15_g\n",
            "255 1.0\n",
            " saving result files_demo_od_0.25/15_g.png\n",
            " saving result files_demo_bv_0.25/15_g.png\n"
          ]
        },
        {
          "output_type": "stream",
          "name": "stderr",
          "text": [
            "\r 89%|████████▉ | 8/9 [00:08<00:00,  1.02it/s]"
          ]
        },
        {
          "output_type": "stream",
          "name": "stdout",
          "text": [
            "15_h\n",
            "255 1.0\n",
            " saving result files_demo_od_0.25/15_h.png\n",
            " saving result files_demo_bv_0.25/15_h.png\n"
          ]
        },
        {
          "output_type": "stream",
          "name": "stderr",
          "text": [
            "100%|██████████| 9/9 [00:09<00:00,  1.02s/it]"
          ]
        },
        {
          "output_type": "stream",
          "name": "stdout",
          "text": [
            "\n",
            "\n",
            "****** OD ******Metrics\n",
            "Threshold: 0.25\n",
            "Accuracy: 0.99748\n",
            "F1: 0.87714 (dice score)\n",
            "Jaccard: 0.79039\n",
            "Recall: 0.88335\n",
            "Precision: 0.89529\n",
            "AUC: 0.88335\n",
            "\n",
            "\n",
            "****** BV ******Metrics\n",
            "Threshold: 0.25\n",
            "Accuracy: 0.96063\n",
            "F1: 0.76286 (dice score)\n",
            "Jaccard: 0.61844\n",
            "Recall: 0.68700\n",
            "Precision: 0.86451\n",
            "AUC: 0.68700\n",
            "\n",
            "\n"
          ]
        },
        {
          "output_type": "stream",
          "name": "stderr",
          "text": [
            "\n"
          ]
        }
      ]
    },
    {
      "cell_type": "code",
      "source": [
        "from copy import deepcopy\n",
        "\n",
        "data_dir = \"new_data\"\n",
        "od_channel, bv_channel = 0, 1\n",
        "\n",
        "model_dir = \"files_working\"\n",
        "threshold = 0.35\n",
        "\n",
        "od_result_dir = f\"files_demo_od_{threshold}\"\n",
        "bv_result_dir = f\"files_demo_bv_{threshold}\"\n",
        "\n",
        "create_dir(od_result_dir)\n",
        "create_dir(bv_result_dir)\n",
        "\n",
        "\"\"\" Load the model \"\"\"\n",
        "model_file_name = f\"{model_dir}/model.h5\"\n",
        "print(model_file_name)\n",
        "# with CustomObjectScope({'iou': iou, 'dice_coef': dice_coef, 'dice_coef_OD': dice_coef_OD, 'dice_coef_MA': dice_coef_MA, 'dice_loss': dice_loss}):\n",
        "model = tf.keras.models.load_model(model_file_name, compile = False)\n",
        "\n",
        "\"\"\" Load the dataset \"\"\"\n",
        "# dataset_path = os.path.join(data_dir, \"test\")\n",
        "# test_x, test_y = get_filenames_sorted(data_dir + \"/test/image/\", data_dir + \"/test/mask/\" )\n",
        "\n",
        "dataset_path = os.path.join(\"new_data\", \"test\")\n",
        "test_x, test_y = load_data(dataset_path)\n",
        "\n",
        "\"\"\" Make the prediction and calculate the metrics values \"\"\"\n",
        "SCORE_BV, SCORE_OD = [], []\n",
        "for x, y in tqdm(zip(test_x, test_y), total=len(test_x)):\n",
        "    \"\"\" Extracting name \"\"\"\n",
        "    name = x.rsplit(\"/\", 1)[1].rsplit(\".\", 1)[0]\n",
        "    print(name)\n",
        "\n",
        "    \"\"\" Read the image and mask \"\"\"\n",
        "    ori_x, x = read_image(x)\n",
        "    ori_y, y = read_mask(y)\n",
        "\n",
        "    \"\"\" Prediction \"\"\"\n",
        "    y_pred = model.predict(np.expand_dims(x, axis=0))[0]\n",
        "    y_pred_prob = deepcopy(y_pred)\n",
        "    y_pred = y_pred > threshold\n",
        "    y_pred = y_pred.astype(np.float32)\n",
        "\n",
        "    print(np.max(ori_y), np.max(y))\n",
        "\n",
        "    \"\"\" Saving the images \"\"\"\n",
        "    save_image_path_od = f\"{od_result_dir}/{name}.png\"\n",
        "    save_results(ori_x, ori_y, y_pred, save_image_path_od, od_channel)\n",
        "\n",
        "    save_image_path_bv = f\"{bv_result_dir}/{name}.png\"\n",
        "    save_results(ori_x, ori_y, y_pred, save_image_path_bv, bv_channel)\n",
        "\n",
        "\n",
        "#     \"\"\" Calculate the od metrics \"\"\"\n",
        "    bv_pred = y_pred[:, :, bv_channel].flatten()\n",
        "    bv_pred_prob = y_pred_prob[:, :, bv_channel].flatten()\n",
        "    bv_gt = y[:, :, bv_channel].flatten()\n",
        "    acc_value = accuracy_score(bv_gt > threshold, bv_pred>threshold)\n",
        "    f1_value = f1_score(bv_gt > threshold, bv_pred>threshold, labels=[0, 1], average=\"binary\")\n",
        "    jac_value = jaccard_score(bv_gt > threshold, bv_pred>threshold, labels=[0, 1], average=\"binary\")\n",
        "    recall_value = recall_score(bv_gt > threshold, bv_pred>threshold, labels=[0, 1], average=\"binary\")\n",
        "    recall_computed = np.sum((bv_gt > threshold) & (bv_pred > threshold)) / np.sum(bv_gt > threshold)\n",
        "    precision_value = precision_score(bv_gt > threshold, bv_pred>threshold, labels=[0, 1], average=\"binary\")\n",
        "    auc_score = auc(bv_gt > threshold, bv_pred_prob)\n",
        "    SCORE_BV.append([name, acc_value, f1_value, jac_value, recall_value, precision_value, recall_computed, auc_score])\n",
        "\n",
        "#     \"\"\" Calculate the ma metrics \"\"\"\n",
        "    bv_pred = y_pred[:, :, od_channel].flatten()\n",
        "    bv_pred_prob = y_pred_prob[:, :, bv_channel].flatten()\n",
        "    bv_gt = y[:, :, od_channel].flatten()\n",
        "    acc_value = accuracy_score(bv_gt > threshold, bv_pred>threshold)\n",
        "    f1_value = f1_score(bv_gt > threshold, bv_pred>threshold, labels=[0, 1], average=\"binary\")\n",
        "    jac_value = jaccard_score(bv_gt > threshold, bv_pred>threshold, labels=[0, 1], average=\"binary\")\n",
        "    recall_value = recall_score(bv_gt > threshold, bv_pred>threshold, labels=[0, 1], average=\"binary\")\n",
        "    recall_computed = np.sum((bv_gt > threshold) & (bv_pred > threshold)) / np.sum(bv_gt > threshold)\n",
        "    precision_value = precision_score(bv_gt > threshold, bv_pred>threshold, labels=[0, 1], average=\"binary\")\n",
        "    auc_score = auc(bv_gt > threshold, bv_pred_prob)\n",
        "    SCORE_OD.append([name, acc_value, f1_value, jac_value, recall_value, precision_value, recall_computed, auc_score])\n",
        "    \n",
        "print(\"\\n\")\n",
        "for SCORE in [SCORE_OD, SCORE_BV]:\n",
        "    if SCORE == SCORE_OD:\n",
        "        print(\"****** OD ******Metrics\")\n",
        "    else:\n",
        "        print(\"****** BV ******Metrics\")\n",
        "    score = [s[1:] for s in SCORE]\n",
        "    score = np.mean(score, axis=0)\n",
        "    print(f\"Threshold:\", threshold)\n",
        "    print(f\"Accuracy: {score[0]:0.5f}\")\n",
        "    print(f\"F1: {score[1]:0.5f} (dice score)\")\n",
        "    print(f\"Jaccard: {score[2]:0.5f}\")\n",
        "    print(f\"Recall: {score[3]:0.5f}\")\n",
        "    print(f\"Precision: {score[4]:0.5f}\")\n",
        "    print(f\"AUC: {score[5]:0.5f}\")\n",
        "\n",
        "    # \"\"\" Saving \"\"\"\n",
        "    if SCORE == SCORE_OD:\n",
        "        df = pd.DataFrame(SCORE, columns=[\"Image\", \"Acc\", \"F1\", \"Jaccard\", \"Recall\", \"Precision\", \"Recall Computed\", \"AUC\"])\n",
        "        df.to_csv(f\"{od_result_dir}/score.csv\")\n",
        "    else:\n",
        "        df = pd.DataFrame(SCORE, columns=[\"Image\", \"Acc\", \"F1\", \"Jaccard\", \"Recall\", \"Precision\", \"Recall Computed\", \"AUC\"])\n",
        "        df.to_csv(f\"{bv_result_dir}/score.csv\")\n",
        "    print(\"\\n\")"
      ],
      "metadata": {
        "colab": {
          "base_uri": "https://localhost:8080/"
        },
        "id": "p13-Id9yBi5a",
        "outputId": "0c96de8e-b68f-44ea-afac-b2d8102dacea"
      },
      "execution_count": null,
      "outputs": [
        {
          "output_type": "stream",
          "name": "stdout",
          "text": [
            "files_working/model.h5\n"
          ]
        },
        {
          "output_type": "stream",
          "name": "stderr",
          "text": [
            "\r  0%|          | 0/9 [00:00<?, ?it/s]"
          ]
        },
        {
          "output_type": "stream",
          "name": "stdout",
          "text": [
            "13_dr\n",
            "255 1.0\n",
            " saving result files_demo_od_0.35/13_dr.png\n",
            " saving result files_demo_bv_0.35/13_dr.png\n"
          ]
        },
        {
          "output_type": "stream",
          "name": "stderr",
          "text": [
            "\r 11%|█         | 1/9 [00:02<00:17,  2.18s/it]"
          ]
        },
        {
          "output_type": "stream",
          "name": "stdout",
          "text": [
            "13_g\n",
            "255 1.0\n",
            " saving result files_demo_od_0.35/13_g.png\n",
            " saving result files_demo_bv_0.35/13_g.png\n"
          ]
        },
        {
          "output_type": "stream",
          "name": "stderr",
          "text": [
            "\r 22%|██▏       | 2/9 [00:03<00:13,  1.93s/it]"
          ]
        },
        {
          "output_type": "stream",
          "name": "stdout",
          "text": [
            "13_h\n",
            "255 1.0\n",
            " saving result files_demo_od_0.35/13_h.png\n",
            " saving result files_demo_bv_0.35/13_h.png\n"
          ]
        },
        {
          "output_type": "stream",
          "name": "stderr",
          "text": [
            "\r 33%|███▎      | 3/9 [00:05<00:10,  1.69s/it]"
          ]
        },
        {
          "output_type": "stream",
          "name": "stdout",
          "text": [
            "14_dr\n",
            "255 1.0\n",
            " saving result files_demo_od_0.35/14_dr.png\n",
            " saving result files_demo_bv_0.35/14_dr.png\n"
          ]
        },
        {
          "output_type": "stream",
          "name": "stderr",
          "text": [
            "\r 44%|████▍     | 4/9 [00:06<00:07,  1.58s/it]"
          ]
        },
        {
          "output_type": "stream",
          "name": "stdout",
          "text": [
            "14_g\n",
            "255 1.0\n",
            " saving result files_demo_od_0.35/14_g.png\n",
            " saving result files_demo_bv_0.35/14_g.png\n"
          ]
        },
        {
          "output_type": "stream",
          "name": "stderr",
          "text": [
            "\r 56%|█████▌    | 5/9 [00:08<00:05,  1.47s/it]"
          ]
        },
        {
          "output_type": "stream",
          "name": "stdout",
          "text": [
            "14_h\n",
            "255 1.0\n",
            " saving result files_demo_od_0.35/14_h.png\n",
            " saving result files_demo_bv_0.35/14_h.png\n"
          ]
        },
        {
          "output_type": "stream",
          "name": "stderr",
          "text": [
            "\r 67%|██████▋   | 6/9 [00:08<00:03,  1.29s/it]"
          ]
        },
        {
          "output_type": "stream",
          "name": "stdout",
          "text": [
            "15_dr\n",
            "255 1.0\n",
            " saving result files_demo_od_0.35/15_dr.png\n",
            " saving result files_demo_bv_0.35/15_dr.png\n"
          ]
        },
        {
          "output_type": "stream",
          "name": "stderr",
          "text": [
            "\r 78%|███████▊  | 7/9 [00:09<00:02,  1.18s/it]"
          ]
        },
        {
          "output_type": "stream",
          "name": "stdout",
          "text": [
            "15_g\n",
            "255 1.0\n",
            " saving result files_demo_od_0.35/15_g.png\n",
            " saving result files_demo_bv_0.35/15_g.png\n"
          ]
        },
        {
          "output_type": "stream",
          "name": "stderr",
          "text": [
            "\r 89%|████████▉ | 8/9 [00:10<00:01,  1.10s/it]"
          ]
        },
        {
          "output_type": "stream",
          "name": "stdout",
          "text": [
            "15_h\n",
            "255 1.0\n",
            " saving result files_demo_od_0.35/15_h.png\n",
            " saving result files_demo_bv_0.35/15_h.png\n"
          ]
        },
        {
          "output_type": "stream",
          "name": "stderr",
          "text": [
            "100%|██████████| 9/9 [00:11<00:00,  1.32s/it]"
          ]
        },
        {
          "output_type": "stream",
          "name": "stdout",
          "text": [
            "\n",
            "\n",
            "****** OD ******Metrics\n",
            "Threshold: 0.35\n",
            "Accuracy: 0.99743\n",
            "F1: 0.87044 (dice score)\n",
            "Jaccard: 0.78244\n",
            "Recall: 0.87158\n",
            "Precision: 0.89845\n",
            "AUC: 0.87158\n",
            "\n",
            "\n",
            "****** BV ******Metrics\n",
            "Threshold: 0.35\n",
            "Accuracy: 0.96579\n",
            "F1: 0.76781 (dice score)\n",
            "Jaccard: 0.62491\n",
            "Recall: 0.73530\n",
            "Precision: 0.81012\n",
            "AUC: 0.73530\n",
            "\n",
            "\n"
          ]
        },
        {
          "output_type": "stream",
          "name": "stderr",
          "text": [
            "\n"
          ]
        }
      ]
    },
    {
      "cell_type": "code",
      "source": [
        ""
      ],
      "metadata": {
        "id": "kt0b3L6hB_yr"
      },
      "execution_count": null,
      "outputs": []
    },
    {
      "cell_type": "code",
      "source": [
        "from copy import deepcopy\n",
        "\n",
        "data_dir = \"new_data\"\n",
        "od_channel, bv_channel = 0, 1\n",
        "\n",
        "model_dir = \"files_working\"\n",
        "threshold = 0.3\n",
        "\n",
        "od_result_dir = f\"files_demo_od_{threshold}\"\n",
        "bv_result_dir = f\"files_demo_bv_{threshold}\"\n",
        "\n",
        "create_dir(od_result_dir)\n",
        "create_dir(bv_result_dir)\n",
        "\n",
        "\"\"\" Load the model \"\"\"\n",
        "model_file_name = f\"{model_dir}/model.h5\"\n",
        "print(model_file_name)\n",
        "# with CustomObjectScope({'iou': iou, 'dice_coef': dice_coef, 'dice_coef_OD': dice_coef_OD, 'dice_coef_MA': dice_coef_MA, 'dice_loss': dice_loss}):\n",
        "model = tf.keras.models.load_model(model_file_name, compile = False)\n",
        "\n",
        "\"\"\" Load the dataset \"\"\"\n",
        "# dataset_path = os.path.join(data_dir, \"test\")\n",
        "# test_x, test_y = get_filenames_sorted(data_dir + \"/test/image/\", data_dir + \"/test/mask/\" )\n",
        "\n",
        "dataset_path = os.path.join(\"new_data\", \"test\")\n",
        "test_x, test_y = load_data(dataset_path)\n",
        "\n",
        "\"\"\" Make the prediction and calculate the metrics values \"\"\"\n",
        "SCORE_BV, SCORE_OD = [], []\n",
        "for x, y in tqdm(zip(test_x, test_y), total=len(test_x)):\n",
        "    \"\"\" Extracting name \"\"\"\n",
        "    name = x.rsplit(\"/\", 1)[1].rsplit(\".\", 1)[0]\n",
        "    print(name)\n",
        "\n",
        "    \"\"\" Read the image and mask \"\"\"\n",
        "    ori_x, x = read_image(x)\n",
        "    ori_y, y = read_mask(y)\n",
        "\n",
        "    \"\"\" Prediction \"\"\"\n",
        "    y_pred = model.predict(np.expand_dims(x, axis=0))[0]\n",
        "    y_pred_prob = deepcopy(y_pred)\n",
        "    y_pred = y_pred > threshold\n",
        "    y_pred = y_pred.astype(np.float32)\n",
        "\n",
        "    print(np.max(ori_y), np.max(y))\n",
        "\n",
        "    \"\"\" Saving the images \"\"\"\n",
        "    save_image_path_od = f\"{od_result_dir}/{name}.png\"\n",
        "    save_results(ori_x, ori_y, y_pred, save_image_path_od, od_channel)\n",
        "\n",
        "    save_image_path_bv = f\"{bv_result_dir}/{name}.png\"\n",
        "    save_results(ori_x, ori_y, y_pred, save_image_path_bv, bv_channel)\n",
        "\n",
        "\n",
        "#     \"\"\" Calculate the od metrics \"\"\"\n",
        "    bv_pred = y_pred[:, :, bv_channel].flatten()\n",
        "    bv_pred_prob = y_pred_prob[:, :, bv_channel].flatten()\n",
        "    bv_gt = y[:, :, bv_channel].flatten()\n",
        "    acc_value = accuracy_score(bv_gt > threshold, bv_pred>threshold)\n",
        "    f1_value = f1_score(bv_gt > threshold, bv_pred>threshold, labels=[0, 1], average=\"binary\")\n",
        "    jac_value = jaccard_score(bv_gt > threshold, bv_pred>threshold, labels=[0, 1], average=\"binary\")\n",
        "    recall_value = recall_score(bv_gt > threshold, bv_pred>threshold, labels=[0, 1], average=\"binary\")\n",
        "    recall_computed = np.sum((bv_gt > threshold) & (bv_pred > threshold)) / np.sum(bv_gt > threshold)\n",
        "    precision_value = precision_score(bv_gt > threshold, bv_pred>threshold, labels=[0, 1], average=\"binary\")\n",
        "    auc_score = auc(bv_gt > threshold, bv_pred_prob)\n",
        "    SCORE_BV.append([name, acc_value, f1_value, jac_value, recall_value, precision_value, recall_computed, auc_score])\n",
        "\n",
        "#     \"\"\" Calculate the ma metrics \"\"\"\n",
        "    bv_pred = y_pred[:, :, od_channel].flatten()\n",
        "    bv_pred_prob = y_pred_prob[:, :, bv_channel].flatten()\n",
        "    bv_gt = y[:, :, od_channel].flatten()\n",
        "    acc_value = accuracy_score(bv_gt > threshold, bv_pred>threshold)\n",
        "    f1_value = f1_score(bv_gt > threshold, bv_pred>threshold, labels=[0, 1], average=\"binary\")\n",
        "    jac_value = jaccard_score(bv_gt > threshold, bv_pred>threshold, labels=[0, 1], average=\"binary\")\n",
        "    recall_value = recall_score(bv_gt > threshold, bv_pred>threshold, labels=[0, 1], average=\"binary\")\n",
        "    recall_computed = np.sum((bv_gt > threshold) & (bv_pred > threshold)) / np.sum(bv_gt > threshold)\n",
        "    precision_value = precision_score(bv_gt > threshold, bv_pred>threshold, labels=[0, 1], average=\"binary\")\n",
        "    auc_score = auc(bv_gt > threshold, bv_pred_prob)\n",
        "    SCORE_OD.append([name, acc_value, f1_value, jac_value, recall_value, precision_value, recall_computed, auc_score])\n",
        "    \n",
        "print(\"\\n\")\n",
        "for SCORE in [SCORE_OD, SCORE_BV]:\n",
        "    if SCORE == SCORE_OD:\n",
        "        print(\"****** OD ******Metrics\")\n",
        "    else:\n",
        "        print(\"****** BV ******Metrics\")\n",
        "    score = [s[1:] for s in SCORE]\n",
        "    score = np.mean(score, axis=0)\n",
        "    print(f\"Threshold:\", threshold)\n",
        "    print(f\"Accuracy: {score[0]:0.5f}\")\n",
        "    print(f\"F1: {score[1]:0.5f} (dice score)\")\n",
        "    print(f\"Jaccard: {score[2]:0.5f}\")\n",
        "    print(f\"Recall: {score[3]:0.5f}\")\n",
        "    print(f\"Precision: {score[4]:0.5f}\")\n",
        "    print(f\"AUC: {score[5]:0.5f}\")\n",
        "\n",
        "    # \"\"\" Saving \"\"\"\n",
        "    if SCORE == SCORE_OD:\n",
        "        df = pd.DataFrame(SCORE, columns=[\"Image\", \"Acc\", \"F1\", \"Jaccard\", \"Recall\", \"Precision\", \"Recall Computed\", \"AUC\"])\n",
        "        df.to_csv(f\"{od_result_dir}/score.csv\")\n",
        "    else:\n",
        "        df = pd.DataFrame(SCORE, columns=[\"Image\", \"Acc\", \"F1\", \"Jaccard\", \"Recall\", \"Precision\", \"Recall Computed\", \"AUC\"])\n",
        "        df.to_csv(f\"{bv_result_dir}/score.csv\")\n",
        "    print(\"\\n\")"
      ],
      "metadata": {
        "colab": {
          "base_uri": "https://localhost:8080/"
        },
        "id": "YPZh4XvOBY4s",
        "outputId": "1dd42c43-ab08-4355-fef2-b429ddde07a8"
      },
      "execution_count": null,
      "outputs": [
        {
          "output_type": "stream",
          "name": "stdout",
          "text": [
            "files_working/model.h5\n"
          ]
        },
        {
          "output_type": "stream",
          "name": "stderr",
          "text": [
            "\r  0%|          | 0/9 [00:00<?, ?it/s]"
          ]
        },
        {
          "output_type": "stream",
          "name": "stdout",
          "text": [
            "13_dr\n",
            "255 1.0\n",
            " saving result files_demo_od_0.3/13_dr.png\n",
            " saving result files_demo_bv_0.3/13_dr.png\n"
          ]
        },
        {
          "output_type": "stream",
          "name": "stderr",
          "text": [
            "\r 11%|█         | 1/9 [00:01<00:13,  1.73s/it]"
          ]
        },
        {
          "output_type": "stream",
          "name": "stdout",
          "text": [
            "13_g\n",
            "255 1.0\n",
            " saving result files_demo_od_0.3/13_g.png\n",
            " saving result files_demo_bv_0.3/13_g.png\n"
          ]
        },
        {
          "output_type": "stream",
          "name": "stderr",
          "text": [
            "\r 22%|██▏       | 2/9 [00:02<00:09,  1.29s/it]"
          ]
        },
        {
          "output_type": "stream",
          "name": "stdout",
          "text": [
            "13_h\n",
            "255 1.0\n",
            " saving result files_demo_od_0.3/13_h.png\n",
            " saving result files_demo_bv_0.3/13_h.png\n"
          ]
        },
        {
          "output_type": "stream",
          "name": "stderr",
          "text": [
            "\r 33%|███▎      | 3/9 [00:03<00:06,  1.14s/it]"
          ]
        },
        {
          "output_type": "stream",
          "name": "stdout",
          "text": [
            "14_dr\n",
            "255 1.0\n",
            " saving result files_demo_od_0.3/14_dr.png\n",
            " saving result files_demo_bv_0.3/14_dr.png\n"
          ]
        },
        {
          "output_type": "stream",
          "name": "stderr",
          "text": [
            "\r 44%|████▍     | 4/9 [00:04<00:05,  1.07s/it]"
          ]
        },
        {
          "output_type": "stream",
          "name": "stdout",
          "text": [
            "14_g\n",
            "255 1.0\n",
            " saving result files_demo_od_0.3/14_g.png\n",
            " saving result files_demo_bv_0.3/14_g.png\n"
          ]
        },
        {
          "output_type": "stream",
          "name": "stderr",
          "text": [
            "\r 56%|█████▌    | 5/9 [00:05<00:04,  1.04s/it]"
          ]
        },
        {
          "output_type": "stream",
          "name": "stdout",
          "text": [
            "14_h\n",
            "255 1.0\n",
            " saving result files_demo_od_0.3/14_h.png\n",
            " saving result files_demo_bv_0.3/14_h.png\n"
          ]
        },
        {
          "output_type": "stream",
          "name": "stderr",
          "text": [
            "\r 67%|██████▋   | 6/9 [00:06<00:03,  1.02s/it]"
          ]
        },
        {
          "output_type": "stream",
          "name": "stdout",
          "text": [
            "15_dr\n",
            "255 1.0\n",
            " saving result files_demo_od_0.3/15_dr.png\n",
            " saving result files_demo_bv_0.3/15_dr.png\n"
          ]
        },
        {
          "output_type": "stream",
          "name": "stderr",
          "text": [
            "\r 78%|███████▊  | 7/9 [00:07<00:02,  1.01s/it]"
          ]
        },
        {
          "output_type": "stream",
          "name": "stdout",
          "text": [
            "15_g\n",
            "255 1.0\n",
            " saving result files_demo_od_0.3/15_g.png\n",
            " saving result files_demo_bv_0.3/15_g.png\n"
          ]
        },
        {
          "output_type": "stream",
          "name": "stderr",
          "text": [
            "\r 89%|████████▉ | 8/9 [00:08<00:00,  1.00it/s]"
          ]
        },
        {
          "output_type": "stream",
          "name": "stdout",
          "text": [
            "15_h\n",
            "255 1.0\n",
            " saving result files_demo_od_0.3/15_h.png\n",
            " saving result files_demo_bv_0.3/15_h.png\n"
          ]
        },
        {
          "output_type": "stream",
          "name": "stderr",
          "text": [
            "100%|██████████| 9/9 [00:09<00:00,  1.06s/it]"
          ]
        },
        {
          "output_type": "stream",
          "name": "stdout",
          "text": [
            "\n",
            "\n",
            "****** OD ******Metrics\n",
            "Threshold: 0.3\n",
            "Accuracy: 0.99745\n",
            "F1: 0.87341 (dice score)\n",
            "Jaccard: 0.78571\n",
            "Recall: 0.87725\n",
            "Precision: 0.89635\n",
            "AUC: 0.87725\n",
            "\n",
            "\n",
            "****** BV ******Metrics\n",
            "Threshold: 0.3\n",
            "Accuracy: 0.96541\n",
            "F1: 0.76987 (dice score)\n",
            "Jaccard: 0.62763\n",
            "Recall: 0.73874\n",
            "Precision: 0.81028\n",
            "AUC: 0.73874\n",
            "\n",
            "\n"
          ]
        },
        {
          "output_type": "stream",
          "name": "stderr",
          "text": [
            "\n"
          ]
        }
      ]
    },
    {
      "cell_type": "code",
      "source": [
        "from copy import deepcopy\n",
        "\n",
        "data_dir = \"new_data\"\n",
        "od_channel, bv_channel = 0, 1\n",
        "\n",
        "model_dir = \"files_working\"\n",
        "threshold = 0.015\n",
        "\n",
        "od_result_dir = f\"files_demo_od_{threshold}\"\n",
        "bv_result_dir = f\"files_demo_bv_{threshold}\"\n",
        "\n",
        "create_dir(od_result_dir)\n",
        "create_dir(bv_result_dir)\n",
        "\n",
        "\"\"\" Load the model \"\"\"\n",
        "model_file_name = f\"{model_dir}/model.h5\"\n",
        "print(model_file_name)\n",
        "# with CustomObjectScope({'iou': iou, 'dice_coef': dice_coef, 'dice_coef_OD': dice_coef_OD, 'dice_coef_MA': dice_coef_MA, 'dice_loss': dice_loss}):\n",
        "model = tf.keras.models.load_model(model_file_name, compile = False)\n",
        "\n",
        "\"\"\" Load the dataset \"\"\"\n",
        "# dataset_path = os.path.join(data_dir, \"test\")\n",
        "# test_x, test_y = get_filenames_sorted(data_dir + \"/test/image/\", data_dir + \"/test/mask/\" )\n",
        "\n",
        "dataset_path = os.path.join(\"new_data\", \"test\")\n",
        "test_x, test_y = load_data(dataset_path)\n",
        "\n",
        "\"\"\" Make the prediction and calculate the metrics values \"\"\"\n",
        "SCORE_BV, SCORE_OD = [], []\n",
        "for x, y in tqdm(zip(test_x, test_y), total=len(test_x)):\n",
        "    \"\"\" Extracting name \"\"\"\n",
        "    name = x.rsplit(\"/\", 1)[1].rsplit(\".\", 1)[0]\n",
        "    print(name)\n",
        "\n",
        "    \"\"\" Read the image and mask \"\"\"\n",
        "    ori_x, x = read_image(x)\n",
        "    ori_y, y = read_mask(y)\n",
        "\n",
        "    \"\"\" Prediction \"\"\"\n",
        "    y_pred = model.predict(np.expand_dims(x, axis=0))[0]\n",
        "    y_pred_prob = deepcopy(y_pred)\n",
        "    y_pred = y_pred > threshold\n",
        "    y_pred = y_pred.astype(np.float32)\n",
        "\n",
        "    print(np.max(ori_y), np.max(y))\n",
        "\n",
        "    \"\"\" Saving the images \"\"\"\n",
        "    save_image_path_od = f\"{od_result_dir}/{name}.png\"\n",
        "    save_results(ori_x, ori_y, y_pred, save_image_path_od, od_channel)\n",
        "\n",
        "    save_image_path_bv = f\"{bv_result_dir}/{name}.png\"\n",
        "    save_results(ori_x, ori_y, y_pred, save_image_path_bv, bv_channel)\n",
        "\n",
        "\n",
        "#     \"\"\" Calculate the od metrics \"\"\"\n",
        "    bv_pred = y_pred[:, :, bv_channel].flatten()\n",
        "    bv_pred_prob = y_pred_prob[:, :, bv_channel].flatten()\n",
        "    bv_gt = y[:, :, bv_channel].flatten()\n",
        "    acc_value = accuracy_score(bv_gt > threshold, bv_pred>threshold)\n",
        "    f1_value = f1_score(bv_gt > threshold, bv_pred>threshold, labels=[0, 1], average=\"binary\")\n",
        "    jac_value = jaccard_score(bv_gt > threshold, bv_pred>threshold, labels=[0, 1], average=\"binary\")\n",
        "    recall_value = recall_score(bv_gt > threshold, bv_pred>threshold, labels=[0, 1], average=\"binary\")\n",
        "    recall_computed = np.sum((bv_gt > threshold) & (bv_pred > threshold)) / np.sum(bv_gt > threshold)\n",
        "    precision_value = precision_score(bv_gt > threshold, bv_pred>threshold, labels=[0, 1], average=\"binary\")\n",
        "    auc_score = auc(bv_gt > threshold, bv_pred_prob)\n",
        "    SCORE_BV.append([name, acc_value, f1_value, jac_value, recall_value, precision_value, recall_computed, auc_score])\n",
        "\n",
        "#     \"\"\" Calculate the ma metrics \"\"\"\n",
        "    bv_pred = y_pred[:, :, od_channel].flatten()\n",
        "    bv_pred_prob = y_pred_prob[:, :, bv_channel].flatten()\n",
        "    bv_gt = y[:, :, od_channel].flatten()\n",
        "    acc_value = accuracy_score(bv_gt > threshold, bv_pred>threshold)\n",
        "    f1_value = f1_score(bv_gt > threshold, bv_pred>threshold, labels=[0, 1], average=\"binary\")\n",
        "    jac_value = jaccard_score(bv_gt > threshold, bv_pred>threshold, labels=[0, 1], average=\"binary\")\n",
        "    recall_value = recall_score(bv_gt > threshold, bv_pred>threshold, labels=[0, 1], average=\"binary\")\n",
        "    recall_computed = np.sum((bv_gt > threshold) & (bv_pred > threshold)) / np.sum(bv_gt > threshold)\n",
        "    precision_value = precision_score(bv_gt > threshold, bv_pred>threshold, labels=[0, 1], average=\"binary\")\n",
        "    auc_score = auc(bv_gt > threshold, bv_pred_prob)\n",
        "    SCORE_OD.append([name, acc_value, f1_value, jac_value, recall_value, precision_value, recall_computed, auc_score])\n",
        "    \n",
        "print(\"\\n\")\n",
        "for SCORE in [SCORE_OD, SCORE_BV]:\n",
        "    if SCORE == SCORE_OD:\n",
        "        print(\"****** OD ******Metrics\")\n",
        "    else:\n",
        "        print(\"****** BV ******Metrics\")\n",
        "    score = [s[1:] for s in SCORE]\n",
        "    score = np.mean(score, axis=0)\n",
        "    print(f\"Threshold:\", threshold)\n",
        "    print(f\"Accuracy: {score[0]:0.5f}\")\n",
        "    print(f\"F1: {score[1]:0.5f} (dice score)\")\n",
        "    print(f\"Jaccard: {score[2]:0.5f}\")\n",
        "    print(f\"Recall: {score[3]:0.5f}\")\n",
        "    print(f\"Precision: {score[4]:0.5f}\")\n",
        "    print(f\"AUC: {score[5]:0.5f}\")\n",
        "\n",
        "    # \"\"\" Saving \"\"\"\n",
        "    if SCORE == SCORE_OD:\n",
        "        df = pd.DataFrame(SCORE, columns=[\"Image\", \"Acc\", \"F1\", \"Jaccard\", \"Recall\", \"Precision\", \"Recall Computed\", \"AUC\"])\n",
        "        df.to_csv(f\"{od_result_dir}/score.csv\")\n",
        "    else:\n",
        "        df = pd.DataFrame(SCORE, columns=[\"Image\", \"Acc\", \"F1\", \"Jaccard\", \"Recall\", \"Precision\", \"Recall Computed\", \"AUC\"])\n",
        "        df.to_csv(f\"{bv_result_dir}/score.csv\")\n",
        "    print(\"\\n\")"
      ],
      "metadata": {
        "colab": {
          "base_uri": "https://localhost:8080/"
        },
        "id": "Yw7539UJw2Wh",
        "outputId": "814603bf-0b93-4ffe-e58c-b8d832e2ba93"
      },
      "execution_count": null,
      "outputs": [
        {
          "output_type": "stream",
          "name": "stdout",
          "text": [
            "files_working/model.h5\n"
          ]
        },
        {
          "output_type": "stream",
          "name": "stderr",
          "text": [
            "\r  0%|          | 0/9 [00:00<?, ?it/s]"
          ]
        },
        {
          "output_type": "stream",
          "name": "stdout",
          "text": [
            "13_dr\n",
            "255 1.0\n",
            " saving result files_demo_od_0.015/13_dr.png\n",
            " saving result files_demo_bv_0.015/13_dr.png\n"
          ]
        },
        {
          "output_type": "stream",
          "name": "stderr",
          "text": [
            "\r 11%|█         | 1/9 [00:02<00:20,  2.55s/it]"
          ]
        },
        {
          "output_type": "stream",
          "name": "stdout",
          "text": [
            "13_g\n",
            "255 1.0\n",
            " saving result files_demo_od_0.015/13_g.png\n",
            " saving result files_demo_bv_0.015/13_g.png\n"
          ]
        },
        {
          "output_type": "stream",
          "name": "stderr",
          "text": [
            "\r 22%|██▏       | 2/9 [00:04<00:14,  2.07s/it]"
          ]
        },
        {
          "output_type": "stream",
          "name": "stdout",
          "text": [
            "13_h\n",
            "255 1.0\n",
            " saving result files_demo_od_0.015/13_h.png\n",
            " saving result files_demo_bv_0.015/13_h.png\n"
          ]
        },
        {
          "output_type": "stream",
          "name": "stderr",
          "text": [
            "\r 33%|███▎      | 3/9 [00:05<00:10,  1.79s/it]"
          ]
        },
        {
          "output_type": "stream",
          "name": "stdout",
          "text": [
            "14_dr\n",
            "255 1.0\n",
            " saving result files_demo_od_0.015/14_dr.png\n",
            " saving result files_demo_bv_0.015/14_dr.png\n"
          ]
        },
        {
          "output_type": "stream",
          "name": "stderr",
          "text": [
            "\r 44%|████▍     | 4/9 [00:07<00:08,  1.64s/it]"
          ]
        },
        {
          "output_type": "stream",
          "name": "stdout",
          "text": [
            "14_g\n",
            "255 1.0\n",
            " saving result files_demo_od_0.015/14_g.png\n",
            " saving result files_demo_bv_0.015/14_g.png\n"
          ]
        },
        {
          "output_type": "stream",
          "name": "stderr",
          "text": [
            "\r 56%|█████▌    | 5/9 [00:08<00:06,  1.57s/it]"
          ]
        },
        {
          "output_type": "stream",
          "name": "stdout",
          "text": [
            "14_h\n",
            "255 1.0\n",
            " saving result files_demo_od_0.015/14_h.png\n",
            " saving result files_demo_bv_0.015/14_h.png\n"
          ]
        },
        {
          "output_type": "stream",
          "name": "stderr",
          "text": [
            "\r 67%|██████▋   | 6/9 [00:10<00:04,  1.52s/it]"
          ]
        },
        {
          "output_type": "stream",
          "name": "stdout",
          "text": [
            "15_dr\n",
            "255 1.0\n",
            " saving result files_demo_od_0.015/15_dr.png\n",
            " saving result files_demo_bv_0.015/15_dr.png\n"
          ]
        },
        {
          "output_type": "stream",
          "name": "stderr",
          "text": [
            "\r 78%|███████▊  | 7/9 [00:11<00:02,  1.34s/it]"
          ]
        },
        {
          "output_type": "stream",
          "name": "stdout",
          "text": [
            "15_g\n",
            "255 1.0\n",
            " saving result files_demo_od_0.015/15_g.png\n",
            " saving result files_demo_bv_0.015/15_g.png\n"
          ]
        },
        {
          "output_type": "stream",
          "name": "stderr",
          "text": [
            "\r 89%|████████▉ | 8/9 [00:12<00:01,  1.24s/it]"
          ]
        },
        {
          "output_type": "stream",
          "name": "stdout",
          "text": [
            "15_h\n",
            "255 1.0\n",
            " saving result files_demo_od_0.015/15_h.png\n",
            " saving result files_demo_bv_0.015/15_h.png\n"
          ]
        },
        {
          "output_type": "stream",
          "name": "stderr",
          "text": [
            "100%|██████████| 9/9 [00:13<00:00,  1.45s/it]"
          ]
        },
        {
          "output_type": "stream",
          "name": "stdout",
          "text": [
            "\n",
            "\n",
            "****** OD ******Metrics\n",
            "Threshold: 0.015\n",
            "Accuracy: 0.99738\n",
            "F1: 0.89339 (dice score)\n",
            "Jaccard: 0.81200\n",
            "Recall: 0.93951\n",
            "Precision: 0.86454\n",
            "AUC: 0.93951\n",
            "\n",
            "\n",
            "****** BV ******Metrics\n",
            "Threshold: 0.015\n",
            "Accuracy: 0.95298\n",
            "F1: 0.77967 (dice score)\n",
            "Jaccard: 0.64023\n",
            "Recall: 0.77705\n",
            "Precision: 0.78659\n",
            "AUC: 0.77705\n",
            "\n",
            "\n"
          ]
        },
        {
          "output_type": "stream",
          "name": "stderr",
          "text": [
            "\n"
          ]
        }
      ]
    },
    {
      "cell_type": "code",
      "source": [
        ""
      ],
      "metadata": {
        "id": "1tTjG8RwxPmO"
      },
      "execution_count": null,
      "outputs": []
    }
  ],
  "metadata": {
    "accelerator": "GPU",
    "colab": {
      "collapsed_sections": [],
      "name": "Best_OD_BV_HRF.ipynb",
      "provenance": []
    },
    "kernelspec": {
      "display_name": "Python 3",
      "name": "python3"
    },
    "language_info": {
      "name": "python"
    }
  },
  "nbformat": 4,
  "nbformat_minor": 0
}