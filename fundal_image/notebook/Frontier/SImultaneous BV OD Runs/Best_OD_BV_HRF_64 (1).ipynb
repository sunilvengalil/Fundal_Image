{
  "cells": [
    {
      "cell_type": "markdown",
      "metadata": {
        "id": "ZIUz94YO5Y0x"
      },
      "source": [
        "### Import the required libraries and modules:"
      ]
    },
    {
      "cell_type": "code",
      "execution_count": null,
      "metadata": {
        "id": "RN5vXWIK27Lr"
      },
      "outputs": [],
      "source": [
        "import tensorflow as tf\n",
        "from tensorflow.keras.layers import Conv2D, BatchNormalization, Activation, MaxPool2D, Conv2DTranspose, Concatenate, Input\n",
        "from tensorflow.keras.models import Model\n",
        "from tensorflow.keras import backend as K\n",
        "import os\n",
        "os.environ[\"TF_CPP_MIN_LOG_LEVEL\"] = \"2\"\n",
        "import numpy as np\n",
        "import cv2\n",
        "from glob import glob\n",
        "from sklearn.utils import shuffle\n",
        "import tensorflow as tf\n",
        "from tensorflow.keras.callbacks import ModelCheckpoint, CSVLogger, ReduceLROnPlateau, EarlyStopping, TensorBoard\n",
        "from tensorflow.keras.optimizers import Adam\n",
        "from tensorflow.keras.metrics import Recall, Precision\n",
        "import numpy as np"
      ]
    },
    {
      "cell_type": "code",
      "execution_count": null,
      "metadata": {
        "colab": {
          "base_uri": "https://localhost:8080/"
        },
        "id": "rx3CS_MbV06K",
        "outputId": "337b0f61-4a0e-495d-f893-574acbb473fb"
      },
      "outputs": [
        {
          "name": "stdout",
          "output_type": "stream",
          "text": [
            "Mounted at /content/gdrive\n",
            "/content/gdrive/MyDrive/Blood_Vessel_Results/ALL_BEST_RESULTS/BV_OD_HRF_Full\n"
          ]
        }
      ],
      "source": [
        "from google.colab import drive\n",
        "drive.mount(\"/content/gdrive\", force_remount=True)\n",
        "%cd /content/gdrive/MyDrive/Blood_Vessel_Results/ALL_BEST_RESULTS/BV_OD_HRF_Full"
      ]
    },
    {
      "cell_type": "markdown",
      "metadata": {
        "id": "MQcINXFE59yv"
      },
      "source": [
        "### Unzip the data:"
      ]
    },
    {
      "cell_type": "code",
      "execution_count": null,
      "metadata": {
        "id": "mA5voGSj58wH"
      },
      "outputs": [],
      "source": [
        "# !unzip new_data.zip"
      ]
    },
    {
      "cell_type": "markdown",
      "metadata": {
        "id": "_WctlpFt6hx4"
      },
      "source": [
        "### Construct the Model:"
      ]
    },
    {
      "cell_type": "code",
      "execution_count": null,
      "metadata": {
        "colab": {
          "base_uri": "https://localhost:8080/"
        },
        "id": "epeNiZGQ5gSW",
        "outputId": "6709a23a-54e4-4a77-82b6-bed2090d780d"
      },
      "outputs": [
        {
          "name": "stdout",
          "output_type": "stream",
          "text": [
            "Model: \"UNET\"\n",
            "__________________________________________________________________________________________________\n",
            " Layer (type)                   Output Shape         Param #     Connected to                     \n",
            "==================================================================================================\n",
            " input_1 (InputLayer)           [(None, 512, 512, 3  0           []                               \n",
            "                                )]                                                                \n",
            "                                                                                                  \n",
            " conv2d (Conv2D)                (None, 512, 512, 64  1792        ['input_1[0][0]']                \n",
            "                                )                                                                 \n",
            "                                                                                                  \n",
            " batch_normalization (BatchNorm  (None, 512, 512, 64  256        ['conv2d[0][0]']                 \n",
            " alization)                     )                                                                 \n",
            "                                                                                                  \n",
            " activation (Activation)        (None, 512, 512, 64  0           ['batch_normalization[0][0]']    \n",
            "                                )                                                                 \n",
            "                                                                                                  \n",
            " conv2d_1 (Conv2D)              (None, 512, 512, 64  36928       ['activation[0][0]']             \n",
            "                                )                                                                 \n",
            "                                                                                                  \n",
            " batch_normalization_1 (BatchNo  (None, 512, 512, 64  256        ['conv2d_1[0][0]']               \n",
            " rmalization)                   )                                                                 \n",
            "                                                                                                  \n",
            " activation_1 (Activation)      (None, 512, 512, 64  0           ['batch_normalization_1[0][0]']  \n",
            "                                )                                                                 \n",
            "                                                                                                  \n",
            " max_pooling2d (MaxPooling2D)   (None, 256, 256, 64  0           ['activation_1[0][0]']           \n",
            "                                )                                                                 \n",
            "                                                                                                  \n",
            " conv2d_2 (Conv2D)              (None, 256, 256, 12  73856       ['max_pooling2d[0][0]']          \n",
            "                                8)                                                                \n",
            "                                                                                                  \n",
            " batch_normalization_2 (BatchNo  (None, 256, 256, 12  512        ['conv2d_2[0][0]']               \n",
            " rmalization)                   8)                                                                \n",
            "                                                                                                  \n",
            " activation_2 (Activation)      (None, 256, 256, 12  0           ['batch_normalization_2[0][0]']  \n",
            "                                8)                                                                \n",
            "                                                                                                  \n",
            " conv2d_3 (Conv2D)              (None, 256, 256, 12  147584      ['activation_2[0][0]']           \n",
            "                                8)                                                                \n",
            "                                                                                                  \n",
            " batch_normalization_3 (BatchNo  (None, 256, 256, 12  512        ['conv2d_3[0][0]']               \n",
            " rmalization)                   8)                                                                \n",
            "                                                                                                  \n",
            " activation_3 (Activation)      (None, 256, 256, 12  0           ['batch_normalization_3[0][0]']  \n",
            "                                8)                                                                \n",
            "                                                                                                  \n",
            " max_pooling2d_1 (MaxPooling2D)  (None, 128, 128, 12  0          ['activation_3[0][0]']           \n",
            "                                8)                                                                \n",
            "                                                                                                  \n",
            " conv2d_4 (Conv2D)              (None, 128, 128, 25  295168      ['max_pooling2d_1[0][0]']        \n",
            "                                6)                                                                \n",
            "                                                                                                  \n",
            " batch_normalization_4 (BatchNo  (None, 128, 128, 25  1024       ['conv2d_4[0][0]']               \n",
            " rmalization)                   6)                                                                \n",
            "                                                                                                  \n",
            " activation_4 (Activation)      (None, 128, 128, 25  0           ['batch_normalization_4[0][0]']  \n",
            "                                6)                                                                \n",
            "                                                                                                  \n",
            " conv2d_5 (Conv2D)              (None, 128, 128, 25  590080      ['activation_4[0][0]']           \n",
            "                                6)                                                                \n",
            "                                                                                                  \n",
            " batch_normalization_5 (BatchNo  (None, 128, 128, 25  1024       ['conv2d_5[0][0]']               \n",
            " rmalization)                   6)                                                                \n",
            "                                                                                                  \n",
            " activation_5 (Activation)      (None, 128, 128, 25  0           ['batch_normalization_5[0][0]']  \n",
            "                                6)                                                                \n",
            "                                                                                                  \n",
            " max_pooling2d_2 (MaxPooling2D)  (None, 64, 64, 256)  0          ['activation_5[0][0]']           \n",
            "                                                                                                  \n",
            " conv2d_6 (Conv2D)              (None, 64, 64, 512)  1180160     ['max_pooling2d_2[0][0]']        \n",
            "                                                                                                  \n",
            " batch_normalization_6 (BatchNo  (None, 64, 64, 512)  2048       ['conv2d_6[0][0]']               \n",
            " rmalization)                                                                                     \n",
            "                                                                                                  \n",
            " activation_6 (Activation)      (None, 64, 64, 512)  0           ['batch_normalization_6[0][0]']  \n",
            "                                                                                                  \n",
            " conv2d_7 (Conv2D)              (None, 64, 64, 512)  2359808     ['activation_6[0][0]']           \n",
            "                                                                                                  \n",
            " batch_normalization_7 (BatchNo  (None, 64, 64, 512)  2048       ['conv2d_7[0][0]']               \n",
            " rmalization)                                                                                     \n",
            "                                                                                                  \n",
            " activation_7 (Activation)      (None, 64, 64, 512)  0           ['batch_normalization_7[0][0]']  \n",
            "                                                                                                  \n",
            " max_pooling2d_3 (MaxPooling2D)  (None, 32, 32, 512)  0          ['activation_7[0][0]']           \n",
            "                                                                                                  \n",
            " conv2d_8 (Conv2D)              (None, 32, 32, 1024  4719616     ['max_pooling2d_3[0][0]']        \n",
            "                                )                                                                 \n",
            "                                                                                                  \n",
            " batch_normalization_8 (BatchNo  (None, 32, 32, 1024  4096       ['conv2d_8[0][0]']               \n",
            " rmalization)                   )                                                                 \n",
            "                                                                                                  \n",
            " activation_8 (Activation)      (None, 32, 32, 1024  0           ['batch_normalization_8[0][0]']  \n",
            "                                )                                                                 \n",
            "                                                                                                  \n",
            " conv2d_9 (Conv2D)              (None, 32, 32, 1024  9438208     ['activation_8[0][0]']           \n",
            "                                )                                                                 \n",
            "                                                                                                  \n",
            " batch_normalization_9 (BatchNo  (None, 32, 32, 1024  4096       ['conv2d_9[0][0]']               \n",
            " rmalization)                   )                                                                 \n",
            "                                                                                                  \n",
            " activation_9 (Activation)      (None, 32, 32, 1024  0           ['batch_normalization_9[0][0]']  \n",
            "                                )                                                                 \n",
            "                                                                                                  \n",
            " conv2d_transpose (Conv2DTransp  (None, 64, 64, 512)  2097664    ['activation_9[0][0]']           \n",
            " ose)                                                                                             \n",
            "                                                                                                  \n",
            " concatenate (Concatenate)      (None, 64, 64, 1024  0           ['conv2d_transpose[0][0]',       \n",
            "                                )                                 'activation_7[0][0]']           \n",
            "                                                                                                  \n",
            " conv2d_10 (Conv2D)             (None, 64, 64, 512)  4719104     ['concatenate[0][0]']            \n",
            "                                                                                                  \n",
            " batch_normalization_10 (BatchN  (None, 64, 64, 512)  2048       ['conv2d_10[0][0]']              \n",
            " ormalization)                                                                                    \n",
            "                                                                                                  \n",
            " activation_10 (Activation)     (None, 64, 64, 512)  0           ['batch_normalization_10[0][0]'] \n",
            "                                                                                                  \n",
            " conv2d_11 (Conv2D)             (None, 64, 64, 512)  2359808     ['activation_10[0][0]']          \n",
            "                                                                                                  \n",
            " batch_normalization_11 (BatchN  (None, 64, 64, 512)  2048       ['conv2d_11[0][0]']              \n",
            " ormalization)                                                                                    \n",
            "                                                                                                  \n",
            " activation_11 (Activation)     (None, 64, 64, 512)  0           ['batch_normalization_11[0][0]'] \n",
            "                                                                                                  \n",
            " conv2d_transpose_1 (Conv2DTran  (None, 128, 128, 25  524544     ['activation_11[0][0]']          \n",
            " spose)                         6)                                                                \n",
            "                                                                                                  \n",
            " concatenate_1 (Concatenate)    (None, 128, 128, 51  0           ['conv2d_transpose_1[0][0]',     \n",
            "                                2)                                'activation_5[0][0]']           \n",
            "                                                                                                  \n",
            " conv2d_12 (Conv2D)             (None, 128, 128, 25  1179904     ['concatenate_1[0][0]']          \n",
            "                                6)                                                                \n",
            "                                                                                                  \n",
            " batch_normalization_12 (BatchN  (None, 128, 128, 25  1024       ['conv2d_12[0][0]']              \n",
            " ormalization)                  6)                                                                \n",
            "                                                                                                  \n",
            " activation_12 (Activation)     (None, 128, 128, 25  0           ['batch_normalization_12[0][0]'] \n",
            "                                6)                                                                \n",
            "                                                                                                  \n",
            " conv2d_13 (Conv2D)             (None, 128, 128, 25  590080      ['activation_12[0][0]']          \n",
            "                                6)                                                                \n",
            "                                                                                                  \n",
            " batch_normalization_13 (BatchN  (None, 128, 128, 25  1024       ['conv2d_13[0][0]']              \n",
            " ormalization)                  6)                                                                \n",
            "                                                                                                  \n",
            " activation_13 (Activation)     (None, 128, 128, 25  0           ['batch_normalization_13[0][0]'] \n",
            "                                6)                                                                \n",
            "                                                                                                  \n",
            " conv2d_transpose_2 (Conv2DTran  (None, 256, 256, 12  131200     ['activation_13[0][0]']          \n",
            " spose)                         8)                                                                \n",
            "                                                                                                  \n",
            " concatenate_2 (Concatenate)    (None, 256, 256, 25  0           ['conv2d_transpose_2[0][0]',     \n",
            "                                6)                                'activation_3[0][0]']           \n",
            "                                                                                                  \n",
            " conv2d_14 (Conv2D)             (None, 256, 256, 12  295040      ['concatenate_2[0][0]']          \n",
            "                                8)                                                                \n",
            "                                                                                                  \n",
            " batch_normalization_14 (BatchN  (None, 256, 256, 12  512        ['conv2d_14[0][0]']              \n",
            " ormalization)                  8)                                                                \n",
            "                                                                                                  \n",
            " activation_14 (Activation)     (None, 256, 256, 12  0           ['batch_normalization_14[0][0]'] \n",
            "                                8)                                                                \n",
            "                                                                                                  \n",
            " conv2d_15 (Conv2D)             (None, 256, 256, 12  147584      ['activation_14[0][0]']          \n",
            "                                8)                                                                \n",
            "                                                                                                  \n",
            " batch_normalization_15 (BatchN  (None, 256, 256, 12  512        ['conv2d_15[0][0]']              \n",
            " ormalization)                  8)                                                                \n",
            "                                                                                                  \n",
            " activation_15 (Activation)     (None, 256, 256, 12  0           ['batch_normalization_15[0][0]'] \n",
            "                                8)                                                                \n",
            "                                                                                                  \n",
            " conv2d_transpose_3 (Conv2DTran  (None, 512, 512, 64  32832      ['activation_15[0][0]']          \n",
            " spose)                         )                                                                 \n",
            "                                                                                                  \n",
            " concatenate_3 (Concatenate)    (None, 512, 512, 12  0           ['conv2d_transpose_3[0][0]',     \n",
            "                                8)                                'activation_1[0][0]']           \n",
            "                                                                                                  \n",
            " conv2d_16 (Conv2D)             (None, 512, 512, 64  73792       ['concatenate_3[0][0]']          \n",
            "                                )                                                                 \n",
            "                                                                                                  \n",
            " batch_normalization_16 (BatchN  (None, 512, 512, 64  256        ['conv2d_16[0][0]']              \n",
            " ormalization)                  )                                                                 \n",
            "                                                                                                  \n",
            " activation_16 (Activation)     (None, 512, 512, 64  0           ['batch_normalization_16[0][0]'] \n",
            "                                )                                                                 \n",
            "                                                                                                  \n",
            " conv2d_17 (Conv2D)             (None, 512, 512, 64  36928       ['activation_16[0][0]']          \n",
            "                                )                                                                 \n",
            "                                                                                                  \n",
            " batch_normalization_17 (BatchN  (None, 512, 512, 64  256        ['conv2d_17[0][0]']              \n",
            " ormalization)                  )                                                                 \n",
            "                                                                                                  \n",
            " activation_17 (Activation)     (None, 512, 512, 64  0           ['batch_normalization_17[0][0]'] \n",
            "                                )                                                                 \n",
            "                                                                                                  \n",
            " conv2d_18 (Conv2D)             (None, 512, 512, 2)  130         ['activation_17[0][0]']          \n",
            "                                                                                                  \n",
            "==================================================================================================\n",
            "Total params: 31,055,362\n",
            "Trainable params: 31,043,586\n",
            "Non-trainable params: 11,776\n",
            "__________________________________________________________________________________________________\n"
          ]
        }
      ],
      "source": [
        "def conv_block(inputs, num_filters):\n",
        "    x = Conv2D(num_filters, 3, padding=\"same\")(inputs)\n",
        "    x = BatchNormalization()(x)\n",
        "    x = Activation(\"relu\")(x)\n",
        "\n",
        "    x = Conv2D(num_filters, 3, padding=\"same\")(x)\n",
        "    x = BatchNormalization()(x)\n",
        "    x = Activation(\"relu\")(x)\n",
        "\n",
        "    return x\n",
        "\n",
        "def encoder_block(inputs, num_filters, strides=2):\n",
        "    x = conv_block(inputs, num_filters)\n",
        "    p = MaxPool2D(strides)(x)\n",
        "    return x, p\n",
        "\n",
        "def decoder_block(inputs, skip_features, num_filters, strides=2):\n",
        "    x = Conv2DTranspose(num_filters, (2, 2), strides=strides, padding=\"same\")(inputs)\n",
        "    x = Concatenate()([x, skip_features])\n",
        "    x = conv_block(x, num_filters)\n",
        "    return x\n",
        "\n",
        "def build_unet(input_shape, num_filters=[64, 128, 256, 512, 1024], strides=[2, 2, 2, 2]):\n",
        "    inputs = Input(input_shape)\n",
        "\n",
        "    s1, p1 = encoder_block(inputs, num_filters[0], strides=strides[0])\n",
        "    s2, p2 = encoder_block(p1, num_filters[1], strides=strides[1])\n",
        "    s3, p3 = encoder_block(p2, num_filters[2], strides=strides[2])\n",
        "    s4, p4 = encoder_block(p3, num_filters[3], strides=strides[3])\n",
        "\n",
        "    b1 = conv_block(p4, num_filters[4])\n",
        "\n",
        "    d1 = decoder_block(b1, s4, num_filters[3], strides=strides[3])\n",
        "    d2 = decoder_block(d1, s3, num_filters[2], strides=strides[2])\n",
        "    d3 = decoder_block(d2, s2, num_filters[1], strides=strides[1])\n",
        "    d4 = decoder_block(d3, s1, num_filters[0], strides=strides[0])\n",
        "\n",
        "    outputs = Conv2D(2, 1, padding=\"same\", activation=\"sigmoid\")(d4)\n",
        "\n",
        "    model = Model(inputs, outputs, name=\"UNET\")\n",
        "    return model\n",
        "\n",
        "input_shape = (512, 512, 3)\n",
        "model = build_unet(input_shape)\n",
        "model.summary()"
      ]
    },
    {
      "cell_type": "markdown",
      "metadata": {
        "id": "TWKUCE3_6vBv"
      },
      "source": [
        "### Adding the Metrics:"
      ]
    },
    {
      "cell_type": "code",
      "execution_count": null,
      "metadata": {
        "id": "s5HXET5Z6uZX"
      },
      "outputs": [],
      "source": [
        "def iou(y_true, y_pred):\n",
        "    def f(y_true, y_pred):\n",
        "        intersection = (y_true * y_pred).sum()\n",
        "        union = y_true.sum() + y_pred.sum() - intersection\n",
        "        x = (intersection + 1e-15) / (union + 1e-15)\n",
        "        x = x.astype(np.float32)\n",
        "        return x\n",
        "    return tf.numpy_function(f, [y_true, y_pred], tf.float32)\n",
        "\n",
        "smooth = 1e-15\n",
        "def dice_coef(y_true, y_pred):\n",
        "    y_true = tf.keras.layers.Flatten()(y_true)\n",
        "    y_pred = tf.keras.layers.Flatten()(y_pred)\n",
        "    intersection = tf.reduce_sum(y_true * y_pred)\n",
        "    return (2. * intersection + smooth) / (tf.reduce_sum(y_true) + tf.reduce_sum(y_pred) + smooth)\n",
        "\n",
        "def dice_loss(y_true, y_pred):\n",
        "    return 1.0 - dice_coef(y_true, y_pred)\n",
        "\n",
        "def DiceBCELoss(y_true, y_pred):\n",
        "\n",
        "    inputs = tf.keras.layers.Flatten()(y_true)\n",
        "    targets = tf.keras.layers.Flatten()(y_pred)\n",
        "\n",
        "    intersection = tf.reduce_sum(inputs * targets)\n",
        "    dice_loss = 1 - (2.*intersection + smooth)/(tf.reduce_sum(y_true) + tf.reduce_sum(y_pred) + smooth)\n",
        "    BCE = tf.keras.losses.BinaryCrossentropy()\n",
        "    Dice_BCE = BCE(inputs, targets) + dice_loss\n",
        "\n",
        "    return Dice_BCE"
      ]
    },
    {
      "cell_type": "markdown",
      "metadata": {
        "id": "fuGIkqEH65dX"
      },
      "source": [
        "### Training the Model:"
      ]
    },
    {
      "cell_type": "code",
      "execution_count": null,
      "metadata": {
        "id": "NNdxwX_-5udw"
      },
      "outputs": [],
      "source": [
        "W = 512\n",
        "H = 512\n",
        "\n",
        "def create_dir(path):\n",
        "    if not os.path.exists(path):\n",
        "        os.makedirs(path)\n",
        "\n",
        "def load_data(path):\n",
        "    x = sorted(glob(os.path.join(path, \"image\", \"*.png\")))\n",
        "    y = sorted(glob(os.path.join(path, \"mask\", \"*.png\")))\n",
        "    return x, y\n",
        "\n",
        "def shuffling(x, y):\n",
        "    x, y = shuffle(x, y, random_state=42)\n",
        "    return x, y\n",
        "\n",
        "def read_image(path):\n",
        "    path = path.decode()\n",
        "    x = cv2.imread(path, cv2.IMREAD_COLOR)\n",
        "    # x = cv2.resize(x, (W, H))\n",
        "    x = x/255.0\n",
        "    x = x.astype(np.float32)\n",
        "    return x\n",
        "\n",
        "def read_mask(path):\n",
        "    path = path.decode()\n",
        "    x = cv2.imread(path, cv2.IMREAD_COLOR)  ## (512, 512, 3)\n",
        "    # x = cv2.resize(x, (W, H))\n",
        "    x = x/255.0\n",
        "    x = x.astype(np.float32)\n",
        "    x = x[:,:,0:2] # Discard the last channel \n",
        "\n",
        "    return x\n",
        "\n",
        "def tf_parse(x, y):\n",
        "    def _parse(x, y):\n",
        "        x = read_image(x)\n",
        "        y = read_mask(y)\n",
        "        return x, y\n",
        "\n",
        "    x, y = tf.numpy_function(_parse, [x, y], [tf.float32, tf.float32])\n",
        "    x.set_shape([H, W, 3])\n",
        "    y.set_shape([H, W, 2])\n",
        "    return x, y\n",
        "\n",
        "def tf_dataset(X, Y, batch_size=2):\n",
        "    dataset = tf.data.Dataset.from_tensor_slices((X, Y))\n",
        "    dataset = dataset.map(tf_parse)\n",
        "    dataset = dataset.batch(batch_size)\n",
        "    dataset = dataset.prefetch(4)\n",
        "    return dataset"
      ]
    },
    {
      "cell_type": "code",
      "execution_count": null,
      "metadata": {
        "colab": {
          "background_save": true,
          "base_uri": "https://localhost:8080/"
        },
        "id": "R9oxQCQo7Jnw",
        "outputId": "315eadad-3e75-4cb3-f9bf-b8db64657fe8"
      },
      "outputs": [
        {
          "name": "stdout",
          "output_type": "stream",
          "text": [
            "Train: 144 - 144\n",
            "Valid: 9 - 9\n",
            "Epoch 1/50\n",
            "72/72 [==============================] - ETA: 0s - loss: 1.1345 - dice_coef: 0.2053 - iou: 0.1154 - recall: 0.6252 - precision: 0.4195\n",
            "Epoch 1: val_loss improved from inf to 1.67594, saving model to files/model_1024.h5\n",
            "72/72 [==============================] - 140s 2s/step - loss: 1.1345 - dice_coef: 0.2053 - iou: 0.1154 - recall: 0.6252 - precision: 0.4195 - val_loss: 1.6759 - val_dice_coef: 0.0701 - val_iou: 0.0363 - val_recall: 0.1388 - val_precision: 0.0162 - lr: 1.0000e-04\n",
            "Epoch 2/50\n",
            "72/72 [==============================] - ETA: 0s - loss: 0.9272 - dice_coef: 0.2902 - iou: 0.1702 - recall: 0.6777 - precision: 0.7474\n",
            "Epoch 2: val_loss improved from 1.67594 to 1.23390, saving model to files/model_1024.h5\n",
            "72/72 [==============================] - 34s 474ms/step - loss: 0.9272 - dice_coef: 0.2902 - iou: 0.1702 - recall: 0.6777 - precision: 0.7474 - val_loss: 1.2339 - val_dice_coef: 0.0756 - val_iou: 0.0393 - val_recall: 0.0000e+00 - val_precision: 0.0000e+00 - lr: 1.0000e-04\n",
            "Epoch 3/50\n",
            "72/72 [==============================] - ETA: 0s - loss: 0.8492 - dice_coef: 0.3350 - iou: 0.2017 - recall: 0.7044 - precision: 0.7889\n",
            "Epoch 3: val_loss improved from 1.23390 to 1.16302, saving model to files/model_1024.h5\n",
            "72/72 [==============================] - 35s 481ms/step - loss: 0.8492 - dice_coef: 0.3350 - iou: 0.2017 - recall: 0.7044 - precision: 0.7889 - val_loss: 1.1630 - val_dice_coef: 0.0709 - val_iou: 0.0368 - val_recall: 0.0000e+00 - val_precision: 0.0000e+00 - lr: 1.0000e-04\n",
            "Epoch 4/50\n",
            "72/72 [==============================] - ETA: 0s - loss: 0.7898 - dice_coef: 0.3727 - iou: 0.2296 - recall: 0.7159 - precision: 0.8126\n",
            "Epoch 4: val_loss improved from 1.16302 to 1.13677, saving model to files/model_1024.h5\n",
            "72/72 [==============================] - 34s 476ms/step - loss: 0.7898 - dice_coef: 0.3727 - iou: 0.2296 - recall: 0.7159 - precision: 0.8126 - val_loss: 1.1368 - val_dice_coef: 0.0685 - val_iou: 0.0355 - val_recall: 3.1137e-04 - val_precision: 0.8318 - lr: 1.0000e-04\n",
            "Epoch 5/50\n",
            "72/72 [==============================] - ETA: 0s - loss: 0.7343 - dice_coef: 0.4092 - iou: 0.2579 - recall: 0.7224 - precision: 0.8338\n",
            "Epoch 5: val_loss improved from 1.13677 to 1.10344, saving model to files/model_1024.h5\n",
            "72/72 [==============================] - 34s 476ms/step - loss: 0.7343 - dice_coef: 0.4092 - iou: 0.2579 - recall: 0.7224 - precision: 0.8338 - val_loss: 1.1034 - val_dice_coef: 0.0796 - val_iou: 0.0415 - val_recall: 0.0151 - val_precision: 0.4763 - lr: 1.0000e-04\n",
            "Epoch 6/50\n",
            "72/72 [==============================] - ETA: 0s - loss: 0.6846 - dice_coef: 0.4440 - iou: 0.2860 - recall: 0.7263 - precision: 0.8502\n",
            "Epoch 6: val_loss improved from 1.10344 to 0.97859, saving model to files/model_1024.h5\n",
            "72/72 [==============================] - 35s 474ms/step - loss: 0.6846 - dice_coef: 0.4440 - iou: 0.2860 - recall: 0.7263 - precision: 0.8502 - val_loss: 0.9786 - val_dice_coef: 0.1760 - val_iou: 0.0967 - val_recall: 0.1600 - val_precision: 0.7392 - lr: 1.0000e-04\n",
            "Epoch 7/50\n",
            "72/72 [==============================] - ETA: 0s - loss: 0.6384 - dice_coef: 0.4778 - iou: 0.3146 - recall: 0.7261 - precision: 0.8648\n",
            "Epoch 7: val_loss improved from 0.97859 to 0.79729, saving model to files/model_1024.h5\n",
            "72/72 [==============================] - 35s 480ms/step - loss: 0.6384 - dice_coef: 0.4778 - iou: 0.3146 - recall: 0.7261 - precision: 0.8648 - val_loss: 0.7973 - val_dice_coef: 0.3257 - val_iou: 0.1948 - val_recall: 0.3966 - val_precision: 0.9059 - lr: 1.0000e-04\n",
            "Epoch 8/50\n",
            "72/72 [==============================] - ETA: 0s - loss: 0.5963 - dice_coef: 0.5097 - iou: 0.3428 - recall: 0.7231 - precision: 0.8754\n",
            "Epoch 8: val_loss improved from 0.79729 to 0.68035, saving model to files/model_1024.h5\n",
            "72/72 [==============================] - 35s 480ms/step - loss: 0.5963 - dice_coef: 0.5097 - iou: 0.3428 - recall: 0.7231 - precision: 0.8754 - val_loss: 0.6804 - val_dice_coef: 0.4235 - val_iou: 0.2691 - val_recall: 0.5464 - val_precision: 0.9146 - lr: 1.0000e-04\n",
            "Epoch 9/50\n",
            "72/72 [==============================] - ETA: 0s - loss: 0.5575 - dice_coef: 0.5397 - iou: 0.3704 - recall: 0.7189 - precision: 0.8852\n",
            "Epoch 9: val_loss improved from 0.68035 to 0.60368, saving model to files/model_1024.h5\n",
            "72/72 [==============================] - 35s 479ms/step - loss: 0.5575 - dice_coef: 0.5397 - iou: 0.3704 - recall: 0.7189 - precision: 0.8852 - val_loss: 0.6037 - val_dice_coef: 0.4889 - val_iou: 0.3241 - val_recall: 0.6217 - val_precision: 0.9031 - lr: 1.0000e-04\n",
            "Epoch 10/50\n",
            "72/72 [==============================] - ETA: 0s - loss: 0.5230 - dice_coef: 0.5674 - iou: 0.3969 - recall: 0.7148 - precision: 0.8928\n",
            "Epoch 10: val_loss improved from 0.60368 to 0.57354, saving model to files/model_1024.h5\n",
            "72/72 [==============================] - 35s 478ms/step - loss: 0.5230 - dice_coef: 0.5674 - iou: 0.3969 - recall: 0.7148 - precision: 0.8928 - val_loss: 0.5735 - val_dice_coef: 0.5234 - val_iou: 0.3551 - val_recall: 0.6602 - val_precision: 0.8705 - lr: 1.0000e-04\n",
            "Epoch 11/50\n",
            "72/72 [==============================] - ETA: 0s - loss: 0.4943 - dice_coef: 0.5908 - iou: 0.4201 - recall: 0.7087 - precision: 0.8976\n",
            "Epoch 11: val_loss improved from 0.57354 to 0.53689, saving model to files/model_1024.h5\n",
            "72/72 [==============================] - 34s 475ms/step - loss: 0.4943 - dice_coef: 0.5908 - iou: 0.4201 - recall: 0.7087 - precision: 0.8976 - val_loss: 0.5369 - val_dice_coef: 0.5555 - val_iou: 0.3854 - val_recall: 0.6707 - val_precision: 0.8708 - lr: 1.0000e-04\n",
            "Epoch 12/50\n",
            "72/72 [==============================] - ETA: 0s - loss: 0.4666 - dice_coef: 0.6137 - iou: 0.4435 - recall: 0.7049 - precision: 0.9040\n",
            "Epoch 12: val_loss improved from 0.53689 to 0.49768, saving model to files/model_1024.h5\n",
            "72/72 [==============================] - 34s 476ms/step - loss: 0.4666 - dice_coef: 0.6137 - iou: 0.4435 - recall: 0.7049 - precision: 0.9040 - val_loss: 0.4977 - val_dice_coef: 0.5875 - val_iou: 0.4166 - val_recall: 0.6856 - val_precision: 0.8788 - lr: 1.0000e-04\n",
            "Epoch 13/50\n",
            "72/72 [==============================] - ETA: 0s - loss: 0.4418 - dice_coef: 0.6343 - iou: 0.4652 - recall: 0.7021 - precision: 0.9096\n",
            "Epoch 13: val_loss improved from 0.49768 to 0.47994, saving model to files/model_1024.h5\n",
            "72/72 [==============================] - 35s 477ms/step - loss: 0.4418 - dice_coef: 0.6343 - iou: 0.4652 - recall: 0.7021 - precision: 0.9096 - val_loss: 0.4799 - val_dice_coef: 0.6054 - val_iou: 0.4349 - val_recall: 0.7029 - val_precision: 0.8677 - lr: 1.0000e-04\n",
            "Epoch 14/50\n",
            "72/72 [==============================] - ETA: 0s - loss: 0.4232 - dice_coef: 0.6504 - iou: 0.4827 - recall: 0.6973 - precision: 0.9117\n",
            "Epoch 14: val_loss did not improve from 0.47994\n",
            "72/72 [==============================] - 31s 434ms/step - loss: 0.4232 - dice_coef: 0.6504 - iou: 0.4827 - recall: 0.6973 - precision: 0.9117 - val_loss: 0.5066 - val_dice_coef: 0.5923 - val_iou: 0.4213 - val_recall: 0.7143 - val_precision: 0.7996 - lr: 1.0000e-04\n",
            "Epoch 15/50\n",
            "72/72 [==============================] - ETA: 0s - loss: 0.4082 - dice_coef: 0.6635 - iou: 0.4973 - recall: 0.6914 - precision: 0.9138\n",
            "Epoch 15: val_loss improved from 0.47994 to 0.44341, saving model to files/model_1024.h5\n",
            "72/72 [==============================] - 34s 477ms/step - loss: 0.4082 - dice_coef: 0.6635 - iou: 0.4973 - recall: 0.6914 - precision: 0.9138 - val_loss: 0.4434 - val_dice_coef: 0.6401 - val_iou: 0.4715 - val_recall: 0.7223 - val_precision: 0.8591 - lr: 1.0000e-04\n",
            "Epoch 16/50\n",
            "72/72 [==============================] - ETA: 0s - loss: 0.3888 - dice_coef: 0.6802 - iou: 0.5162 - recall: 0.6921 - precision: 0.9195\n",
            "Epoch 16: val_loss improved from 0.44341 to 0.42089, saving model to files/model_1024.h5\n",
            "72/72 [==============================] - 34s 475ms/step - loss: 0.3888 - dice_coef: 0.6802 - iou: 0.5162 - recall: 0.6921 - precision: 0.9195 - val_loss: 0.4209 - val_dice_coef: 0.6583 - val_iou: 0.4915 - val_recall: 0.6970 - val_precision: 0.8863 - lr: 1.0000e-04\n",
            "Epoch 17/50\n",
            "72/72 [==============================] - ETA: 0s - loss: 0.3744 - dice_coef: 0.6929 - iou: 0.5309 - recall: 0.6898 - precision: 0.9231\n",
            "Epoch 17: val_loss improved from 0.42089 to 0.41128, saving model to files/model_1024.h5\n",
            "72/72 [==============================] - 34s 475ms/step - loss: 0.3744 - dice_coef: 0.6929 - iou: 0.5309 - recall: 0.6898 - precision: 0.9231 - val_loss: 0.4113 - val_dice_coef: 0.6685 - val_iou: 0.5032 - val_recall: 0.7133 - val_precision: 0.8667 - lr: 1.0000e-04\n",
            "Epoch 18/50\n",
            "72/72 [==============================] - ETA: 0s - loss: 0.3617 - dice_coef: 0.7041 - iou: 0.5440 - recall: 0.6885 - precision: 0.9262\n",
            "Epoch 18: val_loss improved from 0.41128 to 0.39830, saving model to files/model_1024.h5\n",
            "72/72 [==============================] - 35s 477ms/step - loss: 0.3617 - dice_coef: 0.7041 - iou: 0.5440 - recall: 0.6885 - precision: 0.9262 - val_loss: 0.3983 - val_dice_coef: 0.6773 - val_iou: 0.5130 - val_recall: 0.6998 - val_precision: 0.8851 - lr: 1.0000e-04\n",
            "Epoch 19/50\n",
            "72/72 [==============================] - ETA: 0s - loss: 0.3507 - dice_coef: 0.7138 - iou: 0.5557 - recall: 0.6875 - precision: 0.9287\n",
            "Epoch 19: val_loss improved from 0.39830 to 0.39344, saving model to files/model_1024.h5\n",
            "72/72 [==============================] - 34s 476ms/step - loss: 0.3507 - dice_coef: 0.7138 - iou: 0.5557 - recall: 0.6875 - precision: 0.9287 - val_loss: 0.3934 - val_dice_coef: 0.6830 - val_iou: 0.5197 - val_recall: 0.6875 - val_precision: 0.8882 - lr: 1.0000e-04\n",
            "Epoch 20/50\n",
            "72/72 [==============================] - ETA: 0s - loss: 0.3418 - dice_coef: 0.7218 - iou: 0.5655 - recall: 0.6861 - precision: 0.9308\n",
            "Epoch 20: val_loss improved from 0.39344 to 0.37955, saving model to files/model_1024.h5\n",
            "72/72 [==============================] - 34s 474ms/step - loss: 0.3418 - dice_coef: 0.7218 - iou: 0.5655 - recall: 0.6861 - precision: 0.9308 - val_loss: 0.3795 - val_dice_coef: 0.6968 - val_iou: 0.5356 - val_recall: 0.7012 - val_precision: 0.8876 - lr: 1.0000e-04\n",
            "Epoch 21/50\n",
            "72/72 [==============================] - ETA: 0s - loss: 0.3354 - dice_coef: 0.7278 - iou: 0.5728 - recall: 0.6845 - precision: 0.9310\n",
            "Epoch 21: val_loss did not improve from 0.37955\n",
            "72/72 [==============================] - 32s 433ms/step - loss: 0.3354 - dice_coef: 0.7278 - iou: 0.5728 - recall: 0.6845 - precision: 0.9310 - val_loss: 0.3837 - val_dice_coef: 0.6954 - val_iou: 0.5341 - val_recall: 0.7169 - val_precision: 0.8681 - lr: 1.0000e-04\n",
            "Epoch 22/50\n",
            "72/72 [==============================] - ETA: 0s - loss: 0.3280 - dice_coef: 0.7346 - iou: 0.5813 - recall: 0.6845 - precision: 0.9330\n",
            "Epoch 22: val_loss improved from 0.37955 to 0.36639, saving model to files/model_1024.h5\n",
            "72/72 [==============================] - 34s 476ms/step - loss: 0.3280 - dice_coef: 0.7346 - iou: 0.5813 - recall: 0.6845 - precision: 0.9330 - val_loss: 0.3664 - val_dice_coef: 0.7081 - val_iou: 0.5490 - val_recall: 0.6912 - val_precision: 0.8950 - lr: 1.0000e-04\n",
            "Epoch 23/50\n",
            "72/72 [==============================] - ETA: 0s - loss: 0.3197 - dice_coef: 0.7419 - iou: 0.5903 - recall: 0.6842 - precision: 0.9358\n",
            "Epoch 23: val_loss did not improve from 0.36639\n",
            "72/72 [==============================] - 31s 435ms/step - loss: 0.3197 - dice_coef: 0.7419 - iou: 0.5903 - recall: 0.6842 - precision: 0.9358 - val_loss: 0.3707 - val_dice_coef: 0.7057 - val_iou: 0.5461 - val_recall: 0.6903 - val_precision: 0.8888 - lr: 1.0000e-04\n",
            "Epoch 24/50\n",
            "72/72 [==============================] - ETA: 0s - loss: 0.3127 - dice_coef: 0.7481 - iou: 0.5982 - recall: 0.6845 - precision: 0.9381\n",
            "Epoch 24: val_loss did not improve from 0.36639\n",
            "72/72 [==============================] - 31s 434ms/step - loss: 0.3127 - dice_coef: 0.7481 - iou: 0.5982 - recall: 0.6845 - precision: 0.9381 - val_loss: 0.3737 - val_dice_coef: 0.7030 - val_iou: 0.5426 - val_recall: 0.6679 - val_precision: 0.8955 - lr: 1.0000e-04\n",
            "Epoch 25/50\n",
            "72/72 [==============================] - ETA: 0s - loss: 0.3089 - dice_coef: 0.7520 - iou: 0.6032 - recall: 0.6838 - precision: 0.9386\n",
            "Epoch 25: val_loss improved from 0.36639 to 0.36097, saving model to files/model_1024.h5\n",
            "72/72 [==============================] - 34s 476ms/step - loss: 0.3089 - dice_coef: 0.7520 - iou: 0.6032 - recall: 0.6838 - precision: 0.9386 - val_loss: 0.3610 - val_dice_coef: 0.7129 - val_iou: 0.5548 - val_recall: 0.6575 - val_precision: 0.9012 - lr: 1.0000e-04\n",
            "Epoch 26/50\n",
            "72/72 [==============================] - ETA: 0s - loss: 0.3021 - dice_coef: 0.7577 - iou: 0.6106 - recall: 0.6843 - precision: 0.9412\n",
            "Epoch 26: val_loss improved from 0.36097 to 0.35182, saving model to files/model_1024.h5\n",
            "72/72 [==============================] - 35s 480ms/step - loss: 0.3021 - dice_coef: 0.7577 - iou: 0.6106 - recall: 0.6843 - precision: 0.9412 - val_loss: 0.3518 - val_dice_coef: 0.7200 - val_iou: 0.5632 - val_recall: 0.6616 - val_precision: 0.8965 - lr: 1.0000e-04\n",
            "Epoch 27/50\n",
            "72/72 [==============================] - ETA: 0s - loss: 0.2961 - dice_coef: 0.7631 - iou: 0.6175 - recall: 0.6845 - precision: 0.9440\n",
            "Epoch 27: val_loss did not improve from 0.35182\n",
            "72/72 [==============================] - 31s 435ms/step - loss: 0.2961 - dice_coef: 0.7631 - iou: 0.6175 - recall: 0.6845 - precision: 0.9440 - val_loss: 0.3537 - val_dice_coef: 0.7217 - val_iou: 0.5655 - val_recall: 0.6672 - val_precision: 0.8899 - lr: 1.0000e-04\n",
            "Epoch 28/50\n",
            "72/72 [==============================] - ETA: 0s - loss: 0.2911 - dice_coef: 0.7675 - iou: 0.6233 - recall: 0.6854 - precision: 0.9458\n",
            "Epoch 28: val_loss improved from 0.35182 to 0.34943, saving model to files/model_1024.h5\n",
            "72/72 [==============================] - 34s 479ms/step - loss: 0.2911 - dice_coef: 0.7675 - iou: 0.6233 - recall: 0.6854 - precision: 0.9458 - val_loss: 0.3494 - val_dice_coef: 0.7263 - val_iou: 0.5714 - val_recall: 0.6621 - val_precision: 0.8829 - lr: 1.0000e-04\n",
            "Epoch 29/50\n",
            "72/72 [==============================] - ETA: 0s - loss: 0.2863 - dice_coef: 0.7718 - iou: 0.6290 - recall: 0.6851 - precision: 0.9475\n",
            "Epoch 29: val_loss did not improve from 0.34943\n",
            "72/72 [==============================] - 31s 433ms/step - loss: 0.2863 - dice_coef: 0.7718 - iou: 0.6290 - recall: 0.6851 - precision: 0.9475 - val_loss: 0.3530 - val_dice_coef: 0.7265 - val_iou: 0.5718 - val_recall: 0.6800 - val_precision: 0.8667 - lr: 1.0000e-04\n",
            "Epoch 30/50\n",
            "72/72 [==============================] - ETA: 0s - loss: 0.2809 - dice_coef: 0.7764 - iou: 0.6351 - recall: 0.6856 - precision: 0.9503\n",
            "Epoch 30: val_loss did not improve from 0.34943\n",
            "72/72 [==============================] - 31s 434ms/step - loss: 0.2809 - dice_coef: 0.7764 - iou: 0.6351 - recall: 0.6856 - precision: 0.9503 - val_loss: 0.3647 - val_dice_coef: 0.7205 - val_iou: 0.5649 - val_recall: 0.6663 - val_precision: 0.8539 - lr: 1.0000e-04\n",
            "Epoch 31/50\n",
            "72/72 [==============================] - ETA: 0s - loss: 0.2768 - dice_coef: 0.7801 - iou: 0.6400 - recall: 0.6864 - precision: 0.9515\n",
            "Epoch 31: val_loss improved from 0.34943 to 0.34797, saving model to files/model_1024.h5\n",
            "72/72 [==============================] - 36s 504ms/step - loss: 0.2768 - dice_coef: 0.7801 - iou: 0.6400 - recall: 0.6864 - precision: 0.9515 - val_loss: 0.3480 - val_dice_coef: 0.7297 - val_iou: 0.5752 - val_recall: 0.6484 - val_precision: 0.8935 - lr: 1.0000e-04\n",
            "Epoch 32/50\n",
            "72/72 [==============================] - ETA: 0s - loss: 0.2741 - dice_coef: 0.7826 - iou: 0.6434 - recall: 0.6857 - precision: 0.9524\n",
            "Epoch 32: val_loss improved from 0.34797 to 0.34661, saving model to files/model_1024.h5\n",
            "72/72 [==============================] - 35s 478ms/step - loss: 0.2741 - dice_coef: 0.7826 - iou: 0.6434 - recall: 0.6857 - precision: 0.9524 - val_loss: 0.3466 - val_dice_coef: 0.7298 - val_iou: 0.5755 - val_recall: 0.6447 - val_precision: 0.8984 - lr: 1.0000e-04\n",
            "Epoch 33/50\n",
            "72/72 [==============================] - ETA: 0s - loss: 0.2692 - dice_coef: 0.7868 - iou: 0.6490 - recall: 0.6862 - precision: 0.9547\n",
            "Epoch 33: val_loss did not improve from 0.34661\n",
            "72/72 [==============================] - 31s 435ms/step - loss: 0.2692 - dice_coef: 0.7868 - iou: 0.6490 - recall: 0.6862 - precision: 0.9547 - val_loss: 0.3489 - val_dice_coef: 0.7272 - val_iou: 0.5723 - val_recall: 0.6296 - val_precision: 0.9018 - lr: 1.0000e-04\n",
            "Epoch 34/50\n",
            "72/72 [==============================] - ETA: 0s - loss: 0.2628 - dice_coef: 0.7921 - iou: 0.6563 - recall: 0.6880 - precision: 0.9583\n",
            "Epoch 34: val_loss did not improve from 0.34661\n",
            "72/72 [==============================] - 31s 434ms/step - loss: 0.2628 - dice_coef: 0.7921 - iou: 0.6563 - recall: 0.6880 - precision: 0.9583 - val_loss: 0.3590 - val_dice_coef: 0.7236 - val_iou: 0.5685 - val_recall: 0.6353 - val_precision: 0.8821 - lr: 1.0000e-04\n",
            "Epoch 35/50\n",
            "72/72 [==============================] - ETA: 0s - loss: 0.2605 - dice_coef: 0.7943 - iou: 0.6593 - recall: 0.6885 - precision: 0.9588\n",
            "Epoch 35: val_loss did not improve from 0.34661\n",
            "72/72 [==============================] - 31s 434ms/step - loss: 0.2605 - dice_coef: 0.7943 - iou: 0.6593 - recall: 0.6885 - precision: 0.9588 - val_loss: 0.3535 - val_dice_coef: 0.7310 - val_iou: 0.5775 - val_recall: 0.6475 - val_precision: 0.8761 - lr: 1.0000e-04\n",
            "Epoch 36/50\n",
            "72/72 [==============================] - ETA: 0s - loss: 0.2618 - dice_coef: 0.7936 - iou: 0.6583 - recall: 0.6873 - precision: 0.9570\n",
            "Epoch 36: val_loss did not improve from 0.34661\n",
            "72/72 [==============================] - 31s 435ms/step - loss: 0.2618 - dice_coef: 0.7936 - iou: 0.6583 - recall: 0.6873 - precision: 0.9570 - val_loss: 0.3621 - val_dice_coef: 0.7235 - val_iou: 0.5681 - val_recall: 0.6239 - val_precision: 0.8706 - lr: 1.0000e-04\n",
            "Epoch 37/50\n",
            "72/72 [==============================] - ETA: 0s - loss: 0.2558 - dice_coef: 0.7983 - iou: 0.6649 - recall: 0.6893 - precision: 0.9601\n",
            "Epoch 37: val_loss did not improve from 0.34661\n",
            "\n",
            "Epoch 37: ReduceLROnPlateau reducing learning rate to 9.999999747378752e-06.\n",
            "72/72 [==============================] - 31s 436ms/step - loss: 0.2558 - dice_coef: 0.7983 - iou: 0.6649 - recall: 0.6893 - precision: 0.9601 - val_loss: 0.3491 - val_dice_coef: 0.7345 - val_iou: 0.5817 - val_recall: 0.6595 - val_precision: 0.8679 - lr: 1.0000e-04\n",
            "Epoch 38/50\n",
            "72/72 [==============================] - ETA: 0s - loss: 0.2440 - dice_coef: 0.8074 - iou: 0.6775 - recall: 0.6943 - precision: 0.9666\n",
            "Epoch 38: val_loss improved from 0.34661 to 0.32640, saving model to files/model_1024.h5\n",
            "72/72 [==============================] - 34s 477ms/step - loss: 0.2440 - dice_coef: 0.8074 - iou: 0.6775 - recall: 0.6943 - precision: 0.9666 - val_loss: 0.3264 - val_dice_coef: 0.7465 - val_iou: 0.5963 - val_recall: 0.6345 - val_precision: 0.9137 - lr: 1.0000e-05\n",
            "Epoch 39/50\n",
            "72/72 [==============================] - ETA: 0s - loss: 0.2367 - dice_coef: 0.8129 - iou: 0.6852 - recall: 0.6961 - precision: 0.9718\n",
            "Epoch 39: val_loss improved from 0.32640 to 0.32566, saving model to files/model_1024.h5\n",
            "72/72 [==============================] - 34s 475ms/step - loss: 0.2367 - dice_coef: 0.8129 - iou: 0.6852 - recall: 0.6961 - precision: 0.9718 - val_loss: 0.3257 - val_dice_coef: 0.7472 - val_iou: 0.5971 - val_recall: 0.6322 - val_precision: 0.9167 - lr: 1.0000e-05\n",
            "Epoch 40/50\n",
            "72/72 [==============================] - ETA: 0s - loss: 0.2330 - dice_coef: 0.8159 - iou: 0.6894 - recall: 0.6971 - precision: 0.9744\n",
            "Epoch 40: val_loss did not improve from 0.32566\n",
            "72/72 [==============================] - 31s 435ms/step - loss: 0.2330 - dice_coef: 0.8159 - iou: 0.6894 - recall: 0.6971 - precision: 0.9744 - val_loss: 0.3261 - val_dice_coef: 0.7473 - val_iou: 0.5972 - val_recall: 0.6306 - val_precision: 0.9167 - lr: 1.0000e-05\n",
            "Epoch 41/50\n",
            "72/72 [==============================] - ETA: 0s - loss: 0.2300 - dice_coef: 0.8183 - iou: 0.6929 - recall: 0.6978 - precision: 0.9763\n",
            "Epoch 41: val_loss did not improve from 0.32566\n",
            "72/72 [==============================] - 31s 435ms/step - loss: 0.2300 - dice_coef: 0.8183 - iou: 0.6929 - recall: 0.6978 - precision: 0.9763 - val_loss: 0.3267 - val_dice_coef: 0.7472 - val_iou: 0.5971 - val_recall: 0.6293 - val_precision: 0.9165 - lr: 1.0000e-05\n",
            "Epoch 42/50\n",
            "72/72 [==============================] - ETA: 0s - loss: 0.2274 - dice_coef: 0.8205 - iou: 0.6960 - recall: 0.6984 - precision: 0.9780\n",
            "Epoch 42: val_loss did not improve from 0.32566\n",
            "72/72 [==============================] - 31s 436ms/step - loss: 0.2274 - dice_coef: 0.8205 - iou: 0.6960 - recall: 0.6984 - precision: 0.9780 - val_loss: 0.3274 - val_dice_coef: 0.7471 - val_iou: 0.5970 - val_recall: 0.6285 - val_precision: 0.9161 - lr: 1.0000e-05\n",
            "Epoch 43/50\n",
            "72/72 [==============================] - ETA: 0s - loss: 0.2250 - dice_coef: 0.8224 - iou: 0.6988 - recall: 0.6989 - precision: 0.9793\n",
            "Epoch 43: val_loss did not improve from 0.32566\n",
            "72/72 [==============================] - 31s 435ms/step - loss: 0.2250 - dice_coef: 0.8224 - iou: 0.6988 - recall: 0.6989 - precision: 0.9793 - val_loss: 0.3281 - val_dice_coef: 0.7470 - val_iou: 0.5969 - val_recall: 0.6281 - val_precision: 0.9157 - lr: 1.0000e-05\n",
            "Epoch 44/50\n",
            "72/72 [==============================] - ETA: 0s - loss: 0.2228 - dice_coef: 0.8242 - iou: 0.7014 - recall: 0.6995 - precision: 0.9806\n",
            "Epoch 44: val_loss did not improve from 0.32566\n",
            "\n",
            "Epoch 44: ReduceLROnPlateau reducing learning rate to 1e-06.\n",
            "72/72 [==============================] - 31s 434ms/step - loss: 0.2228 - dice_coef: 0.8242 - iou: 0.7014 - recall: 0.6995 - precision: 0.9806 - val_loss: 0.3288 - val_dice_coef: 0.7469 - val_iou: 0.5967 - val_recall: 0.6276 - val_precision: 0.9156 - lr: 1.0000e-05\n",
            "Epoch 45/50\n",
            "72/72 [==============================] - ETA: 0s - loss: 0.2215 - dice_coef: 0.8254 - iou: 0.7030 - recall: 0.7027 - precision: 0.9804\n",
            "Epoch 45: val_loss did not improve from 0.32566\n",
            "72/72 [==============================] - 31s 435ms/step - loss: 0.2215 - dice_coef: 0.8254 - iou: 0.7030 - recall: 0.7027 - precision: 0.9804 - val_loss: 0.3281 - val_dice_coef: 0.7472 - val_iou: 0.5970 - val_recall: 0.6241 - val_precision: 0.9175 - lr: 1.0000e-06\n",
            "Epoch 46/50\n",
            "72/72 [==============================] - ETA: 0s - loss: 0.2205 - dice_coef: 0.8260 - iou: 0.7040 - recall: 0.7000 - precision: 0.9816\n",
            "Epoch 46: val_loss did not improve from 0.32566\n",
            "72/72 [==============================] - 31s 435ms/step - loss: 0.2205 - dice_coef: 0.8260 - iou: 0.7040 - recall: 0.7000 - precision: 0.9816 - val_loss: 0.3281 - val_dice_coef: 0.7473 - val_iou: 0.5972 - val_recall: 0.6243 - val_precision: 0.9173 - lr: 1.0000e-06\n",
            "Epoch 47/50\n",
            "72/72 [==============================] - ETA: 0s - loss: 0.2202 - dice_coef: 0.8263 - iou: 0.7044 - recall: 0.7000 - precision: 0.9818\n",
            "Epoch 47: val_loss did not improve from 0.32566\n",
            "72/72 [==============================] - 31s 436ms/step - loss: 0.2202 - dice_coef: 0.8263 - iou: 0.7044 - recall: 0.7000 - precision: 0.9818 - val_loss: 0.3282 - val_dice_coef: 0.7473 - val_iou: 0.5972 - val_recall: 0.6242 - val_precision: 0.9171 - lr: 1.0000e-06\n",
            "Epoch 48/50\n",
            "72/72 [==============================] - ETA: 0s - loss: 0.2199 - dice_coef: 0.8265 - iou: 0.7047 - recall: 0.7001 - precision: 0.9820\n",
            "Epoch 48: val_loss did not improve from 0.32566\n",
            "72/72 [==============================] - 31s 435ms/step - loss: 0.2199 - dice_coef: 0.8265 - iou: 0.7047 - recall: 0.7001 - precision: 0.9820 - val_loss: 0.3284 - val_dice_coef: 0.7472 - val_iou: 0.5971 - val_recall: 0.6240 - val_precision: 0.9170 - lr: 1.0000e-06\n",
            "Epoch 49/50\n",
            "72/72 [==============================] - ETA: 0s - loss: 0.2196 - dice_coef: 0.8268 - iou: 0.7051 - recall: 0.7002 - precision: 0.9822\n",
            "Epoch 49: val_loss did not improve from 0.32566\n",
            "72/72 [==============================] - 31s 435ms/step - loss: 0.2196 - dice_coef: 0.8268 - iou: 0.7051 - recall: 0.7002 - precision: 0.9822 - val_loss: 0.3285 - val_dice_coef: 0.7471 - val_iou: 0.5970 - val_recall: 0.6236 - val_precision: 0.9170 - lr: 1.0000e-06\n"
          ]
        },
        {
          "data": {
            "text/plain": [
              "<keras.callbacks.History at 0x7f63e13e9910>"
            ]
          },
          "execution_count": null,
          "metadata": {},
          "output_type": "execute_result"
        }
      ],
      "source": [
        "\"\"\" Seeding \"\"\"\n",
        "np.random.seed(42)\n",
        "tf.random.set_seed(42)\n",
        "\n",
        "\"\"\" Directory to save files \"\"\"\n",
        "create_dir(\"files\")\n",
        "\n",
        "\"\"\" Hyperparameters \"\"\"\n",
        "batch_size = 2\n",
        "lr = 1e-4\n",
        "num_epochs = 50\n",
        "model_path = os.path.join(\"files\", \"model_1024.h5\")\n",
        "csv_path = os.path.join(\"files\", \"data_1024.csv\")\n",
        "\n",
        "\"\"\" Dataset \"\"\"\n",
        "dataset_path = \"new_data\"\n",
        "train_path = os.path.join(dataset_path, \"train\")\n",
        "valid_path = os.path.join(dataset_path, \"test\")\n",
        "\n",
        "train_x, train_y = load_data(train_path)\n",
        "train_x, train_y = shuffling(train_x, train_y)\n",
        "valid_x, valid_y = load_data(valid_path)\n",
        "\n",
        "print(f\"Train: {len(train_x)} - {len(train_y)}\")\n",
        "print(f\"Valid: {len(valid_x)} - {len(valid_y)}\")\n",
        "\n",
        "train_dataset = tf_dataset(train_x, train_y, batch_size=batch_size)\n",
        "valid_dataset = tf_dataset(valid_x, valid_y, batch_size=batch_size)\n",
        "\n",
        "train_steps = len(train_x)//batch_size\n",
        "valid_setps = len(valid_x)//batch_size\n",
        "\n",
        "if len(train_x) % batch_size != 0:\n",
        "    train_steps += 1\n",
        "if len(valid_x) % batch_size != 0:\n",
        "    valid_setps += 1\n",
        "\n",
        "\"\"\" Model \"\"\"\n",
        "model_1024 = build_unet((H, W, 3), num_filters=[64, 128, 256, 512, 1024], strides=[1, 2, 2, 2])\n",
        "\n",
        "model_1024.compile(loss=DiceBCELoss, optimizer=Adam(lr), metrics=[dice_coef, iou, Recall(), Precision()])\n",
        "\n",
        "callbacks = [\n",
        "    ModelCheckpoint(model_path, verbose=1, save_best_only=True),\n",
        "    ReduceLROnPlateau(monitor=\"val_loss\", factor=0.1, patience=5, min_lr=1e-6, verbose=1),\n",
        "    CSVLogger(csv_path),\n",
        "    TensorBoard(),\n",
        "    EarlyStopping(monitor=\"val_loss\", patience=10, restore_best_weights=False)\n",
        "]\n",
        "\n",
        "model_1024.fit(\n",
        "    train_dataset,\n",
        "    epochs=num_epochs,\n",
        "    validation_data=valid_dataset,\n",
        "    steps_per_epoch=train_steps,\n",
        "    validation_steps=valid_setps,\n",
        "    callbacks=callbacks\n",
        ")"
      ]
    },
    {
      "cell_type": "markdown",
      "metadata": {
        "id": "2frB4UHf9mr3"
      },
      "source": [
        "### Evaluate The Model:"
      ]
    },
    {
      "cell_type": "code",
      "execution_count": null,
      "metadata": {
        "colab": {
          "background_save": true
        },
        "id": "C5Kjrpfg9pDn"
      },
      "outputs": [],
      "source": [
        "import os\n",
        "os.environ[\"TF_CPP_MIN_LOG_LEVEL\"] = \"2\"\n",
        "import numpy as np\n",
        "import pandas as pd\n",
        "import cv2\n",
        "from glob import glob\n",
        "from tqdm import tqdm\n",
        "import tensorflow as tf\n",
        "from tensorflow.keras.utils import CustomObjectScope\n",
        "from sklearn.metrics import accuracy_score, f1_score, jaccard_score, precision_score, recall_score, auc\n",
        "# from metrics import dice_loss, dice_coef, iou\n",
        "# from utils import get_filenames_sorted"
      ]
    },
    {
      "cell_type": "code",
      "execution_count": null,
      "metadata": {
        "colab": {
          "background_save": true
        },
        "id": "tbgjkGOU-QeQ"
      },
      "outputs": [],
      "source": [
        "H = 512\n",
        "W = 512\n",
        "\n",
        "def create_dir(path):\n",
        "    if not os.path.exists(path):\n",
        "        os.makedirs(path)\n",
        "\n",
        "def read_image(path):\n",
        "    x = cv2.imread(path, cv2.IMREAD_COLOR)\n",
        "    # x = cv2.resize(x, (W, H))\n",
        "    ori_x = x\n",
        "    x = x/255.0\n",
        "    x = x.astype(np.float32)\n",
        "    return ori_x, x\n",
        "\n",
        "def read_mask(path):\n",
        "    x = cv2.imread(path, cv2.IMREAD_COLOR)  ## (512, 512)\n",
        "    # x = cv2.resize(x, (W, H))\n",
        "    ori_x = x\n",
        "    x = x/255.0\n",
        "    x = x.astype(np.float32)\n",
        "    x = x[:,:,0:2] # Discard the last channel \n",
        "    return ori_x, x\n",
        "\n",
        "def load_data(path):\n",
        "    x = sorted(glob(os.path.join(path, \"image\", \"*.png\")))\n",
        "    y = sorted(glob(os.path.join(path, \"mask\", \"*.png\")))\n",
        "    return x, y\n",
        "\n",
        "def save_results(ori_x, ori_y, y_pred, save_image_path, channel):\n",
        "    line = np.ones((y_pred.shape[0], 10, 3)) * 255\n",
        "\n",
        "    pred_image = np.zeros((y_pred.shape[0], y_pred.shape[1], 3))\n",
        "    _y_pred = y_pred[:, :, channel]\n",
        "    _ori_y = ori_y[:, :, channel]\n",
        "    pred_image[:, :, 0] = ((_y_pred > 0.5) & (_ori_y <= 128)) * 255\n",
        "    pred_image[:, :, 1] = ((_y_pred > 0.5) & (_ori_y  > 128)) * 255\n",
        "    pred_image[:, :, 2] = ((_ori_y  > 128) & (_y_pred <= 0.5 )) * 255\n",
        "\n",
        "    print(\" saving result\", save_image_path)\n",
        "    cv2.imwrite(save_image_path, pred_image)"
      ]
    },
    {
      "cell_type": "code",
      "execution_count": null,
      "metadata": {
        "colab": {
          "background_save": true
        },
        "id": "Jmf9-n3_-EaL",
        "outputId": "12b4b71c-72df-4b18-cc34-ff243168d64c"
      },
      "outputs": [
        {
          "name": "stdout",
          "output_type": "stream",
          "text": [
            "files/model_1024.h5\n"
          ]
        },
        {
          "name": "stderr",
          "output_type": "stream",
          "text": [
            "\r  0%|          | 0/9 [00:00<?, ?it/s]"
          ]
        },
        {
          "name": "stdout",
          "output_type": "stream",
          "text": [
            "13_dr\n",
            "255 1.0\n",
            " saving result files_demo_od_0.1_1024/13_dr.png\n",
            " saving result files_demo_bv_0.1_1024/13_dr.png\n"
          ]
        },
        {
          "name": "stderr",
          "output_type": "stream",
          "text": [
            "\r 11%|█         | 1/9 [00:01<00:08,  1.09s/it]"
          ]
        },
        {
          "name": "stdout",
          "output_type": "stream",
          "text": [
            "13_g\n",
            "255 1.0\n",
            " saving result files_demo_od_0.1_1024/13_g.png\n",
            " saving result files_demo_bv_0.1_1024/13_g.png\n"
          ]
        },
        {
          "name": "stderr",
          "output_type": "stream",
          "text": [
            "\r 22%|██▏       | 2/9 [00:01<00:06,  1.13it/s]"
          ]
        },
        {
          "name": "stdout",
          "output_type": "stream",
          "text": [
            "13_h\n",
            "255 1.0\n",
            " saving result files_demo_od_0.1_1024/13_h.png\n",
            " saving result files_demo_bv_0.1_1024/13_h.png\n"
          ]
        },
        {
          "name": "stderr",
          "output_type": "stream",
          "text": [
            "\r 33%|███▎      | 3/9 [00:02<00:04,  1.21it/s]"
          ]
        },
        {
          "name": "stdout",
          "output_type": "stream",
          "text": [
            "14_dr\n",
            "255 1.0\n",
            " saving result files_demo_od_0.1_1024/14_dr.png\n",
            " saving result files_demo_bv_0.1_1024/14_dr.png\n"
          ]
        },
        {
          "name": "stderr",
          "output_type": "stream",
          "text": [
            "\r 44%|████▍     | 4/9 [00:03<00:03,  1.25it/s]"
          ]
        },
        {
          "name": "stdout",
          "output_type": "stream",
          "text": [
            "14_g\n",
            "255 1.0\n",
            " saving result files_demo_od_0.1_1024/14_g.png\n",
            " saving result files_demo_bv_0.1_1024/14_g.png\n"
          ]
        },
        {
          "name": "stderr",
          "output_type": "stream",
          "text": [
            "\r 56%|█████▌    | 5/9 [00:04<00:03,  1.28it/s]"
          ]
        },
        {
          "name": "stdout",
          "output_type": "stream",
          "text": [
            "14_h\n",
            "255 1.0\n",
            " saving result files_demo_od_0.1_1024/14_h.png\n",
            " saving result files_demo_bv_0.1_1024/14_h.png\n"
          ]
        },
        {
          "name": "stderr",
          "output_type": "stream",
          "text": [
            "\r 67%|██████▋   | 6/9 [00:04<00:02,  1.30it/s]"
          ]
        },
        {
          "name": "stdout",
          "output_type": "stream",
          "text": [
            "15_dr\n",
            "255 1.0\n",
            " saving result files_demo_od_0.1_1024/15_dr.png\n",
            " saving result files_demo_bv_0.1_1024/15_dr.png\n"
          ]
        },
        {
          "name": "stderr",
          "output_type": "stream",
          "text": [
            "\r 78%|███████▊  | 7/9 [00:05<00:01,  1.32it/s]"
          ]
        },
        {
          "name": "stdout",
          "output_type": "stream",
          "text": [
            "15_g\n",
            "255 1.0\n",
            " saving result files_demo_od_0.1_1024/15_g.png\n",
            " saving result files_demo_bv_0.1_1024/15_g.png\n"
          ]
        },
        {
          "name": "stderr",
          "output_type": "stream",
          "text": [
            "\r 89%|████████▉ | 8/9 [00:06<00:00,  1.32it/s]"
          ]
        },
        {
          "name": "stdout",
          "output_type": "stream",
          "text": [
            "15_h\n",
            "255 1.0\n",
            " saving result files_demo_od_0.1_1024/15_h.png\n",
            " saving result files_demo_bv_0.1_1024/15_h.png\n"
          ]
        },
        {
          "name": "stderr",
          "output_type": "stream",
          "text": [
            "100%|██████████| 9/9 [00:07<00:00,  1.27it/s]"
          ]
        },
        {
          "name": "stdout",
          "output_type": "stream",
          "text": [
            "\n",
            "\n",
            "****** OD ******Metrics\n",
            "Threshold: 0.1\n",
            "Accuracy: 0.99680\n",
            "F1: 0.88021 (dice score)\n",
            "Jaccard: 0.79530\n",
            "Recall: 0.93689\n",
            "Precision: 0.85234\n",
            "AUC: 0.93689\n",
            "\n",
            "\n",
            "****** BV ******Metrics\n",
            "Threshold: 0.1\n",
            "Accuracy: 0.95968\n",
            "F1: 0.78537 (dice score)\n",
            "Jaccard: 0.64789\n",
            "Recall: 0.72683\n",
            "Precision: 0.85934\n",
            "AUC: 0.72683\n",
            "\n",
            "\n"
          ]
        },
        {
          "name": "stderr",
          "output_type": "stream",
          "text": [
            "\n"
          ]
        }
      ],
      "source": [
        "from copy import deepcopy\n",
        "\n",
        "data_dir = \"new_data\"\n",
        "od_channel, bv_channel = 0, 1\n",
        "\n",
        "model_dir = \"files\"\n",
        "threshold = 0.1\n",
        "\n",
        "od_result_dir = f\"files_demo_od_{threshold}_1024\"\n",
        "bv_result_dir = f\"files_demo_bv_{threshold}_1024\"\n",
        "\n",
        "create_dir(od_result_dir)\n",
        "create_dir(bv_result_dir)\n",
        "\n",
        "\"\"\" Load the model \"\"\"\n",
        "model_file_name = f\"{model_dir}/model_1024.h5\"\n",
        "print(model_file_name)\n",
        "# with CustomObjectScope({'iou': iou, 'dice_coef': dice_coef, 'dice_coef_OD': dice_coef_OD, 'dice_coef_MA': dice_coef_MA, 'dice_loss': dice_loss}):\n",
        "model = tf.keras.models.load_model(model_file_name, compile = False)\n",
        "\n",
        "\"\"\" Load the dataset \"\"\"\n",
        "# dataset_path = os.path.join(data_dir, \"test\")\n",
        "# test_x, test_y = get_filenames_sorted(data_dir + \"/test/image/\", data_dir + \"/test/mask/\" )\n",
        "\n",
        "dataset_path = os.path.join(\"new_data\", \"test\")\n",
        "test_x, test_y = load_data(dataset_path)\n",
        "\n",
        "\"\"\" Make the prediction and calculate the metrics values \"\"\"\n",
        "SCORE_BV, SCORE_OD = [], []\n",
        "for x, y in tqdm(zip(test_x, test_y), total=len(test_x)):\n",
        "    \"\"\" Extracting name \"\"\"\n",
        "    name = x.rsplit(\"/\", 1)[1].rsplit(\".\", 1)[0]\n",
        "    print(name)\n",
        "\n",
        "    \"\"\" Read the image and mask \"\"\"\n",
        "    ori_x, x = read_image(x)\n",
        "    ori_y, y = read_mask(y)\n",
        "\n",
        "    \"\"\" Prediction \"\"\"\n",
        "    y_pred = model.predict(np.expand_dims(x, axis=0))[0]\n",
        "    y_pred_prob = deepcopy(y_pred)\n",
        "    y_pred = y_pred > threshold\n",
        "    y_pred = y_pred.astype(np.float32)\n",
        "\n",
        "    print(np.max(ori_y), np.max(y))\n",
        "\n",
        "    \"\"\" Saving the images \"\"\"\n",
        "    save_image_path_od = f\"{od_result_dir}/{name}.png\"\n",
        "    save_results(ori_x, ori_y, y_pred, save_image_path_od, od_channel)\n",
        "\n",
        "    save_image_path_bv = f\"{bv_result_dir}/{name}.png\"\n",
        "    save_results(ori_x, ori_y, y_pred, save_image_path_bv, bv_channel)\n",
        "\n",
        "\n",
        "#     \"\"\" Calculate the od metrics \"\"\"\n",
        "    bv_pred = y_pred[:, :, bv_channel].flatten()\n",
        "    bv_pred_prob = y_pred_prob[:, :, bv_channel].flatten()\n",
        "    bv_gt = y[:, :, bv_channel].flatten()\n",
        "    acc_value = accuracy_score(bv_gt > threshold, bv_pred>threshold)\n",
        "    f1_value = f1_score(bv_gt > threshold, bv_pred>threshold, labels=[0, 1], average=\"binary\")\n",
        "    jac_value = jaccard_score(bv_gt > threshold, bv_pred>threshold, labels=[0, 1], average=\"binary\")\n",
        "    recall_value = recall_score(bv_gt > threshold, bv_pred>threshold, labels=[0, 1], average=\"binary\")\n",
        "    recall_computed = np.sum((bv_gt > threshold) & (bv_pred > threshold)) / np.sum(bv_gt > threshold)\n",
        "    precision_value = precision_score(bv_gt > threshold, bv_pred>threshold, labels=[0, 1], average=\"binary\")\n",
        "    auc_score = auc(bv_gt > threshold, bv_pred_prob)\n",
        "    SCORE_BV.append([name, acc_value, f1_value, jac_value, recall_value, precision_value, recall_computed, auc_score])\n",
        "\n",
        "#     \"\"\" Calculate the ma metrics \"\"\"\n",
        "    bv_pred = y_pred[:, :, od_channel].flatten()\n",
        "    bv_pred_prob = y_pred_prob[:, :, bv_channel].flatten()\n",
        "    bv_gt = y[:, :, od_channel].flatten()\n",
        "    acc_value = accuracy_score(bv_gt > threshold, bv_pred>threshold)\n",
        "    f1_value = f1_score(bv_gt > threshold, bv_pred>threshold, labels=[0, 1], average=\"binary\")\n",
        "    jac_value = jaccard_score(bv_gt > threshold, bv_pred>threshold, labels=[0, 1], average=\"binary\")\n",
        "    recall_value = recall_score(bv_gt > threshold, bv_pred>threshold, labels=[0, 1], average=\"binary\")\n",
        "    recall_computed = np.sum((bv_gt > threshold) & (bv_pred > threshold)) / np.sum(bv_gt > threshold)\n",
        "    precision_value = precision_score(bv_gt > threshold, bv_pred>threshold, labels=[0, 1], average=\"binary\")\n",
        "    auc_score = auc(bv_gt > threshold, bv_pred_prob)\n",
        "    SCORE_OD.append([name, acc_value, f1_value, jac_value, recall_value, precision_value, recall_computed, auc_score])\n",
        "    \n",
        "print(\"\\n\")\n",
        "for SCORE in [SCORE_OD, SCORE_BV]:\n",
        "    if SCORE == SCORE_OD:\n",
        "        print(\"****** OD ******Metrics\")\n",
        "    else:\n",
        "        print(\"****** BV ******Metrics\")\n",
        "    score = [s[1:] for s in SCORE]\n",
        "    score = np.mean(score, axis=0)\n",
        "    print(f\"Threshold:\", threshold)\n",
        "    print(f\"Accuracy: {score[0]:0.5f}\")\n",
        "    print(f\"F1: {score[1]:0.5f} (dice score)\")\n",
        "    print(f\"Jaccard: {score[2]:0.5f}\")\n",
        "    print(f\"Recall: {score[3]:0.5f}\")\n",
        "    print(f\"Precision: {score[4]:0.5f}\")\n",
        "    print(f\"AUC: {score[5]:0.5f}\")\n",
        "\n",
        "    # \"\"\" Saving \"\"\"\n",
        "    if SCORE == SCORE_OD:\n",
        "        df = pd.DataFrame(SCORE, columns=[\"Image\", \"Acc\", \"F1\", \"Jaccard\", \"Recall\", \"Precision\", \"Recall Computed\", \"AUC\"])\n",
        "        df.to_csv(f\"{od_result_dir}/score.csv\")\n",
        "    else:\n",
        "        df = pd.DataFrame(SCORE, columns=[\"Image\", \"Acc\", \"F1\", \"Jaccard\", \"Recall\", \"Precision\", \"Recall Computed\", \"AUC\"])\n",
        "        df.to_csv(f\"{bv_result_dir}/score.csv\")\n",
        "    print(\"\\n\")"
      ]
    },
    {
      "cell_type": "code",
      "execution_count": null,
      "metadata": {
        "colab": {
          "background_save": true
        },
        "id": "R0bW2gXhiAjR"
      },
      "outputs": [],
      "source": [
        ""
      ]
    }
  ],
  "metadata": {
    "accelerator": "GPU",
    "colab": {
      "background_execution": "on",
      "collapsed_sections": [],
      "machine_shape": "hm",
      "name": "Best_OD_BV_HRF_64.ipynb",
      "provenance": []
    },
    "kernelspec": {
      "display_name": "Python 3",
      "name": "python3"
    },
    "language_info": {
      "name": "python"
    }
  },
  "nbformat": 4,
  "nbformat_minor": 0
}