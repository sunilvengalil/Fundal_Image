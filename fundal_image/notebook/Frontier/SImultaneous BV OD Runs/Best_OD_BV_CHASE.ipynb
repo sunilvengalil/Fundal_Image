{
  "cells": [
    {
      "cell_type": "markdown",
      "metadata": {
        "id": "ZIUz94YO5Y0x"
      },
      "source": [
        "### Import the required libraries and modules:"
      ]
    },
    {
      "cell_type": "code",
      "execution_count": null,
      "metadata": {
        "id": "RN5vXWIK27Lr"
      },
      "outputs": [],
      "source": [
        "import tensorflow as tf\n",
        "from tensorflow.keras.layers import Conv2D, BatchNormalization, Activation, MaxPool2D, Conv2DTranspose, Concatenate, Input\n",
        "from tensorflow.keras.models import Model\n",
        "from tensorflow.keras import backend as K\n",
        "import os\n",
        "os.environ[\"TF_CPP_MIN_LOG_LEVEL\"] = \"2\"\n",
        "import numpy as np\n",
        "import cv2\n",
        "from glob import glob\n",
        "from sklearn.utils import shuffle\n",
        "import tensorflow as tf\n",
        "from tensorflow.keras.callbacks import ModelCheckpoint, CSVLogger, ReduceLROnPlateau, EarlyStopping, TensorBoard\n",
        "from tensorflow.keras.optimizers import Adam\n",
        "from tensorflow.keras.metrics import Recall, Precision\n",
        "import numpy as np"
      ]
    },
    {
      "cell_type": "code",
      "execution_count": null,
      "metadata": {
        "colab": {
          "base_uri": "https://localhost:8080/"
        },
        "id": "rx3CS_MbV06K",
        "outputId": "6fd2e64d-3d9a-4e30-f81e-65621b779595"
      },
      "outputs": [
        {
          "output_type": "stream",
          "name": "stdout",
          "text": [
            "Mounted at /content/gdrive\n",
            "/content/gdrive/MyDrive/Blood_Vessel_Results/ALL_BEST_RESULTS/BV_OD_CHASE\n"
          ]
        }
      ],
      "source": [
        "from google.colab import drive\n",
        "drive.mount(\"/content/gdrive\", force_remount=True)\n",
        "%cd /content/gdrive/MyDrive/Blood_Vessel_Results/ALL_BEST_RESULTS/BV_OD_CHASE"
      ]
    },
    {
      "cell_type": "markdown",
      "metadata": {
        "id": "MQcINXFE59yv"
      },
      "source": [
        "### Unzip the data:"
      ]
    },
    {
      "cell_type": "code",
      "execution_count": null,
      "metadata": {
        "id": "mA5voGSj58wH"
      },
      "outputs": [],
      "source": [
        "# !unzip new_data.zip"
      ]
    },
    {
      "cell_type": "markdown",
      "metadata": {
        "id": "_WctlpFt6hx4"
      },
      "source": [
        "### Construct the Model:"
      ]
    },
    {
      "cell_type": "code",
      "execution_count": null,
      "metadata": {
        "colab": {
          "base_uri": "https://localhost:8080/"
        },
        "id": "epeNiZGQ5gSW",
        "outputId": "1de9882b-6e4e-4d92-c5cd-24e5d980425d"
      },
      "outputs": [
        {
          "output_type": "stream",
          "name": "stdout",
          "text": [
            "Model: \"UNET\"\n",
            "__________________________________________________________________________________________________\n",
            " Layer (type)                   Output Shape         Param #     Connected to                     \n",
            "==================================================================================================\n",
            " input_1 (InputLayer)           [(None, 512, 512, 3  0           []                               \n",
            "                                )]                                                                \n",
            "                                                                                                  \n",
            " conv2d (Conv2D)                (None, 512, 512, 64  1792        ['input_1[0][0]']                \n",
            "                                )                                                                 \n",
            "                                                                                                  \n",
            " batch_normalization (BatchNorm  (None, 512, 512, 64  256        ['conv2d[0][0]']                 \n",
            " alization)                     )                                                                 \n",
            "                                                                                                  \n",
            " activation (Activation)        (None, 512, 512, 64  0           ['batch_normalization[0][0]']    \n",
            "                                )                                                                 \n",
            "                                                                                                  \n",
            " conv2d_1 (Conv2D)              (None, 512, 512, 64  36928       ['activation[0][0]']             \n",
            "                                )                                                                 \n",
            "                                                                                                  \n",
            " batch_normalization_1 (BatchNo  (None, 512, 512, 64  256        ['conv2d_1[0][0]']               \n",
            " rmalization)                   )                                                                 \n",
            "                                                                                                  \n",
            " activation_1 (Activation)      (None, 512, 512, 64  0           ['batch_normalization_1[0][0]']  \n",
            "                                )                                                                 \n",
            "                                                                                                  \n",
            " max_pooling2d (MaxPooling2D)   (None, 256, 256, 64  0           ['activation_1[0][0]']           \n",
            "                                )                                                                 \n",
            "                                                                                                  \n",
            " conv2d_2 (Conv2D)              (None, 256, 256, 12  73856       ['max_pooling2d[0][0]']          \n",
            "                                8)                                                                \n",
            "                                                                                                  \n",
            " batch_normalization_2 (BatchNo  (None, 256, 256, 12  512        ['conv2d_2[0][0]']               \n",
            " rmalization)                   8)                                                                \n",
            "                                                                                                  \n",
            " activation_2 (Activation)      (None, 256, 256, 12  0           ['batch_normalization_2[0][0]']  \n",
            "                                8)                                                                \n",
            "                                                                                                  \n",
            " conv2d_3 (Conv2D)              (None, 256, 256, 12  147584      ['activation_2[0][0]']           \n",
            "                                8)                                                                \n",
            "                                                                                                  \n",
            " batch_normalization_3 (BatchNo  (None, 256, 256, 12  512        ['conv2d_3[0][0]']               \n",
            " rmalization)                   8)                                                                \n",
            "                                                                                                  \n",
            " activation_3 (Activation)      (None, 256, 256, 12  0           ['batch_normalization_3[0][0]']  \n",
            "                                8)                                                                \n",
            "                                                                                                  \n",
            " max_pooling2d_1 (MaxPooling2D)  (None, 128, 128, 12  0          ['activation_3[0][0]']           \n",
            "                                8)                                                                \n",
            "                                                                                                  \n",
            " conv2d_4 (Conv2D)              (None, 128, 128, 25  295168      ['max_pooling2d_1[0][0]']        \n",
            "                                6)                                                                \n",
            "                                                                                                  \n",
            " batch_normalization_4 (BatchNo  (None, 128, 128, 25  1024       ['conv2d_4[0][0]']               \n",
            " rmalization)                   6)                                                                \n",
            "                                                                                                  \n",
            " activation_4 (Activation)      (None, 128, 128, 25  0           ['batch_normalization_4[0][0]']  \n",
            "                                6)                                                                \n",
            "                                                                                                  \n",
            " conv2d_5 (Conv2D)              (None, 128, 128, 25  590080      ['activation_4[0][0]']           \n",
            "                                6)                                                                \n",
            "                                                                                                  \n",
            " batch_normalization_5 (BatchNo  (None, 128, 128, 25  1024       ['conv2d_5[0][0]']               \n",
            " rmalization)                   6)                                                                \n",
            "                                                                                                  \n",
            " activation_5 (Activation)      (None, 128, 128, 25  0           ['batch_normalization_5[0][0]']  \n",
            "                                6)                                                                \n",
            "                                                                                                  \n",
            " max_pooling2d_2 (MaxPooling2D)  (None, 64, 64, 256)  0          ['activation_5[0][0]']           \n",
            "                                                                                                  \n",
            " conv2d_6 (Conv2D)              (None, 64, 64, 512)  1180160     ['max_pooling2d_2[0][0]']        \n",
            "                                                                                                  \n",
            " batch_normalization_6 (BatchNo  (None, 64, 64, 512)  2048       ['conv2d_6[0][0]']               \n",
            " rmalization)                                                                                     \n",
            "                                                                                                  \n",
            " activation_6 (Activation)      (None, 64, 64, 512)  0           ['batch_normalization_6[0][0]']  \n",
            "                                                                                                  \n",
            " conv2d_7 (Conv2D)              (None, 64, 64, 512)  2359808     ['activation_6[0][0]']           \n",
            "                                                                                                  \n",
            " batch_normalization_7 (BatchNo  (None, 64, 64, 512)  2048       ['conv2d_7[0][0]']               \n",
            " rmalization)                                                                                     \n",
            "                                                                                                  \n",
            " activation_7 (Activation)      (None, 64, 64, 512)  0           ['batch_normalization_7[0][0]']  \n",
            "                                                                                                  \n",
            " max_pooling2d_3 (MaxPooling2D)  (None, 32, 32, 512)  0          ['activation_7[0][0]']           \n",
            "                                                                                                  \n",
            " conv2d_8 (Conv2D)              (None, 32, 32, 1024  4719616     ['max_pooling2d_3[0][0]']        \n",
            "                                )                                                                 \n",
            "                                                                                                  \n",
            " batch_normalization_8 (BatchNo  (None, 32, 32, 1024  4096       ['conv2d_8[0][0]']               \n",
            " rmalization)                   )                                                                 \n",
            "                                                                                                  \n",
            " activation_8 (Activation)      (None, 32, 32, 1024  0           ['batch_normalization_8[0][0]']  \n",
            "                                )                                                                 \n",
            "                                                                                                  \n",
            " conv2d_9 (Conv2D)              (None, 32, 32, 1024  9438208     ['activation_8[0][0]']           \n",
            "                                )                                                                 \n",
            "                                                                                                  \n",
            " batch_normalization_9 (BatchNo  (None, 32, 32, 1024  4096       ['conv2d_9[0][0]']               \n",
            " rmalization)                   )                                                                 \n",
            "                                                                                                  \n",
            " activation_9 (Activation)      (None, 32, 32, 1024  0           ['batch_normalization_9[0][0]']  \n",
            "                                )                                                                 \n",
            "                                                                                                  \n",
            " conv2d_transpose (Conv2DTransp  (None, 64, 64, 512)  2097664    ['activation_9[0][0]']           \n",
            " ose)                                                                                             \n",
            "                                                                                                  \n",
            " concatenate (Concatenate)      (None, 64, 64, 1024  0           ['conv2d_transpose[0][0]',       \n",
            "                                )                                 'activation_7[0][0]']           \n",
            "                                                                                                  \n",
            " conv2d_10 (Conv2D)             (None, 64, 64, 512)  4719104     ['concatenate[0][0]']            \n",
            "                                                                                                  \n",
            " batch_normalization_10 (BatchN  (None, 64, 64, 512)  2048       ['conv2d_10[0][0]']              \n",
            " ormalization)                                                                                    \n",
            "                                                                                                  \n",
            " activation_10 (Activation)     (None, 64, 64, 512)  0           ['batch_normalization_10[0][0]'] \n",
            "                                                                                                  \n",
            " conv2d_11 (Conv2D)             (None, 64, 64, 512)  2359808     ['activation_10[0][0]']          \n",
            "                                                                                                  \n",
            " batch_normalization_11 (BatchN  (None, 64, 64, 512)  2048       ['conv2d_11[0][0]']              \n",
            " ormalization)                                                                                    \n",
            "                                                                                                  \n",
            " activation_11 (Activation)     (None, 64, 64, 512)  0           ['batch_normalization_11[0][0]'] \n",
            "                                                                                                  \n",
            " conv2d_transpose_1 (Conv2DTran  (None, 128, 128, 25  524544     ['activation_11[0][0]']          \n",
            " spose)                         6)                                                                \n",
            "                                                                                                  \n",
            " concatenate_1 (Concatenate)    (None, 128, 128, 51  0           ['conv2d_transpose_1[0][0]',     \n",
            "                                2)                                'activation_5[0][0]']           \n",
            "                                                                                                  \n",
            " conv2d_12 (Conv2D)             (None, 128, 128, 25  1179904     ['concatenate_1[0][0]']          \n",
            "                                6)                                                                \n",
            "                                                                                                  \n",
            " batch_normalization_12 (BatchN  (None, 128, 128, 25  1024       ['conv2d_12[0][0]']              \n",
            " ormalization)                  6)                                                                \n",
            "                                                                                                  \n",
            " activation_12 (Activation)     (None, 128, 128, 25  0           ['batch_normalization_12[0][0]'] \n",
            "                                6)                                                                \n",
            "                                                                                                  \n",
            " conv2d_13 (Conv2D)             (None, 128, 128, 25  590080      ['activation_12[0][0]']          \n",
            "                                6)                                                                \n",
            "                                                                                                  \n",
            " batch_normalization_13 (BatchN  (None, 128, 128, 25  1024       ['conv2d_13[0][0]']              \n",
            " ormalization)                  6)                                                                \n",
            "                                                                                                  \n",
            " activation_13 (Activation)     (None, 128, 128, 25  0           ['batch_normalization_13[0][0]'] \n",
            "                                6)                                                                \n",
            "                                                                                                  \n",
            " conv2d_transpose_2 (Conv2DTran  (None, 256, 256, 12  131200     ['activation_13[0][0]']          \n",
            " spose)                         8)                                                                \n",
            "                                                                                                  \n",
            " concatenate_2 (Concatenate)    (None, 256, 256, 25  0           ['conv2d_transpose_2[0][0]',     \n",
            "                                6)                                'activation_3[0][0]']           \n",
            "                                                                                                  \n",
            " conv2d_14 (Conv2D)             (None, 256, 256, 12  295040      ['concatenate_2[0][0]']          \n",
            "                                8)                                                                \n",
            "                                                                                                  \n",
            " batch_normalization_14 (BatchN  (None, 256, 256, 12  512        ['conv2d_14[0][0]']              \n",
            " ormalization)                  8)                                                                \n",
            "                                                                                                  \n",
            " activation_14 (Activation)     (None, 256, 256, 12  0           ['batch_normalization_14[0][0]'] \n",
            "                                8)                                                                \n",
            "                                                                                                  \n",
            " conv2d_15 (Conv2D)             (None, 256, 256, 12  147584      ['activation_14[0][0]']          \n",
            "                                8)                                                                \n",
            "                                                                                                  \n",
            " batch_normalization_15 (BatchN  (None, 256, 256, 12  512        ['conv2d_15[0][0]']              \n",
            " ormalization)                  8)                                                                \n",
            "                                                                                                  \n",
            " activation_15 (Activation)     (None, 256, 256, 12  0           ['batch_normalization_15[0][0]'] \n",
            "                                8)                                                                \n",
            "                                                                                                  \n",
            " conv2d_transpose_3 (Conv2DTran  (None, 512, 512, 64  32832      ['activation_15[0][0]']          \n",
            " spose)                         )                                                                 \n",
            "                                                                                                  \n",
            " concatenate_3 (Concatenate)    (None, 512, 512, 12  0           ['conv2d_transpose_3[0][0]',     \n",
            "                                8)                                'activation_1[0][0]']           \n",
            "                                                                                                  \n",
            " conv2d_16 (Conv2D)             (None, 512, 512, 64  73792       ['concatenate_3[0][0]']          \n",
            "                                )                                                                 \n",
            "                                                                                                  \n",
            " batch_normalization_16 (BatchN  (None, 512, 512, 64  256        ['conv2d_16[0][0]']              \n",
            " ormalization)                  )                                                                 \n",
            "                                                                                                  \n",
            " activation_16 (Activation)     (None, 512, 512, 64  0           ['batch_normalization_16[0][0]'] \n",
            "                                )                                                                 \n",
            "                                                                                                  \n",
            " conv2d_17 (Conv2D)             (None, 512, 512, 64  36928       ['activation_16[0][0]']          \n",
            "                                )                                                                 \n",
            "                                                                                                  \n",
            " batch_normalization_17 (BatchN  (None, 512, 512, 64  256        ['conv2d_17[0][0]']              \n",
            " ormalization)                  )                                                                 \n",
            "                                                                                                  \n",
            " activation_17 (Activation)     (None, 512, 512, 64  0           ['batch_normalization_17[0][0]'] \n",
            "                                )                                                                 \n",
            "                                                                                                  \n",
            " conv2d_18 (Conv2D)             (None, 512, 512, 2)  130         ['activation_17[0][0]']          \n",
            "                                                                                                  \n",
            "==================================================================================================\n",
            "Total params: 31,055,362\n",
            "Trainable params: 31,043,586\n",
            "Non-trainable params: 11,776\n",
            "__________________________________________________________________________________________________\n"
          ]
        }
      ],
      "source": [
        "def conv_block(inputs, num_filters):\n",
        "    x = Conv2D(num_filters, 3, padding=\"same\")(inputs)\n",
        "    x = BatchNormalization()(x)\n",
        "    x = Activation(\"relu\")(x)\n",
        "\n",
        "    x = Conv2D(num_filters, 3, padding=\"same\")(x)\n",
        "    x = BatchNormalization()(x)\n",
        "    x = Activation(\"relu\")(x)\n",
        "\n",
        "    return x\n",
        "\n",
        "def encoder_block(inputs, num_filters):\n",
        "    x = conv_block(inputs, num_filters)\n",
        "    p = MaxPool2D((2, 2))(x)\n",
        "    return x, p\n",
        "\n",
        "def decoder_block(inputs, skip_features, num_filters):\n",
        "    x = Conv2DTranspose(num_filters, (2, 2), strides=2, padding=\"same\")(inputs)\n",
        "    x = Concatenate()([x, skip_features])\n",
        "    x = conv_block(x, num_filters)\n",
        "    return x\n",
        "\n",
        "def build_unet(input_shape):\n",
        "    inputs = Input(input_shape)\n",
        "\n",
        "    s1, p1 = encoder_block(inputs, 64)\n",
        "    s2, p2 = encoder_block(p1, 128)\n",
        "    s3, p3 = encoder_block(p2, 256)\n",
        "    s4, p4 = encoder_block(p3, 512)\n",
        "\n",
        "    b1 = conv_block(p4, 1024)\n",
        "\n",
        "    d1 = decoder_block(b1, s4, 512)\n",
        "    d2 = decoder_block(d1, s3, 256)\n",
        "    d3 = decoder_block(d2, s2, 128)\n",
        "    d4 = decoder_block(d3, s1, 64)\n",
        "\n",
        "    outputs = Conv2D(2, 1, padding=\"same\", activation=\"sigmoid\")(d4)\n",
        "\n",
        "    model = Model(inputs, outputs, name=\"UNET\")\n",
        "    return model\n",
        "\n",
        "input_shape = (512, 512, 3)\n",
        "model = build_unet(input_shape)\n",
        "model.summary()"
      ]
    },
    {
      "cell_type": "markdown",
      "metadata": {
        "id": "TWKUCE3_6vBv"
      },
      "source": [
        "### Adding the Metrics:"
      ]
    },
    {
      "cell_type": "code",
      "execution_count": null,
      "metadata": {
        "id": "s5HXET5Z6uZX"
      },
      "outputs": [],
      "source": [
        "def iou(y_true, y_pred):\n",
        "    def f(y_true, y_pred):\n",
        "        intersection = (y_true * y_pred).sum()\n",
        "        union = y_true.sum() + y_pred.sum() - intersection\n",
        "        x = (intersection + 1e-15) / (union + 1e-15)\n",
        "        x = x.astype(np.float32)\n",
        "        return x\n",
        "    return tf.numpy_function(f, [y_true, y_pred], tf.float32)\n",
        "\n",
        "smooth = 1e-15\n",
        "def dice_coef(y_true, y_pred):\n",
        "    y_true = tf.keras.layers.Flatten()(y_true)\n",
        "    y_pred = tf.keras.layers.Flatten()(y_pred)\n",
        "    intersection = tf.reduce_sum(y_true * y_pred)\n",
        "    return (2. * intersection + smooth) / (tf.reduce_sum(y_true) + tf.reduce_sum(y_pred) + smooth)\n",
        "\n",
        "def dice_loss(y_true, y_pred):\n",
        "    return 1.0 - dice_coef(y_true, y_pred)\n",
        "\n",
        "def DiceBCELoss(y_true, y_pred):\n",
        "\n",
        "    inputs = tf.keras.layers.Flatten()(y_true)\n",
        "    targets = tf.keras.layers.Flatten()(y_pred)\n",
        "\n",
        "    intersection = tf.reduce_sum(inputs * targets)\n",
        "    dice_loss = 1 - (2.*intersection + smooth)/(tf.reduce_sum(y_true) + tf.reduce_sum(y_pred) + smooth)\n",
        "    BCE = tf.keras.losses.BinaryCrossentropy()\n",
        "    Dice_BCE = BCE(inputs, targets) + dice_loss\n",
        "\n",
        "    return Dice_BCE"
      ]
    },
    {
      "cell_type": "markdown",
      "metadata": {
        "id": "fuGIkqEH65dX"
      },
      "source": [
        "### Training the Model:"
      ]
    },
    {
      "cell_type": "code",
      "execution_count": null,
      "metadata": {
        "id": "NNdxwX_-5udw"
      },
      "outputs": [],
      "source": [
        "W = 512\n",
        "H = 512\n",
        "\n",
        "def create_dir(path):\n",
        "    if not os.path.exists(path):\n",
        "        os.makedirs(path)\n",
        "\n",
        "def load_data(path):\n",
        "    x = sorted(glob(os.path.join(path, \"image\", \"*.png\")))\n",
        "    y = sorted(glob(os.path.join(path, \"mask\", \"*.png\")))\n",
        "    return x, y\n",
        "\n",
        "def shuffling(x, y):\n",
        "    x, y = shuffle(x, y, random_state=42)\n",
        "    return x, y\n",
        "\n",
        "def read_image(path):\n",
        "    path = path.decode()\n",
        "    x = cv2.imread(path, cv2.IMREAD_COLOR)\n",
        "    # x = cv2.resize(x, (W, H))\n",
        "    x = x/255.0\n",
        "    x = x.astype(np.float32)\n",
        "    return x\n",
        "\n",
        "def read_mask(path):\n",
        "    path = path.decode()\n",
        "    x = cv2.imread(path, cv2.IMREAD_COLOR)  ## (512, 512, 3)\n",
        "    # x = cv2.resize(x, (W, H))\n",
        "    x = x/255.0\n",
        "    x = x.astype(np.float32)\n",
        "    x = x[:,:,0:2] # Discard the last channel \n",
        "\n",
        "    return x\n",
        "\n",
        "def tf_parse(x, y):\n",
        "    def _parse(x, y):\n",
        "        x = read_image(x)\n",
        "        y = read_mask(y)\n",
        "        return x, y\n",
        "\n",
        "    x, y = tf.numpy_function(_parse, [x, y], [tf.float32, tf.float32])\n",
        "    x.set_shape([H, W, 3])\n",
        "    y.set_shape([H, W, 2])\n",
        "    return x, y\n",
        "\n",
        "def tf_dataset(X, Y, batch_size=2):\n",
        "    dataset = tf.data.Dataset.from_tensor_slices((X, Y))\n",
        "    dataset = dataset.map(tf_parse)\n",
        "    dataset = dataset.batch(batch_size)\n",
        "    dataset = dataset.prefetch(4)\n",
        "    return dataset"
      ]
    },
    {
      "cell_type": "code",
      "execution_count": null,
      "metadata": {
        "colab": {
          "base_uri": "https://localhost:8080/"
        },
        "id": "R9oxQCQo7Jnw",
        "outputId": "66f1c6d9-be04-47e8-e87f-aae14165368e"
      },
      "outputs": [
        {
          "output_type": "stream",
          "name": "stdout",
          "text": [
            "Train: 92 - 92\n",
            "Valid: 5 - 5\n",
            "Epoch 1/50\n",
            "46/46 [==============================] - ETA: 0s - loss: 1.3012 - dice_coef: 0.1317 - iou: 0.0707 - recall: 0.5849 - precision: 0.2135\n",
            "Epoch 00001: val_loss improved from inf to 1.56298, saving model to files_working/model.h5\n",
            "46/46 [==============================] - 156s 3s/step - loss: 1.3012 - dice_coef: 0.1317 - iou: 0.0707 - recall: 0.5849 - precision: 0.2135 - val_loss: 1.5630 - val_dice_coef: 0.0709 - val_iou: 0.0368 - val_recall: 0.0073 - val_precision: 0.1377 - lr: 1.0000e-04\n",
            "Epoch 2/50\n",
            "46/46 [==============================] - ETA: 0s - loss: 1.0663 - dice_coef: 0.2099 - iou: 0.1175 - recall: 0.6550 - precision: 0.5210\n",
            "Epoch 00002: val_loss improved from 1.56298 to 1.42057, saving model to files_working/model.h5\n",
            "46/46 [==============================] - 81s 2s/step - loss: 1.0663 - dice_coef: 0.2099 - iou: 0.1175 - recall: 0.6550 - precision: 0.5210 - val_loss: 1.4206 - val_dice_coef: 0.0652 - val_iou: 0.0337 - val_recall: 0.0000e+00 - val_precision: 0.0000e+00 - lr: 1.0000e-04\n",
            "Epoch 3/50\n",
            "46/46 [==============================] - ETA: 0s - loss: 0.9676 - dice_coef: 0.2604 - iou: 0.1499 - recall: 0.7435 - precision: 0.6200\n",
            "Epoch 00003: val_loss improved from 1.42057 to 1.31021, saving model to files_working/model.h5\n",
            "46/46 [==============================] - 79s 2s/step - loss: 0.9676 - dice_coef: 0.2604 - iou: 0.1499 - recall: 0.7435 - precision: 0.6200 - val_loss: 1.3102 - val_dice_coef: 0.0642 - val_iou: 0.0332 - val_recall: 0.0000e+00 - val_precision: 0.0000e+00 - lr: 1.0000e-04\n",
            "Epoch 4/50\n",
            "46/46 [==============================] - ETA: 0s - loss: 0.9054 - dice_coef: 0.2949 - iou: 0.1731 - recall: 0.7785 - precision: 0.6606\n",
            "Epoch 00004: val_loss improved from 1.31021 to 1.22344, saving model to files_working/model.h5\n",
            "46/46 [==============================] - 79s 2s/step - loss: 0.9054 - dice_coef: 0.2949 - iou: 0.1731 - recall: 0.7785 - precision: 0.6606 - val_loss: 1.2234 - val_dice_coef: 0.0633 - val_iou: 0.0327 - val_recall: 0.0000e+00 - val_precision: 0.0000e+00 - lr: 1.0000e-04\n",
            "Epoch 5/50\n",
            "46/46 [==============================] - ETA: 0s - loss: 0.8565 - dice_coef: 0.3233 - iou: 0.1930 - recall: 0.7948 - precision: 0.6923\n",
            "Epoch 00005: val_loss improved from 1.22344 to 1.17146, saving model to files_working/model.h5\n",
            "46/46 [==============================] - 79s 2s/step - loss: 0.8565 - dice_coef: 0.3233 - iou: 0.1930 - recall: 0.7948 - precision: 0.6923 - val_loss: 1.1715 - val_dice_coef: 0.0644 - val_iou: 0.0333 - val_recall: 0.0000e+00 - val_precision: 0.0000e+00 - lr: 1.0000e-04\n",
            "Epoch 6/50\n",
            "46/46 [==============================] - ETA: 0s - loss: 0.8127 - dice_coef: 0.3505 - iou: 0.2127 - recall: 0.8070 - precision: 0.7151\n",
            "Epoch 00006: val_loss improved from 1.17146 to 1.14200, saving model to files_working/model.h5\n",
            "46/46 [==============================] - 80s 2s/step - loss: 0.8127 - dice_coef: 0.3505 - iou: 0.2127 - recall: 0.8070 - precision: 0.7151 - val_loss: 1.1420 - val_dice_coef: 0.0691 - val_iou: 0.0358 - val_recall: 0.0056 - val_precision: 0.0825 - lr: 1.0000e-04\n",
            "Epoch 7/50\n",
            "46/46 [==============================] - ETA: 0s - loss: 0.7718 - dice_coef: 0.3774 - iou: 0.2328 - recall: 0.8140 - precision: 0.7375\n",
            "Epoch 00007: val_loss improved from 1.14200 to 1.12420, saving model to files_working/model.h5\n",
            "46/46 [==============================] - 81s 2s/step - loss: 0.7718 - dice_coef: 0.3774 - iou: 0.2328 - recall: 0.8140 - precision: 0.7375 - val_loss: 1.1242 - val_dice_coef: 0.0800 - val_iou: 0.0417 - val_recall: 0.0404 - val_precision: 0.1579 - lr: 1.0000e-04\n",
            "Epoch 8/50\n",
            "46/46 [==============================] - ETA: 0s - loss: 0.7332 - dice_coef: 0.4032 - iou: 0.2527 - recall: 0.8165 - precision: 0.7570\n",
            "Epoch 00008: val_loss improved from 1.12420 to 1.07929, saving model to files_working/model.h5\n",
            "46/46 [==============================] - 79s 2s/step - loss: 0.7332 - dice_coef: 0.4032 - iou: 0.2527 - recall: 0.8165 - precision: 0.7570 - val_loss: 1.0793 - val_dice_coef: 0.1197 - val_iou: 0.0638 - val_recall: 0.1434 - val_precision: 0.2936 - lr: 1.0000e-04\n",
            "Epoch 9/50\n",
            "46/46 [==============================] - ETA: 0s - loss: 0.6944 - dice_coef: 0.4300 - iou: 0.2741 - recall: 0.8214 - precision: 0.7753\n",
            "Epoch 00009: val_loss improved from 1.07929 to 1.04001, saving model to files_working/model.h5\n",
            "46/46 [==============================] - 80s 2s/step - loss: 0.6944 - dice_coef: 0.4300 - iou: 0.2741 - recall: 0.8214 - precision: 0.7753 - val_loss: 1.0400 - val_dice_coef: 0.1490 - val_iou: 0.0806 - val_recall: 0.2069 - val_precision: 0.3556 - lr: 1.0000e-04\n",
            "Epoch 10/50\n",
            "46/46 [==============================] - ETA: 0s - loss: 0.6585 - dice_coef: 0.4555 - iou: 0.2951 - recall: 0.8225 - precision: 0.7915\n",
            "Epoch 00010: val_loss improved from 1.04001 to 0.97669, saving model to files_working/model.h5\n",
            "46/46 [==============================] - 80s 2s/step - loss: 0.6585 - dice_coef: 0.4555 - iou: 0.2951 - recall: 0.8225 - precision: 0.7915 - val_loss: 0.9767 - val_dice_coef: 0.1986 - val_iou: 0.1105 - val_recall: 0.3251 - val_precision: 0.4501 - lr: 1.0000e-04\n",
            "Epoch 11/50\n",
            "46/46 [==============================] - ETA: 0s - loss: 0.6258 - dice_coef: 0.4795 - iou: 0.3156 - recall: 0.8210 - precision: 0.8030\n",
            "Epoch 00011: val_loss improved from 0.97669 to 0.90543, saving model to files_working/model.h5\n",
            "46/46 [==============================] - 80s 2s/step - loss: 0.6258 - dice_coef: 0.4795 - iou: 0.3156 - recall: 0.8210 - precision: 0.8030 - val_loss: 0.9054 - val_dice_coef: 0.2513 - val_iou: 0.1439 - val_recall: 0.4350 - val_precision: 0.5481 - lr: 1.0000e-04\n",
            "Epoch 12/50\n",
            "46/46 [==============================] - ETA: 0s - loss: 0.5949 - dice_coef: 0.5029 - iou: 0.3362 - recall: 0.8195 - precision: 0.8139\n",
            "Epoch 00012: val_loss improved from 0.90543 to 0.76607, saving model to files_working/model.h5\n",
            "46/46 [==============================] - 81s 2s/step - loss: 0.5949 - dice_coef: 0.5029 - iou: 0.3362 - recall: 0.8195 - precision: 0.8139 - val_loss: 0.7661 - val_dice_coef: 0.3511 - val_iou: 0.2133 - val_recall: 0.6272 - val_precision: 0.7609 - lr: 1.0000e-04\n",
            "Epoch 13/50\n",
            "46/46 [==============================] - ETA: 0s - loss: 0.5614 - dice_coef: 0.5283 - iou: 0.3592 - recall: 0.8209 - precision: 0.8278\n",
            "Epoch 00013: val_loss improved from 0.76607 to 0.69953, saving model to files_working/model.h5\n",
            "46/46 [==============================] - 80s 2s/step - loss: 0.5614 - dice_coef: 0.5283 - iou: 0.3592 - recall: 0.8209 - precision: 0.8278 - val_loss: 0.6995 - val_dice_coef: 0.4082 - val_iou: 0.2567 - val_recall: 0.6950 - val_precision: 0.7829 - lr: 1.0000e-04\n",
            "Epoch 14/50\n",
            "46/46 [==============================] - ETA: 0s - loss: 0.5310 - dice_coef: 0.5520 - iou: 0.3815 - recall: 0.8213 - precision: 0.8406\n",
            "Epoch 00014: val_loss improved from 0.69953 to 0.64416, saving model to files_working/model.h5\n",
            "46/46 [==============================] - 80s 2s/step - loss: 0.5310 - dice_coef: 0.5520 - iou: 0.3815 - recall: 0.8213 - precision: 0.8406 - val_loss: 0.6442 - val_dice_coef: 0.4453 - val_iou: 0.2868 - val_recall: 0.6736 - val_precision: 0.8350 - lr: 1.0000e-04\n",
            "Epoch 15/50\n",
            "46/46 [==============================] - ETA: 0s - loss: 0.5017 - dice_coef: 0.5751 - iou: 0.4039 - recall: 0.8208 - precision: 0.8526\n",
            "Epoch 00015: val_loss improved from 0.64416 to 0.59829, saving model to files_working/model.h5\n",
            "46/46 [==============================] - 80s 2s/step - loss: 0.5017 - dice_coef: 0.5751 - iou: 0.4039 - recall: 0.8208 - precision: 0.8526 - val_loss: 0.5983 - val_dice_coef: 0.4896 - val_iou: 0.3244 - val_recall: 0.7310 - val_precision: 0.8163 - lr: 1.0000e-04\n",
            "Epoch 16/50\n",
            "46/46 [==============================] - ETA: 0s - loss: 0.4774 - dice_coef: 0.5947 - iou: 0.4235 - recall: 0.8179 - precision: 0.8593\n",
            "Epoch 00016: val_loss improved from 0.59829 to 0.59721, saving model to files_working/model.h5\n",
            "46/46 [==============================] - 80s 2s/step - loss: 0.4774 - dice_coef: 0.5947 - iou: 0.4235 - recall: 0.8179 - precision: 0.8593 - val_loss: 0.5972 - val_dice_coef: 0.4915 - val_iou: 0.3262 - val_recall: 0.7112 - val_precision: 0.8141 - lr: 1.0000e-04\n",
            "Epoch 17/50\n",
            "46/46 [==============================] - ETA: 0s - loss: 0.4490 - dice_coef: 0.6175 - iou: 0.4469 - recall: 0.8196 - precision: 0.8721\n",
            "Epoch 00017: val_loss improved from 0.59721 to 0.58450, saving model to files_working/model.h5\n",
            "46/46 [==============================] - 81s 2s/step - loss: 0.4490 - dice_coef: 0.6175 - iou: 0.4469 - recall: 0.8196 - precision: 0.8721 - val_loss: 0.5845 - val_dice_coef: 0.5053 - val_iou: 0.3383 - val_recall: 0.6941 - val_precision: 0.8054 - lr: 1.0000e-04\n",
            "Epoch 18/50\n",
            "46/46 [==============================] - ETA: 0s - loss: 0.4298 - dice_coef: 0.6338 - iou: 0.4642 - recall: 0.8145 - precision: 0.8761\n",
            "Epoch 00018: val_loss improved from 0.58450 to 0.54333, saving model to files_working/model.h5\n",
            "46/46 [==============================] - 80s 2s/step - loss: 0.4298 - dice_coef: 0.6338 - iou: 0.4642 - recall: 0.8145 - precision: 0.8761 - val_loss: 0.5433 - val_dice_coef: 0.5493 - val_iou: 0.3790 - val_recall: 0.7763 - val_precision: 0.7766 - lr: 1.0000e-04\n",
            "Epoch 19/50\n",
            "46/46 [==============================] - ETA: 0s - loss: 0.4054 - dice_coef: 0.6538 - iou: 0.4859 - recall: 0.8157 - precision: 0.8859\n",
            "Epoch 00019: val_loss improved from 0.54333 to 0.52669, saving model to files_working/model.h5\n",
            "46/46 [==============================] - 79s 2s/step - loss: 0.4054 - dice_coef: 0.6538 - iou: 0.4859 - recall: 0.8157 - precision: 0.8859 - val_loss: 0.5267 - val_dice_coef: 0.5516 - val_iou: 0.3810 - val_recall: 0.6819 - val_precision: 0.8500 - lr: 1.0000e-04\n",
            "Epoch 20/50\n",
            "46/46 [==============================] - ETA: 0s - loss: 0.3864 - dice_coef: 0.6702 - iou: 0.5042 - recall: 0.8141 - precision: 0.8914\n",
            "Epoch 00020: val_loss improved from 0.52669 to 0.50509, saving model to files_working/model.h5\n",
            "46/46 [==============================] - 80s 2s/step - loss: 0.3864 - dice_coef: 0.6702 - iou: 0.5042 - recall: 0.8141 - precision: 0.8914 - val_loss: 0.5051 - val_dice_coef: 0.5703 - val_iou: 0.3991 - val_recall: 0.6916 - val_precision: 0.8438 - lr: 1.0000e-04\n",
            "Epoch 21/50\n",
            "46/46 [==============================] - ETA: 0s - loss: 0.3694 - dice_coef: 0.6847 - iou: 0.5209 - recall: 0.8113 - precision: 0.8956\n",
            "Epoch 00021: val_loss improved from 0.50509 to 0.49666, saving model to files_working/model.h5\n",
            "46/46 [==============================] - 79s 2s/step - loss: 0.3694 - dice_coef: 0.6847 - iou: 0.5209 - recall: 0.8113 - precision: 0.8956 - val_loss: 0.4967 - val_dice_coef: 0.5740 - val_iou: 0.4030 - val_recall: 0.6726 - val_precision: 0.8539 - lr: 1.0000e-04\n",
            "Epoch 22/50\n",
            "46/46 [==============================] - ETA: 0s - loss: 0.3513 - dice_coef: 0.7000 - iou: 0.5388 - recall: 0.8109 - precision: 0.9016\n",
            "Epoch 00022: val_loss did not improve from 0.49666\n",
            "46/46 [==============================] - 75s 2s/step - loss: 0.3513 - dice_coef: 0.7000 - iou: 0.5388 - recall: 0.8109 - precision: 0.9016 - val_loss: 0.5020 - val_dice_coef: 0.5779 - val_iou: 0.4066 - val_recall: 0.6700 - val_precision: 0.8315 - lr: 1.0000e-04\n",
            "Epoch 23/50\n",
            "46/46 [==============================] - ETA: 0s - loss: 0.3314 - dice_coef: 0.7169 - iou: 0.5590 - recall: 0.8124 - precision: 0.9108\n",
            "Epoch 00023: val_loss improved from 0.49666 to 0.47189, saving model to files_working/model.h5\n",
            "46/46 [==============================] - 81s 2s/step - loss: 0.3314 - dice_coef: 0.7169 - iou: 0.5590 - recall: 0.8124 - precision: 0.9108 - val_loss: 0.4719 - val_dice_coef: 0.6011 - val_iou: 0.4301 - val_recall: 0.7005 - val_precision: 0.8326 - lr: 1.0000e-04\n",
            "Epoch 24/50\n",
            "46/46 [==============================] - ETA: 0s - loss: 0.3189 - dice_coef: 0.7281 - iou: 0.5728 - recall: 0.8106 - precision: 0.9134\n",
            "Epoch 00024: val_loss did not improve from 0.47189\n",
            "46/46 [==============================] - 75s 2s/step - loss: 0.3189 - dice_coef: 0.7281 - iou: 0.5728 - recall: 0.8106 - precision: 0.9134 - val_loss: 0.4800 - val_dice_coef: 0.6008 - val_iou: 0.4295 - val_recall: 0.7041 - val_precision: 0.8178 - lr: 1.0000e-04\n",
            "Epoch 25/50\n",
            "46/46 [==============================] - ETA: 0s - loss: 0.3100 - dice_coef: 0.7366 - iou: 0.5832 - recall: 0.8061 - precision: 0.9135\n",
            "Epoch 00025: val_loss improved from 0.47189 to 0.45605, saving model to files_working/model.h5\n",
            "46/46 [==============================] - 80s 2s/step - loss: 0.3100 - dice_coef: 0.7366 - iou: 0.5832 - recall: 0.8061 - precision: 0.9135 - val_loss: 0.4561 - val_dice_coef: 0.6219 - val_iou: 0.4515 - val_recall: 0.6997 - val_precision: 0.8245 - lr: 1.0000e-04\n",
            "Epoch 26/50\n",
            "46/46 [==============================] - ETA: 0s - loss: 0.2964 - dice_coef: 0.7483 - iou: 0.5981 - recall: 0.8075 - precision: 0.9180\n",
            "Epoch 00026: val_loss did not improve from 0.45605\n",
            "46/46 [==============================] - 75s 2s/step - loss: 0.2964 - dice_coef: 0.7483 - iou: 0.5981 - recall: 0.8075 - precision: 0.9180 - val_loss: 0.4628 - val_dice_coef: 0.6106 - val_iou: 0.4398 - val_recall: 0.6586 - val_precision: 0.8505 - lr: 1.0000e-04\n",
            "Epoch 27/50\n",
            "46/46 [==============================] - ETA: 0s - loss: 0.2823 - dice_coef: 0.7603 - iou: 0.6135 - recall: 0.8090 - precision: 0.9250\n",
            "Epoch 00027: val_loss improved from 0.45605 to 0.42151, saving model to files_working/model.h5\n",
            "46/46 [==============================] - 81s 2s/step - loss: 0.2823 - dice_coef: 0.7603 - iou: 0.6135 - recall: 0.8090 - precision: 0.9250 - val_loss: 0.4215 - val_dice_coef: 0.6492 - val_iou: 0.4810 - val_recall: 0.6958 - val_precision: 0.8528 - lr: 1.0000e-04\n",
            "Epoch 28/50\n",
            "46/46 [==============================] - ETA: 0s - loss: 0.2706 - dice_coef: 0.7704 - iou: 0.6267 - recall: 0.8079 - precision: 0.9298\n",
            "Epoch 00028: val_loss did not improve from 0.42151\n",
            "46/46 [==============================] - 75s 2s/step - loss: 0.2706 - dice_coef: 0.7704 - iou: 0.6267 - recall: 0.8079 - precision: 0.9298 - val_loss: 0.4781 - val_dice_coef: 0.6087 - val_iou: 0.4377 - val_recall: 0.6302 - val_precision: 0.8276 - lr: 1.0000e-04\n",
            "Epoch 29/50\n",
            "46/46 [==============================] - ETA: 0s - loss: 0.2604 - dice_coef: 0.7794 - iou: 0.6387 - recall: 0.8077 - precision: 0.9333\n",
            "Epoch 00029: val_loss did not improve from 0.42151\n",
            "46/46 [==============================] - 76s 2s/step - loss: 0.2604 - dice_coef: 0.7794 - iou: 0.6387 - recall: 0.8077 - precision: 0.9333 - val_loss: 0.4471 - val_dice_coef: 0.6253 - val_iou: 0.4557 - val_recall: 0.6324 - val_precision: 0.8526 - lr: 1.0000e-04\n",
            "Epoch 30/50\n",
            "46/46 [==============================] - ETA: 0s - loss: 0.2489 - dice_coef: 0.7891 - iou: 0.6518 - recall: 0.8102 - precision: 0.9384\n",
            "Epoch 00030: val_loss did not improve from 0.42151\n",
            "46/46 [==============================] - 76s 2s/step - loss: 0.2489 - dice_coef: 0.7891 - iou: 0.6518 - recall: 0.8102 - precision: 0.9384 - val_loss: 0.4495 - val_dice_coef: 0.6253 - val_iou: 0.4555 - val_recall: 0.6314 - val_precision: 0.8446 - lr: 1.0000e-04\n",
            "Epoch 31/50\n",
            "46/46 [==============================] - ETA: 0s - loss: 0.2411 - dice_coef: 0.7962 - iou: 0.6616 - recall: 0.8113 - precision: 0.9400\n",
            "Epoch 00031: val_loss improved from 0.42151 to 0.41100, saving model to files_working/model.h5\n",
            "46/46 [==============================] - 79s 2s/step - loss: 0.2411 - dice_coef: 0.7962 - iou: 0.6616 - recall: 0.8113 - precision: 0.9400 - val_loss: 0.4110 - val_dice_coef: 0.6583 - val_iou: 0.4913 - val_recall: 0.6574 - val_precision: 0.8622 - lr: 1.0000e-04\n",
            "Epoch 32/50\n",
            "46/46 [==============================] - ETA: 0s - loss: 0.2348 - dice_coef: 0.8018 - iou: 0.6694 - recall: 0.8099 - precision: 0.9421\n",
            "Epoch 00032: val_loss improved from 0.41100 to 0.38491, saving model to files_working/model.h5\n",
            "46/46 [==============================] - 80s 2s/step - loss: 0.2348 - dice_coef: 0.8018 - iou: 0.6694 - recall: 0.8099 - precision: 0.9421 - val_loss: 0.3849 - val_dice_coef: 0.6822 - val_iou: 0.5181 - val_recall: 0.6758 - val_precision: 0.8723 - lr: 1.0000e-04\n",
            "Epoch 33/50\n",
            "46/46 [==============================] - ETA: 0s - loss: 0.2241 - dice_coef: 0.8108 - iou: 0.6820 - recall: 0.8123 - precision: 0.9477\n",
            "Epoch 00033: val_loss did not improve from 0.38491\n",
            "46/46 [==============================] - 76s 2s/step - loss: 0.2241 - dice_coef: 0.8108 - iou: 0.6820 - recall: 0.8123 - precision: 0.9477 - val_loss: 0.3868 - val_dice_coef: 0.6805 - val_iou: 0.5161 - val_recall: 0.6766 - val_precision: 0.8621 - lr: 1.0000e-04\n",
            "Epoch 34/50\n",
            "46/46 [==============================] - ETA: 0s - loss: 0.2172 - dice_coef: 0.8169 - iou: 0.6907 - recall: 0.8121 - precision: 0.9505\n",
            "Epoch 00034: val_loss improved from 0.38491 to 0.37877, saving model to files_working/model.h5\n",
            "46/46 [==============================] - 79s 2s/step - loss: 0.2172 - dice_coef: 0.8169 - iou: 0.6907 - recall: 0.8121 - precision: 0.9505 - val_loss: 0.3788 - val_dice_coef: 0.6896 - val_iou: 0.5265 - val_recall: 0.6733 - val_precision: 0.8637 - lr: 1.0000e-04\n",
            "Epoch 35/50\n",
            "46/46 [==============================] - ETA: 0s - loss: 0.2136 - dice_coef: 0.8206 - iou: 0.6959 - recall: 0.8098 - precision: 0.9502\n",
            "Epoch 00035: val_loss improved from 0.37877 to 0.37764, saving model to files_working/model.h5\n",
            "46/46 [==============================] - 80s 2s/step - loss: 0.2136 - dice_coef: 0.8206 - iou: 0.6959 - recall: 0.8098 - precision: 0.9502 - val_loss: 0.3776 - val_dice_coef: 0.6943 - val_iou: 0.5320 - val_recall: 0.6841 - val_precision: 0.8525 - lr: 1.0000e-04\n",
            "Epoch 36/50\n",
            "46/46 [==============================] - ETA: 0s - loss: 0.2086 - dice_coef: 0.8251 - iou: 0.7024 - recall: 0.8099 - precision: 0.9520\n",
            "Epoch 00036: val_loss improved from 0.37764 to 0.35499, saving model to files_working/model.h5\n",
            "46/46 [==============================] - 79s 2s/step - loss: 0.2086 - dice_coef: 0.8251 - iou: 0.7024 - recall: 0.8099 - precision: 0.9520 - val_loss: 0.3550 - val_dice_coef: 0.7094 - val_iou: 0.5499 - val_recall: 0.7024 - val_precision: 0.8647 - lr: 1.0000e-04\n",
            "Epoch 37/50\n",
            "46/46 [==============================] - ETA: 0s - loss: 0.2069 - dice_coef: 0.8271 - iou: 0.7053 - recall: 0.8114 - precision: 0.9501\n",
            "Epoch 00037: val_loss did not improve from 0.35499\n",
            "46/46 [==============================] - 75s 2s/step - loss: 0.2069 - dice_coef: 0.8271 - iou: 0.7053 - recall: 0.8114 - precision: 0.9501 - val_loss: 0.3860 - val_dice_coef: 0.6856 - val_iou: 0.5218 - val_recall: 0.6399 - val_precision: 0.8735 - lr: 1.0000e-04\n",
            "Epoch 38/50\n",
            "46/46 [==============================] - ETA: 0s - loss: 0.1972 - dice_coef: 0.8349 - iou: 0.7167 - recall: 0.8127 - precision: 0.9555\n",
            "Epoch 00038: val_loss did not improve from 0.35499\n",
            "46/46 [==============================] - 75s 2s/step - loss: 0.1972 - dice_coef: 0.8349 - iou: 0.7167 - recall: 0.8127 - precision: 0.9555 - val_loss: 0.4013 - val_dice_coef: 0.6760 - val_iou: 0.5112 - val_recall: 0.6113 - val_precision: 0.8826 - lr: 1.0000e-04\n",
            "Epoch 39/50\n",
            "46/46 [==============================] - ETA: 0s - loss: 0.1842 - dice_coef: 0.8454 - iou: 0.7323 - recall: 0.8158 - precision: 0.9641\n",
            "Epoch 00039: val_loss did not improve from 0.35499\n",
            "46/46 [==============================] - 76s 2s/step - loss: 0.1842 - dice_coef: 0.8454 - iou: 0.7323 - recall: 0.8158 - precision: 0.9641 - val_loss: 0.4199 - val_dice_coef: 0.6612 - val_iou: 0.4943 - val_recall: 0.5970 - val_precision: 0.8752 - lr: 1.0000e-04\n",
            "Epoch 40/50\n",
            "46/46 [==============================] - ETA: 0s - loss: 0.1804 - dice_coef: 0.8490 - iou: 0.7378 - recall: 0.8159 - precision: 0.9654\n",
            "Epoch 00040: val_loss did not improve from 0.35499\n",
            "46/46 [==============================] - 76s 2s/step - loss: 0.1804 - dice_coef: 0.8490 - iou: 0.7378 - recall: 0.8159 - precision: 0.9654 - val_loss: 0.3938 - val_dice_coef: 0.6808 - val_iou: 0.5166 - val_recall: 0.6196 - val_precision: 0.8784 - lr: 1.0000e-04\n",
            "Epoch 41/50\n",
            "46/46 [==============================] - ETA: 0s - loss: 0.1791 - dice_coef: 0.8507 - iou: 0.7403 - recall: 0.8141 - precision: 0.9648\n",
            "Epoch 00041: val_loss did not improve from 0.35499\n",
            "\n",
            "Epoch 00041: ReduceLROnPlateau reducing learning rate to 9.999999747378752e-06.\n",
            "46/46 [==============================] - 75s 2s/step - loss: 0.1791 - dice_coef: 0.8507 - iou: 0.7403 - recall: 0.8141 - precision: 0.9648 - val_loss: 0.3744 - val_dice_coef: 0.7027 - val_iou: 0.5418 - val_recall: 0.6547 - val_precision: 0.8641 - lr: 1.0000e-04\n",
            "Epoch 42/50\n",
            "46/46 [==============================] - ETA: 0s - loss: 0.1726 - dice_coef: 0.8561 - iou: 0.7485 - recall: 0.8255 - precision: 0.9646\n",
            "Epoch 00042: val_loss did not improve from 0.35499\n",
            "46/46 [==============================] - 76s 2s/step - loss: 0.1726 - dice_coef: 0.8561 - iou: 0.7485 - recall: 0.8255 - precision: 0.9646 - val_loss: 0.3662 - val_dice_coef: 0.7069 - val_iou: 0.5469 - val_recall: 0.6502 - val_precision: 0.8849 - lr: 1.0000e-05\n",
            "Epoch 43/50\n",
            "46/46 [==============================] - ETA: 0s - loss: 0.1597 - dice_coef: 0.8656 - iou: 0.7631 - recall: 0.8251 - precision: 0.9771\n",
            "Epoch 00043: val_loss did not improve from 0.35499\n",
            "46/46 [==============================] - 75s 2s/step - loss: 0.1597 - dice_coef: 0.8656 - iou: 0.7631 - recall: 0.8251 - precision: 0.9771 - val_loss: 0.3660 - val_dice_coef: 0.7073 - val_iou: 0.5474 - val_recall: 0.6487 - val_precision: 0.8862 - lr: 1.0000e-05\n",
            "Epoch 44/50\n",
            "46/46 [==============================] - ETA: 0s - loss: 0.1552 - dice_coef: 0.8691 - iou: 0.7686 - recall: 0.8265 - precision: 0.9804\n",
            "Epoch 00044: val_loss did not improve from 0.35499\n",
            "46/46 [==============================] - 76s 2s/step - loss: 0.1552 - dice_coef: 0.8691 - iou: 0.7686 - recall: 0.8265 - precision: 0.9804 - val_loss: 0.3670 - val_dice_coef: 0.7063 - val_iou: 0.5462 - val_recall: 0.6442 - val_precision: 0.8881 - lr: 1.0000e-05\n",
            "Epoch 45/50\n",
            "46/46 [==============================] - ETA: 0s - loss: 0.1519 - dice_coef: 0.8717 - iou: 0.7727 - recall: 0.8276 - precision: 0.9826\n",
            "Epoch 00045: val_loss did not improve from 0.35499\n",
            "46/46 [==============================] - 76s 2s/step - loss: 0.1519 - dice_coef: 0.8717 - iou: 0.7727 - recall: 0.8276 - precision: 0.9826 - val_loss: 0.3679 - val_dice_coef: 0.7056 - val_iou: 0.5454 - val_recall: 0.6413 - val_precision: 0.8897 - lr: 1.0000e-05\n",
            "Epoch 46/50\n",
            "46/46 [==============================] - ETA: 0s - loss: 0.1493 - dice_coef: 0.8738 - iou: 0.7760 - recall: 0.8285 - precision: 0.9844\n",
            "Epoch 00046: val_loss did not improve from 0.35499\n",
            "\n",
            "Epoch 00046: ReduceLROnPlateau reducing learning rate to 1e-06.\n",
            "46/46 [==============================] - 76s 2s/step - loss: 0.1493 - dice_coef: 0.8738 - iou: 0.7760 - recall: 0.8285 - precision: 0.9844 - val_loss: 0.3686 - val_dice_coef: 0.7052 - val_iou: 0.5449 - val_recall: 0.6394 - val_precision: 0.8903 - lr: 1.0000e-05\n"
          ]
        },
        {
          "output_type": "execute_result",
          "data": {
            "text/plain": [
              "<keras.callbacks.History at 0x7fad0029a090>"
            ]
          },
          "metadata": {},
          "execution_count": 7
        }
      ],
      "source": [
        "\"\"\" Seeding \"\"\"\n",
        "np.random.seed(42)\n",
        "tf.random.set_seed(42)\n",
        "\n",
        "\"\"\" Directory to save files \"\"\"\n",
        "create_dir(\"files_working\")\n",
        "\n",
        "\"\"\" Hyperparameters \"\"\"\n",
        "batch_size = 2\n",
        "lr = 1e-4\n",
        "num_epochs = 50\n",
        "model_path = os.path.join(\"files_working\", \"model.h5\")\n",
        "csv_path = os.path.join(\"files_working\", \"data.csv\")\n",
        "\n",
        "\"\"\" Dataset \"\"\"\n",
        "dataset_path = \"new_data\"\n",
        "train_path = os.path.join(dataset_path, \"train\")\n",
        "valid_path = os.path.join(dataset_path, \"test\")\n",
        "\n",
        "train_x, train_y = load_data(train_path)\n",
        "train_x, train_y = shuffling(train_x, train_y)\n",
        "valid_x, valid_y = load_data(valid_path)\n",
        "\n",
        "print(f\"Train: {len(train_x)} - {len(train_y)}\")\n",
        "print(f\"Valid: {len(valid_x)} - {len(valid_y)}\")\n",
        "\n",
        "train_dataset = tf_dataset(train_x, train_y, batch_size=batch_size)\n",
        "valid_dataset = tf_dataset(valid_x, valid_y, batch_size=batch_size)\n",
        "\n",
        "train_steps = len(train_x)//batch_size\n",
        "valid_setps = len(valid_x)//batch_size\n",
        "\n",
        "if len(train_x) % batch_size != 0:\n",
        "    train_steps += 1\n",
        "if len(valid_x) % batch_size != 0:\n",
        "    valid_setps += 1\n",
        "\n",
        "\"\"\" Model \"\"\"\n",
        "model = build_unet((H, W, 3))\n",
        "# model.compile(loss=tf.keras.losses.BinaryCrossentropy(), optimizer=Adam(lr), metrics=[dice_coef, iou, Recall(), Precision()])\n",
        "# model.compile(loss=dice_loss, optimizer=Adam(lr), metrics=[iou, dice_coef, dice_coef_OD, dice_coef_MA, Recall(), Precision()])\n",
        "# model.summary()\n",
        "\n",
        "model.compile(loss=DiceBCELoss, optimizer=Adam(lr), metrics=[dice_coef, iou, Recall(), Precision()])\n",
        "\n",
        "callbacks = [\n",
        "    ModelCheckpoint(model_path, verbose=1, save_best_only=True),\n",
        "    ReduceLROnPlateau(monitor=\"val_loss\", factor=0.1, patience=5, min_lr=1e-6, verbose=1),\n",
        "    CSVLogger(csv_path),\n",
        "    TensorBoard(),\n",
        "    EarlyStopping(monitor=\"val_loss\", patience=10, restore_best_weights=False)\n",
        "]\n",
        "\n",
        "model.fit(\n",
        "    train_dataset,\n",
        "    epochs=num_epochs,\n",
        "    validation_data=valid_dataset,\n",
        "    steps_per_epoch=train_steps,\n",
        "    validation_steps=valid_setps,\n",
        "    callbacks=callbacks\n",
        ")"
      ]
    },
    {
      "cell_type": "markdown",
      "metadata": {
        "id": "2frB4UHf9mr3"
      },
      "source": [
        "### Evaluate The Model:"
      ]
    },
    {
      "cell_type": "code",
      "execution_count": null,
      "metadata": {
        "id": "C5Kjrpfg9pDn"
      },
      "outputs": [],
      "source": [
        "import os\n",
        "os.environ[\"TF_CPP_MIN_LOG_LEVEL\"] = \"2\"\n",
        "import numpy as np\n",
        "import pandas as pd\n",
        "import cv2\n",
        "from glob import glob\n",
        "from tqdm import tqdm\n",
        "import tensorflow as tf\n",
        "from tensorflow.keras.utils import CustomObjectScope\n",
        "from sklearn.metrics import accuracy_score, f1_score, jaccard_score, precision_score, recall_score, auc\n",
        "# from metrics import dice_loss, dice_coef, iou\n",
        "# from utils import get_filenames_sorted"
      ]
    },
    {
      "cell_type": "code",
      "execution_count": null,
      "metadata": {
        "id": "tbgjkGOU-QeQ"
      },
      "outputs": [],
      "source": [
        "H = 512\n",
        "W = 512\n",
        "\n",
        "def create_dir(path):\n",
        "    if not os.path.exists(path):\n",
        "        os.makedirs(path)\n",
        "\n",
        "def read_image(path):\n",
        "    x = cv2.imread(path, cv2.IMREAD_COLOR)\n",
        "    # x = cv2.resize(x, (W, H))\n",
        "    ori_x = x\n",
        "    x = x/255.0\n",
        "    x = x.astype(np.float32)\n",
        "    return ori_x, x\n",
        "\n",
        "def read_mask(path):\n",
        "    x = cv2.imread(path, cv2.IMREAD_COLOR)  ## (512, 512)\n",
        "    # x = cv2.resize(x, (W, H))\n",
        "    ori_x = x\n",
        "    x = x/255.0\n",
        "    x = x.astype(np.float32)\n",
        "    x = x[:,:,0:2] # Discard the last channel \n",
        "    return ori_x, x\n",
        "\n",
        "def load_data(path):\n",
        "    x = sorted(glob(os.path.join(path, \"image\", \"*.png\")))\n",
        "    y = sorted(glob(os.path.join(path, \"mask\", \"*.png\")))\n",
        "    return x, y\n",
        "\n",
        "def save_results(ori_x, ori_y, y_pred, save_image_path, channel):\n",
        "    line = np.ones((y_pred.shape[0], 10, 3)) * 255\n",
        "\n",
        "    pred_image = np.zeros((y_pred.shape[0], y_pred.shape[1], 3))\n",
        "    _y_pred = y_pred[:, :, channel]\n",
        "    _ori_y = ori_y[:, :, channel]\n",
        "    pred_image[:, :, 0] = ((_y_pred > 0.5) & (_ori_y <= 128)) * 255\n",
        "    pred_image[:, :, 1] = ((_y_pred > 0.5) & (_ori_y  > 128)) * 255\n",
        "    pred_image[:, :, 2] = ((_ori_y  > 128) & (_y_pred <= 0.5 )) * 255\n",
        "\n",
        "    print(\" saving result\", save_image_path)\n",
        "    cv2.imwrite(save_image_path, pred_image)"
      ]
    },
    {
      "cell_type": "code",
      "execution_count": null,
      "metadata": {
        "colab": {
          "base_uri": "https://localhost:8080/"
        },
        "id": "HUarJfhE-ZMQ",
        "outputId": "2468299b-ef73-46b5-918d-47dfe3a7a69b"
      },
      "outputs": [
        {
          "output_type": "stream",
          "name": "stdout",
          "text": [
            "files_working/model.h5\n"
          ]
        },
        {
          "output_type": "stream",
          "name": "stderr",
          "text": [
            "\r  0%|          | 0/5 [00:00<?, ?it/s]"
          ]
        },
        {
          "output_type": "stream",
          "name": "stdout",
          "text": [
            "Image_11L\n",
            "255 1.0\n",
            " saving result files_demo_od/Image_11L.png\n",
            " saving result files_demo_bv/Image_11L.png\n"
          ]
        },
        {
          "output_type": "stream",
          "name": "stderr",
          "text": [
            "\r 20%|██        | 1/5 [00:01<00:06,  1.51s/it]"
          ]
        },
        {
          "output_type": "stream",
          "name": "stdout",
          "text": [
            "Image_11R\n",
            "255 1.0\n",
            " saving result files_demo_od/Image_11R.png\n",
            " saving result files_demo_bv/Image_11R.png\n"
          ]
        },
        {
          "output_type": "stream",
          "name": "stderr",
          "text": [
            "\r 40%|████      | 2/5 [00:02<00:03,  1.19s/it]"
          ]
        },
        {
          "output_type": "stream",
          "name": "stdout",
          "text": [
            "Image_12L\n",
            "255 1.0\n",
            " saving result files_demo_od/Image_12L.png\n",
            " saving result files_demo_bv/Image_12L.png\n"
          ]
        },
        {
          "output_type": "stream",
          "name": "stderr",
          "text": [
            "\r 60%|██████    | 3/5 [00:03<00:02,  1.07s/it]"
          ]
        },
        {
          "output_type": "stream",
          "name": "stdout",
          "text": [
            "Image_12R\n",
            "255 1.0\n",
            " saving result files_demo_od/Image_12R.png\n",
            " saving result files_demo_bv/Image_12R.png\n"
          ]
        },
        {
          "output_type": "stream",
          "name": "stderr",
          "text": [
            "\r 80%|████████  | 4/5 [00:04<00:01,  1.02s/it]"
          ]
        },
        {
          "output_type": "stream",
          "name": "stdout",
          "text": [
            "Image_13L\n",
            "255 1.0\n",
            " saving result files_demo_od/Image_13L.png\n",
            " saving result files_demo_bv/Image_13L.png\n"
          ]
        },
        {
          "output_type": "stream",
          "name": "stderr",
          "text": [
            "100%|██████████| 5/5 [00:05<00:00,  1.06s/it]"
          ]
        },
        {
          "output_type": "stream",
          "name": "stdout",
          "text": [
            "\n",
            "\n",
            "****** OD ******Metrics\n",
            "Accuracy: 0.99480\n",
            "F1: 0.78081 (dice score)\n",
            "AUC: 0.78081 (Auc score)\n",
            "Jaccard: 0.64936\n",
            "Recall: 0.67799\n",
            "Precision: 0.93593\n",
            "\n",
            "\n",
            "****** BV ******Metrics\n",
            "Accuracy: 0.97091\n",
            "F1: 0.76965 (dice score)\n",
            "AUC: 0.76965 (Auc score)\n",
            "Jaccard: 0.62634\n",
            "Recall: 0.78072\n",
            "Precision: 0.76384\n",
            "\n",
            "\n"
          ]
        },
        {
          "output_type": "stream",
          "name": "stderr",
          "text": [
            "\n"
          ]
        }
      ],
      "source": [
        "data_dir = \"new_data\"\n",
        "od_channel, bv_channel = 0, 1\n",
        "\n",
        "od_result_dir = \"files_demo_od\"\n",
        "bv_result_dir = \"files_demo_bv\"\n",
        "\n",
        "create_dir(od_result_dir)\n",
        "create_dir(bv_result_dir)\n",
        "\n",
        "model_dir = \"files_working\"\n",
        "\n",
        "\"\"\" Load the model \"\"\"\n",
        "model_file_name = f\"{model_dir}/model.h5\"\n",
        "print(model_file_name)\n",
        "# with CustomObjectScope({'iou': iou, 'dice_coef': dice_coef, 'dice_coef_OD': dice_coef_OD, 'dice_coef_MA': dice_coef_MA, 'dice_loss': dice_loss}):\n",
        "model = tf.keras.models.load_model(model_file_name, compile = False)\n",
        "\n",
        "\"\"\" Load the dataset \"\"\"\n",
        "# dataset_path = os.path.join(data_dir, \"test\")\n",
        "# test_x, test_y = get_filenames_sorted(data_dir + \"/test/image/\", data_dir + \"/test/mask/\" )\n",
        "\n",
        "dataset_path = os.path.join(\"new_data\", \"test\")\n",
        "test_x, test_y = load_data(dataset_path)\n",
        "\n",
        "\"\"\" Make the prediction and calculate the metrics values \"\"\"\n",
        "SCORE_BV, SCORE_OD = [], []\n",
        "for x, y in tqdm(zip(test_x, test_y), total=len(test_x)):\n",
        "    \"\"\" Extracting name \"\"\"\n",
        "    name = x.rsplit(\"/\", 1)[1].rsplit(\".\", 1)[0]\n",
        "    print(name)\n",
        "\n",
        "    \"\"\" Read the image and mask \"\"\"\n",
        "    ori_x, x = read_image(x)\n",
        "    ori_y, y = read_mask(y)\n",
        "\n",
        "    \"\"\" Prediction \"\"\"\n",
        "    y_pred = model.predict(np.expand_dims(x, axis=0))[0]\n",
        "    y_pred = y_pred > 0.5\n",
        "    y_pred = y_pred.astype(np.float32)\n",
        "\n",
        "    print(np.max(ori_y), np.max(y))\n",
        "\n",
        "    \"\"\" Saving the images \"\"\"\n",
        "    save_image_path_od = f\"{od_result_dir}/{name}.png\"\n",
        "    save_results(ori_x, ori_y, y_pred, save_image_path_od, od_channel)\n",
        "\n",
        "    save_image_path_bv = f\"{bv_result_dir}/{name}.png\"\n",
        "    save_results(ori_x, ori_y, y_pred, save_image_path_bv, bv_channel)\n",
        "\n",
        "\n",
        "#     \"\"\" Calculate the od metrics \"\"\"\n",
        "    bv_pred = y_pred[:, :, bv_channel].flatten()\n",
        "    bv_gt = y[:, :, bv_channel].flatten()\n",
        "    acc_value = accuracy_score(bv_gt > 0.5, bv_pred>0.5)\n",
        "    f1_value = f1_score(bv_gt > 0.5, bv_pred>0.5, labels=[0, 1], average=\"binary\")\n",
        "    jac_value = jaccard_score(bv_gt > 0.5, bv_pred>0.5, labels=[0, 1], average=\"binary\")\n",
        "    recall_value = recall_score(bv_gt > 0.5, bv_pred>0.5, labels=[0, 1], average=\"binary\")\n",
        "    recall_computed = np.sum((bv_gt > 0.5) & (bv_pred > 0.5)) / np.sum(bv_gt > 0.5)\n",
        "    precision_value = precision_score(bv_gt > 0.5, bv_pred>0.5, labels=[0, 1], average=\"binary\")\n",
        "    SCORE_BV.append([name, acc_value, f1_value, jac_value, recall_value, precision_value, recall_computed])\n",
        "\n",
        "#     \"\"\" Calculate the ma metrics \"\"\"\n",
        "    bv_pred = y_pred[:, :, od_channel].flatten()\n",
        "    bv_gt = y[:, :, od_channel].flatten()\n",
        "    acc_value = accuracy_score(bv_gt > 0.5, bv_pred>0.5)\n",
        "    f1_value = f1_score(bv_gt > 0.5, bv_pred>0.5, labels=[0, 1], average=\"binary\")\n",
        "    jac_value = jaccard_score(bv_gt > 0.5, bv_pred>0.5, labels=[0, 1], average=\"binary\")\n",
        "    recall_value = recall_score(bv_gt > 0.5, bv_pred>0.5, labels=[0, 1], average=\"binary\")\n",
        "    recall_computed = np.sum((bv_gt > 0.5) & (bv_pred > 0.5)) / np.sum(bv_gt > 0.5)\n",
        "    precision_value = precision_score(bv_gt > 0.5, bv_pred>0.5, labels=[0, 1], average=\"binary\")\n",
        "    SCORE_OD.append([name, acc_value, f1_value, jac_value, recall_value, precision_value, recall_computed])\n",
        "    \n",
        "print(\"\\n\")\n",
        "for SCORE in [SCORE_OD, SCORE_BV]:\n",
        "    if SCORE == SCORE_OD:\n",
        "        print(\"****** OD ******Metrics\")\n",
        "    else:\n",
        "        print(\"****** BV ******Metrics\")\n",
        "    score = [s[1:] for s in SCORE]\n",
        "    score = np.mean(score, axis=0)\n",
        "    print(f\"Accuracy: {score[0]:0.5f}\")\n",
        "    print(f\"F1: {score[1]:0.5f} (dice score)\")\n",
        "    print(f\"AUC: {score[1]:0.5f} (Auc score)\")\n",
        "    print(f\"Jaccard: {score[2]:0.5f}\")\n",
        "    print(f\"Recall: {score[3]:0.5f}\")\n",
        "    print(f\"Precision: {score[4]:0.5f}\")\n",
        "\n",
        "    # \"\"\" Saving \"\"\"\n",
        "    if SCORE == SCORE_OD:\n",
        "        df = pd.DataFrame(SCORE, columns=[\"Image\", \"Acc\", \"F1\", \"Jaccard\", \"Recall\", \"Precision\", \"Recall Computed\"])\n",
        "        df.to_csv(f\"{od_result_dir}/score.csv\")\n",
        "    else:\n",
        "        df = pd.DataFrame(SCORE, columns=[\"Image\", \"Acc\", \"F1\", \"Jaccard\", \"Recall\", \"Precision\", \"Recall Computed\"])\n",
        "        df.to_csv(f\"{bv_result_dir}/score.csv\")\n",
        "    print(\"\\n\")"
      ]
    },
    {
      "cell_type": "code",
      "source": [
        "from copy import deepcopy\n",
        "\n",
        "data_dir = \"new_data\"\n",
        "od_channel, bv_channel = 0, 1\n",
        "\n",
        "model_dir = \"files_working\"\n",
        "threshold = 0.2\n",
        "\n",
        "od_result_dir = f\"files_demo_od_{threshold}\"\n",
        "bv_result_dir = f\"files_demo_bv_{threshold}\"\n",
        "\n",
        "create_dir(od_result_dir)\n",
        "create_dir(bv_result_dir)\n",
        "\n",
        "\"\"\" Load the model \"\"\"\n",
        "model_file_name = f\"{model_dir}/model.h5\"\n",
        "print(model_file_name)\n",
        "# with CustomObjectScope({'iou': iou, 'dice_coef': dice_coef, 'dice_coef_OD': dice_coef_OD, 'dice_coef_MA': dice_coef_MA, 'dice_loss': dice_loss}):\n",
        "model = tf.keras.models.load_model(model_file_name, compile = False)\n",
        "\n",
        "\"\"\" Load the dataset \"\"\"\n",
        "# dataset_path = os.path.join(data_dir, \"test\")\n",
        "# test_x, test_y = get_filenames_sorted(data_dir + \"/test/image/\", data_dir + \"/test/mask/\" )\n",
        "\n",
        "dataset_path = os.path.join(\"new_data\", \"test\")\n",
        "test_x, test_y = load_data(dataset_path)\n",
        "\n",
        "\"\"\" Make the prediction and calculate the metrics values \"\"\"\n",
        "SCORE_BV, SCORE_OD = [], []\n",
        "for x, y in tqdm(zip(test_x, test_y), total=len(test_x)):\n",
        "    \"\"\" Extracting name \"\"\"\n",
        "    name = x.rsplit(\"/\", 1)[1].rsplit(\".\", 1)[0]\n",
        "    print(name)\n",
        "\n",
        "    \"\"\" Read the image and mask \"\"\"\n",
        "    ori_x, x = read_image(x)\n",
        "    ori_y, y = read_mask(y)\n",
        "\n",
        "    \"\"\" Prediction \"\"\"\n",
        "    y_pred = model.predict(np.expand_dims(x, axis=0))[0]\n",
        "    y_pred_prob = deepcopy(y_pred)\n",
        "    y_pred = y_pred > threshold\n",
        "    y_pred = y_pred.astype(np.float32)\n",
        "\n",
        "    print(np.max(ori_y), np.max(y))\n",
        "\n",
        "    \"\"\" Saving the images \"\"\"\n",
        "    save_image_path_od = f\"{od_result_dir}/{name}.png\"\n",
        "    save_results(ori_x, ori_y, y_pred, save_image_path_od, od_channel)\n",
        "\n",
        "    save_image_path_bv = f\"{bv_result_dir}/{name}.png\"\n",
        "    save_results(ori_x, ori_y, y_pred, save_image_path_bv, bv_channel)\n",
        "\n",
        "\n",
        "#     \"\"\" Calculate the od metrics \"\"\"\n",
        "    bv_pred = y_pred[:, :, bv_channel].flatten()\n",
        "    bv_pred_prob = y_pred_prob[:, :, bv_channel].flatten()\n",
        "    bv_gt = y[:, :, bv_channel].flatten()\n",
        "    acc_value = accuracy_score(bv_gt > threshold, bv_pred>threshold)\n",
        "    f1_value = f1_score(bv_gt > threshold, bv_pred>threshold, labels=[0, 1], average=\"binary\")\n",
        "    jac_value = jaccard_score(bv_gt > threshold, bv_pred>threshold, labels=[0, 1], average=\"binary\")\n",
        "    recall_value = recall_score(bv_gt > threshold, bv_pred>threshold, labels=[0, 1], average=\"binary\")\n",
        "    recall_computed = np.sum((bv_gt > threshold) & (bv_pred > threshold)) / np.sum(bv_gt > threshold)\n",
        "    precision_value = precision_score(bv_gt > threshold, bv_pred>threshold, labels=[0, 1], average=\"binary\")\n",
        "    auc_score = auc(bv_gt > threshold, bv_pred_prob)\n",
        "    SCORE_BV.append([name, acc_value, f1_value, jac_value, recall_value, precision_value, recall_computed, auc_score])\n",
        "\n",
        "#     \"\"\" Calculate the ma metrics \"\"\"\n",
        "    bv_pred = y_pred[:, :, od_channel].flatten()\n",
        "    bv_pred_prob = y_pred_prob[:, :, bv_channel].flatten()\n",
        "    bv_gt = y[:, :, od_channel].flatten()\n",
        "    acc_value = accuracy_score(bv_gt > threshold, bv_pred>threshold)\n",
        "    f1_value = f1_score(bv_gt > threshold, bv_pred>threshold, labels=[0, 1], average=\"binary\")\n",
        "    jac_value = jaccard_score(bv_gt > threshold, bv_pred>threshold, labels=[0, 1], average=\"binary\")\n",
        "    recall_value = recall_score(bv_gt > threshold, bv_pred>threshold, labels=[0, 1], average=\"binary\")\n",
        "    recall_computed = np.sum((bv_gt > threshold) & (bv_pred > threshold)) / np.sum(bv_gt > threshold)\n",
        "    precision_value = precision_score(bv_gt > threshold, bv_pred>threshold, labels=[0, 1], average=\"binary\")\n",
        "    auc_score = auc(bv_gt > threshold, bv_pred_prob)\n",
        "    SCORE_OD.append([name, acc_value, f1_value, jac_value, recall_value, precision_value, recall_computed, auc_score])\n",
        "    \n",
        "print(\"\\n\")\n",
        "for SCORE in [SCORE_OD, SCORE_BV]:\n",
        "    if SCORE == SCORE_OD:\n",
        "        print(\"****** OD ******Metrics\")\n",
        "    else:\n",
        "        print(\"****** BV ******Metrics\")\n",
        "    score = [s[1:] for s in SCORE]\n",
        "    score = np.mean(score, axis=0)\n",
        "    print(f\"Threshold:\", threshold)\n",
        "    print(f\"Accuracy: {score[0]:0.5f}\")\n",
        "    print(f\"F1: {score[1]:0.5f} (dice score)\")\n",
        "    print(f\"Jaccard: {score[2]:0.5f}\")\n",
        "    print(f\"Recall: {score[3]:0.5f}\")\n",
        "    print(f\"Precision: {score[4]:0.5f}\")\n",
        "    print(f\"AUC: {score[5]:0.5f}\")\n",
        "\n",
        "    # \"\"\" Saving \"\"\"\n",
        "    if SCORE == SCORE_OD:\n",
        "        df = pd.DataFrame(SCORE, columns=[\"Image\", \"Acc\", \"F1\", \"Jaccard\", \"Recall\", \"Precision\", \"Recall Computed\", \"AUC\"])\n",
        "        df.to_csv(f\"{od_result_dir}/score.csv\")\n",
        "    else:\n",
        "        df = pd.DataFrame(SCORE, columns=[\"Image\", \"Acc\", \"F1\", \"Jaccard\", \"Recall\", \"Precision\", \"Recall Computed\", \"AUC\"])\n",
        "        df.to_csv(f\"{bv_result_dir}/score.csv\")\n",
        "    print(\"\\n\")"
      ],
      "metadata": {
        "colab": {
          "base_uri": "https://localhost:8080/"
        },
        "id": "_xmL-bp4_wbE",
        "outputId": "b1c88aa4-24a4-408e-d5be-306aec90e92e"
      },
      "execution_count": null,
      "outputs": [
        {
          "output_type": "stream",
          "name": "stdout",
          "text": [
            "files_working/model.h5\n"
          ]
        },
        {
          "output_type": "stream",
          "name": "stderr",
          "text": [
            "\r  0%|          | 0/5 [00:00<?, ?it/s]"
          ]
        },
        {
          "output_type": "stream",
          "name": "stdout",
          "text": [
            "Image_11L\n",
            "255 1.0\n",
            " saving result files_demo_od_0.2/Image_11L.png\n",
            " saving result files_demo_bv_0.2/Image_11L.png\n"
          ]
        },
        {
          "output_type": "stream",
          "name": "stderr",
          "text": [
            "\r 20%|██        | 1/5 [00:01<00:05,  1.47s/it]"
          ]
        },
        {
          "output_type": "stream",
          "name": "stdout",
          "text": [
            "Image_11R\n",
            "255 1.0\n",
            " saving result files_demo_od_0.2/Image_11R.png\n",
            " saving result files_demo_bv_0.2/Image_11R.png\n"
          ]
        },
        {
          "output_type": "stream",
          "name": "stderr",
          "text": [
            "\r 40%|████      | 2/5 [00:02<00:03,  1.19s/it]"
          ]
        },
        {
          "output_type": "stream",
          "name": "stdout",
          "text": [
            "Image_12L\n",
            "255 1.0\n",
            " saving result files_demo_od_0.2/Image_12L.png\n",
            " saving result files_demo_bv_0.2/Image_12L.png\n"
          ]
        },
        {
          "output_type": "stream",
          "name": "stderr",
          "text": [
            "\r 60%|██████    | 3/5 [00:03<00:02,  1.11s/it]"
          ]
        },
        {
          "output_type": "stream",
          "name": "stdout",
          "text": [
            "Image_12R\n",
            "255 1.0\n",
            " saving result files_demo_od_0.2/Image_12R.png\n",
            " saving result files_demo_bv_0.2/Image_12R.png\n"
          ]
        },
        {
          "output_type": "stream",
          "name": "stderr",
          "text": [
            "\r 80%|████████  | 4/5 [00:04<00:01,  1.06s/it]"
          ]
        },
        {
          "output_type": "stream",
          "name": "stdout",
          "text": [
            "Image_13L\n",
            "255 1.0\n",
            " saving result files_demo_od_0.2/Image_13L.png\n",
            " saving result files_demo_bv_0.2/Image_13L.png\n"
          ]
        },
        {
          "output_type": "stream",
          "name": "stderr",
          "text": [
            "100%|██████████| 5/5 [00:05<00:00,  1.10s/it]"
          ]
        },
        {
          "output_type": "stream",
          "name": "stdout",
          "text": [
            "\n",
            "\n",
            "****** OD ******Metrics\n",
            "Threshold: 0.2\n",
            "Accuracy: 0.99519\n",
            "F1: 0.80491 (dice score)\n",
            "Jaccard: 0.68258\n",
            "Recall: 0.72062\n",
            "Precision: 0.92801\n",
            "AUC: 0.72062\n",
            "\n",
            "\n",
            "****** BV ******Metrics\n",
            "Threshold: 0.2\n",
            "Accuracy: 0.96904\n",
            "F1: 0.78023 (dice score)\n",
            "Jaccard: 0.64018\n",
            "Recall: 0.79249\n",
            "Precision: 0.77253\n",
            "AUC: 0.79249\n",
            "\n",
            "\n"
          ]
        },
        {
          "output_type": "stream",
          "name": "stderr",
          "text": [
            "\n"
          ]
        }
      ]
    },
    {
      "cell_type": "code",
      "source": [
        "from copy import deepcopy\n",
        "\n",
        "data_dir = \"new_data\"\n",
        "od_channel, bv_channel = 0, 1\n",
        "\n",
        "model_dir = \"files_working\"\n",
        "threshold = 0.3\n",
        "\n",
        "od_result_dir = f\"files_demo_od_{threshold}\"\n",
        "bv_result_dir = f\"files_demo_bv_{threshold}\"\n",
        "\n",
        "create_dir(od_result_dir)\n",
        "create_dir(bv_result_dir)\n",
        "\n",
        "\"\"\" Load the model \"\"\"\n",
        "model_file_name = f\"{model_dir}/model.h5\"\n",
        "print(model_file_name)\n",
        "# with CustomObjectScope({'iou': iou, 'dice_coef': dice_coef, 'dice_coef_OD': dice_coef_OD, 'dice_coef_MA': dice_coef_MA, 'dice_loss': dice_loss}):\n",
        "model = tf.keras.models.load_model(model_file_name, compile = False)\n",
        "\n",
        "\"\"\" Load the dataset \"\"\"\n",
        "# dataset_path = os.path.join(data_dir, \"test\")\n",
        "# test_x, test_y = get_filenames_sorted(data_dir + \"/test/image/\", data_dir + \"/test/mask/\" )\n",
        "\n",
        "dataset_path = os.path.join(\"new_data\", \"test\")\n",
        "test_x, test_y = load_data(dataset_path)\n",
        "\n",
        "\"\"\" Make the prediction and calculate the metrics values \"\"\"\n",
        "SCORE_BV, SCORE_OD = [], []\n",
        "for x, y in tqdm(zip(test_x, test_y), total=len(test_x)):\n",
        "    \"\"\" Extracting name \"\"\"\n",
        "    name = x.rsplit(\"/\", 1)[1].rsplit(\".\", 1)[0]\n",
        "    print(name)\n",
        "\n",
        "    \"\"\" Read the image and mask \"\"\"\n",
        "    ori_x, x = read_image(x)\n",
        "    ori_y, y = read_mask(y)\n",
        "\n",
        "    \"\"\" Prediction \"\"\"\n",
        "    y_pred = model.predict(np.expand_dims(x, axis=0))[0]\n",
        "    y_pred_prob = deepcopy(y_pred)\n",
        "    y_pred = y_pred > threshold\n",
        "    y_pred = y_pred.astype(np.float32)\n",
        "\n",
        "    print(np.max(ori_y), np.max(y))\n",
        "\n",
        "    \"\"\" Saving the images \"\"\"\n",
        "    save_image_path_od = f\"{od_result_dir}/{name}.png\"\n",
        "    save_results(ori_x, ori_y, y_pred, save_image_path_od, od_channel)\n",
        "\n",
        "    save_image_path_bv = f\"{bv_result_dir}/{name}.png\"\n",
        "    save_results(ori_x, ori_y, y_pred, save_image_path_bv, bv_channel)\n",
        "\n",
        "\n",
        "#     \"\"\" Calculate the od metrics \"\"\"\n",
        "    bv_pred = y_pred[:, :, bv_channel].flatten()\n",
        "    bv_pred_prob = y_pred_prob[:, :, bv_channel].flatten()\n",
        "    bv_gt = y[:, :, bv_channel].flatten()\n",
        "    acc_value = accuracy_score(bv_gt > threshold, bv_pred>threshold)\n",
        "    f1_value = f1_score(bv_gt > threshold, bv_pred>threshold, labels=[0, 1], average=\"binary\")\n",
        "    jac_value = jaccard_score(bv_gt > threshold, bv_pred>threshold, labels=[0, 1], average=\"binary\")\n",
        "    recall_value = recall_score(bv_gt > threshold, bv_pred>threshold, labels=[0, 1], average=\"binary\")\n",
        "    recall_computed = np.sum((bv_gt > threshold) & (bv_pred > threshold)) / np.sum(bv_gt > threshold)\n",
        "    precision_value = precision_score(bv_gt > threshold, bv_pred>threshold, labels=[0, 1], average=\"binary\")\n",
        "    auc_score = auc(bv_gt > threshold, bv_pred_prob)\n",
        "    SCORE_BV.append([name, acc_value, f1_value, jac_value, recall_value, precision_value, recall_computed, auc_score])\n",
        "\n",
        "#     \"\"\" Calculate the ma metrics \"\"\"\n",
        "    bv_pred = y_pred[:, :, od_channel].flatten()\n",
        "    bv_pred_prob = y_pred_prob[:, :, bv_channel].flatten()\n",
        "    bv_gt = y[:, :, od_channel].flatten()\n",
        "    acc_value = accuracy_score(bv_gt > threshold, bv_pred>threshold)\n",
        "    f1_value = f1_score(bv_gt > threshold, bv_pred>threshold, labels=[0, 1], average=\"binary\")\n",
        "    jac_value = jaccard_score(bv_gt > threshold, bv_pred>threshold, labels=[0, 1], average=\"binary\")\n",
        "    recall_value = recall_score(bv_gt > threshold, bv_pred>threshold, labels=[0, 1], average=\"binary\")\n",
        "    recall_computed = np.sum((bv_gt > threshold) & (bv_pred > threshold)) / np.sum(bv_gt > threshold)\n",
        "    precision_value = precision_score(bv_gt > threshold, bv_pred>threshold, labels=[0, 1], average=\"binary\")\n",
        "    auc_score = auc(bv_gt > threshold, bv_pred_prob)\n",
        "    SCORE_OD.append([name, acc_value, f1_value, jac_value, recall_value, precision_value, recall_computed, auc_score])\n",
        "    \n",
        "print(\"\\n\")\n",
        "for SCORE in [SCORE_OD, SCORE_BV]:\n",
        "    if SCORE == SCORE_OD:\n",
        "        print(\"****** OD ******Metrics\")\n",
        "    else:\n",
        "        print(\"****** BV ******Metrics\")\n",
        "    score = [s[1:] for s in SCORE]\n",
        "    score = np.mean(score, axis=0)\n",
        "    print(f\"Threshold:\", threshold)\n",
        "    print(f\"Accuracy: {score[0]:0.5f}\")\n",
        "    print(f\"F1: {score[1]:0.5f} (dice score)\")\n",
        "    print(f\"Jaccard: {score[2]:0.5f}\")\n",
        "    print(f\"Recall: {score[3]:0.5f}\")\n",
        "    print(f\"Precision: {score[4]:0.5f}\")\n",
        "    print(f\"AUC: {score[5]:0.5f}\")\n",
        "\n",
        "    # \"\"\" Saving \"\"\"\n",
        "    if SCORE == SCORE_OD:\n",
        "        df = pd.DataFrame(SCORE, columns=[\"Image\", \"Acc\", \"F1\", \"Jaccard\", \"Recall\", \"Precision\", \"Recall Computed\", \"AUC\"])\n",
        "        df.to_csv(f\"{od_result_dir}/score.csv\")\n",
        "    else:\n",
        "        df = pd.DataFrame(SCORE, columns=[\"Image\", \"Acc\", \"F1\", \"Jaccard\", \"Recall\", \"Precision\", \"Recall Computed\", \"AUC\"])\n",
        "        df.to_csv(f\"{bv_result_dir}/score.csv\")\n",
        "    print(\"\\n\")"
      ],
      "metadata": {
        "colab": {
          "base_uri": "https://localhost:8080/"
        },
        "id": "D03aQt2c_ySk",
        "outputId": "47f0fb88-f802-43fe-f887-251fef113426"
      },
      "execution_count": null,
      "outputs": [
        {
          "output_type": "stream",
          "name": "stdout",
          "text": [
            "files_working/model.h5\n"
          ]
        },
        {
          "output_type": "stream",
          "name": "stderr",
          "text": [
            "\r  0%|          | 0/5 [00:00<?, ?it/s]"
          ]
        },
        {
          "output_type": "stream",
          "name": "stdout",
          "text": [
            "Image_11L\n",
            "255 1.0\n",
            " saving result files_demo_od_0.3/Image_11L.png\n",
            " saving result files_demo_bv_0.3/Image_11L.png\n"
          ]
        },
        {
          "output_type": "stream",
          "name": "stderr",
          "text": [
            "\r 20%|██        | 1/5 [00:01<00:06,  1.53s/it]"
          ]
        },
        {
          "output_type": "stream",
          "name": "stdout",
          "text": [
            "Image_11R\n",
            "255 1.0\n",
            " saving result files_demo_od_0.3/Image_11R.png\n",
            " saving result files_demo_bv_0.3/Image_11R.png\n"
          ]
        },
        {
          "output_type": "stream",
          "name": "stderr",
          "text": [
            "\r 40%|████      | 2/5 [00:02<00:03,  1.23s/it]"
          ]
        },
        {
          "output_type": "stream",
          "name": "stdout",
          "text": [
            "Image_12L\n",
            "255 1.0\n",
            " saving result files_demo_od_0.3/Image_12L.png\n",
            " saving result files_demo_bv_0.3/Image_12L.png\n"
          ]
        },
        {
          "output_type": "stream",
          "name": "stderr",
          "text": [
            "\r 60%|██████    | 3/5 [00:03<00:02,  1.13s/it]"
          ]
        },
        {
          "output_type": "stream",
          "name": "stdout",
          "text": [
            "Image_12R\n",
            "255 1.0\n",
            " saving result files_demo_od_0.3/Image_12R.png\n",
            " saving result files_demo_bv_0.3/Image_12R.png\n"
          ]
        },
        {
          "output_type": "stream",
          "name": "stderr",
          "text": [
            "\r 80%|████████  | 4/5 [00:04<00:01,  1.08s/it]"
          ]
        },
        {
          "output_type": "stream",
          "name": "stdout",
          "text": [
            "Image_13L\n",
            "255 1.0\n",
            " saving result files_demo_od_0.3/Image_13L.png\n",
            " saving result files_demo_bv_0.3/Image_13L.png\n"
          ]
        },
        {
          "output_type": "stream",
          "name": "stderr",
          "text": [
            "100%|██████████| 5/5 [00:05<00:00,  1.12s/it]"
          ]
        },
        {
          "output_type": "stream",
          "name": "stdout",
          "text": [
            "\n",
            "\n",
            "****** OD ******Metrics\n",
            "Threshold: 0.3\n",
            "Accuracy: 0.99502\n",
            "F1: 0.79504 (dice score)\n",
            "Jaccard: 0.66888\n",
            "Recall: 0.70234\n",
            "Precision: 0.93192\n",
            "AUC: 0.70234\n",
            "\n",
            "\n",
            "****** BV ******Metrics\n",
            "Threshold: 0.3\n",
            "Accuracy: 0.96972\n",
            "F1: 0.77721 (dice score)\n",
            "Jaccard: 0.63620\n",
            "Recall: 0.78329\n",
            "Precision: 0.77566\n",
            "AUC: 0.78329\n",
            "\n",
            "\n"
          ]
        },
        {
          "output_type": "stream",
          "name": "stderr",
          "text": [
            "\n"
          ]
        }
      ]
    },
    {
      "cell_type": "code",
      "source": [
        "from copy import deepcopy\n",
        "\n",
        "data_dir = \"new_data\"\n",
        "od_channel, bv_channel = 0, 1\n",
        "\n",
        "model_dir = \"files_working\"\n",
        "threshold = 0.75\n",
        "\n",
        "od_result_dir = f\"files_demo_od_{threshold}\"\n",
        "bv_result_dir = f\"files_demo_bv_{threshold}\"\n",
        "\n",
        "create_dir(od_result_dir)\n",
        "create_dir(bv_result_dir)\n",
        "\n",
        "\"\"\" Load the model \"\"\"\n",
        "model_file_name = f\"{model_dir}/model.h5\"\n",
        "print(model_file_name)\n",
        "# with CustomObjectScope({'iou': iou, 'dice_coef': dice_coef, 'dice_coef_OD': dice_coef_OD, 'dice_coef_MA': dice_coef_MA, 'dice_loss': dice_loss}):\n",
        "model = tf.keras.models.load_model(model_file_name, compile = False)\n",
        "\n",
        "\"\"\" Load the dataset \"\"\"\n",
        "# dataset_path = os.path.join(data_dir, \"test\")\n",
        "# test_x, test_y = get_filenames_sorted(data_dir + \"/test/image/\", data_dir + \"/test/mask/\" )\n",
        "\n",
        "dataset_path = os.path.join(\"new_data\", \"test\")\n",
        "test_x, test_y = load_data(dataset_path)\n",
        "\n",
        "\"\"\" Make the prediction and calculate the metrics values \"\"\"\n",
        "SCORE_BV, SCORE_OD = [], []\n",
        "for x, y in tqdm(zip(test_x, test_y), total=len(test_x)):\n",
        "    \"\"\" Extracting name \"\"\"\n",
        "    name = x.rsplit(\"/\", 1)[1].rsplit(\".\", 1)[0]\n",
        "    print(name)\n",
        "\n",
        "    \"\"\" Read the image and mask \"\"\"\n",
        "    ori_x, x = read_image(x)\n",
        "    ori_y, y = read_mask(y)\n",
        "\n",
        "    \"\"\" Prediction \"\"\"\n",
        "    y_pred = model.predict(np.expand_dims(x, axis=0))[0]\n",
        "    y_pred_prob = deepcopy(y_pred)\n",
        "    y_pred = y_pred > threshold\n",
        "    y_pred = y_pred.astype(np.float32)\n",
        "\n",
        "    print(np.max(ori_y), np.max(y))\n",
        "\n",
        "    \"\"\" Saving the images \"\"\"\n",
        "    save_image_path_od = f\"{od_result_dir}/{name}.png\"\n",
        "    save_results(ori_x, ori_y, y_pred, save_image_path_od, od_channel)\n",
        "\n",
        "    save_image_path_bv = f\"{bv_result_dir}/{name}.png\"\n",
        "    save_results(ori_x, ori_y, y_pred, save_image_path_bv, bv_channel)\n",
        "\n",
        "\n",
        "#     \"\"\" Calculate the od metrics \"\"\"\n",
        "    bv_pred = y_pred[:, :, bv_channel].flatten()\n",
        "    bv_pred_prob = y_pred_prob[:, :, bv_channel].flatten()\n",
        "    bv_gt = y[:, :, bv_channel].flatten()\n",
        "    acc_value = accuracy_score(bv_gt > threshold, bv_pred>threshold)\n",
        "    f1_value = f1_score(bv_gt > threshold, bv_pred>threshold, labels=[0, 1], average=\"binary\")\n",
        "    jac_value = jaccard_score(bv_gt > threshold, bv_pred>threshold, labels=[0, 1], average=\"binary\")\n",
        "    recall_value = recall_score(bv_gt > threshold, bv_pred>threshold, labels=[0, 1], average=\"binary\")\n",
        "    recall_computed = np.sum((bv_gt > threshold) & (bv_pred > threshold)) / np.sum(bv_gt > threshold)\n",
        "    precision_value = precision_score(bv_gt > threshold, bv_pred>threshold, labels=[0, 1], average=\"binary\")\n",
        "    auc_score = auc(bv_gt > threshold, bv_pred_prob)\n",
        "    SCORE_BV.append([name, acc_value, f1_value, jac_value, recall_value, precision_value, recall_computed, auc_score])\n",
        "\n",
        "#     \"\"\" Calculate the ma metrics \"\"\"\n",
        "    bv_pred = y_pred[:, :, od_channel].flatten()\n",
        "    bv_pred_prob = y_pred_prob[:, :, bv_channel].flatten()\n",
        "    bv_gt = y[:, :, od_channel].flatten()\n",
        "    acc_value = accuracy_score(bv_gt > threshold, bv_pred>threshold)\n",
        "    f1_value = f1_score(bv_gt > threshold, bv_pred>threshold, labels=[0, 1], average=\"binary\")\n",
        "    jac_value = jaccard_score(bv_gt > threshold, bv_pred>threshold, labels=[0, 1], average=\"binary\")\n",
        "    recall_value = recall_score(bv_gt > threshold, bv_pred>threshold, labels=[0, 1], average=\"binary\")\n",
        "    recall_computed = np.sum((bv_gt > threshold) & (bv_pred > threshold)) / np.sum(bv_gt > threshold)\n",
        "    precision_value = precision_score(bv_gt > threshold, bv_pred>threshold, labels=[0, 1], average=\"binary\")\n",
        "    auc_score = auc(bv_gt > threshold, bv_pred_prob)\n",
        "    SCORE_OD.append([name, acc_value, f1_value, jac_value, recall_value, precision_value, recall_computed, auc_score])\n",
        "    \n",
        "print(\"\\n\")\n",
        "for SCORE in [SCORE_OD, SCORE_BV]:\n",
        "    if SCORE == SCORE_OD:\n",
        "        print(\"****** OD ******Metrics\")\n",
        "    else:\n",
        "        print(\"****** BV ******Metrics\")\n",
        "    score = [s[1:] for s in SCORE]\n",
        "    score = np.mean(score, axis=0)\n",
        "    print(f\"Threshold:\", threshold)\n",
        "    print(f\"Accuracy: {score[0]:0.5f}\")\n",
        "    print(f\"F1: {score[1]:0.5f} (dice score)\")\n",
        "    print(f\"Jaccard: {score[2]:0.5f}\")\n",
        "    print(f\"Recall: {score[3]:0.5f}\")\n",
        "    print(f\"Precision: {score[4]:0.5f}\")\n",
        "    print(f\"AUC: {score[5]:0.5f}\")\n",
        "\n",
        "    # \"\"\" Saving \"\"\"\n",
        "    if SCORE == SCORE_OD:\n",
        "        df = pd.DataFrame(SCORE, columns=[\"Image\", \"Acc\", \"F1\", \"Jaccard\", \"Recall\", \"Precision\", \"Recall Computed\", \"AUC\"])\n",
        "        df.to_csv(f\"{od_result_dir}/score.csv\")\n",
        "    else:\n",
        "        df = pd.DataFrame(SCORE, columns=[\"Image\", \"Acc\", \"F1\", \"Jaccard\", \"Recall\", \"Precision\", \"Recall Computed\", \"AUC\"])\n",
        "        df.to_csv(f\"{bv_result_dir}/score.csv\")\n",
        "    print(\"\\n\")"
      ],
      "metadata": {
        "colab": {
          "base_uri": "https://localhost:8080/"
        },
        "id": "ZVtjcXbY_0K0",
        "outputId": "33d3f522-547c-44fc-bf7e-09fab89a97a2"
      },
      "execution_count": null,
      "outputs": [
        {
          "output_type": "stream",
          "name": "stdout",
          "text": [
            "files_working/model.h5\n"
          ]
        },
        {
          "output_type": "stream",
          "name": "stderr",
          "text": [
            "\r  0%|          | 0/5 [00:00<?, ?it/s]"
          ]
        },
        {
          "output_type": "stream",
          "name": "stdout",
          "text": [
            "Image_11L\n",
            "255 1.0\n",
            " saving result files_demo_od_0.75/Image_11L.png\n",
            " saving result files_demo_bv_0.75/Image_11L.png\n"
          ]
        },
        {
          "output_type": "stream",
          "name": "stderr",
          "text": [
            "\r 20%|██        | 1/5 [00:01<00:05,  1.48s/it]"
          ]
        },
        {
          "output_type": "stream",
          "name": "stdout",
          "text": [
            "Image_11R\n",
            "255 1.0\n",
            " saving result files_demo_od_0.75/Image_11R.png\n",
            " saving result files_demo_bv_0.75/Image_11R.png\n"
          ]
        },
        {
          "output_type": "stream",
          "name": "stderr",
          "text": [
            "\r 40%|████      | 2/5 [00:02<00:03,  1.20s/it]"
          ]
        },
        {
          "output_type": "stream",
          "name": "stdout",
          "text": [
            "Image_12L\n",
            "255 1.0\n",
            " saving result files_demo_od_0.75/Image_12L.png\n",
            " saving result files_demo_bv_0.75/Image_12L.png\n"
          ]
        },
        {
          "output_type": "stream",
          "name": "stderr",
          "text": [
            "\r 60%|██████    | 3/5 [00:03<00:02,  1.14s/it]"
          ]
        },
        {
          "output_type": "stream",
          "name": "stdout",
          "text": [
            "Image_12R\n",
            "255 1.0\n",
            " saving result files_demo_od_0.75/Image_12R.png\n",
            " saving result files_demo_bv_0.75/Image_12R.png\n"
          ]
        },
        {
          "output_type": "stream",
          "name": "stderr",
          "text": [
            "\r 80%|████████  | 4/5 [00:04<00:01,  1.09s/it]"
          ]
        },
        {
          "output_type": "stream",
          "name": "stdout",
          "text": [
            "Image_13L\n",
            "255 1.0\n",
            " saving result files_demo_od_0.75/Image_13L.png\n",
            " saving result files_demo_bv_0.75/Image_13L.png\n"
          ]
        },
        {
          "output_type": "stream",
          "name": "stderr",
          "text": [
            "100%|██████████| 5/5 [00:05<00:00,  1.11s/it]"
          ]
        },
        {
          "output_type": "stream",
          "name": "stdout",
          "text": [
            "\n",
            "\n",
            "****** OD ******Metrics\n",
            "Threshold: 0.75\n",
            "Accuracy: 0.99445\n",
            "F1: 0.75864 (dice score)\n",
            "Jaccard: 0.61996\n",
            "Recall: 0.64268\n",
            "Precision: 0.94048\n",
            "AUC: 0.64268\n",
            "\n",
            "\n",
            "****** BV ******Metrics\n",
            "Threshold: 0.75\n",
            "Accuracy: 0.97251\n",
            "F1: 0.76095 (dice score)\n",
            "Jaccard: 0.61494\n",
            "Recall: 0.77810\n",
            "Precision: 0.75018\n",
            "AUC: 0.77810\n",
            "\n",
            "\n"
          ]
        },
        {
          "output_type": "stream",
          "name": "stderr",
          "text": [
            "\n"
          ]
        }
      ]
    },
    {
      "cell_type": "code",
      "source": [
        "from copy import deepcopy\n",
        "\n",
        "data_dir = \"new_data\"\n",
        "od_channel, bv_channel = 0, 1\n",
        "\n",
        "model_dir = \"files_working\"\n",
        "threshold = 0.25\n",
        "\n",
        "od_result_dir = f\"files_demo_od_{threshold}\"\n",
        "bv_result_dir = f\"files_demo_bv_{threshold}\"\n",
        "\n",
        "create_dir(od_result_dir)\n",
        "create_dir(bv_result_dir)\n",
        "\n",
        "\"\"\" Load the model \"\"\"\n",
        "model_file_name = f\"{model_dir}/model.h5\"\n",
        "print(model_file_name)\n",
        "# with CustomObjectScope({'iou': iou, 'dice_coef': dice_coef, 'dice_coef_OD': dice_coef_OD, 'dice_coef_MA': dice_coef_MA, 'dice_loss': dice_loss}):\n",
        "model = tf.keras.models.load_model(model_file_name, compile = False)\n",
        "\n",
        "\"\"\" Load the dataset \"\"\"\n",
        "# dataset_path = os.path.join(data_dir, \"test\")\n",
        "# test_x, test_y = get_filenames_sorted(data_dir + \"/test/image/\", data_dir + \"/test/mask/\" )\n",
        "\n",
        "dataset_path = os.path.join(\"new_data\", \"test\")\n",
        "test_x, test_y = load_data(dataset_path)\n",
        "\n",
        "\"\"\" Make the prediction and calculate the metrics values \"\"\"\n",
        "SCORE_BV, SCORE_OD = [], []\n",
        "for x, y in tqdm(zip(test_x, test_y), total=len(test_x)):\n",
        "    \"\"\" Extracting name \"\"\"\n",
        "    name = x.rsplit(\"/\", 1)[1].rsplit(\".\", 1)[0]\n",
        "    print(name)\n",
        "\n",
        "    \"\"\" Read the image and mask \"\"\"\n",
        "    ori_x, x = read_image(x)\n",
        "    ori_y, y = read_mask(y)\n",
        "\n",
        "    \"\"\" Prediction \"\"\"\n",
        "    y_pred = model.predict(np.expand_dims(x, axis=0))[0]\n",
        "    y_pred_prob = deepcopy(y_pred)\n",
        "    y_pred = y_pred > threshold\n",
        "    y_pred = y_pred.astype(np.float32)\n",
        "\n",
        "    print(np.max(ori_y), np.max(y))\n",
        "\n",
        "    \"\"\" Saving the images \"\"\"\n",
        "    save_image_path_od = f\"{od_result_dir}/{name}.png\"\n",
        "    save_results(ori_x, ori_y, y_pred, save_image_path_od, od_channel)\n",
        "\n",
        "    save_image_path_bv = f\"{bv_result_dir}/{name}.png\"\n",
        "    save_results(ori_x, ori_y, y_pred, save_image_path_bv, bv_channel)\n",
        "\n",
        "\n",
        "#     \"\"\" Calculate the od metrics \"\"\"\n",
        "    bv_pred = y_pred[:, :, bv_channel].flatten()\n",
        "    bv_pred_prob = y_pred_prob[:, :, bv_channel].flatten()\n",
        "    bv_gt = y[:, :, bv_channel].flatten()\n",
        "    acc_value = accuracy_score(bv_gt > threshold, bv_pred>threshold)\n",
        "    f1_value = f1_score(bv_gt > threshold, bv_pred>threshold, labels=[0, 1], average=\"binary\")\n",
        "    jac_value = jaccard_score(bv_gt > threshold, bv_pred>threshold, labels=[0, 1], average=\"binary\")\n",
        "    recall_value = recall_score(bv_gt > threshold, bv_pred>threshold, labels=[0, 1], average=\"binary\")\n",
        "    recall_computed = np.sum((bv_gt > threshold) & (bv_pred > threshold)) / np.sum(bv_gt > threshold)\n",
        "    precision_value = precision_score(bv_gt > threshold, bv_pred>threshold, labels=[0, 1], average=\"binary\")\n",
        "    auc_score = auc(bv_gt > threshold, bv_pred_prob)\n",
        "    SCORE_BV.append([name, acc_value, f1_value, jac_value, recall_value, precision_value, recall_computed, auc_score])\n",
        "\n",
        "#     \"\"\" Calculate the ma metrics \"\"\"\n",
        "    bv_pred = y_pred[:, :, od_channel].flatten()\n",
        "    bv_pred_prob = y_pred_prob[:, :, bv_channel].flatten()\n",
        "    bv_gt = y[:, :, od_channel].flatten()\n",
        "    acc_value = accuracy_score(bv_gt > threshold, bv_pred>threshold)\n",
        "    f1_value = f1_score(bv_gt > threshold, bv_pred>threshold, labels=[0, 1], average=\"binary\")\n",
        "    jac_value = jaccard_score(bv_gt > threshold, bv_pred>threshold, labels=[0, 1], average=\"binary\")\n",
        "    recall_value = recall_score(bv_gt > threshold, bv_pred>threshold, labels=[0, 1], average=\"binary\")\n",
        "    recall_computed = np.sum((bv_gt > threshold) & (bv_pred > threshold)) / np.sum(bv_gt > threshold)\n",
        "    precision_value = precision_score(bv_gt > threshold, bv_pred>threshold, labels=[0, 1], average=\"binary\")\n",
        "    auc_score = auc(bv_gt > threshold, bv_pred_prob)\n",
        "    SCORE_OD.append([name, acc_value, f1_value, jac_value, recall_value, precision_value, recall_computed, auc_score])\n",
        "    \n",
        "print(\"\\n\")\n",
        "for SCORE in [SCORE_OD, SCORE_BV]:\n",
        "    if SCORE == SCORE_OD:\n",
        "        print(\"****** OD ******Metrics\")\n",
        "    else:\n",
        "        print(\"****** BV ******Metrics\")\n",
        "    score = [s[1:] for s in SCORE]\n",
        "    score = np.mean(score, axis=0)\n",
        "    print(f\"Threshold:\", threshold)\n",
        "    print(f\"Accuracy: {score[0]:0.5f}\")\n",
        "    print(f\"F1: {score[1]:0.5f} (dice score)\")\n",
        "    print(f\"Jaccard: {score[2]:0.5f}\")\n",
        "    print(f\"Recall: {score[3]:0.5f}\")\n",
        "    print(f\"Precision: {score[4]:0.5f}\")\n",
        "    print(f\"AUC: {score[5]:0.5f}\")\n",
        "\n",
        "    # \"\"\" Saving \"\"\"\n",
        "    if SCORE == SCORE_OD:\n",
        "        df = pd.DataFrame(SCORE, columns=[\"Image\", \"Acc\", \"F1\", \"Jaccard\", \"Recall\", \"Precision\", \"Recall Computed\", \"AUC\"])\n",
        "        df.to_csv(f\"{od_result_dir}/score.csv\")\n",
        "    else:\n",
        "        df = pd.DataFrame(SCORE, columns=[\"Image\", \"Acc\", \"F1\", \"Jaccard\", \"Recall\", \"Precision\", \"Recall Computed\", \"AUC\"])\n",
        "        df.to_csv(f\"{bv_result_dir}/score.csv\")\n",
        "    print(\"\\n\")"
      ],
      "metadata": {
        "colab": {
          "base_uri": "https://localhost:8080/"
        },
        "id": "GtCCbvn7_3eF",
        "outputId": "acf1f4af-e676-4de5-f1c9-27d23ab05e8e"
      },
      "execution_count": null,
      "outputs": [
        {
          "output_type": "stream",
          "name": "stdout",
          "text": [
            "files_working/model.h5\n"
          ]
        },
        {
          "output_type": "stream",
          "name": "stderr",
          "text": [
            "\r  0%|          | 0/5 [00:00<?, ?it/s]"
          ]
        },
        {
          "output_type": "stream",
          "name": "stdout",
          "text": [
            "Image_11L\n",
            "255 1.0\n",
            " saving result files_demo_od_0.25/Image_11L.png\n",
            " saving result files_demo_bv_0.25/Image_11L.png\n"
          ]
        },
        {
          "output_type": "stream",
          "name": "stderr",
          "text": [
            "\r 20%|██        | 1/5 [00:01<00:05,  1.46s/it]"
          ]
        },
        {
          "output_type": "stream",
          "name": "stdout",
          "text": [
            "Image_11R\n",
            "255 1.0\n",
            " saving result files_demo_od_0.25/Image_11R.png\n",
            " saving result files_demo_bv_0.25/Image_11R.png\n"
          ]
        },
        {
          "output_type": "stream",
          "name": "stderr",
          "text": [
            "\r 40%|████      | 2/5 [00:02<00:03,  1.20s/it]"
          ]
        },
        {
          "output_type": "stream",
          "name": "stdout",
          "text": [
            "Image_12L\n",
            "255 1.0\n",
            " saving result files_demo_od_0.25/Image_12L.png\n",
            " saving result files_demo_bv_0.25/Image_12L.png\n"
          ]
        },
        {
          "output_type": "stream",
          "name": "stderr",
          "text": [
            "\r 60%|██████    | 3/5 [00:03<00:02,  1.11s/it]"
          ]
        },
        {
          "output_type": "stream",
          "name": "stdout",
          "text": [
            "Image_12R\n",
            "255 1.0\n",
            " saving result files_demo_od_0.25/Image_12R.png\n",
            " saving result files_demo_bv_0.25/Image_12R.png\n"
          ]
        },
        {
          "output_type": "stream",
          "name": "stderr",
          "text": [
            "\r 80%|████████  | 4/5 [00:04<00:01,  1.07s/it]"
          ]
        },
        {
          "output_type": "stream",
          "name": "stdout",
          "text": [
            "Image_13L\n",
            "255 1.0\n",
            " saving result files_demo_od_0.25/Image_13L.png\n",
            " saving result files_demo_bv_0.25/Image_13L.png\n"
          ]
        },
        {
          "output_type": "stream",
          "name": "stderr",
          "text": [
            "100%|██████████| 5/5 [00:05<00:00,  1.10s/it]"
          ]
        },
        {
          "output_type": "stream",
          "name": "stdout",
          "text": [
            "\n",
            "\n",
            "****** OD ******Metrics\n",
            "Threshold: 0.25\n",
            "Accuracy: 0.99509\n",
            "F1: 0.79929 (dice score)\n",
            "Jaccard: 0.67487\n",
            "Recall: 0.71054\n",
            "Precision: 0.92969\n",
            "AUC: 0.71054\n",
            "\n",
            "\n",
            "****** BV ******Metrics\n",
            "Threshold: 0.25\n",
            "Accuracy: 0.96944\n",
            "F1: 0.77889 (dice score)\n",
            "Jaccard: 0.63845\n",
            "Recall: 0.78731\n",
            "Precision: 0.77496\n",
            "AUC: 0.78731\n",
            "\n",
            "\n"
          ]
        },
        {
          "output_type": "stream",
          "name": "stderr",
          "text": [
            "\n"
          ]
        }
      ]
    },
    {
      "cell_type": "code",
      "source": [
        ""
      ],
      "metadata": {
        "id": "NLdy-tfrAJpS"
      },
      "execution_count": null,
      "outputs": []
    },
    {
      "cell_type": "code",
      "execution_count": null,
      "metadata": {
        "id": "8u-X3ysMAah7",
        "colab": {
          "base_uri": "https://localhost:8080/"
        },
        "outputId": "7c39fcf7-00c5-490e-a35c-dce09e3a97bb"
      },
      "outputs": [
        {
          "output_type": "stream",
          "name": "stdout",
          "text": [
            "files_working/model.h5\n"
          ]
        },
        {
          "output_type": "stream",
          "name": "stderr",
          "text": [
            "\r  0%|          | 0/5 [00:00<?, ?it/s]"
          ]
        },
        {
          "output_type": "stream",
          "name": "stdout",
          "text": [
            "Image_11L\n",
            "255 1.0\n",
            " saving result files_demo_od_0.1/Image_11L.png\n",
            " saving result files_demo_bv_0.1/Image_11L.png\n"
          ]
        },
        {
          "output_type": "stream",
          "name": "stderr",
          "text": [
            "\r 20%|██        | 1/5 [00:24<01:36, 24.18s/it]"
          ]
        },
        {
          "output_type": "stream",
          "name": "stdout",
          "text": [
            "Image_11R\n",
            "255 1.0\n",
            " saving result files_demo_od_0.1/Image_11R.png\n",
            " saving result files_demo_bv_0.1/Image_11R.png\n"
          ]
        },
        {
          "output_type": "stream",
          "name": "stderr",
          "text": [
            "\r 40%|████      | 2/5 [00:25<00:32, 10.94s/it]"
          ]
        },
        {
          "output_type": "stream",
          "name": "stdout",
          "text": [
            "Image_12L\n",
            "255 1.0\n",
            " saving result files_demo_od_0.1/Image_12L.png\n",
            " saving result files_demo_bv_0.1/Image_12L.png\n"
          ]
        },
        {
          "output_type": "stream",
          "name": "stderr",
          "text": [
            "\r 60%|██████    | 3/5 [00:27<00:13,  6.55s/it]"
          ]
        },
        {
          "output_type": "stream",
          "name": "stdout",
          "text": [
            "Image_12R\n",
            "255 1.0\n",
            " saving result files_demo_od_0.1/Image_12R.png\n",
            " saving result files_demo_bv_0.1/Image_12R.png\n"
          ]
        },
        {
          "output_type": "stream",
          "name": "stderr",
          "text": [
            "\r 80%|████████  | 4/5 [00:28<00:04,  4.60s/it]"
          ]
        },
        {
          "output_type": "stream",
          "name": "stdout",
          "text": [
            "Image_13L\n",
            "255 1.0\n",
            " saving result files_demo_od_0.1/Image_13L.png\n",
            " saving result files_demo_bv_0.1/Image_13L.png\n"
          ]
        },
        {
          "output_type": "stream",
          "name": "stderr",
          "text": [
            "100%|██████████| 5/5 [00:30<00:00,  6.07s/it]"
          ]
        },
        {
          "output_type": "stream",
          "name": "stdout",
          "text": [
            "\n",
            "\n",
            "****** OD ******Metrics\n",
            "Threshold: 0.1\n",
            "Accuracy: 0.99535\n",
            "F1: 0.81555 (dice score)\n",
            "Jaccard: 0.69842\n",
            "Recall: 0.74600\n",
            "Precision: 0.91773\n",
            "AUC: 0.74600\n",
            "\n",
            "\n",
            "****** BV ******Metrics\n",
            "Threshold: 0.1\n",
            "Accuracy: 0.96757\n",
            "F1: 0.78277 (dice score)\n",
            "Jaccard: 0.64351\n",
            "Recall: 0.80502\n",
            "Precision: 0.76538\n",
            "AUC: 0.80502\n",
            "\n",
            "\n"
          ]
        },
        {
          "output_type": "stream",
          "name": "stderr",
          "text": [
            "\n"
          ]
        }
      ],
      "source": [
        "from copy import deepcopy\n",
        "\n",
        "data_dir = \"new_data\"\n",
        "od_channel, bv_channel = 0, 1\n",
        "\n",
        "model_dir = \"files_working\"\n",
        "threshold = 0.1\n",
        "\n",
        "od_result_dir = f\"files_demo_od_{threshold}\"\n",
        "bv_result_dir = f\"files_demo_bv_{threshold}\"\n",
        "\n",
        "create_dir(od_result_dir)\n",
        "create_dir(bv_result_dir)\n",
        "\n",
        "\"\"\" Load the model \"\"\"\n",
        "model_file_name = f\"{model_dir}/model.h5\"\n",
        "print(model_file_name)\n",
        "# with CustomObjectScope({'iou': iou, 'dice_coef': dice_coef, 'dice_coef_OD': dice_coef_OD, 'dice_coef_MA': dice_coef_MA, 'dice_loss': dice_loss}):\n",
        "model = tf.keras.models.load_model(model_file_name, compile = False)\n",
        "\n",
        "\"\"\" Load the dataset \"\"\"\n",
        "# dataset_path = os.path.join(data_dir, \"test\")\n",
        "# test_x, test_y = get_filenames_sorted(data_dir + \"/test/image/\", data_dir + \"/test/mask/\" )\n",
        "\n",
        "dataset_path = os.path.join(\"new_data\", \"test\")\n",
        "test_x, test_y = load_data(dataset_path)\n",
        "\n",
        "\"\"\" Make the prediction and calculate the metrics values \"\"\"\n",
        "SCORE_BV, SCORE_OD = [], []\n",
        "for x, y in tqdm(zip(test_x, test_y), total=len(test_x)):\n",
        "    \"\"\" Extracting name \"\"\"\n",
        "    name = x.rsplit(\"/\", 1)[1].rsplit(\".\", 1)[0]\n",
        "    print(name)\n",
        "\n",
        "    \"\"\" Read the image and mask \"\"\"\n",
        "    ori_x, x = read_image(x)\n",
        "    ori_y, y = read_mask(y)\n",
        "\n",
        "    \"\"\" Prediction \"\"\"\n",
        "    y_pred = model.predict(np.expand_dims(x, axis=0))[0]\n",
        "    y_pred_prob = deepcopy(y_pred)\n",
        "    y_pred = y_pred > threshold\n",
        "    y_pred = y_pred.astype(np.float32)\n",
        "\n",
        "    print(np.max(ori_y), np.max(y))\n",
        "\n",
        "    \"\"\" Saving the images \"\"\"\n",
        "    save_image_path_od = f\"{od_result_dir}/{name}.png\"\n",
        "    save_results(ori_x, ori_y, y_pred, save_image_path_od, od_channel)\n",
        "\n",
        "    save_image_path_bv = f\"{bv_result_dir}/{name}.png\"\n",
        "    save_results(ori_x, ori_y, y_pred, save_image_path_bv, bv_channel)\n",
        "\n",
        "\n",
        "#     \"\"\" Calculate the od metrics \"\"\"\n",
        "    bv_pred = y_pred[:, :, bv_channel].flatten()\n",
        "    bv_pred_prob = y_pred_prob[:, :, bv_channel].flatten()\n",
        "    bv_gt = y[:, :, bv_channel].flatten()\n",
        "    acc_value = accuracy_score(bv_gt > threshold, bv_pred>threshold)\n",
        "    f1_value = f1_score(bv_gt > threshold, bv_pred>threshold, labels=[0, 1], average=\"binary\")\n",
        "    jac_value = jaccard_score(bv_gt > threshold, bv_pred>threshold, labels=[0, 1], average=\"binary\")\n",
        "    recall_value = recall_score(bv_gt > threshold, bv_pred>threshold, labels=[0, 1], average=\"binary\")\n",
        "    recall_computed = np.sum((bv_gt > threshold) & (bv_pred > threshold)) / np.sum(bv_gt > threshold)\n",
        "    precision_value = precision_score(bv_gt > threshold, bv_pred>threshold, labels=[0, 1], average=\"binary\")\n",
        "    auc_score = auc(bv_gt > threshold, bv_pred_prob)\n",
        "    SCORE_BV.append([name, acc_value, f1_value, jac_value, recall_value, precision_value, recall_computed, auc_score])\n",
        "\n",
        "#     \"\"\" Calculate the ma metrics \"\"\"\n",
        "    bv_pred = y_pred[:, :, od_channel].flatten()\n",
        "    bv_pred_prob = y_pred_prob[:, :, bv_channel].flatten()\n",
        "    bv_gt = y[:, :, od_channel].flatten()\n",
        "    acc_value = accuracy_score(bv_gt > threshold, bv_pred>threshold)\n",
        "    f1_value = f1_score(bv_gt > threshold, bv_pred>threshold, labels=[0, 1], average=\"binary\")\n",
        "    jac_value = jaccard_score(bv_gt > threshold, bv_pred>threshold, labels=[0, 1], average=\"binary\")\n",
        "    recall_value = recall_score(bv_gt > threshold, bv_pred>threshold, labels=[0, 1], average=\"binary\")\n",
        "    recall_computed = np.sum((bv_gt > threshold) & (bv_pred > threshold)) / np.sum(bv_gt > threshold)\n",
        "    precision_value = precision_score(bv_gt > threshold, bv_pred>threshold, labels=[0, 1], average=\"binary\")\n",
        "    auc_score = auc(bv_gt > threshold, bv_pred_prob)\n",
        "    SCORE_OD.append([name, acc_value, f1_value, jac_value, recall_value, precision_value, recall_computed, auc_score])\n",
        "    \n",
        "print(\"\\n\")\n",
        "for SCORE in [SCORE_OD, SCORE_BV]:\n",
        "    if SCORE == SCORE_OD:\n",
        "        print(\"****** OD ******Metrics\")\n",
        "    else:\n",
        "        print(\"****** BV ******Metrics\")\n",
        "    score = [s[1:] for s in SCORE]\n",
        "    score = np.mean(score, axis=0)\n",
        "    print(f\"Threshold:\", threshold)\n",
        "    print(f\"Accuracy: {score[0]:0.5f}\")\n",
        "    print(f\"F1: {score[1]:0.5f} (dice score)\")\n",
        "    print(f\"Jaccard: {score[2]:0.5f}\")\n",
        "    print(f\"Recall: {score[3]:0.5f}\")\n",
        "    print(f\"Precision: {score[4]:0.5f}\")\n",
        "    print(f\"AUC: {score[5]:0.5f}\")\n",
        "\n",
        "    # \"\"\" Saving \"\"\"\n",
        "    if SCORE == SCORE_OD:\n",
        "        df = pd.DataFrame(SCORE, columns=[\"Image\", \"Acc\", \"F1\", \"Jaccard\", \"Recall\", \"Precision\", \"Recall Computed\", \"AUC\"])\n",
        "        df.to_csv(f\"{od_result_dir}/score.csv\")\n",
        "    else:\n",
        "        df = pd.DataFrame(SCORE, columns=[\"Image\", \"Acc\", \"F1\", \"Jaccard\", \"Recall\", \"Precision\", \"Recall Computed\", \"AUC\"])\n",
        "        df.to_csv(f\"{bv_result_dir}/score.csv\")\n",
        "    print(\"\\n\")"
      ]
    }
  ],
  "metadata": {
    "accelerator": "GPU",
    "colab": {
      "collapsed_sections": [],
      "name": "Best_OD_BV_CHASE.ipynb",
      "provenance": []
    },
    "kernelspec": {
      "display_name": "Python 3",
      "name": "python3"
    },
    "language_info": {
      "name": "python"
    }
  },
  "nbformat": 4,
  "nbformat_minor": 0
}