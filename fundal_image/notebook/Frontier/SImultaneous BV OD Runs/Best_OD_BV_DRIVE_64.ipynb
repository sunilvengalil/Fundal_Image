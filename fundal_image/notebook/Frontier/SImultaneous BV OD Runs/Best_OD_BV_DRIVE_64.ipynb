{
  "cells": [
    {
      "cell_type": "markdown",
      "metadata": {
        "id": "ZIUz94YO5Y0x"
      },
      "source": [
        "### Import the required libraries and modules:"
      ]
    },
    {
      "cell_type": "code",
      "execution_count": null,
      "metadata": {
        "id": "RN5vXWIK27Lr"
      },
      "outputs": [],
      "source": [
        "import tensorflow as tf\n",
        "from tensorflow.keras.layers import Conv2D, BatchNormalization, Activation, MaxPool2D, Conv2DTranspose, Concatenate, Input\n",
        "from tensorflow.keras.models import Model\n",
        "from tensorflow.keras import backend as K\n",
        "import os\n",
        "os.environ[\"TF_CPP_MIN_LOG_LEVEL\"] = \"2\"\n",
        "import numpy as np\n",
        "import cv2\n",
        "from glob import glob\n",
        "from sklearn.utils import shuffle\n",
        "import tensorflow as tf\n",
        "from tensorflow.keras.callbacks import ModelCheckpoint, CSVLogger, ReduceLROnPlateau, EarlyStopping, TensorBoard\n",
        "from tensorflow.keras.optimizers import Adam\n",
        "from tensorflow.keras.metrics import Recall, Precision\n",
        "import numpy as np"
      ]
    },
    {
      "cell_type": "code",
      "execution_count": null,
      "metadata": {
        "colab": {
          "base_uri": "https://localhost:8080/"
        },
        "id": "rx3CS_MbV06K",
        "outputId": "b695f545-d419-4900-ffcd-c5762ed1436b"
      },
      "outputs": [
        {
          "output_type": "stream",
          "name": "stdout",
          "text": [
            "Mounted at /content/gdrive\n",
            "/content/gdrive/MyDrive/Blood_Vessel_Results/ALL_BEST_RESULTS/BV_OD_Drive\n"
          ]
        }
      ],
      "source": [
        "from google.colab import drive\n",
        "drive.mount(\"/content/gdrive\", force_remount=True)\n",
        "%cd /content/gdrive/MyDrive/Blood_Vessel_Results/ALL_BEST_RESULTS/BV_OD_Drive"
      ]
    },
    {
      "cell_type": "markdown",
      "metadata": {
        "id": "MQcINXFE59yv"
      },
      "source": [
        "### Unzip the data:"
      ]
    },
    {
      "cell_type": "code",
      "execution_count": null,
      "metadata": {
        "id": "mA5voGSj58wH"
      },
      "outputs": [],
      "source": [
        "# !unzip new_data.zip"
      ]
    },
    {
      "cell_type": "markdown",
      "metadata": {
        "id": "_WctlpFt6hx4"
      },
      "source": [
        "### Construct the Model:"
      ]
    },
    {
      "cell_type": "code",
      "execution_count": null,
      "metadata": {
        "colab": {
          "base_uri": "https://localhost:8080/"
        },
        "id": "epeNiZGQ5gSW",
        "outputId": "a9dc6ed5-c2d8-488c-b874-6db686305707"
      },
      "outputs": [
        {
          "output_type": "stream",
          "name": "stdout",
          "text": [
            "Model: \"UNET\"\n",
            "__________________________________________________________________________________________________\n",
            " Layer (type)                   Output Shape         Param #     Connected to                     \n",
            "==================================================================================================\n",
            " input_1 (InputLayer)           [(None, 512, 512, 3  0           []                               \n",
            "                                )]                                                                \n",
            "                                                                                                  \n",
            " conv2d (Conv2D)                (None, 512, 512, 64  1792        ['input_1[0][0]']                \n",
            "                                )                                                                 \n",
            "                                                                                                  \n",
            " batch_normalization (BatchNorm  (None, 512, 512, 64  256        ['conv2d[0][0]']                 \n",
            " alization)                     )                                                                 \n",
            "                                                                                                  \n",
            " activation (Activation)        (None, 512, 512, 64  0           ['batch_normalization[0][0]']    \n",
            "                                )                                                                 \n",
            "                                                                                                  \n",
            " conv2d_1 (Conv2D)              (None, 512, 512, 64  36928       ['activation[0][0]']             \n",
            "                                )                                                                 \n",
            "                                                                                                  \n",
            " batch_normalization_1 (BatchNo  (None, 512, 512, 64  256        ['conv2d_1[0][0]']               \n",
            " rmalization)                   )                                                                 \n",
            "                                                                                                  \n",
            " activation_1 (Activation)      (None, 512, 512, 64  0           ['batch_normalization_1[0][0]']  \n",
            "                                )                                                                 \n",
            "                                                                                                  \n",
            " max_pooling2d (MaxPooling2D)   (None, 256, 256, 64  0           ['activation_1[0][0]']           \n",
            "                                )                                                                 \n",
            "                                                                                                  \n",
            " conv2d_2 (Conv2D)              (None, 256, 256, 12  73856       ['max_pooling2d[0][0]']          \n",
            "                                8)                                                                \n",
            "                                                                                                  \n",
            " batch_normalization_2 (BatchNo  (None, 256, 256, 12  512        ['conv2d_2[0][0]']               \n",
            " rmalization)                   8)                                                                \n",
            "                                                                                                  \n",
            " activation_2 (Activation)      (None, 256, 256, 12  0           ['batch_normalization_2[0][0]']  \n",
            "                                8)                                                                \n",
            "                                                                                                  \n",
            " conv2d_3 (Conv2D)              (None, 256, 256, 12  147584      ['activation_2[0][0]']           \n",
            "                                8)                                                                \n",
            "                                                                                                  \n",
            " batch_normalization_3 (BatchNo  (None, 256, 256, 12  512        ['conv2d_3[0][0]']               \n",
            " rmalization)                   8)                                                                \n",
            "                                                                                                  \n",
            " activation_3 (Activation)      (None, 256, 256, 12  0           ['batch_normalization_3[0][0]']  \n",
            "                                8)                                                                \n",
            "                                                                                                  \n",
            " max_pooling2d_1 (MaxPooling2D)  (None, 128, 128, 12  0          ['activation_3[0][0]']           \n",
            "                                8)                                                                \n",
            "                                                                                                  \n",
            " conv2d_4 (Conv2D)              (None, 128, 128, 25  295168      ['max_pooling2d_1[0][0]']        \n",
            "                                6)                                                                \n",
            "                                                                                                  \n",
            " batch_normalization_4 (BatchNo  (None, 128, 128, 25  1024       ['conv2d_4[0][0]']               \n",
            " rmalization)                   6)                                                                \n",
            "                                                                                                  \n",
            " activation_4 (Activation)      (None, 128, 128, 25  0           ['batch_normalization_4[0][0]']  \n",
            "                                6)                                                                \n",
            "                                                                                                  \n",
            " conv2d_5 (Conv2D)              (None, 128, 128, 25  590080      ['activation_4[0][0]']           \n",
            "                                6)                                                                \n",
            "                                                                                                  \n",
            " batch_normalization_5 (BatchNo  (None, 128, 128, 25  1024       ['conv2d_5[0][0]']               \n",
            " rmalization)                   6)                                                                \n",
            "                                                                                                  \n",
            " activation_5 (Activation)      (None, 128, 128, 25  0           ['batch_normalization_5[0][0]']  \n",
            "                                6)                                                                \n",
            "                                                                                                  \n",
            " max_pooling2d_2 (MaxPooling2D)  (None, 64, 64, 256)  0          ['activation_5[0][0]']           \n",
            "                                                                                                  \n",
            " conv2d_6 (Conv2D)              (None, 64, 64, 512)  1180160     ['max_pooling2d_2[0][0]']        \n",
            "                                                                                                  \n",
            " batch_normalization_6 (BatchNo  (None, 64, 64, 512)  2048       ['conv2d_6[0][0]']               \n",
            " rmalization)                                                                                     \n",
            "                                                                                                  \n",
            " activation_6 (Activation)      (None, 64, 64, 512)  0           ['batch_normalization_6[0][0]']  \n",
            "                                                                                                  \n",
            " conv2d_7 (Conv2D)              (None, 64, 64, 512)  2359808     ['activation_6[0][0]']           \n",
            "                                                                                                  \n",
            " batch_normalization_7 (BatchNo  (None, 64, 64, 512)  2048       ['conv2d_7[0][0]']               \n",
            " rmalization)                                                                                     \n",
            "                                                                                                  \n",
            " activation_7 (Activation)      (None, 64, 64, 512)  0           ['batch_normalization_7[0][0]']  \n",
            "                                                                                                  \n",
            " max_pooling2d_3 (MaxPooling2D)  (None, 32, 32, 512)  0          ['activation_7[0][0]']           \n",
            "                                                                                                  \n",
            " conv2d_8 (Conv2D)              (None, 32, 32, 1024  4719616     ['max_pooling2d_3[0][0]']        \n",
            "                                )                                                                 \n",
            "                                                                                                  \n",
            " batch_normalization_8 (BatchNo  (None, 32, 32, 1024  4096       ['conv2d_8[0][0]']               \n",
            " rmalization)                   )                                                                 \n",
            "                                                                                                  \n",
            " activation_8 (Activation)      (None, 32, 32, 1024  0           ['batch_normalization_8[0][0]']  \n",
            "                                )                                                                 \n",
            "                                                                                                  \n",
            " conv2d_9 (Conv2D)              (None, 32, 32, 1024  9438208     ['activation_8[0][0]']           \n",
            "                                )                                                                 \n",
            "                                                                                                  \n",
            " batch_normalization_9 (BatchNo  (None, 32, 32, 1024  4096       ['conv2d_9[0][0]']               \n",
            " rmalization)                   )                                                                 \n",
            "                                                                                                  \n",
            " activation_9 (Activation)      (None, 32, 32, 1024  0           ['batch_normalization_9[0][0]']  \n",
            "                                )                                                                 \n",
            "                                                                                                  \n",
            " conv2d_transpose (Conv2DTransp  (None, 64, 64, 512)  2097664    ['activation_9[0][0]']           \n",
            " ose)                                                                                             \n",
            "                                                                                                  \n",
            " concatenate (Concatenate)      (None, 64, 64, 1024  0           ['conv2d_transpose[0][0]',       \n",
            "                                )                                 'activation_7[0][0]']           \n",
            "                                                                                                  \n",
            " conv2d_10 (Conv2D)             (None, 64, 64, 512)  4719104     ['concatenate[0][0]']            \n",
            "                                                                                                  \n",
            " batch_normalization_10 (BatchN  (None, 64, 64, 512)  2048       ['conv2d_10[0][0]']              \n",
            " ormalization)                                                                                    \n",
            "                                                                                                  \n",
            " activation_10 (Activation)     (None, 64, 64, 512)  0           ['batch_normalization_10[0][0]'] \n",
            "                                                                                                  \n",
            " conv2d_11 (Conv2D)             (None, 64, 64, 512)  2359808     ['activation_10[0][0]']          \n",
            "                                                                                                  \n",
            " batch_normalization_11 (BatchN  (None, 64, 64, 512)  2048       ['conv2d_11[0][0]']              \n",
            " ormalization)                                                                                    \n",
            "                                                                                                  \n",
            " activation_11 (Activation)     (None, 64, 64, 512)  0           ['batch_normalization_11[0][0]'] \n",
            "                                                                                                  \n",
            " conv2d_transpose_1 (Conv2DTran  (None, 128, 128, 25  524544     ['activation_11[0][0]']          \n",
            " spose)                         6)                                                                \n",
            "                                                                                                  \n",
            " concatenate_1 (Concatenate)    (None, 128, 128, 51  0           ['conv2d_transpose_1[0][0]',     \n",
            "                                2)                                'activation_5[0][0]']           \n",
            "                                                                                                  \n",
            " conv2d_12 (Conv2D)             (None, 128, 128, 25  1179904     ['concatenate_1[0][0]']          \n",
            "                                6)                                                                \n",
            "                                                                                                  \n",
            " batch_normalization_12 (BatchN  (None, 128, 128, 25  1024       ['conv2d_12[0][0]']              \n",
            " ormalization)                  6)                                                                \n",
            "                                                                                                  \n",
            " activation_12 (Activation)     (None, 128, 128, 25  0           ['batch_normalization_12[0][0]'] \n",
            "                                6)                                                                \n",
            "                                                                                                  \n",
            " conv2d_13 (Conv2D)             (None, 128, 128, 25  590080      ['activation_12[0][0]']          \n",
            "                                6)                                                                \n",
            "                                                                                                  \n",
            " batch_normalization_13 (BatchN  (None, 128, 128, 25  1024       ['conv2d_13[0][0]']              \n",
            " ormalization)                  6)                                                                \n",
            "                                                                                                  \n",
            " activation_13 (Activation)     (None, 128, 128, 25  0           ['batch_normalization_13[0][0]'] \n",
            "                                6)                                                                \n",
            "                                                                                                  \n",
            " conv2d_transpose_2 (Conv2DTran  (None, 256, 256, 12  131200     ['activation_13[0][0]']          \n",
            " spose)                         8)                                                                \n",
            "                                                                                                  \n",
            " concatenate_2 (Concatenate)    (None, 256, 256, 25  0           ['conv2d_transpose_2[0][0]',     \n",
            "                                6)                                'activation_3[0][0]']           \n",
            "                                                                                                  \n",
            " conv2d_14 (Conv2D)             (None, 256, 256, 12  295040      ['concatenate_2[0][0]']          \n",
            "                                8)                                                                \n",
            "                                                                                                  \n",
            " batch_normalization_14 (BatchN  (None, 256, 256, 12  512        ['conv2d_14[0][0]']              \n",
            " ormalization)                  8)                                                                \n",
            "                                                                                                  \n",
            " activation_14 (Activation)     (None, 256, 256, 12  0           ['batch_normalization_14[0][0]'] \n",
            "                                8)                                                                \n",
            "                                                                                                  \n",
            " conv2d_15 (Conv2D)             (None, 256, 256, 12  147584      ['activation_14[0][0]']          \n",
            "                                8)                                                                \n",
            "                                                                                                  \n",
            " batch_normalization_15 (BatchN  (None, 256, 256, 12  512        ['conv2d_15[0][0]']              \n",
            " ormalization)                  8)                                                                \n",
            "                                                                                                  \n",
            " activation_15 (Activation)     (None, 256, 256, 12  0           ['batch_normalization_15[0][0]'] \n",
            "                                8)                                                                \n",
            "                                                                                                  \n",
            " conv2d_transpose_3 (Conv2DTran  (None, 512, 512, 64  32832      ['activation_15[0][0]']          \n",
            " spose)                         )                                                                 \n",
            "                                                                                                  \n",
            " concatenate_3 (Concatenate)    (None, 512, 512, 12  0           ['conv2d_transpose_3[0][0]',     \n",
            "                                8)                                'activation_1[0][0]']           \n",
            "                                                                                                  \n",
            " conv2d_16 (Conv2D)             (None, 512, 512, 64  73792       ['concatenate_3[0][0]']          \n",
            "                                )                                                                 \n",
            "                                                                                                  \n",
            " batch_normalization_16 (BatchN  (None, 512, 512, 64  256        ['conv2d_16[0][0]']              \n",
            " ormalization)                  )                                                                 \n",
            "                                                                                                  \n",
            " activation_16 (Activation)     (None, 512, 512, 64  0           ['batch_normalization_16[0][0]'] \n",
            "                                )                                                                 \n",
            "                                                                                                  \n",
            " conv2d_17 (Conv2D)             (None, 512, 512, 64  36928       ['activation_16[0][0]']          \n",
            "                                )                                                                 \n",
            "                                                                                                  \n",
            " batch_normalization_17 (BatchN  (None, 512, 512, 64  256        ['conv2d_17[0][0]']              \n",
            " ormalization)                  )                                                                 \n",
            "                                                                                                  \n",
            " activation_17 (Activation)     (None, 512, 512, 64  0           ['batch_normalization_17[0][0]'] \n",
            "                                )                                                                 \n",
            "                                                                                                  \n",
            " conv2d_18 (Conv2D)             (None, 512, 512, 2)  130         ['activation_17[0][0]']          \n",
            "                                                                                                  \n",
            "==================================================================================================\n",
            "Total params: 31,055,362\n",
            "Trainable params: 31,043,586\n",
            "Non-trainable params: 11,776\n",
            "__________________________________________________________________________________________________\n"
          ]
        }
      ],
      "source": [
        "def conv_block(inputs, num_filters):\n",
        "    x = Conv2D(num_filters, 3, padding=\"same\")(inputs)\n",
        "    x = BatchNormalization()(x)\n",
        "    x = Activation(\"relu\")(x)\n",
        "\n",
        "    x = Conv2D(num_filters, 3, padding=\"same\")(x)\n",
        "    x = BatchNormalization()(x)\n",
        "    x = Activation(\"relu\")(x)\n",
        "\n",
        "    return x\n",
        "\n",
        "def encoder_block(inputs, num_filters, strides=2):\n",
        "    x = conv_block(inputs, num_filters)\n",
        "    p = MaxPool2D(strides)(x)\n",
        "    return x, p\n",
        "\n",
        "def decoder_block(inputs, skip_features, num_filters, strides=2):\n",
        "    x = Conv2DTranspose(num_filters, (2, 2), strides=strides, padding=\"same\")(inputs)\n",
        "    x = Concatenate()([x, skip_features])\n",
        "    x = conv_block(x, num_filters)\n",
        "    return x\n",
        "\n",
        "def build_unet(input_shape, num_filters=[64, 128, 256, 512, 1024], strides=[2, 2, 2, 2]):\n",
        "    inputs = Input(input_shape)\n",
        "\n",
        "    s1, p1 = encoder_block(inputs, num_filters[0], strides=strides[0])\n",
        "    s2, p2 = encoder_block(p1, num_filters[1], strides=strides[1])\n",
        "    s3, p3 = encoder_block(p2, num_filters[2], strides=strides[2])\n",
        "    s4, p4 = encoder_block(p3, num_filters[3], strides=strides[3])\n",
        "\n",
        "    b1 = conv_block(p4, num_filters[4])\n",
        "\n",
        "    d1 = decoder_block(b1, s4, num_filters[3], strides=strides[3])\n",
        "    d2 = decoder_block(d1, s3, num_filters[2], strides=strides[2])\n",
        "    d3 = decoder_block(d2, s2, num_filters[1], strides=strides[1])\n",
        "    d4 = decoder_block(d3, s1, num_filters[0], strides=strides[0])\n",
        "\n",
        "    outputs = Conv2D(2, 1, padding=\"same\", activation=\"sigmoid\")(d4)\n",
        "\n",
        "    model = Model(inputs, outputs, name=\"UNET\")\n",
        "    return model\n",
        "\n",
        "input_shape = (512, 512, 3)\n",
        "model = build_unet(input_shape)\n",
        "model.summary()"
      ]
    },
    {
      "cell_type": "markdown",
      "metadata": {
        "id": "TWKUCE3_6vBv"
      },
      "source": [
        "### Adding the Metrics:"
      ]
    },
    {
      "cell_type": "code",
      "execution_count": null,
      "metadata": {
        "id": "s5HXET5Z6uZX"
      },
      "outputs": [],
      "source": [
        "def iou(y_true, y_pred):\n",
        "    def f(y_true, y_pred):\n",
        "        intersection = (y_true * y_pred).sum()\n",
        "        union = y_true.sum() + y_pred.sum() - intersection\n",
        "        x = (intersection + 1e-15) / (union + 1e-15)\n",
        "        x = x.astype(np.float32)\n",
        "        return x\n",
        "    return tf.numpy_function(f, [y_true, y_pred], tf.float32)\n",
        "\n",
        "smooth = 1e-15\n",
        "def dice_coef(y_true, y_pred):\n",
        "    y_true = tf.keras.layers.Flatten()(y_true)\n",
        "    y_pred = tf.keras.layers.Flatten()(y_pred)\n",
        "    intersection = tf.reduce_sum(y_true * y_pred)\n",
        "    return (2. * intersection + smooth) / (tf.reduce_sum(y_true) + tf.reduce_sum(y_pred) + smooth)\n",
        "\n",
        "def dice_loss(y_true, y_pred):\n",
        "    return 1.0 - dice_coef(y_true, y_pred)\n",
        "\n",
        "def DiceBCELoss(y_true, y_pred):\n",
        "\n",
        "    inputs = tf.keras.layers.Flatten()(y_true)\n",
        "    targets = tf.keras.layers.Flatten()(y_pred)\n",
        "\n",
        "    intersection = tf.reduce_sum(inputs * targets)\n",
        "    dice_loss = 1 - (2.*intersection + smooth)/(tf.reduce_sum(y_true) + tf.reduce_sum(y_pred) + smooth)\n",
        "    BCE = tf.keras.losses.BinaryCrossentropy()\n",
        "    Dice_BCE = BCE(inputs, targets) + dice_loss\n",
        "\n",
        "    return Dice_BCE"
      ]
    },
    {
      "cell_type": "markdown",
      "metadata": {
        "id": "fuGIkqEH65dX"
      },
      "source": [
        "### Training the Model:"
      ]
    },
    {
      "cell_type": "code",
      "execution_count": null,
      "metadata": {
        "id": "NNdxwX_-5udw"
      },
      "outputs": [],
      "source": [
        "W = 512\n",
        "H = 512\n",
        "\n",
        "def create_dir(path):\n",
        "    if not os.path.exists(path):\n",
        "        os.makedirs(path)\n",
        "\n",
        "def load_data(path):\n",
        "    x = sorted(glob(os.path.join(path, \"image\", \"*.png\")))\n",
        "    y = sorted(glob(os.path.join(path, \"mask\", \"*.png\")))\n",
        "    return x, y\n",
        "\n",
        "def shuffling(x, y):\n",
        "    x, y = shuffle(x, y, random_state=42)\n",
        "    return x, y\n",
        "\n",
        "def read_image(path):\n",
        "    path = path.decode()\n",
        "    x = cv2.imread(path, cv2.IMREAD_COLOR)\n",
        "    # x = cv2.resize(x, (W, H))\n",
        "    x = x/255.0\n",
        "    x = x.astype(np.float32)\n",
        "    return x\n",
        "\n",
        "def read_mask(path):\n",
        "    path = path.decode()\n",
        "    x = cv2.imread(path, cv2.IMREAD_COLOR)  ## (512, 512, 3)\n",
        "    # x = cv2.resize(x, (W, H))\n",
        "    x = x/255.0\n",
        "    x = x.astype(np.float32)\n",
        "    x = x[:,:,0:2] # Discard the last channel \n",
        "\n",
        "    return x\n",
        "\n",
        "def tf_parse(x, y):\n",
        "    def _parse(x, y):\n",
        "        x = read_image(x)\n",
        "        y = read_mask(y)\n",
        "        return x, y\n",
        "\n",
        "    x, y = tf.numpy_function(_parse, [x, y], [tf.float32, tf.float32])\n",
        "    x.set_shape([H, W, 3])\n",
        "    y.set_shape([H, W, 2])\n",
        "    return x, y\n",
        "\n",
        "def tf_dataset(X, Y, batch_size=2):\n",
        "    dataset = tf.data.Dataset.from_tensor_slices((X, Y))\n",
        "    dataset = dataset.map(tf_parse)\n",
        "    dataset = dataset.batch(batch_size)\n",
        "    dataset = dataset.prefetch(4)\n",
        "    return dataset"
      ]
    },
    {
      "cell_type": "code",
      "execution_count": null,
      "metadata": {
        "colab": {
          "background_save": true,
          "base_uri": "https://localhost:8080/"
        },
        "id": "R9oxQCQo7Jnw",
        "outputId": "9449a91b-3eb3-4c9c-bc50-6168f10c2a93"
      },
      "outputs": [
        {
          "name": "stdout",
          "output_type": "stream",
          "text": [
            "Train: 80 - 80\n",
            "Valid: 20 - 20\n",
            "Epoch 1/50\n",
            "40/40 [==============================] - ETA: 0s - loss: 1.2209 - dice_coef: 0.2021 - iou: 0.1131 - recall: 0.7124 - precision: 0.3184\n",
            "Epoch 1: val_loss improved from inf to 1.73487, saving model to files/model_1024.h5\n",
            "40/40 [==============================] - 188s 4s/step - loss: 1.2209 - dice_coef: 0.2021 - iou: 0.1131 - recall: 0.7124 - precision: 0.3184 - val_loss: 1.7349 - val_dice_coef: 0.0914 - val_iou: 0.0479 - val_recall: 1.0000 - val_precision: 0.0739 - lr: 1.0000e-04\n",
            "Epoch 2/50\n",
            "40/40 [==============================] - ETA: 0s - loss: 0.9806 - dice_coef: 0.2839 - iou: 0.1657 - recall: 0.6865 - precision: 0.6815\n",
            "Epoch 2: val_loss did not improve from 1.73487\n",
            "40/40 [==============================] - 19s 465ms/step - loss: 0.9806 - dice_coef: 0.2839 - iou: 0.1657 - recall: 0.6865 - precision: 0.6815 - val_loss: 3.0750 - val_dice_coef: 0.0835 - val_iou: 0.0436 - val_recall: 1.0000 - val_precision: 0.0719 - lr: 1.0000e-04\n",
            "Epoch 3/50\n",
            "40/40 [==============================] - ETA: 0s - loss: 0.9088 - dice_coef: 0.3237 - iou: 0.1934 - recall: 0.7240 - precision: 0.7386\n",
            "Epoch 3: val_loss improved from 1.73487 to 1.29756, saving model to files/model_1024.h5\n",
            "40/40 [==============================] - 22s 564ms/step - loss: 0.9088 - dice_coef: 0.3237 - iou: 0.1934 - recall: 0.7240 - precision: 0.7386 - val_loss: 1.2976 - val_dice_coef: 0.0844 - val_iou: 0.0440 - val_recall: 0.0000e+00 - val_precision: 0.0000e+00 - lr: 1.0000e-04\n",
            "Epoch 4/50\n",
            "40/40 [==============================] - ETA: 0s - loss: 0.8590 - dice_coef: 0.3524 - iou: 0.2142 - recall: 0.7360 - precision: 0.7644\n",
            "Epoch 4: val_loss improved from 1.29756 to 1.24805, saving model to files/model_1024.h5\n",
            "40/40 [==============================] - 23s 561ms/step - loss: 0.8590 - dice_coef: 0.3524 - iou: 0.2142 - recall: 0.7360 - precision: 0.7644 - val_loss: 1.2480 - val_dice_coef: 0.0807 - val_iou: 0.0421 - val_recall: 0.0000e+00 - val_precision: 0.0000e+00 - lr: 1.0000e-04\n",
            "Epoch 5/50\n",
            "40/40 [==============================] - ETA: 0s - loss: 0.8094 - dice_coef: 0.3792 - iou: 0.2343 - recall: 0.7457 - precision: 0.7952\n",
            "Epoch 5: val_loss improved from 1.24805 to 1.18266, saving model to files/model_1024.h5\n",
            "40/40 [==============================] - 22s 561ms/step - loss: 0.8094 - dice_coef: 0.3792 - iou: 0.2343 - recall: 0.7457 - precision: 0.7952 - val_loss: 1.1827 - val_dice_coef: 0.0822 - val_iou: 0.0429 - val_recall: 9.6420e-06 - val_precision: 0.0250 - lr: 1.0000e-04\n",
            "Epoch 6/50\n",
            "40/40 [==============================] - ETA: 0s - loss: 0.7714 - dice_coef: 0.4026 - iou: 0.2524 - recall: 0.7514 - precision: 0.8126\n",
            "Epoch 6: val_loss improved from 1.18266 to 1.15891, saving model to files/model_1024.h5\n",
            "40/40 [==============================] - 23s 565ms/step - loss: 0.7714 - dice_coef: 0.4026 - iou: 0.2524 - recall: 0.7514 - precision: 0.8126 - val_loss: 1.1589 - val_dice_coef: 0.0787 - val_iou: 0.0409 - val_recall: 3.5675e-04 - val_precision: 0.0179 - lr: 1.0000e-04\n",
            "Epoch 7/50\n",
            "40/40 [==============================] - ETA: 0s - loss: 0.7359 - dice_coef: 0.4251 - iou: 0.2703 - recall: 0.7580 - precision: 0.8238\n",
            "Epoch 7: val_loss did not improve from 1.15891\n",
            "40/40 [==============================] - 19s 467ms/step - loss: 0.7359 - dice_coef: 0.4251 - iou: 0.2703 - recall: 0.7580 - precision: 0.8238 - val_loss: 1.1638 - val_dice_coef: 0.0731 - val_iou: 0.0379 - val_recall: 0.0024 - val_precision: 0.0346 - lr: 1.0000e-04\n",
            "Epoch 8/50\n",
            "40/40 [==============================] - ETA: 0s - loss: 0.7033 - dice_coef: 0.4463 - iou: 0.2876 - recall: 0.7602 - precision: 0.8394\n",
            "Epoch 8: val_loss improved from 1.15891 to 1.14324, saving model to files/model_1024.h5\n",
            "40/40 [==============================] - 23s 576ms/step - loss: 0.7033 - dice_coef: 0.4463 - iou: 0.2876 - recall: 0.7602 - precision: 0.8394 - val_loss: 1.1432 - val_dice_coef: 0.0917 - val_iou: 0.0481 - val_recall: 0.0297 - val_precision: 0.1681 - lr: 1.0000e-04\n",
            "Epoch 9/50\n",
            "40/40 [==============================] - ETA: 0s - loss: 0.6883 - dice_coef: 0.4598 - iou: 0.2989 - recall: 0.7534 - precision: 0.8331\n",
            "Epoch 9: val_loss improved from 1.14324 to 1.09630, saving model to files/model_1024.h5\n",
            "40/40 [==============================] - 22s 556ms/step - loss: 0.6883 - dice_coef: 0.4598 - iou: 0.2989 - recall: 0.7534 - precision: 0.8331 - val_loss: 1.0963 - val_dice_coef: 0.1433 - val_iou: 0.0773 - val_recall: 0.1318 - val_precision: 0.4123 - lr: 1.0000e-04\n",
            "Epoch 10/50\n",
            "40/40 [==============================] - ETA: 0s - loss: 0.6496 - dice_coef: 0.4837 - iou: 0.3194 - recall: 0.7573 - precision: 0.8549\n",
            "Epoch 10: val_loss improved from 1.09630 to 0.99200, saving model to files/model_1024.h5\n",
            "40/40 [==============================] - 22s 555ms/step - loss: 0.6496 - dice_coef: 0.4837 - iou: 0.3194 - recall: 0.7573 - precision: 0.8549 - val_loss: 0.9920 - val_dice_coef: 0.2079 - val_iou: 0.1162 - val_recall: 0.2076 - val_precision: 0.5357 - lr: 1.0000e-04\n",
            "Epoch 11/50\n",
            "40/40 [==============================] - ETA: 0s - loss: 0.6243 - dice_coef: 0.5018 - iou: 0.3354 - recall: 0.7570 - precision: 0.8587\n",
            "Epoch 11: val_loss improved from 0.99200 to 0.88449, saving model to files/model_1024.h5\n",
            "40/40 [==============================] - 20s 495ms/step - loss: 0.6243 - dice_coef: 0.5018 - iou: 0.3354 - recall: 0.7570 - precision: 0.8587 - val_loss: 0.8845 - val_dice_coef: 0.2850 - val_iou: 0.1663 - val_recall: 0.3068 - val_precision: 0.6685 - lr: 1.0000e-04\n",
            "Epoch 12/50\n",
            "40/40 [==============================] - ETA: 0s - loss: 0.5953 - dice_coef: 0.5226 - iou: 0.3542 - recall: 0.7594 - precision: 0.8704\n",
            "Epoch 12: val_loss improved from 0.88449 to 0.78904, saving model to files/model_1024.h5\n",
            "40/40 [==============================] - 23s 577ms/step - loss: 0.5953 - dice_coef: 0.5226 - iou: 0.3542 - recall: 0.7594 - precision: 0.8704 - val_loss: 0.7890 - val_dice_coef: 0.3557 - val_iou: 0.2165 - val_recall: 0.3925 - val_precision: 0.7576 - lr: 1.0000e-04\n",
            "Epoch 13/50\n",
            "40/40 [==============================] - ETA: 0s - loss: 0.5709 - dice_coef: 0.5412 - iou: 0.3714 - recall: 0.7587 - precision: 0.8772\n",
            "Epoch 13: val_loss improved from 0.78904 to 0.71587, saving model to files/model_1024.h5\n",
            "40/40 [==============================] - 23s 566ms/step - loss: 0.5709 - dice_coef: 0.5412 - iou: 0.3714 - recall: 0.7587 - precision: 0.8772 - val_loss: 0.7159 - val_dice_coef: 0.4093 - val_iou: 0.2578 - val_recall: 0.4473 - val_precision: 0.8612 - lr: 1.0000e-04\n",
            "Epoch 14/50\n",
            "40/40 [==============================] - ETA: 0s - loss: 0.5517 - dice_coef: 0.5556 - iou: 0.3851 - recall: 0.7532 - precision: 0.8809\n",
            "Epoch 14: val_loss improved from 0.71587 to 0.67723, saving model to files/model_1024.h5\n",
            "40/40 [==============================] - 20s 499ms/step - loss: 0.5517 - dice_coef: 0.5556 - iou: 0.3851 - recall: 0.7532 - precision: 0.8809 - val_loss: 0.6772 - val_dice_coef: 0.4395 - val_iou: 0.2820 - val_recall: 0.4759 - val_precision: 0.9339 - lr: 1.0000e-04\n",
            "Epoch 15/50\n",
            "40/40 [==============================] - ETA: 0s - loss: 0.5266 - dice_coef: 0.5746 - iou: 0.4035 - recall: 0.7555 - precision: 0.8890\n",
            "Epoch 15: val_loss improved from 0.67723 to 0.63204, saving model to files/model_1024.h5\n",
            "40/40 [==============================] - 23s 566ms/step - loss: 0.5266 - dice_coef: 0.5746 - iou: 0.4035 - recall: 0.7555 - precision: 0.8890 - val_loss: 0.6320 - val_dice_coef: 0.4766 - val_iou: 0.3134 - val_recall: 0.5016 - val_precision: 0.9476 - lr: 1.0000e-04\n",
            "Epoch 16/50\n",
            "40/40 [==============================] - ETA: 0s - loss: 0.5045 - dice_coef: 0.5912 - iou: 0.4201 - recall: 0.7538 - precision: 0.8984\n",
            "Epoch 16: val_loss improved from 0.63204 to 0.57729, saving model to files/model_1024.h5\n",
            "40/40 [==============================] - 22s 558ms/step - loss: 0.5045 - dice_coef: 0.5912 - iou: 0.4201 - recall: 0.7538 - precision: 0.8984 - val_loss: 0.5773 - val_dice_coef: 0.5231 - val_iou: 0.3546 - val_recall: 0.5914 - val_precision: 0.9292 - lr: 1.0000e-04\n",
            "Epoch 17/50\n",
            "40/40 [==============================] - ETA: 0s - loss: 0.4819 - dice_coef: 0.6088 - iou: 0.4379 - recall: 0.7544 - precision: 0.9058\n",
            "Epoch 17: val_loss improved from 0.57729 to 0.56224, saving model to files/model_1024.h5\n",
            "40/40 [==============================] - 20s 497ms/step - loss: 0.4819 - dice_coef: 0.6088 - iou: 0.4379 - recall: 0.7544 - precision: 0.9058 - val_loss: 0.5622 - val_dice_coef: 0.5368 - val_iou: 0.3671 - val_recall: 0.5948 - val_precision: 0.9299 - lr: 1.0000e-04\n",
            "Epoch 18/50\n",
            "40/40 [==============================] - ETA: 0s - loss: 0.4648 - dice_coef: 0.6225 - iou: 0.4523 - recall: 0.7538 - precision: 0.9085\n",
            "Epoch 18: val_loss improved from 0.56224 to 0.50687, saving model to files/model_1024.h5\n",
            "40/40 [==============================] - 20s 501ms/step - loss: 0.4648 - dice_coef: 0.6225 - iou: 0.4523 - recall: 0.7538 - precision: 0.9085 - val_loss: 0.5069 - val_dice_coef: 0.5892 - val_iou: 0.4184 - val_recall: 0.6864 - val_precision: 0.8904 - lr: 1.0000e-04\n",
            "Epoch 19/50\n",
            "40/40 [==============================] - ETA: 0s - loss: 0.4476 - dice_coef: 0.6359 - iou: 0.4664 - recall: 0.7494 - precision: 0.9148\n",
            "Epoch 19: val_loss did not improve from 0.50687\n",
            "40/40 [==============================] - 19s 469ms/step - loss: 0.4476 - dice_coef: 0.6359 - iou: 0.4664 - recall: 0.7494 - precision: 0.9148 - val_loss: 0.5190 - val_dice_coef: 0.5758 - val_iou: 0.4048 - val_recall: 0.6481 - val_precision: 0.9065 - lr: 1.0000e-04\n",
            "Epoch 20/50\n",
            "40/40 [==============================] - ETA: 0s - loss: 0.4302 - dice_coef: 0.6499 - iou: 0.4816 - recall: 0.7499 - precision: 0.9187\n",
            "Epoch 20: val_loss did not improve from 0.50687\n",
            "40/40 [==============================] - 19s 469ms/step - loss: 0.4302 - dice_coef: 0.6499 - iou: 0.4816 - recall: 0.7499 - precision: 0.9187 - val_loss: 0.5136 - val_dice_coef: 0.5793 - val_iou: 0.4082 - val_recall: 0.6092 - val_precision: 0.9253 - lr: 1.0000e-04\n",
            "Epoch 21/50\n",
            "40/40 [==============================] - ETA: 0s - loss: 0.4126 - dice_coef: 0.6639 - iou: 0.4971 - recall: 0.7498 - precision: 0.9249\n",
            "Epoch 21: val_loss improved from 0.50687 to 0.49967, saving model to files/model_1024.h5\n",
            "40/40 [==============================] - 22s 560ms/step - loss: 0.4126 - dice_coef: 0.6639 - iou: 0.4971 - recall: 0.7498 - precision: 0.9249 - val_loss: 0.4997 - val_dice_coef: 0.5905 - val_iou: 0.4193 - val_recall: 0.6107 - val_precision: 0.9302 - lr: 1.0000e-04\n",
            "Epoch 22/50\n",
            "40/40 [==============================] - ETA: 0s - loss: 0.3992 - dice_coef: 0.6751 - iou: 0.5098 - recall: 0.7482 - precision: 0.9272\n",
            "Epoch 22: val_loss did not improve from 0.49967\n",
            "40/40 [==============================] - 19s 469ms/step - loss: 0.3992 - dice_coef: 0.6751 - iou: 0.5098 - recall: 0.7482 - precision: 0.9272 - val_loss: 0.5058 - val_dice_coef: 0.5879 - val_iou: 0.4166 - val_recall: 0.5886 - val_precision: 0.9361 - lr: 1.0000e-04\n",
            "Epoch 23/50\n",
            "40/40 [==============================] - ETA: 0s - loss: 0.3858 - dice_coef: 0.6861 - iou: 0.5224 - recall: 0.7464 - precision: 0.9316\n",
            "Epoch 23: val_loss improved from 0.49967 to 0.48148, saving model to files/model_1024.h5\n",
            "40/40 [==============================] - 23s 570ms/step - loss: 0.3858 - dice_coef: 0.6861 - iou: 0.5224 - recall: 0.7464 - precision: 0.9316 - val_loss: 0.4815 - val_dice_coef: 0.6111 - val_iou: 0.4403 - val_recall: 0.6329 - val_precision: 0.9135 - lr: 1.0000e-04\n",
            "Epoch 24/50\n",
            "40/40 [==============================] - ETA: 0s - loss: 0.3738 - dice_coef: 0.6963 - iou: 0.5343 - recall: 0.7459 - precision: 0.9335\n",
            "Epoch 24: val_loss improved from 0.48148 to 0.46204, saving model to files/model_1024.h5\n",
            "40/40 [==============================] - 22s 560ms/step - loss: 0.3738 - dice_coef: 0.6963 - iou: 0.5343 - recall: 0.7459 - precision: 0.9335 - val_loss: 0.4620 - val_dice_coef: 0.6262 - val_iou: 0.4565 - val_recall: 0.6217 - val_precision: 0.9236 - lr: 1.0000e-04\n",
            "Epoch 25/50\n",
            "40/40 [==============================] - ETA: 0s - loss: 0.3649 - dice_coef: 0.7042 - iou: 0.5437 - recall: 0.7440 - precision: 0.9340\n",
            "Epoch 25: val_loss improved from 0.46204 to 0.43969, saving model to files/model_1024.h5\n",
            "40/40 [==============================] - 23s 570ms/step - loss: 0.3649 - dice_coef: 0.7042 - iou: 0.5437 - recall: 0.7440 - precision: 0.9340 - val_loss: 0.4397 - val_dice_coef: 0.6497 - val_iou: 0.4819 - val_recall: 0.6743 - val_precision: 0.8979 - lr: 1.0000e-04\n",
            "Epoch 26/50\n",
            "40/40 [==============================] - ETA: 0s - loss: 0.3557 - dice_coef: 0.7121 - iou: 0.5532 - recall: 0.7399 - precision: 0.9367\n",
            "Epoch 26: val_loss did not improve from 0.43969\n",
            "40/40 [==============================] - 19s 469ms/step - loss: 0.3557 - dice_coef: 0.7121 - iou: 0.5532 - recall: 0.7399 - precision: 0.9367 - val_loss: 0.4713 - val_dice_coef: 0.6217 - val_iou: 0.4514 - val_recall: 0.6072 - val_precision: 0.9253 - lr: 1.0000e-04\n",
            "Epoch 27/50\n",
            "40/40 [==============================] - ETA: 0s - loss: 0.3441 - dice_coef: 0.7217 - iou: 0.5648 - recall: 0.7419 - precision: 0.9398\n",
            "Epoch 27: val_loss improved from 0.43969 to 0.42588, saving model to files/model_1024.h5\n",
            "40/40 [==============================] - 23s 584ms/step - loss: 0.3441 - dice_coef: 0.7217 - iou: 0.5648 - recall: 0.7419 - precision: 0.9398 - val_loss: 0.4259 - val_dice_coef: 0.6627 - val_iou: 0.4963 - val_recall: 0.6618 - val_precision: 0.9012 - lr: 1.0000e-04\n",
            "Epoch 28/50\n",
            "40/40 [==============================] - ETA: 0s - loss: 0.3336 - dice_coef: 0.7304 - iou: 0.5754 - recall: 0.7413 - precision: 0.9435\n",
            "Epoch 28: val_loss did not improve from 0.42588\n",
            "40/40 [==============================] - 19s 469ms/step - loss: 0.3336 - dice_coef: 0.7304 - iou: 0.5754 - recall: 0.7413 - precision: 0.9435 - val_loss: 0.4648 - val_dice_coef: 0.6337 - val_iou: 0.4639 - val_recall: 0.6299 - val_precision: 0.9061 - lr: 1.0000e-04\n",
            "Epoch 29/50\n",
            "40/40 [==============================] - ETA: 0s - loss: 0.3257 - dice_coef: 0.7374 - iou: 0.5841 - recall: 0.7403 - precision: 0.9453\n",
            "Epoch 29: val_loss did not improve from 0.42588\n",
            "40/40 [==============================] - 19s 469ms/step - loss: 0.3257 - dice_coef: 0.7374 - iou: 0.5841 - recall: 0.7403 - precision: 0.9453 - val_loss: 0.4428 - val_dice_coef: 0.6505 - val_iou: 0.4822 - val_recall: 0.6472 - val_precision: 0.9046 - lr: 1.0000e-04\n",
            "Epoch 30/50\n",
            "40/40 [==============================] - ETA: 0s - loss: 0.3211 - dice_coef: 0.7419 - iou: 0.5899 - recall: 0.7393 - precision: 0.9438\n",
            "Epoch 30: val_loss did not improve from 0.42588\n",
            "40/40 [==============================] - 19s 470ms/step - loss: 0.3211 - dice_coef: 0.7419 - iou: 0.5899 - recall: 0.7393 - precision: 0.9438 - val_loss: 0.4615 - val_dice_coef: 0.6373 - val_iou: 0.4679 - val_recall: 0.6068 - val_precision: 0.9243 - lr: 1.0000e-04\n",
            "Epoch 31/50\n",
            "40/40 [==============================] - ETA: 0s - loss: 0.3126 - dice_coef: 0.7489 - iou: 0.5988 - recall: 0.7388 - precision: 0.9473\n",
            "Epoch 31: val_loss improved from 0.42588 to 0.41971, saving model to files/model_1024.h5\n",
            "40/40 [==============================] - 22s 564ms/step - loss: 0.3126 - dice_coef: 0.7489 - iou: 0.5988 - recall: 0.7388 - precision: 0.9473 - val_loss: 0.4197 - val_dice_coef: 0.6816 - val_iou: 0.5190 - val_recall: 0.6701 - val_precision: 0.8776 - lr: 1.0000e-04\n",
            "Epoch 32/50\n",
            "40/40 [==============================] - ETA: 0s - loss: 0.3025 - dice_coef: 0.7571 - iou: 0.6093 - recall: 0.7406 - precision: 0.9514\n",
            "Epoch 32: val_loss improved from 0.41971 to 0.39384, saving model to files/model_1024.h5\n",
            "40/40 [==============================] - 21s 500ms/step - loss: 0.3025 - dice_coef: 0.7571 - iou: 0.6093 - recall: 0.7406 - precision: 0.9514 - val_loss: 0.3938 - val_dice_coef: 0.6907 - val_iou: 0.5290 - val_recall: 0.6491 - val_precision: 0.9156 - lr: 1.0000e-04\n",
            "Epoch 33/50\n",
            "40/40 [==============================] - ETA: 0s - loss: 0.2956 - dice_coef: 0.7631 - iou: 0.6171 - recall: 0.7403 - precision: 0.9532\n",
            "Epoch 33: val_loss improved from 0.39384 to 0.39238, saving model to files/model_1024.h5\n",
            "40/40 [==============================] - 20s 498ms/step - loss: 0.2956 - dice_coef: 0.7631 - iou: 0.6171 - recall: 0.7403 - precision: 0.9532 - val_loss: 0.3924 - val_dice_coef: 0.6945 - val_iou: 0.5333 - val_recall: 0.6579 - val_precision: 0.9073 - lr: 1.0000e-04\n",
            "Epoch 34/50\n",
            "40/40 [==============================] - ETA: 0s - loss: 0.2884 - dice_coef: 0.7691 - iou: 0.6250 - recall: 0.7402 - precision: 0.9559\n",
            "Epoch 34: val_loss did not improve from 0.39238\n",
            "40/40 [==============================] - 19s 471ms/step - loss: 0.2884 - dice_coef: 0.7691 - iou: 0.6250 - recall: 0.7402 - precision: 0.9559 - val_loss: 0.4043 - val_dice_coef: 0.6842 - val_iou: 0.5217 - val_recall: 0.6095 - val_precision: 0.9181 - lr: 1.0000e-04\n",
            "Epoch 35/50\n",
            "40/40 [==============================] - ETA: 0s - loss: 0.2817 - dice_coef: 0.7748 - iou: 0.6325 - recall: 0.7415 - precision: 0.9577\n",
            "Epoch 35: val_loss did not improve from 0.39238\n",
            "40/40 [==============================] - 19s 471ms/step - loss: 0.2817 - dice_coef: 0.7748 - iou: 0.6325 - recall: 0.7415 - precision: 0.9577 - val_loss: 0.3956 - val_dice_coef: 0.6924 - val_iou: 0.5307 - val_recall: 0.6309 - val_precision: 0.9131 - lr: 1.0000e-04\n",
            "Epoch 36/50\n",
            "40/40 [==============================] - ETA: 0s - loss: 0.2759 - dice_coef: 0.7798 - iou: 0.6392 - recall: 0.7406 - precision: 0.9600\n",
            "Epoch 36: val_loss improved from 0.39238 to 0.38731, saving model to files/model_1024.h5\n",
            "40/40 [==============================] - 22s 561ms/step - loss: 0.2759 - dice_coef: 0.7798 - iou: 0.6392 - recall: 0.7406 - precision: 0.9600 - val_loss: 0.3873 - val_dice_coef: 0.6995 - val_iou: 0.5389 - val_recall: 0.6596 - val_precision: 0.9019 - lr: 1.0000e-04\n",
            "Epoch 37/50\n",
            "40/40 [==============================] - ETA: 0s - loss: 0.2729 - dice_coef: 0.7828 - iou: 0.6432 - recall: 0.7393 - precision: 0.9592\n",
            "Epoch 37: val_loss did not improve from 0.38731\n",
            "40/40 [==============================] - 19s 471ms/step - loss: 0.2729 - dice_coef: 0.7828 - iou: 0.6432 - recall: 0.7393 - precision: 0.9592 - val_loss: 0.4275 - val_dice_coef: 0.6699 - val_iou: 0.5040 - val_recall: 0.6318 - val_precision: 0.8971 - lr: 1.0000e-04\n",
            "Epoch 38/50\n",
            "40/40 [==============================] - ETA: 0s - loss: 0.2689 - dice_coef: 0.7861 - iou: 0.6477 - recall: 0.7387 - precision: 0.9603\n",
            "Epoch 38: val_loss improved from 0.38731 to 0.37780, saving model to files/model_1024.h5\n",
            "40/40 [==============================] - 22s 564ms/step - loss: 0.2689 - dice_coef: 0.7861 - iou: 0.6477 - recall: 0.7387 - precision: 0.9603 - val_loss: 0.3778 - val_dice_coef: 0.7152 - val_iou: 0.5578 - val_recall: 0.7011 - val_precision: 0.8862 - lr: 1.0000e-04\n",
            "Epoch 39/50\n",
            "40/40 [==============================] - ETA: 0s - loss: 0.2652 - dice_coef: 0.7894 - iou: 0.6521 - recall: 0.7387 - precision: 0.9606\n",
            "Epoch 39: val_loss did not improve from 0.37780\n",
            "40/40 [==============================] - 19s 472ms/step - loss: 0.2652 - dice_coef: 0.7894 - iou: 0.6521 - recall: 0.7387 - precision: 0.9606 - val_loss: 0.3911 - val_dice_coef: 0.6996 - val_iou: 0.5387 - val_recall: 0.6770 - val_precision: 0.8868 - lr: 1.0000e-04\n",
            "Epoch 40/50\n",
            "40/40 [==============================] - ETA: 0s - loss: 0.2616 - dice_coef: 0.7927 - iou: 0.6568 - recall: 0.7384 - precision: 0.9614\n",
            "Epoch 40: val_loss did not improve from 0.37780\n",
            "40/40 [==============================] - 19s 472ms/step - loss: 0.2616 - dice_coef: 0.7927 - iou: 0.6568 - recall: 0.7384 - precision: 0.9614 - val_loss: 0.4132 - val_dice_coef: 0.6848 - val_iou: 0.5211 - val_recall: 0.6363 - val_precision: 0.9042 - lr: 1.0000e-04\n",
            "Epoch 41/50\n",
            "40/40 [==============================] - ETA: 0s - loss: 0.2564 - dice_coef: 0.7968 - iou: 0.6624 - recall: 0.7399 - precision: 0.9634\n",
            "Epoch 41: val_loss did not improve from 0.37780\n",
            "40/40 [==============================] - 19s 472ms/step - loss: 0.2564 - dice_coef: 0.7968 - iou: 0.6624 - recall: 0.7399 - precision: 0.9634 - val_loss: 0.4077 - val_dice_coef: 0.6895 - val_iou: 0.5268 - val_recall: 0.6348 - val_precision: 0.9027 - lr: 1.0000e-04\n",
            "Epoch 42/50\n",
            "40/40 [==============================] - ETA: 0s - loss: 0.2499 - dice_coef: 0.8021 - iou: 0.6698 - recall: 0.7415 - precision: 0.9658\n",
            "Epoch 42: val_loss improved from 0.37780 to 0.37729, saving model to files/model_1024.h5\n",
            "40/40 [==============================] - 22s 563ms/step - loss: 0.2499 - dice_coef: 0.8021 - iou: 0.6698 - recall: 0.7415 - precision: 0.9658 - val_loss: 0.3773 - val_dice_coef: 0.7161 - val_iou: 0.5593 - val_recall: 0.6678 - val_precision: 0.8935 - lr: 1.0000e-04\n",
            "Epoch 43/50\n",
            "40/40 [==============================] - ETA: 0s - loss: 0.2446 - dice_coef: 0.8066 - iou: 0.6760 - recall: 0.7410 - precision: 0.9682\n",
            "Epoch 43: val_loss did not improve from 0.37729\n",
            "40/40 [==============================] - 19s 472ms/step - loss: 0.2446 - dice_coef: 0.8066 - iou: 0.6760 - recall: 0.7410 - precision: 0.9682 - val_loss: 0.4175 - val_dice_coef: 0.6830 - val_iou: 0.5189 - val_recall: 0.6582 - val_precision: 0.8776 - lr: 1.0000e-04\n",
            "Epoch 44/50\n",
            "40/40 [==============================] - ETA: 0s - loss: 0.2390 - dice_coef: 0.8111 - iou: 0.6823 - recall: 0.7417 - precision: 0.9703\n",
            "Epoch 44: val_loss did not improve from 0.37729\n",
            "40/40 [==============================] - 19s 472ms/step - loss: 0.2390 - dice_coef: 0.8111 - iou: 0.6823 - recall: 0.7417 - precision: 0.9703 - val_loss: 0.3828 - val_dice_coef: 0.7095 - val_iou: 0.5504 - val_recall: 0.6685 - val_precision: 0.8948 - lr: 1.0000e-04\n",
            "Epoch 45/50\n",
            "40/40 [==============================] - ETA: 0s - loss: 0.2341 - dice_coef: 0.8153 - iou: 0.6882 - recall: 0.7417 - precision: 0.9718\n",
            "Epoch 45: val_loss did not improve from 0.37729\n",
            "40/40 [==============================] - 19s 471ms/step - loss: 0.2341 - dice_coef: 0.8153 - iou: 0.6882 - recall: 0.7417 - precision: 0.9718 - val_loss: 0.4135 - val_dice_coef: 0.6872 - val_iou: 0.5237 - val_recall: 0.6148 - val_precision: 0.9165 - lr: 1.0000e-04\n",
            "Epoch 46/50\n",
            "40/40 [==============================] - ETA: 0s - loss: 0.2325 - dice_coef: 0.8169 - iou: 0.6906 - recall: 0.7443 - precision: 0.9712\n",
            "Epoch 46: val_loss did not improve from 0.37729\n",
            "40/40 [==============================] - 19s 472ms/step - loss: 0.2325 - dice_coef: 0.8169 - iou: 0.6906 - recall: 0.7443 - precision: 0.9712 - val_loss: 0.4068 - val_dice_coef: 0.6945 - val_iou: 0.5324 - val_recall: 0.5993 - val_precision: 0.9224 - lr: 1.0000e-04\n",
            "Epoch 47/50\n",
            "40/40 [==============================] - ETA: 0s - loss: 0.2347 - dice_coef: 0.8156 - iou: 0.6887 - recall: 0.7415 - precision: 0.9686\n",
            "Epoch 47: val_loss did not improve from 0.37729\n",
            "\n",
            "Epoch 47: ReduceLROnPlateau reducing learning rate to 9.999999747378752e-06.\n",
            "40/40 [==============================] - 19s 472ms/step - loss: 0.2347 - dice_coef: 0.8156 - iou: 0.6887 - recall: 0.7415 - precision: 0.9686 - val_loss: 0.4227 - val_dice_coef: 0.6811 - val_iou: 0.5168 - val_recall: 0.5784 - val_precision: 0.9206 - lr: 1.0000e-04\n",
            "Epoch 48/50\n",
            "40/40 [==============================] - ETA: 0s - loss: 0.2259 - dice_coef: 0.8223 - iou: 0.6983 - recall: 0.7521 - precision: 0.9714\n",
            "Epoch 48: val_loss improved from 0.37729 to 0.35392, saving model to files/model_1024.h5\n",
            "40/40 [==============================] - 23s 565ms/step - loss: 0.2259 - dice_coef: 0.8223 - iou: 0.6983 - recall: 0.7521 - precision: 0.9714 - val_loss: 0.3539 - val_dice_coef: 0.7349 - val_iou: 0.5830 - val_recall: 0.6415 - val_precision: 0.9125 - lr: 1.0000e-05\n",
            "Epoch 49/50\n",
            "40/40 [==============================] - ETA: 0s - loss: 0.2142 - dice_coef: 0.8302 - iou: 0.7099 - recall: 0.7509 - precision: 0.9800\n",
            "Epoch 49: val_loss improved from 0.35392 to 0.35302, saving model to files/model_1024.h5\n",
            "40/40 [==============================] - 24s 591ms/step - loss: 0.2142 - dice_coef: 0.8302 - iou: 0.7099 - recall: 0.7509 - precision: 0.9800 - val_loss: 0.3530 - val_dice_coef: 0.7366 - val_iou: 0.5850 - val_recall: 0.6430 - val_precision: 0.9123 - lr: 1.0000e-05\n",
            "Epoch 50/50\n",
            "40/40 [==============================] - ETA: 0s - loss: 0.2102 - dice_coef: 0.8333 - iou: 0.7143 - recall: 0.7514 - precision: 0.9823\n",
            "Epoch 50: val_loss did not improve from 0.35302\n",
            "40/40 [==============================] - 19s 472ms/step - loss: 0.2102 - dice_coef: 0.8333 - iou: 0.7143 - recall: 0.7514 - precision: 0.9823 - val_loss: 0.3533 - val_dice_coef: 0.7357 - val_iou: 0.5839 - val_recall: 0.6372 - val_precision: 0.9153 - lr: 1.0000e-05\n"
          ]
        },
        {
          "data": {
            "text/plain": [
              "<keras.callbacks.History at 0x7fcc699af910>"
            ]
          },
          "execution_count": null,
          "metadata": {},
          "output_type": "execute_result"
        }
      ],
      "source": [
        "\"\"\" Seeding \"\"\"\n",
        "np.random.seed(42)\n",
        "tf.random.set_seed(42)\n",
        "\n",
        "\"\"\" Directory to save files \"\"\"\n",
        "create_dir(\"files\")\n",
        "\n",
        "\"\"\" Hyperparameters \"\"\"\n",
        "batch_size = 2\n",
        "lr = 1e-4\n",
        "num_epochs = 50\n",
        "model_path = os.path.join(\"files\", \"model_1024.h5\")\n",
        "csv_path = os.path.join(\"files\", \"data_1024.csv\")\n",
        "\n",
        "\"\"\" Dataset \"\"\"\n",
        "dataset_path = \"new_data\"\n",
        "train_path = os.path.join(dataset_path, \"train\")\n",
        "valid_path = os.path.join(dataset_path, \"test\")\n",
        "\n",
        "train_x, train_y = load_data(train_path)\n",
        "train_x, train_y = shuffling(train_x, train_y)\n",
        "valid_x, valid_y = load_data(valid_path)\n",
        "\n",
        "print(f\"Train: {len(train_x)} - {len(train_y)}\")\n",
        "print(f\"Valid: {len(valid_x)} - {len(valid_y)}\")\n",
        "\n",
        "train_dataset = tf_dataset(train_x, train_y, batch_size=batch_size)\n",
        "valid_dataset = tf_dataset(valid_x, valid_y, batch_size=batch_size)\n",
        "\n",
        "train_steps = len(train_x)//batch_size\n",
        "valid_setps = len(valid_x)//batch_size\n",
        "\n",
        "if len(train_x) % batch_size != 0:\n",
        "    train_steps += 1\n",
        "if len(valid_x) % batch_size != 0:\n",
        "    valid_setps += 1\n",
        "\n",
        "\"\"\" Model \"\"\"\n",
        "model_1024 = build_unet((H, W, 3), num_filters=[64, 128, 256, 512, 1024], strides=[1, 2, 2, 2])\n",
        "\n",
        "model_1024.compile(loss=DiceBCELoss, optimizer=Adam(lr), metrics=[dice_coef, iou, Recall(), Precision()])\n",
        "\n",
        "callbacks = [\n",
        "    ModelCheckpoint(model_path, verbose=1, save_best_only=True),\n",
        "    ReduceLROnPlateau(monitor=\"val_loss\", factor=0.1, patience=5, min_lr=1e-6, verbose=1),\n",
        "    CSVLogger(csv_path),\n",
        "    TensorBoard(),\n",
        "    EarlyStopping(monitor=\"val_loss\", patience=10, restore_best_weights=False)\n",
        "]\n",
        "\n",
        "model_1024.fit(\n",
        "    train_dataset,\n",
        "    epochs=num_epochs,\n",
        "    validation_data=valid_dataset,\n",
        "    steps_per_epoch=train_steps,\n",
        "    validation_steps=valid_setps,\n",
        "    callbacks=callbacks\n",
        ")"
      ]
    },
    {
      "cell_type": "markdown",
      "metadata": {
        "id": "2frB4UHf9mr3"
      },
      "source": [
        "### Evaluate The Model:"
      ]
    },
    {
      "cell_type": "code",
      "execution_count": null,
      "metadata": {
        "id": "C5Kjrpfg9pDn"
      },
      "outputs": [],
      "source": [
        "import os\n",
        "os.environ[\"TF_CPP_MIN_LOG_LEVEL\"] = \"2\"\n",
        "import numpy as np\n",
        "import pandas as pd\n",
        "import cv2\n",
        "from glob import glob\n",
        "from tqdm import tqdm\n",
        "import tensorflow as tf\n",
        "from tensorflow.keras.utils import CustomObjectScope\n",
        "from sklearn.metrics import accuracy_score, f1_score, jaccard_score, precision_score, recall_score, auc\n",
        "# from metrics import dice_loss, dice_coef, iou\n",
        "# from utils import get_filenames_sorted"
      ]
    },
    {
      "cell_type": "code",
      "execution_count": null,
      "metadata": {
        "id": "tbgjkGOU-QeQ"
      },
      "outputs": [],
      "source": [
        "H = 512\n",
        "W = 512\n",
        "\n",
        "def create_dir(path):\n",
        "    if not os.path.exists(path):\n",
        "        os.makedirs(path)\n",
        "\n",
        "def read_image(path):\n",
        "    x = cv2.imread(path, cv2.IMREAD_COLOR)\n",
        "    # x = cv2.resize(x, (W, H))\n",
        "    ori_x = x\n",
        "    x = x/255.0\n",
        "    x = x.astype(np.float32)\n",
        "    return ori_x, x\n",
        "\n",
        "def read_mask(path):\n",
        "    x = cv2.imread(path, cv2.IMREAD_COLOR)  ## (512, 512)\n",
        "    # x = cv2.resize(x, (W, H))\n",
        "    ori_x = x\n",
        "    x = x/255.0\n",
        "    x = x.astype(np.float32)\n",
        "    x = x[:,:,0:2] # Discard the last channel \n",
        "    return ori_x, x\n",
        "\n",
        "def load_data(path):\n",
        "    x = sorted(glob(os.path.join(path, \"image\", \"*.png\")))\n",
        "    y = sorted(glob(os.path.join(path, \"mask\", \"*.png\")))\n",
        "    return x, y\n",
        "\n",
        "def save_results(ori_x, ori_y, y_pred, save_image_path, channel):\n",
        "    line = np.ones((y_pred.shape[0], 10, 3)) * 255\n",
        "\n",
        "    pred_image = np.zeros((y_pred.shape[0], y_pred.shape[1], 3))\n",
        "    _y_pred = y_pred[:, :, channel]\n",
        "    _ori_y = ori_y[:, :, channel]\n",
        "    pred_image[:, :, 0] = ((_y_pred > 0.5) & (_ori_y <= 128)) * 255\n",
        "    pred_image[:, :, 1] = ((_y_pred > 0.5) & (_ori_y  > 128)) * 255\n",
        "    pred_image[:, :, 2] = ((_ori_y  > 128) & (_y_pred <= 0.5 )) * 255\n",
        "\n",
        "    print(\" saving result\", save_image_path)\n",
        "    cv2.imwrite(save_image_path, pred_image)"
      ]
    },
    {
      "cell_type": "code",
      "execution_count": null,
      "metadata": {
        "colab": {
          "base_uri": "https://localhost:8080/"
        },
        "id": "Jmf9-n3_-EaL",
        "outputId": "a7c7d4e8-56a9-4abb-bdbf-e52afb26a66d"
      },
      "outputs": [
        {
          "output_type": "stream",
          "name": "stdout",
          "text": [
            "files/model_1024.h5\n"
          ]
        },
        {
          "output_type": "stream",
          "name": "stderr",
          "text": [
            "\r  0%|          | 0/20 [00:00<?, ?it/s]"
          ]
        },
        {
          "output_type": "stream",
          "name": "stdout",
          "text": [
            "01_test\n",
            "255 1.0\n",
            " saving result files_demo_od_0.1_1024/01_test.png\n",
            " saving result files_demo_bv_0.1_1024/01_test.png\n"
          ]
        },
        {
          "output_type": "stream",
          "name": "stderr",
          "text": [
            "\r  5%|▌         | 1/20 [00:14<04:33, 14.42s/it]"
          ]
        },
        {
          "output_type": "stream",
          "name": "stdout",
          "text": [
            "02_test\n",
            "255 1.0\n",
            " saving result files_demo_od_0.1_1024/02_test.png\n",
            " saving result files_demo_bv_0.1_1024/02_test.png\n"
          ]
        },
        {
          "output_type": "stream",
          "name": "stderr",
          "text": [
            "\r 10%|█         | 2/20 [00:16<02:09,  7.22s/it]"
          ]
        },
        {
          "output_type": "stream",
          "name": "stdout",
          "text": [
            "03_test\n",
            "255 1.0\n",
            " saving result files_demo_od_0.1_1024/03_test.png\n",
            " saving result files_demo_bv_0.1_1024/03_test.png\n"
          ]
        },
        {
          "output_type": "stream",
          "name": "stderr",
          "text": [
            "\r 15%|█▌        | 3/20 [00:19<01:26,  5.06s/it]"
          ]
        },
        {
          "output_type": "stream",
          "name": "stdout",
          "text": [
            "04_test\n",
            "255 1.0\n",
            " saving result files_demo_od_0.1_1024/04_test.png\n",
            " saving result files_demo_bv_0.1_1024/04_test.png\n"
          ]
        },
        {
          "output_type": "stream",
          "name": "stderr",
          "text": [
            "\r 20%|██        | 4/20 [00:21<01:02,  3.89s/it]"
          ]
        },
        {
          "output_type": "stream",
          "name": "stdout",
          "text": [
            "05_test\n",
            "255 1.0\n",
            " saving result files_demo_od_0.1_1024/05_test.png\n",
            " saving result files_demo_bv_0.1_1024/05_test.png\n"
          ]
        },
        {
          "output_type": "stream",
          "name": "stderr",
          "text": [
            "\r 25%|██▌       | 5/20 [00:23<00:47,  3.20s/it]"
          ]
        },
        {
          "output_type": "stream",
          "name": "stdout",
          "text": [
            "06_test\n",
            "255 1.0\n",
            " saving result files_demo_od_0.1_1024/06_test.png\n",
            " saving result files_demo_bv_0.1_1024/06_test.png\n"
          ]
        },
        {
          "output_type": "stream",
          "name": "stderr",
          "text": [
            "\r 30%|███       | 6/20 [00:25<00:39,  2.82s/it]"
          ]
        },
        {
          "output_type": "stream",
          "name": "stdout",
          "text": [
            "07_test\n",
            "255 1.0\n",
            " saving result files_demo_od_0.1_1024/07_test.png\n",
            " saving result files_demo_bv_0.1_1024/07_test.png\n"
          ]
        },
        {
          "output_type": "stream",
          "name": "stderr",
          "text": [
            "\r 35%|███▌      | 7/20 [00:26<00:32,  2.46s/it]"
          ]
        },
        {
          "output_type": "stream",
          "name": "stdout",
          "text": [
            "08_test\n",
            "255 1.0\n",
            " saving result files_demo_od_0.1_1024/08_test.png\n",
            " saving result files_demo_bv_0.1_1024/08_test.png\n"
          ]
        },
        {
          "output_type": "stream",
          "name": "stderr",
          "text": [
            "\r 40%|████      | 8/20 [00:29<00:28,  2.37s/it]"
          ]
        },
        {
          "output_type": "stream",
          "name": "stdout",
          "text": [
            "09_test\n",
            "255 1.0\n",
            " saving result files_demo_od_0.1_1024/09_test.png\n",
            " saving result files_demo_bv_0.1_1024/09_test.png\n"
          ]
        },
        {
          "output_type": "stream",
          "name": "stderr",
          "text": [
            "\r 45%|████▌     | 9/20 [00:30<00:24,  2.19s/it]"
          ]
        },
        {
          "output_type": "stream",
          "name": "stdout",
          "text": [
            "10_test\n",
            "255 1.0\n",
            " saving result files_demo_od_0.1_1024/10_test.png\n",
            " saving result files_demo_bv_0.1_1024/10_test.png\n"
          ]
        },
        {
          "output_type": "stream",
          "name": "stderr",
          "text": [
            "\r 50%|█████     | 10/20 [00:32<00:20,  2.05s/it]"
          ]
        },
        {
          "output_type": "stream",
          "name": "stdout",
          "text": [
            "11_test\n",
            "255 1.0\n",
            " saving result files_demo_od_0.1_1024/11_test.png\n",
            " saving result files_demo_bv_0.1_1024/11_test.png\n"
          ]
        },
        {
          "output_type": "stream",
          "name": "stderr",
          "text": [
            "\r 55%|█████▌    | 11/20 [00:34<00:17,  1.96s/it]"
          ]
        },
        {
          "output_type": "stream",
          "name": "stdout",
          "text": [
            "12_test\n",
            "255 1.0\n",
            " saving result files_demo_od_0.1_1024/12_test.png\n",
            " saving result files_demo_bv_0.1_1024/12_test.png\n"
          ]
        },
        {
          "output_type": "stream",
          "name": "stderr",
          "text": [
            "\r 60%|██████    | 12/20 [00:36<00:15,  1.97s/it]"
          ]
        },
        {
          "output_type": "stream",
          "name": "stdout",
          "text": [
            "13_test\n",
            "255 1.0\n",
            " saving result files_demo_od_0.1_1024/13_test.png\n",
            " saving result files_demo_bv_0.1_1024/13_test.png\n"
          ]
        },
        {
          "output_type": "stream",
          "name": "stderr",
          "text": [
            "\r 65%|██████▌   | 13/20 [00:38<00:13,  1.89s/it]"
          ]
        },
        {
          "output_type": "stream",
          "name": "stdout",
          "text": [
            "14_test\n",
            "255 1.0\n",
            " saving result files_demo_od_0.1_1024/14_test.png\n",
            " saving result files_demo_bv_0.1_1024/14_test.png\n"
          ]
        },
        {
          "output_type": "stream",
          "name": "stderr",
          "text": [
            "\r 70%|███████   | 14/20 [00:40<00:12,  2.04s/it]"
          ]
        },
        {
          "output_type": "stream",
          "name": "stdout",
          "text": [
            "15_test\n",
            "255 1.0\n",
            " saving result files_demo_od_0.1_1024/15_test.png\n",
            " saving result files_demo_bv_0.1_1024/15_test.png\n"
          ]
        },
        {
          "output_type": "stream",
          "name": "stderr",
          "text": [
            "\r 75%|███████▌  | 15/20 [00:42<00:10,  2.04s/it]"
          ]
        },
        {
          "output_type": "stream",
          "name": "stdout",
          "text": [
            "16_test\n",
            "255 1.0\n",
            " saving result files_demo_od_0.1_1024/16_test.png\n",
            " saving result files_demo_bv_0.1_1024/16_test.png\n"
          ]
        },
        {
          "output_type": "stream",
          "name": "stderr",
          "text": [
            "\r 80%|████████  | 16/20 [00:44<00:08,  2.06s/it]"
          ]
        },
        {
          "output_type": "stream",
          "name": "stdout",
          "text": [
            "17_test\n",
            "255 1.0\n",
            " saving result files_demo_od_0.1_1024/17_test.png\n",
            " saving result files_demo_bv_0.1_1024/17_test.png\n"
          ]
        },
        {
          "output_type": "stream",
          "name": "stderr",
          "text": [
            "\r 85%|████████▌ | 17/20 [00:46<00:05,  1.98s/it]"
          ]
        },
        {
          "output_type": "stream",
          "name": "stdout",
          "text": [
            "18_test\n",
            "255 1.0\n",
            " saving result files_demo_od_0.1_1024/18_test.png\n",
            " saving result files_demo_bv_0.1_1024/18_test.png\n"
          ]
        },
        {
          "output_type": "stream",
          "name": "stderr",
          "text": [
            "\r 90%|█████████ | 18/20 [00:48<00:03,  1.97s/it]"
          ]
        },
        {
          "output_type": "stream",
          "name": "stdout",
          "text": [
            "19_test\n",
            "255 1.0\n",
            " saving result files_demo_od_0.1_1024/19_test.png\n",
            " saving result files_demo_bv_0.1_1024/19_test.png\n"
          ]
        },
        {
          "output_type": "stream",
          "name": "stderr",
          "text": [
            "\r 95%|█████████▌| 19/20 [00:50<00:01,  1.94s/it]"
          ]
        },
        {
          "output_type": "stream",
          "name": "stdout",
          "text": [
            "20_test\n",
            "255 1.0\n",
            " saving result files_demo_od_0.1_1024/20_test.png\n",
            " saving result files_demo_bv_0.1_1024/20_test.png\n"
          ]
        },
        {
          "output_type": "stream",
          "name": "stderr",
          "text": [
            "100%|██████████| 20/20 [00:51<00:00,  2.60s/it]"
          ]
        },
        {
          "output_type": "stream",
          "name": "stdout",
          "text": [
            "\n",
            "\n",
            "****** OD ******Metrics\n",
            "Threshold: 0.1\n",
            "Accuracy: 0.99277\n",
            "F1: 0.75059 (dice score)\n",
            "Jaccard: 0.65733\n",
            "Recall: 0.87372\n",
            "Precision: 0.77264\n",
            "AUC: 0.87372\n",
            "\n",
            "\n",
            "****** BV ******Metrics\n",
            "Threshold: 0.1\n",
            "Accuracy: 0.95889\n",
            "F1: 0.80313 (dice score)\n",
            "Jaccard: 0.67335\n",
            "Recall: 0.74930\n",
            "Precision: 0.87674\n",
            "AUC: 0.74930\n",
            "\n",
            "\n"
          ]
        },
        {
          "output_type": "stream",
          "name": "stderr",
          "text": [
            "\n"
          ]
        }
      ],
      "source": [
        "from copy import deepcopy\n",
        "\n",
        "data_dir = \"new_data\"\n",
        "od_channel, bv_channel = 0, 1\n",
        "\n",
        "model_dir = \"files\"\n",
        "threshold = 0.1\n",
        "\n",
        "od_result_dir = f\"files_demo_od_{threshold}_1024\"\n",
        "bv_result_dir = f\"files_demo_bv_{threshold}_1024\"\n",
        "\n",
        "create_dir(od_result_dir)\n",
        "create_dir(bv_result_dir)\n",
        "\n",
        "\"\"\" Load the model \"\"\"\n",
        "model_file_name = f\"{model_dir}/model_1024.h5\"\n",
        "print(model_file_name)\n",
        "# with CustomObjectScope({'iou': iou, 'dice_coef': dice_coef, 'dice_coef_OD': dice_coef_OD, 'dice_coef_MA': dice_coef_MA, 'dice_loss': dice_loss}):\n",
        "model = tf.keras.models.load_model(model_file_name, compile = False)\n",
        "\n",
        "\"\"\" Load the dataset \"\"\"\n",
        "# dataset_path = os.path.join(data_dir, \"test\")\n",
        "# test_x, test_y = get_filenames_sorted(data_dir + \"/test/image/\", data_dir + \"/test/mask/\" )\n",
        "\n",
        "dataset_path = os.path.join(\"new_data\", \"test\")\n",
        "test_x, test_y = load_data(dataset_path)\n",
        "\n",
        "\"\"\" Make the prediction and calculate the metrics values \"\"\"\n",
        "SCORE_BV, SCORE_OD = [], []\n",
        "for x, y in tqdm(zip(test_x, test_y), total=len(test_x)):\n",
        "    \"\"\" Extracting name \"\"\"\n",
        "    name = x.rsplit(\"/\", 1)[1].rsplit(\".\", 1)[0]\n",
        "    print(name)\n",
        "\n",
        "    \"\"\" Read the image and mask \"\"\"\n",
        "    ori_x, x = read_image(x)\n",
        "    ori_y, y = read_mask(y)\n",
        "\n",
        "    \"\"\" Prediction \"\"\"\n",
        "    y_pred = model.predict(np.expand_dims(x, axis=0))[0]\n",
        "    y_pred_prob = deepcopy(y_pred)\n",
        "    y_pred = y_pred > threshold\n",
        "    y_pred = y_pred.astype(np.float32)\n",
        "\n",
        "    print(np.max(ori_y), np.max(y))\n",
        "\n",
        "    \"\"\" Saving the images \"\"\"\n",
        "    save_image_path_od = f\"{od_result_dir}/{name}.png\"\n",
        "    save_results(ori_x, ori_y, y_pred, save_image_path_od, od_channel)\n",
        "\n",
        "    save_image_path_bv = f\"{bv_result_dir}/{name}.png\"\n",
        "    save_results(ori_x, ori_y, y_pred, save_image_path_bv, bv_channel)\n",
        "\n",
        "\n",
        "#     \"\"\" Calculate the od metrics \"\"\"\n",
        "    bv_pred = y_pred[:, :, bv_channel].flatten()\n",
        "    bv_pred_prob = y_pred_prob[:, :, bv_channel].flatten()\n",
        "    bv_gt = y[:, :, bv_channel].flatten()\n",
        "    acc_value = accuracy_score(bv_gt > threshold, bv_pred>threshold)\n",
        "    f1_value = f1_score(bv_gt > threshold, bv_pred>threshold, labels=[0, 1], average=\"binary\")\n",
        "    jac_value = jaccard_score(bv_gt > threshold, bv_pred>threshold, labels=[0, 1], average=\"binary\")\n",
        "    recall_value = recall_score(bv_gt > threshold, bv_pred>threshold, labels=[0, 1], average=\"binary\")\n",
        "    recall_computed = np.sum((bv_gt > threshold) & (bv_pred > threshold)) / np.sum(bv_gt > threshold)\n",
        "    precision_value = precision_score(bv_gt > threshold, bv_pred>threshold, labels=[0, 1], average=\"binary\")\n",
        "    auc_score = auc(bv_gt > threshold, bv_pred_prob)\n",
        "    SCORE_BV.append([name, acc_value, f1_value, jac_value, recall_value, precision_value, recall_computed, auc_score])\n",
        "\n",
        "#     \"\"\" Calculate the ma metrics \"\"\"\n",
        "    bv_pred = y_pred[:, :, od_channel].flatten()\n",
        "    bv_pred_prob = y_pred_prob[:, :, bv_channel].flatten()\n",
        "    bv_gt = y[:, :, od_channel].flatten()\n",
        "    acc_value = accuracy_score(bv_gt > threshold, bv_pred>threshold)\n",
        "    f1_value = f1_score(bv_gt > threshold, bv_pred>threshold, labels=[0, 1], average=\"binary\")\n",
        "    jac_value = jaccard_score(bv_gt > threshold, bv_pred>threshold, labels=[0, 1], average=\"binary\")\n",
        "    recall_value = recall_score(bv_gt > threshold, bv_pred>threshold, labels=[0, 1], average=\"binary\")\n",
        "    recall_computed = np.sum((bv_gt > threshold) & (bv_pred > threshold)) / np.sum(bv_gt > threshold)\n",
        "    precision_value = precision_score(bv_gt > threshold, bv_pred>threshold, labels=[0, 1], average=\"binary\")\n",
        "    auc_score = auc(bv_gt > threshold, bv_pred_prob)\n",
        "    SCORE_OD.append([name, acc_value, f1_value, jac_value, recall_value, precision_value, recall_computed, auc_score])\n",
        "    \n",
        "print(\"\\n\")\n",
        "for SCORE in [SCORE_OD, SCORE_BV]:\n",
        "    if SCORE == SCORE_OD:\n",
        "        print(\"****** OD ******Metrics\")\n",
        "    else:\n",
        "        print(\"****** BV ******Metrics\")\n",
        "    score = [s[1:] for s in SCORE]\n",
        "    score = np.mean(score, axis=0)\n",
        "    print(f\"Threshold:\", threshold)\n",
        "    print(f\"Accuracy: {score[0]:0.5f}\")\n",
        "    print(f\"F1: {score[1]:0.5f} (dice score)\")\n",
        "    print(f\"Jaccard: {score[2]:0.5f}\")\n",
        "    print(f\"Recall: {score[3]:0.5f}\")\n",
        "    print(f\"Precision: {score[4]:0.5f}\")\n",
        "    print(f\"AUC: {score[5]:0.5f}\")\n",
        "\n",
        "    # \"\"\" Saving \"\"\"\n",
        "    if SCORE == SCORE_OD:\n",
        "        df = pd.DataFrame(SCORE, columns=[\"Image\", \"Acc\", \"F1\", \"Jaccard\", \"Recall\", \"Precision\", \"Recall Computed\", \"AUC\"])\n",
        "        df.to_csv(f\"{od_result_dir}/score.csv\")\n",
        "    else:\n",
        "        df = pd.DataFrame(SCORE, columns=[\"Image\", \"Acc\", \"F1\", \"Jaccard\", \"Recall\", \"Precision\", \"Recall Computed\", \"AUC\"])\n",
        "        df.to_csv(f\"{bv_result_dir}/score.csv\")\n",
        "    print(\"\\n\")"
      ]
    },
    {
      "cell_type": "code",
      "source": [
        "import pandas as pd\n",
        "\n",
        "df = pd.read_csv(\"files/data_1024.csv\")\n",
        "df.head()"
      ],
      "metadata": {
        "id": "R0bW2gXhiAjR",
        "colab": {
          "base_uri": "https://localhost:8080/",
          "height": 206
        },
        "outputId": "7b5be5d0-826b-4682-aa94-9456bf591bbe"
      },
      "execution_count": null,
      "outputs": [
        {
          "output_type": "execute_result",
          "data": {
            "text/plain": [
              "   epoch  dice_coef       iou      loss      lr  precision    recall  \\\n",
              "0      0   0.202149  0.113073  1.220904  0.0001   0.318428  0.712385   \n",
              "1      1   0.283857  0.165690  0.980607  0.0001   0.681485  0.686526   \n",
              "2      2   0.323651  0.193388  0.908767  0.0001   0.738640  0.723999   \n",
              "3      3   0.352439  0.214243  0.858961  0.0001   0.764386  0.736011   \n",
              "4      4   0.379238  0.234334  0.809424  0.0001   0.795219  0.745659   \n",
              "\n",
              "   val_dice_coef   val_iou  val_loss  val_precision  val_recall  \n",
              "0       0.091413  0.047909  1.734866       0.073860    0.999982  \n",
              "1       0.083503  0.043585  3.074975       0.071878    0.999992  \n",
              "2       0.084352  0.044043  1.297555       0.000000    0.000000  \n",
              "3       0.080731  0.042072  1.248049       0.000000    0.000000  \n",
              "4       0.082212  0.042875  1.182664       0.025000    0.000010  "
            ],
            "text/html": [
              "\n",
              "  <div id=\"df-953938c0-9767-44a9-a263-6d6e3a01fa78\">\n",
              "    <div class=\"colab-df-container\">\n",
              "      <div>\n",
              "<style scoped>\n",
              "    .dataframe tbody tr th:only-of-type {\n",
              "        vertical-align: middle;\n",
              "    }\n",
              "\n",
              "    .dataframe tbody tr th {\n",
              "        vertical-align: top;\n",
              "    }\n",
              "\n",
              "    .dataframe thead th {\n",
              "        text-align: right;\n",
              "    }\n",
              "</style>\n",
              "<table border=\"1\" class=\"dataframe\">\n",
              "  <thead>\n",
              "    <tr style=\"text-align: right;\">\n",
              "      <th></th>\n",
              "      <th>epoch</th>\n",
              "      <th>dice_coef</th>\n",
              "      <th>iou</th>\n",
              "      <th>loss</th>\n",
              "      <th>lr</th>\n",
              "      <th>precision</th>\n",
              "      <th>recall</th>\n",
              "      <th>val_dice_coef</th>\n",
              "      <th>val_iou</th>\n",
              "      <th>val_loss</th>\n",
              "      <th>val_precision</th>\n",
              "      <th>val_recall</th>\n",
              "    </tr>\n",
              "  </thead>\n",
              "  <tbody>\n",
              "    <tr>\n",
              "      <th>0</th>\n",
              "      <td>0</td>\n",
              "      <td>0.202149</td>\n",
              "      <td>0.113073</td>\n",
              "      <td>1.220904</td>\n",
              "      <td>0.0001</td>\n",
              "      <td>0.318428</td>\n",
              "      <td>0.712385</td>\n",
              "      <td>0.091413</td>\n",
              "      <td>0.047909</td>\n",
              "      <td>1.734866</td>\n",
              "      <td>0.073860</td>\n",
              "      <td>0.999982</td>\n",
              "    </tr>\n",
              "    <tr>\n",
              "      <th>1</th>\n",
              "      <td>1</td>\n",
              "      <td>0.283857</td>\n",
              "      <td>0.165690</td>\n",
              "      <td>0.980607</td>\n",
              "      <td>0.0001</td>\n",
              "      <td>0.681485</td>\n",
              "      <td>0.686526</td>\n",
              "      <td>0.083503</td>\n",
              "      <td>0.043585</td>\n",
              "      <td>3.074975</td>\n",
              "      <td>0.071878</td>\n",
              "      <td>0.999992</td>\n",
              "    </tr>\n",
              "    <tr>\n",
              "      <th>2</th>\n",
              "      <td>2</td>\n",
              "      <td>0.323651</td>\n",
              "      <td>0.193388</td>\n",
              "      <td>0.908767</td>\n",
              "      <td>0.0001</td>\n",
              "      <td>0.738640</td>\n",
              "      <td>0.723999</td>\n",
              "      <td>0.084352</td>\n",
              "      <td>0.044043</td>\n",
              "      <td>1.297555</td>\n",
              "      <td>0.000000</td>\n",
              "      <td>0.000000</td>\n",
              "    </tr>\n",
              "    <tr>\n",
              "      <th>3</th>\n",
              "      <td>3</td>\n",
              "      <td>0.352439</td>\n",
              "      <td>0.214243</td>\n",
              "      <td>0.858961</td>\n",
              "      <td>0.0001</td>\n",
              "      <td>0.764386</td>\n",
              "      <td>0.736011</td>\n",
              "      <td>0.080731</td>\n",
              "      <td>0.042072</td>\n",
              "      <td>1.248049</td>\n",
              "      <td>0.000000</td>\n",
              "      <td>0.000000</td>\n",
              "    </tr>\n",
              "    <tr>\n",
              "      <th>4</th>\n",
              "      <td>4</td>\n",
              "      <td>0.379238</td>\n",
              "      <td>0.234334</td>\n",
              "      <td>0.809424</td>\n",
              "      <td>0.0001</td>\n",
              "      <td>0.795219</td>\n",
              "      <td>0.745659</td>\n",
              "      <td>0.082212</td>\n",
              "      <td>0.042875</td>\n",
              "      <td>1.182664</td>\n",
              "      <td>0.025000</td>\n",
              "      <td>0.000010</td>\n",
              "    </tr>\n",
              "  </tbody>\n",
              "</table>\n",
              "</div>\n",
              "      <button class=\"colab-df-convert\" onclick=\"convertToInteractive('df-953938c0-9767-44a9-a263-6d6e3a01fa78')\"\n",
              "              title=\"Convert this dataframe to an interactive table.\"\n",
              "              style=\"display:none;\">\n",
              "        \n",
              "  <svg xmlns=\"http://www.w3.org/2000/svg\" height=\"24px\"viewBox=\"0 0 24 24\"\n",
              "       width=\"24px\">\n",
              "    <path d=\"M0 0h24v24H0V0z\" fill=\"none\"/>\n",
              "    <path d=\"M18.56 5.44l.94 2.06.94-2.06 2.06-.94-2.06-.94-.94-2.06-.94 2.06-2.06.94zm-11 1L8.5 8.5l.94-2.06 2.06-.94-2.06-.94L8.5 2.5l-.94 2.06-2.06.94zm10 10l.94 2.06.94-2.06 2.06-.94-2.06-.94-.94-2.06-.94 2.06-2.06.94z\"/><path d=\"M17.41 7.96l-1.37-1.37c-.4-.4-.92-.59-1.43-.59-.52 0-1.04.2-1.43.59L10.3 9.45l-7.72 7.72c-.78.78-.78 2.05 0 2.83L4 21.41c.39.39.9.59 1.41.59.51 0 1.02-.2 1.41-.59l7.78-7.78 2.81-2.81c.8-.78.8-2.07 0-2.86zM5.41 20L4 18.59l7.72-7.72 1.47 1.35L5.41 20z\"/>\n",
              "  </svg>\n",
              "      </button>\n",
              "      \n",
              "  <style>\n",
              "    .colab-df-container {\n",
              "      display:flex;\n",
              "      flex-wrap:wrap;\n",
              "      gap: 12px;\n",
              "    }\n",
              "\n",
              "    .colab-df-convert {\n",
              "      background-color: #E8F0FE;\n",
              "      border: none;\n",
              "      border-radius: 50%;\n",
              "      cursor: pointer;\n",
              "      display: none;\n",
              "      fill: #1967D2;\n",
              "      height: 32px;\n",
              "      padding: 0 0 0 0;\n",
              "      width: 32px;\n",
              "    }\n",
              "\n",
              "    .colab-df-convert:hover {\n",
              "      background-color: #E2EBFA;\n",
              "      box-shadow: 0px 1px 2px rgba(60, 64, 67, 0.3), 0px 1px 3px 1px rgba(60, 64, 67, 0.15);\n",
              "      fill: #174EA6;\n",
              "    }\n",
              "\n",
              "    [theme=dark] .colab-df-convert {\n",
              "      background-color: #3B4455;\n",
              "      fill: #D2E3FC;\n",
              "    }\n",
              "\n",
              "    [theme=dark] .colab-df-convert:hover {\n",
              "      background-color: #434B5C;\n",
              "      box-shadow: 0px 1px 3px 1px rgba(0, 0, 0, 0.15);\n",
              "      filter: drop-shadow(0px 1px 2px rgba(0, 0, 0, 0.3));\n",
              "      fill: #FFFFFF;\n",
              "    }\n",
              "  </style>\n",
              "\n",
              "      <script>\n",
              "        const buttonEl =\n",
              "          document.querySelector('#df-953938c0-9767-44a9-a263-6d6e3a01fa78 button.colab-df-convert');\n",
              "        buttonEl.style.display =\n",
              "          google.colab.kernel.accessAllowed ? 'block' : 'none';\n",
              "\n",
              "        async function convertToInteractive(key) {\n",
              "          const element = document.querySelector('#df-953938c0-9767-44a9-a263-6d6e3a01fa78');\n",
              "          const dataTable =\n",
              "            await google.colab.kernel.invokeFunction('convertToInteractive',\n",
              "                                                     [key], {});\n",
              "          if (!dataTable) return;\n",
              "\n",
              "          const docLinkHtml = 'Like what you see? Visit the ' +\n",
              "            '<a target=\"_blank\" href=https://colab.research.google.com/notebooks/data_table.ipynb>data table notebook</a>'\n",
              "            + ' to learn more about interactive tables.';\n",
              "          element.innerHTML = '';\n",
              "          dataTable['output_type'] = 'display_data';\n",
              "          await google.colab.output.renderOutput(dataTable, element);\n",
              "          const docLink = document.createElement('div');\n",
              "          docLink.innerHTML = docLinkHtml;\n",
              "          element.appendChild(docLink);\n",
              "        }\n",
              "      </script>\n",
              "    </div>\n",
              "  </div>\n",
              "  "
            ]
          },
          "metadata": {},
          "execution_count": 3
        }
      ]
    },
    {
      "cell_type": "code",
      "source": [
        "import matplotlib.pyplot as plt\n",
        "\n",
        "plt.plot(df[\"epoch\"], df[\"dice_coef\"].values)\n",
        "plt.plot(df[\"epoch\"], df[\"val_dice_coef\"].values)\n",
        "plt.legend([\"train\", \"val\"])\n",
        "plt.xlabel(\"Epochs\")\n",
        "plt.ylabel(\"Dice Score\")\n",
        "plt.show()"
      ],
      "metadata": {
        "colab": {
          "base_uri": "https://localhost:8080/",
          "height": 279
        },
        "id": "4OS2v320ECSo",
        "outputId": "09dbe630-5361-423f-c9b4-3549cf271b5c"
      },
      "execution_count": null,
      "outputs": [
        {
          "output_type": "display_data",
          "data": {
            "text/plain": [
              "<Figure size 432x288 with 1 Axes>"
            ],
            "image/png": "[encoded data removed]"
          },
          "metadata": {
            "needs_background": "light"
          }
        }
      ]
    },
    {
      "cell_type": "code",
      "source": [
        "plt.plot(df[\"epoch\"], df[\"loss\"].values)\n",
        "plt.plot(df[\"epoch\"], df[\"val_loss\"].values)\n",
        "plt.legend([\"train\", \"val\"])\n",
        "plt.xlabel(\"Epochs\")\n",
        "plt.ylabel(\"Loss\")\n",
        "plt.show()"
      ],
      "metadata": {
        "id": "3zpUCtvkEGjQ",
        "outputId": "5f75243e-9577-4859-9100-d6cfe5383a26",
        "colab": {
          "base_uri": "https://localhost:8080/",
          "height": 279
        }
      },
      "execution_count": null,
      "outputs": [
        {
          "output_type": "display_data",
          "data": {
            "text/plain": [
              "<Figure size 432x288 with 1 Axes>"
            ],
            "image/png": "[encoded data removed]"
          },
          "metadata": {
            "needs_background": "light"
          }
        }
      ]
    }
  ],
  "metadata": {
    "accelerator": "GPU",
    "colab": {
      "background_execution": "on",
      "collapsed_sections": [],
      "machine_shape": "hm",
      "name": "Best_OD_BV_DRIVE_64.ipynb",
      "provenance": []
    },
    "kernelspec": {
      "display_name": "Python 3",
      "name": "python3"
    },
    "language_info": {
      "name": "python"
    }
  },
  "nbformat": 4,
  "nbformat_minor": 0
}