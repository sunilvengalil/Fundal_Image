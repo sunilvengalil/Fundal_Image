{
  "cells": [
    {
      "cell_type": "markdown",
      "metadata": {
        "id": "ZIUz94YO5Y0x"
      },
      "source": [
        "### Import the required libraries and modules:"
      ]
    },
    {
      "cell_type": "code",
      "execution_count": null,
      "metadata": {
        "id": "RN5vXWIK27Lr"
      },
      "outputs": [],
      "source": [
        "import tensorflow as tf\n",
        "from tensorflow.keras.layers import Conv2D, BatchNormalization, Activation, MaxPool2D, Conv2DTranspose, Concatenate, Input\n",
        "from tensorflow.keras.models import Model\n",
        "from tensorflow.keras import backend as K\n",
        "import os\n",
        "os.environ[\"TF_CPP_MIN_LOG_LEVEL\"] = \"2\"\n",
        "import numpy as np\n",
        "import cv2\n",
        "from glob import glob\n",
        "from sklearn.utils import shuffle\n",
        "import tensorflow as tf\n",
        "from tensorflow.keras.callbacks import ModelCheckpoint, CSVLogger, ReduceLROnPlateau, EarlyStopping, TensorBoard\n",
        "from tensorflow.keras.optimizers import Adam\n",
        "from tensorflow.keras.metrics import Recall, Precision\n",
        "import numpy as np"
      ]
    },
    {
      "cell_type": "code",
      "execution_count": null,
      "metadata": {
        "colab": {
          "base_uri": "https://localhost:8080/"
        },
        "id": "rx3CS_MbV06K",
        "outputId": "572fa5a3-4b71-4282-b7f2-5151f064dd31"
      },
      "outputs": [
        {
          "name": "stdout",
          "output_type": "stream",
          "text": [
            "Mounted at /content/gdrive\n",
            "/content/gdrive/MyDrive/Blood_Vessel_Results/ALL_BEST_RESULTS/BV_OD_Drive\n"
          ]
        }
      ],
      "source": [
        "from google.colab import drive\n",
        "drive.mount(\"/content/gdrive\", force_remount=True)\n",
        "%cd /content/gdrive/MyDrive/Blood_Vessel_Results/ALL_BEST_RESULTS/BV_OD_Drive"
      ]
    },
    {
      "cell_type": "markdown",
      "metadata": {
        "id": "MQcINXFE59yv"
      },
      "source": [
        "### Unzip the data:"
      ]
    },
    {
      "cell_type": "code",
      "execution_count": null,
      "metadata": {
        "id": "mA5voGSj58wH"
      },
      "outputs": [],
      "source": [
        "# !unzip new_data.zip"
      ]
    },
    {
      "cell_type": "markdown",
      "metadata": {
        "id": "_WctlpFt6hx4"
      },
      "source": [
        "### Construct the Model:"
      ]
    },
    {
      "cell_type": "code",
      "execution_count": null,
      "metadata": {
        "colab": {
          "base_uri": "https://localhost:8080/"
        },
        "id": "epeNiZGQ5gSW",
        "outputId": "78b7b471-9d44-4829-f14f-ff833f1407fc"
      },
      "outputs": [
        {
          "name": "stdout",
          "output_type": "stream",
          "text": [
            "Model: \"UNET\"\n",
            "__________________________________________________________________________________________________\n",
            " Layer (type)                   Output Shape         Param #     Connected to                     \n",
            "==================================================================================================\n",
            " input_1 (InputLayer)           [(None, 512, 512, 3  0           []                               \n",
            "                                )]                                                                \n",
            "                                                                                                  \n",
            " conv2d (Conv2D)                (None, 512, 512, 64  1792        ['input_1[0][0]']                \n",
            "                                )                                                                 \n",
            "                                                                                                  \n",
            " batch_normalization (BatchNorm  (None, 512, 512, 64  256        ['conv2d[0][0]']                 \n",
            " alization)                     )                                                                 \n",
            "                                                                                                  \n",
            " activation (Activation)        (None, 512, 512, 64  0           ['batch_normalization[0][0]']    \n",
            "                                )                                                                 \n",
            "                                                                                                  \n",
            " conv2d_1 (Conv2D)              (None, 512, 512, 64  36928       ['activation[0][0]']             \n",
            "                                )                                                                 \n",
            "                                                                                                  \n",
            " batch_normalization_1 (BatchNo  (None, 512, 512, 64  256        ['conv2d_1[0][0]']               \n",
            " rmalization)                   )                                                                 \n",
            "                                                                                                  \n",
            " activation_1 (Activation)      (None, 512, 512, 64  0           ['batch_normalization_1[0][0]']  \n",
            "                                )                                                                 \n",
            "                                                                                                  \n",
            " max_pooling2d (MaxPooling2D)   (None, 256, 256, 64  0           ['activation_1[0][0]']           \n",
            "                                )                                                                 \n",
            "                                                                                                  \n",
            " conv2d_2 (Conv2D)              (None, 256, 256, 12  73856       ['max_pooling2d[0][0]']          \n",
            "                                8)                                                                \n",
            "                                                                                                  \n",
            " batch_normalization_2 (BatchNo  (None, 256, 256, 12  512        ['conv2d_2[0][0]']               \n",
            " rmalization)                   8)                                                                \n",
            "                                                                                                  \n",
            " activation_2 (Activation)      (None, 256, 256, 12  0           ['batch_normalization_2[0][0]']  \n",
            "                                8)                                                                \n",
            "                                                                                                  \n",
            " conv2d_3 (Conv2D)              (None, 256, 256, 12  147584      ['activation_2[0][0]']           \n",
            "                                8)                                                                \n",
            "                                                                                                  \n",
            " batch_normalization_3 (BatchNo  (None, 256, 256, 12  512        ['conv2d_3[0][0]']               \n",
            " rmalization)                   8)                                                                \n",
            "                                                                                                  \n",
            " activation_3 (Activation)      (None, 256, 256, 12  0           ['batch_normalization_3[0][0]']  \n",
            "                                8)                                                                \n",
            "                                                                                                  \n",
            " max_pooling2d_1 (MaxPooling2D)  (None, 128, 128, 12  0          ['activation_3[0][0]']           \n",
            "                                8)                                                                \n",
            "                                                                                                  \n",
            " conv2d_4 (Conv2D)              (None, 128, 128, 25  295168      ['max_pooling2d_1[0][0]']        \n",
            "                                6)                                                                \n",
            "                                                                                                  \n",
            " batch_normalization_4 (BatchNo  (None, 128, 128, 25  1024       ['conv2d_4[0][0]']               \n",
            " rmalization)                   6)                                                                \n",
            "                                                                                                  \n",
            " activation_4 (Activation)      (None, 128, 128, 25  0           ['batch_normalization_4[0][0]']  \n",
            "                                6)                                                                \n",
            "                                                                                                  \n",
            " conv2d_5 (Conv2D)              (None, 128, 128, 25  590080      ['activation_4[0][0]']           \n",
            "                                6)                                                                \n",
            "                                                                                                  \n",
            " batch_normalization_5 (BatchNo  (None, 128, 128, 25  1024       ['conv2d_5[0][0]']               \n",
            " rmalization)                   6)                                                                \n",
            "                                                                                                  \n",
            " activation_5 (Activation)      (None, 128, 128, 25  0           ['batch_normalization_5[0][0]']  \n",
            "                                6)                                                                \n",
            "                                                                                                  \n",
            " max_pooling2d_2 (MaxPooling2D)  (None, 64, 64, 256)  0          ['activation_5[0][0]']           \n",
            "                                                                                                  \n",
            " conv2d_6 (Conv2D)              (None, 64, 64, 512)  1180160     ['max_pooling2d_2[0][0]']        \n",
            "                                                                                                  \n",
            " batch_normalization_6 (BatchNo  (None, 64, 64, 512)  2048       ['conv2d_6[0][0]']               \n",
            " rmalization)                                                                                     \n",
            "                                                                                                  \n",
            " activation_6 (Activation)      (None, 64, 64, 512)  0           ['batch_normalization_6[0][0]']  \n",
            "                                                                                                  \n",
            " conv2d_7 (Conv2D)              (None, 64, 64, 512)  2359808     ['activation_6[0][0]']           \n",
            "                                                                                                  \n",
            " batch_normalization_7 (BatchNo  (None, 64, 64, 512)  2048       ['conv2d_7[0][0]']               \n",
            " rmalization)                                                                                     \n",
            "                                                                                                  \n",
            " activation_7 (Activation)      (None, 64, 64, 512)  0           ['batch_normalization_7[0][0]']  \n",
            "                                                                                                  \n",
            " max_pooling2d_3 (MaxPooling2D)  (None, 32, 32, 512)  0          ['activation_7[0][0]']           \n",
            "                                                                                                  \n",
            " conv2d_8 (Conv2D)              (None, 32, 32, 1024  4719616     ['max_pooling2d_3[0][0]']        \n",
            "                                )                                                                 \n",
            "                                                                                                  \n",
            " batch_normalization_8 (BatchNo  (None, 32, 32, 1024  4096       ['conv2d_8[0][0]']               \n",
            " rmalization)                   )                                                                 \n",
            "                                                                                                  \n",
            " activation_8 (Activation)      (None, 32, 32, 1024  0           ['batch_normalization_8[0][0]']  \n",
            "                                )                                                                 \n",
            "                                                                                                  \n",
            " conv2d_9 (Conv2D)              (None, 32, 32, 1024  9438208     ['activation_8[0][0]']           \n",
            "                                )                                                                 \n",
            "                                                                                                  \n",
            " batch_normalization_9 (BatchNo  (None, 32, 32, 1024  4096       ['conv2d_9[0][0]']               \n",
            " rmalization)                   )                                                                 \n",
            "                                                                                                  \n",
            " activation_9 (Activation)      (None, 32, 32, 1024  0           ['batch_normalization_9[0][0]']  \n",
            "                                )                                                                 \n",
            "                                                                                                  \n",
            " conv2d_transpose (Conv2DTransp  (None, 64, 64, 512)  2097664    ['activation_9[0][0]']           \n",
            " ose)                                                                                             \n",
            "                                                                                                  \n",
            " concatenate (Concatenate)      (None, 64, 64, 1024  0           ['conv2d_transpose[0][0]',       \n",
            "                                )                                 'activation_7[0][0]']           \n",
            "                                                                                                  \n",
            " conv2d_10 (Conv2D)             (None, 64, 64, 512)  4719104     ['concatenate[0][0]']            \n",
            "                                                                                                  \n",
            " batch_normalization_10 (BatchN  (None, 64, 64, 512)  2048       ['conv2d_10[0][0]']              \n",
            " ormalization)                                                                                    \n",
            "                                                                                                  \n",
            " activation_10 (Activation)     (None, 64, 64, 512)  0           ['batch_normalization_10[0][0]'] \n",
            "                                                                                                  \n",
            " conv2d_11 (Conv2D)             (None, 64, 64, 512)  2359808     ['activation_10[0][0]']          \n",
            "                                                                                                  \n",
            " batch_normalization_11 (BatchN  (None, 64, 64, 512)  2048       ['conv2d_11[0][0]']              \n",
            " ormalization)                                                                                    \n",
            "                                                                                                  \n",
            " activation_11 (Activation)     (None, 64, 64, 512)  0           ['batch_normalization_11[0][0]'] \n",
            "                                                                                                  \n",
            " conv2d_transpose_1 (Conv2DTran  (None, 128, 128, 25  524544     ['activation_11[0][0]']          \n",
            " spose)                         6)                                                                \n",
            "                                                                                                  \n",
            " concatenate_1 (Concatenate)    (None, 128, 128, 51  0           ['conv2d_transpose_1[0][0]',     \n",
            "                                2)                                'activation_5[0][0]']           \n",
            "                                                                                                  \n",
            " conv2d_12 (Conv2D)             (None, 128, 128, 25  1179904     ['concatenate_1[0][0]']          \n",
            "                                6)                                                                \n",
            "                                                                                                  \n",
            " batch_normalization_12 (BatchN  (None, 128, 128, 25  1024       ['conv2d_12[0][0]']              \n",
            " ormalization)                  6)                                                                \n",
            "                                                                                                  \n",
            " activation_12 (Activation)     (None, 128, 128, 25  0           ['batch_normalization_12[0][0]'] \n",
            "                                6)                                                                \n",
            "                                                                                                  \n",
            " conv2d_13 (Conv2D)             (None, 128, 128, 25  590080      ['activation_12[0][0]']          \n",
            "                                6)                                                                \n",
            "                                                                                                  \n",
            " batch_normalization_13 (BatchN  (None, 128, 128, 25  1024       ['conv2d_13[0][0]']              \n",
            " ormalization)                  6)                                                                \n",
            "                                                                                                  \n",
            " activation_13 (Activation)     (None, 128, 128, 25  0           ['batch_normalization_13[0][0]'] \n",
            "                                6)                                                                \n",
            "                                                                                                  \n",
            " conv2d_transpose_2 (Conv2DTran  (None, 256, 256, 12  131200     ['activation_13[0][0]']          \n",
            " spose)                         8)                                                                \n",
            "                                                                                                  \n",
            " concatenate_2 (Concatenate)    (None, 256, 256, 25  0           ['conv2d_transpose_2[0][0]',     \n",
            "                                6)                                'activation_3[0][0]']           \n",
            "                                                                                                  \n",
            " conv2d_14 (Conv2D)             (None, 256, 256, 12  295040      ['concatenate_2[0][0]']          \n",
            "                                8)                                                                \n",
            "                                                                                                  \n",
            " batch_normalization_14 (BatchN  (None, 256, 256, 12  512        ['conv2d_14[0][0]']              \n",
            " ormalization)                  8)                                                                \n",
            "                                                                                                  \n",
            " activation_14 (Activation)     (None, 256, 256, 12  0           ['batch_normalization_14[0][0]'] \n",
            "                                8)                                                                \n",
            "                                                                                                  \n",
            " conv2d_15 (Conv2D)             (None, 256, 256, 12  147584      ['activation_14[0][0]']          \n",
            "                                8)                                                                \n",
            "                                                                                                  \n",
            " batch_normalization_15 (BatchN  (None, 256, 256, 12  512        ['conv2d_15[0][0]']              \n",
            " ormalization)                  8)                                                                \n",
            "                                                                                                  \n",
            " activation_15 (Activation)     (None, 256, 256, 12  0           ['batch_normalization_15[0][0]'] \n",
            "                                8)                                                                \n",
            "                                                                                                  \n",
            " conv2d_transpose_3 (Conv2DTran  (None, 512, 512, 64  32832      ['activation_15[0][0]']          \n",
            " spose)                         )                                                                 \n",
            "                                                                                                  \n",
            " concatenate_3 (Concatenate)    (None, 512, 512, 12  0           ['conv2d_transpose_3[0][0]',     \n",
            "                                8)                                'activation_1[0][0]']           \n",
            "                                                                                                  \n",
            " conv2d_16 (Conv2D)             (None, 512, 512, 64  73792       ['concatenate_3[0][0]']          \n",
            "                                )                                                                 \n",
            "                                                                                                  \n",
            " batch_normalization_16 (BatchN  (None, 512, 512, 64  256        ['conv2d_16[0][0]']              \n",
            " ormalization)                  )                                                                 \n",
            "                                                                                                  \n",
            " activation_16 (Activation)     (None, 512, 512, 64  0           ['batch_normalization_16[0][0]'] \n",
            "                                )                                                                 \n",
            "                                                                                                  \n",
            " conv2d_17 (Conv2D)             (None, 512, 512, 64  36928       ['activation_16[0][0]']          \n",
            "                                )                                                                 \n",
            "                                                                                                  \n",
            " batch_normalization_17 (BatchN  (None, 512, 512, 64  256        ['conv2d_17[0][0]']              \n",
            " ormalization)                  )                                                                 \n",
            "                                                                                                  \n",
            " activation_17 (Activation)     (None, 512, 512, 64  0           ['batch_normalization_17[0][0]'] \n",
            "                                )                                                                 \n",
            "                                                                                                  \n",
            " conv2d_18 (Conv2D)             (None, 512, 512, 2)  130         ['activation_17[0][0]']          \n",
            "                                                                                                  \n",
            "==================================================================================================\n",
            "Total params: 31,055,362\n",
            "Trainable params: 31,043,586\n",
            "Non-trainable params: 11,776\n",
            "__________________________________________________________________________________________________\n"
          ]
        }
      ],
      "source": [
        "def conv_block(inputs, num_filters):\n",
        "    x = Conv2D(num_filters, 3, padding=\"same\")(inputs)\n",
        "    x = BatchNormalization()(x)\n",
        "    x = Activation(\"relu\")(x)\n",
        "\n",
        "    x = Conv2D(num_filters, 3, padding=\"same\")(x)\n",
        "    x = BatchNormalization()(x)\n",
        "    x = Activation(\"relu\")(x)\n",
        "\n",
        "    return x\n",
        "\n",
        "def encoder_block(inputs, num_filters, strides=2):\n",
        "    x = conv_block(inputs, num_filters)\n",
        "    p = MaxPool2D(strides)(x)\n",
        "    return x, p\n",
        "\n",
        "def decoder_block(inputs, skip_features, num_filters, strides=2):\n",
        "    x = Conv2DTranspose(num_filters, (2, 2), strides=strides, padding=\"same\")(inputs)\n",
        "    x = Concatenate()([x, skip_features])\n",
        "    x = conv_block(x, num_filters)\n",
        "    return x\n",
        "\n",
        "def build_unet(input_shape, num_filters=[64, 128, 256, 512, 1024], strides=[2, 2, 2, 2]):\n",
        "    inputs = Input(input_shape)\n",
        "\n",
        "    s1, p1 = encoder_block(inputs, num_filters[0], strides=strides[0])\n",
        "    s2, p2 = encoder_block(p1, num_filters[1], strides=strides[1])\n",
        "    s3, p3 = encoder_block(p2, num_filters[2], strides=strides[2])\n",
        "    s4, p4 = encoder_block(p3, num_filters[3], strides=strides[3])\n",
        "\n",
        "    b1 = conv_block(p4, num_filters[4])\n",
        "\n",
        "    d1 = decoder_block(b1, s4, num_filters[3], strides=strides[3])\n",
        "    d2 = decoder_block(d1, s3, num_filters[2], strides=strides[2])\n",
        "    d3 = decoder_block(d2, s2, num_filters[1], strides=strides[1])\n",
        "    d4 = decoder_block(d3, s1, num_filters[0], strides=strides[0])\n",
        "\n",
        "    outputs = Conv2D(2, 1, padding=\"same\", activation=\"sigmoid\")(d4)\n",
        "\n",
        "    model = Model(inputs, outputs, name=\"UNET\")\n",
        "    return model\n",
        "\n",
        "input_shape = (512, 512, 3)\n",
        "model = build_unet(input_shape)\n",
        "model.summary()"
      ]
    },
    {
      "cell_type": "markdown",
      "metadata": {
        "id": "TWKUCE3_6vBv"
      },
      "source": [
        "### Adding the Metrics:"
      ]
    },
    {
      "cell_type": "code",
      "execution_count": null,
      "metadata": {
        "id": "s5HXET5Z6uZX"
      },
      "outputs": [],
      "source": [
        "def iou(y_true, y_pred):\n",
        "    def f(y_true, y_pred):\n",
        "        intersection = (y_true * y_pred).sum()\n",
        "        union = y_true.sum() + y_pred.sum() - intersection\n",
        "        x = (intersection + 1e-15) / (union + 1e-15)\n",
        "        x = x.astype(np.float32)\n",
        "        return x\n",
        "    return tf.numpy_function(f, [y_true, y_pred], tf.float32)\n",
        "\n",
        "smooth = 1e-15\n",
        "def dice_coef(y_true, y_pred):\n",
        "    y_true = tf.keras.layers.Flatten()(y_true)\n",
        "    y_pred = tf.keras.layers.Flatten()(y_pred)\n",
        "    intersection = tf.reduce_sum(y_true * y_pred)\n",
        "    return (2. * intersection + smooth) / (tf.reduce_sum(y_true) + tf.reduce_sum(y_pred) + smooth)\n",
        "\n",
        "def dice_loss(y_true, y_pred):\n",
        "    return 1.0 - dice_coef(y_true, y_pred)\n",
        "\n",
        "def DiceBCELoss(y_true, y_pred):\n",
        "\n",
        "    inputs = tf.keras.layers.Flatten()(y_true)\n",
        "    targets = tf.keras.layers.Flatten()(y_pred)\n",
        "\n",
        "    intersection = tf.reduce_sum(inputs * targets)\n",
        "    dice_loss = 1 - (2.*intersection + smooth)/(tf.reduce_sum(y_true) + tf.reduce_sum(y_pred) + smooth)\n",
        "    BCE = tf.keras.losses.BinaryCrossentropy()\n",
        "    Dice_BCE = BCE(inputs, targets) + dice_loss\n",
        "\n",
        "    return Dice_BCE"
      ]
    },
    {
      "cell_type": "markdown",
      "metadata": {
        "id": "fuGIkqEH65dX"
      },
      "source": [
        "### Training the Model:"
      ]
    },
    {
      "cell_type": "code",
      "execution_count": null,
      "metadata": {
        "id": "NNdxwX_-5udw"
      },
      "outputs": [],
      "source": [
        "W = 512\n",
        "H = 512\n",
        "\n",
        "def create_dir(path):\n",
        "    if not os.path.exists(path):\n",
        "        os.makedirs(path)\n",
        "\n",
        "def load_data(path):\n",
        "    x = sorted(glob(os.path.join(path, \"image\", \"*.png\")))\n",
        "    y = sorted(glob(os.path.join(path, \"mask\", \"*.png\")))\n",
        "    return x, y\n",
        "\n",
        "def shuffling(x, y):\n",
        "    x, y = shuffle(x, y, random_state=42)\n",
        "    return x, y\n",
        "\n",
        "def read_image(path):\n",
        "    path = path.decode()\n",
        "    x = cv2.imread(path, cv2.IMREAD_COLOR)\n",
        "    # x = cv2.resize(x, (W, H))\n",
        "    x = x/255.0\n",
        "    x = x.astype(np.float32)\n",
        "    return x\n",
        "\n",
        "def read_mask(path):\n",
        "    path = path.decode()\n",
        "    x = cv2.imread(path, cv2.IMREAD_COLOR)  ## (512, 512, 3)\n",
        "    # x = cv2.resize(x, (W, H))\n",
        "    x = x/255.0\n",
        "    x = x.astype(np.float32)\n",
        "    x = x[:,:,0:2] # Discard the last channel \n",
        "\n",
        "    return x\n",
        "\n",
        "def tf_parse(x, y):\n",
        "    def _parse(x, y):\n",
        "        x = read_image(x)\n",
        "        y = read_mask(y)\n",
        "        return x, y\n",
        "\n",
        "    x, y = tf.numpy_function(_parse, [x, y], [tf.float32, tf.float32])\n",
        "    x.set_shape([H, W, 3])\n",
        "    y.set_shape([H, W, 2])\n",
        "    return x, y\n",
        "\n",
        "def tf_dataset(X, Y, batch_size=2):\n",
        "    dataset = tf.data.Dataset.from_tensor_slices((X, Y))\n",
        "    dataset = dataset.map(tf_parse)\n",
        "    dataset = dataset.batch(batch_size)\n",
        "    dataset = dataset.prefetch(4)\n",
        "    return dataset"
      ]
    },
    {
      "cell_type": "code",
      "execution_count": null,
      "metadata": {
        "colab": {
          "background_save": true,
          "base_uri": "https://localhost:8080/"
        },
        "id": "R9oxQCQo7Jnw",
        "outputId": "5e086f08-b714-49f6-ee46-872cf37e4d95"
      },
      "outputs": [
        {
          "name": "stdout",
          "output_type": "stream",
          "text": [
            "Train: 80 - 80\n",
            "Valid: 20 - 20\n",
            "Epoch 1/50\n",
            "40/40 [==============================] - ETA: 0s - loss: 1.2943 - dice_coef: 0.1732 - iou: 0.0952 - recall: 0.6970 - precision: 0.2533\n",
            "Epoch 1: val_loss improved from inf to 1.54784, saving model to files/model_16.h5\n",
            "40/40 [==============================] - 140s 3s/step - loss: 1.2943 - dice_coef: 0.1732 - iou: 0.0952 - recall: 0.6970 - precision: 0.2533 - val_loss: 1.5478 - val_dice_coef: 0.0927 - val_iou: 0.0486 - val_recall: 0.0115 - val_precision: 0.3628 - lr: 1.0000e-04\n",
            "Epoch 2/50\n",
            "40/40 [==============================] - ETA: 0s - loss: 1.0141 - dice_coef: 0.2667 - iou: 0.1542 - recall: 0.6781 - precision: 0.6612\n",
            "Epoch 2: val_loss improved from 1.54784 to 1.44093, saving model to files/model_16.h5\n",
            "40/40 [==============================] - 8s 189ms/step - loss: 1.0141 - dice_coef: 0.2667 - iou: 0.1542 - recall: 0.6781 - precision: 0.6612 - val_loss: 1.4409 - val_dice_coef: 0.0807 - val_iou: 0.0421 - val_recall: 0.0000e+00 - val_precision: 0.0000e+00 - lr: 1.0000e-04\n",
            "Epoch 3/50\n",
            "40/40 [==============================] - ETA: 0s - loss: 0.9231 - dice_coef: 0.3135 - iou: 0.1861 - recall: 0.7134 - precision: 0.7307\n",
            "Epoch 3: val_loss improved from 1.44093 to 1.32674, saving model to files/model_16.h5\n",
            "40/40 [==============================] - 8s 188ms/step - loss: 0.9231 - dice_coef: 0.3135 - iou: 0.1861 - recall: 0.7134 - precision: 0.7307 - val_loss: 1.3267 - val_dice_coef: 0.0791 - val_iou: 0.0412 - val_recall: 0.0000e+00 - val_precision: 0.0000e+00 - lr: 1.0000e-04\n",
            "Epoch 4/50\n",
            "40/40 [==============================] - ETA: 0s - loss: 0.8752 - dice_coef: 0.3400 - iou: 0.2051 - recall: 0.7241 - precision: 0.7592\n",
            "Epoch 4: val_loss improved from 1.32674 to 1.25996, saving model to files/model_16.h5\n",
            "40/40 [==============================] - 8s 190ms/step - loss: 0.8752 - dice_coef: 0.3400 - iou: 0.2051 - recall: 0.7241 - precision: 0.7592 - val_loss: 1.2600 - val_dice_coef: 0.0784 - val_iou: 0.0408 - val_recall: 1.3774e-06 - val_precision: 0.0133 - lr: 1.0000e-04\n",
            "Epoch 5/50\n",
            "40/40 [==============================] - ETA: 0s - loss: 0.8340 - dice_coef: 0.3633 - iou: 0.2223 - recall: 0.7313 - precision: 0.7824\n",
            "Epoch 5: val_loss improved from 1.25996 to 1.21509, saving model to files/model_16.h5\n",
            "40/40 [==============================] - 8s 189ms/step - loss: 0.8340 - dice_coef: 0.3633 - iou: 0.2223 - recall: 0.7313 - precision: 0.7824 - val_loss: 1.2151 - val_dice_coef: 0.0811 - val_iou: 0.0422 - val_recall: 1.8182e-04 - val_precision: 0.0091 - lr: 1.0000e-04\n",
            "Epoch 6/50\n",
            "40/40 [==============================] - ETA: 0s - loss: 0.7912 - dice_coef: 0.3887 - iou: 0.2415 - recall: 0.7437 - precision: 0.8053\n",
            "Epoch 6: val_loss improved from 1.21509 to 1.18909, saving model to files/model_16.h5\n",
            "40/40 [==============================] - 8s 189ms/step - loss: 0.7912 - dice_coef: 0.3887 - iou: 0.2415 - recall: 0.7437 - precision: 0.8053 - val_loss: 1.1891 - val_dice_coef: 0.0785 - val_iou: 0.0408 - val_recall: 0.0011 - val_precision: 0.0168 - lr: 1.0000e-04\n",
            "Epoch 7/50\n",
            "40/40 [==============================] - ETA: 0s - loss: 0.7551 - dice_coef: 0.4112 - iou: 0.2591 - recall: 0.7487 - precision: 0.8200\n",
            "Epoch 7: val_loss improved from 1.18909 to 1.17188, saving model to files/model_16.h5\n",
            "40/40 [==============================] - 8s 189ms/step - loss: 0.7551 - dice_coef: 0.4112 - iou: 0.2591 - recall: 0.7487 - precision: 0.8200 - val_loss: 1.1719 - val_dice_coef: 0.0828 - val_iou: 0.0432 - val_recall: 0.0108 - val_precision: 0.0861 - lr: 1.0000e-04\n",
            "Epoch 8/50\n",
            "40/40 [==============================] - ETA: 0s - loss: 0.7186 - dice_coef: 0.4346 - iou: 0.2779 - recall: 0.7537 - precision: 0.8382\n",
            "Epoch 8: val_loss improved from 1.17188 to 1.15618, saving model to files/model_16.h5\n",
            "40/40 [==============================] - 8s 188ms/step - loss: 0.7186 - dice_coef: 0.4346 - iou: 0.2779 - recall: 0.7537 - precision: 0.8382 - val_loss: 1.1562 - val_dice_coef: 0.0966 - val_iou: 0.0508 - val_recall: 0.0387 - val_precision: 0.1828 - lr: 1.0000e-04\n",
            "Epoch 9/50\n",
            "40/40 [==============================] - ETA: 0s - loss: 0.6887 - dice_coef: 0.4547 - iou: 0.2946 - recall: 0.7537 - precision: 0.8475\n",
            "Epoch 9: val_loss improved from 1.15618 to 1.10994, saving model to files/model_16.h5\n",
            "40/40 [==============================] - 8s 189ms/step - loss: 0.6887 - dice_coef: 0.4547 - iou: 0.2946 - recall: 0.7537 - precision: 0.8475 - val_loss: 1.1099 - val_dice_coef: 0.1289 - val_iou: 0.0690 - val_recall: 0.0992 - val_precision: 0.3423 - lr: 1.0000e-04\n",
            "Epoch 10/50\n",
            "40/40 [==============================] - ETA: 0s - loss: 0.6590 - dice_coef: 0.4749 - iou: 0.3117 - recall: 0.7550 - precision: 0.8589\n",
            "Epoch 10: val_loss improved from 1.10994 to 1.02356, saving model to files/model_16.h5\n",
            "40/40 [==============================] - 8s 188ms/step - loss: 0.6590 - dice_coef: 0.4749 - iou: 0.3117 - recall: 0.7550 - precision: 0.8589 - val_loss: 1.0236 - val_dice_coef: 0.1865 - val_iou: 0.1029 - val_recall: 0.1865 - val_precision: 0.4909 - lr: 1.0000e-04\n",
            "Epoch 11/50\n",
            "40/40 [==============================] - ETA: 0s - loss: 0.6322 - dice_coef: 0.4937 - iou: 0.3281 - recall: 0.7555 - precision: 0.8662\n",
            "Epoch 11: val_loss improved from 1.02356 to 0.92472, saving model to files/model_16.h5\n",
            "40/40 [==============================] - 8s 188ms/step - loss: 0.6322 - dice_coef: 0.4937 - iou: 0.3281 - recall: 0.7555 - precision: 0.8662 - val_loss: 0.9247 - val_dice_coef: 0.2548 - val_iou: 0.1462 - val_recall: 0.2818 - val_precision: 0.6356 - lr: 1.0000e-04\n",
            "Epoch 12/50\n",
            "40/40 [==============================] - ETA: 0s - loss: 0.6113 - dice_coef: 0.5096 - iou: 0.3423 - recall: 0.7518 - precision: 0.8673\n",
            "Epoch 12: val_loss improved from 0.92472 to 0.85877, saving model to files/model_16.h5\n",
            "40/40 [==============================] - 8s 187ms/step - loss: 0.6113 - dice_coef: 0.5096 - iou: 0.3423 - recall: 0.7518 - precision: 0.8673 - val_loss: 0.8588 - val_dice_coef: 0.3052 - val_iou: 0.1803 - val_recall: 0.3730 - val_precision: 0.7195 - lr: 1.0000e-04\n",
            "Epoch 13/50\n",
            "40/40 [==============================] - ETA: 0s - loss: 0.5822 - dice_coef: 0.5297 - iou: 0.3606 - recall: 0.7525 - precision: 0.8803\n",
            "Epoch 13: val_loss improved from 0.85877 to 0.70876, saving model to files/model_16.h5\n",
            "40/40 [==============================] - 8s 188ms/step - loss: 0.5822 - dice_coef: 0.5297 - iou: 0.3606 - recall: 0.7525 - precision: 0.8803 - val_loss: 0.7088 - val_dice_coef: 0.4190 - val_iou: 0.2654 - val_recall: 0.5178 - val_precision: 0.8243 - lr: 1.0000e-04\n",
            "Epoch 14/50\n",
            "40/40 [==============================] - ETA: 0s - loss: 0.5546 - dice_coef: 0.5503 - iou: 0.3799 - recall: 0.7554 - precision: 0.8899\n",
            "Epoch 14: val_loss improved from 0.70876 to 0.67972, saving model to files/model_16.h5\n",
            "40/40 [==============================] - 8s 189ms/step - loss: 0.5546 - dice_coef: 0.5503 - iou: 0.3799 - recall: 0.7554 - precision: 0.8899 - val_loss: 0.6797 - val_dice_coef: 0.4390 - val_iou: 0.2817 - val_recall: 0.5168 - val_precision: 0.8904 - lr: 1.0000e-04\n",
            "Epoch 15/50\n",
            "40/40 [==============================] - ETA: 0s - loss: 0.5318 - dice_coef: 0.5679 - iou: 0.3968 - recall: 0.7544 - precision: 0.8964\n",
            "Epoch 15: val_loss improved from 0.67972 to 0.63556, saving model to files/model_16.h5\n",
            "40/40 [==============================] - 8s 189ms/step - loss: 0.5318 - dice_coef: 0.5679 - iou: 0.3968 - recall: 0.7544 - precision: 0.8964 - val_loss: 0.6356 - val_dice_coef: 0.4752 - val_iou: 0.3121 - val_recall: 0.5536 - val_precision: 0.9220 - lr: 1.0000e-04\n",
            "Epoch 16/50\n",
            "40/40 [==============================] - ETA: 0s - loss: 0.5121 - dice_coef: 0.5832 - iou: 0.4120 - recall: 0.7515 - precision: 0.9008\n",
            "Epoch 16: val_loss improved from 0.63556 to 0.58819, saving model to files/model_16.h5\n",
            "40/40 [==============================] - 8s 187ms/step - loss: 0.5121 - dice_coef: 0.5832 - iou: 0.4120 - recall: 0.7515 - precision: 0.9008 - val_loss: 0.5882 - val_dice_coef: 0.5176 - val_iou: 0.3498 - val_recall: 0.6111 - val_precision: 0.9116 - lr: 1.0000e-04\n",
            "Epoch 17/50\n",
            "40/40 [==============================] - ETA: 0s - loss: 0.4911 - dice_coef: 0.5998 - iou: 0.4287 - recall: 0.7500 - precision: 0.9073\n",
            "Epoch 17: val_loss improved from 0.58819 to 0.56499, saving model to files/model_16.h5\n",
            "40/40 [==============================] - 8s 188ms/step - loss: 0.4911 - dice_coef: 0.5998 - iou: 0.4287 - recall: 0.7500 - precision: 0.9073 - val_loss: 0.5650 - val_dice_coef: 0.5407 - val_iou: 0.3713 - val_recall: 0.6579 - val_precision: 0.8925 - lr: 1.0000e-04\n",
            "Epoch 18/50\n",
            "40/40 [==============================] - ETA: 0s - loss: 0.4739 - dice_coef: 0.6135 - iou: 0.4428 - recall: 0.7462 - precision: 0.9112\n",
            "Epoch 18: val_loss improved from 0.56499 to 0.54587, saving model to files/model_16.h5\n",
            "40/40 [==============================] - 8s 187ms/step - loss: 0.4739 - dice_coef: 0.6135 - iou: 0.4428 - recall: 0.7462 - precision: 0.9112 - val_loss: 0.5459 - val_dice_coef: 0.5624 - val_iou: 0.3923 - val_recall: 0.6822 - val_precision: 0.8736 - lr: 1.0000e-04\n",
            "Epoch 19/50\n",
            "40/40 [==============================] - ETA: 0s - loss: 0.4538 - dice_coef: 0.6294 - iou: 0.4594 - recall: 0.7486 - precision: 0.9173\n",
            "Epoch 19: val_loss improved from 0.54587 to 0.52969, saving model to files/model_16.h5\n",
            "40/40 [==============================] - 8s 187ms/step - loss: 0.4538 - dice_coef: 0.6294 - iou: 0.4594 - recall: 0.7486 - precision: 0.9173 - val_loss: 0.5297 - val_dice_coef: 0.5777 - val_iou: 0.4073 - val_recall: 0.6864 - val_precision: 0.8677 - lr: 1.0000e-04\n",
            "Epoch 20/50\n",
            "40/40 [==============================] - ETA: 0s - loss: 0.4338 - dice_coef: 0.6450 - iou: 0.4762 - recall: 0.7490 - precision: 0.9250\n",
            "Epoch 20: val_loss improved from 0.52969 to 0.50473, saving model to files/model_16.h5\n",
            "40/40 [==============================] - 8s 187ms/step - loss: 0.4338 - dice_coef: 0.6450 - iou: 0.4762 - recall: 0.7490 - precision: 0.9250 - val_loss: 0.5047 - val_dice_coef: 0.5925 - val_iou: 0.4214 - val_recall: 0.6846 - val_precision: 0.8787 - lr: 1.0000e-04\n",
            "Epoch 21/50\n",
            "40/40 [==============================] - ETA: 0s - loss: 0.4139 - dice_coef: 0.6606 - iou: 0.4934 - recall: 0.7506 - precision: 0.9333\n",
            "Epoch 21: val_loss improved from 0.50473 to 0.49589, saving model to files/model_16.h5\n",
            "40/40 [==============================] - 8s 188ms/step - loss: 0.4139 - dice_coef: 0.6606 - iou: 0.4934 - recall: 0.7506 - precision: 0.9333 - val_loss: 0.4959 - val_dice_coef: 0.6029 - val_iou: 0.4325 - val_recall: 0.6955 - val_precision: 0.8727 - lr: 1.0000e-04\n",
            "Epoch 22/50\n",
            "40/40 [==============================] - ETA: 0s - loss: 0.3985 - dice_coef: 0.6732 - iou: 0.5077 - recall: 0.7494 - precision: 0.9373\n",
            "Epoch 22: val_loss improved from 0.49589 to 0.47956, saving model to files/model_16.h5\n",
            "40/40 [==============================] - 8s 189ms/step - loss: 0.3985 - dice_coef: 0.6732 - iou: 0.5077 - recall: 0.7494 - precision: 0.9373 - val_loss: 0.4796 - val_dice_coef: 0.6207 - val_iou: 0.4510 - val_recall: 0.6967 - val_precision: 0.8694 - lr: 1.0000e-04\n",
            "Epoch 23/50\n",
            "40/40 [==============================] - ETA: 0s - loss: 0.3852 - dice_coef: 0.6844 - iou: 0.5205 - recall: 0.7472 - precision: 0.9401\n",
            "Epoch 23: val_loss improved from 0.47956 to 0.47600, saving model to files/model_16.h5\n",
            "40/40 [==============================] - 8s 194ms/step - loss: 0.3852 - dice_coef: 0.6844 - iou: 0.5205 - recall: 0.7472 - precision: 0.9401 - val_loss: 0.4760 - val_dice_coef: 0.6241 - val_iou: 0.4547 - val_recall: 0.7053 - val_precision: 0.8658 - lr: 1.0000e-04\n",
            "Epoch 24/50\n",
            "40/40 [==============================] - ETA: 0s - loss: 0.3723 - dice_coef: 0.6954 - iou: 0.5333 - recall: 0.7458 - precision: 0.9429\n",
            "Epoch 24: val_loss improved from 0.47600 to 0.46779, saving model to files/model_16.h5\n",
            "40/40 [==============================] - 8s 189ms/step - loss: 0.3723 - dice_coef: 0.6954 - iou: 0.5333 - recall: 0.7458 - precision: 0.9429 - val_loss: 0.4678 - val_dice_coef: 0.6294 - val_iou: 0.4601 - val_recall: 0.6845 - val_precision: 0.8724 - lr: 1.0000e-04\n",
            "Epoch 25/50\n",
            "40/40 [==============================] - ETA: 0s - loss: 0.3590 - dice_coef: 0.7064 - iou: 0.5463 - recall: 0.7464 - precision: 0.9468\n",
            "Epoch 25: val_loss improved from 0.46779 to 0.45910, saving model to files/model_16.h5\n",
            "40/40 [==============================] - 8s 188ms/step - loss: 0.3590 - dice_coef: 0.7064 - iou: 0.5463 - recall: 0.7464 - precision: 0.9468 - val_loss: 0.4591 - val_dice_coef: 0.6396 - val_iou: 0.4711 - val_recall: 0.6769 - val_precision: 0.8705 - lr: 1.0000e-04\n",
            "Epoch 26/50\n",
            "40/40 [==============================] - ETA: 0s - loss: 0.3492 - dice_coef: 0.7149 - iou: 0.5565 - recall: 0.7437 - precision: 0.9481\n",
            "Epoch 26: val_loss improved from 0.45910 to 0.45340, saving model to files/model_16.h5\n",
            "40/40 [==============================] - 8s 188ms/step - loss: 0.3492 - dice_coef: 0.7149 - iou: 0.5565 - recall: 0.7437 - precision: 0.9481 - val_loss: 0.4534 - val_dice_coef: 0.6458 - val_iou: 0.4775 - val_recall: 0.7008 - val_precision: 0.8644 - lr: 1.0000e-04\n",
            "Epoch 27/50\n",
            "40/40 [==============================] - ETA: 0s - loss: 0.3390 - dice_coef: 0.7236 - iou: 0.5671 - recall: 0.7420 - precision: 0.9503\n",
            "Epoch 27: val_loss improved from 0.45340 to 0.43717, saving model to files/model_16.h5\n",
            "40/40 [==============================] - 8s 189ms/step - loss: 0.3390 - dice_coef: 0.7236 - iou: 0.5671 - recall: 0.7420 - precision: 0.9503 - val_loss: 0.4372 - val_dice_coef: 0.6549 - val_iou: 0.4876 - val_recall: 0.6519 - val_precision: 0.8966 - lr: 1.0000e-04\n",
            "Epoch 28/50\n",
            "40/40 [==============================] - ETA: 0s - loss: 0.3279 - dice_coef: 0.7329 - iou: 0.5786 - recall: 0.7425 - precision: 0.9531\n",
            "Epoch 28: val_loss improved from 0.43717 to 0.43686, saving model to files/model_16.h5\n",
            "40/40 [==============================] - 8s 188ms/step - loss: 0.3279 - dice_coef: 0.7329 - iou: 0.5786 - recall: 0.7425 - precision: 0.9531 - val_loss: 0.4369 - val_dice_coef: 0.6606 - val_iou: 0.4944 - val_recall: 0.6657 - val_precision: 0.8798 - lr: 1.0000e-04\n",
            "Epoch 29/50\n",
            "40/40 [==============================] - ETA: 0s - loss: 0.3185 - dice_coef: 0.7408 - iou: 0.5885 - recall: 0.7399 - precision: 0.9555\n",
            "Epoch 29: val_loss improved from 0.43686 to 0.42779, saving model to files/model_16.h5\n",
            "40/40 [==============================] - 8s 189ms/step - loss: 0.3185 - dice_coef: 0.7408 - iou: 0.5885 - recall: 0.7399 - precision: 0.9555 - val_loss: 0.4278 - val_dice_coef: 0.6635 - val_iou: 0.4974 - val_recall: 0.6543 - val_precision: 0.8946 - lr: 1.0000e-04\n",
            "Epoch 30/50\n",
            "40/40 [==============================] - ETA: 0s - loss: 0.3094 - dice_coef: 0.7486 - iou: 0.5984 - recall: 0.7426 - precision: 0.9573\n",
            "Epoch 30: val_loss improved from 0.42779 to 0.42685, saving model to files/model_16.h5\n",
            "40/40 [==============================] - 8s 188ms/step - loss: 0.3094 - dice_coef: 0.7486 - iou: 0.5984 - recall: 0.7426 - precision: 0.9573 - val_loss: 0.4268 - val_dice_coef: 0.6645 - val_iou: 0.4990 - val_recall: 0.6428 - val_precision: 0.8934 - lr: 1.0000e-04\n",
            "Epoch 31/50\n",
            "40/40 [==============================] - ETA: 0s - loss: 0.3010 - dice_coef: 0.7556 - iou: 0.6073 - recall: 0.7410 - precision: 0.9601\n",
            "Epoch 31: val_loss improved from 0.42685 to 0.42419, saving model to files/model_16.h5\n",
            "40/40 [==============================] - 8s 188ms/step - loss: 0.3010 - dice_coef: 0.7556 - iou: 0.6073 - recall: 0.7410 - precision: 0.9601 - val_loss: 0.4242 - val_dice_coef: 0.6759 - val_iou: 0.5118 - val_recall: 0.6964 - val_precision: 0.8628 - lr: 1.0000e-04\n",
            "Epoch 32/50\n",
            "40/40 [==============================] - ETA: 0s - loss: 0.2943 - dice_coef: 0.7614 - iou: 0.6148 - recall: 0.7385 - precision: 0.9615\n",
            "Epoch 32: val_loss improved from 0.42419 to 0.42087, saving model to files/model_16.h5\n",
            "40/40 [==============================] - 8s 187ms/step - loss: 0.2943 - dice_coef: 0.7614 - iou: 0.6148 - recall: 0.7385 - precision: 0.9615 - val_loss: 0.4209 - val_dice_coef: 0.6749 - val_iou: 0.5103 - val_recall: 0.6851 - val_precision: 0.8716 - lr: 1.0000e-04\n",
            "Epoch 33/50\n",
            "40/40 [==============================] - ETA: 0s - loss: 0.2897 - dice_coef: 0.7657 - iou: 0.6204 - recall: 0.7355 - precision: 0.9611\n",
            "Epoch 33: val_loss improved from 0.42087 to 0.40827, saving model to files/model_16.h5\n",
            "40/40 [==============================] - 8s 188ms/step - loss: 0.2897 - dice_coef: 0.7657 - iou: 0.6204 - recall: 0.7355 - precision: 0.9611 - val_loss: 0.4083 - val_dice_coef: 0.6874 - val_iou: 0.5247 - val_recall: 0.6956 - val_precision: 0.8712 - lr: 1.0000e-04\n",
            "Epoch 34/50\n",
            "40/40 [==============================] - ETA: 0s - loss: 0.2805 - dice_coef: 0.7732 - iou: 0.6304 - recall: 0.7396 - precision: 0.9637\n",
            "Epoch 34: val_loss improved from 0.40827 to 0.40746, saving model to files/model_16.h5\n",
            "40/40 [==============================] - 7s 187ms/step - loss: 0.2805 - dice_coef: 0.7732 - iou: 0.6304 - recall: 0.7396 - precision: 0.9637 - val_loss: 0.4075 - val_dice_coef: 0.6880 - val_iou: 0.5253 - val_recall: 0.6807 - val_precision: 0.8759 - lr: 1.0000e-04\n",
            "Epoch 35/50\n",
            "40/40 [==============================] - ETA: 0s - loss: 0.2692 - dice_coef: 0.7822 - iou: 0.6425 - recall: 0.7429 - precision: 0.9689\n",
            "Epoch 35: val_loss improved from 0.40746 to 0.40577, saving model to files/model_16.h5\n",
            "40/40 [==============================] - 8s 189ms/step - loss: 0.2692 - dice_coef: 0.7822 - iou: 0.6425 - recall: 0.7429 - precision: 0.9689 - val_loss: 0.4058 - val_dice_coef: 0.6901 - val_iou: 0.5285 - val_recall: 0.6446 - val_precision: 0.8902 - lr: 1.0000e-04\n",
            "Epoch 36/50\n",
            "40/40 [==============================] - ETA: 0s - loss: 0.2615 - dice_coef: 0.7887 - iou: 0.6512 - recall: 0.7441 - precision: 0.9711\n",
            "Epoch 36: val_loss did not improve from 0.40577\n",
            "40/40 [==============================] - 6s 160ms/step - loss: 0.2615 - dice_coef: 0.7887 - iou: 0.6512 - recall: 0.7441 - precision: 0.9711 - val_loss: 0.4127 - val_dice_coef: 0.6820 - val_iou: 0.5193 - val_recall: 0.5984 - val_precision: 0.9056 - lr: 1.0000e-04\n",
            "Epoch 37/50\n",
            "40/40 [==============================] - ETA: 0s - loss: 0.2563 - dice_coef: 0.7934 - iou: 0.6577 - recall: 0.7451 - precision: 0.9716\n",
            "Epoch 37: val_loss did not improve from 0.40577\n",
            "40/40 [==============================] - 7s 162ms/step - loss: 0.2563 - dice_coef: 0.7934 - iou: 0.6577 - recall: 0.7451 - precision: 0.9716 - val_loss: 0.4089 - val_dice_coef: 0.6841 - val_iou: 0.5219 - val_recall: 0.5922 - val_precision: 0.9109 - lr: 1.0000e-04\n",
            "Epoch 38/50\n",
            "40/40 [==============================] - ETA: 0s - loss: 0.2521 - dice_coef: 0.7971 - iou: 0.6628 - recall: 0.7424 - precision: 0.9728\n",
            "Epoch 38: val_loss did not improve from 0.40577\n",
            "40/40 [==============================] - 7s 163ms/step - loss: 0.2521 - dice_coef: 0.7971 - iou: 0.6628 - recall: 0.7424 - precision: 0.9728 - val_loss: 0.4065 - val_dice_coef: 0.6881 - val_iou: 0.5267 - val_recall: 0.5998 - val_precision: 0.9055 - lr: 1.0000e-04\n",
            "Epoch 39/50\n",
            "40/40 [==============================] - ETA: 0s - loss: 0.2482 - dice_coef: 0.8006 - iou: 0.6677 - recall: 0.7403 - precision: 0.9737\n",
            "Epoch 39: val_loss improved from 0.40577 to 0.40223, saving model to files/model_16.h5\n",
            "40/40 [==============================] - 10s 241ms/step - loss: 0.2482 - dice_coef: 0.8006 - iou: 0.6677 - recall: 0.7403 - precision: 0.9737 - val_loss: 0.4022 - val_dice_coef: 0.6948 - val_iou: 0.5346 - val_recall: 0.5986 - val_precision: 0.9047 - lr: 1.0000e-04\n",
            "Epoch 40/50\n",
            "40/40 [==============================] - ETA: 0s - loss: 0.2438 - dice_coef: 0.8045 - iou: 0.6730 - recall: 0.7406 - precision: 0.9747\n",
            "Epoch 40: val_loss improved from 0.40223 to 0.40083, saving model to files/model_16.h5\n",
            "40/40 [==============================] - 8s 187ms/step - loss: 0.2438 - dice_coef: 0.8045 - iou: 0.6730 - recall: 0.7406 - precision: 0.9747 - val_loss: 0.4008 - val_dice_coef: 0.6947 - val_iou: 0.5338 - val_recall: 0.6035 - val_precision: 0.9030 - lr: 1.0000e-04\n",
            "Epoch 41/50\n",
            "40/40 [==============================] - ETA: 0s - loss: 0.2433 - dice_coef: 0.8056 - iou: 0.6747 - recall: 0.7400 - precision: 0.9728\n",
            "Epoch 41: val_loss improved from 0.40083 to 0.39614, saving model to files/model_16.h5\n",
            "40/40 [==============================] - 8s 188ms/step - loss: 0.2433 - dice_coef: 0.8056 - iou: 0.6747 - recall: 0.7400 - precision: 0.9728 - val_loss: 0.3961 - val_dice_coef: 0.7008 - val_iou: 0.5412 - val_recall: 0.5983 - val_precision: 0.9028 - lr: 1.0000e-04\n",
            "Epoch 42/50\n",
            "40/40 [==============================] - ETA: 0s - loss: 0.2418 - dice_coef: 0.8072 - iou: 0.6769 - recall: 0.7391 - precision: 0.9721\n",
            "Epoch 42: val_loss did not improve from 0.39614\n",
            "40/40 [==============================] - 7s 160ms/step - loss: 0.2418 - dice_coef: 0.8072 - iou: 0.6769 - recall: 0.7391 - precision: 0.9721 - val_loss: 0.4033 - val_dice_coef: 0.6970 - val_iou: 0.5372 - val_recall: 0.5784 - val_precision: 0.9086 - lr: 1.0000e-04\n",
            "Epoch 43/50\n",
            "40/40 [==============================] - ETA: 0s - loss: 0.2346 - dice_coef: 0.8129 - iou: 0.6848 - recall: 0.7398 - precision: 0.9751\n",
            "Epoch 43: val_loss did not improve from 0.39614\n",
            "40/40 [==============================] - 6s 161ms/step - loss: 0.2346 - dice_coef: 0.8129 - iou: 0.6848 - recall: 0.7398 - precision: 0.9751 - val_loss: 0.4028 - val_dice_coef: 0.6996 - val_iou: 0.5402 - val_recall: 0.5968 - val_precision: 0.8968 - lr: 1.0000e-04\n",
            "Epoch 44/50\n",
            "40/40 [==============================] - ETA: 0s - loss: 0.2293 - dice_coef: 0.8172 - iou: 0.6911 - recall: 0.7405 - precision: 0.9767\n",
            "Epoch 44: val_loss improved from 0.39614 to 0.39427, saving model to files/model_16.h5\n",
            "40/40 [==============================] - 9s 238ms/step - loss: 0.2293 - dice_coef: 0.8172 - iou: 0.6911 - recall: 0.7405 - precision: 0.9767 - val_loss: 0.3943 - val_dice_coef: 0.7092 - val_iou: 0.5513 - val_recall: 0.6075 - val_precision: 0.8924 - lr: 1.0000e-04\n",
            "Epoch 45/50\n",
            "40/40 [==============================] - ETA: 0s - loss: 0.2264 - dice_coef: 0.8197 - iou: 0.6946 - recall: 0.7409 - precision: 0.9773\n",
            "Epoch 45: val_loss improved from 0.39427 to 0.38358, saving model to files/model_16.h5\n",
            "40/40 [==============================] - 8s 190ms/step - loss: 0.2264 - dice_coef: 0.8197 - iou: 0.6946 - recall: 0.7409 - precision: 0.9773 - val_loss: 0.3836 - val_dice_coef: 0.7166 - val_iou: 0.5603 - val_recall: 0.6247 - val_precision: 0.8916 - lr: 1.0000e-04\n",
            "Epoch 46/50\n",
            "40/40 [==============================] - ETA: 0s - loss: 0.2234 - dice_coef: 0.8224 - iou: 0.6984 - recall: 0.7408 - precision: 0.9780\n",
            "Epoch 46: val_loss improved from 0.38358 to 0.37586, saving model to files/model_16.h5\n",
            "40/40 [==============================] - 8s 189ms/step - loss: 0.2234 - dice_coef: 0.8224 - iou: 0.6984 - recall: 0.7408 - precision: 0.9780 - val_loss: 0.3759 - val_dice_coef: 0.7230 - val_iou: 0.5681 - val_recall: 0.6320 - val_precision: 0.8985 - lr: 1.0000e-04\n",
            "Epoch 47/50\n",
            "40/40 [==============================] - ETA: 0s - loss: 0.2208 - dice_coef: 0.8247 - iou: 0.7017 - recall: 0.7410 - precision: 0.9784\n",
            "Epoch 47: val_loss did not improve from 0.37586\n",
            "40/40 [==============================] - 7s 162ms/step - loss: 0.2208 - dice_coef: 0.8247 - iou: 0.7017 - recall: 0.7410 - precision: 0.9784 - val_loss: 0.3853 - val_dice_coef: 0.7181 - val_iou: 0.5624 - val_recall: 0.6148 - val_precision: 0.8968 - lr: 1.0000e-04\n",
            "Epoch 48/50\n",
            "40/40 [==============================] - ETA: 0s - loss: 0.2185 - dice_coef: 0.8265 - iou: 0.7045 - recall: 0.7410 - precision: 0.9786\n",
            "Epoch 48: val_loss did not improve from 0.37586\n",
            "40/40 [==============================] - 6s 160ms/step - loss: 0.2185 - dice_coef: 0.8265 - iou: 0.7045 - recall: 0.7410 - precision: 0.9786 - val_loss: 0.3800 - val_dice_coef: 0.7202 - val_iou: 0.5649 - val_recall: 0.6248 - val_precision: 0.8960 - lr: 1.0000e-04\n",
            "Epoch 49/50\n",
            "40/40 [==============================] - ETA: 0s - loss: 0.2155 - dice_coef: 0.8292 - iou: 0.7084 - recall: 0.7450 - precision: 0.9788\n",
            "Epoch 49: val_loss did not improve from 0.37586\n",
            "40/40 [==============================] - 6s 161ms/step - loss: 0.2155 - dice_coef: 0.8292 - iou: 0.7084 - recall: 0.7450 - precision: 0.9788 - val_loss: 0.3793 - val_dice_coef: 0.7230 - val_iou: 0.5681 - val_recall: 0.6160 - val_precision: 0.8978 - lr: 1.0000e-04\n",
            "Epoch 50/50\n",
            "40/40 [==============================] - ETA: 0s - loss: 0.2109 - dice_coef: 0.8329 - iou: 0.7137 - recall: 0.7435 - precision: 0.9805\n",
            "Epoch 50: val_loss did not improve from 0.37586\n",
            "40/40 [==============================] - 6s 160ms/step - loss: 0.2109 - dice_coef: 0.8329 - iou: 0.7137 - recall: 0.7435 - precision: 0.9805 - val_loss: 0.3781 - val_dice_coef: 0.7210 - val_iou: 0.5660 - val_recall: 0.5981 - val_precision: 0.9084 - lr: 1.0000e-04\n"
          ]
        },
        {
          "data": {
            "text/plain": [
              "<keras.callbacks.History at 0x7feff4626350>"
            ]
          },
          "execution_count": null,
          "metadata": {},
          "output_type": "execute_result"
        }
      ],
      "source": [
        "\"\"\" Seeding \"\"\"\n",
        "np.random.seed(42)\n",
        "tf.random.set_seed(42)\n",
        "\n",
        "\"\"\" Directory to save files \"\"\"\n",
        "create_dir(\"files\")\n",
        "\n",
        "\"\"\" Hyperparameters \"\"\"\n",
        "batch_size = 2\n",
        "lr = 1e-4\n",
        "num_epochs = 50\n",
        "model_path = os.path.join(\"files\", \"model_16.h5\")\n",
        "csv_path = os.path.join(\"files\", \"data_16.csv\")\n",
        "\n",
        "\"\"\" Dataset \"\"\"\n",
        "dataset_path = \"new_data\"\n",
        "train_path = os.path.join(dataset_path, \"train\")\n",
        "valid_path = os.path.join(dataset_path, \"test\")\n",
        "\n",
        "train_x, train_y = load_data(train_path)\n",
        "train_x, train_y = shuffling(train_x, train_y)\n",
        "valid_x, valid_y = load_data(valid_path)\n",
        "\n",
        "print(f\"Train: {len(train_x)} - {len(train_y)}\")\n",
        "print(f\"Valid: {len(valid_x)} - {len(valid_y)}\")\n",
        "\n",
        "train_dataset = tf_dataset(train_x, train_y, batch_size=batch_size)\n",
        "valid_dataset = tf_dataset(valid_x, valid_y, batch_size=batch_size)\n",
        "\n",
        "train_steps = len(train_x)//batch_size\n",
        "valid_setps = len(valid_x)//batch_size\n",
        "\n",
        "if len(train_x) % batch_size != 0:\n",
        "    train_steps += 1\n",
        "if len(valid_x) % batch_size != 0:\n",
        "    valid_setps += 1\n",
        "\n",
        "\"\"\" Model \"\"\"\n",
        "model_16 = build_unet((H, W, 3), num_filters=[64, 128, 256, 512, 1024], strides=[2, 2, 2, 4])\n",
        "\n",
        "model_16.compile(loss=DiceBCELoss, optimizer=Adam(lr), metrics=[dice_coef, iou, Recall(), Precision()])\n",
        "\n",
        "callbacks = [\n",
        "    ModelCheckpoint(model_path, verbose=1, save_best_only=True),\n",
        "    ReduceLROnPlateau(monitor=\"val_loss\", factor=0.1, patience=5, min_lr=1e-6, verbose=1),\n",
        "    CSVLogger(csv_path),\n",
        "    TensorBoard(),\n",
        "    EarlyStopping(monitor=\"val_loss\", patience=10, restore_best_weights=False)\n",
        "]\n",
        "\n",
        "model_16.fit(\n",
        "    train_dataset,\n",
        "    epochs=num_epochs,\n",
        "    validation_data=valid_dataset,\n",
        "    steps_per_epoch=train_steps,\n",
        "    validation_steps=valid_setps,\n",
        "    callbacks=callbacks\n",
        ")"
      ]
    },
    {
      "cell_type": "markdown",
      "metadata": {
        "id": "2frB4UHf9mr3"
      },
      "source": [
        "### Evaluate The Model:"
      ]
    },
    {
      "cell_type": "code",
      "execution_count": null,
      "metadata": {
        "colab": {
          "background_save": true
        },
        "id": "C5Kjrpfg9pDn"
      },
      "outputs": [],
      "source": [
        "import os\n",
        "os.environ[\"TF_CPP_MIN_LOG_LEVEL\"] = \"2\"\n",
        "import numpy as np\n",
        "import pandas as pd\n",
        "import cv2\n",
        "from glob import glob\n",
        "from tqdm import tqdm\n",
        "import tensorflow as tf\n",
        "from tensorflow.keras.utils import CustomObjectScope\n",
        "from sklearn.metrics import accuracy_score, f1_score, jaccard_score, precision_score, recall_score, auc\n",
        "# from metrics import dice_loss, dice_coef, iou\n",
        "# from utils import get_filenames_sorted"
      ]
    },
    {
      "cell_type": "code",
      "execution_count": null,
      "metadata": {
        "colab": {
          "background_save": true
        },
        "id": "tbgjkGOU-QeQ"
      },
      "outputs": [],
      "source": [
        "H = 512\n",
        "W = 512\n",
        "\n",
        "def create_dir(path):\n",
        "    if not os.path.exists(path):\n",
        "        os.makedirs(path)\n",
        "\n",
        "def read_image(path):\n",
        "    x = cv2.imread(path, cv2.IMREAD_COLOR)\n",
        "    # x = cv2.resize(x, (W, H))\n",
        "    ori_x = x\n",
        "    x = x/255.0\n",
        "    x = x.astype(np.float32)\n",
        "    return ori_x, x\n",
        "\n",
        "def read_mask(path):\n",
        "    x = cv2.imread(path, cv2.IMREAD_COLOR)  ## (512, 512)\n",
        "    # x = cv2.resize(x, (W, H))\n",
        "    ori_x = x\n",
        "    x = x/255.0\n",
        "    x = x.astype(np.float32)\n",
        "    x = x[:,:,0:2] # Discard the last channel \n",
        "    return ori_x, x\n",
        "\n",
        "def load_data(path):\n",
        "    x = sorted(glob(os.path.join(path, \"image\", \"*.png\")))\n",
        "    y = sorted(glob(os.path.join(path, \"mask\", \"*.png\")))\n",
        "    return x, y\n",
        "\n",
        "def save_results(ori_x, ori_y, y_pred, save_image_path, channel):\n",
        "    line = np.ones((y_pred.shape[0], 10, 3)) * 255\n",
        "\n",
        "    pred_image = np.zeros((y_pred.shape[0], y_pred.shape[1], 3))\n",
        "    _y_pred = y_pred[:, :, channel]\n",
        "    _ori_y = ori_y[:, :, channel]\n",
        "    pred_image[:, :, 0] = ((_y_pred > 0.5) & (_ori_y <= 128)) * 255\n",
        "    pred_image[:, :, 1] = ((_y_pred > 0.5) & (_ori_y  > 128)) * 255\n",
        "    pred_image[:, :, 2] = ((_ori_y  > 128) & (_y_pred <= 0.5 )) * 255\n",
        "\n",
        "    print(\" saving result\", save_image_path)\n",
        "    cv2.imwrite(save_image_path, pred_image)"
      ]
    },
    {
      "cell_type": "code",
      "execution_count": null,
      "metadata": {
        "colab": {
          "background_save": true
        },
        "id": "Jmf9-n3_-EaL",
        "outputId": "4b7affe2-26ad-4b87-eb82-7fb2b4837f95"
      },
      "outputs": [
        {
          "name": "stdout",
          "output_type": "stream",
          "text": [
            "files/model_16.h5\n"
          ]
        },
        {
          "name": "stderr",
          "output_type": "stream",
          "text": [
            "\r  0%|          | 0/20 [00:00<?, ?it/s]"
          ]
        },
        {
          "name": "stdout",
          "output_type": "stream",
          "text": [
            "01_test\n",
            "255 1.0\n",
            " saving result files_demo_od_0.1_16/01_test.png\n",
            " saving result files_demo_bv_0.1_16/01_test.png\n"
          ]
        },
        {
          "name": "stderr",
          "output_type": "stream",
          "text": [
            "\r  5%|▌         | 1/20 [00:01<00:37,  1.96s/it]"
          ]
        },
        {
          "name": "stdout",
          "output_type": "stream",
          "text": [
            "02_test\n",
            "255 1.0\n",
            " saving result files_demo_od_0.1_16/02_test.png\n",
            " saving result files_demo_bv_0.1_16/02_test.png\n"
          ]
        },
        {
          "name": "stderr",
          "output_type": "stream",
          "text": [
            "\r 10%|█         | 2/20 [00:02<00:21,  1.22s/it]"
          ]
        },
        {
          "name": "stdout",
          "output_type": "stream",
          "text": [
            "03_test\n",
            "255 1.0\n",
            " saving result files_demo_od_0.1_16/03_test.png\n",
            " saving result files_demo_bv_0.1_16/03_test.png\n"
          ]
        },
        {
          "name": "stderr",
          "output_type": "stream",
          "text": [
            "\r 15%|█▌        | 3/20 [00:03<00:16,  1.02it/s]"
          ]
        },
        {
          "name": "stdout",
          "output_type": "stream",
          "text": [
            "04_test\n",
            "255 1.0\n",
            " saving result files_demo_od_0.1_16/04_test.png\n",
            " saving result files_demo_bv_0.1_16/04_test.png\n"
          ]
        },
        {
          "name": "stderr",
          "output_type": "stream",
          "text": [
            "\r 20%|██        | 4/20 [00:04<00:14,  1.14it/s]"
          ]
        },
        {
          "name": "stdout",
          "output_type": "stream",
          "text": [
            "05_test\n",
            "255 1.0\n",
            " saving result files_demo_od_0.1_16/05_test.png\n",
            " saving result files_demo_bv_0.1_16/05_test.png\n"
          ]
        },
        {
          "name": "stderr",
          "output_type": "stream",
          "text": [
            "\r 25%|██▌       | 5/20 [00:04<00:12,  1.23it/s]"
          ]
        },
        {
          "name": "stdout",
          "output_type": "stream",
          "text": [
            "06_test\n",
            "255 1.0\n",
            " saving result files_demo_od_0.1_16/06_test.png\n",
            " saving result files_demo_bv_0.1_16/06_test.png\n"
          ]
        },
        {
          "name": "stderr",
          "output_type": "stream",
          "text": [
            "\r 30%|███       | 6/20 [00:05<00:11,  1.27it/s]"
          ]
        },
        {
          "name": "stdout",
          "output_type": "stream",
          "text": [
            "07_test\n",
            "255 1.0\n",
            " saving result files_demo_od_0.1_16/07_test.png\n",
            " saving result files_demo_bv_0.1_16/07_test.png\n"
          ]
        },
        {
          "name": "stderr",
          "output_type": "stream",
          "text": [
            "\r 35%|███▌      | 7/20 [00:06<00:09,  1.30it/s]"
          ]
        },
        {
          "name": "stdout",
          "output_type": "stream",
          "text": [
            "08_test\n",
            "255 1.0\n",
            " saving result files_demo_od_0.1_16/08_test.png\n",
            " saving result files_demo_bv_0.1_16/08_test.png\n"
          ]
        },
        {
          "name": "stderr",
          "output_type": "stream",
          "text": [
            "\r 40%|████      | 8/20 [00:06<00:08,  1.33it/s]"
          ]
        },
        {
          "name": "stdout",
          "output_type": "stream",
          "text": [
            "09_test\n",
            "255 1.0\n",
            " saving result files_demo_od_0.1_16/09_test.png\n",
            " saving result files_demo_bv_0.1_16/09_test.png\n"
          ]
        },
        {
          "name": "stderr",
          "output_type": "stream",
          "text": [
            "\r 45%|████▌     | 9/20 [00:07<00:08,  1.36it/s]"
          ]
        },
        {
          "name": "stdout",
          "output_type": "stream",
          "text": [
            "10_test\n",
            "255 1.0\n",
            " saving result files_demo_od_0.1_16/10_test.png\n",
            " saving result files_demo_bv_0.1_16/10_test.png\n"
          ]
        },
        {
          "name": "stderr",
          "output_type": "stream",
          "text": [
            "\r 50%|█████     | 10/20 [00:08<00:07,  1.37it/s]"
          ]
        },
        {
          "name": "stdout",
          "output_type": "stream",
          "text": [
            "11_test\n",
            "255 1.0\n",
            " saving result files_demo_od_0.1_16/11_test.png\n",
            " saving result files_demo_bv_0.1_16/11_test.png\n"
          ]
        },
        {
          "name": "stderr",
          "output_type": "stream",
          "text": [
            "\r 55%|█████▌    | 11/20 [00:09<00:06,  1.37it/s]"
          ]
        },
        {
          "name": "stdout",
          "output_type": "stream",
          "text": [
            "12_test\n",
            "255 1.0\n",
            " saving result files_demo_od_0.1_16/12_test.png\n",
            " saving result files_demo_bv_0.1_16/12_test.png\n"
          ]
        },
        {
          "name": "stderr",
          "output_type": "stream",
          "text": [
            "\r 60%|██████    | 12/20 [00:09<00:05,  1.38it/s]"
          ]
        },
        {
          "name": "stdout",
          "output_type": "stream",
          "text": [
            "13_test\n",
            "255 1.0\n",
            " saving result files_demo_od_0.1_16/13_test.png\n",
            " saving result files_demo_bv_0.1_16/13_test.png\n"
          ]
        },
        {
          "name": "stderr",
          "output_type": "stream",
          "text": [
            "\r 65%|██████▌   | 13/20 [00:10<00:05,  1.38it/s]"
          ]
        },
        {
          "name": "stdout",
          "output_type": "stream",
          "text": [
            "14_test\n",
            "255 1.0\n",
            " saving result files_demo_od_0.1_16/14_test.png\n",
            " saving result files_demo_bv_0.1_16/14_test.png\n"
          ]
        },
        {
          "name": "stderr",
          "output_type": "stream",
          "text": [
            "\r 70%|███████   | 14/20 [00:11<00:04,  1.38it/s]"
          ]
        },
        {
          "name": "stdout",
          "output_type": "stream",
          "text": [
            "15_test\n",
            "255 1.0\n",
            " saving result files_demo_od_0.1_16/15_test.png\n",
            " saving result files_demo_bv_0.1_16/15_test.png\n"
          ]
        },
        {
          "name": "stderr",
          "output_type": "stream",
          "text": [
            "\r 75%|███████▌  | 15/20 [00:12<00:03,  1.36it/s]"
          ]
        },
        {
          "name": "stdout",
          "output_type": "stream",
          "text": [
            "16_test\n",
            "255 1.0\n",
            " saving result files_demo_od_0.1_16/16_test.png\n",
            " saving result files_demo_bv_0.1_16/16_test.png\n"
          ]
        },
        {
          "name": "stderr",
          "output_type": "stream",
          "text": [
            "\r 80%|████████  | 16/20 [00:12<00:02,  1.36it/s]"
          ]
        },
        {
          "name": "stdout",
          "output_type": "stream",
          "text": [
            "17_test\n",
            "255 1.0\n",
            " saving result files_demo_od_0.1_16/17_test.png\n",
            " saving result files_demo_bv_0.1_16/17_test.png\n"
          ]
        },
        {
          "name": "stderr",
          "output_type": "stream",
          "text": [
            "\r 85%|████████▌ | 17/20 [00:13<00:02,  1.37it/s]"
          ]
        },
        {
          "name": "stdout",
          "output_type": "stream",
          "text": [
            "18_test\n",
            "255 1.0\n",
            " saving result files_demo_od_0.1_16/18_test.png\n",
            " saving result files_demo_bv_0.1_16/18_test.png\n"
          ]
        },
        {
          "name": "stderr",
          "output_type": "stream",
          "text": [
            "\r 90%|█████████ | 18/20 [00:14<00:01,  1.38it/s]"
          ]
        },
        {
          "name": "stdout",
          "output_type": "stream",
          "text": [
            "19_test\n",
            "255 1.0\n",
            " saving result files_demo_od_0.1_16/19_test.png\n",
            " saving result files_demo_bv_0.1_16/19_test.png\n"
          ]
        },
        {
          "name": "stderr",
          "output_type": "stream",
          "text": [
            "\r 95%|█████████▌| 19/20 [00:14<00:00,  1.39it/s]"
          ]
        },
        {
          "name": "stdout",
          "output_type": "stream",
          "text": [
            "20_test\n",
            "255 1.0\n",
            " saving result files_demo_od_0.1_16/20_test.png\n",
            " saving result files_demo_bv_0.1_16/20_test.png\n"
          ]
        },
        {
          "name": "stderr",
          "output_type": "stream",
          "text": [
            "100%|██████████| 20/20 [00:15<00:00,  1.28it/s]"
          ]
        },
        {
          "name": "stdout",
          "output_type": "stream",
          "text": [
            "\n",
            "\n",
            "****** OD ******Metrics\n",
            "Threshold: 0.1\n",
            "Accuracy: 0.99247\n",
            "F1: 0.75992 (dice score)\n",
            "Jaccard: 0.66313\n",
            "Recall: 0.90028\n",
            "Precision: 0.75051\n",
            "AUC: 0.90028\n",
            "\n",
            "\n",
            "****** BV ******Metrics\n",
            "Threshold: 0.1\n",
            "Accuracy: 0.95527\n",
            "F1: 0.78585 (dice score)\n",
            "Jaccard: 0.64930\n",
            "Recall: 0.73382\n",
            "Precision: 0.85860\n",
            "AUC: 0.73382\n",
            "\n",
            "\n"
          ]
        },
        {
          "name": "stderr",
          "output_type": "stream",
          "text": [
            "\n"
          ]
        }
      ],
      "source": [
        "from copy import deepcopy\n",
        "\n",
        "data_dir = \"new_data\"\n",
        "od_channel, bv_channel = 0, 1\n",
        "\n",
        "model_dir = \"files\"\n",
        "threshold = 0.1\n",
        "\n",
        "od_result_dir = f\"files_demo_od_{threshold}_16\"\n",
        "bv_result_dir = f\"files_demo_bv_{threshold}_16\"\n",
        "\n",
        "create_dir(od_result_dir)\n",
        "create_dir(bv_result_dir)\n",
        "\n",
        "\"\"\" Load the model \"\"\"\n",
        "model_file_name = f\"{model_dir}/model_16.h5\"\n",
        "print(model_file_name)\n",
        "# with CustomObjectScope({'iou': iou, 'dice_coef': dice_coef, 'dice_coef_OD': dice_coef_OD, 'dice_coef_MA': dice_coef_MA, 'dice_loss': dice_loss}):\n",
        "model = tf.keras.models.load_model(model_file_name, compile = False)\n",
        "\n",
        "\"\"\" Load the dataset \"\"\"\n",
        "# dataset_path = os.path.join(data_dir, \"test\")\n",
        "# test_x, test_y = get_filenames_sorted(data_dir + \"/test/image/\", data_dir + \"/test/mask/\" )\n",
        "\n",
        "dataset_path = os.path.join(\"new_data\", \"test\")\n",
        "test_x, test_y = load_data(dataset_path)\n",
        "\n",
        "\"\"\" Make the prediction and calculate the metrics values \"\"\"\n",
        "SCORE_BV, SCORE_OD = [], []\n",
        "for x, y in tqdm(zip(test_x, test_y), total=len(test_x)):\n",
        "    \"\"\" Extracting name \"\"\"\n",
        "    name = x.rsplit(\"/\", 1)[1].rsplit(\".\", 1)[0]\n",
        "    print(name)\n",
        "\n",
        "    \"\"\" Read the image and mask \"\"\"\n",
        "    ori_x, x = read_image(x)\n",
        "    ori_y, y = read_mask(y)\n",
        "\n",
        "    \"\"\" Prediction \"\"\"\n",
        "    y_pred = model.predict(np.expand_dims(x, axis=0))[0]\n",
        "    y_pred_prob = deepcopy(y_pred)\n",
        "    y_pred = y_pred > threshold\n",
        "    y_pred = y_pred.astype(np.float32)\n",
        "\n",
        "    print(np.max(ori_y), np.max(y))\n",
        "\n",
        "    \"\"\" Saving the images \"\"\"\n",
        "    save_image_path_od = f\"{od_result_dir}/{name}.png\"\n",
        "    save_results(ori_x, ori_y, y_pred, save_image_path_od, od_channel)\n",
        "\n",
        "    save_image_path_bv = f\"{bv_result_dir}/{name}.png\"\n",
        "    save_results(ori_x, ori_y, y_pred, save_image_path_bv, bv_channel)\n",
        "\n",
        "\n",
        "#     \"\"\" Calculate the od metrics \"\"\"\n",
        "    bv_pred = y_pred[:, :, bv_channel].flatten()\n",
        "    bv_pred_prob = y_pred_prob[:, :, bv_channel].flatten()\n",
        "    bv_gt = y[:, :, bv_channel].flatten()\n",
        "    acc_value = accuracy_score(bv_gt > threshold, bv_pred>threshold)\n",
        "    f1_value = f1_score(bv_gt > threshold, bv_pred>threshold, labels=[0, 1], average=\"binary\")\n",
        "    jac_value = jaccard_score(bv_gt > threshold, bv_pred>threshold, labels=[0, 1], average=\"binary\")\n",
        "    recall_value = recall_score(bv_gt > threshold, bv_pred>threshold, labels=[0, 1], average=\"binary\")\n",
        "    recall_computed = np.sum((bv_gt > threshold) & (bv_pred > threshold)) / np.sum(bv_gt > threshold)\n",
        "    precision_value = precision_score(bv_gt > threshold, bv_pred>threshold, labels=[0, 1], average=\"binary\")\n",
        "    auc_score = auc(bv_gt > threshold, bv_pred_prob)\n",
        "    SCORE_BV.append([name, acc_value, f1_value, jac_value, recall_value, precision_value, recall_computed, auc_score])\n",
        "\n",
        "#     \"\"\" Calculate the ma metrics \"\"\"\n",
        "    bv_pred = y_pred[:, :, od_channel].flatten()\n",
        "    bv_pred_prob = y_pred_prob[:, :, bv_channel].flatten()\n",
        "    bv_gt = y[:, :, od_channel].flatten()\n",
        "    acc_value = accuracy_score(bv_gt > threshold, bv_pred>threshold)\n",
        "    f1_value = f1_score(bv_gt > threshold, bv_pred>threshold, labels=[0, 1], average=\"binary\")\n",
        "    jac_value = jaccard_score(bv_gt > threshold, bv_pred>threshold, labels=[0, 1], average=\"binary\")\n",
        "    recall_value = recall_score(bv_gt > threshold, bv_pred>threshold, labels=[0, 1], average=\"binary\")\n",
        "    recall_computed = np.sum((bv_gt > threshold) & (bv_pred > threshold)) / np.sum(bv_gt > threshold)\n",
        "    precision_value = precision_score(bv_gt > threshold, bv_pred>threshold, labels=[0, 1], average=\"binary\")\n",
        "    auc_score = auc(bv_gt > threshold, bv_pred_prob)\n",
        "    SCORE_OD.append([name, acc_value, f1_value, jac_value, recall_value, precision_value, recall_computed, auc_score])\n",
        "    \n",
        "print(\"\\n\")\n",
        "for SCORE in [SCORE_OD, SCORE_BV]:\n",
        "    if SCORE == SCORE_OD:\n",
        "        print(\"****** OD ******Metrics\")\n",
        "    else:\n",
        "        print(\"****** BV ******Metrics\")\n",
        "    score = [s[1:] for s in SCORE]\n",
        "    score = np.mean(score, axis=0)\n",
        "    print(f\"Threshold:\", threshold)\n",
        "    print(f\"Accuracy: {score[0]:0.5f}\")\n",
        "    print(f\"F1: {score[1]:0.5f} (dice score)\")\n",
        "    print(f\"Jaccard: {score[2]:0.5f}\")\n",
        "    print(f\"Recall: {score[3]:0.5f}\")\n",
        "    print(f\"Precision: {score[4]:0.5f}\")\n",
        "    print(f\"AUC: {score[5]:0.5f}\")\n",
        "\n",
        "    # \"\"\" Saving \"\"\"\n",
        "    if SCORE == SCORE_OD:\n",
        "        df = pd.DataFrame(SCORE, columns=[\"Image\", \"Acc\", \"F1\", \"Jaccard\", \"Recall\", \"Precision\", \"Recall Computed\", \"AUC\"])\n",
        "        df.to_csv(f\"{od_result_dir}/score_16.csv\")\n",
        "    else:\n",
        "        df = pd.DataFrame(SCORE, columns=[\"Image\", \"Acc\", \"F1\", \"Jaccard\", \"Recall\", \"Precision\", \"Recall Computed\", \"AUC\"])\n",
        "        df.to_csv(f\"{bv_result_dir}/score_16.csv\")\n",
        "    print(\"\\n\")"
      ]
    },
    {
      "cell_type": "code",
      "execution_count": null,
      "metadata": {
        "colab": {
          "background_save": true
        },
        "id": "R0bW2gXhiAjR"
      },
      "outputs": [],
      "source": [
        ""
      ]
    }
  ],
  "metadata": {
    "accelerator": "GPU",
    "colab": {
      "background_execution": "on",
      "collapsed_sections": [],
      "machine_shape": "hm",
      "name": "Best_OD_BV_DRIVE_16.ipynb",
      "provenance": []
    },
    "kernelspec": {
      "display_name": "Python 3",
      "name": "python3"
    },
    "language_info": {
      "name": "python"
    }
  },
  "nbformat": 4,
  "nbformat_minor": 0
}