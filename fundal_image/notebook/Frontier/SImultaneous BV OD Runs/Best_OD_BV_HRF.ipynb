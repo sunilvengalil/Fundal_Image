{
  "nbformat": 4,
  "nbformat_minor": 0,
  "metadata": {
    "accelerator": "GPU",
    "colab": {
      "name": "Best_OD_BV_HRF.ipynb",
      "provenance": [],
      "collapsed_sections": []
    },
    "kernelspec": {
      "display_name": "Python 3",
      "name": "python3"
    },
    "language_info": {
      "name": "python"
    }
  },
  "cells": [
    {
      "cell_type": "markdown",
      "metadata": {
        "id": "ZIUz94YO5Y0x"
      },
      "source": [
        "### Import the required libraries and modules:"
      ]
    },
    {
      "cell_type": "code",
      "metadata": {
        "id": "RN5vXWIK27Lr"
      },
      "source": [
        "import tensorflow as tf\n",
        "from tensorflow.keras.layers import Conv2D, BatchNormalization, Activation, MaxPool2D, Conv2DTranspose, Concatenate, Input\n",
        "from tensorflow.keras.models import Model\n",
        "from tensorflow.keras import backend as K\n",
        "import os\n",
        "os.environ[\"TF_CPP_MIN_LOG_LEVEL\"] = \"2\"\n",
        "import numpy as np\n",
        "import cv2\n",
        "from glob import glob\n",
        "from sklearn.utils import shuffle\n",
        "import tensorflow as tf\n",
        "from tensorflow.keras.callbacks import ModelCheckpoint, CSVLogger, ReduceLROnPlateau, EarlyStopping, TensorBoard\n",
        "from tensorflow.keras.optimizers import Adam\n",
        "from tensorflow.keras.metrics import Recall, Precision\n",
        "import numpy as np"
      ],
      "execution_count": null,
      "outputs": []
    },
    {
      "cell_type": "code",
      "metadata": {
        "colab": {
          "base_uri": "https://localhost:8080/"
        },
        "id": "rx3CS_MbV06K",
        "outputId": "73739df4-2410-4265-835d-7411f8351bcd"
      },
      "source": [
        "from google.colab import drive\n",
        "drive.mount(\"/content/gdrive\", force_remount=True)\n",
        "%cd /content/gdrive/MyDrive/Blood_Vessel_Results/ALL_BEST_RESULTS/BV_OD_HRF"
      ],
      "execution_count": null,
      "outputs": [
        {
          "output_type": "stream",
          "name": "stdout",
          "text": [
            "Mounted at /content/gdrive\n",
            "/content/gdrive/MyDrive/Blood_Vessel_Results/ALL_BEST_RESULTS/BV_OD_HRF\n"
          ]
        }
      ]
    },
    {
      "cell_type": "markdown",
      "metadata": {
        "id": "MQcINXFE59yv"
      },
      "source": [
        "### Unzip the data:"
      ]
    },
    {
      "cell_type": "code",
      "metadata": {
        "id": "mA5voGSj58wH"
      },
      "source": [
        "# !unzip new_data.zip"
      ],
      "execution_count": null,
      "outputs": []
    },
    {
      "cell_type": "markdown",
      "metadata": {
        "id": "_WctlpFt6hx4"
      },
      "source": [
        "### Construct the Model:"
      ]
    },
    {
      "cell_type": "code",
      "metadata": {
        "colab": {
          "base_uri": "https://localhost:8080/"
        },
        "id": "epeNiZGQ5gSW",
        "outputId": "033947c8-d70d-4a1d-e2ab-7134b6d1fadf"
      },
      "source": [
        "def conv_block(inputs, num_filters):\n",
        "    x = Conv2D(num_filters, 3, padding=\"same\")(inputs)\n",
        "    x = BatchNormalization()(x)\n",
        "    x = Activation(\"relu\")(x)\n",
        "\n",
        "    x = Conv2D(num_filters, 3, padding=\"same\")(x)\n",
        "    x = BatchNormalization()(x)\n",
        "    x = Activation(\"relu\")(x)\n",
        "\n",
        "    return x\n",
        "\n",
        "def encoder_block(inputs, num_filters):\n",
        "    x = conv_block(inputs, num_filters)\n",
        "    p = MaxPool2D((2, 2))(x)\n",
        "    return x, p\n",
        "\n",
        "def decoder_block(inputs, skip_features, num_filters):\n",
        "    x = Conv2DTranspose(num_filters, (2, 2), strides=2, padding=\"same\")(inputs)\n",
        "    x = Concatenate()([x, skip_features])\n",
        "    x = conv_block(x, num_filters)\n",
        "    return x\n",
        "\n",
        "def build_unet(input_shape):\n",
        "    inputs = Input(input_shape)\n",
        "\n",
        "    s1, p1 = encoder_block(inputs, 64)\n",
        "    s2, p2 = encoder_block(p1, 128)\n",
        "    s3, p3 = encoder_block(p2, 256)\n",
        "    s4, p4 = encoder_block(p3, 512)\n",
        "\n",
        "    b1 = conv_block(p4, 1024)\n",
        "\n",
        "    d1 = decoder_block(b1, s4, 512)\n",
        "    d2 = decoder_block(d1, s3, 256)\n",
        "    d3 = decoder_block(d2, s2, 128)\n",
        "    d4 = decoder_block(d3, s1, 64)\n",
        "\n",
        "    outputs = Conv2D(2, 1, padding=\"same\", activation=\"sigmoid\")(d4)\n",
        "\n",
        "    model = Model(inputs, outputs, name=\"UNET\")\n",
        "    return model\n",
        "\n",
        "input_shape = (512, 512, 3)\n",
        "model = build_unet(input_shape)\n",
        "model.summary()"
      ],
      "execution_count": null,
      "outputs": [
        {
          "output_type": "stream",
          "name": "stdout",
          "text": [
            "Model: \"UNET\"\n",
            "__________________________________________________________________________________________________\n",
            " Layer (type)                   Output Shape         Param #     Connected to                     \n",
            "==================================================================================================\n",
            " input_1 (InputLayer)           [(None, 512, 512, 3  0           []                               \n",
            "                                )]                                                                \n",
            "                                                                                                  \n",
            " conv2d (Conv2D)                (None, 512, 512, 64  1792        ['input_1[0][0]']                \n",
            "                                )                                                                 \n",
            "                                                                                                  \n",
            " batch_normalization (BatchNorm  (None, 512, 512, 64  256        ['conv2d[0][0]']                 \n",
            " alization)                     )                                                                 \n",
            "                                                                                                  \n",
            " activation (Activation)        (None, 512, 512, 64  0           ['batch_normalization[0][0]']    \n",
            "                                )                                                                 \n",
            "                                                                                                  \n",
            " conv2d_1 (Conv2D)              (None, 512, 512, 64  36928       ['activation[0][0]']             \n",
            "                                )                                                                 \n",
            "                                                                                                  \n",
            " batch_normalization_1 (BatchNo  (None, 512, 512, 64  256        ['conv2d_1[0][0]']               \n",
            " rmalization)                   )                                                                 \n",
            "                                                                                                  \n",
            " activation_1 (Activation)      (None, 512, 512, 64  0           ['batch_normalization_1[0][0]']  \n",
            "                                )                                                                 \n",
            "                                                                                                  \n",
            " max_pooling2d (MaxPooling2D)   (None, 256, 256, 64  0           ['activation_1[0][0]']           \n",
            "                                )                                                                 \n",
            "                                                                                                  \n",
            " conv2d_2 (Conv2D)              (None, 256, 256, 12  73856       ['max_pooling2d[0][0]']          \n",
            "                                8)                                                                \n",
            "                                                                                                  \n",
            " batch_normalization_2 (BatchNo  (None, 256, 256, 12  512        ['conv2d_2[0][0]']               \n",
            " rmalization)                   8)                                                                \n",
            "                                                                                                  \n",
            " activation_2 (Activation)      (None, 256, 256, 12  0           ['batch_normalization_2[0][0]']  \n",
            "                                8)                                                                \n",
            "                                                                                                  \n",
            " conv2d_3 (Conv2D)              (None, 256, 256, 12  147584      ['activation_2[0][0]']           \n",
            "                                8)                                                                \n",
            "                                                                                                  \n",
            " batch_normalization_3 (BatchNo  (None, 256, 256, 12  512        ['conv2d_3[0][0]']               \n",
            " rmalization)                   8)                                                                \n",
            "                                                                                                  \n",
            " activation_3 (Activation)      (None, 256, 256, 12  0           ['batch_normalization_3[0][0]']  \n",
            "                                8)                                                                \n",
            "                                                                                                  \n",
            " max_pooling2d_1 (MaxPooling2D)  (None, 128, 128, 12  0          ['activation_3[0][0]']           \n",
            "                                8)                                                                \n",
            "                                                                                                  \n",
            " conv2d_4 (Conv2D)              (None, 128, 128, 25  295168      ['max_pooling2d_1[0][0]']        \n",
            "                                6)                                                                \n",
            "                                                                                                  \n",
            " batch_normalization_4 (BatchNo  (None, 128, 128, 25  1024       ['conv2d_4[0][0]']               \n",
            " rmalization)                   6)                                                                \n",
            "                                                                                                  \n",
            " activation_4 (Activation)      (None, 128, 128, 25  0           ['batch_normalization_4[0][0]']  \n",
            "                                6)                                                                \n",
            "                                                                                                  \n",
            " conv2d_5 (Conv2D)              (None, 128, 128, 25  590080      ['activation_4[0][0]']           \n",
            "                                6)                                                                \n",
            "                                                                                                  \n",
            " batch_normalization_5 (BatchNo  (None, 128, 128, 25  1024       ['conv2d_5[0][0]']               \n",
            " rmalization)                   6)                                                                \n",
            "                                                                                                  \n",
            " activation_5 (Activation)      (None, 128, 128, 25  0           ['batch_normalization_5[0][0]']  \n",
            "                                6)                                                                \n",
            "                                                                                                  \n",
            " max_pooling2d_2 (MaxPooling2D)  (None, 64, 64, 256)  0          ['activation_5[0][0]']           \n",
            "                                                                                                  \n",
            " conv2d_6 (Conv2D)              (None, 64, 64, 512)  1180160     ['max_pooling2d_2[0][0]']        \n",
            "                                                                                                  \n",
            " batch_normalization_6 (BatchNo  (None, 64, 64, 512)  2048       ['conv2d_6[0][0]']               \n",
            " rmalization)                                                                                     \n",
            "                                                                                                  \n",
            " activation_6 (Activation)      (None, 64, 64, 512)  0           ['batch_normalization_6[0][0]']  \n",
            "                                                                                                  \n",
            " conv2d_7 (Conv2D)              (None, 64, 64, 512)  2359808     ['activation_6[0][0]']           \n",
            "                                                                                                  \n",
            " batch_normalization_7 (BatchNo  (None, 64, 64, 512)  2048       ['conv2d_7[0][0]']               \n",
            " rmalization)                                                                                     \n",
            "                                                                                                  \n",
            " activation_7 (Activation)      (None, 64, 64, 512)  0           ['batch_normalization_7[0][0]']  \n",
            "                                                                                                  \n",
            " max_pooling2d_3 (MaxPooling2D)  (None, 32, 32, 512)  0          ['activation_7[0][0]']           \n",
            "                                                                                                  \n",
            " conv2d_8 (Conv2D)              (None, 32, 32, 1024  4719616     ['max_pooling2d_3[0][0]']        \n",
            "                                )                                                                 \n",
            "                                                                                                  \n",
            " batch_normalization_8 (BatchNo  (None, 32, 32, 1024  4096       ['conv2d_8[0][0]']               \n",
            " rmalization)                   )                                                                 \n",
            "                                                                                                  \n",
            " activation_8 (Activation)      (None, 32, 32, 1024  0           ['batch_normalization_8[0][0]']  \n",
            "                                )                                                                 \n",
            "                                                                                                  \n",
            " conv2d_9 (Conv2D)              (None, 32, 32, 1024  9438208     ['activation_8[0][0]']           \n",
            "                                )                                                                 \n",
            "                                                                                                  \n",
            " batch_normalization_9 (BatchNo  (None, 32, 32, 1024  4096       ['conv2d_9[0][0]']               \n",
            " rmalization)                   )                                                                 \n",
            "                                                                                                  \n",
            " activation_9 (Activation)      (None, 32, 32, 1024  0           ['batch_normalization_9[0][0]']  \n",
            "                                )                                                                 \n",
            "                                                                                                  \n",
            " conv2d_transpose (Conv2DTransp  (None, 64, 64, 512)  2097664    ['activation_9[0][0]']           \n",
            " ose)                                                                                             \n",
            "                                                                                                  \n",
            " concatenate (Concatenate)      (None, 64, 64, 1024  0           ['conv2d_transpose[0][0]',       \n",
            "                                )                                 'activation_7[0][0]']           \n",
            "                                                                                                  \n",
            " conv2d_10 (Conv2D)             (None, 64, 64, 512)  4719104     ['concatenate[0][0]']            \n",
            "                                                                                                  \n",
            " batch_normalization_10 (BatchN  (None, 64, 64, 512)  2048       ['conv2d_10[0][0]']              \n",
            " ormalization)                                                                                    \n",
            "                                                                                                  \n",
            " activation_10 (Activation)     (None, 64, 64, 512)  0           ['batch_normalization_10[0][0]'] \n",
            "                                                                                                  \n",
            " conv2d_11 (Conv2D)             (None, 64, 64, 512)  2359808     ['activation_10[0][0]']          \n",
            "                                                                                                  \n",
            " batch_normalization_11 (BatchN  (None, 64, 64, 512)  2048       ['conv2d_11[0][0]']              \n",
            " ormalization)                                                                                    \n",
            "                                                                                                  \n",
            " activation_11 (Activation)     (None, 64, 64, 512)  0           ['batch_normalization_11[0][0]'] \n",
            "                                                                                                  \n",
            " conv2d_transpose_1 (Conv2DTran  (None, 128, 128, 25  524544     ['activation_11[0][0]']          \n",
            " spose)                         6)                                                                \n",
            "                                                                                                  \n",
            " concatenate_1 (Concatenate)    (None, 128, 128, 51  0           ['conv2d_transpose_1[0][0]',     \n",
            "                                2)                                'activation_5[0][0]']           \n",
            "                                                                                                  \n",
            " conv2d_12 (Conv2D)             (None, 128, 128, 25  1179904     ['concatenate_1[0][0]']          \n",
            "                                6)                                                                \n",
            "                                                                                                  \n",
            " batch_normalization_12 (BatchN  (None, 128, 128, 25  1024       ['conv2d_12[0][0]']              \n",
            " ormalization)                  6)                                                                \n",
            "                                                                                                  \n",
            " activation_12 (Activation)     (None, 128, 128, 25  0           ['batch_normalization_12[0][0]'] \n",
            "                                6)                                                                \n",
            "                                                                                                  \n",
            " conv2d_13 (Conv2D)             (None, 128, 128, 25  590080      ['activation_12[0][0]']          \n",
            "                                6)                                                                \n",
            "                                                                                                  \n",
            " batch_normalization_13 (BatchN  (None, 128, 128, 25  1024       ['conv2d_13[0][0]']              \n",
            " ormalization)                  6)                                                                \n",
            "                                                                                                  \n",
            " activation_13 (Activation)     (None, 128, 128, 25  0           ['batch_normalization_13[0][0]'] \n",
            "                                6)                                                                \n",
            "                                                                                                  \n",
            " conv2d_transpose_2 (Conv2DTran  (None, 256, 256, 12  131200     ['activation_13[0][0]']          \n",
            " spose)                         8)                                                                \n",
            "                                                                                                  \n",
            " concatenate_2 (Concatenate)    (None, 256, 256, 25  0           ['conv2d_transpose_2[0][0]',     \n",
            "                                6)                                'activation_3[0][0]']           \n",
            "                                                                                                  \n",
            " conv2d_14 (Conv2D)             (None, 256, 256, 12  295040      ['concatenate_2[0][0]']          \n",
            "                                8)                                                                \n",
            "                                                                                                  \n",
            " batch_normalization_14 (BatchN  (None, 256, 256, 12  512        ['conv2d_14[0][0]']              \n",
            " ormalization)                  8)                                                                \n",
            "                                                                                                  \n",
            " activation_14 (Activation)     (None, 256, 256, 12  0           ['batch_normalization_14[0][0]'] \n",
            "                                8)                                                                \n",
            "                                                                                                  \n",
            " conv2d_15 (Conv2D)             (None, 256, 256, 12  147584      ['activation_14[0][0]']          \n",
            "                                8)                                                                \n",
            "                                                                                                  \n",
            " batch_normalization_15 (BatchN  (None, 256, 256, 12  512        ['conv2d_15[0][0]']              \n",
            " ormalization)                  8)                                                                \n",
            "                                                                                                  \n",
            " activation_15 (Activation)     (None, 256, 256, 12  0           ['batch_normalization_15[0][0]'] \n",
            "                                8)                                                                \n",
            "                                                                                                  \n",
            " conv2d_transpose_3 (Conv2DTran  (None, 512, 512, 64  32832      ['activation_15[0][0]']          \n",
            " spose)                         )                                                                 \n",
            "                                                                                                  \n",
            " concatenate_3 (Concatenate)    (None, 512, 512, 12  0           ['conv2d_transpose_3[0][0]',     \n",
            "                                8)                                'activation_1[0][0]']           \n",
            "                                                                                                  \n",
            " conv2d_16 (Conv2D)             (None, 512, 512, 64  73792       ['concatenate_3[0][0]']          \n",
            "                                )                                                                 \n",
            "                                                                                                  \n",
            " batch_normalization_16 (BatchN  (None, 512, 512, 64  256        ['conv2d_16[0][0]']              \n",
            " ormalization)                  )                                                                 \n",
            "                                                                                                  \n",
            " activation_16 (Activation)     (None, 512, 512, 64  0           ['batch_normalization_16[0][0]'] \n",
            "                                )                                                                 \n",
            "                                                                                                  \n",
            " conv2d_17 (Conv2D)             (None, 512, 512, 64  36928       ['activation_16[0][0]']          \n",
            "                                )                                                                 \n",
            "                                                                                                  \n",
            " batch_normalization_17 (BatchN  (None, 512, 512, 64  256        ['conv2d_17[0][0]']              \n",
            " ormalization)                  )                                                                 \n",
            "                                                                                                  \n",
            " activation_17 (Activation)     (None, 512, 512, 64  0           ['batch_normalization_17[0][0]'] \n",
            "                                )                                                                 \n",
            "                                                                                                  \n",
            " conv2d_18 (Conv2D)             (None, 512, 512, 2)  130         ['activation_17[0][0]']          \n",
            "                                                                                                  \n",
            "==================================================================================================\n",
            "Total params: 31,055,362\n",
            "Trainable params: 31,043,586\n",
            "Non-trainable params: 11,776\n",
            "__________________________________________________________________________________________________\n"
          ]
        }
      ]
    },
    {
      "cell_type": "markdown",
      "metadata": {
        "id": "TWKUCE3_6vBv"
      },
      "source": [
        "### Adding the Metrics:"
      ]
    },
    {
      "cell_type": "code",
      "metadata": {
        "id": "s5HXET5Z6uZX"
      },
      "source": [
        "def iou(y_true, y_pred):\n",
        "    def f(y_true, y_pred):\n",
        "        intersection = (y_true * y_pred).sum()\n",
        "        union = y_true.sum() + y_pred.sum() - intersection\n",
        "        x = (intersection + 1e-15) / (union + 1e-15)\n",
        "        x = x.astype(np.float32)\n",
        "        return x\n",
        "    return tf.numpy_function(f, [y_true, y_pred], tf.float32)\n",
        "\n",
        "smooth = 1e-15\n",
        "def dice_coef(y_true, y_pred):\n",
        "    y_true = tf.keras.layers.Flatten()(y_true)\n",
        "    y_pred = tf.keras.layers.Flatten()(y_pred)\n",
        "    intersection = tf.reduce_sum(y_true * y_pred)\n",
        "    return (2. * intersection + smooth) / (tf.reduce_sum(y_true) + tf.reduce_sum(y_pred) + smooth)\n",
        "\n",
        "def dice_loss(y_true, y_pred):\n",
        "    return 1.0 - dice_coef(y_true, y_pred)\n",
        "\n",
        "def DiceBCELoss(y_true, y_pred):\n",
        "\n",
        "    inputs = tf.keras.layers.Flatten()(y_true)\n",
        "    targets = tf.keras.layers.Flatten()(y_pred)\n",
        "\n",
        "    intersection = tf.reduce_sum(inputs * targets)\n",
        "    dice_loss = 1 - (2.*intersection + smooth)/(tf.reduce_sum(y_true) + tf.reduce_sum(y_pred) + smooth)\n",
        "    BCE = tf.keras.losses.BinaryCrossentropy()\n",
        "    Dice_BCE = BCE(inputs, targets) + dice_loss\n",
        "\n",
        "    return Dice_BCE"
      ],
      "execution_count": null,
      "outputs": []
    },
    {
      "cell_type": "markdown",
      "metadata": {
        "id": "fuGIkqEH65dX"
      },
      "source": [
        "### Training the Model:"
      ]
    },
    {
      "cell_type": "code",
      "metadata": {
        "id": "NNdxwX_-5udw"
      },
      "source": [
        "W = 512\n",
        "H = 512\n",
        "\n",
        "def create_dir(path):\n",
        "    if not os.path.exists(path):\n",
        "        os.makedirs(path)\n",
        "\n",
        "def load_data(path):\n",
        "    x = sorted(glob(os.path.join(path, \"image\", \"*.png\")))\n",
        "    y = sorted(glob(os.path.join(path, \"mask\", \"*.png\")))\n",
        "    return x, y\n",
        "\n",
        "def shuffling(x, y):\n",
        "    x, y = shuffle(x, y, random_state=42)\n",
        "    return x, y\n",
        "\n",
        "def read_image(path):\n",
        "    path = path.decode()\n",
        "    x = cv2.imread(path, cv2.IMREAD_COLOR)\n",
        "    # x = cv2.resize(x, (W, H))\n",
        "    x = x/255.0\n",
        "    x = x.astype(np.float32)\n",
        "    return x\n",
        "\n",
        "def read_mask(path):\n",
        "    path = path.decode()\n",
        "    x = cv2.imread(path, cv2.IMREAD_COLOR)  ## (512, 512, 3)\n",
        "    # x = cv2.resize(x, (W, H))\n",
        "    x = x/255.0\n",
        "    x = x.astype(np.float32)\n",
        "    x = x[:,:,0:2] # Discard the last channel \n",
        "\n",
        "    return x\n",
        "\n",
        "def tf_parse(x, y):\n",
        "    def _parse(x, y):\n",
        "        x = read_image(x)\n",
        "        y = read_mask(y)\n",
        "        return x, y\n",
        "\n",
        "    x, y = tf.numpy_function(_parse, [x, y], [tf.float32, tf.float32])\n",
        "    x.set_shape([H, W, 3])\n",
        "    y.set_shape([H, W, 2])\n",
        "    return x, y\n",
        "\n",
        "def tf_dataset(X, Y, batch_size=2):\n",
        "    dataset = tf.data.Dataset.from_tensor_slices((X, Y))\n",
        "    dataset = dataset.map(tf_parse)\n",
        "    dataset = dataset.batch(batch_size)\n",
        "    dataset = dataset.prefetch(4)\n",
        "    return dataset"
      ],
      "execution_count": null,
      "outputs": []
    },
    {
      "cell_type": "code",
      "metadata": {
        "colab": {
          "base_uri": "https://localhost:8080/"
        },
        "id": "R9oxQCQo7Jnw",
        "outputId": "17408c2a-6579-49e7-8745-9446090c9400"
      },
      "source": [
        "\"\"\" Seeding \"\"\"\n",
        "np.random.seed(42)\n",
        "tf.random.set_seed(42)\n",
        "\n",
        "\"\"\" Directory to save files \"\"\"\n",
        "create_dir(\"files_working\")\n",
        "\n",
        "\"\"\" Hyperparameters \"\"\"\n",
        "batch_size = 2\n",
        "lr = 1e-4\n",
        "num_epochs = 50\n",
        "model_path = os.path.join(\"files_working\", \"model.h5\")\n",
        "csv_path = os.path.join(\"files_working\", \"data.csv\")\n",
        "\n",
        "\"\"\" Dataset \"\"\"\n",
        "dataset_path = \"new_data\"\n",
        "train_path = os.path.join(dataset_path, \"train\")\n",
        "valid_path = os.path.join(dataset_path, \"test\")\n",
        "\n",
        "train_x, train_y = load_data(train_path)\n",
        "train_x, train_y = shuffling(train_x, train_y)\n",
        "valid_x, valid_y = load_data(valid_path)\n",
        "\n",
        "print(f\"Train: {len(train_x)} - {len(train_y)}\")\n",
        "print(f\"Valid: {len(valid_x)} - {len(valid_y)}\")\n",
        "\n",
        "train_dataset = tf_dataset(train_x, train_y, batch_size=batch_size)\n",
        "valid_dataset = tf_dataset(valid_x, valid_y, batch_size=batch_size)\n",
        "\n",
        "train_steps = len(train_x)//batch_size\n",
        "valid_setps = len(valid_x)//batch_size\n",
        "\n",
        "if len(train_x) % batch_size != 0:\n",
        "    train_steps += 1\n",
        "if len(valid_x) % batch_size != 0:\n",
        "    valid_setps += 1\n",
        "\n",
        "\"\"\" Model \"\"\"\n",
        "model = build_unet((H, W, 3))\n",
        "# model.compile(loss=tf.keras.losses.BinaryCrossentropy(), optimizer=Adam(lr), metrics=[dice_coef, iou, Recall(), Precision()])\n",
        "# model.compile(loss=dice_loss, optimizer=Adam(lr), metrics=[iou, dice_coef, dice_coef_OD, dice_coef_MA, Recall(), Precision()])\n",
        "# model.summary()\n",
        "\n",
        "model.compile(loss=DiceBCELoss, optimizer=Adam(lr), metrics=[dice_coef, iou, Recall(), Precision()])\n",
        "\n",
        "callbacks = [\n",
        "    ModelCheckpoint(model_path, verbose=1, save_best_only=True),\n",
        "    ReduceLROnPlateau(monitor=\"val_loss\", factor=0.1, patience=5, min_lr=1e-6, verbose=1),\n",
        "    CSVLogger(csv_path),\n",
        "    TensorBoard(),\n",
        "    EarlyStopping(monitor=\"val_loss\", patience=10, restore_best_weights=False)\n",
        "]\n",
        "\n",
        "model.fit(\n",
        "    train_dataset,\n",
        "    epochs=num_epochs,\n",
        "    validation_data=valid_dataset,\n",
        "    steps_per_epoch=train_steps,\n",
        "    validation_steps=valid_setps,\n",
        "    callbacks=callbacks\n",
        ")"
      ],
      "execution_count": null,
      "outputs": [
        {
          "output_type": "stream",
          "name": "stdout",
          "text": [
            "Train: 40 - 40\n",
            "Valid: 5 - 5\n",
            "Epoch 1/50\n",
            "20/20 [==============================] - ETA: 0s - loss: 1.3693 - dice_coef: 0.1587 - iou: 0.0864 - recall: 0.7413 - precision: 0.1825\n",
            "Epoch 00001: val_loss improved from inf to 1.58401, saving model to files_working/model.h5\n",
            "20/20 [==============================] - 81s 2s/step - loss: 1.3693 - dice_coef: 0.1587 - iou: 0.0864 - recall: 0.7413 - precision: 0.1825 - val_loss: 1.5840 - val_dice_coef: 0.0908 - val_iou: 0.0476 - val_recall: 0.0114 - val_precision: 0.3079 - lr: 1.0000e-04\n",
            "Epoch 2/50\n",
            "20/20 [==============================] - ETA: 0s - loss: 1.1096 - dice_coef: 0.2238 - iou: 0.1261 - recall: 0.6879 - precision: 0.5071\n",
            "Epoch 00002: val_loss improved from 1.58401 to 1.53412, saving model to files_working/model.h5\n",
            "20/20 [==============================] - 39s 2s/step - loss: 1.1096 - dice_coef: 0.2238 - iou: 0.1261 - recall: 0.6879 - precision: 0.5071 - val_loss: 1.5341 - val_dice_coef: 0.0899 - val_iou: 0.0471 - val_recall: 0.0000e+00 - val_precision: 0.0000e+00 - lr: 1.0000e-04\n",
            "Epoch 3/50\n",
            "20/20 [==============================] - ETA: 0s - loss: 0.9991 - dice_coef: 0.2732 - iou: 0.1583 - recall: 0.7361 - precision: 0.6420\n",
            "Epoch 00003: val_loss did not improve from 1.53412\n",
            "20/20 [==============================] - 35s 2s/step - loss: 0.9991 - dice_coef: 0.2732 - iou: 0.1583 - recall: 0.7361 - precision: 0.6420 - val_loss: 1.5348 - val_dice_coef: 0.0854 - val_iou: 0.0446 - val_recall: 0.0412 - val_precision: 0.0181 - lr: 1.0000e-04\n",
            "Epoch 4/50\n",
            "20/20 [==============================] - ETA: 0s - loss: 0.9343 - dice_coef: 0.3063 - iou: 0.1809 - recall: 0.7703 - precision: 0.6858\n",
            "Epoch 00004: val_loss improved from 1.53412 to 1.42279, saving model to files_working/model.h5\n",
            "20/20 [==============================] - 39s 2s/step - loss: 0.9343 - dice_coef: 0.3063 - iou: 0.1809 - recall: 0.7703 - precision: 0.6858 - val_loss: 1.4228 - val_dice_coef: 0.0870 - val_iou: 0.0455 - val_recall: 0.0000e+00 - val_precision: 0.0000e+00 - lr: 1.0000e-04\n",
            "Epoch 5/50\n",
            "20/20 [==============================] - ETA: 0s - loss: 0.8920 - dice_coef: 0.3285 - iou: 0.1966 - recall: 0.7872 - precision: 0.7105\n",
            "Epoch 00005: val_loss improved from 1.42279 to 1.34663, saving model to files_working/model.h5\n",
            "20/20 [==============================] - 38s 2s/step - loss: 0.8920 - dice_coef: 0.3285 - iou: 0.1966 - recall: 0.7872 - precision: 0.7105 - val_loss: 1.3466 - val_dice_coef: 0.0875 - val_iou: 0.0458 - val_recall: 0.0000e+00 - val_precision: 0.0000e+00 - lr: 1.0000e-04\n",
            "Epoch 6/50\n",
            "20/20 [==============================] - ETA: 0s - loss: 0.8608 - dice_coef: 0.3462 - iou: 0.2094 - recall: 0.7979 - precision: 0.7257\n",
            "Epoch 00006: val_loss improved from 1.34663 to 1.29210, saving model to files_working/model.h5\n",
            "20/20 [==============================] - 38s 2s/step - loss: 0.8608 - dice_coef: 0.3462 - iou: 0.2094 - recall: 0.7979 - precision: 0.7257 - val_loss: 1.2921 - val_dice_coef: 0.0851 - val_iou: 0.0445 - val_recall: 0.0000e+00 - val_precision: 0.0000e+00 - lr: 1.0000e-04\n",
            "Epoch 7/50\n",
            "20/20 [==============================] - ETA: 0s - loss: 0.8330 - dice_coef: 0.3625 - iou: 0.2215 - recall: 0.8072 - precision: 0.7390\n",
            "Epoch 00007: val_loss improved from 1.29210 to 1.24190, saving model to files_working/model.h5\n",
            "20/20 [==============================] - 38s 2s/step - loss: 0.8330 - dice_coef: 0.3625 - iou: 0.2215 - recall: 0.8072 - precision: 0.7390 - val_loss: 1.2419 - val_dice_coef: 0.0844 - val_iou: 0.0441 - val_recall: 0.0000e+00 - val_precision: 0.0000e+00 - lr: 1.0000e-04\n",
            "Epoch 8/50\n",
            "20/20 [==============================] - ETA: 0s - loss: 0.8091 - dice_coef: 0.3767 - iou: 0.2321 - recall: 0.8122 - precision: 0.7526\n",
            "Epoch 00008: val_loss improved from 1.24190 to 1.20690, saving model to files_working/model.h5\n",
            "20/20 [==============================] - 38s 2s/step - loss: 0.8091 - dice_coef: 0.3767 - iou: 0.2321 - recall: 0.8122 - precision: 0.7526 - val_loss: 1.2069 - val_dice_coef: 0.0827 - val_iou: 0.0432 - val_recall: 0.0000e+00 - val_precision: 0.0000e+00 - lr: 1.0000e-04\n",
            "Epoch 9/50\n",
            "20/20 [==============================] - ETA: 0s - loss: 0.7877 - dice_coef: 0.3891 - iou: 0.2416 - recall: 0.8142 - precision: 0.7674\n",
            "Epoch 00009: val_loss improved from 1.20690 to 1.19220, saving model to files_working/model.h5\n",
            "20/20 [==============================] - 38s 2s/step - loss: 0.7877 - dice_coef: 0.3891 - iou: 0.2416 - recall: 0.8142 - precision: 0.7674 - val_loss: 1.1922 - val_dice_coef: 0.0804 - val_iou: 0.0419 - val_recall: 0.0000e+00 - val_precision: 0.0000e+00 - lr: 1.0000e-04\n",
            "Epoch 10/50\n",
            "20/20 [==============================] - ETA: 0s - loss: 0.7692 - dice_coef: 0.4002 - iou: 0.2502 - recall: 0.8148 - precision: 0.7761\n",
            "Epoch 00010: val_loss improved from 1.19220 to 1.15319, saving model to files_working/model.h5\n",
            "20/20 [==============================] - 39s 2s/step - loss: 0.7692 - dice_coef: 0.4002 - iou: 0.2502 - recall: 0.8148 - precision: 0.7761 - val_loss: 1.1532 - val_dice_coef: 0.0834 - val_iou: 0.0435 - val_recall: 0.0000e+00 - val_precision: 0.0000e+00 - lr: 1.0000e-04\n",
            "Epoch 11/50\n",
            "20/20 [==============================] - ETA: 0s - loss: 0.7499 - dice_coef: 0.4118 - iou: 0.2594 - recall: 0.8174 - precision: 0.7855\n",
            "Epoch 00011: val_loss improved from 1.15319 to 1.13832, saving model to files_working/model.h5\n",
            "20/20 [==============================] - 39s 2s/step - loss: 0.7499 - dice_coef: 0.4118 - iou: 0.2594 - recall: 0.8174 - precision: 0.7855 - val_loss: 1.1383 - val_dice_coef: 0.0880 - val_iou: 0.0461 - val_recall: 0.0000e+00 - val_precision: 0.0000e+00 - lr: 1.0000e-04\n",
            "Epoch 12/50\n",
            "20/20 [==============================] - ETA: 0s - loss: 0.7303 - dice_coef: 0.4241 - iou: 0.2692 - recall: 0.8220 - precision: 0.7949\n",
            "Epoch 00012: val_loss improved from 1.13832 to 1.13198, saving model to files_working/model.h5\n",
            "20/20 [==============================] - 39s 2s/step - loss: 0.7303 - dice_coef: 0.4241 - iou: 0.2692 - recall: 0.8220 - precision: 0.7949 - val_loss: 1.1320 - val_dice_coef: 0.0813 - val_iou: 0.0424 - val_recall: 0.0000e+00 - val_precision: 0.0000e+00 - lr: 1.0000e-04\n",
            "Epoch 13/50\n",
            "20/20 [==============================] - ETA: 0s - loss: 0.7120 - dice_coef: 0.4357 - iou: 0.2786 - recall: 0.8244 - precision: 0.8033\n",
            "Epoch 00013: val_loss improved from 1.13198 to 1.12677, saving model to files_working/model.h5\n",
            "20/20 [==============================] - 39s 2s/step - loss: 0.7120 - dice_coef: 0.4357 - iou: 0.2786 - recall: 0.8244 - precision: 0.8033 - val_loss: 1.1268 - val_dice_coef: 0.0816 - val_iou: 0.0426 - val_recall: 0.0000e+00 - val_precision: 0.0000e+00 - lr: 1.0000e-04\n",
            "Epoch 14/50\n",
            "20/20 [==============================] - ETA: 0s - loss: 0.6941 - dice_coef: 0.4477 - iou: 0.2885 - recall: 0.8276 - precision: 0.8094\n",
            "Epoch 00014: val_loss improved from 1.12677 to 1.12283, saving model to files_working/model.h5\n",
            "20/20 [==============================] - 39s 2s/step - loss: 0.6941 - dice_coef: 0.4477 - iou: 0.2885 - recall: 0.8276 - precision: 0.8094 - val_loss: 1.1228 - val_dice_coef: 0.0832 - val_iou: 0.0434 - val_recall: 1.2226e-04 - val_precision: 0.2535 - lr: 1.0000e-04\n",
            "Epoch 15/50\n",
            "20/20 [==============================] - ETA: 0s - loss: 0.6770 - dice_coef: 0.4593 - iou: 0.2982 - recall: 0.8302 - precision: 0.8158\n",
            "Epoch 00015: val_loss improved from 1.12283 to 1.12065, saving model to files_working/model.h5\n",
            "20/20 [==============================] - 39s 2s/step - loss: 0.6770 - dice_coef: 0.4593 - iou: 0.2982 - recall: 0.8302 - precision: 0.8158 - val_loss: 1.1207 - val_dice_coef: 0.0818 - val_iou: 0.0427 - val_recall: 2.5131e-04 - val_precision: 0.0843 - lr: 1.0000e-04\n",
            "Epoch 16/50\n",
            "20/20 [==============================] - ETA: 0s - loss: 0.6601 - dice_coef: 0.4706 - iou: 0.3078 - recall: 0.8318 - precision: 0.8238\n",
            "Epoch 00016: val_loss improved from 1.12065 to 1.11343, saving model to files_working/model.h5\n",
            "20/20 [==============================] - 39s 2s/step - loss: 0.6601 - dice_coef: 0.4706 - iou: 0.3078 - recall: 0.8318 - precision: 0.8238 - val_loss: 1.1134 - val_dice_coef: 0.0840 - val_iou: 0.0439 - val_recall: 9.5091e-04 - val_precision: 0.1739 - lr: 1.0000e-04\n",
            "Epoch 17/50\n",
            "20/20 [==============================] - ETA: 0s - loss: 0.6451 - dice_coef: 0.4809 - iou: 0.3167 - recall: 0.8324 - precision: 0.8281\n",
            "Epoch 00017: val_loss improved from 1.11343 to 1.09367, saving model to files_working/model.h5\n",
            "20/20 [==============================] - 39s 2s/step - loss: 0.6451 - dice_coef: 0.4809 - iou: 0.3167 - recall: 0.8324 - precision: 0.8281 - val_loss: 1.0937 - val_dice_coef: 0.0983 - val_iou: 0.0517 - val_recall: 0.0103 - val_precision: 0.3384 - lr: 1.0000e-04\n",
            "Epoch 18/50\n",
            "20/20 [==============================] - ETA: 0s - loss: 0.6301 - dice_coef: 0.4913 - iou: 0.3258 - recall: 0.8331 - precision: 0.8344\n",
            "Epoch 00018: val_loss improved from 1.09367 to 1.08643, saving model to files_working/model.h5\n",
            "20/20 [==============================] - 39s 2s/step - loss: 0.6301 - dice_coef: 0.4913 - iou: 0.3258 - recall: 0.8331 - precision: 0.8344 - val_loss: 1.0864 - val_dice_coef: 0.1021 - val_iou: 0.0539 - val_recall: 0.0235 - val_precision: 0.4658 - lr: 1.0000e-04\n",
            "Epoch 19/50\n",
            "20/20 [==============================] - ETA: 0s - loss: 0.6142 - dice_coef: 0.5023 - iou: 0.3355 - recall: 0.8349 - precision: 0.8399\n",
            "Epoch 00019: val_loss improved from 1.08643 to 1.06448, saving model to files_working/model.h5\n",
            "20/20 [==============================] - 39s 2s/step - loss: 0.6142 - dice_coef: 0.5023 - iou: 0.3355 - recall: 0.8349 - precision: 0.8399 - val_loss: 1.0645 - val_dice_coef: 0.1199 - val_iou: 0.0640 - val_recall: 0.0556 - val_precision: 0.4261 - lr: 1.0000e-04\n",
            "Epoch 20/50\n",
            "20/20 [==============================] - ETA: 0s - loss: 0.5993 - dice_coef: 0.5131 - iou: 0.3452 - recall: 0.8366 - precision: 0.8447\n",
            "Epoch 00020: val_loss improved from 1.06448 to 1.01243, saving model to files_working/model.h5\n",
            "20/20 [==============================] - 39s 2s/step - loss: 0.5993 - dice_coef: 0.5131 - iou: 0.3452 - recall: 0.8366 - precision: 0.8447 - val_loss: 1.0124 - val_dice_coef: 0.1566 - val_iou: 0.0854 - val_recall: 0.1271 - val_precision: 0.6491 - lr: 1.0000e-04\n",
            "Epoch 21/50\n",
            "20/20 [==============================] - ETA: 0s - loss: 0.5863 - dice_coef: 0.5227 - iou: 0.3539 - recall: 0.8356 - precision: 0.8480\n",
            "Epoch 00021: val_loss improved from 1.01243 to 0.95413, saving model to files_working/model.h5\n",
            "20/20 [==============================] - 39s 2s/step - loss: 0.5863 - dice_coef: 0.5227 - iou: 0.3539 - recall: 0.8356 - precision: 0.8480 - val_loss: 0.9541 - val_dice_coef: 0.2021 - val_iou: 0.1132 - val_recall: 0.2303 - val_precision: 0.7613 - lr: 1.0000e-04\n",
            "Epoch 22/50\n",
            "20/20 [==============================] - ETA: 0s - loss: 0.5701 - dice_coef: 0.5345 - iou: 0.3649 - recall: 0.8388 - precision: 0.8537\n",
            "Epoch 00022: val_loss improved from 0.95413 to 0.93631, saving model to files_working/model.h5\n",
            "20/20 [==============================] - 38s 2s/step - loss: 0.5701 - dice_coef: 0.5345 - iou: 0.3649 - recall: 0.8388 - precision: 0.8537 - val_loss: 0.9363 - val_dice_coef: 0.2149 - val_iou: 0.1213 - val_recall: 0.2567 - val_precision: 0.7948 - lr: 1.0000e-04\n",
            "Epoch 23/50\n",
            "20/20 [==============================] - ETA: 0s - loss: 0.5532 - dice_coef: 0.5472 - iou: 0.3767 - recall: 0.8451 - precision: 0.8592\n",
            "Epoch 00023: val_loss improved from 0.93631 to 0.88143, saving model to files_working/model.h5\n",
            "20/20 [==============================] - 38s 2s/step - loss: 0.5532 - dice_coef: 0.5472 - iou: 0.3767 - recall: 0.8451 - precision: 0.8592 - val_loss: 0.8814 - val_dice_coef: 0.2581 - val_iou: 0.1492 - val_recall: 0.3418 - val_precision: 0.8284 - lr: 1.0000e-04\n",
            "Epoch 24/50\n",
            "20/20 [==============================] - ETA: 0s - loss: 0.5383 - dice_coef: 0.5583 - iou: 0.3873 - recall: 0.8473 - precision: 0.8646\n",
            "Epoch 00024: val_loss improved from 0.88143 to 0.85080, saving model to files_working/model.h5\n",
            "20/20 [==============================] - 39s 2s/step - loss: 0.5383 - dice_coef: 0.5583 - iou: 0.3873 - recall: 0.8473 - precision: 0.8646 - val_loss: 0.8508 - val_dice_coef: 0.2793 - val_iou: 0.1634 - val_recall: 0.3610 - val_precision: 0.8809 - lr: 1.0000e-04\n",
            "Epoch 25/50\n",
            "20/20 [==============================] - ETA: 0s - loss: 0.5243 - dice_coef: 0.5687 - iou: 0.3975 - recall: 0.8489 - precision: 0.8685\n",
            "Epoch 00025: val_loss improved from 0.85080 to 0.77495, saving model to files_working/model.h5\n",
            "20/20 [==============================] - 38s 2s/step - loss: 0.5243 - dice_coef: 0.5687 - iou: 0.3975 - recall: 0.8489 - precision: 0.8685 - val_loss: 0.7750 - val_dice_coef: 0.3433 - val_iou: 0.2085 - val_recall: 0.4954 - val_precision: 0.9040 - lr: 1.0000e-04\n",
            "Epoch 26/50\n",
            "20/20 [==============================] - ETA: 0s - loss: 0.5147 - dice_coef: 0.5762 - iou: 0.4048 - recall: 0.8435 - precision: 0.8689\n",
            "Epoch 00026: val_loss improved from 0.77495 to 0.71666, saving model to files_working/model.h5\n",
            "20/20 [==============================] - 38s 2s/step - loss: 0.5147 - dice_coef: 0.5762 - iou: 0.4048 - recall: 0.8435 - precision: 0.8689 - val_loss: 0.7167 - val_dice_coef: 0.3886 - val_iou: 0.2426 - val_recall: 0.5510 - val_precision: 0.9198 - lr: 1.0000e-04\n",
            "Epoch 27/50\n",
            "20/20 [==============================] - ETA: 0s - loss: 0.5023 - dice_coef: 0.5858 - iou: 0.4144 - recall: 0.8458 - precision: 0.8707\n",
            "Epoch 00027: val_loss improved from 0.71666 to 0.67738, saving model to files_working/model.h5\n",
            "20/20 [==============================] - 39s 2s/step - loss: 0.5023 - dice_coef: 0.5858 - iou: 0.4144 - recall: 0.8458 - precision: 0.8707 - val_loss: 0.6774 - val_dice_coef: 0.4164 - val_iou: 0.2645 - val_recall: 0.5612 - val_precision: 0.9537 - lr: 1.0000e-04\n",
            "Epoch 28/50\n",
            "20/20 [==============================] - ETA: 0s - loss: 0.4838 - dice_coef: 0.5995 - iou: 0.4282 - recall: 0.8532 - precision: 0.8815\n",
            "Epoch 00028: val_loss improved from 0.67738 to 0.63813, saving model to files_working/model.h5\n",
            "20/20 [==============================] - 38s 2s/step - loss: 0.4838 - dice_coef: 0.5995 - iou: 0.4282 - recall: 0.8532 - precision: 0.8815 - val_loss: 0.6381 - val_dice_coef: 0.4523 - val_iou: 0.2936 - val_recall: 0.6404 - val_precision: 0.9278 - lr: 1.0000e-04\n",
            "Epoch 29/50\n",
            "20/20 [==============================] - ETA: 0s - loss: 0.4692 - dice_coef: 0.6108 - iou: 0.4397 - recall: 0.8584 - precision: 0.8864\n",
            "Epoch 00029: val_loss improved from 0.63813 to 0.62063, saving model to files_working/model.h5\n",
            "20/20 [==============================] - 39s 2s/step - loss: 0.4692 - dice_coef: 0.6108 - iou: 0.4397 - recall: 0.8584 - precision: 0.8864 - val_loss: 0.6206 - val_dice_coef: 0.4676 - val_iou: 0.3064 - val_recall: 0.6559 - val_precision: 0.9224 - lr: 1.0000e-04\n",
            "Epoch 30/50\n",
            "20/20 [==============================] - ETA: 0s - loss: 0.4546 - dice_coef: 0.6220 - iou: 0.4515 - recall: 0.8622 - precision: 0.8915\n",
            "Epoch 00030: val_loss improved from 0.62063 to 0.59101, saving model to files_working/model.h5\n",
            "20/20 [==============================] - 38s 2s/step - loss: 0.4546 - dice_coef: 0.6220 - iou: 0.4515 - recall: 0.8622 - precision: 0.8915 - val_loss: 0.5910 - val_dice_coef: 0.4918 - val_iou: 0.3275 - val_recall: 0.6760 - val_precision: 0.9140 - lr: 1.0000e-04\n",
            "Epoch 31/50\n",
            "20/20 [==============================] - ETA: 0s - loss: 0.4426 - dice_coef: 0.6313 - iou: 0.4614 - recall: 0.8638 - precision: 0.8950\n",
            "Epoch 00031: val_loss improved from 0.59101 to 0.57905, saving model to files_working/model.h5\n",
            "20/20 [==============================] - 39s 2s/step - loss: 0.4426 - dice_coef: 0.6313 - iou: 0.4614 - recall: 0.8638 - precision: 0.8950 - val_loss: 0.5790 - val_dice_coef: 0.5034 - val_iou: 0.3377 - val_recall: 0.6854 - val_precision: 0.9097 - lr: 1.0000e-04\n",
            "Epoch 32/50\n",
            "20/20 [==============================] - ETA: 0s - loss: 0.4304 - dice_coef: 0.6410 - iou: 0.4718 - recall: 0.8657 - precision: 0.8979\n",
            "Epoch 00032: val_loss improved from 0.57905 to 0.56404, saving model to files_working/model.h5\n",
            "20/20 [==============================] - 39s 2s/step - loss: 0.4304 - dice_coef: 0.6410 - iou: 0.4718 - recall: 0.8657 - precision: 0.8979 - val_loss: 0.5640 - val_dice_coef: 0.5159 - val_iou: 0.3490 - val_recall: 0.7014 - val_precision: 0.9022 - lr: 1.0000e-04\n",
            "Epoch 33/50\n",
            "20/20 [==============================] - ETA: 0s - loss: 0.4189 - dice_coef: 0.6502 - iou: 0.4819 - recall: 0.8664 - precision: 0.9014\n",
            "Epoch 00033: val_loss improved from 0.56404 to 0.53465, saving model to files_working/model.h5\n",
            "20/20 [==============================] - 38s 2s/step - loss: 0.4189 - dice_coef: 0.6502 - iou: 0.4819 - recall: 0.8664 - precision: 0.9014 - val_loss: 0.5346 - val_dice_coef: 0.5424 - val_iou: 0.3734 - val_recall: 0.7453 - val_precision: 0.8750 - lr: 1.0000e-04\n",
            "Epoch 34/50\n",
            "20/20 [==============================] - ETA: 0s - loss: 0.4071 - dice_coef: 0.6595 - iou: 0.4921 - recall: 0.8670 - precision: 0.9062\n",
            "Epoch 00034: val_loss improved from 0.53465 to 0.51669, saving model to files_working/model.h5\n",
            "20/20 [==============================] - 38s 2s/step - loss: 0.4071 - dice_coef: 0.6595 - iou: 0.4921 - recall: 0.8670 - precision: 0.9062 - val_loss: 0.5167 - val_dice_coef: 0.5558 - val_iou: 0.3860 - val_recall: 0.7369 - val_precision: 0.8962 - lr: 1.0000e-04\n",
            "Epoch 35/50\n",
            "20/20 [==============================] - ETA: 0s - loss: 0.3941 - dice_coef: 0.6697 - iou: 0.5036 - recall: 0.8712 - precision: 0.9107\n",
            "Epoch 00035: val_loss improved from 0.51669 to 0.50202, saving model to files_working/model.h5\n",
            "20/20 [==============================] - 39s 2s/step - loss: 0.3941 - dice_coef: 0.6697 - iou: 0.5036 - recall: 0.8712 - precision: 0.9107 - val_loss: 0.5020 - val_dice_coef: 0.5709 - val_iou: 0.4005 - val_recall: 0.7563 - val_precision: 0.8817 - lr: 1.0000e-04\n",
            "Epoch 36/50\n",
            "20/20 [==============================] - ETA: 0s - loss: 0.3821 - dice_coef: 0.6793 - iou: 0.5145 - recall: 0.8734 - precision: 0.9153\n",
            "Epoch 00036: val_loss improved from 0.50202 to 0.50081, saving model to files_working/model.h5\n",
            "20/20 [==============================] - 39s 2s/step - loss: 0.3821 - dice_coef: 0.6793 - iou: 0.5145 - recall: 0.8734 - precision: 0.9153 - val_loss: 0.5008 - val_dice_coef: 0.5722 - val_iou: 0.4018 - val_recall: 0.7507 - val_precision: 0.8807 - lr: 1.0000e-04\n",
            "Epoch 37/50\n",
            "20/20 [==============================] - ETA: 0s - loss: 0.3712 - dice_coef: 0.6881 - iou: 0.5246 - recall: 0.8748 - precision: 0.9188\n",
            "Epoch 00037: val_loss improved from 0.50081 to 0.49195, saving model to files_working/model.h5\n",
            "20/20 [==============================] - 38s 2s/step - loss: 0.3712 - dice_coef: 0.6881 - iou: 0.5246 - recall: 0.8748 - precision: 0.9188 - val_loss: 0.4920 - val_dice_coef: 0.5805 - val_iou: 0.4100 - val_recall: 0.7572 - val_precision: 0.8712 - lr: 1.0000e-04\n",
            "Epoch 38/50\n",
            "20/20 [==============================] - ETA: 0s - loss: 0.3623 - dice_coef: 0.6955 - iou: 0.5333 - recall: 0.8742 - precision: 0.9205\n",
            "Epoch 00038: val_loss improved from 0.49195 to 0.47825, saving model to files_working/model.h5\n",
            "20/20 [==============================] - 39s 2s/step - loss: 0.3623 - dice_coef: 0.6955 - iou: 0.5333 - recall: 0.8742 - precision: 0.9205 - val_loss: 0.4782 - val_dice_coef: 0.5913 - val_iou: 0.4208 - val_recall: 0.7502 - val_precision: 0.8814 - lr: 1.0000e-04\n",
            "Epoch 39/50\n",
            "20/20 [==============================] - ETA: 0s - loss: 0.3551 - dice_coef: 0.7018 - iou: 0.5407 - recall: 0.8731 - precision: 0.9203\n",
            "Epoch 00039: val_loss improved from 0.47825 to 0.47052, saving model to files_working/model.h5\n",
            "20/20 [==============================] - 38s 2s/step - loss: 0.3551 - dice_coef: 0.7018 - iou: 0.5407 - recall: 0.8731 - precision: 0.9203 - val_loss: 0.4705 - val_dice_coef: 0.5968 - val_iou: 0.4264 - val_recall: 0.7452 - val_precision: 0.8973 - lr: 1.0000e-04\n",
            "Epoch 40/50\n",
            "20/20 [==============================] - ETA: 0s - loss: 0.3436 - dice_coef: 0.7110 - iou: 0.5517 - recall: 0.8736 - precision: 0.9260\n",
            "Epoch 00040: val_loss improved from 0.47052 to 0.45248, saving model to files_working/model.h5\n",
            "20/20 [==============================] - 39s 2s/step - loss: 0.3436 - dice_coef: 0.7110 - iou: 0.5517 - recall: 0.8736 - precision: 0.9260 - val_loss: 0.4525 - val_dice_coef: 0.6129 - val_iou: 0.4430 - val_recall: 0.7659 - val_precision: 0.8855 - lr: 1.0000e-04\n",
            "Epoch 41/50\n",
            "20/20 [==============================] - ETA: 0s - loss: 0.3324 - dice_coef: 0.7202 - iou: 0.5629 - recall: 0.8787 - precision: 0.9287\n",
            "Epoch 00041: val_loss improved from 0.45248 to 0.45243, saving model to files_working/model.h5\n",
            "20/20 [==============================] - 39s 2s/step - loss: 0.3324 - dice_coef: 0.7202 - iou: 0.5629 - recall: 0.8787 - precision: 0.9287 - val_loss: 0.4524 - val_dice_coef: 0.6166 - val_iou: 0.4467 - val_recall: 0.7771 - val_precision: 0.8686 - lr: 1.0000e-04\n",
            "Epoch 42/50\n",
            "20/20 [==============================] - ETA: 0s - loss: 0.3223 - dice_coef: 0.7284 - iou: 0.5729 - recall: 0.8800 - precision: 0.9335\n",
            "Epoch 00042: val_loss improved from 0.45243 to 0.44730, saving model to files_working/model.h5\n",
            "20/20 [==============================] - 39s 2s/step - loss: 0.3223 - dice_coef: 0.7284 - iou: 0.5729 - recall: 0.8800 - precision: 0.9335 - val_loss: 0.4473 - val_dice_coef: 0.6186 - val_iou: 0.4487 - val_recall: 0.7591 - val_precision: 0.8868 - lr: 1.0000e-04\n",
            "Epoch 43/50\n",
            "20/20 [==============================] - ETA: 0s - loss: 0.3178 - dice_coef: 0.7324 - iou: 0.5779 - recall: 0.8745 - precision: 0.9337\n",
            "Epoch 00043: val_loss improved from 0.44730 to 0.43244, saving model to files_working/model.h5\n",
            "20/20 [==============================] - 38s 2s/step - loss: 0.3178 - dice_coef: 0.7324 - iou: 0.5779 - recall: 0.8745 - precision: 0.9337 - val_loss: 0.4324 - val_dice_coef: 0.6319 - val_iou: 0.4628 - val_recall: 0.7867 - val_precision: 0.8743 - lr: 1.0000e-04\n",
            "Epoch 44/50\n",
            "20/20 [==============================] - ETA: 0s - loss: 0.3129 - dice_coef: 0.7369 - iou: 0.5835 - recall: 0.8741 - precision: 0.9318\n",
            "Epoch 00044: val_loss improved from 0.43244 to 0.42124, saving model to files_working/model.h5\n",
            "20/20 [==============================] - 39s 2s/step - loss: 0.3129 - dice_coef: 0.7369 - iou: 0.5835 - recall: 0.8741 - precision: 0.9318 - val_loss: 0.4212 - val_dice_coef: 0.6430 - val_iou: 0.4747 - val_recall: 0.7937 - val_precision: 0.8710 - lr: 1.0000e-04\n",
            "Epoch 45/50\n",
            "20/20 [==============================] - ETA: 0s - loss: 0.3040 - dice_coef: 0.7445 - iou: 0.5931 - recall: 0.8779 - precision: 0.9325\n",
            "Epoch 00045: val_loss did not improve from 0.42124\n",
            "20/20 [==============================] - 34s 2s/step - loss: 0.3040 - dice_coef: 0.7445 - iou: 0.5931 - recall: 0.8779 - precision: 0.9325 - val_loss: 0.4396 - val_dice_coef: 0.6326 - val_iou: 0.4634 - val_recall: 0.8074 - val_precision: 0.8365 - lr: 1.0000e-04\n",
            "Epoch 46/50\n",
            "20/20 [==============================] - ETA: 0s - loss: 0.2949 - dice_coef: 0.7518 - iou: 0.6024 - recall: 0.8758 - precision: 0.9383\n",
            "Epoch 00046: val_loss did not improve from 0.42124\n",
            "20/20 [==============================] - 34s 2s/step - loss: 0.2949 - dice_coef: 0.7518 - iou: 0.6024 - recall: 0.8758 - precision: 0.9383 - val_loss: 0.4223 - val_dice_coef: 0.6473 - val_iou: 0.4792 - val_recall: 0.8116 - val_precision: 0.8408 - lr: 1.0000e-04\n",
            "Epoch 47/50\n",
            "20/20 [==============================] - ETA: 0s - loss: 0.2856 - dice_coef: 0.7594 - iou: 0.6122 - recall: 0.8789 - precision: 0.9417\n",
            "Epoch 00047: val_loss did not improve from 0.42124\n",
            "20/20 [==============================] - 34s 2s/step - loss: 0.2856 - dice_coef: 0.7594 - iou: 0.6122 - recall: 0.8789 - precision: 0.9417 - val_loss: 0.4242 - val_dice_coef: 0.6505 - val_iou: 0.4827 - val_recall: 0.8196 - val_precision: 0.8227 - lr: 1.0000e-04\n",
            "Epoch 48/50\n",
            "20/20 [==============================] - ETA: 0s - loss: 0.2768 - dice_coef: 0.7666 - iou: 0.6217 - recall: 0.8814 - precision: 0.9443\n",
            "Epoch 00048: val_loss improved from 0.42124 to 0.40936, saving model to files_working/model.h5\n",
            "20/20 [==============================] - 39s 2s/step - loss: 0.2768 - dice_coef: 0.7666 - iou: 0.6217 - recall: 0.8814 - precision: 0.9443 - val_loss: 0.4094 - val_dice_coef: 0.6577 - val_iou: 0.4908 - val_recall: 0.7893 - val_precision: 0.8634 - lr: 1.0000e-04\n",
            "Epoch 49/50\n",
            "20/20 [==============================] - ETA: 0s - loss: 0.2683 - dice_coef: 0.7735 - iou: 0.6309 - recall: 0.8820 - precision: 0.9488\n",
            "Epoch 00049: val_loss improved from 0.40936 to 0.39719, saving model to files_working/model.h5\n",
            "20/20 [==============================] - 38s 2s/step - loss: 0.2683 - dice_coef: 0.7735 - iou: 0.6309 - recall: 0.8820 - precision: 0.9488 - val_loss: 0.3972 - val_dice_coef: 0.6629 - val_iou: 0.4967 - val_recall: 0.7541 - val_precision: 0.9027 - lr: 1.0000e-04\n",
            "Epoch 50/50\n",
            "20/20 [==============================] - ETA: 0s - loss: 0.2608 - dice_coef: 0.7798 - iou: 0.6392 - recall: 0.8839 - precision: 0.9508\n",
            "Epoch 00050: val_loss did not improve from 0.39719\n",
            "20/20 [==============================] - 35s 2s/step - loss: 0.2608 - dice_coef: 0.7798 - iou: 0.6392 - recall: 0.8839 - precision: 0.9508 - val_loss: 0.3979 - val_dice_coef: 0.6654 - val_iou: 0.4994 - val_recall: 0.7905 - val_precision: 0.8693 - lr: 1.0000e-04\n"
          ]
        },
        {
          "output_type": "execute_result",
          "data": {
            "text/plain": [
              "<keras.callbacks.History at 0x7f162051ed50>"
            ]
          },
          "metadata": {},
          "execution_count": 7
        }
      ]
    },
    {
      "cell_type": "markdown",
      "metadata": {
        "id": "2frB4UHf9mr3"
      },
      "source": [
        "### Evaluate The Model:"
      ]
    },
    {
      "cell_type": "code",
      "metadata": {
        "id": "C5Kjrpfg9pDn"
      },
      "source": [
        "import os\n",
        "os.environ[\"TF_CPP_MIN_LOG_LEVEL\"] = \"2\"\n",
        "import numpy as np\n",
        "import pandas as pd\n",
        "import cv2\n",
        "from glob import glob\n",
        "from tqdm import tqdm\n",
        "import tensorflow as tf\n",
        "from tensorflow.keras.utils import CustomObjectScope\n",
        "from sklearn.metrics import accuracy_score, f1_score, jaccard_score, precision_score, recall_score, auc\n",
        "from metrics import dice_loss, dice_coef, iou\n",
        "from utils import get_filenames_sorted"
      ],
      "execution_count": null,
      "outputs": []
    },
    {
      "cell_type": "code",
      "metadata": {
        "id": "tbgjkGOU-QeQ"
      },
      "source": [
        "H = 512\n",
        "W = 512\n",
        "\n",
        "def create_dir(path):\n",
        "    if not os.path.exists(path):\n",
        "        os.makedirs(path)\n",
        "\n",
        "def read_image(path):\n",
        "    x = cv2.imread(path, cv2.IMREAD_COLOR)\n",
        "    # x = cv2.resize(x, (W, H))\n",
        "    ori_x = x\n",
        "    x = x/255.0\n",
        "    x = x.astype(np.float32)\n",
        "    return ori_x, x\n",
        "\n",
        "def read_mask(path):\n",
        "    x = cv2.imread(path, cv2.IMREAD_COLOR)  ## (512, 512)\n",
        "    # x = cv2.resize(x, (W, H))\n",
        "    ori_x = x\n",
        "    x = x/255.0\n",
        "    x = x.astype(np.float32)\n",
        "    x = x[:,:,0:2] # Discard the last channel \n",
        "    return ori_x, x\n",
        "\n",
        "def load_data(path):\n",
        "    x = sorted(glob(os.path.join(path, \"image\", \"*.png\")))\n",
        "    y = sorted(glob(os.path.join(path, \"mask\", \"*.png\")))\n",
        "    return x, y\n",
        "\n",
        "def save_results(ori_x, ori_y, y_pred, save_image_path, channel):\n",
        "    line = np.ones((y_pred.shape[0], 10, 3)) * 255\n",
        "\n",
        "    pred_image = np.zeros((y_pred.shape[0], y_pred.shape[1], 3))\n",
        "    _y_pred = y_pred[:, :, channel]\n",
        "    _ori_y = ori_y[:, :, channel]\n",
        "    pred_image[:, :, 0] = ((_y_pred > 0.5) & (_ori_y <= 128)) * 255\n",
        "    pred_image[:, :, 1] = ((_y_pred > 0.5) & (_ori_y  > 128)) * 255\n",
        "    pred_image[:, :, 2] = ((_ori_y  > 128) & (_y_pred <= 0.5 )) * 255\n",
        "\n",
        "    print(\" saving result\", save_image_path)\n",
        "    cv2.imwrite(save_image_path, pred_image)"
      ],
      "execution_count": null,
      "outputs": []
    },
    {
      "cell_type": "code",
      "metadata": {
        "colab": {
          "base_uri": "https://localhost:8080/"
        },
        "id": "HUarJfhE-ZMQ",
        "outputId": "24b12a98-b10c-4068-be54-692a1ecfbb19"
      },
      "source": [
        "data_dir = \"new_data\"\n",
        "od_channel, bv_channel = 0, 1\n",
        "\n",
        "od_result_dir = \"files_demo_od\"\n",
        "bv_result_dir = \"files_demo_bv\"\n",
        "\n",
        "create_dir(od_result_dir)\n",
        "create_dir(bv_result_dir)\n",
        "\n",
        "model_dir = \"files_working\"\n",
        "\n",
        "\"\"\" Load the model \"\"\"\n",
        "model_file_name = f\"{model_dir}/model.h5\"\n",
        "print(model_file_name)\n",
        "# with CustomObjectScope({'iou': iou, 'dice_coef': dice_coef, 'dice_coef_OD': dice_coef_OD, 'dice_coef_MA': dice_coef_MA, 'dice_loss': dice_loss}):\n",
        "model = tf.keras.models.load_model(model_file_name, compile = False)\n",
        "\n",
        "\"\"\" Load the dataset \"\"\"\n",
        "# dataset_path = os.path.join(data_dir, \"test\")\n",
        "# test_x, test_y = get_filenames_sorted(data_dir + \"/test/image/\", data_dir + \"/test/mask/\" )\n",
        "\n",
        "dataset_path = os.path.join(\"new_data\", \"test\")\n",
        "test_x, test_y = load_data(dataset_path)\n",
        "\n",
        "\"\"\" Make the prediction and calculate the metrics values \"\"\"\n",
        "SCORE_BV, SCORE_OD = [], []\n",
        "for x, y in tqdm(zip(test_x, test_y), total=len(test_x)):\n",
        "    \"\"\" Extracting name \"\"\"\n",
        "    name = x.rsplit(\"/\", 1)[1].rsplit(\".\", 1)[0]\n",
        "    print(name)\n",
        "\n",
        "    \"\"\" Read the image and mask \"\"\"\n",
        "    ori_x, x = read_image(x)\n",
        "    ori_y, y = read_mask(y)\n",
        "\n",
        "    \"\"\" Prediction \"\"\"\n",
        "    y_pred = model.predict(np.expand_dims(x, axis=0))[0]\n",
        "    y_pred = y_pred > 0.5\n",
        "    y_pred = y_pred.astype(np.float32)\n",
        "\n",
        "    print(np.max(ori_y), np.max(y))\n",
        "\n",
        "    \"\"\" Saving the images \"\"\"\n",
        "    save_image_path_od = f\"{od_result_dir}/{name}.png\"\n",
        "    save_results(ori_x, ori_y, y_pred, save_image_path_od, od_channel)\n",
        "\n",
        "    save_image_path_bv = f\"{bv_result_dir}/{name}.png\"\n",
        "    save_results(ori_x, ori_y, y_pred, save_image_path_bv, bv_channel)\n",
        "\n",
        "\n",
        "#     \"\"\" Calculate the od metrics \"\"\"\n",
        "    bv_pred = y_pred[:, :, bv_channel].flatten()\n",
        "    bv_gt = y[:, :, bv_channel].flatten()\n",
        "    acc_value = accuracy_score(bv_gt > 0.5, bv_pred>0.5)\n",
        "    f1_value = f1_score(bv_gt > 0.5, bv_pred>0.5, labels=[0, 1], average=\"binary\")\n",
        "    jac_value = jaccard_score(bv_gt > 0.5, bv_pred>0.5, labels=[0, 1], average=\"binary\")\n",
        "    recall_value = recall_score(bv_gt > 0.5, bv_pred>0.5, labels=[0, 1], average=\"binary\")\n",
        "    recall_computed = np.sum((bv_gt > 0.5) & (bv_pred > 0.5)) / np.sum(bv_gt > 0.5)\n",
        "    precision_value = precision_score(bv_gt > 0.5, bv_pred>0.5, labels=[0, 1], average=\"binary\")\n",
        "    SCORE_BV.append([name, acc_value, f1_value, jac_value, recall_value, precision_value, recall_computed])\n",
        "\n",
        "#     \"\"\" Calculate the ma metrics \"\"\"\n",
        "    bv_pred = y_pred[:, :, od_channel].flatten()\n",
        "    bv_gt = y[:, :, od_channel].flatten()\n",
        "    acc_value = accuracy_score(bv_gt > 0.5, bv_pred>0.5)\n",
        "    f1_value = f1_score(bv_gt > 0.5, bv_pred>0.5, labels=[0, 1], average=\"binary\")\n",
        "    jac_value = jaccard_score(bv_gt > 0.5, bv_pred>0.5, labels=[0, 1], average=\"binary\")\n",
        "    recall_value = recall_score(bv_gt > 0.5, bv_pred>0.5, labels=[0, 1], average=\"binary\")\n",
        "    recall_computed = np.sum((bv_gt > 0.5) & (bv_pred > 0.5)) / np.sum(bv_gt > 0.5)\n",
        "    precision_value = precision_score(bv_gt > 0.5, bv_pred>0.5, labels=[0, 1], average=\"binary\")\n",
        "    SCORE_OD.append([name, acc_value, f1_value, jac_value, recall_value, precision_value, recall_computed])\n",
        "    \n",
        "print(\"\\n\")\n",
        "for SCORE in [SCORE_OD, SCORE_BV]:\n",
        "    if SCORE == SCORE_OD:\n",
        "        print(\"****** OD ******Metrics\")\n",
        "    else:\n",
        "        print(\"****** BV ******Metrics\")\n",
        "    score = [s[1:] for s in SCORE]\n",
        "    score = np.mean(score, axis=0)\n",
        "    print(f\"Accuracy: {score[0]:0.5f}\")\n",
        "    print(f\"F1: {score[1]:0.5f} (dice score)\")\n",
        "    print(f\"AUC: {score[1]:0.5f} (Auc score)\")\n",
        "    print(f\"Jaccard: {score[2]:0.5f}\")\n",
        "    print(f\"Recall: {score[3]:0.5f}\")\n",
        "    print(f\"Precision: {score[4]:0.5f}\")\n",
        "\n",
        "    # \"\"\" Saving \"\"\"\n",
        "    if SCORE == SCORE_OD:\n",
        "        df = pd.DataFrame(SCORE, columns=[\"Image\", \"Acc\", \"F1\", \"Jaccard\", \"Recall\", \"Precision\", \"Recall Computed\"])\n",
        "        df.to_csv(f\"{od_result_dir}/score.csv\")\n",
        "    else:\n",
        "        df = pd.DataFrame(SCORE, columns=[\"Image\", \"Acc\", \"F1\", \"Jaccard\", \"Recall\", \"Precision\", \"Recall Computed\"])\n",
        "        df.to_csv(f\"{bv_result_dir}/score.csv\")\n",
        "    print(\"\\n\")"
      ],
      "execution_count": null,
      "outputs": [
        {
          "output_type": "stream",
          "name": "stdout",
          "text": [
            "files_working/model.h5\n"
          ]
        },
        {
          "output_type": "stream",
          "name": "stderr",
          "text": [
            "\r  0%|          | 0/5 [00:00<?, ?it/s]"
          ]
        },
        {
          "output_type": "stream",
          "name": "stdout",
          "text": [
            "11_h\n",
            "255 1.0\n",
            " saving result files_demo_od/11_h.png\n",
            " saving result files_demo_bv/11_h.png\n"
          ]
        },
        {
          "output_type": "stream",
          "name": "stderr",
          "text": [
            "\r 20%|██        | 1/5 [00:01<00:05,  1.49s/it]"
          ]
        },
        {
          "output_type": "stream",
          "name": "stdout",
          "text": [
            "12_h\n",
            "255 1.0\n",
            " saving result files_demo_od/12_h.png\n",
            " saving result files_demo_bv/12_h.png\n"
          ]
        },
        {
          "output_type": "stream",
          "name": "stderr",
          "text": [
            "\r 40%|████      | 2/5 [00:02<00:03,  1.17s/it]"
          ]
        },
        {
          "output_type": "stream",
          "name": "stdout",
          "text": [
            "13_h\n",
            "255 1.0\n",
            " saving result files_demo_od/13_h.png\n",
            " saving result files_demo_bv/13_h.png\n"
          ]
        },
        {
          "output_type": "stream",
          "name": "stderr",
          "text": [
            "\r 60%|██████    | 3/5 [00:03<00:02,  1.07s/it]"
          ]
        },
        {
          "output_type": "stream",
          "name": "stdout",
          "text": [
            "14_h\n",
            "255 1.0\n",
            " saving result files_demo_od/14_h.png\n",
            " saving result files_demo_bv/14_h.png\n"
          ]
        },
        {
          "output_type": "stream",
          "name": "stderr",
          "text": [
            "\r 80%|████████  | 4/5 [00:04<00:01,  1.02s/it]"
          ]
        },
        {
          "output_type": "stream",
          "name": "stdout",
          "text": [
            "15_h\n",
            "255 1.0\n",
            " saving result files_demo_od/15_h.png\n",
            " saving result files_demo_bv/15_h.png\n"
          ]
        },
        {
          "output_type": "stream",
          "name": "stderr",
          "text": [
            "100%|██████████| 5/5 [00:05<00:00,  1.05s/it]"
          ]
        },
        {
          "output_type": "stream",
          "name": "stdout",
          "text": [
            "\n",
            "\n",
            "****** OD ******Metrics\n",
            "Accuracy: 0.99673\n",
            "F1: 0.83973 (dice score)\n",
            "AUC: 0.83973 (Auc score)\n",
            "Jaccard: 0.72962\n",
            "Recall: 0.74850\n",
            "Precision: 0.97154\n",
            "\n",
            "\n",
            "****** BV ******Metrics\n",
            "Accuracy: 0.96837\n",
            "F1: 0.81661 (dice score)\n",
            "AUC: 0.81661 (Auc score)\n",
            "Jaccard: 0.69074\n",
            "Recall: 0.79067\n",
            "Precision: 0.84549\n",
            "\n",
            "\n"
          ]
        },
        {
          "output_type": "stream",
          "name": "stderr",
          "text": [
            "\n"
          ]
        }
      ]
    },
    {
      "cell_type": "code",
      "source": [
        "data_dir = \"new_data\"\n",
        "od_channel, bv_channel = 0, 1\n",
        "\n",
        "od_result_dir = \"files_demo_od_75\"\n",
        "bv_result_dir = \"files_demo_bv_75\"\n",
        "\n",
        "create_dir(od_result_dir)\n",
        "create_dir(bv_result_dir)\n",
        "\n",
        "model_dir = \"files_working\"\n",
        "\n",
        "\"\"\" Load the model \"\"\"\n",
        "model_file_name = f\"{model_dir}/model.h5\"\n",
        "print(model_file_name)\n",
        "# with CustomObjectScope({'iou': iou, 'dice_coef': dice_coef, 'dice_coef_OD': dice_coef_OD, 'dice_coef_MA': dice_coef_MA, 'dice_loss': dice_loss}):\n",
        "model = tf.keras.models.load_model(model_file_name, compile = False)\n",
        "\n",
        "\"\"\" Load the dataset \"\"\"\n",
        "# dataset_path = os.path.join(data_dir, \"test\")\n",
        "# test_x, test_y = get_filenames_sorted(data_dir + \"/test/image/\", data_dir + \"/test/mask/\" )\n",
        "\n",
        "dataset_path = os.path.join(\"new_data\", \"test\")\n",
        "test_x, test_y = load_data(dataset_path)\n",
        "\n",
        "\"\"\" Make the prediction and calculate the metrics values \"\"\"\n",
        "SCORE_BV, SCORE_OD = [], []\n",
        "for x, y in tqdm(zip(test_x, test_y), total=len(test_x)):\n",
        "    \"\"\" Extracting name \"\"\"\n",
        "    name = x.rsplit(\"/\", 1)[1].rsplit(\".\", 1)[0]\n",
        "    print(name)\n",
        "\n",
        "    \"\"\" Read the image and mask \"\"\"\n",
        "    ori_x, x = read_image(x)\n",
        "    ori_y, y = read_mask(y)\n",
        "\n",
        "    \"\"\" Prediction \"\"\"\n",
        "    y_pred = model.predict(np.expand_dims(x, axis=0))[0]\n",
        "    y_pred = y_pred > 0.5\n",
        "    y_pred = y_pred.astype(np.float32)\n",
        "\n",
        "    print(np.max(ori_y), np.max(y))\n",
        "\n",
        "    \"\"\" Saving the images \"\"\"\n",
        "    save_image_path_od = f\"{od_result_dir}/{name}.png\"\n",
        "    save_results(ori_x, ori_y, y_pred, save_image_path_od, od_channel)\n",
        "\n",
        "    save_image_path_bv = f\"{bv_result_dir}/{name}.png\"\n",
        "    save_results(ori_x, ori_y, y_pred, save_image_path_bv, bv_channel)\n",
        "\n",
        "\n",
        "#     \"\"\" Calculate the od metrics \"\"\"\n",
        "    bv_pred = y_pred[:, :, bv_channel].flatten()\n",
        "    bv_gt = y[:, :, bv_channel].flatten()\n",
        "    acc_value = accuracy_score(bv_gt > 0.75, bv_pred>75)\n",
        "    f1_value = f1_score(bv_gt > 0.75, bv_pred>0.75, labels=[0, 1], average=\"binary\")\n",
        "    jac_value = jaccard_score(bv_gt > 0.75, bv_pred>0.75, labels=[0, 1], average=\"binary\")\n",
        "    recall_value = recall_score(bv_gt > 0.75, bv_pred>0.75, labels=[0, 1], average=\"binary\")\n",
        "    recall_computed = np.sum((bv_gt > 0.75) & (bv_pred > 0.75)) / np.sum(bv_gt > 0.75)\n",
        "    precision_value = precision_score(bv_gt > 0.75, bv_pred>0.75, labels=[0, 1], average=\"binary\")\n",
        "    SCORE_BV.append([name, acc_value, f1_value, jac_value, recall_value, precision_value, recall_computed])\n",
        "\n",
        "#     \"\"\" Calculate the ma metrics \"\"\"\n",
        "    bv_pred = y_pred[:, :, od_channel].flatten()\n",
        "    bv_gt = y[:, :, od_channel].flatten()\n",
        "    acc_value = accuracy_score(bv_gt > 0.75, bv_pred>0.75)\n",
        "    f1_value = f1_score(bv_gt > 0.75, bv_pred>0.75, labels=[0, 1], average=\"binary\")\n",
        "    jac_value = jaccard_score(bv_gt > 0.75, bv_pred>0.75, labels=[0, 1], average=\"binary\")\n",
        "    recall_value = recall_score(bv_gt > 0.75, bv_pred>0.75, labels=[0, 1], average=\"binary\")\n",
        "    recall_computed = np.sum((bv_gt > 0.75) & (bv_pred > 0.75)) / np.sum(bv_gt > 0.75)\n",
        "    precision_value = precision_score(bv_gt > 0.75, bv_pred>0.75, labels=[0, 1], average=\"binary\")\n",
        "    SCORE_OD.append([name, acc_value, f1_value, jac_value, recall_value, precision_value, recall_computed])\n",
        "    \n",
        "print(\"\\n\")\n",
        "for SCORE in [SCORE_OD, SCORE_BV]:\n",
        "    if SCORE == SCORE_OD:\n",
        "        print(\"****** OD ******Metrics\")\n",
        "    else:\n",
        "        print(\"****** BV ******Metrics\")\n",
        "    score = [s[1:] for s in SCORE]\n",
        "    score = np.mean(score, axis=0)\n",
        "    print(f\"Accuracy: {score[0]:0.5f}\")\n",
        "    print(f\"F1: {score[1]:0.5f} (dice score)\")\n",
        "    print(f\"AUC: {score[1]:0.5f} (Auc score)\")\n",
        "    print(f\"Jaccard: {score[2]:0.5f}\")\n",
        "    print(f\"Recall: {score[3]:0.5f}\")\n",
        "    print(f\"Precision: {score[4]:0.5f}\")\n",
        "\n",
        "    # \"\"\" Saving \"\"\"\n",
        "    if SCORE == SCORE_OD:\n",
        "        df = pd.DataFrame(SCORE, columns=[\"Image\", \"Acc\", \"F1\", \"Jaccard\", \"Recall\", \"Precision\", \"Recall Computed\"])\n",
        "        df.to_csv(f\"{od_result_dir}/score.csv\")\n",
        "    else:\n",
        "        df = pd.DataFrame(SCORE, columns=[\"Image\", \"Acc\", \"F1\", \"Jaccard\", \"Recall\", \"Precision\", \"Recall Computed\"])\n",
        "        df.to_csv(f\"{bv_result_dir}/score.csv\")\n",
        "    print(\"\\n\")"
      ],
      "metadata": {
        "colab": {
          "base_uri": "https://localhost:8080/"
        },
        "id": "VRadbyw0xiEj",
        "outputId": "2240d07c-4596-4da1-8c20-a3819e6629a6"
      },
      "execution_count": null,
      "outputs": [
        {
          "output_type": "stream",
          "name": "stdout",
          "text": [
            "files_working/model.h5\n"
          ]
        },
        {
          "output_type": "stream",
          "name": "stderr",
          "text": [
            "\r  0%|          | 0/5 [00:00<?, ?it/s]"
          ]
        },
        {
          "output_type": "stream",
          "name": "stdout",
          "text": [
            "11_h\n",
            "255 1.0\n",
            " saving result files_demo_od_75/11_h.png\n",
            " saving result files_demo_bv_75/11_h.png\n"
          ]
        },
        {
          "output_type": "stream",
          "name": "stderr",
          "text": [
            "\r 20%|██        | 1/5 [00:23<01:33, 23.31s/it]"
          ]
        },
        {
          "output_type": "stream",
          "name": "stdout",
          "text": [
            "12_h\n",
            "255 1.0\n",
            " saving result files_demo_od_75/12_h.png\n",
            " saving result files_demo_bv_75/12_h.png\n"
          ]
        },
        {
          "output_type": "stream",
          "name": "stderr",
          "text": [
            "\r 40%|████      | 2/5 [00:25<00:32, 10.92s/it]"
          ]
        },
        {
          "output_type": "stream",
          "name": "stdout",
          "text": [
            "13_h\n",
            "255 1.0\n",
            " saving result files_demo_od_75/13_h.png\n",
            " saving result files_demo_bv_75/13_h.png\n"
          ]
        },
        {
          "output_type": "stream",
          "name": "stderr",
          "text": [
            "\r 60%|██████    | 3/5 [00:28<00:14,  7.08s/it]"
          ]
        },
        {
          "output_type": "stream",
          "name": "stdout",
          "text": [
            "14_h\n",
            "255 1.0\n",
            " saving result files_demo_od_75/14_h.png\n",
            " saving result files_demo_bv_75/14_h.png\n"
          ]
        },
        {
          "output_type": "stream",
          "name": "stderr",
          "text": [
            "\r 80%|████████  | 4/5 [00:29<00:04,  4.99s/it]"
          ]
        },
        {
          "output_type": "stream",
          "name": "stdout",
          "text": [
            "15_h\n",
            "255 1.0\n",
            " saving result files_demo_od_75/15_h.png\n",
            " saving result files_demo_bv_75/15_h.png\n"
          ]
        },
        {
          "output_type": "stream",
          "name": "stderr",
          "text": [
            "100%|██████████| 5/5 [00:31<00:00,  6.28s/it]"
          ]
        },
        {
          "output_type": "stream",
          "name": "stdout",
          "text": [
            "\n",
            "\n",
            "****** OD ******Metrics\n",
            "Accuracy: 0.99675\n",
            "F1: 0.84020 (dice score)\n",
            "AUC: 0.84020 (Auc score)\n",
            "Jaccard: 0.73027\n",
            "Recall: 0.74987\n",
            "Precision: 0.97058\n",
            "\n",
            "\n",
            "****** BV ******Metrics\n",
            "Accuracy: 0.91419\n",
            "F1: 0.81191 (dice score)\n",
            "AUC: 0.81191 (Auc score)\n",
            "Jaccard: 0.68403\n",
            "Recall: 0.80545\n",
            "Precision: 0.81951\n",
            "\n",
            "\n"
          ]
        },
        {
          "output_type": "stream",
          "name": "stderr",
          "text": [
            "\n"
          ]
        }
      ]
    },
    {
      "cell_type": "code",
      "metadata": {
        "id": "8u-X3ysMAah7",
        "colab": {
          "base_uri": "https://localhost:8080/"
        },
        "outputId": "933936b5-9c38-4e1a-c9eb-fc408df10b21"
      },
      "source": [
        "data_dir = \"new_data\"\n",
        "od_channel, bv_channel = 0, 1\n",
        "\n",
        "od_result_dir = \"files_demo_od_75\"\n",
        "bv_result_dir = \"files_demo_bv_75\"\n",
        "\n",
        "create_dir(od_result_dir)\n",
        "create_dir(bv_result_dir)\n",
        "\n",
        "model_dir = \"files_working\"\n",
        "threshold = 0.9\n",
        "\n",
        "\"\"\" Load the model \"\"\"\n",
        "model_file_name = f\"{model_dir}/model.h5\"\n",
        "print(model_file_name)\n",
        "# with CustomObjectScope({'iou': iou, 'dice_coef': dice_coef, 'dice_coef_OD': dice_coef_OD, 'dice_coef_MA': dice_coef_MA, 'dice_loss': dice_loss}):\n",
        "model = tf.keras.models.load_model(model_file_name, compile = False)\n",
        "\n",
        "\"\"\" Load the dataset \"\"\"\n",
        "# dataset_path = os.path.join(data_dir, \"test\")\n",
        "# test_x, test_y = get_filenames_sorted(data_dir + \"/test/image/\", data_dir + \"/test/mask/\" )\n",
        "\n",
        "dataset_path = os.path.join(\"new_data\", \"test\")\n",
        "test_x, test_y = load_data(dataset_path)\n",
        "\n",
        "\"\"\" Make the prediction and calculate the metrics values \"\"\"\n",
        "SCORE_BV, SCORE_OD = [], []\n",
        "for x, y in tqdm(zip(test_x, test_y), total=len(test_x)):\n",
        "    \"\"\" Extracting name \"\"\"\n",
        "    name = x.rsplit(\"/\", 1)[1].rsplit(\".\", 1)[0]\n",
        "    print(name)\n",
        "\n",
        "    \"\"\" Read the image and mask \"\"\"\n",
        "    ori_x, x = read_image(x)\n",
        "    ori_y, y = read_mask(y)\n",
        "\n",
        "    \"\"\" Prediction \"\"\"\n",
        "    y_pred = model.predict(np.expand_dims(x, axis=0))[0]\n",
        "    y_pred_prob = y_pred\n",
        "    y_pred = y_pred > threshold\n",
        "    y_pred = y_pred.astype(np.float32)\n",
        "\n",
        "    print(np.max(ori_y), np.max(y))\n",
        "\n",
        "    \"\"\" Saving the images \"\"\"\n",
        "    save_image_path_od = f\"{od_result_dir}/{name}.png\"\n",
        "    save_results(ori_x, ori_y, y_pred, save_image_path_od, od_channel)\n",
        "\n",
        "    save_image_path_bv = f\"{bv_result_dir}/{name}.png\"\n",
        "    save_results(ori_x, ori_y, y_pred, save_image_path_bv, bv_channel)\n",
        "\n",
        "\n",
        "#     \"\"\" Calculate the od metrics \"\"\"\n",
        "    bv_pred = y_pred[:, :, bv_channel].flatten()\n",
        "    bv_pred_prob = y_pred_prob[:, :, bv_channel].flatten()\n",
        "    bv_gt = y[:, :, bv_channel].flatten()\n",
        "    acc_value = accuracy_score(bv_gt > threshold, bv_pred>threshold)\n",
        "    f1_value = f1_score(bv_gt > threshold, bv_pred>threshold, labels=[0, 1], average=\"binary\")\n",
        "    jac_value = jaccard_score(bv_gt > threshold, bv_pred>threshold, labels=[0, 1], average=\"binary\")\n",
        "    recall_value = recall_score(bv_gt > threshold, bv_pred>threshold, labels=[0, 1], average=\"binary\")\n",
        "    recall_computed = np.sum((bv_gt > threshold) & (bv_pred > threshold)) / np.sum(bv_gt > threshold)\n",
        "    precision_value = precision_score(bv_gt > threshold, bv_pred>threshold, labels=[0, 1], average=\"binary\")\n",
        "    auc_score = auc(bv_gt > threshold, bv_pred_prob)\n",
        "    SCORE_BV.append([name, acc_value, f1_value, jac_value, recall_value, precision_value, recall_computed, auc_score])\n",
        "\n",
        "#     \"\"\" Calculate the ma metrics \"\"\"\n",
        "    bv_pred = y_pred[:, :, od_channel].flatten()\n",
        "    bv_pred_prob = y_pred_prob[:, :, bv_channel].flatten()\n",
        "    bv_gt = y[:, :, od_channel].flatten()\n",
        "    acc_value = accuracy_score(bv_gt > threshold, bv_pred>threshold)\n",
        "    f1_value = f1_score(bv_gt > threshold, bv_pred>threshold, labels=[0, 1], average=\"binary\")\n",
        "    jac_value = jaccard_score(bv_gt > threshold, bv_pred>threshold, labels=[0, 1], average=\"binary\")\n",
        "    recall_value = recall_score(bv_gt > threshold, bv_pred>threshold, labels=[0, 1], average=\"binary\")\n",
        "    recall_computed = np.sum((bv_gt > threshold) & (bv_pred > threshold)) / np.sum(bv_gt > threshold)\n",
        "    precision_value = precision_score(bv_gt > threshold, bv_pred>threshold, labels=[0, 1], average=\"binary\")\n",
        "    auc_score = auc(bv_gt > threshold, bv_pred_prob)\n",
        "    SCORE_OD.append([name, acc_value, f1_value, jac_value, recall_value, precision_value, recall_computed, auc_score])\n",
        "    \n",
        "print(\"\\n\")\n",
        "for SCORE in [SCORE_OD, SCORE_BV]:\n",
        "    if SCORE == SCORE_OD:\n",
        "        print(\"****** OD ******Metrics\")\n",
        "    else:\n",
        "        print(\"****** BV ******Metrics\")\n",
        "    score = [s[1:] for s in SCORE]\n",
        "    score = np.mean(score, axis=0)\n",
        "    print(f\"Threshold:\", threshold)\n",
        "    print(f\"Accuracy: {score[0]:0.5f}\")\n",
        "    print(f\"F1: {score[1]:0.5f} (dice score)\")\n",
        "    print(f\"Jaccard: {score[2]:0.5f}\")\n",
        "    print(f\"Recall: {score[3]:0.5f}\")\n",
        "    print(f\"Precision: {score[4]:0.5f}\")\n",
        "    print(f\"AUC: {score[5]:0.5f}\")\n",
        "\n",
        "    # \"\"\" Saving \"\"\"\n",
        "    if SCORE == SCORE_OD:\n",
        "        df = pd.DataFrame(SCORE, columns=[\"Image\", \"Acc\", \"F1\", \"Jaccard\", \"Recall\", \"Precision\", \"Recall Computed\", \"AUC\"])\n",
        "        df.to_csv(f\"{od_result_dir}/score.csv\")\n",
        "    else:\n",
        "        df = pd.DataFrame(SCORE, columns=[\"Image\", \"Acc\", \"F1\", \"Jaccard\", \"Recall\", \"Precision\", \"Recall Computed\", \"AUC\"])\n",
        "        df.to_csv(f\"{bv_result_dir}/score.csv\")\n",
        "    print(\"\\n\")"
      ],
      "execution_count": null,
      "outputs": [
        {
          "output_type": "stream",
          "name": "stdout",
          "text": [
            "files_working/model.h5\n"
          ]
        },
        {
          "output_type": "stream",
          "name": "stderr",
          "text": [
            "\r  0%|          | 0/5 [00:00<?, ?it/s]"
          ]
        },
        {
          "output_type": "stream",
          "name": "stdout",
          "text": [
            "11_h\n",
            "255 1.0\n",
            " saving result files_demo_od_75/11_h.png\n",
            " saving result files_demo_bv_75/11_h.png\n"
          ]
        },
        {
          "output_type": "stream",
          "name": "stderr",
          "text": [
            "\r 20%|██        | 1/5 [00:02<00:10,  2.54s/it]"
          ]
        },
        {
          "output_type": "stream",
          "name": "stdout",
          "text": [
            "12_h\n",
            "255 1.0\n",
            " saving result files_demo_od_75/12_h.png\n",
            " saving result files_demo_bv_75/12_h.png\n"
          ]
        },
        {
          "output_type": "stream",
          "name": "stderr",
          "text": [
            "\r 40%|████      | 2/5 [00:04<00:06,  2.08s/it]"
          ]
        },
        {
          "output_type": "stream",
          "name": "stdout",
          "text": [
            "13_h\n",
            "255 1.0\n",
            " saving result files_demo_od_75/13_h.png\n",
            " saving result files_demo_bv_75/13_h.png\n"
          ]
        },
        {
          "output_type": "stream",
          "name": "stderr",
          "text": [
            "\r 60%|██████    | 3/5 [00:05<00:03,  1.76s/it]"
          ]
        },
        {
          "output_type": "stream",
          "name": "stdout",
          "text": [
            "14_h\n",
            "255 1.0\n",
            " saving result files_demo_od_75/14_h.png\n",
            " saving result files_demo_bv_75/14_h.png\n"
          ]
        },
        {
          "output_type": "stream",
          "name": "stderr",
          "text": [
            "\r 80%|████████  | 4/5 [00:07<00:01,  1.61s/it]"
          ]
        },
        {
          "output_type": "stream",
          "name": "stdout",
          "text": [
            "15_h\n",
            "255 1.0\n",
            " saving result files_demo_od_75/15_h.png\n",
            " saving result files_demo_bv_75/15_h.png\n"
          ]
        },
        {
          "output_type": "stream",
          "name": "stderr",
          "text": [
            "100%|██████████| 5/5 [00:08<00:00,  1.71s/it]"
          ]
        },
        {
          "output_type": "stream",
          "name": "stdout",
          "text": [
            "\n",
            "\n",
            "****** OD ******Metrics\n",
            "Threshold: 0.9\n",
            "Accuracy: 0.99619\n",
            "F1: 0.80448 (dice score)\n",
            "Jaccard: 0.68015\n",
            "Recall: 0.68731\n",
            "Precision: 0.98649\n",
            "AUC: 0.68731\n",
            "\n",
            "\n",
            "****** BV ******Metrics\n",
            "Threshold: 0.9\n",
            "Accuracy: 0.96874\n",
            "F1: 0.78609 (dice score)\n",
            "Jaccard: 0.64896\n",
            "Recall: 0.70682\n",
            "Precision: 0.88789\n",
            "AUC: 0.70682\n",
            "\n",
            "\n"
          ]
        },
        {
          "output_type": "stream",
          "name": "stderr",
          "text": [
            "\n"
          ]
        }
      ]
    },
    {
      "cell_type": "code",
      "source": [
        "from copy import deepcopy\n",
        "\n",
        "data_dir = \"new_data\"\n",
        "od_channel, bv_channel = 0, 1\n",
        "\n",
        "od_result_dir = \"files_demo_od_75\"\n",
        "bv_result_dir = \"files_demo_bv_75\"\n",
        "\n",
        "create_dir(od_result_dir)\n",
        "create_dir(bv_result_dir)\n",
        "\n",
        "model_dir = \"files_working\"\n",
        "threshold = 0.75\n",
        "\n",
        "\"\"\" Load the model \"\"\"\n",
        "model_file_name = f\"{model_dir}/model.h5\"\n",
        "print(model_file_name)\n",
        "# with CustomObjectScope({'iou': iou, 'dice_coef': dice_coef, 'dice_coef_OD': dice_coef_OD, 'dice_coef_MA': dice_coef_MA, 'dice_loss': dice_loss}):\n",
        "model = tf.keras.models.load_model(model_file_name, compile = False)\n",
        "\n",
        "\"\"\" Load the dataset \"\"\"\n",
        "# dataset_path = os.path.join(data_dir, \"test\")\n",
        "# test_x, test_y = get_filenames_sorted(data_dir + \"/test/image/\", data_dir + \"/test/mask/\" )\n",
        "\n",
        "dataset_path = os.path.join(\"new_data\", \"test\")\n",
        "test_x, test_y = load_data(dataset_path)\n",
        "\n",
        "\"\"\" Make the prediction and calculate the metrics values \"\"\"\n",
        "SCORE_BV, SCORE_OD = [], []\n",
        "for x, y in tqdm(zip(test_x, test_y), total=len(test_x)):\n",
        "    \"\"\" Extracting name \"\"\"\n",
        "    name = x.rsplit(\"/\", 1)[1].rsplit(\".\", 1)[0]\n",
        "    print(name)\n",
        "\n",
        "    \"\"\" Read the image and mask \"\"\"\n",
        "    ori_x, x = read_image(x)\n",
        "    ori_y, y = read_mask(y)\n",
        "\n",
        "    \"\"\" Prediction \"\"\"\n",
        "    y_pred = model.predict(np.expand_dims(x, axis=0))[0]\n",
        "    y_pred_prob = deepcopy(y_pred)\n",
        "    y_pred = y_pred > threshold\n",
        "    y_pred = y_pred.astype(np.float32)\n",
        "\n",
        "    print(np.max(ori_y), np.max(y))\n",
        "\n",
        "    \"\"\" Saving the images \"\"\"\n",
        "    save_image_path_od = f\"{od_result_dir}/{name}.png\"\n",
        "    save_results(ori_x, ori_y, y_pred, save_image_path_od, od_channel)\n",
        "\n",
        "    save_image_path_bv = f\"{bv_result_dir}/{name}.png\"\n",
        "    save_results(ori_x, ori_y, y_pred, save_image_path_bv, bv_channel)\n",
        "\n",
        "\n",
        "#     \"\"\" Calculate the od metrics \"\"\"\n",
        "    bv_pred = y_pred[:, :, bv_channel].flatten()\n",
        "    bv_pred_prob = y_pred_prob[:, :, bv_channel].flatten()\n",
        "    bv_gt = y[:, :, bv_channel].flatten()\n",
        "    acc_value = accuracy_score(bv_gt > threshold, bv_pred>threshold)\n",
        "    f1_value = f1_score(bv_gt > threshold, bv_pred>threshold, labels=[0, 1], average=\"binary\")\n",
        "    jac_value = jaccard_score(bv_gt > threshold, bv_pred>threshold, labels=[0, 1], average=\"binary\")\n",
        "    recall_value = recall_score(bv_gt > threshold, bv_pred>threshold, labels=[0, 1], average=\"binary\")\n",
        "    recall_computed = np.sum((bv_gt > threshold) & (bv_pred > threshold)) / np.sum(bv_gt > threshold)\n",
        "    precision_value = precision_score(bv_gt > threshold, bv_pred>threshold, labels=[0, 1], average=\"binary\")\n",
        "    auc_score = auc(bv_gt > threshold, bv_pred_prob)\n",
        "    SCORE_BV.append([name, acc_value, f1_value, jac_value, recall_value, precision_value, recall_computed, auc_score])\n",
        "\n",
        "#     \"\"\" Calculate the ma metrics \"\"\"\n",
        "    bv_pred = y_pred[:, :, od_channel].flatten()\n",
        "    bv_pred_prob = y_pred_prob[:, :, bv_channel].flatten()\n",
        "    bv_gt = y[:, :, od_channel].flatten()\n",
        "    acc_value = accuracy_score(bv_gt > threshold, bv_pred>threshold)\n",
        "    f1_value = f1_score(bv_gt > threshold, bv_pred>threshold, labels=[0, 1], average=\"binary\")\n",
        "    jac_value = jaccard_score(bv_gt > threshold, bv_pred>threshold, labels=[0, 1], average=\"binary\")\n",
        "    recall_value = recall_score(bv_gt > threshold, bv_pred>threshold, labels=[0, 1], average=\"binary\")\n",
        "    recall_computed = np.sum((bv_gt > threshold) & (bv_pred > threshold)) / np.sum(bv_gt > threshold)\n",
        "    precision_value = precision_score(bv_gt > threshold, bv_pred>threshold, labels=[0, 1], average=\"binary\")\n",
        "    auc_score = auc(bv_gt > threshold, bv_pred_prob)\n",
        "    SCORE_OD.append([name, acc_value, f1_value, jac_value, recall_value, precision_value, recall_computed, auc_score])\n",
        "    \n",
        "print(\"\\n\")\n",
        "for SCORE in [SCORE_OD, SCORE_BV]:\n",
        "    if SCORE == SCORE_OD:\n",
        "        print(\"****** OD ******Metrics\")\n",
        "    else:\n",
        "        print(\"****** BV ******Metrics\")\n",
        "    score = [s[1:] for s in SCORE]\n",
        "    score = np.mean(score, axis=0)\n",
        "    print(f\"Threshold:\", threshold)\n",
        "    print(f\"Accuracy: {score[0]:0.5f}\")\n",
        "    print(f\"F1: {score[1]:0.5f} (dice score)\")\n",
        "    print(f\"Jaccard: {score[2]:0.5f}\")\n",
        "    print(f\"Recall: {score[3]:0.5f}\")\n",
        "    print(f\"Precision: {score[4]:0.5f}\")\n",
        "    print(f\"AUC: {score[5]:0.5f}\")\n",
        "\n",
        "    # \"\"\" Saving \"\"\"\n",
        "    if SCORE == SCORE_OD:\n",
        "        df = pd.DataFrame(SCORE, columns=[\"Image\", \"Acc\", \"F1\", \"Jaccard\", \"Recall\", \"Precision\", \"Recall Computed\", \"AUC\"])\n",
        "        df.to_csv(f\"{od_result_dir}/score.csv\")\n",
        "    else:\n",
        "        df = pd.DataFrame(SCORE, columns=[\"Image\", \"Acc\", \"F1\", \"Jaccard\", \"Recall\", \"Precision\", \"Recall Computed\", \"AUC\"])\n",
        "        df.to_csv(f\"{bv_result_dir}/score.csv\")\n",
        "    print(\"\\n\")"
      ],
      "metadata": {
        "colab": {
          "base_uri": "https://localhost:8080/"
        },
        "id": "BFzrZLQoz_6h",
        "outputId": "fd50d4fd-d9e8-497f-9af3-8c898195aa81"
      },
      "execution_count": null,
      "outputs": [
        {
          "output_type": "stream",
          "name": "stdout",
          "text": [
            "files_working/model.h5\n"
          ]
        },
        {
          "output_type": "stream",
          "name": "stderr",
          "text": [
            "\r  0%|          | 0/5 [00:00<?, ?it/s]"
          ]
        },
        {
          "output_type": "stream",
          "name": "stdout",
          "text": [
            "11_h\n",
            "255 1.0\n",
            " saving result files_demo_od_75/11_h.png\n",
            " saving result files_demo_bv_75/11_h.png\n"
          ]
        },
        {
          "output_type": "stream",
          "name": "stderr",
          "text": [
            "\r 20%|██        | 1/5 [00:01<00:06,  1.51s/it]"
          ]
        },
        {
          "output_type": "stream",
          "name": "stdout",
          "text": [
            "12_h\n",
            "255 1.0\n",
            " saving result files_demo_od_75/12_h.png\n",
            " saving result files_demo_bv_75/12_h.png\n"
          ]
        },
        {
          "output_type": "stream",
          "name": "stderr",
          "text": [
            "\r 40%|████      | 2/5 [00:02<00:03,  1.22s/it]"
          ]
        },
        {
          "output_type": "stream",
          "name": "stdout",
          "text": [
            "13_h\n",
            "255 1.0\n",
            " saving result files_demo_od_75/13_h.png\n",
            " saving result files_demo_bv_75/13_h.png\n"
          ]
        },
        {
          "output_type": "stream",
          "name": "stderr",
          "text": [
            "\r 60%|██████    | 3/5 [00:03<00:02,  1.11s/it]"
          ]
        },
        {
          "output_type": "stream",
          "name": "stdout",
          "text": [
            "14_h\n",
            "255 1.0\n",
            " saving result files_demo_od_75/14_h.png\n",
            " saving result files_demo_bv_75/14_h.png\n"
          ]
        },
        {
          "output_type": "stream",
          "name": "stderr",
          "text": [
            "\r 80%|████████  | 4/5 [00:04<00:01,  1.06s/it]"
          ]
        },
        {
          "output_type": "stream",
          "name": "stdout",
          "text": [
            "15_h\n",
            "255 1.0\n",
            " saving result files_demo_od_75/15_h.png\n",
            " saving result files_demo_bv_75/15_h.png\n"
          ]
        },
        {
          "output_type": "stream",
          "name": "stderr",
          "text": [
            "100%|██████████| 5/5 [00:05<00:00,  1.10s/it]"
          ]
        },
        {
          "output_type": "stream",
          "name": "stdout",
          "text": [
            "\n",
            "\n",
            "****** OD ******Metrics\n",
            "Threshold: 0.75\n",
            "Accuracy: 0.99646\n",
            "F1: 0.82166 (dice score)\n",
            "Jaccard: 0.70423\n",
            "Recall: 0.71624\n",
            "Precision: 0.97982\n",
            "AUC: 0.71624\n",
            "\n",
            "\n",
            "****** BV ******Metrics\n",
            "Threshold: 0.75\n",
            "Accuracy: 0.96904\n",
            "F1: 0.80421 (dice score)\n",
            "Jaccard: 0.67351\n",
            "Recall: 0.75289\n",
            "Precision: 0.86470\n",
            "AUC: 0.75289\n",
            "\n",
            "\n"
          ]
        },
        {
          "output_type": "stream",
          "name": "stderr",
          "text": [
            "\n"
          ]
        }
      ]
    },
    {
      "cell_type": "code",
      "source": [
        "from copy import deepcopy\n",
        "\n",
        "data_dir = \"new_data\"\n",
        "od_channel, bv_channel = 0, 1\n",
        "\n",
        "od_result_dir = \"files_demo_od_75\"\n",
        "bv_result_dir = \"files_demo_bv_75\"\n",
        "\n",
        "create_dir(od_result_dir)\n",
        "create_dir(bv_result_dir)\n",
        "\n",
        "model_dir = \"files_working\"\n",
        "threshold = 0.5\n",
        "\n",
        "\"\"\" Load the model \"\"\"\n",
        "model_file_name = f\"{model_dir}/model.h5\"\n",
        "print(model_file_name)\n",
        "# with CustomObjectScope({'iou': iou, 'dice_coef': dice_coef, 'dice_coef_OD': dice_coef_OD, 'dice_coef_MA': dice_coef_MA, 'dice_loss': dice_loss}):\n",
        "model = tf.keras.models.load_model(model_file_name, compile = False)\n",
        "\n",
        "\"\"\" Load the dataset \"\"\"\n",
        "# dataset_path = os.path.join(data_dir, \"test\")\n",
        "# test_x, test_y = get_filenames_sorted(data_dir + \"/test/image/\", data_dir + \"/test/mask/\" )\n",
        "\n",
        "dataset_path = os.path.join(\"new_data\", \"test\")\n",
        "test_x, test_y = load_data(dataset_path)\n",
        "\n",
        "\"\"\" Make the prediction and calculate the metrics values \"\"\"\n",
        "SCORE_BV, SCORE_OD = [], []\n",
        "for x, y in tqdm(zip(test_x, test_y), total=len(test_x)):\n",
        "    \"\"\" Extracting name \"\"\"\n",
        "    name = x.rsplit(\"/\", 1)[1].rsplit(\".\", 1)[0]\n",
        "    print(name)\n",
        "\n",
        "    \"\"\" Read the image and mask \"\"\"\n",
        "    ori_x, x = read_image(x)\n",
        "    ori_y, y = read_mask(y)\n",
        "\n",
        "    \"\"\" Prediction \"\"\"\n",
        "    y_pred = model.predict(np.expand_dims(x, axis=0))[0]\n",
        "    y_pred_prob = deepcopy(y_pred)\n",
        "    y_pred = y_pred > threshold\n",
        "    y_pred = y_pred.astype(np.float32)\n",
        "\n",
        "    print(np.max(ori_y), np.max(y))\n",
        "\n",
        "    \"\"\" Saving the images \"\"\"\n",
        "    save_image_path_od = f\"{od_result_dir}/{name}.png\"\n",
        "    save_results(ori_x, ori_y, y_pred, save_image_path_od, od_channel)\n",
        "\n",
        "    save_image_path_bv = f\"{bv_result_dir}/{name}.png\"\n",
        "    save_results(ori_x, ori_y, y_pred, save_image_path_bv, bv_channel)\n",
        "\n",
        "\n",
        "#     \"\"\" Calculate the od metrics \"\"\"\n",
        "    bv_pred = y_pred[:, :, bv_channel].flatten()\n",
        "    bv_pred_prob = y_pred_prob[:, :, bv_channel].flatten()\n",
        "    bv_gt = y[:, :, bv_channel].flatten()\n",
        "    acc_value = accuracy_score(bv_gt > threshold, bv_pred>threshold)\n",
        "    f1_value = f1_score(bv_gt > threshold, bv_pred>threshold, labels=[0, 1], average=\"binary\")\n",
        "    jac_value = jaccard_score(bv_gt > threshold, bv_pred>threshold, labels=[0, 1], average=\"binary\")\n",
        "    recall_value = recall_score(bv_gt > threshold, bv_pred>threshold, labels=[0, 1], average=\"binary\")\n",
        "    recall_computed = np.sum((bv_gt > threshold) & (bv_pred > threshold)) / np.sum(bv_gt > threshold)\n",
        "    precision_value = precision_score(bv_gt > threshold, bv_pred>threshold, labels=[0, 1], average=\"binary\")\n",
        "    auc_score = auc(bv_gt > threshold, bv_pred_prob)\n",
        "    SCORE_BV.append([name, acc_value, f1_value, jac_value, recall_value, precision_value, recall_computed, auc_score])\n",
        "\n",
        "#     \"\"\" Calculate the ma metrics \"\"\"\n",
        "    bv_pred = y_pred[:, :, od_channel].flatten()\n",
        "    bv_pred_prob = y_pred_prob[:, :, bv_channel].flatten()\n",
        "    bv_gt = y[:, :, od_channel].flatten()\n",
        "    acc_value = accuracy_score(bv_gt > threshold, bv_pred>threshold)\n",
        "    f1_value = f1_score(bv_gt > threshold, bv_pred>threshold, labels=[0, 1], average=\"binary\")\n",
        "    jac_value = jaccard_score(bv_gt > threshold, bv_pred>threshold, labels=[0, 1], average=\"binary\")\n",
        "    recall_value = recall_score(bv_gt > threshold, bv_pred>threshold, labels=[0, 1], average=\"binary\")\n",
        "    recall_computed = np.sum((bv_gt > threshold) & (bv_pred > threshold)) / np.sum(bv_gt > threshold)\n",
        "    precision_value = precision_score(bv_gt > threshold, bv_pred>threshold, labels=[0, 1], average=\"binary\")\n",
        "    auc_score = auc(bv_gt > threshold, bv_pred_prob)\n",
        "    SCORE_OD.append([name, acc_value, f1_value, jac_value, recall_value, precision_value, recall_computed, auc_score])\n",
        "    \n",
        "print(\"\\n\")\n",
        "for SCORE in [SCORE_OD, SCORE_BV]:\n",
        "    if SCORE == SCORE_OD:\n",
        "        print(\"****** OD ******Metrics\")\n",
        "    else:\n",
        "        print(\"****** BV ******Metrics\")\n",
        "    score = [s[1:] for s in SCORE]\n",
        "    score = np.mean(score, axis=0)\n",
        "    print(f\"Threshold:\", threshold)\n",
        "    print(f\"Accuracy: {score[0]:0.5f}\")\n",
        "    print(f\"F1: {score[1]:0.5f} (dice score)\")\n",
        "    print(f\"Jaccard: {score[2]:0.5f}\")\n",
        "    print(f\"Recall: {score[3]:0.5f}\")\n",
        "    print(f\"Precision: {score[4]:0.5f}\")\n",
        "    print(f\"AUC: {score[5]:0.5f}\")\n",
        "\n",
        "    # \"\"\" Saving \"\"\"\n",
        "    if SCORE == SCORE_OD:\n",
        "        df = pd.DataFrame(SCORE, columns=[\"Image\", \"Acc\", \"F1\", \"Jaccard\", \"Recall\", \"Precision\", \"Recall Computed\", \"AUC\"])\n",
        "        df.to_csv(f\"{od_result_dir}/score.csv\")\n",
        "    else:\n",
        "        df = pd.DataFrame(SCORE, columns=[\"Image\", \"Acc\", \"F1\", \"Jaccard\", \"Recall\", \"Precision\", \"Recall Computed\", \"AUC\"])\n",
        "        df.to_csv(f\"{bv_result_dir}/score.csv\")\n",
        "    print(\"\\n\")"
      ],
      "metadata": {
        "colab": {
          "base_uri": "https://localhost:8080/"
        },
        "id": "nqrUpbKt02_x",
        "outputId": "81e50a95-b592-4dcd-dcbf-2b652eae01f4"
      },
      "execution_count": null,
      "outputs": [
        {
          "output_type": "stream",
          "name": "stdout",
          "text": [
            "files_working/model.h5\n"
          ]
        },
        {
          "output_type": "stream",
          "name": "stderr",
          "text": [
            "\r  0%|          | 0/5 [00:00<?, ?it/s]"
          ]
        },
        {
          "output_type": "stream",
          "name": "stdout",
          "text": [
            "11_h\n",
            "255 1.0\n",
            " saving result files_demo_od_75/11_h.png\n",
            " saving result files_demo_bv_75/11_h.png\n"
          ]
        },
        {
          "output_type": "stream",
          "name": "stderr",
          "text": [
            "\r 20%|██        | 1/5 [00:02<00:09,  2.28s/it]"
          ]
        },
        {
          "output_type": "stream",
          "name": "stdout",
          "text": [
            "12_h\n",
            "255 1.0\n",
            " saving result files_demo_od_75/12_h.png\n",
            " saving result files_demo_bv_75/12_h.png\n"
          ]
        },
        {
          "output_type": "stream",
          "name": "stderr",
          "text": [
            "\r 40%|████      | 2/5 [00:04<00:05,  2.00s/it]"
          ]
        },
        {
          "output_type": "stream",
          "name": "stdout",
          "text": [
            "13_h\n",
            "255 1.0\n",
            " saving result files_demo_od_75/13_h.png\n",
            " saving result files_demo_bv_75/13_h.png\n"
          ]
        },
        {
          "output_type": "stream",
          "name": "stderr",
          "text": [
            "\r 60%|██████    | 3/5 [00:05<00:03,  1.74s/it]"
          ]
        },
        {
          "output_type": "stream",
          "name": "stdout",
          "text": [
            "14_h\n",
            "255 1.0\n",
            " saving result files_demo_od_75/14_h.png\n",
            " saving result files_demo_bv_75/14_h.png\n"
          ]
        },
        {
          "output_type": "stream",
          "name": "stderr",
          "text": [
            "\r 80%|████████  | 4/5 [00:06<00:01,  1.63s/it]"
          ]
        },
        {
          "output_type": "stream",
          "name": "stdout",
          "text": [
            "15_h\n",
            "255 1.0\n",
            " saving result files_demo_od_75/15_h.png\n",
            " saving result files_demo_bv_75/15_h.png\n"
          ]
        },
        {
          "output_type": "stream",
          "name": "stderr",
          "text": [
            "100%|██████████| 5/5 [00:08<00:00,  1.61s/it]"
          ]
        },
        {
          "output_type": "stream",
          "name": "stdout",
          "text": [
            "\n",
            "\n",
            "****** OD ******Metrics\n",
            "Threshold: 0.5\n",
            "Accuracy: 0.99673\n",
            "F1: 0.83973 (dice score)\n",
            "Jaccard: 0.72962\n",
            "Recall: 0.74850\n",
            "Precision: 0.97154\n",
            "AUC: 0.74850\n",
            "\n",
            "\n",
            "****** BV ******Metrics\n",
            "Threshold: 0.5\n",
            "Accuracy: 0.96837\n",
            "F1: 0.81661 (dice score)\n",
            "Jaccard: 0.69074\n",
            "Recall: 0.79067\n",
            "Precision: 0.84549\n",
            "AUC: 0.79067\n",
            "\n",
            "\n"
          ]
        },
        {
          "output_type": "stream",
          "name": "stderr",
          "text": [
            "\n"
          ]
        }
      ]
    },
    {
      "cell_type": "code",
      "source": [
        "from copy import deepcopy\n",
        "\n",
        "data_dir = \"new_data\"\n",
        "od_channel, bv_channel = 0, 1\n",
        "\n",
        "od_result_dir = \"files_demo_od_75\"\n",
        "bv_result_dir = \"files_demo_bv_75\"\n",
        "\n",
        "create_dir(od_result_dir)\n",
        "create_dir(bv_result_dir)\n",
        "\n",
        "model_dir = \"files_working\"\n",
        "threshold = 0.3\n",
        "\n",
        "\"\"\" Load the model \"\"\"\n",
        "model_file_name = f\"{model_dir}/model.h5\"\n",
        "print(model_file_name)\n",
        "# with CustomObjectScope({'iou': iou, 'dice_coef': dice_coef, 'dice_coef_OD': dice_coef_OD, 'dice_coef_MA': dice_coef_MA, 'dice_loss': dice_loss}):\n",
        "model = tf.keras.models.load_model(model_file_name, compile = False)\n",
        "\n",
        "\"\"\" Load the dataset \"\"\"\n",
        "# dataset_path = os.path.join(data_dir, \"test\")\n",
        "# test_x, test_y = get_filenames_sorted(data_dir + \"/test/image/\", data_dir + \"/test/mask/\" )\n",
        "\n",
        "dataset_path = os.path.join(\"new_data\", \"test\")\n",
        "test_x, test_y = load_data(dataset_path)\n",
        "\n",
        "\"\"\" Make the prediction and calculate the metrics values \"\"\"\n",
        "SCORE_BV, SCORE_OD = [], []\n",
        "for x, y in tqdm(zip(test_x, test_y), total=len(test_x)):\n",
        "    \"\"\" Extracting name \"\"\"\n",
        "    name = x.rsplit(\"/\", 1)[1].rsplit(\".\", 1)[0]\n",
        "    print(name)\n",
        "\n",
        "    \"\"\" Read the image and mask \"\"\"\n",
        "    ori_x, x = read_image(x)\n",
        "    ori_y, y = read_mask(y)\n",
        "\n",
        "    \"\"\" Prediction \"\"\"\n",
        "    y_pred = model.predict(np.expand_dims(x, axis=0))[0]\n",
        "    y_pred_prob = deepcopy(y_pred)\n",
        "    y_pred = y_pred > threshold\n",
        "    y_pred = y_pred.astype(np.float32)\n",
        "\n",
        "    print(np.max(ori_y), np.max(y))\n",
        "\n",
        "    \"\"\" Saving the images \"\"\"\n",
        "    save_image_path_od = f\"{od_result_dir}/{name}.png\"\n",
        "    save_results(ori_x, ori_y, y_pred, save_image_path_od, od_channel)\n",
        "\n",
        "    save_image_path_bv = f\"{bv_result_dir}/{name}.png\"\n",
        "    save_results(ori_x, ori_y, y_pred, save_image_path_bv, bv_channel)\n",
        "\n",
        "\n",
        "#     \"\"\" Calculate the od metrics \"\"\"\n",
        "    bv_pred = y_pred[:, :, bv_channel].flatten()\n",
        "    bv_pred_prob = y_pred_prob[:, :, bv_channel].flatten()\n",
        "    bv_gt = y[:, :, bv_channel].flatten()\n",
        "    acc_value = accuracy_score(bv_gt > threshold, bv_pred>threshold)\n",
        "    f1_value = f1_score(bv_gt > threshold, bv_pred>threshold, labels=[0, 1], average=\"binary\")\n",
        "    jac_value = jaccard_score(bv_gt > threshold, bv_pred>threshold, labels=[0, 1], average=\"binary\")\n",
        "    recall_value = recall_score(bv_gt > threshold, bv_pred>threshold, labels=[0, 1], average=\"binary\")\n",
        "    recall_computed = np.sum((bv_gt > threshold) & (bv_pred > threshold)) / np.sum(bv_gt > threshold)\n",
        "    precision_value = precision_score(bv_gt > threshold, bv_pred>threshold, labels=[0, 1], average=\"binary\")\n",
        "    auc_score = auc(bv_gt > threshold, bv_pred_prob)\n",
        "    SCORE_BV.append([name, acc_value, f1_value, jac_value, recall_value, precision_value, recall_computed, auc_score])\n",
        "\n",
        "#     \"\"\" Calculate the ma metrics \"\"\"\n",
        "    bv_pred = y_pred[:, :, od_channel].flatten()\n",
        "    bv_pred_prob = y_pred_prob[:, :, bv_channel].flatten()\n",
        "    bv_gt = y[:, :, od_channel].flatten()\n",
        "    acc_value = accuracy_score(bv_gt > threshold, bv_pred>threshold)\n",
        "    f1_value = f1_score(bv_gt > threshold, bv_pred>threshold, labels=[0, 1], average=\"binary\")\n",
        "    jac_value = jaccard_score(bv_gt > threshold, bv_pred>threshold, labels=[0, 1], average=\"binary\")\n",
        "    recall_value = recall_score(bv_gt > threshold, bv_pred>threshold, labels=[0, 1], average=\"binary\")\n",
        "    recall_computed = np.sum((bv_gt > threshold) & (bv_pred > threshold)) / np.sum(bv_gt > threshold)\n",
        "    precision_value = precision_score(bv_gt > threshold, bv_pred>threshold, labels=[0, 1], average=\"binary\")\n",
        "    auc_score = auc(bv_gt > threshold, bv_pred_prob)\n",
        "    SCORE_OD.append([name, acc_value, f1_value, jac_value, recall_value, precision_value, recall_computed, auc_score])\n",
        "    \n",
        "print(\"\\n\")\n",
        "for SCORE in [SCORE_OD, SCORE_BV]:\n",
        "    if SCORE == SCORE_OD:\n",
        "        print(\"****** OD ******Metrics\")\n",
        "    else:\n",
        "        print(\"****** BV ******Metrics\")\n",
        "    score = [s[1:] for s in SCORE]\n",
        "    score = np.mean(score, axis=0)\n",
        "    print(f\"Threshold:\", threshold)\n",
        "    print(f\"Accuracy: {score[0]:0.5f}\")\n",
        "    print(f\"F1: {score[1]:0.5f} (dice score)\")\n",
        "    print(f\"Jaccard: {score[2]:0.5f}\")\n",
        "    print(f\"Recall: {score[3]:0.5f}\")\n",
        "    print(f\"Precision: {score[4]:0.5f}\")\n",
        "    print(f\"AUC: {score[5]:0.5f}\")\n",
        "\n",
        "    # \"\"\" Saving \"\"\"\n",
        "    if SCORE == SCORE_OD:\n",
        "        df = pd.DataFrame(SCORE, columns=[\"Image\", \"Acc\", \"F1\", \"Jaccard\", \"Recall\", \"Precision\", \"Recall Computed\", \"AUC\"])\n",
        "        df.to_csv(f\"{od_result_dir}/score.csv\")\n",
        "    else:\n",
        "        df = pd.DataFrame(SCORE, columns=[\"Image\", \"Acc\", \"F1\", \"Jaccard\", \"Recall\", \"Precision\", \"Recall Computed\", \"AUC\"])\n",
        "        df.to_csv(f\"{bv_result_dir}/score.csv\")\n",
        "    print(\"\\n\")"
      ],
      "metadata": {
        "colab": {
          "base_uri": "https://localhost:8080/"
        },
        "id": "84Mh2kMd1vNq",
        "outputId": "8164c6e6-951d-47ab-c72d-8364dce7e3ab"
      },
      "execution_count": null,
      "outputs": [
        {
          "output_type": "stream",
          "name": "stdout",
          "text": [
            "files_working/model.h5\n"
          ]
        },
        {
          "output_type": "stream",
          "name": "stderr",
          "text": [
            "\r  0%|          | 0/5 [00:00<?, ?it/s]"
          ]
        },
        {
          "output_type": "stream",
          "name": "stdout",
          "text": [
            "11_h\n",
            "255 1.0\n",
            " saving result files_demo_od_75/11_h.png\n",
            " saving result files_demo_bv_75/11_h.png\n"
          ]
        },
        {
          "output_type": "stream",
          "name": "stderr",
          "text": [
            "\r 20%|██        | 1/5 [00:02<00:08,  2.23s/it]"
          ]
        },
        {
          "output_type": "stream",
          "name": "stdout",
          "text": [
            "12_h\n",
            "255 1.0\n",
            " saving result files_demo_od_75/12_h.png\n",
            " saving result files_demo_bv_75/12_h.png\n"
          ]
        },
        {
          "output_type": "stream",
          "name": "stderr",
          "text": [
            "\r 40%|████      | 2/5 [00:03<00:05,  1.95s/it]"
          ]
        },
        {
          "output_type": "stream",
          "name": "stdout",
          "text": [
            "13_h\n",
            "255 1.0\n",
            " saving result files_demo_od_75/13_h.png\n",
            " saving result files_demo_bv_75/13_h.png\n"
          ]
        },
        {
          "output_type": "stream",
          "name": "stderr",
          "text": [
            "\r 60%|██████    | 3/5 [00:05<00:03,  1.71s/it]"
          ]
        },
        {
          "output_type": "stream",
          "name": "stdout",
          "text": [
            "14_h\n",
            "255 1.0\n",
            " saving result files_demo_od_75/14_h.png\n",
            " saving result files_demo_bv_75/14_h.png\n"
          ]
        },
        {
          "output_type": "stream",
          "name": "stderr",
          "text": [
            "\r 80%|████████  | 4/5 [00:07<00:01,  1.74s/it]"
          ]
        },
        {
          "output_type": "stream",
          "name": "stdout",
          "text": [
            "15_h\n",
            "255 1.0\n",
            " saving result files_demo_od_75/15_h.png\n",
            " saving result files_demo_bv_75/15_h.png\n"
          ]
        },
        {
          "output_type": "stream",
          "name": "stderr",
          "text": [
            "100%|██████████| 5/5 [00:08<00:00,  1.68s/it]"
          ]
        },
        {
          "output_type": "stream",
          "name": "stdout",
          "text": [
            "\n",
            "\n",
            "****** OD ******Metrics\n",
            "Threshold: 0.3\n",
            "Accuracy: 0.99692\n",
            "F1: 0.85191 (dice score)\n",
            "Jaccard: 0.74688\n",
            "Recall: 0.77206\n",
            "Precision: 0.96427\n",
            "AUC: 0.77206\n",
            "\n",
            "\n",
            "****** BV ******Metrics\n",
            "Threshold: 0.3\n",
            "Accuracy: 0.96702\n",
            "F1: 0.82213 (dice score)\n",
            "Jaccard: 0.69846\n",
            "Recall: 0.82216\n",
            "Precision: 0.82297\n",
            "AUC: 0.82216\n",
            "\n",
            "\n"
          ]
        },
        {
          "output_type": "stream",
          "name": "stderr",
          "text": [
            "\n"
          ]
        }
      ]
    },
    {
      "cell_type": "code",
      "source": [
        "from copy import deepcopy\n",
        "\n",
        "data_dir = \"new_data\"\n",
        "od_channel, bv_channel = 0, 1\n",
        "\n",
        "od_result_dir = \"files_demo_od_75\"\n",
        "bv_result_dir = \"files_demo_bv_75\"\n",
        "\n",
        "create_dir(od_result_dir)\n",
        "create_dir(bv_result_dir)\n",
        "\n",
        "model_dir = \"files_working\"\n",
        "threshold = 0.2\n",
        "\n",
        "\"\"\" Load the model \"\"\"\n",
        "model_file_name = f\"{model_dir}/model.h5\"\n",
        "print(model_file_name)\n",
        "# with CustomObjectScope({'iou': iou, 'dice_coef': dice_coef, 'dice_coef_OD': dice_coef_OD, 'dice_coef_MA': dice_coef_MA, 'dice_loss': dice_loss}):\n",
        "model = tf.keras.models.load_model(model_file_name, compile = False)\n",
        "\n",
        "\"\"\" Load the dataset \"\"\"\n",
        "# dataset_path = os.path.join(data_dir, \"test\")\n",
        "# test_x, test_y = get_filenames_sorted(data_dir + \"/test/image/\", data_dir + \"/test/mask/\" )\n",
        "\n",
        "dataset_path = os.path.join(\"new_data\", \"test\")\n",
        "test_x, test_y = load_data(dataset_path)\n",
        "\n",
        "\"\"\" Make the prediction and calculate the metrics values \"\"\"\n",
        "SCORE_BV, SCORE_OD = [], []\n",
        "for x, y in tqdm(zip(test_x, test_y), total=len(test_x)):\n",
        "    \"\"\" Extracting name \"\"\"\n",
        "    name = x.rsplit(\"/\", 1)[1].rsplit(\".\", 1)[0]\n",
        "    print(name)\n",
        "\n",
        "    \"\"\" Read the image and mask \"\"\"\n",
        "    ori_x, x = read_image(x)\n",
        "    ori_y, y = read_mask(y)\n",
        "\n",
        "    \"\"\" Prediction \"\"\"\n",
        "    y_pred = model.predict(np.expand_dims(x, axis=0))[0]\n",
        "    y_pred_prob = deepcopy(y_pred)\n",
        "    y_pred = y_pred > threshold\n",
        "    y_pred = y_pred.astype(np.float32)\n",
        "\n",
        "    print(np.max(ori_y), np.max(y))\n",
        "\n",
        "    \"\"\" Saving the images \"\"\"\n",
        "    save_image_path_od = f\"{od_result_dir}/{name}.png\"\n",
        "    save_results(ori_x, ori_y, y_pred, save_image_path_od, od_channel)\n",
        "\n",
        "    save_image_path_bv = f\"{bv_result_dir}/{name}.png\"\n",
        "    save_results(ori_x, ori_y, y_pred, save_image_path_bv, bv_channel)\n",
        "\n",
        "\n",
        "#     \"\"\" Calculate the od metrics \"\"\"\n",
        "    bv_pred = y_pred[:, :, bv_channel].flatten()\n",
        "    bv_pred_prob = y_pred_prob[:, :, bv_channel].flatten()\n",
        "    bv_gt = y[:, :, bv_channel].flatten()\n",
        "    acc_value = accuracy_score(bv_gt > threshold, bv_pred>threshold)\n",
        "    f1_value = f1_score(bv_gt > threshold, bv_pred>threshold, labels=[0, 1], average=\"binary\")\n",
        "    jac_value = jaccard_score(bv_gt > threshold, bv_pred>threshold, labels=[0, 1], average=\"binary\")\n",
        "    recall_value = recall_score(bv_gt > threshold, bv_pred>threshold, labels=[0, 1], average=\"binary\")\n",
        "    recall_computed = np.sum((bv_gt > threshold) & (bv_pred > threshold)) / np.sum(bv_gt > threshold)\n",
        "    precision_value = precision_score(bv_gt > threshold, bv_pred>threshold, labels=[0, 1], average=\"binary\")\n",
        "    auc_score = auc(bv_gt > threshold, bv_pred_prob)\n",
        "    SCORE_BV.append([name, acc_value, f1_value, jac_value, recall_value, precision_value, recall_computed, auc_score])\n",
        "\n",
        "#     \"\"\" Calculate the ma metrics \"\"\"\n",
        "    bv_pred = y_pred[:, :, od_channel].flatten()\n",
        "    bv_pred_prob = y_pred_prob[:, :, bv_channel].flatten()\n",
        "    bv_gt = y[:, :, od_channel].flatten()\n",
        "    acc_value = accuracy_score(bv_gt > threshold, bv_pred>threshold)\n",
        "    f1_value = f1_score(bv_gt > threshold, bv_pred>threshold, labels=[0, 1], average=\"binary\")\n",
        "    jac_value = jaccard_score(bv_gt > threshold, bv_pred>threshold, labels=[0, 1], average=\"binary\")\n",
        "    recall_value = recall_score(bv_gt > threshold, bv_pred>threshold, labels=[0, 1], average=\"binary\")\n",
        "    recall_computed = np.sum((bv_gt > threshold) & (bv_pred > threshold)) / np.sum(bv_gt > threshold)\n",
        "    precision_value = precision_score(bv_gt > threshold, bv_pred>threshold, labels=[0, 1], average=\"binary\")\n",
        "    auc_score = auc(bv_gt > threshold, bv_pred_prob)\n",
        "    SCORE_OD.append([name, acc_value, f1_value, jac_value, recall_value, precision_value, recall_computed, auc_score])\n",
        "    \n",
        "print(\"\\n\")\n",
        "for SCORE in [SCORE_OD, SCORE_BV]:\n",
        "    if SCORE == SCORE_OD:\n",
        "        print(\"****** OD ******Metrics\")\n",
        "    else:\n",
        "        print(\"****** BV ******Metrics\")\n",
        "    score = [s[1:] for s in SCORE]\n",
        "    score = np.mean(score, axis=0)\n",
        "    print(f\"Threshold:\", threshold)\n",
        "    print(f\"Accuracy: {score[0]:0.5f}\")\n",
        "    print(f\"F1: {score[1]:0.5f} (dice score)\")\n",
        "    print(f\"Jaccard: {score[2]:0.5f}\")\n",
        "    print(f\"Recall: {score[3]:0.5f}\")\n",
        "    print(f\"Precision: {score[4]:0.5f}\")\n",
        "    print(f\"AUC: {score[5]:0.5f}\")\n",
        "\n",
        "    # \"\"\" Saving \"\"\"\n",
        "    if SCORE == SCORE_OD:\n",
        "        df = pd.DataFrame(SCORE, columns=[\"Image\", \"Acc\", \"F1\", \"Jaccard\", \"Recall\", \"Precision\", \"Recall Computed\", \"AUC\"])\n",
        "        df.to_csv(f\"{od_result_dir}/score.csv\")\n",
        "    else:\n",
        "        df = pd.DataFrame(SCORE, columns=[\"Image\", \"Acc\", \"F1\", \"Jaccard\", \"Recall\", \"Precision\", \"Recall Computed\", \"AUC\"])\n",
        "        df.to_csv(f\"{bv_result_dir}/score.csv\")\n",
        "    print(\"\\n\")"
      ],
      "metadata": {
        "id": "ucIUzTES1_Ix",
        "colab": {
          "base_uri": "https://localhost:8080/"
        },
        "outputId": "ad12622e-d417-47f4-c5bf-1b1c6571492c"
      },
      "execution_count": null,
      "outputs": [
        {
          "output_type": "stream",
          "name": "stdout",
          "text": [
            "files_working/model.h5\n"
          ]
        },
        {
          "output_type": "stream",
          "name": "stderr",
          "text": [
            "\r  0%|          | 0/5 [00:00<?, ?it/s]"
          ]
        },
        {
          "output_type": "stream",
          "name": "stdout",
          "text": [
            "11_h\n",
            "255 1.0\n",
            " saving result files_demo_od_75/11_h.png\n",
            " saving result files_demo_bv_75/11_h.png\n"
          ]
        },
        {
          "output_type": "stream",
          "name": "stderr",
          "text": [
            "\r 20%|██        | 1/5 [00:22<01:29, 22.42s/it]"
          ]
        },
        {
          "output_type": "stream",
          "name": "stdout",
          "text": [
            "12_h\n",
            "255 1.0\n",
            " saving result files_demo_od_75/12_h.png\n",
            " saving result files_demo_bv_75/12_h.png\n"
          ]
        },
        {
          "output_type": "stream",
          "name": "stderr",
          "text": [
            "\r 40%|████      | 2/5 [00:24<00:30, 10.27s/it]"
          ]
        },
        {
          "output_type": "stream",
          "name": "stdout",
          "text": [
            "13_h\n",
            "255 1.0\n",
            " saving result files_demo_od_75/13_h.png\n",
            " saving result files_demo_bv_75/13_h.png\n"
          ]
        },
        {
          "output_type": "stream",
          "name": "stderr",
          "text": [
            "\r 60%|██████    | 3/5 [00:26<00:12,  6.44s/it]"
          ]
        },
        {
          "output_type": "stream",
          "name": "stdout",
          "text": [
            "14_h\n",
            "255 1.0\n",
            " saving result files_demo_od_75/14_h.png\n",
            " saving result files_demo_bv_75/14_h.png\n"
          ]
        },
        {
          "output_type": "stream",
          "name": "stderr",
          "text": [
            "\r 80%|████████  | 4/5 [00:27<00:04,  4.54s/it]"
          ]
        },
        {
          "output_type": "stream",
          "name": "stdout",
          "text": [
            "15_h\n",
            "255 1.0\n",
            " saving result files_demo_od_75/15_h.png\n",
            " saving result files_demo_bv_75/15_h.png\n"
          ]
        },
        {
          "output_type": "stream",
          "name": "stderr",
          "text": [
            "100%|██████████| 5/5 [00:29<00:00,  5.86s/it]\n"
          ]
        },
        {
          "output_type": "stream",
          "name": "stdout",
          "text": [
            "\n",
            "\n",
            "****** OD ******Metrics\n",
            "Threshold: 0.2\n",
            "Accuracy: 0.99701\n",
            "F1: 0.85878 (dice score)\n",
            "Jaccard: 0.75635\n",
            "Recall: 0.78752\n",
            "Precision: 0.95769\n",
            "AUC: 0.78752\n",
            "\n",
            "\n",
            "****** BV ******Metrics\n",
            "Threshold: 0.2\n",
            "Accuracy: 0.96516\n",
            "F1: 0.82098 (dice score)\n",
            "Jaccard: 0.69669\n",
            "Recall: 0.84221\n",
            "Precision: 0.80153\n",
            "AUC: 0.84221\n",
            "\n",
            "\n"
          ]
        }
      ]
    },
    {
      "cell_type": "code",
      "source": [
        "from copy import deepcopy\n",
        "\n",
        "data_dir = \"new_data\"\n",
        "od_channel, bv_channel = 0, 1\n",
        "\n",
        "od_result_dir = \"files_demo_od_75\"\n",
        "bv_result_dir = \"files_demo_bv_75\"\n",
        "\n",
        "create_dir(od_result_dir)\n",
        "create_dir(bv_result_dir)\n",
        "\n",
        "model_dir = \"files_working\"\n",
        "threshold = 0.25\n",
        "\n",
        "\"\"\" Load the model \"\"\"\n",
        "model_file_name = f\"{model_dir}/model.h5\"\n",
        "print(model_file_name)\n",
        "# with CustomObjectScope({'iou': iou, 'dice_coef': dice_coef, 'dice_coef_OD': dice_coef_OD, 'dice_coef_MA': dice_coef_MA, 'dice_loss': dice_loss}):\n",
        "model = tf.keras.models.load_model(model_file_name, compile = False)\n",
        "\n",
        "\"\"\" Load the dataset \"\"\"\n",
        "# dataset_path = os.path.join(data_dir, \"test\")\n",
        "# test_x, test_y = get_filenames_sorted(data_dir + \"/test/image/\", data_dir + \"/test/mask/\" )\n",
        "\n",
        "dataset_path = os.path.join(\"new_data\", \"test\")\n",
        "test_x, test_y = load_data(dataset_path)\n",
        "\n",
        "\"\"\" Make the prediction and calculate the metrics values \"\"\"\n",
        "SCORE_BV, SCORE_OD = [], []\n",
        "for x, y in tqdm(zip(test_x, test_y), total=len(test_x)):\n",
        "    \"\"\" Extracting name \"\"\"\n",
        "    name = x.rsplit(\"/\", 1)[1].rsplit(\".\", 1)[0]\n",
        "    print(name)\n",
        "\n",
        "    \"\"\" Read the image and mask \"\"\"\n",
        "    ori_x, x = read_image(x)\n",
        "    ori_y, y = read_mask(y)\n",
        "\n",
        "    \"\"\" Prediction \"\"\"\n",
        "    y_pred = model.predict(np.expand_dims(x, axis=0))[0]\n",
        "    y_pred_prob = deepcopy(y_pred)\n",
        "    y_pred = y_pred > threshold\n",
        "    y_pred = y_pred.astype(np.float32)\n",
        "\n",
        "    print(np.max(ori_y), np.max(y))\n",
        "\n",
        "    \"\"\" Saving the images \"\"\"\n",
        "    save_image_path_od = f\"{od_result_dir}/{name}.png\"\n",
        "    save_results(ori_x, ori_y, y_pred, save_image_path_od, od_channel)\n",
        "\n",
        "    save_image_path_bv = f\"{bv_result_dir}/{name}.png\"\n",
        "    save_results(ori_x, ori_y, y_pred, save_image_path_bv, bv_channel)\n",
        "\n",
        "\n",
        "#     \"\"\" Calculate the od metrics \"\"\"\n",
        "    bv_pred = y_pred[:, :, bv_channel].flatten()\n",
        "    bv_pred_prob = y_pred_prob[:, :, bv_channel].flatten()\n",
        "    bv_gt = y[:, :, bv_channel].flatten()\n",
        "    acc_value = accuracy_score(bv_gt > threshold, bv_pred>threshold)\n",
        "    f1_value = f1_score(bv_gt > threshold, bv_pred>threshold, labels=[0, 1], average=\"binary\")\n",
        "    jac_value = jaccard_score(bv_gt > threshold, bv_pred>threshold, labels=[0, 1], average=\"binary\")\n",
        "    recall_value = recall_score(bv_gt > threshold, bv_pred>threshold, labels=[0, 1], average=\"binary\")\n",
        "    recall_computed = np.sum((bv_gt > threshold) & (bv_pred > threshold)) / np.sum(bv_gt > threshold)\n",
        "    precision_value = precision_score(bv_gt > threshold, bv_pred>threshold, labels=[0, 1], average=\"binary\")\n",
        "    auc_score = auc(bv_gt > threshold, bv_pred_prob)\n",
        "    SCORE_BV.append([name, acc_value, f1_value, jac_value, recall_value, precision_value, recall_computed, auc_score])\n",
        "\n",
        "#     \"\"\" Calculate the ma metrics \"\"\"\n",
        "    bv_pred = y_pred[:, :, od_channel].flatten()\n",
        "    bv_pred_prob = y_pred_prob[:, :, bv_channel].flatten()\n",
        "    bv_gt = y[:, :, od_channel].flatten()\n",
        "    acc_value = accuracy_score(bv_gt > threshold, bv_pred>threshold)\n",
        "    f1_value = f1_score(bv_gt > threshold, bv_pred>threshold, labels=[0, 1], average=\"binary\")\n",
        "    jac_value = jaccard_score(bv_gt > threshold, bv_pred>threshold, labels=[0, 1], average=\"binary\")\n",
        "    recall_value = recall_score(bv_gt > threshold, bv_pred>threshold, labels=[0, 1], average=\"binary\")\n",
        "    recall_computed = np.sum((bv_gt > threshold) & (bv_pred > threshold)) / np.sum(bv_gt > threshold)\n",
        "    precision_value = precision_score(bv_gt > threshold, bv_pred>threshold, labels=[0, 1], average=\"binary\")\n",
        "    auc_score = auc(bv_gt > threshold, bv_pred_prob)\n",
        "    SCORE_OD.append([name, acc_value, f1_value, jac_value, recall_value, precision_value, recall_computed, auc_score])\n",
        "    \n",
        "print(\"\\n\")\n",
        "for SCORE in [SCORE_OD, SCORE_BV]:\n",
        "    if SCORE == SCORE_OD:\n",
        "        print(\"****** OD ******Metrics\")\n",
        "    else:\n",
        "        print(\"****** BV ******Metrics\")\n",
        "    score = [s[1:] for s in SCORE]\n",
        "    score = np.mean(score, axis=0)\n",
        "    print(f\"Threshold:\", threshold)\n",
        "    print(f\"Accuracy: {score[0]:0.5f}\")\n",
        "    print(f\"F1: {score[1]:0.5f} (dice score)\")\n",
        "    print(f\"Jaccard: {score[2]:0.5f}\")\n",
        "    print(f\"Recall: {score[3]:0.5f}\")\n",
        "    print(f\"Precision: {score[4]:0.5f}\")\n",
        "    print(f\"AUC: {score[5]:0.5f}\")\n",
        "\n",
        "    # \"\"\" Saving \"\"\"\n",
        "    if SCORE == SCORE_OD:\n",
        "        df = pd.DataFrame(SCORE, columns=[\"Image\", \"Acc\", \"F1\", \"Jaccard\", \"Recall\", \"Precision\", \"Recall Computed\", \"AUC\"])\n",
        "        df.to_csv(f\"{od_result_dir}/score.csv\")\n",
        "    else:\n",
        "        df = pd.DataFrame(SCORE, columns=[\"Image\", \"Acc\", \"F1\", \"Jaccard\", \"Recall\", \"Precision\", \"Recall Computed\", \"AUC\"])\n",
        "        df.to_csv(f\"{bv_result_dir}/score.csv\")\n",
        "    print(\"\\n\")"
      ],
      "metadata": {
        "id": "60gftf9f3u8S",
        "colab": {
          "base_uri": "https://localhost:8080/"
        },
        "outputId": "1e4ada64-efb8-4b7a-f60e-ced9ef7b11d7"
      },
      "execution_count": null,
      "outputs": [
        {
          "output_type": "stream",
          "name": "stdout",
          "text": [
            "files_working/model.h5\n"
          ]
        },
        {
          "output_type": "stream",
          "name": "stderr",
          "text": [
            "\r  0%|          | 0/5 [00:00<?, ?it/s]"
          ]
        },
        {
          "output_type": "stream",
          "name": "stdout",
          "text": [
            "11_h\n",
            "255 1.0\n",
            " saving result files_demo_od_75/11_h.png\n",
            " saving result files_demo_bv_75/11_h.png\n"
          ]
        },
        {
          "output_type": "stream",
          "name": "stderr",
          "text": [
            "\r 20%|██        | 1/5 [00:04<00:17,  4.39s/it]"
          ]
        },
        {
          "output_type": "stream",
          "name": "stdout",
          "text": [
            "12_h\n",
            "255 1.0\n",
            " saving result files_demo_od_75/12_h.png\n",
            " saving result files_demo_bv_75/12_h.png\n"
          ]
        },
        {
          "output_type": "stream",
          "name": "stderr",
          "text": [
            "\r 40%|████      | 2/5 [00:07<00:10,  3.48s/it]"
          ]
        },
        {
          "output_type": "stream",
          "name": "stdout",
          "text": [
            "13_h\n",
            "255 1.0\n",
            " saving result files_demo_od_75/13_h.png\n",
            " saving result files_demo_bv_75/13_h.png\n"
          ]
        },
        {
          "output_type": "stream",
          "name": "stderr",
          "text": [
            "\r 60%|██████    | 3/5 [00:09<00:06,  3.07s/it]"
          ]
        },
        {
          "output_type": "stream",
          "name": "stdout",
          "text": [
            "14_h\n",
            "255 1.0\n",
            " saving result files_demo_od_75/14_h.png\n",
            " saving result files_demo_bv_75/14_h.png\n"
          ]
        },
        {
          "output_type": "stream",
          "name": "stderr",
          "text": [
            "\r 80%|████████  | 4/5 [00:13<00:03,  3.19s/it]"
          ]
        },
        {
          "output_type": "stream",
          "name": "stdout",
          "text": [
            "15_h\n",
            "255 1.0\n",
            " saving result files_demo_od_75/15_h.png\n",
            " saving result files_demo_bv_75/15_h.png\n"
          ]
        },
        {
          "output_type": "stream",
          "name": "stderr",
          "text": [
            "100%|██████████| 5/5 [00:16<00:00,  3.27s/it]"
          ]
        },
        {
          "output_type": "stream",
          "name": "stdout",
          "text": [
            "\n",
            "\n",
            "****** OD ******Metrics\n",
            "Threshold: 0.25\n",
            "Accuracy: 0.99696\n",
            "F1: 0.85507 (dice score)\n",
            "Jaccard: 0.75131\n",
            "Recall: 0.77907\n",
            "Precision: 0.96148\n",
            "AUC: 0.77907\n",
            "\n",
            "\n",
            "****** BV ******Metrics\n",
            "Threshold: 0.25\n",
            "Accuracy: 0.96630\n",
            "F1: 0.82231 (dice score)\n",
            "Jaccard: 0.69867\n",
            "Recall: 0.83153\n",
            "Precision: 0.81414\n",
            "AUC: 0.83153\n",
            "\n",
            "\n"
          ]
        },
        {
          "output_type": "stream",
          "name": "stderr",
          "text": [
            "\n"
          ]
        }
      ]
    },
    {
      "cell_type": "code",
      "source": [
        "from copy import deepcopy\n",
        "\n",
        "data_dir = \"new_data\"\n",
        "od_channel, bv_channel = 0, 1\n",
        "\n",
        "od_result_dir = \"files_demo_od_75\"\n",
        "bv_result_dir = \"files_demo_bv_75\"\n",
        "\n",
        "create_dir(od_result_dir)\n",
        "create_dir(bv_result_dir)\n",
        "\n",
        "model_dir = \"files_working\"\n",
        "threshold = 0.35\n",
        "\n",
        "\"\"\" Load the model \"\"\"\n",
        "model_file_name = f\"{model_dir}/model.h5\"\n",
        "print(model_file_name)\n",
        "# with CustomObjectScope({'iou': iou, 'dice_coef': dice_coef, 'dice_coef_OD': dice_coef_OD, 'dice_coef_MA': dice_coef_MA, 'dice_loss': dice_loss}):\n",
        "model = tf.keras.models.load_model(model_file_name, compile = False)\n",
        "\n",
        "\"\"\" Load the dataset \"\"\"\n",
        "# dataset_path = os.path.join(data_dir, \"test\")\n",
        "# test_x, test_y = get_filenames_sorted(data_dir + \"/test/image/\", data_dir + \"/test/mask/\" )\n",
        "\n",
        "dataset_path = os.path.join(\"new_data\", \"test\")\n",
        "test_x, test_y = load_data(dataset_path)\n",
        "\n",
        "\"\"\" Make the prediction and calculate the metrics values \"\"\"\n",
        "SCORE_BV, SCORE_OD = [], []\n",
        "for x, y in tqdm(zip(test_x, test_y), total=len(test_x)):\n",
        "    \"\"\" Extracting name \"\"\"\n",
        "    name = x.rsplit(\"/\", 1)[1].rsplit(\".\", 1)[0]\n",
        "    print(name)\n",
        "\n",
        "    \"\"\" Read the image and mask \"\"\"\n",
        "    ori_x, x = read_image(x)\n",
        "    ori_y, y = read_mask(y)\n",
        "\n",
        "    \"\"\" Prediction \"\"\"\n",
        "    y_pred = model.predict(np.expand_dims(x, axis=0))[0]\n",
        "    y_pred_prob = deepcopy(y_pred)\n",
        "    y_pred = y_pred > threshold\n",
        "    y_pred = y_pred.astype(np.float32)\n",
        "\n",
        "    print(np.max(ori_y), np.max(y))\n",
        "\n",
        "    \"\"\" Saving the images \"\"\"\n",
        "    save_image_path_od = f\"{od_result_dir}/{name}.png\"\n",
        "    save_results(ori_x, ori_y, y_pred, save_image_path_od, od_channel)\n",
        "\n",
        "    save_image_path_bv = f\"{bv_result_dir}/{name}.png\"\n",
        "    save_results(ori_x, ori_y, y_pred, save_image_path_bv, bv_channel)\n",
        "\n",
        "\n",
        "#     \"\"\" Calculate the od metrics \"\"\"\n",
        "    bv_pred = y_pred[:, :, bv_channel].flatten()\n",
        "    bv_pred_prob = y_pred_prob[:, :, bv_channel].flatten()\n",
        "    bv_gt = y[:, :, bv_channel].flatten()\n",
        "    acc_value = accuracy_score(bv_gt > threshold, bv_pred>threshold)\n",
        "    f1_value = f1_score(bv_gt > threshold, bv_pred>threshold, labels=[0, 1], average=\"binary\")\n",
        "    jac_value = jaccard_score(bv_gt > threshold, bv_pred>threshold, labels=[0, 1], average=\"binary\")\n",
        "    recall_value = recall_score(bv_gt > threshold, bv_pred>threshold, labels=[0, 1], average=\"binary\")\n",
        "    recall_computed = np.sum((bv_gt > threshold) & (bv_pred > threshold)) / np.sum(bv_gt > threshold)\n",
        "    precision_value = precision_score(bv_gt > threshold, bv_pred>threshold, labels=[0, 1], average=\"binary\")\n",
        "    auc_score = auc(bv_gt > threshold, bv_pred_prob)\n",
        "    SCORE_BV.append([name, acc_value, f1_value, jac_value, recall_value, precision_value, recall_computed, auc_score])\n",
        "\n",
        "#     \"\"\" Calculate the ma metrics \"\"\"\n",
        "    bv_pred = y_pred[:, :, od_channel].flatten()\n",
        "    bv_pred_prob = y_pred_prob[:, :, bv_channel].flatten()\n",
        "    bv_gt = y[:, :, od_channel].flatten()\n",
        "    acc_value = accuracy_score(bv_gt > threshold, bv_pred>threshold)\n",
        "    f1_value = f1_score(bv_gt > threshold, bv_pred>threshold, labels=[0, 1], average=\"binary\")\n",
        "    jac_value = jaccard_score(bv_gt > threshold, bv_pred>threshold, labels=[0, 1], average=\"binary\")\n",
        "    recall_value = recall_score(bv_gt > threshold, bv_pred>threshold, labels=[0, 1], average=\"binary\")\n",
        "    recall_computed = np.sum((bv_gt > threshold) & (bv_pred > threshold)) / np.sum(bv_gt > threshold)\n",
        "    precision_value = precision_score(bv_gt > threshold, bv_pred>threshold, labels=[0, 1], average=\"binary\")\n",
        "    auc_score = auc(bv_gt > threshold, bv_pred_prob)\n",
        "    SCORE_OD.append([name, acc_value, f1_value, jac_value, recall_value, precision_value, recall_computed, auc_score])\n",
        "    \n",
        "print(\"\\n\")\n",
        "for SCORE in [SCORE_OD, SCORE_BV]:\n",
        "    if SCORE == SCORE_OD:\n",
        "        print(\"****** OD ******Metrics\")\n",
        "    else:\n",
        "        print(\"****** BV ******Metrics\")\n",
        "    score = [s[1:] for s in SCORE]\n",
        "    score = np.mean(score, axis=0)\n",
        "    print(f\"Threshold:\", threshold)\n",
        "    print(f\"Accuracy: {score[0]:0.5f}\")\n",
        "    print(f\"F1: {score[1]:0.5f} (dice score)\")\n",
        "    print(f\"Jaccard: {score[2]:0.5f}\")\n",
        "    print(f\"Recall: {score[3]:0.5f}\")\n",
        "    print(f\"Precision: {score[4]:0.5f}\")\n",
        "    print(f\"AUC: {score[5]:0.5f}\")\n",
        "\n",
        "    # \"\"\" Saving \"\"\"\n",
        "    if SCORE == SCORE_OD:\n",
        "        df = pd.DataFrame(SCORE, columns=[\"Image\", \"Acc\", \"F1\", \"Jaccard\", \"Recall\", \"Precision\", \"Recall Computed\", \"AUC\"])\n",
        "        df.to_csv(f\"{od_result_dir}/score.csv\")\n",
        "    else:\n",
        "        df = pd.DataFrame(SCORE, columns=[\"Image\", \"Acc\", \"F1\", \"Jaccard\", \"Recall\", \"Precision\", \"Recall Computed\", \"AUC\"])\n",
        "        df.to_csv(f\"{bv_result_dir}/score.csv\")\n",
        "    print(\"\\n\")"
      ],
      "metadata": {
        "colab": {
          "base_uri": "https://localhost:8080/"
        },
        "id": "ylKYdd916hfg",
        "outputId": "dd32ed4c-538b-4d1c-e761-52cfef697194"
      },
      "execution_count": null,
      "outputs": [
        {
          "output_type": "stream",
          "name": "stdout",
          "text": [
            "files_working/model.h5\n"
          ]
        },
        {
          "output_type": "stream",
          "name": "stderr",
          "text": [
            "\r  0%|          | 0/5 [00:00<?, ?it/s]"
          ]
        },
        {
          "output_type": "stream",
          "name": "stdout",
          "text": [
            "11_h\n",
            "255 1.0\n",
            " saving result files_demo_od_75/11_h.png\n",
            " saving result files_demo_bv_75/11_h.png\n"
          ]
        },
        {
          "output_type": "stream",
          "name": "stderr",
          "text": [
            "\r 20%|██        | 1/5 [00:04<00:18,  4.53s/it]"
          ]
        },
        {
          "output_type": "stream",
          "name": "stdout",
          "text": [
            "12_h\n",
            "255 1.0\n",
            " saving result files_demo_od_75/12_h.png\n",
            " saving result files_demo_bv_75/12_h.png\n"
          ]
        },
        {
          "output_type": "stream",
          "name": "stderr",
          "text": [
            "\r 40%|████      | 2/5 [00:06<00:09,  3.30s/it]"
          ]
        },
        {
          "output_type": "stream",
          "name": "stdout",
          "text": [
            "13_h\n",
            "255 1.0\n",
            " saving result files_demo_od_75/13_h.png\n",
            " saving result files_demo_bv_75/13_h.png\n"
          ]
        },
        {
          "output_type": "stream",
          "name": "stderr",
          "text": [
            "\r 60%|██████    | 3/5 [00:09<00:06,  3.12s/it]"
          ]
        },
        {
          "output_type": "stream",
          "name": "stdout",
          "text": [
            "14_h\n",
            "255 1.0\n",
            " saving result files_demo_od_75/14_h.png\n",
            " saving result files_demo_bv_75/14_h.png\n"
          ]
        },
        {
          "output_type": "stream",
          "name": "stderr",
          "text": [
            "\r 80%|████████  | 4/5 [00:12<00:02,  2.89s/it]"
          ]
        },
        {
          "output_type": "stream",
          "name": "stdout",
          "text": [
            "15_h\n",
            "255 1.0\n",
            " saving result files_demo_od_75/15_h.png\n",
            " saving result files_demo_bv_75/15_h.png\n"
          ]
        },
        {
          "output_type": "stream",
          "name": "stderr",
          "text": [
            "100%|██████████| 5/5 [00:15<00:00,  3.02s/it]"
          ]
        },
        {
          "output_type": "stream",
          "name": "stdout",
          "text": [
            "\n",
            "\n",
            "****** OD ******Metrics\n",
            "Threshold: 0.35\n",
            "Accuracy: 0.99688\n",
            "F1: 0.84902 (dice score)\n",
            "Jaccard: 0.74285\n",
            "Recall: 0.76607\n",
            "Precision: 0.96670\n",
            "AUC: 0.76607\n",
            "\n",
            "\n",
            "****** BV ******Metrics\n",
            "Threshold: 0.35\n",
            "Accuracy: 0.96752\n",
            "F1: 0.82134 (dice score)\n",
            "Jaccard: 0.69736\n",
            "Recall: 0.81358\n",
            "Precision: 0.83015\n",
            "AUC: 0.81358\n",
            "\n",
            "\n"
          ]
        },
        {
          "output_type": "stream",
          "name": "stderr",
          "text": [
            "\n"
          ]
        }
      ]
    }
  ]
}