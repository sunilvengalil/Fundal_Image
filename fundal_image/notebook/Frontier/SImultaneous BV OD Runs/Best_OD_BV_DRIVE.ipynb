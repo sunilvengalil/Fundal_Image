{
  "nbformat": 4,
  "nbformat_minor": 0,
  "metadata": {
    "accelerator": "GPU",
    "colab": {
      "name": "Best_OD_BV_DRIVE.ipynb",
      "provenance": [],
      "collapsed_sections": []
    },
    "kernelspec": {
      "display_name": "Python 3",
      "name": "python3"
    },
    "language_info": {
      "name": "python"
    }
  },
  "cells": [
    {
      "cell_type": "markdown",
      "metadata": {
        "id": "ZIUz94YO5Y0x"
      },
      "source": [
        "### Import the required libraries and modules:"
      ]
    },
    {
      "cell_type": "code",
      "metadata": {
        "id": "RN5vXWIK27Lr"
      },
      "source": [
        "import tensorflow as tf\n",
        "from tensorflow.keras.layers import Conv2D, BatchNormalization, Activation, MaxPool2D, Conv2DTranspose, Concatenate, Input\n",
        "from tensorflow.keras.models import Model\n",
        "from tensorflow.keras import backend as K\n",
        "import os\n",
        "os.environ[\"TF_CPP_MIN_LOG_LEVEL\"] = \"2\"\n",
        "import numpy as np\n",
        "import cv2\n",
        "from glob import glob\n",
        "from sklearn.utils import shuffle\n",
        "import tensorflow as tf\n",
        "from tensorflow.keras.callbacks import ModelCheckpoint, CSVLogger, ReduceLROnPlateau, EarlyStopping, TensorBoard\n",
        "from tensorflow.keras.optimizers import Adam\n",
        "from tensorflow.keras.metrics import Recall, Precision\n",
        "import numpy as np"
      ],
      "execution_count": null,
      "outputs": []
    },
    {
      "cell_type": "code",
      "metadata": {
        "colab": {
          "base_uri": "https://localhost:8080/"
        },
        "id": "rx3CS_MbV06K",
        "outputId": "12323357-d45b-4759-9c2c-c05aee5129e0"
      },
      "source": [
        "from google.colab import drive\n",
        "drive.mount(\"/content/gdrive\", force_remount=True)\n",
        "%cd /content/gdrive/MyDrive/Blood_Vessel_Results/ALL_BEST_RESULTS/BV_OD_Drive"
      ],
      "execution_count": null,
      "outputs": [
        {
          "output_type": "stream",
          "name": "stdout",
          "text": [
            "Mounted at /content/gdrive\n",
            "/content/gdrive/MyDrive/Blood_Vessel_Results/ALL_BEST_RESULTS/BV_OD_Drive\n"
          ]
        }
      ]
    },
    {
      "cell_type": "markdown",
      "metadata": {
        "id": "MQcINXFE59yv"
      },
      "source": [
        "### Unzip the data:"
      ]
    },
    {
      "cell_type": "code",
      "metadata": {
        "id": "mA5voGSj58wH"
      },
      "source": [
        "# !unzip new_data.zip"
      ],
      "execution_count": null,
      "outputs": []
    },
    {
      "cell_type": "markdown",
      "metadata": {
        "id": "_WctlpFt6hx4"
      },
      "source": [
        "### Construct the Model:"
      ]
    },
    {
      "cell_type": "code",
      "metadata": {
        "colab": {
          "base_uri": "https://localhost:8080/"
        },
        "id": "epeNiZGQ5gSW",
        "outputId": "db25f177-8687-44f6-c9d8-cf0bc4afa326"
      },
      "source": [
        "def conv_block(inputs, num_filters):\n",
        "    x = Conv2D(num_filters, 3, padding=\"same\")(inputs)\n",
        "    x = BatchNormalization()(x)\n",
        "    x = Activation(\"relu\")(x)\n",
        "\n",
        "    x = Conv2D(num_filters, 3, padding=\"same\")(x)\n",
        "    x = BatchNormalization()(x)\n",
        "    x = Activation(\"relu\")(x)\n",
        "\n",
        "    return x\n",
        "\n",
        "def encoder_block(inputs, num_filters):\n",
        "    x = conv_block(inputs, num_filters)\n",
        "    p = MaxPool2D((2, 2))(x)\n",
        "    return x, p\n",
        "\n",
        "def decoder_block(inputs, skip_features, num_filters):\n",
        "    x = Conv2DTranspose(num_filters, (2, 2), strides=2, padding=\"same\")(inputs)\n",
        "    x = Concatenate()([x, skip_features])\n",
        "    x = conv_block(x, num_filters)\n",
        "    return x\n",
        "\n",
        "def build_unet(input_shape):\n",
        "    inputs = Input(input_shape)\n",
        "\n",
        "    s1, p1 = encoder_block(inputs, 64)\n",
        "    s2, p2 = encoder_block(p1, 128)\n",
        "    s3, p3 = encoder_block(p2, 256)\n",
        "    s4, p4 = encoder_block(p3, 512)\n",
        "\n",
        "    b1 = conv_block(p4, 1024)\n",
        "\n",
        "    d1 = decoder_block(b1, s4, 512)\n",
        "    d2 = decoder_block(d1, s3, 256)\n",
        "    d3 = decoder_block(d2, s2, 128)\n",
        "    d4 = decoder_block(d3, s1, 64)\n",
        "\n",
        "    outputs = Conv2D(2, 1, padding=\"same\", activation=\"sigmoid\")(d4)\n",
        "\n",
        "    model = Model(inputs, outputs, name=\"UNET\")\n",
        "    return model\n",
        "\n",
        "input_shape = (512, 768, 3)\n",
        "model = build_unet(input_shape)\n",
        "model.summary()"
      ],
      "execution_count": null,
      "outputs": [
        {
          "output_type": "stream",
          "name": "stdout",
          "text": [
            "Model: \"UNET\"\n",
            "__________________________________________________________________________________________________\n",
            " Layer (type)                   Output Shape         Param #     Connected to                     \n",
            "==================================================================================================\n",
            " input_1 (InputLayer)           [(None, 512, 768, 3  0           []                               \n",
            "                                )]                                                                \n",
            "                                                                                                  \n",
            " conv2d (Conv2D)                (None, 512, 768, 64  1792        ['input_1[0][0]']                \n",
            "                                )                                                                 \n",
            "                                                                                                  \n",
            " batch_normalization (BatchNorm  (None, 512, 768, 64  256        ['conv2d[0][0]']                 \n",
            " alization)                     )                                                                 \n",
            "                                                                                                  \n",
            " activation (Activation)        (None, 512, 768, 64  0           ['batch_normalization[0][0]']    \n",
            "                                )                                                                 \n",
            "                                                                                                  \n",
            " conv2d_1 (Conv2D)              (None, 512, 768, 64  36928       ['activation[0][0]']             \n",
            "                                )                                                                 \n",
            "                                                                                                  \n",
            " batch_normalization_1 (BatchNo  (None, 512, 768, 64  256        ['conv2d_1[0][0]']               \n",
            " rmalization)                   )                                                                 \n",
            "                                                                                                  \n",
            " activation_1 (Activation)      (None, 512, 768, 64  0           ['batch_normalization_1[0][0]']  \n",
            "                                )                                                                 \n",
            "                                                                                                  \n",
            " max_pooling2d (MaxPooling2D)   (None, 256, 384, 64  0           ['activation_1[0][0]']           \n",
            "                                )                                                                 \n",
            "                                                                                                  \n",
            " conv2d_2 (Conv2D)              (None, 256, 384, 12  73856       ['max_pooling2d[0][0]']          \n",
            "                                8)                                                                \n",
            "                                                                                                  \n",
            " batch_normalization_2 (BatchNo  (None, 256, 384, 12  512        ['conv2d_2[0][0]']               \n",
            " rmalization)                   8)                                                                \n",
            "                                                                                                  \n",
            " activation_2 (Activation)      (None, 256, 384, 12  0           ['batch_normalization_2[0][0]']  \n",
            "                                8)                                                                \n",
            "                                                                                                  \n",
            " conv2d_3 (Conv2D)              (None, 256, 384, 12  147584      ['activation_2[0][0]']           \n",
            "                                8)                                                                \n",
            "                                                                                                  \n",
            " batch_normalization_3 (BatchNo  (None, 256, 384, 12  512        ['conv2d_3[0][0]']               \n",
            " rmalization)                   8)                                                                \n",
            "                                                                                                  \n",
            " activation_3 (Activation)      (None, 256, 384, 12  0           ['batch_normalization_3[0][0]']  \n",
            "                                8)                                                                \n",
            "                                                                                                  \n",
            " max_pooling2d_1 (MaxPooling2D)  (None, 128, 192, 12  0          ['activation_3[0][0]']           \n",
            "                                8)                                                                \n",
            "                                                                                                  \n",
            " conv2d_4 (Conv2D)              (None, 128, 192, 25  295168      ['max_pooling2d_1[0][0]']        \n",
            "                                6)                                                                \n",
            "                                                                                                  \n",
            " batch_normalization_4 (BatchNo  (None, 128, 192, 25  1024       ['conv2d_4[0][0]']               \n",
            " rmalization)                   6)                                                                \n",
            "                                                                                                  \n",
            " activation_4 (Activation)      (None, 128, 192, 25  0           ['batch_normalization_4[0][0]']  \n",
            "                                6)                                                                \n",
            "                                                                                                  \n",
            " conv2d_5 (Conv2D)              (None, 128, 192, 25  590080      ['activation_4[0][0]']           \n",
            "                                6)                                                                \n",
            "                                                                                                  \n",
            " batch_normalization_5 (BatchNo  (None, 128, 192, 25  1024       ['conv2d_5[0][0]']               \n",
            " rmalization)                   6)                                                                \n",
            "                                                                                                  \n",
            " activation_5 (Activation)      (None, 128, 192, 25  0           ['batch_normalization_5[0][0]']  \n",
            "                                6)                                                                \n",
            "                                                                                                  \n",
            " max_pooling2d_2 (MaxPooling2D)  (None, 64, 96, 256)  0          ['activation_5[0][0]']           \n",
            "                                                                                                  \n",
            " conv2d_6 (Conv2D)              (None, 64, 96, 512)  1180160     ['max_pooling2d_2[0][0]']        \n",
            "                                                                                                  \n",
            " batch_normalization_6 (BatchNo  (None, 64, 96, 512)  2048       ['conv2d_6[0][0]']               \n",
            " rmalization)                                                                                     \n",
            "                                                                                                  \n",
            " activation_6 (Activation)      (None, 64, 96, 512)  0           ['batch_normalization_6[0][0]']  \n",
            "                                                                                                  \n",
            " conv2d_7 (Conv2D)              (None, 64, 96, 512)  2359808     ['activation_6[0][0]']           \n",
            "                                                                                                  \n",
            " batch_normalization_7 (BatchNo  (None, 64, 96, 512)  2048       ['conv2d_7[0][0]']               \n",
            " rmalization)                                                                                     \n",
            "                                                                                                  \n",
            " activation_7 (Activation)      (None, 64, 96, 512)  0           ['batch_normalization_7[0][0]']  \n",
            "                                                                                                  \n",
            " max_pooling2d_3 (MaxPooling2D)  (None, 32, 48, 512)  0          ['activation_7[0][0]']           \n",
            "                                                                                                  \n",
            " conv2d_8 (Conv2D)              (None, 32, 48, 1024  4719616     ['max_pooling2d_3[0][0]']        \n",
            "                                )                                                                 \n",
            "                                                                                                  \n",
            " batch_normalization_8 (BatchNo  (None, 32, 48, 1024  4096       ['conv2d_8[0][0]']               \n",
            " rmalization)                   )                                                                 \n",
            "                                                                                                  \n",
            " activation_8 (Activation)      (None, 32, 48, 1024  0           ['batch_normalization_8[0][0]']  \n",
            "                                )                                                                 \n",
            "                                                                                                  \n",
            " conv2d_9 (Conv2D)              (None, 32, 48, 1024  9438208     ['activation_8[0][0]']           \n",
            "                                )                                                                 \n",
            "                                                                                                  \n",
            " batch_normalization_9 (BatchNo  (None, 32, 48, 1024  4096       ['conv2d_9[0][0]']               \n",
            " rmalization)                   )                                                                 \n",
            "                                                                                                  \n",
            " activation_9 (Activation)      (None, 32, 48, 1024  0           ['batch_normalization_9[0][0]']  \n",
            "                                )                                                                 \n",
            "                                                                                                  \n",
            " conv2d_transpose (Conv2DTransp  (None, 64, 96, 512)  2097664    ['activation_9[0][0]']           \n",
            " ose)                                                                                             \n",
            "                                                                                                  \n",
            " concatenate (Concatenate)      (None, 64, 96, 1024  0           ['conv2d_transpose[0][0]',       \n",
            "                                )                                 'activation_7[0][0]']           \n",
            "                                                                                                  \n",
            " conv2d_10 (Conv2D)             (None, 64, 96, 512)  4719104     ['concatenate[0][0]']            \n",
            "                                                                                                  \n",
            " batch_normalization_10 (BatchN  (None, 64, 96, 512)  2048       ['conv2d_10[0][0]']              \n",
            " ormalization)                                                                                    \n",
            "                                                                                                  \n",
            " activation_10 (Activation)     (None, 64, 96, 512)  0           ['batch_normalization_10[0][0]'] \n",
            "                                                                                                  \n",
            " conv2d_11 (Conv2D)             (None, 64, 96, 512)  2359808     ['activation_10[0][0]']          \n",
            "                                                                                                  \n",
            " batch_normalization_11 (BatchN  (None, 64, 96, 512)  2048       ['conv2d_11[0][0]']              \n",
            " ormalization)                                                                                    \n",
            "                                                                                                  \n",
            " activation_11 (Activation)     (None, 64, 96, 512)  0           ['batch_normalization_11[0][0]'] \n",
            "                                                                                                  \n",
            " conv2d_transpose_1 (Conv2DTran  (None, 128, 192, 25  524544     ['activation_11[0][0]']          \n",
            " spose)                         6)                                                                \n",
            "                                                                                                  \n",
            " concatenate_1 (Concatenate)    (None, 128, 192, 51  0           ['conv2d_transpose_1[0][0]',     \n",
            "                                2)                                'activation_5[0][0]']           \n",
            "                                                                                                  \n",
            " conv2d_12 (Conv2D)             (None, 128, 192, 25  1179904     ['concatenate_1[0][0]']          \n",
            "                                6)                                                                \n",
            "                                                                                                  \n",
            " batch_normalization_12 (BatchN  (None, 128, 192, 25  1024       ['conv2d_12[0][0]']              \n",
            " ormalization)                  6)                                                                \n",
            "                                                                                                  \n",
            " activation_12 (Activation)     (None, 128, 192, 25  0           ['batch_normalization_12[0][0]'] \n",
            "                                6)                                                                \n",
            "                                                                                                  \n",
            " conv2d_13 (Conv2D)             (None, 128, 192, 25  590080      ['activation_12[0][0]']          \n",
            "                                6)                                                                \n",
            "                                                                                                  \n",
            " batch_normalization_13 (BatchN  (None, 128, 192, 25  1024       ['conv2d_13[0][0]']              \n",
            " ormalization)                  6)                                                                \n",
            "                                                                                                  \n",
            " activation_13 (Activation)     (None, 128, 192, 25  0           ['batch_normalization_13[0][0]'] \n",
            "                                6)                                                                \n",
            "                                                                                                  \n",
            " conv2d_transpose_2 (Conv2DTran  (None, 256, 384, 12  131200     ['activation_13[0][0]']          \n",
            " spose)                         8)                                                                \n",
            "                                                                                                  \n",
            " concatenate_2 (Concatenate)    (None, 256, 384, 25  0           ['conv2d_transpose_2[0][0]',     \n",
            "                                6)                                'activation_3[0][0]']           \n",
            "                                                                                                  \n",
            " conv2d_14 (Conv2D)             (None, 256, 384, 12  295040      ['concatenate_2[0][0]']          \n",
            "                                8)                                                                \n",
            "                                                                                                  \n",
            " batch_normalization_14 (BatchN  (None, 256, 384, 12  512        ['conv2d_14[0][0]']              \n",
            " ormalization)                  8)                                                                \n",
            "                                                                                                  \n",
            " activation_14 (Activation)     (None, 256, 384, 12  0           ['batch_normalization_14[0][0]'] \n",
            "                                8)                                                                \n",
            "                                                                                                  \n",
            " conv2d_15 (Conv2D)             (None, 256, 384, 12  147584      ['activation_14[0][0]']          \n",
            "                                8)                                                                \n",
            "                                                                                                  \n",
            " batch_normalization_15 (BatchN  (None, 256, 384, 12  512        ['conv2d_15[0][0]']              \n",
            " ormalization)                  8)                                                                \n",
            "                                                                                                  \n",
            " activation_15 (Activation)     (None, 256, 384, 12  0           ['batch_normalization_15[0][0]'] \n",
            "                                8)                                                                \n",
            "                                                                                                  \n",
            " conv2d_transpose_3 (Conv2DTran  (None, 512, 768, 64  32832      ['activation_15[0][0]']          \n",
            " spose)                         )                                                                 \n",
            "                                                                                                  \n",
            " concatenate_3 (Concatenate)    (None, 512, 768, 12  0           ['conv2d_transpose_3[0][0]',     \n",
            "                                8)                                'activation_1[0][0]']           \n",
            "                                                                                                  \n",
            " conv2d_16 (Conv2D)             (None, 512, 768, 64  73792       ['concatenate_3[0][0]']          \n",
            "                                )                                                                 \n",
            "                                                                                                  \n",
            " batch_normalization_16 (BatchN  (None, 512, 768, 64  256        ['conv2d_16[0][0]']              \n",
            " ormalization)                  )                                                                 \n",
            "                                                                                                  \n",
            " activation_16 (Activation)     (None, 512, 768, 64  0           ['batch_normalization_16[0][0]'] \n",
            "                                )                                                                 \n",
            "                                                                                                  \n",
            " conv2d_17 (Conv2D)             (None, 512, 768, 64  36928       ['activation_16[0][0]']          \n",
            "                                )                                                                 \n",
            "                                                                                                  \n",
            " batch_normalization_17 (BatchN  (None, 512, 768, 64  256        ['conv2d_17[0][0]']              \n",
            " ormalization)                  )                                                                 \n",
            "                                                                                                  \n",
            " activation_17 (Activation)     (None, 512, 768, 64  0           ['batch_normalization_17[0][0]'] \n",
            "                                )                                                                 \n",
            "                                                                                                  \n",
            " conv2d_18 (Conv2D)             (None, 512, 768, 2)  130         ['activation_17[0][0]']          \n",
            "                                                                                                  \n",
            "==================================================================================================\n",
            "Total params: 31,055,362\n",
            "Trainable params: 31,043,586\n",
            "Non-trainable params: 11,776\n",
            "__________________________________________________________________________________________________\n"
          ]
        }
      ]
    },
    {
      "cell_type": "markdown",
      "metadata": {
        "id": "TWKUCE3_6vBv"
      },
      "source": [
        "### Adding the Metrics:"
      ]
    },
    {
      "cell_type": "code",
      "metadata": {
        "id": "s5HXET5Z6uZX"
      },
      "source": [
        "def iou(y_true, y_pred):\n",
        "    def f(y_true, y_pred):\n",
        "        intersection = (y_true * y_pred).sum()\n",
        "        union = y_true.sum() + y_pred.sum() - intersection\n",
        "        x = (intersection + 1e-15) / (union + 1e-15)\n",
        "        x = x.astype(np.float32)\n",
        "        return x\n",
        "    return tf.numpy_function(f, [y_true, y_pred], tf.float32)\n",
        "\n",
        "smooth = 1e-15\n",
        "def dice_coef(y_true, y_pred):\n",
        "    y_true = tf.keras.layers.Flatten()(y_true)\n",
        "    y_pred = tf.keras.layers.Flatten()(y_pred)\n",
        "    intersection = tf.reduce_sum(y_true * y_pred)\n",
        "    return (2. * intersection + smooth) / (tf.reduce_sum(y_true) + tf.reduce_sum(y_pred) + smooth)\n",
        "\n",
        "def dice_loss(y_true, y_pred):\n",
        "    return 1.0 - dice_coef(y_true, y_pred)\n",
        "\n",
        "def DiceBCELoss(y_true, y_pred):\n",
        "\n",
        "    inputs = tf.keras.layers.Flatten()(y_true)\n",
        "    targets = tf.keras.layers.Flatten()(y_pred)\n",
        "\n",
        "    intersection = tf.reduce_sum(inputs * targets)\n",
        "    dice_loss = 1 - (2.*intersection + smooth)/(tf.reduce_sum(y_true) + tf.reduce_sum(y_pred) + smooth)\n",
        "    BCE = tf.keras.losses.BinaryCrossentropy()\n",
        "    Dice_BCE = BCE(inputs, targets) + dice_loss\n",
        "\n",
        "    return Dice_BCE"
      ],
      "execution_count": null,
      "outputs": []
    },
    {
      "cell_type": "markdown",
      "metadata": {
        "id": "fuGIkqEH65dX"
      },
      "source": [
        "### Training the Model:"
      ]
    },
    {
      "cell_type": "code",
      "metadata": {
        "id": "NNdxwX_-5udw"
      },
      "source": [
        "W = 512\n",
        "H = 512\n",
        "\n",
        "def create_dir(path):\n",
        "    if not os.path.exists(path):\n",
        "        os.makedirs(path)\n",
        "\n",
        "def load_data(path):\n",
        "    x = sorted(glob(os.path.join(path, \"image\", \"*.png\")))\n",
        "    y = sorted(glob(os.path.join(path, \"mask\", \"*.png\")))\n",
        "    return x, y\n",
        "\n",
        "def shuffling(x, y):\n",
        "    x, y = shuffle(x, y, random_state=42)\n",
        "    return x, y\n",
        "\n",
        "def read_image(path):\n",
        "    path = path.decode()\n",
        "    x = cv2.imread(path, cv2.IMREAD_COLOR)\n",
        "    # x = cv2.resize(x, (W, H))\n",
        "    x = x/255.0\n",
        "    x = x.astype(np.float32)\n",
        "    return x\n",
        "\n",
        "def read_mask(path):\n",
        "    path = path.decode()\n",
        "    x = cv2.imread(path, cv2.IMREAD_COLOR)  ## (512, 512, 3)\n",
        "    # x = cv2.resize(x, (W, H))\n",
        "    x = x/255.0\n",
        "    x = x.astype(np.float32)\n",
        "    x = x[:,:,0:2] # Discard the last channel \n",
        "\n",
        "    return x\n",
        "\n",
        "def tf_parse(x, y):\n",
        "    def _parse(x, y):\n",
        "        x = read_image(x)\n",
        "        y = read_mask(y)\n",
        "        return x, y\n",
        "\n",
        "    x, y = tf.numpy_function(_parse, [x, y], [tf.float32, tf.float32])\n",
        "    x.set_shape([H, W, 3])\n",
        "    y.set_shape([H, W, 2])\n",
        "    return x, y\n",
        "\n",
        "def tf_dataset(X, Y, batch_size=2):\n",
        "    dataset = tf.data.Dataset.from_tensor_slices((X, Y))\n",
        "    dataset = dataset.map(tf_parse)\n",
        "    dataset = dataset.batch(batch_size)\n",
        "    dataset = dataset.prefetch(4)\n",
        "    return dataset"
      ],
      "execution_count": null,
      "outputs": []
    },
    {
      "cell_type": "code",
      "metadata": {
        "colab": {
          "base_uri": "https://localhost:8080/"
        },
        "id": "R9oxQCQo7Jnw",
        "outputId": "0352a20c-335e-477e-a241-c0a43b5a085c"
      },
      "source": [
        "\"\"\" Seeding \"\"\"\n",
        "np.random.seed(42)\n",
        "tf.random.set_seed(42)\n",
        "\n",
        "\"\"\" Directory to save files \"\"\"\n",
        "create_dir(\"files_working\")\n",
        "\n",
        "\"\"\" Hyperparameters \"\"\"\n",
        "batch_size = 2\n",
        "lr = 1e-4\n",
        "num_epochs = 50\n",
        "model_path = os.path.join(\"files_working\", \"model.h5\")\n",
        "csv_path = os.path.join(\"files_working\", \"data.csv\")\n",
        "\n",
        "\"\"\" Dataset \"\"\"\n",
        "dataset_path = \"new_data\"\n",
        "train_path = os.path.join(dataset_path, \"train\")\n",
        "valid_path = os.path.join(dataset_path, \"test\")\n",
        "\n",
        "train_x, train_y = load_data(train_path)\n",
        "train_x, train_y = shuffling(train_x, train_y)\n",
        "valid_x, valid_y = load_data(valid_path)\n",
        "\n",
        "print(f\"Train: {len(train_x)} - {len(train_y)}\")\n",
        "print(f\"Valid: {len(valid_x)} - {len(valid_y)}\")\n",
        "\n",
        "train_dataset = tf_dataset(train_x, train_y, batch_size=batch_size)\n",
        "valid_dataset = tf_dataset(valid_x, valid_y, batch_size=batch_size)\n",
        "\n",
        "train_steps = len(train_x)//batch_size\n",
        "valid_setps = len(valid_x)//batch_size\n",
        "\n",
        "if len(train_x) % batch_size != 0:\n",
        "    train_steps += 1\n",
        "if len(valid_x) % batch_size != 0:\n",
        "    valid_setps += 1\n",
        "\n",
        "\"\"\" Model \"\"\"\n",
        "model = build_unet((H, W, 3))\n",
        "# model.compile(loss=tf.keras.losses.BinaryCrossentropy(), optimizer=Adam(lr), metrics=[dice_coef, iou, Recall(), Precision()])\n",
        "# model.compile(loss=dice_loss, optimizer=Adam(lr), metrics=[iou, dice_coef, dice_coef_OD, dice_coef_MA, Recall(), Precision()])\n",
        "# model.summary()\n",
        "\n",
        "model.compile(loss=DiceBCELoss, optimizer=Adam(lr), metrics=[dice_coef, iou, Recall(), Precision()])\n",
        "\n",
        "callbacks = [\n",
        "    ModelCheckpoint(model_path, verbose=1, save_best_only=True),\n",
        "    ReduceLROnPlateau(monitor=\"val_loss\", factor=0.1, patience=5, min_lr=1e-6, verbose=1),\n",
        "    CSVLogger(csv_path),\n",
        "    TensorBoard(),\n",
        "    EarlyStopping(monitor=\"val_loss\", patience=10, restore_best_weights=False)\n",
        "]\n",
        "\n",
        "model.fit(\n",
        "    train_dataset,\n",
        "    epochs=num_epochs,\n",
        "    validation_data=valid_dataset,\n",
        "    steps_per_epoch=train_steps,\n",
        "    validation_steps=valid_setps,\n",
        "    callbacks=callbacks\n",
        ")"
      ],
      "execution_count": null,
      "outputs": [
        {
          "output_type": "stream",
          "name": "stdout",
          "text": [
            "Train: 80 - 80\n",
            "Valid: 20 - 20\n",
            "Epoch 1/50\n",
            "40/40 [==============================] - ETA: 0s - loss: 1.2946 - dice_coef: 0.1726 - iou: 0.0948 - recall: 0.6950 - precision: 0.2532\n",
            "Epoch 00001: val_loss improved from inf to 1.59955, saving model to files_working/model.h5\n",
            "40/40 [==============================] - 160s 3s/step - loss: 1.2946 - dice_coef: 0.1726 - iou: 0.0948 - recall: 0.6950 - precision: 0.2532 - val_loss: 1.5995 - val_dice_coef: 0.0908 - val_iou: 0.0476 - val_recall: 0.1563 - val_precision: 0.0246 - lr: 1.0000e-04\n",
            "Epoch 2/50\n",
            "40/40 [==============================] - ETA: 0s - loss: 1.0230 - dice_coef: 0.2629 - iou: 0.1517 - recall: 0.6710 - precision: 0.6483\n",
            "Epoch 00002: val_loss did not improve from 1.59955\n",
            "40/40 [==============================] - 70s 2s/step - loss: 1.0230 - dice_coef: 0.2629 - iou: 0.1517 - recall: 0.6710 - precision: 0.6483 - val_loss: 1.7880 - val_dice_coef: 0.0759 - val_iou: 0.0395 - val_recall: 0.1119 - val_precision: 0.0164 - lr: 1.0000e-04\n",
            "Epoch 3/50\n",
            "40/40 [==============================] - ETA: 0s - loss: 0.9353 - dice_coef: 0.3088 - iou: 0.1829 - recall: 0.7065 - precision: 0.7213\n",
            "Epoch 00003: val_loss improved from 1.59955 to 1.32177, saving model to files_working/model.h5\n",
            "40/40 [==============================] - 75s 2s/step - loss: 0.9353 - dice_coef: 0.3088 - iou: 0.1829 - recall: 0.7065 - precision: 0.7213 - val_loss: 1.3218 - val_dice_coef: 0.0805 - val_iou: 0.0419 - val_recall: 0.0000e+00 - val_precision: 0.0000e+00 - lr: 1.0000e-04\n",
            "Epoch 4/50\n",
            "40/40 [==============================] - ETA: 0s - loss: 0.8779 - dice_coef: 0.3375 - iou: 0.2033 - recall: 0.7211 - precision: 0.7594\n",
            "Epoch 00004: val_loss improved from 1.32177 to 1.25550, saving model to files_working/model.h5\n",
            "40/40 [==============================] - 71s 2s/step - loss: 0.8779 - dice_coef: 0.3375 - iou: 0.2033 - recall: 0.7211 - precision: 0.7594 - val_loss: 1.2555 - val_dice_coef: 0.0780 - val_iou: 0.0406 - val_recall: 0.0000e+00 - val_precision: 0.0000e+00 - lr: 1.0000e-04\n",
            "Epoch 5/50\n",
            "40/40 [==============================] - ETA: 0s - loss: 0.8312 - dice_coef: 0.3645 - iou: 0.2232 - recall: 0.7360 - precision: 0.7850\n",
            "Epoch 00005: val_loss improved from 1.25550 to 1.21234, saving model to files_working/model.h5\n",
            "40/40 [==============================] - 75s 2s/step - loss: 0.8312 - dice_coef: 0.3645 - iou: 0.2232 - recall: 0.7360 - precision: 0.7850 - val_loss: 1.2123 - val_dice_coef: 0.0798 - val_iou: 0.0415 - val_recall: 9.7798e-05 - val_precision: 0.0090 - lr: 1.0000e-04\n",
            "Epoch 6/50\n",
            "40/40 [==============================] - ETA: 0s - loss: 0.7992 - dice_coef: 0.3853 - iou: 0.2390 - recall: 0.7398 - precision: 0.7956\n",
            "Epoch 00006: val_loss improved from 1.21234 to 1.18595, saving model to files_working/model.h5\n",
            "40/40 [==============================] - 70s 2s/step - loss: 0.7992 - dice_coef: 0.3853 - iou: 0.2390 - recall: 0.7398 - precision: 0.7956 - val_loss: 1.1860 - val_dice_coef: 0.0802 - val_iou: 0.0418 - val_recall: 8.5263e-04 - val_precision: 0.0152 - lr: 1.0000e-04\n",
            "Epoch 7/50\n",
            "40/40 [==============================] - ETA: 0s - loss: 0.7643 - dice_coef: 0.4057 - iou: 0.2548 - recall: 0.7394 - precision: 0.8108\n",
            "Epoch 00007: val_loss did not improve from 1.18595\n",
            "40/40 [==============================] - 71s 2s/step - loss: 0.7643 - dice_coef: 0.4057 - iou: 0.2548 - recall: 0.7394 - precision: 0.8108 - val_loss: 1.7261 - val_dice_coef: 0.0720 - val_iou: 0.0374 - val_recall: 0.1109 - val_precision: 0.0245 - lr: 1.0000e-04\n",
            "Epoch 8/50\n",
            "40/40 [==============================] - ETA: 0s - loss: 0.7281 - dice_coef: 0.4290 - iou: 0.2734 - recall: 0.7454 - precision: 0.8280\n",
            "Epoch 00008: val_loss improved from 1.18595 to 1.15205, saving model to files_working/model.h5\n",
            "40/40 [==============================] - 70s 2s/step - loss: 0.7281 - dice_coef: 0.4290 - iou: 0.2734 - recall: 0.7454 - precision: 0.8280 - val_loss: 1.1521 - val_dice_coef: 0.0924 - val_iou: 0.0485 - val_recall: 0.0278 - val_precision: 0.1654 - lr: 1.0000e-04\n",
            "Epoch 9/50\n",
            "40/40 [==============================] - ETA: 0s - loss: 0.6968 - dice_coef: 0.4497 - iou: 0.2904 - recall: 0.7474 - precision: 0.8394\n",
            "Epoch 00009: val_loss improved from 1.15205 to 1.11165, saving model to files_working/model.h5\n",
            "40/40 [==============================] - 76s 2s/step - loss: 0.6968 - dice_coef: 0.4497 - iou: 0.2904 - recall: 0.7474 - precision: 0.8394 - val_loss: 1.1116 - val_dice_coef: 0.1219 - val_iou: 0.0650 - val_recall: 0.0809 - val_precision: 0.3442 - lr: 1.0000e-04\n",
            "Epoch 10/50\n",
            "40/40 [==============================] - ETA: 0s - loss: 0.6649 - dice_coef: 0.4710 - iou: 0.3084 - recall: 0.7507 - precision: 0.8518\n",
            "Epoch 00010: val_loss improved from 1.11165 to 1.02428, saving model to files_working/model.h5\n",
            "40/40 [==============================] - 76s 2s/step - loss: 0.6649 - dice_coef: 0.4710 - iou: 0.3084 - recall: 0.7507 - precision: 0.8518 - val_loss: 1.0243 - val_dice_coef: 0.1814 - val_iou: 0.0999 - val_recall: 0.1718 - val_precision: 0.5144 - lr: 1.0000e-04\n",
            "Epoch 11/50\n",
            "40/40 [==============================] - ETA: 0s - loss: 0.6363 - dice_coef: 0.4905 - iou: 0.3252 - recall: 0.7507 - precision: 0.8632\n",
            "Epoch 00011: val_loss improved from 1.02428 to 0.91707, saving model to files_working/model.h5\n",
            "40/40 [==============================] - 75s 2s/step - loss: 0.6363 - dice_coef: 0.4905 - iou: 0.3252 - recall: 0.7507 - precision: 0.8632 - val_loss: 0.9171 - val_dice_coef: 0.2600 - val_iou: 0.1497 - val_recall: 0.2974 - val_precision: 0.6624 - lr: 1.0000e-04\n",
            "Epoch 12/50\n",
            "40/40 [==============================] - ETA: 0s - loss: 0.6084 - dice_coef: 0.5104 - iou: 0.3429 - recall: 0.7528 - precision: 0.8712\n",
            "Epoch 00012: val_loss improved from 0.91707 to 0.84276, saving model to files_working/model.h5\n",
            "40/40 [==============================] - 75s 2s/step - loss: 0.6084 - dice_coef: 0.5104 - iou: 0.3429 - recall: 0.7528 - precision: 0.8712 - val_loss: 0.8428 - val_dice_coef: 0.3131 - val_iou: 0.1858 - val_recall: 0.3559 - val_precision: 0.7258 - lr: 1.0000e-04\n",
            "Epoch 13/50\n",
            "40/40 [==============================] - ETA: 0s - loss: 0.5824 - dice_coef: 0.5293 - iou: 0.3603 - recall: 0.7521 - precision: 0.8801\n",
            "Epoch 00013: val_loss improved from 0.84276 to 0.75022, saving model to files_working/model.h5\n",
            "40/40 [==============================] - 75s 2s/step - loss: 0.5824 - dice_coef: 0.5293 - iou: 0.3603 - recall: 0.7521 - precision: 0.8801 - val_loss: 0.7502 - val_dice_coef: 0.3840 - val_iou: 0.2379 - val_recall: 0.4609 - val_precision: 0.8289 - lr: 1.0000e-04\n",
            "Epoch 14/50\n",
            "40/40 [==============================] - ETA: 0s - loss: 0.5586 - dice_coef: 0.5474 - iou: 0.3772 - recall: 0.7518 - precision: 0.8862\n",
            "Epoch 00014: val_loss improved from 0.75022 to 0.69723, saving model to files_working/model.h5\n",
            "40/40 [==============================] - 75s 2s/step - loss: 0.5586 - dice_coef: 0.5474 - iou: 0.3772 - recall: 0.7518 - precision: 0.8862 - val_loss: 0.6972 - val_dice_coef: 0.4283 - val_iou: 0.2728 - val_recall: 0.5359 - val_precision: 0.8644 - lr: 1.0000e-04\n",
            "Epoch 15/50\n",
            "40/40 [==============================] - ETA: 0s - loss: 0.5355 - dice_coef: 0.5649 - iou: 0.3939 - recall: 0.7516 - precision: 0.8941\n",
            "Epoch 00015: val_loss improved from 0.69723 to 0.63615, saving model to files_working/model.h5\n",
            "40/40 [==============================] - 70s 2s/step - loss: 0.5355 - dice_coef: 0.5649 - iou: 0.3939 - recall: 0.7516 - precision: 0.8941 - val_loss: 0.6361 - val_dice_coef: 0.4759 - val_iou: 0.3127 - val_recall: 0.5753 - val_precision: 0.9098 - lr: 1.0000e-04\n",
            "Epoch 16/50\n",
            "40/40 [==============================] - ETA: 0s - loss: 0.5156 - dice_coef: 0.5806 - iou: 0.4094 - recall: 0.7482 - precision: 0.8982\n",
            "Epoch 00016: val_loss improved from 0.63615 to 0.58982, saving model to files_working/model.h5\n",
            "40/40 [==============================] - 75s 2s/step - loss: 0.5156 - dice_coef: 0.5806 - iou: 0.4094 - recall: 0.7482 - precision: 0.8982 - val_loss: 0.5898 - val_dice_coef: 0.5170 - val_iou: 0.3491 - val_recall: 0.6110 - val_precision: 0.9064 - lr: 1.0000e-04\n",
            "Epoch 17/50\n",
            "40/40 [==============================] - ETA: 0s - loss: 0.4942 - dice_coef: 0.5973 - iou: 0.4261 - recall: 0.7465 - precision: 0.9053\n",
            "Epoch 00017: val_loss improved from 0.58982 to 0.56962, saving model to files_working/model.h5\n",
            "40/40 [==============================] - 75s 2s/step - loss: 0.4942 - dice_coef: 0.5973 - iou: 0.4261 - recall: 0.7465 - precision: 0.9053 - val_loss: 0.5696 - val_dice_coef: 0.5316 - val_iou: 0.3624 - val_recall: 0.6307 - val_precision: 0.9088 - lr: 1.0000e-04\n",
            "Epoch 18/50\n",
            "40/40 [==============================] - ETA: 0s - loss: 0.4798 - dice_coef: 0.6095 - iou: 0.4386 - recall: 0.7426 - precision: 0.9059\n",
            "Epoch 00018: val_loss improved from 0.56962 to 0.56474, saving model to files_working/model.h5\n",
            "40/40 [==============================] - 75s 2s/step - loss: 0.4798 - dice_coef: 0.6095 - iou: 0.4386 - recall: 0.7426 - precision: 0.9059 - val_loss: 0.5647 - val_dice_coef: 0.5651 - val_iou: 0.3948 - val_recall: 0.6989 - val_precision: 0.8367 - lr: 1.0000e-04\n",
            "Epoch 19/50\n",
            "40/40 [==============================] - ETA: 0s - loss: 0.4585 - dice_coef: 0.6258 - iou: 0.4557 - recall: 0.7438 - precision: 0.9138\n",
            "Epoch 00019: val_loss improved from 0.56474 to 0.52827, saving model to files_working/model.h5\n",
            "40/40 [==============================] - 76s 2s/step - loss: 0.4585 - dice_coef: 0.6258 - iou: 0.4557 - recall: 0.7438 - precision: 0.9138 - val_loss: 0.5283 - val_dice_coef: 0.5713 - val_iou: 0.4003 - val_recall: 0.6752 - val_precision: 0.8848 - lr: 1.0000e-04\n",
            "Epoch 20/50\n",
            "40/40 [==============================] - ETA: 0s - loss: 0.4399 - dice_coef: 0.6406 - iou: 0.4715 - recall: 0.7436 - precision: 0.9200\n",
            "Epoch 00020: val_loss improved from 0.52827 to 0.51345, saving model to files_working/model.h5\n",
            "40/40 [==============================] - 75s 2s/step - loss: 0.4399 - dice_coef: 0.6406 - iou: 0.4715 - recall: 0.7436 - precision: 0.9200 - val_loss: 0.5134 - val_dice_coef: 0.5843 - val_iou: 0.4132 - val_recall: 0.6803 - val_precision: 0.8820 - lr: 1.0000e-04\n",
            "Epoch 21/50\n",
            "40/40 [==============================] - ETA: 0s - loss: 0.4262 - dice_coef: 0.6518 - iou: 0.4837 - recall: 0.7396 - precision: 0.9231\n",
            "Epoch 00021: val_loss improved from 0.51345 to 0.50692, saving model to files_working/model.h5\n",
            "40/40 [==============================] - 76s 2s/step - loss: 0.4262 - dice_coef: 0.6518 - iou: 0.4837 - recall: 0.7396 - precision: 0.9231 - val_loss: 0.5069 - val_dice_coef: 0.5958 - val_iou: 0.4248 - val_recall: 0.7070 - val_precision: 0.8568 - lr: 1.0000e-04\n",
            "Epoch 22/50\n",
            "40/40 [==============================] - ETA: 0s - loss: 0.4139 - dice_coef: 0.6622 - iou: 0.4952 - recall: 0.7369 - precision: 0.9247\n",
            "Epoch 00022: val_loss improved from 0.50692 to 0.48906, saving model to files_working/model.h5\n",
            "40/40 [==============================] - 75s 2s/step - loss: 0.4139 - dice_coef: 0.6622 - iou: 0.4952 - recall: 0.7369 - precision: 0.9247 - val_loss: 0.4891 - val_dice_coef: 0.6128 - val_iou: 0.4424 - val_recall: 0.6904 - val_precision: 0.8652 - lr: 1.0000e-04\n",
            "Epoch 23/50\n",
            "40/40 [==============================] - ETA: 0s - loss: 0.4011 - dice_coef: 0.6731 - iou: 0.5075 - recall: 0.7367 - precision: 0.9265\n",
            "Epoch 00023: val_loss improved from 0.48906 to 0.46620, saving model to files_working/model.h5\n",
            "40/40 [==============================] - 75s 2s/step - loss: 0.4011 - dice_coef: 0.6731 - iou: 0.5075 - recall: 0.7367 - precision: 0.9265 - val_loss: 0.4662 - val_dice_coef: 0.6257 - val_iou: 0.4557 - val_recall: 0.6779 - val_precision: 0.8899 - lr: 1.0000e-04\n",
            "Epoch 24/50\n",
            "40/40 [==============================] - ETA: 0s - loss: 0.3849 - dice_coef: 0.6860 - iou: 0.5223 - recall: 0.7369 - precision: 0.9335\n",
            "Epoch 00024: val_loss improved from 0.46620 to 0.45263, saving model to files_working/model.h5\n",
            "40/40 [==============================] - 71s 2s/step - loss: 0.3849 - dice_coef: 0.6860 - iou: 0.5223 - recall: 0.7369 - precision: 0.9335 - val_loss: 0.4526 - val_dice_coef: 0.6405 - val_iou: 0.4717 - val_recall: 0.6949 - val_precision: 0.8810 - lr: 1.0000e-04\n",
            "Epoch 25/50\n",
            "40/40 [==============================] - ETA: 0s - loss: 0.3711 - dice_coef: 0.6974 - iou: 0.5355 - recall: 0.7374 - precision: 0.9379\n",
            "Epoch 00025: val_loss did not improve from 0.45263\n",
            "40/40 [==============================] - 70s 2s/step - loss: 0.3711 - dice_coef: 0.6974 - iou: 0.5355 - recall: 0.7374 - precision: 0.9379 - val_loss: 0.4779 - val_dice_coef: 0.6183 - val_iou: 0.4478 - val_recall: 0.6423 - val_precision: 0.9001 - lr: 1.0000e-04\n",
            "Epoch 26/50\n",
            "40/40 [==============================] - ETA: 0s - loss: 0.3584 - dice_coef: 0.7079 - iou: 0.5481 - recall: 0.7380 - precision: 0.9420\n",
            "Epoch 00026: val_loss improved from 0.45263 to 0.44919, saving model to files_working/model.h5\n",
            "40/40 [==============================] - 75s 2s/step - loss: 0.3584 - dice_coef: 0.7079 - iou: 0.5481 - recall: 0.7380 - precision: 0.9420 - val_loss: 0.4492 - val_dice_coef: 0.6432 - val_iou: 0.4745 - val_recall: 0.6807 - val_precision: 0.8792 - lr: 1.0000e-04\n",
            "Epoch 27/50\n",
            "40/40 [==============================] - ETA: 0s - loss: 0.3466 - dice_coef: 0.7178 - iou: 0.5600 - recall: 0.7367 - precision: 0.9458\n",
            "Epoch 00027: val_loss improved from 0.44919 to 0.44559, saving model to files_working/model.h5\n",
            "40/40 [==============================] - 71s 2s/step - loss: 0.3466 - dice_coef: 0.7178 - iou: 0.5600 - recall: 0.7367 - precision: 0.9458 - val_loss: 0.4456 - val_dice_coef: 0.6567 - val_iou: 0.4897 - val_recall: 0.7235 - val_precision: 0.8517 - lr: 1.0000e-04\n",
            "Epoch 28/50\n",
            "40/40 [==============================] - ETA: 0s - loss: 0.3368 - dice_coef: 0.7263 - iou: 0.5703 - recall: 0.7360 - precision: 0.9479\n",
            "Epoch 00028: val_loss improved from 0.44559 to 0.44094, saving model to files_working/model.h5\n",
            "40/40 [==============================] - 75s 2s/step - loss: 0.3368 - dice_coef: 0.7263 - iou: 0.5703 - recall: 0.7360 - precision: 0.9479 - val_loss: 0.4409 - val_dice_coef: 0.6648 - val_iou: 0.4992 - val_recall: 0.7175 - val_precision: 0.8495 - lr: 1.0000e-04\n",
            "Epoch 29/50\n",
            "40/40 [==============================] - ETA: 0s - loss: 0.3284 - dice_coef: 0.7336 - iou: 0.5794 - recall: 0.7344 - precision: 0.9494\n",
            "Epoch 00029: val_loss improved from 0.44094 to 0.42670, saving model to files_working/model.h5\n",
            "40/40 [==============================] - 73s 2s/step - loss: 0.3284 - dice_coef: 0.7336 - iou: 0.5794 - recall: 0.7344 - precision: 0.9494 - val_loss: 0.4267 - val_dice_coef: 0.6626 - val_iou: 0.4960 - val_recall: 0.6604 - val_precision: 0.8956 - lr: 1.0000e-04\n",
            "Epoch 30/50\n",
            "40/40 [==============================] - ETA: 0s - loss: 0.3193 - dice_coef: 0.7413 - iou: 0.5891 - recall: 0.7344 - precision: 0.9517\n",
            "Epoch 00030: val_loss improved from 0.42670 to 0.42314, saving model to files_working/model.h5\n",
            "40/40 [==============================] - 76s 2s/step - loss: 0.3193 - dice_coef: 0.7413 - iou: 0.5891 - recall: 0.7344 - precision: 0.9517 - val_loss: 0.4231 - val_dice_coef: 0.6630 - val_iou: 0.4964 - val_recall: 0.6364 - val_precision: 0.9090 - lr: 1.0000e-04\n",
            "Epoch 31/50\n",
            "40/40 [==============================] - ETA: 0s - loss: 0.3102 - dice_coef: 0.7488 - iou: 0.5986 - recall: 0.7333 - precision: 0.9554\n",
            "Epoch 00031: val_loss improved from 0.42314 to 0.41866, saving model to files_working/model.h5\n",
            "40/40 [==============================] - 75s 2s/step - loss: 0.3102 - dice_coef: 0.7488 - iou: 0.5986 - recall: 0.7333 - precision: 0.9554 - val_loss: 0.4187 - val_dice_coef: 0.6690 - val_iou: 0.5031 - val_recall: 0.6651 - val_precision: 0.8876 - lr: 1.0000e-04\n",
            "Epoch 32/50\n",
            "40/40 [==============================] - ETA: 0s - loss: 0.3032 - dice_coef: 0.7549 - iou: 0.6065 - recall: 0.7331 - precision: 0.9558\n",
            "Epoch 00032: val_loss improved from 0.41866 to 0.41757, saving model to files_working/model.h5\n",
            "40/40 [==============================] - 71s 2s/step - loss: 0.3032 - dice_coef: 0.7549 - iou: 0.6065 - recall: 0.7331 - precision: 0.9558 - val_loss: 0.4176 - val_dice_coef: 0.6715 - val_iou: 0.5060 - val_recall: 0.6405 - val_precision: 0.9032 - lr: 1.0000e-04\n",
            "Epoch 33/50\n",
            "40/40 [==============================] - ETA: 0s - loss: 0.2959 - dice_coef: 0.7612 - iou: 0.6146 - recall: 0.7328 - precision: 0.9575\n",
            "Epoch 00033: val_loss improved from 0.41757 to 0.41362, saving model to files_working/model.h5\n",
            "40/40 [==============================] - 75s 2s/step - loss: 0.2959 - dice_coef: 0.7612 - iou: 0.6146 - recall: 0.7328 - precision: 0.9575 - val_loss: 0.4136 - val_dice_coef: 0.6769 - val_iou: 0.5122 - val_recall: 0.6483 - val_precision: 0.8940 - lr: 1.0000e-04\n",
            "Epoch 34/50\n",
            "40/40 [==============================] - ETA: 0s - loss: 0.2878 - dice_coef: 0.7678 - iou: 0.6233 - recall: 0.7343 - precision: 0.9602\n",
            "Epoch 00034: val_loss improved from 0.41362 to 0.40911, saving model to files_working/model.h5\n",
            "40/40 [==============================] - 71s 2s/step - loss: 0.2878 - dice_coef: 0.7678 - iou: 0.6233 - recall: 0.7343 - precision: 0.9602 - val_loss: 0.4091 - val_dice_coef: 0.6797 - val_iou: 0.5155 - val_recall: 0.6372 - val_precision: 0.8979 - lr: 1.0000e-04\n",
            "Epoch 35/50\n",
            "40/40 [==============================] - ETA: 0s - loss: 0.2814 - dice_coef: 0.7732 - iou: 0.6304 - recall: 0.7328 - precision: 0.9623\n",
            "Epoch 00035: val_loss improved from 0.40911 to 0.39297, saving model to files_working/model.h5\n",
            "40/40 [==============================] - 75s 2s/step - loss: 0.2814 - dice_coef: 0.7732 - iou: 0.6304 - recall: 0.7328 - precision: 0.9623 - val_loss: 0.3930 - val_dice_coef: 0.6989 - val_iou: 0.5383 - val_recall: 0.6668 - val_precision: 0.8872 - lr: 1.0000e-04\n",
            "Epoch 36/50\n",
            "40/40 [==============================] - ETA: 0s - loss: 0.2766 - dice_coef: 0.7776 - iou: 0.6363 - recall: 0.7320 - precision: 0.9628\n",
            "Epoch 00036: val_loss did not improve from 0.39297\n",
            "40/40 [==============================] - 70s 2s/step - loss: 0.2766 - dice_coef: 0.7776 - iou: 0.6363 - recall: 0.7320 - precision: 0.9628 - val_loss: 0.4038 - val_dice_coef: 0.6880 - val_iou: 0.5248 - val_recall: 0.6675 - val_precision: 0.8863 - lr: 1.0000e-04\n",
            "Epoch 37/50\n",
            "40/40 [==============================] - ETA: 0s - loss: 0.2720 - dice_coef: 0.7817 - iou: 0.6417 - recall: 0.7326 - precision: 0.9635\n",
            "Epoch 00037: val_loss improved from 0.39297 to 0.39028, saving model to files_working/model.h5\n",
            "40/40 [==============================] - 75s 2s/step - loss: 0.2720 - dice_coef: 0.7817 - iou: 0.6417 - recall: 0.7326 - precision: 0.9635 - val_loss: 0.3903 - val_dice_coef: 0.6993 - val_iou: 0.5385 - val_recall: 0.6701 - val_precision: 0.8859 - lr: 1.0000e-04\n",
            "Epoch 38/50\n",
            "40/40 [==============================] - ETA: 0s - loss: 0.2660 - dice_coef: 0.7867 - iou: 0.6485 - recall: 0.7344 - precision: 0.9648\n",
            "Epoch 00038: val_loss improved from 0.39028 to 0.38148, saving model to files_working/model.h5\n",
            "40/40 [==============================] - 70s 2s/step - loss: 0.2660 - dice_coef: 0.7867 - iou: 0.6485 - recall: 0.7344 - precision: 0.9648 - val_loss: 0.3815 - val_dice_coef: 0.7127 - val_iou: 0.5551 - val_recall: 0.6668 - val_precision: 0.8933 - lr: 1.0000e-04\n",
            "Epoch 39/50\n",
            "40/40 [==============================] - ETA: 0s - loss: 0.2624 - dice_coef: 0.7900 - iou: 0.6531 - recall: 0.7343 - precision: 0.9653\n",
            "Epoch 00039: val_loss did not improve from 0.38148\n",
            "40/40 [==============================] - 70s 2s/step - loss: 0.2624 - dice_coef: 0.7900 - iou: 0.6531 - recall: 0.7343 - precision: 0.9653 - val_loss: 0.3938 - val_dice_coef: 0.6949 - val_iou: 0.5334 - val_recall: 0.6016 - val_precision: 0.9199 - lr: 1.0000e-04\n",
            "Epoch 40/50\n",
            "40/40 [==============================] - ETA: 0s - loss: 0.2543 - dice_coef: 0.7964 - iou: 0.6618 - recall: 0.7362 - precision: 0.9691\n",
            "Epoch 00040: val_loss did not improve from 0.38148\n",
            "40/40 [==============================] - 66s 2s/step - loss: 0.2543 - dice_coef: 0.7964 - iou: 0.6618 - recall: 0.7362 - precision: 0.9691 - val_loss: 0.3948 - val_dice_coef: 0.6934 - val_iou: 0.5314 - val_recall: 0.6136 - val_precision: 0.9104 - lr: 1.0000e-04\n",
            "Epoch 41/50\n",
            "40/40 [==============================] - ETA: 0s - loss: 0.2470 - dice_coef: 0.8024 - iou: 0.6701 - recall: 0.7383 - precision: 0.9715\n",
            "Epoch 00041: val_loss did not improve from 0.38148\n",
            "40/40 [==============================] - 70s 2s/step - loss: 0.2470 - dice_coef: 0.8024 - iou: 0.6701 - recall: 0.7383 - precision: 0.9715 - val_loss: 0.3986 - val_dice_coef: 0.6893 - val_iou: 0.5269 - val_recall: 0.5986 - val_precision: 0.9171 - lr: 1.0000e-04\n",
            "Epoch 42/50\n",
            "40/40 [==============================] - ETA: 0s - loss: 0.2431 - dice_coef: 0.8059 - iou: 0.6750 - recall: 0.7373 - precision: 0.9726\n",
            "Epoch 00042: val_loss did not improve from 0.38148\n",
            "40/40 [==============================] - 71s 2s/step - loss: 0.2431 - dice_coef: 0.8059 - iou: 0.6750 - recall: 0.7373 - precision: 0.9726 - val_loss: 0.4028 - val_dice_coef: 0.6853 - val_iou: 0.5224 - val_recall: 0.5714 - val_precision: 0.9256 - lr: 1.0000e-04\n",
            "Epoch 43/50\n",
            "40/40 [==============================] - ETA: 0s - loss: 0.2391 - dice_coef: 0.8094 - iou: 0.6799 - recall: 0.7385 - precision: 0.9729\n",
            "Epoch 00043: val_loss did not improve from 0.38148\n",
            "\n",
            "Epoch 00043: ReduceLROnPlateau reducing learning rate to 9.999999747378752e-06.\n",
            "40/40 [==============================] - 66s 2s/step - loss: 0.2391 - dice_coef: 0.8094 - iou: 0.6799 - recall: 0.7385 - precision: 0.9729 - val_loss: 0.4148 - val_dice_coef: 0.6769 - val_iou: 0.5126 - val_recall: 0.5392 - val_precision: 0.9385 - lr: 1.0000e-04\n",
            "Epoch 44/50\n",
            "40/40 [==============================] - ETA: 0s - loss: 0.2365 - dice_coef: 0.8114 - iou: 0.6828 - recall: 0.7300 - precision: 0.9773\n",
            "Epoch 00044: val_loss improved from 0.38148 to 0.36295, saving model to files_working/model.h5\n",
            "40/40 [==============================] - 75s 2s/step - loss: 0.2365 - dice_coef: 0.8114 - iou: 0.6828 - recall: 0.7300 - precision: 0.9773 - val_loss: 0.3629 - val_dice_coef: 0.7263 - val_iou: 0.5717 - val_recall: 0.6494 - val_precision: 0.9034 - lr: 1.0000e-05\n",
            "Epoch 45/50\n",
            "40/40 [==============================] - ETA: 0s - loss: 0.2229 - dice_coef: 0.8212 - iou: 0.6968 - recall: 0.7453 - precision: 0.9810\n",
            "Epoch 00045: val_loss did not improve from 0.36295\n",
            "40/40 [==============================] - 71s 2s/step - loss: 0.2229 - dice_coef: 0.8212 - iou: 0.6968 - recall: 0.7453 - precision: 0.9810 - val_loss: 0.3630 - val_dice_coef: 0.7257 - val_iou: 0.5708 - val_recall: 0.6368 - val_precision: 0.9097 - lr: 1.0000e-05\n",
            "Epoch 46/50\n",
            "40/40 [==============================] - ETA: 0s - loss: 0.2188 - dice_coef: 0.8241 - iou: 0.7009 - recall: 0.7461 - precision: 0.9836\n",
            "Epoch 00046: val_loss did not improve from 0.36295\n",
            "40/40 [==============================] - 66s 2s/step - loss: 0.2188 - dice_coef: 0.8241 - iou: 0.7009 - recall: 0.7461 - precision: 0.9836 - val_loss: 0.3634 - val_dice_coef: 0.7254 - val_iou: 0.5705 - val_recall: 0.6327 - val_precision: 0.9108 - lr: 1.0000e-05\n",
            "Epoch 47/50\n",
            "40/40 [==============================] - ETA: 0s - loss: 0.2162 - dice_coef: 0.8260 - iou: 0.7037 - recall: 0.7471 - precision: 0.9850\n",
            "Epoch 00047: val_loss did not improve from 0.36295\n",
            "40/40 [==============================] - 71s 2s/step - loss: 0.2162 - dice_coef: 0.8260 - iou: 0.7037 - recall: 0.7471 - precision: 0.9850 - val_loss: 0.3640 - val_dice_coef: 0.7249 - val_iou: 0.5699 - val_recall: 0.6292 - val_precision: 0.9118 - lr: 1.0000e-05\n",
            "Epoch 48/50\n",
            "40/40 [==============================] - ETA: 0s - loss: 0.2140 - dice_coef: 0.8277 - iou: 0.7061 - recall: 0.7479 - precision: 0.9862\n",
            "Epoch 00048: val_loss did not improve from 0.36295\n",
            "40/40 [==============================] - 66s 2s/step - loss: 0.2140 - dice_coef: 0.8277 - iou: 0.7061 - recall: 0.7479 - precision: 0.9862 - val_loss: 0.3646 - val_dice_coef: 0.7246 - val_iou: 0.5696 - val_recall: 0.6267 - val_precision: 0.9124 - lr: 1.0000e-05\n",
            "Epoch 49/50\n",
            "40/40 [==============================] - ETA: 0s - loss: 0.2121 - dice_coef: 0.8291 - iou: 0.7082 - recall: 0.7486 - precision: 0.9871\n",
            "Epoch 00049: val_loss did not improve from 0.36295\n",
            "\n",
            "Epoch 00049: ReduceLROnPlateau reducing learning rate to 1e-06.\n",
            "40/40 [==============================] - 70s 2s/step - loss: 0.2121 - dice_coef: 0.8291 - iou: 0.7082 - recall: 0.7486 - precision: 0.9871 - val_loss: 0.3651 - val_dice_coef: 0.7245 - val_iou: 0.5694 - val_recall: 0.6248 - val_precision: 0.9127 - lr: 1.0000e-05\n",
            "Epoch 50/50\n",
            "40/40 [==============================] - ETA: 0s - loss: 0.2102 - dice_coef: 0.8304 - iou: 0.7102 - recall: 0.7461 - precision: 0.9883\n",
            "Epoch 00050: val_loss did not improve from 0.36295\n",
            "40/40 [==============================] - 71s 2s/step - loss: 0.2102 - dice_coef: 0.8304 - iou: 0.7102 - recall: 0.7461 - precision: 0.9883 - val_loss: 0.3647 - val_dice_coef: 0.7255 - val_iou: 0.5707 - val_recall: 0.6258 - val_precision: 0.9126 - lr: 1.0000e-06\n"
          ]
        },
        {
          "output_type": "execute_result",
          "data": {
            "text/plain": [
              "<keras.callbacks.History at 0x7f94bca45650>"
            ]
          },
          "metadata": {},
          "execution_count": 7
        }
      ]
    },
    {
      "cell_type": "markdown",
      "metadata": {
        "id": "2frB4UHf9mr3"
      },
      "source": [
        "### Evaluate The Model:"
      ]
    },
    {
      "cell_type": "code",
      "metadata": {
        "id": "C5Kjrpfg9pDn"
      },
      "source": [
        "import os\n",
        "os.environ[\"TF_CPP_MIN_LOG_LEVEL\"] = \"2\"\n",
        "import numpy as np\n",
        "import pandas as pd\n",
        "import cv2\n",
        "from glob import glob\n",
        "from tqdm import tqdm\n",
        "import tensorflow as tf\n",
        "from tensorflow.keras.utils import CustomObjectScope\n",
        "from sklearn.metrics import accuracy_score, f1_score, jaccard_score, precision_score, recall_score, auc\n",
        "# from metrics import dice_loss, dice_coef, iou\n",
        "# from utils import get_filenames_sorted"
      ],
      "execution_count": null,
      "outputs": []
    },
    {
      "cell_type": "code",
      "metadata": {
        "id": "tbgjkGOU-QeQ"
      },
      "source": [
        "H = 512\n",
        "W = 512\n",
        "\n",
        "def create_dir(path):\n",
        "    if not os.path.exists(path):\n",
        "        os.makedirs(path)\n",
        "\n",
        "def read_image(path):\n",
        "    x = cv2.imread(path, cv2.IMREAD_COLOR)\n",
        "    # x = cv2.resize(x, (W, H))\n",
        "    ori_x = x\n",
        "    x = x/255.0\n",
        "    x = x.astype(np.float32)\n",
        "    return ori_x, x\n",
        "\n",
        "def read_mask(path):\n",
        "    x = cv2.imread(path, cv2.IMREAD_COLOR)  ## (512, 512)\n",
        "    # x = cv2.resize(x, (W, H))\n",
        "    ori_x = x\n",
        "    x = x/255.0\n",
        "    x = x.astype(np.float32)\n",
        "    x = x[:,:,0:2] # Discard the last channel \n",
        "    return ori_x, x\n",
        "\n",
        "def load_data(path):\n",
        "    x = sorted(glob(os.path.join(path, \"image\", \"*.png\")))\n",
        "    y = sorted(glob(os.path.join(path, \"mask\", \"*.png\")))\n",
        "    return x, y\n",
        "\n",
        "def save_results(ori_x, ori_y, y_pred, save_image_path, channel):\n",
        "    line = np.ones((y_pred.shape[0], 10, 3)) * 255\n",
        "\n",
        "    pred_image = np.zeros((y_pred.shape[0], y_pred.shape[1], 3))\n",
        "    _y_pred = y_pred[:, :, channel]\n",
        "    _ori_y = ori_y[:, :, channel]\n",
        "    pred_image[:, :, 0] = ((_y_pred > 0.5) & (_ori_y <= 128)) * 255\n",
        "    pred_image[:, :, 1] = ((_y_pred > 0.5) & (_ori_y  > 128)) * 255\n",
        "    pred_image[:, :, 2] = ((_ori_y  > 128) & (_y_pred <= 0.5 )) * 255\n",
        "\n",
        "    print(\" saving result\", save_image_path)\n",
        "    cv2.imwrite(save_image_path, pred_image)"
      ],
      "execution_count": null,
      "outputs": []
    },
    {
      "cell_type": "code",
      "metadata": {
        "colab": {
          "base_uri": "https://localhost:8080/"
        },
        "id": "HUarJfhE-ZMQ",
        "outputId": "b8a25388-450f-4979-c12e-8368ea1f5d0f"
      },
      "source": [
        "data_dir = \"new_data\"\n",
        "od_channel, bv_channel = 0, 1\n",
        "\n",
        "od_result_dir = \"files_demo_od\"\n",
        "bv_result_dir = \"files_demo_bv\"\n",
        "\n",
        "create_dir(od_result_dir)\n",
        "create_dir(bv_result_dir)\n",
        "\n",
        "model_dir = \"files_working\"\n",
        "\n",
        "\"\"\" Load the model \"\"\"\n",
        "model_file_name = f\"{model_dir}/model.h5\"\n",
        "print(model_file_name)\n",
        "# with CustomObjectScope({'iou': iou, 'dice_coef': dice_coef, 'dice_coef_OD': dice_coef_OD, 'dice_coef_MA': dice_coef_MA, 'dice_loss': dice_loss}):\n",
        "model = tf.keras.models.load_model(model_file_name, compile = False)\n",
        "\n",
        "\"\"\" Load the dataset \"\"\"\n",
        "# dataset_path = os.path.join(data_dir, \"test\")\n",
        "# test_x, test_y = get_filenames_sorted(data_dir + \"/test/image/\", data_dir + \"/test/mask/\" )\n",
        "\n",
        "dataset_path = os.path.join(\"new_data\", \"test\")\n",
        "test_x, test_y = load_data(dataset_path)\n",
        "\n",
        "\"\"\" Make the prediction and calculate the metrics values \"\"\"\n",
        "SCORE_BV, SCORE_OD = [], []\n",
        "for x, y in tqdm(zip(test_x, test_y), total=len(test_x)):\n",
        "    \"\"\" Extracting name \"\"\"\n",
        "    name = x.rsplit(\"/\", 1)[1].rsplit(\".\", 1)[0]\n",
        "    print(name)\n",
        "\n",
        "    \"\"\" Read the image and mask \"\"\"\n",
        "    ori_x, x = read_image(x)\n",
        "    ori_y, y = read_mask(y)\n",
        "\n",
        "    \"\"\" Prediction \"\"\"\n",
        "    y_pred = model.predict(np.expand_dims(x, axis=0))[0]\n",
        "    y_pred = y_pred > 0.5\n",
        "    y_pred = y_pred.astype(np.float32)\n",
        "\n",
        "    print(np.max(ori_y), np.max(y))\n",
        "\n",
        "    \"\"\" Saving the images \"\"\"\n",
        "    save_image_path_od = f\"{od_result_dir}/{name}.png\"\n",
        "    save_results(ori_x, ori_y, y_pred, save_image_path_od, od_channel)\n",
        "\n",
        "    save_image_path_bv = f\"{bv_result_dir}/{name}.png\"\n",
        "    save_results(ori_x, ori_y, y_pred, save_image_path_bv, bv_channel)\n",
        "\n",
        "\n",
        "#     \"\"\" Calculate the od metrics \"\"\"\n",
        "    bv_pred = y_pred[:, :, bv_channel].flatten()\n",
        "    bv_gt = y[:, :, bv_channel].flatten()\n",
        "    acc_value = accuracy_score(bv_gt > 0.5, bv_pred>0.5)\n",
        "    f1_value = f1_score(bv_gt > 0.5, bv_pred>0.5, labels=[0, 1], average=\"binary\")\n",
        "    jac_value = jaccard_score(bv_gt > 0.5, bv_pred>0.5, labels=[0, 1], average=\"binary\")\n",
        "    recall_value = recall_score(bv_gt > 0.5, bv_pred>0.5, labels=[0, 1], average=\"binary\")\n",
        "    recall_computed = np.sum((bv_gt > 0.5) & (bv_pred > 0.5)) / np.sum(bv_gt > 0.5)\n",
        "    precision_value = precision_score(bv_gt > 0.5, bv_pred>0.5, labels=[0, 1], average=\"binary\")\n",
        "    SCORE_BV.append([name, acc_value, f1_value, jac_value, recall_value, precision_value, recall_computed])\n",
        "\n",
        "#     \"\"\" Calculate the ma metrics \"\"\"\n",
        "    bv_pred = y_pred[:, :, od_channel].flatten()\n",
        "    bv_gt = y[:, :, od_channel].flatten()\n",
        "    acc_value = accuracy_score(bv_gt > 0.5, bv_pred>0.5)\n",
        "    f1_value = f1_score(bv_gt > 0.5, bv_pred>0.5, labels=[0, 1], average=\"binary\")\n",
        "    jac_value = jaccard_score(bv_gt > 0.5, bv_pred>0.5, labels=[0, 1], average=\"binary\")\n",
        "    recall_value = recall_score(bv_gt > 0.5, bv_pred>0.5, labels=[0, 1], average=\"binary\")\n",
        "    recall_computed = np.sum((bv_gt > 0.5) & (bv_pred > 0.5)) / np.sum(bv_gt > 0.5)\n",
        "    precision_value = precision_score(bv_gt > 0.5, bv_pred>0.5, labels=[0, 1], average=\"binary\")\n",
        "    SCORE_OD.append([name, acc_value, f1_value, jac_value, recall_value, precision_value, recall_computed])\n",
        "    \n",
        "print(\"\\n\")\n",
        "for SCORE in [SCORE_OD, SCORE_BV]:\n",
        "    if SCORE == SCORE_OD:\n",
        "        print(\"****** OD ******Metrics\")\n",
        "    else:\n",
        "        print(\"****** BV ******Metrics\")\n",
        "    score = [s[1:] for s in SCORE]\n",
        "    score = np.mean(score, axis=0)\n",
        "    print(f\"Accuracy: {score[0]:0.5f}\")\n",
        "    print(f\"F1: {score[1]:0.5f} (dice score)\")\n",
        "    print(f\"AUC: {score[1]:0.5f} (Auc score)\")\n",
        "    print(f\"Jaccard: {score[2]:0.5f}\")\n",
        "    print(f\"Recall: {score[3]:0.5f}\")\n",
        "    print(f\"Precision: {score[4]:0.5f}\")\n",
        "\n",
        "    # \"\"\" Saving \"\"\"\n",
        "    if SCORE == SCORE_OD:\n",
        "        df = pd.DataFrame(SCORE, columns=[\"Image\", \"Acc\", \"F1\", \"Jaccard\", \"Recall\", \"Precision\", \"Recall Computed\"])\n",
        "        df.to_csv(f\"{od_result_dir}/score.csv\")\n",
        "    else:\n",
        "        df = pd.DataFrame(SCORE, columns=[\"Image\", \"Acc\", \"F1\", \"Jaccard\", \"Recall\", \"Precision\", \"Recall Computed\"])\n",
        "        df.to_csv(f\"{bv_result_dir}/score.csv\")\n",
        "    print(\"\\n\")"
      ],
      "execution_count": null,
      "outputs": [
        {
          "output_type": "stream",
          "name": "stdout",
          "text": [
            "files_working/model.h5\n"
          ]
        },
        {
          "output_type": "stream",
          "name": "stderr",
          "text": [
            "\r  0%|          | 0/20 [00:00<?, ?it/s]"
          ]
        },
        {
          "output_type": "stream",
          "name": "stdout",
          "text": [
            "01_test\n",
            "255 1.0\n",
            " saving result files_demo_od/01_test.png\n",
            " saving result files_demo_bv/01_test.png\n"
          ]
        },
        {
          "output_type": "stream",
          "name": "stderr",
          "text": [
            "\r  5%|▌         | 1/20 [00:04<01:22,  4.32s/it]"
          ]
        },
        {
          "output_type": "stream",
          "name": "stdout",
          "text": [
            "02_test\n",
            "255 1.0\n",
            " saving result files_demo_od/02_test.png\n",
            " saving result files_demo_bv/02_test.png\n"
          ]
        },
        {
          "output_type": "stream",
          "name": "stderr",
          "text": [
            "\r 10%|█         | 2/20 [00:05<00:40,  2.27s/it]"
          ]
        },
        {
          "output_type": "stream",
          "name": "stdout",
          "text": [
            "03_test\n",
            "255 1.0\n",
            " saving result files_demo_od/03_test.png\n",
            " saving result files_demo_bv/03_test.png\n"
          ]
        },
        {
          "output_type": "stream",
          "name": "stderr",
          "text": [
            "\r 15%|█▌        | 3/20 [00:05<00:27,  1.60s/it]"
          ]
        },
        {
          "output_type": "stream",
          "name": "stdout",
          "text": [
            "04_test\n",
            "255 1.0\n",
            " saving result files_demo_od/04_test.png\n",
            " saving result files_demo_bv/04_test.png\n"
          ]
        },
        {
          "output_type": "stream",
          "name": "stderr",
          "text": [
            "\r 20%|██        | 4/20 [00:06<00:20,  1.30s/it]"
          ]
        },
        {
          "output_type": "stream",
          "name": "stdout",
          "text": [
            "05_test\n",
            "255 1.0\n",
            " saving result files_demo_od/05_test.png\n",
            " saving result files_demo_bv/05_test.png\n"
          ]
        },
        {
          "output_type": "stream",
          "name": "stderr",
          "text": [
            "\r 25%|██▌       | 5/20 [00:07<00:17,  1.16s/it]"
          ]
        },
        {
          "output_type": "stream",
          "name": "stdout",
          "text": [
            "06_test\n",
            "255 1.0\n",
            " saving result files_demo_od/06_test.png\n",
            " saving result files_demo_bv/06_test.png\n"
          ]
        },
        {
          "output_type": "stream",
          "name": "stderr",
          "text": [
            "\r 30%|███       | 6/20 [00:08<00:14,  1.04s/it]"
          ]
        },
        {
          "output_type": "stream",
          "name": "stdout",
          "text": [
            "07_test\n",
            "255 1.0\n",
            " saving result files_demo_od/07_test.png\n",
            " saving result files_demo_bv/07_test.png\n"
          ]
        },
        {
          "output_type": "stream",
          "name": "stderr",
          "text": [
            "\r 35%|███▌      | 7/20 [00:09<00:12,  1.04it/s]"
          ]
        },
        {
          "output_type": "stream",
          "name": "stdout",
          "text": [
            "08_test\n",
            "255 1.0\n",
            " saving result files_demo_od/08_test.png\n",
            " saving result files_demo_bv/08_test.png\n"
          ]
        },
        {
          "output_type": "stream",
          "name": "stderr",
          "text": [
            "\r 40%|████      | 8/20 [00:10<00:11,  1.06it/s]"
          ]
        },
        {
          "output_type": "stream",
          "name": "stdout",
          "text": [
            "09_test\n",
            "255 1.0\n",
            " saving result files_demo_od/09_test.png\n",
            " saving result files_demo_bv/09_test.png\n"
          ]
        },
        {
          "output_type": "stream",
          "name": "stderr",
          "text": [
            "\r 45%|████▌     | 9/20 [00:11<00:10,  1.07it/s]"
          ]
        },
        {
          "output_type": "stream",
          "name": "stdout",
          "text": [
            "10_test\n",
            "255 1.0\n",
            " saving result files_demo_od/10_test.png\n",
            " saving result files_demo_bv/10_test.png\n"
          ]
        },
        {
          "output_type": "stream",
          "name": "stderr",
          "text": [
            "\r 50%|█████     | 10/20 [00:12<00:09,  1.09it/s]"
          ]
        },
        {
          "output_type": "stream",
          "name": "stdout",
          "text": [
            "11_test\n",
            "255 1.0\n",
            " saving result files_demo_od/11_test.png\n",
            " saving result files_demo_bv/11_test.png\n"
          ]
        },
        {
          "output_type": "stream",
          "name": "stderr",
          "text": [
            "\r 55%|█████▌    | 11/20 [00:12<00:08,  1.11it/s]"
          ]
        },
        {
          "output_type": "stream",
          "name": "stdout",
          "text": [
            "12_test\n",
            "255 1.0\n",
            " saving result files_demo_od/12_test.png\n",
            " saving result files_demo_bv/12_test.png\n"
          ]
        },
        {
          "output_type": "stream",
          "name": "stderr",
          "text": [
            "\r 60%|██████    | 12/20 [00:13<00:06,  1.15it/s]"
          ]
        },
        {
          "output_type": "stream",
          "name": "stdout",
          "text": [
            "13_test\n",
            "255 1.0\n",
            " saving result files_demo_od/13_test.png\n",
            " saving result files_demo_bv/13_test.png\n"
          ]
        },
        {
          "output_type": "stream",
          "name": "stderr",
          "text": [
            "\r 65%|██████▌   | 13/20 [00:14<00:05,  1.17it/s]"
          ]
        },
        {
          "output_type": "stream",
          "name": "stdout",
          "text": [
            "14_test\n",
            "255 1.0\n",
            " saving result files_demo_od/14_test.png\n",
            " saving result files_demo_bv/14_test.png\n"
          ]
        },
        {
          "output_type": "stream",
          "name": "stderr",
          "text": [
            "\r 70%|███████   | 14/20 [00:15<00:05,  1.19it/s]"
          ]
        },
        {
          "output_type": "stream",
          "name": "stdout",
          "text": [
            "15_test\n",
            "255 1.0\n",
            " saving result files_demo_od/15_test.png\n",
            " saving result files_demo_bv/15_test.png\n"
          ]
        },
        {
          "output_type": "stream",
          "name": "stderr",
          "text": [
            "\r 75%|███████▌  | 15/20 [00:16<00:04,  1.18it/s]"
          ]
        },
        {
          "output_type": "stream",
          "name": "stdout",
          "text": [
            "16_test\n",
            "255 1.0\n",
            " saving result files_demo_od/16_test.png\n",
            " saving result files_demo_bv/16_test.png\n"
          ]
        },
        {
          "output_type": "stream",
          "name": "stderr",
          "text": [
            "\r 80%|████████  | 16/20 [00:17<00:03,  1.17it/s]"
          ]
        },
        {
          "output_type": "stream",
          "name": "stdout",
          "text": [
            "17_test\n",
            "255 1.0\n",
            " saving result files_demo_od/17_test.png\n",
            " saving result files_demo_bv/17_test.png\n"
          ]
        },
        {
          "output_type": "stream",
          "name": "stderr",
          "text": [
            "\r 85%|████████▌ | 17/20 [00:17<00:02,  1.15it/s]"
          ]
        },
        {
          "output_type": "stream",
          "name": "stdout",
          "text": [
            "18_test\n",
            "255 1.0\n",
            " saving result files_demo_od/18_test.png\n",
            " saving result files_demo_bv/18_test.png\n"
          ]
        },
        {
          "output_type": "stream",
          "name": "stderr",
          "text": [
            "\r 90%|█████████ | 18/20 [00:18<00:01,  1.16it/s]"
          ]
        },
        {
          "output_type": "stream",
          "name": "stdout",
          "text": [
            "19_test\n",
            "255 1.0\n",
            " saving result files_demo_od/19_test.png\n",
            " saving result files_demo_bv/19_test.png\n"
          ]
        },
        {
          "output_type": "stream",
          "name": "stderr",
          "text": [
            "\r 95%|█████████▌| 19/20 [00:19<00:00,  1.17it/s]"
          ]
        },
        {
          "output_type": "stream",
          "name": "stdout",
          "text": [
            "20_test\n",
            "255 1.0\n",
            " saving result files_demo_od/20_test.png\n",
            " saving result files_demo_bv/20_test.png\n"
          ]
        },
        {
          "output_type": "stream",
          "name": "stderr",
          "text": [
            "100%|██████████| 20/20 [00:20<00:00,  1.02s/it]"
          ]
        },
        {
          "output_type": "stream",
          "name": "stdout",
          "text": [
            "\n",
            "\n",
            "****** OD ******Metrics\n",
            "Accuracy: 0.99350\n",
            "F1: 0.77797 (dice score)\n",
            "AUC: 0.77797 (Auc score)\n",
            "Jaccard: 0.68503\n",
            "Recall: 0.90361\n",
            "Precision: 0.77198\n",
            "\n",
            "\n",
            "****** BV ******Metrics\n",
            "Accuracy: 0.96406\n",
            "F1: 0.78537 (dice score)\n",
            "AUC: 0.78537 (Auc score)\n",
            "Jaccard: 0.64801\n",
            "Recall: 0.76393\n",
            "Precision: 0.81939\n",
            "\n",
            "\n"
          ]
        },
        {
          "output_type": "stream",
          "name": "stderr",
          "text": [
            "\n"
          ]
        }
      ]
    },
    {
      "cell_type": "code",
      "metadata": {
        "id": "8u-X3ysMAah7",
        "colab": {
          "base_uri": "https://localhost:8080/"
        },
        "outputId": "df02f676-7f55-461a-db49-a66468151b53"
      },
      "source": [
        "from copy import deepcopy\n",
        "\n",
        "data_dir = \"new_data\"\n",
        "od_channel, bv_channel = 0, 1\n",
        "\n",
        "model_dir = \"files_working\"\n",
        "threshold = 0.3\n",
        "\n",
        "od_result_dir = f\"files_demo_od_{threshold}\"\n",
        "bv_result_dir = f\"files_demo_bv_{threshold}\"\n",
        "\n",
        "create_dir(od_result_dir)\n",
        "create_dir(bv_result_dir)\n",
        "\n",
        "\"\"\" Load the model \"\"\"\n",
        "model_file_name = f\"{model_dir}/model.h5\"\n",
        "print(model_file_name)\n",
        "# with CustomObjectScope({'iou': iou, 'dice_coef': dice_coef, 'dice_coef_OD': dice_coef_OD, 'dice_coef_MA': dice_coef_MA, 'dice_loss': dice_loss}):\n",
        "model = tf.keras.models.load_model(model_file_name, compile = False)\n",
        "\n",
        "\"\"\" Load the dataset \"\"\"\n",
        "# dataset_path = os.path.join(data_dir, \"test\")\n",
        "# test_x, test_y = get_filenames_sorted(data_dir + \"/test/image/\", data_dir + \"/test/mask/\" )\n",
        "\n",
        "dataset_path = os.path.join(\"new_data\", \"test\")\n",
        "test_x, test_y = load_data(dataset_path)\n",
        "\n",
        "\"\"\" Make the prediction and calculate the metrics values \"\"\"\n",
        "SCORE_BV, SCORE_OD = [], []\n",
        "for x, y in tqdm(zip(test_x, test_y), total=len(test_x)):\n",
        "    \"\"\" Extracting name \"\"\"\n",
        "    name = x.rsplit(\"/\", 1)[1].rsplit(\".\", 1)[0]\n",
        "    print(name)\n",
        "\n",
        "    \"\"\" Read the image and mask \"\"\"\n",
        "    ori_x, x = read_image(x)\n",
        "    ori_y, y = read_mask(y)\n",
        "\n",
        "    \"\"\" Prediction \"\"\"\n",
        "    y_pred = model.predict(np.expand_dims(x, axis=0))[0]\n",
        "    y_pred_prob = deepcopy(y_pred)\n",
        "    y_pred = y_pred > threshold\n",
        "    y_pred = y_pred.astype(np.float32)\n",
        "\n",
        "    print(np.max(ori_y), np.max(y))\n",
        "\n",
        "    \"\"\" Saving the images \"\"\"\n",
        "    save_image_path_od = f\"{od_result_dir}/{name}.png\"\n",
        "    save_results(ori_x, ori_y, y_pred, save_image_path_od, od_channel)\n",
        "\n",
        "    save_image_path_bv = f\"{bv_result_dir}/{name}.png\"\n",
        "    save_results(ori_x, ori_y, y_pred, save_image_path_bv, bv_channel)\n",
        "\n",
        "\n",
        "#     \"\"\" Calculate the od metrics \"\"\"\n",
        "    bv_pred = y_pred[:, :, bv_channel].flatten()\n",
        "    bv_pred_prob = y_pred_prob[:, :, bv_channel].flatten()\n",
        "    bv_gt = y[:, :, bv_channel].flatten()\n",
        "    acc_value = accuracy_score(bv_gt > threshold, bv_pred>threshold)\n",
        "    f1_value = f1_score(bv_gt > threshold, bv_pred>threshold, labels=[0, 1], average=\"binary\")\n",
        "    jac_value = jaccard_score(bv_gt > threshold, bv_pred>threshold, labels=[0, 1], average=\"binary\")\n",
        "    recall_value = recall_score(bv_gt > threshold, bv_pred>threshold, labels=[0, 1], average=\"binary\")\n",
        "    recall_computed = np.sum((bv_gt > threshold) & (bv_pred > threshold)) / np.sum(bv_gt > threshold)\n",
        "    precision_value = precision_score(bv_gt > threshold, bv_pred>threshold, labels=[0, 1], average=\"binary\")\n",
        "    auc_score = auc(bv_gt > threshold, bv_pred_prob)\n",
        "    SCORE_BV.append([name, acc_value, f1_value, jac_value, recall_value, precision_value, recall_computed, auc_score])\n",
        "\n",
        "#     \"\"\" Calculate the ma metrics \"\"\"\n",
        "    bv_pred = y_pred[:, :, od_channel].flatten()\n",
        "    bv_pred_prob = y_pred_prob[:, :, bv_channel].flatten()\n",
        "    bv_gt = y[:, :, od_channel].flatten()\n",
        "    acc_value = accuracy_score(bv_gt > threshold, bv_pred>threshold)\n",
        "    f1_value = f1_score(bv_gt > threshold, bv_pred>threshold, labels=[0, 1], average=\"binary\")\n",
        "    jac_value = jaccard_score(bv_gt > threshold, bv_pred>threshold, labels=[0, 1], average=\"binary\")\n",
        "    recall_value = recall_score(bv_gt > threshold, bv_pred>threshold, labels=[0, 1], average=\"binary\")\n",
        "    recall_computed = np.sum((bv_gt > threshold) & (bv_pred > threshold)) / np.sum(bv_gt > threshold)\n",
        "    precision_value = precision_score(bv_gt > threshold, bv_pred>threshold, labels=[0, 1], average=\"binary\")\n",
        "    auc_score = auc(bv_gt > threshold, bv_pred_prob)\n",
        "    SCORE_OD.append([name, acc_value, f1_value, jac_value, recall_value, precision_value, recall_computed, auc_score])\n",
        "    \n",
        "print(\"\\n\")\n",
        "for SCORE in [SCORE_OD, SCORE_BV]:\n",
        "    if SCORE == SCORE_OD:\n",
        "        print(\"****** OD ******Metrics\")\n",
        "    else:\n",
        "        print(\"****** BV ******Metrics\")\n",
        "    score = [s[1:] for s in SCORE]\n",
        "    score = np.mean(score, axis=0)\n",
        "    print(f\"Threshold:\", threshold)\n",
        "    print(f\"Accuracy: {score[0]:0.5f}\")\n",
        "    print(f\"F1: {score[1]:0.5f} (dice score)\")\n",
        "    print(f\"Jaccard: {score[2]:0.5f}\")\n",
        "    print(f\"Recall: {score[3]:0.5f}\")\n",
        "    print(f\"Precision: {score[4]:0.5f}\")\n",
        "    print(f\"AUC: {score[5]:0.5f}\")\n",
        "\n",
        "    # \"\"\" Saving \"\"\"\n",
        "    if SCORE == SCORE_OD:\n",
        "        df = pd.DataFrame(SCORE, columns=[\"Image\", \"Acc\", \"F1\", \"Jaccard\", \"Recall\", \"Precision\", \"Recall Computed\", \"AUC\"])\n",
        "        df.to_csv(f\"{od_result_dir}/score.csv\")\n",
        "    else:\n",
        "        df = pd.DataFrame(SCORE, columns=[\"Image\", \"Acc\", \"F1\", \"Jaccard\", \"Recall\", \"Precision\", \"Recall Computed\", \"AUC\"])\n",
        "        df.to_csv(f\"{bv_result_dir}/score.csv\")\n",
        "    print(\"\\n\")"
      ],
      "execution_count": null,
      "outputs": [
        {
          "output_type": "stream",
          "name": "stdout",
          "text": [
            "files_working/model.h5\n"
          ]
        },
        {
          "output_type": "stream",
          "name": "stderr",
          "text": [
            "\r  0%|          | 0/20 [00:00<?, ?it/s]"
          ]
        },
        {
          "output_type": "stream",
          "name": "stdout",
          "text": [
            "01_test\n",
            "255 1.0\n",
            " saving result files_demo_od_0.3/01_test.png\n",
            " saving result files_demo_bv_0.3/01_test.png\n"
          ]
        },
        {
          "output_type": "stream",
          "name": "stderr",
          "text": [
            "\r  5%|▌         | 1/20 [00:23<07:31, 23.76s/it]"
          ]
        },
        {
          "output_type": "stream",
          "name": "stdout",
          "text": [
            "02_test\n",
            "255 1.0\n",
            " saving result files_demo_od_0.3/02_test.png\n",
            " saving result files_demo_bv_0.3/02_test.png\n"
          ]
        },
        {
          "output_type": "stream",
          "name": "stderr",
          "text": [
            "\r 10%|█         | 2/20 [00:25<03:19, 11.06s/it]"
          ]
        },
        {
          "output_type": "stream",
          "name": "stdout",
          "text": [
            "03_test\n",
            "255 1.0\n",
            " saving result files_demo_od_0.3/03_test.png\n",
            " saving result files_demo_bv_0.3/03_test.png\n"
          ]
        },
        {
          "output_type": "stream",
          "name": "stderr",
          "text": [
            "\r 15%|█▌        | 3/20 [00:27<01:57,  6.88s/it]"
          ]
        },
        {
          "output_type": "stream",
          "name": "stdout",
          "text": [
            "04_test\n",
            "255 1.0\n",
            " saving result files_demo_od_0.3/04_test.png\n",
            " saving result files_demo_bv_0.3/04_test.png\n"
          ]
        },
        {
          "output_type": "stream",
          "name": "stderr",
          "text": [
            "\r 20%|██        | 4/20 [00:29<01:17,  4.85s/it]"
          ]
        },
        {
          "output_type": "stream",
          "name": "stdout",
          "text": [
            "05_test\n",
            "255 1.0\n",
            " saving result files_demo_od_0.3/05_test.png\n",
            " saving result files_demo_bv_0.3/05_test.png\n"
          ]
        },
        {
          "output_type": "stream",
          "name": "stderr",
          "text": [
            "\r 25%|██▌       | 5/20 [00:31<00:57,  3.81s/it]"
          ]
        },
        {
          "output_type": "stream",
          "name": "stdout",
          "text": [
            "06_test\n",
            "255 1.0\n",
            " saving result files_demo_od_0.3/06_test.png\n",
            " saving result files_demo_bv_0.3/06_test.png\n"
          ]
        },
        {
          "output_type": "stream",
          "name": "stderr",
          "text": [
            "\r 30%|███       | 6/20 [00:33<00:44,  3.14s/it]"
          ]
        },
        {
          "output_type": "stream",
          "name": "stdout",
          "text": [
            "07_test\n",
            "255 1.0\n",
            " saving result files_demo_od_0.3/07_test.png\n",
            " saving result files_demo_bv_0.3/07_test.png\n"
          ]
        },
        {
          "output_type": "stream",
          "name": "stderr",
          "text": [
            "\r 35%|███▌      | 7/20 [00:35<00:36,  2.77s/it]"
          ]
        },
        {
          "output_type": "stream",
          "name": "stdout",
          "text": [
            "08_test\n",
            "255 1.0\n",
            " saving result files_demo_od_0.3/08_test.png\n",
            " saving result files_demo_bv_0.3/08_test.png\n"
          ]
        },
        {
          "output_type": "stream",
          "name": "stderr",
          "text": [
            "\r 40%|████      | 8/20 [00:37<00:29,  2.50s/it]"
          ]
        },
        {
          "output_type": "stream",
          "name": "stdout",
          "text": [
            "09_test\n",
            "255 1.0\n",
            " saving result files_demo_od_0.3/09_test.png\n",
            " saving result files_demo_bv_0.3/09_test.png\n"
          ]
        },
        {
          "output_type": "stream",
          "name": "stderr",
          "text": [
            "\r 45%|████▌     | 9/20 [00:40<00:29,  2.66s/it]"
          ]
        },
        {
          "output_type": "stream",
          "name": "stdout",
          "text": [
            "10_test\n",
            "255 1.0\n",
            " saving result files_demo_od_0.3/10_test.png\n",
            " saving result files_demo_bv_0.3/10_test.png\n"
          ]
        },
        {
          "output_type": "stream",
          "name": "stderr",
          "text": [
            "\r 50%|█████     | 10/20 [00:42<00:24,  2.48s/it]"
          ]
        },
        {
          "output_type": "stream",
          "name": "stdout",
          "text": [
            "11_test\n",
            "255 1.0\n",
            " saving result files_demo_od_0.3/11_test.png\n",
            " saving result files_demo_bv_0.3/11_test.png\n"
          ]
        },
        {
          "output_type": "stream",
          "name": "stderr",
          "text": [
            "\r 55%|█████▌    | 11/20 [00:44<00:20,  2.28s/it]"
          ]
        },
        {
          "output_type": "stream",
          "name": "stdout",
          "text": [
            "12_test\n",
            "255 1.0\n",
            " saving result files_demo_od_0.3/12_test.png\n",
            " saving result files_demo_bv_0.3/12_test.png\n"
          ]
        },
        {
          "output_type": "stream",
          "name": "stderr",
          "text": [
            "\r 60%|██████    | 12/20 [00:46<00:18,  2.33s/it]"
          ]
        },
        {
          "output_type": "stream",
          "name": "stdout",
          "text": [
            "13_test\n",
            "255 1.0\n",
            " saving result files_demo_od_0.3/13_test.png\n",
            " saving result files_demo_bv_0.3/13_test.png\n"
          ]
        },
        {
          "output_type": "stream",
          "name": "stderr",
          "text": [
            "\r 65%|██████▌   | 13/20 [00:48<00:15,  2.21s/it]"
          ]
        },
        {
          "output_type": "stream",
          "name": "stdout",
          "text": [
            "14_test\n",
            "255 1.0\n",
            " saving result files_demo_od_0.3/14_test.png\n",
            " saving result files_demo_bv_0.3/14_test.png\n"
          ]
        },
        {
          "output_type": "stream",
          "name": "stderr",
          "text": [
            "\r 70%|███████   | 14/20 [00:50<00:12,  2.13s/it]"
          ]
        },
        {
          "output_type": "stream",
          "name": "stdout",
          "text": [
            "15_test\n",
            "255 1.0\n",
            " saving result files_demo_od_0.3/15_test.png\n",
            " saving result files_demo_bv_0.3/15_test.png\n"
          ]
        },
        {
          "output_type": "stream",
          "name": "stderr",
          "text": [
            "\r 75%|███████▌  | 15/20 [00:52<00:10,  2.06s/it]"
          ]
        },
        {
          "output_type": "stream",
          "name": "stdout",
          "text": [
            "16_test\n",
            "255 1.0\n",
            " saving result files_demo_od_0.3/16_test.png\n",
            " saving result files_demo_bv_0.3/16_test.png\n"
          ]
        },
        {
          "output_type": "stream",
          "name": "stderr",
          "text": [
            "\r 80%|████████  | 16/20 [00:54<00:08,  2.01s/it]"
          ]
        },
        {
          "output_type": "stream",
          "name": "stdout",
          "text": [
            "17_test\n",
            "255 1.0\n",
            " saving result files_demo_od_0.3/17_test.png\n",
            " saving result files_demo_bv_0.3/17_test.png\n"
          ]
        },
        {
          "output_type": "stream",
          "name": "stderr",
          "text": [
            "\r 85%|████████▌ | 17/20 [00:56<00:05,  1.97s/it]"
          ]
        },
        {
          "output_type": "stream",
          "name": "stdout",
          "text": [
            "18_test\n",
            "255 1.0\n",
            " saving result files_demo_od_0.3/18_test.png\n",
            " saving result files_demo_bv_0.3/18_test.png\n"
          ]
        },
        {
          "output_type": "stream",
          "name": "stderr",
          "text": [
            "\r 90%|█████████ | 18/20 [00:58<00:03,  1.94s/it]"
          ]
        },
        {
          "output_type": "stream",
          "name": "stdout",
          "text": [
            "19_test\n",
            "255 1.0\n",
            " saving result files_demo_od_0.3/19_test.png\n",
            " saving result files_demo_bv_0.3/19_test.png\n"
          ]
        },
        {
          "output_type": "stream",
          "name": "stderr",
          "text": [
            "\r 95%|█████████▌| 19/20 [01:00<00:01,  1.97s/it]"
          ]
        },
        {
          "output_type": "stream",
          "name": "stdout",
          "text": [
            "20_test\n",
            "255 1.0\n",
            " saving result files_demo_od_0.3/20_test.png\n",
            " saving result files_demo_bv_0.3/20_test.png\n"
          ]
        },
        {
          "output_type": "stream",
          "name": "stderr",
          "text": [
            "100%|██████████| 20/20 [01:02<00:00,  3.11s/it]"
          ]
        },
        {
          "output_type": "stream",
          "name": "stdout",
          "text": [
            "\n",
            "\n",
            "****** OD ******Metrics\n",
            "Threshold: 0.3\n",
            "Accuracy: 0.99348\n",
            "F1: 0.78274 (dice score)\n",
            "Jaccard: 0.69220\n",
            "Recall: 0.91524\n",
            "Precision: 0.76854\n",
            "AUC: 0.91524\n",
            "\n",
            "\n",
            "****** BV ******Metrics\n",
            "Threshold: 0.3\n",
            "Accuracy: 0.96082\n",
            "F1: 0.78994 (dice score)\n",
            "Jaccard: 0.65451\n",
            "Recall: 0.74895\n",
            "Precision: 0.84658\n",
            "AUC: 0.74895\n",
            "\n",
            "\n"
          ]
        },
        {
          "output_type": "stream",
          "name": "stderr",
          "text": [
            "\n"
          ]
        }
      ]
    },
    {
      "cell_type": "code",
      "source": [
        "from copy import deepcopy\n",
        "\n",
        "data_dir = \"new_data\"\n",
        "od_channel, bv_channel = 0, 1\n",
        "\n",
        "model_dir = \"files_working\"\n",
        "threshold = 0.2\n",
        "\n",
        "od_result_dir = f\"files_demo_od_{threshold}\"\n",
        "bv_result_dir = f\"files_demo_bv_{threshold}\"\n",
        "\n",
        "create_dir(od_result_dir)\n",
        "create_dir(bv_result_dir)\n",
        "\n",
        "\"\"\" Load the model \"\"\"\n",
        "model_file_name = f\"{model_dir}/model.h5\"\n",
        "print(model_file_name)\n",
        "# with CustomObjectScope({'iou': iou, 'dice_coef': dice_coef, 'dice_coef_OD': dice_coef_OD, 'dice_coef_MA': dice_coef_MA, 'dice_loss': dice_loss}):\n",
        "model = tf.keras.models.load_model(model_file_name, compile = False)\n",
        "\n",
        "\"\"\" Load the dataset \"\"\"\n",
        "# dataset_path = os.path.join(data_dir, \"test\")\n",
        "# test_x, test_y = get_filenames_sorted(data_dir + \"/test/image/\", data_dir + \"/test/mask/\" )\n",
        "\n",
        "dataset_path = os.path.join(\"new_data\", \"test\")\n",
        "test_x, test_y = load_data(dataset_path)\n",
        "\n",
        "\"\"\" Make the prediction and calculate the metrics values \"\"\"\n",
        "SCORE_BV, SCORE_OD = [], []\n",
        "for x, y in tqdm(zip(test_x, test_y), total=len(test_x)):\n",
        "    \"\"\" Extracting name \"\"\"\n",
        "    name = x.rsplit(\"/\", 1)[1].rsplit(\".\", 1)[0]\n",
        "    print(name)\n",
        "\n",
        "    \"\"\" Read the image and mask \"\"\"\n",
        "    ori_x, x = read_image(x)\n",
        "    ori_y, y = read_mask(y)\n",
        "\n",
        "    \"\"\" Prediction \"\"\"\n",
        "    y_pred = model.predict(np.expand_dims(x, axis=0))[0]\n",
        "    y_pred_prob = deepcopy(y_pred)\n",
        "    y_pred = y_pred > threshold\n",
        "    y_pred = y_pred.astype(np.float32)\n",
        "\n",
        "    print(np.max(ori_y), np.max(y))\n",
        "\n",
        "    \"\"\" Saving the images \"\"\"\n",
        "    save_image_path_od = f\"{od_result_dir}/{name}.png\"\n",
        "    save_results(ori_x, ori_y, y_pred, save_image_path_od, od_channel)\n",
        "\n",
        "    save_image_path_bv = f\"{bv_result_dir}/{name}.png\"\n",
        "    save_results(ori_x, ori_y, y_pred, save_image_path_bv, bv_channel)\n",
        "\n",
        "\n",
        "#     \"\"\" Calculate the od metrics \"\"\"\n",
        "    bv_pred = y_pred[:, :, bv_channel].flatten()\n",
        "    bv_pred_prob = y_pred_prob[:, :, bv_channel].flatten()\n",
        "    bv_gt = y[:, :, bv_channel].flatten()\n",
        "    acc_value = accuracy_score(bv_gt > threshold, bv_pred>threshold)\n",
        "    f1_value = f1_score(bv_gt > threshold, bv_pred>threshold, labels=[0, 1], average=\"binary\")\n",
        "    jac_value = jaccard_score(bv_gt > threshold, bv_pred>threshold, labels=[0, 1], average=\"binary\")\n",
        "    recall_value = recall_score(bv_gt > threshold, bv_pred>threshold, labels=[0, 1], average=\"binary\")\n",
        "    recall_computed = np.sum((bv_gt > threshold) & (bv_pred > threshold)) / np.sum(bv_gt > threshold)\n",
        "    precision_value = precision_score(bv_gt > threshold, bv_pred>threshold, labels=[0, 1], average=\"binary\")\n",
        "    auc_score = auc(bv_gt > threshold, bv_pred_prob)\n",
        "    SCORE_BV.append([name, acc_value, f1_value, jac_value, recall_value, precision_value, recall_computed, auc_score])\n",
        "\n",
        "#     \"\"\" Calculate the ma metrics \"\"\"\n",
        "    bv_pred = y_pred[:, :, od_channel].flatten()\n",
        "    bv_pred_prob = y_pred_prob[:, :, bv_channel].flatten()\n",
        "    bv_gt = y[:, :, od_channel].flatten()\n",
        "    acc_value = accuracy_score(bv_gt > threshold, bv_pred>threshold)\n",
        "    f1_value = f1_score(bv_gt > threshold, bv_pred>threshold, labels=[0, 1], average=\"binary\")\n",
        "    jac_value = jaccard_score(bv_gt > threshold, bv_pred>threshold, labels=[0, 1], average=\"binary\")\n",
        "    recall_value = recall_score(bv_gt > threshold, bv_pred>threshold, labels=[0, 1], average=\"binary\")\n",
        "    recall_computed = np.sum((bv_gt > threshold) & (bv_pred > threshold)) / np.sum(bv_gt > threshold)\n",
        "    precision_value = precision_score(bv_gt > threshold, bv_pred>threshold, labels=[0, 1], average=\"binary\")\n",
        "    auc_score = auc(bv_gt > threshold, bv_pred_prob)\n",
        "    SCORE_OD.append([name, acc_value, f1_value, jac_value, recall_value, precision_value, recall_computed, auc_score])\n",
        "    \n",
        "print(\"\\n\")\n",
        "for SCORE in [SCORE_OD, SCORE_BV]:\n",
        "    if SCORE == SCORE_OD:\n",
        "        print(\"****** OD ******Metrics\")\n",
        "    else:\n",
        "        print(\"****** BV ******Metrics\")\n",
        "    score = [s[1:] for s in SCORE]\n",
        "    score = np.mean(score, axis=0)\n",
        "    print(f\"Threshold:\", threshold)\n",
        "    print(f\"Accuracy: {score[0]:0.5f}\")\n",
        "    print(f\"F1: {score[1]:0.5f} (dice score)\")\n",
        "    print(f\"Jaccard: {score[2]:0.5f}\")\n",
        "    print(f\"Recall: {score[3]:0.5f}\")\n",
        "    print(f\"Precision: {score[4]:0.5f}\")\n",
        "    print(f\"AUC: {score[5]:0.5f}\")\n",
        "\n",
        "    # \"\"\" Saving \"\"\"\n",
        "    if SCORE == SCORE_OD:\n",
        "        df = pd.DataFrame(SCORE, columns=[\"Image\", \"Acc\", \"F1\", \"Jaccard\", \"Recall\", \"Precision\", \"Recall Computed\", \"AUC\"])\n",
        "        df.to_csv(f\"{od_result_dir}/score.csv\")\n",
        "    else:\n",
        "        df = pd.DataFrame(SCORE, columns=[\"Image\", \"Acc\", \"F1\", \"Jaccard\", \"Recall\", \"Precision\", \"Recall Computed\", \"AUC\"])\n",
        "        df.to_csv(f\"{bv_result_dir}/score.csv\")\n",
        "    print(\"\\n\")"
      ],
      "metadata": {
        "id": "9XVmGCDx7qbS",
        "colab": {
          "base_uri": "https://localhost:8080/"
        },
        "outputId": "d4f171b8-2209-49a2-da20-6839566056f5"
      },
      "execution_count": null,
      "outputs": [
        {
          "output_type": "stream",
          "name": "stdout",
          "text": [
            "files_working/model.h5\n"
          ]
        },
        {
          "output_type": "stream",
          "name": "stderr",
          "text": [
            "\r  0%|          | 0/20 [00:00<?, ?it/s]"
          ]
        },
        {
          "output_type": "stream",
          "name": "stdout",
          "text": [
            "01_test\n",
            "255 1.0\n",
            " saving result files_demo_od_0.2/01_test.png\n",
            " saving result files_demo_bv_0.2/01_test.png\n"
          ]
        },
        {
          "output_type": "stream",
          "name": "stderr",
          "text": [
            "\r  5%|▌         | 1/20 [00:02<00:55,  2.95s/it]"
          ]
        },
        {
          "output_type": "stream",
          "name": "stdout",
          "text": [
            "02_test\n",
            "255 1.0\n",
            " saving result files_demo_od_0.2/02_test.png\n",
            " saving result files_demo_bv_0.2/02_test.png\n"
          ]
        },
        {
          "output_type": "stream",
          "name": "stderr",
          "text": [
            "\r 10%|█         | 2/20 [00:04<00:37,  2.10s/it]"
          ]
        },
        {
          "output_type": "stream",
          "name": "stdout",
          "text": [
            "03_test\n",
            "255 1.0\n",
            " saving result files_demo_od_0.2/03_test.png\n",
            " saving result files_demo_bv_0.2/03_test.png\n"
          ]
        },
        {
          "output_type": "stream",
          "name": "stderr",
          "text": [
            "\r 15%|█▌        | 3/20 [00:06<00:33,  1.98s/it]"
          ]
        },
        {
          "output_type": "stream",
          "name": "stdout",
          "text": [
            "04_test\n",
            "255 1.0\n",
            " saving result files_demo_od_0.2/04_test.png\n",
            " saving result files_demo_bv_0.2/04_test.png\n"
          ]
        },
        {
          "output_type": "stream",
          "name": "stderr",
          "text": [
            "\r 20%|██        | 4/20 [00:07<00:27,  1.72s/it]"
          ]
        },
        {
          "output_type": "stream",
          "name": "stdout",
          "text": [
            "05_test\n",
            "255 1.0\n",
            " saving result files_demo_od_0.2/05_test.png\n",
            " saving result files_demo_bv_0.2/05_test.png\n"
          ]
        },
        {
          "output_type": "stream",
          "name": "stderr",
          "text": [
            "\r 25%|██▌       | 5/20 [00:09<00:28,  1.87s/it]"
          ]
        },
        {
          "output_type": "stream",
          "name": "stdout",
          "text": [
            "06_test\n",
            "255 1.0\n",
            " saving result files_demo_od_0.2/06_test.png\n",
            " saving result files_demo_bv_0.2/06_test.png\n"
          ]
        },
        {
          "output_type": "stream",
          "name": "stderr",
          "text": [
            "\r 30%|███       | 6/20 [00:11<00:23,  1.68s/it]"
          ]
        },
        {
          "output_type": "stream",
          "name": "stdout",
          "text": [
            "07_test\n",
            "255 1.0\n",
            " saving result files_demo_od_0.2/07_test.png\n",
            " saving result files_demo_bv_0.2/07_test.png\n"
          ]
        },
        {
          "output_type": "stream",
          "name": "stderr",
          "text": [
            "\r 35%|███▌      | 7/20 [00:12<00:20,  1.60s/it]"
          ]
        },
        {
          "output_type": "stream",
          "name": "stdout",
          "text": [
            "08_test\n",
            "255 1.0\n",
            " saving result files_demo_od_0.2/08_test.png\n",
            " saving result files_demo_bv_0.2/08_test.png\n"
          ]
        },
        {
          "output_type": "stream",
          "name": "stderr",
          "text": [
            "\r 40%|████      | 8/20 [00:13<00:18,  1.53s/it]"
          ]
        },
        {
          "output_type": "stream",
          "name": "stdout",
          "text": [
            "09_test\n",
            "255 1.0\n",
            " saving result files_demo_od_0.2/09_test.png\n",
            " saving result files_demo_bv_0.2/09_test.png\n"
          ]
        },
        {
          "output_type": "stream",
          "name": "stderr",
          "text": [
            "\r 45%|████▌     | 9/20 [00:15<00:17,  1.60s/it]"
          ]
        },
        {
          "output_type": "stream",
          "name": "stdout",
          "text": [
            "10_test\n",
            "255 1.0\n",
            " saving result files_demo_od_0.2/10_test.png\n",
            " saving result files_demo_bv_0.2/10_test.png\n"
          ]
        },
        {
          "output_type": "stream",
          "name": "stderr",
          "text": [
            "\r 50%|█████     | 10/20 [00:17<00:15,  1.57s/it]"
          ]
        },
        {
          "output_type": "stream",
          "name": "stdout",
          "text": [
            "11_test\n",
            "255 1.0\n",
            " saving result files_demo_od_0.2/11_test.png\n",
            " saving result files_demo_bv_0.2/11_test.png\n"
          ]
        },
        {
          "output_type": "stream",
          "name": "stderr",
          "text": [
            "\r 55%|█████▌    | 11/20 [00:18<00:13,  1.50s/it]"
          ]
        },
        {
          "output_type": "stream",
          "name": "stdout",
          "text": [
            "12_test\n",
            "255 1.0\n",
            " saving result files_demo_od_0.2/12_test.png\n",
            " saving result files_demo_bv_0.2/12_test.png\n"
          ]
        },
        {
          "output_type": "stream",
          "name": "stderr",
          "text": [
            "\r 60%|██████    | 12/20 [00:19<00:11,  1.46s/it]"
          ]
        },
        {
          "output_type": "stream",
          "name": "stdout",
          "text": [
            "13_test\n",
            "255 1.0\n",
            " saving result files_demo_od_0.2/13_test.png\n",
            " saving result files_demo_bv_0.2/13_test.png\n"
          ]
        },
        {
          "output_type": "stream",
          "name": "stderr",
          "text": [
            "\r 65%|██████▌   | 13/20 [00:21<00:09,  1.42s/it]"
          ]
        },
        {
          "output_type": "stream",
          "name": "stdout",
          "text": [
            "14_test\n",
            "255 1.0\n",
            " saving result files_demo_od_0.2/14_test.png\n",
            " saving result files_demo_bv_0.2/14_test.png\n"
          ]
        },
        {
          "output_type": "stream",
          "name": "stderr",
          "text": [
            "\r 70%|███████   | 14/20 [00:22<00:08,  1.40s/it]"
          ]
        },
        {
          "output_type": "stream",
          "name": "stdout",
          "text": [
            "15_test\n",
            "255 1.0\n",
            " saving result files_demo_od_0.2/15_test.png\n",
            " saving result files_demo_bv_0.2/15_test.png\n"
          ]
        },
        {
          "output_type": "stream",
          "name": "stderr",
          "text": [
            "\r 75%|███████▌  | 15/20 [00:23<00:06,  1.39s/it]"
          ]
        },
        {
          "output_type": "stream",
          "name": "stdout",
          "text": [
            "16_test\n",
            "255 1.0\n",
            " saving result files_demo_od_0.2/16_test.png\n",
            " saving result files_demo_bv_0.2/16_test.png\n"
          ]
        },
        {
          "output_type": "stream",
          "name": "stderr",
          "text": [
            "\r 80%|████████  | 16/20 [00:25<00:06,  1.51s/it]"
          ]
        },
        {
          "output_type": "stream",
          "name": "stdout",
          "text": [
            "17_test\n",
            "255 1.0\n",
            " saving result files_demo_od_0.2/17_test.png\n",
            " saving result files_demo_bv_0.2/17_test.png\n"
          ]
        },
        {
          "output_type": "stream",
          "name": "stderr",
          "text": [
            "\r 85%|████████▌ | 17/20 [00:26<00:04,  1.36s/it]"
          ]
        },
        {
          "output_type": "stream",
          "name": "stdout",
          "text": [
            "18_test\n",
            "255 1.0\n",
            " saving result files_demo_od_0.2/18_test.png\n",
            " saving result files_demo_bv_0.2/18_test.png\n"
          ]
        },
        {
          "output_type": "stream",
          "name": "stderr",
          "text": [
            "\r 90%|█████████ | 18/20 [00:27<00:02,  1.25s/it]"
          ]
        },
        {
          "output_type": "stream",
          "name": "stdout",
          "text": [
            "19_test\n",
            "255 1.0\n",
            " saving result files_demo_od_0.2/19_test.png\n",
            " saving result files_demo_bv_0.2/19_test.png\n"
          ]
        },
        {
          "output_type": "stream",
          "name": "stderr",
          "text": [
            "\r 95%|█████████▌| 19/20 [00:28<00:01,  1.16s/it]"
          ]
        },
        {
          "output_type": "stream",
          "name": "stdout",
          "text": [
            "20_test\n",
            "255 1.0\n",
            " saving result files_demo_od_0.2/20_test.png\n",
            " saving result files_demo_bv_0.2/20_test.png\n"
          ]
        },
        {
          "output_type": "stream",
          "name": "stderr",
          "text": [
            "100%|██████████| 20/20 [00:29<00:00,  1.48s/it]"
          ]
        },
        {
          "output_type": "stream",
          "name": "stdout",
          "text": [
            "\n",
            "\n",
            "****** OD ******Metrics\n",
            "Threshold: 0.2\n",
            "Accuracy: 0.99342\n",
            "F1: 0.78441 (dice score)\n",
            "Jaccard: 0.69510\n",
            "Recall: 0.92241\n",
            "Precision: 0.76486\n",
            "AUC: 0.92241\n",
            "\n",
            "\n",
            "****** BV ******Metrics\n",
            "Threshold: 0.2\n",
            "Accuracy: 0.95912\n",
            "F1: 0.79296 (dice score)\n",
            "Jaccard: 0.65867\n",
            "Recall: 0.74849\n",
            "Precision: 0.85365\n",
            "AUC: 0.74849\n",
            "\n",
            "\n"
          ]
        },
        {
          "output_type": "stream",
          "name": "stderr",
          "text": [
            "\n"
          ]
        }
      ]
    },
    {
      "cell_type": "code",
      "source": [
        "from copy import deepcopy\n",
        "\n",
        "data_dir = \"new_data\"\n",
        "od_channel, bv_channel = 0, 1\n",
        "\n",
        "model_dir = \"files_working\"\n",
        "threshold = 0.75\n",
        "\n",
        "od_result_dir = f\"files_demo_od_{threshold}\"\n",
        "bv_result_dir = f\"files_demo_bv_{threshold}\"\n",
        "\n",
        "create_dir(od_result_dir)\n",
        "create_dir(bv_result_dir)\n",
        "\n",
        "\"\"\" Load the model \"\"\"\n",
        "model_file_name = f\"{model_dir}/model.h5\"\n",
        "print(model_file_name)\n",
        "# with CustomObjectScope({'iou': iou, 'dice_coef': dice_coef, 'dice_coef_OD': dice_coef_OD, 'dice_coef_MA': dice_coef_MA, 'dice_loss': dice_loss}):\n",
        "model = tf.keras.models.load_model(model_file_name, compile = False)\n",
        "\n",
        "\"\"\" Load the dataset \"\"\"\n",
        "# dataset_path = os.path.join(data_dir, \"test\")\n",
        "# test_x, test_y = get_filenames_sorted(data_dir + \"/test/image/\", data_dir + \"/test/mask/\" )\n",
        "\n",
        "dataset_path = os.path.join(\"new_data\", \"test\")\n",
        "test_x, test_y = load_data(dataset_path)\n",
        "\n",
        "\"\"\" Make the prediction and calculate the metrics values \"\"\"\n",
        "SCORE_BV, SCORE_OD = [], []\n",
        "for x, y in tqdm(zip(test_x, test_y), total=len(test_x)):\n",
        "    \"\"\" Extracting name \"\"\"\n",
        "    name = x.rsplit(\"/\", 1)[1].rsplit(\".\", 1)[0]\n",
        "    print(name)\n",
        "\n",
        "    \"\"\" Read the image and mask \"\"\"\n",
        "    ori_x, x = read_image(x)\n",
        "    ori_y, y = read_mask(y)\n",
        "\n",
        "    \"\"\" Prediction \"\"\"\n",
        "    y_pred = model.predict(np.expand_dims(x, axis=0))[0]\n",
        "    y_pred_prob = deepcopy(y_pred)\n",
        "    y_pred = y_pred > threshold\n",
        "    y_pred = y_pred.astype(np.float32)\n",
        "\n",
        "    print(np.max(ori_y), np.max(y))\n",
        "\n",
        "    \"\"\" Saving the images \"\"\"\n",
        "    save_image_path_od = f\"{od_result_dir}/{name}.png\"\n",
        "    save_results(ori_x, ori_y, y_pred, save_image_path_od, od_channel)\n",
        "\n",
        "    save_image_path_bv = f\"{bv_result_dir}/{name}.png\"\n",
        "    save_results(ori_x, ori_y, y_pred, save_image_path_bv, bv_channel)\n",
        "\n",
        "\n",
        "#     \"\"\" Calculate the od metrics \"\"\"\n",
        "    bv_pred = y_pred[:, :, bv_channel].flatten()\n",
        "    bv_pred_prob = y_pred_prob[:, :, bv_channel].flatten()\n",
        "    bv_gt = y[:, :, bv_channel].flatten()\n",
        "    acc_value = accuracy_score(bv_gt > threshold, bv_pred>threshold)\n",
        "    f1_value = f1_score(bv_gt > threshold, bv_pred>threshold, labels=[0, 1], average=\"binary\")\n",
        "    jac_value = jaccard_score(bv_gt > threshold, bv_pred>threshold, labels=[0, 1], average=\"binary\")\n",
        "    recall_value = recall_score(bv_gt > threshold, bv_pred>threshold, labels=[0, 1], average=\"binary\")\n",
        "    recall_computed = np.sum((bv_gt > threshold) & (bv_pred > threshold)) / np.sum(bv_gt > threshold)\n",
        "    precision_value = precision_score(bv_gt > threshold, bv_pred>threshold, labels=[0, 1], average=\"binary\")\n",
        "    auc_score = auc(bv_gt > threshold, bv_pred_prob)\n",
        "    SCORE_BV.append([name, acc_value, f1_value, jac_value, recall_value, precision_value, recall_computed, auc_score])\n",
        "\n",
        "#     \"\"\" Calculate the ma metrics \"\"\"\n",
        "    bv_pred = y_pred[:, :, od_channel].flatten()\n",
        "    bv_pred_prob = y_pred_prob[:, :, bv_channel].flatten()\n",
        "    bv_gt = y[:, :, od_channel].flatten()\n",
        "    acc_value = accuracy_score(bv_gt > threshold, bv_pred>threshold)\n",
        "    f1_value = f1_score(bv_gt > threshold, bv_pred>threshold, labels=[0, 1], average=\"binary\")\n",
        "    jac_value = jaccard_score(bv_gt > threshold, bv_pred>threshold, labels=[0, 1], average=\"binary\")\n",
        "    recall_value = recall_score(bv_gt > threshold, bv_pred>threshold, labels=[0, 1], average=\"binary\")\n",
        "    recall_computed = np.sum((bv_gt > threshold) & (bv_pred > threshold)) / np.sum(bv_gt > threshold)\n",
        "    precision_value = precision_score(bv_gt > threshold, bv_pred>threshold, labels=[0, 1], average=\"binary\")\n",
        "    auc_score = auc(bv_gt > threshold, bv_pred_prob)\n",
        "    SCORE_OD.append([name, acc_value, f1_value, jac_value, recall_value, precision_value, recall_computed, auc_score])\n",
        "    \n",
        "print(\"\\n\")\n",
        "for SCORE in [SCORE_OD, SCORE_BV]:\n",
        "    if SCORE == SCORE_OD:\n",
        "        print(\"****** OD ******Metrics\")\n",
        "    else:\n",
        "        print(\"****** BV ******Metrics\")\n",
        "    score = [s[1:] for s in SCORE]\n",
        "    score = np.mean(score, axis=0)\n",
        "    print(f\"Threshold:\", threshold)\n",
        "    print(f\"Accuracy: {score[0]:0.5f}\")\n",
        "    print(f\"F1: {score[1]:0.5f} (dice score)\")\n",
        "    print(f\"Jaccard: {score[2]:0.5f}\")\n",
        "    print(f\"Recall: {score[3]:0.5f}\")\n",
        "    print(f\"Precision: {score[4]:0.5f}\")\n",
        "    print(f\"AUC: {score[5]:0.5f}\")\n",
        "\n",
        "    # \"\"\" Saving \"\"\"\n",
        "    if SCORE == SCORE_OD:\n",
        "        df = pd.DataFrame(SCORE, columns=[\"Image\", \"Acc\", \"F1\", \"Jaccard\", \"Recall\", \"Precision\", \"Recall Computed\", \"AUC\"])\n",
        "        df.to_csv(f\"{od_result_dir}/score.csv\")\n",
        "    else:\n",
        "        df = pd.DataFrame(SCORE, columns=[\"Image\", \"Acc\", \"F1\", \"Jaccard\", \"Recall\", \"Precision\", \"Recall Computed\", \"AUC\"])\n",
        "        df.to_csv(f\"{bv_result_dir}/score.csv\")\n",
        "    print(\"\\n\")"
      ],
      "metadata": {
        "colab": {
          "base_uri": "https://localhost:8080/"
        },
        "id": "pXdSpr8_9Ngo",
        "outputId": "460319a4-a138-443f-b00e-087758060182"
      },
      "execution_count": null,
      "outputs": [
        {
          "output_type": "stream",
          "name": "stdout",
          "text": [
            "files_working/model.h5\n"
          ]
        },
        {
          "output_type": "stream",
          "name": "stderr",
          "text": [
            "\r  0%|          | 0/20 [00:00<?, ?it/s]"
          ]
        },
        {
          "output_type": "stream",
          "name": "stdout",
          "text": [
            "01_test\n",
            "255 1.0\n",
            " saving result files_demo_od_0.75/01_test.png\n",
            " saving result files_demo_bv_0.75/01_test.png\n"
          ]
        },
        {
          "output_type": "stream",
          "name": "stderr",
          "text": [
            "\r  5%|▌         | 1/20 [00:01<00:33,  1.74s/it]"
          ]
        },
        {
          "output_type": "stream",
          "name": "stdout",
          "text": [
            "02_test\n",
            "255 1.0\n",
            " saving result files_demo_od_0.75/02_test.png\n",
            " saving result files_demo_bv_0.75/02_test.png\n"
          ]
        },
        {
          "output_type": "stream",
          "name": "stderr",
          "text": [
            "\r 10%|█         | 2/20 [00:03<00:26,  1.48s/it]"
          ]
        },
        {
          "output_type": "stream",
          "name": "stdout",
          "text": [
            "03_test\n",
            "255 1.0\n",
            " saving result files_demo_od_0.75/03_test.png\n",
            " saving result files_demo_bv_0.75/03_test.png\n"
          ]
        },
        {
          "output_type": "stream",
          "name": "stderr",
          "text": [
            "\r 15%|█▌        | 3/20 [00:04<00:21,  1.25s/it]"
          ]
        },
        {
          "output_type": "stream",
          "name": "stdout",
          "text": [
            "04_test\n",
            "255 1.0\n",
            " saving result files_demo_od_0.75/04_test.png\n",
            " saving result files_demo_bv_0.75/04_test.png\n"
          ]
        },
        {
          "output_type": "stream",
          "name": "stderr",
          "text": [
            "\r 20%|██        | 4/20 [00:05<00:20,  1.27s/it]"
          ]
        },
        {
          "output_type": "stream",
          "name": "stdout",
          "text": [
            "05_test\n",
            "255 1.0\n",
            " saving result files_demo_od_0.75/05_test.png\n",
            " saving result files_demo_bv_0.75/05_test.png\n"
          ]
        },
        {
          "output_type": "stream",
          "name": "stderr",
          "text": [
            "\r 25%|██▌       | 5/20 [00:06<00:17,  1.15s/it]"
          ]
        },
        {
          "output_type": "stream",
          "name": "stdout",
          "text": [
            "06_test\n",
            "255 1.0\n",
            " saving result files_demo_od_0.75/06_test.png\n",
            " saving result files_demo_bv_0.75/06_test.png\n"
          ]
        },
        {
          "output_type": "stream",
          "name": "stderr",
          "text": [
            "\r 30%|███       | 6/20 [00:07<00:15,  1.08s/it]"
          ]
        },
        {
          "output_type": "stream",
          "name": "stdout",
          "text": [
            "07_test\n",
            "255 1.0\n",
            " saving result files_demo_od_0.75/07_test.png\n",
            " saving result files_demo_bv_0.75/07_test.png\n"
          ]
        },
        {
          "output_type": "stream",
          "name": "stderr",
          "text": [
            "\r 35%|███▌      | 7/20 [00:08<00:13,  1.04s/it]"
          ]
        },
        {
          "output_type": "stream",
          "name": "stdout",
          "text": [
            "08_test\n",
            "255 1.0\n",
            " saving result files_demo_od_0.75/08_test.png\n",
            " saving result files_demo_bv_0.75/08_test.png\n"
          ]
        },
        {
          "output_type": "stream",
          "name": "stderr",
          "text": [
            "\r 40%|████      | 8/20 [00:09<00:12,  1.01s/it]"
          ]
        },
        {
          "output_type": "stream",
          "name": "stdout",
          "text": [
            "09_test\n",
            "255 1.0\n",
            " saving result files_demo_od_0.75/09_test.png\n",
            " saving result files_demo_bv_0.75/09_test.png\n"
          ]
        },
        {
          "output_type": "stream",
          "name": "stderr",
          "text": [
            "\r 45%|████▌     | 9/20 [00:10<00:10,  1.01it/s]"
          ]
        },
        {
          "output_type": "stream",
          "name": "stdout",
          "text": [
            "10_test\n",
            "255 1.0\n",
            " saving result files_demo_od_0.75/10_test.png\n",
            " saving result files_demo_bv_0.75/10_test.png\n"
          ]
        },
        {
          "output_type": "stream",
          "name": "stderr",
          "text": [
            "\r 50%|█████     | 10/20 [00:10<00:09,  1.02it/s]"
          ]
        },
        {
          "output_type": "stream",
          "name": "stdout",
          "text": [
            "11_test\n",
            "255 1.0\n",
            " saving result files_demo_od_0.75/11_test.png\n",
            " saving result files_demo_bv_0.75/11_test.png\n"
          ]
        },
        {
          "output_type": "stream",
          "name": "stderr",
          "text": [
            "\r 55%|█████▌    | 11/20 [00:11<00:08,  1.01it/s]"
          ]
        },
        {
          "output_type": "stream",
          "name": "stdout",
          "text": [
            "12_test\n",
            "255 1.0\n",
            " saving result files_demo_od_0.75/12_test.png\n",
            " saving result files_demo_bv_0.75/12_test.png\n"
          ]
        },
        {
          "output_type": "stream",
          "name": "stderr",
          "text": [
            "\r 60%|██████    | 12/20 [00:12<00:07,  1.02it/s]"
          ]
        },
        {
          "output_type": "stream",
          "name": "stdout",
          "text": [
            "13_test\n",
            "255 1.0\n",
            " saving result files_demo_od_0.75/13_test.png\n",
            " saving result files_demo_bv_0.75/13_test.png\n"
          ]
        },
        {
          "output_type": "stream",
          "name": "stderr",
          "text": [
            "\r 65%|██████▌   | 13/20 [00:13<00:06,  1.03it/s]"
          ]
        },
        {
          "output_type": "stream",
          "name": "stdout",
          "text": [
            "14_test\n",
            "255 1.0\n",
            " saving result files_demo_od_0.75/14_test.png\n",
            " saving result files_demo_bv_0.75/14_test.png\n"
          ]
        },
        {
          "output_type": "stream",
          "name": "stderr",
          "text": [
            "\r 70%|███████   | 14/20 [00:14<00:05,  1.03it/s]"
          ]
        },
        {
          "output_type": "stream",
          "name": "stdout",
          "text": [
            "15_test\n",
            "255 1.0\n",
            " saving result files_demo_od_0.75/15_test.png\n",
            " saving result files_demo_bv_0.75/15_test.png\n"
          ]
        },
        {
          "output_type": "stream",
          "name": "stderr",
          "text": [
            "\r 75%|███████▌  | 15/20 [00:15<00:04,  1.03it/s]"
          ]
        },
        {
          "output_type": "stream",
          "name": "stdout",
          "text": [
            "16_test\n",
            "255 1.0\n",
            " saving result files_demo_od_0.75/16_test.png\n",
            " saving result files_demo_bv_0.75/16_test.png\n"
          ]
        },
        {
          "output_type": "stream",
          "name": "stderr",
          "text": [
            "\r 80%|████████  | 16/20 [00:16<00:03,  1.04it/s]"
          ]
        },
        {
          "output_type": "stream",
          "name": "stdout",
          "text": [
            "17_test\n",
            "255 1.0\n",
            " saving result files_demo_od_0.75/17_test.png\n",
            " saving result files_demo_bv_0.75/17_test.png\n"
          ]
        },
        {
          "output_type": "stream",
          "name": "stderr",
          "text": [
            "\r 85%|████████▌ | 17/20 [00:17<00:02,  1.04it/s]"
          ]
        },
        {
          "output_type": "stream",
          "name": "stdout",
          "text": [
            "18_test\n",
            "255 1.0\n",
            " saving result files_demo_od_0.75/18_test.png\n",
            " saving result files_demo_bv_0.75/18_test.png\n"
          ]
        },
        {
          "output_type": "stream",
          "name": "stderr",
          "text": [
            "\r 90%|█████████ | 18/20 [00:18<00:01,  1.04it/s]"
          ]
        },
        {
          "output_type": "stream",
          "name": "stdout",
          "text": [
            "19_test\n",
            "255 1.0\n",
            " saving result files_demo_od_0.75/19_test.png\n",
            " saving result files_demo_bv_0.75/19_test.png\n"
          ]
        },
        {
          "output_type": "stream",
          "name": "stderr",
          "text": [
            "\r 95%|█████████▌| 19/20 [00:19<00:00,  1.04it/s]"
          ]
        },
        {
          "output_type": "stream",
          "name": "stdout",
          "text": [
            "20_test\n",
            "255 1.0\n",
            " saving result files_demo_od_0.75/20_test.png\n",
            " saving result files_demo_bv_0.75/20_test.png\n"
          ]
        },
        {
          "output_type": "stream",
          "name": "stderr",
          "text": [
            "100%|██████████| 20/20 [00:20<00:00,  1.03s/it]"
          ]
        },
        {
          "output_type": "stream",
          "name": "stdout",
          "text": [
            "\n",
            "\n",
            "****** OD ******Metrics\n",
            "Threshold: 0.75\n",
            "Accuracy: 0.99348\n",
            "F1: 0.76887 (dice score)\n",
            "Jaccard: 0.67230\n",
            "Recall: 0.88504\n",
            "Precision: 0.77590\n",
            "AUC: 0.88504\n",
            "\n",
            "\n",
            "****** BV ******Metrics\n",
            "Threshold: 0.75\n",
            "Accuracy: 0.96770\n",
            "F1: 0.77610 (dice score)\n",
            "Jaccard: 0.63535\n",
            "Recall: 0.78900\n",
            "Precision: 0.77541\n",
            "AUC: 0.78900\n",
            "\n",
            "\n"
          ]
        },
        {
          "output_type": "stream",
          "name": "stderr",
          "text": [
            "\n"
          ]
        }
      ]
    },
    {
      "cell_type": "code",
      "source": [
        "from copy import deepcopy\n",
        "\n",
        "data_dir = \"new_data\"\n",
        "od_channel, bv_channel = 0, 1\n",
        "\n",
        "model_dir = \"files_working\"\n",
        "threshold = 0.25\n",
        "\n",
        "od_result_dir = f\"files_demo_od_{threshold}\"\n",
        "bv_result_dir = f\"files_demo_bv_{threshold}\"\n",
        "\n",
        "create_dir(od_result_dir)\n",
        "create_dir(bv_result_dir)\n",
        "\n",
        "\"\"\" Load the model \"\"\"\n",
        "model_file_name = f\"{model_dir}/model.h5\"\n",
        "print(model_file_name)\n",
        "# with CustomObjectScope({'iou': iou, 'dice_coef': dice_coef, 'dice_coef_OD': dice_coef_OD, 'dice_coef_MA': dice_coef_MA, 'dice_loss': dice_loss}):\n",
        "model = tf.keras.models.load_model(model_file_name, compile = False)\n",
        "\n",
        "\"\"\" Load the dataset \"\"\"\n",
        "# dataset_path = os.path.join(data_dir, \"test\")\n",
        "# test_x, test_y = get_filenames_sorted(data_dir + \"/test/image/\", data_dir + \"/test/mask/\" )\n",
        "\n",
        "dataset_path = os.path.join(\"new_data\", \"test\")\n",
        "test_x, test_y = load_data(dataset_path)\n",
        "\n",
        "\"\"\" Make the prediction and calculate the metrics values \"\"\"\n",
        "SCORE_BV, SCORE_OD = [], []\n",
        "for x, y in tqdm(zip(test_x, test_y), total=len(test_x)):\n",
        "    \"\"\" Extracting name \"\"\"\n",
        "    name = x.rsplit(\"/\", 1)[1].rsplit(\".\", 1)[0]\n",
        "    print(name)\n",
        "\n",
        "    \"\"\" Read the image and mask \"\"\"\n",
        "    ori_x, x = read_image(x)\n",
        "    ori_y, y = read_mask(y)\n",
        "\n",
        "    \"\"\" Prediction \"\"\"\n",
        "    y_pred = model.predict(np.expand_dims(x, axis=0))[0]\n",
        "    y_pred_prob = deepcopy(y_pred)\n",
        "    y_pred = y_pred > threshold\n",
        "    y_pred = y_pred.astype(np.float32)\n",
        "\n",
        "    print(np.max(ori_y), np.max(y))\n",
        "\n",
        "    \"\"\" Saving the images \"\"\"\n",
        "    save_image_path_od = f\"{od_result_dir}/{name}.png\"\n",
        "    save_results(ori_x, ori_y, y_pred, save_image_path_od, od_channel)\n",
        "\n",
        "    save_image_path_bv = f\"{bv_result_dir}/{name}.png\"\n",
        "    save_results(ori_x, ori_y, y_pred, save_image_path_bv, bv_channel)\n",
        "\n",
        "\n",
        "#     \"\"\" Calculate the od metrics \"\"\"\n",
        "    bv_pred = y_pred[:, :, bv_channel].flatten()\n",
        "    bv_pred_prob = y_pred_prob[:, :, bv_channel].flatten()\n",
        "    bv_gt = y[:, :, bv_channel].flatten()\n",
        "    acc_value = accuracy_score(bv_gt > threshold, bv_pred>threshold)\n",
        "    f1_value = f1_score(bv_gt > threshold, bv_pred>threshold, labels=[0, 1], average=\"binary\")\n",
        "    jac_value = jaccard_score(bv_gt > threshold, bv_pred>threshold, labels=[0, 1], average=\"binary\")\n",
        "    recall_value = recall_score(bv_gt > threshold, bv_pred>threshold, labels=[0, 1], average=\"binary\")\n",
        "    recall_computed = np.sum((bv_gt > threshold) & (bv_pred > threshold)) / np.sum(bv_gt > threshold)\n",
        "    precision_value = precision_score(bv_gt > threshold, bv_pred>threshold, labels=[0, 1], average=\"binary\")\n",
        "    auc_score = auc(bv_gt > threshold, bv_pred_prob)\n",
        "    SCORE_BV.append([name, acc_value, f1_value, jac_value, recall_value, precision_value, recall_computed, auc_score])\n",
        "\n",
        "#     \"\"\" Calculate the ma metrics \"\"\"\n",
        "    bv_pred = y_pred[:, :, od_channel].flatten()\n",
        "    bv_pred_prob = y_pred_prob[:, :, bv_channel].flatten()\n",
        "    bv_gt = y[:, :, od_channel].flatten()\n",
        "    acc_value = accuracy_score(bv_gt > threshold, bv_pred>threshold)\n",
        "    f1_value = f1_score(bv_gt > threshold, bv_pred>threshold, labels=[0, 1], average=\"binary\")\n",
        "    jac_value = jaccard_score(bv_gt > threshold, bv_pred>threshold, labels=[0, 1], average=\"binary\")\n",
        "    recall_value = recall_score(bv_gt > threshold, bv_pred>threshold, labels=[0, 1], average=\"binary\")\n",
        "    recall_computed = np.sum((bv_gt > threshold) & (bv_pred > threshold)) / np.sum(bv_gt > threshold)\n",
        "    precision_value = precision_score(bv_gt > threshold, bv_pred>threshold, labels=[0, 1], average=\"binary\")\n",
        "    auc_score = auc(bv_gt > threshold, bv_pred_prob)\n",
        "    SCORE_OD.append([name, acc_value, f1_value, jac_value, recall_value, precision_value, recall_computed, auc_score])\n",
        "    \n",
        "print(\"\\n\")\n",
        "for SCORE in [SCORE_OD, SCORE_BV]:\n",
        "    if SCORE == SCORE_OD:\n",
        "        print(\"****** OD ******Metrics\")\n",
        "    else:\n",
        "        print(\"****** BV ******Metrics\")\n",
        "    score = [s[1:] for s in SCORE]\n",
        "    score = np.mean(score, axis=0)\n",
        "    print(f\"Threshold:\", threshold)\n",
        "    print(f\"Accuracy: {score[0]:0.5f}\")\n",
        "    print(f\"F1: {score[1]:0.5f} (dice score)\")\n",
        "    print(f\"Jaccard: {score[2]:0.5f}\")\n",
        "    print(f\"Recall: {score[3]:0.5f}\")\n",
        "    print(f\"Precision: {score[4]:0.5f}\")\n",
        "    print(f\"AUC: {score[5]:0.5f}\")\n",
        "\n",
        "    # \"\"\" Saving \"\"\"\n",
        "    if SCORE == SCORE_OD:\n",
        "        df = pd.DataFrame(SCORE, columns=[\"Image\", \"Acc\", \"F1\", \"Jaccard\", \"Recall\", \"Precision\", \"Recall Computed\", \"AUC\"])\n",
        "        df.to_csv(f\"{od_result_dir}/score.csv\")\n",
        "    else:\n",
        "        df = pd.DataFrame(SCORE, columns=[\"Image\", \"Acc\", \"F1\", \"Jaccard\", \"Recall\", \"Precision\", \"Recall Computed\", \"AUC\"])\n",
        "        df.to_csv(f\"{bv_result_dir}/score.csv\")\n",
        "    print(\"\\n\")"
      ],
      "metadata": {
        "colab": {
          "base_uri": "https://localhost:8080/"
        },
        "id": "1KmqhBnt9Q6a",
        "outputId": "7a808993-41c4-408f-c749-b3eb8c3bbc69"
      },
      "execution_count": null,
      "outputs": [
        {
          "output_type": "stream",
          "name": "stdout",
          "text": [
            "files_working/model.h5\n"
          ]
        },
        {
          "output_type": "stream",
          "name": "stderr",
          "text": [
            "\r  0%|          | 0/20 [00:00<?, ?it/s]"
          ]
        },
        {
          "output_type": "stream",
          "name": "stdout",
          "text": [
            "01_test\n",
            "255 1.0\n",
            " saving result files_demo_od_0.25/01_test.png\n",
            " saving result files_demo_bv_0.25/01_test.png\n"
          ]
        },
        {
          "output_type": "stream",
          "name": "stderr",
          "text": [
            "\r  5%|▌         | 1/20 [00:02<00:51,  2.71s/it]"
          ]
        },
        {
          "output_type": "stream",
          "name": "stdout",
          "text": [
            "02_test\n",
            "255 1.0\n",
            " saving result files_demo_od_0.25/02_test.png\n",
            " saving result files_demo_bv_0.25/02_test.png\n"
          ]
        },
        {
          "output_type": "stream",
          "name": "stderr",
          "text": [
            "\r 10%|█         | 2/20 [00:04<00:38,  2.11s/it]"
          ]
        },
        {
          "output_type": "stream",
          "name": "stdout",
          "text": [
            "03_test\n",
            "255 1.0\n",
            " saving result files_demo_od_0.25/03_test.png\n",
            " saving result files_demo_bv_0.25/03_test.png\n"
          ]
        },
        {
          "output_type": "stream",
          "name": "stderr",
          "text": [
            "\r 15%|█▌        | 3/20 [00:05<00:30,  1.79s/it]"
          ]
        },
        {
          "output_type": "stream",
          "name": "stdout",
          "text": [
            "04_test\n",
            "255 1.0\n",
            " saving result files_demo_od_0.25/04_test.png\n",
            " saving result files_demo_bv_0.25/04_test.png\n"
          ]
        },
        {
          "output_type": "stream",
          "name": "stderr",
          "text": [
            "\r 20%|██        | 4/20 [00:07<00:28,  1.75s/it]"
          ]
        },
        {
          "output_type": "stream",
          "name": "stdout",
          "text": [
            "05_test\n",
            "255 1.0\n",
            " saving result files_demo_od_0.25/05_test.png\n",
            " saving result files_demo_bv_0.25/05_test.png\n"
          ]
        },
        {
          "output_type": "stream",
          "name": "stderr",
          "text": [
            "\r 25%|██▌       | 5/20 [00:09<00:24,  1.66s/it]"
          ]
        },
        {
          "output_type": "stream",
          "name": "stdout",
          "text": [
            "06_test\n",
            "255 1.0\n",
            " saving result files_demo_od_0.25/06_test.png\n",
            " saving result files_demo_bv_0.25/06_test.png\n"
          ]
        },
        {
          "output_type": "stream",
          "name": "stderr",
          "text": [
            "\r 30%|███       | 6/20 [00:11<00:24,  1.78s/it]"
          ]
        },
        {
          "output_type": "stream",
          "name": "stdout",
          "text": [
            "07_test\n",
            "255 1.0\n",
            " saving result files_demo_od_0.25/07_test.png\n",
            " saving result files_demo_bv_0.25/07_test.png\n"
          ]
        },
        {
          "output_type": "stream",
          "name": "stderr",
          "text": [
            "\r 35%|███▌      | 7/20 [00:11<00:19,  1.51s/it]"
          ]
        },
        {
          "output_type": "stream",
          "name": "stdout",
          "text": [
            "08_test\n",
            "255 1.0\n",
            " saving result files_demo_od_0.25/08_test.png\n",
            " saving result files_demo_bv_0.25/08_test.png\n"
          ]
        },
        {
          "output_type": "stream",
          "name": "stderr",
          "text": [
            "\r 40%|████      | 8/20 [00:12<00:15,  1.33s/it]"
          ]
        },
        {
          "output_type": "stream",
          "name": "stdout",
          "text": [
            "09_test\n",
            "255 1.0\n",
            " saving result files_demo_od_0.25/09_test.png\n",
            " saving result files_demo_bv_0.25/09_test.png\n"
          ]
        },
        {
          "output_type": "stream",
          "name": "stderr",
          "text": [
            "\r 45%|████▌     | 9/20 [00:13<00:13,  1.22s/it]"
          ]
        },
        {
          "output_type": "stream",
          "name": "stdout",
          "text": [
            "10_test\n",
            "255 1.0\n",
            " saving result files_demo_od_0.25/10_test.png\n",
            " saving result files_demo_bv_0.25/10_test.png\n"
          ]
        },
        {
          "output_type": "stream",
          "name": "stderr",
          "text": [
            "\r 50%|█████     | 10/20 [00:14<00:11,  1.14s/it]"
          ]
        },
        {
          "output_type": "stream",
          "name": "stdout",
          "text": [
            "11_test\n",
            "255 1.0\n",
            " saving result files_demo_od_0.25/11_test.png\n",
            " saving result files_demo_bv_0.25/11_test.png\n"
          ]
        },
        {
          "output_type": "stream",
          "name": "stderr",
          "text": [
            "\r 55%|█████▌    | 11/20 [00:15<00:09,  1.09s/it]"
          ]
        },
        {
          "output_type": "stream",
          "name": "stdout",
          "text": [
            "12_test\n",
            "255 1.0\n",
            " saving result files_demo_od_0.25/12_test.png\n",
            " saving result files_demo_bv_0.25/12_test.png\n"
          ]
        },
        {
          "output_type": "stream",
          "name": "stderr",
          "text": [
            "\r 60%|██████    | 12/20 [00:17<00:09,  1.15s/it]"
          ]
        },
        {
          "output_type": "stream",
          "name": "stdout",
          "text": [
            "13_test\n",
            "255 1.0\n",
            " saving result files_demo_od_0.25/13_test.png\n",
            " saving result files_demo_bv_0.25/13_test.png\n"
          ]
        },
        {
          "output_type": "stream",
          "name": "stderr",
          "text": [
            "\r 65%|██████▌   | 13/20 [00:18<00:07,  1.09s/it]"
          ]
        },
        {
          "output_type": "stream",
          "name": "stdout",
          "text": [
            "14_test\n",
            "255 1.0\n",
            " saving result files_demo_od_0.25/14_test.png\n",
            " saving result files_demo_bv_0.25/14_test.png\n"
          ]
        },
        {
          "output_type": "stream",
          "name": "stderr",
          "text": [
            "\r 70%|███████   | 14/20 [00:19<00:06,  1.06s/it]"
          ]
        },
        {
          "output_type": "stream",
          "name": "stdout",
          "text": [
            "15_test\n",
            "255 1.0\n",
            " saving result files_demo_od_0.25/15_test.png\n",
            " saving result files_demo_bv_0.25/15_test.png\n"
          ]
        },
        {
          "output_type": "stream",
          "name": "stderr",
          "text": [
            "\r 75%|███████▌  | 15/20 [00:19<00:05,  1.02s/it]"
          ]
        },
        {
          "output_type": "stream",
          "name": "stdout",
          "text": [
            "16_test\n",
            "255 1.0\n",
            " saving result files_demo_od_0.25/16_test.png\n",
            " saving result files_demo_bv_0.25/16_test.png\n"
          ]
        },
        {
          "output_type": "stream",
          "name": "stderr",
          "text": [
            "\r 80%|████████  | 16/20 [00:20<00:04,  1.01s/it]"
          ]
        },
        {
          "output_type": "stream",
          "name": "stdout",
          "text": [
            "17_test\n",
            "255 1.0\n",
            " saving result files_demo_od_0.25/17_test.png\n",
            " saving result files_demo_bv_0.25/17_test.png\n"
          ]
        },
        {
          "output_type": "stream",
          "name": "stderr",
          "text": [
            "\r 85%|████████▌ | 17/20 [00:21<00:02,  1.00it/s]"
          ]
        },
        {
          "output_type": "stream",
          "name": "stdout",
          "text": [
            "18_test\n",
            "255 1.0\n",
            " saving result files_demo_od_0.25/18_test.png\n",
            " saving result files_demo_bv_0.25/18_test.png\n"
          ]
        },
        {
          "output_type": "stream",
          "name": "stderr",
          "text": [
            "\r 90%|█████████ | 18/20 [00:22<00:01,  1.02it/s]"
          ]
        },
        {
          "output_type": "stream",
          "name": "stdout",
          "text": [
            "19_test\n",
            "255 1.0\n",
            " saving result files_demo_od_0.25/19_test.png\n",
            " saving result files_demo_bv_0.25/19_test.png\n"
          ]
        },
        {
          "output_type": "stream",
          "name": "stderr",
          "text": [
            "\r 95%|█████████▌| 19/20 [00:23<00:00,  1.02it/s]"
          ]
        },
        {
          "output_type": "stream",
          "name": "stdout",
          "text": [
            "20_test\n",
            "255 1.0\n",
            " saving result files_demo_od_0.25/20_test.png\n",
            " saving result files_demo_bv_0.25/20_test.png\n"
          ]
        },
        {
          "output_type": "stream",
          "name": "stderr",
          "text": [
            "100%|██████████| 20/20 [00:24<00:00,  1.24s/it]"
          ]
        },
        {
          "output_type": "stream",
          "name": "stdout",
          "text": [
            "\n",
            "\n",
            "****** OD ******Metrics\n",
            "Threshold: 0.25\n",
            "Accuracy: 0.99346\n",
            "F1: 0.78380 (dice score)\n",
            "Jaccard: 0.69394\n",
            "Recall: 0.91856\n",
            "Precision: 0.76721\n",
            "AUC: 0.91856\n",
            "\n",
            "\n",
            "****** BV ******Metrics\n",
            "Threshold: 0.25\n",
            "Accuracy: 0.95995\n",
            "F1: 0.79119 (dice score)\n",
            "Jaccard: 0.65626\n",
            "Recall: 0.74803\n",
            "Precision: 0.85047\n",
            "AUC: 0.74803\n",
            "\n",
            "\n"
          ]
        },
        {
          "output_type": "stream",
          "name": "stderr",
          "text": [
            "\n"
          ]
        }
      ]
    },
    {
      "cell_type": "code",
      "source": [
        "from copy import deepcopy\n",
        "\n",
        "data_dir = \"new_data\"\n",
        "od_channel, bv_channel = 0, 1\n",
        "\n",
        "model_dir = \"files_working\"\n",
        "threshold = 0.1\n",
        "\n",
        "od_result_dir = f\"files_demo_od_{threshold}\"\n",
        "bv_result_dir = f\"files_demo_bv_{threshold}\"\n",
        "\n",
        "create_dir(od_result_dir)\n",
        "create_dir(bv_result_dir)\n",
        "\n",
        "\"\"\" Load the model \"\"\"\n",
        "model_file_name = f\"{model_dir}/model.h5\"\n",
        "print(model_file_name)\n",
        "# with CustomObjectScope({'iou': iou, 'dice_coef': dice_coef, 'dice_coef_OD': dice_coef_OD, 'dice_coef_MA': dice_coef_MA, 'dice_loss': dice_loss}):\n",
        "model = tf.keras.models.load_model(model_file_name, compile = False)\n",
        "\n",
        "\"\"\" Load the dataset \"\"\"\n",
        "# dataset_path = os.path.join(data_dir, \"test\")\n",
        "# test_x, test_y = get_filenames_sorted(data_dir + \"/test/image/\", data_dir + \"/test/mask/\" )\n",
        "\n",
        "dataset_path = os.path.join(\"new_data\", \"test\")\n",
        "test_x, test_y = load_data(dataset_path)\n",
        "\n",
        "\"\"\" Make the prediction and calculate the metrics values \"\"\"\n",
        "SCORE_BV, SCORE_OD = [], []\n",
        "for x, y in tqdm(zip(test_x, test_y), total=len(test_x)):\n",
        "    \"\"\" Extracting name \"\"\"\n",
        "    name = x.rsplit(\"/\", 1)[1].rsplit(\".\", 1)[0]\n",
        "    print(name)\n",
        "\n",
        "    \"\"\" Read the image and mask \"\"\"\n",
        "    ori_x, x = read_image(x)\n",
        "    ori_y, y = read_mask(y)\n",
        "\n",
        "    \"\"\" Prediction \"\"\"\n",
        "    y_pred = model.predict(np.expand_dims(x, axis=0))[0]\n",
        "    y_pred_prob = deepcopy(y_pred)\n",
        "    y_pred = y_pred > threshold\n",
        "    y_pred = y_pred.astype(np.float32)\n",
        "\n",
        "    print(np.max(ori_y), np.max(y))\n",
        "\n",
        "    \"\"\" Saving the images \"\"\"\n",
        "    save_image_path_od = f\"{od_result_dir}/{name}.png\"\n",
        "    save_results(ori_x, ori_y, y_pred, save_image_path_od, od_channel)\n",
        "\n",
        "    save_image_path_bv = f\"{bv_result_dir}/{name}.png\"\n",
        "    save_results(ori_x, ori_y, y_pred, save_image_path_bv, bv_channel)\n",
        "\n",
        "\n",
        "#     \"\"\" Calculate the od metrics \"\"\"\n",
        "    bv_pred = y_pred[:, :, bv_channel].flatten()\n",
        "    bv_pred_prob = y_pred_prob[:, :, bv_channel].flatten()\n",
        "    bv_gt = y[:, :, bv_channel].flatten()\n",
        "    acc_value = accuracy_score(bv_gt > threshold, bv_pred>threshold)\n",
        "    f1_value = f1_score(bv_gt > threshold, bv_pred>threshold, labels=[0, 1], average=\"binary\")\n",
        "    jac_value = jaccard_score(bv_gt > threshold, bv_pred>threshold, labels=[0, 1], average=\"binary\")\n",
        "    recall_value = recall_score(bv_gt > threshold, bv_pred>threshold, labels=[0, 1], average=\"binary\")\n",
        "    recall_computed = np.sum((bv_gt > threshold) & (bv_pred > threshold)) / np.sum(bv_gt > threshold)\n",
        "    precision_value = precision_score(bv_gt > threshold, bv_pred>threshold, labels=[0, 1], average=\"binary\")\n",
        "    auc_score = auc(bv_gt > threshold, bv_pred_prob)\n",
        "    SCORE_BV.append([name, acc_value, f1_value, jac_value, recall_value, precision_value, recall_computed, auc_score])\n",
        "\n",
        "#     \"\"\" Calculate the ma metrics \"\"\"\n",
        "    bv_pred = y_pred[:, :, od_channel].flatten()\n",
        "    bv_pred_prob = y_pred_prob[:, :, bv_channel].flatten()\n",
        "    bv_gt = y[:, :, od_channel].flatten()\n",
        "    acc_value = accuracy_score(bv_gt > threshold, bv_pred>threshold)\n",
        "    f1_value = f1_score(bv_gt > threshold, bv_pred>threshold, labels=[0, 1], average=\"binary\")\n",
        "    jac_value = jaccard_score(bv_gt > threshold, bv_pred>threshold, labels=[0, 1], average=\"binary\")\n",
        "    recall_value = recall_score(bv_gt > threshold, bv_pred>threshold, labels=[0, 1], average=\"binary\")\n",
        "    recall_computed = np.sum((bv_gt > threshold) & (bv_pred > threshold)) / np.sum(bv_gt > threshold)\n",
        "    precision_value = precision_score(bv_gt > threshold, bv_pred>threshold, labels=[0, 1], average=\"binary\")\n",
        "    auc_score = auc(bv_gt > threshold, bv_pred_prob)\n",
        "    SCORE_OD.append([name, acc_value, f1_value, jac_value, recall_value, precision_value, recall_computed, auc_score])\n",
        "    \n",
        "print(\"\\n\")\n",
        "for SCORE in [SCORE_OD, SCORE_BV]:\n",
        "    if SCORE == SCORE_OD:\n",
        "        print(\"****** OD ******Metrics\")\n",
        "    else:\n",
        "        print(\"****** BV ******Metrics\")\n",
        "    score = [s[1:] for s in SCORE]\n",
        "    score = np.mean(score, axis=0)\n",
        "    print(f\"Threshold:\", threshold)\n",
        "    print(f\"Accuracy: {score[0]:0.5f}\")\n",
        "    print(f\"F1: {score[1]:0.5f} (dice score)\")\n",
        "    print(f\"Jaccard: {score[2]:0.5f}\")\n",
        "    print(f\"Recall: {score[3]:0.5f}\")\n",
        "    print(f\"Precision: {score[4]:0.5f}\")\n",
        "    print(f\"AUC: {score[5]:0.5f}\")\n",
        "\n",
        "    # \"\"\" Saving \"\"\"\n",
        "    if SCORE == SCORE_OD:\n",
        "        df = pd.DataFrame(SCORE, columns=[\"Image\", \"Acc\", \"F1\", \"Jaccard\", \"Recall\", \"Precision\", \"Recall Computed\", \"AUC\"])\n",
        "        df.to_csv(f\"{od_result_dir}/score.csv\")\n",
        "    else:\n",
        "        df = pd.DataFrame(SCORE, columns=[\"Image\", \"Acc\", \"F1\", \"Jaccard\", \"Recall\", \"Precision\", \"Recall Computed\", \"AUC\"])\n",
        "        df.to_csv(f\"{bv_result_dir}/score.csv\")\n",
        "    print(\"\\n\")"
      ],
      "metadata": {
        "colab": {
          "base_uri": "https://localhost:8080/"
        },
        "id": "Jmf9-n3_-EaL",
        "outputId": "17dbf834-4438-46d6-95df-9af0e208aee7"
      },
      "execution_count": null,
      "outputs": [
        {
          "output_type": "stream",
          "name": "stdout",
          "text": [
            "files_working/model.h5\n"
          ]
        },
        {
          "output_type": "stream",
          "name": "stderr",
          "text": [
            "\r  0%|          | 0/20 [00:00<?, ?it/s]"
          ]
        },
        {
          "output_type": "stream",
          "name": "stdout",
          "text": [
            "01_test\n",
            "255 1.0\n",
            " saving result files_demo_od_0.1/01_test.png\n",
            " saving result files_demo_bv_0.1/01_test.png\n"
          ]
        },
        {
          "output_type": "stream",
          "name": "stderr",
          "text": [
            "\r  5%|▌         | 1/20 [00:03<01:00,  3.17s/it]"
          ]
        },
        {
          "output_type": "stream",
          "name": "stdout",
          "text": [
            "02_test\n",
            "255 1.0\n",
            " saving result files_demo_od_0.1/02_test.png\n",
            " saving result files_demo_bv_0.1/02_test.png\n"
          ]
        },
        {
          "output_type": "stream",
          "name": "stderr",
          "text": [
            "\r 10%|█         | 2/20 [00:04<00:36,  2.04s/it]"
          ]
        },
        {
          "output_type": "stream",
          "name": "stdout",
          "text": [
            "03_test\n",
            "255 1.0\n",
            " saving result files_demo_od_0.1/03_test.png\n",
            " saving result files_demo_bv_0.1/03_test.png\n"
          ]
        },
        {
          "output_type": "stream",
          "name": "stderr",
          "text": [
            "\r 15%|█▌        | 3/20 [00:05<00:29,  1.73s/it]"
          ]
        },
        {
          "output_type": "stream",
          "name": "stdout",
          "text": [
            "04_test\n",
            "255 1.0\n",
            " saving result files_demo_od_0.1/04_test.png\n",
            " saving result files_demo_bv_0.1/04_test.png\n"
          ]
        },
        {
          "output_type": "stream",
          "name": "stderr",
          "text": [
            "\r 20%|██        | 4/20 [00:07<00:28,  1.75s/it]"
          ]
        },
        {
          "output_type": "stream",
          "name": "stdout",
          "text": [
            "05_test\n",
            "255 1.0\n",
            " saving result files_demo_od_0.1/05_test.png\n",
            " saving result files_demo_bv_0.1/05_test.png\n"
          ]
        },
        {
          "output_type": "stream",
          "name": "stderr",
          "text": [
            "\r 25%|██▌       | 5/20 [00:09<00:26,  1.77s/it]"
          ]
        },
        {
          "output_type": "stream",
          "name": "stdout",
          "text": [
            "06_test\n",
            "255 1.0\n",
            " saving result files_demo_od_0.1/06_test.png\n",
            " saving result files_demo_bv_0.1/06_test.png\n"
          ]
        },
        {
          "output_type": "stream",
          "name": "stderr",
          "text": [
            "\r 30%|███       | 6/20 [00:11<00:24,  1.75s/it]"
          ]
        },
        {
          "output_type": "stream",
          "name": "stdout",
          "text": [
            "07_test\n",
            "255 1.0\n",
            " saving result files_demo_od_0.1/07_test.png\n",
            " saving result files_demo_bv_0.1/07_test.png\n"
          ]
        },
        {
          "output_type": "stream",
          "name": "stderr",
          "text": [
            "\r 35%|███▌      | 7/20 [00:12<00:21,  1.63s/it]"
          ]
        },
        {
          "output_type": "stream",
          "name": "stdout",
          "text": [
            "08_test\n",
            "255 1.0\n",
            " saving result files_demo_od_0.1/08_test.png\n",
            " saving result files_demo_bv_0.1/08_test.png\n"
          ]
        },
        {
          "output_type": "stream",
          "name": "stderr",
          "text": [
            "\r 40%|████      | 8/20 [00:13<00:18,  1.56s/it]"
          ]
        },
        {
          "output_type": "stream",
          "name": "stdout",
          "text": [
            "09_test\n",
            "255 1.0\n",
            " saving result files_demo_od_0.1/09_test.png\n",
            " saving result files_demo_bv_0.1/09_test.png\n"
          ]
        },
        {
          "output_type": "stream",
          "name": "stderr",
          "text": [
            "\r 45%|████▌     | 9/20 [00:15<00:16,  1.50s/it]"
          ]
        },
        {
          "output_type": "stream",
          "name": "stdout",
          "text": [
            "10_test\n",
            "255 1.0\n",
            " saving result files_demo_od_0.1/10_test.png\n",
            " saving result files_demo_bv_0.1/10_test.png\n"
          ]
        },
        {
          "output_type": "stream",
          "name": "stderr",
          "text": [
            "\r 50%|█████     | 10/20 [00:16<00:13,  1.33s/it]"
          ]
        },
        {
          "output_type": "stream",
          "name": "stdout",
          "text": [
            "11_test\n",
            "255 1.0\n",
            " saving result files_demo_od_0.1/11_test.png\n",
            " saving result files_demo_bv_0.1/11_test.png\n"
          ]
        },
        {
          "output_type": "stream",
          "name": "stderr",
          "text": [
            "\r 55%|█████▌    | 11/20 [00:17<00:10,  1.22s/it]"
          ]
        },
        {
          "output_type": "stream",
          "name": "stdout",
          "text": [
            "12_test\n",
            "255 1.0\n",
            " saving result files_demo_od_0.1/12_test.png\n",
            " saving result files_demo_bv_0.1/12_test.png\n"
          ]
        },
        {
          "output_type": "stream",
          "name": "stderr",
          "text": [
            "\r 60%|██████    | 12/20 [00:18<00:09,  1.13s/it]"
          ]
        },
        {
          "output_type": "stream",
          "name": "stdout",
          "text": [
            "13_test\n",
            "255 1.0\n",
            " saving result files_demo_od_0.1/13_test.png\n",
            " saving result files_demo_bv_0.1/13_test.png\n"
          ]
        },
        {
          "output_type": "stream",
          "name": "stderr",
          "text": [
            "\r 65%|██████▌   | 13/20 [00:19<00:07,  1.09s/it]"
          ]
        },
        {
          "output_type": "stream",
          "name": "stdout",
          "text": [
            "14_test\n",
            "255 1.0\n",
            " saving result files_demo_od_0.1/14_test.png\n",
            " saving result files_demo_bv_0.1/14_test.png\n"
          ]
        },
        {
          "output_type": "stream",
          "name": "stderr",
          "text": [
            "\r 70%|███████   | 14/20 [00:20<00:06,  1.05s/it]"
          ]
        },
        {
          "output_type": "stream",
          "name": "stdout",
          "text": [
            "15_test\n",
            "255 1.0\n",
            " saving result files_demo_od_0.1/15_test.png\n",
            " saving result files_demo_bv_0.1/15_test.png\n"
          ]
        },
        {
          "output_type": "stream",
          "name": "stderr",
          "text": [
            "\r 75%|███████▌  | 15/20 [00:20<00:05,  1.02s/it]"
          ]
        },
        {
          "output_type": "stream",
          "name": "stdout",
          "text": [
            "16_test\n",
            "255 1.0\n",
            " saving result files_demo_od_0.1/16_test.png\n",
            " saving result files_demo_bv_0.1/16_test.png\n"
          ]
        },
        {
          "output_type": "stream",
          "name": "stderr",
          "text": [
            "\r 80%|████████  | 16/20 [00:21<00:04,  1.00s/it]"
          ]
        },
        {
          "output_type": "stream",
          "name": "stdout",
          "text": [
            "17_test\n",
            "255 1.0\n",
            " saving result files_demo_od_0.1/17_test.png\n",
            " saving result files_demo_bv_0.1/17_test.png\n"
          ]
        },
        {
          "output_type": "stream",
          "name": "stderr",
          "text": [
            "\r 85%|████████▌ | 17/20 [00:22<00:02,  1.02it/s]"
          ]
        },
        {
          "output_type": "stream",
          "name": "stdout",
          "text": [
            "18_test\n",
            "255 1.0\n",
            " saving result files_demo_od_0.1/18_test.png\n",
            " saving result files_demo_bv_0.1/18_test.png\n"
          ]
        },
        {
          "output_type": "stream",
          "name": "stderr",
          "text": [
            "\r 90%|█████████ | 18/20 [00:23<00:01,  1.03it/s]"
          ]
        },
        {
          "output_type": "stream",
          "name": "stdout",
          "text": [
            "19_test\n",
            "255 1.0\n",
            " saving result files_demo_od_0.1/19_test.png\n",
            " saving result files_demo_bv_0.1/19_test.png\n"
          ]
        },
        {
          "output_type": "stream",
          "name": "stderr",
          "text": [
            "\r 95%|█████████▌| 19/20 [00:24<00:00,  1.03it/s]"
          ]
        },
        {
          "output_type": "stream",
          "name": "stdout",
          "text": [
            "20_test\n",
            "255 1.0\n",
            " saving result files_demo_od_0.1/20_test.png\n",
            " saving result files_demo_bv_0.1/20_test.png\n"
          ]
        },
        {
          "output_type": "stream",
          "name": "stderr",
          "text": [
            "100%|██████████| 20/20 [00:26<00:00,  1.30s/it]"
          ]
        },
        {
          "output_type": "stream",
          "name": "stdout",
          "text": [
            "\n",
            "\n",
            "****** OD ******Metrics\n",
            "Threshold: 0.1\n",
            "Accuracy: 0.99330\n",
            "F1: 0.78624 (dice score)\n",
            "Jaccard: 0.69854\n",
            "Recall: 0.93322\n",
            "Precision: 0.75827\n",
            "AUC: 0.93322\n",
            "\n",
            "\n",
            "****** BV ******Metrics\n",
            "Threshold: 0.1\n",
            "Accuracy: 0.95686\n",
            "F1: 0.79765 (dice score)\n",
            "Jaccard: 0.66500\n",
            "Recall: 0.75804\n",
            "Precision: 0.85153\n",
            "AUC: 0.75804\n",
            "\n",
            "\n"
          ]
        },
        {
          "output_type": "stream",
          "name": "stderr",
          "text": [
            "\n"
          ]
        }
      ]
    },
    {
      "cell_type": "code",
      "source": [
        "from copy import deepcopy\n",
        "\n",
        "data_dir = \"new_data\"\n",
        "od_channel, bv_channel = 0, 1\n",
        "\n",
        "model_dir = \"files_working\"\n",
        "threshold = 0.15\n",
        "\n",
        "od_result_dir = f\"files_demo_od_{threshold}\"\n",
        "bv_result_dir = f\"files_demo_bv_{threshold}\"\n",
        "\n",
        "create_dir(od_result_dir)\n",
        "create_dir(bv_result_dir)\n",
        "\n",
        "\"\"\" Load the model \"\"\"\n",
        "model_file_name = f\"{model_dir}/model.h5\"\n",
        "print(model_file_name)\n",
        "# with CustomObjectScope({'iou': iou, 'dice_coef': dice_coef, 'dice_coef_OD': dice_coef_OD, 'dice_coef_MA': dice_coef_MA, 'dice_loss': dice_loss}):\n",
        "model = tf.keras.models.load_model(model_file_name, compile = False)\n",
        "\n",
        "\"\"\" Load the dataset \"\"\"\n",
        "# dataset_path = os.path.join(data_dir, \"test\")\n",
        "# test_x, test_y = get_filenames_sorted(data_dir + \"/test/image/\", data_dir + \"/test/mask/\" )\n",
        "\n",
        "dataset_path = os.path.join(\"new_data\", \"test\")\n",
        "test_x, test_y = load_data(dataset_path)\n",
        "\n",
        "\"\"\" Make the prediction and calculate the metrics values \"\"\"\n",
        "SCORE_BV, SCORE_OD = [], []\n",
        "for x, y in tqdm(zip(test_x, test_y), total=len(test_x)):\n",
        "    \"\"\" Extracting name \"\"\"\n",
        "    name = x.rsplit(\"/\", 1)[1].rsplit(\".\", 1)[0]\n",
        "    print(name)\n",
        "\n",
        "    \"\"\" Read the image and mask \"\"\"\n",
        "    ori_x, x = read_image(x)\n",
        "    ori_y, y = read_mask(y)\n",
        "\n",
        "    \"\"\" Prediction \"\"\"\n",
        "    y_pred = model.predict(np.expand_dims(x, axis=0))[0]\n",
        "    y_pred_prob = deepcopy(y_pred)\n",
        "    y_pred = y_pred > threshold\n",
        "    y_pred = y_pred.astype(np.float32)\n",
        "\n",
        "    print(np.max(ori_y), np.max(y))\n",
        "\n",
        "    \"\"\" Saving the images \"\"\"\n",
        "    save_image_path_od = f\"{od_result_dir}/{name}.png\"\n",
        "    save_results(ori_x, ori_y, y_pred, save_image_path_od, od_channel)\n",
        "\n",
        "    save_image_path_bv = f\"{bv_result_dir}/{name}.png\"\n",
        "    save_results(ori_x, ori_y, y_pred, save_image_path_bv, bv_channel)\n",
        "\n",
        "\n",
        "#     \"\"\" Calculate the od metrics \"\"\"\n",
        "    bv_pred = y_pred[:, :, bv_channel].flatten()\n",
        "    bv_pred_prob = y_pred_prob[:, :, bv_channel].flatten()\n",
        "    bv_gt = y[:, :, bv_channel].flatten()\n",
        "    acc_value = accuracy_score(bv_gt > threshold, bv_pred>threshold)\n",
        "    f1_value = f1_score(bv_gt > threshold, bv_pred>threshold, labels=[0, 1], average=\"binary\")\n",
        "    jac_value = jaccard_score(bv_gt > threshold, bv_pred>threshold, labels=[0, 1], average=\"binary\")\n",
        "    recall_value = recall_score(bv_gt > threshold, bv_pred>threshold, labels=[0, 1], average=\"binary\")\n",
        "    recall_computed = np.sum((bv_gt > threshold) & (bv_pred > threshold)) / np.sum(bv_gt > threshold)\n",
        "    precision_value = precision_score(bv_gt > threshold, bv_pred>threshold, labels=[0, 1], average=\"binary\")\n",
        "    auc_score = auc(bv_gt > threshold, bv_pred_prob)\n",
        "    SCORE_BV.append([name, acc_value, f1_value, jac_value, recall_value, precision_value, recall_computed, auc_score])\n",
        "\n",
        "#     \"\"\" Calculate the ma metrics \"\"\"\n",
        "    bv_pred = y_pred[:, :, od_channel].flatten()\n",
        "    bv_pred_prob = y_pred_prob[:, :, bv_channel].flatten()\n",
        "    bv_gt = y[:, :, od_channel].flatten()\n",
        "    acc_value = accuracy_score(bv_gt > threshold, bv_pred>threshold)\n",
        "    f1_value = f1_score(bv_gt > threshold, bv_pred>threshold, labels=[0, 1], average=\"binary\")\n",
        "    jac_value = jaccard_score(bv_gt > threshold, bv_pred>threshold, labels=[0, 1], average=\"binary\")\n",
        "    recall_value = recall_score(bv_gt > threshold, bv_pred>threshold, labels=[0, 1], average=\"binary\")\n",
        "    recall_computed = np.sum((bv_gt > threshold) & (bv_pred > threshold)) / np.sum(bv_gt > threshold)\n",
        "    precision_value = precision_score(bv_gt > threshold, bv_pred>threshold, labels=[0, 1], average=\"binary\")\n",
        "    auc_score = auc(bv_gt > threshold, bv_pred_prob)\n",
        "    SCORE_OD.append([name, acc_value, f1_value, jac_value, recall_value, precision_value, recall_computed, auc_score])\n",
        "    \n",
        "print(\"\\n\")\n",
        "for SCORE in [SCORE_OD, SCORE_BV]:\n",
        "    if SCORE == SCORE_OD:\n",
        "        print(\"****** OD ******Metrics\")\n",
        "    else:\n",
        "        print(\"****** BV ******Metrics\")\n",
        "    score = [s[1:] for s in SCORE]\n",
        "    score = np.mean(score, axis=0)\n",
        "    print(f\"Threshold:\", threshold)\n",
        "    print(f\"Accuracy: {score[0]:0.5f}\")\n",
        "    print(f\"F1: {score[1]:0.5f} (dice score)\")\n",
        "    print(f\"Jaccard: {score[2]:0.5f}\")\n",
        "    print(f\"Recall: {score[3]:0.5f}\")\n",
        "    print(f\"Precision: {score[4]:0.5f}\")\n",
        "    print(f\"AUC: {score[5]:0.5f}\")\n",
        "\n",
        "    # \"\"\" Saving \"\"\"\n",
        "    if SCORE == SCORE_OD:\n",
        "        df = pd.DataFrame(SCORE, columns=[\"Image\", \"Acc\", \"F1\", \"Jaccard\", \"Recall\", \"Precision\", \"Recall Computed\", \"AUC\"])\n",
        "        df.to_csv(f\"{od_result_dir}/score.csv\")\n",
        "    else:\n",
        "        df = pd.DataFrame(SCORE, columns=[\"Image\", \"Acc\", \"F1\", \"Jaccard\", \"Recall\", \"Precision\", \"Recall Computed\", \"AUC\"])\n",
        "        df.to_csv(f\"{bv_result_dir}/score.csv\")\n",
        "    print(\"\\n\")"
      ],
      "metadata": {
        "colab": {
          "base_uri": "https://localhost:8080/"
        },
        "id": "FiB57P4D-GPK",
        "outputId": "d864bc3e-0e1c-40c7-bff3-d15d8418c8e4"
      },
      "execution_count": null,
      "outputs": [
        {
          "output_type": "stream",
          "name": "stdout",
          "text": [
            "files_working/model.h5\n"
          ]
        },
        {
          "output_type": "stream",
          "name": "stderr",
          "text": [
            "\r  0%|          | 0/20 [00:00<?, ?it/s]"
          ]
        },
        {
          "output_type": "stream",
          "name": "stdout",
          "text": [
            "01_test\n",
            "255 1.0\n",
            " saving result files_demo_od_0.15/01_test.png\n",
            " saving result files_demo_bv_0.15/01_test.png\n"
          ]
        },
        {
          "output_type": "stream",
          "name": "stderr",
          "text": [
            "\r  5%|▌         | 1/20 [00:01<00:32,  1.71s/it]"
          ]
        },
        {
          "output_type": "stream",
          "name": "stdout",
          "text": [
            "02_test\n",
            "255 1.0\n",
            " saving result files_demo_od_0.15/02_test.png\n",
            " saving result files_demo_bv_0.15/02_test.png\n"
          ]
        },
        {
          "output_type": "stream",
          "name": "stderr",
          "text": [
            "\r 10%|█         | 2/20 [00:02<00:22,  1.27s/it]"
          ]
        },
        {
          "output_type": "stream",
          "name": "stdout",
          "text": [
            "03_test\n",
            "255 1.0\n",
            " saving result files_demo_od_0.15/03_test.png\n",
            " saving result files_demo_bv_0.15/03_test.png\n"
          ]
        },
        {
          "output_type": "stream",
          "name": "stderr",
          "text": [
            "\r 15%|█▌        | 3/20 [00:03<00:19,  1.13s/it]"
          ]
        },
        {
          "output_type": "stream",
          "name": "stdout",
          "text": [
            "04_test\n",
            "255 1.0\n",
            " saving result files_demo_od_0.15/04_test.png\n",
            " saving result files_demo_bv_0.15/04_test.png\n"
          ]
        },
        {
          "output_type": "stream",
          "name": "stderr",
          "text": [
            "\r 20%|██        | 4/20 [00:04<00:16,  1.06s/it]"
          ]
        },
        {
          "output_type": "stream",
          "name": "stdout",
          "text": [
            "05_test\n",
            "255 1.0\n",
            " saving result files_demo_od_0.15/05_test.png\n",
            " saving result files_demo_bv_0.15/05_test.png\n"
          ]
        },
        {
          "output_type": "stream",
          "name": "stderr",
          "text": [
            "\r 25%|██▌       | 5/20 [00:05<00:15,  1.02s/it]"
          ]
        },
        {
          "output_type": "stream",
          "name": "stdout",
          "text": [
            "06_test\n",
            "255 1.0\n",
            " saving result files_demo_od_0.15/06_test.png\n",
            " saving result files_demo_bv_0.15/06_test.png\n"
          ]
        },
        {
          "output_type": "stream",
          "name": "stderr",
          "text": [
            "\r 30%|███       | 6/20 [00:06<00:14,  1.00s/it]"
          ]
        },
        {
          "output_type": "stream",
          "name": "stdout",
          "text": [
            "07_test\n",
            "255 1.0\n",
            " saving result files_demo_od_0.15/07_test.png\n",
            " saving result files_demo_bv_0.15/07_test.png\n"
          ]
        },
        {
          "output_type": "stream",
          "name": "stderr",
          "text": [
            "\r 35%|███▌      | 7/20 [00:07<00:12,  1.01it/s]"
          ]
        },
        {
          "output_type": "stream",
          "name": "stdout",
          "text": [
            "08_test\n",
            "255 1.0\n",
            " saving result files_demo_od_0.15/08_test.png\n",
            " saving result files_demo_bv_0.15/08_test.png\n"
          ]
        },
        {
          "output_type": "stream",
          "name": "stderr",
          "text": [
            "\r 40%|████      | 8/20 [00:08<00:11,  1.01it/s]"
          ]
        },
        {
          "output_type": "stream",
          "name": "stdout",
          "text": [
            "09_test\n",
            "255 1.0\n",
            " saving result files_demo_od_0.15/09_test.png\n",
            " saving result files_demo_bv_0.15/09_test.png\n"
          ]
        },
        {
          "output_type": "stream",
          "name": "stderr",
          "text": [
            "\r 45%|████▌     | 9/20 [00:09<00:10,  1.02it/s]"
          ]
        },
        {
          "output_type": "stream",
          "name": "stdout",
          "text": [
            "10_test\n",
            "255 1.0\n",
            " saving result files_demo_od_0.15/10_test.png\n",
            " saving result files_demo_bv_0.15/10_test.png\n"
          ]
        },
        {
          "output_type": "stream",
          "name": "stderr",
          "text": [
            "\r 50%|█████     | 10/20 [00:10<00:10,  1.08s/it]"
          ]
        },
        {
          "output_type": "stream",
          "name": "stdout",
          "text": [
            "11_test\n",
            "255 1.0\n",
            " saving result files_demo_od_0.15/11_test.png\n",
            " saving result files_demo_bv_0.15/11_test.png\n"
          ]
        },
        {
          "output_type": "stream",
          "name": "stderr",
          "text": [
            "\r 55%|█████▌    | 11/20 [00:11<00:09,  1.05s/it]"
          ]
        },
        {
          "output_type": "stream",
          "name": "stdout",
          "text": [
            "12_test\n",
            "255 1.0\n",
            " saving result files_demo_od_0.15/12_test.png\n",
            " saving result files_demo_bv_0.15/12_test.png\n"
          ]
        },
        {
          "output_type": "stream",
          "name": "stderr",
          "text": [
            "\r 60%|██████    | 12/20 [00:12<00:08,  1.03s/it]"
          ]
        },
        {
          "output_type": "stream",
          "name": "stdout",
          "text": [
            "13_test\n",
            "255 1.0\n",
            " saving result files_demo_od_0.15/13_test.png\n",
            " saving result files_demo_bv_0.15/13_test.png\n"
          ]
        },
        {
          "output_type": "stream",
          "name": "stderr",
          "text": [
            "\r 65%|██████▌   | 13/20 [00:13<00:07,  1.01s/it]"
          ]
        },
        {
          "output_type": "stream",
          "name": "stdout",
          "text": [
            "14_test\n",
            "255 1.0\n",
            " saving result files_demo_od_0.15/14_test.png\n",
            " saving result files_demo_bv_0.15/14_test.png\n"
          ]
        },
        {
          "output_type": "stream",
          "name": "stderr",
          "text": [
            "\r 70%|███████   | 14/20 [00:14<00:05,  1.00it/s]"
          ]
        },
        {
          "output_type": "stream",
          "name": "stdout",
          "text": [
            "15_test\n",
            "255 1.0\n",
            " saving result files_demo_od_0.15/15_test.png\n",
            " saving result files_demo_bv_0.15/15_test.png\n"
          ]
        },
        {
          "output_type": "stream",
          "name": "stderr",
          "text": [
            "\r 75%|███████▌  | 15/20 [00:15<00:04,  1.01it/s]"
          ]
        },
        {
          "output_type": "stream",
          "name": "stdout",
          "text": [
            "16_test\n",
            "255 1.0\n",
            " saving result files_demo_od_0.15/16_test.png\n",
            " saving result files_demo_bv_0.15/16_test.png\n"
          ]
        },
        {
          "output_type": "stream",
          "name": "stderr",
          "text": [
            "\r 80%|████████  | 16/20 [00:16<00:04,  1.08s/it]"
          ]
        },
        {
          "output_type": "stream",
          "name": "stdout",
          "text": [
            "17_test\n",
            "255 1.0\n",
            " saving result files_demo_od_0.15/17_test.png\n",
            " saving result files_demo_bv_0.15/17_test.png\n"
          ]
        },
        {
          "output_type": "stream",
          "name": "stderr",
          "text": [
            "\r 85%|████████▌ | 17/20 [00:17<00:03,  1.04s/it]"
          ]
        },
        {
          "output_type": "stream",
          "name": "stdout",
          "text": [
            "18_test\n",
            "255 1.0\n",
            " saving result files_demo_od_0.15/18_test.png\n",
            " saving result files_demo_bv_0.15/18_test.png\n"
          ]
        },
        {
          "output_type": "stream",
          "name": "stderr",
          "text": [
            "\r 90%|█████████ | 18/20 [00:18<00:02,  1.02s/it]"
          ]
        },
        {
          "output_type": "stream",
          "name": "stdout",
          "text": [
            "19_test\n",
            "255 1.0\n",
            " saving result files_demo_od_0.15/19_test.png\n",
            " saving result files_demo_bv_0.15/19_test.png\n"
          ]
        },
        {
          "output_type": "stream",
          "name": "stderr",
          "text": [
            "\r 95%|█████████▌| 19/20 [00:19<00:01,  1.00s/it]"
          ]
        },
        {
          "output_type": "stream",
          "name": "stdout",
          "text": [
            "20_test\n",
            "255 1.0\n",
            " saving result files_demo_od_0.15/20_test.png\n",
            " saving result files_demo_bv_0.15/20_test.png\n"
          ]
        },
        {
          "output_type": "stream",
          "name": "stderr",
          "text": [
            "100%|██████████| 20/20 [00:20<00:00,  1.04s/it]"
          ]
        },
        {
          "output_type": "stream",
          "name": "stdout",
          "text": [
            "\n",
            "\n",
            "****** OD ******Metrics\n",
            "Threshold: 0.15\n",
            "Accuracy: 0.99338\n",
            "F1: 0.78535 (dice score)\n",
            "Jaccard: 0.69678\n",
            "Recall: 0.92697\n",
            "Precision: 0.76224\n",
            "AUC: 0.92697\n",
            "\n",
            "\n",
            "****** BV ******Metrics\n",
            "Threshold: 0.15\n",
            "Accuracy: 0.95813\n",
            "F1: 0.79497 (dice score)\n",
            "Jaccard: 0.66139\n",
            "Recall: 0.75139\n",
            "Precision: 0.85428\n",
            "AUC: 0.75139\n",
            "\n",
            "\n"
          ]
        },
        {
          "output_type": "stream",
          "name": "stderr",
          "text": [
            "\n"
          ]
        }
      ]
    }
  ]
}