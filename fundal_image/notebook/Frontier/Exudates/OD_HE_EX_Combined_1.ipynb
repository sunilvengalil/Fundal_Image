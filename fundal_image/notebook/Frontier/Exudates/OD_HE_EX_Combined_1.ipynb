{
  "nbformat": 4,
  "nbformat_minor": 0,
  "metadata": {
    "colab": {
      "name": "OD_HE_EX_Combined_1.ipynb",
      "provenance": [],
      "collapsed_sections": []
    },
    "kernelspec": {
      "name": "python3",
      "display_name": "Python 3"
    },
    "language_info": {
      "name": "python"
    },
    "accelerator": "GPU"
  },
  "cells": [
    {
      "cell_type": "markdown",
      "metadata": {
        "id": "ZIUz94YO5Y0x"
      },
      "source": [
        "### Import the required libraries and modules:"
      ]
    },
    {
      "cell_type": "code",
      "metadata": {
        "id": "RN5vXWIK27Lr"
      },
      "source": [
        "import tensorflow as tf\n",
        "from tensorflow.keras.layers import Conv2D, BatchNormalization, Activation, MaxPool2D, Conv2DTranspose, Concatenate, Input\n",
        "from tensorflow.keras.models import Model\n",
        "from tensorflow.keras import backend as K\n",
        "import os\n",
        "os.environ[\"TF_CPP_MIN_LOG_LEVEL\"] = \"2\"\n",
        "import numpy as np\n",
        "import cv2\n",
        "from glob import glob\n",
        "from sklearn.utils import shuffle\n",
        "import tensorflow as tf\n",
        "from tensorflow.keras.callbacks import ModelCheckpoint, CSVLogger, ReduceLROnPlateau, EarlyStopping, TensorBoard\n",
        "from tensorflow.keras.optimizers import Adam\n",
        "from tensorflow.keras.metrics import Recall, Precision\n",
        "import numpy as np"
      ],
      "execution_count": null,
      "outputs": []
    },
    {
      "cell_type": "markdown",
      "metadata": {
        "id": "MQcINXFE59yv"
      },
      "source": [
        "### Unzip the data:"
      ]
    },
    {
      "cell_type": "code",
      "metadata": {
        "id": "rx3CS_MbV06K",
        "colab": {
          "base_uri": "https://localhost:8080/"
        },
        "outputId": "a2b2ce82-2073-4900-ac14-f0830d61f57a"
      },
      "source": [
        "from google.colab import drive\n",
        "drive.mount(\"/content/gdrive\", force_remount=True)\n",
        "%cd /content/gdrive/MyDrive/OD_HE_EX"
      ],
      "execution_count": null,
      "outputs": [
        {
          "output_type": "stream",
          "name": "stdout",
          "text": [
            "Mounted at /content/gdrive\n",
            "/content/gdrive/MyDrive/OD_HE_EX\n"
          ]
        }
      ]
    },
    {
      "cell_type": "code",
      "metadata": {
        "id": "mA5voGSj58wH"
      },
      "source": [
        "# !unzip new_data_augment.zip"
      ],
      "execution_count": null,
      "outputs": []
    },
    {
      "cell_type": "markdown",
      "metadata": {
        "id": "_WctlpFt6hx4"
      },
      "source": [
        "### Construct the Model:"
      ]
    },
    {
      "cell_type": "code",
      "metadata": {
        "colab": {
          "base_uri": "https://localhost:8080/"
        },
        "id": "epeNiZGQ5gSW",
        "outputId": "4094abff-3818-4e28-ab50-e1fa4e4e4157"
      },
      "source": [
        "def conv_block(inputs, num_filters):\n",
        "    x = Conv2D(num_filters, 3, padding=\"same\")(inputs)\n",
        "    x = BatchNormalization()(x)\n",
        "    x = Activation(\"relu\")(x)\n",
        "\n",
        "    x = Conv2D(num_filters, 3, padding=\"same\")(x)\n",
        "    x = BatchNormalization()(x)\n",
        "    x = Activation(\"relu\")(x)\n",
        "\n",
        "    return x\n",
        "\n",
        "def encoder_block(inputs, num_filters):\n",
        "    x = conv_block(inputs, num_filters)\n",
        "    p = MaxPool2D((2, 2))(x)\n",
        "    return x, p\n",
        "\n",
        "def decoder_block(inputs, skip_features, num_filters):\n",
        "    x = Conv2DTranspose(num_filters, (2, 2), strides=2, padding=\"same\")(inputs)\n",
        "    x = Concatenate()([x, skip_features])\n",
        "    x = conv_block(x, num_filters)\n",
        "    return x\n",
        "\n",
        "def build_unet(input_shape):\n",
        "    inputs = Input(input_shape)\n",
        "\n",
        "    s1, p1 = encoder_block(inputs, 64)\n",
        "    s2, p2 = encoder_block(p1, 128)\n",
        "    s3, p3 = encoder_block(p2, 256)\n",
        "    s4, p4 = encoder_block(p3, 512)\n",
        "\n",
        "    b1 = conv_block(p4, 1024)\n",
        "\n",
        "    d1 = decoder_block(b1, s4, 512)\n",
        "    d2 = decoder_block(d1, s3, 256)\n",
        "    d3 = decoder_block(d2, s2, 128)\n",
        "    d4 = decoder_block(d3, s1, 64)\n",
        "\n",
        "    outputs = Conv2D(3, 1, padding=\"same\", activation=\"sigmoid\")(d4)\n",
        "\n",
        "    model = Model(inputs, outputs, name=\"UNET\")\n",
        "    return model\n",
        "\n",
        "input_shape = (512, 768, 3)\n",
        "model = build_unet(input_shape)\n",
        "model.summary()"
      ],
      "execution_count": null,
      "outputs": [
        {
          "output_type": "stream",
          "name": "stdout",
          "text": [
            "Model: \"UNET\"\n",
            "__________________________________________________________________________________________________\n",
            "Layer (type)                    Output Shape         Param #     Connected to                     \n",
            "==================================================================================================\n",
            "input_1 (InputLayer)            [(None, 512, 768, 3) 0                                            \n",
            "__________________________________________________________________________________________________\n",
            "conv2d (Conv2D)                 (None, 512, 768, 64) 1792        input_1[0][0]                    \n",
            "__________________________________________________________________________________________________\n",
            "batch_normalization (BatchNorma (None, 512, 768, 64) 256         conv2d[0][0]                     \n",
            "__________________________________________________________________________________________________\n",
            "activation (Activation)         (None, 512, 768, 64) 0           batch_normalization[0][0]        \n",
            "__________________________________________________________________________________________________\n",
            "conv2d_1 (Conv2D)               (None, 512, 768, 64) 36928       activation[0][0]                 \n",
            "__________________________________________________________________________________________________\n",
            "batch_normalization_1 (BatchNor (None, 512, 768, 64) 256         conv2d_1[0][0]                   \n",
            "__________________________________________________________________________________________________\n",
            "activation_1 (Activation)       (None, 512, 768, 64) 0           batch_normalization_1[0][0]      \n",
            "__________________________________________________________________________________________________\n",
            "max_pooling2d (MaxPooling2D)    (None, 256, 384, 64) 0           activation_1[0][0]               \n",
            "__________________________________________________________________________________________________\n",
            "conv2d_2 (Conv2D)               (None, 256, 384, 128 73856       max_pooling2d[0][0]              \n",
            "__________________________________________________________________________________________________\n",
            "batch_normalization_2 (BatchNor (None, 256, 384, 128 512         conv2d_2[0][0]                   \n",
            "__________________________________________________________________________________________________\n",
            "activation_2 (Activation)       (None, 256, 384, 128 0           batch_normalization_2[0][0]      \n",
            "__________________________________________________________________________________________________\n",
            "conv2d_3 (Conv2D)               (None, 256, 384, 128 147584      activation_2[0][0]               \n",
            "__________________________________________________________________________________________________\n",
            "batch_normalization_3 (BatchNor (None, 256, 384, 128 512         conv2d_3[0][0]                   \n",
            "__________________________________________________________________________________________________\n",
            "activation_3 (Activation)       (None, 256, 384, 128 0           batch_normalization_3[0][0]      \n",
            "__________________________________________________________________________________________________\n",
            "max_pooling2d_1 (MaxPooling2D)  (None, 128, 192, 128 0           activation_3[0][0]               \n",
            "__________________________________________________________________________________________________\n",
            "conv2d_4 (Conv2D)               (None, 128, 192, 256 295168      max_pooling2d_1[0][0]            \n",
            "__________________________________________________________________________________________________\n",
            "batch_normalization_4 (BatchNor (None, 128, 192, 256 1024        conv2d_4[0][0]                   \n",
            "__________________________________________________________________________________________________\n",
            "activation_4 (Activation)       (None, 128, 192, 256 0           batch_normalization_4[0][0]      \n",
            "__________________________________________________________________________________________________\n",
            "conv2d_5 (Conv2D)               (None, 128, 192, 256 590080      activation_4[0][0]               \n",
            "__________________________________________________________________________________________________\n",
            "batch_normalization_5 (BatchNor (None, 128, 192, 256 1024        conv2d_5[0][0]                   \n",
            "__________________________________________________________________________________________________\n",
            "activation_5 (Activation)       (None, 128, 192, 256 0           batch_normalization_5[0][0]      \n",
            "__________________________________________________________________________________________________\n",
            "max_pooling2d_2 (MaxPooling2D)  (None, 64, 96, 256)  0           activation_5[0][0]               \n",
            "__________________________________________________________________________________________________\n",
            "conv2d_6 (Conv2D)               (None, 64, 96, 512)  1180160     max_pooling2d_2[0][0]            \n",
            "__________________________________________________________________________________________________\n",
            "batch_normalization_6 (BatchNor (None, 64, 96, 512)  2048        conv2d_6[0][0]                   \n",
            "__________________________________________________________________________________________________\n",
            "activation_6 (Activation)       (None, 64, 96, 512)  0           batch_normalization_6[0][0]      \n",
            "__________________________________________________________________________________________________\n",
            "conv2d_7 (Conv2D)               (None, 64, 96, 512)  2359808     activation_6[0][0]               \n",
            "__________________________________________________________________________________________________\n",
            "batch_normalization_7 (BatchNor (None, 64, 96, 512)  2048        conv2d_7[0][0]                   \n",
            "__________________________________________________________________________________________________\n",
            "activation_7 (Activation)       (None, 64, 96, 512)  0           batch_normalization_7[0][0]      \n",
            "__________________________________________________________________________________________________\n",
            "max_pooling2d_3 (MaxPooling2D)  (None, 32, 48, 512)  0           activation_7[0][0]               \n",
            "__________________________________________________________________________________________________\n",
            "conv2d_8 (Conv2D)               (None, 32, 48, 1024) 4719616     max_pooling2d_3[0][0]            \n",
            "__________________________________________________________________________________________________\n",
            "batch_normalization_8 (BatchNor (None, 32, 48, 1024) 4096        conv2d_8[0][0]                   \n",
            "__________________________________________________________________________________________________\n",
            "activation_8 (Activation)       (None, 32, 48, 1024) 0           batch_normalization_8[0][0]      \n",
            "__________________________________________________________________________________________________\n",
            "conv2d_9 (Conv2D)               (None, 32, 48, 1024) 9438208     activation_8[0][0]               \n",
            "__________________________________________________________________________________________________\n",
            "batch_normalization_9 (BatchNor (None, 32, 48, 1024) 4096        conv2d_9[0][0]                   \n",
            "__________________________________________________________________________________________________\n",
            "activation_9 (Activation)       (None, 32, 48, 1024) 0           batch_normalization_9[0][0]      \n",
            "__________________________________________________________________________________________________\n",
            "conv2d_transpose (Conv2DTranspo (None, 64, 96, 512)  2097664     activation_9[0][0]               \n",
            "__________________________________________________________________________________________________\n",
            "concatenate (Concatenate)       (None, 64, 96, 1024) 0           conv2d_transpose[0][0]           \n",
            "                                                                 activation_7[0][0]               \n",
            "__________________________________________________________________________________________________\n",
            "conv2d_10 (Conv2D)              (None, 64, 96, 512)  4719104     concatenate[0][0]                \n",
            "__________________________________________________________________________________________________\n",
            "batch_normalization_10 (BatchNo (None, 64, 96, 512)  2048        conv2d_10[0][0]                  \n",
            "__________________________________________________________________________________________________\n",
            "activation_10 (Activation)      (None, 64, 96, 512)  0           batch_normalization_10[0][0]     \n",
            "__________________________________________________________________________________________________\n",
            "conv2d_11 (Conv2D)              (None, 64, 96, 512)  2359808     activation_10[0][0]              \n",
            "__________________________________________________________________________________________________\n",
            "batch_normalization_11 (BatchNo (None, 64, 96, 512)  2048        conv2d_11[0][0]                  \n",
            "__________________________________________________________________________________________________\n",
            "activation_11 (Activation)      (None, 64, 96, 512)  0           batch_normalization_11[0][0]     \n",
            "__________________________________________________________________________________________________\n",
            "conv2d_transpose_1 (Conv2DTrans (None, 128, 192, 256 524544      activation_11[0][0]              \n",
            "__________________________________________________________________________________________________\n",
            "concatenate_1 (Concatenate)     (None, 128, 192, 512 0           conv2d_transpose_1[0][0]         \n",
            "                                                                 activation_5[0][0]               \n",
            "__________________________________________________________________________________________________\n",
            "conv2d_12 (Conv2D)              (None, 128, 192, 256 1179904     concatenate_1[0][0]              \n",
            "__________________________________________________________________________________________________\n",
            "batch_normalization_12 (BatchNo (None, 128, 192, 256 1024        conv2d_12[0][0]                  \n",
            "__________________________________________________________________________________________________\n",
            "activation_12 (Activation)      (None, 128, 192, 256 0           batch_normalization_12[0][0]     \n",
            "__________________________________________________________________________________________________\n",
            "conv2d_13 (Conv2D)              (None, 128, 192, 256 590080      activation_12[0][0]              \n",
            "__________________________________________________________________________________________________\n",
            "batch_normalization_13 (BatchNo (None, 128, 192, 256 1024        conv2d_13[0][0]                  \n",
            "__________________________________________________________________________________________________\n",
            "activation_13 (Activation)      (None, 128, 192, 256 0           batch_normalization_13[0][0]     \n",
            "__________________________________________________________________________________________________\n",
            "conv2d_transpose_2 (Conv2DTrans (None, 256, 384, 128 131200      activation_13[0][0]              \n",
            "__________________________________________________________________________________________________\n",
            "concatenate_2 (Concatenate)     (None, 256, 384, 256 0           conv2d_transpose_2[0][0]         \n",
            "                                                                 activation_3[0][0]               \n",
            "__________________________________________________________________________________________________\n",
            "conv2d_14 (Conv2D)              (None, 256, 384, 128 295040      concatenate_2[0][0]              \n",
            "__________________________________________________________________________________________________\n",
            "batch_normalization_14 (BatchNo (None, 256, 384, 128 512         conv2d_14[0][0]                  \n",
            "__________________________________________________________________________________________________\n",
            "activation_14 (Activation)      (None, 256, 384, 128 0           batch_normalization_14[0][0]     \n",
            "__________________________________________________________________________________________________\n",
            "conv2d_15 (Conv2D)              (None, 256, 384, 128 147584      activation_14[0][0]              \n",
            "__________________________________________________________________________________________________\n",
            "batch_normalization_15 (BatchNo (None, 256, 384, 128 512         conv2d_15[0][0]                  \n",
            "__________________________________________________________________________________________________\n",
            "activation_15 (Activation)      (None, 256, 384, 128 0           batch_normalization_15[0][0]     \n",
            "__________________________________________________________________________________________________\n",
            "conv2d_transpose_3 (Conv2DTrans (None, 512, 768, 64) 32832       activation_15[0][0]              \n",
            "__________________________________________________________________________________________________\n",
            "concatenate_3 (Concatenate)     (None, 512, 768, 128 0           conv2d_transpose_3[0][0]         \n",
            "                                                                 activation_1[0][0]               \n",
            "__________________________________________________________________________________________________\n",
            "conv2d_16 (Conv2D)              (None, 512, 768, 64) 73792       concatenate_3[0][0]              \n",
            "__________________________________________________________________________________________________\n",
            "batch_normalization_16 (BatchNo (None, 512, 768, 64) 256         conv2d_16[0][0]                  \n",
            "__________________________________________________________________________________________________\n",
            "activation_16 (Activation)      (None, 512, 768, 64) 0           batch_normalization_16[0][0]     \n",
            "__________________________________________________________________________________________________\n",
            "conv2d_17 (Conv2D)              (None, 512, 768, 64) 36928       activation_16[0][0]              \n",
            "__________________________________________________________________________________________________\n",
            "batch_normalization_17 (BatchNo (None, 512, 768, 64) 256         conv2d_17[0][0]                  \n",
            "__________________________________________________________________________________________________\n",
            "activation_17 (Activation)      (None, 512, 768, 64) 0           batch_normalization_17[0][0]     \n",
            "__________________________________________________________________________________________________\n",
            "conv2d_18 (Conv2D)              (None, 512, 768, 3)  195         activation_17[0][0]              \n",
            "==================================================================================================\n",
            "Total params: 31,055,427\n",
            "Trainable params: 31,043,651\n",
            "Non-trainable params: 11,776\n",
            "__________________________________________________________________________________________________\n"
          ]
        }
      ]
    },
    {
      "cell_type": "markdown",
      "metadata": {
        "id": "TWKUCE3_6vBv"
      },
      "source": [
        "### Adding the Metrics:"
      ]
    },
    {
      "cell_type": "code",
      "metadata": {
        "id": "s5HXET5Z6uZX"
      },
      "source": [
        "def iou(y_true, y_pred):\n",
        "    def f(y_true, y_pred):\n",
        "        intersection = (y_true * y_pred).sum()\n",
        "        union = y_true.sum() + y_pred.sum() - intersection\n",
        "        x = (intersection + 1e-15) / (union + 1e-15)\n",
        "        x = x.astype(np.float32)\n",
        "        return x\n",
        "    return tf.numpy_function(f, [y_true, y_pred], tf.float32)\n",
        "\n",
        "smooth = 1e-15\n",
        "def dice_coef(y_true, y_pred):\n",
        "    y_true = tf.keras.layers.Flatten()(y_true)\n",
        "    y_pred = tf.keras.layers.Flatten()(y_pred)\n",
        "    intersection = tf.reduce_sum(y_true * y_pred)\n",
        "    return (2. * intersection + smooth) / (tf.reduce_sum(y_true) + tf.reduce_sum(y_pred) + smooth)\n",
        "\n",
        "def dice_loss(y_true, y_pred):\n",
        "    return 1.0 - dice_coef(y_true, y_pred)"
      ],
      "execution_count": null,
      "outputs": []
    },
    {
      "cell_type": "markdown",
      "metadata": {
        "id": "fuGIkqEH65dX"
      },
      "source": [
        "### Training the Model:"
      ]
    },
    {
      "cell_type": "code",
      "metadata": {
        "id": "NNdxwX_-5udw"
      },
      "source": [
        "W = 768\n",
        "H = 512\n",
        "\n",
        "def create_dir(path):\n",
        "    if not os.path.exists(path):\n",
        "        os.makedirs(path)\n",
        "\n",
        "def load_data(path):\n",
        "    x = sorted(glob(os.path.join(path, \"image\", \"*.jpg\")))\n",
        "    y = sorted(glob(os.path.join(path, \"mask\", \"*.jpg\")))\n",
        "    return x, y\n",
        "\n",
        "def shuffling(x, y):\n",
        "    x, y = shuffle(x, y, random_state=42)\n",
        "    return x, y\n",
        "\n",
        "def read_image(path):\n",
        "    path = path.decode()\n",
        "    x = cv2.imread(path, cv2.IMREAD_COLOR)\n",
        "    # x = cv2.resize(x, (W, H))\n",
        "    x = x/255.0\n",
        "    x = x.astype(np.float32)\n",
        "    return x\n",
        "\n",
        "def read_mask(path):\n",
        "    path = path.decode()\n",
        "    x = cv2.imread(path, cv2.IMREAD_COLOR)  ## (512, 512, 3)\n",
        "    # x = cv2.resize(x, (W, H))\n",
        "    x = x/255.0\n",
        "    x = x.astype(np.float32)\n",
        "    x = x[:,:,0:3] \n",
        "\n",
        "    return x\n",
        "\n",
        "def tf_parse(x, y):\n",
        "    def _parse(x, y):\n",
        "        x = read_image(x)\n",
        "        y = read_mask(y)\n",
        "        return x, y\n",
        "\n",
        "    x, y = tf.numpy_function(_parse, [x, y], [tf.float32, tf.float32])\n",
        "    x.set_shape([H, W, 3])\n",
        "    y.set_shape([H, W, 3])\n",
        "    return x, y\n",
        "\n",
        "def tf_dataset(X, Y, batch_size=2):\n",
        "    dataset = tf.data.Dataset.from_tensor_slices((X, Y))\n",
        "    dataset = dataset.map(tf_parse)\n",
        "    dataset = dataset.batch(batch_size)\n",
        "    dataset = dataset.prefetch(4)\n",
        "    return dataset"
      ],
      "execution_count": null,
      "outputs": []
    },
    {
      "cell_type": "code",
      "metadata": {
        "colab": {
          "base_uri": "https://localhost:8080/"
        },
        "id": "R9oxQCQo7Jnw",
        "outputId": "1e9710f9-e922-42d0-a865-5aed30260f4e"
      },
      "source": [
        "\"\"\" Seeding \"\"\"\n",
        "np.random.seed(42)\n",
        "tf.random.set_seed(42)\n",
        "\n",
        "\"\"\" Directory to save files \"\"\"\n",
        "create_dir(\"files\")\n",
        "\n",
        "\"\"\" Hyperparameters \"\"\"\n",
        "batch_size = 2\n",
        "lr = 1e-4\n",
        "num_epochs = 30\n",
        "model_path = os.path.join(\"files\", \"model.h5\")\n",
        "csv_path = os.path.join(\"files\", \"data.csv\")\n",
        "\n",
        "\"\"\" Dataset \"\"\"\n",
        "dataset_path = \"new_data_augment\"\n",
        "train_path = os.path.join(dataset_path, \"train\")\n",
        "valid_path = os.path.join(dataset_path, \"test\")\n",
        "\n",
        "train_x, train_y = load_data(train_path)\n",
        "train_x, train_y = shuffling(train_x, train_y)\n",
        "valid_x, valid_y = load_data(valid_path)\n",
        "\n",
        "print(f\"Train: {len(train_x)} - {len(train_y)}\")\n",
        "print(f\"Valid: {len(valid_x)} - {len(valid_y)}\")\n",
        "\n",
        "train_dataset = tf_dataset(train_x, train_y, batch_size=batch_size)\n",
        "valid_dataset = tf_dataset(valid_x, valid_y, batch_size=batch_size)\n",
        "\n",
        "train_steps = len(train_x)//batch_size\n",
        "valid_setps = len(valid_x)//batch_size\n",
        "\n",
        "if len(train_x) % batch_size != 0:\n",
        "    train_steps += 1\n",
        "if len(valid_x) % batch_size != 0:\n",
        "    valid_setps += 1\n",
        "\n",
        "\"\"\" Model \"\"\"\n",
        "model = build_unet((H, W, 3))\n",
        "# model.compile(loss=tf.keras.losses.BinaryCrossentropy(), optimizer=Adam(lr), metrics=[dice_coef, iou, Recall(), Precision()])\n",
        "model.compile(loss=dice_loss, optimizer=Adam(lr), metrics=[dice_coef, iou, Recall(), Precision()])\n",
        "# model.summary()\n",
        "\n",
        "callbacks = [\n",
        "    ModelCheckpoint(model_path, verbose=1, save_best_only=True),\n",
        "    ReduceLROnPlateau(monitor=\"val_loss\", factor=0.1, patience=5, min_lr=1e-6, verbose=1),\n",
        "    CSVLogger(csv_path),\n",
        "    TensorBoard(),\n",
        "    EarlyStopping(monitor=\"val_loss\", patience=10, restore_best_weights=False)\n",
        "]\n",
        "\n",
        "model.fit(\n",
        "    train_dataset,\n",
        "    epochs=num_epochs,\n",
        "    validation_data=valid_dataset,\n",
        "    steps_per_epoch=train_steps,\n",
        "    validation_steps=valid_setps,\n",
        "    callbacks=callbacks\n",
        ")"
      ],
      "execution_count": null,
      "outputs": [
        {
          "output_type": "stream",
          "name": "stdout",
          "text": [
            "Train: 318 - 318\n",
            "Valid: 27 - 27\n",
            "Epoch 1/30\n",
            "159/159 [==============================] - 476s 3s/step - loss: 0.9266 - dice_coef: 0.0734 - iou: 0.0384 - recall: 0.4214 - precision: 0.1441 - val_loss: 0.9767 - val_dice_coef: 0.0234 - val_iou: 0.0119 - val_recall: 0.0409 - val_precision: 0.0192\n",
            "\n",
            "Epoch 00001: val_loss improved from inf to 0.97667, saving model to files/model.h5\n",
            "Epoch 2/30\n",
            "159/159 [==============================] - 387s 2s/step - loss: 0.8813 - dice_coef: 0.1187 - iou: 0.0637 - recall: 0.3062 - precision: 0.2989 - val_loss: 0.9743 - val_dice_coef: 0.0262 - val_iou: 0.0133 - val_recall: 0.0121 - val_precision: 0.0422\n",
            "\n",
            "Epoch 00002: val_loss improved from 0.97667 to 0.97433, saving model to files/model.h5\n",
            "Epoch 3/30\n",
            "159/159 [==============================] - 387s 2s/step - loss: 0.8190 - dice_coef: 0.1810 - iou: 0.1008 - recall: 0.2482 - precision: 0.4444 - val_loss: 0.9251 - val_dice_coef: 0.0758 - val_iou: 0.0395 - val_recall: 0.0612 - val_precision: 0.2176\n",
            "\n",
            "Epoch 00003: val_loss improved from 0.97433 to 0.92512, saving model to files/model.h5\n",
            "Epoch 4/30\n",
            "159/159 [==============================] - 388s 2s/step - loss: 0.7129 - dice_coef: 0.2871 - iou: 0.1695 - recall: 0.2047 - precision: 0.6220 - val_loss: 0.7407 - val_dice_coef: 0.2590 - val_iou: 0.1493 - val_recall: 0.1439 - val_precision: 0.5880\n",
            "\n",
            "Epoch 00004: val_loss improved from 0.92512 to 0.74075, saving model to files/model.h5\n",
            "Epoch 5/30\n",
            "159/159 [==============================] - 387s 2s/step - loss: 0.5860 - dice_coef: 0.4140 - iou: 0.2633 - recall: 0.1781 - precision: 0.7484 - val_loss: 0.6028 - val_dice_coef: 0.3963 - val_iou: 0.2496 - val_recall: 0.1809 - val_precision: 0.5832\n",
            "\n",
            "Epoch 00005: val_loss improved from 0.74075 to 0.60277, saving model to files/model.h5\n",
            "Epoch 6/30\n",
            "159/159 [==============================] - 387s 2s/step - loss: 0.4557 - dice_coef: 0.5443 - iou: 0.3765 - recall: 0.1676 - precision: 0.8691 - val_loss: 0.4867 - val_dice_coef: 0.5085 - val_iou: 0.3467 - val_recall: 0.1503 - val_precision: 0.7287\n",
            "\n",
            "Epoch 00006: val_loss improved from 0.60277 to 0.48667, saving model to files/model.h5\n",
            "Epoch 7/30\n",
            "159/159 [==============================] - 396s 2s/step - loss: 0.3794 - dice_coef: 0.6206 - iou: 0.4527 - recall: 0.1631 - precision: 0.8958 - val_loss: 0.4598 - val_dice_coef: 0.5348 - val_iou: 0.3726 - val_recall: 0.1268 - val_precision: 0.7630\n",
            "\n",
            "Epoch 00007: val_loss improved from 0.48667 to 0.45975, saving model to files/model.h5\n",
            "Epoch 8/30\n",
            "159/159 [==============================] - 396s 2s/step - loss: 0.3346 - dice_coef: 0.6654 - iou: 0.5022 - recall: 0.1619 - precision: 0.9127 - val_loss: 0.4715 - val_dice_coef: 0.5241 - val_iou: 0.3667 - val_recall: 0.1367 - val_precision: 0.6003\n",
            "\n",
            "Epoch 00008: val_loss did not improve from 0.45975\n",
            "Epoch 9/30\n",
            "159/159 [==============================] - 387s 2s/step - loss: 0.2996 - dice_coef: 0.7004 - iou: 0.5431 - recall: 0.1631 - precision: 0.9348 - val_loss: 0.3928 - val_dice_coef: 0.6016 - val_iou: 0.4358 - val_recall: 0.1446 - val_precision: 0.8368\n",
            "\n",
            "Epoch 00009: val_loss improved from 0.45975 to 0.39285, saving model to files/model.h5\n",
            "Epoch 10/30\n",
            "159/159 [==============================] - 396s 2s/step - loss: 0.2808 - dice_coef: 0.7192 - iou: 0.5654 - recall: 0.1631 - precision: 0.9436 - val_loss: 0.3737 - val_dice_coef: 0.6250 - val_iou: 0.4617 - val_recall: 0.1334 - val_precision: 0.8711\n",
            "\n",
            "Epoch 00010: val_loss improved from 0.39285 to 0.37367, saving model to files/model.h5\n",
            "Epoch 11/30\n",
            "159/159 [==============================] - 396s 2s/step - loss: 0.2667 - dice_coef: 0.7333 - iou: 0.5831 - recall: 0.1653 - precision: 0.9442 - val_loss: 0.3810 - val_dice_coef: 0.6128 - val_iou: 0.4520 - val_recall: 0.1219 - val_precision: 0.8955\n",
            "\n",
            "Epoch 00011: val_loss did not improve from 0.37367\n",
            "Epoch 12/30\n",
            "159/159 [==============================] - 389s 2s/step - loss: 0.2445 - dice_coef: 0.7555 - iou: 0.6107 - recall: 0.1697 - precision: 0.9577 - val_loss: 0.3707 - val_dice_coef: 0.6189 - val_iou: 0.4620 - val_recall: 0.1303 - val_precision: 0.8046\n",
            "\n",
            "Epoch 00012: val_loss improved from 0.37367 to 0.37067, saving model to files/model.h5\n",
            "Epoch 13/30\n",
            "159/159 [==============================] - 389s 2s/step - loss: 0.2335 - dice_coef: 0.7665 - iou: 0.6249 - recall: 0.1719 - precision: 0.9629 - val_loss: 0.3646 - val_dice_coef: 0.6233 - val_iou: 0.4687 - val_recall: 0.1315 - val_precision: 0.7970\n",
            "\n",
            "Epoch 00013: val_loss improved from 0.37067 to 0.36456, saving model to files/model.h5\n",
            "Epoch 14/30\n",
            "159/159 [==============================] - 388s 2s/step - loss: 0.2249 - dice_coef: 0.7751 - iou: 0.6364 - recall: 0.1730 - precision: 0.9665 - val_loss: 0.3598 - val_dice_coef: 0.6286 - val_iou: 0.4748 - val_recall: 0.1310 - val_precision: 0.8133\n",
            "\n",
            "Epoch 00014: val_loss improved from 0.36456 to 0.35980, saving model to files/model.h5\n",
            "Epoch 15/30\n",
            "159/159 [==============================] - 389s 2s/step - loss: 0.2285 - dice_coef: 0.7715 - iou: 0.6319 - recall: 0.1703 - precision: 0.9631 - val_loss: 0.3303 - val_dice_coef: 0.6573 - val_iou: 0.5027 - val_recall: 0.1420 - val_precision: 0.8124\n",
            "\n",
            "Epoch 00015: val_loss improved from 0.35980 to 0.33026, saving model to files/model.h5\n",
            "Epoch 16/30\n",
            "159/159 [==============================] - 397s 2s/step - loss: 0.2221 - dice_coef: 0.7779 - iou: 0.6408 - recall: 0.1714 - precision: 0.9656 - val_loss: 0.3831 - val_dice_coef: 0.6029 - val_iou: 0.4529 - val_recall: 0.1439 - val_precision: 0.6154\n",
            "\n",
            "Epoch 00016: val_loss did not improve from 0.33026\n",
            "Epoch 17/30\n",
            "159/159 [==============================] - 388s 2s/step - loss: 0.2127 - dice_coef: 0.7873 - iou: 0.6530 - recall: 0.1746 - precision: 0.9699 - val_loss: 0.3545 - val_dice_coef: 0.6356 - val_iou: 0.4820 - val_recall: 0.1295 - val_precision: 0.8159\n",
            "\n",
            "Epoch 00017: val_loss did not improve from 0.33026\n",
            "Epoch 18/30\n",
            "159/159 [==============================] - 396s 2s/step - loss: 0.2073 - dice_coef: 0.7927 - iou: 0.6604 - recall: 0.1762 - precision: 0.9730 - val_loss: 0.3857 - val_dice_coef: 0.5992 - val_iou: 0.4528 - val_recall: 0.1404 - val_precision: 0.5959\n",
            "\n",
            "Epoch 00018: val_loss did not improve from 0.33026\n",
            "Epoch 19/30\n",
            "159/159 [==============================] - 396s 2s/step - loss: 0.2157 - dice_coef: 0.7843 - iou: 0.6490 - recall: 0.1748 - precision: 0.9613 - val_loss: 0.3505 - val_dice_coef: 0.6382 - val_iou: 0.4864 - val_recall: 0.1459 - val_precision: 0.7352\n",
            "\n",
            "Epoch 00019: val_loss did not improve from 0.33026\n",
            "Epoch 20/30\n",
            "159/159 [==============================] - 388s 2s/step - loss: 0.2049 - dice_coef: 0.7951 - iou: 0.6638 - recall: 0.1758 - precision: 0.9715 - val_loss: 0.3197 - val_dice_coef: 0.6722 - val_iou: 0.5173 - val_recall: 0.1380 - val_precision: 0.8646\n",
            "\n",
            "Epoch 00020: val_loss improved from 0.33026 to 0.31966, saving model to files/model.h5\n",
            "Epoch 21/30\n",
            "159/159 [==============================] - 396s 2s/step - loss: 0.1976 - dice_coef: 0.8024 - iou: 0.6737 - recall: 0.1780 - precision: 0.9764 - val_loss: 0.3219 - val_dice_coef: 0.6712 - val_iou: 0.5148 - val_recall: 0.1386 - val_precision: 0.8629\n",
            "\n",
            "Epoch 00021: val_loss did not improve from 0.31966\n",
            "Epoch 22/30\n",
            "159/159 [==============================] - 396s 2s/step - loss: 0.1937 - dice_coef: 0.8063 - iou: 0.6790 - recall: 0.1795 - precision: 0.9782 - val_loss: 0.3426 - val_dice_coef: 0.6441 - val_iou: 0.4937 - val_recall: 0.1405 - val_precision: 0.7247\n",
            "\n",
            "Epoch 00022: val_loss did not improve from 0.31966\n",
            "Epoch 23/30\n",
            "159/159 [==============================] - 396s 2s/step - loss: 0.1877 - dice_coef: 0.8123 - iou: 0.6873 - recall: 0.1815 - precision: 0.9804 - val_loss: 0.3338 - val_dice_coef: 0.6529 - val_iou: 0.5023 - val_recall: 0.1433 - val_precision: 0.7531\n",
            "\n",
            "Epoch 00023: val_loss did not improve from 0.31966\n",
            "Epoch 24/30\n",
            "159/159 [==============================] - 388s 2s/step - loss: 0.2007 - dice_coef: 0.7993 - iou: 0.6696 - recall: 0.1758 - precision: 0.9736 - val_loss: 0.2946 - val_dice_coef: 0.7024 - val_iou: 0.5463 - val_recall: 0.1430 - val_precision: 0.9260\n",
            "\n",
            "Epoch 00024: val_loss improved from 0.31966 to 0.29456, saving model to files/model.h5\n",
            "Epoch 25/30\n",
            "159/159 [==============================] - 396s 2s/step - loss: 0.1933 - dice_coef: 0.8067 - iou: 0.6798 - recall: 0.1787 - precision: 0.9769 - val_loss: 0.2848 - val_dice_coef: 0.7070 - val_iou: 0.5556 - val_recall: 0.1433 - val_precision: 0.9225\n",
            "\n",
            "Epoch 00025: val_loss improved from 0.29456 to 0.28476, saving model to files/model.h5\n",
            "Epoch 26/30\n",
            "159/159 [==============================] - 389s 2s/step - loss: 0.1860 - dice_coef: 0.8140 - iou: 0.6899 - recall: 0.1815 - precision: 0.9811 - val_loss: 0.2972 - val_dice_coef: 0.6969 - val_iou: 0.5415 - val_recall: 0.1472 - val_precision: 0.8919\n",
            "\n",
            "Epoch 00026: val_loss did not improve from 0.28476\n",
            "Epoch 27/30\n",
            "159/159 [==============================] - 397s 2s/step - loss: 0.1876 - dice_coef: 0.8124 - iou: 0.6876 - recall: 0.1811 - precision: 0.9791 - val_loss: 0.4393 - val_dice_coef: 0.5578 - val_iou: 0.4080 - val_recall: 0.1384 - val_precision: 0.5190\n",
            "\n",
            "Epoch 00027: val_loss did not improve from 0.28476\n",
            "Epoch 28/30\n",
            "159/159 [==============================] - 389s 2s/step - loss: 0.2034 - dice_coef: 0.7966 - iou: 0.6663 - recall: 0.1780 - precision: 0.9638 - val_loss: 0.3501 - val_dice_coef: 0.6403 - val_iou: 0.4853 - val_recall: 0.1594 - val_precision: 0.7197\n",
            "\n",
            "Epoch 00028: val_loss did not improve from 0.28476\n",
            "Epoch 29/30\n",
            "159/159 [==============================] - 397s 2s/step - loss: 0.1852 - dice_coef: 0.8148 - iou: 0.6909 - recall: 0.1821 - precision: 0.9786 - val_loss: 0.3214 - val_dice_coef: 0.6693 - val_iou: 0.5155 - val_recall: 0.1374 - val_precision: 0.8489\n",
            "\n",
            "Epoch 00029: val_loss did not improve from 0.28476\n",
            "Epoch 30/30\n",
            "159/159 [==============================] - 397s 2s/step - loss: 0.1778 - dice_coef: 0.8222 - iou: 0.7013 - recall: 0.1836 - precision: 0.9846 - val_loss: 0.3248 - val_dice_coef: 0.6626 - val_iou: 0.5100 - val_recall: 0.1457 - val_precision: 0.7743\n",
            "\n",
            "Epoch 00030: val_loss did not improve from 0.28476\n",
            "\n",
            "Epoch 00030: ReduceLROnPlateau reducing learning rate to 9.999999747378752e-06.\n"
          ]
        },
        {
          "output_type": "execute_result",
          "data": {
            "text/plain": [
              "<keras.callbacks.History at 0x7f1a500c8910>"
            ]
          },
          "metadata": {},
          "execution_count": 7
        }
      ]
    },
    {
      "cell_type": "markdown",
      "metadata": {
        "id": "2x0dTMCh0NPX"
      },
      "source": [
        "### Evaluate The Metrics:"
      ]
    },
    {
      "cell_type": "code",
      "metadata": {
        "id": "GAHKjs2m0PKs"
      },
      "source": [
        "import os\n",
        "os.environ[\"TF_CPP_MIN_LOG_LEVEL\"] = \"2\"\n",
        "import numpy as np\n",
        "import pandas as pd\n",
        "import cv2\n",
        "from glob import glob\n",
        "from tqdm import tqdm\n",
        "import tensorflow as tf\n",
        "from tensorflow.keras.utils import CustomObjectScope\n",
        "from sklearn.metrics import accuracy_score, f1_score, jaccard_score, precision_score, recall_score\n",
        "from metrics import dice_loss, dice_coef, iou\n",
        "from utils import get_filenames_sorted"
      ],
      "execution_count": null,
      "outputs": []
    },
    {
      "cell_type": "code",
      "metadata": {
        "id": "96XJ5JwR0TKH"
      },
      "source": [
        "H = 512\n",
        "W = 768\n",
        "\n",
        "def create_dir(path):\n",
        "    if not os.path.exists(path):\n",
        "        os.makedirs(path)\n",
        "\n",
        "def read_image(path):\n",
        "    x = cv2.imread(path, cv2.IMREAD_COLOR)\n",
        "    # x = cv2.resize(x, (W, H))\n",
        "    ori_x = x\n",
        "    x = x/255.0\n",
        "    x = x.astype(np.float32)\n",
        "    return ori_x, x\n",
        "\n",
        "def read_mask(path):\n",
        "    x = cv2.imread(path, cv2.IMREAD_COLOR)  ## (512, 512)\n",
        "    # x = cv2.resize(x, (W, H))\n",
        "    ori_x = x\n",
        "    x = x/255.0\n",
        "    x = x.astype(np.float32)\n",
        "    x = x[:,:,0:3] # Discard the last channel \n",
        "    return ori_x, x\n",
        "\n",
        "def load_data(path):\n",
        "    x = sorted(glob(os.path.join(path, \"image\", \"*.jpg\")))\n",
        "    y = sorted(glob(os.path.join(path, \"mask\", \"*.jpg\")))\n",
        "    return x, y\n",
        "\n",
        "def save_results(ori_x, ori_y, y_pred, save_image_path, channel):\n",
        "    line = np.ones((y_pred.shape[0], 10, 3)) * 255\n",
        "\n",
        "    pred_image = np.zeros((y_pred.shape[0], y_pred.shape[1], 3))\n",
        "    _y_pred = y_pred[:, :, channel]\n",
        "    _ori_y = ori_y[:, :, channel]\n",
        "    pred_image[:, :, 0] = ((_y_pred > 0.5) & (_ori_y <= 128)) * 255\n",
        "    pred_image[:, :, 1] = ((_y_pred > 0.5) & (_ori_y  > 128)) * 255\n",
        "    pred_image[:, :, 2] = ((_ori_y  > 128) & (_y_pred <= 0.5 )) * 255\n",
        "\n",
        "    print(\" saving result\", save_image_path)\n",
        "    cv2.imwrite(save_image_path, pred_image)"
      ],
      "execution_count": null,
      "outputs": []
    },
    {
      "cell_type": "code",
      "metadata": {
        "colab": {
          "base_uri": "https://localhost:8080/"
        },
        "id": "6OJKEDNR0W7P",
        "outputId": "e5616ae6-2b24-4d18-f3eb-babdb9985cc1"
      },
      "source": [
        "data_dir = \"new_data_augment\"\n",
        "od_channel, he_channel, ex_channel = 0, 1, 2\n",
        "\n",
        "\n",
        "od_result_dir = \"files_demo_od\"\n",
        "he_result_dir = \"files_demo_he\"\n",
        "ex_result_dir = \"files_demo_ex\"\n",
        "\n",
        "create_dir(od_result_dir)\n",
        "create_dir(he_result_dir)\n",
        "create_dir(ex_result_dir)\n",
        "\n",
        "model_dir = \"files\"\n",
        "\n",
        "\"\"\" Load the model \"\"\"\n",
        "model_file_name = f\"{model_dir}/model.h5\"\n",
        "print(model_file_name)\n",
        "with CustomObjectScope({'iou': iou, 'dice_coef': dice_coef, 'dice_loss': dice_loss}):\n",
        "    model = tf.keras.models.load_model(model_file_name)\n",
        "\n",
        "\"\"\" Load the dataset \"\"\"\n",
        "# dataset_path = os.path.join(data_dir, \"test\")\n",
        "test_x, test_y = get_filenames_sorted(data_dir + \"/test/image/\", data_dir + \"/test/mask/\" )\n",
        "\n",
        "\"\"\" Make the prediction and calculate the metrics values \"\"\"\n",
        "SCORE_OD, SCORE_HE, SCORE_EX = [], [], []\n",
        "for x, y in tqdm(zip(test_x, test_y), total=len(test_x)):\n",
        "    \"\"\" Extracting name \"\"\"\n",
        "    name = x.rsplit(\"/\", 1)[1].rsplit(\".\", 1)[0]\n",
        "    print(name)\n",
        "\n",
        "    \"\"\" Read the image and mask \"\"\"\n",
        "    ori_x, x = read_image(x)\n",
        "    ori_y, y = read_mask(y)\n",
        "\n",
        "    \"\"\" Prediction \"\"\"\n",
        "    y_pred = model.predict(np.expand_dims(x, axis=0))[0]\n",
        "    y_pred = y_pred > 0.5\n",
        "    y_pred = y_pred.astype(np.float32)\n",
        "\n",
        "    print(np.max(ori_y), np.max(y))\n",
        "\n",
        "    \"\"\" Saving the images \"\"\"\n",
        "    save_image_path_od = f\"{od_result_dir}/{name}.png\"\n",
        "    save_results(ori_x, ori_y, y_pred, save_image_path_od, od_channel)\n",
        "\n",
        "    save_image_path_he = f\"{he_result_dir}/{name}.png\"\n",
        "    save_results(ori_x, ori_y, y_pred, save_image_path_he, he_channel)\n",
        "\n",
        "    save_image_path_ex = f\"{ex_result_dir}/{name}.png\"\n",
        "    save_results(ori_x, ori_y, y_pred, save_image_path_ex, ex_channel)\n",
        "\n",
        "\n",
        "#     \"\"\" Calculate the OD metrics \"\"\"\n",
        "    ma_pred = y_pred[:, :, od_channel].flatten()\n",
        "    ma_gt = y[:, :, od_channel].flatten()\n",
        "    acc_value = accuracy_score(ma_gt > 0.5, ma_pred>0.5)\n",
        "    f1_value = f1_score(ma_gt > 0.5, ma_pred>0.5, labels=[0, 1], average=\"binary\")\n",
        "    jac_value = jaccard_score(ma_gt > 0.5, ma_pred>0.5, labels=[0, 1], average=\"binary\")\n",
        "    recall_value = recall_score(ma_gt > 0.5, ma_pred>0.5, labels=[0, 1], average=\"binary\")\n",
        "    recall_computed = np.sum((ma_gt > 0.5) & (ma_pred > 0.5)) / np.sum(ma_gt > 0.5)\n",
        "    precision_value = precision_score(ma_gt > 0.5, ma_pred>0.5, labels=[0, 1], average=\"binary\")\n",
        "    SCORE_OD.append([name, acc_value, f1_value, jac_value, recall_value, precision_value, recall_computed])\n",
        "\n",
        "#     \"\"\" Calculate the HE metrics \"\"\"\n",
        "    bv_pred = y_pred[:, :, he_channel].flatten()\n",
        "    bv_gt = y[:, :, he_channel].flatten()\n",
        "    acc_value = accuracy_score(bv_gt > 0.5, bv_pred>0.5)\n",
        "    f1_value = f1_score(bv_gt > 0.5, bv_pred>0.5, labels=[0, 1], average=\"binary\")\n",
        "    jac_value = jaccard_score(bv_gt > 0.5, bv_pred>0.5, labels=[0, 1], average=\"binary\")\n",
        "    recall_value = recall_score(bv_gt > 0.5, bv_pred>0.5, labels=[0, 1], average=\"binary\")\n",
        "    recall_computed = np.sum((bv_gt > 0.5) & (bv_pred > 0.5)) / np.sum(bv_gt > 0.5)\n",
        "    precision_value = precision_score(bv_gt > 0.5, bv_pred>0.5, labels=[0, 1], average=\"binary\")\n",
        "    SCORE_HE.append([name, acc_value, f1_value, jac_value, recall_value, precision_value, recall_computed])\n",
        "\n",
        "#     \"\"\" Calculate the EX metrics \"\"\"\n",
        "    he_pred = y_pred[:, :, ex_channel].flatten()\n",
        "    he_gt = y[:, :, ex_channel].flatten()\n",
        "    acc_value = accuracy_score(he_gt > 0.5, he_pred>0.5)\n",
        "    f1_value = f1_score(he_gt > 0.5, he_pred>0.5, labels=[0, 1], average=\"binary\")\n",
        "    jac_value = jaccard_score(he_gt > 0.5, he_pred>0.5, labels=[0, 1], average=\"binary\")\n",
        "    recall_value = recall_score(he_gt > 0.5, he_pred>0.5, labels=[0, 1], average=\"binary\")\n",
        "    recall_computed = np.sum((he_gt > 0.5) & (he_pred > 0.5)) / np.sum(he_gt > 0.5)\n",
        "    precision_value = precision_score(ma_gt > 0.5, ma_pred>0.5, labels=[0, 1], average=\"binary\")\n",
        "    SCORE_EX.append([name, acc_value, f1_value, jac_value, recall_value, precision_value, recall_computed])\n",
        "    \n",
        "print(\"\\n\")\n",
        "\n",
        "for SCORE in [SCORE_OD, SCORE_HE, SCORE_EX]:\n",
        "    if SCORE == SCORE_OD:\n",
        "        print(\"****** OD Metrics ******\")\n",
        "        score = [s[1:] for s in SCORE]\n",
        "        score = np.mean(score, axis=0)\n",
        "        print(f\"Accuracy: {score[0]:0.5f}\")\n",
        "        print(f\"F1: {score[1]:0.5f} (dice score)\")\n",
        "        print(f\"AUC: {score[1]:0.5f} (Auc score)\")\n",
        "        print(f\"Jaccard: {score[2]:0.5f}\")\n",
        "        print(f\"Recall: {score[3]:0.5f}\")\n",
        "        print(f\"Precision: {score[4]:0.5f}\")\n",
        "\n",
        "    elif SCORE == SCORE_HE:\n",
        "        print(\"****** HE Metrics ******\")\n",
        "        score = [s[1:] for s in SCORE]\n",
        "        score = np.mean(score, axis=0)\n",
        "        print(f\"Accuracy: {score[0]:0.5f}\")\n",
        "        print(f\"F1: {score[1]:0.5f} (dice score)\")\n",
        "        print(f\"AUC: {score[1]:0.5f} (Auc score)\")\n",
        "        print(f\"Jaccard: {score[2]:0.5f}\")\n",
        "        print(f\"Recall: {score[3]:0.5f}\")\n",
        "        print(f\"Precision: {score[4]:0.5f}\")\n",
        "\n",
        "    else:\n",
        "        print(\"****** EX Metrics ******\")\n",
        "        score = [s[1:] for s in SCORE]\n",
        "        score = np.mean(score, axis=0)\n",
        "        print(f\"Accuracy: {score[0]:0.5f}\")\n",
        "        print(f\"F1: {score[1]:0.5f} (dice score)\")\n",
        "        print(f\"AUC: {score[1]:0.5f} (Auc score)\")\n",
        "        print(f\"Jaccard: {score[2]:0.5f}\")\n",
        "        print(f\"Recall: {score[3]:0.5f}\")\n",
        "        print(f\"Precision: {score[4]:0.5f}\")\n",
        "\n",
        "    # \"\"\" Saving \"\"\"\n",
        "    if SCORE == SCORE_OD:\n",
        "        df = pd.DataFrame(SCORE, columns=[\"Image\", \"Acc\", \"F1\", \"Jaccard\", \"Recall\", \"Precision\", \"Recall Computed\"])\n",
        "        df.to_csv(f\"{od_result_dir}/score.csv\")\n",
        "\n",
        "    elif SCORE == SCORE_HE:\n",
        "        df = pd.DataFrame(SCORE, columns=[\"Image\", \"Acc\", \"F1\", \"Jaccard\", \"Recall\", \"Precision\", \"Recall Computed\"])\n",
        "        df.to_csv(f\"{he_result_dir}/score.csv\")\n",
        "    else:\n",
        "        df = pd.DataFrame(SCORE, columns=[\"Image\", \"Acc\", \"F1\", \"Jaccard\", \"Recall\", \"Precision\", \"Recall Computed\"])\n",
        "        df.to_csv(f\"{ex_result_dir}/score.csv\")\n",
        "    print(\"\\n\")"
      ],
      "execution_count": null,
      "outputs": [
        {
          "output_type": "stream",
          "name": "stdout",
          "text": [
            "files/model.h5\n"
          ]
        },
        {
          "output_type": "stream",
          "name": "stderr",
          "text": [
            "\r  0%|          | 0/27 [00:00<?, ?it/s]"
          ]
        },
        {
          "output_type": "stream",
          "name": "stdout",
          "text": [
            "IDRiD_55\n",
            "255 1.0\n",
            " saving result files_demo_od/IDRiD_55.png\n",
            " saving result files_demo_he/IDRiD_55.png\n",
            " saving result files_demo_ex/IDRiD_55.png\n"
          ]
        },
        {
          "output_type": "stream",
          "name": "stderr",
          "text": [
            "\r  4%|▎         | 1/27 [00:02<00:59,  2.27s/it]"
          ]
        },
        {
          "output_type": "stream",
          "name": "stdout",
          "text": [
            "IDRiD_56\n",
            "255 1.0\n",
            " saving result files_demo_od/IDRiD_56.png\n",
            " saving result files_demo_he/IDRiD_56.png\n",
            " saving result files_demo_ex/IDRiD_56.png\n"
          ]
        },
        {
          "output_type": "stream",
          "name": "stderr",
          "text": [
            "\r  7%|▋         | 2/27 [00:04<00:51,  2.06s/it]"
          ]
        },
        {
          "output_type": "stream",
          "name": "stdout",
          "text": [
            "IDRiD_57\n",
            "255 1.0\n",
            " saving result files_demo_od/IDRiD_57.png\n",
            " saving result files_demo_he/IDRiD_57.png\n",
            " saving result files_demo_ex/IDRiD_57.png\n"
          ]
        },
        {
          "output_type": "stream",
          "name": "stderr",
          "text": [
            "\r 11%|█         | 3/27 [00:06<00:47,  1.96s/it]"
          ]
        },
        {
          "output_type": "stream",
          "name": "stdout",
          "text": [
            "IDRiD_58\n",
            "255 1.0\n",
            " saving result files_demo_od/IDRiD_58.png\n",
            " saving result files_demo_he/IDRiD_58.png\n",
            " saving result files_demo_ex/IDRiD_58.png\n"
          ]
        },
        {
          "output_type": "stream",
          "name": "stderr",
          "text": [
            "\r 15%|█▍        | 4/27 [00:07<00:42,  1.85s/it]"
          ]
        },
        {
          "output_type": "stream",
          "name": "stdout",
          "text": [
            "IDRiD_59\n",
            "255 1.0\n",
            " saving result files_demo_od/IDRiD_59.png\n",
            " saving result files_demo_he/IDRiD_59.png\n",
            " saving result files_demo_ex/IDRiD_59.png\n"
          ]
        },
        {
          "output_type": "stream",
          "name": "stderr",
          "text": [
            "\r 19%|█▊        | 5/27 [00:09<00:40,  1.84s/it]"
          ]
        },
        {
          "output_type": "stream",
          "name": "stdout",
          "text": [
            "IDRiD_60\n",
            "255 1.0\n",
            " saving result files_demo_od/IDRiD_60.png\n",
            " saving result files_demo_he/IDRiD_60.png\n",
            " saving result files_demo_ex/IDRiD_60.png\n"
          ]
        },
        {
          "output_type": "stream",
          "name": "stderr",
          "text": [
            "\r 22%|██▏       | 6/27 [00:11<00:37,  1.78s/it]"
          ]
        },
        {
          "output_type": "stream",
          "name": "stdout",
          "text": [
            "IDRiD_61\n",
            "255 1.0\n",
            " saving result files_demo_od/IDRiD_61.png\n",
            " saving result files_demo_he/IDRiD_61.png\n",
            " saving result files_demo_ex/IDRiD_61.png\n"
          ]
        },
        {
          "output_type": "stream",
          "name": "stderr",
          "text": [
            "\r 26%|██▌       | 7/27 [00:12<00:35,  1.78s/it]"
          ]
        },
        {
          "output_type": "stream",
          "name": "stdout",
          "text": [
            "IDRiD_62\n",
            "255 1.0\n",
            " saving result files_demo_od/IDRiD_62.png\n",
            " saving result files_demo_he/IDRiD_62.png\n",
            " saving result files_demo_ex/IDRiD_62.png\n"
          ]
        },
        {
          "output_type": "stream",
          "name": "stderr",
          "text": [
            "\r 30%|██▉       | 8/27 [00:14<00:32,  1.73s/it]"
          ]
        },
        {
          "output_type": "stream",
          "name": "stdout",
          "text": [
            "IDRiD_63\n",
            "255 1.0\n",
            " saving result files_demo_od/IDRiD_63.png\n",
            " saving result files_demo_he/IDRiD_63.png\n",
            " saving result files_demo_ex/IDRiD_63.png\n"
          ]
        },
        {
          "output_type": "stream",
          "name": "stderr",
          "text": [
            "\r 33%|███▎      | 9/27 [00:16<00:30,  1.71s/it]"
          ]
        },
        {
          "output_type": "stream",
          "name": "stdout",
          "text": [
            "IDRiD_64\n",
            "255 1.0\n",
            " saving result files_demo_od/IDRiD_64.png\n",
            " saving result files_demo_he/IDRiD_64.png\n",
            " saving result files_demo_ex/IDRiD_64.png\n"
          ]
        },
        {
          "output_type": "stream",
          "name": "stderr",
          "text": [
            "\r 37%|███▋      | 10/27 [00:18<00:29,  1.74s/it]"
          ]
        },
        {
          "output_type": "stream",
          "name": "stdout",
          "text": [
            "IDRiD_65\n",
            "255 1.0\n",
            " saving result files_demo_od/IDRiD_65.png\n",
            " saving result files_demo_he/IDRiD_65.png\n",
            " saving result files_demo_ex/IDRiD_65.png\n"
          ]
        },
        {
          "output_type": "stream",
          "name": "stderr",
          "text": [
            "\r 41%|████      | 11/27 [00:19<00:27,  1.73s/it]"
          ]
        },
        {
          "output_type": "stream",
          "name": "stdout",
          "text": [
            "IDRiD_66\n",
            "255 1.0\n",
            " saving result files_demo_od/IDRiD_66.png\n",
            " saving result files_demo_he/IDRiD_66.png\n",
            " saving result files_demo_ex/IDRiD_66.png\n"
          ]
        },
        {
          "output_type": "stream",
          "name": "stderr",
          "text": [
            "\r 44%|████▍     | 12/27 [00:21<00:26,  1.76s/it]"
          ]
        },
        {
          "output_type": "stream",
          "name": "stdout",
          "text": [
            "IDRiD_67\n",
            "255 1.0\n",
            " saving result files_demo_od/IDRiD_67.png\n",
            " saving result files_demo_he/IDRiD_67.png\n",
            " saving result files_demo_ex/IDRiD_67.png\n"
          ]
        },
        {
          "output_type": "stream",
          "name": "stderr",
          "text": [
            "\r 48%|████▊     | 13/27 [00:23<00:24,  1.72s/it]"
          ]
        },
        {
          "output_type": "stream",
          "name": "stdout",
          "text": [
            "IDRiD_68\n",
            "255 1.0\n",
            " saving result files_demo_od/IDRiD_68.png\n",
            " saving result files_demo_he/IDRiD_68.png\n",
            " saving result files_demo_ex/IDRiD_68.png\n"
          ]
        },
        {
          "output_type": "stream",
          "name": "stderr",
          "text": [
            "\r 52%|█████▏    | 14/27 [00:24<00:22,  1.71s/it]"
          ]
        },
        {
          "output_type": "stream",
          "name": "stdout",
          "text": [
            "IDRiD_69\n",
            "255 1.0\n",
            " saving result files_demo_od/IDRiD_69.png\n",
            " saving result files_demo_he/IDRiD_69.png\n",
            " saving result files_demo_ex/IDRiD_69.png\n"
          ]
        },
        {
          "output_type": "stream",
          "name": "stderr",
          "text": [
            "\r 56%|█████▌    | 15/27 [00:26<00:20,  1.71s/it]"
          ]
        },
        {
          "output_type": "stream",
          "name": "stdout",
          "text": [
            "IDRiD_70\n",
            "255 1.0\n",
            " saving result files_demo_od/IDRiD_70.png\n",
            " saving result files_demo_he/IDRiD_70.png\n",
            " saving result files_demo_ex/IDRiD_70.png\n"
          ]
        },
        {
          "output_type": "stream",
          "name": "stderr",
          "text": [
            "\r 59%|█████▉    | 16/27 [00:28<00:19,  1.77s/it]"
          ]
        },
        {
          "output_type": "stream",
          "name": "stdout",
          "text": [
            "IDRiD_71\n",
            "255 1.0\n",
            " saving result files_demo_od/IDRiD_71.png\n",
            " saving result files_demo_he/IDRiD_71.png\n",
            " saving result files_demo_ex/IDRiD_71.png\n"
          ]
        },
        {
          "output_type": "stream",
          "name": "stderr",
          "text": [
            "\r 63%|██████▎   | 17/27 [00:30<00:18,  1.82s/it]"
          ]
        },
        {
          "output_type": "stream",
          "name": "stdout",
          "text": [
            "IDRiD_72\n",
            "255 1.0\n",
            " saving result files_demo_od/IDRiD_72.png\n",
            " saving result files_demo_he/IDRiD_72.png\n",
            " saving result files_demo_ex/IDRiD_72.png\n"
          ]
        },
        {
          "output_type": "stream",
          "name": "stderr",
          "text": [
            "\r 67%|██████▋   | 18/27 [00:32<00:16,  1.78s/it]"
          ]
        },
        {
          "output_type": "stream",
          "name": "stdout",
          "text": [
            "IDRiD_73\n",
            "255 1.0\n",
            " saving result files_demo_od/IDRiD_73.png\n",
            " saving result files_demo_he/IDRiD_73.png\n",
            " saving result files_demo_ex/IDRiD_73.png\n"
          ]
        },
        {
          "output_type": "stream",
          "name": "stderr",
          "text": [
            "\r 70%|███████   | 19/27 [00:33<00:14,  1.77s/it]"
          ]
        },
        {
          "output_type": "stream",
          "name": "stdout",
          "text": [
            "IDRiD_74\n",
            "255 1.0\n",
            " saving result files_demo_od/IDRiD_74.png\n",
            " saving result files_demo_he/IDRiD_74.png\n",
            " saving result files_demo_ex/IDRiD_74.png\n"
          ]
        },
        {
          "output_type": "stream",
          "name": "stderr",
          "text": [
            "\r 74%|███████▍  | 20/27 [00:35<00:12,  1.76s/it]"
          ]
        },
        {
          "output_type": "stream",
          "name": "stdout",
          "text": [
            "IDRiD_75\n",
            "255 1.0\n",
            " saving result files_demo_od/IDRiD_75.png\n",
            " saving result files_demo_he/IDRiD_75.png\n",
            " saving result files_demo_ex/IDRiD_75.png\n"
          ]
        },
        {
          "output_type": "stream",
          "name": "stderr",
          "text": [
            "\r 78%|███████▊  | 21/27 [00:37<00:10,  1.79s/it]"
          ]
        },
        {
          "output_type": "stream",
          "name": "stdout",
          "text": [
            "IDRiD_76\n",
            "255 1.0\n",
            " saving result files_demo_od/IDRiD_76.png\n",
            " saving result files_demo_he/IDRiD_76.png\n",
            " saving result files_demo_ex/IDRiD_76.png\n"
          ]
        },
        {
          "output_type": "stream",
          "name": "stderr",
          "text": [
            "\r 81%|████████▏ | 22/27 [00:39<00:09,  1.82s/it]"
          ]
        },
        {
          "output_type": "stream",
          "name": "stdout",
          "text": [
            "IDRiD_77\n",
            "255 1.0\n",
            " saving result files_demo_od/IDRiD_77.png\n",
            " saving result files_demo_he/IDRiD_77.png\n",
            " saving result files_demo_ex/IDRiD_77.png\n"
          ]
        },
        {
          "output_type": "stream",
          "name": "stderr",
          "text": [
            "\r 85%|████████▌ | 23/27 [00:41<00:07,  1.78s/it]"
          ]
        },
        {
          "output_type": "stream",
          "name": "stdout",
          "text": [
            "IDRiD_78\n",
            "255 1.0\n",
            " saving result files_demo_od/IDRiD_78.png\n",
            " saving result files_demo_he/IDRiD_78.png\n",
            " saving result files_demo_ex/IDRiD_78.png\n"
          ]
        },
        {
          "output_type": "stream",
          "name": "stderr",
          "text": [
            "\r 89%|████████▉ | 24/27 [00:42<00:05,  1.75s/it]"
          ]
        },
        {
          "output_type": "stream",
          "name": "stdout",
          "text": [
            "IDRiD_79\n",
            "255 1.0\n",
            " saving result files_demo_od/IDRiD_79.png\n",
            " saving result files_demo_he/IDRiD_79.png\n",
            " saving result files_demo_ex/IDRiD_79.png\n"
          ]
        },
        {
          "output_type": "stream",
          "name": "stderr",
          "text": [
            "\r 93%|█████████▎| 25/27 [00:44<00:03,  1.74s/it]"
          ]
        },
        {
          "output_type": "stream",
          "name": "stdout",
          "text": [
            "IDRiD_80\n",
            "255 1.0\n",
            " saving result files_demo_od/IDRiD_80.png\n",
            " saving result files_demo_he/IDRiD_80.png\n",
            " saving result files_demo_ex/IDRiD_80.png\n"
          ]
        },
        {
          "output_type": "stream",
          "name": "stderr",
          "text": [
            "\r 96%|█████████▋| 26/27 [00:46<00:01,  1.71s/it]"
          ]
        },
        {
          "output_type": "stream",
          "name": "stdout",
          "text": [
            "IDRiD_81\n",
            "255 1.0\n",
            " saving result files_demo_od/IDRiD_81.png\n",
            " saving result files_demo_he/IDRiD_81.png\n",
            " saving result files_demo_ex/IDRiD_81.png\n"
          ]
        },
        {
          "output_type": "stream",
          "name": "stderr",
          "text": [
            "100%|██████████| 27/27 [00:48<00:00,  1.78s/it]"
          ]
        },
        {
          "output_type": "stream",
          "name": "stdout",
          "text": [
            "\n",
            "\n",
            "****** OD Metrics ******\n",
            "Accuracy: 0.99817\n",
            "F1: 0.93446 (dice score)\n",
            "AUC: 0.93446 (Auc score)\n",
            "Jaccard: 0.89010\n",
            "Recall: 0.91859\n",
            "Precision: 0.96640\n",
            "\n",
            "\n",
            "****** HE Metrics ******\n",
            "Accuracy: 0.99013\n",
            "F1: 0.40527 (dice score)\n",
            "AUC: 0.40527 (Auc score)\n",
            "Jaccard: 0.27643\n",
            "Recall: 0.32759\n",
            "Precision: 0.66441\n",
            "\n",
            "\n",
            "****** EX Metrics ******\n",
            "Accuracy: 0.99487\n",
            "F1: 0.59597 (dice score)\n",
            "AUC: 0.59597 (Auc score)\n",
            "Jaccard: 0.44927\n",
            "Recall: 0.53233\n",
            "Precision: 0.96640\n",
            "\n",
            "\n"
          ]
        },
        {
          "output_type": "stream",
          "name": "stderr",
          "text": [
            "\n"
          ]
        }
      ]
    }
  ]
}