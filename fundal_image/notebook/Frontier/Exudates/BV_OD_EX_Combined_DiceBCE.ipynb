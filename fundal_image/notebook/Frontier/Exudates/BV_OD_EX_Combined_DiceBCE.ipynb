{
  "cells": [
    {
      "cell_type": "markdown",
      "metadata": {
        "id": "ZIUz94YO5Y0x"
      },
      "source": [
        "### Import the required libraries and modules:"
      ]
    },
    {
      "cell_type": "code",
      "execution_count": null,
      "metadata": {
        "id": "RN5vXWIK27Lr"
      },
      "outputs": [],
      "source": [
        "import tensorflow as tf\n",
        "from tensorflow.keras.layers import Conv2D, BatchNormalization, Activation, MaxPool2D, Conv2DTranspose, Concatenate, Input\n",
        "from tensorflow.keras.models import Model\n",
        "from tensorflow.keras import backend as K\n",
        "import os\n",
        "os.environ[\"TF_CPP_MIN_LOG_LEVEL\"] = \"2\"\n",
        "import numpy as np\n",
        "import cv2\n",
        "from glob import glob\n",
        "from sklearn.utils import shuffle\n",
        "import tensorflow as tf\n",
        "from tensorflow.keras.callbacks import ModelCheckpoint, CSVLogger, ReduceLROnPlateau, EarlyStopping, TensorBoard\n",
        "from tensorflow.keras.optimizers import Adam\n",
        "from tensorflow.keras.metrics import Recall, Precision\n",
        "import numpy as np"
      ]
    },
    {
      "cell_type": "markdown",
      "metadata": {
        "id": "MQcINXFE59yv"
      },
      "source": [
        "### Unzip the data:"
      ]
    },
    {
      "cell_type": "code",
      "execution_count": null,
      "metadata": {
        "colab": {
          "base_uri": "https://localhost:8080/"
        },
        "id": "rx3CS_MbV06K",
        "outputId": "e296568c-5f49-4ee7-b7d4-6a2fb76486cd"
      },
      "outputs": [
        {
          "output_type": "stream",
          "name": "stdout",
          "text": [
            "Mounted at /content/gdrive\n",
            "/content/gdrive/MyDrive/1_All_Computations/BV_OD_EX_DiceBCE\n"
          ]
        }
      ],
      "source": [
        "from google.colab import drive\n",
        "drive.mount(\"/content/gdrive\", force_remount=True)\n",
        "%cd /content/gdrive/MyDrive/1_All_Computations/BV_OD_EX_DiceBCE"
      ]
    },
    {
      "cell_type": "code",
      "execution_count": null,
      "metadata": {
        "id": "mA5voGSj58wH",
        "colab": {
          "base_uri": "https://localhost:8080/"
        },
        "outputId": "4c9f147d-76b2-42df-8776-71c87b9bf6c7"
      },
      "outputs": [
        {
          "output_type": "stream",
          "name": "stdout",
          "text": [
            "Archive:  new_data_augment.zip\n",
            "   creating: new_data_augment/\n",
            "   creating: new_data_augment/test/\n",
            "   creating: new_data_augment/test/image/\n",
            "  inflating: new_data_augment/test/image/IDRiD_55.jpg  \n",
            "  inflating: new_data_augment/test/image/IDRiD_56.jpg  \n",
            "  inflating: new_data_augment/test/image/IDRiD_57.jpg  \n",
            "  inflating: new_data_augment/test/image/IDRiD_58.jpg  \n",
            "  inflating: new_data_augment/test/image/IDRiD_59.jpg  \n",
            "  inflating: new_data_augment/test/image/IDRiD_60.jpg  \n",
            "  inflating: new_data_augment/test/image/IDRiD_61.jpg  \n",
            "  inflating: new_data_augment/test/image/IDRiD_62.jpg  \n",
            "  inflating: new_data_augment/test/image/IDRiD_63.jpg  \n",
            "  inflating: new_data_augment/test/image/IDRiD_64.jpg  \n",
            "  inflating: new_data_augment/test/image/IDRiD_65.jpg  \n",
            "  inflating: new_data_augment/test/image/IDRiD_66.jpg  \n",
            "  inflating: new_data_augment/test/image/IDRiD_67.jpg  \n",
            "  inflating: new_data_augment/test/image/IDRiD_68.jpg  \n",
            "  inflating: new_data_augment/test/image/IDRiD_69.jpg  \n",
            "  inflating: new_data_augment/test/image/IDRiD_70.jpg  \n",
            "  inflating: new_data_augment/test/image/IDRiD_71.jpg  \n",
            "  inflating: new_data_augment/test/image/IDRiD_72.jpg  \n",
            "  inflating: new_data_augment/test/image/IDRiD_73.jpg  \n",
            "  inflating: new_data_augment/test/image/IDRiD_74.jpg  \n",
            "  inflating: new_data_augment/test/image/IDRiD_75.jpg  \n",
            "  inflating: new_data_augment/test/image/IDRiD_76.jpg  \n",
            "  inflating: new_data_augment/test/image/IDRiD_77.jpg  \n",
            "  inflating: new_data_augment/test/image/IDRiD_78.jpg  \n",
            "  inflating: new_data_augment/test/image/IDRiD_79.jpg  \n",
            "  inflating: new_data_augment/test/image/IDRiD_80.jpg  \n",
            "  inflating: new_data_augment/test/image/IDRiD_81.jpg  \n",
            "   creating: new_data_augment/test/mask/\n",
            "  inflating: new_data_augment/test/mask/IDRiD_55.jpg  \n",
            "  inflating: new_data_augment/test/mask/IDRiD_56.jpg  \n",
            "  inflating: new_data_augment/test/mask/IDRiD_57.jpg  \n",
            "  inflating: new_data_augment/test/mask/IDRiD_58.jpg  \n",
            "  inflating: new_data_augment/test/mask/IDRiD_59.jpg  \n",
            "  inflating: new_data_augment/test/mask/IDRiD_60.jpg  \n",
            "  inflating: new_data_augment/test/mask/IDRiD_61.jpg  \n",
            "  inflating: new_data_augment/test/mask/IDRiD_62.jpg  \n",
            "  inflating: new_data_augment/test/mask/IDRiD_63.jpg  \n",
            "  inflating: new_data_augment/test/mask/IDRiD_64.jpg  \n",
            "  inflating: new_data_augment/test/mask/IDRiD_65.jpg  \n",
            "  inflating: new_data_augment/test/mask/IDRiD_66.jpg  \n",
            "  inflating: new_data_augment/test/mask/IDRiD_67.jpg  \n",
            "  inflating: new_data_augment/test/mask/IDRiD_68.jpg  \n",
            "  inflating: new_data_augment/test/mask/IDRiD_69.jpg  \n",
            "  inflating: new_data_augment/test/mask/IDRiD_70.jpg  \n",
            "  inflating: new_data_augment/test/mask/IDRiD_71.jpg  \n",
            "  inflating: new_data_augment/test/mask/IDRiD_72.jpg  \n",
            "  inflating: new_data_augment/test/mask/IDRiD_73.jpg  \n",
            "  inflating: new_data_augment/test/mask/IDRiD_74.jpg  \n",
            "  inflating: new_data_augment/test/mask/IDRiD_75.jpg  \n",
            "  inflating: new_data_augment/test/mask/IDRiD_76.jpg  \n",
            "  inflating: new_data_augment/test/mask/IDRiD_77.jpg  \n",
            "  inflating: new_data_augment/test/mask/IDRiD_78.jpg  \n",
            "  inflating: new_data_augment/test/mask/IDRiD_79.jpg  \n",
            "  inflating: new_data_augment/test/mask/IDRiD_80.jpg  \n",
            "  inflating: new_data_augment/test/mask/IDRiD_81.jpg  \n",
            "   creating: new_data_augment/train/\n",
            "   creating: new_data_augment/train/image/\n",
            "  inflating: new_data_augment/train/image/IDRiD_01_0.jpg  \n",
            "  inflating: new_data_augment/train/image/IDRiD_01_1.jpg  \n",
            "  inflating: new_data_augment/train/image/IDRiD_01_2.jpg  \n",
            "  inflating: new_data_augment/train/image/IDRiD_01_3.jpg  \n",
            "  inflating: new_data_augment/train/image/IDRiD_01_4.jpg  \n",
            "  inflating: new_data_augment/train/image/IDRiD_01_5.jpg  \n",
            "  inflating: new_data_augment/train/image/IDRiD_02_0.jpg  \n",
            "  inflating: new_data_augment/train/image/IDRiD_02_1.jpg  \n",
            "  inflating: new_data_augment/train/image/IDRiD_02_2.jpg  \n",
            "  inflating: new_data_augment/train/image/IDRiD_02_3.jpg  \n",
            "  inflating: new_data_augment/train/image/IDRiD_02_4.jpg  \n",
            "  inflating: new_data_augment/train/image/IDRiD_02_5.jpg  \n",
            "  inflating: new_data_augment/train/image/IDRiD_03_0.jpg  \n",
            "  inflating: new_data_augment/train/image/IDRiD_03_1.jpg  \n",
            "  inflating: new_data_augment/train/image/IDRiD_03_2.jpg  \n",
            "  inflating: new_data_augment/train/image/IDRiD_03_3.jpg  \n",
            "  inflating: new_data_augment/train/image/IDRiD_03_4.jpg  \n",
            "  inflating: new_data_augment/train/image/IDRiD_03_5.jpg  \n",
            "  inflating: new_data_augment/train/image/IDRiD_04_0.jpg  \n",
            "  inflating: new_data_augment/train/image/IDRiD_04_1.jpg  \n",
            "  inflating: new_data_augment/train/image/IDRiD_04_2.jpg  \n",
            "  inflating: new_data_augment/train/image/IDRiD_04_3.jpg  \n",
            "  inflating: new_data_augment/train/image/IDRiD_04_4.jpg  \n",
            "  inflating: new_data_augment/train/image/IDRiD_04_5.jpg  \n",
            "  inflating: new_data_augment/train/image/IDRiD_05_0.jpg  \n",
            "  inflating: new_data_augment/train/image/IDRiD_05_1.jpg  \n",
            "  inflating: new_data_augment/train/image/IDRiD_05_2.jpg  \n",
            "  inflating: new_data_augment/train/image/IDRiD_05_3.jpg  \n",
            "  inflating: new_data_augment/train/image/IDRiD_05_4.jpg  \n",
            "  inflating: new_data_augment/train/image/IDRiD_05_5.jpg  \n",
            "  inflating: new_data_augment/train/image/IDRiD_06_0.jpg  \n",
            "  inflating: new_data_augment/train/image/IDRiD_06_1.jpg  \n",
            "  inflating: new_data_augment/train/image/IDRiD_06_2.jpg  \n",
            "  inflating: new_data_augment/train/image/IDRiD_06_3.jpg  \n",
            "  inflating: new_data_augment/train/image/IDRiD_06_4.jpg  \n",
            "  inflating: new_data_augment/train/image/IDRiD_06_5.jpg  \n",
            "  inflating: new_data_augment/train/image/IDRiD_07_0.jpg  \n",
            "  inflating: new_data_augment/train/image/IDRiD_07_1.jpg  \n",
            "  inflating: new_data_augment/train/image/IDRiD_07_2.jpg  \n",
            "  inflating: new_data_augment/train/image/IDRiD_07_3.jpg  \n",
            "  inflating: new_data_augment/train/image/IDRiD_07_4.jpg  \n",
            "  inflating: new_data_augment/train/image/IDRiD_07_5.jpg  \n",
            "  inflating: new_data_augment/train/image/IDRiD_08_0.jpg  \n",
            "  inflating: new_data_augment/train/image/IDRiD_08_1.jpg  \n",
            "  inflating: new_data_augment/train/image/IDRiD_08_2.jpg  \n",
            "  inflating: new_data_augment/train/image/IDRiD_08_3.jpg  \n",
            "  inflating: new_data_augment/train/image/IDRiD_08_4.jpg  \n",
            "  inflating: new_data_augment/train/image/IDRiD_08_5.jpg  \n",
            "  inflating: new_data_augment/train/image/IDRiD_09_0.jpg  \n",
            "  inflating: new_data_augment/train/image/IDRiD_09_1.jpg  \n",
            "  inflating: new_data_augment/train/image/IDRiD_09_2.jpg  \n",
            "  inflating: new_data_augment/train/image/IDRiD_09_3.jpg  \n",
            "  inflating: new_data_augment/train/image/IDRiD_09_4.jpg  \n",
            "  inflating: new_data_augment/train/image/IDRiD_09_5.jpg  \n",
            "  inflating: new_data_augment/train/image/IDRiD_10_0.jpg  \n",
            "  inflating: new_data_augment/train/image/IDRiD_10_1.jpg  \n",
            "  inflating: new_data_augment/train/image/IDRiD_10_2.jpg  \n",
            "  inflating: new_data_augment/train/image/IDRiD_10_3.jpg  \n",
            "  inflating: new_data_augment/train/image/IDRiD_10_4.jpg  \n",
            "  inflating: new_data_augment/train/image/IDRiD_10_5.jpg  \n",
            "  inflating: new_data_augment/train/image/IDRiD_11_0.jpg  \n",
            "  inflating: new_data_augment/train/image/IDRiD_11_1.jpg  \n",
            "  inflating: new_data_augment/train/image/IDRiD_11_2.jpg  \n",
            "  inflating: new_data_augment/train/image/IDRiD_11_3.jpg  \n",
            "  inflating: new_data_augment/train/image/IDRiD_11_4.jpg  \n",
            "  inflating: new_data_augment/train/image/IDRiD_11_5.jpg  \n",
            "  inflating: new_data_augment/train/image/IDRiD_12_0.jpg  \n",
            "  inflating: new_data_augment/train/image/IDRiD_12_1.jpg  \n",
            "  inflating: new_data_augment/train/image/IDRiD_12_2.jpg  \n",
            "  inflating: new_data_augment/train/image/IDRiD_12_3.jpg  \n",
            "  inflating: new_data_augment/train/image/IDRiD_12_4.jpg  \n",
            "  inflating: new_data_augment/train/image/IDRiD_12_5.jpg  \n",
            "  inflating: new_data_augment/train/image/IDRiD_13_0.jpg  \n",
            "  inflating: new_data_augment/train/image/IDRiD_13_1.jpg  \n",
            "  inflating: new_data_augment/train/image/IDRiD_13_2.jpg  \n",
            "  inflating: new_data_augment/train/image/IDRiD_13_3.jpg  \n",
            "  inflating: new_data_augment/train/image/IDRiD_13_4.jpg  \n",
            "  inflating: new_data_augment/train/image/IDRiD_13_5.jpg  \n",
            "  inflating: new_data_augment/train/image/IDRiD_14_0.jpg  \n",
            "  inflating: new_data_augment/train/image/IDRiD_14_1.jpg  \n",
            "  inflating: new_data_augment/train/image/IDRiD_14_2.jpg  \n",
            "  inflating: new_data_augment/train/image/IDRiD_14_3.jpg  \n",
            "  inflating: new_data_augment/train/image/IDRiD_14_4.jpg  \n",
            "  inflating: new_data_augment/train/image/IDRiD_14_5.jpg  \n",
            "  inflating: new_data_augment/train/image/IDRiD_15_0.jpg  \n",
            "  inflating: new_data_augment/train/image/IDRiD_15_1.jpg  \n",
            "  inflating: new_data_augment/train/image/IDRiD_15_2.jpg  \n",
            "  inflating: new_data_augment/train/image/IDRiD_15_3.jpg  \n",
            "  inflating: new_data_augment/train/image/IDRiD_15_4.jpg  \n",
            "  inflating: new_data_augment/train/image/IDRiD_15_5.jpg  \n",
            "  inflating: new_data_augment/train/image/IDRiD_16_0.jpg  \n",
            "  inflating: new_data_augment/train/image/IDRiD_16_1.jpg  \n",
            "  inflating: new_data_augment/train/image/IDRiD_16_2.jpg  \n",
            "  inflating: new_data_augment/train/image/IDRiD_16_3.jpg  \n",
            "  inflating: new_data_augment/train/image/IDRiD_16_4.jpg  \n",
            "  inflating: new_data_augment/train/image/IDRiD_16_5.jpg  \n",
            "  inflating: new_data_augment/train/image/IDRiD_17_0.jpg  \n",
            "  inflating: new_data_augment/train/image/IDRiD_17_1.jpg  \n",
            "  inflating: new_data_augment/train/image/IDRiD_17_2.jpg  \n",
            "  inflating: new_data_augment/train/image/IDRiD_17_3.jpg  \n",
            "  inflating: new_data_augment/train/image/IDRiD_17_4.jpg  \n",
            "  inflating: new_data_augment/train/image/IDRiD_17_5.jpg  \n",
            "  inflating: new_data_augment/train/image/IDRiD_18_0.jpg  \n",
            "  inflating: new_data_augment/train/image/IDRiD_18_1.jpg  \n",
            "  inflating: new_data_augment/train/image/IDRiD_18_2.jpg  \n",
            "  inflating: new_data_augment/train/image/IDRiD_18_3.jpg  \n",
            "  inflating: new_data_augment/train/image/IDRiD_18_4.jpg  \n",
            "  inflating: new_data_augment/train/image/IDRiD_18_5.jpg  \n",
            "  inflating: new_data_augment/train/image/IDRiD_19_0.jpg  \n",
            "  inflating: new_data_augment/train/image/IDRiD_19_1.jpg  \n",
            "  inflating: new_data_augment/train/image/IDRiD_19_2.jpg  \n",
            "  inflating: new_data_augment/train/image/IDRiD_19_3.jpg  \n",
            "  inflating: new_data_augment/train/image/IDRiD_19_4.jpg  \n",
            "  inflating: new_data_augment/train/image/IDRiD_19_5.jpg  \n",
            "  inflating: new_data_augment/train/image/IDRiD_20_0.jpg  \n",
            "  inflating: new_data_augment/train/image/IDRiD_20_1.jpg  \n",
            "  inflating: new_data_augment/train/image/IDRiD_20_2.jpg  \n",
            "  inflating: new_data_augment/train/image/IDRiD_20_3.jpg  \n",
            "  inflating: new_data_augment/train/image/IDRiD_20_4.jpg  \n",
            "  inflating: new_data_augment/train/image/IDRiD_20_5.jpg  \n",
            "  inflating: new_data_augment/train/image/IDRiD_21_0.jpg  \n",
            "  inflating: new_data_augment/train/image/IDRiD_21_1.jpg  \n",
            "  inflating: new_data_augment/train/image/IDRiD_21_2.jpg  \n",
            "  inflating: new_data_augment/train/image/IDRiD_21_3.jpg  \n",
            "  inflating: new_data_augment/train/image/IDRiD_21_4.jpg  \n",
            "  inflating: new_data_augment/train/image/IDRiD_21_5.jpg  \n",
            "  inflating: new_data_augment/train/image/IDRiD_22_0.jpg  \n",
            "  inflating: new_data_augment/train/image/IDRiD_22_1.jpg  \n",
            "  inflating: new_data_augment/train/image/IDRiD_22_2.jpg  \n",
            "  inflating: new_data_augment/train/image/IDRiD_22_3.jpg  \n",
            "  inflating: new_data_augment/train/image/IDRiD_22_4.jpg  \n",
            "  inflating: new_data_augment/train/image/IDRiD_22_5.jpg  \n",
            "  inflating: new_data_augment/train/image/IDRiD_23_0.jpg  \n",
            "  inflating: new_data_augment/train/image/IDRiD_23_1.jpg  \n",
            "  inflating: new_data_augment/train/image/IDRiD_23_2.jpg  \n",
            "  inflating: new_data_augment/train/image/IDRiD_23_3.jpg  \n",
            "  inflating: new_data_augment/train/image/IDRiD_23_4.jpg  \n",
            "  inflating: new_data_augment/train/image/IDRiD_23_5.jpg  \n",
            "  inflating: new_data_augment/train/image/IDRiD_24_0.jpg  \n",
            "  inflating: new_data_augment/train/image/IDRiD_24_1.jpg  \n",
            "  inflating: new_data_augment/train/image/IDRiD_24_2.jpg  \n",
            "  inflating: new_data_augment/train/image/IDRiD_24_3.jpg  \n",
            "  inflating: new_data_augment/train/image/IDRiD_24_4.jpg  \n",
            "  inflating: new_data_augment/train/image/IDRiD_24_5.jpg  \n",
            "  inflating: new_data_augment/train/image/IDRiD_25_0.jpg  \n",
            "  inflating: new_data_augment/train/image/IDRiD_25_1.jpg  \n",
            "  inflating: new_data_augment/train/image/IDRiD_25_2.jpg  \n",
            "  inflating: new_data_augment/train/image/IDRiD_25_3.jpg  \n",
            "  inflating: new_data_augment/train/image/IDRiD_25_4.jpg  \n",
            "  inflating: new_data_augment/train/image/IDRiD_25_5.jpg  \n",
            "  inflating: new_data_augment/train/image/IDRiD_26_0.jpg  \n",
            "  inflating: new_data_augment/train/image/IDRiD_26_1.jpg  \n",
            "  inflating: new_data_augment/train/image/IDRiD_26_2.jpg  \n",
            "  inflating: new_data_augment/train/image/IDRiD_26_3.jpg  \n",
            "  inflating: new_data_augment/train/image/IDRiD_26_4.jpg  \n",
            "  inflating: new_data_augment/train/image/IDRiD_26_5.jpg  \n",
            "  inflating: new_data_augment/train/image/IDRiD_27_0.jpg  \n",
            "  inflating: new_data_augment/train/image/IDRiD_27_1.jpg  \n",
            "  inflating: new_data_augment/train/image/IDRiD_27_2.jpg  \n",
            "  inflating: new_data_augment/train/image/IDRiD_27_3.jpg  \n",
            "  inflating: new_data_augment/train/image/IDRiD_27_4.jpg  \n",
            "  inflating: new_data_augment/train/image/IDRiD_27_5.jpg  \n",
            "  inflating: new_data_augment/train/image/IDRiD_28_0.jpg  \n",
            "  inflating: new_data_augment/train/image/IDRiD_28_1.jpg  \n",
            "  inflating: new_data_augment/train/image/IDRiD_28_2.jpg  \n",
            "  inflating: new_data_augment/train/image/IDRiD_28_3.jpg  \n",
            "  inflating: new_data_augment/train/image/IDRiD_28_4.jpg  \n",
            "  inflating: new_data_augment/train/image/IDRiD_28_5.jpg  \n",
            "  inflating: new_data_augment/train/image/IDRiD_29_0.jpg  \n",
            "  inflating: new_data_augment/train/image/IDRiD_29_1.jpg  \n",
            "  inflating: new_data_augment/train/image/IDRiD_29_2.jpg  \n",
            "  inflating: new_data_augment/train/image/IDRiD_29_3.jpg  \n",
            "  inflating: new_data_augment/train/image/IDRiD_29_4.jpg  \n",
            "  inflating: new_data_augment/train/image/IDRiD_29_5.jpg  \n",
            "  inflating: new_data_augment/train/image/IDRiD_30_0.jpg  \n",
            "  inflating: new_data_augment/train/image/IDRiD_30_1.jpg  \n",
            "  inflating: new_data_augment/train/image/IDRiD_30_2.jpg  \n",
            "  inflating: new_data_augment/train/image/IDRiD_30_3.jpg  \n",
            "  inflating: new_data_augment/train/image/IDRiD_30_4.jpg  \n",
            "  inflating: new_data_augment/train/image/IDRiD_30_5.jpg  \n",
            "  inflating: new_data_augment/train/image/IDRiD_31_0.jpg  \n",
            "  inflating: new_data_augment/train/image/IDRiD_31_1.jpg  \n",
            "  inflating: new_data_augment/train/image/IDRiD_31_2.jpg  \n",
            "  inflating: new_data_augment/train/image/IDRiD_31_3.jpg  \n",
            "  inflating: new_data_augment/train/image/IDRiD_31_4.jpg  \n",
            "  inflating: new_data_augment/train/image/IDRiD_31_5.jpg  \n",
            "  inflating: new_data_augment/train/image/IDRiD_32_0.jpg  \n",
            "  inflating: new_data_augment/train/image/IDRiD_32_1.jpg  \n",
            "  inflating: new_data_augment/train/image/IDRiD_32_2.jpg  \n",
            "  inflating: new_data_augment/train/image/IDRiD_32_3.jpg  \n",
            "  inflating: new_data_augment/train/image/IDRiD_32_4.jpg  \n",
            "  inflating: new_data_augment/train/image/IDRiD_32_5.jpg  \n",
            "  inflating: new_data_augment/train/image/IDRiD_33_0.jpg  \n",
            "  inflating: new_data_augment/train/image/IDRiD_33_1.jpg  \n",
            "  inflating: new_data_augment/train/image/IDRiD_33_2.jpg  \n",
            "  inflating: new_data_augment/train/image/IDRiD_33_3.jpg  \n",
            "  inflating: new_data_augment/train/image/IDRiD_33_4.jpg  \n",
            "  inflating: new_data_augment/train/image/IDRiD_33_5.jpg  \n",
            "  inflating: new_data_augment/train/image/IDRiD_34_0.jpg  \n",
            "  inflating: new_data_augment/train/image/IDRiD_34_1.jpg  \n",
            "  inflating: new_data_augment/train/image/IDRiD_34_2.jpg  \n",
            "  inflating: new_data_augment/train/image/IDRiD_34_3.jpg  \n",
            "  inflating: new_data_augment/train/image/IDRiD_34_4.jpg  \n",
            "  inflating: new_data_augment/train/image/IDRiD_34_5.jpg  \n",
            "  inflating: new_data_augment/train/image/IDRiD_35_0.jpg  \n",
            "  inflating: new_data_augment/train/image/IDRiD_35_1.jpg  \n",
            "  inflating: new_data_augment/train/image/IDRiD_35_2.jpg  \n",
            "  inflating: new_data_augment/train/image/IDRiD_35_3.jpg  \n",
            "  inflating: new_data_augment/train/image/IDRiD_35_4.jpg  \n",
            "  inflating: new_data_augment/train/image/IDRiD_35_5.jpg  \n",
            "  inflating: new_data_augment/train/image/IDRiD_36_0.jpg  \n",
            "  inflating: new_data_augment/train/image/IDRiD_36_1.jpg  \n",
            "  inflating: new_data_augment/train/image/IDRiD_36_2.jpg  \n",
            "  inflating: new_data_augment/train/image/IDRiD_36_3.jpg  \n",
            "  inflating: new_data_augment/train/image/IDRiD_36_4.jpg  \n",
            "  inflating: new_data_augment/train/image/IDRiD_36_5.jpg  \n",
            "  inflating: new_data_augment/train/image/IDRiD_37_0.jpg  \n",
            "  inflating: new_data_augment/train/image/IDRiD_37_1.jpg  \n",
            "  inflating: new_data_augment/train/image/IDRiD_37_2.jpg  \n",
            "  inflating: new_data_augment/train/image/IDRiD_37_3.jpg  \n",
            "  inflating: new_data_augment/train/image/IDRiD_37_4.jpg  \n",
            "  inflating: new_data_augment/train/image/IDRiD_37_5.jpg  \n",
            "  inflating: new_data_augment/train/image/IDRiD_38_0.jpg  \n",
            "  inflating: new_data_augment/train/image/IDRiD_38_1.jpg  \n",
            "  inflating: new_data_augment/train/image/IDRiD_38_2.jpg  \n",
            "  inflating: new_data_augment/train/image/IDRiD_38_3.jpg  \n",
            "  inflating: new_data_augment/train/image/IDRiD_38_4.jpg  \n",
            "  inflating: new_data_augment/train/image/IDRiD_38_5.jpg  \n",
            "  inflating: new_data_augment/train/image/IDRiD_39_0.jpg  \n",
            "  inflating: new_data_augment/train/image/IDRiD_39_1.jpg  \n",
            "  inflating: new_data_augment/train/image/IDRiD_39_2.jpg  \n",
            "  inflating: new_data_augment/train/image/IDRiD_39_3.jpg  \n",
            "  inflating: new_data_augment/train/image/IDRiD_39_4.jpg  \n",
            "  inflating: new_data_augment/train/image/IDRiD_39_5.jpg  \n",
            "  inflating: new_data_augment/train/image/IDRiD_40_0.jpg  \n",
            "  inflating: new_data_augment/train/image/IDRiD_40_1.jpg  \n",
            "  inflating: new_data_augment/train/image/IDRiD_40_2.jpg  \n",
            "  inflating: new_data_augment/train/image/IDRiD_40_3.jpg  \n",
            "  inflating: new_data_augment/train/image/IDRiD_40_4.jpg  \n",
            "  inflating: new_data_augment/train/image/IDRiD_40_5.jpg  \n",
            "  inflating: new_data_augment/train/image/IDRiD_41_0.jpg  \n",
            "  inflating: new_data_augment/train/image/IDRiD_41_1.jpg  \n",
            "  inflating: new_data_augment/train/image/IDRiD_41_2.jpg  \n",
            "  inflating: new_data_augment/train/image/IDRiD_41_3.jpg  \n",
            "  inflating: new_data_augment/train/image/IDRiD_41_4.jpg  \n",
            "  inflating: new_data_augment/train/image/IDRiD_41_5.jpg  \n",
            "  inflating: new_data_augment/train/image/IDRiD_42_0.jpg  \n",
            "  inflating: new_data_augment/train/image/IDRiD_42_1.jpg  \n",
            "  inflating: new_data_augment/train/image/IDRiD_42_2.jpg  \n",
            "  inflating: new_data_augment/train/image/IDRiD_42_3.jpg  \n",
            "  inflating: new_data_augment/train/image/IDRiD_42_4.jpg  \n",
            "  inflating: new_data_augment/train/image/IDRiD_42_5.jpg  \n",
            "  inflating: new_data_augment/train/image/IDRiD_44_0.jpg  \n",
            "  inflating: new_data_augment/train/image/IDRiD_44_1.jpg  \n",
            "  inflating: new_data_augment/train/image/IDRiD_44_2.jpg  \n",
            "  inflating: new_data_augment/train/image/IDRiD_44_3.jpg  \n",
            "  inflating: new_data_augment/train/image/IDRiD_44_4.jpg  \n",
            "  inflating: new_data_augment/train/image/IDRiD_44_5.jpg  \n",
            "  inflating: new_data_augment/train/image/IDRiD_45_0.jpg  \n",
            "  inflating: new_data_augment/train/image/IDRiD_45_1.jpg  \n",
            "  inflating: new_data_augment/train/image/IDRiD_45_2.jpg  \n",
            "  inflating: new_data_augment/train/image/IDRiD_45_3.jpg  \n",
            "  inflating: new_data_augment/train/image/IDRiD_45_4.jpg  \n",
            "  inflating: new_data_augment/train/image/IDRiD_45_5.jpg  \n",
            "  inflating: new_data_augment/train/image/IDRiD_46_0.jpg  \n",
            "  inflating: new_data_augment/train/image/IDRiD_46_1.jpg  \n",
            "  inflating: new_data_augment/train/image/IDRiD_46_2.jpg  \n",
            "  inflating: new_data_augment/train/image/IDRiD_46_3.jpg  \n",
            "  inflating: new_data_augment/train/image/IDRiD_46_4.jpg  \n",
            "  inflating: new_data_augment/train/image/IDRiD_46_5.jpg  \n",
            "  inflating: new_data_augment/train/image/IDRiD_47_0.jpg  \n",
            "  inflating: new_data_augment/train/image/IDRiD_47_1.jpg  \n",
            "  inflating: new_data_augment/train/image/IDRiD_47_2.jpg  \n",
            "  inflating: new_data_augment/train/image/IDRiD_47_3.jpg  \n",
            "  inflating: new_data_augment/train/image/IDRiD_47_4.jpg  \n",
            "  inflating: new_data_augment/train/image/IDRiD_47_5.jpg  \n",
            "  inflating: new_data_augment/train/image/IDRiD_48_0.jpg  \n",
            "  inflating: new_data_augment/train/image/IDRiD_48_1.jpg  \n",
            "  inflating: new_data_augment/train/image/IDRiD_48_2.jpg  \n",
            "  inflating: new_data_augment/train/image/IDRiD_48_3.jpg  \n",
            "  inflating: new_data_augment/train/image/IDRiD_48_4.jpg  \n",
            "  inflating: new_data_augment/train/image/IDRiD_48_5.jpg  \n",
            "  inflating: new_data_augment/train/image/IDRiD_49_0.jpg  \n",
            "  inflating: new_data_augment/train/image/IDRiD_49_1.jpg  \n",
            "  inflating: new_data_augment/train/image/IDRiD_49_2.jpg  \n",
            "  inflating: new_data_augment/train/image/IDRiD_49_3.jpg  \n",
            "  inflating: new_data_augment/train/image/IDRiD_49_4.jpg  \n",
            "  inflating: new_data_augment/train/image/IDRiD_49_5.jpg  \n",
            "  inflating: new_data_augment/train/image/IDRiD_50_0.jpg  \n",
            "  inflating: new_data_augment/train/image/IDRiD_50_1.jpg  \n",
            "  inflating: new_data_augment/train/image/IDRiD_50_2.jpg  \n",
            "  inflating: new_data_augment/train/image/IDRiD_50_3.jpg  \n",
            "  inflating: new_data_augment/train/image/IDRiD_50_4.jpg  \n",
            "  inflating: new_data_augment/train/image/IDRiD_50_5.jpg  \n",
            "  inflating: new_data_augment/train/image/IDRiD_51_0.jpg  \n",
            "  inflating: new_data_augment/train/image/IDRiD_51_1.jpg  \n",
            "  inflating: new_data_augment/train/image/IDRiD_51_2.jpg  \n",
            "  inflating: new_data_augment/train/image/IDRiD_51_3.jpg  \n",
            "  inflating: new_data_augment/train/image/IDRiD_51_4.jpg  \n",
            "  inflating: new_data_augment/train/image/IDRiD_51_5.jpg  \n",
            "  inflating: new_data_augment/train/image/IDRiD_52_0.jpg  \n",
            "  inflating: new_data_augment/train/image/IDRiD_52_1.jpg  \n",
            "  inflating: new_data_augment/train/image/IDRiD_52_2.jpg  \n",
            "  inflating: new_data_augment/train/image/IDRiD_52_3.jpg  \n",
            "  inflating: new_data_augment/train/image/IDRiD_52_4.jpg  \n",
            "  inflating: new_data_augment/train/image/IDRiD_52_5.jpg  \n",
            "  inflating: new_data_augment/train/image/IDRiD_53_0.jpg  \n",
            "  inflating: new_data_augment/train/image/IDRiD_53_1.jpg  \n",
            "  inflating: new_data_augment/train/image/IDRiD_53_2.jpg  \n",
            "  inflating: new_data_augment/train/image/IDRiD_53_3.jpg  \n",
            "  inflating: new_data_augment/train/image/IDRiD_53_4.jpg  \n",
            "  inflating: new_data_augment/train/image/IDRiD_53_5.jpg  \n",
            "  inflating: new_data_augment/train/image/IDRiD_54_0.jpg  \n",
            "  inflating: new_data_augment/train/image/IDRiD_54_1.jpg  \n",
            "  inflating: new_data_augment/train/image/IDRiD_54_2.jpg  \n",
            "  inflating: new_data_augment/train/image/IDRiD_54_3.jpg  \n",
            "  inflating: new_data_augment/train/image/IDRiD_54_4.jpg  \n",
            "  inflating: new_data_augment/train/image/IDRiD_54_5.jpg  \n",
            "   creating: new_data_augment/train/mask/\n",
            "  inflating: new_data_augment/train/mask/IDRiD_01_0.jpg  \n",
            "  inflating: new_data_augment/train/mask/IDRiD_01_1.jpg  \n",
            "  inflating: new_data_augment/train/mask/IDRiD_01_2.jpg  \n",
            "  inflating: new_data_augment/train/mask/IDRiD_01_3.jpg  \n",
            "  inflating: new_data_augment/train/mask/IDRiD_01_4.jpg  \n",
            "  inflating: new_data_augment/train/mask/IDRiD_01_5.jpg  \n",
            "  inflating: new_data_augment/train/mask/IDRiD_02_0.jpg  \n",
            "  inflating: new_data_augment/train/mask/IDRiD_02_1.jpg  \n",
            "  inflating: new_data_augment/train/mask/IDRiD_02_2.jpg  \n",
            "  inflating: new_data_augment/train/mask/IDRiD_02_3.jpg  \n",
            "  inflating: new_data_augment/train/mask/IDRiD_02_4.jpg  \n",
            "  inflating: new_data_augment/train/mask/IDRiD_02_5.jpg  \n",
            "  inflating: new_data_augment/train/mask/IDRiD_03_0.jpg  \n",
            "  inflating: new_data_augment/train/mask/IDRiD_03_1.jpg  \n",
            "  inflating: new_data_augment/train/mask/IDRiD_03_2.jpg  \n",
            "  inflating: new_data_augment/train/mask/IDRiD_03_3.jpg  \n",
            "  inflating: new_data_augment/train/mask/IDRiD_03_4.jpg  \n",
            "  inflating: new_data_augment/train/mask/IDRiD_03_5.jpg  \n",
            "  inflating: new_data_augment/train/mask/IDRiD_04_0.jpg  \n",
            "  inflating: new_data_augment/train/mask/IDRiD_04_1.jpg  \n",
            "  inflating: new_data_augment/train/mask/IDRiD_04_2.jpg  \n",
            "  inflating: new_data_augment/train/mask/IDRiD_04_3.jpg  \n",
            "  inflating: new_data_augment/train/mask/IDRiD_04_4.jpg  \n",
            "  inflating: new_data_augment/train/mask/IDRiD_04_5.jpg  \n",
            "  inflating: new_data_augment/train/mask/IDRiD_05_0.jpg  \n",
            "  inflating: new_data_augment/train/mask/IDRiD_05_1.jpg  \n",
            "  inflating: new_data_augment/train/mask/IDRiD_05_2.jpg  \n",
            "  inflating: new_data_augment/train/mask/IDRiD_05_3.jpg  \n",
            "  inflating: new_data_augment/train/mask/IDRiD_05_4.jpg  \n",
            "  inflating: new_data_augment/train/mask/IDRiD_05_5.jpg  \n",
            "  inflating: new_data_augment/train/mask/IDRiD_06_0.jpg  \n",
            "  inflating: new_data_augment/train/mask/IDRiD_06_1.jpg  \n",
            "  inflating: new_data_augment/train/mask/IDRiD_06_2.jpg  \n",
            "  inflating: new_data_augment/train/mask/IDRiD_06_3.jpg  \n",
            "  inflating: new_data_augment/train/mask/IDRiD_06_4.jpg  \n",
            "  inflating: new_data_augment/train/mask/IDRiD_06_5.jpg  \n",
            "  inflating: new_data_augment/train/mask/IDRiD_07_0.jpg  \n",
            "  inflating: new_data_augment/train/mask/IDRiD_07_1.jpg  \n",
            "  inflating: new_data_augment/train/mask/IDRiD_07_2.jpg  \n",
            "  inflating: new_data_augment/train/mask/IDRiD_07_3.jpg  \n",
            "  inflating: new_data_augment/train/mask/IDRiD_07_4.jpg  \n",
            "  inflating: new_data_augment/train/mask/IDRiD_07_5.jpg  \n",
            "  inflating: new_data_augment/train/mask/IDRiD_08_0.jpg  \n",
            "  inflating: new_data_augment/train/mask/IDRiD_08_1.jpg  \n",
            "  inflating: new_data_augment/train/mask/IDRiD_08_2.jpg  \n",
            "  inflating: new_data_augment/train/mask/IDRiD_08_3.jpg  \n",
            "  inflating: new_data_augment/train/mask/IDRiD_08_4.jpg  \n",
            "  inflating: new_data_augment/train/mask/IDRiD_08_5.jpg  \n",
            "  inflating: new_data_augment/train/mask/IDRiD_09_0.jpg  \n",
            "  inflating: new_data_augment/train/mask/IDRiD_09_1.jpg  \n",
            "  inflating: new_data_augment/train/mask/IDRiD_09_2.jpg  \n",
            "  inflating: new_data_augment/train/mask/IDRiD_09_3.jpg  \n",
            "  inflating: new_data_augment/train/mask/IDRiD_09_4.jpg  \n",
            "  inflating: new_data_augment/train/mask/IDRiD_09_5.jpg  \n",
            "  inflating: new_data_augment/train/mask/IDRiD_10_0.jpg  \n",
            "  inflating: new_data_augment/train/mask/IDRiD_10_1.jpg  \n",
            "  inflating: new_data_augment/train/mask/IDRiD_10_2.jpg  \n",
            "  inflating: new_data_augment/train/mask/IDRiD_10_3.jpg  \n",
            "  inflating: new_data_augment/train/mask/IDRiD_10_4.jpg  \n",
            "  inflating: new_data_augment/train/mask/IDRiD_10_5.jpg  \n",
            "  inflating: new_data_augment/train/mask/IDRiD_11_0.jpg  \n",
            "  inflating: new_data_augment/train/mask/IDRiD_11_1.jpg  \n",
            "  inflating: new_data_augment/train/mask/IDRiD_11_2.jpg  \n",
            "  inflating: new_data_augment/train/mask/IDRiD_11_3.jpg  \n",
            "  inflating: new_data_augment/train/mask/IDRiD_11_4.jpg  \n",
            "  inflating: new_data_augment/train/mask/IDRiD_11_5.jpg  \n",
            "  inflating: new_data_augment/train/mask/IDRiD_12_0.jpg  \n",
            "  inflating: new_data_augment/train/mask/IDRiD_12_1.jpg  \n",
            "  inflating: new_data_augment/train/mask/IDRiD_12_2.jpg  \n",
            "  inflating: new_data_augment/train/mask/IDRiD_12_3.jpg  \n",
            "  inflating: new_data_augment/train/mask/IDRiD_12_4.jpg  \n",
            "  inflating: new_data_augment/train/mask/IDRiD_12_5.jpg  \n",
            "  inflating: new_data_augment/train/mask/IDRiD_13_0.jpg  \n",
            "  inflating: new_data_augment/train/mask/IDRiD_13_1.jpg  \n",
            "  inflating: new_data_augment/train/mask/IDRiD_13_2.jpg  \n",
            "  inflating: new_data_augment/train/mask/IDRiD_13_3.jpg  \n",
            "  inflating: new_data_augment/train/mask/IDRiD_13_4.jpg  \n",
            "  inflating: new_data_augment/train/mask/IDRiD_13_5.jpg  \n",
            "  inflating: new_data_augment/train/mask/IDRiD_14_0.jpg  \n",
            "  inflating: new_data_augment/train/mask/IDRiD_14_1.jpg  \n",
            "  inflating: new_data_augment/train/mask/IDRiD_14_2.jpg  \n",
            "  inflating: new_data_augment/train/mask/IDRiD_14_3.jpg  \n",
            "  inflating: new_data_augment/train/mask/IDRiD_14_4.jpg  \n",
            "  inflating: new_data_augment/train/mask/IDRiD_14_5.jpg  \n",
            "  inflating: new_data_augment/train/mask/IDRiD_15_0.jpg  \n",
            "  inflating: new_data_augment/train/mask/IDRiD_15_1.jpg  \n",
            "  inflating: new_data_augment/train/mask/IDRiD_15_2.jpg  \n",
            "  inflating: new_data_augment/train/mask/IDRiD_15_3.jpg  \n",
            "  inflating: new_data_augment/train/mask/IDRiD_15_4.jpg  \n",
            "  inflating: new_data_augment/train/mask/IDRiD_15_5.jpg  \n",
            "  inflating: new_data_augment/train/mask/IDRiD_16_0.jpg  \n",
            "  inflating: new_data_augment/train/mask/IDRiD_16_1.jpg  \n",
            "  inflating: new_data_augment/train/mask/IDRiD_16_2.jpg  \n",
            "  inflating: new_data_augment/train/mask/IDRiD_16_3.jpg  \n",
            "  inflating: new_data_augment/train/mask/IDRiD_16_4.jpg  \n",
            "  inflating: new_data_augment/train/mask/IDRiD_16_5.jpg  \n",
            "  inflating: new_data_augment/train/mask/IDRiD_17_0.jpg  \n",
            "  inflating: new_data_augment/train/mask/IDRiD_17_1.jpg  \n",
            "  inflating: new_data_augment/train/mask/IDRiD_17_2.jpg  \n",
            "  inflating: new_data_augment/train/mask/IDRiD_17_3.jpg  \n",
            "  inflating: new_data_augment/train/mask/IDRiD_17_4.jpg  \n",
            "  inflating: new_data_augment/train/mask/IDRiD_17_5.jpg  \n",
            "  inflating: new_data_augment/train/mask/IDRiD_18_0.jpg  \n",
            "  inflating: new_data_augment/train/mask/IDRiD_18_1.jpg  \n",
            "  inflating: new_data_augment/train/mask/IDRiD_18_2.jpg  \n",
            "  inflating: new_data_augment/train/mask/IDRiD_18_3.jpg  \n",
            "  inflating: new_data_augment/train/mask/IDRiD_18_4.jpg  \n",
            "  inflating: new_data_augment/train/mask/IDRiD_18_5.jpg  \n",
            "  inflating: new_data_augment/train/mask/IDRiD_19_0.jpg  \n",
            "  inflating: new_data_augment/train/mask/IDRiD_19_1.jpg  \n",
            "  inflating: new_data_augment/train/mask/IDRiD_19_2.jpg  \n",
            "  inflating: new_data_augment/train/mask/IDRiD_19_3.jpg  \n",
            "  inflating: new_data_augment/train/mask/IDRiD_19_4.jpg  \n",
            "  inflating: new_data_augment/train/mask/IDRiD_19_5.jpg  \n",
            "  inflating: new_data_augment/train/mask/IDRiD_20_0.jpg  \n",
            "  inflating: new_data_augment/train/mask/IDRiD_20_1.jpg  \n",
            "  inflating: new_data_augment/train/mask/IDRiD_20_2.jpg  \n",
            "  inflating: new_data_augment/train/mask/IDRiD_20_3.jpg  \n",
            "  inflating: new_data_augment/train/mask/IDRiD_20_4.jpg  \n",
            "  inflating: new_data_augment/train/mask/IDRiD_20_5.jpg  \n",
            "  inflating: new_data_augment/train/mask/IDRiD_21_0.jpg  \n",
            "  inflating: new_data_augment/train/mask/IDRiD_21_1.jpg  \n",
            "  inflating: new_data_augment/train/mask/IDRiD_21_2.jpg  \n",
            "  inflating: new_data_augment/train/mask/IDRiD_21_3.jpg  \n",
            "  inflating: new_data_augment/train/mask/IDRiD_21_4.jpg  \n",
            "  inflating: new_data_augment/train/mask/IDRiD_21_5.jpg  \n",
            "  inflating: new_data_augment/train/mask/IDRiD_22_0.jpg  \n",
            "  inflating: new_data_augment/train/mask/IDRiD_22_1.jpg  \n",
            "  inflating: new_data_augment/train/mask/IDRiD_22_2.jpg  \n",
            "  inflating: new_data_augment/train/mask/IDRiD_22_3.jpg  \n",
            "  inflating: new_data_augment/train/mask/IDRiD_22_4.jpg  \n",
            "  inflating: new_data_augment/train/mask/IDRiD_22_5.jpg  \n",
            "  inflating: new_data_augment/train/mask/IDRiD_23_0.jpg  \n",
            "  inflating: new_data_augment/train/mask/IDRiD_23_1.jpg  \n",
            "  inflating: new_data_augment/train/mask/IDRiD_23_2.jpg  \n",
            "  inflating: new_data_augment/train/mask/IDRiD_23_3.jpg  \n",
            "  inflating: new_data_augment/train/mask/IDRiD_23_4.jpg  \n",
            "  inflating: new_data_augment/train/mask/IDRiD_23_5.jpg  \n",
            "  inflating: new_data_augment/train/mask/IDRiD_24_0.jpg  \n",
            "  inflating: new_data_augment/train/mask/IDRiD_24_1.jpg  \n",
            "  inflating: new_data_augment/train/mask/IDRiD_24_2.jpg  \n",
            "  inflating: new_data_augment/train/mask/IDRiD_24_3.jpg  \n",
            "  inflating: new_data_augment/train/mask/IDRiD_24_4.jpg  \n",
            "  inflating: new_data_augment/train/mask/IDRiD_24_5.jpg  \n",
            "  inflating: new_data_augment/train/mask/IDRiD_25_0.jpg  \n",
            "  inflating: new_data_augment/train/mask/IDRiD_25_1.jpg  \n",
            "  inflating: new_data_augment/train/mask/IDRiD_25_2.jpg  \n",
            "  inflating: new_data_augment/train/mask/IDRiD_25_3.jpg  \n",
            "  inflating: new_data_augment/train/mask/IDRiD_25_4.jpg  \n",
            "  inflating: new_data_augment/train/mask/IDRiD_25_5.jpg  \n",
            "  inflating: new_data_augment/train/mask/IDRiD_26_0.jpg  \n",
            "  inflating: new_data_augment/train/mask/IDRiD_26_1.jpg  \n",
            "  inflating: new_data_augment/train/mask/IDRiD_26_2.jpg  \n",
            "  inflating: new_data_augment/train/mask/IDRiD_26_3.jpg  \n",
            "  inflating: new_data_augment/train/mask/IDRiD_26_4.jpg  \n",
            "  inflating: new_data_augment/train/mask/IDRiD_26_5.jpg  \n",
            "  inflating: new_data_augment/train/mask/IDRiD_27_0.jpg  \n",
            "  inflating: new_data_augment/train/mask/IDRiD_27_1.jpg  \n",
            "  inflating: new_data_augment/train/mask/IDRiD_27_2.jpg  \n",
            "  inflating: new_data_augment/train/mask/IDRiD_27_3.jpg  \n",
            "  inflating: new_data_augment/train/mask/IDRiD_27_4.jpg  \n",
            "  inflating: new_data_augment/train/mask/IDRiD_27_5.jpg  \n",
            "  inflating: new_data_augment/train/mask/IDRiD_28_0.jpg  \n",
            "  inflating: new_data_augment/train/mask/IDRiD_28_1.jpg  \n",
            "  inflating: new_data_augment/train/mask/IDRiD_28_2.jpg  \n",
            "  inflating: new_data_augment/train/mask/IDRiD_28_3.jpg  \n",
            "  inflating: new_data_augment/train/mask/IDRiD_28_4.jpg  \n",
            "  inflating: new_data_augment/train/mask/IDRiD_28_5.jpg  \n",
            "  inflating: new_data_augment/train/mask/IDRiD_29_0.jpg  \n",
            "  inflating: new_data_augment/train/mask/IDRiD_29_1.jpg  \n",
            "  inflating: new_data_augment/train/mask/IDRiD_29_2.jpg  \n",
            "  inflating: new_data_augment/train/mask/IDRiD_29_3.jpg  \n",
            "  inflating: new_data_augment/train/mask/IDRiD_29_4.jpg  \n",
            "  inflating: new_data_augment/train/mask/IDRiD_29_5.jpg  \n",
            "  inflating: new_data_augment/train/mask/IDRiD_30_0.jpg  \n",
            "  inflating: new_data_augment/train/mask/IDRiD_30_1.jpg  \n",
            "  inflating: new_data_augment/train/mask/IDRiD_30_2.jpg  \n",
            "  inflating: new_data_augment/train/mask/IDRiD_30_3.jpg  \n",
            "  inflating: new_data_augment/train/mask/IDRiD_30_4.jpg  \n",
            "  inflating: new_data_augment/train/mask/IDRiD_30_5.jpg  \n",
            "  inflating: new_data_augment/train/mask/IDRiD_31_0.jpg  \n",
            "  inflating: new_data_augment/train/mask/IDRiD_31_1.jpg  \n",
            "  inflating: new_data_augment/train/mask/IDRiD_31_2.jpg  \n",
            "  inflating: new_data_augment/train/mask/IDRiD_31_3.jpg  \n",
            "  inflating: new_data_augment/train/mask/IDRiD_31_4.jpg  \n",
            "  inflating: new_data_augment/train/mask/IDRiD_31_5.jpg  \n",
            "  inflating: new_data_augment/train/mask/IDRiD_32_0.jpg  \n",
            "  inflating: new_data_augment/train/mask/IDRiD_32_1.jpg  \n",
            "  inflating: new_data_augment/train/mask/IDRiD_32_2.jpg  \n",
            "  inflating: new_data_augment/train/mask/IDRiD_32_3.jpg  \n",
            "  inflating: new_data_augment/train/mask/IDRiD_32_4.jpg  \n",
            "  inflating: new_data_augment/train/mask/IDRiD_32_5.jpg  \n",
            "  inflating: new_data_augment/train/mask/IDRiD_33_0.jpg  \n",
            "  inflating: new_data_augment/train/mask/IDRiD_33_1.jpg  \n",
            "  inflating: new_data_augment/train/mask/IDRiD_33_2.jpg  \n",
            "  inflating: new_data_augment/train/mask/IDRiD_33_3.jpg  \n",
            "  inflating: new_data_augment/train/mask/IDRiD_33_4.jpg  \n",
            "  inflating: new_data_augment/train/mask/IDRiD_33_5.jpg  \n",
            "  inflating: new_data_augment/train/mask/IDRiD_34_0.jpg  \n",
            "  inflating: new_data_augment/train/mask/IDRiD_34_1.jpg  \n",
            "  inflating: new_data_augment/train/mask/IDRiD_34_2.jpg  \n",
            "  inflating: new_data_augment/train/mask/IDRiD_34_3.jpg  \n",
            "  inflating: new_data_augment/train/mask/IDRiD_34_4.jpg  \n",
            "  inflating: new_data_augment/train/mask/IDRiD_34_5.jpg  \n",
            "  inflating: new_data_augment/train/mask/IDRiD_35_0.jpg  \n",
            "  inflating: new_data_augment/train/mask/IDRiD_35_1.jpg  \n",
            "  inflating: new_data_augment/train/mask/IDRiD_35_2.jpg  \n",
            "  inflating: new_data_augment/train/mask/IDRiD_35_3.jpg  \n",
            "  inflating: new_data_augment/train/mask/IDRiD_35_4.jpg  \n",
            "  inflating: new_data_augment/train/mask/IDRiD_35_5.jpg  \n",
            "  inflating: new_data_augment/train/mask/IDRiD_36_0.jpg  \n",
            "  inflating: new_data_augment/train/mask/IDRiD_36_1.jpg  \n",
            "  inflating: new_data_augment/train/mask/IDRiD_36_2.jpg  \n",
            "  inflating: new_data_augment/train/mask/IDRiD_36_3.jpg  \n",
            "  inflating: new_data_augment/train/mask/IDRiD_36_4.jpg  \n",
            "  inflating: new_data_augment/train/mask/IDRiD_36_5.jpg  \n",
            "  inflating: new_data_augment/train/mask/IDRiD_37_0.jpg  \n",
            "  inflating: new_data_augment/train/mask/IDRiD_37_1.jpg  \n",
            "  inflating: new_data_augment/train/mask/IDRiD_37_2.jpg  \n",
            "  inflating: new_data_augment/train/mask/IDRiD_37_3.jpg  \n",
            "  inflating: new_data_augment/train/mask/IDRiD_37_4.jpg  \n",
            "  inflating: new_data_augment/train/mask/IDRiD_37_5.jpg  \n",
            "  inflating: new_data_augment/train/mask/IDRiD_38_0.jpg  \n",
            "  inflating: new_data_augment/train/mask/IDRiD_38_1.jpg  \n",
            "  inflating: new_data_augment/train/mask/IDRiD_38_2.jpg  \n",
            "  inflating: new_data_augment/train/mask/IDRiD_38_3.jpg  \n",
            "  inflating: new_data_augment/train/mask/IDRiD_38_4.jpg  \n",
            "  inflating: new_data_augment/train/mask/IDRiD_38_5.jpg  \n",
            "  inflating: new_data_augment/train/mask/IDRiD_39_0.jpg  \n",
            "  inflating: new_data_augment/train/mask/IDRiD_39_1.jpg  \n",
            "  inflating: new_data_augment/train/mask/IDRiD_39_2.jpg  \n",
            "  inflating: new_data_augment/train/mask/IDRiD_39_3.jpg  \n",
            "  inflating: new_data_augment/train/mask/IDRiD_39_4.jpg  \n",
            "  inflating: new_data_augment/train/mask/IDRiD_39_5.jpg  \n",
            "  inflating: new_data_augment/train/mask/IDRiD_40_0.jpg  \n",
            "  inflating: new_data_augment/train/mask/IDRiD_40_1.jpg  \n",
            "  inflating: new_data_augment/train/mask/IDRiD_40_2.jpg  \n",
            "  inflating: new_data_augment/train/mask/IDRiD_40_3.jpg  \n",
            "  inflating: new_data_augment/train/mask/IDRiD_40_4.jpg  \n",
            "  inflating: new_data_augment/train/mask/IDRiD_40_5.jpg  \n",
            "  inflating: new_data_augment/train/mask/IDRiD_41_0.jpg  \n",
            "  inflating: new_data_augment/train/mask/IDRiD_41_1.jpg  \n",
            "  inflating: new_data_augment/train/mask/IDRiD_41_2.jpg  \n",
            "  inflating: new_data_augment/train/mask/IDRiD_41_3.jpg  \n",
            "  inflating: new_data_augment/train/mask/IDRiD_41_4.jpg  \n",
            "  inflating: new_data_augment/train/mask/IDRiD_41_5.jpg  \n",
            "  inflating: new_data_augment/train/mask/IDRiD_42_0.jpg  \n",
            "  inflating: new_data_augment/train/mask/IDRiD_42_1.jpg  \n",
            "  inflating: new_data_augment/train/mask/IDRiD_42_2.jpg  \n",
            "  inflating: new_data_augment/train/mask/IDRiD_42_3.jpg  \n",
            "  inflating: new_data_augment/train/mask/IDRiD_42_4.jpg  \n",
            "  inflating: new_data_augment/train/mask/IDRiD_42_5.jpg  \n",
            "  inflating: new_data_augment/train/mask/IDRiD_44_0.jpg  \n",
            "  inflating: new_data_augment/train/mask/IDRiD_44_1.jpg  \n",
            "  inflating: new_data_augment/train/mask/IDRiD_44_2.jpg  \n",
            "  inflating: new_data_augment/train/mask/IDRiD_44_3.jpg  \n",
            "  inflating: new_data_augment/train/mask/IDRiD_44_4.jpg  \n",
            "  inflating: new_data_augment/train/mask/IDRiD_44_5.jpg  \n",
            "  inflating: new_data_augment/train/mask/IDRiD_45_0.jpg  \n",
            "  inflating: new_data_augment/train/mask/IDRiD_45_1.jpg  \n",
            "  inflating: new_data_augment/train/mask/IDRiD_45_2.jpg  \n",
            "  inflating: new_data_augment/train/mask/IDRiD_45_3.jpg  \n",
            "  inflating: new_data_augment/train/mask/IDRiD_45_4.jpg  \n",
            "  inflating: new_data_augment/train/mask/IDRiD_45_5.jpg  \n",
            "  inflating: new_data_augment/train/mask/IDRiD_46_0.jpg  \n",
            "  inflating: new_data_augment/train/mask/IDRiD_46_1.jpg  \n",
            "  inflating: new_data_augment/train/mask/IDRiD_46_2.jpg  \n",
            "  inflating: new_data_augment/train/mask/IDRiD_46_3.jpg  \n",
            "  inflating: new_data_augment/train/mask/IDRiD_46_4.jpg  \n",
            "  inflating: new_data_augment/train/mask/IDRiD_46_5.jpg  \n",
            "  inflating: new_data_augment/train/mask/IDRiD_47_0.jpg  \n",
            "  inflating: new_data_augment/train/mask/IDRiD_47_1.jpg  \n",
            "  inflating: new_data_augment/train/mask/IDRiD_47_2.jpg  \n",
            "  inflating: new_data_augment/train/mask/IDRiD_47_3.jpg  \n",
            "  inflating: new_data_augment/train/mask/IDRiD_47_4.jpg  \n",
            "  inflating: new_data_augment/train/mask/IDRiD_47_5.jpg  \n",
            "  inflating: new_data_augment/train/mask/IDRiD_48_0.jpg  \n",
            "  inflating: new_data_augment/train/mask/IDRiD_48_1.jpg  \n",
            "  inflating: new_data_augment/train/mask/IDRiD_48_2.jpg  \n",
            "  inflating: new_data_augment/train/mask/IDRiD_48_3.jpg  \n",
            "  inflating: new_data_augment/train/mask/IDRiD_48_4.jpg  \n",
            "  inflating: new_data_augment/train/mask/IDRiD_48_5.jpg  \n",
            "  inflating: new_data_augment/train/mask/IDRiD_49_0.jpg  \n",
            "  inflating: new_data_augment/train/mask/IDRiD_49_1.jpg  \n",
            "  inflating: new_data_augment/train/mask/IDRiD_49_2.jpg  \n",
            "  inflating: new_data_augment/train/mask/IDRiD_49_3.jpg  \n",
            "  inflating: new_data_augment/train/mask/IDRiD_49_4.jpg  \n",
            "  inflating: new_data_augment/train/mask/IDRiD_49_5.jpg  \n",
            "  inflating: new_data_augment/train/mask/IDRiD_50_0.jpg  \n",
            "  inflating: new_data_augment/train/mask/IDRiD_50_1.jpg  \n",
            "  inflating: new_data_augment/train/mask/IDRiD_50_2.jpg  \n",
            "  inflating: new_data_augment/train/mask/IDRiD_50_3.jpg  \n",
            "  inflating: new_data_augment/train/mask/IDRiD_50_4.jpg  \n",
            "  inflating: new_data_augment/train/mask/IDRiD_50_5.jpg  \n",
            "  inflating: new_data_augment/train/mask/IDRiD_51_0.jpg  \n",
            "  inflating: new_data_augment/train/mask/IDRiD_51_1.jpg  \n",
            "  inflating: new_data_augment/train/mask/IDRiD_51_2.jpg  \n",
            "  inflating: new_data_augment/train/mask/IDRiD_51_3.jpg  \n",
            "  inflating: new_data_augment/train/mask/IDRiD_51_4.jpg  \n",
            "  inflating: new_data_augment/train/mask/IDRiD_51_5.jpg  \n",
            "  inflating: new_data_augment/train/mask/IDRiD_52_0.jpg  \n",
            "  inflating: new_data_augment/train/mask/IDRiD_52_1.jpg  \n",
            "  inflating: new_data_augment/train/mask/IDRiD_52_2.jpg  \n",
            "  inflating: new_data_augment/train/mask/IDRiD_52_3.jpg  \n",
            "  inflating: new_data_augment/train/mask/IDRiD_52_4.jpg  \n",
            "  inflating: new_data_augment/train/mask/IDRiD_52_5.jpg  \n",
            "  inflating: new_data_augment/train/mask/IDRiD_53_0.jpg  \n",
            "  inflating: new_data_augment/train/mask/IDRiD_53_1.jpg  \n",
            "  inflating: new_data_augment/train/mask/IDRiD_53_2.jpg  \n",
            "  inflating: new_data_augment/train/mask/IDRiD_53_3.jpg  \n",
            "  inflating: new_data_augment/train/mask/IDRiD_53_4.jpg  \n",
            "  inflating: new_data_augment/train/mask/IDRiD_53_5.jpg  \n",
            "  inflating: new_data_augment/train/mask/IDRiD_54_0.jpg  \n",
            "  inflating: new_data_augment/train/mask/IDRiD_54_1.jpg  \n",
            "  inflating: new_data_augment/train/mask/IDRiD_54_2.jpg  \n",
            "  inflating: new_data_augment/train/mask/IDRiD_54_3.jpg  \n",
            "  inflating: new_data_augment/train/mask/IDRiD_54_4.jpg  \n",
            "  inflating: new_data_augment/train/mask/IDRiD_54_5.jpg  \n"
          ]
        }
      ],
      "source": [
        "!unzip new_data_augment.zip"
      ]
    },
    {
      "cell_type": "markdown",
      "metadata": {
        "id": "_WctlpFt6hx4"
      },
      "source": [
        "### Construct the Model:"
      ]
    },
    {
      "cell_type": "code",
      "execution_count": null,
      "metadata": {
        "colab": {
          "base_uri": "https://localhost:8080/"
        },
        "id": "epeNiZGQ5gSW",
        "outputId": "9e35fd13-0b28-4e4b-f7d7-576700265f7b"
      },
      "outputs": [
        {
          "output_type": "stream",
          "name": "stdout",
          "text": [
            "Model: \"UNET\"\n",
            "__________________________________________________________________________________________________\n",
            " Layer (type)                   Output Shape         Param #     Connected to                     \n",
            "==================================================================================================\n",
            " input_1 (InputLayer)           [(None, 512, 768, 3  0           []                               \n",
            "                                )]                                                                \n",
            "                                                                                                  \n",
            " conv2d (Conv2D)                (None, 512, 768, 64  1792        ['input_1[0][0]']                \n",
            "                                )                                                                 \n",
            "                                                                                                  \n",
            " batch_normalization (BatchNorm  (None, 512, 768, 64  256        ['conv2d[0][0]']                 \n",
            " alization)                     )                                                                 \n",
            "                                                                                                  \n",
            " activation (Activation)        (None, 512, 768, 64  0           ['batch_normalization[0][0]']    \n",
            "                                )                                                                 \n",
            "                                                                                                  \n",
            " conv2d_1 (Conv2D)              (None, 512, 768, 64  36928       ['activation[0][0]']             \n",
            "                                )                                                                 \n",
            "                                                                                                  \n",
            " batch_normalization_1 (BatchNo  (None, 512, 768, 64  256        ['conv2d_1[0][0]']               \n",
            " rmalization)                   )                                                                 \n",
            "                                                                                                  \n",
            " activation_1 (Activation)      (None, 512, 768, 64  0           ['batch_normalization_1[0][0]']  \n",
            "                                )                                                                 \n",
            "                                                                                                  \n",
            " max_pooling2d (MaxPooling2D)   (None, 256, 384, 64  0           ['activation_1[0][0]']           \n",
            "                                )                                                                 \n",
            "                                                                                                  \n",
            " conv2d_2 (Conv2D)              (None, 256, 384, 12  73856       ['max_pooling2d[0][0]']          \n",
            "                                8)                                                                \n",
            "                                                                                                  \n",
            " batch_normalization_2 (BatchNo  (None, 256, 384, 12  512        ['conv2d_2[0][0]']               \n",
            " rmalization)                   8)                                                                \n",
            "                                                                                                  \n",
            " activation_2 (Activation)      (None, 256, 384, 12  0           ['batch_normalization_2[0][0]']  \n",
            "                                8)                                                                \n",
            "                                                                                                  \n",
            " conv2d_3 (Conv2D)              (None, 256, 384, 12  147584      ['activation_2[0][0]']           \n",
            "                                8)                                                                \n",
            "                                                                                                  \n",
            " batch_normalization_3 (BatchNo  (None, 256, 384, 12  512        ['conv2d_3[0][0]']               \n",
            " rmalization)                   8)                                                                \n",
            "                                                                                                  \n",
            " activation_3 (Activation)      (None, 256, 384, 12  0           ['batch_normalization_3[0][0]']  \n",
            "                                8)                                                                \n",
            "                                                                                                  \n",
            " max_pooling2d_1 (MaxPooling2D)  (None, 128, 192, 12  0          ['activation_3[0][0]']           \n",
            "                                8)                                                                \n",
            "                                                                                                  \n",
            " conv2d_4 (Conv2D)              (None, 128, 192, 25  295168      ['max_pooling2d_1[0][0]']        \n",
            "                                6)                                                                \n",
            "                                                                                                  \n",
            " batch_normalization_4 (BatchNo  (None, 128, 192, 25  1024       ['conv2d_4[0][0]']               \n",
            " rmalization)                   6)                                                                \n",
            "                                                                                                  \n",
            " activation_4 (Activation)      (None, 128, 192, 25  0           ['batch_normalization_4[0][0]']  \n",
            "                                6)                                                                \n",
            "                                                                                                  \n",
            " conv2d_5 (Conv2D)              (None, 128, 192, 25  590080      ['activation_4[0][0]']           \n",
            "                                6)                                                                \n",
            "                                                                                                  \n",
            " batch_normalization_5 (BatchNo  (None, 128, 192, 25  1024       ['conv2d_5[0][0]']               \n",
            " rmalization)                   6)                                                                \n",
            "                                                                                                  \n",
            " activation_5 (Activation)      (None, 128, 192, 25  0           ['batch_normalization_5[0][0]']  \n",
            "                                6)                                                                \n",
            "                                                                                                  \n",
            " max_pooling2d_2 (MaxPooling2D)  (None, 64, 96, 256)  0          ['activation_5[0][0]']           \n",
            "                                                                                                  \n",
            " conv2d_6 (Conv2D)              (None, 64, 96, 512)  1180160     ['max_pooling2d_2[0][0]']        \n",
            "                                                                                                  \n",
            " batch_normalization_6 (BatchNo  (None, 64, 96, 512)  2048       ['conv2d_6[0][0]']               \n",
            " rmalization)                                                                                     \n",
            "                                                                                                  \n",
            " activation_6 (Activation)      (None, 64, 96, 512)  0           ['batch_normalization_6[0][0]']  \n",
            "                                                                                                  \n",
            " conv2d_7 (Conv2D)              (None, 64, 96, 512)  2359808     ['activation_6[0][0]']           \n",
            "                                                                                                  \n",
            " batch_normalization_7 (BatchNo  (None, 64, 96, 512)  2048       ['conv2d_7[0][0]']               \n",
            " rmalization)                                                                                     \n",
            "                                                                                                  \n",
            " activation_7 (Activation)      (None, 64, 96, 512)  0           ['batch_normalization_7[0][0]']  \n",
            "                                                                                                  \n",
            " max_pooling2d_3 (MaxPooling2D)  (None, 32, 48, 512)  0          ['activation_7[0][0]']           \n",
            "                                                                                                  \n",
            " conv2d_8 (Conv2D)              (None, 32, 48, 1024  4719616     ['max_pooling2d_3[0][0]']        \n",
            "                                )                                                                 \n",
            "                                                                                                  \n",
            " batch_normalization_8 (BatchNo  (None, 32, 48, 1024  4096       ['conv2d_8[0][0]']               \n",
            " rmalization)                   )                                                                 \n",
            "                                                                                                  \n",
            " activation_8 (Activation)      (None, 32, 48, 1024  0           ['batch_normalization_8[0][0]']  \n",
            "                                )                                                                 \n",
            "                                                                                                  \n",
            " conv2d_9 (Conv2D)              (None, 32, 48, 1024  9438208     ['activation_8[0][0]']           \n",
            "                                )                                                                 \n",
            "                                                                                                  \n",
            " batch_normalization_9 (BatchNo  (None, 32, 48, 1024  4096       ['conv2d_9[0][0]']               \n",
            " rmalization)                   )                                                                 \n",
            "                                                                                                  \n",
            " activation_9 (Activation)      (None, 32, 48, 1024  0           ['batch_normalization_9[0][0]']  \n",
            "                                )                                                                 \n",
            "                                                                                                  \n",
            " conv2d_transpose (Conv2DTransp  (None, 64, 96, 512)  2097664    ['activation_9[0][0]']           \n",
            " ose)                                                                                             \n",
            "                                                                                                  \n",
            " concatenate (Concatenate)      (None, 64, 96, 1024  0           ['conv2d_transpose[0][0]',       \n",
            "                                )                                 'activation_7[0][0]']           \n",
            "                                                                                                  \n",
            " conv2d_10 (Conv2D)             (None, 64, 96, 512)  4719104     ['concatenate[0][0]']            \n",
            "                                                                                                  \n",
            " batch_normalization_10 (BatchN  (None, 64, 96, 512)  2048       ['conv2d_10[0][0]']              \n",
            " ormalization)                                                                                    \n",
            "                                                                                                  \n",
            " activation_10 (Activation)     (None, 64, 96, 512)  0           ['batch_normalization_10[0][0]'] \n",
            "                                                                                                  \n",
            " conv2d_11 (Conv2D)             (None, 64, 96, 512)  2359808     ['activation_10[0][0]']          \n",
            "                                                                                                  \n",
            " batch_normalization_11 (BatchN  (None, 64, 96, 512)  2048       ['conv2d_11[0][0]']              \n",
            " ormalization)                                                                                    \n",
            "                                                                                                  \n",
            " activation_11 (Activation)     (None, 64, 96, 512)  0           ['batch_normalization_11[0][0]'] \n",
            "                                                                                                  \n",
            " conv2d_transpose_1 (Conv2DTran  (None, 128, 192, 25  524544     ['activation_11[0][0]']          \n",
            " spose)                         6)                                                                \n",
            "                                                                                                  \n",
            " concatenate_1 (Concatenate)    (None, 128, 192, 51  0           ['conv2d_transpose_1[0][0]',     \n",
            "                                2)                                'activation_5[0][0]']           \n",
            "                                                                                                  \n",
            " conv2d_12 (Conv2D)             (None, 128, 192, 25  1179904     ['concatenate_1[0][0]']          \n",
            "                                6)                                                                \n",
            "                                                                                                  \n",
            " batch_normalization_12 (BatchN  (None, 128, 192, 25  1024       ['conv2d_12[0][0]']              \n",
            " ormalization)                  6)                                                                \n",
            "                                                                                                  \n",
            " activation_12 (Activation)     (None, 128, 192, 25  0           ['batch_normalization_12[0][0]'] \n",
            "                                6)                                                                \n",
            "                                                                                                  \n",
            " conv2d_13 (Conv2D)             (None, 128, 192, 25  590080      ['activation_12[0][0]']          \n",
            "                                6)                                                                \n",
            "                                                                                                  \n",
            " batch_normalization_13 (BatchN  (None, 128, 192, 25  1024       ['conv2d_13[0][0]']              \n",
            " ormalization)                  6)                                                                \n",
            "                                                                                                  \n",
            " activation_13 (Activation)     (None, 128, 192, 25  0           ['batch_normalization_13[0][0]'] \n",
            "                                6)                                                                \n",
            "                                                                                                  \n",
            " conv2d_transpose_2 (Conv2DTran  (None, 256, 384, 12  131200     ['activation_13[0][0]']          \n",
            " spose)                         8)                                                                \n",
            "                                                                                                  \n",
            " concatenate_2 (Concatenate)    (None, 256, 384, 25  0           ['conv2d_transpose_2[0][0]',     \n",
            "                                6)                                'activation_3[0][0]']           \n",
            "                                                                                                  \n",
            " conv2d_14 (Conv2D)             (None, 256, 384, 12  295040      ['concatenate_2[0][0]']          \n",
            "                                8)                                                                \n",
            "                                                                                                  \n",
            " batch_normalization_14 (BatchN  (None, 256, 384, 12  512        ['conv2d_14[0][0]']              \n",
            " ormalization)                  8)                                                                \n",
            "                                                                                                  \n",
            " activation_14 (Activation)     (None, 256, 384, 12  0           ['batch_normalization_14[0][0]'] \n",
            "                                8)                                                                \n",
            "                                                                                                  \n",
            " conv2d_15 (Conv2D)             (None, 256, 384, 12  147584      ['activation_14[0][0]']          \n",
            "                                8)                                                                \n",
            "                                                                                                  \n",
            " batch_normalization_15 (BatchN  (None, 256, 384, 12  512        ['conv2d_15[0][0]']              \n",
            " ormalization)                  8)                                                                \n",
            "                                                                                                  \n",
            " activation_15 (Activation)     (None, 256, 384, 12  0           ['batch_normalization_15[0][0]'] \n",
            "                                8)                                                                \n",
            "                                                                                                  \n",
            " conv2d_transpose_3 (Conv2DTran  (None, 512, 768, 64  32832      ['activation_15[0][0]']          \n",
            " spose)                         )                                                                 \n",
            "                                                                                                  \n",
            " concatenate_3 (Concatenate)    (None, 512, 768, 12  0           ['conv2d_transpose_3[0][0]',     \n",
            "                                8)                                'activation_1[0][0]']           \n",
            "                                                                                                  \n",
            " conv2d_16 (Conv2D)             (None, 512, 768, 64  73792       ['concatenate_3[0][0]']          \n",
            "                                )                                                                 \n",
            "                                                                                                  \n",
            " batch_normalization_16 (BatchN  (None, 512, 768, 64  256        ['conv2d_16[0][0]']              \n",
            " ormalization)                  )                                                                 \n",
            "                                                                                                  \n",
            " activation_16 (Activation)     (None, 512, 768, 64  0           ['batch_normalization_16[0][0]'] \n",
            "                                )                                                                 \n",
            "                                                                                                  \n",
            " conv2d_17 (Conv2D)             (None, 512, 768, 64  36928       ['activation_16[0][0]']          \n",
            "                                )                                                                 \n",
            "                                                                                                  \n",
            " batch_normalization_17 (BatchN  (None, 512, 768, 64  256        ['conv2d_17[0][0]']              \n",
            " ormalization)                  )                                                                 \n",
            "                                                                                                  \n",
            " activation_17 (Activation)     (None, 512, 768, 64  0           ['batch_normalization_17[0][0]'] \n",
            "                                )                                                                 \n",
            "                                                                                                  \n",
            " conv2d_18 (Conv2D)             (None, 512, 768, 3)  195         ['activation_17[0][0]']          \n",
            "                                                                                                  \n",
            "==================================================================================================\n",
            "Total params: 31,055,427\n",
            "Trainable params: 31,043,651\n",
            "Non-trainable params: 11,776\n",
            "__________________________________________________________________________________________________\n"
          ]
        }
      ],
      "source": [
        "def conv_block(inputs, num_filters):\n",
        "    x = Conv2D(num_filters, 3, padding=\"same\")(inputs)\n",
        "    x = BatchNormalization()(x)\n",
        "    x = Activation(\"relu\")(x)\n",
        "\n",
        "    x = Conv2D(num_filters, 3, padding=\"same\")(x)\n",
        "    x = BatchNormalization()(x)\n",
        "    x = Activation(\"relu\")(x)\n",
        "\n",
        "    return x\n",
        "\n",
        "def encoder_block(inputs, num_filters):\n",
        "    x = conv_block(inputs, num_filters)\n",
        "    p = MaxPool2D((2, 2))(x)\n",
        "    return x, p\n",
        "\n",
        "def decoder_block(inputs, skip_features, num_filters):\n",
        "    x = Conv2DTranspose(num_filters, (2, 2), strides=2, padding=\"same\")(inputs)\n",
        "    x = Concatenate()([x, skip_features])\n",
        "    x = conv_block(x, num_filters)\n",
        "    return x\n",
        "\n",
        "def build_unet(input_shape):\n",
        "    inputs = Input(input_shape)\n",
        "\n",
        "    s1, p1 = encoder_block(inputs, 64)\n",
        "    s2, p2 = encoder_block(p1, 128)\n",
        "    s3, p3 = encoder_block(p2, 256)\n",
        "    s4, p4 = encoder_block(p3, 512)\n",
        "\n",
        "    b1 = conv_block(p4, 1024)\n",
        "\n",
        "    d1 = decoder_block(b1, s4, 512)\n",
        "    d2 = decoder_block(d1, s3, 256)\n",
        "    d3 = decoder_block(d2, s2, 128)\n",
        "    d4 = decoder_block(d3, s1, 64)\n",
        "\n",
        "    outputs = Conv2D(3, 1, padding=\"same\", activation=\"sigmoid\")(d4)\n",
        "\n",
        "    model = Model(inputs, outputs, name=\"UNET\")\n",
        "    return model\n",
        "\n",
        "input_shape = (512, 768, 3)\n",
        "model = build_unet(input_shape)\n",
        "model.summary()"
      ]
    },
    {
      "cell_type": "markdown",
      "metadata": {
        "id": "TWKUCE3_6vBv"
      },
      "source": [
        "### Adding the Metrics:"
      ]
    },
    {
      "cell_type": "code",
      "execution_count": null,
      "metadata": {
        "id": "s5HXET5Z6uZX"
      },
      "outputs": [],
      "source": [
        "def iou(y_true, y_pred):\n",
        "    def f(y_true, y_pred):\n",
        "        intersection = (y_true * y_pred).sum()\n",
        "        union = y_true.sum() + y_pred.sum() - intersection\n",
        "        x = (intersection + 1e-15) / (union + 1e-15)\n",
        "        x = x.astype(np.float32)\n",
        "        return x\n",
        "    return tf.numpy_function(f, [y_true, y_pred], tf.float32)\n",
        "\n",
        "smooth = 1e-15\n",
        "def dice_coef(y_true, y_pred):\n",
        "    y_true = tf.keras.layers.Flatten()(y_true)\n",
        "    y_pred = tf.keras.layers.Flatten()(y_pred)\n",
        "    intersection = tf.reduce_sum(y_true * y_pred)\n",
        "    return (2. * intersection + smooth) / (tf.reduce_sum(y_true) + tf.reduce_sum(y_pred) + smooth)\n",
        "\n",
        "def dice_loss(y_true, y_pred):\n",
        "    return 1.0 - dice_coef(y_true, y_pred)\n",
        "\n",
        "def DiceBCELoss(y_true, y_pred):\n",
        "\n",
        "    inputs = tf.keras.layers.Flatten()(y_true)\n",
        "    targets = tf.keras.layers.Flatten()(y_pred)\n",
        "\n",
        "    intersection = tf.reduce_sum(inputs * targets)\n",
        "    dice_loss = 1 - (2.*intersection + smooth)/(tf.reduce_sum(y_true) + tf.reduce_sum(y_pred) + smooth)\n",
        "    BCE = tf.keras.losses.BinaryCrossentropy()\n",
        "    Dice_BCE = BCE(inputs, targets) + dice_loss\n",
        "\n",
        "    return Dice_BCE"
      ]
    },
    {
      "cell_type": "markdown",
      "metadata": {
        "id": "fuGIkqEH65dX"
      },
      "source": [
        "### Training the Model:"
      ]
    },
    {
      "cell_type": "code",
      "execution_count": null,
      "metadata": {
        "id": "NNdxwX_-5udw"
      },
      "outputs": [],
      "source": [
        "W = 768\n",
        "H = 512\n",
        "\n",
        "def create_dir(path):\n",
        "    if not os.path.exists(path):\n",
        "        os.makedirs(path)\n",
        "\n",
        "def load_data(path):\n",
        "    x = sorted(glob(os.path.join(path, \"image\", \"*.jpg\")))\n",
        "    y = sorted(glob(os.path.join(path, \"mask\", \"*.jpg\")))\n",
        "    return x, y\n",
        "\n",
        "def shuffling(x, y):\n",
        "    x, y = shuffle(x, y, random_state=42)\n",
        "    return x, y\n",
        "\n",
        "def read_image(path):\n",
        "    path = path.decode()\n",
        "    x = cv2.imread(path, cv2.IMREAD_COLOR)\n",
        "    # x = cv2.resize(x, (W, H))\n",
        "    x = x/255.0\n",
        "    x = x.astype(np.float32)\n",
        "    return x\n",
        "\n",
        "def read_mask(path):\n",
        "    path = path.decode()\n",
        "    x = cv2.imread(path, cv2.IMREAD_COLOR)  ## (512, 512, 3)\n",
        "    # x = cv2.resize(x, (W, H))\n",
        "    x = x/255.0\n",
        "    x = x.astype(np.float32)\n",
        "    x = x[:,:,0:3] \n",
        "\n",
        "    return x\n",
        "\n",
        "def tf_parse(x, y):\n",
        "    def _parse(x, y):\n",
        "        x = read_image(x)\n",
        "        y = read_mask(y)\n",
        "        return x, y\n",
        "\n",
        "    x, y = tf.numpy_function(_parse, [x, y], [tf.float32, tf.float32])\n",
        "    x.set_shape([H, W, 3])\n",
        "    y.set_shape([H, W, 3])\n",
        "    return x, y\n",
        "\n",
        "def tf_dataset(X, Y, batch_size=2):\n",
        "    dataset = tf.data.Dataset.from_tensor_slices((X, Y))\n",
        "    dataset = dataset.map(tf_parse)\n",
        "    dataset = dataset.batch(batch_size)\n",
        "    dataset = dataset.prefetch(4)\n",
        "    return dataset"
      ]
    },
    {
      "cell_type": "code",
      "execution_count": null,
      "metadata": {
        "colab": {
          "base_uri": "https://localhost:8080/"
        },
        "id": "R9oxQCQo7Jnw",
        "outputId": "fbc38bdf-6905-469f-fd5a-274fbbc78688"
      },
      "outputs": [
        {
          "output_type": "stream",
          "name": "stdout",
          "text": [
            "Train: 318 - 318\n",
            "Valid: 27 - 27\n",
            "Epoch 1/30\n",
            "159/159 [==============================] - ETA: 0s - loss: 1.2177 - dice_coef: 0.1194 - iou: 0.0638 - recall: 0.1695 - precision: 0.4775\n",
            "Epoch 00001: val_loss improved from inf to 1.33413, saving model to files/model.h5\n",
            "159/159 [==============================] - 418s 2s/step - loss: 1.2177 - dice_coef: 0.1194 - iou: 0.0638 - recall: 0.1695 - precision: 0.4775 - val_loss: 1.3341 - val_dice_coef: 0.0520 - val_iou: 0.0267 - val_recall: 1.6976e-07 - val_precision: 0.0263 - lr: 1.0000e-04\n",
            "Epoch 2/30\n",
            "159/159 [==============================] - ETA: 0s - loss: 1.0248 - dice_coef: 0.1855 - iou: 0.1027 - recall: 0.1562 - precision: 0.7773\n",
            "Epoch 00002: val_loss improved from 1.33413 to 1.13112, saving model to files/model.h5\n",
            "159/159 [==============================] - 391s 2s/step - loss: 1.0248 - dice_coef: 0.1855 - iou: 0.1027 - recall: 0.1562 - precision: 0.7773 - val_loss: 1.1311 - val_dice_coef: 0.0637 - val_iou: 0.0330 - val_recall: 0.0025 - val_precision: 0.9280 - lr: 1.0000e-04\n",
            "Epoch 3/30\n",
            "159/159 [==============================] - ETA: 0s - loss: 0.9204 - dice_coef: 0.2419 - iou: 0.1383 - recall: 0.1621 - precision: 0.8095\n",
            "Epoch 00003: val_loss improved from 1.13112 to 0.99486, saving model to files/model.h5\n",
            "159/159 [==============================] - 391s 2s/step - loss: 0.9204 - dice_coef: 0.2419 - iou: 0.1383 - recall: 0.1621 - precision: 0.8095 - val_loss: 0.9949 - val_dice_coef: 0.1502 - val_iou: 0.0813 - val_recall: 0.0534 - val_precision: 0.9727 - lr: 1.0000e-04\n",
            "Epoch 4/30\n",
            "159/159 [==============================] - ETA: 0s - loss: 0.8267 - dice_coef: 0.3036 - iou: 0.1803 - recall: 0.1628 - precision: 0.8348\n",
            "Epoch 00004: val_loss improved from 0.99486 to 0.80099, saving model to files/model.h5\n",
            "159/159 [==============================] - 382s 2s/step - loss: 0.8267 - dice_coef: 0.3036 - iou: 0.1803 - recall: 0.1628 - precision: 0.8348 - val_loss: 0.8010 - val_dice_coef: 0.3063 - val_iou: 0.1812 - val_recall: 0.1400 - val_precision: 0.9474 - lr: 1.0000e-04\n",
            "Epoch 5/30\n",
            "159/159 [==============================] - ETA: 0s - loss: 0.7402 - dice_coef: 0.3683 - iou: 0.2279 - recall: 0.1599 - precision: 0.8555\n",
            "Epoch 00005: val_loss improved from 0.80099 to 0.70870, saving model to files/model.h5\n",
            "159/159 [==============================] - 382s 2s/step - loss: 0.7402 - dice_coef: 0.3683 - iou: 0.2279 - recall: 0.1599 - precision: 0.8555 - val_loss: 0.7087 - val_dice_coef: 0.3922 - val_iou: 0.2445 - val_recall: 0.1783 - val_precision: 0.8860 - lr: 1.0000e-04\n",
            "Epoch 6/30\n",
            "159/159 [==============================] - ETA: 0s - loss: 0.6689 - dice_coef: 0.4262 - iou: 0.2739 - recall: 0.1555 - precision: 0.8676\n",
            "Epoch 00006: val_loss did not improve from 0.70870\n",
            "159/159 [==============================] - 386s 2s/step - loss: 0.6689 - dice_coef: 0.4262 - iou: 0.2739 - recall: 0.1555 - precision: 0.8676 - val_loss: 0.8700 - val_dice_coef: 0.3613 - val_iou: 0.2225 - val_recall: 0.2237 - val_precision: 0.6094 - lr: 1.0000e-04\n",
            "Epoch 7/30\n",
            "159/159 [==============================] - ETA: 0s - loss: 0.6145 - dice_coef: 0.4737 - iou: 0.3146 - recall: 0.1514 - precision: 0.8725\n",
            "Epoch 00007: val_loss improved from 0.70870 to 0.54999, saving model to files/model.h5\n",
            "159/159 [==============================] - 391s 2s/step - loss: 0.6145 - dice_coef: 0.4737 - iou: 0.3146 - recall: 0.1514 - precision: 0.8725 - val_loss: 0.5500 - val_dice_coef: 0.5180 - val_iou: 0.3505 - val_recall: 0.1493 - val_precision: 0.9421 - lr: 1.0000e-04\n",
            "Epoch 8/30\n",
            "159/159 [==============================] - ETA: 0s - loss: 0.5641 - dice_coef: 0.5185 - iou: 0.3553 - recall: 0.1484 - precision: 0.8858\n",
            "Epoch 00008: val_loss improved from 0.54999 to 0.50006, saving model to files/model.h5\n",
            "159/159 [==============================] - 383s 2s/step - loss: 0.5641 - dice_coef: 0.5185 - iou: 0.3553 - recall: 0.1484 - precision: 0.8858 - val_loss: 0.5001 - val_dice_coef: 0.5601 - val_iou: 0.3901 - val_recall: 0.1396 - val_precision: 0.9728 - lr: 1.0000e-04\n",
            "Epoch 9/30\n",
            "159/159 [==============================] - ETA: 0s - loss: 0.5301 - dice_coef: 0.5501 - iou: 0.3856 - recall: 0.1460 - precision: 0.8918\n",
            "Epoch 00009: val_loss improved from 0.50006 to 0.44340, saving model to files/model.h5\n",
            "159/159 [==============================] - 391s 2s/step - loss: 0.5301 - dice_coef: 0.5501 - iou: 0.3856 - recall: 0.1460 - precision: 0.8918 - val_loss: 0.4434 - val_dice_coef: 0.6128 - val_iou: 0.4426 - val_recall: 0.1498 - val_precision: 0.9625 - lr: 1.0000e-04\n",
            "Epoch 10/30\n",
            "159/159 [==============================] - ETA: 0s - loss: 0.5058 - dice_coef: 0.5731 - iou: 0.4087 - recall: 0.1441 - precision: 0.8963\n",
            "Epoch 00010: val_loss improved from 0.44340 to 0.43680, saving model to files/model.h5\n",
            "159/159 [==============================] - 391s 2s/step - loss: 0.5058 - dice_coef: 0.5731 - iou: 0.4087 - recall: 0.1441 - precision: 0.8963 - val_loss: 0.4368 - val_dice_coef: 0.6199 - val_iou: 0.4509 - val_recall: 0.1389 - val_precision: 0.9743 - lr: 1.0000e-04\n",
            "Epoch 11/30\n",
            "159/159 [==============================] - ETA: 0s - loss: 0.4888 - dice_coef: 0.5897 - iou: 0.4258 - recall: 0.1427 - precision: 0.8997\n",
            "Epoch 00011: val_loss improved from 0.43680 to 0.43530, saving model to files/model.h5\n",
            "159/159 [==============================] - 391s 2s/step - loss: 0.4888 - dice_coef: 0.5897 - iou: 0.4258 - recall: 0.1427 - precision: 0.8997 - val_loss: 0.4353 - val_dice_coef: 0.6325 - val_iou: 0.4653 - val_recall: 0.1472 - val_precision: 0.9306 - lr: 1.0000e-04\n",
            "Epoch 12/30\n",
            "159/159 [==============================] - ETA: 0s - loss: 0.4785 - dice_coef: 0.6003 - iou: 0.4370 - recall: 0.1414 - precision: 0.9013\n",
            "Epoch 00012: val_loss improved from 0.43530 to 0.39206, saving model to files/model.h5\n",
            "159/159 [==============================] - 382s 2s/step - loss: 0.4785 - dice_coef: 0.6003 - iou: 0.4370 - recall: 0.1414 - precision: 0.9013 - val_loss: 0.3921 - val_dice_coef: 0.6623 - val_iou: 0.4958 - val_recall: 0.1384 - val_precision: 0.9778 - lr: 1.0000e-04\n",
            "Epoch 13/30\n",
            "159/159 [==============================] - ETA: 0s - loss: 0.4642 - dice_coef: 0.6140 - iou: 0.4515 - recall: 0.1413 - precision: 0.9081\n",
            "Epoch 00013: val_loss did not improve from 0.39206\n",
            "159/159 [==============================] - 387s 2s/step - loss: 0.4642 - dice_coef: 0.6140 - iou: 0.4515 - recall: 0.1413 - precision: 0.9081 - val_loss: 0.4295 - val_dice_coef: 0.6401 - val_iou: 0.4747 - val_recall: 0.1359 - val_precision: 0.9052 - lr: 1.0000e-04\n",
            "Epoch 14/30\n",
            "159/159 [==============================] - ETA: 0s - loss: 0.4562 - dice_coef: 0.6221 - iou: 0.4603 - recall: 0.1410 - precision: 0.9105\n",
            "Epoch 00014: val_loss improved from 0.39206 to 0.37334, saving model to files/model.h5\n",
            "159/159 [==============================] - 382s 2s/step - loss: 0.4562 - dice_coef: 0.6221 - iou: 0.4603 - recall: 0.1410 - precision: 0.9105 - val_loss: 0.3733 - val_dice_coef: 0.6803 - val_iou: 0.5163 - val_recall: 0.1348 - val_precision: 0.9835 - lr: 1.0000e-04\n",
            "Epoch 15/30\n",
            "159/159 [==============================] - ETA: 0s - loss: 0.4481 - dice_coef: 0.6301 - iou: 0.4689 - recall: 0.1406 - precision: 0.9143\n",
            "Epoch 00015: val_loss did not improve from 0.37334\n",
            "159/159 [==============================] - 386s 2s/step - loss: 0.4481 - dice_coef: 0.6301 - iou: 0.4689 - recall: 0.1406 - precision: 0.9143 - val_loss: 0.4722 - val_dice_coef: 0.6023 - val_iou: 0.4346 - val_recall: 0.1298 - val_precision: 0.8801 - lr: 1.0000e-04\n",
            "Epoch 16/30\n",
            "159/159 [==============================] - ETA: 0s - loss: 0.4568 - dice_coef: 0.6239 - iou: 0.4623 - recall: 0.1396 - precision: 0.9061\n",
            "Epoch 00016: val_loss did not improve from 0.37334\n",
            "159/159 [==============================] - 378s 2s/step - loss: 0.4568 - dice_coef: 0.6239 - iou: 0.4623 - recall: 0.1396 - precision: 0.9061 - val_loss: 0.3747 - val_dice_coef: 0.6833 - val_iou: 0.5204 - val_recall: 0.1414 - val_precision: 0.9624 - lr: 1.0000e-04\n",
            "Epoch 17/30\n",
            "159/159 [==============================] - ETA: 0s - loss: 0.4405 - dice_coef: 0.6382 - iou: 0.4778 - recall: 0.1403 - precision: 0.9173\n",
            "Epoch 00017: val_loss improved from 0.37334 to 0.36976, saving model to files/model.h5\n",
            "159/159 [==============================] - 383s 2s/step - loss: 0.4405 - dice_coef: 0.6382 - iou: 0.4778 - recall: 0.1403 - precision: 0.9173 - val_loss: 0.3698 - val_dice_coef: 0.6849 - val_iou: 0.5215 - val_recall: 0.1269 - val_precision: 0.9919 - lr: 1.0000e-04\n",
            "Epoch 18/30\n",
            "159/159 [==============================] - ETA: 0s - loss: 0.4343 - dice_coef: 0.6439 - iou: 0.4842 - recall: 0.1402 - precision: 0.9214\n",
            "Epoch 00018: val_loss improved from 0.36976 to 0.35870, saving model to files/model.h5\n",
            "159/159 [==============================] - 382s 2s/step - loss: 0.4343 - dice_coef: 0.6439 - iou: 0.4842 - recall: 0.1402 - precision: 0.9214 - val_loss: 0.3587 - val_dice_coef: 0.6954 - val_iou: 0.5337 - val_recall: 0.1306 - val_precision: 0.9925 - lr: 1.0000e-04\n",
            "Epoch 19/30\n",
            "159/159 [==============================] - ETA: 0s - loss: 0.4314 - dice_coef: 0.6470 - iou: 0.4875 - recall: 0.1401 - precision: 0.9221\n",
            "Epoch 00019: val_loss improved from 0.35870 to 0.35701, saving model to files/model.h5\n",
            "159/159 [==============================] - 391s 2s/step - loss: 0.4314 - dice_coef: 0.6470 - iou: 0.4875 - recall: 0.1401 - precision: 0.9221 - val_loss: 0.3570 - val_dice_coef: 0.6964 - val_iou: 0.5350 - val_recall: 0.1359 - val_precision: 0.9896 - lr: 1.0000e-04\n",
            "Epoch 20/30\n",
            "159/159 [==============================] - ETA: 0s - loss: 0.4287 - dice_coef: 0.6497 - iou: 0.4906 - recall: 0.1402 - precision: 0.9240\n",
            "Epoch 00020: val_loss improved from 0.35701 to 0.35521, saving model to files/model.h5\n",
            "159/159 [==============================] - 383s 2s/step - loss: 0.4287 - dice_coef: 0.6497 - iou: 0.4906 - recall: 0.1402 - precision: 0.9240 - val_loss: 0.3552 - val_dice_coef: 0.6981 - val_iou: 0.5369 - val_recall: 0.1286 - val_precision: 0.9922 - lr: 1.0000e-04\n",
            "Epoch 21/30\n",
            "159/159 [==============================] - ETA: 0s - loss: 0.4246 - dice_coef: 0.6534 - iou: 0.4946 - recall: 0.1402 - precision: 0.9275\n",
            "Epoch 00021: val_loss did not improve from 0.35521\n",
            "159/159 [==============================] - 378s 2s/step - loss: 0.4246 - dice_coef: 0.6534 - iou: 0.4946 - recall: 0.1402 - precision: 0.9275 - val_loss: 0.3576 - val_dice_coef: 0.6964 - val_iou: 0.5354 - val_recall: 0.1305 - val_precision: 0.9923 - lr: 1.0000e-04\n",
            "Epoch 22/30\n",
            "159/159 [==============================] - ETA: 0s - loss: 0.4237 - dice_coef: 0.6547 - iou: 0.4960 - recall: 0.1400 - precision: 0.9275\n",
            "Epoch 00022: val_loss did not improve from 0.35521\n",
            "159/159 [==============================] - 383s 2s/step - loss: 0.4237 - dice_coef: 0.6547 - iou: 0.4960 - recall: 0.1400 - precision: 0.9275 - val_loss: 0.4202 - val_dice_coef: 0.6532 - val_iou: 0.4883 - val_recall: 0.1266 - val_precision: 0.9510 - lr: 1.0000e-04\n",
            "Epoch 23/30\n",
            "159/159 [==============================] - ETA: 0s - loss: 0.4273 - dice_coef: 0.6519 - iou: 0.4928 - recall: 0.1401 - precision: 0.9254\n",
            "Epoch 00023: val_loss did not improve from 0.35521\n",
            "159/159 [==============================] - 381s 2s/step - loss: 0.4273 - dice_coef: 0.6519 - iou: 0.4928 - recall: 0.1401 - precision: 0.9254 - val_loss: 0.4097 - val_dice_coef: 0.6616 - val_iou: 0.4987 - val_recall: 0.1393 - val_precision: 0.9242 - lr: 1.0000e-04\n",
            "Epoch 24/30\n",
            "159/159 [==============================] - ETA: 0s - loss: 0.4219 - dice_coef: 0.6566 - iou: 0.4980 - recall: 0.1404 - precision: 0.9296\n",
            "Epoch 00024: val_loss did not improve from 0.35521\n",
            "159/159 [==============================] - 379s 2s/step - loss: 0.4219 - dice_coef: 0.6566 - iou: 0.4980 - recall: 0.1404 - precision: 0.9296 - val_loss: 0.3692 - val_dice_coef: 0.6897 - val_iou: 0.5283 - val_recall: 0.1305 - val_precision: 0.9757 - lr: 1.0000e-04\n",
            "Epoch 25/30\n",
            "159/159 [==============================] - ETA: 0s - loss: 0.4280 - dice_coef: 0.6519 - iou: 0.4928 - recall: 0.1396 - precision: 0.9243\n",
            "Epoch 00025: val_loss did not improve from 0.35521\n",
            "\n",
            "Epoch 00025: ReduceLROnPlateau reducing learning rate to 9.999999747378752e-06.\n",
            "159/159 [==============================] - 378s 2s/step - loss: 0.4280 - dice_coef: 0.6519 - iou: 0.4928 - recall: 0.1396 - precision: 0.9243 - val_loss: 0.3558 - val_dice_coef: 0.6996 - val_iou: 0.5390 - val_recall: 0.1327 - val_precision: 0.9854 - lr: 1.0000e-04\n",
            "Epoch 26/30\n",
            "159/159 [==============================] - ETA: 0s - loss: 0.4135 - dice_coef: 0.6625 - iou: 0.5044 - recall: 0.1402 - precision: 0.9375\n",
            "Epoch 00026: val_loss improved from 0.35521 to 0.34420, saving model to files/model.h5\n",
            "159/159 [==============================] - 391s 2s/step - loss: 0.4135 - dice_coef: 0.6625 - iou: 0.5044 - recall: 0.1402 - precision: 0.9375 - val_loss: 0.3442 - val_dice_coef: 0.7100 - val_iou: 0.5513 - val_recall: 0.1345 - val_precision: 0.9900 - lr: 1.0000e-05\n",
            "Epoch 27/30\n",
            "159/159 [==============================] - ETA: 0s - loss: 0.4086 - dice_coef: 0.6670 - iou: 0.5094 - recall: 0.1402 - precision: 0.9420\n",
            "Epoch 00027: val_loss did not improve from 0.34420\n",
            "159/159 [==============================] - 387s 2s/step - loss: 0.4086 - dice_coef: 0.6670 - iou: 0.5094 - recall: 0.1402 - precision: 0.9420 - val_loss: 0.3484 - val_dice_coef: 0.7065 - val_iou: 0.5475 - val_recall: 0.1328 - val_precision: 0.9905 - lr: 1.0000e-05\n",
            "Epoch 28/30\n",
            "159/159 [==============================] - ETA: 0s - loss: 0.4059 - dice_coef: 0.6695 - iou: 0.5120 - recall: 0.1402 - precision: 0.9450\n",
            "Epoch 00028: val_loss did not improve from 0.34420\n",
            "159/159 [==============================] - 378s 2s/step - loss: 0.4059 - dice_coef: 0.6695 - iou: 0.5120 - recall: 0.1402 - precision: 0.9450 - val_loss: 0.3527 - val_dice_coef: 0.7028 - val_iou: 0.5435 - val_recall: 0.1314 - val_precision: 0.9899 - lr: 1.0000e-05\n",
            "Epoch 29/30\n",
            "159/159 [==============================] - ETA: 0s - loss: 0.4038 - dice_coef: 0.6714 - iou: 0.5140 - recall: 0.1403 - precision: 0.9475\n",
            "Epoch 00029: val_loss did not improve from 0.34420\n",
            "159/159 [==============================] - 387s 2s/step - loss: 0.4038 - dice_coef: 0.6714 - iou: 0.5140 - recall: 0.1403 - precision: 0.9475 - val_loss: 0.3576 - val_dice_coef: 0.6984 - val_iou: 0.5386 - val_recall: 0.1296 - val_precision: 0.9896 - lr: 1.0000e-05\n",
            "Epoch 30/30\n",
            "159/159 [==============================] - ETA: 0s - loss: 0.4018 - dice_coef: 0.6730 - iou: 0.5158 - recall: 0.1404 - precision: 0.9497\n",
            "Epoch 00030: val_loss did not improve from 0.34420\n",
            "159/159 [==============================] - 378s 2s/step - loss: 0.4018 - dice_coef: 0.6730 - iou: 0.5158 - recall: 0.1404 - precision: 0.9497 - val_loss: 0.3634 - val_dice_coef: 0.6932 - val_iou: 0.5329 - val_recall: 0.1276 - val_precision: 0.9895 - lr: 1.0000e-05\n"
          ]
        },
        {
          "output_type": "execute_result",
          "data": {
            "text/plain": [
              "<keras.callbacks.History at 0x7fddc02ff6d0>"
            ]
          },
          "metadata": {},
          "execution_count": 7
        }
      ],
      "source": [
        "\"\"\" Seeding \"\"\"\n",
        "np.random.seed(42)\n",
        "tf.random.set_seed(42)\n",
        "\n",
        "\"\"\" Directory to save files \"\"\"\n",
        "create_dir(\"files\")\n",
        "\n",
        "\"\"\" Hyperparameters \"\"\"\n",
        "batch_size = 2\n",
        "lr = 1e-4\n",
        "num_epochs = 30\n",
        "model_path = os.path.join(\"files\", \"model.h5\")\n",
        "csv_path = os.path.join(\"files\", \"data.csv\")\n",
        "\n",
        "\"\"\" Dataset \"\"\"\n",
        "dataset_path = \"new_data_augment\"\n",
        "train_path = os.path.join(dataset_path, \"train\")\n",
        "valid_path = os.path.join(dataset_path, \"test\")\n",
        "\n",
        "train_x, train_y = load_data(train_path)\n",
        "train_x, train_y = shuffling(train_x, train_y)\n",
        "valid_x, valid_y = load_data(valid_path)\n",
        "\n",
        "print(f\"Train: {len(train_x)} - {len(train_y)}\")\n",
        "print(f\"Valid: {len(valid_x)} - {len(valid_y)}\")\n",
        "\n",
        "train_dataset = tf_dataset(train_x, train_y, batch_size=batch_size)\n",
        "valid_dataset = tf_dataset(valid_x, valid_y, batch_size=batch_size)\n",
        "\n",
        "train_steps = len(train_x)//batch_size\n",
        "valid_setps = len(valid_x)//batch_size\n",
        "\n",
        "if len(train_x) % batch_size != 0:\n",
        "    train_steps += 1\n",
        "if len(valid_x) % batch_size != 0:\n",
        "    valid_setps += 1\n",
        "\n",
        "\"\"\" Model \"\"\"\n",
        "model = build_unet((H, W, 3))\n",
        "# model.compile(loss=tf.keras.losses.BinaryCrossentropy(), optimizer=Adam(lr), metrics=[dice_coef, iou, Recall(), Precision()])\n",
        "# model.compile(loss=dice_loss, optimizer=Adam(lr), metrics=[dice_coef, iou, Recall(), Precision()])\n",
        "# model.summary()\n",
        "\n",
        "model.compile(loss=DiceBCELoss, optimizer=Adam(lr), metrics=[dice_coef, iou, Recall(), Precision()])\n",
        "\n",
        "callbacks = [\n",
        "    ModelCheckpoint(model_path, verbose=1, save_best_only=True),\n",
        "    ReduceLROnPlateau(monitor=\"val_loss\", factor=0.1, patience=5, min_lr=1e-6, verbose=1),\n",
        "    CSVLogger(csv_path),\n",
        "    TensorBoard(),\n",
        "    EarlyStopping(monitor=\"val_loss\", patience=10, restore_best_weights=False)\n",
        "]\n",
        "\n",
        "model.fit(\n",
        "    train_dataset,\n",
        "    epochs=num_epochs,\n",
        "    validation_data=valid_dataset,\n",
        "    steps_per_epoch=train_steps,\n",
        "    validation_steps=valid_setps,\n",
        "    callbacks=callbacks\n",
        ")"
      ]
    },
    {
      "cell_type": "markdown",
      "metadata": {
        "id": "2x0dTMCh0NPX"
      },
      "source": [
        "### Evaluate The Metrics:"
      ]
    },
    {
      "cell_type": "code",
      "execution_count": null,
      "metadata": {
        "id": "GAHKjs2m0PKs"
      },
      "outputs": [],
      "source": [
        "import os\n",
        "os.environ[\"TF_CPP_MIN_LOG_LEVEL\"] = \"2\"\n",
        "import numpy as np\n",
        "import pandas as pd\n",
        "import cv2\n",
        "from glob import glob\n",
        "from tqdm import tqdm\n",
        "import tensorflow as tf\n",
        "from tensorflow.keras.utils import CustomObjectScope\n",
        "from sklearn.metrics import accuracy_score, f1_score, jaccard_score, precision_score, recall_score, auc\n",
        "from metrics import dice_loss, dice_coef, iou\n",
        "from utils import get_filenames_sorted"
      ]
    },
    {
      "cell_type": "code",
      "execution_count": null,
      "metadata": {
        "id": "96XJ5JwR0TKH"
      },
      "outputs": [],
      "source": [
        "H = 512\n",
        "W = 768\n",
        "\n",
        "def create_dir(path):\n",
        "    if not os.path.exists(path):\n",
        "        os.makedirs(path)\n",
        "\n",
        "def read_image(path):\n",
        "    x = cv2.imread(path, cv2.IMREAD_COLOR)\n",
        "    # x = cv2.resize(x, (W, H))\n",
        "    ori_x = x\n",
        "    x = x/255.0\n",
        "    x = x.astype(np.float32)\n",
        "    return ori_x, x\n",
        "\n",
        "def read_mask(path):\n",
        "    x = cv2.imread(path, cv2.IMREAD_COLOR)  ## (512, 512)\n",
        "    # x = cv2.resize(x, (W, H))\n",
        "    ori_x = x\n",
        "    x = x/255.0\n",
        "    x = x.astype(np.float32)\n",
        "    x = x[:,:,0:3] # Discard the last channel \n",
        "    return ori_x, x\n",
        "\n",
        "def load_data(path):\n",
        "    x = sorted(glob(os.path.join(path, \"image\", \"*.jpg\")))\n",
        "    y = sorted(glob(os.path.join(path, \"mask\", \"*.jpg\")))\n",
        "    return x, y\n",
        "\n",
        "def save_results(ori_x, ori_y, y_pred, save_image_path, channel):\n",
        "    line = np.ones((y_pred.shape[0], 10, 3)) * 255\n",
        "\n",
        "    pred_image = np.zeros((y_pred.shape[0], y_pred.shape[1], 3))\n",
        "    _y_pred = y_pred[:, :, channel]\n",
        "    _ori_y = ori_y[:, :, channel]\n",
        "    pred_image[:, :, 0] = ((_y_pred > 0.5) & (_ori_y <= 128)) * 255\n",
        "    pred_image[:, :, 1] = ((_y_pred > 0.5) & (_ori_y  > 128)) * 255\n",
        "    pred_image[:, :, 2] = ((_ori_y  > 128) & (_y_pred <= 0.5 )) * 255\n",
        "\n",
        "    print(\" saving result\", save_image_path)\n",
        "    cv2.imwrite(save_image_path, pred_image)"
      ]
    },
    {
      "cell_type": "code",
      "execution_count": null,
      "metadata": {
        "colab": {
          "base_uri": "https://localhost:8080/"
        },
        "id": "6OJKEDNR0W7P",
        "outputId": "9e07480b-6c7c-41fa-8ab2-a5e26824538c"
      },
      "outputs": [
        {
          "output_type": "stream",
          "name": "stdout",
          "text": [
            "files/model.h5\n"
          ]
        },
        {
          "output_type": "stream",
          "name": "stderr",
          "text": [
            "\r  0%|          | 0/27 [00:00<?, ?it/s]"
          ]
        },
        {
          "output_type": "stream",
          "name": "stdout",
          "text": [
            "IDRiD_55\n",
            "255 1.0\n",
            " saving result files_demo_bv/IDRiD_55.png\n",
            " saving result files_demo_od/IDRiD_55.png\n",
            " saving result files_demo_ex/IDRiD_55.png\n"
          ]
        },
        {
          "output_type": "stream",
          "name": "stderr",
          "text": [
            "\r  4%|▎         | 1/27 [00:04<01:44,  4.02s/it]"
          ]
        },
        {
          "output_type": "stream",
          "name": "stdout",
          "text": [
            "IDRiD_56\n",
            "255 1.0\n",
            " saving result files_demo_bv/IDRiD_56.png\n",
            " saving result files_demo_od/IDRiD_56.png\n",
            " saving result files_demo_ex/IDRiD_56.png\n"
          ]
        },
        {
          "output_type": "stream",
          "name": "stderr",
          "text": [
            "\r  7%|▋         | 2/27 [00:06<01:12,  2.90s/it]"
          ]
        },
        {
          "output_type": "stream",
          "name": "stdout",
          "text": [
            "IDRiD_57\n",
            "255 1.0\n",
            " saving result files_demo_bv/IDRiD_57.png\n",
            " saving result files_demo_od/IDRiD_57.png\n",
            " saving result files_demo_ex/IDRiD_57.png\n"
          ]
        },
        {
          "output_type": "stream",
          "name": "stderr",
          "text": [
            "\r 11%|█         | 3/27 [00:08<00:58,  2.43s/it]"
          ]
        },
        {
          "output_type": "stream",
          "name": "stdout",
          "text": [
            "IDRiD_58\n",
            "255 1.0\n",
            " saving result files_demo_bv/IDRiD_58.png\n",
            " saving result files_demo_od/IDRiD_58.png\n",
            " saving result files_demo_ex/IDRiD_58.png\n"
          ]
        },
        {
          "output_type": "stream",
          "name": "stderr",
          "text": [
            "\r 15%|█▍        | 4/27 [00:09<00:50,  2.20s/it]"
          ]
        },
        {
          "output_type": "stream",
          "name": "stdout",
          "text": [
            "IDRiD_59\n",
            "255 1.0\n",
            " saving result files_demo_bv/IDRiD_59.png\n",
            " saving result files_demo_od/IDRiD_59.png\n",
            " saving result files_demo_ex/IDRiD_59.png\n"
          ]
        },
        {
          "output_type": "stream",
          "name": "stderr",
          "text": [
            "\r 19%|█▊        | 5/27 [00:11<00:47,  2.14s/it]"
          ]
        },
        {
          "output_type": "stream",
          "name": "stdout",
          "text": [
            "IDRiD_60\n",
            "255 1.0\n",
            " saving result files_demo_bv/IDRiD_60.png\n",
            " saving result files_demo_od/IDRiD_60.png\n",
            " saving result files_demo_ex/IDRiD_60.png\n"
          ]
        },
        {
          "output_type": "stream",
          "name": "stderr",
          "text": [
            "\r 22%|██▏       | 6/27 [00:13<00:44,  2.10s/it]"
          ]
        },
        {
          "output_type": "stream",
          "name": "stdout",
          "text": [
            "IDRiD_61\n",
            "255 1.0\n",
            " saving result files_demo_bv/IDRiD_61.png\n",
            " saving result files_demo_od/IDRiD_61.png\n",
            " saving result files_demo_ex/IDRiD_61.png\n"
          ]
        },
        {
          "output_type": "stream",
          "name": "stderr",
          "text": [
            "\r 26%|██▌       | 7/27 [00:16<00:42,  2.11s/it]"
          ]
        },
        {
          "output_type": "stream",
          "name": "stdout",
          "text": [
            "IDRiD_62\n",
            "255 1.0\n",
            " saving result files_demo_bv/IDRiD_62.png\n",
            " saving result files_demo_od/IDRiD_62.png\n",
            " saving result files_demo_ex/IDRiD_62.png\n"
          ]
        },
        {
          "output_type": "stream",
          "name": "stderr",
          "text": [
            "\r 30%|██▉       | 8/27 [00:18<00:39,  2.06s/it]"
          ]
        },
        {
          "output_type": "stream",
          "name": "stdout",
          "text": [
            "IDRiD_63\n",
            "255 1.0\n",
            " saving result files_demo_bv/IDRiD_63.png\n",
            " saving result files_demo_od/IDRiD_63.png\n",
            " saving result files_demo_ex/IDRiD_63.png\n"
          ]
        },
        {
          "output_type": "stream",
          "name": "stderr",
          "text": [
            "\r 33%|███▎      | 9/27 [00:19<00:36,  2.00s/it]"
          ]
        },
        {
          "output_type": "stream",
          "name": "stdout",
          "text": [
            "IDRiD_64\n",
            "255 1.0\n",
            " saving result files_demo_bv/IDRiD_64.png\n",
            " saving result files_demo_od/IDRiD_64.png\n",
            " saving result files_demo_ex/IDRiD_64.png\n"
          ]
        },
        {
          "output_type": "stream",
          "name": "stderr",
          "text": [
            "\r 37%|███▋      | 10/27 [00:21<00:33,  1.97s/it]"
          ]
        },
        {
          "output_type": "stream",
          "name": "stdout",
          "text": [
            "IDRiD_65\n",
            "255 1.0\n",
            " saving result files_demo_bv/IDRiD_65.png\n",
            " saving result files_demo_od/IDRiD_65.png\n",
            " saving result files_demo_ex/IDRiD_65.png\n"
          ]
        },
        {
          "output_type": "stream",
          "name": "stderr",
          "text": [
            "\r 41%|████      | 11/27 [00:23<00:31,  1.99s/it]"
          ]
        },
        {
          "output_type": "stream",
          "name": "stdout",
          "text": [
            "IDRiD_66\n",
            "255 1.0\n",
            " saving result files_demo_bv/IDRiD_66.png\n",
            " saving result files_demo_od/IDRiD_66.png\n",
            " saving result files_demo_ex/IDRiD_66.png\n"
          ]
        },
        {
          "output_type": "stream",
          "name": "stderr",
          "text": [
            "\r 44%|████▍     | 12/27 [00:25<00:29,  1.96s/it]"
          ]
        },
        {
          "output_type": "stream",
          "name": "stdout",
          "text": [
            "IDRiD_67\n",
            "255 1.0\n",
            " saving result files_demo_bv/IDRiD_67.png\n",
            " saving result files_demo_od/IDRiD_67.png\n",
            " saving result files_demo_ex/IDRiD_67.png\n"
          ]
        },
        {
          "output_type": "stream",
          "name": "stderr",
          "text": [
            "\r 48%|████▊     | 13/27 [00:27<00:27,  1.98s/it]"
          ]
        },
        {
          "output_type": "stream",
          "name": "stdout",
          "text": [
            "IDRiD_68\n",
            "255 1.0\n",
            " saving result files_demo_bv/IDRiD_68.png\n",
            " saving result files_demo_od/IDRiD_68.png\n",
            " saving result files_demo_ex/IDRiD_68.png\n"
          ]
        },
        {
          "output_type": "stream",
          "name": "stderr",
          "text": [
            "\r 52%|█████▏    | 14/27 [00:29<00:25,  1.94s/it]"
          ]
        },
        {
          "output_type": "stream",
          "name": "stdout",
          "text": [
            "IDRiD_69\n",
            "255 1.0\n",
            " saving result files_demo_bv/IDRiD_69.png\n",
            " saving result files_demo_od/IDRiD_69.png\n",
            " saving result files_demo_ex/IDRiD_69.png\n"
          ]
        },
        {
          "output_type": "stream",
          "name": "stderr",
          "text": [
            "\r 56%|█████▌    | 15/27 [00:31<00:23,  1.97s/it]"
          ]
        },
        {
          "output_type": "stream",
          "name": "stdout",
          "text": [
            "IDRiD_70\n",
            "255 1.0\n",
            " saving result files_demo_bv/IDRiD_70.png\n",
            " saving result files_demo_od/IDRiD_70.png\n",
            " saving result files_demo_ex/IDRiD_70.png\n"
          ]
        },
        {
          "output_type": "stream",
          "name": "stderr",
          "text": [
            "\r 59%|█████▉    | 16/27 [00:33<00:21,  1.94s/it]"
          ]
        },
        {
          "output_type": "stream",
          "name": "stdout",
          "text": [
            "IDRiD_71\n",
            "255 1.0\n",
            " saving result files_demo_bv/IDRiD_71.png\n",
            " saving result files_demo_od/IDRiD_71.png\n",
            " saving result files_demo_ex/IDRiD_71.png\n"
          ]
        },
        {
          "output_type": "stream",
          "name": "stderr",
          "text": [
            "\r 63%|██████▎   | 17/27 [00:35<00:19,  1.97s/it]"
          ]
        },
        {
          "output_type": "stream",
          "name": "stdout",
          "text": [
            "IDRiD_72\n",
            "255 1.0\n",
            " saving result files_demo_bv/IDRiD_72.png\n",
            " saving result files_demo_od/IDRiD_72.png\n",
            " saving result files_demo_ex/IDRiD_72.png\n"
          ]
        },
        {
          "output_type": "stream",
          "name": "stderr",
          "text": [
            "\r 67%|██████▋   | 18/27 [00:37<00:17,  1.95s/it]"
          ]
        },
        {
          "output_type": "stream",
          "name": "stdout",
          "text": [
            "IDRiD_73\n",
            "255 1.0\n",
            " saving result files_demo_bv/IDRiD_73.png\n",
            " saving result files_demo_od/IDRiD_73.png\n",
            " saving result files_demo_ex/IDRiD_73.png\n"
          ]
        },
        {
          "output_type": "stream",
          "name": "stderr",
          "text": [
            "\r 70%|███████   | 19/27 [00:39<00:15,  1.97s/it]"
          ]
        },
        {
          "output_type": "stream",
          "name": "stdout",
          "text": [
            "IDRiD_74\n",
            "255 1.0\n",
            " saving result files_demo_bv/IDRiD_74.png\n",
            " saving result files_demo_od/IDRiD_74.png\n",
            " saving result files_demo_ex/IDRiD_74.png\n"
          ]
        },
        {
          "output_type": "stream",
          "name": "stderr",
          "text": [
            "\r 74%|███████▍  | 20/27 [00:41<00:13,  1.99s/it]"
          ]
        },
        {
          "output_type": "stream",
          "name": "stdout",
          "text": [
            "IDRiD_75\n",
            "255 1.0\n",
            " saving result files_demo_bv/IDRiD_75.png\n",
            " saving result files_demo_od/IDRiD_75.png\n",
            " saving result files_demo_ex/IDRiD_75.png\n"
          ]
        },
        {
          "output_type": "stream",
          "name": "stderr",
          "text": [
            "\r 78%|███████▊  | 21/27 [00:43<00:11,  1.95s/it]"
          ]
        },
        {
          "output_type": "stream",
          "name": "stdout",
          "text": [
            "IDRiD_76\n",
            "255 1.0\n",
            " saving result files_demo_bv/IDRiD_76.png\n",
            " saving result files_demo_od/IDRiD_76.png\n",
            " saving result files_demo_ex/IDRiD_76.png\n"
          ]
        },
        {
          "output_type": "stream",
          "name": "stderr",
          "text": [
            "\r 81%|████████▏ | 22/27 [00:45<00:09,  1.92s/it]"
          ]
        },
        {
          "output_type": "stream",
          "name": "stdout",
          "text": [
            "IDRiD_77\n",
            "255 1.0\n",
            " saving result files_demo_bv/IDRiD_77.png\n",
            " saving result files_demo_od/IDRiD_77.png\n",
            " saving result files_demo_ex/IDRiD_77.png\n"
          ]
        },
        {
          "output_type": "stream",
          "name": "stderr",
          "text": [
            "\r 85%|████████▌ | 23/27 [00:47<00:07,  1.92s/it]"
          ]
        },
        {
          "output_type": "stream",
          "name": "stdout",
          "text": [
            "IDRiD_78\n",
            "255 1.0\n",
            " saving result files_demo_bv/IDRiD_78.png\n",
            " saving result files_demo_od/IDRiD_78.png\n",
            " saving result files_demo_ex/IDRiD_78.png\n"
          ]
        },
        {
          "output_type": "stream",
          "name": "stderr",
          "text": [
            "\r 89%|████████▉ | 24/27 [00:49<00:05,  1.95s/it]"
          ]
        },
        {
          "output_type": "stream",
          "name": "stdout",
          "text": [
            "IDRiD_79\n",
            "255 1.0\n",
            " saving result files_demo_bv/IDRiD_79.png\n",
            " saving result files_demo_od/IDRiD_79.png\n",
            " saving result files_demo_ex/IDRiD_79.png\n"
          ]
        },
        {
          "output_type": "stream",
          "name": "stderr",
          "text": [
            "\r 93%|█████████▎| 25/27 [00:51<00:03,  1.98s/it]"
          ]
        },
        {
          "output_type": "stream",
          "name": "stdout",
          "text": [
            "IDRiD_80\n",
            "255 1.0\n",
            " saving result files_demo_bv/IDRiD_80.png\n",
            " saving result files_demo_od/IDRiD_80.png\n",
            " saving result files_demo_ex/IDRiD_80.png\n"
          ]
        },
        {
          "output_type": "stream",
          "name": "stderr",
          "text": [
            "\r 96%|█████████▋| 26/27 [00:53<00:01,  2.00s/it]"
          ]
        },
        {
          "output_type": "stream",
          "name": "stdout",
          "text": [
            "IDRiD_81\n",
            "255 1.0\n",
            " saving result files_demo_bv/IDRiD_81.png\n",
            " saving result files_demo_od/IDRiD_81.png\n",
            " saving result files_demo_ex/IDRiD_81.png\n"
          ]
        },
        {
          "output_type": "stream",
          "name": "stderr",
          "text": [
            "100%|██████████| 27/27 [00:55<00:00,  2.04s/it]"
          ]
        },
        {
          "output_type": "stream",
          "name": "stdout",
          "text": [
            "\n",
            "\n",
            "****** BV Metrics ******\n",
            "Accuracy: 0.98134\n",
            "F1: 0.81487 (dice score)\n",
            "AUC: 0.81487 (Auc score)\n",
            "Jaccard: 0.69191\n",
            "Recall: 0.76818\n",
            "Precision: 0.88636\n",
            "\n",
            "\n",
            "****** OD Metrics ******\n",
            "Accuracy: 0.99828\n",
            "F1: 0.94595 (dice score)\n",
            "AUC: 0.94595 (Auc score)\n",
            "Jaccard: 0.90157\n",
            "Recall: 0.94990\n",
            "Precision: 0.94984\n",
            "\n",
            "\n",
            "****** EX Metrics ******\n",
            "Accuracy: 0.99477\n",
            "F1: 0.63984 (dice score)\n",
            "AUC: 0.63984 (Auc score)\n",
            "Jaccard: 0.48913\n",
            "Recall: 0.64178\n",
            "Precision: 0.88636\n",
            "\n",
            "\n"
          ]
        },
        {
          "output_type": "stream",
          "name": "stderr",
          "text": [
            "\n"
          ]
        }
      ],
      "source": [
        "data_dir = \"new_data_augment\"\n",
        "od_channel, he_channel, ex_channel = 0, 1, 2\n",
        "\n",
        "\n",
        "od_result_dir = \"files_demo_bv\"\n",
        "he_result_dir = \"files_demo_od\"\n",
        "ex_result_dir = \"files_demo_ex\"\n",
        "\n",
        "create_dir(od_result_dir)\n",
        "create_dir(he_result_dir)\n",
        "create_dir(ex_result_dir)\n",
        "\n",
        "model_dir = \"files\"\n",
        "\n",
        "\"\"\" Load the model \"\"\"\n",
        "model_file_name = f\"{model_dir}/model.h5\"\n",
        "print(model_file_name)\n",
        "# with CustomObjectScope({'iou': iou, 'dice_coef': dice_coef, 'dice_loss': dice_loss}):\n",
        "model = tf.keras.models.load_model(model_file_name, compile=False)\n",
        "\n",
        "\"\"\" Load the dataset \"\"\"\n",
        "# dataset_path = os.path.join(data_dir, \"test\")\n",
        "test_x, test_y = get_filenames_sorted(data_dir + \"/test/image/\", data_dir + \"/test/mask/\" )\n",
        "\n",
        "\"\"\" Make the prediction and calculate the metrics values \"\"\"\n",
        "SCORE_OD, SCORE_HE, SCORE_EX = [], [], []\n",
        "for x, y in tqdm(zip(test_x, test_y), total=len(test_x)):\n",
        "    \"\"\" Extracting name \"\"\"\n",
        "    name = x.rsplit(\"/\", 1)[1].rsplit(\".\", 1)[0]\n",
        "    print(name)\n",
        "\n",
        "    \"\"\" Read the image and mask \"\"\"\n",
        "    ori_x, x = read_image(x)\n",
        "    ori_y, y = read_mask(y)\n",
        "\n",
        "    \"\"\" Prediction \"\"\"\n",
        "    y_pred = model.predict(np.expand_dims(x, axis=0))[0]\n",
        "    y_pred = y_pred > 0.5\n",
        "    y_pred = y_pred.astype(np.float32)\n",
        "\n",
        "    print(np.max(ori_y), np.max(y))\n",
        "\n",
        "    \"\"\" Saving the images \"\"\"\n",
        "    save_image_path_od = f\"{od_result_dir}/{name}.png\"\n",
        "    save_results(ori_x, ori_y, y_pred, save_image_path_od, od_channel)\n",
        "\n",
        "    save_image_path_he = f\"{he_result_dir}/{name}.png\"\n",
        "    save_results(ori_x, ori_y, y_pred, save_image_path_he, he_channel)\n",
        "\n",
        "    save_image_path_ex = f\"{ex_result_dir}/{name}.png\"\n",
        "    save_results(ori_x, ori_y, y_pred, save_image_path_ex, ex_channel)\n",
        "\n",
        "\n",
        "#     \"\"\" Calculate the OD metrics \"\"\"\n",
        "    ma_pred = y_pred[:, :, od_channel].flatten()\n",
        "    ma_gt = y[:, :, od_channel].flatten()\n",
        "    acc_value = accuracy_score(ma_gt > 0.5, ma_pred>0.5)\n",
        "    f1_value = f1_score(ma_gt > 0.5, ma_pred>0.5, labels=[0, 1], average=\"binary\")\n",
        "    jac_value = jaccard_score(ma_gt > 0.5, ma_pred>0.5, labels=[0, 1], average=\"binary\")\n",
        "    recall_value = recall_score(ma_gt > 0.5, ma_pred>0.5, labels=[0, 1], average=\"binary\")\n",
        "    recall_computed = np.sum((ma_gt > 0.5) & (ma_pred > 0.5)) / np.sum(ma_gt > 0.5)\n",
        "    precision_value = precision_score(ma_gt > 0.5, ma_pred>0.5, labels=[0, 1], average=\"binary\")\n",
        "    SCORE_OD.append([name, acc_value, f1_value, jac_value, recall_value, precision_value, recall_computed])\n",
        "\n",
        "#     \"\"\" Calculate the HE metrics \"\"\"\n",
        "    bv_pred = y_pred[:, :, he_channel].flatten()\n",
        "    bv_gt = y[:, :, he_channel].flatten()\n",
        "    acc_value = accuracy_score(bv_gt > 0.5, bv_pred>0.5)\n",
        "    f1_value = f1_score(bv_gt > 0.5, bv_pred>0.5, labels=[0, 1], average=\"binary\")\n",
        "    jac_value = jaccard_score(bv_gt > 0.5, bv_pred>0.5, labels=[0, 1], average=\"binary\")\n",
        "    recall_value = recall_score(bv_gt > 0.5, bv_pred>0.5, labels=[0, 1], average=\"binary\")\n",
        "    recall_computed = np.sum((bv_gt > 0.5) & (bv_pred > 0.5)) / np.sum(bv_gt > 0.5)\n",
        "    precision_value = precision_score(bv_gt > 0.5, bv_pred>0.5, labels=[0, 1], average=\"binary\")\n",
        "    SCORE_HE.append([name, acc_value, f1_value, jac_value, recall_value, precision_value, recall_computed])\n",
        "\n",
        "#     \"\"\" Calculate the EX metrics \"\"\"\n",
        "    he_pred = y_pred[:, :, ex_channel].flatten()\n",
        "    he_gt = y[:, :, ex_channel].flatten()\n",
        "    acc_value = accuracy_score(he_gt > 0.5, he_pred>0.5)\n",
        "    f1_value = f1_score(he_gt > 0.5, he_pred>0.5, labels=[0, 1], average=\"binary\")\n",
        "    jac_value = jaccard_score(he_gt > 0.5, he_pred>0.5, labels=[0, 1], average=\"binary\")\n",
        "    recall_value = recall_score(he_gt > 0.5, he_pred>0.5, labels=[0, 1], average=\"binary\")\n",
        "    recall_computed = np.sum((he_gt > 0.5) & (he_pred > 0.5)) / np.sum(he_gt > 0.5)\n",
        "    precision_value = precision_score(ma_gt > 0.5, ma_pred>0.5, labels=[0, 1], average=\"binary\")\n",
        "    SCORE_EX.append([name, acc_value, f1_value, jac_value, recall_value, precision_value, recall_computed])\n",
        "    \n",
        "print(\"\\n\")\n",
        "\n",
        "for SCORE in [SCORE_OD, SCORE_HE, SCORE_EX]:\n",
        "    if SCORE == SCORE_OD:\n",
        "        print(\"****** BV Metrics ******\")\n",
        "        score = [s[1:] for s in SCORE]\n",
        "        score = np.mean(score, axis=0)\n",
        "        print(f\"Accuracy: {score[0]:0.5f}\")\n",
        "        print(f\"F1: {score[1]:0.5f} (dice score)\")\n",
        "        print(f\"AUC: {score[1]:0.5f} (Auc score)\")\n",
        "        print(f\"Jaccard: {score[2]:0.5f}\")\n",
        "        print(f\"Recall: {score[3]:0.5f}\")\n",
        "        print(f\"Precision: {score[4]:0.5f}\")\n",
        "\n",
        "    elif SCORE == SCORE_HE:\n",
        "        print(\"****** OD Metrics ******\")\n",
        "        score = [s[1:] for s in SCORE]\n",
        "        score = np.mean(score, axis=0)\n",
        "        print(f\"Accuracy: {score[0]:0.5f}\")\n",
        "        print(f\"F1: {score[1]:0.5f} (dice score)\")\n",
        "        print(f\"AUC: {score[1]:0.5f} (Auc score)\")\n",
        "        print(f\"Jaccard: {score[2]:0.5f}\")\n",
        "        print(f\"Recall: {score[3]:0.5f}\")\n",
        "        print(f\"Precision: {score[4]:0.5f}\")\n",
        "\n",
        "    else:\n",
        "        print(\"****** EX Metrics ******\")\n",
        "        score = [s[1:] for s in SCORE]\n",
        "        score = np.mean(score, axis=0)\n",
        "        print(f\"Accuracy: {score[0]:0.5f}\")\n",
        "        print(f\"F1: {score[1]:0.5f} (dice score)\")\n",
        "        print(f\"AUC: {score[1]:0.5f} (Auc score)\")\n",
        "        print(f\"Jaccard: {score[2]:0.5f}\")\n",
        "        print(f\"Recall: {score[3]:0.5f}\")\n",
        "        print(f\"Precision: {score[4]:0.5f}\")\n",
        "\n",
        "    # \"\"\" Saving \"\"\"\n",
        "    if SCORE == SCORE_OD:\n",
        "        df = pd.DataFrame(SCORE, columns=[\"Image\", \"Acc\", \"F1\", \"Jaccard\", \"Recall\", \"Precision\", \"Recall Computed\"])\n",
        "        df.to_csv(f\"{od_result_dir}/score.csv\")\n",
        "\n",
        "    elif SCORE == SCORE_HE:\n",
        "        df = pd.DataFrame(SCORE, columns=[\"Image\", \"Acc\", \"F1\", \"Jaccard\", \"Recall\", \"Precision\", \"Recall Computed\"])\n",
        "        df.to_csv(f\"{he_result_dir}/score.csv\")\n",
        "    else:\n",
        "        df = pd.DataFrame(SCORE, columns=[\"Image\", \"Acc\", \"F1\", \"Jaccard\", \"Recall\", \"Precision\", \"Recall Computed\"])\n",
        "        df.to_csv(f\"{ex_result_dir}/score.csv\")\n",
        "    print(\"\\n\")"
      ]
    },
    {
      "cell_type": "code",
      "execution_count": null,
      "metadata": {
        "id": "L1CpNI8ulqzm",
        "colab": {
          "base_uri": "https://localhost:8080/"
        },
        "outputId": "4a06bfed-5d9f-48f1-c260-0d80b68f36ea"
      },
      "outputs": [
        {
          "output_type": "stream",
          "name": "stdout",
          "text": [
            "files/model.h5\n"
          ]
        },
        {
          "output_type": "stream",
          "name": "stderr",
          "text": [
            "\r  0%|          | 0/27 [00:00<?, ?it/s]"
          ]
        },
        {
          "output_type": "stream",
          "name": "stdout",
          "text": [
            "IDRiD_55\n",
            "255 1.0\n",
            " saving result files_demo_bv_0.3/IDRiD_55.png\n",
            " saving result files_demo_od_0.3/IDRiD_55.png\n",
            " saving result files_demo_ex_0.3/IDRiD_55.png\n"
          ]
        },
        {
          "output_type": "stream",
          "name": "stderr",
          "text": [
            "\r  4%|▎         | 1/27 [00:03<01:34,  3.62s/it]"
          ]
        },
        {
          "output_type": "stream",
          "name": "stdout",
          "text": [
            "IDRiD_56\n",
            "255 1.0\n",
            " saving result files_demo_bv_0.3/IDRiD_56.png\n",
            " saving result files_demo_od_0.3/IDRiD_56.png\n",
            " saving result files_demo_ex_0.3/IDRiD_56.png\n"
          ]
        },
        {
          "output_type": "stream",
          "name": "stderr",
          "text": [
            "\r  7%|▋         | 2/27 [00:06<01:20,  3.21s/it]"
          ]
        },
        {
          "output_type": "stream",
          "name": "stdout",
          "text": [
            "IDRiD_57\n",
            "255 1.0\n",
            " saving result files_demo_bv_0.3/IDRiD_57.png\n",
            " saving result files_demo_od_0.3/IDRiD_57.png\n",
            " saving result files_demo_ex_0.3/IDRiD_57.png\n"
          ]
        },
        {
          "output_type": "stream",
          "name": "stderr",
          "text": [
            "\r 11%|█         | 3/27 [00:09<01:11,  2.99s/it]"
          ]
        },
        {
          "output_type": "stream",
          "name": "stdout",
          "text": [
            "IDRiD_58\n",
            "255 1.0\n",
            " saving result files_demo_bv_0.3/IDRiD_58.png\n",
            " saving result files_demo_od_0.3/IDRiD_58.png\n",
            " saving result files_demo_ex_0.3/IDRiD_58.png\n"
          ]
        },
        {
          "output_type": "stream",
          "name": "stderr",
          "text": [
            "\r 15%|█▍        | 4/27 [00:12<01:07,  2.95s/it]"
          ]
        },
        {
          "output_type": "stream",
          "name": "stdout",
          "text": [
            "IDRiD_59\n",
            "255 1.0\n",
            " saving result files_demo_bv_0.3/IDRiD_59.png\n",
            " saving result files_demo_od_0.3/IDRiD_59.png\n",
            " saving result files_demo_ex_0.3/IDRiD_59.png\n"
          ]
        },
        {
          "output_type": "stream",
          "name": "stderr",
          "text": [
            "\r 19%|█▊        | 5/27 [00:15<01:04,  2.93s/it]"
          ]
        },
        {
          "output_type": "stream",
          "name": "stdout",
          "text": [
            "IDRiD_60\n",
            "255 1.0\n",
            " saving result files_demo_bv_0.3/IDRiD_60.png\n",
            " saving result files_demo_od_0.3/IDRiD_60.png\n",
            " saving result files_demo_ex_0.3/IDRiD_60.png\n"
          ]
        },
        {
          "output_type": "stream",
          "name": "stderr",
          "text": [
            "\r 22%|██▏       | 6/27 [00:17<01:00,  2.88s/it]"
          ]
        },
        {
          "output_type": "stream",
          "name": "stdout",
          "text": [
            "IDRiD_61\n",
            "255 1.0\n",
            " saving result files_demo_bv_0.3/IDRiD_61.png\n",
            " saving result files_demo_od_0.3/IDRiD_61.png\n",
            " saving result files_demo_ex_0.3/IDRiD_61.png\n"
          ]
        },
        {
          "output_type": "stream",
          "name": "stderr",
          "text": [
            "\r 26%|██▌       | 7/27 [00:20<00:57,  2.88s/it]"
          ]
        },
        {
          "output_type": "stream",
          "name": "stdout",
          "text": [
            "IDRiD_62\n",
            "255 1.0\n",
            " saving result files_demo_bv_0.3/IDRiD_62.png\n",
            " saving result files_demo_od_0.3/IDRiD_62.png\n",
            " saving result files_demo_ex_0.3/IDRiD_62.png\n"
          ]
        },
        {
          "output_type": "stream",
          "name": "stderr",
          "text": [
            "\r 30%|██▉       | 8/27 [00:23<00:57,  3.00s/it]"
          ]
        },
        {
          "output_type": "stream",
          "name": "stdout",
          "text": [
            "IDRiD_63\n",
            "255 1.0\n",
            " saving result files_demo_bv_0.3/IDRiD_63.png\n",
            " saving result files_demo_od_0.3/IDRiD_63.png\n",
            " saving result files_demo_ex_0.3/IDRiD_63.png\n"
          ]
        },
        {
          "output_type": "stream",
          "name": "stderr",
          "text": [
            "\r 33%|███▎      | 9/27 [00:27<00:56,  3.16s/it]"
          ]
        },
        {
          "output_type": "stream",
          "name": "stdout",
          "text": [
            "IDRiD_64\n",
            "255 1.0\n",
            " saving result files_demo_bv_0.3/IDRiD_64.png\n",
            " saving result files_demo_od_0.3/IDRiD_64.png\n",
            " saving result files_demo_ex_0.3/IDRiD_64.png\n"
          ]
        },
        {
          "output_type": "stream",
          "name": "stderr",
          "text": [
            "\r 37%|███▋      | 10/27 [00:30<00:52,  3.09s/it]"
          ]
        },
        {
          "output_type": "stream",
          "name": "stdout",
          "text": [
            "IDRiD_65\n",
            "255 1.0\n",
            " saving result files_demo_bv_0.3/IDRiD_65.png\n",
            " saving result files_demo_od_0.3/IDRiD_65.png\n",
            " saving result files_demo_ex_0.3/IDRiD_65.png\n"
          ]
        },
        {
          "output_type": "stream",
          "name": "stderr",
          "text": [
            "\r 41%|████      | 11/27 [00:33<00:51,  3.20s/it]"
          ]
        },
        {
          "output_type": "stream",
          "name": "stdout",
          "text": [
            "IDRiD_66\n",
            "255 1.0\n",
            " saving result files_demo_bv_0.3/IDRiD_66.png\n",
            " saving result files_demo_od_0.3/IDRiD_66.png\n",
            " saving result files_demo_ex_0.3/IDRiD_66.png\n"
          ]
        },
        {
          "output_type": "stream",
          "name": "stderr",
          "text": [
            "\r 44%|████▍     | 12/27 [00:35<00:42,  2.83s/it]"
          ]
        },
        {
          "output_type": "stream",
          "name": "stdout",
          "text": [
            "IDRiD_67\n",
            "255 1.0\n",
            " saving result files_demo_bv_0.3/IDRiD_67.png\n",
            " saving result files_demo_od_0.3/IDRiD_67.png\n",
            " saving result files_demo_ex_0.3/IDRiD_67.png\n"
          ]
        },
        {
          "output_type": "stream",
          "name": "stderr",
          "text": [
            "\r 48%|████▊     | 13/27 [00:37<00:35,  2.52s/it]"
          ]
        },
        {
          "output_type": "stream",
          "name": "stdout",
          "text": [
            "IDRiD_68\n",
            "255 1.0\n",
            " saving result files_demo_bv_0.3/IDRiD_68.png\n",
            " saving result files_demo_od_0.3/IDRiD_68.png\n",
            " saving result files_demo_ex_0.3/IDRiD_68.png\n"
          ]
        },
        {
          "output_type": "stream",
          "name": "stderr",
          "text": [
            "\r 52%|█████▏    | 14/27 [00:39<00:30,  2.36s/it]"
          ]
        },
        {
          "output_type": "stream",
          "name": "stdout",
          "text": [
            "IDRiD_69\n",
            "255 1.0\n",
            " saving result files_demo_bv_0.3/IDRiD_69.png\n",
            " saving result files_demo_od_0.3/IDRiD_69.png\n",
            " saving result files_demo_ex_0.3/IDRiD_69.png\n"
          ]
        },
        {
          "output_type": "stream",
          "name": "stderr",
          "text": [
            "\r 56%|█████▌    | 15/27 [00:41<00:26,  2.24s/it]"
          ]
        },
        {
          "output_type": "stream",
          "name": "stdout",
          "text": [
            "IDRiD_70\n",
            "255 1.0\n",
            " saving result files_demo_bv_0.3/IDRiD_70.png\n",
            " saving result files_demo_od_0.3/IDRiD_70.png\n",
            " saving result files_demo_ex_0.3/IDRiD_70.png\n"
          ]
        },
        {
          "output_type": "stream",
          "name": "stderr",
          "text": [
            "\r 59%|█████▉    | 16/27 [00:43<00:23,  2.17s/it]"
          ]
        },
        {
          "output_type": "stream",
          "name": "stdout",
          "text": [
            "IDRiD_71\n",
            "255 1.0\n",
            " saving result files_demo_bv_0.3/IDRiD_71.png\n",
            " saving result files_demo_od_0.3/IDRiD_71.png\n",
            " saving result files_demo_ex_0.3/IDRiD_71.png\n"
          ]
        },
        {
          "output_type": "stream",
          "name": "stderr",
          "text": [
            "\r 63%|██████▎   | 17/27 [00:45<00:20,  2.05s/it]"
          ]
        },
        {
          "output_type": "stream",
          "name": "stdout",
          "text": [
            "IDRiD_72\n",
            "255 1.0\n",
            " saving result files_demo_bv_0.3/IDRiD_72.png\n",
            " saving result files_demo_od_0.3/IDRiD_72.png\n",
            " saving result files_demo_ex_0.3/IDRiD_72.png\n"
          ]
        },
        {
          "output_type": "stream",
          "name": "stderr",
          "text": [
            "\r 67%|██████▋   | 18/27 [00:47<00:17,  1.97s/it]"
          ]
        },
        {
          "output_type": "stream",
          "name": "stdout",
          "text": [
            "IDRiD_73\n",
            "255 1.0\n",
            " saving result files_demo_bv_0.3/IDRiD_73.png\n",
            " saving result files_demo_od_0.3/IDRiD_73.png\n",
            " saving result files_demo_ex_0.3/IDRiD_73.png\n"
          ]
        },
        {
          "output_type": "stream",
          "name": "stderr",
          "text": [
            "\r 70%|███████   | 19/27 [00:49<00:15,  1.98s/it]"
          ]
        },
        {
          "output_type": "stream",
          "name": "stdout",
          "text": [
            "IDRiD_74\n",
            "255 1.0\n",
            " saving result files_demo_bv_0.3/IDRiD_74.png\n",
            " saving result files_demo_od_0.3/IDRiD_74.png\n",
            " saving result files_demo_ex_0.3/IDRiD_74.png\n"
          ]
        },
        {
          "output_type": "stream",
          "name": "stderr",
          "text": [
            "\r 74%|███████▍  | 20/27 [00:51<00:13,  1.97s/it]"
          ]
        },
        {
          "output_type": "stream",
          "name": "stdout",
          "text": [
            "IDRiD_75\n",
            "255 1.0\n",
            " saving result files_demo_bv_0.3/IDRiD_75.png\n",
            " saving result files_demo_od_0.3/IDRiD_75.png\n",
            " saving result files_demo_ex_0.3/IDRiD_75.png\n"
          ]
        },
        {
          "output_type": "stream",
          "name": "stderr",
          "text": [
            "\r 78%|███████▊  | 21/27 [00:52<00:11,  1.91s/it]"
          ]
        },
        {
          "output_type": "stream",
          "name": "stdout",
          "text": [
            "IDRiD_76\n",
            "255 1.0\n",
            " saving result files_demo_bv_0.3/IDRiD_76.png\n",
            " saving result files_demo_od_0.3/IDRiD_76.png\n",
            " saving result files_demo_ex_0.3/IDRiD_76.png\n"
          ]
        },
        {
          "output_type": "stream",
          "name": "stderr",
          "text": [
            "\r 81%|████████▏ | 22/27 [00:54<00:09,  1.90s/it]"
          ]
        },
        {
          "output_type": "stream",
          "name": "stdout",
          "text": [
            "IDRiD_77\n",
            "255 1.0\n",
            " saving result files_demo_bv_0.3/IDRiD_77.png\n",
            " saving result files_demo_od_0.3/IDRiD_77.png\n",
            " saving result files_demo_ex_0.3/IDRiD_77.png\n"
          ]
        },
        {
          "output_type": "stream",
          "name": "stderr",
          "text": [
            "\r 85%|████████▌ | 23/27 [00:56<00:07,  1.87s/it]"
          ]
        },
        {
          "output_type": "stream",
          "name": "stdout",
          "text": [
            "IDRiD_78\n",
            "255 1.0\n",
            " saving result files_demo_bv_0.3/IDRiD_78.png\n",
            " saving result files_demo_od_0.3/IDRiD_78.png\n",
            " saving result files_demo_ex_0.3/IDRiD_78.png\n"
          ]
        },
        {
          "output_type": "stream",
          "name": "stderr",
          "text": [
            "\r 89%|████████▉ | 24/27 [00:58<00:05,  1.86s/it]"
          ]
        },
        {
          "output_type": "stream",
          "name": "stdout",
          "text": [
            "IDRiD_79\n",
            "255 1.0\n",
            " saving result files_demo_bv_0.3/IDRiD_79.png\n",
            " saving result files_demo_od_0.3/IDRiD_79.png\n",
            " saving result files_demo_ex_0.3/IDRiD_79.png\n"
          ]
        },
        {
          "output_type": "stream",
          "name": "stderr",
          "text": [
            "\r 93%|█████████▎| 25/27 [01:00<00:03,  1.84s/it]"
          ]
        },
        {
          "output_type": "stream",
          "name": "stdout",
          "text": [
            "IDRiD_80\n",
            "255 1.0\n",
            " saving result files_demo_bv_0.3/IDRiD_80.png\n",
            " saving result files_demo_od_0.3/IDRiD_80.png\n",
            " saving result files_demo_ex_0.3/IDRiD_80.png\n"
          ]
        },
        {
          "output_type": "stream",
          "name": "stderr",
          "text": [
            "\r 96%|█████████▋| 26/27 [01:01<00:01,  1.83s/it]"
          ]
        },
        {
          "output_type": "stream",
          "name": "stdout",
          "text": [
            "IDRiD_81\n",
            "255 1.0\n",
            " saving result files_demo_bv_0.3/IDRiD_81.png\n",
            " saving result files_demo_od_0.3/IDRiD_81.png\n",
            " saving result files_demo_ex_0.3/IDRiD_81.png\n"
          ]
        },
        {
          "output_type": "stream",
          "name": "stderr",
          "text": [
            "100%|██████████| 27/27 [01:04<00:00,  2.37s/it]"
          ]
        },
        {
          "output_type": "stream",
          "name": "stdout",
          "text": [
            "\n",
            "\n",
            "****** BV Metrics ******\n",
            "Threshold: 0.3\n",
            "Accuracy: 0.97658\n",
            "F1: 0.80493 (dice score)\n",
            "Jaccard: 0.67884\n",
            "Recall: 0.71107\n",
            "Precision: 0.94298\n",
            "AUC: 0.71107\n",
            "\n",
            "\n",
            "****** OD Metrics ******\n",
            "Threshold: 0.3\n",
            "Accuracy: 0.99822\n",
            "F1: 0.94591 (dice score)\n",
            "Jaccard: 0.90121\n",
            "Recall: 0.95617\n",
            "Precision: 0.94320\n",
            "AUC: 0.95617\n",
            "\n",
            "\n",
            "****** EX Metrics ******\n",
            "Threshold: 0.3\n",
            "Accuracy: 0.99439\n",
            "F1: 0.64951 (dice score)\n",
            "Jaccard: 0.50027\n",
            "Recall: 0.64655\n",
            "Precision: 0.94298\n",
            "AUC: 0.64655\n",
            "\n",
            "\n"
          ]
        },
        {
          "output_type": "stream",
          "name": "stderr",
          "text": [
            "\n"
          ]
        }
      ],
      "source": [
        "from copy import deepcopy\n",
        "\n",
        "data_dir = \"new_data_augment\"\n",
        "od_channel, he_channel, ex_channel = 0, 1, 2\n",
        "\n",
        "threshold = 0.3\n",
        "\n",
        "od_result_dir = f\"files_demo_bv_{threshold}\"\n",
        "he_result_dir = f\"files_demo_od_{threshold}\"\n",
        "ex_result_dir = f\"files_demo_ex_{threshold}\"\n",
        "\n",
        "create_dir(od_result_dir)\n",
        "create_dir(he_result_dir)\n",
        "create_dir(ex_result_dir)\n",
        "\n",
        "model_dir = \"files\"\n",
        "\n",
        "\"\"\" Load the model \"\"\"\n",
        "model_file_name = f\"{model_dir}/model.h5\"\n",
        "print(model_file_name)\n",
        "# with CustomObjectScope({'iou': iou, 'dice_coef': dice_coef, 'dice_loss': dice_loss}):\n",
        "model = tf.keras.models.load_model(model_file_name, compile=False)\n",
        "\n",
        "\"\"\" Load the dataset \"\"\"\n",
        "# dataset_path = os.path.join(data_dir, \"test\")\n",
        "test_x, test_y = get_filenames_sorted(data_dir + \"/test/image/\", data_dir + \"/test/mask/\" )\n",
        "\n",
        "\"\"\" Make the prediction and calculate the metrics values \"\"\"\n",
        "SCORE_OD, SCORE_HE, SCORE_EX = [], [], []\n",
        "for x, y in tqdm(zip(test_x, test_y), total=len(test_x)):\n",
        "    \"\"\" Extracting name \"\"\"\n",
        "    name = x.rsplit(\"/\", 1)[1].rsplit(\".\", 1)[0]\n",
        "    print(name)\n",
        "\n",
        "    \"\"\" Read the image and mask \"\"\"\n",
        "    ori_x, x = read_image(x)\n",
        "    ori_y, y = read_mask(y)\n",
        "\n",
        "    \"\"\" Prediction \"\"\"\n",
        "    y_pred = model.predict(np.expand_dims(x, axis=0))[0]\n",
        "    y_pred_prob = deepcopy(y_pred)\n",
        "    y_pred = y_pred > threshold\n",
        "    y_pred = y_pred.astype(np.float32)\n",
        "\n",
        "    print(np.max(ori_y), np.max(y))\n",
        "\n",
        "    \"\"\" Saving the images \"\"\"\n",
        "    save_image_path_od = f\"{od_result_dir}/{name}.png\"\n",
        "    save_results(ori_x, ori_y, y_pred, save_image_path_od, od_channel)\n",
        "\n",
        "    save_image_path_he = f\"{he_result_dir}/{name}.png\"\n",
        "    save_results(ori_x, ori_y, y_pred, save_image_path_he, he_channel)\n",
        "\n",
        "    save_image_path_ex = f\"{ex_result_dir}/{name}.png\"\n",
        "    save_results(ori_x, ori_y, y_pred, save_image_path_ex, ex_channel)\n",
        "\n",
        "    #     \"\"\" Calculate the OD metrics \"\"\"\n",
        "    ma_pred = y_pred[:, :, od_channel].flatten()\n",
        "    ma_pred_prob = y_pred_prob[:, :, od_channel].flatten()\n",
        "    ma_gt = y[:, :, od_channel].flatten()\n",
        "    acc_value = accuracy_score(ma_gt > threshold, ma_pred>threshold)\n",
        "    f1_value = f1_score(ma_gt > threshold, ma_pred>threshold, labels=[0, 1], average=\"binary\")\n",
        "    jac_value = jaccard_score(ma_gt > threshold, ma_pred>threshold, labels=[0, 1], average=\"binary\")\n",
        "    recall_value = recall_score(ma_gt > threshold, ma_pred>threshold, labels=[0, 1], average=\"binary\")\n",
        "    recall_computed = np.sum((ma_gt > threshold) & (ma_pred > threshold)) / np.sum(ma_gt > threshold)\n",
        "    precision_value = precision_score(ma_gt > threshold, ma_pred>threshold, labels=[0, 1], average=\"binary\")\n",
        "    auc_score = auc(ma_gt > threshold, ma_pred_prob)\n",
        "    SCORE_OD.append([name, acc_value, f1_value, jac_value, recall_value, precision_value, recall_computed, auc_score])\n",
        "\n",
        "    #     \"\"\" Calculate the HE metrics \"\"\"\n",
        "    bv_pred = y_pred[:, :, he_channel].flatten()\n",
        "    bv_pred_prob = y_pred_prob[:, :, he_channel].flatten()\n",
        "    bv_gt = y[:, :, he_channel].flatten()\n",
        "    acc_value = accuracy_score(bv_gt > threshold, bv_pred>threshold)\n",
        "    f1_value = f1_score(bv_gt > threshold, bv_pred>threshold, labels=[0, 1], average=\"binary\")\n",
        "    jac_value = jaccard_score(bv_gt > threshold, bv_pred>threshold, labels=[0, 1], average=\"binary\")\n",
        "    recall_value = recall_score(bv_gt > threshold, bv_pred>threshold, labels=[0, 1], average=\"binary\")\n",
        "    recall_computed = np.sum((bv_gt > threshold) & (bv_pred > threshold)) / np.sum(bv_gt > threshold)\n",
        "    precision_value = precision_score(bv_gt > threshold, bv_pred>threshold, labels=[0, 1], average=\"binary\")\n",
        "    auc_score = auc(bv_gt > threshold, bv_pred_prob)\n",
        "    SCORE_HE.append([name, acc_value, f1_value, jac_value, recall_value, precision_value, recall_computed, auc_score])\n",
        "\n",
        "    #     \"\"\" Calculate the EX metrics \"\"\"\n",
        "    he_pred = y_pred[:, :, ex_channel].flatten()\n",
        "    he_pred_prob = y_pred_prob[:, :, ex_channel].flatten()\n",
        "    he_gt = y[:, :, ex_channel].flatten()\n",
        "    acc_value = accuracy_score(he_gt > threshold, he_pred>threshold)\n",
        "    f1_value = f1_score(he_gt > threshold, he_pred>threshold, labels=[0, 1], average=\"binary\")\n",
        "    jac_value = jaccard_score(he_gt > threshold, he_pred>threshold, labels=[0, 1], average=\"binary\")\n",
        "    recall_value = recall_score(he_gt > threshold, he_pred>threshold, labels=[0, 1], average=\"binary\")\n",
        "    recall_computed = np.sum((he_gt > threshold) & (he_pred > threshold)) / np.sum(he_gt > threshold)\n",
        "    precision_value = precision_score(ma_gt > threshold, ma_pred>threshold, labels=[0, 1], average=\"binary\")\n",
        "    auc_score = auc(he_gt > threshold, he_pred_prob)\n",
        "    SCORE_EX.append([name, acc_value, f1_value, jac_value, recall_value, precision_value, recall_computed, auc_score])\n",
        "    \n",
        "print(\"\\n\")\n",
        "\n",
        "for SCORE in [SCORE_OD, SCORE_HE, SCORE_EX]:\n",
        "    if SCORE == SCORE_OD:\n",
        "        print(\"****** BV Metrics ******\")\n",
        "        score = [s[1:] for s in SCORE]\n",
        "        score = np.mean(score, axis=0)\n",
        "        print(f\"Threshold:\", threshold)\n",
        "        print(f\"Accuracy: {score[0]:0.5f}\")\n",
        "        print(f\"F1: {score[1]:0.5f} (dice score)\")\n",
        "        print(f\"Jaccard: {score[2]:0.5f}\")\n",
        "        print(f\"Recall: {score[3]:0.5f}\")\n",
        "        print(f\"Precision: {score[4]:0.5f}\")\n",
        "        print(f\"AUC: {score[5]:0.5f}\")\n",
        "\n",
        "    elif SCORE == SCORE_HE:\n",
        "        print(\"****** OD Metrics ******\")\n",
        "        score = [s[1:] for s in SCORE]\n",
        "        score = np.mean(score, axis=0)\n",
        "        print(f\"Threshold:\", threshold)\n",
        "        print(f\"Accuracy: {score[0]:0.5f}\")\n",
        "        print(f\"F1: {score[1]:0.5f} (dice score)\")\n",
        "        print(f\"Jaccard: {score[2]:0.5f}\")\n",
        "        print(f\"Recall: {score[3]:0.5f}\")\n",
        "        print(f\"Precision: {score[4]:0.5f}\")\n",
        "        print(f\"AUC: {score[5]:0.5f}\")\n",
        "\n",
        "    else:\n",
        "        print(\"****** EX Metrics ******\")\n",
        "        score = [s[1:] for s in SCORE]\n",
        "        score = np.mean(score, axis=0)\n",
        "        print(f\"Threshold:\", threshold)\n",
        "        print(f\"Accuracy: {score[0]:0.5f}\")\n",
        "        print(f\"F1: {score[1]:0.5f} (dice score)\")\n",
        "        print(f\"Jaccard: {score[2]:0.5f}\")\n",
        "        print(f\"Recall: {score[3]:0.5f}\")\n",
        "        print(f\"Precision: {score[4]:0.5f}\")\n",
        "        print(f\"AUC: {score[5]:0.5f}\")\n",
        "\n",
        "    # \"\"\" Saving \"\"\"\n",
        "    if SCORE == SCORE_OD:\n",
        "        df = pd.DataFrame(SCORE, columns=[\"Image\", \"Acc\", \"F1\", \"Jaccard\", \"Recall\", \"Precision\", \"Recall Computed\", \"AUC\"])\n",
        "        df.to_csv(f\"{od_result_dir}/score.csv\")\n",
        "\n",
        "    elif SCORE == SCORE_HE:\n",
        "        df = pd.DataFrame(SCORE, columns=[\"Image\", \"Acc\", \"F1\", \"Jaccard\", \"Recall\", \"Precision\", \"Recall Computed\", \"AUC\"])\n",
        "        df.to_csv(f\"{he_result_dir}/score.csv\")\n",
        "    else:\n",
        "        df = pd.DataFrame(SCORE, columns=[\"Image\", \"Acc\", \"F1\", \"Jaccard\", \"Recall\", \"Precision\", \"Recall Computed\", \"AUC\"])\n",
        "        df.to_csv(f\"{ex_result_dir}/score.csv\")\n",
        "    print(\"\\n\")"
      ]
    },
    {
      "cell_type": "code",
      "source": [
        "from copy import deepcopy\n",
        "\n",
        "data_dir = \"new_data_augment\"\n",
        "od_channel, he_channel, ex_channel = 0, 1, 2\n",
        "\n",
        "threshold = 0.2\n",
        "\n",
        "od_result_dir = f\"files_demo_bv_{threshold}\"\n",
        "he_result_dir = f\"files_demo_od_{threshold}\"\n",
        "ex_result_dir = f\"files_demo_ex_{threshold}\"\n",
        "\n",
        "create_dir(od_result_dir)\n",
        "create_dir(he_result_dir)\n",
        "create_dir(ex_result_dir)\n",
        "\n",
        "model_dir = \"files\"\n",
        "\n",
        "\"\"\" Load the model \"\"\"\n",
        "model_file_name = f\"{model_dir}/model.h5\"\n",
        "print(model_file_name)\n",
        "# with CustomObjectScope({'iou': iou, 'dice_coef': dice_coef, 'dice_loss': dice_loss}):\n",
        "model = tf.keras.models.load_model(model_file_name, compile=False)\n",
        "\n",
        "\"\"\" Load the dataset \"\"\"\n",
        "# dataset_path = os.path.join(data_dir, \"test\")\n",
        "test_x, test_y = get_filenames_sorted(data_dir + \"/test/image/\", data_dir + \"/test/mask/\" )\n",
        "\n",
        "\"\"\" Make the prediction and calculate the metrics values \"\"\"\n",
        "SCORE_OD, SCORE_HE, SCORE_EX = [], [], []\n",
        "for x, y in tqdm(zip(test_x, test_y), total=len(test_x)):\n",
        "    \"\"\" Extracting name \"\"\"\n",
        "    name = x.rsplit(\"/\", 1)[1].rsplit(\".\", 1)[0]\n",
        "    print(name)\n",
        "\n",
        "    \"\"\" Read the image and mask \"\"\"\n",
        "    ori_x, x = read_image(x)\n",
        "    ori_y, y = read_mask(y)\n",
        "\n",
        "    \"\"\" Prediction \"\"\"\n",
        "    y_pred = model.predict(np.expand_dims(x, axis=0))[0]\n",
        "    y_pred_prob = deepcopy(y_pred)\n",
        "    y_pred = y_pred > threshold\n",
        "    y_pred = y_pred.astype(np.float32)\n",
        "\n",
        "    print(np.max(ori_y), np.max(y))\n",
        "\n",
        "    \"\"\" Saving the images \"\"\"\n",
        "    save_image_path_od = f\"{od_result_dir}/{name}.png\"\n",
        "    save_results(ori_x, ori_y, y_pred, save_image_path_od, od_channel)\n",
        "\n",
        "    save_image_path_he = f\"{he_result_dir}/{name}.png\"\n",
        "    save_results(ori_x, ori_y, y_pred, save_image_path_he, he_channel)\n",
        "\n",
        "    save_image_path_ex = f\"{ex_result_dir}/{name}.png\"\n",
        "    save_results(ori_x, ori_y, y_pred, save_image_path_ex, ex_channel)\n",
        "\n",
        "    #     \"\"\" Calculate the OD metrics \"\"\"\n",
        "    ma_pred = y_pred[:, :, od_channel].flatten()\n",
        "    ma_pred_prob = y_pred_prob[:, :, od_channel].flatten()\n",
        "    ma_gt = y[:, :, od_channel].flatten()\n",
        "    acc_value = accuracy_score(ma_gt > threshold, ma_pred>threshold)\n",
        "    f1_value = f1_score(ma_gt > threshold, ma_pred>threshold, labels=[0, 1], average=\"binary\")\n",
        "    jac_value = jaccard_score(ma_gt > threshold, ma_pred>threshold, labels=[0, 1], average=\"binary\")\n",
        "    recall_value = recall_score(ma_gt > threshold, ma_pred>threshold, labels=[0, 1], average=\"binary\")\n",
        "    recall_computed = np.sum((ma_gt > threshold) & (ma_pred > threshold)) / np.sum(ma_gt > threshold)\n",
        "    precision_value = precision_score(ma_gt > threshold, ma_pred>threshold, labels=[0, 1], average=\"binary\")\n",
        "    auc_score = auc(ma_gt > threshold, ma_pred_prob)\n",
        "    SCORE_OD.append([name, acc_value, f1_value, jac_value, recall_value, precision_value, recall_computed, auc_score])\n",
        "\n",
        "    #     \"\"\" Calculate the HE metrics \"\"\"\n",
        "    bv_pred = y_pred[:, :, he_channel].flatten()\n",
        "    bv_pred_prob = y_pred_prob[:, :, he_channel].flatten()\n",
        "    bv_gt = y[:, :, he_channel].flatten()\n",
        "    acc_value = accuracy_score(bv_gt > threshold, bv_pred>threshold)\n",
        "    f1_value = f1_score(bv_gt > threshold, bv_pred>threshold, labels=[0, 1], average=\"binary\")\n",
        "    jac_value = jaccard_score(bv_gt > threshold, bv_pred>threshold, labels=[0, 1], average=\"binary\")\n",
        "    recall_value = recall_score(bv_gt > threshold, bv_pred>threshold, labels=[0, 1], average=\"binary\")\n",
        "    recall_computed = np.sum((bv_gt > threshold) & (bv_pred > threshold)) / np.sum(bv_gt > threshold)\n",
        "    precision_value = precision_score(bv_gt > threshold, bv_pred>threshold, labels=[0, 1], average=\"binary\")\n",
        "    auc_score = auc(bv_gt > threshold, bv_pred_prob)\n",
        "    SCORE_HE.append([name, acc_value, f1_value, jac_value, recall_value, precision_value, recall_computed, auc_score])\n",
        "\n",
        "    #     \"\"\" Calculate the EX metrics \"\"\"\n",
        "    he_pred = y_pred[:, :, ex_channel].flatten()\n",
        "    he_pred_prob = y_pred_prob[:, :, ex_channel].flatten()\n",
        "    he_gt = y[:, :, ex_channel].flatten()\n",
        "    acc_value = accuracy_score(he_gt > threshold, he_pred>threshold)\n",
        "    f1_value = f1_score(he_gt > threshold, he_pred>threshold, labels=[0, 1], average=\"binary\")\n",
        "    jac_value = jaccard_score(he_gt > threshold, he_pred>threshold, labels=[0, 1], average=\"binary\")\n",
        "    recall_value = recall_score(he_gt > threshold, he_pred>threshold, labels=[0, 1], average=\"binary\")\n",
        "    recall_computed = np.sum((he_gt > threshold) & (he_pred > threshold)) / np.sum(he_gt > threshold)\n",
        "    precision_value = precision_score(ma_gt > threshold, ma_pred>threshold, labels=[0, 1], average=\"binary\")\n",
        "    auc_score = auc(he_gt > threshold, he_pred_prob)\n",
        "    SCORE_EX.append([name, acc_value, f1_value, jac_value, recall_value, precision_value, recall_computed, auc_score])\n",
        "    \n",
        "print(\"\\n\")\n",
        "\n",
        "for SCORE in [SCORE_OD, SCORE_HE, SCORE_EX]:\n",
        "    if SCORE == SCORE_OD:\n",
        "        print(\"****** BV Metrics ******\")\n",
        "        score = [s[1:] for s in SCORE]\n",
        "        score = np.mean(score, axis=0)\n",
        "        print(f\"Threshold:\", threshold)\n",
        "        print(f\"Accuracy: {score[0]:0.5f}\")\n",
        "        print(f\"F1: {score[1]:0.5f} (dice score)\")\n",
        "        print(f\"Jaccard: {score[2]:0.5f}\")\n",
        "        print(f\"Recall: {score[3]:0.5f}\")\n",
        "        print(f\"Precision: {score[4]:0.5f}\")\n",
        "        print(f\"AUC: {score[5]:0.5f}\")\n",
        "\n",
        "    elif SCORE == SCORE_HE:\n",
        "        print(\"****** OD Metrics ******\")\n",
        "        score = [s[1:] for s in SCORE]\n",
        "        score = np.mean(score, axis=0)\n",
        "        print(f\"Threshold:\", threshold)\n",
        "        print(f\"Accuracy: {score[0]:0.5f}\")\n",
        "        print(f\"F1: {score[1]:0.5f} (dice score)\")\n",
        "        print(f\"Jaccard: {score[2]:0.5f}\")\n",
        "        print(f\"Recall: {score[3]:0.5f}\")\n",
        "        print(f\"Precision: {score[4]:0.5f}\")\n",
        "        print(f\"AUC: {score[5]:0.5f}\")\n",
        "\n",
        "    else:\n",
        "        print(\"****** EX Metrics ******\")\n",
        "        score = [s[1:] for s in SCORE]\n",
        "        score = np.mean(score, axis=0)\n",
        "        print(f\"Threshold:\", threshold)\n",
        "        print(f\"Accuracy: {score[0]:0.5f}\")\n",
        "        print(f\"F1: {score[1]:0.5f} (dice score)\")\n",
        "        print(f\"Jaccard: {score[2]:0.5f}\")\n",
        "        print(f\"Recall: {score[3]:0.5f}\")\n",
        "        print(f\"Precision: {score[4]:0.5f}\")\n",
        "        print(f\"AUC: {score[5]:0.5f}\")\n",
        "\n",
        "    # \"\"\" Saving \"\"\"\n",
        "    if SCORE == SCORE_OD:\n",
        "        df = pd.DataFrame(SCORE, columns=[\"Image\", \"Acc\", \"F1\", \"Jaccard\", \"Recall\", \"Precision\", \"Recall Computed\", \"AUC\"])\n",
        "        df.to_csv(f\"{od_result_dir}/score.csv\")\n",
        "\n",
        "    elif SCORE == SCORE_HE:\n",
        "        df = pd.DataFrame(SCORE, columns=[\"Image\", \"Acc\", \"F1\", \"Jaccard\", \"Recall\", \"Precision\", \"Recall Computed\", \"AUC\"])\n",
        "        df.to_csv(f\"{he_result_dir}/score.csv\")\n",
        "    else:\n",
        "        df = pd.DataFrame(SCORE, columns=[\"Image\", \"Acc\", \"F1\", \"Jaccard\", \"Recall\", \"Precision\", \"Recall Computed\", \"AUC\"])\n",
        "        df.to_csv(f\"{ex_result_dir}/score.csv\")\n",
        "    print(\"\\n\")"
      ],
      "metadata": {
        "colab": {
          "base_uri": "https://localhost:8080/"
        },
        "id": "QH6I1RXWE_6q",
        "outputId": "23f5a2b9-9966-49ee-b81b-9c590e64925a"
      },
      "execution_count": null,
      "outputs": [
        {
          "output_type": "stream",
          "name": "stdout",
          "text": [
            "files/model.h5\n"
          ]
        },
        {
          "output_type": "stream",
          "name": "stderr",
          "text": [
            "\r  0%|          | 0/27 [00:00<?, ?it/s]"
          ]
        },
        {
          "output_type": "stream",
          "name": "stdout",
          "text": [
            "IDRiD_55\n",
            "255 1.0\n",
            " saving result files_demo_bv_0.2/IDRiD_55.png\n",
            " saving result files_demo_od_0.2/IDRiD_55.png\n",
            " saving result files_demo_ex_0.2/IDRiD_55.png\n"
          ]
        },
        {
          "output_type": "stream",
          "name": "stderr",
          "text": [
            "\r  4%|▎         | 1/27 [00:04<02:05,  4.84s/it]"
          ]
        },
        {
          "output_type": "stream",
          "name": "stdout",
          "text": [
            "IDRiD_56\n",
            "255 1.0\n",
            " saving result files_demo_bv_0.2/IDRiD_56.png\n",
            " saving result files_demo_od_0.2/IDRiD_56.png\n",
            " saving result files_demo_ex_0.2/IDRiD_56.png\n"
          ]
        },
        {
          "output_type": "stream",
          "name": "stderr",
          "text": [
            "\r  7%|▋         | 2/27 [00:08<01:42,  4.12s/it]"
          ]
        },
        {
          "output_type": "stream",
          "name": "stdout",
          "text": [
            "IDRiD_57\n",
            "255 1.0\n",
            " saving result files_demo_bv_0.2/IDRiD_57.png\n",
            " saving result files_demo_od_0.2/IDRiD_57.png\n",
            " saving result files_demo_ex_0.2/IDRiD_57.png\n"
          ]
        },
        {
          "output_type": "stream",
          "name": "stderr",
          "text": [
            "\r 11%|█         | 3/27 [00:11<01:27,  3.65s/it]"
          ]
        },
        {
          "output_type": "stream",
          "name": "stdout",
          "text": [
            "IDRiD_58\n",
            "255 1.0\n",
            " saving result files_demo_bv_0.2/IDRiD_58.png\n",
            " saving result files_demo_od_0.2/IDRiD_58.png\n",
            " saving result files_demo_ex_0.2/IDRiD_58.png\n"
          ]
        },
        {
          "output_type": "stream",
          "name": "stderr",
          "text": [
            "\r 15%|█▍        | 4/27 [00:14<01:18,  3.42s/it]"
          ]
        },
        {
          "output_type": "stream",
          "name": "stdout",
          "text": [
            "IDRiD_59\n",
            "255 1.0\n",
            " saving result files_demo_bv_0.2/IDRiD_59.png\n",
            " saving result files_demo_od_0.2/IDRiD_59.png\n",
            " saving result files_demo_ex_0.2/IDRiD_59.png\n"
          ]
        },
        {
          "output_type": "stream",
          "name": "stderr",
          "text": [
            "\r 19%|█▊        | 5/27 [00:17<01:11,  3.27s/it]"
          ]
        },
        {
          "output_type": "stream",
          "name": "stdout",
          "text": [
            "IDRiD_60\n",
            "255 1.0\n",
            " saving result files_demo_bv_0.2/IDRiD_60.png\n",
            " saving result files_demo_od_0.2/IDRiD_60.png\n",
            " saving result files_demo_ex_0.2/IDRiD_60.png\n"
          ]
        },
        {
          "output_type": "stream",
          "name": "stderr",
          "text": [
            "\r 22%|██▏       | 6/27 [00:19<00:58,  2.80s/it]"
          ]
        },
        {
          "output_type": "stream",
          "name": "stdout",
          "text": [
            "IDRiD_61\n",
            "255 1.0\n",
            " saving result files_demo_bv_0.2/IDRiD_61.png\n",
            " saving result files_demo_od_0.2/IDRiD_61.png\n",
            " saving result files_demo_ex_0.2/IDRiD_61.png\n"
          ]
        },
        {
          "output_type": "stream",
          "name": "stderr",
          "text": [
            "\r 26%|██▌       | 7/27 [00:21<00:50,  2.51s/it]"
          ]
        },
        {
          "output_type": "stream",
          "name": "stdout",
          "text": [
            "IDRiD_62\n",
            "255 1.0\n",
            " saving result files_demo_bv_0.2/IDRiD_62.png\n",
            " saving result files_demo_od_0.2/IDRiD_62.png\n",
            " saving result files_demo_ex_0.2/IDRiD_62.png\n"
          ]
        },
        {
          "output_type": "stream",
          "name": "stderr",
          "text": [
            "\r 30%|██▉       | 8/27 [00:23<00:43,  2.30s/it]"
          ]
        },
        {
          "output_type": "stream",
          "name": "stdout",
          "text": [
            "IDRiD_63\n",
            "255 1.0\n",
            " saving result files_demo_bv_0.2/IDRiD_63.png\n",
            " saving result files_demo_od_0.2/IDRiD_63.png\n",
            " saving result files_demo_ex_0.2/IDRiD_63.png\n"
          ]
        },
        {
          "output_type": "stream",
          "name": "stderr",
          "text": [
            "\r 33%|███▎      | 9/27 [00:25<00:40,  2.23s/it]"
          ]
        },
        {
          "output_type": "stream",
          "name": "stdout",
          "text": [
            "IDRiD_64\n",
            "255 1.0\n",
            " saving result files_demo_bv_0.2/IDRiD_64.png\n",
            " saving result files_demo_od_0.2/IDRiD_64.png\n",
            " saving result files_demo_ex_0.2/IDRiD_64.png\n"
          ]
        },
        {
          "output_type": "stream",
          "name": "stderr",
          "text": [
            "\r 37%|███▋      | 10/27 [00:27<00:36,  2.13s/it]"
          ]
        },
        {
          "output_type": "stream",
          "name": "stdout",
          "text": [
            "IDRiD_65\n",
            "255 1.0\n",
            " saving result files_demo_bv_0.2/IDRiD_65.png\n",
            " saving result files_demo_od_0.2/IDRiD_65.png\n",
            " saving result files_demo_ex_0.2/IDRiD_65.png\n"
          ]
        },
        {
          "output_type": "stream",
          "name": "stderr",
          "text": [
            "\r 41%|████      | 11/27 [00:29<00:33,  2.11s/it]"
          ]
        },
        {
          "output_type": "stream",
          "name": "stdout",
          "text": [
            "IDRiD_66\n",
            "255 1.0\n",
            " saving result files_demo_bv_0.2/IDRiD_66.png\n",
            " saving result files_demo_od_0.2/IDRiD_66.png\n",
            " saving result files_demo_ex_0.2/IDRiD_66.png\n"
          ]
        },
        {
          "output_type": "stream",
          "name": "stderr",
          "text": [
            "\r 44%|████▍     | 12/27 [00:31<00:30,  2.03s/it]"
          ]
        },
        {
          "output_type": "stream",
          "name": "stdout",
          "text": [
            "IDRiD_67\n",
            "255 1.0\n",
            " saving result files_demo_bv_0.2/IDRiD_67.png\n",
            " saving result files_demo_od_0.2/IDRiD_67.png\n",
            " saving result files_demo_ex_0.2/IDRiD_67.png\n"
          ]
        },
        {
          "output_type": "stream",
          "name": "stderr",
          "text": [
            "\r 48%|████▊     | 13/27 [00:33<00:27,  1.99s/it]"
          ]
        },
        {
          "output_type": "stream",
          "name": "stdout",
          "text": [
            "IDRiD_68\n",
            "255 1.0\n",
            " saving result files_demo_bv_0.2/IDRiD_68.png\n",
            " saving result files_demo_od_0.2/IDRiD_68.png\n",
            " saving result files_demo_ex_0.2/IDRiD_68.png\n"
          ]
        },
        {
          "output_type": "stream",
          "name": "stderr",
          "text": [
            "\r 52%|█████▏    | 14/27 [00:35<00:26,  2.01s/it]"
          ]
        },
        {
          "output_type": "stream",
          "name": "stdout",
          "text": [
            "IDRiD_69\n",
            "255 1.0\n",
            " saving result files_demo_bv_0.2/IDRiD_69.png\n",
            " saving result files_demo_od_0.2/IDRiD_69.png\n",
            " saving result files_demo_ex_0.2/IDRiD_69.png\n"
          ]
        },
        {
          "output_type": "stream",
          "name": "stderr",
          "text": [
            "\r 56%|█████▌    | 15/27 [00:37<00:24,  2.01s/it]"
          ]
        },
        {
          "output_type": "stream",
          "name": "stdout",
          "text": [
            "IDRiD_70\n",
            "255 1.0\n",
            " saving result files_demo_bv_0.2/IDRiD_70.png\n",
            " saving result files_demo_od_0.2/IDRiD_70.png\n",
            " saving result files_demo_ex_0.2/IDRiD_70.png\n"
          ]
        },
        {
          "output_type": "stream",
          "name": "stderr",
          "text": [
            "\r 59%|█████▉    | 16/27 [00:39<00:21,  1.97s/it]"
          ]
        },
        {
          "output_type": "stream",
          "name": "stdout",
          "text": [
            "IDRiD_71\n",
            "255 1.0\n",
            " saving result files_demo_bv_0.2/IDRiD_71.png\n",
            " saving result files_demo_od_0.2/IDRiD_71.png\n",
            " saving result files_demo_ex_0.2/IDRiD_71.png\n"
          ]
        },
        {
          "output_type": "stream",
          "name": "stderr",
          "text": [
            "\r 63%|██████▎   | 17/27 [00:40<00:19,  1.93s/it]"
          ]
        },
        {
          "output_type": "stream",
          "name": "stdout",
          "text": [
            "IDRiD_72\n",
            "255 1.0\n",
            " saving result files_demo_bv_0.2/IDRiD_72.png\n",
            " saving result files_demo_od_0.2/IDRiD_72.png\n",
            " saving result files_demo_ex_0.2/IDRiD_72.png\n"
          ]
        },
        {
          "output_type": "stream",
          "name": "stderr",
          "text": [
            "\r 67%|██████▋   | 18/27 [00:42<00:17,  1.92s/it]"
          ]
        },
        {
          "output_type": "stream",
          "name": "stdout",
          "text": [
            "IDRiD_73\n",
            "255 1.0\n",
            " saving result files_demo_bv_0.2/IDRiD_73.png\n",
            " saving result files_demo_od_0.2/IDRiD_73.png\n",
            " saving result files_demo_ex_0.2/IDRiD_73.png\n"
          ]
        },
        {
          "output_type": "stream",
          "name": "stderr",
          "text": [
            "\r 70%|███████   | 19/27 [00:44<00:15,  1.93s/it]"
          ]
        },
        {
          "output_type": "stream",
          "name": "stdout",
          "text": [
            "IDRiD_74\n",
            "255 1.0\n",
            " saving result files_demo_bv_0.2/IDRiD_74.png\n",
            " saving result files_demo_od_0.2/IDRiD_74.png\n",
            " saving result files_demo_ex_0.2/IDRiD_74.png\n"
          ]
        },
        {
          "output_type": "stream",
          "name": "stderr",
          "text": [
            "\r 74%|███████▍  | 20/27 [00:46<00:13,  1.97s/it]"
          ]
        },
        {
          "output_type": "stream",
          "name": "stdout",
          "text": [
            "IDRiD_75\n",
            "255 1.0\n",
            " saving result files_demo_bv_0.2/IDRiD_75.png\n",
            " saving result files_demo_od_0.2/IDRiD_75.png\n",
            " saving result files_demo_ex_0.2/IDRiD_75.png\n"
          ]
        },
        {
          "output_type": "stream",
          "name": "stderr",
          "text": [
            "\r 78%|███████▊  | 21/27 [00:48<00:11,  1.96s/it]"
          ]
        },
        {
          "output_type": "stream",
          "name": "stdout",
          "text": [
            "IDRiD_76\n",
            "255 1.0\n",
            " saving result files_demo_bv_0.2/IDRiD_76.png\n",
            " saving result files_demo_od_0.2/IDRiD_76.png\n",
            " saving result files_demo_ex_0.2/IDRiD_76.png\n"
          ]
        },
        {
          "output_type": "stream",
          "name": "stderr",
          "text": [
            "\r 81%|████████▏ | 22/27 [00:50<00:09,  1.95s/it]"
          ]
        },
        {
          "output_type": "stream",
          "name": "stdout",
          "text": [
            "IDRiD_77\n",
            "255 1.0\n",
            " saving result files_demo_bv_0.2/IDRiD_77.png\n",
            " saving result files_demo_od_0.2/IDRiD_77.png\n",
            " saving result files_demo_ex_0.2/IDRiD_77.png\n"
          ]
        },
        {
          "output_type": "stream",
          "name": "stderr",
          "text": [
            "\r 85%|████████▌ | 23/27 [00:52<00:07,  1.94s/it]"
          ]
        },
        {
          "output_type": "stream",
          "name": "stdout",
          "text": [
            "IDRiD_78\n",
            "255 1.0\n",
            " saving result files_demo_bv_0.2/IDRiD_78.png\n",
            " saving result files_demo_od_0.2/IDRiD_78.png\n",
            " saving result files_demo_ex_0.2/IDRiD_78.png\n"
          ]
        },
        {
          "output_type": "stream",
          "name": "stderr",
          "text": [
            "\r 89%|████████▉ | 24/27 [00:54<00:05,  1.94s/it]"
          ]
        },
        {
          "output_type": "stream",
          "name": "stdout",
          "text": [
            "IDRiD_79\n",
            "255 1.0\n",
            " saving result files_demo_bv_0.2/IDRiD_79.png\n",
            " saving result files_demo_od_0.2/IDRiD_79.png\n",
            " saving result files_demo_ex_0.2/IDRiD_79.png\n"
          ]
        },
        {
          "output_type": "stream",
          "name": "stderr",
          "text": [
            "\r 93%|█████████▎| 25/27 [00:56<00:03,  1.93s/it]"
          ]
        },
        {
          "output_type": "stream",
          "name": "stdout",
          "text": [
            "IDRiD_80\n",
            "255 1.0\n",
            " saving result files_demo_bv_0.2/IDRiD_80.png\n",
            " saving result files_demo_od_0.2/IDRiD_80.png\n",
            " saving result files_demo_ex_0.2/IDRiD_80.png\n"
          ]
        },
        {
          "output_type": "stream",
          "name": "stderr",
          "text": [
            "\r 96%|█████████▋| 26/27 [00:58<00:01,  1.97s/it]"
          ]
        },
        {
          "output_type": "stream",
          "name": "stdout",
          "text": [
            "IDRiD_81\n",
            "255 1.0\n",
            " saving result files_demo_bv_0.2/IDRiD_81.png\n",
            " saving result files_demo_od_0.2/IDRiD_81.png\n",
            " saving result files_demo_ex_0.2/IDRiD_81.png\n"
          ]
        },
        {
          "output_type": "stream",
          "name": "stderr",
          "text": [
            "100%|██████████| 27/27 [01:00<00:00,  2.23s/it]"
          ]
        },
        {
          "output_type": "stream",
          "name": "stdout",
          "text": [
            "\n",
            "\n",
            "****** BV Metrics ******\n",
            "Threshold: 0.2\n",
            "Accuracy: 0.97106\n",
            "F1: 0.78434 (dice score)\n",
            "Jaccard: 0.65034\n",
            "Recall: 0.66868\n",
            "Precision: 0.96246\n",
            "AUC: 0.66868\n",
            "\n",
            "\n",
            "****** OD Metrics ******\n",
            "Threshold: 0.2\n",
            "Accuracy: 0.99793\n",
            "F1: 0.93868 (dice score)\n",
            "Jaccard: 0.88860\n",
            "Recall: 0.94653\n",
            "Precision: 0.93865\n",
            "AUC: 0.94653\n",
            "\n",
            "\n",
            "****** EX Metrics ******\n",
            "Threshold: 0.2\n",
            "Accuracy: 0.99365\n",
            "F1: 0.64287 (dice score)\n",
            "Jaccard: 0.49407\n",
            "Recall: 0.59967\n",
            "Precision: 0.96246\n",
            "AUC: 0.59967\n",
            "\n",
            "\n"
          ]
        },
        {
          "output_type": "stream",
          "name": "stderr",
          "text": [
            "\n"
          ]
        }
      ]
    },
    {
      "cell_type": "code",
      "source": [
        "from copy import deepcopy\n",
        "\n",
        "data_dir = \"new_data_augment\"\n",
        "od_channel, he_channel, ex_channel = 0, 1, 2\n",
        "\n",
        "threshold = 0.1\n",
        "\n",
        "od_result_dir = f\"files_demo_bv_{threshold}\"\n",
        "he_result_dir = f\"files_demo_od_{threshold}\"\n",
        "ex_result_dir = f\"files_demo_ex_{threshold}\"\n",
        "\n",
        "create_dir(od_result_dir)\n",
        "create_dir(he_result_dir)\n",
        "create_dir(ex_result_dir)\n",
        "\n",
        "model_dir = \"files\"\n",
        "\n",
        "\"\"\" Load the model \"\"\"\n",
        "model_file_name = f\"{model_dir}/model.h5\"\n",
        "print(model_file_name)\n",
        "# with CustomObjectScope({'iou': iou, 'dice_coef': dice_coef, 'dice_loss': dice_loss}):\n",
        "model = tf.keras.models.load_model(model_file_name, compile=False)\n",
        "\n",
        "\"\"\" Load the dataset \"\"\"\n",
        "# dataset_path = os.path.join(data_dir, \"test\")\n",
        "test_x, test_y = get_filenames_sorted(data_dir + \"/test/image/\", data_dir + \"/test/mask/\" )\n",
        "\n",
        "\"\"\" Make the prediction and calculate the metrics values \"\"\"\n",
        "SCORE_OD, SCORE_HE, SCORE_EX = [], [], []\n",
        "for x, y in tqdm(zip(test_x, test_y), total=len(test_x)):\n",
        "    \"\"\" Extracting name \"\"\"\n",
        "    name = x.rsplit(\"/\", 1)[1].rsplit(\".\", 1)[0]\n",
        "    print(name)\n",
        "\n",
        "    \"\"\" Read the image and mask \"\"\"\n",
        "    ori_x, x = read_image(x)\n",
        "    ori_y, y = read_mask(y)\n",
        "\n",
        "    \"\"\" Prediction \"\"\"\n",
        "    y_pred = model.predict(np.expand_dims(x, axis=0))[0]\n",
        "    y_pred_prob = deepcopy(y_pred)\n",
        "    y_pred = y_pred > threshold\n",
        "    y_pred = y_pred.astype(np.float32)\n",
        "\n",
        "    print(np.max(ori_y), np.max(y))\n",
        "\n",
        "    \"\"\" Saving the images \"\"\"\n",
        "    save_image_path_od = f\"{od_result_dir}/{name}.png\"\n",
        "    save_results(ori_x, ori_y, y_pred, save_image_path_od, od_channel)\n",
        "\n",
        "    save_image_path_he = f\"{he_result_dir}/{name}.png\"\n",
        "    save_results(ori_x, ori_y, y_pred, save_image_path_he, he_channel)\n",
        "\n",
        "    save_image_path_ex = f\"{ex_result_dir}/{name}.png\"\n",
        "    save_results(ori_x, ori_y, y_pred, save_image_path_ex, ex_channel)\n",
        "\n",
        "    #     \"\"\" Calculate the OD metrics \"\"\"\n",
        "    ma_pred = y_pred[:, :, od_channel].flatten()\n",
        "    ma_pred_prob = y_pred_prob[:, :, od_channel].flatten()\n",
        "    ma_gt = y[:, :, od_channel].flatten()\n",
        "    acc_value = accuracy_score(ma_gt > threshold, ma_pred>threshold)\n",
        "    f1_value = f1_score(ma_gt > threshold, ma_pred>threshold, labels=[0, 1], average=\"binary\")\n",
        "    jac_value = jaccard_score(ma_gt > threshold, ma_pred>threshold, labels=[0, 1], average=\"binary\")\n",
        "    recall_value = recall_score(ma_gt > threshold, ma_pred>threshold, labels=[0, 1], average=\"binary\")\n",
        "    recall_computed = np.sum((ma_gt > threshold) & (ma_pred > threshold)) / np.sum(ma_gt > threshold)\n",
        "    precision_value = precision_score(ma_gt > threshold, ma_pred>threshold, labels=[0, 1], average=\"binary\")\n",
        "    auc_score = auc(ma_gt > threshold, ma_pred_prob)\n",
        "    SCORE_OD.append([name, acc_value, f1_value, jac_value, recall_value, precision_value, recall_computed, auc_score])\n",
        "\n",
        "    #     \"\"\" Calculate the HE metrics \"\"\"\n",
        "    bv_pred = y_pred[:, :, he_channel].flatten()\n",
        "    bv_pred_prob = y_pred_prob[:, :, he_channel].flatten()\n",
        "    bv_gt = y[:, :, he_channel].flatten()\n",
        "    acc_value = accuracy_score(bv_gt > threshold, bv_pred>threshold)\n",
        "    f1_value = f1_score(bv_gt > threshold, bv_pred>threshold, labels=[0, 1], average=\"binary\")\n",
        "    jac_value = jaccard_score(bv_gt > threshold, bv_pred>threshold, labels=[0, 1], average=\"binary\")\n",
        "    recall_value = recall_score(bv_gt > threshold, bv_pred>threshold, labels=[0, 1], average=\"binary\")\n",
        "    recall_computed = np.sum((bv_gt > threshold) & (bv_pred > threshold)) / np.sum(bv_gt > threshold)\n",
        "    precision_value = precision_score(bv_gt > threshold, bv_pred>threshold, labels=[0, 1], average=\"binary\")\n",
        "    auc_score = auc(bv_gt > threshold, bv_pred_prob)\n",
        "    SCORE_HE.append([name, acc_value, f1_value, jac_value, recall_value, precision_value, recall_computed, auc_score])\n",
        "\n",
        "    #     \"\"\" Calculate the EX metrics \"\"\"\n",
        "    he_pred = y_pred[:, :, ex_channel].flatten()\n",
        "    he_pred_prob = y_pred_prob[:, :, ex_channel].flatten()\n",
        "    he_gt = y[:, :, ex_channel].flatten()\n",
        "    acc_value = accuracy_score(he_gt > threshold, he_pred>threshold)\n",
        "    f1_value = f1_score(he_gt > threshold, he_pred>threshold, labels=[0, 1], average=\"binary\")\n",
        "    jac_value = jaccard_score(he_gt > threshold, he_pred>threshold, labels=[0, 1], average=\"binary\")\n",
        "    recall_value = recall_score(he_gt > threshold, he_pred>threshold, labels=[0, 1], average=\"binary\")\n",
        "    recall_computed = np.sum((he_gt > threshold) & (he_pred > threshold)) / np.sum(he_gt > threshold)\n",
        "    precision_value = precision_score(ma_gt > threshold, ma_pred>threshold, labels=[0, 1], average=\"binary\")\n",
        "    auc_score = auc(he_gt > threshold, he_pred_prob)\n",
        "    SCORE_EX.append([name, acc_value, f1_value, jac_value, recall_value, precision_value, recall_computed, auc_score])\n",
        "    \n",
        "print(\"\\n\")\n",
        "\n",
        "for SCORE in [SCORE_OD, SCORE_HE, SCORE_EX]:\n",
        "    if SCORE == SCORE_OD:\n",
        "        print(\"****** BV Metrics ******\")\n",
        "        score = [s[1:] for s in SCORE]\n",
        "        score = np.mean(score, axis=0)\n",
        "        print(f\"Threshold:\", threshold)\n",
        "        print(f\"Accuracy: {score[0]:0.5f}\")\n",
        "        print(f\"F1: {score[1]:0.5f} (dice score)\")\n",
        "        print(f\"Jaccard: {score[2]:0.5f}\")\n",
        "        print(f\"Recall: {score[3]:0.5f}\")\n",
        "        print(f\"Precision: {score[4]:0.5f}\")\n",
        "        print(f\"AUC: {score[5]:0.5f}\")\n",
        "\n",
        "    elif SCORE == SCORE_HE:\n",
        "        print(\"****** OD Metrics ******\")\n",
        "        score = [s[1:] for s in SCORE]\n",
        "        score = np.mean(score, axis=0)\n",
        "        print(f\"Threshold:\", threshold)\n",
        "        print(f\"Accuracy: {score[0]:0.5f}\")\n",
        "        print(f\"F1: {score[1]:0.5f} (dice score)\")\n",
        "        print(f\"Jaccard: {score[2]:0.5f}\")\n",
        "        print(f\"Recall: {score[3]:0.5f}\")\n",
        "        print(f\"Precision: {score[4]:0.5f}\")\n",
        "        print(f\"AUC: {score[5]:0.5f}\")\n",
        "\n",
        "    else:\n",
        "        print(\"****** EX Metrics ******\")\n",
        "        score = [s[1:] for s in SCORE]\n",
        "        score = np.mean(score, axis=0)\n",
        "        print(f\"Threshold:\", threshold)\n",
        "        print(f\"Accuracy: {score[0]:0.5f}\")\n",
        "        print(f\"F1: {score[1]:0.5f} (dice score)\")\n",
        "        print(f\"Jaccard: {score[2]:0.5f}\")\n",
        "        print(f\"Recall: {score[3]:0.5f}\")\n",
        "        print(f\"Precision: {score[4]:0.5f}\")\n",
        "        print(f\"AUC: {score[5]:0.5f}\")\n",
        "\n",
        "    # \"\"\" Saving \"\"\"\n",
        "    if SCORE == SCORE_OD:\n",
        "        df = pd.DataFrame(SCORE, columns=[\"Image\", \"Acc\", \"F1\", \"Jaccard\", \"Recall\", \"Precision\", \"Recall Computed\", \"AUC\"])\n",
        "        df.to_csv(f\"{od_result_dir}/score.csv\")\n",
        "\n",
        "    elif SCORE == SCORE_HE:\n",
        "        df = pd.DataFrame(SCORE, columns=[\"Image\", \"Acc\", \"F1\", \"Jaccard\", \"Recall\", \"Precision\", \"Recall Computed\", \"AUC\"])\n",
        "        df.to_csv(f\"{he_result_dir}/score.csv\")\n",
        "    else:\n",
        "        df = pd.DataFrame(SCORE, columns=[\"Image\", \"Acc\", \"F1\", \"Jaccard\", \"Recall\", \"Precision\", \"Recall Computed\", \"AUC\"])\n",
        "        df.to_csv(f\"{ex_result_dir}/score.csv\")\n",
        "    print(\"\\n\")"
      ],
      "metadata": {
        "colab": {
          "base_uri": "https://localhost:8080/"
        },
        "id": "Afgaw_cvGBWW",
        "outputId": "4eb73c7e-c4ef-406f-a786-634eaf0780c6"
      },
      "execution_count": null,
      "outputs": [
        {
          "output_type": "stream",
          "name": "stdout",
          "text": [
            "files/model.h5\n"
          ]
        },
        {
          "output_type": "stream",
          "name": "stderr",
          "text": [
            "\r  0%|          | 0/27 [00:00<?, ?it/s]"
          ]
        },
        {
          "output_type": "stream",
          "name": "stdout",
          "text": [
            "IDRiD_55\n",
            "255 1.0\n",
            " saving result files_demo_bv_0.1/IDRiD_55.png\n",
            " saving result files_demo_od_0.1/IDRiD_55.png\n",
            " saving result files_demo_ex_0.1/IDRiD_55.png\n"
          ]
        },
        {
          "output_type": "stream",
          "name": "stderr",
          "text": [
            "\r  4%|▎         | 1/27 [00:02<01:01,  2.36s/it]"
          ]
        },
        {
          "output_type": "stream",
          "name": "stdout",
          "text": [
            "IDRiD_56\n",
            "255 1.0\n",
            " saving result files_demo_bv_0.1/IDRiD_56.png\n",
            " saving result files_demo_od_0.1/IDRiD_56.png\n",
            " saving result files_demo_ex_0.1/IDRiD_56.png\n"
          ]
        },
        {
          "output_type": "stream",
          "name": "stderr",
          "text": [
            "\r  7%|▋         | 2/27 [00:04<00:53,  2.16s/it]"
          ]
        },
        {
          "output_type": "stream",
          "name": "stdout",
          "text": [
            "IDRiD_57\n",
            "255 1.0\n",
            " saving result files_demo_bv_0.1/IDRiD_57.png\n",
            " saving result files_demo_od_0.1/IDRiD_57.png\n",
            " saving result files_demo_ex_0.1/IDRiD_57.png\n"
          ]
        },
        {
          "output_type": "stream",
          "name": "stderr",
          "text": [
            "\r 11%|█         | 3/27 [00:06<00:50,  2.10s/it]"
          ]
        },
        {
          "output_type": "stream",
          "name": "stdout",
          "text": [
            "IDRiD_58\n",
            "255 1.0\n",
            " saving result files_demo_bv_0.1/IDRiD_58.png\n",
            " saving result files_demo_od_0.1/IDRiD_58.png\n",
            " saving result files_demo_ex_0.1/IDRiD_58.png\n"
          ]
        },
        {
          "output_type": "stream",
          "name": "stderr",
          "text": [
            "\r 15%|█▍        | 4/27 [00:08<00:47,  2.07s/it]"
          ]
        },
        {
          "output_type": "stream",
          "name": "stdout",
          "text": [
            "IDRiD_59\n",
            "255 1.0\n",
            " saving result files_demo_bv_0.1/IDRiD_59.png\n",
            " saving result files_demo_od_0.1/IDRiD_59.png\n",
            " saving result files_demo_ex_0.1/IDRiD_59.png\n"
          ]
        },
        {
          "output_type": "stream",
          "name": "stderr",
          "text": [
            "\r 19%|█▊        | 5/27 [00:10<00:43,  1.98s/it]"
          ]
        },
        {
          "output_type": "stream",
          "name": "stdout",
          "text": [
            "IDRiD_60\n",
            "255 1.0\n",
            " saving result files_demo_bv_0.1/IDRiD_60.png\n",
            " saving result files_demo_od_0.1/IDRiD_60.png\n",
            " saving result files_demo_ex_0.1/IDRiD_60.png\n"
          ]
        },
        {
          "output_type": "stream",
          "name": "stderr",
          "text": [
            "\r 22%|██▏       | 6/27 [00:12<00:40,  1.93s/it]"
          ]
        },
        {
          "output_type": "stream",
          "name": "stdout",
          "text": [
            "IDRiD_61\n",
            "255 1.0\n",
            " saving result files_demo_bv_0.1/IDRiD_61.png\n",
            " saving result files_demo_od_0.1/IDRiD_61.png\n",
            " saving result files_demo_ex_0.1/IDRiD_61.png\n"
          ]
        },
        {
          "output_type": "stream",
          "name": "stderr",
          "text": [
            "\r 26%|██▌       | 7/27 [00:13<00:38,  1.91s/it]"
          ]
        },
        {
          "output_type": "stream",
          "name": "stdout",
          "text": [
            "IDRiD_62\n",
            "255 1.0\n",
            " saving result files_demo_bv_0.1/IDRiD_62.png\n",
            " saving result files_demo_od_0.1/IDRiD_62.png\n",
            " saving result files_demo_ex_0.1/IDRiD_62.png\n"
          ]
        },
        {
          "output_type": "stream",
          "name": "stderr",
          "text": [
            "\r 30%|██▉       | 8/27 [00:15<00:35,  1.88s/it]"
          ]
        },
        {
          "output_type": "stream",
          "name": "stdout",
          "text": [
            "IDRiD_63\n",
            "255 1.0\n",
            " saving result files_demo_bv_0.1/IDRiD_63.png\n",
            " saving result files_demo_od_0.1/IDRiD_63.png\n",
            " saving result files_demo_ex_0.1/IDRiD_63.png\n"
          ]
        },
        {
          "output_type": "stream",
          "name": "stderr",
          "text": [
            "\r 33%|███▎      | 9/27 [00:17<00:33,  1.86s/it]"
          ]
        },
        {
          "output_type": "stream",
          "name": "stdout",
          "text": [
            "IDRiD_64\n",
            "255 1.0\n",
            " saving result files_demo_bv_0.1/IDRiD_64.png\n",
            " saving result files_demo_od_0.1/IDRiD_64.png\n",
            " saving result files_demo_ex_0.1/IDRiD_64.png\n"
          ]
        },
        {
          "output_type": "stream",
          "name": "stderr",
          "text": [
            "\r 37%|███▋      | 10/27 [00:19<00:31,  1.85s/it]"
          ]
        },
        {
          "output_type": "stream",
          "name": "stdout",
          "text": [
            "IDRiD_65\n",
            "255 1.0\n",
            " saving result files_demo_bv_0.1/IDRiD_65.png\n",
            " saving result files_demo_od_0.1/IDRiD_65.png\n",
            " saving result files_demo_ex_0.1/IDRiD_65.png\n"
          ]
        },
        {
          "output_type": "stream",
          "name": "stderr",
          "text": [
            "\r 41%|████      | 11/27 [00:21<00:29,  1.84s/it]"
          ]
        },
        {
          "output_type": "stream",
          "name": "stdout",
          "text": [
            "IDRiD_66\n",
            "255 1.0\n",
            " saving result files_demo_bv_0.1/IDRiD_66.png\n",
            " saving result files_demo_od_0.1/IDRiD_66.png\n",
            " saving result files_demo_ex_0.1/IDRiD_66.png\n"
          ]
        },
        {
          "output_type": "stream",
          "name": "stderr",
          "text": [
            "\r 44%|████▍     | 12/27 [00:23<00:28,  1.89s/it]"
          ]
        },
        {
          "output_type": "stream",
          "name": "stdout",
          "text": [
            "IDRiD_67\n",
            "255 1.0\n",
            " saving result files_demo_bv_0.1/IDRiD_67.png\n",
            " saving result files_demo_od_0.1/IDRiD_67.png\n",
            " saving result files_demo_ex_0.1/IDRiD_67.png\n"
          ]
        },
        {
          "output_type": "stream",
          "name": "stderr",
          "text": [
            "\r 48%|████▊     | 13/27 [00:25<00:26,  1.87s/it]"
          ]
        },
        {
          "output_type": "stream",
          "name": "stdout",
          "text": [
            "IDRiD_68\n",
            "255 1.0\n",
            " saving result files_demo_bv_0.1/IDRiD_68.png\n",
            " saving result files_demo_od_0.1/IDRiD_68.png\n",
            " saving result files_demo_ex_0.1/IDRiD_68.png\n"
          ]
        },
        {
          "output_type": "stream",
          "name": "stderr",
          "text": [
            "\r 52%|█████▏    | 14/27 [00:26<00:24,  1.86s/it]"
          ]
        },
        {
          "output_type": "stream",
          "name": "stdout",
          "text": [
            "IDRiD_69\n",
            "255 1.0\n",
            " saving result files_demo_bv_0.1/IDRiD_69.png\n",
            " saving result files_demo_od_0.1/IDRiD_69.png\n",
            " saving result files_demo_ex_0.1/IDRiD_69.png\n"
          ]
        },
        {
          "output_type": "stream",
          "name": "stderr",
          "text": [
            "\r 56%|█████▌    | 15/27 [00:28<00:22,  1.90s/it]"
          ]
        },
        {
          "output_type": "stream",
          "name": "stdout",
          "text": [
            "IDRiD_70\n",
            "255 1.0\n",
            " saving result files_demo_bv_0.1/IDRiD_70.png\n",
            " saving result files_demo_od_0.1/IDRiD_70.png\n",
            " saving result files_demo_ex_0.1/IDRiD_70.png\n"
          ]
        },
        {
          "output_type": "stream",
          "name": "stderr",
          "text": [
            "\r 59%|█████▉    | 16/27 [00:30<00:20,  1.89s/it]"
          ]
        },
        {
          "output_type": "stream",
          "name": "stdout",
          "text": [
            "IDRiD_71\n",
            "255 1.0\n",
            " saving result files_demo_bv_0.1/IDRiD_71.png\n",
            " saving result files_demo_od_0.1/IDRiD_71.png\n",
            " saving result files_demo_ex_0.1/IDRiD_71.png\n"
          ]
        },
        {
          "output_type": "stream",
          "name": "stderr",
          "text": [
            "\r 63%|██████▎   | 17/27 [00:32<00:18,  1.88s/it]"
          ]
        },
        {
          "output_type": "stream",
          "name": "stdout",
          "text": [
            "IDRiD_72\n",
            "255 1.0\n",
            " saving result files_demo_bv_0.1/IDRiD_72.png\n",
            " saving result files_demo_od_0.1/IDRiD_72.png\n",
            " saving result files_demo_ex_0.1/IDRiD_72.png\n"
          ]
        },
        {
          "output_type": "stream",
          "name": "stderr",
          "text": [
            "\r 67%|██████▋   | 18/27 [00:34<00:16,  1.88s/it]"
          ]
        },
        {
          "output_type": "stream",
          "name": "stdout",
          "text": [
            "IDRiD_73\n",
            "255 1.0\n",
            " saving result files_demo_bv_0.1/IDRiD_73.png\n",
            " saving result files_demo_od_0.1/IDRiD_73.png\n",
            " saving result files_demo_ex_0.1/IDRiD_73.png\n"
          ]
        },
        {
          "output_type": "stream",
          "name": "stderr",
          "text": [
            "\r 70%|███████   | 19/27 [00:36<00:14,  1.86s/it]"
          ]
        },
        {
          "output_type": "stream",
          "name": "stdout",
          "text": [
            "IDRiD_74\n",
            "255 1.0\n",
            " saving result files_demo_bv_0.1/IDRiD_74.png\n",
            " saving result files_demo_od_0.1/IDRiD_74.png\n",
            " saving result files_demo_ex_0.1/IDRiD_74.png\n"
          ]
        },
        {
          "output_type": "stream",
          "name": "stderr",
          "text": [
            "\r 74%|███████▍  | 20/27 [00:38<00:13,  1.90s/it]"
          ]
        },
        {
          "output_type": "stream",
          "name": "stdout",
          "text": [
            "IDRiD_75\n",
            "255 1.0\n",
            " saving result files_demo_bv_0.1/IDRiD_75.png\n",
            " saving result files_demo_od_0.1/IDRiD_75.png\n",
            " saving result files_demo_ex_0.1/IDRiD_75.png\n"
          ]
        },
        {
          "output_type": "stream",
          "name": "stderr",
          "text": [
            "\r 78%|███████▊  | 21/27 [00:40<00:11,  1.87s/it]"
          ]
        },
        {
          "output_type": "stream",
          "name": "stdout",
          "text": [
            "IDRiD_76\n",
            "255 1.0\n",
            " saving result files_demo_bv_0.1/IDRiD_76.png\n",
            " saving result files_demo_od_0.1/IDRiD_76.png\n",
            " saving result files_demo_ex_0.1/IDRiD_76.png\n"
          ]
        },
        {
          "output_type": "stream",
          "name": "stderr",
          "text": [
            "\r 81%|████████▏ | 22/27 [00:42<00:09,  1.90s/it]"
          ]
        },
        {
          "output_type": "stream",
          "name": "stdout",
          "text": [
            "IDRiD_77\n",
            "255 1.0\n",
            " saving result files_demo_bv_0.1/IDRiD_77.png\n",
            " saving result files_demo_od_0.1/IDRiD_77.png\n",
            " saving result files_demo_ex_0.1/IDRiD_77.png\n"
          ]
        },
        {
          "output_type": "stream",
          "name": "stderr",
          "text": [
            "\r 85%|████████▌ | 23/27 [00:43<00:07,  1.88s/it]"
          ]
        },
        {
          "output_type": "stream",
          "name": "stdout",
          "text": [
            "IDRiD_78\n",
            "255 1.0\n",
            " saving result files_demo_bv_0.1/IDRiD_78.png\n",
            " saving result files_demo_od_0.1/IDRiD_78.png\n",
            " saving result files_demo_ex_0.1/IDRiD_78.png\n"
          ]
        },
        {
          "output_type": "stream",
          "name": "stderr",
          "text": [
            "\r 89%|████████▉ | 24/27 [00:45<00:05,  1.92s/it]"
          ]
        },
        {
          "output_type": "stream",
          "name": "stdout",
          "text": [
            "IDRiD_79\n",
            "255 1.0\n",
            " saving result files_demo_bv_0.1/IDRiD_79.png\n",
            " saving result files_demo_od_0.1/IDRiD_79.png\n",
            " saving result files_demo_ex_0.1/IDRiD_79.png\n"
          ]
        },
        {
          "output_type": "stream",
          "name": "stderr",
          "text": [
            "\r 93%|█████████▎| 25/27 [00:47<00:03,  1.90s/it]"
          ]
        },
        {
          "output_type": "stream",
          "name": "stdout",
          "text": [
            "IDRiD_80\n",
            "255 1.0\n",
            " saving result files_demo_bv_0.1/IDRiD_80.png\n",
            " saving result files_demo_od_0.1/IDRiD_80.png\n",
            " saving result files_demo_ex_0.1/IDRiD_80.png\n"
          ]
        },
        {
          "output_type": "stream",
          "name": "stderr",
          "text": [
            "\r 96%|█████████▋| 26/27 [00:49<00:01,  1.93s/it]"
          ]
        },
        {
          "output_type": "stream",
          "name": "stdout",
          "text": [
            "IDRiD_81\n",
            "255 1.0\n",
            " saving result files_demo_bv_0.1/IDRiD_81.png\n",
            " saving result files_demo_od_0.1/IDRiD_81.png\n",
            " saving result files_demo_ex_0.1/IDRiD_81.png\n"
          ]
        },
        {
          "output_type": "stream",
          "name": "stderr",
          "text": [
            "100%|██████████| 27/27 [00:51<00:00,  1.91s/it]"
          ]
        },
        {
          "output_type": "stream",
          "name": "stdout",
          "text": [
            "\n",
            "\n",
            "****** BV Metrics ******\n",
            "Threshold: 0.1\n",
            "Accuracy: 0.95787\n",
            "F1: 0.73626 (dice score)\n",
            "Jaccard: 0.58686\n",
            "Recall: 0.59734\n",
            "Precision: 0.97244\n",
            "AUC: 0.59734\n",
            "\n",
            "\n",
            "****** OD Metrics ******\n",
            "Threshold: 0.1\n",
            "Accuracy: 0.99506\n",
            "F1: 0.87626 (dice score)\n",
            "Jaccard: 0.79213\n",
            "Recall: 0.83015\n",
            "Precision: 0.94548\n",
            "AUC: 0.83015\n",
            "\n",
            "\n",
            "****** EX Metrics ******\n",
            "Threshold: 0.1\n",
            "Accuracy: 0.99140\n",
            "F1: 0.61145 (dice score)\n",
            "Jaccard: 0.46036\n",
            "Recall: 0.51887\n",
            "Precision: 0.97244\n",
            "AUC: 0.51887\n",
            "\n",
            "\n"
          ]
        },
        {
          "output_type": "stream",
          "name": "stderr",
          "text": [
            "\n"
          ]
        }
      ]
    },
    {
      "cell_type": "code",
      "source": [
        "from copy import deepcopy\n",
        "\n",
        "data_dir = \"new_data_augment\"\n",
        "od_channel, he_channel, ex_channel = 0, 1, 2\n",
        "\n",
        "threshold = 0.35\n",
        "\n",
        "od_result_dir = f\"files_demo_bv_{threshold}\"\n",
        "he_result_dir = f\"files_demo_od_{threshold}\"\n",
        "ex_result_dir = f\"files_demo_ex_{threshold}\"\n",
        "\n",
        "create_dir(od_result_dir)\n",
        "create_dir(he_result_dir)\n",
        "create_dir(ex_result_dir)\n",
        "\n",
        "model_dir = \"files\"\n",
        "\n",
        "\"\"\" Load the model \"\"\"\n",
        "model_file_name = f\"{model_dir}/model.h5\"\n",
        "print(model_file_name)\n",
        "# with CustomObjectScope({'iou': iou, 'dice_coef': dice_coef, 'dice_loss': dice_loss}):\n",
        "model = tf.keras.models.load_model(model_file_name, compile=False)\n",
        "\n",
        "\"\"\" Load the dataset \"\"\"\n",
        "# dataset_path = os.path.join(data_dir, \"test\")\n",
        "test_x, test_y = get_filenames_sorted(data_dir + \"/test/image/\", data_dir + \"/test/mask/\" )\n",
        "\n",
        "\"\"\" Make the prediction and calculate the metrics values \"\"\"\n",
        "SCORE_OD, SCORE_HE, SCORE_EX = [], [], []\n",
        "for x, y in tqdm(zip(test_x, test_y), total=len(test_x)):\n",
        "    \"\"\" Extracting name \"\"\"\n",
        "    name = x.rsplit(\"/\", 1)[1].rsplit(\".\", 1)[0]\n",
        "    print(name)\n",
        "\n",
        "    \"\"\" Read the image and mask \"\"\"\n",
        "    ori_x, x = read_image(x)\n",
        "    ori_y, y = read_mask(y)\n",
        "\n",
        "    \"\"\" Prediction \"\"\"\n",
        "    y_pred = model.predict(np.expand_dims(x, axis=0))[0]\n",
        "    y_pred_prob = deepcopy(y_pred)\n",
        "    y_pred = y_pred > threshold\n",
        "    y_pred = y_pred.astype(np.float32)\n",
        "\n",
        "    print(np.max(ori_y), np.max(y))\n",
        "\n",
        "    \"\"\" Saving the images \"\"\"\n",
        "    save_image_path_od = f\"{od_result_dir}/{name}.png\"\n",
        "    save_results(ori_x, ori_y, y_pred, save_image_path_od, od_channel)\n",
        "\n",
        "    save_image_path_he = f\"{he_result_dir}/{name}.png\"\n",
        "    save_results(ori_x, ori_y, y_pred, save_image_path_he, he_channel)\n",
        "\n",
        "    save_image_path_ex = f\"{ex_result_dir}/{name}.png\"\n",
        "    save_results(ori_x, ori_y, y_pred, save_image_path_ex, ex_channel)\n",
        "\n",
        "    #     \"\"\" Calculate the OD metrics \"\"\"\n",
        "    ma_pred = y_pred[:, :, od_channel].flatten()\n",
        "    ma_pred_prob = y_pred_prob[:, :, od_channel].flatten()\n",
        "    ma_gt = y[:, :, od_channel].flatten()\n",
        "    acc_value = accuracy_score(ma_gt > threshold, ma_pred>threshold)\n",
        "    f1_value = f1_score(ma_gt > threshold, ma_pred>threshold, labels=[0, 1], average=\"binary\")\n",
        "    jac_value = jaccard_score(ma_gt > threshold, ma_pred>threshold, labels=[0, 1], average=\"binary\")\n",
        "    recall_value = recall_score(ma_gt > threshold, ma_pred>threshold, labels=[0, 1], average=\"binary\")\n",
        "    recall_computed = np.sum((ma_gt > threshold) & (ma_pred > threshold)) / np.sum(ma_gt > threshold)\n",
        "    precision_value = precision_score(ma_gt > threshold, ma_pred>threshold, labels=[0, 1], average=\"binary\")\n",
        "    auc_score = auc(ma_gt > threshold, ma_pred_prob)\n",
        "    SCORE_OD.append([name, acc_value, f1_value, jac_value, recall_value, precision_value, recall_computed, auc_score])\n",
        "\n",
        "    #     \"\"\" Calculate the HE metrics \"\"\"\n",
        "    bv_pred = y_pred[:, :, he_channel].flatten()\n",
        "    bv_pred_prob = y_pred_prob[:, :, he_channel].flatten()\n",
        "    bv_gt = y[:, :, he_channel].flatten()\n",
        "    acc_value = accuracy_score(bv_gt > threshold, bv_pred>threshold)\n",
        "    f1_value = f1_score(bv_gt > threshold, bv_pred>threshold, labels=[0, 1], average=\"binary\")\n",
        "    jac_value = jaccard_score(bv_gt > threshold, bv_pred>threshold, labels=[0, 1], average=\"binary\")\n",
        "    recall_value = recall_score(bv_gt > threshold, bv_pred>threshold, labels=[0, 1], average=\"binary\")\n",
        "    recall_computed = np.sum((bv_gt > threshold) & (bv_pred > threshold)) / np.sum(bv_gt > threshold)\n",
        "    precision_value = precision_score(bv_gt > threshold, bv_pred>threshold, labels=[0, 1], average=\"binary\")\n",
        "    auc_score = auc(bv_gt > threshold, bv_pred_prob)\n",
        "    SCORE_HE.append([name, acc_value, f1_value, jac_value, recall_value, precision_value, recall_computed, auc_score])\n",
        "\n",
        "    #     \"\"\" Calculate the EX metrics \"\"\"\n",
        "    he_pred = y_pred[:, :, ex_channel].flatten()\n",
        "    he_pred_prob = y_pred_prob[:, :, ex_channel].flatten()\n",
        "    he_gt = y[:, :, ex_channel].flatten()\n",
        "    acc_value = accuracy_score(he_gt > threshold, he_pred>threshold)\n",
        "    f1_value = f1_score(he_gt > threshold, he_pred>threshold, labels=[0, 1], average=\"binary\")\n",
        "    jac_value = jaccard_score(he_gt > threshold, he_pred>threshold, labels=[0, 1], average=\"binary\")\n",
        "    recall_value = recall_score(he_gt > threshold, he_pred>threshold, labels=[0, 1], average=\"binary\")\n",
        "    recall_computed = np.sum((he_gt > threshold) & (he_pred > threshold)) / np.sum(he_gt > threshold)\n",
        "    precision_value = precision_score(ma_gt > threshold, ma_pred>threshold, labels=[0, 1], average=\"binary\")\n",
        "    auc_score = auc(he_gt > threshold, he_pred_prob)\n",
        "    SCORE_EX.append([name, acc_value, f1_value, jac_value, recall_value, precision_value, recall_computed, auc_score])\n",
        "    \n",
        "print(\"\\n\")\n",
        "\n",
        "for SCORE in [SCORE_OD, SCORE_HE, SCORE_EX]:\n",
        "    if SCORE == SCORE_OD:\n",
        "        print(\"****** BV Metrics ******\")\n",
        "        score = [s[1:] for s in SCORE]\n",
        "        score = np.mean(score, axis=0)\n",
        "        print(f\"Threshold:\", threshold)\n",
        "        print(f\"Accuracy: {score[0]:0.5f}\")\n",
        "        print(f\"F1: {score[1]:0.5f} (dice score)\")\n",
        "        print(f\"Jaccard: {score[2]:0.5f}\")\n",
        "        print(f\"Recall: {score[3]:0.5f}\")\n",
        "        print(f\"Precision: {score[4]:0.5f}\")\n",
        "        print(f\"AUC: {score[5]:0.5f}\")\n",
        "\n",
        "    elif SCORE == SCORE_HE:\n",
        "        print(\"****** OD Metrics ******\")\n",
        "        score = [s[1:] for s in SCORE]\n",
        "        score = np.mean(score, axis=0)\n",
        "        print(f\"Threshold:\", threshold)\n",
        "        print(f\"Accuracy: {score[0]:0.5f}\")\n",
        "        print(f\"F1: {score[1]:0.5f} (dice score)\")\n",
        "        print(f\"Jaccard: {score[2]:0.5f}\")\n",
        "        print(f\"Recall: {score[3]:0.5f}\")\n",
        "        print(f\"Precision: {score[4]:0.5f}\")\n",
        "        print(f\"AUC: {score[5]:0.5f}\")\n",
        "\n",
        "    else:\n",
        "        print(\"****** EX Metrics ******\")\n",
        "        score = [s[1:] for s in SCORE]\n",
        "        score = np.mean(score, axis=0)\n",
        "        print(f\"Threshold:\", threshold)\n",
        "        print(f\"Accuracy: {score[0]:0.5f}\")\n",
        "        print(f\"F1: {score[1]:0.5f} (dice score)\")\n",
        "        print(f\"Jaccard: {score[2]:0.5f}\")\n",
        "        print(f\"Recall: {score[3]:0.5f}\")\n",
        "        print(f\"Precision: {score[4]:0.5f}\")\n",
        "        print(f\"AUC: {score[5]:0.5f}\")\n",
        "\n",
        "    # \"\"\" Saving \"\"\"\n",
        "    if SCORE == SCORE_OD:\n",
        "        df = pd.DataFrame(SCORE, columns=[\"Image\", \"Acc\", \"F1\", \"Jaccard\", \"Recall\", \"Precision\", \"Recall Computed\", \"AUC\"])\n",
        "        df.to_csv(f\"{od_result_dir}/score.csv\")\n",
        "\n",
        "    elif SCORE == SCORE_HE:\n",
        "        df = pd.DataFrame(SCORE, columns=[\"Image\", \"Acc\", \"F1\", \"Jaccard\", \"Recall\", \"Precision\", \"Recall Computed\", \"AUC\"])\n",
        "        df.to_csv(f\"{he_result_dir}/score.csv\")\n",
        "    else:\n",
        "        df = pd.DataFrame(SCORE, columns=[\"Image\", \"Acc\", \"F1\", \"Jaccard\", \"Recall\", \"Precision\", \"Recall Computed\", \"AUC\"])\n",
        "        df.to_csv(f\"{ex_result_dir}/score.csv\")\n",
        "    print(\"\\n\")"
      ],
      "metadata": {
        "colab": {
          "base_uri": "https://localhost:8080/"
        },
        "id": "RZ0oM8IWGlUI",
        "outputId": "6e8d9cdd-78c7-430f-dfee-6a8928ddeed2"
      },
      "execution_count": null,
      "outputs": [
        {
          "output_type": "stream",
          "name": "stdout",
          "text": [
            "files/model.h5\n"
          ]
        },
        {
          "output_type": "stream",
          "name": "stderr",
          "text": [
            "\r  0%|          | 0/27 [00:00<?, ?it/s]"
          ]
        },
        {
          "output_type": "stream",
          "name": "stdout",
          "text": [
            "IDRiD_55\n",
            "255 1.0\n",
            " saving result files_demo_bv_0.35/IDRiD_55.png\n",
            " saving result files_demo_od_0.35/IDRiD_55.png\n",
            " saving result files_demo_ex_0.35/IDRiD_55.png\n"
          ]
        },
        {
          "output_type": "stream",
          "name": "stderr",
          "text": [
            "\r  4%|▎         | 1/27 [00:02<01:02,  2.41s/it]"
          ]
        },
        {
          "output_type": "stream",
          "name": "stdout",
          "text": [
            "IDRiD_56\n",
            "255 1.0\n",
            " saving result files_demo_bv_0.35/IDRiD_56.png\n",
            " saving result files_demo_od_0.35/IDRiD_56.png\n",
            " saving result files_demo_ex_0.35/IDRiD_56.png\n"
          ]
        },
        {
          "output_type": "stream",
          "name": "stderr",
          "text": [
            "\r  7%|▋         | 2/27 [00:04<00:54,  2.18s/it]"
          ]
        },
        {
          "output_type": "stream",
          "name": "stdout",
          "text": [
            "IDRiD_57\n",
            "255 1.0\n",
            " saving result files_demo_bv_0.35/IDRiD_57.png\n",
            " saving result files_demo_od_0.35/IDRiD_57.png\n",
            " saving result files_demo_ex_0.35/IDRiD_57.png\n"
          ]
        },
        {
          "output_type": "stream",
          "name": "stderr",
          "text": [
            "\r 11%|█         | 3/27 [00:06<00:50,  2.11s/it]"
          ]
        },
        {
          "output_type": "stream",
          "name": "stdout",
          "text": [
            "IDRiD_58\n",
            "255 1.0\n",
            " saving result files_demo_bv_0.35/IDRiD_58.png\n",
            " saving result files_demo_od_0.35/IDRiD_58.png\n",
            " saving result files_demo_ex_0.35/IDRiD_58.png\n"
          ]
        },
        {
          "output_type": "stream",
          "name": "stderr",
          "text": [
            "\r 15%|█▍        | 4/27 [00:08<00:45,  1.99s/it]"
          ]
        },
        {
          "output_type": "stream",
          "name": "stdout",
          "text": [
            "IDRiD_59\n",
            "255 1.0\n",
            " saving result files_demo_bv_0.35/IDRiD_59.png\n",
            " saving result files_demo_od_0.35/IDRiD_59.png\n",
            " saving result files_demo_ex_0.35/IDRiD_59.png\n"
          ]
        },
        {
          "output_type": "stream",
          "name": "stderr",
          "text": [
            "\r 19%|█▊        | 5/27 [00:10<00:42,  1.94s/it]"
          ]
        },
        {
          "output_type": "stream",
          "name": "stdout",
          "text": [
            "IDRiD_60\n",
            "255 1.0\n",
            " saving result files_demo_bv_0.35/IDRiD_60.png\n",
            " saving result files_demo_od_0.35/IDRiD_60.png\n",
            " saving result files_demo_ex_0.35/IDRiD_60.png\n"
          ]
        },
        {
          "output_type": "stream",
          "name": "stderr",
          "text": [
            "\r 22%|██▏       | 6/27 [00:11<00:39,  1.90s/it]"
          ]
        },
        {
          "output_type": "stream",
          "name": "stdout",
          "text": [
            "IDRiD_61\n",
            "255 1.0\n",
            " saving result files_demo_bv_0.35/IDRiD_61.png\n",
            " saving result files_demo_od_0.35/IDRiD_61.png\n",
            " saving result files_demo_ex_0.35/IDRiD_61.png\n"
          ]
        },
        {
          "output_type": "stream",
          "name": "stderr",
          "text": [
            "\r 26%|██▌       | 7/27 [00:13<00:37,  1.86s/it]"
          ]
        },
        {
          "output_type": "stream",
          "name": "stdout",
          "text": [
            "IDRiD_62\n",
            "255 1.0\n",
            " saving result files_demo_bv_0.35/IDRiD_62.png\n",
            " saving result files_demo_od_0.35/IDRiD_62.png\n",
            " saving result files_demo_ex_0.35/IDRiD_62.png\n"
          ]
        },
        {
          "output_type": "stream",
          "name": "stderr",
          "text": [
            "\r 30%|██▉       | 8/27 [00:15<00:35,  1.85s/it]"
          ]
        },
        {
          "output_type": "stream",
          "name": "stdout",
          "text": [
            "IDRiD_63\n",
            "255 1.0\n",
            " saving result files_demo_bv_0.35/IDRiD_63.png\n",
            " saving result files_demo_od_0.35/IDRiD_63.png\n",
            " saving result files_demo_ex_0.35/IDRiD_63.png\n"
          ]
        },
        {
          "output_type": "stream",
          "name": "stderr",
          "text": [
            "\r 33%|███▎      | 9/27 [00:17<00:34,  1.90s/it]"
          ]
        },
        {
          "output_type": "stream",
          "name": "stdout",
          "text": [
            "IDRiD_64\n",
            "255 1.0\n",
            " saving result files_demo_bv_0.35/IDRiD_64.png\n",
            " saving result files_demo_od_0.35/IDRiD_64.png\n",
            " saving result files_demo_ex_0.35/IDRiD_64.png\n"
          ]
        },
        {
          "output_type": "stream",
          "name": "stderr",
          "text": [
            "\r 37%|███▋      | 10/27 [00:19<00:32,  1.90s/it]"
          ]
        },
        {
          "output_type": "stream",
          "name": "stdout",
          "text": [
            "IDRiD_65\n",
            "255 1.0\n",
            " saving result files_demo_bv_0.35/IDRiD_65.png\n",
            " saving result files_demo_od_0.35/IDRiD_65.png\n",
            " saving result files_demo_ex_0.35/IDRiD_65.png\n"
          ]
        },
        {
          "output_type": "stream",
          "name": "stderr",
          "text": [
            "\r 41%|████      | 11/27 [00:21<00:30,  1.88s/it]"
          ]
        },
        {
          "output_type": "stream",
          "name": "stdout",
          "text": [
            "IDRiD_66\n",
            "255 1.0\n",
            " saving result files_demo_bv_0.35/IDRiD_66.png\n",
            " saving result files_demo_od_0.35/IDRiD_66.png\n",
            " saving result files_demo_ex_0.35/IDRiD_66.png\n"
          ]
        },
        {
          "output_type": "stream",
          "name": "stderr",
          "text": [
            "\r 44%|████▍     | 12/27 [00:23<00:27,  1.87s/it]"
          ]
        },
        {
          "output_type": "stream",
          "name": "stdout",
          "text": [
            "IDRiD_67\n",
            "255 1.0\n",
            " saving result files_demo_bv_0.35/IDRiD_67.png\n",
            " saving result files_demo_od_0.35/IDRiD_67.png\n",
            " saving result files_demo_ex_0.35/IDRiD_67.png\n"
          ]
        },
        {
          "output_type": "stream",
          "name": "stderr",
          "text": [
            "\r 48%|████▊     | 13/27 [00:25<00:26,  1.91s/it]"
          ]
        },
        {
          "output_type": "stream",
          "name": "stdout",
          "text": [
            "IDRiD_68\n",
            "255 1.0\n",
            " saving result files_demo_bv_0.35/IDRiD_68.png\n",
            " saving result files_demo_od_0.35/IDRiD_68.png\n",
            " saving result files_demo_ex_0.35/IDRiD_68.png\n"
          ]
        },
        {
          "output_type": "stream",
          "name": "stderr",
          "text": [
            "\r 52%|█████▏    | 14/27 [00:26<00:24,  1.88s/it]"
          ]
        },
        {
          "output_type": "stream",
          "name": "stdout",
          "text": [
            "IDRiD_69\n",
            "255 1.0\n",
            " saving result files_demo_bv_0.35/IDRiD_69.png\n",
            " saving result files_demo_od_0.35/IDRiD_69.png\n",
            " saving result files_demo_ex_0.35/IDRiD_69.png\n"
          ]
        },
        {
          "output_type": "stream",
          "name": "stderr",
          "text": [
            "\r 56%|█████▌    | 15/27 [00:28<00:22,  1.86s/it]"
          ]
        },
        {
          "output_type": "stream",
          "name": "stdout",
          "text": [
            "IDRiD_70\n",
            "255 1.0\n",
            " saving result files_demo_bv_0.35/IDRiD_70.png\n",
            " saving result files_demo_od_0.35/IDRiD_70.png\n",
            " saving result files_demo_ex_0.35/IDRiD_70.png\n"
          ]
        },
        {
          "output_type": "stream",
          "name": "stderr",
          "text": [
            "\r 59%|█████▉    | 16/27 [00:30<00:20,  1.86s/it]"
          ]
        },
        {
          "output_type": "stream",
          "name": "stdout",
          "text": [
            "IDRiD_71\n",
            "255 1.0\n",
            " saving result files_demo_bv_0.35/IDRiD_71.png\n",
            " saving result files_demo_od_0.35/IDRiD_71.png\n",
            " saving result files_demo_ex_0.35/IDRiD_71.png\n"
          ]
        },
        {
          "output_type": "stream",
          "name": "stderr",
          "text": [
            "\r 63%|██████▎   | 17/27 [00:32<00:19,  1.90s/it]"
          ]
        },
        {
          "output_type": "stream",
          "name": "stdout",
          "text": [
            "IDRiD_72\n",
            "255 1.0\n",
            " saving result files_demo_bv_0.35/IDRiD_72.png\n",
            " saving result files_demo_od_0.35/IDRiD_72.png\n",
            " saving result files_demo_ex_0.35/IDRiD_72.png\n"
          ]
        },
        {
          "output_type": "stream",
          "name": "stderr",
          "text": [
            "\r 67%|██████▋   | 18/27 [00:34<00:16,  1.88s/it]"
          ]
        },
        {
          "output_type": "stream",
          "name": "stdout",
          "text": [
            "IDRiD_73\n",
            "255 1.0\n",
            " saving result files_demo_bv_0.35/IDRiD_73.png\n",
            " saving result files_demo_od_0.35/IDRiD_73.png\n",
            " saving result files_demo_ex_0.35/IDRiD_73.png\n"
          ]
        },
        {
          "output_type": "stream",
          "name": "stderr",
          "text": [
            "\r 70%|███████   | 19/27 [00:36<00:14,  1.86s/it]"
          ]
        },
        {
          "output_type": "stream",
          "name": "stdout",
          "text": [
            "IDRiD_74\n",
            "255 1.0\n",
            " saving result files_demo_bv_0.35/IDRiD_74.png\n",
            " saving result files_demo_od_0.35/IDRiD_74.png\n",
            " saving result files_demo_ex_0.35/IDRiD_74.png\n"
          ]
        },
        {
          "output_type": "stream",
          "name": "stderr",
          "text": [
            "\r 74%|███████▍  | 20/27 [00:38<00:12,  1.84s/it]"
          ]
        },
        {
          "output_type": "stream",
          "name": "stdout",
          "text": [
            "IDRiD_75\n",
            "255 1.0\n",
            " saving result files_demo_bv_0.35/IDRiD_75.png\n",
            " saving result files_demo_od_0.35/IDRiD_75.png\n",
            " saving result files_demo_ex_0.35/IDRiD_75.png\n"
          ]
        },
        {
          "output_type": "stream",
          "name": "stderr",
          "text": [
            "\r 78%|███████▊  | 21/27 [00:39<00:11,  1.84s/it]"
          ]
        },
        {
          "output_type": "stream",
          "name": "stdout",
          "text": [
            "IDRiD_76\n",
            "255 1.0\n",
            " saving result files_demo_bv_0.35/IDRiD_76.png\n",
            " saving result files_demo_od_0.35/IDRiD_76.png\n",
            " saving result files_demo_ex_0.35/IDRiD_76.png\n"
          ]
        },
        {
          "output_type": "stream",
          "name": "stderr",
          "text": [
            "\r 81%|████████▏ | 22/27 [00:41<00:09,  1.84s/it]"
          ]
        },
        {
          "output_type": "stream",
          "name": "stdout",
          "text": [
            "IDRiD_77\n",
            "255 1.0\n",
            " saving result files_demo_bv_0.35/IDRiD_77.png\n",
            " saving result files_demo_od_0.35/IDRiD_77.png\n",
            " saving result files_demo_ex_0.35/IDRiD_77.png\n"
          ]
        },
        {
          "output_type": "stream",
          "name": "stderr",
          "text": [
            "\r 85%|████████▌ | 23/27 [00:43<00:07,  1.91s/it]"
          ]
        },
        {
          "output_type": "stream",
          "name": "stdout",
          "text": [
            "IDRiD_78\n",
            "255 1.0\n",
            " saving result files_demo_bv_0.35/IDRiD_78.png\n",
            " saving result files_demo_od_0.35/IDRiD_78.png\n",
            " saving result files_demo_ex_0.35/IDRiD_78.png\n"
          ]
        },
        {
          "output_type": "stream",
          "name": "stderr",
          "text": [
            "\r 89%|████████▉ | 24/27 [00:45<00:05,  1.95s/it]"
          ]
        },
        {
          "output_type": "stream",
          "name": "stdout",
          "text": [
            "IDRiD_79\n",
            "255 1.0\n",
            " saving result files_demo_bv_0.35/IDRiD_79.png\n",
            " saving result files_demo_od_0.35/IDRiD_79.png\n",
            " saving result files_demo_ex_0.35/IDRiD_79.png\n"
          ]
        },
        {
          "output_type": "stream",
          "name": "stderr",
          "text": [
            "\r 93%|█████████▎| 25/27 [00:47<00:03,  1.97s/it]"
          ]
        },
        {
          "output_type": "stream",
          "name": "stdout",
          "text": [
            "IDRiD_80\n",
            "255 1.0\n",
            " saving result files_demo_bv_0.35/IDRiD_80.png\n",
            " saving result files_demo_od_0.35/IDRiD_80.png\n",
            " saving result files_demo_ex_0.35/IDRiD_80.png\n"
          ]
        },
        {
          "output_type": "stream",
          "name": "stderr",
          "text": [
            "\r 96%|█████████▋| 26/27 [00:49<00:01,  1.98s/it]"
          ]
        },
        {
          "output_type": "stream",
          "name": "stdout",
          "text": [
            "IDRiD_81\n",
            "255 1.0\n",
            " saving result files_demo_bv_0.35/IDRiD_81.png\n",
            " saving result files_demo_od_0.35/IDRiD_81.png\n",
            " saving result files_demo_ex_0.35/IDRiD_81.png\n"
          ]
        },
        {
          "output_type": "stream",
          "name": "stderr",
          "text": [
            "100%|██████████| 27/27 [00:51<00:00,  1.92s/it]"
          ]
        },
        {
          "output_type": "stream",
          "name": "stdout",
          "text": [
            "\n",
            "\n",
            "****** BV Metrics ******\n",
            "Threshold: 0.35\n",
            "Accuracy: 0.97848\n",
            "F1: 0.81115 (dice score)\n",
            "Jaccard: 0.68735\n",
            "Recall: 0.73127\n",
            "Precision: 0.92716\n",
            "AUC: 0.73127\n",
            "\n",
            "\n",
            "****** OD Metrics ******\n",
            "Threshold: 0.35\n",
            "Accuracy: 0.99824\n",
            "F1: 0.94602 (dice score)\n",
            "Jaccard: 0.90144\n",
            "Recall: 0.95463\n",
            "Precision: 0.94498\n",
            "AUC: 0.95463\n",
            "\n",
            "\n",
            "****** EX Metrics ******\n",
            "Threshold: 0.35\n",
            "Accuracy: 0.99446\n",
            "F1: 0.64286 (dice score)\n",
            "Jaccard: 0.49264\n",
            "Recall: 0.64403\n",
            "Precision: 0.92716\n",
            "AUC: 0.64403\n",
            "\n",
            "\n"
          ]
        },
        {
          "output_type": "stream",
          "name": "stderr",
          "text": [
            "\n"
          ]
        }
      ]
    },
    {
      "cell_type": "code",
      "source": [
        "from copy import deepcopy\n",
        "\n",
        "data_dir = \"new_data_augment\"\n",
        "od_channel, he_channel, ex_channel = 0, 1, 2\n",
        "\n",
        "threshold = 0.25\n",
        "\n",
        "od_result_dir = f\"files_demo_bv_{threshold}\"\n",
        "he_result_dir = f\"files_demo_od_{threshold}\"\n",
        "ex_result_dir = f\"files_demo_ex_{threshold}\"\n",
        "\n",
        "create_dir(od_result_dir)\n",
        "create_dir(he_result_dir)\n",
        "create_dir(ex_result_dir)\n",
        "\n",
        "model_dir = \"files\"\n",
        "\n",
        "\"\"\" Load the model \"\"\"\n",
        "model_file_name = f\"{model_dir}/model.h5\"\n",
        "print(model_file_name)\n",
        "# with CustomObjectScope({'iou': iou, 'dice_coef': dice_coef, 'dice_loss': dice_loss}):\n",
        "model = tf.keras.models.load_model(model_file_name, compile=False)\n",
        "\n",
        "\"\"\" Load the dataset \"\"\"\n",
        "# dataset_path = os.path.join(data_dir, \"test\")\n",
        "test_x, test_y = get_filenames_sorted(data_dir + \"/test/image/\", data_dir + \"/test/mask/\" )\n",
        "\n",
        "\"\"\" Make the prediction and calculate the metrics values \"\"\"\n",
        "SCORE_OD, SCORE_HE, SCORE_EX = [], [], []\n",
        "for x, y in tqdm(zip(test_x, test_y), total=len(test_x)):\n",
        "    \"\"\" Extracting name \"\"\"\n",
        "    name = x.rsplit(\"/\", 1)[1].rsplit(\".\", 1)[0]\n",
        "    print(name)\n",
        "\n",
        "    \"\"\" Read the image and mask \"\"\"\n",
        "    ori_x, x = read_image(x)\n",
        "    ori_y, y = read_mask(y)\n",
        "\n",
        "    \"\"\" Prediction \"\"\"\n",
        "    y_pred = model.predict(np.expand_dims(x, axis=0))[0]\n",
        "    y_pred_prob = deepcopy(y_pred)\n",
        "    y_pred = y_pred > threshold\n",
        "    y_pred = y_pred.astype(np.float32)\n",
        "\n",
        "    print(np.max(ori_y), np.max(y))\n",
        "\n",
        "    \"\"\" Saving the images \"\"\"\n",
        "    save_image_path_od = f\"{od_result_dir}/{name}.png\"\n",
        "    save_results(ori_x, ori_y, y_pred, save_image_path_od, od_channel)\n",
        "\n",
        "    save_image_path_he = f\"{he_result_dir}/{name}.png\"\n",
        "    save_results(ori_x, ori_y, y_pred, save_image_path_he, he_channel)\n",
        "\n",
        "    save_image_path_ex = f\"{ex_result_dir}/{name}.png\"\n",
        "    save_results(ori_x, ori_y, y_pred, save_image_path_ex, ex_channel)\n",
        "\n",
        "    #     \"\"\" Calculate the OD metrics \"\"\"\n",
        "    ma_pred = y_pred[:, :, od_channel].flatten()\n",
        "    ma_pred_prob = y_pred_prob[:, :, od_channel].flatten()\n",
        "    ma_gt = y[:, :, od_channel].flatten()\n",
        "    acc_value = accuracy_score(ma_gt > threshold, ma_pred>threshold)\n",
        "    f1_value = f1_score(ma_gt > threshold, ma_pred>threshold, labels=[0, 1], average=\"binary\")\n",
        "    jac_value = jaccard_score(ma_gt > threshold, ma_pred>threshold, labels=[0, 1], average=\"binary\")\n",
        "    recall_value = recall_score(ma_gt > threshold, ma_pred>threshold, labels=[0, 1], average=\"binary\")\n",
        "    recall_computed = np.sum((ma_gt > threshold) & (ma_pred > threshold)) / np.sum(ma_gt > threshold)\n",
        "    precision_value = precision_score(ma_gt > threshold, ma_pred>threshold, labels=[0, 1], average=\"binary\")\n",
        "    auc_score = auc(ma_gt > threshold, ma_pred_prob)\n",
        "    SCORE_OD.append([name, acc_value, f1_value, jac_value, recall_value, precision_value, recall_computed, auc_score])\n",
        "\n",
        "    #     \"\"\" Calculate the HE metrics \"\"\"\n",
        "    bv_pred = y_pred[:, :, he_channel].flatten()\n",
        "    bv_pred_prob = y_pred_prob[:, :, he_channel].flatten()\n",
        "    bv_gt = y[:, :, he_channel].flatten()\n",
        "    acc_value = accuracy_score(bv_gt > threshold, bv_pred>threshold)\n",
        "    f1_value = f1_score(bv_gt > threshold, bv_pred>threshold, labels=[0, 1], average=\"binary\")\n",
        "    jac_value = jaccard_score(bv_gt > threshold, bv_pred>threshold, labels=[0, 1], average=\"binary\")\n",
        "    recall_value = recall_score(bv_gt > threshold, bv_pred>threshold, labels=[0, 1], average=\"binary\")\n",
        "    recall_computed = np.sum((bv_gt > threshold) & (bv_pred > threshold)) / np.sum(bv_gt > threshold)\n",
        "    precision_value = precision_score(bv_gt > threshold, bv_pred>threshold, labels=[0, 1], average=\"binary\")\n",
        "    auc_score = auc(bv_gt > threshold, bv_pred_prob)\n",
        "    SCORE_HE.append([name, acc_value, f1_value, jac_value, recall_value, precision_value, recall_computed, auc_score])\n",
        "\n",
        "    #     \"\"\" Calculate the EX metrics \"\"\"\n",
        "    he_pred = y_pred[:, :, ex_channel].flatten()\n",
        "    he_pred_prob = y_pred_prob[:, :, ex_channel].flatten()\n",
        "    he_gt = y[:, :, ex_channel].flatten()\n",
        "    acc_value = accuracy_score(he_gt > threshold, he_pred>threshold)\n",
        "    f1_value = f1_score(he_gt > threshold, he_pred>threshold, labels=[0, 1], average=\"binary\")\n",
        "    jac_value = jaccard_score(he_gt > threshold, he_pred>threshold, labels=[0, 1], average=\"binary\")\n",
        "    recall_value = recall_score(he_gt > threshold, he_pred>threshold, labels=[0, 1], average=\"binary\")\n",
        "    recall_computed = np.sum((he_gt > threshold) & (he_pred > threshold)) / np.sum(he_gt > threshold)\n",
        "    precision_value = precision_score(ma_gt > threshold, ma_pred>threshold, labels=[0, 1], average=\"binary\")\n",
        "    auc_score = auc(he_gt > threshold, he_pred_prob)\n",
        "    SCORE_EX.append([name, acc_value, f1_value, jac_value, recall_value, precision_value, recall_computed, auc_score])\n",
        "    \n",
        "print(\"\\n\")\n",
        "\n",
        "for SCORE in [SCORE_OD, SCORE_HE, SCORE_EX]:\n",
        "    if SCORE == SCORE_OD:\n",
        "        print(\"****** BV Metrics ******\")\n",
        "        score = [s[1:] for s in SCORE]\n",
        "        score = np.mean(score, axis=0)\n",
        "        print(f\"Threshold:\", threshold)\n",
        "        print(f\"Accuracy: {score[0]:0.5f}\")\n",
        "        print(f\"F1: {score[1]:0.5f} (dice score)\")\n",
        "        print(f\"Jaccard: {score[2]:0.5f}\")\n",
        "        print(f\"Recall: {score[3]:0.5f}\")\n",
        "        print(f\"Precision: {score[4]:0.5f}\")\n",
        "        print(f\"AUC: {score[5]:0.5f}\")\n",
        "\n",
        "    elif SCORE == SCORE_HE:\n",
        "        print(\"****** OD Metrics ******\")\n",
        "        score = [s[1:] for s in SCORE]\n",
        "        score = np.mean(score, axis=0)\n",
        "        print(f\"Threshold:\", threshold)\n",
        "        print(f\"Accuracy: {score[0]:0.5f}\")\n",
        "        print(f\"F1: {score[1]:0.5f} (dice score)\")\n",
        "        print(f\"Jaccard: {score[2]:0.5f}\")\n",
        "        print(f\"Recall: {score[3]:0.5f}\")\n",
        "        print(f\"Precision: {score[4]:0.5f}\")\n",
        "        print(f\"AUC: {score[5]:0.5f}\")\n",
        "\n",
        "    else:\n",
        "        print(\"****** EX Metrics ******\")\n",
        "        score = [s[1:] for s in SCORE]\n",
        "        score = np.mean(score, axis=0)\n",
        "        print(f\"Threshold:\", threshold)\n",
        "        print(f\"Accuracy: {score[0]:0.5f}\")\n",
        "        print(f\"F1: {score[1]:0.5f} (dice score)\")\n",
        "        print(f\"Jaccard: {score[2]:0.5f}\")\n",
        "        print(f\"Recall: {score[3]:0.5f}\")\n",
        "        print(f\"Precision: {score[4]:0.5f}\")\n",
        "        print(f\"AUC: {score[5]:0.5f}\")\n",
        "\n",
        "    # \"\"\" Saving \"\"\"\n",
        "    if SCORE == SCORE_OD:\n",
        "        df = pd.DataFrame(SCORE, columns=[\"Image\", \"Acc\", \"F1\", \"Jaccard\", \"Recall\", \"Precision\", \"Recall Computed\", \"AUC\"])\n",
        "        df.to_csv(f\"{od_result_dir}/score.csv\")\n",
        "\n",
        "    elif SCORE == SCORE_HE:\n",
        "        df = pd.DataFrame(SCORE, columns=[\"Image\", \"Acc\", \"F1\", \"Jaccard\", \"Recall\", \"Precision\", \"Recall Computed\", \"AUC\"])\n",
        "        df.to_csv(f\"{he_result_dir}/score.csv\")\n",
        "    else:\n",
        "        df = pd.DataFrame(SCORE, columns=[\"Image\", \"Acc\", \"F1\", \"Jaccard\", \"Recall\", \"Precision\", \"Recall Computed\", \"AUC\"])\n",
        "        df.to_csv(f\"{ex_result_dir}/score.csv\")\n",
        "    print(\"\\n\")"
      ],
      "metadata": {
        "colab": {
          "base_uri": "https://localhost:8080/"
        },
        "id": "qwrkOVmJGD_I",
        "outputId": "58d08a27-f54a-48e8-b3ec-0a56b5b39cc3"
      },
      "execution_count": null,
      "outputs": [
        {
          "output_type": "stream",
          "name": "stdout",
          "text": [
            "files/model.h5\n"
          ]
        },
        {
          "output_type": "stream",
          "name": "stderr",
          "text": [
            "\r  0%|          | 0/27 [00:00<?, ?it/s]"
          ]
        },
        {
          "output_type": "stream",
          "name": "stdout",
          "text": [
            "IDRiD_55\n",
            "255 1.0\n",
            " saving result files_demo_bv_0.25/IDRiD_55.png\n",
            " saving result files_demo_od_0.25/IDRiD_55.png\n",
            " saving result files_demo_ex_0.25/IDRiD_55.png\n"
          ]
        },
        {
          "output_type": "stream",
          "name": "stderr",
          "text": [
            "\r  4%|▎         | 1/27 [00:03<01:33,  3.58s/it]"
          ]
        },
        {
          "output_type": "stream",
          "name": "stdout",
          "text": [
            "IDRiD_56\n",
            "255 1.0\n",
            " saving result files_demo_bv_0.25/IDRiD_56.png\n",
            " saving result files_demo_od_0.25/IDRiD_56.png\n",
            " saving result files_demo_ex_0.25/IDRiD_56.png\n"
          ]
        },
        {
          "output_type": "stream",
          "name": "stderr",
          "text": [
            "\r  7%|▋         | 2/27 [00:06<01:19,  3.17s/it]"
          ]
        },
        {
          "output_type": "stream",
          "name": "stdout",
          "text": [
            "IDRiD_57\n",
            "255 1.0\n",
            " saving result files_demo_bv_0.25/IDRiD_57.png\n",
            " saving result files_demo_od_0.25/IDRiD_57.png\n",
            " saving result files_demo_ex_0.25/IDRiD_57.png\n"
          ]
        },
        {
          "output_type": "stream",
          "name": "stderr",
          "text": [
            "\r 11%|█         | 3/27 [00:09<01:10,  2.93s/it]"
          ]
        },
        {
          "output_type": "stream",
          "name": "stdout",
          "text": [
            "IDRiD_58\n",
            "255 1.0\n",
            " saving result files_demo_bv_0.25/IDRiD_58.png\n",
            " saving result files_demo_od_0.25/IDRiD_58.png\n",
            " saving result files_demo_ex_0.25/IDRiD_58.png\n"
          ]
        },
        {
          "output_type": "stream",
          "name": "stderr",
          "text": [
            "\r 15%|█▍        | 4/27 [00:12<01:07,  2.92s/it]"
          ]
        },
        {
          "output_type": "stream",
          "name": "stdout",
          "text": [
            "IDRiD_59\n",
            "255 1.0\n",
            " saving result files_demo_bv_0.25/IDRiD_59.png\n",
            " saving result files_demo_od_0.25/IDRiD_59.png\n",
            " saving result files_demo_ex_0.25/IDRiD_59.png\n"
          ]
        },
        {
          "output_type": "stream",
          "name": "stderr",
          "text": [
            "\r 19%|█▊        | 5/27 [00:14<01:03,  2.87s/it]"
          ]
        },
        {
          "output_type": "stream",
          "name": "stdout",
          "text": [
            "IDRiD_60\n",
            "255 1.0\n",
            " saving result files_demo_bv_0.25/IDRiD_60.png\n",
            " saving result files_demo_od_0.25/IDRiD_60.png\n",
            " saving result files_demo_ex_0.25/IDRiD_60.png\n"
          ]
        },
        {
          "output_type": "stream",
          "name": "stderr",
          "text": [
            "\r 22%|██▏       | 6/27 [00:17<00:58,  2.78s/it]"
          ]
        },
        {
          "output_type": "stream",
          "name": "stdout",
          "text": [
            "IDRiD_61\n",
            "255 1.0\n",
            " saving result files_demo_bv_0.25/IDRiD_61.png\n",
            " saving result files_demo_od_0.25/IDRiD_61.png\n",
            " saving result files_demo_ex_0.25/IDRiD_61.png\n"
          ]
        },
        {
          "output_type": "stream",
          "name": "stderr",
          "text": [
            "\r 26%|██▌       | 7/27 [00:19<00:48,  2.45s/it]"
          ]
        },
        {
          "output_type": "stream",
          "name": "stdout",
          "text": [
            "IDRiD_62\n",
            "255 1.0\n",
            " saving result files_demo_bv_0.25/IDRiD_62.png\n",
            " saving result files_demo_od_0.25/IDRiD_62.png\n",
            " saving result files_demo_ex_0.25/IDRiD_62.png\n"
          ]
        },
        {
          "output_type": "stream",
          "name": "stderr",
          "text": [
            "\r 30%|██▉       | 8/27 [00:20<00:42,  2.24s/it]"
          ]
        },
        {
          "output_type": "stream",
          "name": "stdout",
          "text": [
            "IDRiD_63\n",
            "255 1.0\n",
            " saving result files_demo_bv_0.25/IDRiD_63.png\n",
            " saving result files_demo_od_0.25/IDRiD_63.png\n",
            " saving result files_demo_ex_0.25/IDRiD_63.png\n"
          ]
        },
        {
          "output_type": "stream",
          "name": "stderr",
          "text": [
            "\r 33%|███▎      | 9/27 [00:22<00:39,  2.17s/it]"
          ]
        },
        {
          "output_type": "stream",
          "name": "stdout",
          "text": [
            "IDRiD_64\n",
            "255 1.0\n",
            " saving result files_demo_bv_0.25/IDRiD_64.png\n",
            " saving result files_demo_od_0.25/IDRiD_64.png\n",
            " saving result files_demo_ex_0.25/IDRiD_64.png\n"
          ]
        },
        {
          "output_type": "stream",
          "name": "stderr",
          "text": [
            "\r 37%|███▋      | 10/27 [00:24<00:35,  2.07s/it]"
          ]
        },
        {
          "output_type": "stream",
          "name": "stdout",
          "text": [
            "IDRiD_65\n",
            "255 1.0\n",
            " saving result files_demo_bv_0.25/IDRiD_65.png\n",
            " saving result files_demo_od_0.25/IDRiD_65.png\n",
            " saving result files_demo_ex_0.25/IDRiD_65.png\n"
          ]
        },
        {
          "output_type": "stream",
          "name": "stderr",
          "text": [
            "\r 41%|████      | 11/27 [00:26<00:32,  2.01s/it]"
          ]
        },
        {
          "output_type": "stream",
          "name": "stdout",
          "text": [
            "IDRiD_66\n",
            "255 1.0\n",
            " saving result files_demo_bv_0.25/IDRiD_66.png\n",
            " saving result files_demo_od_0.25/IDRiD_66.png\n",
            " saving result files_demo_ex_0.25/IDRiD_66.png\n"
          ]
        },
        {
          "output_type": "stream",
          "name": "stderr",
          "text": [
            "\r 44%|████▍     | 12/27 [00:28<00:30,  2.02s/it]"
          ]
        },
        {
          "output_type": "stream",
          "name": "stdout",
          "text": [
            "IDRiD_67\n",
            "255 1.0\n",
            " saving result files_demo_bv_0.25/IDRiD_67.png\n",
            " saving result files_demo_od_0.25/IDRiD_67.png\n",
            " saving result files_demo_ex_0.25/IDRiD_67.png\n"
          ]
        },
        {
          "output_type": "stream",
          "name": "stderr",
          "text": [
            "\r 48%|████▊     | 13/27 [00:30<00:28,  2.01s/it]"
          ]
        },
        {
          "output_type": "stream",
          "name": "stdout",
          "text": [
            "IDRiD_68\n",
            "255 1.0\n",
            " saving result files_demo_bv_0.25/IDRiD_68.png\n",
            " saving result files_demo_od_0.25/IDRiD_68.png\n",
            " saving result files_demo_ex_0.25/IDRiD_68.png\n"
          ]
        },
        {
          "output_type": "stream",
          "name": "stderr",
          "text": [
            "\r 52%|█████▏    | 14/27 [00:32<00:25,  1.96s/it]"
          ]
        },
        {
          "output_type": "stream",
          "name": "stdout",
          "text": [
            "IDRiD_69\n",
            "255 1.0\n",
            " saving result files_demo_bv_0.25/IDRiD_69.png\n",
            " saving result files_demo_od_0.25/IDRiD_69.png\n",
            " saving result files_demo_ex_0.25/IDRiD_69.png\n"
          ]
        },
        {
          "output_type": "stream",
          "name": "stderr",
          "text": [
            "\r 56%|█████▌    | 15/27 [00:34<00:23,  1.97s/it]"
          ]
        },
        {
          "output_type": "stream",
          "name": "stdout",
          "text": [
            "IDRiD_70\n",
            "255 1.0\n",
            " saving result files_demo_bv_0.25/IDRiD_70.png\n",
            " saving result files_demo_od_0.25/IDRiD_70.png\n",
            " saving result files_demo_ex_0.25/IDRiD_70.png\n"
          ]
        },
        {
          "output_type": "stream",
          "name": "stderr",
          "text": [
            "\r 59%|█████▉    | 16/27 [00:36<00:21,  1.93s/it]"
          ]
        },
        {
          "output_type": "stream",
          "name": "stdout",
          "text": [
            "IDRiD_71\n",
            "255 1.0\n",
            " saving result files_demo_bv_0.25/IDRiD_71.png\n",
            " saving result files_demo_od_0.25/IDRiD_71.png\n",
            " saving result files_demo_ex_0.25/IDRiD_71.png\n"
          ]
        },
        {
          "output_type": "stream",
          "name": "stderr",
          "text": [
            "\r 63%|██████▎   | 17/27 [00:38<00:19,  1.95s/it]"
          ]
        },
        {
          "output_type": "stream",
          "name": "stdout",
          "text": [
            "IDRiD_72\n",
            "255 1.0\n",
            " saving result files_demo_bv_0.25/IDRiD_72.png\n",
            " saving result files_demo_od_0.25/IDRiD_72.png\n",
            " saving result files_demo_ex_0.25/IDRiD_72.png\n"
          ]
        },
        {
          "output_type": "stream",
          "name": "stderr",
          "text": [
            "\r 67%|██████▋   | 18/27 [00:40<00:17,  1.92s/it]"
          ]
        },
        {
          "output_type": "stream",
          "name": "stdout",
          "text": [
            "IDRiD_73\n",
            "255 1.0\n",
            " saving result files_demo_bv_0.25/IDRiD_73.png\n",
            " saving result files_demo_od_0.25/IDRiD_73.png\n",
            " saving result files_demo_ex_0.25/IDRiD_73.png\n"
          ]
        },
        {
          "output_type": "stream",
          "name": "stderr",
          "text": [
            "\r 70%|███████   | 19/27 [00:42<00:15,  1.90s/it]"
          ]
        },
        {
          "output_type": "stream",
          "name": "stdout",
          "text": [
            "IDRiD_74\n",
            "255 1.0\n",
            " saving result files_demo_bv_0.25/IDRiD_74.png\n",
            " saving result files_demo_od_0.25/IDRiD_74.png\n",
            " saving result files_demo_ex_0.25/IDRiD_74.png\n"
          ]
        },
        {
          "output_type": "stream",
          "name": "stderr",
          "text": [
            "\r 74%|███████▍  | 20/27 [00:43<00:13,  1.88s/it]"
          ]
        },
        {
          "output_type": "stream",
          "name": "stdout",
          "text": [
            "IDRiD_75\n",
            "255 1.0\n",
            " saving result files_demo_bv_0.25/IDRiD_75.png\n",
            " saving result files_demo_od_0.25/IDRiD_75.png\n",
            " saving result files_demo_ex_0.25/IDRiD_75.png\n"
          ]
        },
        {
          "output_type": "stream",
          "name": "stderr",
          "text": [
            "\r 78%|███████▊  | 21/27 [00:45<00:11,  1.87s/it]"
          ]
        },
        {
          "output_type": "stream",
          "name": "stdout",
          "text": [
            "IDRiD_76\n",
            "255 1.0\n",
            " saving result files_demo_bv_0.25/IDRiD_76.png\n",
            " saving result files_demo_od_0.25/IDRiD_76.png\n",
            " saving result files_demo_ex_0.25/IDRiD_76.png\n"
          ]
        },
        {
          "output_type": "stream",
          "name": "stderr",
          "text": [
            "\r 81%|████████▏ | 22/27 [00:47<00:09,  1.93s/it]"
          ]
        },
        {
          "output_type": "stream",
          "name": "stdout",
          "text": [
            "IDRiD_77\n",
            "255 1.0\n",
            " saving result files_demo_bv_0.25/IDRiD_77.png\n",
            " saving result files_demo_od_0.25/IDRiD_77.png\n",
            " saving result files_demo_ex_0.25/IDRiD_77.png\n"
          ]
        },
        {
          "output_type": "stream",
          "name": "stderr",
          "text": [
            "\r 85%|████████▌ | 23/27 [00:49<00:07,  1.96s/it]"
          ]
        },
        {
          "output_type": "stream",
          "name": "stdout",
          "text": [
            "IDRiD_78\n",
            "255 1.0\n",
            " saving result files_demo_bv_0.25/IDRiD_78.png\n",
            " saving result files_demo_od_0.25/IDRiD_78.png\n",
            " saving result files_demo_ex_0.25/IDRiD_78.png\n"
          ]
        },
        {
          "output_type": "stream",
          "name": "stderr",
          "text": [
            "\r 89%|████████▉ | 24/27 [00:51<00:05,  1.92s/it]"
          ]
        },
        {
          "output_type": "stream",
          "name": "stdout",
          "text": [
            "IDRiD_79\n",
            "255 1.0\n",
            " saving result files_demo_bv_0.25/IDRiD_79.png\n",
            " saving result files_demo_od_0.25/IDRiD_79.png\n",
            " saving result files_demo_ex_0.25/IDRiD_79.png\n"
          ]
        },
        {
          "output_type": "stream",
          "name": "stderr",
          "text": [
            "\r 93%|█████████▎| 25/27 [00:53<00:03,  1.89s/it]"
          ]
        },
        {
          "output_type": "stream",
          "name": "stdout",
          "text": [
            "IDRiD_80\n",
            "255 1.0\n",
            " saving result files_demo_bv_0.25/IDRiD_80.png\n",
            " saving result files_demo_od_0.25/IDRiD_80.png\n",
            " saving result files_demo_ex_0.25/IDRiD_80.png\n"
          ]
        },
        {
          "output_type": "stream",
          "name": "stderr",
          "text": [
            "\r 96%|█████████▋| 26/27 [00:55<00:01,  1.86s/it]"
          ]
        },
        {
          "output_type": "stream",
          "name": "stdout",
          "text": [
            "IDRiD_81\n",
            "255 1.0\n",
            " saving result files_demo_bv_0.25/IDRiD_81.png\n",
            " saving result files_demo_od_0.25/IDRiD_81.png\n",
            " saving result files_demo_ex_0.25/IDRiD_81.png\n"
          ]
        },
        {
          "output_type": "stream",
          "name": "stderr",
          "text": [
            "100%|██████████| 27/27 [00:57<00:00,  2.13s/it]"
          ]
        },
        {
          "output_type": "stream",
          "name": "stdout",
          "text": [
            "\n",
            "\n",
            "****** BV Metrics ******\n",
            "Threshold: 0.25\n",
            "Accuracy: 0.97426\n",
            "F1: 0.79649 (dice score)\n",
            "Jaccard: 0.66709\n",
            "Recall: 0.69139\n",
            "Precision: 0.95413\n",
            "AUC: 0.69139\n",
            "\n",
            "\n",
            "****** OD Metrics ******\n",
            "Threshold: 0.25\n",
            "Accuracy: 0.99818\n",
            "F1: 0.94512 (dice score)\n",
            "Jaccard: 0.89979\n",
            "Recall: 0.95686\n",
            "Precision: 0.94096\n",
            "AUC: 0.95686\n",
            "\n",
            "\n",
            "****** EX Metrics ******\n",
            "Threshold: 0.25\n",
            "Accuracy: 0.99417\n",
            "F1: 0.65002 (dice score)\n",
            "Jaccard: 0.50161\n",
            "Recall: 0.63260\n",
            "Precision: 0.95413\n",
            "AUC: 0.63260\n",
            "\n",
            "\n"
          ]
        },
        {
          "output_type": "stream",
          "name": "stderr",
          "text": [
            "\n"
          ]
        }
      ]
    }
  ],
  "metadata": {
    "accelerator": "GPU",
    "colab": {
      "collapsed_sections": [],
      "name": "BV_OD_EX_Combined_DiceBCE.ipynb",
      "provenance": []
    },
    "kernelspec": {
      "display_name": "Python 3",
      "name": "python3"
    },
    "language_info": {
      "name": "python"
    }
  },
  "nbformat": 4,
  "nbformat_minor": 0
}